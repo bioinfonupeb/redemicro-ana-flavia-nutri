{
 "cells": [
  {
   "cell_type": "markdown",
   "id": "5e1216a7",
   "metadata": {
    "papermill": {
     "duration": 0.016405,
     "end_time": "2022-08-01T18:37:11.115916",
     "exception": false,
     "start_time": "2022-08-01T18:37:11.099511",
     "status": "completed"
    },
    "tags": []
   },
   "source": [
    "### STEP : Taxonomic assignment\n",
    "#### Taxonomic assignment with Silva 16S\n",
    "\n",
    "Using Silva 16S classifier for Qiime2. List with all [classifiers](https://docs.qiime2.org/2020.6/data-resources/). \n",
    "\n",
    "#### Versions \n",
    "- [Silva 138 99% OTUs full-length sequences](https://data.qiime2.org/2020.6/common/silva-138-99-nb-classifier.qza)\n",
    "- [Silva 138 99% OTUs from 515F/806R region of sequences](https://data.qiime2.org/2020.6/common/silva-138-99-515-806-nb-classifier.qza)\n",
    "- [Greengenes 13_8 99% OTUs full-length sequences](https://data.qiime2.org/2020.6/common/gg-13-8-99-nb-classifier.qza)\n",
    "- [Greengenes 13_8 99% OTUs from 515F/806R region of sequences](https://data.qiime2.org/2020.6/common/gg-13-8-99-515-806-nb-classifier.qza)\n",
    "\n",
    "#### Methods\n",
    "- [qiime feature-classifier](https://docs.qiime2.org/2022.2/plugins/available/feature-classifier/)\n",
    "- [qiime feature-classifier classify-sklearn](https://docs.qiime2.org/2021.8/plugins/available/feature-classifier/classify-sklearn)\n",
    "- [qiime metadata](https://docs.qiime2.org/2022.2/plugins/available/metadata/)\n",
    "- [classify-hybrid-vsearch-sklearn](https://docs.qiime2.org/2022.2/plugins/available/feature-classifier/classify-hybrid-vsearch-sklearn/)\n",
    "- [qiime metadata tabulate](https://docs.qiime2.org/2022.2/plugins/available/metadata/tabulate/)\n",
    "- [qiime taxa](https://docs.qiime2.org/2022.2/plugins/available/taxa/)\n",
    "- [qiime taxa barplot](https://docs.qiime2.org/2022.2/plugins/available/taxa/barplot/)"
   ]
  },
  {
   "cell_type": "markdown",
   "id": "0117cf0b",
   "metadata": {
    "papermill": {
     "duration": 0.012088,
     "end_time": "2022-08-01T18:37:11.144530",
     "exception": false,
     "start_time": "2022-08-01T18:37:11.132442",
     "status": "completed"
    },
    "tags": []
   },
   "source": [
    "## Setup and settings"
   ]
  },
  {
   "cell_type": "code",
   "execution_count": 1,
   "id": "a90a5c0e",
   "metadata": {
    "ExecuteTime": {
     "end_time": "2022-07-07T16:42:59.634683Z",
     "start_time": "2022-07-07T16:42:53.180558Z"
    },
    "execution": {
     "iopub.execute_input": "2022-08-01T18:37:11.165255Z",
     "iopub.status.busy": "2022-08-01T18:37:11.164733Z",
     "iopub.status.idle": "2022-08-01T18:37:17.300831Z",
     "shell.execute_reply": "2022-08-01T18:37:17.300258Z"
    },
    "papermill": {
     "duration": 6.150036,
     "end_time": "2022-08-01T18:37:17.304077",
     "exception": false,
     "start_time": "2022-08-01T18:37:11.154041",
     "status": "completed"
    },
    "tags": []
   },
   "outputs": [],
   "source": [
    "# Importing packages\n",
    "import os\n",
    "from qiime2 import Artifact\n",
    "from qiime2 import Visualization\n",
    "from qiime2 import Metadata\n",
    "import qiime2.plugins.metadata.actions as metadata_actions\n",
    "\n",
    "from qiime2.plugins import feature_classifier\n",
    "from qiime2.plugins import metadata\n",
    "from qiime2.plugins import taxa\n",
    "\n",
    "import matplotlib.pyplot as plt\n",
    "\n",
    "from utils import *\n",
    "\n",
    "%matplotlib inline"
   ]
  },
  {
   "cell_type": "code",
   "execution_count": 2,
   "id": "c3d5a526",
   "metadata": {
    "ExecuteTime": {
     "end_time": "2022-06-01T18:53:42.633668Z",
     "start_time": "2022-06-01T18:53:37.822470Z"
    },
    "execution": {
     "iopub.execute_input": "2022-08-01T18:37:17.333626Z",
     "iopub.status.busy": "2022-08-01T18:37:17.333373Z",
     "iopub.status.idle": "2022-08-01T18:37:18.759222Z",
     "shell.execute_reply": "2022-08-01T18:37:18.757420Z"
    },
    "papermill": {
     "duration": 1.442698,
     "end_time": "2022-08-01T18:37:18.762633",
     "exception": false,
     "start_time": "2022-08-01T18:37:17.319935",
     "status": "completed"
    },
    "tags": []
   },
   "outputs": [
    {
     "name": "stdout",
     "output_type": "stream",
     "text": [
      "Requirement already satisfied: scikit-learn==0.23.1 in /home/lauro/anaconda3/envs/qiime2-2022.2/lib/python3.8/site-packages (0.23.1)\r\n",
      "Requirement already satisfied: numpy>=1.13.3 in /home/lauro/anaconda3/envs/qiime2-2022.2/lib/python3.8/site-packages (from scikit-learn==0.23.1) (1.22.2)\r\n",
      "Requirement already satisfied: scipy>=0.19.1 in /home/lauro/anaconda3/envs/qiime2-2022.2/lib/python3.8/site-packages (from scikit-learn==0.23.1) (1.8.0)\r\n"
     ]
    },
    {
     "name": "stdout",
     "output_type": "stream",
     "text": [
      "Requirement already satisfied: joblib>=0.11 in /home/lauro/anaconda3/envs/qiime2-2022.2/lib/python3.8/site-packages (from scikit-learn==0.23.1) (1.1.0)\r\n",
      "Requirement already satisfied: threadpoolctl>=2.0.0 in /home/lauro/anaconda3/envs/qiime2-2022.2/lib/python3.8/site-packages (from scikit-learn==0.23.1) (3.1.0)\r\n"
     ]
    },
    {
     "name": "stdout",
     "output_type": "stream",
     "text": [
      "Note: you may need to restart the kernel to use updated packages.\n"
     ]
    }
   ],
   "source": [
    "%pip install --user 'scikit-learn==0.23.1'"
   ]
  },
  {
   "cell_type": "code",
   "execution_count": 3,
   "id": "e705b465",
   "metadata": {
    "ExecuteTime": {
     "end_time": "2022-06-01T18:53:42.641562Z",
     "start_time": "2022-06-01T18:53:42.637484Z"
    },
    "execution": {
     "iopub.execute_input": "2022-08-01T18:37:18.789760Z",
     "iopub.status.busy": "2022-08-01T18:37:18.789553Z",
     "iopub.status.idle": "2022-08-01T18:37:18.792738Z",
     "shell.execute_reply": "2022-08-01T18:37:18.792215Z"
    },
    "papermill": {
     "duration": 0.016635,
     "end_time": "2022-08-01T18:37:18.794603",
     "exception": false,
     "start_time": "2022-08-01T18:37:18.777968",
     "status": "completed"
    },
    "tags": []
   },
   "outputs": [],
   "source": [
    "# from qiime2.plugins import demux, deblur, quality_filter, \\\n",
    "#                            metadata, feature_table, alignment, \\\n",
    "#                            phylogeny, diversity, emperor, feature_classifier, \\\n",
    "#                            taxa, composition"
   ]
  },
  {
   "cell_type": "markdown",
   "id": "2f0c2e28",
   "metadata": {
    "papermill": {
     "duration": 0.013874,
     "end_time": "2022-08-01T18:37:18.822974",
     "exception": false,
     "start_time": "2022-08-01T18:37:18.809100",
     "status": "completed"
    },
    "tags": []
   },
   "source": [
    "### Receiving the parameters\n",
    "\n",
    "The following cell can receive parameters using the [papermill](https://papermill.readthedocs.io/en/latest/) tool."
   ]
  },
  {
   "cell_type": "code",
   "execution_count": 4,
   "id": "a7843da5",
   "metadata": {
    "ExecuteTime": {
     "end_time": "2022-07-07T16:42:59.640401Z",
     "start_time": "2022-07-07T16:42:59.636746Z"
    },
    "execution": {
     "iopub.execute_input": "2022-08-01T18:37:18.845467Z",
     "iopub.status.busy": "2022-08-01T18:37:18.845152Z",
     "iopub.status.idle": "2022-08-01T18:37:18.851010Z",
     "shell.execute_reply": "2022-08-01T18:37:18.850289Z"
    },
    "papermill": {
     "duration": 0.019024,
     "end_time": "2022-08-01T18:37:18.852484",
     "exception": false,
     "start_time": "2022-08-01T18:37:18.833460",
     "status": "completed"
    },
    "tags": [
     "parameters"
    ]
   },
   "outputs": [],
   "source": [
    "metadata_file = os.path.abspath(os.path.join(os.getcwd(), '..', 'data', 'raw', 'metadata', 'not-hist-feces-metadata.tsv'))\n",
    "base_dir = os.path.join('/', 'home', 'lauro', 'nupeb', 'redemicro')\n",
    "experiment_name = 'ana-flavia-superlactacao'\n",
    "threads = 6\n",
    "replace_files = False"
   ]
  },
  {
   "cell_type": "code",
   "execution_count": 5,
   "id": "49972ff7",
   "metadata": {
    "execution": {
     "iopub.execute_input": "2022-08-01T18:37:18.876570Z",
     "iopub.status.busy": "2022-08-01T18:37:18.876260Z",
     "iopub.status.idle": "2022-08-01T18:37:18.881960Z",
     "shell.execute_reply": "2022-08-01T18:37:18.881196Z"
    },
    "papermill": {
     "duration": 0.019757,
     "end_time": "2022-08-01T18:37:18.883574",
     "exception": false,
     "start_time": "2022-08-01T18:37:18.863817",
     "status": "completed"
    },
    "tags": [
     "injected-parameters"
    ]
   },
   "outputs": [],
   "source": [
    "# Parameters\n",
    "experiment_name = \"ana-flavia-STD-NCxSTD-NR\"\n",
    "base_dir = \"/home/lauro/nupeb/rede-micro/redemicro-ana-flavia-nutri\"\n",
    "manifest_file = \"/home/lauro/nupeb/rede-micro/redemicro-ana-flavia-nutri/data/raw/manifest/manifest-ana-flavia-STD-NCxSTD-NR.csv\"\n",
    "metadata_file = \"/home/lauro/nupeb/rede-micro/redemicro-ana-flavia-nutri/data/raw/metadata/metadata-ana-flavia-STD-NCxSTD-NR.tsv\"\n",
    "class_col = \"sample-group\"\n",
    "classifier_file = \"/home/lauro/nupeb/dados_brutos_rede_genoma/16S_classifiers_qiime2/silva-138-99-nb-classifier.qza\"\n",
    "replace_files = False\n",
    "phred = 20\n",
    "trunc_f = 0\n",
    "trunc_r = 0\n",
    "overlap = 12\n",
    "threads = 6\n"
   ]
  },
  {
   "cell_type": "code",
   "execution_count": 6,
   "id": "7cd5ae8d",
   "metadata": {
    "execution": {
     "iopub.execute_input": "2022-08-01T18:37:18.907409Z",
     "iopub.status.busy": "2022-08-01T18:37:18.907099Z",
     "iopub.status.idle": "2022-08-01T18:37:18.911843Z",
     "shell.execute_reply": "2022-08-01T18:37:18.911130Z"
    },
    "papermill": {
     "duration": 0.017971,
     "end_time": "2022-08-01T18:37:18.913347",
     "exception": false,
     "start_time": "2022-08-01T18:37:18.895376",
     "status": "completed"
    },
    "tags": []
   },
   "outputs": [],
   "source": [
    "experiment_folder = os.path.abspath(os.path.join(base_dir, 'experiments', experiment_name))\n",
    "img_folder = os.path.abspath(os.path.join(experiment_folder, 'imgs'))"
   ]
  },
  {
   "cell_type": "markdown",
   "id": "7861146d",
   "metadata": {
    "papermill": {
     "duration": 0.011145,
     "end_time": "2022-08-01T18:37:18.936008",
     "exception": false,
     "start_time": "2022-08-01T18:37:18.924863",
     "status": "completed"
    },
    "tags": []
   },
   "source": [
    "### Defining names, paths and flags"
   ]
  },
  {
   "cell_type": "code",
   "execution_count": 7,
   "id": "6e7fff4a",
   "metadata": {
    "ExecuteTime": {
     "end_time": "2022-07-07T16:43:01.373756Z",
     "start_time": "2022-07-07T16:43:01.364331Z"
    },
    "execution": {
     "iopub.execute_input": "2022-08-01T18:37:18.958894Z",
     "iopub.status.busy": "2022-08-01T18:37:18.958518Z",
     "iopub.status.idle": "2022-08-01T18:37:18.968334Z",
     "shell.execute_reply": "2022-08-01T18:37:18.967550Z"
    },
    "papermill": {
     "duration": 0.023694,
     "end_time": "2022-08-01T18:37:18.970202",
     "exception": false,
     "start_time": "2022-08-01T18:37:18.946508",
     "status": "completed"
    },
    "tags": []
   },
   "outputs": [],
   "source": [
    "# QIIME2 Artifacts folder\n",
    "qiime_folder = os.path.join(experiment_folder, 'qiime-artifacts')\n",
    "\n",
    "# Input - DADA2 Artifacts\n",
    "dada2_tabs_path = os.path.join(qiime_folder, 'dada2-tabs.qza')\n",
    "dada2_reps_path = os.path.join(qiime_folder, 'dada2-reps.qza')\n",
    "dada2_stat_path = os.path.join(qiime_folder, 'dada2-stat.qza')\n",
    "\n",
    "# Input - DADA2 Artifacts\n",
    "classifier_path = os.path.abspath(os.path.join(os.getcwd(), '..', 'models', 'silva-138-99-nb-classifier.qza'))\n",
    "# 'silva-138-99-nb-classifier.qza'\n",
    "\n",
    "# Output - Metataxonomy Artifact\n",
    "metatax_path = os.path.join(qiime_folder, 'metatax.qza')\n",
    "metatax_view_path = os.path.join(qiime_folder, 'metatax.qzv')\n",
    "metatax_bar_path = os.path.join(qiime_folder, 'metatax-bar.qzv')\n",
    "\n",
    "# Flag - Load or create files\n",
    "need_tax = not (os.path.isfile(metatax_path)) or replace_files\n",
    "need_view = not (os.path.isfile(metatax_view_path) or os.path.isfile(metatax_bar_path)) or replace_files"
   ]
  },
  {
   "cell_type": "markdown",
   "id": "2dafcf14",
   "metadata": {
    "papermill": {
     "duration": 0.010589,
     "end_time": "2022-08-01T18:37:18.993288",
     "exception": false,
     "start_time": "2022-08-01T18:37:18.982699",
     "status": "completed"
    },
    "tags": []
   },
   "source": [
    "## Step execution\n",
    "\n",
    "### Load input files\n",
    "\n",
    "This Step import the QIIME2 `SampleData[PairedEndSequencesWithQuality]` Artifact with all demultiplexed sequences and the `Metadata` file."
   ]
  },
  {
   "cell_type": "code",
   "execution_count": 8,
   "id": "29d5e756",
   "metadata": {
    "ExecuteTime": {
     "end_time": "2022-06-01T18:53:42.788111Z",
     "start_time": "2022-06-01T18:53:42.695110Z"
    },
    "execution": {
     "iopub.execute_input": "2022-08-01T18:37:19.020242Z",
     "iopub.status.busy": "2022-08-01T18:37:19.020044Z",
     "iopub.status.idle": "2022-08-01T18:37:19.037724Z",
     "shell.execute_reply": "2022-08-01T18:37:19.037176Z"
    },
    "papermill": {
     "duration": 0.031672,
     "end_time": "2022-08-01T18:37:19.039934",
     "exception": false,
     "start_time": "2022-08-01T18:37:19.008262",
     "status": "completed"
    },
    "tags": []
   },
   "outputs": [],
   "source": [
    "metadata_qa = Metadata.load(metadata_file)"
   ]
  },
  {
   "cell_type": "code",
   "execution_count": 9,
   "id": "06acd3b4",
   "metadata": {
    "ExecuteTime": {
     "end_time": "2022-06-01T18:53:42.920863Z",
     "start_time": "2022-06-01T18:53:42.790999Z"
    },
    "execution": {
     "iopub.execute_input": "2022-08-01T18:37:19.067125Z",
     "iopub.status.busy": "2022-08-01T18:37:19.066856Z",
     "iopub.status.idle": "2022-08-01T18:43:44.202736Z",
     "shell.execute_reply": "2022-08-01T18:43:44.202061Z"
    },
    "papermill": {
     "duration": 385.150419,
     "end_time": "2022-08-01T18:43:44.205295",
     "exception": false,
     "start_time": "2022-08-01T18:37:19.054876",
     "status": "completed"
    },
    "scrolled": true,
    "tags": []
   },
   "outputs": [],
   "source": [
    "if not need_tax:\n",
    "    \n",
    "    # Load FeatureData[Taxonomy]\n",
    "    metatax = Artifact.load(metatax_path)\n",
    "    \n",
    "else:\n",
    "    \n",
    "    # Load TaxonomicClassifier Artifact\n",
    "    classifier = Artifact.load(classifier_path)\n",
    "    \n",
    "    # Load FeatureData[Sequence] Artifact\n",
    "    reps = Artifact.load(dada2_reps_path)\n",
    "    \n",
    "    # Classify ASV features and create a new FeatureData[Taxonomy]\n",
    "    metatax_qa = feature_classifier.methods.classify_sklearn(reads=reps, classifier=classifier, n_jobs=threads)\n",
    "\n",
    "    # Save FeatureData[Taxonomy] Artifact\n",
    "    metatax_qa.classification.save(metatax_path)"
   ]
  },
  {
   "cell_type": "code",
   "execution_count": 10,
   "id": "93d2f3a6",
   "metadata": {
    "ExecuteTime": {
     "end_time": "2022-06-01T18:58:53.489795Z",
     "start_time": "2022-06-01T18:58:53.395394Z"
    },
    "execution": {
     "iopub.execute_input": "2022-08-01T18:43:44.260663Z",
     "iopub.status.busy": "2022-08-01T18:43:44.260389Z",
     "iopub.status.idle": "2022-08-01T18:43:48.028317Z",
     "shell.execute_reply": "2022-08-01T18:43:48.027706Z"
    },
    "papermill": {
     "duration": 3.801733,
     "end_time": "2022-08-01T18:43:48.031505",
     "exception": false,
     "start_time": "2022-08-01T18:43:44.229772",
     "status": "completed"
    },
    "tags": []
   },
   "outputs": [],
   "source": [
    "if not need_view:\n",
    "    \n",
    "    # Load Metatax\n",
    "    metatax_qv = Visualization.load(metatax_view_path)\n",
    "    metatax_bar_qv = Visualization.load(metatax_bar_path)\n",
    "    \n",
    "else:\n",
    "    \n",
    "    # Metataxonomy Table Visualization\n",
    "    metatax_qv = metadata.visualizers.tabulate(metatax_qa.classification.view(Metadata))\n",
    "    metatax_qv.visualization.save(metatax_view_path)\n",
    "    \n",
    "    # Load TableData[Sequence] Artifact\n",
    "    tabs = Artifact.load(dada2_tabs_path)\n",
    "    \n",
    "    # Barplot Visualization\n",
    "    # Next, we can view the taxonomic composition of our samples with interactive bar plots. \n",
    "    # Generate those plots with the following command and then open the visualization.\n",
    "    metatax_bar_qv = taxa.visualizers.barplot(tabs, metatax_qa.classification, metadata_qa)\n",
    "    metatax_bar_qv.visualization.save(metatax_bar_path)"
   ]
  },
  {
   "cell_type": "code",
   "execution_count": 11,
   "id": "452dfa78",
   "metadata": {
    "ExecuteTime": {
     "end_time": "2022-06-01T18:58:22.804508Z",
     "start_time": "2022-06-01T18:58:22.793768Z"
    },
    "execution": {
     "iopub.execute_input": "2022-08-01T18:43:48.071046Z",
     "iopub.status.busy": "2022-08-01T18:43:48.070779Z",
     "iopub.status.idle": "2022-08-01T18:43:48.078460Z",
     "shell.execute_reply": "2022-08-01T18:43:48.077619Z"
    },
    "papermill": {
     "duration": 0.032647,
     "end_time": "2022-08-01T18:43:48.080609",
     "exception": false,
     "start_time": "2022-08-01T18:43:48.047962",
     "status": "completed"
    },
    "tags": []
   },
   "outputs": [
    {
     "data": {
      "text/plain": [
       "Results (name = value)\n",
       "-----------------------------------------------------------------------------------------\n",
       "visualization = <visualization: Visualization uuid: b24e998a-356b-4414-92dc-4b990d046f99>"
      ]
     },
     "execution_count": 11,
     "metadata": {},
     "output_type": "execute_result"
    }
   ],
   "source": [
    "metatax_qv"
   ]
  },
  {
   "cell_type": "code",
   "execution_count": 12,
   "id": "0ebf0dc0",
   "metadata": {
    "ExecuteTime": {
     "end_time": "2022-06-01T18:58:56.294932Z",
     "start_time": "2022-06-01T18:58:56.288474Z"
    },
    "execution": {
     "iopub.execute_input": "2022-08-01T18:43:48.109519Z",
     "iopub.status.busy": "2022-08-01T18:43:48.109027Z",
     "iopub.status.idle": "2022-08-01T18:43:48.115206Z",
     "shell.execute_reply": "2022-08-01T18:43:48.114380Z"
    },
    "papermill": {
     "duration": 0.021316,
     "end_time": "2022-08-01T18:43:48.116772",
     "exception": false,
     "start_time": "2022-08-01T18:43:48.095456",
     "status": "completed"
    },
    "tags": []
   },
   "outputs": [
    {
     "data": {
      "text/plain": [
       "Results (name = value)\n",
       "-----------------------------------------------------------------------------------------\n",
       "visualization = <visualization: Visualization uuid: 823331d8-7177-4a24-b33f-943db5691b98>"
      ]
     },
     "execution_count": 12,
     "metadata": {},
     "output_type": "execute_result"
    }
   ],
   "source": [
    "metatax_bar_qv"
   ]
  }
 ],
 "metadata": {
  "celltoolbar": "Edit Metadata",
  "kernelspec": {
   "display_name": "Python 3 (ipykernel)",
   "language": "python",
   "name": "python3"
  },
  "language_info": {
   "codemirror_mode": {
    "name": "ipython",
    "version": 3
   },
   "file_extension": ".py",
   "mimetype": "text/x-python",
   "name": "python",
   "nbconvert_exporter": "python",
   "pygments_lexer": "ipython3",
   "version": "3.8.12"
  },
  "papermill": {
   "default_parameters": {},
   "duration": 399.545976,
   "end_time": "2022-08-01T18:43:49.354850",
   "environment_variables": {},
   "exception": null,
   "input_path": "./step-metataxonomy.ipynb",
   "output_path": "../step-metataxonomy-STD-NCxSTD-NR.ipynb",
   "parameters": {
    "base_dir": "/home/lauro/nupeb/rede-micro/redemicro-ana-flavia-nutri",
    "class_col": "sample-group",
    "classifier_file": "/home/lauro/nupeb/dados_brutos_rede_genoma/16S_classifiers_qiime2/silva-138-99-nb-classifier.qza",
    "experiment_name": "ana-flavia-STD-NCxSTD-NR",
    "manifest_file": "/home/lauro/nupeb/rede-micro/redemicro-ana-flavia-nutri/data/raw/manifest/manifest-ana-flavia-STD-NCxSTD-NR.csv",
    "metadata_file": "/home/lauro/nupeb/rede-micro/redemicro-ana-flavia-nutri/data/raw/metadata/metadata-ana-flavia-STD-NCxSTD-NR.tsv",
    "overlap": 12,
    "phred": 20,
    "replace_files": false,
    "threads": 6,
    "trunc_f": 0,
    "trunc_r": 0
   },
   "start_time": "2022-08-01T18:37:09.808874",
   "version": "2.3.4"
  },
  "toc-autonumbering": false,
  "toc-showcode": false,
  "toc-showmarkdowntxt": false
 },
 "nbformat": 4,
 "nbformat_minor": 5
}