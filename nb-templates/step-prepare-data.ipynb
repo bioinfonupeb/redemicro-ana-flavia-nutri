{
 "cells": [
  {
   "cell_type": "markdown",
   "metadata": {},
   "source": [
    "# Prepare data for Pipeline"
   ]
  },
  {
   "cell_type": "markdown",
   "metadata": {},
   "source": [
    "## Setup and settings"
   ]
  },
  {
   "cell_type": "code",
   "execution_count": null,
   "metadata": {
    "ExecuteTime": {
     "end_time": "2022-10-14T14:33:37.863523Z",
     "start_time": "2022-10-14T14:33:14.145712Z"
    }
   },
   "outputs": [],
   "source": [
    "# Importing packages\n",
    "import os\n",
    "import yaml\n",
    "import logging\n",
    "import pandas as pd\n",
    "from Bio.Seq import Seq\n",
    "from qiime2 import Artifact, Visualization, Metadata\n",
    "from qiime2.plugins import demux\n",
    "from qiime2.plugins.cutadapt.methods import trim_paired, trim_single\n",
    "from qiime2.plugins.demux.methods import filter_samples"
   ]
  },
  {
   "cell_type": "markdown",
   "metadata": {},
   "source": [
    "### Receiving the parameters\n",
    "\n",
    "The following cell can receive parameters using the [papermill](https://papermill.readthedocs.io/en/latest/) tool."
   ]
  },
  {
   "cell_type": "code",
   "execution_count": null,
   "metadata": {
    "ExecuteTime": {
     "end_time": "2022-06-28T18:50:41.594341Z",
     "start_time": "2022-06-28T18:50:41.591544Z"
    },
    "tags": [
     "parameters"
    ]
   },
   "outputs": [],
   "source": [
    "params_path = os.path.join('..', 'params', 'parameter-set-01.yaml')\n",
    "experiment_name = 'exp-01'\n",
    "base_dir = os.path.join('/', 'home', 'username', 'pipeline-dir')\n",
    "manifest_file = os.path.join(base_dir, 'data', 'raw', 'manifest', 'manifest.csv')\n",
    "replace_files = False\n",
    "trim = None\n",
    "metadata_file = None\n",
    "threads = 1\n",
    "demux_file = None"
   ]
  },
  {
   "cell_type": "code",
   "execution_count": null,
   "metadata": {
    "ExecuteTime": {
     "end_time": "2023-08-18T15:40:31.070885Z",
     "start_time": "2023-08-18T15:40:30.611671Z"
    }
   },
   "outputs": [],
   "source": [
    "out_dir = os.path.join(base_dir, 'experiments', experiment_name, 'qiime-artifacts')\n",
    "img_folder = os.path.abspath(os.path.join(base_dir, 'experiments', experiment_name, 'imgs'))\n",
    "data_dir =  os.path.abspath(os.path.join(base_dir, 'data'))\n",
    "raw_data_dir =  os.path.abspath(os.path.join(data_dir, 'raw'))\n",
    "interim_data_dir =  os.path.abspath(os.path.join(data_dir, 'interim'))"
   ]
  },
  {
   "cell_type": "markdown",
   "metadata": {},
   "source": [
    "### Defining names and paths"
   ]
  },
  {
   "cell_type": "code",
   "execution_count": null,
   "metadata": {
    "ExecuteTime": {
     "end_time": "2022-06-28T18:50:41.632125Z",
     "start_time": "2022-06-28T18:50:41.619710Z"
    }
   },
   "outputs": [],
   "source": [
    "# Create path if it not exists\n",
    "if not os.path.isdir(out_dir):\n",
    "    os.makedirs(out_dir)\n",
    "    print(f'New qiime-artifacts folder path created: {out_dir}')\n",
    "\n",
    "# Create path if it not exists\n",
    "if not os.path.isdir(img_folder):\n",
    "    os.makedirs(img_folder)\n",
    "    print(f'New img folder path created: {img_folder}')"
   ]
  },
  {
   "cell_type": "code",
   "execution_count": null,
   "metadata": {},
   "outputs": [],
   "source": [
    "manifest_df = pd.read_csv(manifest_file)\n",
    "n_directions = len(manifest_df['direction'].unique())\n",
    "if n_directions == 1:\n",
    "    d_type = 'SampleData[SequencesWithQuality]'\n",
    "    v_type = 'SingleEndFastqManifestPhred33'\n",
    "    direction = 'single'\n",
    "elif n_directions == 2:\n",
    "    d_type = 'SampleData[PairedEndSequencesWithQuality]'\n",
    "    v_type = 'PairedEndFastqManifestPhred33'\n",
    "    direction = 'paired'\n",
    "else:\n",
    "    print(f'ERROR: invalid number of directions {n_directions}')"
   ]
  },
  {
   "cell_type": "code",
   "execution_count": null,
   "metadata": {},
   "outputs": [],
   "source": [
    "sufix = str(direction)\n",
    "if trim and len(trim.keys()) == 3:\n",
    "    sufix += f'-{trim}'\n",
    "    \n",
    "# Define the output artifact full path\n",
    "if demux_file is None:\n",
    "    demux_file = os.path.join(out_dir, f'demux-{direction}.qza')\n",
    "demux_view = os.path.join(out_dir, f'demux-{direction}.qzv')\n",
    "demux_file_trim = os.path.join(out_dir, f'demux-{direction}-trim.qza')\n",
    "demux_view_trim = os.path.join(out_dir, f'demux-{direction}-trim.qzv')"
   ]
  },
  {
   "cell_type": "markdown",
   "metadata": {},
   "source": [
    "## Step execution\n",
    "\n",
    "This Step import all `fastq` files in a **QIIME2 Artifact** object and save it to a new `qza` file."
   ]
  },
  {
   "cell_type": "code",
   "execution_count": null,
   "metadata": {},
   "outputs": [],
   "source": [
    "# If the metadata file is not defined, use the default metadata file\n",
    "metadata_qa = Metadata.load(metadata_file)"
   ]
  },
  {
   "cell_type": "code",
   "execution_count": null,
   "metadata": {
    "ExecuteTime": {
     "end_time": "2022-06-28T19:44:58.640338Z",
     "start_time": "2022-06-28T18:50:41.633657Z"
    }
   },
   "outputs": [],
   "source": [
    "# If the demux file does not exist or if the old file will be replaced\n",
    "if not os.path.isfile(demux_file) or replace_files:\n",
    "    \n",
    "    interim_demux_path = os.path.join(interim_data_dir, f'demux-{direction}.qza')\n",
    "    \n",
    "    # Create new file path for interim dir\n",
    "    if not os.path.isdir(interim_data_dir):\n",
    "        !mkdir -p {interim_data_dir}\n",
    "        \n",
    "    # Load Artifact from interim folder\n",
    "    if os.path.isfile(interim_demux_path):\n",
    "        artifact = Artifact.load(interim_demux_path)\n",
    "        \n",
    "    # Create new Artifact using Manifest\n",
    "    else:\n",
    "        artifact = Artifact.import_data(d_type, manifest_file, view_type=v_type)\n",
    "        if not os.path.isfile(interim_demux_path):\n",
    "            artifact.save(interim_demux_path)\n",
    "            \n",
    "    # Filter and Save Artifact\n",
    "    artifact = filter_samples(demux=artifact, metadata=metadata_qa).filtered_demux\n",
    "    artifact.save(demux_file)\n",
    "    \n",
    "    # Visualization\n",
    "    if os.path.isfile(demux_view):\n",
    "        demux_view_obj = Visualization.load(demux_view)\n",
    "    else:\n",
    "        demux_view_obj = demux.visualizers.summarize(artifact).visualization\n",
    "        Visualization.save(demux_view_obj, filepath=demux_view)\n",
    "        \n",
    "elif os.path.isfile(demux_file):\n",
    "    \n",
    "    # Load Artifact\n",
    "    artifact = Artifact.load(demux_file)\n",
    "    artifact = filter_samples(demux=artifact, metadata=metadata_qa).filtered_demux\n",
    "    \n",
    "    # Visualization\n",
    "    if os.path.isfile(demux_view):\n",
    "        demux_view_obj = Visualization.load(demux_view)\n",
    "    else:\n",
    "        demux_view_obj = demux.visualizers.summarize(artifact).visualization\n",
    "        Visualization.save(demux_view_obj, filepath=demux_view)"
   ]
  },
  {
   "cell_type": "markdown",
   "metadata": {},
   "source": [
    "## Step report\n"
   ]
  },
  {
   "cell_type": "code",
   "execution_count": null,
   "metadata": {
    "ExecuteTime": {
     "end_time": "2022-06-28T19:47:56.704841Z",
     "start_time": "2022-06-28T19:47:56.611846Z"
    }
   },
   "outputs": [],
   "source": [
    "print(demux_view_obj)\n",
    "\n",
    "# Render Visualization\n",
    "demux_view_obj"
   ]
  },
  {
   "cell_type": "markdown",
   "metadata": {},
   "source": [
    "[cutadapt](https://docs.qiime2.org/2022.2/plugins/available/cutadapt/trim-paired/)\n",
    "\n",
    "We trim the forward primer and the reverse complement of the reverse primer from the forward reads. We trim the reverse primer and reverse complement of the forward primer from the reverse reads."
   ]
  },
  {
   "cell_type": "code",
   "execution_count": null,
   "metadata": {},
   "outputs": [],
   "source": [
    "demux_file_trim = os.path.join(out_dir, f'demux-{direction}-trim.qza')\n",
    "demux_view_trim = os.path.join(out_dir, f'demux-{direction}-trim.qzv')\n",
    "\n",
    "if trim and (not os.path.isfile(demux_file_trim) or replace_files):\n",
    "    forward_primer = [trim['forward_primer']] # ['CCTACGGGRSGCAGCAG']\n",
    "    reverse_primer = [trim['reverse_primer']] # ['GGACTACHVGGGTWTCTAAT']\n",
    "    forward_reverse_complement = [str(Seq(forward_primer[0]).reverse_complement())]\n",
    "    reverse_reverse_complement = [str(Seq(reverse_primer[0]).reverse_complement())]\n",
    "\n",
    "    res = None\n",
    "    \n",
    "    if n_directions == 1:\n",
    "        res = trim_single(\n",
    "            demultiplexed_sequences=artifact,\n",
    "            front=forward_primer,\n",
    "            adapter=reverse_reverse_complement,\n",
    "            cores=threads,\n",
    "            indels=False,\n",
    "            match_read_wildcards=True,\n",
    "            match_adapter_wildcards=True,\n",
    "            error_rate=0.01,\n",
    "            discard_untrimmed=True,\n",
    "        ).trimmed_sequences\n",
    "    elif n_directions == 2:\n",
    "        res = trim_paired(\n",
    "            demultiplexed_sequences=artifact,\n",
    "            front_f=forward_primer,\n",
    "            front_r=reverse_primer,\n",
    "            # adapter_f=reverse_reverse_complement,\n",
    "            # adapter_r=forward_reverse_complement,\n",
    "            cores=threads,\n",
    "            overlap=trim['overlap'],\n",
    "            indels=False,\n",
    "            match_read_wildcards=True,\n",
    "            match_adapter_wildcards=True,\n",
    "            error_rate=0.01,\n",
    "            discard_untrimmed=True,\n",
    "        ).trimmed_sequences\n",
    "    else:\n",
    "        print(f'ERROR: invalid number of directions {n_directions}')\n",
    "\n",
    "    if res is not None:\n",
    "        res.save(demux_file_trim)\n",
    "        Visualization.save(demux.visualizers.summarize(res).visualization, filepath=demux_view_trim)"
   ]
  }
 ],
 "metadata": {
  "celltoolbar": "Edit Metadata",
  "kernelspec": {
   "display_name": "Python 3 (ipykernel)",
   "language": "python",
   "name": "python3"
  },
  "language_info": {
   "codemirror_mode": {
    "name": "ipython",
    "version": 3
   },
   "file_extension": ".py",
   "mimetype": "text/x-python",
   "name": "python",
   "nbconvert_exporter": "python",
   "pygments_lexer": "ipython3",
   "version": "3.8.16"
  },
  "toc-autonumbering": false,
  "toc-showcode": false,
  "toc-showmarkdowntxt": false
 },
 "nbformat": 4,
 "nbformat_minor": 4
}
