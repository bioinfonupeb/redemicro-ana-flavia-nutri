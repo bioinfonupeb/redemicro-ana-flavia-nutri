{
 "cells": [
  {
   "cell_type": "markdown",
   "id": "c201031b",
   "metadata": {
    "papermill": {
     "duration": 0.022191,
     "end_time": "2022-09-15T17:28:54.811362",
     "exception": false,
     "start_time": "2022-09-15T17:28:54.789171",
     "status": "completed"
    },
    "tags": []
   },
   "source": [
    "# Quality Control and ASV table construction with DADA2"
   ]
  },
  {
   "cell_type": "markdown",
   "id": "61fac894",
   "metadata": {
    "papermill": {
     "duration": 0.041745,
     "end_time": "2022-09-15T17:28:54.940575",
     "exception": false,
     "start_time": "2022-09-15T17:28:54.898830",
     "status": "completed"
    },
    "tags": []
   },
   "source": [
    "## Setup and settings"
   ]
  },
  {
   "cell_type": "code",
   "execution_count": 1,
   "id": "e095d77f",
   "metadata": {
    "ExecuteTime": {
     "end_time": "2022-06-29T18:49:49.974644Z",
     "start_time": "2022-06-29T18:49:30.876897Z"
    },
    "execution": {
     "iopub.execute_input": "2022-09-15T17:28:55.001821Z",
     "iopub.status.busy": "2022-09-15T17:28:55.001196Z",
     "iopub.status.idle": "2022-09-15T17:29:01.508009Z",
     "shell.execute_reply": "2022-09-15T17:29:01.507381Z"
    },
    "papermill": {
     "duration": 6.541158,
     "end_time": "2022-09-15T17:29:01.511219",
     "exception": false,
     "start_time": "2022-09-15T17:28:54.970061",
     "status": "completed"
    },
    "tags": []
   },
   "outputs": [],
   "source": [
    "# Importing packages\n",
    "import os\n",
    "import yaml\n",
    "import logging\n",
    "from qiime2 import Artifact\n",
    "from qiime2 import Visualization\n",
    "from qiime2 import Metadata\n",
    "import qiime2.plugins.dada2.actions as dada2_actions\n",
    "import qiime2.plugins.metadata.actions as metadata_actions\n",
    "\n",
    "import matplotlib.pyplot as plt\n",
    "\n",
    "from utils import *\n",
    "\n",
    "%matplotlib inline"
   ]
  },
  {
   "cell_type": "markdown",
   "id": "88f9f260",
   "metadata": {
    "papermill": {
     "duration": 0.012064,
     "end_time": "2022-09-15T17:29:01.541921",
     "exception": false,
     "start_time": "2022-09-15T17:29:01.529857",
     "status": "completed"
    },
    "tags": []
   },
   "source": [
    "### Receiving the parameters\n",
    "\n",
    "The following cell can receive parameters using the [papermill](https://papermill.readthedocs.io/en/latest/) tool."
   ]
  },
  {
   "cell_type": "code",
   "execution_count": 2,
   "id": "886684bd",
   "metadata": {
    "ExecuteTime": {
     "end_time": "2022-06-29T18:54:01.035034Z",
     "start_time": "2022-06-29T18:54:01.028724Z"
    },
    "execution": {
     "iopub.execute_input": "2022-09-15T17:29:01.597029Z",
     "iopub.status.busy": "2022-09-15T17:29:01.596803Z",
     "iopub.status.idle": "2022-09-15T17:29:01.602433Z",
     "shell.execute_reply": "2022-09-15T17:29:01.601655Z"
    },
    "papermill": {
     "duration": 0.02018,
     "end_time": "2022-09-15T17:29:01.604016",
     "exception": false,
     "start_time": "2022-09-15T17:29:01.583836",
     "status": "completed"
    },
    "tags": [
     "parameters"
    ]
   },
   "outputs": [],
   "source": [
    "experiment_name = 'ana-flavia-superlactacao'\n",
    "base_dir = os.path.join('/', 'home', 'lauro', 'nupeb', 'redemicro')\n",
    "metadata_file = os.path.join(base_dir, 'data', 'raw', 'metadata', 'sample-metadata.tsv')\n",
    "replace_files = False\n",
    "phred = 20\n",
    "trunc_f = 0\n",
    "trunc_r = 0\n",
    "overlap = 12\n",
    "threads = 6\n",
    "trim = None"
   ]
  },
  {
   "cell_type": "code",
   "execution_count": 3,
   "id": "2db1a2e8",
   "metadata": {
    "execution": {
     "iopub.execute_input": "2022-09-15T17:29:01.639624Z",
     "iopub.status.busy": "2022-09-15T17:29:01.639372Z",
     "iopub.status.idle": "2022-09-15T17:29:01.644735Z",
     "shell.execute_reply": "2022-09-15T17:29:01.644284Z"
    },
    "papermill": {
     "duration": 0.019797,
     "end_time": "2022-09-15T17:29:01.646053",
     "exception": false,
     "start_time": "2022-09-15T17:29:01.626256",
     "status": "completed"
    },
    "tags": [
     "injected-parameters"
    ]
   },
   "outputs": [],
   "source": [
    "# Parameters\n",
    "experiment_name = \"ana-flavia-NCxNR-trim\"\n",
    "base_dir = \"/home/lauro/nupeb/rede-micro/redemicro-ana-flavia-nutri\"\n",
    "manifest_file = \"/home/lauro/nupeb/rede-micro/redemicro-ana-flavia-nutri/data/raw/manifest/manifest-ana-flavia-NCxNR.csv\"\n",
    "metadata_file = \"/home/lauro/nupeb/rede-micro/redemicro-ana-flavia-nutri/data/raw/metadata/metadata-ana-flavia-NCxNR.tsv\"\n",
    "class_col = \"sample-group\"\n",
    "classifier_file = \"/home/lauro/nupeb/dados_brutos_rede_genoma/16S_classifiers_qiime2/silva-138-99-nb-classifier.qza\"\n",
    "replace_files = False\n",
    "phred = 20\n",
    "trunc_f = 0\n",
    "trunc_r = 0\n",
    "overlap = 12\n",
    "threads = 6\n",
    "trim = {\n",
    "    \"overlap\": 8,\n",
    "    \"forward_primer\": \"CCTACGGGRSGCAGCAG\",\n",
    "    \"reverse_primer\": \"GGACTACHVGGGTWTCTAAT\",\n",
    "}\n"
   ]
  },
  {
   "cell_type": "code",
   "execution_count": 4,
   "id": "112dffd1",
   "metadata": {
    "execution": {
     "iopub.execute_input": "2022-09-15T17:29:01.744166Z",
     "iopub.status.busy": "2022-09-15T17:29:01.743933Z",
     "iopub.status.idle": "2022-09-15T17:29:01.750339Z",
     "shell.execute_reply": "2022-09-15T17:29:01.749681Z"
    },
    "papermill": {
     "duration": 0.02125,
     "end_time": "2022-09-15T17:29:01.751849",
     "exception": false,
     "start_time": "2022-09-15T17:29:01.730599",
     "status": "completed"
    },
    "tags": []
   },
   "outputs": [],
   "source": [
    "# Setting hardcoded parameters for development and debbuging\n",
    "production = True\n",
    "if not production:\n",
    "    params_path = os.path.join('..', 'params', 'ana-flavia-superlactacao.yaml')\n",
    "    with open(params_path, 'r') as stream:\n",
    "        params = yaml.safe_load(stream)\n",
    "        experiment_name = params['experiment_name']\n",
    "        base_dir = params['base_dir']\n",
    "        replace_files = params['replace_files']\n",
    "        experiment_folder = os.path.abspath(os.path.join(os.getcwd(), '..', 'experiments', 'thayane-feces-01'))\n",
    "        img_folder = os.path.abspath(os.path.join(experiment_folder, 'imgs'))\n",
    "        replace_files = False\n",
    "        phred = 20\n",
    "        trunc_f = 0\n",
    "        trunc_r = 0\n",
    "        overlap = 12\n",
    "        threads = 6"
   ]
  },
  {
   "cell_type": "code",
   "execution_count": 5,
   "id": "3102c6f9",
   "metadata": {
    "ExecuteTime": {
     "end_time": "2022-06-29T18:51:02.089300Z",
     "start_time": "2022-06-29T18:51:02.084922Z"
    },
    "execution": {
     "iopub.execute_input": "2022-09-15T17:29:01.779634Z",
     "iopub.status.busy": "2022-09-15T17:29:01.779404Z",
     "iopub.status.idle": "2022-09-15T17:29:01.783734Z",
     "shell.execute_reply": "2022-09-15T17:29:01.783049Z"
    },
    "papermill": {
     "duration": 0.018884,
     "end_time": "2022-09-15T17:29:01.785223",
     "exception": false,
     "start_time": "2022-09-15T17:29:01.766339",
     "status": "completed"
    },
    "tags": []
   },
   "outputs": [],
   "source": [
    "experiment_folder = os.path.abspath(os.path.join(base_dir, 'experiments', experiment_name))\n",
    "img_folder = os.path.abspath(os.path.join(experiment_folder, 'imgs'))"
   ]
  },
  {
   "cell_type": "markdown",
   "id": "59f05262",
   "metadata": {
    "papermill": {
     "duration": 0.012391,
     "end_time": "2022-09-15T17:29:01.810119",
     "exception": false,
     "start_time": "2022-09-15T17:29:01.797728",
     "status": "completed"
    },
    "tags": []
   },
   "source": [
    "### Defining names and paths"
   ]
  },
  {
   "cell_type": "code",
   "execution_count": 6,
   "id": "617ca0df",
   "metadata": {
    "ExecuteTime": {
     "end_time": "2022-05-30T19:57:39.064490Z",
     "start_time": "2022-05-30T19:57:39.007809Z"
    },
    "execution": {
     "iopub.execute_input": "2022-09-15T17:29:01.835797Z",
     "iopub.status.busy": "2022-09-15T17:29:01.835516Z",
     "iopub.status.idle": "2022-09-15T17:29:01.842472Z",
     "shell.execute_reply": "2022-09-15T17:29:01.841685Z"
    },
    "papermill": {
     "duration": 0.021674,
     "end_time": "2022-09-15T17:29:01.844014",
     "exception": false,
     "start_time": "2022-09-15T17:29:01.822340",
     "status": "completed"
    },
    "tags": []
   },
   "outputs": [],
   "source": [
    "qiime_folder = os.path.join(experiment_folder, 'qiime-artifacts')\n",
    "\n",
    "if trim:\n",
    "    demux_file = os.path.join(qiime_folder, 'demux-paired-trim.qza')\n",
    "else:\n",
    "    demux_file = os.path.join(qiime_folder, 'demux-paired.qza')\n",
    "\n",
    "dada2_tabs = os.path.join(qiime_folder, 'dada2-tabs.qza')\n",
    "dada2_reps = os.path.join(qiime_folder, 'dada2-reps.qza')\n",
    "dada2_stat = os.path.join(qiime_folder, 'dada2-stat.qza')\n",
    "\n",
    "dada2_tabs_view = dada2_tabs[:-1] + 'v'\n",
    "dada2_reps_view = dada2_reps[:-1] + 'v'\n",
    "dada2_stat_view = dada2_stat[:-1] + 'v'"
   ]
  },
  {
   "cell_type": "markdown",
   "id": "ee9b615e",
   "metadata": {
    "papermill": {
     "duration": 0.013061,
     "end_time": "2022-09-15T17:29:01.869984",
     "exception": false,
     "start_time": "2022-09-15T17:29:01.856923",
     "status": "completed"
    },
    "tags": []
   },
   "source": [
    "## Step execution\n",
    "\n",
    "### Load input files\n",
    "\n",
    "This Step import the QIIME2 `SampleData[PairedEndSequencesWithQuality]` Artifact with all demultiplexed sequences and the `Metadata` file."
   ]
  },
  {
   "cell_type": "code",
   "execution_count": 7,
   "id": "3224ecca",
   "metadata": {
    "ExecuteTime": {
     "end_time": "2022-05-30T19:57:39.077380Z",
     "start_time": "2022-05-30T19:57:39.066746Z"
    },
    "execution": {
     "iopub.execute_input": "2022-09-15T17:29:01.905324Z",
     "iopub.status.busy": "2022-09-15T17:29:01.905080Z",
     "iopub.status.idle": "2022-09-15T17:29:01.910152Z",
     "shell.execute_reply": "2022-09-15T17:29:01.909404Z"
    },
    "papermill": {
     "duration": 0.024638,
     "end_time": "2022-09-15T17:29:01.911675",
     "exception": false,
     "start_time": "2022-09-15T17:29:01.887037",
     "status": "completed"
    },
    "tags": []
   },
   "outputs": [],
   "source": [
    "need_dada2 = not (os.path.isfile(dada2_tabs) and os.path.isfile(dada2_reps) and os.path.isfile(dada2_stat)) or replace_files\n",
    "need_view = not (os.path.isfile(dada2_tabs_view) and os.path.isfile(dada2_reps_view) and os.path.isfile(dada2_stat_view)) or replace_files"
   ]
  },
  {
   "cell_type": "code",
   "execution_count": 8,
   "id": "cc0c1be9",
   "metadata": {
    "ExecuteTime": {
     "end_time": "2022-05-30T19:57:39.089632Z",
     "start_time": "2022-05-30T19:57:39.079347Z"
    },
    "execution": {
     "iopub.execute_input": "2022-09-15T17:29:01.937711Z",
     "iopub.status.busy": "2022-09-15T17:29:01.937473Z",
     "iopub.status.idle": "2022-09-15T17:29:03.305873Z",
     "shell.execute_reply": "2022-09-15T17:29:03.305200Z"
    },
    "papermill": {
     "duration": 1.384797,
     "end_time": "2022-09-15T17:29:03.308985",
     "exception": false,
     "start_time": "2022-09-15T17:29:01.924188",
     "status": "completed"
    },
    "tags": []
   },
   "outputs": [],
   "source": [
    "if need_dada2:\n",
    "    demux = Artifact.load(demux_file)"
   ]
  },
  {
   "cell_type": "code",
   "execution_count": 9,
   "id": "6405f481",
   "metadata": {
    "ExecuteTime": {
     "end_time": "2022-05-30T19:57:39.145879Z",
     "start_time": "2022-05-30T19:57:39.091983Z"
    },
    "execution": {
     "iopub.execute_input": "2022-09-15T17:29:03.341022Z",
     "iopub.status.busy": "2022-09-15T17:29:03.340853Z",
     "iopub.status.idle": "2022-09-15T17:29:03.354941Z",
     "shell.execute_reply": "2022-09-15T17:29:03.354345Z"
    },
    "papermill": {
     "duration": 0.02979,
     "end_time": "2022-09-15T17:29:03.357130",
     "exception": false,
     "start_time": "2022-09-15T17:29:03.327340",
     "status": "completed"
    },
    "tags": []
   },
   "outputs": [],
   "source": [
    "metadata = Metadata.load(metadata_file)"
   ]
  },
  {
   "cell_type": "markdown",
   "id": "7a0ec733",
   "metadata": {
    "papermill": {
     "duration": 0.02999,
     "end_time": "2022-09-15T17:29:03.414462",
     "exception": false,
     "start_time": "2022-09-15T17:29:03.384472",
     "status": "completed"
    },
    "tags": []
   },
   "source": [
    "### Execute DADA2 plugin and create Artifacts\n",
    "\n",
    "The DADA2 plugin perform tha quality control and create the ASV table. It will be produced three Artifacts:\n",
    "\n",
    "- tabs (`FeatureTable[Frequency]`) : \n",
    "    The resulting feature table.\n",
    "- reps (`FeatureData[Sequence]`) :\n",
    "    The resulting feature sequences. Each feature in the feature table will\n",
    "    be represented by exactly one sequence, and these sequences will be the\n",
    "    joined paired-end sequences.\n",
    "- denoising_stats (`SampleData[DADA2Stats]`) : the resulting stats. Shows the number and the proportion of filtered reads in each phase of the plugin execution."
   ]
  },
  {
   "cell_type": "code",
   "execution_count": 10,
   "id": "11b49702",
   "metadata": {
    "ExecuteTime": {
     "end_time": "2022-05-30T19:57:39.171629Z",
     "start_time": "2022-05-30T19:57:39.147370Z"
    },
    "execution": {
     "iopub.execute_input": "2022-09-15T17:29:03.478076Z",
     "iopub.status.busy": "2022-09-15T17:29:03.477759Z",
     "iopub.status.idle": "2022-09-15T17:55:17.198003Z",
     "shell.execute_reply": "2022-09-15T17:55:17.197265Z"
    },
    "papermill": {
     "duration": 1573.754975,
     "end_time": "2022-09-15T17:55:17.200174",
     "exception": false,
     "start_time": "2022-09-15T17:29:03.445199",
     "status": "completed"
    },
    "scrolled": true,
    "tags": []
   },
   "outputs": [
    {
     "name": "stdout",
     "output_type": "stream",
     "text": [
      "Running external command line application(s). This may print messages to stdout and/or stderr.\n",
      "The command(s) being run are below. These commands cannot be manually re-run as they will depend on temporary files that no longer exist.\n",
      "\n",
      "Command: run_dada_paired.R /tmp/tmplnbz14fu/forward /tmp/tmplnbz14fu/reverse /tmp/tmplnbz14fu/output.tsv.biom /tmp/tmplnbz14fu/track.tsv /tmp/tmplnbz14fu/filt_f /tmp/tmplnbz14fu/filt_r 0 0 0 0 2.0 2.0 20 12 independent consensus 1.0 6 1000000\n",
      "\n"
     ]
    },
    {
     "name": "stdout",
     "output_type": "stream",
     "text": [
      "R version 4.1.2 (2021-11-01) \n"
     ]
    },
    {
     "name": "stderr",
     "output_type": "stream",
     "text": [
      "Loading required package: Rcpp\n"
     ]
    },
    {
     "name": "stdout",
     "output_type": "stream",
     "text": [
      "DADA2: 1.22.0 / Rcpp: 1.0.8.2 / RcppParallel: 5.1.5 \n",
      "1) Filtering "
     ]
    },
    {
     "name": "stdout",
     "output_type": "stream",
     "text": [
      ".........\n",
      "2) Learning Error Rates\n"
     ]
    },
    {
     "name": "stdout",
     "output_type": "stream",
     "text": [
      "242476512 total bases in 1029373 reads from 3 samples will be used for learning the error rates.\n"
     ]
    },
    {
     "name": "stdout",
     "output_type": "stream",
     "text": [
      "158450552 total bases in 1029373 reads from 3 samples will be used for learning the error rates.\n"
     ]
    },
    {
     "name": "stdout",
     "output_type": "stream",
     "text": [
      "3) Denoise samples "
     ]
    },
    {
     "name": "stdout",
     "output_type": "stream",
     "text": [
      "."
     ]
    },
    {
     "name": "stdout",
     "output_type": "stream",
     "text": [
      "."
     ]
    },
    {
     "name": "stdout",
     "output_type": "stream",
     "text": [
      "."
     ]
    },
    {
     "name": "stdout",
     "output_type": "stream",
     "text": [
      "."
     ]
    },
    {
     "name": "stdout",
     "output_type": "stream",
     "text": [
      "."
     ]
    },
    {
     "name": "stdout",
     "output_type": "stream",
     "text": [
      "."
     ]
    },
    {
     "name": "stdout",
     "output_type": "stream",
     "text": [
      "."
     ]
    },
    {
     "name": "stdout",
     "output_type": "stream",
     "text": [
      "."
     ]
    },
    {
     "name": "stdout",
     "output_type": "stream",
     "text": [
      ".\n"
     ]
    },
    {
     "name": "stdout",
     "output_type": "stream",
     "text": [
      "."
     ]
    },
    {
     "name": "stderr",
     "output_type": "stream",
     "text": [
      "Duplicate sequences in merged output.\n"
     ]
    },
    {
     "name": "stdout",
     "output_type": "stream",
     "text": [
      "."
     ]
    },
    {
     "name": "stderr",
     "output_type": "stream",
     "text": [
      "Duplicate sequences in merged output.\n"
     ]
    },
    {
     "name": "stdout",
     "output_type": "stream",
     "text": [
      "."
     ]
    },
    {
     "name": "stderr",
     "output_type": "stream",
     "text": [
      "Duplicate sequences in merged output.\n"
     ]
    },
    {
     "name": "stdout",
     "output_type": "stream",
     "text": [
      "."
     ]
    },
    {
     "name": "stderr",
     "output_type": "stream",
     "text": [
      "Duplicate sequences in merged output.\n"
     ]
    },
    {
     "name": "stdout",
     "output_type": "stream",
     "text": [
      "."
     ]
    },
    {
     "name": "stdout",
     "output_type": "stream",
     "text": [
      "."
     ]
    },
    {
     "name": "stderr",
     "output_type": "stream",
     "text": [
      "Duplicate sequences in merged output.\n"
     ]
    },
    {
     "name": "stdout",
     "output_type": "stream",
     "text": [
      "."
     ]
    },
    {
     "name": "stderr",
     "output_type": "stream",
     "text": [
      "Duplicate sequences in merged output.\n"
     ]
    },
    {
     "name": "stdout",
     "output_type": "stream",
     "text": [
      "."
     ]
    },
    {
     "name": "stderr",
     "output_type": "stream",
     "text": [
      "Duplicate sequences in merged output.\n",
      "Duplicate sequences detected and merged.\n",
      "Duplicate sequences detected and merged.\n",
      "Duplicate sequences detected and merged.\n",
      "Duplicate sequences detected and merged.\n",
      "Duplicate sequences detected and merged.\n",
      "Duplicate sequences detected and merged.\n",
      "Duplicate sequences detected and merged.\n"
     ]
    },
    {
     "name": "stdout",
     "output_type": "stream",
     "text": [
      ".\n",
      "4) Remove chimeras (method = consensus)\n"
     ]
    },
    {
     "name": "stdout",
     "output_type": "stream",
     "text": [
      "6) Write output\n"
     ]
    }
   ],
   "source": [
    "# If some of the DADA2 outputs artifacts do not exist or if the old files will be replaced\n",
    "if need_dada2:\n",
    "    \n",
    "    # Excute the DADA2 plugin\n",
    "    tabs, reps, stat = dada2_actions.denoise_paired(\n",
    "        demultiplexed_seqs=demux,\n",
    "        trunc_q = phred,\n",
    "        min_overlap = overlap,\n",
    "        n_threads = threads,\n",
    "        trunc_len_f = trunc_f,\n",
    "        trunc_len_r = trunc_r,\n",
    "    )\n",
    "    \n",
    "    # Save the artifacts objects\n",
    "    tabs.save(dada2_tabs)\n",
    "    reps.save(dada2_reps)\n",
    "    stat.save(dada2_stat)\n",
    "\n",
    "else:\n",
    "    tabs = Artifact.load(dada2_tabs)\n",
    "    reps = Artifact.load(dada2_reps)\n",
    "    stat = Artifact.load(dada2_stat)"
   ]
  },
  {
   "cell_type": "markdown",
   "id": "ec2e8498",
   "metadata": {
    "papermill": {
     "duration": 0.018115,
     "end_time": "2022-09-15T17:55:17.244096",
     "exception": false,
     "start_time": "2022-09-15T17:55:17.225981",
     "status": "completed"
    },
    "tags": []
   },
   "source": [
    "### Define Visualizations Artifacts"
   ]
  },
  {
   "cell_type": "code",
   "execution_count": 11,
   "id": "dfce836b",
   "metadata": {
    "ExecuteTime": {
     "end_time": "2022-05-30T19:57:39.249051Z",
     "start_time": "2022-05-30T19:57:39.173053Z"
    },
    "execution": {
     "iopub.execute_input": "2022-09-15T17:55:17.281927Z",
     "iopub.status.busy": "2022-09-15T17:55:17.281665Z",
     "iopub.status.idle": "2022-09-15T17:55:18.847936Z",
     "shell.execute_reply": "2022-09-15T17:55:18.847397Z"
    },
    "papermill": {
     "duration": 1.58866,
     "end_time": "2022-09-15T17:55:18.850993",
     "exception": false,
     "start_time": "2022-09-15T17:55:17.262333",
     "status": "completed"
    },
    "tags": []
   },
   "outputs": [],
   "source": [
    "# If some of the DADA2 Visualization artifacts do not exist or if the old files will be replaced\n",
    "if need_view:\n",
    "    \n",
    "    tabs_view, = metadata_actions.tabulate(input=tabs.view(Metadata))\n",
    "    reps_view, = metadata_actions.tabulate(input=reps.view(Metadata))\n",
    "    stat_view, = metadata_actions.tabulate(input=stat.view(Metadata))\n",
    "    \n",
    "    # Save the artifacts objects\n",
    "    tabs_view.save(dada2_tabs_view)\n",
    "    reps_view.save(dada2_reps_view)\n",
    "    stat_view.save(dada2_stat_view)\n",
    "\n",
    "else:\n",
    "    tabs_view = Visualization.load(dada2_tabs_view)\n",
    "    reps_view = Visualization.load(dada2_reps_view)\n",
    "    stat_view = Visualization.load(dada2_stat_view)"
   ]
  },
  {
   "cell_type": "code",
   "execution_count": 12,
   "id": "e07c924c",
   "metadata": {
    "ExecuteTime": {
     "end_time": "2022-05-30T19:57:39.901491Z",
     "start_time": "2022-05-30T19:57:39.255220Z"
    },
    "execution": {
     "iopub.execute_input": "2022-09-15T17:55:18.962865Z",
     "iopub.status.busy": "2022-09-15T17:55:18.962681Z",
     "iopub.status.idle": "2022-09-15T17:55:19.661005Z",
     "shell.execute_reply": "2022-09-15T17:55:19.660576Z"
    },
    "papermill": {
     "duration": 0.785649,
     "end_time": "2022-09-15T17:55:19.664933",
     "exception": false,
     "start_time": "2022-09-15T17:55:18.879284",
     "status": "completed"
    },
    "tags": []
   },
   "outputs": [
    {
     "data": {
      "image/png": "[encoded data removed]",
      "text/plain": [
       "<Figure size 1080x360 with 2 Axes>"
      ]
     },
     "metadata": {
      "needs_background": "light"
     },
     "output_type": "display_data"
    }
   ],
   "source": [
    "plot_stats_box(stat, os.path.join(img_folder, 'step02-stats-boxplot.pdf'))"
   ]
  },
  {
   "cell_type": "code",
   "execution_count": 13,
   "id": "31eb1ec7",
   "metadata": {
    "ExecuteTime": {
     "end_time": "2022-05-31T17:58:47.140114Z",
     "start_time": "2022-05-31T17:58:47.087808Z"
    },
    "execution": {
     "iopub.execute_input": "2022-09-15T17:55:19.714970Z",
     "iopub.status.busy": "2022-09-15T17:55:19.714809Z",
     "iopub.status.idle": "2022-09-15T17:55:19.751440Z",
     "shell.execute_reply": "2022-09-15T17:55:19.750891Z"
    },
    "papermill": {
     "duration": 0.062181,
     "end_time": "2022-09-15T17:55:19.754513",
     "exception": false,
     "start_time": "2022-09-15T17:55:19.692332",
     "status": "completed"
    },
    "tags": []
   },
   "outputs": [
    {
     "data": {
      "text/html": [
       "<div>\n",
       "<style scoped>\n",
       "    .dataframe tbody tr th:only-of-type {\n",
       "        vertical-align: middle;\n",
       "    }\n",
       "\n",
       "    .dataframe tbody tr th {\n",
       "        vertical-align: top;\n",
       "    }\n",
       "\n",
       "    .dataframe thead th {\n",
       "        text-align: right;\n",
       "    }\n",
       "</style>\n",
       "<table border=\"1\" class=\"dataframe\">\n",
       "  <thead>\n",
       "    <tr style=\"text-align: right;\">\n",
       "      <th></th>\n",
       "      <th>percentage of input passed filter</th>\n",
       "      <th>percentage of input merged</th>\n",
       "      <th>percentage of input non-chimeric</th>\n",
       "    </tr>\n",
       "  </thead>\n",
       "  <tbody>\n",
       "    <tr>\n",
       "      <th>count</th>\n",
       "      <td>9.000000</td>\n",
       "      <td>9.000000</td>\n",
       "      <td>9.000000</td>\n",
       "    </tr>\n",
       "    <tr>\n",
       "      <th>mean</th>\n",
       "      <td>83.097778</td>\n",
       "      <td>77.480000</td>\n",
       "      <td>73.957778</td>\n",
       "    </tr>\n",
       "    <tr>\n",
       "      <th>std</th>\n",
       "      <td>0.355555</td>\n",
       "      <td>1.087934</td>\n",
       "      <td>3.428880</td>\n",
       "    </tr>\n",
       "    <tr>\n",
       "      <th>min</th>\n",
       "      <td>82.700000</td>\n",
       "      <td>75.790000</td>\n",
       "      <td>68.380000</td>\n",
       "    </tr>\n",
       "    <tr>\n",
       "      <th>25%</th>\n",
       "      <td>82.880000</td>\n",
       "      <td>76.660000</td>\n",
       "      <td>71.520000</td>\n",
       "    </tr>\n",
       "    <tr>\n",
       "      <th>50%</th>\n",
       "      <td>82.940000</td>\n",
       "      <td>77.380000</td>\n",
       "      <td>75.260000</td>\n",
       "    </tr>\n",
       "    <tr>\n",
       "      <th>75%</th>\n",
       "      <td>83.510000</td>\n",
       "      <td>78.490000</td>\n",
       "      <td>75.870000</td>\n",
       "    </tr>\n",
       "    <tr>\n",
       "      <th>max</th>\n",
       "      <td>83.570000</td>\n",
       "      <td>78.870000</td>\n",
       "      <td>78.430000</td>\n",
       "    </tr>\n",
       "  </tbody>\n",
       "</table>\n",
       "</div>"
      ],
      "text/plain": [
       "       percentage of input passed filter  percentage of input merged  \\\n",
       "count                           9.000000                    9.000000   \n",
       "mean                           83.097778                   77.480000   \n",
       "std                             0.355555                    1.087934   \n",
       "min                            82.700000                   75.790000   \n",
       "25%                            82.880000                   76.660000   \n",
       "50%                            82.940000                   77.380000   \n",
       "75%                            83.510000                   78.490000   \n",
       "max                            83.570000                   78.870000   \n",
       "\n",
       "       percentage of input non-chimeric  \n",
       "count                          9.000000  \n",
       "mean                          73.957778  \n",
       "std                            3.428880  \n",
       "min                           68.380000  \n",
       "25%                           71.520000  \n",
       "50%                           75.260000  \n",
       "75%                           75.870000  \n",
       "max                           78.430000  "
      ]
     },
     "execution_count": 13,
     "metadata": {},
     "output_type": "execute_result"
    }
   ],
   "source": [
    "percent_head = ['percentage of input passed filter', 'percentage of input merged', 'percentage of input non-chimeric']\n",
    "stat.view(Metadata).to_dataframe().describe()[percent_head]"
   ]
  },
  {
   "cell_type": "code",
   "execution_count": 14,
   "id": "b31143eb",
   "metadata": {
    "ExecuteTime": {
     "end_time": "2022-05-30T19:57:39.957632Z",
     "start_time": "2022-05-30T19:57:39.953762Z"
    },
    "execution": {
     "iopub.execute_input": "2022-09-15T17:55:19.806835Z",
     "iopub.status.busy": "2022-09-15T17:55:19.806630Z",
     "iopub.status.idle": "2022-09-15T17:55:19.811508Z",
     "shell.execute_reply": "2022-09-15T17:55:19.811000Z"
    },
    "papermill": {
     "duration": 0.029556,
     "end_time": "2022-09-15T17:55:19.813121",
     "exception": false,
     "start_time": "2022-09-15T17:55:19.783565",
     "status": "completed"
    },
    "tags": []
   },
   "outputs": [
    {
     "data": {
      "text/html": [
       "<div><img onload=\"(function(div, url){\n",
       "if (typeof require !== 'undefined') {\n",
       "    var baseURL = require.toUrl('').split('/').slice(0, -2).join('/');\n",
       "} else {\n",
       "    var baseURL = JSON.parse(\n",
       "        document.getElementById('jupyter-config-data').innerHTML\n",
       "    ).baseUrl.slice(0, -1);\n",
       "}\n",
       "url = baseURL + url;\n",
       "fetch(url).then(function(res) {\n",
       "    if (res.status === 404) {\n",
       "        div.innerHTML = 'Install QIIME 2 Jupyter extension with:<br />' +\n",
       "                        '<code>jupyter serverextension enable --py qiime2' +\n",
       "                        ' --sys-prefix</code><br />then restart your server.' +\n",
       "                        '<br /><br />(Interactive output not available on ' +\n",
       "                        'static notebook viewer services like nbviewer.)';\n",
       "    } else if (res.status === 409) {\n",
       "        div.innerHTML = 'Visualization no longer in scope. Re-run this cell' +\n",
       "                        ' to see the visualization.';\n",
       "    } else if (res.ok) {\n",
       "        url = res.url;\n",
       "        div.innerHTML = '<iframe src=\\'' + url + '\\' style=\\'' +\n",
       "                        'width: 100%; height: 700px; border: 0;\\'>' +\n",
       "                        '</iframe><hr />Open in a: <a href=\\'' + url + '\\'' +\n",
       "                        ' target=\\'_blank\\'>new window</a>'\n",
       "    } else {\n",
       "        div.innerHTML = 'Something has gone wrong. Check notebook server for' +\n",
       "                        ' errors.';\n",
       "    }\n",
       "});\n",
       "})(this.parentElement, '/qiime2/redirect?location=/tmp/qiime2-archive-mhk4c2_g')\" src=\"data:image/gif;base64,R0lGODlhAQABAIAAAP///wAAACH5BAEAAAAALAAAAAABAAEAAAICRAEAOw==\" /></div>"
      ],
      "text/plain": [
       "<visualization: Visualization uuid: ac65f62f-0a3f-4377-9544-18c768c8278e>"
      ]
     },
     "execution_count": 14,
     "metadata": {},
     "output_type": "execute_result"
    }
   ],
   "source": [
    "stat_view"
   ]
  },
  {
   "cell_type": "code",
   "execution_count": 15,
   "id": "4cafe12a",
   "metadata": {
    "ExecuteTime": {
     "end_time": "2022-05-30T19:57:39.967918Z",
     "start_time": "2022-05-30T19:57:39.958955Z"
    },
    "execution": {
     "iopub.execute_input": "2022-09-15T17:55:19.860089Z",
     "iopub.status.busy": "2022-09-15T17:55:19.859793Z",
     "iopub.status.idle": "2022-09-15T17:55:19.863572Z",
     "shell.execute_reply": "2022-09-15T17:55:19.862860Z"
    },
    "papermill": {
     "duration": 0.028759,
     "end_time": "2022-09-15T17:55:19.865065",
     "exception": false,
     "start_time": "2022-09-15T17:55:19.836306",
     "status": "completed"
    },
    "tags": []
   },
   "outputs": [],
   "source": [
    "# new_stat = Artifact.load('/home/lauro/nupeb/redemicro/experiments/thayane-feces-01/qiime-artifacts/dada2-stat.qza')\n",
    "# # new_view, = metadata_actions.tabulate(input=new_stat.view(Metadata))\n",
    "# # plot_stats_box(old_stat)\n",
    "\n",
    "# old_stat = Artifact.load('/home/lauro/nupeb/dados_brutos_rede_genoma/experiments/fezes-phred_20-tf_0-tr_0-lap_4/fezes_dada2_stat.qza')\n",
    "# # old_view, = metadata_actions.tabulate(input=old_stat.view(Metadata))\n",
    "# # plot_stats_box(old_stat)\n",
    "\n",
    "# plot_stats_box_pairs(old_stat, new_stat)"
   ]
  }
 ],
 "metadata": {
  "celltoolbar": "Edit Metadata",
  "kernelspec": {
   "display_name": "Python 3 (ipykernel)",
   "language": "python",
   "name": "python3"
  },
  "language_info": {
   "codemirror_mode": {
    "name": "ipython",
    "version": 3
   },
   "file_extension": ".py",
   "mimetype": "text/x-python",
   "name": "python",
   "nbconvert_exporter": "python",
   "pygments_lexer": "ipython3",
   "version": "3.8.12"
  },
  "papermill": {
   "default_parameters": {},
   "duration": 1587.403992,
   "end_time": "2022-09-15T17:55:20.818927",
   "environment_variables": {},
   "exception": null,
   "input_path": "./step-02-dada2.ipynb",
   "output_path": "../executed/step-02-dada2-NCxNR-trim.ipynb",
   "parameters": {
    "base_dir": "/home/lauro/nupeb/rede-micro/redemicro-ana-flavia-nutri",
    "class_col": "sample-group",
    "classifier_file": "/home/lauro/nupeb/dados_brutos_rede_genoma/16S_classifiers_qiime2/silva-138-99-nb-classifier.qza",
    "experiment_name": "ana-flavia-NCxNR-trim",
    "manifest_file": "/home/lauro/nupeb/rede-micro/redemicro-ana-flavia-nutri/data/raw/manifest/manifest-ana-flavia-NCxNR.csv",
    "metadata_file": "/home/lauro/nupeb/rede-micro/redemicro-ana-flavia-nutri/data/raw/metadata/metadata-ana-flavia-NCxNR.tsv",
    "overlap": 12,
    "phred": 20,
    "replace_files": false,
    "threads": 6,
    "trim": {
     "forward_primer": "CCTACGGGRSGCAGCAG",
     "overlap": 8,
     "reverse_primer": "GGACTACHVGGGTWTCTAAT"
    },
    "trunc_f": 0,
    "trunc_r": 0
   },
   "start_time": "2022-09-15T17:28:53.414935",
   "version": "2.3.4"
  },
  "toc-autonumbering": false,
  "toc-showcode": false,
  "toc-showmarkdowntxt": false
 },
 "nbformat": 4,
 "nbformat_minor": 5
}