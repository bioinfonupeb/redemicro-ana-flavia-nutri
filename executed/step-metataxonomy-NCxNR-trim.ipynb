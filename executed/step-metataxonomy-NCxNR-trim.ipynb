{
 "cells": [
  {
   "cell_type": "markdown",
   "id": "192096f6",
   "metadata": {
    "papermill": {
     "duration": 0.018629,
     "end_time": "2022-09-15T18:50:49.332387",
     "exception": false,
     "start_time": "2022-09-15T18:50:49.313758",
     "status": "completed"
    },
    "tags": []
   },
   "source": [
    "### STEP : Taxonomic assignment\n",
    "#### Taxonomic assignment with Silva 16S\n",
    "\n",
    "Using Silva 16S classifier for Qiime2. List with all [classifiers](https://docs.qiime2.org/2020.6/data-resources/). \n",
    "\n",
    "#### Versions \n",
    "- [Silva 138 99% OTUs full-length sequences](https://data.qiime2.org/2020.6/common/silva-138-99-nb-classifier.qza)\n",
    "- [Silva 138 99% OTUs from 515F/806R region of sequences](https://data.qiime2.org/2020.6/common/silva-138-99-515-806-nb-classifier.qza)\n",
    "- [Greengenes 13_8 99% OTUs full-length sequences](https://data.qiime2.org/2020.6/common/gg-13-8-99-nb-classifier.qza)\n",
    "- [Greengenes 13_8 99% OTUs from 515F/806R region of sequences](https://data.qiime2.org/2020.6/common/gg-13-8-99-515-806-nb-classifier.qza)\n",
    "\n",
    "#### Methods\n",
    "- [qiime feature-classifier](https://docs.qiime2.org/2022.2/plugins/available/feature-classifier/)\n",
    "- [qiime feature-classifier classify-sklearn](https://docs.qiime2.org/2021.8/plugins/available/feature-classifier/classify-sklearn)\n",
    "- [qiime metadata](https://docs.qiime2.org/2022.2/plugins/available/metadata/)\n",
    "- [classify-hybrid-vsearch-sklearn](https://docs.qiime2.org/2022.2/plugins/available/feature-classifier/classify-hybrid-vsearch-sklearn/)\n",
    "- [qiime metadata tabulate](https://docs.qiime2.org/2022.2/plugins/available/metadata/tabulate/)\n",
    "- [qiime taxa](https://docs.qiime2.org/2022.2/plugins/available/taxa/)\n",
    "- [qiime taxa barplot](https://docs.qiime2.org/2022.2/plugins/available/taxa/barplot/)"
   ]
  },
  {
   "cell_type": "markdown",
   "id": "9b0e76ba",
   "metadata": {
    "papermill": {
     "duration": 0.0357,
     "end_time": "2022-09-15T18:50:49.379248",
     "exception": false,
     "start_time": "2022-09-15T18:50:49.343548",
     "status": "completed"
    },
    "tags": []
   },
   "source": [
    "## Setup and settings"
   ]
  },
  {
   "cell_type": "code",
   "execution_count": 1,
   "id": "0cd47c78",
   "metadata": {
    "ExecuteTime": {
     "end_time": "2022-07-07T16:42:59.634683Z",
     "start_time": "2022-07-07T16:42:53.180558Z"
    },
    "execution": {
     "iopub.execute_input": "2022-09-15T18:50:49.419779Z",
     "iopub.status.busy": "2022-09-15T18:50:49.419267Z",
     "iopub.status.idle": "2022-09-15T18:50:55.571943Z",
     "shell.execute_reply": "2022-09-15T18:50:55.571068Z"
    },
    "papermill": {
     "duration": 6.184949,
     "end_time": "2022-09-15T18:50:55.574754",
     "exception": false,
     "start_time": "2022-09-15T18:50:49.389805",
     "status": "completed"
    },
    "tags": []
   },
   "outputs": [],
   "source": [
    "# Importing packages\n",
    "import os\n",
    "from qiime2 import Artifact\n",
    "from qiime2 import Visualization\n",
    "from qiime2 import Metadata\n",
    "import qiime2.plugins.metadata.actions as metadata_actions\n",
    "\n",
    "from qiime2.plugins import feature_classifier\n",
    "from qiime2.plugins import metadata\n",
    "from qiime2.plugins import taxa\n",
    "\n",
    "import matplotlib.pyplot as plt\n",
    "\n",
    "from utils import *\n",
    "\n",
    "%matplotlib inline"
   ]
  },
  {
   "cell_type": "code",
   "execution_count": 2,
   "id": "4df3af35",
   "metadata": {
    "ExecuteTime": {
     "end_time": "2022-06-01T18:53:42.633668Z",
     "start_time": "2022-06-01T18:53:37.822470Z"
    },
    "execution": {
     "iopub.execute_input": "2022-09-15T18:50:55.600840Z",
     "iopub.status.busy": "2022-09-15T18:50:55.600583Z",
     "iopub.status.idle": "2022-09-15T18:50:57.154494Z",
     "shell.execute_reply": "2022-09-15T18:50:57.153147Z"
    },
    "papermill": {
     "duration": 1.56715,
     "end_time": "2022-09-15T18:50:57.157245",
     "exception": false,
     "start_time": "2022-09-15T18:50:55.590095",
     "status": "completed"
    },
    "tags": []
   },
   "outputs": [
    {
     "name": "stdout",
     "output_type": "stream",
     "text": [
      "Requirement already satisfied: scikit-learn==0.23.1 in /home/lauro/anaconda3/envs/qiime2-2022.2/lib/python3.8/site-packages (0.23.1)\r\n",
      "Requirement already satisfied: scipy>=0.19.1 in /home/lauro/anaconda3/envs/qiime2-2022.2/lib/python3.8/site-packages (from scikit-learn==0.23.1) (1.8.0)\r\n",
      "Requirement already satisfied: joblib>=0.11 in /home/lauro/anaconda3/envs/qiime2-2022.2/lib/python3.8/site-packages (from scikit-learn==0.23.1) (1.1.0)\r\n",
      "Requirement already satisfied: threadpoolctl>=2.0.0 in /home/lauro/anaconda3/envs/qiime2-2022.2/lib/python3.8/site-packages (from scikit-learn==0.23.1) (3.1.0)\r\n",
      "Requirement already satisfied: numpy>=1.13.3 in /home/lauro/anaconda3/envs/qiime2-2022.2/lib/python3.8/site-packages (from scikit-learn==0.23.1) (1.22.2)\r\n"
     ]
    },
    {
     "name": "stdout",
     "output_type": "stream",
     "text": [
      "Note: you may need to restart the kernel to use updated packages.\n"
     ]
    }
   ],
   "source": [
    "%pip install --user 'scikit-learn==0.23.1'"
   ]
  },
  {
   "cell_type": "code",
   "execution_count": 3,
   "id": "6e0332c7",
   "metadata": {
    "ExecuteTime": {
     "end_time": "2022-06-01T18:53:42.641562Z",
     "start_time": "2022-06-01T18:53:42.637484Z"
    },
    "execution": {
     "iopub.execute_input": "2022-09-15T18:50:57.263286Z",
     "iopub.status.busy": "2022-09-15T18:50:57.262757Z",
     "iopub.status.idle": "2022-09-15T18:50:57.268192Z",
     "shell.execute_reply": "2022-09-15T18:50:57.267179Z"
    },
    "papermill": {
     "duration": 0.097072,
     "end_time": "2022-09-15T18:50:57.270242",
     "exception": false,
     "start_time": "2022-09-15T18:50:57.173170",
     "status": "completed"
    },
    "tags": []
   },
   "outputs": [],
   "source": [
    "# from qiime2.plugins import demux, deblur, quality_filter, \\\n",
    "#                            metadata, feature_table, alignment, \\\n",
    "#                            phylogeny, diversity, emperor, feature_classifier, \\\n",
    "#                            taxa, composition"
   ]
  },
  {
   "cell_type": "markdown",
   "id": "d073cef4",
   "metadata": {
    "papermill": {
     "duration": 0.011918,
     "end_time": "2022-09-15T18:50:57.317356",
     "exception": false,
     "start_time": "2022-09-15T18:50:57.305438",
     "status": "completed"
    },
    "tags": []
   },
   "source": [
    "### Receiving the parameters\n",
    "\n",
    "The following cell can receive parameters using the [papermill](https://papermill.readthedocs.io/en/latest/) tool."
   ]
  },
  {
   "cell_type": "code",
   "execution_count": 4,
   "id": "c7a84859",
   "metadata": {
    "ExecuteTime": {
     "end_time": "2022-07-07T16:42:59.640401Z",
     "start_time": "2022-07-07T16:42:59.636746Z"
    },
    "execution": {
     "iopub.execute_input": "2022-09-15T18:50:57.371021Z",
     "iopub.status.busy": "2022-09-15T18:50:57.370598Z",
     "iopub.status.idle": "2022-09-15T18:50:57.378372Z",
     "shell.execute_reply": "2022-09-15T18:50:57.377365Z"
    },
    "papermill": {
     "duration": 0.024199,
     "end_time": "2022-09-15T18:50:57.380551",
     "exception": false,
     "start_time": "2022-09-15T18:50:57.356352",
     "status": "completed"
    },
    "tags": [
     "parameters"
    ]
   },
   "outputs": [],
   "source": [
    "metadata_file = os.path.abspath(os.path.join(os.getcwd(), '..', 'data', 'raw', 'metadata', 'not-hist-feces-metadata.tsv'))\n",
    "base_dir = os.path.join('/', 'home', 'lauro', 'nupeb', 'redemicro')\n",
    "experiment_name = 'ana-flavia-superlactacao'\n",
    "threads = 6\n",
    "replace_files = False"
   ]
  },
  {
   "cell_type": "code",
   "execution_count": 5,
   "id": "1df18e90",
   "metadata": {
    "execution": {
     "iopub.execute_input": "2022-09-15T18:50:57.408924Z",
     "iopub.status.busy": "2022-09-15T18:50:57.408560Z",
     "iopub.status.idle": "2022-09-15T18:50:57.416585Z",
     "shell.execute_reply": "2022-09-15T18:50:57.415598Z"
    },
    "papermill": {
     "duration": 0.023482,
     "end_time": "2022-09-15T18:50:57.418619",
     "exception": false,
     "start_time": "2022-09-15T18:50:57.395137",
     "status": "completed"
    },
    "tags": [
     "injected-parameters"
    ]
   },
   "outputs": [],
   "source": [
    "# Parameters\n",
    "experiment_name = \"ana-flavia-NCxNR-trim\"\n",
    "base_dir = \"/home/lauro/nupeb/rede-micro/redemicro-ana-flavia-nutri\"\n",
    "manifest_file = \"/home/lauro/nupeb/rede-micro/redemicro-ana-flavia-nutri/data/raw/manifest/manifest-ana-flavia-NCxNR.csv\"\n",
    "metadata_file = \"/home/lauro/nupeb/rede-micro/redemicro-ana-flavia-nutri/data/raw/metadata/metadata-ana-flavia-NCxNR.tsv\"\n",
    "class_col = \"sample-group\"\n",
    "classifier_file = \"/home/lauro/nupeb/dados_brutos_rede_genoma/16S_classifiers_qiime2/silva-138-99-nb-classifier.qza\"\n",
    "replace_files = False\n",
    "phred = 20\n",
    "trunc_f = 0\n",
    "trunc_r = 0\n",
    "overlap = 12\n",
    "threads = 6\n",
    "trim = {\n",
    "    \"overlap\": 8,\n",
    "    \"forward_primer\": \"CCTACGGGRSGCAGCAG\",\n",
    "    \"reverse_primer\": \"GGACTACHVGGGTWTCTAAT\",\n",
    "}\n"
   ]
  },
  {
   "cell_type": "code",
   "execution_count": 6,
   "id": "787ca028",
   "metadata": {
    "execution": {
     "iopub.execute_input": "2022-09-15T18:50:57.446459Z",
     "iopub.status.busy": "2022-09-15T18:50:57.446101Z",
     "iopub.status.idle": "2022-09-15T18:50:57.451941Z",
     "shell.execute_reply": "2022-09-15T18:50:57.451016Z"
    },
    "papermill": {
     "duration": 0.020565,
     "end_time": "2022-09-15T18:50:57.453744",
     "exception": false,
     "start_time": "2022-09-15T18:50:57.433179",
     "status": "completed"
    },
    "tags": []
   },
   "outputs": [],
   "source": [
    "experiment_folder = os.path.abspath(os.path.join(base_dir, 'experiments', experiment_name))\n",
    "img_folder = os.path.abspath(os.path.join(experiment_folder, 'imgs'))"
   ]
  },
  {
   "cell_type": "markdown",
   "id": "f7e3f481",
   "metadata": {
    "papermill": {
     "duration": 0.011626,
     "end_time": "2022-09-15T18:50:57.477433",
     "exception": false,
     "start_time": "2022-09-15T18:50:57.465807",
     "status": "completed"
    },
    "tags": []
   },
   "source": [
    "### Defining names, paths and flags"
   ]
  },
  {
   "cell_type": "code",
   "execution_count": 7,
   "id": "58f5f5aa",
   "metadata": {
    "ExecuteTime": {
     "end_time": "2022-07-07T16:43:01.373756Z",
     "start_time": "2022-07-07T16:43:01.364331Z"
    },
    "execution": {
     "iopub.execute_input": "2022-09-15T18:50:57.501454Z",
     "iopub.status.busy": "2022-09-15T18:50:57.501099Z",
     "iopub.status.idle": "2022-09-15T18:50:57.511831Z",
     "shell.execute_reply": "2022-09-15T18:50:57.510915Z"
    },
    "papermill": {
     "duration": 0.025348,
     "end_time": "2022-09-15T18:50:57.513778",
     "exception": false,
     "start_time": "2022-09-15T18:50:57.488430",
     "status": "completed"
    },
    "tags": []
   },
   "outputs": [],
   "source": [
    "# QIIME2 Artifacts folder\n",
    "qiime_folder = os.path.join(experiment_folder, 'qiime-artifacts')\n",
    "\n",
    "# Input - DADA2 Artifacts\n",
    "dada2_tabs_path = os.path.join(qiime_folder, 'dada2-tabs.qza')\n",
    "dada2_reps_path = os.path.join(qiime_folder, 'dada2-reps.qza')\n",
    "dada2_stat_path = os.path.join(qiime_folder, 'dada2-stat.qza')\n",
    "\n",
    "# Input - DADA2 Artifacts\n",
    "classifier_path = os.path.abspath(os.path.join(os.getcwd(), '..', 'models', 'silva-138-99-nb-classifier.qza'))\n",
    "# 'silva-138-99-nb-classifier.qza'\n",
    "\n",
    "# Output - Metataxonomy Artifact\n",
    "metatax_path = os.path.join(qiime_folder, 'metatax.qza')\n",
    "metatax_view_path = os.path.join(qiime_folder, 'metatax.qzv')\n",
    "metatax_bar_path = os.path.join(qiime_folder, 'metatax-bar.qzv')\n",
    "\n",
    "# Flag - Load or create files\n",
    "need_tax = not (os.path.isfile(metatax_path)) or replace_files\n",
    "need_view = not (os.path.isfile(metatax_view_path) or os.path.isfile(metatax_bar_path)) or replace_files"
   ]
  },
  {
   "cell_type": "markdown",
   "id": "a6f1cb4d",
   "metadata": {
    "papermill": {
     "duration": 0.011509,
     "end_time": "2022-09-15T18:50:57.538480",
     "exception": false,
     "start_time": "2022-09-15T18:50:57.526971",
     "status": "completed"
    },
    "tags": []
   },
   "source": [
    "## Step execution\n",
    "\n",
    "### Load input files\n",
    "\n",
    "This Step import the QIIME2 `SampleData[PairedEndSequencesWithQuality]` Artifact with all demultiplexed sequences and the `Metadata` file."
   ]
  },
  {
   "cell_type": "code",
   "execution_count": 8,
   "id": "f3fd1fd7",
   "metadata": {
    "ExecuteTime": {
     "end_time": "2022-06-01T18:53:42.788111Z",
     "start_time": "2022-06-01T18:53:42.695110Z"
    },
    "execution": {
     "iopub.execute_input": "2022-09-15T18:50:57.561932Z",
     "iopub.status.busy": "2022-09-15T18:50:57.561643Z",
     "iopub.status.idle": "2022-09-15T18:50:57.581573Z",
     "shell.execute_reply": "2022-09-15T18:50:57.580953Z"
    },
    "papermill": {
     "duration": 0.034121,
     "end_time": "2022-09-15T18:50:57.583803",
     "exception": false,
     "start_time": "2022-09-15T18:50:57.549682",
     "status": "completed"
    },
    "tags": []
   },
   "outputs": [],
   "source": [
    "metadata_qa = Metadata.load(metadata_file)"
   ]
  },
  {
   "cell_type": "code",
   "execution_count": 9,
   "id": "ef5ae80b",
   "metadata": {
    "ExecuteTime": {
     "end_time": "2022-06-01T18:53:42.920863Z",
     "start_time": "2022-06-01T18:53:42.790999Z"
    },
    "execution": {
     "iopub.execute_input": "2022-09-15T18:50:57.610548Z",
     "iopub.status.busy": "2022-09-15T18:50:57.610297Z",
     "iopub.status.idle": "2022-09-15T18:56:18.595800Z",
     "shell.execute_reply": "2022-09-15T18:56:18.595115Z"
    },
    "papermill": {
     "duration": 321.000934,
     "end_time": "2022-09-15T18:56:18.598854",
     "exception": false,
     "start_time": "2022-09-15T18:50:57.597920",
     "status": "completed"
    },
    "scrolled": true,
    "tags": []
   },
   "outputs": [],
   "source": [
    "if not need_tax:\n",
    "    \n",
    "    # Load FeatureData[Taxonomy]\n",
    "    metatax = Artifact.load(metatax_path)\n",
    "    \n",
    "else:\n",
    "    \n",
    "    # Load TaxonomicClassifier Artifact\n",
    "    classifier = Artifact.load(classifier_path)\n",
    "    \n",
    "    # Load FeatureData[Sequence] Artifact\n",
    "    reps = Artifact.load(dada2_reps_path)\n",
    "    \n",
    "    # Classify ASV features and create a new FeatureData[Taxonomy]\n",
    "    metatax_qa = feature_classifier.methods.classify_sklearn(reads=reps, classifier=classifier, n_jobs=threads)\n",
    "\n",
    "    # Save FeatureData[Taxonomy] Artifact\n",
    "    metatax_qa.classification.save(metatax_path)"
   ]
  },
  {
   "cell_type": "code",
   "execution_count": 10,
   "id": "da3747dc",
   "metadata": {
    "ExecuteTime": {
     "end_time": "2022-06-01T18:58:53.489795Z",
     "start_time": "2022-06-01T18:58:53.395394Z"
    },
    "execution": {
     "iopub.execute_input": "2022-09-15T18:56:18.701093Z",
     "iopub.status.busy": "2022-09-15T18:56:18.700669Z",
     "iopub.status.idle": "2022-09-15T18:56:20.184593Z",
     "shell.execute_reply": "2022-09-15T18:56:20.183853Z"
    },
    "papermill": {
     "duration": 1.573556,
     "end_time": "2022-09-15T18:56:20.187722",
     "exception": false,
     "start_time": "2022-09-15T18:56:18.614166",
     "status": "completed"
    },
    "tags": []
   },
   "outputs": [],
   "source": [
    "if not need_view:\n",
    "    \n",
    "    # Load Metatax\n",
    "    metatax_qv = Visualization.load(metatax_view_path)\n",
    "    metatax_bar_qv = Visualization.load(metatax_bar_path)\n",
    "    \n",
    "else:\n",
    "    \n",
    "    # Metataxonomy Table Visualization\n",
    "    metatax_qv = metadata.visualizers.tabulate(metatax_qa.classification.view(Metadata))\n",
    "    metatax_qv.visualization.save(metatax_view_path)\n",
    "    \n",
    "    # Load TableData[Sequence] Artifact\n",
    "    tabs = Artifact.load(dada2_tabs_path)\n",
    "    \n",
    "    # Barplot Visualization\n",
    "    # Next, we can view the taxonomic composition of our samples with interactive bar plots. \n",
    "    # Generate those plots with the following command and then open the visualization.\n",
    "    metatax_bar_qv = taxa.visualizers.barplot(tabs, metatax_qa.classification, metadata_qa)\n",
    "    metatax_bar_qv.visualization.save(metatax_bar_path)"
   ]
  },
  {
   "cell_type": "code",
   "execution_count": 11,
   "id": "e184412e",
   "metadata": {
    "ExecuteTime": {
     "end_time": "2022-06-01T18:58:22.804508Z",
     "start_time": "2022-06-01T18:58:22.793768Z"
    },
    "execution": {
     "iopub.execute_input": "2022-09-15T18:56:20.219960Z",
     "iopub.status.busy": "2022-09-15T18:56:20.219785Z",
     "iopub.status.idle": "2022-09-15T18:56:20.225341Z",
     "shell.execute_reply": "2022-09-15T18:56:20.224873Z"
    },
    "papermill": {
     "duration": 0.019424,
     "end_time": "2022-09-15T18:56:20.226886",
     "exception": false,
     "start_time": "2022-09-15T18:56:20.207462",
     "status": "completed"
    },
    "tags": []
   },
   "outputs": [
    {
     "data": {
      "text/plain": [
       "Results (name = value)\n",
       "-----------------------------------------------------------------------------------------\n",
       "visualization = <visualization: Visualization uuid: 74e1a1da-8f7b-4288-9237-50b528e2e78c>"
      ]
     },
     "execution_count": 11,
     "metadata": {},
     "output_type": "execute_result"
    }
   ],
   "source": [
    "metatax_qv"
   ]
  },
  {
   "cell_type": "code",
   "execution_count": 12,
   "id": "77f884bb",
   "metadata": {
    "ExecuteTime": {
     "end_time": "2022-06-01T18:58:56.294932Z",
     "start_time": "2022-06-01T18:58:56.288474Z"
    },
    "execution": {
     "iopub.execute_input": "2022-09-15T18:56:20.276984Z",
     "iopub.status.busy": "2022-09-15T18:56:20.276759Z",
     "iopub.status.idle": "2022-09-15T18:56:20.281532Z",
     "shell.execute_reply": "2022-09-15T18:56:20.280810Z"
    },
    "papermill": {
     "duration": 0.04013,
     "end_time": "2022-09-15T18:56:20.283180",
     "exception": false,
     "start_time": "2022-09-15T18:56:20.243050",
     "status": "completed"
    },
    "tags": []
   },
   "outputs": [
    {
     "data": {
      "text/plain": [
       "Results (name = value)\n",
       "-----------------------------------------------------------------------------------------\n",
       "visualization = <visualization: Visualization uuid: 17726c60-b0e0-48a4-a6f0-6781c47d0699>"
      ]
     },
     "execution_count": 12,
     "metadata": {},
     "output_type": "execute_result"
    }
   ],
   "source": [
    "metatax_bar_qv"
   ]
  }
 ],
 "metadata": {
  "celltoolbar": "Edit Metadata",
  "kernelspec": {
   "display_name": "Python 3 (ipykernel)",
   "language": "python",
   "name": "python3"
  },
  "language_info": {
   "codemirror_mode": {
    "name": "ipython",
    "version": 3
   },
   "file_extension": ".py",
   "mimetype": "text/x-python",
   "name": "python",
   "nbconvert_exporter": "python",
   "pygments_lexer": "ipython3",
   "version": "3.8.12"
  },
  "papermill": {
   "default_parameters": {},
   "duration": 334.449462,
   "end_time": "2022-09-15T18:56:22.120704",
   "environment_variables": {},
   "exception": null,
   "input_path": "./step-metataxonomy.ipynb",
   "output_path": "../executed/step-metataxonomy-NCxNR-trim.ipynb",
   "parameters": {
    "base_dir": "/home/lauro/nupeb/rede-micro/redemicro-ana-flavia-nutri",
    "class_col": "sample-group",
    "classifier_file": "/home/lauro/nupeb/dados_brutos_rede_genoma/16S_classifiers_qiime2/silva-138-99-nb-classifier.qza",
    "experiment_name": "ana-flavia-NCxNR-trim",
    "manifest_file": "/home/lauro/nupeb/rede-micro/redemicro-ana-flavia-nutri/data/raw/manifest/manifest-ana-flavia-NCxNR.csv",
    "metadata_file": "/home/lauro/nupeb/rede-micro/redemicro-ana-flavia-nutri/data/raw/metadata/metadata-ana-flavia-NCxNR.tsv",
    "overlap": 12,
    "phred": 20,
    "replace_files": false,
    "threads": 6,
    "trim": {
     "forward_primer": "CCTACGGGRSGCAGCAG",
     "overlap": 8,
     "reverse_primer": "GGACTACHVGGGTWTCTAAT"
    },
    "trunc_f": 0,
    "trunc_r": 0
   },
   "start_time": "2022-09-15T18:50:47.671242",
   "version": "2.3.4"
  },
  "toc-autonumbering": false,
  "toc-showcode": false,
  "toc-showmarkdowntxt": false
 },
 "nbformat": 4,
 "nbformat_minor": 5
}