{
 "cells": [
  {
   "cell_type": "markdown",
   "id": "e293512e",
   "metadata": {
    "papermill": {
     "duration": 0.018086,
     "end_time": "2022-07-15T21:15:03.803667",
     "exception": false,
     "start_time": "2022-07-15T21:15:03.785581",
     "status": "completed"
    },
    "tags": []
   },
   "source": [
    "# Prepare data for Pipeline"
   ]
  },
  {
   "cell_type": "markdown",
   "id": "1136f5be",
   "metadata": {
    "papermill": {
     "duration": 0.044792,
     "end_time": "2022-07-15T21:15:03.859688",
     "exception": false,
     "start_time": "2022-07-15T21:15:03.814896",
     "status": "completed"
    },
    "tags": []
   },
   "source": [
    "## Setup and settings"
   ]
  },
  {
   "cell_type": "code",
   "execution_count": 1,
   "id": "fd6acafd",
   "metadata": {
    "ExecuteTime": {
     "end_time": "2022-06-28T18:50:41.589256Z",
     "start_time": "2022-06-28T18:50:35.447356Z"
    },
    "execution": {
     "iopub.execute_input": "2022-07-15T21:15:03.891973Z",
     "iopub.status.busy": "2022-07-15T21:15:03.891592Z",
     "iopub.status.idle": "2022-07-15T21:15:09.922674Z",
     "shell.execute_reply": "2022-07-15T21:15:09.921983Z"
    },
    "papermill": {
     "duration": 6.045993,
     "end_time": "2022-07-15T21:15:09.925856",
     "exception": false,
     "start_time": "2022-07-15T21:15:03.879863",
     "status": "completed"
    },
    "tags": []
   },
   "outputs": [],
   "source": [
    "# Importing packages\n",
    "import os\n",
    "import yaml\n",
    "from qiime2 import Artifact, Visualization\n",
    "from qiime2.plugins import demux\n",
    "\n",
    "from utils import *"
   ]
  },
  {
   "cell_type": "markdown",
   "id": "e86c509b",
   "metadata": {
    "papermill": {
     "duration": 0.098844,
     "end_time": "2022-07-15T21:15:10.042586",
     "exception": false,
     "start_time": "2022-07-15T21:15:09.943742",
     "status": "completed"
    },
    "tags": []
   },
   "source": [
    "### Receiving the parameters\n",
    "\n",
    "The following cell can receive parameters using the [papermill](https://papermill.readthedocs.io/en/latest/) tool."
   ]
  },
  {
   "cell_type": "code",
   "execution_count": 2,
   "id": "e415d282",
   "metadata": {
    "ExecuteTime": {
     "end_time": "2022-06-28T18:50:41.594341Z",
     "start_time": "2022-06-28T18:50:41.591544Z"
    },
    "execution": {
     "iopub.execute_input": "2022-07-15T21:15:10.151371Z",
     "iopub.status.busy": "2022-07-15T21:15:10.151083Z",
     "iopub.status.idle": "2022-07-15T21:15:10.156965Z",
     "shell.execute_reply": "2022-07-15T21:15:10.156204Z"
    },
    "papermill": {
     "duration": 0.062212,
     "end_time": "2022-07-15T21:15:10.158787",
     "exception": false,
     "start_time": "2022-07-15T21:15:10.096575",
     "status": "completed"
    },
    "tags": [
     "parameters"
    ]
   },
   "outputs": [],
   "source": [
    "params_path = os.path.join('..', 'params', 'ana-flavia-superlactacao.yaml')\n",
    "experiment_name = 'jenneffer-vs-01'\n",
    "base_dir = os.path.join('/', 'home', 'lauro', 'nupeb', 'redemicro')\n",
    "manifest_file = os.path.join(base_dir, 'data', 'raw', 'manifest', 'not-hist-vs-manifest.csv')\n",
    "img_folder = os.path.abspath(os.path.join(base_dir, 'imgs'))\n",
    "replace_files = False"
   ]
  },
  {
   "cell_type": "code",
   "execution_count": 3,
   "id": "afb7585f",
   "metadata": {
    "execution": {
     "iopub.execute_input": "2022-07-15T21:15:10.183094Z",
     "iopub.status.busy": "2022-07-15T21:15:10.182835Z",
     "iopub.status.idle": "2022-07-15T21:15:10.188499Z",
     "shell.execute_reply": "2022-07-15T21:15:10.187686Z"
    },
    "papermill": {
     "duration": 0.018797,
     "end_time": "2022-07-15T21:15:10.190354",
     "exception": false,
     "start_time": "2022-07-15T21:15:10.171557",
     "status": "completed"
    },
    "tags": [
     "injected-parameters"
    ]
   },
   "outputs": [],
   "source": [
    "# Parameters\n",
    "experiment_name = \"ana-flavia-NCxNR\"\n",
    "base_dir = \"/home/lauro/nupeb/rede-micro/redemicro-ana-flavia-nutri\"\n",
    "manifest_file = \"/home/lauro/nupeb/rede-micro/redemicro-ana-flavia-nutri/data/raw/manifest/manifest-ana-flavia-NCxNR.csv\"\n",
    "metadata_file = \"/home/lauro/nupeb/rede-micro/redemicro-ana-flavia-nutri/data/raw/metadata/metadata-ana-flavia-NCxNR.tsv\"\n",
    "class_col = \"sample-group\"\n",
    "classifier_file = \"/home/lauro/nupeb/dados_brutos_rede_genoma/16S_classifiers_qiime2/silva-138-99-nb-classifier.qza\"\n",
    "replace_files = False\n",
    "phred = 20\n",
    "trunc_f = 0\n",
    "trunc_r = 0\n",
    "overlap = 12\n",
    "threads = 6\n"
   ]
  },
  {
   "cell_type": "code",
   "execution_count": 4,
   "id": "f9349179",
   "metadata": {
    "ExecuteTime": {
     "end_time": "2022-06-28T18:50:41.610682Z",
     "start_time": "2022-06-28T18:50:41.595886Z"
    },
    "execution": {
     "iopub.execute_input": "2022-07-15T21:15:10.214829Z",
     "iopub.status.busy": "2022-07-15T21:15:10.214527Z",
     "iopub.status.idle": "2022-07-15T21:15:10.220939Z",
     "shell.execute_reply": "2022-07-15T21:15:10.220028Z"
    },
    "papermill": {
     "duration": 0.020259,
     "end_time": "2022-07-15T21:15:10.222732",
     "exception": false,
     "start_time": "2022-07-15T21:15:10.202473",
     "status": "completed"
    },
    "tags": []
   },
   "outputs": [],
   "source": [
    "# Setting hardcoded parameters for development and debbuging\n",
    "production = True\n",
    "if not production:\n",
    "    params_path = os.path.join('..', 'params', 'ana-flavia-hipotese-01')\n",
    "    with open(params_path, 'r') as stream:\n",
    "        params = yaml.safe_load(stream)\n",
    "        experiment_name = params['experiment_name']\n",
    "        base_dir = params['base_dir']\n",
    "        manifest_file = params['manifest_file']\n",
    "        replace_files = params['replace_files']"
   ]
  },
  {
   "cell_type": "markdown",
   "id": "e3aa8e92",
   "metadata": {
    "papermill": {
     "duration": 0.010469,
     "end_time": "2022-07-15T21:15:10.246465",
     "exception": false,
     "start_time": "2022-07-15T21:15:10.235996",
     "status": "completed"
    },
    "tags": []
   },
   "source": [
    "### Defining names and paths"
   ]
  },
  {
   "cell_type": "code",
   "execution_count": 5,
   "id": "4446db8d",
   "metadata": {
    "ExecuteTime": {
     "end_time": "2022-06-28T18:50:41.618098Z",
     "start_time": "2022-06-28T18:50:41.614152Z"
    },
    "execution": {
     "iopub.execute_input": "2022-07-15T21:15:10.268511Z",
     "iopub.status.busy": "2022-07-15T21:15:10.268166Z",
     "iopub.status.idle": "2022-07-15T21:15:10.272626Z",
     "shell.execute_reply": "2022-07-15T21:15:10.271746Z"
    },
    "papermill": {
     "duration": 0.017439,
     "end_time": "2022-07-15T21:15:10.274292",
     "exception": false,
     "start_time": "2022-07-15T21:15:10.256853",
     "status": "completed"
    },
    "tags": []
   },
   "outputs": [],
   "source": [
    "# new_manifest = '/home/lauro/nupeb/redemicro/data/raw/manifest/karina-manifest.csv'\n",
    "# with open(manifest_file, 'r') as oldm, open(new_manifest, 'w') as newm:\n",
    "#     header = 'sample-id,absolute-filepath,direction\\n'\n",
    "#     newm.write(header)\n",
    "#     for line in oldm.readlines()[1:]:\n",
    "#         sid, forward, reverse = line[:-1].split(',')\n",
    "#         fline = ','.join((sid, forward, 'forward')) + '\\n'\n",
    "#         rline = ','.join((sid, reverse, 'reverse')) + '\\n'\n",
    "#         newm.write(fline)\n",
    "#         newm.write(rline)"
   ]
  },
  {
   "cell_type": "code",
   "execution_count": 6,
   "id": "7c504ab7",
   "metadata": {
    "ExecuteTime": {
     "end_time": "2022-06-28T18:50:41.632125Z",
     "start_time": "2022-06-28T18:50:41.619710Z"
    },
    "execution": {
     "iopub.execute_input": "2022-07-15T21:15:10.296086Z",
     "iopub.status.busy": "2022-07-15T21:15:10.295760Z",
     "iopub.status.idle": "2022-07-15T21:15:10.305559Z",
     "shell.execute_reply": "2022-07-15T21:15:10.304689Z"
    },
    "papermill": {
     "duration": 0.023075,
     "end_time": "2022-07-15T21:15:10.307536",
     "exception": false,
     "start_time": "2022-07-15T21:15:10.284461",
     "status": "completed"
    },
    "tags": []
   },
   "outputs": [
    {
     "name": "stdout",
     "output_type": "stream",
     "text": [
      "New qiime-artifacts folder path created: /home/lauro/nupeb/rede-micro/redemicro-ana-flavia-nutri/experiments/ana-flavia-NCxNR/qiime-artifacts\n",
      "New img folder path created: /home/lauro/nupeb/rede-micro/redemicro-ana-flavia-nutri/experiments/ana-flavia-NCxNR/imgs\n"
     ]
    }
   ],
   "source": [
    "# Define the output folder path\n",
    "out_dir = os.path.join(base_dir, 'experiments', experiment_name, 'qiime-artifacts')\n",
    "img_folder = os.path.abspath(os.path.join(base_dir, 'experiments', experiment_name, 'imgs'))\n",
    "\n",
    "# Create path if it not exist\n",
    "if not os.path.isdir(out_dir):\n",
    "    os.makedirs(out_dir)\n",
    "    print(f'New qiime-artifacts folder path created: {out_dir}')\n",
    "\n",
    "# Create path if it not exist\n",
    "if not os.path.isdir(img_folder):\n",
    "    os.makedirs(img_folder)\n",
    "    print(f'New img folder path created: {img_folder}')\n",
    "\n",
    "# Define the output artifact full path\n",
    "demux_file = os.path.join(out_dir, 'demux-paired.qza')\n",
    "demux_view = os.path.join(out_dir, 'demux-paired.qzv')"
   ]
  },
  {
   "cell_type": "code",
   "execution_count": null,
   "id": "5d04eb16",
   "metadata": {
    "papermill": {
     "duration": 0.015137,
     "end_time": "2022-07-15T21:15:10.335918",
     "exception": false,
     "start_time": "2022-07-15T21:15:10.320781",
     "status": "completed"
    },
    "tags": []
   },
   "outputs": [],
   "source": []
  },
  {
   "cell_type": "markdown",
   "id": "482e740f",
   "metadata": {
    "papermill": {
     "duration": 0.010363,
     "end_time": "2022-07-15T21:15:10.357390",
     "exception": false,
     "start_time": "2022-07-15T21:15:10.347027",
     "status": "completed"
    },
    "tags": []
   },
   "source": [
    "## Step execution\n",
    "\n",
    "This Step import all `fastq` files in a **QIIME2 Artifact** object and save it to a new `qza` file of `SampleData[PairedEndSequencesWithQuality]`"
   ]
  },
  {
   "cell_type": "code",
   "execution_count": null,
   "id": "1a8ed3a8",
   "metadata": {
    "ExecuteTime": {
     "end_time": "2022-06-28T19:44:58.640338Z",
     "start_time": "2022-06-28T18:50:41.633657Z"
    },
    "papermill": {
     "duration": null,
     "end_time": null,
     "exception": false,
     "start_time": "2022-07-15T21:15:10.367813",
     "status": "running"
    },
    "tags": []
   },
   "outputs": [],
   "source": [
    "# If the demux file does not exist or if the old file will be replaced\n",
    "if not os.path.isfile(demux_file) or replace_files:\n",
    "    \n",
    "    # Import data and create an artifact object\n",
    "    artifact = Artifact.import_data(\n",
    "        'SampleData[PairedEndSequencesWithQuality]', \n",
    "        manifest_file, \n",
    "        view_type='PairedEndFastqManifestPhred33')\n",
    "    \n",
    "    # Save the artifact object to a new qza file\n",
    "    artifact.save(demux_file)\n",
    "\n",
    "else:\n",
    "    artifact = Artifact.load(demux_file)"
   ]
  },
  {
   "cell_type": "code",
   "execution_count": null,
   "id": "0b409c35",
   "metadata": {
    "ExecuteTime": {
     "end_time": "2022-06-28T19:47:56.602855Z",
     "start_time": "2022-06-28T19:44:58.642520Z"
    },
    "papermill": {
     "duration": null,
     "end_time": null,
     "exception": null,
     "start_time": null,
     "status": "pending"
    },
    "tags": []
   },
   "outputs": [],
   "source": [
    "if not os.path.isfile(demux_view) or replace_files: \n",
    "    # Generate e visualization of the Artifact\n",
    "    demux_summary = demux.visualizers.summarize(artifact)\n",
    "\n",
    "    # Save a new visualization file based on the qza file\n",
    "    Visualization.save(demux_summary.visualization, filepath=demux_view)\n",
    "    \n",
    "    demux_view_obj = demux_summary.visualization\n",
    "else:\n",
    "    demux_view_obj = Visualization.load(demux_view)"
   ]
  },
  {
   "cell_type": "markdown",
   "id": "1d2d59ea",
   "metadata": {
    "papermill": {
     "duration": null,
     "end_time": null,
     "exception": null,
     "start_time": null,
     "status": "pending"
    },
    "tags": []
   },
   "source": [
    "## Step report\n"
   ]
  },
  {
   "cell_type": "code",
   "execution_count": null,
   "id": "968d8a21",
   "metadata": {
    "ExecuteTime": {
     "end_time": "2022-06-28T19:47:56.609737Z",
     "start_time": "2022-06-28T19:47:56.604820Z"
    },
    "papermill": {
     "duration": null,
     "end_time": null,
     "exception": null,
     "start_time": null,
     "status": "pending"
    },
    "tags": []
   },
   "outputs": [],
   "source": [
    "print(demux_view_obj)"
   ]
  },
  {
   "cell_type": "code",
   "execution_count": null,
   "id": "8716ecf9",
   "metadata": {
    "ExecuteTime": {
     "end_time": "2022-06-28T19:47:56.704841Z",
     "start_time": "2022-06-28T19:47:56.611846Z"
    },
    "papermill": {
     "duration": null,
     "end_time": null,
     "exception": null,
     "start_time": null,
     "status": "pending"
    },
    "tags": []
   },
   "outputs": [],
   "source": [
    "# Render Visualization\n",
    "demux_view_obj"
   ]
  }
 ],
 "metadata": {
  "celltoolbar": "Edit Metadata",
  "kernelspec": {
   "display_name": "Python 3 (ipykernel)",
   "language": "python",
   "name": "python3"
  },
  "language_info": {
   "codemirror_mode": {
    "name": "ipython",
    "version": 3
   },
   "file_extension": ".py",
   "mimetype": "text/x-python",
   "name": "python",
   "nbconvert_exporter": "python",
   "pygments_lexer": "ipython3",
   "version": "3.8.12"
  },
  "papermill": {
   "default_parameters": {},
   "duration": null,
   "end_time": null,
   "environment_variables": {},
   "exception": null,
   "input_path": "step-01-prepare-data.ipynb",
   "output_path": "../step-01-prepare-data-NCxNR.ipynb",
   "parameters": {
    "base_dir": "/home/lauro/nupeb/rede-micro/redemicro-ana-flavia-nutri",
    "class_col": "sample-group",
    "classifier_file": "/home/lauro/nupeb/dados_brutos_rede_genoma/16S_classifiers_qiime2/silva-138-99-nb-classifier.qza",
    "experiment_name": "ana-flavia-NCxNR",
    "manifest_file": "/home/lauro/nupeb/rede-micro/redemicro-ana-flavia-nutri/data/raw/manifest/manifest-ana-flavia-NCxNR.csv",
    "metadata_file": "/home/lauro/nupeb/rede-micro/redemicro-ana-flavia-nutri/data/raw/metadata/metadata-ana-flavia-NCxNR.tsv",
    "overlap": 12,
    "phred": 20,
    "replace_files": false,
    "threads": 6,
    "trunc_f": 0,
    "trunc_r": 0
   },
   "start_time": "2022-07-15T21:15:02.489599",
   "version": "2.3.4"
  },
  "toc-autonumbering": false,
  "toc-showcode": false,
  "toc-showmarkdowntxt": false
 },
 "nbformat": 4,
 "nbformat_minor": 5
}