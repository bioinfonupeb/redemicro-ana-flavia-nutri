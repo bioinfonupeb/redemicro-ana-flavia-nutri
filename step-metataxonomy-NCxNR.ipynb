{
 "cells": [
  {
   "cell_type": "markdown",
   "id": "136a5ae6",
   "metadata": {
    "papermill": {
     "duration": 0.018429,
     "end_time": "2022-08-01T18:48:35.584711",
     "exception": false,
     "start_time": "2022-08-01T18:48:35.566282",
     "status": "completed"
    },
    "tags": []
   },
   "source": [
    "### STEP : Taxonomic assignment\n",
    "#### Taxonomic assignment with Silva 16S\n",
    "\n",
    "Using Silva 16S classifier for Qiime2. List with all [classifiers](https://docs.qiime2.org/2020.6/data-resources/). \n",
    "\n",
    "#### Versions \n",
    "- [Silva 138 99% OTUs full-length sequences](https://data.qiime2.org/2020.6/common/silva-138-99-nb-classifier.qza)\n",
    "- [Silva 138 99% OTUs from 515F/806R region of sequences](https://data.qiime2.org/2020.6/common/silva-138-99-515-806-nb-classifier.qza)\n",
    "- [Greengenes 13_8 99% OTUs full-length sequences](https://data.qiime2.org/2020.6/common/gg-13-8-99-nb-classifier.qza)\n",
    "- [Greengenes 13_8 99% OTUs from 515F/806R region of sequences](https://data.qiime2.org/2020.6/common/gg-13-8-99-515-806-nb-classifier.qza)\n",
    "\n",
    "#### Methods\n",
    "- [qiime feature-classifier](https://docs.qiime2.org/2022.2/plugins/available/feature-classifier/)\n",
    "- [qiime feature-classifier classify-sklearn](https://docs.qiime2.org/2021.8/plugins/available/feature-classifier/classify-sklearn)\n",
    "- [qiime metadata](https://docs.qiime2.org/2022.2/plugins/available/metadata/)\n",
    "- [classify-hybrid-vsearch-sklearn](https://docs.qiime2.org/2022.2/plugins/available/feature-classifier/classify-hybrid-vsearch-sklearn/)\n",
    "- [qiime metadata tabulate](https://docs.qiime2.org/2022.2/plugins/available/metadata/tabulate/)\n",
    "- [qiime taxa](https://docs.qiime2.org/2022.2/plugins/available/taxa/)\n",
    "- [qiime taxa barplot](https://docs.qiime2.org/2022.2/plugins/available/taxa/barplot/)"
   ]
  },
  {
   "cell_type": "markdown",
   "id": "0cb2dfff",
   "metadata": {
    "papermill": {
     "duration": 0.010818,
     "end_time": "2022-08-01T18:48:35.813185",
     "exception": false,
     "start_time": "2022-08-01T18:48:35.802367",
     "status": "completed"
    },
    "tags": []
   },
   "source": [
    "## Setup and settings"
   ]
  },
  {
   "cell_type": "code",
   "execution_count": 1,
   "id": "b481d2e8",
   "metadata": {
    "ExecuteTime": {
     "end_time": "2022-07-07T16:42:59.634683Z",
     "start_time": "2022-07-07T16:42:53.180558Z"
    },
    "execution": {
     "iopub.execute_input": "2022-08-01T18:48:35.836318Z",
     "iopub.status.busy": "2022-08-01T18:48:35.835850Z",
     "iopub.status.idle": "2022-08-01T18:48:51.775067Z",
     "shell.execute_reply": "2022-08-01T18:48:51.774343Z"
    },
    "papermill": {
     "duration": 15.954074,
     "end_time": "2022-08-01T18:48:51.777924",
     "exception": false,
     "start_time": "2022-08-01T18:48:35.823850",
     "status": "completed"
    },
    "tags": []
   },
   "outputs": [],
   "source": [
    "# Importing packages\n",
    "import os\n",
    "from qiime2 import Artifact\n",
    "from qiime2 import Visualization\n",
    "from qiime2 import Metadata\n",
    "import qiime2.plugins.metadata.actions as metadata_actions\n",
    "\n",
    "from qiime2.plugins import feature_classifier\n",
    "from qiime2.plugins import metadata\n",
    "from qiime2.plugins import taxa\n",
    "\n",
    "import matplotlib.pyplot as plt\n",
    "\n",
    "from utils import *\n",
    "\n",
    "%matplotlib inline"
   ]
  },
  {
   "cell_type": "code",
   "execution_count": 2,
   "id": "0ad8deeb",
   "metadata": {
    "ExecuteTime": {
     "end_time": "2022-06-01T18:53:42.633668Z",
     "start_time": "2022-06-01T18:53:37.822470Z"
    },
    "execution": {
     "iopub.execute_input": "2022-08-01T18:48:51.844700Z",
     "iopub.status.busy": "2022-08-01T18:48:51.844498Z",
     "iopub.status.idle": "2022-08-01T18:48:56.193853Z",
     "shell.execute_reply": "2022-08-01T18:48:56.192356Z"
    },
    "papermill": {
     "duration": 4.388647,
     "end_time": "2022-08-01T18:48:56.197305",
     "exception": false,
     "start_time": "2022-08-01T18:48:51.808658",
     "status": "completed"
    },
    "tags": []
   },
   "outputs": [
    {
     "name": "stdout",
     "output_type": "stream",
     "text": [
      "Requirement already satisfied: scikit-learn==0.23.1 in /home/lauro/anaconda3/envs/qiime2-2022.2/lib/python3.8/site-packages (0.23.1)\r\n",
      "Requirement already satisfied: scipy>=0.19.1 in /home/lauro/anaconda3/envs/qiime2-2022.2/lib/python3.8/site-packages (from scikit-learn==0.23.1) (1.8.0)\r\n",
      "Requirement already satisfied: joblib>=0.11 in /home/lauro/anaconda3/envs/qiime2-2022.2/lib/python3.8/site-packages (from scikit-learn==0.23.1) (1.1.0)\r\n",
      "Requirement already satisfied: threadpoolctl>=2.0.0 in /home/lauro/anaconda3/envs/qiime2-2022.2/lib/python3.8/site-packages (from scikit-learn==0.23.1) (3.1.0)\r\n",
      "Requirement already satisfied: numpy>=1.13.3 in /home/lauro/anaconda3/envs/qiime2-2022.2/lib/python3.8/site-packages (from scikit-learn==0.23.1) (1.22.2)\r\n"
     ]
    },
    {
     "name": "stdout",
     "output_type": "stream",
     "text": [
      "Note: you may need to restart the kernel to use updated packages.\n"
     ]
    }
   ],
   "source": [
    "%pip install --user 'scikit-learn==0.23.1'"
   ]
  },
  {
   "cell_type": "code",
   "execution_count": 3,
   "id": "c97b5555",
   "metadata": {
    "ExecuteTime": {
     "end_time": "2022-06-01T18:53:42.641562Z",
     "start_time": "2022-06-01T18:53:42.637484Z"
    },
    "execution": {
     "iopub.execute_input": "2022-08-01T18:48:56.227085Z",
     "iopub.status.busy": "2022-08-01T18:48:56.226683Z",
     "iopub.status.idle": "2022-08-01T18:48:56.231745Z",
     "shell.execute_reply": "2022-08-01T18:48:56.230898Z"
    },
    "papermill": {
     "duration": 0.020787,
     "end_time": "2022-08-01T18:48:56.233524",
     "exception": false,
     "start_time": "2022-08-01T18:48:56.212737",
     "status": "completed"
    },
    "tags": []
   },
   "outputs": [],
   "source": [
    "# from qiime2.plugins import demux, deblur, quality_filter, \\\n",
    "#                            metadata, feature_table, alignment, \\\n",
    "#                            phylogeny, diversity, emperor, feature_classifier, \\\n",
    "#                            taxa, composition"
   ]
  },
  {
   "cell_type": "markdown",
   "id": "3efc5ed8",
   "metadata": {
    "papermill": {
     "duration": 0.011778,
     "end_time": "2022-08-01T18:48:56.257605",
     "exception": false,
     "start_time": "2022-08-01T18:48:56.245827",
     "status": "completed"
    },
    "tags": []
   },
   "source": [
    "### Receiving the parameters\n",
    "\n",
    "The following cell can receive parameters using the [papermill](https://papermill.readthedocs.io/en/latest/) tool."
   ]
  },
  {
   "cell_type": "code",
   "execution_count": 4,
   "id": "7ed9f5c9",
   "metadata": {
    "ExecuteTime": {
     "end_time": "2022-07-07T16:42:59.640401Z",
     "start_time": "2022-07-07T16:42:59.636746Z"
    },
    "execution": {
     "iopub.execute_input": "2022-08-01T18:48:56.295606Z",
     "iopub.status.busy": "2022-08-01T18:48:56.295242Z",
     "iopub.status.idle": "2022-08-01T18:48:56.302727Z",
     "shell.execute_reply": "2022-08-01T18:48:56.301745Z"
    },
    "papermill": {
     "duration": 0.028542,
     "end_time": "2022-08-01T18:48:56.304720",
     "exception": false,
     "start_time": "2022-08-01T18:48:56.276178",
     "status": "completed"
    },
    "tags": [
     "parameters"
    ]
   },
   "outputs": [],
   "source": [
    "metadata_file = os.path.abspath(os.path.join(os.getcwd(), '..', 'data', 'raw', 'metadata', 'not-hist-feces-metadata.tsv'))\n",
    "base_dir = os.path.join('/', 'home', 'lauro', 'nupeb', 'redemicro')\n",
    "experiment_name = 'ana-flavia-superlactacao'\n",
    "threads = 6\n",
    "replace_files = False"
   ]
  },
  {
   "cell_type": "code",
   "execution_count": 5,
   "id": "a59f32af",
   "metadata": {
    "execution": {
     "iopub.execute_input": "2022-08-01T18:48:56.331234Z",
     "iopub.status.busy": "2022-08-01T18:48:56.330873Z",
     "iopub.status.idle": "2022-08-01T18:48:56.337685Z",
     "shell.execute_reply": "2022-08-01T18:48:56.336870Z"
    },
    "papermill": {
     "duration": 0.021135,
     "end_time": "2022-08-01T18:48:56.339565",
     "exception": false,
     "start_time": "2022-08-01T18:48:56.318430",
     "status": "completed"
    },
    "tags": [
     "injected-parameters"
    ]
   },
   "outputs": [],
   "source": [
    "# Parameters\n",
    "experiment_name = \"ana-flavia-NCxNR\"\n",
    "base_dir = \"/home/lauro/nupeb/rede-micro/redemicro-ana-flavia-nutri\"\n",
    "manifest_file = \"/home/lauro/nupeb/rede-micro/redemicro-ana-flavia-nutri/data/raw/manifest/manifest-ana-flavia-NCxNR.csv\"\n",
    "metadata_file = \"/home/lauro/nupeb/rede-micro/redemicro-ana-flavia-nutri/data/raw/metadata/metadata-ana-flavia-NCxNR.tsv\"\n",
    "class_col = \"sample-group\"\n",
    "classifier_file = \"/home/lauro/nupeb/dados_brutos_rede_genoma/16S_classifiers_qiime2/silva-138-99-nb-classifier.qza\"\n",
    "replace_files = False\n",
    "phred = 20\n",
    "trunc_f = 0\n",
    "trunc_r = 0\n",
    "overlap = 12\n",
    "threads = 6\n"
   ]
  },
  {
   "cell_type": "code",
   "execution_count": 6,
   "id": "684afeab",
   "metadata": {
    "execution": {
     "iopub.execute_input": "2022-08-01T18:48:56.365807Z",
     "iopub.status.busy": "2022-08-01T18:48:56.365455Z",
     "iopub.status.idle": "2022-08-01T18:48:56.370973Z",
     "shell.execute_reply": "2022-08-01T18:48:56.370186Z"
    },
    "papermill": {
     "duration": 0.01958,
     "end_time": "2022-08-01T18:48:56.372660",
     "exception": false,
     "start_time": "2022-08-01T18:48:56.353080",
     "status": "completed"
    },
    "tags": []
   },
   "outputs": [],
   "source": [
    "experiment_folder = os.path.abspath(os.path.join(base_dir, 'experiments', experiment_name))\n",
    "img_folder = os.path.abspath(os.path.join(experiment_folder, 'imgs'))"
   ]
  },
  {
   "cell_type": "markdown",
   "id": "cf2ac63a",
   "metadata": {
    "papermill": {
     "duration": 0.011186,
     "end_time": "2022-08-01T18:48:56.396220",
     "exception": false,
     "start_time": "2022-08-01T18:48:56.385034",
     "status": "completed"
    },
    "tags": []
   },
   "source": [
    "### Defining names, paths and flags"
   ]
  },
  {
   "cell_type": "code",
   "execution_count": 7,
   "id": "4badec48",
   "metadata": {
    "ExecuteTime": {
     "end_time": "2022-07-07T16:43:01.373756Z",
     "start_time": "2022-07-07T16:43:01.364331Z"
    },
    "execution": {
     "iopub.execute_input": "2022-08-01T18:48:56.419697Z",
     "iopub.status.busy": "2022-08-01T18:48:56.419347Z",
     "iopub.status.idle": "2022-08-01T18:48:56.429484Z",
     "shell.execute_reply": "2022-08-01T18:48:56.428750Z"
    },
    "papermill": {
     "duration": 0.023932,
     "end_time": "2022-08-01T18:48:56.431156",
     "exception": false,
     "start_time": "2022-08-01T18:48:56.407224",
     "status": "completed"
    },
    "tags": []
   },
   "outputs": [],
   "source": [
    "# QIIME2 Artifacts folder\n",
    "qiime_folder = os.path.join(experiment_folder, 'qiime-artifacts')\n",
    "\n",
    "# Input - DADA2 Artifacts\n",
    "dada2_tabs_path = os.path.join(qiime_folder, 'dada2-tabs.qza')\n",
    "dada2_reps_path = os.path.join(qiime_folder, 'dada2-reps.qza')\n",
    "dada2_stat_path = os.path.join(qiime_folder, 'dada2-stat.qza')\n",
    "\n",
    "# Input - DADA2 Artifacts\n",
    "classifier_path = os.path.abspath(os.path.join(os.getcwd(), '..', 'models', 'silva-138-99-nb-classifier.qza'))\n",
    "# 'silva-138-99-nb-classifier.qza'\n",
    "\n",
    "# Output - Metataxonomy Artifact\n",
    "metatax_path = os.path.join(qiime_folder, 'metatax.qza')\n",
    "metatax_view_path = os.path.join(qiime_folder, 'metatax.qzv')\n",
    "metatax_bar_path = os.path.join(qiime_folder, 'metatax-bar.qzv')\n",
    "\n",
    "# Flag - Load or create files\n",
    "need_tax = not (os.path.isfile(metatax_path)) or replace_files\n",
    "need_view = not (os.path.isfile(metatax_view_path) or os.path.isfile(metatax_bar_path)) or replace_files"
   ]
  },
  {
   "cell_type": "markdown",
   "id": "8d59e480",
   "metadata": {
    "papermill": {
     "duration": 0.01105,
     "end_time": "2022-08-01T18:48:56.455015",
     "exception": false,
     "start_time": "2022-08-01T18:48:56.443965",
     "status": "completed"
    },
    "tags": []
   },
   "source": [
    "## Step execution\n",
    "\n",
    "### Load input files\n",
    "\n",
    "This Step import the QIIME2 `SampleData[PairedEndSequencesWithQuality]` Artifact with all demultiplexed sequences and the `Metadata` file."
   ]
  },
  {
   "cell_type": "code",
   "execution_count": 8,
   "id": "a04f2d48",
   "metadata": {
    "ExecuteTime": {
     "end_time": "2022-06-01T18:53:42.788111Z",
     "start_time": "2022-06-01T18:53:42.695110Z"
    },
    "execution": {
     "iopub.execute_input": "2022-08-01T18:48:56.486813Z",
     "iopub.status.busy": "2022-08-01T18:48:56.486461Z",
     "iopub.status.idle": "2022-08-01T18:48:56.527870Z",
     "shell.execute_reply": "2022-08-01T18:48:56.527271Z"
    },
    "papermill": {
     "duration": 0.055564,
     "end_time": "2022-08-01T18:48:56.529909",
     "exception": false,
     "start_time": "2022-08-01T18:48:56.474345",
     "status": "completed"
    },
    "tags": []
   },
   "outputs": [],
   "source": [
    "metadata_qa = Metadata.load(metadata_file)"
   ]
  },
  {
   "cell_type": "code",
   "execution_count": 9,
   "id": "c73e5e9b",
   "metadata": {
    "ExecuteTime": {
     "end_time": "2022-06-01T18:53:42.920863Z",
     "start_time": "2022-06-01T18:53:42.790999Z"
    },
    "execution": {
     "iopub.execute_input": "2022-08-01T18:48:56.557268Z",
     "iopub.status.busy": "2022-08-01T18:48:56.557052Z",
     "iopub.status.idle": "2022-08-01T18:54:12.778689Z",
     "shell.execute_reply": "2022-08-01T18:54:12.777991Z"
    },
    "papermill": {
     "duration": 316.235965,
     "end_time": "2022-08-01T18:54:12.780695",
     "exception": false,
     "start_time": "2022-08-01T18:48:56.544730",
     "status": "completed"
    },
    "scrolled": true,
    "tags": []
   },
   "outputs": [],
   "source": [
    "if not need_tax:\n",
    "    \n",
    "    # Load FeatureData[Taxonomy]\n",
    "    metatax = Artifact.load(metatax_path)\n",
    "    \n",
    "else:\n",
    "    \n",
    "    # Load TaxonomicClassifier Artifact\n",
    "    classifier = Artifact.load(classifier_path)\n",
    "    \n",
    "    # Load FeatureData[Sequence] Artifact\n",
    "    reps = Artifact.load(dada2_reps_path)\n",
    "    \n",
    "    # Classify ASV features and create a new FeatureData[Taxonomy]\n",
    "    metatax_qa = feature_classifier.methods.classify_sklearn(reads=reps, classifier=classifier, n_jobs=threads)\n",
    "\n",
    "    # Save FeatureData[Taxonomy] Artifact\n",
    "    metatax_qa.classification.save(metatax_path)"
   ]
  },
  {
   "cell_type": "code",
   "execution_count": 10,
   "id": "f060183c",
   "metadata": {
    "ExecuteTime": {
     "end_time": "2022-06-01T18:58:53.489795Z",
     "start_time": "2022-06-01T18:58:53.395394Z"
    },
    "execution": {
     "iopub.execute_input": "2022-08-01T18:54:12.893288Z",
     "iopub.status.busy": "2022-08-01T18:54:12.892867Z",
     "iopub.status.idle": "2022-08-01T18:54:14.072782Z",
     "shell.execute_reply": "2022-08-01T18:54:14.072172Z"
    },
    "papermill": {
     "duration": 1.281311,
     "end_time": "2022-08-01T18:54:14.075838",
     "exception": false,
     "start_time": "2022-08-01T18:54:12.794527",
     "status": "completed"
    },
    "tags": []
   },
   "outputs": [],
   "source": [
    "if not need_view:\n",
    "    \n",
    "    # Load Metatax\n",
    "    metatax_qv = Visualization.load(metatax_view_path)\n",
    "    metatax_bar_qv = Visualization.load(metatax_bar_path)\n",
    "    \n",
    "else:\n",
    "    \n",
    "    # Metataxonomy Table Visualization\n",
    "    metatax_qv = metadata.visualizers.tabulate(metatax_qa.classification.view(Metadata))\n",
    "    metatax_qv.visualization.save(metatax_view_path)\n",
    "    \n",
    "    # Load TableData[Sequence] Artifact\n",
    "    tabs = Artifact.load(dada2_tabs_path)\n",
    "    \n",
    "    # Barplot Visualization\n",
    "    # Next, we can view the taxonomic composition of our samples with interactive bar plots. \n",
    "    # Generate those plots with the following command and then open the visualization.\n",
    "    metatax_bar_qv = taxa.visualizers.barplot(tabs, metatax_qa.classification, metadata_qa)\n",
    "    metatax_bar_qv.visualization.save(metatax_bar_path)"
   ]
  },
  {
   "cell_type": "code",
   "execution_count": 11,
   "id": "d08ee02a",
   "metadata": {
    "ExecuteTime": {
     "end_time": "2022-06-01T18:58:22.804508Z",
     "start_time": "2022-06-01T18:58:22.793768Z"
    },
    "execution": {
     "iopub.execute_input": "2022-08-01T18:54:14.105237Z",
     "iopub.status.busy": "2022-08-01T18:54:14.105004Z",
     "iopub.status.idle": "2022-08-01T18:54:14.112775Z",
     "shell.execute_reply": "2022-08-01T18:54:14.112058Z"
    },
    "papermill": {
     "duration": 0.021197,
     "end_time": "2022-08-01T18:54:14.114357",
     "exception": false,
     "start_time": "2022-08-01T18:54:14.093160",
     "status": "completed"
    },
    "tags": []
   },
   "outputs": [
    {
     "data": {
      "text/plain": [
       "Results (name = value)\n",
       "-----------------------------------------------------------------------------------------\n",
       "visualization = <visualization: Visualization uuid: 581f92ca-96b2-4231-bae1-fb6b1d1314a8>"
      ]
     },
     "execution_count": 11,
     "metadata": {},
     "output_type": "execute_result"
    }
   ],
   "source": [
    "metatax_qv"
   ]
  },
  {
   "cell_type": "code",
   "execution_count": 12,
   "id": "79777aa2",
   "metadata": {
    "ExecuteTime": {
     "end_time": "2022-06-01T18:58:56.294932Z",
     "start_time": "2022-06-01T18:58:56.288474Z"
    },
    "execution": {
     "iopub.execute_input": "2022-08-01T18:54:14.221296Z",
     "iopub.status.busy": "2022-08-01T18:54:14.221025Z",
     "iopub.status.idle": "2022-08-01T18:54:14.226337Z",
     "shell.execute_reply": "2022-08-01T18:54:14.225578Z"
    },
    "papermill": {
     "duration": 0.10161,
     "end_time": "2022-08-01T18:54:14.227920",
     "exception": false,
     "start_time": "2022-08-01T18:54:14.126310",
     "status": "completed"
    },
    "tags": []
   },
   "outputs": [
    {
     "data": {
      "text/plain": [
       "Results (name = value)\n",
       "-----------------------------------------------------------------------------------------\n",
       "visualization = <visualization: Visualization uuid: cde48375-55e8-4825-a5dd-bf25d330b773>"
      ]
     },
     "execution_count": 12,
     "metadata": {},
     "output_type": "execute_result"
    }
   ],
   "source": [
    "metatax_bar_qv"
   ]
  }
 ],
 "metadata": {
  "celltoolbar": "Edit Metadata",
  "kernelspec": {
   "display_name": "Python 3 (ipykernel)",
   "language": "python",
   "name": "python3"
  },
  "language_info": {
   "codemirror_mode": {
    "name": "ipython",
    "version": 3
   },
   "file_extension": ".py",
   "mimetype": "text/x-python",
   "name": "python",
   "nbconvert_exporter": "python",
   "pygments_lexer": "ipython3",
   "version": "3.8.12"
  },
  "papermill": {
   "default_parameters": {},
   "duration": 343.515815,
   "end_time": "2022-08-01T18:54:16.065786",
   "environment_variables": {},
   "exception": null,
   "input_path": "./step-metataxonomy.ipynb",
   "output_path": "../step-metataxonomy-NCxNR.ipynb",
   "parameters": {
    "base_dir": "/home/lauro/nupeb/rede-micro/redemicro-ana-flavia-nutri",
    "class_col": "sample-group",
    "classifier_file": "/home/lauro/nupeb/dados_brutos_rede_genoma/16S_classifiers_qiime2/silva-138-99-nb-classifier.qza",
    "experiment_name": "ana-flavia-NCxNR",
    "manifest_file": "/home/lauro/nupeb/rede-micro/redemicro-ana-flavia-nutri/data/raw/manifest/manifest-ana-flavia-NCxNR.csv",
    "metadata_file": "/home/lauro/nupeb/rede-micro/redemicro-ana-flavia-nutri/data/raw/metadata/metadata-ana-flavia-NCxNR.tsv",
    "overlap": 12,
    "phred": 20,
    "replace_files": false,
    "threads": 6,
    "trunc_f": 0,
    "trunc_r": 0
   },
   "start_time": "2022-08-01T18:48:32.549971",
   "version": "2.3.4"
  },
  "toc-autonumbering": false,
  "toc-showcode": false,
  "toc-showmarkdowntxt": false
 },
 "nbformat": 4,
 "nbformat_minor": 5
}