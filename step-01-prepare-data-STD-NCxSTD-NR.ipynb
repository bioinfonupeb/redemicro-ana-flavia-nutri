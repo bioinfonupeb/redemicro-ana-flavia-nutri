{
 "cells": [
  {
   "cell_type": "markdown",
   "id": "8e16cf36",
   "metadata": {
    "papermill": {
     "duration": 0.016909,
     "end_time": "2022-08-01T16:12:27.091574",
     "exception": false,
     "start_time": "2022-08-01T16:12:27.074665",
     "status": "completed"
    },
    "tags": []
   },
   "source": [
    "# Prepare data for Pipeline"
   ]
  },
  {
   "cell_type": "markdown",
   "id": "e732cc20",
   "metadata": {
    "papermill": {
     "duration": 0.045225,
     "end_time": "2022-08-01T16:12:27.146397",
     "exception": false,
     "start_time": "2022-08-01T16:12:27.101172",
     "status": "completed"
    },
    "tags": []
   },
   "source": [
    "## Setup and settings"
   ]
  },
  {
   "cell_type": "code",
   "execution_count": 1,
   "id": "4f2a0173",
   "metadata": {
    "ExecuteTime": {
     "end_time": "2022-06-28T18:50:41.589256Z",
     "start_time": "2022-06-28T18:50:35.447356Z"
    },
    "execution": {
     "iopub.execute_input": "2022-08-01T16:12:27.167074Z",
     "iopub.status.busy": "2022-08-01T16:12:27.166623Z",
     "iopub.status.idle": "2022-08-01T16:12:33.217768Z",
     "shell.execute_reply": "2022-08-01T16:12:33.217133Z"
    },
    "papermill": {
     "duration": 6.065326,
     "end_time": "2022-08-01T16:12:33.220989",
     "exception": false,
     "start_time": "2022-08-01T16:12:27.155663",
     "status": "completed"
    },
    "tags": []
   },
   "outputs": [],
   "source": [
    "# Importing packages\n",
    "import os\n",
    "import yaml\n",
    "from qiime2 import Artifact, Visualization\n",
    "from qiime2.plugins import demux\n",
    "\n",
    "from utils import *"
   ]
  },
  {
   "cell_type": "markdown",
   "id": "698c26df",
   "metadata": {
    "papermill": {
     "duration": 0.009254,
     "end_time": "2022-08-01T16:12:33.247768",
     "exception": false,
     "start_time": "2022-08-01T16:12:33.238514",
     "status": "completed"
    },
    "tags": []
   },
   "source": [
    "### Receiving the parameters\n",
    "\n",
    "The following cell can receive parameters using the [papermill](https://papermill.readthedocs.io/en/latest/) tool."
   ]
  },
  {
   "cell_type": "code",
   "execution_count": 2,
   "id": "1848c945",
   "metadata": {
    "ExecuteTime": {
     "end_time": "2022-06-28T18:50:41.594341Z",
     "start_time": "2022-06-28T18:50:41.591544Z"
    },
    "execution": {
     "iopub.execute_input": "2022-08-01T16:12:33.302682Z",
     "iopub.status.busy": "2022-08-01T16:12:33.302466Z",
     "iopub.status.idle": "2022-08-01T16:12:33.307239Z",
     "shell.execute_reply": "2022-08-01T16:12:33.306771Z"
    },
    "papermill": {
     "duration": 0.016475,
     "end_time": "2022-08-01T16:12:33.308605",
     "exception": false,
     "start_time": "2022-08-01T16:12:33.292130",
     "status": "completed"
    },
    "tags": [
     "parameters"
    ]
   },
   "outputs": [],
   "source": [
    "params_path = os.path.join('..', 'params', 'ana-flavia-superlactacao.yaml')\n",
    "experiment_name = 'jenneffer-vs-01'\n",
    "base_dir = os.path.join('/', 'home', 'lauro', 'nupeb', 'redemicro')\n",
    "manifest_file = os.path.join(base_dir, 'data', 'raw', 'manifest', 'not-hist-vs-manifest.csv')\n",
    "img_folder = os.path.abspath(os.path.join(base_dir, 'imgs'))\n",
    "replace_files = False"
   ]
  },
  {
   "cell_type": "code",
   "execution_count": 3,
   "id": "be7bee23",
   "metadata": {
    "execution": {
     "iopub.execute_input": "2022-08-01T16:12:33.342345Z",
     "iopub.status.busy": "2022-08-01T16:12:33.342202Z",
     "iopub.status.idle": "2022-08-01T16:12:33.345612Z",
     "shell.execute_reply": "2022-08-01T16:12:33.345165Z"
    },
    "papermill": {
     "duration": 0.014486,
     "end_time": "2022-08-01T16:12:33.346945",
     "exception": false,
     "start_time": "2022-08-01T16:12:33.332459",
     "status": "completed"
    },
    "tags": [
     "injected-parameters"
    ]
   },
   "outputs": [],
   "source": [
    "# Parameters\n",
    "experiment_name = \"ana-flavia-STD-NCxSTD-NR\"\n",
    "base_dir = \"/home/lauro/nupeb/rede-micro/redemicro-ana-flavia-nutri\"\n",
    "manifest_file = \"/home/lauro/nupeb/rede-micro/redemicro-ana-flavia-nutri/data/raw/manifest/manifest-ana-flavia-STD-NCxSTD-NR.csv\"\n",
    "metadata_file = \"/home/lauro/nupeb/rede-micro/redemicro-ana-flavia-nutri/data/raw/metadata/metadata-ana-flavia-STD-NCxSTD-NR.tsv\"\n",
    "class_col = \"sample-group\"\n",
    "classifier_file = \"/home/lauro/nupeb/dados_brutos_rede_genoma/16S_classifiers_qiime2/silva-138-99-nb-classifier.qza\"\n",
    "replace_files = False\n",
    "phred = 20\n",
    "trunc_f = 0\n",
    "trunc_r = 0\n",
    "overlap = 12\n",
    "threads = 6\n"
   ]
  },
  {
   "cell_type": "code",
   "execution_count": 4,
   "id": "40d6b18a",
   "metadata": {
    "ExecuteTime": {
     "end_time": "2022-06-28T18:50:41.610682Z",
     "start_time": "2022-06-28T18:50:41.595886Z"
    },
    "execution": {
     "iopub.execute_input": "2022-08-01T16:12:33.366449Z",
     "iopub.status.busy": "2022-08-01T16:12:33.366288Z",
     "iopub.status.idle": "2022-08-01T16:12:33.369792Z",
     "shell.execute_reply": "2022-08-01T16:12:33.369351Z"
    },
    "papermill": {
     "duration": 0.01481,
     "end_time": "2022-08-01T16:12:33.371201",
     "exception": false,
     "start_time": "2022-08-01T16:12:33.356391",
     "status": "completed"
    },
    "tags": []
   },
   "outputs": [],
   "source": [
    "# Setting hardcoded parameters for development and debbuging\n",
    "production = True\n",
    "if not production:\n",
    "    params_path = os.path.join('..', 'params', 'ana-flavia-hipotese-01')\n",
    "    with open(params_path, 'r') as stream:\n",
    "        params = yaml.safe_load(stream)\n",
    "        experiment_name = params['experiment_name']\n",
    "        base_dir = params['base_dir']\n",
    "        manifest_file = params['manifest_file']\n",
    "        replace_files = params['replace_files']"
   ]
  },
  {
   "cell_type": "markdown",
   "id": "17d850f9",
   "metadata": {
    "papermill": {
     "duration": 0.009341,
     "end_time": "2022-08-01T16:12:33.389914",
     "exception": false,
     "start_time": "2022-08-01T16:12:33.380573",
     "status": "completed"
    },
    "tags": []
   },
   "source": [
    "### Defining names and paths"
   ]
  },
  {
   "cell_type": "code",
   "execution_count": 5,
   "id": "1f233ef6",
   "metadata": {
    "ExecuteTime": {
     "end_time": "2022-06-28T18:50:41.618098Z",
     "start_time": "2022-06-28T18:50:41.614152Z"
    },
    "execution": {
     "iopub.execute_input": "2022-08-01T16:12:33.409378Z",
     "iopub.status.busy": "2022-08-01T16:12:33.409187Z",
     "iopub.status.idle": "2022-08-01T16:12:33.412423Z",
     "shell.execute_reply": "2022-08-01T16:12:33.411822Z"
    },
    "papermill": {
     "duration": 0.014615,
     "end_time": "2022-08-01T16:12:33.413888",
     "exception": false,
     "start_time": "2022-08-01T16:12:33.399273",
     "status": "completed"
    },
    "tags": []
   },
   "outputs": [],
   "source": [
    "# new_manifest = '/home/lauro/nupeb/redemicro/data/raw/manifest/karina-manifest.csv'\n",
    "# with open(manifest_file, 'r') as oldm, open(new_manifest, 'w') as newm:\n",
    "#     header = 'sample-id,absolute-filepath,direction\\n'\n",
    "#     newm.write(header)\n",
    "#     for line in oldm.readlines()[1:]:\n",
    "#         sid, forward, reverse = line[:-1].split(',')\n",
    "#         fline = ','.join((sid, forward, 'forward')) + '\\n'\n",
    "#         rline = ','.join((sid, reverse, 'reverse')) + '\\n'\n",
    "#         newm.write(fline)\n",
    "#         newm.write(rline)"
   ]
  },
  {
   "cell_type": "code",
   "execution_count": 6,
   "id": "704c2468",
   "metadata": {
    "ExecuteTime": {
     "end_time": "2022-06-28T18:50:41.632125Z",
     "start_time": "2022-06-28T18:50:41.619710Z"
    },
    "execution": {
     "iopub.execute_input": "2022-08-01T16:12:33.432869Z",
     "iopub.status.busy": "2022-08-01T16:12:33.432636Z",
     "iopub.status.idle": "2022-08-01T16:12:33.441217Z",
     "shell.execute_reply": "2022-08-01T16:12:33.440378Z"
    },
    "papermill": {
     "duration": 0.019857,
     "end_time": "2022-08-01T16:12:33.442977",
     "exception": false,
     "start_time": "2022-08-01T16:12:33.423120",
     "status": "completed"
    },
    "tags": []
   },
   "outputs": [
    {
     "name": "stdout",
     "output_type": "stream",
     "text": [
      "New qiime-artifacts folder path created: /home/lauro/nupeb/rede-micro/redemicro-ana-flavia-nutri/experiments/ana-flavia-STD-NCxSTD-NR/qiime-artifacts\n",
      "New img folder path created: /home/lauro/nupeb/rede-micro/redemicro-ana-flavia-nutri/experiments/ana-flavia-STD-NCxSTD-NR/imgs\n"
     ]
    }
   ],
   "source": [
    "# Define the output folder path\n",
    "out_dir = os.path.join(base_dir, 'experiments', experiment_name, 'qiime-artifacts')\n",
    "img_folder = os.path.abspath(os.path.join(base_dir, 'experiments', experiment_name, 'imgs'))\n",
    "\n",
    "# Create path if it not exist\n",
    "if not os.path.isdir(out_dir):\n",
    "    os.makedirs(out_dir)\n",
    "    print(f'New qiime-artifacts folder path created: {out_dir}')\n",
    "\n",
    "# Create path if it not exist\n",
    "if not os.path.isdir(img_folder):\n",
    "    os.makedirs(img_folder)\n",
    "    print(f'New img folder path created: {img_folder}')\n",
    "\n",
    "# Define the output artifact full path\n",
    "demux_file = os.path.join(out_dir, 'demux-paired.qza')\n",
    "demux_view = os.path.join(out_dir, 'demux-paired.qzv')"
   ]
  },
  {
   "cell_type": "code",
   "execution_count": null,
   "id": "eac92d24",
   "metadata": {
    "papermill": {
     "duration": 0.009479,
     "end_time": "2022-08-01T16:12:33.464510",
     "exception": false,
     "start_time": "2022-08-01T16:12:33.455031",
     "status": "completed"
    },
    "tags": []
   },
   "outputs": [],
   "source": []
  },
  {
   "cell_type": "markdown",
   "id": "89b75bb6",
   "metadata": {
    "papermill": {
     "duration": 0.00892,
     "end_time": "2022-08-01T16:12:33.482517",
     "exception": false,
     "start_time": "2022-08-01T16:12:33.473597",
     "status": "completed"
    },
    "tags": []
   },
   "source": [
    "## Step execution\n",
    "\n",
    "This Step import all `fastq` files in a **QIIME2 Artifact** object and save it to a new `qza` file of `SampleData[PairedEndSequencesWithQuality]`"
   ]
  },
  {
   "cell_type": "code",
   "execution_count": 7,
   "id": "4dc0cbfa",
   "metadata": {
    "ExecuteTime": {
     "end_time": "2022-06-28T19:44:58.640338Z",
     "start_time": "2022-06-28T18:50:41.633657Z"
    },
    "execution": {
     "iopub.execute_input": "2022-08-01T16:12:33.501254Z",
     "iopub.status.busy": "2022-08-01T16:12:33.501093Z",
     "iopub.status.idle": "2022-08-01T16:22:09.476833Z",
     "shell.execute_reply": "2022-08-01T16:22:09.476071Z"
    },
    "papermill": {
     "duration": 575.988323,
     "end_time": "2022-08-01T16:22:09.479840",
     "exception": false,
     "start_time": "2022-08-01T16:12:33.491517",
     "status": "completed"
    },
    "tags": []
   },
   "outputs": [],
   "source": [
    "# If the demux file does not exist or if the old file will be replaced\n",
    "if not os.path.isfile(demux_file) or replace_files:\n",
    "    \n",
    "    # Import data and create an artifact object\n",
    "    artifact = Artifact.import_data(\n",
    "        'SampleData[PairedEndSequencesWithQuality]', \n",
    "        manifest_file, \n",
    "        view_type='PairedEndFastqManifestPhred33')\n",
    "    \n",
    "    # Save the artifact object to a new qza file\n",
    "    artifact.save(demux_file)\n",
    "\n",
    "else:\n",
    "    artifact = Artifact.load(demux_file)"
   ]
  },
  {
   "cell_type": "code",
   "execution_count": 8,
   "id": "2564620e",
   "metadata": {
    "ExecuteTime": {
     "end_time": "2022-06-28T19:47:56.602855Z",
     "start_time": "2022-06-28T19:44:58.642520Z"
    },
    "execution": {
     "iopub.execute_input": "2022-08-01T16:22:09.671119Z",
     "iopub.status.busy": "2022-08-01T16:22:09.670835Z",
     "iopub.status.idle": "2022-08-01T16:22:43.665296Z",
     "shell.execute_reply": "2022-08-01T16:22:43.664639Z"
    },
    "papermill": {
     "duration": 34.171674,
     "end_time": "2022-08-01T16:22:43.668340",
     "exception": false,
     "start_time": "2022-08-01T16:22:09.496666",
     "status": "completed"
    },
    "tags": []
   },
   "outputs": [],
   "source": [
    "if not os.path.isfile(demux_view) or replace_files: \n",
    "    # Generate e visualization of the Artifact\n",
    "    demux_summary = demux.visualizers.summarize(artifact)\n",
    "\n",
    "    # Save a new visualization file based on the qza file\n",
    "    Visualization.save(demux_summary.visualization, filepath=demux_view)\n",
    "    \n",
    "    demux_view_obj = demux_summary.visualization\n",
    "else:\n",
    "    demux_view_obj = Visualization.load(demux_view)"
   ]
  },
  {
   "cell_type": "markdown",
   "id": "5f984e70",
   "metadata": {
    "papermill": {
     "duration": 0.091975,
     "end_time": "2022-08-01T16:22:43.784086",
     "exception": false,
     "start_time": "2022-08-01T16:22:43.692111",
     "status": "completed"
    },
    "tags": []
   },
   "source": [
    "## Step report\n"
   ]
  },
  {
   "cell_type": "code",
   "execution_count": 9,
   "id": "13f49748",
   "metadata": {
    "ExecuteTime": {
     "end_time": "2022-06-28T19:47:56.609737Z",
     "start_time": "2022-06-28T19:47:56.604820Z"
    },
    "execution": {
     "iopub.execute_input": "2022-08-01T16:22:43.852459Z",
     "iopub.status.busy": "2022-08-01T16:22:43.852239Z",
     "iopub.status.idle": "2022-08-01T16:22:43.857380Z",
     "shell.execute_reply": "2022-08-01T16:22:43.856600Z"
    },
    "papermill": {
     "duration": 0.032865,
     "end_time": "2022-08-01T16:22:43.859499",
     "exception": false,
     "start_time": "2022-08-01T16:22:43.826634",
     "status": "completed"
    },
    "tags": []
   },
   "outputs": [
    {
     "name": "stdout",
     "output_type": "stream",
     "text": [
      "<visualization: Visualization uuid: 269f6bc5-6533-4400-8b81-6b00b3be18b4>\n"
     ]
    }
   ],
   "source": [
    "print(demux_view_obj)"
   ]
  },
  {
   "cell_type": "code",
   "execution_count": 10,
   "id": "a2849a8d",
   "metadata": {
    "ExecuteTime": {
     "end_time": "2022-06-28T19:47:56.704841Z",
     "start_time": "2022-06-28T19:47:56.611846Z"
    },
    "execution": {
     "iopub.execute_input": "2022-08-01T16:22:43.884488Z",
     "iopub.status.busy": "2022-08-01T16:22:43.884263Z",
     "iopub.status.idle": "2022-08-01T16:22:43.898207Z",
     "shell.execute_reply": "2022-08-01T16:22:43.897697Z"
    },
    "papermill": {
     "duration": 0.028127,
     "end_time": "2022-08-01T16:22:43.900040",
     "exception": false,
     "start_time": "2022-08-01T16:22:43.871913",
     "status": "completed"
    },
    "tags": []
   },
   "outputs": [
    {
     "data": {
      "text/html": [
       "<div><img onload=\"(function(div, url){\n",
       "if (typeof require !== 'undefined') {\n",
       "    var baseURL = require.toUrl('').split('/').slice(0, -2).join('/');\n",
       "} else {\n",
       "    var baseURL = JSON.parse(\n",
       "        document.getElementById('jupyter-config-data').innerHTML\n",
       "    ).baseUrl.slice(0, -1);\n",
       "}\n",
       "url = baseURL + url;\n",
       "fetch(url).then(function(res) {\n",
       "    if (res.status === 404) {\n",
       "        div.innerHTML = 'Install QIIME 2 Jupyter extension with:<br />' +\n",
       "                        '<code>jupyter serverextension enable --py qiime2' +\n",
       "                        ' --sys-prefix</code><br />then restart your server.' +\n",
       "                        '<br /><br />(Interactive output not available on ' +\n",
       "                        'static notebook viewer services like nbviewer.)';\n",
       "    } else if (res.status === 409) {\n",
       "        div.innerHTML = 'Visualization no longer in scope. Re-run this cell' +\n",
       "                        ' to see the visualization.';\n",
       "    } else if (res.ok) {\n",
       "        url = res.url;\n",
       "        div.innerHTML = '<iframe src=\\'' + url + '\\' style=\\'' +\n",
       "                        'width: 100%; height: 700px; border: 0;\\'>' +\n",
       "                        '</iframe><hr />Open in a: <a href=\\'' + url + '\\'' +\n",
       "                        ' target=\\'_blank\\'>new window</a>'\n",
       "    } else {\n",
       "        div.innerHTML = 'Something has gone wrong. Check notebook server for' +\n",
       "                        ' errors.';\n",
       "    }\n",
       "});\n",
       "})(this.parentElement, '/qiime2/redirect?location=/tmp/qiime2-archive-nvioset2')\" src=\"data:image/gif;base64,R0lGODlhAQABAIAAAP///wAAACH5BAEAAAAALAAAAAABAAEAAAICRAEAOw==\" /></div>"
      ],
      "text/plain": [
       "<visualization: Visualization uuid: 269f6bc5-6533-4400-8b81-6b00b3be18b4>"
      ]
     },
     "execution_count": 10,
     "metadata": {},
     "output_type": "execute_result"
    }
   ],
   "source": [
    "# Render Visualization\n",
    "demux_view_obj"
   ]
  }
 ],
 "metadata": {
  "celltoolbar": "Edit Metadata",
  "kernelspec": {
   "display_name": "Python 3 (ipykernel)",
   "language": "python",
   "name": "python3"
  },
  "language_info": {
   "codemirror_mode": {
    "name": "ipython",
    "version": 3
   },
   "file_extension": ".py",
   "mimetype": "text/x-python",
   "name": "python",
   "nbconvert_exporter": "python",
   "pygments_lexer": "ipython3",
   "version": "3.8.12"
  },
  "papermill": {
   "default_parameters": {},
   "duration": 619.100856,
   "end_time": "2022-08-01T16:22:44.936214",
   "environment_variables": {},
   "exception": null,
   "input_path": "./step-01-prepare-data.ipynb",
   "output_path": "../step-01-prepare-data-STD-NCxSTD-NR.ipynb",
   "parameters": {
    "base_dir": "/home/lauro/nupeb/rede-micro/redemicro-ana-flavia-nutri",
    "class_col": "sample-group",
    "classifier_file": "/home/lauro/nupeb/dados_brutos_rede_genoma/16S_classifiers_qiime2/silva-138-99-nb-classifier.qza",
    "experiment_name": "ana-flavia-STD-NCxSTD-NR",
    "manifest_file": "/home/lauro/nupeb/rede-micro/redemicro-ana-flavia-nutri/data/raw/manifest/manifest-ana-flavia-STD-NCxSTD-NR.csv",
    "metadata_file": "/home/lauro/nupeb/rede-micro/redemicro-ana-flavia-nutri/data/raw/metadata/metadata-ana-flavia-STD-NCxSTD-NR.tsv",
    "overlap": 12,
    "phred": 20,
    "replace_files": false,
    "threads": 6,
    "trunc_f": 0,
    "trunc_r": 0
   },
   "start_time": "2022-08-01T16:12:25.835358",
   "version": "2.3.4"
  },
  "toc-autonumbering": false,
  "toc-showcode": false,
  "toc-showmarkdowntxt": false
 },
 "nbformat": 4,
 "nbformat_minor": 5
}