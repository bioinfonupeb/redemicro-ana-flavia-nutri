{
 "cells": [
  {
   "cell_type": "code",
   "execution_count": 1,
   "id": "5c59e942",
   "metadata": {
    "ExecuteTime": {
     "end_time": "2022-05-25T13:24:46.911142Z",
     "start_time": "2022-05-25T13:24:46.685050Z"
    },
    "pycharm": {
     "name": "#%%\n"
    }
   },
   "outputs": [],
   "source": [
    "import os\n",
    "import yaml\n",
    "import papermill as pm\n",
    "from utils import *"
   ]
  },
  {
   "cell_type": "code",
   "execution_count": 2,
   "id": "9e809190",
   "metadata": {
    "ExecuteTime": {
     "end_time": "2022-05-25T13:24:46.921198Z",
     "start_time": "2022-05-25T13:24:46.914905Z"
    },
    "pycharm": {
     "name": "#%%\n"
    }
   },
   "outputs": [],
   "source": [
    "# Define paths\n",
    "experiment_name = 'thayane-feces-01'\n",
    "base_folder = os.path.join('/', 'home', 'lauro', 'nupeb', 'redemicro')\n",
    "parameters_folder = os.path.join(base_folder, 'params')\n",
    "steps_folder = os.path.join(base_folder, 'steps')\n",
    "experiments_folder = os.path.join(base_folder, 'experiments')"
   ]
  },
  {
   "cell_type": "code",
   "execution_count": 13,
   "id": "20778c8e",
   "metadata": {
    "ExecuteTime": {
     "end_time": "2022-05-25T17:37:57.291052Z",
     "start_time": "2022-05-25T17:37:57.279884Z"
    },
    "pycharm": {
     "name": "#%%\n"
    }
   },
   "outputs": [
    {
     "data": {
      "text/plain": [
       "{'experiment_name': 'jenneffer-vs-01',\n",
       " 'base_dir': '/home/lauro/nupeb/redemicro',\n",
       " 'manifest_file': '/home/lauro/nupeb/redemicro/data/raw/manifest/not-hist-manifest.csv',\n",
       " 'metadata_file': '/home/lauro/nupeb/redemicro/data/raw/metadata/not-hist-metadata.tsv',\n",
       " 'classifier_file': '/home/lauro/nupeb/dados_brutos_rede_genoma/16S_classifiers_qiime2/silva-138-99-nb-classifier.qza',\n",
       " 'phred': 20,\n",
       " 'trunc_f': 0,\n",
       " 'trunc_r': 0,\n",
       " 'overlap': 16,\n",
       " 'threads': 6}"
      ]
     },
     "execution_count": 13,
     "metadata": {},
     "output_type": "execute_result"
    }
   ],
   "source": [
    "# Load parameter file\n",
    "param_file = os.path.join(parameters_folder, 'thayane-feces-01.yaml')\n",
    "with open(param_file) as file:\n",
    "    parameters = yaml.load(file, Loader=yaml.FullLoader)\n",
    "parameters    "
   ]
  },
  {
   "cell_type": "code",
   "execution_count": 4,
   "id": "501f6682",
   "metadata": {
    "ExecuteTime": {
     "end_time": "2022-05-25T13:24:46.988659Z",
     "start_time": "2022-05-25T13:24:46.947496Z"
    },
    "pycharm": {
     "name": "#%%\n"
    }
   },
   "outputs": [],
   "source": [
    "# Define names\n",
    "experiment_folder = os.path.join(experiments_folder, f\"{parameters['experiment_name']}\")\n",
    "executed_steps = os.path.join(experiment_folder, 'executed_steps')\n",
    "qiime_folder = os.path.join(experiment_folder, 'qiime-artifacts')\n",
    "manifest_folder = os.path.join(base_folder, 'data', 'raw', 'manifest')\n",
    "metadata_folder = os.path.join(base_folder, 'data', 'raw', 'metadata')\n",
    "\n",
    "# Create paths if it not exist\n",
    "if not os.path.isdir(executed_steps):\n",
    "    os.makedirs(executed_steps)\n",
    "    print(f'New folder path created: {executed_steps}')\n",
    "\n",
    "if not os.path.isdir(qiime_folder):\n",
    "    os.makedirs(qiime_folder)\n",
    "    print(f'New folder path created: {qiime_folder}')"
   ]
  },
  {
   "cell_type": "code",
   "execution_count": 5,
   "id": "78071d79",
   "metadata": {
    "ExecuteTime": {
     "end_time": "2022-05-25T13:24:47.033094Z",
     "start_time": "2022-05-25T13:24:46.992595Z"
    },
    "pycharm": {
     "name": "#%%\n"
    }
   },
   "outputs": [],
   "source": [
    "def execute_step(fname, params, replace=False):\n",
    "    step_file = os.path.join(steps_folder, fname)\n",
    "    result_file = os.path.join(executed_steps, fname)\n",
    "    pm.execute_notebook(step_file, result_file, parameters=params, kernel_name='Python 3')"
   ]
  },
  {
   "cell_type": "markdown",
   "id": "6d6892dc",
   "metadata": {
    "pycharm": {
     "name": "#%% md\n"
    }
   },
   "source": [
    "# Pipeline Steps"
   ]
  },
  {
   "cell_type": "markdown",
   "id": "b7e53d6d",
   "metadata": {
    "pycharm": {
     "name": "#%% md\n"
    }
   },
   "source": [
    "## Step 01 - Prepare data\n",
    "This Step load the raw `fastq` files, create and save a `qza` Artifact QIIME2 file and a `qzv` Visualization QIIME2 file.\n",
    "\n",
    "Using the `qzv` Visualization QIIME2 file we can view the reads quality scores distribuition across all bases."
   ]
  },
  {
   "cell_type": "code",
   "execution_count": 8,
   "id": "f1a3bb18",
   "metadata": {
    "ExecuteTime": {
     "end_time": "2022-05-25T13:24:47.077903Z",
     "start_time": "2022-05-25T13:24:47.066722Z"
    },
    "pycharm": {
     "name": "#%%\n"
    }
   },
   "outputs": [],
   "source": [
    "# execute_step(\n",
    "#     'step-01-prepare-data.ipynb',\n",
    "#     params={\n",
    "#         'experiment_name': experiment_name,\n",
    "#         'base_dir': base_folder,\n",
    "#         'manifest_file': os.path.join(manifest_folder, 'not-hist-feces-manifest.csv'),\n",
    "#         'replace_files': False,\n",
    "#     })"
   ]
  },
  {
   "cell_type": "code",
   "execution_count": 11,
   "id": "15290597",
   "metadata": {
    "ExecuteTime": {
     "end_time": "2022-05-25T13:25:40.871421Z",
     "start_time": "2022-05-25T13:25:20.658452Z"
    },
    "scrolled": true,
    "pycharm": {
     "name": "#%%\n"
    }
   },
   "outputs": [
    {
     "data": {
      "application/vnd.jupyter.widget-view+json": {
       "model_id": "cbe18fab154740da89decfb246e2d81a",
       "version_major": 2,
       "version_minor": 0
      },
      "text/plain": [
       "Executing:   0%|          | 0/15 [00:00<?, ?cell/s]"
      ]
     },
     "metadata": {},
     "output_type": "display_data"
    },
    {
     "data": {
      "text/plain": [
       "{'cells': [{'cell_type': 'markdown',\n",
       "   'metadata': {'tags': [],\n",
       "    'papermill': {'exception': False,\n",
       "     'start_time': '2022-05-25T13:25:21.784328',\n",
       "     'end_time': '2022-05-25T13:25:21.800761',\n",
       "     'duration': 0.016433,\n",
       "     'status': 'completed'}},\n",
       "   'source': '# Prepare data for Pipeline',\n",
       "   'id': '6a13f0c6'},\n",
       "  {'cell_type': 'markdown',\n",
       "   'metadata': {'tags': [],\n",
       "    'papermill': {'exception': False,\n",
       "     'start_time': '2022-05-25T13:25:21.811686',\n",
       "     'end_time': '2022-05-25T13:25:21.821590',\n",
       "     'duration': 0.009904,\n",
       "     'status': 'completed'}},\n",
       "   'source': '## Setup and settings',\n",
       "   'id': '90793999'},\n",
       "  {'cell_type': 'code',\n",
       "   'execution_count': 1,\n",
       "   'metadata': {'ExecuteTime': {'end_time': '2022-05-25T10:45:49.091975Z',\n",
       "     'start_time': '2022-05-25T10:45:31.197286Z'},\n",
       "    'tags': [],\n",
       "    'papermill': {'exception': False,\n",
       "     'start_time': '2022-05-25T13:25:21.831103',\n",
       "     'end_time': '2022-05-25T13:25:28.260209',\n",
       "     'duration': 6.429106,\n",
       "     'status': 'completed'},\n",
       "    'execution': {'iopub.status.busy': '2022-05-25T13:25:21.841413Z',\n",
       "     'iopub.execute_input': '2022-05-25T13:25:21.841648Z',\n",
       "     'iopub.status.idle': '2022-05-25T13:25:28.258351Z',\n",
       "     'shell.execute_reply': '2022-05-25T13:25:28.257723Z'}},\n",
       "   'outputs': [],\n",
       "   'source': '# Importing packages\\nimport os\\nfrom qiime2 import Artifact, Visualization\\nfrom qiime2.plugins import demux\\n\\nfrom utils import *',\n",
       "   'id': '64130c12'},\n",
       "  {'cell_type': 'markdown',\n",
       "   'metadata': {'tags': [],\n",
       "    'papermill': {'exception': False,\n",
       "     'start_time': '2022-05-25T13:25:28.268994',\n",
       "     'end_time': '2022-05-25T13:25:28.278514',\n",
       "     'duration': 0.00952,\n",
       "     'status': 'completed'}},\n",
       "   'source': '### Receiving the parameters\\n\\nThe following cell can receive parameters using the [papermill](https://papermill.readthedocs.io/en/latest/) tool.',\n",
       "   'id': '35ed5fe0'},\n",
       "  {'cell_type': 'code',\n",
       "   'execution_count': 2,\n",
       "   'metadata': {'ExecuteTime': {'end_time': '2022-05-25T10:46:00.668911Z',\n",
       "     'start_time': '2022-05-25T10:46:00.660921Z'},\n",
       "    'tags': ['parameters'],\n",
       "    'papermill': {'exception': False,\n",
       "     'start_time': '2022-05-25T13:25:28.305546',\n",
       "     'end_time': '2022-05-25T13:25:28.318528',\n",
       "     'duration': 0.012982,\n",
       "     'status': 'completed'},\n",
       "    'execution': {'iopub.status.busy': '2022-05-25T13:25:28.313427Z',\n",
       "     'iopub.execute_input': '2022-05-25T13:25:28.313598Z',\n",
       "     'shell.execute_reply': '2022-05-25T13:25:28.316759Z',\n",
       "     'iopub.status.idle': '2022-05-25T13:25:28.317191Z'}},\n",
       "   'outputs': [],\n",
       "   'source': \"experiment_name = 'jenneffer-vs-01'\\nbase_dir = os.path.join('/', 'home', 'lauro', 'nupeb', 'redemicro')\\nmanifest_file = os.path.join(base_dir, 'data', 'raw', 'manifest', 'not-hist-feces-manifest.csv')\\nreplace_files = False\",\n",
       "   'id': 'ab4a5739'},\n",
       "  {'id': '80457247',\n",
       "   'cell_type': 'code',\n",
       "   'metadata': {'tags': ['injected-parameters'],\n",
       "    'papermill': {'exception': False,\n",
       "     'start_time': '2022-05-25T13:25:28.339504',\n",
       "     'end_time': '2022-05-25T13:25:28.352000',\n",
       "     'duration': 0.012496,\n",
       "     'status': 'completed'},\n",
       "    'execution': {'iopub.status.busy': '2022-05-25T13:25:28.347470Z',\n",
       "     'iopub.execute_input': '2022-05-25T13:25:28.347632Z',\n",
       "     'iopub.status.idle': '2022-05-25T13:25:28.350608Z',\n",
       "     'shell.execute_reply': '2022-05-25T13:25:28.350169Z'}},\n",
       "   'execution_count': 3,\n",
       "   'source': '# Parameters\\nexperiment_name = \"jenneffer-vs-01\"\\nbase_dir = \"/home/lauro/nupeb/redemicro\"\\nmanifest_file = (\\n    \"/home/lauro/nupeb/redemicro/data/raw/manifest/not-hist-feces-manifest.csv\"\\n)\\nreplace_files = False\\n',\n",
       "   'outputs': []},\n",
       "  {'cell_type': 'code',\n",
       "   'execution_count': 4,\n",
       "   'metadata': {'tags': [],\n",
       "    'papermill': {'exception': False,\n",
       "     'start_time': '2022-05-25T13:25:28.371841',\n",
       "     'end_time': '2022-05-25T13:25:28.386012',\n",
       "     'duration': 0.014171,\n",
       "     'status': 'completed'},\n",
       "    'execution': {'iopub.status.busy': '2022-05-25T13:25:28.380088Z',\n",
       "     'iopub.execute_input': '2022-05-25T13:25:28.380240Z',\n",
       "     'iopub.status.idle': '2022-05-25T13:25:28.384594Z',\n",
       "     'shell.execute_reply': '2022-05-25T13:25:28.384143Z'}},\n",
       "   'outputs': [{'output_type': 'stream',\n",
       "     'name': 'stdout',\n",
       "     'text': 'jenneffer-vs-01\\n/home/lauro/nupeb/redemicro\\n/home/lauro/nupeb/redemicro/data/raw/manifest/not-hist-feces-manifest.csv\\nFalse\\n'}],\n",
       "   'source': \"print('\\\\n'.join((str(x) for x in (experiment_name, base_dir, manifest_file, replace_files))))\",\n",
       "   'id': '01f26e8c'},\n",
       "  {'cell_type': 'markdown',\n",
       "   'metadata': {'tags': [],\n",
       "    'papermill': {'exception': False,\n",
       "     'start_time': '2022-05-25T13:25:28.408418',\n",
       "     'end_time': '2022-05-25T13:25:28.416361',\n",
       "     'duration': 0.007943,\n",
       "     'status': 'completed'}},\n",
       "   'source': '### Defining names and paths',\n",
       "   'id': '45b5ae58'},\n",
       "  {'cell_type': 'code',\n",
       "   'execution_count': 5,\n",
       "   'metadata': {'ExecuteTime': {'end_time': '2022-05-25T10:46:02.699383Z',\n",
       "     'start_time': '2022-05-25T10:46:02.677602Z'},\n",
       "    'tags': [],\n",
       "    'papermill': {'exception': False,\n",
       "     'start_time': '2022-05-25T13:25:28.424352',\n",
       "     'end_time': '2022-05-25T13:25:28.438111',\n",
       "     'duration': 0.013759,\n",
       "     'status': 'completed'},\n",
       "    'execution': {'iopub.status.busy': '2022-05-25T13:25:28.432951Z',\n",
       "     'iopub.execute_input': '2022-05-25T13:25:28.433096Z',\n",
       "     'shell.execute_reply': '2022-05-25T13:25:28.436348Z',\n",
       "     'iopub.status.idle': '2022-05-25T13:25:28.436790Z'}},\n",
       "   'outputs': [],\n",
       "   'source': \"# Define the output folder path\\nout_dir = os.path.join(base_dir, 'experiments', experiment_name, 'qiime-artifacts')\\n\\n# Create path if it not exist\\nif not os.path.isdir(out_dir):\\n    os.makedirs(out_dir)\\n    print(f'New folder path created: {out_dir}')\\n\\n# Define the output artifact full path\\ndemux_file = os.path.join(out_dir, 'demux-paired.qza')\\ndemux_view = os.path.join(out_dir, 'demux-paired.qzv')\",\n",
       "   'id': '986603d0'},\n",
       "  {'cell_type': 'markdown',\n",
       "   'metadata': {'tags': [],\n",
       "    'papermill': {'exception': False,\n",
       "     'start_time': '2022-05-25T13:25:28.446152',\n",
       "     'end_time': '2022-05-25T13:25:28.454209',\n",
       "     'duration': 0.008057,\n",
       "     'status': 'completed'}},\n",
       "   'source': '## Step execution\\n\\nThis Step import all `fastq` files in a **QIIME2 Artifact** object and save it to a new `qza` file of `SampleData[PairedEndSequencesWithQuality]`',\n",
       "   'id': '3ea22d89'},\n",
       "  {'cell_type': 'code',\n",
       "   'execution_count': 6,\n",
       "   'metadata': {'ExecuteTime': {'end_time': '2022-05-25T11:44:41.122350Z',\n",
       "     'start_time': '2022-05-25T11:44:31.624769Z'},\n",
       "    'tags': [],\n",
       "    'papermill': {'exception': False,\n",
       "     'start_time': '2022-05-25T13:25:28.462279',\n",
       "     'end_time': '2022-05-25T13:25:36.416149',\n",
       "     'duration': 7.95387,\n",
       "     'status': 'completed'},\n",
       "    'execution': {'iopub.status.busy': '2022-05-25T13:25:28.470977Z',\n",
       "     'iopub.execute_input': '2022-05-25T13:25:28.471185Z',\n",
       "     'shell.execute_reply': '2022-05-25T13:25:36.412354Z',\n",
       "     'iopub.status.idle': '2022-05-25T13:25:36.412955Z'}},\n",
       "   'outputs': [],\n",
       "   'source': \"# If the demux file does not exist or if the old file will be replaced\\nif not os.path.isfile(demux_file) or replace_files:\\n    \\n    # Import data and create an artifact object\\n    artifact = Artifact.import_data(\\n        'SampleData[PairedEndSequencesWithQuality]', \\n        manifest_file, \\n        view_type='PairedEndFastqManifestPhred33')\\n    \\n    # Save the artifact object to a new qza file\\n    artifact.save(demux_file)\\n\\nelse:\\n    artifact = Artifact.load(demux_file)\",\n",
       "   'id': 'a64f7169'},\n",
       "  {'cell_type': 'code',\n",
       "   'execution_count': 7,\n",
       "   'metadata': {'ExecuteTime': {'end_time': '2022-05-25T11:54:49.613088Z',\n",
       "     'start_time': '2022-05-25T11:54:49.587801Z'},\n",
       "    'tags': [],\n",
       "    'papermill': {'exception': False,\n",
       "     'start_time': '2022-05-25T13:25:36.432980',\n",
       "     'end_time': '2022-05-25T13:25:36.511784',\n",
       "     'duration': 0.078804,\n",
       "     'status': 'completed'},\n",
       "    'execution': {'iopub.status.busy': '2022-05-25T13:25:36.494428Z',\n",
       "     'iopub.execute_input': '2022-05-25T13:25:36.494628Z',\n",
       "     'shell.execute_reply': '2022-05-25T13:25:36.508820Z',\n",
       "     'iopub.status.idle': '2022-05-25T13:25:36.509610Z'}},\n",
       "   'outputs': [],\n",
       "   'source': 'if not os.path.isfile(demux_view) or replace_files: \\n    # Generate e visualization of the Artifact\\n    demux_summary = demux.visualizers.summarize(artifact)\\n\\n    # Save a new visualization file based on the qza file\\n    Visualization.save(demux_summary.visualization, filepath=demux_view)\\n    \\n    demux_view_obj = demux_summary.visualization\\nelse:\\n    demux_view_obj = Visualization.load(demux_view)',\n",
       "   'id': '081b7af3'},\n",
       "  {'cell_type': 'markdown',\n",
       "   'metadata': {'tags': [],\n",
       "    'papermill': {'exception': False,\n",
       "     'start_time': '2022-05-25T13:25:36.591460',\n",
       "     'end_time': '2022-05-25T13:25:36.635482',\n",
       "     'duration': 0.044022,\n",
       "     'status': 'completed'}},\n",
       "   'source': '## Step report\\n',\n",
       "   'id': '0650b375'},\n",
       "  {'cell_type': 'code',\n",
       "   'execution_count': 8,\n",
       "   'metadata': {'tags': [],\n",
       "    'papermill': {'exception': False,\n",
       "     'start_time': '2022-05-25T13:25:36.681887',\n",
       "     'end_time': '2022-05-25T13:25:36.726098',\n",
       "     'duration': 0.044211,\n",
       "     'status': 'completed'},\n",
       "    'execution': {'iopub.status.busy': '2022-05-25T13:25:36.720387Z',\n",
       "     'iopub.execute_input': '2022-05-25T13:25:36.720628Z',\n",
       "     'shell.execute_reply': '2022-05-25T13:25:36.723996Z',\n",
       "     'iopub.status.idle': '2022-05-25T13:25:36.724485Z'}},\n",
       "   'outputs': [{'output_type': 'stream',\n",
       "     'name': 'stdout',\n",
       "     'text': '<visualization: Visualization uuid: 05fa9d52-a564-47b2-b848-67dcdff84402>\\n'}],\n",
       "   'source': 'print(demux_view_obj)',\n",
       "   'id': 'c7e70b81'},\n",
       "  {'cell_type': 'code',\n",
       "   'execution_count': 9,\n",
       "   'metadata': {'ExecuteTime': {'end_time': '2022-05-25T11:54:51.708045Z',\n",
       "     'start_time': '2022-05-25T11:54:51.702371Z'},\n",
       "    'tags': [],\n",
       "    'papermill': {'exception': False,\n",
       "     'start_time': '2022-05-25T13:25:36.804307',\n",
       "     'end_time': '2022-05-25T13:25:36.946638',\n",
       "     'duration': 0.142331,\n",
       "     'status': 'completed'},\n",
       "    'execution': {'iopub.status.busy': '2022-05-25T13:25:36.929738Z',\n",
       "     'iopub.execute_input': '2022-05-25T13:25:36.930141Z',\n",
       "     'shell.execute_reply': '2022-05-25T13:25:36.944392Z',\n",
       "     'iopub.status.idle': '2022-05-25T13:25:36.945007Z'}},\n",
       "   'outputs': [{'output_type': 'execute_result',\n",
       "     'metadata': {},\n",
       "     'data': {'text/plain': '<visualization: Visualization uuid: 05fa9d52-a564-47b2-b848-67dcdff84402>',\n",
       "      'text/html': '<div><img onload=\"(function(div, url){\\nif (typeof require !== \\'undefined\\') {\\n    var baseURL = require.toUrl(\\'\\').split(\\'/\\').slice(0, -2).join(\\'/\\');\\n} else {\\n    var baseURL = JSON.parse(\\n        document.getElementById(\\'jupyter-config-data\\').innerHTML\\n    ).baseUrl.slice(0, -1);\\n}\\nurl = baseURL + url;\\nfetch(url).then(function(res) {\\n    if (res.status === 404) {\\n        div.innerHTML = \\'Install QIIME 2 Jupyter extension with:<br />\\' +\\n                        \\'<code>jupyter serverextension enable --py qiime2\\' +\\n                        \\' --sys-prefix</code><br />then restart your server.\\' +\\n                        \\'<br /><br />(Interactive output not available on \\' +\\n                        \\'static notebook viewer services like nbviewer.)\\';\\n    } else if (res.status === 409) {\\n        div.innerHTML = \\'Visualization no longer in scope. Re-run this cell\\' +\\n                        \\' to see the visualization.\\';\\n    } else if (res.ok) {\\n        url = res.url;\\n        div.innerHTML = \\'<iframe src=\\\\\\'\\' + url + \\'\\\\\\' style=\\\\\\'\\' +\\n                        \\'width: 100%; height: 700px; border: 0;\\\\\\'>\\' +\\n                        \\'</iframe><hr />Open in a: <a href=\\\\\\'\\' + url + \\'\\\\\\'\\' +\\n                        \\' target=\\\\\\'_blank\\\\\\'>new window</a>\\'\\n    } else {\\n        div.innerHTML = \\'Something has gone wrong. Check notebook server for\\' +\\n                        \\' errors.\\';\\n    }\\n});\\n})(this.parentElement, \\'/qiime2/redirect?location=/tmp/qiime2-archive-_jdz55hs\\')\" src=\"data:image/gif;base64,R0lGODlhAQABAIAAAP///wAAACH5BAEAAAAALAAAAAABAAEAAAICRAEAOw==\" /></div>'},\n",
       "     'execution_count': 9}],\n",
       "   'source': '# Render Visualization\\ndemux_view_obj',\n",
       "   'id': '59213585'}],\n",
       " 'metadata': {'celltoolbar': 'Edit Metadata',\n",
       "  'kernelspec': {'display_name': 'Python 3 (ipykernel)',\n",
       "   'language': 'python',\n",
       "   'name': 'python3'},\n",
       "  'language_info': {'name': 'python',\n",
       "   'version': '3.8.12',\n",
       "   'mimetype': 'text/x-python',\n",
       "   'codemirror_mode': {'name': 'ipython', 'version': 3},\n",
       "   'pygments_lexer': 'ipython3',\n",
       "   'nbconvert_exporter': 'python',\n",
       "   'file_extension': '.py'},\n",
       "  'toc-autonumbering': False,\n",
       "  'toc-showcode': False,\n",
       "  'toc-showmarkdowntxt': False,\n",
       "  'orig_nbformat_minor': 4,\n",
       "  'papermill': {'default_parameters': {},\n",
       "   'parameters': {'experiment_name': 'jenneffer-vs-01',\n",
       "    'base_dir': '/home/lauro/nupeb/redemicro',\n",
       "    'manifest_file': '/home/lauro/nupeb/redemicro/data/raw/manifest/not-hist-feces-manifest.csv',\n",
       "    'replace_files': False},\n",
       "   'environment_variables': {},\n",
       "   'version': '2.3.4',\n",
       "   'input_path': '/home/lauro/nupeb/redemicro/steps/step-01-prepare-data.ipynb',\n",
       "   'output_path': '/home/lauro/nupeb/redemicro/experiments/jenneffer-vs-01/executed_steps/step-01-prepare-data.ipynb',\n",
       "   'start_time': '2022-05-25T13:25:20.704974',\n",
       "   'end_time': '2022-05-25T13:25:40.605018',\n",
       "   'duration': 19.900044,\n",
       "   'exception': None}},\n",
       " 'nbformat': 4,\n",
       " 'nbformat_minor': 5}"
      ]
     },
     "execution_count": 11,
     "metadata": {},
     "output_type": "execute_result"
    }
   ],
   "source": [
    "# Define paths\n",
    "fname = 'step-01-prepare-data.ipynb'\n",
    "step_file = os.path.join(steps_folder, fname)\n",
    "result_file = os.path.join(executed_steps, fname)\n",
    "step_params = {\n",
    "    'experiment_name': experiment_name,\n",
    "    'base_dir': base_folder,\n",
    "    'manifest_file': os.path.join(manifest_folder, 'not-hist-feces-manifest.csv'),\n",
    "    'replace_files': False,\n",
    "}\n",
    "\n",
    "# Execute notebook\n",
    "pm.execute_notebook(step_file, result_file, parameters=step_params, kernel_name='python3')"
   ]
  },
  {
   "cell_type": "markdown",
   "id": "82ea0763",
   "metadata": {
    "pycharm": {
     "name": "#%% md\n"
    }
   },
   "source": [
    "## Step 02 - Construct ASV table\n",
    "This Step load the raw sequences Artifact `qza`, conduct **quality control** and construct the **ASV** table using the `DADA2` QIIME2 plugin.\n",
    "\n",
    "A report with describing the filtering implact along all phases of DADA2 plugin execution. The DADA2 outputs three QIME2 Artifacts:\n",
    "- Table\n",
    "- Representative Sequences\n",
    "- Statistics"
   ]
  },
  {
   "cell_type": "code",
   "execution_count": 10,
   "id": "9ad8aa51",
   "metadata": {
    "ExecuteTime": {
     "end_time": "2022-05-25T13:16:08.392280Z",
     "start_time": "2022-05-25T13:16:08.389088Z"
    },
    "scrolled": true,
    "pycharm": {
     "name": "#%%\n"
    }
   },
   "outputs": [],
   "source": [
    "# Define paths\n",
    "fname = 'step-02-dada2.ipynb'\n",
    "step_file = os.path.join(steps_folder, fname)\n",
    "result_file = os.path.join(executed_steps, fname)\n",
    "step_params = {\n",
    "    'metadata_file': os.path.join(metadata_folder, 'not-hist-feces-metadata.tsv'),\n",
    "    'experiment_folder': os.path.join(qiime_folder, 'demux-paired.qza'),\n",
    "    'replace_files': False,\n",
    "    'phred': parameters['phred'],\n",
    "    'trunc_f': parameters['trunc_f'],\n",
    "    'trunc_r': parameters['trunc_r'],\n",
    "    'overlap': parameters['overlap'],\n",
    "    'threads': parameters['threads'],\n",
    "}\n",
    "# Execute notebook\n",
    "pm.execute_notebook(step_file, result_file, parameters=step_params)"
   ]
  }
 ],
 "metadata": {
  "kernelspec": {
   "display_name": "Python 3 (ipykernel)",
   "language": "python",
   "name": "python3"
  },
  "language_info": {
   "codemirror_mode": {
    "name": "ipython",
    "version": 3
   },
   "file_extension": ".py",
   "mimetype": "text/x-python",
   "name": "python",
   "nbconvert_exporter": "python",
   "pygments_lexer": "ipython3",
   "version": "3.8.12"
  }
 },
 "nbformat": 4,
 "nbformat_minor": 5
}