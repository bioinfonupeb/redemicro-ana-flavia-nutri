{
 "cells": [
  {
   "cell_type": "markdown",
   "metadata": {},
   "source": [
    "# The QIIME2 Pipeline Artifacts Analysis\n",
    "\n",
    "We will make analytical processing of the artifacts generated through the QIIME2's metagenomic pipeline."
   ]
  },
  {
   "cell_type": "markdown",
   "metadata": {},
   "source": [
    "---"
   ]
  },
  {
   "cell_type": "markdown",
   "metadata": {},
   "source": [
    "# Environment setup and data preparation\n",
    "\n",
    "Before starting the data analysis, we need to prepare and configure some computational resources.\n",
    "\n",
    "Initially, we configure the environment by importing some programming libraries and functions of specific packages. After that, we will define some paths for working folders and files. Some custom functions are implemented here for modularization purposes.\n",
    "\n",
    "In the next stage, we ingest some data artifacts and do transformations to load specific data formats and information to be used in the data analysis further."
   ]
  },
  {
   "cell_type": "markdown",
   "metadata": {},
   "source": [
    "## Setting the environment"
   ]
  },
  {
   "cell_type": "markdown",
   "metadata": {},
   "source": [
    "### Importing packages"
   ]
  },
  {
   "cell_type": "code",
   "execution_count": 1,
   "metadata": {
    "ExecuteTime": {
     "end_time": "2022-06-14T21:03:18.558470Z",
     "start_time": "2022-06-14T21:03:11.740237Z"
    }
   },
   "outputs": [],
   "source": [
    "import pandas as pd\n",
    "import numpy as np\n",
    "import seaborn as sns\n",
    "import matplotlib.pyplot as plt\n",
    "import os\n",
    "from pathlib import Path\n",
    "import re\n",
    "from qiime2.plugins import feature_table\n",
    "from qiime2 import Artifact, Visualization\n",
    "from qiime2 import Metadata\n",
    "from qiime2.plugins.metadata.visualizers import tabulate\n",
    "from qiime2.plugins.feature_table.methods import filter_samples\n",
    "from qiime2.plugins.feature_table.methods import group\n",
    "from qiime2.plugins.feature_table.methods import presence_absence\n",
    "from qiime2.plugins.taxa.methods import collapse\n",
    "from qiime2.plugins import metadata\n",
    "from qiime2.plugins.feature_table.methods import filter_samples\n",
    "\n",
    "#from qiime2.plugins import demux, dada2, deblur, quality_filter, metadata, feature_table, alignment, phylogeny, diversity, emperor, feature_classifier, taxa, composition\n",
    "\n",
    "from IPython.display import display\n",
    "%matplotlib inline"
   ]
  },
  {
   "cell_type": "markdown",
   "metadata": {},
   "source": [
    "### Defining the parameters\n",
    "The following cell can receive parameters using the [papermill](https://papermill.readthedocs.io/en/latest/) tool."
   ]
  },
  {
   "cell_type": "code",
   "execution_count": 2,
   "metadata": {
    "ExecuteTime": {
     "end_time": "2022-06-14T21:03:18.564555Z",
     "start_time": "2022-06-14T21:03:18.560871Z"
    },
    "tags": [
     "parameters"
    ]
   },
   "outputs": [],
   "source": [
    "metadata_file = os.path.abspath(os.path.join(os.getcwd(), '..', 'data', 'raw', 'metadata', 'not-hist-feces-metadata.tsv'))\n",
    "experiment_folder = os.path.abspath(os.path.join(os.getcwd(), '..', 'experiments', 'thayane-feces-01'))\n",
    "img_folder = os.path.abspath(os.path.join(experiment_folder, 'imgs'))\n",
    "threads = 6"
   ]
  },
  {
   "cell_type": "code",
   "execution_count": 3,
   "metadata": {
    "ExecuteTime": {
     "end_time": "2022-06-14T21:03:18.607916Z",
     "start_time": "2022-06-14T21:03:18.566116Z"
    }
   },
   "outputs": [],
   "source": [
    "qiime_folder = os.path.join(experiment_folder, 'qiime-artifacts')\n",
    "table_file = os.path.join(qiime_folder, 'dada2-tabs.qza')\n",
    "taxon_file = os.path.join(qiime_folder, 'metatax.qza')"
   ]
  },
  {
   "cell_type": "markdown",
   "metadata": {},
   "source": [
    "### Custom functions"
   ]
  },
  {
   "cell_type": "code",
   "execution_count": 4,
   "metadata": {
    "ExecuteTime": {
     "end_time": "2022-06-14T21:03:18.623187Z",
     "start_time": "2022-06-14T21:03:18.609675Z"
    }
   },
   "outputs": [],
   "source": [
    "def top_counts(df, col_idx):\n",
    "    species = []\n",
    "    counts = []\n",
    "    full_tax = []\n",
    "    cnt = 0\n",
    "    for i, v in df[col_idx].sort_values(ascending=False).iteritems():\n",
    "        sfield = i.split(';')[-1]\n",
    "        if sfield != '__':\n",
    "            cnt += 1\n",
    "            species.append(sfield[3:])\n",
    "            counts.append(int(v))\n",
    "            full_tax.append(i)\n",
    "        if cnt >= 10:\n",
    "            break\n",
    "    return species, counts, full_tax"
   ]
  },
  {
   "cell_type": "markdown",
   "metadata": {},
   "source": [
    "---"
   ]
  },
  {
   "cell_type": "markdown",
   "metadata": {},
   "source": [
    "## Data ingestion"
   ]
  },
  {
   "cell_type": "markdown",
   "metadata": {},
   "source": [
    "### Ingesting the Metadata table\n",
    "\n",
    "We're ingesting the metadata `TSV` file as a `Metadata` object of QIIME2 API."
   ]
  },
  {
   "cell_type": "code",
   "execution_count": 5,
   "metadata": {
    "ExecuteTime": {
     "end_time": "2022-06-14T21:03:18.665121Z",
     "start_time": "2022-06-14T21:03:18.624491Z"
    },
    "tags": []
   },
   "outputs": [
    {
     "data": {
      "text/plain": [
       "Metadata\n",
       "--------\n",
       "66 IDs x 8 columns\n",
       "s_name:          ColumnProperties(type='categorical')\n",
       "observations:    ColumnProperties(type='categorical')\n",
       "individuo:       ColumnProperties(type='categorical')\n",
       "id_vaginal:      ColumnProperties(type='categorical')\n",
       "id_fezes:        ColumnProperties(type='categorical')\n",
       "local_de_coleta: ColumnProperties(type='categorical')\n",
       "idade:           ColumnProperties(type='numeric')\n",
       "class_meno:      ColumnProperties(type='categorical')\n",
       "\n",
       "Call to_dataframe() for a tabular representation."
      ]
     },
     "execution_count": 5,
     "metadata": {},
     "output_type": "execute_result"
    }
   ],
   "source": [
    "# Ingest metadata tsv to qiime2.metadata.metadata.Metadata object\n",
    "sample_metadata = Metadata.load(metadata_file)\n",
    "\n",
    "# tabulate(sample_metadata).visualization\n",
    "sample_metadata"
   ]
  },
  {
   "cell_type": "markdown",
   "metadata": {},
   "source": [
    "We are creating a `DataFrame` object of the `Metadata` artifact."
   ]
  },
  {
   "cell_type": "code",
   "execution_count": 6,
   "metadata": {
    "ExecuteTime": {
     "end_time": "2022-06-14T21:03:18.715458Z",
     "start_time": "2022-06-14T21:03:18.666549Z"
    }
   },
   "outputs": [],
   "source": [
    "samples_df = sample_metadata.to_dataframe()"
   ]
  },
  {
   "cell_type": "markdown",
   "metadata": {},
   "source": [
    "### Ingesting the complete ASV table"
   ]
  },
  {
   "cell_type": "markdown",
   "metadata": {},
   "source": [
    "We're ingesting the ASV table with filtered features through the DADA2 algorithm. This artifact contains the absolute abundance of each ASV feature for all samples."
   ]
  },
  {
   "cell_type": "code",
   "execution_count": 7,
   "metadata": {
    "ExecuteTime": {
     "end_time": "2022-06-14T21:03:18.760032Z",
     "start_time": "2022-06-14T21:03:18.717131Z"
    }
   },
   "outputs": [
    {
     "data": {
      "text/plain": [
       "<artifact: FeatureTable[Frequency] uuid: d5ba9a95-3a4d-4abb-80f8-899291b5be2d>"
      ]
     },
     "execution_count": 7,
     "metadata": {},
     "output_type": "execute_result"
    }
   ],
   "source": [
    "frequency_table_path = table_file\n",
    "frequency_table = Artifact.load(frequency_table_path)\n",
    "frequency_table"
   ]
  },
  {
   "cell_type": "markdown",
   "metadata": {},
   "source": [
    "### Filtering samples "
   ]
  },
  {
   "cell_type": "code",
   "execution_count": 8,
   "metadata": {
    "ExecuteTime": {
     "end_time": "2022-06-14T21:03:18.882150Z",
     "start_time": "2022-06-14T21:03:18.761699Z"
    }
   },
   "outputs": [],
   "source": [
    "# Create the SQL statement\n",
    "ids_to_filter_out = ('MV10', 'MV29', 'MV45', 'MV49', 'MV66', 'MV69', 'MV80', 'MV82', 'MV93', 'MV126', )\n",
    "sql = ', '.join([f\"'{x}'\" for x in ids_to_filter_out])\n",
    "sql = f'[id_vaginal] IN ({sql})'\n",
    "\n",
    "frequency_table = filter_samples(\n",
    "    table = frequency_table, \n",
    "    metadata = sample_metadata,\n",
    "    where = sql,\n",
    "    exclude_ids = True,\n",
    "    filter_empty_features = True,\n",
    "    min_frequency = 1,\n",
    "    min_features = 1,\n",
    ").filtered_table\n",
    "\n",
    "samples_df = samples_df[~samples_df['id_vaginal'].isin(ids_to_filter_out)]"
   ]
  },
  {
   "cell_type": "markdown",
   "metadata": {},
   "source": [
    "Here, we're generating the visualization of the complete ASV table."
   ]
  },
  {
   "cell_type": "code",
   "execution_count": 9,
   "metadata": {
    "ExecuteTime": {
     "end_time": "2022-06-14T21:03:18.886550Z",
     "start_time": "2022-06-14T21:03:18.883928Z"
    }
   },
   "outputs": [],
   "source": [
    "#metadata.visualizers.tabulate(frequency_table.view(Metadata)).visualization"
   ]
  },
  {
   "cell_type": "markdown",
   "metadata": {},
   "source": [
    "We're transforming the artifact `FeatureTable[Frequency]` to a Pandas `DataFrame` object to further processing using Python."
   ]
  },
  {
   "cell_type": "code",
   "execution_count": 10,
   "metadata": {
    "ExecuteTime": {
     "end_time": "2022-06-14T21:03:20.243855Z",
     "start_time": "2022-06-14T21:03:18.888909Z"
    },
    "scrolled": true
   },
   "outputs": [
    {
     "data": {
      "text/html": [
       "<div>\n",
       "<style scoped>\n",
       "    .dataframe tbody tr th:only-of-type {\n",
       "        vertical-align: middle;\n",
       "    }\n",
       "\n",
       "    .dataframe tbody tr th {\n",
       "        vertical-align: top;\n",
       "    }\n",
       "\n",
       "    .dataframe thead th {\n",
       "        text-align: right;\n",
       "    }\n",
       "</style>\n",
       "<table border=\"1\" class=\"dataframe\">\n",
       "  <thead>\n",
       "    <tr style=\"text-align: right;\">\n",
       "      <th>id</th>\n",
       "      <th>I1-M05</th>\n",
       "      <th>I10-M91</th>\n",
       "      <th>I11-M44</th>\n",
       "      <th>I12-M45</th>\n",
       "      <th>I13-M46</th>\n",
       "      <th>I14-M47</th>\n",
       "      <th>I15-M49</th>\n",
       "      <th>I16-M52</th>\n",
       "      <th>I17-M55</th>\n",
       "      <th>I18-M07</th>\n",
       "      <th>...</th>\n",
       "      <th>I68-M144</th>\n",
       "      <th>I69-M148</th>\n",
       "      <th>I7-M36</th>\n",
       "      <th>I70-M150</th>\n",
       "      <th>I71-M151</th>\n",
       "      <th>I72-M155</th>\n",
       "      <th>I73-M156</th>\n",
       "      <th>I75-M162</th>\n",
       "      <th>I76-M164</th>\n",
       "      <th>I8-M39</th>\n",
       "    </tr>\n",
       "  </thead>\n",
       "  <tbody>\n",
       "    <tr>\n",
       "      <th>074b2d2eeb19288d75bf8e64784db602</th>\n",
       "      <td>0.0</td>\n",
       "      <td>786.0</td>\n",
       "      <td>0.0</td>\n",
       "      <td>1118.0</td>\n",
       "      <td>0.0</td>\n",
       "      <td>0.0</td>\n",
       "      <td>0.0</td>\n",
       "      <td>0.0</td>\n",
       "      <td>330.0</td>\n",
       "      <td>0.0</td>\n",
       "      <td>...</td>\n",
       "      <td>0.0</td>\n",
       "      <td>0.0</td>\n",
       "      <td>0.0</td>\n",
       "      <td>0.0</td>\n",
       "      <td>0.0</td>\n",
       "      <td>1259.0</td>\n",
       "      <td>741.0</td>\n",
       "      <td>0.0</td>\n",
       "      <td>0.0</td>\n",
       "      <td>1263.0</td>\n",
       "    </tr>\n",
       "    <tr>\n",
       "      <th>6c3b33991621b6c3e04992794a55a3d9</th>\n",
       "      <td>0.0</td>\n",
       "      <td>1634.0</td>\n",
       "      <td>1228.0</td>\n",
       "      <td>1436.0</td>\n",
       "      <td>0.0</td>\n",
       "      <td>0.0</td>\n",
       "      <td>0.0</td>\n",
       "      <td>0.0</td>\n",
       "      <td>0.0</td>\n",
       "      <td>0.0</td>\n",
       "      <td>...</td>\n",
       "      <td>1140.0</td>\n",
       "      <td>0.0</td>\n",
       "      <td>0.0</td>\n",
       "      <td>0.0</td>\n",
       "      <td>0.0</td>\n",
       "      <td>0.0</td>\n",
       "      <td>1427.0</td>\n",
       "      <td>0.0</td>\n",
       "      <td>0.0</td>\n",
       "      <td>773.0</td>\n",
       "    </tr>\n",
       "    <tr>\n",
       "      <th>8b7f2e8ca48676f3a47dfa784c8a9efe</th>\n",
       "      <td>0.0</td>\n",
       "      <td>540.0</td>\n",
       "      <td>0.0</td>\n",
       "      <td>872.0</td>\n",
       "      <td>0.0</td>\n",
       "      <td>0.0</td>\n",
       "      <td>0.0</td>\n",
       "      <td>0.0</td>\n",
       "      <td>0.0</td>\n",
       "      <td>0.0</td>\n",
       "      <td>...</td>\n",
       "      <td>0.0</td>\n",
       "      <td>0.0</td>\n",
       "      <td>3095.0</td>\n",
       "      <td>0.0</td>\n",
       "      <td>0.0</td>\n",
       "      <td>0.0</td>\n",
       "      <td>0.0</td>\n",
       "      <td>0.0</td>\n",
       "      <td>0.0</td>\n",
       "      <td>652.0</td>\n",
       "    </tr>\n",
       "    <tr>\n",
       "      <th>7a1d4d3ec513655bbe964c4ab022e6fe</th>\n",
       "      <td>0.0</td>\n",
       "      <td>0.0</td>\n",
       "      <td>444.0</td>\n",
       "      <td>0.0</td>\n",
       "      <td>52.0</td>\n",
       "      <td>574.0</td>\n",
       "      <td>0.0</td>\n",
       "      <td>0.0</td>\n",
       "      <td>0.0</td>\n",
       "      <td>0.0</td>\n",
       "      <td>...</td>\n",
       "      <td>0.0</td>\n",
       "      <td>0.0</td>\n",
       "      <td>0.0</td>\n",
       "      <td>0.0</td>\n",
       "      <td>0.0</td>\n",
       "      <td>568.0</td>\n",
       "      <td>726.0</td>\n",
       "      <td>1033.0</td>\n",
       "      <td>315.0</td>\n",
       "      <td>0.0</td>\n",
       "    </tr>\n",
       "    <tr>\n",
       "      <th>b53b25874d0529b37d36bfc78e32c894</th>\n",
       "      <td>0.0</td>\n",
       "      <td>1464.0</td>\n",
       "      <td>1300.0</td>\n",
       "      <td>1210.0</td>\n",
       "      <td>0.0</td>\n",
       "      <td>0.0</td>\n",
       "      <td>0.0</td>\n",
       "      <td>0.0</td>\n",
       "      <td>0.0</td>\n",
       "      <td>0.0</td>\n",
       "      <td>...</td>\n",
       "      <td>0.0</td>\n",
       "      <td>0.0</td>\n",
       "      <td>0.0</td>\n",
       "      <td>0.0</td>\n",
       "      <td>0.0</td>\n",
       "      <td>0.0</td>\n",
       "      <td>1318.0</td>\n",
       "      <td>0.0</td>\n",
       "      <td>2022.0</td>\n",
       "      <td>621.0</td>\n",
       "    </tr>\n",
       "    <tr>\n",
       "      <th>...</th>\n",
       "      <td>...</td>\n",
       "      <td>...</td>\n",
       "      <td>...</td>\n",
       "      <td>...</td>\n",
       "      <td>...</td>\n",
       "      <td>...</td>\n",
       "      <td>...</td>\n",
       "      <td>...</td>\n",
       "      <td>...</td>\n",
       "      <td>...</td>\n",
       "      <td>...</td>\n",
       "      <td>...</td>\n",
       "      <td>...</td>\n",
       "      <td>...</td>\n",
       "      <td>...</td>\n",
       "      <td>...</td>\n",
       "      <td>...</td>\n",
       "      <td>...</td>\n",
       "      <td>...</td>\n",
       "      <td>...</td>\n",
       "      <td>...</td>\n",
       "    </tr>\n",
       "    <tr>\n",
       "      <th>ee5a1924a299e186d7f904e5aa898bd1</th>\n",
       "      <td>0.0</td>\n",
       "      <td>0.0</td>\n",
       "      <td>0.0</td>\n",
       "      <td>0.0</td>\n",
       "      <td>0.0</td>\n",
       "      <td>0.0</td>\n",
       "      <td>0.0</td>\n",
       "      <td>0.0</td>\n",
       "      <td>0.0</td>\n",
       "      <td>0.0</td>\n",
       "      <td>...</td>\n",
       "      <td>0.0</td>\n",
       "      <td>0.0</td>\n",
       "      <td>0.0</td>\n",
       "      <td>0.0</td>\n",
       "      <td>0.0</td>\n",
       "      <td>0.0</td>\n",
       "      <td>0.0</td>\n",
       "      <td>0.0</td>\n",
       "      <td>0.0</td>\n",
       "      <td>0.0</td>\n",
       "    </tr>\n",
       "    <tr>\n",
       "      <th>143582bcba9a90e4a585ed60042a6f0d</th>\n",
       "      <td>0.0</td>\n",
       "      <td>0.0</td>\n",
       "      <td>0.0</td>\n",
       "      <td>0.0</td>\n",
       "      <td>0.0</td>\n",
       "      <td>0.0</td>\n",
       "      <td>0.0</td>\n",
       "      <td>0.0</td>\n",
       "      <td>0.0</td>\n",
       "      <td>0.0</td>\n",
       "      <td>...</td>\n",
       "      <td>0.0</td>\n",
       "      <td>0.0</td>\n",
       "      <td>0.0</td>\n",
       "      <td>0.0</td>\n",
       "      <td>0.0</td>\n",
       "      <td>0.0</td>\n",
       "      <td>0.0</td>\n",
       "      <td>0.0</td>\n",
       "      <td>0.0</td>\n",
       "      <td>0.0</td>\n",
       "    </tr>\n",
       "    <tr>\n",
       "      <th>c713157aa6936b23861463951dfb6a3b</th>\n",
       "      <td>0.0</td>\n",
       "      <td>0.0</td>\n",
       "      <td>0.0</td>\n",
       "      <td>0.0</td>\n",
       "      <td>0.0</td>\n",
       "      <td>0.0</td>\n",
       "      <td>0.0</td>\n",
       "      <td>0.0</td>\n",
       "      <td>0.0</td>\n",
       "      <td>0.0</td>\n",
       "      <td>...</td>\n",
       "      <td>0.0</td>\n",
       "      <td>0.0</td>\n",
       "      <td>0.0</td>\n",
       "      <td>0.0</td>\n",
       "      <td>0.0</td>\n",
       "      <td>0.0</td>\n",
       "      <td>1.0</td>\n",
       "      <td>0.0</td>\n",
       "      <td>0.0</td>\n",
       "      <td>0.0</td>\n",
       "    </tr>\n",
       "    <tr>\n",
       "      <th>bd157fd42be3b6728d0080ee52836c14</th>\n",
       "      <td>0.0</td>\n",
       "      <td>0.0</td>\n",
       "      <td>0.0</td>\n",
       "      <td>0.0</td>\n",
       "      <td>0.0</td>\n",
       "      <td>0.0</td>\n",
       "      <td>0.0</td>\n",
       "      <td>0.0</td>\n",
       "      <td>0.0</td>\n",
       "      <td>0.0</td>\n",
       "      <td>...</td>\n",
       "      <td>0.0</td>\n",
       "      <td>0.0</td>\n",
       "      <td>0.0</td>\n",
       "      <td>0.0</td>\n",
       "      <td>0.0</td>\n",
       "      <td>0.0</td>\n",
       "      <td>1.0</td>\n",
       "      <td>0.0</td>\n",
       "      <td>0.0</td>\n",
       "      <td>0.0</td>\n",
       "    </tr>\n",
       "    <tr>\n",
       "      <th>7be16af1fd4a487fd9e6380727a69555</th>\n",
       "      <td>0.0</td>\n",
       "      <td>0.0</td>\n",
       "      <td>0.0</td>\n",
       "      <td>0.0</td>\n",
       "      <td>0.0</td>\n",
       "      <td>0.0</td>\n",
       "      <td>0.0</td>\n",
       "      <td>0.0</td>\n",
       "      <td>0.0</td>\n",
       "      <td>0.0</td>\n",
       "      <td>...</td>\n",
       "      <td>0.0</td>\n",
       "      <td>0.0</td>\n",
       "      <td>0.0</td>\n",
       "      <td>0.0</td>\n",
       "      <td>0.0</td>\n",
       "      <td>0.0</td>\n",
       "      <td>0.0</td>\n",
       "      <td>1.0</td>\n",
       "      <td>0.0</td>\n",
       "      <td>0.0</td>\n",
       "    </tr>\n",
       "  </tbody>\n",
       "</table>\n",
       "<p>2918 rows × 66 columns</p>\n",
       "</div>"
      ],
      "text/plain": [
       "id                                I1-M05  I10-M91  I11-M44  I12-M45  I13-M46  \\\n",
       "074b2d2eeb19288d75bf8e64784db602     0.0    786.0      0.0   1118.0      0.0   \n",
       "6c3b33991621b6c3e04992794a55a3d9     0.0   1634.0   1228.0   1436.0      0.0   \n",
       "8b7f2e8ca48676f3a47dfa784c8a9efe     0.0    540.0      0.0    872.0      0.0   \n",
       "7a1d4d3ec513655bbe964c4ab022e6fe     0.0      0.0    444.0      0.0     52.0   \n",
       "b53b25874d0529b37d36bfc78e32c894     0.0   1464.0   1300.0   1210.0      0.0   \n",
       "...                                  ...      ...      ...      ...      ...   \n",
       "ee5a1924a299e186d7f904e5aa898bd1     0.0      0.0      0.0      0.0      0.0   \n",
       "143582bcba9a90e4a585ed60042a6f0d     0.0      0.0      0.0      0.0      0.0   \n",
       "c713157aa6936b23861463951dfb6a3b     0.0      0.0      0.0      0.0      0.0   \n",
       "bd157fd42be3b6728d0080ee52836c14     0.0      0.0      0.0      0.0      0.0   \n",
       "7be16af1fd4a487fd9e6380727a69555     0.0      0.0      0.0      0.0      0.0   \n",
       "\n",
       "id                                I14-M47  I15-M49  I16-M52  I17-M55  I18-M07  \\\n",
       "074b2d2eeb19288d75bf8e64784db602      0.0      0.0      0.0    330.0      0.0   \n",
       "6c3b33991621b6c3e04992794a55a3d9      0.0      0.0      0.0      0.0      0.0   \n",
       "8b7f2e8ca48676f3a47dfa784c8a9efe      0.0      0.0      0.0      0.0      0.0   \n",
       "7a1d4d3ec513655bbe964c4ab022e6fe    574.0      0.0      0.0      0.0      0.0   \n",
       "b53b25874d0529b37d36bfc78e32c894      0.0      0.0      0.0      0.0      0.0   \n",
       "...                                   ...      ...      ...      ...      ...   \n",
       "ee5a1924a299e186d7f904e5aa898bd1      0.0      0.0      0.0      0.0      0.0   \n",
       "143582bcba9a90e4a585ed60042a6f0d      0.0      0.0      0.0      0.0      0.0   \n",
       "c713157aa6936b23861463951dfb6a3b      0.0      0.0      0.0      0.0      0.0   \n",
       "bd157fd42be3b6728d0080ee52836c14      0.0      0.0      0.0      0.0      0.0   \n",
       "7be16af1fd4a487fd9e6380727a69555      0.0      0.0      0.0      0.0      0.0   \n",
       "\n",
       "id                                ...  I68-M144  I69-M148  I7-M36  I70-M150  \\\n",
       "074b2d2eeb19288d75bf8e64784db602  ...       0.0       0.0     0.0       0.0   \n",
       "6c3b33991621b6c3e04992794a55a3d9  ...    1140.0       0.0     0.0       0.0   \n",
       "8b7f2e8ca48676f3a47dfa784c8a9efe  ...       0.0       0.0  3095.0       0.0   \n",
       "7a1d4d3ec513655bbe964c4ab022e6fe  ...       0.0       0.0     0.0       0.0   \n",
       "b53b25874d0529b37d36bfc78e32c894  ...       0.0       0.0     0.0       0.0   \n",
       "...                               ...       ...       ...     ...       ...   \n",
       "ee5a1924a299e186d7f904e5aa898bd1  ...       0.0       0.0     0.0       0.0   \n",
       "143582bcba9a90e4a585ed60042a6f0d  ...       0.0       0.0     0.0       0.0   \n",
       "c713157aa6936b23861463951dfb6a3b  ...       0.0       0.0     0.0       0.0   \n",
       "bd157fd42be3b6728d0080ee52836c14  ...       0.0       0.0     0.0       0.0   \n",
       "7be16af1fd4a487fd9e6380727a69555  ...       0.0       0.0     0.0       0.0   \n",
       "\n",
       "id                                I71-M151  I72-M155  I73-M156  I75-M162  \\\n",
       "074b2d2eeb19288d75bf8e64784db602       0.0    1259.0     741.0       0.0   \n",
       "6c3b33991621b6c3e04992794a55a3d9       0.0       0.0    1427.0       0.0   \n",
       "8b7f2e8ca48676f3a47dfa784c8a9efe       0.0       0.0       0.0       0.0   \n",
       "7a1d4d3ec513655bbe964c4ab022e6fe       0.0     568.0     726.0    1033.0   \n",
       "b53b25874d0529b37d36bfc78e32c894       0.0       0.0    1318.0       0.0   \n",
       "...                                    ...       ...       ...       ...   \n",
       "ee5a1924a299e186d7f904e5aa898bd1       0.0       0.0       0.0       0.0   \n",
       "143582bcba9a90e4a585ed60042a6f0d       0.0       0.0       0.0       0.0   \n",
       "c713157aa6936b23861463951dfb6a3b       0.0       0.0       1.0       0.0   \n",
       "bd157fd42be3b6728d0080ee52836c14       0.0       0.0       1.0       0.0   \n",
       "7be16af1fd4a487fd9e6380727a69555       0.0       0.0       0.0       1.0   \n",
       "\n",
       "id                                I76-M164  I8-M39  \n",
       "074b2d2eeb19288d75bf8e64784db602       0.0  1263.0  \n",
       "6c3b33991621b6c3e04992794a55a3d9       0.0   773.0  \n",
       "8b7f2e8ca48676f3a47dfa784c8a9efe       0.0   652.0  \n",
       "7a1d4d3ec513655bbe964c4ab022e6fe     315.0     0.0  \n",
       "b53b25874d0529b37d36bfc78e32c894    2022.0   621.0  \n",
       "...                                    ...     ...  \n",
       "ee5a1924a299e186d7f904e5aa898bd1       0.0     0.0  \n",
       "143582bcba9a90e4a585ed60042a6f0d       0.0     0.0  \n",
       "c713157aa6936b23861463951dfb6a3b       0.0     0.0  \n",
       "bd157fd42be3b6728d0080ee52836c14       0.0     0.0  \n",
       "7be16af1fd4a487fd9e6380727a69555       0.0     0.0  \n",
       "\n",
       "[2918 rows x 66 columns]"
      ]
     },
     "execution_count": 10,
     "metadata": {},
     "output_type": "execute_result"
    }
   ],
   "source": [
    "table_df = frequency_table.view(Metadata).to_dataframe().T\n",
    "table_df"
   ]
  },
  {
   "cell_type": "markdown",
   "metadata": {},
   "source": [
    "### Ingesting the complete **Taxonomy** artifact\n",
    "\n",
    "We ingest the complete `FeatureData[Taxonomy]` artifact. This file contains all inferred taxonomies for each feature as the associated confidence score."
   ]
  },
  {
   "cell_type": "code",
   "execution_count": 11,
   "metadata": {
    "ExecuteTime": {
     "end_time": "2022-06-14T21:03:20.267801Z",
     "start_time": "2022-06-14T21:03:20.246114Z"
    }
   },
   "outputs": [
    {
     "data": {
      "text/plain": [
       "<artifact: FeatureData[Taxonomy] uuid: 77490e83-8c5f-44d2-9360-5fcbe79fe7d5>"
      ]
     },
     "execution_count": 11,
     "metadata": {},
     "output_type": "execute_result"
    }
   ],
   "source": [
    "taxon_path = taxon_file\n",
    "table_tax = Artifact.load(taxon_path)\n",
    "table_tax"
   ]
  },
  {
   "cell_type": "markdown",
   "metadata": {},
   "source": [
    "We are generating a visualization of the new Taxonomy table with all inferred taxonomies of all features."
   ]
  },
  {
   "cell_type": "code",
   "execution_count": 12,
   "metadata": {
    "ExecuteTime": {
     "end_time": "2022-06-14T21:03:20.272627Z",
     "start_time": "2022-06-14T21:03:20.270012Z"
    }
   },
   "outputs": [],
   "source": [
    "# metadata.visualizers.tabulate(table_tax.view(Metadata)).visualization"
   ]
  },
  {
   "cell_type": "markdown",
   "metadata": {},
   "source": [
    "We're transforming the artifact `FeatureTable[Taxonomy]` to a Pandas `DataFrame` object to further processing using Python."
   ]
  },
  {
   "cell_type": "code",
   "execution_count": 13,
   "metadata": {
    "ExecuteTime": {
     "end_time": "2022-06-14T21:03:20.308318Z",
     "start_time": "2022-06-14T21:03:20.274578Z"
    }
   },
   "outputs": [],
   "source": [
    "table_tax_df = table_tax.view(Metadata).to_dataframe()"
   ]
  },
  {
   "cell_type": "markdown",
   "metadata": {},
   "source": [
    "### Get samples IDs by menopause class"
   ]
  },
  {
   "cell_type": "code",
   "execution_count": 14,
   "metadata": {
    "ExecuteTime": {
     "end_time": "2022-06-14T21:03:20.314089Z",
     "start_time": "2022-06-14T21:03:20.309847Z"
    }
   },
   "outputs": [],
   "source": [
    "samples_by_class = {k: samples_df[samples_df['class_meno']==str(k)].index.to_list() \n",
    "     for k in range(0,3)}"
   ]
  },
  {
   "cell_type": "markdown",
   "metadata": {},
   "source": [
    "### Transforming the taxonomy Dataframe by expanding taxonomic columns\n",
    "\n",
    "The Taxonomy column contains values as a string with all the inferred taxonomy levels. So, we transform these values by splitting the string and separating each taxonomy level into a new column.\n",
    "\n",
    "We are using the following taxonomic level names: `Reino`, `Filo`, `Classe`, `Ordem`, `Família`, `Gênero`, `Espécie`."
   ]
  },
  {
   "cell_type": "code",
   "execution_count": 15,
   "metadata": {
    "ExecuteTime": {
     "end_time": "2022-06-14T21:03:20.340635Z",
     "start_time": "2022-06-14T21:03:20.316210Z"
    }
   },
   "outputs": [],
   "source": [
    "tax_levels = ['Reino', 'Filo', 'Classe', 'Ordem', 'Família', 'Gênero', 'Espécie']\n",
    "tax_levels = ['Kingdom', 'Phylum', 'Class', 'Order', 'Family', 'Genus', 'Species']\n",
    "table_tax_df[tax_levels] = table_tax_df['Taxon'].str.split(';', expand=True)"
   ]
  },
  {
   "cell_type": "markdown",
   "metadata": {},
   "source": [
    "---"
   ]
  },
  {
   "cell_type": "markdown",
   "metadata": {},
   "source": [
    "# Data Analisys"
   ]
  },
  {
   "cell_type": "markdown",
   "metadata": {},
   "source": [
    "## Taxononomy Table"
   ]
  },
  {
   "cell_type": "markdown",
   "metadata": {},
   "source": [
    "### Inferred taxonomy numbers\n",
    "\n",
    "We will count the numbers of inferred taxonomy for each taxonomic level.\n",
    "\n",
    "First, we generate a new Dataframe by merging the complete taxonomic table with features IDs of **swab vaginal** samples."
   ]
  },
  {
   "cell_type": "code",
   "execution_count": 16,
   "metadata": {
    "ExecuteTime": {
     "end_time": "2022-06-14T21:03:20.393320Z",
     "start_time": "2022-06-14T21:03:20.342273Z"
    }
   },
   "outputs": [
    {
     "data": {
      "text/html": [
       "<div>\n",
       "<style scoped>\n",
       "    .dataframe tbody tr th:only-of-type {\n",
       "        vertical-align: middle;\n",
       "    }\n",
       "\n",
       "    .dataframe tbody tr th {\n",
       "        vertical-align: top;\n",
       "    }\n",
       "\n",
       "    .dataframe thead th {\n",
       "        text-align: right;\n",
       "    }\n",
       "</style>\n",
       "<table border=\"1\" class=\"dataframe\">\n",
       "  <thead>\n",
       "    <tr style=\"text-align: right;\">\n",
       "      <th></th>\n",
       "      <th>I1-M05</th>\n",
       "      <th>I10-M91</th>\n",
       "      <th>I11-M44</th>\n",
       "      <th>I12-M45</th>\n",
       "      <th>I13-M46</th>\n",
       "      <th>I14-M47</th>\n",
       "      <th>I15-M49</th>\n",
       "      <th>I16-M52</th>\n",
       "      <th>I17-M55</th>\n",
       "      <th>I18-M07</th>\n",
       "      <th>...</th>\n",
       "      <th>I8-M39</th>\n",
       "      <th>Taxon</th>\n",
       "      <th>Confidence</th>\n",
       "      <th>Kingdom</th>\n",
       "      <th>Phylum</th>\n",
       "      <th>Class</th>\n",
       "      <th>Order</th>\n",
       "      <th>Family</th>\n",
       "      <th>Genus</th>\n",
       "      <th>Species</th>\n",
       "    </tr>\n",
       "  </thead>\n",
       "  <tbody>\n",
       "    <tr>\n",
       "      <th>074b2d2eeb19288d75bf8e64784db602</th>\n",
       "      <td>0.0</td>\n",
       "      <td>786.0</td>\n",
       "      <td>0.0</td>\n",
       "      <td>1118.0</td>\n",
       "      <td>0.0</td>\n",
       "      <td>0.0</td>\n",
       "      <td>0.0</td>\n",
       "      <td>0.0</td>\n",
       "      <td>330.0</td>\n",
       "      <td>0.0</td>\n",
       "      <td>...</td>\n",
       "      <td>1263.0</td>\n",
       "      <td>d__Bacteria; p__Firmicutes; c__Clostridia; o__...</td>\n",
       "      <td>0.9361387167487187</td>\n",
       "      <td>d__Bacteria</td>\n",
       "      <td>p__Firmicutes</td>\n",
       "      <td>c__Clostridia</td>\n",
       "      <td>o__Lachnospirales</td>\n",
       "      <td>f__Lachnospiraceae</td>\n",
       "      <td>g__Agathobacter</td>\n",
       "      <td>None</td>\n",
       "    </tr>\n",
       "    <tr>\n",
       "      <th>6c3b33991621b6c3e04992794a55a3d9</th>\n",
       "      <td>0.0</td>\n",
       "      <td>1634.0</td>\n",
       "      <td>1228.0</td>\n",
       "      <td>1436.0</td>\n",
       "      <td>0.0</td>\n",
       "      <td>0.0</td>\n",
       "      <td>0.0</td>\n",
       "      <td>0.0</td>\n",
       "      <td>0.0</td>\n",
       "      <td>0.0</td>\n",
       "      <td>...</td>\n",
       "      <td>773.0</td>\n",
       "      <td>d__Bacteria; p__Firmicutes; c__Clostridia; o__...</td>\n",
       "      <td>0.9069445037484893</td>\n",
       "      <td>d__Bacteria</td>\n",
       "      <td>p__Firmicutes</td>\n",
       "      <td>c__Clostridia</td>\n",
       "      <td>o__Lachnospirales</td>\n",
       "      <td>f__Lachnospiraceae</td>\n",
       "      <td>g__Agathobacter</td>\n",
       "      <td>None</td>\n",
       "    </tr>\n",
       "    <tr>\n",
       "      <th>8b7f2e8ca48676f3a47dfa784c8a9efe</th>\n",
       "      <td>0.0</td>\n",
       "      <td>540.0</td>\n",
       "      <td>0.0</td>\n",
       "      <td>872.0</td>\n",
       "      <td>0.0</td>\n",
       "      <td>0.0</td>\n",
       "      <td>0.0</td>\n",
       "      <td>0.0</td>\n",
       "      <td>0.0</td>\n",
       "      <td>0.0</td>\n",
       "      <td>...</td>\n",
       "      <td>652.0</td>\n",
       "      <td>d__Bacteria; p__Firmicutes; c__Clostridia; o__...</td>\n",
       "      <td>0.9999025048147963</td>\n",
       "      <td>d__Bacteria</td>\n",
       "      <td>p__Firmicutes</td>\n",
       "      <td>c__Clostridia</td>\n",
       "      <td>o__Oscillospirales</td>\n",
       "      <td>f__Ruminococcaceae</td>\n",
       "      <td>g__Faecalibacterium</td>\n",
       "      <td>None</td>\n",
       "    </tr>\n",
       "    <tr>\n",
       "      <th>7a1d4d3ec513655bbe964c4ab022e6fe</th>\n",
       "      <td>0.0</td>\n",
       "      <td>0.0</td>\n",
       "      <td>444.0</td>\n",
       "      <td>0.0</td>\n",
       "      <td>52.0</td>\n",
       "      <td>574.0</td>\n",
       "      <td>0.0</td>\n",
       "      <td>0.0</td>\n",
       "      <td>0.0</td>\n",
       "      <td>0.0</td>\n",
       "      <td>...</td>\n",
       "      <td>0.0</td>\n",
       "      <td>d__Bacteria; p__Bacteroidota; c__Bacteroidia; ...</td>\n",
       "      <td>0.7348376775850926</td>\n",
       "      <td>d__Bacteria</td>\n",
       "      <td>p__Bacteroidota</td>\n",
       "      <td>c__Bacteroidia</td>\n",
       "      <td>o__Bacteroidales</td>\n",
       "      <td>f__Bacteroidaceae</td>\n",
       "      <td>g__Bacteroides</td>\n",
       "      <td>s__Bacteroides_vulgatus</td>\n",
       "    </tr>\n",
       "    <tr>\n",
       "      <th>b53b25874d0529b37d36bfc78e32c894</th>\n",
       "      <td>0.0</td>\n",
       "      <td>1464.0</td>\n",
       "      <td>1300.0</td>\n",
       "      <td>1210.0</td>\n",
       "      <td>0.0</td>\n",
       "      <td>0.0</td>\n",
       "      <td>0.0</td>\n",
       "      <td>0.0</td>\n",
       "      <td>0.0</td>\n",
       "      <td>0.0</td>\n",
       "      <td>...</td>\n",
       "      <td>621.0</td>\n",
       "      <td>d__Bacteria; p__Firmicutes; c__Clostridia; o__...</td>\n",
       "      <td>0.9210205535092991</td>\n",
       "      <td>d__Bacteria</td>\n",
       "      <td>p__Firmicutes</td>\n",
       "      <td>c__Clostridia</td>\n",
       "      <td>o__Lachnospirales</td>\n",
       "      <td>f__Lachnospiraceae</td>\n",
       "      <td>g__Agathobacter</td>\n",
       "      <td>None</td>\n",
       "    </tr>\n",
       "    <tr>\n",
       "      <th>...</th>\n",
       "      <td>...</td>\n",
       "      <td>...</td>\n",
       "      <td>...</td>\n",
       "      <td>...</td>\n",
       "      <td>...</td>\n",
       "      <td>...</td>\n",
       "      <td>...</td>\n",
       "      <td>...</td>\n",
       "      <td>...</td>\n",
       "      <td>...</td>\n",
       "      <td>...</td>\n",
       "      <td>...</td>\n",
       "      <td>...</td>\n",
       "      <td>...</td>\n",
       "      <td>...</td>\n",
       "      <td>...</td>\n",
       "      <td>...</td>\n",
       "      <td>...</td>\n",
       "      <td>...</td>\n",
       "      <td>...</td>\n",
       "      <td>...</td>\n",
       "    </tr>\n",
       "    <tr>\n",
       "      <th>ee5a1924a299e186d7f904e5aa898bd1</th>\n",
       "      <td>0.0</td>\n",
       "      <td>0.0</td>\n",
       "      <td>0.0</td>\n",
       "      <td>0.0</td>\n",
       "      <td>0.0</td>\n",
       "      <td>0.0</td>\n",
       "      <td>0.0</td>\n",
       "      <td>0.0</td>\n",
       "      <td>0.0</td>\n",
       "      <td>0.0</td>\n",
       "      <td>...</td>\n",
       "      <td>0.0</td>\n",
       "      <td>d__Bacteria; p__Firmicutes; c__Negativicutes; ...</td>\n",
       "      <td>0.9990948331078099</td>\n",
       "      <td>d__Bacteria</td>\n",
       "      <td>p__Firmicutes</td>\n",
       "      <td>c__Negativicutes</td>\n",
       "      <td>o__Veillonellales-Selenomonadales</td>\n",
       "      <td>f__Veillonellaceae</td>\n",
       "      <td>g__Dialister</td>\n",
       "      <td>None</td>\n",
       "    </tr>\n",
       "    <tr>\n",
       "      <th>143582bcba9a90e4a585ed60042a6f0d</th>\n",
       "      <td>0.0</td>\n",
       "      <td>0.0</td>\n",
       "      <td>0.0</td>\n",
       "      <td>0.0</td>\n",
       "      <td>0.0</td>\n",
       "      <td>0.0</td>\n",
       "      <td>0.0</td>\n",
       "      <td>0.0</td>\n",
       "      <td>0.0</td>\n",
       "      <td>0.0</td>\n",
       "      <td>...</td>\n",
       "      <td>0.0</td>\n",
       "      <td>d__Bacteria; p__Firmicutes; c__Clostridia; o__...</td>\n",
       "      <td>0.8940617497317686</td>\n",
       "      <td>d__Bacteria</td>\n",
       "      <td>p__Firmicutes</td>\n",
       "      <td>c__Clostridia</td>\n",
       "      <td>o__Oscillospirales</td>\n",
       "      <td>f__Ruminococcaceae</td>\n",
       "      <td>g__Ruminococcus</td>\n",
       "      <td>None</td>\n",
       "    </tr>\n",
       "    <tr>\n",
       "      <th>c713157aa6936b23861463951dfb6a3b</th>\n",
       "      <td>0.0</td>\n",
       "      <td>0.0</td>\n",
       "      <td>0.0</td>\n",
       "      <td>0.0</td>\n",
       "      <td>0.0</td>\n",
       "      <td>0.0</td>\n",
       "      <td>0.0</td>\n",
       "      <td>0.0</td>\n",
       "      <td>0.0</td>\n",
       "      <td>0.0</td>\n",
       "      <td>...</td>\n",
       "      <td>0.0</td>\n",
       "      <td>d__Bacteria; p__Firmicutes; c__Bacilli; o__Ery...</td>\n",
       "      <td>0.9997641168791319</td>\n",
       "      <td>d__Bacteria</td>\n",
       "      <td>p__Firmicutes</td>\n",
       "      <td>c__Bacilli</td>\n",
       "      <td>o__Erysipelotrichales</td>\n",
       "      <td>f__Erysipelotrichaceae</td>\n",
       "      <td>g__Holdemanella</td>\n",
       "      <td>None</td>\n",
       "    </tr>\n",
       "    <tr>\n",
       "      <th>bd157fd42be3b6728d0080ee52836c14</th>\n",
       "      <td>0.0</td>\n",
       "      <td>0.0</td>\n",
       "      <td>0.0</td>\n",
       "      <td>0.0</td>\n",
       "      <td>0.0</td>\n",
       "      <td>0.0</td>\n",
       "      <td>0.0</td>\n",
       "      <td>0.0</td>\n",
       "      <td>0.0</td>\n",
       "      <td>0.0</td>\n",
       "      <td>...</td>\n",
       "      <td>0.0</td>\n",
       "      <td>d__Bacteria; p__Firmicutes; c__Clostridia; o__...</td>\n",
       "      <td>0.9995510110548353</td>\n",
       "      <td>d__Bacteria</td>\n",
       "      <td>p__Firmicutes</td>\n",
       "      <td>c__Clostridia</td>\n",
       "      <td>o__Lachnospirales</td>\n",
       "      <td>f__Lachnospiraceae</td>\n",
       "      <td>g__Lachnospiraceae_UCG-010</td>\n",
       "      <td>s__uncultured_organism</td>\n",
       "    </tr>\n",
       "    <tr>\n",
       "      <th>7be16af1fd4a487fd9e6380727a69555</th>\n",
       "      <td>0.0</td>\n",
       "      <td>0.0</td>\n",
       "      <td>0.0</td>\n",
       "      <td>0.0</td>\n",
       "      <td>0.0</td>\n",
       "      <td>0.0</td>\n",
       "      <td>0.0</td>\n",
       "      <td>0.0</td>\n",
       "      <td>0.0</td>\n",
       "      <td>0.0</td>\n",
       "      <td>...</td>\n",
       "      <td>0.0</td>\n",
       "      <td>d__Bacteria; p__Firmicutes; c__Negativicutes; ...</td>\n",
       "      <td>0.8996226089242056</td>\n",
       "      <td>d__Bacteria</td>\n",
       "      <td>p__Firmicutes</td>\n",
       "      <td>c__Negativicutes</td>\n",
       "      <td>o__Veillonellales-Selenomonadales</td>\n",
       "      <td>f__Veillonellaceae</td>\n",
       "      <td>g__Allisonella</td>\n",
       "      <td>None</td>\n",
       "    </tr>\n",
       "  </tbody>\n",
       "</table>\n",
       "<p>2918 rows × 75 columns</p>\n",
       "</div>"
      ],
      "text/plain": [
       "                                  I1-M05  I10-M91  I11-M44  I12-M45  I13-M46  \\\n",
       "074b2d2eeb19288d75bf8e64784db602     0.0    786.0      0.0   1118.0      0.0   \n",
       "6c3b33991621b6c3e04992794a55a3d9     0.0   1634.0   1228.0   1436.0      0.0   \n",
       "8b7f2e8ca48676f3a47dfa784c8a9efe     0.0    540.0      0.0    872.0      0.0   \n",
       "7a1d4d3ec513655bbe964c4ab022e6fe     0.0      0.0    444.0      0.0     52.0   \n",
       "b53b25874d0529b37d36bfc78e32c894     0.0   1464.0   1300.0   1210.0      0.0   \n",
       "...                                  ...      ...      ...      ...      ...   \n",
       "ee5a1924a299e186d7f904e5aa898bd1     0.0      0.0      0.0      0.0      0.0   \n",
       "143582bcba9a90e4a585ed60042a6f0d     0.0      0.0      0.0      0.0      0.0   \n",
       "c713157aa6936b23861463951dfb6a3b     0.0      0.0      0.0      0.0      0.0   \n",
       "bd157fd42be3b6728d0080ee52836c14     0.0      0.0      0.0      0.0      0.0   \n",
       "7be16af1fd4a487fd9e6380727a69555     0.0      0.0      0.0      0.0      0.0   \n",
       "\n",
       "                                  I14-M47  I15-M49  I16-M52  I17-M55  I18-M07  \\\n",
       "074b2d2eeb19288d75bf8e64784db602      0.0      0.0      0.0    330.0      0.0   \n",
       "6c3b33991621b6c3e04992794a55a3d9      0.0      0.0      0.0      0.0      0.0   \n",
       "8b7f2e8ca48676f3a47dfa784c8a9efe      0.0      0.0      0.0      0.0      0.0   \n",
       "7a1d4d3ec513655bbe964c4ab022e6fe    574.0      0.0      0.0      0.0      0.0   \n",
       "b53b25874d0529b37d36bfc78e32c894      0.0      0.0      0.0      0.0      0.0   \n",
       "...                                   ...      ...      ...      ...      ...   \n",
       "ee5a1924a299e186d7f904e5aa898bd1      0.0      0.0      0.0      0.0      0.0   \n",
       "143582bcba9a90e4a585ed60042a6f0d      0.0      0.0      0.0      0.0      0.0   \n",
       "c713157aa6936b23861463951dfb6a3b      0.0      0.0      0.0      0.0      0.0   \n",
       "bd157fd42be3b6728d0080ee52836c14      0.0      0.0      0.0      0.0      0.0   \n",
       "7be16af1fd4a487fd9e6380727a69555      0.0      0.0      0.0      0.0      0.0   \n",
       "\n",
       "                                  ...  I8-M39  \\\n",
       "074b2d2eeb19288d75bf8e64784db602  ...  1263.0   \n",
       "6c3b33991621b6c3e04992794a55a3d9  ...   773.0   \n",
       "8b7f2e8ca48676f3a47dfa784c8a9efe  ...   652.0   \n",
       "7a1d4d3ec513655bbe964c4ab022e6fe  ...     0.0   \n",
       "b53b25874d0529b37d36bfc78e32c894  ...   621.0   \n",
       "...                               ...     ...   \n",
       "ee5a1924a299e186d7f904e5aa898bd1  ...     0.0   \n",
       "143582bcba9a90e4a585ed60042a6f0d  ...     0.0   \n",
       "c713157aa6936b23861463951dfb6a3b  ...     0.0   \n",
       "bd157fd42be3b6728d0080ee52836c14  ...     0.0   \n",
       "7be16af1fd4a487fd9e6380727a69555  ...     0.0   \n",
       "\n",
       "                                                                              Taxon  \\\n",
       "074b2d2eeb19288d75bf8e64784db602  d__Bacteria; p__Firmicutes; c__Clostridia; o__...   \n",
       "6c3b33991621b6c3e04992794a55a3d9  d__Bacteria; p__Firmicutes; c__Clostridia; o__...   \n",
       "8b7f2e8ca48676f3a47dfa784c8a9efe  d__Bacteria; p__Firmicutes; c__Clostridia; o__...   \n",
       "7a1d4d3ec513655bbe964c4ab022e6fe  d__Bacteria; p__Bacteroidota; c__Bacteroidia; ...   \n",
       "b53b25874d0529b37d36bfc78e32c894  d__Bacteria; p__Firmicutes; c__Clostridia; o__...   \n",
       "...                                                                             ...   \n",
       "ee5a1924a299e186d7f904e5aa898bd1  d__Bacteria; p__Firmicutes; c__Negativicutes; ...   \n",
       "143582bcba9a90e4a585ed60042a6f0d  d__Bacteria; p__Firmicutes; c__Clostridia; o__...   \n",
       "c713157aa6936b23861463951dfb6a3b  d__Bacteria; p__Firmicutes; c__Bacilli; o__Ery...   \n",
       "bd157fd42be3b6728d0080ee52836c14  d__Bacteria; p__Firmicutes; c__Clostridia; o__...   \n",
       "7be16af1fd4a487fd9e6380727a69555  d__Bacteria; p__Firmicutes; c__Negativicutes; ...   \n",
       "\n",
       "                                          Confidence      Kingdom  \\\n",
       "074b2d2eeb19288d75bf8e64784db602  0.9361387167487187  d__Bacteria   \n",
       "6c3b33991621b6c3e04992794a55a3d9  0.9069445037484893  d__Bacteria   \n",
       "8b7f2e8ca48676f3a47dfa784c8a9efe  0.9999025048147963  d__Bacteria   \n",
       "7a1d4d3ec513655bbe964c4ab022e6fe  0.7348376775850926  d__Bacteria   \n",
       "b53b25874d0529b37d36bfc78e32c894  0.9210205535092991  d__Bacteria   \n",
       "...                                              ...          ...   \n",
       "ee5a1924a299e186d7f904e5aa898bd1  0.9990948331078099  d__Bacteria   \n",
       "143582bcba9a90e4a585ed60042a6f0d  0.8940617497317686  d__Bacteria   \n",
       "c713157aa6936b23861463951dfb6a3b  0.9997641168791319  d__Bacteria   \n",
       "bd157fd42be3b6728d0080ee52836c14  0.9995510110548353  d__Bacteria   \n",
       "7be16af1fd4a487fd9e6380727a69555  0.8996226089242056  d__Bacteria   \n",
       "\n",
       "                                            Phylum              Class  \\\n",
       "074b2d2eeb19288d75bf8e64784db602     p__Firmicutes      c__Clostridia   \n",
       "6c3b33991621b6c3e04992794a55a3d9     p__Firmicutes      c__Clostridia   \n",
       "8b7f2e8ca48676f3a47dfa784c8a9efe     p__Firmicutes      c__Clostridia   \n",
       "7a1d4d3ec513655bbe964c4ab022e6fe   p__Bacteroidota     c__Bacteroidia   \n",
       "b53b25874d0529b37d36bfc78e32c894     p__Firmicutes      c__Clostridia   \n",
       "...                                            ...                ...   \n",
       "ee5a1924a299e186d7f904e5aa898bd1     p__Firmicutes   c__Negativicutes   \n",
       "143582bcba9a90e4a585ed60042a6f0d     p__Firmicutes      c__Clostridia   \n",
       "c713157aa6936b23861463951dfb6a3b     p__Firmicutes         c__Bacilli   \n",
       "bd157fd42be3b6728d0080ee52836c14     p__Firmicutes      c__Clostridia   \n",
       "7be16af1fd4a487fd9e6380727a69555     p__Firmicutes   c__Negativicutes   \n",
       "\n",
       "                                                               Order  \\\n",
       "074b2d2eeb19288d75bf8e64784db602                   o__Lachnospirales   \n",
       "6c3b33991621b6c3e04992794a55a3d9                   o__Lachnospirales   \n",
       "8b7f2e8ca48676f3a47dfa784c8a9efe                  o__Oscillospirales   \n",
       "7a1d4d3ec513655bbe964c4ab022e6fe                    o__Bacteroidales   \n",
       "b53b25874d0529b37d36bfc78e32c894                   o__Lachnospirales   \n",
       "...                                                              ...   \n",
       "ee5a1924a299e186d7f904e5aa898bd1   o__Veillonellales-Selenomonadales   \n",
       "143582bcba9a90e4a585ed60042a6f0d                  o__Oscillospirales   \n",
       "c713157aa6936b23861463951dfb6a3b               o__Erysipelotrichales   \n",
       "bd157fd42be3b6728d0080ee52836c14                   o__Lachnospirales   \n",
       "7be16af1fd4a487fd9e6380727a69555   o__Veillonellales-Selenomonadales   \n",
       "\n",
       "                                                   Family  \\\n",
       "074b2d2eeb19288d75bf8e64784db602       f__Lachnospiraceae   \n",
       "6c3b33991621b6c3e04992794a55a3d9       f__Lachnospiraceae   \n",
       "8b7f2e8ca48676f3a47dfa784c8a9efe       f__Ruminococcaceae   \n",
       "7a1d4d3ec513655bbe964c4ab022e6fe        f__Bacteroidaceae   \n",
       "b53b25874d0529b37d36bfc78e32c894       f__Lachnospiraceae   \n",
       "...                                                   ...   \n",
       "ee5a1924a299e186d7f904e5aa898bd1       f__Veillonellaceae   \n",
       "143582bcba9a90e4a585ed60042a6f0d       f__Ruminococcaceae   \n",
       "c713157aa6936b23861463951dfb6a3b   f__Erysipelotrichaceae   \n",
       "bd157fd42be3b6728d0080ee52836c14       f__Lachnospiraceae   \n",
       "7be16af1fd4a487fd9e6380727a69555       f__Veillonellaceae   \n",
       "\n",
       "                                                        Genus  \\\n",
       "074b2d2eeb19288d75bf8e64784db602              g__Agathobacter   \n",
       "6c3b33991621b6c3e04992794a55a3d9              g__Agathobacter   \n",
       "8b7f2e8ca48676f3a47dfa784c8a9efe          g__Faecalibacterium   \n",
       "7a1d4d3ec513655bbe964c4ab022e6fe               g__Bacteroides   \n",
       "b53b25874d0529b37d36bfc78e32c894              g__Agathobacter   \n",
       "...                                                       ...   \n",
       "ee5a1924a299e186d7f904e5aa898bd1                 g__Dialister   \n",
       "143582bcba9a90e4a585ed60042a6f0d              g__Ruminococcus   \n",
       "c713157aa6936b23861463951dfb6a3b              g__Holdemanella   \n",
       "bd157fd42be3b6728d0080ee52836c14   g__Lachnospiraceae_UCG-010   \n",
       "7be16af1fd4a487fd9e6380727a69555               g__Allisonella   \n",
       "\n",
       "                                                   Species  \n",
       "074b2d2eeb19288d75bf8e64784db602                      None  \n",
       "6c3b33991621b6c3e04992794a55a3d9                      None  \n",
       "8b7f2e8ca48676f3a47dfa784c8a9efe                      None  \n",
       "7a1d4d3ec513655bbe964c4ab022e6fe   s__Bacteroides_vulgatus  \n",
       "b53b25874d0529b37d36bfc78e32c894                      None  \n",
       "...                                                    ...  \n",
       "ee5a1924a299e186d7f904e5aa898bd1                      None  \n",
       "143582bcba9a90e4a585ed60042a6f0d                      None  \n",
       "c713157aa6936b23861463951dfb6a3b                      None  \n",
       "bd157fd42be3b6728d0080ee52836c14    s__uncultured_organism  \n",
       "7be16af1fd4a487fd9e6380727a69555                      None  \n",
       "\n",
       "[2918 rows x 75 columns]"
      ]
     },
     "execution_count": 16,
     "metadata": {},
     "output_type": "execute_result"
    }
   ],
   "source": [
    "table_cnt_tax_df = pd.merge(table_df, table_tax_df, left_index=True, right_index=True)\n",
    "table_cnt_tax_df"
   ]
  },
  {
   "cell_type": "markdown",
   "metadata": {},
   "source": [
    "Now, we show the number of inferred taxons by taxonomic level."
   ]
  },
  {
   "cell_type": "code",
   "execution_count": 17,
   "metadata": {
    "ExecuteTime": {
     "end_time": "2022-06-14T21:03:20.440337Z",
     "start_time": "2022-06-14T21:03:20.394878Z"
    }
   },
   "outputs": [
    {
     "data": {
      "text/html": [
       "<div>\n",
       "<style scoped>\n",
       "    .dataframe tbody tr th:only-of-type {\n",
       "        vertical-align: middle;\n",
       "    }\n",
       "\n",
       "    .dataframe tbody tr th {\n",
       "        vertical-align: top;\n",
       "    }\n",
       "\n",
       "    .dataframe thead th {\n",
       "        text-align: right;\n",
       "    }\n",
       "</style>\n",
       "<table border=\"1\" class=\"dataframe\">\n",
       "  <thead>\n",
       "    <tr style=\"text-align: right;\">\n",
       "      <th></th>\n",
       "      <th>I1-M05</th>\n",
       "      <th>I10-M91</th>\n",
       "      <th>I11-M44</th>\n",
       "      <th>I12-M45</th>\n",
       "      <th>I13-M46</th>\n",
       "      <th>I14-M47</th>\n",
       "      <th>I15-M49</th>\n",
       "      <th>I16-M52</th>\n",
       "      <th>I17-M55</th>\n",
       "      <th>I18-M07</th>\n",
       "      <th>...</th>\n",
       "      <th>I8-M39</th>\n",
       "      <th>Taxon</th>\n",
       "      <th>Confidence</th>\n",
       "      <th>Kingdom</th>\n",
       "      <th>Phylum</th>\n",
       "      <th>Class</th>\n",
       "      <th>Order</th>\n",
       "      <th>Family</th>\n",
       "      <th>Genus</th>\n",
       "      <th>Species</th>\n",
       "    </tr>\n",
       "  </thead>\n",
       "  <tbody>\n",
       "    <tr>\n",
       "      <th>074b2d2eeb19288d75bf8e64784db602</th>\n",
       "      <td>0.0</td>\n",
       "      <td>786.0</td>\n",
       "      <td>0.0</td>\n",
       "      <td>1118.0</td>\n",
       "      <td>0.0</td>\n",
       "      <td>0.0</td>\n",
       "      <td>0.0</td>\n",
       "      <td>0.0</td>\n",
       "      <td>330.0</td>\n",
       "      <td>0.0</td>\n",
       "      <td>...</td>\n",
       "      <td>1263.0</td>\n",
       "      <td>d__Bacteria; p__Firmicutes; c__Clostridia; o__...</td>\n",
       "      <td>0.9361387167487187</td>\n",
       "      <td>d__Bacteria</td>\n",
       "      <td>p__Firmicutes</td>\n",
       "      <td>c__Clostridia</td>\n",
       "      <td>o__Lachnospirales</td>\n",
       "      <td>f__Lachnospiraceae</td>\n",
       "      <td>g__Agathobacter</td>\n",
       "      <td>None</td>\n",
       "    </tr>\n",
       "    <tr>\n",
       "      <th>6c3b33991621b6c3e04992794a55a3d9</th>\n",
       "      <td>0.0</td>\n",
       "      <td>1634.0</td>\n",
       "      <td>1228.0</td>\n",
       "      <td>1436.0</td>\n",
       "      <td>0.0</td>\n",
       "      <td>0.0</td>\n",
       "      <td>0.0</td>\n",
       "      <td>0.0</td>\n",
       "      <td>0.0</td>\n",
       "      <td>0.0</td>\n",
       "      <td>...</td>\n",
       "      <td>773.0</td>\n",
       "      <td>d__Bacteria; p__Firmicutes; c__Clostridia; o__...</td>\n",
       "      <td>0.9069445037484893</td>\n",
       "      <td>d__Bacteria</td>\n",
       "      <td>p__Firmicutes</td>\n",
       "      <td>c__Clostridia</td>\n",
       "      <td>o__Lachnospirales</td>\n",
       "      <td>f__Lachnospiraceae</td>\n",
       "      <td>g__Agathobacter</td>\n",
       "      <td>None</td>\n",
       "    </tr>\n",
       "    <tr>\n",
       "      <th>8b7f2e8ca48676f3a47dfa784c8a9efe</th>\n",
       "      <td>0.0</td>\n",
       "      <td>540.0</td>\n",
       "      <td>0.0</td>\n",
       "      <td>872.0</td>\n",
       "      <td>0.0</td>\n",
       "      <td>0.0</td>\n",
       "      <td>0.0</td>\n",
       "      <td>0.0</td>\n",
       "      <td>0.0</td>\n",
       "      <td>0.0</td>\n",
       "      <td>...</td>\n",
       "      <td>652.0</td>\n",
       "      <td>d__Bacteria; p__Firmicutes; c__Clostridia; o__...</td>\n",
       "      <td>0.9999025048147963</td>\n",
       "      <td>d__Bacteria</td>\n",
       "      <td>p__Firmicutes</td>\n",
       "      <td>c__Clostridia</td>\n",
       "      <td>o__Oscillospirales</td>\n",
       "      <td>f__Ruminococcaceae</td>\n",
       "      <td>g__Faecalibacterium</td>\n",
       "      <td>None</td>\n",
       "    </tr>\n",
       "    <tr>\n",
       "      <th>7a1d4d3ec513655bbe964c4ab022e6fe</th>\n",
       "      <td>0.0</td>\n",
       "      <td>0.0</td>\n",
       "      <td>444.0</td>\n",
       "      <td>0.0</td>\n",
       "      <td>52.0</td>\n",
       "      <td>574.0</td>\n",
       "      <td>0.0</td>\n",
       "      <td>0.0</td>\n",
       "      <td>0.0</td>\n",
       "      <td>0.0</td>\n",
       "      <td>...</td>\n",
       "      <td>0.0</td>\n",
       "      <td>d__Bacteria; p__Bacteroidota; c__Bacteroidia; ...</td>\n",
       "      <td>0.7348376775850926</td>\n",
       "      <td>d__Bacteria</td>\n",
       "      <td>p__Bacteroidota</td>\n",
       "      <td>c__Bacteroidia</td>\n",
       "      <td>o__Bacteroidales</td>\n",
       "      <td>f__Bacteroidaceae</td>\n",
       "      <td>g__Bacteroides</td>\n",
       "      <td>s__Bacteroides_vulgatus</td>\n",
       "    </tr>\n",
       "    <tr>\n",
       "      <th>b53b25874d0529b37d36bfc78e32c894</th>\n",
       "      <td>0.0</td>\n",
       "      <td>1464.0</td>\n",
       "      <td>1300.0</td>\n",
       "      <td>1210.0</td>\n",
       "      <td>0.0</td>\n",
       "      <td>0.0</td>\n",
       "      <td>0.0</td>\n",
       "      <td>0.0</td>\n",
       "      <td>0.0</td>\n",
       "      <td>0.0</td>\n",
       "      <td>...</td>\n",
       "      <td>621.0</td>\n",
       "      <td>d__Bacteria; p__Firmicutes; c__Clostridia; o__...</td>\n",
       "      <td>0.9210205535092991</td>\n",
       "      <td>d__Bacteria</td>\n",
       "      <td>p__Firmicutes</td>\n",
       "      <td>c__Clostridia</td>\n",
       "      <td>o__Lachnospirales</td>\n",
       "      <td>f__Lachnospiraceae</td>\n",
       "      <td>g__Agathobacter</td>\n",
       "      <td>None</td>\n",
       "    </tr>\n",
       "    <tr>\n",
       "      <th>...</th>\n",
       "      <td>...</td>\n",
       "      <td>...</td>\n",
       "      <td>...</td>\n",
       "      <td>...</td>\n",
       "      <td>...</td>\n",
       "      <td>...</td>\n",
       "      <td>...</td>\n",
       "      <td>...</td>\n",
       "      <td>...</td>\n",
       "      <td>...</td>\n",
       "      <td>...</td>\n",
       "      <td>...</td>\n",
       "      <td>...</td>\n",
       "      <td>...</td>\n",
       "      <td>...</td>\n",
       "      <td>...</td>\n",
       "      <td>...</td>\n",
       "      <td>...</td>\n",
       "      <td>...</td>\n",
       "      <td>...</td>\n",
       "      <td>...</td>\n",
       "    </tr>\n",
       "    <tr>\n",
       "      <th>2768bae087d0fb10cbf8a486a444b931</th>\n",
       "      <td>0.0</td>\n",
       "      <td>0.0</td>\n",
       "      <td>0.0</td>\n",
       "      <td>0.0</td>\n",
       "      <td>0.0</td>\n",
       "      <td>0.0</td>\n",
       "      <td>0.0</td>\n",
       "      <td>0.0</td>\n",
       "      <td>0.0</td>\n",
       "      <td>0.0</td>\n",
       "      <td>...</td>\n",
       "      <td>0.0</td>\n",
       "      <td>d__Bacteria; p__Bacteroidota; c__Bacteroidia; ...</td>\n",
       "      <td>0.8105951408678893</td>\n",
       "      <td>d__Bacteria</td>\n",
       "      <td>p__Bacteroidota</td>\n",
       "      <td>c__Bacteroidia</td>\n",
       "      <td>o__Bacteroidales</td>\n",
       "      <td>f__Prevotellaceae</td>\n",
       "      <td>g__Prevotella</td>\n",
       "      <td>s__uncultured_bacterium</td>\n",
       "    </tr>\n",
       "    <tr>\n",
       "      <th>f2ee0f6b708acf2284739b07bfb8a910</th>\n",
       "      <td>0.0</td>\n",
       "      <td>1.0</td>\n",
       "      <td>0.0</td>\n",
       "      <td>0.0</td>\n",
       "      <td>0.0</td>\n",
       "      <td>0.0</td>\n",
       "      <td>0.0</td>\n",
       "      <td>0.0</td>\n",
       "      <td>0.0</td>\n",
       "      <td>0.0</td>\n",
       "      <td>...</td>\n",
       "      <td>0.0</td>\n",
       "      <td>d__Bacteria; p__Firmicutes; c__Clostridia; o__...</td>\n",
       "      <td>0.9999342140386148</td>\n",
       "      <td>d__Bacteria</td>\n",
       "      <td>p__Firmicutes</td>\n",
       "      <td>c__Clostridia</td>\n",
       "      <td>o__Oscillospirales</td>\n",
       "      <td>f__Ruminococcaceae</td>\n",
       "      <td>g__Incertae_Sedis</td>\n",
       "      <td>None</td>\n",
       "    </tr>\n",
       "    <tr>\n",
       "      <th>440b18f112d726951157996929988d38</th>\n",
       "      <td>0.0</td>\n",
       "      <td>1.0</td>\n",
       "      <td>0.0</td>\n",
       "      <td>0.0</td>\n",
       "      <td>0.0</td>\n",
       "      <td>0.0</td>\n",
       "      <td>0.0</td>\n",
       "      <td>0.0</td>\n",
       "      <td>0.0</td>\n",
       "      <td>0.0</td>\n",
       "      <td>...</td>\n",
       "      <td>0.0</td>\n",
       "      <td>d__Bacteria; p__Firmicutes; c__Clostridia; o__...</td>\n",
       "      <td>0.9993214202378717</td>\n",
       "      <td>d__Bacteria</td>\n",
       "      <td>p__Firmicutes</td>\n",
       "      <td>c__Clostridia</td>\n",
       "      <td>o__Oscillospirales</td>\n",
       "      <td>f__Ruminococcaceae</td>\n",
       "      <td>g__Subdoligranulum</td>\n",
       "      <td>None</td>\n",
       "    </tr>\n",
       "    <tr>\n",
       "      <th>fa52840a8948f2b92eb37f273c919b00</th>\n",
       "      <td>0.0</td>\n",
       "      <td>1.0</td>\n",
       "      <td>0.0</td>\n",
       "      <td>0.0</td>\n",
       "      <td>0.0</td>\n",
       "      <td>0.0</td>\n",
       "      <td>0.0</td>\n",
       "      <td>0.0</td>\n",
       "      <td>0.0</td>\n",
       "      <td>0.0</td>\n",
       "      <td>...</td>\n",
       "      <td>0.0</td>\n",
       "      <td>d__Bacteria; p__Bacteroidota; c__Bacteroidia; ...</td>\n",
       "      <td>0.9998913455939266</td>\n",
       "      <td>d__Bacteria</td>\n",
       "      <td>p__Bacteroidota</td>\n",
       "      <td>c__Bacteroidia</td>\n",
       "      <td>o__Bacteroidales</td>\n",
       "      <td>f__Bacteroidaceae</td>\n",
       "      <td>g__Bacteroides</td>\n",
       "      <td>None</td>\n",
       "    </tr>\n",
       "    <tr>\n",
       "      <th>890138d5a18e44b8337f1c60308d82a8</th>\n",
       "      <td>0.0</td>\n",
       "      <td>1.0</td>\n",
       "      <td>0.0</td>\n",
       "      <td>0.0</td>\n",
       "      <td>0.0</td>\n",
       "      <td>0.0</td>\n",
       "      <td>0.0</td>\n",
       "      <td>0.0</td>\n",
       "      <td>0.0</td>\n",
       "      <td>0.0</td>\n",
       "      <td>...</td>\n",
       "      <td>0.0</td>\n",
       "      <td>d__Bacteria; p__Firmicutes; c__Bacilli; o__Lac...</td>\n",
       "      <td>0.9999628992977111</td>\n",
       "      <td>d__Bacteria</td>\n",
       "      <td>p__Firmicutes</td>\n",
       "      <td>c__Bacilli</td>\n",
       "      <td>o__Lactobacillales</td>\n",
       "      <td>f__Streptococcaceae</td>\n",
       "      <td>g__Lactococcus</td>\n",
       "      <td>None</td>\n",
       "    </tr>\n",
       "  </tbody>\n",
       "</table>\n",
       "<p>725 rows × 75 columns</p>\n",
       "</div>"
      ],
      "text/plain": [
       "                                  I1-M05  I10-M91  I11-M44  I12-M45  I13-M46  \\\n",
       "074b2d2eeb19288d75bf8e64784db602     0.0    786.0      0.0   1118.0      0.0   \n",
       "6c3b33991621b6c3e04992794a55a3d9     0.0   1634.0   1228.0   1436.0      0.0   \n",
       "8b7f2e8ca48676f3a47dfa784c8a9efe     0.0    540.0      0.0    872.0      0.0   \n",
       "7a1d4d3ec513655bbe964c4ab022e6fe     0.0      0.0    444.0      0.0     52.0   \n",
       "b53b25874d0529b37d36bfc78e32c894     0.0   1464.0   1300.0   1210.0      0.0   \n",
       "...                                  ...      ...      ...      ...      ...   \n",
       "2768bae087d0fb10cbf8a486a444b931     0.0      0.0      0.0      0.0      0.0   \n",
       "f2ee0f6b708acf2284739b07bfb8a910     0.0      1.0      0.0      0.0      0.0   \n",
       "440b18f112d726951157996929988d38     0.0      1.0      0.0      0.0      0.0   \n",
       "fa52840a8948f2b92eb37f273c919b00     0.0      1.0      0.0      0.0      0.0   \n",
       "890138d5a18e44b8337f1c60308d82a8     0.0      1.0      0.0      0.0      0.0   \n",
       "\n",
       "                                  I14-M47  I15-M49  I16-M52  I17-M55  I18-M07  \\\n",
       "074b2d2eeb19288d75bf8e64784db602      0.0      0.0      0.0    330.0      0.0   \n",
       "6c3b33991621b6c3e04992794a55a3d9      0.0      0.0      0.0      0.0      0.0   \n",
       "8b7f2e8ca48676f3a47dfa784c8a9efe      0.0      0.0      0.0      0.0      0.0   \n",
       "7a1d4d3ec513655bbe964c4ab022e6fe    574.0      0.0      0.0      0.0      0.0   \n",
       "b53b25874d0529b37d36bfc78e32c894      0.0      0.0      0.0      0.0      0.0   \n",
       "...                                   ...      ...      ...      ...      ...   \n",
       "2768bae087d0fb10cbf8a486a444b931      0.0      0.0      0.0      0.0      0.0   \n",
       "f2ee0f6b708acf2284739b07bfb8a910      0.0      0.0      0.0      0.0      0.0   \n",
       "440b18f112d726951157996929988d38      0.0      0.0      0.0      0.0      0.0   \n",
       "fa52840a8948f2b92eb37f273c919b00      0.0      0.0      0.0      0.0      0.0   \n",
       "890138d5a18e44b8337f1c60308d82a8      0.0      0.0      0.0      0.0      0.0   \n",
       "\n",
       "                                  ...  I8-M39  \\\n",
       "074b2d2eeb19288d75bf8e64784db602  ...  1263.0   \n",
       "6c3b33991621b6c3e04992794a55a3d9  ...   773.0   \n",
       "8b7f2e8ca48676f3a47dfa784c8a9efe  ...   652.0   \n",
       "7a1d4d3ec513655bbe964c4ab022e6fe  ...     0.0   \n",
       "b53b25874d0529b37d36bfc78e32c894  ...   621.0   \n",
       "...                               ...     ...   \n",
       "2768bae087d0fb10cbf8a486a444b931  ...     0.0   \n",
       "f2ee0f6b708acf2284739b07bfb8a910  ...     0.0   \n",
       "440b18f112d726951157996929988d38  ...     0.0   \n",
       "fa52840a8948f2b92eb37f273c919b00  ...     0.0   \n",
       "890138d5a18e44b8337f1c60308d82a8  ...     0.0   \n",
       "\n",
       "                                                                              Taxon  \\\n",
       "074b2d2eeb19288d75bf8e64784db602  d__Bacteria; p__Firmicutes; c__Clostridia; o__...   \n",
       "6c3b33991621b6c3e04992794a55a3d9  d__Bacteria; p__Firmicutes; c__Clostridia; o__...   \n",
       "8b7f2e8ca48676f3a47dfa784c8a9efe  d__Bacteria; p__Firmicutes; c__Clostridia; o__...   \n",
       "7a1d4d3ec513655bbe964c4ab022e6fe  d__Bacteria; p__Bacteroidota; c__Bacteroidia; ...   \n",
       "b53b25874d0529b37d36bfc78e32c894  d__Bacteria; p__Firmicutes; c__Clostridia; o__...   \n",
       "...                                                                             ...   \n",
       "2768bae087d0fb10cbf8a486a444b931  d__Bacteria; p__Bacteroidota; c__Bacteroidia; ...   \n",
       "f2ee0f6b708acf2284739b07bfb8a910  d__Bacteria; p__Firmicutes; c__Clostridia; o__...   \n",
       "440b18f112d726951157996929988d38  d__Bacteria; p__Firmicutes; c__Clostridia; o__...   \n",
       "fa52840a8948f2b92eb37f273c919b00  d__Bacteria; p__Bacteroidota; c__Bacteroidia; ...   \n",
       "890138d5a18e44b8337f1c60308d82a8  d__Bacteria; p__Firmicutes; c__Bacilli; o__Lac...   \n",
       "\n",
       "                                          Confidence      Kingdom  \\\n",
       "074b2d2eeb19288d75bf8e64784db602  0.9361387167487187  d__Bacteria   \n",
       "6c3b33991621b6c3e04992794a55a3d9  0.9069445037484893  d__Bacteria   \n",
       "8b7f2e8ca48676f3a47dfa784c8a9efe  0.9999025048147963  d__Bacteria   \n",
       "7a1d4d3ec513655bbe964c4ab022e6fe  0.7348376775850926  d__Bacteria   \n",
       "b53b25874d0529b37d36bfc78e32c894  0.9210205535092991  d__Bacteria   \n",
       "...                                              ...          ...   \n",
       "2768bae087d0fb10cbf8a486a444b931  0.8105951408678893  d__Bacteria   \n",
       "f2ee0f6b708acf2284739b07bfb8a910  0.9999342140386148  d__Bacteria   \n",
       "440b18f112d726951157996929988d38  0.9993214202378717  d__Bacteria   \n",
       "fa52840a8948f2b92eb37f273c919b00  0.9998913455939266  d__Bacteria   \n",
       "890138d5a18e44b8337f1c60308d82a8  0.9999628992977111  d__Bacteria   \n",
       "\n",
       "                                            Phylum            Class  \\\n",
       "074b2d2eeb19288d75bf8e64784db602     p__Firmicutes    c__Clostridia   \n",
       "6c3b33991621b6c3e04992794a55a3d9     p__Firmicutes    c__Clostridia   \n",
       "8b7f2e8ca48676f3a47dfa784c8a9efe     p__Firmicutes    c__Clostridia   \n",
       "7a1d4d3ec513655bbe964c4ab022e6fe   p__Bacteroidota   c__Bacteroidia   \n",
       "b53b25874d0529b37d36bfc78e32c894     p__Firmicutes    c__Clostridia   \n",
       "...                                            ...              ...   \n",
       "2768bae087d0fb10cbf8a486a444b931   p__Bacteroidota   c__Bacteroidia   \n",
       "f2ee0f6b708acf2284739b07bfb8a910     p__Firmicutes    c__Clostridia   \n",
       "440b18f112d726951157996929988d38     p__Firmicutes    c__Clostridia   \n",
       "fa52840a8948f2b92eb37f273c919b00   p__Bacteroidota   c__Bacteroidia   \n",
       "890138d5a18e44b8337f1c60308d82a8     p__Firmicutes       c__Bacilli   \n",
       "\n",
       "                                                Order                Family  \\\n",
       "074b2d2eeb19288d75bf8e64784db602    o__Lachnospirales    f__Lachnospiraceae   \n",
       "6c3b33991621b6c3e04992794a55a3d9    o__Lachnospirales    f__Lachnospiraceae   \n",
       "8b7f2e8ca48676f3a47dfa784c8a9efe   o__Oscillospirales    f__Ruminococcaceae   \n",
       "7a1d4d3ec513655bbe964c4ab022e6fe     o__Bacteroidales     f__Bacteroidaceae   \n",
       "b53b25874d0529b37d36bfc78e32c894    o__Lachnospirales    f__Lachnospiraceae   \n",
       "...                                               ...                   ...   \n",
       "2768bae087d0fb10cbf8a486a444b931     o__Bacteroidales     f__Prevotellaceae   \n",
       "f2ee0f6b708acf2284739b07bfb8a910   o__Oscillospirales    f__Ruminococcaceae   \n",
       "440b18f112d726951157996929988d38   o__Oscillospirales    f__Ruminococcaceae   \n",
       "fa52840a8948f2b92eb37f273c919b00     o__Bacteroidales     f__Bacteroidaceae   \n",
       "890138d5a18e44b8337f1c60308d82a8   o__Lactobacillales   f__Streptococcaceae   \n",
       "\n",
       "                                                 Genus  \\\n",
       "074b2d2eeb19288d75bf8e64784db602       g__Agathobacter   \n",
       "6c3b33991621b6c3e04992794a55a3d9       g__Agathobacter   \n",
       "8b7f2e8ca48676f3a47dfa784c8a9efe   g__Faecalibacterium   \n",
       "7a1d4d3ec513655bbe964c4ab022e6fe        g__Bacteroides   \n",
       "b53b25874d0529b37d36bfc78e32c894       g__Agathobacter   \n",
       "...                                                ...   \n",
       "2768bae087d0fb10cbf8a486a444b931         g__Prevotella   \n",
       "f2ee0f6b708acf2284739b07bfb8a910     g__Incertae_Sedis   \n",
       "440b18f112d726951157996929988d38    g__Subdoligranulum   \n",
       "fa52840a8948f2b92eb37f273c919b00        g__Bacteroides   \n",
       "890138d5a18e44b8337f1c60308d82a8        g__Lactococcus   \n",
       "\n",
       "                                                   Species  \n",
       "074b2d2eeb19288d75bf8e64784db602                      None  \n",
       "6c3b33991621b6c3e04992794a55a3d9                      None  \n",
       "8b7f2e8ca48676f3a47dfa784c8a9efe                      None  \n",
       "7a1d4d3ec513655bbe964c4ab022e6fe   s__Bacteroides_vulgatus  \n",
       "b53b25874d0529b37d36bfc78e32c894                      None  \n",
       "...                                                    ...  \n",
       "2768bae087d0fb10cbf8a486a444b931   s__uncultured_bacterium  \n",
       "f2ee0f6b708acf2284739b07bfb8a910                      None  \n",
       "440b18f112d726951157996929988d38                      None  \n",
       "fa52840a8948f2b92eb37f273c919b00                      None  \n",
       "890138d5a18e44b8337f1c60308d82a8                      None  \n",
       "\n",
       "[725 rows x 75 columns]"
      ]
     },
     "execution_count": 17,
     "metadata": {},
     "output_type": "execute_result"
    }
   ],
   "source": [
    "tmp = table_cnt_tax_df[samples_by_class[0]].sum(axis=1)\n",
    "table_cnt_tax_df[tmp!=0]"
   ]
  },
  {
   "cell_type": "code",
   "execution_count": 18,
   "metadata": {
    "ExecuteTime": {
     "end_time": "2022-06-14T21:03:20.453853Z",
     "start_time": "2022-06-14T21:03:20.441976Z"
    }
   },
   "outputs": [
    {
     "data": {
      "text/html": [
       "<div>\n",
       "<style scoped>\n",
       "    .dataframe tbody tr th:only-of-type {\n",
       "        vertical-align: middle;\n",
       "    }\n",
       "\n",
       "    .dataframe tbody tr th {\n",
       "        vertical-align: top;\n",
       "    }\n",
       "\n",
       "    .dataframe thead th {\n",
       "        text-align: right;\n",
       "    }\n",
       "</style>\n",
       "<table border=\"1\" class=\"dataframe\">\n",
       "  <thead>\n",
       "    <tr style=\"text-align: right;\">\n",
       "      <th></th>\n",
       "      <th>Kingdom</th>\n",
       "      <th>Phylum</th>\n",
       "      <th>Class</th>\n",
       "      <th>Order</th>\n",
       "      <th>Family</th>\n",
       "      <th>Genus</th>\n",
       "      <th>Species</th>\n",
       "    </tr>\n",
       "  </thead>\n",
       "  <tbody>\n",
       "    <tr>\n",
       "      <th>#Taxons</th>\n",
       "      <td>3</td>\n",
       "      <td>10</td>\n",
       "      <td>14</td>\n",
       "      <td>30</td>\n",
       "      <td>53</td>\n",
       "      <td>137</td>\n",
       "      <td>96</td>\n",
       "    </tr>\n",
       "  </tbody>\n",
       "</table>\n",
       "</div>"
      ],
      "text/plain": [
       "         Kingdom  Phylum  Class  Order  Family  Genus  Species\n",
       "#Taxons        3      10     14     30      53    137       96"
      ]
     },
     "execution_count": 18,
     "metadata": {},
     "output_type": "execute_result"
    }
   ],
   "source": [
    "unique_taxons = {l: list(filter(None, table_cnt_tax_df[l].unique())) for l in tax_levels}\n",
    "unique_taxons_counts_df = pd.DataFrame({x: [len(y)] for x, y in unique_taxons.items()}, index=['#Taxons'])\n",
    "unique_taxons_counts_df\n",
    "# print('--- Taxonomies found in the fezes ASV table ---')\n",
    "# for k, v in unique_taxons.items():\n",
    "#     print(f'{k}: {len(v)}')"
   ]
  },
  {
   "cell_type": "code",
   "execution_count": 19,
   "metadata": {
    "ExecuteTime": {
     "end_time": "2022-06-14T21:03:20.708979Z",
     "start_time": "2022-06-14T21:03:20.455724Z"
    }
   },
   "outputs": [
    {
     "data": {
      "image/png": "[encoded data removed]",
      "text/plain": [
       "<Figure size 432x288 with 1 Axes>"
      ]
     },
     "metadata": {},
     "output_type": "display_data"
    }
   ],
   "source": [
    "df = pd.DataFrame({'levels': tax_levels,\n",
    "                  'counts': [len(x) for x in unique_taxons.values()]})\n",
    "sns.set_style(\"whitegrid\")\n",
    "dbplot = sns.barplot(x='counts', y='levels', data=df, linewidth=1.5, \n",
    "                     facecolor=(.9, .9, .9, 1), errcolor=\".2\", edgecolor=\".2\")\n",
    "dbplot.set(xlabel=\"# of unique taxonomies identified\", ylabel=\"Taxonomic level\", title = \"Identified taxonomies by level\")\n",
    "plt.xticks(np.arange(0, 170, 10))\n",
    "plt.xticks(rotation=45)\n",
    "plt.show()"
   ]
  },
  {
   "cell_type": "markdown",
   "metadata": {},
   "source": [
    "### Inferred taxonomy confidence\n",
    "\n",
    "Now, we describe a summary analysis of the inferred confidence statistics. We show the total number of inferred taxonomies, the mean confidence and the standard deviation, the maximum and the minimum confidence score found, and the quartiles."
   ]
  },
  {
   "cell_type": "code",
   "execution_count": 20,
   "metadata": {
    "ExecuteTime": {
     "end_time": "2022-06-14T21:03:20.718507Z",
     "start_time": "2022-06-14T21:03:20.710574Z"
    }
   },
   "outputs": [
    {
     "data": {
      "text/plain": [
       "count    2918.000000\n",
       "mean        0.942491\n",
       "std         0.083970\n",
       "min         0.413501\n",
       "25%         0.909087\n",
       "50%         0.989604\n",
       "75%         0.999950\n",
       "max         1.000000\n",
       "Name: Confidence, dtype: float64"
      ]
     },
     "execution_count": 20,
     "metadata": {},
     "output_type": "execute_result"
    }
   ],
   "source": [
    "table_tax_df['Confidence'].astype('float32').describe()"
   ]
  },
  {
   "cell_type": "markdown",
   "metadata": {},
   "source": [
    "We present a list with all unique inferred taxonomic names at each taxonomic level. The names are ordered in alphabetical order. "
   ]
  },
  {
   "cell_type": "code",
   "execution_count": 21,
   "metadata": {
    "ExecuteTime": {
     "end_time": "2022-06-14T21:03:20.732036Z",
     "start_time": "2022-06-14T21:03:20.719810Z"
    }
   },
   "outputs": [
    {
     "name": "stdout",
     "output_type": "stream",
     "text": [
      "--- Taxonomies found in each taxonomic level ---\n",
      "\n",
      ">>> KINGDOM:\n",
      "['Archaea', 'Bacteria', 'ssigned']\n",
      "\n",
      ">>> PHYLUM:\n",
      "['Actinobacteriota', 'Bacteroidota', 'Cyanobacteria', 'Desulfobacterota', 'Elusimicrobiota', 'Euryarchaeota', 'Firmicutes', 'Fusobacteriota', 'Proteobacteria', 'Verrucomicrobiota']\n",
      "\n",
      ">>> CLASS:\n",
      "['Actinobacteria', 'Alphaproteobacteria', 'Bacilli', 'Bacteroidia', 'Clostridia', 'Coriobacteriia', 'Desulfovibrionia', 'Elusimicrobia', 'Fusobacteriia', 'Gammaproteobacteria', 'Methanobacteria', 'Negativicutes', 'Vampirivibrionia', 'Verrucomicrobiae']\n",
      "\n",
      ">>> ORDER:\n",
      "['Acidaminococcales', 'Aeromonadales', 'Bacteroidales', 'Bifidobacteriales', 'Burkholderiales', 'Christensenellales', 'Clostridia_UCG-014', 'Clostridia_vadinBB60_group', 'Clostridiales', 'Coriobacteriales', 'Desulfovibrionales', 'Elusimicrobiales', 'Enterobacterales', 'Erysipelotrichales', 'Fusobacteriales', 'Gastranaerophilales', 'Lachnospirales', 'Lactobacillales', 'Methanobacteriales', 'Monoglobales', 'Opitutales', 'Oscillospirales', 'Pasteurellales', 'Peptococcales', 'Peptostreptococcales-Tissierellales', 'Pseudomonadales', 'RF39', 'Rhodospirillales', 'Veillonellales-Selenomonadales', 'Verrucomicrobiales']\n",
      "\n",
      ">>> FAMILY:\n",
      "['Acidaminococcaceae', 'Akkermansiaceae', 'Anaerovoracaceae', 'Atopobiaceae', 'Bacteroidaceae', 'Barnesiellaceae', 'Bifidobacteriaceae', 'Butyricicoccaceae', 'Christensenellaceae', 'Clostridia_UCG-014', 'Clostridia_vadinBB60_group', 'Clostridiaceae', 'Coriobacteriaceae', 'Coriobacteriales_Incertae_Sedis', 'Desulfovibrionaceae', 'Eggerthellaceae', 'Elusimicrobiaceae', 'Enterobacteriaceae', 'Enterococcaceae', 'Erysipelatoclostridiaceae', 'Erysipelotrichaceae', 'Ethanoligenenaceae', 'Fusobacteriaceae', 'Gastranaerophilales', 'Lachnospiraceae', 'Lactobacillaceae', 'Leuconostocaceae', 'Marinifilaceae', 'Methanobacteriaceae', 'Monoglobaceae', 'Muribaculaceae', 'Oscillospiraceae', 'Oxalobacteraceae', 'Pasteurellaceae', 'Peptococcaceae', 'Peptostreptococcaceae', 'Peptostreptococcales-Tissierellales', 'Porphyromonadaceae', 'Prevotellaceae', 'Pseudomonadaceae', 'Puniceicoccaceae', 'RF39', 'Rikenellaceae', 'Ruminococcaceae', 'Selenomonadaceae', 'Streptococcaceae', 'Succinivibrionaceae', 'Sutterellaceae', 'Tannerellaceae', 'UCG-010', 'Veillonellaceae', '[Eubacterium]_coprostanoligenes_group', 'uncultured']\n",
      "\n",
      ">>> GENUS:\n",
      "['Acetanaerobacterium', 'Acidaminococcus', 'Adlercreutzia', 'Agathobacter', 'Akkermansia', 'Alistipes', 'Allisonella', 'Alloprevotella', 'Anaerostipes', 'Bacteroides', 'Barnesiella', 'Bifidobacterium', 'Bilophila', 'Blautia', 'Butyricicoccus', 'Butyricimonas', 'Butyrivibrio', 'CAG-352', 'CAG-56', 'CAG-873', 'Candidatus_Soleaferrea', 'Catenibacterium', 'Christensenellaceae_R-7_group', 'Clostridia_UCG-014', 'Clostridia_vadinBB60_group', 'Clostridium_sensu_stricto_1', 'Colidextribacter', 'Collinsella', 'Coprobacillus', 'Coprobacter', 'Coprococcus', 'DTU089', 'Desulfovibrio', 'Dialister', 'Dorea', 'Eisenbergiella', 'Elusimicrobium', 'Enterobacter', 'Enterococcus', 'Enterorhabdus', 'Erysipelotrichaceae_UCG-003', 'Erysipelotrichaceae_UCG-006', 'Escherichia-Shigella', 'Faecalibacterium', 'Faecalitalea', 'Family_XIII_AD3011_group', 'Family_XIII_UCG-001', 'Fenollaria', 'Flavonifractor', 'Fournierella', 'Fusicatenibacter', 'Fusobacterium', 'Gastranaerophilales', 'Haemophilus', 'Holdemanella', 'Holdemania', 'Howardella', 'Hungatella', 'Incertae_Sedis', 'Intestinimonas', 'Lachnoclostridium', 'Lachnospira', 'Lachnospiraceae_NC2004_group', 'Lachnospiraceae_ND3007_group', 'Lachnospiraceae_NK4A136_group', 'Lachnospiraceae_UCG-001', 'Lachnospiraceae_UCG-003', 'Lachnospiraceae_UCG-004', 'Lachnospiraceae_UCG-008', 'Lachnospiraceae_UCG-010', 'Lactobacillus', 'Lactococcus', 'Mailhella', 'Megamonas', 'Megasphaera', 'Methanobrevibacter', 'Mitsuokella', 'Mogibacterium', 'Monoglobus', 'Moryella', 'Muribaculaceae', 'NK4A214_group', 'Negativibacillus', 'Odoribacter', 'Olsenella', 'Oribacterium', 'Oscillibacter', 'Oscillospira', 'Oxalobacter', 'Parabacteroides', 'Paraprevotella', 'Parasutterella', 'Peptoclostridium', 'Peptococcus', 'Peptoniphilus', 'Phascolarctobacterium', 'Phocea', 'Porphyromonas', 'Prevotella', 'Prevotellaceae_NK3B31_group', 'Prevotellaceae_UCG-001', 'Prevotellaceae_UCG-003', 'Pseudomonas', 'RF39', 'Rikenellaceae_RC9_gut_group', 'Romboutsia', 'Roseburia', 'Ruminococcus', 'Slackia', 'Solobacterium', 'Streptococcus', 'Subdoligranulum', 'Succinivibrio', 'Sutterella', 'Tyzzerella', 'UBA1819', 'UCG-002', 'UCG-003', 'UCG-005', 'UCG-009', 'UCG-010', 'Veillonella', 'Weissella', '[Bacteroides]_pectinophilus_group', '[Eubacterium]_coprostanoligenes_group', '[Eubacterium]_eligens_group', '[Eubacterium]_hallii_group', '[Eubacterium]_nodatum_group', '[Eubacterium]_oxidoreducens_group', '[Eubacterium]_ruminantium_group', '[Eubacterium]_siraeum_group', '[Eubacterium]_ventriosum_group', '[Eubacterium]_xylanophilum_group', '[Ruminococcus]_gauvreauii_group', '[Ruminococcus]_gnavus_group', '[Ruminococcus]_torques_group', 'uncultured']\n",
      "\n",
      ">>> SPECIES:\n",
      "['Absiella_dolichum', 'Acidaminococcus_fermentans', 'Acidaminococcus_sp.', 'Acinetobacter_sp.', 'Alistipes_finegoldii', 'Alistipes_indistinctus', 'Alistipes_inops', 'Alistipes_obesi', 'Alistipes_shahii', 'Alistipes_sp.', 'Anaerotignum_lactatifermentans', 'Bacteroidaceae_bacterium', 'Bacteroides_barnesiae', 'Bacteroides_caccae', 'Bacteroides_clarus', 'Bacteroides_coprocola', 'Bacteroides_coprophilus', 'Bacteroides_eggerthii', 'Bacteroides_faecis', 'Bacteroides_finegoldii', 'Bacteroides_fragilis', 'Bacteroides_intestinalis', 'Bacteroides_kribbi', 'Bacteroides_massiliensis', 'Bacteroides_plebeius', 'Bacteroides_stercoris', 'Bacteroides_vulgatus', 'Butyricicoccus_sp.', 'Butyrivibrio_crossotus', 'Clostridiaceae_bacterium', 'Clostridiales_bacterium', 'Clostridium_sp.', 'Desulfovibrio_sp.', 'Dorea_formicigenerans', 'Eubacterium_coprostanoligenes', 'Faecalitalea_cylindroides', 'Fusobacterium_mortiferum', 'Intestinimonas_butyriciproducens', 'Lachnospiraceae_bacterium', 'Lactobacillus_equicursoris', 'Lactobacillus_mucosae', 'Lactobacillus_ruminis', 'Marseilla_massiliensis', 'Massiliprevotella_massiliensis', 'Megasphaera_elsdenii', 'Megasphaera_hexanoica', 'Megasphaera_micronuciformis', 'Megasphaera_stantonii', 'Odoribacter_splanchnicus', 'Parabacteroides_faecis', 'Parabacteroides_johnsonii', 'Parabacteroides_merdae', 'Parasutterella_secunda', 'Peptoniphilus_duerdenii', 'Porphyromonas_asaccharolytica', 'Prevotella_copri', 'Prevotella_sp.', 'Prevotella_stercorea', 'Prevotellaceae_bacterium', 'Ruminococcus_bicirculans', 'Ruminococcus_callidus', 'Ruminococcus_champanellensis', 'Ruminococcus_sp.', 'Slackia_isoflavoniconvertens', 'Streptococcus_agalactiae', 'Streptococcus_mutans', 'Streptococcus_salivarius', 'Sutterella_stercoricanis', 'Sutterella_wadsworthensis', 'Sutterellaceae_bacterium', '[Clostridium]_leptum', '[Eubacterium]_siraeum', 'bacterium', 'bacterium_New', 'bacterium_YE57', 'gut_metagenome', 'human_gut', 'metagenome', 'uncultured_Clostridia', 'uncultured_Desulfovibrionaceae', 'uncultured_Eubacterium', 'uncultured_Firmicutes', 'uncultured_Lachnospiraceae', 'uncultured_Methanobacteriales', 'uncultured_Porphyromonadaceae', 'uncultured_Prevotella', 'uncultured_Ruminococcaceae', 'uncultured_Ruminococcus', 'uncultured_Thermoanaerobacterales', 'uncultured_Wautersiella', 'uncultured_bacterium', 'uncultured_organism', 'uncultured_prokaryote', 'uncultured_rumen', 'uncultured_spirochete', 'unidentified']\n",
      "\n"
     ]
    }
   ],
   "source": [
    "print('--- Taxonomies found in each taxonomic level ---\\n')\n",
    "for k, v in unique_taxons.items():\n",
    "    print(f'>>> {k.upper()}:\\n{sorted([(x).strip()[3:] for x in v])}\\n')"
   ]
  },
  {
   "cell_type": "markdown",
   "metadata": {},
   "source": [
    "---"
   ]
  },
  {
   "cell_type": "markdown",
   "metadata": {},
   "source": [
    "## Analyzing Samples"
   ]
  },
  {
   "cell_type": "markdown",
   "metadata": {},
   "source": [
    "### Abundances"
   ]
  },
  {
   "cell_type": "markdown",
   "metadata": {},
   "source": [
    "Viewing the total number of samples"
   ]
  },
  {
   "cell_type": "code",
   "execution_count": 22,
   "metadata": {
    "ExecuteTime": {
     "end_time": "2022-06-14T21:03:20.744320Z",
     "start_time": "2022-06-14T21:03:20.733708Z"
    }
   },
   "outputs": [
    {
     "name": "stdout",
     "output_type": "stream",
     "text": [
      "Number of samples in fezes ASV: 66\n"
     ]
    }
   ],
   "source": [
    "print(f'Number of samples in fezes ASV: {len(table_df.columns)}')"
   ]
  },
  {
   "cell_type": "markdown",
   "metadata": {},
   "source": [
    "Samples with greater microbiological abundance in *fezes* ASV."
   ]
  },
  {
   "cell_type": "code",
   "execution_count": 23,
   "metadata": {
    "ExecuteTime": {
     "end_time": "2022-06-14T21:03:20.787830Z",
     "start_time": "2022-06-14T21:03:20.746111Z"
    }
   },
   "outputs": [
    {
     "data": {
      "text/plain": [
       "id\n",
       "I52-M117    102690.0\n",
       "I51-M116     86625.0\n",
       "I24-M67      85448.0\n",
       "I36-M93      82751.0\n",
       "I10-M91      80208.0\n",
       "I8-M39       78374.0\n",
       "I11-M44      77125.0\n",
       "I17-M55      76017.0\n",
       "I55-M122     75836.0\n",
       "I34-M88      74714.0\n",
       "dtype: float64"
      ]
     },
     "execution_count": 23,
     "metadata": {},
     "output_type": "execute_result"
    }
   ],
   "source": [
    "table_df.sum().sort_values(ascending=False)[:10]"
   ]
  },
  {
   "cell_type": "markdown",
   "metadata": {},
   "source": [
    "Viewing basic sample statistics in *fezes* ASV."
   ]
  },
  {
   "cell_type": "code",
   "execution_count": 24,
   "metadata": {
    "ExecuteTime": {
     "end_time": "2022-06-14T21:03:20.800179Z",
     "start_time": "2022-06-14T21:03:20.789365Z"
    }
   },
   "outputs": [
    {
     "data": {
      "text/plain": [
       "count        66.000000\n",
       "mean      41599.121212\n",
       "std       24871.870661\n",
       "min         590.000000\n",
       "25%       21810.500000\n",
       "50%       37042.500000\n",
       "75%       63412.000000\n",
       "max      102690.000000\n",
       "dtype: float64"
      ]
     },
     "execution_count": 24,
     "metadata": {},
     "output_type": "execute_result"
    }
   ],
   "source": [
    "table_df.sum().describe()"
   ]
  },
  {
   "cell_type": "markdown",
   "metadata": {},
   "source": [
    "Plotting frequency distribution for all samples abundances in *fezes* ASV."
   ]
  },
  {
   "cell_type": "code",
   "execution_count": 25,
   "metadata": {
    "ExecuteTime": {
     "end_time": "2022-06-14T21:03:20.811257Z",
     "start_time": "2022-06-14T21:03:20.801652Z"
    }
   },
   "outputs": [
    {
     "data": {
      "text/plain": [
       "id\n",
       "I18-M07        590.0\n",
       "I1-M05        1584.0\n",
       "I39-M98       5182.0\n",
       "I43-M103      7323.0\n",
       "I16-M52       8005.0\n",
       "              ...   \n",
       "I10-M91      80208.0\n",
       "I36-M93      82751.0\n",
       "I24-M67      85448.0\n",
       "I51-M116     86625.0\n",
       "I52-M117    102690.0\n",
       "Length: 66, dtype: float64"
      ]
     },
     "execution_count": 25,
     "metadata": {},
     "output_type": "execute_result"
    }
   ],
   "source": [
    "table_df.sum().sort_values()"
   ]
  },
  {
   "cell_type": "code",
   "execution_count": 26,
   "metadata": {
    "ExecuteTime": {
     "end_time": "2022-06-14T21:03:23.111124Z",
     "start_time": "2022-06-14T21:03:20.812932Z"
    }
   },
   "outputs": [
    {
     "data": {
      "text/plain": [
       "<AxesSubplot:xlabel='id'>"
      ]
     },
     "execution_count": 26,
     "metadata": {},
     "output_type": "execute_result"
    },
    {
     "data": {
      "image/png": "[encoded data removed]",
      "text/plain": [
       "<Figure size 1080x720 with 1 Axes>"
      ]
     },
     "metadata": {},
     "output_type": "display_data"
    }
   ],
   "source": [
    "table_df.sum().sort_values().plot(kind='bar', figsize=(15,10))"
   ]
  },
  {
   "cell_type": "markdown",
   "metadata": {},
   "source": [
    "### Diversities"
   ]
  },
  {
   "cell_type": "markdown",
   "metadata": {},
   "source": [
    "Convert frequencies to binary values indicating presence or absence of a feature in a sample."
   ]
  },
  {
   "cell_type": "code",
   "execution_count": 27,
   "metadata": {
    "ExecuteTime": {
     "end_time": "2022-06-14T21:03:23.194991Z",
     "start_time": "2022-06-14T21:03:23.112856Z"
    }
   },
   "outputs": [
    {
     "data": {
      "text/plain": [
       "<artifact: FeatureTable[PresenceAbsence] uuid: 54110c88-297f-43aa-bcee-23f0dd50a829>"
      ]
     },
     "execution_count": 27,
     "metadata": {},
     "output_type": "execute_result"
    }
   ],
   "source": [
    "presence_absence_table = presence_absence(frequency_table).presence_absence_table\n",
    "presence_absence_table"
   ]
  },
  {
   "cell_type": "markdown",
   "metadata": {},
   "source": [
    "Transforming to Pandas DataFrame object"
   ]
  },
  {
   "cell_type": "code",
   "execution_count": 28,
   "metadata": {
    "ExecuteTime": {
     "end_time": "2022-06-14T21:03:24.678657Z",
     "start_time": "2022-06-14T21:03:23.201171Z"
    }
   },
   "outputs": [],
   "source": [
    "presence_absence_table_df = presence_absence_table.view(Metadata).to_dataframe().T"
   ]
  },
  {
   "cell_type": "markdown",
   "metadata": {},
   "source": [
    "Top most diversities samples in *fezes* ASV."
   ]
  },
  {
   "cell_type": "code",
   "execution_count": 29,
   "metadata": {
    "ExecuteTime": {
     "end_time": "2022-06-14T21:03:24.691733Z",
     "start_time": "2022-06-14T21:03:24.681279Z"
    }
   },
   "outputs": [
    {
     "data": {
      "text/plain": [
       "id\n",
       "I51-M116    144.0\n",
       "I8-M39      117.0\n",
       "I24-M67     108.0\n",
       "I17-M55     107.0\n",
       "I11-M44     104.0\n",
       "I10-M91     101.0\n",
       "I36-M93      96.0\n",
       "I23-M64      96.0\n",
       "I52-M117     91.0\n",
       "I75-M162     86.0\n",
       "dtype: float64"
      ]
     },
     "execution_count": 29,
     "metadata": {},
     "output_type": "execute_result"
    }
   ],
   "source": [
    "presence_absence_table_df.sum().sort_values(ascending=False)[:10]"
   ]
  },
  {
   "cell_type": "markdown",
   "metadata": {},
   "source": [
    "Viewing basic sample statistics for *fezes* ASV."
   ]
  },
  {
   "cell_type": "code",
   "execution_count": 30,
   "metadata": {
    "ExecuteTime": {
     "end_time": "2022-06-14T21:03:24.727459Z",
     "start_time": "2022-06-14T21:03:24.693037Z"
    }
   },
   "outputs": [
    {
     "data": {
      "text/plain": [
       "count     66.000000\n",
       "mean      52.318182\n",
       "std       30.393906\n",
       "min        1.000000\n",
       "25%       28.250000\n",
       "50%       46.000000\n",
       "75%       71.500000\n",
       "max      144.000000\n",
       "dtype: float64"
      ]
     },
     "execution_count": 30,
     "metadata": {},
     "output_type": "execute_result"
    }
   ],
   "source": [
    "presence_absence_table_df.sum().describe()"
   ]
  },
  {
   "cell_type": "markdown",
   "metadata": {},
   "source": [
    "Plotting frequency distribution for all *fezes* samples diversities."
   ]
  },
  {
   "cell_type": "code",
   "execution_count": 31,
   "metadata": {
    "ExecuteTime": {
     "end_time": "2022-06-14T21:03:27.121533Z",
     "start_time": "2022-06-14T21:03:24.728783Z"
    }
   },
   "outputs": [
    {
     "data": {
      "text/plain": [
       "<AxesSubplot:xlabel='id'>"
      ]
     },
     "execution_count": 31,
     "metadata": {},
     "output_type": "execute_result"
    },
    {
     "data": {
      "image/png": "[encoded data removed]",
      "text/plain": [
       "<Figure size 1080x720 with 1 Axes>"
      ]
     },
     "metadata": {},
     "output_type": "display_data"
    }
   ],
   "source": [
    "presence_absence_table_df.sum().sort_values().plot(kind='bar', figsize=(15,10))"
   ]
  },
  {
   "cell_type": "markdown",
   "metadata": {},
   "source": [
    "---"
   ]
  },
  {
   "cell_type": "markdown",
   "metadata": {},
   "source": [
    "## Analyzing Groups"
   ]
  },
  {
   "cell_type": "markdown",
   "metadata": {},
   "source": [
    "### Microorganisms **abundances**"
   ]
  },
  {
   "cell_type": "code",
   "execution_count": 32,
   "metadata": {
    "ExecuteTime": {
     "end_time": "2022-06-14T21:03:27.126474Z",
     "start_time": "2022-06-14T21:03:27.123007Z"
    }
   },
   "outputs": [],
   "source": [
    "features_df = table_df.sum(axis=1)"
   ]
  },
  {
   "cell_type": "code",
   "execution_count": 33,
   "metadata": {
    "ExecuteTime": {
     "end_time": "2022-06-14T21:03:27.913417Z",
     "start_time": "2022-06-14T21:03:27.128000Z"
    }
   },
   "outputs": [
    {
     "data": {
      "text/plain": [
       "<AxesSubplot:>"
      ]
     },
     "execution_count": 33,
     "metadata": {},
     "output_type": "execute_result"
    },
    {
     "data": {
      "image/png": "[encoded data removed]",
      "text/plain": [
       "<Figure size 720x360 with 1 Axes>"
      ]
     },
     "metadata": {},
     "output_type": "display_data"
    }
   ],
   "source": [
    "features_df.hist(bins=100, figsize=(10,5))"
   ]
  },
  {
   "cell_type": "code",
   "execution_count": 34,
   "metadata": {
    "ExecuteTime": {
     "end_time": "2022-06-14T21:03:29.195795Z",
     "start_time": "2022-06-14T21:03:27.915084Z"
    }
   },
   "outputs": [],
   "source": [
    "# Define pivot column for grouping function\n",
    "sample_metadata.get_column('class_meno')\n",
    "# Perform group by applying sum function\n",
    "grouped_table = group(frequency_table, metadata=sample_metadata.get_column('class_meno'), axis='sample', mode='sum').grouped_table"
   ]
  },
  {
   "cell_type": "markdown",
   "metadata": {},
   "source": [
    "Transforming to Pandas DataFrame object"
   ]
  },
  {
   "cell_type": "code",
   "execution_count": 35,
   "metadata": {
    "ExecuteTime": {
     "end_time": "2022-06-14T21:03:30.525160Z",
     "start_time": "2022-06-14T21:03:29.198001Z"
    },
    "scrolled": true
   },
   "outputs": [
    {
     "data": {
      "text/html": [
       "<div>\n",
       "<style scoped>\n",
       "    .dataframe tbody tr th:only-of-type {\n",
       "        vertical-align: middle;\n",
       "    }\n",
       "\n",
       "    .dataframe tbody tr th {\n",
       "        vertical-align: top;\n",
       "    }\n",
       "\n",
       "    .dataframe thead th {\n",
       "        text-align: right;\n",
       "    }\n",
       "</style>\n",
       "<table border=\"1\" class=\"dataframe\">\n",
       "  <thead>\n",
       "    <tr style=\"text-align: right;\">\n",
       "      <th></th>\n",
       "      <th>074b2d2eeb19288d75bf8e64784db602</th>\n",
       "      <th>6c3b33991621b6c3e04992794a55a3d9</th>\n",
       "      <th>8b7f2e8ca48676f3a47dfa784c8a9efe</th>\n",
       "      <th>7a1d4d3ec513655bbe964c4ab022e6fe</th>\n",
       "      <th>b53b25874d0529b37d36bfc78e32c894</th>\n",
       "      <th>de1dfedd96859b1568df4edfc30dff9b</th>\n",
       "      <th>9182301e1a42f09bd5016aad44496c4a</th>\n",
       "      <th>3689595a73bd93c0301ac8956a15279e</th>\n",
       "      <th>53df627adf8340f26a37202ed7374f2e</th>\n",
       "      <th>a835129fb0fba121225f939f51049a86</th>\n",
       "      <th>...</th>\n",
       "      <th>440b18f112d726951157996929988d38</th>\n",
       "      <th>fa52840a8948f2b92eb37f273c919b00</th>\n",
       "      <th>890138d5a18e44b8337f1c60308d82a8</th>\n",
       "      <th>08c2a6ae87899aa52af5b1e4e706bca7</th>\n",
       "      <th>0c2c4652d0d65b835d97dddca0b3a102</th>\n",
       "      <th>ee5a1924a299e186d7f904e5aa898bd1</th>\n",
       "      <th>143582bcba9a90e4a585ed60042a6f0d</th>\n",
       "      <th>c713157aa6936b23861463951dfb6a3b</th>\n",
       "      <th>bd157fd42be3b6728d0080ee52836c14</th>\n",
       "      <th>7be16af1fd4a487fd9e6380727a69555</th>\n",
       "    </tr>\n",
       "    <tr>\n",
       "      <th>id</th>\n",
       "      <th></th>\n",
       "      <th></th>\n",
       "      <th></th>\n",
       "      <th></th>\n",
       "      <th></th>\n",
       "      <th></th>\n",
       "      <th></th>\n",
       "      <th></th>\n",
       "      <th></th>\n",
       "      <th></th>\n",
       "      <th></th>\n",
       "      <th></th>\n",
       "      <th></th>\n",
       "      <th></th>\n",
       "      <th></th>\n",
       "      <th></th>\n",
       "      <th></th>\n",
       "      <th></th>\n",
       "      <th></th>\n",
       "      <th></th>\n",
       "      <th></th>\n",
       "    </tr>\n",
       "  </thead>\n",
       "  <tbody>\n",
       "    <tr>\n",
       "      <th>0</th>\n",
       "      <td>8533.0</td>\n",
       "      <td>3018.0</td>\n",
       "      <td>3783.0</td>\n",
       "      <td>3200.0</td>\n",
       "      <td>1464.0</td>\n",
       "      <td>0.0</td>\n",
       "      <td>1958.0</td>\n",
       "      <td>1548.0</td>\n",
       "      <td>3901.0</td>\n",
       "      <td>954.0</td>\n",
       "      <td>...</td>\n",
       "      <td>1.0</td>\n",
       "      <td>1.0</td>\n",
       "      <td>1.0</td>\n",
       "      <td>0.0</td>\n",
       "      <td>0.0</td>\n",
       "      <td>0.0</td>\n",
       "      <td>0.0</td>\n",
       "      <td>0.0</td>\n",
       "      <td>0.0</td>\n",
       "      <td>0.0</td>\n",
       "    </tr>\n",
       "    <tr>\n",
       "      <th>1</th>\n",
       "      <td>7042.0</td>\n",
       "      <td>3794.0</td>\n",
       "      <td>2615.0</td>\n",
       "      <td>3616.0</td>\n",
       "      <td>3232.0</td>\n",
       "      <td>5126.0</td>\n",
       "      <td>2612.0</td>\n",
       "      <td>4866.0</td>\n",
       "      <td>1310.0</td>\n",
       "      <td>3658.0</td>\n",
       "      <td>...</td>\n",
       "      <td>0.0</td>\n",
       "      <td>0.0</td>\n",
       "      <td>0.0</td>\n",
       "      <td>0.0</td>\n",
       "      <td>1.0</td>\n",
       "      <td>0.0</td>\n",
       "      <td>1.0</td>\n",
       "      <td>0.0</td>\n",
       "      <td>0.0</td>\n",
       "      <td>1.0</td>\n",
       "    </tr>\n",
       "    <tr>\n",
       "      <th>2</th>\n",
       "      <td>8283.0</td>\n",
       "      <td>12499.0</td>\n",
       "      <td>8729.0</td>\n",
       "      <td>7407.0</td>\n",
       "      <td>8095.0</td>\n",
       "      <td>7234.0</td>\n",
       "      <td>6564.0</td>\n",
       "      <td>3589.0</td>\n",
       "      <td>4740.0</td>\n",
       "      <td>5207.0</td>\n",
       "      <td>...</td>\n",
       "      <td>0.0</td>\n",
       "      <td>0.0</td>\n",
       "      <td>0.0</td>\n",
       "      <td>1.0</td>\n",
       "      <td>0.0</td>\n",
       "      <td>1.0</td>\n",
       "      <td>0.0</td>\n",
       "      <td>1.0</td>\n",
       "      <td>1.0</td>\n",
       "      <td>0.0</td>\n",
       "    </tr>\n",
       "  </tbody>\n",
       "</table>\n",
       "<p>3 rows × 2918 columns</p>\n",
       "</div>"
      ],
      "text/plain": [
       "    074b2d2eeb19288d75bf8e64784db602  6c3b33991621b6c3e04992794a55a3d9  \\\n",
       "id                                                                       \n",
       "0                             8533.0                            3018.0   \n",
       "1                             7042.0                            3794.0   \n",
       "2                             8283.0                           12499.0   \n",
       "\n",
       "    8b7f2e8ca48676f3a47dfa784c8a9efe  7a1d4d3ec513655bbe964c4ab022e6fe  \\\n",
       "id                                                                       \n",
       "0                             3783.0                            3200.0   \n",
       "1                             2615.0                            3616.0   \n",
       "2                             8729.0                            7407.0   \n",
       "\n",
       "    b53b25874d0529b37d36bfc78e32c894  de1dfedd96859b1568df4edfc30dff9b  \\\n",
       "id                                                                       \n",
       "0                             1464.0                               0.0   \n",
       "1                             3232.0                            5126.0   \n",
       "2                             8095.0                            7234.0   \n",
       "\n",
       "    9182301e1a42f09bd5016aad44496c4a  3689595a73bd93c0301ac8956a15279e  \\\n",
       "id                                                                       \n",
       "0                             1958.0                            1548.0   \n",
       "1                             2612.0                            4866.0   \n",
       "2                             6564.0                            3589.0   \n",
       "\n",
       "    53df627adf8340f26a37202ed7374f2e  a835129fb0fba121225f939f51049a86  ...  \\\n",
       "id                                                                      ...   \n",
       "0                             3901.0                             954.0  ...   \n",
       "1                             1310.0                            3658.0  ...   \n",
       "2                             4740.0                            5207.0  ...   \n",
       "\n",
       "    440b18f112d726951157996929988d38  fa52840a8948f2b92eb37f273c919b00  \\\n",
       "id                                                                       \n",
       "0                                1.0                               1.0   \n",
       "1                                0.0                               0.0   \n",
       "2                                0.0                               0.0   \n",
       "\n",
       "    890138d5a18e44b8337f1c60308d82a8  08c2a6ae87899aa52af5b1e4e706bca7  \\\n",
       "id                                                                       \n",
       "0                                1.0                               0.0   \n",
       "1                                0.0                               0.0   \n",
       "2                                0.0                               1.0   \n",
       "\n",
       "    0c2c4652d0d65b835d97dddca0b3a102  ee5a1924a299e186d7f904e5aa898bd1  \\\n",
       "id                                                                       \n",
       "0                                0.0                               0.0   \n",
       "1                                1.0                               0.0   \n",
       "2                                0.0                               1.0   \n",
       "\n",
       "    143582bcba9a90e4a585ed60042a6f0d  c713157aa6936b23861463951dfb6a3b  \\\n",
       "id                                                                       \n",
       "0                                0.0                               0.0   \n",
       "1                                1.0                               0.0   \n",
       "2                                0.0                               1.0   \n",
       "\n",
       "    bd157fd42be3b6728d0080ee52836c14  7be16af1fd4a487fd9e6380727a69555  \n",
       "id                                                                      \n",
       "0                                0.0                               0.0  \n",
       "1                                0.0                               1.0  \n",
       "2                                1.0                               0.0  \n",
       "\n",
       "[3 rows x 2918 columns]"
      ]
     },
     "execution_count": 35,
     "metadata": {},
     "output_type": "execute_result"
    }
   ],
   "source": [
    "grouped_table_df = grouped_table.view(Metadata).to_dataframe().sort_values(by='id')\n",
    "grouped_table_df"
   ]
  },
  {
   "cell_type": "markdown",
   "metadata": {},
   "source": [
    "## Microorganisms Taxonomy **abundances**"
   ]
  },
  {
   "cell_type": "code",
   "execution_count": 36,
   "metadata": {
    "ExecuteTime": {
     "end_time": "2022-06-14T21:03:30.533527Z",
     "start_time": "2022-06-14T21:03:30.526666Z"
    }
   },
   "outputs": [],
   "source": [
    "# Define function to create abundances dataframes\n",
    "def abundance_rank(tab, tax, lvl=7):\n",
    "    \"\"\" Generate a Pandas DataFrame with abundances data and simple \n",
    "    descriptive metrics for valid taxonomy inferences. \n",
    "    \n",
    "    Parameters\n",
    "    ----------\n",
    "    tab : FeatureTable[Frequency]\n",
    "        An Qiime2 API artifact of type FeatureTable[Frequency]\n",
    "    tax : FeatureData[Taxonomy]\n",
    "        An Qiime2 API artifact of type FeatureData[Taxonomy]\n",
    "    lvl : int\n",
    "        The level to collapse the taxonomy (default is 7)\n",
    "        \n",
    "    Returns\n",
    "    -------\n",
    "    list\n",
    "        a Pandas DataFrame with abundance data\n",
    "    \"\"\"\n",
    "    from qiime2 import Metadata\n",
    "\n",
    "    # Define local variables\n",
    "    tax_prefix = ['d', 'p', 'c', 'o', 'f', 'g', 's'][lvl-1]\n",
    "    idx_class = tab.view(Metadata).to_dataframe().index # Class Variables Columns Index\n",
    "    \n",
    "    # Generate the collapsed table for selected level\n",
    "    collapsed_table = collapse(tab, taxonomy=tax, level=lvl).collapsed_table\n",
    "    df = collapsed_table.view(Metadata).to_dataframe().T.sort_values(by='id', axis=1)\n",
    "\n",
    "    # Filter out spuriuous inferences\n",
    "    idx_non_valid_tax = df.index.str.endswith('__')\n",
    "    valid_tax = df[~idx_non_valid_tax]\n",
    "    idx_non_valid_tax = valid_tax.index.str.contains(f'{tax_prefix}__uncultured', regex=False)\n",
    "    valid_tax = valid_tax[~idx_non_valid_tax]\n",
    "    idx_non_valid_tax = valid_tax.index.str.contains('metagenome', regex=False)\n",
    "    valid_tax = valid_tax[~idx_non_valid_tax]\n",
    "    idx_non_valid_tax = valid_tax.index.str.contains(f'{tax_prefix}__human_gut', regex=False)\n",
    "    valid_tax = valid_tax[~idx_non_valid_tax]\n",
    "    idx_non_valid_tax = valid_tax.index.str.contains(f'{tax_prefix}__unidentified', regex=False)\n",
    "    valid_tax = valid_tax[~idx_non_valid_tax]\n",
    "\n",
    "    # Generate aggregation metrics\n",
    "    valid_tax['total'] = valid_tax[idx_class].sum(axis=1) # Calculate the sum\n",
    "    valid_tax['mean'] = valid_tax[idx_class].mean(axis=1) # Calculate the average\n",
    "    valid_tax['std'] = valid_tax[idx_class].std(axis=1) # Calculate the standard deviation\n",
    "\n",
    "    return valid_tax"
   ]
  },
  {
   "cell_type": "code",
   "execution_count": 37,
   "metadata": {
    "ExecuteTime": {
     "end_time": "2022-06-14T21:03:30.577662Z",
     "start_time": "2022-06-14T21:03:30.534868Z"
    }
   },
   "outputs": [],
   "source": [
    "def abundance_spreadsheet(path, tab, tax):\n",
    "    tax_lvls = ['Domain', 'Phylum', 'Class', 'Order', 'Family', 'Genus', 'Species'] # Taxonomy levels\n",
    "    idxs = tab.view(Metadata).to_dataframe().index.tolist()\n",
    "    \n",
    "    # Create an abundance DataFrame for each taxonomy level\n",
    "    abundances = {lvl: abundance_rank(tab, tax, lvl=i+1) for i, lvl in enumerate(tax_lvls)}\n",
    "    \n",
    "    # Create a Pandas Excel writer using XlsxWriter as the engine.\n",
    "    with pd.ExcelWriter(path, engine='xlsxwriter') as writer:\n",
    "        totals = dict()\n",
    "        for lvl in tax_lvls:  # Iterate over all Taxonomy levels\n",
    "            abundances[lvl].to_excel(writer, sheet_name=lvl) # Write current DataFrame to a new sheet\n",
    "            totals[lvl] = list()\n",
    "            for i in idxs:\n",
    "                col = abundances[lvl][i]\n",
    "                val = col[col != 0].count()\n",
    "                totals[lvl].append(val)\n",
    "            totals[lvl].append(len(abundances[lvl]))\n",
    "        totals = pd.DataFrame(totals, index=idxs+['All'])\n",
    "        totals.to_excel(writer, sheet_name='TaxonsByLevel') # Write the number of unique taxons\n",
    "    return abundances, totals"
   ]
  },
  {
   "cell_type": "code",
   "execution_count": 38,
   "metadata": {
    "ExecuteTime": {
     "end_time": "2022-06-14T21:03:44.909593Z",
     "start_time": "2022-06-14T21:03:30.579670Z"
    },
    "scrolled": true
   },
   "outputs": [],
   "source": [
    "# === Abundances by woman SAMPLES ===\n",
    "\n",
    "# Define the spreadsheet file path\n",
    "abundances_by_class_path = os.path.join(experiment_folder, 'abundances_by_samples.xlsx') \n",
    "\n",
    "# Create an Excel spreadsheet with abundances informations for all taxonomy levels\n",
    "abundances, totals = abundance_spreadsheet(abundances_by_class_path, frequency_table, table_tax)"
   ]
  },
  {
   "cell_type": "code",
   "execution_count": 82,
   "metadata": {
    "ExecuteTime": {
     "end_time": "2022-06-15T13:18:08.627410Z",
     "start_time": "2022-06-15T13:18:08.602772Z"
    }
   },
   "outputs": [
    {
     "name": "stdout",
     "output_type": "stream",
     "text": [
      "\\begin{table}\n",
      "\\centering\n",
      "\\caption{A Tabela apresenta as 11 espécies mais abundantes encontradas na interseção das três fases do ciclo reprodutivo. As linhas estão ordenada em ordem decrescente de acordo com a abundância da coluna \"Interseção\". São mostradas também as abundâncias de cada espécie em cada uma das fases.}\n",
      "\\begin{tabular}{lrrrr}\n",
      "\\toprule\n",
      "                                Genus &  Reprodutivo &  Transição &  Pós-menopausa &  Interseção \\\\\n",
      "\\midrule\n",
      "                          Bacteroides &        37370 &      83937 &         184439 &      305746 \\\\\n",
      "                     Faecalibacterium &        37362 &      35413 &          98727 &      171502 \\\\\n",
      "                              UCG-002 &        30040 &      19578 &          55022 &      104640 \\\\\n",
      "                         Agathobacter &        19047 &      20233 &          58707 &       97987 \\\\\n",
      "                           Prevotella &        27761 &      20439 &          45257 &       93457 \\\\\n",
      "        Christensenellaceae\\_R-7\\_group &        32220 &      14929 &          30416 &       77565 \\\\\n",
      "[Eubacterium]\\_coprostanoligenes\\_group &        22402 &      17969 &          36105 &       76476 \\\\\n",
      "                              Blautia &        22236 &      18676 &          34252 &       75164 \\\\\n",
      "                            Alistipes &         9708 &      19387 &          39719 &       68814 \\\\\n",
      "                      Subdoligranulum &         9966 &      18704 &          37677 &       66347 \\\\\n",
      "                      Parabacteroides &        11556 &      20019 &          33423 &       64998 \\\\\n",
      "\\bottomrule\n",
      "\\end{tabular}\n",
      "\\end{table}\n",
      "\n"
     ]
    }
   ],
   "source": [
    "tax_level = 'Genus'\n",
    "\n",
    "species_names = [i.split(';')[-1][3:] for i in abundances[tax_level].index]\n",
    "abundances[tax_level]['name'] = species_names\n",
    "\n",
    "df_tmp = abundances[tax_level][['name', '0', '1', '2', 'total']]\n",
    "df_tmp = df_tmp.astype({x:int for x in ('0','1','2','total')})\n",
    "df_tmp = df_tmp.rename(columns={'name':tax_level, '0':'Reprodutivo', '1': 'Transição', '2':'Pós-menopausa', 'total':'Interseção'})\n",
    "\n",
    "pivot = 'Interseção'\n",
    "top = 11\n",
    "print(df_tmp.sort_values(by=pivot, ascending=False)[:top].to_latex(index=False, caption=f'A Tabela apresenta as {top} espécies mais abundantes encontradas na interseção das três fases do ciclo reprodutivo. As linhas estão ordenada em ordem decrescente de acordo com a abundância da coluna \"Interseção\". São mostradas também as abundâncias de cada espécie em cada uma das fases.'))"
   ]
  },
  {
   "cell_type": "code",
   "execution_count": 39,
   "metadata": {
    "ExecuteTime": {
     "end_time": "2022-06-14T21:03:56.693359Z",
     "start_time": "2022-06-14T21:03:44.911387Z"
    }
   },
   "outputs": [],
   "source": [
    "# === Abundances by menopause CLASSES ===\n",
    "\n",
    "# Define the spreadsheet file path\n",
    "abundances_by_class_path = os.path.join(experiment_folder, 'abundances_by_class.xlsx') \n",
    "\n",
    "# Create an Excel spreadsheet with abundances informations for all taxonomy levels\n",
    "abundances, totals = abundance_spreadsheet(abundances_by_class_path, grouped_table, table_tax)"
   ]
  },
  {
   "cell_type": "markdown",
   "metadata": {},
   "source": [
    "### Microorganisms frequences"
   ]
  },
  {
   "cell_type": "code",
   "execution_count": 40,
   "metadata": {
    "ExecuteTime": {
     "end_time": "2022-06-14T21:03:56.717870Z",
     "start_time": "2022-06-14T21:03:56.695364Z"
    }
   },
   "outputs": [
    {
     "data": {
      "text/html": [
       "<div>\n",
       "<style scoped>\n",
       "    .dataframe tbody tr th:only-of-type {\n",
       "        vertical-align: middle;\n",
       "    }\n",
       "\n",
       "    .dataframe tbody tr th {\n",
       "        vertical-align: top;\n",
       "    }\n",
       "\n",
       "    .dataframe thead th {\n",
       "        text-align: right;\n",
       "    }\n",
       "</style>\n",
       "<table border=\"1\" class=\"dataframe\">\n",
       "  <thead>\n",
       "    <tr style=\"text-align: right;\">\n",
       "      <th></th>\n",
       "      <th>Frequency</th>\n",
       "      <th>Taxon</th>\n",
       "      <th>Confidence</th>\n",
       "      <th>Kingdom</th>\n",
       "      <th>Phylum</th>\n",
       "      <th>Class</th>\n",
       "      <th>Order</th>\n",
       "      <th>Family</th>\n",
       "      <th>Genus</th>\n",
       "      <th>Species</th>\n",
       "    </tr>\n",
       "  </thead>\n",
       "  <tbody>\n",
       "    <tr>\n",
       "      <th>7a1d4d3ec513655bbe964c4ab022e6fe</th>\n",
       "      <td>17.0</td>\n",
       "      <td>d__Bacteria; p__Bacteroidota; c__Bacteroidia; ...</td>\n",
       "      <td>0.7348376775850926</td>\n",
       "      <td>d__Bacteria</td>\n",
       "      <td>p__Bacteroidota</td>\n",
       "      <td>c__Bacteroidia</td>\n",
       "      <td>o__Bacteroidales</td>\n",
       "      <td>f__Bacteroidaceae</td>\n",
       "      <td>g__Bacteroides</td>\n",
       "      <td>s__Bacteroides_vulgatus</td>\n",
       "    </tr>\n",
       "    <tr>\n",
       "      <th>84c637ccc4b3a7ddf249683f94a9e6b8</th>\n",
       "      <td>7.0</td>\n",
       "      <td>d__Bacteria; p__Bacteroidota; c__Bacteroidia; ...</td>\n",
       "      <td>0.80958025129418</td>\n",
       "      <td>d__Bacteria</td>\n",
       "      <td>p__Bacteroidota</td>\n",
       "      <td>c__Bacteroidia</td>\n",
       "      <td>o__Bacteroidales</td>\n",
       "      <td>f__Bacteroidaceae</td>\n",
       "      <td>g__Bacteroides</td>\n",
       "      <td>s__Bacteroides_vulgatus</td>\n",
       "    </tr>\n",
       "    <tr>\n",
       "      <th>94d998377d1b0778de2a8369a12f7c61</th>\n",
       "      <td>7.0</td>\n",
       "      <td>d__Bacteria; p__Bacteroidota; c__Bacteroidia; ...</td>\n",
       "      <td>0.7456998849690256</td>\n",
       "      <td>d__Bacteria</td>\n",
       "      <td>p__Bacteroidota</td>\n",
       "      <td>c__Bacteroidia</td>\n",
       "      <td>o__Bacteroidales</td>\n",
       "      <td>f__Bacteroidaceae</td>\n",
       "      <td>g__Bacteroides</td>\n",
       "      <td>s__Bacteroides_vulgatus</td>\n",
       "    </tr>\n",
       "    <tr>\n",
       "      <th>8888e1f1a4f7c14ed50b43769cacf02f</th>\n",
       "      <td>6.0</td>\n",
       "      <td>d__Bacteria; p__Firmicutes; c__Clostridia; o__...</td>\n",
       "      <td>0.7357499647767276</td>\n",
       "      <td>d__Bacteria</td>\n",
       "      <td>p__Firmicutes</td>\n",
       "      <td>c__Clostridia</td>\n",
       "      <td>o__Oscillospirales</td>\n",
       "      <td>f__Ruminococcaceae</td>\n",
       "      <td>g__Subdoligranulum</td>\n",
       "      <td>s__uncultured_bacterium</td>\n",
       "    </tr>\n",
       "    <tr>\n",
       "      <th>9182301e1a42f09bd5016aad44496c4a</th>\n",
       "      <td>6.0</td>\n",
       "      <td>d__Bacteria; p__Firmicutes; c__Negativicutes; ...</td>\n",
       "      <td>0.8566238192342637</td>\n",
       "      <td>d__Bacteria</td>\n",
       "      <td>p__Firmicutes</td>\n",
       "      <td>c__Negativicutes</td>\n",
       "      <td>o__Veillonellales-Selenomonadales</td>\n",
       "      <td>f__Veillonellaceae</td>\n",
       "      <td>g__Dialister</td>\n",
       "      <td>s__uncultured_bacterium</td>\n",
       "    </tr>\n",
       "    <tr>\n",
       "      <th>2b87c87096745aa778ddbb3eb16f9677</th>\n",
       "      <td>5.0</td>\n",
       "      <td>d__Bacteria; p__Firmicutes; c__Clostridia; o__...</td>\n",
       "      <td>0.965235112857912</td>\n",
       "      <td>d__Bacteria</td>\n",
       "      <td>p__Firmicutes</td>\n",
       "      <td>c__Clostridia</td>\n",
       "      <td>o__Oscillospirales</td>\n",
       "      <td>f__Ruminococcaceae</td>\n",
       "      <td>g__CAG-352</td>\n",
       "      <td>s__uncultured_bacterium</td>\n",
       "    </tr>\n",
       "    <tr>\n",
       "      <th>dc23795eaf76ec1afff097b7cc095fd7</th>\n",
       "      <td>5.0</td>\n",
       "      <td>d__Bacteria; p__Firmicutes; c__Clostridia; o__...</td>\n",
       "      <td>0.7066510092291165</td>\n",
       "      <td>d__Bacteria</td>\n",
       "      <td>p__Firmicutes</td>\n",
       "      <td>c__Clostridia</td>\n",
       "      <td>o__Oscillospirales</td>\n",
       "      <td>f__Ruminococcaceae</td>\n",
       "      <td>g__Subdoligranulum</td>\n",
       "      <td>s__uncultured_bacterium</td>\n",
       "    </tr>\n",
       "    <tr>\n",
       "      <th>7e814b2213243a0ae956d9e03f2a641d</th>\n",
       "      <td>5.0</td>\n",
       "      <td>d__Bacteria; p__Firmicutes; c__Clostridia; o__...</td>\n",
       "      <td>0.9634917919263422</td>\n",
       "      <td>d__Bacteria</td>\n",
       "      <td>p__Firmicutes</td>\n",
       "      <td>c__Clostridia</td>\n",
       "      <td>o__Oscillospirales</td>\n",
       "      <td>f__Ruminococcaceae</td>\n",
       "      <td>g__CAG-352</td>\n",
       "      <td>s__uncultured_bacterium</td>\n",
       "    </tr>\n",
       "    <tr>\n",
       "      <th>f095498e0cc986c1f6229215f3793b07</th>\n",
       "      <td>5.0</td>\n",
       "      <td>d__Bacteria; p__Firmicutes; c__Clostridia; o__...</td>\n",
       "      <td>0.8459164041922352</td>\n",
       "      <td>d__Bacteria</td>\n",
       "      <td>p__Firmicutes</td>\n",
       "      <td>c__Clostridia</td>\n",
       "      <td>o__Oscillospirales</td>\n",
       "      <td>f__Oscillospiraceae</td>\n",
       "      <td>g__UCG-002</td>\n",
       "      <td>s__uncultured_organism</td>\n",
       "    </tr>\n",
       "    <tr>\n",
       "      <th>6f355b0d3bd035382724f469e1f5e834</th>\n",
       "      <td>4.0</td>\n",
       "      <td>d__Bacteria; p__Firmicutes; c__Clostridia; o__...</td>\n",
       "      <td>0.7302234911620858</td>\n",
       "      <td>d__Bacteria</td>\n",
       "      <td>p__Firmicutes</td>\n",
       "      <td>c__Clostridia</td>\n",
       "      <td>o__Oscillospirales</td>\n",
       "      <td>f__Ruminococcaceae</td>\n",
       "      <td>g__Subdoligranulum</td>\n",
       "      <td>s__uncultured_bacterium</td>\n",
       "    </tr>\n",
       "  </tbody>\n",
       "</table>\n",
       "</div>"
      ],
      "text/plain": [
       "                                  Frequency  \\\n",
       "7a1d4d3ec513655bbe964c4ab022e6fe       17.0   \n",
       "84c637ccc4b3a7ddf249683f94a9e6b8        7.0   \n",
       "94d998377d1b0778de2a8369a12f7c61        7.0   \n",
       "8888e1f1a4f7c14ed50b43769cacf02f        6.0   \n",
       "9182301e1a42f09bd5016aad44496c4a        6.0   \n",
       "2b87c87096745aa778ddbb3eb16f9677        5.0   \n",
       "dc23795eaf76ec1afff097b7cc095fd7        5.0   \n",
       "7e814b2213243a0ae956d9e03f2a641d        5.0   \n",
       "f095498e0cc986c1f6229215f3793b07        5.0   \n",
       "6f355b0d3bd035382724f469e1f5e834        4.0   \n",
       "\n",
       "                                                                              Taxon  \\\n",
       "7a1d4d3ec513655bbe964c4ab022e6fe  d__Bacteria; p__Bacteroidota; c__Bacteroidia; ...   \n",
       "84c637ccc4b3a7ddf249683f94a9e6b8  d__Bacteria; p__Bacteroidota; c__Bacteroidia; ...   \n",
       "94d998377d1b0778de2a8369a12f7c61  d__Bacteria; p__Bacteroidota; c__Bacteroidia; ...   \n",
       "8888e1f1a4f7c14ed50b43769cacf02f  d__Bacteria; p__Firmicutes; c__Clostridia; o__...   \n",
       "9182301e1a42f09bd5016aad44496c4a  d__Bacteria; p__Firmicutes; c__Negativicutes; ...   \n",
       "2b87c87096745aa778ddbb3eb16f9677  d__Bacteria; p__Firmicutes; c__Clostridia; o__...   \n",
       "dc23795eaf76ec1afff097b7cc095fd7  d__Bacteria; p__Firmicutes; c__Clostridia; o__...   \n",
       "7e814b2213243a0ae956d9e03f2a641d  d__Bacteria; p__Firmicutes; c__Clostridia; o__...   \n",
       "f095498e0cc986c1f6229215f3793b07  d__Bacteria; p__Firmicutes; c__Clostridia; o__...   \n",
       "6f355b0d3bd035382724f469e1f5e834  d__Bacteria; p__Firmicutes; c__Clostridia; o__...   \n",
       "\n",
       "                                          Confidence      Kingdom  \\\n",
       "7a1d4d3ec513655bbe964c4ab022e6fe  0.7348376775850926  d__Bacteria   \n",
       "84c637ccc4b3a7ddf249683f94a9e6b8    0.80958025129418  d__Bacteria   \n",
       "94d998377d1b0778de2a8369a12f7c61  0.7456998849690256  d__Bacteria   \n",
       "8888e1f1a4f7c14ed50b43769cacf02f  0.7357499647767276  d__Bacteria   \n",
       "9182301e1a42f09bd5016aad44496c4a  0.8566238192342637  d__Bacteria   \n",
       "2b87c87096745aa778ddbb3eb16f9677   0.965235112857912  d__Bacteria   \n",
       "dc23795eaf76ec1afff097b7cc095fd7  0.7066510092291165  d__Bacteria   \n",
       "7e814b2213243a0ae956d9e03f2a641d  0.9634917919263422  d__Bacteria   \n",
       "f095498e0cc986c1f6229215f3793b07  0.8459164041922352  d__Bacteria   \n",
       "6f355b0d3bd035382724f469e1f5e834  0.7302234911620858  d__Bacteria   \n",
       "\n",
       "                                            Phylum              Class  \\\n",
       "7a1d4d3ec513655bbe964c4ab022e6fe   p__Bacteroidota     c__Bacteroidia   \n",
       "84c637ccc4b3a7ddf249683f94a9e6b8   p__Bacteroidota     c__Bacteroidia   \n",
       "94d998377d1b0778de2a8369a12f7c61   p__Bacteroidota     c__Bacteroidia   \n",
       "8888e1f1a4f7c14ed50b43769cacf02f     p__Firmicutes      c__Clostridia   \n",
       "9182301e1a42f09bd5016aad44496c4a     p__Firmicutes   c__Negativicutes   \n",
       "2b87c87096745aa778ddbb3eb16f9677     p__Firmicutes      c__Clostridia   \n",
       "dc23795eaf76ec1afff097b7cc095fd7     p__Firmicutes      c__Clostridia   \n",
       "7e814b2213243a0ae956d9e03f2a641d     p__Firmicutes      c__Clostridia   \n",
       "f095498e0cc986c1f6229215f3793b07     p__Firmicutes      c__Clostridia   \n",
       "6f355b0d3bd035382724f469e1f5e834     p__Firmicutes      c__Clostridia   \n",
       "\n",
       "                                                               Order  \\\n",
       "7a1d4d3ec513655bbe964c4ab022e6fe                    o__Bacteroidales   \n",
       "84c637ccc4b3a7ddf249683f94a9e6b8                    o__Bacteroidales   \n",
       "94d998377d1b0778de2a8369a12f7c61                    o__Bacteroidales   \n",
       "8888e1f1a4f7c14ed50b43769cacf02f                  o__Oscillospirales   \n",
       "9182301e1a42f09bd5016aad44496c4a   o__Veillonellales-Selenomonadales   \n",
       "2b87c87096745aa778ddbb3eb16f9677                  o__Oscillospirales   \n",
       "dc23795eaf76ec1afff097b7cc095fd7                  o__Oscillospirales   \n",
       "7e814b2213243a0ae956d9e03f2a641d                  o__Oscillospirales   \n",
       "f095498e0cc986c1f6229215f3793b07                  o__Oscillospirales   \n",
       "6f355b0d3bd035382724f469e1f5e834                  o__Oscillospirales   \n",
       "\n",
       "                                                Family                Genus  \\\n",
       "7a1d4d3ec513655bbe964c4ab022e6fe     f__Bacteroidaceae       g__Bacteroides   \n",
       "84c637ccc4b3a7ddf249683f94a9e6b8     f__Bacteroidaceae       g__Bacteroides   \n",
       "94d998377d1b0778de2a8369a12f7c61     f__Bacteroidaceae       g__Bacteroides   \n",
       "8888e1f1a4f7c14ed50b43769cacf02f    f__Ruminococcaceae   g__Subdoligranulum   \n",
       "9182301e1a42f09bd5016aad44496c4a    f__Veillonellaceae         g__Dialister   \n",
       "2b87c87096745aa778ddbb3eb16f9677    f__Ruminococcaceae           g__CAG-352   \n",
       "dc23795eaf76ec1afff097b7cc095fd7    f__Ruminococcaceae   g__Subdoligranulum   \n",
       "7e814b2213243a0ae956d9e03f2a641d    f__Ruminococcaceae           g__CAG-352   \n",
       "f095498e0cc986c1f6229215f3793b07   f__Oscillospiraceae           g__UCG-002   \n",
       "6f355b0d3bd035382724f469e1f5e834    f__Ruminococcaceae   g__Subdoligranulum   \n",
       "\n",
       "                                                   Species  \n",
       "7a1d4d3ec513655bbe964c4ab022e6fe   s__Bacteroides_vulgatus  \n",
       "84c637ccc4b3a7ddf249683f94a9e6b8   s__Bacteroides_vulgatus  \n",
       "94d998377d1b0778de2a8369a12f7c61   s__Bacteroides_vulgatus  \n",
       "8888e1f1a4f7c14ed50b43769cacf02f   s__uncultured_bacterium  \n",
       "9182301e1a42f09bd5016aad44496c4a   s__uncultured_bacterium  \n",
       "2b87c87096745aa778ddbb3eb16f9677   s__uncultured_bacterium  \n",
       "dc23795eaf76ec1afff097b7cc095fd7   s__uncultured_bacterium  \n",
       "7e814b2213243a0ae956d9e03f2a641d   s__uncultured_bacterium  \n",
       "f095498e0cc986c1f6229215f3793b07    s__uncultured_organism  \n",
       "6f355b0d3bd035382724f469e1f5e834   s__uncultured_bacterium  "
      ]
     },
     "execution_count": 40,
     "metadata": {},
     "output_type": "execute_result"
    }
   ],
   "source": [
    "freq_df = presence_absence_table_df.sum(axis=1).to_frame()\n",
    "tax_freq_df = pd.merge(freq_df, table_tax_df, left_index=True, right_index=True)\n",
    "tax_freq_df.rename(columns={0: 'Frequency'}, inplace=True)\n",
    "tax_freq_df.sort_values(by=['Frequency'], ascending=False, inplace=True)\n",
    "tax_freq_df.dropna()[:10]"
   ]
  },
  {
   "cell_type": "code",
   "execution_count": 41,
   "metadata": {
    "ExecuteTime": {
     "end_time": "2022-06-14T21:03:57.173441Z",
     "start_time": "2022-06-14T21:03:56.719855Z"
    }
   },
   "outputs": [
    {
     "data": {
      "text/plain": [
       "<AxesSubplot:ylabel='Frequency'>"
      ]
     },
     "execution_count": 41,
     "metadata": {},
     "output_type": "execute_result"
    },
    {
     "data": {
      "image/png": "[encoded data removed]",
      "text/plain": [
       "<Figure size 432x288 with 1 Axes>"
      ]
     },
     "metadata": {},
     "output_type": "display_data"
    }
   ],
   "source": [
    "# Comparar com a tabela acima as frequencias\n",
    "tax_freq_df.plot.hist(log=True)"
   ]
  },
  {
   "cell_type": "markdown",
   "metadata": {},
   "source": [
    "---"
   ]
  }
 ],
 "metadata": {
  "kernelspec": {
   "display_name": "Python 3 (ipykernel)",
   "language": "python",
   "name": "python3"
  },
  "language_info": {
   "codemirror_mode": {
    "name": "ipython",
    "version": 3
   },
   "file_extension": ".py",
   "mimetype": "text/x-python",
   "name": "python",
   "nbconvert_exporter": "python",
   "pygments_lexer": "ipython3",
   "version": "3.8.12"
  }
 },
 "nbformat": 4,
 "nbformat_minor": 4
}
