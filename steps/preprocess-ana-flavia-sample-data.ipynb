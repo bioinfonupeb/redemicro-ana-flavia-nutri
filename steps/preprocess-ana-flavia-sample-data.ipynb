{
 "cells": [
  {
   "cell_type": "code",
   "execution_count": 1,
   "id": "a04460f8",
   "metadata": {
    "ExecuteTime": {
     "end_time": "2022-07-07T17:18:14.716560Z",
     "start_time": "2022-07-07T17:18:13.801888Z"
    }
   },
   "outputs": [],
   "source": [
    "import pandas as pd\n",
    "\n",
    "%matplotlib inline"
   ]
  },
  {
   "cell_type": "code",
   "execution_count": 2,
   "id": "fc48b8ca",
   "metadata": {
    "ExecuteTime": {
     "end_time": "2022-07-07T17:18:14.721821Z",
     "start_time": "2022-07-07T17:18:14.718777Z"
    }
   },
   "outputs": [],
   "source": [
    "study = 'ana-flavia-hipotese-01'"
   ]
  },
  {
   "cell_type": "markdown",
   "id": "ae24549b",
   "metadata": {},
   "source": [
    "## Data ingestion"
   ]
  },
  {
   "cell_type": "code",
   "execution_count": 3,
   "id": "f418628b",
   "metadata": {
    "ExecuteTime": {
     "end_time": "2022-07-07T17:18:14.739726Z",
     "start_time": "2022-07-07T17:18:14.723384Z"
    }
   },
   "outputs": [
    {
     "name": "stdout",
     "output_type": "stream",
     "text": [
      "       sample-id sample-name\n",
      "0   210421121673    #1 N9.01\n",
      "1   210421121674   #2 N11.01\n",
      "2   210421121675    #3 N9.05\n",
      "3   210421121676   #4 N11.02\n",
      "4   210421121677    #5 N9.03\n",
      "..           ...         ...\n",
      "69  210707163913  #70 7d.AM2\n",
      "70  210707163914   #71 7d.C3\n",
      "71  210707163915   #72 7d.M3\n",
      "72  210707163916   #73 7d.A3\n",
      "73  210707163917  #74 7d.AM3\n",
      "\n",
      "[74 rows x 2 columns]\n"
     ]
    }
   ],
   "source": [
    "samples_names_fpath = 'sample_id-sample_name.tsv'\n",
    "samples_names_df =  pd.read_csv(samples_names_fpath, delimiter='\\t')\n",
    "samples_names_df['sample-id'] = samples_names_df['sample-id'].astype('int64')\n",
    "print(samples_names_df)"
   ]
  },
  {
   "cell_type": "code",
   "execution_count": 4,
   "id": "e0f2c618",
   "metadata": {
    "ExecuteTime": {
     "end_time": "2022-07-07T17:18:14.751956Z",
     "start_time": "2022-07-07T17:18:14.741531Z"
    }
   },
   "outputs": [
    {
     "name": "stdout",
     "output_type": "stream",
     "text": [
      "        sample-id                                  absolute-filepath direction\n",
      "0    210421121673  /home/lauro/nupeb/dados_brutos_rede_genoma/dat...   forward\n",
      "1    210421121673  /home/lauro/nupeb/dados_brutos_rede_genoma/dat...   reverse\n",
      "2    210421121674  /home/lauro/nupeb/dados_brutos_rede_genoma/dat...   forward\n",
      "3    210421121674  /home/lauro/nupeb/dados_brutos_rede_genoma/dat...   reverse\n",
      "4    210421121675  /home/lauro/nupeb/dados_brutos_rede_genoma/dat...   forward\n",
      "..            ...                                                ...       ...\n",
      "143  210707163915  /home/lauro/nupeb/dados_brutos_rede_genoma/dat...   reverse\n",
      "144  210707163916  /home/lauro/nupeb/dados_brutos_rede_genoma/dat...   forward\n",
      "145  210707163916  /home/lauro/nupeb/dados_brutos_rede_genoma/dat...   reverse\n",
      "146  210707163917  /home/lauro/nupeb/dados_brutos_rede_genoma/dat...   forward\n",
      "147  210707163917  /home/lauro/nupeb/dados_brutos_rede_genoma/dat...   reverse\n",
      "\n",
      "[148 rows x 3 columns]\n"
     ]
    }
   ],
   "source": [
    "samples_paths_fpath = 'samples-paths.tsv'\n",
    "samples_paths_df =  pd.read_csv(samples_paths_fpath, delimiter='\\t')\n",
    "samples_paths_df['sample-id'] = samples_paths_df['sample-id'].astype('int64')\n",
    "print(samples_paths_df)"
   ]
  },
  {
   "cell_type": "markdown",
   "id": "831ff172",
   "metadata": {},
   "source": [
    "## Data transform\n",
    "\n",
    "Combine Dataframes and organize all sample data in one DataFrame."
   ]
  },
  {
   "cell_type": "code",
   "execution_count": 5,
   "id": "372cda58",
   "metadata": {
    "ExecuteTime": {
     "end_time": "2022-07-07T17:18:14.795635Z",
     "start_time": "2022-07-07T17:18:14.753246Z"
    }
   },
   "outputs": [
    {
     "name": "stdout",
     "output_type": "stream",
     "text": [
      "       sample-id                                       forward-path  \\\n",
      "0   210421121673  /home/lauro/nupeb/dados_brutos_rede_genoma/dat...   \n",
      "1   210421121674  /home/lauro/nupeb/dados_brutos_rede_genoma/dat...   \n",
      "2   210421121675  /home/lauro/nupeb/dados_brutos_rede_genoma/dat...   \n",
      "3   210421121676  /home/lauro/nupeb/dados_brutos_rede_genoma/dat...   \n",
      "4   210421121677  /home/lauro/nupeb/dados_brutos_rede_genoma/dat...   \n",
      "..           ...                                                ...   \n",
      "69  210707163913  /home/lauro/nupeb/dados_brutos_rede_genoma/dat...   \n",
      "70  210707163914  /home/lauro/nupeb/dados_brutos_rede_genoma/dat...   \n",
      "71  210707163915  /home/lauro/nupeb/dados_brutos_rede_genoma/dat...   \n",
      "72  210707163916  /home/lauro/nupeb/dados_brutos_rede_genoma/dat...   \n",
      "73  210707163917  /home/lauro/nupeb/dados_brutos_rede_genoma/dat...   \n",
      "\n",
      "                                         reverse-path  \n",
      "0   /home/lauro/nupeb/dados_brutos_rede_genoma/dat...  \n",
      "1   /home/lauro/nupeb/dados_brutos_rede_genoma/dat...  \n",
      "2   /home/lauro/nupeb/dados_brutos_rede_genoma/dat...  \n",
      "3   /home/lauro/nupeb/dados_brutos_rede_genoma/dat...  \n",
      "4   /home/lauro/nupeb/dados_brutos_rede_genoma/dat...  \n",
      "..                                                ...  \n",
      "69  /home/lauro/nupeb/dados_brutos_rede_genoma/dat...  \n",
      "70  /home/lauro/nupeb/dados_brutos_rede_genoma/dat...  \n",
      "71  /home/lauro/nupeb/dados_brutos_rede_genoma/dat...  \n",
      "72  /home/lauro/nupeb/dados_brutos_rede_genoma/dat...  \n",
      "73  /home/lauro/nupeb/dados_brutos_rede_genoma/dat...  \n",
      "\n",
      "[74 rows x 3 columns]\n"
     ]
    }
   ],
   "source": [
    "rows = list()\n",
    "cols = ['sample-id', 'forward-path', 'reverse-path']\n",
    "df = samples_paths_df\n",
    "for i in range(0,len(df.index),2):\n",
    "    r1 = df.iloc[i,:]\n",
    "    r2 = df.iloc[i+1,:]\n",
    "    new_row = (r1[0], r1[1], r2[1])\n",
    "    rows.append(new_row)\n",
    "new_df = pd.DataFrame(rows, columns=cols)\n",
    "new_df['sample-id'] = new_df['sample-id'].astype('int64')\n",
    "print(new_df)"
   ]
  },
  {
   "cell_type": "code",
   "execution_count": 6,
   "id": "7f4f4ee7",
   "metadata": {
    "ExecuteTime": {
     "end_time": "2022-07-07T17:18:14.812016Z",
     "start_time": "2022-07-07T17:18:14.797139Z"
    }
   },
   "outputs": [
    {
     "name": "stdout",
     "output_type": "stream",
     "text": [
      "       sample-id sample-name  \\\n",
      "0   210421121673    #1 N9.01   \n",
      "1   210421121674   #2 N11.01   \n",
      "2   210421121675    #3 N9.05   \n",
      "3   210421121676   #4 N11.02   \n",
      "4   210421121677    #5 N9.03   \n",
      "..           ...         ...   \n",
      "69  210707163913  #70 7d.AM2   \n",
      "70  210707163914   #71 7d.C3   \n",
      "71  210707163915   #72 7d.M3   \n",
      "72  210707163916   #73 7d.A3   \n",
      "73  210707163917  #74 7d.AM3   \n",
      "\n",
      "                                         forward-path  \\\n",
      "0   /home/lauro/nupeb/dados_brutos_rede_genoma/dat...   \n",
      "1   /home/lauro/nupeb/dados_brutos_rede_genoma/dat...   \n",
      "2   /home/lauro/nupeb/dados_brutos_rede_genoma/dat...   \n",
      "3   /home/lauro/nupeb/dados_brutos_rede_genoma/dat...   \n",
      "4   /home/lauro/nupeb/dados_brutos_rede_genoma/dat...   \n",
      "..                                                ...   \n",
      "69  /home/lauro/nupeb/dados_brutos_rede_genoma/dat...   \n",
      "70  /home/lauro/nupeb/dados_brutos_rede_genoma/dat...   \n",
      "71  /home/lauro/nupeb/dados_brutos_rede_genoma/dat...   \n",
      "72  /home/lauro/nupeb/dados_brutos_rede_genoma/dat...   \n",
      "73  /home/lauro/nupeb/dados_brutos_rede_genoma/dat...   \n",
      "\n",
      "                                         reverse-path  \n",
      "0   /home/lauro/nupeb/dados_brutos_rede_genoma/dat...  \n",
      "1   /home/lauro/nupeb/dados_brutos_rede_genoma/dat...  \n",
      "2   /home/lauro/nupeb/dados_brutos_rede_genoma/dat...  \n",
      "3   /home/lauro/nupeb/dados_brutos_rede_genoma/dat...  \n",
      "4   /home/lauro/nupeb/dados_brutos_rede_genoma/dat...  \n",
      "..                                                ...  \n",
      "69  /home/lauro/nupeb/dados_brutos_rede_genoma/dat...  \n",
      "70  /home/lauro/nupeb/dados_brutos_rede_genoma/dat...  \n",
      "71  /home/lauro/nupeb/dados_brutos_rede_genoma/dat...  \n",
      "72  /home/lauro/nupeb/dados_brutos_rede_genoma/dat...  \n",
      "73  /home/lauro/nupeb/dados_brutos_rede_genoma/dat...  \n",
      "\n",
      "[74 rows x 4 columns]\n"
     ]
    }
   ],
   "source": [
    "joined_df = pd.concat([samples_names_df, new_df], axis=1)\n",
    "joined_df = joined_df.loc[:,~joined_df.columns.duplicated()].copy()\n",
    "print(joined_df)"
   ]
  },
  {
   "cell_type": "code",
   "execution_count": 7,
   "id": "b7a439f8",
   "metadata": {
    "ExecuteTime": {
     "end_time": "2022-07-07T17:18:14.827605Z",
     "start_time": "2022-07-07T17:18:14.813775Z"
    }
   },
   "outputs": [
    {
     "name": "stdout",
     "output_type": "stream",
     "text": [
      "       sample-id                                       forward-path  \\\n",
      "0   210421121673  /home/lauro/nupeb/dados_brutos_rede_genoma/dat...   \n",
      "1   210421121674  /home/lauro/nupeb/dados_brutos_rede_genoma/dat...   \n",
      "2   210421121675  /home/lauro/nupeb/dados_brutos_rede_genoma/dat...   \n",
      "3   210421121676  /home/lauro/nupeb/dados_brutos_rede_genoma/dat...   \n",
      "4   210421121677  /home/lauro/nupeb/dados_brutos_rede_genoma/dat...   \n",
      "..           ...                                                ...   \n",
      "69  210707163913  /home/lauro/nupeb/dados_brutos_rede_genoma/dat...   \n",
      "70  210707163914  /home/lauro/nupeb/dados_brutos_rede_genoma/dat...   \n",
      "71  210707163915  /home/lauro/nupeb/dados_brutos_rede_genoma/dat...   \n",
      "72  210707163916  /home/lauro/nupeb/dados_brutos_rede_genoma/dat...   \n",
      "73  210707163917  /home/lauro/nupeb/dados_brutos_rede_genoma/dat...   \n",
      "\n",
      "                                         reverse-path  \n",
      "0   /home/lauro/nupeb/dados_brutos_rede_genoma/dat...  \n",
      "1   /home/lauro/nupeb/dados_brutos_rede_genoma/dat...  \n",
      "2   /home/lauro/nupeb/dados_brutos_rede_genoma/dat...  \n",
      "3   /home/lauro/nupeb/dados_brutos_rede_genoma/dat...  \n",
      "4   /home/lauro/nupeb/dados_brutos_rede_genoma/dat...  \n",
      "..                                                ...  \n",
      "69  /home/lauro/nupeb/dados_brutos_rede_genoma/dat...  \n",
      "70  /home/lauro/nupeb/dados_brutos_rede_genoma/dat...  \n",
      "71  /home/lauro/nupeb/dados_brutos_rede_genoma/dat...  \n",
      "72  /home/lauro/nupeb/dados_brutos_rede_genoma/dat...  \n",
      "73  /home/lauro/nupeb/dados_brutos_rede_genoma/dat...  \n",
      "\n",
      "[74 rows x 3 columns]\n"
     ]
    }
   ],
   "source": [
    "manifest_df = joined_df[['sample-id', 'forward-path', 'reverse-path']]\n",
    "print(manifest_df)"
   ]
  },
  {
   "cell_type": "markdown",
   "id": "c08335a3",
   "metadata": {},
   "source": [
    "## Load data\n",
    "\n",
    "Save new manifest as a TSV file."
   ]
  },
  {
   "cell_type": "code",
   "execution_count": 8,
   "id": "06d934bf",
   "metadata": {
    "ExecuteTime": {
     "end_time": "2022-07-07T17:18:14.869755Z",
     "start_time": "2022-07-07T17:18:14.829188Z"
    }
   },
   "outputs": [],
   "source": [
    "manifest_df.to_csv(f'manifest-karina.csv', sep=',', index=False)"
   ]
  },
  {
   "cell_type": "markdown",
   "id": "8eeb30b4",
   "metadata": {},
   "source": [
    "### Data reduction\n",
    "\n",
    "Select context group samples."
   ]
  },
  {
   "cell_type": "code",
   "execution_count": 9,
   "id": "3aa60e84",
   "metadata": {
    "ExecuteTime": {
     "end_time": "2022-07-07T17:18:14.892432Z",
     "start_time": "2022-07-07T17:18:14.872198Z"
    }
   },
   "outputs": [
    {
     "data": {
      "text/html": [
       "<div>\n",
       "<style scoped>\n",
       "    .dataframe tbody tr th:only-of-type {\n",
       "        vertical-align: middle;\n",
       "    }\n",
       "\n",
       "    .dataframe tbody tr th {\n",
       "        vertical-align: top;\n",
       "    }\n",
       "\n",
       "    .dataframe thead th {\n",
       "        text-align: right;\n",
       "    }\n",
       "</style>\n",
       "<table border=\"1\" class=\"dataframe\">\n",
       "  <thead>\n",
       "    <tr style=\"text-align: right;\">\n",
       "      <th></th>\n",
       "      <th>sample-name</th>\n",
       "      <th>sample-group</th>\n",
       "      <th>sample-id</th>\n",
       "      <th>forward-path</th>\n",
       "      <th>reverse-path</th>\n",
       "    </tr>\n",
       "  </thead>\n",
       "  <tbody>\n",
       "    <tr>\n",
       "      <th>0</th>\n",
       "      <td>#5 N9.03</td>\n",
       "      <td>NR</td>\n",
       "      <td>210421121677</td>\n",
       "      <td>/home/lauro/nupeb/dados_brutos_rede_genoma/dat...</td>\n",
       "      <td>/home/lauro/nupeb/dados_brutos_rede_genoma/dat...</td>\n",
       "    </tr>\n",
       "    <tr>\n",
       "      <th>1</th>\n",
       "      <td>#6 N10.03</td>\n",
       "      <td>NR</td>\n",
       "      <td>210421121678</td>\n",
       "      <td>/home/lauro/nupeb/dados_brutos_rede_genoma/dat...</td>\n",
       "      <td>/home/lauro/nupeb/dados_brutos_rede_genoma/dat...</td>\n",
       "    </tr>\n",
       "    <tr>\n",
       "      <th>2</th>\n",
       "      <td>#7 N10.04</td>\n",
       "      <td>NR</td>\n",
       "      <td>210421121679</td>\n",
       "      <td>/home/lauro/nupeb/dados_brutos_rede_genoma/dat...</td>\n",
       "      <td>/home/lauro/nupeb/dados_brutos_rede_genoma/dat...</td>\n",
       "    </tr>\n",
       "    <tr>\n",
       "      <th>3</th>\n",
       "      <td>#8 N10.07</td>\n",
       "      <td>NR</td>\n",
       "      <td>210421121680</td>\n",
       "      <td>/home/lauro/nupeb/dados_brutos_rede_genoma/dat...</td>\n",
       "      <td>/home/lauro/nupeb/dados_brutos_rede_genoma/dat...</td>\n",
       "    </tr>\n",
       "    <tr>\n",
       "      <th>4</th>\n",
       "      <td>#9 N10.08</td>\n",
       "      <td>NR</td>\n",
       "      <td>210421121681</td>\n",
       "      <td>/home/lauro/nupeb/dados_brutos_rede_genoma/dat...</td>\n",
       "      <td>/home/lauro/nupeb/dados_brutos_rede_genoma/dat...</td>\n",
       "    </tr>\n",
       "    <tr>\n",
       "      <th>5</th>\n",
       "      <td>#1 N9.01</td>\n",
       "      <td>NC</td>\n",
       "      <td>210421121673</td>\n",
       "      <td>/home/lauro/nupeb/dados_brutos_rede_genoma/dat...</td>\n",
       "      <td>/home/lauro/nupeb/dados_brutos_rede_genoma/dat...</td>\n",
       "    </tr>\n",
       "    <tr>\n",
       "      <th>6</th>\n",
       "      <td>#2 N11.01</td>\n",
       "      <td>NC</td>\n",
       "      <td>210421121674</td>\n",
       "      <td>/home/lauro/nupeb/dados_brutos_rede_genoma/dat...</td>\n",
       "      <td>/home/lauro/nupeb/dados_brutos_rede_genoma/dat...</td>\n",
       "    </tr>\n",
       "    <tr>\n",
       "      <th>7</th>\n",
       "      <td>#3 N9.05</td>\n",
       "      <td>NC</td>\n",
       "      <td>210421121675</td>\n",
       "      <td>/home/lauro/nupeb/dados_brutos_rede_genoma/dat...</td>\n",
       "      <td>/home/lauro/nupeb/dados_brutos_rede_genoma/dat...</td>\n",
       "    </tr>\n",
       "    <tr>\n",
       "      <th>8</th>\n",
       "      <td>#4 N11.02</td>\n",
       "      <td>NC</td>\n",
       "      <td>210421121676</td>\n",
       "      <td>/home/lauro/nupeb/dados_brutos_rede_genoma/dat...</td>\n",
       "      <td>/home/lauro/nupeb/dados_brutos_rede_genoma/dat...</td>\n",
       "    </tr>\n",
       "  </tbody>\n",
       "</table>\n",
       "</div>"
      ],
      "text/plain": [
       "  sample-name sample-group     sample-id  \\\n",
       "0    #5 N9.03           NR  210421121677   \n",
       "1   #6 N10.03           NR  210421121678   \n",
       "2   #7 N10.04           NR  210421121679   \n",
       "3   #8 N10.07           NR  210421121680   \n",
       "4   #9 N10.08           NR  210421121681   \n",
       "5    #1 N9.01           NC  210421121673   \n",
       "6   #2 N11.01           NC  210421121674   \n",
       "7    #3 N9.05           NC  210421121675   \n",
       "8   #4 N11.02           NC  210421121676   \n",
       "\n",
       "                                        forward-path  \\\n",
       "0  /home/lauro/nupeb/dados_brutos_rede_genoma/dat...   \n",
       "1  /home/lauro/nupeb/dados_brutos_rede_genoma/dat...   \n",
       "2  /home/lauro/nupeb/dados_brutos_rede_genoma/dat...   \n",
       "3  /home/lauro/nupeb/dados_brutos_rede_genoma/dat...   \n",
       "4  /home/lauro/nupeb/dados_brutos_rede_genoma/dat...   \n",
       "5  /home/lauro/nupeb/dados_brutos_rede_genoma/dat...   \n",
       "6  /home/lauro/nupeb/dados_brutos_rede_genoma/dat...   \n",
       "7  /home/lauro/nupeb/dados_brutos_rede_genoma/dat...   \n",
       "8  /home/lauro/nupeb/dados_brutos_rede_genoma/dat...   \n",
       "\n",
       "                                        reverse-path  \n",
       "0  /home/lauro/nupeb/dados_brutos_rede_genoma/dat...  \n",
       "1  /home/lauro/nupeb/dados_brutos_rede_genoma/dat...  \n",
       "2  /home/lauro/nupeb/dados_brutos_rede_genoma/dat...  \n",
       "3  /home/lauro/nupeb/dados_brutos_rede_genoma/dat...  \n",
       "4  /home/lauro/nupeb/dados_brutos_rede_genoma/dat...  \n",
       "5  /home/lauro/nupeb/dados_brutos_rede_genoma/dat...  \n",
       "6  /home/lauro/nupeb/dados_brutos_rede_genoma/dat...  \n",
       "7  /home/lauro/nupeb/dados_brutos_rede_genoma/dat...  \n",
       "8  /home/lauro/nupeb/dados_brutos_rede_genoma/dat...  "
      ]
     },
     "execution_count": 9,
     "metadata": {},
     "output_type": "execute_result"
    }
   ],
   "source": [
    "study_groups_path = f'{study}.tsv'\n",
    "study_df = pd.read_csv(study_groups_path, sep='\\t')\n",
    "study_df = study_df.join(joined_df.set_index('sample-name'), on='sample-name')\n",
    "study_df"
   ]
  },
  {
   "cell_type": "code",
   "execution_count": 10,
   "id": "6a3cf7e8",
   "metadata": {
    "ExecuteTime": {
     "end_time": "2022-07-07T17:18:14.906854Z",
     "start_time": "2022-07-07T17:18:14.894592Z"
    }
   },
   "outputs": [
    {
     "data": {
      "text/html": [
       "<div>\n",
       "<style scoped>\n",
       "    .dataframe tbody tr th:only-of-type {\n",
       "        vertical-align: middle;\n",
       "    }\n",
       "\n",
       "    .dataframe tbody tr th {\n",
       "        vertical-align: top;\n",
       "    }\n",
       "\n",
       "    .dataframe thead th {\n",
       "        text-align: right;\n",
       "    }\n",
       "</style>\n",
       "<table border=\"1\" class=\"dataframe\">\n",
       "  <thead>\n",
       "    <tr style=\"text-align: right;\">\n",
       "      <th></th>\n",
       "      <th>sample-id</th>\n",
       "      <th>sample-name</th>\n",
       "      <th>sample-group</th>\n",
       "    </tr>\n",
       "  </thead>\n",
       "  <tbody>\n",
       "    <tr>\n",
       "      <th>0</th>\n",
       "      <td>210421121677</td>\n",
       "      <td>#5 N9.03</td>\n",
       "      <td>NR</td>\n",
       "    </tr>\n",
       "    <tr>\n",
       "      <th>1</th>\n",
       "      <td>210421121678</td>\n",
       "      <td>#6 N10.03</td>\n",
       "      <td>NR</td>\n",
       "    </tr>\n",
       "    <tr>\n",
       "      <th>2</th>\n",
       "      <td>210421121679</td>\n",
       "      <td>#7 N10.04</td>\n",
       "      <td>NR</td>\n",
       "    </tr>\n",
       "    <tr>\n",
       "      <th>3</th>\n",
       "      <td>210421121680</td>\n",
       "      <td>#8 N10.07</td>\n",
       "      <td>NR</td>\n",
       "    </tr>\n",
       "    <tr>\n",
       "      <th>4</th>\n",
       "      <td>210421121681</td>\n",
       "      <td>#9 N10.08</td>\n",
       "      <td>NR</td>\n",
       "    </tr>\n",
       "    <tr>\n",
       "      <th>5</th>\n",
       "      <td>210421121673</td>\n",
       "      <td>#1 N9.01</td>\n",
       "      <td>NC</td>\n",
       "    </tr>\n",
       "    <tr>\n",
       "      <th>6</th>\n",
       "      <td>210421121674</td>\n",
       "      <td>#2 N11.01</td>\n",
       "      <td>NC</td>\n",
       "    </tr>\n",
       "    <tr>\n",
       "      <th>7</th>\n",
       "      <td>210421121675</td>\n",
       "      <td>#3 N9.05</td>\n",
       "      <td>NC</td>\n",
       "    </tr>\n",
       "    <tr>\n",
       "      <th>8</th>\n",
       "      <td>210421121676</td>\n",
       "      <td>#4 N11.02</td>\n",
       "      <td>NC</td>\n",
       "    </tr>\n",
       "  </tbody>\n",
       "</table>\n",
       "</div>"
      ],
      "text/plain": [
       "      sample-id sample-name sample-group\n",
       "0  210421121677    #5 N9.03           NR\n",
       "1  210421121678   #6 N10.03           NR\n",
       "2  210421121679   #7 N10.04           NR\n",
       "3  210421121680   #8 N10.07           NR\n",
       "4  210421121681   #9 N10.08           NR\n",
       "5  210421121673    #1 N9.01           NC\n",
       "6  210421121674   #2 N11.01           NC\n",
       "7  210421121675    #3 N9.05           NC\n",
       "8  210421121676   #4 N11.02           NC"
      ]
     },
     "execution_count": 10,
     "metadata": {},
     "output_type": "execute_result"
    }
   ],
   "source": [
    "metadata_df = study_df[['sample-id', 'sample-name', 'sample-group']]\n",
    "metadata_df"
   ]
  },
  {
   "cell_type": "code",
   "execution_count": 11,
   "id": "f0c1ded6",
   "metadata": {
    "ExecuteTime": {
     "end_time": "2022-07-07T17:18:14.930095Z",
     "start_time": "2022-07-07T17:18:14.908573Z"
    }
   },
   "outputs": [
    {
     "name": "stderr",
     "output_type": "stream",
     "text": [
      "/home/lauro/anaconda3/envs/qiime2-2022.2/lib/python3.8/site-packages/pandas/core/frame.py:4441: SettingWithCopyWarning: \n",
      "A value is trying to be set on a copy of a slice from a DataFrame\n",
      "\n",
      "See the caveats in the documentation: https://pandas.pydata.org/pandas-docs/stable/user_guide/indexing.html#returning-a-view-versus-a-copy\n",
      "  return super().rename(\n"
     ]
    },
    {
     "data": {
      "text/html": [
       "<div>\n",
       "<style scoped>\n",
       "    .dataframe tbody tr th:only-of-type {\n",
       "        vertical-align: middle;\n",
       "    }\n",
       "\n",
       "    .dataframe tbody tr th {\n",
       "        vertical-align: top;\n",
       "    }\n",
       "\n",
       "    .dataframe thead tr th {\n",
       "        text-align: left;\n",
       "    }\n",
       "</style>\n",
       "<table border=\"1\" class=\"dataframe\">\n",
       "  <thead>\n",
       "    <tr>\n",
       "      <th></th>\n",
       "      <th>#SampleID</th>\n",
       "      <th>sample-name</th>\n",
       "      <th>sample-group</th>\n",
       "    </tr>\n",
       "    <tr>\n",
       "      <th></th>\n",
       "      <th>#q2:types</th>\n",
       "      <th>categorical</th>\n",
       "      <th>categorical</th>\n",
       "    </tr>\n",
       "  </thead>\n",
       "  <tbody>\n",
       "    <tr>\n",
       "      <th>0</th>\n",
       "      <td>210421121677</td>\n",
       "      <td>#5 N9.03</td>\n",
       "      <td>NR</td>\n",
       "    </tr>\n",
       "    <tr>\n",
       "      <th>1</th>\n",
       "      <td>210421121678</td>\n",
       "      <td>#6 N10.03</td>\n",
       "      <td>NR</td>\n",
       "    </tr>\n",
       "    <tr>\n",
       "      <th>2</th>\n",
       "      <td>210421121679</td>\n",
       "      <td>#7 N10.04</td>\n",
       "      <td>NR</td>\n",
       "    </tr>\n",
       "    <tr>\n",
       "      <th>3</th>\n",
       "      <td>210421121680</td>\n",
       "      <td>#8 N10.07</td>\n",
       "      <td>NR</td>\n",
       "    </tr>\n",
       "    <tr>\n",
       "      <th>4</th>\n",
       "      <td>210421121681</td>\n",
       "      <td>#9 N10.08</td>\n",
       "      <td>NR</td>\n",
       "    </tr>\n",
       "    <tr>\n",
       "      <th>5</th>\n",
       "      <td>210421121673</td>\n",
       "      <td>#1 N9.01</td>\n",
       "      <td>NC</td>\n",
       "    </tr>\n",
       "    <tr>\n",
       "      <th>6</th>\n",
       "      <td>210421121674</td>\n",
       "      <td>#2 N11.01</td>\n",
       "      <td>NC</td>\n",
       "    </tr>\n",
       "    <tr>\n",
       "      <th>7</th>\n",
       "      <td>210421121675</td>\n",
       "      <td>#3 N9.05</td>\n",
       "      <td>NC</td>\n",
       "    </tr>\n",
       "    <tr>\n",
       "      <th>8</th>\n",
       "      <td>210421121676</td>\n",
       "      <td>#4 N11.02</td>\n",
       "      <td>NC</td>\n",
       "    </tr>\n",
       "  </tbody>\n",
       "</table>\n",
       "</div>"
      ],
      "text/plain": [
       "      #SampleID sample-name sample-group\n",
       "      #q2:types categorical  categorical\n",
       "0  210421121677    #5 N9.03           NR\n",
       "1  210421121678   #6 N10.03           NR\n",
       "2  210421121679   #7 N10.04           NR\n",
       "3  210421121680   #8 N10.07           NR\n",
       "4  210421121681   #9 N10.08           NR\n",
       "5  210421121673    #1 N9.01           NC\n",
       "6  210421121674   #2 N11.01           NC\n",
       "7  210421121675    #3 N9.05           NC\n",
       "8  210421121676   #4 N11.02           NC"
      ]
     },
     "execution_count": 11,
     "metadata": {},
     "output_type": "execute_result"
    }
   ],
   "source": [
    "manifest_df = study_df[['sample-id', 'forward-path', 'reverse-path']]\n",
    "metadata_df.rename(columns = {'sample-id': '#SampleID'}, inplace=True)\n",
    "headers = [metadata_df.columns, ['#q2:types', 'categorical', 'categorical']]\n",
    "metadata_df.columns = headers\n",
    "metadata_df"
   ]
  },
  {
   "cell_type": "markdown",
   "id": "fde068ce",
   "metadata": {},
   "source": [
    "## Load Reduced Data"
   ]
  },
  {
   "cell_type": "code",
   "execution_count": 12,
   "id": "30499a8a",
   "metadata": {
    "ExecuteTime": {
     "end_time": "2022-07-07T17:18:14.936563Z",
     "start_time": "2022-07-07T17:18:14.931637Z"
    }
   },
   "outputs": [],
   "source": [
    "metadata_df.to_csv(f'metadata-{study}.tsv', sep='\\t', index=False)\n",
    "manifest_df.to_csv(f'manifest-{study}.csv', sep=',', index=False)"
   ]
  },
  {
   "cell_type": "code",
   "execution_count": 13,
   "id": "532edaf2",
   "metadata": {
    "ExecuteTime": {
     "end_time": "2022-07-07T17:18:14.960064Z",
     "start_time": "2022-07-07T17:18:14.938012Z"
    }
   },
   "outputs": [
    {
     "data": {
      "text/html": [
       "<div>\n",
       "<style scoped>\n",
       "    .dataframe tbody tr th:only-of-type {\n",
       "        vertical-align: middle;\n",
       "    }\n",
       "\n",
       "    .dataframe tbody tr th {\n",
       "        vertical-align: top;\n",
       "    }\n",
       "\n",
       "    .dataframe thead th {\n",
       "        text-align: right;\n",
       "    }\n",
       "</style>\n",
       "<table border=\"1\" class=\"dataframe\">\n",
       "  <thead>\n",
       "    <tr style=\"text-align: right;\">\n",
       "      <th></th>\n",
       "      <th>sample-id</th>\n",
       "      <th>absolute-filepath</th>\n",
       "      <th>direction</th>\n",
       "    </tr>\n",
       "  </thead>\n",
       "  <tbody>\n",
       "    <tr>\n",
       "      <th>0</th>\n",
       "      <td>210421121673</td>\n",
       "      <td>/home/lauro/nupeb/dados_brutos_rede_genoma/dat...</td>\n",
       "      <td>forward</td>\n",
       "    </tr>\n",
       "    <tr>\n",
       "      <th>1</th>\n",
       "      <td>210421121673</td>\n",
       "      <td>/home/lauro/nupeb/dados_brutos_rede_genoma/dat...</td>\n",
       "      <td>reverse</td>\n",
       "    </tr>\n",
       "    <tr>\n",
       "      <th>2</th>\n",
       "      <td>210421121674</td>\n",
       "      <td>/home/lauro/nupeb/dados_brutos_rede_genoma/dat...</td>\n",
       "      <td>forward</td>\n",
       "    </tr>\n",
       "    <tr>\n",
       "      <th>3</th>\n",
       "      <td>210421121674</td>\n",
       "      <td>/home/lauro/nupeb/dados_brutos_rede_genoma/dat...</td>\n",
       "      <td>reverse</td>\n",
       "    </tr>\n",
       "    <tr>\n",
       "      <th>4</th>\n",
       "      <td>210421121675</td>\n",
       "      <td>/home/lauro/nupeb/dados_brutos_rede_genoma/dat...</td>\n",
       "      <td>forward</td>\n",
       "    </tr>\n",
       "    <tr>\n",
       "      <th>5</th>\n",
       "      <td>210421121675</td>\n",
       "      <td>/home/lauro/nupeb/dados_brutos_rede_genoma/dat...</td>\n",
       "      <td>reverse</td>\n",
       "    </tr>\n",
       "    <tr>\n",
       "      <th>6</th>\n",
       "      <td>210421121676</td>\n",
       "      <td>/home/lauro/nupeb/dados_brutos_rede_genoma/dat...</td>\n",
       "      <td>forward</td>\n",
       "    </tr>\n",
       "    <tr>\n",
       "      <th>7</th>\n",
       "      <td>210421121676</td>\n",
       "      <td>/home/lauro/nupeb/dados_brutos_rede_genoma/dat...</td>\n",
       "      <td>reverse</td>\n",
       "    </tr>\n",
       "    <tr>\n",
       "      <th>8</th>\n",
       "      <td>210421121677</td>\n",
       "      <td>/home/lauro/nupeb/dados_brutos_rede_genoma/dat...</td>\n",
       "      <td>forward</td>\n",
       "    </tr>\n",
       "    <tr>\n",
       "      <th>9</th>\n",
       "      <td>210421121677</td>\n",
       "      <td>/home/lauro/nupeb/dados_brutos_rede_genoma/dat...</td>\n",
       "      <td>reverse</td>\n",
       "    </tr>\n",
       "    <tr>\n",
       "      <th>10</th>\n",
       "      <td>210421121678</td>\n",
       "      <td>/home/lauro/nupeb/dados_brutos_rede_genoma/dat...</td>\n",
       "      <td>forward</td>\n",
       "    </tr>\n",
       "    <tr>\n",
       "      <th>11</th>\n",
       "      <td>210421121678</td>\n",
       "      <td>/home/lauro/nupeb/dados_brutos_rede_genoma/dat...</td>\n",
       "      <td>reverse</td>\n",
       "    </tr>\n",
       "    <tr>\n",
       "      <th>12</th>\n",
       "      <td>210421121679</td>\n",
       "      <td>/home/lauro/nupeb/dados_brutos_rede_genoma/dat...</td>\n",
       "      <td>forward</td>\n",
       "    </tr>\n",
       "    <tr>\n",
       "      <th>13</th>\n",
       "      <td>210421121679</td>\n",
       "      <td>/home/lauro/nupeb/dados_brutos_rede_genoma/dat...</td>\n",
       "      <td>reverse</td>\n",
       "    </tr>\n",
       "    <tr>\n",
       "      <th>14</th>\n",
       "      <td>210421121680</td>\n",
       "      <td>/home/lauro/nupeb/dados_brutos_rede_genoma/dat...</td>\n",
       "      <td>forward</td>\n",
       "    </tr>\n",
       "    <tr>\n",
       "      <th>15</th>\n",
       "      <td>210421121680</td>\n",
       "      <td>/home/lauro/nupeb/dados_brutos_rede_genoma/dat...</td>\n",
       "      <td>reverse</td>\n",
       "    </tr>\n",
       "    <tr>\n",
       "      <th>16</th>\n",
       "      <td>210421121681</td>\n",
       "      <td>/home/lauro/nupeb/dados_brutos_rede_genoma/dat...</td>\n",
       "      <td>forward</td>\n",
       "    </tr>\n",
       "    <tr>\n",
       "      <th>17</th>\n",
       "      <td>210421121681</td>\n",
       "      <td>/home/lauro/nupeb/dados_brutos_rede_genoma/dat...</td>\n",
       "      <td>reverse</td>\n",
       "    </tr>\n",
       "  </tbody>\n",
       "</table>\n",
       "</div>"
      ],
      "text/plain": [
       "       sample-id                                  absolute-filepath direction\n",
       "0   210421121673  /home/lauro/nupeb/dados_brutos_rede_genoma/dat...   forward\n",
       "1   210421121673  /home/lauro/nupeb/dados_brutos_rede_genoma/dat...   reverse\n",
       "2   210421121674  /home/lauro/nupeb/dados_brutos_rede_genoma/dat...   forward\n",
       "3   210421121674  /home/lauro/nupeb/dados_brutos_rede_genoma/dat...   reverse\n",
       "4   210421121675  /home/lauro/nupeb/dados_brutos_rede_genoma/dat...   forward\n",
       "5   210421121675  /home/lauro/nupeb/dados_brutos_rede_genoma/dat...   reverse\n",
       "6   210421121676  /home/lauro/nupeb/dados_brutos_rede_genoma/dat...   forward\n",
       "7   210421121676  /home/lauro/nupeb/dados_brutos_rede_genoma/dat...   reverse\n",
       "8   210421121677  /home/lauro/nupeb/dados_brutos_rede_genoma/dat...   forward\n",
       "9   210421121677  /home/lauro/nupeb/dados_brutos_rede_genoma/dat...   reverse\n",
       "10  210421121678  /home/lauro/nupeb/dados_brutos_rede_genoma/dat...   forward\n",
       "11  210421121678  /home/lauro/nupeb/dados_brutos_rede_genoma/dat...   reverse\n",
       "12  210421121679  /home/lauro/nupeb/dados_brutos_rede_genoma/dat...   forward\n",
       "13  210421121679  /home/lauro/nupeb/dados_brutos_rede_genoma/dat...   reverse\n",
       "14  210421121680  /home/lauro/nupeb/dados_brutos_rede_genoma/dat...   forward\n",
       "15  210421121680  /home/lauro/nupeb/dados_brutos_rede_genoma/dat...   reverse\n",
       "16  210421121681  /home/lauro/nupeb/dados_brutos_rede_genoma/dat...   forward\n",
       "17  210421121681  /home/lauro/nupeb/dados_brutos_rede_genoma/dat...   reverse"
      ]
     },
     "execution_count": 13,
     "metadata": {},
     "output_type": "execute_result"
    }
   ],
   "source": [
    "manifest_02_df = samples_paths_df[samples_paths_df['sample-id'].isin(manifest_df['sample-id'])]\n",
    "manifest_02_df"
   ]
  },
  {
   "cell_type": "code",
   "execution_count": 14,
   "id": "90d5e27e",
   "metadata": {
    "ExecuteTime": {
     "end_time": "2022-07-07T17:18:14.973503Z",
     "start_time": "2022-07-07T17:18:14.961520Z"
    }
   },
   "outputs": [],
   "source": [
    "manifest_02_df.to_csv(f'manifest-02-{study}.csv', sep=',', index=False)"
   ]
  }
 ],
 "metadata": {
  "kernelspec": {
   "display_name": "Python 3 (ipykernel)",
   "language": "python",
   "name": "python3"
  },
  "language_info": {
   "codemirror_mode": {
    "name": "ipython",
    "version": 3
   },
   "file_extension": ".py",
   "mimetype": "text/x-python",
   "name": "python",
   "nbconvert_exporter": "python",
   "pygments_lexer": "ipython3",
   "version": "3.8.12"
  }
 },
 "nbformat": 4,
 "nbformat_minor": 5
}
