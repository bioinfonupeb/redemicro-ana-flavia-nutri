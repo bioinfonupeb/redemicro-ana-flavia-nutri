{
 "cells": [
  {
   "cell_type": "markdown",
   "metadata": {
    "pycharm": {
     "name": "#%% md\n"
    }
   },
   "source": [
    "### STEP : Abundance Analysis\n",
    "#### Taxonomic assignment with Silva 16S\n",
    "\n",
    "Using Silva 16S classifier for Qiime2. List with all [classifiers](https://docs.qiime2.org/2020.6/data-resources/). \n",
    "\n",
    "#### Versions \n",
    "- [Silva 138 99% OTUs full-length sequences](https://data.qiime2.org/2020.6/common/silva-138-99-nb-classifier.qza)\n",
    "- [Silva 138 99% OTUs from 515F/806R region of sequences](https://data.qiime2.org/2020.6/common/silva-138-99-515-806-nb-classifier.qza)\n",
    "- [Greengenes 13_8 99% OTUs full-length sequences](https://data.qiime2.org/2020.6/common/gg-13-8-99-nb-classifier.qza)\n",
    "- [Greengenes 13_8 99% OTUs from 515F/806R region of sequences](https://data.qiime2.org/2020.6/common/gg-13-8-99-515-806-nb-classifier.qza)\n",
    "\n",
    "#### Methods\n",
    "- [qiime feature-classifier](https://docs.qiime2.org/2022.2/plugins/available/feature-classifier/)\n",
    "- [qiime feature-classifier classify-sklearn](https://docs.qiime2.org/2021.8/plugins/available/feature-classifier/classify-sklearn)\n",
    "- [qiime metadata](https://docs.qiime2.org/2022.2/plugins/available/metadata/)\n",
    "- [classify-hybrid-vsearch-sklearn](https://docs.qiime2.org/2022.2/plugins/available/feature-classifier/classify-hybrid-vsearch-sklearn/)\n",
    "- [qiime metadata tabulate](https://docs.qiime2.org/2022.2/plugins/available/metadata/tabulate/)\n",
    "- [qiime taxa](https://docs.qiime2.org/2022.2/plugins/available/taxa/)\n",
    "- [qiime taxa barplot](https://docs.qiime2.org/2022.2/plugins/available/taxa/barplot/)"
   ]
  },
  {
   "cell_type": "markdown",
   "metadata": {
    "pycharm": {
     "name": "#%% md\n"
    }
   },
   "source": [
    "## Setup and settings"
   ]
  },
  {
   "cell_type": "code",
   "execution_count": 1,
   "metadata": {
    "ExecuteTime": {
     "end_time": "2022-07-07T20:19:49.683319Z",
     "start_time": "2022-07-07T20:19:43.065728Z"
    },
    "pycharm": {
     "name": "#%%\n"
    }
   },
   "outputs": [],
   "source": [
    "# Importing packages\n",
    "import os\n",
    "import pandas as pd\n",
    "from qiime2 import Artifact\n",
    "from qiime2 import Visualization\n",
    "from qiime2 import Metadata\n",
    "\n",
    "from qiime2.plugins.feature_table.methods import group\n",
    "from qiime2.plugins.taxa.methods import collapse\n",
    "\n",
    "import matplotlib.pyplot as plt\n",
    "\n",
    "from utils import *\n",
    "\n",
    "%matplotlib inline"
   ]
  },
  {
   "cell_type": "code",
   "execution_count": 2,
   "metadata": {
    "ExecuteTime": {
     "end_time": "2022-07-07T20:19:49.688011Z",
     "start_time": "2022-07-07T20:19:49.685426Z"
    },
    "pycharm": {
     "name": "#%%\n"
    }
   },
   "outputs": [],
   "source": [
    "# from qiime2.plugins import demux, deblur, quality_filter, \\\n",
    "#                            metadata, feature_table, alignment, \\\n",
    "#                            phylogeny, diversity, emperor, feature_classifier, \\\n",
    "#                            taxa, composition"
   ]
  },
  {
   "cell_type": "markdown",
   "metadata": {
    "pycharm": {
     "name": "#%% md\n"
    }
   },
   "source": [
    "### Receiving the parameters\n",
    "\n",
    "The following cell can receive parameters using the [papermill](https://papermill.readthedocs.io/en/latest/) tool."
   ]
  },
  {
   "cell_type": "code",
   "execution_count": 3,
   "metadata": {
    "ExecuteTime": {
     "end_time": "2022-07-07T20:19:49.731082Z",
     "start_time": "2022-07-07T20:19:49.689243Z"
    },
    "pycharm": {
     "name": "#%%\n"
    },
    "tags": [
     "parameters"
    ]
   },
   "outputs": [],
   "source": [
    "experiment_name = 'ana-flavia-hipotese-01'\n",
    "base_dir = '/home/lauro/nupeb/redemicro'\n",
    "metadata_file = '/home/lauro/nupeb/redemicro/experiments/ana-flavia-superlactacao/metadata-ana-flavia-hipotese-01.tsv'\n",
    "class_col = 'sample-group'\n",
    "replace_files = False"
   ]
  },
  {
   "cell_type": "code",
   "execution_count": 4,
   "metadata": {
    "ExecuteTime": {
     "end_time": "2022-07-07T20:19:49.749793Z",
     "start_time": "2022-07-07T20:19:49.732902Z"
    }
   },
   "outputs": [],
   "source": [
    "experiment_folder = os.path.abspath(os.path.join(base_dir, 'experiments', experiment_name))\n",
    "img_folder = os.path.abspath(os.path.join(experiment_folder, 'imgs'))"
   ]
  },
  {
   "cell_type": "markdown",
   "metadata": {
    "pycharm": {
     "name": "#%% md\n"
    }
   },
   "source": [
    "### Defining names, paths and flags"
   ]
  },
  {
   "cell_type": "code",
   "execution_count": 5,
   "metadata": {
    "ExecuteTime": {
     "end_time": "2022-07-07T20:19:49.784546Z",
     "start_time": "2022-07-07T20:19:49.750989Z"
    },
    "pycharm": {
     "name": "#%%\n"
    }
   },
   "outputs": [],
   "source": [
    "# QIIME2 Artifacts folder\n",
    "qiime_folder = os.path.join(experiment_folder, 'qiime-artifacts')\n",
    "\n",
    "# Input - DADA2 Artifacts\n",
    "dada2_tabs_path = os.path.join(qiime_folder, 'dada2-tabs.qza')\n",
    "dada2_reps_path = os.path.join(qiime_folder, 'dada2-reps.qza')\n",
    "dada2_stat_path = os.path.join(qiime_folder, 'dada2-stat.qza')\n",
    "\n",
    "# Input - Metataxonomy Artifacts\n",
    "metatax_path = os.path.join(qiime_folder, 'metatax.qza')\n",
    "# metatax_view_path = os.path.join(qiime_folder, 'metatax.qzv')\n",
    "# metatax_bar_path = os.path.join(qiime_folder, 'metatax-bar.qzv')\n",
    "\n",
    "# Flag - Load or create files\n",
    "need_tax = not (os.path.isfile(metatax_path)) or replace_files"
   ]
  },
  {
   "cell_type": "markdown",
   "metadata": {
    "pycharm": {
     "name": "#%% md\n"
    }
   },
   "source": [
    "## Step execution\n",
    "\n",
    "### Load input files\n",
    "\n",
    "This Step import the QIIME2 `SampleData[PairedEndSequencesWithQuality]` Artifact with all demultiplexed sequences and the `Metadata` file."
   ]
  },
  {
   "cell_type": "code",
   "execution_count": 6,
   "metadata": {
    "ExecuteTime": {
     "end_time": "2022-07-07T20:19:49.803671Z",
     "start_time": "2022-07-07T20:19:49.786202Z"
    },
    "pycharm": {
     "name": "#%%\n"
    }
   },
   "outputs": [],
   "source": [
    "#Load Metadata\n",
    "metadata_qa = Metadata.load(metadata_file)"
   ]
  },
  {
   "cell_type": "code",
   "execution_count": 7,
   "metadata": {
    "ExecuteTime": {
     "end_time": "2022-07-07T20:19:50.062592Z",
     "start_time": "2022-07-07T20:19:49.805351Z"
    },
    "pycharm": {
     "name": "#%%\n"
    }
   },
   "outputs": [],
   "source": [
    "metatax = Artifact.load(metatax_path)\n",
    "metatax_df = metatax.view(Metadata).to_dataframe()\n",
    "metatax_df['Confidence'] = metatax_df['Confidence'].astype('float32')\n",
    "\n",
    "tabs = Artifact.load(dada2_tabs_path)\n",
    "tabs_df = tabs.view(Metadata).to_dataframe().T"
   ]
  },
  {
   "cell_type": "code",
   "execution_count": 8,
   "metadata": {
    "ExecuteTime": {
     "end_time": "2022-07-07T20:19:50.081264Z",
     "start_time": "2022-07-07T20:19:50.064349Z"
    },
    "pycharm": {
     "name": "#%%\n"
    }
   },
   "outputs": [],
   "source": [
    "tax_levels = ['Reino', 'Filo', 'Classe', 'Ordem', 'Família', 'Gênero', 'Espécie']\n",
    "taxons_col = metatax_df['Taxon']\n",
    "metatax_split_df = pd.DataFrame(columns=tax_levels)\n",
    "metatax_split_df[tax_levels] = taxons_col.str.split(';', expand=True)\n",
    "for t in tax_levels:\n",
    "    metatax_split_df[t] = metatax_split_df[t].str.strip()"
   ]
  },
  {
   "cell_type": "code",
   "execution_count": 9,
   "metadata": {
    "ExecuteTime": {
     "end_time": "2022-07-07T20:19:50.112971Z",
     "start_time": "2022-07-07T20:19:50.083982Z"
    },
    "pycharm": {
     "name": "#%%\n"
    }
   },
   "outputs": [
    {
     "data": {
      "text/html": [
       "<div>\n",
       "<style scoped>\n",
       "    .dataframe tbody tr th:only-of-type {\n",
       "        vertical-align: middle;\n",
       "    }\n",
       "\n",
       "    .dataframe tbody tr th {\n",
       "        vertical-align: top;\n",
       "    }\n",
       "\n",
       "    .dataframe thead th {\n",
       "        text-align: right;\n",
       "    }\n",
       "</style>\n",
       "<table border=\"1\" class=\"dataframe\">\n",
       "  <thead>\n",
       "    <tr style=\"text-align: right;\">\n",
       "      <th></th>\n",
       "      <th>210421121673</th>\n",
       "      <th>210421121674</th>\n",
       "      <th>210421121675</th>\n",
       "      <th>210421121676</th>\n",
       "      <th>210421121677</th>\n",
       "      <th>210421121678</th>\n",
       "      <th>210421121679</th>\n",
       "      <th>210421121680</th>\n",
       "      <th>210421121681</th>\n",
       "      <th>Reino</th>\n",
       "      <th>Filo</th>\n",
       "      <th>Classe</th>\n",
       "      <th>Ordem</th>\n",
       "      <th>Família</th>\n",
       "      <th>Gênero</th>\n",
       "      <th>Espécie</th>\n",
       "    </tr>\n",
       "  </thead>\n",
       "  <tbody>\n",
       "    <tr>\n",
       "      <th>640eca1305ad0fe51b1a4d981b97cf21</th>\n",
       "      <td>0.0</td>\n",
       "      <td>0.0</td>\n",
       "      <td>2687.0</td>\n",
       "      <td>0.0</td>\n",
       "      <td>0.0</td>\n",
       "      <td>0.0</td>\n",
       "      <td>2665.0</td>\n",
       "      <td>4190.0</td>\n",
       "      <td>0.0</td>\n",
       "      <td>d__Bacteria</td>\n",
       "      <td>p__Bacteroidota</td>\n",
       "      <td>c__Bacteroidia</td>\n",
       "      <td>o__Bacteroidales</td>\n",
       "      <td>f__Muribaculaceae</td>\n",
       "      <td>g__Muribaculaceae</td>\n",
       "      <td>s__uncultured_bacterium</td>\n",
       "    </tr>\n",
       "    <tr>\n",
       "      <th>aeb100121ba5065dd71cd88248f1b4db</th>\n",
       "      <td>0.0</td>\n",
       "      <td>0.0</td>\n",
       "      <td>1541.0</td>\n",
       "      <td>1422.0</td>\n",
       "      <td>0.0</td>\n",
       "      <td>0.0</td>\n",
       "      <td>1911.0</td>\n",
       "      <td>1783.0</td>\n",
       "      <td>0.0</td>\n",
       "      <td>d__Bacteria</td>\n",
       "      <td>p__Bacteroidota</td>\n",
       "      <td>c__Bacteroidia</td>\n",
       "      <td>o__Bacteroidales</td>\n",
       "      <td>f__Muribaculaceae</td>\n",
       "      <td>g__Muribaculaceae</td>\n",
       "      <td>s__uncultured_bacterium</td>\n",
       "    </tr>\n",
       "    <tr>\n",
       "      <th>68e2e8b42d7fa551b7d9113a8ba0b103</th>\n",
       "      <td>1117.0</td>\n",
       "      <td>511.0</td>\n",
       "      <td>0.0</td>\n",
       "      <td>1266.0</td>\n",
       "      <td>0.0</td>\n",
       "      <td>0.0</td>\n",
       "      <td>0.0</td>\n",
       "      <td>1520.0</td>\n",
       "      <td>807.0</td>\n",
       "      <td>d__Bacteria</td>\n",
       "      <td>p__Bacteroidota</td>\n",
       "      <td>c__Bacteroidia</td>\n",
       "      <td>o__Bacteroidales</td>\n",
       "      <td>f__Muribaculaceae</td>\n",
       "      <td>g__Muribaculaceae</td>\n",
       "      <td>s__uncultured_bacterium</td>\n",
       "    </tr>\n",
       "    <tr>\n",
       "      <th>a1f78eba8fcf70b294acf1d5c912446e</th>\n",
       "      <td>0.0</td>\n",
       "      <td>987.0</td>\n",
       "      <td>792.0</td>\n",
       "      <td>219.0</td>\n",
       "      <td>1225.0</td>\n",
       "      <td>1500.0</td>\n",
       "      <td>0.0</td>\n",
       "      <td>207.0</td>\n",
       "      <td>0.0</td>\n",
       "      <td>d__Bacteria</td>\n",
       "      <td>p__Bacteroidota</td>\n",
       "      <td>c__Bacteroidia</td>\n",
       "      <td>o__Bacteroidales</td>\n",
       "      <td>f__Muribaculaceae</td>\n",
       "      <td>g__Muribaculaceae</td>\n",
       "      <td>s__uncultured_bacterium</td>\n",
       "    </tr>\n",
       "    <tr>\n",
       "      <th>b9844b8c59ae0915d46e6d8f05a0365d</th>\n",
       "      <td>0.0</td>\n",
       "      <td>1346.0</td>\n",
       "      <td>0.0</td>\n",
       "      <td>755.0</td>\n",
       "      <td>0.0</td>\n",
       "      <td>801.0</td>\n",
       "      <td>501.0</td>\n",
       "      <td>1012.0</td>\n",
       "      <td>238.0</td>\n",
       "      <td>d__Bacteria</td>\n",
       "      <td>p__Bacteroidota</td>\n",
       "      <td>c__Bacteroidia</td>\n",
       "      <td>o__Bacteroidales</td>\n",
       "      <td>f__Bacteroidaceae</td>\n",
       "      <td>g__Bacteroides</td>\n",
       "      <td>s__Bacteroides_fragilis</td>\n",
       "    </tr>\n",
       "    <tr>\n",
       "      <th>...</th>\n",
       "      <td>...</td>\n",
       "      <td>...</td>\n",
       "      <td>...</td>\n",
       "      <td>...</td>\n",
       "      <td>...</td>\n",
       "      <td>...</td>\n",
       "      <td>...</td>\n",
       "      <td>...</td>\n",
       "      <td>...</td>\n",
       "      <td>...</td>\n",
       "      <td>...</td>\n",
       "      <td>...</td>\n",
       "      <td>...</td>\n",
       "      <td>...</td>\n",
       "      <td>...</td>\n",
       "      <td>...</td>\n",
       "    </tr>\n",
       "    <tr>\n",
       "      <th>b41e1ddb743af8b208e17456dbf5fae2</th>\n",
       "      <td>0.0</td>\n",
       "      <td>0.0</td>\n",
       "      <td>0.0</td>\n",
       "      <td>0.0</td>\n",
       "      <td>0.0</td>\n",
       "      <td>0.0</td>\n",
       "      <td>0.0</td>\n",
       "      <td>2.0</td>\n",
       "      <td>0.0</td>\n",
       "      <td>d__Bacteria</td>\n",
       "      <td>p__Patescibacteria</td>\n",
       "      <td>c__Saccharimonadia</td>\n",
       "      <td>o__Saccharimonadales</td>\n",
       "      <td>f__Saccharimonadaceae</td>\n",
       "      <td>g__Candidatus_Saccharimonas</td>\n",
       "      <td>s__uncultured_bacterium</td>\n",
       "    </tr>\n",
       "    <tr>\n",
       "      <th>9feb320c25366f62d27bc6a70e6e0cd4</th>\n",
       "      <td>0.0</td>\n",
       "      <td>0.0</td>\n",
       "      <td>0.0</td>\n",
       "      <td>1.0</td>\n",
       "      <td>0.0</td>\n",
       "      <td>0.0</td>\n",
       "      <td>0.0</td>\n",
       "      <td>0.0</td>\n",
       "      <td>0.0</td>\n",
       "      <td>d__Bacteria</td>\n",
       "      <td>p__Firmicutes</td>\n",
       "      <td>c__Bacilli</td>\n",
       "      <td>o__Lactobacillales</td>\n",
       "      <td>f__Lactobacillaceae</td>\n",
       "      <td>g__Lactobacillus</td>\n",
       "      <td>None</td>\n",
       "    </tr>\n",
       "    <tr>\n",
       "      <th>a5520daef5a19f5a11cedd71e4ae1c94</th>\n",
       "      <td>0.0</td>\n",
       "      <td>0.0</td>\n",
       "      <td>0.0</td>\n",
       "      <td>1.0</td>\n",
       "      <td>0.0</td>\n",
       "      <td>0.0</td>\n",
       "      <td>0.0</td>\n",
       "      <td>0.0</td>\n",
       "      <td>0.0</td>\n",
       "      <td>d__Bacteria</td>\n",
       "      <td>p__Bacteroidota</td>\n",
       "      <td>c__Bacteroidia</td>\n",
       "      <td>o__Bacteroidales</td>\n",
       "      <td>f__Muribaculaceae</td>\n",
       "      <td>g__Muribaculaceae</td>\n",
       "      <td>s__uncultured_bacterium</td>\n",
       "    </tr>\n",
       "    <tr>\n",
       "      <th>379a2e55202924502b84486c54c3e0d4</th>\n",
       "      <td>0.0</td>\n",
       "      <td>0.0</td>\n",
       "      <td>0.0</td>\n",
       "      <td>0.0</td>\n",
       "      <td>0.0</td>\n",
       "      <td>0.0</td>\n",
       "      <td>0.0</td>\n",
       "      <td>1.0</td>\n",
       "      <td>0.0</td>\n",
       "      <td>d__Bacteria</td>\n",
       "      <td>p__Bacteroidota</td>\n",
       "      <td>c__Bacteroidia</td>\n",
       "      <td>o__Bacteroidales</td>\n",
       "      <td>f__Muribaculaceae</td>\n",
       "      <td>g__Muribaculaceae</td>\n",
       "      <td>s__uncultured_bacterium</td>\n",
       "    </tr>\n",
       "    <tr>\n",
       "      <th>e9783139e2785a41acdb72f93f61ab7b</th>\n",
       "      <td>0.0</td>\n",
       "      <td>0.0</td>\n",
       "      <td>0.0</td>\n",
       "      <td>0.0</td>\n",
       "      <td>0.0</td>\n",
       "      <td>0.0</td>\n",
       "      <td>0.0</td>\n",
       "      <td>0.0</td>\n",
       "      <td>1.0</td>\n",
       "      <td>d__Bacteria</td>\n",
       "      <td>p__Bacteroidota</td>\n",
       "      <td>c__Bacteroidia</td>\n",
       "      <td>o__Bacteroidales</td>\n",
       "      <td>f__Bacteroidaceae</td>\n",
       "      <td>g__Bacteroides</td>\n",
       "      <td>None</td>\n",
       "    </tr>\n",
       "  </tbody>\n",
       "</table>\n",
       "<p>567 rows × 16 columns</p>\n",
       "</div>"
      ],
      "text/plain": [
       "                                  210421121673  210421121674  210421121675  \\\n",
       "640eca1305ad0fe51b1a4d981b97cf21           0.0           0.0        2687.0   \n",
       "aeb100121ba5065dd71cd88248f1b4db           0.0           0.0        1541.0   \n",
       "68e2e8b42d7fa551b7d9113a8ba0b103        1117.0         511.0           0.0   \n",
       "a1f78eba8fcf70b294acf1d5c912446e           0.0         987.0         792.0   \n",
       "b9844b8c59ae0915d46e6d8f05a0365d           0.0        1346.0           0.0   \n",
       "...                                        ...           ...           ...   \n",
       "b41e1ddb743af8b208e17456dbf5fae2           0.0           0.0           0.0   \n",
       "9feb320c25366f62d27bc6a70e6e0cd4           0.0           0.0           0.0   \n",
       "a5520daef5a19f5a11cedd71e4ae1c94           0.0           0.0           0.0   \n",
       "379a2e55202924502b84486c54c3e0d4           0.0           0.0           0.0   \n",
       "e9783139e2785a41acdb72f93f61ab7b           0.0           0.0           0.0   \n",
       "\n",
       "                                  210421121676  210421121677  210421121678  \\\n",
       "640eca1305ad0fe51b1a4d981b97cf21           0.0           0.0           0.0   \n",
       "aeb100121ba5065dd71cd88248f1b4db        1422.0           0.0           0.0   \n",
       "68e2e8b42d7fa551b7d9113a8ba0b103        1266.0           0.0           0.0   \n",
       "a1f78eba8fcf70b294acf1d5c912446e         219.0        1225.0        1500.0   \n",
       "b9844b8c59ae0915d46e6d8f05a0365d         755.0           0.0         801.0   \n",
       "...                                        ...           ...           ...   \n",
       "b41e1ddb743af8b208e17456dbf5fae2           0.0           0.0           0.0   \n",
       "9feb320c25366f62d27bc6a70e6e0cd4           1.0           0.0           0.0   \n",
       "a5520daef5a19f5a11cedd71e4ae1c94           1.0           0.0           0.0   \n",
       "379a2e55202924502b84486c54c3e0d4           0.0           0.0           0.0   \n",
       "e9783139e2785a41acdb72f93f61ab7b           0.0           0.0           0.0   \n",
       "\n",
       "                                  210421121679  210421121680  210421121681  \\\n",
       "640eca1305ad0fe51b1a4d981b97cf21        2665.0        4190.0           0.0   \n",
       "aeb100121ba5065dd71cd88248f1b4db        1911.0        1783.0           0.0   \n",
       "68e2e8b42d7fa551b7d9113a8ba0b103           0.0        1520.0         807.0   \n",
       "a1f78eba8fcf70b294acf1d5c912446e           0.0         207.0           0.0   \n",
       "b9844b8c59ae0915d46e6d8f05a0365d         501.0        1012.0         238.0   \n",
       "...                                        ...           ...           ...   \n",
       "b41e1ddb743af8b208e17456dbf5fae2           0.0           2.0           0.0   \n",
       "9feb320c25366f62d27bc6a70e6e0cd4           0.0           0.0           0.0   \n",
       "a5520daef5a19f5a11cedd71e4ae1c94           0.0           0.0           0.0   \n",
       "379a2e55202924502b84486c54c3e0d4           0.0           1.0           0.0   \n",
       "e9783139e2785a41acdb72f93f61ab7b           0.0           0.0           1.0   \n",
       "\n",
       "                                        Reino                Filo  \\\n",
       "640eca1305ad0fe51b1a4d981b97cf21  d__Bacteria     p__Bacteroidota   \n",
       "aeb100121ba5065dd71cd88248f1b4db  d__Bacteria     p__Bacteroidota   \n",
       "68e2e8b42d7fa551b7d9113a8ba0b103  d__Bacteria     p__Bacteroidota   \n",
       "a1f78eba8fcf70b294acf1d5c912446e  d__Bacteria     p__Bacteroidota   \n",
       "b9844b8c59ae0915d46e6d8f05a0365d  d__Bacteria     p__Bacteroidota   \n",
       "...                                       ...                 ...   \n",
       "b41e1ddb743af8b208e17456dbf5fae2  d__Bacteria  p__Patescibacteria   \n",
       "9feb320c25366f62d27bc6a70e6e0cd4  d__Bacteria       p__Firmicutes   \n",
       "a5520daef5a19f5a11cedd71e4ae1c94  d__Bacteria     p__Bacteroidota   \n",
       "379a2e55202924502b84486c54c3e0d4  d__Bacteria     p__Bacteroidota   \n",
       "e9783139e2785a41acdb72f93f61ab7b  d__Bacteria     p__Bacteroidota   \n",
       "\n",
       "                                              Classe                 Ordem  \\\n",
       "640eca1305ad0fe51b1a4d981b97cf21      c__Bacteroidia      o__Bacteroidales   \n",
       "aeb100121ba5065dd71cd88248f1b4db      c__Bacteroidia      o__Bacteroidales   \n",
       "68e2e8b42d7fa551b7d9113a8ba0b103      c__Bacteroidia      o__Bacteroidales   \n",
       "a1f78eba8fcf70b294acf1d5c912446e      c__Bacteroidia      o__Bacteroidales   \n",
       "b9844b8c59ae0915d46e6d8f05a0365d      c__Bacteroidia      o__Bacteroidales   \n",
       "...                                              ...                   ...   \n",
       "b41e1ddb743af8b208e17456dbf5fae2  c__Saccharimonadia  o__Saccharimonadales   \n",
       "9feb320c25366f62d27bc6a70e6e0cd4          c__Bacilli    o__Lactobacillales   \n",
       "a5520daef5a19f5a11cedd71e4ae1c94      c__Bacteroidia      o__Bacteroidales   \n",
       "379a2e55202924502b84486c54c3e0d4      c__Bacteroidia      o__Bacteroidales   \n",
       "e9783139e2785a41acdb72f93f61ab7b      c__Bacteroidia      o__Bacteroidales   \n",
       "\n",
       "                                                Família  \\\n",
       "640eca1305ad0fe51b1a4d981b97cf21      f__Muribaculaceae   \n",
       "aeb100121ba5065dd71cd88248f1b4db      f__Muribaculaceae   \n",
       "68e2e8b42d7fa551b7d9113a8ba0b103      f__Muribaculaceae   \n",
       "a1f78eba8fcf70b294acf1d5c912446e      f__Muribaculaceae   \n",
       "b9844b8c59ae0915d46e6d8f05a0365d      f__Bacteroidaceae   \n",
       "...                                                 ...   \n",
       "b41e1ddb743af8b208e17456dbf5fae2  f__Saccharimonadaceae   \n",
       "9feb320c25366f62d27bc6a70e6e0cd4    f__Lactobacillaceae   \n",
       "a5520daef5a19f5a11cedd71e4ae1c94      f__Muribaculaceae   \n",
       "379a2e55202924502b84486c54c3e0d4      f__Muribaculaceae   \n",
       "e9783139e2785a41acdb72f93f61ab7b      f__Bacteroidaceae   \n",
       "\n",
       "                                                       Gênero  \\\n",
       "640eca1305ad0fe51b1a4d981b97cf21            g__Muribaculaceae   \n",
       "aeb100121ba5065dd71cd88248f1b4db            g__Muribaculaceae   \n",
       "68e2e8b42d7fa551b7d9113a8ba0b103            g__Muribaculaceae   \n",
       "a1f78eba8fcf70b294acf1d5c912446e            g__Muribaculaceae   \n",
       "b9844b8c59ae0915d46e6d8f05a0365d               g__Bacteroides   \n",
       "...                                                       ...   \n",
       "b41e1ddb743af8b208e17456dbf5fae2  g__Candidatus_Saccharimonas   \n",
       "9feb320c25366f62d27bc6a70e6e0cd4             g__Lactobacillus   \n",
       "a5520daef5a19f5a11cedd71e4ae1c94            g__Muribaculaceae   \n",
       "379a2e55202924502b84486c54c3e0d4            g__Muribaculaceae   \n",
       "e9783139e2785a41acdb72f93f61ab7b               g__Bacteroides   \n",
       "\n",
       "                                                  Espécie  \n",
       "640eca1305ad0fe51b1a4d981b97cf21  s__uncultured_bacterium  \n",
       "aeb100121ba5065dd71cd88248f1b4db  s__uncultured_bacterium  \n",
       "68e2e8b42d7fa551b7d9113a8ba0b103  s__uncultured_bacterium  \n",
       "a1f78eba8fcf70b294acf1d5c912446e  s__uncultured_bacterium  \n",
       "b9844b8c59ae0915d46e6d8f05a0365d  s__Bacteroides_fragilis  \n",
       "...                                                   ...  \n",
       "b41e1ddb743af8b208e17456dbf5fae2  s__uncultured_bacterium  \n",
       "9feb320c25366f62d27bc6a70e6e0cd4                     None  \n",
       "a5520daef5a19f5a11cedd71e4ae1c94  s__uncultured_bacterium  \n",
       "379a2e55202924502b84486c54c3e0d4  s__uncultured_bacterium  \n",
       "e9783139e2785a41acdb72f93f61ab7b                     None  \n",
       "\n",
       "[567 rows x 16 columns]"
      ]
     },
     "execution_count": 9,
     "metadata": {},
     "output_type": "execute_result"
    }
   ],
   "source": [
    "freq_tax_df = pd.merge(tabs_df, metatax_split_df, left_index=True, right_index=True)\n",
    "freq_tax_df"
   ]
  },
  {
   "cell_type": "code",
   "execution_count": 10,
   "metadata": {
    "ExecuteTime": {
     "end_time": "2022-07-07T20:19:50.313429Z",
     "start_time": "2022-07-07T20:19:50.115292Z"
    },
    "pycharm": {
     "name": "#%%\n"
    }
   },
   "outputs": [
    {
     "name": "stdout",
     "output_type": "stream",
     "text": [
      "Shape: (567, 2)\n",
      "\n",
      "count    567.000000\n",
      "mean       0.925666\n",
      "std        0.086892\n",
      "min        0.392795\n",
      "25%        0.879329\n",
      "50%        0.956144\n",
      "75%        0.999552\n",
      "max        1.000000\n",
      "Name: Confidence, dtype: float64\n"
     ]
    },
    {
     "data": {
      "text/plain": [
       "<AxesSubplot:>"
      ]
     },
     "execution_count": 10,
     "metadata": {},
     "output_type": "execute_result"
    },
    {
     "data": {
      "image/png": "[encoded data removed]",
      "text/plain": [
       "<Figure size 432x288 with 1 Axes>"
      ]
     },
     "metadata": {
      "needs_background": "light"
     },
     "output_type": "display_data"
    }
   ],
   "source": [
    "print(f'Shape: {metatax_df.shape}\\n')\n",
    "print(metatax_df['Confidence'].describe())\n",
    "metatax_df['Confidence'].plot.box()"
   ]
  },
  {
   "cell_type": "code",
   "execution_count": 11,
   "metadata": {
    "ExecuteTime": {
     "end_time": "2022-07-07T20:19:50.522902Z",
     "start_time": "2022-07-07T20:19:50.315401Z"
    },
    "pycharm": {
     "name": "#%%\n"
    }
   },
   "outputs": [
    {
     "name": "stdout",
     "output_type": "stream",
     "text": [
      "                                       Taxon  Confidence\n",
      "Feature ID                                              \n",
      "cbb6311b89baca740df217edd9fd72c6  Unassigned    0.677700\n",
      "219c90040dcbeca193fa8903f3b638b6  Unassigned    0.618642\n",
      "76a3ad98314d0c1c2d7788a8020f1033  Unassigned    0.599194\n",
      "0f7f22745489d108c1ee0b8de3bcb07a  Unassigned    0.392795\n",
      "\n",
      "Shape: (4, 2)\n",
      "\n",
      "count    4.000000\n",
      "mean     0.572082\n",
      "std      0.124099\n",
      "min      0.392795\n",
      "25%      0.547594\n",
      "50%      0.608918\n",
      "75%      0.633406\n",
      "max      0.677700\n",
      "Name: Confidence, dtype: float64\n"
     ]
    },
    {
     "data": {
      "text/plain": [
       "<AxesSubplot:>"
      ]
     },
     "execution_count": 11,
     "metadata": {},
     "output_type": "execute_result"
    },
    {
     "data": {
      "image/png": "[encoded data removed]",
      "text/plain": [
       "<Figure size 432x288 with 1 Axes>"
      ]
     },
     "metadata": {
      "needs_background": "light"
     },
     "output_type": "display_data"
    }
   ],
   "source": [
    "conf = metatax_df['Confidence']\n",
    "tmp_df = metatax_df[(conf < .7)]\n",
    "print(f'{tmp_df}\\n')\n",
    "print(f'Shape: {tmp_df.shape}\\n')\n",
    "print(tmp_df['Confidence'].describe())\n",
    "tmp_df['Confidence'].plot.box()"
   ]
  },
  {
   "cell_type": "code",
   "execution_count": 12,
   "metadata": {
    "ExecuteTime": {
     "end_time": "2022-07-07T20:19:50.540329Z",
     "start_time": "2022-07-07T20:19:50.525976Z"
    },
    "pycharm": {
     "name": "#%%\n"
    },
    "scrolled": true
   },
   "outputs": [
    {
     "data": {
      "text/html": [
       "<div>\n",
       "<style scoped>\n",
       "    .dataframe tbody tr th:only-of-type {\n",
       "        vertical-align: middle;\n",
       "    }\n",
       "\n",
       "    .dataframe tbody tr th {\n",
       "        vertical-align: top;\n",
       "    }\n",
       "\n",
       "    .dataframe thead th {\n",
       "        text-align: right;\n",
       "    }\n",
       "</style>\n",
       "<table border=\"1\" class=\"dataframe\">\n",
       "  <thead>\n",
       "    <tr style=\"text-align: right;\">\n",
       "      <th></th>\n",
       "      <th>Taxon</th>\n",
       "      <th>Confidence</th>\n",
       "    </tr>\n",
       "    <tr>\n",
       "      <th>Feature ID</th>\n",
       "      <th></th>\n",
       "      <th></th>\n",
       "    </tr>\n",
       "  </thead>\n",
       "  <tbody>\n",
       "    <tr>\n",
       "      <th>cbb6311b89baca740df217edd9fd72c6</th>\n",
       "      <td>Unassigned</td>\n",
       "      <td>0.677700</td>\n",
       "    </tr>\n",
       "    <tr>\n",
       "      <th>219c90040dcbeca193fa8903f3b638b6</th>\n",
       "      <td>Unassigned</td>\n",
       "      <td>0.618642</td>\n",
       "    </tr>\n",
       "    <tr>\n",
       "      <th>76a3ad98314d0c1c2d7788a8020f1033</th>\n",
       "      <td>Unassigned</td>\n",
       "      <td>0.599194</td>\n",
       "    </tr>\n",
       "    <tr>\n",
       "      <th>0f7f22745489d108c1ee0b8de3bcb07a</th>\n",
       "      <td>Unassigned</td>\n",
       "      <td>0.392795</td>\n",
       "    </tr>\n",
       "    <tr>\n",
       "      <th>4f82c9533e7f5f259f35b235c426cdea</th>\n",
       "      <td>Unassigned</td>\n",
       "      <td>0.953276</td>\n",
       "    </tr>\n",
       "  </tbody>\n",
       "</table>\n",
       "</div>"
      ],
      "text/plain": [
       "                                       Taxon  Confidence\n",
       "Feature ID                                              \n",
       "cbb6311b89baca740df217edd9fd72c6  Unassigned    0.677700\n",
       "219c90040dcbeca193fa8903f3b638b6  Unassigned    0.618642\n",
       "76a3ad98314d0c1c2d7788a8020f1033  Unassigned    0.599194\n",
       "0f7f22745489d108c1ee0b8de3bcb07a  Unassigned    0.392795\n",
       "4f82c9533e7f5f259f35b235c426cdea  Unassigned    0.953276"
      ]
     },
     "execution_count": 12,
     "metadata": {},
     "output_type": "execute_result"
    }
   ],
   "source": [
    "metatax_df[metatax_df['Taxon']=='Unassigned']"
   ]
  },
  {
   "cell_type": "code",
   "execution_count": 13,
   "metadata": {
    "ExecuteTime": {
     "end_time": "2022-07-07T20:19:50.678820Z",
     "start_time": "2022-07-07T20:19:50.543348Z"
    },
    "pycharm": {
     "name": "#%%\n"
    }
   },
   "outputs": [
    {
     "name": "stdout",
     "output_type": "stream",
     "text": [
      "count    562.000000\n",
      "mean       0.928133\n",
      "std        0.081463\n",
      "min        0.701427\n",
      "25%        0.882551\n",
      "50%        0.956694\n",
      "75%        0.999580\n",
      "max        1.000000\n",
      "Name: Confidence, dtype: float64\n"
     ]
    },
    {
     "data": {
      "text/plain": [
       "<AxesSubplot:>"
      ]
     },
     "execution_count": 13,
     "metadata": {},
     "output_type": "execute_result"
    },
    {
     "data": {
      "image/png": "[encoded data removed]",
      "text/plain": [
       "<Figure size 432x288 with 1 Axes>"
      ]
     },
     "metadata": {
      "needs_background": "light"
     },
     "output_type": "display_data"
    }
   ],
   "source": [
    "print(metatax_df[metatax_df['Taxon']!='Unassigned']['Confidence'].describe())\n",
    "metatax_df[metatax_df['Taxon']!='Unassigned']['Confidence'].plot.box()"
   ]
  },
  {
   "cell_type": "code",
   "execution_count": 14,
   "metadata": {
    "ExecuteTime": {
     "end_time": "2022-07-07T20:19:50.684092Z",
     "start_time": "2022-07-07T20:19:50.680301Z"
    },
    "pycharm": {
     "name": "#%%\n"
    }
   },
   "outputs": [
    {
     "name": "stdout",
     "output_type": "stream",
     "text": [
      "(562, 16)\n"
     ]
    }
   ],
   "source": [
    "filtered_metatax_df = freq_tax_df[metatax_df['Taxon']!='Unassigned']\n",
    "print(filtered_metatax_df.shape)"
   ]
  },
  {
   "cell_type": "code",
   "execution_count": 15,
   "metadata": {
    "ExecuteTime": {
     "end_time": "2022-07-07T20:19:50.696956Z",
     "start_time": "2022-07-07T20:19:50.685493Z"
    },
    "pycharm": {
     "name": "#%%\n"
    }
   },
   "outputs": [],
   "source": [
    "def get_samples_ids_by_group(m, group_idx):\n",
    "    df = m.to_dataframe()\n",
    "    unique_values = df[group_idx].unique()\n",
    "    return unique_values, {i: df[df[group_idx]==str(i)].index for i in unique_values}\n",
    "\n",
    "def get_grouped_freq_tax(df, groups_ids, group):\n",
    "    ndf = df[groups_ids[group]]\n",
    "    return ndf\n",
    "\n",
    "def get_features(df, features):\n",
    "    return df[df.index.isin(features)]"
   ]
  },
  {
   "cell_type": "code",
   "execution_count": 16,
   "metadata": {
    "ExecuteTime": {
     "end_time": "2022-07-07T20:19:50.765396Z",
     "start_time": "2022-07-07T20:19:50.698364Z"
    }
   },
   "outputs": [],
   "source": [
    "groups_idx, groups_ids  = get_samples_ids_by_group(metadata_qa, 'sample-group')\n",
    "groups_counts = dict()\n",
    "groups_features = dict()\n",
    "for g_idx in groups_idx:\n",
    "    g = get_grouped_freq_tax(filtered_metatax_df, groups_ids, group=g_idx)\n",
    "    g = g[g.sum(axis=1) > 0]\n",
    "    groups_counts[g_idx] = g\n",
    "    groups_features[g_idx] = get_features(filtered_metatax_df, g.index)"
   ]
  },
  {
   "cell_type": "code",
   "execution_count": 17,
   "metadata": {
    "ExecuteTime": {
     "end_time": "2022-07-07T20:19:50.773041Z",
     "start_time": "2022-07-07T20:19:50.767537Z"
    },
    "pycharm": {
     "name": "#%%\n"
    }
   },
   "outputs": [],
   "source": [
    "# # Separate by samples groups\n",
    "# groups = get_samples_ids_by_group(metadata_qa, class_col)\n",
    "# g0df = get_grouped_freq_tax(filtered_metatax_df, groups, group='NR')\n",
    "# g1df = get_grouped_freq_tax(filtered_metatax_df, groups, group=1)\n",
    "# g2df = get_grouped_freq_tax(filtered_metatax_df, groups, group=2)\n",
    "\n",
    "# # Remove features with sum zero\n",
    "# g0df = g0df[g0df.sum(axis = 1) > 0]\n",
    "# g1df = g1df[g1df.sum(axis = 1) > 0]\n",
    "# g2df = g2df[g2df.sum(axis = 1) > 0]\n",
    "\n",
    "# tax_g0_df = get_features(filtered_metatax_df, g0df.index)\n",
    "# tax_g1_df = get_features(filtered_metatax_df, g1df.index)\n",
    "# tax_g2_df = get_features(filtered_metatax_df, g2df.index)"
   ]
  },
  {
   "cell_type": "code",
   "execution_count": 18,
   "metadata": {
    "ExecuteTime": {
     "end_time": "2022-07-07T20:19:50.800045Z",
     "start_time": "2022-07-07T20:19:50.774428Z"
    },
    "pycharm": {
     "name": "#%%\n"
    }
   },
   "outputs": [
    {
     "name": "stdout",
     "output_type": "stream",
     "text": [
      "\\begin{tabular}{llll}\n",
      "\\toprule\n",
      "{} &  NR &  NC & Union \\\\\n",
      "\\midrule\n",
      "Reino   &   1 &   1 &     1 \\\\\n",
      "Filo    &   6 &   8 &     8 \\\\\n",
      "Classe  &   8 &  10 &    11 \\\\\n",
      "Ordem   &  20 &  19 &    25 \\\\\n",
      "Família &  28 &  31 &    36 \\\\\n",
      "Gênero  &  36 &  50 &    57 \\\\\n",
      "Espécie &  14 &  19 &    24 \\\\\n",
      "\\bottomrule\n",
      "\\end{tabular}\n",
      "\n"
     ]
    }
   ],
   "source": [
    "def unique_names(df, levels):\n",
    "    import pandas as pd\n",
    "    \n",
    "    unique_names = {l: list(filter(None, df[l].unique())) for l in levels}\n",
    "    return unique_names\n",
    "\n",
    "ids = ['Reino', 'Filo', 'Classe', 'Ordem', 'Família', 'Gênero', 'Espécie']\n",
    "cols = [*groups_idx, 'Union']\n",
    "# groups = (tax_g0_df, tax_g1_df, tax_g2_df, filtered_metatax_df)\n",
    "groups = [*[x for _, x in groups_features.items()], filtered_metatax_df]\n",
    "df = pd.DataFrame(index=ids, columns=cols)\n",
    "\n",
    "for i in range(len(groups)):\n",
    "    g = groups[i]\n",
    "    for k, v in unique_names(g, tax_levels).items():\n",
    "        df[cols[i]][k] = len(v)\n",
    "\n",
    "print(df.to_latex())"
   ]
  },
  {
   "cell_type": "code",
   "execution_count": 19,
   "metadata": {
    "ExecuteTime": {
     "end_time": "2022-07-07T20:19:50.811253Z",
     "start_time": "2022-07-07T20:19:50.801581Z"
    },
    "pycharm": {
     "name": "#%%\n"
    }
   },
   "outputs": [
    {
     "name": "stdout",
     "output_type": "stream",
     "text": [
      "\n",
      "\\begin{table}[H] \\centering\n",
      "\n",
      "\\begin{tabular}{llll}\n",
      "\\toprule\n",
      "{} &  NR &  NC & Union \\\\\n",
      "\\midrule\n",
      "Reino   &   1 &   1 &     1 \\\\\n",
      "Filo    &   6 &   8 &     8 \\\\\n",
      "Classe  &   8 &  10 &    11 \\\\\n",
      "Ordem   &  20 &  19 &    25 \\\\\n",
      "Família &  28 &  31 &    36 \\\\\n",
      "Gênero  &  36 &  50 &    57 \\\\\n",
      "Espécie &  14 &  19 &    24 \\\\\n",
      "\\bottomrule\n",
      "\\end{tabular}\n",
      "\n",
      "\\caption{A tabela apresenta as quantas taxonomias distintas foram encontradas de cada uma das fases do ciclo reprodutivo e o total, considerando a interseção das fases. Os valores em cada linha são de um dos diferentes níveis taxonômicos.}\n",
      "    \\label{tab:tax-count}\n",
      "\\end{table}\n",
      "\n"
     ]
    }
   ],
   "source": [
    "latex = f'''\n",
    "\\\\begin{{table}}[H] \\centering\n",
    "\n",
    "{df.to_latex()}\n",
    "\\caption{{A tabela apresenta as quantas taxonomias distintas foram encontradas de cada uma das fases do ciclo reprodutivo e o total, considerando a interseção das fases. Os valores em cada linha são de um dos diferentes níveis taxonômicos.}}\n",
    "    \\label{{tab:tax-count}}\n",
    "\\end{{table}}\n",
    "'''\n",
    "print(latex)"
   ]
  },
  {
   "cell_type": "code",
   "execution_count": 20,
   "metadata": {
    "ExecuteTime": {
     "end_time": "2022-07-07T20:19:51.265386Z",
     "start_time": "2022-07-07T20:19:50.812786Z"
    },
    "pycharm": {
     "name": "#%%\n"
    }
   },
   "outputs": [
    {
     "data": {
      "text/html": [
       "<div>\n",
       "<style scoped>\n",
       "    .dataframe tbody tr th:only-of-type {\n",
       "        vertical-align: middle;\n",
       "    }\n",
       "\n",
       "    .dataframe tbody tr th {\n",
       "        vertical-align: top;\n",
       "    }\n",
       "\n",
       "    .dataframe thead th {\n",
       "        text-align: right;\n",
       "    }\n",
       "</style>\n",
       "<table border=\"1\" class=\"dataframe\">\n",
       "  <thead>\n",
       "    <tr style=\"text-align: right;\">\n",
       "      <th></th>\n",
       "      <th>640eca1305ad0fe51b1a4d981b97cf21</th>\n",
       "      <th>aeb100121ba5065dd71cd88248f1b4db</th>\n",
       "      <th>68e2e8b42d7fa551b7d9113a8ba0b103</th>\n",
       "      <th>a1f78eba8fcf70b294acf1d5c912446e</th>\n",
       "      <th>b9844b8c59ae0915d46e6d8f05a0365d</th>\n",
       "      <th>ee8d45d6473b3dcd2f7ca8376527096d</th>\n",
       "      <th>a22932ee01319a19ab6e461c2d3af0b0</th>\n",
       "      <th>8545edbef9223ab316c1d11daaecb016</th>\n",
       "      <th>26462262283d443b774055101af1683c</th>\n",
       "      <th>b69470eb593929efb494cc9581d3e759</th>\n",
       "      <th>...</th>\n",
       "      <th>e120b2fb24b9d079d6cc30581ce2b8f4</th>\n",
       "      <th>02f078466aae44ee78fc73e2501185bb</th>\n",
       "      <th>ca9bcca2a4797b74ddb02f2f7946225d</th>\n",
       "      <th>dfc89a026f6c5ff1bcbca430f83ee711</th>\n",
       "      <th>df92d5ddf36a93419475864e575e3a43</th>\n",
       "      <th>b41e1ddb743af8b208e17456dbf5fae2</th>\n",
       "      <th>9feb320c25366f62d27bc6a70e6e0cd4</th>\n",
       "      <th>a5520daef5a19f5a11cedd71e4ae1c94</th>\n",
       "      <th>379a2e55202924502b84486c54c3e0d4</th>\n",
       "      <th>e9783139e2785a41acdb72f93f61ab7b</th>\n",
       "    </tr>\n",
       "    <tr>\n",
       "      <th>id</th>\n",
       "      <th></th>\n",
       "      <th></th>\n",
       "      <th></th>\n",
       "      <th></th>\n",
       "      <th></th>\n",
       "      <th></th>\n",
       "      <th></th>\n",
       "      <th></th>\n",
       "      <th></th>\n",
       "      <th></th>\n",
       "      <th></th>\n",
       "      <th></th>\n",
       "      <th></th>\n",
       "      <th></th>\n",
       "      <th></th>\n",
       "      <th></th>\n",
       "      <th></th>\n",
       "      <th></th>\n",
       "      <th></th>\n",
       "      <th></th>\n",
       "      <th></th>\n",
       "    </tr>\n",
       "  </thead>\n",
       "  <tbody>\n",
       "    <tr>\n",
       "      <th>NR</th>\n",
       "      <td>6855.0</td>\n",
       "      <td>3694.0</td>\n",
       "      <td>2327.0</td>\n",
       "      <td>2932.0</td>\n",
       "      <td>2552.0</td>\n",
       "      <td>4272.0</td>\n",
       "      <td>1264.0</td>\n",
       "      <td>1960.0</td>\n",
       "      <td>3716.0</td>\n",
       "      <td>3647.0</td>\n",
       "      <td>...</td>\n",
       "      <td>0.0</td>\n",
       "      <td>5.0</td>\n",
       "      <td>5.0</td>\n",
       "      <td>5.0</td>\n",
       "      <td>0.0</td>\n",
       "      <td>2.0</td>\n",
       "      <td>0.0</td>\n",
       "      <td>0.0</td>\n",
       "      <td>1.0</td>\n",
       "      <td>1.0</td>\n",
       "    </tr>\n",
       "    <tr>\n",
       "      <th>NC</th>\n",
       "      <td>2687.0</td>\n",
       "      <td>2963.0</td>\n",
       "      <td>2894.0</td>\n",
       "      <td>1998.0</td>\n",
       "      <td>2101.0</td>\n",
       "      <td>0.0</td>\n",
       "      <td>2929.0</td>\n",
       "      <td>1820.0</td>\n",
       "      <td>0.0</td>\n",
       "      <td>0.0</td>\n",
       "      <td>...</td>\n",
       "      <td>7.0</td>\n",
       "      <td>0.0</td>\n",
       "      <td>0.0</td>\n",
       "      <td>0.0</td>\n",
       "      <td>4.0</td>\n",
       "      <td>0.0</td>\n",
       "      <td>1.0</td>\n",
       "      <td>1.0</td>\n",
       "      <td>0.0</td>\n",
       "      <td>0.0</td>\n",
       "    </tr>\n",
       "  </tbody>\n",
       "</table>\n",
       "<p>2 rows × 567 columns</p>\n",
       "</div>"
      ],
      "text/plain": [
       "    640eca1305ad0fe51b1a4d981b97cf21  aeb100121ba5065dd71cd88248f1b4db  \\\n",
       "id                                                                       \n",
       "NR                            6855.0                            3694.0   \n",
       "NC                            2687.0                            2963.0   \n",
       "\n",
       "    68e2e8b42d7fa551b7d9113a8ba0b103  a1f78eba8fcf70b294acf1d5c912446e  \\\n",
       "id                                                                       \n",
       "NR                            2327.0                            2932.0   \n",
       "NC                            2894.0                            1998.0   \n",
       "\n",
       "    b9844b8c59ae0915d46e6d8f05a0365d  ee8d45d6473b3dcd2f7ca8376527096d  \\\n",
       "id                                                                       \n",
       "NR                            2552.0                            4272.0   \n",
       "NC                            2101.0                               0.0   \n",
       "\n",
       "    a22932ee01319a19ab6e461c2d3af0b0  8545edbef9223ab316c1d11daaecb016  \\\n",
       "id                                                                       \n",
       "NR                            1264.0                            1960.0   \n",
       "NC                            2929.0                            1820.0   \n",
       "\n",
       "    26462262283d443b774055101af1683c  b69470eb593929efb494cc9581d3e759  ...  \\\n",
       "id                                                                      ...   \n",
       "NR                            3716.0                            3647.0  ...   \n",
       "NC                               0.0                               0.0  ...   \n",
       "\n",
       "    e120b2fb24b9d079d6cc30581ce2b8f4  02f078466aae44ee78fc73e2501185bb  \\\n",
       "id                                                                       \n",
       "NR                               0.0                               5.0   \n",
       "NC                               7.0                               0.0   \n",
       "\n",
       "    ca9bcca2a4797b74ddb02f2f7946225d  dfc89a026f6c5ff1bcbca430f83ee711  \\\n",
       "id                                                                       \n",
       "NR                               5.0                               5.0   \n",
       "NC                               0.0                               0.0   \n",
       "\n",
       "    df92d5ddf36a93419475864e575e3a43  b41e1ddb743af8b208e17456dbf5fae2  \\\n",
       "id                                                                       \n",
       "NR                               0.0                               2.0   \n",
       "NC                               4.0                               0.0   \n",
       "\n",
       "    9feb320c25366f62d27bc6a70e6e0cd4  a5520daef5a19f5a11cedd71e4ae1c94  \\\n",
       "id                                                                       \n",
       "NR                               0.0                               0.0   \n",
       "NC                               1.0                               1.0   \n",
       "\n",
       "    379a2e55202924502b84486c54c3e0d4  e9783139e2785a41acdb72f93f61ab7b  \n",
       "id                                                                      \n",
       "NR                               1.0                               1.0  \n",
       "NC                               0.0                               0.0  \n",
       "\n",
       "[2 rows x 567 columns]"
      ]
     },
     "execution_count": 20,
     "metadata": {},
     "output_type": "execute_result"
    }
   ],
   "source": [
    "# Perform group by applying sum function\n",
    "group_tab = group(tabs, metadata=metadata_qa.get_column(class_col), axis='sample', mode='sum').grouped_table\n",
    "\n",
    "group_tab_df = group_tab.view(Metadata).to_dataframe()\n",
    "group_tab_df"
   ]
  },
  {
   "cell_type": "code",
   "execution_count": 21,
   "metadata": {
    "ExecuteTime": {
     "end_time": "2022-07-07T20:19:51.564166Z",
     "start_time": "2022-07-07T20:19:51.267172Z"
    },
    "pycharm": {
     "name": "#%%\n"
    }
   },
   "outputs": [
    {
     "data": {
      "text/html": [
       "<div>\n",
       "<style scoped>\n",
       "    .dataframe tbody tr th:only-of-type {\n",
       "        vertical-align: middle;\n",
       "    }\n",
       "\n",
       "    .dataframe tbody tr th {\n",
       "        vertical-align: top;\n",
       "    }\n",
       "\n",
       "    .dataframe thead th {\n",
       "        text-align: right;\n",
       "    }\n",
       "</style>\n",
       "<table border=\"1\" class=\"dataframe\">\n",
       "  <thead>\n",
       "    <tr style=\"text-align: right;\">\n",
       "      <th>id</th>\n",
       "      <th>index</th>\n",
       "      <th>NR</th>\n",
       "      <th>NC</th>\n",
       "      <th>all</th>\n",
       "    </tr>\n",
       "  </thead>\n",
       "  <tbody>\n",
       "    <tr>\n",
       "      <th>0</th>\n",
       "      <td>d__Bacteria;p__Bacteroidota;c__Bacteroidia;o__...</td>\n",
       "      <td>96752.0</td>\n",
       "      <td>84266.0</td>\n",
       "      <td>181018.0</td>\n",
       "    </tr>\n",
       "    <tr>\n",
       "      <th>1</th>\n",
       "      <td>d__Bacteria;p__Bacteroidota;c__Bacteroidia;o__...</td>\n",
       "      <td>2552.0</td>\n",
       "      <td>2101.0</td>\n",
       "      <td>4653.0</td>\n",
       "    </tr>\n",
       "    <tr>\n",
       "      <th>2</th>\n",
       "      <td>d__Bacteria;p__Bacteroidota;c__Bacteroidia;o__...</td>\n",
       "      <td>12031.0</td>\n",
       "      <td>8738.0</td>\n",
       "      <td>20769.0</td>\n",
       "    </tr>\n",
       "    <tr>\n",
       "      <th>3</th>\n",
       "      <td>d__Bacteria;p__Verrucomicrobiota;c__Verrucomic...</td>\n",
       "      <td>1908.0</td>\n",
       "      <td>6621.0</td>\n",
       "      <td>8529.0</td>\n",
       "    </tr>\n",
       "    <tr>\n",
       "      <th>4</th>\n",
       "      <td>d__Bacteria;p__Bacteroidota;c__Bacteroidia;o__...</td>\n",
       "      <td>36197.0</td>\n",
       "      <td>29132.0</td>\n",
       "      <td>65329.0</td>\n",
       "    </tr>\n",
       "    <tr>\n",
       "      <th>...</th>\n",
       "      <td>...</td>\n",
       "      <td>...</td>\n",
       "      <td>...</td>\n",
       "      <td>...</td>\n",
       "    </tr>\n",
       "    <tr>\n",
       "      <th>93</th>\n",
       "      <td>d__Bacteria;p__Firmicutes;c__Bacilli;o__Erysip...</td>\n",
       "      <td>0.0</td>\n",
       "      <td>85.0</td>\n",
       "      <td>85.0</td>\n",
       "    </tr>\n",
       "    <tr>\n",
       "      <th>94</th>\n",
       "      <td>d__Bacteria;p__Bacteroidota;c__Bacteroidia;o__...</td>\n",
       "      <td>94.0</td>\n",
       "      <td>91.0</td>\n",
       "      <td>185.0</td>\n",
       "    </tr>\n",
       "    <tr>\n",
       "      <th>95</th>\n",
       "      <td>d__Bacteria;p__Proteobacteria;c__Gammaproteoba...</td>\n",
       "      <td>60.0</td>\n",
       "      <td>0.0</td>\n",
       "      <td>60.0</td>\n",
       "    </tr>\n",
       "    <tr>\n",
       "      <th>96</th>\n",
       "      <td>d__Bacteria;p__Firmicutes;c__Bacilli;o__Erysip...</td>\n",
       "      <td>56.0</td>\n",
       "      <td>0.0</td>\n",
       "      <td>56.0</td>\n",
       "    </tr>\n",
       "    <tr>\n",
       "      <th>97</th>\n",
       "      <td>d__Bacteria;p__Bacteroidota;c__Bacteroidia;o__...</td>\n",
       "      <td>0.0</td>\n",
       "      <td>13.0</td>\n",
       "      <td>13.0</td>\n",
       "    </tr>\n",
       "  </tbody>\n",
       "</table>\n",
       "<p>98 rows × 4 columns</p>\n",
       "</div>"
      ],
      "text/plain": [
       "id                                              index       NR       NC  \\\n",
       "0   d__Bacteria;p__Bacteroidota;c__Bacteroidia;o__...  96752.0  84266.0   \n",
       "1   d__Bacteria;p__Bacteroidota;c__Bacteroidia;o__...   2552.0   2101.0   \n",
       "2   d__Bacteria;p__Bacteroidota;c__Bacteroidia;o__...  12031.0   8738.0   \n",
       "3   d__Bacteria;p__Verrucomicrobiota;c__Verrucomic...   1908.0   6621.0   \n",
       "4   d__Bacteria;p__Bacteroidota;c__Bacteroidia;o__...  36197.0  29132.0   \n",
       "..                                                ...      ...      ...   \n",
       "93  d__Bacteria;p__Firmicutes;c__Bacilli;o__Erysip...      0.0     85.0   \n",
       "94  d__Bacteria;p__Bacteroidota;c__Bacteroidia;o__...     94.0     91.0   \n",
       "95  d__Bacteria;p__Proteobacteria;c__Gammaproteoba...     60.0      0.0   \n",
       "96  d__Bacteria;p__Firmicutes;c__Bacilli;o__Erysip...     56.0      0.0   \n",
       "97  d__Bacteria;p__Bacteroidota;c__Bacteroidia;o__...      0.0     13.0   \n",
       "\n",
       "id       all  \n",
       "0   181018.0  \n",
       "1     4653.0  \n",
       "2    20769.0  \n",
       "3     8529.0  \n",
       "4    65329.0  \n",
       "..       ...  \n",
       "93      85.0  \n",
       "94     185.0  \n",
       "95      60.0  \n",
       "96      56.0  \n",
       "97      13.0  \n",
       "\n",
       "[98 rows x 4 columns]"
      ]
     },
     "execution_count": 21,
     "metadata": {},
     "output_type": "execute_result"
    }
   ],
   "source": [
    "species_by_phase = collapse(group_tab, taxonomy=metatax, level=7).collapsed_table\n",
    "species_by_phase_df = species_by_phase.view(Metadata).to_dataframe().T\n",
    "species_by_phase_df['all'] = species_by_phase_df.sum(axis=1)\n",
    "species_by_phase_df = species_by_phase_df.reset_index()\n",
    "species_by_phase_df"
   ]
  },
  {
   "cell_type": "markdown",
   "metadata": {
    "pycharm": {
     "name": "#%% md\n"
    }
   },
   "source": [
    "### Top abundances counts"
   ]
  },
  {
   "cell_type": "code",
   "execution_count": 22,
   "metadata": {
    "ExecuteTime": {
     "end_time": "2022-07-07T20:19:51.580590Z",
     "start_time": "2022-07-07T20:19:51.565997Z"
    },
    "pycharm": {
     "name": "#%%\n"
    }
   },
   "outputs": [],
   "source": [
    "def filter_names(df, level, invalid_words):\n",
    "    tax_idx = level - 8\n",
    "    to_remove = list()\n",
    "    for i, r in df.iterrows():\n",
    "        word = r['index'].split(';')[tax_idx][3:]\n",
    "        invalid_flag = False\n",
    "        for w in invalid_words:\n",
    "            if w in word:\n",
    "                invalid_flag = True\n",
    "                break\n",
    "        if invalid_flag:\n",
    "            to_remove.append(i)\n",
    "    df = df.drop(df.index[to_remove])\n",
    "    return df\n",
    "\n",
    "species_by_phase_df = filter_names(species_by_phase_df, 7, ('uncultured', 'microbiom', 'metagenome', 'human_', '_bacterium'))"
   ]
  },
  {
   "cell_type": "code",
   "execution_count": 23,
   "metadata": {
    "ExecuteTime": {
     "end_time": "2022-07-07T20:19:51.623230Z",
     "start_time": "2022-07-07T20:19:51.583103Z"
    },
    "pycharm": {
     "name": "#%%\n"
    }
   },
   "outputs": [],
   "source": [
    "species_by_phase_df['mean'] = species_by_phase_df[groups_idx].mean(axis=1)\n",
    "species_by_phase_df.sort_values(by='all', ascending=False)\n",
    "fname = os.path.join(experiment_folder, 'species-abundances-filtered.xlsx')\n",
    "species_by_phase_df.to_excel(fname)"
   ]
  },
  {
   "cell_type": "code",
   "execution_count": 24,
   "metadata": {
    "ExecuteTime": {
     "end_time": "2022-07-07T20:19:51.631124Z",
     "start_time": "2022-07-07T20:19:51.625050Z"
    },
    "pycharm": {
     "name": "#%%\n"
    }
   },
   "outputs": [],
   "source": [
    "def top_counts(df, col_idx, top, filtering):\n",
    "    indexes = []\n",
    "    species = []\n",
    "    counts = []\n",
    "    tax_names = []\n",
    "    cnt = 0\n",
    "    new_df = df\n",
    "    new_df = df.sort_values(by=col_idx, ascending=False)\n",
    "    for i, row in new_df.iterrows():\n",
    "        print('------')\n",
    "        print('>>', type(row))\n",
    "        print(row)\n",
    "        print('------')\n",
    "        name = row['index'].split(';')[-1]\n",
    "        invalid_flag = False\n",
    "        if name != '__':\n",
    "            name = name[3:]\n",
    "            if not filtering:\n",
    "                cnt += 1\n",
    "                species.append(name)\n",
    "                counts.append(int(row))\n",
    "                tax_names.append(row['index'])\n",
    "                indexes = i\n",
    "            else:\n",
    "                invalid_names = ('uncultured', 'microbiom', 'metagenome', 'human_', '_bacterium')\n",
    "                for invalid in invalid_names:\n",
    "                    if invalid in name:\n",
    "                        invalid_flag = True\n",
    "                        break\n",
    "                if not invalid_flag:\n",
    "                    cnt += 1\n",
    "                    species.append(name)\n",
    "                    counts.append(int(row))\n",
    "                    tax_names.append(row['index'])\n",
    "                    indexes = i\n",
    "            if cnt >= top:\n",
    "                break\n",
    "    return species, counts, tax_names, indexes"
   ]
  },
  {
   "cell_type": "code",
   "execution_count": 25,
   "metadata": {
    "ExecuteTime": {
     "end_time": "2022-07-07T20:19:52.416608Z",
     "start_time": "2022-07-07T20:19:51.633232Z"
    },
    "pycharm": {
     "name": "#%%\n"
    }
   },
   "outputs": [
    {
     "name": "stdout",
     "output_type": "stream",
     "text": [
      "------\n",
      ">> <class 'pandas.core.series.Series'>\n",
      "id\n",
      "index    d__Bacteria;p__Bacteroidota;c__Bacteroidia;o__...\n",
      "NR                                                 36197.0\n",
      "NC                                                 29132.0\n",
      "all                                                65329.0\n",
      "mean                                               32664.5\n",
      "Name: 4, dtype: object\n",
      "------\n",
      "------\n",
      ">> <class 'pandas.core.series.Series'>\n",
      "id\n",
      "index    d__Bacteria;p__Firmicutes;c__Clostridia;o__Lac...\n",
      "NR                                                  7656.0\n",
      "NC                                                 12955.0\n",
      "all                                                20611.0\n",
      "mean                                               10305.5\n",
      "Name: 11, dtype: object\n",
      "------\n",
      "------\n",
      ">> <class 'pandas.core.series.Series'>\n",
      "id\n",
      "index    d__Bacteria;p__Firmicutes;c__Bacilli;o__Lactob...\n",
      "NR                                                  5299.0\n",
      "NC                                                  7741.0\n",
      "all                                                13040.0\n",
      "mean                                                6520.0\n",
      "Name: 19, dtype: object\n",
      "------\n",
      "------\n",
      ">> <class 'pandas.core.series.Series'>\n",
      "id\n",
      "index    d__Bacteria;p__Firmicutes;c__Clostridia;o__Pep...\n",
      "NR                                                  3250.0\n",
      "NC                                                  9733.0\n",
      "all                                                12983.0\n",
      "mean                                                6491.5\n",
      "Name: 6, dtype: object\n",
      "------\n",
      "------\n",
      ">> <class 'pandas.core.series.Series'>\n",
      "id\n",
      "index    d__Bacteria;p__Bacteroidota;c__Bacteroidia;o__...\n",
      "NR                                                  4284.0\n",
      "NC                                                  5163.0\n",
      "all                                                 9447.0\n",
      "mean                                                4723.5\n",
      "Name: 7, dtype: object\n",
      "------\n",
      "------\n",
      ">> <class 'pandas.core.series.Series'>\n",
      "id\n",
      "index    d__Bacteria;p__Verrucomicrobiota;c__Verrucomic...\n",
      "NR                                                  1908.0\n",
      "NC                                                  6621.0\n",
      "all                                                 8529.0\n",
      "mean                                                4264.5\n",
      "Name: 3, dtype: object\n",
      "------\n",
      "------\n",
      ">> <class 'pandas.core.series.Series'>\n",
      "id\n",
      "index    d__Bacteria;p__Firmicutes;c__Clostridia;o__Lac...\n",
      "NR                                                  5986.0\n",
      "NC                                                  1829.0\n",
      "all                                                 7815.0\n",
      "mean                                                3907.5\n",
      "Name: 17, dtype: object\n",
      "------\n",
      "------\n",
      ">> <class 'pandas.core.series.Series'>\n",
      "id\n",
      "index    d__Bacteria;p__Firmicutes;c__Bacilli;o__Lactob...\n",
      "NR                                                  3741.0\n",
      "NC                                                  3874.0\n",
      "all                                                 7615.0\n",
      "mean                                                3807.5\n",
      "Name: 27, dtype: object\n",
      "------\n"
     ]
    },
    {
     "ename": "TypeError",
     "evalue": "cannot convert the series to <class 'int'>",
     "output_type": "error",
     "traceback": [
      "\u001b[0;31m---------------------------------------------------------------------------\u001b[0m",
      "\u001b[0;31mTypeError\u001b[0m                                 Traceback (most recent call last)",
      "Input \u001b[0;32mIn [25]\u001b[0m, in \u001b[0;36m<module>\u001b[0;34m\u001b[0m\n\u001b[0;32m----> 1\u001b[0m species_p0, counts_p0, full_tax, indexes \u001b[38;5;241m=\u001b[39m \u001b[43mtop_counts\u001b[49m\u001b[43m(\u001b[49m\u001b[43mspecies_by_phase_df\u001b[49m\u001b[43m,\u001b[49m\u001b[43m \u001b[49m\u001b[38;5;124;43m'\u001b[39;49m\u001b[38;5;124;43mall\u001b[39;49m\u001b[38;5;124;43m'\u001b[39;49m\u001b[43m,\u001b[49m\u001b[43m \u001b[49m\u001b[43mtop\u001b[49m\u001b[38;5;241;43m=\u001b[39;49m\u001b[38;5;241;43m10\u001b[39;49m\u001b[43m,\u001b[49m\u001b[43m \u001b[49m\u001b[43mfiltering\u001b[49m\u001b[38;5;241;43m=\u001b[39;49m\u001b[38;5;28;43;01mTrue\u001b[39;49;00m\u001b[43m)\u001b[49m\n",
      "Input \u001b[0;32mIn [24]\u001b[0m, in \u001b[0;36mtop_counts\u001b[0;34m(df, col_idx, top, filtering)\u001b[0m\n\u001b[1;32m     31\u001b[0m cnt \u001b[38;5;241m+\u001b[39m\u001b[38;5;241m=\u001b[39m \u001b[38;5;241m1\u001b[39m\n\u001b[1;32m     32\u001b[0m species\u001b[38;5;241m.\u001b[39mappend(name)\n\u001b[0;32m---> 33\u001b[0m counts\u001b[38;5;241m.\u001b[39mappend(\u001b[38;5;28;43mint\u001b[39;49m\u001b[43m(\u001b[49m\u001b[43mrow\u001b[49m\u001b[43m)\u001b[49m)\n\u001b[1;32m     34\u001b[0m tax_names\u001b[38;5;241m.\u001b[39mappend(row[\u001b[38;5;124m'\u001b[39m\u001b[38;5;124mindex\u001b[39m\u001b[38;5;124m'\u001b[39m])\n\u001b[1;32m     35\u001b[0m indexes \u001b[38;5;241m=\u001b[39m i\n",
      "File \u001b[0;32m~/anaconda3/envs/qiime2-2022.2/lib/python3.8/site-packages/pandas/core/series.py:141\u001b[0m, in \u001b[0;36m_coerce_method.<locals>.wrapper\u001b[0;34m(self)\u001b[0m\n\u001b[1;32m    139\u001b[0m \u001b[38;5;28;01mif\u001b[39;00m \u001b[38;5;28mlen\u001b[39m(\u001b[38;5;28mself\u001b[39m) \u001b[38;5;241m==\u001b[39m \u001b[38;5;241m1\u001b[39m:\n\u001b[1;32m    140\u001b[0m     \u001b[38;5;28;01mreturn\u001b[39;00m converter(\u001b[38;5;28mself\u001b[39m\u001b[38;5;241m.\u001b[39miloc[\u001b[38;5;241m0\u001b[39m])\n\u001b[0;32m--> 141\u001b[0m \u001b[38;5;28;01mraise\u001b[39;00m \u001b[38;5;167;01mTypeError\u001b[39;00m(\u001b[38;5;124mf\u001b[39m\u001b[38;5;124m\"\u001b[39m\u001b[38;5;124mcannot convert the series to \u001b[39m\u001b[38;5;132;01m{\u001b[39;00mconverter\u001b[38;5;132;01m}\u001b[39;00m\u001b[38;5;124m\"\u001b[39m)\n",
      "\u001b[0;31mTypeError\u001b[0m: cannot convert the series to <class 'int'>"
     ]
    }
   ],
   "source": [
    "species_p0, counts_p0, full_tax, indexes = top_counts(species_by_phase_df, 'all', top=10, filtering=True)\n",
    "# for i, c in enumerate(counts_p0):\n",
    "#     print(f'{i+1} - {species_p0[i]}: {c}')"
   ]
  }
 ],
 "metadata": {
  "celltoolbar": "Edit Metadata",
  "kernelspec": {
   "display_name": "Python 3 (ipykernel)",
   "language": "python",
   "name": "python3"
  },
  "language_info": {
   "codemirror_mode": {
    "name": "ipython",
    "version": 3
   },
   "file_extension": ".py",
   "mimetype": "text/x-python",
   "name": "python",
   "nbconvert_exporter": "python",
   "pygments_lexer": "ipython3",
   "version": "3.8.12"
  },
  "toc-autonumbering": false,
  "toc-showcode": false,
  "toc-showmarkdowntxt": false
 },
 "nbformat": 4,
 "nbformat_minor": 4
}
