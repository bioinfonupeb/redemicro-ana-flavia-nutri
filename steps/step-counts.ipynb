{
 "cells": [
  {
   "cell_type": "markdown",
   "metadata": {},
   "source": [
    "# The QIIME2 Pipeline Artifacts Analysis\n",
    "\n",
    "This notebook performs the analytical processing of the artifacts generated through the QIIME2's metagenomic pipeline."
   ]
  },
  {
   "cell_type": "markdown",
   "metadata": {},
   "source": [
    "---"
   ]
  },
  {
   "cell_type": "markdown",
   "metadata": {},
   "source": [
    "## Setting the environment"
   ]
  },
  {
   "cell_type": "markdown",
   "metadata": {},
   "source": [
    "### Importing packages"
   ]
  },
  {
   "cell_type": "code",
   "execution_count": 54,
   "metadata": {
    "ExecuteTime": {
     "end_time": "2022-06-13T16:30:54.969347Z",
     "start_time": "2022-06-13T16:30:54.955527Z"
    }
   },
   "outputs": [],
   "source": [
    "import pandas as pd\n",
    "import numpy as np\n",
    "import seaborn as sns\n",
    "import matplotlib.pyplot as plt\n",
    "# from matplotlib_venn import venn2, venn3\n",
    "import os\n",
    "import re\n",
    "from qiime2.plugins import feature_table\n",
    "from qiime2 import Artifact, Visualization\n",
    "from qiime2 import Metadata\n",
    "from qiime2.plugins.metadata.visualizers import tabulate\n",
    "from qiime2.plugins.feature_table.methods import filter_samples\n",
    "from qiime2.plugins.feature_table.methods import group\n",
    "from qiime2.plugins.feature_table.methods import presence_absence\n",
    "from qiime2.plugins.taxa.methods import collapse\n",
    "from qiime2.plugins import metadata\n",
    "\n",
    "from collections import Counter\n",
    "\n",
    "from utils import *\n",
    "\n",
    "#from qiime2.plugins import demux, dada2, deblur, quality_filter, metadata, feature_table, alignment, phylogeny, diversity, emperor, feature_classifier, taxa, composition\n",
    "\n",
    "fmt = 'pdf'\n",
    "dpi = 600\n",
    "\n",
    "%matplotlib inline"
   ]
  },
  {
   "cell_type": "markdown",
   "metadata": {},
   "source": [
    "### Defining the basepaths"
   ]
  },
  {
   "cell_type": "code",
   "execution_count": 2,
   "metadata": {
    "ExecuteTime": {
     "end_time": "2022-06-13T16:24:02.701531Z",
     "start_time": "2022-06-13T16:24:02.697471Z"
    },
    "tags": [
     "parameters"
    ]
   },
   "outputs": [],
   "source": [
    "metadata_file = os.path.abspath(os.path.join(os.getcwd(), '..', 'data', 'raw', 'metadata', 'not-hist-feces-metadata.tsv'))\n",
    "experiment_folder = os.path.abspath(os.path.join(os.getcwd(), '..', 'experiments', 'thayane-feces-01'))\n",
    "img_folder = os.path.abspath(os.path.join(experiment_folder, 'imgs'))\n",
    "\n",
    "qiime_folder = os.path.join(experiment_folder, 'qiime-artifacts')\n",
    "\n",
    "tabs_file = os.path.join(qiime_folder, 'dada2-tabs.qza')\n",
    "reps_file = os.path.join(qiime_folder, 'dada2-reps.qza')\n",
    "tax_file = os.path.join(qiime_folder, 'metatax.qza')\n",
    "\n",
    "replace_files = False"
   ]
  },
  {
   "cell_type": "markdown",
   "metadata": {},
   "source": [
    "---"
   ]
  },
  {
   "cell_type": "markdown",
   "metadata": {},
   "source": [
    "## Data ingestion"
   ]
  },
  {
   "cell_type": "markdown",
   "metadata": {},
   "source": [
    "### Ingesting Metadata table\n",
    "\n",
    "Load Metadata TSV file as a Metadata object of QIIME2 API."
   ]
  },
  {
   "cell_type": "code",
   "execution_count": 3,
   "metadata": {
    "ExecuteTime": {
     "end_time": "2022-06-13T16:24:02.726997Z",
     "start_time": "2022-06-13T16:24:02.702962Z"
    }
   },
   "outputs": [],
   "source": [
    "# Ingest metadata tsv to qiime2.metadata.metadata.Metadata object\n",
    "sample_metadata = Metadata.load(metadata_file)"
   ]
  },
  {
   "cell_type": "code",
   "execution_count": 51,
   "metadata": {
    "ExecuteTime": {
     "end_time": "2022-06-13T16:27:35.727278Z",
     "start_time": "2022-06-13T16:27:35.722502Z"
    }
   },
   "outputs": [],
   "source": [
    "metadata_df = sample_metadata.to_dataframe()"
   ]
  },
  {
   "cell_type": "code",
   "execution_count": 57,
   "metadata": {
    "ExecuteTime": {
     "end_time": "2022-06-13T16:34:35.403884Z",
     "start_time": "2022-06-13T16:34:35.378842Z"
    }
   },
   "outputs": [
    {
     "data": {
      "text/html": [
       "<div>\n",
       "<style scoped>\n",
       "    .dataframe tbody tr th:only-of-type {\n",
       "        vertical-align: middle;\n",
       "    }\n",
       "\n",
       "    .dataframe tbody tr th {\n",
       "        vertical-align: top;\n",
       "    }\n",
       "\n",
       "    .dataframe thead th {\n",
       "        text-align: right;\n",
       "    }\n",
       "</style>\n",
       "<table border=\"1\" class=\"dataframe\">\n",
       "  <thead>\n",
       "    <tr style=\"text-align: right;\">\n",
       "      <th></th>\n",
       "      <th>s_name</th>\n",
       "      <th>observations</th>\n",
       "      <th>individuo</th>\n",
       "      <th>id_vaginal</th>\n",
       "      <th>id_fezes</th>\n",
       "      <th>local_de_coleta</th>\n",
       "      <th>idade</th>\n",
       "      <th>class_meno</th>\n",
       "    </tr>\n",
       "    <tr>\n",
       "      <th>#SampleID</th>\n",
       "      <th></th>\n",
       "      <th></th>\n",
       "      <th></th>\n",
       "      <th></th>\n",
       "      <th></th>\n",
       "      <th></th>\n",
       "      <th></th>\n",
       "      <th></th>\n",
       "    </tr>\n",
       "  </thead>\n",
       "  <tbody>\n",
       "    <tr>\n",
       "      <th>I1-M05</th>\n",
       "      <td>M05</td>\n",
       "      <td>DNA FEZES</td>\n",
       "      <td>I1</td>\n",
       "      <td>MV01</td>\n",
       "      <td>M05</td>\n",
       "      <td>LAPAC</td>\n",
       "      <td>56.0</td>\n",
       "      <td>2</td>\n",
       "    </tr>\n",
       "    <tr>\n",
       "      <th>I2-M33</th>\n",
       "      <td>M33</td>\n",
       "      <td>DNA FEZES</td>\n",
       "      <td>I2</td>\n",
       "      <td>MV02</td>\n",
       "      <td>M33</td>\n",
       "      <td>LAPAC</td>\n",
       "      <td>52.0</td>\n",
       "      <td>2</td>\n",
       "    </tr>\n",
       "    <tr>\n",
       "      <th>I3-M34</th>\n",
       "      <td>M34</td>\n",
       "      <td>DNA FEZES</td>\n",
       "      <td>I3</td>\n",
       "      <td>MV03</td>\n",
       "      <td>M34</td>\n",
       "      <td>LAPAC</td>\n",
       "      <td>58.0</td>\n",
       "      <td>2</td>\n",
       "    </tr>\n",
       "    <tr>\n",
       "      <th>I4-M35</th>\n",
       "      <td>M35</td>\n",
       "      <td>DNA FEZES</td>\n",
       "      <td>I4</td>\n",
       "      <td>MV04</td>\n",
       "      <td>M35</td>\n",
       "      <td>LAPAC</td>\n",
       "      <td>58.0</td>\n",
       "      <td>2</td>\n",
       "    </tr>\n",
       "    <tr>\n",
       "      <th>I7-M36</th>\n",
       "      <td>M36</td>\n",
       "      <td>DNA FEZES</td>\n",
       "      <td>I7</td>\n",
       "      <td>MV07</td>\n",
       "      <td>M36</td>\n",
       "      <td>LAPAC</td>\n",
       "      <td>46.0</td>\n",
       "      <td>0</td>\n",
       "    </tr>\n",
       "    <tr>\n",
       "      <th>...</th>\n",
       "      <td>...</td>\n",
       "      <td>...</td>\n",
       "      <td>...</td>\n",
       "      <td>...</td>\n",
       "      <td>...</td>\n",
       "      <td>...</td>\n",
       "      <td>...</td>\n",
       "      <td>...</td>\n",
       "    </tr>\n",
       "    <tr>\n",
       "      <th>I71-M151</th>\n",
       "      <td>M151</td>\n",
       "      <td>DNA FEZES</td>\n",
       "      <td>I71</td>\n",
       "      <td>MV120</td>\n",
       "      <td>M151</td>\n",
       "      <td>RODRIGO SILVA</td>\n",
       "      <td>61.0</td>\n",
       "      <td>2</td>\n",
       "    </tr>\n",
       "    <tr>\n",
       "      <th>I72-M155</th>\n",
       "      <td>M155</td>\n",
       "      <td>DNA FEZES</td>\n",
       "      <td>I72</td>\n",
       "      <td>MV124</td>\n",
       "      <td>M155</td>\n",
       "      <td>SARAMENHA</td>\n",
       "      <td>47.0</td>\n",
       "      <td>2</td>\n",
       "    </tr>\n",
       "    <tr>\n",
       "      <th>I73-M156</th>\n",
       "      <td>M156</td>\n",
       "      <td>DNA FEZES</td>\n",
       "      <td>I73</td>\n",
       "      <td>MV125</td>\n",
       "      <td>M156</td>\n",
       "      <td>GLAURA</td>\n",
       "      <td>46.0</td>\n",
       "      <td>2</td>\n",
       "    </tr>\n",
       "    <tr>\n",
       "      <th>I75-M162</th>\n",
       "      <td>M162</td>\n",
       "      <td>DNA FEZES</td>\n",
       "      <td>I75</td>\n",
       "      <td>MV131</td>\n",
       "      <td>M162</td>\n",
       "      <td>GLAURA</td>\n",
       "      <td>59.0</td>\n",
       "      <td>1</td>\n",
       "    </tr>\n",
       "    <tr>\n",
       "      <th>I76-M164</th>\n",
       "      <td>M164</td>\n",
       "      <td>DNA FEZES</td>\n",
       "      <td>I76</td>\n",
       "      <td>MV133</td>\n",
       "      <td>M164</td>\n",
       "      <td>GLAURA</td>\n",
       "      <td>48.0</td>\n",
       "      <td>1</td>\n",
       "    </tr>\n",
       "  </tbody>\n",
       "</table>\n",
       "<p>66 rows × 8 columns</p>\n",
       "</div>"
      ],
      "text/plain": [
       "          s_name observations individuo id_vaginal id_fezes local_de_coleta  \\\n",
       "#SampleID                                                                     \n",
       "I1-M05       M05    DNA FEZES        I1       MV01      M05           LAPAC   \n",
       "I2-M33       M33    DNA FEZES        I2       MV02      M33           LAPAC   \n",
       "I3-M34       M34    DNA FEZES        I3       MV03      M34           LAPAC   \n",
       "I4-M35       M35    DNA FEZES        I4       MV04      M35           LAPAC   \n",
       "I7-M36       M36    DNA FEZES        I7       MV07      M36           LAPAC   \n",
       "...          ...          ...       ...        ...      ...             ...   \n",
       "I71-M151    M151    DNA FEZES       I71      MV120     M151   RODRIGO SILVA   \n",
       "I72-M155    M155    DNA FEZES       I72      MV124     M155       SARAMENHA   \n",
       "I73-M156    M156    DNA FEZES       I73      MV125     M156          GLAURA   \n",
       "I75-M162    M162    DNA FEZES       I75      MV131     M162          GLAURA   \n",
       "I76-M164    M164    DNA FEZES       I76      MV133     M164          GLAURA   \n",
       "\n",
       "           idade class_meno  \n",
       "#SampleID                    \n",
       "I1-M05      56.0          2  \n",
       "I2-M33      52.0          2  \n",
       "I3-M34      58.0          2  \n",
       "I4-M35      58.0          2  \n",
       "I7-M36      46.0          0  \n",
       "...          ...        ...  \n",
       "I71-M151    61.0          2  \n",
       "I72-M155    47.0          2  \n",
       "I73-M156    46.0          2  \n",
       "I75-M162    59.0          1  \n",
       "I76-M164    48.0          1  \n",
       "\n",
       "[66 rows x 8 columns]"
      ]
     },
     "execution_count": 57,
     "metadata": {},
     "output_type": "execute_result"
    }
   ],
   "source": [
    "metadata_df"
   ]
  },
  {
   "cell_type": "code",
   "execution_count": 63,
   "metadata": {
    "ExecuteTime": {
     "end_time": "2022-06-13T16:37:01.098765Z",
     "start_time": "2022-06-13T16:37:00.493064Z"
    }
   },
   "outputs": [
    {
     "data": {
      "image/png": "[encoded data removed]",
      "text/plain": [
       "<Figure size 426.125x360 with 1 Axes>"
      ]
     },
     "metadata": {
      "needs_background": "light"
     },
     "output_type": "display_data"
    }
   ],
   "source": [
    "fpath = os.path.abspath(os.path.join(img_folder, f'hist-age-phase.{fmt}'))\n",
    "\n",
    "ax = sns.displot(\n",
    "    metadata_df, \n",
    "    x=\"idade\", \n",
    "    hue=\"class_meno\", \n",
    "    element=\"bars\",  \n",
    "    multiple=\"stack\", \n",
    "    kind=\"hist\",\n",
    "    bins=6,\n",
    "    binrange=[40,65],\n",
    "    binwidth=5\n",
    "    #kwargs={'binrange':[40,65], 'binwidth':5}\n",
    ")\n",
    "ax._legend.remove()\n",
    "ax.set_axis_labels('Intervalos de Idades', 'Número de mulheres')\n",
    "labels = [\"Transição\",\"Reprodutivo\",\"Pós-menopausa\"]\n",
    "plt.legend(labels=labels, title=\"Fases do ciclo reprodutivo\", loc=2, bbox_to_anchor=(1,1))\n",
    "plt.savefig(fpath, format=fmt, dpi=dpi, bbox_inches='tight')\n",
    "plt.show()"
   ]
  },
  {
   "cell_type": "code",
   "execution_count": 66,
   "metadata": {
    "ExecuteTime": {
     "end_time": "2022-06-13T17:20:09.192791Z",
     "start_time": "2022-06-13T17:20:09.010343Z"
    }
   },
   "outputs": [
    {
     "data": {
      "image/png": "[encoded data removed]",
      "text/plain": [
       "<Figure size 648x648 with 1 Axes>"
      ]
     },
     "metadata": {},
     "output_type": "display_data"
    }
   ],
   "source": [
    "fpath = os.path.abspath(os.path.join(img_folder, f'pie-phases.{fmt}'))\n",
    "\n",
    "labels = ['Pós-menopausa', 'Transição', 'Reprodutivo']\n",
    "fig, ax = plt.subplots(figsize=(9, 9))\n",
    "ax.pie(\n",
    "    metadata_df['class_meno'].value_counts(),\n",
    "    autopct='%.1f%%',\n",
    "    labels=labels,\n",
    "    colors=['tab:blue', 'tab:green', 'tab:orange']\n",
    ")\n",
    "plt.tight_layout()\n",
    "plt.savefig(fpath, format=fmt, dpi=dpi, bbox_inches='tight')\n",
    "plt.show()"
   ]
  },
  {
   "cell_type": "markdown",
   "metadata": {
    "hidden": true
   },
   "source": [
    "Metadata visualization"
   ]
  },
  {
   "cell_type": "code",
   "execution_count": 4,
   "metadata": {
    "ExecuteTime": {
     "end_time": "2022-06-13T16:24:02.730989Z",
     "start_time": "2022-06-13T16:24:02.728725Z"
    },
    "hidden": true
   },
   "outputs": [],
   "source": [
    "# tabulate(sample_metadata).visualization"
   ]
  },
  {
   "cell_type": "markdown",
   "metadata": {},
   "source": [
    "### Ingesting the ASV table"
   ]
  },
  {
   "cell_type": "markdown",
   "metadata": {},
   "source": [
    "Load ASV table with filtered features. Extract absolute counts for each feature"
   ]
  },
  {
   "cell_type": "code",
   "execution_count": 5,
   "metadata": {
    "ExecuteTime": {
     "end_time": "2022-06-13T16:24:02.781233Z",
     "start_time": "2022-06-13T16:24:02.732210Z"
    },
    "scrolled": true
   },
   "outputs": [
    {
     "data": {
      "text/plain": [
       "<artifact: FeatureTable[Frequency] uuid: d5ba9a95-3a4d-4abb-80f8-899291b5be2d>"
      ]
     },
     "execution_count": 5,
     "metadata": {},
     "output_type": "execute_result"
    }
   ],
   "source": [
    "frequency_table_path = tabs_file\n",
    "frequency_table = Artifact.load(frequency_table_path)\n",
    "frequency_table"
   ]
  },
  {
   "cell_type": "code",
   "execution_count": 6,
   "metadata": {
    "ExecuteTime": {
     "end_time": "2022-06-13T16:24:02.795160Z",
     "start_time": "2022-06-13T16:24:02.783203Z"
    }
   },
   "outputs": [
    {
     "data": {
      "text/plain": [
       "<artifact: FeatureData[Sequence] uuid: 07f7b580-0043-4dc4-b429-38b4af4e4bd4>"
      ]
     },
     "execution_count": 6,
     "metadata": {},
     "output_type": "execute_result"
    }
   ],
   "source": [
    "frequency_reps_path = reps_file\n",
    "frequency_reps = Artifact.load(frequency_reps_path)\n",
    "frequency_reps"
   ]
  },
  {
   "cell_type": "markdown",
   "metadata": {},
   "source": [
    "Full ASV table visualization"
   ]
  },
  {
   "cell_type": "code",
   "execution_count": 7,
   "metadata": {
    "ExecuteTime": {
     "end_time": "2022-06-13T16:24:02.824214Z",
     "start_time": "2022-06-13T16:24:02.796537Z"
    }
   },
   "outputs": [],
   "source": [
    "#metadata.visualizers.tabulate(frequency_table.view(Metadata)).visualization"
   ]
  },
  {
   "cell_type": "markdown",
   "metadata": {},
   "source": [
    "Transforming to Pandas DataFrame object"
   ]
  },
  {
   "cell_type": "code",
   "execution_count": 8,
   "metadata": {
    "ExecuteTime": {
     "end_time": "2022-06-13T16:24:04.288780Z",
     "start_time": "2022-06-13T16:24:02.826385Z"
    },
    "scrolled": true
   },
   "outputs": [
    {
     "data": {
      "text/html": [
       "<div>\n",
       "<style scoped>\n",
       "    .dataframe tbody tr th:only-of-type {\n",
       "        vertical-align: middle;\n",
       "    }\n",
       "\n",
       "    .dataframe tbody tr th {\n",
       "        vertical-align: top;\n",
       "    }\n",
       "\n",
       "    .dataframe thead th {\n",
       "        text-align: right;\n",
       "    }\n",
       "</style>\n",
       "<table border=\"1\" class=\"dataframe\">\n",
       "  <thead>\n",
       "    <tr style=\"text-align: right;\">\n",
       "      <th>id</th>\n",
       "      <th>I1-M05</th>\n",
       "      <th>I10-M91</th>\n",
       "      <th>I11-M44</th>\n",
       "      <th>I12-M45</th>\n",
       "      <th>I13-M46</th>\n",
       "      <th>I14-M47</th>\n",
       "      <th>I15-M49</th>\n",
       "      <th>I16-M52</th>\n",
       "      <th>I17-M55</th>\n",
       "      <th>I18-M07</th>\n",
       "      <th>...</th>\n",
       "      <th>I68-M144</th>\n",
       "      <th>I69-M148</th>\n",
       "      <th>I7-M36</th>\n",
       "      <th>I70-M150</th>\n",
       "      <th>I71-M151</th>\n",
       "      <th>I72-M155</th>\n",
       "      <th>I73-M156</th>\n",
       "      <th>I75-M162</th>\n",
       "      <th>I76-M164</th>\n",
       "      <th>I8-M39</th>\n",
       "    </tr>\n",
       "  </thead>\n",
       "  <tbody>\n",
       "    <tr>\n",
       "      <th>074b2d2eeb19288d75bf8e64784db602</th>\n",
       "      <td>0.0</td>\n",
       "      <td>786.0</td>\n",
       "      <td>0.0</td>\n",
       "      <td>1118.0</td>\n",
       "      <td>0.0</td>\n",
       "      <td>0.0</td>\n",
       "      <td>0.0</td>\n",
       "      <td>0.0</td>\n",
       "      <td>330.0</td>\n",
       "      <td>0.0</td>\n",
       "      <td>...</td>\n",
       "      <td>0.0</td>\n",
       "      <td>0.0</td>\n",
       "      <td>0.0</td>\n",
       "      <td>0.0</td>\n",
       "      <td>0.0</td>\n",
       "      <td>1259.0</td>\n",
       "      <td>741.0</td>\n",
       "      <td>0.0</td>\n",
       "      <td>0.0</td>\n",
       "      <td>1263.0</td>\n",
       "    </tr>\n",
       "    <tr>\n",
       "      <th>6c3b33991621b6c3e04992794a55a3d9</th>\n",
       "      <td>0.0</td>\n",
       "      <td>1634.0</td>\n",
       "      <td>1228.0</td>\n",
       "      <td>1436.0</td>\n",
       "      <td>0.0</td>\n",
       "      <td>0.0</td>\n",
       "      <td>0.0</td>\n",
       "      <td>0.0</td>\n",
       "      <td>0.0</td>\n",
       "      <td>0.0</td>\n",
       "      <td>...</td>\n",
       "      <td>1140.0</td>\n",
       "      <td>0.0</td>\n",
       "      <td>0.0</td>\n",
       "      <td>0.0</td>\n",
       "      <td>0.0</td>\n",
       "      <td>0.0</td>\n",
       "      <td>1427.0</td>\n",
       "      <td>0.0</td>\n",
       "      <td>0.0</td>\n",
       "      <td>773.0</td>\n",
       "    </tr>\n",
       "    <tr>\n",
       "      <th>8b7f2e8ca48676f3a47dfa784c8a9efe</th>\n",
       "      <td>0.0</td>\n",
       "      <td>540.0</td>\n",
       "      <td>0.0</td>\n",
       "      <td>872.0</td>\n",
       "      <td>0.0</td>\n",
       "      <td>0.0</td>\n",
       "      <td>0.0</td>\n",
       "      <td>0.0</td>\n",
       "      <td>0.0</td>\n",
       "      <td>0.0</td>\n",
       "      <td>...</td>\n",
       "      <td>0.0</td>\n",
       "      <td>0.0</td>\n",
       "      <td>3095.0</td>\n",
       "      <td>0.0</td>\n",
       "      <td>0.0</td>\n",
       "      <td>0.0</td>\n",
       "      <td>0.0</td>\n",
       "      <td>0.0</td>\n",
       "      <td>0.0</td>\n",
       "      <td>652.0</td>\n",
       "    </tr>\n",
       "    <tr>\n",
       "      <th>7a1d4d3ec513655bbe964c4ab022e6fe</th>\n",
       "      <td>0.0</td>\n",
       "      <td>0.0</td>\n",
       "      <td>444.0</td>\n",
       "      <td>0.0</td>\n",
       "      <td>52.0</td>\n",
       "      <td>574.0</td>\n",
       "      <td>0.0</td>\n",
       "      <td>0.0</td>\n",
       "      <td>0.0</td>\n",
       "      <td>0.0</td>\n",
       "      <td>...</td>\n",
       "      <td>0.0</td>\n",
       "      <td>0.0</td>\n",
       "      <td>0.0</td>\n",
       "      <td>0.0</td>\n",
       "      <td>0.0</td>\n",
       "      <td>568.0</td>\n",
       "      <td>726.0</td>\n",
       "      <td>1033.0</td>\n",
       "      <td>315.0</td>\n",
       "      <td>0.0</td>\n",
       "    </tr>\n",
       "    <tr>\n",
       "      <th>b53b25874d0529b37d36bfc78e32c894</th>\n",
       "      <td>0.0</td>\n",
       "      <td>1464.0</td>\n",
       "      <td>1300.0</td>\n",
       "      <td>1210.0</td>\n",
       "      <td>0.0</td>\n",
       "      <td>0.0</td>\n",
       "      <td>0.0</td>\n",
       "      <td>0.0</td>\n",
       "      <td>0.0</td>\n",
       "      <td>0.0</td>\n",
       "      <td>...</td>\n",
       "      <td>0.0</td>\n",
       "      <td>0.0</td>\n",
       "      <td>0.0</td>\n",
       "      <td>0.0</td>\n",
       "      <td>0.0</td>\n",
       "      <td>0.0</td>\n",
       "      <td>1318.0</td>\n",
       "      <td>0.0</td>\n",
       "      <td>2022.0</td>\n",
       "      <td>621.0</td>\n",
       "    </tr>\n",
       "    <tr>\n",
       "      <th>...</th>\n",
       "      <td>...</td>\n",
       "      <td>...</td>\n",
       "      <td>...</td>\n",
       "      <td>...</td>\n",
       "      <td>...</td>\n",
       "      <td>...</td>\n",
       "      <td>...</td>\n",
       "      <td>...</td>\n",
       "      <td>...</td>\n",
       "      <td>...</td>\n",
       "      <td>...</td>\n",
       "      <td>...</td>\n",
       "      <td>...</td>\n",
       "      <td>...</td>\n",
       "      <td>...</td>\n",
       "      <td>...</td>\n",
       "      <td>...</td>\n",
       "      <td>...</td>\n",
       "      <td>...</td>\n",
       "      <td>...</td>\n",
       "      <td>...</td>\n",
       "    </tr>\n",
       "    <tr>\n",
       "      <th>ee5a1924a299e186d7f904e5aa898bd1</th>\n",
       "      <td>0.0</td>\n",
       "      <td>0.0</td>\n",
       "      <td>0.0</td>\n",
       "      <td>0.0</td>\n",
       "      <td>0.0</td>\n",
       "      <td>0.0</td>\n",
       "      <td>0.0</td>\n",
       "      <td>0.0</td>\n",
       "      <td>0.0</td>\n",
       "      <td>0.0</td>\n",
       "      <td>...</td>\n",
       "      <td>0.0</td>\n",
       "      <td>0.0</td>\n",
       "      <td>0.0</td>\n",
       "      <td>0.0</td>\n",
       "      <td>0.0</td>\n",
       "      <td>0.0</td>\n",
       "      <td>0.0</td>\n",
       "      <td>0.0</td>\n",
       "      <td>0.0</td>\n",
       "      <td>0.0</td>\n",
       "    </tr>\n",
       "    <tr>\n",
       "      <th>143582bcba9a90e4a585ed60042a6f0d</th>\n",
       "      <td>0.0</td>\n",
       "      <td>0.0</td>\n",
       "      <td>0.0</td>\n",
       "      <td>0.0</td>\n",
       "      <td>0.0</td>\n",
       "      <td>0.0</td>\n",
       "      <td>0.0</td>\n",
       "      <td>0.0</td>\n",
       "      <td>0.0</td>\n",
       "      <td>0.0</td>\n",
       "      <td>...</td>\n",
       "      <td>0.0</td>\n",
       "      <td>0.0</td>\n",
       "      <td>0.0</td>\n",
       "      <td>0.0</td>\n",
       "      <td>0.0</td>\n",
       "      <td>0.0</td>\n",
       "      <td>0.0</td>\n",
       "      <td>0.0</td>\n",
       "      <td>0.0</td>\n",
       "      <td>0.0</td>\n",
       "    </tr>\n",
       "    <tr>\n",
       "      <th>c713157aa6936b23861463951dfb6a3b</th>\n",
       "      <td>0.0</td>\n",
       "      <td>0.0</td>\n",
       "      <td>0.0</td>\n",
       "      <td>0.0</td>\n",
       "      <td>0.0</td>\n",
       "      <td>0.0</td>\n",
       "      <td>0.0</td>\n",
       "      <td>0.0</td>\n",
       "      <td>0.0</td>\n",
       "      <td>0.0</td>\n",
       "      <td>...</td>\n",
       "      <td>0.0</td>\n",
       "      <td>0.0</td>\n",
       "      <td>0.0</td>\n",
       "      <td>0.0</td>\n",
       "      <td>0.0</td>\n",
       "      <td>0.0</td>\n",
       "      <td>1.0</td>\n",
       "      <td>0.0</td>\n",
       "      <td>0.0</td>\n",
       "      <td>0.0</td>\n",
       "    </tr>\n",
       "    <tr>\n",
       "      <th>bd157fd42be3b6728d0080ee52836c14</th>\n",
       "      <td>0.0</td>\n",
       "      <td>0.0</td>\n",
       "      <td>0.0</td>\n",
       "      <td>0.0</td>\n",
       "      <td>0.0</td>\n",
       "      <td>0.0</td>\n",
       "      <td>0.0</td>\n",
       "      <td>0.0</td>\n",
       "      <td>0.0</td>\n",
       "      <td>0.0</td>\n",
       "      <td>...</td>\n",
       "      <td>0.0</td>\n",
       "      <td>0.0</td>\n",
       "      <td>0.0</td>\n",
       "      <td>0.0</td>\n",
       "      <td>0.0</td>\n",
       "      <td>0.0</td>\n",
       "      <td>1.0</td>\n",
       "      <td>0.0</td>\n",
       "      <td>0.0</td>\n",
       "      <td>0.0</td>\n",
       "    </tr>\n",
       "    <tr>\n",
       "      <th>7be16af1fd4a487fd9e6380727a69555</th>\n",
       "      <td>0.0</td>\n",
       "      <td>0.0</td>\n",
       "      <td>0.0</td>\n",
       "      <td>0.0</td>\n",
       "      <td>0.0</td>\n",
       "      <td>0.0</td>\n",
       "      <td>0.0</td>\n",
       "      <td>0.0</td>\n",
       "      <td>0.0</td>\n",
       "      <td>0.0</td>\n",
       "      <td>...</td>\n",
       "      <td>0.0</td>\n",
       "      <td>0.0</td>\n",
       "      <td>0.0</td>\n",
       "      <td>0.0</td>\n",
       "      <td>0.0</td>\n",
       "      <td>0.0</td>\n",
       "      <td>0.0</td>\n",
       "      <td>1.0</td>\n",
       "      <td>0.0</td>\n",
       "      <td>0.0</td>\n",
       "    </tr>\n",
       "  </tbody>\n",
       "</table>\n",
       "<p>2918 rows × 66 columns</p>\n",
       "</div>"
      ],
      "text/plain": [
       "id                                I1-M05  I10-M91  I11-M44  I12-M45  I13-M46  \\\n",
       "074b2d2eeb19288d75bf8e64784db602     0.0    786.0      0.0   1118.0      0.0   \n",
       "6c3b33991621b6c3e04992794a55a3d9     0.0   1634.0   1228.0   1436.0      0.0   \n",
       "8b7f2e8ca48676f3a47dfa784c8a9efe     0.0    540.0      0.0    872.0      0.0   \n",
       "7a1d4d3ec513655bbe964c4ab022e6fe     0.0      0.0    444.0      0.0     52.0   \n",
       "b53b25874d0529b37d36bfc78e32c894     0.0   1464.0   1300.0   1210.0      0.0   \n",
       "...                                  ...      ...      ...      ...      ...   \n",
       "ee5a1924a299e186d7f904e5aa898bd1     0.0      0.0      0.0      0.0      0.0   \n",
       "143582bcba9a90e4a585ed60042a6f0d     0.0      0.0      0.0      0.0      0.0   \n",
       "c713157aa6936b23861463951dfb6a3b     0.0      0.0      0.0      0.0      0.0   \n",
       "bd157fd42be3b6728d0080ee52836c14     0.0      0.0      0.0      0.0      0.0   \n",
       "7be16af1fd4a487fd9e6380727a69555     0.0      0.0      0.0      0.0      0.0   \n",
       "\n",
       "id                                I14-M47  I15-M49  I16-M52  I17-M55  I18-M07  \\\n",
       "074b2d2eeb19288d75bf8e64784db602      0.0      0.0      0.0    330.0      0.0   \n",
       "6c3b33991621b6c3e04992794a55a3d9      0.0      0.0      0.0      0.0      0.0   \n",
       "8b7f2e8ca48676f3a47dfa784c8a9efe      0.0      0.0      0.0      0.0      0.0   \n",
       "7a1d4d3ec513655bbe964c4ab022e6fe    574.0      0.0      0.0      0.0      0.0   \n",
       "b53b25874d0529b37d36bfc78e32c894      0.0      0.0      0.0      0.0      0.0   \n",
       "...                                   ...      ...      ...      ...      ...   \n",
       "ee5a1924a299e186d7f904e5aa898bd1      0.0      0.0      0.0      0.0      0.0   \n",
       "143582bcba9a90e4a585ed60042a6f0d      0.0      0.0      0.0      0.0      0.0   \n",
       "c713157aa6936b23861463951dfb6a3b      0.0      0.0      0.0      0.0      0.0   \n",
       "bd157fd42be3b6728d0080ee52836c14      0.0      0.0      0.0      0.0      0.0   \n",
       "7be16af1fd4a487fd9e6380727a69555      0.0      0.0      0.0      0.0      0.0   \n",
       "\n",
       "id                                ...  I68-M144  I69-M148  I7-M36  I70-M150  \\\n",
       "074b2d2eeb19288d75bf8e64784db602  ...       0.0       0.0     0.0       0.0   \n",
       "6c3b33991621b6c3e04992794a55a3d9  ...    1140.0       0.0     0.0       0.0   \n",
       "8b7f2e8ca48676f3a47dfa784c8a9efe  ...       0.0       0.0  3095.0       0.0   \n",
       "7a1d4d3ec513655bbe964c4ab022e6fe  ...       0.0       0.0     0.0       0.0   \n",
       "b53b25874d0529b37d36bfc78e32c894  ...       0.0       0.0     0.0       0.0   \n",
       "...                               ...       ...       ...     ...       ...   \n",
       "ee5a1924a299e186d7f904e5aa898bd1  ...       0.0       0.0     0.0       0.0   \n",
       "143582bcba9a90e4a585ed60042a6f0d  ...       0.0       0.0     0.0       0.0   \n",
       "c713157aa6936b23861463951dfb6a3b  ...       0.0       0.0     0.0       0.0   \n",
       "bd157fd42be3b6728d0080ee52836c14  ...       0.0       0.0     0.0       0.0   \n",
       "7be16af1fd4a487fd9e6380727a69555  ...       0.0       0.0     0.0       0.0   \n",
       "\n",
       "id                                I71-M151  I72-M155  I73-M156  I75-M162  \\\n",
       "074b2d2eeb19288d75bf8e64784db602       0.0    1259.0     741.0       0.0   \n",
       "6c3b33991621b6c3e04992794a55a3d9       0.0       0.0    1427.0       0.0   \n",
       "8b7f2e8ca48676f3a47dfa784c8a9efe       0.0       0.0       0.0       0.0   \n",
       "7a1d4d3ec513655bbe964c4ab022e6fe       0.0     568.0     726.0    1033.0   \n",
       "b53b25874d0529b37d36bfc78e32c894       0.0       0.0    1318.0       0.0   \n",
       "...                                    ...       ...       ...       ...   \n",
       "ee5a1924a299e186d7f904e5aa898bd1       0.0       0.0       0.0       0.0   \n",
       "143582bcba9a90e4a585ed60042a6f0d       0.0       0.0       0.0       0.0   \n",
       "c713157aa6936b23861463951dfb6a3b       0.0       0.0       1.0       0.0   \n",
       "bd157fd42be3b6728d0080ee52836c14       0.0       0.0       1.0       0.0   \n",
       "7be16af1fd4a487fd9e6380727a69555       0.0       0.0       0.0       1.0   \n",
       "\n",
       "id                                I76-M164  I8-M39  \n",
       "074b2d2eeb19288d75bf8e64784db602       0.0  1263.0  \n",
       "6c3b33991621b6c3e04992794a55a3d9       0.0   773.0  \n",
       "8b7f2e8ca48676f3a47dfa784c8a9efe       0.0   652.0  \n",
       "7a1d4d3ec513655bbe964c4ab022e6fe     315.0     0.0  \n",
       "b53b25874d0529b37d36bfc78e32c894    2022.0   621.0  \n",
       "...                                    ...     ...  \n",
       "ee5a1924a299e186d7f904e5aa898bd1       0.0     0.0  \n",
       "143582bcba9a90e4a585ed60042a6f0d       0.0     0.0  \n",
       "c713157aa6936b23861463951dfb6a3b       0.0     0.0  \n",
       "bd157fd42be3b6728d0080ee52836c14       0.0     0.0  \n",
       "7be16af1fd4a487fd9e6380727a69555       0.0     0.0  \n",
       "\n",
       "[2918 rows x 66 columns]"
      ]
     },
     "execution_count": 8,
     "metadata": {},
     "output_type": "execute_result"
    }
   ],
   "source": [
    "full_table_df = frequency_table.view(Metadata).to_dataframe().T\n",
    "full_table_df"
   ]
  },
  {
   "cell_type": "markdown",
   "metadata": {},
   "source": [
    "### Ingesting Taxon table\n",
    "\n",
    "Ingesting table with all features and corresponding inferred taxon followed by a confidence score."
   ]
  },
  {
   "cell_type": "code",
   "execution_count": 9,
   "metadata": {
    "ExecuteTime": {
     "end_time": "2022-06-13T16:24:04.308261Z",
     "start_time": "2022-06-13T16:24:04.290277Z"
    },
    "scrolled": true
   },
   "outputs": [
    {
     "data": {
      "text/plain": [
       "<artifact: FeatureData[Taxonomy] uuid: 77490e83-8c5f-44d2-9360-5fcbe79fe7d5>"
      ]
     },
     "execution_count": 9,
     "metadata": {},
     "output_type": "execute_result"
    }
   ],
   "source": [
    "taxon_path = tax_file\n",
    "table_tax = Artifact.load(taxon_path)\n",
    "table_tax"
   ]
  },
  {
   "cell_type": "markdown",
   "metadata": {},
   "source": [
    "Taxon table visualization"
   ]
  },
  {
   "cell_type": "code",
   "execution_count": 10,
   "metadata": {
    "ExecuteTime": {
     "end_time": "2022-06-13T16:24:04.356608Z",
     "start_time": "2022-06-13T16:24:04.310708Z"
    }
   },
   "outputs": [],
   "source": [
    "# metadata.visualizers.tabulate(table_tax.view(Metadata)).visualization"
   ]
  },
  {
   "cell_type": "markdown",
   "metadata": {},
   "source": [
    "Transforming to Pandas DataFrame object"
   ]
  },
  {
   "cell_type": "code",
   "execution_count": 11,
   "metadata": {
    "ExecuteTime": {
     "end_time": "2022-06-13T16:24:04.398343Z",
     "start_time": "2022-06-13T16:24:04.358665Z"
    }
   },
   "outputs": [],
   "source": [
    "table_tax_df = table_tax.view(Metadata).to_dataframe()"
   ]
  },
  {
   "cell_type": "markdown",
   "metadata": {},
   "source": [
    "---"
   ]
  },
  {
   "cell_type": "markdown",
   "metadata": {},
   "source": [
    "## Analyzing Taxononomy Table"
   ]
  },
  {
   "cell_type": "markdown",
   "metadata": {},
   "source": [
    "### Expanding taxonomy Dataframe columns\n",
    "Transforming Taxon column values to create seven new columns for each taxonomy level."
   ]
  },
  {
   "cell_type": "code",
   "execution_count": 12,
   "metadata": {
    "ExecuteTime": {
     "end_time": "2022-06-13T16:24:04.424646Z",
     "start_time": "2022-06-13T16:24:04.400032Z"
    }
   },
   "outputs": [],
   "source": [
    "tax_levels = ['Reino', 'Filo', 'Classe', 'Ordem', 'Família', 'Gênero', 'Espécie']\n",
    "table_tax_df[tax_levels] = table_tax_df['Taxon'].str.split(';', expand=True)\n",
    "for t in tax_levels:\n",
    "    table_tax_df[t] = table_tax_df[t].str.strip()"
   ]
  },
  {
   "cell_type": "markdown",
   "metadata": {},
   "source": [
    "### Analyzing the ASV taxonomy"
   ]
  },
  {
   "cell_type": "code",
   "execution_count": 13,
   "metadata": {
    "ExecuteTime": {
     "end_time": "2022-06-13T16:24:04.453889Z",
     "start_time": "2022-06-13T16:24:04.426162Z"
    }
   },
   "outputs": [],
   "source": [
    "full_table_tax_df = pd.merge(full_table_df, table_tax_df, left_index=True, right_index=True)"
   ]
  },
  {
   "cell_type": "code",
   "execution_count": 14,
   "metadata": {
    "ExecuteTime": {
     "end_time": "2022-06-13T16:24:04.468030Z",
     "start_time": "2022-06-13T16:24:04.455507Z"
    }
   },
   "outputs": [
    {
     "name": "stdout",
     "output_type": "stream",
     "text": [
      "--- Taxonomies found in the ASV table ---\n",
      "Reino: 3\n",
      "Filo: 10\n",
      "Classe: 14\n",
      "Ordem: 30\n",
      "Família: 53\n",
      "Gênero: 137\n",
      "Espécie: 96\n"
     ]
    }
   ],
   "source": [
    "full_unique_taxons = {l: list(filter(None, full_table_tax_df[l].unique())) for l in tax_levels}\n",
    "print('--- Taxonomies found in the ASV table ---')\n",
    "for k, v in full_unique_taxons.items():\n",
    "    print(f'{k}: {len(v)}')"
   ]
  },
  {
   "cell_type": "markdown",
   "metadata": {},
   "source": [
    "### Analyzing *Swab vaginal* taxonomy"
   ]
  },
  {
   "cell_type": "markdown",
   "metadata": {},
   "source": [
    "Generating the expanded Frequencies Dataframe with taxonomies."
   ]
  },
  {
   "cell_type": "code",
   "execution_count": 15,
   "metadata": {
    "ExecuteTime": {
     "end_time": "2022-06-13T16:24:04.557413Z",
     "start_time": "2022-06-13T16:24:04.469602Z"
    }
   },
   "outputs": [
    {
     "data": {
      "text/html": [
       "<div>\n",
       "<style scoped>\n",
       "    .dataframe tbody tr th:only-of-type {\n",
       "        vertical-align: middle;\n",
       "    }\n",
       "\n",
       "    .dataframe tbody tr th {\n",
       "        vertical-align: top;\n",
       "    }\n",
       "\n",
       "    .dataframe thead th {\n",
       "        text-align: right;\n",
       "    }\n",
       "</style>\n",
       "<table border=\"1\" class=\"dataframe\">\n",
       "  <thead>\n",
       "    <tr style=\"text-align: right;\">\n",
       "      <th></th>\n",
       "      <th>I1-M05</th>\n",
       "      <th>I10-M91</th>\n",
       "      <th>I11-M44</th>\n",
       "      <th>I12-M45</th>\n",
       "      <th>I13-M46</th>\n",
       "      <th>I14-M47</th>\n",
       "      <th>I15-M49</th>\n",
       "      <th>I16-M52</th>\n",
       "      <th>I17-M55</th>\n",
       "      <th>I18-M07</th>\n",
       "      <th>...</th>\n",
       "      <th>I8-M39</th>\n",
       "      <th>Taxon</th>\n",
       "      <th>Confidence</th>\n",
       "      <th>Reino</th>\n",
       "      <th>Filo</th>\n",
       "      <th>Classe</th>\n",
       "      <th>Ordem</th>\n",
       "      <th>Família</th>\n",
       "      <th>Gênero</th>\n",
       "      <th>Espécie</th>\n",
       "    </tr>\n",
       "  </thead>\n",
       "  <tbody>\n",
       "    <tr>\n",
       "      <th>074b2d2eeb19288d75bf8e64784db602</th>\n",
       "      <td>0.0</td>\n",
       "      <td>786.0</td>\n",
       "      <td>0.0</td>\n",
       "      <td>1118.0</td>\n",
       "      <td>0.0</td>\n",
       "      <td>0.0</td>\n",
       "      <td>0.0</td>\n",
       "      <td>0.0</td>\n",
       "      <td>330.0</td>\n",
       "      <td>0.0</td>\n",
       "      <td>...</td>\n",
       "      <td>1263.0</td>\n",
       "      <td>d__Bacteria; p__Firmicutes; c__Clostridia; o__...</td>\n",
       "      <td>0.9361387167487187</td>\n",
       "      <td>d__Bacteria</td>\n",
       "      <td>p__Firmicutes</td>\n",
       "      <td>c__Clostridia</td>\n",
       "      <td>o__Lachnospirales</td>\n",
       "      <td>f__Lachnospiraceae</td>\n",
       "      <td>g__Agathobacter</td>\n",
       "      <td>None</td>\n",
       "    </tr>\n",
       "    <tr>\n",
       "      <th>6c3b33991621b6c3e04992794a55a3d9</th>\n",
       "      <td>0.0</td>\n",
       "      <td>1634.0</td>\n",
       "      <td>1228.0</td>\n",
       "      <td>1436.0</td>\n",
       "      <td>0.0</td>\n",
       "      <td>0.0</td>\n",
       "      <td>0.0</td>\n",
       "      <td>0.0</td>\n",
       "      <td>0.0</td>\n",
       "      <td>0.0</td>\n",
       "      <td>...</td>\n",
       "      <td>773.0</td>\n",
       "      <td>d__Bacteria; p__Firmicutes; c__Clostridia; o__...</td>\n",
       "      <td>0.9069445037484893</td>\n",
       "      <td>d__Bacteria</td>\n",
       "      <td>p__Firmicutes</td>\n",
       "      <td>c__Clostridia</td>\n",
       "      <td>o__Lachnospirales</td>\n",
       "      <td>f__Lachnospiraceae</td>\n",
       "      <td>g__Agathobacter</td>\n",
       "      <td>None</td>\n",
       "    </tr>\n",
       "    <tr>\n",
       "      <th>8b7f2e8ca48676f3a47dfa784c8a9efe</th>\n",
       "      <td>0.0</td>\n",
       "      <td>540.0</td>\n",
       "      <td>0.0</td>\n",
       "      <td>872.0</td>\n",
       "      <td>0.0</td>\n",
       "      <td>0.0</td>\n",
       "      <td>0.0</td>\n",
       "      <td>0.0</td>\n",
       "      <td>0.0</td>\n",
       "      <td>0.0</td>\n",
       "      <td>...</td>\n",
       "      <td>652.0</td>\n",
       "      <td>d__Bacteria; p__Firmicutes; c__Clostridia; o__...</td>\n",
       "      <td>0.9999025048147963</td>\n",
       "      <td>d__Bacteria</td>\n",
       "      <td>p__Firmicutes</td>\n",
       "      <td>c__Clostridia</td>\n",
       "      <td>o__Oscillospirales</td>\n",
       "      <td>f__Ruminococcaceae</td>\n",
       "      <td>g__Faecalibacterium</td>\n",
       "      <td>None</td>\n",
       "    </tr>\n",
       "    <tr>\n",
       "      <th>7a1d4d3ec513655bbe964c4ab022e6fe</th>\n",
       "      <td>0.0</td>\n",
       "      <td>0.0</td>\n",
       "      <td>444.0</td>\n",
       "      <td>0.0</td>\n",
       "      <td>52.0</td>\n",
       "      <td>574.0</td>\n",
       "      <td>0.0</td>\n",
       "      <td>0.0</td>\n",
       "      <td>0.0</td>\n",
       "      <td>0.0</td>\n",
       "      <td>...</td>\n",
       "      <td>0.0</td>\n",
       "      <td>d__Bacteria; p__Bacteroidota; c__Bacteroidia; ...</td>\n",
       "      <td>0.7348376775850926</td>\n",
       "      <td>d__Bacteria</td>\n",
       "      <td>p__Bacteroidota</td>\n",
       "      <td>c__Bacteroidia</td>\n",
       "      <td>o__Bacteroidales</td>\n",
       "      <td>f__Bacteroidaceae</td>\n",
       "      <td>g__Bacteroides</td>\n",
       "      <td>s__Bacteroides_vulgatus</td>\n",
       "    </tr>\n",
       "    <tr>\n",
       "      <th>b53b25874d0529b37d36bfc78e32c894</th>\n",
       "      <td>0.0</td>\n",
       "      <td>1464.0</td>\n",
       "      <td>1300.0</td>\n",
       "      <td>1210.0</td>\n",
       "      <td>0.0</td>\n",
       "      <td>0.0</td>\n",
       "      <td>0.0</td>\n",
       "      <td>0.0</td>\n",
       "      <td>0.0</td>\n",
       "      <td>0.0</td>\n",
       "      <td>...</td>\n",
       "      <td>621.0</td>\n",
       "      <td>d__Bacteria; p__Firmicutes; c__Clostridia; o__...</td>\n",
       "      <td>0.9210205535092991</td>\n",
       "      <td>d__Bacteria</td>\n",
       "      <td>p__Firmicutes</td>\n",
       "      <td>c__Clostridia</td>\n",
       "      <td>o__Lachnospirales</td>\n",
       "      <td>f__Lachnospiraceae</td>\n",
       "      <td>g__Agathobacter</td>\n",
       "      <td>None</td>\n",
       "    </tr>\n",
       "    <tr>\n",
       "      <th>...</th>\n",
       "      <td>...</td>\n",
       "      <td>...</td>\n",
       "      <td>...</td>\n",
       "      <td>...</td>\n",
       "      <td>...</td>\n",
       "      <td>...</td>\n",
       "      <td>...</td>\n",
       "      <td>...</td>\n",
       "      <td>...</td>\n",
       "      <td>...</td>\n",
       "      <td>...</td>\n",
       "      <td>...</td>\n",
       "      <td>...</td>\n",
       "      <td>...</td>\n",
       "      <td>...</td>\n",
       "      <td>...</td>\n",
       "      <td>...</td>\n",
       "      <td>...</td>\n",
       "      <td>...</td>\n",
       "      <td>...</td>\n",
       "      <td>...</td>\n",
       "    </tr>\n",
       "    <tr>\n",
       "      <th>ee5a1924a299e186d7f904e5aa898bd1</th>\n",
       "      <td>0.0</td>\n",
       "      <td>0.0</td>\n",
       "      <td>0.0</td>\n",
       "      <td>0.0</td>\n",
       "      <td>0.0</td>\n",
       "      <td>0.0</td>\n",
       "      <td>0.0</td>\n",
       "      <td>0.0</td>\n",
       "      <td>0.0</td>\n",
       "      <td>0.0</td>\n",
       "      <td>...</td>\n",
       "      <td>0.0</td>\n",
       "      <td>d__Bacteria; p__Firmicutes; c__Negativicutes; ...</td>\n",
       "      <td>0.9990948331078099</td>\n",
       "      <td>d__Bacteria</td>\n",
       "      <td>p__Firmicutes</td>\n",
       "      <td>c__Negativicutes</td>\n",
       "      <td>o__Veillonellales-Selenomonadales</td>\n",
       "      <td>f__Veillonellaceae</td>\n",
       "      <td>g__Dialister</td>\n",
       "      <td>None</td>\n",
       "    </tr>\n",
       "    <tr>\n",
       "      <th>143582bcba9a90e4a585ed60042a6f0d</th>\n",
       "      <td>0.0</td>\n",
       "      <td>0.0</td>\n",
       "      <td>0.0</td>\n",
       "      <td>0.0</td>\n",
       "      <td>0.0</td>\n",
       "      <td>0.0</td>\n",
       "      <td>0.0</td>\n",
       "      <td>0.0</td>\n",
       "      <td>0.0</td>\n",
       "      <td>0.0</td>\n",
       "      <td>...</td>\n",
       "      <td>0.0</td>\n",
       "      <td>d__Bacteria; p__Firmicutes; c__Clostridia; o__...</td>\n",
       "      <td>0.8940617497317686</td>\n",
       "      <td>d__Bacteria</td>\n",
       "      <td>p__Firmicutes</td>\n",
       "      <td>c__Clostridia</td>\n",
       "      <td>o__Oscillospirales</td>\n",
       "      <td>f__Ruminococcaceae</td>\n",
       "      <td>g__Ruminococcus</td>\n",
       "      <td>None</td>\n",
       "    </tr>\n",
       "    <tr>\n",
       "      <th>c713157aa6936b23861463951dfb6a3b</th>\n",
       "      <td>0.0</td>\n",
       "      <td>0.0</td>\n",
       "      <td>0.0</td>\n",
       "      <td>0.0</td>\n",
       "      <td>0.0</td>\n",
       "      <td>0.0</td>\n",
       "      <td>0.0</td>\n",
       "      <td>0.0</td>\n",
       "      <td>0.0</td>\n",
       "      <td>0.0</td>\n",
       "      <td>...</td>\n",
       "      <td>0.0</td>\n",
       "      <td>d__Bacteria; p__Firmicutes; c__Bacilli; o__Ery...</td>\n",
       "      <td>0.9997641168791319</td>\n",
       "      <td>d__Bacteria</td>\n",
       "      <td>p__Firmicutes</td>\n",
       "      <td>c__Bacilli</td>\n",
       "      <td>o__Erysipelotrichales</td>\n",
       "      <td>f__Erysipelotrichaceae</td>\n",
       "      <td>g__Holdemanella</td>\n",
       "      <td>None</td>\n",
       "    </tr>\n",
       "    <tr>\n",
       "      <th>bd157fd42be3b6728d0080ee52836c14</th>\n",
       "      <td>0.0</td>\n",
       "      <td>0.0</td>\n",
       "      <td>0.0</td>\n",
       "      <td>0.0</td>\n",
       "      <td>0.0</td>\n",
       "      <td>0.0</td>\n",
       "      <td>0.0</td>\n",
       "      <td>0.0</td>\n",
       "      <td>0.0</td>\n",
       "      <td>0.0</td>\n",
       "      <td>...</td>\n",
       "      <td>0.0</td>\n",
       "      <td>d__Bacteria; p__Firmicutes; c__Clostridia; o__...</td>\n",
       "      <td>0.9995510110548353</td>\n",
       "      <td>d__Bacteria</td>\n",
       "      <td>p__Firmicutes</td>\n",
       "      <td>c__Clostridia</td>\n",
       "      <td>o__Lachnospirales</td>\n",
       "      <td>f__Lachnospiraceae</td>\n",
       "      <td>g__Lachnospiraceae_UCG-010</td>\n",
       "      <td>s__uncultured_organism</td>\n",
       "    </tr>\n",
       "    <tr>\n",
       "      <th>7be16af1fd4a487fd9e6380727a69555</th>\n",
       "      <td>0.0</td>\n",
       "      <td>0.0</td>\n",
       "      <td>0.0</td>\n",
       "      <td>0.0</td>\n",
       "      <td>0.0</td>\n",
       "      <td>0.0</td>\n",
       "      <td>0.0</td>\n",
       "      <td>0.0</td>\n",
       "      <td>0.0</td>\n",
       "      <td>0.0</td>\n",
       "      <td>...</td>\n",
       "      <td>0.0</td>\n",
       "      <td>d__Bacteria; p__Firmicutes; c__Negativicutes; ...</td>\n",
       "      <td>0.8996226089242056</td>\n",
       "      <td>d__Bacteria</td>\n",
       "      <td>p__Firmicutes</td>\n",
       "      <td>c__Negativicutes</td>\n",
       "      <td>o__Veillonellales-Selenomonadales</td>\n",
       "      <td>f__Veillonellaceae</td>\n",
       "      <td>g__Allisonella</td>\n",
       "      <td>None</td>\n",
       "    </tr>\n",
       "  </tbody>\n",
       "</table>\n",
       "<p>2918 rows × 75 columns</p>\n",
       "</div>"
      ],
      "text/plain": [
       "                                  I1-M05  I10-M91  I11-M44  I12-M45  I13-M46  \\\n",
       "074b2d2eeb19288d75bf8e64784db602     0.0    786.0      0.0   1118.0      0.0   \n",
       "6c3b33991621b6c3e04992794a55a3d9     0.0   1634.0   1228.0   1436.0      0.0   \n",
       "8b7f2e8ca48676f3a47dfa784c8a9efe     0.0    540.0      0.0    872.0      0.0   \n",
       "7a1d4d3ec513655bbe964c4ab022e6fe     0.0      0.0    444.0      0.0     52.0   \n",
       "b53b25874d0529b37d36bfc78e32c894     0.0   1464.0   1300.0   1210.0      0.0   \n",
       "...                                  ...      ...      ...      ...      ...   \n",
       "ee5a1924a299e186d7f904e5aa898bd1     0.0      0.0      0.0      0.0      0.0   \n",
       "143582bcba9a90e4a585ed60042a6f0d     0.0      0.0      0.0      0.0      0.0   \n",
       "c713157aa6936b23861463951dfb6a3b     0.0      0.0      0.0      0.0      0.0   \n",
       "bd157fd42be3b6728d0080ee52836c14     0.0      0.0      0.0      0.0      0.0   \n",
       "7be16af1fd4a487fd9e6380727a69555     0.0      0.0      0.0      0.0      0.0   \n",
       "\n",
       "                                  I14-M47  I15-M49  I16-M52  I17-M55  I18-M07  \\\n",
       "074b2d2eeb19288d75bf8e64784db602      0.0      0.0      0.0    330.0      0.0   \n",
       "6c3b33991621b6c3e04992794a55a3d9      0.0      0.0      0.0      0.0      0.0   \n",
       "8b7f2e8ca48676f3a47dfa784c8a9efe      0.0      0.0      0.0      0.0      0.0   \n",
       "7a1d4d3ec513655bbe964c4ab022e6fe    574.0      0.0      0.0      0.0      0.0   \n",
       "b53b25874d0529b37d36bfc78e32c894      0.0      0.0      0.0      0.0      0.0   \n",
       "...                                   ...      ...      ...      ...      ...   \n",
       "ee5a1924a299e186d7f904e5aa898bd1      0.0      0.0      0.0      0.0      0.0   \n",
       "143582bcba9a90e4a585ed60042a6f0d      0.0      0.0      0.0      0.0      0.0   \n",
       "c713157aa6936b23861463951dfb6a3b      0.0      0.0      0.0      0.0      0.0   \n",
       "bd157fd42be3b6728d0080ee52836c14      0.0      0.0      0.0      0.0      0.0   \n",
       "7be16af1fd4a487fd9e6380727a69555      0.0      0.0      0.0      0.0      0.0   \n",
       "\n",
       "                                  ...  I8-M39  \\\n",
       "074b2d2eeb19288d75bf8e64784db602  ...  1263.0   \n",
       "6c3b33991621b6c3e04992794a55a3d9  ...   773.0   \n",
       "8b7f2e8ca48676f3a47dfa784c8a9efe  ...   652.0   \n",
       "7a1d4d3ec513655bbe964c4ab022e6fe  ...     0.0   \n",
       "b53b25874d0529b37d36bfc78e32c894  ...   621.0   \n",
       "...                               ...     ...   \n",
       "ee5a1924a299e186d7f904e5aa898bd1  ...     0.0   \n",
       "143582bcba9a90e4a585ed60042a6f0d  ...     0.0   \n",
       "c713157aa6936b23861463951dfb6a3b  ...     0.0   \n",
       "bd157fd42be3b6728d0080ee52836c14  ...     0.0   \n",
       "7be16af1fd4a487fd9e6380727a69555  ...     0.0   \n",
       "\n",
       "                                                                              Taxon  \\\n",
       "074b2d2eeb19288d75bf8e64784db602  d__Bacteria; p__Firmicutes; c__Clostridia; o__...   \n",
       "6c3b33991621b6c3e04992794a55a3d9  d__Bacteria; p__Firmicutes; c__Clostridia; o__...   \n",
       "8b7f2e8ca48676f3a47dfa784c8a9efe  d__Bacteria; p__Firmicutes; c__Clostridia; o__...   \n",
       "7a1d4d3ec513655bbe964c4ab022e6fe  d__Bacteria; p__Bacteroidota; c__Bacteroidia; ...   \n",
       "b53b25874d0529b37d36bfc78e32c894  d__Bacteria; p__Firmicutes; c__Clostridia; o__...   \n",
       "...                                                                             ...   \n",
       "ee5a1924a299e186d7f904e5aa898bd1  d__Bacteria; p__Firmicutes; c__Negativicutes; ...   \n",
       "143582bcba9a90e4a585ed60042a6f0d  d__Bacteria; p__Firmicutes; c__Clostridia; o__...   \n",
       "c713157aa6936b23861463951dfb6a3b  d__Bacteria; p__Firmicutes; c__Bacilli; o__Ery...   \n",
       "bd157fd42be3b6728d0080ee52836c14  d__Bacteria; p__Firmicutes; c__Clostridia; o__...   \n",
       "7be16af1fd4a487fd9e6380727a69555  d__Bacteria; p__Firmicutes; c__Negativicutes; ...   \n",
       "\n",
       "                                          Confidence        Reino  \\\n",
       "074b2d2eeb19288d75bf8e64784db602  0.9361387167487187  d__Bacteria   \n",
       "6c3b33991621b6c3e04992794a55a3d9  0.9069445037484893  d__Bacteria   \n",
       "8b7f2e8ca48676f3a47dfa784c8a9efe  0.9999025048147963  d__Bacteria   \n",
       "7a1d4d3ec513655bbe964c4ab022e6fe  0.7348376775850926  d__Bacteria   \n",
       "b53b25874d0529b37d36bfc78e32c894  0.9210205535092991  d__Bacteria   \n",
       "...                                              ...          ...   \n",
       "ee5a1924a299e186d7f904e5aa898bd1  0.9990948331078099  d__Bacteria   \n",
       "143582bcba9a90e4a585ed60042a6f0d  0.8940617497317686  d__Bacteria   \n",
       "c713157aa6936b23861463951dfb6a3b  0.9997641168791319  d__Bacteria   \n",
       "bd157fd42be3b6728d0080ee52836c14  0.9995510110548353  d__Bacteria   \n",
       "7be16af1fd4a487fd9e6380727a69555  0.8996226089242056  d__Bacteria   \n",
       "\n",
       "                                             Filo            Classe  \\\n",
       "074b2d2eeb19288d75bf8e64784db602    p__Firmicutes     c__Clostridia   \n",
       "6c3b33991621b6c3e04992794a55a3d9    p__Firmicutes     c__Clostridia   \n",
       "8b7f2e8ca48676f3a47dfa784c8a9efe    p__Firmicutes     c__Clostridia   \n",
       "7a1d4d3ec513655bbe964c4ab022e6fe  p__Bacteroidota    c__Bacteroidia   \n",
       "b53b25874d0529b37d36bfc78e32c894    p__Firmicutes     c__Clostridia   \n",
       "...                                           ...               ...   \n",
       "ee5a1924a299e186d7f904e5aa898bd1    p__Firmicutes  c__Negativicutes   \n",
       "143582bcba9a90e4a585ed60042a6f0d    p__Firmicutes     c__Clostridia   \n",
       "c713157aa6936b23861463951dfb6a3b    p__Firmicutes        c__Bacilli   \n",
       "bd157fd42be3b6728d0080ee52836c14    p__Firmicutes     c__Clostridia   \n",
       "7be16af1fd4a487fd9e6380727a69555    p__Firmicutes  c__Negativicutes   \n",
       "\n",
       "                                                              Ordem  \\\n",
       "074b2d2eeb19288d75bf8e64784db602                  o__Lachnospirales   \n",
       "6c3b33991621b6c3e04992794a55a3d9                  o__Lachnospirales   \n",
       "8b7f2e8ca48676f3a47dfa784c8a9efe                 o__Oscillospirales   \n",
       "7a1d4d3ec513655bbe964c4ab022e6fe                   o__Bacteroidales   \n",
       "b53b25874d0529b37d36bfc78e32c894                  o__Lachnospirales   \n",
       "...                                                             ...   \n",
       "ee5a1924a299e186d7f904e5aa898bd1  o__Veillonellales-Selenomonadales   \n",
       "143582bcba9a90e4a585ed60042a6f0d                 o__Oscillospirales   \n",
       "c713157aa6936b23861463951dfb6a3b              o__Erysipelotrichales   \n",
       "bd157fd42be3b6728d0080ee52836c14                  o__Lachnospirales   \n",
       "7be16af1fd4a487fd9e6380727a69555  o__Veillonellales-Selenomonadales   \n",
       "\n",
       "                                                 Família  \\\n",
       "074b2d2eeb19288d75bf8e64784db602      f__Lachnospiraceae   \n",
       "6c3b33991621b6c3e04992794a55a3d9      f__Lachnospiraceae   \n",
       "8b7f2e8ca48676f3a47dfa784c8a9efe      f__Ruminococcaceae   \n",
       "7a1d4d3ec513655bbe964c4ab022e6fe       f__Bacteroidaceae   \n",
       "b53b25874d0529b37d36bfc78e32c894      f__Lachnospiraceae   \n",
       "...                                                  ...   \n",
       "ee5a1924a299e186d7f904e5aa898bd1      f__Veillonellaceae   \n",
       "143582bcba9a90e4a585ed60042a6f0d      f__Ruminococcaceae   \n",
       "c713157aa6936b23861463951dfb6a3b  f__Erysipelotrichaceae   \n",
       "bd157fd42be3b6728d0080ee52836c14      f__Lachnospiraceae   \n",
       "7be16af1fd4a487fd9e6380727a69555      f__Veillonellaceae   \n",
       "\n",
       "                                                      Gênero  \\\n",
       "074b2d2eeb19288d75bf8e64784db602             g__Agathobacter   \n",
       "6c3b33991621b6c3e04992794a55a3d9             g__Agathobacter   \n",
       "8b7f2e8ca48676f3a47dfa784c8a9efe         g__Faecalibacterium   \n",
       "7a1d4d3ec513655bbe964c4ab022e6fe              g__Bacteroides   \n",
       "b53b25874d0529b37d36bfc78e32c894             g__Agathobacter   \n",
       "...                                                      ...   \n",
       "ee5a1924a299e186d7f904e5aa898bd1                g__Dialister   \n",
       "143582bcba9a90e4a585ed60042a6f0d             g__Ruminococcus   \n",
       "c713157aa6936b23861463951dfb6a3b             g__Holdemanella   \n",
       "bd157fd42be3b6728d0080ee52836c14  g__Lachnospiraceae_UCG-010   \n",
       "7be16af1fd4a487fd9e6380727a69555              g__Allisonella   \n",
       "\n",
       "                                                  Espécie  \n",
       "074b2d2eeb19288d75bf8e64784db602                     None  \n",
       "6c3b33991621b6c3e04992794a55a3d9                     None  \n",
       "8b7f2e8ca48676f3a47dfa784c8a9efe                     None  \n",
       "7a1d4d3ec513655bbe964c4ab022e6fe  s__Bacteroides_vulgatus  \n",
       "b53b25874d0529b37d36bfc78e32c894                     None  \n",
       "...                                                   ...  \n",
       "ee5a1924a299e186d7f904e5aa898bd1                     None  \n",
       "143582bcba9a90e4a585ed60042a6f0d                     None  \n",
       "c713157aa6936b23861463951dfb6a3b                     None  \n",
       "bd157fd42be3b6728d0080ee52836c14   s__uncultured_organism  \n",
       "7be16af1fd4a487fd9e6380727a69555                     None  \n",
       "\n",
       "[2918 rows x 75 columns]"
      ]
     },
     "execution_count": 15,
     "metadata": {},
     "output_type": "execute_result"
    }
   ],
   "source": [
    "full_table_tax_df"
   ]
  },
  {
   "cell_type": "code",
   "execution_count": 16,
   "metadata": {
    "ExecuteTime": {
     "end_time": "2022-06-13T16:24:04.566104Z",
     "start_time": "2022-06-13T16:24:04.559066Z"
    }
   },
   "outputs": [
    {
     "name": "stdout",
     "output_type": "stream",
     "text": [
      "--- Taxonomies found in the ASV table ---\n",
      "Reino: 3\n",
      "Filo: 10\n",
      "Classe: 14\n",
      "Ordem: 30\n",
      "Família: 53\n",
      "Gênero: 137\n",
      "Espécie: 96\n"
     ]
    }
   ],
   "source": [
    "unique_taxons = {l: list(filter(None, table_tax_df[l].unique())) for l in tax_levels}\n",
    "print('--- Taxonomies found in the ASV table ---')\n",
    "for k, v in unique_taxons.items():\n",
    "    print(f'{k}: {len(v)}')"
   ]
  },
  {
   "cell_type": "markdown",
   "metadata": {
    "heading_collapsed": true
   },
   "source": [
    "### Analyzing taxonomy confidence"
   ]
  },
  {
   "cell_type": "code",
   "execution_count": 17,
   "metadata": {
    "ExecuteTime": {
     "end_time": "2022-06-13T16:24:04.585518Z",
     "start_time": "2022-06-13T16:24:04.567696Z"
    },
    "hidden": true
   },
   "outputs": [
    {
     "data": {
      "text/plain": [
       "count    2918.000000\n",
       "mean        0.942491\n",
       "std         0.083970\n",
       "min         0.413501\n",
       "25%         0.909087\n",
       "50%         0.989604\n",
       "75%         0.999950\n",
       "max         1.000000\n",
       "Name: Confidence, dtype: float64"
      ]
     },
     "execution_count": 17,
     "metadata": {},
     "output_type": "execute_result"
    }
   ],
   "source": [
    "table_tax_df['Confidence'].astype('float32').describe()"
   ]
  },
  {
   "cell_type": "markdown",
   "metadata": {
    "hidden": true
   },
   "source": [
    "---"
   ]
  },
  {
   "cell_type": "markdown",
   "metadata": {},
   "source": [
    "## Analyzing Samples"
   ]
  },
  {
   "cell_type": "markdown",
   "metadata": {},
   "source": [
    "### Abundances"
   ]
  },
  {
   "cell_type": "markdown",
   "metadata": {},
   "source": [
    "Viewing the total number of samples"
   ]
  },
  {
   "cell_type": "code",
   "execution_count": 18,
   "metadata": {
    "ExecuteTime": {
     "end_time": "2022-06-13T16:24:04.592988Z",
     "start_time": "2022-06-13T16:24:04.587608Z"
    }
   },
   "outputs": [
    {
     "name": "stdout",
     "output_type": "stream",
     "text": [
      "Number of samples in the ASV: 66\n"
     ]
    }
   ],
   "source": [
    "print(f'Number of samples in the ASV: {len(full_table_df.columns)}')"
   ]
  },
  {
   "cell_type": "markdown",
   "metadata": {
    "heading_collapsed": true
   },
   "source": [
    "#### Complete ASV"
   ]
  },
  {
   "cell_type": "markdown",
   "metadata": {
    "hidden": true
   },
   "source": [
    "Samples with greater microbiological abundance in complete ASV."
   ]
  },
  {
   "cell_type": "code",
   "execution_count": 19,
   "metadata": {
    "ExecuteTime": {
     "end_time": "2022-06-13T16:24:04.610399Z",
     "start_time": "2022-06-13T16:24:04.594587Z"
    },
    "hidden": true
   },
   "outputs": [
    {
     "data": {
      "text/plain": [
       "id\n",
       "I52-M117    102690.0\n",
       "I51-M116     86625.0\n",
       "I24-M67      85448.0\n",
       "I36-M93      82751.0\n",
       "I10-M91      80208.0\n",
       "I8-M39       78374.0\n",
       "I11-M44      77125.0\n",
       "I17-M55      76017.0\n",
       "I55-M122     75836.0\n",
       "I34-M88      74714.0\n",
       "dtype: float64"
      ]
     },
     "execution_count": 19,
     "metadata": {},
     "output_type": "execute_result"
    }
   ],
   "source": [
    "full_table_df.sum().sort_values(ascending=False)[:10]"
   ]
  },
  {
   "cell_type": "markdown",
   "metadata": {
    "hidden": true
   },
   "source": [
    "Viewing basic sample statistics in complete ASV."
   ]
  },
  {
   "cell_type": "code",
   "execution_count": 20,
   "metadata": {
    "ExecuteTime": {
     "end_time": "2022-06-13T16:24:04.621886Z",
     "start_time": "2022-06-13T16:24:04.612510Z"
    },
    "hidden": true
   },
   "outputs": [
    {
     "data": {
      "text/plain": [
       "count        66.000000\n",
       "mean      41599.121212\n",
       "std       24871.870661\n",
       "min         590.000000\n",
       "25%       21810.500000\n",
       "50%       37042.500000\n",
       "75%       63412.000000\n",
       "max      102690.000000\n",
       "dtype: float64"
      ]
     },
     "execution_count": 20,
     "metadata": {},
     "output_type": "execute_result"
    }
   ],
   "source": [
    "full_table_df.sum().describe()"
   ]
  },
  {
   "cell_type": "markdown",
   "metadata": {
    "hidden": true
   },
   "source": [
    "Plotting frequency distribution for all samples abundances in complete ASV."
   ]
  },
  {
   "cell_type": "code",
   "execution_count": 21,
   "metadata": {
    "ExecuteTime": {
     "end_time": "2022-06-13T16:24:05.106757Z",
     "start_time": "2022-06-13T16:24:04.623471Z"
    },
    "hidden": true,
    "scrolled": true
   },
   "outputs": [
    {
     "data": {
      "image/png": "[encoded data removed]",
      "text/plain": [
       "<Figure size 648x432 with 1 Axes>"
      ]
     },
     "metadata": {
      "needs_background": "light"
     },
     "output_type": "display_data"
    }
   ],
   "source": [
    "ax = full_table_df.sum().hist(bins=8, figsize=(9,6), range=(0, 80000))\n",
    "ax.set_xlabel('Features')\n",
    "ax.set_ylabel('Samples')\n",
    "plt.grid(visible=None)\n",
    "plt.savefig('samples-abundance-hist.pdf')\n",
    "plt.show()"
   ]
  },
  {
   "cell_type": "code",
   "execution_count": 22,
   "metadata": {
    "ExecuteTime": {
     "end_time": "2022-06-13T16:24:06.171697Z",
     "start_time": "2022-06-13T16:24:05.108259Z"
    },
    "hidden": true,
    "scrolled": true
   },
   "outputs": [
    {
     "data": {
      "image/png": "[encoded data removed]",
      "text/plain": [
       "<Figure size 1080x720 with 1 Axes>"
      ]
     },
     "metadata": {
      "needs_background": "light"
     },
     "output_type": "display_data"
    }
   ],
   "source": [
    "ax = full_table_df.sum().sort_values().plot(kind='bar', figsize=(15,10))\n",
    "ax.set_xlabel('Features')\n",
    "ax.set_ylabel('Samples')\n",
    "# ax.set_xticklabels([])\n",
    "plt.savefig('samples-abundance-bar.pdf')\n",
    "plt.show()"
   ]
  },
  {
   "cell_type": "code",
   "execution_count": 23,
   "metadata": {
    "ExecuteTime": {
     "end_time": "2022-06-13T16:24:08.772757Z",
     "start_time": "2022-06-13T16:24:06.173131Z"
    },
    "hidden": true
   },
   "outputs": [
    {
     "data": {
      "image/png": "[encoded data removed]",
      "text/plain": [
       "<Figure size 1080x720 with 1 Axes>"
      ]
     },
     "metadata": {
      "needs_background": "light"
     },
     "output_type": "display_data"
    }
   ],
   "source": [
    "table_p0 = filter_samples(table=frequency_table, metadata=sample_metadata, where='[class_meno]=\"0\"').filtered_table\n",
    "table_p1 = filter_samples(table=frequency_table, metadata=sample_metadata, where='[class_meno]=\"1\"').filtered_table\n",
    "table_p2 = filter_samples(table=frequency_table, metadata=sample_metadata, where='[class_meno]=\"2\"').filtered_table\n",
    "\n",
    "table_p0_df = table_p0.view(Metadata).to_dataframe().T\n",
    "table_p1_df = table_p1.view(Metadata).to_dataframe().T\n",
    "table_p2_df = table_p2.view(Metadata).to_dataframe().T\n",
    "\n",
    "tmp_df_p0 = pd.DataFrame(table_p0_df.sum(), columns=['sum'])\n",
    "tmp_df_p1 = pd.DataFrame(table_p1_df.sum(), columns=['sum'])\n",
    "tmp_df_p2 = pd.DataFrame(table_p2_df.sum(), columns=['sum'])\n",
    "\n",
    "tmp_df_p0['class_meno'] = 'Reproduction'\n",
    "tmp_df_p1['class_meno'] = 'Transition'\n",
    "tmp_df_p2['class_meno'] = 'Post-menopause'\n",
    "\n",
    "class_meno_df = pd.concat([tmp_df_p0, tmp_df_p1, tmp_df_p2])\n",
    "\n",
    "plt.figure(figsize=(15,10))\n",
    "ax = sns.violinplot(x='class_meno', y='sum', data=class_meno_df, scale='count', inner='stick', bw=.2, cut=0)\n",
    "ax.set_ylabel('Features')\n",
    "ax.set_xlabel('Menopause phases')\n",
    "plt.savefig('vs-classmeno-features-violin.pdf')\n",
    "plt.show()"
   ]
  },
  {
   "cell_type": "code",
   "execution_count": 24,
   "metadata": {
    "ExecuteTime": {
     "end_time": "2022-06-13T16:24:08.779637Z",
     "start_time": "2022-06-13T16:24:08.775369Z"
    },
    "hidden": true
   },
   "outputs": [],
   "source": [
    "features_ids_p0 = table_p0_df.index\n",
    "features_ids_p1 = table_p1_df.index\n",
    "features_ids_p2 = table_p2_df.index"
   ]
  },
  {
   "cell_type": "markdown",
   "metadata": {},
   "source": [
    "### Diversities"
   ]
  },
  {
   "cell_type": "markdown",
   "metadata": {},
   "source": [
    "Convert frequencies to binary values indicating presence or absence of a feature in a sample."
   ]
  },
  {
   "cell_type": "code",
   "execution_count": 25,
   "metadata": {
    "ExecuteTime": {
     "end_time": "2022-06-13T16:24:10.170408Z",
     "start_time": "2022-06-13T16:24:08.782672Z"
    }
   },
   "outputs": [],
   "source": [
    "presence_absence_table = presence_absence(frequency_table).presence_absence_table\n",
    "presence_absence_table_df = presence_absence_table.view(Metadata).to_dataframe().T"
   ]
  },
  {
   "cell_type": "markdown",
   "metadata": {
    "hidden": true
   },
   "source": [
    "Top most abundant samples in the ASV."
   ]
  },
  {
   "cell_type": "code",
   "execution_count": 26,
   "metadata": {
    "ExecuteTime": {
     "end_time": "2022-06-13T16:24:10.178375Z",
     "start_time": "2022-06-13T16:24:10.172365Z"
    },
    "hidden": true
   },
   "outputs": [
    {
     "data": {
      "text/plain": [
       "id\n",
       "I51-M116    144.0\n",
       "I8-M39      117.0\n",
       "I24-M67     108.0\n",
       "I17-M55     107.0\n",
       "I11-M44     104.0\n",
       "I10-M91     101.0\n",
       "I36-M93      96.0\n",
       "I23-M64      96.0\n",
       "I52-M117     91.0\n",
       "I75-M162     86.0\n",
       "dtype: float64"
      ]
     },
     "execution_count": 26,
     "metadata": {},
     "output_type": "execute_result"
    }
   ],
   "source": [
    "presence_absence_table_df.sum().sort_values(ascending=False)[:10]"
   ]
  },
  {
   "cell_type": "markdown",
   "metadata": {
    "hidden": true
   },
   "source": [
    "Viewing basic sample statistics for the ASV."
   ]
  },
  {
   "cell_type": "code",
   "execution_count": 27,
   "metadata": {
    "ExecuteTime": {
     "end_time": "2022-06-13T16:24:10.191700Z",
     "start_time": "2022-06-13T16:24:10.179632Z"
    },
    "hidden": true
   },
   "outputs": [
    {
     "data": {
      "text/plain": [
       "count     66.000000\n",
       "mean      52.318182\n",
       "std       30.393906\n",
       "min        1.000000\n",
       "25%       28.250000\n",
       "50%       46.000000\n",
       "75%       71.500000\n",
       "max      144.000000\n",
       "dtype: float64"
      ]
     },
     "execution_count": 27,
     "metadata": {},
     "output_type": "execute_result"
    }
   ],
   "source": [
    "presence_absence_table_df.sum().describe()"
   ]
  },
  {
   "cell_type": "markdown",
   "metadata": {
    "hidden": true
   },
   "source": [
    "Plotting frequency distribution for all the samples diversities."
   ]
  },
  {
   "cell_type": "code",
   "execution_count": 28,
   "metadata": {
    "ExecuteTime": {
     "end_time": "2022-06-13T16:24:11.024487Z",
     "start_time": "2022-06-13T16:24:10.194897Z"
    },
    "hidden": true
   },
   "outputs": [
    {
     "data": {
      "text/plain": [
       "<AxesSubplot:xlabel='id'>"
      ]
     },
     "execution_count": 28,
     "metadata": {},
     "output_type": "execute_result"
    },
    {
     "data": {
      "image/png": "[encoded data removed]",
      "text/plain": [
       "<Figure size 1080x720 with 1 Axes>"
      ]
     },
     "metadata": {
      "needs_background": "light"
     },
     "output_type": "display_data"
    }
   ],
   "source": [
    "presence_absence_table_df.sum().sort_values().plot(kind='bar', figsize=(15,10))"
   ]
  },
  {
   "cell_type": "markdown",
   "metadata": {
    "hidden": true
   },
   "source": [
    "---"
   ]
  },
  {
   "cell_type": "markdown",
   "metadata": {},
   "source": [
    "## Analyzing Groups per samples types"
   ]
  },
  {
   "cell_type": "code",
   "execution_count": 29,
   "metadata": {
    "ExecuteTime": {
     "end_time": "2022-06-13T16:24:11.030032Z",
     "start_time": "2022-06-13T16:24:11.026144Z"
    }
   },
   "outputs": [],
   "source": [
    "features_df = full_table_df.sum(axis=1)"
   ]
  },
  {
   "cell_type": "code",
   "execution_count": 30,
   "metadata": {
    "ExecuteTime": {
     "end_time": "2022-06-13T16:24:11.339922Z",
     "start_time": "2022-06-13T16:24:11.031703Z"
    }
   },
   "outputs": [
    {
     "data": {
      "text/plain": [
       "<AxesSubplot:>"
      ]
     },
     "execution_count": 30,
     "metadata": {},
     "output_type": "execute_result"
    },
    {
     "data": {
      "image/png": "[encoded data removed]",
      "text/plain": [
       "<Figure size 720x360 with 1 Axes>"
      ]
     },
     "metadata": {
      "needs_background": "light"
     },
     "output_type": "display_data"
    }
   ],
   "source": [
    "features_df.hist(bins=100, figsize=(10,5))"
   ]
  },
  {
   "cell_type": "code",
   "execution_count": 31,
   "metadata": {
    "ExecuteTime": {
     "end_time": "2022-06-13T16:24:12.065199Z",
     "start_time": "2022-06-13T16:24:11.341829Z"
    }
   },
   "outputs": [],
   "source": [
    "# Define pivot column for grouping function\n",
    "sample_metadata.get_column('class_meno')\n",
    "# Perform group by applying sum function\n",
    "grouped_table = group(frequency_table, metadata=sample_metadata.get_column('class_meno'), axis='sample', mode='sum').grouped_table"
   ]
  },
  {
   "cell_type": "markdown",
   "metadata": {},
   "source": [
    "Transforming to Pandas DataFrame object"
   ]
  },
  {
   "cell_type": "code",
   "execution_count": 32,
   "metadata": {
    "ExecuteTime": {
     "end_time": "2022-06-13T16:24:13.316489Z",
     "start_time": "2022-06-13T16:24:12.066818Z"
    }
   },
   "outputs": [
    {
     "data": {
      "text/html": [
       "<div>\n",
       "<style scoped>\n",
       "    .dataframe tbody tr th:only-of-type {\n",
       "        vertical-align: middle;\n",
       "    }\n",
       "\n",
       "    .dataframe tbody tr th {\n",
       "        vertical-align: top;\n",
       "    }\n",
       "\n",
       "    .dataframe thead th {\n",
       "        text-align: right;\n",
       "    }\n",
       "</style>\n",
       "<table border=\"1\" class=\"dataframe\">\n",
       "  <thead>\n",
       "    <tr style=\"text-align: right;\">\n",
       "      <th></th>\n",
       "      <th>074b2d2eeb19288d75bf8e64784db602</th>\n",
       "      <th>6c3b33991621b6c3e04992794a55a3d9</th>\n",
       "      <th>8b7f2e8ca48676f3a47dfa784c8a9efe</th>\n",
       "      <th>7a1d4d3ec513655bbe964c4ab022e6fe</th>\n",
       "      <th>b53b25874d0529b37d36bfc78e32c894</th>\n",
       "      <th>de1dfedd96859b1568df4edfc30dff9b</th>\n",
       "      <th>9182301e1a42f09bd5016aad44496c4a</th>\n",
       "      <th>3689595a73bd93c0301ac8956a15279e</th>\n",
       "      <th>53df627adf8340f26a37202ed7374f2e</th>\n",
       "      <th>a835129fb0fba121225f939f51049a86</th>\n",
       "      <th>...</th>\n",
       "      <th>440b18f112d726951157996929988d38</th>\n",
       "      <th>fa52840a8948f2b92eb37f273c919b00</th>\n",
       "      <th>890138d5a18e44b8337f1c60308d82a8</th>\n",
       "      <th>08c2a6ae87899aa52af5b1e4e706bca7</th>\n",
       "      <th>0c2c4652d0d65b835d97dddca0b3a102</th>\n",
       "      <th>ee5a1924a299e186d7f904e5aa898bd1</th>\n",
       "      <th>143582bcba9a90e4a585ed60042a6f0d</th>\n",
       "      <th>c713157aa6936b23861463951dfb6a3b</th>\n",
       "      <th>bd157fd42be3b6728d0080ee52836c14</th>\n",
       "      <th>7be16af1fd4a487fd9e6380727a69555</th>\n",
       "    </tr>\n",
       "    <tr>\n",
       "      <th>id</th>\n",
       "      <th></th>\n",
       "      <th></th>\n",
       "      <th></th>\n",
       "      <th></th>\n",
       "      <th></th>\n",
       "      <th></th>\n",
       "      <th></th>\n",
       "      <th></th>\n",
       "      <th></th>\n",
       "      <th></th>\n",
       "      <th></th>\n",
       "      <th></th>\n",
       "      <th></th>\n",
       "      <th></th>\n",
       "      <th></th>\n",
       "      <th></th>\n",
       "      <th></th>\n",
       "      <th></th>\n",
       "      <th></th>\n",
       "      <th></th>\n",
       "      <th></th>\n",
       "    </tr>\n",
       "  </thead>\n",
       "  <tbody>\n",
       "    <tr>\n",
       "      <th>2</th>\n",
       "      <td>8283.0</td>\n",
       "      <td>12499.0</td>\n",
       "      <td>8729.0</td>\n",
       "      <td>7407.0</td>\n",
       "      <td>8095.0</td>\n",
       "      <td>7234.0</td>\n",
       "      <td>6564.0</td>\n",
       "      <td>3589.0</td>\n",
       "      <td>4740.0</td>\n",
       "      <td>5207.0</td>\n",
       "      <td>...</td>\n",
       "      <td>0.0</td>\n",
       "      <td>0.0</td>\n",
       "      <td>0.0</td>\n",
       "      <td>1.0</td>\n",
       "      <td>0.0</td>\n",
       "      <td>1.0</td>\n",
       "      <td>0.0</td>\n",
       "      <td>1.0</td>\n",
       "      <td>1.0</td>\n",
       "      <td>0.0</td>\n",
       "    </tr>\n",
       "    <tr>\n",
       "      <th>0</th>\n",
       "      <td>8533.0</td>\n",
       "      <td>3018.0</td>\n",
       "      <td>3783.0</td>\n",
       "      <td>3200.0</td>\n",
       "      <td>1464.0</td>\n",
       "      <td>0.0</td>\n",
       "      <td>1958.0</td>\n",
       "      <td>1548.0</td>\n",
       "      <td>3901.0</td>\n",
       "      <td>954.0</td>\n",
       "      <td>...</td>\n",
       "      <td>1.0</td>\n",
       "      <td>1.0</td>\n",
       "      <td>1.0</td>\n",
       "      <td>0.0</td>\n",
       "      <td>0.0</td>\n",
       "      <td>0.0</td>\n",
       "      <td>0.0</td>\n",
       "      <td>0.0</td>\n",
       "      <td>0.0</td>\n",
       "      <td>0.0</td>\n",
       "    </tr>\n",
       "    <tr>\n",
       "      <th>1</th>\n",
       "      <td>7042.0</td>\n",
       "      <td>3794.0</td>\n",
       "      <td>2615.0</td>\n",
       "      <td>3616.0</td>\n",
       "      <td>3232.0</td>\n",
       "      <td>5126.0</td>\n",
       "      <td>2612.0</td>\n",
       "      <td>4866.0</td>\n",
       "      <td>1310.0</td>\n",
       "      <td>3658.0</td>\n",
       "      <td>...</td>\n",
       "      <td>0.0</td>\n",
       "      <td>0.0</td>\n",
       "      <td>0.0</td>\n",
       "      <td>0.0</td>\n",
       "      <td>1.0</td>\n",
       "      <td>0.0</td>\n",
       "      <td>1.0</td>\n",
       "      <td>0.0</td>\n",
       "      <td>0.0</td>\n",
       "      <td>1.0</td>\n",
       "    </tr>\n",
       "  </tbody>\n",
       "</table>\n",
       "<p>3 rows × 2918 columns</p>\n",
       "</div>"
      ],
      "text/plain": [
       "    074b2d2eeb19288d75bf8e64784db602  6c3b33991621b6c3e04992794a55a3d9  \\\n",
       "id                                                                       \n",
       "2                             8283.0                           12499.0   \n",
       "0                             8533.0                            3018.0   \n",
       "1                             7042.0                            3794.0   \n",
       "\n",
       "    8b7f2e8ca48676f3a47dfa784c8a9efe  7a1d4d3ec513655bbe964c4ab022e6fe  \\\n",
       "id                                                                       \n",
       "2                             8729.0                            7407.0   \n",
       "0                             3783.0                            3200.0   \n",
       "1                             2615.0                            3616.0   \n",
       "\n",
       "    b53b25874d0529b37d36bfc78e32c894  de1dfedd96859b1568df4edfc30dff9b  \\\n",
       "id                                                                       \n",
       "2                             8095.0                            7234.0   \n",
       "0                             1464.0                               0.0   \n",
       "1                             3232.0                            5126.0   \n",
       "\n",
       "    9182301e1a42f09bd5016aad44496c4a  3689595a73bd93c0301ac8956a15279e  \\\n",
       "id                                                                       \n",
       "2                             6564.0                            3589.0   \n",
       "0                             1958.0                            1548.0   \n",
       "1                             2612.0                            4866.0   \n",
       "\n",
       "    53df627adf8340f26a37202ed7374f2e  a835129fb0fba121225f939f51049a86  ...  \\\n",
       "id                                                                      ...   \n",
       "2                             4740.0                            5207.0  ...   \n",
       "0                             3901.0                             954.0  ...   \n",
       "1                             1310.0                            3658.0  ...   \n",
       "\n",
       "    440b18f112d726951157996929988d38  fa52840a8948f2b92eb37f273c919b00  \\\n",
       "id                                                                       \n",
       "2                                0.0                               0.0   \n",
       "0                                1.0                               1.0   \n",
       "1                                0.0                               0.0   \n",
       "\n",
       "    890138d5a18e44b8337f1c60308d82a8  08c2a6ae87899aa52af5b1e4e706bca7  \\\n",
       "id                                                                       \n",
       "2                                0.0                               1.0   \n",
       "0                                1.0                               0.0   \n",
       "1                                0.0                               0.0   \n",
       "\n",
       "    0c2c4652d0d65b835d97dddca0b3a102  ee5a1924a299e186d7f904e5aa898bd1  \\\n",
       "id                                                                       \n",
       "2                                0.0                               1.0   \n",
       "0                                0.0                               0.0   \n",
       "1                                1.0                               0.0   \n",
       "\n",
       "    143582bcba9a90e4a585ed60042a6f0d  c713157aa6936b23861463951dfb6a3b  \\\n",
       "id                                                                       \n",
       "2                                0.0                               1.0   \n",
       "0                                0.0                               0.0   \n",
       "1                                1.0                               0.0   \n",
       "\n",
       "    bd157fd42be3b6728d0080ee52836c14  7be16af1fd4a487fd9e6380727a69555  \n",
       "id                                                                      \n",
       "2                                1.0                               0.0  \n",
       "0                                0.0                               0.0  \n",
       "1                                0.0                               1.0  \n",
       "\n",
       "[3 rows x 2918 columns]"
      ]
     },
     "execution_count": 32,
     "metadata": {},
     "output_type": "execute_result"
    }
   ],
   "source": [
    "grouped_table_df = grouped_table.view(Metadata).to_dataframe()\n",
    "grouped_table_df"
   ]
  },
  {
   "cell_type": "code",
   "execution_count": 33,
   "metadata": {
    "ExecuteTime": {
     "end_time": "2022-06-13T16:24:13.891673Z",
     "start_time": "2022-06-13T16:24:13.317886Z"
    }
   },
   "outputs": [
    {
     "data": {
      "text/plain": [
       "<artifact: FeatureTable[Frequency] uuid: c37b29c9-ef26-419f-b277-80f3d404a6ca>"
      ]
     },
     "execution_count": 33,
     "metadata": {},
     "output_type": "execute_result"
    }
   ],
   "source": [
    "collapsed_table = collapse(grouped_table, taxonomy=table_tax, level=7).collapsed_table\n",
    "collapsed_table"
   ]
  },
  {
   "cell_type": "code",
   "execution_count": 34,
   "metadata": {
    "ExecuteTime": {
     "end_time": "2022-06-13T16:24:13.895362Z",
     "start_time": "2022-06-13T16:24:13.893311Z"
    }
   },
   "outputs": [],
   "source": [
    "# metadata.visualizers.tabulate(fezes_collapsed_table.view(Metadata)).visualization"
   ]
  },
  {
   "cell_type": "code",
   "execution_count": 35,
   "metadata": {
    "ExecuteTime": {
     "end_time": "2022-06-13T16:24:14.071046Z",
     "start_time": "2022-06-13T16:24:13.896695Z"
    }
   },
   "outputs": [],
   "source": [
    "collapsed_table_df = collapsed_table.view(Metadata).to_dataframe().T"
   ]
  },
  {
   "cell_type": "markdown",
   "metadata": {},
   "source": [
    "#### View most abundant species for menopause class type: *reprodutivo*."
   ]
  },
  {
   "cell_type": "code",
   "execution_count": 36,
   "metadata": {
    "ExecuteTime": {
     "end_time": "2022-06-13T16:24:14.078292Z",
     "start_time": "2022-06-13T16:24:14.072914Z"
    },
    "scrolled": true
   },
   "outputs": [
    {
     "name": "stdout",
     "output_type": "stream",
     "text": [
      "1 - d__Bacteria;p__Firmicutes;c__Bacilli;o__Erysipelotrichales;f__Erysipelatoclostridiaceae;g__Catenibacterium;s__uncultured_bacterium: 12470\n",
      "2 - d__Bacteria;p__Firmicutes;c__Clostridia;o__Oscillospirales;f__Oscillospiraceae;g__UCG-002;s__uncultured_bacterium: 11793\n",
      "3 - d__Bacteria;p__Firmicutes;c__Clostridia;o__Oscillospirales;f__Oscillospiraceae;g__UCG-002;s__uncultured_organism: 9917\n",
      "4 - d__Bacteria;p__Firmicutes;c__Clostridia;o__Oscillospirales;f__Ruminococcaceae;g__uncultured;s__gut_metagenome: 9869\n",
      "5 - d__Bacteria;p__Firmicutes;c__Negativicutes;o__Veillonellales-Selenomonadales;f__Veillonellaceae;g__Dialister;s__uncultured_bacterium: 9062\n",
      "6 - d__Bacteria;p__Firmicutes;c__Clostridia;o__Oscillospirales;f__Ruminococcaceae;g__Ruminococcus;s__Ruminococcus_bicirculans: 7964\n",
      "7 - d__Bacteria;p__Firmicutes;c__Clostridia;o__Christensenellales;f__Christensenellaceae;g__Christensenellaceae_R-7_group;s__uncultured_prokaryote: 5322\n",
      "8 - d__Bacteria;p__Firmicutes;c__Negativicutes;o__Veillonellales-Selenomonadales;f__Selenomonadaceae;g__Mitsuokella;s__uncultured_bacterium: 5264\n",
      "9 - d__Bacteria;p__Firmicutes;c__Clostridia;o__Oscillospirales;f__Ruminococcaceae;g__CAG-352;s__uncultured_bacterium: 5040\n",
      "10 - d__Bacteria;p__Firmicutes;c__Clostridia;o__Oscillospirales;f__Ruminococcaceae;g__Subdoligranulum;s__uncultured_bacterium: 4676\n"
     ]
    }
   ],
   "source": [
    "species_p0, counts_p0, full_tax = top_counts(collapsed_table_df, '0')\n",
    "for i, c in enumerate(counts_p0):\n",
    "    print(f'{i+1} - {full_tax[i]}: {c}')"
   ]
  },
  {
   "cell_type": "code",
   "execution_count": 37,
   "metadata": {
    "ExecuteTime": {
     "end_time": "2022-06-13T16:24:14.358894Z",
     "start_time": "2022-06-13T16:24:14.080007Z"
    }
   },
   "outputs": [
    {
     "data": {
      "image/png": "[encoded data removed]",
      "text/plain": [
       "<Figure size 1080x216 with 1 Axes>"
      ]
     },
     "metadata": {
      "needs_background": "light"
     },
     "output_type": "display_data"
    }
   ],
   "source": [
    "ax = pd.DataFrame(data=counts_p0, index=species_p0).plot(kind='bar', figsize=(15,3), rot=45)\n",
    "ax.set_ylabel('Frequency')\n",
    "ax.legend().set_visible(False)\n",
    "plt.savefig('vs-classmeno-p0-top-tax.eps', bbox_inches = 'tight')\n",
    "plt.show()"
   ]
  },
  {
   "cell_type": "code",
   "execution_count": 38,
   "metadata": {
    "ExecuteTime": {
     "end_time": "2022-06-13T16:24:14.372026Z",
     "start_time": "2022-06-13T16:24:14.361257Z"
    }
   },
   "outputs": [
    {
     "data": {
      "text/html": [
       "<div>\n",
       "<style scoped>\n",
       "    .dataframe tbody tr th:only-of-type {\n",
       "        vertical-align: middle;\n",
       "    }\n",
       "\n",
       "    .dataframe tbody tr th {\n",
       "        vertical-align: top;\n",
       "    }\n",
       "\n",
       "    .dataframe thead th {\n",
       "        text-align: right;\n",
       "    }\n",
       "</style>\n",
       "<table border=\"1\" class=\"dataframe\">\n",
       "  <thead>\n",
       "    <tr style=\"text-align: right;\">\n",
       "      <th></th>\n",
       "      <th>0</th>\n",
       "    </tr>\n",
       "  </thead>\n",
       "  <tbody>\n",
       "    <tr>\n",
       "      <th>074b2d2eeb19288d75bf8e64784db602</th>\n",
       "      <td>23858.0</td>\n",
       "    </tr>\n",
       "    <tr>\n",
       "      <th>6c3b33991621b6c3e04992794a55a3d9</th>\n",
       "      <td>19311.0</td>\n",
       "    </tr>\n",
       "    <tr>\n",
       "      <th>8b7f2e8ca48676f3a47dfa784c8a9efe</th>\n",
       "      <td>15127.0</td>\n",
       "    </tr>\n",
       "    <tr>\n",
       "      <th>7a1d4d3ec513655bbe964c4ab022e6fe</th>\n",
       "      <td>14223.0</td>\n",
       "    </tr>\n",
       "    <tr>\n",
       "      <th>b53b25874d0529b37d36bfc78e32c894</th>\n",
       "      <td>12791.0</td>\n",
       "    </tr>\n",
       "    <tr>\n",
       "      <th>...</th>\n",
       "      <td>...</td>\n",
       "    </tr>\n",
       "    <tr>\n",
       "      <th>ee5a1924a299e186d7f904e5aa898bd1</th>\n",
       "      <td>1.0</td>\n",
       "    </tr>\n",
       "    <tr>\n",
       "      <th>143582bcba9a90e4a585ed60042a6f0d</th>\n",
       "      <td>1.0</td>\n",
       "    </tr>\n",
       "    <tr>\n",
       "      <th>c713157aa6936b23861463951dfb6a3b</th>\n",
       "      <td>1.0</td>\n",
       "    </tr>\n",
       "    <tr>\n",
       "      <th>bd157fd42be3b6728d0080ee52836c14</th>\n",
       "      <td>1.0</td>\n",
       "    </tr>\n",
       "    <tr>\n",
       "      <th>7be16af1fd4a487fd9e6380727a69555</th>\n",
       "      <td>1.0</td>\n",
       "    </tr>\n",
       "  </tbody>\n",
       "</table>\n",
       "<p>2918 rows × 1 columns</p>\n",
       "</div>"
      ],
      "text/plain": [
       "                                        0\n",
       "074b2d2eeb19288d75bf8e64784db602  23858.0\n",
       "6c3b33991621b6c3e04992794a55a3d9  19311.0\n",
       "8b7f2e8ca48676f3a47dfa784c8a9efe  15127.0\n",
       "7a1d4d3ec513655bbe964c4ab022e6fe  14223.0\n",
       "b53b25874d0529b37d36bfc78e32c894  12791.0\n",
       "...                                   ...\n",
       "ee5a1924a299e186d7f904e5aa898bd1      1.0\n",
       "143582bcba9a90e4a585ed60042a6f0d      1.0\n",
       "c713157aa6936b23861463951dfb6a3b      1.0\n",
       "bd157fd42be3b6728d0080ee52836c14      1.0\n",
       "7be16af1fd4a487fd9e6380727a69555      1.0\n",
       "\n",
       "[2918 rows x 1 columns]"
      ]
     },
     "execution_count": 38,
     "metadata": {},
     "output_type": "execute_result"
    }
   ],
   "source": [
    "full_table_df.sum(axis=1).to_frame()"
   ]
  },
  {
   "cell_type": "code",
   "execution_count": 39,
   "metadata": {
    "ExecuteTime": {
     "end_time": "2022-06-13T16:24:14.396032Z",
     "start_time": "2022-06-13T16:24:14.374240Z"
    }
   },
   "outputs": [],
   "source": [
    "freq_df = presence_absence_table_df.sum(axis=1).to_frame()\n",
    "tax_freq_df = pd.merge(freq_df, table_tax_df, left_index=True, right_index=True)\n",
    "tax_freq_df.rename(columns={0: 'Frequency'}, inplace=True)\n",
    "tax_freq_df.sort_values(by=['Frequency'], ascending=False, inplace=True)\n",
    "tmp_df = tax_freq_df.dropna(subset=['Espécie'])[:10]"
   ]
  },
  {
   "cell_type": "markdown",
   "metadata": {
    "heading_collapsed": true
   },
   "source": [
    "#### View most abundant species for menopause class type: *Transição menopáusica/ pré menopausa*."
   ]
  },
  {
   "cell_type": "code",
   "execution_count": 40,
   "metadata": {
    "ExecuteTime": {
     "end_time": "2022-06-13T16:24:14.402269Z",
     "start_time": "2022-06-13T16:24:14.397485Z"
    },
    "hidden": true,
    "scrolled": true
   },
   "outputs": [
    {
     "name": "stdout",
     "output_type": "stream",
     "text": [
      "1 - d__Bacteria;p__Bacteroidota;c__Bacteroidia;o__Bacteroidales;f__Bacteroidaceae;g__Bacteroides;s__Bacteroides_stercoris: 10176\n",
      "2 - d__Bacteria;p__Firmicutes;c__Clostridia;o__Oscillospirales;f__Oscillospiraceae;g__UCG-002;s__uncultured_organism: 10117\n",
      "3 - d__Bacteria;p__Desulfobacterota;c__Desulfovibrionia;o__Desulfovibrionales;f__Desulfovibrionaceae;g__Desulfovibrio;s__bacterium: 8294\n",
      "4 - d__Bacteria;p__Bacteroidota;c__Bacteroidia;o__Bacteroidales;f__Tannerellaceae;g__Parabacteroides;s__Parabacteroides_merdae: 6930\n",
      "5 - d__Bacteria;p__Bacteroidota;c__Bacteroidia;o__Bacteroidales;f__Bacteroidaceae;g__Bacteroides;s__Bacteroides_vulgatus: 6016\n",
      "6 - d__Bacteria;p__Firmicutes;c__Negativicutes;o__Veillonellales-Selenomonadales;f__Veillonellaceae;g__Dialister;s__uncultured_bacterium: 5891\n",
      "7 - d__Bacteria;p__Bacteroidota;c__Bacteroidia;o__Bacteroidales;f__Prevotellaceae;g__uncultured;s__metagenome: 5496\n",
      "8 - d__Bacteria;p__Firmicutes;c__Clostridia;o__Oscillospirales;f__Ruminococcaceae;g__CAG-352;s__uncultured_bacterium: 5480\n",
      "9 - d__Bacteria;p__Proteobacteria;c__Gammaproteobacteria;o__Burkholderiales;f__Sutterellaceae;g__Sutterella;s__uncultured_bacterium: 5386\n",
      "10 - d__Bacteria;p__Firmicutes;c__Clostridia;o__Oscillospirales;f__Oscillospiraceae;g__UCG-005;s__uncultured_organism: 5207\n"
     ]
    }
   ],
   "source": [
    "species_p1, counts_p1, full_tax = top_counts(collapsed_table_df, '1')\n",
    "for i, c in enumerate(counts_p1):\n",
    "    print(f'{i+1} - {full_tax[i]}: {c}')"
   ]
  },
  {
   "cell_type": "code",
   "execution_count": 41,
   "metadata": {
    "ExecuteTime": {
     "end_time": "2022-06-13T16:24:14.679926Z",
     "start_time": "2022-06-13T16:24:14.404785Z"
    },
    "hidden": true
   },
   "outputs": [
    {
     "data": {
      "image/png": "[encoded data removed]",
      "text/plain": [
       "<Figure size 1080x216 with 1 Axes>"
      ]
     },
     "metadata": {
      "needs_background": "light"
     },
     "output_type": "display_data"
    }
   ],
   "source": [
    "ax = pd.DataFrame(data=counts_p1, index=species_p1).plot(kind='bar', figsize=(15,3), rot=45)\n",
    "ax.set_ylabel('Frequency')\n",
    "ax.legend().set_visible(False)\n",
    "plt.savefig('vs-classmeno-p1-top-tax.eps', bbox_inches = 'tight')\n",
    "plt.show()"
   ]
  },
  {
   "cell_type": "markdown",
   "metadata": {
    "heading_collapsed": true
   },
   "source": [
    "#### View most abundant species for menopause class type: *Pós-menopausa*."
   ]
  },
  {
   "cell_type": "code",
   "execution_count": 42,
   "metadata": {
    "ExecuteTime": {
     "end_time": "2022-06-13T16:24:14.687411Z",
     "start_time": "2022-06-13T16:24:14.681793Z"
    },
    "hidden": true,
    "scrolled": true
   },
   "outputs": [
    {
     "name": "stdout",
     "output_type": "stream",
     "text": [
      "1 - d__Bacteria;p__Firmicutes;c__Negativicutes;o__Veillonellales-Selenomonadales;f__Veillonellaceae;g__Dialister;s__uncultured_bacterium: 25510\n",
      "2 - d__Bacteria;p__Firmicutes;c__Clostridia;o__Oscillospirales;f__Oscillospiraceae;g__UCG-002;s__uncultured_bacterium: 24827\n",
      "3 - d__Bacteria;p__Bacteroidota;c__Bacteroidia;o__Bacteroidales;f__Bacteroidaceae;g__Bacteroides;s__Bacteroides_stercoris: 22903\n",
      "4 - d__Bacteria;p__Firmicutes;c__Clostridia;o__Oscillospirales;f__Oscillospiraceae;g__UCG-002;s__uncultured_organism: 22210\n",
      "5 - d__Bacteria;p__Firmicutes;c__Clostridia;o__Lachnospirales;f__Lachnospiraceae;g__[Eubacterium]_ruminantium_group;s__uncultured_bacterium: 19932\n",
      "6 - d__Bacteria;p__Firmicutes;c__Clostridia;o__Oscillospirales;f__Ruminococcaceae;g__CAG-352;s__uncultured_bacterium: 18065\n",
      "7 - d__Bacteria;p__Firmicutes;c__Bacilli;o__Erysipelotrichales;f__Erysipelatoclostridiaceae;g__Catenibacterium;s__uncultured_bacterium: 16573\n",
      "8 - d__Bacteria;p__Bacteroidota;c__Bacteroidia;o__Bacteroidales;f__Tannerellaceae;g__Parabacteroides;s__Parabacteroides_merdae: 15442\n",
      "9 - d__Bacteria;p__Bacteroidota;c__Bacteroidia;o__Bacteroidales;f__Muribaculaceae;g__Muribaculaceae;s__uncultured_bacterium: 14956\n",
      "10 - d__Bacteria;p__Firmicutes;c__Clostridia;o__Lachnospirales;f__Lachnospiraceae;g__Lachnospira;s__uncultured_bacterium: 13019\n"
     ]
    }
   ],
   "source": [
    "species_p2, counts_p2, full_tax = top_counts(collapsed_table_df, '2')\n",
    "for i, c in enumerate(counts_p2):\n",
    "    print(f'{i+1} - {full_tax[i]}: {c}')"
   ]
  },
  {
   "cell_type": "code",
   "execution_count": 43,
   "metadata": {
    "ExecuteTime": {
     "end_time": "2022-06-13T16:24:14.949553Z",
     "start_time": "2022-06-13T16:24:14.689080Z"
    },
    "hidden": true
   },
   "outputs": [
    {
     "data": {
      "image/png": "[encoded data removed]",
      "text/plain": [
       "<Figure size 1080x216 with 1 Axes>"
      ]
     },
     "metadata": {
      "needs_background": "light"
     },
     "output_type": "display_data"
    }
   ],
   "source": [
    "ax = pd.DataFrame(data=counts_p2, index=species_p2).plot(kind='bar', figsize=(15,3), rot=45)\n",
    "ax.set_ylabel('Frequency')\n",
    "ax.legend().set_visible(False)\n",
    "plt.savefig('vs-classmeno-p2-top-tax.eps', bbox_inches = 'tight')\n",
    "plt.show()"
   ]
  },
  {
   "cell_type": "markdown",
   "metadata": {},
   "source": [
    "### Microorganisms frequences"
   ]
  },
  {
   "cell_type": "code",
   "execution_count": 44,
   "metadata": {
    "ExecuteTime": {
     "end_time": "2022-06-13T16:24:14.974907Z",
     "start_time": "2022-06-13T16:24:14.951014Z"
    }
   },
   "outputs": [
    {
     "data": {
      "text/html": [
       "<div>\n",
       "<style scoped>\n",
       "    .dataframe tbody tr th:only-of-type {\n",
       "        vertical-align: middle;\n",
       "    }\n",
       "\n",
       "    .dataframe tbody tr th {\n",
       "        vertical-align: top;\n",
       "    }\n",
       "\n",
       "    .dataframe thead th {\n",
       "        text-align: right;\n",
       "    }\n",
       "</style>\n",
       "<table border=\"1\" class=\"dataframe\">\n",
       "  <thead>\n",
       "    <tr style=\"text-align: right;\">\n",
       "      <th></th>\n",
       "      <th>Frequency</th>\n",
       "      <th>Taxon</th>\n",
       "      <th>Confidence</th>\n",
       "      <th>Reino</th>\n",
       "      <th>Filo</th>\n",
       "      <th>Classe</th>\n",
       "      <th>Ordem</th>\n",
       "      <th>Família</th>\n",
       "      <th>Gênero</th>\n",
       "      <th>Espécie</th>\n",
       "    </tr>\n",
       "  </thead>\n",
       "  <tbody>\n",
       "    <tr>\n",
       "      <th>7a1d4d3ec513655bbe964c4ab022e6fe</th>\n",
       "      <td>17.0</td>\n",
       "      <td>d__Bacteria; p__Bacteroidota; c__Bacteroidia; ...</td>\n",
       "      <td>0.7348376775850926</td>\n",
       "      <td>d__Bacteria</td>\n",
       "      <td>p__Bacteroidota</td>\n",
       "      <td>c__Bacteroidia</td>\n",
       "      <td>o__Bacteroidales</td>\n",
       "      <td>f__Bacteroidaceae</td>\n",
       "      <td>g__Bacteroides</td>\n",
       "      <td>s__Bacteroides_vulgatus</td>\n",
       "    </tr>\n",
       "    <tr>\n",
       "      <th>84c637ccc4b3a7ddf249683f94a9e6b8</th>\n",
       "      <td>7.0</td>\n",
       "      <td>d__Bacteria; p__Bacteroidota; c__Bacteroidia; ...</td>\n",
       "      <td>0.80958025129418</td>\n",
       "      <td>d__Bacteria</td>\n",
       "      <td>p__Bacteroidota</td>\n",
       "      <td>c__Bacteroidia</td>\n",
       "      <td>o__Bacteroidales</td>\n",
       "      <td>f__Bacteroidaceae</td>\n",
       "      <td>g__Bacteroides</td>\n",
       "      <td>s__Bacteroides_vulgatus</td>\n",
       "    </tr>\n",
       "    <tr>\n",
       "      <th>94d998377d1b0778de2a8369a12f7c61</th>\n",
       "      <td>7.0</td>\n",
       "      <td>d__Bacteria; p__Bacteroidota; c__Bacteroidia; ...</td>\n",
       "      <td>0.7456998849690256</td>\n",
       "      <td>d__Bacteria</td>\n",
       "      <td>p__Bacteroidota</td>\n",
       "      <td>c__Bacteroidia</td>\n",
       "      <td>o__Bacteroidales</td>\n",
       "      <td>f__Bacteroidaceae</td>\n",
       "      <td>g__Bacteroides</td>\n",
       "      <td>s__Bacteroides_vulgatus</td>\n",
       "    </tr>\n",
       "    <tr>\n",
       "      <th>8888e1f1a4f7c14ed50b43769cacf02f</th>\n",
       "      <td>6.0</td>\n",
       "      <td>d__Bacteria; p__Firmicutes; c__Clostridia; o__...</td>\n",
       "      <td>0.7357499647767276</td>\n",
       "      <td>d__Bacteria</td>\n",
       "      <td>p__Firmicutes</td>\n",
       "      <td>c__Clostridia</td>\n",
       "      <td>o__Oscillospirales</td>\n",
       "      <td>f__Ruminococcaceae</td>\n",
       "      <td>g__Subdoligranulum</td>\n",
       "      <td>s__uncultured_bacterium</td>\n",
       "    </tr>\n",
       "    <tr>\n",
       "      <th>9182301e1a42f09bd5016aad44496c4a</th>\n",
       "      <td>6.0</td>\n",
       "      <td>d__Bacteria; p__Firmicutes; c__Negativicutes; ...</td>\n",
       "      <td>0.8566238192342637</td>\n",
       "      <td>d__Bacteria</td>\n",
       "      <td>p__Firmicutes</td>\n",
       "      <td>c__Negativicutes</td>\n",
       "      <td>o__Veillonellales-Selenomonadales</td>\n",
       "      <td>f__Veillonellaceae</td>\n",
       "      <td>g__Dialister</td>\n",
       "      <td>s__uncultured_bacterium</td>\n",
       "    </tr>\n",
       "    <tr>\n",
       "      <th>2b87c87096745aa778ddbb3eb16f9677</th>\n",
       "      <td>5.0</td>\n",
       "      <td>d__Bacteria; p__Firmicutes; c__Clostridia; o__...</td>\n",
       "      <td>0.965235112857912</td>\n",
       "      <td>d__Bacteria</td>\n",
       "      <td>p__Firmicutes</td>\n",
       "      <td>c__Clostridia</td>\n",
       "      <td>o__Oscillospirales</td>\n",
       "      <td>f__Ruminococcaceae</td>\n",
       "      <td>g__CAG-352</td>\n",
       "      <td>s__uncultured_bacterium</td>\n",
       "    </tr>\n",
       "    <tr>\n",
       "      <th>dc23795eaf76ec1afff097b7cc095fd7</th>\n",
       "      <td>5.0</td>\n",
       "      <td>d__Bacteria; p__Firmicutes; c__Clostridia; o__...</td>\n",
       "      <td>0.7066510092291165</td>\n",
       "      <td>d__Bacteria</td>\n",
       "      <td>p__Firmicutes</td>\n",
       "      <td>c__Clostridia</td>\n",
       "      <td>o__Oscillospirales</td>\n",
       "      <td>f__Ruminococcaceae</td>\n",
       "      <td>g__Subdoligranulum</td>\n",
       "      <td>s__uncultured_bacterium</td>\n",
       "    </tr>\n",
       "    <tr>\n",
       "      <th>7e814b2213243a0ae956d9e03f2a641d</th>\n",
       "      <td>5.0</td>\n",
       "      <td>d__Bacteria; p__Firmicutes; c__Clostridia; o__...</td>\n",
       "      <td>0.9634917919263422</td>\n",
       "      <td>d__Bacteria</td>\n",
       "      <td>p__Firmicutes</td>\n",
       "      <td>c__Clostridia</td>\n",
       "      <td>o__Oscillospirales</td>\n",
       "      <td>f__Ruminococcaceae</td>\n",
       "      <td>g__CAG-352</td>\n",
       "      <td>s__uncultured_bacterium</td>\n",
       "    </tr>\n",
       "    <tr>\n",
       "      <th>f095498e0cc986c1f6229215f3793b07</th>\n",
       "      <td>5.0</td>\n",
       "      <td>d__Bacteria; p__Firmicutes; c__Clostridia; o__...</td>\n",
       "      <td>0.8459164041922352</td>\n",
       "      <td>d__Bacteria</td>\n",
       "      <td>p__Firmicutes</td>\n",
       "      <td>c__Clostridia</td>\n",
       "      <td>o__Oscillospirales</td>\n",
       "      <td>f__Oscillospiraceae</td>\n",
       "      <td>g__UCG-002</td>\n",
       "      <td>s__uncultured_organism</td>\n",
       "    </tr>\n",
       "    <tr>\n",
       "      <th>6f355b0d3bd035382724f469e1f5e834</th>\n",
       "      <td>4.0</td>\n",
       "      <td>d__Bacteria; p__Firmicutes; c__Clostridia; o__...</td>\n",
       "      <td>0.7302234911620858</td>\n",
       "      <td>d__Bacteria</td>\n",
       "      <td>p__Firmicutes</td>\n",
       "      <td>c__Clostridia</td>\n",
       "      <td>o__Oscillospirales</td>\n",
       "      <td>f__Ruminococcaceae</td>\n",
       "      <td>g__Subdoligranulum</td>\n",
       "      <td>s__uncultured_bacterium</td>\n",
       "    </tr>\n",
       "  </tbody>\n",
       "</table>\n",
       "</div>"
      ],
      "text/plain": [
       "                                  Frequency  \\\n",
       "7a1d4d3ec513655bbe964c4ab022e6fe       17.0   \n",
       "84c637ccc4b3a7ddf249683f94a9e6b8        7.0   \n",
       "94d998377d1b0778de2a8369a12f7c61        7.0   \n",
       "8888e1f1a4f7c14ed50b43769cacf02f        6.0   \n",
       "9182301e1a42f09bd5016aad44496c4a        6.0   \n",
       "2b87c87096745aa778ddbb3eb16f9677        5.0   \n",
       "dc23795eaf76ec1afff097b7cc095fd7        5.0   \n",
       "7e814b2213243a0ae956d9e03f2a641d        5.0   \n",
       "f095498e0cc986c1f6229215f3793b07        5.0   \n",
       "6f355b0d3bd035382724f469e1f5e834        4.0   \n",
       "\n",
       "                                                                              Taxon  \\\n",
       "7a1d4d3ec513655bbe964c4ab022e6fe  d__Bacteria; p__Bacteroidota; c__Bacteroidia; ...   \n",
       "84c637ccc4b3a7ddf249683f94a9e6b8  d__Bacteria; p__Bacteroidota; c__Bacteroidia; ...   \n",
       "94d998377d1b0778de2a8369a12f7c61  d__Bacteria; p__Bacteroidota; c__Bacteroidia; ...   \n",
       "8888e1f1a4f7c14ed50b43769cacf02f  d__Bacteria; p__Firmicutes; c__Clostridia; o__...   \n",
       "9182301e1a42f09bd5016aad44496c4a  d__Bacteria; p__Firmicutes; c__Negativicutes; ...   \n",
       "2b87c87096745aa778ddbb3eb16f9677  d__Bacteria; p__Firmicutes; c__Clostridia; o__...   \n",
       "dc23795eaf76ec1afff097b7cc095fd7  d__Bacteria; p__Firmicutes; c__Clostridia; o__...   \n",
       "7e814b2213243a0ae956d9e03f2a641d  d__Bacteria; p__Firmicutes; c__Clostridia; o__...   \n",
       "f095498e0cc986c1f6229215f3793b07  d__Bacteria; p__Firmicutes; c__Clostridia; o__...   \n",
       "6f355b0d3bd035382724f469e1f5e834  d__Bacteria; p__Firmicutes; c__Clostridia; o__...   \n",
       "\n",
       "                                          Confidence        Reino  \\\n",
       "7a1d4d3ec513655bbe964c4ab022e6fe  0.7348376775850926  d__Bacteria   \n",
       "84c637ccc4b3a7ddf249683f94a9e6b8    0.80958025129418  d__Bacteria   \n",
       "94d998377d1b0778de2a8369a12f7c61  0.7456998849690256  d__Bacteria   \n",
       "8888e1f1a4f7c14ed50b43769cacf02f  0.7357499647767276  d__Bacteria   \n",
       "9182301e1a42f09bd5016aad44496c4a  0.8566238192342637  d__Bacteria   \n",
       "2b87c87096745aa778ddbb3eb16f9677   0.965235112857912  d__Bacteria   \n",
       "dc23795eaf76ec1afff097b7cc095fd7  0.7066510092291165  d__Bacteria   \n",
       "7e814b2213243a0ae956d9e03f2a641d  0.9634917919263422  d__Bacteria   \n",
       "f095498e0cc986c1f6229215f3793b07  0.8459164041922352  d__Bacteria   \n",
       "6f355b0d3bd035382724f469e1f5e834  0.7302234911620858  d__Bacteria   \n",
       "\n",
       "                                             Filo            Classe  \\\n",
       "7a1d4d3ec513655bbe964c4ab022e6fe  p__Bacteroidota    c__Bacteroidia   \n",
       "84c637ccc4b3a7ddf249683f94a9e6b8  p__Bacteroidota    c__Bacteroidia   \n",
       "94d998377d1b0778de2a8369a12f7c61  p__Bacteroidota    c__Bacteroidia   \n",
       "8888e1f1a4f7c14ed50b43769cacf02f    p__Firmicutes     c__Clostridia   \n",
       "9182301e1a42f09bd5016aad44496c4a    p__Firmicutes  c__Negativicutes   \n",
       "2b87c87096745aa778ddbb3eb16f9677    p__Firmicutes     c__Clostridia   \n",
       "dc23795eaf76ec1afff097b7cc095fd7    p__Firmicutes     c__Clostridia   \n",
       "7e814b2213243a0ae956d9e03f2a641d    p__Firmicutes     c__Clostridia   \n",
       "f095498e0cc986c1f6229215f3793b07    p__Firmicutes     c__Clostridia   \n",
       "6f355b0d3bd035382724f469e1f5e834    p__Firmicutes     c__Clostridia   \n",
       "\n",
       "                                                              Ordem  \\\n",
       "7a1d4d3ec513655bbe964c4ab022e6fe                   o__Bacteroidales   \n",
       "84c637ccc4b3a7ddf249683f94a9e6b8                   o__Bacteroidales   \n",
       "94d998377d1b0778de2a8369a12f7c61                   o__Bacteroidales   \n",
       "8888e1f1a4f7c14ed50b43769cacf02f                 o__Oscillospirales   \n",
       "9182301e1a42f09bd5016aad44496c4a  o__Veillonellales-Selenomonadales   \n",
       "2b87c87096745aa778ddbb3eb16f9677                 o__Oscillospirales   \n",
       "dc23795eaf76ec1afff097b7cc095fd7                 o__Oscillospirales   \n",
       "7e814b2213243a0ae956d9e03f2a641d                 o__Oscillospirales   \n",
       "f095498e0cc986c1f6229215f3793b07                 o__Oscillospirales   \n",
       "6f355b0d3bd035382724f469e1f5e834                 o__Oscillospirales   \n",
       "\n",
       "                                              Família              Gênero  \\\n",
       "7a1d4d3ec513655bbe964c4ab022e6fe    f__Bacteroidaceae      g__Bacteroides   \n",
       "84c637ccc4b3a7ddf249683f94a9e6b8    f__Bacteroidaceae      g__Bacteroides   \n",
       "94d998377d1b0778de2a8369a12f7c61    f__Bacteroidaceae      g__Bacteroides   \n",
       "8888e1f1a4f7c14ed50b43769cacf02f   f__Ruminococcaceae  g__Subdoligranulum   \n",
       "9182301e1a42f09bd5016aad44496c4a   f__Veillonellaceae        g__Dialister   \n",
       "2b87c87096745aa778ddbb3eb16f9677   f__Ruminococcaceae          g__CAG-352   \n",
       "dc23795eaf76ec1afff097b7cc095fd7   f__Ruminococcaceae  g__Subdoligranulum   \n",
       "7e814b2213243a0ae956d9e03f2a641d   f__Ruminococcaceae          g__CAG-352   \n",
       "f095498e0cc986c1f6229215f3793b07  f__Oscillospiraceae          g__UCG-002   \n",
       "6f355b0d3bd035382724f469e1f5e834   f__Ruminococcaceae  g__Subdoligranulum   \n",
       "\n",
       "                                                  Espécie  \n",
       "7a1d4d3ec513655bbe964c4ab022e6fe  s__Bacteroides_vulgatus  \n",
       "84c637ccc4b3a7ddf249683f94a9e6b8  s__Bacteroides_vulgatus  \n",
       "94d998377d1b0778de2a8369a12f7c61  s__Bacteroides_vulgatus  \n",
       "8888e1f1a4f7c14ed50b43769cacf02f  s__uncultured_bacterium  \n",
       "9182301e1a42f09bd5016aad44496c4a  s__uncultured_bacterium  \n",
       "2b87c87096745aa778ddbb3eb16f9677  s__uncultured_bacterium  \n",
       "dc23795eaf76ec1afff097b7cc095fd7  s__uncultured_bacterium  \n",
       "7e814b2213243a0ae956d9e03f2a641d  s__uncultured_bacterium  \n",
       "f095498e0cc986c1f6229215f3793b07   s__uncultured_organism  \n",
       "6f355b0d3bd035382724f469e1f5e834  s__uncultured_bacterium  "
      ]
     },
     "execution_count": 44,
     "metadata": {},
     "output_type": "execute_result"
    }
   ],
   "source": [
    "freq_df = presence_absence_table_df.sum(axis=1).to_frame()\n",
    "tax_freq_df = pd.merge(freq_df, table_tax_df, left_index=True, right_index=True)\n",
    "tax_freq_df.rename(columns={0: 'Frequency'}, inplace=True)\n",
    "tax_freq_df.sort_values(by=['Frequency'], ascending=False, inplace=True)\n",
    "tax_freq_df.dropna()[:10]"
   ]
  },
  {
   "cell_type": "code",
   "execution_count": 45,
   "metadata": {
    "ExecuteTime": {
     "end_time": "2022-06-13T16:24:15.551495Z",
     "start_time": "2022-06-13T16:24:14.976499Z"
    },
    "scrolled": true
   },
   "outputs": [
    {
     "data": {
      "text/plain": [
       "<AxesSubplot:ylabel='Frequency'>"
      ]
     },
     "execution_count": 45,
     "metadata": {},
     "output_type": "execute_result"
    },
    {
     "data": {
      "image/png": "[encoded data removed]",
      "text/plain": [
       "<Figure size 432x288 with 1 Axes>"
      ]
     },
     "metadata": {
      "needs_background": "light"
     },
     "output_type": "display_data"
    }
   ],
   "source": [
    "tax_freq_df.plot.hist(log=True)"
   ]
  },
  {
   "cell_type": "code",
   "execution_count": 46,
   "metadata": {
    "ExecuteTime": {
     "end_time": "2022-06-13T16:24:15.849364Z",
     "start_time": "2022-06-13T16:24:15.554331Z"
    }
   },
   "outputs": [
    {
     "name": "stdout",
     "output_type": "stream",
     "text": [
      "ncultured_bacterium\n",
      "ncultured_organism\n",
      "ut_metagenome\n",
      "arabacteroides_merdae\n",
      "uman_gut\n",
      "acteroides_stercoris\n",
      "acteroides_vulgatus\n",
      "etagenome\n",
      "acterium\n",
      "ncultured_prokaryote\n"
     ]
    },
    {
     "data": {
      "image/png": "[encoded data removed]",
      "text/plain": [
       "<Figure size 1080x360 with 1 Axes>"
      ]
     },
     "metadata": {
      "needs_background": "light"
     },
     "output_type": "display_data"
    }
   ],
   "source": [
    "top = top_plot(tax_freq_df, 10, 'Espécie', 'Frequency')\n",
    "for i in top.index:\n",
    "    print(i[4:])\n",
    "ax = top.plot(kind='bar', figsize=(15,5))\n",
    "plt.savefig('vs-mostfreqs-top-tax_l7.eps')\n",
    "plt.show()"
   ]
  },
  {
   "cell_type": "code",
   "execution_count": 47,
   "metadata": {
    "ExecuteTime": {
     "end_time": "2022-06-13T16:24:16.139170Z",
     "start_time": "2022-06-13T16:24:15.851159Z"
    }
   },
   "outputs": [
    {
     "name": "stdout",
     "output_type": "stream",
     "text": [
      "ncultured_bacterium\n",
      "ncultured_organism\n",
      "ut_metagenome\n",
      "acteroides_vulgatus\n",
      "acteroides_stercoris\n",
      "arabacteroides_merdae\n",
      "uman_gut\n",
      "acterium\n",
      "ncultured_prokaryote\n",
      "ncultured_rumen\n"
     ]
    },
    {
     "data": {
      "image/png": "[encoded data removed]",
      "text/plain": [
       "<Figure size 1080x360 with 1 Axes>"
      ]
     },
     "metadata": {
      "needs_background": "light"
     },
     "output_type": "display_data"
    }
   ],
   "source": [
    "df = tax_freq_df.loc[features_ids_p2]\n",
    "top = top_plot(df, 10, 'Espécie', 'Frequency')\n",
    "for i in top.index:\n",
    "    print(i[4:])\n",
    "ax = top.plot(kind='bar', figsize=(15,5))\n",
    "plt.savefig('vs-p2_mostfreqs-top-tax-l7.eps', bbox_inches='tight')\n",
    "plt.show()"
   ]
  },
  {
   "cell_type": "markdown",
   "metadata": {},
   "source": [
    "---"
   ]
  }
 ],
 "metadata": {
  "kernelspec": {
   "display_name": "Python 3 (ipykernel)",
   "language": "python",
   "name": "python3"
  },
  "language_info": {
   "codemirror_mode": {
    "name": "ipython",
    "version": 3
   },
   "file_extension": ".py",
   "mimetype": "text/x-python",
   "name": "python",
   "nbconvert_exporter": "python",
   "pygments_lexer": "ipython3",
   "version": "3.8.12"
  }
 },
 "nbformat": 4,
 "nbformat_minor": 4
}
