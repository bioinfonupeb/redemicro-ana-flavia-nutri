{
 "cells": [
  {
   "cell_type": "markdown",
   "metadata": {
    "pycharm": {
     "name": "#%% md\n"
    }
   },
   "source": [
    "### STEP : Abundance Analysis\n",
    "#### Taxonomic assignment with Silva 16S\n",
    "\n",
    "Using Silva 16S classifier for Qiime2. List with all [classifiers](https://docs.qiime2.org/2020.6/data-resources/). \n",
    "\n",
    "#### Versions \n",
    "- [Silva 138 99% OTUs full-length sequences](https://data.qiime2.org/2020.6/common/silva-138-99-nb-classifier.qza)\n",
    "- [Silva 138 99% OTUs from 515F/806R region of sequences](https://data.qiime2.org/2020.6/common/silva-138-99-515-806-nb-classifier.qza)\n",
    "- [Greengenes 13_8 99% OTUs full-length sequences](https://data.qiime2.org/2020.6/common/gg-13-8-99-nb-classifier.qza)\n",
    "- [Greengenes 13_8 99% OTUs from 515F/806R region of sequences](https://data.qiime2.org/2020.6/common/gg-13-8-99-515-806-nb-classifier.qza)\n",
    "\n",
    "#### Methods\n",
    "- [qiime feature-classifier](https://docs.qiime2.org/2022.2/plugins/available/feature-classifier/)\n",
    "- [qiime feature-classifier classify-sklearn](https://docs.qiime2.org/2021.8/plugins/available/feature-classifier/classify-sklearn)\n",
    "- [qiime metadata](https://docs.qiime2.org/2022.2/plugins/available/metadata/)\n",
    "- [classify-hybrid-vsearch-sklearn](https://docs.qiime2.org/2022.2/plugins/available/feature-classifier/classify-hybrid-vsearch-sklearn/)\n",
    "- [qiime metadata tabulate](https://docs.qiime2.org/2022.2/plugins/available/metadata/tabulate/)\n",
    "- [qiime taxa](https://docs.qiime2.org/2022.2/plugins/available/taxa/)\n",
    "- [qiime taxa barplot](https://docs.qiime2.org/2022.2/plugins/available/taxa/barplot/)"
   ]
  },
  {
   "cell_type": "markdown",
   "metadata": {
    "pycharm": {
     "name": "#%% md\n"
    }
   },
   "source": [
    "## Setup and settings"
   ]
  },
  {
   "cell_type": "code",
   "execution_count": 38,
   "metadata": {
    "ExecuteTime": {
     "end_time": "2022-06-13T19:04:54.376935Z",
     "start_time": "2022-06-13T19:04:47.895864Z"
    },
    "pycharm": {
     "name": "#%%\n"
    }
   },
   "outputs": [],
   "source": [
    "# Importing packages\n",
    "import os\n",
    "import pandas as pd\n",
    "from qiime2 import Artifact\n",
    "from qiime2 import Visualization\n",
    "from qiime2 import Metadata\n",
    "\n",
    "from qiime2.plugins.feature_table.methods import group\n",
    "from qiime2.plugins.taxa.methods import collapse\n",
    "\n",
    "import matplotlib.pyplot as plt\n",
    "\n",
    "from utils import *\n",
    "\n",
    "%matplotlib inline"
   ]
  },
  {
   "cell_type": "code",
   "execution_count": 39,
   "metadata": {
    "ExecuteTime": {
     "end_time": "2022-06-13T19:04:54.381271Z",
     "start_time": "2022-06-13T19:04:54.379143Z"
    },
    "pycharm": {
     "name": "#%%\n"
    }
   },
   "outputs": [],
   "source": [
    "# from qiime2.plugins import demux, deblur, quality_filter, \\\n",
    "#                            metadata, feature_table, alignment, \\\n",
    "#                            phylogeny, diversity, emperor, feature_classifier, \\\n",
    "#                            taxa, composition"
   ]
  },
  {
   "cell_type": "markdown",
   "metadata": {
    "pycharm": {
     "name": "#%% md\n"
    }
   },
   "source": [
    "### Receiving the parameters\n",
    "\n",
    "The following cell can receive parameters using the [papermill](https://papermill.readthedocs.io/en/latest/) tool."
   ]
  },
  {
   "cell_type": "code",
   "execution_count": 40,
   "metadata": {
    "ExecuteTime": {
     "end_time": "2022-06-13T19:04:54.392516Z",
     "start_time": "2022-06-13T19:04:54.382440Z"
    },
    "pycharm": {
     "name": "#%%\n"
    },
    "tags": [
     "parameters"
    ]
   },
   "outputs": [],
   "source": [
    "metadata_file = os.path.abspath(os.path.join(os.getcwd(), '..', 'data', 'raw', 'metadata', 'not-hist-feces-metadata.tsv'))\n",
    "experiment_folder = os.path.abspath(os.path.join(os.getcwd(), '..', 'experiments', 'thayane-feces-01'))\n",
    "img_folder = os.path.abspath(os.path.join(experiment_folder, 'imgs'))\n",
    "replace_files = False"
   ]
  },
  {
   "cell_type": "markdown",
   "metadata": {
    "pycharm": {
     "name": "#%% md\n"
    }
   },
   "source": [
    "### Defining names, paths and flags"
   ]
  },
  {
   "cell_type": "code",
   "execution_count": 41,
   "metadata": {
    "ExecuteTime": {
     "end_time": "2022-06-13T19:04:54.404339Z",
     "start_time": "2022-06-13T19:04:54.394107Z"
    },
    "pycharm": {
     "name": "#%%\n"
    }
   },
   "outputs": [],
   "source": [
    "# QIIME2 Artifacts folder\n",
    "qiime_folder = os.path.join(experiment_folder, 'qiime-artifacts')\n",
    "\n",
    "# Input - DADA2 Artifacts\n",
    "dada2_tabs_path = os.path.join(qiime_folder, 'dada2-tabs.qza')\n",
    "dada2_reps_path = os.path.join(qiime_folder, 'dada2-reps.qza')\n",
    "dada2_stat_path = os.path.join(qiime_folder, 'dada2-stat.qza')\n",
    "\n",
    "# Input - Metataxonomy Artifacts\n",
    "metatax_path = os.path.join(qiime_folder, 'metatax.qza')\n",
    "# metatax_view_path = os.path.join(qiime_folder, 'metatax.qzv')\n",
    "# metatax_bar_path = os.path.join(qiime_folder, 'metatax-bar.qzv')\n",
    "\n",
    "# Flag - Load or create files\n",
    "need_tax = not (os.path.isfile(metatax_path)) or replace_files"
   ]
  },
  {
   "cell_type": "markdown",
   "metadata": {
    "pycharm": {
     "name": "#%% md\n"
    }
   },
   "source": [
    "## Step execution\n",
    "\n",
    "### Load input files\n",
    "\n",
    "This Step import the QIIME2 `SampleData[PairedEndSequencesWithQuality]` Artifact with all demultiplexed sequences and the `Metadata` file."
   ]
  },
  {
   "cell_type": "code",
   "execution_count": 42,
   "metadata": {
    "ExecuteTime": {
     "end_time": "2022-06-13T19:04:54.439865Z",
     "start_time": "2022-06-13T19:04:54.405972Z"
    },
    "pycharm": {
     "name": "#%%\n"
    }
   },
   "outputs": [],
   "source": [
    "#Load Metadata\n",
    "metadata_qa = Metadata.load(metadata_file)"
   ]
  },
  {
   "cell_type": "code",
   "execution_count": 43,
   "metadata": {
    "ExecuteTime": {
     "end_time": "2022-06-13T19:04:56.511061Z",
     "start_time": "2022-06-13T19:04:54.441250Z"
    },
    "pycharm": {
     "name": "#%%\n"
    }
   },
   "outputs": [],
   "source": [
    "metatax = Artifact.load(metatax_path)\n",
    "metatax_df = metatax.view(Metadata).to_dataframe()\n",
    "metatax_df['Confidence'] = metatax_df['Confidence'].astype('float32')\n",
    "\n",
    "tabs = Artifact.load(dada2_tabs_path)\n",
    "tabs_df = tabs.view(Metadata).to_dataframe().T"
   ]
  },
  {
   "cell_type": "code",
   "execution_count": 44,
   "metadata": {
    "ExecuteTime": {
     "end_time": "2022-06-13T19:04:56.538859Z",
     "start_time": "2022-06-13T19:04:56.513035Z"
    },
    "pycharm": {
     "name": "#%%\n"
    }
   },
   "outputs": [],
   "source": [
    "tax_levels = ['Reino', 'Filo', 'Classe', 'Ordem', 'Família', 'Gênero', 'Espécie']\n",
    "taxons_col = metatax_df['Taxon']\n",
    "metatax_split_df = pd.DataFrame(columns=tax_levels)\n",
    "metatax_split_df[tax_levels] = taxons_col.str.split(';', expand=True)\n",
    "for t in tax_levels:\n",
    "    metatax_split_df[t] = metatax_split_df[t].str.strip()"
   ]
  },
  {
   "cell_type": "code",
   "execution_count": 45,
   "metadata": {
    "ExecuteTime": {
     "end_time": "2022-06-13T19:04:56.663426Z",
     "start_time": "2022-06-13T19:04:56.540577Z"
    },
    "pycharm": {
     "name": "#%%\n"
    }
   },
   "outputs": [
    {
     "data": {
      "text/html": [
       "<div>\n",
       "<style scoped>\n",
       "    .dataframe tbody tr th:only-of-type {\n",
       "        vertical-align: middle;\n",
       "    }\n",
       "\n",
       "    .dataframe tbody tr th {\n",
       "        vertical-align: top;\n",
       "    }\n",
       "\n",
       "    .dataframe thead th {\n",
       "        text-align: right;\n",
       "    }\n",
       "</style>\n",
       "<table border=\"1\" class=\"dataframe\">\n",
       "  <thead>\n",
       "    <tr style=\"text-align: right;\">\n",
       "      <th></th>\n",
       "      <th>I1-M05</th>\n",
       "      <th>I10-M91</th>\n",
       "      <th>I11-M44</th>\n",
       "      <th>I12-M45</th>\n",
       "      <th>I13-M46</th>\n",
       "      <th>I14-M47</th>\n",
       "      <th>I15-M49</th>\n",
       "      <th>I16-M52</th>\n",
       "      <th>I17-M55</th>\n",
       "      <th>I18-M07</th>\n",
       "      <th>...</th>\n",
       "      <th>I75-M162</th>\n",
       "      <th>I76-M164</th>\n",
       "      <th>I8-M39</th>\n",
       "      <th>Reino</th>\n",
       "      <th>Filo</th>\n",
       "      <th>Classe</th>\n",
       "      <th>Ordem</th>\n",
       "      <th>Família</th>\n",
       "      <th>Gênero</th>\n",
       "      <th>Espécie</th>\n",
       "    </tr>\n",
       "  </thead>\n",
       "  <tbody>\n",
       "    <tr>\n",
       "      <th>074b2d2eeb19288d75bf8e64784db602</th>\n",
       "      <td>0.0</td>\n",
       "      <td>786.0</td>\n",
       "      <td>0.0</td>\n",
       "      <td>1118.0</td>\n",
       "      <td>0.0</td>\n",
       "      <td>0.0</td>\n",
       "      <td>0.0</td>\n",
       "      <td>0.0</td>\n",
       "      <td>330.0</td>\n",
       "      <td>0.0</td>\n",
       "      <td>...</td>\n",
       "      <td>0.0</td>\n",
       "      <td>0.0</td>\n",
       "      <td>1263.0</td>\n",
       "      <td>d__Bacteria</td>\n",
       "      <td>p__Firmicutes</td>\n",
       "      <td>c__Clostridia</td>\n",
       "      <td>o__Lachnospirales</td>\n",
       "      <td>f__Lachnospiraceae</td>\n",
       "      <td>g__Agathobacter</td>\n",
       "      <td>None</td>\n",
       "    </tr>\n",
       "    <tr>\n",
       "      <th>6c3b33991621b6c3e04992794a55a3d9</th>\n",
       "      <td>0.0</td>\n",
       "      <td>1634.0</td>\n",
       "      <td>1228.0</td>\n",
       "      <td>1436.0</td>\n",
       "      <td>0.0</td>\n",
       "      <td>0.0</td>\n",
       "      <td>0.0</td>\n",
       "      <td>0.0</td>\n",
       "      <td>0.0</td>\n",
       "      <td>0.0</td>\n",
       "      <td>...</td>\n",
       "      <td>0.0</td>\n",
       "      <td>0.0</td>\n",
       "      <td>773.0</td>\n",
       "      <td>d__Bacteria</td>\n",
       "      <td>p__Firmicutes</td>\n",
       "      <td>c__Clostridia</td>\n",
       "      <td>o__Lachnospirales</td>\n",
       "      <td>f__Lachnospiraceae</td>\n",
       "      <td>g__Agathobacter</td>\n",
       "      <td>None</td>\n",
       "    </tr>\n",
       "    <tr>\n",
       "      <th>8b7f2e8ca48676f3a47dfa784c8a9efe</th>\n",
       "      <td>0.0</td>\n",
       "      <td>540.0</td>\n",
       "      <td>0.0</td>\n",
       "      <td>872.0</td>\n",
       "      <td>0.0</td>\n",
       "      <td>0.0</td>\n",
       "      <td>0.0</td>\n",
       "      <td>0.0</td>\n",
       "      <td>0.0</td>\n",
       "      <td>0.0</td>\n",
       "      <td>...</td>\n",
       "      <td>0.0</td>\n",
       "      <td>0.0</td>\n",
       "      <td>652.0</td>\n",
       "      <td>d__Bacteria</td>\n",
       "      <td>p__Firmicutes</td>\n",
       "      <td>c__Clostridia</td>\n",
       "      <td>o__Oscillospirales</td>\n",
       "      <td>f__Ruminococcaceae</td>\n",
       "      <td>g__Faecalibacterium</td>\n",
       "      <td>None</td>\n",
       "    </tr>\n",
       "    <tr>\n",
       "      <th>7a1d4d3ec513655bbe964c4ab022e6fe</th>\n",
       "      <td>0.0</td>\n",
       "      <td>0.0</td>\n",
       "      <td>444.0</td>\n",
       "      <td>0.0</td>\n",
       "      <td>52.0</td>\n",
       "      <td>574.0</td>\n",
       "      <td>0.0</td>\n",
       "      <td>0.0</td>\n",
       "      <td>0.0</td>\n",
       "      <td>0.0</td>\n",
       "      <td>...</td>\n",
       "      <td>1033.0</td>\n",
       "      <td>315.0</td>\n",
       "      <td>0.0</td>\n",
       "      <td>d__Bacteria</td>\n",
       "      <td>p__Bacteroidota</td>\n",
       "      <td>c__Bacteroidia</td>\n",
       "      <td>o__Bacteroidales</td>\n",
       "      <td>f__Bacteroidaceae</td>\n",
       "      <td>g__Bacteroides</td>\n",
       "      <td>s__Bacteroides_vulgatus</td>\n",
       "    </tr>\n",
       "    <tr>\n",
       "      <th>b53b25874d0529b37d36bfc78e32c894</th>\n",
       "      <td>0.0</td>\n",
       "      <td>1464.0</td>\n",
       "      <td>1300.0</td>\n",
       "      <td>1210.0</td>\n",
       "      <td>0.0</td>\n",
       "      <td>0.0</td>\n",
       "      <td>0.0</td>\n",
       "      <td>0.0</td>\n",
       "      <td>0.0</td>\n",
       "      <td>0.0</td>\n",
       "      <td>...</td>\n",
       "      <td>0.0</td>\n",
       "      <td>2022.0</td>\n",
       "      <td>621.0</td>\n",
       "      <td>d__Bacteria</td>\n",
       "      <td>p__Firmicutes</td>\n",
       "      <td>c__Clostridia</td>\n",
       "      <td>o__Lachnospirales</td>\n",
       "      <td>f__Lachnospiraceae</td>\n",
       "      <td>g__Agathobacter</td>\n",
       "      <td>None</td>\n",
       "    </tr>\n",
       "    <tr>\n",
       "      <th>...</th>\n",
       "      <td>...</td>\n",
       "      <td>...</td>\n",
       "      <td>...</td>\n",
       "      <td>...</td>\n",
       "      <td>...</td>\n",
       "      <td>...</td>\n",
       "      <td>...</td>\n",
       "      <td>...</td>\n",
       "      <td>...</td>\n",
       "      <td>...</td>\n",
       "      <td>...</td>\n",
       "      <td>...</td>\n",
       "      <td>...</td>\n",
       "      <td>...</td>\n",
       "      <td>...</td>\n",
       "      <td>...</td>\n",
       "      <td>...</td>\n",
       "      <td>...</td>\n",
       "      <td>...</td>\n",
       "      <td>...</td>\n",
       "      <td>...</td>\n",
       "    </tr>\n",
       "    <tr>\n",
       "      <th>ee5a1924a299e186d7f904e5aa898bd1</th>\n",
       "      <td>0.0</td>\n",
       "      <td>0.0</td>\n",
       "      <td>0.0</td>\n",
       "      <td>0.0</td>\n",
       "      <td>0.0</td>\n",
       "      <td>0.0</td>\n",
       "      <td>0.0</td>\n",
       "      <td>0.0</td>\n",
       "      <td>0.0</td>\n",
       "      <td>0.0</td>\n",
       "      <td>...</td>\n",
       "      <td>0.0</td>\n",
       "      <td>0.0</td>\n",
       "      <td>0.0</td>\n",
       "      <td>d__Bacteria</td>\n",
       "      <td>p__Firmicutes</td>\n",
       "      <td>c__Negativicutes</td>\n",
       "      <td>o__Veillonellales-Selenomonadales</td>\n",
       "      <td>f__Veillonellaceae</td>\n",
       "      <td>g__Dialister</td>\n",
       "      <td>None</td>\n",
       "    </tr>\n",
       "    <tr>\n",
       "      <th>143582bcba9a90e4a585ed60042a6f0d</th>\n",
       "      <td>0.0</td>\n",
       "      <td>0.0</td>\n",
       "      <td>0.0</td>\n",
       "      <td>0.0</td>\n",
       "      <td>0.0</td>\n",
       "      <td>0.0</td>\n",
       "      <td>0.0</td>\n",
       "      <td>0.0</td>\n",
       "      <td>0.0</td>\n",
       "      <td>0.0</td>\n",
       "      <td>...</td>\n",
       "      <td>0.0</td>\n",
       "      <td>0.0</td>\n",
       "      <td>0.0</td>\n",
       "      <td>d__Bacteria</td>\n",
       "      <td>p__Firmicutes</td>\n",
       "      <td>c__Clostridia</td>\n",
       "      <td>o__Oscillospirales</td>\n",
       "      <td>f__Ruminococcaceae</td>\n",
       "      <td>g__Ruminococcus</td>\n",
       "      <td>None</td>\n",
       "    </tr>\n",
       "    <tr>\n",
       "      <th>c713157aa6936b23861463951dfb6a3b</th>\n",
       "      <td>0.0</td>\n",
       "      <td>0.0</td>\n",
       "      <td>0.0</td>\n",
       "      <td>0.0</td>\n",
       "      <td>0.0</td>\n",
       "      <td>0.0</td>\n",
       "      <td>0.0</td>\n",
       "      <td>0.0</td>\n",
       "      <td>0.0</td>\n",
       "      <td>0.0</td>\n",
       "      <td>...</td>\n",
       "      <td>0.0</td>\n",
       "      <td>0.0</td>\n",
       "      <td>0.0</td>\n",
       "      <td>d__Bacteria</td>\n",
       "      <td>p__Firmicutes</td>\n",
       "      <td>c__Bacilli</td>\n",
       "      <td>o__Erysipelotrichales</td>\n",
       "      <td>f__Erysipelotrichaceae</td>\n",
       "      <td>g__Holdemanella</td>\n",
       "      <td>None</td>\n",
       "    </tr>\n",
       "    <tr>\n",
       "      <th>bd157fd42be3b6728d0080ee52836c14</th>\n",
       "      <td>0.0</td>\n",
       "      <td>0.0</td>\n",
       "      <td>0.0</td>\n",
       "      <td>0.0</td>\n",
       "      <td>0.0</td>\n",
       "      <td>0.0</td>\n",
       "      <td>0.0</td>\n",
       "      <td>0.0</td>\n",
       "      <td>0.0</td>\n",
       "      <td>0.0</td>\n",
       "      <td>...</td>\n",
       "      <td>0.0</td>\n",
       "      <td>0.0</td>\n",
       "      <td>0.0</td>\n",
       "      <td>d__Bacteria</td>\n",
       "      <td>p__Firmicutes</td>\n",
       "      <td>c__Clostridia</td>\n",
       "      <td>o__Lachnospirales</td>\n",
       "      <td>f__Lachnospiraceae</td>\n",
       "      <td>g__Lachnospiraceae_UCG-010</td>\n",
       "      <td>s__uncultured_organism</td>\n",
       "    </tr>\n",
       "    <tr>\n",
       "      <th>7be16af1fd4a487fd9e6380727a69555</th>\n",
       "      <td>0.0</td>\n",
       "      <td>0.0</td>\n",
       "      <td>0.0</td>\n",
       "      <td>0.0</td>\n",
       "      <td>0.0</td>\n",
       "      <td>0.0</td>\n",
       "      <td>0.0</td>\n",
       "      <td>0.0</td>\n",
       "      <td>0.0</td>\n",
       "      <td>0.0</td>\n",
       "      <td>...</td>\n",
       "      <td>1.0</td>\n",
       "      <td>0.0</td>\n",
       "      <td>0.0</td>\n",
       "      <td>d__Bacteria</td>\n",
       "      <td>p__Firmicutes</td>\n",
       "      <td>c__Negativicutes</td>\n",
       "      <td>o__Veillonellales-Selenomonadales</td>\n",
       "      <td>f__Veillonellaceae</td>\n",
       "      <td>g__Allisonella</td>\n",
       "      <td>None</td>\n",
       "    </tr>\n",
       "  </tbody>\n",
       "</table>\n",
       "<p>2918 rows × 73 columns</p>\n",
       "</div>"
      ],
      "text/plain": [
       "                                  I1-M05  I10-M91  I11-M44  I12-M45  I13-M46  \\\n",
       "074b2d2eeb19288d75bf8e64784db602     0.0    786.0      0.0   1118.0      0.0   \n",
       "6c3b33991621b6c3e04992794a55a3d9     0.0   1634.0   1228.0   1436.0      0.0   \n",
       "8b7f2e8ca48676f3a47dfa784c8a9efe     0.0    540.0      0.0    872.0      0.0   \n",
       "7a1d4d3ec513655bbe964c4ab022e6fe     0.0      0.0    444.0      0.0     52.0   \n",
       "b53b25874d0529b37d36bfc78e32c894     0.0   1464.0   1300.0   1210.0      0.0   \n",
       "...                                  ...      ...      ...      ...      ...   \n",
       "ee5a1924a299e186d7f904e5aa898bd1     0.0      0.0      0.0      0.0      0.0   \n",
       "143582bcba9a90e4a585ed60042a6f0d     0.0      0.0      0.0      0.0      0.0   \n",
       "c713157aa6936b23861463951dfb6a3b     0.0      0.0      0.0      0.0      0.0   \n",
       "bd157fd42be3b6728d0080ee52836c14     0.0      0.0      0.0      0.0      0.0   \n",
       "7be16af1fd4a487fd9e6380727a69555     0.0      0.0      0.0      0.0      0.0   \n",
       "\n",
       "                                  I14-M47  I15-M49  I16-M52  I17-M55  I18-M07  \\\n",
       "074b2d2eeb19288d75bf8e64784db602      0.0      0.0      0.0    330.0      0.0   \n",
       "6c3b33991621b6c3e04992794a55a3d9      0.0      0.0      0.0      0.0      0.0   \n",
       "8b7f2e8ca48676f3a47dfa784c8a9efe      0.0      0.0      0.0      0.0      0.0   \n",
       "7a1d4d3ec513655bbe964c4ab022e6fe    574.0      0.0      0.0      0.0      0.0   \n",
       "b53b25874d0529b37d36bfc78e32c894      0.0      0.0      0.0      0.0      0.0   \n",
       "...                                   ...      ...      ...      ...      ...   \n",
       "ee5a1924a299e186d7f904e5aa898bd1      0.0      0.0      0.0      0.0      0.0   \n",
       "143582bcba9a90e4a585ed60042a6f0d      0.0      0.0      0.0      0.0      0.0   \n",
       "c713157aa6936b23861463951dfb6a3b      0.0      0.0      0.0      0.0      0.0   \n",
       "bd157fd42be3b6728d0080ee52836c14      0.0      0.0      0.0      0.0      0.0   \n",
       "7be16af1fd4a487fd9e6380727a69555      0.0      0.0      0.0      0.0      0.0   \n",
       "\n",
       "                                  ...  I75-M162  I76-M164  I8-M39  \\\n",
       "074b2d2eeb19288d75bf8e64784db602  ...       0.0       0.0  1263.0   \n",
       "6c3b33991621b6c3e04992794a55a3d9  ...       0.0       0.0   773.0   \n",
       "8b7f2e8ca48676f3a47dfa784c8a9efe  ...       0.0       0.0   652.0   \n",
       "7a1d4d3ec513655bbe964c4ab022e6fe  ...    1033.0     315.0     0.0   \n",
       "b53b25874d0529b37d36bfc78e32c894  ...       0.0    2022.0   621.0   \n",
       "...                               ...       ...       ...     ...   \n",
       "ee5a1924a299e186d7f904e5aa898bd1  ...       0.0       0.0     0.0   \n",
       "143582bcba9a90e4a585ed60042a6f0d  ...       0.0       0.0     0.0   \n",
       "c713157aa6936b23861463951dfb6a3b  ...       0.0       0.0     0.0   \n",
       "bd157fd42be3b6728d0080ee52836c14  ...       0.0       0.0     0.0   \n",
       "7be16af1fd4a487fd9e6380727a69555  ...       1.0       0.0     0.0   \n",
       "\n",
       "                                        Reino             Filo  \\\n",
       "074b2d2eeb19288d75bf8e64784db602  d__Bacteria    p__Firmicutes   \n",
       "6c3b33991621b6c3e04992794a55a3d9  d__Bacteria    p__Firmicutes   \n",
       "8b7f2e8ca48676f3a47dfa784c8a9efe  d__Bacteria    p__Firmicutes   \n",
       "7a1d4d3ec513655bbe964c4ab022e6fe  d__Bacteria  p__Bacteroidota   \n",
       "b53b25874d0529b37d36bfc78e32c894  d__Bacteria    p__Firmicutes   \n",
       "...                                       ...              ...   \n",
       "ee5a1924a299e186d7f904e5aa898bd1  d__Bacteria    p__Firmicutes   \n",
       "143582bcba9a90e4a585ed60042a6f0d  d__Bacteria    p__Firmicutes   \n",
       "c713157aa6936b23861463951dfb6a3b  d__Bacteria    p__Firmicutes   \n",
       "bd157fd42be3b6728d0080ee52836c14  d__Bacteria    p__Firmicutes   \n",
       "7be16af1fd4a487fd9e6380727a69555  d__Bacteria    p__Firmicutes   \n",
       "\n",
       "                                            Classe  \\\n",
       "074b2d2eeb19288d75bf8e64784db602     c__Clostridia   \n",
       "6c3b33991621b6c3e04992794a55a3d9     c__Clostridia   \n",
       "8b7f2e8ca48676f3a47dfa784c8a9efe     c__Clostridia   \n",
       "7a1d4d3ec513655bbe964c4ab022e6fe    c__Bacteroidia   \n",
       "b53b25874d0529b37d36bfc78e32c894     c__Clostridia   \n",
       "...                                            ...   \n",
       "ee5a1924a299e186d7f904e5aa898bd1  c__Negativicutes   \n",
       "143582bcba9a90e4a585ed60042a6f0d     c__Clostridia   \n",
       "c713157aa6936b23861463951dfb6a3b        c__Bacilli   \n",
       "bd157fd42be3b6728d0080ee52836c14     c__Clostridia   \n",
       "7be16af1fd4a487fd9e6380727a69555  c__Negativicutes   \n",
       "\n",
       "                                                              Ordem  \\\n",
       "074b2d2eeb19288d75bf8e64784db602                  o__Lachnospirales   \n",
       "6c3b33991621b6c3e04992794a55a3d9                  o__Lachnospirales   \n",
       "8b7f2e8ca48676f3a47dfa784c8a9efe                 o__Oscillospirales   \n",
       "7a1d4d3ec513655bbe964c4ab022e6fe                   o__Bacteroidales   \n",
       "b53b25874d0529b37d36bfc78e32c894                  o__Lachnospirales   \n",
       "...                                                             ...   \n",
       "ee5a1924a299e186d7f904e5aa898bd1  o__Veillonellales-Selenomonadales   \n",
       "143582bcba9a90e4a585ed60042a6f0d                 o__Oscillospirales   \n",
       "c713157aa6936b23861463951dfb6a3b              o__Erysipelotrichales   \n",
       "bd157fd42be3b6728d0080ee52836c14                  o__Lachnospirales   \n",
       "7be16af1fd4a487fd9e6380727a69555  o__Veillonellales-Selenomonadales   \n",
       "\n",
       "                                                 Família  \\\n",
       "074b2d2eeb19288d75bf8e64784db602      f__Lachnospiraceae   \n",
       "6c3b33991621b6c3e04992794a55a3d9      f__Lachnospiraceae   \n",
       "8b7f2e8ca48676f3a47dfa784c8a9efe      f__Ruminococcaceae   \n",
       "7a1d4d3ec513655bbe964c4ab022e6fe       f__Bacteroidaceae   \n",
       "b53b25874d0529b37d36bfc78e32c894      f__Lachnospiraceae   \n",
       "...                                                  ...   \n",
       "ee5a1924a299e186d7f904e5aa898bd1      f__Veillonellaceae   \n",
       "143582bcba9a90e4a585ed60042a6f0d      f__Ruminococcaceae   \n",
       "c713157aa6936b23861463951dfb6a3b  f__Erysipelotrichaceae   \n",
       "bd157fd42be3b6728d0080ee52836c14      f__Lachnospiraceae   \n",
       "7be16af1fd4a487fd9e6380727a69555      f__Veillonellaceae   \n",
       "\n",
       "                                                      Gênero  \\\n",
       "074b2d2eeb19288d75bf8e64784db602             g__Agathobacter   \n",
       "6c3b33991621b6c3e04992794a55a3d9             g__Agathobacter   \n",
       "8b7f2e8ca48676f3a47dfa784c8a9efe         g__Faecalibacterium   \n",
       "7a1d4d3ec513655bbe964c4ab022e6fe              g__Bacteroides   \n",
       "b53b25874d0529b37d36bfc78e32c894             g__Agathobacter   \n",
       "...                                                      ...   \n",
       "ee5a1924a299e186d7f904e5aa898bd1                g__Dialister   \n",
       "143582bcba9a90e4a585ed60042a6f0d             g__Ruminococcus   \n",
       "c713157aa6936b23861463951dfb6a3b             g__Holdemanella   \n",
       "bd157fd42be3b6728d0080ee52836c14  g__Lachnospiraceae_UCG-010   \n",
       "7be16af1fd4a487fd9e6380727a69555              g__Allisonella   \n",
       "\n",
       "                                                  Espécie  \n",
       "074b2d2eeb19288d75bf8e64784db602                     None  \n",
       "6c3b33991621b6c3e04992794a55a3d9                     None  \n",
       "8b7f2e8ca48676f3a47dfa784c8a9efe                     None  \n",
       "7a1d4d3ec513655bbe964c4ab022e6fe  s__Bacteroides_vulgatus  \n",
       "b53b25874d0529b37d36bfc78e32c894                     None  \n",
       "...                                                   ...  \n",
       "ee5a1924a299e186d7f904e5aa898bd1                     None  \n",
       "143582bcba9a90e4a585ed60042a6f0d                     None  \n",
       "c713157aa6936b23861463951dfb6a3b                     None  \n",
       "bd157fd42be3b6728d0080ee52836c14   s__uncultured_organism  \n",
       "7be16af1fd4a487fd9e6380727a69555                     None  \n",
       "\n",
       "[2918 rows x 73 columns]"
      ]
     },
     "execution_count": 45,
     "metadata": {},
     "output_type": "execute_result"
    }
   ],
   "source": [
    "freq_tax_df = pd.merge(tabs_df, metatax_split_df, left_index=True, right_index=True)\n",
    "freq_tax_df"
   ]
  },
  {
   "cell_type": "code",
   "execution_count": 46,
   "metadata": {
    "ExecuteTime": {
     "end_time": "2022-06-13T19:04:56.825457Z",
     "start_time": "2022-06-13T19:04:56.665396Z"
    },
    "pycharm": {
     "name": "#%%\n"
    }
   },
   "outputs": [
    {
     "name": "stdout",
     "output_type": "stream",
     "text": [
      "Shape: (2918, 2)\n",
      "\n",
      "count    2918.000000\n",
      "mean        0.942491\n",
      "std         0.083970\n",
      "min         0.413501\n",
      "25%         0.909087\n",
      "50%         0.989604\n",
      "75%         0.999950\n",
      "max         1.000000\n",
      "Name: Confidence, dtype: float64\n"
     ]
    },
    {
     "data": {
      "text/plain": [
       "<AxesSubplot:>"
      ]
     },
     "execution_count": 46,
     "metadata": {},
     "output_type": "execute_result"
    },
    {
     "data": {
      "image/png": "[encoded data removed]",
      "text/plain": [
       "<Figure size 432x288 with 1 Axes>"
      ]
     },
     "metadata": {
      "needs_background": "light"
     },
     "output_type": "display_data"
    }
   ],
   "source": [
    "print(f'Shape: {metatax_df.shape}\\n')\n",
    "print(metatax_df['Confidence'].describe())\n",
    "metatax_df['Confidence'].plot.box()"
   ]
  },
  {
   "cell_type": "code",
   "execution_count": 47,
   "metadata": {
    "ExecuteTime": {
     "end_time": "2022-06-13T19:04:56.942867Z",
     "start_time": "2022-06-13T19:04:56.827854Z"
    },
    "pycharm": {
     "name": "#%%\n"
    }
   },
   "outputs": [
    {
     "name": "stdout",
     "output_type": "stream",
     "text": [
      "                                       Taxon  Confidence\n",
      "Feature ID                                              \n",
      "97e89410e3c9d0a13c2fd7730d990227  Unassigned    0.593227\n",
      "02ba22e521f905c237c6e89687d1739e  Unassigned    0.421703\n",
      "347968eee0c29b8736adad7fb27be514  Unassigned    0.413501\n",
      "\n",
      "Shape: (3, 2)\n",
      "\n",
      "count    3.000000\n",
      "mean     0.476144\n",
      "std      0.101480\n",
      "min      0.413501\n",
      "25%      0.417602\n",
      "50%      0.421703\n",
      "75%      0.507465\n",
      "max      0.593227\n",
      "Name: Confidence, dtype: float64\n"
     ]
    },
    {
     "data": {
      "text/plain": [
       "<AxesSubplot:>"
      ]
     },
     "execution_count": 47,
     "metadata": {},
     "output_type": "execute_result"
    },
    {
     "data": {
      "image/png": "[encoded data removed]",
      "text/plain": [
       "<Figure size 432x288 with 1 Axes>"
      ]
     },
     "metadata": {
      "needs_background": "light"
     },
     "output_type": "display_data"
    }
   ],
   "source": [
    "conf = metatax_df['Confidence']\n",
    "tmp_df = metatax_df[(conf < .7)]\n",
    "print(f'{tmp_df}\\n')\n",
    "print(f'Shape: {tmp_df.shape}\\n')\n",
    "print(tmp_df['Confidence'].describe())\n",
    "tmp_df['Confidence'].plot.box()"
   ]
  },
  {
   "cell_type": "code",
   "execution_count": 48,
   "metadata": {
    "ExecuteTime": {
     "end_time": "2022-06-13T19:04:56.957625Z",
     "start_time": "2022-06-13T19:04:56.946539Z"
    },
    "pycharm": {
     "name": "#%%\n"
    },
    "scrolled": true
   },
   "outputs": [
    {
     "data": {
      "text/html": [
       "<div>\n",
       "<style scoped>\n",
       "    .dataframe tbody tr th:only-of-type {\n",
       "        vertical-align: middle;\n",
       "    }\n",
       "\n",
       "    .dataframe tbody tr th {\n",
       "        vertical-align: top;\n",
       "    }\n",
       "\n",
       "    .dataframe thead th {\n",
       "        text-align: right;\n",
       "    }\n",
       "</style>\n",
       "<table border=\"1\" class=\"dataframe\">\n",
       "  <thead>\n",
       "    <tr style=\"text-align: right;\">\n",
       "      <th></th>\n",
       "      <th>Taxon</th>\n",
       "      <th>Confidence</th>\n",
       "    </tr>\n",
       "    <tr>\n",
       "      <th>Feature ID</th>\n",
       "      <th></th>\n",
       "      <th></th>\n",
       "    </tr>\n",
       "  </thead>\n",
       "  <tbody>\n",
       "    <tr>\n",
       "      <th>97e89410e3c9d0a13c2fd7730d990227</th>\n",
       "      <td>Unassigned</td>\n",
       "      <td>0.593227</td>\n",
       "    </tr>\n",
       "    <tr>\n",
       "      <th>02ba22e521f905c237c6e89687d1739e</th>\n",
       "      <td>Unassigned</td>\n",
       "      <td>0.421703</td>\n",
       "    </tr>\n",
       "    <tr>\n",
       "      <th>347968eee0c29b8736adad7fb27be514</th>\n",
       "      <td>Unassigned</td>\n",
       "      <td>0.413501</td>\n",
       "    </tr>\n",
       "  </tbody>\n",
       "</table>\n",
       "</div>"
      ],
      "text/plain": [
       "                                       Taxon  Confidence\n",
       "Feature ID                                              \n",
       "97e89410e3c9d0a13c2fd7730d990227  Unassigned    0.593227\n",
       "02ba22e521f905c237c6e89687d1739e  Unassigned    0.421703\n",
       "347968eee0c29b8736adad7fb27be514  Unassigned    0.413501"
      ]
     },
     "execution_count": 48,
     "metadata": {},
     "output_type": "execute_result"
    }
   ],
   "source": [
    "metatax_df[metatax_df['Taxon']=='Unassigned']"
   ]
  },
  {
   "cell_type": "code",
   "execution_count": 49,
   "metadata": {
    "ExecuteTime": {
     "end_time": "2022-06-13T19:04:57.086453Z",
     "start_time": "2022-06-13T19:04:56.959444Z"
    },
    "pycharm": {
     "name": "#%%\n"
    }
   },
   "outputs": [
    {
     "name": "stdout",
     "output_type": "stream",
     "text": [
      "count    2915.000000\n",
      "mean        0.942971\n",
      "std         0.082626\n",
      "min         0.700245\n",
      "25%         0.910005\n",
      "50%         0.989638\n",
      "75%         0.999950\n",
      "max         1.000000\n",
      "Name: Confidence, dtype: float64\n"
     ]
    },
    {
     "data": {
      "text/plain": [
       "<AxesSubplot:>"
      ]
     },
     "execution_count": 49,
     "metadata": {},
     "output_type": "execute_result"
    },
    {
     "data": {
      "image/png": "[encoded data removed]",
      "text/plain": [
       "<Figure size 432x288 with 1 Axes>"
      ]
     },
     "metadata": {
      "needs_background": "light"
     },
     "output_type": "display_data"
    }
   ],
   "source": [
    "print(metatax_df[metatax_df['Taxon']!='Unassigned']['Confidence'].describe())\n",
    "metatax_df[metatax_df['Taxon']!='Unassigned']['Confidence'].plot.box()"
   ]
  },
  {
   "cell_type": "code",
   "execution_count": 50,
   "metadata": {
    "ExecuteTime": {
     "end_time": "2022-06-13T19:04:57.093752Z",
     "start_time": "2022-06-13T19:04:57.088067Z"
    },
    "pycharm": {
     "name": "#%%\n"
    }
   },
   "outputs": [
    {
     "name": "stdout",
     "output_type": "stream",
     "text": [
      "(2915, 73)\n"
     ]
    }
   ],
   "source": [
    "filtered_metatax_df = freq_tax_df[metatax_df['Taxon']!='Unassigned']\n",
    "print(filtered_metatax_df.shape)"
   ]
  },
  {
   "cell_type": "code",
   "execution_count": 51,
   "metadata": {
    "ExecuteTime": {
     "end_time": "2022-06-13T19:04:57.105723Z",
     "start_time": "2022-06-13T19:04:57.095632Z"
    },
    "pycharm": {
     "name": "#%%\n"
    }
   },
   "outputs": [],
   "source": [
    "def get_samples_ids_by_group(m):    \n",
    "    df = m.to_dataframe()\n",
    "    return {i: df[df['class_meno']==str(i)].index for i in [0,1,2]}\n",
    "\n",
    "def get_grouped_freq_tax(df, groups_ids, group):\n",
    "    ndf = df[groups_ids[group]]\n",
    "    return ndf\n",
    "\n",
    "def get_features(df, features):\n",
    "    return df[df.index.isin(features)]"
   ]
  },
  {
   "cell_type": "code",
   "execution_count": 52,
   "metadata": {
    "ExecuteTime": {
     "end_time": "2022-06-13T19:04:57.150917Z",
     "start_time": "2022-06-13T19:04:57.107808Z"
    },
    "pycharm": {
     "name": "#%%\n"
    }
   },
   "outputs": [],
   "source": [
    "# Separate by samples groups\n",
    "groups = get_samples_ids_by_group(metadata_qa)\n",
    "g0df = get_grouped_freq_tax(filtered_metatax_df, groups, group=0)\n",
    "g1df = get_grouped_freq_tax(filtered_metatax_df, groups, group=1)\n",
    "g2df = get_grouped_freq_tax(filtered_metatax_df, groups, group=2)\n",
    "\n",
    "# Remove features with sum zero\n",
    "g0df = g0df[g0df.sum(axis = 1) > 0]\n",
    "g1df = g1df[g1df.sum(axis = 1) > 0]\n",
    "g2df = g2df[g2df.sum(axis = 1) > 0]"
   ]
  },
  {
   "cell_type": "code",
   "execution_count": 53,
   "metadata": {
    "ExecuteTime": {
     "end_time": "2022-06-13T19:04:57.161628Z",
     "start_time": "2022-06-13T19:04:57.153238Z"
    },
    "pycharm": {
     "name": "#%%\n"
    }
   },
   "outputs": [],
   "source": [
    "tax_g0_df = get_features(filtered_metatax_df, g0df.index)\n",
    "tax_g1_df = get_features(filtered_metatax_df, g1df.index)\n",
    "tax_g2_df = get_features(filtered_metatax_df, g2df.index)"
   ]
  },
  {
   "cell_type": "code",
   "execution_count": 54,
   "metadata": {
    "ExecuteTime": {
     "end_time": "2022-06-13T19:04:57.196426Z",
     "start_time": "2022-06-13T19:04:57.163520Z"
    },
    "pycharm": {
     "name": "#%%\n"
    }
   },
   "outputs": [
    {
     "name": "stdout",
     "output_type": "stream",
     "text": [
      "\\begin{tabular}{lllll}\n",
      "\\toprule\n",
      "{} & Reprodutivo & Transição & Pós-menopausa & Interseção \\\\\n",
      "\\midrule\n",
      "Reino   &           2 &         2 &             2 &          2 \\\\\n",
      "Filo    &           9 &         8 &             9 &         10 \\\\\n",
      "Classe  &          12 &        12 &            13 &         14 \\\\\n",
      "Ordem   &          26 &        26 &            28 &         30 \\\\\n",
      "Família &          46 &        44 &            49 &         53 \\\\\n",
      "Gênero  &          98 &       104 &           112 &        137 \\\\\n",
      "Espécie &          51 &        53 &            79 &         96 \\\\\n",
      "\\bottomrule\n",
      "\\end{tabular}\n",
      "\n"
     ]
    }
   ],
   "source": [
    "def unique_names(df, levels):\n",
    "    import pandas as pd\n",
    "    \n",
    "    unique_names = {l: list(filter(None, df[l].unique())) for l in levels}\n",
    "    return unique_names\n",
    "\n",
    "ids = ['Reino', 'Filo', 'Classe', 'Ordem', 'Família', 'Gênero', 'Espécie']\n",
    "cols = ['Reprodutivo', 'Transição', 'Pós-menopausa', 'Interseção']\n",
    "groups = (tax_g0_df, tax_g1_df, tax_g2_df, filtered_metatax_df)\n",
    "df = pd.DataFrame(index=ids, columns=cols)\n",
    "\n",
    "for i in range(4):\n",
    "    g = groups[i]\n",
    "    for k, v in unique_names(g, tax_levels).items():\n",
    "            df[cols[i]][k] = len(v)\n",
    "\n",
    "print(df.to_latex())"
   ]
  },
  {
   "cell_type": "code",
   "execution_count": 55,
   "metadata": {
    "ExecuteTime": {
     "end_time": "2022-06-13T19:04:57.209666Z",
     "start_time": "2022-06-13T19:04:57.198317Z"
    },
    "pycharm": {
     "name": "#%%\n"
    }
   },
   "outputs": [
    {
     "name": "stdout",
     "output_type": "stream",
     "text": [
      "\n",
      "\\begin{table}[H] \\centering\n",
      "\n",
      "\\begin{tabular}{lllll}\n",
      "\\toprule\n",
      "{} & Reprodutivo & Transição & Pós-menopausa & Interseção \\\\\n",
      "\\midrule\n",
      "Reino   &           2 &         2 &             2 &          2 \\\\\n",
      "Filo    &           9 &         8 &             9 &         10 \\\\\n",
      "Classe  &          12 &        12 &            13 &         14 \\\\\n",
      "Ordem   &          26 &        26 &            28 &         30 \\\\\n",
      "Família &          46 &        44 &            49 &         53 \\\\\n",
      "Gênero  &          98 &       104 &           112 &        137 \\\\\n",
      "Espécie &          51 &        53 &            79 &         96 \\\\\n",
      "\\bottomrule\n",
      "\\end{tabular}\n",
      "\n",
      "\\caption{A tabela apresenta as quantas taxonomias distintas foram encontradas de cada uma das fases do ciclo reprodutivo e o total, considerando a interseção das fases. Os valores em cada linha são de um dos diferentes níveis taxonômicos.}\n",
      "    \\label{tab:tax-count}\n",
      "\\end{table}\n",
      "\n"
     ]
    }
   ],
   "source": [
    "latex = f'''\n",
    "\\\\begin{{table}}[H] \\centering\n",
    "\n",
    "{df.to_latex()}\n",
    "\\caption{{A tabela apresenta as quantas taxonomias distintas foram encontradas de cada uma das fases do ciclo reprodutivo e o total, considerando a interseção das fases. Os valores em cada linha são de um dos diferentes níveis taxonômicos.}}\n",
    "    \\label{{tab:tax-count}}\n",
    "\\end{{table}}\n",
    "'''\n",
    "print(latex)"
   ]
  },
  {
   "cell_type": "code",
   "execution_count": 56,
   "metadata": {
    "ExecuteTime": {
     "end_time": "2022-06-13T19:04:57.245669Z",
     "start_time": "2022-06-13T19:04:57.211134Z"
    },
    "pycharm": {
     "name": "#%%\n"
    }
   },
   "outputs": [
    {
     "data": {
      "text/html": [
       "<div>\n",
       "<style scoped>\n",
       "    .dataframe tbody tr th:only-of-type {\n",
       "        vertical-align: middle;\n",
       "    }\n",
       "\n",
       "    .dataframe tbody tr th {\n",
       "        vertical-align: top;\n",
       "    }\n",
       "\n",
       "    .dataframe thead th {\n",
       "        text-align: right;\n",
       "    }\n",
       "</style>\n",
       "<table border=\"1\" class=\"dataframe\">\n",
       "  <thead>\n",
       "    <tr style=\"text-align: right;\">\n",
       "      <th></th>\n",
       "      <th>I7-M36</th>\n",
       "      <th>I5-M37</th>\n",
       "      <th>I10-M91</th>\n",
       "      <th>I22-M60</th>\n",
       "      <th>I24-M67</th>\n",
       "      <th>I25-M69</th>\n",
       "      <th>I39-M98</th>\n",
       "      <th>I43-M103</th>\n",
       "      <th>I44-M105</th>\n",
       "      <th>I51-M116</th>\n",
       "      <th>I52-M117</th>\n",
       "      <th>I59-M129</th>\n",
       "      <th>I67-M143</th>\n",
       "    </tr>\n",
       "  </thead>\n",
       "  <tbody>\n",
       "    <tr>\n",
       "      <th>074b2d2eeb19288d75bf8e64784db602</th>\n",
       "      <td>0.0</td>\n",
       "      <td>0.0</td>\n",
       "      <td>786.0</td>\n",
       "      <td>2515.0</td>\n",
       "      <td>0.0</td>\n",
       "      <td>0.0</td>\n",
       "      <td>0.0</td>\n",
       "      <td>0.0</td>\n",
       "      <td>0.0</td>\n",
       "      <td>0.0</td>\n",
       "      <td>0.0</td>\n",
       "      <td>5232.0</td>\n",
       "      <td>0.0</td>\n",
       "    </tr>\n",
       "    <tr>\n",
       "      <th>6c3b33991621b6c3e04992794a55a3d9</th>\n",
       "      <td>0.0</td>\n",
       "      <td>0.0</td>\n",
       "      <td>1634.0</td>\n",
       "      <td>1384.0</td>\n",
       "      <td>0.0</td>\n",
       "      <td>0.0</td>\n",
       "      <td>0.0</td>\n",
       "      <td>0.0</td>\n",
       "      <td>0.0</td>\n",
       "      <td>0.0</td>\n",
       "      <td>0.0</td>\n",
       "      <td>0.0</td>\n",
       "      <td>0.0</td>\n",
       "    </tr>\n",
       "    <tr>\n",
       "      <th>8b7f2e8ca48676f3a47dfa784c8a9efe</th>\n",
       "      <td>3095.0</td>\n",
       "      <td>0.0</td>\n",
       "      <td>540.0</td>\n",
       "      <td>0.0</td>\n",
       "      <td>0.0</td>\n",
       "      <td>0.0</td>\n",
       "      <td>0.0</td>\n",
       "      <td>0.0</td>\n",
       "      <td>0.0</td>\n",
       "      <td>148.0</td>\n",
       "      <td>0.0</td>\n",
       "      <td>0.0</td>\n",
       "      <td>0.0</td>\n",
       "    </tr>\n",
       "    <tr>\n",
       "      <th>7a1d4d3ec513655bbe964c4ab022e6fe</th>\n",
       "      <td>0.0</td>\n",
       "      <td>0.0</td>\n",
       "      <td>0.0</td>\n",
       "      <td>0.0</td>\n",
       "      <td>0.0</td>\n",
       "      <td>0.0</td>\n",
       "      <td>0.0</td>\n",
       "      <td>0.0</td>\n",
       "      <td>0.0</td>\n",
       "      <td>558.0</td>\n",
       "      <td>2642.0</td>\n",
       "      <td>0.0</td>\n",
       "      <td>0.0</td>\n",
       "    </tr>\n",
       "    <tr>\n",
       "      <th>b53b25874d0529b37d36bfc78e32c894</th>\n",
       "      <td>0.0</td>\n",
       "      <td>0.0</td>\n",
       "      <td>1464.0</td>\n",
       "      <td>0.0</td>\n",
       "      <td>0.0</td>\n",
       "      <td>0.0</td>\n",
       "      <td>0.0</td>\n",
       "      <td>0.0</td>\n",
       "      <td>0.0</td>\n",
       "      <td>0.0</td>\n",
       "      <td>0.0</td>\n",
       "      <td>0.0</td>\n",
       "      <td>0.0</td>\n",
       "    </tr>\n",
       "    <tr>\n",
       "      <th>...</th>\n",
       "      <td>...</td>\n",
       "      <td>...</td>\n",
       "      <td>...</td>\n",
       "      <td>...</td>\n",
       "      <td>...</td>\n",
       "      <td>...</td>\n",
       "      <td>...</td>\n",
       "      <td>...</td>\n",
       "      <td>...</td>\n",
       "      <td>...</td>\n",
       "      <td>...</td>\n",
       "      <td>...</td>\n",
       "      <td>...</td>\n",
       "    </tr>\n",
       "    <tr>\n",
       "      <th>2768bae087d0fb10cbf8a486a444b931</th>\n",
       "      <td>0.0</td>\n",
       "      <td>0.0</td>\n",
       "      <td>0.0</td>\n",
       "      <td>3.0</td>\n",
       "      <td>0.0</td>\n",
       "      <td>0.0</td>\n",
       "      <td>0.0</td>\n",
       "      <td>0.0</td>\n",
       "      <td>0.0</td>\n",
       "      <td>0.0</td>\n",
       "      <td>0.0</td>\n",
       "      <td>0.0</td>\n",
       "      <td>0.0</td>\n",
       "    </tr>\n",
       "    <tr>\n",
       "      <th>f2ee0f6b708acf2284739b07bfb8a910</th>\n",
       "      <td>0.0</td>\n",
       "      <td>0.0</td>\n",
       "      <td>1.0</td>\n",
       "      <td>0.0</td>\n",
       "      <td>0.0</td>\n",
       "      <td>0.0</td>\n",
       "      <td>0.0</td>\n",
       "      <td>0.0</td>\n",
       "      <td>0.0</td>\n",
       "      <td>0.0</td>\n",
       "      <td>0.0</td>\n",
       "      <td>0.0</td>\n",
       "      <td>0.0</td>\n",
       "    </tr>\n",
       "    <tr>\n",
       "      <th>440b18f112d726951157996929988d38</th>\n",
       "      <td>0.0</td>\n",
       "      <td>0.0</td>\n",
       "      <td>1.0</td>\n",
       "      <td>0.0</td>\n",
       "      <td>0.0</td>\n",
       "      <td>0.0</td>\n",
       "      <td>0.0</td>\n",
       "      <td>0.0</td>\n",
       "      <td>0.0</td>\n",
       "      <td>0.0</td>\n",
       "      <td>0.0</td>\n",
       "      <td>0.0</td>\n",
       "      <td>0.0</td>\n",
       "    </tr>\n",
       "    <tr>\n",
       "      <th>fa52840a8948f2b92eb37f273c919b00</th>\n",
       "      <td>0.0</td>\n",
       "      <td>0.0</td>\n",
       "      <td>1.0</td>\n",
       "      <td>0.0</td>\n",
       "      <td>0.0</td>\n",
       "      <td>0.0</td>\n",
       "      <td>0.0</td>\n",
       "      <td>0.0</td>\n",
       "      <td>0.0</td>\n",
       "      <td>0.0</td>\n",
       "      <td>0.0</td>\n",
       "      <td>0.0</td>\n",
       "      <td>0.0</td>\n",
       "    </tr>\n",
       "    <tr>\n",
       "      <th>890138d5a18e44b8337f1c60308d82a8</th>\n",
       "      <td>0.0</td>\n",
       "      <td>0.0</td>\n",
       "      <td>1.0</td>\n",
       "      <td>0.0</td>\n",
       "      <td>0.0</td>\n",
       "      <td>0.0</td>\n",
       "      <td>0.0</td>\n",
       "      <td>0.0</td>\n",
       "      <td>0.0</td>\n",
       "      <td>0.0</td>\n",
       "      <td>0.0</td>\n",
       "      <td>0.0</td>\n",
       "      <td>0.0</td>\n",
       "    </tr>\n",
       "  </tbody>\n",
       "</table>\n",
       "<p>724 rows × 13 columns</p>\n",
       "</div>"
      ],
      "text/plain": [
       "                                  I7-M36  I5-M37  I10-M91  I22-M60  I24-M67  \\\n",
       "074b2d2eeb19288d75bf8e64784db602     0.0     0.0    786.0   2515.0      0.0   \n",
       "6c3b33991621b6c3e04992794a55a3d9     0.0     0.0   1634.0   1384.0      0.0   \n",
       "8b7f2e8ca48676f3a47dfa784c8a9efe  3095.0     0.0    540.0      0.0      0.0   \n",
       "7a1d4d3ec513655bbe964c4ab022e6fe     0.0     0.0      0.0      0.0      0.0   \n",
       "b53b25874d0529b37d36bfc78e32c894     0.0     0.0   1464.0      0.0      0.0   \n",
       "...                                  ...     ...      ...      ...      ...   \n",
       "2768bae087d0fb10cbf8a486a444b931     0.0     0.0      0.0      3.0      0.0   \n",
       "f2ee0f6b708acf2284739b07bfb8a910     0.0     0.0      1.0      0.0      0.0   \n",
       "440b18f112d726951157996929988d38     0.0     0.0      1.0      0.0      0.0   \n",
       "fa52840a8948f2b92eb37f273c919b00     0.0     0.0      1.0      0.0      0.0   \n",
       "890138d5a18e44b8337f1c60308d82a8     0.0     0.0      1.0      0.0      0.0   \n",
       "\n",
       "                                  I25-M69  I39-M98  I43-M103  I44-M105  \\\n",
       "074b2d2eeb19288d75bf8e64784db602      0.0      0.0       0.0       0.0   \n",
       "6c3b33991621b6c3e04992794a55a3d9      0.0      0.0       0.0       0.0   \n",
       "8b7f2e8ca48676f3a47dfa784c8a9efe      0.0      0.0       0.0       0.0   \n",
       "7a1d4d3ec513655bbe964c4ab022e6fe      0.0      0.0       0.0       0.0   \n",
       "b53b25874d0529b37d36bfc78e32c894      0.0      0.0       0.0       0.0   \n",
       "...                                   ...      ...       ...       ...   \n",
       "2768bae087d0fb10cbf8a486a444b931      0.0      0.0       0.0       0.0   \n",
       "f2ee0f6b708acf2284739b07bfb8a910      0.0      0.0       0.0       0.0   \n",
       "440b18f112d726951157996929988d38      0.0      0.0       0.0       0.0   \n",
       "fa52840a8948f2b92eb37f273c919b00      0.0      0.0       0.0       0.0   \n",
       "890138d5a18e44b8337f1c60308d82a8      0.0      0.0       0.0       0.0   \n",
       "\n",
       "                                  I51-M116  I52-M117  I59-M129  I67-M143  \n",
       "074b2d2eeb19288d75bf8e64784db602       0.0       0.0    5232.0       0.0  \n",
       "6c3b33991621b6c3e04992794a55a3d9       0.0       0.0       0.0       0.0  \n",
       "8b7f2e8ca48676f3a47dfa784c8a9efe     148.0       0.0       0.0       0.0  \n",
       "7a1d4d3ec513655bbe964c4ab022e6fe     558.0    2642.0       0.0       0.0  \n",
       "b53b25874d0529b37d36bfc78e32c894       0.0       0.0       0.0       0.0  \n",
       "...                                    ...       ...       ...       ...  \n",
       "2768bae087d0fb10cbf8a486a444b931       0.0       0.0       0.0       0.0  \n",
       "f2ee0f6b708acf2284739b07bfb8a910       0.0       0.0       0.0       0.0  \n",
       "440b18f112d726951157996929988d38       0.0       0.0       0.0       0.0  \n",
       "fa52840a8948f2b92eb37f273c919b00       0.0       0.0       0.0       0.0  \n",
       "890138d5a18e44b8337f1c60308d82a8       0.0       0.0       0.0       0.0  \n",
       "\n",
       "[724 rows x 13 columns]"
      ]
     },
     "execution_count": 56,
     "metadata": {},
     "output_type": "execute_result"
    }
   ],
   "source": [
    "g0df"
   ]
  },
  {
   "cell_type": "code",
   "execution_count": 57,
   "metadata": {
    "ExecuteTime": {
     "end_time": "2022-06-13T19:04:59.010339Z",
     "start_time": "2022-06-13T19:04:57.247122Z"
    },
    "pycharm": {
     "name": "#%%\n"
    }
   },
   "outputs": [
    {
     "data": {
      "text/html": [
       "<div>\n",
       "<style scoped>\n",
       "    .dataframe tbody tr th:only-of-type {\n",
       "        vertical-align: middle;\n",
       "    }\n",
       "\n",
       "    .dataframe tbody tr th {\n",
       "        vertical-align: top;\n",
       "    }\n",
       "\n",
       "    .dataframe thead th {\n",
       "        text-align: right;\n",
       "    }\n",
       "</style>\n",
       "<table border=\"1\" class=\"dataframe\">\n",
       "  <thead>\n",
       "    <tr style=\"text-align: right;\">\n",
       "      <th></th>\n",
       "      <th>074b2d2eeb19288d75bf8e64784db602</th>\n",
       "      <th>6c3b33991621b6c3e04992794a55a3d9</th>\n",
       "      <th>8b7f2e8ca48676f3a47dfa784c8a9efe</th>\n",
       "      <th>7a1d4d3ec513655bbe964c4ab022e6fe</th>\n",
       "      <th>b53b25874d0529b37d36bfc78e32c894</th>\n",
       "      <th>de1dfedd96859b1568df4edfc30dff9b</th>\n",
       "      <th>9182301e1a42f09bd5016aad44496c4a</th>\n",
       "      <th>3689595a73bd93c0301ac8956a15279e</th>\n",
       "      <th>53df627adf8340f26a37202ed7374f2e</th>\n",
       "      <th>a835129fb0fba121225f939f51049a86</th>\n",
       "      <th>...</th>\n",
       "      <th>440b18f112d726951157996929988d38</th>\n",
       "      <th>fa52840a8948f2b92eb37f273c919b00</th>\n",
       "      <th>890138d5a18e44b8337f1c60308d82a8</th>\n",
       "      <th>08c2a6ae87899aa52af5b1e4e706bca7</th>\n",
       "      <th>0c2c4652d0d65b835d97dddca0b3a102</th>\n",
       "      <th>ee5a1924a299e186d7f904e5aa898bd1</th>\n",
       "      <th>143582bcba9a90e4a585ed60042a6f0d</th>\n",
       "      <th>c713157aa6936b23861463951dfb6a3b</th>\n",
       "      <th>bd157fd42be3b6728d0080ee52836c14</th>\n",
       "      <th>7be16af1fd4a487fd9e6380727a69555</th>\n",
       "    </tr>\n",
       "    <tr>\n",
       "      <th>id</th>\n",
       "      <th></th>\n",
       "      <th></th>\n",
       "      <th></th>\n",
       "      <th></th>\n",
       "      <th></th>\n",
       "      <th></th>\n",
       "      <th></th>\n",
       "      <th></th>\n",
       "      <th></th>\n",
       "      <th></th>\n",
       "      <th></th>\n",
       "      <th></th>\n",
       "      <th></th>\n",
       "      <th></th>\n",
       "      <th></th>\n",
       "      <th></th>\n",
       "      <th></th>\n",
       "      <th></th>\n",
       "      <th></th>\n",
       "      <th></th>\n",
       "      <th></th>\n",
       "    </tr>\n",
       "  </thead>\n",
       "  <tbody>\n",
       "    <tr>\n",
       "      <th>2</th>\n",
       "      <td>8283.0</td>\n",
       "      <td>12499.0</td>\n",
       "      <td>8729.0</td>\n",
       "      <td>7407.0</td>\n",
       "      <td>8095.0</td>\n",
       "      <td>7234.0</td>\n",
       "      <td>6564.0</td>\n",
       "      <td>3589.0</td>\n",
       "      <td>4740.0</td>\n",
       "      <td>5207.0</td>\n",
       "      <td>...</td>\n",
       "      <td>0.0</td>\n",
       "      <td>0.0</td>\n",
       "      <td>0.0</td>\n",
       "      <td>1.0</td>\n",
       "      <td>0.0</td>\n",
       "      <td>1.0</td>\n",
       "      <td>0.0</td>\n",
       "      <td>1.0</td>\n",
       "      <td>1.0</td>\n",
       "      <td>0.0</td>\n",
       "    </tr>\n",
       "    <tr>\n",
       "      <th>0</th>\n",
       "      <td>8533.0</td>\n",
       "      <td>3018.0</td>\n",
       "      <td>3783.0</td>\n",
       "      <td>3200.0</td>\n",
       "      <td>1464.0</td>\n",
       "      <td>0.0</td>\n",
       "      <td>1958.0</td>\n",
       "      <td>1548.0</td>\n",
       "      <td>3901.0</td>\n",
       "      <td>954.0</td>\n",
       "      <td>...</td>\n",
       "      <td>1.0</td>\n",
       "      <td>1.0</td>\n",
       "      <td>1.0</td>\n",
       "      <td>0.0</td>\n",
       "      <td>0.0</td>\n",
       "      <td>0.0</td>\n",
       "      <td>0.0</td>\n",
       "      <td>0.0</td>\n",
       "      <td>0.0</td>\n",
       "      <td>0.0</td>\n",
       "    </tr>\n",
       "    <tr>\n",
       "      <th>1</th>\n",
       "      <td>7042.0</td>\n",
       "      <td>3794.0</td>\n",
       "      <td>2615.0</td>\n",
       "      <td>3616.0</td>\n",
       "      <td>3232.0</td>\n",
       "      <td>5126.0</td>\n",
       "      <td>2612.0</td>\n",
       "      <td>4866.0</td>\n",
       "      <td>1310.0</td>\n",
       "      <td>3658.0</td>\n",
       "      <td>...</td>\n",
       "      <td>0.0</td>\n",
       "      <td>0.0</td>\n",
       "      <td>0.0</td>\n",
       "      <td>0.0</td>\n",
       "      <td>1.0</td>\n",
       "      <td>0.0</td>\n",
       "      <td>1.0</td>\n",
       "      <td>0.0</td>\n",
       "      <td>0.0</td>\n",
       "      <td>1.0</td>\n",
       "    </tr>\n",
       "  </tbody>\n",
       "</table>\n",
       "<p>3 rows × 2918 columns</p>\n",
       "</div>"
      ],
      "text/plain": [
       "    074b2d2eeb19288d75bf8e64784db602  6c3b33991621b6c3e04992794a55a3d9  \\\n",
       "id                                                                       \n",
       "2                             8283.0                           12499.0   \n",
       "0                             8533.0                            3018.0   \n",
       "1                             7042.0                            3794.0   \n",
       "\n",
       "    8b7f2e8ca48676f3a47dfa784c8a9efe  7a1d4d3ec513655bbe964c4ab022e6fe  \\\n",
       "id                                                                       \n",
       "2                             8729.0                            7407.0   \n",
       "0                             3783.0                            3200.0   \n",
       "1                             2615.0                            3616.0   \n",
       "\n",
       "    b53b25874d0529b37d36bfc78e32c894  de1dfedd96859b1568df4edfc30dff9b  \\\n",
       "id                                                                       \n",
       "2                             8095.0                            7234.0   \n",
       "0                             1464.0                               0.0   \n",
       "1                             3232.0                            5126.0   \n",
       "\n",
       "    9182301e1a42f09bd5016aad44496c4a  3689595a73bd93c0301ac8956a15279e  \\\n",
       "id                                                                       \n",
       "2                             6564.0                            3589.0   \n",
       "0                             1958.0                            1548.0   \n",
       "1                             2612.0                            4866.0   \n",
       "\n",
       "    53df627adf8340f26a37202ed7374f2e  a835129fb0fba121225f939f51049a86  ...  \\\n",
       "id                                                                      ...   \n",
       "2                             4740.0                            5207.0  ...   \n",
       "0                             3901.0                             954.0  ...   \n",
       "1                             1310.0                            3658.0  ...   \n",
       "\n",
       "    440b18f112d726951157996929988d38  fa52840a8948f2b92eb37f273c919b00  \\\n",
       "id                                                                       \n",
       "2                                0.0                               0.0   \n",
       "0                                1.0                               1.0   \n",
       "1                                0.0                               0.0   \n",
       "\n",
       "    890138d5a18e44b8337f1c60308d82a8  08c2a6ae87899aa52af5b1e4e706bca7  \\\n",
       "id                                                                       \n",
       "2                                0.0                               1.0   \n",
       "0                                1.0                               0.0   \n",
       "1                                0.0                               0.0   \n",
       "\n",
       "    0c2c4652d0d65b835d97dddca0b3a102  ee5a1924a299e186d7f904e5aa898bd1  \\\n",
       "id                                                                       \n",
       "2                                0.0                               1.0   \n",
       "0                                0.0                               0.0   \n",
       "1                                1.0                               0.0   \n",
       "\n",
       "    143582bcba9a90e4a585ed60042a6f0d  c713157aa6936b23861463951dfb6a3b  \\\n",
       "id                                                                       \n",
       "2                                0.0                               1.0   \n",
       "0                                0.0                               0.0   \n",
       "1                                1.0                               0.0   \n",
       "\n",
       "    bd157fd42be3b6728d0080ee52836c14  7be16af1fd4a487fd9e6380727a69555  \n",
       "id                                                                      \n",
       "2                                1.0                               0.0  \n",
       "0                                0.0                               0.0  \n",
       "1                                0.0                               1.0  \n",
       "\n",
       "[3 rows x 2918 columns]"
      ]
     },
     "execution_count": 57,
     "metadata": {},
     "output_type": "execute_result"
    }
   ],
   "source": [
    "# Perform group by applying sum function\n",
    "group_tab = group(tabs, metadata=metadata_qa.get_column('class_meno'), axis='sample', mode='sum').grouped_table\n",
    "\n",
    "group_tab_df = group_tab.view(Metadata).to_dataframe()\n",
    "group_tab_df"
   ]
  },
  {
   "cell_type": "code",
   "execution_count": 127,
   "metadata": {
    "ExecuteTime": {
     "end_time": "2022-06-13T19:04:59.706312Z",
     "start_time": "2022-06-13T19:04:59.012132Z"
    },
    "pycharm": {
     "name": "#%%\n"
    }
   },
   "outputs": [
    {
     "data": {
      "text/html": [
       "<div>\n",
       "<style scoped>\n",
       "    .dataframe tbody tr th:only-of-type {\n",
       "        vertical-align: middle;\n",
       "    }\n",
       "\n",
       "    .dataframe tbody tr th {\n",
       "        vertical-align: top;\n",
       "    }\n",
       "\n",
       "    .dataframe thead th {\n",
       "        text-align: right;\n",
       "    }\n",
       "</style>\n",
       "<table border=\"1\" class=\"dataframe\">\n",
       "  <thead>\n",
       "    <tr style=\"text-align: right;\">\n",
       "      <th>id</th>\n",
       "      <th>index</th>\n",
       "      <th>2</th>\n",
       "      <th>0</th>\n",
       "      <th>1</th>\n",
       "      <th>all</th>\n",
       "    </tr>\n",
       "  </thead>\n",
       "  <tbody>\n",
       "    <tr>\n",
       "      <th>0</th>\n",
       "      <td>d__Bacteria;p__Firmicutes;c__Clostridia;o__Lac...</td>\n",
       "      <td>58707.0</td>\n",
       "      <td>19047.0</td>\n",
       "      <td>20233.0</td>\n",
       "      <td>97987.0</td>\n",
       "    </tr>\n",
       "    <tr>\n",
       "      <th>1</th>\n",
       "      <td>d__Bacteria;p__Firmicutes;c__Clostridia;o__Osc...</td>\n",
       "      <td>98706.0</td>\n",
       "      <td>37268.0</td>\n",
       "      <td>35413.0</td>\n",
       "      <td>171387.0</td>\n",
       "    </tr>\n",
       "    <tr>\n",
       "      <th>2</th>\n",
       "      <td>d__Bacteria;p__Bacteroidota;c__Bacteroidia;o__...</td>\n",
       "      <td>9763.0</td>\n",
       "      <td>4021.0</td>\n",
       "      <td>6016.0</td>\n",
       "      <td>19800.0</td>\n",
       "    </tr>\n",
       "    <tr>\n",
       "      <th>3</th>\n",
       "      <td>d__Bacteria;p__Firmicutes;c__Clostridia;o__Lac...</td>\n",
       "      <td>55183.0</td>\n",
       "      <td>13317.0</td>\n",
       "      <td>23777.0</td>\n",
       "      <td>92277.0</td>\n",
       "    </tr>\n",
       "    <tr>\n",
       "      <th>4</th>\n",
       "      <td>d__Bacteria;p__Firmicutes;c__Negativicutes;o__...</td>\n",
       "      <td>25510.0</td>\n",
       "      <td>9062.0</td>\n",
       "      <td>5891.0</td>\n",
       "      <td>40463.0</td>\n",
       "    </tr>\n",
       "    <tr>\n",
       "      <th>...</th>\n",
       "      <td>...</td>\n",
       "      <td>...</td>\n",
       "      <td>...</td>\n",
       "      <td>...</td>\n",
       "      <td>...</td>\n",
       "    </tr>\n",
       "    <tr>\n",
       "      <th>331</th>\n",
       "      <td>d__Bacteria;p__Firmicutes;c__Clostridia;o__Osc...</td>\n",
       "      <td>12.0</td>\n",
       "      <td>0.0</td>\n",
       "      <td>0.0</td>\n",
       "      <td>12.0</td>\n",
       "    </tr>\n",
       "    <tr>\n",
       "      <th>332</th>\n",
       "      <td>d__Bacteria;p__Bacteroidota;c__Bacteroidia;o__...</td>\n",
       "      <td>0.0</td>\n",
       "      <td>8.0</td>\n",
       "      <td>0.0</td>\n",
       "      <td>8.0</td>\n",
       "    </tr>\n",
       "    <tr>\n",
       "      <th>333</th>\n",
       "      <td>d__Bacteria;p__Firmicutes;__;__;__;__;__</td>\n",
       "      <td>0.0</td>\n",
       "      <td>0.0</td>\n",
       "      <td>2.0</td>\n",
       "      <td>2.0</td>\n",
       "    </tr>\n",
       "    <tr>\n",
       "      <th>334</th>\n",
       "      <td>d__Bacteria;p__Firmicutes;c__Clostridia;o__Pep...</td>\n",
       "      <td>0.0</td>\n",
       "      <td>0.0</td>\n",
       "      <td>1.0</td>\n",
       "      <td>1.0</td>\n",
       "    </tr>\n",
       "    <tr>\n",
       "      <th>335</th>\n",
       "      <td>d__Bacteria;p__Firmicutes;c__Negativicutes;o__...</td>\n",
       "      <td>0.0</td>\n",
       "      <td>0.0</td>\n",
       "      <td>1.0</td>\n",
       "      <td>1.0</td>\n",
       "    </tr>\n",
       "  </tbody>\n",
       "</table>\n",
       "<p>336 rows × 5 columns</p>\n",
       "</div>"
      ],
      "text/plain": [
       "id                                               index        2        0  \\\n",
       "0    d__Bacteria;p__Firmicutes;c__Clostridia;o__Lac...  58707.0  19047.0   \n",
       "1    d__Bacteria;p__Firmicutes;c__Clostridia;o__Osc...  98706.0  37268.0   \n",
       "2    d__Bacteria;p__Bacteroidota;c__Bacteroidia;o__...   9763.0   4021.0   \n",
       "3    d__Bacteria;p__Firmicutes;c__Clostridia;o__Lac...  55183.0  13317.0   \n",
       "4    d__Bacteria;p__Firmicutes;c__Negativicutes;o__...  25510.0   9062.0   \n",
       "..                                                 ...      ...      ...   \n",
       "331  d__Bacteria;p__Firmicutes;c__Clostridia;o__Osc...     12.0      0.0   \n",
       "332  d__Bacteria;p__Bacteroidota;c__Bacteroidia;o__...      0.0      8.0   \n",
       "333           d__Bacteria;p__Firmicutes;__;__;__;__;__      0.0      0.0   \n",
       "334  d__Bacteria;p__Firmicutes;c__Clostridia;o__Pep...      0.0      0.0   \n",
       "335  d__Bacteria;p__Firmicutes;c__Negativicutes;o__...      0.0      0.0   \n",
       "\n",
       "id         1       all  \n",
       "0    20233.0   97987.0  \n",
       "1    35413.0  171387.0  \n",
       "2     6016.0   19800.0  \n",
       "3    23777.0   92277.0  \n",
       "4     5891.0   40463.0  \n",
       "..       ...       ...  \n",
       "331      0.0      12.0  \n",
       "332      0.0       8.0  \n",
       "333      2.0       2.0  \n",
       "334      1.0       1.0  \n",
       "335      1.0       1.0  \n",
       "\n",
       "[336 rows x 5 columns]"
      ]
     },
     "execution_count": 127,
     "metadata": {},
     "output_type": "execute_result"
    }
   ],
   "source": [
    "species_by_phase = collapse(group_tab, taxonomy=metatax, level=7).collapsed_table\n",
    "species_by_phase_df = species_by_phase.view(Metadata).to_dataframe().T\n",
    "species_by_phase_df['all'] = species_by_phase_df.sum(axis=1)\n",
    "species_by_phase_df = species_by_phase_df.reset_index()\n",
    "species_by_phase_df"
   ]
  },
  {
   "cell_type": "markdown",
   "metadata": {
    "collapsed": false,
    "pycharm": {
     "name": "#%% md\n"
    }
   },
   "source": [
    "### Top abundances counts"
   ]
  },
  {
   "cell_type": "code",
   "execution_count": 128,
   "metadata": {
    "collapsed": false,
    "pycharm": {
     "name": "#%%\n"
    }
   },
   "outputs": [],
   "source": [
    "def filter_names(df, level, invalid_words):\n",
    "    tax_idx = level - 8\n",
    "    to_remove = list()\n",
    "    for i, r in df.iterrows():\n",
    "        word = r['index'].split(';')[tax_idx][3:]\n",
    "        invalid_flag = False\n",
    "        for w in invalid_words:\n",
    "            if w in word:\n",
    "                invalid_flag = True\n",
    "                break\n",
    "        if invalid_flag:\n",
    "            to_remove.append(i)\n",
    "    df = df.drop(df.index[to_remove])\n",
    "    return df\n",
    "\n",
    "species_by_phase_df = filter_names(species_by_phase_df, 7, ('uncultured', 'microbiom', 'metagenome', 'human_', '_bacterium'))"
   ]
  },
  {
   "cell_type": "code",
   "execution_count": 137,
   "metadata": {
    "collapsed": false,
    "pycharm": {
     "name": "#%%\n"
    }
   },
   "outputs": [],
   "source": [
    "species_by_phase_df['mean'] = species_by_phase_df[['0', '1', '2']].mean(axis=1)\n",
    "species_by_phase_df.sort_values(by='all', ascending=False)\n",
    "fname = os.path.join(experiment_folder, 'species-abundances-filtered.xlsx')\n",
    "species_by_phase_df.to_excel(fname)"
   ]
  },
  {
   "cell_type": "code",
   "execution_count": 119,
   "metadata": {
    "ExecuteTime": {
     "end_time": "2022-06-13T19:08:14.712429Z",
     "start_time": "2022-06-13T19:08:14.699996Z"
    },
    "pycharm": {
     "name": "#%%\n"
    }
   },
   "outputs": [],
   "source": [
    "def top_counts(df, col_idx, top, filtering):\n",
    "    indexes = []\n",
    "    species = []\n",
    "    counts = []\n",
    "    tax_names = []\n",
    "    cnt = 0\n",
    "    new_df = df\n",
    "    new_df = df.sort_values(by=col_idx, ascending=False)\n",
    "    for i, row in new_df.iterrows():\n",
    "        print('------')\n",
    "        print('>>', type(row))\n",
    "        print(row)\n",
    "        print('------')\n",
    "        name = row['index'].split(';')[-1]\n",
    "        invalid_flag = False\n",
    "        if name != '__':\n",
    "            name = name[3:]\n",
    "            if not filtering:\n",
    "                cnt += 1\n",
    "                species.append(name)\n",
    "                counts.append(int(row))\n",
    "                tax_names.append(row['index'])\n",
    "                indexes = i\n",
    "            else:\n",
    "                invalid_names = ('uncultured', 'microbiom', 'metagenome', 'human_', '_bacterium')\n",
    "                for invalid in invalid_names:\n",
    "                    if invalid in name:\n",
    "                        invalid_flag = True\n",
    "                        break\n",
    "                if not invalid_flag:\n",
    "                    cnt += 1\n",
    "                    species.append(name)\n",
    "                    counts.append(int(row))\n",
    "                    tax_names.append(row['index'])\n",
    "                    indexes = i\n",
    "            if cnt >= top:\n",
    "                break\n",
    "    return species, counts, tax_names, indexes"
   ]
  },
  {
   "cell_type": "code",
   "execution_count": 117,
   "metadata": {
    "ExecuteTime": {
     "end_time": "2022-06-14T19:30:25.479104Z",
     "start_time": "2022-06-14T19:30:25.414484Z"
    },
    "pycharm": {
     "name": "#%%\n"
    }
   },
   "outputs": [
    {
     "name": "stdout",
     "output_type": "stream",
     "text": [
      "id\n",
      "index    d__Bacteria;p__Firmicutes;c__Clostridia;o__Osc...\n",
      "2                                                  98706.0\n",
      "0                                                  37268.0\n",
      "1                                                  35413.0\n",
      "all                                               171387.0\n",
      "Name: 1, dtype: object\n",
      "------\n",
      "id\n",
      "index    d__Bacteria;p__Bacteroidota;c__Bacteroidia;o__...\n",
      "2                                                  89128.0\n",
      "0                                                  20381.0\n",
      "1                                                  49992.0\n",
      "all                                               159501.0\n",
      "Name: 5, dtype: object\n",
      "------\n",
      "id\n",
      "index    d__Bacteria;p__Firmicutes;c__Clostridia;o__Lac...\n",
      "2                                                  58707.0\n",
      "0                                                  19047.0\n",
      "1                                                  20233.0\n",
      "all                                                97987.0\n",
      "Name: 0, dtype: object\n",
      "------\n",
      "id\n",
      "index    d__Bacteria;p__Firmicutes;c__Clostridia;o__Lac...\n",
      "2                                                  55183.0\n",
      "0                                                  13317.0\n",
      "1                                                  23777.0\n",
      "all                                                92277.0\n",
      "Name: 3, dtype: object\n",
      "------\n",
      "id\n",
      "index    d__Bacteria;p__Firmicutes;c__Clostridia;o__Lac...\n",
      "2                                                  34252.0\n",
      "0                                                  22236.0\n",
      "1                                                  18676.0\n",
      "all                                                75164.0\n",
      "Name: 7, dtype: object\n",
      "------\n",
      "id\n",
      "index    d__Bacteria;p__Bacteroidota;c__Bacteroidia;o__...\n",
      "2                                                  32959.0\n",
      "0                                                  22755.0\n",
      "1                                                  13531.0\n",
      "all                                                69245.0\n",
      "Name: 25, dtype: object\n",
      "------\n",
      "id\n",
      "index    d__Bacteria;p__Actinobacteriota;c__Actinobacte...\n",
      "2                                                  21082.0\n",
      "0                                                  25995.0\n",
      "1                                                  14925.0\n",
      "all                                                62002.0\n",
      "Name: 29, dtype: object\n",
      "------\n",
      "id\n",
      "index    d__Bacteria;p__Firmicutes;c__Clostridia;o__Lac...\n",
      "2                                                  46551.0\n",
      "0                                                   5884.0\n",
      "1                                                   8374.0\n",
      "all                                                60809.0\n",
      "Name: 28, dtype: object\n",
      "------\n",
      "id\n",
      "index    d__Bacteria;p__Firmicutes;c__Clostridia;o__Lac...\n",
      "2                                                  28741.0\n",
      "0                                                  14063.0\n",
      "1                                                  10464.0\n",
      "all                                                53268.0\n",
      "Name: 51, dtype: object\n",
      "------\n",
      "id\n",
      "index    d__Bacteria;p__Bacteroidota;c__Bacteroidia;o__...\n",
      "2                                                  31557.0\n",
      "0                                                   5215.0\n",
      "1                                                  14574.0\n",
      "all                                                51346.0\n",
      "Name: 11, dtype: object\n",
      "------\n",
      "id\n",
      "index    d__Bacteria;p__Firmicutes;c__Clostridia;o__Clo...\n",
      "2                                                  24703.0\n",
      "0                                                  20468.0\n",
      "1                                                   5060.0\n",
      "all                                                50231.0\n",
      "Name: 63, dtype: object\n",
      "------\n",
      "id\n",
      "index    d__Bacteria;p__Firmicutes;c__Clostridia;o__Osc...\n",
      "2                                                  20672.0\n",
      "0                                                  13797.0\n",
      "1                                                  12165.0\n",
      "all                                                46634.0\n",
      "Name: 34, dtype: object\n",
      "------\n",
      "id\n",
      "index    d__Bacteria;p__Firmicutes;c__Clostridia;o__Osc...\n",
      "2                                                  25499.0\n",
      "0                                                   5290.0\n",
      "1                                                  14079.0\n",
      "all                                                44868.0\n",
      "Name: 13, dtype: object\n",
      "------\n",
      "id\n",
      "index    d__Bacteria;p__Firmicutes;c__Clostridia;o__Lac...\n",
      "2                                                  28601.0\n",
      "0                                                  11962.0\n",
      "1                                                   3972.0\n",
      "all                                                44535.0\n",
      "Name: 27, dtype: object\n",
      "------\n",
      "id\n",
      "index    d__Bacteria;p__Firmicutes;c__Clostridia;o__Osc...\n",
      "2                                                  22210.0\n",
      "0                                                   9917.0\n",
      "1                                                  10117.0\n",
      "all                                                42244.0\n",
      "Name: 6, dtype: object\n",
      "------\n",
      "id\n",
      "index    d__Bacteria;p__Firmicutes;c__Clostridia;o__Chr...\n",
      "2                                                  16535.0\n",
      "0                                                  20140.0\n",
      "1                                                   5556.0\n",
      "all                                                42231.0\n",
      "Name: 22, dtype: object\n",
      "------\n",
      "id\n",
      "index    d__Bacteria;p__Firmicutes;c__Negativicutes;o__...\n",
      "2                                                  25510.0\n",
      "0                                                   9062.0\n",
      "1                                                   5891.0\n",
      "all                                                40463.0\n",
      "Name: 4, dtype: object\n",
      "------\n",
      "id\n",
      "index    d__Bacteria;p__Firmicutes;c__Clostridia;o__Osc...\n",
      "2                                                  24827.0\n",
      "0                                                  11793.0\n",
      "1                                                   3718.0\n",
      "all                                                40338.0\n",
      "Name: 54, dtype: object\n",
      "------\n",
      "id\n",
      "index    d__Bacteria;p__Firmicutes;c__Clostridia;o__Lac...\n",
      "2                                                  20496.0\n",
      "0                                                   3279.0\n",
      "1                                                  14680.0\n",
      "all                                                38455.0\n",
      "Name: 19, dtype: object\n",
      "------\n",
      "id\n",
      "index    d__Bacteria;p__Firmicutes;c__Negativicutes;o__...\n",
      "2                                                  24672.0\n",
      "0                                                   5478.0\n",
      "1                                                   8236.0\n",
      "all                                                38386.0\n",
      "Name: 42, dtype: object\n",
      "------\n",
      "id\n",
      "index    d__Bacteria;p__Bacteroidota;c__Bacteroidia;o__...\n",
      "2                                                  22903.0\n",
      "0                                                   4084.0\n",
      "1                                                  10176.0\n",
      "all                                                37163.0\n",
      "Name: 10, dtype: object\n",
      "------\n"
     ]
    },
    {
     "ename": "TypeError",
     "evalue": "cannot convert the series to <class 'int'>",
     "output_type": "error",
     "traceback": [
      "\u001b[0;31m---------------------------------------------------------------------------\u001b[0m",
      "\u001b[0;31mTypeError\u001b[0m                                 Traceback (most recent call last)",
      "Input \u001b[0;32mIn [117]\u001b[0m, in \u001b[0;36m<module>\u001b[0;34m\u001b[0m\n\u001b[0;32m----> 1\u001b[0m species_p0, counts_p0, full_tax, indexes \u001b[38;5;241m=\u001b[39m \u001b[43mtop_counts\u001b[49m\u001b[43m(\u001b[49m\u001b[43mspecies_by_phase_df\u001b[49m\u001b[43m,\u001b[49m\u001b[43m \u001b[49m\u001b[38;5;124;43m'\u001b[39;49m\u001b[38;5;124;43mall\u001b[39;49m\u001b[38;5;124;43m'\u001b[39;49m\u001b[43m,\u001b[49m\u001b[43m \u001b[49m\u001b[43mtop\u001b[49m\u001b[38;5;241;43m=\u001b[39;49m\u001b[38;5;241;43m10\u001b[39;49m\u001b[43m,\u001b[49m\u001b[43m \u001b[49m\u001b[43mfiltering\u001b[49m\u001b[38;5;241;43m=\u001b[39;49m\u001b[38;5;28;43;01mTrue\u001b[39;49;00m\u001b[43m)\u001b[49m\n",
      "Input \u001b[0;32mIn [116]\u001b[0m, in \u001b[0;36mtop_counts\u001b[0;34m(df, col_idx, top, filtering)\u001b[0m\n\u001b[1;32m     29\u001b[0m cnt \u001b[38;5;241m+\u001b[39m\u001b[38;5;241m=\u001b[39m \u001b[38;5;241m1\u001b[39m\n\u001b[1;32m     30\u001b[0m species\u001b[38;5;241m.\u001b[39mappend(name)\n\u001b[0;32m---> 31\u001b[0m counts\u001b[38;5;241m.\u001b[39mappend(\u001b[38;5;28;43mint\u001b[39;49m\u001b[43m(\u001b[49m\u001b[43mrow\u001b[49m\u001b[43m)\u001b[49m)\n\u001b[1;32m     32\u001b[0m tax_names\u001b[38;5;241m.\u001b[39mappend(row[\u001b[38;5;124m'\u001b[39m\u001b[38;5;124mindex\u001b[39m\u001b[38;5;124m'\u001b[39m])\n\u001b[1;32m     33\u001b[0m indexes \u001b[38;5;241m=\u001b[39m i\n",
      "File \u001b[0;32m~/anaconda3/envs/qiime2-2022.2/lib/python3.8/site-packages/pandas/core/series.py:141\u001b[0m, in \u001b[0;36m_coerce_method.<locals>.wrapper\u001b[0;34m(self)\u001b[0m\n\u001b[1;32m    139\u001b[0m \u001b[38;5;28;01mif\u001b[39;00m \u001b[38;5;28mlen\u001b[39m(\u001b[38;5;28mself\u001b[39m) \u001b[38;5;241m==\u001b[39m \u001b[38;5;241m1\u001b[39m:\n\u001b[1;32m    140\u001b[0m     \u001b[38;5;28;01mreturn\u001b[39;00m converter(\u001b[38;5;28mself\u001b[39m\u001b[38;5;241m.\u001b[39miloc[\u001b[38;5;241m0\u001b[39m])\n\u001b[0;32m--> 141\u001b[0m \u001b[38;5;28;01mraise\u001b[39;00m \u001b[38;5;167;01mTypeError\u001b[39;00m(\u001b[38;5;124mf\u001b[39m\u001b[38;5;124m\"\u001b[39m\u001b[38;5;124mcannot convert the series to \u001b[39m\u001b[38;5;132;01m{\u001b[39;00mconverter\u001b[38;5;132;01m}\u001b[39;00m\u001b[38;5;124m\"\u001b[39m)\n",
      "\u001b[0;31mTypeError\u001b[0m: cannot convert the series to <class 'int'>"
     ]
    }
   ],
   "source": [
    "species_p0, counts_p0, full_tax, indexes = top_counts(species_by_phase_df, 'all', top=10, filtering=True)\n",
    "# for i, c in enumerate(counts_p0):\n",
    "#     print(f'{i+1} - {species_p0[i]}: {c}')"
   ]
  }
 ],
 "metadata": {
  "celltoolbar": "Edit Metadata",
  "kernelspec": {
   "display_name": "Python 3 (ipykernel)",
   "language": "python",
   "name": "python3"
  },
  "language_info": {
   "codemirror_mode": {
    "name": "ipython",
    "version": 3
   },
   "file_extension": ".py",
   "mimetype": "text/x-python",
   "name": "python",
   "nbconvert_exporter": "python",
   "pygments_lexer": "ipython3",
   "version": "3.8.12"
  },
  "toc-autonumbering": false,
  "toc-showcode": false,
  "toc-showmarkdowntxt": false
 },
 "nbformat": 4,
 "nbformat_minor": 4
}
