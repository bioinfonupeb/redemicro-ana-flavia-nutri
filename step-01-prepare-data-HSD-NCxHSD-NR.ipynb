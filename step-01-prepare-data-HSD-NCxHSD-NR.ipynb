{
 "cells": [
  {
   "cell_type": "markdown",
   "id": "843dd88b",
   "metadata": {
    "papermill": {
     "duration": 0.017098,
     "end_time": "2022-08-01T13:53:24.741364",
     "exception": false,
     "start_time": "2022-08-01T13:53:24.724266",
     "status": "completed"
    },
    "tags": []
   },
   "source": [
    "# Prepare data for Pipeline"
   ]
  },
  {
   "cell_type": "markdown",
   "id": "9959aa57",
   "metadata": {
    "papermill": {
     "duration": 0.023691,
     "end_time": "2022-08-01T13:53:24.776112",
     "exception": false,
     "start_time": "2022-08-01T13:53:24.752421",
     "status": "completed"
    },
    "tags": []
   },
   "source": [
    "## Setup and settings"
   ]
  },
  {
   "cell_type": "code",
   "execution_count": 1,
   "id": "c9f75d0b",
   "metadata": {
    "ExecuteTime": {
     "end_time": "2022-06-28T18:50:41.589256Z",
     "start_time": "2022-06-28T18:50:35.447356Z"
    },
    "execution": {
     "iopub.execute_input": "2022-08-01T13:53:24.798390Z",
     "iopub.status.busy": "2022-08-01T13:53:24.798057Z",
     "iopub.status.idle": "2022-08-01T13:53:31.913042Z",
     "shell.execute_reply": "2022-08-01T13:53:31.912327Z"
    },
    "papermill": {
     "duration": 7.129547,
     "end_time": "2022-08-01T13:53:31.916260",
     "exception": false,
     "start_time": "2022-08-01T13:53:24.786713",
     "status": "completed"
    },
    "tags": []
   },
   "outputs": [],
   "source": [
    "# Importing packages\n",
    "import os\n",
    "import yaml\n",
    "from qiime2 import Artifact, Visualization\n",
    "from qiime2.plugins import demux\n",
    "\n",
    "from utils import *"
   ]
  },
  {
   "cell_type": "markdown",
   "id": "9d1a4b59",
   "metadata": {
    "papermill": {
     "duration": 0.00926,
     "end_time": "2022-08-01T13:53:31.941038",
     "exception": false,
     "start_time": "2022-08-01T13:53:31.931778",
     "status": "completed"
    },
    "tags": []
   },
   "source": [
    "### Receiving the parameters\n",
    "\n",
    "The following cell can receive parameters using the [papermill](https://papermill.readthedocs.io/en/latest/) tool."
   ]
  },
  {
   "cell_type": "code",
   "execution_count": 2,
   "id": "51054c6a",
   "metadata": {
    "ExecuteTime": {
     "end_time": "2022-06-28T18:50:41.594341Z",
     "start_time": "2022-06-28T18:50:41.591544Z"
    },
    "execution": {
     "iopub.execute_input": "2022-08-01T13:53:31.994232Z",
     "iopub.status.busy": "2022-08-01T13:53:31.993957Z",
     "iopub.status.idle": "2022-08-01T13:53:32.000097Z",
     "shell.execute_reply": "2022-08-01T13:53:31.999330Z"
    },
    "papermill": {
     "duration": 0.03272,
     "end_time": "2022-08-01T13:53:32.001574",
     "exception": false,
     "start_time": "2022-08-01T13:53:31.968854",
     "status": "completed"
    },
    "tags": [
     "parameters"
    ]
   },
   "outputs": [],
   "source": [
    "params_path = os.path.join('..', 'params', 'ana-flavia-superlactacao.yaml')\n",
    "experiment_name = 'jenneffer-vs-01'\n",
    "base_dir = os.path.join('/', 'home', 'lauro', 'nupeb', 'redemicro')\n",
    "manifest_file = os.path.join(base_dir, 'data', 'raw', 'manifest', 'not-hist-vs-manifest.csv')\n",
    "img_folder = os.path.abspath(os.path.join(base_dir, 'imgs'))\n",
    "replace_files = False"
   ]
  },
  {
   "cell_type": "code",
   "execution_count": 3,
   "id": "e14295a2",
   "metadata": {
    "execution": {
     "iopub.execute_input": "2022-08-01T13:53:32.023435Z",
     "iopub.status.busy": "2022-08-01T13:53:32.023172Z",
     "iopub.status.idle": "2022-08-01T13:53:32.028740Z",
     "shell.execute_reply": "2022-08-01T13:53:32.027935Z"
    },
    "papermill": {
     "duration": 0.018341,
     "end_time": "2022-08-01T13:53:32.030295",
     "exception": false,
     "start_time": "2022-08-01T13:53:32.011954",
     "status": "completed"
    },
    "tags": [
     "injected-parameters"
    ]
   },
   "outputs": [],
   "source": [
    "# Parameters\n",
    "experiment_name = \"ana-flavia-HSD-NCxHSD-NR\"\n",
    "base_dir = \"/home/lauro/nupeb/rede-micro/redemicro-ana-flavia-nutri\"\n",
    "manifest_file = \"/home/lauro/nupeb/rede-micro/redemicro-ana-flavia-nutri/data/raw/manifest/manifest-ana-flavia-HSD-NCxHSD-NR.csv\"\n",
    "metadata_file = \"/home/lauro/nupeb/rede-micro/redemicro-ana-flavia-nutri/data/raw/metadata/metadata-ana-flavia-HSD-NCxHSD-NR.tsv\"\n",
    "class_col = \"sample-group\"\n",
    "classifier_file = \"/home/lauro/nupeb/dados_brutos_rede_genoma/16S_classifiers_qiime2/silva-138-99-nb-classifier.qza\"\n",
    "replace_files = False\n",
    "phred = 20\n",
    "trunc_f = 0\n",
    "trunc_r = 0\n",
    "overlap = 12\n",
    "threads = 6\n"
   ]
  },
  {
   "cell_type": "code",
   "execution_count": 4,
   "id": "6fb56927",
   "metadata": {
    "ExecuteTime": {
     "end_time": "2022-06-28T18:50:41.610682Z",
     "start_time": "2022-06-28T18:50:41.595886Z"
    },
    "execution": {
     "iopub.execute_input": "2022-08-01T13:53:32.071143Z",
     "iopub.status.busy": "2022-08-01T13:53:32.070843Z",
     "iopub.status.idle": "2022-08-01T13:53:32.077297Z",
     "shell.execute_reply": "2022-08-01T13:53:32.076345Z"
    },
    "papermill": {
     "duration": 0.03839,
     "end_time": "2022-08-01T13:53:32.078919",
     "exception": false,
     "start_time": "2022-08-01T13:53:32.040529",
     "status": "completed"
    },
    "tags": []
   },
   "outputs": [],
   "source": [
    "# Setting hardcoded parameters for development and debbuging\n",
    "production = True\n",
    "if not production:\n",
    "    params_path = os.path.join('..', 'params', 'ana-flavia-hipotese-01')\n",
    "    with open(params_path, 'r') as stream:\n",
    "        params = yaml.safe_load(stream)\n",
    "        experiment_name = params['experiment_name']\n",
    "        base_dir = params['base_dir']\n",
    "        manifest_file = params['manifest_file']\n",
    "        replace_files = params['replace_files']"
   ]
  },
  {
   "cell_type": "markdown",
   "id": "b7617c4d",
   "metadata": {
    "papermill": {
     "duration": 0.010548,
     "end_time": "2022-08-01T13:53:32.100788",
     "exception": false,
     "start_time": "2022-08-01T13:53:32.090240",
     "status": "completed"
    },
    "tags": []
   },
   "source": [
    "### Defining names and paths"
   ]
  },
  {
   "cell_type": "code",
   "execution_count": 5,
   "id": "59147ac2",
   "metadata": {
    "ExecuteTime": {
     "end_time": "2022-06-28T18:50:41.618098Z",
     "start_time": "2022-06-28T18:50:41.614152Z"
    },
    "execution": {
     "iopub.execute_input": "2022-08-01T13:53:32.122529Z",
     "iopub.status.busy": "2022-08-01T13:53:32.122374Z",
     "iopub.status.idle": "2022-08-01T13:53:32.125311Z",
     "shell.execute_reply": "2022-08-01T13:53:32.124671Z"
    },
    "papermill": {
     "duration": 0.017506,
     "end_time": "2022-08-01T13:53:32.128206",
     "exception": false,
     "start_time": "2022-08-01T13:53:32.110700",
     "status": "completed"
    },
    "tags": []
   },
   "outputs": [],
   "source": [
    "# new_manifest = '/home/lauro/nupeb/redemicro/data/raw/manifest/karina-manifest.csv'\n",
    "# with open(manifest_file, 'r') as oldm, open(new_manifest, 'w') as newm:\n",
    "#     header = 'sample-id,absolute-filepath,direction\\n'\n",
    "#     newm.write(header)\n",
    "#     for line in oldm.readlines()[1:]:\n",
    "#         sid, forward, reverse = line[:-1].split(',')\n",
    "#         fline = ','.join((sid, forward, 'forward')) + '\\n'\n",
    "#         rline = ','.join((sid, reverse, 'reverse')) + '\\n'\n",
    "#         newm.write(fline)\n",
    "#         newm.write(rline)"
   ]
  },
  {
   "cell_type": "code",
   "execution_count": 6,
   "id": "2a8b109b",
   "metadata": {
    "ExecuteTime": {
     "end_time": "2022-06-28T18:50:41.632125Z",
     "start_time": "2022-06-28T18:50:41.619710Z"
    },
    "execution": {
     "iopub.execute_input": "2022-08-01T13:53:32.172895Z",
     "iopub.status.busy": "2022-08-01T13:53:32.172592Z",
     "iopub.status.idle": "2022-08-01T13:53:32.182261Z",
     "shell.execute_reply": "2022-08-01T13:53:32.181372Z"
    },
    "papermill": {
     "duration": 0.034352,
     "end_time": "2022-08-01T13:53:32.184101",
     "exception": false,
     "start_time": "2022-08-01T13:53:32.149749",
     "status": "completed"
    },
    "tags": []
   },
   "outputs": [
    {
     "name": "stdout",
     "output_type": "stream",
     "text": [
      "New qiime-artifacts folder path created: /home/lauro/nupeb/rede-micro/redemicro-ana-flavia-nutri/experiments/ana-flavia-HSD-NCxHSD-NR/qiime-artifacts\n",
      "New img folder path created: /home/lauro/nupeb/rede-micro/redemicro-ana-flavia-nutri/experiments/ana-flavia-HSD-NCxHSD-NR/imgs\n"
     ]
    }
   ],
   "source": [
    "# Define the output folder path\n",
    "out_dir = os.path.join(base_dir, 'experiments', experiment_name, 'qiime-artifacts')\n",
    "img_folder = os.path.abspath(os.path.join(base_dir, 'experiments', experiment_name, 'imgs'))\n",
    "\n",
    "# Create path if it not exist\n",
    "if not os.path.isdir(out_dir):\n",
    "    os.makedirs(out_dir)\n",
    "    print(f'New qiime-artifacts folder path created: {out_dir}')\n",
    "\n",
    "# Create path if it not exist\n",
    "if not os.path.isdir(img_folder):\n",
    "    os.makedirs(img_folder)\n",
    "    print(f'New img folder path created: {img_folder}')\n",
    "\n",
    "# Define the output artifact full path\n",
    "demux_file = os.path.join(out_dir, 'demux-paired.qza')\n",
    "demux_view = os.path.join(out_dir, 'demux-paired.qzv')"
   ]
  },
  {
   "cell_type": "code",
   "execution_count": null,
   "id": "15be06c8",
   "metadata": {
    "papermill": {
     "duration": 0.01073,
     "end_time": "2022-08-01T13:53:32.207119",
     "exception": false,
     "start_time": "2022-08-01T13:53:32.196389",
     "status": "completed"
    },
    "tags": []
   },
   "outputs": [],
   "source": []
  },
  {
   "cell_type": "markdown",
   "id": "1dd33761",
   "metadata": {
    "papermill": {
     "duration": 0.010268,
     "end_time": "2022-08-01T13:53:32.227780",
     "exception": false,
     "start_time": "2022-08-01T13:53:32.217512",
     "status": "completed"
    },
    "tags": []
   },
   "source": [
    "## Step execution\n",
    "\n",
    "This Step import all `fastq` files in a **QIIME2 Artifact** object and save it to a new `qza` file of `SampleData[PairedEndSequencesWithQuality]`"
   ]
  },
  {
   "cell_type": "code",
   "execution_count": 7,
   "id": "dcdc2c1e",
   "metadata": {
    "ExecuteTime": {
     "end_time": "2022-06-28T19:44:58.640338Z",
     "start_time": "2022-06-28T18:50:41.633657Z"
    },
    "execution": {
     "iopub.execute_input": "2022-08-01T13:53:32.249894Z",
     "iopub.status.busy": "2022-08-01T13:53:32.249556Z",
     "iopub.status.idle": "2022-08-01T13:58:23.826373Z",
     "shell.execute_reply": "2022-08-01T13:58:23.825869Z"
    },
    "papermill": {
     "duration": 291.590033,
     "end_time": "2022-08-01T13:58:23.828265",
     "exception": false,
     "start_time": "2022-08-01T13:53:32.238232",
     "status": "completed"
    },
    "tags": []
   },
   "outputs": [],
   "source": [
    "# If the demux file does not exist or if the old file will be replaced\n",
    "if not os.path.isfile(demux_file) or replace_files:\n",
    "    \n",
    "    # Import data and create an artifact object\n",
    "    artifact = Artifact.import_data(\n",
    "        'SampleData[PairedEndSequencesWithQuality]', \n",
    "        manifest_file, \n",
    "        view_type='PairedEndFastqManifestPhred33')\n",
    "    \n",
    "    # Save the artifact object to a new qza file\n",
    "    artifact.save(demux_file)\n",
    "\n",
    "else:\n",
    "    artifact = Artifact.load(demux_file)"
   ]
  },
  {
   "cell_type": "code",
   "execution_count": 8,
   "id": "a62ecc3b",
   "metadata": {
    "ExecuteTime": {
     "end_time": "2022-06-28T19:47:56.602855Z",
     "start_time": "2022-06-28T19:44:58.642520Z"
    },
    "execution": {
     "iopub.execute_input": "2022-08-01T13:58:23.856637Z",
     "iopub.status.busy": "2022-08-01T13:58:23.856420Z",
     "iopub.status.idle": "2022-08-01T13:58:44.096109Z",
     "shell.execute_reply": "2022-08-01T13:58:44.095460Z"
    },
    "papermill": {
     "duration": 20.255048,
     "end_time": "2022-08-01T13:58:44.099093",
     "exception": false,
     "start_time": "2022-08-01T13:58:23.844045",
     "status": "completed"
    },
    "tags": []
   },
   "outputs": [],
   "source": [
    "if not os.path.isfile(demux_view) or replace_files: \n",
    "    # Generate e visualization of the Artifact\n",
    "    demux_summary = demux.visualizers.summarize(artifact)\n",
    "\n",
    "    # Save a new visualization file based on the qza file\n",
    "    Visualization.save(demux_summary.visualization, filepath=demux_view)\n",
    "    \n",
    "    demux_view_obj = demux_summary.visualization\n",
    "else:\n",
    "    demux_view_obj = Visualization.load(demux_view)"
   ]
  },
  {
   "cell_type": "markdown",
   "id": "cf8b3d75",
   "metadata": {
    "papermill": {
     "duration": 0.015599,
     "end_time": "2022-08-01T13:58:44.131899",
     "exception": false,
     "start_time": "2022-08-01T13:58:44.116300",
     "status": "completed"
    },
    "tags": []
   },
   "source": [
    "## Step report\n"
   ]
  },
  {
   "cell_type": "code",
   "execution_count": 9,
   "id": "ade17a08",
   "metadata": {
    "ExecuteTime": {
     "end_time": "2022-06-28T19:47:56.609737Z",
     "start_time": "2022-06-28T19:47:56.604820Z"
    },
    "execution": {
     "iopub.execute_input": "2022-08-01T13:58:44.181731Z",
     "iopub.status.busy": "2022-08-01T13:58:44.181560Z",
     "iopub.status.idle": "2022-08-01T13:58:44.186236Z",
     "shell.execute_reply": "2022-08-01T13:58:44.185500Z"
    },
    "papermill": {
     "duration": 0.033114,
     "end_time": "2022-08-01T13:58:44.189441",
     "exception": false,
     "start_time": "2022-08-01T13:58:44.156327",
     "status": "completed"
    },
    "tags": []
   },
   "outputs": [
    {
     "name": "stdout",
     "output_type": "stream",
     "text": [
      "<visualization: Visualization uuid: 71a0419d-7d17-4f76-9db0-f3ad2c1a80ed>\n"
     ]
    }
   ],
   "source": [
    "print(demux_view_obj)"
   ]
  },
  {
   "cell_type": "code",
   "execution_count": 10,
   "id": "92ea1a68",
   "metadata": {
    "ExecuteTime": {
     "end_time": "2022-06-28T19:47:56.704841Z",
     "start_time": "2022-06-28T19:47:56.611846Z"
    },
    "execution": {
     "iopub.execute_input": "2022-08-01T13:58:44.212968Z",
     "iopub.status.busy": "2022-08-01T13:58:44.212740Z",
     "iopub.status.idle": "2022-08-01T13:58:44.226390Z",
     "shell.execute_reply": "2022-08-01T13:58:44.225949Z"
    },
    "papermill": {
     "duration": 0.027248,
     "end_time": "2022-08-01T13:58:44.228079",
     "exception": false,
     "start_time": "2022-08-01T13:58:44.200831",
     "status": "completed"
    },
    "tags": []
   },
   "outputs": [
    {
     "data": {
      "text/html": [
       "<div><img onload=\"(function(div, url){\n",
       "if (typeof require !== 'undefined') {\n",
       "    var baseURL = require.toUrl('').split('/').slice(0, -2).join('/');\n",
       "} else {\n",
       "    var baseURL = JSON.parse(\n",
       "        document.getElementById('jupyter-config-data').innerHTML\n",
       "    ).baseUrl.slice(0, -1);\n",
       "}\n",
       "url = baseURL + url;\n",
       "fetch(url).then(function(res) {\n",
       "    if (res.status === 404) {\n",
       "        div.innerHTML = 'Install QIIME 2 Jupyter extension with:<br />' +\n",
       "                        '<code>jupyter serverextension enable --py qiime2' +\n",
       "                        ' --sys-prefix</code><br />then restart your server.' +\n",
       "                        '<br /><br />(Interactive output not available on ' +\n",
       "                        'static notebook viewer services like nbviewer.)';\n",
       "    } else if (res.status === 409) {\n",
       "        div.innerHTML = 'Visualization no longer in scope. Re-run this cell' +\n",
       "                        ' to see the visualization.';\n",
       "    } else if (res.ok) {\n",
       "        url = res.url;\n",
       "        div.innerHTML = '<iframe src=\\'' + url + '\\' style=\\'' +\n",
       "                        'width: 100%; height: 700px; border: 0;\\'>' +\n",
       "                        '</iframe><hr />Open in a: <a href=\\'' + url + '\\'' +\n",
       "                        ' target=\\'_blank\\'>new window</a>'\n",
       "    } else {\n",
       "        div.innerHTML = 'Something has gone wrong. Check notebook server for' +\n",
       "                        ' errors.';\n",
       "    }\n",
       "});\n",
       "})(this.parentElement, '/qiime2/redirect?location=/tmp/qiime2-archive-1ahlxcyx')\" src=\"data:image/gif;base64,R0lGODlhAQABAIAAAP///wAAACH5BAEAAAAALAAAAAABAAEAAAICRAEAOw==\" /></div>"
      ],
      "text/plain": [
       "<visualization: Visualization uuid: 71a0419d-7d17-4f76-9db0-f3ad2c1a80ed>"
      ]
     },
     "execution_count": 10,
     "metadata": {},
     "output_type": "execute_result"
    }
   ],
   "source": [
    "# Render Visualization\n",
    "demux_view_obj"
   ]
  }
 ],
 "metadata": {
  "celltoolbar": "Edit Metadata",
  "kernelspec": {
   "display_name": "Python 3 (ipykernel)",
   "language": "python",
   "name": "python3"
  },
  "language_info": {
   "codemirror_mode": {
    "name": "ipython",
    "version": 3
   },
   "file_extension": ".py",
   "mimetype": "text/x-python",
   "name": "python",
   "nbconvert_exporter": "python",
   "pygments_lexer": "ipython3",
   "version": "3.8.12"
  },
  "papermill": {
   "default_parameters": {},
   "duration": 321.740045,
   "end_time": "2022-08-01T13:58:45.162150",
   "environment_variables": {},
   "exception": null,
   "input_path": "./step-01-prepare-data.ipynb",
   "output_path": "../step-01-prepare-data-HSD-NCxHSD-NR.ipynb",
   "parameters": {
    "base_dir": "/home/lauro/nupeb/rede-micro/redemicro-ana-flavia-nutri",
    "class_col": "sample-group",
    "classifier_file": "/home/lauro/nupeb/dados_brutos_rede_genoma/16S_classifiers_qiime2/silva-138-99-nb-classifier.qza",
    "experiment_name": "ana-flavia-HSD-NCxHSD-NR",
    "manifest_file": "/home/lauro/nupeb/rede-micro/redemicro-ana-flavia-nutri/data/raw/manifest/manifest-ana-flavia-HSD-NCxHSD-NR.csv",
    "metadata_file": "/home/lauro/nupeb/rede-micro/redemicro-ana-flavia-nutri/data/raw/metadata/metadata-ana-flavia-HSD-NCxHSD-NR.tsv",
    "overlap": 12,
    "phred": 20,
    "replace_files": false,
    "threads": 6,
    "trunc_f": 0,
    "trunc_r": 0
   },
   "start_time": "2022-08-01T13:53:23.422105",
   "version": "2.3.4"
  },
  "toc-autonumbering": false,
  "toc-showcode": false,
  "toc-showmarkdowntxt": false
 },
 "nbformat": 4,
 "nbformat_minor": 5
}