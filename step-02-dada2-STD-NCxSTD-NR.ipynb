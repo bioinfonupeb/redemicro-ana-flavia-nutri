{
 "cells": [
  {
   "cell_type": "markdown",
   "id": "3503d6f2",
   "metadata": {
    "papermill": {
     "duration": 0.021766,
     "end_time": "2022-08-01T16:25:53.587502",
     "exception": false,
     "start_time": "2022-08-01T16:25:53.565736",
     "status": "completed"
    },
    "tags": []
   },
   "source": [
    "# Quality Control and ASV table construction with DADA2"
   ]
  },
  {
   "cell_type": "markdown",
   "id": "588f8e62",
   "metadata": {
    "papermill": {
     "duration": 0.079366,
     "end_time": "2022-08-01T16:25:53.680959",
     "exception": false,
     "start_time": "2022-08-01T16:25:53.601593",
     "status": "completed"
    },
    "tags": []
   },
   "source": [
    "## Setup and settings"
   ]
  },
  {
   "cell_type": "code",
   "execution_count": 1,
   "id": "589692b4",
   "metadata": {
    "ExecuteTime": {
     "end_time": "2022-06-29T18:49:49.974644Z",
     "start_time": "2022-06-29T18:49:30.876897Z"
    },
    "execution": {
     "iopub.execute_input": "2022-08-01T16:25:53.736376Z",
     "iopub.status.busy": "2022-08-01T16:25:53.735923Z",
     "iopub.status.idle": "2022-08-01T16:25:59.934181Z",
     "shell.execute_reply": "2022-08-01T16:25:59.933411Z"
    },
    "papermill": {
     "duration": 6.232484,
     "end_time": "2022-08-01T16:25:59.937353",
     "exception": false,
     "start_time": "2022-08-01T16:25:53.704869",
     "status": "completed"
    },
    "tags": []
   },
   "outputs": [],
   "source": [
    "# Importing packages\n",
    "import os\n",
    "import yaml\n",
    "from qiime2 import Artifact\n",
    "from qiime2 import Visualization\n",
    "from qiime2 import Metadata\n",
    "import qiime2.plugins.dada2.actions as dada2_actions\n",
    "import qiime2.plugins.metadata.actions as metadata_actions\n",
    "\n",
    "import matplotlib.pyplot as plt\n",
    "\n",
    "from utils import *\n",
    "\n",
    "%matplotlib inline"
   ]
  },
  {
   "cell_type": "markdown",
   "id": "5562d3a8",
   "metadata": {
    "papermill": {
     "duration": 0.011997,
     "end_time": "2022-08-01T16:25:59.969259",
     "exception": false,
     "start_time": "2022-08-01T16:25:59.957262",
     "status": "completed"
    },
    "tags": []
   },
   "source": [
    "### Receiving the parameters\n",
    "\n",
    "The following cell can receive parameters using the [papermill](https://papermill.readthedocs.io/en/latest/) tool."
   ]
  },
  {
   "cell_type": "code",
   "execution_count": 2,
   "id": "264a352d",
   "metadata": {
    "ExecuteTime": {
     "end_time": "2022-06-29T18:54:01.035034Z",
     "start_time": "2022-06-29T18:54:01.028724Z"
    },
    "execution": {
     "iopub.execute_input": "2022-08-01T16:26:00.075828Z",
     "iopub.status.busy": "2022-08-01T16:26:00.075538Z",
     "iopub.status.idle": "2022-08-01T16:26:00.081009Z",
     "shell.execute_reply": "2022-08-01T16:26:00.080323Z"
    },
    "papermill": {
     "duration": 0.069374,
     "end_time": "2022-08-01T16:26:00.082728",
     "exception": false,
     "start_time": "2022-08-01T16:26:00.013354",
     "status": "completed"
    },
    "tags": [
     "parameters"
    ]
   },
   "outputs": [],
   "source": [
    "experiment_name = 'ana-flavia-superlactacao'\n",
    "base_dir = os.path.join('/', 'home', 'lauro', 'nupeb', 'redemicro')\n",
    "metadata_file = os.path.join(base_dir, 'data', 'raw', 'metadata', 'sample-metadata.tsv')\n",
    "replace_files = False\n",
    "phred = 20\n",
    "trunc_f = 0\n",
    "trunc_r = 0\n",
    "overlap = 12\n",
    "threads = 6"
   ]
  },
  {
   "cell_type": "code",
   "execution_count": 3,
   "id": "a6811d95",
   "metadata": {
    "execution": {
     "iopub.execute_input": "2022-08-01T16:26:00.111632Z",
     "iopub.status.busy": "2022-08-01T16:26:00.111354Z",
     "iopub.status.idle": "2022-08-01T16:26:00.116804Z",
     "shell.execute_reply": "2022-08-01T16:26:00.116093Z"
    },
    "papermill": {
     "duration": 0.021299,
     "end_time": "2022-08-01T16:26:00.118375",
     "exception": false,
     "start_time": "2022-08-01T16:26:00.097076",
     "status": "completed"
    },
    "tags": [
     "injected-parameters"
    ]
   },
   "outputs": [],
   "source": [
    "# Parameters\n",
    "experiment_name = \"ana-flavia-STD-NCxSTD-NR\"\n",
    "base_dir = \"/home/lauro/nupeb/rede-micro/redemicro-ana-flavia-nutri\"\n",
    "manifest_file = \"/home/lauro/nupeb/rede-micro/redemicro-ana-flavia-nutri/data/raw/manifest/manifest-ana-flavia-STD-NCxSTD-NR.csv\"\n",
    "metadata_file = \"/home/lauro/nupeb/rede-micro/redemicro-ana-flavia-nutri/data/raw/metadata/metadata-ana-flavia-STD-NCxSTD-NR.tsv\"\n",
    "class_col = \"sample-group\"\n",
    "classifier_file = \"/home/lauro/nupeb/dados_brutos_rede_genoma/16S_classifiers_qiime2/silva-138-99-nb-classifier.qza\"\n",
    "replace_files = False\n",
    "phred = 20\n",
    "trunc_f = 0\n",
    "trunc_r = 0\n",
    "overlap = 12\n",
    "threads = 6\n"
   ]
  },
  {
   "cell_type": "code",
   "execution_count": 4,
   "id": "5cd2bb69",
   "metadata": {
    "execution": {
     "iopub.execute_input": "2022-08-01T16:26:00.146890Z",
     "iopub.status.busy": "2022-08-01T16:26:00.146579Z",
     "iopub.status.idle": "2022-08-01T16:26:00.154764Z",
     "shell.execute_reply": "2022-08-01T16:26:00.153940Z"
    },
    "papermill": {
     "duration": 0.024096,
     "end_time": "2022-08-01T16:26:00.156525",
     "exception": false,
     "start_time": "2022-08-01T16:26:00.132429",
     "status": "completed"
    },
    "tags": []
   },
   "outputs": [],
   "source": [
    "# Setting hardcoded parameters for development and debbuging\n",
    "production = True\n",
    "if not production:\n",
    "    params_path = os.path.join('..', 'params', 'ana-flavia-superlactacao.yaml')\n",
    "    with open(params_path, 'r') as stream:\n",
    "        params = yaml.safe_load(stream)\n",
    "        experiment_name = params['experiment_name']\n",
    "        base_dir = params['base_dir']\n",
    "        replace_files = params['replace_files']\n",
    "        experiment_folder = os.path.abspath(os.path.join(os.getcwd(), '..', 'experiments', 'thayane-feces-01'))\n",
    "        img_folder = os.path.abspath(os.path.join(experiment_folder, 'imgs'))\n",
    "        replace_files = False\n",
    "        phred = 20\n",
    "        trunc_f = 0\n",
    "        trunc_r = 0\n",
    "        overlap = 12\n",
    "        threads = 6"
   ]
  },
  {
   "cell_type": "code",
   "execution_count": 5,
   "id": "2c061805",
   "metadata": {
    "ExecuteTime": {
     "end_time": "2022-06-29T18:51:02.089300Z",
     "start_time": "2022-06-29T18:51:02.084922Z"
    },
    "execution": {
     "iopub.execute_input": "2022-08-01T16:26:00.186461Z",
     "iopub.status.busy": "2022-08-01T16:26:00.186045Z",
     "iopub.status.idle": "2022-08-01T16:26:00.189933Z",
     "shell.execute_reply": "2022-08-01T16:26:00.189343Z"
    },
    "papermill": {
     "duration": 0.020641,
     "end_time": "2022-08-01T16:26:00.192962",
     "exception": false,
     "start_time": "2022-08-01T16:26:00.172321",
     "status": "completed"
    },
    "tags": []
   },
   "outputs": [],
   "source": [
    "experiment_folder = os.path.abspath(os.path.join(base_dir, 'experiments', experiment_name))\n",
    "img_folder = os.path.abspath(os.path.join(experiment_folder, 'imgs'))"
   ]
  },
  {
   "cell_type": "markdown",
   "id": "5b36d316",
   "metadata": {
    "papermill": {
     "duration": 0.012631,
     "end_time": "2022-08-01T16:26:00.218766",
     "exception": false,
     "start_time": "2022-08-01T16:26:00.206135",
     "status": "completed"
    },
    "tags": []
   },
   "source": [
    "### Defining names and paths"
   ]
  },
  {
   "cell_type": "code",
   "execution_count": 6,
   "id": "7b0abcb1",
   "metadata": {
    "ExecuteTime": {
     "end_time": "2022-05-30T19:57:39.064490Z",
     "start_time": "2022-05-30T19:57:39.007809Z"
    },
    "execution": {
     "iopub.execute_input": "2022-08-01T16:26:00.244292Z",
     "iopub.status.busy": "2022-08-01T16:26:00.244137Z",
     "iopub.status.idle": "2022-08-01T16:26:00.248555Z",
     "shell.execute_reply": "2022-08-01T16:26:00.247916Z"
    },
    "papermill": {
     "duration": 0.018833,
     "end_time": "2022-08-01T16:26:00.250005",
     "exception": false,
     "start_time": "2022-08-01T16:26:00.231172",
     "status": "completed"
    },
    "tags": []
   },
   "outputs": [],
   "source": [
    "qiime_folder = os.path.join(experiment_folder, 'qiime-artifacts')\n",
    "\n",
    "demux_file = os.path.join(qiime_folder, 'demux-paired.qza')\n",
    "\n",
    "dada2_tabs = os.path.join(qiime_folder, 'dada2-tabs.qza')\n",
    "dada2_reps = os.path.join(qiime_folder, 'dada2-reps.qza')\n",
    "dada2_stat = os.path.join(qiime_folder, 'dada2-stat.qza')\n",
    "\n",
    "dada2_tabs_view = dada2_tabs[:-1] + 'v'\n",
    "dada2_reps_view = dada2_reps[:-1] + 'v'\n",
    "dada2_stat_view = dada2_stat[:-1] + 'v'"
   ]
  },
  {
   "cell_type": "markdown",
   "id": "f5c85b78",
   "metadata": {
    "papermill": {
     "duration": 0.012363,
     "end_time": "2022-08-01T16:26:00.274928",
     "exception": false,
     "start_time": "2022-08-01T16:26:00.262565",
     "status": "completed"
    },
    "tags": []
   },
   "source": [
    "## Step execution\n",
    "\n",
    "### Load input files\n",
    "\n",
    "This Step import the QIIME2 `SampleData[PairedEndSequencesWithQuality]` Artifact with all demultiplexed sequences and the `Metadata` file."
   ]
  },
  {
   "cell_type": "code",
   "execution_count": 7,
   "id": "3322a1dc",
   "metadata": {
    "ExecuteTime": {
     "end_time": "2022-05-30T19:57:39.077380Z",
     "start_time": "2022-05-30T19:57:39.066746Z"
    },
    "execution": {
     "iopub.execute_input": "2022-08-01T16:26:00.300385Z",
     "iopub.status.busy": "2022-08-01T16:26:00.300159Z",
     "iopub.status.idle": "2022-08-01T16:26:00.305189Z",
     "shell.execute_reply": "2022-08-01T16:26:00.304443Z"
    },
    "papermill": {
     "duration": 0.019604,
     "end_time": "2022-08-01T16:26:00.306737",
     "exception": false,
     "start_time": "2022-08-01T16:26:00.287133",
     "status": "completed"
    },
    "tags": []
   },
   "outputs": [],
   "source": [
    "need_dada2 = not (os.path.isfile(dada2_tabs) and os.path.isfile(dada2_reps) and os.path.isfile(dada2_stat)) or replace_files\n",
    "need_view = not (os.path.isfile(dada2_tabs_view) and os.path.isfile(dada2_reps_view) and os.path.isfile(dada2_stat_view)) or replace_files"
   ]
  },
  {
   "cell_type": "code",
   "execution_count": 8,
   "id": "e1b92213",
   "metadata": {
    "ExecuteTime": {
     "end_time": "2022-05-30T19:57:39.089632Z",
     "start_time": "2022-05-30T19:57:39.079347Z"
    },
    "execution": {
     "iopub.execute_input": "2022-08-01T16:26:00.332830Z",
     "iopub.status.busy": "2022-08-01T16:26:00.332506Z",
     "iopub.status.idle": "2022-08-01T16:26:02.147511Z",
     "shell.execute_reply": "2022-08-01T16:26:02.146324Z"
    },
    "papermill": {
     "duration": 1.830647,
     "end_time": "2022-08-01T16:26:02.149779",
     "exception": false,
     "start_time": "2022-08-01T16:26:00.319132",
     "status": "completed"
    },
    "tags": []
   },
   "outputs": [],
   "source": [
    "if need_dada2:\n",
    "    demux = Artifact.load(demux_file)"
   ]
  },
  {
   "cell_type": "code",
   "execution_count": 9,
   "id": "64b9d8b2",
   "metadata": {
    "ExecuteTime": {
     "end_time": "2022-05-30T19:57:39.145879Z",
     "start_time": "2022-05-30T19:57:39.091983Z"
    },
    "execution": {
     "iopub.execute_input": "2022-08-01T16:26:02.183673Z",
     "iopub.status.busy": "2022-08-01T16:26:02.183289Z",
     "iopub.status.idle": "2022-08-01T16:26:02.220780Z",
     "shell.execute_reply": "2022-08-01T16:26:02.220090Z"
    },
    "papermill": {
     "duration": 0.055633,
     "end_time": "2022-08-01T16:26:02.223079",
     "exception": false,
     "start_time": "2022-08-01T16:26:02.167446",
     "status": "completed"
    },
    "tags": []
   },
   "outputs": [],
   "source": [
    "metadata = Metadata.load(metadata_file)"
   ]
  },
  {
   "cell_type": "markdown",
   "id": "9b5fe2ac",
   "metadata": {
    "papermill": {
     "duration": 0.014896,
     "end_time": "2022-08-01T16:26:02.257644",
     "exception": false,
     "start_time": "2022-08-01T16:26:02.242748",
     "status": "completed"
    },
    "tags": []
   },
   "source": [
    "### Execute DADA2 plugin and create Artifacts\n",
    "\n",
    "The DADA2 plugin perform tha quality control and create the ASV table. It will be produced three Artifacts:\n",
    "\n",
    "- tabs (`FeatureTable[Frequency]`) : \n",
    "    The resulting feature table.\n",
    "- reps (`FeatureData[Sequence]`) :\n",
    "    The resulting feature sequences. Each feature in the feature table will\n",
    "    be represented by exactly one sequence, and these sequences will be the\n",
    "    joined paired-end sequences.\n",
    "- denoising_stats (`SampleData[DADA2Stats]`) : the resulting stats. Shows the number and the proportion of filtered reads in each phase of the plugin execution."
   ]
  },
  {
   "cell_type": "code",
   "execution_count": 10,
   "id": "09e10457",
   "metadata": {
    "ExecuteTime": {
     "end_time": "2022-05-30T19:57:39.171629Z",
     "start_time": "2022-05-30T19:57:39.147370Z"
    },
    "execution": {
     "iopub.execute_input": "2022-08-01T16:26:02.286840Z",
     "iopub.status.busy": "2022-08-01T16:26:02.286662Z",
     "iopub.status.idle": "2022-08-01T18:17:47.127343Z",
     "shell.execute_reply": "2022-08-01T18:17:47.126730Z"
    },
    "papermill": {
     "duration": 6704.856991,
     "end_time": "2022-08-01T18:17:47.128990",
     "exception": false,
     "start_time": "2022-08-01T16:26:02.271999",
     "status": "completed"
    },
    "scrolled": true,
    "tags": []
   },
   "outputs": [
    {
     "name": "stdout",
     "output_type": "stream",
     "text": [
      "Running external command line application(s). This may print messages to stdout and/or stderr.\n",
      "The command(s) being run are below. These commands cannot be manually re-run as they will depend on temporary files that no longer exist.\n",
      "\n",
      "Command: run_dada_paired.R /tmp/tmpwmidhvjh/forward /tmp/tmpwmidhvjh/reverse /tmp/tmpwmidhvjh/output.tsv.biom /tmp/tmpwmidhvjh/track.tsv /tmp/tmpwmidhvjh/filt_f /tmp/tmpwmidhvjh/filt_r 0 0 0 0 2.0 2.0 20 12 independent consensus 1.0 6 1000000\n",
      "\n"
     ]
    },
    {
     "name": "stdout",
     "output_type": "stream",
     "text": [
      "R version 4.1.2 (2021-11-01) \n"
     ]
    },
    {
     "name": "stderr",
     "output_type": "stream",
     "text": [
      "Loading required package: Rcpp\n"
     ]
    },
    {
     "name": "stdout",
     "output_type": "stream",
     "text": [
      "DADA2: 1.22.0 / Rcpp: 1.0.8.2 / RcppParallel: 5.1.5 \n",
      "1) Filtering "
     ]
    },
    {
     "name": "stdout",
     "output_type": "stream",
     "text": [
      "..............\n",
      "2) Learning Error Rates\n"
     ]
    },
    {
     "name": "stdout",
     "output_type": "stream",
     "text": [
      "284443473 total bases in 1121888 reads from 8 samples will be used for learning the error rates.\n"
     ]
    },
    {
     "name": "stdout",
     "output_type": "stream",
     "text": [
      "193616828 total bases in 1121888 reads from 8 samples will be used for learning the error rates.\n"
     ]
    },
    {
     "name": "stdout",
     "output_type": "stream",
     "text": [
      "3) Denoise samples "
     ]
    },
    {
     "name": "stdout",
     "output_type": "stream",
     "text": [
      "."
     ]
    },
    {
     "name": "stdout",
     "output_type": "stream",
     "text": [
      "."
     ]
    },
    {
     "name": "stdout",
     "output_type": "stream",
     "text": [
      "."
     ]
    },
    {
     "name": "stdout",
     "output_type": "stream",
     "text": [
      "."
     ]
    },
    {
     "name": "stdout",
     "output_type": "stream",
     "text": [
      "."
     ]
    },
    {
     "name": "stdout",
     "output_type": "stream",
     "text": [
      "."
     ]
    },
    {
     "name": "stdout",
     "output_type": "stream",
     "text": [
      "."
     ]
    },
    {
     "name": "stdout",
     "output_type": "stream",
     "text": [
      "."
     ]
    },
    {
     "name": "stdout",
     "output_type": "stream",
     "text": [
      "."
     ]
    },
    {
     "name": "stdout",
     "output_type": "stream",
     "text": [
      "."
     ]
    },
    {
     "name": "stdout",
     "output_type": "stream",
     "text": [
      "."
     ]
    },
    {
     "name": "stdout",
     "output_type": "stream",
     "text": [
      "."
     ]
    },
    {
     "name": "stdout",
     "output_type": "stream",
     "text": [
      "."
     ]
    },
    {
     "name": "stdout",
     "output_type": "stream",
     "text": [
      ".\n"
     ]
    },
    {
     "name": "stdout",
     "output_type": "stream",
     "text": [
      "."
     ]
    },
    {
     "name": "stdout",
     "output_type": "stream",
     "text": [
      "."
     ]
    },
    {
     "name": "stdout",
     "output_type": "stream",
     "text": [
      "."
     ]
    },
    {
     "name": "stdout",
     "output_type": "stream",
     "text": [
      "."
     ]
    },
    {
     "name": "stdout",
     "output_type": "stream",
     "text": [
      "."
     ]
    },
    {
     "name": "stdout",
     "output_type": "stream",
     "text": [
      "."
     ]
    },
    {
     "name": "stdout",
     "output_type": "stream",
     "text": [
      "."
     ]
    },
    {
     "name": "stdout",
     "output_type": "stream",
     "text": [
      "."
     ]
    },
    {
     "name": "stdout",
     "output_type": "stream",
     "text": [
      "."
     ]
    },
    {
     "name": "stdout",
     "output_type": "stream",
     "text": [
      "."
     ]
    },
    {
     "name": "stdout",
     "output_type": "stream",
     "text": [
      "."
     ]
    },
    {
     "name": "stdout",
     "output_type": "stream",
     "text": [
      "."
     ]
    },
    {
     "name": "stdout",
     "output_type": "stream",
     "text": [
      "."
     ]
    },
    {
     "name": "stdout",
     "output_type": "stream",
     "text": [
      ".\n",
      "4) Remove chimeras (method = consensus)\n"
     ]
    },
    {
     "name": "stdout",
     "output_type": "stream",
     "text": [
      "6) Write output\n"
     ]
    }
   ],
   "source": [
    "# If some of the DADA2 outputs artifacts do not exist or if the old files will be replaced\n",
    "if need_dada2:\n",
    "    \n",
    "    # Excute the DADA2 plugin\n",
    "    tabs, reps, stat = dada2_actions.denoise_paired(\n",
    "        demultiplexed_seqs=demux,\n",
    "        trunc_q = phred,\n",
    "        min_overlap = overlap,\n",
    "        n_threads = threads,\n",
    "        trunc_len_f = trunc_f,\n",
    "        trunc_len_r = trunc_r,\n",
    "    )\n",
    "    \n",
    "    # Save the artifacts objects\n",
    "    tabs.save(dada2_tabs)\n",
    "    reps.save(dada2_reps)\n",
    "    stat.save(dada2_stat)\n",
    "\n",
    "else:\n",
    "    tabs = Artifact.load(dada2_tabs)\n",
    "    reps = Artifact.load(dada2_reps)\n",
    "    stat = Artifact.load(dada2_stat)"
   ]
  },
  {
   "cell_type": "markdown",
   "id": "843c3580",
   "metadata": {
    "papermill": {
     "duration": 0.019788,
     "end_time": "2022-08-01T18:17:47.170498",
     "exception": false,
     "start_time": "2022-08-01T18:17:47.150710",
     "status": "completed"
    },
    "tags": []
   },
   "source": [
    "### Define Visualizations Artifacts"
   ]
  },
  {
   "cell_type": "code",
   "execution_count": 11,
   "id": "aef49eec",
   "metadata": {
    "ExecuteTime": {
     "end_time": "2022-05-30T19:57:39.249051Z",
     "start_time": "2022-05-30T19:57:39.173053Z"
    },
    "execution": {
     "iopub.execute_input": "2022-08-01T18:17:47.211027Z",
     "iopub.status.busy": "2022-08-01T18:17:47.210769Z",
     "iopub.status.idle": "2022-08-01T18:17:48.660131Z",
     "shell.execute_reply": "2022-08-01T18:17:48.659513Z"
    },
    "papermill": {
     "duration": 1.473194,
     "end_time": "2022-08-01T18:17:48.663258",
     "exception": false,
     "start_time": "2022-08-01T18:17:47.190064",
     "status": "completed"
    },
    "tags": []
   },
   "outputs": [],
   "source": [
    "# If some of the DADA2 Visualization artifacts do not exist or if the old files will be replaced\n",
    "if need_view:\n",
    "    \n",
    "    tabs_view, = metadata_actions.tabulate(input=tabs.view(Metadata))\n",
    "    reps_view, = metadata_actions.tabulate(input=reps.view(Metadata))\n",
    "    stat_view, = metadata_actions.tabulate(input=stat.view(Metadata))\n",
    "    \n",
    "    # Save the artifacts objects\n",
    "    tabs_view.save(dada2_tabs_view)\n",
    "    reps_view.save(dada2_reps_view)\n",
    "    stat_view.save(dada2_stat_view)\n",
    "\n",
    "else:\n",
    "    tabs_view = Visualization.load(dada2_tabs_view)\n",
    "    reps_view = Visualization.load(dada2_reps_view)\n",
    "    stat_view = Visualization.load(dada2_stat_view)"
   ]
  },
  {
   "cell_type": "code",
   "execution_count": 12,
   "id": "bb567c36",
   "metadata": {
    "ExecuteTime": {
     "end_time": "2022-05-30T19:57:39.901491Z",
     "start_time": "2022-05-30T19:57:39.255220Z"
    },
    "execution": {
     "iopub.execute_input": "2022-08-01T18:17:48.708525Z",
     "iopub.status.busy": "2022-08-01T18:17:48.708316Z",
     "iopub.status.idle": "2022-08-01T18:17:49.238551Z",
     "shell.execute_reply": "2022-08-01T18:17:49.237963Z"
    },
    "papermill": {
     "duration": 0.554303,
     "end_time": "2022-08-01T18:17:49.241953",
     "exception": false,
     "start_time": "2022-08-01T18:17:48.687650",
     "status": "completed"
    },
    "tags": []
   },
   "outputs": [
    {
     "data": {
      "image/png": "[encoded data removed]",
      "text/plain": [
       "<Figure size 1080x360 with 2 Axes>"
      ]
     },
     "metadata": {
      "needs_background": "light"
     },
     "output_type": "display_data"
    }
   ],
   "source": [
    "plot_stats_box(stat, os.path.join(img_folder, 'step02-stats-boxplot.pdf'))"
   ]
  },
  {
   "cell_type": "code",
   "execution_count": 13,
   "id": "bd97228f",
   "metadata": {
    "ExecuteTime": {
     "end_time": "2022-05-31T17:58:47.140114Z",
     "start_time": "2022-05-31T17:58:47.087808Z"
    },
    "execution": {
     "iopub.execute_input": "2022-08-01T18:17:49.291520Z",
     "iopub.status.busy": "2022-08-01T18:17:49.291319Z",
     "iopub.status.idle": "2022-08-01T18:17:49.327365Z",
     "shell.execute_reply": "2022-08-01T18:17:49.326808Z"
    },
    "papermill": {
     "duration": 0.062691,
     "end_time": "2022-08-01T18:17:49.329957",
     "exception": false,
     "start_time": "2022-08-01T18:17:49.267266",
     "status": "completed"
    },
    "tags": []
   },
   "outputs": [
    {
     "data": {
      "text/html": [
       "<div>\n",
       "<style scoped>\n",
       "    .dataframe tbody tr th:only-of-type {\n",
       "        vertical-align: middle;\n",
       "    }\n",
       "\n",
       "    .dataframe tbody tr th {\n",
       "        vertical-align: top;\n",
       "    }\n",
       "\n",
       "    .dataframe thead th {\n",
       "        text-align: right;\n",
       "    }\n",
       "</style>\n",
       "<table border=\"1\" class=\"dataframe\">\n",
       "  <thead>\n",
       "    <tr style=\"text-align: right;\">\n",
       "      <th></th>\n",
       "      <th>percentage of input passed filter</th>\n",
       "      <th>percentage of input merged</th>\n",
       "      <th>percentage of input non-chimeric</th>\n",
       "    </tr>\n",
       "  </thead>\n",
       "  <tbody>\n",
       "    <tr>\n",
       "      <th>count</th>\n",
       "      <td>14.000000</td>\n",
       "      <td>14.000000</td>\n",
       "      <td>14.000000</td>\n",
       "    </tr>\n",
       "    <tr>\n",
       "      <th>mean</th>\n",
       "      <td>81.271429</td>\n",
       "      <td>55.698571</td>\n",
       "      <td>31.939286</td>\n",
       "    </tr>\n",
       "    <tr>\n",
       "      <th>std</th>\n",
       "      <td>1.204510</td>\n",
       "      <td>6.460526</td>\n",
       "      <td>7.697838</td>\n",
       "    </tr>\n",
       "    <tr>\n",
       "      <th>min</th>\n",
       "      <td>77.910000</td>\n",
       "      <td>43.050000</td>\n",
       "      <td>18.960000</td>\n",
       "    </tr>\n",
       "    <tr>\n",
       "      <th>25%</th>\n",
       "      <td>81.007500</td>\n",
       "      <td>51.475000</td>\n",
       "      <td>26.925000</td>\n",
       "    </tr>\n",
       "    <tr>\n",
       "      <th>50%</th>\n",
       "      <td>81.290000</td>\n",
       "      <td>57.045000</td>\n",
       "      <td>32.525000</td>\n",
       "    </tr>\n",
       "    <tr>\n",
       "      <th>75%</th>\n",
       "      <td>82.085000</td>\n",
       "      <td>60.550000</td>\n",
       "      <td>36.617500</td>\n",
       "    </tr>\n",
       "    <tr>\n",
       "      <th>max</th>\n",
       "      <td>82.670000</td>\n",
       "      <td>63.990000</td>\n",
       "      <td>48.340000</td>\n",
       "    </tr>\n",
       "  </tbody>\n",
       "</table>\n",
       "</div>"
      ],
      "text/plain": [
       "       percentage of input passed filter  percentage of input merged  \\\n",
       "count                          14.000000                   14.000000   \n",
       "mean                           81.271429                   55.698571   \n",
       "std                             1.204510                    6.460526   \n",
       "min                            77.910000                   43.050000   \n",
       "25%                            81.007500                   51.475000   \n",
       "50%                            81.290000                   57.045000   \n",
       "75%                            82.085000                   60.550000   \n",
       "max                            82.670000                   63.990000   \n",
       "\n",
       "       percentage of input non-chimeric  \n",
       "count                         14.000000  \n",
       "mean                          31.939286  \n",
       "std                            7.697838  \n",
       "min                           18.960000  \n",
       "25%                           26.925000  \n",
       "50%                           32.525000  \n",
       "75%                           36.617500  \n",
       "max                           48.340000  "
      ]
     },
     "execution_count": 13,
     "metadata": {},
     "output_type": "execute_result"
    }
   ],
   "source": [
    "percent_head = ['percentage of input passed filter', 'percentage of input merged', 'percentage of input non-chimeric']\n",
    "stat.view(Metadata).to_dataframe().describe()[percent_head]"
   ]
  },
  {
   "cell_type": "code",
   "execution_count": 14,
   "id": "2c1b2e4d",
   "metadata": {
    "ExecuteTime": {
     "end_time": "2022-05-30T19:57:39.957632Z",
     "start_time": "2022-05-30T19:57:39.953762Z"
    },
    "execution": {
     "iopub.execute_input": "2022-08-01T18:17:49.384627Z",
     "iopub.status.busy": "2022-08-01T18:17:49.384377Z",
     "iopub.status.idle": "2022-08-01T18:17:49.390001Z",
     "shell.execute_reply": "2022-08-01T18:17:49.389383Z"
    },
    "papermill": {
     "duration": 0.031937,
     "end_time": "2022-08-01T18:17:49.391489",
     "exception": false,
     "start_time": "2022-08-01T18:17:49.359552",
     "status": "completed"
    },
    "tags": []
   },
   "outputs": [
    {
     "data": {
      "text/html": [
       "<div><img onload=\"(function(div, url){\n",
       "if (typeof require !== 'undefined') {\n",
       "    var baseURL = require.toUrl('').split('/').slice(0, -2).join('/');\n",
       "} else {\n",
       "    var baseURL = JSON.parse(\n",
       "        document.getElementById('jupyter-config-data').innerHTML\n",
       "    ).baseUrl.slice(0, -1);\n",
       "}\n",
       "url = baseURL + url;\n",
       "fetch(url).then(function(res) {\n",
       "    if (res.status === 404) {\n",
       "        div.innerHTML = 'Install QIIME 2 Jupyter extension with:<br />' +\n",
       "                        '<code>jupyter serverextension enable --py qiime2' +\n",
       "                        ' --sys-prefix</code><br />then restart your server.' +\n",
       "                        '<br /><br />(Interactive output not available on ' +\n",
       "                        'static notebook viewer services like nbviewer.)';\n",
       "    } else if (res.status === 409) {\n",
       "        div.innerHTML = 'Visualization no longer in scope. Re-run this cell' +\n",
       "                        ' to see the visualization.';\n",
       "    } else if (res.ok) {\n",
       "        url = res.url;\n",
       "        div.innerHTML = '<iframe src=\\'' + url + '\\' style=\\'' +\n",
       "                        'width: 100%; height: 700px; border: 0;\\'>' +\n",
       "                        '</iframe><hr />Open in a: <a href=\\'' + url + '\\'' +\n",
       "                        ' target=\\'_blank\\'>new window</a>'\n",
       "    } else {\n",
       "        div.innerHTML = 'Something has gone wrong. Check notebook server for' +\n",
       "                        ' errors.';\n",
       "    }\n",
       "});\n",
       "})(this.parentElement, '/qiime2/redirect?location=/tmp/qiime2-archive-8z21yy1k')\" src=\"data:image/gif;base64,R0lGODlhAQABAIAAAP///wAAACH5BAEAAAAALAAAAAABAAEAAAICRAEAOw==\" /></div>"
      ],
      "text/plain": [
       "<visualization: Visualization uuid: dcd6a3c2-b3e2-4216-8b80-a645aae79e27>"
      ]
     },
     "execution_count": 14,
     "metadata": {},
     "output_type": "execute_result"
    }
   ],
   "source": [
    "stat_view"
   ]
  },
  {
   "cell_type": "code",
   "execution_count": 15,
   "id": "c694e200",
   "metadata": {
    "ExecuteTime": {
     "end_time": "2022-05-30T19:57:39.967918Z",
     "start_time": "2022-05-30T19:57:39.958955Z"
    },
    "execution": {
     "iopub.execute_input": "2022-08-01T18:17:49.441476Z",
     "iopub.status.busy": "2022-08-01T18:17:49.441169Z",
     "iopub.status.idle": "2022-08-01T18:17:49.444981Z",
     "shell.execute_reply": "2022-08-01T18:17:49.444354Z"
    },
    "papermill": {
     "duration": 0.030326,
     "end_time": "2022-08-01T18:17:49.446388",
     "exception": false,
     "start_time": "2022-08-01T18:17:49.416062",
     "status": "completed"
    },
    "tags": []
   },
   "outputs": [],
   "source": [
    "# new_stat = Artifact.load('/home/lauro/nupeb/redemicro/experiments/thayane-feces-01/qiime-artifacts/dada2-stat.qza')\n",
    "# # new_view, = metadata_actions.tabulate(input=new_stat.view(Metadata))\n",
    "# # plot_stats_box(old_stat)\n",
    "\n",
    "# old_stat = Artifact.load('/home/lauro/nupeb/dados_brutos_rede_genoma/experiments/fezes-phred_20-tf_0-tr_0-lap_4/fezes_dada2_stat.qza')\n",
    "# # old_view, = metadata_actions.tabulate(input=old_stat.view(Metadata))\n",
    "# # plot_stats_box(old_stat)\n",
    "\n",
    "# plot_stats_box_pairs(old_stat, new_stat)"
   ]
  }
 ],
 "metadata": {
  "celltoolbar": "Edit Metadata",
  "kernelspec": {
   "display_name": "Python 3 (ipykernel)",
   "language": "python",
   "name": "python3"
  },
  "language_info": {
   "codemirror_mode": {
    "name": "ipython",
    "version": 3
   },
   "file_extension": ".py",
   "mimetype": "text/x-python",
   "name": "python",
   "nbconvert_exporter": "python",
   "pygments_lexer": "ipython3",
   "version": "3.8.12"
  },
  "papermill": {
   "default_parameters": {},
   "duration": 6719.037732,
   "end_time": "2022-08-01T18:17:50.505314",
   "environment_variables": {},
   "exception": null,
   "input_path": "./step-02-dada2.ipynb",
   "output_path": "../step-02-dada2-STD-NCxSTD-NR.ipynb",
   "parameters": {
    "base_dir": "/home/lauro/nupeb/rede-micro/redemicro-ana-flavia-nutri",
    "class_col": "sample-group",
    "classifier_file": "/home/lauro/nupeb/dados_brutos_rede_genoma/16S_classifiers_qiime2/silva-138-99-nb-classifier.qza",
    "experiment_name": "ana-flavia-STD-NCxSTD-NR",
    "manifest_file": "/home/lauro/nupeb/rede-micro/redemicro-ana-flavia-nutri/data/raw/manifest/manifest-ana-flavia-STD-NCxSTD-NR.csv",
    "metadata_file": "/home/lauro/nupeb/rede-micro/redemicro-ana-flavia-nutri/data/raw/metadata/metadata-ana-flavia-STD-NCxSTD-NR.tsv",
    "overlap": 12,
    "phred": 20,
    "replace_files": false,
    "threads": 6,
    "trunc_f": 0,
    "trunc_r": 0
   },
   "start_time": "2022-08-01T16:25:51.467582",
   "version": "2.3.4"
  },
  "toc-autonumbering": false,
  "toc-showcode": false,
  "toc-showmarkdowntxt": false
 },
 "nbformat": 4,
 "nbformat_minor": 5
}