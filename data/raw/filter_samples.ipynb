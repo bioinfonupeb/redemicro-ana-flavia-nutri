{
 "cells": [
  {
   "cell_type": "code",
   "execution_count": 1,
   "id": "a9570147",
   "metadata": {},
   "outputs": [
    {
     "name": "stdout",
     "output_type": "stream",
     "text": [
      "/mnt/nupeb/rede-micro/redemicro-ana-flavia-nutri/data/raw\n",
      " ana-flavia-HSD-NCxHSD-NR.tsv\n",
      " ana-flavia-NCxNR.tsv\n",
      " ana-flavia-NCxSTD-NC.tsv\n",
      "'ana-flavia-samples-groups - Copia.tsv'\n",
      " ana-flavia-samples-groups.tsv\n",
      " ana-flavia-STD-NCxHSD-NC.tsv\n",
      " ana-flavia-STD-NCxSTD-NR.tsv\n",
      " ana-flavia-STD-NRxHSD-NR.tsv\n",
      " filtered-metadata-all-ana.tsv\n",
      " filter_samples.ipynb\n",
      " karina-samples-groups.csv\n",
      " manifest\n",
      " manifest-all-ana.csv\n",
      " manifest-all.csv\n",
      " manifest-all.tsv\n",
      " metadata\n",
      " metadata-all-ana.tsv\n",
      " metadata-all-ana-types.tsv\n",
      " preprocess-ana-flavia-sample-data.ipynb\n",
      " process-manifest-prefix-path.ipynb\n",
      " sample_id-sample_name.tsv\n",
      " samples-paths.tsv\n"
     ]
    }
   ],
   "source": [
    "import os\n",
    "import pandas as pd\n",
    "\n",
    "!pwd\n",
    "!ls"
   ]
  },
  {
   "cell_type": "code",
   "execution_count": 2,
   "id": "6e91a01c",
   "metadata": {},
   "outputs": [],
   "source": [
    "samples_info = \"ana-flavia-samples-groups.tsv\"\n",
    "metadata_all = \"metadata-all-ana.tsv\"\n",
    "filtered_metadata_all = \"filtered-metadata-all-ana.tsv\""
   ]
  },
  {
   "cell_type": "code",
   "execution_count": 3,
   "id": "8007177a",
   "metadata": {},
   "outputs": [
    {
     "name": "stdout",
     "output_type": "stream",
     "text": [
      "  sample-id group-id        group-desc\n",
      "0     N9.01       NC  Ninhada controle\n",
      "1    N11.01       NC  Ninhada controle\n",
      "2     N9.05       NC  Ninhada controle\n",
      "3    N11.02       NC  Ninhada controle\n",
      "4     N9.03       NR  Ninhada reduzida\n",
      "       sample-id sample-name group-id        group-desc\n",
      "0  S210421121673       N9.01       NC  Ninhada controle\n",
      "1  S210421121674      N11.01       NC  Ninhada controle\n",
      "2  S210421121675       N9.05       NC  Ninhada controle\n",
      "3  S210421121676      N11.02       NC  Ninhada controle\n",
      "4  S210421121677       N9.03       NR  Ninhada reduzida\n"
     ]
    }
   ],
   "source": [
    "# Extract mmanifest from CSV\n",
    "samples_df = pd.read_csv(samples_info, sep='\\t')\n",
    "print(samples_df.head())\n",
    "\n",
    "metadata_df = pd.read_csv(metadata_all, sep='\\t')\n",
    "print(metadata_df.head())"
   ]
  },
  {
   "cell_type": "code",
   "execution_count": 4,
   "id": "6ce61e21",
   "metadata": {},
   "outputs": [
    {
     "data": {
      "text/plain": [
       "38"
      ]
     },
     "execution_count": 4,
     "metadata": {},
     "output_type": "execute_result"
    }
   ],
   "source": [
    "s1 = metadata_df.loc[:,'sample-name'].values\n",
    "s2 = samples_df.loc[:,'sample-id'].values\n",
    "\n",
    "len(set(s1) & set(s2))"
   ]
  },
  {
   "cell_type": "code",
   "execution_count": 5,
   "id": "6c7b9611",
   "metadata": {},
   "outputs": [
    {
     "data": {
      "text/plain": [
       "Index(['N1.03', 'N1.04', 'N2.02'], dtype='object', name='sample-name')"
      ]
     },
     "execution_count": 5,
     "metadata": {},
     "output_type": "execute_result"
    }
   ],
   "source": [
    "tmp_df = metadata_df.groupby(by='sample-name').count() > 1\n",
    "repeated_idx = tmp_df[tmp_df['sample-id']].index\n",
    "repeated_idx"
   ]
  },
  {
   "cell_type": "code",
   "execution_count": 6,
   "id": "7a710cee",
   "metadata": {},
   "outputs": [
    {
     "data": {
      "text/html": [
       "<div>\n",
       "<style scoped>\n",
       "    .dataframe tbody tr th:only-of-type {\n",
       "        vertical-align: middle;\n",
       "    }\n",
       "\n",
       "    .dataframe tbody tr th {\n",
       "        vertical-align: top;\n",
       "    }\n",
       "\n",
       "    .dataframe thead th {\n",
       "        text-align: right;\n",
       "    }\n",
       "</style>\n",
       "<table border=\"1\" class=\"dataframe\">\n",
       "  <thead>\n",
       "    <tr style=\"text-align: right;\">\n",
       "      <th></th>\n",
       "      <th>sample-id</th>\n",
       "      <th>sample-name</th>\n",
       "      <th>group-id</th>\n",
       "      <th>group-desc</th>\n",
       "    </tr>\n",
       "  </thead>\n",
       "  <tbody>\n",
       "    <tr>\n",
       "      <th>25</th>\n",
       "      <td>S210421121698</td>\n",
       "      <td>N1.04</td>\n",
       "      <td>HSD-NC</td>\n",
       "      <td>Grupo dieta high-sugar</td>\n",
       "    </tr>\n",
       "    <tr>\n",
       "      <th>26</th>\n",
       "      <td>S210421121711</td>\n",
       "      <td>N1.04</td>\n",
       "      <td>HSD-NC</td>\n",
       "      <td>Grupo dieta high-sugar</td>\n",
       "    </tr>\n",
       "    <tr>\n",
       "      <th>32</th>\n",
       "      <td>S210421121704</td>\n",
       "      <td>N1.03</td>\n",
       "      <td>STD-NR</td>\n",
       "      <td>Grupo dieta padrão</td>\n",
       "    </tr>\n",
       "    <tr>\n",
       "      <th>33</th>\n",
       "      <td>S210421121713</td>\n",
       "      <td>N1.03</td>\n",
       "      <td>STD-NR</td>\n",
       "      <td>Grupo dieta padrão</td>\n",
       "    </tr>\n",
       "    <tr>\n",
       "      <th>34</th>\n",
       "      <td>S210421121705</td>\n",
       "      <td>N2.02</td>\n",
       "      <td>STD-NR</td>\n",
       "      <td>Grupo dieta padrão</td>\n",
       "    </tr>\n",
       "    <tr>\n",
       "      <th>35</th>\n",
       "      <td>S210421121714</td>\n",
       "      <td>N2.02</td>\n",
       "      <td>STD-NR</td>\n",
       "      <td>Grupo dieta padrão</td>\n",
       "    </tr>\n",
       "  </tbody>\n",
       "</table>\n",
       "</div>"
      ],
      "text/plain": [
       "        sample-id sample-name group-id              group-desc\n",
       "25  S210421121698       N1.04   HSD-NC  Grupo dieta high-sugar\n",
       "26  S210421121711       N1.04   HSD-NC  Grupo dieta high-sugar\n",
       "32  S210421121704       N1.03   STD-NR      Grupo dieta padrão\n",
       "33  S210421121713       N1.03   STD-NR      Grupo dieta padrão\n",
       "34  S210421121705       N2.02   STD-NR      Grupo dieta padrão\n",
       "35  S210421121714       N2.02   STD-NR      Grupo dieta padrão"
      ]
     },
     "execution_count": 6,
     "metadata": {},
     "output_type": "execute_result"
    }
   ],
   "source": [
    "metadata_df[metadata_df.loc[:,'sample-name'].isin(repeated_idx)]"
   ]
  },
  {
   "cell_type": "code",
   "execution_count": 7,
   "id": "c0637813",
   "metadata": {},
   "outputs": [
    {
     "data": {
      "text/plain": [
       "array(['S210421121694', 'S210421121703', 'S210421121704', 'S210421121698',\n",
       "       'S210421121707', 'S210421121678', 'S210421121679', 'S210421121680',\n",
       "       'S210421121681', 'S210421121674', 'S210421121676', 'S210421121705',\n",
       "       'S210421121706', 'S210421121699', 'S210421121708', 'S210421121695',\n",
       "       'S210421121700', 'S210421121709', 'S210421121710', 'S210421121696',\n",
       "       'S210421121697', 'S210421121701', 'S210421121702', 'S210421121682',\n",
       "       'S210421121683', 'S210421121685', 'S210421121686', 'S210421121688',\n",
       "       'S210421121691', 'S210421121692', 'S210421121684', 'S210421121687',\n",
       "       'S210421121689', 'S210421121690', 'S210421121693', 'S210421121673',\n",
       "       'S210421121677', 'S210421121675'], dtype=object)"
      ]
     },
     "execution_count": 7,
     "metadata": {},
     "output_type": "execute_result"
    }
   ],
   "source": [
    "# Select fisrt occurency of each \n",
    "filtered_ids = metadata_df.groupby('sample-name').first()['sample-id']\n",
    "filtered_ids.values"
   ]
  },
  {
   "cell_type": "code",
   "execution_count": 8,
   "id": "01864493",
   "metadata": {},
   "outputs": [
    {
     "data": {
      "text/plain": [
       "array([ True,  True,  True,  True,  True,  True,  True,  True,  True,\n",
       "        True,  True,  True,  True,  True,  True,  True,  True,  True,\n",
       "        True,  True,  True,  True,  True,  True,  True,  True, False,\n",
       "        True,  True,  True,  True,  True,  True, False,  True, False,\n",
       "        True,  True,  True,  True,  True])"
      ]
     },
     "execution_count": 8,
     "metadata": {},
     "output_type": "execute_result"
    }
   ],
   "source": [
    "filter_mask = metadata_df.loc[:, 'sample-id'].isin(filtered_ids.values).values\n",
    "filter_mask"
   ]
  },
  {
   "cell_type": "code",
   "execution_count": 9,
   "id": "8f789e76",
   "metadata": {},
   "outputs": [
    {
     "data": {
      "text/html": [
       "<div>\n",
       "<style scoped>\n",
       "    .dataframe tbody tr th:only-of-type {\n",
       "        vertical-align: middle;\n",
       "    }\n",
       "\n",
       "    .dataframe tbody tr th {\n",
       "        vertical-align: top;\n",
       "    }\n",
       "\n",
       "    .dataframe thead th {\n",
       "        text-align: right;\n",
       "    }\n",
       "</style>\n",
       "<table border=\"1\" class=\"dataframe\">\n",
       "  <thead>\n",
       "    <tr style=\"text-align: right;\">\n",
       "      <th></th>\n",
       "      <th>sample-id</th>\n",
       "      <th>sample-name</th>\n",
       "      <th>group-id</th>\n",
       "      <th>group-desc</th>\n",
       "    </tr>\n",
       "  </thead>\n",
       "  <tbody>\n",
       "    <tr>\n",
       "      <th>count</th>\n",
       "      <td>38</td>\n",
       "      <td>38</td>\n",
       "      <td>38</td>\n",
       "      <td>38</td>\n",
       "    </tr>\n",
       "    <tr>\n",
       "      <th>unique</th>\n",
       "      <td>38</td>\n",
       "      <td>38</td>\n",
       "      <td>6</td>\n",
       "      <td>4</td>\n",
       "    </tr>\n",
       "    <tr>\n",
       "      <th>top</th>\n",
       "      <td>S210421121673</td>\n",
       "      <td>N9.01</td>\n",
       "      <td>HSD-NC</td>\n",
       "      <td>Grupo dieta high-sugar</td>\n",
       "    </tr>\n",
       "    <tr>\n",
       "      <th>freq</th>\n",
       "      <td>1</td>\n",
       "      <td>1</td>\n",
       "      <td>8</td>\n",
       "      <td>15</td>\n",
       "    </tr>\n",
       "  </tbody>\n",
       "</table>\n",
       "</div>"
      ],
      "text/plain": [
       "            sample-id sample-name group-id              group-desc\n",
       "count              38          38       38                      38\n",
       "unique             38          38        6                       4\n",
       "top     S210421121673       N9.01   HSD-NC  Grupo dieta high-sugar\n",
       "freq                1           1        8                      15"
      ]
     },
     "execution_count": 9,
     "metadata": {},
     "output_type": "execute_result"
    }
   ],
   "source": [
    "filtered_metadata_df = metadata_df[filter_mask].reset_index(drop=True)\n",
    "filtered_metadata_df.describe()"
   ]
  },
  {
   "cell_type": "code",
   "execution_count": 10,
   "id": "ade6bf36",
   "metadata": {},
   "outputs": [],
   "source": [
    "filtered_metadata_df.to_csv(filtered_metadata_all, index=False, sep='\\t')"
   ]
  }
 ],
 "metadata": {
  "kernelspec": {
   "display_name": "Python 3 (ipykernel)",
   "language": "python",
   "name": "python3"
  },
  "language_info": {
   "codemirror_mode": {
    "name": "ipython",
    "version": 3
   },
   "file_extension": ".py",
   "mimetype": "text/x-python",
   "name": "python",
   "nbconvert_exporter": "python",
   "pygments_lexer": "ipython3",
   "version": "3.8.16"
  }
 },
 "nbformat": 4,
 "nbformat_minor": 5
}
