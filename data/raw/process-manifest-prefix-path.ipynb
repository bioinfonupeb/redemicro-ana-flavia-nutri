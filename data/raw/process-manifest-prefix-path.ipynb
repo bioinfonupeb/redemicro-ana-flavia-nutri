{
 "cells": [
  {
   "cell_type": "code",
   "execution_count": 1,
   "id": "ee446001",
   "metadata": {},
   "outputs": [],
   "source": [
    "import os\n",
    "import pandas as pd"
   ]
  },
  {
   "cell_type": "code",
   "execution_count": 2,
   "id": "604078ae",
   "metadata": {},
   "outputs": [
    {
     "name": "stdout",
     "output_type": "stream",
     "text": [
      "/mnt/nupeb/rede-micro/redemicro-ana-flavia-nutri/data/raw\n",
      " ana-flavia-HSD-NCxHSD-NR.tsv\n",
      " ana-flavia-NCxNR.tsv\n",
      " ana-flavia-NCxSTD-NC.tsv\n",
      "'ana-flavia-samples-groups - Copia.tsv'\n",
      " ana-flavia-samples-groups.tsv\n",
      " ana-flavia-STD-NCxHSD-NC.tsv\n",
      " ana-flavia-STD-NCxSTD-NR.tsv\n",
      " ana-flavia-STD-NRxHSD-NR.tsv\n",
      " karina-samples-groups.csv\n",
      " manifest\n",
      " manifest-all-ana.csv\n",
      " manifest-all.csv\n",
      " manifest-all.tsv\n",
      " metadata\n",
      " metadata-all-ana.tsv\n",
      " metadata-all-ana-types.tsv\n",
      " preprocess-ana-flavia-sample-data.ipynb\n",
      " process-manifest-prefix-path.ipynb\n",
      " sample_id-sample_name.tsv\n",
      " samples-paths.tsv\n"
     ]
    }
   ],
   "source": [
    "!pwd\n",
    "!ls"
   ]
  },
  {
   "cell_type": "code",
   "execution_count": 3,
   "id": "52a4ab6b",
   "metadata": {},
   "outputs": [],
   "source": [
    "fastq_dataset_path = '/mnt/nupeb/rede-micro/datasets/karina-16S/datasets/decompressed_reads'\n",
    "manifest_path = 'manifest-all-ana.csv'"
   ]
  },
  {
   "cell_type": "code",
   "execution_count": 4,
   "id": "c45d47c5",
   "metadata": {},
   "outputs": [
    {
     "name": "stdout",
     "output_type": "stream",
     "text": [
      "       sample-id                                  absolute-filepath direction\n",
      "0  S210421121673  /mnt/nupeb/rede-micro/datasets/karina-16S/data...   forward\n",
      "1  S210421121673  /mnt/nupeb/rede-micro/datasets/karina-16S/data...   reverse\n",
      "2  S210421121674  /mnt/nupeb/rede-micro/datasets/karina-16S/data...   forward\n",
      "3  S210421121674  /mnt/nupeb/rede-micro/datasets/karina-16S/data...   reverse\n",
      "4  S210421121675  /mnt/nupeb/rede-micro/datasets/karina-16S/data...   forward\n",
      "148\n"
     ]
    }
   ],
   "source": [
    "# Extract mmanifest from CSV\n",
    "df = pd.read_csv(manifest_path, usecols=lambda c: not c.startswith('Unnamed'))\n",
    "print(df.head())\n",
    "\n",
    "# Extract paths list from DataFrame\n",
    "paths = df['absolute-filepath'].to_list()\n",
    "print(len(paths))"
   ]
  },
  {
   "cell_type": "code",
   "execution_count": null,
   "id": "094dcd8f",
   "metadata": {},
   "outputs": [],
   "source": []
  },
  {
   "cell_type": "code",
   "execution_count": 5,
   "id": "dd38c521",
   "metadata": {},
   "outputs": [
    {
     "name": "stdout",
     "output_type": "stream",
     "text": [
      "148\n"
     ]
    }
   ],
   "source": [
    "# Transform paths list - change prefix\n",
    "f_names = [ os.path.join(fastq_dataset_path, p.split('/')[-1]) for p in paths ]\n",
    "f_names = pd.Series(f_names).astype(str)\n",
    "print(len(f_names))"
   ]
  },
  {
   "cell_type": "code",
   "execution_count": 6,
   "id": "8468797e",
   "metadata": {},
   "outputs": [],
   "source": [
    "# Load new paths to DataFrame\n",
    "df.loc[:, 'absolute-filepath'] = f_names\n",
    "\n",
    "# Load DataFrame to CSV file\n",
    "df.to_csv(manifest_path, index=False)"
   ]
  }
 ],
 "metadata": {
  "kernelspec": {
   "display_name": "Python 3 (ipykernel)",
   "language": "python",
   "name": "python3"
  },
  "language_info": {
   "codemirror_mode": {
    "name": "ipython",
    "version": 3
   },
   "file_extension": ".py",
   "mimetype": "text/x-python",
   "name": "python",
   "nbconvert_exporter": "python",
   "pygments_lexer": "ipython3",
   "version": "3.8.16"
  }
 },
 "nbformat": 4,
 "nbformat_minor": 5
}
