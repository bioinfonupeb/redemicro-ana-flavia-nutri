{
 "cells": [
  {
   "cell_type": "code",
   "execution_count": 1,
   "id": "adbf12f2",
   "metadata": {},
   "outputs": [],
   "source": [
    "import os\n",
    "import yaml"
   ]
  },
  {
   "cell_type": "code",
   "execution_count": 2,
   "id": "085cdea6",
   "metadata": {},
   "outputs": [
    {
     "name": "stdout",
     "output_type": "stream",
     "text": [
      "/mnt/nupeb/rede-micro/redemicro-ana-flavia-nutri/params\n",
      "ana-flavia-all.yaml\n",
      "ana-flavia-HSD-NCxHSD-NR-trim.yaml\n",
      "ana-flavia-HSD-NCxHSD-NR.yaml\n",
      "ana-flavia-NCxHSD-NC-trim.yaml\n",
      "ana-flavia-NCxNR-trim.yaml\n",
      "ana-flavia-NCxNR.yaml\n",
      "ana-flavia-NCxSTD-NC-trim.yaml\n",
      "ana-flavia-NRxHSD-NR-trim.yaml\n",
      "ana-flavia-NRxSTD-NR-trim.yaml\n",
      "ana-flavia-STD-NCxHSD-NC-trim.yaml\n",
      "ana-flavia-STD-NCxSTD-NR-trim.yaml\n",
      "ana-flavia-STD-NCxSTD-NR.yaml\n",
      "ana-flavia-STD-NRxHSD-NR-trim.yaml\n",
      "edited-ana-flavia-HSD-NCxHSD-NR-trim.yaml\n",
      "edited-ana-flavia-NCxHSD-NC-trim.yaml\n",
      "edited-ana-flavia-NCxNR-trim.yaml\n",
      "edited-ana-flavia-NCxSTD-NC-trim.yaml\n",
      "edited-ana-flavia-NRxHSD-NR-trim.yaml\n",
      "edited-ana-flavia-NRxSTD-NR-trim.yaml\n",
      "edited-ana-flavia-STD-NCxHSD-NC-trim.yaml\n",
      "edited-ana-flavia-STD-NCxSTD-NR-trim.yaml\n",
      "edited-ana-flavia-STD-NRxHSD-NR-trim.yaml\n",
      "edited-edited-ana-flavia-HSD-NCxHSD-NR-trim.yaml\n",
      "process-params-paths-prefix.ipynb\n"
     ]
    }
   ],
   "source": [
    "!pwd\n",
    "!ls"
   ]
  },
  {
   "cell_type": "code",
   "execution_count": 3,
   "id": "f118c061",
   "metadata": {},
   "outputs": [],
   "source": [
    "old_path_prefix = '/home/lauro'\n",
    "new_path_prefix = '/mnt'\n",
    "dataset_prefix = '/mnt/nupeb/rede-micro/datasets/16S_classifiers_qiime2'"
   ]
  },
  {
   "cell_type": "code",
   "execution_count": 4,
   "id": "e1bef6e3",
   "metadata": {},
   "outputs": [],
   "source": [
    "def extract_fnames():\n",
    "    ''' Extract file list from OS '''\n",
    "    file_list = !ls *trim.yaml\n",
    "    return file_list\n",
    "    \n",
    "def extract_yaml(fname):\n",
    "    ''' Extract dict from YAML file  '''\n",
    "    with open(fname, 'r') as f:\n",
    "        y = yaml.safe_load(f)\n",
    "        print(y)\n",
    "        return y\n",
    "\n",
    "def load_new_yaml(fname, new_data):\n",
    "    ''' Load new dict to YAML file  '''\n",
    "    with open(fname, 'w') as f:\n",
    "        yaml.dump(new_data, f, default_flow_style=False)"
   ]
  },
  {
   "cell_type": "code",
   "execution_count": 5,
   "id": "689091bf",
   "metadata": {},
   "outputs": [
    {
     "name": "stdout",
     "output_type": "stream",
     "text": [
      "20\n"
     ]
    }
   ],
   "source": [
    "#Extract file list from OS\n",
    "file_list = extract_fnames()\n",
    "file_list.append('ana-flavia-all.yaml')\n",
    "print(len(file_list))"
   ]
  },
  {
   "cell_type": "code",
   "execution_count": 6,
   "id": "010ae2ea",
   "metadata": {},
   "outputs": [
    {
     "name": "stdout",
     "output_type": "stream",
     "text": [
      "Processing ana-flavia-HSD-NCxHSD-NR-trim.yaml\n",
      "{'experiment_name': 'ana-flavia-HSD-NCxHSD-NR', 'base_dir': '/home/lauro/nupeb/rede-micro/redemicro-ana-flavia-nutri', 'manifest_file': '/home/lauro/nupeb/rede-micro/redemicro-ana-flavia-nutri/data/raw/manifest/manifest-ana-flavia-HSD-NCxHSD-NR.csv', 'metadata_file': '/home/lauro/nupeb/rede-micro/redemicro-ana-flavia-nutri/data/raw/metadata/metadata-ana-flavia-HSD-NCxHSD-NR.tsv', 'class_col': 'group-id', 'classifier_file': '/home/lauro/nupeb/rede-micro/models/silva-138-99-nb-classifier.qza', 'top_n': 20, 'replace_files': False, 'phred': 20, 'trunc_f': 0, 'trunc_r': 0, 'overlap': 12, 'threads': 6, 'trim': {'overlap': 8, 'forward_primer': 'CCTACGGGRSGCAGCAG', 'reverse_primer': 'GGACTACHVGGGTWTCTAAT'}}\n",
      "Processing ana-flavia-NCxHSD-NC-trim.yaml\n",
      "{'experiment_name': 'ana-flavia-NCxHSD-NC-trim', 'base_dir': '/home/lauro/nupeb/rede-micro/redemicro-ana-flavia-nutri', 'manifest_file': '/home/lauro/nupeb/rede-micro/redemicro-ana-flavia-nutri/data/raw/manifest/manifest-ana-flavia-NCxHSD-NC.csv', 'metadata_file': '/home/lauro/nupeb/rede-micro/redemicro-ana-flavia-nutri/data/raw/metadata/metadata-ana-flavia-NCxHSD-NC.tsv', 'class_col': 'group-id', 'classifier_file': '/home/lauro/nupeb/rede-micro/models/silva-138-99-nb-classifier.qza', 'top_n': 20, 'replace_files': False, 'phred': 20, 'trunc_f': 0, 'trunc_r': 0, 'overlap': 12, 'threads': 6, 'trim': {'overlap': 8, 'forward_primer': 'CCTACGGGRSGCAGCAG', 'reverse_primer': 'GGACTACHVGGGTWTCTAAT'}}\n",
      "Processing ana-flavia-NCxNR-trim.yaml\n",
      "{'experiment_name': 'ana-flavia-NCxNR-trim', 'base_dir': '/home/lauro/nupeb/rede-micro/redemicro-ana-flavia-nutri', 'manifest_file': '/home/lauro/nupeb/rede-micro/redemicro-ana-flavia-nutri/data/raw/manifest/manifest-ana-flavia-NCxNR.csv', 'metadata_file': '/home/lauro/nupeb/rede-micro/redemicro-ana-flavia-nutri/data/raw/metadata/metadata-ana-flavia-NCxNR.tsv', 'class_col': 'group-id', 'classifier_file': '/home/lauro/nupeb/rede-micro/models/silva-138-99-nb-classifier.qza', 'top_n': 20, 'replace_files': False, 'phred': 20, 'trunc_f': 0, 'trunc_r': 0, 'overlap': 12, 'threads': 6, 'trim': {'overlap': 8, 'forward_primer': 'CCTACGGGRSGCAGCAG', 'reverse_primer': 'GGACTACHVGGGTWTCTAAT'}}\n",
      "Processing ana-flavia-NCxSTD-NC-trim.yaml\n",
      "{'experiment_name': 'ana-flavia-NCxSTD-NC-trim', 'base_dir': '/home/lauro/nupeb/rede-micro/redemicro-ana-flavia-nutri', 'manifest_file': '/home/lauro/nupeb/rede-micro/redemicro-ana-flavia-nutri/data/raw/manifest/manifest-ana-flavia-NCxSTD-NC.csv', 'metadata_file': '/home/lauro/nupeb/rede-micro/redemicro-ana-flavia-nutri/data/raw/metadata/metadata-ana-flavia-NCxSTD-NC.tsv', 'class_col': 'group-id', 'classifier_file': '/home/lauro/nupeb/rede-micro/models/silva-138-99-nb-classifier.qza', 'top_n': 20, 'replace_files': False, 'phred': 20, 'trunc_f': 0, 'trunc_r': 0, 'overlap': 12, 'threads': 6, 'trim': {'overlap': 8, 'forward_primer': 'CCTACGGGRSGCAGCAG', 'reverse_primer': 'GGACTACHVGGGTWTCTAAT'}}\n",
      "Processing ana-flavia-NRxHSD-NR-trim.yaml\n",
      "{'experiment_name': 'ana-flavia-NRxHSD-NR-trim', 'base_dir': '/home/lauro/nupeb/rede-micro/redemicro-ana-flavia-nutri', 'manifest_file': '/home/lauro/nupeb/rede-micro/redemicro-ana-flavia-nutri/data/raw/manifest/manifest-ana-flavia-NRxHSD-NR.csv', 'metadata_file': '/home/lauro/nupeb/rede-micro/redemicro-ana-flavia-nutri/data/raw/metadata/metadata-ana-flavia-NRxHSD-NR.tsv', 'class_col': 'group-id', 'classifier_file': '/home/lauro/nupeb/rede-micro/models/silva-138-99-nb-classifier.qza', 'top_n': 20, 'replace_files': False, 'phred': 20, 'trunc_f': 0, 'trunc_r': 0, 'overlap': 12, 'threads': 6, 'trim': {'overlap': 8, 'forward_primer': 'CCTACGGGRSGCAGCAG', 'reverse_primer': 'GGACTACHVGGGTWTCTAAT'}}\n",
      "Processing ana-flavia-NRxSTD-NR-trim.yaml\n",
      "{'experiment_name': 'ana-flavia-NRxSTD-NR-trim', 'base_dir': '/home/lauro/nupeb/rede-micro/redemicro-ana-flavia-nutri', 'manifest_file': '/home/lauro/nupeb/rede-micro/redemicro-ana-flavia-nutri/data/raw/manifest/manifest-ana-flavia-NRxSTD-NR.csv', 'metadata_file': '/home/lauro/nupeb/rede-micro/redemicro-ana-flavia-nutri/data/raw/metadata/metadata-ana-flavia-NRxSTD-NR.tsv', 'class_col': 'group-id', 'classifier_file': '/home/lauro/nupeb/rede-micro/models/silva-138-99-nb-classifier.qza', 'top_n': 20, 'replace_files': False, 'phred': 20, 'trunc_f': 0, 'trunc_r': 0, 'overlap': 12, 'threads': 6, 'trim': {'overlap': 8, 'forward_primer': 'CCTACGGGRSGCAGCAG', 'reverse_primer': 'GGACTACHVGGGTWTCTAAT'}}\n",
      "Processing ana-flavia-STD-NCxHSD-NC-trim.yaml\n",
      "{'experiment_name': 'ana-flavia-STD-NCxHSD-NC-trim', 'base_dir': '/home/lauro/nupeb/rede-micro/redemicro-ana-flavia-nutri', 'manifest_file': '/home/lauro/nupeb/rede-micro/redemicro-ana-flavia-nutri/data/raw/manifest/manifest-ana-flavia-STD-NCxHSD-NC.csv', 'metadata_file': '/home/lauro/nupeb/rede-micro/redemicro-ana-flavia-nutri/data/raw/metadata/metadata-ana-flavia-STD-NCxHSD-NC.tsv', 'class_col': 'group-id', 'classifier_file': '/home/lauro/nupeb/rede-micro/models/silva-138-99-nb-classifier.qza', 'top_n': 20, 'replace_files': False, 'trunc_f': 0, 'trunc_r': 0, 'overlap': 12, 'threads': 6, 'trim': {'overlap': 8, 'forward_primer': 'CCTACGGGRSGCAGCAG', 'reverse_primer': 'GGACTACHVGGGTWTCTAAT'}}\n",
      "Processing ana-flavia-STD-NCxSTD-NR-trim.yaml\n",
      "{'experiment_name': 'ana-flavia-STD-NCxSTD-NR-trim', 'base_dir': '/home/lauro/nupeb/rede-micro/redemicro-ana-flavia-nutri', 'manifest_file': '/home/lauro/nupeb/rede-micro/redemicro-ana-flavia-nutri/data/raw/manifest/manifest-ana-flavia-STD-NCxSTD-NR.csv', 'metadata_file': '/home/lauro/nupeb/rede-micro/redemicro-ana-flavia-nutri/data/raw/metadata/metadata-ana-flavia-STD-NCxSTD-NR.tsv', 'class_col': 'group-id', 'classifier_file': '/home/lauro/nupeb/rede-micro/models/silva-138-99-nb-classifier.qza', 'top_n': 20, 'replace_files': False, 'phred': 20, 'trunc_f': 0, 'trunc_r': 0, 'overlap': 12, 'threads': 6, 'trim': {'overlap': 8, 'forward_primer': 'CCTACGGGRSGCAGCAG', 'reverse_primer': 'GGACTACHVGGGTWTCTAAT'}}\n",
      "Processing ana-flavia-STD-NRxHSD-NR-trim.yaml\n",
      "{'experiment_name': 'ana-flavia-STD-NRxHSD-NR-trim', 'base_dir': '/home/lauro/nupeb/rede-micro/redemicro-ana-flavia-nutri', 'manifest_file': '/home/lauro/nupeb/rede-micro/redemicro-ana-flavia-nutri/data/raw/manifest/manifest-ana-flavia-STD-NRxHSD-NR.csv', 'metadata_file': '/home/lauro/nupeb/rede-micro/redemicro-ana-flavia-nutri/data/raw/metadata/metadata-ana-flavia-STD-NRxHSD-NR.tsv', 'class_col': 'group-id', 'classifier_file': '/home/lauro/nupeb/rede-micro/models/silva-138-99-nb-classifier.qza', 'top_n': 20, 'replace_files': False, 'phred': 20, 'trunc_f': 0, 'trunc_r': 0, 'overlap': 12, 'threads': 6, 'trim': {'overlap': 8, 'forward_primer': 'CCTACGGGRSGCAGCAG', 'reverse_primer': 'GGACTACHVGGGTWTCTAAT'}}\n",
      "Processing edited-ana-flavia-HSD-NCxHSD-NR-trim.yaml\n",
      "{'base_dir': '/mnt/nupeb/rede-micro/redemicro-ana-flavia-nutri', 'class_col': 'group-id', 'classifier_file': '/mnt/nupeb/rede-micro/datasets/16S_classifiers_qiime2/silva-138-99-nb-classifier.qza', 'experiment_name': 'ana-flavia-HSD-NCxHSD-NR', 'manifest_file': '/mnt/nupeb/rede-micro/redemicro-ana-flavia-nutri/data/raw/manifest/manifest-ana-flavia-HSD-NCxHSD-NR.csv', 'metadata_file': '/mnt/nupeb/rede-micro/redemicro-ana-flavia-nutri/data/raw/metadata/metadata-ana-flavia-HSD-NCxHSD-NR.tsv', 'overlap': 12, 'phred': 20, 'replace_files': False, 'threads': 6, 'top_n': 20, 'trim': {'forward_primer': 'CCTACGGGRSGCAGCAG', 'overlap': 8, 'reverse_primer': 'GGACTACHVGGGTWTCTAAT'}, 'trunc_f': 0, 'trunc_r': 0}\n",
      "Processing edited-ana-flavia-NCxHSD-NC-trim.yaml\n",
      "{'base_dir': '/mnt/nupeb/rede-micro/redemicro-ana-flavia-nutri', 'class_col': 'group-id', 'classifier_file': '/mnt/nupeb/rede-micro/datasets/16S_classifiers_qiime2/silva-138-99-nb-classifier.qza', 'experiment_name': 'ana-flavia-NCxHSD-NC-trim', 'manifest_file': '/mnt/nupeb/rede-micro/redemicro-ana-flavia-nutri/data/raw/manifest/manifest-ana-flavia-NCxHSD-NC.csv', 'metadata_file': '/mnt/nupeb/rede-micro/redemicro-ana-flavia-nutri/data/raw/metadata/metadata-ana-flavia-NCxHSD-NC.tsv', 'overlap': 12, 'phred': 20, 'replace_files': False, 'threads': 6, 'top_n': 20, 'trim': {'forward_primer': 'CCTACGGGRSGCAGCAG', 'overlap': 8, 'reverse_primer': 'GGACTACHVGGGTWTCTAAT'}, 'trunc_f': 0, 'trunc_r': 0}\n",
      "Processing edited-ana-flavia-NCxNR-trim.yaml\n",
      "{'base_dir': '/mnt/nupeb/rede-micro/redemicro-ana-flavia-nutri', 'class_col': 'group-id', 'classifier_file': '/mnt/nupeb/rede-micro/datasets/16S_classifiers_qiime2/silva-138-99-nb-classifier.qza', 'experiment_name': 'ana-flavia-NCxNR-trim', 'manifest_file': '/mnt/nupeb/rede-micro/redemicro-ana-flavia-nutri/data/raw/manifest/manifest-ana-flavia-NCxNR.csv', 'metadata_file': '/mnt/nupeb/rede-micro/redemicro-ana-flavia-nutri/data/raw/metadata/metadata-ana-flavia-NCxNR.tsv', 'overlap': 12, 'phred': 20, 'replace_files': False, 'threads': 6, 'top_n': 20, 'trim': {'forward_primer': 'CCTACGGGRSGCAGCAG', 'overlap': 8, 'reverse_primer': 'GGACTACHVGGGTWTCTAAT'}, 'trunc_f': 0, 'trunc_r': 0}\n",
      "Processing edited-ana-flavia-NCxSTD-NC-trim.yaml\n",
      "{'base_dir': '/mnt/nupeb/rede-micro/redemicro-ana-flavia-nutri', 'class_col': 'group-id', 'classifier_file': '/mnt/nupeb/rede-micro/datasets/16S_classifiers_qiime2/silva-138-99-nb-classifier.qza', 'experiment_name': 'ana-flavia-NCxSTD-NC-trim', 'manifest_file': '/mnt/nupeb/rede-micro/redemicro-ana-flavia-nutri/data/raw/manifest/manifest-ana-flavia-NCxSTD-NC.csv', 'metadata_file': '/mnt/nupeb/rede-micro/redemicro-ana-flavia-nutri/data/raw/metadata/metadata-ana-flavia-NCxSTD-NC.tsv', 'overlap': 12, 'phred': 20, 'replace_files': False, 'threads': 6, 'top_n': 20, 'trim': {'forward_primer': 'CCTACGGGRSGCAGCAG', 'overlap': 8, 'reverse_primer': 'GGACTACHVGGGTWTCTAAT'}, 'trunc_f': 0, 'trunc_r': 0}\n",
      "Processing edited-ana-flavia-NRxHSD-NR-trim.yaml\n",
      "{'base_dir': '/mnt/nupeb/rede-micro/redemicro-ana-flavia-nutri', 'class_col': 'group-id', 'classifier_file': '/mnt/nupeb/rede-micro/datasets/16S_classifiers_qiime2/silva-138-99-nb-classifier.qza', 'experiment_name': 'ana-flavia-NRxHSD-NR-trim', 'manifest_file': '/mnt/nupeb/rede-micro/redemicro-ana-flavia-nutri/data/raw/manifest/manifest-ana-flavia-NRxHSD-NR.csv', 'metadata_file': '/mnt/nupeb/rede-micro/redemicro-ana-flavia-nutri/data/raw/metadata/metadata-ana-flavia-NRxHSD-NR.tsv', 'overlap': 12, 'phred': 20, 'replace_files': False, 'threads': 6, 'top_n': 20, 'trim': {'forward_primer': 'CCTACGGGRSGCAGCAG', 'overlap': 8, 'reverse_primer': 'GGACTACHVGGGTWTCTAAT'}, 'trunc_f': 0, 'trunc_r': 0}\n",
      "Processing edited-ana-flavia-NRxSTD-NR-trim.yaml\n",
      "{'base_dir': '/mnt/nupeb/rede-micro/redemicro-ana-flavia-nutri', 'class_col': 'group-id', 'classifier_file': '/mnt/nupeb/rede-micro/datasets/16S_classifiers_qiime2/silva-138-99-nb-classifier.qza', 'experiment_name': 'ana-flavia-NRxSTD-NR-trim', 'manifest_file': '/mnt/nupeb/rede-micro/redemicro-ana-flavia-nutri/data/raw/manifest/manifest-ana-flavia-NRxSTD-NR.csv', 'metadata_file': '/mnt/nupeb/rede-micro/redemicro-ana-flavia-nutri/data/raw/metadata/metadata-ana-flavia-NRxSTD-NR.tsv', 'overlap': 12, 'phred': 20, 'replace_files': False, 'threads': 6, 'top_n': 20, 'trim': {'forward_primer': 'CCTACGGGRSGCAGCAG', 'overlap': 8, 'reverse_primer': 'GGACTACHVGGGTWTCTAAT'}, 'trunc_f': 0, 'trunc_r': 0}\n",
      "Processing edited-ana-flavia-STD-NCxHSD-NC-trim.yaml\n",
      "{'base_dir': '/mnt/nupeb/rede-micro/redemicro-ana-flavia-nutri', 'class_col': 'group-id', 'classifier_file': '/mnt/nupeb/rede-micro/datasets/16S_classifiers_qiime2/silva-138-99-nb-classifier.qza', 'experiment_name': 'ana-flavia-STD-NCxHSD-NC-trim', 'manifest_file': '/mnt/nupeb/rede-micro/redemicro-ana-flavia-nutri/data/raw/manifest/manifest-ana-flavia-STD-NCxHSD-NC.csv', 'metadata_file': '/mnt/nupeb/rede-micro/redemicro-ana-flavia-nutri/data/raw/metadata/metadata-ana-flavia-STD-NCxHSD-NC.tsv', 'overlap': 12, 'replace_files': False, 'threads': 6, 'top_n': 20, 'trim': {'forward_primer': 'CCTACGGGRSGCAGCAG', 'overlap': 8, 'reverse_primer': 'GGACTACHVGGGTWTCTAAT'}, 'trunc_f': 0, 'trunc_r': 0}\n",
      "Processing edited-ana-flavia-STD-NCxSTD-NR-trim.yaml\n",
      "{'base_dir': '/mnt/nupeb/rede-micro/redemicro-ana-flavia-nutri', 'class_col': 'group-id', 'classifier_file': '/mnt/nupeb/rede-micro/datasets/16S_classifiers_qiime2/silva-138-99-nb-classifier.qza', 'experiment_name': 'ana-flavia-STD-NCxSTD-NR-trim', 'manifest_file': '/mnt/nupeb/rede-micro/redemicro-ana-flavia-nutri/data/raw/manifest/manifest-ana-flavia-STD-NCxSTD-NR.csv', 'metadata_file': '/mnt/nupeb/rede-micro/redemicro-ana-flavia-nutri/data/raw/metadata/metadata-ana-flavia-STD-NCxSTD-NR.tsv', 'overlap': 12, 'phred': 20, 'replace_files': False, 'threads': 6, 'top_n': 20, 'trim': {'forward_primer': 'CCTACGGGRSGCAGCAG', 'overlap': 8, 'reverse_primer': 'GGACTACHVGGGTWTCTAAT'}, 'trunc_f': 0, 'trunc_r': 0}\n",
      "Processing edited-ana-flavia-STD-NRxHSD-NR-trim.yaml\n",
      "{'base_dir': '/mnt/nupeb/rede-micro/redemicro-ana-flavia-nutri', 'class_col': 'group-id', 'classifier_file': '/mnt/nupeb/rede-micro/datasets/16S_classifiers_qiime2/silva-138-99-nb-classifier.qza', 'experiment_name': 'ana-flavia-STD-NRxHSD-NR-trim', 'manifest_file': '/mnt/nupeb/rede-micro/redemicro-ana-flavia-nutri/data/raw/manifest/manifest-ana-flavia-STD-NRxHSD-NR.csv', 'metadata_file': '/mnt/nupeb/rede-micro/redemicro-ana-flavia-nutri/data/raw/metadata/metadata-ana-flavia-STD-NRxHSD-NR.tsv', 'overlap': 12, 'phred': 20, 'replace_files': False, 'threads': 6, 'top_n': 20, 'trim': {'forward_primer': 'CCTACGGGRSGCAGCAG', 'overlap': 8, 'reverse_primer': 'GGACTACHVGGGTWTCTAAT'}, 'trunc_f': 0, 'trunc_r': 0}\n",
      "Processing edited-edited-ana-flavia-HSD-NCxHSD-NR-trim.yaml\n",
      "{'base_dir': '/mnt/nupeb/rede-micro/redemicro-ana-flavia-nutri', 'class_col': 'group-id', 'classifier_file': '/mnt/nupeb/rede-micro/datasets/16S_classifiers_qiime2/silva-138-99-nb-classifier.qza', 'experiment_name': 'ana-flavia-HSD-NCxHSD-NR', 'manifest_file': '/mnt/nupeb/rede-micro/redemicro-ana-flavia-nutri/data/raw/manifest/manifest-ana-flavia-HSD-NCxHSD-NR.csv', 'metadata_file': '/mnt/nupeb/rede-micro/redemicro-ana-flavia-nutri/data/raw/metadata/metadata-ana-flavia-HSD-NCxHSD-NR.tsv', 'overlap': 12, 'phred': 20, 'replace_files': False, 'threads': 6, 'top_n': 20, 'trim': {'forward_primer': 'CCTACGGGRSGCAGCAG', 'overlap': 8, 'reverse_primer': 'GGACTACHVGGGTWTCTAAT'}, 'trunc_f': 0, 'trunc_r': 0}\n",
      "Processing ana-flavia-all.yaml\n",
      "{'experiment_name': 'ana-flavia-all', 'base_dir': '/mnt/nupeb/rede-micro/redemicro-ana-flavia-nutri', 'manifest_file': '/mnt/nupeb/rede-micro/redemicro-ana-flavia-nutri/data/raw/manifest-all-ana.csv', 'metadata_file': '/mnt/nupeb/rede-micro/redemicro-ana-flavia-nutri/data/raw/metadata-all-ana.tsv', 'class_col': 'group-id', 'classifier_file': '/mnt/nupeb/rede-micro/models/silva-138-99-nb-classifier.qza', 'top_n': 20, 'replace_files': False, 'phred': 20, 'trunc_f': 0, 'trunc_r': 0, 'overlap': 12, 'threads': 6, 'trim': {'overlap': 8, 'forward_primer': 'CCTACGGGRSGCAGCAG', 'reverse_primer': 'GGACTACHVGGGTWTCTAAT'}}\n"
     ]
    }
   ],
   "source": [
    "for f in file_list:\n",
    "    print(f\"Processing {f}\")\n",
    "    \n",
    "    # Transform prefix paths\n",
    "    yaml_file = extract_yaml(f)\n",
    "    for k, v in yaml_file.items():\n",
    "        new_path = None\n",
    "        \n",
    "        if type(v)==str and v.endswith('classifier.qza'):\n",
    "            new_path = os.path.join(dataset_prefix, v.split('/')[-1])\n",
    "        elif type(v)==str and v.startswith(old_path_prefix):\n",
    "            \n",
    "            new_path = new_path_prefix + v[len(old_path_prefix):]\n",
    "            \n",
    "        if new_path is not None:\n",
    "#             print(v, new_path, end='\\n\\n', sep='\\n')\n",
    "            yaml_file[k] = new_path\n",
    "\n",
    "    # Load edited file to YAML\n",
    "    load_new_yaml('edited-' + f, yaml_file)"
   ]
  }
 ],
 "metadata": {
  "kernelspec": {
   "display_name": "Python 3 (ipykernel)",
   "language": "python",
   "name": "python3"
  },
  "language_info": {
   "codemirror_mode": {
    "name": "ipython",
    "version": 3
   },
   "file_extension": ".py",
   "mimetype": "text/x-python",
   "name": "python",
   "nbconvert_exporter": "python",
   "pygments_lexer": "ipython3",
   "version": "3.8.16"
  }
 },
 "nbformat": 4,
 "nbformat_minor": 5
}
