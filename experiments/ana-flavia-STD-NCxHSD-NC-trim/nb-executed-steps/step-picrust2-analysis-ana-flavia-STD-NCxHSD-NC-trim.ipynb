{
 "cells": [
  {
   "cell_type": "markdown",
   "id": "0e7f2330",
   "metadata": {
    "ExecuteTime": {
     "end_time": "2022-09-22T19:36:33.828188Z",
     "start_time": "2022-09-22T19:36:33.817323Z"
    },
    "papermill": {
     "duration": 0.037639,
     "end_time": "2023-06-07T15:03:05.418434",
     "exception": false,
     "start_time": "2023-06-07T15:03:05.380795",
     "status": "completed"
    },
    "tags": []
   },
   "source": [
    "### STEP : PICRUST2 Analysis\n",
    "\n",
    "\n",
    "\n",
    "#### Example\n",
    "\n",
    "- [PICRUST2 tutorial](https://github.com/picrust/picrust2/wiki/q2-picrust2-Tutorial)\n",
    "- [Limitations](https://github.com/picrust/picrust2/wiki/Key-Limitations)\n",
    "\n",
    "\n",
    "#### Methods\n",
    "- [composition](https://docs.qiime2.org/2022.8/plugins/available/composition/)"
   ]
  },
  {
   "cell_type": "markdown",
   "id": "843debbf",
   "metadata": {
    "papermill": {
     "duration": 0.047382,
     "end_time": "2023-06-07T15:03:05.494693",
     "exception": false,
     "start_time": "2023-06-07T15:03:05.447311",
     "status": "completed"
    },
    "tags": []
   },
   "source": [
    "## Setup and settings"
   ]
  },
  {
   "cell_type": "code",
   "execution_count": 1,
   "id": "965e28e5",
   "metadata": {
    "ExecuteTime": {
     "end_time": "2022-11-09T19:20:47.478806Z",
     "start_time": "2022-11-09T19:20:40.457657Z"
    },
    "execution": {
     "iopub.execute_input": "2023-06-07T15:03:05.646862Z",
     "iopub.status.busy": "2023-06-07T15:03:05.646011Z",
     "iopub.status.idle": "2023-06-07T15:03:12.531818Z",
     "shell.execute_reply": "2023-06-07T15:03:12.532207Z"
    },
    "papermill": {
     "duration": 6.967189,
     "end_time": "2023-06-07T15:03:12.532409",
     "exception": false,
     "start_time": "2023-06-07T15:03:05.565220",
     "status": "completed"
    },
    "tags": []
   },
   "outputs": [],
   "source": [
    "# Importing packages\n",
    "import os\n",
    "import biom\n",
    "import pandas as pd\n",
    "from qiime2 import Artifact\n",
    "from qiime2 import Visualization\n",
    "from qiime2 import Metadata\n",
    "\n",
    "from qiime2.plugins.feature_table.visualizers import summarize\n",
    "\n",
    "from picrust2.pipeline import full_pipeline\n",
    "from picrust2.default import (default_ref_dir, default_tables, default_regroup_map, default_pathway_map)\n",
    "from qiime2.plugins import picrust2\n",
    "\n",
    "%matplotlib inline"
   ]
  },
  {
   "cell_type": "markdown",
   "id": "530ceb60",
   "metadata": {
    "papermill": {
     "duration": 0.024612,
     "end_time": "2023-06-07T15:03:12.581823",
     "exception": false,
     "start_time": "2023-06-07T15:03:12.557211",
     "status": "completed"
    },
    "tags": []
   },
   "source": [
    "### Receiving the parameters\n",
    "\n",
    "The following cell can receive parameters using the [papermill](https://papermill.readthedocs.io/en/latest/) tool."
   ]
  },
  {
   "cell_type": "code",
   "execution_count": 2,
   "id": "18d874ea",
   "metadata": {
    "ExecuteTime": {
     "end_time": "2022-11-09T19:20:47.483140Z",
     "start_time": "2022-11-09T19:20:47.480386Z"
    },
    "execution": {
     "iopub.execute_input": "2023-06-07T15:03:12.636091Z",
     "iopub.status.busy": "2023-06-07T15:03:12.635611Z",
     "iopub.status.idle": "2023-06-07T15:03:12.638770Z",
     "shell.execute_reply": "2023-06-07T15:03:12.638385Z"
    },
    "papermill": {
     "duration": 0.032488,
     "end_time": "2023-06-07T15:03:12.638854",
     "exception": false,
     "start_time": "2023-06-07T15:03:12.606366",
     "status": "completed"
    },
    "tags": [
     "parameters"
    ]
   },
   "outputs": [],
   "source": [
    "metadata_file = '/home/lauro/nupeb/rede-micro/redemicro-miliane-nutri/data/raw/metadata/miliane-metadata-CxAC.tsv'\n",
    "base_dir = os.path.join('/', 'home', 'lauro', 'nupeb', 'rede-micro', 'redemicro-miliane-nutri')\n",
    "experiment_name = 'miliane-CxAC-trim'\n",
    "class_col = 'group-id'\n",
    "replace_files = False"
   ]
  },
  {
   "cell_type": "code",
   "execution_count": 3,
   "id": "ec3d30d9",
   "metadata": {
    "execution": {
     "iopub.execute_input": "2023-06-07T15:03:12.696842Z",
     "iopub.status.busy": "2023-06-07T15:03:12.696385Z",
     "iopub.status.idle": "2023-06-07T15:03:12.699248Z",
     "shell.execute_reply": "2023-06-07T15:03:12.699602Z"
    },
    "papermill": {
     "duration": 0.033873,
     "end_time": "2023-06-07T15:03:12.699704",
     "exception": false,
     "start_time": "2023-06-07T15:03:12.665831",
     "status": "completed"
    },
    "tags": [
     "injected-parameters"
    ]
   },
   "outputs": [],
   "source": [
    "# Parameters\n",
    "experiment_name = \"ana-flavia-STD-NCxHSD-NC-trim\"\n",
    "base_dir = \"/home/lauro/nupeb/rede-micro/redemicro-ana-flavia-nutri\"\n",
    "manifest_file = \"/home/lauro/nupeb/rede-micro/redemicro-ana-flavia-nutri/data/raw/manifest/manifest-ana-flavia-STD-NCxHSD-NC.csv\"\n",
    "metadata_file = \"/home/lauro/nupeb/rede-micro/redemicro-ana-flavia-nutri/data/raw/metadata/metadata-ana-flavia-STD-NCxHSD-NC.tsv\"\n",
    "class_col = \"group-id\"\n",
    "classifier_file = \"/home/lauro/nupeb/rede-micro/models/silva-138-99-nb-classifier.qza\"\n",
    "top_n = 20\n",
    "replace_files = False\n",
    "trunc_f = 0\n",
    "trunc_r = 0\n",
    "overlap = 12\n",
    "threads = 6\n",
    "trim = {\n",
    "    \"overlap\": 8,\n",
    "    \"forward_primer\": \"CCTACGGGRSGCAGCAG\",\n",
    "    \"reverse_primer\": \"GGACTACHVGGGTWTCTAAT\",\n",
    "}\n"
   ]
  },
  {
   "cell_type": "code",
   "execution_count": 4,
   "id": "f38617d9",
   "metadata": {
    "ExecuteTime": {
     "end_time": "2022-11-09T19:20:47.515942Z",
     "start_time": "2022-11-09T19:20:47.498345Z"
    },
    "execution": {
     "iopub.execute_input": "2023-06-07T15:03:12.756717Z",
     "iopub.status.busy": "2023-06-07T15:03:12.756267Z",
     "iopub.status.idle": "2023-06-07T15:03:12.759494Z",
     "shell.execute_reply": "2023-06-07T15:03:12.759113Z"
    },
    "papermill": {
     "duration": 0.032565,
     "end_time": "2023-06-07T15:03:12.759590",
     "exception": false,
     "start_time": "2023-06-07T15:03:12.727025",
     "status": "completed"
    },
    "tags": []
   },
   "outputs": [],
   "source": [
    "experiment_folder = os.path.abspath(os.path.join(base_dir, 'experiments', experiment_name))\n",
    "img_folder = os.path.abspath(os.path.join(experiment_folder, 'imgs'))"
   ]
  },
  {
   "cell_type": "markdown",
   "id": "ea9b90fb",
   "metadata": {
    "papermill": {
     "duration": 0.024551,
     "end_time": "2023-06-07T15:03:12.811351",
     "exception": false,
     "start_time": "2023-06-07T15:03:12.786800",
     "status": "completed"
    },
    "tags": []
   },
   "source": [
    "### Defining names, paths and flags"
   ]
  },
  {
   "cell_type": "code",
   "execution_count": 5,
   "id": "45727eef",
   "metadata": {
    "ExecuteTime": {
     "end_time": "2022-11-09T19:20:47.527937Z",
     "start_time": "2022-11-09T19:20:47.517696Z"
    },
    "execution": {
     "iopub.execute_input": "2023-06-07T15:03:12.870514Z",
     "iopub.status.busy": "2023-06-07T15:03:12.870059Z",
     "iopub.status.idle": "2023-06-07T15:03:12.874487Z",
     "shell.execute_reply": "2023-06-07T15:03:12.874936Z"
    },
    "papermill": {
     "duration": 0.039198,
     "end_time": "2023-06-07T15:03:12.875070",
     "exception": false,
     "start_time": "2023-06-07T15:03:12.835872",
     "status": "completed"
    },
    "tags": []
   },
   "outputs": [
    {
     "name": "stdout",
     "output_type": "stream",
     "text": [
      "New picrust2-artifacts folder path created: /home/lauro/nupeb/rede-micro/redemicro-ana-flavia-nutri/experiments/ana-flavia-STD-NCxHSD-NC-trim/picrust2\n"
     ]
    }
   ],
   "source": [
    "# QIIME2 Artifacts folder\n",
    "qiime_folder = os.path.join(experiment_folder, 'qiime-artifacts')\n",
    "\n",
    "# Input - DADA2 Artifacts\n",
    "dada2_tabs_path = os.path.join(qiime_folder, 'dada2-tabs.qza')\n",
    "dada2_reqs_path = os.path.join(qiime_folder, 'dada2-reps.qza')\n",
    "\n",
    "# PICRUST@ folder\n",
    "picrust2_folder = os.path.abspath(os.path.join(experiment_folder, 'picrust2'))\n",
    "\n",
    "# Create path if it not exist\n",
    "if not os.path.isdir(picrust2_folder):\n",
    "    os.makedirs(picrust2_folder)\n",
    "    print(f'New picrust2-artifacts folder path created: {picrust2_folder}')"
   ]
  },
  {
   "cell_type": "code",
   "execution_count": 6,
   "id": "4903e645",
   "metadata": {
    "ExecuteTime": {
     "end_time": "2022-11-09T19:20:47.539993Z",
     "start_time": "2022-11-09T19:20:47.529653Z"
    },
    "execution": {
     "iopub.execute_input": "2023-06-07T15:03:12.938515Z",
     "iopub.status.busy": "2023-06-07T15:03:12.938059Z",
     "iopub.status.idle": "2023-06-07T15:03:12.941161Z",
     "shell.execute_reply": "2023-06-07T15:03:12.941486Z"
    },
    "papermill": {
     "duration": 0.037231,
     "end_time": "2023-06-07T15:03:12.941583",
     "exception": false,
     "start_time": "2023-06-07T15:03:12.904352",
     "status": "completed"
    },
    "tags": []
   },
   "outputs": [],
   "source": [
    "# Define paths for metagenome function artifacts\n",
    "ec_path = os.path.join(picrust2_folder, 'ec-pred-metagen.qza')\n",
    "ko_path = os.path.join(picrust2_folder, 'ko-pred-metagen.qza')\n",
    "pathway_path = os.path.join(picrust2_folder, 'pathway-abundance.qza')\n",
    "\n",
    "# Define paths for metagenome function visualization artifacts\n",
    "ec_viz_path = ec_path[:-1]+'v'\n",
    "ko_viz_path = ko_path[:-1]+'v'\n",
    "pathway_viz_path = pathway_path[:-1]+'v'\n",
    "\n",
    "# Define paths for biom -> tsv files (function X sample)\n",
    "pathway_fpath = os.path.join(picrust2_folder, 'pathway.tsv')\n",
    "ec_fpath = os.path.join(picrust2_folder, 'ec.tsv')\n",
    "ko_fpath = os.path.join(picrust2_folder, 'ko.tsv')\n",
    "\n",
    "# Define paths for biom -> tsv files (function X sample) - with descriptions\n",
    "pathway_desc_fpath = os.path.join(picrust2_folder, 'pathway-desc.tsv')\n",
    "ec_desc_fpath = os.path.join(picrust2_folder, 'ec-desc.tsv')\n",
    "ko_desc_fpath = os.path.join(picrust2_folder, 'ko-desc.tsv')"
   ]
  },
  {
   "cell_type": "markdown",
   "id": "0999a1b2",
   "metadata": {
    "papermill": {
     "duration": 0.025342,
     "end_time": "2023-06-07T15:03:12.996165",
     "exception": false,
     "start_time": "2023-06-07T15:03:12.970823",
     "status": "completed"
    },
    "tags": []
   },
   "source": [
    "## Step execution\n",
    "\n",
    "### Load input files\n",
    "\n",
    "This Step import the QIIME2 `FeatureTable[Frequency]` Artifact and the `Metadata` file."
   ]
  },
  {
   "cell_type": "code",
   "execution_count": 7,
   "id": "8f299d1a",
   "metadata": {
    "ExecuteTime": {
     "end_time": "2022-11-09T19:20:47.610793Z",
     "start_time": "2022-11-09T19:20:47.541540Z"
    },
    "execution": {
     "iopub.execute_input": "2023-06-07T15:03:13.052515Z",
     "iopub.status.busy": "2023-06-07T15:03:13.052070Z",
     "iopub.status.idle": "2023-06-07T15:03:13.082027Z",
     "shell.execute_reply": "2023-06-07T15:03:13.081478Z"
    },
    "papermill": {
     "duration": 0.06008,
     "end_time": "2023-06-07T15:03:13.082158",
     "exception": false,
     "start_time": "2023-06-07T15:03:13.022078",
     "status": "completed"
    },
    "tags": []
   },
   "outputs": [],
   "source": [
    "#Load Metadata\n",
    "metadata_qa = Metadata.load(metadata_file)\n",
    "\n",
    "#Load FeatureTable[Frequency]\n",
    "tabs = Artifact.load(dada2_tabs_path)\n",
    "\n",
    "#Load FeatureTable[Sequence]\n",
    "seqs = Artifact.load(dada2_reqs_path)"
   ]
  },
  {
   "cell_type": "markdown",
   "id": "4f1b06d4",
   "metadata": {
    "papermill": {
     "duration": 0.025088,
     "end_time": "2023-06-07T15:03:13.135734",
     "exception": false,
     "start_time": "2023-06-07T15:03:13.110646",
     "status": "completed"
    },
    "tags": []
   },
   "source": [
    "### Execute full pipelie\n",
    "\n",
    "The entire PICRUSt2 pipeline will be run using a single method, called `picrust2.methods.full_pipeline`. This method will run each of the 4 key steps: \n",
    "\n",
    "1. sequence placement\n",
    "2. hidden-state prediction of genomes\n",
    "3. metagenome prediction\n",
    "4. pathway-level predictions.\n",
    "\n",
    "More information on [Documentation](https://github.com/picrust/picrust2/wiki/Full-pipeline-script)."
   ]
  },
  {
   "cell_type": "code",
   "execution_count": 8,
   "id": "2c4f3874",
   "metadata": {
    "ExecuteTime": {
     "end_time": "2022-11-09T19:20:47.642417Z",
     "start_time": "2022-11-09T19:20:47.612547Z"
    },
    "execution": {
     "iopub.execute_input": "2023-06-07T15:03:13.193342Z",
     "iopub.status.busy": "2023-06-07T15:03:13.192913Z",
     "iopub.status.idle": "2023-06-07T15:10:27.221237Z",
     "shell.execute_reply": "2023-06-07T15:10:27.222073Z"
    },
    "papermill": {
     "duration": 434.061566,
     "end_time": "2023-06-07T15:10:27.222347",
     "exception": false,
     "start_time": "2023-06-07T15:03:13.160781",
     "status": "completed"
    },
    "scrolled": true,
    "tags": []
   },
   "outputs": [
    {
     "name": "stderr",
     "output_type": "stream",
     "text": [
      "1061 of 1061 sequence ids overlap between input table and FASTA.\n",
      "\n",
      "Placing sequences onto reference tree\n",
      "place_seqs.py --study_fasta /tmp/tmperduokhn/seqs.fna --ref_dir /home/lauro/anaconda3/envs/qiime2-2021.11/lib/python3.8/site-packages/picrust2/default_files/prokaryotic/pro_ref --out_tree /tmp/tmperduokhn/picrust2_out/out.tre --processes 6 --intermediate /tmp/tmperduokhn/picrust2_out/intermediate/place_seqs --min_align 0.8 --chunk_size 5000 --placement_tool sepp --verbose\n"
     ]
    },
    {
     "name": "stdout",
     "output_type": "stream",
     "text": [
      "\n",
      "['run_sepp.py', '--tree', '/home/lauro/anaconda3/envs/qiime2-2021.11/lib/python3.8/site-packages/picrust2/default_files/prokaryotic/pro_ref/pro_ref.tre', '--raxml', '/home/lauro/anaconda3/envs/qiime2-2021.11/lib/python3.8/site-packages/picrust2/default_files/prokaryotic/pro_ref/pro_ref.raxml_info', '--cpu', '6', '--molecule', 'dna', '--outdir', '/tmp/tmperduokhn/picrust2_out/intermediate/place_seqs/sepp_out', '-seed', '297834', '--alignment', '/home/lauro/anaconda3/envs/qiime2-2021.11/lib/python3.8/site-packages/picrust2/default_files/prokaryotic/pro_ref/pro_ref.fna', '--fragment', '/tmp/tmperduokhn/picrust2_out/intermediate/place_seqs/study_seqs_filtered.fasta']\n",
      "\n",
      "                                              ....      ....  \n",
      "                                             '' '||.   .||'   \n",
      "                                                  ||  ||      \n",
      "                                                  '|.|'       \n",
      "     ...'   ....   ... ...  ... ...   ....        .|'|.       \n",
      "    |  ||  '' .||   ||'  ||  ||'  || '' .||      .|'  ||      \n",
      "     |''   .|' ||   ||    |  ||    | .|' ||     .|'|.  ||     \n",
      "    '....  '|..'|'. ||...'   ||...'  '|..'|.    '||'    ||:.  \n",
      "    '....'          ||       ||                               \n",
      "                   ''''     ''''   v0.6.1 (c) 2017-2020\n",
      "                                   by Lucas Czech and Pierre Barbera\n",
      "\n",
      "Invocation:                        gappa examine graft --jplace-path /tmp/tmperduokhn/picrust2_out/intermediate/place_seqs/sepp_out/output_placement.json --fully-resolve --out-dir /tmp/tmperduokhn/picrust2_out/intermediate/place_seqs/sepp_out\n",
      "Command:                           gappa examine graft\n",
      "\n",
      "Input:\n",
      "  --jplace-path                    /tmp/tmperduokhn/picrust2_out/intermediate/place_seqs/sepp_out/output_placement.json\n",
      "\n",
      "Settings:\n",
      "  --fully-resolve                  true\n",
      "  --name-prefix\n",
      "\n",
      "Output:\n",
      "  --out-dir                        /tmp/tmperduokhn/picrust2_out/intermediate/place_seqs/sepp_out\n",
      "  --file-prefix                    \n",
      "  --file-suffix\n",
      "\n",
      "Global Options:\n",
      "  --allow-file-overwriting         false\n",
      "  --verbose                        false\n",
      "  --threads                        4\n",
      "  --log-file\n",
      "\n",
      "Run the following command to get the references that need to be cited:\n",
      "`gappa tools citation Czech2020-genesis-and-gappa`\n",
      "\n",
      "Started 2023-06-07 15:06:30\n",
      "\n",
      "Found 1 jplace file\n",
      "\n",
      "Finished 2023-06-07 15:06:30\n",
      "\n",
      "\n"
     ]
    },
    {
     "name": "stderr",
     "output_type": "stream",
     "text": [
      "hmmalign --trim --dna --mapali /home/lauro/anaconda3/envs/qiime2-2021.11/lib/python3.8/site-packages/picrust2/default_files/prokaryotic/pro_ref/pro_ref.fna --informat FASTA -o /tmp/tmperduokhn/picrust2_out/intermediate/place_seqs/query_align.stockholm /home/lauro/anaconda3/envs/qiime2-2021.11/lib/python3.8/site-packages/picrust2/default_files/prokaryotic/pro_ref/pro_ref.hmm /tmp/tmperduokhn/seqs.fna\n",
      "\n",
      "Warning - 4 input sequences aligned poorly to reference sequences (--min_align option specified a minimum proportion of 0.8 aligning to reference sequences). These input sequences will not be placed and will be excluded from downstream steps.\n",
      "\n",
      "This is the set of poorly aligned input sequences to be excluded: 0351a9e9c325faa949b54108f611f8fc, 705cd397834c14ee1aed70139311a6d8, 2f93c747e48e2a77075225b4f420cacc, 3295734e2436b08a302c83b4ebec6d28\n",
      "\n",
      "Raw input sequences ranged in length from 271 to 430\n",
      "\n",
      "run_sepp.py --tree /home/lauro/anaconda3/envs/qiime2-2021.11/lib/python3.8/site-packages/picrust2/default_files/prokaryotic/pro_ref/pro_ref.tre --raxml /home/lauro/anaconda3/envs/qiime2-2021.11/lib/python3.8/site-packages/picrust2/default_files/prokaryotic/pro_ref/pro_ref.raxml_info --cpu 6 --molecule dna --outdir /tmp/tmperduokhn/picrust2_out/intermediate/place_seqs/sepp_out -seed 297834 --alignment /home/lauro/anaconda3/envs/qiime2-2021.11/lib/python3.8/site-packages/picrust2/default_files/prokaryotic/pro_ref/pro_ref.fna --fragment /tmp/tmperduokhn/picrust2_out/intermediate/place_seqs/study_seqs_filtered.fasta\n",
      "[15:03:57] config.py (line 349):     INFO: Seed number: 297834\n",
      "[15:03:57] algorithm.py (line 258):     INFO: Reading input alignment: <_io.TextIOWrapper name='/home/lauro/anaconda3/envs/qiime2-2021.11/lib/python3.8/site-packages/picrust2/default_files/prokaryotic/pro_ref/pro_ref.fna' mode='r' encoding='UTF-8'>\n",
      "[15:03:57] algorithm.py (line 265):     INFO: Reading input tree: <_io.TextIOWrapper name='/home/lauro/anaconda3/envs/qiime2-2021.11/lib/python3.8/site-packages/picrust2/default_files/prokaryotic/pro_ref/pro_ref.tre' mode='r' encoding='UTF-8'>\n",
      "[15:03:59] algorithm.py (line 238):     INFO: Decomposition Sizes are set to alignment: 2000 placement: 2000\n",
      "[15:04:01] exhaustive.py (line 350):     INFO: Breaking into 16 placement subsets.\n",
      "[15:04:02] exhaustive.py (line 397):     INFO: Breaking into 16 alignment subsets.\n",
      "[15:04:02] filemgr.py (line 129):     INFO: Root temp directory built: /tmp/sepp/output.jey9dy3u\n",
      "[15:04:02] exhaustive.py (line 412):     INFO: Breaking each alignment subset into 3 fragment chunks.\n",
      "[15:04:04] jobs.py (line 131):     INFO: Finished hmmbuild Job with input: /tmp/sepp/output.jey9dy3u/root/P_4/A_4_0/hmmbuild.input.w0fd0zxs.fasta\n",
      "[15:04:04] jobs.py (line 131):     INFO: Finished hmmbuild Job with input: /tmp/sepp/output.jey9dy3u/root/P_2/A_2_0/hmmbuild.input.ga_rch44.fasta\n",
      "[15:04:04] jobs.py (line 131):     INFO: Finished hmmbuild Job with input: /tmp/sepp/output.jey9dy3u/root/P_1/A_1_0/hmmbuild.input.sl3tht_4.fasta\n",
      "[15:04:04] jobs.py (line 131):     INFO: Finished hmmbuild Job with input: /tmp/sepp/output.jey9dy3u/root/P_3/A_3_0/hmmbuild.input.ybeo0xmd.fasta\n",
      "[15:04:04] jobs.py (line 131):     INFO: Finished hmmbuild Job with input: /tmp/sepp/output.jey9dy3u/root/P_0/A_0_0/hmmbuild.input.wrkl8sgg.fasta\n",
      "[15:04:04] jobs.py (line 131):     INFO: Finished hmmbuild Job with input: /tmp/sepp/output.jey9dy3u/root/P_5/A_5_0/hmmbuild.input.umoltx4f.fasta\n",
      "[15:04:05] jobs.py (line 131):     INFO: Finished hmmbuild Job with input: /tmp/sepp/output.jey9dy3u/root/P_8/A_8_0/hmmbuild.input.lg30b8ci.fasta\n",
      "[15:04:05] jobs.py (line 131):     INFO: Finished hmmbuild Job with input: /tmp/sepp/output.jey9dy3u/root/P_11/A_11_0/hmmbuild.input.rpkezeyo.fasta\n",
      "[15:04:05] jobs.py (line 131):     INFO: Finished hmmbuild Job with input: /tmp/sepp/output.jey9dy3u/root/P_6/A_6_0/hmmbuild.input.5jpbodle.fasta\n",
      "[15:04:05] jobs.py (line 131):     INFO: Finished hmmbuild Job with input: /tmp/sepp/output.jey9dy3u/root/P_7/A_7_0/hmmbuild.input.6mwcx_yd.fasta\n",
      "[15:04:05] jobs.py (line 131):     INFO: Finished hmmbuild Job with input: /tmp/sepp/output.jey9dy3u/root/P_9/A_9_0/hmmbuild.input.5p1hrsmk.fasta\n",
      "[15:04:05] jobs.py (line 131):     INFO: Finished hmmbuild Job with input: /tmp/sepp/output.jey9dy3u/root/P_10/A_10_0/hmmbuild.input.alun0rld.fasta\n",
      "[15:04:06] jobs.py (line 131):     INFO: Finished hmmbuild Job with input: /tmp/sepp/output.jey9dy3u/root/P_12/A_12_0/hmmbuild.input.qvd9_8cr.fasta\n",
      "[15:04:06] jobs.py (line 131):     INFO: Finished hmmbuild Job with input: /tmp/sepp/output.jey9dy3u/root/P_14/A_14_0/hmmbuild.input.cyqancud.fasta\n",
      "[15:04:06] jobs.py (line 131):     INFO: Finished hmmbuild Job with input: /tmp/sepp/output.jey9dy3u/root/P_13/A_13_0/hmmbuild.input.52b2g39n.fasta\n",
      "[15:04:06] jobs.py (line 131):     INFO: Finished hmmbuild Job with input: /tmp/sepp/output.jey9dy3u/root/P_15/A_15_0/hmmbuild.input.mdqfr8me.fasta\n",
      "[15:04:10] jobs.py (line 131):     INFO: Finished hmmsearch Job with input: model:/tmp/sepp/output.jey9dy3u/root/P_4/A_4_0/hmmbuild.model.78mpi73h, fragments:/tmp/sepp/output.jey9dy3u/fragment_chunks/fragment_chunk_27g8jm7fr.fasta, elim:99999999, filter:False, output:/tmp/sepp/output.jey9dy3u/root/P_4/A_4_0/FC_4_0_2/hmmsearch.results.hg3pzysy\n",
      "[15:04:11] jobs.py (line 131):     INFO: Finished hmmsearch Job with input: model:/tmp/sepp/output.jey9dy3u/root/P_2/A_2_0/hmmbuild.model.41pwgpvx, fragments:/tmp/sepp/output.jey9dy3u/fragment_chunks/fragment_chunk_0oo3qr0ob.fasta, elim:99999999, filter:False, output:/tmp/sepp/output.jey9dy3u/root/P_2/A_2_0/FC_2_0_0/hmmsearch.results.v9yc5g2i\n",
      "[15:04:12] jobs.py (line 131):     INFO: Finished hmmsearch Job with input: model:/tmp/sepp/output.jey9dy3u/root/P_4/A_4_0/hmmbuild.model.78mpi73h, fragments:/tmp/sepp/output.jey9dy3u/fragment_chunks/fragment_chunk_0oo3qr0ob.fasta, elim:99999999, filter:False, output:/tmp/sepp/output.jey9dy3u/root/P_4/A_4_0/FC_4_0_0/hmmsearch.results.4wqqs_01\n",
      "[15:04:13] jobs.py (line 131):     INFO: Finished hmmsearch Job with input: model:/tmp/sepp/output.jey9dy3u/root/P_2/A_2_0/hmmbuild.model.41pwgpvx, fragments:/tmp/sepp/output.jey9dy3u/fragment_chunks/fragment_chunk_1tjj12nyk.fasta, elim:99999999, filter:False, output:/tmp/sepp/output.jey9dy3u/root/P_2/A_2_0/FC_2_0_1/hmmsearch.results.zyt2zlv2\n",
      "[15:04:13] jobs.py (line 131):     INFO: Finished hmmsearch Job with input: model:/tmp/sepp/output.jey9dy3u/root/P_4/A_4_0/hmmbuild.model.78mpi73h, fragments:/tmp/sepp/output.jey9dy3u/fragment_chunks/fragment_chunk_1tjj12nyk.fasta, elim:99999999, filter:False, output:/tmp/sepp/output.jey9dy3u/root/P_4/A_4_0/FC_4_0_1/hmmsearch.results.4a9s1srl\n",
      "[15:04:14] jobs.py (line 131):     INFO: Finished hmmsearch Job with input: model:/tmp/sepp/output.jey9dy3u/root/P_2/A_2_0/hmmbuild.model.41pwgpvx, fragments:/tmp/sepp/output.jey9dy3u/fragment_chunks/fragment_chunk_27g8jm7fr.fasta, elim:99999999, filter:False, output:/tmp/sepp/output.jey9dy3u/root/P_2/A_2_0/FC_2_0_2/hmmsearch.results.z22m7_at\n",
      "[15:04:18] jobs.py (line 131):     INFO: Finished hmmsearch Job with input: model:/tmp/sepp/output.jey9dy3u/root/P_3/A_3_0/hmmbuild.model.svjr2rgp, fragments:/tmp/sepp/output.jey9dy3u/fragment_chunks/fragment_chunk_1tjj12nyk.fasta, elim:99999999, filter:False, output:/tmp/sepp/output.jey9dy3u/root/P_3/A_3_0/FC_3_0_1/hmmsearch.results.cxm81yr_\n",
      "[15:04:19] jobs.py (line 131):     INFO: Finished hmmsearch Job with input: model:/tmp/sepp/output.jey9dy3u/root/P_3/A_3_0/hmmbuild.model.svjr2rgp, fragments:/tmp/sepp/output.jey9dy3u/fragment_chunks/fragment_chunk_27g8jm7fr.fasta, elim:99999999, filter:False, output:/tmp/sepp/output.jey9dy3u/root/P_3/A_3_0/FC_3_0_2/hmmsearch.results.7tgemrhh\n",
      "[15:04:19] jobs.py (line 131):     INFO: Finished hmmsearch Job with input: model:/tmp/sepp/output.jey9dy3u/root/P_1/A_1_0/hmmbuild.model.4r0c7k3v, fragments:/tmp/sepp/output.jey9dy3u/fragment_chunks/fragment_chunk_0oo3qr0ob.fasta, elim:99999999, filter:False, output:/tmp/sepp/output.jey9dy3u/root/P_1/A_1_0/FC_1_0_0/hmmsearch.results.szief5fk\n",
      "[15:04:19] jobs.py (line 131):     INFO: Finished hmmsearch Job with input: model:/tmp/sepp/output.jey9dy3u/root/P_1/A_1_0/hmmbuild.model.4r0c7k3v, fragments:/tmp/sepp/output.jey9dy3u/fragment_chunks/fragment_chunk_1tjj12nyk.fasta, elim:99999999, filter:False, output:/tmp/sepp/output.jey9dy3u/root/P_1/A_1_0/FC_1_0_1/hmmsearch.results.bve4dpo2\n",
      "[15:04:19] jobs.py (line 131):     INFO: Finished hmmsearch Job with input: model:/tmp/sepp/output.jey9dy3u/root/P_1/A_1_0/hmmbuild.model.4r0c7k3v, fragments:/tmp/sepp/output.jey9dy3u/fragment_chunks/fragment_chunk_27g8jm7fr.fasta, elim:99999999, filter:False, output:/tmp/sepp/output.jey9dy3u/root/P_1/A_1_0/FC_1_0_2/hmmsearch.results._f38860q\n",
      "[15:04:20] jobs.py (line 131):     INFO: Finished hmmsearch Job with input: model:/tmp/sepp/output.jey9dy3u/root/P_3/A_3_0/hmmbuild.model.svjr2rgp, fragments:/tmp/sepp/output.jey9dy3u/fragment_chunks/fragment_chunk_0oo3qr0ob.fasta, elim:99999999, filter:False, output:/tmp/sepp/output.jey9dy3u/root/P_3/A_3_0/FC_3_0_0/hmmsearch.results.pu17h5dn\n",
      "[15:04:24] jobs.py (line 131):     INFO: Finished hmmsearch Job with input: model:/tmp/sepp/output.jey9dy3u/root/P_0/A_0_0/hmmbuild.model.umwcoccv, fragments:/tmp/sepp/output.jey9dy3u/fragment_chunks/fragment_chunk_27g8jm7fr.fasta, elim:99999999, filter:False, output:/tmp/sepp/output.jey9dy3u/root/P_0/A_0_0/FC_0_0_2/hmmsearch.results.eta1hxs3\n",
      "[15:04:25] jobs.py (line 131):     INFO: Finished hmmsearch Job with input: model:/tmp/sepp/output.jey9dy3u/root/P_0/A_0_0/hmmbuild.model.umwcoccv, fragments:/tmp/sepp/output.jey9dy3u/fragment_chunks/fragment_chunk_0oo3qr0ob.fasta, elim:99999999, filter:False, output:/tmp/sepp/output.jey9dy3u/root/P_0/A_0_0/FC_0_0_0/hmmsearch.results.89zez82s\n",
      "[15:04:25] jobs.py (line 131):     INFO: Finished hmmsearch Job with input: model:/tmp/sepp/output.jey9dy3u/root/P_5/A_5_0/hmmbuild.model.v60lviyp, fragments:/tmp/sepp/output.jey9dy3u/fragment_chunks/fragment_chunk_1tjj12nyk.fasta, elim:99999999, filter:False, output:/tmp/sepp/output.jey9dy3u/root/P_5/A_5_0/FC_5_0_1/hmmsearch.results.cxoh_j7d\n",
      "[15:04:26] jobs.py (line 131):     INFO: Finished hmmsearch Job with input: model:/tmp/sepp/output.jey9dy3u/root/P_0/A_0_0/hmmbuild.model.umwcoccv, fragments:/tmp/sepp/output.jey9dy3u/fragment_chunks/fragment_chunk_1tjj12nyk.fasta, elim:99999999, filter:False, output:/tmp/sepp/output.jey9dy3u/root/P_0/A_0_0/FC_0_0_1/hmmsearch.results.9qa1a1r7\n",
      "[15:04:26] jobs.py (line 131):     INFO: Finished hmmsearch Job with input: model:/tmp/sepp/output.jey9dy3u/root/P_5/A_5_0/hmmbuild.model.v60lviyp, fragments:/tmp/sepp/output.jey9dy3u/fragment_chunks/fragment_chunk_0oo3qr0ob.fasta, elim:99999999, filter:False, output:/tmp/sepp/output.jey9dy3u/root/P_5/A_5_0/FC_5_0_0/hmmsearch.results.iqkmnrmw\n",
      "[15:04:28] jobs.py (line 131):     INFO: Finished hmmsearch Job with input: model:/tmp/sepp/output.jey9dy3u/root/P_5/A_5_0/hmmbuild.model.v60lviyp, fragments:/tmp/sepp/output.jey9dy3u/fragment_chunks/fragment_chunk_27g8jm7fr.fasta, elim:99999999, filter:False, output:/tmp/sepp/output.jey9dy3u/root/P_5/A_5_0/FC_5_0_2/hmmsearch.results.ocj1bkbs\n",
      "[15:04:30] jobs.py (line 131):     INFO: Finished hmmsearch Job with input: model:/tmp/sepp/output.jey9dy3u/root/P_8/A_8_0/hmmbuild.model.si37f55b, fragments:/tmp/sepp/output.jey9dy3u/fragment_chunks/fragment_chunk_1tjj12nyk.fasta, elim:99999999, filter:False, output:/tmp/sepp/output.jey9dy3u/root/P_8/A_8_0/FC_8_0_1/hmmsearch.results.to9rasc8\n",
      "[15:04:31] jobs.py (line 131):     INFO: Finished hmmsearch Job with input: model:/tmp/sepp/output.jey9dy3u/root/P_11/A_11_0/hmmbuild.model.q2zj1thd, fragments:/tmp/sepp/output.jey9dy3u/fragment_chunks/fragment_chunk_0oo3qr0ob.fasta, elim:99999999, filter:False, output:/tmp/sepp/output.jey9dy3u/root/P_11/A_11_0/FC_11_0_0/hmmsearch.results.72jvqsmq\n",
      "[15:04:32] jobs.py (line 131):     INFO: Finished hmmsearch Job with input: model:/tmp/sepp/output.jey9dy3u/root/P_8/A_8_0/hmmbuild.model.si37f55b, fragments:/tmp/sepp/output.jey9dy3u/fragment_chunks/fragment_chunk_0oo3qr0ob.fasta, elim:99999999, filter:False, output:/tmp/sepp/output.jey9dy3u/root/P_8/A_8_0/FC_8_0_0/hmmsearch.results.7131n95a\n",
      "[15:04:32] jobs.py (line 131):     INFO: Finished hmmsearch Job with input: model:/tmp/sepp/output.jey9dy3u/root/P_8/A_8_0/hmmbuild.model.si37f55b, fragments:/tmp/sepp/output.jey9dy3u/fragment_chunks/fragment_chunk_27g8jm7fr.fasta, elim:99999999, filter:False, output:/tmp/sepp/output.jey9dy3u/root/P_8/A_8_0/FC_8_0_2/hmmsearch.results.iyx1f_dd\n",
      "[15:04:33] jobs.py (line 131):     INFO: Finished hmmsearch Job with input: model:/tmp/sepp/output.jey9dy3u/root/P_11/A_11_0/hmmbuild.model.q2zj1thd, fragments:/tmp/sepp/output.jey9dy3u/fragment_chunks/fragment_chunk_1tjj12nyk.fasta, elim:99999999, filter:False, output:/tmp/sepp/output.jey9dy3u/root/P_11/A_11_0/FC_11_0_1/hmmsearch.results.52fm7k71\n",
      "[15:04:35] jobs.py (line 131):     INFO: Finished hmmsearch Job with input: model:/tmp/sepp/output.jey9dy3u/root/P_6/A_6_0/hmmbuild.model.cztbmz_8, fragments:/tmp/sepp/output.jey9dy3u/fragment_chunks/fragment_chunk_0oo3qr0ob.fasta, elim:99999999, filter:False, output:/tmp/sepp/output.jey9dy3u/root/P_6/A_6_0/FC_6_0_0/hmmsearch.results.5qp1oz3g\n",
      "[15:04:35] jobs.py (line 131):     INFO: Finished hmmsearch Job with input: model:/tmp/sepp/output.jey9dy3u/root/P_11/A_11_0/hmmbuild.model.q2zj1thd, fragments:/tmp/sepp/output.jey9dy3u/fragment_chunks/fragment_chunk_27g8jm7fr.fasta, elim:99999999, filter:False, output:/tmp/sepp/output.jey9dy3u/root/P_11/A_11_0/FC_11_0_2/hmmsearch.results.uc4zo680\n",
      "[15:04:38] jobs.py (line 131):     INFO: Finished hmmsearch Job with input: model:/tmp/sepp/output.jey9dy3u/root/P_6/A_6_0/hmmbuild.model.cztbmz_8, fragments:/tmp/sepp/output.jey9dy3u/fragment_chunks/fragment_chunk_27g8jm7fr.fasta, elim:99999999, filter:False, output:/tmp/sepp/output.jey9dy3u/root/P_6/A_6_0/FC_6_0_2/hmmsearch.results.zi4jd3c1\n",
      "[15:04:39] jobs.py (line 131):     INFO: Finished hmmsearch Job with input: model:/tmp/sepp/output.jey9dy3u/root/P_7/A_7_0/hmmbuild.model.lrn38d7w, fragments:/tmp/sepp/output.jey9dy3u/fragment_chunks/fragment_chunk_1tjj12nyk.fasta, elim:99999999, filter:False, output:/tmp/sepp/output.jey9dy3u/root/P_7/A_7_0/FC_7_0_1/hmmsearch.results.lxy8xd6n\n",
      "[15:04:39] jobs.py (line 131):     INFO: Finished hmmsearch Job with input: model:/tmp/sepp/output.jey9dy3u/root/P_7/A_7_0/hmmbuild.model.lrn38d7w, fragments:/tmp/sepp/output.jey9dy3u/fragment_chunks/fragment_chunk_0oo3qr0ob.fasta, elim:99999999, filter:False, output:/tmp/sepp/output.jey9dy3u/root/P_7/A_7_0/FC_7_0_0/hmmsearch.results.tgvnob74\n",
      "[15:04:39] jobs.py (line 131):     INFO: Finished hmmsearch Job with input: model:/tmp/sepp/output.jey9dy3u/root/P_6/A_6_0/hmmbuild.model.cztbmz_8, fragments:/tmp/sepp/output.jey9dy3u/fragment_chunks/fragment_chunk_1tjj12nyk.fasta, elim:99999999, filter:False, output:/tmp/sepp/output.jey9dy3u/root/P_6/A_6_0/FC_6_0_1/hmmsearch.results.yac10rg7\n",
      "[15:04:42] jobs.py (line 131):     INFO: Finished hmmsearch Job with input: model:/tmp/sepp/output.jey9dy3u/root/P_7/A_7_0/hmmbuild.model.lrn38d7w, fragments:/tmp/sepp/output.jey9dy3u/fragment_chunks/fragment_chunk_27g8jm7fr.fasta, elim:99999999, filter:False, output:/tmp/sepp/output.jey9dy3u/root/P_7/A_7_0/FC_7_0_2/hmmsearch.results.0xmjnhzx\n",
      "[15:04:43] jobs.py (line 131):     INFO: Finished hmmsearch Job with input: model:/tmp/sepp/output.jey9dy3u/root/P_9/A_9_0/hmmbuild.model._zmv4ya5, fragments:/tmp/sepp/output.jey9dy3u/fragment_chunks/fragment_chunk_0oo3qr0ob.fasta, elim:99999999, filter:False, output:/tmp/sepp/output.jey9dy3u/root/P_9/A_9_0/FC_9_0_0/hmmsearch.results.fz0cir7x\n",
      "[15:04:43] jobs.py (line 131):     INFO: Finished hmmsearch Job with input: model:/tmp/sepp/output.jey9dy3u/root/P_9/A_9_0/hmmbuild.model._zmv4ya5, fragments:/tmp/sepp/output.jey9dy3u/fragment_chunks/fragment_chunk_1tjj12nyk.fasta, elim:99999999, filter:False, output:/tmp/sepp/output.jey9dy3u/root/P_9/A_9_0/FC_9_0_1/hmmsearch.results.ofm9s6z4\n",
      "[15:04:45] jobs.py (line 131):     INFO: Finished hmmsearch Job with input: model:/tmp/sepp/output.jey9dy3u/root/P_9/A_9_0/hmmbuild.model._zmv4ya5, fragments:/tmp/sepp/output.jey9dy3u/fragment_chunks/fragment_chunk_27g8jm7fr.fasta, elim:99999999, filter:False, output:/tmp/sepp/output.jey9dy3u/root/P_9/A_9_0/FC_9_0_2/hmmsearch.results.tszbqw14\n",
      "[15:04:46] jobs.py (line 131):     INFO: Finished hmmsearch Job with input: model:/tmp/sepp/output.jey9dy3u/root/P_10/A_10_0/hmmbuild.model.jb2d2647, fragments:/tmp/sepp/output.jey9dy3u/fragment_chunks/fragment_chunk_0oo3qr0ob.fasta, elim:99999999, filter:False, output:/tmp/sepp/output.jey9dy3u/root/P_10/A_10_0/FC_10_0_0/hmmsearch.results.em_bpixx\n",
      "[15:04:46] jobs.py (line 131):     INFO: Finished hmmsearch Job with input: model:/tmp/sepp/output.jey9dy3u/root/P_10/A_10_0/hmmbuild.model.jb2d2647, fragments:/tmp/sepp/output.jey9dy3u/fragment_chunks/fragment_chunk_1tjj12nyk.fasta, elim:99999999, filter:False, output:/tmp/sepp/output.jey9dy3u/root/P_10/A_10_0/FC_10_0_1/hmmsearch.results.nnbwgw1r\n",
      "[15:04:49] jobs.py (line 131):     INFO: Finished hmmsearch Job with input: model:/tmp/sepp/output.jey9dy3u/root/P_10/A_10_0/hmmbuild.model.jb2d2647, fragments:/tmp/sepp/output.jey9dy3u/fragment_chunks/fragment_chunk_27g8jm7fr.fasta, elim:99999999, filter:False, output:/tmp/sepp/output.jey9dy3u/root/P_10/A_10_0/FC_10_0_2/hmmsearch.results.4u8wmd4l\n",
      "[15:04:50] jobs.py (line 131):     INFO: Finished hmmsearch Job with input: model:/tmp/sepp/output.jey9dy3u/root/P_12/A_12_0/hmmbuild.model.oplsnga3, fragments:/tmp/sepp/output.jey9dy3u/fragment_chunks/fragment_chunk_0oo3qr0ob.fasta, elim:99999999, filter:False, output:/tmp/sepp/output.jey9dy3u/root/P_12/A_12_0/FC_12_0_0/hmmsearch.results.wxw8k3yp\n",
      "[15:04:50] jobs.py (line 131):     INFO: Finished hmmsearch Job with input: model:/tmp/sepp/output.jey9dy3u/root/P_12/A_12_0/hmmbuild.model.oplsnga3, fragments:/tmp/sepp/output.jey9dy3u/fragment_chunks/fragment_chunk_27g8jm7fr.fasta, elim:99999999, filter:False, output:/tmp/sepp/output.jey9dy3u/root/P_12/A_12_0/FC_12_0_2/hmmsearch.results.au8k8dnh\n",
      "[15:04:51] jobs.py (line 131):     INFO: Finished hmmsearch Job with input: model:/tmp/sepp/output.jey9dy3u/root/P_12/A_12_0/hmmbuild.model.oplsnga3, fragments:/tmp/sepp/output.jey9dy3u/fragment_chunks/fragment_chunk_1tjj12nyk.fasta, elim:99999999, filter:False, output:/tmp/sepp/output.jey9dy3u/root/P_12/A_12_0/FC_12_0_1/hmmsearch.results.4gckdvie\n",
      "[15:04:52] jobs.py (line 131):     INFO: Finished hmmsearch Job with input: model:/tmp/sepp/output.jey9dy3u/root/P_14/A_14_0/hmmbuild.model.q8aujobf, fragments:/tmp/sepp/output.jey9dy3u/fragment_chunks/fragment_chunk_1tjj12nyk.fasta, elim:99999999, filter:False, output:/tmp/sepp/output.jey9dy3u/root/P_14/A_14_0/FC_14_0_1/hmmsearch.results.c3dwmcax\n",
      "[15:04:54] jobs.py (line 131):     INFO: Finished hmmsearch Job with input: model:/tmp/sepp/output.jey9dy3u/root/P_14/A_14_0/hmmbuild.model.q8aujobf, fragments:/tmp/sepp/output.jey9dy3u/fragment_chunks/fragment_chunk_0oo3qr0ob.fasta, elim:99999999, filter:False, output:/tmp/sepp/output.jey9dy3u/root/P_14/A_14_0/FC_14_0_0/hmmsearch.results.p4_gcnal\n",
      "[15:04:55] jobs.py (line 131):     INFO: Finished hmmsearch Job with input: model:/tmp/sepp/output.jey9dy3u/root/P_14/A_14_0/hmmbuild.model.q8aujobf, fragments:/tmp/sepp/output.jey9dy3u/fragment_chunks/fragment_chunk_27g8jm7fr.fasta, elim:99999999, filter:False, output:/tmp/sepp/output.jey9dy3u/root/P_14/A_14_0/FC_14_0_2/hmmsearch.results.rco75gch\n",
      "[15:04:56] jobs.py (line 131):     INFO: Finished hmmsearch Job with input: model:/tmp/sepp/output.jey9dy3u/root/P_13/A_13_0/hmmbuild.model.llg8f813, fragments:/tmp/sepp/output.jey9dy3u/fragment_chunks/fragment_chunk_1tjj12nyk.fasta, elim:99999999, filter:False, output:/tmp/sepp/output.jey9dy3u/root/P_13/A_13_0/FC_13_0_1/hmmsearch.results.8yf6cqvx\n",
      "[15:04:57] jobs.py (line 131):     INFO: Finished hmmsearch Job with input: model:/tmp/sepp/output.jey9dy3u/root/P_13/A_13_0/hmmbuild.model.llg8f813, fragments:/tmp/sepp/output.jey9dy3u/fragment_chunks/fragment_chunk_27g8jm7fr.fasta, elim:99999999, filter:False, output:/tmp/sepp/output.jey9dy3u/root/P_13/A_13_0/FC_13_0_2/hmmsearch.results.xz9abyhd\n",
      "[15:04:57] jobs.py (line 131):     INFO: Finished hmmsearch Job with input: model:/tmp/sepp/output.jey9dy3u/root/P_13/A_13_0/hmmbuild.model.llg8f813, fragments:/tmp/sepp/output.jey9dy3u/fragment_chunks/fragment_chunk_0oo3qr0ob.fasta, elim:99999999, filter:False, output:/tmp/sepp/output.jey9dy3u/root/P_13/A_13_0/FC_13_0_0/hmmsearch.results.szr8q9id\n",
      "[15:04:59] jobs.py (line 131):     INFO: Finished hmmsearch Job with input: model:/tmp/sepp/output.jey9dy3u/root/P_15/A_15_0/hmmbuild.model.xiw3h4wv, fragments:/tmp/sepp/output.jey9dy3u/fragment_chunks/fragment_chunk_0oo3qr0ob.fasta, elim:99999999, filter:False, output:/tmp/sepp/output.jey9dy3u/root/P_15/A_15_0/FC_15_0_0/hmmsearch.results.c73kd4zz\n",
      "[15:04:59] jobs.py (line 131):     INFO: Finished hmmsearch Job with input: model:/tmp/sepp/output.jey9dy3u/root/P_15/A_15_0/hmmbuild.model.xiw3h4wv, fragments:/tmp/sepp/output.jey9dy3u/fragment_chunks/fragment_chunk_1tjj12nyk.fasta, elim:99999999, filter:False, output:/tmp/sepp/output.jey9dy3u/root/P_15/A_15_0/FC_15_0_1/hmmsearch.results.o860953_\n",
      "[15:05:00] jobs.py (line 131):     INFO: Finished hmmsearch Job with input: model:/tmp/sepp/output.jey9dy3u/root/P_15/A_15_0/hmmbuild.model.xiw3h4wv, fragments:/tmp/sepp/output.jey9dy3u/fragment_chunks/fragment_chunk_27g8jm7fr.fasta, elim:99999999, filter:False, output:/tmp/sepp/output.jey9dy3u/root/P_15/A_15_0/FC_15_0_2/hmmsearch.results.8lio3s5y\n",
      "[15:05:00] exhaustive.py (line 80):  WARNING: Fragments [] are not scored against any subset\n",
      "[15:05:00] exhaustive.py (line 151):     INFO: Merging sub-alignments for placement problem : P_0.\n",
      "[15:05:00] jobs.py (line 131):     INFO: Finished hmmalign Job with input: model:/tmp/sepp/output.jey9dy3u/root/P_1/A_1_0/hmmbuild.model.4r0c7k3v, fragments:/tmp/sepp/output.jey9dy3u/root/P_1/A_1_0/FC_1_0_2/hmmalign.frag.5jbu_5e6.fasta, trim:False, base_alignment:/tmp/sepp/output.jey9dy3u/root/P_1/A_1_0/hmmbuild.input.sl3tht_4.fasta\n",
      "[15:05:00] jobs.py (line 131):     INFO: Finished hmmalign Job with input: model:/tmp/sepp/output.jey9dy3u/root/P_5/A_5_0/hmmbuild.model.v60lviyp, fragments:/tmp/sepp/output.jey9dy3u/root/P_5/A_5_0/FC_5_0_2/hmmalign.frag.38oy_qbx.fasta, trim:False, base_alignment:/tmp/sepp/output.jey9dy3u/root/P_5/A_5_0/hmmbuild.input.umoltx4f.fasta\n",
      "[15:05:00] jobs.py (line 131):     INFO: Finished hmmalign Job with input: model:/tmp/sepp/output.jey9dy3u/root/P_5/A_5_0/hmmbuild.model.v60lviyp, fragments:/tmp/sepp/output.jey9dy3u/root/P_5/A_5_0/FC_5_0_1/hmmalign.frag.hmt_yqza.fasta, trim:False, base_alignment:/tmp/sepp/output.jey9dy3u/root/P_5/A_5_0/hmmbuild.input.umoltx4f.fasta\n",
      "[15:05:00] jobs.py (line 131):     INFO: Finished hmmalign Job with input: model:/tmp/sepp/output.jey9dy3u/root/P_5/A_5_0/hmmbuild.model.v60lviyp, fragments:/tmp/sepp/output.jey9dy3u/root/P_5/A_5_0/FC_5_0_0/hmmalign.frag.jxihs74g.fasta, trim:False, base_alignment:/tmp/sepp/output.jey9dy3u/root/P_5/A_5_0/hmmbuild.input.umoltx4f.fasta\n",
      "[15:05:00] jobs.py (line 131):     INFO: Finished hmmalign Job with input: model:/tmp/sepp/output.jey9dy3u/root/P_1/A_1_0/hmmbuild.model.4r0c7k3v, fragments:/tmp/sepp/output.jey9dy3u/root/P_1/A_1_0/FC_1_0_0/hmmalign.frag.1dshjw_4.fasta, trim:False, base_alignment:/tmp/sepp/output.jey9dy3u/root/P_1/A_1_0/hmmbuild.input.sl3tht_4.fasta\n",
      "[15:05:00] jobs.py (line 131):     INFO: Finished hmmalign Job with input: model:/tmp/sepp/output.jey9dy3u/root/P_1/A_1_0/hmmbuild.model.4r0c7k3v, fragments:/tmp/sepp/output.jey9dy3u/root/P_1/A_1_0/FC_1_0_1/hmmalign.frag.h4bg7y6e.fasta, trim:False, base_alignment:/tmp/sepp/output.jey9dy3u/root/P_1/A_1_0/hmmbuild.input.sl3tht_4.fasta\n",
      "[15:05:00] exhaustive.py (line 151):     INFO: Merging sub-alignments for placement problem : P_2.\n",
      "[15:05:00] jobs.py (line 131):     INFO: Finished hmmalign Job with input: model:/tmp/sepp/output.jey9dy3u/root/P_6/A_6_0/hmmbuild.model.cztbmz_8, fragments:/tmp/sepp/output.jey9dy3u/root/P_6/A_6_0/FC_6_0_1/hmmalign.frag.wwrqyn8d.fasta, trim:False, base_alignment:/tmp/sepp/output.jey9dy3u/root/P_6/A_6_0/hmmbuild.input.5jpbodle.fasta\n",
      "[15:05:00] jobs.py (line 131):     INFO: Finished hmmalign Job with input: model:/tmp/sepp/output.jey9dy3u/root/P_6/A_6_0/hmmbuild.model.cztbmz_8, fragments:/tmp/sepp/output.jey9dy3u/root/P_6/A_6_0/FC_6_0_2/hmmalign.frag.elfqs1si.fasta, trim:False, base_alignment:/tmp/sepp/output.jey9dy3u/root/P_6/A_6_0/hmmbuild.input.5jpbodle.fasta\n",
      "[15:05:00] jobs.py (line 131):     INFO: Finished hmmalign Job with input: model:/tmp/sepp/output.jey9dy3u/root/P_6/A_6_0/hmmbuild.model.cztbmz_8, fragments:/tmp/sepp/output.jey9dy3u/root/P_6/A_6_0/FC_6_0_0/hmmalign.frag.3vxvzpp1.fasta, trim:False, base_alignment:/tmp/sepp/output.jey9dy3u/root/P_6/A_6_0/hmmbuild.input.5jpbodle.fasta\n",
      "[15:05:01] exhaustive.py (line 151):     INFO: Merging sub-alignments for placement problem : P_3.\n",
      "[15:05:01] jobs.py (line 131):     INFO: Finished hmmalign Job with input: model:/tmp/sepp/output.jey9dy3u/root/P_7/A_7_0/hmmbuild.model.lrn38d7w, fragments:/tmp/sepp/output.jey9dy3u/root/P_7/A_7_0/FC_7_0_0/hmmalign.frag.dmylvol_.fasta, trim:False, base_alignment:/tmp/sepp/output.jey9dy3u/root/P_7/A_7_0/hmmbuild.input.6mwcx_yd.fasta\n",
      "[15:05:01] jobs.py (line 131):     INFO: Finished hmmalign Job with input: model:/tmp/sepp/output.jey9dy3u/root/P_7/A_7_0/hmmbuild.model.lrn38d7w, fragments:/tmp/sepp/output.jey9dy3u/root/P_7/A_7_0/FC_7_0_2/hmmalign.frag.93at_89r.fasta, trim:False, base_alignment:/tmp/sepp/output.jey9dy3u/root/P_7/A_7_0/hmmbuild.input.6mwcx_yd.fasta\n",
      "[15:05:01] jobs.py (line 131):     INFO: Finished hmmalign Job with input: model:/tmp/sepp/output.jey9dy3u/root/P_7/A_7_0/hmmbuild.model.lrn38d7w, fragments:/tmp/sepp/output.jey9dy3u/root/P_7/A_7_0/FC_7_0_1/hmmalign.frag.c8ga2jgc.fasta, trim:False, base_alignment:/tmp/sepp/output.jey9dy3u/root/P_7/A_7_0/hmmbuild.input.6mwcx_yd.fasta\n",
      "[15:05:01] jobs.py (line 131):     INFO: Finished hmmalign Job with input: model:/tmp/sepp/output.jey9dy3u/root/P_8/A_8_0/hmmbuild.model.si37f55b, fragments:/tmp/sepp/output.jey9dy3u/root/P_8/A_8_0/FC_8_0_0/hmmalign.frag.auyl8kzp.fasta, trim:False, base_alignment:/tmp/sepp/output.jey9dy3u/root/P_8/A_8_0/hmmbuild.input.lg30b8ci.fasta\n",
      "[15:05:01] jobs.py (line 131):     INFO: Finished hmmalign Job with input: model:/tmp/sepp/output.jey9dy3u/root/P_8/A_8_0/hmmbuild.model.si37f55b, fragments:/tmp/sepp/output.jey9dy3u/root/P_8/A_8_0/FC_8_0_1/hmmalign.frag.pw72tq42.fasta, trim:False, base_alignment:/tmp/sepp/output.jey9dy3u/root/P_8/A_8_0/hmmbuild.input.lg30b8ci.fasta\n",
      "[15:05:01] jobs.py (line 131):     INFO: Finished hmmalign Job with input: model:/tmp/sepp/output.jey9dy3u/root/P_8/A_8_0/hmmbuild.model.si37f55b, fragments:/tmp/sepp/output.jey9dy3u/root/P_8/A_8_0/FC_8_0_2/hmmalign.frag.0xmdjlrb.fasta, trim:False, base_alignment:/tmp/sepp/output.jey9dy3u/root/P_8/A_8_0/hmmbuild.input.lg30b8ci.fasta\n",
      "[15:05:01] exhaustive.py (line 151):     INFO: Merging sub-alignments for placement problem : P_4.\n",
      "[15:05:01] exhaustive.py (line 151):     INFO: Merging sub-alignments for placement problem : P_5.\n",
      "[15:05:01] alignment.py (line 556):     INFO: Merging extension sto file (/tmp/sepp/output.jey9dy3u/root/P_5/A_5_0/FC_5_0_0/hmmalign.results.txdc3wbu) into base alignment (/tmp/sepp/output.jey9dy3u/root/P_5/A_5_0/hmmbuild.input.umoltx4f.fasta).\n",
      "[15:05:01] alignment.py (line 556):     INFO: Merging extension sto file (/tmp/sepp/output.jey9dy3u/root/P_5/A_5_0/FC_5_0_1/hmmalign.results.bin73ppg) into base alignment (/tmp/sepp/output.jey9dy3u/root/P_5/A_5_0/hmmbuild.input.umoltx4f.fasta).\n",
      "[15:05:01] alignment.py (line 556):     INFO: Merging extension sto file (/tmp/sepp/output.jey9dy3u/root/P_5/A_5_0/FC_5_0_2/hmmalign.results.7gsltr75) into base alignment (/tmp/sepp/output.jey9dy3u/root/P_5/A_5_0/hmmbuild.input.umoltx4f.fasta).\n",
      "[15:05:01] jobs.py (line 131):     INFO: Finished hmmalign Job with input: model:/tmp/sepp/output.jey9dy3u/root/P_10/A_10_0/hmmbuild.model.jb2d2647, fragments:/tmp/sepp/output.jey9dy3u/root/P_10/A_10_0/FC_10_0_0/hmmalign.frag.ph111c7w.fasta, trim:False, base_alignment:/tmp/sepp/output.jey9dy3u/root/P_10/A_10_0/hmmbuild.input.alun0rld.fasta\n",
      "[15:05:01] exhaustive.py (line 151):     INFO: Merging sub-alignments for placement problem : P_1.\n",
      "[15:05:01] alignment.py (line 556):     INFO: Merging extension sto file (/tmp/sepp/output.jey9dy3u/root/P_1/A_1_0/FC_1_0_0/hmmalign.results.l6rwbpj6) into base alignment (/tmp/sepp/output.jey9dy3u/root/P_1/A_1_0/hmmbuild.input.sl3tht_4.fasta).\n",
      "[15:05:01] jobs.py (line 131):     INFO: Finished hmmalign Job with input: model:/tmp/sepp/output.jey9dy3u/root/P_10/A_10_0/hmmbuild.model.jb2d2647, fragments:/tmp/sepp/output.jey9dy3u/root/P_10/A_10_0/FC_10_0_2/hmmalign.frag.1zzdss6s.fasta, trim:False, base_alignment:/tmp/sepp/output.jey9dy3u/root/P_10/A_10_0/hmmbuild.input.alun0rld.fasta\n",
      "[15:05:01] jobs.py (line 131):     INFO: Finished hmmalign Job with input: model:/tmp/sepp/output.jey9dy3u/root/P_10/A_10_0/hmmbuild.model.jb2d2647, fragments:/tmp/sepp/output.jey9dy3u/root/P_10/A_10_0/FC_10_0_1/hmmalign.frag._ewn5q5e.fasta, trim:False, base_alignment:/tmp/sepp/output.jey9dy3u/root/P_10/A_10_0/hmmbuild.input.alun0rld.fasta\n",
      "[15:05:01] alignment.py (line 556):     INFO: Merging extension sto file (/tmp/sepp/output.jey9dy3u/root/P_1/A_1_0/FC_1_0_1/hmmalign.results.xw7g0b7p) into base alignment (/tmp/sepp/output.jey9dy3u/root/P_1/A_1_0/hmmbuild.input.sl3tht_4.fasta).\n",
      "[15:05:01] alignment.py (line 556):     INFO: Merging extension sto file (/tmp/sepp/output.jey9dy3u/root/P_1/A_1_0/FC_1_0_2/hmmalign.results.90uedpz4) into base alignment (/tmp/sepp/output.jey9dy3u/root/P_1/A_1_0/hmmbuild.input.sl3tht_4.fasta).\n",
      "[15:05:01] exhaustive.py (line 151):     INFO: Merging sub-alignments for placement problem : P_6.\n",
      "[15:05:01] alignment.py (line 556):     INFO: Merging extension sto file (/tmp/sepp/output.jey9dy3u/root/P_6/A_6_0/FC_6_0_0/hmmalign.results.sv6m8zk8) into base alignment (/tmp/sepp/output.jey9dy3u/root/P_6/A_6_0/hmmbuild.input.5jpbodle.fasta).\n",
      "[15:05:01] alignment.py (line 556):     INFO: Merging extension sto file (/tmp/sepp/output.jey9dy3u/root/P_6/A_6_0/FC_6_0_1/hmmalign.results.k22qo5vn) into base alignment (/tmp/sepp/output.jey9dy3u/root/P_6/A_6_0/hmmbuild.input.5jpbodle.fasta).\n",
      "[15:05:01] alignment.py (line 556):     INFO: Merging extension sto file (/tmp/sepp/output.jey9dy3u/root/P_6/A_6_0/FC_6_0_2/hmmalign.results.8vz30otb) into base alignment (/tmp/sepp/output.jey9dy3u/root/P_6/A_6_0/hmmbuild.input.5jpbodle.fasta).\n",
      "[15:05:01] exhaustive.py (line 151):     INFO: Merging sub-alignments for placement problem : P_7.\n",
      "[15:05:01] alignment.py (line 556):     INFO: Merging extension sto file (/tmp/sepp/output.jey9dy3u/root/P_7/A_7_0/FC_7_0_0/hmmalign.results.xw7vcet6) into base alignment (/tmp/sepp/output.jey9dy3u/root/P_7/A_7_0/hmmbuild.input.6mwcx_yd.fasta).\n",
      "[15:05:01] alignment.py (line 556):     INFO: Merging extension sto file (/tmp/sepp/output.jey9dy3u/root/P_7/A_7_0/FC_7_0_1/hmmalign.results.bot3jgv0) into base alignment (/tmp/sepp/output.jey9dy3u/root/P_7/A_7_0/hmmbuild.input.6mwcx_yd.fasta).\n",
      "[15:05:01] jobs.py (line 131):     INFO: Finished hmmalign Job with input: model:/tmp/sepp/output.jey9dy3u/root/P_9/A_9_0/hmmbuild.model._zmv4ya5, fragments:/tmp/sepp/output.jey9dy3u/root/P_9/A_9_0/FC_9_0_2/hmmalign.frag.hbpgg70l.fasta, trim:False, base_alignment:/tmp/sepp/output.jey9dy3u/root/P_9/A_9_0/hmmbuild.input.5p1hrsmk.fasta\n",
      "[15:05:01] jobs.py (line 131):     INFO: Finished hmmalign Job with input: model:/tmp/sepp/output.jey9dy3u/root/P_9/A_9_0/hmmbuild.model._zmv4ya5, fragments:/tmp/sepp/output.jey9dy3u/root/P_9/A_9_0/FC_9_0_0/hmmalign.frag.qkrz2w6p.fasta, trim:False, base_alignment:/tmp/sepp/output.jey9dy3u/root/P_9/A_9_0/hmmbuild.input.5p1hrsmk.fasta\n",
      "[15:05:01] alignment.py (line 556):     INFO: Merging extension sto file (/tmp/sepp/output.jey9dy3u/root/P_7/A_7_0/FC_7_0_2/hmmalign.results.7_i9435h) into base alignment (/tmp/sepp/output.jey9dy3u/root/P_7/A_7_0/hmmbuild.input.6mwcx_yd.fasta).\n",
      "[15:05:01] jobs.py (line 131):     INFO: Finished hmmalign Job with input: model:/tmp/sepp/output.jey9dy3u/root/P_9/A_9_0/hmmbuild.model._zmv4ya5, fragments:/tmp/sepp/output.jey9dy3u/root/P_9/A_9_0/FC_9_0_1/hmmalign.frag.54nx2c35.fasta, trim:False, base_alignment:/tmp/sepp/output.jey9dy3u/root/P_9/A_9_0/hmmbuild.input.5p1hrsmk.fasta\n",
      "[15:05:01] exhaustive.py (line 151):     INFO: Merging sub-alignments for placement problem : P_8.\n",
      "[15:05:01] alignment.py (line 556):     INFO: Merging extension sto file (/tmp/sepp/output.jey9dy3u/root/P_8/A_8_0/FC_8_0_0/hmmalign.results.pnx8xwaw) into base alignment (/tmp/sepp/output.jey9dy3u/root/P_8/A_8_0/hmmbuild.input.lg30b8ci.fasta).\n",
      "[15:05:01] alignment.py (line 556):     INFO: Merging extension sto file (/tmp/sepp/output.jey9dy3u/root/P_8/A_8_0/FC_8_0_1/hmmalign.results.nv88xxk4) into base alignment (/tmp/sepp/output.jey9dy3u/root/P_8/A_8_0/hmmbuild.input.lg30b8ci.fasta).\n",
      "[15:05:01] alignment.py (line 556):     INFO: Merging extension sto file (/tmp/sepp/output.jey9dy3u/root/P_8/A_8_0/FC_8_0_2/hmmalign.results.gx30tcfd) into base alignment (/tmp/sepp/output.jey9dy3u/root/P_8/A_8_0/hmmbuild.input.lg30b8ci.fasta).\n",
      "[15:05:01] exhaustive.py (line 151):     INFO: Merging sub-alignments for placement problem : P_10.\n",
      "[15:05:02] alignment.py (line 556):     INFO: Merging extension sto file (/tmp/sepp/output.jey9dy3u/root/P_10/A_10_0/FC_10_0_0/hmmalign.results.1y7brroe) into base alignment (/tmp/sepp/output.jey9dy3u/root/P_10/A_10_0/hmmbuild.input.alun0rld.fasta).\n",
      "[15:05:02] alignment.py (line 556):     INFO: Merging extension sto file (/tmp/sepp/output.jey9dy3u/root/P_10/A_10_0/FC_10_0_1/hmmalign.results.tlrybouf) into base alignment (/tmp/sepp/output.jey9dy3u/root/P_10/A_10_0/hmmbuild.input.alun0rld.fasta).\n",
      "[15:05:02] alignment.py (line 556):     INFO: Merging extension sto file (/tmp/sepp/output.jey9dy3u/root/P_10/A_10_0/FC_10_0_2/hmmalign.results.6fco76hm) into base alignment (/tmp/sepp/output.jey9dy3u/root/P_10/A_10_0/hmmbuild.input.alun0rld.fasta).\n",
      "[15:05:02] exhaustive.py (line 151):     INFO: Merging sub-alignments for placement problem : P_9.\n",
      "[15:05:02] alignment.py (line 556):     INFO: Merging extension sto file (/tmp/sepp/output.jey9dy3u/root/P_9/A_9_0/FC_9_0_0/hmmalign.results.yqj689l3) into base alignment (/tmp/sepp/output.jey9dy3u/root/P_9/A_9_0/hmmbuild.input.5p1hrsmk.fasta).\n",
      "[15:05:02] alignment.py (line 556):     INFO: Merging extension sto file (/tmp/sepp/output.jey9dy3u/root/P_9/A_9_0/FC_9_0_1/hmmalign.results.tdfexf_c) into base alignment (/tmp/sepp/output.jey9dy3u/root/P_9/A_9_0/hmmbuild.input.5p1hrsmk.fasta).\n",
      "[15:05:02] alignment.py (line 556):     INFO: Merging extension sto file (/tmp/sepp/output.jey9dy3u/root/P_9/A_9_0/FC_9_0_2/hmmalign.results.ok9k8le7) into base alignment (/tmp/sepp/output.jey9dy3u/root/P_9/A_9_0/hmmbuild.input.5p1hrsmk.fasta).\n",
      "[15:05:03] jobs.py (line 131):     INFO: Finished hmmalign Job with input: model:/tmp/sepp/output.jey9dy3u/root/P_12/A_12_0/hmmbuild.model.oplsnga3, fragments:/tmp/sepp/output.jey9dy3u/root/P_12/A_12_0/FC_12_0_0/hmmalign.frag.53d9mi9e.fasta, trim:False, base_alignment:/tmp/sepp/output.jey9dy3u/root/P_12/A_12_0/hmmbuild.input.qvd9_8cr.fasta\n",
      "[15:05:03] jobs.py (line 131):     INFO: Finished hmmalign Job with input: model:/tmp/sepp/output.jey9dy3u/root/P_12/A_12_0/hmmbuild.model.oplsnga3, fragments:/tmp/sepp/output.jey9dy3u/root/P_12/A_12_0/FC_12_0_1/hmmalign.frag.9m1xynun.fasta, trim:False, base_alignment:/tmp/sepp/output.jey9dy3u/root/P_12/A_12_0/hmmbuild.input.qvd9_8cr.fasta\n",
      "[15:05:03] jobs.py (line 131):     INFO: Finished hmmalign Job with input: model:/tmp/sepp/output.jey9dy3u/root/P_12/A_12_0/hmmbuild.model.oplsnga3, fragments:/tmp/sepp/output.jey9dy3u/root/P_12/A_12_0/FC_12_0_2/hmmalign.frag.n0flwhi9.fasta, trim:False, base_alignment:/tmp/sepp/output.jey9dy3u/root/P_12/A_12_0/hmmbuild.input.qvd9_8cr.fasta\n",
      "[15:05:03] exhaustive.py (line 151):     INFO: Merging sub-alignments for placement problem : P_12.\n",
      "[15:05:03] alignment.py (line 556):     INFO: Merging extension sto file (/tmp/sepp/output.jey9dy3u/root/P_12/A_12_0/FC_12_0_0/hmmalign.results.9llt0bz5) into base alignment (/tmp/sepp/output.jey9dy3u/root/P_12/A_12_0/hmmbuild.input.qvd9_8cr.fasta).\n",
      "[15:05:03] alignment.py (line 556):     INFO: Merging extension sto file (/tmp/sepp/output.jey9dy3u/root/P_12/A_12_0/FC_12_0_1/hmmalign.results.exbcj2ar) into base alignment (/tmp/sepp/output.jey9dy3u/root/P_12/A_12_0/hmmbuild.input.qvd9_8cr.fasta).\n",
      "[15:05:03] alignment.py (line 556):     INFO: Merging extension sto file (/tmp/sepp/output.jey9dy3u/root/P_12/A_12_0/FC_12_0_2/hmmalign.results.8i1nh74o) into base alignment (/tmp/sepp/output.jey9dy3u/root/P_12/A_12_0/hmmbuild.input.qvd9_8cr.fasta).\n",
      "[15:05:03] jobs.py (line 131):     INFO: Finished hmmalign Job with input: model:/tmp/sepp/output.jey9dy3u/root/P_13/A_13_0/hmmbuild.model.llg8f813, fragments:/tmp/sepp/output.jey9dy3u/root/P_13/A_13_0/FC_13_0_0/hmmalign.frag.fj2be7a7.fasta, trim:False, base_alignment:/tmp/sepp/output.jey9dy3u/root/P_13/A_13_0/hmmbuild.input.52b2g39n.fasta\n",
      "[15:05:03] jobs.py (line 131):     INFO: Finished hmmalign Job with input: model:/tmp/sepp/output.jey9dy3u/root/P_13/A_13_0/hmmbuild.model.llg8f813, fragments:/tmp/sepp/output.jey9dy3u/root/P_13/A_13_0/FC_13_0_1/hmmalign.frag.mofpq1y8.fasta, trim:False, base_alignment:/tmp/sepp/output.jey9dy3u/root/P_13/A_13_0/hmmbuild.input.52b2g39n.fasta\n",
      "[15:05:03] jobs.py (line 131):     INFO: Finished hmmalign Job with input: model:/tmp/sepp/output.jey9dy3u/root/P_14/A_14_0/hmmbuild.model.q8aujobf, fragments:/tmp/sepp/output.jey9dy3u/root/P_14/A_14_0/FC_14_0_0/hmmalign.frag.8kkclx6u.fasta, trim:False, base_alignment:/tmp/sepp/output.jey9dy3u/root/P_14/A_14_0/hmmbuild.input.cyqancud.fasta\n",
      "[15:05:03] jobs.py (line 131):     INFO: Finished hmmalign Job with input: model:/tmp/sepp/output.jey9dy3u/root/P_14/A_14_0/hmmbuild.model.q8aujobf, fragments:/tmp/sepp/output.jey9dy3u/root/P_14/A_14_0/FC_14_0_1/hmmalign.frag.zz539d5w.fasta, trim:False, base_alignment:/tmp/sepp/output.jey9dy3u/root/P_14/A_14_0/hmmbuild.input.cyqancud.fasta\n",
      "[15:05:03] exhaustive.py (line 151):     INFO: Merging sub-alignments for placement problem : P_15.\n",
      "[15:05:03] jobs.py (line 131):     INFO: Finished hmmalign Job with input: model:/tmp/sepp/output.jey9dy3u/root/P_13/A_13_0/hmmbuild.model.llg8f813, fragments:/tmp/sepp/output.jey9dy3u/root/P_13/A_13_0/FC_13_0_2/hmmalign.frag.5zn5guu1.fasta, trim:False, base_alignment:/tmp/sepp/output.jey9dy3u/root/P_13/A_13_0/hmmbuild.input.52b2g39n.fasta\n",
      "[15:05:03] jobs.py (line 131):     INFO: Finished hmmalign Job with input: model:/tmp/sepp/output.jey9dy3u/root/P_14/A_14_0/hmmbuild.model.q8aujobf, fragments:/tmp/sepp/output.jey9dy3u/root/P_14/A_14_0/FC_14_0_2/hmmalign.frag.qagbhtgy.fasta, trim:False, base_alignment:/tmp/sepp/output.jey9dy3u/root/P_14/A_14_0/hmmbuild.input.cyqancud.fasta\n",
      "[15:05:04] exhaustive.py (line 151):     INFO: Merging sub-alignments for placement problem : P_13.\n",
      "[15:05:04] alignment.py (line 556):     INFO: Merging extension sto file (/tmp/sepp/output.jey9dy3u/root/P_13/A_13_0/FC_13_0_0/hmmalign.results.5gkf7imh) into base alignment (/tmp/sepp/output.jey9dy3u/root/P_13/A_13_0/hmmbuild.input.52b2g39n.fasta).\n",
      "[15:05:04] alignment.py (line 556):     INFO: Merging extension sto file (/tmp/sepp/output.jey9dy3u/root/P_13/A_13_0/FC_13_0_1/hmmalign.results.moecsafb) into base alignment (/tmp/sepp/output.jey9dy3u/root/P_13/A_13_0/hmmbuild.input.52b2g39n.fasta).\n",
      "[15:05:04] alignment.py (line 556):     INFO: Merging extension sto file (/tmp/sepp/output.jey9dy3u/root/P_13/A_13_0/FC_13_0_2/hmmalign.results.79bfs2zt) into base alignment (/tmp/sepp/output.jey9dy3u/root/P_13/A_13_0/hmmbuild.input.52b2g39n.fasta).\n",
      "[15:05:04] exhaustive.py (line 151):     INFO: Merging sub-alignments for placement problem : P_14.\n",
      "[15:05:04] alignment.py (line 556):     INFO: Merging extension sto file (/tmp/sepp/output.jey9dy3u/root/P_14/A_14_0/FC_14_0_0/hmmalign.results.u1iefovu) into base alignment (/tmp/sepp/output.jey9dy3u/root/P_14/A_14_0/hmmbuild.input.cyqancud.fasta).\n",
      "[15:05:04] alignment.py (line 556):     INFO: Merging extension sto file (/tmp/sepp/output.jey9dy3u/root/P_14/A_14_0/FC_14_0_1/hmmalign.results.4r68duji) into base alignment (/tmp/sepp/output.jey9dy3u/root/P_14/A_14_0/hmmbuild.input.cyqancud.fasta).\n",
      "[15:05:04] alignment.py (line 556):     INFO: Merging extension sto file (/tmp/sepp/output.jey9dy3u/root/P_14/A_14_0/FC_14_0_2/hmmalign.results.psvfal8m) into base alignment (/tmp/sepp/output.jey9dy3u/root/P_14/A_14_0/hmmbuild.input.cyqancud.fasta).\n",
      "[15:05:09] jobs.py (line 131):     INFO: Finished pplacer Job with input: backbone_alignment_file:/tmp/sepp/output.jey9dy3u/root/P_5/pplacer.backbone.yuwg9x6d.fasta, tree_file:/tmp/sepp/output.jey9dy3u/root/P_5/pplacer.tree.n7gb46ko.tre, info_file:/home/lauro/anaconda3/envs/qiime2-2021.11/lib/python3.8/site-packages/picrust2/default_files/prokaryotic/pro_ref/pro_ref.raxml_info, extended alignment:/tmp/sepp/output.jey9dy3u/root/P_5/pplacer.extended.2.gsg69bkz.fasta, output:/tmp/sepp/output.jey9dy3u/root/P_5/pplacer.extended.2.gsg69bkz.jplace\n",
      "[15:05:10] jobs.py (line 131):     INFO: Finished pplacer Job with input: backbone_alignment_file:/tmp/sepp/output.jey9dy3u/root/P_5/pplacer.backbone.druvcixh.fasta, tree_file:/tmp/sepp/output.jey9dy3u/root/P_5/pplacer.tree.5qj2gs_g.tre, info_file:/home/lauro/anaconda3/envs/qiime2-2021.11/lib/python3.8/site-packages/picrust2/default_files/prokaryotic/pro_ref/pro_ref.raxml_info, extended alignment:/tmp/sepp/output.jey9dy3u/root/P_5/pplacer.extended.1.fn4l4z3l.fasta, output:/tmp/sepp/output.jey9dy3u/root/P_5/pplacer.extended.1.fn4l4z3l.jplace\n",
      "[15:05:10] jobs.py (line 131):     INFO: Finished pplacer Job with input: backbone_alignment_file:/tmp/sepp/output.jey9dy3u/root/P_5/pplacer.backbone.tknnqml6.fasta, tree_file:/tmp/sepp/output.jey9dy3u/root/P_5/pplacer.tree.y13jketw.tre, info_file:/home/lauro/anaconda3/envs/qiime2-2021.11/lib/python3.8/site-packages/picrust2/default_files/prokaryotic/pro_ref/pro_ref.raxml_info, extended alignment:/tmp/sepp/output.jey9dy3u/root/P_5/pplacer.extended.0.gk9iaczq.fasta, output:/tmp/sepp/output.jey9dy3u/root/P_5/pplacer.extended.0.gk9iaczq.jplace\n",
      "[15:05:12] jobs.py (line 131):     INFO: Finished hmmalign Job with input: model:/tmp/sepp/output.jey9dy3u/root/P_11/A_11_0/hmmbuild.model.q2zj1thd, fragments:/tmp/sepp/output.jey9dy3u/root/P_11/A_11_0/FC_11_0_1/hmmalign.frag.nbnl_xzl.fasta, trim:False, base_alignment:/tmp/sepp/output.jey9dy3u/root/P_11/A_11_0/hmmbuild.input.rpkezeyo.fasta\n",
      "[15:05:13] jobs.py (line 131):     INFO: Finished hmmalign Job with input: model:/tmp/sepp/output.jey9dy3u/root/P_11/A_11_0/hmmbuild.model.q2zj1thd, fragments:/tmp/sepp/output.jey9dy3u/root/P_11/A_11_0/FC_11_0_0/hmmalign.frag.mqnclwku.fasta, trim:False, base_alignment:/tmp/sepp/output.jey9dy3u/root/P_11/A_11_0/hmmbuild.input.rpkezeyo.fasta\n",
      "[15:05:13] jobs.py (line 131):     INFO: Finished hmmalign Job with input: model:/tmp/sepp/output.jey9dy3u/root/P_11/A_11_0/hmmbuild.model.q2zj1thd, fragments:/tmp/sepp/output.jey9dy3u/root/P_11/A_11_0/FC_11_0_2/hmmalign.frag.g0zbem6o.fasta, trim:False, base_alignment:/tmp/sepp/output.jey9dy3u/root/P_11/A_11_0/hmmbuild.input.rpkezeyo.fasta\n",
      "[15:05:13] exhaustive.py (line 151):     INFO: Merging sub-alignments for placement problem : P_11.\n",
      "[15:05:13] alignment.py (line 556):     INFO: Merging extension sto file (/tmp/sepp/output.jey9dy3u/root/P_11/A_11_0/FC_11_0_0/hmmalign.results.656kora7) into base alignment (/tmp/sepp/output.jey9dy3u/root/P_11/A_11_0/hmmbuild.input.rpkezeyo.fasta).\n",
      "[15:05:13] alignment.py (line 556):     INFO: Merging extension sto file (/tmp/sepp/output.jey9dy3u/root/P_11/A_11_0/FC_11_0_1/hmmalign.results.ob5vuvis) into base alignment (/tmp/sepp/output.jey9dy3u/root/P_11/A_11_0/hmmbuild.input.rpkezeyo.fasta).\n",
      "[15:05:13] alignment.py (line 556):     INFO: Merging extension sto file (/tmp/sepp/output.jey9dy3u/root/P_11/A_11_0/FC_11_0_2/hmmalign.results.ulnc6uhj) into base alignment (/tmp/sepp/output.jey9dy3u/root/P_11/A_11_0/hmmbuild.input.rpkezeyo.fasta).\n",
      "[15:05:14] jobs.py (line 131):     INFO: Finished pplacer Job with input: backbone_alignment_file:/tmp/sepp/output.jey9dy3u/root/P_1/pplacer.backbone.hbcgz7vl.fasta, tree_file:/tmp/sepp/output.jey9dy3u/root/P_1/pplacer.tree.2kom8k_p.tre, info_file:/home/lauro/anaconda3/envs/qiime2-2021.11/lib/python3.8/site-packages/picrust2/default_files/prokaryotic/pro_ref/pro_ref.raxml_info, extended alignment:/tmp/sepp/output.jey9dy3u/root/P_1/pplacer.extended.0.ni09u8vx.fasta, output:/tmp/sepp/output.jey9dy3u/root/P_1/pplacer.extended.0.ni09u8vx.jplace\n",
      "[15:05:15] jobs.py (line 131):     INFO: Finished pplacer Job with input: backbone_alignment_file:/tmp/sepp/output.jey9dy3u/root/P_1/pplacer.backbone.bwsuz5y6.fasta, tree_file:/tmp/sepp/output.jey9dy3u/root/P_1/pplacer.tree.te4sxu0e.tre, info_file:/home/lauro/anaconda3/envs/qiime2-2021.11/lib/python3.8/site-packages/picrust2/default_files/prokaryotic/pro_ref/pro_ref.raxml_info, extended alignment:/tmp/sepp/output.jey9dy3u/root/P_1/pplacer.extended.2.13fdxe0e.fasta, output:/tmp/sepp/output.jey9dy3u/root/P_1/pplacer.extended.2.13fdxe0e.jplace\n",
      "[15:05:15] jobs.py (line 131):     INFO: Finished pplacer Job with input: backbone_alignment_file:/tmp/sepp/output.jey9dy3u/root/P_1/pplacer.backbone.utfkfrbs.fasta, tree_file:/tmp/sepp/output.jey9dy3u/root/P_1/pplacer.tree.py012aa_.tre, info_file:/home/lauro/anaconda3/envs/qiime2-2021.11/lib/python3.8/site-packages/picrust2/default_files/prokaryotic/pro_ref/pro_ref.raxml_info, extended alignment:/tmp/sepp/output.jey9dy3u/root/P_1/pplacer.extended.1.c2qermb2.fasta, output:/tmp/sepp/output.jey9dy3u/root/P_1/pplacer.extended.1.c2qermb2.jplace\n",
      "[15:05:18] jobs.py (line 131):     INFO: Finished pplacer Job with input: backbone_alignment_file:/tmp/sepp/output.jey9dy3u/root/P_7/pplacer.backbone.f1qjrej9.fasta, tree_file:/tmp/sepp/output.jey9dy3u/root/P_7/pplacer.tree.5w0s9kay.tre, info_file:/home/lauro/anaconda3/envs/qiime2-2021.11/lib/python3.8/site-packages/picrust2/default_files/prokaryotic/pro_ref/pro_ref.raxml_info, extended alignment:/tmp/sepp/output.jey9dy3u/root/P_7/pplacer.extended.0.r1gegpd6.fasta, output:/tmp/sepp/output.jey9dy3u/root/P_7/pplacer.extended.0.r1gegpd6.jplace\n",
      "[15:05:19] jobs.py (line 131):     INFO: Finished pplacer Job with input: backbone_alignment_file:/tmp/sepp/output.jey9dy3u/root/P_7/pplacer.backbone.ajekxztl.fasta, tree_file:/tmp/sepp/output.jey9dy3u/root/P_7/pplacer.tree.w7lr8hxh.tre, info_file:/home/lauro/anaconda3/envs/qiime2-2021.11/lib/python3.8/site-packages/picrust2/default_files/prokaryotic/pro_ref/pro_ref.raxml_info, extended alignment:/tmp/sepp/output.jey9dy3u/root/P_7/pplacer.extended.2.6efde0ih.fasta, output:/tmp/sepp/output.jey9dy3u/root/P_7/pplacer.extended.2.6efde0ih.jplace\n",
      "[15:05:20] jobs.py (line 131):     INFO: Finished pplacer Job with input: backbone_alignment_file:/tmp/sepp/output.jey9dy3u/root/P_6/pplacer.backbone.yw5oeai5.fasta, tree_file:/tmp/sepp/output.jey9dy3u/root/P_6/pplacer.tree.0tqt27_a.tre, info_file:/home/lauro/anaconda3/envs/qiime2-2021.11/lib/python3.8/site-packages/picrust2/default_files/prokaryotic/pro_ref/pro_ref.raxml_info, extended alignment:/tmp/sepp/output.jey9dy3u/root/P_6/pplacer.extended.2.hwkc4i4f.fasta, output:/tmp/sepp/output.jey9dy3u/root/P_6/pplacer.extended.2.hwkc4i4f.jplace\n",
      "[15:05:22] jobs.py (line 131):     INFO: Finished pplacer Job with input: backbone_alignment_file:/tmp/sepp/output.jey9dy3u/root/P_7/pplacer.backbone._xw61u3u.fasta, tree_file:/tmp/sepp/output.jey9dy3u/root/P_7/pplacer.tree.36_l3te_.tre, info_file:/home/lauro/anaconda3/envs/qiime2-2021.11/lib/python3.8/site-packages/picrust2/default_files/prokaryotic/pro_ref/pro_ref.raxml_info, extended alignment:/tmp/sepp/output.jey9dy3u/root/P_7/pplacer.extended.1.l9eb3jvy.fasta, output:/tmp/sepp/output.jey9dy3u/root/P_7/pplacer.extended.1.l9eb3jvy.jplace\n",
      "[15:05:22] jobs.py (line 131):     INFO: Finished pplacer Job with input: backbone_alignment_file:/tmp/sepp/output.jey9dy3u/root/P_8/pplacer.backbone.8mbe_7d2.fasta, tree_file:/tmp/sepp/output.jey9dy3u/root/P_8/pplacer.tree.pnf_e055.tre, info_file:/home/lauro/anaconda3/envs/qiime2-2021.11/lib/python3.8/site-packages/picrust2/default_files/prokaryotic/pro_ref/pro_ref.raxml_info, extended alignment:/tmp/sepp/output.jey9dy3u/root/P_8/pplacer.extended.0.ayc85ytk.fasta, output:/tmp/sepp/output.jey9dy3u/root/P_8/pplacer.extended.0.ayc85ytk.jplace\n",
      "[15:05:23] jobs.py (line 131):     INFO: Finished pplacer Job with input: backbone_alignment_file:/tmp/sepp/output.jey9dy3u/root/P_8/pplacer.backbone.wmxe5245.fasta, tree_file:/tmp/sepp/output.jey9dy3u/root/P_8/pplacer.tree.svn4mp35.tre, info_file:/home/lauro/anaconda3/envs/qiime2-2021.11/lib/python3.8/site-packages/picrust2/default_files/prokaryotic/pro_ref/pro_ref.raxml_info, extended alignment:/tmp/sepp/output.jey9dy3u/root/P_8/pplacer.extended.1.g0zcn8ca.fasta, output:/tmp/sepp/output.jey9dy3u/root/P_8/pplacer.extended.1.g0zcn8ca.jplace\n",
      "[15:05:24] jobs.py (line 131):     INFO: Finished pplacer Job with input: backbone_alignment_file:/tmp/sepp/output.jey9dy3u/root/P_8/pplacer.backbone.d_xsvpmr.fasta, tree_file:/tmp/sepp/output.jey9dy3u/root/P_8/pplacer.tree.wyd7nzxy.tre, info_file:/home/lauro/anaconda3/envs/qiime2-2021.11/lib/python3.8/site-packages/picrust2/default_files/prokaryotic/pro_ref/pro_ref.raxml_info, extended alignment:/tmp/sepp/output.jey9dy3u/root/P_8/pplacer.extended.2.8klyc2zt.fasta, output:/tmp/sepp/output.jey9dy3u/root/P_8/pplacer.extended.2.8klyc2zt.jplace\n",
      "[15:05:24] jobs.py (line 131):     INFO: Finished pplacer Job with input: backbone_alignment_file:/tmp/sepp/output.jey9dy3u/root/P_6/pplacer.backbone.jox2yalc.fasta, tree_file:/tmp/sepp/output.jey9dy3u/root/P_6/pplacer.tree.5c8jtyja.tre, info_file:/home/lauro/anaconda3/envs/qiime2-2021.11/lib/python3.8/site-packages/picrust2/default_files/prokaryotic/pro_ref/pro_ref.raxml_info, extended alignment:/tmp/sepp/output.jey9dy3u/root/P_6/pplacer.extended.0.ui70mac0.fasta, output:/tmp/sepp/output.jey9dy3u/root/P_6/pplacer.extended.0.ui70mac0.jplace\n",
      "[15:05:25] jobs.py (line 131):     INFO: Finished pplacer Job with input: backbone_alignment_file:/tmp/sepp/output.jey9dy3u/root/P_6/pplacer.backbone.71ngg_t7.fasta, tree_file:/tmp/sepp/output.jey9dy3u/root/P_6/pplacer.tree.4s8do3je.tre, info_file:/home/lauro/anaconda3/envs/qiime2-2021.11/lib/python3.8/site-packages/picrust2/default_files/prokaryotic/pro_ref/pro_ref.raxml_info, extended alignment:/tmp/sepp/output.jey9dy3u/root/P_6/pplacer.extended.1.vdooflxa.fasta, output:/tmp/sepp/output.jey9dy3u/root/P_6/pplacer.extended.1.vdooflxa.jplace\n",
      "[15:05:25] jobs.py (line 131):     INFO: Finished pplacer Job with input: backbone_alignment_file:/tmp/sepp/output.jey9dy3u/root/P_10/pplacer.backbone.pyw597zg.fasta, tree_file:/tmp/sepp/output.jey9dy3u/root/P_10/pplacer.tree._68aun2_.tre, info_file:/home/lauro/anaconda3/envs/qiime2-2021.11/lib/python3.8/site-packages/picrust2/default_files/prokaryotic/pro_ref/pro_ref.raxml_info, extended alignment:/tmp/sepp/output.jey9dy3u/root/P_10/pplacer.extended.0.xszwcey9.fasta, output:/tmp/sepp/output.jey9dy3u/root/P_10/pplacer.extended.0.xszwcey9.jplace\n",
      "[15:05:28] jobs.py (line 131):     INFO: Finished pplacer Job with input: backbone_alignment_file:/tmp/sepp/output.jey9dy3u/root/P_10/pplacer.backbone.x8pz8vfl.fasta, tree_file:/tmp/sepp/output.jey9dy3u/root/P_10/pplacer.tree.xk0hu8xd.tre, info_file:/home/lauro/anaconda3/envs/qiime2-2021.11/lib/python3.8/site-packages/picrust2/default_files/prokaryotic/pro_ref/pro_ref.raxml_info, extended alignment:/tmp/sepp/output.jey9dy3u/root/P_10/pplacer.extended.1.prdc7dyg.fasta, output:/tmp/sepp/output.jey9dy3u/root/P_10/pplacer.extended.1.prdc7dyg.jplace\n",
      "[15:05:30] jobs.py (line 131):     INFO: Finished pplacer Job with input: backbone_alignment_file:/tmp/sepp/output.jey9dy3u/root/P_9/pplacer.backbone.cwvgyrea.fasta, tree_file:/tmp/sepp/output.jey9dy3u/root/P_9/pplacer.tree.q4ul218d.tre, info_file:/home/lauro/anaconda3/envs/qiime2-2021.11/lib/python3.8/site-packages/picrust2/default_files/prokaryotic/pro_ref/pro_ref.raxml_info, extended alignment:/tmp/sepp/output.jey9dy3u/root/P_9/pplacer.extended.0._od_u3xn.fasta, output:/tmp/sepp/output.jey9dy3u/root/P_9/pplacer.extended.0._od_u3xn.jplace\n",
      "[15:05:30] jobs.py (line 131):     INFO: Finished pplacer Job with input: backbone_alignment_file:/tmp/sepp/output.jey9dy3u/root/P_9/pplacer.backbone.yujkq8ts.fasta, tree_file:/tmp/sepp/output.jey9dy3u/root/P_9/pplacer.tree.d14n0dvm.tre, info_file:/home/lauro/anaconda3/envs/qiime2-2021.11/lib/python3.8/site-packages/picrust2/default_files/prokaryotic/pro_ref/pro_ref.raxml_info, extended alignment:/tmp/sepp/output.jey9dy3u/root/P_9/pplacer.extended.2.ulve45aw.fasta, output:/tmp/sepp/output.jey9dy3u/root/P_9/pplacer.extended.2.ulve45aw.jplace\n",
      "[15:05:31] jobs.py (line 131):     INFO: Finished pplacer Job with input: backbone_alignment_file:/tmp/sepp/output.jey9dy3u/root/P_10/pplacer.backbone.xi2_1hfe.fasta, tree_file:/tmp/sepp/output.jey9dy3u/root/P_10/pplacer.tree.grgne06d.tre, info_file:/home/lauro/anaconda3/envs/qiime2-2021.11/lib/python3.8/site-packages/picrust2/default_files/prokaryotic/pro_ref/pro_ref.raxml_info, extended alignment:/tmp/sepp/output.jey9dy3u/root/P_10/pplacer.extended.2.livghdjy.fasta, output:/tmp/sepp/output.jey9dy3u/root/P_10/pplacer.extended.2.livghdjy.jplace\n",
      "[15:05:34] jobs.py (line 131):     INFO: Finished pplacer Job with input: backbone_alignment_file:/tmp/sepp/output.jey9dy3u/root/P_9/pplacer.backbone.16ui8vyj.fasta, tree_file:/tmp/sepp/output.jey9dy3u/root/P_9/pplacer.tree.0i9mko97.tre, info_file:/home/lauro/anaconda3/envs/qiime2-2021.11/lib/python3.8/site-packages/picrust2/default_files/prokaryotic/pro_ref/pro_ref.raxml_info, extended alignment:/tmp/sepp/output.jey9dy3u/root/P_9/pplacer.extended.1.8igekb_p.fasta, output:/tmp/sepp/output.jey9dy3u/root/P_9/pplacer.extended.1.8igekb_p.jplace\n",
      "[15:05:34] jobs.py (line 131):     INFO: Finished pplacer Job with input: backbone_alignment_file:/tmp/sepp/output.jey9dy3u/root/P_13/pplacer.backbone.8kcfb_2_.fasta, tree_file:/tmp/sepp/output.jey9dy3u/root/P_13/pplacer.tree.5692c59u.tre, info_file:/home/lauro/anaconda3/envs/qiime2-2021.11/lib/python3.8/site-packages/picrust2/default_files/prokaryotic/pro_ref/pro_ref.raxml_info, extended alignment:/tmp/sepp/output.jey9dy3u/root/P_13/pplacer.extended.0.kmoxilrh.fasta, output:/tmp/sepp/output.jey9dy3u/root/P_13/pplacer.extended.0.kmoxilrh.jplace\n",
      "[15:05:36] jobs.py (line 131):     INFO: Finished pplacer Job with input: backbone_alignment_file:/tmp/sepp/output.jey9dy3u/root/P_12/pplacer.backbone.i_q3lrag.fasta, tree_file:/tmp/sepp/output.jey9dy3u/root/P_12/pplacer.tree.u5e7e5nn.tre, info_file:/home/lauro/anaconda3/envs/qiime2-2021.11/lib/python3.8/site-packages/picrust2/default_files/prokaryotic/pro_ref/pro_ref.raxml_info, extended alignment:/tmp/sepp/output.jey9dy3u/root/P_12/pplacer.extended.0._p42bqcc.fasta, output:/tmp/sepp/output.jey9dy3u/root/P_12/pplacer.extended.0._p42bqcc.jplace\n",
      "[15:05:38] jobs.py (line 131):     INFO: Finished pplacer Job with input: backbone_alignment_file:/tmp/sepp/output.jey9dy3u/root/P_13/pplacer.backbone.16c2n9au.fasta, tree_file:/tmp/sepp/output.jey9dy3u/root/P_13/pplacer.tree.y4o877i6.tre, info_file:/home/lauro/anaconda3/envs/qiime2-2021.11/lib/python3.8/site-packages/picrust2/default_files/prokaryotic/pro_ref/pro_ref.raxml_info, extended alignment:/tmp/sepp/output.jey9dy3u/root/P_13/pplacer.extended.2.tl28y521.fasta, output:/tmp/sepp/output.jey9dy3u/root/P_13/pplacer.extended.2.tl28y521.jplace\n",
      "[15:05:38] jobs.py (line 131):     INFO: Finished pplacer Job with input: backbone_alignment_file:/tmp/sepp/output.jey9dy3u/root/P_14/pplacer.backbone.5inh2e3r.fasta, tree_file:/tmp/sepp/output.jey9dy3u/root/P_14/pplacer.tree.k30ueegw.tre, info_file:/home/lauro/anaconda3/envs/qiime2-2021.11/lib/python3.8/site-packages/picrust2/default_files/prokaryotic/pro_ref/pro_ref.raxml_info, extended alignment:/tmp/sepp/output.jey9dy3u/root/P_14/pplacer.extended.0.70rtyg5i.fasta, output:/tmp/sepp/output.jey9dy3u/root/P_14/pplacer.extended.0.70rtyg5i.jplace\n",
      "[15:05:40] jobs.py (line 131):     INFO: Finished pplacer Job with input: backbone_alignment_file:/tmp/sepp/output.jey9dy3u/root/P_14/pplacer.backbone.k0um82pc.fasta, tree_file:/tmp/sepp/output.jey9dy3u/root/P_14/pplacer.tree.t11v0v2t.tre, info_file:/home/lauro/anaconda3/envs/qiime2-2021.11/lib/python3.8/site-packages/picrust2/default_files/prokaryotic/pro_ref/pro_ref.raxml_info, extended alignment:/tmp/sepp/output.jey9dy3u/root/P_14/pplacer.extended.1.h61rojcm.fasta, output:/tmp/sepp/output.jey9dy3u/root/P_14/pplacer.extended.1.h61rojcm.jplace\n",
      "[15:05:40] jobs.py (line 131):     INFO: Finished pplacer Job with input: backbone_alignment_file:/tmp/sepp/output.jey9dy3u/root/P_12/pplacer.backbone.r890dvyd.fasta, tree_file:/tmp/sepp/output.jey9dy3u/root/P_12/pplacer.tree.e4u5580q.tre, info_file:/home/lauro/anaconda3/envs/qiime2-2021.11/lib/python3.8/site-packages/picrust2/default_files/prokaryotic/pro_ref/pro_ref.raxml_info, extended alignment:/tmp/sepp/output.jey9dy3u/root/P_12/pplacer.extended.1.he52dpuz.fasta, output:/tmp/sepp/output.jey9dy3u/root/P_12/pplacer.extended.1.he52dpuz.jplace\n",
      "[15:05:40] jobs.py (line 131):     INFO: Finished pplacer Job with input: backbone_alignment_file:/tmp/sepp/output.jey9dy3u/root/P_13/pplacer.backbone.wnhgfw1w.fasta, tree_file:/tmp/sepp/output.jey9dy3u/root/P_13/pplacer.tree.0py2wt8v.tre, info_file:/home/lauro/anaconda3/envs/qiime2-2021.11/lib/python3.8/site-packages/picrust2/default_files/prokaryotic/pro_ref/pro_ref.raxml_info, extended alignment:/tmp/sepp/output.jey9dy3u/root/P_13/pplacer.extended.1.2tw70zk3.fasta, output:/tmp/sepp/output.jey9dy3u/root/P_13/pplacer.extended.1.2tw70zk3.jplace\n",
      "[15:05:41] jobs.py (line 131):     INFO: Finished pplacer Job with input: backbone_alignment_file:/tmp/sepp/output.jey9dy3u/root/P_12/pplacer.backbone.iq8mofvk.fasta, tree_file:/tmp/sepp/output.jey9dy3u/root/P_12/pplacer.tree.tweyakr2.tre, info_file:/home/lauro/anaconda3/envs/qiime2-2021.11/lib/python3.8/site-packages/picrust2/default_files/prokaryotic/pro_ref/pro_ref.raxml_info, extended alignment:/tmp/sepp/output.jey9dy3u/root/P_12/pplacer.extended.2.amx_pvuo.fasta, output:/tmp/sepp/output.jey9dy3u/root/P_12/pplacer.extended.2.amx_pvuo.jplace\n",
      "[15:05:43] jobs.py (line 131):     INFO: Finished pplacer Job with input: backbone_alignment_file:/tmp/sepp/output.jey9dy3u/root/P_14/pplacer.backbone.d6st5d0a.fasta, tree_file:/tmp/sepp/output.jey9dy3u/root/P_14/pplacer.tree.m89t_c9g.tre, info_file:/home/lauro/anaconda3/envs/qiime2-2021.11/lib/python3.8/site-packages/picrust2/default_files/prokaryotic/pro_ref/pro_ref.raxml_info, extended alignment:/tmp/sepp/output.jey9dy3u/root/P_14/pplacer.extended.2.zktebo9z.fasta, output:/tmp/sepp/output.jey9dy3u/root/P_14/pplacer.extended.2.zktebo9z.jplace\n",
      "[15:06:17] jobs.py (line 131):     INFO: Finished pplacer Job with input: backbone_alignment_file:/tmp/sepp/output.jey9dy3u/root/P_11/pplacer.backbone.25npz1pb.fasta, tree_file:/tmp/sepp/output.jey9dy3u/root/P_11/pplacer.tree.phdga2kj.tre, info_file:/home/lauro/anaconda3/envs/qiime2-2021.11/lib/python3.8/site-packages/picrust2/default_files/prokaryotic/pro_ref/pro_ref.raxml_info, extended alignment:/tmp/sepp/output.jey9dy3u/root/P_11/pplacer.extended.0.t87b9760.fasta, output:/tmp/sepp/output.jey9dy3u/root/P_11/pplacer.extended.0.t87b9760.jplace\n",
      "[15:06:19] jobs.py (line 131):     INFO: Finished pplacer Job with input: backbone_alignment_file:/tmp/sepp/output.jey9dy3u/root/P_11/pplacer.backbone.7r0pch5e.fasta, tree_file:/tmp/sepp/output.jey9dy3u/root/P_11/pplacer.tree.acxo025e.tre, info_file:/home/lauro/anaconda3/envs/qiime2-2021.11/lib/python3.8/site-packages/picrust2/default_files/prokaryotic/pro_ref/pro_ref.raxml_info, extended alignment:/tmp/sepp/output.jey9dy3u/root/P_11/pplacer.extended.1.fkw9_gw9.fasta, output:/tmp/sepp/output.jey9dy3u/root/P_11/pplacer.extended.1.fkw9_gw9.jplace\n",
      "[15:06:19] jobs.py (line 131):     INFO: Finished pplacer Job with input: backbone_alignment_file:/tmp/sepp/output.jey9dy3u/root/P_11/pplacer.backbone.u1uyixsd.fasta, tree_file:/tmp/sepp/output.jey9dy3u/root/P_11/pplacer.tree.90s7ea3q.tre, info_file:/home/lauro/anaconda3/envs/qiime2-2021.11/lib/python3.8/site-packages/picrust2/default_files/prokaryotic/pro_ref/pro_ref.raxml_info, extended alignment:/tmp/sepp/output.jey9dy3u/root/P_11/pplacer.extended.2.5ra8862_.fasta, output:/tmp/sepp/output.jey9dy3u/root/P_11/pplacer.extended.2.5ra8862_.jplace\n",
      "[15:06:28] jobs.py (line 131):     INFO: Finished jsonmerger Job with input: input:pipe output:/tmp/tmperduokhn/picrust2_out/intermediate/place_seqs/sepp_out/output_placement.json\n",
      "[15:06:28] algorithm.py (line 195):     INFO: Current execution Finished in 151 seconds\n",
      "[15:06:28] algorithm.py (line 197):     INFO: All checkpointed executions Finished in 151 cumulative time\n",
      "\n",
      "gappa examine graft --jplace-path /tmp/tmperduokhn/picrust2_out/intermediate/place_seqs/sepp_out/output_placement.json --fully-resolve --out-dir /tmp/tmperduokhn/picrust2_out/intermediate/place_seqs/sepp_out\n",
      "\n",
      "mv /tmp/tmperduokhn/picrust2_out/intermediate/place_seqs/sepp_out/output_placement.newick /tmp/tmperduokhn/picrust2_out/out.tre\n",
      "\n",
      "Finished placing sequences on output tree: /tmp/tmperduokhn/picrust2_out/out.tre\n",
      "hsp.py --tree /tmp/tmperduokhn/picrust2_out/out.tre --output /tmp/tmperduokhn/picrust2_out/marker_predicted_and_nsti.tsv.gz --observed_trait_table /home/lauro/anaconda3/envs/qiime2-2021.11/lib/python3.8/site-packages/picrust2/default_files/prokaryotic/16S.txt.gz --hsp_method pic --edge_exponent 0.5 --seed 100 --calculate_NSTI --processes 1 --verbose\n"
     ]
    },
    {
     "name": "stdout",
     "output_type": "stream",
     "text": [
      "\n",
      "\n",
      "\n"
     ]
    },
    {
     "name": "stderr",
     "output_type": "stream",
     "text": [
      "Rscript /home/lauro/anaconda3/envs/qiime2-2021.11/lib/python3.8/site-packages/picrust2/Rscripts/castor_nsti.R /tmp/tmperduokhn/picrust2_out/out.tre /tmp/tmp4k19jcla/known_tips.txt /tmp/tmp4k19jcla/nsti_out.txt\n",
      "\n",
      "Rscript /home/lauro/anaconda3/envs/qiime2-2021.11/lib/python3.8/site-packages/picrust2/Rscripts/castor_hsp.R /tmp/tmperduokhn/picrust2_out/out.tre /tmp/tmpxib_mjei/subset_tab_0 pic 0.5 FALSE FALSE /tmp/tmp97bd7n__/predicted_counts.txt /tmp/tmp97bd7n__/predicted_ci.txt 100\n",
      "\n",
      "\n",
      "hsp.py --tree /tmp/tmperduokhn/picrust2_out/out.tre --output /tmp/tmperduokhn/picrust2_out/EC_predicted.tsv.gz --observed_trait_table /home/lauro/anaconda3/envs/qiime2-2021.11/lib/python3.8/site-packages/picrust2/default_files/prokaryotic/ec.txt.gz --hsp_method pic --edge_exponent 0.5 --seed 100 --processes 6 --verbose\n"
     ]
    },
    {
     "name": "stdout",
     "output_type": "stream",
     "text": [
      "\n",
      "\n",
      "\n",
      "\n",
      "\n",
      "\n",
      "\n"
     ]
    },
    {
     "name": "stderr",
     "output_type": "stream",
     "text": [
      "Rscript /home/lauro/anaconda3/envs/qiime2-2021.11/lib/python3.8/site-packages/picrust2/Rscripts/castor_hsp.R /tmp/tmperduokhn/picrust2_out/out.tre /tmp/tmpxw5kp99f/subset_tab_5 pic 0.5 FALSE FALSE /tmp/tmp0nraw421/predicted_counts.txt /tmp/tmp0nraw421/predicted_ci.txt 100\n",
      "\n",
      "Rscript /home/lauro/anaconda3/envs/qiime2-2021.11/lib/python3.8/site-packages/picrust2/Rscripts/castor_hsp.R /tmp/tmperduokhn/picrust2_out/out.tre /tmp/tmpxw5kp99f/subset_tab_0 pic 0.5 FALSE FALSE /tmp/tmpzeuo794e/predicted_counts.txt /tmp/tmpzeuo794e/predicted_ci.txt 100\n",
      "\n",
      "Rscript /home/lauro/anaconda3/envs/qiime2-2021.11/lib/python3.8/site-packages/picrust2/Rscripts/castor_hsp.R /tmp/tmperduokhn/picrust2_out/out.tre /tmp/tmpxw5kp99f/subset_tab_1 pic 0.5 FALSE FALSE /tmp/tmp7ewezz6y/predicted_counts.txt /tmp/tmp7ewezz6y/predicted_ci.txt 100\n",
      "\n",
      "Rscript /home/lauro/anaconda3/envs/qiime2-2021.11/lib/python3.8/site-packages/picrust2/Rscripts/castor_hsp.R /tmp/tmperduokhn/picrust2_out/out.tre /tmp/tmpxw5kp99f/subset_tab_3 pic 0.5 FALSE FALSE /tmp/tmp6bc4enlc/predicted_counts.txt /tmp/tmp6bc4enlc/predicted_ci.txt 100\n",
      "\n",
      "Rscript /home/lauro/anaconda3/envs/qiime2-2021.11/lib/python3.8/site-packages/picrust2/Rscripts/castor_hsp.R /tmp/tmperduokhn/picrust2_out/out.tre /tmp/tmpxw5kp99f/subset_tab_2 pic 0.5 FALSE FALSE /tmp/tmpejzq55_o/predicted_counts.txt /tmp/tmpejzq55_o/predicted_ci.txt 100\n",
      "\n",
      "Rscript /home/lauro/anaconda3/envs/qiime2-2021.11/lib/python3.8/site-packages/picrust2/Rscripts/castor_hsp.R /tmp/tmperduokhn/picrust2_out/out.tre /tmp/tmpxw5kp99f/subset_tab_4 pic 0.5 FALSE FALSE /tmp/tmpis39j4wu/predicted_counts.txt /tmp/tmpis39j4wu/predicted_ci.txt 100\n",
      "\n",
      "\n",
      "hsp.py --tree /tmp/tmperduokhn/picrust2_out/out.tre --output /tmp/tmperduokhn/picrust2_out/KO_predicted.tsv.gz --observed_trait_table /home/lauro/anaconda3/envs/qiime2-2021.11/lib/python3.8/site-packages/picrust2/default_files/prokaryotic/ko.txt.gz --hsp_method pic --edge_exponent 0.5 --seed 100 --processes 6 --verbose\n"
     ]
    },
    {
     "name": "stdout",
     "output_type": "stream",
     "text": [
      "\n",
      "\n",
      "\n",
      "\n",
      "\n",
      "\n",
      "\n",
      "\n",
      "\n",
      "\n",
      "\n",
      "\n",
      "\n",
      "\n",
      "\n",
      "\n",
      "\n",
      "\n",
      "\n",
      "\n",
      "\n",
      "\n",
      "\n"
     ]
    },
    {
     "name": "stderr",
     "output_type": "stream",
     "text": [
      "Rscript /home/lauro/anaconda3/envs/qiime2-2021.11/lib/python3.8/site-packages/picrust2/Rscripts/castor_hsp.R /tmp/tmperduokhn/picrust2_out/out.tre /tmp/tmpg94fbk9h/subset_tab_3 pic 0.5 FALSE FALSE /tmp/tmpnbspqd_v/predicted_counts.txt /tmp/tmpnbspqd_v/predicted_ci.txt 100\n",
      "\n",
      "Rscript /home/lauro/anaconda3/envs/qiime2-2021.11/lib/python3.8/site-packages/picrust2/Rscripts/castor_hsp.R /tmp/tmperduokhn/picrust2_out/out.tre /tmp/tmpg94fbk9h/subset_tab_11 pic 0.5 FALSE FALSE /tmp/tmpib80n0ky/predicted_counts.txt /tmp/tmpib80n0ky/predicted_ci.txt 100\n",
      "\n",
      "Rscript /home/lauro/anaconda3/envs/qiime2-2021.11/lib/python3.8/site-packages/picrust2/Rscripts/castor_hsp.R /tmp/tmperduokhn/picrust2_out/out.tre /tmp/tmpg94fbk9h/subset_tab_15 pic 0.5 FALSE FALSE /tmp/tmpm_ybjl87/predicted_counts.txt /tmp/tmpm_ybjl87/predicted_ci.txt 100\n",
      "\n",
      "Rscript /home/lauro/anaconda3/envs/qiime2-2021.11/lib/python3.8/site-packages/picrust2/Rscripts/castor_hsp.R /tmp/tmperduokhn/picrust2_out/out.tre /tmp/tmpg94fbk9h/subset_tab_4 pic 0.5 FALSE FALSE /tmp/tmpqjc02uyb/predicted_counts.txt /tmp/tmpqjc02uyb/predicted_ci.txt 100\n",
      "\n",
      "Rscript /home/lauro/anaconda3/envs/qiime2-2021.11/lib/python3.8/site-packages/picrust2/Rscripts/castor_hsp.R /tmp/tmperduokhn/picrust2_out/out.tre /tmp/tmpg94fbk9h/subset_tab_10 pic 0.5 FALSE FALSE /tmp/tmprpmbysss/predicted_counts.txt /tmp/tmprpmbysss/predicted_ci.txt 100\n",
      "\n",
      "Rscript /home/lauro/anaconda3/envs/qiime2-2021.11/lib/python3.8/site-packages/picrust2/Rscripts/castor_hsp.R /tmp/tmperduokhn/picrust2_out/out.tre /tmp/tmpg94fbk9h/subset_tab_16 pic 0.5 FALSE FALSE /tmp/tmphdh5ax80/predicted_counts.txt /tmp/tmphdh5ax80/predicted_ci.txt 100\n",
      "\n",
      "Rscript /home/lauro/anaconda3/envs/qiime2-2021.11/lib/python3.8/site-packages/picrust2/Rscripts/castor_hsp.R /tmp/tmperduokhn/picrust2_out/out.tre /tmp/tmpg94fbk9h/subset_tab_21 pic 0.5 FALSE FALSE /tmp/tmpcd8y2z8z/predicted_counts.txt /tmp/tmpcd8y2z8z/predicted_ci.txt 100\n",
      "\n",
      "Rscript /home/lauro/anaconda3/envs/qiime2-2021.11/lib/python3.8/site-packages/picrust2/Rscripts/castor_hsp.R /tmp/tmperduokhn/picrust2_out/out.tre /tmp/tmpg94fbk9h/subset_tab_0 pic 0.5 FALSE FALSE /tmp/tmp3qx2q4a_/predicted_counts.txt /tmp/tmp3qx2q4a_/predicted_ci.txt 100\n",
      "\n",
      "Rscript /home/lauro/anaconda3/envs/qiime2-2021.11/lib/python3.8/site-packages/picrust2/Rscripts/castor_hsp.R /tmp/tmperduokhn/picrust2_out/out.tre /tmp/tmpg94fbk9h/subset_tab_8 pic 0.5 FALSE FALSE /tmp/tmp6ycie_zt/predicted_counts.txt /tmp/tmp6ycie_zt/predicted_ci.txt 100\n",
      "\n",
      "Rscript /home/lauro/anaconda3/envs/qiime2-2021.11/lib/python3.8/site-packages/picrust2/Rscripts/castor_hsp.R /tmp/tmperduokhn/picrust2_out/out.tre /tmp/tmpg94fbk9h/subset_tab_17 pic 0.5 FALSE FALSE /tmp/tmp8hzogn7m/predicted_counts.txt /tmp/tmp8hzogn7m/predicted_ci.txt 100\n",
      "\n",
      "Rscript /home/lauro/anaconda3/envs/qiime2-2021.11/lib/python3.8/site-packages/picrust2/Rscripts/castor_hsp.R /tmp/tmperduokhn/picrust2_out/out.tre /tmp/tmpg94fbk9h/subset_tab_2 pic 0.5 FALSE FALSE /tmp/tmp5n6wqiwx/predicted_counts.txt /tmp/tmp5n6wqiwx/predicted_ci.txt 100\n",
      "\n",
      "Rscript /home/lauro/anaconda3/envs/qiime2-2021.11/lib/python3.8/site-packages/picrust2/Rscripts/castor_hsp.R /tmp/tmperduokhn/picrust2_out/out.tre /tmp/tmpg94fbk9h/subset_tab_9 pic 0.5 FALSE FALSE /tmp/tmpo50f6k8k/predicted_counts.txt /tmp/tmpo50f6k8k/predicted_ci.txt 100\n",
      "\n",
      "Rscript /home/lauro/anaconda3/envs/qiime2-2021.11/lib/python3.8/site-packages/picrust2/Rscripts/castor_hsp.R /tmp/tmperduokhn/picrust2_out/out.tre /tmp/tmpg94fbk9h/subset_tab_14 pic 0.5 FALSE FALSE /tmp/tmpq1m9y3_u/predicted_counts.txt /tmp/tmpq1m9y3_u/predicted_ci.txt 100\n",
      "\n",
      "Rscript /home/lauro/anaconda3/envs/qiime2-2021.11/lib/python3.8/site-packages/picrust2/Rscripts/castor_hsp.R /tmp/tmperduokhn/picrust2_out/out.tre /tmp/tmpg94fbk9h/subset_tab_20 pic 0.5 FALSE FALSE /tmp/tmp8ptfgdv0/predicted_counts.txt /tmp/tmp8ptfgdv0/predicted_ci.txt 100\n",
      "\n",
      "Rscript /home/lauro/anaconda3/envs/qiime2-2021.11/lib/python3.8/site-packages/picrust2/Rscripts/castor_hsp.R /tmp/tmperduokhn/picrust2_out/out.tre /tmp/tmpg94fbk9h/subset_tab_1 pic 0.5 FALSE FALSE /tmp/tmpzo09onsz/predicted_counts.txt /tmp/tmpzo09onsz/predicted_ci.txt 100\n",
      "\n",
      "Rscript /home/lauro/anaconda3/envs/qiime2-2021.11/lib/python3.8/site-packages/picrust2/Rscripts/castor_hsp.R /tmp/tmperduokhn/picrust2_out/out.tre /tmp/tmpg94fbk9h/subset_tab_6 pic 0.5 FALSE FALSE /tmp/tmpp851w26o/predicted_counts.txt /tmp/tmpp851w26o/predicted_ci.txt 100\n",
      "\n",
      "Rscript /home/lauro/anaconda3/envs/qiime2-2021.11/lib/python3.8/site-packages/picrust2/Rscripts/castor_hsp.R /tmp/tmperduokhn/picrust2_out/out.tre /tmp/tmpg94fbk9h/subset_tab_13 pic 0.5 FALSE FALSE /tmp/tmptk3vks7q/predicted_counts.txt /tmp/tmptk3vks7q/predicted_ci.txt 100\n",
      "\n",
      "Rscript /home/lauro/anaconda3/envs/qiime2-2021.11/lib/python3.8/site-packages/picrust2/Rscripts/castor_hsp.R /tmp/tmperduokhn/picrust2_out/out.tre /tmp/tmpg94fbk9h/subset_tab_19 pic 0.5 FALSE FALSE /tmp/tmp_7jc239d/predicted_counts.txt /tmp/tmp_7jc239d/predicted_ci.txt 100\n",
      "\n",
      "Rscript /home/lauro/anaconda3/envs/qiime2-2021.11/lib/python3.8/site-packages/picrust2/Rscripts/castor_hsp.R /tmp/tmperduokhn/picrust2_out/out.tre /tmp/tmpg94fbk9h/subset_tab_5 pic 0.5 FALSE FALSE /tmp/tmpc1m8pys6/predicted_counts.txt /tmp/tmpc1m8pys6/predicted_ci.txt 100\n",
      "\n",
      "Rscript /home/lauro/anaconda3/envs/qiime2-2021.11/lib/python3.8/site-packages/picrust2/Rscripts/castor_hsp.R /tmp/tmperduokhn/picrust2_out/out.tre /tmp/tmpg94fbk9h/subset_tab_7 pic 0.5 FALSE FALSE /tmp/tmposcf87sp/predicted_counts.txt /tmp/tmposcf87sp/predicted_ci.txt 100\n",
      "\n",
      "Rscript /home/lauro/anaconda3/envs/qiime2-2021.11/lib/python3.8/site-packages/picrust2/Rscripts/castor_hsp.R /tmp/tmperduokhn/picrust2_out/out.tre /tmp/tmpg94fbk9h/subset_tab_12 pic 0.5 FALSE FALSE /tmp/tmpxyy1twni/predicted_counts.txt /tmp/tmpxyy1twni/predicted_ci.txt 100\n",
      "\n",
      "Rscript /home/lauro/anaconda3/envs/qiime2-2021.11/lib/python3.8/site-packages/picrust2/Rscripts/castor_hsp.R /tmp/tmperduokhn/picrust2_out/out.tre /tmp/tmpg94fbk9h/subset_tab_18 pic 0.5 FALSE FALSE /tmp/tmp5gt0wzy_/predicted_counts.txt /tmp/tmp5gt0wzy_/predicted_ci.txt 100\n",
      "\n",
      "\n",
      "Running metagenome pipeline for EC\n",
      "metagenome_pipeline.py --input /tmp/tmperduokhn/intable.biom --function /tmp/tmperduokhn/picrust2_out/EC_predicted.tsv.gz --min_reads 1 --min_samples 1 --out_dir /tmp/tmperduokhn/picrust2_out/EC_metagenome_out --max_nsti 2 --marker /tmp/tmperduokhn/picrust2_out/marker_predicted_and_nsti.tsv.gz\n"
     ]
    },
    {
     "name": "stdout",
     "output_type": "stream",
     "text": [
      "\n"
     ]
    },
    {
     "name": "stderr",
     "output_type": "stream",
     "text": [
      "All ASVs were below the max NSTI cut-off of 2.0 and so all were retained for downstream analyses.\n",
      "\n",
      "Running metagenome pipeline for KO\n",
      "metagenome_pipeline.py --input /tmp/tmperduokhn/intable.biom --function /tmp/tmperduokhn/picrust2_out/KO_predicted.tsv.gz --min_reads 1 --min_samples 1 --out_dir /tmp/tmperduokhn/picrust2_out/KO_metagenome_out --max_nsti 2 --marker /tmp/tmperduokhn/picrust2_out/marker_predicted_and_nsti.tsv.gz\n"
     ]
    },
    {
     "name": "stdout",
     "output_type": "stream",
     "text": [
      "\n",
      "Inferring pathways from predicted EC\n"
     ]
    },
    {
     "name": "stderr",
     "output_type": "stream",
     "text": [
      "All ASVs were below the max NSTI cut-off of 2.0 and so all were retained for downstream analyses.\n",
      "\n",
      "pathway_pipeline.py --input /tmp/tmperduokhn/picrust2_out/EC_metagenome_out/pred_metagenome_unstrat.tsv.gz --out_dir /tmp/tmperduokhn/picrust2_out/pathways_out --map /home/lauro/anaconda3/envs/qiime2-2021.11/lib/python3.8/site-packages/picrust2/default_files/pathway_mapfiles/metacyc_path2rxn_struc_filt_pro.txt --intermediate /tmp/tmperduokhn/picrust2_out/intermediate/pathways --proc 6 --regroup_map /home/lauro/anaconda3/envs/qiime2-2021.11/lib/python3.8/site-packages/picrust2/default_files/pathway_mapfiles/ec_level4_to_metacyc_rxn.tsv --verbose\n"
     ]
    },
    {
     "name": "stderr",
     "output_type": "stream",
     "text": [
      "\n",
      "Wrote predicted pathway abundances and coverages to /tmp/tmperduokhn/picrust2_out/pathways_out\n"
     ]
    }
   ],
   "source": [
    "need_pipeline = replace_files\n",
    "need_pipeline |= not (os.path.isfile(ec_path) and os.path.isfile(ko_path) and os.path.isfile(pathway_path))\n",
    "if need_pipeline:\n",
    "    results = picrust2.methods.full_pipeline(\n",
    "        table=tabs, \n",
    "        seq=seqs, \n",
    "        threads=6, \n",
    "        placement_tool='sepp',\n",
    "        hsp_method='pic', \n",
    "        max_nsti=2,\n",
    "        highly_verbose=True\n",
    "    )\n",
    "    ec_metagenome = results.ec_metagenome\n",
    "    ko_metagenome = results.ko_metagenome\n",
    "    pathway_abundance = results.pathway_abundance\n",
    "else:\n",
    "    ec_metagenome = Artifact.load(ec_path)\n",
    "    ko_metagenome = Artifact.load(ko_path)\n",
    "    pathway_abundance = Artifact.load(pathway_path)"
   ]
  },
  {
   "cell_type": "markdown",
   "id": "771308c4",
   "metadata": {
    "papermill": {
     "duration": 0.040104,
     "end_time": "2023-06-07T15:10:27.311114",
     "exception": false,
     "start_time": "2023-06-07T15:10:27.271010",
     "status": "completed"
    },
    "tags": []
   },
   "source": [
    "### Persist created artifacts\n",
    "\n",
    "We will define file paths and persist all artifacts. We start with `.qza` files. We will save the visualization files in sequence as `qzv` files. Finally, we save a `biom`-like file as `tsv` with brief descriptions of all functions."
   ]
  },
  {
   "cell_type": "code",
   "execution_count": 9,
   "id": "c680ab46",
   "metadata": {
    "ExecuteTime": {
     "end_time": "2022-11-09T19:20:47.646444Z",
     "start_time": "2022-11-09T19:20:47.643806Z"
    },
    "execution": {
     "iopub.execute_input": "2023-06-07T15:10:27.397742Z",
     "iopub.status.busy": "2023-06-07T15:10:27.397222Z",
     "iopub.status.idle": "2023-06-07T15:10:27.521908Z",
     "shell.execute_reply": "2023-06-07T15:10:27.520896Z"
    },
    "papermill": {
     "duration": 0.170301,
     "end_time": "2023-06-07T15:10:27.522145",
     "exception": false,
     "start_time": "2023-06-07T15:10:27.351844",
     "status": "completed"
    },
    "tags": []
   },
   "outputs": [],
   "source": [
    "if need_pipeline:\n",
    "    # Export artifact folder\n",
    "    ec_metagenome.export_data(output_dir=ec_path.split('.')[0])\n",
    "    ko_metagenome.export_data(output_dir=ko_path.split('.')[0])\n",
    "    pathway_abundance.export_data(output_dir=pathway_path.split('.')[0])\n",
    "    \n",
    "    # Save artifacts as .qza files\n",
    "    ec_metagenome.save(ec_path)\n",
    "    ko_metagenome.save(ko_path)\n",
    "    pathway_abundance.save(pathway_path)"
   ]
  },
  {
   "cell_type": "code",
   "execution_count": 10,
   "id": "d61ebec3",
   "metadata": {
    "ExecuteTime": {
     "end_time": "2022-11-09T19:20:47.687022Z",
     "start_time": "2022-11-09T19:20:47.647637Z"
    },
    "execution": {
     "iopub.execute_input": "2023-06-07T15:10:27.612980Z",
     "iopub.status.busy": "2023-06-07T15:10:27.612462Z",
     "iopub.status.idle": "2023-06-07T15:10:32.098787Z",
     "shell.execute_reply": "2023-06-07T15:10:32.099757Z"
    },
    "papermill": {
     "duration": 4.532224,
     "end_time": "2023-06-07T15:10:32.100037",
     "exception": false,
     "start_time": "2023-06-07T15:10:27.567813",
     "status": "completed"
    },
    "tags": []
   },
   "outputs": [],
   "source": [
    "need_viz = replace_files\n",
    "need_viz |= not (os.path.isfile(ec_viz_path) and os.path.isfile(ko_viz_path) and os.path.isfile(pathway_viz_path))\n",
    "if need_viz:\n",
    "    # Create visualization artifacts\n",
    "    ec_viz = summarize(table=ec_metagenome, sample_metadata=metadata_qa).visualization\n",
    "    ko_viz = summarize(table=ko_metagenome, sample_metadata=metadata_qa).visualization\n",
    "    path_viz = summarize(table=pathway_abundance, sample_metadata=metadata_qa).visualization\n",
    "\n",
    "    # Save visualization artifacts as .qzv files\n",
    "    ec_viz.save(ec_viz_path)\n",
    "    ko_viz.save(ko_viz_path)\n",
    "    path_viz.save(pathway_viz_path)"
   ]
  },
  {
   "cell_type": "code",
   "execution_count": 11,
   "id": "57f1f4d8",
   "metadata": {
    "ExecuteTime": {
     "end_time": "2022-11-09T19:20:47.704885Z",
     "start_time": "2022-11-09T19:20:47.689312Z"
    },
    "execution": {
     "iopub.execute_input": "2023-06-07T15:10:32.201204Z",
     "iopub.status.busy": "2023-06-07T15:10:32.200528Z",
     "iopub.status.idle": "2023-06-07T15:10:35.571795Z",
     "shell.execute_reply": "2023-06-07T15:10:35.572791Z"
    },
    "papermill": {
     "duration": 3.42623,
     "end_time": "2023-06-07T15:10:35.573089",
     "exception": false,
     "start_time": "2023-06-07T15:10:32.146859",
     "status": "completed"
    },
    "tags": []
   },
   "outputs": [],
   "source": [
    "need_biom = replace_files\n",
    "need_biom |= not (os.path.isfile(ec_fpath) and os.path.isfile(ko_fpath) and os.path.isfile(pathway_fpath))\n",
    "if need_biom:\n",
    "    # Convert artifact to dataframe - transposed\n",
    "    df_pathway = pathway_abundance.view(pd.DataFrame).T\n",
    "    df_ec = ec_metagenome.view(pd.DataFrame).T\n",
    "    df_ko = ko_metagenome.view(pd.DataFrame).T\n",
    "\n",
    "    # Write dataframe to a tsv file\n",
    "    df_pathway.to_csv(pathway_fpath, sep='\\t', index=True)\n",
    "    df_ec.to_csv(ec_fpath, sep='\\t', index=True)\n",
    "    df_ko.to_csv(ko_fpath, sep='\\t', index=True)\n",
    "    \n",
    "    # Put a new column with descriptions of each function's ID\n",
    "    !add_descriptions.py -i {ec_fpath} -m EC -o {ec_desc_fpath}\n",
    "    !add_descriptions.py -i {ko_fpath} -m KO -o {ko_desc_fpath}\n",
    "    !add_descriptions.py -i {pathway_fpath} -m METACYC -o {pathway_desc_fpath}"
   ]
  }
 ],
 "metadata": {
  "celltoolbar": "Edit Metadata",
  "kernelspec": {
   "display_name": "Python 3 (ipykernel)",
   "language": "python",
   "name": "python3"
  },
  "language_info": {
   "codemirror_mode": {
    "name": "ipython",
    "version": 3
   },
   "file_extension": ".py",
   "mimetype": "text/x-python",
   "name": "python",
   "nbconvert_exporter": "python",
   "pygments_lexer": "ipython3",
   "version": "3.8.12"
  },
  "papermill": {
   "default_parameters": {},
   "duration": 452.336323,
   "end_time": "2023-06-07T15:10:36.636118",
   "environment_variables": {},
   "exception": null,
   "input_path": "nb-templates/step-picrust2-analysis.ipynb",
   "output_path": "/home/lauro/nupeb/rede-micro/redemicro-ana-flavia-nutri/experiments/ana-flavia-STD-NCxHSD-NC-trim/nb-executed-steps/step-picrust2-analysis-ana-flavia-STD-NCxHSD-NC-trim.ipynb",
   "parameters": {
    "base_dir": "/home/lauro/nupeb/rede-micro/redemicro-ana-flavia-nutri",
    "class_col": "group-id",
    "classifier_file": "/home/lauro/nupeb/rede-micro/models/silva-138-99-nb-classifier.qza",
    "experiment_name": "ana-flavia-STD-NCxHSD-NC-trim",
    "manifest_file": "/home/lauro/nupeb/rede-micro/redemicro-ana-flavia-nutri/data/raw/manifest/manifest-ana-flavia-STD-NCxHSD-NC.csv",
    "metadata_file": "/home/lauro/nupeb/rede-micro/redemicro-ana-flavia-nutri/data/raw/metadata/metadata-ana-flavia-STD-NCxHSD-NC.tsv",
    "overlap": 12,
    "replace_files": false,
    "threads": 6,
    "top_n": 20,
    "trim": {
     "forward_primer": "CCTACGGGRSGCAGCAG",
     "overlap": 8,
     "reverse_primer": "GGACTACHVGGGTWTCTAAT"
    },
    "trunc_f": 0,
    "trunc_r": 0
   },
   "start_time": "2023-06-07T15:03:04.299795",
   "version": "2.3.4"
  }
 },
 "nbformat": 4,
 "nbformat_minor": 5
}