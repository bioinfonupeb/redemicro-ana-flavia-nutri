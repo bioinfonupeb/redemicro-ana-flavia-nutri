{
 "cells": [
  {
   "cell_type": "markdown",
   "id": "0e7f2330",
   "metadata": {
    "ExecuteTime": {
     "end_time": "2022-09-22T19:36:33.828188Z",
     "start_time": "2022-09-22T19:36:33.817323Z"
    },
    "papermill": {
     "duration": 0.053952,
     "end_time": "2023-09-04T18:08:11.082698",
     "exception": false,
     "start_time": "2023-09-04T18:08:11.028746",
     "status": "completed"
    },
    "tags": []
   },
   "source": [
    "### STEP : PICRUST2 Analysis\n",
    "\n",
    "\n",
    "\n",
    "#### Example\n",
    "\n",
    "- [PICRUST2 tutorial](https://github.com/picrust/picrust2/wiki/q2-picrust2-Tutorial)\n",
    "- [Limitations](https://github.com/picrust/picrust2/wiki/Key-Limitations)\n",
    "\n",
    "\n",
    "#### Methods\n",
    "- [composition](https://docs.qiime2.org/2022.8/plugins/available/composition/)"
   ]
  },
  {
   "cell_type": "markdown",
   "id": "843debbf",
   "metadata": {
    "papermill": {
     "duration": 0.103538,
     "end_time": "2023-09-04T18:08:11.323554",
     "exception": false,
     "start_time": "2023-09-04T18:08:11.220016",
     "status": "completed"
    },
    "tags": []
   },
   "source": [
    "## Setup and settings"
   ]
  },
  {
   "cell_type": "code",
   "execution_count": 1,
   "id": "965e28e5",
   "metadata": {
    "ExecuteTime": {
     "end_time": "2022-11-09T19:20:47.478806Z",
     "start_time": "2022-11-09T19:20:40.457657Z"
    },
    "execution": {
     "iopub.execute_input": "2023-09-04T18:08:11.474003Z",
     "iopub.status.busy": "2023-09-04T18:08:11.473297Z",
     "iopub.status.idle": "2023-09-04T18:08:18.634948Z",
     "shell.execute_reply": "2023-09-04T18:08:18.633879Z"
    },
    "papermill": {
     "duration": 7.242154,
     "end_time": "2023-09-04T18:08:18.635199",
     "exception": false,
     "start_time": "2023-09-04T18:08:11.393045",
     "status": "completed"
    },
    "tags": []
   },
   "outputs": [],
   "source": [
    "# Importing packages\n",
    "import os\n",
    "import biom\n",
    "import pandas as pd\n",
    "from qiime2 import Artifact\n",
    "from qiime2 import Visualization\n",
    "from qiime2 import Metadata\n",
    "\n",
    "from qiime2.plugins.feature_table.visualizers import summarize\n",
    "\n",
    "from picrust2.pipeline import full_pipeline\n",
    "from picrust2.default import (default_ref_dir, default_tables, default_regroup_map, default_pathway_map)\n",
    "from qiime2.plugins import picrust2\n",
    "from qiime2.plugins.feature_table.methods import filter_samples\n",
    "from qiime2.plugins.feature_table.methods import filter_seqs\n",
    "\n",
    "%matplotlib inline"
   ]
  },
  {
   "cell_type": "markdown",
   "id": "530ceb60",
   "metadata": {
    "papermill": {
     "duration": 0.029476,
     "end_time": "2023-09-04T18:08:18.702288",
     "exception": false,
     "start_time": "2023-09-04T18:08:18.672812",
     "status": "completed"
    },
    "tags": []
   },
   "source": [
    "### Receiving the parameters\n",
    "\n",
    "The following cell can receive parameters using the [papermill](https://papermill.readthedocs.io/en/latest/) tool."
   ]
  },
  {
   "cell_type": "code",
   "execution_count": 2,
   "id": "18d874ea",
   "metadata": {
    "ExecuteTime": {
     "end_time": "2022-11-09T19:20:47.483140Z",
     "start_time": "2022-11-09T19:20:47.480386Z"
    },
    "execution": {
     "iopub.execute_input": "2023-09-04T18:08:18.765374Z",
     "iopub.status.busy": "2023-09-04T18:08:18.764862Z",
     "iopub.status.idle": "2023-09-04T18:08:18.766891Z",
     "shell.execute_reply": "2023-09-04T18:08:18.766394Z"
    },
    "papermill": {
     "duration": 0.035083,
     "end_time": "2023-09-04T18:08:18.766989",
     "exception": false,
     "start_time": "2023-09-04T18:08:18.731906",
     "status": "completed"
    },
    "tags": [
     "parameters"
    ]
   },
   "outputs": [],
   "source": [
    "metadata_file = '/home/lauro/nupeb/rede-micro/redemicro-miliane-nutri/data/raw/metadata/miliane-metadata-CxAC.tsv'\n",
    "base_dir = os.path.join('/', 'home', 'lauro', 'nupeb', 'rede-micro', 'redemicro-miliane-nutri')\n",
    "experiment_name = 'miliane-CxAC-trim'\n",
    "class_col = 'group-id'\n",
    "replace_files = False"
   ]
  },
  {
   "cell_type": "code",
   "execution_count": 3,
   "id": "74b600a7",
   "metadata": {
    "execution": {
     "iopub.execute_input": "2023-09-04T18:08:18.825898Z",
     "iopub.status.busy": "2023-09-04T18:08:18.825439Z",
     "iopub.status.idle": "2023-09-04T18:08:18.828216Z",
     "shell.execute_reply": "2023-09-04T18:08:18.827832Z"
    },
    "papermill": {
     "duration": 0.032493,
     "end_time": "2023-09-04T18:08:18.828296",
     "exception": false,
     "start_time": "2023-09-04T18:08:18.795803",
     "status": "completed"
    },
    "tags": [
     "injected-parameters"
    ]
   },
   "outputs": [],
   "source": [
    "# Parameters\n",
    "experiment_name = \"ana-flavia-STD-NCxHSD-NC-trim\"\n",
    "base_dir = \"/home/lauro/nupeb/rede-micro/redemicro-ana-flavia-nutri\"\n",
    "manifest_file = \"/home/lauro/nupeb/rede-micro/redemicro-ana-flavia-nutri/data/raw/manifest/manifest-ana-flavia-STD-NCxHSD-NC.csv\"\n",
    "metadata_file = \"/home/lauro/nupeb/rede-micro/redemicro-ana-flavia-nutri/data/raw/metadata/metadata-ana-flavia-STD-NCxHSD-NC.tsv\"\n",
    "class_col = \"group-id\"\n",
    "classifier_file = \"/home/lauro/nupeb/rede-micro/models/silva-138-99-nb-classifier.qza\"\n",
    "top_n = 20\n",
    "replace_files = False\n",
    "trunc_f = 0\n",
    "trunc_r = 0\n",
    "overlap = 12\n",
    "threads = 6\n",
    "trim = {\n",
    "    \"overlap\": 8,\n",
    "    \"forward_primer\": \"CCTACGGGRSGCAGCAG\",\n",
    "    \"reverse_primer\": \"GGACTACHVGGGTWTCTAAT\",\n",
    "}\n"
   ]
  },
  {
   "cell_type": "code",
   "execution_count": 4,
   "id": "f38617d9",
   "metadata": {
    "ExecuteTime": {
     "end_time": "2022-11-09T19:20:47.515942Z",
     "start_time": "2022-11-09T19:20:47.498345Z"
    },
    "execution": {
     "iopub.execute_input": "2023-09-04T18:08:18.884991Z",
     "iopub.status.busy": "2023-09-04T18:08:18.884557Z",
     "iopub.status.idle": "2023-09-04T18:08:18.887002Z",
     "shell.execute_reply": "2023-09-04T18:08:18.886649Z"
    },
    "papermill": {
     "duration": 0.031756,
     "end_time": "2023-09-04T18:08:18.887089",
     "exception": false,
     "start_time": "2023-09-04T18:08:18.855333",
     "status": "completed"
    },
    "tags": []
   },
   "outputs": [],
   "source": [
    "experiment_folder = os.path.abspath(os.path.join(base_dir, 'experiments', experiment_name))\n",
    "img_folder = os.path.abspath(os.path.join(experiment_folder, 'imgs'))"
   ]
  },
  {
   "cell_type": "markdown",
   "id": "ea9b90fb",
   "metadata": {
    "papermill": {
     "duration": 0.025636,
     "end_time": "2023-09-04T18:08:18.940588",
     "exception": false,
     "start_time": "2023-09-04T18:08:18.914952",
     "status": "completed"
    },
    "tags": []
   },
   "source": [
    "### Defining names, paths and flags"
   ]
  },
  {
   "cell_type": "code",
   "execution_count": 5,
   "id": "45727eef",
   "metadata": {
    "ExecuteTime": {
     "end_time": "2022-11-09T19:20:47.527937Z",
     "start_time": "2022-11-09T19:20:47.517696Z"
    },
    "execution": {
     "iopub.execute_input": "2023-09-04T18:08:18.997553Z",
     "iopub.status.busy": "2023-09-04T18:08:18.997103Z",
     "iopub.status.idle": "2023-09-04T18:08:19.000950Z",
     "shell.execute_reply": "2023-09-04T18:08:19.000550Z"
    },
    "papermill": {
     "duration": 0.03514,
     "end_time": "2023-09-04T18:08:19.001046",
     "exception": false,
     "start_time": "2023-09-04T18:08:18.965906",
     "status": "completed"
    },
    "tags": []
   },
   "outputs": [
    {
     "name": "stdout",
     "output_type": "stream",
     "text": [
      "New picrust2-artifacts folder path created: /home/lauro/nupeb/rede-micro/redemicro-ana-flavia-nutri/experiments/ana-flavia-STD-NCxHSD-NC-trim/picrust2\n"
     ]
    }
   ],
   "source": [
    "# QIIME2 Artifacts folder\n",
    "qiime_folder = os.path.join(experiment_folder, 'qiime-artifacts')\n",
    "\n",
    "# Input - DADA2 Artifacts\n",
    "dada2_tabs_path = os.path.join(qiime_folder, 'dada2-tabs.qza')\n",
    "dada2_reqs_path = os.path.join(qiime_folder, 'dada2-reps.qza')\n",
    "\n",
    "# PICRUST@ folder\n",
    "picrust2_folder = os.path.abspath(os.path.join(experiment_folder, 'picrust2'))\n",
    "\n",
    "# Create path if it not exist\n",
    "if not os.path.isdir(picrust2_folder):\n",
    "    os.makedirs(picrust2_folder)\n",
    "    print(f'New picrust2-artifacts folder path created: {picrust2_folder}')"
   ]
  },
  {
   "cell_type": "code",
   "execution_count": 6,
   "id": "4903e645",
   "metadata": {
    "ExecuteTime": {
     "end_time": "2022-11-09T19:20:47.539993Z",
     "start_time": "2022-11-09T19:20:47.529653Z"
    },
    "execution": {
     "iopub.execute_input": "2023-09-04T18:08:19.064859Z",
     "iopub.status.busy": "2023-09-04T18:08:19.064370Z",
     "iopub.status.idle": "2023-09-04T18:08:19.067067Z",
     "shell.execute_reply": "2023-09-04T18:08:19.067456Z"
    },
    "papermill": {
     "duration": 0.037898,
     "end_time": "2023-09-04T18:08:19.067563",
     "exception": false,
     "start_time": "2023-09-04T18:08:19.029665",
     "status": "completed"
    },
    "tags": []
   },
   "outputs": [],
   "source": [
    "# Define paths for metagenome function artifacts\n",
    "ec_path = os.path.join(picrust2_folder, 'ec-pred-metagen.qza')\n",
    "ko_path = os.path.join(picrust2_folder, 'ko-pred-metagen.qza')\n",
    "pathway_path = os.path.join(picrust2_folder, 'pathway-abundance.qza')\n",
    "\n",
    "# Define paths for metagenome function visualization artifacts\n",
    "ec_viz_path = ec_path[:-1]+'v'\n",
    "ko_viz_path = ko_path[:-1]+'v'\n",
    "pathway_viz_path = pathway_path[:-1]+'v'\n",
    "\n",
    "# Define paths for biom -> tsv files (function X sample)\n",
    "pathway_fpath = os.path.join(picrust2_folder, 'pathway.tsv')\n",
    "ec_fpath = os.path.join(picrust2_folder, 'ec.tsv')\n",
    "ko_fpath = os.path.join(picrust2_folder, 'ko.tsv')\n",
    "\n",
    "# Define paths for biom -> tsv files (function X sample) - with descriptions\n",
    "pathway_desc_fpath = os.path.join(picrust2_folder, 'pathway-desc.tsv')\n",
    "ec_desc_fpath = os.path.join(picrust2_folder, 'ec-desc.tsv')\n",
    "ko_desc_fpath = os.path.join(picrust2_folder, 'ko-desc.tsv')"
   ]
  },
  {
   "cell_type": "markdown",
   "id": "0999a1b2",
   "metadata": {
    "papermill": {
     "duration": 0.026267,
     "end_time": "2023-09-04T18:08:19.125563",
     "exception": false,
     "start_time": "2023-09-04T18:08:19.099296",
     "status": "completed"
    },
    "tags": []
   },
   "source": [
    "## Step execution\n",
    "\n",
    "### Load input files\n",
    "\n",
    "This Step import the QIIME2 `FeatureTable[Frequency]` Artifact and the `Metadata` file."
   ]
  },
  {
   "cell_type": "code",
   "execution_count": 7,
   "id": "8f299d1a",
   "metadata": {
    "ExecuteTime": {
     "end_time": "2022-11-09T19:20:47.610793Z",
     "start_time": "2022-11-09T19:20:47.541540Z"
    },
    "execution": {
     "iopub.execute_input": "2023-09-04T18:08:19.181257Z",
     "iopub.status.busy": "2023-09-04T18:08:19.180829Z",
     "iopub.status.idle": "2023-09-04T18:08:19.256909Z",
     "shell.execute_reply": "2023-09-04T18:08:19.256239Z"
    },
    "papermill": {
     "duration": 0.105327,
     "end_time": "2023-09-04T18:08:19.257068",
     "exception": false,
     "start_time": "2023-09-04T18:08:19.151741",
     "status": "completed"
    },
    "tags": []
   },
   "outputs": [],
   "source": [
    "#Load Metadata\n",
    "metadata_qa = Metadata.load(metadata_file)\n",
    "\n",
    "#Load FeatureTable[Frequency]\n",
    "tabs = Artifact.load(dada2_tabs_path)\n",
    "\n",
    "#Load FeatureTable[Sequence]\n",
    "seqs = Artifact.load(dada2_reqs_path)"
   ]
  },
  {
   "cell_type": "code",
   "execution_count": 8,
   "id": "9b699dee",
   "metadata": {
    "execution": {
     "iopub.execute_input": "2023-09-04T18:08:19.318841Z",
     "iopub.status.busy": "2023-09-04T18:08:19.318423Z",
     "iopub.status.idle": "2023-09-04T18:08:19.881850Z",
     "shell.execute_reply": "2023-09-04T18:08:19.882662Z"
    },
    "papermill": {
     "duration": 0.593972,
     "end_time": "2023-09-04T18:08:19.882927",
     "exception": false,
     "start_time": "2023-09-04T18:08:19.288955",
     "status": "completed"
    },
    "tags": []
   },
   "outputs": [],
   "source": [
    "# Filter FeatureTable[Frequency | RelativeFrequency | PresenceAbsence | Composition] based on Metadata sample ID values\n",
    "tabs = filter_samples(\n",
    "    table=tabs,\n",
    "    metadata=metadata_qa,\n",
    ").filtered_table\n",
    "# Filter SampleData[SequencesWithQuality | PairedEndSequencesWithQuality | JoinedSequencesWithQuality] based on Metadata sample ID values; returns FeatureData[Sequence | AlignedSequence]\n",
    "seqs = filter_seqs(\n",
    "    data=seqs,\n",
    "    table=tabs,\n",
    ").filtered_data"
   ]
  },
  {
   "cell_type": "markdown",
   "id": "4f1b06d4",
   "metadata": {
    "papermill": {
     "duration": 0.026808,
     "end_time": "2023-09-04T18:08:19.943220",
     "exception": false,
     "start_time": "2023-09-04T18:08:19.916412",
     "status": "completed"
    },
    "tags": []
   },
   "source": [
    "### Execute full pipelie\n",
    "\n",
    "The entire PICRUSt2 pipeline will be run using a single method, called `picrust2.methods.full_pipeline`. This method will run each of the 4 key steps: \n",
    "\n",
    "1. sequence placement\n",
    "2. hidden-state prediction of genomes\n",
    "3. metagenome prediction\n",
    "4. pathway-level predictions.\n",
    "\n",
    "More information on [Documentation](https://github.com/picrust/picrust2/wiki/Full-pipeline-script)."
   ]
  },
  {
   "cell_type": "code",
   "execution_count": 9,
   "id": "2c4f3874",
   "metadata": {
    "ExecuteTime": {
     "end_time": "2022-11-09T19:20:47.642417Z",
     "start_time": "2022-11-09T19:20:47.612547Z"
    },
    "execution": {
     "iopub.execute_input": "2023-09-04T18:08:20.001202Z",
     "iopub.status.busy": "2023-09-04T18:08:20.000769Z",
     "iopub.status.idle": "2023-09-04T18:15:40.989336Z",
     "shell.execute_reply": "2023-09-04T18:15:40.990280Z"
    },
    "papermill": {
     "duration": 441.020747,
     "end_time": "2023-09-04T18:15:40.990560",
     "exception": false,
     "start_time": "2023-09-04T18:08:19.969813",
     "status": "completed"
    },
    "scrolled": true,
    "tags": []
   },
   "outputs": [
    {
     "name": "stderr",
     "output_type": "stream",
     "text": [
      "1065 of 1065 sequence ids overlap between input table and FASTA.\n",
      "\n",
      "Placing sequences onto reference tree\n",
      "place_seqs.py --study_fasta /tmp/tmp39tjz40a/seqs.fna --ref_dir /home/lauro/anaconda3/envs/qiime2-2021.11/lib/python3.8/site-packages/picrust2/default_files/prokaryotic/pro_ref --out_tree /tmp/tmp39tjz40a/picrust2_out/out.tre --processes 6 --intermediate /tmp/tmp39tjz40a/picrust2_out/intermediate/place_seqs --min_align 0.8 --chunk_size 5000 --placement_tool sepp --verbose\n"
     ]
    },
    {
     "name": "stdout",
     "output_type": "stream",
     "text": [
      "\n",
      "['run_sepp.py', '--tree', '/home/lauro/anaconda3/envs/qiime2-2021.11/lib/python3.8/site-packages/picrust2/default_files/prokaryotic/pro_ref/pro_ref.tre', '--raxml', '/home/lauro/anaconda3/envs/qiime2-2021.11/lib/python3.8/site-packages/picrust2/default_files/prokaryotic/pro_ref/pro_ref.raxml_info', '--cpu', '6', '--molecule', 'dna', '--outdir', '/tmp/tmp39tjz40a/picrust2_out/intermediate/place_seqs/sepp_out', '-seed', '297834', '--alignment', '/home/lauro/anaconda3/envs/qiime2-2021.11/lib/python3.8/site-packages/picrust2/default_files/prokaryotic/pro_ref/pro_ref.fna', '--fragment', '/tmp/tmp39tjz40a/picrust2_out/intermediate/place_seqs/study_seqs_filtered.fasta']\n",
      "\n",
      "                                              ....      ....  \n",
      "                                             '' '||.   .||'   \n",
      "                                                  ||  ||      \n",
      "                                                  '|.|'       \n",
      "     ...'   ....   ... ...  ... ...   ....        .|'|.       \n",
      "    |  ||  '' .||   ||'  ||  ||'  || '' .||      .|'  ||      \n",
      "     |''   .|' ||   ||    |  ||    | .|' ||     .|'|.  ||     \n",
      "    '....  '|..'|'. ||...'   ||...'  '|..'|.    '||'    ||:.  \n",
      "    '....'          ||       ||                               \n",
      "                   ''''     ''''   v0.6.1 (c) 2017-2020\n",
      "                                   by Lucas Czech and Pierre Barbera\n",
      "\n",
      "Invocation:                        gappa examine graft --jplace-path /tmp/tmp39tjz40a/picrust2_out/intermediate/place_seqs/sepp_out/output_placement.json --fully-resolve --out-dir /tmp/tmp39tjz40a/picrust2_out/intermediate/place_seqs/sepp_out\n",
      "Command:                           gappa examine graft\n",
      "\n",
      "Input:\n",
      "  --jplace-path                    /tmp/tmp39tjz40a/picrust2_out/intermediate/place_seqs/sepp_out/output_placement.json\n",
      "\n",
      "Settings:\n",
      "  --fully-resolve                  true\n",
      "  --name-prefix\n",
      "\n",
      "Output:\n",
      "  --out-dir                        /tmp/tmp39tjz40a/picrust2_out/intermediate/place_seqs/sepp_out\n",
      "  --file-prefix                    \n",
      "  --file-suffix\n",
      "\n",
      "Global Options:\n",
      "  --allow-file-overwriting         false\n",
      "  --verbose                        false\n",
      "  --threads                        4\n",
      "  --log-file\n",
      "\n",
      "Run the following command to get the references that need to be cited:\n",
      "`gappa tools citation Czech2020-genesis-and-gappa`\n",
      "\n",
      "Started 2023-09-04 18:11:37\n",
      "\n",
      "Found 1 jplace file\n",
      "\n",
      "Finished 2023-09-04 18:11:38\n",
      "\n",
      "\n"
     ]
    },
    {
     "name": "stderr",
     "output_type": "stream",
     "text": [
      "hmmalign --trim --dna --mapali /home/lauro/anaconda3/envs/qiime2-2021.11/lib/python3.8/site-packages/picrust2/default_files/prokaryotic/pro_ref/pro_ref.fna --informat FASTA -o /tmp/tmp39tjz40a/picrust2_out/intermediate/place_seqs/query_align.stockholm /home/lauro/anaconda3/envs/qiime2-2021.11/lib/python3.8/site-packages/picrust2/default_files/prokaryotic/pro_ref/pro_ref.hmm /tmp/tmp39tjz40a/seqs.fna\n",
      "\n",
      "Warning - 1 input sequences aligned poorly to reference sequences (--min_align option specified a minimum proportion of 0.8 aligning to reference sequences). These input sequences will not be placed and will be excluded from downstream steps.\n",
      "\n",
      "This is the set of poorly aligned input sequences to be excluded: 6fed430d2c42021ed5fa531745f38fba\n",
      "\n",
      "Raw input sequences ranged in length from 253 to 430\n",
      "\n",
      "run_sepp.py --tree /home/lauro/anaconda3/envs/qiime2-2021.11/lib/python3.8/site-packages/picrust2/default_files/prokaryotic/pro_ref/pro_ref.tre --raxml /home/lauro/anaconda3/envs/qiime2-2021.11/lib/python3.8/site-packages/picrust2/default_files/prokaryotic/pro_ref/pro_ref.raxml_info --cpu 6 --molecule dna --outdir /tmp/tmp39tjz40a/picrust2_out/intermediate/place_seqs/sepp_out -seed 297834 --alignment /home/lauro/anaconda3/envs/qiime2-2021.11/lib/python3.8/site-packages/picrust2/default_files/prokaryotic/pro_ref/pro_ref.fna --fragment /tmp/tmp39tjz40a/picrust2_out/intermediate/place_seqs/study_seqs_filtered.fasta\n",
      "[18:09:04] config.py (line 349):     INFO: Seed number: 297834\n",
      "[18:09:04] algorithm.py (line 258):     INFO: Reading input alignment: <_io.TextIOWrapper name='/home/lauro/anaconda3/envs/qiime2-2021.11/lib/python3.8/site-packages/picrust2/default_files/prokaryotic/pro_ref/pro_ref.fna' mode='r' encoding='UTF-8'>\n",
      "[18:09:04] algorithm.py (line 265):     INFO: Reading input tree: <_io.TextIOWrapper name='/home/lauro/anaconda3/envs/qiime2-2021.11/lib/python3.8/site-packages/picrust2/default_files/prokaryotic/pro_ref/pro_ref.tre' mode='r' encoding='UTF-8'>\n",
      "[18:09:05] algorithm.py (line 238):     INFO: Decomposition Sizes are set to alignment: 2000 placement: 2000\n",
      "[18:09:08] exhaustive.py (line 350):     INFO: Breaking into 16 placement subsets.\n",
      "[18:09:09] exhaustive.py (line 397):     INFO: Breaking into 16 alignment subsets.\n",
      "[18:09:09] filemgr.py (line 129):     INFO: Root temp directory built: /tmp/sepp/output.svl2zd1i\n",
      "[18:09:09] exhaustive.py (line 412):     INFO: Breaking each alignment subset into 3 fragment chunks.\n",
      "[18:09:10] jobs.py (line 131):     INFO: Finished hmmbuild Job with input: /tmp/sepp/output.svl2zd1i/root/P_1/A_1_0/hmmbuild.input.5f7507vz.fasta\n",
      "[18:09:11] jobs.py (line 131):     INFO: Finished hmmbuild Job with input: /tmp/sepp/output.svl2zd1i/root/P_2/A_2_0/hmmbuild.input.g05acr1g.fasta\n",
      "[18:09:11] jobs.py (line 131):     INFO: Finished hmmbuild Job with input: /tmp/sepp/output.svl2zd1i/root/P_4/A_4_0/hmmbuild.input.54w1ftai.fasta\n",
      "[18:09:11] jobs.py (line 131):     INFO: Finished hmmbuild Job with input: /tmp/sepp/output.svl2zd1i/root/P_0/A_0_0/hmmbuild.input.3wt1qpnw.fasta\n",
      "[18:09:11] jobs.py (line 131):     INFO: Finished hmmbuild Job with input: /tmp/sepp/output.svl2zd1i/root/P_3/A_3_0/hmmbuild.input.buvg2958.fasta\n",
      "[18:09:11] jobs.py (line 131):     INFO: Finished hmmbuild Job with input: /tmp/sepp/output.svl2zd1i/root/P_5/A_5_0/hmmbuild.input.xv4atfvs.fasta\n",
      "[18:09:11] jobs.py (line 131):     INFO: Finished hmmbuild Job with input: /tmp/sepp/output.svl2zd1i/root/P_6/A_6_0/hmmbuild.input.1w5jzc51.fasta\n",
      "[18:09:11] jobs.py (line 131):     INFO: Finished hmmbuild Job with input: /tmp/sepp/output.svl2zd1i/root/P_7/A_7_0/hmmbuild.input.wk9bjr7p.fasta\n",
      "[18:09:11] jobs.py (line 131):     INFO: Finished hmmbuild Job with input: /tmp/sepp/output.svl2zd1i/root/P_9/A_9_0/hmmbuild.input.lg1sm5u0.fasta\n",
      "[18:09:11] jobs.py (line 131):     INFO: Finished hmmbuild Job with input: /tmp/sepp/output.svl2zd1i/root/P_11/A_11_0/hmmbuild.input.ols42o2b.fasta\n",
      "[18:09:12] jobs.py (line 131):     INFO: Finished hmmbuild Job with input: /tmp/sepp/output.svl2zd1i/root/P_8/A_8_0/hmmbuild.input.mmv2jcky.fasta\n",
      "[18:09:12] jobs.py (line 131):     INFO: Finished hmmbuild Job with input: /tmp/sepp/output.svl2zd1i/root/P_10/A_10_0/hmmbuild.input.aozyxd72.fasta\n",
      "[18:09:12] jobs.py (line 131):     INFO: Finished hmmbuild Job with input: /tmp/sepp/output.svl2zd1i/root/P_13/A_13_0/hmmbuild.input.ujgma63m.fasta\n",
      "[18:09:12] jobs.py (line 131):     INFO: Finished hmmbuild Job with input: /tmp/sepp/output.svl2zd1i/root/P_15/A_15_0/hmmbuild.input.ok2gimqw.fasta\n",
      "[18:09:12] jobs.py (line 131):     INFO: Finished hmmbuild Job with input: /tmp/sepp/output.svl2zd1i/root/P_12/A_12_0/hmmbuild.input.gehei56b.fasta\n",
      "[18:09:12] jobs.py (line 131):     INFO: Finished hmmbuild Job with input: /tmp/sepp/output.svl2zd1i/root/P_14/A_14_0/hmmbuild.input.yub7x8ev.fasta\n",
      "[18:09:17] jobs.py (line 131):     INFO: Finished hmmsearch Job with input: model:/tmp/sepp/output.svl2zd1i/root/P_1/A_1_0/hmmbuild.model.ilqtcy7w, fragments:/tmp/sepp/output.svl2zd1i/fragment_chunks/fragment_chunk_1ti1bwrkh.fasta, elim:99999999, filter:False, output:/tmp/sepp/output.svl2zd1i/root/P_1/A_1_0/FC_1_0_1/hmmsearch.results.4bpht8cy\n",
      "[18:09:17] jobs.py (line 131):     INFO: Finished hmmsearch Job with input: model:/tmp/sepp/output.svl2zd1i/root/P_2/A_2_0/hmmbuild.model.m1_yvnwc, fragments:/tmp/sepp/output.svl2zd1i/fragment_chunks/fragment_chunk_2c2x2m9xw.fasta, elim:99999999, filter:False, output:/tmp/sepp/output.svl2zd1i/root/P_2/A_2_0/FC_2_0_2/hmmsearch.results.eu7___98\n",
      "[18:09:18] jobs.py (line 131):     INFO: Finished hmmsearch Job with input: model:/tmp/sepp/output.svl2zd1i/root/P_1/A_1_0/hmmbuild.model.ilqtcy7w, fragments:/tmp/sepp/output.svl2zd1i/fragment_chunks/fragment_chunk_0b0olujvs.fasta, elim:99999999, filter:False, output:/tmp/sepp/output.svl2zd1i/root/P_1/A_1_0/FC_1_0_0/hmmsearch.results.ezjqwrn2\n",
      "[18:09:19] jobs.py (line 131):     INFO: Finished hmmsearch Job with input: model:/tmp/sepp/output.svl2zd1i/root/P_2/A_2_0/hmmbuild.model.m1_yvnwc, fragments:/tmp/sepp/output.svl2zd1i/fragment_chunks/fragment_chunk_1ti1bwrkh.fasta, elim:99999999, filter:False, output:/tmp/sepp/output.svl2zd1i/root/P_2/A_2_0/FC_2_0_1/hmmsearch.results.f451mpxm\n",
      "[18:09:20] jobs.py (line 131):     INFO: Finished hmmsearch Job with input: model:/tmp/sepp/output.svl2zd1i/root/P_1/A_1_0/hmmbuild.model.ilqtcy7w, fragments:/tmp/sepp/output.svl2zd1i/fragment_chunks/fragment_chunk_2c2x2m9xw.fasta, elim:99999999, filter:False, output:/tmp/sepp/output.svl2zd1i/root/P_1/A_1_0/FC_1_0_2/hmmsearch.results.7nj20gcr\n",
      "[18:09:20] jobs.py (line 131):     INFO: Finished hmmsearch Job with input: model:/tmp/sepp/output.svl2zd1i/root/P_2/A_2_0/hmmbuild.model.m1_yvnwc, fragments:/tmp/sepp/output.svl2zd1i/fragment_chunks/fragment_chunk_0b0olujvs.fasta, elim:99999999, filter:False, output:/tmp/sepp/output.svl2zd1i/root/P_2/A_2_0/FC_2_0_0/hmmsearch.results.bf1ms39t\n",
      "[18:09:22] jobs.py (line 131):     INFO: Finished hmmsearch Job with input: model:/tmp/sepp/output.svl2zd1i/root/P_4/A_4_0/hmmbuild.model.szptihep, fragments:/tmp/sepp/output.svl2zd1i/fragment_chunks/fragment_chunk_0b0olujvs.fasta, elim:99999999, filter:False, output:/tmp/sepp/output.svl2zd1i/root/P_4/A_4_0/FC_4_0_0/hmmsearch.results.b_kfy9f0\n",
      "[18:09:23] jobs.py (line 131):     INFO: Finished hmmsearch Job with input: model:/tmp/sepp/output.svl2zd1i/root/P_4/A_4_0/hmmbuild.model.szptihep, fragments:/tmp/sepp/output.svl2zd1i/fragment_chunks/fragment_chunk_1ti1bwrkh.fasta, elim:99999999, filter:False, output:/tmp/sepp/output.svl2zd1i/root/P_4/A_4_0/FC_4_0_1/hmmsearch.results.ibidqey4\n",
      "[18:09:25] jobs.py (line 131):     INFO: Finished hmmsearch Job with input: model:/tmp/sepp/output.svl2zd1i/root/P_4/A_4_0/hmmbuild.model.szptihep, fragments:/tmp/sepp/output.svl2zd1i/fragment_chunks/fragment_chunk_2c2x2m9xw.fasta, elim:99999999, filter:False, output:/tmp/sepp/output.svl2zd1i/root/P_4/A_4_0/FC_4_0_2/hmmsearch.results.f9o62wsz\n",
      "[18:09:26] jobs.py (line 131):     INFO: Finished hmmsearch Job with input: model:/tmp/sepp/output.svl2zd1i/root/P_0/A_0_0/hmmbuild.model.jbqo272j, fragments:/tmp/sepp/output.svl2zd1i/fragment_chunks/fragment_chunk_0b0olujvs.fasta, elim:99999999, filter:False, output:/tmp/sepp/output.svl2zd1i/root/P_0/A_0_0/FC_0_0_0/hmmsearch.results.yunv1b3p\n",
      "[18:09:28] jobs.py (line 131):     INFO: Finished hmmsearch Job with input: model:/tmp/sepp/output.svl2zd1i/root/P_0/A_0_0/hmmbuild.model.jbqo272j, fragments:/tmp/sepp/output.svl2zd1i/fragment_chunks/fragment_chunk_2c2x2m9xw.fasta, elim:99999999, filter:False, output:/tmp/sepp/output.svl2zd1i/root/P_0/A_0_0/FC_0_0_2/hmmsearch.results.1rvs81f5\n",
      "[18:09:28] jobs.py (line 131):     INFO: Finished hmmsearch Job with input: model:/tmp/sepp/output.svl2zd1i/root/P_0/A_0_0/hmmbuild.model.jbqo272j, fragments:/tmp/sepp/output.svl2zd1i/fragment_chunks/fragment_chunk_1ti1bwrkh.fasta, elim:99999999, filter:False, output:/tmp/sepp/output.svl2zd1i/root/P_0/A_0_0/FC_0_0_1/hmmsearch.results._tldie77\n",
      "[18:09:30] jobs.py (line 131):     INFO: Finished hmmsearch Job with input: model:/tmp/sepp/output.svl2zd1i/root/P_3/A_3_0/hmmbuild.model.na8clhbi, fragments:/tmp/sepp/output.svl2zd1i/fragment_chunks/fragment_chunk_2c2x2m9xw.fasta, elim:99999999, filter:False, output:/tmp/sepp/output.svl2zd1i/root/P_3/A_3_0/FC_3_0_2/hmmsearch.results.1j_nefss\n",
      "[18:09:30] jobs.py (line 131):     INFO: Finished hmmsearch Job with input: model:/tmp/sepp/output.svl2zd1i/root/P_3/A_3_0/hmmbuild.model.na8clhbi, fragments:/tmp/sepp/output.svl2zd1i/fragment_chunks/fragment_chunk_0b0olujvs.fasta, elim:99999999, filter:False, output:/tmp/sepp/output.svl2zd1i/root/P_3/A_3_0/FC_3_0_0/hmmsearch.results.b9hazg8_\n",
      "[18:09:31] jobs.py (line 131):     INFO: Finished hmmsearch Job with input: model:/tmp/sepp/output.svl2zd1i/root/P_3/A_3_0/hmmbuild.model.na8clhbi, fragments:/tmp/sepp/output.svl2zd1i/fragment_chunks/fragment_chunk_1ti1bwrkh.fasta, elim:99999999, filter:False, output:/tmp/sepp/output.svl2zd1i/root/P_3/A_3_0/FC_3_0_1/hmmsearch.results._4vbr547\n",
      "[18:09:31] jobs.py (line 131):     INFO: Finished hmmsearch Job with input: model:/tmp/sepp/output.svl2zd1i/root/P_5/A_5_0/hmmbuild.model.h88csn2_, fragments:/tmp/sepp/output.svl2zd1i/fragment_chunks/fragment_chunk_0b0olujvs.fasta, elim:99999999, filter:False, output:/tmp/sepp/output.svl2zd1i/root/P_5/A_5_0/FC_5_0_0/hmmsearch.results.rh8tfbpo\n",
      "[18:09:34] jobs.py (line 131):     INFO: Finished hmmsearch Job with input: model:/tmp/sepp/output.svl2zd1i/root/P_5/A_5_0/hmmbuild.model.h88csn2_, fragments:/tmp/sepp/output.svl2zd1i/fragment_chunks/fragment_chunk_1ti1bwrkh.fasta, elim:99999999, filter:False, output:/tmp/sepp/output.svl2zd1i/root/P_5/A_5_0/FC_5_0_1/hmmsearch.results.fbioyk2a\n",
      "[18:09:36] jobs.py (line 131):     INFO: Finished hmmsearch Job with input: model:/tmp/sepp/output.svl2zd1i/root/P_6/A_6_0/hmmbuild.model.p6snb645, fragments:/tmp/sepp/output.svl2zd1i/fragment_chunks/fragment_chunk_2c2x2m9xw.fasta, elim:99999999, filter:False, output:/tmp/sepp/output.svl2zd1i/root/P_6/A_6_0/FC_6_0_2/hmmsearch.results.5towrnqf\n",
      "[18:09:36] jobs.py (line 131):     INFO: Finished hmmsearch Job with input: model:/tmp/sepp/output.svl2zd1i/root/P_6/A_6_0/hmmbuild.model.p6snb645, fragments:/tmp/sepp/output.svl2zd1i/fragment_chunks/fragment_chunk_0b0olujvs.fasta, elim:99999999, filter:False, output:/tmp/sepp/output.svl2zd1i/root/P_6/A_6_0/FC_6_0_0/hmmsearch.results.0nopzj31\n",
      "[18:09:36] jobs.py (line 131):     INFO: Finished hmmsearch Job with input: model:/tmp/sepp/output.svl2zd1i/root/P_5/A_5_0/hmmbuild.model.h88csn2_, fragments:/tmp/sepp/output.svl2zd1i/fragment_chunks/fragment_chunk_2c2x2m9xw.fasta, elim:99999999, filter:False, output:/tmp/sepp/output.svl2zd1i/root/P_5/A_5_0/FC_5_0_2/hmmsearch.results.d27govn_\n",
      "[18:09:37] jobs.py (line 131):     INFO: Finished hmmsearch Job with input: model:/tmp/sepp/output.svl2zd1i/root/P_6/A_6_0/hmmbuild.model.p6snb645, fragments:/tmp/sepp/output.svl2zd1i/fragment_chunks/fragment_chunk_1ti1bwrkh.fasta, elim:99999999, filter:False, output:/tmp/sepp/output.svl2zd1i/root/P_6/A_6_0/FC_6_0_1/hmmsearch.results.pskmgl66\n",
      "[18:09:39] jobs.py (line 131):     INFO: Finished hmmsearch Job with input: model:/tmp/sepp/output.svl2zd1i/root/P_7/A_7_0/hmmbuild.model.ktbnp4vn, fragments:/tmp/sepp/output.svl2zd1i/fragment_chunks/fragment_chunk_0b0olujvs.fasta, elim:99999999, filter:False, output:/tmp/sepp/output.svl2zd1i/root/P_7/A_7_0/FC_7_0_0/hmmsearch.results.v6to70t1\n",
      "[18:09:40] jobs.py (line 131):     INFO: Finished hmmsearch Job with input: model:/tmp/sepp/output.svl2zd1i/root/P_7/A_7_0/hmmbuild.model.ktbnp4vn, fragments:/tmp/sepp/output.svl2zd1i/fragment_chunks/fragment_chunk_1ti1bwrkh.fasta, elim:99999999, filter:False, output:/tmp/sepp/output.svl2zd1i/root/P_7/A_7_0/FC_7_0_1/hmmsearch.results.g78qt1iy\n",
      "[18:09:43] jobs.py (line 131):     INFO: Finished hmmsearch Job with input: model:/tmp/sepp/output.svl2zd1i/root/P_9/A_9_0/hmmbuild.model.johsuq2y, fragments:/tmp/sepp/output.svl2zd1i/fragment_chunks/fragment_chunk_0b0olujvs.fasta, elim:99999999, filter:False, output:/tmp/sepp/output.svl2zd1i/root/P_9/A_9_0/FC_9_0_0/hmmsearch.results.om9v8ut1\n",
      "[18:09:43] jobs.py (line 131):     INFO: Finished hmmsearch Job with input: model:/tmp/sepp/output.svl2zd1i/root/P_7/A_7_0/hmmbuild.model.ktbnp4vn, fragments:/tmp/sepp/output.svl2zd1i/fragment_chunks/fragment_chunk_2c2x2m9xw.fasta, elim:99999999, filter:False, output:/tmp/sepp/output.svl2zd1i/root/P_7/A_7_0/FC_7_0_2/hmmsearch.results.uz09wwf1\n",
      "[18:09:44] jobs.py (line 131):     INFO: Finished hmmsearch Job with input: model:/tmp/sepp/output.svl2zd1i/root/P_11/A_11_0/hmmbuild.model.3cytsajp, fragments:/tmp/sepp/output.svl2zd1i/fragment_chunks/fragment_chunk_0b0olujvs.fasta, elim:99999999, filter:False, output:/tmp/sepp/output.svl2zd1i/root/P_11/A_11_0/FC_11_0_0/hmmsearch.results.fxuhy94i\n",
      "[18:09:44] jobs.py (line 131):     INFO: Finished hmmsearch Job with input: model:/tmp/sepp/output.svl2zd1i/root/P_9/A_9_0/hmmbuild.model.johsuq2y, fragments:/tmp/sepp/output.svl2zd1i/fragment_chunks/fragment_chunk_1ti1bwrkh.fasta, elim:99999999, filter:False, output:/tmp/sepp/output.svl2zd1i/root/P_9/A_9_0/FC_9_0_1/hmmsearch.results.2ttviqub\n",
      "[18:09:45] jobs.py (line 131):     INFO: Finished hmmsearch Job with input: model:/tmp/sepp/output.svl2zd1i/root/P_9/A_9_0/hmmbuild.model.johsuq2y, fragments:/tmp/sepp/output.svl2zd1i/fragment_chunks/fragment_chunk_2c2x2m9xw.fasta, elim:99999999, filter:False, output:/tmp/sepp/output.svl2zd1i/root/P_9/A_9_0/FC_9_0_2/hmmsearch.results.zpc5kaa0\n",
      "[18:09:45] jobs.py (line 131):     INFO: Finished hmmsearch Job with input: model:/tmp/sepp/output.svl2zd1i/root/P_11/A_11_0/hmmbuild.model.3cytsajp, fragments:/tmp/sepp/output.svl2zd1i/fragment_chunks/fragment_chunk_1ti1bwrkh.fasta, elim:99999999, filter:False, output:/tmp/sepp/output.svl2zd1i/root/P_11/A_11_0/FC_11_0_1/hmmsearch.results.t4ff7781\n",
      "[18:09:49] jobs.py (line 131):     INFO: Finished hmmsearch Job with input: model:/tmp/sepp/output.svl2zd1i/root/P_8/A_8_0/hmmbuild.model.uonxw2kw, fragments:/tmp/sepp/output.svl2zd1i/fragment_chunks/fragment_chunk_1ti1bwrkh.fasta, elim:99999999, filter:False, output:/tmp/sepp/output.svl2zd1i/root/P_8/A_8_0/FC_8_0_1/hmmsearch.results.veaupt22\n",
      "[18:09:50] jobs.py (line 131):     INFO: Finished hmmsearch Job with input: model:/tmp/sepp/output.svl2zd1i/root/P_10/A_10_0/hmmbuild.model.9iyz4y6a, fragments:/tmp/sepp/output.svl2zd1i/fragment_chunks/fragment_chunk_1ti1bwrkh.fasta, elim:99999999, filter:False, output:/tmp/sepp/output.svl2zd1i/root/P_10/A_10_0/FC_10_0_1/hmmsearch.results.pbmhxld6\n",
      "[18:09:51] jobs.py (line 131):     INFO: Finished hmmsearch Job with input: model:/tmp/sepp/output.svl2zd1i/root/P_11/A_11_0/hmmbuild.model.3cytsajp, fragments:/tmp/sepp/output.svl2zd1i/fragment_chunks/fragment_chunk_2c2x2m9xw.fasta, elim:99999999, filter:False, output:/tmp/sepp/output.svl2zd1i/root/P_11/A_11_0/FC_11_0_2/hmmsearch.results.qqjw4lzp\n",
      "[18:09:51] jobs.py (line 131):     INFO: Finished hmmsearch Job with input: model:/tmp/sepp/output.svl2zd1i/root/P_8/A_8_0/hmmbuild.model.uonxw2kw, fragments:/tmp/sepp/output.svl2zd1i/fragment_chunks/fragment_chunk_0b0olujvs.fasta, elim:99999999, filter:False, output:/tmp/sepp/output.svl2zd1i/root/P_8/A_8_0/FC_8_0_0/hmmsearch.results.mz86jtsw\n",
      "[18:09:52] jobs.py (line 131):     INFO: Finished hmmsearch Job with input: model:/tmp/sepp/output.svl2zd1i/root/P_8/A_8_0/hmmbuild.model.uonxw2kw, fragments:/tmp/sepp/output.svl2zd1i/fragment_chunks/fragment_chunk_2c2x2m9xw.fasta, elim:99999999, filter:False, output:/tmp/sepp/output.svl2zd1i/root/P_8/A_8_0/FC_8_0_2/hmmsearch.results.mlfhfi4f\n",
      "[18:09:53] jobs.py (line 131):     INFO: Finished hmmsearch Job with input: model:/tmp/sepp/output.svl2zd1i/root/P_10/A_10_0/hmmbuild.model.9iyz4y6a, fragments:/tmp/sepp/output.svl2zd1i/fragment_chunks/fragment_chunk_0b0olujvs.fasta, elim:99999999, filter:False, output:/tmp/sepp/output.svl2zd1i/root/P_10/A_10_0/FC_10_0_0/hmmsearch.results.o1imx6ok\n",
      "[18:09:55] jobs.py (line 131):     INFO: Finished hmmsearch Job with input: model:/tmp/sepp/output.svl2zd1i/root/P_10/A_10_0/hmmbuild.model.9iyz4y6a, fragments:/tmp/sepp/output.svl2zd1i/fragment_chunks/fragment_chunk_2c2x2m9xw.fasta, elim:99999999, filter:False, output:/tmp/sepp/output.svl2zd1i/root/P_10/A_10_0/FC_10_0_2/hmmsearch.results.naor505i\n",
      "[18:09:55] jobs.py (line 131):     INFO: Finished hmmsearch Job with input: model:/tmp/sepp/output.svl2zd1i/root/P_13/A_13_0/hmmbuild.model.bz0a7kqo, fragments:/tmp/sepp/output.svl2zd1i/fragment_chunks/fragment_chunk_0b0olujvs.fasta, elim:99999999, filter:False, output:/tmp/sepp/output.svl2zd1i/root/P_13/A_13_0/FC_13_0_0/hmmsearch.results.3vowlpe_\n",
      "[18:09:57] jobs.py (line 131):     INFO: Finished hmmsearch Job with input: model:/tmp/sepp/output.svl2zd1i/root/P_13/A_13_0/hmmbuild.model.bz0a7kqo, fragments:/tmp/sepp/output.svl2zd1i/fragment_chunks/fragment_chunk_2c2x2m9xw.fasta, elim:99999999, filter:False, output:/tmp/sepp/output.svl2zd1i/root/P_13/A_13_0/FC_13_0_2/hmmsearch.results.jtu12gb5\n",
      "[18:09:58] jobs.py (line 131):     INFO: Finished hmmsearch Job with input: model:/tmp/sepp/output.svl2zd1i/root/P_13/A_13_0/hmmbuild.model.bz0a7kqo, fragments:/tmp/sepp/output.svl2zd1i/fragment_chunks/fragment_chunk_1ti1bwrkh.fasta, elim:99999999, filter:False, output:/tmp/sepp/output.svl2zd1i/root/P_13/A_13_0/FC_13_0_1/hmmsearch.results.p5tmkq4n\n",
      "[18:09:59] jobs.py (line 131):     INFO: Finished hmmsearch Job with input: model:/tmp/sepp/output.svl2zd1i/root/P_15/A_15_0/hmmbuild.model.t2bab44h, fragments:/tmp/sepp/output.svl2zd1i/fragment_chunks/fragment_chunk_0b0olujvs.fasta, elim:99999999, filter:False, output:/tmp/sepp/output.svl2zd1i/root/P_15/A_15_0/FC_15_0_0/hmmsearch.results.aaj24zc0\n",
      "[18:10:00] jobs.py (line 131):     INFO: Finished hmmsearch Job with input: model:/tmp/sepp/output.svl2zd1i/root/P_15/A_15_0/hmmbuild.model.t2bab44h, fragments:/tmp/sepp/output.svl2zd1i/fragment_chunks/fragment_chunk_1ti1bwrkh.fasta, elim:99999999, filter:False, output:/tmp/sepp/output.svl2zd1i/root/P_15/A_15_0/FC_15_0_1/hmmsearch.results.fd5qg9jd\n",
      "[18:10:02] jobs.py (line 131):     INFO: Finished hmmsearch Job with input: model:/tmp/sepp/output.svl2zd1i/root/P_15/A_15_0/hmmbuild.model.t2bab44h, fragments:/tmp/sepp/output.svl2zd1i/fragment_chunks/fragment_chunk_2c2x2m9xw.fasta, elim:99999999, filter:False, output:/tmp/sepp/output.svl2zd1i/root/P_15/A_15_0/FC_15_0_2/hmmsearch.results.cg4xtkz5\n",
      "[18:10:03] jobs.py (line 131):     INFO: Finished hmmsearch Job with input: model:/tmp/sepp/output.svl2zd1i/root/P_12/A_12_0/hmmbuild.model.rbsqgdst, fragments:/tmp/sepp/output.svl2zd1i/fragment_chunks/fragment_chunk_0b0olujvs.fasta, elim:99999999, filter:False, output:/tmp/sepp/output.svl2zd1i/root/P_12/A_12_0/FC_12_0_0/hmmsearch.results.5furbj00\n",
      "[18:10:03] jobs.py (line 131):     INFO: Finished hmmsearch Job with input: model:/tmp/sepp/output.svl2zd1i/root/P_14/A_14_0/hmmbuild.model.c_mfccsu, fragments:/tmp/sepp/output.svl2zd1i/fragment_chunks/fragment_chunk_0b0olujvs.fasta, elim:99999999, filter:False, output:/tmp/sepp/output.svl2zd1i/root/P_14/A_14_0/FC_14_0_0/hmmsearch.results.tb5tapfs\n",
      "[18:10:05] jobs.py (line 131):     INFO: Finished hmmsearch Job with input: model:/tmp/sepp/output.svl2zd1i/root/P_12/A_12_0/hmmbuild.model.rbsqgdst, fragments:/tmp/sepp/output.svl2zd1i/fragment_chunks/fragment_chunk_1ti1bwrkh.fasta, elim:99999999, filter:False, output:/tmp/sepp/output.svl2zd1i/root/P_12/A_12_0/FC_12_0_1/hmmsearch.results.wt_f1d2o\n",
      "[18:10:05] jobs.py (line 131):     INFO: Finished hmmsearch Job with input: model:/tmp/sepp/output.svl2zd1i/root/P_12/A_12_0/hmmbuild.model.rbsqgdst, fragments:/tmp/sepp/output.svl2zd1i/fragment_chunks/fragment_chunk_2c2x2m9xw.fasta, elim:99999999, filter:False, output:/tmp/sepp/output.svl2zd1i/root/P_12/A_12_0/FC_12_0_2/hmmsearch.results.q7pt2low\n",
      "[18:10:05] jobs.py (line 131):     INFO: Finished hmmsearch Job with input: model:/tmp/sepp/output.svl2zd1i/root/P_14/A_14_0/hmmbuild.model.c_mfccsu, fragments:/tmp/sepp/output.svl2zd1i/fragment_chunks/fragment_chunk_1ti1bwrkh.fasta, elim:99999999, filter:False, output:/tmp/sepp/output.svl2zd1i/root/P_14/A_14_0/FC_14_0_1/hmmsearch.results.qwltzsid\n",
      "[18:10:07] jobs.py (line 131):     INFO: Finished hmmsearch Job with input: model:/tmp/sepp/output.svl2zd1i/root/P_14/A_14_0/hmmbuild.model.c_mfccsu, fragments:/tmp/sepp/output.svl2zd1i/fragment_chunks/fragment_chunk_2c2x2m9xw.fasta, elim:99999999, filter:False, output:/tmp/sepp/output.svl2zd1i/root/P_14/A_14_0/FC_14_0_2/hmmsearch.results.4qvh25x4\n",
      "[18:10:07] exhaustive.py (line 80):  WARNING: Fragments [] are not scored against any subset\n",
      "[18:10:07] exhaustive.py (line 151):     INFO: Merging sub-alignments for placement problem : P_0.\n",
      "[18:10:07] jobs.py (line 131):     INFO: Finished hmmalign Job with input: model:/tmp/sepp/output.svl2zd1i/root/P_5/A_5_0/hmmbuild.model.h88csn2_, fragments:/tmp/sepp/output.svl2zd1i/root/P_5/A_5_0/FC_5_0_2/hmmalign.frag.9rznwa7z.fasta, trim:False, base_alignment:/tmp/sepp/output.svl2zd1i/root/P_5/A_5_0/hmmbuild.input.xv4atfvs.fasta\n",
      "[18:10:07] jobs.py (line 131):     INFO: Finished hmmalign Job with input: model:/tmp/sepp/output.svl2zd1i/root/P_5/A_5_0/hmmbuild.model.h88csn2_, fragments:/tmp/sepp/output.svl2zd1i/root/P_5/A_5_0/FC_5_0_0/hmmalign.frag.j9ggxgoj.fasta, trim:False, base_alignment:/tmp/sepp/output.svl2zd1i/root/P_5/A_5_0/hmmbuild.input.xv4atfvs.fasta\n",
      "[18:10:07] jobs.py (line 131):     INFO: Finished hmmalign Job with input: model:/tmp/sepp/output.svl2zd1i/root/P_5/A_5_0/hmmbuild.model.h88csn2_, fragments:/tmp/sepp/output.svl2zd1i/root/P_5/A_5_0/FC_5_0_1/hmmalign.frag.0y1d3w1q.fasta, trim:False, base_alignment:/tmp/sepp/output.svl2zd1i/root/P_5/A_5_0/hmmbuild.input.xv4atfvs.fasta\n",
      "[18:10:07] jobs.py (line 131):     INFO: Finished hmmalign Job with input: model:/tmp/sepp/output.svl2zd1i/root/P_1/A_1_0/hmmbuild.model.ilqtcy7w, fragments:/tmp/sepp/output.svl2zd1i/root/P_1/A_1_0/FC_1_0_2/hmmalign.frag.jcd8tvyt.fasta, trim:False, base_alignment:/tmp/sepp/output.svl2zd1i/root/P_1/A_1_0/hmmbuild.input.5f7507vz.fasta\n",
      "[18:10:07] exhaustive.py (line 151):     INFO: Merging sub-alignments for placement problem : P_2.\n",
      "[18:10:07] jobs.py (line 131):     INFO: Finished hmmalign Job with input: model:/tmp/sepp/output.svl2zd1i/root/P_1/A_1_0/hmmbuild.model.ilqtcy7w, fragments:/tmp/sepp/output.svl2zd1i/root/P_1/A_1_0/FC_1_0_0/hmmalign.frag.5mk3gzot.fasta, trim:False, base_alignment:/tmp/sepp/output.svl2zd1i/root/P_1/A_1_0/hmmbuild.input.5f7507vz.fasta\n",
      "[18:10:07] jobs.py (line 131):     INFO: Finished hmmalign Job with input: model:/tmp/sepp/output.svl2zd1i/root/P_1/A_1_0/hmmbuild.model.ilqtcy7w, fragments:/tmp/sepp/output.svl2zd1i/root/P_1/A_1_0/FC_1_0_1/hmmalign.frag.kr0nwstz.fasta, trim:False, base_alignment:/tmp/sepp/output.svl2zd1i/root/P_1/A_1_0/hmmbuild.input.5f7507vz.fasta\n",
      "[18:10:07] jobs.py (line 131):     INFO: Finished hmmalign Job with input: model:/tmp/sepp/output.svl2zd1i/root/P_6/A_6_0/hmmbuild.model.p6snb645, fragments:/tmp/sepp/output.svl2zd1i/root/P_6/A_6_0/FC_6_0_1/hmmalign.frag.kl5qhnlz.fasta, trim:False, base_alignment:/tmp/sepp/output.svl2zd1i/root/P_6/A_6_0/hmmbuild.input.1w5jzc51.fasta\n",
      "[18:10:07] jobs.py (line 131):     INFO: Finished hmmalign Job with input: model:/tmp/sepp/output.svl2zd1i/root/P_6/A_6_0/hmmbuild.model.p6snb645, fragments:/tmp/sepp/output.svl2zd1i/root/P_6/A_6_0/FC_6_0_0/hmmalign.frag.e5hghgz7.fasta, trim:False, base_alignment:/tmp/sepp/output.svl2zd1i/root/P_6/A_6_0/hmmbuild.input.1w5jzc51.fasta\n",
      "[18:10:07] jobs.py (line 131):     INFO: Finished hmmalign Job with input: model:/tmp/sepp/output.svl2zd1i/root/P_6/A_6_0/hmmbuild.model.p6snb645, fragments:/tmp/sepp/output.svl2zd1i/root/P_6/A_6_0/FC_6_0_2/hmmalign.frag.qylak44v.fasta, trim:False, base_alignment:/tmp/sepp/output.svl2zd1i/root/P_6/A_6_0/hmmbuild.input.1w5jzc51.fasta\n",
      "[18:10:07] exhaustive.py (line 151):     INFO: Merging sub-alignments for placement problem : P_3.\n",
      "[18:10:07] jobs.py (line 131):     INFO: Finished hmmalign Job with input: model:/tmp/sepp/output.svl2zd1i/root/P_7/A_7_0/hmmbuild.model.ktbnp4vn, fragments:/tmp/sepp/output.svl2zd1i/root/P_7/A_7_0/FC_7_0_1/hmmalign.frag.nxyu7xv1.fasta, trim:False, base_alignment:/tmp/sepp/output.svl2zd1i/root/P_7/A_7_0/hmmbuild.input.wk9bjr7p.fasta\n",
      "[18:10:07] jobs.py (line 131):     INFO: Finished hmmalign Job with input: model:/tmp/sepp/output.svl2zd1i/root/P_7/A_7_0/hmmbuild.model.ktbnp4vn, fragments:/tmp/sepp/output.svl2zd1i/root/P_7/A_7_0/FC_7_0_0/hmmalign.frag.uqi_rra4.fasta, trim:False, base_alignment:/tmp/sepp/output.svl2zd1i/root/P_7/A_7_0/hmmbuild.input.wk9bjr7p.fasta\n",
      "[18:10:07] jobs.py (line 131):     INFO: Finished hmmalign Job with input: model:/tmp/sepp/output.svl2zd1i/root/P_7/A_7_0/hmmbuild.model.ktbnp4vn, fragments:/tmp/sepp/output.svl2zd1i/root/P_7/A_7_0/FC_7_0_2/hmmalign.frag.4l2ugyxh.fasta, trim:False, base_alignment:/tmp/sepp/output.svl2zd1i/root/P_7/A_7_0/hmmbuild.input.wk9bjr7p.fasta\n",
      "[18:10:07] jobs.py (line 131):     INFO: Finished hmmalign Job with input: model:/tmp/sepp/output.svl2zd1i/root/P_8/A_8_0/hmmbuild.model.uonxw2kw, fragments:/tmp/sepp/output.svl2zd1i/root/P_8/A_8_0/FC_8_0_1/hmmalign.frag.l8wqrpi5.fasta, trim:False, base_alignment:/tmp/sepp/output.svl2zd1i/root/P_8/A_8_0/hmmbuild.input.mmv2jcky.fasta\n",
      "[18:10:07] jobs.py (line 131):     INFO: Finished hmmalign Job with input: model:/tmp/sepp/output.svl2zd1i/root/P_8/A_8_0/hmmbuild.model.uonxw2kw, fragments:/tmp/sepp/output.svl2zd1i/root/P_8/A_8_0/FC_8_0_2/hmmalign.frag.n61ajjbw.fasta, trim:False, base_alignment:/tmp/sepp/output.svl2zd1i/root/P_8/A_8_0/hmmbuild.input.mmv2jcky.fasta\n",
      "[18:10:08] exhaustive.py (line 151):     INFO: Merging sub-alignments for placement problem : P_4.\n",
      "[18:10:08] jobs.py (line 131):     INFO: Finished hmmalign Job with input: model:/tmp/sepp/output.svl2zd1i/root/P_8/A_8_0/hmmbuild.model.uonxw2kw, fragments:/tmp/sepp/output.svl2zd1i/root/P_8/A_8_0/FC_8_0_0/hmmalign.frag.2fyirm7h.fasta, trim:False, base_alignment:/tmp/sepp/output.svl2zd1i/root/P_8/A_8_0/hmmbuild.input.mmv2jcky.fasta\n",
      "[18:10:08] exhaustive.py (line 151):     INFO: Merging sub-alignments for placement problem : P_5.\n",
      "[18:10:08] alignment.py (line 556):     INFO: Merging extension sto file (/tmp/sepp/output.svl2zd1i/root/P_5/A_5_0/FC_5_0_0/hmmalign.results.u5hgr4gg) into base alignment (/tmp/sepp/output.svl2zd1i/root/P_5/A_5_0/hmmbuild.input.xv4atfvs.fasta).\n",
      "[18:10:08] alignment.py (line 556):     INFO: Merging extension sto file (/tmp/sepp/output.svl2zd1i/root/P_5/A_5_0/FC_5_0_1/hmmalign.results.5uic8d9y) into base alignment (/tmp/sepp/output.svl2zd1i/root/P_5/A_5_0/hmmbuild.input.xv4atfvs.fasta).\n",
      "[18:10:08] alignment.py (line 556):     INFO: Merging extension sto file (/tmp/sepp/output.svl2zd1i/root/P_5/A_5_0/FC_5_0_2/hmmalign.results.9zu6wmnb) into base alignment (/tmp/sepp/output.svl2zd1i/root/P_5/A_5_0/hmmbuild.input.xv4atfvs.fasta).\n",
      "[18:10:08] jobs.py (line 131):     INFO: Finished hmmalign Job with input: model:/tmp/sepp/output.svl2zd1i/root/P_10/A_10_0/hmmbuild.model.9iyz4y6a, fragments:/tmp/sepp/output.svl2zd1i/root/P_10/A_10_0/FC_10_0_0/hmmalign.frag.1i8u1acp.fasta, trim:False, base_alignment:/tmp/sepp/output.svl2zd1i/root/P_10/A_10_0/hmmbuild.input.aozyxd72.fasta\n",
      "[18:10:08] exhaustive.py (line 151):     INFO: Merging sub-alignments for placement problem : P_1.\n",
      "[18:10:08] jobs.py (line 131):     INFO: Finished hmmalign Job with input: model:/tmp/sepp/output.svl2zd1i/root/P_10/A_10_0/hmmbuild.model.9iyz4y6a, fragments:/tmp/sepp/output.svl2zd1i/root/P_10/A_10_0/FC_10_0_1/hmmalign.frag.maaz8tpt.fasta, trim:False, base_alignment:/tmp/sepp/output.svl2zd1i/root/P_10/A_10_0/hmmbuild.input.aozyxd72.fasta\n",
      "[18:10:08] alignment.py (line 556):     INFO: Merging extension sto file (/tmp/sepp/output.svl2zd1i/root/P_1/A_1_0/FC_1_0_0/hmmalign.results.a32vf7o7) into base alignment (/tmp/sepp/output.svl2zd1i/root/P_1/A_1_0/hmmbuild.input.5f7507vz.fasta).\n",
      "[18:10:08] alignment.py (line 556):     INFO: Merging extension sto file (/tmp/sepp/output.svl2zd1i/root/P_1/A_1_0/FC_1_0_1/hmmalign.results.oshgnalu) into base alignment (/tmp/sepp/output.svl2zd1i/root/P_1/A_1_0/hmmbuild.input.5f7507vz.fasta).\n",
      "[18:10:08] jobs.py (line 131):     INFO: Finished hmmalign Job with input: model:/tmp/sepp/output.svl2zd1i/root/P_10/A_10_0/hmmbuild.model.9iyz4y6a, fragments:/tmp/sepp/output.svl2zd1i/root/P_10/A_10_0/FC_10_0_2/hmmalign.frag.1whtku8w.fasta, trim:False, base_alignment:/tmp/sepp/output.svl2zd1i/root/P_10/A_10_0/hmmbuild.input.aozyxd72.fasta\n",
      "[18:10:08] alignment.py (line 556):     INFO: Merging extension sto file (/tmp/sepp/output.svl2zd1i/root/P_1/A_1_0/FC_1_0_2/hmmalign.results.9sqr8zdr) into base alignment (/tmp/sepp/output.svl2zd1i/root/P_1/A_1_0/hmmbuild.input.5f7507vz.fasta).\n",
      "[18:10:08] exhaustive.py (line 151):     INFO: Merging sub-alignments for placement problem : P_6.\n",
      "[18:10:08] alignment.py (line 556):     INFO: Merging extension sto file (/tmp/sepp/output.svl2zd1i/root/P_6/A_6_0/FC_6_0_0/hmmalign.results.wyve1fop) into base alignment (/tmp/sepp/output.svl2zd1i/root/P_6/A_6_0/hmmbuild.input.1w5jzc51.fasta).\n",
      "[18:10:08] alignment.py (line 556):     INFO: Merging extension sto file (/tmp/sepp/output.svl2zd1i/root/P_6/A_6_0/FC_6_0_1/hmmalign.results.sfjra4av) into base alignment (/tmp/sepp/output.svl2zd1i/root/P_6/A_6_0/hmmbuild.input.1w5jzc51.fasta).\n",
      "[18:10:08] alignment.py (line 556):     INFO: Merging extension sto file (/tmp/sepp/output.svl2zd1i/root/P_6/A_6_0/FC_6_0_2/hmmalign.results.kckkdup3) into base alignment (/tmp/sepp/output.svl2zd1i/root/P_6/A_6_0/hmmbuild.input.1w5jzc51.fasta).\n",
      "[18:10:08] exhaustive.py (line 151):     INFO: Merging sub-alignments for placement problem : P_7.\n",
      "[18:10:08] alignment.py (line 556):     INFO: Merging extension sto file (/tmp/sepp/output.svl2zd1i/root/P_7/A_7_0/FC_7_0_0/hmmalign.results.zj30esuy) into base alignment (/tmp/sepp/output.svl2zd1i/root/P_7/A_7_0/hmmbuild.input.wk9bjr7p.fasta).\n",
      "[18:10:08] jobs.py (line 131):     INFO: Finished hmmalign Job with input: model:/tmp/sepp/output.svl2zd1i/root/P_9/A_9_0/hmmbuild.model.johsuq2y, fragments:/tmp/sepp/output.svl2zd1i/root/P_9/A_9_0/FC_9_0_1/hmmalign.frag.uogwf7h_.fasta, trim:False, base_alignment:/tmp/sepp/output.svl2zd1i/root/P_9/A_9_0/hmmbuild.input.lg1sm5u0.fasta\n",
      "[18:10:08] alignment.py (line 556):     INFO: Merging extension sto file (/tmp/sepp/output.svl2zd1i/root/P_7/A_7_0/FC_7_0_1/hmmalign.results.03i_1lng) into base alignment (/tmp/sepp/output.svl2zd1i/root/P_7/A_7_0/hmmbuild.input.wk9bjr7p.fasta).\n",
      "[18:10:08] alignment.py (line 556):     INFO: Merging extension sto file (/tmp/sepp/output.svl2zd1i/root/P_7/A_7_0/FC_7_0_2/hmmalign.results.yd3gu_w6) into base alignment (/tmp/sepp/output.svl2zd1i/root/P_7/A_7_0/hmmbuild.input.wk9bjr7p.fasta).\n",
      "[18:10:08] jobs.py (line 131):     INFO: Finished hmmalign Job with input: model:/tmp/sepp/output.svl2zd1i/root/P_9/A_9_0/hmmbuild.model.johsuq2y, fragments:/tmp/sepp/output.svl2zd1i/root/P_9/A_9_0/FC_9_0_2/hmmalign.frag.v6bv2z4t.fasta, trim:False, base_alignment:/tmp/sepp/output.svl2zd1i/root/P_9/A_9_0/hmmbuild.input.lg1sm5u0.fasta\n",
      "[18:10:08] jobs.py (line 131):     INFO: Finished hmmalign Job with input: model:/tmp/sepp/output.svl2zd1i/root/P_9/A_9_0/hmmbuild.model.johsuq2y, fragments:/tmp/sepp/output.svl2zd1i/root/P_9/A_9_0/FC_9_0_0/hmmalign.frag.viazop01.fasta, trim:False, base_alignment:/tmp/sepp/output.svl2zd1i/root/P_9/A_9_0/hmmbuild.input.lg1sm5u0.fasta\n",
      "[18:10:08] exhaustive.py (line 151):     INFO: Merging sub-alignments for placement problem : P_8.\n",
      "[18:10:08] alignment.py (line 556):     INFO: Merging extension sto file (/tmp/sepp/output.svl2zd1i/root/P_8/A_8_0/FC_8_0_0/hmmalign.results.8klsiwi9) into base alignment (/tmp/sepp/output.svl2zd1i/root/P_8/A_8_0/hmmbuild.input.mmv2jcky.fasta).\n",
      "[18:10:08] alignment.py (line 556):     INFO: Merging extension sto file (/tmp/sepp/output.svl2zd1i/root/P_8/A_8_0/FC_8_0_1/hmmalign.results.x8c6ntc2) into base alignment (/tmp/sepp/output.svl2zd1i/root/P_8/A_8_0/hmmbuild.input.mmv2jcky.fasta).\n",
      "[18:10:08] alignment.py (line 556):     INFO: Merging extension sto file (/tmp/sepp/output.svl2zd1i/root/P_8/A_8_0/FC_8_0_2/hmmalign.results.mx366vmf) into base alignment (/tmp/sepp/output.svl2zd1i/root/P_8/A_8_0/hmmbuild.input.mmv2jcky.fasta).\n",
      "[18:10:08] exhaustive.py (line 151):     INFO: Merging sub-alignments for placement problem : P_10.\n",
      "[18:10:08] alignment.py (line 556):     INFO: Merging extension sto file (/tmp/sepp/output.svl2zd1i/root/P_10/A_10_0/FC_10_0_0/hmmalign.results.1g1k_y1n) into base alignment (/tmp/sepp/output.svl2zd1i/root/P_10/A_10_0/hmmbuild.input.aozyxd72.fasta).\n",
      "[18:10:08] alignment.py (line 556):     INFO: Merging extension sto file (/tmp/sepp/output.svl2zd1i/root/P_10/A_10_0/FC_10_0_1/hmmalign.results.di49hqlp) into base alignment (/tmp/sepp/output.svl2zd1i/root/P_10/A_10_0/hmmbuild.input.aozyxd72.fasta).\n",
      "[18:10:08] alignment.py (line 556):     INFO: Merging extension sto file (/tmp/sepp/output.svl2zd1i/root/P_10/A_10_0/FC_10_0_2/hmmalign.results.t316_qpr) into base alignment (/tmp/sepp/output.svl2zd1i/root/P_10/A_10_0/hmmbuild.input.aozyxd72.fasta).\n",
      "[18:10:08] exhaustive.py (line 151):     INFO: Merging sub-alignments for placement problem : P_9.\n",
      "[18:10:08] alignment.py (line 556):     INFO: Merging extension sto file (/tmp/sepp/output.svl2zd1i/root/P_9/A_9_0/FC_9_0_0/hmmalign.results._u981xzw) into base alignment (/tmp/sepp/output.svl2zd1i/root/P_9/A_9_0/hmmbuild.input.lg1sm5u0.fasta).\n",
      "[18:10:08] alignment.py (line 556):     INFO: Merging extension sto file (/tmp/sepp/output.svl2zd1i/root/P_9/A_9_0/FC_9_0_1/hmmalign.results.ri345_bl) into base alignment (/tmp/sepp/output.svl2zd1i/root/P_9/A_9_0/hmmbuild.input.lg1sm5u0.fasta).\n",
      "[18:10:09] alignment.py (line 556):     INFO: Merging extension sto file (/tmp/sepp/output.svl2zd1i/root/P_9/A_9_0/FC_9_0_2/hmmalign.results.iyyle60f) into base alignment (/tmp/sepp/output.svl2zd1i/root/P_9/A_9_0/hmmbuild.input.lg1sm5u0.fasta).\n",
      "[18:10:10] jobs.py (line 131):     INFO: Finished hmmalign Job with input: model:/tmp/sepp/output.svl2zd1i/root/P_12/A_12_0/hmmbuild.model.rbsqgdst, fragments:/tmp/sepp/output.svl2zd1i/root/P_12/A_12_0/FC_12_0_0/hmmalign.frag.316t7snq.fasta, trim:False, base_alignment:/tmp/sepp/output.svl2zd1i/root/P_12/A_12_0/hmmbuild.input.gehei56b.fasta\n",
      "[18:10:10] jobs.py (line 131):     INFO: Finished hmmalign Job with input: model:/tmp/sepp/output.svl2zd1i/root/P_12/A_12_0/hmmbuild.model.rbsqgdst, fragments:/tmp/sepp/output.svl2zd1i/root/P_12/A_12_0/FC_12_0_1/hmmalign.frag.1z8a05ah.fasta, trim:False, base_alignment:/tmp/sepp/output.svl2zd1i/root/P_12/A_12_0/hmmbuild.input.gehei56b.fasta\n",
      "[18:10:10] jobs.py (line 131):     INFO: Finished hmmalign Job with input: model:/tmp/sepp/output.svl2zd1i/root/P_12/A_12_0/hmmbuild.model.rbsqgdst, fragments:/tmp/sepp/output.svl2zd1i/root/P_12/A_12_0/FC_12_0_2/hmmalign.frag.kracd3xz.fasta, trim:False, base_alignment:/tmp/sepp/output.svl2zd1i/root/P_12/A_12_0/hmmbuild.input.gehei56b.fasta\n",
      "[18:10:10] exhaustive.py (line 151):     INFO: Merging sub-alignments for placement problem : P_12.\n",
      "[18:10:10] alignment.py (line 556):     INFO: Merging extension sto file (/tmp/sepp/output.svl2zd1i/root/P_12/A_12_0/FC_12_0_0/hmmalign.results.mi8asxz2) into base alignment (/tmp/sepp/output.svl2zd1i/root/P_12/A_12_0/hmmbuild.input.gehei56b.fasta).\n",
      "[18:10:10] jobs.py (line 131):     INFO: Finished hmmalign Job with input: model:/tmp/sepp/output.svl2zd1i/root/P_13/A_13_0/hmmbuild.model.bz0a7kqo, fragments:/tmp/sepp/output.svl2zd1i/root/P_13/A_13_0/FC_13_0_0/hmmalign.frag.dk_p1utf.fasta, trim:False, base_alignment:/tmp/sepp/output.svl2zd1i/root/P_13/A_13_0/hmmbuild.input.ujgma63m.fasta\n",
      "[18:10:10] alignment.py (line 556):     INFO: Merging extension sto file (/tmp/sepp/output.svl2zd1i/root/P_12/A_12_0/FC_12_0_1/hmmalign.results.3k3vdltu) into base alignment (/tmp/sepp/output.svl2zd1i/root/P_12/A_12_0/hmmbuild.input.gehei56b.fasta).\n",
      "[18:10:10] alignment.py (line 556):     INFO: Merging extension sto file (/tmp/sepp/output.svl2zd1i/root/P_12/A_12_0/FC_12_0_2/hmmalign.results.4t7m_owd) into base alignment (/tmp/sepp/output.svl2zd1i/root/P_12/A_12_0/hmmbuild.input.gehei56b.fasta).\n",
      "[18:10:10] jobs.py (line 131):     INFO: Finished hmmalign Job with input: model:/tmp/sepp/output.svl2zd1i/root/P_14/A_14_0/hmmbuild.model.c_mfccsu, fragments:/tmp/sepp/output.svl2zd1i/root/P_14/A_14_0/FC_14_0_0/hmmalign.frag.d22iitvc.fasta, trim:False, base_alignment:/tmp/sepp/output.svl2zd1i/root/P_14/A_14_0/hmmbuild.input.yub7x8ev.fasta\n",
      "[18:10:10] jobs.py (line 131):     INFO: Finished hmmalign Job with input: model:/tmp/sepp/output.svl2zd1i/root/P_13/A_13_0/hmmbuild.model.bz0a7kqo, fragments:/tmp/sepp/output.svl2zd1i/root/P_13/A_13_0/FC_13_0_1/hmmalign.frag.crix4jlw.fasta, trim:False, base_alignment:/tmp/sepp/output.svl2zd1i/root/P_13/A_13_0/hmmbuild.input.ujgma63m.fasta\n",
      "[18:10:10] jobs.py (line 131):     INFO: Finished hmmalign Job with input: model:/tmp/sepp/output.svl2zd1i/root/P_14/A_14_0/hmmbuild.model.c_mfccsu, fragments:/tmp/sepp/output.svl2zd1i/root/P_14/A_14_0/FC_14_0_1/hmmalign.frag.swi3s3pa.fasta, trim:False, base_alignment:/tmp/sepp/output.svl2zd1i/root/P_14/A_14_0/hmmbuild.input.yub7x8ev.fasta\n",
      "[18:10:10] exhaustive.py (line 151):     INFO: Merging sub-alignments for placement problem : P_15.\n",
      "[18:10:10] jobs.py (line 131):     INFO: Finished hmmalign Job with input: model:/tmp/sepp/output.svl2zd1i/root/P_13/A_13_0/hmmbuild.model.bz0a7kqo, fragments:/tmp/sepp/output.svl2zd1i/root/P_13/A_13_0/FC_13_0_2/hmmalign.frag.axi5pcf7.fasta, trim:False, base_alignment:/tmp/sepp/output.svl2zd1i/root/P_13/A_13_0/hmmbuild.input.ujgma63m.fasta\n",
      "[18:10:10] jobs.py (line 131):     INFO: Finished hmmalign Job with input: model:/tmp/sepp/output.svl2zd1i/root/P_14/A_14_0/hmmbuild.model.c_mfccsu, fragments:/tmp/sepp/output.svl2zd1i/root/P_14/A_14_0/FC_14_0_2/hmmalign.frag.uyco3iy9.fasta, trim:False, base_alignment:/tmp/sepp/output.svl2zd1i/root/P_14/A_14_0/hmmbuild.input.yub7x8ev.fasta\n",
      "[18:10:11] exhaustive.py (line 151):     INFO: Merging sub-alignments for placement problem : P_13.\n",
      "[18:10:11] alignment.py (line 556):     INFO: Merging extension sto file (/tmp/sepp/output.svl2zd1i/root/P_13/A_13_0/FC_13_0_0/hmmalign.results.3ev7bpvc) into base alignment (/tmp/sepp/output.svl2zd1i/root/P_13/A_13_0/hmmbuild.input.ujgma63m.fasta).\n",
      "[18:10:11] alignment.py (line 556):     INFO: Merging extension sto file (/tmp/sepp/output.svl2zd1i/root/P_13/A_13_0/FC_13_0_1/hmmalign.results.d89nj628) into base alignment (/tmp/sepp/output.svl2zd1i/root/P_13/A_13_0/hmmbuild.input.ujgma63m.fasta).\n",
      "[18:10:11] alignment.py (line 556):     INFO: Merging extension sto file (/tmp/sepp/output.svl2zd1i/root/P_13/A_13_0/FC_13_0_2/hmmalign.results.tvcv0v8g) into base alignment (/tmp/sepp/output.svl2zd1i/root/P_13/A_13_0/hmmbuild.input.ujgma63m.fasta).\n",
      "[18:10:11] exhaustive.py (line 151):     INFO: Merging sub-alignments for placement problem : P_14.\n",
      "[18:10:11] alignment.py (line 556):     INFO: Merging extension sto file (/tmp/sepp/output.svl2zd1i/root/P_14/A_14_0/FC_14_0_0/hmmalign.results.2wgr8ea6) into base alignment (/tmp/sepp/output.svl2zd1i/root/P_14/A_14_0/hmmbuild.input.yub7x8ev.fasta).\n",
      "[18:10:11] alignment.py (line 556):     INFO: Merging extension sto file (/tmp/sepp/output.svl2zd1i/root/P_14/A_14_0/FC_14_0_1/hmmalign.results.gp65c2rn) into base alignment (/tmp/sepp/output.svl2zd1i/root/P_14/A_14_0/hmmbuild.input.yub7x8ev.fasta).\n",
      "[18:10:11] alignment.py (line 556):     INFO: Merging extension sto file (/tmp/sepp/output.svl2zd1i/root/P_14/A_14_0/FC_14_0_2/hmmalign.results.4exeul95) into base alignment (/tmp/sepp/output.svl2zd1i/root/P_14/A_14_0/hmmbuild.input.yub7x8ev.fasta).\n",
      "[18:10:14] jobs.py (line 131):     INFO: Finished pplacer Job with input: backbone_alignment_file:/tmp/sepp/output.svl2zd1i/root/P_5/pplacer.backbone.ptqmex3w.fasta, tree_file:/tmp/sepp/output.svl2zd1i/root/P_5/pplacer.tree.ko3q4iac.tre, info_file:/home/lauro/anaconda3/envs/qiime2-2021.11/lib/python3.8/site-packages/picrust2/default_files/prokaryotic/pro_ref/pro_ref.raxml_info, extended alignment:/tmp/sepp/output.svl2zd1i/root/P_5/pplacer.extended.1.1pr8stou.fasta, output:/tmp/sepp/output.svl2zd1i/root/P_5/pplacer.extended.1.1pr8stou.jplace\n",
      "[18:10:16] jobs.py (line 131):     INFO: Finished pplacer Job with input: backbone_alignment_file:/tmp/sepp/output.svl2zd1i/root/P_5/pplacer.backbone.d4zug2qn.fasta, tree_file:/tmp/sepp/output.svl2zd1i/root/P_5/pplacer.tree.pzs1jxop.tre, info_file:/home/lauro/anaconda3/envs/qiime2-2021.11/lib/python3.8/site-packages/picrust2/default_files/prokaryotic/pro_ref/pro_ref.raxml_info, extended alignment:/tmp/sepp/output.svl2zd1i/root/P_5/pplacer.extended.2.lnklk0ti.fasta, output:/tmp/sepp/output.svl2zd1i/root/P_5/pplacer.extended.2.lnklk0ti.jplace\n",
      "[18:10:16] jobs.py (line 131):     INFO: Finished pplacer Job with input: backbone_alignment_file:/tmp/sepp/output.svl2zd1i/root/P_5/pplacer.backbone.qiolu1ow.fasta, tree_file:/tmp/sepp/output.svl2zd1i/root/P_5/pplacer.tree.9d3b7ngv.tre, info_file:/home/lauro/anaconda3/envs/qiime2-2021.11/lib/python3.8/site-packages/picrust2/default_files/prokaryotic/pro_ref/pro_ref.raxml_info, extended alignment:/tmp/sepp/output.svl2zd1i/root/P_5/pplacer.extended.0.69vjiclk.fasta, output:/tmp/sepp/output.svl2zd1i/root/P_5/pplacer.extended.0.69vjiclk.jplace\n",
      "[18:10:18] jobs.py (line 131):     INFO: Finished pplacer Job with input: backbone_alignment_file:/tmp/sepp/output.svl2zd1i/root/P_1/pplacer.backbone.cj1lhb1l.fasta, tree_file:/tmp/sepp/output.svl2zd1i/root/P_1/pplacer.tree.4psgg2ub.tre, info_file:/home/lauro/anaconda3/envs/qiime2-2021.11/lib/python3.8/site-packages/picrust2/default_files/prokaryotic/pro_ref/pro_ref.raxml_info, extended alignment:/tmp/sepp/output.svl2zd1i/root/P_1/pplacer.extended.0.o0ehix5a.fasta, output:/tmp/sepp/output.svl2zd1i/root/P_1/pplacer.extended.0.o0ehix5a.jplace\n",
      "[18:10:19] jobs.py (line 131):     INFO: Finished hmmalign Job with input: model:/tmp/sepp/output.svl2zd1i/root/P_11/A_11_0/hmmbuild.model.3cytsajp, fragments:/tmp/sepp/output.svl2zd1i/root/P_11/A_11_0/FC_11_0_1/hmmalign.frag.qecc7nj0.fasta, trim:False, base_alignment:/tmp/sepp/output.svl2zd1i/root/P_11/A_11_0/hmmbuild.input.ols42o2b.fasta\n",
      "[18:10:20] jobs.py (line 131):     INFO: Finished hmmalign Job with input: model:/tmp/sepp/output.svl2zd1i/root/P_11/A_11_0/hmmbuild.model.3cytsajp, fragments:/tmp/sepp/output.svl2zd1i/root/P_11/A_11_0/FC_11_0_0/hmmalign.frag.s15jabtp.fasta, trim:False, base_alignment:/tmp/sepp/output.svl2zd1i/root/P_11/A_11_0/hmmbuild.input.ols42o2b.fasta\n",
      "[18:10:20] jobs.py (line 131):     INFO: Finished pplacer Job with input: backbone_alignment_file:/tmp/sepp/output.svl2zd1i/root/P_1/pplacer.backbone.spszs52l.fasta, tree_file:/tmp/sepp/output.svl2zd1i/root/P_1/pplacer.tree.um9dicgt.tre, info_file:/home/lauro/anaconda3/envs/qiime2-2021.11/lib/python3.8/site-packages/picrust2/default_files/prokaryotic/pro_ref/pro_ref.raxml_info, extended alignment:/tmp/sepp/output.svl2zd1i/root/P_1/pplacer.extended.2.95yydbcw.fasta, output:/tmp/sepp/output.svl2zd1i/root/P_1/pplacer.extended.2.95yydbcw.jplace\n",
      "[18:10:20] jobs.py (line 131):     INFO: Finished hmmalign Job with input: model:/tmp/sepp/output.svl2zd1i/root/P_11/A_11_0/hmmbuild.model.3cytsajp, fragments:/tmp/sepp/output.svl2zd1i/root/P_11/A_11_0/FC_11_0_2/hmmalign.frag.wq68kdg5.fasta, trim:False, base_alignment:/tmp/sepp/output.svl2zd1i/root/P_11/A_11_0/hmmbuild.input.ols42o2b.fasta\n",
      "[18:10:20] exhaustive.py (line 151):     INFO: Merging sub-alignments for placement problem : P_11.\n",
      "[18:10:20] alignment.py (line 556):     INFO: Merging extension sto file (/tmp/sepp/output.svl2zd1i/root/P_11/A_11_0/FC_11_0_0/hmmalign.results.9h0vbqv1) into base alignment (/tmp/sepp/output.svl2zd1i/root/P_11/A_11_0/hmmbuild.input.ols42o2b.fasta).\n",
      "[18:10:20] alignment.py (line 556):     INFO: Merging extension sto file (/tmp/sepp/output.svl2zd1i/root/P_11/A_11_0/FC_11_0_1/hmmalign.results.z3x8jor6) into base alignment (/tmp/sepp/output.svl2zd1i/root/P_11/A_11_0/hmmbuild.input.ols42o2b.fasta).\n",
      "[18:10:20] alignment.py (line 556):     INFO: Merging extension sto file (/tmp/sepp/output.svl2zd1i/root/P_11/A_11_0/FC_11_0_2/hmmalign.results.rmwih4qt) into base alignment (/tmp/sepp/output.svl2zd1i/root/P_11/A_11_0/hmmbuild.input.ols42o2b.fasta).\n",
      "[18:10:22] jobs.py (line 131):     INFO: Finished pplacer Job with input: backbone_alignment_file:/tmp/sepp/output.svl2zd1i/root/P_1/pplacer.backbone.nfux3kby.fasta, tree_file:/tmp/sepp/output.svl2zd1i/root/P_1/pplacer.tree.43n4w5t0.tre, info_file:/home/lauro/anaconda3/envs/qiime2-2021.11/lib/python3.8/site-packages/picrust2/default_files/prokaryotic/pro_ref/pro_ref.raxml_info, extended alignment:/tmp/sepp/output.svl2zd1i/root/P_1/pplacer.extended.1.dwzvdo8u.fasta, output:/tmp/sepp/output.svl2zd1i/root/P_1/pplacer.extended.1.dwzvdo8u.jplace\n",
      "[18:10:25] jobs.py (line 131):     INFO: Finished pplacer Job with input: backbone_alignment_file:/tmp/sepp/output.svl2zd1i/root/P_6/pplacer.backbone.v2qkeaie.fasta, tree_file:/tmp/sepp/output.svl2zd1i/root/P_6/pplacer.tree.kynv_3ia.tre, info_file:/home/lauro/anaconda3/envs/qiime2-2021.11/lib/python3.8/site-packages/picrust2/default_files/prokaryotic/pro_ref/pro_ref.raxml_info, extended alignment:/tmp/sepp/output.svl2zd1i/root/P_6/pplacer.extended.0.dypkh3bk.fasta, output:/tmp/sepp/output.svl2zd1i/root/P_6/pplacer.extended.0.dypkh3bk.jplace\n",
      "[18:10:27] jobs.py (line 131):     INFO: Finished pplacer Job with input: backbone_alignment_file:/tmp/sepp/output.svl2zd1i/root/P_7/pplacer.backbone.hf_6mm1w.fasta, tree_file:/tmp/sepp/output.svl2zd1i/root/P_7/pplacer.tree.y4dnq4xb.tre, info_file:/home/lauro/anaconda3/envs/qiime2-2021.11/lib/python3.8/site-packages/picrust2/default_files/prokaryotic/pro_ref/pro_ref.raxml_info, extended alignment:/tmp/sepp/output.svl2zd1i/root/P_7/pplacer.extended.1.s0a952s6.fasta, output:/tmp/sepp/output.svl2zd1i/root/P_7/pplacer.extended.1.s0a952s6.jplace\n",
      "[18:10:27] jobs.py (line 131):     INFO: Finished pplacer Job with input: backbone_alignment_file:/tmp/sepp/output.svl2zd1i/root/P_7/pplacer.backbone.aneak7h4.fasta, tree_file:/tmp/sepp/output.svl2zd1i/root/P_7/pplacer.tree.0kgk70iy.tre, info_file:/home/lauro/anaconda3/envs/qiime2-2021.11/lib/python3.8/site-packages/picrust2/default_files/prokaryotic/pro_ref/pro_ref.raxml_info, extended alignment:/tmp/sepp/output.svl2zd1i/root/P_7/pplacer.extended.0.qkiv_35t.fasta, output:/tmp/sepp/output.svl2zd1i/root/P_7/pplacer.extended.0.qkiv_35t.jplace\n",
      "[18:10:27] jobs.py (line 131):     INFO: Finished pplacer Job with input: backbone_alignment_file:/tmp/sepp/output.svl2zd1i/root/P_7/pplacer.backbone.ttpcfism.fasta, tree_file:/tmp/sepp/output.svl2zd1i/root/P_7/pplacer.tree.z7bjwi62.tre, info_file:/home/lauro/anaconda3/envs/qiime2-2021.11/lib/python3.8/site-packages/picrust2/default_files/prokaryotic/pro_ref/pro_ref.raxml_info, extended alignment:/tmp/sepp/output.svl2zd1i/root/P_7/pplacer.extended.2.dwcxu229.fasta, output:/tmp/sepp/output.svl2zd1i/root/P_7/pplacer.extended.2.dwcxu229.jplace\n",
      "[18:10:29] jobs.py (line 131):     INFO: Finished pplacer Job with input: backbone_alignment_file:/tmp/sepp/output.svl2zd1i/root/P_6/pplacer.backbone.5s1hom_5.fasta, tree_file:/tmp/sepp/output.svl2zd1i/root/P_6/pplacer.tree.1k2v8zmp.tre, info_file:/home/lauro/anaconda3/envs/qiime2-2021.11/lib/python3.8/site-packages/picrust2/default_files/prokaryotic/pro_ref/pro_ref.raxml_info, extended alignment:/tmp/sepp/output.svl2zd1i/root/P_6/pplacer.extended.2.hd2nmc49.fasta, output:/tmp/sepp/output.svl2zd1i/root/P_6/pplacer.extended.2.hd2nmc49.jplace\n",
      "[18:10:29] jobs.py (line 131):     INFO: Finished pplacer Job with input: backbone_alignment_file:/tmp/sepp/output.svl2zd1i/root/P_6/pplacer.backbone.b_n1duk7.fasta, tree_file:/tmp/sepp/output.svl2zd1i/root/P_6/pplacer.tree.kurj38i1.tre, info_file:/home/lauro/anaconda3/envs/qiime2-2021.11/lib/python3.8/site-packages/picrust2/default_files/prokaryotic/pro_ref/pro_ref.raxml_info, extended alignment:/tmp/sepp/output.svl2zd1i/root/P_6/pplacer.extended.1.euwzisse.fasta, output:/tmp/sepp/output.svl2zd1i/root/P_6/pplacer.extended.1.euwzisse.jplace\n",
      "[18:10:30] jobs.py (line 131):     INFO: Finished pplacer Job with input: backbone_alignment_file:/tmp/sepp/output.svl2zd1i/root/P_8/pplacer.backbone.4kdrm13e.fasta, tree_file:/tmp/sepp/output.svl2zd1i/root/P_8/pplacer.tree.ctef589u.tre, info_file:/home/lauro/anaconda3/envs/qiime2-2021.11/lib/python3.8/site-packages/picrust2/default_files/prokaryotic/pro_ref/pro_ref.raxml_info, extended alignment:/tmp/sepp/output.svl2zd1i/root/P_8/pplacer.extended.0.ao7je7f0.fasta, output:/tmp/sepp/output.svl2zd1i/root/P_8/pplacer.extended.0.ao7je7f0.jplace\n",
      "[18:10:30] jobs.py (line 131):     INFO: Finished pplacer Job with input: backbone_alignment_file:/tmp/sepp/output.svl2zd1i/root/P_8/pplacer.backbone.nroyljiu.fasta, tree_file:/tmp/sepp/output.svl2zd1i/root/P_8/pplacer.tree.4mrr7g3i.tre, info_file:/home/lauro/anaconda3/envs/qiime2-2021.11/lib/python3.8/site-packages/picrust2/default_files/prokaryotic/pro_ref/pro_ref.raxml_info, extended alignment:/tmp/sepp/output.svl2zd1i/root/P_8/pplacer.extended.2.43k0f64r.fasta, output:/tmp/sepp/output.svl2zd1i/root/P_8/pplacer.extended.2.43k0f64r.jplace\n",
      "[18:10:32] jobs.py (line 131):     INFO: Finished pplacer Job with input: backbone_alignment_file:/tmp/sepp/output.svl2zd1i/root/P_8/pplacer.backbone.pcwpo5w3.fasta, tree_file:/tmp/sepp/output.svl2zd1i/root/P_8/pplacer.tree.xv6pg05m.tre, info_file:/home/lauro/anaconda3/envs/qiime2-2021.11/lib/python3.8/site-packages/picrust2/default_files/prokaryotic/pro_ref/pro_ref.raxml_info, extended alignment:/tmp/sepp/output.svl2zd1i/root/P_8/pplacer.extended.1.lx1nr4oz.fasta, output:/tmp/sepp/output.svl2zd1i/root/P_8/pplacer.extended.1.lx1nr4oz.jplace\n",
      "[18:10:32] jobs.py (line 131):     INFO: Finished pplacer Job with input: backbone_alignment_file:/tmp/sepp/output.svl2zd1i/root/P_10/pplacer.backbone.sgiswu2g.fasta, tree_file:/tmp/sepp/output.svl2zd1i/root/P_10/pplacer.tree.ufnkcrk0.tre, info_file:/home/lauro/anaconda3/envs/qiime2-2021.11/lib/python3.8/site-packages/picrust2/default_files/prokaryotic/pro_ref/pro_ref.raxml_info, extended alignment:/tmp/sepp/output.svl2zd1i/root/P_10/pplacer.extended.0._e1m3_lv.fasta, output:/tmp/sepp/output.svl2zd1i/root/P_10/pplacer.extended.0._e1m3_lv.jplace\n",
      "[18:10:34] jobs.py (line 131):     INFO: Finished pplacer Job with input: backbone_alignment_file:/tmp/sepp/output.svl2zd1i/root/P_10/pplacer.backbone.j65qy3ca.fasta, tree_file:/tmp/sepp/output.svl2zd1i/root/P_10/pplacer.tree.b2shv3ar.tre, info_file:/home/lauro/anaconda3/envs/qiime2-2021.11/lib/python3.8/site-packages/picrust2/default_files/prokaryotic/pro_ref/pro_ref.raxml_info, extended alignment:/tmp/sepp/output.svl2zd1i/root/P_10/pplacer.extended.2.1bm0mn_4.fasta, output:/tmp/sepp/output.svl2zd1i/root/P_10/pplacer.extended.2.1bm0mn_4.jplace\n",
      "[18:10:36] jobs.py (line 131):     INFO: Finished pplacer Job with input: backbone_alignment_file:/tmp/sepp/output.svl2zd1i/root/P_10/pplacer.backbone.i46ma7wi.fasta, tree_file:/tmp/sepp/output.svl2zd1i/root/P_10/pplacer.tree.3h7miuso.tre, info_file:/home/lauro/anaconda3/envs/qiime2-2021.11/lib/python3.8/site-packages/picrust2/default_files/prokaryotic/pro_ref/pro_ref.raxml_info, extended alignment:/tmp/sepp/output.svl2zd1i/root/P_10/pplacer.extended.1.tkblp3tc.fasta, output:/tmp/sepp/output.svl2zd1i/root/P_10/pplacer.extended.1.tkblp3tc.jplace\n",
      "[18:10:38] jobs.py (line 131):     INFO: Finished pplacer Job with input: backbone_alignment_file:/tmp/sepp/output.svl2zd1i/root/P_9/pplacer.backbone.bfxecztk.fasta, tree_file:/tmp/sepp/output.svl2zd1i/root/P_9/pplacer.tree.zol3ai3u.tre, info_file:/home/lauro/anaconda3/envs/qiime2-2021.11/lib/python3.8/site-packages/picrust2/default_files/prokaryotic/pro_ref/pro_ref.raxml_info, extended alignment:/tmp/sepp/output.svl2zd1i/root/P_9/pplacer.extended.0.msolf7jc.fasta, output:/tmp/sepp/output.svl2zd1i/root/P_9/pplacer.extended.0.msolf7jc.jplace\n",
      "[18:10:40] jobs.py (line 131):     INFO: Finished pplacer Job with input: backbone_alignment_file:/tmp/sepp/output.svl2zd1i/root/P_9/pplacer.backbone.127bbf91.fasta, tree_file:/tmp/sepp/output.svl2zd1i/root/P_9/pplacer.tree.g2naz9b5.tre, info_file:/home/lauro/anaconda3/envs/qiime2-2021.11/lib/python3.8/site-packages/picrust2/default_files/prokaryotic/pro_ref/pro_ref.raxml_info, extended alignment:/tmp/sepp/output.svl2zd1i/root/P_9/pplacer.extended.2.gt16k95q.fasta, output:/tmp/sepp/output.svl2zd1i/root/P_9/pplacer.extended.2.gt16k95q.jplace\n",
      "[18:10:40] jobs.py (line 131):     INFO: Finished pplacer Job with input: backbone_alignment_file:/tmp/sepp/output.svl2zd1i/root/P_9/pplacer.backbone.tbu3g587.fasta, tree_file:/tmp/sepp/output.svl2zd1i/root/P_9/pplacer.tree.00we2_sm.tre, info_file:/home/lauro/anaconda3/envs/qiime2-2021.11/lib/python3.8/site-packages/picrust2/default_files/prokaryotic/pro_ref/pro_ref.raxml_info, extended alignment:/tmp/sepp/output.svl2zd1i/root/P_9/pplacer.extended.1.480fdf23.fasta, output:/tmp/sepp/output.svl2zd1i/root/P_9/pplacer.extended.1.480fdf23.jplace\n",
      "[18:10:42] jobs.py (line 131):     INFO: Finished pplacer Job with input: backbone_alignment_file:/tmp/sepp/output.svl2zd1i/root/P_12/pplacer.backbone.cye_8vhx.fasta, tree_file:/tmp/sepp/output.svl2zd1i/root/P_12/pplacer.tree.qa0b_moi.tre, info_file:/home/lauro/anaconda3/envs/qiime2-2021.11/lib/python3.8/site-packages/picrust2/default_files/prokaryotic/pro_ref/pro_ref.raxml_info, extended alignment:/tmp/sepp/output.svl2zd1i/root/P_12/pplacer.extended.0.z8f3j9cm.fasta, output:/tmp/sepp/output.svl2zd1i/root/P_12/pplacer.extended.0.z8f3j9cm.jplace\n",
      "[18:10:42] jobs.py (line 131):     INFO: Finished pplacer Job with input: backbone_alignment_file:/tmp/sepp/output.svl2zd1i/root/P_13/pplacer.backbone._foyqhb6.fasta, tree_file:/tmp/sepp/output.svl2zd1i/root/P_13/pplacer.tree.3j6pj9px.tre, info_file:/home/lauro/anaconda3/envs/qiime2-2021.11/lib/python3.8/site-packages/picrust2/default_files/prokaryotic/pro_ref/pro_ref.raxml_info, extended alignment:/tmp/sepp/output.svl2zd1i/root/P_13/pplacer.extended.0.papnpbc_.fasta, output:/tmp/sepp/output.svl2zd1i/root/P_13/pplacer.extended.0.papnpbc_.jplace\n",
      "[18:10:43] jobs.py (line 131):     INFO: Finished pplacer Job with input: backbone_alignment_file:/tmp/sepp/output.svl2zd1i/root/P_12/pplacer.backbone.qi0xclov.fasta, tree_file:/tmp/sepp/output.svl2zd1i/root/P_12/pplacer.tree.whpvu8am.tre, info_file:/home/lauro/anaconda3/envs/qiime2-2021.11/lib/python3.8/site-packages/picrust2/default_files/prokaryotic/pro_ref/pro_ref.raxml_info, extended alignment:/tmp/sepp/output.svl2zd1i/root/P_12/pplacer.extended.1.dvd25yo4.fasta, output:/tmp/sepp/output.svl2zd1i/root/P_12/pplacer.extended.1.dvd25yo4.jplace\n",
      "[18:10:46] jobs.py (line 131):     INFO: Finished pplacer Job with input: backbone_alignment_file:/tmp/sepp/output.svl2zd1i/root/P_14/pplacer.backbone.s8f7u3az.fasta, tree_file:/tmp/sepp/output.svl2zd1i/root/P_14/pplacer.tree.oq0fw70o.tre, info_file:/home/lauro/anaconda3/envs/qiime2-2021.11/lib/python3.8/site-packages/picrust2/default_files/prokaryotic/pro_ref/pro_ref.raxml_info, extended alignment:/tmp/sepp/output.svl2zd1i/root/P_14/pplacer.extended.1.oboq71f4.fasta, output:/tmp/sepp/output.svl2zd1i/root/P_14/pplacer.extended.1.oboq71f4.jplace\n",
      "[18:10:46] jobs.py (line 131):     INFO: Finished pplacer Job with input: backbone_alignment_file:/tmp/sepp/output.svl2zd1i/root/P_12/pplacer.backbone.k902ugn0.fasta, tree_file:/tmp/sepp/output.svl2zd1i/root/P_12/pplacer.tree.kfjj9phg.tre, info_file:/home/lauro/anaconda3/envs/qiime2-2021.11/lib/python3.8/site-packages/picrust2/default_files/prokaryotic/pro_ref/pro_ref.raxml_info, extended alignment:/tmp/sepp/output.svl2zd1i/root/P_12/pplacer.extended.2.k78kygdm.fasta, output:/tmp/sepp/output.svl2zd1i/root/P_12/pplacer.extended.2.k78kygdm.jplace\n",
      "[18:10:46] jobs.py (line 131):     INFO: Finished pplacer Job with input: backbone_alignment_file:/tmp/sepp/output.svl2zd1i/root/P_13/pplacer.backbone.ahzypb6h.fasta, tree_file:/tmp/sepp/output.svl2zd1i/root/P_13/pplacer.tree.7bu_q36o.tre, info_file:/home/lauro/anaconda3/envs/qiime2-2021.11/lib/python3.8/site-packages/picrust2/default_files/prokaryotic/pro_ref/pro_ref.raxml_info, extended alignment:/tmp/sepp/output.svl2zd1i/root/P_13/pplacer.extended.1.77mtoqq1.fasta, output:/tmp/sepp/output.svl2zd1i/root/P_13/pplacer.extended.1.77mtoqq1.jplace\n",
      "[18:10:46] jobs.py (line 131):     INFO: Finished pplacer Job with input: backbone_alignment_file:/tmp/sepp/output.svl2zd1i/root/P_14/pplacer.backbone.79qhm_cv.fasta, tree_file:/tmp/sepp/output.svl2zd1i/root/P_14/pplacer.tree._ycs6gar.tre, info_file:/home/lauro/anaconda3/envs/qiime2-2021.11/lib/python3.8/site-packages/picrust2/default_files/prokaryotic/pro_ref/pro_ref.raxml_info, extended alignment:/tmp/sepp/output.svl2zd1i/root/P_14/pplacer.extended.2.o5q1d96u.fasta, output:/tmp/sepp/output.svl2zd1i/root/P_14/pplacer.extended.2.o5q1d96u.jplace\n",
      "[18:10:47] jobs.py (line 131):     INFO: Finished pplacer Job with input: backbone_alignment_file:/tmp/sepp/output.svl2zd1i/root/P_14/pplacer.backbone.d6g1kqey.fasta, tree_file:/tmp/sepp/output.svl2zd1i/root/P_14/pplacer.tree.454y1wmv.tre, info_file:/home/lauro/anaconda3/envs/qiime2-2021.11/lib/python3.8/site-packages/picrust2/default_files/prokaryotic/pro_ref/pro_ref.raxml_info, extended alignment:/tmp/sepp/output.svl2zd1i/root/P_14/pplacer.extended.0.a0zfpqrt.fasta, output:/tmp/sepp/output.svl2zd1i/root/P_14/pplacer.extended.0.a0zfpqrt.jplace\n",
      "[18:10:50] jobs.py (line 131):     INFO: Finished pplacer Job with input: backbone_alignment_file:/tmp/sepp/output.svl2zd1i/root/P_13/pplacer.backbone.2oj01hqv.fasta, tree_file:/tmp/sepp/output.svl2zd1i/root/P_13/pplacer.tree.zp55zkoq.tre, info_file:/home/lauro/anaconda3/envs/qiime2-2021.11/lib/python3.8/site-packages/picrust2/default_files/prokaryotic/pro_ref/pro_ref.raxml_info, extended alignment:/tmp/sepp/output.svl2zd1i/root/P_13/pplacer.extended.2.wn0oei6u.fasta, output:/tmp/sepp/output.svl2zd1i/root/P_13/pplacer.extended.2.wn0oei6u.jplace\n",
      "[18:11:24] jobs.py (line 131):     INFO: Finished pplacer Job with input: backbone_alignment_file:/tmp/sepp/output.svl2zd1i/root/P_11/pplacer.backbone.2lvyqc4w.fasta, tree_file:/tmp/sepp/output.svl2zd1i/root/P_11/pplacer.tree.enz6d9b4.tre, info_file:/home/lauro/anaconda3/envs/qiime2-2021.11/lib/python3.8/site-packages/picrust2/default_files/prokaryotic/pro_ref/pro_ref.raxml_info, extended alignment:/tmp/sepp/output.svl2zd1i/root/P_11/pplacer.extended.0.u5t4vfii.fasta, output:/tmp/sepp/output.svl2zd1i/root/P_11/pplacer.extended.0.u5t4vfii.jplace\n",
      "[18:11:25] jobs.py (line 131):     INFO: Finished pplacer Job with input: backbone_alignment_file:/tmp/sepp/output.svl2zd1i/root/P_11/pplacer.backbone.s_u6sdtt.fasta, tree_file:/tmp/sepp/output.svl2zd1i/root/P_11/pplacer.tree._1kd_btp.tre, info_file:/home/lauro/anaconda3/envs/qiime2-2021.11/lib/python3.8/site-packages/picrust2/default_files/prokaryotic/pro_ref/pro_ref.raxml_info, extended alignment:/tmp/sepp/output.svl2zd1i/root/P_11/pplacer.extended.2.lyosztz4.fasta, output:/tmp/sepp/output.svl2zd1i/root/P_11/pplacer.extended.2.lyosztz4.jplace\n",
      "[18:11:26] jobs.py (line 131):     INFO: Finished pplacer Job with input: backbone_alignment_file:/tmp/sepp/output.svl2zd1i/root/P_11/pplacer.backbone.ratau23p.fasta, tree_file:/tmp/sepp/output.svl2zd1i/root/P_11/pplacer.tree.b6h9pueg.tre, info_file:/home/lauro/anaconda3/envs/qiime2-2021.11/lib/python3.8/site-packages/picrust2/default_files/prokaryotic/pro_ref/pro_ref.raxml_info, extended alignment:/tmp/sepp/output.svl2zd1i/root/P_11/pplacer.extended.1.x_b7np_t.fasta, output:/tmp/sepp/output.svl2zd1i/root/P_11/pplacer.extended.1.x_b7np_t.jplace\n",
      "[18:11:36] jobs.py (line 131):     INFO: Finished jsonmerger Job with input: input:pipe output:/tmp/tmp39tjz40a/picrust2_out/intermediate/place_seqs/sepp_out/output_placement.json\n",
      "[18:11:36] algorithm.py (line 195):     INFO: Current execution Finished in 151 seconds\n",
      "[18:11:36] algorithm.py (line 197):     INFO: All checkpointed executions Finished in 151 cumulative time\n",
      "\n",
      "gappa examine graft --jplace-path /tmp/tmp39tjz40a/picrust2_out/intermediate/place_seqs/sepp_out/output_placement.json --fully-resolve --out-dir /tmp/tmp39tjz40a/picrust2_out/intermediate/place_seqs/sepp_out\n",
      "\n",
      "mv /tmp/tmp39tjz40a/picrust2_out/intermediate/place_seqs/sepp_out/output_placement.newick /tmp/tmp39tjz40a/picrust2_out/out.tre\n",
      "\n",
      "Finished placing sequences on output tree: /tmp/tmp39tjz40a/picrust2_out/out.tre\n",
      "hsp.py --tree /tmp/tmp39tjz40a/picrust2_out/out.tre --output /tmp/tmp39tjz40a/picrust2_out/marker_predicted_and_nsti.tsv.gz --observed_trait_table /home/lauro/anaconda3/envs/qiime2-2021.11/lib/python3.8/site-packages/picrust2/default_files/prokaryotic/16S.txt.gz --hsp_method pic --edge_exponent 0.5 --seed 100 --calculate_NSTI --processes 1 --verbose\n"
     ]
    },
    {
     "name": "stdout",
     "output_type": "stream",
     "text": [
      "\n",
      "\n",
      "\n"
     ]
    },
    {
     "name": "stderr",
     "output_type": "stream",
     "text": [
      "Rscript /home/lauro/anaconda3/envs/qiime2-2021.11/lib/python3.8/site-packages/picrust2/Rscripts/castor_nsti.R /tmp/tmp39tjz40a/picrust2_out/out.tre /tmp/tmp5za8bir2/known_tips.txt /tmp/tmp5za8bir2/nsti_out.txt\n",
      "\n",
      "Rscript /home/lauro/anaconda3/envs/qiime2-2021.11/lib/python3.8/site-packages/picrust2/Rscripts/castor_hsp.R /tmp/tmp39tjz40a/picrust2_out/out.tre /tmp/tmpptx_31b3/subset_tab_0 pic 0.5 FALSE FALSE /tmp/tmphxpji_r5/predicted_counts.txt /tmp/tmphxpji_r5/predicted_ci.txt 100\n",
      "\n",
      "\n",
      "hsp.py --tree /tmp/tmp39tjz40a/picrust2_out/out.tre --output /tmp/tmp39tjz40a/picrust2_out/EC_predicted.tsv.gz --observed_trait_table /home/lauro/anaconda3/envs/qiime2-2021.11/lib/python3.8/site-packages/picrust2/default_files/prokaryotic/ec.txt.gz --hsp_method pic --edge_exponent 0.5 --seed 100 --processes 6 --verbose\n"
     ]
    },
    {
     "name": "stdout",
     "output_type": "stream",
     "text": [
      "\n",
      "\n",
      "\n",
      "\n",
      "\n",
      "\n",
      "\n"
     ]
    },
    {
     "name": "stderr",
     "output_type": "stream",
     "text": [
      "Rscript /home/lauro/anaconda3/envs/qiime2-2021.11/lib/python3.8/site-packages/picrust2/Rscripts/castor_hsp.R /tmp/tmp39tjz40a/picrust2_out/out.tre /tmp/tmph6ckvq5f/subset_tab_2 pic 0.5 FALSE FALSE /tmp/tmp2dekg4nm/predicted_counts.txt /tmp/tmp2dekg4nm/predicted_ci.txt 100\n",
      "\n",
      "Rscript /home/lauro/anaconda3/envs/qiime2-2021.11/lib/python3.8/site-packages/picrust2/Rscripts/castor_hsp.R /tmp/tmp39tjz40a/picrust2_out/out.tre /tmp/tmph6ckvq5f/subset_tab_1 pic 0.5 FALSE FALSE /tmp/tmpji77zm_l/predicted_counts.txt /tmp/tmpji77zm_l/predicted_ci.txt 100\n",
      "\n",
      "Rscript /home/lauro/anaconda3/envs/qiime2-2021.11/lib/python3.8/site-packages/picrust2/Rscripts/castor_hsp.R /tmp/tmp39tjz40a/picrust2_out/out.tre /tmp/tmph6ckvq5f/subset_tab_0 pic 0.5 FALSE FALSE /tmp/tmpcqfslcy1/predicted_counts.txt /tmp/tmpcqfslcy1/predicted_ci.txt 100\n",
      "\n",
      "Rscript /home/lauro/anaconda3/envs/qiime2-2021.11/lib/python3.8/site-packages/picrust2/Rscripts/castor_hsp.R /tmp/tmp39tjz40a/picrust2_out/out.tre /tmp/tmph6ckvq5f/subset_tab_5 pic 0.5 FALSE FALSE /tmp/tmpscvfhb17/predicted_counts.txt /tmp/tmpscvfhb17/predicted_ci.txt 100\n",
      "\n",
      "Rscript /home/lauro/anaconda3/envs/qiime2-2021.11/lib/python3.8/site-packages/picrust2/Rscripts/castor_hsp.R /tmp/tmp39tjz40a/picrust2_out/out.tre /tmp/tmph6ckvq5f/subset_tab_3 pic 0.5 FALSE FALSE /tmp/tmpisa88g84/predicted_counts.txt /tmp/tmpisa88g84/predicted_ci.txt 100\n",
      "\n",
      "Rscript /home/lauro/anaconda3/envs/qiime2-2021.11/lib/python3.8/site-packages/picrust2/Rscripts/castor_hsp.R /tmp/tmp39tjz40a/picrust2_out/out.tre /tmp/tmph6ckvq5f/subset_tab_4 pic 0.5 FALSE FALSE /tmp/tmpwwu315w3/predicted_counts.txt /tmp/tmpwwu315w3/predicted_ci.txt 100\n",
      "\n",
      "\n",
      "hsp.py --tree /tmp/tmp39tjz40a/picrust2_out/out.tre --output /tmp/tmp39tjz40a/picrust2_out/KO_predicted.tsv.gz --observed_trait_table /home/lauro/anaconda3/envs/qiime2-2021.11/lib/python3.8/site-packages/picrust2/default_files/prokaryotic/ko.txt.gz --hsp_method pic --edge_exponent 0.5 --seed 100 --processes 6 --verbose\n"
     ]
    },
    {
     "name": "stdout",
     "output_type": "stream",
     "text": [
      "\n",
      "\n",
      "\n",
      "\n",
      "\n",
      "\n",
      "\n",
      "\n",
      "\n",
      "\n",
      "\n",
      "\n",
      "\n",
      "\n",
      "\n",
      "\n",
      "\n",
      "\n",
      "\n",
      "\n",
      "\n",
      "\n",
      "\n"
     ]
    },
    {
     "name": "stderr",
     "output_type": "stream",
     "text": [
      "Rscript /home/lauro/anaconda3/envs/qiime2-2021.11/lib/python3.8/site-packages/picrust2/Rscripts/castor_hsp.R /tmp/tmp39tjz40a/picrust2_out/out.tre /tmp/tmpp7vcu1zt/subset_tab_1 pic 0.5 FALSE FALSE /tmp/tmp6smqrs_7/predicted_counts.txt /tmp/tmp6smqrs_7/predicted_ci.txt 100\n",
      "\n",
      "Rscript /home/lauro/anaconda3/envs/qiime2-2021.11/lib/python3.8/site-packages/picrust2/Rscripts/castor_hsp.R /tmp/tmp39tjz40a/picrust2_out/out.tre /tmp/tmpp7vcu1zt/subset_tab_10 pic 0.5 FALSE FALSE /tmp/tmp0d1b0gpx/predicted_counts.txt /tmp/tmp0d1b0gpx/predicted_ci.txt 100\n",
      "\n",
      "Rscript /home/lauro/anaconda3/envs/qiime2-2021.11/lib/python3.8/site-packages/picrust2/Rscripts/castor_hsp.R /tmp/tmp39tjz40a/picrust2_out/out.tre /tmp/tmpp7vcu1zt/subset_tab_16 pic 0.5 FALSE FALSE /tmp/tmp9mgejdw7/predicted_counts.txt /tmp/tmp9mgejdw7/predicted_ci.txt 100\n",
      "\n",
      "Rscript /home/lauro/anaconda3/envs/qiime2-2021.11/lib/python3.8/site-packages/picrust2/Rscripts/castor_hsp.R /tmp/tmp39tjz40a/picrust2_out/out.tre /tmp/tmpp7vcu1zt/subset_tab_2 pic 0.5 FALSE FALSE /tmp/tmpj3ap6sx8/predicted_counts.txt /tmp/tmpj3ap6sx8/predicted_ci.txt 100\n",
      "\n",
      "Rscript /home/lauro/anaconda3/envs/qiime2-2021.11/lib/python3.8/site-packages/picrust2/Rscripts/castor_hsp.R /tmp/tmp39tjz40a/picrust2_out/out.tre /tmp/tmpp7vcu1zt/subset_tab_8 pic 0.5 FALSE FALSE /tmp/tmpqjwd1do1/predicted_counts.txt /tmp/tmpqjwd1do1/predicted_ci.txt 100\n",
      "\n",
      "Rscript /home/lauro/anaconda3/envs/qiime2-2021.11/lib/python3.8/site-packages/picrust2/Rscripts/castor_hsp.R /tmp/tmp39tjz40a/picrust2_out/out.tre /tmp/tmpp7vcu1zt/subset_tab_15 pic 0.5 FALSE FALSE /tmp/tmpezd7c8kr/predicted_counts.txt /tmp/tmpezd7c8kr/predicted_ci.txt 100\n",
      "\n",
      "Rscript /home/lauro/anaconda3/envs/qiime2-2021.11/lib/python3.8/site-packages/picrust2/Rscripts/castor_hsp.R /tmp/tmp39tjz40a/picrust2_out/out.tre /tmp/tmpp7vcu1zt/subset_tab_21 pic 0.5 FALSE FALSE /tmp/tmp4c394e2y/predicted_counts.txt /tmp/tmp4c394e2y/predicted_ci.txt 100\n",
      "\n",
      "Rscript /home/lauro/anaconda3/envs/qiime2-2021.11/lib/python3.8/site-packages/picrust2/Rscripts/castor_hsp.R /tmp/tmp39tjz40a/picrust2_out/out.tre /tmp/tmpp7vcu1zt/subset_tab_3 pic 0.5 FALSE FALSE /tmp/tmphb9_vwpn/predicted_counts.txt /tmp/tmphb9_vwpn/predicted_ci.txt 100\n",
      "\n",
      "Rscript /home/lauro/anaconda3/envs/qiime2-2021.11/lib/python3.8/site-packages/picrust2/Rscripts/castor_hsp.R /tmp/tmp39tjz40a/picrust2_out/out.tre /tmp/tmpp7vcu1zt/subset_tab_11 pic 0.5 FALSE FALSE /tmp/tmpiops8gd7/predicted_counts.txt /tmp/tmpiops8gd7/predicted_ci.txt 100\n",
      "\n",
      "Rscript /home/lauro/anaconda3/envs/qiime2-2021.11/lib/python3.8/site-packages/picrust2/Rscripts/castor_hsp.R /tmp/tmp39tjz40a/picrust2_out/out.tre /tmp/tmpp7vcu1zt/subset_tab_17 pic 0.5 FALSE FALSE /tmp/tmpm6rxhpki/predicted_counts.txt /tmp/tmpm6rxhpki/predicted_ci.txt 100\n",
      "\n",
      "Rscript /home/lauro/anaconda3/envs/qiime2-2021.11/lib/python3.8/site-packages/picrust2/Rscripts/castor_hsp.R /tmp/tmp39tjz40a/picrust2_out/out.tre /tmp/tmpp7vcu1zt/subset_tab_5 pic 0.5 FALSE FALSE /tmp/tmpndtudlqt/predicted_counts.txt /tmp/tmpndtudlqt/predicted_ci.txt 100\n",
      "\n",
      "Rscript /home/lauro/anaconda3/envs/qiime2-2021.11/lib/python3.8/site-packages/picrust2/Rscripts/castor_hsp.R /tmp/tmp39tjz40a/picrust2_out/out.tre /tmp/tmpp7vcu1zt/subset_tab_7 pic 0.5 FALSE FALSE /tmp/tmp3eq0bodz/predicted_counts.txt /tmp/tmp3eq0bodz/predicted_ci.txt 100\n",
      "\n",
      "Rscript /home/lauro/anaconda3/envs/qiime2-2021.11/lib/python3.8/site-packages/picrust2/Rscripts/castor_hsp.R /tmp/tmp39tjz40a/picrust2_out/out.tre /tmp/tmpp7vcu1zt/subset_tab_13 pic 0.5 FALSE FALSE /tmp/tmpuqras_zc/predicted_counts.txt /tmp/tmpuqras_zc/predicted_ci.txt 100\n",
      "\n",
      "Rscript /home/lauro/anaconda3/envs/qiime2-2021.11/lib/python3.8/site-packages/picrust2/Rscripts/castor_hsp.R /tmp/tmp39tjz40a/picrust2_out/out.tre /tmp/tmpp7vcu1zt/subset_tab_18 pic 0.5 FALSE FALSE /tmp/tmp92aaa3ty/predicted_counts.txt /tmp/tmp92aaa3ty/predicted_ci.txt 100\n",
      "\n",
      "Rscript /home/lauro/anaconda3/envs/qiime2-2021.11/lib/python3.8/site-packages/picrust2/Rscripts/castor_hsp.R /tmp/tmp39tjz40a/picrust2_out/out.tre /tmp/tmpp7vcu1zt/subset_tab_0 pic 0.5 FALSE FALSE /tmp/tmpyjxoad1l/predicted_counts.txt /tmp/tmpyjxoad1l/predicted_ci.txt 100\n",
      "\n",
      "Rscript /home/lauro/anaconda3/envs/qiime2-2021.11/lib/python3.8/site-packages/picrust2/Rscripts/castor_hsp.R /tmp/tmp39tjz40a/picrust2_out/out.tre /tmp/tmpp7vcu1zt/subset_tab_6 pic 0.5 FALSE FALSE /tmp/tmp0epij1oh/predicted_counts.txt /tmp/tmp0epij1oh/predicted_ci.txt 100\n",
      "\n",
      "Rscript /home/lauro/anaconda3/envs/qiime2-2021.11/lib/python3.8/site-packages/picrust2/Rscripts/castor_hsp.R /tmp/tmp39tjz40a/picrust2_out/out.tre /tmp/tmpp7vcu1zt/subset_tab_12 pic 0.5 FALSE FALSE /tmp/tmp1ww_ri8h/predicted_counts.txt /tmp/tmp1ww_ri8h/predicted_ci.txt 100\n",
      "\n",
      "Rscript /home/lauro/anaconda3/envs/qiime2-2021.11/lib/python3.8/site-packages/picrust2/Rscripts/castor_hsp.R /tmp/tmp39tjz40a/picrust2_out/out.tre /tmp/tmpp7vcu1zt/subset_tab_19 pic 0.5 FALSE FALSE /tmp/tmppm4otq5i/predicted_counts.txt /tmp/tmppm4otq5i/predicted_ci.txt 100\n",
      "\n",
      "Rscript /home/lauro/anaconda3/envs/qiime2-2021.11/lib/python3.8/site-packages/picrust2/Rscripts/castor_hsp.R /tmp/tmp39tjz40a/picrust2_out/out.tre /tmp/tmpp7vcu1zt/subset_tab_4 pic 0.5 FALSE FALSE /tmp/tmpycvbmdc4/predicted_counts.txt /tmp/tmpycvbmdc4/predicted_ci.txt 100\n",
      "\n",
      "Rscript /home/lauro/anaconda3/envs/qiime2-2021.11/lib/python3.8/site-packages/picrust2/Rscripts/castor_hsp.R /tmp/tmp39tjz40a/picrust2_out/out.tre /tmp/tmpp7vcu1zt/subset_tab_9 pic 0.5 FALSE FALSE /tmp/tmprf_1x82e/predicted_counts.txt /tmp/tmprf_1x82e/predicted_ci.txt 100\n",
      "\n",
      "Rscript /home/lauro/anaconda3/envs/qiime2-2021.11/lib/python3.8/site-packages/picrust2/Rscripts/castor_hsp.R /tmp/tmp39tjz40a/picrust2_out/out.tre /tmp/tmpp7vcu1zt/subset_tab_14 pic 0.5 FALSE FALSE /tmp/tmpa2l4egan/predicted_counts.txt /tmp/tmpa2l4egan/predicted_ci.txt 100\n",
      "\n",
      "Rscript /home/lauro/anaconda3/envs/qiime2-2021.11/lib/python3.8/site-packages/picrust2/Rscripts/castor_hsp.R /tmp/tmp39tjz40a/picrust2_out/out.tre /tmp/tmpp7vcu1zt/subset_tab_20 pic 0.5 FALSE FALSE /tmp/tmp9dnwok5y/predicted_counts.txt /tmp/tmp9dnwok5y/predicted_ci.txt 100\n",
      "\n",
      "\n",
      "Running metagenome pipeline for EC\n",
      "metagenome_pipeline.py --input /tmp/tmp39tjz40a/intable.biom --function /tmp/tmp39tjz40a/picrust2_out/EC_predicted.tsv.gz --min_reads 1 --min_samples 1 --out_dir /tmp/tmp39tjz40a/picrust2_out/EC_metagenome_out --max_nsti 2 --marker /tmp/tmp39tjz40a/picrust2_out/marker_predicted_and_nsti.tsv.gz\n"
     ]
    },
    {
     "name": "stdout",
     "output_type": "stream",
     "text": [
      "\n"
     ]
    },
    {
     "name": "stderr",
     "output_type": "stream",
     "text": [
      "All ASVs were below the max NSTI cut-off of 2.0 and so all were retained for downstream analyses.\n",
      "\n",
      "Running metagenome pipeline for KO\n",
      "metagenome_pipeline.py --input /tmp/tmp39tjz40a/intable.biom --function /tmp/tmp39tjz40a/picrust2_out/KO_predicted.tsv.gz --min_reads 1 --min_samples 1 --out_dir /tmp/tmp39tjz40a/picrust2_out/KO_metagenome_out --max_nsti 2 --marker /tmp/tmp39tjz40a/picrust2_out/marker_predicted_and_nsti.tsv.gz\n"
     ]
    },
    {
     "name": "stdout",
     "output_type": "stream",
     "text": [
      "\n",
      "Inferring pathways from predicted EC\n"
     ]
    },
    {
     "name": "stderr",
     "output_type": "stream",
     "text": [
      "All ASVs were below the max NSTI cut-off of 2.0 and so all were retained for downstream analyses.\n",
      "\n",
      "pathway_pipeline.py --input /tmp/tmp39tjz40a/picrust2_out/EC_metagenome_out/pred_metagenome_unstrat.tsv.gz --out_dir /tmp/tmp39tjz40a/picrust2_out/pathways_out --map /home/lauro/anaconda3/envs/qiime2-2021.11/lib/python3.8/site-packages/picrust2/default_files/pathway_mapfiles/metacyc_path2rxn_struc_filt_pro.txt --intermediate /tmp/tmp39tjz40a/picrust2_out/intermediate/pathways --proc 6 --regroup_map /home/lauro/anaconda3/envs/qiime2-2021.11/lib/python3.8/site-packages/picrust2/default_files/pathway_mapfiles/ec_level4_to_metacyc_rxn.tsv --verbose\n"
     ]
    },
    {
     "name": "stderr",
     "output_type": "stream",
     "text": [
      "\n",
      "Wrote predicted pathway abundances and coverages to /tmp/tmp39tjz40a/picrust2_out/pathways_out\n"
     ]
    }
   ],
   "source": [
    "need_pipeline = replace_files\n",
    "need_pipeline |= not (os.path.isfile(ec_path) and os.path.isfile(ko_path) and os.path.isfile(pathway_path))\n",
    "if need_pipeline:\n",
    "    results = picrust2.methods.full_pipeline(\n",
    "        table=tabs, \n",
    "        seq=seqs, \n",
    "        threads=6, \n",
    "        placement_tool='sepp',\n",
    "        hsp_method='pic', \n",
    "        max_nsti=2,\n",
    "        highly_verbose=True\n",
    "    )\n",
    "    ec_metagenome = results.ec_metagenome\n",
    "    ko_metagenome = results.ko_metagenome\n",
    "    pathway_abundance = results.pathway_abundance\n",
    "else:\n",
    "    ec_metagenome = Artifact.load(ec_path)\n",
    "    ko_metagenome = Artifact.load(ko_path)\n",
    "    pathway_abundance = Artifact.load(pathway_path)"
   ]
  },
  {
   "cell_type": "markdown",
   "id": "771308c4",
   "metadata": {
    "papermill": {
     "duration": 0.054183,
     "end_time": "2023-09-04T18:15:41.090643",
     "exception": false,
     "start_time": "2023-09-04T18:15:41.036460",
     "status": "completed"
    },
    "tags": []
   },
   "source": [
    "### Persist created artifacts\n",
    "\n",
    "We will define file paths and persist all artifacts. We start with `.qza` files. We will save the visualization files in sequence as `qzv` files. Finally, we save a `biom`-like file as `tsv` with brief descriptions of all functions."
   ]
  },
  {
   "cell_type": "code",
   "execution_count": 10,
   "id": "c680ab46",
   "metadata": {
    "ExecuteTime": {
     "end_time": "2022-11-09T19:20:47.646444Z",
     "start_time": "2022-11-09T19:20:47.643806Z"
    },
    "execution": {
     "iopub.execute_input": "2023-09-04T18:15:41.253917Z",
     "iopub.status.busy": "2023-09-04T18:15:41.252728Z",
     "iopub.status.idle": "2023-09-04T18:15:41.386501Z",
     "shell.execute_reply": "2023-09-04T18:15:41.387310Z"
    },
    "papermill": {
     "duration": 0.221119,
     "end_time": "2023-09-04T18:15:41.387575",
     "exception": false,
     "start_time": "2023-09-04T18:15:41.166456",
     "status": "completed"
    },
    "tags": []
   },
   "outputs": [],
   "source": [
    "if need_pipeline:\n",
    "    # Export artifact folder\n",
    "    ec_metagenome.export_data(output_dir=ec_path.split('.')[0])\n",
    "    ko_metagenome.export_data(output_dir=ko_path.split('.')[0])\n",
    "    pathway_abundance.export_data(output_dir=pathway_path.split('.')[0])\n",
    "    \n",
    "    # Save artifacts as .qza files\n",
    "    ec_metagenome.save(ec_path)\n",
    "    ko_metagenome.save(ko_path)\n",
    "    pathway_abundance.save(pathway_path)"
   ]
  },
  {
   "cell_type": "code",
   "execution_count": 11,
   "id": "d61ebec3",
   "metadata": {
    "ExecuteTime": {
     "end_time": "2022-11-09T19:20:47.687022Z",
     "start_time": "2022-11-09T19:20:47.647637Z"
    },
    "execution": {
     "iopub.execute_input": "2023-09-04T18:15:41.474858Z",
     "iopub.status.busy": "2023-09-04T18:15:41.474420Z",
     "iopub.status.idle": "2023-09-04T18:15:45.766631Z",
     "shell.execute_reply": "2023-09-04T18:15:45.765607Z"
    },
    "papermill": {
     "duration": 4.33383,
     "end_time": "2023-09-04T18:15:45.766857",
     "exception": false,
     "start_time": "2023-09-04T18:15:41.433027",
     "status": "completed"
    },
    "tags": []
   },
   "outputs": [],
   "source": [
    "need_viz = replace_files\n",
    "need_viz |= not (os.path.isfile(ec_viz_path) and os.path.isfile(ko_viz_path) and os.path.isfile(pathway_viz_path))\n",
    "if need_viz:\n",
    "    # Create visualization artifacts\n",
    "    ec_viz = summarize(table=ec_metagenome, sample_metadata=metadata_qa).visualization\n",
    "    ko_viz = summarize(table=ko_metagenome, sample_metadata=metadata_qa).visualization\n",
    "    path_viz = summarize(table=pathway_abundance, sample_metadata=metadata_qa).visualization\n",
    "\n",
    "    # Save visualization artifacts as .qzv files\n",
    "    ec_viz.save(ec_viz_path)\n",
    "    ko_viz.save(ko_viz_path)\n",
    "    path_viz.save(pathway_viz_path)"
   ]
  },
  {
   "cell_type": "code",
   "execution_count": 12,
   "id": "57f1f4d8",
   "metadata": {
    "ExecuteTime": {
     "end_time": "2022-11-09T19:20:47.704885Z",
     "start_time": "2022-11-09T19:20:47.689312Z"
    },
    "execution": {
     "iopub.execute_input": "2023-09-04T18:15:45.872767Z",
     "iopub.status.busy": "2023-09-04T18:15:45.872156Z",
     "iopub.status.idle": "2023-09-04T18:15:48.724165Z",
     "shell.execute_reply": "2023-09-04T18:15:48.724851Z"
    },
    "papermill": {
     "duration": 2.908618,
     "end_time": "2023-09-04T18:15:48.725104",
     "exception": false,
     "start_time": "2023-09-04T18:15:45.816486",
     "status": "completed"
    },
    "tags": []
   },
   "outputs": [],
   "source": [
    "need_biom = replace_files\n",
    "need_biom |= not (os.path.isfile(ec_fpath) and os.path.isfile(ko_fpath) and os.path.isfile(pathway_fpath))\n",
    "if need_biom:\n",
    "    # Convert artifact to dataframe - transposed\n",
    "    df_pathway = pathway_abundance.view(pd.DataFrame).T\n",
    "    df_ec = ec_metagenome.view(pd.DataFrame).T\n",
    "    df_ko = ko_metagenome.view(pd.DataFrame).T\n",
    "\n",
    "    # Write dataframe to a tsv file\n",
    "    df_pathway.to_csv(pathway_fpath, sep='\\t', index=True)\n",
    "    df_ec.to_csv(ec_fpath, sep='\\t', index=True)\n",
    "    df_ko.to_csv(ko_fpath, sep='\\t', index=True)\n",
    "    \n",
    "    # Put a new column with descriptions of each function's ID\n",
    "    !add_descriptions.py -i {ec_fpath} -m EC -o {ec_desc_fpath}\n",
    "    !add_descriptions.py -i {ko_fpath} -m KO -o {ko_desc_fpath}\n",
    "    !add_descriptions.py -i {pathway_fpath} -m METACYC -o {pathway_desc_fpath}"
   ]
  }
 ],
 "metadata": {
  "celltoolbar": "Edit Metadata",
  "kernelspec": {
   "display_name": "Python 3 (ipykernel)",
   "language": "python",
   "name": "python3"
  },
  "language_info": {
   "codemirror_mode": {
    "name": "ipython",
    "version": 3
   },
   "file_extension": ".py",
   "mimetype": "text/x-python",
   "name": "python",
   "nbconvert_exporter": "python",
   "pygments_lexer": "ipython3",
   "version": "3.8.12"
  },
  "papermill": {
   "default_parameters": {},
   "duration": 459.940153,
   "end_time": "2023-09-04T18:15:49.890659",
   "environment_variables": {},
   "exception": null,
   "input_path": "nb-templates/step-picrust2-analysis.ipynb",
   "output_path": "/home/lauro/nupeb/rede-micro/redemicro-ana-flavia-nutri/experiments/ana-flavia-STD-NCxHSD-NC-trim/nb-executed-steps/step-picrust2-analysis-ana-flavia-STD-NCxHSD-NC-trim.ipynb",
   "parameters": {
    "base_dir": "/home/lauro/nupeb/rede-micro/redemicro-ana-flavia-nutri",
    "class_col": "group-id",
    "classifier_file": "/home/lauro/nupeb/rede-micro/models/silva-138-99-nb-classifier.qza",
    "experiment_name": "ana-flavia-STD-NCxHSD-NC-trim",
    "manifest_file": "/home/lauro/nupeb/rede-micro/redemicro-ana-flavia-nutri/data/raw/manifest/manifest-ana-flavia-STD-NCxHSD-NC.csv",
    "metadata_file": "/home/lauro/nupeb/rede-micro/redemicro-ana-flavia-nutri/data/raw/metadata/metadata-ana-flavia-STD-NCxHSD-NC.tsv",
    "overlap": 12,
    "replace_files": false,
    "threads": 6,
    "top_n": 20,
    "trim": {
     "forward_primer": "CCTACGGGRSGCAGCAG",
     "overlap": 8,
     "reverse_primer": "GGACTACHVGGGTWTCTAAT"
    },
    "trunc_f": 0,
    "trunc_r": 0
   },
   "start_time": "2023-09-04T18:08:09.950506",
   "version": "2.3.4"
  }
 },
 "nbformat": 4,
 "nbformat_minor": 5
}