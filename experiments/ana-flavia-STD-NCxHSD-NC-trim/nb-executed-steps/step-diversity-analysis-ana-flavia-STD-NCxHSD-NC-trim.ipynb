{
 "cells": [
  {
   "cell_type": "markdown",
   "id": "15bcfa06",
   "metadata": {
    "papermill": {
     "duration": 0.003495,
     "end_time": "2024-03-05T22:31:09.669198",
     "exception": false,
     "start_time": "2024-03-05T22:31:09.665703",
     "status": "completed"
    },
    "tags": []
   },
   "source": [
    " \n",
    "# Alpha and Beta Diversity\n",
    "\n",
    "Different higher-level measures are often used to describe the microbiome in a sample. These do not provide information on changes in the abundance of specific taxa but allow us to access a broader change or difference in the composition of microorganisms. Alpha and beta diversity are examples of such measures.\n",
    "\n",
    "Different measures exist to estimate diversity within a single sample, jointly called alpha diversity. The different measures reflect the richness (number) or distribution (evenness) of a microbial sample or aim to reflect a combination of both properties.\n",
    "\n",
    "Rarefaction curves are often used when calculating alpha diversity indices because increasing numbers of sequenced taxa allow increasingly accurate estimates of total population diversity. Rarefaction curves can therefore be used to estimate the full sample richness, as compared to the observed sample richness.\n",
    "\n",
    "While alpha diversity is a measure of microbiome diversity applicable to a single sample, beta diversity is a measure of the similarity or dissimilarity of two communities. As for alpha diversity, many indices exist, each reflecting different aspects of community heterogeneity. Key differences relate to how the indices value variation in rare species if they consider presence/absence only or incorporate abundance, and how they interpret shared absence. Bray-Curtis dissimilarity is a popular measure that considers both size (overall abundance per sample) and shape (abundance of each taxon) of the communities (Bray, 1957). Beta diversity is an essential measure for many popular statistical methods in ecology, such as ordination-based methods, and is widely used for studying the association between environmental variables and microbial composition.\n",
    "\n",
    "In summary, alpha diversity measures can be seen as a summary statistic of a single population (within-sample diversity), while beta diversity measures are estimates of similarity or dissimilarity between populations (between samples).\n",
    "\n",
    "**Source**: (https://biomcare.com/info/key-terms-in-microbiome-projects/)"
   ]
  },
  {
   "cell_type": "markdown",
   "id": "0e7f2330",
   "metadata": {
    "ExecuteTime": {
     "end_time": "2022-09-22T19:36:33.828188Z",
     "start_time": "2022-09-22T19:36:33.817323Z"
    },
    "papermill": {
     "duration": 0.004942,
     "end_time": "2024-03-05T22:31:09.677165",
     "exception": false,
     "start_time": "2024-03-05T22:31:09.672223",
     "status": "completed"
    },
    "tags": []
   },
   "source": [
    "### STEP : Diversity Analysis\n",
    "\n",
    "Using QIIME2 to create diversity analisys graphs and calculations.\n",
    "\n",
    "- [QIIME2 Workflow Overview](https://docs.qiime2.org/2022.8/tutorials/overview/)\n",
    "\n",
    "\n",
    "#### Methods\n",
    "- [diversity](https://docs.qiime2.org/2022.8/plugins/available/diversity/)\n",
    "- [diversity alpha](https://docs.qiime2.org/2022.8/plugins/available/diversity/alpha/)\n",
    "- [diversity alpha_phylogenetic](https://docs.qiime2.org/2022.8/plugins/available/diversity/alpha-phylogenetic/)\n",
    "- [diversity beta](https://docs.qiime2.org/2022.8/plugins/available/diversity/beta/)\n",
    "- [diversity core_metrics](https://docs.qiime2.org/2022.8/plugins/available/diversity/core-metrics/)\n",
    "- [diversity alpha_group_significance](https://docs.qiime2.org/2022.8/plugins/available/diversity/alpha-group-significance/)\n",
    "- [diversity beta_group_significance](https://docs.qiime2.org/2022.8/plugins/available/diversity/beta-group-significance/)\n",
    "- [feature_table core_features](https://docs.qiime2.org/2022.8/plugins/available/feature-table/core-features/)\n",
    "- [feature_table summarize](https://docs.qiime2.org/2022.8/plugins/available/feature-table/summarize/)\n",
    "- [taxa filter-table](https://docs.qiime2.org/2022.8/plugins/available/taxa/filter-table/)\n",
    "- [taxa collapse](https://docs.qiime2.org/2022.8/plugins/available/taxa/collapse/)"
   ]
  },
  {
   "cell_type": "markdown",
   "id": "843debbf",
   "metadata": {
    "papermill": {
     "duration": 0.002798,
     "end_time": "2024-03-05T22:31:09.682764",
     "exception": false,
     "start_time": "2024-03-05T22:31:09.679966",
     "status": "completed"
    },
    "tags": []
   },
   "source": [
    "## Setup and settings"
   ]
  },
  {
   "cell_type": "code",
   "execution_count": 1,
   "id": "965e28e5",
   "metadata": {
    "ExecuteTime": {
     "end_time": "2022-11-03T20:35:26.198671Z",
     "start_time": "2022-11-03T20:35:06.473173Z"
    },
    "execution": {
     "iopub.execute_input": "2024-03-05T22:31:09.689162Z",
     "iopub.status.busy": "2024-03-05T22:31:09.688976Z",
     "iopub.status.idle": "2024-03-05T22:31:14.971577Z",
     "shell.execute_reply": "2024-03-05T22:31:14.971077Z"
    },
    "papermill": {
     "duration": 5.287267,
     "end_time": "2024-03-05T22:31:14.972790",
     "exception": false,
     "start_time": "2024-03-05T22:31:09.685523",
     "status": "completed"
    },
    "tags": []
   },
   "outputs": [],
   "source": [
    "# Importing packages\n",
    "import os\n",
    "import pandas as pd\n",
    "from qiime2 import Artifact\n",
    "from qiime2 import Visualization\n",
    "from qiime2 import Metadata\n",
    "\n",
    "from qiime2.plugins.phylogeny.pipelines import align_to_tree_mafft_fasttree\n",
    "\n",
    "from qiime2.plugins.diversity.pipelines import alpha\n",
    "from qiime2.plugins.diversity.pipelines import beta\n",
    "from qiime2.plugins.diversity.pipelines import core_metrics\n",
    "from qiime2.plugins.diversity.pipelines import alpha_phylogenetic\n",
    "\n",
    "from qiime2.plugins.diversity.visualizers import alpha_group_significance\n",
    "from qiime2.plugins.diversity.visualizers import beta_group_significance\n",
    "from qiime2.plugins.diversity.visualizers import alpha_correlation\n",
    "from qiime2.plugins.diversity.visualizers import beta_rarefaction\n",
    "\n",
    "from qiime2.plugins.taxa.methods import filter_table\n",
    "from qiime2.plugins.taxa.methods import collapse\n",
    "\n",
    "from qiime2.plugins.feature_table.visualizers import tabulate_seqs\n",
    "from qiime2.plugins.feature_table.visualizers import summarize\n",
    "from qiime2.plugins.feature_table.visualizers import core_features\n",
    "from qiime2.plugins.diversity.pipelines import core_metrics_phylogenetic\n",
    "\n",
    "from qiime2.plugins.feature_table.methods import filter_samples\n",
    "from qiime2.plugins.feature_table.methods import filter_seqs\n",
    "\n",
    "from qiime2.plugins.alignment.methods import mafft\n",
    "\n",
    "\n",
    "import matplotlib.pyplot as plt\n",
    "\n",
    "%matplotlib inline"
   ]
  },
  {
   "cell_type": "markdown",
   "id": "530ceb60",
   "metadata": {
    "papermill": {
     "duration": 0.002923,
     "end_time": "2024-03-05T22:31:14.978824",
     "exception": false,
     "start_time": "2024-03-05T22:31:14.975901",
     "status": "completed"
    },
    "tags": []
   },
   "source": [
    "### Receiving the parameters\n",
    "\n",
    "The following cell can receive parameters using the [papermill](https://papermill.readthedocs.io/en/latest/) tool."
   ]
  },
  {
   "cell_type": "code",
   "execution_count": 2,
   "id": "18d874ea",
   "metadata": {
    "ExecuteTime": {
     "end_time": "2022-09-29T20:54:14.793270Z",
     "start_time": "2022-09-29T20:54:14.789367Z"
    },
    "execution": {
     "iopub.execute_input": "2024-03-05T22:31:14.986842Z",
     "iopub.status.busy": "2024-03-05T22:31:14.986564Z",
     "iopub.status.idle": "2024-03-05T22:31:14.989512Z",
     "shell.execute_reply": "2024-03-05T22:31:14.989166Z"
    },
    "papermill": {
     "duration": 0.008815,
     "end_time": "2024-03-05T22:31:14.990483",
     "exception": false,
     "start_time": "2024-03-05T22:31:14.981668",
     "status": "completed"
    },
    "tags": [
     "parameters"
    ]
   },
   "outputs": [],
   "source": [
    "base_dir = os.path.join('/', 'home')\n",
    "metadata_file = os.path.abspath(os.path.join(base_dir, 'data', 'metadatada.tsv'))\n",
    "experiment_name = ''\n",
    "class_col = ''\n",
    "replace_files = False"
   ]
  },
  {
   "cell_type": "code",
   "execution_count": 3,
   "id": "4995fb8f",
   "metadata": {
    "execution": {
     "iopub.execute_input": "2024-03-05T22:31:14.996864Z",
     "iopub.status.busy": "2024-03-05T22:31:14.996711Z",
     "iopub.status.idle": "2024-03-05T22:31:14.999827Z",
     "shell.execute_reply": "2024-03-05T22:31:14.999417Z"
    },
    "papermill": {
     "duration": 0.007378,
     "end_time": "2024-03-05T22:31:15.000704",
     "exception": false,
     "start_time": "2024-03-05T22:31:14.993326",
     "status": "completed"
    },
    "tags": [
     "injected-parameters"
    ]
   },
   "outputs": [],
   "source": [
    "# Parameters\n",
    "base_dir = \"/mnt/nupeb/rede-micro/redemicro-ana-flavia-nutri\"\n",
    "class_col = \"group-id\"\n",
    "classifier_file = \"/mnt/nupeb/rede-micro/datasets/16S_classifiers_qiime2/silva-138-99-nb-classifier.qza\"\n",
    "experiment_name = \"ana-flavia-STD-NCxHSD-NC-trim\"\n",
    "manifest_file = \"/mnt/nupeb/rede-micro/redemicro-ana-flavia-nutri/data/raw/manifest/manifest-ana-flavia-STD-NCxHSD-NC.csv\"\n",
    "metadata_file = \"/mnt/nupeb/rede-micro/redemicro-ana-flavia-nutri/data/raw/metadata/metadata-ana-flavia-STD-NCxHSD-NC.tsv\"\n",
    "overlap = 12\n",
    "replace_files = False\n",
    "threads = 6\n",
    "top_n = 20\n",
    "trim = {\n",
    "    \"forward_primer\": \"CCTACGGGRSGCAGCAG\",\n",
    "    \"overlap\": 8,\n",
    "    \"reverse_primer\": \"GGACTACHVGGGTWTCTAAT\",\n",
    "}\n",
    "trunc_f = 0\n",
    "trunc_r = 0\n"
   ]
  },
  {
   "cell_type": "code",
   "execution_count": 4,
   "id": "f38617d9",
   "metadata": {
    "ExecuteTime": {
     "end_time": "2022-09-29T20:54:14.804575Z",
     "start_time": "2022-09-29T20:54:14.794927Z"
    },
    "execution": {
     "iopub.execute_input": "2024-03-05T22:31:15.007085Z",
     "iopub.status.busy": "2024-03-05T22:31:15.006932Z",
     "iopub.status.idle": "2024-03-05T22:31:15.009523Z",
     "shell.execute_reply": "2024-03-05T22:31:15.009194Z"
    },
    "papermill": {
     "duration": 0.006846,
     "end_time": "2024-03-05T22:31:15.010424",
     "exception": false,
     "start_time": "2024-03-05T22:31:15.003578",
     "status": "completed"
    },
    "tags": []
   },
   "outputs": [],
   "source": [
    "experiment_folder = os.path.abspath(os.path.join(base_dir, 'experiments', experiment_name))\n",
    "img_folder = os.path.abspath(os.path.join(experiment_folder, 'imgs'))"
   ]
  },
  {
   "cell_type": "markdown",
   "id": "ea9b90fb",
   "metadata": {
    "papermill": {
     "duration": 0.00297,
     "end_time": "2024-03-05T22:31:15.016227",
     "exception": false,
     "start_time": "2024-03-05T22:31:15.013257",
     "status": "completed"
    },
    "tags": []
   },
   "source": [
    "### Defining names, paths and flags"
   ]
  },
  {
   "cell_type": "code",
   "execution_count": 5,
   "id": "45727eef",
   "metadata": {
    "ExecuteTime": {
     "end_time": "2022-09-29T20:54:14.816686Z",
     "start_time": "2022-09-29T20:54:14.806238Z"
    },
    "execution": {
     "iopub.execute_input": "2024-03-05T22:31:15.022889Z",
     "iopub.status.busy": "2024-03-05T22:31:15.022762Z",
     "iopub.status.idle": "2024-03-05T22:31:15.027313Z",
     "shell.execute_reply": "2024-03-05T22:31:15.026894Z"
    },
    "papermill": {
     "duration": 0.008782,
     "end_time": "2024-03-05T22:31:15.028204",
     "exception": false,
     "start_time": "2024-03-05T22:31:15.019422",
     "status": "completed"
    },
    "tags": []
   },
   "outputs": [
    {
     "name": "stdout",
     "output_type": "stream",
     "text": [
      "The new directory is created in /mnt/nupeb/rede-micro/redemicro-ana-flavia-nutri/experiments/ana-flavia-STD-NCxHSD-NC-trim/qiime-artifacts/alpha-analysis\n",
      "The new directory is created in /mnt/nupeb/rede-micro/redemicro-ana-flavia-nutri/experiments/ana-flavia-STD-NCxHSD-NC-trim/qiime-artifacts/beta-analysis\n"
     ]
    }
   ],
   "source": [
    "# QIIME2 Artifacts folder\n",
    "qiime_folder = os.path.join(experiment_folder, 'qiime-artifacts')\n",
    "\n",
    "# Input - DADA2 Artifacts\n",
    "dada2_tabs_path = os.path.join(qiime_folder, 'dada2-tabs.qza')\n",
    "dada2_reps_path = os.path.join(qiime_folder, 'dada2-reps.qza')\n",
    "dada2_stat_path = os.path.join(qiime_folder, 'dada2-stat.qza')\n",
    "\n",
    "# Input - Taxonaomic Artifacts\n",
    "taxonomy_path = os.path.join(qiime_folder, 'metatax.qza')\n",
    "\n",
    "# Create folder to store Alpha files\n",
    "alpha_path = os.path.join(qiime_folder, 'alpha-analysis')\n",
    "if not os.path.exists(alpha_path):\n",
    "    os.makedirs(alpha_path)\n",
    "    print(f'The new directory is created in {alpha_path}')\n",
    "    \n",
    "# Create folder to store Beta files\n",
    "beta_path = os.path.join(qiime_folder, 'beta-analysis')\n",
    "if not os.path.exists(beta_path):\n",
    "    os.makedirs(beta_path)\n",
    "    print(f'The new directory is created in {beta_path}')\n",
    "\n",
    "# Output -Diversity Artifacts\n",
    "alpha_diversity_path = os.path.join(alpha_path, 'alpha-diversity.qza')\n",
    "alpha_diversity_view_path = os.path.join(alpha_path, 'alpha-diversity.qzv')\n",
    "beta_diversity_path = os.path.join(beta_path, 'beta-diversity.qza')\n",
    "beta_diversity_view_path = os.path.join(beta_path, 'beta-diversity.qzv')"
   ]
  },
  {
   "cell_type": "code",
   "execution_count": 6,
   "id": "601ae263",
   "metadata": {
    "ExecuteTime": {
     "end_time": "2022-09-29T20:54:14.829117Z",
     "start_time": "2022-09-29T20:54:14.818272Z"
    },
    "execution": {
     "iopub.execute_input": "2024-03-05T22:31:15.034776Z",
     "iopub.status.busy": "2024-03-05T22:31:15.034652Z",
     "iopub.status.idle": "2024-03-05T22:31:15.038283Z",
     "shell.execute_reply": "2024-03-05T22:31:15.037820Z"
    },
    "papermill": {
     "duration": 0.008015,
     "end_time": "2024-03-05T22:31:15.039192",
     "exception": false,
     "start_time": "2024-03-05T22:31:15.031177",
     "status": "completed"
    },
    "tags": []
   },
   "outputs": [],
   "source": [
    "def filter_and_collapse(tab, seqs, tax, meta, lvl, exclude=True, exclude_list='uncultured,unidentified,metagenome'):\n",
    "    from qiime2.plugins.taxa.methods import collapse\n",
    "    from qiime2.plugins.taxa.methods import filter_table\n",
    "    from qiime2.plugins.feature_table.methods import filter_seqs\n",
    "    from qiime2.plugins.feature_table.visualizers import summarize\n",
    "    \n",
    "    to_include = ('d', 'p', 'c', 'o', 'f', 'g', 's')[lvl-1]\n",
    "    to_include += '__'\n",
    "    to_exclude = exclude_list if exclude else None\n",
    "    \n",
    "    filtered_tabs = filter_table(\n",
    "        table=tab, \n",
    "        taxonomy=tax,\n",
    "        include=to_include,\n",
    "        exclude=to_exclude,\n",
    "        mode='contains').filtered_table\n",
    "    \n",
    "    filtered_seqs = filter_seqs(\n",
    "        data = seqs,\n",
    "        table = filtered_tabs,\n",
    "    ).filtered_data\n",
    "    \n",
    "    collapsed_table = collapse(table=filtered_tabs, taxonomy=tax, level=lvl).collapsed_table\n",
    "    collapsed_table_view = summarize(table=collapsed_table, sample_metadata=meta).visualization\n",
    "    \n",
    "    return collapsed_table, collapsed_table_view, filtered_seqs"
   ]
  },
  {
   "cell_type": "markdown",
   "id": "0999a1b2",
   "metadata": {
    "papermill": {
     "duration": 0.002934,
     "end_time": "2024-03-05T22:31:15.045141",
     "exception": false,
     "start_time": "2024-03-05T22:31:15.042207",
     "status": "completed"
    },
    "tags": []
   },
   "source": [
    "## Step execution\n",
    "\n",
    "### Load input files\n",
    "\n",
    "This Step import the QIIME2 `FeatureTable[Frequency]` Artifact and the `Metadata` file."
   ]
  },
  {
   "cell_type": "code",
   "execution_count": 7,
   "id": "8f299d1a",
   "metadata": {
    "ExecuteTime": {
     "end_time": "2022-09-29T20:54:15.559837Z",
     "start_time": "2022-09-29T20:54:14.830405Z"
    },
    "execution": {
     "iopub.execute_input": "2024-03-05T22:31:15.051769Z",
     "iopub.status.busy": "2024-03-05T22:31:15.051645Z",
     "iopub.status.idle": "2024-03-05T22:31:15.609319Z",
     "shell.execute_reply": "2024-03-05T22:31:15.608819Z"
    },
    "papermill": {
     "duration": 0.562352,
     "end_time": "2024-03-05T22:31:15.610500",
     "exception": false,
     "start_time": "2024-03-05T22:31:15.048148",
     "status": "completed"
    },
    "tags": []
   },
   "outputs": [],
   "source": [
    "#Load Metadata\n",
    "metadata_qa = Metadata.load(metadata_file)\n",
    "\n",
    "#Load FeatureTable[Frequency]\n",
    "tabs = Artifact.load(dada2_tabs_path)\n",
    "tabs_df = tabs.view(Metadata).to_dataframe().T\n",
    "\n",
    "# FeatureData[Sequence]\n",
    "reps = Artifact.load(dada2_reps_path)\n",
    "\n",
    "# FeatureData[Taxonomy]\n",
    "tax = Artifact.load(taxonomy_path)"
   ]
  },
  {
   "cell_type": "code",
   "execution_count": 8,
   "id": "c8dfe530",
   "metadata": {
    "ExecuteTime": {
     "end_time": "2022-09-29T20:54:15.564968Z",
     "start_time": "2022-09-29T20:54:15.561875Z"
    },
    "execution": {
     "iopub.execute_input": "2024-03-05T22:31:15.617582Z",
     "iopub.status.busy": "2024-03-05T22:31:15.617445Z",
     "iopub.status.idle": "2024-03-05T22:31:15.967774Z",
     "shell.execute_reply": "2024-03-05T22:31:15.967283Z"
    },
    "papermill": {
     "duration": 0.355072,
     "end_time": "2024-03-05T22:31:15.968814",
     "exception": false,
     "start_time": "2024-03-05T22:31:15.613742",
     "status": "completed"
    },
    "tags": []
   },
   "outputs": [
    {
     "name": "stderr",
     "output_type": "stream",
     "text": [
      "/home/lauro/anaconda3/envs/qiime2-2023.5/lib/python3.8/site-packages/q2_types/feature_data/_transformer.py:258: FutureWarning: iteritems is deprecated and will be removed in a future version. Use .items instead.\n",
      "  for id_, seq in data.iteritems():\n"
     ]
    }
   ],
   "source": [
    "# Filter FeatureTable[Frequency | RelativeFrequency | PresenceAbsence | Composition] based on Metadata sample ID values\n",
    "tabs = filter_samples(\n",
    "    table=tabs,\n",
    "    metadata=metadata_qa,\n",
    ").filtered_table\n",
    "# Filter SampleData[SequencesWithQuality | PairedEndSequencesWithQuality | JoinedSequencesWithQuality] based on Metadata sample ID values; returns FeatureData[Sequence | AlignedSequence]\n",
    "reps = filter_seqs(\n",
    "    data=reps,\n",
    "    table=tabs,\n",
    ").filtered_data"
   ]
  },
  {
   "cell_type": "markdown",
   "id": "9f43843a",
   "metadata": {
    "ExecuteTime": {
     "end_time": "2022-09-22T22:48:07.523952Z",
     "start_time": "2022-09-22T22:48:07.517565Z"
    },
    "papermill": {
     "duration": 0.003188,
     "end_time": "2024-03-05T22:31:15.975375",
     "exception": false,
     "start_time": "2024-03-05T22:31:15.972187",
     "status": "completed"
    },
    "tags": []
   },
   "source": [
    "## Alpha diversity analysis\n",
    "\n",
    "#### Reference\n",
    "- [The Use and Types of Alpha-Diversity Metrics in Microbial NGS](https://www.cd-genomics.com/microbioseq/the-use-and-types-of-alpha-diversity-metrics-in-microbial-ngs.html)\n",
    "- [Alpha diversity metrics](http://scikit-bio.org/docs/0.2.0/generated/skbio.diversity.alpha.html)\n",
    "\n",
    "#### Methods\n",
    "- [diversity alpha](https://docs.qiime2.org/2022.8/plugins/available/diversity/alpha/): Computes a user-specified alpha diversity metric for all samples in a\n",
    "feature table.\n",
    "- [diversity alpha_phylogenetic](https://docs.qiime2.org/2022.8/plugins/available/diversity/alpha-phylogenetic/): Computes a user-specified phylogenetic alpha diversity metric for all\n",
    "samples in a feature table.\n",
    "- [diversity alpha_correlation](https://docs.qiime2.org/2022.8/plugins/available/diversity/alpha-correlation/): Determine whether numeric sample metadata columns are correlated with alpha diversity.\n",
    "- [diversity alpha_group_significance](https://docs.qiime2.org/2022.8/plugins/available/diversity/alpha-group-significance/): Visually and statistically compare groups of alpha diversity values."
   ]
  },
  {
   "cell_type": "markdown",
   "id": "606b9c75",
   "metadata": {
    "papermill": {
     "duration": 0.003058,
     "end_time": "2024-03-05T22:31:15.983134",
     "exception": false,
     "start_time": "2024-03-05T22:31:15.980076",
     "status": "completed"
    },
    "tags": []
   },
   "source": [
    "### Compute Alpha Diversity vectors\n",
    "- [diversity alpha](https://docs.qiime2.org/2022.8/plugins/available/diversity/alpha/): Computes a user-specified alpha diversity metric for all samples in a feature table.\n",
    "- [Alpha diversity metrics](http://scikit-bio.org/docs/0.2.0/generated/skbio.diversity.alpha.html)\n",
    " - Choices: ('ace', 'berger_parker_d', 'brillouin_d', 'chao1', 'chao1_ci', 'dominance', 'doubles', 'enspie', 'esty_ci', 'fisher_alpha', 'gini_index', 'goods_coverage', 'heip_e', 'kempton_taylor_q', 'lladser_pe', 'margalef', 'mcintosh_d', 'mcintosh_e', 'menhinick', 'michaelis_menten_fit', 'observed_features', 'osd', 'pielou_e', 'robbins', 'shannon', 'simpson', 'simpson_e', 'singles', 'strong')"
   ]
  },
  {
   "cell_type": "code",
   "execution_count": 9,
   "id": "556e5264",
   "metadata": {
    "ExecuteTime": {
     "end_time": "2022-09-29T20:54:20.790166Z",
     "start_time": "2022-09-29T20:54:20.451134Z"
    },
    "execution": {
     "iopub.execute_input": "2024-03-05T22:31:15.990122Z",
     "iopub.status.busy": "2024-03-05T22:31:15.989850Z",
     "iopub.status.idle": "2024-03-05T22:31:16.370927Z",
     "shell.execute_reply": "2024-03-05T22:31:16.370494Z"
    },
    "papermill": {
     "duration": 0.38571,
     "end_time": "2024-03-05T22:31:16.371878",
     "exception": false,
     "start_time": "2024-03-05T22:31:15.986168",
     "status": "completed"
    },
    "tags": []
   },
   "outputs": [
    {
     "name": "stdout",
     "output_type": "stream",
     "text": [
      "Calculating alpha diversity: chao1\n",
      "DONE: Calculating alpha diversity: chao1\n",
      "Calculating alpha diversity: chao1_ci\n",
      "DONE: Calculating alpha diversity: chao1_ci\n",
      "Calculating alpha diversity: observed_features\n",
      "DONE: Calculating alpha diversity: observed_features\n",
      "Calculating alpha diversity: shannon\n"
     ]
    },
    {
     "name": "stdout",
     "output_type": "stream",
     "text": [
      "DONE: Calculating alpha diversity: shannon\n",
      "Calculating alpha diversity: simpson\n",
      "DONE: Calculating alpha diversity: simpson\n",
      "Calculating alpha diversity: simpson_e\n",
      "DONE: Calculating alpha diversity: simpson_e\n"
     ]
    }
   ],
   "source": [
    "metrics = ('ace', 'berger_parker_d', 'brillouin_d', 'chao1', 'chao1_ci', 'dominance', 'doubles', 'enspie', 'esty_ci', 'fisher_alpha', 'gini_index', 'goods_coverage', 'heip_e', 'kempton_taylor_q', 'lladser_pe', 'margalef', 'mcintosh_d', 'mcintosh_e', 'menhinick', 'michaelis_menten_fit', 'observed_features', 'osd', 'pielou_e', 'robbins', 'shannon', 'simpson', 'simpson_e', 'singles', 'strong')\n",
    "\n",
    "# Sugestão de valores para Alpha diversity\n",
    "# chao1 e observed_features (riqueza); shannon e simpson (diversidade - que levam em consideração riqueza e equitabilidade).\n",
    "metrics = ('chao1', 'chao1_ci', 'observed_features', 'shannon', 'simpson', 'simpson_e')\n",
    "alpha_diversities = dict()\n",
    "for metric in metrics:\n",
    "    print(f\"Calculating alpha diversity: {metric}\")\n",
    "    try:\n",
    "        alpha_diversity = alpha(table=tabs, metric=metric).alpha_diversity\n",
    "        alpha_diversities[metric] = alpha_diversity\n",
    "        # Save SampleData[AlphaDiversity] Artifact\n",
    "        file_path = os.path.join(alpha_path, f'alpha-values-{metric}.qza')\n",
    "        alpha_diversity.save(file_path)\n",
    "        print(f\"DONE: Calculating alpha diversity: {metric}\")\n",
    "    except Exception as e:\n",
    "        print(f\"ERROR: Calculating alpha diversity: {metric}\")\n",
    "        print(e)"
   ]
  },
  {
   "cell_type": "markdown",
   "id": "184bcb7b",
   "metadata": {
    "papermill": {
     "duration": 0.003655,
     "end_time": "2024-03-05T22:31:16.379031",
     "exception": false,
     "start_time": "2024-03-05T22:31:16.375376",
     "status": "completed"
    },
    "tags": []
   },
   "source": [
    "### Create Phylogenetic inference\n",
    "\n",
    "- [alignment align_to_tree_mafft_fasttree](https://docs.qiime2.org/2022.8/plugins/available/phylogeny/align-to-tree-mafft-fasttree/): Build a phylogenetic tree using fasttree and mafft alignment\n",
    "\n",
    "This pipeline will start by creating a sequence alignment using MAFFT,\n",
    "after which any alignment columns that are phylogenetically uninformative\n",
    "or ambiguously aligned will be removed (masked). The resulting masked\n",
    "alignment will be used to infer a phylogenetic tree and then subsequently\n",
    "rooted at its midpoint. Output files from each step of the pipeline will be\n",
    "saved. This includes both the unmasked and masked MAFFT alignment from\n",
    "q2-alignment methods, and both the rooted and unrooted phylogenies from\n",
    "q2-phylogeny methods.\n",
    "\n",
    "\n",
    "Returns\n",
    "- alignment : FeatureData[AlignedSequence] : The aligned sequences.\n",
    "- masked_alignment : FeatureData[AlignedSequence] : The masked alignment.\n",
    "- tree : Phylogeny[Unrooted] : The unrooted phylogenetic tree.\n",
    "- rooted_tree : Phylogeny[Rooted] : The rooted phylogenetic tree."
   ]
  },
  {
   "cell_type": "code",
   "execution_count": 10,
   "id": "9c8cfe47",
   "metadata": {
    "ExecuteTime": {
     "end_time": "2022-09-29T20:54:35.139531Z",
     "start_time": "2022-09-29T20:54:20.792130Z"
    },
    "execution": {
     "iopub.execute_input": "2024-03-05T22:31:16.387082Z",
     "iopub.status.busy": "2024-03-05T22:31:16.386856Z",
     "iopub.status.idle": "2024-03-05T22:31:24.672452Z",
     "shell.execute_reply": "2024-03-05T22:31:24.671930Z"
    },
    "papermill": {
     "duration": 8.291359,
     "end_time": "2024-03-05T22:31:24.673634",
     "exception": false,
     "start_time": "2024-03-05T22:31:16.382275",
     "status": "completed"
    },
    "tags": []
   },
   "outputs": [
    {
     "name": "stdout",
     "output_type": "stream",
     "text": [
      "Running external command line application. This may print messages to stdout and/or stderr.\n",
      "The command being run is below. This command cannot be manually re-run as it will depend on temporary files that no longer exist.\n",
      "\n",
      "Command: mafft --preservecase --inputorder --thread 6 /tmp/qiime2/lauro/data/30cd7807-4f9e-41b0-a0f5-44e8a4fde324/data/dna-sequences.fasta\n",
      "\n"
     ]
    },
    {
     "name": "stderr",
     "output_type": "stream",
     "text": [
      "inputfile = orig\n",
      "1050 x 430 - 253 d\n",
      "nthread = 6\n",
      "nthreadpair = 6\n",
      "nthreadtb = 6\n",
      "ppenalty_ex = 0\n",
      "stacksize: 8192 kb\n",
      "generating a scoring matrix for nucleotide (dist=200) ... done\n",
      "Gap Penalty = -1.53, +0.00, +0.00\n",
      "\n",
      "\n",
      "\n",
      "Making a distance matrix ..\n",
      "\r",
      "    1 / 1050 (thread    0)\r",
      "  101 / 1050 (thread    4)\r",
      "  201 / 1050 (thread    0)\r",
      "  301 / 1050 (thread    4)\r",
      "  401 / 1050 (thread    4)\r",
      "  501 / 1050 (thread    0)\r",
      "  601 / 1050 (thread    4)\r",
      "  701 / 1050 (thread    0)\r",
      "  801 / 1050 (thread    0)\r",
      "  901 / 1050 (thread    3)\r",
      " 1001 / 1050 (thread    3)\n",
      "done.\n",
      "\n",
      "Constructing a UPGMA tree (efffree=0) ... \n",
      "\r",
      "    0 / 1050\r",
      "   10 / 1050\r",
      "   20 / 1050\r",
      "   30 / 1050\r",
      "   40 / 1050\r",
      "   50 / 1050\r",
      "   60 / 1050\r",
      "   70 / 1050\r",
      "   80 / 1050\r",
      "   90 / 1050\r",
      "  100 / 1050\r",
      "  110 / 1050\r",
      "  120 / 1050\r",
      "  130 / 1050\r",
      "  140 / 1050\r",
      "  150 / 1050\r",
      "  160 / 1050\r",
      "  170 / 1050\r",
      "  180 / 1050\r",
      "  190 / 1050\r",
      "  200 / 1050\r",
      "  210 / 1050\r",
      "  220 / 1050\r",
      "  230 / 1050\r",
      "  240 / 1050\r",
      "  250 / 1050\r",
      "  260 / 1050\r",
      "  270 / 1050\r",
      "  280 / 1050\r",
      "  290 / 1050\r",
      "  300 / 1050\r",
      "  310 / 1050\r",
      "  320 / 1050\r",
      "  330 / 1050\r",
      "  340 / 1050\r",
      "  350 / 1050\r",
      "  360 / 1050\r",
      "  370 / 1050\r",
      "  380 / 1050\r",
      "  390 / 1050\r",
      "  400 / 1050\r",
      "  410 / 1050\r",
      "  420 / 1050\r",
      "  430 / 1050\r",
      "  440 / 1050\r",
      "  450 / 1050\r",
      "  460 / 1050\r",
      "  470 / 1050\r",
      "  480 / 1050\r",
      "  490 / 1050\r",
      "  500 / 1050\r",
      "  510 / 1050\r",
      "  520 / 1050\r",
      "  530 / 1050\r",
      "  540 / 1050\r",
      "  550 / 1050\r",
      "  560 / 1050\r",
      "  570 / 1050\r",
      "  580 / 1050\r",
      "  590 / 1050\r",
      "  600 / 1050\r",
      "  610 / 1050\r",
      "  620 / 1050\r",
      "  630 / 1050\r",
      "  640 / 1050\r",
      "  650 / 1050\r",
      "  660 / 1050\r",
      "  670 / 1050\r",
      "  680 / 1050\r",
      "  690 / 1050\r",
      "  700 / 1050\r",
      "  710 / 1050\r",
      "  720 / 1050\r",
      "  730 / 1050\r",
      "  740 / 1050\r",
      "  750 / 1050\r",
      "  760 / 1050\r",
      "  770 / 1050\r",
      "  780 / 1050\r",
      "  790 / 1050\r",
      "  800 / 1050\r",
      "  810 / 1050\r",
      "  820 / 1050\r",
      "  830 / 1050\r",
      "  840 / 1050\r",
      "  850 / 1050\r",
      "  860 / 1050\r",
      "  870 / 1050\r",
      "  880 / 1050\r",
      "  890 / 1050\r",
      "  900 / 1050\r",
      "  910 / 1050\r",
      "  920 / 1050\r",
      "  930 / 1050\r",
      "  940 / 1050\r",
      "  950 / 1050\r",
      "  960 / 1050\r",
      "  970 / 1050\r",
      "  980 / 1050\r",
      "  990 / 1050\r",
      " 1000 / 1050\r",
      " 1010 / 1050\r",
      " 1020 / 1050\r",
      " 1030 / 1050\r",
      " 1040 / 1050\n",
      "done.\n",
      "\n",
      "Progressive alignment 1/2... \n",
      "\r",
      "STEP     2 / 1049 (thread    2)\r",
      "STEP     1 / 1049 (thread    5) f\b\b\r",
      "STEP     3 / 1049 (thread    0)\r",
      "STEP     4 / 1049 (thread    3) f\b\b f\b\b f\b\b\r",
      "STEP     5 / 1049 (thread    1) f\b\b\r",
      "STEP     6 / 1049 (thread    4) f\b\b\r",
      "STEP     7 / 1049 (thread    0) f\b\b\r",
      "STEP     8 / 1049 (thread    2) f\b\b\r",
      "STEP     9 / 1049 (thread    3) f\b\b\r",
      "STEP    10 / 1049 (thread    1) f\b\b\r",
      "STEP    11 / 1049 (thread    4) f\b\b\r",
      "STEP    12 / 1049 (thread    5) f\b\b\r",
      "STEP    13 / 1049 (thread    0) f\b\b\r",
      "STEP    14 / 1049 (thread    2) f\b\b\r",
      "STEP    15 / 1049 (thread    3) f\b\b\r",
      "STEP    16 / 1049 (thread    1) f\b\b\r",
      "STEP    17 / 1049 (thread    4) f\b\b\r",
      "STEP    18 / 1049 (thread    5) f\b\b\r",
      "STEP    19 / 1049 (thread    0) f\b\b\r",
      "STEP    20 / 1049 (thread    2) f\b\b\r",
      "STEP    21 / 1049 (thread    1)\r",
      "STEP    22 / 1049 (thread    3) f\b\b f\b\b\r",
      "STEP    23 / 1049 (thread    4) f\b\b\r",
      "STEP    24 / 1049 (thread    5) f\b\b\r",
      "STEP    25 / 1049 (thread    0) f\b\b\r",
      "STEP    26 / 1049 (thread    2) f\b\b\r",
      "STEP    27 / 1049 (thread    3) f\b\b\r",
      "STEP    28 / 1049 (thread    1) f\b\b\r",
      "STEP    29 / 1049 (thread    4) f\b\b\r",
      "STEP    30 / 1049 (thread    5) f\b\b\r",
      "STEP    31 / 1049 (thread    0) f\b\b\r",
      "STEP    32 / 1049 (thread    2) f\b\b\r",
      "STEP    33 / 1049 (thread    3) f\b\b\r",
      "STEP    34 / 1049 (thread    1) f\b\b\r",
      "STEP    35 / 1049 (thread    4) f\b\b\r",
      "STEP    36 / 1049 (thread    5) f\b\b\r",
      "STEP    37 / 1049 (thread    0) f\b\b\r",
      "STEP    38 / 1049 (thread    2) f\b\b\r",
      "STEP    39 / 1049 (thread    1) f\b\b\r",
      "STEP    40 / 1049 (thread    3) f\b\b\r",
      "STEP    41 / 1049 (thread    5) f\b\b\r",
      "STEP    42 / 1049 (thread    0) f\b\b\r",
      "STEP    43 / 1049 (thread    2) f\b\b\r",
      "STEP    44 / 1049 (thread    1) f\b\b\r",
      "STEP    45 / 1049 (thread    3) f\b\b\r",
      "STEP    46 / 1049 (thread    5) f\b\b\r",
      "STEP    47 / 1049 (thread    4) f\b\b\r",
      "STEP    48 / 1049 (thread    0) f\b\b\r",
      "STEP    49 / 1049 (thread    2) f\b\b\r",
      "STEP    50 / 1049 (thread    3) f\b\b\r",
      "STEP    51 / 1049 (thread    1) f\b\b\r",
      "STEP    52 / 1049 (thread    5) f\b\b\r",
      "STEP    53 / 1049 (thread    4) f\b\b\r",
      "STEP    54 / 1049 (thread    0) f\b\b\r",
      "STEP    55 / 1049 (thread    2) f\b\b\r",
      "STEP    56 / 1049 (thread    1) f\b\b\r",
      "STEP    57 / 1049 (thread    5) f\b\b\r",
      "STEP    58 / 1049 (thread    4) f\b\b\r",
      "STEP    59 / 1049 (thread    0) f\b\b\r",
      "STEP    60 / 1049 (thread    2) f\b\b\r",
      "STEP    61 / 1049 (thread    3) f\b\b\r",
      "STEP    62 / 1049 (thread    2) f\b\b\r",
      "STEP    63 / 1049 (thread    3) f\b\b\r",
      "STEP    64 / 1049 (thread    0) f\b\b\r",
      "STEP    65 / 1049 (thread    1) f\b\b\r",
      "STEP    66 / 1049 (thread    4) f\b\b\r",
      "STEP    67 / 1049 (thread    2) f\b\b\r",
      "STEP    68 / 1049 (thread    5) f\b\b\r",
      "STEP    69 / 1049 (thread    3) f\b\b\r",
      "STEP    70 / 1049 (thread    0) f\b\b\r",
      "STEP    71 / 1049 (thread    1) f\b\b\r",
      "STEP    72 / 1049 (thread    4) f\b\b\r",
      "STEP    73 / 1049 (thread    2) f\b\b\r",
      "STEP    74 / 1049 (thread    5) f\b\b\r",
      "STEP    75 / 1049 (thread    3) f\b\b\r",
      "STEP    76 / 1049 (thread    0) f\b\b\r",
      "STEP    77 / 1049 (thread    1) f\b\b\r",
      "STEP    78 / 1049 (thread    4) f\b\b\r",
      "STEP    79 / 1049 (thread    2) f\b\b\r",
      "STEP    80 / 1049 (thread    5) f\b\b\r",
      "STEP    81 / 1049 (thread    3) f\b\b\r",
      "STEP    82 / 1049 (thread    0) f\b\b\r",
      "STEP    83 / 1049 (thread    4) f\b\b\r",
      "STEP    84 / 1049 (thread    2) f\b\b\r",
      "STEP    85 / 1049 (thread    5) f\b\b\r",
      "STEP    86 / 1049 (thread    3) f\b\b\r",
      "STEP    87 / 1049 (thread    0) f\b\b\r",
      "STEP    88 / 1049 (thread    1) f\b\b\r",
      "STEP    89 / 1049 (thread    4) f\b\b\r",
      "STEP    90 / 1049 (thread    2) f\b\b\r",
      "STEP    91 / 1049 (thread    5) f\b\b\r",
      "STEP    92 / 1049 (thread    3) f\b\b\r",
      "STEP    93 / 1049 (thread    0) f\b\b\r",
      "STEP    94 / 1049 (thread    1) f\b\b\r",
      "STEP    95 / 1049 (thread    4) f\b\b\r",
      "STEP    96 / 1049 (thread    2) f\b\b\r",
      "STEP    97 / 1049 (thread    5) f\b\b\r",
      "STEP    98 / 1049 (thread    3) f\b\b\r",
      "STEP    99 / 1049 (thread    0) f\b\b\r",
      "STEP   100 / 1049 (thread    1) f\b\b\r",
      "STEP   101 / 1049 (thread    4) f\b\b\r",
      "STEP   102 / 1049 (thread    2) f\b\b\r",
      "STEP   103 / 1049 (thread    5) f\b\b\r",
      "STEP   104 / 1049 (thread    3) f\b\b\r",
      "STEP   105 / 1049 (thread    0) f\b\b\r",
      "STEP   106 / 1049 (thread    1) f\b\b\r",
      "STEP   107 / 1049 (thread    4) f\b\b\r",
      "STEP   108 / 1049 (thread    2) f\b\b\r",
      "STEP   109 / 1049 (thread    5) f\b\b\r",
      "STEP   110 / 1049 (thread    3) f\b\b\r",
      "STEP   111 / 1049 (thread    0) f\b\b\r",
      "STEP   112 / 1049 (thread    1) f\b\b\r",
      "STEP   113 / 1049 (thread    4) f\b\b\r",
      "STEP   114 / 1049 (thread    2) f\b\b\r",
      "STEP   115 / 1049 (thread    3) f\b\b\r",
      "STEP   116 / 1049 (thread    0) f\b\b\r",
      "STEP   117 / 1049 (thread    5) f\b\b\r",
      "STEP   118 / 1049 (thread    4) f\b\b\r",
      "STEP   119 / 1049 (thread    1) f\b\b\r",
      "STEP   120 / 1049 (thread    2) f\b\b\r",
      "STEP   121 / 1049 (thread    3) f\b\b\r",
      "STEP   123 / 1049 (thread    5) f\b\b\r",
      "STEP   124 / 1049 (thread    4) f\b\b\r",
      "STEP   122 / 1049 (thread    0) f\b\b\r",
      "STEP   125 / 1049 (thread    1) f\b\b\r",
      "STEP   126 / 1049 (thread    2) f\b\b\r",
      "STEP   128 / 1049 (thread    5) f\b\b\r",
      "STEP   129 / 1049 (thread    4) f\b\b\r",
      "STEP   130 / 1049 (thread    0) f\b\b\r",
      "STEP   127 / 1049 (thread    3) f\b\b\r",
      "STEP   131 / 1049 (thread    1) f\b\b\r",
      "STEP   132 / 1049 (thread    5) f\b\b\r",
      "STEP   133 / 1049 (thread    2) f\b\b\r",
      "STEP   134 / 1049 (thread    0) f\b\b\r",
      "STEP   135 / 1049 (thread    4) f\b\b\r",
      "STEP   136 / 1049 (thread    1) f\b\b\r",
      "STEP   138 / 1049 (thread    2) f\b\b\r",
      "STEP   139 / 1049 (thread    5) f\b\b\r",
      "STEP   140 / 1049 (thread    0) f\b\b\r",
      "STEP   141 / 1049 (thread    4) f\b\b\r",
      "STEP   137 / 1049 (thread    3) f\b\b\r",
      "STEP   142 / 1049 (thread    1) f\b\b\r",
      "STEP   143 / 1049 (thread    5) f\b\b\r",
      "STEP   144 / 1049 (thread    2) f\b\b\r",
      "STEP   145 / 1049 (thread    0) f\b\b\r",
      "STEP   146 / 1049 (thread    2) f\b\b\r",
      "STEP   147 / 1049 (thread    4) f\b\b\r",
      "STEP   148 / 1049 (thread    1) f\b\b\r",
      "STEP   149 / 1049 (thread    3) f\b\b\r",
      "STEP   150 / 1049 (thread    5) f\b\b\r",
      "STEP   151 / 1049 (thread    0) f\b\b\r",
      "STEP   152 / 1049 (thread    4) f\b\b\r",
      "STEP   153 / 1049 (thread    1) f\b\b\r",
      "STEP   154 / 1049 (thread    3) f\b\b\r",
      "STEP   155 / 1049 (thread    5) f\b\b\r",
      "STEP   156 / 1049 (thread    0) f\b\b\r",
      "STEP   157 / 1049 (thread    4) f\b\b\r",
      "STEP   158 / 1049 (thread    3) f\b\b\r",
      "STEP   159 / 1049 (thread    2) f\b\b\r",
      "STEP   160 / 1049 (thread    5) f\b\b\r",
      "STEP   161 / 1049 (thread    0) f\b\b\r",
      "STEP   162 / 1049 (thread    4) f\b\b\r",
      "STEP   163 / 1049 (thread    1) f\b\b\r",
      "STEP   164 / 1049 (thread    3) f\b\b\r",
      "STEP   165 / 1049 (thread    2) f\b\b\r",
      "STEP   166 / 1049 (thread    5) f\b\b\r",
      "STEP   167 / 1049 (thread    0) f\b\b\r",
      "STEP   169 / 1049 (thread    1) f\b\b\r",
      "STEP   168 / 1049 (thread    4) f\b\b\r",
      "STEP   170 / 1049 (thread    3) f\b\b\r",
      "STEP   171 / 1049 (thread    2) f\b\b\r",
      "STEP   172 / 1049 (thread    5) f\b\b\r",
      "STEP   173 / 1049 (thread    0) f\b\b\r",
      "STEP   174 / 1049 (thread    4) f\b\b\r",
      "STEP   175 / 1049 (thread    1) f\b\b\r",
      "STEP   176 / 1049 (thread    3) f\b\b\r",
      "STEP   177 / 1049 (thread    2) f\b\b\r",
      "STEP   178 / 1049 (thread    5) f\b\b\r",
      "STEP   179 / 1049 (thread    0) f\b\b\r",
      "STEP   180 / 1049 (thread    4) f\b\b\r",
      "STEP   181 / 1049 (thread    1) f\b\b\r",
      "STEP   182 / 1049 (thread    3) f\b\b\r",
      "STEP   183 / 1049 (thread    5) f\b\b\r",
      "STEP   184 / 1049 (thread    0) f\b\b\r",
      "STEP   185 / 1049 (thread    4) f\b\b\r",
      "STEP   186 / 1049 (thread    1) f\b\b\r",
      "STEP   187 / 1049 (thread    3) f\b\b\r",
      "STEP   188 / 1049 (thread    2) f\b\b\r",
      "STEP   189 / 1049 (thread    5) f\b\b\r",
      "STEP   190 / 1049 (thread    0) f\b\b\r",
      "STEP   191 / 1049 (thread    4) f\b\b\r",
      "STEP   192 / 1049 (thread    3) f\b\b\r",
      "STEP   193 / 1049 (thread    2) f\b\b\r",
      "STEP   194 / 1049 (thread    5) f\b\b\r",
      "STEP   196 / 1049 (thread    4) f\b\b\r",
      "STEP   197 / 1049 (thread    3) f\b\b\r",
      "STEP   198 / 1049 (thread    2) f\b\b\r",
      "STEP   199 / 1049 (thread    5) f\b\b\r",
      "STEP   200 / 1049 (thread    1) f\b\b\r",
      "STEP   195 / 1049 (thread    0) f\b\b\r",
      "STEP   201 / 1049 (thread    4) f\b\b\r",
      "STEP   202 / 1049 (thread    3) f\b\b\r",
      "STEP   203 / 1049 (thread    2) f\b\b\r",
      "STEP   204 / 1049 (thread    5) f\b\b\r",
      "STEP   205 / 1049 (thread    1) f\b\b\r",
      "STEP   207 / 1049 (thread    4) f\b\b\r",
      "STEP   208 / 1049 (thread    3) f\b\b\r",
      "STEP   206 / 1049 (thread    0) f\b\b\r",
      "STEP   209 / 1049 (thread    2) f\b\b\r",
      "STEP   210 / 1049 (thread    5) f\b\b\r",
      "STEP   211 / 1049 (thread    1) f\b\b\r",
      "STEP   212 / 1049 (thread    4) f\b\b\r",
      "STEP   213 / 1049 (thread    3) f\b\b\r",
      "STEP   214 / 1049 (thread    0) f\b\b\r",
      "STEP   215 / 1049 (thread    5) f\b\b\r",
      "STEP   216 / 1049 (thread    2) f\b\b\r",
      "STEP   217 / 1049 (thread    1) f\b\b\r",
      "STEP   218 / 1049 (thread    2) f\b\b\r",
      "STEP   219 / 1049 (thread    1) f\b\b\r",
      "STEP   220 / 1049 (thread    4) f\b\b\r",
      "STEP   221 / 1049 (thread    3) f\b\b\r",
      "STEP   222 / 1049 (thread    0) f\b\b\r",
      "STEP   223 / 1049 (thread    2) f\b\b\r",
      "STEP   224 / 1049 (thread    5) f\b\b\r",
      "STEP   225 / 1049 (thread    1) f\b\b\r",
      "STEP   226 / 1049 (thread    3) f\b\b\r",
      "STEP   227 / 1049 (thread    3) f\b\b\r",
      "STEP   228 / 1049 (thread    0) f\b\b\r",
      "STEP   229 / 1049 (thread    5) f\b\b\r",
      "STEP   230 / 1049 (thread    4) f\b\b\r",
      "STEP   231 / 1049 (thread    1) f\b\b\r",
      "STEP   232 / 1049 (thread    2) f\b\b\r",
      "STEP   233 / 1049 (thread    4) f\b\b\r",
      "STEP   234 / 1049 (thread    2) f\b\b\r",
      "STEP   235 / 1049 (thread    3) f\b\b\r",
      "STEP   236 / 1049 (thread    0) f\b\b\r",
      "STEP   237 / 1049 (thread    5) f\b\b\r",
      "STEP   238 / 1049 (thread    4) f\b\b\r",
      "STEP   239 / 1049 (thread    2) f\b\b\r",
      "STEP   240 / 1049 (thread    1) f\b\b\r",
      "STEP   241 / 1049 (thread    3) f\b\b\r",
      "STEP   242 / 1049 (thread    0) f\b\b\r",
      "STEP   243 / 1049 (thread    5) f\b\b\r",
      "STEP   244 / 1049 (thread    4) f\b\b\r",
      "STEP   245 / 1049 (thread    2) f\b\b\r",
      "STEP   247 / 1049 (thread    3) f\b\b\r",
      "STEP   248 / 1049 (thread    0) f\b\b\r",
      "STEP   249 / 1049 (thread    5) f\b\b\r",
      "STEP   250 / 1049 (thread    4) f\b\b\r",
      "STEP   251 / 1049 (thread    2) f\b\b\r",
      "STEP   246 / 1049 (thread    1) f\b\b\r",
      "STEP   252 / 1049 (thread    3) f\b\b\r",
      "STEP   253 / 1049 (thread    5) f\b\b\r",
      "STEP   254 / 1049 (thread    4) f\b\b\r",
      "STEP   255 / 1049 (thread    0) f\b\b\r",
      "STEP   257 / 1049 (thread    1) f\b\b\r",
      "STEP   256 / 1049 (thread    5) f\b\b\r",
      "STEP   258 / 1049 (thread    2) f\b\b\r",
      "STEP   259 / 1049 (thread    3) f\b\b\r",
      "STEP   260 / 1049 (thread    4) f\b\b\r",
      "STEP   261 / 1049 (thread    1) f\b\b\r",
      "STEP   262 / 1049 (thread    2) f\b\b\r",
      "STEP   263 / 1049 (thread    3) f\b\b\r",
      "STEP   264 / 1049 (thread    0) f\b\b\r",
      "STEP   265 / 1049 (thread    4) f\b\b\r",
      "STEP   266 / 1049 (thread    2) f\b\b\r",
      "STEP   267 / 1049 (thread    5) f\b\b\r",
      "STEP   268 / 1049 (thread    2) f\b\b\r",
      "STEP   269 / 1049 (thread    5) f\b\b\r",
      "STEP   270 / 1049 (thread    1) f\b\b\r",
      "STEP   271 / 1049 (thread    3) f\b\b\r",
      "STEP   272 / 1049 (thread    0) f\b\b\r",
      "STEP   273 / 1049 (thread    4) f\b\b\r",
      "STEP   274 / 1049 (thread    5) f\b\b\r",
      "STEP   275 / 1049 (thread    1) f\b\b\r",
      "STEP   276 / 1049 (thread    3) f\b\b\r",
      "STEP   277 / 1049 (thread    0) f\b\b\r",
      "STEP   278 / 1049 (thread    4) f\b\b\r",
      "STEP   279 / 1049 (thread    5) f\b\b\r",
      "STEP   280 / 1049 (thread    1) f\b\b\r",
      "STEP   281 / 1049 (thread    2) f\b\b\r",
      "STEP   282 / 1049 (thread    3) f\b\b\r",
      "STEP   283 / 1049 (thread    0) f\b\b\r",
      "STEP   284 / 1049 (thread    4) f\b\b\r",
      "STEP   285 / 1049 (thread    5) f\b\b\r",
      "STEP   286 / 1049 (thread    1) f\b\b\r",
      "STEP   287 / 1049 (thread    2) f\b\b\r",
      "STEP   288 / 1049 (thread    0) f\b\b\r",
      "STEP   289 / 1049 (thread    4) f\b\b\r",
      "STEP   290 / 1049 (thread    5) f\b\b\r",
      "STEP   291 / 1049 (thread    1) f\b\b\r",
      "STEP   292 / 1049 (thread    3) f\b\b\r",
      "STEP   294 / 1049 (thread    1) f\b\b\r",
      "STEP   295 / 1049 (thread    5) f\b\b\r",
      "STEP   296 / 1049 (thread    0) f\b\b\r",
      "STEP   297 / 1049 (thread    5) f\b\b\r",
      "STEP   298 / 1049 (thread    4) f\b\b\r",
      "STEP   293 / 1049 (thread    2) f\b\b\r",
      "STEP   299 / 1049 (thread    3) f\b\b\r",
      "STEP   300 / 1049 (thread    1) f\b\b\r",
      "STEP   301 / 1049 (thread    0) f\b\b\r",
      "STEP   302 / 1049 (thread    5) f\b\b\r",
      "STEP   303 / 1049 (thread    4) f\b\b\r",
      "STEP   304 / 1049 (thread    2) f\b\b\r",
      "STEP   305 / 1049 (thread    3) f\b\b\r",
      "STEP   306 / 1049 (thread    1) f\b\b\r",
      "STEP   307 / 1049 (thread    4) f\b\b\r",
      "STEP   308 / 1049 (thread    0) f\b\b\r",
      "STEP   309 / 1049 (thread    2) f\b\b\r",
      "STEP   310 / 1049 (thread    5) f\b\b\r",
      "STEP   311 / 1049 (thread    1) f\b\b\r",
      "STEP   312 / 1049 (thread    4) f\b\b\r",
      "STEP   313 / 1049 (thread    3) f\b\b\r",
      "STEP   314 / 1049 (thread    0) f\b\b\r",
      "STEP   315 / 1049 (thread    1) f\b\b\r",
      "STEP   316 / 1049 (thread    3) f\b\b\r",
      "STEP   317 / 1049 (thread    2) f\b\b\r",
      "STEP   318 / 1049 (thread    0) f\b\b\r",
      "STEP   319 / 1049 (thread    5) f\b\b\r",
      "STEP   320 / 1049 (thread    4) f\b\b\r",
      "STEP   321 / 1049 (thread    4) f\b\b\r",
      "STEP   322 / 1049 (thread    5) f\b\b\r",
      "STEP   323 / 1049 (thread    0) f\b\b\r",
      "STEP   324 / 1049 (thread    1) f\b\b\r",
      "STEP   325 / 1049 (thread    2) f\b\b\r",
      "STEP   326 / 1049 (thread    3) f\b\b\r",
      "STEP   327 / 1049 (thread    4) f\b\b\r",
      "STEP   328 / 1049 (thread    0) f\b\b\r",
      "STEP   329 / 1049 (thread    3) f\b\b\r",
      "STEP   330 / 1049 (thread    4) f\b\b\r",
      "STEP   331 / 1049 (thread    1) f\b\b\r",
      "STEP   332 / 1049 (thread    5) f\b\b\r",
      "STEP   333 / 1049 (thread    2) f\b\b\r",
      "STEP   334 / 1049 (thread    0) f\b\b\r",
      "STEP   335 / 1049 (thread    3) f\b\b\r",
      "STEP   336 / 1049 (thread    2) f\b\b\r",
      "STEP   337 / 1049 (thread    4) f\b\b\r",
      "STEP   338 / 1049 (thread    1) f\b\b\r",
      "STEP   339 / 1049 (thread    5) f\b\b\r",
      "STEP   340 / 1049 (thread    0) f\b\b\r",
      "STEP   341 / 1049 (thread    3) f\b\b\r",
      "STEP   342 / 1049 (thread    2) f\b\b\r",
      "STEP   343 / 1049 (thread    4) f\b\b\r",
      "STEP   344 / 1049 (thread    3) f\b\b\r",
      "STEP   345 / 1049 (thread    5) f\b\b\r",
      "STEP   346 / 1049 (thread    0) f\b\b\r",
      "STEP   348 / 1049 (thread    3) f\b\b\r",
      "STEP   349 / 1049 (thread    5) f\b\b\r",
      "STEP   347 / 1049 (thread    1) f\b\b\r",
      "STEP   350 / 1049 (thread    2) f\b\b\r",
      "STEP   351 / 1049 (thread    3) f\b\b\r",
      "STEP   352 / 1049 (thread    4) f\b\b\r",
      "STEP   353 / 1049 (thread    0) f\b\b\r",
      "STEP   354 / 1049 (thread    5) f\b\b\r",
      "STEP   355 / 1049 (thread    2) f\b\b\r",
      "STEP   356 / 1049 (thread    1) f\b\b\r",
      "STEP   357 / 1049 (thread    3) f\b\b\r",
      "STEP   358 / 1049 (thread    2) f\b\b\r",
      "STEP   359 / 1049 (thread    4) f\b\b\r",
      "STEP   360 / 1049 (thread    1) f\b\b\r",
      "STEP   361 / 1049 (thread    0) f\b\b\r",
      "STEP   362 / 1049 (thread    5) f\b\b\r",
      "STEP   363 / 1049 (thread    4) f\b\b\r",
      "STEP   364 / 1049 (thread    2) f\b\b\r",
      "STEP   365 / 1049 (thread    1) f\b\b\r",
      "STEP   366 / 1049 (thread    3) f\b\b\r",
      "STEP   367 / 1049 (thread    0) f\b\b\r",
      "STEP   368 / 1049 (thread    5) f\b\b\r",
      "STEP   369 / 1049 (thread    2) f\b\b\r",
      "STEP   370 / 1049 (thread    4) f\b\b\r",
      "STEP   371 / 1049 (thread    1) f\b\b\r",
      "STEP   372 / 1049 (thread    3) f\b\b\r",
      "STEP   373 / 1049 (thread    0) f\b\b\r",
      "STEP   374 / 1049 (thread    5) f\b\b\r",
      "STEP   375 / 1049 (thread    2) f\b\b\r",
      "STEP   376 / 1049 (thread    4) f\b\b\r",
      "STEP   377 / 1049 (thread    3) f\b\b\r",
      "STEP   378 / 1049 (thread    4) f\b\b\r",
      "STEP   379 / 1049 (thread    1) f\b\b\r",
      "STEP   380 / 1049 (thread    0) f\b\b\r",
      "STEP   381 / 1049 (thread    5) f\b\b\r",
      "STEP   382 / 1049 (thread    2) f\b\b\r",
      "STEP   383 / 1049 (thread    4) f\b\b\r",
      "STEP   384 / 1049 (thread    3) f\b\b\r",
      "STEP   385 / 1049 (thread    1) f\b\b\r",
      "STEP   386 / 1049 (thread    0) f\b\b\r",
      "STEP   388 / 1049 (thread    2) f\b\b\r",
      "STEP   389 / 1049 (thread    4) f\b\b\r",
      "STEP   390 / 1049 (thread    3) f\b\b\r",
      "STEP   391 / 1049 (thread    1) f\b\b\r",
      "STEP   387 / 1049 (thread    5) f\b\b\r",
      "STEP   392 / 1049 (thread    0) f\b\b\r",
      "STEP   393 / 1049 (thread    2) f\b\b\r",
      "STEP   394 / 1049 (thread    4) f\b\b\r",
      "STEP   395 / 1049 (thread    3) f\b\b\r",
      "STEP   396 / 1049 (thread    5) f\b\b\r",
      "STEP   397 / 1049 (thread    0) f\b\b\r",
      "STEP   398 / 1049 (thread    1) f\b\b\r",
      "STEP   399 / 1049 (thread    4) f\b\b\r",
      "STEP   400 / 1049 (thread    3) f\b\b\r",
      "STEP   401 / 1049 (thread    2) f\b\b\r",
      "STEP   402 / 1049 (thread    5) f\b\b\r",
      "STEP   403 / 1049 (thread    0) f\b\b\r",
      "STEP   404 / 1049 (thread    1) f\b\b\r",
      "STEP   405 / 1049 (thread    4) f\b\b\r",
      "STEP   406 / 1049 (thread    3) f\b\b\r",
      "STEP   407 / 1049 (thread    2) f\b\b\r",
      "STEP   408 / 1049 (thread    0) f\b\b\r",
      "STEP   409 / 1049 (thread    1) f\b\b\r",
      "STEP   410 / 1049 (thread    5) f\b\b\r",
      "STEP   411 / 1049 (thread    2) f\b\b\r",
      "STEP   412 / 1049 (thread    4) f\b\b\r",
      "STEP   413 / 1049 (thread    3) f\b\b\r",
      "STEP   414 / 1049 (thread    0) f\b\b\r",
      "STEP   415 / 1049 (thread    4) f\b\b\r",
      "STEP   416 / 1049 (thread    2) f\b\b\r",
      "STEP   417 / 1049 (thread    4) f\b\b\r",
      "STEP   418 / 1049 (thread    1) f\b\b\r",
      "STEP   419 / 1049 (thread    0) f\b\b\r",
      "STEP   420 / 1049 (thread    3) f\b\b\r",
      "STEP   421 / 1049 (thread    5) f\b\b\r",
      "STEP   422 / 1049 (thread    2) f\b\b\r",
      "STEP   423 / 1049 (thread    3) f\b\b\r",
      "STEP   424 / 1049 (thread    4) f\b\b\r",
      "STEP   425 / 1049 (thread    0) f\b\b\r",
      "STEP   426 / 1049 (thread    1) f\b\b\r",
      "STEP   427 / 1049 (thread    5) f\b\b\r",
      "STEP   428 / 1049 (thread    4) f\b\b\r",
      "STEP   430 / 1049 (thread    3) f\b\b\r",
      "STEP   431 / 1049 (thread    4) f\b\b\r",
      "STEP   432 / 1049 (thread    1) f\b\b\r",
      "STEP   433 / 1049 (thread    5) f\b\b\r",
      "STEP   434 / 1049 (thread    3) f\b\b\r",
      "STEP   435 / 1049 (thread    0) f\b\b\r",
      "STEP   429 / 1049 (thread    2) f\b\b\r",
      "STEP   436 / 1049 (thread    4) f\b\b\r",
      "STEP   437 / 1049 (thread    1) f\b\b\r",
      "STEP   438 / 1049 (thread    5) f\b\b\r",
      "STEP   439 / 1049 (thread    3) f\b\b\r",
      "STEP   440 / 1049 (thread    0) f\b\b\r",
      "STEP   441 / 1049 (thread    5) f\b\b\r",
      "STEP   442 / 1049 (thread    4) f\b\b\r",
      "STEP   443 / 1049 (thread    1) f\b\b\r",
      "STEP   444 / 1049 (thread    0) f\b\b\r",
      "STEP   445 / 1049 (thread    5) f\b\b\r",
      "STEP   446 / 1049 (thread    2) f\b\b\r",
      "STEP   447 / 1049 (thread    3) f\b\b\r",
      "STEP   448 / 1049 (thread    1) f\b\b\r",
      "STEP   449 / 1049 (thread    5) f\b\b\r",
      "STEP   450 / 1049 (thread    0) f\b\b\r",
      "STEP   451 / 1049 (thread    4) f\b\b\r",
      "STEP   452 / 1049 (thread    3) f\b\b\r",
      "STEP   453 / 1049 (thread    2) f\b\b\r",
      "STEP   454 / 1049 (thread    5) f\b\b\r",
      "STEP   455 / 1049 (thread    1) f\b\b\r",
      "STEP   456 / 1049 (thread    0) f\b\b\r",
      "STEP   457 / 1049 (thread    4) f\b\b\r",
      "STEP   458 / 1049 (thread    2) f\b\b\r",
      "STEP   459 / 1049 (thread    5) f\b\b\r",
      "STEP   461 / 1049 (thread    1) f\b\b\r",
      "STEP   462 / 1049 (thread    4) f\b\b\r",
      "STEP   460 / 1049 (thread    3) f\b\b\r",
      "STEP   463 / 1049 (thread    2) f\b\b\r",
      "STEP   464 / 1049 (thread    0) f\b\b\r",
      "STEP   465 / 1049 (thread    5) f\b\b\r",
      "STEP   466 / 1049 (thread    4) f\b\b\r",
      "STEP   467 / 1049 (thread    2) f\b\b\r",
      "STEP   468 / 1049 (thread    1) f\b\b\r",
      "STEP   469 / 1049 (thread    4) f\b\b\r",
      "STEP   470 / 1049 (thread    3) f\b\b\r",
      "STEP   471 / 1049 (thread    5) f\b\b\r",
      "STEP   472 / 1049 (thread    2) f\b\b\r",
      "STEP   473 / 1049 (thread    3) f\b\b\r",
      "STEP   474 / 1049 (thread    0) f\b\b\r",
      "STEP   475 / 1049 (thread    5) f\b\b\r",
      "STEP   476 / 1049 (thread    1) f\b\b\r",
      "STEP   477 / 1049 (thread    2) f\b\b\r",
      "STEP   478 / 1049 (thread    4) f\b\b\r",
      "STEP   479 / 1049 (thread    3) f\b\b\r",
      "STEP   480 / 1049 (thread    0) f\b\b\r",
      "STEP   481 / 1049 (thread    4) f\b\b\r",
      "STEP   482 / 1049 (thread    5) f\b\b\r",
      "STEP   483 / 1049 (thread    1) f\b\b\r",
      "STEP   484 / 1049 (thread    3) f\b\b\r",
      "STEP   485 / 1049 (thread    0) f\b\b\r",
      "STEP   486 / 1049 (thread    2) f\b\b\r",
      "STEP   487 / 1049 (thread    5) f\b\b\r",
      "STEP   488 / 1049 (thread    2) f\b\b\r",
      "STEP   489 / 1049 (thread    4) f\b\b\r",
      "STEP   490 / 1049 (thread    3) f\b\b\r",
      "STEP   491 / 1049 (thread    0) f\b\b\r",
      "STEP   492 / 1049 (thread    1) f\b\b\r",
      "STEP   493 / 1049 (thread    0) f\b\b\r",
      "STEP   494 / 1049 (thread    5) f\b\b\r",
      "STEP   495 / 1049 (thread    2) f\b\b\r",
      "STEP   496 / 1049 (thread    0) f\b\b\r",
      "STEP   498 / 1049 (thread    4) f\b\b\r",
      "STEP   499 / 1049 (thread    3) f\b\b\r",
      "STEP   500 / 1049 (thread    5) f\b\b\r",
      "STEP   501 / 1049 (thread    3) f\b\b\r",
      "STEP   497 / 1049 (thread    1) f\b\b\r",
      "STEP   601 / 1049 (thread    5) f\b\b\r",
      "STEP   701 / 1049 (thread    0) f\b\b\r",
      "STEP   801 / 1049 (thread    3) f\b\b"
     ]
    },
    {
     "name": "stderr",
     "output_type": "stream",
     "text": [
      "\r",
      "STEP   901 / 1049 (thread    1) f\b\b\n",
      "Reallocating..done. *alloclen = 1861\n",
      "\r",
      "STEP  1001 / 1049 (thread    2) f\b\b\n",
      "done.\n",
      "\n",
      "Making a distance matrix from msa.. \n",
      "\r",
      "    0 / 1050 (thread    0)\r",
      "  100 / 1050 (thread    4)\r",
      "  200 / 1050 (thread    3)\r",
      "  300 / 1050 (thread    1)\r",
      "  400 / 1050 (thread    5)\r",
      "  500 / 1050 (thread    0)\r",
      "  600 / 1050 (thread    3)"
     ]
    },
    {
     "name": "stderr",
     "output_type": "stream",
     "text": [
      "\r",
      "  700 / 1050 (thread    1)\r",
      "  800 / 1050 (thread    2)\r",
      "  900 / 1050 (thread    2)\r",
      " 1000 / 1050 (thread    0)\n",
      "done.\n",
      "\n",
      "Constructing a UPGMA tree (efffree=1) ... \n",
      "\r",
      "    0 / 1050\r",
      "   10 / 1050\r",
      "   20 / 1050\r",
      "   30 / 1050\r",
      "   40 / 1050\r",
      "   50 / 1050\r",
      "   60 / 1050\r",
      "   70 / 1050\r",
      "   80 / 1050\r",
      "   90 / 1050\r",
      "  100 / 1050\r",
      "  110 / 1050\r",
      "  120 / 1050\r",
      "  130 / 1050\r",
      "  140 / 1050\r",
      "  150 / 1050\r",
      "  160 / 1050\r",
      "  170 / 1050\r",
      "  180 / 1050\r",
      "  190 / 1050\r",
      "  200 / 1050\r",
      "  210 / 1050\r",
      "  220 / 1050\r",
      "  230 / 1050\r",
      "  240 / 1050\r",
      "  250 / 1050\r",
      "  260 / 1050\r",
      "  270 / 1050\r",
      "  280 / 1050\r",
      "  290 / 1050\r",
      "  300 / 1050\r",
      "  310 / 1050\r",
      "  320 / 1050\r",
      "  330 / 1050\r",
      "  340 / 1050\r",
      "  350 / 1050\r",
      "  360 / 1050\r",
      "  370 / 1050\r",
      "  380 / 1050\r",
      "  390 / 1050\r",
      "  400 / 1050\r",
      "  410 / 1050\r",
      "  420 / 1050\r",
      "  430 / 1050\r",
      "  440 / 1050\r",
      "  450 / 1050\r",
      "  460 / 1050\r",
      "  470 / 1050\r",
      "  480 / 1050\r",
      "  490 / 1050\r",
      "  500 / 1050\r",
      "  510 / 1050\r",
      "  520 / 1050\r",
      "  530 / 1050\r",
      "  540 / 1050\r",
      "  550 / 1050\r",
      "  560 / 1050\r",
      "  570 / 1050\r",
      "  580 / 1050\r",
      "  590 / 1050\r",
      "  600 / 1050\r",
      "  610 / 1050\r",
      "  620 / 1050\r",
      "  630 / 1050\r",
      "  640 / 1050\r",
      "  650 / 1050\r",
      "  660 / 1050\r",
      "  670 / 1050\r",
      "  680 / 1050\r",
      "  690 / 1050\r",
      "  700 / 1050\r",
      "  710 / 1050\r",
      "  720 / 1050\r",
      "  730 / 1050\r",
      "  740 / 1050\r",
      "  750 / 1050\r",
      "  760 / 1050\r",
      "  770 / 1050\r",
      "  780 / 1050\r",
      "  790 / 1050\r",
      "  800 / 1050\r",
      "  810 / 1050\r",
      "  820 / 1050\r",
      "  830 / 1050\r",
      "  840 / 1050\r",
      "  850 / 1050\r",
      "  860 / 1050\r",
      "  870 / 1050\r",
      "  880 / 1050\r",
      "  890 / 1050\r",
      "  900 / 1050\r",
      "  910 / 1050\r",
      "  920 / 1050\r",
      "  930 / 1050\r",
      "  940 / 1050\r",
      "  950 / 1050\r",
      "  960 / 1050\r",
      "  970 / 1050\r",
      "  980 / 1050\r",
      "  990 / 1050\r",
      " 1000 / 1050\r",
      " 1010 / 1050\r",
      " 1020 / 1050\r",
      " 1030 / 1050\r",
      " 1040 / 1050\n",
      "done.\n",
      "\n",
      "Progressive alignment 2/2... \n",
      "\r",
      "STEP     1 / 1049 (thread    0) f\b\b\r",
      "STEP     2 / 1049 (thread    5) f\b\b\r",
      "STEP     3 / 1049 (thread    1) f\b\b\r",
      "STEP     6 / 1049 (thread    4) f\b\b\r",
      "STEP     4 / 1049 (thread    2) f\b\b\r",
      "STEP     5 / 1049 (thread    3) f\b\b\r",
      "STEP     7 / 1049 (thread    1) f\b\b\r",
      "STEP     8 / 1049 (thread    4) f\b\b\r",
      "STEP     9 / 1049 (thread    0) f\b\b\r",
      "STEP    10 / 1049 (thread    5) f\b\b\r",
      "STEP    11 / 1049 (thread    2) f\b\b\r",
      "STEP    12 / 1049 (thread    3) f\b\b\r",
      "STEP    13 / 1049 (thread    1) f\b\b\r",
      "STEP    14 / 1049 (thread    4) f\b\b\r",
      "STEP    15 / 1049 (thread    0) f\b\b\r",
      "STEP    16 / 1049 (thread    2) f\b\b\r",
      "STEP    17 / 1049 (thread    5) f\b\b\r",
      "STEP    18 / 1049 (thread    3) f\b\b\r",
      "STEP    19 / 1049 (thread    1) f\b\b\r",
      "STEP    20 / 1049 (thread    4) f\b\b\r",
      "STEP    21 / 1049 (thread    0) f\b\b\r",
      "STEP    22 / 1049 (thread    2) f\b\b\r",
      "STEP    23 / 1049 (thread    5) f\b\b\r",
      "STEP    24 / 1049 (thread    3) f\b\b\r",
      "STEP    25 / 1049 (thread    4) f\b\b\r",
      "STEP    26 / 1049 (thread    1) f\b\b\r",
      "STEP    27 / 1049 (thread    0) f\b\b\r",
      "STEP    28 / 1049 (thread    2) f\b\b\r",
      "STEP    29 / 1049 (thread    5) f\b\b\r",
      "STEP    30 / 1049 (thread    3) f\b\b\r",
      "STEP    31 / 1049 (thread    4) f\b\b\r",
      "STEP    32 / 1049 (thread    1) f\b\b\r",
      "STEP    33 / 1049 (thread    0) f\b\b\r",
      "STEP    34 / 1049 (thread    2) f\b\b\r",
      "STEP    35 / 1049 (thread    4) f\b\b\r",
      "STEP    36 / 1049 (thread    0) f\b\b\r",
      "STEP    37 / 1049 (thread    1) f\b\b\r",
      "STEP    38 / 1049 (thread    2) f\b\b\r",
      "STEP    39 / 1049 (thread    5) f\b\b\r",
      "STEP    40 / 1049 (thread    3) f\b\b\r",
      "STEP    41 / 1049 (thread    4) f\b\b\r",
      "STEP    42 / 1049 (thread    0) f\b\b\r",
      "STEP    43 / 1049 (thread    1) f\b\b\r",
      "STEP    44 / 1049 (thread    2) f\b\b\r",
      "STEP    45 / 1049 (thread    3) f\b\b\r",
      "STEP    46 / 1049 (thread    5) f\b\b\r",
      "STEP    47 / 1049 (thread    4) f\b\b\r",
      "STEP    48 / 1049 (thread    0) f\b\b\r",
      "STEP    49 / 1049 (thread    1) f\b\b\r",
      "STEP    50 / 1049 (thread    2) f\b\b\r",
      "STEP    51 / 1049 (thread    3) f\b\b\r",
      "STEP    52 / 1049 (thread    4) f\b\b\r",
      "STEP    53 / 1049 (thread    5) f\b\b\r",
      "STEP    54 / 1049 (thread    0) f\b\b\r",
      "STEP    55 / 1049 (thread    1) f\b\b\r",
      "STEP    56 / 1049 (thread    2) f\b\b\r",
      "STEP    57 / 1049 (thread    3) f\b\b\r",
      "STEP    58 / 1049 (thread    4) f\b\b\r",
      "STEP    59 / 1049 (thread    5) f\b\b\r",
      "STEP    60 / 1049 (thread    0) f\b\b\r",
      "STEP    61 / 1049 (thread    1) f\b\b\r",
      "STEP    62 / 1049 (thread    2) f\b\b\r",
      "STEP    63 / 1049 (thread    3) f\b\b\r",
      "STEP    64 / 1049 (thread    4) f\b\b\r",
      "STEP    65 / 1049 (thread    0) f\b\b\r",
      "STEP    66 / 1049 (thread    1) f\b\b\r",
      "STEP    67 / 1049 (thread    5) f\b\b\r",
      "STEP    68 / 1049 (thread    2) f\b\b\r",
      "STEP    69 / 1049 (thread    3) f\b\b\r",
      "STEP    70 / 1049 (thread    4) f\b\b\r",
      "STEP    71 / 1049 (thread    0) f\b\b\r",
      "STEP    72 / 1049 (thread    1) f\b\b\r",
      "STEP    73 / 1049 (thread    5) f\b\b\r",
      "STEP    74 / 1049 (thread    2) f\b\b\r",
      "STEP    75 / 1049 (thread    3) f\b\b\r",
      "STEP    76 / 1049 (thread    4) f\b\b\r",
      "STEP    77 / 1049 (thread    0) f\b\b\r",
      "STEP    78 / 1049 (thread    1) f\b\b\r",
      "STEP    79 / 1049 (thread    5) f\b\b\r",
      "STEP    80 / 1049 (thread    2) f\b\b\r",
      "STEP    81 / 1049 (thread    3) f\b\b\r",
      "STEP    82 / 1049 (thread    4) f\b\b\r",
      "STEP    83 / 1049 (thread    0) f\b\b\r",
      "STEP    84 / 1049 (thread    1) f\b\b\r",
      "STEP    85 / 1049 (thread    2) f\b\b\r",
      "STEP    86 / 1049 (thread    5) f\b\b\r",
      "STEP    87 / 1049 (thread    3) f\b\b\r",
      "STEP    88 / 1049 (thread    4) f\b\b\r",
      "STEP    89 / 1049 (thread    0) f\b\b\r",
      "STEP    90 / 1049 (thread    1) f\b\b\r",
      "STEP    91 / 1049 (thread    2) f\b\b\r",
      "STEP    92 / 1049 (thread    5) f\b\b\r",
      "STEP    93 / 1049 (thread    3) f\b\b\r",
      "STEP    94 / 1049 (thread    4) f\b\b\r",
      "STEP    95 / 1049 (thread    1) f\b\b\r",
      "STEP    96 / 1049 (thread    5) f\b\b\r",
      "STEP    99 / 1049 (thread    3) f\b\b\r",
      "STEP   100 / 1049 (thread    4) f\b\b\r",
      "STEP    97 / 1049 (thread    2) f\b\b\r",
      "STEP   101 / 1049 (thread    3) f\b\b\r",
      "STEP   102 / 1049 (thread    4) f\b\b\r",
      "STEP   103 / 1049 (thread    1) f\b\b\r",
      "STEP   104 / 1049 (thread    5) f\b\b\r",
      "STEP    98 / 1049 (thread    0) f\b\b\r",
      "STEP   105 / 1049 (thread    3) f\b\b\r",
      "STEP   106 / 1049 (thread    4) f\b\b\r",
      "STEP   107 / 1049 (thread    2) f\b\b\r",
      "STEP   108 / 1049 (thread    1) f\b\b\r",
      "STEP   109 / 1049 (thread    5) f\b\b\r",
      "STEP   110 / 1049 (thread    3) f\b\b\r",
      "STEP   111 / 1049 (thread    1) f\b\b\r",
      "STEP   112 / 1049 (thread    0) f\b\b\r",
      "STEP   113 / 1049 (thread    5) f\b\b\r",
      "STEP   114 / 1049 (thread    4) f\b\b\r",
      "STEP   115 / 1049 (thread    2) f\b\b\r",
      "STEP   116 / 1049 (thread    5) f\b\b\r",
      "STEP   117 / 1049 (thread    3) f\b\b\r",
      "STEP   118 / 1049 (thread    4) f\b\b\r",
      "STEP   119 / 1049 (thread    2) f\b\b\r",
      "STEP   120 / 1049 (thread    5) f\b\b\r",
      "STEP   121 / 1049 (thread    1) f\b\b\r",
      "STEP   122 / 1049 (thread    0) f\b\b\r",
      "STEP   123 / 1049 (thread    3) f\b\b\r",
      "STEP   124 / 1049 (thread    4) f\b\b\r",
      "STEP   125 / 1049 (thread    2) f\b\b\r",
      "STEP   126 / 1049 (thread    5) f\b\b\r",
      "STEP   127 / 1049 (thread    1) f\b\b\r",
      "STEP   128 / 1049 (thread    0) f\b\b\r",
      "STEP   129 / 1049 (thread    3) f\b\b\r",
      "STEP   130 / 1049 (thread    4) f\b\b\r",
      "STEP   131 / 1049 (thread    2) f\b\b\r",
      "STEP   132 / 1049 (thread    1) f\b\b\r",
      "STEP   133 / 1049 (thread    5) f\b\b\r",
      "STEP   134 / 1049 (thread    0) f\b\b\r",
      "STEP   135 / 1049 (thread    3) f\b\b\r",
      "STEP   136 / 1049 (thread    4) f\b\b\r",
      "STEP   137 / 1049 (thread    2) f\b\b\r",
      "STEP   138 / 1049 (thread    0) f\b\b\r",
      "STEP   139 / 1049 (thread    5) f\b\b\r",
      "STEP   140 / 1049 (thread    3) f\b\b\r",
      "STEP   141 / 1049 (thread    4) f\b\b\r",
      "STEP   142 / 1049 (thread    2) f\b\b\r",
      "STEP   143 / 1049 (thread    0) f\b\b\r",
      "STEP   144 / 1049 (thread    1) f\b\b\r",
      "STEP   145 / 1049 (thread    5) f\b\b\r",
      "STEP   146 / 1049 (thread    4) f\b\b\r",
      "STEP   147 / 1049 (thread    2) f\b\b\r",
      "STEP   148 / 1049 (thread    0) f\b\b\r",
      "STEP   149 / 1049 (thread    1) f\b\b\r",
      "STEP   150 / 1049 (thread    3) f\b\b\r",
      "STEP   151 / 1049 (thread    5) f\b\b\r",
      "STEP   152 / 1049 (thread    4) f\b\b\r",
      "STEP   153 / 1049 (thread    2) f\b\b\r",
      "STEP   154 / 1049 (thread    0) f\b\b\r",
      "STEP   155 / 1049 (thread    1) f\b\b\r",
      "STEP   156 / 1049 (thread    3) f\b\b\r",
      "STEP   157 / 1049 (thread    5) f\b\b\r",
      "STEP   158 / 1049 (thread    4) f\b\b\r",
      "STEP   159 / 1049 (thread    2) f\b\b\r",
      "STEP   161 / 1049 (thread    0) f\b\b\r",
      "STEP   162 / 1049 (thread    3) f\b\b\r",
      "STEP   163 / 1049 (thread    5) f\b\b\r",
      "STEP   164 / 1049 (thread    4) f\b\b\r",
      "STEP   165 / 1049 (thread    2) f\b\b\r",
      "STEP   160 / 1049 (thread    1) f\b\b\r",
      "STEP   166 / 1049 (thread    0) f\b\b\r",
      "STEP   167 / 1049 (thread    3) f\b\b\r",
      "STEP   168 / 1049 (thread    4) f\b\b\r",
      "STEP   169 / 1049 (thread    2) f\b\b\r",
      "STEP   170 / 1049 (thread    0) f\b\b\r",
      "STEP   171 / 1049 (thread    5) f\b\b\r",
      "STEP   172 / 1049 (thread    3) f\b\b\r",
      "STEP   173 / 1049 (thread    4) f\b\b\r",
      "STEP   174 / 1049 (thread    1) f\b\b\r",
      "STEP   175 / 1049 (thread    5) f\b\b\r",
      "STEP   176 / 1049 (thread    3) f\b\b\r",
      "STEP   177 / 1049 (thread    4) f\b\b\r",
      "STEP   178 / 1049 (thread    1) f\b\b\r",
      "STEP   179 / 1049 (thread    2) f\b\b\r",
      "STEP   180 / 1049 (thread    0) f\b\b\r",
      "STEP   181 / 1049 (thread    3) f\b\b\r",
      "STEP   182 / 1049 (thread    5) f\b\b\r",
      "STEP   183 / 1049 (thread    4) f\b\b\r",
      "STEP   184 / 1049 (thread    1) f\b\b\r",
      "STEP   185 / 1049 (thread    2) f\b\b\r",
      "STEP   186 / 1049 (thread    0) f\b\b\r",
      "STEP   187 / 1049 (thread    3) f\b\b\r",
      "STEP   188 / 1049 (thread    4) f\b\b\r",
      "STEP   189 / 1049 (thread    5) f\b\b\r",
      "STEP   190 / 1049 (thread    1) f\b\b\r",
      "STEP   191 / 1049 (thread    2) f\b\b\r",
      "STEP   192 / 1049 (thread    0) f\b\b\r",
      "STEP   193 / 1049 (thread    3) f\b\b\r",
      "STEP   194 / 1049 (thread    4) f\b\b\r",
      "STEP   195 / 1049 (thread    5) f\b\b\r",
      "STEP   196 / 1049 (thread    1) f\b\b\r",
      "STEP   197 / 1049 (thread    2) f\b\b\r",
      "STEP   198 / 1049 (thread    0) f\b\b\r",
      "STEP   199 / 1049 (thread    3) f\b\b\r",
      "STEP   200 / 1049 (thread    4) f\b\b\r",
      "STEP   201 / 1049 (thread    5) f\b\b\r",
      "STEP   202 / 1049 (thread    1) f\b\b\r",
      "STEP   203 / 1049 (thread    2) f\b\b\r",
      "STEP   204 / 1049 (thread    0) f\b\b\r",
      "STEP   205 / 1049 (thread    3) f\b\b\r",
      "STEP   206 / 1049 (thread    4) f\b\b\r",
      "STEP   207 / 1049 (thread    5) f\b\b\r",
      "STEP   208 / 1049 (thread    1) f\b\b\r",
      "STEP   209 / 1049 (thread    2) f\b\b\r",
      "STEP   210 / 1049 (thread    4) f\b\b\r",
      "STEP   211 / 1049 (thread    5) f\b\b\r",
      "STEP   212 / 1049 (thread    1) f\b\b\r",
      "STEP   213 / 1049 (thread    0) f\b\b\r",
      "STEP   214 / 1049 (thread    3) f\b\b\r",
      "STEP   215 / 1049 (thread    4) f\b\b\r",
      "STEP   216 / 1049 (thread    5) f\b\b\r",
      "STEP   217 / 1049 (thread    1) f\b\b\r",
      "STEP   218 / 1049 (thread    2) f\b\b\r",
      "STEP   219 / 1049 (thread    0) f\b\b\r",
      "STEP   220 / 1049 (thread    3) f\b\b\r",
      "STEP   221 / 1049 (thread    4) f\b\b\r",
      "STEP   222 / 1049 (thread    1) f\b\b\r",
      "STEP   223 / 1049 (thread    2) f\b\b\r",
      "STEP   224 / 1049 (thread    0) f\b\b\r",
      "STEP   225 / 1049 (thread    3) f\b\b\r",
      "STEP   226 / 1049 (thread    4) f\b\b\r",
      "STEP   227 / 1049 (thread    1) f\b\b\r",
      "STEP   228 / 1049 (thread    2) f\b\b\r",
      "STEP   229 / 1049 (thread    5) f\b\b\r",
      "STEP   230 / 1049 (thread    0) f\b\b\r",
      "STEP   231 / 1049 (thread    3) f\b\b\r",
      "STEP   232 / 1049 (thread    4) f\b\b\r",
      "STEP   233 / 1049 (thread    5) f\b\b\r",
      "STEP   234 / 1049 (thread    0) f\b\b\r",
      "STEP   235 / 1049 (thread    3) f\b\b\r",
      "STEP   236 / 1049 (thread    1) f\b\b\r",
      "STEP   237 / 1049 (thread    5) f\b\b\r",
      "STEP   238 / 1049 (thread    2) f\b\b\r",
      "STEP   239 / 1049 (thread    0) f\b\b\r",
      "STEP   240 / 1049 (thread    3) f\b\b\r",
      "STEP   241 / 1049 (thread    4) f\b\b\r",
      "STEP   242 / 1049 (thread    1) f\b\b\r",
      "STEP   243 / 1049 (thread    0) f\b\b\r",
      "STEP   244 / 1049 (thread    3) f\b\b\r",
      "STEP   245 / 1049 (thread    5) f\b\b\r",
      "STEP   246 / 1049 (thread    2) f\b\b\r",
      "STEP   247 / 1049 (thread    4) f\b\b\r",
      "STEP   248 / 1049 (thread    1) f\b\b\r",
      "STEP   249 / 1049 (thread    0) f\b\b\r",
      "STEP   250 / 1049 (thread    3) f\b\b\r",
      "STEP   251 / 1049 (thread    5) f\b\b\r",
      "STEP   252 / 1049 (thread    2) f\b\b\r",
      "STEP   253 / 1049 (thread    4) f\b\b\r",
      "STEP   254 / 1049 (thread    1) f\b\b\r",
      "STEP   255 / 1049 (thread    0) f\b\b\r",
      "STEP   256 / 1049 (thread    3) f\b\b\r",
      "STEP   257 / 1049 (thread    2) f\b\b\r",
      "STEP   258 / 1049 (thread    5) f\b\b\r",
      "STEP   260 / 1049 (thread    1) f\b\b\r",
      "STEP   261 / 1049 (thread    0) f\b\b\r",
      "STEP   262 / 1049 (thread    3) f\b\b\r",
      "STEP   263 / 1049 (thread    1) f\b\b\r",
      "STEP   264 / 1049 (thread    0) f\b\b\r",
      "STEP   265 / 1049 (thread    2) f\b\b\r",
      "STEP   259 / 1049 (thread    4) f\b\b\r",
      "STEP   266 / 1049 (thread    5) f\b\b\r",
      "STEP   267 / 1049 (thread    1) f\b\b\r",
      "STEP   268 / 1049 (thread    0) f\b\b\r",
      "STEP   269 / 1049 (thread    5) f\b\b\r",
      "STEP   270 / 1049 (thread    3) f\b\b\r",
      "STEP   271 / 1049 (thread    1) f\b\b\r",
      "STEP   272 / 1049 (thread    0) f\b\b\r",
      "STEP   273 / 1049 (thread    4) f\b\b\r",
      "STEP   274 / 1049 (thread    5) f\b\b\r",
      "STEP   275 / 1049 (thread    2) f\b\b\r",
      "STEP   276 / 1049 (thread    3) f\b\b\r",
      "STEP   277 / 1049 (thread    1) f\b\b\r",
      "STEP   278 / 1049 (thread    0) f\b\b\r",
      "STEP   279 / 1049 (thread    4) f\b\b\r",
      "STEP   280 / 1049 (thread    2) f\b\b\r",
      "STEP   281 / 1049 (thread    5) f\b\b\r",
      "STEP   282 / 1049 (thread    3) f\b\b\r",
      "STEP   283 / 1049 (thread    1) f\b\b\r",
      "STEP   285 / 1049 (thread    3) f\b\b\r",
      "STEP   286 / 1049 (thread    0) f\b\b\r",
      "STEP   287 / 1049 (thread    3) f\b\b\r",
      "STEP   288 / 1049 (thread    2) f\b\b\r",
      "STEP   284 / 1049 (thread    4) f\b\b\r",
      "STEP   289 / 1049 (thread    5) f\b\b\r",
      "STEP   290 / 1049 (thread    1) f\b\b\r",
      "STEP   291 / 1049 (thread    0) f\b\b\r",
      "STEP   292 / 1049 (thread    5) f\b\b\r",
      "STEP   293 / 1049 (thread    3) f\b\b\r",
      "STEP   294 / 1049 (thread    2) f\b\b\r",
      "STEP   295 / 1049 (thread    4) f\b\b\r",
      "STEP   296 / 1049 (thread    0) f\b\b\r",
      "STEP   297 / 1049 (thread    5) f\b\b\r",
      "STEP   298 / 1049 (thread    3) f\b\b\r",
      "STEP   299 / 1049 (thread    1) f\b\b\r",
      "STEP   300 / 1049 (thread    2) f\b\b\r",
      "STEP   301 / 1049 (thread    4) f\b\b\r",
      "STEP   302 / 1049 (thread    0) f\b\b\r",
      "STEP   303 / 1049 (thread    3) f\b\b\r",
      "STEP   304 / 1049 (thread    5) f\b\b\r",
      "STEP   305 / 1049 (thread    1) f\b\b\r",
      "STEP   306 / 1049 (thread    2) f\b\b\r",
      "STEP   307 / 1049 (thread    4) f\b\b\r",
      "STEP   308 / 1049 (thread    0) f\b\b\r",
      "STEP   309 / 1049 (thread    3) f\b\b\r",
      "STEP   310 / 1049 (thread    1) f\b\b\r",
      "STEP   311 / 1049 (thread    5) f\b\b\r",
      "STEP   312 / 1049 (thread    2) f\b\b\r",
      "STEP   314 / 1049 (thread    0) f\b\b\r",
      "STEP   315 / 1049 (thread    0) f\b\b\r",
      "STEP   316 / 1049 (thread    3) f\b\b\r",
      "STEP   317 / 1049 (thread    5) f\b\b\r",
      "STEP   318 / 1049 (thread    1) f\b\b\r",
      "STEP   313 / 1049 (thread    4) f\b\b\r",
      "STEP   319 / 1049 (thread    2) f\b\b\r",
      "STEP   320 / 1049 (thread    0) f\b\b\r",
      "STEP   321 / 1049 (thread    5) f\b\b\r",
      "STEP   322 / 1049 (thread    1) f\b\b\r",
      "STEP   323 / 1049 (thread    3) f\b\b\r",
      "STEP   324 / 1049 (thread    1) f\b\b\r",
      "STEP   325 / 1049 (thread    4) f\b\b\r",
      "STEP   326 / 1049 (thread    0) f\b\b\r",
      "STEP   327 / 1049 (thread    3) f\b\b\r",
      "STEP   328 / 1049 (thread    2) f\b\b\r",
      "STEP   329 / 1049 (thread    5) f\b\b\r",
      "STEP   330 / 1049 (thread    4) f\b\b\r",
      "STEP   331 / 1049 (thread    1) f\b\b\r",
      "STEP   332 / 1049 (thread    3) f\b\b\r",
      "STEP   333 / 1049 (thread    0) f\b\b\r",
      "STEP   334 / 1049 (thread    4) f\b\b\r",
      "STEP   335 / 1049 (thread    5) f\b\b\r",
      "STEP   336 / 1049 (thread    2) f\b\b\r",
      "STEP   337 / 1049 (thread    3) f\b\b\r",
      "STEP   338 / 1049 (thread    0) f\b\b\r",
      "STEP   339 / 1049 (thread    1) f\b\b\r",
      "STEP   340 / 1049 (thread    4) f\b\b\r",
      "STEP   341 / 1049 (thread    5) f\b\b\r",
      "STEP   342 / 1049 (thread    2) f\b\b\r",
      "STEP   343 / 1049 (thread    0) f\b\b\r",
      "STEP   344 / 1049 (thread    2)\r",
      "STEP   345 / 1049 (thread    5) f\b\b f\b\b\r",
      "STEP   346 / 1049 (thread    0) f\b\b\r",
      "STEP   347 / 1049 (thread    3) f\b\b\r",
      "STEP   348 / 1049 (thread    2) f\b\b\r",
      "STEP   349 / 1049 (thread    5) f\b\b\r",
      "STEP   350 / 1049 (thread    1) f\b\b\r",
      "STEP   351 / 1049 (thread    3) f\b\b\r",
      "STEP   352 / 1049 (thread    4) f\b\b\r",
      "STEP   353 / 1049 (thread    0) f\b\b\r",
      "STEP   354 / 1049 (thread    2) f\b\b\r",
      "STEP   355 / 1049 (thread    5) f\b\b\r",
      "STEP   356 / 1049 (thread    1) f\b\b\r",
      "STEP   357 / 1049 (thread    3) f\b\b\r",
      "STEP   358 / 1049 (thread    4) f\b\b\r",
      "STEP   359 / 1049 (thread    0) f\b\b\r",
      "STEP   360 / 1049 (thread    5) f\b\b\r",
      "STEP   361 / 1049 (thread    2) f\b\b\r",
      "STEP   362 / 1049 (thread    1) f\b\b\r",
      "STEP   363 / 1049 (thread    3) f\b\b\r",
      "STEP   364 / 1049 (thread    4) f\b\b\r",
      "STEP   365 / 1049 (thread    0) f\b\b\r",
      "STEP   366 / 1049 (thread    5) f\b\b\r",
      "STEP   367 / 1049 (thread    2) f\b\b\r",
      "STEP   368 / 1049 (thread    4) f\b\b\r",
      "STEP   369 / 1049 (thread    3) f\b\b\r",
      "STEP   370 / 1049 (thread    1) f\b\b\r",
      "STEP   371 / 1049 (thread    0) f\b\b\r",
      "STEP   372 / 1049 (thread    3) f\b\b\r",
      "STEP   373 / 1049 (thread    5) f\b\b\r",
      "STEP   374 / 1049 (thread    2) f\b\b\r",
      "STEP   375 / 1049 (thread    4) f\b\b\r",
      "STEP   376 / 1049 (thread    1) f\b\b\r",
      "STEP   377 / 1049 (thread    0) f\b\b\r",
      "STEP   378 / 1049 (thread    3) f\b\b\r",
      "STEP   379 / 1049 (thread    5) f\b\b\r",
      "STEP   380 / 1049 (thread    1) f\b\b\r",
      "STEP   381 / 1049 (thread    0) f\b\b\r",
      "STEP   382 / 1049 (thread    3) f\b\b\r",
      "STEP   383 / 1049 (thread    4) f\b\b\r",
      "STEP   384 / 1049 (thread    2) f\b\b\r",
      "STEP   385 / 1049 (thread    5) f\b\b\r",
      "STEP   386 / 1049 (thread    0) f\b\b\r",
      "STEP   387 / 1049 (thread    3) f\b\b\r",
      "STEP   388 / 1049 (thread    4) f\b\b\r",
      "STEP   389 / 1049 (thread    2) f\b\b\r",
      "STEP   390 / 1049 (thread    1) f\b\b\r",
      "STEP   391 / 1049 (thread    5) f\b\b\r",
      "STEP   392 / 1049 (thread    0) f\b\b\r",
      "STEP   393 / 1049 (thread    3) f\b\b\r",
      "STEP   394 / 1049 (thread    4) f\b\b\r",
      "STEP   395 / 1049 (thread    2) f\b\b\r",
      "STEP   396 / 1049 (thread    1) f\b\b\r",
      "STEP   397 / 1049 (thread    5) f\b\b\r",
      "STEP   398 / 1049 (thread    0) f\b\b\r",
      "STEP   399 / 1049 (thread    3) f\b\b\r",
      "STEP   400 / 1049 (thread    4) f\b\b\r",
      "STEP   401 / 1049 (thread    2) f\b\b\r",
      "STEP   402 / 1049 (thread    1) f\b\b\r",
      "STEP   403 / 1049 (thread    3) f\b\b\r",
      "STEP   404 / 1049 (thread    4) f\b\b\r",
      "STEP   405 / 1049 (thread    0) f\b\b\r",
      "STEP   406 / 1049 (thread    5) f\b\b\r",
      "STEP   407 / 1049 (thread    1) f\b\b\r",
      "STEP   408 / 1049 (thread    3) f\b\b\r",
      "STEP   409 / 1049 (thread    5) f\b\b\r",
      "STEP   410 / 1049 (thread    1) f\b\b\r",
      "STEP   411 / 1049 (thread    2) f\b\b\r",
      "STEP   412 / 1049 (thread    3) f\b\b\r",
      "STEP   413 / 1049 (thread    4) f\b\b\r",
      "STEP   414 / 1049 (thread    0) f\b\b\r",
      "STEP   415 / 1049 (thread    5) f\b\b\r",
      "STEP   416 / 1049 (thread    1) f\b\b\r",
      "STEP   417 / 1049 (thread    2) f\b\b\r",
      "STEP   418 / 1049 (thread    3) f\b\b\r",
      "STEP   419 / 1049 (thread    4) f\b\b\r",
      "STEP   420 / 1049 (thread    0) f\b\b\r",
      "STEP   421 / 1049 (thread    4) f\b\b\r",
      "STEP   422 / 1049 (thread    5) f\b\b\r",
      "STEP   423 / 1049 (thread    2) f\b\b\r",
      "STEP   424 / 1049 (thread    1) f\b\b\r",
      "STEP   425 / 1049 (thread    3) f\b\b\r",
      "STEP   426 / 1049 (thread    0) f\b\b\r",
      "STEP   427 / 1049 (thread    5) f\b\b\r",
      "STEP   428 / 1049 (thread    4) f\b\b\r",
      "STEP   429 / 1049 (thread    2) f\b\b\r",
      "STEP   430 / 1049 (thread    1) f\b\b\r",
      "STEP   431 / 1049 (thread    3) f\b\b\r",
      "STEP   432 / 1049 (thread    0) f\b\b\r",
      "STEP   433 / 1049 (thread    5) f\b\b\r",
      "STEP   434 / 1049 (thread    1) f\b\b\r",
      "STEP   435 / 1049 (thread    2) f\b\b\r",
      "STEP   436 / 1049 (thread    5) f\b\b\r",
      "STEP   437 / 1049 (thread    4) f\b\b\r",
      "STEP   438 / 1049 (thread    3) f\b\b\r",
      "STEP   439 / 1049 (thread    0) f\b\b\r",
      "STEP   440 / 1049 (thread    1) f\b\b\r",
      "STEP   441 / 1049 (thread    2) f\b\b\r",
      "STEP   442 / 1049 (thread    5) f\b\b\r",
      "STEP   443 / 1049 (thread    4) f\b\b\r",
      "STEP   444 / 1049 (thread    5) f\b\b\r",
      "STEP   445 / 1049 (thread    1) f\b\b\r",
      "STEP   447 / 1049 (thread    4) f\b\b\r",
      "STEP   448 / 1049 (thread    3) f\b\b\r",
      "STEP   449 / 1049 (thread    0) f\b\b\r",
      "STEP   446 / 1049 (thread    2) f\b\b\r",
      "STEP   450 / 1049 (thread    4) f\b\b\r",
      "STEP   451 / 1049 (thread    5) f\b\b\r",
      "STEP   452 / 1049 (thread    1) f\b\b\r",
      "STEP   453 / 1049 (thread    5) f\b\b\r",
      "STEP   454 / 1049 (thread    0) f\b\b\r",
      "STEP   455 / 1049 (thread    3) f\b\b\r",
      "STEP   456 / 1049 (thread    2) f\b\b\r",
      "STEP   457 / 1049 (thread    3) f\b\b\r",
      "STEP   458 / 1049 (thread    5) f\b\b\r",
      "STEP   459 / 1049 (thread    4) f\b\b\r",
      "STEP   460 / 1049 (thread    1) f\b\b\r",
      "STEP   461 / 1049 (thread    5) f\b\b\r",
      "STEP   462 / 1049 (thread    4) f\b\b\r",
      "STEP   463 / 1049 (thread    2) f\b\b\r",
      "STEP   464 / 1049 (thread    0) f\b\b\r",
      "STEP   465 / 1049 (thread    2) f\b\b\r",
      "STEP   466 / 1049 (thread    3) f\b\b\r",
      "STEP   467 / 1049 (thread    5) f\b\b\r",
      "STEP   468 / 1049 (thread    4) f\b\b\r",
      "STEP   469 / 1049 (thread    1) f\b\b\r",
      "STEP   470 / 1049 (thread    0) f\b\b\r",
      "STEP   471 / 1049 (thread    2) f\b\b\r",
      "STEP   472 / 1049 (thread    3) f\b\b\r",
      "STEP   473 / 1049 (thread    1) f\b\b\r",
      "STEP   474 / 1049 (thread    4) f\b\b\r",
      "STEP   475 / 1049 (thread    5) f\b\b\r",
      "STEP   476 / 1049 (thread    0) f\b\b\r",
      "STEP   477 / 1049 (thread    1) f\b\b\r",
      "STEP   478 / 1049 (thread    2) f\b\b\r",
      "STEP   479 / 1049 (thread    3) f\b\b\r",
      "STEP   480 / 1049 (thread    0) f\b\b\r",
      "STEP   481 / 1049 (thread    1) f\b\b\r",
      "STEP   482 / 1049 (thread    3) f\b\b\r",
      "STEP   483 / 1049 (thread    4) f\b\b\r",
      "STEP   484 / 1049 (thread    5) f\b\b\r",
      "STEP   485 / 1049 (thread    1) f\b\b\r",
      "STEP   486 / 1049 (thread    3) f\b\b\r",
      "STEP   487 / 1049 (thread    2) f\b\b\r",
      "STEP   488 / 1049 (thread    0) f\b\b\r",
      "STEP   489 / 1049 (thread    4) f\b\b\r",
      "STEP   490 / 1049 (thread    5) f\b\b\r",
      "STEP   491 / 1049 (thread    1) f\b\b\r",
      "STEP   492 / 1049 (thread    3) f\b\b\r",
      "STEP   493 / 1049 (thread    2) f\b\b\r",
      "STEP   494 / 1049 (thread    0) f\b\b\r",
      "STEP   495 / 1049 (thread    4) f\b\b\r",
      "STEP   496 / 1049 (thread    5) f\b\b\r",
      "STEP   497 / 1049 (thread    1) f\b\b\r",
      "STEP   498 / 1049 (thread    2) f\b\b\r",
      "STEP   499 / 1049 (thread    3) f\b\b\r",
      "STEP   500 / 1049 (thread    0) f\b\b\r",
      "STEP   501 / 1049 (thread    2) f\b\b\r",
      "STEP   601 / 1049 (thread    1) f\b\b\r",
      "STEP   701 / 1049 (thread    3) f\b\b\r",
      "STEP   801 / 1049 (thread    0) f\b\b\r",
      "STEP   901 / 1049 (thread    0) f\b\b\n",
      "Reallocating..done. *alloclen = 1867\n",
      "\r",
      "STEP  1001 / 1049 (thread    0) d\b\b h"
     ]
    },
    {
     "name": "stderr",
     "output_type": "stream",
     "text": [
      "\n",
      "done.\n",
      "\n",
      "disttbfast (nuc) Version 7.520\n",
      "alg=A, model=DNA200 (2), 1.53 (4.59), -0.00 (-0.00), noshift, amax=0.0\n",
      "6 thread(s)\n",
      "\n",
      "\n",
      "Strategy:\n",
      " FFT-NS-2 (Fast but rough)\n",
      " Progressive method (guide trees were built 2 times.)\n",
      "\n",
      "If unsure which option to use, try 'mafft --auto input > output'.\n",
      "For more information, see 'mafft --help', 'mafft --man' and the mafft page.\n",
      "\n",
      "The default gap scoring scheme has been changed in version 7.110 (2013 Oct).\n",
      "It tends to insert more gaps into gap-rich regions than previous versions.\n",
      "To disable this change, add the --leavegappyregion option.\n",
      "\n"
     ]
    },
    {
     "name": "stdout",
     "output_type": "stream",
     "text": [
      "Running external command line application. This may print messages to stdout and/or stderr.\n",
      "The command being run is below. This command cannot be manually re-run as it will depend on temporary files that no longer exist.\n",
      "\n",
      "Command: FastTreeMP -quote -nt /tmp/qiime2/lauro/data/73830551-159e-412c-ae9c-d27b5186f42d/data/aligned-dna-sequences.fasta\n",
      "\n"
     ]
    },
    {
     "name": "stderr",
     "output_type": "stream",
     "text": [
      "FastTree Version 2.1.11 Double precision (No SSE3), OpenMP (6 threads)\n",
      "Alignment: /tmp/qiime2/lauro/data/73830551-159e-412c-ae9c-d27b5186f42d/data/aligned-dna-sequences.fasta\n",
      "Nucleotide distances: Jukes-Cantor Joins: balanced Support: SH-like 1000\n",
      "Search: Normal +NNI +SPR (2 rounds range 10) +ML-NNI opt-each=1\n",
      "TopHits: 1.00*sqrtN close=default refresh=0.80\n",
      "ML Model: Jukes-Cantor, CAT approximation with 20 rate categories\n",
      "      0.10 seconds: Joined    200 of   1016\n"
     ]
    },
    {
     "name": "stderr",
     "output_type": "stream",
     "text": [
      "      0.21 seconds: Joined    500 of   1016\n",
      "      0.33 seconds: Joined    800 of   1016\n",
      "Initial topology in 0.40 seconds\n",
      "Refining topology: 40 rounds ME-NNIs, 2 rounds ME-SPRs, 20 rounds ML-NNIs\n"
     ]
    },
    {
     "name": "stderr",
     "output_type": "stream",
     "text": [
      "      0.43 seconds: ME NNI round 2 of 40, 701 of 1017 splits, 70 changes (max delta 0.015)\n",
      "      0.55 seconds: SPR round   1 of   2, 201 of 2036 nodes\n"
     ]
    },
    {
     "name": "stderr",
     "output_type": "stream",
     "text": [
      "      0.65 seconds: SPR round   1 of   2, 501 of 2036 nodes\n",
      "      0.79 seconds: SPR round   1 of   2, 901 of 2036 nodes\n"
     ]
    },
    {
     "name": "stderr",
     "output_type": "stream",
     "text": [
      "      0.92 seconds: SPR round   1 of   2, 1201 of 2036 nodes\n",
      "      1.05 seconds: SPR round   1 of   2, 1501 of 2036 nodes\n"
     ]
    },
    {
     "name": "stderr",
     "output_type": "stream",
     "text": [
      "      1.18 seconds: SPR round   1 of   2, 1901 of 2036 nodes\n",
      "      1.28 seconds: ME NNI round 15 of 40, 901 of 1017 splits, 4 changes (max delta 0.001)\n"
     ]
    },
    {
     "name": "stderr",
     "output_type": "stream",
     "text": [
      "      1.39 seconds: SPR round   2 of   2, 301 of 2036 nodes\n",
      "      1.49 seconds: SPR round   2 of   2, 601 of 2036 nodes\n"
     ]
    },
    {
     "name": "stderr",
     "output_type": "stream",
     "text": [
      "      1.60 seconds: SPR round   2 of   2, 901 of 2036 nodes\n",
      "      1.72 seconds: SPR round   2 of   2, 1201 of 2036 nodes\n"
     ]
    },
    {
     "name": "stderr",
     "output_type": "stream",
     "text": [
      "      1.85 seconds: SPR round   2 of   2, 1501 of 2036 nodes\n",
      "      1.98 seconds: SPR round   2 of   2, 1901 of 2036 nodes\n"
     ]
    },
    {
     "name": "stderr",
     "output_type": "stream",
     "text": [
      "Total branch-length 22.441 after 2.09 sec\n",
      "      2.09 seconds: ML Lengths 1 of 1017 splits\n",
      "      2.20 seconds: ML Lengths 701 of 1017 splits\n"
     ]
    },
    {
     "name": "stderr",
     "output_type": "stream",
     "text": [
      "      2.30 seconds: ML NNI round 1 of 20, 201 of 1017 splits, 33 changes (max delta 9.552)\n",
      "      2.41 seconds: ML NNI round 1 of 20, 601 of 1017 splits, 90 changes (max delta 9.552)\n"
     ]
    },
    {
     "name": "stderr",
     "output_type": "stream",
     "text": [
      "      2.51 seconds: ML NNI round 1 of 20, 1001 of 1017 splits, 154 changes (max delta 14.799)\n",
      "ML-NNI round 1: LogLk = -58583.769 NNIs 159 max delta 14.80 Time 2.53\n",
      "      2.62 seconds: Site likelihoods with rate category 14 of 20\n",
      "Switched to using 20 rate categories (CAT approximation)\n",
      "Rate categories were divided by 1.119 so that average rate = 1.0\n",
      "CAT-based log-likelihoods may not be comparable across runs\n",
      "Use -gamma for approximate but comparable Gamma(20) log-likelihoods\n"
     ]
    },
    {
     "name": "stderr",
     "output_type": "stream",
     "text": [
      "      2.72 seconds: ML NNI round 2 of 20, 201 of 1017 splits, 13 changes (max delta 4.359)\n",
      "      2.83 seconds: ML NNI round 2 of 20, 601 of 1017 splits, 51 changes (max delta 5.072)\n"
     ]
    },
    {
     "name": "stderr",
     "output_type": "stream",
     "text": [
      "      2.94 seconds: ML NNI round 2 of 20, 1001 of 1017 splits, 88 changes (max delta 7.118)\n",
      "ML-NNI round 2: LogLk = -48717.139 NNIs 89 max delta 7.12 Time 2.95\n",
      "      3.06 seconds: ML NNI round 3 of 20, 401 of 1017 splits, 24 changes (max delta 6.925)\n",
      "ML-NNI round 3: LogLk = -48636.798 NNIs 46 max delta 6.93 Time 3.14\n"
     ]
    },
    {
     "name": "stderr",
     "output_type": "stream",
     "text": [
      "      3.16 seconds: ML NNI round 4 of 20, 101 of 1017 splits, 8 changes (max delta 2.030)\n",
      "ML-NNI round 4: LogLk = -48606.462 NNIs 17 max delta 13.30 Time 3.26\n",
      "      3.28 seconds: ML NNI round 5 of 20, 101 of 1017 splits, 2 changes (max delta 2.853)\n",
      "ML-NNI round 5: LogLk = -48598.566 NNIs 3 max delta 2.85 Time 3.33\n",
      "ML-NNI round 6: LogLk = -48597.983 NNIs 0 max delta 0.00 Time 3.37\n",
      "Turning off heuristics for final round of ML NNIs (converged)\n"
     ]
    },
    {
     "name": "stderr",
     "output_type": "stream",
     "text": [
      "      3.39 seconds: ML NNI round 7 of 20, 101 of 1017 splits, 1 changes (max delta 0.000)\n",
      "      3.49 seconds: ML NNI round 7 of 20, 501 of 1017 splits, 2 changes (max delta 1.789)\n"
     ]
    },
    {
     "name": "stderr",
     "output_type": "stream",
     "text": [
      "      3.60 seconds: ML NNI round 7 of 20, 901 of 1017 splits, 4 changes (max delta 1.789)\n",
      "ML-NNI round 7: LogLk = -48590.888 NNIs 5 max delta 1.79 Time 3.64 (final)\n",
      "      3.71 seconds: ML Lengths 601 of 1017 splits\n",
      "Optimize all lengths: LogLk = -48590.023 Time 3.77\n"
     ]
    },
    {
     "name": "stderr",
     "output_type": "stream",
     "text": [
      "      3.84 seconds: ML split tests for    100 of   1016 internal splits\n",
      "      3.98 seconds: ML split tests for    300 of   1016 internal splits\n"
     ]
    },
    {
     "name": "stderr",
     "output_type": "stream",
     "text": [
      "      4.12 seconds: ML split tests for    500 of   1016 internal splits\n",
      "      4.26 seconds: ML split tests for    700 of   1016 internal splits\n"
     ]
    },
    {
     "name": "stderr",
     "output_type": "stream",
     "text": [
      "      4.40 seconds: ML split tests for    900 of   1016 internal splits\n",
      "Total time: 4.49 seconds Unique: 1019/1050 Bad splits: 0/1016\n"
     ]
    }
   ],
   "source": [
    "mafft_alignment, mafft_masked_alignment, mafft_tree, mafft_rooted_tree = align_to_tree_mafft_fasttree(\n",
    "    sequences=reps, n_threads=6, )"
   ]
  },
  {
   "cell_type": "markdown",
   "id": "0768d598",
   "metadata": {
    "papermill": {
     "duration": 0.014568,
     "end_time": "2024-03-05T22:31:24.693118",
     "exception": false,
     "start_time": "2024-03-05T22:31:24.678550",
     "status": "completed"
    },
    "tags": []
   },
   "source": [
    "### Compute Alpha Diversity (Phylogeny)\n",
    "- [diversity alpha_phylogenetic](https://docs.qiime2.org/2022.8/plugins/available/diversity/alpha-phylogenetic/): Computes a user-specified phylogenetic alpha diversity metric for all samples in a feature table.\n",
    "- Metrics: Choices ('faith_pd')"
   ]
  },
  {
   "cell_type": "code",
   "execution_count": 11,
   "id": "0383aa19",
   "metadata": {
    "ExecuteTime": {
     "end_time": "2022-09-29T20:54:35.310009Z",
     "start_time": "2022-09-29T20:54:35.141333Z"
    },
    "execution": {
     "iopub.execute_input": "2024-03-05T22:31:24.702666Z",
     "iopub.status.busy": "2024-03-05T22:31:24.702482Z",
     "iopub.status.idle": "2024-03-05T22:31:24.805024Z",
     "shell.execute_reply": "2024-03-05T22:31:24.804532Z"
    },
    "papermill": {
     "duration": 0.108546,
     "end_time": "2024-03-05T22:31:24.806016",
     "exception": false,
     "start_time": "2024-03-05T22:31:24.697470",
     "status": "completed"
    },
    "tags": []
   },
   "outputs": [
    {
     "name": "stdout",
     "output_type": "stream",
     "text": [
      "Calculating alpha diversity: faith_pd\n",
      "Running external command line application. This may print messages to stdout and/or stderr.\n",
      "The command being run is below. This command cannot be manually re-run as it will depend on temporary files that no longer exist.\n",
      "\n",
      "Command:\n",
      "\n",
      "faithpd -i /tmp/qiime2/lauro/data/d4c8baf1-e4e6-40e3-96be-5b6627453b80/data/feature-table.biom -t /tmp/qiime2/lauro/data/361550db-e39a-4c37-a4bf-93bc5dfd3ed2/data/tree.nwk -o /tmp/q2-AlphaDiversityFormat-ku4sc445\n",
      "\n",
      "DONE: Calculating alpha phylogeny: faith_pd\n"
     ]
    }
   ],
   "source": [
    "metrics = ('faith_pd', )\n",
    "alpha_diversities_phylogenetic = dict()\n",
    "for metric in metrics:\n",
    "    print(f\"Calculating alpha diversity: {metric}\")\n",
    "    try:\n",
    "        alpha_diversity = alpha_phylogenetic(table=tabs, phylogeny=mafft_rooted_tree, metric=metric).alpha_diversity\n",
    "        alpha_diversities_phylogenetic[metric] = alpha_diversity\n",
    "        # Save Artifact\n",
    "        file_path = os.path.join(alpha_path, f'alpha-phylogeny-{metric}.qza')\n",
    "        alpha_diversity.save(file_path)\n",
    "        print(f\"DONE: Calculating alpha phylogeny: {metric}\")\n",
    "    except Exception as e:\n",
    "        print(f\"ERROR: Calculating alpha phylogeny: {metric}\")"
   ]
  },
  {
   "cell_type": "markdown",
   "id": "42db1ead",
   "metadata": {
    "papermill": {
     "duration": 0.004441,
     "end_time": "2024-03-05T22:31:24.815206",
     "exception": false,
     "start_time": "2024-03-05T22:31:24.810765",
     "status": "completed"
    },
    "tags": []
   },
   "source": [
    "- [core-metrics-phylogenetic](https://docs.qiime2.org/2023.7/plugins/available/diversity/core-metrics-phylogenetic/)"
   ]
  },
  {
   "cell_type": "code",
   "execution_count": 12,
   "id": "ef726ab7",
   "metadata": {
    "execution": {
     "iopub.execute_input": "2024-03-05T22:31:24.824884Z",
     "iopub.status.busy": "2024-03-05T22:31:24.824698Z",
     "iopub.status.idle": "2024-03-05T22:31:26.666660Z",
     "shell.execute_reply": "2024-03-05T22:31:26.666128Z"
    },
    "papermill": {
     "duration": 1.848316,
     "end_time": "2024-03-05T22:31:26.667921",
     "exception": false,
     "start_time": "2024-03-05T22:31:24.819605",
     "status": "completed"
    },
    "tags": []
   },
   "outputs": [
    {
     "name": "stderr",
     "output_type": "stream",
     "text": [
      "/home/lauro/anaconda3/envs/qiime2-2023.5/lib/python3.8/site-packages/sklearn/metrics/pairwise.py:1761: DataConversionWarning: Data was converted to boolean for metric jaccard\n",
      "  warnings.warn(msg, DataConversionWarning)\n"
     ]
    },
    {
     "name": "stdout",
     "output_type": "stream",
     "text": [
      "Running external command line application. This may print messages to stdout and/or stderr.\n",
      "The command being run is below. This command cannot be manually re-run as it will depend on temporary files that no longer exist.\n",
      "\n",
      "Command:\n",
      "\n",
      "faithpd -i /tmp/qiime2/lauro/data/753e6769-8b5e-413a-87bb-e5225fd71bdf/data/feature-table.biom -t /tmp/qiime2/lauro/data/361550db-e39a-4c37-a4bf-93bc5dfd3ed2/data/tree.nwk -o /tmp/q2-AlphaDiversityFormat-ryoje9v4\n",
      "\n",
      "Running external command line application. This may print messages to stdout and/or stderr.\n",
      "The command being run is below. This command cannot be manually re-run as it will depend on temporary files that no longer exist.\n",
      "\n",
      "Command:\n",
      "\n",
      "ssu -i /tmp/qiime2/lauro/data/753e6769-8b5e-413a-87bb-e5225fd71bdf/data/feature-table.biom -t /tmp/qiime2/lauro/data/361550db-e39a-4c37-a4bf-93bc5dfd3ed2/data/tree.nwk -m unweighted -o /tmp/q2-LSMatFormat-ip7vje2b\n",
      "\n"
     ]
    },
    {
     "name": "stdout",
     "output_type": "stream",
     "text": [
      "Running external command line application. This may print messages to stdout and/or stderr.\n",
      "The command being run is below. This command cannot be manually re-run as it will depend on temporary files that no longer exist.\n",
      "\n",
      "Command:\n",
      "\n",
      "ssu -i /tmp/qiime2/lauro/data/753e6769-8b5e-413a-87bb-e5225fd71bdf/data/feature-table.biom -t /tmp/qiime2/lauro/data/361550db-e39a-4c37-a4bf-93bc5dfd3ed2/data/tree.nwk -m weighted_unnormalized -o /tmp/q2-LSMatFormat-b7fhuevn\n",
      "\n"
     ]
    },
    {
     "name": "stderr",
     "output_type": "stream",
     "text": [
      "/home/lauro/anaconda3/envs/qiime2-2023.5/lib/python3.8/site-packages/skbio/stats/ordination/_principal_coordinate_analysis.py:143: RuntimeWarning: The result contains negative eigenvalues. Please compare their magnitude with the magnitude of some of the largest positive eigenvalues. If the negative ones are smaller, it's probably safe to ignore them, but if they are large in magnitude, the results won't be useful. See the Notes section for more details. The smallest eigenvalue is -0.005236162841324491 and the largest is 0.6641559611888626.\n",
      "  warn(\n"
     ]
    }
   ],
   "source": [
    "s_depth = int(tabs.view(pd.DataFrame).sum(axis=1).min())\n",
    "results = core_metrics_phylogenetic(\n",
    "    table = tabs,\n",
    "    phylogeny = mafft_rooted_tree,\n",
    "    sampling_depth = s_depth,\n",
    "    metadata = metadata_qa,\n",
    "    n_jobs_or_threads = 6,\n",
    ")"
   ]
  },
  {
   "cell_type": "code",
   "execution_count": 13,
   "id": "19311218",
   "metadata": {
    "execution": {
     "iopub.execute_input": "2024-03-05T22:31:26.678553Z",
     "iopub.status.busy": "2024-03-05T22:31:26.678385Z",
     "iopub.status.idle": "2024-03-05T22:31:26.682255Z",
     "shell.execute_reply": "2024-03-05T22:31:26.681804Z"
    },
    "papermill": {
     "duration": 0.0103,
     "end_time": "2024-03-05T22:31:26.683234",
     "exception": false,
     "start_time": "2024-03-05T22:31:26.672934",
     "status": "completed"
    },
    "tags": []
   },
   "outputs": [],
   "source": [
    "results_info = [(\"rarefied_table\", \"FeatureTable[Frequency]\", \"The resulting rarefied feature table.\"),\n",
    "(\"faith_pd_vector\", \"SampleData[AlphaDiversity]\", \"Vector of Faith PD values by sample.\"),\n",
    "(\"observed_features_vector\", \"SampleData[AlphaDiversity]\", \"Vector of Observed Features values by sample.\"),\n",
    "(\"shannon_vector\", \"SampleData[AlphaDiversity]\", \"Vector of Shannon diversity values by sample.\"),\n",
    "(\"evenness_vector\", \"SampleData[AlphaDiversity]\", \"Vector of Pielou's evenness values by sample.\"),\n",
    "(\"unweighted_unifrac_distance_matrix\", \"DistanceMatrix\", \"Matrix of unweighted UniFrac distances between pairs of samples.\"),\n",
    "(\"weighted_unifrac_distance_matrix\", \"DistanceMatrix\", \"Matrix of weighted UniFrac distances between pairs of samples.\"),\n",
    "(\"jaccard_distance_matrix\", \"DistanceMatrix\", \"Matrix of Jaccard distances between pairs of samples.\"),\n",
    "(\"bray_curtis_distance_matrix\", \"DistanceMatrix\", \"Matrix of Bray-Curtis distances between pairs of samples.\"),\n",
    "(\"unweighted_unifrac_pcoa_results\", \"PCoAResults\", \"PCoA matrix computed from unweighted UniFrac distances between samples.\"),\n",
    "(\"weighted_unifrac_pcoa_results\", \"PCoAResults\", \"PCoA matrix computed from weighted UniFrac distances between samples.\"),\n",
    "(\"jaccard_pcoa_results\", \"PCoAResults\", \"PCoA matrix computed from Jaccard distances between samples.\"),\n",
    "(\"bray_curtis_pcoa_results\", \"PCoAResults\", \"PCoA matrix computed from Bray-Curtis distances between samples.\"),\n",
    "(\"unweighted_unifrac_emperor\", \"Visualization\", \"Emperor plot of the PCoA matrix computed from unweighted UniFrac.\"),\n",
    "(\"weighted_unifrac_emperor\", \"Visualization\", \"Emperor plot of the PCoA matrix computed from weighted UniFrac.\"),\n",
    "(\"jaccard_emperor\", \"Visualization\", \"Emperor plot of the PCoA matrix computed from Jaccard.\"),\n",
    "(\"bray_curtis_emperor\", \"Visualization\", \"Emperor plot of the PCoA matrix computed from Bray-Curtis.\")]"
   ]
  },
  {
   "cell_type": "code",
   "execution_count": 14,
   "id": "2264925a",
   "metadata": {
    "execution": {
     "iopub.execute_input": "2024-03-05T22:31:26.693216Z",
     "iopub.status.busy": "2024-03-05T22:31:26.693062Z",
     "iopub.status.idle": "2024-03-05T22:31:26.983982Z",
     "shell.execute_reply": "2024-03-05T22:31:26.983511Z"
    },
    "papermill": {
     "duration": 0.297047,
     "end_time": "2024-03-05T22:31:26.984957",
     "exception": false,
     "start_time": "2024-03-05T22:31:26.687910",
     "status": "completed"
    },
    "tags": []
   },
   "outputs": [
    {
     "name": "stdout",
     "output_type": "stream",
     "text": [
      "13 unweighted_unifrac_emperor Visualization\n",
      "--- Emperor plot of the PCoA matrix computed from unweighted UniFrac. ---\n",
      "Saving emperor file at: /mnt/nupeb/rede-micro/redemicro-ana-flavia-nutri/experiments/ana-flavia-STD-NCxHSD-NC-trim/qiime-artifacts/beta-analysis/unweighted_unifrac_emperor.qzv\n",
      "\n",
      "14 weighted_unifrac_emperor Visualization\n",
      "--- Emperor plot of the PCoA matrix computed from weighted UniFrac. ---\n",
      "Saving emperor file at: /mnt/nupeb/rede-micro/redemicro-ana-flavia-nutri/experiments/ana-flavia-STD-NCxHSD-NC-trim/qiime-artifacts/beta-analysis/weighted_unifrac_emperor.qzv\n",
      "\n",
      "15 jaccard_emperor Visualization\n",
      "--- Emperor plot of the PCoA matrix computed from Jaccard. ---\n",
      "Saving emperor file at: /mnt/nupeb/rede-micro/redemicro-ana-flavia-nutri/experiments/ana-flavia-STD-NCxHSD-NC-trim/qiime-artifacts/beta-analysis/jaccard_emperor.qzv\n",
      "\n"
     ]
    },
    {
     "name": "stdout",
     "output_type": "stream",
     "text": [
      "16 bray_curtis_emperor Visualization\n",
      "--- Emperor plot of the PCoA matrix computed from Bray-Curtis. ---\n",
      "Saving emperor file at: /mnt/nupeb/rede-micro/redemicro-ana-flavia-nutri/experiments/ana-flavia-STD-NCxHSD-NC-trim/qiime-artifacts/beta-analysis/bray_curtis_emperor.qzv\n",
      "\n"
     ]
    }
   ],
   "source": [
    "distance_matrix = dict()\n",
    "for i, info in enumerate(results_info):\n",
    "    r_id, r_type, r_desc = info\n",
    "    #print(i, r_id, r_type)\n",
    "    file_name = f\"{r_id}.qzv\"\n",
    "    if r_type == \"FeatureTable[Frequency]\":\n",
    "        pass\n",
    "    elif r_type == \"DistanceMatrix\":\n",
    "        distance_matrix[r_id] = results[i]\n",
    "    elif r_id.endswith('emperor'):\n",
    "        print(i, r_id, r_type)\n",
    "        print(f\"--- {r_desc} ---\")\n",
    "        file_name = os.path.join(beta_path, file_name)\n",
    "        print(f'Saving emperor file at: {file_name}\\n')\n",
    "        results[i].save(filepath=file_name)"
   ]
  },
  {
   "cell_type": "markdown",
   "id": "c7752cfd",
   "metadata": {
    "papermill": {
     "duration": 0.004809,
     "end_time": "2024-03-05T22:31:26.994923",
     "exception": false,
     "start_time": "2024-03-05T22:31:26.990114",
     "status": "completed"
    },
    "tags": []
   },
   "source": [
    "### Alpha diversity correlation\n",
    "\n",
    "This method only process `numeric` columns.\n"
   ]
  },
  {
   "cell_type": "code",
   "execution_count": 15,
   "id": "2814f613",
   "metadata": {
    "ExecuteTime": {
     "end_time": "2022-09-29T20:54:35.317618Z",
     "start_time": "2022-09-29T20:54:35.312094Z"
    },
    "execution": {
     "iopub.execute_input": "2024-03-05T22:31:27.005432Z",
     "iopub.status.busy": "2024-03-05T22:31:27.005237Z",
     "iopub.status.idle": "2024-03-05T22:31:27.009803Z",
     "shell.execute_reply": "2024-03-05T22:31:27.009361Z"
    },
    "papermill": {
     "duration": 0.011104,
     "end_time": "2024-03-05T22:31:27.010776",
     "exception": false,
     "start_time": "2024-03-05T22:31:26.999672",
     "status": "completed"
    },
    "tags": []
   },
   "outputs": [],
   "source": [
    "methods = ('spearman', 'pearson')\n",
    "numerics_cols = metadata_qa.filter_columns(column_type='numeric')\n",
    "if numerics_cols.column_count > 0:\n",
    "    for metric, alpha_values in alpha_diversities.items():\n",
    "        for method in methods:\n",
    "            try:\n",
    "                corr_view = alpha_correlation(alpha_diversity=alpha_values, metadata=numerics_cols, \n",
    "                                          method=method, intersect_ids=True).visualization\n",
    "                view_path = os.path.join(alpha_path, f'alpha-correlation-{metric}-{method}.qzv')\n",
    "                corr_view.save(view_path)\n",
    "                corr_view\n",
    "                print(f\"DONE: Calculating alpha correlation: {metric} {method}\")\n",
    "            except Exception as e:\n",
    "                print(f\"ERROR: Calculating alpha correlation: {metric} {method}\")"
   ]
  },
  {
   "cell_type": "markdown",
   "id": "8ea83c8a",
   "metadata": {
    "papermill": {
     "duration": 0.00471,
     "end_time": "2024-03-05T22:31:27.020381",
     "exception": false,
     "start_time": "2024-03-05T22:31:27.015671",
     "status": "completed"
    },
    "tags": []
   },
   "source": [
    "## Alpha diversity comparisons\n",
    "\n",
    "Visually and statistically compare groups of alpha diversity values.\n",
    "\n",
    "[diversity alpha_group_significance](https://docs.qiime2.org/2022.8/plugins/available/diversity/alpha-group-significance/)"
   ]
  },
  {
   "cell_type": "code",
   "execution_count": 16,
   "id": "276d1c18",
   "metadata": {
    "ExecuteTime": {
     "end_time": "2022-09-29T20:54:36.089290Z",
     "start_time": "2022-09-29T20:54:35.318963Z"
    },
    "execution": {
     "iopub.execute_input": "2024-03-05T22:31:27.030749Z",
     "iopub.status.busy": "2024-03-05T22:31:27.030571Z",
     "iopub.status.idle": "2024-03-05T22:31:27.506072Z",
     "shell.execute_reply": "2024-03-05T22:31:27.505575Z"
    },
    "papermill": {
     "duration": 0.481914,
     "end_time": "2024-03-05T22:31:27.507070",
     "exception": false,
     "start_time": "2024-03-05T22:31:27.025156",
     "status": "completed"
    },
    "tags": []
   },
   "outputs": [
    {
     "name": "stdout",
     "output_type": "stream",
     "text": [
      "Processing alpha_group_significance: chao1\n"
     ]
    },
    {
     "name": "stdout",
     "output_type": "stream",
     "text": [
      "DONE: Calculating alpha group significance: chao1\n",
      "Processing alpha_group_significance: chao1_ci\n",
      "ERROR: Calculating alpha group significance: chao1_ci\n",
      "Processing alpha_group_significance: observed_features\n",
      "DONE: Calculating alpha group significance: observed_features\n",
      "Processing alpha_group_significance: shannon\n"
     ]
    },
    {
     "name": "stdout",
     "output_type": "stream",
     "text": [
      "DONE: Calculating alpha group significance: shannon\n",
      "Processing alpha_group_significance: simpson\n"
     ]
    },
    {
     "name": "stdout",
     "output_type": "stream",
     "text": [
      "DONE: Calculating alpha group significance: simpson\n",
      "Processing alpha_group_significance: simpson_e\n",
      "DONE: Calculating alpha group significance: simpson_e\n"
     ]
    }
   ],
   "source": [
    "for metric, alpha_values in alpha_diversities.items():\n",
    "    print(f\"Processing alpha_group_significance: {metric}\")\n",
    "    try:\n",
    "        significance_view = alpha_group_significance(alpha_diversity=alpha_values, metadata=metadata_qa).visualization\n",
    "        view_path = os.path.join(alpha_path, f'alpha-group-significance-{metric}.qzv')\n",
    "        significance_view.save(view_path)\n",
    "        significance_view\n",
    "        print(f\"DONE: Calculating alpha group significance: {metric}\")\n",
    "    except Exception as e:\n",
    "        print(f\"ERROR: Calculating alpha group significance: {metric}\")"
   ]
  },
  {
   "cell_type": "markdown",
   "id": "4349d357",
   "metadata": {
    "papermill": {
     "duration": 0.005726,
     "end_time": "2024-03-05T22:31:27.518033",
     "exception": false,
     "start_time": "2024-03-05T22:31:27.512307",
     "status": "completed"
    },
    "tags": []
   },
   "source": [
    "## Beta diversity analysis\n",
    "\n",
    "#### Reference\n",
    "- [diversity beta](https://docs.qiime2.org/2022.8/plugins/available/diversity/beta/): Computes a user-specified beta diversity metric for all pairs of samples in a feature table.\n",
    "- [Beta diversity metrics](http://scikit-bio.org/docs/0.2.0/generated/skbio.diversity.beta.html)\n",
    "\n",
    "- Metric Choices('aitchison', 'braycurtis', 'canberra', 'canberra_adkins', 'chebyshev', 'cityblock', 'correlation', 'cosine', 'dice', 'euclidean', 'hamming', 'jaccard', 'jensenshannon', 'kulsinski', 'matching', 'minkowski', 'rogerstanimoto', 'russellrao', 'seuclidean', 'sokalmichener', 'sokalsneath', 'sqeuclidean', 'yule')"
   ]
  },
  {
   "cell_type": "code",
   "execution_count": 17,
   "id": "f6f358dd",
   "metadata": {
    "ExecuteTime": {
     "end_time": "2022-09-29T20:54:36.335038Z",
     "start_time": "2022-09-29T20:54:36.091288Z"
    },
    "execution": {
     "iopub.execute_input": "2024-03-05T22:31:27.528973Z",
     "iopub.status.busy": "2024-03-05T22:31:27.528504Z",
     "iopub.status.idle": "2024-03-05T22:31:27.841727Z",
     "shell.execute_reply": "2024-03-05T22:31:27.841273Z"
    },
    "papermill": {
     "duration": 0.31971,
     "end_time": "2024-03-05T22:31:27.842672",
     "exception": false,
     "start_time": "2024-03-05T22:31:27.522962",
     "status": "completed"
    },
    "tags": []
   },
   "outputs": [
    {
     "name": "stdout",
     "output_type": "stream",
     "text": [
      "Calculating beta diversity: euclidean\n",
      "DONE: Calculating beta diversity: euclidean\n",
      "Calculating beta diversity: dice\n"
     ]
    },
    {
     "name": "stdout",
     "output_type": "stream",
     "text": [
      "DONE: Calculating beta diversity: dice\n",
      "Calculating beta diversity: braycurtis\n",
      "DONE: Calculating beta diversity: braycurtis\n",
      "Calculating beta diversity: correlation\n",
      "ERROR: Calculating beta diversity: correlation\n",
      "Calculating beta diversity: cosine\n"
     ]
    },
    {
     "name": "stderr",
     "output_type": "stream",
     "text": [
      "/home/lauro/anaconda3/envs/qiime2-2023.5/lib/python3.8/site-packages/sklearn/metrics/pairwise.py:1761: DataConversionWarning: Data was converted to boolean for metric dice\n",
      "  warnings.warn(msg, DataConversionWarning)\n",
      "/home/lauro/anaconda3/envs/qiime2-2023.5/lib/python3.8/site-packages/sklearn/metrics/pairwise.py:1761: DataConversionWarning: Data was converted to boolean for metric matching\n",
      "  warnings.warn(msg, DataConversionWarning)\n"
     ]
    },
    {
     "name": "stdout",
     "output_type": "stream",
     "text": [
      "ERROR: Calculating beta diversity: cosine\n",
      "Calculating beta diversity: matching\n",
      "DONE: Calculating beta diversity: matching\n",
      "Calculating beta diversity: jaccard\n",
      "DONE: Calculating beta diversity: jaccard\n"
     ]
    },
    {
     "name": "stderr",
     "output_type": "stream",
     "text": [
      "/home/lauro/anaconda3/envs/qiime2-2023.5/lib/python3.8/site-packages/sklearn/metrics/pairwise.py:1761: DataConversionWarning: Data was converted to boolean for metric jaccard\n",
      "  warnings.warn(msg, DataConversionWarning)\n"
     ]
    }
   ],
   "source": [
    "metrics = ('aitchison', 'braycurtis', 'canberra', 'canberra_adkins', 'chebyshev', 'cityblock', 'correlation', 'cosine', 'dice', 'euclidean', 'hamming', 'jaccard', 'jensenshannon', 'kulsinski', 'matching', 'minkowski', 'rogerstanimoto', 'russellrao', 'seuclidean', 'sokalmichener', 'sokalsneath', 'sqeuclidean', 'yule')\n",
    "metrics = ('euclidean', 'dice', 'braycurtis', 'correlation', 'cosine', 'matching', 'jaccard')\n",
    "beta_diversities = dict()\n",
    "for metric in metrics:\n",
    "    print(f\"Calculating beta diversity: {metric}\")\n",
    "    try:\n",
    "        beta_diversity = beta(table=tabs, metric=metric, n_jobs=6, pseudocount=1).distance_matrix\n",
    "        beta_diversities[metric] = beta_diversity\n",
    "        # Save SampleData[BetaDiversity] Artifact\n",
    "        file_path = os.path.join(beta_path, f'beta-values-{metric}.qza')\n",
    "        beta_diversity.save(file_path)\n",
    "        print(f\"DONE: Calculating beta diversity: {metric}\")\n",
    "    except Exception as e:\n",
    "        print(f\"ERROR: Calculating beta diversity: {metric}\")"
   ]
  },
  {
   "cell_type": "markdown",
   "id": "200a2fa7",
   "metadata": {
    "papermill": {
     "duration": 0.005054,
     "end_time": "2024-03-05T22:31:27.853154",
     "exception": false,
     "start_time": "2024-03-05T22:31:27.848100",
     "status": "completed"
    },
    "tags": []
   },
   "source": [
    "### Beta group significance\n",
    "\n",
    "- [diversity beta_group_significance](https://docs.qiime2.org/2022.8/plugins/available/diversity/beta-group-significance/): Determine whether groups of samples are significantly different from one another using a permutation-based statistical test.\n",
    "- Marti J Anderson. A new method for non-parametric multivariate analysis of variance. Austral ecology, 26(1):32–46, 2001. doi:https://doi.org/10.1111/j.1442-9993.2001.01070.pp.x."
   ]
  },
  {
   "cell_type": "code",
   "execution_count": 18,
   "id": "b8dd42b6",
   "metadata": {
    "ExecuteTime": {
     "end_time": "2022-09-29T20:55:08.313860Z",
     "start_time": "2022-09-29T20:54:36.336993Z"
    },
    "execution": {
     "iopub.execute_input": "2024-03-05T22:31:27.864056Z",
     "iopub.status.busy": "2024-03-05T22:31:27.863898Z",
     "iopub.status.idle": "2024-03-05T22:31:45.638949Z",
     "shell.execute_reply": "2024-03-05T22:31:45.638526Z"
    },
    "papermill": {
     "duration": 17.781693,
     "end_time": "2024-03-05T22:31:45.639929",
     "exception": false,
     "start_time": "2024-03-05T22:31:27.858236",
     "status": "completed"
    },
    "tags": []
   },
   "outputs": [
    {
     "name": "stdout",
     "output_type": "stream",
     "text": [
      "Calculating beta group significance with method permanova and metric euclidean\n"
     ]
    },
    {
     "name": "stdout",
     "output_type": "stream",
     "text": [
      "DONE: Calculating beta group significance: permanova euclidean\n",
      "Calculating beta group significance with method permanova and metric dice\n"
     ]
    },
    {
     "name": "stdout",
     "output_type": "stream",
     "text": [
      "DONE: Calculating beta group significance: permanova dice\n",
      "Calculating beta group significance with method permanova and metric braycurtis\n"
     ]
    },
    {
     "name": "stdout",
     "output_type": "stream",
     "text": [
      "DONE: Calculating beta group significance: permanova braycurtis\n",
      "Calculating beta group significance with method permanova and metric matching\n"
     ]
    },
    {
     "name": "stdout",
     "output_type": "stream",
     "text": [
      "DONE: Calculating beta group significance: permanova matching\n",
      "Calculating beta group significance with method permanova and metric jaccard\n"
     ]
    },
    {
     "name": "stdout",
     "output_type": "stream",
     "text": [
      "DONE: Calculating beta group significance: permanova jaccard\n",
      "Calculating beta group significance with method anosim and metric euclidean\n"
     ]
    },
    {
     "name": "stdout",
     "output_type": "stream",
     "text": [
      "DONE: Calculating beta group significance: anosim euclidean\n",
      "Calculating beta group significance with method anosim and metric dice\n"
     ]
    },
    {
     "name": "stdout",
     "output_type": "stream",
     "text": [
      "DONE: Calculating beta group significance: anosim dice\n",
      "Calculating beta group significance with method anosim and metric braycurtis\n"
     ]
    },
    {
     "name": "stdout",
     "output_type": "stream",
     "text": [
      "DONE: Calculating beta group significance: anosim braycurtis\n",
      "Calculating beta group significance with method anosim and metric matching\n"
     ]
    },
    {
     "name": "stdout",
     "output_type": "stream",
     "text": [
      "DONE: Calculating beta group significance: anosim matching\n",
      "Calculating beta group significance with method anosim and metric jaccard\n"
     ]
    },
    {
     "name": "stdout",
     "output_type": "stream",
     "text": [
      "DONE: Calculating beta group significance: anosim jaccard\n",
      "Calculating beta group significance with method permdisp and metric euclidean\n"
     ]
    },
    {
     "name": "stdout",
     "output_type": "stream",
     "text": [
      "DONE: Calculating beta group significance: permdisp euclidean\n",
      "Calculating beta group significance with method permdisp and metric dice\n"
     ]
    },
    {
     "name": "stdout",
     "output_type": "stream",
     "text": [
      "DONE: Calculating beta group significance: permdisp dice\n",
      "Calculating beta group significance with method permdisp and metric braycurtis\n"
     ]
    },
    {
     "name": "stdout",
     "output_type": "stream",
     "text": [
      "DONE: Calculating beta group significance: permdisp braycurtis\n",
      "Calculating beta group significance with method permdisp and metric matching\n"
     ]
    },
    {
     "name": "stdout",
     "output_type": "stream",
     "text": [
      "DONE: Calculating beta group significance: permdisp matching\n",
      "Calculating beta group significance with method permdisp and metric jaccard\n"
     ]
    },
    {
     "name": "stdout",
     "output_type": "stream",
     "text": [
      "DONE: Calculating beta group significance: permdisp jaccard\n"
     ]
    },
    {
     "data": {
      "text/plain": [
       "<Figure size 640x480 with 0 Axes>"
      ]
     },
     "metadata": {},
     "output_type": "display_data"
    }
   ],
   "source": [
    "methods = ('permanova', 'anosim', 'permdisp')\n",
    "for method in methods:\n",
    "    for metric, beta_diversity in beta_diversities.items():\n",
    "        print(f'Calculating beta group significance with method {method} and metric {metric}')\n",
    "        try:\n",
    "            beta_view = beta_group_significance(distance_matrix=beta_diversity, \n",
    "                                                metadata=metadata_qa.get_column(class_col), \n",
    "                                                pairwise=True, method=method).visualization\n",
    "            view_name = os.path.join(beta_path, f'beta-group-significance-{metric}-{method}.qzv')\n",
    "            beta_view.save(view_name)\n",
    "            print(f\"DONE: Calculating beta group significance: {method} {metric}\")\n",
    "        except Exception as e:\n",
    "            print(f\"ERROR: Calculating beta group significance: {method} {metric}\")"
   ]
  },
  {
   "cell_type": "code",
   "execution_count": 19,
   "id": "6366725e",
   "metadata": {
    "execution": {
     "iopub.execute_input": "2024-03-05T22:31:45.652266Z",
     "iopub.status.busy": "2024-03-05T22:31:45.652081Z",
     "iopub.status.idle": "2024-03-05T22:31:59.406599Z",
     "shell.execute_reply": "2024-03-05T22:31:59.406188Z"
    },
    "papermill": {
     "duration": 13.761805,
     "end_time": "2024-03-05T22:31:59.407555",
     "exception": false,
     "start_time": "2024-03-05T22:31:45.645750",
     "status": "completed"
    },
    "tags": []
   },
   "outputs": [
    {
     "name": "stdout",
     "output_type": "stream",
     "text": [
      "Calculating beta group significance with method permanova and metric unweighted_unifrac_distance_matrix\n"
     ]
    },
    {
     "name": "stdout",
     "output_type": "stream",
     "text": [
      "DONE: Calculating beta group significance: permanova unweighted_unifrac_distance_matrix\n",
      "Calculating beta group significance with method permanova and metric weighted_unifrac_distance_matrix\n"
     ]
    },
    {
     "name": "stdout",
     "output_type": "stream",
     "text": [
      "DONE: Calculating beta group significance: permanova weighted_unifrac_distance_matrix\n",
      "Calculating beta group significance with method permanova and metric jaccard_distance_matrix\n"
     ]
    },
    {
     "name": "stdout",
     "output_type": "stream",
     "text": [
      "DONE: Calculating beta group significance: permanova jaccard_distance_matrix\n",
      "Calculating beta group significance with method permanova and metric bray_curtis_distance_matrix\n"
     ]
    },
    {
     "name": "stdout",
     "output_type": "stream",
     "text": [
      "DONE: Calculating beta group significance: permanova bray_curtis_distance_matrix\n",
      "Calculating beta group significance with method anosim and metric unweighted_unifrac_distance_matrix\n"
     ]
    },
    {
     "name": "stdout",
     "output_type": "stream",
     "text": [
      "DONE: Calculating beta group significance: anosim unweighted_unifrac_distance_matrix\n",
      "Calculating beta group significance with method anosim and metric weighted_unifrac_distance_matrix\n"
     ]
    },
    {
     "name": "stdout",
     "output_type": "stream",
     "text": [
      "DONE: Calculating beta group significance: anosim weighted_unifrac_distance_matrix\n",
      "Calculating beta group significance with method anosim and metric jaccard_distance_matrix\n"
     ]
    },
    {
     "name": "stdout",
     "output_type": "stream",
     "text": [
      "DONE: Calculating beta group significance: anosim jaccard_distance_matrix\n",
      "Calculating beta group significance with method anosim and metric bray_curtis_distance_matrix\n"
     ]
    },
    {
     "name": "stdout",
     "output_type": "stream",
     "text": [
      "DONE: Calculating beta group significance: anosim bray_curtis_distance_matrix\n",
      "Calculating beta group significance with method permdisp and metric unweighted_unifrac_distance_matrix\n"
     ]
    },
    {
     "name": "stdout",
     "output_type": "stream",
     "text": [
      "DONE: Calculating beta group significance: permdisp unweighted_unifrac_distance_matrix\n",
      "Calculating beta group significance with method permdisp and metric weighted_unifrac_distance_matrix\n"
     ]
    },
    {
     "name": "stderr",
     "output_type": "stream",
     "text": [
      "/home/lauro/anaconda3/envs/qiime2-2023.5/lib/python3.8/site-packages/skbio/stats/ordination/_principal_coordinate_analysis.py:143: RuntimeWarning: The result contains negative eigenvalues. Please compare their magnitude with the magnitude of some of the largest positive eigenvalues. If the negative ones are smaller, it's probably safe to ignore them, but if they are large in magnitude, the results won't be useful. See the Notes section for more details. The smallest eigenvalue is -0.005236162841324576 and the largest is 0.6641559611888626.\n",
      "  warn(\n"
     ]
    },
    {
     "name": "stderr",
     "output_type": "stream",
     "text": [
      "/home/lauro/anaconda3/envs/qiime2-2023.5/lib/python3.8/site-packages/skbio/stats/ordination/_principal_coordinate_analysis.py:143: RuntimeWarning: The result contains negative eigenvalues. Please compare their magnitude with the magnitude of some of the largest positive eigenvalues. If the negative ones are smaller, it's probably safe to ignore them, but if they are large in magnitude, the results won't be useful. See the Notes section for more details. The smallest eigenvalue is -0.005236162841324469 and the largest is 0.6641559611888631.\n",
      "  warn(\n"
     ]
    },
    {
     "name": "stdout",
     "output_type": "stream",
     "text": [
      "DONE: Calculating beta group significance: permdisp weighted_unifrac_distance_matrix\n",
      "Calculating beta group significance with method permdisp and metric jaccard_distance_matrix\n"
     ]
    },
    {
     "name": "stdout",
     "output_type": "stream",
     "text": [
      "DONE: Calculating beta group significance: permdisp jaccard_distance_matrix\n",
      "Calculating beta group significance with method permdisp and metric bray_curtis_distance_matrix\n"
     ]
    },
    {
     "name": "stdout",
     "output_type": "stream",
     "text": [
      "DONE: Calculating beta group significance: permdisp bray_curtis_distance_matrix\n"
     ]
    },
    {
     "data": {
      "text/plain": [
       "<Figure size 640x480 with 0 Axes>"
      ]
     },
     "metadata": {},
     "output_type": "display_data"
    }
   ],
   "source": [
    "# Expand tests using UNIFRAC metrics\n",
    "methods = ('permanova', 'anosim', 'permdisp')\n",
    "for method in methods:\n",
    "    for metric, beta_diversity in distance_matrix.items():\n",
    "        print(f'Calculating beta group significance with method {method} and metric {metric}')\n",
    "        try:\n",
    "            beta_view = beta_group_significance(distance_matrix=beta_diversity, \n",
    "                                                metadata=metadata_qa.get_column(class_col), \n",
    "                                                pairwise=True, method=method).visualization\n",
    "            view_name = os.path.join(beta_path, f'beta-group-significance-{metric}-{method}.qzv')\n",
    "            beta_view.save(view_name)\n",
    "            print(f\"DONE: Calculating beta group significance: {method} {metric}\")\n",
    "        except Exception as e:\n",
    "            print(f\"ERROR: Calculating beta group significance: {method} {metric}\")"
   ]
  },
  {
   "cell_type": "markdown",
   "id": "c0de85cf",
   "metadata": {
    "papermill": {
     "duration": 0.006142,
     "end_time": "2024-03-05T22:31:59.419987",
     "exception": false,
     "start_time": "2024-03-05T22:31:59.413845",
     "status": "completed"
    },
    "tags": []
   },
   "source": [
    "### Beta group Rarefaction\n",
    "\n",
    "- [diversity beta_rarefaction](https://docs.qiime2.org/2022.8/plugins/available/diversity/beta-rarefaction/): Repeatedly rarefy a feature table to compare beta diversity results within a given rarefaction depth.  For a given beta diversity metric, this visualizer will provide: an Emperor jackknifed PCoA plot, samples clustered by UPGMA or neighbor joining with support calculation, and a heatmap showing the correlation between rarefaction trials of that beta diversity metric."
   ]
  }
 ],
 "metadata": {
  "celltoolbar": "Edit Metadata",
  "kernelspec": {
   "display_name": "Python 3 (ipykernel)",
   "language": "python",
   "name": "python3"
  },
  "language_info": {
   "codemirror_mode": {
    "name": "ipython",
    "version": 3
   },
   "file_extension": ".py",
   "mimetype": "text/x-python",
   "name": "python",
   "nbconvert_exporter": "python",
   "pygments_lexer": "ipython3",
   "version": "3.8.16"
  },
  "papermill": {
   "default_parameters": {},
   "duration": 51.939809,
   "end_time": "2024-03-05T22:32:00.543972",
   "environment_variables": {},
   "exception": null,
   "input_path": "nb-templates/step-diversity-analysis.ipynb",
   "output_path": "/mnt/nupeb/rede-micro/redemicro-ana-flavia-nutri/experiments/ana-flavia-STD-NCxHSD-NC-trim/nb-executed-steps/step-diversity-analysis-ana-flavia-STD-NCxHSD-NC-trim.ipynb",
   "parameters": {
    "base_dir": "/mnt/nupeb/rede-micro/redemicro-ana-flavia-nutri",
    "class_col": "group-id",
    "classifier_file": "/mnt/nupeb/rede-micro/datasets/16S_classifiers_qiime2/silva-138-99-nb-classifier.qza",
    "experiment_name": "ana-flavia-STD-NCxHSD-NC-trim",
    "manifest_file": "/mnt/nupeb/rede-micro/redemicro-ana-flavia-nutri/data/raw/manifest/manifest-ana-flavia-STD-NCxHSD-NC.csv",
    "metadata_file": "/mnt/nupeb/rede-micro/redemicro-ana-flavia-nutri/data/raw/metadata/metadata-ana-flavia-STD-NCxHSD-NC.tsv",
    "overlap": 12,
    "replace_files": false,
    "threads": 6,
    "top_n": 20,
    "trim": {
     "forward_primer": "CCTACGGGRSGCAGCAG",
     "overlap": 8,
     "reverse_primer": "GGACTACHVGGGTWTCTAAT"
    },
    "trunc_f": 0,
    "trunc_r": 0
   },
   "start_time": "2024-03-05T22:31:08.604163",
   "version": "2.4.0"
  }
 },
 "nbformat": 4,
 "nbformat_minor": 5
}