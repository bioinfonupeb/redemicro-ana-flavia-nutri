{
 "cells": [
  {
   "cell_type": "markdown",
   "id": "15bcfa06",
   "metadata": {
    "papermill": {
     "duration": 0.025974,
     "end_time": "2024-02-01T22:50:01.032947",
     "exception": false,
     "start_time": "2024-02-01T22:50:01.006973",
     "status": "completed"
    },
    "tags": []
   },
   "source": [
    " \n",
    "# Alpha and Beta Diversity\n",
    "\n",
    "Different higher-level measures are often used to describe the microbiome in a sample. These do not provide information on changes in the abundance of specific taxa but allow us to access a broader change or difference in the composition of microorganisms. Alpha and beta diversity are examples of such measures.\n",
    "\n",
    "Different measures exist to estimate diversity within a single sample, jointly called alpha diversity. The different measures reflect the richness (number) or distribution (evenness) of a microbial sample or aim to reflect a combination of both properties.\n",
    "\n",
    "Rarefaction curves are often used when calculating alpha diversity indices because increasing numbers of sequenced taxa allow increasingly accurate estimates of total population diversity. Rarefaction curves can therefore be used to estimate the full sample richness, as compared to the observed sample richness.\n",
    "\n",
    "While alpha diversity is a measure of microbiome diversity applicable to a single sample, beta diversity is a measure of the similarity or dissimilarity of two communities. As for alpha diversity, many indices exist, each reflecting different aspects of community heterogeneity. Key differences relate to how the indices value variation in rare species if they consider presence/absence only or incorporate abundance, and how they interpret shared absence. Bray-Curtis dissimilarity is a popular measure that considers both size (overall abundance per sample) and shape (abundance of each taxon) of the communities (Bray, 1957). Beta diversity is an essential measure for many popular statistical methods in ecology, such as ordination-based methods, and is widely used for studying the association between environmental variables and microbial composition.\n",
    "\n",
    "In summary, alpha diversity measures can be seen as a summary statistic of a single population (within-sample diversity), while beta diversity measures are estimates of similarity or dissimilarity between populations (between samples).\n",
    "\n",
    "**Source**: (https://biomcare.com/info/key-terms-in-microbiome-projects/)"
   ]
  },
  {
   "cell_type": "markdown",
   "id": "0e7f2330",
   "metadata": {
    "ExecuteTime": {
     "end_time": "2022-09-22T19:36:33.828188Z",
     "start_time": "2022-09-22T19:36:33.817323Z"
    },
    "papermill": {
     "duration": 0.036208,
     "end_time": "2024-02-01T22:50:01.087538",
     "exception": false,
     "start_time": "2024-02-01T22:50:01.051330",
     "status": "completed"
    },
    "tags": []
   },
   "source": [
    "### STEP : Diversity Analysis\n",
    "\n",
    "Using QIIME2 to create diversity analisys graphs and calculations.\n",
    "\n",
    "- [QIIME2 Workflow Overview](https://docs.qiime2.org/2022.8/tutorials/overview/)\n",
    "\n",
    "\n",
    "#### Methods\n",
    "- [diversity](https://docs.qiime2.org/2022.8/plugins/available/diversity/)\n",
    "- [diversity alpha](https://docs.qiime2.org/2022.8/plugins/available/diversity/alpha/)\n",
    "- [diversity alpha_phylogenetic](https://docs.qiime2.org/2022.8/plugins/available/diversity/alpha-phylogenetic/)\n",
    "- [diversity beta](https://docs.qiime2.org/2022.8/plugins/available/diversity/beta/)\n",
    "- [diversity core_metrics](https://docs.qiime2.org/2022.8/plugins/available/diversity/core-metrics/)\n",
    "- [diversity alpha_group_significance](https://docs.qiime2.org/2022.8/plugins/available/diversity/alpha-group-significance/)\n",
    "- [diversity beta_group_significance](https://docs.qiime2.org/2022.8/plugins/available/diversity/beta-group-significance/)\n",
    "- [feature_table core_features](https://docs.qiime2.org/2022.8/plugins/available/feature-table/core-features/)\n",
    "- [feature_table summarize](https://docs.qiime2.org/2022.8/plugins/available/feature-table/summarize/)\n",
    "- [taxa filter-table](https://docs.qiime2.org/2022.8/plugins/available/taxa/filter-table/)\n",
    "- [taxa collapse](https://docs.qiime2.org/2022.8/plugins/available/taxa/collapse/)"
   ]
  },
  {
   "cell_type": "markdown",
   "id": "843debbf",
   "metadata": {
    "papermill": {
     "duration": 0.01718,
     "end_time": "2024-02-01T22:50:01.122232",
     "exception": false,
     "start_time": "2024-02-01T22:50:01.105052",
     "status": "completed"
    },
    "tags": []
   },
   "source": [
    "## Setup and settings"
   ]
  },
  {
   "cell_type": "code",
   "execution_count": 1,
   "id": "965e28e5",
   "metadata": {
    "ExecuteTime": {
     "end_time": "2022-11-03T20:35:26.198671Z",
     "start_time": "2022-11-03T20:35:06.473173Z"
    },
    "execution": {
     "iopub.execute_input": "2024-02-01T22:50:01.157574Z",
     "iopub.status.busy": "2024-02-01T22:50:01.156693Z",
     "iopub.status.idle": "2024-02-01T22:50:07.344318Z",
     "shell.execute_reply": "2024-02-01T22:50:07.343501Z"
    },
    "papermill": {
     "duration": 6.208557,
     "end_time": "2024-02-01T22:50:07.347500",
     "exception": false,
     "start_time": "2024-02-01T22:50:01.138943",
     "status": "completed"
    },
    "tags": []
   },
   "outputs": [],
   "source": [
    "# Importing packages\n",
    "import os\n",
    "import pandas as pd\n",
    "from qiime2 import Artifact\n",
    "from qiime2 import Visualization\n",
    "from qiime2 import Metadata\n",
    "\n",
    "from qiime2.plugins.phylogeny.pipelines import align_to_tree_mafft_fasttree\n",
    "\n",
    "from qiime2.plugins.diversity.pipelines import alpha\n",
    "from qiime2.plugins.diversity.pipelines import beta\n",
    "from qiime2.plugins.diversity.pipelines import core_metrics\n",
    "from qiime2.plugins.diversity.pipelines import alpha_phylogenetic\n",
    "\n",
    "from qiime2.plugins.diversity.visualizers import alpha_group_significance\n",
    "from qiime2.plugins.diversity.visualizers import beta_group_significance\n",
    "from qiime2.plugins.diversity.visualizers import alpha_correlation\n",
    "from qiime2.plugins.diversity.visualizers import beta_rarefaction\n",
    "\n",
    "from qiime2.plugins.taxa.methods import filter_table\n",
    "from qiime2.plugins.taxa.methods import collapse\n",
    "\n",
    "from qiime2.plugins.feature_table.visualizers import tabulate_seqs\n",
    "from qiime2.plugins.feature_table.visualizers import summarize\n",
    "from qiime2.plugins.feature_table.visualizers import core_features\n",
    "from qiime2.plugins.diversity.pipelines import core_metrics_phylogenetic\n",
    "\n",
    "from qiime2.plugins.feature_table.methods import filter_samples\n",
    "from qiime2.plugins.feature_table.methods import filter_seqs\n",
    "\n",
    "from qiime2.plugins.alignment.methods import mafft\n",
    "\n",
    "\n",
    "import matplotlib.pyplot as plt\n",
    "\n",
    "%matplotlib inline"
   ]
  },
  {
   "cell_type": "markdown",
   "id": "530ceb60",
   "metadata": {
    "papermill": {
     "duration": 0.015258,
     "end_time": "2024-02-01T22:50:07.385613",
     "exception": false,
     "start_time": "2024-02-01T22:50:07.370355",
     "status": "completed"
    },
    "tags": []
   },
   "source": [
    "### Receiving the parameters\n",
    "\n",
    "The following cell can receive parameters using the [papermill](https://papermill.readthedocs.io/en/latest/) tool."
   ]
  },
  {
   "cell_type": "code",
   "execution_count": 2,
   "id": "18d874ea",
   "metadata": {
    "ExecuteTime": {
     "end_time": "2022-09-29T20:54:14.793270Z",
     "start_time": "2022-09-29T20:54:14.789367Z"
    },
    "execution": {
     "iopub.execute_input": "2024-02-01T22:50:07.417497Z",
     "iopub.status.busy": "2024-02-01T22:50:07.417038Z",
     "iopub.status.idle": "2024-02-01T22:50:07.421882Z",
     "shell.execute_reply": "2024-02-01T22:50:07.421149Z"
    },
    "papermill": {
     "duration": 0.022414,
     "end_time": "2024-02-01T22:50:07.423243",
     "exception": false,
     "start_time": "2024-02-01T22:50:07.400829",
     "status": "completed"
    },
    "tags": [
     "parameters"
    ]
   },
   "outputs": [],
   "source": [
    "base_dir = os.path.join('/', 'home')\n",
    "metadata_file = os.path.abspath(os.path.join(base_dir, 'data', 'metadatada.tsv'))\n",
    "experiment_name = ''\n",
    "class_col = ''\n",
    "replace_files = False"
   ]
  },
  {
   "cell_type": "code",
   "execution_count": 3,
   "id": "cb2e8337",
   "metadata": {
    "execution": {
     "iopub.execute_input": "2024-02-01T22:50:07.457269Z",
     "iopub.status.busy": "2024-02-01T22:50:07.456912Z",
     "iopub.status.idle": "2024-02-01T22:50:07.462488Z",
     "shell.execute_reply": "2024-02-01T22:50:07.461616Z"
    },
    "papermill": {
     "duration": 0.023527,
     "end_time": "2024-02-01T22:50:07.463870",
     "exception": false,
     "start_time": "2024-02-01T22:50:07.440343",
     "status": "completed"
    },
    "tags": [
     "injected-parameters"
    ]
   },
   "outputs": [],
   "source": [
    "# Parameters\n",
    "PAPERMILL_INPUT_PATH = \"nb-templates/step-diversity-analysis.ipynb\"\n",
    "PAPERMILL_OUTPUT_PATH = \"/home/lauro/nupeb/rede-micro/redemicro-ana-flavia-nutri/experiments/ana-flavia-STD-NCxHSD-NC-trim/nb-executed-steps/step-diversity-analysis-ana-flavia-STD-NCxHSD-NC-trim.ipynb\"\n",
    "experiment_name = \"ana-flavia-STD-NCxHSD-NC-trim\"\n",
    "base_dir = \"/home/lauro/nupeb/rede-micro/redemicro-ana-flavia-nutri\"\n",
    "manifest_file = \"/home/lauro/nupeb/rede-micro/redemicro-ana-flavia-nutri/data/raw/manifest/manifest-ana-flavia-STD-NCxHSD-NC.csv\"\n",
    "metadata_file = \"/home/lauro/nupeb/rede-micro/redemicro-ana-flavia-nutri/data/raw/metadata/metadata-ana-flavia-STD-NCxHSD-NC.tsv\"\n",
    "class_col = \"group-id\"\n",
    "classifier_file = \"/home/lauro/nupeb/rede-micro/models/silva-138-99-nb-classifier.qza\"\n",
    "top_n = 20\n",
    "replace_files = False\n",
    "trunc_f = 0\n",
    "trunc_r = 0\n",
    "overlap = 12\n",
    "threads = 6\n",
    "trim = {\n",
    "    \"overlap\": 8,\n",
    "    \"forward_primer\": \"CCTACGGGRSGCAGCAG\",\n",
    "    \"reverse_primer\": \"GGACTACHVGGGTWTCTAAT\",\n",
    "}\n"
   ]
  },
  {
   "cell_type": "code",
   "execution_count": 4,
   "id": "f38617d9",
   "metadata": {
    "ExecuteTime": {
     "end_time": "2022-09-29T20:54:14.804575Z",
     "start_time": "2022-09-29T20:54:14.794927Z"
    },
    "execution": {
     "iopub.execute_input": "2024-02-01T22:50:07.498163Z",
     "iopub.status.busy": "2024-02-01T22:50:07.497883Z",
     "iopub.status.idle": "2024-02-01T22:50:07.502239Z",
     "shell.execute_reply": "2024-02-01T22:50:07.501304Z"
    },
    "papermill": {
     "duration": 0.022105,
     "end_time": "2024-02-01T22:50:07.503730",
     "exception": false,
     "start_time": "2024-02-01T22:50:07.481625",
     "status": "completed"
    },
    "tags": []
   },
   "outputs": [],
   "source": [
    "experiment_folder = os.path.abspath(os.path.join(base_dir, 'experiments', experiment_name))\n",
    "img_folder = os.path.abspath(os.path.join(experiment_folder, 'imgs'))"
   ]
  },
  {
   "cell_type": "markdown",
   "id": "ea9b90fb",
   "metadata": {
    "papermill": {
     "duration": 0.015924,
     "end_time": "2024-02-01T22:50:07.535457",
     "exception": false,
     "start_time": "2024-02-01T22:50:07.519533",
     "status": "completed"
    },
    "tags": []
   },
   "source": [
    "### Defining names, paths and flags"
   ]
  },
  {
   "cell_type": "code",
   "execution_count": 5,
   "id": "45727eef",
   "metadata": {
    "ExecuteTime": {
     "end_time": "2022-09-29T20:54:14.816686Z",
     "start_time": "2022-09-29T20:54:14.806238Z"
    },
    "execution": {
     "iopub.execute_input": "2024-02-01T22:50:07.571808Z",
     "iopub.status.busy": "2024-02-01T22:50:07.571373Z",
     "iopub.status.idle": "2024-02-01T22:50:07.582125Z",
     "shell.execute_reply": "2024-02-01T22:50:07.581015Z"
    },
    "papermill": {
     "duration": 0.029319,
     "end_time": "2024-02-01T22:50:07.583993",
     "exception": false,
     "start_time": "2024-02-01T22:50:07.554674",
     "status": "completed"
    },
    "tags": []
   },
   "outputs": [],
   "source": [
    "# QIIME2 Artifacts folder\n",
    "qiime_folder = os.path.join(experiment_folder, 'qiime-artifacts')\n",
    "\n",
    "# Input - DADA2 Artifacts\n",
    "dada2_tabs_path = os.path.join(qiime_folder, 'dada2-tabs.qza')\n",
    "dada2_reps_path = os.path.join(qiime_folder, 'dada2-reps.qza')\n",
    "dada2_stat_path = os.path.join(qiime_folder, 'dada2-stat.qza')\n",
    "\n",
    "# Input - Taxonaomic Artifacts\n",
    "taxonomy_path = os.path.join(qiime_folder, 'metatax.qza')\n",
    "\n",
    "# Create folder to store Alpha files\n",
    "alpha_path = os.path.join(qiime_folder, 'alpha-analysis')\n",
    "if not os.path.exists(alpha_path):\n",
    "    os.makedirs(alpha_path)\n",
    "    print(f'The new directory is created in {alpha_path}')\n",
    "    \n",
    "# Create folder to store Beta files\n",
    "beta_path = os.path.join(qiime_folder, 'beta-analysis')\n",
    "if not os.path.exists(beta_path):\n",
    "    os.makedirs(beta_path)\n",
    "    print(f'The new directory is created in {beta_path}')\n",
    "\n",
    "# Output -Diversity Artifacts\n",
    "alpha_diversity_path = os.path.join(alpha_path, 'alpha-diversity.qza')\n",
    "alpha_diversity_view_path = os.path.join(alpha_path, 'alpha-diversity.qzv')\n",
    "beta_diversity_path = os.path.join(beta_path, 'beta-diversity.qza')\n",
    "beta_diversity_view_path = os.path.join(beta_path, 'beta-diversity.qzv')"
   ]
  },
  {
   "cell_type": "code",
   "execution_count": 6,
   "id": "601ae263",
   "metadata": {
    "ExecuteTime": {
     "end_time": "2022-09-29T20:54:14.829117Z",
     "start_time": "2022-09-29T20:54:14.818272Z"
    },
    "execution": {
     "iopub.execute_input": "2024-02-01T22:50:07.618855Z",
     "iopub.status.busy": "2024-02-01T22:50:07.618438Z",
     "iopub.status.idle": "2024-02-01T22:50:07.628606Z",
     "shell.execute_reply": "2024-02-01T22:50:07.627637Z"
    },
    "papermill": {
     "duration": 0.028714,
     "end_time": "2024-02-01T22:50:07.630471",
     "exception": false,
     "start_time": "2024-02-01T22:50:07.601757",
     "status": "completed"
    },
    "tags": []
   },
   "outputs": [],
   "source": [
    "def filter_and_collapse(tab, seqs, tax, meta, lvl, exclude=True, exclude_list='uncultured,unidentified,metagenome'):\n",
    "    from qiime2.plugins.taxa.methods import collapse\n",
    "    from qiime2.plugins.taxa.methods import filter_table\n",
    "    from qiime2.plugins.feature_table.methods import filter_seqs\n",
    "    from qiime2.plugins.feature_table.visualizers import summarize\n",
    "    \n",
    "    to_include = ('d', 'p', 'c', 'o', 'f', 'g', 's')[lvl-1]\n",
    "    to_include += '__'\n",
    "    to_exclude = exclude_list if exclude else None\n",
    "    \n",
    "    filtered_tabs = filter_table(\n",
    "        table=tab, \n",
    "        taxonomy=tax,\n",
    "        include=to_include,\n",
    "        exclude=to_exclude,\n",
    "        mode='contains').filtered_table\n",
    "    \n",
    "    filtered_seqs = filter_seqs(\n",
    "        data = seqs,\n",
    "        table = filtered_tabs,\n",
    "    ).filtered_data\n",
    "    \n",
    "    collapsed_table = collapse(table=filtered_tabs, taxonomy=tax, level=lvl).collapsed_table\n",
    "    collapsed_table_view = summarize(table=collapsed_table, sample_metadata=meta).visualization\n",
    "    \n",
    "    return collapsed_table, collapsed_table_view, filtered_seqs"
   ]
  },
  {
   "cell_type": "markdown",
   "id": "0999a1b2",
   "metadata": {
    "papermill": {
     "duration": 0.016379,
     "end_time": "2024-02-01T22:50:07.664754",
     "exception": false,
     "start_time": "2024-02-01T22:50:07.648375",
     "status": "completed"
    },
    "tags": []
   },
   "source": [
    "## Step execution\n",
    "\n",
    "### Load input files\n",
    "\n",
    "This Step import the QIIME2 `FeatureTable[Frequency]` Artifact and the `Metadata` file."
   ]
  },
  {
   "cell_type": "code",
   "execution_count": 7,
   "id": "8f299d1a",
   "metadata": {
    "ExecuteTime": {
     "end_time": "2022-09-29T20:54:15.559837Z",
     "start_time": "2022-09-29T20:54:14.830405Z"
    },
    "execution": {
     "iopub.execute_input": "2024-02-01T22:50:07.704336Z",
     "iopub.status.busy": "2024-02-01T22:50:07.704071Z",
     "iopub.status.idle": "2024-02-01T22:50:09.221978Z",
     "shell.execute_reply": "2024-02-01T22:50:09.221120Z"
    },
    "papermill": {
     "duration": 1.541507,
     "end_time": "2024-02-01T22:50:09.225254",
     "exception": false,
     "start_time": "2024-02-01T22:50:07.683747",
     "status": "completed"
    },
    "tags": []
   },
   "outputs": [],
   "source": [
    "#Load Metadata\n",
    "metadata_qa = Metadata.load(metadata_file)\n",
    "\n",
    "#Load FeatureTable[Frequency]\n",
    "tabs = Artifact.load(dada2_tabs_path)\n",
    "tabs_df = tabs.view(Metadata).to_dataframe().T\n",
    "\n",
    "# FeatureData[Sequence]\n",
    "reps = Artifact.load(dada2_reps_path)\n",
    "\n",
    "# FeatureData[Taxonomy]\n",
    "tax = Artifact.load(taxonomy_path)"
   ]
  },
  {
   "cell_type": "code",
   "execution_count": 8,
   "id": "c8dfe530",
   "metadata": {
    "ExecuteTime": {
     "end_time": "2022-09-29T20:54:15.564968Z",
     "start_time": "2022-09-29T20:54:15.561875Z"
    },
    "execution": {
     "iopub.execute_input": "2024-02-01T22:50:09.275950Z",
     "iopub.status.busy": "2024-02-01T22:50:09.275584Z",
     "iopub.status.idle": "2024-02-01T22:50:10.333059Z",
     "shell.execute_reply": "2024-02-01T22:50:10.332178Z"
    },
    "papermill": {
     "duration": 1.082587,
     "end_time": "2024-02-01T22:50:10.336296",
     "exception": false,
     "start_time": "2024-02-01T22:50:09.253709",
     "status": "completed"
    },
    "tags": []
   },
   "outputs": [
    {
     "name": "stdout",
     "output_type": "stream",
     "text": [
      "{'min_frequency': 0, 'max_frequency': None, 'min_features': 0, 'max_features': None, 'metadata': Metadata\n",
      "--------\n",
      "15 IDs x 3 columns\n",
      "sample-name: ColumnProperties(type='categorical')\n",
      "group-id:    ColumnProperties(type='categorical')\n",
      "group-desc:  ColumnProperties(type='categorical')\n",
      "\n",
      "Call to_dataframe() for a tabular representation., 'where': None, 'exclude_ids': False, 'filter_empty_features': True, 'table': 2732 x 74 <class 'biom.table.Table'> with 12512 nonzero entries (6% dense)}\n",
      "{'min_frequency': 0, 'max_frequency': None, 'min_features': 0, 'max_features': None, 'metadata': Metadata\n",
      "--------\n",
      "15 IDs x 3 columns\n",
      "sample-name: ColumnProperties(type='categorical')\n",
      "group-id:    ColumnProperties(type='categorical')\n",
      "group-desc:  ColumnProperties(type='categorical')\n",
      "\n",
      "Call to_dataframe() for a tabular representation., 'where': None, 'exclude_ids': False, 'filter_empty_features': True, 'table': 2732 x 74 <class 'biom.table.Table'> with 12512 nonzero entries (6% dense)}\n"
     ]
    },
    {
     "name": "stdout",
     "output_type": "stream",
     "text": [
      "{'metadata': None, 'where': None, 'exclude_ids': False, 'data': c688e3b1ada46ed57f5b7e7e0d56664f    (((T)), ((G)), ((A)), ((G)), ((G)), ((A)), ((A...\n",
      "bc798de4a9acd3ff7ba51c244523be14    (((T)), ((G)), ((A)), ((G)), ((G)), ((A)), ((A...\n",
      "fca5b1ccd94b107a3ddf3e99feaafb6f    (((T)), ((G)), ((A)), ((G)), ((G)), ((A)), ((A...\n",
      "5ba9e679e692fcbf933c554317e03c5f    (((T)), ((A)), ((G)), ((G)), ((G)), ((A)), ((A...\n",
      "04581eba9e6fd12787fb5948fcef030f    (((T)), ((G)), ((A)), ((G)), ((G)), ((A)), ((A...\n",
      "                                                          ...                        \n",
      "dbc83a2f59a61f2cc57971a85718406b    (((T)), ((G)), ((G)), ((G)), ((G)), ((A)), ((A...\n",
      "4393f0be1354f7198d1969c44d34d44a    (((T)), ((G)), ((A)), ((G)), ((G)), ((A)), ((A...\n",
      "a86e1aaa4715133f8fa2c0f52e03e6d7    (((T)), ((G)), ((G)), ((G)), ((G)), ((A)), ((A...\n",
      "aa37170c6d59f9077a2644f8c25df05d    (((T)), ((G)), ((G)), ((G)), ((G)), ((A)), ((A...\n",
      "9c3f20cb7568feda60cc7776400d8d64    (((G)), ((A)), ((A)), ((A)), ((T)), ((G)), ((C...\n",
      "Length: 2732, dtype: object, 'table': 1065 x 15 <class 'biom.table.Table'> with 2412 nonzero entries (15% dense)}\n"
     ]
    },
    {
     "name": "stdout",
     "output_type": "stream",
     "text": [
      "{'metadata': None, 'where': None, 'exclude_ids': False, 'data': c688e3b1ada46ed57f5b7e7e0d56664f    (((T)), ((G)), ((A)), ((G)), ((G)), ((A)), ((A...\n",
      "bc798de4a9acd3ff7ba51c244523be14    (((T)), ((G)), ((A)), ((G)), ((G)), ((A)), ((A...\n",
      "fca5b1ccd94b107a3ddf3e99feaafb6f    (((T)), ((G)), ((A)), ((G)), ((G)), ((A)), ((A...\n",
      "5ba9e679e692fcbf933c554317e03c5f    (((T)), ((A)), ((G)), ((G)), ((G)), ((A)), ((A...\n",
      "04581eba9e6fd12787fb5948fcef030f    (((T)), ((G)), ((A)), ((G)), ((G)), ((A)), ((A...\n",
      "                                                          ...                        \n",
      "dbc83a2f59a61f2cc57971a85718406b    (((T)), ((G)), ((G)), ((G)), ((G)), ((A)), ((A...\n",
      "4393f0be1354f7198d1969c44d34d44a    (((T)), ((G)), ((A)), ((G)), ((G)), ((A)), ((A...\n",
      "a86e1aaa4715133f8fa2c0f52e03e6d7    (((T)), ((G)), ((G)), ((G)), ((G)), ((A)), ((A...\n",
      "aa37170c6d59f9077a2644f8c25df05d    (((T)), ((G)), ((G)), ((G)), ((G)), ((A)), ((A...\n",
      "9c3f20cb7568feda60cc7776400d8d64    (((G)), ((A)), ((A)), ((A)), ((T)), ((G)), ((C...\n",
      "Length: 2732, dtype: object, 'table': 1065 x 15 <class 'biom.table.Table'> with 2412 nonzero entries (15% dense)}\n"
     ]
    }
   ],
   "source": [
    "# Filter FeatureTable[Frequency | RelativeFrequency | PresenceAbsence | Composition] based on Metadata sample ID values\n",
    "tabs = filter_samples(\n",
    "    table=tabs,\n",
    "    metadata=metadata_qa,\n",
    ").filtered_table\n",
    "# Filter SampleData[SequencesWithQuality | PairedEndSequencesWithQuality | JoinedSequencesWithQuality] based on Metadata sample ID values; returns FeatureData[Sequence | AlignedSequence]\n",
    "reps = filter_seqs(\n",
    "    data=reps,\n",
    "    table=tabs,\n",
    ").filtered_data"
   ]
  },
  {
   "cell_type": "markdown",
   "id": "9f43843a",
   "metadata": {
    "ExecuteTime": {
     "end_time": "2022-09-22T22:48:07.523952Z",
     "start_time": "2022-09-22T22:48:07.517565Z"
    },
    "papermill": {
     "duration": 0.020324,
     "end_time": "2024-02-01T22:50:10.385737",
     "exception": false,
     "start_time": "2024-02-01T22:50:10.365413",
     "status": "completed"
    },
    "tags": []
   },
   "source": [
    "## Alpha diversity analysis\n",
    "\n",
    "#### Reference\n",
    "- [The Use and Types of Alpha-Diversity Metrics in Microbial NGS](https://www.cd-genomics.com/microbioseq/the-use-and-types-of-alpha-diversity-metrics-in-microbial-ngs.html)\n",
    "- [Alpha diversity metrics](http://scikit-bio.org/docs/0.2.0/generated/skbio.diversity.alpha.html)\n",
    "\n",
    "#### Methods\n",
    "- [diversity alpha](https://docs.qiime2.org/2022.8/plugins/available/diversity/alpha/): Computes a user-specified alpha diversity metric for all samples in a\n",
    "feature table.\n",
    "- [diversity alpha_phylogenetic](https://docs.qiime2.org/2022.8/plugins/available/diversity/alpha-phylogenetic/): Computes a user-specified phylogenetic alpha diversity metric for all\n",
    "samples in a feature table.\n",
    "- [diversity alpha_correlation](https://docs.qiime2.org/2022.8/plugins/available/diversity/alpha-correlation/): Determine whether numeric sample metadata columns are correlated with alpha diversity.\n",
    "- [diversity alpha_group_significance](https://docs.qiime2.org/2022.8/plugins/available/diversity/alpha-group-significance/): Visually and statistically compare groups of alpha diversity values."
   ]
  },
  {
   "cell_type": "markdown",
   "id": "606b9c75",
   "metadata": {
    "papermill": {
     "duration": 0.019978,
     "end_time": "2024-02-01T22:50:10.425938",
     "exception": false,
     "start_time": "2024-02-01T22:50:10.405960",
     "status": "completed"
    },
    "tags": []
   },
   "source": [
    "### Compute Alpha Diversity vectors\n",
    "- [diversity alpha](https://docs.qiime2.org/2022.8/plugins/available/diversity/alpha/): Computes a user-specified alpha diversity metric for all samples in a feature table.\n",
    "- [Alpha diversity metrics](http://scikit-bio.org/docs/0.2.0/generated/skbio.diversity.alpha.html)\n",
    " - Choices: ('ace', 'berger_parker_d', 'brillouin_d', 'chao1', 'chao1_ci', 'dominance', 'doubles', 'enspie', 'esty_ci', 'fisher_alpha', 'gini_index', 'goods_coverage', 'heip_e', 'kempton_taylor_q', 'lladser_pe', 'margalef', 'mcintosh_d', 'mcintosh_e', 'menhinick', 'michaelis_menten_fit', 'observed_features', 'osd', 'pielou_e', 'robbins', 'shannon', 'simpson', 'simpson_e', 'singles', 'strong')"
   ]
  },
  {
   "cell_type": "code",
   "execution_count": 9,
   "id": "556e5264",
   "metadata": {
    "ExecuteTime": {
     "end_time": "2022-09-29T20:54:20.790166Z",
     "start_time": "2022-09-29T20:54:20.451134Z"
    },
    "execution": {
     "iopub.execute_input": "2024-02-01T22:50:10.468385Z",
     "iopub.status.busy": "2024-02-01T22:50:10.467957Z",
     "iopub.status.idle": "2024-02-01T22:50:10.912733Z",
     "shell.execute_reply": "2024-02-01T22:50:10.912144Z"
    },
    "papermill": {
     "duration": 0.467947,
     "end_time": "2024-02-01T22:50:10.914771",
     "exception": false,
     "start_time": "2024-02-01T22:50:10.446824",
     "status": "completed"
    },
    "tags": []
   },
   "outputs": [
    {
     "name": "stdout",
     "output_type": "stream",
     "text": [
      "Calculating alpha diversity: chao1\n",
      "{'metric': 'chao1', 'table': <artifact: FeatureTable[Frequency] uuid: 625f5752-e64a-4bae-9bb5-e96db12d4dc6>}\n",
      "{'metric': 'chao1', 'table': 1065 x 15 <class 'biom.table.Table'> with 2412 nonzero entries (15% dense)}\n",
      "{'metric': 'chao1', 'table': 1065 x 15 <class 'biom.table.Table'> with 2412 nonzero entries (15% dense)}\n",
      "DONE: Calculating alpha diversity: chao1\n",
      "Calculating alpha diversity: chao1_ci\n",
      "{'metric': 'chao1_ci', 'table': <artifact: FeatureTable[Frequency] uuid: 625f5752-e64a-4bae-9bb5-e96db12d4dc6>}\n",
      "{'metric': 'chao1_ci', 'table': 1065 x 15 <class 'biom.table.Table'> with 2412 nonzero entries (15% dense)}\n",
      "{'metric': 'chao1_ci', 'table': 1065 x 15 <class 'biom.table.Table'> with 2412 nonzero entries (15% dense)}\n",
      "DONE: Calculating alpha diversity: chao1_ci\n",
      "Calculating alpha diversity: observed_features\n",
      "{'metric': 'observed_features', 'table': <artifact: FeatureTable[Frequency] uuid: 625f5752-e64a-4bae-9bb5-e96db12d4dc6>}\n",
      "{'table': 1065 x 15 <class 'biom.table.Table'> with 2412 nonzero entries (15% dense)}\n",
      "{'table': 1065 x 15 <class 'biom.table.Table'> with 2412 nonzero entries (15% dense)}\n"
     ]
    },
    {
     "name": "stdout",
     "output_type": "stream",
     "text": [
      "DONE: Calculating alpha diversity: observed_features\n",
      "Calculating alpha diversity: shannon\n",
      "{'metric': 'shannon', 'table': <artifact: FeatureTable[Frequency] uuid: 625f5752-e64a-4bae-9bb5-e96db12d4dc6>}\n",
      "{'drop_undefined_samples': False, 'table': 1065 x 15 <class 'biom.table.Table'> with 2412 nonzero entries (15% dense)}\n",
      "{'drop_undefined_samples': False, 'table': 1065 x 15 <class 'biom.table.Table'> with 2412 nonzero entries (15% dense)}\n",
      "DONE: Calculating alpha diversity: shannon\n",
      "Calculating alpha diversity: simpson\n",
      "{'metric': 'simpson', 'table': <artifact: FeatureTable[Frequency] uuid: 625f5752-e64a-4bae-9bb5-e96db12d4dc6>}\n",
      "{'metric': 'simpson', 'table': 1065 x 15 <class 'biom.table.Table'> with 2412 nonzero entries (15% dense)}\n",
      "{'metric': 'simpson', 'table': 1065 x 15 <class 'biom.table.Table'> with 2412 nonzero entries (15% dense)}\n",
      "DONE: Calculating alpha diversity: simpson\n",
      "Calculating alpha diversity: simpson_e\n",
      "{'metric': 'simpson_e', 'table': <artifact: FeatureTable[Frequency] uuid: 625f5752-e64a-4bae-9bb5-e96db12d4dc6>}\n",
      "{'metric': 'simpson_e', 'table': 1065 x 15 <class 'biom.table.Table'> with 2412 nonzero entries (15% dense)}\n",
      "{'metric': 'simpson_e', 'table': 1065 x 15 <class 'biom.table.Table'> with 2412 nonzero entries (15% dense)}\n"
     ]
    },
    {
     "name": "stdout",
     "output_type": "stream",
     "text": [
      "DONE: Calculating alpha diversity: simpson_e\n"
     ]
    }
   ],
   "source": [
    "metrics = ('ace', 'berger_parker_d', 'brillouin_d', 'chao1', 'chao1_ci', 'dominance', 'doubles', 'enspie', 'esty_ci', 'fisher_alpha', 'gini_index', 'goods_coverage', 'heip_e', 'kempton_taylor_q', 'lladser_pe', 'margalef', 'mcintosh_d', 'mcintosh_e', 'menhinick', 'michaelis_menten_fit', 'observed_features', 'osd', 'pielou_e', 'robbins', 'shannon', 'simpson', 'simpson_e', 'singles', 'strong')\n",
    "\n",
    "# Sugestão de valores para Alpha diversity\n",
    "# chao1 e observed_features (riqueza); shannon e simpson (diversidade - que levam em consideração riqueza e equitabilidade).\n",
    "metrics = ('chao1', 'chao1_ci', 'observed_features', 'shannon', 'simpson', 'simpson_e')\n",
    "alpha_diversities = dict()\n",
    "for metric in metrics:\n",
    "    print(f\"Calculating alpha diversity: {metric}\")\n",
    "    try:\n",
    "        alpha_diversity = alpha(table=tabs, metric=metric).alpha_diversity\n",
    "        alpha_diversities[metric] = alpha_diversity\n",
    "        # Save SampleData[AlphaDiversity] Artifact\n",
    "        file_path = os.path.join(alpha_path, f'alpha-values-{metric}.qza')\n",
    "        alpha_diversity.save(file_path)\n",
    "        print(f\"DONE: Calculating alpha diversity: {metric}\")\n",
    "    except Exception as e:\n",
    "        print(f\"ERROR: Calculating alpha diversity: {metric}\")\n",
    "        print(e)"
   ]
  },
  {
   "cell_type": "markdown",
   "id": "184bcb7b",
   "metadata": {
    "papermill": {
     "duration": 0.02095,
     "end_time": "2024-02-01T22:50:10.960986",
     "exception": false,
     "start_time": "2024-02-01T22:50:10.940036",
     "status": "completed"
    },
    "tags": []
   },
   "source": [
    "### Create Phylogenetic inference\n",
    "\n",
    "- [alignment align_to_tree_mafft_fasttree](https://docs.qiime2.org/2022.8/plugins/available/phylogeny/align-to-tree-mafft-fasttree/): Build a phylogenetic tree using fasttree and mafft alignment\n",
    "\n",
    "This pipeline will start by creating a sequence alignment using MAFFT,\n",
    "after which any alignment columns that are phylogenetically uninformative\n",
    "or ambiguously aligned will be removed (masked). The resulting masked\n",
    "alignment will be used to infer a phylogenetic tree and then subsequently\n",
    "rooted at its midpoint. Output files from each step of the pipeline will be\n",
    "saved. This includes both the unmasked and masked MAFFT alignment from\n",
    "q2-alignment methods, and both the rooted and unrooted phylogenies from\n",
    "q2-phylogeny methods.\n",
    "\n",
    "\n",
    "Returns\n",
    "- alignment : FeatureData[AlignedSequence] : The aligned sequences.\n",
    "- masked_alignment : FeatureData[AlignedSequence] : The masked alignment.\n",
    "- tree : Phylogeny[Unrooted] : The unrooted phylogenetic tree.\n",
    "- rooted_tree : Phylogeny[Rooted] : The rooted phylogenetic tree."
   ]
  },
  {
   "cell_type": "code",
   "execution_count": 10,
   "id": "9c8cfe47",
   "metadata": {
    "ExecuteTime": {
     "end_time": "2022-09-29T20:54:35.139531Z",
     "start_time": "2022-09-29T20:54:20.792130Z"
    },
    "execution": {
     "iopub.execute_input": "2024-02-01T22:50:11.007709Z",
     "iopub.status.busy": "2024-02-01T22:50:11.007386Z",
     "iopub.status.idle": "2024-02-01T22:50:28.651415Z",
     "shell.execute_reply": "2024-02-01T22:50:28.650531Z"
    },
    "papermill": {
     "duration": 17.669203,
     "end_time": "2024-02-01T22:50:28.652928",
     "exception": false,
     "start_time": "2024-02-01T22:50:10.983725",
     "status": "completed"
    },
    "tags": []
   },
   "outputs": [
    {
     "name": "stdout",
     "output_type": "stream",
     "text": [
      "{'n_threads': 6, 'mask_max_gap_frequency': 1.0, 'mask_min_conservation': 0.4, 'parttree': False, 'sequences': <artifact: FeatureData[Sequence] uuid: 9cd02241-b91f-4d6a-8d63-82c135922508>}\n",
      "{'n_threads': 6, 'parttree': False, 'sequences': <q2_types.feature_data._format.DNAFASTAFormat object at 0x7fbdb971b130>}\n",
      "{'n_threads': 6, 'parttree': False, 'sequences': <q2_types.feature_data._format.DNAFASTAFormat object at 0x7fbdb971b130>}\n",
      "Running external command line application. This may print messages to stdout and/or stderr.\n",
      "The command being run is below. This command cannot be manually re-run as it will depend on temporary files that no longer exist.\n",
      "\n",
      "Command: mafft --preservecase --inputorder --thread 6 /tmp/qiime2-archive-cc_wc4pa/9cd02241-b91f-4d6a-8d63-82c135922508/data/dna-sequences.fasta\n",
      "\n"
     ]
    },
    {
     "name": "stderr",
     "output_type": "stream",
     "text": [
      "inputfile = orig\n",
      "1065 x 430 - 253 d\n",
      "nthread = 6\n",
      "nthreadpair = 6\n",
      "nthreadtb = 6\n",
      "ppenalty_ex = 0\n",
      "stacksize: 8192 kb\n",
      "generating a scoring matrix for nucleotide (dist=200) ... done\n",
      "Gap Penalty = -1.53, +0.00, +0.00\n",
      "\n",
      "\n",
      "\n",
      "Making a distance matrix ..\n",
      "\r",
      "    1 / 1065 (thread    0)\r",
      "  101 / 1065 (thread    2)\r",
      "  201 / 1065 (thread    1)\r",
      "  301 / 1065 (thread    3)\r",
      "  401 / 1065 (thread    4)\r",
      "  501 / 1065 (thread    4)\r",
      "  601 / 1065 (thread    4)\r",
      "  701 / 1065 (thread    4)\r",
      "  801 / 1065 (thread    4)\r",
      "  901 / 1065 (thread    5)"
     ]
    },
    {
     "name": "stderr",
     "output_type": "stream",
     "text": [
      "\r",
      " 1001 / 1065 (thread    1)\n",
      "done.\n",
      "\n",
      "Constructing a UPGMA tree (efffree=0) ... \n",
      "\r",
      "    0 / 1065\r",
      "   10 / 1065\r",
      "   20 / 1065\r",
      "   30 / 1065\r",
      "   40 / 1065\r",
      "   50 / 1065\r",
      "   60 / 1065\r",
      "   70 / 1065\r",
      "   80 / 1065\r",
      "   90 / 1065\r",
      "  100 / 1065\r",
      "  110 / 1065\r",
      "  120 / 1065\r",
      "  130 / 1065\r",
      "  140 / 1065\r",
      "  150 / 1065\r",
      "  160 / 1065\r",
      "  170 / 1065\r",
      "  180 / 1065\r",
      "  190 / 1065\r",
      "  200 / 1065\r",
      "  210 / 1065\r",
      "  220 / 1065\r",
      "  230 / 1065\r",
      "  240 / 1065\r",
      "  250 / 1065\r",
      "  260 / 1065\r",
      "  270 / 1065\r",
      "  280 / 1065\r",
      "  290 / 1065\r",
      "  300 / 1065\r",
      "  310 / 1065\r",
      "  320 / 1065\r",
      "  330 / 1065\r",
      "  340 / 1065\r",
      "  350 / 1065\r",
      "  360 / 1065\r",
      "  370 / 1065\r",
      "  380 / 1065\r",
      "  390 / 1065\r",
      "  400 / 1065\r",
      "  410 / 1065\r",
      "  420 / 1065\r",
      "  430 / 1065\r",
      "  440 / 1065\r",
      "  450 / 1065\r",
      "  460 / 1065\r",
      "  470 / 1065\r",
      "  480 / 1065\r",
      "  490 / 1065\r",
      "  500 / 1065\r",
      "  510 / 1065\r",
      "  520 / 1065\r",
      "  530 / 1065\r",
      "  540 / 1065\r",
      "  550 / 1065\r",
      "  560 / 1065\r",
      "  570 / 1065\r",
      "  580 / 1065\r",
      "  590 / 1065\r",
      "  600 / 1065\r",
      "  610 / 1065\r",
      "  620 / 1065\r",
      "  630 / 1065\r",
      "  640 / 1065\r",
      "  650 / 1065\r",
      "  660 / 1065\r",
      "  670 / 1065\r",
      "  680 / 1065\r",
      "  690 / 1065\r",
      "  700 / 1065\r",
      "  710 / 1065\r",
      "  720 / 1065\r",
      "  730 / 1065\r",
      "  740 / 1065\r",
      "  750 / 1065\r",
      "  760 / 1065\r",
      "  770 / 1065\r",
      "  780 / 1065\r",
      "  790 / 1065\r",
      "  800 / 1065\r",
      "  810 / 1065\r",
      "  820 / 1065\r",
      "  830 / 1065\r",
      "  840 / 1065\r",
      "  850 / 1065\r",
      "  860 / 1065\r",
      "  870 / 1065\r",
      "  880 / 1065\r",
      "  890 / 1065\r",
      "  900 / 1065\r",
      "  910 / 1065\r",
      "  920 / 1065\r",
      "  930 / 1065\r",
      "  940 / 1065\r",
      "  950 / 1065\r",
      "  960 / 1065\r",
      "  970 / 1065\r",
      "  980 / 1065\r",
      "  990 / 1065\r",
      " 1000 / 1065\r",
      " 1010 / 1065\r",
      " 1020 / 1065\r",
      " 1030 / 1065\r",
      " 1040 / 1065\r",
      " 1050 / 1065\r",
      " 1060 / 1065\n",
      "done.\n",
      "\n",
      "Progressive alignment 1/2... \n",
      "\r",
      "STEP     1 / 1064 (thread    0) f\b\b\r",
      "STEP     2 / 1064 (thread    1) f\b\b\r",
      "STEP     3 / 1064 (thread    2) f\b\b\r",
      "STEP     5 / 1064 (thread    3) f\b\b\r",
      "STEP     4 / 1064 (thread    4) f\b\b\r",
      "STEP     6 / 1064 (thread    5) f\b\b\r",
      "STEP     7 / 1064 (thread    5) f\b\b\r",
      "STEP     8 / 1064 (thread    3) f\b\b\r",
      "STEP     9 / 1064 (thread    1) f\b\b\r",
      "STEP    10 / 1064 (thread    5) f\b\b\r",
      "STEP    11 / 1064 (thread    0) f\b\b\r",
      "STEP    12 / 1064 (thread    2) f\b\b\r",
      "STEP    13 / 1064 (thread    3) f\b\b\r",
      "STEP    14 / 1064 (thread    1) f\b\b\r",
      "STEP    15 / 1064 (thread    5) f\b\b\r",
      "STEP    16 / 1064 (thread    4) f\b\b\r",
      "STEP    17 / 1064 (thread    0) f\b\b\r",
      "STEP    18 / 1064 (thread    3) f\b\b\r",
      "STEP    19 / 1064 (thread    1) f\b\b\r",
      "STEP    20 / 1064 (thread    5) f\b\b\r",
      "STEP    21 / 1064 (thread    2) f\b\b\r",
      "STEP    22 / 1064 (thread    0) f\b\b\r",
      "STEP    23 / 1064 (thread    3) f\b\b\r",
      "STEP    24 / 1064 (thread    5) f\b\b\r",
      "STEP    25 / 1064 (thread    4) f\b\b\r",
      "STEP    26 / 1064 (thread    1) f\b\b\r",
      "STEP    27 / 1064 (thread    3) f\b\b\r",
      "STEP    28 / 1064 (thread    0) f\b\b\r",
      "STEP    29 / 1064 (thread    2) f\b\b\r",
      "STEP    30 / 1064 (thread    5) f\b\b\r",
      "STEP    31 / 1064 (thread    1) f\b\b\r",
      "STEP    32 / 1064 (thread    3) f\b\b\r",
      "STEP    33 / 1064 (thread    4) f\b\b\r",
      "STEP    34 / 1064 (thread    0) f\b\b\r",
      "STEP    35 / 1064 (thread    5) f\b\b\r",
      "STEP    36 / 1064 (thread    1) f\b\b\r",
      "STEP    37 / 1064 (thread    2) f\b\b\r",
      "STEP    38 / 1064 (thread    3) f\b\b\r",
      "STEP    39 / 1064 (thread    0) f\b\b\r",
      "STEP    40 / 1064 (thread    1) f\b\b\r",
      "STEP    41 / 1064 (thread    5) f\b\b\r",
      "STEP    42 / 1064 (thread    4) f\b\b\r",
      "STEP    43 / 1064 (thread    0) f\b\b\r",
      "STEP    44 / 1064 (thread    2) f\b\b\r",
      "STEP    45 / 1064 (thread    1) f\b\b\r",
      "STEP    46 / 1064 (thread    4) f\b\b\r",
      "STEP    47 / 1064 (thread    5) f\b\b\r",
      "STEP    48 / 1064 (thread    0) f\b\b\r",
      "STEP    49 / 1064 (thread    1) f\b\b\r",
      "STEP    50 / 1064 (thread    2) f\b\b\r",
      "STEP    51 / 1064 (thread    0) f\b\b\r",
      "STEP    52 / 1064 (thread    4) f\b\b\r",
      "STEP    53 / 1064 (thread    3) f\b\b\r",
      "STEP    54 / 1064 (thread    1) f\b\b\r",
      "STEP    55 / 1064 (thread    5) f\b\b\r",
      "STEP    56 / 1064 (thread    2) f\b\b\r",
      "STEP    57 / 1064 (thread    0) f\b\b\r",
      "STEP    58 / 1064 (thread    1) f\b\b\r",
      "STEP    59 / 1064 (thread    4) f\b\b\r",
      "STEP    60 / 1064 (thread    5) f\b\b\r",
      "STEP    61 / 1064 (thread    0) f\b\b\r",
      "STEP    62 / 1064 (thread    2) f\b\b\r",
      "STEP    63 / 1064 (thread    1) f\b\b\r",
      "STEP    64 / 1064 (thread    3) f\b\b\r",
      "STEP    65 / 1064 (thread    1) f\b\b\r",
      "STEP    66 / 1064 (thread    2) f\b\b\r",
      "STEP    67 / 1064 (thread    3) f\b\b\r",
      "STEP    68 / 1064 (thread    1) f\b\b\r",
      "STEP    69 / 1064 (thread    4) f\b\b\r",
      "STEP    70 / 1064 (thread    2) f\b\b\r",
      "STEP    71 / 1064 (thread    1) f\b\b\r",
      "STEP    72 / 1064 (thread    3) f\b\b\r",
      "STEP    73 / 1064 (thread    5) f\b\b\r",
      "STEP    74 / 1064 (thread    0) f\b\b\r",
      "STEP    75 / 1064 (thread    2) f\b\b\r",
      "STEP    76 / 1064 (thread    1) f\b\b\r",
      "STEP    77 / 1064 (thread    4) f\b\b\r",
      "STEP    78 / 1064 (thread    3) f\b\b\r",
      "STEP    79 / 1064 (thread    2) f\b\b\r",
      "STEP    80 / 1064 (thread    5) f\b\b\r",
      "STEP    81 / 1064 (thread    0) f\b\b\r",
      "STEP    82 / 1064 (thread    1) f\b\b\r",
      "STEP    83 / 1064 (thread    4) f\b\b\r",
      "STEP    84 / 1064 (thread    2) f\b\b\r",
      "STEP    85 / 1064 (thread    3) f\b\b\r",
      "STEP    86 / 1064 (thread    5) f\b\b\r",
      "STEP    87 / 1064 (thread    0) f\b\b\r",
      "STEP    88 / 1064 (thread    2) f\b\b\r",
      "STEP    89 / 1064 (thread    4) f\b\b\r",
      "STEP    90 / 1064 (thread    1) f\b\b\r",
      "STEP    91 / 1064 (thread    3) f\b\b\r",
      "STEP    92 / 1064 (thread    5) f\b\b\r",
      "STEP    93 / 1064 (thread    0) f\b\b\r",
      "STEP    94 / 1064 (thread    2) f\b\b\r",
      "STEP    95 / 1064 (thread    4) f\b\b\r",
      "STEP    96 / 1064 (thread    1) f\b\b\r",
      "STEP    97 / 1064 (thread    2) f\b\b\r",
      "STEP    98 / 1064 (thread    3) f\b\b\r",
      "STEP    99 / 1064 (thread    5) f\b\b\r",
      "STEP   100 / 1064 (thread    0) f\b\b\r",
      "STEP   101 / 1064 (thread    1) f\b\b\r",
      "STEP   102 / 1064 (thread    2) f\b\b\r",
      "STEP   103 / 1064 (thread    4) f\b\b\r",
      "STEP   104 / 1064 (thread    5) f\b\b\r",
      "STEP   105 / 1064 (thread    3) f\b\b\r",
      "STEP   106 / 1064 (thread    0) f\b\b\r",
      "STEP   107 / 1064 (thread    2) f\b\b\r",
      "STEP   108 / 1064 (thread    1) f\b\b\r",
      "STEP   109 / 1064 (thread    4) f\b\b\r",
      "STEP   110 / 1064 (thread    1) f\b\b\r",
      "STEP   111 / 1064 (thread    2) f\b\b\r",
      "STEP   112 / 1064 (thread    5) f\b\b\r",
      "STEP   113 / 1064 (thread    3) f\b\b\r",
      "STEP   114 / 1064 (thread    0) f\b\b\r",
      "STEP   115 / 1064 (thread    4) f\b\b\r",
      "STEP   116 / 1064 (thread    1) f\b\b\r",
      "STEP   117 / 1064 (thread    2) f\b\b\r",
      "STEP   118 / 1064 (thread    3) f\b\b\r",
      "STEP   119 / 1064 (thread    5) f\b\b\r",
      "STEP   120 / 1064 (thread    1) f\b\b\r",
      "STEP   121 / 1064 (thread    4) f\b\b\r",
      "STEP   122 / 1064 (thread    0) f\b\b\r",
      "STEP   123 / 1064 (thread    2) f\b\b\r",
      "STEP   124 / 1064 (thread    1) f\b\b\r",
      "STEP   125 / 1064 (thread    5) f\b\b\r",
      "STEP   126 / 1064 (thread    3) f\b\b\r",
      "STEP   127 / 1064 (thread    2) f\b\b\r",
      "STEP   128 / 1064 (thread    4) f\b\b\r",
      "STEP   129 / 1064 (thread    1) f\b\b\r",
      "STEP   131 / 1064 (thread    2) f\b\b\r",
      "STEP   132 / 1064 (thread    1) f\b\b\r",
      "STEP   133 / 1064 (thread    4) f\b\b\r",
      "STEP   134 / 1064 (thread    5) f\b\b\r",
      "STEP   135 / 1064 (thread    3) f\b\b\r",
      "STEP   130 / 1064 (thread    0) f\b\b\r",
      "STEP   137 / 1064 (thread    1) f\b\b\r",
      "STEP   138 / 1064 (thread    4) f\b\b\r",
      "STEP   139 / 1064 (thread    5) f\b\b\r",
      "STEP   140 / 1064 (thread    0) f\b\b\r",
      "STEP   136 / 1064 (thread    2) f\b\b\r",
      "STEP   141 / 1064 (thread    1) f\b\b\r",
      "STEP   142 / 1064 (thread    3) f\b\b\r",
      "STEP   143 / 1064 (thread    4) f\b\b\r",
      "STEP   144 / 1064 (thread    0) f\b\b\r",
      "STEP   145 / 1064 (thread    3) f\b\b\r",
      "STEP   147 / 1064 (thread    1) f\b\b\r",
      "STEP   148 / 1064 (thread    5) f\b\b\r",
      "STEP   149 / 1064 (thread    5) f\b\b\r",
      "STEP   150 / 1064 (thread    4) f\b\b\r",
      "STEP   146 / 1064 (thread    2) f\b\b\r",
      "STEP   151 / 1064 (thread    0) f\b\b\r",
      "STEP   152 / 1064 (thread    3) f\b\b\r",
      "STEP   153 / 1064 (thread    1) f\b\b\r",
      "STEP   154 / 1064 (thread    1) f\b\b\r",
      "STEP   155 / 1064 (thread    2) f\b\b\r",
      "STEP   156 / 1064 (thread    4) f\b\b\r",
      "STEP   157 / 1064 (thread    0) f\b\b\r",
      "STEP   158 / 1064 (thread    5) f\b\b\r",
      "STEP   159 / 1064 (thread    3) f\b\b\r",
      "STEP   160 / 1064 (thread    2) f\b\b\r",
      "STEP   161 / 1064 (thread    4) f\b\b\r",
      "STEP   162 / 1064 (thread    0) f\b\b\r",
      "STEP   163 / 1064 (thread    1) f\b\b\r",
      "STEP   164 / 1064 (thread    5) f\b\b\r",
      "STEP   165 / 1064 (thread    4) f\b\b\r",
      "STEP   166 / 1064 (thread    0) f\b\b\r",
      "STEP   167 / 1064 (thread    5) f\b\b\r",
      "STEP   168 / 1064 (thread    1) f\b\b\r",
      "STEP   169 / 1064 (thread    3) f\b\b\r",
      "STEP   170 / 1064 (thread    2) f\b\b\r",
      "STEP   171 / 1064 (thread    1) f\b\b\r",
      "STEP   172 / 1064 (thread    4) f\b\b\r",
      "STEP   173 / 1064 (thread    0) f\b\b\r",
      "STEP   174 / 1064 (thread    5) f\b\b\r",
      "STEP   175 / 1064 (thread    3) f\b\b\r",
      "STEP   176 / 1064 (thread    1) f\b\b\r",
      "STEP   177 / 1064 (thread    2) f\b\b\r",
      "STEP   178 / 1064 (thread    4) f\b\b\r",
      "STEP   179 / 1064 (thread    4) f\b\b\r",
      "STEP   180 / 1064 (thread    1) f\b\b\r",
      "STEP   181 / 1064 (thread    0) f\b\b\r",
      "STEP   182 / 1064 (thread    5) f\b\b\r",
      "STEP   183 / 1064 (thread    2) f\b\b\r",
      "STEP   184 / 1064 (thread    3) f\b\b\r",
      "STEP   185 / 1064 (thread    1) f\b\b\r",
      "STEP   186 / 1064 (thread    4) f\b\b\r",
      "STEP   187 / 1064 (thread    2) f\b\b\r",
      "STEP   188 / 1064 (thread    0) f\b\b\r",
      "STEP   189 / 1064 (thread    5) f\b\b\r",
      "STEP   190 / 1064 (thread    1) f\b\b\r",
      "STEP   191 / 1064 (thread    2) f\b\b\r",
      "STEP   192 / 1064 (thread    4) f\b\b\r",
      "STEP   193 / 1064 (thread    1) f\b\b\r",
      "STEP   194 / 1064 (thread    0) f\b\b\r",
      "STEP   195 / 1064 (thread    5) f\b\b\r",
      "STEP   196 / 1064 (thread    3) f\b\b\r",
      "STEP   197 / 1064 (thread    2) f\b\b\r",
      "STEP   198 / 1064 (thread    1) f\b\b\r",
      "STEP   199 / 1064 (thread    4) f\b\b\r",
      "STEP   200 / 1064 (thread    0) f\b\b\r",
      "STEP   201 / 1064 (thread    2) f\b\b\r",
      "STEP   202 / 1064 (thread    1) f\b\b\r",
      "STEP   203 / 1064 (thread    5) f\b\b\r",
      "STEP   204 / 1064 (thread    3) f\b\b\r",
      "STEP   205 / 1064 (thread    2) f\b\b\r",
      "STEP   206 / 1064 (thread    1) f\b\b\r",
      "STEP   207 / 1064 (thread    4) f\b\b\r",
      "STEP   208 / 1064 (thread    0) f\b\b\r",
      "STEP   209 / 1064 (thread    5) f\b\b\r",
      "STEP   210 / 1064 (thread    2) f\b\b\r",
      "STEP   211 / 1064 (thread    1) f\b\b\r",
      "STEP   212 / 1064 (thread    3) f\b\b\r",
      "STEP   213 / 1064 (thread    4) f\b\b\r",
      "STEP   214 / 1064 (thread    0) f\b\b\r",
      "STEP   215 / 1064 (thread    5) f\b\b\r",
      "STEP   217 / 1064 (thread    1) f\b\b\r",
      "STEP   216 / 1064 (thread    2) f\b\b\r",
      "STEP   218 / 1064 (thread    3) f\b\b\r",
      "STEP   219 / 1064 (thread    1) f\b\b\r",
      "STEP   220 / 1064 (thread    2) f\b\b\r",
      "STEP   221 / 1064 (thread    0) f\b\b\r",
      "STEP   222 / 1064 (thread    4) f\b\b\r",
      "STEP   223 / 1064 (thread    5) f\b\b\r",
      "STEP   224 / 1064 (thread    1) f\b\b\r",
      "STEP   225 / 1064 (thread    2) f\b\b\r",
      "STEP   226 / 1064 (thread    2) f\b\b\r",
      "STEP   227 / 1064 (thread    1) f\b\b\r",
      "STEP   228 / 1064 (thread    0) f\b\b\r",
      "STEP   229 / 1064 (thread    4) f\b\b\r",
      "STEP   230 / 1064 (thread    2) f\b\b\r",
      "STEP   231 / 1064 (thread    3) f\b\b\r",
      "STEP   232 / 1064 (thread    5) f\b\b\r",
      "STEP   233 / 1064 (thread    1) f\b\b\r",
      "STEP   234 / 1064 (thread    0) f\b\b\r",
      "STEP   235 / 1064 (thread    4) f\b\b\r",
      "STEP   236 / 1064 (thread    2) f\b\b\r",
      "STEP   237 / 1064 (thread    1) f\b\b\r",
      "STEP   238 / 1064 (thread    4) f\b\b\r",
      "STEP   239 / 1064 (thread    2) f\b\b\r",
      "STEP   240 / 1064 (thread    0) f\b\b\r",
      "STEP   241 / 1064 (thread    3) f\b\b\r",
      "STEP   242 / 1064 (thread    1) f\b\b\r",
      "STEP   243 / 1064 (thread    5) f\b\b\r",
      "STEP   244 / 1064 (thread    2) f\b\b\r",
      "STEP   245 / 1064 (thread    1) f\b\b\r",
      "STEP   246 / 1064 (thread    3) f\b\b\r",
      "STEP   247 / 1064 (thread    5) f\b\b\r",
      "STEP   248 / 1064 (thread    2) f\b\b\r",
      "STEP   249 / 1064 (thread    4) f\b\b\r",
      "STEP   250 / 1064 (thread    1) f\b\b\r",
      "STEP   251 / 1064 (thread    0) f\b\b\r",
      "STEP   252 / 1064 (thread    2) f\b\b\r",
      "STEP   253 / 1064 (thread    0) f\b\b\r",
      "STEP   254 / 1064 (thread    2) f\b\b\r",
      "STEP   256 / 1064 (thread    5) f\b\b\r",
      "STEP   257 / 1064 (thread    1) f\b\b\r",
      "STEP   258 / 1064 (thread    2) f\b\b\r",
      "STEP   255 / 1064 (thread    3) f\b\b\r",
      "STEP   259 / 1064 (thread    4) f\b\b\r",
      "STEP   260 / 1064 (thread    5) f\b\b\r",
      "STEP   261 / 1064 (thread    0) f\b\b\r",
      "STEP   262 / 1064 (thread    2) f\b\b\r",
      "STEP   263 / 1064 (thread    1) f\b\b\r",
      "STEP   264 / 1064 (thread    4) f\b\b\r",
      "STEP   265 / 1064 (thread    2) f\b\b\r",
      "STEP   267 / 1064 (thread    3) f\b\b\r",
      "STEP   268 / 1064 (thread    0) f\b\b\r",
      "STEP   269 / 1064 (thread    5) f\b\b\r",
      "STEP   266 / 1064 (thread    1) f\b\b\r",
      "STEP   270 / 1064 (thread    2) f\b\b\r",
      "STEP   271 / 1064 (thread    3) f\b\b\r",
      "STEP   272 / 1064 (thread    4) f\b\b\r",
      "STEP   273 / 1064 (thread    0) f\b\b\r",
      "STEP   274 / 1064 (thread    5) f\b\b\r",
      "STEP   275 / 1064 (thread    1) f\b\b\r",
      "STEP   276 / 1064 (thread    2) f\b\b\r",
      "STEP   277 / 1064 (thread    3) f\b\b\r",
      "STEP   278 / 1064 (thread    1) f\b\b\r",
      "STEP   279 / 1064 (thread    2) f\b\b\r",
      "STEP   280 / 1064 (thread    1) f\b\b\r",
      "STEP   281 / 1064 (thread    2) f\b\b\r",
      "STEP   282 / 1064 (thread    0) f\b\b\r",
      "STEP   283 / 1064 (thread    4) f\b\b\r",
      "STEP   284 / 1064 (thread    5) f\b\b\r",
      "STEP   285 / 1064 (thread    1) f\b\b\r",
      "STEP   286 / 1064 (thread    2) f\b\b\r",
      "STEP   287 / 1064 (thread    3) f\b\b\r",
      "STEP   288 / 1064 (thread    1) f\b\b\r",
      "STEP   289 / 1064 (thread    2) f\b\b\r",
      "STEP   290 / 1064 (thread    0) f\b\b\r",
      "STEP   291 / 1064 (thread    4) f\b\b\r",
      "STEP   292 / 1064 (thread    5) f\b\b\r",
      "STEP   293 / 1064 (thread    1) f\b\b\r",
      "STEP   294 / 1064 (thread    2) f\b\b\r",
      "STEP   295 / 1064 (thread    3) f\b\b\r",
      "STEP   296 / 1064 (thread    1) f\b\b\r",
      "STEP   297 / 1064 (thread    2) f\b\b\r",
      "STEP   298 / 1064 (thread    0) f\b\b\r",
      "STEP   299 / 1064 (thread    4) f\b\b\r",
      "STEP   300 / 1064 (thread    5) f\b\b\r",
      "STEP   301 / 1064 (thread    1) f\b\b\r",
      "STEP   302 / 1064 (thread    2) f\b\b\r",
      "STEP   304 / 1064 (thread    1) f\b\b\r",
      "STEP   305 / 1064 (thread    0) f\b\b\r",
      "STEP   306 / 1064 (thread    5) f\b\b\r",
      "STEP   307 / 1064 (thread    2) f\b\b\r",
      "STEP   308 / 1064 (thread    1) f\b\b\r",
      "STEP   309 / 1064 (thread    0) f\b\b\r",
      "STEP   310 / 1064 (thread    4) f\b\b\r",
      "STEP   303 / 1064 (thread    3) f\b\b\r",
      "STEP   311 / 1064 (thread    5) f\b\b\r",
      "STEP   312 / 1064 (thread    2) f\b\b\r",
      "STEP   313 / 1064 (thread    1) f\b\b\r",
      "STEP   314 / 1064 (thread    0) f\b\b\r",
      "STEP   315 / 1064 (thread    1) f\b\b\r",
      "STEP   316 / 1064 (thread    5) f\b\b\r",
      "STEP   317 / 1064 (thread    2) f\b\b\r",
      "STEP   318 / 1064 (thread    3) f\b\b\r",
      "STEP   319 / 1064 (thread    4) f\b\b\r",
      "STEP   320 / 1064 (thread    1) f\b\b\r",
      "STEP   321 / 1064 (thread    0) f\b\b\r",
      "STEP   322 / 1064 (thread    2) f\b\b\r",
      "STEP   323 / 1064 (thread    3) f\b\b\r",
      "STEP   324 / 1064 (thread    5) f\b\b\r",
      "STEP   325 / 1064 (thread    4) f\b\b\r",
      "STEP   326 / 1064 (thread    2) f\b\b\r",
      "STEP   327 / 1064 (thread    1) f\b\b\r",
      "STEP   328 / 1064 (thread    5) f\b\b\r",
      "STEP   329 / 1064 (thread    2) f\b\b\r",
      "STEP   330 / 1064 (thread    0) f\b\b\r",
      "STEP   331 / 1064 (thread    4) f\b\b\r",
      "STEP   332 / 1064 (thread    1) f\b\b\r",
      "STEP   333 / 1064 (thread    3) f\b\b\r",
      "STEP   334 / 1064 (thread    2) f\b\b\r",
      "STEP   335 / 1064 (thread    5) f\b\b\r",
      "STEP   336 / 1064 (thread    0) f\b\b\r",
      "STEP   337 / 1064 (thread    4) f\b\b\r",
      "STEP   338 / 1064 (thread    2) f\b\b\r",
      "STEP   339 / 1064 (thread    1) f\b\b\r",
      "STEP   340 / 1064 (thread    2) f\b\b\r",
      "STEP   341 / 1064 (thread    4)\r",
      "STEP   342 / 1064 (thread    3) f\b\b f\b\b\r",
      "STEP   343 / 1064 (thread    0) f\b\b\r",
      "STEP   344 / 1064 (thread    5) f\b\b\r",
      "STEP   345 / 1064 (thread    2) f\b\b\r",
      "STEP   346 / 1064 (thread    1) f\b\b\r",
      "STEP   347 / 1064 (thread    0) f\b\b\r",
      "STEP   348 / 1064 (thread    2) f\b\b\r",
      "STEP   349 / 1064 (thread    4) f\b\b\r",
      "STEP   350 / 1064 (thread    1) f\b\b\r",
      "STEP   351 / 1064 (thread    3) f\b\b\r",
      "STEP   352 / 1064 (thread    5) f\b\b\r",
      "STEP   353 / 1064 (thread    2) f\b\b\r",
      "STEP   354 / 1064 (thread    1) f\b\b\r",
      "STEP   355 / 1064 (thread    0) f\b\b\r",
      "STEP   356 / 1064 (thread    2) f\b\b\r",
      "STEP   357 / 1064 (thread    3) f\b\b\r",
      "STEP   358 / 1064 (thread    4) f\b\b\r",
      "STEP   360 / 1064 (thread    1) f\b\b\r",
      "STEP   361 / 1064 (thread    5) f\b\b\r",
      "STEP   362 / 1064 (thread    1) f\b\b\r",
      "STEP   363 / 1064 (thread    3) f\b\b\r",
      "STEP   359 / 1064 (thread    2) f\b\b\r",
      "STEP   364 / 1064 (thread    0) f\b\b\r",
      "STEP   365 / 1064 (thread    1) f\b\b\r",
      "STEP   366 / 1064 (thread    2) f\b\b\r",
      "STEP   367 / 1064 (thread    5) f\b\b\r",
      "STEP   368 / 1064 (thread    4) f\b\b\r",
      "STEP   369 / 1064 (thread    3) f\b\b\r",
      "STEP   370 / 1064 (thread    2) f\b\b\r",
      "STEP   371 / 1064 (thread    1) f\b\b\r",
      "STEP   372 / 1064 (thread    5) f\b\b\r",
      "STEP   373 / 1064 (thread    4) f\b\b\r",
      "STEP   374 / 1064 (thread    1) f\b\b\r",
      "STEP   375 / 1064 (thread    0) f\b\b\r",
      "STEP   376 / 1064 (thread    2) f\b\b\r",
      "STEP   377 / 1064 (thread    5) f\b\b\r",
      "STEP   378 / 1064 (thread    3) f\b\b\r",
      "STEP   379 / 1064 (thread    1) f\b\b\r",
      "STEP   380 / 1064 (thread    4) f\b\b\r",
      "STEP   381 / 1064 (thread    2) f\b\b\r",
      "STEP   382 / 1064 (thread    1) f\b\b\r",
      "STEP   383 / 1064 (thread    5) f\b\b\r",
      "STEP   384 / 1064 (thread    0) f\b\b\r",
      "STEP   385 / 1064 (thread    3) f\b\b\r",
      "STEP   386 / 1064 (thread    2) f\b\b\r",
      "STEP   387 / 1064 (thread    1) f\b\b\r",
      "STEP   388 / 1064 (thread    2) f\b\b\r",
      "STEP   389 / 1064 (thread    4) f\b\b\r",
      "STEP   390 / 1064 (thread    5) f\b\b\r",
      "STEP   391 / 1064 (thread    1) f\b\b\r",
      "STEP   392 / 1064 (thread    0) f\b\b\r",
      "STEP   393 / 1064 (thread    2) f\b\b\r",
      "STEP   394 / 1064 (thread    4) f\b\b\r",
      "STEP   395 / 1064 (thread    3) f\b\b\r",
      "STEP   396 / 1064 (thread    1) f\b\b\r",
      "STEP   398 / 1064 (thread    2) f\b\b\r",
      "STEP   399 / 1064 (thread    0) f\b\b\r",
      "STEP   400 / 1064 (thread    1) f\b\b\r",
      "STEP   401 / 1064 (thread    3) f\b\b\r",
      "STEP   397 / 1064 (thread    5) f\b\b\r",
      "STEP   402 / 1064 (thread    2) f\b\b\r",
      "STEP   403 / 1064 (thread    4) f\b\b\r",
      "STEP   404 / 1064 (thread    0) f\b\b\r",
      "STEP   405 / 1064 (thread    3) f\b\b\r",
      "STEP   406 / 1064 (thread    1) f\b\b\r",
      "STEP   407 / 1064 (thread    2) f\b\b\r",
      "STEP   408 / 1064 (thread    5) f\b\b\r",
      "STEP   409 / 1064 (thread    1) f\b\b\r",
      "STEP   410 / 1064 (thread    4) f\b\b\r",
      "STEP   411 / 1064 (thread    0) f\b\b\r",
      "STEP   412 / 1064 (thread    2) f\b\b\r",
      "STEP   413 / 1064 (thread    2) f\b\b\r",
      "STEP   414 / 1064 (thread    1) f\b\b\r",
      "STEP   415 / 1064 (thread    3) f\b\b\r",
      "STEP   416 / 1064 (thread    5) f\b\b\r",
      "STEP   417 / 1064 (thread    4) f\b\b\r",
      "STEP   418 / 1064 (thread    0) f\b\b\r",
      "STEP   419 / 1064 (thread    1) f\b\b\r",
      "STEP   420 / 1064 (thread    2) f\b\b\r",
      "STEP   421 / 1064 (thread    4) f\b\b\r",
      "STEP   422 / 1064 (thread    1) f\b\b\r",
      "STEP   423 / 1064 (thread    0) f\b\b\r",
      "STEP   424 / 1064 (thread    3) f\b\b\r",
      "STEP   425 / 1064 (thread    5) f\b\b\r",
      "STEP   426 / 1064 (thread    2) f\b\b\r",
      "STEP   427 / 1064 (thread    1) f\b\b\r",
      "STEP   428 / 1064 (thread    4) f\b\b\r",
      "STEP   429 / 1064 (thread    5) f\b\b\r",
      "STEP   430 / 1064 (thread    2) f\b\b\r",
      "STEP   431 / 1064 (thread    1) f\b\b\r",
      "STEP   432 / 1064 (thread    2) f\b\b\r",
      "STEP   433 / 1064 (thread    5) f\b\b\r",
      "STEP   434 / 1064 (thread    3) f\b\b\r",
      "STEP   435 / 1064 (thread    0) f\b\b\r",
      "STEP   436 / 1064 (thread    4) f\b\b\r",
      "STEP   437 / 1064 (thread    1) f\b\b\r",
      "STEP   438 / 1064 (thread    5) f\b\b\r",
      "STEP   439 / 1064 (thread    2) f\b\b\r",
      "STEP   440 / 1064 (thread    1) f\b\b\r",
      "STEP   442 / 1064 (thread    2) f\b\b\r",
      "STEP   443 / 1064 (thread    1) f\b\b\r",
      "STEP   444 / 1064 (thread    0) f\b\b\r",
      "STEP   445 / 1064 (thread    4) f\b\b\r",
      "STEP   446 / 1064 (thread    2) f\b\b\r",
      "STEP   447 / 1064 (thread    5) f\b\b\r",
      "STEP   441 / 1064 (thread    3) f\b\b\r",
      "STEP   448 / 1064 (thread    1) f\b\b\r",
      "STEP   449 / 1064 (thread    5) f\b\b\r",
      "STEP   450 / 1064 (thread    2) f\b\b\r",
      "STEP   451 / 1064 (thread    0) f\b\b\r",
      "STEP   452 / 1064 (thread    4) f\b\b\r",
      "STEP   453 / 1064 (thread    2) f\b\b\r",
      "STEP   454 / 1064 (thread    4) f\b\b\r",
      "STEP   455 / 1064 (thread    5) f\b\b\r",
      "STEP   456 / 1064 (thread    2) f\b\b\r",
      "STEP   457 / 1064 (thread    1) f\b\b\r",
      "STEP   458 / 1064 (thread    5) f\b\b\r",
      "STEP   459 / 1064 (thread    3) f\b\b\r",
      "STEP   460 / 1064 (thread    2) f\b\b\r",
      "STEP   461 / 1064 (thread    0) f\b\b\r",
      "STEP   462 / 1064 (thread    5) f\b\b\r",
      "STEP   463 / 1064 (thread    3) f\b\b\r",
      "STEP   464 / 1064 (thread    1) f\b\b\r",
      "STEP   465 / 1064 (thread    2) f\b\b\r",
      "STEP   466 / 1064 (thread    4) f\b\b\r",
      "STEP   467 / 1064 (thread    5) f\b\b\r",
      "STEP   468 / 1064 (thread    2) f\b\b\r",
      "STEP   469 / 1064 (thread    4) f\b\b\r",
      "STEP   470 / 1064 (thread    0) f\b\b\r",
      "STEP   472 / 1064 (thread    1) f\b\b\r",
      "STEP   473 / 1064 (thread    5) f\b\b\r",
      "STEP   474 / 1064 (thread    5) f\b\b\r",
      "STEP   475 / 1064 (thread    1) f\b\b\r",
      "STEP   476 / 1064 (thread    2) f\b\b\r",
      "STEP   477 / 1064 (thread    5) f\b\b\r",
      "STEP   478 / 1064 (thread    4) f\b\b\r",
      "STEP   471 / 1064 (thread    3) f\b\b\r",
      "STEP   479 / 1064 (thread    0) f\b\b\r",
      "STEP   480 / 1064 (thread    5) f\b\b\r",
      "STEP   481 / 1064 (thread    1) f\b\b\r",
      "STEP   482 / 1064 (thread    2) f\b\b\r",
      "STEP   483 / 1064 (thread    5) f\b\b\r",
      "STEP   484 / 1064 (thread    4) f\b\b\r",
      "STEP   485 / 1064 (thread    5) f\b\b\r",
      "STEP   486 / 1064 (thread    3) f\b\b\r",
      "STEP   487 / 1064 (thread    2) f\b\b\r",
      "STEP   488 / 1064 (thread    0) f\b\b\r",
      "STEP   489 / 1064 (thread    1) f\b\b\r",
      "STEP   490 / 1064 (thread    4) f\b\b\r",
      "STEP   491 / 1064 (thread    5) f\b\b\r",
      "STEP   492 / 1064 (thread    1) f\b\b\r",
      "STEP   493 / 1064 (thread    5) f\b\b\r",
      "STEP   494 / 1064 (thread    3) f\b\b\r",
      "STEP   495 / 1064 (thread    2) f\b\b\r",
      "STEP   496 / 1064 (thread    1) f\b\b\r",
      "STEP   497 / 1064 (thread    0) f\b\b\r",
      "STEP   498 / 1064 (thread    5) f\b\b\r",
      "STEP   499 / 1064 (thread    5) f\b\b\r",
      "STEP   500 / 1064 (thread    1) f\b\b\r",
      "STEP   501 / 1064 (thread    4) f\b\b\r",
      "STEP   601 / 1064 (thread    5) f\b\b"
     ]
    },
    {
     "name": "stderr",
     "output_type": "stream",
     "text": [
      "\r",
      "STEP   701 / 1064 (thread    1) f\b\b\r",
      "STEP   801 / 1064 (thread    5) f\b\b\r",
      "STEP   901 / 1064 (thread    5) f\b\b"
     ]
    },
    {
     "name": "stderr",
     "output_type": "stream",
     "text": [
      "\r",
      "STEP  1001 / 1064 (thread    1) f\b\b\n",
      "Reallocating..done. *alloclen = 1880\n"
     ]
    },
    {
     "name": "stderr",
     "output_type": "stream",
     "text": [
      "\n",
      "done.\n",
      "\n",
      "Making a distance matrix from msa.. \n",
      "\r",
      "    0 / 1065 (thread    0)\r",
      "  100 / 1065 (thread    1)\r",
      "  200 / 1065 (thread    1)\r",
      "  300 / 1065 (thread    2)\r",
      "  400 / 1065 (thread    0)\r",
      "  500 / 1065 (thread    4)"
     ]
    },
    {
     "name": "stderr",
     "output_type": "stream",
     "text": [
      "\r",
      "  600 / 1065 (thread    0)\r",
      "  700 / 1065 (thread    4)\r",
      "  800 / 1065 (thread    0)\r",
      "  900 / 1065 (thread    0)\r",
      " 1000 / 1065 (thread    0)\n",
      "done.\n",
      "\n",
      "Constructing a UPGMA tree (efffree=1) ... \n",
      "\r",
      "    0 / 1065\r",
      "   10 / 1065\r",
      "   20 / 1065\r",
      "   30 / 1065\r",
      "   40 / 1065\r",
      "   50 / 1065\r",
      "   60 / 1065\r",
      "   70 / 1065\r",
      "   80 / 1065\r",
      "   90 / 1065\r",
      "  100 / 1065\r",
      "  110 / 1065\r",
      "  120 / 1065\r",
      "  130 / 1065\r",
      "  140 / 1065\r",
      "  150 / 1065\r",
      "  160 / 1065\r",
      "  170 / 1065\r",
      "  180 / 1065\r",
      "  190 / 1065\r",
      "  200 / 1065\r",
      "  210 / 1065\r",
      "  220 / 1065\r",
      "  230 / 1065\r",
      "  240 / 1065\r",
      "  250 / 1065\r",
      "  260 / 1065\r",
      "  270 / 1065\r",
      "  280 / 1065\r",
      "  290 / 1065\r",
      "  300 / 1065\r",
      "  310 / 1065\r",
      "  320 / 1065\r",
      "  330 / 1065\r",
      "  340 / 1065\r",
      "  350 / 1065\r",
      "  360 / 1065\r",
      "  370 / 1065\r",
      "  380 / 1065\r",
      "  390 / 1065\r",
      "  400 / 1065\r",
      "  410 / 1065\r",
      "  420 / 1065\r",
      "  430 / 1065\r",
      "  440 / 1065\r",
      "  450 / 1065\r",
      "  460 / 1065\r",
      "  470 / 1065\r",
      "  480 / 1065\r",
      "  490 / 1065\r",
      "  500 / 1065\r",
      "  510 / 1065\r",
      "  520 / 1065\r",
      "  530 / 1065\r",
      "  540 / 1065\r",
      "  550 / 1065\r",
      "  560 / 1065\r",
      "  570 / 1065\r",
      "  580 / 1065\r",
      "  590 / 1065\r",
      "  600 / 1065\r",
      "  610 / 1065\r",
      "  620 / 1065\r",
      "  630 / 1065\r",
      "  640 / 1065\r",
      "  650 / 1065\r",
      "  660 / 1065\r",
      "  670 / 1065\r",
      "  680 / 1065\r",
      "  690 / 1065\r",
      "  700 / 1065\r",
      "  710 / 1065\r",
      "  720 / 1065\r",
      "  730 / 1065\r",
      "  740 / 1065\r",
      "  750 / 1065\r",
      "  760 / 1065\r",
      "  770 / 1065\r",
      "  780 / 1065\r",
      "  790 / 1065\r",
      "  800 / 1065\r",
      "  810 / 1065\r",
      "  820 / 1065\r",
      "  830 / 1065\r",
      "  840 / 1065\r",
      "  850 / 1065\r",
      "  860 / 1065\r",
      "  870 / 1065\r",
      "  880 / 1065\r",
      "  890 / 1065\r",
      "  900 / 1065\r",
      "  910 / 1065\r",
      "  920 / 1065\r",
      "  930 / 1065\r",
      "  940 / 1065\r",
      "  950 / 1065\r",
      "  960 / 1065\r",
      "  970 / 1065\r",
      "  980 / 1065\r",
      "  990 / 1065\r",
      " 1000 / 1065\r",
      " 1010 / 1065\r",
      " 1020 / 1065\r",
      " 1030 / 1065\r",
      " 1040 / 1065\r",
      " 1050 / 1065\r",
      " 1060 / 1065\n",
      "done.\n",
      "\n",
      "Progressive alignment 2/2... \n",
      "\r",
      "STEP     2 / 1064 (thread    1)\r",
      "STEP     1 / 1064 (thread    0) f\b\b\r",
      "STEP     3 / 1064 (thread    3) f\b\b f\b\b\r",
      "STEP     4 / 1064 (thread    4) f\b\b\r",
      "STEP     5 / 1064 (thread    5) f\b\b\r",
      "STEP     6 / 1064 (thread    2) f\b\b\r",
      "STEP     7 / 1064 (thread    3) f\b\b\r",
      "STEP     8 / 1064 (thread    3) f\b\b\r",
      "STEP     9 / 1064 (thread    3) f\b\b\r",
      "STEP    10 / 1064 (thread    4) f\b\b\r",
      "STEP    11 / 1064 (thread    3) f\b\b\r",
      "STEP    12 / 1064 (thread    4) f\b\b\r",
      "STEP    13 / 1064 (thread    3) f\b\b\r",
      "STEP    14 / 1064 (thread    4) f\b\b\r",
      "STEP    15 / 1064 (thread    3) f\b\b\r",
      "STEP    16 / 1064 (thread    4) f\b\b\r",
      "STEP    17 / 1064 (thread    3) f\b\b\r",
      "STEP    18 / 1064 (thread    4) f\b\b\r",
      "STEP    19 / 1064 (thread    3) f\b\b\r",
      "STEP    20 / 1064 (thread    4) f\b\b\r",
      "STEP    21 / 1064 (thread    5) f\b\b\r",
      "STEP    22 / 1064 (thread    0) f\b\b\r",
      "STEP    23 / 1064 (thread    3) f\b\b\r",
      "STEP    24 / 1064 (thread    4) f\b\b\r",
      "STEP    25 / 1064 (thread    1) f\b\b\r",
      "STEP    26 / 1064 (thread    2) f\b\b\r",
      "STEP    27 / 1064 (thread    3) f\b\b\r",
      "STEP    28 / 1064 (thread    5) f\b\b\r",
      "STEP    29 / 1064 (thread    0) f\b\b\r",
      "STEP    30 / 1064 (thread    4) f\b\b\r",
      "STEP    31 / 1064 (thread    3) f\b\b\r",
      "STEP    32 / 1064 (thread    2) f\b\b\r",
      "STEP    33 / 1064 (thread    1) f\b\b\r",
      "STEP    34 / 1064 (thread    4) f\b\b\r",
      "STEP    35 / 1064 (thread    5) f\b\b\r",
      "STEP    36 / 1064 (thread    0) f\b\b\r",
      "STEP    37 / 1064 (thread    4) f\b\b\r",
      "STEP    38 / 1064 (thread    1) f\b\b\r",
      "STEP    39 / 1064 (thread    3) f\b\b\r",
      "STEP    40 / 1064 (thread    5) f\b\b\r",
      "STEP    41 / 1064 (thread    0) f\b\b\r",
      "STEP    42 / 1064 (thread    4) f\b\b\r",
      "STEP    43 / 1064 (thread    3) f\b\b\r",
      "STEP    44 / 1064 (thread    1) f\b\b\r",
      "STEP    45 / 1064 (thread    5) f\b\b\r",
      "STEP    46 / 1064 (thread    4) f\b\b\r",
      "STEP    47 / 1064 (thread    2) f\b\b\r",
      "STEP    48 / 1064 (thread    0) f\b\b\r",
      "STEP    49 / 1064 (thread    3) f\b\b\r",
      "STEP    50 / 1064 (thread    4) f\b\b\r",
      "STEP    51 / 1064 (thread    1) f\b\b\r",
      "STEP    52 / 1064 (thread    3) f\b\b\r",
      "STEP    53 / 1064 (thread    5) f\b\b\r",
      "STEP    54 / 1064 (thread    2) f\b\b\r",
      "STEP    55 / 1064 (thread    0) f\b\b\r",
      "STEP    56 / 1064 (thread    4) f\b\b\r",
      "STEP    57 / 1064 (thread    3) f\b\b\r",
      "STEP    58 / 1064 (thread    1) f\b\b\r",
      "STEP    59 / 1064 (thread    5) f\b\b\r",
      "STEP    60 / 1064 (thread    4) f\b\b\r",
      "STEP    61 / 1064 (thread    2) f\b\b\r",
      "STEP    62 / 1064 (thread    0) f\b\b\r",
      "STEP    63 / 1064 (thread    3) f\b\b\r",
      "STEP    64 / 1064 (thread    4) f\b\b\r",
      "STEP    65 / 1064 (thread    1) f\b\b\r",
      "STEP    66 / 1064 (thread    5) f\b\b\r",
      "STEP    67 / 1064 (thread    3) f\b\b\r",
      "STEP    68 / 1064 (thread    2) f\b\b\r",
      "STEP    69 / 1064 (thread    0) f\b\b\r",
      "STEP    70 / 1064 (thread    4) f\b\b\r",
      "STEP    71 / 1064 (thread    3) f\b\b\r",
      "STEP    72 / 1064 (thread    1) f\b\b\r",
      "STEP    73 / 1064 (thread    5) f\b\b\r",
      "STEP    74 / 1064 (thread    4) f\b\b\r",
      "STEP    75 / 1064 (thread    2) f\b\b\r",
      "STEP    76 / 1064 (thread    0) f\b\b\r",
      "STEP    77 / 1064 (thread    3) f\b\b\r",
      "STEP    78 / 1064 (thread    4) f\b\b\r",
      "STEP    79 / 1064 (thread    1) f\b\b\r",
      "STEP    80 / 1064 (thread    5) f\b\b\r",
      "STEP    81 / 1064 (thread    3) f\b\b\r",
      "STEP    82 / 1064 (thread    2) f\b\b\r",
      "STEP    83 / 1064 (thread    0) f\b\b\r",
      "STEP    84 / 1064 (thread    4) f\b\b\r",
      "STEP    85 / 1064 (thread    3) f\b\b\r",
      "STEP    86 / 1064 (thread    1) f\b\b\r",
      "STEP    87 / 1064 (thread    5) f\b\b\r",
      "STEP    88 / 1064 (thread    4) f\b\b\r",
      "STEP    89 / 1064 (thread    2) f\b\b\r",
      "STEP    90 / 1064 (thread    0) f\b\b\r",
      "STEP    91 / 1064 (thread    3) f\b\b\r",
      "STEP    92 / 1064 (thread    4) f\b\b\r",
      "STEP    93 / 1064 (thread    1) f\b\b\r",
      "STEP    94 / 1064 (thread    5) f\b\b\r",
      "STEP    95 / 1064 (thread    3) f\b\b\r",
      "STEP    96 / 1064 (thread    2) f\b\b\r",
      "STEP    97 / 1064 (thread    0) f\b\b\r",
      "STEP    98 / 1064 (thread    4) f\b\b\r",
      "STEP    99 / 1064 (thread    1) f\b\b\r",
      "STEP   100 / 1064 (thread    3) f\b\b\r",
      "STEP   101 / 1064 (thread    4) f\b\b\r",
      "STEP   102 / 1064 (thread    2) f\b\b\r",
      "STEP   103 / 1064 (thread    5) f\b\b\r",
      "STEP   106 / 1064 (thread    1) f\b\b\r",
      "STEP   107 / 1064 (thread    4) f\b\b\r",
      "STEP   104 / 1064 (thread    0) f\b\b\r",
      "STEP   108 / 1064 (thread    4) f\b\b\r",
      "STEP   109 / 1064 (thread    1) f\b\b\r",
      "STEP   110 / 1064 (thread    2) f\b\b\r",
      "STEP   111 / 1064 (thread    4) f\b\b\r",
      "STEP   112 / 1064 (thread    5) f\b\b\r",
      "STEP   105 / 1064 (thread    3) f\b\b\r",
      "STEP   113 / 1064 (thread    4) f\b\b\r",
      "STEP   114 / 1064 (thread    0) f\b\b\r",
      "STEP   115 / 1064 (thread    1) f\b\b\r",
      "STEP   116 / 1064 (thread    2) f\b\b\r",
      "STEP   117 / 1064 (thread    0) f\b\b\r",
      "STEP   118 / 1064 (thread    1) f\b\b\r",
      "STEP   119 / 1064 (thread    4) f\b\b\r",
      "STEP   120 / 1064 (thread    3) f\b\b\r",
      "STEP   121 / 1064 (thread    4) f\b\b\r",
      "STEP   122 / 1064 (thread    3) f\b\b\r",
      "STEP   123 / 1064 (thread    1) f\b\b\r",
      "STEP   124 / 1064 (thread    5) f\b\b\r",
      "STEP   125 / 1064 (thread    2) f\b\b\r",
      "STEP   126 / 1064 (thread    4) f\b\b\r",
      "STEP   127 / 1064 (thread    3) f\b\b\r",
      "STEP   128 / 1064 (thread    1) f\b\b\r",
      "STEP   129 / 1064 (thread    4) f\b\b\r",
      "STEP   130 / 1064 (thread    0) f\b\b\r",
      "STEP   131 / 1064 (thread    5) f\b\b\r",
      "STEP   132 / 1064 (thread    2) f\b\b\r",
      "STEP   133 / 1064 (thread    3) f\b\b\r",
      "STEP   134 / 1064 (thread    4) f\b\b\r",
      "STEP   135 / 1064 (thread    1) f\b\b\r",
      "STEP   136 / 1064 (thread    0) f\b\b\r",
      "STEP   137 / 1064 (thread    3) f\b\b\r",
      "STEP   138 / 1064 (thread    5) f\b\b\r",
      "STEP   139 / 1064 (thread    2) f\b\b\r",
      "STEP   140 / 1064 (thread    4) f\b\b\r",
      "STEP   141 / 1064 (thread    3) f\b\b\r",
      "STEP   142 / 1064 (thread    1) f\b\b\r",
      "STEP   143 / 1064 (thread    4) f\b\b\r",
      "STEP   144 / 1064 (thread    0) f\b\b\r",
      "STEP   145 / 1064 (thread    2) f\b\b\r",
      "STEP   146 / 1064 (thread    5) f\b\b\r",
      "STEP   147 / 1064 (thread    4) f\b\b\r",
      "STEP   148 / 1064 (thread    1) f\b\b\r",
      "STEP   149 / 1064 (thread    0) f\b\b\r",
      "STEP   150 / 1064 (thread    4) f\b\b\r",
      "STEP   151 / 1064 (thread    3) f\b\b\r",
      "STEP   152 / 1064 (thread    2) f\b\b\r",
      "STEP   153 / 1064 (thread    5) f\b\b\r",
      "STEP   154 / 1064 (thread    4) f\b\b\r",
      "STEP   155 / 1064 (thread    3) f\b\b\r",
      "STEP   156 / 1064 (thread    0) f\b\b\r",
      "STEP   157 / 1064 (thread    2) f\b\b\r",
      "STEP   158 / 1064 (thread    1) f\b\b\r",
      "STEP   159 / 1064 (thread    4) f\b\b\r",
      "STEP   160 / 1064 (thread    3) f\b\b\r",
      "STEP   161 / 1064 (thread    5) f\b\b\r",
      "STEP   162 / 1064 (thread    0) f\b\b\r",
      "STEP   163 / 1064 (thread    4) f\b\b\r",
      "STEP   164 / 1064 (thread    2) f\b\b\r",
      "STEP   165 / 1064 (thread    3) f\b\b\r",
      "STEP   166 / 1064 (thread    1) f\b\b\r",
      "STEP   167 / 1064 (thread    4) f\b\b\r",
      "STEP   168 / 1064 (thread    5) f\b\b\r",
      "STEP   169 / 1064 (thread    3) f\b\b\r",
      "STEP   171 / 1064 (thread    2) f\b\b\r",
      "STEP   172 / 1064 (thread    1) f\b\b\r",
      "STEP   173 / 1064 (thread    3) f\b\b\r",
      "STEP   170 / 1064 (thread    0) f\b\b\r",
      "STEP   174 / 1064 (thread    4) f\b\b\r",
      "STEP   175 / 1064 (thread    5) f\b\b\r",
      "STEP   176 / 1064 (thread    4) f\b\b\r",
      "STEP   177 / 1064 (thread    5) f\b\b\r",
      "STEP   178 / 1064 (thread    3) f\b\b\r",
      "STEP   179 / 1064 (thread    4) f\b\b\r",
      "STEP   180 / 1064 (thread    2) f\b\b\r",
      "STEP   181 / 1064 (thread    1) f\b\b\r",
      "STEP   182 / 1064 (thread    3) f\b\b\r",
      "STEP   183 / 1064 (thread    5) f\b\b\r",
      "STEP   184 / 1064 (thread    0) f\b\b\r",
      "STEP   185 / 1064 (thread    3) f\b\b\r",
      "STEP   186 / 1064 (thread    1) f\b\b\r",
      "STEP   187 / 1064 (thread    4) f\b\b\r",
      "STEP   188 / 1064 (thread    3) f\b\b\r",
      "STEP   189 / 1064 (thread    5) f\b\b\r",
      "STEP   190 / 1064 (thread    0) f\b\b\r",
      "STEP   191 / 1064 (thread    3) f\b\b\r",
      "STEP   192 / 1064 (thread    2) f\b\b\r",
      "STEP   193 / 1064 (thread    4) f\b\b\r",
      "STEP   194 / 1064 (thread    1) f\b\b\r",
      "STEP   195 / 1064 (thread    5) f\b\b\r",
      "STEP   196 / 1064 (thread    0) f\b\b\r",
      "STEP   197 / 1064 (thread    3) f\b\b\r",
      "STEP   198 / 1064 (thread    4) f\b\b\r",
      "STEP   199 / 1064 (thread    1) f\b\b\r",
      "STEP   200 / 1064 (thread    3) f\b\b\r",
      "STEP   201 / 1064 (thread    5) f\b\b\r",
      "STEP   202 / 1064 (thread    0) f\b\b\r",
      "STEP   203 / 1064 (thread    4) f\b\b\r",
      "STEP   204 / 1064 (thread    2) f\b\b\r",
      "STEP   205 / 1064 (thread    3) f\b\b\r",
      "STEP   206 / 1064 (thread    4) f\b\b\r",
      "STEP   207 / 1064 (thread    1) f\b\b\r",
      "STEP   208 / 1064 (thread    5) f\b\b\r",
      "STEP   209 / 1064 (thread    0) f\b\b\r",
      "STEP   210 / 1064 (thread    3) f\b\b\r",
      "STEP   211 / 1064 (thread    2) f\b\b\r",
      "STEP   212 / 1064 (thread    4) f\b\b\r",
      "STEP   213 / 1064 (thread    3) f\b\b\r",
      "STEP   214 / 1064 (thread    4) f\b\b\r",
      "STEP   215 / 1064 (thread    1) f\b\b\r",
      "STEP   216 / 1064 (thread    0) f\b\b\r",
      "STEP   217 / 1064 (thread    5) f\b\b\r",
      "STEP   218 / 1064 (thread    3) f\b\b\r",
      "STEP   219 / 1064 (thread    2) f\b\b\r",
      "STEP   220 / 1064 (thread    4) f\b\b\r",
      "STEP   221 / 1064 (thread    5) f\b\b\r",
      "STEP   222 / 1064 (thread    0) f\b\b\r",
      "STEP   223 / 1064 (thread    3) f\b\b\r",
      "STEP   224 / 1064 (thread    2) f\b\b\r",
      "STEP   225 / 1064 (thread    4) f\b\b\r",
      "STEP   226 / 1064 (thread    1) f\b\b\r",
      "STEP   227 / 1064 (thread    3) f\b\b\r",
      "STEP   228 / 1064 (thread    0)\r",
      "STEP   229 / 1064 (thread    5) f\b\b f\b\b\r",
      "STEP   230 / 1064 (thread    2) f\b\b\r",
      "STEP   231 / 1064 (thread    3) f\b\b\r",
      "STEP   232 / 1064 (thread    1) f\b\b\r",
      "STEP   233 / 1064 (thread    4) f\b\b\r",
      "STEP   234 / 1064 (thread    5) f\b\b\r",
      "STEP   235 / 1064 (thread    0) f\b\b\r",
      "STEP   236 / 1064 (thread    3) f\b\b\r",
      "STEP   237 / 1064 (thread    2) f\b\b\r",
      "STEP   238 / 1064 (thread    1) f\b\b\r",
      "STEP   239 / 1064 (thread    4) f\b\b\r",
      "STEP   240 / 1064 (thread    5) f\b\b\r",
      "STEP   241 / 1064 (thread    0) f\b\b\r",
      "STEP   242 / 1064 (thread    4) f\b\b\r",
      "STEP   243 / 1064 (thread    3) f\b\b\r",
      "STEP   244 / 1064 (thread    1) f\b\b\r",
      "STEP   245 / 1064 (thread    5) f\b\b\r",
      "STEP   246 / 1064 (thread    4) f\b\b\r",
      "STEP   247 / 1064 (thread    3) f\b\b\r",
      "STEP   248 / 1064 (thread    2) f\b\b\r",
      "STEP   249 / 1064 (thread    1) f\b\b\r",
      "STEP   250 / 1064 (thread    5) f\b\b\r",
      "STEP   251 / 1064 (thread    0) f\b\b\r",
      "STEP   252 / 1064 (thread    3) f\b\b\r",
      "STEP   253 / 1064 (thread    4)\r",
      "STEP   254 / 1064 (thread    2) f\b\b f\b\b\r",
      "STEP   255 / 1064 (thread    1) f\b\b\r",
      "STEP   256 / 1064 (thread    3) f\b\b\r",
      "STEP   257 / 1064 (thread    4) f\b\b\r",
      "STEP   258 / 1064 (thread    5) f\b\b\r",
      "STEP   259 / 1064 (thread    0) f\b\b\r",
      "STEP   260 / 1064 (thread    2) f\b\b\r",
      "STEP   261 / 1064 (thread    3) f\b\b\r",
      "STEP   262 / 1064 (thread    1) f\b\b\r",
      "STEP   263 / 1064 (thread    4) f\b\b\r",
      "STEP   264 / 1064 (thread    3) f\b\b\r",
      "STEP   265 / 1064 (thread    0) f\b\b\r",
      "STEP   266 / 1064 (thread    5) f\b\b\r",
      "STEP   267 / 1064 (thread    4) f\b\b\r",
      "STEP   269 / 1064 (thread    1) f\b\b\r",
      "STEP   270 / 1064 (thread    3) f\b\b\r",
      "STEP   271 / 1064 (thread    1) f\b\b\r",
      "STEP   272 / 1064 (thread    4) f\b\b\r",
      "STEP   273 / 1064 (thread    3) f\b\b\r",
      "STEP   274 / 1064 (thread    1) f\b\b\r",
      "STEP   275 / 1064 (thread    5) f\b\b\r",
      "STEP   276 / 1064 (thread    0) f\b\b\r",
      "STEP   268 / 1064 (thread    2) f\b\b\r",
      "STEP   277 / 1064 (thread    4) f\b\b\r",
      "STEP   278 / 1064 (thread    1) f\b\b\r",
      "STEP   279 / 1064 (thread    4) f\b\b\r",
      "STEP   280 / 1064 (thread    0) f\b\b\r",
      "STEP   281 / 1064 (thread    5) f\b\b\r",
      "STEP   282 / 1064 (thread    3) f\b\b\r",
      "STEP   283 / 1064 (thread    4) f\b\b\r",
      "STEP   284 / 1064 (thread    1) f\b\b\r",
      "STEP   285 / 1064 (thread    2) f\b\b\r",
      "STEP   286 / 1064 (thread    3) f\b\b\r",
      "STEP   287 / 1064 (thread    4) f\b\b\r",
      "STEP   288 / 1064 (thread    5) f\b\b\r",
      "STEP   289 / 1064 (thread    0) f\b\b\r",
      "STEP   290 / 1064 (thread    4) f\b\b\r",
      "STEP   291 / 1064 (thread    3) f\b\b\r",
      "STEP   292 / 1064 (thread    1) f\b\b\r",
      "STEP   294 / 1064 (thread    3) f\b\b\r",
      "STEP   295 / 1064 (thread    3) f\b\b\r",
      "STEP   296 / 1064 (thread    5) f\b\b\r",
      "STEP   297 / 1064 (thread    1) f\b\b\r",
      "STEP   293 / 1064 (thread    2) f\b\b\r",
      "STEP   298 / 1064 (thread    4) f\b\b\r",
      "STEP   299 / 1064 (thread    4) f\b\b\r",
      "STEP   300 / 1064 (thread    0) f\b\b\r",
      "STEP   301 / 1064 (thread    3) f\b\b\r",
      "STEP   302 / 1064 (thread    3) f\b\b\r",
      "STEP   303 / 1064 (thread    4) f\b\b\r",
      "STEP   304 / 1064 (thread    0) f\b\b\r",
      "STEP   305 / 1064 (thread    5) f\b\b\r",
      "STEP   306 / 1064 (thread    1) f\b\b\r",
      "STEP   307 / 1064 (thread    2) f\b\b\r",
      "STEP   308 / 1064 (thread    3) f\b\b\r",
      "STEP   309 / 1064 (thread    4) f\b\b\r",
      "STEP   310 / 1064 (thread    0) f\b\b\r",
      "STEP   311 / 1064 (thread    5) f\b\b\r",
      "STEP   312 / 1064 (thread    3) f\b\b\r",
      "STEP   313 / 1064 (thread    4) f\b\b\r",
      "STEP   314 / 1064 (thread    1) f\b\b\r",
      "STEP   315 / 1064 (thread    2) f\b\b\r",
      "STEP   316 / 1064 (thread    0) f\b\b\r",
      "STEP   317 / 1064 (thread    3) f\b\b\r",
      "STEP   318 / 1064 (thread    5) f\b\b\r",
      "STEP   319 / 1064 (thread    4) f\b\b\r",
      "STEP   320 / 1064 (thread    3) f\b\b\r",
      "STEP   321 / 1064 (thread    1) f\b\b\r",
      "STEP   322 / 1064 (thread    4) f\b\b\r",
      "STEP   323 / 1064 (thread    2) f\b\b\r",
      "STEP   324 / 1064 (thread    0) f\b\b\r",
      "STEP   326 / 1064 (thread    3) f\b\b\r",
      "STEP   325 / 1064 (thread    5) f\b\b\r",
      "STEP   327 / 1064 (thread    0) f\b\b\r",
      "STEP   328 / 1064 (thread    4) f\b\b\r",
      "STEP   329 / 1064 (thread    3) f\b\b\r",
      "STEP   330 / 1064 (thread    1) f\b\b\r",
      "STEP   331 / 1064 (thread    2) f\b\b\r",
      "STEP   332 / 1064 (thread    3) f\b\b\r",
      "STEP   333 / 1064 (thread    0) f\b\b\r",
      "STEP   334 / 1064 (thread    1) f\b\b\r",
      "STEP   335 / 1064 (thread    5) f\b\b\r",
      "STEP   336 / 1064 (thread    4) f\b\b\r",
      "STEP   337 / 1064 (thread    0) f\b\b\r",
      "STEP   338 / 1064 (thread    4) f\b\b\r",
      "STEP   339 / 1064 (thread    3) f\b\b\r",
      "STEP   340 / 1064 (thread    1) f\b\b\r",
      "STEP   341 / 1064 (thread    4) f\b\b\r",
      "STEP   342 / 1064 (thread    3) f\b\b\r",
      "STEP   344 / 1064 (thread    2) f\b\b\r",
      "STEP   343 / 1064 (thread    5) f\b\b\r",
      "STEP   345 / 1064 (thread    0) f\b\b\r",
      "STEP   346 / 1064 (thread    1) f\b\b\r",
      "STEP   347 / 1064 (thread    2) f\b\b\r",
      "STEP   348 / 1064 (thread    3) f\b\b\r",
      "STEP   349 / 1064 (thread    4) f\b\b\r",
      "STEP   350 / 1064 (thread    0) f\b\b\r",
      "STEP   351 / 1064 (thread    3) f\b\b\r",
      "STEP   352 / 1064 (thread    5) f\b\b\r",
      "STEP   353 / 1064 (thread    2) f\b\b\r",
      "STEP   354 / 1064 (thread    1) f\b\b\r",
      "STEP   355 / 1064 (thread    0) f\b\b\r",
      "STEP   356 / 1064 (thread    4) f\b\b\r",
      "STEP   357 / 1064 (thread    2) f\b\b\r",
      "STEP   358 / 1064 (thread    3) f\b\b\r",
      "STEP   359 / 1064 (thread    1) f\b\b\r",
      "STEP   360 / 1064 (thread    4) f\b\b\r",
      "STEP   361 / 1064 (thread    3) f\b\b\r",
      "STEP   362 / 1064 (thread    4) f\b\b\r",
      "STEP   363 / 1064 (thread    0) f\b\b\r",
      "STEP   364 / 1064 (thread    5) f\b\b\r",
      "STEP   365 / 1064 (thread    3) f\b\b\r",
      "STEP   366 / 1064 (thread    2) f\b\b\r",
      "STEP   367 / 1064 (thread    1) f\b\b\r",
      "STEP   368 / 1064 (thread    4) f\b\b\r",
      "STEP   369 / 1064 (thread    0) f\b\b\r",
      "STEP   370 / 1064 (thread    3) f\b\b\r",
      "STEP   371 / 1064 (thread    5) f\b\b\r",
      "STEP   372 / 1064 (thread    2) f\b\b\r",
      "STEP   373 / 1064 (thread    4) f\b\b\r",
      "STEP   374 / 1064 (thread    1) f\b\b\r",
      "STEP   375 / 1064 (thread    3) f\b\b\r",
      "STEP   376 / 1064 (thread    4) f\b\b\r",
      "STEP   377 / 1064 (thread    1) f\b\b\r",
      "STEP   378 / 1064 (thread    0) f\b\b\r",
      "STEP   379 / 1064 (thread    2) f\b\b\r",
      "STEP   380 / 1064 (thread    5) f\b\b\r",
      "STEP   381 / 1064 (thread    3) f\b\b\r",
      "STEP   382 / 1064 (thread    4) f\b\b\r",
      "STEP   383 / 1064 (thread    4) f\b\b\r",
      "STEP   384 / 1064 (thread    0) f\b\b\r",
      "STEP   385 / 1064 (thread    1) f\b\b\r",
      "STEP   386 / 1064 (thread    3) f\b\b\r",
      "STEP   387 / 1064 (thread    2) f\b\b\r",
      "STEP   388 / 1064 (thread    5) f\b\b\r",
      "STEP   389 / 1064 (thread    4) f\b\b\r",
      "STEP   390 / 1064 (thread    3) f\b\b\r",
      "STEP   391 / 1064 (thread    4) f\b\b\r",
      "STEP   392 / 1064 (thread    3) f\b\b\r",
      "STEP   393 / 1064 (thread    0) f\b\b\r",
      "STEP   394 / 1064 (thread    4) f\b\b\r",
      "STEP   395 / 1064 (thread    1) f\b\b\r",
      "STEP   396 / 1064 (thread    3) f\b\b\r",
      "STEP   397 / 1064 (thread    5) f\b\b\r",
      "STEP   398 / 1064 (thread    2) f\b\b\r",
      "STEP   399 / 1064 (thread    4) f\b\b\r",
      "STEP   400 / 1064 (thread    3) f\b\b\r",
      "STEP   401 / 1064 (thread    0) f\b\b\r",
      "STEP   402 / 1064 (thread    1) f\b\b\r",
      "STEP   403 / 1064 (thread    5) f\b\b\r",
      "STEP   404 / 1064 (thread    2) f\b\b\r",
      "STEP   405 / 1064 (thread    4) f\b\b\r",
      "STEP   406 / 1064 (thread    3) f\b\b\r",
      "STEP   407 / 1064 (thread    4) f\b\b\r",
      "STEP   408 / 1064 (thread    3) f\b\b\r",
      "STEP   409 / 1064 (thread    0) f\b\b\r",
      "STEP   410 / 1064 (thread    1) f\b\b\r",
      "STEP   411 / 1064 (thread    5) f\b\b\r",
      "STEP   412 / 1064 (thread    2) f\b\b\r",
      "STEP   413 / 1064 (thread    3) f\b\b\r",
      "STEP   414 / 1064 (thread    4) f\b\b\r",
      "STEP   415 / 1064 (thread    5) f\b\b\r",
      "STEP   416 / 1064 (thread    4) f\b\b\r",
      "STEP   417 / 1064 (thread    2) f\b\b\r",
      "STEP   418 / 1064 (thread    1) f\b\b\r",
      "STEP   419 / 1064 (thread    3) f\b\b\r",
      "STEP   420 / 1064 (thread    5) f\b\b\r",
      "STEP   421 / 1064 (thread    2) f\b\b\r",
      "STEP   422 / 1064 (thread    0) f\b\b\r",
      "STEP   423 / 1064 (thread    3) f\b\b\r",
      "STEP   424 / 1064 (thread    4) f\b\b\r",
      "STEP   425 / 1064 (thread    1) f\b\b\r",
      "STEP   426 / 1064 (thread    3) f\b\b\r",
      "STEP   427 / 1064 (thread    4) f\b\b\r",
      "STEP   428 / 1064 (thread    5) f\b\b\r",
      "STEP   429 / 1064 (thread    2) f\b\b\r",
      "STEP   430 / 1064 (thread    0) f\b\b\r",
      "STEP   431 / 1064 (thread    1) f\b\b\r",
      "STEP   432 / 1064 (thread    3) f\b\b\r",
      "STEP   433 / 1064 (thread    4) f\b\b\r",
      "STEP   434 / 1064 (thread    3) f\b\b\r",
      "STEP   435 / 1064 (thread    5) f\b\b\r",
      "STEP   436 / 1064 (thread    2) f\b\b\r",
      "STEP   437 / 1064 (thread    4) f\b\b\r",
      "STEP   438 / 1064 (thread    0) f\b\b\r",
      "STEP   439 / 1064 (thread    1) f\b\b\r",
      "STEP   440 / 1064 (thread    4) f\b\b\r",
      "STEP   441 / 1064 (thread    3) f\b\b\r",
      "STEP   442 / 1064 (thread    5) f\b\b\r",
      "STEP   443 / 1064 (thread    4) f\b\b\r",
      "STEP   444 / 1064 (thread    2) f\b\b\r",
      "STEP   445 / 1064 (thread    1) f\b\b\r",
      "STEP   446 / 1064 (thread    3) f\b\b\r",
      "STEP   447 / 1064 (thread    0) f\b\b\r",
      "STEP   448 / 1064 (thread    4) f\b\b\r",
      "STEP   449 / 1064 (thread    4) f\b\b\r",
      "STEP   450 / 1064 (thread    5) f\b\b\r",
      "STEP   451 / 1064 (thread    1) f\b\b\r",
      "STEP   452 / 1064 (thread    3) f\b\b\r",
      "STEP   453 / 1064 (thread    4) f\b\b\r",
      "STEP   454 / 1064 (thread    3) f\b\b\r",
      "STEP   455 / 1064 (thread    5) f\b\b\r",
      "STEP   456 / 1064 (thread    0) f\b\b\r",
      "STEP   457 / 1064 (thread    2) f\b\b\r",
      "STEP   458 / 1064 (thread    1) f\b\b\r",
      "STEP   460 / 1064 (thread    4) f\b\b\r",
      "STEP   459 / 1064 (thread    3) f\b\b\r",
      "STEP   461 / 1064 (thread    0) f\b\b\r",
      "STEP   462 / 1064 (thread    4) f\b\b\r",
      "STEP   463 / 1064 (thread    2) f\b\b\r",
      "STEP   464 / 1064 (thread    1) f\b\b\r",
      "STEP   465 / 1064 (thread    5) f\b\b\r",
      "STEP   466 / 1064 (thread    3) f\b\b\r",
      "STEP   467 / 1064 (thread    4) f\b\b\r",
      "STEP   468 / 1064 (thread    5) f\b\b\r",
      "STEP   469 / 1064 (thread    0) f\b\b\r",
      "STEP   470 / 1064 (thread    3) f\b\b\r",
      "STEP   471 / 1064 (thread    2) f\b\b\r",
      "STEP   472 / 1064 (thread    4) f\b\b\r",
      "STEP   473 / 1064 (thread    3) f\b\b\r",
      "STEP   474 / 1064 (thread    1) f\b\b\r",
      "STEP   475 / 1064 (thread    5) f\b\b\r",
      "STEP   476 / 1064 (thread    2) f\b\b\r",
      "STEP   477 / 1064 (thread    0) f\b\b\r",
      "STEP   478 / 1064 (thread    1) f\b\b\r",
      "STEP   479 / 1064 (thread    4) f\b\b\r",
      "STEP   480 / 1064 (thread    3) f\b\b\r",
      "STEP   481 / 1064 (thread    5) f\b\b\r",
      "STEP   482 / 1064 (thread    3) f\b\b\r",
      "STEP   483 / 1064 (thread    2) f\b\b\r",
      "STEP   484 / 1064 (thread    4) f\b\b\r",
      "STEP   485 / 1064 (thread    0) f\b\b\r",
      "STEP   486 / 1064 (thread    3) f\b\b\r",
      "STEP   487 / 1064 (thread    1) f\b\b\r",
      "STEP   488 / 1064 (thread    4) f\b\b\r",
      "STEP   490 / 1064 (thread    2) f\b\b\r",
      "STEP   491 / 1064 (thread    5) f\b\b\r",
      "STEP   489 / 1064 (thread    3) f\b\b\r",
      "STEP   492 / 1064 (thread    0) f\b\b\r",
      "STEP   493 / 1064 (thread    4) f\b\b\r",
      "STEP   494 / 1064 (thread    5) f\b\b\r",
      "STEP   495 / 1064 (thread    1) f\b\b\r",
      "STEP   496 / 1064 (thread    2) f\b\b\r",
      "STEP   497 / 1064 (thread    4) f\b\b\r",
      "STEP   498 / 1064 (thread    3) f\b\b\r",
      "STEP   499 / 1064 (thread    1) f\b\b\r",
      "STEP   500 / 1064 (thread    0) f\b\b\r",
      "STEP   501 / 1064 (thread    4) f\b\b"
     ]
    },
    {
     "name": "stderr",
     "output_type": "stream",
     "text": [
      "\r",
      "STEP   601 / 1064 (thread    4) f\b\b\r",
      "STEP   701 / 1064 (thread    3) f\b\b\r",
      "STEP   801 / 1064 (thread    5) f\b\b\r",
      "STEP   901 / 1064 (thread    1) f\b\b"
     ]
    },
    {
     "name": "stderr",
     "output_type": "stream",
     "text": [
      "\n",
      "Reallocating..done. *alloclen = 1867\n",
      "\r",
      "STEP  1001 / 1064 (thread    2) f\b\b"
     ]
    },
    {
     "name": "stderr",
     "output_type": "stream",
     "text": [
      "\n",
      "done.\n",
      "\n",
      "disttbfast (nuc) Version 7.490\n",
      "alg=A, model=DNA200 (2), 1.53 (4.59), -0.00 (-0.00), noshift, amax=0.0\n",
      "6 thread(s)\n",
      "\n",
      "\n",
      "Strategy:\n",
      " FFT-NS-2 (Fast but rough)\n",
      " Progressive method (guide trees were built 2 times.)\n",
      "\n",
      "If unsure which option to use, try 'mafft --auto input > output'.\n",
      "For more information, see 'mafft --help', 'mafft --man' and the mafft page.\n",
      "\n",
      "The default gap scoring scheme has been changed in version 7.110 (2013 Oct).\n",
      "It tends to insert more gaps into gap-rich regions than previous versions.\n",
      "To disable this change, add the --leavegappyregion option.\n",
      "\n"
     ]
    },
    {
     "name": "stdout",
     "output_type": "stream",
     "text": [
      "{'max_gap_frequency': 1.0, 'min_conservation': 0.4, 'alignment': TabularMSA[DNA]\n",
      "-----------------------------------------------------------------------\n",
      "Stats:\n",
      "    sequence count: 1065\n",
      "    position count: 488\n",
      "-----------------------------------------------------------------------\n",
      "TGAGGAATATTGGTCAATGGAGGCAACTCTGAA ... GCTGAGGCTCGAAGGTGCGGGTATCGAACAGG-\n",
      "TGAGGAATATTGGTCAATGGCCGGAAGGCTGAA ... GCTGAGGCACGAAAGTGCGGGGATCAAACAGG-\n",
      "...\n",
      "TGAGGAATATTGGTCAATGGGCGGAAGCCTGAA ... GCTGAGGCACGAAAGCGCGGGGATCGAACAGG-\n",
      "TGGGGAATTTTGGACAATGGGCGCAAGCCTGAT ... GCTCATGCACGAAAGCGTGGGGAGCAAACAGG-}\n",
      "{'max_gap_frequency': 1.0, 'min_conservation': 0.4, 'alignment': TabularMSA[DNA]\n",
      "-----------------------------------------------------------------------\n",
      "Stats:\n",
      "    sequence count: 1065\n",
      "    position count: 488\n",
      "-----------------------------------------------------------------------\n",
      "TGAGGAATATTGGTCAATGGAGGCAACTCTGAA ... GCTGAGGCTCGAAGGTGCGGGTATCGAACAGG-\n",
      "TGAGGAATATTGGTCAATGGCCGGAAGGCTGAA ... GCTGAGGCACGAAAGTGCGGGGATCAAACAGG-\n",
      "...\n",
      "TGAGGAATATTGGTCAATGGGCGGAAGCCTGAA ... GCTGAGGCACGAAAGCGCGGGGATCGAACAGG-\n",
      "TGGGGAATTTTGGACAATGGGCGCAAGCCTGAT ... GCTCATGCACGAAAGCGTGGGGAGCAAACAGG-}\n"
     ]
    },
    {
     "name": "stdout",
     "output_type": "stream",
     "text": [
      "{'n_threads': 6, 'alignment': <q2_types.feature_data._format.AlignedDNAFASTAFormat object at 0x7fbdb95fd4c0>}\n",
      "{'n_threads': 6, 'alignment': <q2_types.feature_data._format.AlignedDNAFASTAFormat object at 0x7fbdb95fd4c0>}\n",
      "Running external command line application. This may print messages to stdout and/or stderr.\n",
      "The command being run is below. This command cannot be manually re-run as it will depend on temporary files that no longer exist.\n",
      "\n",
      "Command: FastTreeMP -quote -nt /tmp/qiime2-archive-mdbhaynf/5f3c5509-16e5-412b-8423-f1689cec1e0a/data/aligned-dna-sequences.fasta\n",
      "\n"
     ]
    },
    {
     "name": "stderr",
     "output_type": "stream",
     "text": [
      "FastTree Version 2.1.10 Double precision (No SSE3), OpenMP (6 threads)\n",
      "Alignment: /tmp/qiime2-archive-mdbhaynf/5f3c5509-16e5-412b-8423-f1689cec1e0a/data/aligned-dna-sequences.fasta\n",
      "Nucleotide distances: Jukes-Cantor Joins: balanced Support: SH-like 1000\n",
      "Search: Normal +NNI +SPR (2 rounds range 10) +ML-NNI opt-each=1\n",
      "TopHits: 1.00*sqrtN close=default refresh=0.80\n",
      "ML Model: Jukes-Cantor, CAT approximation with 20 rate categories\n",
      "      0.12 seconds: Joined    100 of   1026\n"
     ]
    },
    {
     "name": "stderr",
     "output_type": "stream",
     "text": [
      "      0.26 seconds: Joined    300 of   1026\n",
      "      0.40 seconds: Joined    500 of   1026\n"
     ]
    },
    {
     "name": "stderr",
     "output_type": "stream",
     "text": [
      "      0.55 seconds: Joined    700 of   1026\n",
      "      0.67 seconds: Joined    900 of   1026\n",
      "Initial topology in 0.75 seconds\n",
      "Refining topology: 40 rounds ME-NNIs, 2 rounds ME-SPRs, 20 rounds ML-NNIs\n"
     ]
    },
    {
     "name": "stderr",
     "output_type": "stream",
     "text": [
      "      0.77 seconds: ME NNI round 1 of 40, 801 of 1027 splits, 137 changes (max delta 0.032)\n",
      "      0.87 seconds: ME NNI round 6 of 40, 101 of 1027 splits, 6 changes (max delta 0.005)\n"
     ]
    },
    {
     "name": "stderr",
     "output_type": "stream",
     "text": [
      "      1.00 seconds: SPR round   1 of   2, 201 of 2056 nodes\n",
      "      1.11 seconds: SPR round   1 of   2, 401 of 2056 nodes\n"
     ]
    },
    {
     "name": "stderr",
     "output_type": "stream",
     "text": [
      "      1.25 seconds: SPR round   1 of   2, 601 of 2056 nodes\n",
      "      1.39 seconds: SPR round   1 of   2, 801 of 2056 nodes\n"
     ]
    },
    {
     "name": "stderr",
     "output_type": "stream",
     "text": [
      "      1.53 seconds: SPR round   1 of   2, 1001 of 2056 nodes\n",
      "      1.67 seconds: SPR round   1 of   2, 1201 of 2056 nodes\n"
     ]
    },
    {
     "name": "stderr",
     "output_type": "stream",
     "text": [
      "      1.79 seconds: SPR round   1 of   2, 1401 of 2056 nodes\n",
      "      1.91 seconds: SPR round   1 of   2, 1601 of 2056 nodes\n"
     ]
    },
    {
     "name": "stderr",
     "output_type": "stream",
     "text": [
      "      2.06 seconds: SPR round   1 of   2, 1801 of 2056 nodes\n",
      "      2.18 seconds: SPR round   1 of   2, 2001 of 2056 nodes\n"
     ]
    },
    {
     "name": "stderr",
     "output_type": "stream",
     "text": [
      "      2.28 seconds: ME NNI round 15 of 40, 1001 of 1027 splits, 4 changes (max delta 0.004)\n",
      "      2.41 seconds: SPR round   2 of   2, 201 of 2056 nodes\n"
     ]
    },
    {
     "name": "stderr",
     "output_type": "stream",
     "text": [
      "      2.52 seconds: SPR round   2 of   2, 401 of 2056 nodes\n",
      "      2.63 seconds: SPR round   2 of   2, 601 of 2056 nodes\n"
     ]
    },
    {
     "name": "stderr",
     "output_type": "stream",
     "text": [
      "      2.75 seconds: SPR round   2 of   2, 801 of 2056 nodes\n",
      "      2.87 seconds: SPR round   2 of   2, 1001 of 2056 nodes\n"
     ]
    },
    {
     "name": "stderr",
     "output_type": "stream",
     "text": [
      "      2.99 seconds: SPR round   2 of   2, 1201 of 2056 nodes\n",
      "      3.09 seconds: SPR round   2 of   2, 1401 of 2056 nodes\n"
     ]
    },
    {
     "name": "stderr",
     "output_type": "stream",
     "text": [
      "      3.24 seconds: SPR round   2 of   2, 1701 of 2056 nodes\n",
      "      3.35 seconds: SPR round   2 of   2, 1901 of 2056 nodes\n"
     ]
    },
    {
     "name": "stderr",
     "output_type": "stream",
     "text": [
      "      3.46 seconds: ME NNI round 27 of 40, 901 of 1027 splits, 0 changes\n",
      "Total branch-length 22.016 after 3.50 sec\n",
      "      3.58 seconds: ML Lengths 301 of 1027 splits\n"
     ]
    },
    {
     "name": "stderr",
     "output_type": "stream",
     "text": [
      "      3.69 seconds: ML Lengths 701 of 1027 splits\n",
      "      3.86 seconds: ML NNI round 1 of 20, 101 of 1027 splits, 13 changes (max delta 5.835)\n"
     ]
    },
    {
     "name": "stderr",
     "output_type": "stream",
     "text": [
      "      4.01 seconds: ML NNI round 1 of 20, 301 of 1027 splits, 40 changes (max delta 5.835)\n",
      "      4.16 seconds: ML NNI round 1 of 20, 501 of 1027 splits, 70 changes (max delta 15.969)\n"
     ]
    },
    {
     "name": "stderr",
     "output_type": "stream",
     "text": [
      "      4.31 seconds: ML NNI round 1 of 20, 701 of 1027 splits, 111 changes (max delta 15.969)\n",
      "      4.46 seconds: ML NNI round 1 of 20, 901 of 1027 splits, 155 changes (max delta 15.969)\n"
     ]
    },
    {
     "name": "stderr",
     "output_type": "stream",
     "text": [
      "ML-NNI round 1: LogLk = -57416.107 NNIs 180 max delta 15.97 Time 4.56\n",
      "      4.57 seconds: Site likelihoods with rate category 1 of 20\n",
      "      4.68 seconds: Site likelihoods with rate category 10 of 20\n"
     ]
    },
    {
     "name": "stderr",
     "output_type": "stream",
     "text": [
      "      4.79 seconds: Site likelihoods with rate category 19 of 20\n",
      "Switched to using 20 rate categories (CAT approximation)\n",
      "Rate categories were divided by 1.116 so that average rate = 1.0\n",
      "CAT-based log-likelihoods may not be comparable across runs\n",
      "Use -gamma for approximate but comparable Gamma(20) log-likelihoods\n",
      "      4.91 seconds: ML NNI round 2 of 20, 101 of 1027 splits, 10 changes (max delta 4.461)\n"
     ]
    },
    {
     "name": "stderr",
     "output_type": "stream",
     "text": [
      "      5.07 seconds: ML NNI round 2 of 20, 301 of 1027 splits, 28 changes (max delta 7.372)\n",
      "      5.25 seconds: ML NNI round 2 of 20, 501 of 1027 splits, 47 changes (max delta 7.887)\n"
     ]
    },
    {
     "name": "stderr",
     "output_type": "stream",
     "text": [
      "      5.44 seconds: ML NNI round 2 of 20, 701 of 1027 splits, 67 changes (max delta 7.887)\n",
      "      5.60 seconds: ML NNI round 2 of 20, 901 of 1027 splits, 95 changes (max delta 8.169)\n"
     ]
    },
    {
     "name": "stderr",
     "output_type": "stream",
     "text": [
      "ML-NNI round 2: LogLk = -47873.535 NNIs 107 max delta 8.17 Time 5.72\n",
      "      5.71 seconds: ML NNI round 3 of 20, 1 of 1027 splits\n",
      "      5.87 seconds: ML NNI round 3 of 20, 201 of 1027 splits, 16 changes (max delta 6.903)\n"
     ]
    },
    {
     "name": "stderr",
     "output_type": "stream",
     "text": [
      "      6.05 seconds: ML NNI round 3 of 20, 401 of 1027 splits, 25 changes (max delta 6.903)\n",
      "      6.22 seconds: ML NNI round 3 of 20, 601 of 1027 splits, 42 changes (max delta 6.903)\n"
     ]
    },
    {
     "name": "stderr",
     "output_type": "stream",
     "text": [
      "ML-NNI round 3: LogLk = -47805.517 NNIs 48 max delta 6.90 Time 6.29\n",
      "      6.36 seconds: ML NNI round 4 of 20, 101 of 1027 splits, 4 changes (max delta 0.664)\n"
     ]
    },
    {
     "name": "stderr",
     "output_type": "stream",
     "text": [
      "      6.54 seconds: ML NNI round 4 of 20, 301 of 1027 splits, 10 changes (max delta 0.744)\n",
      "ML-NNI round 4: LogLk = -47796.453 NNIs 16 max delta 1.30 Time 6.68\n",
      "      6.67 seconds: ML NNI round 5 of 20, 1 of 1027 splits\n"
     ]
    },
    {
     "name": "stderr",
     "output_type": "stream",
     "text": [
      "      6.84 seconds: ML NNI round 5 of 20, 201 of 1027 splits, 4 changes (max delta 3.074)\n",
      "ML-NNI round 5: LogLk = -47790.170 NNIs 4 max delta 3.07 Time 6.89\n",
      "ML-NNI round 6: LogLk = -47788.621 NNIs 1 max delta 1.01 Time 6.96\n",
      "      6.96 seconds: ML NNI round 7 of 20, 1 of 1027 splits\n",
      "ML-NNI round 7: LogLk = -47787.949 NNIs 0 max delta 0.00 Time 7.01\n",
      "Turning off heuristics for final round of ML NNIs (converged)\n"
     ]
    },
    {
     "name": "stderr",
     "output_type": "stream",
     "text": [
      "      7.08 seconds: ML NNI round 8 of 20, 101 of 1027 splits, 3 changes (max delta 0.000)\n",
      "      7.23 seconds: ML NNI round 8 of 20, 301 of 1027 splits, 3 changes (max delta 0.000)\n"
     ]
    },
    {
     "name": "stderr",
     "output_type": "stream",
     "text": [
      "      7.39 seconds: ML NNI round 8 of 20, 501 of 1027 splits, 3 changes (max delta 0.000)\n",
      "      7.55 seconds: ML NNI round 8 of 20, 701 of 1027 splits, 3 changes (max delta 0.000)\n"
     ]
    },
    {
     "name": "stderr",
     "output_type": "stream",
     "text": [
      "      7.71 seconds: ML NNI round 8 of 20, 901 of 1027 splits, 6 changes (max delta 0.001)\n",
      "ML-NNI round 8: LogLk = -47785.823 NNIs 6 max delta 0.00 Time 7.81 (final)\n",
      "      7.82 seconds: ML Lengths 101 of 1027 splits\n"
     ]
    },
    {
     "name": "stderr",
     "output_type": "stream",
     "text": [
      "      7.93 seconds: ML Lengths 601 of 1027 splits\n",
      "Optimize all lengths: LogLk = -47784.875 Time 8.03\n"
     ]
    },
    {
     "name": "stderr",
     "output_type": "stream",
     "text": [
      "      8.16 seconds: ML split tests for    100 of   1026 internal splits\n",
      "      8.29 seconds: ML split tests for    200 of   1026 internal splits\n"
     ]
    },
    {
     "name": "stderr",
     "output_type": "stream",
     "text": [
      "      8.42 seconds: ML split tests for    300 of   1026 internal splits\n",
      "      8.55 seconds: ML split tests for    400 of   1026 internal splits\n"
     ]
    },
    {
     "name": "stderr",
     "output_type": "stream",
     "text": [
      "      8.68 seconds: ML split tests for    500 of   1026 internal splits\n",
      "      8.81 seconds: ML split tests for    600 of   1026 internal splits\n"
     ]
    },
    {
     "name": "stderr",
     "output_type": "stream",
     "text": [
      "      8.94 seconds: ML split tests for    700 of   1026 internal splits\n",
      "      9.07 seconds: ML split tests for    800 of   1026 internal splits\n"
     ]
    },
    {
     "name": "stderr",
     "output_type": "stream",
     "text": [
      "      9.20 seconds: ML split tests for    900 of   1026 internal splits\n",
      "      9.33 seconds: ML split tests for   1000 of   1026 internal splits\n",
      "Total time: 9.36 seconds Unique: 1029/1065 Bad splits: 1/1026 Worst delta-LogLk 0.363\n"
     ]
    },
    {
     "name": "stdout",
     "output_type": "stream",
     "text": [
      "{'tree': <TreeNode, name: unnamed, internal node count: 1056, tips count: 1065>}\n",
      "{'tree': <TreeNode, name: unnamed, internal node count: 1056, tips count: 1065>}\n"
     ]
    }
   ],
   "source": [
    "mafft_alignment, mafft_masked_alignment, mafft_tree, mafft_rooted_tree = align_to_tree_mafft_fasttree(\n",
    "    sequences=reps, n_threads=6, )"
   ]
  },
  {
   "cell_type": "markdown",
   "id": "0768d598",
   "metadata": {
    "papermill": {
     "duration": 0.029321,
     "end_time": "2024-02-01T22:50:28.713057",
     "exception": false,
     "start_time": "2024-02-01T22:50:28.683736",
     "status": "completed"
    },
    "tags": []
   },
   "source": [
    "### Compute Alpha Diversity (Phylogeny)\n",
    "- [diversity alpha_phylogenetic](https://docs.qiime2.org/2022.8/plugins/available/diversity/alpha-phylogenetic/): Computes a user-specified phylogenetic alpha diversity metric for all samples in a feature table.\n",
    "- Metrics: Choices ('faith_pd')"
   ]
  },
  {
   "cell_type": "code",
   "execution_count": 11,
   "id": "0383aa19",
   "metadata": {
    "ExecuteTime": {
     "end_time": "2022-09-29T20:54:35.310009Z",
     "start_time": "2022-09-29T20:54:35.141333Z"
    },
    "execution": {
     "iopub.execute_input": "2024-02-01T22:50:28.776146Z",
     "iopub.status.busy": "2024-02-01T22:50:28.775903Z",
     "iopub.status.idle": "2024-02-01T22:50:28.902408Z",
     "shell.execute_reply": "2024-02-01T22:50:28.901722Z"
    },
    "papermill": {
     "duration": 0.158499,
     "end_time": "2024-02-01T22:50:28.903741",
     "exception": false,
     "start_time": "2024-02-01T22:50:28.745242",
     "status": "completed"
    },
    "tags": []
   },
   "outputs": [
    {
     "name": "stdout",
     "output_type": "stream",
     "text": [
      "Calculating alpha diversity: faith_pd\n",
      "{'metric': 'faith_pd', 'table': <artifact: FeatureTable[Frequency] uuid: 625f5752-e64a-4bae-9bb5-e96db12d4dc6>, 'phylogeny': <artifact: Phylogeny[Rooted] uuid: be919778-d3c9-4559-9989-34cea1dc65de>}\n",
      "{'table': <q2_types.feature_table._format.BIOMV210Format object at 0x7fbdb8f2d550>, 'phylogeny': <q2_types.tree._format.NewickFormat object at 0x7fbdb9a26ee0>}\n",
      "{'table': <q2_types.feature_table._format.BIOMV210Format object at 0x7fbdb8f2d550>, 'phylogeny': <q2_types.tree._format.NewickFormat object at 0x7fbdb9a26ee0>}\n",
      "DONE: Calculating alpha phylogeny: faith_pd\n"
     ]
    }
   ],
   "source": [
    "metrics = ('faith_pd', )\n",
    "alpha_diversities_phylogenetic = dict()\n",
    "for metric in metrics:\n",
    "    print(f\"Calculating alpha diversity: {metric}\")\n",
    "    try:\n",
    "        alpha_diversity = alpha_phylogenetic(table=tabs, phylogeny=mafft_rooted_tree, metric=metric).alpha_diversity\n",
    "        alpha_diversities_phylogenetic[metric] = alpha_diversity\n",
    "        # Save Artifact\n",
    "        file_path = os.path.join(alpha_path, f'alpha-phylogeny-{metric}.qza')\n",
    "        alpha_diversity.save(file_path)\n",
    "        print(f\"DONE: Calculating alpha phylogeny: {metric}\")\n",
    "    except Exception as e:\n",
    "        print(f\"ERROR: Calculating alpha phylogeny: {metric}\")"
   ]
  },
  {
   "cell_type": "markdown",
   "id": "42db1ead",
   "metadata": {
    "papermill": {
     "duration": 0.02989,
     "end_time": "2024-02-01T22:50:28.964039",
     "exception": false,
     "start_time": "2024-02-01T22:50:28.934149",
     "status": "completed"
    },
    "tags": []
   },
   "source": [
    "- [core-metrics-phylogenetic](https://docs.qiime2.org/2023.7/plugins/available/diversity/core-metrics-phylogenetic/)"
   ]
  },
  {
   "cell_type": "code",
   "execution_count": 12,
   "id": "ef726ab7",
   "metadata": {
    "execution": {
     "iopub.execute_input": "2024-02-01T22:50:29.024773Z",
     "iopub.status.busy": "2024-02-01T22:50:29.024542Z",
     "iopub.status.idle": "2024-02-01T22:50:30.948087Z",
     "shell.execute_reply": "2024-02-01T22:50:30.947323Z"
    },
    "papermill": {
     "duration": 1.957007,
     "end_time": "2024-02-01T22:50:30.951154",
     "exception": false,
     "start_time": "2024-02-01T22:50:28.994147",
     "status": "completed"
    },
    "tags": []
   },
   "outputs": [
    {
     "name": "stdout",
     "output_type": "stream",
     "text": [
      "{'sampling_depth': 3910, 'metadata': Metadata\n",
      "--------\n",
      "15 IDs x 3 columns\n",
      "sample-name: ColumnProperties(type='categorical')\n",
      "group-id:    ColumnProperties(type='categorical')\n",
      "group-desc:  ColumnProperties(type='categorical')\n",
      "\n",
      "Call to_dataframe() for a tabular representation., 'n_jobs_or_threads': 6, 'table': <artifact: FeatureTable[Frequency] uuid: 625f5752-e64a-4bae-9bb5-e96db12d4dc6>, 'phylogeny': <artifact: Phylogeny[Rooted] uuid: be919778-d3c9-4559-9989-34cea1dc65de>}\n",
      "{'sampling_depth': 3910, 'metadata': Metadata\n",
      "--------\n",
      "15 IDs x 3 columns\n",
      "sample-name: ColumnProperties(type='categorical')\n",
      "group-id:    ColumnProperties(type='categorical')\n",
      "group-desc:  ColumnProperties(type='categorical')\n",
      "\n",
      "Call to_dataframe() for a tabular representation., 'with_replacement': False, 'n_jobs': 6, 'table': <artifact: FeatureTable[Frequency] uuid: 625f5752-e64a-4bae-9bb5-e96db12d4dc6>}\n",
      "{'sampling_depth': 3910, 'with_replacement': False, 'table': 1065 x 15 <class 'biom.table.Table'> with 2412 nonzero entries (15% dense)}\n",
      "{'sampling_depth': 3910, 'with_replacement': False, 'table': 1065 x 15 <class 'biom.table.Table'> with 2412 nonzero entries (15% dense)}\n",
      "{'table': 920 x 15 <class 'biom.table.Table'> with 2049 nonzero entries (14% dense)}\n",
      "{'table': 920 x 15 <class 'biom.table.Table'> with 2049 nonzero entries (14% dense)}\n",
      "{'drop_undefined_samples': False, 'table': 920 x 15 <class 'biom.table.Table'> with 2049 nonzero entries (14% dense)}\n",
      "{'drop_undefined_samples': False, 'table': 920 x 15 <class 'biom.table.Table'> with 2049 nonzero entries (14% dense)}\n",
      "{'drop_undefined_samples': False, 'table': 920 x 15 <class 'biom.table.Table'> with 2049 nonzero entries (14% dense)}\n",
      "{'drop_undefined_samples': False, 'table': 920 x 15 <class 'biom.table.Table'> with 2049 nonzero entries (14% dense)}\n",
      "{'n_jobs': 6, 'table': 920 x 15 <class 'biom.table.Table'> with 2049 nonzero entries (14% dense)}\n",
      "{'n_jobs': 6, 'table': 920 x 15 <class 'biom.table.Table'> with 2049 nonzero entries (14% dense)}\n"
     ]
    },
    {
     "name": "stderr",
     "output_type": "stream",
     "text": [
      "/home/lauro/anaconda3/envs/qiime2-2022.2/lib/python3.8/site-packages/sklearn/metrics/pairwise.py:1761: DataConversionWarning: Data was converted to boolean for metric jaccard\n",
      "  warnings.warn(msg, DataConversionWarning)\n"
     ]
    },
    {
     "name": "stdout",
     "output_type": "stream",
     "text": [
      "{'n_jobs': 6, 'table': 920 x 15 <class 'biom.table.Table'> with 2049 nonzero entries (14% dense)}\n",
      "{'n_jobs': 6, 'table': 920 x 15 <class 'biom.table.Table'> with 2049 nonzero entries (14% dense)}\n",
      "{'number_of_dimensions': None, 'distance_matrix': <skbio.stats.distance._base.DistanceMatrix object at 0x7fbdb8fc6970>}\n",
      "{'number_of_dimensions': None, 'distance_matrix': <skbio.stats.distance._base.DistanceMatrix object at 0x7fbdb8fc6970>}\n",
      "{'number_of_dimensions': None, 'distance_matrix': <skbio.stats.distance._base.DistanceMatrix object at 0x7fbdb8fc63d0>}\n",
      "{'number_of_dimensions': None, 'distance_matrix': <skbio.stats.distance._base.DistanceMatrix object at 0x7fbdb8fc63d0>}\n",
      "{'metadata': Metadata\n",
      "--------\n",
      "15 IDs x 3 columns\n",
      "sample-name: ColumnProperties(type='categorical')\n",
      "group-id:    ColumnProperties(type='categorical')\n",
      "group-desc:  ColumnProperties(type='categorical')\n",
      "\n",
      "Call to_dataframe() for a tabular representation., 'custom_axes': None, 'ignore_missing_samples': False, 'ignore_pcoa_features': False, 'pcoa': <skbio.stats.ordination._ordination_results.OrdinationResults object at 0x7fbdb8f5d490>}\n"
     ]
    },
    {
     "name": "stdout",
     "output_type": "stream",
     "text": [
      "{'metadata': Metadata\n",
      "--------\n",
      "15 IDs x 3 columns\n",
      "sample-name: ColumnProperties(type='categorical')\n",
      "group-id:    ColumnProperties(type='categorical')\n",
      "group-desc:  ColumnProperties(type='categorical')\n",
      "\n",
      "Call to_dataframe() for a tabular representation., 'custom_axes': None, 'ignore_missing_samples': False, 'ignore_pcoa_features': False, 'pcoa': <skbio.stats.ordination._ordination_results.OrdinationResults object at 0x7fbdb4e339d0>}\n"
     ]
    },
    {
     "name": "stdout",
     "output_type": "stream",
     "text": [
      "{'table': <q2_types.feature_table._format.BIOMV210Format object at 0x7fbdb8fc6280>, 'phylogeny': <q2_types.tree._format.NewickFormat object at 0x7fbdb8fc6070>}\n",
      "{'table': <q2_types.feature_table._format.BIOMV210Format object at 0x7fbdb8fc6280>, 'phylogeny': <q2_types.tree._format.NewickFormat object at 0x7fbdb8fc6070>}\n",
      "{'threads': 6, 'bypass_tips': False, 'table': <q2_types.feature_table._format.BIOMV210Format object at 0x7fbdb8fc6070>, 'phylogeny': <q2_types.tree._format.NewickFormat object at 0x7fbdb8fc6190>}\n",
      "{'threads': 6, 'bypass_tips': False, 'table': <q2_types.feature_table._format.BIOMV210Format object at 0x7fbdb8fc6070>, 'phylogeny': <q2_types.tree._format.NewickFormat object at 0x7fbdb8fc6190>}\n",
      "{'threads': 6, 'bypass_tips': False, 'table': <q2_types.feature_table._format.BIOMV210Format object at 0x7fbdb8fc6190>, 'phylogeny': <q2_types.tree._format.NewickFormat object at 0x7fbdb8fc6a00>}\n",
      "{'threads': 6, 'bypass_tips': False, 'table': <q2_types.feature_table._format.BIOMV210Format object at 0x7fbdb8fc6190>, 'phylogeny': <q2_types.tree._format.NewickFormat object at 0x7fbdb8fc6a00>}\n"
     ]
    },
    {
     "name": "stdout",
     "output_type": "stream",
     "text": [
      "{'number_of_dimensions': None, 'distance_matrix': <skbio.stats.distance._base.DistanceMatrix object at 0x7fbdb8f5d8b0>}\n",
      "{'number_of_dimensions': None, 'distance_matrix': <skbio.stats.distance._base.DistanceMatrix object at 0x7fbdb8f5d8b0>}\n",
      "{'number_of_dimensions': None, 'distance_matrix': <skbio.stats.distance._base.DistanceMatrix object at 0x7fbdb8eed940>}\n",
      "{'number_of_dimensions': None, 'distance_matrix': <skbio.stats.distance._base.DistanceMatrix object at 0x7fbdb8eed940>}\n",
      "{'metadata': Metadata\n",
      "--------\n",
      "15 IDs x 3 columns\n",
      "sample-name: ColumnProperties(type='categorical')\n",
      "group-id:    ColumnProperties(type='categorical')\n",
      "group-desc:  ColumnProperties(type='categorical')\n",
      "\n",
      "Call to_dataframe() for a tabular representation., 'custom_axes': None, 'ignore_missing_samples': False, 'ignore_pcoa_features': False, 'pcoa': <skbio.stats.ordination._ordination_results.OrdinationResults object at 0x7fbdb8ef4460>}\n",
      "{'metadata': Metadata\n",
      "--------\n",
      "15 IDs x 3 columns\n",
      "sample-name: ColumnProperties(type='categorical')\n",
      "group-id:    ColumnProperties(type='categorical')\n",
      "group-desc:  ColumnProperties(type='categorical')\n",
      "\n",
      "Call to_dataframe() for a tabular representation., 'custom_axes': None, 'ignore_missing_samples': False, 'ignore_pcoa_features': False, 'pcoa': <skbio.stats.ordination._ordination_results.OrdinationResults object at 0x7fbdb8fc6a30>}\n"
     ]
    },
    {
     "name": "stderr",
     "output_type": "stream",
     "text": [
      "/home/lauro/anaconda3/envs/qiime2-2022.2/lib/python3.8/site-packages/skbio/stats/ordination/_principal_coordinate_analysis.py:143: RuntimeWarning: The result contains negative eigenvalues. Please compare their magnitude with the magnitude of some of the largest positive eigenvalues. If the negative ones are smaller, it's probably safe to ignore them, but if they are large in magnitude, the results won't be useful. See the Notes section for more details. The smallest eigenvalue is -0.002493048375055358 and the largest is 0.5783779536013823.\n",
      "  warn(\n"
     ]
    }
   ],
   "source": [
    "s_depth = int(tabs.view(pd.DataFrame).sum(axis=1).min())\n",
    "results = core_metrics_phylogenetic(\n",
    "    table = tabs,\n",
    "    phylogeny = mafft_rooted_tree,\n",
    "    sampling_depth = s_depth,\n",
    "    metadata = metadata_qa,\n",
    "    n_jobs_or_threads = 6,\n",
    ")"
   ]
  },
  {
   "cell_type": "code",
   "execution_count": 13,
   "id": "19311218",
   "metadata": {
    "execution": {
     "iopub.execute_input": "2024-02-01T22:50:31.032551Z",
     "iopub.status.busy": "2024-02-01T22:50:31.032238Z",
     "iopub.status.idle": "2024-02-01T22:50:31.038950Z",
     "shell.execute_reply": "2024-02-01T22:50:31.038174Z"
    },
    "papermill": {
     "duration": 0.046484,
     "end_time": "2024-02-01T22:50:31.040522",
     "exception": false,
     "start_time": "2024-02-01T22:50:30.994038",
     "status": "completed"
    },
    "tags": []
   },
   "outputs": [],
   "source": [
    "results_info = [(\"rarefied_table\", \"FeatureTable[Frequency]\", \"The resulting rarefied feature table.\"),\n",
    "(\"faith_pd_vector\", \"SampleData[AlphaDiversity]\", \"Vector of Faith PD values by sample.\"),\n",
    "(\"observed_features_vector\", \"SampleData[AlphaDiversity]\", \"Vector of Observed Features values by sample.\"),\n",
    "(\"shannon_vector\", \"SampleData[AlphaDiversity]\", \"Vector of Shannon diversity values by sample.\"),\n",
    "(\"evenness_vector\", \"SampleData[AlphaDiversity]\", \"Vector of Pielou's evenness values by sample.\"),\n",
    "(\"unweighted_unifrac_distance_matrix\", \"DistanceMatrix\", \"Matrix of unweighted UniFrac distances between pairs of samples.\"),\n",
    "(\"weighted_unifrac_distance_matrix\", \"DistanceMatrix\", \"Matrix of weighted UniFrac distances between pairs of samples.\"),\n",
    "(\"jaccard_distance_matrix\", \"DistanceMatrix\", \"Matrix of Jaccard distances between pairs of samples.\"),\n",
    "(\"bray_curtis_distance_matrix\", \"DistanceMatrix\", \"Matrix of Bray-Curtis distances between pairs of samples.\"),\n",
    "(\"unweighted_unifrac_pcoa_results\", \"PCoAResults\", \"PCoA matrix computed from unweighted UniFrac distances between samples.\"),\n",
    "(\"weighted_unifrac_pcoa_results\", \"PCoAResults\", \"PCoA matrix computed from weighted UniFrac distances between samples.\"),\n",
    "(\"jaccard_pcoa_results\", \"PCoAResults\", \"PCoA matrix computed from Jaccard distances between samples.\"),\n",
    "(\"bray_curtis_pcoa_results\", \"PCoAResults\", \"PCoA matrix computed from Bray-Curtis distances between samples.\"),\n",
    "(\"unweighted_unifrac_emperor\", \"Visualization\", \"Emperor plot of the PCoA matrix computed from unweighted UniFrac.\"),\n",
    "(\"weighted_unifrac_emperor\", \"Visualization\", \"Emperor plot of the PCoA matrix computed from weighted UniFrac.\"),\n",
    "(\"jaccard_emperor\", \"Visualization\", \"Emperor plot of the PCoA matrix computed from Jaccard.\"),\n",
    "(\"bray_curtis_emperor\", \"Visualization\", \"Emperor plot of the PCoA matrix computed from Bray-Curtis.\")]"
   ]
  },
  {
   "cell_type": "code",
   "execution_count": 14,
   "id": "2264925a",
   "metadata": {
    "execution": {
     "iopub.execute_input": "2024-02-01T22:50:31.115648Z",
     "iopub.status.busy": "2024-02-01T22:50:31.115325Z",
     "iopub.status.idle": "2024-02-01T22:50:31.588912Z",
     "shell.execute_reply": "2024-02-01T22:50:31.588117Z"
    },
    "papermill": {
     "duration": 0.514007,
     "end_time": "2024-02-01T22:50:31.591845",
     "exception": false,
     "start_time": "2024-02-01T22:50:31.077838",
     "status": "completed"
    },
    "tags": []
   },
   "outputs": [
    {
     "name": "stdout",
     "output_type": "stream",
     "text": [
      "13 unweighted_unifrac_emperor Visualization\n",
      "--- Emperor plot of the PCoA matrix computed from unweighted UniFrac. ---\n",
      "Saving emperor file at: /home/lauro/nupeb/rede-micro/redemicro-ana-flavia-nutri/experiments/ana-flavia-STD-NCxHSD-NC-trim/qiime-artifacts/beta-analysis/unweighted_unifrac_emperor.qzv\n",
      "\n",
      "14 weighted_unifrac_emperor Visualization\n",
      "--- Emperor plot of the PCoA matrix computed from weighted UniFrac. ---\n",
      "Saving emperor file at: /home/lauro/nupeb/rede-micro/redemicro-ana-flavia-nutri/experiments/ana-flavia-STD-NCxHSD-NC-trim/qiime-artifacts/beta-analysis/weighted_unifrac_emperor.qzv\n",
      "\n"
     ]
    },
    {
     "name": "stdout",
     "output_type": "stream",
     "text": [
      "15 jaccard_emperor Visualization\n",
      "--- Emperor plot of the PCoA matrix computed from Jaccard. ---\n",
      "Saving emperor file at: /home/lauro/nupeb/rede-micro/redemicro-ana-flavia-nutri/experiments/ana-flavia-STD-NCxHSD-NC-trim/qiime-artifacts/beta-analysis/jaccard_emperor.qzv\n",
      "\n",
      "16 bray_curtis_emperor Visualization\n",
      "--- Emperor plot of the PCoA matrix computed from Bray-Curtis. ---\n",
      "Saving emperor file at: /home/lauro/nupeb/rede-micro/redemicro-ana-flavia-nutri/experiments/ana-flavia-STD-NCxHSD-NC-trim/qiime-artifacts/beta-analysis/bray_curtis_emperor.qzv\n",
      "\n"
     ]
    }
   ],
   "source": [
    "distance_matrix = dict()\n",
    "for i, info in enumerate(results_info):\n",
    "    r_id, r_type, r_desc = info\n",
    "    #print(i, r_id, r_type)\n",
    "    file_name = f\"{r_id}.qzv\"\n",
    "    if r_type == \"FeatureTable[Frequency]\":\n",
    "        pass\n",
    "    elif r_type == \"DistanceMatrix\":\n",
    "        distance_matrix[r_id] = results[i]\n",
    "    elif r_id.endswith('emperor'):\n",
    "        print(i, r_id, r_type)\n",
    "        print(f\"--- {r_desc} ---\")\n",
    "        file_name = os.path.join(beta_path, file_name)\n",
    "        print(f'Saving emperor file at: {file_name}\\n')\n",
    "        results[i].save(filepath=file_name)"
   ]
  },
  {
   "cell_type": "markdown",
   "id": "c7752cfd",
   "metadata": {
    "papermill": {
     "duration": 0.056484,
     "end_time": "2024-02-01T22:50:31.693484",
     "exception": false,
     "start_time": "2024-02-01T22:50:31.637000",
     "status": "completed"
    },
    "tags": []
   },
   "source": [
    "### Alpha diversity correlation\n",
    "\n",
    "This method only process `numeric` columns.\n"
   ]
  },
  {
   "cell_type": "code",
   "execution_count": 15,
   "id": "2814f613",
   "metadata": {
    "ExecuteTime": {
     "end_time": "2022-09-29T20:54:35.317618Z",
     "start_time": "2022-09-29T20:54:35.312094Z"
    },
    "execution": {
     "iopub.execute_input": "2024-02-01T22:50:31.879557Z",
     "iopub.status.busy": "2024-02-01T22:50:31.879203Z",
     "iopub.status.idle": "2024-02-01T22:50:31.886856Z",
     "shell.execute_reply": "2024-02-01T22:50:31.885793Z"
    },
    "papermill": {
     "duration": 0.10561,
     "end_time": "2024-02-01T22:50:31.889842",
     "exception": false,
     "start_time": "2024-02-01T22:50:31.784232",
     "status": "completed"
    },
    "tags": []
   },
   "outputs": [],
   "source": [
    "methods = ('spearman', 'pearson')\n",
    "numerics_cols = metadata_qa.filter_columns(column_type='numeric')\n",
    "if numerics_cols.column_count > 0:\n",
    "    for metric, alpha_values in alpha_diversities.items():\n",
    "        for method in methods:\n",
    "            try:\n",
    "                corr_view = alpha_correlation(alpha_diversity=alpha_values, metadata=numerics_cols, \n",
    "                                          method=method, intersect_ids=True).visualization\n",
    "                view_path = os.path.join(alpha_path, f'alpha-correlation-{metric}-{method}.qzv')\n",
    "                corr_view.save(view_path)\n",
    "                corr_view\n",
    "                print(f\"DONE: Calculating alpha correlation: {metric} {method}\")\n",
    "            except Exception as e:\n",
    "                print(f\"ERROR: Calculating alpha correlation: {metric} {method}\")"
   ]
  },
  {
   "cell_type": "markdown",
   "id": "8ea83c8a",
   "metadata": {
    "papermill": {
     "duration": 0.039748,
     "end_time": "2024-02-01T22:50:31.974005",
     "exception": false,
     "start_time": "2024-02-01T22:50:31.934257",
     "status": "completed"
    },
    "tags": []
   },
   "source": [
    "## Alpha diversity comparisons\n",
    "\n",
    "Visually and statistically compare groups of alpha diversity values.\n",
    "\n",
    "[diversity alpha_group_significance](https://docs.qiime2.org/2022.8/plugins/available/diversity/alpha-group-significance/)"
   ]
  },
  {
   "cell_type": "code",
   "execution_count": 16,
   "id": "276d1c18",
   "metadata": {
    "ExecuteTime": {
     "end_time": "2022-09-29T20:54:36.089290Z",
     "start_time": "2022-09-29T20:54:35.318963Z"
    },
    "execution": {
     "iopub.execute_input": "2024-02-01T22:50:32.052382Z",
     "iopub.status.busy": "2024-02-01T22:50:32.051534Z",
     "iopub.status.idle": "2024-02-01T22:50:33.351141Z",
     "shell.execute_reply": "2024-02-01T22:50:33.349925Z"
    },
    "papermill": {
     "duration": 1.342137,
     "end_time": "2024-02-01T22:50:33.354497",
     "exception": false,
     "start_time": "2024-02-01T22:50:32.012360",
     "status": "completed"
    },
    "tags": []
   },
   "outputs": [
    {
     "name": "stdout",
     "output_type": "stream",
     "text": [
      "Processing alpha_group_significance: chao1\n",
      "{'metadata': Metadata\n",
      "--------\n",
      "15 IDs x 3 columns\n",
      "sample-name: ColumnProperties(type='categorical')\n",
      "group-id:    ColumnProperties(type='categorical')\n",
      "group-desc:  ColumnProperties(type='categorical')\n",
      "\n",
      "Call to_dataframe() for a tabular representation., 'alpha_diversity': S210421121682    291.0\n",
      "S210421121683    242.0\n",
      "S210421121684    207.0\n",
      "S210421121688    185.0\n",
      "S210421121689    160.0\n",
      "S210421121690    147.0\n",
      "S210421121694    149.0\n",
      "S210421121695    320.0\n",
      "S210421121696    187.0\n",
      "S210421121697    133.0\n",
      "S210421121698     52.0\n",
      "S210421121699    113.0\n",
      "S210421121700     90.0\n",
      "S210421121701     92.0\n",
      "S210421121702     44.0\n",
      "Name: chao1, dtype: float64}\n"
     ]
    },
    {
     "name": "stdout",
     "output_type": "stream",
     "text": [
      "DONE: Calculating alpha group significance: chao1\n",
      "Processing alpha_group_significance: chao1_ci\n",
      "ERROR: Calculating alpha group significance: chao1_ci\n",
      "Processing alpha_group_significance: observed_features\n",
      "{'metadata': Metadata\n",
      "--------\n",
      "15 IDs x 3 columns\n",
      "sample-name: ColumnProperties(type='categorical')\n",
      "group-id:    ColumnProperties(type='categorical')\n",
      "group-desc:  ColumnProperties(type='categorical')\n",
      "\n",
      "Call to_dataframe() for a tabular representation., 'alpha_diversity': S210421121682    291\n",
      "S210421121683    242\n",
      "S210421121684    207\n",
      "S210421121688    185\n",
      "S210421121689    160\n",
      "S210421121690    147\n",
      "S210421121694    149\n",
      "S210421121695    320\n",
      "S210421121696    187\n",
      "S210421121697    133\n",
      "S210421121698     52\n",
      "S210421121699    113\n",
      "S210421121700     90\n",
      "S210421121701     92\n",
      "S210421121702     44\n",
      "Name: observed_features, dtype: int64}\n"
     ]
    },
    {
     "name": "stdout",
     "output_type": "stream",
     "text": [
      "DONE: Calculating alpha group significance: observed_features\n",
      "Processing alpha_group_significance: shannon\n",
      "{'metadata': Metadata\n",
      "--------\n",
      "15 IDs x 3 columns\n",
      "sample-name: ColumnProperties(type='categorical')\n",
      "group-id:    ColumnProperties(type='categorical')\n",
      "group-desc:  ColumnProperties(type='categorical')\n",
      "\n",
      "Call to_dataframe() for a tabular representation., 'alpha_diversity': S210421121682    6.126624\n",
      "S210421121683    6.103749\n",
      "S210421121684    4.956948\n",
      "S210421121688    5.383905\n",
      "S210421121689    3.637362\n",
      "S210421121690    4.348517\n",
      "S210421121694    5.689236\n",
      "S210421121695    6.177949\n",
      "S210421121696    5.394384\n",
      "S210421121697    5.432786\n",
      "S210421121698    3.397345\n",
      "S210421121699    5.865433\n",
      "S210421121700    5.496901\n",
      "S210421121701    2.705817\n",
      "S210421121702    4.395961\n",
      "Name: shannon_entropy, dtype: float64}\n"
     ]
    },
    {
     "name": "stdout",
     "output_type": "stream",
     "text": [
      "DONE: Calculating alpha group significance: shannon\n",
      "Processing alpha_group_significance: simpson\n",
      "{'metadata': Metadata\n",
      "--------\n",
      "15 IDs x 3 columns\n",
      "sample-name: ColumnProperties(type='categorical')\n",
      "group-id:    ColumnProperties(type='categorical')\n",
      "group-desc:  ColumnProperties(type='categorical')\n",
      "\n",
      "Call to_dataframe() for a tabular representation., 'alpha_diversity': S210421121682    0.970384\n",
      "S210421121683    0.973045\n",
      "S210421121684    0.923226\n",
      "S210421121688    0.960381\n",
      "S210421121689    0.793962\n",
      "S210421121690    0.894339\n",
      "S210421121694    0.955916\n",
      "S210421121695    0.969588\n",
      "S210421121696    0.949858\n",
      "S210421121697    0.958294\n",
      "S210421121698    0.792733\n",
      "S210421121699    0.972133\n",
      "S210421121700    0.965448\n",
      "S210421121701    0.604572\n",
      "S210421121702    0.912672\n",
      "Name: simpson, dtype: float64}\n"
     ]
    },
    {
     "name": "stdout",
     "output_type": "stream",
     "text": [
      "DONE: Calculating alpha group significance: simpson\n",
      "Processing alpha_group_significance: simpson_e\n",
      "{'metadata': Metadata\n",
      "--------\n",
      "15 IDs x 3 columns\n",
      "sample-name: ColumnProperties(type='categorical')\n",
      "group-id:    ColumnProperties(type='categorical')\n",
      "group-desc:  ColumnProperties(type='categorical')\n",
      "\n",
      "Call to_dataframe() for a tabular representation., 'alpha_diversity': S210421121682    0.116034\n",
      "S210421121683    0.153302\n",
      "S210421121684    0.062924\n",
      "S210421121688    0.136436\n",
      "S210421121689    0.030334\n",
      "S210421121690    0.064383\n",
      "S210421121694    0.152243\n",
      "S210421121695    0.102757\n",
      "S210421121696    0.106649\n",
      "S210421121697    0.180282\n",
      "S210421121698    0.092782\n",
      "S210421121699    0.317560\n",
      "S210421121700    0.321580\n",
      "S210421121701    0.027488\n",
      "S210421121702    0.260251\n",
      "Name: simpson_e, dtype: float64}\n"
     ]
    },
    {
     "name": "stdout",
     "output_type": "stream",
     "text": [
      "DONE: Calculating alpha group significance: simpson_e\n"
     ]
    }
   ],
   "source": [
    "for metric, alpha_values in alpha_diversities.items():\n",
    "    print(f\"Processing alpha_group_significance: {metric}\")\n",
    "    try:\n",
    "        significance_view = alpha_group_significance(alpha_diversity=alpha_values, metadata=metadata_qa).visualization\n",
    "        view_path = os.path.join(alpha_path, f'alpha-group-significance-{metric}.qzv')\n",
    "        significance_view.save(view_path)\n",
    "        significance_view\n",
    "        print(f\"DONE: Calculating alpha group significance: {metric}\")\n",
    "    except Exception as e:\n",
    "        print(f\"ERROR: Calculating alpha group significance: {metric}\")"
   ]
  },
  {
   "cell_type": "markdown",
   "id": "4349d357",
   "metadata": {
    "papermill": {
     "duration": 0.041531,
     "end_time": "2024-02-01T22:50:33.445037",
     "exception": false,
     "start_time": "2024-02-01T22:50:33.403506",
     "status": "completed"
    },
    "tags": []
   },
   "source": [
    "## Beta diversity analysis\n",
    "\n",
    "#### Reference\n",
    "- [diversity beta](https://docs.qiime2.org/2022.8/plugins/available/diversity/beta/): Computes a user-specified beta diversity metric for all pairs of samples in a feature table.\n",
    "- [Beta diversity metrics](http://scikit-bio.org/docs/0.2.0/generated/skbio.diversity.beta.html)\n",
    "\n",
    "- Metric Choices('aitchison', 'braycurtis', 'canberra', 'canberra_adkins', 'chebyshev', 'cityblock', 'correlation', 'cosine', 'dice', 'euclidean', 'hamming', 'jaccard', 'jensenshannon', 'kulsinski', 'matching', 'minkowski', 'rogerstanimoto', 'russellrao', 'seuclidean', 'sokalmichener', 'sokalsneath', 'sqeuclidean', 'yule')"
   ]
  },
  {
   "cell_type": "code",
   "execution_count": 17,
   "id": "f6f358dd",
   "metadata": {
    "ExecuteTime": {
     "end_time": "2022-09-29T20:54:36.335038Z",
     "start_time": "2022-09-29T20:54:36.091288Z"
    },
    "execution": {
     "iopub.execute_input": "2024-02-01T22:50:33.525270Z",
     "iopub.status.busy": "2024-02-01T22:50:33.524787Z",
     "iopub.status.idle": "2024-02-01T22:50:33.991961Z",
     "shell.execute_reply": "2024-02-01T22:50:33.991203Z"
    },
    "papermill": {
     "duration": 0.507342,
     "end_time": "2024-02-01T22:50:33.993356",
     "exception": false,
     "start_time": "2024-02-01T22:50:33.486014",
     "status": "completed"
    },
    "tags": []
   },
   "outputs": [
    {
     "name": "stdout",
     "output_type": "stream",
     "text": [
      "Calculating beta diversity: euclidean\n",
      "{'metric': 'euclidean', 'pseudocount': 1, 'n_jobs': 6, 'table': <artifact: FeatureTable[Frequency] uuid: 625f5752-e64a-4bae-9bb5-e96db12d4dc6>}\n"
     ]
    },
    {
     "name": "stdout",
     "output_type": "stream",
     "text": [
      "{'metric': 'euclidean', 'pseudocount': 1, 'n_jobs': 6, 'table': 1065 x 15 <class 'biom.table.Table'> with 2412 nonzero entries (15% dense)}\n",
      "{'metric': 'euclidean', 'pseudocount': 1, 'n_jobs': 6, 'table': 1065 x 15 <class 'biom.table.Table'> with 2412 nonzero entries (15% dense)}\n",
      "DONE: Calculating beta diversity: euclidean\n",
      "Calculating beta diversity: dice\n",
      "{'metric': 'dice', 'pseudocount': 1, 'n_jobs': 6, 'table': <artifact: FeatureTable[Frequency] uuid: 625f5752-e64a-4bae-9bb5-e96db12d4dc6>}\n",
      "{'metric': 'dice', 'pseudocount': 1, 'n_jobs': 6, 'table': 1065 x 15 <class 'biom.table.Table'> with 2412 nonzero entries (15% dense)}\n",
      "{'metric': 'dice', 'pseudocount': 1, 'n_jobs': 6, 'table': 1065 x 15 <class 'biom.table.Table'> with 2412 nonzero entries (15% dense)}\n",
      "DONE: Calculating beta diversity: dice\n",
      "Calculating beta diversity: braycurtis\n",
      "{'metric': 'braycurtis', 'pseudocount': 1, 'n_jobs': 6, 'table': <artifact: FeatureTable[Frequency] uuid: 625f5752-e64a-4bae-9bb5-e96db12d4dc6>}\n",
      "{'n_jobs': 6, 'table': 1065 x 15 <class 'biom.table.Table'> with 2412 nonzero entries (15% dense)}\n",
      "{'n_jobs': 6, 'table': 1065 x 15 <class 'biom.table.Table'> with 2412 nonzero entries (15% dense)}\n"
     ]
    },
    {
     "name": "stderr",
     "output_type": "stream",
     "text": [
      "/home/lauro/anaconda3/envs/qiime2-2022.2/lib/python3.8/site-packages/sklearn/metrics/pairwise.py:1761: DataConversionWarning: Data was converted to boolean for metric dice\n",
      "  warnings.warn(msg, DataConversionWarning)\n"
     ]
    },
    {
     "name": "stdout",
     "output_type": "stream",
     "text": [
      "DONE: Calculating beta diversity: braycurtis\n",
      "Calculating beta diversity: correlation\n",
      "{'metric': 'correlation', 'pseudocount': 1, 'n_jobs': 6, 'table': <artifact: FeatureTable[Frequency] uuid: 625f5752-e64a-4bae-9bb5-e96db12d4dc6>}\n",
      "{'metric': 'correlation', 'pseudocount': 1, 'n_jobs': 6, 'table': 1065 x 15 <class 'biom.table.Table'> with 2412 nonzero entries (15% dense)}\n",
      "{'metric': 'correlation', 'pseudocount': 1, 'n_jobs': 6, 'table': 1065 x 15 <class 'biom.table.Table'> with 2412 nonzero entries (15% dense)}\n",
      "ERROR: Calculating beta diversity: correlation\n",
      "Calculating beta diversity: cosine\n",
      "{'metric': 'cosine', 'pseudocount': 1, 'n_jobs': 6, 'table': <artifact: FeatureTable[Frequency] uuid: 625f5752-e64a-4bae-9bb5-e96db12d4dc6>}\n",
      "{'metric': 'cosine', 'pseudocount': 1, 'n_jobs': 6, 'table': 1065 x 15 <class 'biom.table.Table'> with 2412 nonzero entries (15% dense)}\n",
      "{'metric': 'cosine', 'pseudocount': 1, 'n_jobs': 6, 'table': 1065 x 15 <class 'biom.table.Table'> with 2412 nonzero entries (15% dense)}\n",
      "ERROR: Calculating beta diversity: cosine\n",
      "Calculating beta diversity: matching\n",
      "{'metric': 'matching', 'pseudocount': 1, 'n_jobs': 6, 'table': <artifact: FeatureTable[Frequency] uuid: 625f5752-e64a-4bae-9bb5-e96db12d4dc6>}\n",
      "{'metric': 'matching', 'pseudocount': 1, 'n_jobs': 6, 'table': 1065 x 15 <class 'biom.table.Table'> with 2412 nonzero entries (15% dense)}\n",
      "{'metric': 'matching', 'pseudocount': 1, 'n_jobs': 6, 'table': 1065 x 15 <class 'biom.table.Table'> with 2412 nonzero entries (15% dense)}\n",
      "DONE: Calculating beta diversity: matching\n",
      "Calculating beta diversity: jaccard\n",
      "{'metric': 'jaccard', 'pseudocount': 1, 'n_jobs': 6, 'table': <artifact: FeatureTable[Frequency] uuid: 625f5752-e64a-4bae-9bb5-e96db12d4dc6>}\n",
      "{'n_jobs': 6, 'table': 1065 x 15 <class 'biom.table.Table'> with 2412 nonzero entries (15% dense)}\n",
      "{'n_jobs': 6, 'table': 1065 x 15 <class 'biom.table.Table'> with 2412 nonzero entries (15% dense)}\n"
     ]
    },
    {
     "name": "stdout",
     "output_type": "stream",
     "text": [
      "DONE: Calculating beta diversity: jaccard\n"
     ]
    },
    {
     "name": "stderr",
     "output_type": "stream",
     "text": [
      "/home/lauro/anaconda3/envs/qiime2-2022.2/lib/python3.8/site-packages/sklearn/metrics/pairwise.py:1761: DataConversionWarning: Data was converted to boolean for metric matching\n",
      "  warnings.warn(msg, DataConversionWarning)\n",
      "/home/lauro/anaconda3/envs/qiime2-2022.2/lib/python3.8/site-packages/sklearn/metrics/pairwise.py:1761: DataConversionWarning: Data was converted to boolean for metric jaccard\n",
      "  warnings.warn(msg, DataConversionWarning)\n"
     ]
    }
   ],
   "source": [
    "metrics = ('aitchison', 'braycurtis', 'canberra', 'canberra_adkins', 'chebyshev', 'cityblock', 'correlation', 'cosine', 'dice', 'euclidean', 'hamming', 'jaccard', 'jensenshannon', 'kulsinski', 'matching', 'minkowski', 'rogerstanimoto', 'russellrao', 'seuclidean', 'sokalmichener', 'sokalsneath', 'sqeuclidean', 'yule')\n",
    "metrics = ('euclidean', 'dice', 'braycurtis', 'correlation', 'cosine', 'matching', 'jaccard')\n",
    "beta_diversities = dict()\n",
    "for metric in metrics:\n",
    "    print(f\"Calculating beta diversity: {metric}\")\n",
    "    try:\n",
    "        beta_diversity = beta(table=tabs, metric=metric, n_jobs=6, pseudocount=1).distance_matrix\n",
    "        beta_diversities[metric] = beta_diversity\n",
    "        # Save SampleData[BetaDiversity] Artifact\n",
    "        file_path = os.path.join(beta_path, f'beta-values-{metric}.qza')\n",
    "        beta_diversity.save(file_path)\n",
    "        print(f\"DONE: Calculating beta diversity: {metric}\")\n",
    "    except Exception as e:\n",
    "        print(f\"ERROR: Calculating beta diversity: {metric}\")"
   ]
  },
  {
   "cell_type": "markdown",
   "id": "200a2fa7",
   "metadata": {
    "papermill": {
     "duration": 0.037247,
     "end_time": "2024-02-01T22:50:34.067753",
     "exception": false,
     "start_time": "2024-02-01T22:50:34.030506",
     "status": "completed"
    },
    "tags": []
   },
   "source": [
    "### Beta group significance\n",
    "\n",
    "- [diversity beta_group_significance](https://docs.qiime2.org/2022.8/plugins/available/diversity/beta-group-significance/): Determine whether groups of samples are significantly different from one another using a permutation-based statistical test.\n",
    "- Marti J Anderson. A new method for non-parametric multivariate analysis of variance. Austral ecology, 26(1):32–46, 2001. doi:https://doi.org/10.1111/j.1442-9993.2001.01070.pp.x."
   ]
  },
  {
   "cell_type": "code",
   "execution_count": 18,
   "id": "b8dd42b6",
   "metadata": {
    "ExecuteTime": {
     "end_time": "2022-09-29T20:55:08.313860Z",
     "start_time": "2022-09-29T20:54:36.336993Z"
    },
    "execution": {
     "iopub.execute_input": "2024-02-01T22:50:34.139921Z",
     "iopub.status.busy": "2024-02-01T22:50:34.139701Z",
     "iopub.status.idle": "2024-02-01T22:51:13.324701Z",
     "shell.execute_reply": "2024-02-01T22:51:13.324043Z"
    },
    "papermill": {
     "duration": 39.224163,
     "end_time": "2024-02-01T22:51:13.327943",
     "exception": false,
     "start_time": "2024-02-01T22:50:34.103780",
     "status": "completed"
    },
    "tags": []
   },
   "outputs": [
    {
     "name": "stdout",
     "output_type": "stream",
     "text": [
      "Calculating beta group significance with method permanova and metric euclidean\n",
      "{'metadata': <CategoricalMetadataColumn name='group-id' id_count=15>, 'method': 'permanova', 'pairwise': True, 'permutations': 999, 'distance_matrix': <skbio.stats.distance._base.DistanceMatrix object at 0x7fbdb4cd4c10>}\n"
     ]
    },
    {
     "name": "stdout",
     "output_type": "stream",
     "text": [
      "DONE: Calculating beta group significance: permanova euclidean\n",
      "Calculating beta group significance with method permanova and metric dice\n",
      "{'metadata': <CategoricalMetadataColumn name='group-id' id_count=15>, 'method': 'permanova', 'pairwise': True, 'permutations': 999, 'distance_matrix': <skbio.stats.distance._base.DistanceMatrix object at 0x7fbd9c081ac0>}\n"
     ]
    },
    {
     "name": "stdout",
     "output_type": "stream",
     "text": [
      "DONE: Calculating beta group significance: permanova dice\n",
      "Calculating beta group significance with method permanova and metric braycurtis\n",
      "{'metadata': <CategoricalMetadataColumn name='group-id' id_count=15>, 'method': 'permanova', 'pairwise': True, 'permutations': 999, 'distance_matrix': <skbio.stats.distance._base.DistanceMatrix object at 0x7fbdb9262c10>}\n"
     ]
    },
    {
     "name": "stdout",
     "output_type": "stream",
     "text": [
      "DONE: Calculating beta group significance: permanova braycurtis\n",
      "Calculating beta group significance with method permanova and metric matching\n",
      "{'metadata': <CategoricalMetadataColumn name='group-id' id_count=15>, 'method': 'permanova', 'pairwise': True, 'permutations': 999, 'distance_matrix': <skbio.stats.distance._base.DistanceMatrix object at 0x7fbdb9db9d30>}\n"
     ]
    },
    {
     "name": "stdout",
     "output_type": "stream",
     "text": [
      "DONE: Calculating beta group significance: permanova matching\n",
      "Calculating beta group significance with method permanova and metric jaccard\n",
      "{'metadata': <CategoricalMetadataColumn name='group-id' id_count=15>, 'method': 'permanova', 'pairwise': True, 'permutations': 999, 'distance_matrix': <skbio.stats.distance._base.DistanceMatrix object at 0x7fbdb9b56c40>}\n"
     ]
    },
    {
     "name": "stdout",
     "output_type": "stream",
     "text": [
      "DONE: Calculating beta group significance: permanova jaccard\n",
      "Calculating beta group significance with method anosim and metric euclidean\n",
      "{'metadata': <CategoricalMetadataColumn name='group-id' id_count=15>, 'method': 'anosim', 'pairwise': True, 'permutations': 999, 'distance_matrix': <skbio.stats.distance._base.DistanceMatrix object at 0x7fbdb9e2c8b0>}\n"
     ]
    },
    {
     "name": "stdout",
     "output_type": "stream",
     "text": [
      "DONE: Calculating beta group significance: anosim euclidean\n",
      "Calculating beta group significance with method anosim and metric dice\n",
      "{'metadata': <CategoricalMetadataColumn name='group-id' id_count=15>, 'method': 'anosim', 'pairwise': True, 'permutations': 999, 'distance_matrix': <skbio.stats.distance._base.DistanceMatrix object at 0x7fbdba4e49d0>}\n"
     ]
    },
    {
     "name": "stdout",
     "output_type": "stream",
     "text": [
      "DONE: Calculating beta group significance: anosim dice\n",
      "Calculating beta group significance with method anosim and metric braycurtis\n",
      "{'metadata': <CategoricalMetadataColumn name='group-id' id_count=15>, 'method': 'anosim', 'pairwise': True, 'permutations': 999, 'distance_matrix': <skbio.stats.distance._base.DistanceMatrix object at 0x7fbdb99d9280>}\n"
     ]
    },
    {
     "name": "stdout",
     "output_type": "stream",
     "text": [
      "DONE: Calculating beta group significance: anosim braycurtis\n",
      "Calculating beta group significance with method anosim and metric matching\n",
      "{'metadata': <CategoricalMetadataColumn name='group-id' id_count=15>, 'method': 'anosim', 'pairwise': True, 'permutations': 999, 'distance_matrix': <skbio.stats.distance._base.DistanceMatrix object at 0x7fbdb971b070>}\n"
     ]
    },
    {
     "name": "stdout",
     "output_type": "stream",
     "text": [
      "DONE: Calculating beta group significance: anosim matching\n",
      "Calculating beta group significance with method anosim and metric jaccard\n",
      "{'metadata': <CategoricalMetadataColumn name='group-id' id_count=15>, 'method': 'anosim', 'pairwise': True, 'permutations': 999, 'distance_matrix': <skbio.stats.distance._base.DistanceMatrix object at 0x7fbdb98b0970>}\n"
     ]
    },
    {
     "name": "stdout",
     "output_type": "stream",
     "text": [
      "DONE: Calculating beta group significance: anosim jaccard\n",
      "Calculating beta group significance with method permdisp and metric euclidean\n",
      "{'metadata': <CategoricalMetadataColumn name='group-id' id_count=15>, 'method': 'permdisp', 'pairwise': True, 'permutations': 999, 'distance_matrix': <skbio.stats.distance._base.DistanceMatrix object at 0x7fbe31265220>}\n"
     ]
    },
    {
     "name": "stderr",
     "output_type": "stream",
     "text": [
      "/home/lauro/anaconda3/envs/qiime2-2022.2/lib/python3.8/site-packages/skbio/stats/ordination/_principal_coordinate_analysis.py:143: RuntimeWarning: The result contains negative eigenvalues. Please compare their magnitude with the magnitude of some of the largest positive eigenvalues. If the negative ones are smaller, it's probably safe to ignore them, but if they are large in magnitude, the results won't be useful. See the Notes section for more details. The smallest eigenvalue is -7.759157515379529e-08 and the largest is 4994730806.515664.\n",
      "  warn(\n"
     ]
    },
    {
     "name": "stderr",
     "output_type": "stream",
     "text": [
      "/home/lauro/anaconda3/envs/qiime2-2022.2/lib/python3.8/site-packages/skbio/stats/ordination/_principal_coordinate_analysis.py:143: RuntimeWarning: The result contains negative eigenvalues. Please compare their magnitude with the magnitude of some of the largest positive eigenvalues. If the negative ones are smaller, it's probably safe to ignore them, but if they are large in magnitude, the results won't be useful. See the Notes section for more details. The smallest eigenvalue is -2.522901266054118e-07 and the largest is 4994730806.515674.\n",
      "  warn(\n"
     ]
    },
    {
     "name": "stdout",
     "output_type": "stream",
     "text": [
      "DONE: Calculating beta group significance: permdisp euclidean\n",
      "Calculating beta group significance with method permdisp and metric dice\n",
      "{'metadata': <CategoricalMetadataColumn name='group-id' id_count=15>, 'method': 'permdisp', 'pairwise': True, 'permutations': 999, 'distance_matrix': <skbio.stats.distance._base.DistanceMatrix object at 0x7fbdb9513880>}\n"
     ]
    },
    {
     "name": "stdout",
     "output_type": "stream",
     "text": [
      "DONE: Calculating beta group significance: permdisp dice\n",
      "Calculating beta group significance with method permdisp and metric braycurtis\n",
      "{'metadata': <CategoricalMetadataColumn name='group-id' id_count=15>, 'method': 'permdisp', 'pairwise': True, 'permutations': 999, 'distance_matrix': <skbio.stats.distance._base.DistanceMatrix object at 0x7fbdb90c4370>}\n"
     ]
    },
    {
     "name": "stdout",
     "output_type": "stream",
     "text": [
      "DONE: Calculating beta group significance: permdisp braycurtis\n",
      "Calculating beta group significance with method permdisp and metric matching\n",
      "{'metadata': <CategoricalMetadataColumn name='group-id' id_count=15>, 'method': 'permdisp', 'pairwise': True, 'permutations': 999, 'distance_matrix': <skbio.stats.distance._base.DistanceMatrix object at 0x7fbdb9181b20>}\n"
     ]
    },
    {
     "name": "stdout",
     "output_type": "stream",
     "text": [
      "DONE: Calculating beta group significance: permdisp matching\n",
      "Calculating beta group significance with method permdisp and metric jaccard\n",
      "{'metadata': <CategoricalMetadataColumn name='group-id' id_count=15>, 'method': 'permdisp', 'pairwise': True, 'permutations': 999, 'distance_matrix': <skbio.stats.distance._base.DistanceMatrix object at 0x7fbdb8f5bdc0>}\n"
     ]
    },
    {
     "name": "stdout",
     "output_type": "stream",
     "text": [
      "DONE: Calculating beta group significance: permdisp jaccard\n"
     ]
    },
    {
     "data": {
      "text/plain": [
       "<Figure size 432x288 with 0 Axes>"
      ]
     },
     "metadata": {},
     "output_type": "display_data"
    }
   ],
   "source": [
    "methods = ('permanova', 'anosim', 'permdisp')\n",
    "for method in methods:\n",
    "    for metric, beta_diversity in beta_diversities.items():\n",
    "        print(f'Calculating beta group significance with method {method} and metric {metric}')\n",
    "        try:\n",
    "            beta_view = beta_group_significance(distance_matrix=beta_diversity, \n",
    "                                                metadata=metadata_qa.get_column(class_col), \n",
    "                                                pairwise=True, method=method).visualization\n",
    "            view_name = os.path.join(beta_path, f'beta-group-significance-{metric}-{method}.qzv')\n",
    "            beta_view.save(view_name)\n",
    "            print(f\"DONE: Calculating beta group significance: {method} {metric}\")\n",
    "        except Exception as e:\n",
    "            print(f\"ERROR: Calculating beta group significance: {method} {metric}\")"
   ]
  },
  {
   "cell_type": "code",
   "execution_count": 19,
   "id": "6366725e",
   "metadata": {
    "execution": {
     "iopub.execute_input": "2024-02-01T22:51:13.424118Z",
     "iopub.status.busy": "2024-02-01T22:51:13.423824Z",
     "iopub.status.idle": "2024-02-01T22:51:44.802230Z",
     "shell.execute_reply": "2024-02-01T22:51:44.801587Z"
    },
    "papermill": {
     "duration": 31.482073,
     "end_time": "2024-02-01T22:51:44.859049",
     "exception": false,
     "start_time": "2024-02-01T22:51:13.376976",
     "status": "completed"
    },
    "tags": []
   },
   "outputs": [
    {
     "name": "stdout",
     "output_type": "stream",
     "text": [
      "Calculating beta group significance with method permanova and metric unweighted_unifrac_distance_matrix\n",
      "{'metadata': <CategoricalMetadataColumn name='group-id' id_count=15>, 'method': 'permanova', 'pairwise': True, 'permutations': 999, 'distance_matrix': <skbio.stats.distance._base.DistanceMatrix object at 0x7fbdb9021100>}\n"
     ]
    },
    {
     "name": "stdout",
     "output_type": "stream",
     "text": [
      "DONE: Calculating beta group significance: permanova unweighted_unifrac_distance_matrix\n",
      "Calculating beta group significance with method permanova and metric weighted_unifrac_distance_matrix\n",
      "{'metadata': <CategoricalMetadataColumn name='group-id' id_count=15>, 'method': 'permanova', 'pairwise': True, 'permutations': 999, 'distance_matrix': <skbio.stats.distance._base.DistanceMatrix object at 0x7fbdb901eac0>}\n"
     ]
    },
    {
     "name": "stdout",
     "output_type": "stream",
     "text": [
      "DONE: Calculating beta group significance: permanova weighted_unifrac_distance_matrix\n",
      "Calculating beta group significance with method permanova and metric jaccard_distance_matrix\n",
      "{'metadata': <CategoricalMetadataColumn name='group-id' id_count=15>, 'method': 'permanova', 'pairwise': True, 'permutations': 999, 'distance_matrix': <skbio.stats.distance._base.DistanceMatrix object at 0x7fbdb931b880>}\n"
     ]
    },
    {
     "name": "stdout",
     "output_type": "stream",
     "text": [
      "DONE: Calculating beta group significance: permanova jaccard_distance_matrix\n",
      "Calculating beta group significance with method permanova and metric bray_curtis_distance_matrix\n",
      "{'metadata': <CategoricalMetadataColumn name='group-id' id_count=15>, 'method': 'permanova', 'pairwise': True, 'permutations': 999, 'distance_matrix': <skbio.stats.distance._base.DistanceMatrix object at 0x7fbdb9100580>}\n"
     ]
    },
    {
     "name": "stdout",
     "output_type": "stream",
     "text": [
      "DONE: Calculating beta group significance: permanova bray_curtis_distance_matrix\n",
      "Calculating beta group significance with method anosim and metric unweighted_unifrac_distance_matrix\n",
      "{'metadata': <CategoricalMetadataColumn name='group-id' id_count=15>, 'method': 'anosim', 'pairwise': True, 'permutations': 999, 'distance_matrix': <skbio.stats.distance._base.DistanceMatrix object at 0x7fbdb8fef940>}\n"
     ]
    },
    {
     "name": "stdout",
     "output_type": "stream",
     "text": [
      "DONE: Calculating beta group significance: anosim unweighted_unifrac_distance_matrix\n",
      "Calculating beta group significance with method anosim and metric weighted_unifrac_distance_matrix\n",
      "{'metadata': <CategoricalMetadataColumn name='group-id' id_count=15>, 'method': 'anosim', 'pairwise': True, 'permutations': 999, 'distance_matrix': <skbio.stats.distance._base.DistanceMatrix object at 0x7fbdb90384c0>}\n"
     ]
    },
    {
     "name": "stdout",
     "output_type": "stream",
     "text": [
      "DONE: Calculating beta group significance: anosim weighted_unifrac_distance_matrix\n",
      "Calculating beta group significance with method anosim and metric jaccard_distance_matrix\n",
      "{'metadata': <CategoricalMetadataColumn name='group-id' id_count=15>, 'method': 'anosim', 'pairwise': True, 'permutations': 999, 'distance_matrix': <skbio.stats.distance._base.DistanceMatrix object at 0x7fbdb91298b0>}\n"
     ]
    },
    {
     "name": "stdout",
     "output_type": "stream",
     "text": [
      "DONE: Calculating beta group significance: anosim jaccard_distance_matrix\n",
      "Calculating beta group significance with method anosim and metric bray_curtis_distance_matrix\n",
      "{'metadata': <CategoricalMetadataColumn name='group-id' id_count=15>, 'method': 'anosim', 'pairwise': True, 'permutations': 999, 'distance_matrix': <skbio.stats.distance._base.DistanceMatrix object at 0x7fbdb9197e80>}\n"
     ]
    },
    {
     "name": "stdout",
     "output_type": "stream",
     "text": [
      "DONE: Calculating beta group significance: anosim bray_curtis_distance_matrix\n",
      "Calculating beta group significance with method permdisp and metric unweighted_unifrac_distance_matrix\n",
      "{'metadata': <CategoricalMetadataColumn name='group-id' id_count=15>, 'method': 'permdisp', 'pairwise': True, 'permutations': 999, 'distance_matrix': <skbio.stats.distance._base.DistanceMatrix object at 0x7fbdb9699be0>}\n"
     ]
    },
    {
     "name": "stdout",
     "output_type": "stream",
     "text": [
      "DONE: Calculating beta group significance: permdisp unweighted_unifrac_distance_matrix\n",
      "Calculating beta group significance with method permdisp and metric weighted_unifrac_distance_matrix\n",
      "{'metadata': <CategoricalMetadataColumn name='group-id' id_count=15>, 'method': 'permdisp', 'pairwise': True, 'permutations': 999, 'distance_matrix': <skbio.stats.distance._base.DistanceMatrix object at 0x7fbdb9295610>}\n"
     ]
    },
    {
     "name": "stderr",
     "output_type": "stream",
     "text": [
      "/home/lauro/anaconda3/envs/qiime2-2022.2/lib/python3.8/site-packages/skbio/stats/ordination/_principal_coordinate_analysis.py:143: RuntimeWarning: The result contains negative eigenvalues. Please compare their magnitude with the magnitude of some of the largest positive eigenvalues. If the negative ones are smaller, it's probably safe to ignore them, but if they are large in magnitude, the results won't be useful. See the Notes section for more details. The smallest eigenvalue is -0.0024930483750553304 and the largest is 0.5783779536013824.\n",
      "  warn(\n"
     ]
    },
    {
     "name": "stderr",
     "output_type": "stream",
     "text": [
      "/home/lauro/anaconda3/envs/qiime2-2022.2/lib/python3.8/site-packages/skbio/stats/ordination/_principal_coordinate_analysis.py:143: RuntimeWarning: The result contains negative eigenvalues. Please compare their magnitude with the magnitude of some of the largest positive eigenvalues. If the negative ones are smaller, it's probably safe to ignore them, but if they are large in magnitude, the results won't be useful. See the Notes section for more details. The smallest eigenvalue is -0.0024930483750553816 and the largest is 0.5783779536013823.\n",
      "  warn(\n"
     ]
    },
    {
     "name": "stdout",
     "output_type": "stream",
     "text": [
      "DONE: Calculating beta group significance: permdisp weighted_unifrac_distance_matrix\n",
      "Calculating beta group significance with method permdisp and metric jaccard_distance_matrix\n",
      "{'metadata': <CategoricalMetadataColumn name='group-id' id_count=15>, 'method': 'permdisp', 'pairwise': True, 'permutations': 999, 'distance_matrix': <skbio.stats.distance._base.DistanceMatrix object at 0x7fbdb955c3d0>}\n"
     ]
    },
    {
     "name": "stdout",
     "output_type": "stream",
     "text": [
      "DONE: Calculating beta group significance: permdisp jaccard_distance_matrix\n",
      "Calculating beta group significance with method permdisp and metric bray_curtis_distance_matrix\n",
      "{'metadata': <CategoricalMetadataColumn name='group-id' id_count=15>, 'method': 'permdisp', 'pairwise': True, 'permutations': 999, 'distance_matrix': <skbio.stats.distance._base.DistanceMatrix object at 0x7fbdb9a48c70>}\n"
     ]
    },
    {
     "name": "stdout",
     "output_type": "stream",
     "text": [
      "DONE: Calculating beta group significance: permdisp bray_curtis_distance_matrix\n"
     ]
    },
    {
     "data": {
      "text/plain": [
       "<Figure size 432x288 with 0 Axes>"
      ]
     },
     "metadata": {},
     "output_type": "display_data"
    }
   ],
   "source": [
    "# Expand tests using UNIFRAC metrics\n",
    "methods = ('permanova', 'anosim', 'permdisp')\n",
    "for method in methods:\n",
    "    for metric, beta_diversity in distance_matrix.items():\n",
    "        print(f'Calculating beta group significance with method {method} and metric {metric}')\n",
    "        try:\n",
    "            beta_view = beta_group_significance(distance_matrix=beta_diversity, \n",
    "                                                metadata=metadata_qa.get_column(class_col), \n",
    "                                                pairwise=True, method=method).visualization\n",
    "            view_name = os.path.join(beta_path, f'beta-group-significance-{metric}-{method}.qzv')\n",
    "            beta_view.save(view_name)\n",
    "            print(f\"DONE: Calculating beta group significance: {method} {metric}\")\n",
    "        except Exception as e:\n",
    "            print(f\"ERROR: Calculating beta group significance: {method} {metric}\")"
   ]
  },
  {
   "cell_type": "markdown",
   "id": "c0de85cf",
   "metadata": {
    "papermill": {
     "duration": 0.049379,
     "end_time": "2024-02-01T22:51:44.961121",
     "exception": false,
     "start_time": "2024-02-01T22:51:44.911742",
     "status": "completed"
    },
    "tags": []
   },
   "source": [
    "### Beta group Rarefaction\n",
    "\n",
    "- [diversity beta_rarefaction](https://docs.qiime2.org/2022.8/plugins/available/diversity/beta-rarefaction/): Repeatedly rarefy a feature table to compare beta diversity results within a given rarefaction depth.  For a given beta diversity metric, this visualizer will provide: an Emperor jackknifed PCoA plot, samples clustered by UPGMA or neighbor joining with support calculation, and a heatmap showing the correlation between rarefaction trials of that beta diversity metric."
   ]
  }
 ],
 "metadata": {
  "celltoolbar": "Edit Metadata",
  "kernelspec": {
   "display_name": "Python 3 (ipykernel)",
   "language": "python",
   "name": "python3"
  },
  "language_info": {
   "codemirror_mode": {
    "name": "ipython",
    "version": 3
   },
   "file_extension": ".py",
   "mimetype": "text/x-python",
   "name": "python",
   "nbconvert_exporter": "python",
   "pygments_lexer": "ipython3",
   "version": "3.8.12"
  },
  "papermill": {
   "default_parameters": {},
   "duration": 106.208669,
   "end_time": "2024-02-01T22:51:45.927932",
   "environment_variables": {},
   "exception": null,
   "input_path": "nb-templates/step-diversity-analysis.ipynb",
   "output_path": "/home/lauro/nupeb/rede-micro/redemicro-ana-flavia-nutri/experiments/ana-flavia-STD-NCxHSD-NC-trim/nb-executed-steps/step-diversity-analysis-ana-flavia-STD-NCxHSD-NC-trim.ipynb",
   "parameters": {
    "PAPERMILL_INPUT_PATH": "nb-templates/step-diversity-analysis.ipynb",
    "PAPERMILL_OUTPUT_PATH": "/home/lauro/nupeb/rede-micro/redemicro-ana-flavia-nutri/experiments/ana-flavia-STD-NCxHSD-NC-trim/nb-executed-steps/step-diversity-analysis-ana-flavia-STD-NCxHSD-NC-trim.ipynb",
    "base_dir": "/home/lauro/nupeb/rede-micro/redemicro-ana-flavia-nutri",
    "class_col": "group-id",
    "classifier_file": "/home/lauro/nupeb/rede-micro/models/silva-138-99-nb-classifier.qza",
    "experiment_name": "ana-flavia-STD-NCxHSD-NC-trim",
    "manifest_file": "/home/lauro/nupeb/rede-micro/redemicro-ana-flavia-nutri/data/raw/manifest/manifest-ana-flavia-STD-NCxHSD-NC.csv",
    "metadata_file": "/home/lauro/nupeb/rede-micro/redemicro-ana-flavia-nutri/data/raw/metadata/metadata-ana-flavia-STD-NCxHSD-NC.tsv",
    "overlap": 12,
    "replace_files": false,
    "threads": 6,
    "top_n": 20,
    "trim": {
     "forward_primer": "CCTACGGGRSGCAGCAG",
     "overlap": 8,
     "reverse_primer": "GGACTACHVGGGTWTCTAAT"
    },
    "trunc_f": 0,
    "trunc_r": 0
   },
   "start_time": "2024-02-01T22:49:59.719263",
   "version": "2.3.4"
  }
 },
 "nbformat": 4,
 "nbformat_minor": 5
}