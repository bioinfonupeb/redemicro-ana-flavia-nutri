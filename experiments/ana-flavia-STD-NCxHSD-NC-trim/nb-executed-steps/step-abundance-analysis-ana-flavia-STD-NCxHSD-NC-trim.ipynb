{
 "cells": [
  {
   "cell_type": "markdown",
   "id": "0e7f2330",
   "metadata": {
    "ExecuteTime": {
     "end_time": "2022-09-22T19:36:33.828188Z",
     "start_time": "2022-09-22T19:36:33.817323Z"
    },
    "papermill": {
     "duration": 0.017376,
     "end_time": "2023-06-07T07:01:58.760135",
     "exception": false,
     "start_time": "2023-06-07T07:01:58.742759",
     "status": "completed"
    },
    "tags": []
   },
   "source": [
    "### STEP : Diversity Analysis\n",
    "\n",
    "\n",
    "\n",
    "#### Example\n",
    "\n",
    "- [“Moving Pictures” tutorial](https://docs.qiime2.org/2022.8/tutorials/moving-pictures-usage/?highlight=ancom)\n",
    "- [Biostats ANCOM](http://scikit-bio.org/docs/0.4.2/generated/generated/skbio.stats.composition.ancom.html)\n",
    "\n",
    "\n",
    "#### Methods\n",
    "- [composition](https://docs.qiime2.org/2022.8/plugins/available/composition/)\n",
    "- [composition add_pseudocount](https://docs.qiime2.org/2022.8/plugins/available/composition/add-pseudocount/): Increment all counts in table by pseudocount.\n",
    "- [composition ancom](https://docs.qiime2.org/2022.8/plugins/available/composition/ancom/): Apply ANCOM to identify features that differ in abundance."
   ]
  },
  {
   "cell_type": "markdown",
   "id": "843debbf",
   "metadata": {
    "papermill": {
     "duration": 0.009083,
     "end_time": "2023-06-07T07:01:58.780146",
     "exception": false,
     "start_time": "2023-06-07T07:01:58.771063",
     "status": "completed"
    },
    "tags": []
   },
   "source": [
    "## Setup and settings"
   ]
  },
  {
   "cell_type": "code",
   "execution_count": 1,
   "id": "965e28e5",
   "metadata": {
    "ExecuteTime": {
     "end_time": "2022-11-03T20:35:26.198671Z",
     "start_time": "2022-11-03T20:35:06.473173Z"
    },
    "execution": {
     "iopub.execute_input": "2023-06-07T07:01:58.811172Z",
     "iopub.status.busy": "2023-06-07T07:01:58.810532Z",
     "iopub.status.idle": "2023-06-07T07:02:04.931026Z",
     "shell.execute_reply": "2023-06-07T07:02:04.930508Z"
    },
    "papermill": {
     "duration": 6.13431,
     "end_time": "2023-06-07T07:02:04.934269",
     "exception": false,
     "start_time": "2023-06-07T07:01:58.799959",
     "status": "completed"
    },
    "tags": []
   },
   "outputs": [],
   "source": [
    "# Importing packages\n",
    "import os\n",
    "import pandas as pd\n",
    "from qiime2 import Artifact\n",
    "from qiime2 import Visualization\n",
    "from qiime2 import Metadata\n",
    "\n",
    "from qiime2.plugins.composition.visualizers import ancom\n",
    "from qiime2.plugins.composition.methods import add_pseudocount\n",
    "\n",
    "%matplotlib inline"
   ]
  },
  {
   "cell_type": "markdown",
   "id": "530ceb60",
   "metadata": {
    "papermill": {
     "duration": 0.210377,
     "end_time": "2023-06-07T07:02:05.161010",
     "exception": false,
     "start_time": "2023-06-07T07:02:04.950633",
     "status": "completed"
    },
    "tags": []
   },
   "source": [
    "### Receiving the parameters\n",
    "\n",
    "The following cell can receive parameters using the [papermill](https://papermill.readthedocs.io/en/latest/) tool."
   ]
  },
  {
   "cell_type": "code",
   "execution_count": 2,
   "id": "18d874ea",
   "metadata": {
    "ExecuteTime": {
     "end_time": "2022-09-29T20:54:14.793270Z",
     "start_time": "2022-09-29T20:54:14.789367Z"
    },
    "execution": {
     "iopub.execute_input": "2023-06-07T07:02:05.262391Z",
     "iopub.status.busy": "2023-06-07T07:02:05.262127Z",
     "iopub.status.idle": "2023-06-07T07:02:05.267070Z",
     "shell.execute_reply": "2023-06-07T07:02:05.266143Z"
    },
    "papermill": {
     "duration": 0.018196,
     "end_time": "2023-06-07T07:02:05.269748",
     "exception": false,
     "start_time": "2023-06-07T07:02:05.251552",
     "status": "completed"
    },
    "tags": [
     "parameters"
    ]
   },
   "outputs": [],
   "source": [
    "metadata_file = '/home/lauro/nupeb/rede-micro/redemicro-miliane-nutri/data/raw/metadata/miliane-metadata-CxAC.tsv'\n",
    "base_dir = os.path.join('/', 'home', 'lauro', 'nupeb', 'rede-micro', 'redemicro-miliane-nutri')\n",
    "experiment_name = 'miliane-CxAC-trim'\n",
    "class_col = 'group-id'\n",
    "replace_files = False"
   ]
  },
  {
   "cell_type": "code",
   "execution_count": 3,
   "id": "97336087",
   "metadata": {
    "execution": {
     "iopub.execute_input": "2023-06-07T07:02:05.290100Z",
     "iopub.status.busy": "2023-06-07T07:02:05.289875Z",
     "iopub.status.idle": "2023-06-07T07:02:05.294116Z",
     "shell.execute_reply": "2023-06-07T07:02:05.293388Z"
    },
    "papermill": {
     "duration": 0.014958,
     "end_time": "2023-06-07T07:02:05.295722",
     "exception": false,
     "start_time": "2023-06-07T07:02:05.280764",
     "status": "completed"
    },
    "tags": [
     "injected-parameters"
    ]
   },
   "outputs": [],
   "source": [
    "# Parameters\n",
    "experiment_name = \"ana-flavia-STD-NCxHSD-NC-trim\"\n",
    "base_dir = \"/home/lauro/nupeb/rede-micro/redemicro-ana-flavia-nutri\"\n",
    "manifest_file = \"/home/lauro/nupeb/rede-micro/redemicro-ana-flavia-nutri/data/raw/manifest/manifest-ana-flavia-STD-NCxHSD-NC.csv\"\n",
    "metadata_file = \"/home/lauro/nupeb/rede-micro/redemicro-ana-flavia-nutri/data/raw/metadata/metadata-ana-flavia-STD-NCxHSD-NC.tsv\"\n",
    "class_col = \"group-id\"\n",
    "classifier_file = \"/home/lauro/nupeb/rede-micro/models/silva-138-99-nb-classifier.qza\"\n",
    "top_n = 20\n",
    "replace_files = False\n",
    "trunc_f = 0\n",
    "trunc_r = 0\n",
    "overlap = 12\n",
    "threads = 6\n",
    "trim = {\n",
    "    \"overlap\": 8,\n",
    "    \"forward_primer\": \"CCTACGGGRSGCAGCAG\",\n",
    "    \"reverse_primer\": \"GGACTACHVGGGTWTCTAAT\",\n",
    "}\n"
   ]
  },
  {
   "cell_type": "code",
   "execution_count": 4,
   "id": "f38617d9",
   "metadata": {
    "ExecuteTime": {
     "end_time": "2022-09-29T20:54:14.804575Z",
     "start_time": "2022-09-29T20:54:14.794927Z"
    },
    "execution": {
     "iopub.execute_input": "2023-06-07T07:02:05.313101Z",
     "iopub.status.busy": "2023-06-07T07:02:05.312878Z",
     "iopub.status.idle": "2023-06-07T07:02:05.316297Z",
     "shell.execute_reply": "2023-06-07T07:02:05.315662Z"
    },
    "papermill": {
     "duration": 0.013921,
     "end_time": "2023-06-07T07:02:05.317865",
     "exception": false,
     "start_time": "2023-06-07T07:02:05.303944",
     "status": "completed"
    },
    "tags": []
   },
   "outputs": [],
   "source": [
    "experiment_folder = os.path.abspath(os.path.join(base_dir, 'experiments', experiment_name))\n",
    "img_folder = os.path.abspath(os.path.join(experiment_folder, 'imgs'))"
   ]
  },
  {
   "cell_type": "markdown",
   "id": "ea9b90fb",
   "metadata": {
    "papermill": {
     "duration": 0.007947,
     "end_time": "2023-06-07T07:02:05.333811",
     "exception": false,
     "start_time": "2023-06-07T07:02:05.325864",
     "status": "completed"
    },
    "tags": []
   },
   "source": [
    "### Defining names, paths and flags"
   ]
  },
  {
   "cell_type": "code",
   "execution_count": 5,
   "id": "45727eef",
   "metadata": {
    "ExecuteTime": {
     "end_time": "2022-09-29T20:54:14.816686Z",
     "start_time": "2022-09-29T20:54:14.806238Z"
    },
    "execution": {
     "iopub.execute_input": "2023-06-07T07:02:05.368021Z",
     "iopub.status.busy": "2023-06-07T07:02:05.367641Z",
     "iopub.status.idle": "2023-06-07T07:02:05.372413Z",
     "shell.execute_reply": "2023-06-07T07:02:05.371617Z"
    },
    "papermill": {
     "duration": 0.028159,
     "end_time": "2023-06-07T07:02:05.373966",
     "exception": false,
     "start_time": "2023-06-07T07:02:05.345807",
     "status": "completed"
    },
    "tags": []
   },
   "outputs": [],
   "source": [
    "# QIIME2 Artifacts folder\n",
    "qiime_folder = os.path.join(experiment_folder, 'qiime-artifacts')\n",
    "\n",
    "# Input - DADA2 Artifacts\n",
    "dada2_tabs_path = os.path.join(qiime_folder, 'dada2-tabs.qza')"
   ]
  },
  {
   "cell_type": "markdown",
   "id": "0999a1b2",
   "metadata": {
    "papermill": {
     "duration": 0.007997,
     "end_time": "2023-06-07T07:02:05.390143",
     "exception": false,
     "start_time": "2023-06-07T07:02:05.382146",
     "status": "completed"
    },
    "tags": []
   },
   "source": [
    "## Step execution\n",
    "\n",
    "### Load input files\n",
    "\n",
    "This Step import the QIIME2 `FeatureTable[Frequency]` Artifact and the `Metadata` file."
   ]
  },
  {
   "cell_type": "code",
   "execution_count": 6,
   "id": "8f299d1a",
   "metadata": {
    "ExecuteTime": {
     "end_time": "2022-09-29T20:54:15.559837Z",
     "start_time": "2022-09-29T20:54:14.830405Z"
    },
    "execution": {
     "iopub.execute_input": "2023-06-07T07:02:05.406639Z",
     "iopub.status.busy": "2023-06-07T07:02:05.406488Z",
     "iopub.status.idle": "2023-06-07T07:02:05.845840Z",
     "shell.execute_reply": "2023-06-07T07:02:05.845011Z"
    },
    "papermill": {
     "duration": 0.449539,
     "end_time": "2023-06-07T07:02:05.847505",
     "exception": false,
     "start_time": "2023-06-07T07:02:05.397966",
     "status": "completed"
    },
    "tags": []
   },
   "outputs": [],
   "source": [
    "#Load Metadata\n",
    "metadata_qa = Metadata.load(metadata_file)\n",
    "\n",
    "#Load FeatureTable[Frequency]\n",
    "tabs = Artifact.load(dada2_tabs_path)\n",
    "tabs_df = tabs.view(Metadata).to_dataframe().T"
   ]
  },
  {
   "cell_type": "markdown",
   "id": "a9a446c4",
   "metadata": {
    "papermill": {
     "duration": 0.007509,
     "end_time": "2023-06-07T07:02:05.862903",
     "exception": false,
     "start_time": "2023-06-07T07:02:05.855394",
     "status": "completed"
    },
    "tags": []
   },
   "source": [
    "# ANCOM\n",
    "\n",
    "Apply Analysis of Composition of Microbiomes (ANCOM) to identify features\n",
    "that are differentially abundant across groups.\n",
    "\n",
    "- [composition add_pseudocount](https://docs.qiime2.org/2022.8/plugins/available/composition/add-pseudocount/): Increment all counts in table by pseudocount.\n",
    "- [composition ancom](https://docs.qiime2.org/2022.8/plugins/available/composition/ancom/): Apply ANCOM to identify features that differ in abundance."
   ]
  },
  {
   "cell_type": "code",
   "execution_count": 7,
   "id": "cda81bf5",
   "metadata": {
    "execution": {
     "iopub.execute_input": "2023-06-07T07:02:05.878514Z",
     "iopub.status.busy": "2023-06-07T07:02:05.878369Z",
     "iopub.status.idle": "2023-06-07T07:02:05.882095Z",
     "shell.execute_reply": "2023-06-07T07:02:05.881668Z"
    },
    "papermill": {
     "duration": 0.013102,
     "end_time": "2023-06-07T07:02:05.883344",
     "exception": false,
     "start_time": "2023-06-07T07:02:05.870242",
     "status": "completed"
    },
    "tags": []
   },
   "outputs": [],
   "source": [
    "# Select class column\n",
    "column = metadata_qa.get_column(class_col)"
   ]
  },
  {
   "cell_type": "code",
   "execution_count": 8,
   "id": "2f023bcc",
   "metadata": {
    "execution": {
     "iopub.execute_input": "2023-06-07T07:02:05.937996Z",
     "iopub.status.busy": "2023-06-07T07:02:05.937781Z",
     "iopub.status.idle": "2023-06-07T07:02:06.056412Z",
     "shell.execute_reply": "2023-06-07T07:02:06.055709Z"
    },
    "papermill": {
     "duration": 0.128617,
     "end_time": "2023-06-07T07:02:06.058060",
     "exception": false,
     "start_time": "2023-06-07T07:02:05.929443",
     "status": "completed"
    },
    "tags": []
   },
   "outputs": [],
   "source": [
    "# Create the pseudocount table\n",
    "composition_tab = add_pseudocount(table = tabs).composition_table"
   ]
  },
  {
   "cell_type": "code",
   "execution_count": 9,
   "id": "2999c2f6",
   "metadata": {
    "execution": {
     "iopub.execute_input": "2023-06-07T07:02:06.083663Z",
     "iopub.status.busy": "2023-06-07T07:02:06.083431Z",
     "iopub.status.idle": "2023-06-07T07:14:43.195405Z",
     "shell.execute_reply": "2023-06-07T07:14:43.194810Z"
    },
    "papermill": {
     "duration": 757.132349,
     "end_time": "2023-06-07T07:14:43.198453",
     "exception": false,
     "start_time": "2023-06-07T07:02:06.066104",
     "status": "completed"
    },
    "tags": []
   },
   "outputs": [
    {
     "name": "stdout",
     "output_type": "stream",
     "text": [
      "Calculating ANCOM with: sqrt mean_difference\n"
     ]
    },
    {
     "name": "stderr",
     "output_type": "stream",
     "text": [
      "/home/lauro/anaconda3/envs/qiime2-2022.2/lib/python3.8/site-packages/scipy/stats/_stats_py.py:3659: F_onewayConstantInputWarning: Each of the input arrays is constant;the F statistic is not defined or infinite\n",
      "  warnings.warn(F_onewayConstantInputWarning())\n"
     ]
    },
    {
     "name": "stdout",
     "output_type": "stream",
     "text": [
      "Calculating ANCOM with: sqrt f_statistic\n"
     ]
    },
    {
     "name": "stderr",
     "output_type": "stream",
     "text": [
      "/home/lauro/anaconda3/envs/qiime2-2022.2/lib/python3.8/site-packages/scipy/stats/_stats_py.py:3659: F_onewayConstantInputWarning: Each of the input arrays is constant;the F statistic is not defined or infinite\n",
      "  warnings.warn(F_onewayConstantInputWarning())\n"
     ]
    },
    {
     "name": "stdout",
     "output_type": "stream",
     "text": [
      "Calculating ANCOM with: log mean_difference\n"
     ]
    },
    {
     "name": "stderr",
     "output_type": "stream",
     "text": [
      "/home/lauro/anaconda3/envs/qiime2-2022.2/lib/python3.8/site-packages/scipy/stats/_stats_py.py:3659: F_onewayConstantInputWarning: Each of the input arrays is constant;the F statistic is not defined or infinite\n",
      "  warnings.warn(F_onewayConstantInputWarning())\n"
     ]
    },
    {
     "name": "stdout",
     "output_type": "stream",
     "text": [
      "Calculating ANCOM with: log f_statistic\n"
     ]
    },
    {
     "name": "stderr",
     "output_type": "stream",
     "text": [
      "/home/lauro/anaconda3/envs/qiime2-2022.2/lib/python3.8/site-packages/scipy/stats/_stats_py.py:3659: F_onewayConstantInputWarning: Each of the input arrays is constant;the F statistic is not defined or infinite\n",
      "  warnings.warn(F_onewayConstantInputWarning())\n"
     ]
    },
    {
     "name": "stdout",
     "output_type": "stream",
     "text": [
      "Calculating ANCOM with: clr mean_difference\n"
     ]
    },
    {
     "name": "stderr",
     "output_type": "stream",
     "text": [
      "/home/lauro/anaconda3/envs/qiime2-2022.2/lib/python3.8/site-packages/scipy/stats/_stats_py.py:3659: F_onewayConstantInputWarning: Each of the input arrays is constant;the F statistic is not defined or infinite\n",
      "  warnings.warn(F_onewayConstantInputWarning())\n"
     ]
    },
    {
     "name": "stdout",
     "output_type": "stream",
     "text": [
      "Calculating ANCOM with: clr f_statistic\n"
     ]
    },
    {
     "name": "stderr",
     "output_type": "stream",
     "text": [
      "/home/lauro/anaconda3/envs/qiime2-2022.2/lib/python3.8/site-packages/scipy/stats/_stats_py.py:3659: F_onewayConstantInputWarning: Each of the input arrays is constant;the F statistic is not defined or infinite\n",
      "  warnings.warn(F_onewayConstantInputWarning())\n"
     ]
    }
   ],
   "source": [
    "# Create visualizations for each parameter combination for the ANCOM  method.\n",
    "transform_functions = ('sqrt', 'log', 'clr')\n",
    "difference_functions = ('mean_difference', 'f_statistic')\n",
    "for t in transform_functions:\n",
    "    for d in difference_functions:\n",
    "        print(f\"Calculating ANCOM with: {t} {d}\")\n",
    "        try:\n",
    "            ancom_viz = ancom(\n",
    "                table = composition_tab, \n",
    "                metadata = column, \n",
    "                transform_function = t, \n",
    "                difference_function = d\n",
    "            ).visualization\n",
    "            view_name = os.path.join(qiime_folder, f'ancom-{t}-{d}.qzv')\n",
    "            ancom_viz.save(view_name)\n",
    "        except Exception as e:\n",
    "            print(f\"ERROR: Calculating ANCOM with: {t} {d}\")\n",
    "            print(e)"
   ]
  }
 ],
 "metadata": {
  "celltoolbar": "Edit Metadata",
  "kernelspec": {
   "display_name": "Python 3 (ipykernel)",
   "language": "python",
   "name": "python3"
  },
  "language_info": {
   "codemirror_mode": {
    "name": "ipython",
    "version": 3
   },
   "file_extension": ".py",
   "mimetype": "text/x-python",
   "name": "python",
   "nbconvert_exporter": "python",
   "pygments_lexer": "ipython3",
   "version": "3.8.12"
  },
  "papermill": {
   "default_parameters": {},
   "duration": 766.837142,
   "end_time": "2023-06-07T07:14:43.940445",
   "environment_variables": {},
   "exception": null,
   "input_path": "nb-templates/step-abundance-analysis.ipynb",
   "output_path": "/home/lauro/nupeb/rede-micro/redemicro-ana-flavia-nutri/experiments/ana-flavia-STD-NCxHSD-NC-trim/nb-executed-steps/step-abundance-analysis-ana-flavia-STD-NCxHSD-NC-trim.ipynb",
   "parameters": {
    "base_dir": "/home/lauro/nupeb/rede-micro/redemicro-ana-flavia-nutri",
    "class_col": "group-id",
    "classifier_file": "/home/lauro/nupeb/rede-micro/models/silva-138-99-nb-classifier.qza",
    "experiment_name": "ana-flavia-STD-NCxHSD-NC-trim",
    "manifest_file": "/home/lauro/nupeb/rede-micro/redemicro-ana-flavia-nutri/data/raw/manifest/manifest-ana-flavia-STD-NCxHSD-NC.csv",
    "metadata_file": "/home/lauro/nupeb/rede-micro/redemicro-ana-flavia-nutri/data/raw/metadata/metadata-ana-flavia-STD-NCxHSD-NC.tsv",
    "overlap": 12,
    "replace_files": false,
    "threads": 6,
    "top_n": 20,
    "trim": {
     "forward_primer": "CCTACGGGRSGCAGCAG",
     "overlap": 8,
     "reverse_primer": "GGACTACHVGGGTWTCTAAT"
    },
    "trunc_f": 0,
    "trunc_r": 0
   },
   "start_time": "2023-06-07T07:01:57.103303",
   "version": "2.3.4"
  }
 },
 "nbformat": 4,
 "nbformat_minor": 5
}