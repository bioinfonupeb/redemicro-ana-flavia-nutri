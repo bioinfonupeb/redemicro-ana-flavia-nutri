{
 "cells": [
  {
   "cell_type": "markdown",
   "id": "0e7f2330",
   "metadata": {
    "ExecuteTime": {
     "end_time": "2022-09-22T19:36:33.828188Z",
     "start_time": "2022-09-22T19:36:33.817323Z"
    },
    "papermill": {
     "duration": 0.039559,
     "end_time": "2023-06-07T14:49:01.308897",
     "exception": false,
     "start_time": "2023-06-07T14:49:01.269338",
     "status": "completed"
    },
    "tags": []
   },
   "source": [
    "### STEP : PICRUST2 Analysis\n",
    "\n",
    "\n",
    "\n",
    "#### Example\n",
    "\n",
    "- [PICRUST2 tutorial](https://github.com/picrust/picrust2/wiki/q2-picrust2-Tutorial)\n",
    "- [Limitations](https://github.com/picrust/picrust2/wiki/Key-Limitations)\n",
    "\n",
    "\n",
    "#### Methods\n",
    "- [composition](https://docs.qiime2.org/2022.8/plugins/available/composition/)"
   ]
  },
  {
   "cell_type": "markdown",
   "id": "843debbf",
   "metadata": {
    "papermill": {
     "duration": 0.049151,
     "end_time": "2023-06-07T14:49:01.446837",
     "exception": false,
     "start_time": "2023-06-07T14:49:01.397686",
     "status": "completed"
    },
    "tags": []
   },
   "source": [
    "## Setup and settings"
   ]
  },
  {
   "cell_type": "code",
   "execution_count": 1,
   "id": "965e28e5",
   "metadata": {
    "ExecuteTime": {
     "end_time": "2022-11-09T19:20:47.478806Z",
     "start_time": "2022-11-09T19:20:40.457657Z"
    },
    "execution": {
     "iopub.execute_input": "2023-06-07T14:49:01.582214Z",
     "iopub.status.busy": "2023-06-07T14:49:01.581148Z",
     "iopub.status.idle": "2023-06-07T14:49:08.621049Z",
     "shell.execute_reply": "2023-06-07T14:49:08.619929Z"
    },
    "papermill": {
     "duration": 7.12074,
     "end_time": "2023-06-07T14:49:08.621300",
     "exception": false,
     "start_time": "2023-06-07T14:49:01.500560",
     "status": "completed"
    },
    "tags": []
   },
   "outputs": [],
   "source": [
    "# Importing packages\n",
    "import os\n",
    "import biom\n",
    "import pandas as pd\n",
    "from qiime2 import Artifact\n",
    "from qiime2 import Visualization\n",
    "from qiime2 import Metadata\n",
    "\n",
    "from qiime2.plugins.feature_table.visualizers import summarize\n",
    "\n",
    "from picrust2.pipeline import full_pipeline\n",
    "from picrust2.default import (default_ref_dir, default_tables, default_regroup_map, default_pathway_map)\n",
    "from qiime2.plugins import picrust2\n",
    "\n",
    "%matplotlib inline"
   ]
  },
  {
   "cell_type": "markdown",
   "id": "530ceb60",
   "metadata": {
    "papermill": {
     "duration": 0.028335,
     "end_time": "2023-06-07T14:49:08.684126",
     "exception": false,
     "start_time": "2023-06-07T14:49:08.655791",
     "status": "completed"
    },
    "tags": []
   },
   "source": [
    "### Receiving the parameters\n",
    "\n",
    "The following cell can receive parameters using the [papermill](https://papermill.readthedocs.io/en/latest/) tool."
   ]
  },
  {
   "cell_type": "code",
   "execution_count": 2,
   "id": "18d874ea",
   "metadata": {
    "ExecuteTime": {
     "end_time": "2022-11-09T19:20:47.483140Z",
     "start_time": "2022-11-09T19:20:47.480386Z"
    },
    "execution": {
     "iopub.execute_input": "2023-06-07T14:49:08.745943Z",
     "iopub.status.busy": "2023-06-07T14:49:08.745431Z",
     "iopub.status.idle": "2023-06-07T14:49:08.747904Z",
     "shell.execute_reply": "2023-06-07T14:49:08.748297Z"
    },
    "papermill": {
     "duration": 0.035812,
     "end_time": "2023-06-07T14:49:08.748414",
     "exception": false,
     "start_time": "2023-06-07T14:49:08.712602",
     "status": "completed"
    },
    "tags": [
     "parameters"
    ]
   },
   "outputs": [],
   "source": [
    "metadata_file = '/home/lauro/nupeb/rede-micro/redemicro-miliane-nutri/data/raw/metadata/miliane-metadata-CxAC.tsv'\n",
    "base_dir = os.path.join('/', 'home', 'lauro', 'nupeb', 'rede-micro', 'redemicro-miliane-nutri')\n",
    "experiment_name = 'miliane-CxAC-trim'\n",
    "class_col = 'group-id'\n",
    "replace_files = False"
   ]
  },
  {
   "cell_type": "code",
   "execution_count": 3,
   "id": "efa0b80a",
   "metadata": {
    "execution": {
     "iopub.execute_input": "2023-06-07T14:49:08.811322Z",
     "iopub.status.busy": "2023-06-07T14:49:08.810820Z",
     "iopub.status.idle": "2023-06-07T14:49:08.813184Z",
     "shell.execute_reply": "2023-06-07T14:49:08.813561Z"
    },
    "papermill": {
     "duration": 0.035652,
     "end_time": "2023-06-07T14:49:08.813673",
     "exception": false,
     "start_time": "2023-06-07T14:49:08.778021",
     "status": "completed"
    },
    "tags": [
     "injected-parameters"
    ]
   },
   "outputs": [],
   "source": [
    "# Parameters\n",
    "experiment_name = \"ana-flavia-NCxNR-trim\"\n",
    "base_dir = \"/home/lauro/nupeb/rede-micro/redemicro-ana-flavia-nutri\"\n",
    "manifest_file = \"/home/lauro/nupeb/rede-micro/redemicro-ana-flavia-nutri/data/raw/manifest/manifest-ana-flavia-NCxNR.csv\"\n",
    "metadata_file = \"/home/lauro/nupeb/rede-micro/redemicro-ana-flavia-nutri/data/raw/metadata/metadata-ana-flavia-NCxNR.tsv\"\n",
    "class_col = \"group-id\"\n",
    "classifier_file = \"/home/lauro/nupeb/rede-micro/models/silva-138-99-nb-classifier.qza\"\n",
    "top_n = 20\n",
    "replace_files = False\n",
    "phred = 20\n",
    "trunc_f = 0\n",
    "trunc_r = 0\n",
    "overlap = 12\n",
    "threads = 6\n",
    "trim = {\n",
    "    \"overlap\": 8,\n",
    "    \"forward_primer\": \"CCTACGGGRSGCAGCAG\",\n",
    "    \"reverse_primer\": \"GGACTACHVGGGTWTCTAAT\",\n",
    "}\n"
   ]
  },
  {
   "cell_type": "code",
   "execution_count": 4,
   "id": "f38617d9",
   "metadata": {
    "ExecuteTime": {
     "end_time": "2022-11-09T19:20:47.515942Z",
     "start_time": "2022-11-09T19:20:47.498345Z"
    },
    "execution": {
     "iopub.execute_input": "2023-06-07T14:49:08.874478Z",
     "iopub.status.busy": "2023-06-07T14:49:08.874006Z",
     "iopub.status.idle": "2023-06-07T14:49:08.876555Z",
     "shell.execute_reply": "2023-06-07T14:49:08.876148Z"
    },
    "papermill": {
     "duration": 0.034705,
     "end_time": "2023-06-07T14:49:08.876649",
     "exception": false,
     "start_time": "2023-06-07T14:49:08.841944",
     "status": "completed"
    },
    "tags": []
   },
   "outputs": [],
   "source": [
    "experiment_folder = os.path.abspath(os.path.join(base_dir, 'experiments', experiment_name))\n",
    "img_folder = os.path.abspath(os.path.join(experiment_folder, 'imgs'))"
   ]
  },
  {
   "cell_type": "markdown",
   "id": "ea9b90fb",
   "metadata": {
    "papermill": {
     "duration": 0.028284,
     "end_time": "2023-06-07T14:49:08.932876",
     "exception": false,
     "start_time": "2023-06-07T14:49:08.904592",
     "status": "completed"
    },
    "tags": []
   },
   "source": [
    "### Defining names, paths and flags"
   ]
  },
  {
   "cell_type": "code",
   "execution_count": 5,
   "id": "45727eef",
   "metadata": {
    "ExecuteTime": {
     "end_time": "2022-11-09T19:20:47.527937Z",
     "start_time": "2022-11-09T19:20:47.517696Z"
    },
    "execution": {
     "iopub.execute_input": "2023-06-07T14:49:08.994193Z",
     "iopub.status.busy": "2023-06-07T14:49:08.993719Z",
     "iopub.status.idle": "2023-06-07T14:49:08.997571Z",
     "shell.execute_reply": "2023-06-07T14:49:08.997934Z"
    },
    "papermill": {
     "duration": 0.036823,
     "end_time": "2023-06-07T14:49:08.998044",
     "exception": false,
     "start_time": "2023-06-07T14:49:08.961221",
     "status": "completed"
    },
    "tags": []
   },
   "outputs": [
    {
     "name": "stdout",
     "output_type": "stream",
     "text": [
      "New picrust2-artifacts folder path created: /home/lauro/nupeb/rede-micro/redemicro-ana-flavia-nutri/experiments/ana-flavia-NCxNR-trim/picrust2\n"
     ]
    }
   ],
   "source": [
    "# QIIME2 Artifacts folder\n",
    "qiime_folder = os.path.join(experiment_folder, 'qiime-artifacts')\n",
    "\n",
    "# Input - DADA2 Artifacts\n",
    "dada2_tabs_path = os.path.join(qiime_folder, 'dada2-tabs.qza')\n",
    "dada2_reqs_path = os.path.join(qiime_folder, 'dada2-reps.qza')\n",
    "\n",
    "# PICRUST@ folder\n",
    "picrust2_folder = os.path.abspath(os.path.join(experiment_folder, 'picrust2'))\n",
    "\n",
    "# Create path if it not exist\n",
    "if not os.path.isdir(picrust2_folder):\n",
    "    os.makedirs(picrust2_folder)\n",
    "    print(f'New picrust2-artifacts folder path created: {picrust2_folder}')"
   ]
  },
  {
   "cell_type": "code",
   "execution_count": 6,
   "id": "4903e645",
   "metadata": {
    "ExecuteTime": {
     "end_time": "2022-11-09T19:20:47.539993Z",
     "start_time": "2022-11-09T19:20:47.529653Z"
    },
    "execution": {
     "iopub.execute_input": "2023-06-07T14:49:09.065462Z",
     "iopub.status.busy": "2023-06-07T14:49:09.064920Z",
     "iopub.status.idle": "2023-06-07T14:49:09.067274Z",
     "shell.execute_reply": "2023-06-07T14:49:09.067705Z"
    },
    "papermill": {
     "duration": 0.039223,
     "end_time": "2023-06-07T14:49:09.067828",
     "exception": false,
     "start_time": "2023-06-07T14:49:09.028605",
     "status": "completed"
    },
    "tags": []
   },
   "outputs": [],
   "source": [
    "# Define paths for metagenome function artifacts\n",
    "ec_path = os.path.join(picrust2_folder, 'ec-pred-metagen.qza')\n",
    "ko_path = os.path.join(picrust2_folder, 'ko-pred-metagen.qza')\n",
    "pathway_path = os.path.join(picrust2_folder, 'pathway-abundance.qza')\n",
    "\n",
    "# Define paths for metagenome function visualization artifacts\n",
    "ec_viz_path = ec_path[:-1]+'v'\n",
    "ko_viz_path = ko_path[:-1]+'v'\n",
    "pathway_viz_path = pathway_path[:-1]+'v'\n",
    "\n",
    "# Define paths for biom -> tsv files (function X sample)\n",
    "pathway_fpath = os.path.join(picrust2_folder, 'pathway.tsv')\n",
    "ec_fpath = os.path.join(picrust2_folder, 'ec.tsv')\n",
    "ko_fpath = os.path.join(picrust2_folder, 'ko.tsv')\n",
    "\n",
    "# Define paths for biom -> tsv files (function X sample) - with descriptions\n",
    "pathway_desc_fpath = os.path.join(picrust2_folder, 'pathway-desc.tsv')\n",
    "ec_desc_fpath = os.path.join(picrust2_folder, 'ec-desc.tsv')\n",
    "ko_desc_fpath = os.path.join(picrust2_folder, 'ko-desc.tsv')"
   ]
  },
  {
   "cell_type": "markdown",
   "id": "0999a1b2",
   "metadata": {
    "papermill": {
     "duration": 0.028582,
     "end_time": "2023-06-07T14:49:09.126384",
     "exception": false,
     "start_time": "2023-06-07T14:49:09.097802",
     "status": "completed"
    },
    "tags": []
   },
   "source": [
    "## Step execution\n",
    "\n",
    "### Load input files\n",
    "\n",
    "This Step import the QIIME2 `FeatureTable[Frequency]` Artifact and the `Metadata` file."
   ]
  },
  {
   "cell_type": "code",
   "execution_count": 7,
   "id": "8f299d1a",
   "metadata": {
    "ExecuteTime": {
     "end_time": "2022-11-09T19:20:47.610793Z",
     "start_time": "2022-11-09T19:20:47.541540Z"
    },
    "execution": {
     "iopub.execute_input": "2023-06-07T14:49:09.188288Z",
     "iopub.status.busy": "2023-06-07T14:49:09.187807Z",
     "iopub.status.idle": "2023-06-07T14:49:09.250684Z",
     "shell.execute_reply": "2023-06-07T14:49:09.250020Z"
    },
    "papermill": {
     "duration": 0.095466,
     "end_time": "2023-06-07T14:49:09.250822",
     "exception": false,
     "start_time": "2023-06-07T14:49:09.155356",
     "status": "completed"
    },
    "tags": []
   },
   "outputs": [],
   "source": [
    "#Load Metadata\n",
    "metadata_qa = Metadata.load(metadata_file)\n",
    "\n",
    "#Load FeatureTable[Frequency]\n",
    "tabs = Artifact.load(dada2_tabs_path)\n",
    "\n",
    "#Load FeatureTable[Sequence]\n",
    "seqs = Artifact.load(dada2_reqs_path)"
   ]
  },
  {
   "cell_type": "markdown",
   "id": "4f1b06d4",
   "metadata": {
    "papermill": {
     "duration": 0.029216,
     "end_time": "2023-06-07T14:49:09.314952",
     "exception": false,
     "start_time": "2023-06-07T14:49:09.285736",
     "status": "completed"
    },
    "tags": []
   },
   "source": [
    "### Execute full pipelie\n",
    "\n",
    "The entire PICRUSt2 pipeline will be run using a single method, called `picrust2.methods.full_pipeline`. This method will run each of the 4 key steps: \n",
    "\n",
    "1. sequence placement\n",
    "2. hidden-state prediction of genomes\n",
    "3. metagenome prediction\n",
    "4. pathway-level predictions.\n",
    "\n",
    "More information on [Documentation](https://github.com/picrust/picrust2/wiki/Full-pipeline-script)."
   ]
  },
  {
   "cell_type": "code",
   "execution_count": 8,
   "id": "2c4f3874",
   "metadata": {
    "ExecuteTime": {
     "end_time": "2022-11-09T19:20:47.642417Z",
     "start_time": "2022-11-09T19:20:47.612547Z"
    },
    "execution": {
     "iopub.execute_input": "2023-06-07T14:49:09.381544Z",
     "iopub.status.busy": "2023-06-07T14:49:09.381032Z",
     "iopub.status.idle": "2023-06-07T14:55:00.980674Z",
     "shell.execute_reply": "2023-06-07T14:55:00.981558Z"
    },
    "papermill": {
     "duration": 351.637104,
     "end_time": "2023-06-07T14:55:00.981843",
     "exception": false,
     "start_time": "2023-06-07T14:49:09.344739",
     "status": "completed"
    },
    "scrolled": true,
    "tags": []
   },
   "outputs": [
    {
     "name": "stderr",
     "output_type": "stream",
     "text": [
      "668 of 668 sequence ids overlap between input table and FASTA.\n",
      "\n",
      "Placing sequences onto reference tree\n",
      "place_seqs.py --study_fasta /tmp/tmp67yxgtqv/seqs.fna --ref_dir /home/lauro/anaconda3/envs/qiime2-2021.11/lib/python3.8/site-packages/picrust2/default_files/prokaryotic/pro_ref --out_tree /tmp/tmp67yxgtqv/picrust2_out/out.tre --processes 6 --intermediate /tmp/tmp67yxgtqv/picrust2_out/intermediate/place_seqs --min_align 0.8 --chunk_size 5000 --placement_tool sepp --verbose\n"
     ]
    },
    {
     "name": "stdout",
     "output_type": "stream",
     "text": [
      "\n",
      "['run_sepp.py', '--tree', '/home/lauro/anaconda3/envs/qiime2-2021.11/lib/python3.8/site-packages/picrust2/default_files/prokaryotic/pro_ref/pro_ref.tre', '--raxml', '/home/lauro/anaconda3/envs/qiime2-2021.11/lib/python3.8/site-packages/picrust2/default_files/prokaryotic/pro_ref/pro_ref.raxml_info', '--cpu', '6', '--molecule', 'dna', '--outdir', '/tmp/tmp67yxgtqv/picrust2_out/intermediate/place_seqs/sepp_out', '-seed', '297834', '--alignment', '/home/lauro/anaconda3/envs/qiime2-2021.11/lib/python3.8/site-packages/picrust2/default_files/prokaryotic/pro_ref/pro_ref.fna', '--fragment', '/tmp/tmp67yxgtqv/picrust2_out/intermediate/place_seqs/study_seqs_filtered.fasta']\n",
      "\n",
      "                                              ....      ....  \n",
      "                                             '' '||.   .||'   \n",
      "                                                  ||  ||      \n",
      "                                                  '|.|'       \n",
      "     ...'   ....   ... ...  ... ...   ....        .|'|.       \n",
      "    |  ||  '' .||   ||'  ||  ||'  || '' .||      .|'  ||      \n",
      "     |''   .|' ||   ||    |  ||    | .|' ||     .|'|.  ||     \n",
      "    '....  '|..'|'. ||...'   ||...'  '|..'|.    '||'    ||:.  \n",
      "    '....'          ||       ||                               \n",
      "                   ''''     ''''   v0.6.1 (c) 2017-2020\n",
      "                                   by Lucas Czech and Pierre Barbera\n",
      "\n",
      "Invocation:                        gappa examine graft --jplace-path /tmp/tmp67yxgtqv/picrust2_out/intermediate/place_seqs/sepp_out/output_placement.json --fully-resolve --out-dir /tmp/tmp67yxgtqv/picrust2_out/intermediate/place_seqs/sepp_out\n",
      "Command:                           gappa examine graft\n",
      "\n",
      "Input:\n",
      "  --jplace-path                    /tmp/tmp67yxgtqv/picrust2_out/intermediate/place_seqs/sepp_out/output_placement.json\n",
      "\n",
      "Settings:\n",
      "  --fully-resolve                  true\n",
      "  --name-prefix\n",
      "\n",
      "Output:\n",
      "  --out-dir                        /tmp/tmp67yxgtqv/picrust2_out/intermediate/place_seqs/sepp_out\n",
      "  --file-prefix                    \n",
      "  --file-suffix\n",
      "\n",
      "Global Options:\n",
      "  --allow-file-overwriting         false\n",
      "  --verbose                        false\n",
      "  --threads                        4\n",
      "  --log-file\n",
      "\n",
      "Run the following command to get the references that need to be cited:\n",
      "`gappa tools citation Czech2020-genesis-and-gappa`\n",
      "\n",
      "Started 2023-06-07 14:51:29\n",
      "\n",
      "Found 1 jplace file\n",
      "\n",
      "Finished 2023-06-07 14:51:30\n",
      "\n",
      "\n"
     ]
    },
    {
     "name": "stderr",
     "output_type": "stream",
     "text": [
      "hmmalign --trim --dna --mapali /home/lauro/anaconda3/envs/qiime2-2021.11/lib/python3.8/site-packages/picrust2/default_files/prokaryotic/pro_ref/pro_ref.fna --informat FASTA -o /tmp/tmp67yxgtqv/picrust2_out/intermediate/place_seqs/query_align.stockholm /home/lauro/anaconda3/envs/qiime2-2021.11/lib/python3.8/site-packages/picrust2/default_files/prokaryotic/pro_ref/pro_ref.hmm /tmp/tmp67yxgtqv/seqs.fna\n",
      "\n",
      "Raw input sequences ranged in length from 281 to 430\n",
      "\n",
      "run_sepp.py --tree /home/lauro/anaconda3/envs/qiime2-2021.11/lib/python3.8/site-packages/picrust2/default_files/prokaryotic/pro_ref/pro_ref.tre --raxml /home/lauro/anaconda3/envs/qiime2-2021.11/lib/python3.8/site-packages/picrust2/default_files/prokaryotic/pro_ref/pro_ref.raxml_info --cpu 6 --molecule dna --outdir /tmp/tmp67yxgtqv/picrust2_out/intermediate/place_seqs/sepp_out -seed 297834 --alignment /home/lauro/anaconda3/envs/qiime2-2021.11/lib/python3.8/site-packages/picrust2/default_files/prokaryotic/pro_ref/pro_ref.fna --fragment /tmp/tmp67yxgtqv/picrust2_out/intermediate/place_seqs/study_seqs_filtered.fasta\n",
      "[14:49:37] config.py (line 349):     INFO: Seed number: 297834\n",
      "[14:49:37] algorithm.py (line 258):     INFO: Reading input alignment: <_io.TextIOWrapper name='/home/lauro/anaconda3/envs/qiime2-2021.11/lib/python3.8/site-packages/picrust2/default_files/prokaryotic/pro_ref/pro_ref.fna' mode='r' encoding='UTF-8'>\n",
      "[14:49:37] algorithm.py (line 265):     INFO: Reading input tree: <_io.TextIOWrapper name='/home/lauro/anaconda3/envs/qiime2-2021.11/lib/python3.8/site-packages/picrust2/default_files/prokaryotic/pro_ref/pro_ref.tre' mode='r' encoding='UTF-8'>\n",
      "[14:49:39] algorithm.py (line 238):     INFO: Decomposition Sizes are set to alignment: 2000 placement: 2000\n",
      "[14:49:41] exhaustive.py (line 350):     INFO: Breaking into 16 placement subsets.\n",
      "[14:49:42] exhaustive.py (line 397):     INFO: Breaking into 16 alignment subsets.\n",
      "[14:49:42] filemgr.py (line 129):     INFO: Root temp directory built: /tmp/sepp/output.8trlr05c\n",
      "[14:49:42] exhaustive.py (line 412):     INFO: Breaking each alignment subset into 3 fragment chunks.\n",
      "[14:49:44] jobs.py (line 131):     INFO: Finished hmmbuild Job with input: /tmp/sepp/output.8trlr05c/root/P_4/A_4_0/hmmbuild.input.48kvr21t.fasta\n",
      "[14:49:44] jobs.py (line 131):     INFO: Finished hmmbuild Job with input: /tmp/sepp/output.8trlr05c/root/P_3/A_3_0/hmmbuild.input.p66lbibf.fasta\n",
      "[14:49:44] jobs.py (line 131):     INFO: Finished hmmbuild Job with input: /tmp/sepp/output.8trlr05c/root/P_1/A_1_0/hmmbuild.input.oq_p5nfy.fasta\n",
      "[14:49:44] jobs.py (line 131):     INFO: Finished hmmbuild Job with input: /tmp/sepp/output.8trlr05c/root/P_0/A_0_0/hmmbuild.input.v42_a3iq.fasta\n",
      "[14:49:44] jobs.py (line 131):     INFO: Finished hmmbuild Job with input: /tmp/sepp/output.8trlr05c/root/P_5/A_5_0/hmmbuild.input.thvhvchu.fasta\n",
      "[14:49:44] jobs.py (line 131):     INFO: Finished hmmbuild Job with input: /tmp/sepp/output.8trlr05c/root/P_2/A_2_0/hmmbuild.input.4cx5fa5u.fasta\n",
      "[14:49:45] jobs.py (line 131):     INFO: Finished hmmbuild Job with input: /tmp/sepp/output.8trlr05c/root/P_6/A_6_0/hmmbuild.input.m0s9olih.fasta\n",
      "[14:49:45] jobs.py (line 131):     INFO: Finished hmmbuild Job with input: /tmp/sepp/output.8trlr05c/root/P_10/A_10_0/hmmbuild.input.7vvg6fny.fasta\n",
      "[14:49:45] jobs.py (line 131):     INFO: Finished hmmbuild Job with input: /tmp/sepp/output.8trlr05c/root/P_11/A_11_0/hmmbuild.input.9e6zvxdn.fasta\n",
      "[14:49:45] jobs.py (line 131):     INFO: Finished hmmbuild Job with input: /tmp/sepp/output.8trlr05c/root/P_8/A_8_0/hmmbuild.input.4h2d842s.fasta\n",
      "[14:49:45] jobs.py (line 131):     INFO: Finished hmmbuild Job with input: /tmp/sepp/output.8trlr05c/root/P_7/A_7_0/hmmbuild.input.gvuyjr_b.fasta\n",
      "[14:49:45] jobs.py (line 131):     INFO: Finished hmmbuild Job with input: /tmp/sepp/output.8trlr05c/root/P_9/A_9_0/hmmbuild.input.zvd_3ahx.fasta\n",
      "[14:49:45] jobs.py (line 131):     INFO: Finished hmmbuild Job with input: /tmp/sepp/output.8trlr05c/root/P_12/A_12_0/hmmbuild.input.vjstt8m7.fasta\n",
      "[14:49:46] jobs.py (line 131):     INFO: Finished hmmbuild Job with input: /tmp/sepp/output.8trlr05c/root/P_13/A_13_0/hmmbuild.input.9nuc6zcr.fasta\n",
      "[14:49:46] jobs.py (line 131):     INFO: Finished hmmbuild Job with input: /tmp/sepp/output.8trlr05c/root/P_14/A_14_0/hmmbuild.input.2dw457at.fasta\n",
      "[14:49:46] jobs.py (line 131):     INFO: Finished hmmbuild Job with input: /tmp/sepp/output.8trlr05c/root/P_15/A_15_0/hmmbuild.input.r_8omlod.fasta\n",
      "[14:49:49] jobs.py (line 131):     INFO: Finished hmmsearch Job with input: model:/tmp/sepp/output.8trlr05c/root/P_4/A_4_0/hmmbuild.model.j0_3eezt, fragments:/tmp/sepp/output.8trlr05c/fragment_chunks/fragment_chunk_2yn149_hc.fasta, elim:99999999, filter:False, output:/tmp/sepp/output.8trlr05c/root/P_4/A_4_0/FC_4_0_2/hmmsearch.results._a1y3_lj\n",
      "[14:49:49] jobs.py (line 131):     INFO: Finished hmmsearch Job with input: model:/tmp/sepp/output.8trlr05c/root/P_3/A_3_0/hmmbuild.model.x4ibcj5f, fragments:/tmp/sepp/output.8trlr05c/fragment_chunks/fragment_chunk_1umuf0pzg.fasta, elim:99999999, filter:False, output:/tmp/sepp/output.8trlr05c/root/P_3/A_3_0/FC_3_0_1/hmmsearch.results.kvk69y4j\n",
      "[14:49:50] jobs.py (line 131):     INFO: Finished hmmsearch Job with input: model:/tmp/sepp/output.8trlr05c/root/P_4/A_4_0/hmmbuild.model.j0_3eezt, fragments:/tmp/sepp/output.8trlr05c/fragment_chunks/fragment_chunk_1umuf0pzg.fasta, elim:99999999, filter:False, output:/tmp/sepp/output.8trlr05c/root/P_4/A_4_0/FC_4_0_1/hmmsearch.results.zwrwxgro\n",
      "[14:49:50] jobs.py (line 131):     INFO: Finished hmmsearch Job with input: model:/tmp/sepp/output.8trlr05c/root/P_4/A_4_0/hmmbuild.model.j0_3eezt, fragments:/tmp/sepp/output.8trlr05c/fragment_chunks/fragment_chunk_02h1ivzx6.fasta, elim:99999999, filter:False, output:/tmp/sepp/output.8trlr05c/root/P_4/A_4_0/FC_4_0_0/hmmsearch.results.ylehx2cz\n",
      "[14:49:51] jobs.py (line 131):     INFO: Finished hmmsearch Job with input: model:/tmp/sepp/output.8trlr05c/root/P_3/A_3_0/hmmbuild.model.x4ibcj5f, fragments:/tmp/sepp/output.8trlr05c/fragment_chunks/fragment_chunk_02h1ivzx6.fasta, elim:99999999, filter:False, output:/tmp/sepp/output.8trlr05c/root/P_3/A_3_0/FC_3_0_0/hmmsearch.results.673mr5f_\n",
      "[14:49:51] jobs.py (line 131):     INFO: Finished hmmsearch Job with input: model:/tmp/sepp/output.8trlr05c/root/P_3/A_3_0/hmmbuild.model.x4ibcj5f, fragments:/tmp/sepp/output.8trlr05c/fragment_chunks/fragment_chunk_2yn149_hc.fasta, elim:99999999, filter:False, output:/tmp/sepp/output.8trlr05c/root/P_3/A_3_0/FC_3_0_2/hmmsearch.results.jx353kly\n",
      "[14:49:53] jobs.py (line 131):     INFO: Finished hmmsearch Job with input: model:/tmp/sepp/output.8trlr05c/root/P_1/A_1_0/hmmbuild.model.63v4syin, fragments:/tmp/sepp/output.8trlr05c/fragment_chunks/fragment_chunk_02h1ivzx6.fasta, elim:99999999, filter:False, output:/tmp/sepp/output.8trlr05c/root/P_1/A_1_0/FC_1_0_0/hmmsearch.results.y4n4s0kw\n",
      "[14:49:53] jobs.py (line 131):     INFO: Finished hmmsearch Job with input: model:/tmp/sepp/output.8trlr05c/root/P_1/A_1_0/hmmbuild.model.63v4syin, fragments:/tmp/sepp/output.8trlr05c/fragment_chunks/fragment_chunk_1umuf0pzg.fasta, elim:99999999, filter:False, output:/tmp/sepp/output.8trlr05c/root/P_1/A_1_0/FC_1_0_1/hmmsearch.results.e8gmn_yu\n",
      "[14:49:54] jobs.py (line 131):     INFO: Finished hmmsearch Job with input: model:/tmp/sepp/output.8trlr05c/root/P_0/A_0_0/hmmbuild.model.eqi1266w, fragments:/tmp/sepp/output.8trlr05c/fragment_chunks/fragment_chunk_02h1ivzx6.fasta, elim:99999999, filter:False, output:/tmp/sepp/output.8trlr05c/root/P_0/A_0_0/FC_0_0_0/hmmsearch.results.o65yb5s8\n",
      "[14:49:54] jobs.py (line 131):     INFO: Finished hmmsearch Job with input: model:/tmp/sepp/output.8trlr05c/root/P_1/A_1_0/hmmbuild.model.63v4syin, fragments:/tmp/sepp/output.8trlr05c/fragment_chunks/fragment_chunk_2yn149_hc.fasta, elim:99999999, filter:False, output:/tmp/sepp/output.8trlr05c/root/P_1/A_1_0/FC_1_0_2/hmmsearch.results.u5kl3lm2\n",
      "[14:49:55] jobs.py (line 131):     INFO: Finished hmmsearch Job with input: model:/tmp/sepp/output.8trlr05c/root/P_0/A_0_0/hmmbuild.model.eqi1266w, fragments:/tmp/sepp/output.8trlr05c/fragment_chunks/fragment_chunk_1umuf0pzg.fasta, elim:99999999, filter:False, output:/tmp/sepp/output.8trlr05c/root/P_0/A_0_0/FC_0_0_1/hmmsearch.results.ggmfnu_n\n",
      "[14:49:55] jobs.py (line 131):     INFO: Finished hmmsearch Job with input: model:/tmp/sepp/output.8trlr05c/root/P_0/A_0_0/hmmbuild.model.eqi1266w, fragments:/tmp/sepp/output.8trlr05c/fragment_chunks/fragment_chunk_2yn149_hc.fasta, elim:99999999, filter:False, output:/tmp/sepp/output.8trlr05c/root/P_0/A_0_0/FC_0_0_2/hmmsearch.results.s0ifvjhg\n",
      "[14:49:57] jobs.py (line 131):     INFO: Finished hmmsearch Job with input: model:/tmp/sepp/output.8trlr05c/root/P_5/A_5_0/hmmbuild.model.szc2w_je, fragments:/tmp/sepp/output.8trlr05c/fragment_chunks/fragment_chunk_2yn149_hc.fasta, elim:99999999, filter:False, output:/tmp/sepp/output.8trlr05c/root/P_5/A_5_0/FC_5_0_2/hmmsearch.results.nh6mg0fx\n",
      "[14:49:57] jobs.py (line 131):     INFO: Finished hmmsearch Job with input: model:/tmp/sepp/output.8trlr05c/root/P_5/A_5_0/hmmbuild.model.szc2w_je, fragments:/tmp/sepp/output.8trlr05c/fragment_chunks/fragment_chunk_02h1ivzx6.fasta, elim:99999999, filter:False, output:/tmp/sepp/output.8trlr05c/root/P_5/A_5_0/FC_5_0_0/hmmsearch.results.8_zbdcg2\n",
      "[14:49:58] jobs.py (line 131):     INFO: Finished hmmsearch Job with input: model:/tmp/sepp/output.8trlr05c/root/P_5/A_5_0/hmmbuild.model.szc2w_je, fragments:/tmp/sepp/output.8trlr05c/fragment_chunks/fragment_chunk_1umuf0pzg.fasta, elim:99999999, filter:False, output:/tmp/sepp/output.8trlr05c/root/P_5/A_5_0/FC_5_0_1/hmmsearch.results.m3kij1zo\n",
      "[14:49:58] jobs.py (line 131):     INFO: Finished hmmsearch Job with input: model:/tmp/sepp/output.8trlr05c/root/P_2/A_2_0/hmmbuild.model.oqvb360m, fragments:/tmp/sepp/output.8trlr05c/fragment_chunks/fragment_chunk_02h1ivzx6.fasta, elim:99999999, filter:False, output:/tmp/sepp/output.8trlr05c/root/P_2/A_2_0/FC_2_0_0/hmmsearch.results.hksz5pcw\n",
      "[14:49:59] jobs.py (line 131):     INFO: Finished hmmsearch Job with input: model:/tmp/sepp/output.8trlr05c/root/P_2/A_2_0/hmmbuild.model.oqvb360m, fragments:/tmp/sepp/output.8trlr05c/fragment_chunks/fragment_chunk_1umuf0pzg.fasta, elim:99999999, filter:False, output:/tmp/sepp/output.8trlr05c/root/P_2/A_2_0/FC_2_0_1/hmmsearch.results.72k7ojv9\n",
      "[14:49:59] jobs.py (line 131):     INFO: Finished hmmsearch Job with input: model:/tmp/sepp/output.8trlr05c/root/P_2/A_2_0/hmmbuild.model.oqvb360m, fragments:/tmp/sepp/output.8trlr05c/fragment_chunks/fragment_chunk_2yn149_hc.fasta, elim:99999999, filter:False, output:/tmp/sepp/output.8trlr05c/root/P_2/A_2_0/FC_2_0_2/hmmsearch.results.8gmf9lds\n",
      "[14:50:02] jobs.py (line 131):     INFO: Finished hmmsearch Job with input: model:/tmp/sepp/output.8trlr05c/root/P_10/A_10_0/hmmbuild.model.tqdxs12o, fragments:/tmp/sepp/output.8trlr05c/fragment_chunks/fragment_chunk_02h1ivzx6.fasta, elim:99999999, filter:False, output:/tmp/sepp/output.8trlr05c/root/P_10/A_10_0/FC_10_0_0/hmmsearch.results.v560xfel\n",
      "[14:50:02] jobs.py (line 131):     INFO: Finished hmmsearch Job with input: model:/tmp/sepp/output.8trlr05c/root/P_6/A_6_0/hmmbuild.model.9cpplahr, fragments:/tmp/sepp/output.8trlr05c/fragment_chunks/fragment_chunk_02h1ivzx6.fasta, elim:99999999, filter:False, output:/tmp/sepp/output.8trlr05c/root/P_6/A_6_0/FC_6_0_0/hmmsearch.results.nwl2tdoe\n",
      "[14:50:02] jobs.py (line 131):     INFO: Finished hmmsearch Job with input: model:/tmp/sepp/output.8trlr05c/root/P_6/A_6_0/hmmbuild.model.9cpplahr, fragments:/tmp/sepp/output.8trlr05c/fragment_chunks/fragment_chunk_1umuf0pzg.fasta, elim:99999999, filter:False, output:/tmp/sepp/output.8trlr05c/root/P_6/A_6_0/FC_6_0_1/hmmsearch.results.fsy31cvn\n",
      "[14:50:02] jobs.py (line 131):     INFO: Finished hmmsearch Job with input: model:/tmp/sepp/output.8trlr05c/root/P_10/A_10_0/hmmbuild.model.tqdxs12o, fragments:/tmp/sepp/output.8trlr05c/fragment_chunks/fragment_chunk_2yn149_hc.fasta, elim:99999999, filter:False, output:/tmp/sepp/output.8trlr05c/root/P_10/A_10_0/FC_10_0_2/hmmsearch.results.3euuvygj\n",
      "[14:50:03] jobs.py (line 131):     INFO: Finished hmmsearch Job with input: model:/tmp/sepp/output.8trlr05c/root/P_6/A_6_0/hmmbuild.model.9cpplahr, fragments:/tmp/sepp/output.8trlr05c/fragment_chunks/fragment_chunk_2yn149_hc.fasta, elim:99999999, filter:False, output:/tmp/sepp/output.8trlr05c/root/P_6/A_6_0/FC_6_0_2/hmmsearch.results.gwb92612\n",
      "[14:50:03] jobs.py (line 131):     INFO: Finished hmmsearch Job with input: model:/tmp/sepp/output.8trlr05c/root/P_10/A_10_0/hmmbuild.model.tqdxs12o, fragments:/tmp/sepp/output.8trlr05c/fragment_chunks/fragment_chunk_1umuf0pzg.fasta, elim:99999999, filter:False, output:/tmp/sepp/output.8trlr05c/root/P_10/A_10_0/FC_10_0_1/hmmsearch.results.188pzdce\n",
      "[14:50:06] jobs.py (line 131):     INFO: Finished hmmsearch Job with input: model:/tmp/sepp/output.8trlr05c/root/P_8/A_8_0/hmmbuild.model.izisbj1u, fragments:/tmp/sepp/output.8trlr05c/fragment_chunks/fragment_chunk_02h1ivzx6.fasta, elim:99999999, filter:False, output:/tmp/sepp/output.8trlr05c/root/P_8/A_8_0/FC_8_0_0/hmmsearch.results.tb_iw2nu\n",
      "[14:50:06] jobs.py (line 131):     INFO: Finished hmmsearch Job with input: model:/tmp/sepp/output.8trlr05c/root/P_8/A_8_0/hmmbuild.model.izisbj1u, fragments:/tmp/sepp/output.8trlr05c/fragment_chunks/fragment_chunk_1umuf0pzg.fasta, elim:99999999, filter:False, output:/tmp/sepp/output.8trlr05c/root/P_8/A_8_0/FC_8_0_1/hmmsearch.results.i7kf09y5\n",
      "[14:50:07] jobs.py (line 131):     INFO: Finished hmmsearch Job with input: model:/tmp/sepp/output.8trlr05c/root/P_11/A_11_0/hmmbuild.model.aq5aoktn, fragments:/tmp/sepp/output.8trlr05c/fragment_chunks/fragment_chunk_2yn149_hc.fasta, elim:99999999, filter:False, output:/tmp/sepp/output.8trlr05c/root/P_11/A_11_0/FC_11_0_2/hmmsearch.results.r3co0qo6\n",
      "[14:50:07] jobs.py (line 131):     INFO: Finished hmmsearch Job with input: model:/tmp/sepp/output.8trlr05c/root/P_11/A_11_0/hmmbuild.model.aq5aoktn, fragments:/tmp/sepp/output.8trlr05c/fragment_chunks/fragment_chunk_02h1ivzx6.fasta, elim:99999999, filter:False, output:/tmp/sepp/output.8trlr05c/root/P_11/A_11_0/FC_11_0_0/hmmsearch.results.wdit2g5e\n",
      "[14:50:07] jobs.py (line 131):     INFO: Finished hmmsearch Job with input: model:/tmp/sepp/output.8trlr05c/root/P_11/A_11_0/hmmbuild.model.aq5aoktn, fragments:/tmp/sepp/output.8trlr05c/fragment_chunks/fragment_chunk_1umuf0pzg.fasta, elim:99999999, filter:False, output:/tmp/sepp/output.8trlr05c/root/P_11/A_11_0/FC_11_0_1/hmmsearch.results.sviqgife\n",
      "[14:50:08] jobs.py (line 131):     INFO: Finished hmmsearch Job with input: model:/tmp/sepp/output.8trlr05c/root/P_8/A_8_0/hmmbuild.model.izisbj1u, fragments:/tmp/sepp/output.8trlr05c/fragment_chunks/fragment_chunk_2yn149_hc.fasta, elim:99999999, filter:False, output:/tmp/sepp/output.8trlr05c/root/P_8/A_8_0/FC_8_0_2/hmmsearch.results.rl83tet4\n",
      "[14:50:09] jobs.py (line 131):     INFO: Finished hmmsearch Job with input: model:/tmp/sepp/output.8trlr05c/root/P_7/A_7_0/hmmbuild.model.kki7mvdt, fragments:/tmp/sepp/output.8trlr05c/fragment_chunks/fragment_chunk_02h1ivzx6.fasta, elim:99999999, filter:False, output:/tmp/sepp/output.8trlr05c/root/P_7/A_7_0/FC_7_0_0/hmmsearch.results.jugbjk_2\n",
      "[14:50:10] jobs.py (line 131):     INFO: Finished hmmsearch Job with input: model:/tmp/sepp/output.8trlr05c/root/P_7/A_7_0/hmmbuild.model.kki7mvdt, fragments:/tmp/sepp/output.8trlr05c/fragment_chunks/fragment_chunk_1umuf0pzg.fasta, elim:99999999, filter:False, output:/tmp/sepp/output.8trlr05c/root/P_7/A_7_0/FC_7_0_1/hmmsearch.results.kurgmj02\n",
      "[14:50:11] jobs.py (line 131):     INFO: Finished hmmsearch Job with input: model:/tmp/sepp/output.8trlr05c/root/P_9/A_9_0/hmmbuild.model.9wif9xej, fragments:/tmp/sepp/output.8trlr05c/fragment_chunks/fragment_chunk_02h1ivzx6.fasta, elim:99999999, filter:False, output:/tmp/sepp/output.8trlr05c/root/P_9/A_9_0/FC_9_0_0/hmmsearch.results.w9x3zque\n",
      "[14:50:11] jobs.py (line 131):     INFO: Finished hmmsearch Job with input: model:/tmp/sepp/output.8trlr05c/root/P_7/A_7_0/hmmbuild.model.kki7mvdt, fragments:/tmp/sepp/output.8trlr05c/fragment_chunks/fragment_chunk_2yn149_hc.fasta, elim:99999999, filter:False, output:/tmp/sepp/output.8trlr05c/root/P_7/A_7_0/FC_7_0_2/hmmsearch.results.x7w_t71v\n",
      "[14:50:11] jobs.py (line 131):     INFO: Finished hmmsearch Job with input: model:/tmp/sepp/output.8trlr05c/root/P_9/A_9_0/hmmbuild.model.9wif9xej, fragments:/tmp/sepp/output.8trlr05c/fragment_chunks/fragment_chunk_1umuf0pzg.fasta, elim:99999999, filter:False, output:/tmp/sepp/output.8trlr05c/root/P_9/A_9_0/FC_9_0_1/hmmsearch.results.p7pi81os\n",
      "[14:50:13] jobs.py (line 131):     INFO: Finished hmmsearch Job with input: model:/tmp/sepp/output.8trlr05c/root/P_9/A_9_0/hmmbuild.model.9wif9xej, fragments:/tmp/sepp/output.8trlr05c/fragment_chunks/fragment_chunk_2yn149_hc.fasta, elim:99999999, filter:False, output:/tmp/sepp/output.8trlr05c/root/P_9/A_9_0/FC_9_0_2/hmmsearch.results.rpf8jd77\n",
      "[14:50:13] jobs.py (line 131):     INFO: Finished hmmsearch Job with input: model:/tmp/sepp/output.8trlr05c/root/P_12/A_12_0/hmmbuild.model.ecx3j2tk, fragments:/tmp/sepp/output.8trlr05c/fragment_chunks/fragment_chunk_02h1ivzx6.fasta, elim:99999999, filter:False, output:/tmp/sepp/output.8trlr05c/root/P_12/A_12_0/FC_12_0_0/hmmsearch.results.y5k5xxn8\n",
      "[14:50:14] jobs.py (line 131):     INFO: Finished hmmsearch Job with input: model:/tmp/sepp/output.8trlr05c/root/P_12/A_12_0/hmmbuild.model.ecx3j2tk, fragments:/tmp/sepp/output.8trlr05c/fragment_chunks/fragment_chunk_1umuf0pzg.fasta, elim:99999999, filter:False, output:/tmp/sepp/output.8trlr05c/root/P_12/A_12_0/FC_12_0_1/hmmsearch.results.4aarf860\n",
      "[14:50:14] jobs.py (line 131):     INFO: Finished hmmsearch Job with input: model:/tmp/sepp/output.8trlr05c/root/P_12/A_12_0/hmmbuild.model.ecx3j2tk, fragments:/tmp/sepp/output.8trlr05c/fragment_chunks/fragment_chunk_2yn149_hc.fasta, elim:99999999, filter:False, output:/tmp/sepp/output.8trlr05c/root/P_12/A_12_0/FC_12_0_2/hmmsearch.results.jbbdrwo6\n",
      "[14:50:15] jobs.py (line 131):     INFO: Finished hmmsearch Job with input: model:/tmp/sepp/output.8trlr05c/root/P_13/A_13_0/hmmbuild.model.iqvg4soy, fragments:/tmp/sepp/output.8trlr05c/fragment_chunks/fragment_chunk_1umuf0pzg.fasta, elim:99999999, filter:False, output:/tmp/sepp/output.8trlr05c/root/P_13/A_13_0/FC_13_0_1/hmmsearch.results.tmy2xcdu\n",
      "[14:50:16] jobs.py (line 131):     INFO: Finished hmmsearch Job with input: model:/tmp/sepp/output.8trlr05c/root/P_13/A_13_0/hmmbuild.model.iqvg4soy, fragments:/tmp/sepp/output.8trlr05c/fragment_chunks/fragment_chunk_02h1ivzx6.fasta, elim:99999999, filter:False, output:/tmp/sepp/output.8trlr05c/root/P_13/A_13_0/FC_13_0_0/hmmsearch.results.3bhxf7oc\n",
      "[14:50:17] jobs.py (line 131):     INFO: Finished hmmsearch Job with input: model:/tmp/sepp/output.8trlr05c/root/P_13/A_13_0/hmmbuild.model.iqvg4soy, fragments:/tmp/sepp/output.8trlr05c/fragment_chunks/fragment_chunk_2yn149_hc.fasta, elim:99999999, filter:False, output:/tmp/sepp/output.8trlr05c/root/P_13/A_13_0/FC_13_0_2/hmmsearch.results.rsn5zaxk\n",
      "[14:50:17] jobs.py (line 131):     INFO: Finished hmmsearch Job with input: model:/tmp/sepp/output.8trlr05c/root/P_14/A_14_0/hmmbuild.model.ego7etmg, fragments:/tmp/sepp/output.8trlr05c/fragment_chunks/fragment_chunk_02h1ivzx6.fasta, elim:99999999, filter:False, output:/tmp/sepp/output.8trlr05c/root/P_14/A_14_0/FC_14_0_0/hmmsearch.results.tle4tvwb\n",
      "[14:50:18] jobs.py (line 131):     INFO: Finished hmmsearch Job with input: model:/tmp/sepp/output.8trlr05c/root/P_14/A_14_0/hmmbuild.model.ego7etmg, fragments:/tmp/sepp/output.8trlr05c/fragment_chunks/fragment_chunk_1umuf0pzg.fasta, elim:99999999, filter:False, output:/tmp/sepp/output.8trlr05c/root/P_14/A_14_0/FC_14_0_1/hmmsearch.results.gnwe0okj\n",
      "[14:50:19] jobs.py (line 131):     INFO: Finished hmmsearch Job with input: model:/tmp/sepp/output.8trlr05c/root/P_14/A_14_0/hmmbuild.model.ego7etmg, fragments:/tmp/sepp/output.8trlr05c/fragment_chunks/fragment_chunk_2yn149_hc.fasta, elim:99999999, filter:False, output:/tmp/sepp/output.8trlr05c/root/P_14/A_14_0/FC_14_0_2/hmmsearch.results.x0glqea5\n",
      "[14:50:19] jobs.py (line 131):     INFO: Finished hmmsearch Job with input: model:/tmp/sepp/output.8trlr05c/root/P_15/A_15_0/hmmbuild.model.gx_z2r4d, fragments:/tmp/sepp/output.8trlr05c/fragment_chunks/fragment_chunk_02h1ivzx6.fasta, elim:99999999, filter:False, output:/tmp/sepp/output.8trlr05c/root/P_15/A_15_0/FC_15_0_0/hmmsearch.results.rha8yh7h\n",
      "[14:50:20] jobs.py (line 131):     INFO: Finished hmmsearch Job with input: model:/tmp/sepp/output.8trlr05c/root/P_15/A_15_0/hmmbuild.model.gx_z2r4d, fragments:/tmp/sepp/output.8trlr05c/fragment_chunks/fragment_chunk_1umuf0pzg.fasta, elim:99999999, filter:False, output:/tmp/sepp/output.8trlr05c/root/P_15/A_15_0/FC_15_0_1/hmmsearch.results.vhn9b42z\n",
      "[14:50:20] jobs.py (line 131):     INFO: Finished hmmsearch Job with input: model:/tmp/sepp/output.8trlr05c/root/P_15/A_15_0/hmmbuild.model.gx_z2r4d, fragments:/tmp/sepp/output.8trlr05c/fragment_chunks/fragment_chunk_2yn149_hc.fasta, elim:99999999, filter:False, output:/tmp/sepp/output.8trlr05c/root/P_15/A_15_0/FC_15_0_2/hmmsearch.results.kvy2irk9\n",
      "[14:50:20] exhaustive.py (line 80):  WARNING: Fragments [] are not scored against any subset\n",
      "[14:50:20] exhaustive.py (line 151):     INFO: Merging sub-alignments for placement problem : P_0.\n",
      "[14:50:20] jobs.py (line 131):     INFO: Finished hmmalign Job with input: model:/tmp/sepp/output.8trlr05c/root/P_5/A_5_0/hmmbuild.model.szc2w_je, fragments:/tmp/sepp/output.8trlr05c/root/P_5/A_5_0/FC_5_0_0/hmmalign.frag.agsb2_yk.fasta, trim:False, base_alignment:/tmp/sepp/output.8trlr05c/root/P_5/A_5_0/hmmbuild.input.thvhvchu.fasta\n",
      "[14:50:20] jobs.py (line 131):     INFO: Finished hmmalign Job with input: model:/tmp/sepp/output.8trlr05c/root/P_5/A_5_0/hmmbuild.model.szc2w_je, fragments:/tmp/sepp/output.8trlr05c/root/P_5/A_5_0/FC_5_0_2/hmmalign.frag.0myf_ulp.fasta, trim:False, base_alignment:/tmp/sepp/output.8trlr05c/root/P_5/A_5_0/hmmbuild.input.thvhvchu.fasta\n",
      "[14:50:20] jobs.py (line 131):     INFO: Finished hmmalign Job with input: model:/tmp/sepp/output.8trlr05c/root/P_1/A_1_0/hmmbuild.model.63v4syin, fragments:/tmp/sepp/output.8trlr05c/root/P_1/A_1_0/FC_1_0_2/hmmalign.frag.ain62efd.fasta, trim:False, base_alignment:/tmp/sepp/output.8trlr05c/root/P_1/A_1_0/hmmbuild.input.oq_p5nfy.fasta\n",
      "[14:50:20] jobs.py (line 131):     INFO: Finished hmmalign Job with input: model:/tmp/sepp/output.8trlr05c/root/P_5/A_5_0/hmmbuild.model.szc2w_je, fragments:/tmp/sepp/output.8trlr05c/root/P_5/A_5_0/FC_5_0_1/hmmalign.frag.duar2ytq.fasta, trim:False, base_alignment:/tmp/sepp/output.8trlr05c/root/P_5/A_5_0/hmmbuild.input.thvhvchu.fasta\n",
      "[14:50:20] jobs.py (line 131):     INFO: Finished hmmalign Job with input: model:/tmp/sepp/output.8trlr05c/root/P_1/A_1_0/hmmbuild.model.63v4syin, fragments:/tmp/sepp/output.8trlr05c/root/P_1/A_1_0/FC_1_0_1/hmmalign.frag.x2dgbm5d.fasta, trim:False, base_alignment:/tmp/sepp/output.8trlr05c/root/P_1/A_1_0/hmmbuild.input.oq_p5nfy.fasta\n",
      "[14:50:20] jobs.py (line 131):     INFO: Finished hmmalign Job with input: model:/tmp/sepp/output.8trlr05c/root/P_1/A_1_0/hmmbuild.model.63v4syin, fragments:/tmp/sepp/output.8trlr05c/root/P_1/A_1_0/FC_1_0_0/hmmalign.frag.xndkcyc_.fasta, trim:False, base_alignment:/tmp/sepp/output.8trlr05c/root/P_1/A_1_0/hmmbuild.input.oq_p5nfy.fasta\n",
      "[14:50:20] exhaustive.py (line 151):     INFO: Merging sub-alignments for placement problem : P_2.\n",
      "[14:50:20] jobs.py (line 131):     INFO: Finished hmmalign Job with input: model:/tmp/sepp/output.8trlr05c/root/P_6/A_6_0/hmmbuild.model.9cpplahr, fragments:/tmp/sepp/output.8trlr05c/root/P_6/A_6_0/FC_6_0_0/hmmalign.frag.dcy7kjc0.fasta, trim:False, base_alignment:/tmp/sepp/output.8trlr05c/root/P_6/A_6_0/hmmbuild.input.m0s9olih.fasta\n",
      "[14:50:20] jobs.py (line 131):     INFO: Finished hmmalign Job with input: model:/tmp/sepp/output.8trlr05c/root/P_6/A_6_0/hmmbuild.model.9cpplahr, fragments:/tmp/sepp/output.8trlr05c/root/P_6/A_6_0/FC_6_0_1/hmmalign.frag.ux94w8qu.fasta, trim:False, base_alignment:/tmp/sepp/output.8trlr05c/root/P_6/A_6_0/hmmbuild.input.m0s9olih.fasta\n",
      "[14:50:20] jobs.py (line 131):     INFO: Finished hmmalign Job with input: model:/tmp/sepp/output.8trlr05c/root/P_6/A_6_0/hmmbuild.model.9cpplahr, fragments:/tmp/sepp/output.8trlr05c/root/P_6/A_6_0/FC_6_0_2/hmmalign.frag.rwt4am29.fasta, trim:False, base_alignment:/tmp/sepp/output.8trlr05c/root/P_6/A_6_0/hmmbuild.input.m0s9olih.fasta\n",
      "[14:50:20] jobs.py (line 131):     INFO: Finished hmmalign Job with input: model:/tmp/sepp/output.8trlr05c/root/P_7/A_7_0/hmmbuild.model.kki7mvdt, fragments:/tmp/sepp/output.8trlr05c/root/P_7/A_7_0/FC_7_0_0/hmmalign.frag.py7vr5bf.fasta, trim:False, base_alignment:/tmp/sepp/output.8trlr05c/root/P_7/A_7_0/hmmbuild.input.gvuyjr_b.fasta\n",
      "[14:50:20] jobs.py (line 131):     INFO: Finished hmmalign Job with input: model:/tmp/sepp/output.8trlr05c/root/P_7/A_7_0/hmmbuild.model.kki7mvdt, fragments:/tmp/sepp/output.8trlr05c/root/P_7/A_7_0/FC_7_0_2/hmmalign.frag.aa9z3ji_.fasta, trim:False, base_alignment:/tmp/sepp/output.8trlr05c/root/P_7/A_7_0/hmmbuild.input.gvuyjr_b.fasta\n",
      "[14:50:20] jobs.py (line 131):     INFO: Finished hmmalign Job with input: model:/tmp/sepp/output.8trlr05c/root/P_7/A_7_0/hmmbuild.model.kki7mvdt, fragments:/tmp/sepp/output.8trlr05c/root/P_7/A_7_0/FC_7_0_1/hmmalign.frag.qk9k95wp.fasta, trim:False, base_alignment:/tmp/sepp/output.8trlr05c/root/P_7/A_7_0/hmmbuild.input.gvuyjr_b.fasta\n",
      "[14:50:20] exhaustive.py (line 151):     INFO: Merging sub-alignments for placement problem : P_3.\n",
      "[14:50:21] jobs.py (line 131):     INFO: Finished hmmalign Job with input: model:/tmp/sepp/output.8trlr05c/root/P_8/A_8_0/hmmbuild.model.izisbj1u, fragments:/tmp/sepp/output.8trlr05c/root/P_8/A_8_0/FC_8_0_0/hmmalign.frag.yk7y36a7.fasta, trim:False, base_alignment:/tmp/sepp/output.8trlr05c/root/P_8/A_8_0/hmmbuild.input.4h2d842s.fasta\n",
      "[14:50:21] jobs.py (line 131):     INFO: Finished hmmalign Job with input: model:/tmp/sepp/output.8trlr05c/root/P_8/A_8_0/hmmbuild.model.izisbj1u, fragments:/tmp/sepp/output.8trlr05c/root/P_8/A_8_0/FC_8_0_1/hmmalign.frag.ywk618yf.fasta, trim:False, base_alignment:/tmp/sepp/output.8trlr05c/root/P_8/A_8_0/hmmbuild.input.4h2d842s.fasta\n",
      "[14:50:21] jobs.py (line 131):     INFO: Finished hmmalign Job with input: model:/tmp/sepp/output.8trlr05c/root/P_8/A_8_0/hmmbuild.model.izisbj1u, fragments:/tmp/sepp/output.8trlr05c/root/P_8/A_8_0/FC_8_0_2/hmmalign.frag.q8c38w0f.fasta, trim:False, base_alignment:/tmp/sepp/output.8trlr05c/root/P_8/A_8_0/hmmbuild.input.4h2d842s.fasta\n",
      "[14:50:21] exhaustive.py (line 151):     INFO: Merging sub-alignments for placement problem : P_4.\n",
      "[14:50:21] exhaustive.py (line 151):     INFO: Merging sub-alignments for placement problem : P_5.\n",
      "[14:50:21] alignment.py (line 556):     INFO: Merging extension sto file (/tmp/sepp/output.8trlr05c/root/P_5/A_5_0/FC_5_0_0/hmmalign.results.801bje6c) into base alignment (/tmp/sepp/output.8trlr05c/root/P_5/A_5_0/hmmbuild.input.thvhvchu.fasta).\n",
      "[14:50:21] alignment.py (line 556):     INFO: Merging extension sto file (/tmp/sepp/output.8trlr05c/root/P_5/A_5_0/FC_5_0_1/hmmalign.results.bztb74dg) into base alignment (/tmp/sepp/output.8trlr05c/root/P_5/A_5_0/hmmbuild.input.thvhvchu.fasta).\n",
      "[14:50:21] alignment.py (line 556):     INFO: Merging extension sto file (/tmp/sepp/output.8trlr05c/root/P_5/A_5_0/FC_5_0_2/hmmalign.results.3edg9qzh) into base alignment (/tmp/sepp/output.8trlr05c/root/P_5/A_5_0/hmmbuild.input.thvhvchu.fasta).\n",
      "[14:50:21] exhaustive.py (line 151):     INFO: Merging sub-alignments for placement problem : P_1.\n",
      "[14:50:21] alignment.py (line 556):     INFO: Merging extension sto file (/tmp/sepp/output.8trlr05c/root/P_1/A_1_0/FC_1_0_0/hmmalign.results.zbjdmcrb) into base alignment (/tmp/sepp/output.8trlr05c/root/P_1/A_1_0/hmmbuild.input.oq_p5nfy.fasta).\n",
      "[14:50:21] alignment.py (line 556):     INFO: Merging extension sto file (/tmp/sepp/output.8trlr05c/root/P_1/A_1_0/FC_1_0_1/hmmalign.results.2_yhz418) into base alignment (/tmp/sepp/output.8trlr05c/root/P_1/A_1_0/hmmbuild.input.oq_p5nfy.fasta).\n",
      "[14:50:21] alignment.py (line 556):     INFO: Merging extension sto file (/tmp/sepp/output.8trlr05c/root/P_1/A_1_0/FC_1_0_2/hmmalign.results.3zkiqry9) into base alignment (/tmp/sepp/output.8trlr05c/root/P_1/A_1_0/hmmbuild.input.oq_p5nfy.fasta).\n",
      "[14:50:21] jobs.py (line 131):     INFO: Finished hmmalign Job with input: model:/tmp/sepp/output.8trlr05c/root/P_9/A_9_0/hmmbuild.model.9wif9xej, fragments:/tmp/sepp/output.8trlr05c/root/P_9/A_9_0/FC_9_0_2/hmmalign.frag.t2tgu1vz.fasta, trim:False, base_alignment:/tmp/sepp/output.8trlr05c/root/P_9/A_9_0/hmmbuild.input.zvd_3ahx.fasta\n",
      "[14:50:21] jobs.py (line 131):     INFO: Finished hmmalign Job with input: model:/tmp/sepp/output.8trlr05c/root/P_9/A_9_0/hmmbuild.model.9wif9xej, fragments:/tmp/sepp/output.8trlr05c/root/P_9/A_9_0/FC_9_0_1/hmmalign.frag.thzzy0s1.fasta, trim:False, base_alignment:/tmp/sepp/output.8trlr05c/root/P_9/A_9_0/hmmbuild.input.zvd_3ahx.fasta\n",
      "[14:50:21] exhaustive.py (line 151):     INFO: Merging sub-alignments for placement problem : P_6.\n",
      "[14:50:21] jobs.py (line 131):     INFO: Finished hmmalign Job with input: model:/tmp/sepp/output.8trlr05c/root/P_9/A_9_0/hmmbuild.model.9wif9xej, fragments:/tmp/sepp/output.8trlr05c/root/P_9/A_9_0/FC_9_0_0/hmmalign.frag.ciurh7rd.fasta, trim:False, base_alignment:/tmp/sepp/output.8trlr05c/root/P_9/A_9_0/hmmbuild.input.zvd_3ahx.fasta\n",
      "[14:50:21] alignment.py (line 556):     INFO: Merging extension sto file (/tmp/sepp/output.8trlr05c/root/P_6/A_6_0/FC_6_0_0/hmmalign.results.n0mrec8b) into base alignment (/tmp/sepp/output.8trlr05c/root/P_6/A_6_0/hmmbuild.input.m0s9olih.fasta).\n",
      "[14:50:21] alignment.py (line 556):     INFO: Merging extension sto file (/tmp/sepp/output.8trlr05c/root/P_6/A_6_0/FC_6_0_1/hmmalign.results.skbfkgi_) into base alignment (/tmp/sepp/output.8trlr05c/root/P_6/A_6_0/hmmbuild.input.m0s9olih.fasta).\n",
      "[14:50:21] alignment.py (line 556):     INFO: Merging extension sto file (/tmp/sepp/output.8trlr05c/root/P_6/A_6_0/FC_6_0_2/hmmalign.results.4izhyydf) into base alignment (/tmp/sepp/output.8trlr05c/root/P_6/A_6_0/hmmbuild.input.m0s9olih.fasta).\n",
      "[14:50:21] exhaustive.py (line 151):     INFO: Merging sub-alignments for placement problem : P_7.\n",
      "[14:50:21] alignment.py (line 556):     INFO: Merging extension sto file (/tmp/sepp/output.8trlr05c/root/P_7/A_7_0/FC_7_0_0/hmmalign.results.ojt9f8l4) into base alignment (/tmp/sepp/output.8trlr05c/root/P_7/A_7_0/hmmbuild.input.gvuyjr_b.fasta).\n",
      "[14:50:21] alignment.py (line 556):     INFO: Merging extension sto file (/tmp/sepp/output.8trlr05c/root/P_7/A_7_0/FC_7_0_1/hmmalign.results.251esgzp) into base alignment (/tmp/sepp/output.8trlr05c/root/P_7/A_7_0/hmmbuild.input.gvuyjr_b.fasta).\n",
      "[14:50:21] alignment.py (line 556):     INFO: Merging extension sto file (/tmp/sepp/output.8trlr05c/root/P_7/A_7_0/FC_7_0_2/hmmalign.results.ycs0vtrl) into base alignment (/tmp/sepp/output.8trlr05c/root/P_7/A_7_0/hmmbuild.input.gvuyjr_b.fasta).\n",
      "[14:50:21] exhaustive.py (line 151):     INFO: Merging sub-alignments for placement problem : P_10.\n",
      "[14:50:21] exhaustive.py (line 151):     INFO: Merging sub-alignments for placement problem : P_8.\n",
      "[14:50:21] alignment.py (line 556):     INFO: Merging extension sto file (/tmp/sepp/output.8trlr05c/root/P_8/A_8_0/FC_8_0_0/hmmalign.results.b9d9q7k6) into base alignment (/tmp/sepp/output.8trlr05c/root/P_8/A_8_0/hmmbuild.input.4h2d842s.fasta).\n",
      "[14:50:21] alignment.py (line 556):     INFO: Merging extension sto file (/tmp/sepp/output.8trlr05c/root/P_8/A_8_0/FC_8_0_1/hmmalign.results.xb3tyxzc) into base alignment (/tmp/sepp/output.8trlr05c/root/P_8/A_8_0/hmmbuild.input.4h2d842s.fasta).\n",
      "[14:50:22] alignment.py (line 556):     INFO: Merging extension sto file (/tmp/sepp/output.8trlr05c/root/P_8/A_8_0/FC_8_0_2/hmmalign.results.oj3_5tqo) into base alignment (/tmp/sepp/output.8trlr05c/root/P_8/A_8_0/hmmbuild.input.4h2d842s.fasta).\n",
      "[14:50:22] exhaustive.py (line 151):     INFO: Merging sub-alignments for placement problem : P_9.\n",
      "[14:50:22] alignment.py (line 556):     INFO: Merging extension sto file (/tmp/sepp/output.8trlr05c/root/P_9/A_9_0/FC_9_0_0/hmmalign.results.qqjlaeui) into base alignment (/tmp/sepp/output.8trlr05c/root/P_9/A_9_0/hmmbuild.input.zvd_3ahx.fasta).\n",
      "[14:50:22] alignment.py (line 556):     INFO: Merging extension sto file (/tmp/sepp/output.8trlr05c/root/P_9/A_9_0/FC_9_0_1/hmmalign.results.gcdebffc) into base alignment (/tmp/sepp/output.8trlr05c/root/P_9/A_9_0/hmmbuild.input.zvd_3ahx.fasta).\n",
      "[14:50:22] alignment.py (line 556):     INFO: Merging extension sto file (/tmp/sepp/output.8trlr05c/root/P_9/A_9_0/FC_9_0_2/hmmalign.results.oe315lsr) into base alignment (/tmp/sepp/output.8trlr05c/root/P_9/A_9_0/hmmbuild.input.zvd_3ahx.fasta).\n",
      "[14:50:22] jobs.py (line 131):     INFO: Finished hmmalign Job with input: model:/tmp/sepp/output.8trlr05c/root/P_12/A_12_0/hmmbuild.model.ecx3j2tk, fragments:/tmp/sepp/output.8trlr05c/root/P_12/A_12_0/FC_12_0_0/hmmalign.frag.jfab3j8k.fasta, trim:False, base_alignment:/tmp/sepp/output.8trlr05c/root/P_12/A_12_0/hmmbuild.input.vjstt8m7.fasta\n",
      "[14:50:22] jobs.py (line 131):     INFO: Finished hmmalign Job with input: model:/tmp/sepp/output.8trlr05c/root/P_12/A_12_0/hmmbuild.model.ecx3j2tk, fragments:/tmp/sepp/output.8trlr05c/root/P_12/A_12_0/FC_12_0_1/hmmalign.frag.siclya97.fasta, trim:False, base_alignment:/tmp/sepp/output.8trlr05c/root/P_12/A_12_0/hmmbuild.input.vjstt8m7.fasta\n",
      "[14:50:22] jobs.py (line 131):     INFO: Finished hmmalign Job with input: model:/tmp/sepp/output.8trlr05c/root/P_12/A_12_0/hmmbuild.model.ecx3j2tk, fragments:/tmp/sepp/output.8trlr05c/root/P_12/A_12_0/FC_12_0_2/hmmalign.frag.d47i4naq.fasta, trim:False, base_alignment:/tmp/sepp/output.8trlr05c/root/P_12/A_12_0/hmmbuild.input.vjstt8m7.fasta\n",
      "[14:50:22] exhaustive.py (line 151):     INFO: Merging sub-alignments for placement problem : P_12.\n",
      "[14:50:22] alignment.py (line 556):     INFO: Merging extension sto file (/tmp/sepp/output.8trlr05c/root/P_12/A_12_0/FC_12_0_0/hmmalign.results.s_0y7s3d) into base alignment (/tmp/sepp/output.8trlr05c/root/P_12/A_12_0/hmmbuild.input.vjstt8m7.fasta).\n",
      "[14:50:22] jobs.py (line 131):     INFO: Finished hmmalign Job with input: model:/tmp/sepp/output.8trlr05c/root/P_13/A_13_0/hmmbuild.model.iqvg4soy, fragments:/tmp/sepp/output.8trlr05c/root/P_13/A_13_0/FC_13_0_0/hmmalign.frag.ihnhgfsb.fasta, trim:False, base_alignment:/tmp/sepp/output.8trlr05c/root/P_13/A_13_0/hmmbuild.input.9nuc6zcr.fasta\n",
      "[14:50:22] alignment.py (line 556):     INFO: Merging extension sto file (/tmp/sepp/output.8trlr05c/root/P_12/A_12_0/FC_12_0_1/hmmalign.results.9cg3aezq) into base alignment (/tmp/sepp/output.8trlr05c/root/P_12/A_12_0/hmmbuild.input.vjstt8m7.fasta).\n",
      "[14:50:22] jobs.py (line 131):     INFO: Finished hmmalign Job with input: model:/tmp/sepp/output.8trlr05c/root/P_13/A_13_0/hmmbuild.model.iqvg4soy, fragments:/tmp/sepp/output.8trlr05c/root/P_13/A_13_0/FC_13_0_1/hmmalign.frag.i9ioqt4m.fasta, trim:False, base_alignment:/tmp/sepp/output.8trlr05c/root/P_13/A_13_0/hmmbuild.input.9nuc6zcr.fasta\n",
      "[14:50:22] alignment.py (line 556):     INFO: Merging extension sto file (/tmp/sepp/output.8trlr05c/root/P_12/A_12_0/FC_12_0_2/hmmalign.results.0fxpag6f) into base alignment (/tmp/sepp/output.8trlr05c/root/P_12/A_12_0/hmmbuild.input.vjstt8m7.fasta).\n",
      "[14:50:22] jobs.py (line 131):     INFO: Finished hmmalign Job with input: model:/tmp/sepp/output.8trlr05c/root/P_13/A_13_0/hmmbuild.model.iqvg4soy, fragments:/tmp/sepp/output.8trlr05c/root/P_13/A_13_0/FC_13_0_2/hmmalign.frag.ipot5b7x.fasta, trim:False, base_alignment:/tmp/sepp/output.8trlr05c/root/P_13/A_13_0/hmmbuild.input.9nuc6zcr.fasta\n",
      "[14:50:22] jobs.py (line 131):     INFO: Finished hmmalign Job with input: model:/tmp/sepp/output.8trlr05c/root/P_14/A_14_0/hmmbuild.model.ego7etmg, fragments:/tmp/sepp/output.8trlr05c/root/P_14/A_14_0/FC_14_0_0/hmmalign.frag.ib6un9s4.fasta, trim:False, base_alignment:/tmp/sepp/output.8trlr05c/root/P_14/A_14_0/hmmbuild.input.2dw457at.fasta\n",
      "[14:50:22] jobs.py (line 131):     INFO: Finished hmmalign Job with input: model:/tmp/sepp/output.8trlr05c/root/P_14/A_14_0/hmmbuild.model.ego7etmg, fragments:/tmp/sepp/output.8trlr05c/root/P_14/A_14_0/FC_14_0_1/hmmalign.frag.uob1l0m1.fasta, trim:False, base_alignment:/tmp/sepp/output.8trlr05c/root/P_14/A_14_0/hmmbuild.input.2dw457at.fasta\n",
      "[14:50:22] exhaustive.py (line 151):     INFO: Merging sub-alignments for placement problem : P_13.\n",
      "[14:50:22] jobs.py (line 131):     INFO: Finished hmmalign Job with input: model:/tmp/sepp/output.8trlr05c/root/P_14/A_14_0/hmmbuild.model.ego7etmg, fragments:/tmp/sepp/output.8trlr05c/root/P_14/A_14_0/FC_14_0_2/hmmalign.frag.4jckgpup.fasta, trim:False, base_alignment:/tmp/sepp/output.8trlr05c/root/P_14/A_14_0/hmmbuild.input.2dw457at.fasta\n",
      "[14:50:22] alignment.py (line 556):     INFO: Merging extension sto file (/tmp/sepp/output.8trlr05c/root/P_13/A_13_0/FC_13_0_0/hmmalign.results.ns4b5232) into base alignment (/tmp/sepp/output.8trlr05c/root/P_13/A_13_0/hmmbuild.input.9nuc6zcr.fasta).\n",
      "[14:50:23] alignment.py (line 556):     INFO: Merging extension sto file (/tmp/sepp/output.8trlr05c/root/P_13/A_13_0/FC_13_0_1/hmmalign.results.nk41crcn) into base alignment (/tmp/sepp/output.8trlr05c/root/P_13/A_13_0/hmmbuild.input.9nuc6zcr.fasta).\n",
      "[14:50:23] alignment.py (line 556):     INFO: Merging extension sto file (/tmp/sepp/output.8trlr05c/root/P_13/A_13_0/FC_13_0_2/hmmalign.results.886at9ur) into base alignment (/tmp/sepp/output.8trlr05c/root/P_13/A_13_0/hmmbuild.input.9nuc6zcr.fasta).\n",
      "[14:50:23] exhaustive.py (line 151):     INFO: Merging sub-alignments for placement problem : P_15.\n",
      "[14:50:23] exhaustive.py (line 151):     INFO: Merging sub-alignments for placement problem : P_14.\n",
      "[14:50:23] alignment.py (line 556):     INFO: Merging extension sto file (/tmp/sepp/output.8trlr05c/root/P_14/A_14_0/FC_14_0_0/hmmalign.results.tx_evq4g) into base alignment (/tmp/sepp/output.8trlr05c/root/P_14/A_14_0/hmmbuild.input.2dw457at.fasta).\n",
      "[14:50:23] alignment.py (line 556):     INFO: Merging extension sto file (/tmp/sepp/output.8trlr05c/root/P_14/A_14_0/FC_14_0_1/hmmalign.results.nrwcn1cg) into base alignment (/tmp/sepp/output.8trlr05c/root/P_14/A_14_0/hmmbuild.input.2dw457at.fasta).\n",
      "[14:50:23] alignment.py (line 556):     INFO: Merging extension sto file (/tmp/sepp/output.8trlr05c/root/P_14/A_14_0/FC_14_0_2/hmmalign.results.l9ytt2qp) into base alignment (/tmp/sepp/output.8trlr05c/root/P_14/A_14_0/hmmbuild.input.2dw457at.fasta).\n",
      "[14:50:26] jobs.py (line 131):     INFO: Finished pplacer Job with input: backbone_alignment_file:/tmp/sepp/output.8trlr05c/root/P_5/pplacer.backbone.i1z4ex_p.fasta, tree_file:/tmp/sepp/output.8trlr05c/root/P_5/pplacer.tree.0wdsolbk.tre, info_file:/home/lauro/anaconda3/envs/qiime2-2021.11/lib/python3.8/site-packages/picrust2/default_files/prokaryotic/pro_ref/pro_ref.raxml_info, extended alignment:/tmp/sepp/output.8trlr05c/root/P_5/pplacer.extended.0.tfg5c1ug.fasta, output:/tmp/sepp/output.8trlr05c/root/P_5/pplacer.extended.0.tfg5c1ug.jplace\n",
      "[14:50:28] jobs.py (line 131):     INFO: Finished hmmalign Job with input: model:/tmp/sepp/output.8trlr05c/root/P_11/A_11_0/hmmbuild.model.aq5aoktn, fragments:/tmp/sepp/output.8trlr05c/root/P_11/A_11_0/FC_11_0_0/hmmalign.frag.5ley7ccd.fasta, trim:False, base_alignment:/tmp/sepp/output.8trlr05c/root/P_11/A_11_0/hmmbuild.input.9e6zvxdn.fasta\n",
      "[14:50:28] jobs.py (line 131):     INFO: Finished pplacer Job with input: backbone_alignment_file:/tmp/sepp/output.8trlr05c/root/P_5/pplacer.backbone.n7df37vi.fasta, tree_file:/tmp/sepp/output.8trlr05c/root/P_5/pplacer.tree.gopwf0be.tre, info_file:/home/lauro/anaconda3/envs/qiime2-2021.11/lib/python3.8/site-packages/picrust2/default_files/prokaryotic/pro_ref/pro_ref.raxml_info, extended alignment:/tmp/sepp/output.8trlr05c/root/P_5/pplacer.extended.1.n4_mviea.fasta, output:/tmp/sepp/output.8trlr05c/root/P_5/pplacer.extended.1.n4_mviea.jplace\n",
      "[14:50:28] jobs.py (line 131):     INFO: Finished pplacer Job with input: backbone_alignment_file:/tmp/sepp/output.8trlr05c/root/P_5/pplacer.backbone.aa6s423i.fasta, tree_file:/tmp/sepp/output.8trlr05c/root/P_5/pplacer.tree.rt99r1ol.tre, info_file:/home/lauro/anaconda3/envs/qiime2-2021.11/lib/python3.8/site-packages/picrust2/default_files/prokaryotic/pro_ref/pro_ref.raxml_info, extended alignment:/tmp/sepp/output.8trlr05c/root/P_5/pplacer.extended.2.ygoe98qi.fasta, output:/tmp/sepp/output.8trlr05c/root/P_5/pplacer.extended.2.ygoe98qi.jplace\n",
      "[14:50:28] jobs.py (line 131):     INFO: Finished hmmalign Job with input: model:/tmp/sepp/output.8trlr05c/root/P_11/A_11_0/hmmbuild.model.aq5aoktn, fragments:/tmp/sepp/output.8trlr05c/root/P_11/A_11_0/FC_11_0_2/hmmalign.frag.2du2mi2f.fasta, trim:False, base_alignment:/tmp/sepp/output.8trlr05c/root/P_11/A_11_0/hmmbuild.input.9e6zvxdn.fasta\n",
      "[14:50:29] jobs.py (line 131):     INFO: Finished hmmalign Job with input: model:/tmp/sepp/output.8trlr05c/root/P_11/A_11_0/hmmbuild.model.aq5aoktn, fragments:/tmp/sepp/output.8trlr05c/root/P_11/A_11_0/FC_11_0_1/hmmalign.frag.od38j4z6.fasta, trim:False, base_alignment:/tmp/sepp/output.8trlr05c/root/P_11/A_11_0/hmmbuild.input.9e6zvxdn.fasta\n",
      "[14:50:29] exhaustive.py (line 151):     INFO: Merging sub-alignments for placement problem : P_11.\n",
      "[14:50:29] alignment.py (line 556):     INFO: Merging extension sto file (/tmp/sepp/output.8trlr05c/root/P_11/A_11_0/FC_11_0_0/hmmalign.results.nfrxplpy) into base alignment (/tmp/sepp/output.8trlr05c/root/P_11/A_11_0/hmmbuild.input.9e6zvxdn.fasta).\n",
      "[14:50:29] alignment.py (line 556):     INFO: Merging extension sto file (/tmp/sepp/output.8trlr05c/root/P_11/A_11_0/FC_11_0_1/hmmalign.results.mpq5g46e) into base alignment (/tmp/sepp/output.8trlr05c/root/P_11/A_11_0/hmmbuild.input.9e6zvxdn.fasta).\n",
      "[14:50:29] alignment.py (line 556):     INFO: Merging extension sto file (/tmp/sepp/output.8trlr05c/root/P_11/A_11_0/FC_11_0_2/hmmalign.results.7n1kzfs_) into base alignment (/tmp/sepp/output.8trlr05c/root/P_11/A_11_0/hmmbuild.input.9e6zvxdn.fasta).\n",
      "[14:50:29] jobs.py (line 131):     INFO: Finished pplacer Job with input: backbone_alignment_file:/tmp/sepp/output.8trlr05c/root/P_1/pplacer.backbone.bx5pczuf.fasta, tree_file:/tmp/sepp/output.8trlr05c/root/P_1/pplacer.tree.2sbn0har.tre, info_file:/home/lauro/anaconda3/envs/qiime2-2021.11/lib/python3.8/site-packages/picrust2/default_files/prokaryotic/pro_ref/pro_ref.raxml_info, extended alignment:/tmp/sepp/output.8trlr05c/root/P_1/pplacer.extended.0.zj9lz2v1.fasta, output:/tmp/sepp/output.8trlr05c/root/P_1/pplacer.extended.0.zj9lz2v1.jplace\n",
      "[14:50:31] jobs.py (line 131):     INFO: Finished pplacer Job with input: backbone_alignment_file:/tmp/sepp/output.8trlr05c/root/P_1/pplacer.backbone.kf1acoaa.fasta, tree_file:/tmp/sepp/output.8trlr05c/root/P_1/pplacer.tree.mi0fcxrf.tre, info_file:/home/lauro/anaconda3/envs/qiime2-2021.11/lib/python3.8/site-packages/picrust2/default_files/prokaryotic/pro_ref/pro_ref.raxml_info, extended alignment:/tmp/sepp/output.8trlr05c/root/P_1/pplacer.extended.1.5jsetof3.fasta, output:/tmp/sepp/output.8trlr05c/root/P_1/pplacer.extended.1.5jsetof3.jplace\n",
      "[14:50:33] jobs.py (line 131):     INFO: Finished pplacer Job with input: backbone_alignment_file:/tmp/sepp/output.8trlr05c/root/P_7/pplacer.backbone.cvxe29qf.fasta, tree_file:/tmp/sepp/output.8trlr05c/root/P_7/pplacer.tree.al6zfd4r.tre, info_file:/home/lauro/anaconda3/envs/qiime2-2021.11/lib/python3.8/site-packages/picrust2/default_files/prokaryotic/pro_ref/pro_ref.raxml_info, extended alignment:/tmp/sepp/output.8trlr05c/root/P_7/pplacer.extended.0.qf_efbuz.fasta, output:/tmp/sepp/output.8trlr05c/root/P_7/pplacer.extended.0.qf_efbuz.jplace\n",
      "[14:50:34] jobs.py (line 131):     INFO: Finished pplacer Job with input: backbone_alignment_file:/tmp/sepp/output.8trlr05c/root/P_1/pplacer.backbone.4_y9zq6p.fasta, tree_file:/tmp/sepp/output.8trlr05c/root/P_1/pplacer.tree.btcc9dtz.tre, info_file:/home/lauro/anaconda3/envs/qiime2-2021.11/lib/python3.8/site-packages/picrust2/default_files/prokaryotic/pro_ref/pro_ref.raxml_info, extended alignment:/tmp/sepp/output.8trlr05c/root/P_1/pplacer.extended.2.sqgi7l0v.fasta, output:/tmp/sepp/output.8trlr05c/root/P_1/pplacer.extended.2.sqgi7l0v.jplace\n",
      "[14:50:36] jobs.py (line 131):     INFO: Finished pplacer Job with input: backbone_alignment_file:/tmp/sepp/output.8trlr05c/root/P_7/pplacer.backbone.lhgqq2u8.fasta, tree_file:/tmp/sepp/output.8trlr05c/root/P_7/pplacer.tree.kojv63kv.tre, info_file:/home/lauro/anaconda3/envs/qiime2-2021.11/lib/python3.8/site-packages/picrust2/default_files/prokaryotic/pro_ref/pro_ref.raxml_info, extended alignment:/tmp/sepp/output.8trlr05c/root/P_7/pplacer.extended.1.imjjjpcz.fasta, output:/tmp/sepp/output.8trlr05c/root/P_7/pplacer.extended.1.imjjjpcz.jplace\n",
      "[14:50:36] jobs.py (line 131):     INFO: Finished pplacer Job with input: backbone_alignment_file:/tmp/sepp/output.8trlr05c/root/P_6/pplacer.backbone.uiu9mco4.fasta, tree_file:/tmp/sepp/output.8trlr05c/root/P_6/pplacer.tree.3yi1fihj.tre, info_file:/home/lauro/anaconda3/envs/qiime2-2021.11/lib/python3.8/site-packages/picrust2/default_files/prokaryotic/pro_ref/pro_ref.raxml_info, extended alignment:/tmp/sepp/output.8trlr05c/root/P_6/pplacer.extended.2.6zhscs82.fasta, output:/tmp/sepp/output.8trlr05c/root/P_6/pplacer.extended.2.6zhscs82.jplace\n",
      "[14:50:37] jobs.py (line 131):     INFO: Finished pplacer Job with input: backbone_alignment_file:/tmp/sepp/output.8trlr05c/root/P_7/pplacer.backbone.b12mqafl.fasta, tree_file:/tmp/sepp/output.8trlr05c/root/P_7/pplacer.tree.q6kki9jm.tre, info_file:/home/lauro/anaconda3/envs/qiime2-2021.11/lib/python3.8/site-packages/picrust2/default_files/prokaryotic/pro_ref/pro_ref.raxml_info, extended alignment:/tmp/sepp/output.8trlr05c/root/P_7/pplacer.extended.2.6h2hs4yk.fasta, output:/tmp/sepp/output.8trlr05c/root/P_7/pplacer.extended.2.6h2hs4yk.jplace\n",
      "[14:50:38] jobs.py (line 131):     INFO: Finished pplacer Job with input: backbone_alignment_file:/tmp/sepp/output.8trlr05c/root/P_8/pplacer.backbone.x926x5k7.fasta, tree_file:/tmp/sepp/output.8trlr05c/root/P_8/pplacer.tree.woyf73xc.tre, info_file:/home/lauro/anaconda3/envs/qiime2-2021.11/lib/python3.8/site-packages/picrust2/default_files/prokaryotic/pro_ref/pro_ref.raxml_info, extended alignment:/tmp/sepp/output.8trlr05c/root/P_8/pplacer.extended.0.0lwozr38.fasta, output:/tmp/sepp/output.8trlr05c/root/P_8/pplacer.extended.0.0lwozr38.jplace\n",
      "[14:50:39] jobs.py (line 131):     INFO: Finished pplacer Job with input: backbone_alignment_file:/tmp/sepp/output.8trlr05c/root/P_6/pplacer.backbone.81q2hef0.fasta, tree_file:/tmp/sepp/output.8trlr05c/root/P_6/pplacer.tree.cdxzscjv.tre, info_file:/home/lauro/anaconda3/envs/qiime2-2021.11/lib/python3.8/site-packages/picrust2/default_files/prokaryotic/pro_ref/pro_ref.raxml_info, extended alignment:/tmp/sepp/output.8trlr05c/root/P_6/pplacer.extended.1.4qti2lui.fasta, output:/tmp/sepp/output.8trlr05c/root/P_6/pplacer.extended.1.4qti2lui.jplace\n",
      "[14:50:40] jobs.py (line 131):     INFO: Finished pplacer Job with input: backbone_alignment_file:/tmp/sepp/output.8trlr05c/root/P_8/pplacer.backbone.8mhliawd.fasta, tree_file:/tmp/sepp/output.8trlr05c/root/P_8/pplacer.tree.l9qxv12w.tre, info_file:/home/lauro/anaconda3/envs/qiime2-2021.11/lib/python3.8/site-packages/picrust2/default_files/prokaryotic/pro_ref/pro_ref.raxml_info, extended alignment:/tmp/sepp/output.8trlr05c/root/P_8/pplacer.extended.1.igy7wo7e.fasta, output:/tmp/sepp/output.8trlr05c/root/P_8/pplacer.extended.1.igy7wo7e.jplace\n",
      "[14:50:41] jobs.py (line 131):     INFO: Finished pplacer Job with input: backbone_alignment_file:/tmp/sepp/output.8trlr05c/root/P_8/pplacer.backbone.onwkq5ry.fasta, tree_file:/tmp/sepp/output.8trlr05c/root/P_8/pplacer.tree._ss8y8qf.tre, info_file:/home/lauro/anaconda3/envs/qiime2-2021.11/lib/python3.8/site-packages/picrust2/default_files/prokaryotic/pro_ref/pro_ref.raxml_info, extended alignment:/tmp/sepp/output.8trlr05c/root/P_8/pplacer.extended.2.y6z9_ur2.fasta, output:/tmp/sepp/output.8trlr05c/root/P_8/pplacer.extended.2.y6z9_ur2.jplace\n",
      "[14:50:42] jobs.py (line 131):     INFO: Finished pplacer Job with input: backbone_alignment_file:/tmp/sepp/output.8trlr05c/root/P_6/pplacer.backbone.12psscy0.fasta, tree_file:/tmp/sepp/output.8trlr05c/root/P_6/pplacer.tree.clapjm18.tre, info_file:/home/lauro/anaconda3/envs/qiime2-2021.11/lib/python3.8/site-packages/picrust2/default_files/prokaryotic/pro_ref/pro_ref.raxml_info, extended alignment:/tmp/sepp/output.8trlr05c/root/P_6/pplacer.extended.0.agg_fa2c.fasta, output:/tmp/sepp/output.8trlr05c/root/P_6/pplacer.extended.0.agg_fa2c.jplace\n",
      "[14:50:43] jobs.py (line 131):     INFO: Finished pplacer Job with input: backbone_alignment_file:/tmp/sepp/output.8trlr05c/root/P_9/pplacer.backbone.yy1d1tmd.fasta, tree_file:/tmp/sepp/output.8trlr05c/root/P_9/pplacer.tree.igih79ja.tre, info_file:/home/lauro/anaconda3/envs/qiime2-2021.11/lib/python3.8/site-packages/picrust2/default_files/prokaryotic/pro_ref/pro_ref.raxml_info, extended alignment:/tmp/sepp/output.8trlr05c/root/P_9/pplacer.extended.0.dcbc0a1n.fasta, output:/tmp/sepp/output.8trlr05c/root/P_9/pplacer.extended.0.dcbc0a1n.jplace\n",
      "[14:50:45] jobs.py (line 131):     INFO: Finished pplacer Job with input: backbone_alignment_file:/tmp/sepp/output.8trlr05c/root/P_9/pplacer.backbone.r2249igv.fasta, tree_file:/tmp/sepp/output.8trlr05c/root/P_9/pplacer.tree.2hcf471n.tre, info_file:/home/lauro/anaconda3/envs/qiime2-2021.11/lib/python3.8/site-packages/picrust2/default_files/prokaryotic/pro_ref/pro_ref.raxml_info, extended alignment:/tmp/sepp/output.8trlr05c/root/P_9/pplacer.extended.1.os7kwkmq.fasta, output:/tmp/sepp/output.8trlr05c/root/P_9/pplacer.extended.1.os7kwkmq.jplace\n",
      "[14:50:46] jobs.py (line 131):     INFO: Finished pplacer Job with input: backbone_alignment_file:/tmp/sepp/output.8trlr05c/root/P_9/pplacer.backbone.wg7r4adz.fasta, tree_file:/tmp/sepp/output.8trlr05c/root/P_9/pplacer.tree.pt371b8q.tre, info_file:/home/lauro/anaconda3/envs/qiime2-2021.11/lib/python3.8/site-packages/picrust2/default_files/prokaryotic/pro_ref/pro_ref.raxml_info, extended alignment:/tmp/sepp/output.8trlr05c/root/P_9/pplacer.extended.2.gh91zok8.fasta, output:/tmp/sepp/output.8trlr05c/root/P_9/pplacer.extended.2.gh91zok8.jplace\n",
      "[14:50:47] jobs.py (line 131):     INFO: Finished pplacer Job with input: backbone_alignment_file:/tmp/sepp/output.8trlr05c/root/P_13/pplacer.backbone.uwjfghsx.fasta, tree_file:/tmp/sepp/output.8trlr05c/root/P_13/pplacer.tree.h2yfttah.tre, info_file:/home/lauro/anaconda3/envs/qiime2-2021.11/lib/python3.8/site-packages/picrust2/default_files/prokaryotic/pro_ref/pro_ref.raxml_info, extended alignment:/tmp/sepp/output.8trlr05c/root/P_13/pplacer.extended.0.2breru1u.fasta, output:/tmp/sepp/output.8trlr05c/root/P_13/pplacer.extended.0.2breru1u.jplace\n",
      "[14:50:48] jobs.py (line 131):     INFO: Finished pplacer Job with input: backbone_alignment_file:/tmp/sepp/output.8trlr05c/root/P_12/pplacer.backbone.r2ojdqfn.fasta, tree_file:/tmp/sepp/output.8trlr05c/root/P_12/pplacer.tree.0_i366y6.tre, info_file:/home/lauro/anaconda3/envs/qiime2-2021.11/lib/python3.8/site-packages/picrust2/default_files/prokaryotic/pro_ref/pro_ref.raxml_info, extended alignment:/tmp/sepp/output.8trlr05c/root/P_12/pplacer.extended.2.hz27zw2p.fasta, output:/tmp/sepp/output.8trlr05c/root/P_12/pplacer.extended.2.hz27zw2p.jplace\n",
      "[14:50:49] jobs.py (line 131):     INFO: Finished pplacer Job with input: backbone_alignment_file:/tmp/sepp/output.8trlr05c/root/P_12/pplacer.backbone.qn7h1jg7.fasta, tree_file:/tmp/sepp/output.8trlr05c/root/P_12/pplacer.tree.8nq74_wi.tre, info_file:/home/lauro/anaconda3/envs/qiime2-2021.11/lib/python3.8/site-packages/picrust2/default_files/prokaryotic/pro_ref/pro_ref.raxml_info, extended alignment:/tmp/sepp/output.8trlr05c/root/P_12/pplacer.extended.0.oounn11j.fasta, output:/tmp/sepp/output.8trlr05c/root/P_12/pplacer.extended.0.oounn11j.jplace\n",
      "[14:50:49] jobs.py (line 131):     INFO: Finished pplacer Job with input: backbone_alignment_file:/tmp/sepp/output.8trlr05c/root/P_13/pplacer.backbone.ww334ego.fasta, tree_file:/tmp/sepp/output.8trlr05c/root/P_13/pplacer.tree.vsky1w5f.tre, info_file:/home/lauro/anaconda3/envs/qiime2-2021.11/lib/python3.8/site-packages/picrust2/default_files/prokaryotic/pro_ref/pro_ref.raxml_info, extended alignment:/tmp/sepp/output.8trlr05c/root/P_13/pplacer.extended.1.c64pheaj.fasta, output:/tmp/sepp/output.8trlr05c/root/P_13/pplacer.extended.1.c64pheaj.jplace\n",
      "[14:50:51] jobs.py (line 131):     INFO: Finished pplacer Job with input: backbone_alignment_file:/tmp/sepp/output.8trlr05c/root/P_13/pplacer.backbone.9unceelw.fasta, tree_file:/tmp/sepp/output.8trlr05c/root/P_13/pplacer.tree.5vxv7hkz.tre, info_file:/home/lauro/anaconda3/envs/qiime2-2021.11/lib/python3.8/site-packages/picrust2/default_files/prokaryotic/pro_ref/pro_ref.raxml_info, extended alignment:/tmp/sepp/output.8trlr05c/root/P_13/pplacer.extended.2.5efvj651.fasta, output:/tmp/sepp/output.8trlr05c/root/P_13/pplacer.extended.2.5efvj651.jplace\n",
      "[14:50:52] jobs.py (line 131):     INFO: Finished pplacer Job with input: backbone_alignment_file:/tmp/sepp/output.8trlr05c/root/P_12/pplacer.backbone.fhtvd726.fasta, tree_file:/tmp/sepp/output.8trlr05c/root/P_12/pplacer.tree.uvk12aps.tre, info_file:/home/lauro/anaconda3/envs/qiime2-2021.11/lib/python3.8/site-packages/picrust2/default_files/prokaryotic/pro_ref/pro_ref.raxml_info, extended alignment:/tmp/sepp/output.8trlr05c/root/P_12/pplacer.extended.1.7umth2d7.fasta, output:/tmp/sepp/output.8trlr05c/root/P_12/pplacer.extended.1.7umth2d7.jplace\n",
      "[14:50:52] jobs.py (line 131):     INFO: Finished pplacer Job with input: backbone_alignment_file:/tmp/sepp/output.8trlr05c/root/P_14/pplacer.backbone.5_2u06tx.fasta, tree_file:/tmp/sepp/output.8trlr05c/root/P_14/pplacer.tree.x5clmz_i.tre, info_file:/home/lauro/anaconda3/envs/qiime2-2021.11/lib/python3.8/site-packages/picrust2/default_files/prokaryotic/pro_ref/pro_ref.raxml_info, extended alignment:/tmp/sepp/output.8trlr05c/root/P_14/pplacer.extended.1.m5o0jcuz.fasta, output:/tmp/sepp/output.8trlr05c/root/P_14/pplacer.extended.1.m5o0jcuz.jplace\n",
      "[14:50:52] jobs.py (line 131):     INFO: Finished pplacer Job with input: backbone_alignment_file:/tmp/sepp/output.8trlr05c/root/P_14/pplacer.backbone.5bo4_wwd.fasta, tree_file:/tmp/sepp/output.8trlr05c/root/P_14/pplacer.tree.ohghi_oy.tre, info_file:/home/lauro/anaconda3/envs/qiime2-2021.11/lib/python3.8/site-packages/picrust2/default_files/prokaryotic/pro_ref/pro_ref.raxml_info, extended alignment:/tmp/sepp/output.8trlr05c/root/P_14/pplacer.extended.0.9010irfa.fasta, output:/tmp/sepp/output.8trlr05c/root/P_14/pplacer.extended.0.9010irfa.jplace\n",
      "[14:50:53] jobs.py (line 131):     INFO: Finished pplacer Job with input: backbone_alignment_file:/tmp/sepp/output.8trlr05c/root/P_14/pplacer.backbone.nvnv_jrl.fasta, tree_file:/tmp/sepp/output.8trlr05c/root/P_14/pplacer.tree.pqwt0ssn.tre, info_file:/home/lauro/anaconda3/envs/qiime2-2021.11/lib/python3.8/site-packages/picrust2/default_files/prokaryotic/pro_ref/pro_ref.raxml_info, extended alignment:/tmp/sepp/output.8trlr05c/root/P_14/pplacer.extended.2.oipp8cfc.fasta, output:/tmp/sepp/output.8trlr05c/root/P_14/pplacer.extended.2.oipp8cfc.jplace\n",
      "[14:51:18] jobs.py (line 131):     INFO: Finished pplacer Job with input: backbone_alignment_file:/tmp/sepp/output.8trlr05c/root/P_11/pplacer.backbone.6cbm4y19.fasta, tree_file:/tmp/sepp/output.8trlr05c/root/P_11/pplacer.tree.zkl47val.tre, info_file:/home/lauro/anaconda3/envs/qiime2-2021.11/lib/python3.8/site-packages/picrust2/default_files/prokaryotic/pro_ref/pro_ref.raxml_info, extended alignment:/tmp/sepp/output.8trlr05c/root/P_11/pplacer.extended.0.chxtxvws.fasta, output:/tmp/sepp/output.8trlr05c/root/P_11/pplacer.extended.0.chxtxvws.jplace\n",
      "[14:51:18] jobs.py (line 131):     INFO: Finished pplacer Job with input: backbone_alignment_file:/tmp/sepp/output.8trlr05c/root/P_11/pplacer.backbone.77pu5ll1.fasta, tree_file:/tmp/sepp/output.8trlr05c/root/P_11/pplacer.tree.nmudg9so.tre, info_file:/home/lauro/anaconda3/envs/qiime2-2021.11/lib/python3.8/site-packages/picrust2/default_files/prokaryotic/pro_ref/pro_ref.raxml_info, extended alignment:/tmp/sepp/output.8trlr05c/root/P_11/pplacer.extended.1.1d_li6dz.fasta, output:/tmp/sepp/output.8trlr05c/root/P_11/pplacer.extended.1.1d_li6dz.jplace\n",
      "[14:51:19] jobs.py (line 131):     INFO: Finished pplacer Job with input: backbone_alignment_file:/tmp/sepp/output.8trlr05c/root/P_11/pplacer.backbone.2zdg7thp.fasta, tree_file:/tmp/sepp/output.8trlr05c/root/P_11/pplacer.tree.jlih0aga.tre, info_file:/home/lauro/anaconda3/envs/qiime2-2021.11/lib/python3.8/site-packages/picrust2/default_files/prokaryotic/pro_ref/pro_ref.raxml_info, extended alignment:/tmp/sepp/output.8trlr05c/root/P_11/pplacer.extended.2.56kh775j.fasta, output:/tmp/sepp/output.8trlr05c/root/P_11/pplacer.extended.2.56kh775j.jplace\n",
      "[14:51:28] jobs.py (line 131):     INFO: Finished jsonmerger Job with input: input:pipe output:/tmp/tmp67yxgtqv/picrust2_out/intermediate/place_seqs/sepp_out/output_placement.json\n",
      "[14:51:28] algorithm.py (line 195):     INFO: Current execution Finished in 110 seconds\n",
      "[14:51:28] algorithm.py (line 197):     INFO: All checkpointed executions Finished in 110 cumulative time\n",
      "\n",
      "gappa examine graft --jplace-path /tmp/tmp67yxgtqv/picrust2_out/intermediate/place_seqs/sepp_out/output_placement.json --fully-resolve --out-dir /tmp/tmp67yxgtqv/picrust2_out/intermediate/place_seqs/sepp_out\n",
      "\n",
      "mv /tmp/tmp67yxgtqv/picrust2_out/intermediate/place_seqs/sepp_out/output_placement.newick /tmp/tmp67yxgtqv/picrust2_out/out.tre\n",
      "\n",
      "Finished placing sequences on output tree: /tmp/tmp67yxgtqv/picrust2_out/out.tre\n",
      "hsp.py --tree /tmp/tmp67yxgtqv/picrust2_out/out.tre --output /tmp/tmp67yxgtqv/picrust2_out/marker_predicted_and_nsti.tsv.gz --observed_trait_table /home/lauro/anaconda3/envs/qiime2-2021.11/lib/python3.8/site-packages/picrust2/default_files/prokaryotic/16S.txt.gz --hsp_method pic --edge_exponent 0.5 --seed 100 --calculate_NSTI --processes 1 --verbose\n"
     ]
    },
    {
     "name": "stdout",
     "output_type": "stream",
     "text": [
      "\n",
      "\n",
      "\n"
     ]
    },
    {
     "name": "stderr",
     "output_type": "stream",
     "text": [
      "Rscript /home/lauro/anaconda3/envs/qiime2-2021.11/lib/python3.8/site-packages/picrust2/Rscripts/castor_nsti.R /tmp/tmp67yxgtqv/picrust2_out/out.tre /tmp/tmp9gzd806b/known_tips.txt /tmp/tmp9gzd806b/nsti_out.txt\n",
      "\n",
      "Rscript /home/lauro/anaconda3/envs/qiime2-2021.11/lib/python3.8/site-packages/picrust2/Rscripts/castor_hsp.R /tmp/tmp67yxgtqv/picrust2_out/out.tre /tmp/tmpve55fdu6/subset_tab_0 pic 0.5 FALSE FALSE /tmp/tmpfr42wk9y/predicted_counts.txt /tmp/tmpfr42wk9y/predicted_ci.txt 100\n",
      "\n",
      "\n",
      "hsp.py --tree /tmp/tmp67yxgtqv/picrust2_out/out.tre --output /tmp/tmp67yxgtqv/picrust2_out/EC_predicted.tsv.gz --observed_trait_table /home/lauro/anaconda3/envs/qiime2-2021.11/lib/python3.8/site-packages/picrust2/default_files/prokaryotic/ec.txt.gz --hsp_method pic --edge_exponent 0.5 --seed 100 --processes 6 --verbose\n"
     ]
    },
    {
     "name": "stdout",
     "output_type": "stream",
     "text": [
      "\n",
      "\n",
      "\n",
      "\n",
      "\n",
      "\n",
      "\n"
     ]
    },
    {
     "name": "stderr",
     "output_type": "stream",
     "text": [
      "Rscript /home/lauro/anaconda3/envs/qiime2-2021.11/lib/python3.8/site-packages/picrust2/Rscripts/castor_hsp.R /tmp/tmp67yxgtqv/picrust2_out/out.tre /tmp/tmpb5unn08e/subset_tab_5 pic 0.5 FALSE FALSE /tmp/tmprdj61u4n/predicted_counts.txt /tmp/tmprdj61u4n/predicted_ci.txt 100\n",
      "\n",
      "Rscript /home/lauro/anaconda3/envs/qiime2-2021.11/lib/python3.8/site-packages/picrust2/Rscripts/castor_hsp.R /tmp/tmp67yxgtqv/picrust2_out/out.tre /tmp/tmpb5unn08e/subset_tab_0 pic 0.5 FALSE FALSE /tmp/tmph6u_72k0/predicted_counts.txt /tmp/tmph6u_72k0/predicted_ci.txt 100\n",
      "\n",
      "Rscript /home/lauro/anaconda3/envs/qiime2-2021.11/lib/python3.8/site-packages/picrust2/Rscripts/castor_hsp.R /tmp/tmp67yxgtqv/picrust2_out/out.tre /tmp/tmpb5unn08e/subset_tab_1 pic 0.5 FALSE FALSE /tmp/tmp0oqkzsbg/predicted_counts.txt /tmp/tmp0oqkzsbg/predicted_ci.txt 100\n",
      "\n",
      "Rscript /home/lauro/anaconda3/envs/qiime2-2021.11/lib/python3.8/site-packages/picrust2/Rscripts/castor_hsp.R /tmp/tmp67yxgtqv/picrust2_out/out.tre /tmp/tmpb5unn08e/subset_tab_4 pic 0.5 FALSE FALSE /tmp/tmpnxbhzvpn/predicted_counts.txt /tmp/tmpnxbhzvpn/predicted_ci.txt 100\n",
      "\n",
      "Rscript /home/lauro/anaconda3/envs/qiime2-2021.11/lib/python3.8/site-packages/picrust2/Rscripts/castor_hsp.R /tmp/tmp67yxgtqv/picrust2_out/out.tre /tmp/tmpb5unn08e/subset_tab_2 pic 0.5 FALSE FALSE /tmp/tmpyy4z6tch/predicted_counts.txt /tmp/tmpyy4z6tch/predicted_ci.txt 100\n",
      "\n",
      "Rscript /home/lauro/anaconda3/envs/qiime2-2021.11/lib/python3.8/site-packages/picrust2/Rscripts/castor_hsp.R /tmp/tmp67yxgtqv/picrust2_out/out.tre /tmp/tmpb5unn08e/subset_tab_3 pic 0.5 FALSE FALSE /tmp/tmpyjjimd6a/predicted_counts.txt /tmp/tmpyjjimd6a/predicted_ci.txt 100\n",
      "\n",
      "\n",
      "hsp.py --tree /tmp/tmp67yxgtqv/picrust2_out/out.tre --output /tmp/tmp67yxgtqv/picrust2_out/KO_predicted.tsv.gz --observed_trait_table /home/lauro/anaconda3/envs/qiime2-2021.11/lib/python3.8/site-packages/picrust2/default_files/prokaryotic/ko.txt.gz --hsp_method pic --edge_exponent 0.5 --seed 100 --processes 6 --verbose\n"
     ]
    },
    {
     "name": "stdout",
     "output_type": "stream",
     "text": [
      "\n",
      "\n",
      "\n",
      "\n",
      "\n",
      "\n",
      "\n",
      "\n",
      "\n",
      "\n",
      "\n",
      "\n",
      "\n",
      "\n",
      "\n",
      "\n",
      "\n",
      "\n",
      "\n",
      "\n",
      "\n",
      "\n",
      "\n"
     ]
    },
    {
     "name": "stderr",
     "output_type": "stream",
     "text": [
      "Rscript /home/lauro/anaconda3/envs/qiime2-2021.11/lib/python3.8/site-packages/picrust2/Rscripts/castor_hsp.R /tmp/tmp67yxgtqv/picrust2_out/out.tre /tmp/tmp_8a0peub/subset_tab_5 pic 0.5 FALSE FALSE /tmp/tmpmxab9vla/predicted_counts.txt /tmp/tmpmxab9vla/predicted_ci.txt 100\n",
      "\n",
      "Rscript /home/lauro/anaconda3/envs/qiime2-2021.11/lib/python3.8/site-packages/picrust2/Rscripts/castor_hsp.R /tmp/tmp67yxgtqv/picrust2_out/out.tre /tmp/tmp_8a0peub/subset_tab_8 pic 0.5 FALSE FALSE /tmp/tmpxatcpq92/predicted_counts.txt /tmp/tmpxatcpq92/predicted_ci.txt 100\n",
      "\n",
      "Rscript /home/lauro/anaconda3/envs/qiime2-2021.11/lib/python3.8/site-packages/picrust2/Rscripts/castor_hsp.R /tmp/tmp67yxgtqv/picrust2_out/out.tre /tmp/tmp_8a0peub/subset_tab_14 pic 0.5 FALSE FALSE /tmp/tmpgmdw5n3o/predicted_counts.txt /tmp/tmpgmdw5n3o/predicted_ci.txt 100\n",
      "\n",
      "Rscript /home/lauro/anaconda3/envs/qiime2-2021.11/lib/python3.8/site-packages/picrust2/Rscripts/castor_hsp.R /tmp/tmp67yxgtqv/picrust2_out/out.tre /tmp/tmp_8a0peub/subset_tab_2 pic 0.5 FALSE FALSE /tmp/tmp1xkr44v6/predicted_counts.txt /tmp/tmp1xkr44v6/predicted_ci.txt 100\n",
      "\n",
      "Rscript /home/lauro/anaconda3/envs/qiime2-2021.11/lib/python3.8/site-packages/picrust2/Rscripts/castor_hsp.R /tmp/tmp67yxgtqv/picrust2_out/out.tre /tmp/tmp_8a0peub/subset_tab_7 pic 0.5 FALSE FALSE /tmp/tmprt_80njz/predicted_counts.txt /tmp/tmprt_80njz/predicted_ci.txt 100\n",
      "\n",
      "Rscript /home/lauro/anaconda3/envs/qiime2-2021.11/lib/python3.8/site-packages/picrust2/Rscripts/castor_hsp.R /tmp/tmp67yxgtqv/picrust2_out/out.tre /tmp/tmp_8a0peub/subset_tab_13 pic 0.5 FALSE FALSE /tmp/tmpfj6kzalr/predicted_counts.txt /tmp/tmpfj6kzalr/predicted_ci.txt 100\n",
      "\n",
      "Rscript /home/lauro/anaconda3/envs/qiime2-2021.11/lib/python3.8/site-packages/picrust2/Rscripts/castor_hsp.R /tmp/tmp67yxgtqv/picrust2_out/out.tre /tmp/tmp_8a0peub/subset_tab_21 pic 0.5 FALSE FALSE /tmp/tmpy8v9fxjx/predicted_counts.txt /tmp/tmpy8v9fxjx/predicted_ci.txt 100\n",
      "\n",
      "Rscript /home/lauro/anaconda3/envs/qiime2-2021.11/lib/python3.8/site-packages/picrust2/Rscripts/castor_hsp.R /tmp/tmp67yxgtqv/picrust2_out/out.tre /tmp/tmp_8a0peub/subset_tab_4 pic 0.5 FALSE FALSE /tmp/tmp8e3vkn5a/predicted_counts.txt /tmp/tmp8e3vkn5a/predicted_ci.txt 100\n",
      "\n",
      "Rscript /home/lauro/anaconda3/envs/qiime2-2021.11/lib/python3.8/site-packages/picrust2/Rscripts/castor_hsp.R /tmp/tmp67yxgtqv/picrust2_out/out.tre /tmp/tmp_8a0peub/subset_tab_11 pic 0.5 FALSE FALSE /tmp/tmpdc2zyqj6/predicted_counts.txt /tmp/tmpdc2zyqj6/predicted_ci.txt 100\n",
      "\n",
      "Rscript /home/lauro/anaconda3/envs/qiime2-2021.11/lib/python3.8/site-packages/picrust2/Rscripts/castor_hsp.R /tmp/tmp67yxgtqv/picrust2_out/out.tre /tmp/tmp_8a0peub/subset_tab_17 pic 0.5 FALSE FALSE /tmp/tmpjnz7ex3r/predicted_counts.txt /tmp/tmpjnz7ex3r/predicted_ci.txt 100\n",
      "\n",
      "Rscript /home/lauro/anaconda3/envs/qiime2-2021.11/lib/python3.8/site-packages/picrust2/Rscripts/castor_hsp.R /tmp/tmp67yxgtqv/picrust2_out/out.tre /tmp/tmp_8a0peub/subset_tab_3 pic 0.5 FALSE FALSE /tmp/tmpqfczqfwa/predicted_counts.txt /tmp/tmpqfczqfwa/predicted_ci.txt 100\n",
      "\n",
      "Rscript /home/lauro/anaconda3/envs/qiime2-2021.11/lib/python3.8/site-packages/picrust2/Rscripts/castor_hsp.R /tmp/tmp67yxgtqv/picrust2_out/out.tre /tmp/tmp_8a0peub/subset_tab_6 pic 0.5 FALSE FALSE /tmp/tmpq6y00ude/predicted_counts.txt /tmp/tmpq6y00ude/predicted_ci.txt 100\n",
      "\n",
      "Rscript /home/lauro/anaconda3/envs/qiime2-2021.11/lib/python3.8/site-packages/picrust2/Rscripts/castor_hsp.R /tmp/tmp67yxgtqv/picrust2_out/out.tre /tmp/tmp_8a0peub/subset_tab_12 pic 0.5 FALSE FALSE /tmp/tmp9b9z0lxo/predicted_counts.txt /tmp/tmp9b9z0lxo/predicted_ci.txt 100\n",
      "\n",
      "Rscript /home/lauro/anaconda3/envs/qiime2-2021.11/lib/python3.8/site-packages/picrust2/Rscripts/castor_hsp.R /tmp/tmp67yxgtqv/picrust2_out/out.tre /tmp/tmp_8a0peub/subset_tab_18 pic 0.5 FALSE FALSE /tmp/tmpxzof4bk7/predicted_counts.txt /tmp/tmpxzof4bk7/predicted_ci.txt 100\n",
      "\n",
      "Rscript /home/lauro/anaconda3/envs/qiime2-2021.11/lib/python3.8/site-packages/picrust2/Rscripts/castor_hsp.R /tmp/tmp67yxgtqv/picrust2_out/out.tre /tmp/tmp_8a0peub/subset_tab_1 pic 0.5 FALSE FALSE /tmp/tmpbqjzb16q/predicted_counts.txt /tmp/tmpbqjzb16q/predicted_ci.txt 100\n",
      "\n",
      "Rscript /home/lauro/anaconda3/envs/qiime2-2021.11/lib/python3.8/site-packages/picrust2/Rscripts/castor_hsp.R /tmp/tmp67yxgtqv/picrust2_out/out.tre /tmp/tmp_8a0peub/subset_tab_9 pic 0.5 FALSE FALSE /tmp/tmpyqdmcrah/predicted_counts.txt /tmp/tmpyqdmcrah/predicted_ci.txt 100\n",
      "\n",
      "Rscript /home/lauro/anaconda3/envs/qiime2-2021.11/lib/python3.8/site-packages/picrust2/Rscripts/castor_hsp.R /tmp/tmp67yxgtqv/picrust2_out/out.tre /tmp/tmp_8a0peub/subset_tab_15 pic 0.5 FALSE FALSE /tmp/tmp9m4r6d03/predicted_counts.txt /tmp/tmp9m4r6d03/predicted_ci.txt 100\n",
      "\n",
      "Rscript /home/lauro/anaconda3/envs/qiime2-2021.11/lib/python3.8/site-packages/picrust2/Rscripts/castor_hsp.R /tmp/tmp67yxgtqv/picrust2_out/out.tre /tmp/tmp_8a0peub/subset_tab_19 pic 0.5 FALSE FALSE /tmp/tmp5ql9vgqb/predicted_counts.txt /tmp/tmp5ql9vgqb/predicted_ci.txt 100\n",
      "\n",
      "Rscript /home/lauro/anaconda3/envs/qiime2-2021.11/lib/python3.8/site-packages/picrust2/Rscripts/castor_hsp.R /tmp/tmp67yxgtqv/picrust2_out/out.tre /tmp/tmp_8a0peub/subset_tab_0 pic 0.5 FALSE FALSE /tmp/tmp3i53k2bf/predicted_counts.txt /tmp/tmp3i53k2bf/predicted_ci.txt 100\n",
      "\n",
      "Rscript /home/lauro/anaconda3/envs/qiime2-2021.11/lib/python3.8/site-packages/picrust2/Rscripts/castor_hsp.R /tmp/tmp67yxgtqv/picrust2_out/out.tre /tmp/tmp_8a0peub/subset_tab_10 pic 0.5 FALSE FALSE /tmp/tmp3ueieplj/predicted_counts.txt /tmp/tmp3ueieplj/predicted_ci.txt 100\n",
      "\n",
      "Rscript /home/lauro/anaconda3/envs/qiime2-2021.11/lib/python3.8/site-packages/picrust2/Rscripts/castor_hsp.R /tmp/tmp67yxgtqv/picrust2_out/out.tre /tmp/tmp_8a0peub/subset_tab_16 pic 0.5 FALSE FALSE /tmp/tmpjpu6myaa/predicted_counts.txt /tmp/tmpjpu6myaa/predicted_ci.txt 100\n",
      "\n",
      "Rscript /home/lauro/anaconda3/envs/qiime2-2021.11/lib/python3.8/site-packages/picrust2/Rscripts/castor_hsp.R /tmp/tmp67yxgtqv/picrust2_out/out.tre /tmp/tmp_8a0peub/subset_tab_20 pic 0.5 FALSE FALSE /tmp/tmpup5qj7fn/predicted_counts.txt /tmp/tmpup5qj7fn/predicted_ci.txt 100\n",
      "\n",
      "\n",
      "Running metagenome pipeline for EC\n",
      "metagenome_pipeline.py --input /tmp/tmp67yxgtqv/intable.biom --function /tmp/tmp67yxgtqv/picrust2_out/EC_predicted.tsv.gz --min_reads 1 --min_samples 1 --out_dir /tmp/tmp67yxgtqv/picrust2_out/EC_metagenome_out --max_nsti 2 --marker /tmp/tmp67yxgtqv/picrust2_out/marker_predicted_and_nsti.tsv.gz\n"
     ]
    },
    {
     "name": "stdout",
     "output_type": "stream",
     "text": [
      "\n"
     ]
    },
    {
     "name": "stderr",
     "output_type": "stream",
     "text": [
      "1 of 668 ASVs were above the max NSTI cut-off of 2.0 and were removed from the downstream analyses.\n",
      "\n",
      "Running metagenome pipeline for KO\n",
      "metagenome_pipeline.py --input /tmp/tmp67yxgtqv/intable.biom --function /tmp/tmp67yxgtqv/picrust2_out/KO_predicted.tsv.gz --min_reads 1 --min_samples 1 --out_dir /tmp/tmp67yxgtqv/picrust2_out/KO_metagenome_out --max_nsti 2 --marker /tmp/tmp67yxgtqv/picrust2_out/marker_predicted_and_nsti.tsv.gz\n"
     ]
    },
    {
     "name": "stdout",
     "output_type": "stream",
     "text": [
      "\n",
      "Inferring pathways from predicted EC\n"
     ]
    },
    {
     "name": "stderr",
     "output_type": "stream",
     "text": [
      "1 of 668 ASVs were above the max NSTI cut-off of 2.0 and were removed from the downstream analyses.\n",
      "\n",
      "pathway_pipeline.py --input /tmp/tmp67yxgtqv/picrust2_out/EC_metagenome_out/pred_metagenome_unstrat.tsv.gz --out_dir /tmp/tmp67yxgtqv/picrust2_out/pathways_out --map /home/lauro/anaconda3/envs/qiime2-2021.11/lib/python3.8/site-packages/picrust2/default_files/pathway_mapfiles/metacyc_path2rxn_struc_filt_pro.txt --intermediate /tmp/tmp67yxgtqv/picrust2_out/intermediate/pathways --proc 6 --regroup_map /home/lauro/anaconda3/envs/qiime2-2021.11/lib/python3.8/site-packages/picrust2/default_files/pathway_mapfiles/ec_level4_to_metacyc_rxn.tsv --verbose\n"
     ]
    },
    {
     "name": "stderr",
     "output_type": "stream",
     "text": [
      "\n",
      "Wrote predicted pathway abundances and coverages to /tmp/tmp67yxgtqv/picrust2_out/pathways_out\n"
     ]
    }
   ],
   "source": [
    "need_pipeline = replace_files\n",
    "need_pipeline |= not (os.path.isfile(ec_path) and os.path.isfile(ko_path) and os.path.isfile(pathway_path))\n",
    "if need_pipeline:\n",
    "    results = picrust2.methods.full_pipeline(\n",
    "        table=tabs, \n",
    "        seq=seqs, \n",
    "        threads=6, \n",
    "        placement_tool='sepp',\n",
    "        hsp_method='pic', \n",
    "        max_nsti=2,\n",
    "        highly_verbose=True\n",
    "    )\n",
    "    ec_metagenome = results.ec_metagenome\n",
    "    ko_metagenome = results.ko_metagenome\n",
    "    pathway_abundance = results.pathway_abundance\n",
    "else:\n",
    "    ec_metagenome = Artifact.load(ec_path)\n",
    "    ko_metagenome = Artifact.load(ko_path)\n",
    "    pathway_abundance = Artifact.load(pathway_path)"
   ]
  },
  {
   "cell_type": "markdown",
   "id": "771308c4",
   "metadata": {
    "papermill": {
     "duration": 0.040505,
     "end_time": "2023-06-07T14:55:01.072393",
     "exception": false,
     "start_time": "2023-06-07T14:55:01.031888",
     "status": "completed"
    },
    "tags": []
   },
   "source": [
    "### Persist created artifacts\n",
    "\n",
    "We will define file paths and persist all artifacts. We start with `.qza` files. We will save the visualization files in sequence as `qzv` files. Finally, we save a `biom`-like file as `tsv` with brief descriptions of all functions."
   ]
  },
  {
   "cell_type": "code",
   "execution_count": 9,
   "id": "c680ab46",
   "metadata": {
    "ExecuteTime": {
     "end_time": "2022-11-09T19:20:47.646444Z",
     "start_time": "2022-11-09T19:20:47.643806Z"
    },
    "execution": {
     "iopub.execute_input": "2023-06-07T14:55:01.158630Z",
     "iopub.status.busy": "2023-06-07T14:55:01.158118Z",
     "iopub.status.idle": "2023-06-07T14:55:01.243905Z",
     "shell.execute_reply": "2023-06-07T14:55:01.244781Z"
    },
    "papermill": {
     "duration": 0.132179,
     "end_time": "2023-06-07T14:55:01.245060",
     "exception": false,
     "start_time": "2023-06-07T14:55:01.112881",
     "status": "completed"
    },
    "tags": []
   },
   "outputs": [],
   "source": [
    "if need_pipeline:\n",
    "    # Export artifact folder\n",
    "    ec_metagenome.export_data(output_dir=ec_path.split('.')[0])\n",
    "    ko_metagenome.export_data(output_dir=ko_path.split('.')[0])\n",
    "    pathway_abundance.export_data(output_dir=pathway_path.split('.')[0])\n",
    "    \n",
    "    # Save artifacts as .qza files\n",
    "    ec_metagenome.save(ec_path)\n",
    "    ko_metagenome.save(ko_path)\n",
    "    pathway_abundance.save(pathway_path)"
   ]
  },
  {
   "cell_type": "code",
   "execution_count": 10,
   "id": "d61ebec3",
   "metadata": {
    "ExecuteTime": {
     "end_time": "2022-11-09T19:20:47.687022Z",
     "start_time": "2022-11-09T19:20:47.647637Z"
    },
    "execution": {
     "iopub.execute_input": "2023-06-07T14:55:01.336182Z",
     "iopub.status.busy": "2023-06-07T14:55:01.335649Z",
     "iopub.status.idle": "2023-06-07T14:55:05.618155Z",
     "shell.execute_reply": "2023-06-07T14:55:05.619025Z"
    },
    "papermill": {
     "duration": 4.329506,
     "end_time": "2023-06-07T14:55:05.619308",
     "exception": false,
     "start_time": "2023-06-07T14:55:01.289802",
     "status": "completed"
    },
    "tags": []
   },
   "outputs": [],
   "source": [
    "need_viz = replace_files\n",
    "need_viz |= not (os.path.isfile(ec_viz_path) and os.path.isfile(ko_viz_path) and os.path.isfile(pathway_viz_path))\n",
    "if need_viz:\n",
    "    # Create visualization artifacts\n",
    "    ec_viz = summarize(table=ec_metagenome, sample_metadata=metadata_qa).visualization\n",
    "    ko_viz = summarize(table=ko_metagenome, sample_metadata=metadata_qa).visualization\n",
    "    path_viz = summarize(table=pathway_abundance, sample_metadata=metadata_qa).visualization\n",
    "\n",
    "    # Save visualization artifacts as .qzv files\n",
    "    ec_viz.save(ec_viz_path)\n",
    "    ko_viz.save(ko_viz_path)\n",
    "    path_viz.save(pathway_viz_path)"
   ]
  },
  {
   "cell_type": "code",
   "execution_count": 11,
   "id": "57f1f4d8",
   "metadata": {
    "ExecuteTime": {
     "end_time": "2022-11-09T19:20:47.704885Z",
     "start_time": "2022-11-09T19:20:47.689312Z"
    },
    "execution": {
     "iopub.execute_input": "2023-06-07T14:55:05.714687Z",
     "iopub.status.busy": "2023-06-07T14:55:05.714177Z",
     "iopub.status.idle": "2023-06-07T14:55:08.807414Z",
     "shell.execute_reply": "2023-06-07T14:55:08.808355Z"
    },
    "papermill": {
     "duration": 3.142342,
     "end_time": "2023-06-07T14:55:08.808632",
     "exception": false,
     "start_time": "2023-06-07T14:55:05.666290",
     "status": "completed"
    },
    "tags": []
   },
   "outputs": [],
   "source": [
    "need_biom = replace_files\n",
    "need_biom |= not (os.path.isfile(ec_fpath) and os.path.isfile(ko_fpath) and os.path.isfile(pathway_fpath))\n",
    "if need_biom:\n",
    "    # Convert artifact to dataframe - transposed\n",
    "    df_pathway = pathway_abundance.view(pd.DataFrame).T\n",
    "    df_ec = ec_metagenome.view(pd.DataFrame).T\n",
    "    df_ko = ko_metagenome.view(pd.DataFrame).T\n",
    "\n",
    "    # Write dataframe to a tsv file\n",
    "    df_pathway.to_csv(pathway_fpath, sep='\\t', index=True)\n",
    "    df_ec.to_csv(ec_fpath, sep='\\t', index=True)\n",
    "    df_ko.to_csv(ko_fpath, sep='\\t', index=True)\n",
    "    \n",
    "    # Put a new column with descriptions of each function's ID\n",
    "    !add_descriptions.py -i {ec_fpath} -m EC -o {ec_desc_fpath}\n",
    "    !add_descriptions.py -i {ko_fpath} -m KO -o {ko_desc_fpath}\n",
    "    !add_descriptions.py -i {pathway_fpath} -m METACYC -o {pathway_desc_fpath}"
   ]
  }
 ],
 "metadata": {
  "celltoolbar": "Edit Metadata",
  "kernelspec": {
   "display_name": "Python 3 (ipykernel)",
   "language": "python",
   "name": "python3"
  },
  "language_info": {
   "codemirror_mode": {
    "name": "ipython",
    "version": 3
   },
   "file_extension": ".py",
   "mimetype": "text/x-python",
   "name": "python",
   "nbconvert_exporter": "python",
   "pygments_lexer": "ipython3",
   "version": "3.8.12"
  },
  "papermill": {
   "default_parameters": {},
   "duration": 369.39677,
   "end_time": "2023-06-07T14:55:09.770346",
   "environment_variables": {},
   "exception": null,
   "input_path": "nb-templates/step-picrust2-analysis.ipynb",
   "output_path": "/home/lauro/nupeb/rede-micro/redemicro-ana-flavia-nutri/experiments/ana-flavia-NCxNR-trim/nb-executed-steps/step-picrust2-analysis-ana-flavia-NCxNR-trim.ipynb",
   "parameters": {
    "base_dir": "/home/lauro/nupeb/rede-micro/redemicro-ana-flavia-nutri",
    "class_col": "group-id",
    "classifier_file": "/home/lauro/nupeb/rede-micro/models/silva-138-99-nb-classifier.qza",
    "experiment_name": "ana-flavia-NCxNR-trim",
    "manifest_file": "/home/lauro/nupeb/rede-micro/redemicro-ana-flavia-nutri/data/raw/manifest/manifest-ana-flavia-NCxNR.csv",
    "metadata_file": "/home/lauro/nupeb/rede-micro/redemicro-ana-flavia-nutri/data/raw/metadata/metadata-ana-flavia-NCxNR.tsv",
    "overlap": 12,
    "phred": 20,
    "replace_files": false,
    "threads": 6,
    "top_n": 20,
    "trim": {
     "forward_primer": "CCTACGGGRSGCAGCAG",
     "overlap": 8,
     "reverse_primer": "GGACTACHVGGGTWTCTAAT"
    },
    "trunc_f": 0,
    "trunc_r": 0
   },
   "start_time": "2023-06-07T14:49:00.373576",
   "version": "2.3.4"
  }
 },
 "nbformat": 4,
 "nbformat_minor": 5
}