{
 "cells": [
  {
   "cell_type": "markdown",
   "id": "0e7f2330",
   "metadata": {
    "ExecuteTime": {
     "end_time": "2022-09-22T19:36:33.828188Z",
     "start_time": "2022-09-22T19:36:33.817323Z"
    },
    "papermill": {
     "duration": 0.043088,
     "end_time": "2023-09-04T18:32:19.316160",
     "exception": false,
     "start_time": "2023-09-04T18:32:19.273072",
     "status": "completed"
    },
    "tags": []
   },
   "source": [
    "### STEP : PICRUST2 Analysis\n",
    "\n",
    "\n",
    "\n",
    "#### Example\n",
    "\n",
    "- [PICRUST2 tutorial](https://github.com/picrust/picrust2/wiki/q2-picrust2-Tutorial)\n",
    "- [Limitations](https://github.com/picrust/picrust2/wiki/Key-Limitations)\n",
    "\n",
    "\n",
    "#### Methods\n",
    "- [composition](https://docs.qiime2.org/2022.8/plugins/available/composition/)"
   ]
  },
  {
   "cell_type": "markdown",
   "id": "843debbf",
   "metadata": {
    "papermill": {
     "duration": 0.030559,
     "end_time": "2023-09-04T18:32:19.379939",
     "exception": false,
     "start_time": "2023-09-04T18:32:19.349380",
     "status": "completed"
    },
    "tags": []
   },
   "source": [
    "## Setup and settings"
   ]
  },
  {
   "cell_type": "code",
   "execution_count": 1,
   "id": "965e28e5",
   "metadata": {
    "ExecuteTime": {
     "end_time": "2022-11-09T19:20:47.478806Z",
     "start_time": "2022-11-09T19:20:40.457657Z"
    },
    "execution": {
     "iopub.execute_input": "2023-09-04T18:32:19.450862Z",
     "iopub.status.busy": "2023-09-04T18:32:19.450344Z",
     "iopub.status.idle": "2023-09-04T18:32:26.298901Z",
     "shell.execute_reply": "2023-09-04T18:32:26.299821Z"
    },
    "papermill": {
     "duration": 6.890414,
     "end_time": "2023-09-04T18:32:26.300223",
     "exception": false,
     "start_time": "2023-09-04T18:32:19.409809",
     "status": "completed"
    },
    "tags": []
   },
   "outputs": [],
   "source": [
    "# Importing packages\n",
    "import os\n",
    "import biom\n",
    "import pandas as pd\n",
    "from qiime2 import Artifact\n",
    "from qiime2 import Visualization\n",
    "from qiime2 import Metadata\n",
    "\n",
    "from qiime2.plugins.feature_table.visualizers import summarize\n",
    "\n",
    "from picrust2.pipeline import full_pipeline\n",
    "from picrust2.default import (default_ref_dir, default_tables, default_regroup_map, default_pathway_map)\n",
    "from qiime2.plugins import picrust2\n",
    "from qiime2.plugins.feature_table.methods import filter_samples\n",
    "from qiime2.plugins.feature_table.methods import filter_seqs\n",
    "\n",
    "%matplotlib inline"
   ]
  },
  {
   "cell_type": "markdown",
   "id": "530ceb60",
   "metadata": {
    "papermill": {
     "duration": 0.0293,
     "end_time": "2023-09-04T18:32:26.366474",
     "exception": false,
     "start_time": "2023-09-04T18:32:26.337174",
     "status": "completed"
    },
    "tags": []
   },
   "source": [
    "### Receiving the parameters\n",
    "\n",
    "The following cell can receive parameters using the [papermill](https://papermill.readthedocs.io/en/latest/) tool."
   ]
  },
  {
   "cell_type": "code",
   "execution_count": 2,
   "id": "18d874ea",
   "metadata": {
    "ExecuteTime": {
     "end_time": "2022-11-09T19:20:47.483140Z",
     "start_time": "2022-11-09T19:20:47.480386Z"
    },
    "execution": {
     "iopub.execute_input": "2023-09-04T18:32:26.431570Z",
     "iopub.status.busy": "2023-09-04T18:32:26.431059Z",
     "iopub.status.idle": "2023-09-04T18:32:26.433900Z",
     "shell.execute_reply": "2023-09-04T18:32:26.433433Z"
    },
    "papermill": {
     "duration": 0.037903,
     "end_time": "2023-09-04T18:32:26.434005",
     "exception": false,
     "start_time": "2023-09-04T18:32:26.396102",
     "status": "completed"
    },
    "tags": [
     "parameters"
    ]
   },
   "outputs": [],
   "source": [
    "metadata_file = '/home/lauro/nupeb/rede-micro/redemicro-miliane-nutri/data/raw/metadata/miliane-metadata-CxAC.tsv'\n",
    "base_dir = os.path.join('/', 'home', 'lauro', 'nupeb', 'rede-micro', 'redemicro-miliane-nutri')\n",
    "experiment_name = 'miliane-CxAC-trim'\n",
    "class_col = 'group-id'\n",
    "replace_files = False"
   ]
  },
  {
   "cell_type": "code",
   "execution_count": 3,
   "id": "33d491da",
   "metadata": {
    "execution": {
     "iopub.execute_input": "2023-09-04T18:32:26.501392Z",
     "iopub.status.busy": "2023-09-04T18:32:26.500887Z",
     "iopub.status.idle": "2023-09-04T18:32:26.503972Z",
     "shell.execute_reply": "2023-09-04T18:32:26.504374Z"
    },
    "papermill": {
     "duration": 0.039106,
     "end_time": "2023-09-04T18:32:26.504482",
     "exception": false,
     "start_time": "2023-09-04T18:32:26.465376",
     "status": "completed"
    },
    "tags": [
     "injected-parameters"
    ]
   },
   "outputs": [],
   "source": [
    "# Parameters\n",
    "experiment_name = \"ana-flavia-NCxNR-trim\"\n",
    "base_dir = \"/home/lauro/nupeb/rede-micro/redemicro-ana-flavia-nutri\"\n",
    "manifest_file = \"/home/lauro/nupeb/rede-micro/redemicro-ana-flavia-nutri/data/raw/manifest/manifest-ana-flavia-NCxNR.csv\"\n",
    "metadata_file = \"/home/lauro/nupeb/rede-micro/redemicro-ana-flavia-nutri/data/raw/metadata/metadata-ana-flavia-NCxNR.tsv\"\n",
    "class_col = \"group-id\"\n",
    "classifier_file = \"/home/lauro/nupeb/rede-micro/models/silva-138-99-nb-classifier.qza\"\n",
    "top_n = 20\n",
    "replace_files = False\n",
    "phred = 20\n",
    "trunc_f = 0\n",
    "trunc_r = 0\n",
    "overlap = 12\n",
    "threads = 6\n",
    "trim = {\n",
    "    \"overlap\": 8,\n",
    "    \"forward_primer\": \"CCTACGGGRSGCAGCAG\",\n",
    "    \"reverse_primer\": \"GGACTACHVGGGTWTCTAAT\",\n",
    "}\n"
   ]
  },
  {
   "cell_type": "code",
   "execution_count": 4,
   "id": "f38617d9",
   "metadata": {
    "ExecuteTime": {
     "end_time": "2022-11-09T19:20:47.515942Z",
     "start_time": "2022-11-09T19:20:47.498345Z"
    },
    "execution": {
     "iopub.execute_input": "2023-09-04T18:32:26.570748Z",
     "iopub.status.busy": "2023-09-04T18:32:26.570242Z",
     "iopub.status.idle": "2023-09-04T18:32:26.572853Z",
     "shell.execute_reply": "2023-09-04T18:32:26.572409Z"
    },
    "papermill": {
     "duration": 0.035813,
     "end_time": "2023-09-04T18:32:26.572949",
     "exception": false,
     "start_time": "2023-09-04T18:32:26.537136",
     "status": "completed"
    },
    "tags": []
   },
   "outputs": [],
   "source": [
    "experiment_folder = os.path.abspath(os.path.join(base_dir, 'experiments', experiment_name))\n",
    "img_folder = os.path.abspath(os.path.join(experiment_folder, 'imgs'))"
   ]
  },
  {
   "cell_type": "markdown",
   "id": "ea9b90fb",
   "metadata": {
    "papermill": {
     "duration": 0.029243,
     "end_time": "2023-09-04T18:32:26.631982",
     "exception": false,
     "start_time": "2023-09-04T18:32:26.602739",
     "status": "completed"
    },
    "tags": []
   },
   "source": [
    "### Defining names, paths and flags"
   ]
  },
  {
   "cell_type": "code",
   "execution_count": 5,
   "id": "45727eef",
   "metadata": {
    "ExecuteTime": {
     "end_time": "2022-11-09T19:20:47.527937Z",
     "start_time": "2022-11-09T19:20:47.517696Z"
    },
    "execution": {
     "iopub.execute_input": "2023-09-04T18:32:26.694029Z",
     "iopub.status.busy": "2023-09-04T18:32:26.693527Z",
     "iopub.status.idle": "2023-09-04T18:32:26.696479Z",
     "shell.execute_reply": "2023-09-04T18:32:26.696877Z"
    },
    "papermill": {
     "duration": 0.03594,
     "end_time": "2023-09-04T18:32:26.696983",
     "exception": false,
     "start_time": "2023-09-04T18:32:26.661043",
     "status": "completed"
    },
    "tags": []
   },
   "outputs": [
    {
     "name": "stdout",
     "output_type": "stream",
     "text": [
      "New picrust2-artifacts folder path created: /home/lauro/nupeb/rede-micro/redemicro-ana-flavia-nutri/experiments/ana-flavia-NCxNR-trim/picrust2\n"
     ]
    }
   ],
   "source": [
    "# QIIME2 Artifacts folder\n",
    "qiime_folder = os.path.join(experiment_folder, 'qiime-artifacts')\n",
    "\n",
    "# Input - DADA2 Artifacts\n",
    "dada2_tabs_path = os.path.join(qiime_folder, 'dada2-tabs.qza')\n",
    "dada2_reqs_path = os.path.join(qiime_folder, 'dada2-reps.qza')\n",
    "\n",
    "# PICRUST@ folder\n",
    "picrust2_folder = os.path.abspath(os.path.join(experiment_folder, 'picrust2'))\n",
    "\n",
    "# Create path if it not exist\n",
    "if not os.path.isdir(picrust2_folder):\n",
    "    os.makedirs(picrust2_folder)\n",
    "    print(f'New picrust2-artifacts folder path created: {picrust2_folder}')"
   ]
  },
  {
   "cell_type": "code",
   "execution_count": 6,
   "id": "4903e645",
   "metadata": {
    "ExecuteTime": {
     "end_time": "2022-11-09T19:20:47.539993Z",
     "start_time": "2022-11-09T19:20:47.529653Z"
    },
    "execution": {
     "iopub.execute_input": "2023-09-04T18:32:26.760705Z",
     "iopub.status.busy": "2023-09-04T18:32:26.760244Z",
     "iopub.status.idle": "2023-09-04T18:32:26.762514Z",
     "shell.execute_reply": "2023-09-04T18:32:26.762139Z"
    },
    "papermill": {
     "duration": 0.034541,
     "end_time": "2023-09-04T18:32:26.762598",
     "exception": false,
     "start_time": "2023-09-04T18:32:26.728057",
     "status": "completed"
    },
    "tags": []
   },
   "outputs": [],
   "source": [
    "# Define paths for metagenome function artifacts\n",
    "ec_path = os.path.join(picrust2_folder, 'ec-pred-metagen.qza')\n",
    "ko_path = os.path.join(picrust2_folder, 'ko-pred-metagen.qza')\n",
    "pathway_path = os.path.join(picrust2_folder, 'pathway-abundance.qza')\n",
    "\n",
    "# Define paths for metagenome function visualization artifacts\n",
    "ec_viz_path = ec_path[:-1]+'v'\n",
    "ko_viz_path = ko_path[:-1]+'v'\n",
    "pathway_viz_path = pathway_path[:-1]+'v'\n",
    "\n",
    "# Define paths for biom -> tsv files (function X sample)\n",
    "pathway_fpath = os.path.join(picrust2_folder, 'pathway.tsv')\n",
    "ec_fpath = os.path.join(picrust2_folder, 'ec.tsv')\n",
    "ko_fpath = os.path.join(picrust2_folder, 'ko.tsv')\n",
    "\n",
    "# Define paths for biom -> tsv files (function X sample) - with descriptions\n",
    "pathway_desc_fpath = os.path.join(picrust2_folder, 'pathway-desc.tsv')\n",
    "ec_desc_fpath = os.path.join(picrust2_folder, 'ec-desc.tsv')\n",
    "ko_desc_fpath = os.path.join(picrust2_folder, 'ko-desc.tsv')"
   ]
  },
  {
   "cell_type": "markdown",
   "id": "0999a1b2",
   "metadata": {
    "papermill": {
     "duration": 0.02742,
     "end_time": "2023-09-04T18:32:26.818808",
     "exception": false,
     "start_time": "2023-09-04T18:32:26.791388",
     "status": "completed"
    },
    "tags": []
   },
   "source": [
    "## Step execution\n",
    "\n",
    "### Load input files\n",
    "\n",
    "This Step import the QIIME2 `FeatureTable[Frequency]` Artifact and the `Metadata` file."
   ]
  },
  {
   "cell_type": "code",
   "execution_count": 7,
   "id": "8f299d1a",
   "metadata": {
    "ExecuteTime": {
     "end_time": "2022-11-09T19:20:47.610793Z",
     "start_time": "2022-11-09T19:20:47.541540Z"
    },
    "execution": {
     "iopub.execute_input": "2023-09-04T18:32:26.877134Z",
     "iopub.status.busy": "2023-09-04T18:32:26.876685Z",
     "iopub.status.idle": "2023-09-04T18:32:26.936765Z",
     "shell.execute_reply": "2023-09-04T18:32:26.935959Z"
    },
    "papermill": {
     "duration": 0.090668,
     "end_time": "2023-09-04T18:32:26.936948",
     "exception": false,
     "start_time": "2023-09-04T18:32:26.846280",
     "status": "completed"
    },
    "tags": []
   },
   "outputs": [],
   "source": [
    "#Load Metadata\n",
    "metadata_qa = Metadata.load(metadata_file)\n",
    "\n",
    "#Load FeatureTable[Frequency]\n",
    "tabs = Artifact.load(dada2_tabs_path)\n",
    "\n",
    "#Load FeatureTable[Sequence]\n",
    "seqs = Artifact.load(dada2_reqs_path)"
   ]
  },
  {
   "cell_type": "code",
   "execution_count": 8,
   "id": "9b699dee",
   "metadata": {
    "execution": {
     "iopub.execute_input": "2023-09-04T18:32:26.998191Z",
     "iopub.status.busy": "2023-09-04T18:32:26.997769Z",
     "iopub.status.idle": "2023-09-04T18:32:27.746312Z",
     "shell.execute_reply": "2023-09-04T18:32:27.747059Z"
    },
    "papermill": {
     "duration": 0.779563,
     "end_time": "2023-09-04T18:32:27.747284",
     "exception": false,
     "start_time": "2023-09-04T18:32:26.967721",
     "status": "completed"
    },
    "tags": []
   },
   "outputs": [],
   "source": [
    "# Filter FeatureTable[Frequency | RelativeFrequency | PresenceAbsence | Composition] based on Metadata sample ID values\n",
    "tabs = filter_samples(\n",
    "    table=tabs,\n",
    "    metadata=metadata_qa,\n",
    ").filtered_table\n",
    "# Filter SampleData[SequencesWithQuality | PairedEndSequencesWithQuality | JoinedSequencesWithQuality] based on Metadata sample ID values; returns FeatureData[Sequence | AlignedSequence]\n",
    "seqs = filter_seqs(\n",
    "    data=seqs,\n",
    "    table=tabs,\n",
    ").filtered_data"
   ]
  },
  {
   "cell_type": "markdown",
   "id": "4f1b06d4",
   "metadata": {
    "papermill": {
     "duration": 0.027957,
     "end_time": "2023-09-04T18:32:27.812258",
     "exception": false,
     "start_time": "2023-09-04T18:32:27.784301",
     "status": "completed"
    },
    "tags": []
   },
   "source": [
    "### Execute full pipelie\n",
    "\n",
    "The entire PICRUSt2 pipeline will be run using a single method, called `picrust2.methods.full_pipeline`. This method will run each of the 4 key steps: \n",
    "\n",
    "1. sequence placement\n",
    "2. hidden-state prediction of genomes\n",
    "3. metagenome prediction\n",
    "4. pathway-level predictions.\n",
    "\n",
    "More information on [Documentation](https://github.com/picrust/picrust2/wiki/Full-pipeline-script)."
   ]
  },
  {
   "cell_type": "code",
   "execution_count": 9,
   "id": "2c4f3874",
   "metadata": {
    "ExecuteTime": {
     "end_time": "2022-11-09T19:20:47.642417Z",
     "start_time": "2022-11-09T19:20:47.612547Z"
    },
    "execution": {
     "iopub.execute_input": "2023-09-04T18:32:27.874824Z",
     "iopub.status.busy": "2023-09-04T18:32:27.874386Z",
     "iopub.status.idle": "2023-09-04T18:38:24.293813Z",
     "shell.execute_reply": "2023-09-04T18:38:24.294734Z"
    },
    "papermill": {
     "duration": 356.455351,
     "end_time": "2023-09-04T18:38:24.295001",
     "exception": false,
     "start_time": "2023-09-04T18:32:27.839650",
     "status": "completed"
    },
    "scrolled": true,
    "tags": []
   },
   "outputs": [
    {
     "name": "stderr",
     "output_type": "stream",
     "text": [
      "668 of 668 sequence ids overlap between input table and FASTA.\n",
      "\n",
      "Placing sequences onto reference tree\n",
      "place_seqs.py --study_fasta /tmp/tmp2kw8dnwl/seqs.fna --ref_dir /home/lauro/anaconda3/envs/qiime2-2021.11/lib/python3.8/site-packages/picrust2/default_files/prokaryotic/pro_ref --out_tree /tmp/tmp2kw8dnwl/picrust2_out/out.tre --processes 6 --intermediate /tmp/tmp2kw8dnwl/picrust2_out/intermediate/place_seqs --min_align 0.8 --chunk_size 5000 --placement_tool sepp --verbose\n"
     ]
    },
    {
     "name": "stdout",
     "output_type": "stream",
     "text": [
      "\n",
      "['run_sepp.py', '--tree', '/home/lauro/anaconda3/envs/qiime2-2021.11/lib/python3.8/site-packages/picrust2/default_files/prokaryotic/pro_ref/pro_ref.tre', '--raxml', '/home/lauro/anaconda3/envs/qiime2-2021.11/lib/python3.8/site-packages/picrust2/default_files/prokaryotic/pro_ref/pro_ref.raxml_info', '--cpu', '6', '--molecule', 'dna', '--outdir', '/tmp/tmp2kw8dnwl/picrust2_out/intermediate/place_seqs/sepp_out', '-seed', '297834', '--alignment', '/home/lauro/anaconda3/envs/qiime2-2021.11/lib/python3.8/site-packages/picrust2/default_files/prokaryotic/pro_ref/pro_ref.fna', '--fragment', '/tmp/tmp2kw8dnwl/picrust2_out/intermediate/place_seqs/study_seqs_filtered.fasta']\n",
      "\n",
      "                                              ....      ....  \n",
      "                                             '' '||.   .||'   \n",
      "                                                  ||  ||      \n",
      "                                                  '|.|'       \n",
      "     ...'   ....   ... ...  ... ...   ....        .|'|.       \n",
      "    |  ||  '' .||   ||'  ||  ||'  || '' .||      .|'  ||      \n",
      "     |''   .|' ||   ||    |  ||    | .|' ||     .|'|.  ||     \n",
      "    '....  '|..'|'. ||...'   ||...'  '|..'|.    '||'    ||:.  \n",
      "    '....'          ||       ||                               \n",
      "                   ''''     ''''   v0.6.1 (c) 2017-2020\n",
      "                                   by Lucas Czech and Pierre Barbera\n",
      "\n",
      "Invocation:                        gappa examine graft --jplace-path /tmp/tmp2kw8dnwl/picrust2_out/intermediate/place_seqs/sepp_out/output_placement.json --fully-resolve --out-dir /tmp/tmp2kw8dnwl/picrust2_out/intermediate/place_seqs/sepp_out\n",
      "Command:                           gappa examine graft\n",
      "\n",
      "Input:\n",
      "  --jplace-path                    /tmp/tmp2kw8dnwl/picrust2_out/intermediate/place_seqs/sepp_out/output_placement.json\n",
      "\n",
      "Settings:\n",
      "  --fully-resolve                  true\n",
      "  --name-prefix\n",
      "\n",
      "Output:\n",
      "  --out-dir                        /tmp/tmp2kw8dnwl/picrust2_out/intermediate/place_seqs/sepp_out\n",
      "  --file-prefix                    \n",
      "  --file-suffix\n",
      "\n",
      "Global Options:\n",
      "  --allow-file-overwriting         false\n",
      "  --verbose                        false\n",
      "  --threads                        4\n",
      "  --log-file\n",
      "\n",
      "Run the following command to get the references that need to be cited:\n",
      "`gappa tools citation Czech2020-genesis-and-gappa`\n",
      "\n",
      "Started 2023-09-04 18:34:50\n",
      "\n",
      "Found 1 jplace file\n",
      "\n",
      "Finished 2023-09-04 18:34:50\n",
      "\n",
      "\n"
     ]
    },
    {
     "name": "stderr",
     "output_type": "stream",
     "text": [
      "hmmalign --trim --dna --mapali /home/lauro/anaconda3/envs/qiime2-2021.11/lib/python3.8/site-packages/picrust2/default_files/prokaryotic/pro_ref/pro_ref.fna --informat FASTA -o /tmp/tmp2kw8dnwl/picrust2_out/intermediate/place_seqs/query_align.stockholm /home/lauro/anaconda3/envs/qiime2-2021.11/lib/python3.8/site-packages/picrust2/default_files/prokaryotic/pro_ref/pro_ref.hmm /tmp/tmp2kw8dnwl/seqs.fna\n",
      "\n",
      "Raw input sequences ranged in length from 282 to 430\n",
      "\n",
      "run_sepp.py --tree /home/lauro/anaconda3/envs/qiime2-2021.11/lib/python3.8/site-packages/picrust2/default_files/prokaryotic/pro_ref/pro_ref.tre --raxml /home/lauro/anaconda3/envs/qiime2-2021.11/lib/python3.8/site-packages/picrust2/default_files/prokaryotic/pro_ref/pro_ref.raxml_info --cpu 6 --molecule dna --outdir /tmp/tmp2kw8dnwl/picrust2_out/intermediate/place_seqs/sepp_out -seed 297834 --alignment /home/lauro/anaconda3/envs/qiime2-2021.11/lib/python3.8/site-packages/picrust2/default_files/prokaryotic/pro_ref/pro_ref.fna --fragment /tmp/tmp2kw8dnwl/picrust2_out/intermediate/place_seqs/study_seqs_filtered.fasta\n",
      "[18:32:57] config.py (line 349):     INFO: Seed number: 297834\n",
      "[18:32:57] algorithm.py (line 258):     INFO: Reading input alignment: <_io.TextIOWrapper name='/home/lauro/anaconda3/envs/qiime2-2021.11/lib/python3.8/site-packages/picrust2/default_files/prokaryotic/pro_ref/pro_ref.fna' mode='r' encoding='UTF-8'>\n",
      "[18:32:57] algorithm.py (line 265):     INFO: Reading input tree: <_io.TextIOWrapper name='/home/lauro/anaconda3/envs/qiime2-2021.11/lib/python3.8/site-packages/picrust2/default_files/prokaryotic/pro_ref/pro_ref.tre' mode='r' encoding='UTF-8'>\n",
      "[18:32:59] algorithm.py (line 238):     INFO: Decomposition Sizes are set to alignment: 2000 placement: 2000\n",
      "[18:33:02] exhaustive.py (line 350):     INFO: Breaking into 16 placement subsets.\n",
      "[18:33:03] exhaustive.py (line 397):     INFO: Breaking into 16 alignment subsets.\n",
      "[18:33:03] filemgr.py (line 129):     INFO: Root temp directory built: /tmp/sepp/output.enq60j9y\n",
      "[18:33:03] exhaustive.py (line 412):     INFO: Breaking each alignment subset into 3 fragment chunks.\n",
      "[18:33:05] jobs.py (line 131):     INFO: Finished hmmbuild Job with input: /tmp/sepp/output.enq60j9y/root/P_0/A_0_0/hmmbuild.input.z0ug345i.fasta\n",
      "[18:33:05] jobs.py (line 131):     INFO: Finished hmmbuild Job with input: /tmp/sepp/output.enq60j9y/root/P_1/A_1_0/hmmbuild.input.9ltr5hut.fasta\n",
      "[18:33:05] jobs.py (line 131):     INFO: Finished hmmbuild Job with input: /tmp/sepp/output.enq60j9y/root/P_4/A_4_0/hmmbuild.input.ll738sls.fasta\n",
      "[18:33:05] jobs.py (line 131):     INFO: Finished hmmbuild Job with input: /tmp/sepp/output.enq60j9y/root/P_5/A_5_0/hmmbuild.input.fzk7a019.fasta\n",
      "[18:33:05] jobs.py (line 131):     INFO: Finished hmmbuild Job with input: /tmp/sepp/output.enq60j9y/root/P_2/A_2_0/hmmbuild.input.oiyd739w.fasta\n",
      "[18:33:05] jobs.py (line 131):     INFO: Finished hmmbuild Job with input: /tmp/sepp/output.enq60j9y/root/P_3/A_3_0/hmmbuild.input.3171opf_.fasta\n",
      "[18:33:06] jobs.py (line 131):     INFO: Finished hmmbuild Job with input: /tmp/sepp/output.enq60j9y/root/P_11/A_11_0/hmmbuild.input.7eqg7y2g.fasta\n",
      "[18:33:06] jobs.py (line 131):     INFO: Finished hmmbuild Job with input: /tmp/sepp/output.enq60j9y/root/P_9/A_9_0/hmmbuild.input.7g3expi3.fasta\n",
      "[18:33:06] jobs.py (line 131):     INFO: Finished hmmbuild Job with input: /tmp/sepp/output.enq60j9y/root/P_8/A_8_0/hmmbuild.input.xfg2dikf.fasta\n",
      "[18:33:06] jobs.py (line 131):     INFO: Finished hmmbuild Job with input: /tmp/sepp/output.enq60j9y/root/P_6/A_6_0/hmmbuild.input.jnld8y89.fasta\n",
      "[18:33:06] jobs.py (line 131):     INFO: Finished hmmbuild Job with input: /tmp/sepp/output.enq60j9y/root/P_7/A_7_0/hmmbuild.input._g427s9i.fasta\n",
      "[18:33:06] jobs.py (line 131):     INFO: Finished hmmbuild Job with input: /tmp/sepp/output.enq60j9y/root/P_10/A_10_0/hmmbuild.input.i4x3nffj.fasta\n",
      "[18:33:06] jobs.py (line 131):     INFO: Finished hmmbuild Job with input: /tmp/sepp/output.enq60j9y/root/P_12/A_12_0/hmmbuild.input.yqfh29m4.fasta\n",
      "[18:33:07] jobs.py (line 131):     INFO: Finished hmmbuild Job with input: /tmp/sepp/output.enq60j9y/root/P_13/A_13_0/hmmbuild.input.kop42ihy.fasta\n",
      "[18:33:07] jobs.py (line 131):     INFO: Finished hmmbuild Job with input: /tmp/sepp/output.enq60j9y/root/P_15/A_15_0/hmmbuild.input.uro4_hib.fasta\n",
      "[18:33:07] jobs.py (line 131):     INFO: Finished hmmbuild Job with input: /tmp/sepp/output.enq60j9y/root/P_14/A_14_0/hmmbuild.input.6zs_yuap.fasta\n",
      "[18:33:10] jobs.py (line 131):     INFO: Finished hmmsearch Job with input: model:/tmp/sepp/output.enq60j9y/root/P_1/A_1_0/hmmbuild.model.vd52vktl, fragments:/tmp/sepp/output.enq60j9y/fragment_chunks/fragment_chunk_1t42wg0ey.fasta, elim:99999999, filter:False, output:/tmp/sepp/output.enq60j9y/root/P_1/A_1_0/FC_1_0_1/hmmsearch.results.9p_h2vln\n",
      "[18:33:10] jobs.py (line 131):     INFO: Finished hmmsearch Job with input: model:/tmp/sepp/output.enq60j9y/root/P_1/A_1_0/hmmbuild.model.vd52vktl, fragments:/tmp/sepp/output.enq60j9y/fragment_chunks/fragment_chunk_2cx39pqj_.fasta, elim:99999999, filter:False, output:/tmp/sepp/output.enq60j9y/root/P_1/A_1_0/FC_1_0_2/hmmsearch.results.cewv69uo\n",
      "[18:33:11] jobs.py (line 131):     INFO: Finished hmmsearch Job with input: model:/tmp/sepp/output.enq60j9y/root/P_0/A_0_0/hmmbuild.model.achy4vr7, fragments:/tmp/sepp/output.enq60j9y/fragment_chunks/fragment_chunk_0z5g8c76v.fasta, elim:99999999, filter:False, output:/tmp/sepp/output.enq60j9y/root/P_0/A_0_0/FC_0_0_0/hmmsearch.results.k31qgcvc\n",
      "[18:33:11] jobs.py (line 131):     INFO: Finished hmmsearch Job with input: model:/tmp/sepp/output.enq60j9y/root/P_0/A_0_0/hmmbuild.model.achy4vr7, fragments:/tmp/sepp/output.enq60j9y/fragment_chunks/fragment_chunk_1t42wg0ey.fasta, elim:99999999, filter:False, output:/tmp/sepp/output.enq60j9y/root/P_0/A_0_0/FC_0_0_1/hmmsearch.results.zse4kl46\n",
      "[18:33:11] jobs.py (line 131):     INFO: Finished hmmsearch Job with input: model:/tmp/sepp/output.enq60j9y/root/P_0/A_0_0/hmmbuild.model.achy4vr7, fragments:/tmp/sepp/output.enq60j9y/fragment_chunks/fragment_chunk_2cx39pqj_.fasta, elim:99999999, filter:False, output:/tmp/sepp/output.enq60j9y/root/P_0/A_0_0/FC_0_0_2/hmmsearch.results.f0yjs3l3\n",
      "[18:33:11] jobs.py (line 131):     INFO: Finished hmmsearch Job with input: model:/tmp/sepp/output.enq60j9y/root/P_1/A_1_0/hmmbuild.model.vd52vktl, fragments:/tmp/sepp/output.enq60j9y/fragment_chunks/fragment_chunk_0z5g8c76v.fasta, elim:99999999, filter:False, output:/tmp/sepp/output.enq60j9y/root/P_1/A_1_0/FC_1_0_0/hmmsearch.results.7drn8tdp\n",
      "[18:33:14] jobs.py (line 131):     INFO: Finished hmmsearch Job with input: model:/tmp/sepp/output.enq60j9y/root/P_4/A_4_0/hmmbuild.model.khkmko7d, fragments:/tmp/sepp/output.enq60j9y/fragment_chunks/fragment_chunk_2cx39pqj_.fasta, elim:99999999, filter:False, output:/tmp/sepp/output.enq60j9y/root/P_4/A_4_0/FC_4_0_2/hmmsearch.results.ig13c0zt\n",
      "[18:33:14] jobs.py (line 131):     INFO: Finished hmmsearch Job with input: model:/tmp/sepp/output.enq60j9y/root/P_5/A_5_0/hmmbuild.model.v_vk6yea, fragments:/tmp/sepp/output.enq60j9y/fragment_chunks/fragment_chunk_0z5g8c76v.fasta, elim:99999999, filter:False, output:/tmp/sepp/output.enq60j9y/root/P_5/A_5_0/FC_5_0_0/hmmsearch.results.mvq7yjdi\n",
      "[18:33:14] jobs.py (line 131):     INFO: Finished hmmsearch Job with input: model:/tmp/sepp/output.enq60j9y/root/P_4/A_4_0/hmmbuild.model.khkmko7d, fragments:/tmp/sepp/output.enq60j9y/fragment_chunks/fragment_chunk_0z5g8c76v.fasta, elim:99999999, filter:False, output:/tmp/sepp/output.enq60j9y/root/P_4/A_4_0/FC_4_0_0/hmmsearch.results.087va0d9\n",
      "[18:33:15] jobs.py (line 131):     INFO: Finished hmmsearch Job with input: model:/tmp/sepp/output.enq60j9y/root/P_4/A_4_0/hmmbuild.model.khkmko7d, fragments:/tmp/sepp/output.enq60j9y/fragment_chunks/fragment_chunk_1t42wg0ey.fasta, elim:99999999, filter:False, output:/tmp/sepp/output.enq60j9y/root/P_4/A_4_0/FC_4_0_1/hmmsearch.results.r3r3yltt\n",
      "[18:33:16] jobs.py (line 131):     INFO: Finished hmmsearch Job with input: model:/tmp/sepp/output.enq60j9y/root/P_5/A_5_0/hmmbuild.model.v_vk6yea, fragments:/tmp/sepp/output.enq60j9y/fragment_chunks/fragment_chunk_1t42wg0ey.fasta, elim:99999999, filter:False, output:/tmp/sepp/output.enq60j9y/root/P_5/A_5_0/FC_5_0_1/hmmsearch.results.8d4ysgmy\n",
      "[18:33:16] jobs.py (line 131):     INFO: Finished hmmsearch Job with input: model:/tmp/sepp/output.enq60j9y/root/P_5/A_5_0/hmmbuild.model.v_vk6yea, fragments:/tmp/sepp/output.enq60j9y/fragment_chunks/fragment_chunk_2cx39pqj_.fasta, elim:99999999, filter:False, output:/tmp/sepp/output.enq60j9y/root/P_5/A_5_0/FC_5_0_2/hmmsearch.results.oqm8_yt4\n",
      "[18:33:19] jobs.py (line 131):     INFO: Finished hmmsearch Job with input: model:/tmp/sepp/output.enq60j9y/root/P_2/A_2_0/hmmbuild.model.klfgpcti, fragments:/tmp/sepp/output.enq60j9y/fragment_chunks/fragment_chunk_0z5g8c76v.fasta, elim:99999999, filter:False, output:/tmp/sepp/output.enq60j9y/root/P_2/A_2_0/FC_2_0_0/hmmsearch.results.ddi37vj6\n",
      "[18:33:19] jobs.py (line 131):     INFO: Finished hmmsearch Job with input: model:/tmp/sepp/output.enq60j9y/root/P_3/A_3_0/hmmbuild.model.bgwns67c, fragments:/tmp/sepp/output.enq60j9y/fragment_chunks/fragment_chunk_1t42wg0ey.fasta, elim:99999999, filter:False, output:/tmp/sepp/output.enq60j9y/root/P_3/A_3_0/FC_3_0_1/hmmsearch.results.6mqpnc92\n",
      "[18:33:19] jobs.py (line 131):     INFO: Finished hmmsearch Job with input: model:/tmp/sepp/output.enq60j9y/root/P_3/A_3_0/hmmbuild.model.bgwns67c, fragments:/tmp/sepp/output.enq60j9y/fragment_chunks/fragment_chunk_2cx39pqj_.fasta, elim:99999999, filter:False, output:/tmp/sepp/output.enq60j9y/root/P_3/A_3_0/FC_3_0_2/hmmsearch.results.u6rtebba\n",
      "[18:33:19] jobs.py (line 131):     INFO: Finished hmmsearch Job with input: model:/tmp/sepp/output.enq60j9y/root/P_2/A_2_0/hmmbuild.model.klfgpcti, fragments:/tmp/sepp/output.enq60j9y/fragment_chunks/fragment_chunk_1t42wg0ey.fasta, elim:99999999, filter:False, output:/tmp/sepp/output.enq60j9y/root/P_2/A_2_0/FC_2_0_1/hmmsearch.results.ky4omtbg\n",
      "[18:33:19] jobs.py (line 131):     INFO: Finished hmmsearch Job with input: model:/tmp/sepp/output.enq60j9y/root/P_2/A_2_0/hmmbuild.model.klfgpcti, fragments:/tmp/sepp/output.enq60j9y/fragment_chunks/fragment_chunk_2cx39pqj_.fasta, elim:99999999, filter:False, output:/tmp/sepp/output.enq60j9y/root/P_2/A_2_0/FC_2_0_2/hmmsearch.results.k_3uokkw\n",
      "[18:33:20] jobs.py (line 131):     INFO: Finished hmmsearch Job with input: model:/tmp/sepp/output.enq60j9y/root/P_3/A_3_0/hmmbuild.model.bgwns67c, fragments:/tmp/sepp/output.enq60j9y/fragment_chunks/fragment_chunk_0z5g8c76v.fasta, elim:99999999, filter:False, output:/tmp/sepp/output.enq60j9y/root/P_3/A_3_0/FC_3_0_0/hmmsearch.results.r214d0zp\n",
      "[18:33:22] jobs.py (line 131):     INFO: Finished hmmsearch Job with input: model:/tmp/sepp/output.enq60j9y/root/P_11/A_11_0/hmmbuild.model.k4db5xu2, fragments:/tmp/sepp/output.enq60j9y/fragment_chunks/fragment_chunk_2cx39pqj_.fasta, elim:99999999, filter:False, output:/tmp/sepp/output.enq60j9y/root/P_11/A_11_0/FC_11_0_2/hmmsearch.results.jp8d5axd\n",
      "[18:33:22] jobs.py (line 131):     INFO: Finished hmmsearch Job with input: model:/tmp/sepp/output.enq60j9y/root/P_9/A_9_0/hmmbuild.model.ogecwunm, fragments:/tmp/sepp/output.enq60j9y/fragment_chunks/fragment_chunk_1t42wg0ey.fasta, elim:99999999, filter:False, output:/tmp/sepp/output.enq60j9y/root/P_9/A_9_0/FC_9_0_1/hmmsearch.results.58kb6rz9\n",
      "[18:33:23] jobs.py (line 131):     INFO: Finished hmmsearch Job with input: model:/tmp/sepp/output.enq60j9y/root/P_11/A_11_0/hmmbuild.model.k4db5xu2, fragments:/tmp/sepp/output.enq60j9y/fragment_chunks/fragment_chunk_0z5g8c76v.fasta, elim:99999999, filter:False, output:/tmp/sepp/output.enq60j9y/root/P_11/A_11_0/FC_11_0_0/hmmsearch.results.kesex1fr\n",
      "[18:33:24] jobs.py (line 131):     INFO: Finished hmmsearch Job with input: model:/tmp/sepp/output.enq60j9y/root/P_9/A_9_0/hmmbuild.model.ogecwunm, fragments:/tmp/sepp/output.enq60j9y/fragment_chunks/fragment_chunk_0z5g8c76v.fasta, elim:99999999, filter:False, output:/tmp/sepp/output.enq60j9y/root/P_9/A_9_0/FC_9_0_0/hmmsearch.results.nadj7pl0\n",
      "[18:33:24] jobs.py (line 131):     INFO: Finished hmmsearch Job with input: model:/tmp/sepp/output.enq60j9y/root/P_11/A_11_0/hmmbuild.model.k4db5xu2, fragments:/tmp/sepp/output.enq60j9y/fragment_chunks/fragment_chunk_1t42wg0ey.fasta, elim:99999999, filter:False, output:/tmp/sepp/output.enq60j9y/root/P_11/A_11_0/FC_11_0_1/hmmsearch.results.3s0o4qm4\n",
      "[18:33:24] jobs.py (line 131):     INFO: Finished hmmsearch Job with input: model:/tmp/sepp/output.enq60j9y/root/P_9/A_9_0/hmmbuild.model.ogecwunm, fragments:/tmp/sepp/output.enq60j9y/fragment_chunks/fragment_chunk_2cx39pqj_.fasta, elim:99999999, filter:False, output:/tmp/sepp/output.enq60j9y/root/P_9/A_9_0/FC_9_0_2/hmmsearch.results.5ffys4c1\n",
      "[18:33:25] jobs.py (line 131):     INFO: Finished hmmsearch Job with input: model:/tmp/sepp/output.enq60j9y/root/P_8/A_8_0/hmmbuild.model.4ot7ef4w, fragments:/tmp/sepp/output.enq60j9y/fragment_chunks/fragment_chunk_0z5g8c76v.fasta, elim:99999999, filter:False, output:/tmp/sepp/output.enq60j9y/root/P_8/A_8_0/FC_8_0_0/hmmsearch.results.m52cy8d_\n",
      "[18:33:27] jobs.py (line 131):     INFO: Finished hmmsearch Job with input: model:/tmp/sepp/output.enq60j9y/root/P_8/A_8_0/hmmbuild.model.4ot7ef4w, fragments:/tmp/sepp/output.enq60j9y/fragment_chunks/fragment_chunk_1t42wg0ey.fasta, elim:99999999, filter:False, output:/tmp/sepp/output.enq60j9y/root/P_8/A_8_0/FC_8_0_1/hmmsearch.results.wpraxqd2\n",
      "[18:33:27] jobs.py (line 131):     INFO: Finished hmmsearch Job with input: model:/tmp/sepp/output.enq60j9y/root/P_6/A_6_0/hmmbuild.model.5hapqe2e, fragments:/tmp/sepp/output.enq60j9y/fragment_chunks/fragment_chunk_1t42wg0ey.fasta, elim:99999999, filter:False, output:/tmp/sepp/output.enq60j9y/root/P_6/A_6_0/FC_6_0_1/hmmsearch.results.97uh0634\n",
      "[18:33:28] jobs.py (line 131):     INFO: Finished hmmsearch Job with input: model:/tmp/sepp/output.enq60j9y/root/P_8/A_8_0/hmmbuild.model.4ot7ef4w, fragments:/tmp/sepp/output.enq60j9y/fragment_chunks/fragment_chunk_2cx39pqj_.fasta, elim:99999999, filter:False, output:/tmp/sepp/output.enq60j9y/root/P_8/A_8_0/FC_8_0_2/hmmsearch.results.upbsx_qu\n",
      "[18:33:28] jobs.py (line 131):     INFO: Finished hmmsearch Job with input: model:/tmp/sepp/output.enq60j9y/root/P_6/A_6_0/hmmbuild.model.5hapqe2e, fragments:/tmp/sepp/output.enq60j9y/fragment_chunks/fragment_chunk_0z5g8c76v.fasta, elim:99999999, filter:False, output:/tmp/sepp/output.enq60j9y/root/P_6/A_6_0/FC_6_0_0/hmmsearch.results._4ga_w5i\n",
      "[18:33:29] jobs.py (line 131):     INFO: Finished hmmsearch Job with input: model:/tmp/sepp/output.enq60j9y/root/P_6/A_6_0/hmmbuild.model.5hapqe2e, fragments:/tmp/sepp/output.enq60j9y/fragment_chunks/fragment_chunk_2cx39pqj_.fasta, elim:99999999, filter:False, output:/tmp/sepp/output.enq60j9y/root/P_6/A_6_0/FC_6_0_2/hmmsearch.results.3oqk4vhv\n",
      "[18:33:29] jobs.py (line 131):     INFO: Finished hmmsearch Job with input: model:/tmp/sepp/output.enq60j9y/root/P_7/A_7_0/hmmbuild.model.rtzy2ygy, fragments:/tmp/sepp/output.enq60j9y/fragment_chunks/fragment_chunk_0z5g8c76v.fasta, elim:99999999, filter:False, output:/tmp/sepp/output.enq60j9y/root/P_7/A_7_0/FC_7_0_0/hmmsearch.results.cve3t7v7\n",
      "[18:33:31] jobs.py (line 131):     INFO: Finished hmmsearch Job with input: model:/tmp/sepp/output.enq60j9y/root/P_7/A_7_0/hmmbuild.model.rtzy2ygy, fragments:/tmp/sepp/output.enq60j9y/fragment_chunks/fragment_chunk_1t42wg0ey.fasta, elim:99999999, filter:False, output:/tmp/sepp/output.enq60j9y/root/P_7/A_7_0/FC_7_0_1/hmmsearch.results.3oe8fph7\n",
      "[18:33:31] jobs.py (line 131):     INFO: Finished hmmsearch Job with input: model:/tmp/sepp/output.enq60j9y/root/P_10/A_10_0/hmmbuild.model.ew9fjb24, fragments:/tmp/sepp/output.enq60j9y/fragment_chunks/fragment_chunk_0z5g8c76v.fasta, elim:99999999, filter:False, output:/tmp/sepp/output.enq60j9y/root/P_10/A_10_0/FC_10_0_0/hmmsearch.results.zekiuggc\n",
      "[18:33:32] jobs.py (line 131):     INFO: Finished hmmsearch Job with input: model:/tmp/sepp/output.enq60j9y/root/P_10/A_10_0/hmmbuild.model.ew9fjb24, fragments:/tmp/sepp/output.enq60j9y/fragment_chunks/fragment_chunk_1t42wg0ey.fasta, elim:99999999, filter:False, output:/tmp/sepp/output.enq60j9y/root/P_10/A_10_0/FC_10_0_1/hmmsearch.results.d5b0ydrd\n",
      "[18:33:32] jobs.py (line 131):     INFO: Finished hmmsearch Job with input: model:/tmp/sepp/output.enq60j9y/root/P_7/A_7_0/hmmbuild.model.rtzy2ygy, fragments:/tmp/sepp/output.enq60j9y/fragment_chunks/fragment_chunk_2cx39pqj_.fasta, elim:99999999, filter:False, output:/tmp/sepp/output.enq60j9y/root/P_7/A_7_0/FC_7_0_2/hmmsearch.results.f9gr_x9j\n",
      "[18:33:34] jobs.py (line 131):     INFO: Finished hmmsearch Job with input: model:/tmp/sepp/output.enq60j9y/root/P_10/A_10_0/hmmbuild.model.ew9fjb24, fragments:/tmp/sepp/output.enq60j9y/fragment_chunks/fragment_chunk_2cx39pqj_.fasta, elim:99999999, filter:False, output:/tmp/sepp/output.enq60j9y/root/P_10/A_10_0/FC_10_0_2/hmmsearch.results.ugypf_lg\n",
      "[18:33:34] jobs.py (line 131):     INFO: Finished hmmsearch Job with input: model:/tmp/sepp/output.enq60j9y/root/P_12/A_12_0/hmmbuild.model.w80zi3s_, fragments:/tmp/sepp/output.enq60j9y/fragment_chunks/fragment_chunk_1t42wg0ey.fasta, elim:99999999, filter:False, output:/tmp/sepp/output.enq60j9y/root/P_12/A_12_0/FC_12_0_1/hmmsearch.results.8jsd26mg\n",
      "[18:33:34] jobs.py (line 131):     INFO: Finished hmmsearch Job with input: model:/tmp/sepp/output.enq60j9y/root/P_12/A_12_0/hmmbuild.model.w80zi3s_, fragments:/tmp/sepp/output.enq60j9y/fragment_chunks/fragment_chunk_0z5g8c76v.fasta, elim:99999999, filter:False, output:/tmp/sepp/output.enq60j9y/root/P_12/A_12_0/FC_12_0_0/hmmsearch.results.y_ktemaw\n",
      "[18:33:36] jobs.py (line 131):     INFO: Finished hmmsearch Job with input: model:/tmp/sepp/output.enq60j9y/root/P_13/A_13_0/hmmbuild.model.2mcrlzpc, fragments:/tmp/sepp/output.enq60j9y/fragment_chunks/fragment_chunk_0z5g8c76v.fasta, elim:99999999, filter:False, output:/tmp/sepp/output.enq60j9y/root/P_13/A_13_0/FC_13_0_0/hmmsearch.results.r0x6nlkw\n",
      "[18:33:36] jobs.py (line 131):     INFO: Finished hmmsearch Job with input: model:/tmp/sepp/output.enq60j9y/root/P_13/A_13_0/hmmbuild.model.2mcrlzpc, fragments:/tmp/sepp/output.enq60j9y/fragment_chunks/fragment_chunk_1t42wg0ey.fasta, elim:99999999, filter:False, output:/tmp/sepp/output.enq60j9y/root/P_13/A_13_0/FC_13_0_1/hmmsearch.results.w6xzoauf\n",
      "[18:33:36] jobs.py (line 131):     INFO: Finished hmmsearch Job with input: model:/tmp/sepp/output.enq60j9y/root/P_12/A_12_0/hmmbuild.model.w80zi3s_, fragments:/tmp/sepp/output.enq60j9y/fragment_chunks/fragment_chunk_2cx39pqj_.fasta, elim:99999999, filter:False, output:/tmp/sepp/output.enq60j9y/root/P_12/A_12_0/FC_12_0_2/hmmsearch.results.2qs93509\n",
      "[18:33:38] jobs.py (line 131):     INFO: Finished hmmsearch Job with input: model:/tmp/sepp/output.enq60j9y/root/P_15/A_15_0/hmmbuild.model.1neunn9x, fragments:/tmp/sepp/output.enq60j9y/fragment_chunks/fragment_chunk_1t42wg0ey.fasta, elim:99999999, filter:False, output:/tmp/sepp/output.enq60j9y/root/P_15/A_15_0/FC_15_0_1/hmmsearch.results.vauyql6e\n",
      "[18:33:38] jobs.py (line 131):     INFO: Finished hmmsearch Job with input: model:/tmp/sepp/output.enq60j9y/root/P_15/A_15_0/hmmbuild.model.1neunn9x, fragments:/tmp/sepp/output.enq60j9y/fragment_chunks/fragment_chunk_0z5g8c76v.fasta, elim:99999999, filter:False, output:/tmp/sepp/output.enq60j9y/root/P_15/A_15_0/FC_15_0_0/hmmsearch.results.z1rbdv1d\n",
      "[18:33:39] jobs.py (line 131):     INFO: Finished hmmsearch Job with input: model:/tmp/sepp/output.enq60j9y/root/P_13/A_13_0/hmmbuild.model.2mcrlzpc, fragments:/tmp/sepp/output.enq60j9y/fragment_chunks/fragment_chunk_2cx39pqj_.fasta, elim:99999999, filter:False, output:/tmp/sepp/output.enq60j9y/root/P_13/A_13_0/FC_13_0_2/hmmsearch.results.4evwei9g\n",
      "[18:33:39] jobs.py (line 131):     INFO: Finished hmmsearch Job with input: model:/tmp/sepp/output.enq60j9y/root/P_14/A_14_0/hmmbuild.model.vmrjmk9j, fragments:/tmp/sepp/output.enq60j9y/fragment_chunks/fragment_chunk_0z5g8c76v.fasta, elim:99999999, filter:False, output:/tmp/sepp/output.enq60j9y/root/P_14/A_14_0/FC_14_0_0/hmmsearch.results.nbw3lkge\n",
      "[18:33:40] jobs.py (line 131):     INFO: Finished hmmsearch Job with input: model:/tmp/sepp/output.enq60j9y/root/P_15/A_15_0/hmmbuild.model.1neunn9x, fragments:/tmp/sepp/output.enq60j9y/fragment_chunks/fragment_chunk_2cx39pqj_.fasta, elim:99999999, filter:False, output:/tmp/sepp/output.enq60j9y/root/P_15/A_15_0/FC_15_0_2/hmmsearch.results.kx8lvt5d\n",
      "[18:33:40] jobs.py (line 131):     INFO: Finished hmmsearch Job with input: model:/tmp/sepp/output.enq60j9y/root/P_14/A_14_0/hmmbuild.model.vmrjmk9j, fragments:/tmp/sepp/output.enq60j9y/fragment_chunks/fragment_chunk_1t42wg0ey.fasta, elim:99999999, filter:False, output:/tmp/sepp/output.enq60j9y/root/P_14/A_14_0/FC_14_0_1/hmmsearch.results.bnop1c4o\n",
      "[18:33:41] jobs.py (line 131):     INFO: Finished hmmsearch Job with input: model:/tmp/sepp/output.enq60j9y/root/P_14/A_14_0/hmmbuild.model.vmrjmk9j, fragments:/tmp/sepp/output.enq60j9y/fragment_chunks/fragment_chunk_2cx39pqj_.fasta, elim:99999999, filter:False, output:/tmp/sepp/output.enq60j9y/root/P_14/A_14_0/FC_14_0_2/hmmsearch.results.uomr5kjk\n",
      "[18:33:41] exhaustive.py (line 80):  WARNING: Fragments [] are not scored against any subset\n",
      "[18:33:41] exhaustive.py (line 151):     INFO: Merging sub-alignments for placement problem : P_0.\n",
      "[18:33:41] jobs.py (line 131):     INFO: Finished hmmalign Job with input: model:/tmp/sepp/output.enq60j9y/root/P_1/A_1_0/hmmbuild.model.vd52vktl, fragments:/tmp/sepp/output.enq60j9y/root/P_1/A_1_0/FC_1_0_2/hmmalign.frag.lzsaervl.fasta, trim:False, base_alignment:/tmp/sepp/output.enq60j9y/root/P_1/A_1_0/hmmbuild.input.9ltr5hut.fasta\n",
      "[18:33:41] jobs.py (line 131):     INFO: Finished hmmalign Job with input: model:/tmp/sepp/output.enq60j9y/root/P_5/A_5_0/hmmbuild.model.v_vk6yea, fragments:/tmp/sepp/output.enq60j9y/root/P_5/A_5_0/FC_5_0_0/hmmalign.frag.vb5nox14.fasta, trim:False, base_alignment:/tmp/sepp/output.enq60j9y/root/P_5/A_5_0/hmmbuild.input.fzk7a019.fasta\n",
      "[18:33:41] jobs.py (line 131):     INFO: Finished hmmalign Job with input: model:/tmp/sepp/output.enq60j9y/root/P_5/A_5_0/hmmbuild.model.v_vk6yea, fragments:/tmp/sepp/output.enq60j9y/root/P_5/A_5_0/FC_5_0_1/hmmalign.frag.8ryq61h5.fasta, trim:False, base_alignment:/tmp/sepp/output.enq60j9y/root/P_5/A_5_0/hmmbuild.input.fzk7a019.fasta\n",
      "[18:33:41] jobs.py (line 131):     INFO: Finished hmmalign Job with input: model:/tmp/sepp/output.enq60j9y/root/P_5/A_5_0/hmmbuild.model.v_vk6yea, fragments:/tmp/sepp/output.enq60j9y/root/P_5/A_5_0/FC_5_0_2/hmmalign.frag.ke2xlceq.fasta, trim:False, base_alignment:/tmp/sepp/output.enq60j9y/root/P_5/A_5_0/hmmbuild.input.fzk7a019.fasta\n",
      "[18:33:41] jobs.py (line 131):     INFO: Finished hmmalign Job with input: model:/tmp/sepp/output.enq60j9y/root/P_1/A_1_0/hmmbuild.model.vd52vktl, fragments:/tmp/sepp/output.enq60j9y/root/P_1/A_1_0/FC_1_0_1/hmmalign.frag.zg6oq7vb.fasta, trim:False, base_alignment:/tmp/sepp/output.enq60j9y/root/P_1/A_1_0/hmmbuild.input.9ltr5hut.fasta\n",
      "[18:33:41] exhaustive.py (line 151):     INFO: Merging sub-alignments for placement problem : P_2.\n",
      "[18:33:41] jobs.py (line 131):     INFO: Finished hmmalign Job with input: model:/tmp/sepp/output.enq60j9y/root/P_1/A_1_0/hmmbuild.model.vd52vktl, fragments:/tmp/sepp/output.enq60j9y/root/P_1/A_1_0/FC_1_0_0/hmmalign.frag.xfk46drw.fasta, trim:False, base_alignment:/tmp/sepp/output.enq60j9y/root/P_1/A_1_0/hmmbuild.input.9ltr5hut.fasta\n",
      "[18:33:41] jobs.py (line 131):     INFO: Finished hmmalign Job with input: model:/tmp/sepp/output.enq60j9y/root/P_6/A_6_0/hmmbuild.model.5hapqe2e, fragments:/tmp/sepp/output.enq60j9y/root/P_6/A_6_0/FC_6_0_0/hmmalign.frag.8kb4gm4m.fasta, trim:False, base_alignment:/tmp/sepp/output.enq60j9y/root/P_6/A_6_0/hmmbuild.input.jnld8y89.fasta\n",
      "[18:33:41] jobs.py (line 131):     INFO: Finished hmmalign Job with input: model:/tmp/sepp/output.enq60j9y/root/P_6/A_6_0/hmmbuild.model.5hapqe2e, fragments:/tmp/sepp/output.enq60j9y/root/P_6/A_6_0/FC_6_0_2/hmmalign.frag.krs8utnd.fasta, trim:False, base_alignment:/tmp/sepp/output.enq60j9y/root/P_6/A_6_0/hmmbuild.input.jnld8y89.fasta\n",
      "[18:33:41] jobs.py (line 131):     INFO: Finished hmmalign Job with input: model:/tmp/sepp/output.enq60j9y/root/P_6/A_6_0/hmmbuild.model.5hapqe2e, fragments:/tmp/sepp/output.enq60j9y/root/P_6/A_6_0/FC_6_0_1/hmmalign.frag.s91a43ba.fasta, trim:False, base_alignment:/tmp/sepp/output.enq60j9y/root/P_6/A_6_0/hmmbuild.input.jnld8y89.fasta\n",
      "[18:33:41] jobs.py (line 131):     INFO: Finished hmmalign Job with input: model:/tmp/sepp/output.enq60j9y/root/P_7/A_7_0/hmmbuild.model.rtzy2ygy, fragments:/tmp/sepp/output.enq60j9y/root/P_7/A_7_0/FC_7_0_1/hmmalign.frag.6ifpfq2h.fasta, trim:False, base_alignment:/tmp/sepp/output.enq60j9y/root/P_7/A_7_0/hmmbuild.input._g427s9i.fasta\n",
      "[18:33:41] jobs.py (line 131):     INFO: Finished hmmalign Job with input: model:/tmp/sepp/output.enq60j9y/root/P_7/A_7_0/hmmbuild.model.rtzy2ygy, fragments:/tmp/sepp/output.enq60j9y/root/P_7/A_7_0/FC_7_0_0/hmmalign.frag.3eo9t_ct.fasta, trim:False, base_alignment:/tmp/sepp/output.enq60j9y/root/P_7/A_7_0/hmmbuild.input._g427s9i.fasta\n",
      "[18:33:41] jobs.py (line 131):     INFO: Finished hmmalign Job with input: model:/tmp/sepp/output.enq60j9y/root/P_7/A_7_0/hmmbuild.model.rtzy2ygy, fragments:/tmp/sepp/output.enq60j9y/root/P_7/A_7_0/FC_7_0_2/hmmalign.frag.xcsh7ekh.fasta, trim:False, base_alignment:/tmp/sepp/output.enq60j9y/root/P_7/A_7_0/hmmbuild.input._g427s9i.fasta\n",
      "[18:33:41] exhaustive.py (line 151):     INFO: Merging sub-alignments for placement problem : P_3.\n",
      "[18:33:41] jobs.py (line 131):     INFO: Finished hmmalign Job with input: model:/tmp/sepp/output.enq60j9y/root/P_8/A_8_0/hmmbuild.model.4ot7ef4w, fragments:/tmp/sepp/output.enq60j9y/root/P_8/A_8_0/FC_8_0_0/hmmalign.frag.kdvi1xvx.fasta, trim:False, base_alignment:/tmp/sepp/output.enq60j9y/root/P_8/A_8_0/hmmbuild.input.xfg2dikf.fasta\n",
      "[18:33:41] jobs.py (line 131):     INFO: Finished hmmalign Job with input: model:/tmp/sepp/output.enq60j9y/root/P_8/A_8_0/hmmbuild.model.4ot7ef4w, fragments:/tmp/sepp/output.enq60j9y/root/P_8/A_8_0/FC_8_0_1/hmmalign.frag.lxpv4rp_.fasta, trim:False, base_alignment:/tmp/sepp/output.enq60j9y/root/P_8/A_8_0/hmmbuild.input.xfg2dikf.fasta\n",
      "[18:33:41] jobs.py (line 131):     INFO: Finished hmmalign Job with input: model:/tmp/sepp/output.enq60j9y/root/P_8/A_8_0/hmmbuild.model.4ot7ef4w, fragments:/tmp/sepp/output.enq60j9y/root/P_8/A_8_0/FC_8_0_2/hmmalign.frag.3kcooa_m.fasta, trim:False, base_alignment:/tmp/sepp/output.enq60j9y/root/P_8/A_8_0/hmmbuild.input.xfg2dikf.fasta\n",
      "[18:33:42] exhaustive.py (line 151):     INFO: Merging sub-alignments for placement problem : P_4.\n",
      "[18:33:42] exhaustive.py (line 151):     INFO: Merging sub-alignments for placement problem : P_5.\n",
      "[18:33:42] alignment.py (line 556):     INFO: Merging extension sto file (/tmp/sepp/output.enq60j9y/root/P_5/A_5_0/FC_5_0_0/hmmalign.results.v0eayxj_) into base alignment (/tmp/sepp/output.enq60j9y/root/P_5/A_5_0/hmmbuild.input.fzk7a019.fasta).\n",
      "[18:33:42] alignment.py (line 556):     INFO: Merging extension sto file (/tmp/sepp/output.enq60j9y/root/P_5/A_5_0/FC_5_0_1/hmmalign.results.ulcnc2re) into base alignment (/tmp/sepp/output.enq60j9y/root/P_5/A_5_0/hmmbuild.input.fzk7a019.fasta).\n",
      "[18:33:42] alignment.py (line 556):     INFO: Merging extension sto file (/tmp/sepp/output.enq60j9y/root/P_5/A_5_0/FC_5_0_2/hmmalign.results.r1vhsuf4) into base alignment (/tmp/sepp/output.enq60j9y/root/P_5/A_5_0/hmmbuild.input.fzk7a019.fasta).\n",
      "[18:33:42] exhaustive.py (line 151):     INFO: Merging sub-alignments for placement problem : P_1.\n",
      "[18:33:42] alignment.py (line 556):     INFO: Merging extension sto file (/tmp/sepp/output.enq60j9y/root/P_1/A_1_0/FC_1_0_0/hmmalign.results.rct154lw) into base alignment (/tmp/sepp/output.enq60j9y/root/P_1/A_1_0/hmmbuild.input.9ltr5hut.fasta).\n",
      "[18:33:42] alignment.py (line 556):     INFO: Merging extension sto file (/tmp/sepp/output.enq60j9y/root/P_1/A_1_0/FC_1_0_1/hmmalign.results.d6239d6w) into base alignment (/tmp/sepp/output.enq60j9y/root/P_1/A_1_0/hmmbuild.input.9ltr5hut.fasta).\n",
      "[18:33:42] alignment.py (line 556):     INFO: Merging extension sto file (/tmp/sepp/output.enq60j9y/root/P_1/A_1_0/FC_1_0_2/hmmalign.results.4gerakom) into base alignment (/tmp/sepp/output.enq60j9y/root/P_1/A_1_0/hmmbuild.input.9ltr5hut.fasta).\n",
      "[18:33:42] jobs.py (line 131):     INFO: Finished hmmalign Job with input: model:/tmp/sepp/output.enq60j9y/root/P_9/A_9_0/hmmbuild.model.ogecwunm, fragments:/tmp/sepp/output.enq60j9y/root/P_9/A_9_0/FC_9_0_1/hmmalign.frag.yx7g_2k6.fasta, trim:False, base_alignment:/tmp/sepp/output.enq60j9y/root/P_9/A_9_0/hmmbuild.input.7g3expi3.fasta\n",
      "[18:33:42] jobs.py (line 131):     INFO: Finished hmmalign Job with input: model:/tmp/sepp/output.enq60j9y/root/P_9/A_9_0/hmmbuild.model.ogecwunm, fragments:/tmp/sepp/output.enq60j9y/root/P_9/A_9_0/FC_9_0_2/hmmalign.frag.gqk91zor.fasta, trim:False, base_alignment:/tmp/sepp/output.enq60j9y/root/P_9/A_9_0/hmmbuild.input.7g3expi3.fasta\n",
      "[18:33:42] jobs.py (line 131):     INFO: Finished hmmalign Job with input: model:/tmp/sepp/output.enq60j9y/root/P_9/A_9_0/hmmbuild.model.ogecwunm, fragments:/tmp/sepp/output.enq60j9y/root/P_9/A_9_0/FC_9_0_0/hmmalign.frag._m3vpzfy.fasta, trim:False, base_alignment:/tmp/sepp/output.enq60j9y/root/P_9/A_9_0/hmmbuild.input.7g3expi3.fasta\n",
      "[18:33:42] exhaustive.py (line 151):     INFO: Merging sub-alignments for placement problem : P_6.\n",
      "[18:33:42] alignment.py (line 556):     INFO: Merging extension sto file (/tmp/sepp/output.enq60j9y/root/P_6/A_6_0/FC_6_0_0/hmmalign.results.6g2lvpxc) into base alignment (/tmp/sepp/output.enq60j9y/root/P_6/A_6_0/hmmbuild.input.jnld8y89.fasta).\n",
      "[18:33:42] alignment.py (line 556):     INFO: Merging extension sto file (/tmp/sepp/output.enq60j9y/root/P_6/A_6_0/FC_6_0_1/hmmalign.results._2rfnj8d) into base alignment (/tmp/sepp/output.enq60j9y/root/P_6/A_6_0/hmmbuild.input.jnld8y89.fasta).\n",
      "[18:33:42] alignment.py (line 556):     INFO: Merging extension sto file (/tmp/sepp/output.enq60j9y/root/P_6/A_6_0/FC_6_0_2/hmmalign.results.jn_d0sip) into base alignment (/tmp/sepp/output.enq60j9y/root/P_6/A_6_0/hmmbuild.input.jnld8y89.fasta).\n",
      "[18:33:42] exhaustive.py (line 151):     INFO: Merging sub-alignments for placement problem : P_7.\n",
      "[18:33:42] alignment.py (line 556):     INFO: Merging extension sto file (/tmp/sepp/output.enq60j9y/root/P_7/A_7_0/FC_7_0_0/hmmalign.results.wcb6cphe) into base alignment (/tmp/sepp/output.enq60j9y/root/P_7/A_7_0/hmmbuild.input._g427s9i.fasta).\n",
      "[18:33:42] alignment.py (line 556):     INFO: Merging extension sto file (/tmp/sepp/output.enq60j9y/root/P_7/A_7_0/FC_7_0_1/hmmalign.results.7n_gvcem) into base alignment (/tmp/sepp/output.enq60j9y/root/P_7/A_7_0/hmmbuild.input._g427s9i.fasta).\n",
      "[18:33:42] alignment.py (line 556):     INFO: Merging extension sto file (/tmp/sepp/output.enq60j9y/root/P_7/A_7_0/FC_7_0_2/hmmalign.results.yfpjg1f0) into base alignment (/tmp/sepp/output.enq60j9y/root/P_7/A_7_0/hmmbuild.input._g427s9i.fasta).\n",
      "[18:33:42] exhaustive.py (line 151):     INFO: Merging sub-alignments for placement problem : P_10.\n",
      "[18:33:42] exhaustive.py (line 151):     INFO: Merging sub-alignments for placement problem : P_8.\n",
      "[18:33:42] alignment.py (line 556):     INFO: Merging extension sto file (/tmp/sepp/output.enq60j9y/root/P_8/A_8_0/FC_8_0_0/hmmalign.results.pssmienw) into base alignment (/tmp/sepp/output.enq60j9y/root/P_8/A_8_0/hmmbuild.input.xfg2dikf.fasta).\n",
      "[18:33:42] alignment.py (line 556):     INFO: Merging extension sto file (/tmp/sepp/output.enq60j9y/root/P_8/A_8_0/FC_8_0_1/hmmalign.results.cnwxw2z4) into base alignment (/tmp/sepp/output.enq60j9y/root/P_8/A_8_0/hmmbuild.input.xfg2dikf.fasta).\n",
      "[18:33:42] alignment.py (line 556):     INFO: Merging extension sto file (/tmp/sepp/output.enq60j9y/root/P_8/A_8_0/FC_8_0_2/hmmalign.results.wzgwn122) into base alignment (/tmp/sepp/output.enq60j9y/root/P_8/A_8_0/hmmbuild.input.xfg2dikf.fasta).\n",
      "[18:33:42] exhaustive.py (line 151):     INFO: Merging sub-alignments for placement problem : P_9.\n",
      "[18:33:42] alignment.py (line 556):     INFO: Merging extension sto file (/tmp/sepp/output.enq60j9y/root/P_9/A_9_0/FC_9_0_0/hmmalign.results.qvvp2_o7) into base alignment (/tmp/sepp/output.enq60j9y/root/P_9/A_9_0/hmmbuild.input.7g3expi3.fasta).\n",
      "[18:33:42] alignment.py (line 556):     INFO: Merging extension sto file (/tmp/sepp/output.enq60j9y/root/P_9/A_9_0/FC_9_0_1/hmmalign.results.y7wkcefl) into base alignment (/tmp/sepp/output.enq60j9y/root/P_9/A_9_0/hmmbuild.input.7g3expi3.fasta).\n",
      "[18:33:42] alignment.py (line 556):     INFO: Merging extension sto file (/tmp/sepp/output.enq60j9y/root/P_9/A_9_0/FC_9_0_2/hmmalign.results.w5ao6c9h) into base alignment (/tmp/sepp/output.enq60j9y/root/P_9/A_9_0/hmmbuild.input.7g3expi3.fasta).\n",
      "[18:33:43] jobs.py (line 131):     INFO: Finished hmmalign Job with input: model:/tmp/sepp/output.enq60j9y/root/P_12/A_12_0/hmmbuild.model.w80zi3s_, fragments:/tmp/sepp/output.enq60j9y/root/P_12/A_12_0/FC_12_0_2/hmmalign.frag.guw7i7zg.fasta, trim:False, base_alignment:/tmp/sepp/output.enq60j9y/root/P_12/A_12_0/hmmbuild.input.yqfh29m4.fasta\n",
      "[18:33:43] jobs.py (line 131):     INFO: Finished hmmalign Job with input: model:/tmp/sepp/output.enq60j9y/root/P_12/A_12_0/hmmbuild.model.w80zi3s_, fragments:/tmp/sepp/output.enq60j9y/root/P_12/A_12_0/FC_12_0_1/hmmalign.frag.9cahnc94.fasta, trim:False, base_alignment:/tmp/sepp/output.enq60j9y/root/P_12/A_12_0/hmmbuild.input.yqfh29m4.fasta\n",
      "[18:33:43] jobs.py (line 131):     INFO: Finished hmmalign Job with input: model:/tmp/sepp/output.enq60j9y/root/P_12/A_12_0/hmmbuild.model.w80zi3s_, fragments:/tmp/sepp/output.enq60j9y/root/P_12/A_12_0/FC_12_0_0/hmmalign.frag.my8xa4k_.fasta, trim:False, base_alignment:/tmp/sepp/output.enq60j9y/root/P_12/A_12_0/hmmbuild.input.yqfh29m4.fasta\n",
      "[18:33:43] exhaustive.py (line 151):     INFO: Merging sub-alignments for placement problem : P_12.\n",
      "[18:33:43] alignment.py (line 556):     INFO: Merging extension sto file (/tmp/sepp/output.enq60j9y/root/P_12/A_12_0/FC_12_0_0/hmmalign.results.kr_rtrie) into base alignment (/tmp/sepp/output.enq60j9y/root/P_12/A_12_0/hmmbuild.input.yqfh29m4.fasta).\n",
      "[18:33:43] alignment.py (line 556):     INFO: Merging extension sto file (/tmp/sepp/output.enq60j9y/root/P_12/A_12_0/FC_12_0_1/hmmalign.results.nq961ctt) into base alignment (/tmp/sepp/output.enq60j9y/root/P_12/A_12_0/hmmbuild.input.yqfh29m4.fasta).\n",
      "[18:33:43] jobs.py (line 131):     INFO: Finished hmmalign Job with input: model:/tmp/sepp/output.enq60j9y/root/P_13/A_13_0/hmmbuild.model.2mcrlzpc, fragments:/tmp/sepp/output.enq60j9y/root/P_13/A_13_0/FC_13_0_0/hmmalign.frag.7mq89f4w.fasta, trim:False, base_alignment:/tmp/sepp/output.enq60j9y/root/P_13/A_13_0/hmmbuild.input.kop42ihy.fasta\n",
      "[18:33:43] alignment.py (line 556):     INFO: Merging extension sto file (/tmp/sepp/output.enq60j9y/root/P_12/A_12_0/FC_12_0_2/hmmalign.results.jzlilohc) into base alignment (/tmp/sepp/output.enq60j9y/root/P_12/A_12_0/hmmbuild.input.yqfh29m4.fasta).\n",
      "[18:33:43] jobs.py (line 131):     INFO: Finished hmmalign Job with input: model:/tmp/sepp/output.enq60j9y/root/P_13/A_13_0/hmmbuild.model.2mcrlzpc, fragments:/tmp/sepp/output.enq60j9y/root/P_13/A_13_0/FC_13_0_2/hmmalign.frag.8x47am6m.fasta, trim:False, base_alignment:/tmp/sepp/output.enq60j9y/root/P_13/A_13_0/hmmbuild.input.kop42ihy.fasta\n",
      "[18:33:43] jobs.py (line 131):     INFO: Finished hmmalign Job with input: model:/tmp/sepp/output.enq60j9y/root/P_13/A_13_0/hmmbuild.model.2mcrlzpc, fragments:/tmp/sepp/output.enq60j9y/root/P_13/A_13_0/FC_13_0_1/hmmalign.frag.9xwrg79l.fasta, trim:False, base_alignment:/tmp/sepp/output.enq60j9y/root/P_13/A_13_0/hmmbuild.input.kop42ihy.fasta\n",
      "[18:33:43] jobs.py (line 131):     INFO: Finished hmmalign Job with input: model:/tmp/sepp/output.enq60j9y/root/P_14/A_14_0/hmmbuild.model.vmrjmk9j, fragments:/tmp/sepp/output.enq60j9y/root/P_14/A_14_0/FC_14_0_0/hmmalign.frag.kdziq63m.fasta, trim:False, base_alignment:/tmp/sepp/output.enq60j9y/root/P_14/A_14_0/hmmbuild.input.6zs_yuap.fasta\n",
      "[18:33:43] exhaustive.py (line 151):     INFO: Merging sub-alignments for placement problem : P_13.\n",
      "[18:33:43] jobs.py (line 131):     INFO: Finished hmmalign Job with input: model:/tmp/sepp/output.enq60j9y/root/P_14/A_14_0/hmmbuild.model.vmrjmk9j, fragments:/tmp/sepp/output.enq60j9y/root/P_14/A_14_0/FC_14_0_1/hmmalign.frag.r6d67po6.fasta, trim:False, base_alignment:/tmp/sepp/output.enq60j9y/root/P_14/A_14_0/hmmbuild.input.6zs_yuap.fasta\n",
      "[18:33:43] alignment.py (line 556):     INFO: Merging extension sto file (/tmp/sepp/output.enq60j9y/root/P_13/A_13_0/FC_13_0_0/hmmalign.results.9ij6humk) into base alignment (/tmp/sepp/output.enq60j9y/root/P_13/A_13_0/hmmbuild.input.kop42ihy.fasta).\n",
      "[18:33:43] jobs.py (line 131):     INFO: Finished hmmalign Job with input: model:/tmp/sepp/output.enq60j9y/root/P_14/A_14_0/hmmbuild.model.vmrjmk9j, fragments:/tmp/sepp/output.enq60j9y/root/P_14/A_14_0/FC_14_0_2/hmmalign.frag.yo_m_lyn.fasta, trim:False, base_alignment:/tmp/sepp/output.enq60j9y/root/P_14/A_14_0/hmmbuild.input.6zs_yuap.fasta\n",
      "[18:33:43] alignment.py (line 556):     INFO: Merging extension sto file (/tmp/sepp/output.enq60j9y/root/P_13/A_13_0/FC_13_0_1/hmmalign.results.yxorc6pn) into base alignment (/tmp/sepp/output.enq60j9y/root/P_13/A_13_0/hmmbuild.input.kop42ihy.fasta).\n",
      "[18:33:44] alignment.py (line 556):     INFO: Merging extension sto file (/tmp/sepp/output.enq60j9y/root/P_13/A_13_0/FC_13_0_2/hmmalign.results.5tdte3bf) into base alignment (/tmp/sepp/output.enq60j9y/root/P_13/A_13_0/hmmbuild.input.kop42ihy.fasta).\n",
      "[18:33:44] exhaustive.py (line 151):     INFO: Merging sub-alignments for placement problem : P_15.\n",
      "[18:33:44] exhaustive.py (line 151):     INFO: Merging sub-alignments for placement problem : P_14.\n",
      "[18:33:44] alignment.py (line 556):     INFO: Merging extension sto file (/tmp/sepp/output.enq60j9y/root/P_14/A_14_0/FC_14_0_0/hmmalign.results.rmeresh7) into base alignment (/tmp/sepp/output.enq60j9y/root/P_14/A_14_0/hmmbuild.input.6zs_yuap.fasta).\n",
      "[18:33:44] alignment.py (line 556):     INFO: Merging extension sto file (/tmp/sepp/output.enq60j9y/root/P_14/A_14_0/FC_14_0_1/hmmalign.results.84b8df6h) into base alignment (/tmp/sepp/output.enq60j9y/root/P_14/A_14_0/hmmbuild.input.6zs_yuap.fasta).\n",
      "[18:33:44] alignment.py (line 556):     INFO: Merging extension sto file (/tmp/sepp/output.enq60j9y/root/P_14/A_14_0/FC_14_0_2/hmmalign.results.uk05qz2g) into base alignment (/tmp/sepp/output.enq60j9y/root/P_14/A_14_0/hmmbuild.input.6zs_yuap.fasta).\n",
      "[18:33:47] jobs.py (line 131):     INFO: Finished pplacer Job with input: backbone_alignment_file:/tmp/sepp/output.enq60j9y/root/P_5/pplacer.backbone._of_y12u.fasta, tree_file:/tmp/sepp/output.enq60j9y/root/P_5/pplacer.tree.mfxhvpc2.tre, info_file:/home/lauro/anaconda3/envs/qiime2-2021.11/lib/python3.8/site-packages/picrust2/default_files/prokaryotic/pro_ref/pro_ref.raxml_info, extended alignment:/tmp/sepp/output.enq60j9y/root/P_5/pplacer.extended.1.7kqpvxl3.fasta, output:/tmp/sepp/output.enq60j9y/root/P_5/pplacer.extended.1.7kqpvxl3.jplace\n",
      "[18:33:48] jobs.py (line 131):     INFO: Finished hmmalign Job with input: model:/tmp/sepp/output.enq60j9y/root/P_11/A_11_0/hmmbuild.model.k4db5xu2, fragments:/tmp/sepp/output.enq60j9y/root/P_11/A_11_0/FC_11_0_2/hmmalign.frag.qh3141l2.fasta, trim:False, base_alignment:/tmp/sepp/output.enq60j9y/root/P_11/A_11_0/hmmbuild.input.7eqg7y2g.fasta\n",
      "[18:33:49] jobs.py (line 131):     INFO: Finished hmmalign Job with input: model:/tmp/sepp/output.enq60j9y/root/P_11/A_11_0/hmmbuild.model.k4db5xu2, fragments:/tmp/sepp/output.enq60j9y/root/P_11/A_11_0/FC_11_0_0/hmmalign.frag.brw4unfl.fasta, trim:False, base_alignment:/tmp/sepp/output.enq60j9y/root/P_11/A_11_0/hmmbuild.input.7eqg7y2g.fasta\n",
      "[18:33:49] jobs.py (line 131):     INFO: Finished hmmalign Job with input: model:/tmp/sepp/output.enq60j9y/root/P_11/A_11_0/hmmbuild.model.k4db5xu2, fragments:/tmp/sepp/output.enq60j9y/root/P_11/A_11_0/FC_11_0_1/hmmalign.frag.qp21d4a6.fasta, trim:False, base_alignment:/tmp/sepp/output.enq60j9y/root/P_11/A_11_0/hmmbuild.input.7eqg7y2g.fasta\n",
      "[18:33:49] exhaustive.py (line 151):     INFO: Merging sub-alignments for placement problem : P_11.\n",
      "[18:33:49] alignment.py (line 556):     INFO: Merging extension sto file (/tmp/sepp/output.enq60j9y/root/P_11/A_11_0/FC_11_0_0/hmmalign.results.57bt737_) into base alignment (/tmp/sepp/output.enq60j9y/root/P_11/A_11_0/hmmbuild.input.7eqg7y2g.fasta).\n",
      "[18:33:49] alignment.py (line 556):     INFO: Merging extension sto file (/tmp/sepp/output.enq60j9y/root/P_11/A_11_0/FC_11_0_1/hmmalign.results.3cqweigb) into base alignment (/tmp/sepp/output.enq60j9y/root/P_11/A_11_0/hmmbuild.input.7eqg7y2g.fasta).\n",
      "[18:33:49] alignment.py (line 556):     INFO: Merging extension sto file (/tmp/sepp/output.enq60j9y/root/P_11/A_11_0/FC_11_0_2/hmmalign.results.s96_bk4l) into base alignment (/tmp/sepp/output.enq60j9y/root/P_11/A_11_0/hmmbuild.input.7eqg7y2g.fasta).\n",
      "[18:33:50] jobs.py (line 131):     INFO: Finished pplacer Job with input: backbone_alignment_file:/tmp/sepp/output.enq60j9y/root/P_5/pplacer.backbone.6ze7pg5v.fasta, tree_file:/tmp/sepp/output.enq60j9y/root/P_5/pplacer.tree.h96ediyw.tre, info_file:/home/lauro/anaconda3/envs/qiime2-2021.11/lib/python3.8/site-packages/picrust2/default_files/prokaryotic/pro_ref/pro_ref.raxml_info, extended alignment:/tmp/sepp/output.enq60j9y/root/P_5/pplacer.extended.0.jutrqrsi.fasta, output:/tmp/sepp/output.enq60j9y/root/P_5/pplacer.extended.0.jutrqrsi.jplace\n",
      "[18:33:50] jobs.py (line 131):     INFO: Finished pplacer Job with input: backbone_alignment_file:/tmp/sepp/output.enq60j9y/root/P_5/pplacer.backbone.jbg1vzam.fasta, tree_file:/tmp/sepp/output.enq60j9y/root/P_5/pplacer.tree.esn85nn8.tre, info_file:/home/lauro/anaconda3/envs/qiime2-2021.11/lib/python3.8/site-packages/picrust2/default_files/prokaryotic/pro_ref/pro_ref.raxml_info, extended alignment:/tmp/sepp/output.enq60j9y/root/P_5/pplacer.extended.2.plcv8mj6.fasta, output:/tmp/sepp/output.enq60j9y/root/P_5/pplacer.extended.2.plcv8mj6.jplace\n",
      "[18:33:51] jobs.py (line 131):     INFO: Finished pplacer Job with input: backbone_alignment_file:/tmp/sepp/output.enq60j9y/root/P_1/pplacer.backbone.yteaid0a.fasta, tree_file:/tmp/sepp/output.enq60j9y/root/P_1/pplacer.tree.xu4chk_a.tre, info_file:/home/lauro/anaconda3/envs/qiime2-2021.11/lib/python3.8/site-packages/picrust2/default_files/prokaryotic/pro_ref/pro_ref.raxml_info, extended alignment:/tmp/sepp/output.enq60j9y/root/P_1/pplacer.extended.0.ybhl8tb4.fasta, output:/tmp/sepp/output.enq60j9y/root/P_1/pplacer.extended.0.ybhl8tb4.jplace\n",
      "[18:33:52] jobs.py (line 131):     INFO: Finished pplacer Job with input: backbone_alignment_file:/tmp/sepp/output.enq60j9y/root/P_1/pplacer.backbone.nujpql0m.fasta, tree_file:/tmp/sepp/output.enq60j9y/root/P_1/pplacer.tree.e7goeoo1.tre, info_file:/home/lauro/anaconda3/envs/qiime2-2021.11/lib/python3.8/site-packages/picrust2/default_files/prokaryotic/pro_ref/pro_ref.raxml_info, extended alignment:/tmp/sepp/output.enq60j9y/root/P_1/pplacer.extended.2.h42i9k_n.fasta, output:/tmp/sepp/output.enq60j9y/root/P_1/pplacer.extended.2.h42i9k_n.jplace\n",
      "[18:33:53] jobs.py (line 131):     INFO: Finished pplacer Job with input: backbone_alignment_file:/tmp/sepp/output.enq60j9y/root/P_1/pplacer.backbone.wj2ld_wi.fasta, tree_file:/tmp/sepp/output.enq60j9y/root/P_1/pplacer.tree.l6dfw83j.tre, info_file:/home/lauro/anaconda3/envs/qiime2-2021.11/lib/python3.8/site-packages/picrust2/default_files/prokaryotic/pro_ref/pro_ref.raxml_info, extended alignment:/tmp/sepp/output.enq60j9y/root/P_1/pplacer.extended.1.34jn2ct1.fasta, output:/tmp/sepp/output.enq60j9y/root/P_1/pplacer.extended.1.34jn2ct1.jplace\n",
      "[18:33:54] jobs.py (line 131):     INFO: Finished pplacer Job with input: backbone_alignment_file:/tmp/sepp/output.enq60j9y/root/P_7/pplacer.backbone._473rvu6.fasta, tree_file:/tmp/sepp/output.enq60j9y/root/P_7/pplacer.tree.mht4ysuz.tre, info_file:/home/lauro/anaconda3/envs/qiime2-2021.11/lib/python3.8/site-packages/picrust2/default_files/prokaryotic/pro_ref/pro_ref.raxml_info, extended alignment:/tmp/sepp/output.enq60j9y/root/P_7/pplacer.extended.0.97e_mvnb.fasta, output:/tmp/sepp/output.enq60j9y/root/P_7/pplacer.extended.0.97e_mvnb.jplace\n",
      "[18:33:56] jobs.py (line 131):     INFO: Finished pplacer Job with input: backbone_alignment_file:/tmp/sepp/output.enq60j9y/root/P_7/pplacer.backbone.o461uos2.fasta, tree_file:/tmp/sepp/output.enq60j9y/root/P_7/pplacer.tree.nam_0fr4.tre, info_file:/home/lauro/anaconda3/envs/qiime2-2021.11/lib/python3.8/site-packages/picrust2/default_files/prokaryotic/pro_ref/pro_ref.raxml_info, extended alignment:/tmp/sepp/output.enq60j9y/root/P_7/pplacer.extended.1.bmr117_v.fasta, output:/tmp/sepp/output.enq60j9y/root/P_7/pplacer.extended.1.bmr117_v.jplace\n",
      "[18:33:57] jobs.py (line 131):     INFO: Finished pplacer Job with input: backbone_alignment_file:/tmp/sepp/output.enq60j9y/root/P_6/pplacer.backbone.qu8v9bid.fasta, tree_file:/tmp/sepp/output.enq60j9y/root/P_6/pplacer.tree.8ai1yf8c.tre, info_file:/home/lauro/anaconda3/envs/qiime2-2021.11/lib/python3.8/site-packages/picrust2/default_files/prokaryotic/pro_ref/pro_ref.raxml_info, extended alignment:/tmp/sepp/output.enq60j9y/root/P_6/pplacer.extended.0.qn4k80nm.fasta, output:/tmp/sepp/output.enq60j9y/root/P_6/pplacer.extended.0.qn4k80nm.jplace\n",
      "[18:33:57] jobs.py (line 131):     INFO: Finished pplacer Job with input: backbone_alignment_file:/tmp/sepp/output.enq60j9y/root/P_8/pplacer.backbone._cnnwa3y.fasta, tree_file:/tmp/sepp/output.enq60j9y/root/P_8/pplacer.tree.qpvpxb9l.tre, info_file:/home/lauro/anaconda3/envs/qiime2-2021.11/lib/python3.8/site-packages/picrust2/default_files/prokaryotic/pro_ref/pro_ref.raxml_info, extended alignment:/tmp/sepp/output.enq60j9y/root/P_8/pplacer.extended.0.gv2dw5l5.fasta, output:/tmp/sepp/output.enq60j9y/root/P_8/pplacer.extended.0.gv2dw5l5.jplace\n",
      "[18:33:59] jobs.py (line 131):     INFO: Finished pplacer Job with input: backbone_alignment_file:/tmp/sepp/output.enq60j9y/root/P_8/pplacer.backbone.u8d4xtur.fasta, tree_file:/tmp/sepp/output.enq60j9y/root/P_8/pplacer.tree.brtle1nt.tre, info_file:/home/lauro/anaconda3/envs/qiime2-2021.11/lib/python3.8/site-packages/picrust2/default_files/prokaryotic/pro_ref/pro_ref.raxml_info, extended alignment:/tmp/sepp/output.enq60j9y/root/P_8/pplacer.extended.1.wcwjop8w.fasta, output:/tmp/sepp/output.enq60j9y/root/P_8/pplacer.extended.1.wcwjop8w.jplace\n",
      "[18:33:59] jobs.py (line 131):     INFO: Finished pplacer Job with input: backbone_alignment_file:/tmp/sepp/output.enq60j9y/root/P_7/pplacer.backbone.k4lc010x.fasta, tree_file:/tmp/sepp/output.enq60j9y/root/P_7/pplacer.tree.lur4_4to.tre, info_file:/home/lauro/anaconda3/envs/qiime2-2021.11/lib/python3.8/site-packages/picrust2/default_files/prokaryotic/pro_ref/pro_ref.raxml_info, extended alignment:/tmp/sepp/output.enq60j9y/root/P_7/pplacer.extended.2.ug7z25wn.fasta, output:/tmp/sepp/output.enq60j9y/root/P_7/pplacer.extended.2.ug7z25wn.jplace\n",
      "[18:34:00] jobs.py (line 131):     INFO: Finished pplacer Job with input: backbone_alignment_file:/tmp/sepp/output.enq60j9y/root/P_8/pplacer.backbone.9gz2qeso.fasta, tree_file:/tmp/sepp/output.enq60j9y/root/P_8/pplacer.tree.e4ss2vgr.tre, info_file:/home/lauro/anaconda3/envs/qiime2-2021.11/lib/python3.8/site-packages/picrust2/default_files/prokaryotic/pro_ref/pro_ref.raxml_info, extended alignment:/tmp/sepp/output.enq60j9y/root/P_8/pplacer.extended.2.2jq86suv.fasta, output:/tmp/sepp/output.enq60j9y/root/P_8/pplacer.extended.2.2jq86suv.jplace\n",
      "[18:34:03] jobs.py (line 131):     INFO: Finished pplacer Job with input: backbone_alignment_file:/tmp/sepp/output.enq60j9y/root/P_6/pplacer.backbone.wuk_tuxs.fasta, tree_file:/tmp/sepp/output.enq60j9y/root/P_6/pplacer.tree.vu61gfvw.tre, info_file:/home/lauro/anaconda3/envs/qiime2-2021.11/lib/python3.8/site-packages/picrust2/default_files/prokaryotic/pro_ref/pro_ref.raxml_info, extended alignment:/tmp/sepp/output.enq60j9y/root/P_6/pplacer.extended.1.ba7mn8t1.fasta, output:/tmp/sepp/output.enq60j9y/root/P_6/pplacer.extended.1.ba7mn8t1.jplace\n",
      "[18:34:03] jobs.py (line 131):     INFO: Finished pplacer Job with input: backbone_alignment_file:/tmp/sepp/output.enq60j9y/root/P_9/pplacer.backbone.7a2z3v10.fasta, tree_file:/tmp/sepp/output.enq60j9y/root/P_9/pplacer.tree.2jdbms8h.tre, info_file:/home/lauro/anaconda3/envs/qiime2-2021.11/lib/python3.8/site-packages/picrust2/default_files/prokaryotic/pro_ref/pro_ref.raxml_info, extended alignment:/tmp/sepp/output.enq60j9y/root/P_9/pplacer.extended.1.lvv3jnys.fasta, output:/tmp/sepp/output.enq60j9y/root/P_9/pplacer.extended.1.lvv3jnys.jplace\n",
      "[18:34:04] jobs.py (line 131):     INFO: Finished pplacer Job with input: backbone_alignment_file:/tmp/sepp/output.enq60j9y/root/P_6/pplacer.backbone.mz_z5b9c.fasta, tree_file:/tmp/sepp/output.enq60j9y/root/P_6/pplacer.tree.71fo_sqo.tre, info_file:/home/lauro/anaconda3/envs/qiime2-2021.11/lib/python3.8/site-packages/picrust2/default_files/prokaryotic/pro_ref/pro_ref.raxml_info, extended alignment:/tmp/sepp/output.enq60j9y/root/P_6/pplacer.extended.2.yepfkjnh.fasta, output:/tmp/sepp/output.enq60j9y/root/P_6/pplacer.extended.2.yepfkjnh.jplace\n",
      "[18:34:05] jobs.py (line 131):     INFO: Finished pplacer Job with input: backbone_alignment_file:/tmp/sepp/output.enq60j9y/root/P_9/pplacer.backbone._1me698p.fasta, tree_file:/tmp/sepp/output.enq60j9y/root/P_9/pplacer.tree.upvcdmpn.tre, info_file:/home/lauro/anaconda3/envs/qiime2-2021.11/lib/python3.8/site-packages/picrust2/default_files/prokaryotic/pro_ref/pro_ref.raxml_info, extended alignment:/tmp/sepp/output.enq60j9y/root/P_9/pplacer.extended.0.v7rf1tnu.fasta, output:/tmp/sepp/output.enq60j9y/root/P_9/pplacer.extended.0.v7rf1tnu.jplace\n",
      "[18:34:05] jobs.py (line 131):     INFO: Finished pplacer Job with input: backbone_alignment_file:/tmp/sepp/output.enq60j9y/root/P_9/pplacer.backbone.2p7esa9a.fasta, tree_file:/tmp/sepp/output.enq60j9y/root/P_9/pplacer.tree.79lz9tt2.tre, info_file:/home/lauro/anaconda3/envs/qiime2-2021.11/lib/python3.8/site-packages/picrust2/default_files/prokaryotic/pro_ref/pro_ref.raxml_info, extended alignment:/tmp/sepp/output.enq60j9y/root/P_9/pplacer.extended.2.5zeit035.fasta, output:/tmp/sepp/output.enq60j9y/root/P_9/pplacer.extended.2.5zeit035.jplace\n",
      "[18:34:07] jobs.py (line 131):     INFO: Finished pplacer Job with input: backbone_alignment_file:/tmp/sepp/output.enq60j9y/root/P_12/pplacer.backbone.wzmvfz96.fasta, tree_file:/tmp/sepp/output.enq60j9y/root/P_12/pplacer.tree.kjhn3yxe.tre, info_file:/home/lauro/anaconda3/envs/qiime2-2021.11/lib/python3.8/site-packages/picrust2/default_files/prokaryotic/pro_ref/pro_ref.raxml_info, extended alignment:/tmp/sepp/output.enq60j9y/root/P_12/pplacer.extended.0.4os3luon.fasta, output:/tmp/sepp/output.enq60j9y/root/P_12/pplacer.extended.0.4os3luon.jplace\n",
      "[18:34:08] jobs.py (line 131):     INFO: Finished pplacer Job with input: backbone_alignment_file:/tmp/sepp/output.enq60j9y/root/P_13/pplacer.backbone.rsmjv11u.fasta, tree_file:/tmp/sepp/output.enq60j9y/root/P_13/pplacer.tree.e7oq2ooc.tre, info_file:/home/lauro/anaconda3/envs/qiime2-2021.11/lib/python3.8/site-packages/picrust2/default_files/prokaryotic/pro_ref/pro_ref.raxml_info, extended alignment:/tmp/sepp/output.enq60j9y/root/P_13/pplacer.extended.0.woao0kgs.fasta, output:/tmp/sepp/output.enq60j9y/root/P_13/pplacer.extended.0.woao0kgs.jplace\n",
      "[18:34:09] jobs.py (line 131):     INFO: Finished pplacer Job with input: backbone_alignment_file:/tmp/sepp/output.enq60j9y/root/P_13/pplacer.backbone.d6fhqle7.fasta, tree_file:/tmp/sepp/output.enq60j9y/root/P_13/pplacer.tree.ew9u9_qd.tre, info_file:/home/lauro/anaconda3/envs/qiime2-2021.11/lib/python3.8/site-packages/picrust2/default_files/prokaryotic/pro_ref/pro_ref.raxml_info, extended alignment:/tmp/sepp/output.enq60j9y/root/P_13/pplacer.extended.1.60dwguxe.fasta, output:/tmp/sepp/output.enq60j9y/root/P_13/pplacer.extended.1.60dwguxe.jplace\n",
      "[18:34:10] jobs.py (line 131):     INFO: Finished pplacer Job with input: backbone_alignment_file:/tmp/sepp/output.enq60j9y/root/P_14/pplacer.backbone.quk_0vpc.fasta, tree_file:/tmp/sepp/output.enq60j9y/root/P_14/pplacer.tree.4pkxb__d.tre, info_file:/home/lauro/anaconda3/envs/qiime2-2021.11/lib/python3.8/site-packages/picrust2/default_files/prokaryotic/pro_ref/pro_ref.raxml_info, extended alignment:/tmp/sepp/output.enq60j9y/root/P_14/pplacer.extended.0.__oxnh2c.fasta, output:/tmp/sepp/output.enq60j9y/root/P_14/pplacer.extended.0.__oxnh2c.jplace\n",
      "[18:34:11] jobs.py (line 131):     INFO: Finished pplacer Job with input: backbone_alignment_file:/tmp/sepp/output.enq60j9y/root/P_13/pplacer.backbone.zyckik4x.fasta, tree_file:/tmp/sepp/output.enq60j9y/root/P_13/pplacer.tree.7zi6z2na.tre, info_file:/home/lauro/anaconda3/envs/qiime2-2021.11/lib/python3.8/site-packages/picrust2/default_files/prokaryotic/pro_ref/pro_ref.raxml_info, extended alignment:/tmp/sepp/output.enq60j9y/root/P_13/pplacer.extended.2.nnx5_89y.fasta, output:/tmp/sepp/output.enq60j9y/root/P_13/pplacer.extended.2.nnx5_89y.jplace\n",
      "[18:34:14] jobs.py (line 131):     INFO: Finished pplacer Job with input: backbone_alignment_file:/tmp/sepp/output.enq60j9y/root/P_14/pplacer.backbone.l8qw0qhy.fasta, tree_file:/tmp/sepp/output.enq60j9y/root/P_14/pplacer.tree._yjny9e0.tre, info_file:/home/lauro/anaconda3/envs/qiime2-2021.11/lib/python3.8/site-packages/picrust2/default_files/prokaryotic/pro_ref/pro_ref.raxml_info, extended alignment:/tmp/sepp/output.enq60j9y/root/P_14/pplacer.extended.1.55rzg0ko.fasta, output:/tmp/sepp/output.enq60j9y/root/P_14/pplacer.extended.1.55rzg0ko.jplace\n",
      "[18:34:14] jobs.py (line 131):     INFO: Finished pplacer Job with input: backbone_alignment_file:/tmp/sepp/output.enq60j9y/root/P_12/pplacer.backbone.qhle9s1x.fasta, tree_file:/tmp/sepp/output.enq60j9y/root/P_12/pplacer.tree.4vwvzhko.tre, info_file:/home/lauro/anaconda3/envs/qiime2-2021.11/lib/python3.8/site-packages/picrust2/default_files/prokaryotic/pro_ref/pro_ref.raxml_info, extended alignment:/tmp/sepp/output.enq60j9y/root/P_12/pplacer.extended.1.hl1xfh_h.fasta, output:/tmp/sepp/output.enq60j9y/root/P_12/pplacer.extended.1.hl1xfh_h.jplace\n",
      "[18:34:14] jobs.py (line 131):     INFO: Finished pplacer Job with input: backbone_alignment_file:/tmp/sepp/output.enq60j9y/root/P_14/pplacer.backbone.batmtuur.fasta, tree_file:/tmp/sepp/output.enq60j9y/root/P_14/pplacer.tree.9qeppjsy.tre, info_file:/home/lauro/anaconda3/envs/qiime2-2021.11/lib/python3.8/site-packages/picrust2/default_files/prokaryotic/pro_ref/pro_ref.raxml_info, extended alignment:/tmp/sepp/output.enq60j9y/root/P_14/pplacer.extended.2.psiylgb8.fasta, output:/tmp/sepp/output.enq60j9y/root/P_14/pplacer.extended.2.psiylgb8.jplace\n",
      "[18:34:15] jobs.py (line 131):     INFO: Finished pplacer Job with input: backbone_alignment_file:/tmp/sepp/output.enq60j9y/root/P_12/pplacer.backbone.cqqiqnfc.fasta, tree_file:/tmp/sepp/output.enq60j9y/root/P_12/pplacer.tree.rj9mch1n.tre, info_file:/home/lauro/anaconda3/envs/qiime2-2021.11/lib/python3.8/site-packages/picrust2/default_files/prokaryotic/pro_ref/pro_ref.raxml_info, extended alignment:/tmp/sepp/output.enq60j9y/root/P_12/pplacer.extended.2.2wa0cal0.fasta, output:/tmp/sepp/output.enq60j9y/root/P_12/pplacer.extended.2.2wa0cal0.jplace\n",
      "[18:34:37] jobs.py (line 131):     INFO: Finished pplacer Job with input: backbone_alignment_file:/tmp/sepp/output.enq60j9y/root/P_11/pplacer.backbone.g3n53eu4.fasta, tree_file:/tmp/sepp/output.enq60j9y/root/P_11/pplacer.tree.76klyf2n.tre, info_file:/home/lauro/anaconda3/envs/qiime2-2021.11/lib/python3.8/site-packages/picrust2/default_files/prokaryotic/pro_ref/pro_ref.raxml_info, extended alignment:/tmp/sepp/output.enq60j9y/root/P_11/pplacer.extended.0._qhrmxmd.fasta, output:/tmp/sepp/output.enq60j9y/root/P_11/pplacer.extended.0._qhrmxmd.jplace\n",
      "[18:34:39] jobs.py (line 131):     INFO: Finished pplacer Job with input: backbone_alignment_file:/tmp/sepp/output.enq60j9y/root/P_11/pplacer.backbone.1sarjvsf.fasta, tree_file:/tmp/sepp/output.enq60j9y/root/P_11/pplacer.tree.bhwjb1h_.tre, info_file:/home/lauro/anaconda3/envs/qiime2-2021.11/lib/python3.8/site-packages/picrust2/default_files/prokaryotic/pro_ref/pro_ref.raxml_info, extended alignment:/tmp/sepp/output.enq60j9y/root/P_11/pplacer.extended.1.2ax7cbva.fasta, output:/tmp/sepp/output.enq60j9y/root/P_11/pplacer.extended.1.2ax7cbva.jplace\n",
      "[18:34:40] jobs.py (line 131):     INFO: Finished pplacer Job with input: backbone_alignment_file:/tmp/sepp/output.enq60j9y/root/P_11/pplacer.backbone.4s3vdyjv.fasta, tree_file:/tmp/sepp/output.enq60j9y/root/P_11/pplacer.tree.ojdrmnot.tre, info_file:/home/lauro/anaconda3/envs/qiime2-2021.11/lib/python3.8/site-packages/picrust2/default_files/prokaryotic/pro_ref/pro_ref.raxml_info, extended alignment:/tmp/sepp/output.enq60j9y/root/P_11/pplacer.extended.2.vn0z8jec.fasta, output:/tmp/sepp/output.enq60j9y/root/P_11/pplacer.extended.2.vn0z8jec.jplace\n",
      "[18:34:49] jobs.py (line 131):     INFO: Finished jsonmerger Job with input: input:pipe output:/tmp/tmp2kw8dnwl/picrust2_out/intermediate/place_seqs/sepp_out/output_placement.json\n",
      "[18:34:49] algorithm.py (line 195):     INFO: Current execution Finished in 111 seconds\n",
      "[18:34:49] algorithm.py (line 197):     INFO: All checkpointed executions Finished in 111 cumulative time\n",
      "\n",
      "gappa examine graft --jplace-path /tmp/tmp2kw8dnwl/picrust2_out/intermediate/place_seqs/sepp_out/output_placement.json --fully-resolve --out-dir /tmp/tmp2kw8dnwl/picrust2_out/intermediate/place_seqs/sepp_out\n",
      "\n",
      "mv /tmp/tmp2kw8dnwl/picrust2_out/intermediate/place_seqs/sepp_out/output_placement.newick /tmp/tmp2kw8dnwl/picrust2_out/out.tre\n",
      "\n",
      "Finished placing sequences on output tree: /tmp/tmp2kw8dnwl/picrust2_out/out.tre\n",
      "hsp.py --tree /tmp/tmp2kw8dnwl/picrust2_out/out.tre --output /tmp/tmp2kw8dnwl/picrust2_out/marker_predicted_and_nsti.tsv.gz --observed_trait_table /home/lauro/anaconda3/envs/qiime2-2021.11/lib/python3.8/site-packages/picrust2/default_files/prokaryotic/16S.txt.gz --hsp_method pic --edge_exponent 0.5 --seed 100 --calculate_NSTI --processes 1 --verbose\n"
     ]
    },
    {
     "name": "stdout",
     "output_type": "stream",
     "text": [
      "\n",
      "\n",
      "\n"
     ]
    },
    {
     "name": "stderr",
     "output_type": "stream",
     "text": [
      "Rscript /home/lauro/anaconda3/envs/qiime2-2021.11/lib/python3.8/site-packages/picrust2/Rscripts/castor_nsti.R /tmp/tmp2kw8dnwl/picrust2_out/out.tre /tmp/tmpa92yjegt/known_tips.txt /tmp/tmpa92yjegt/nsti_out.txt\n",
      "\n",
      "Rscript /home/lauro/anaconda3/envs/qiime2-2021.11/lib/python3.8/site-packages/picrust2/Rscripts/castor_hsp.R /tmp/tmp2kw8dnwl/picrust2_out/out.tre /tmp/tmpyi4tjeg5/subset_tab_0 pic 0.5 FALSE FALSE /tmp/tmpotivww9z/predicted_counts.txt /tmp/tmpotivww9z/predicted_ci.txt 100\n",
      "\n",
      "\n",
      "hsp.py --tree /tmp/tmp2kw8dnwl/picrust2_out/out.tre --output /tmp/tmp2kw8dnwl/picrust2_out/EC_predicted.tsv.gz --observed_trait_table /home/lauro/anaconda3/envs/qiime2-2021.11/lib/python3.8/site-packages/picrust2/default_files/prokaryotic/ec.txt.gz --hsp_method pic --edge_exponent 0.5 --seed 100 --processes 6 --verbose\n"
     ]
    },
    {
     "name": "stdout",
     "output_type": "stream",
     "text": [
      "\n",
      "\n",
      "\n",
      "\n",
      "\n",
      "\n",
      "\n"
     ]
    },
    {
     "name": "stderr",
     "output_type": "stream",
     "text": [
      "Rscript /home/lauro/anaconda3/envs/qiime2-2021.11/lib/python3.8/site-packages/picrust2/Rscripts/castor_hsp.R /tmp/tmp2kw8dnwl/picrust2_out/out.tre /tmp/tmpbya8bzt4/subset_tab_5 pic 0.5 FALSE FALSE /tmp/tmpu98w98vd/predicted_counts.txt /tmp/tmpu98w98vd/predicted_ci.txt 100\n",
      "\n",
      "Rscript /home/lauro/anaconda3/envs/qiime2-2021.11/lib/python3.8/site-packages/picrust2/Rscripts/castor_hsp.R /tmp/tmp2kw8dnwl/picrust2_out/out.tre /tmp/tmpbya8bzt4/subset_tab_0 pic 0.5 FALSE FALSE /tmp/tmp1tg6mswy/predicted_counts.txt /tmp/tmp1tg6mswy/predicted_ci.txt 100\n",
      "\n",
      "Rscript /home/lauro/anaconda3/envs/qiime2-2021.11/lib/python3.8/site-packages/picrust2/Rscripts/castor_hsp.R /tmp/tmp2kw8dnwl/picrust2_out/out.tre /tmp/tmpbya8bzt4/subset_tab_2 pic 0.5 FALSE FALSE /tmp/tmpn6esee_8/predicted_counts.txt /tmp/tmpn6esee_8/predicted_ci.txt 100\n",
      "\n",
      "Rscript /home/lauro/anaconda3/envs/qiime2-2021.11/lib/python3.8/site-packages/picrust2/Rscripts/castor_hsp.R /tmp/tmp2kw8dnwl/picrust2_out/out.tre /tmp/tmpbya8bzt4/subset_tab_3 pic 0.5 FALSE FALSE /tmp/tmp5lrekasy/predicted_counts.txt /tmp/tmp5lrekasy/predicted_ci.txt 100\n",
      "\n",
      "Rscript /home/lauro/anaconda3/envs/qiime2-2021.11/lib/python3.8/site-packages/picrust2/Rscripts/castor_hsp.R /tmp/tmp2kw8dnwl/picrust2_out/out.tre /tmp/tmpbya8bzt4/subset_tab_1 pic 0.5 FALSE FALSE /tmp/tmp82ymryk2/predicted_counts.txt /tmp/tmp82ymryk2/predicted_ci.txt 100\n",
      "\n",
      "Rscript /home/lauro/anaconda3/envs/qiime2-2021.11/lib/python3.8/site-packages/picrust2/Rscripts/castor_hsp.R /tmp/tmp2kw8dnwl/picrust2_out/out.tre /tmp/tmpbya8bzt4/subset_tab_4 pic 0.5 FALSE FALSE /tmp/tmp2fdeqsh3/predicted_counts.txt /tmp/tmp2fdeqsh3/predicted_ci.txt 100\n",
      "\n",
      "\n",
      "hsp.py --tree /tmp/tmp2kw8dnwl/picrust2_out/out.tre --output /tmp/tmp2kw8dnwl/picrust2_out/KO_predicted.tsv.gz --observed_trait_table /home/lauro/anaconda3/envs/qiime2-2021.11/lib/python3.8/site-packages/picrust2/default_files/prokaryotic/ko.txt.gz --hsp_method pic --edge_exponent 0.5 --seed 100 --processes 6 --verbose\n"
     ]
    },
    {
     "name": "stdout",
     "output_type": "stream",
     "text": [
      "\n",
      "\n",
      "\n",
      "\n",
      "\n",
      "\n",
      "\n",
      "\n",
      "\n",
      "\n",
      "\n",
      "\n",
      "\n",
      "\n",
      "\n",
      "\n",
      "\n",
      "\n",
      "\n",
      "\n",
      "\n",
      "\n",
      "\n"
     ]
    },
    {
     "name": "stderr",
     "output_type": "stream",
     "text": [
      "Rscript /home/lauro/anaconda3/envs/qiime2-2021.11/lib/python3.8/site-packages/picrust2/Rscripts/castor_hsp.R /tmp/tmp2kw8dnwl/picrust2_out/out.tre /tmp/tmpas0kfuik/subset_tab_1 pic 0.5 FALSE FALSE /tmp/tmphj43gmay/predicted_counts.txt /tmp/tmphj43gmay/predicted_ci.txt 100\n",
      "\n",
      "Rscript /home/lauro/anaconda3/envs/qiime2-2021.11/lib/python3.8/site-packages/picrust2/Rscripts/castor_hsp.R /tmp/tmp2kw8dnwl/picrust2_out/out.tre /tmp/tmpas0kfuik/subset_tab_10 pic 0.5 FALSE FALSE /tmp/tmp12vxdzfu/predicted_counts.txt /tmp/tmp12vxdzfu/predicted_ci.txt 100\n",
      "\n",
      "Rscript /home/lauro/anaconda3/envs/qiime2-2021.11/lib/python3.8/site-packages/picrust2/Rscripts/castor_hsp.R /tmp/tmp2kw8dnwl/picrust2_out/out.tre /tmp/tmpas0kfuik/subset_tab_16 pic 0.5 FALSE FALSE /tmp/tmp9gegiz21/predicted_counts.txt /tmp/tmp9gegiz21/predicted_ci.txt 100\n",
      "\n",
      "Rscript /home/lauro/anaconda3/envs/qiime2-2021.11/lib/python3.8/site-packages/picrust2/Rscripts/castor_hsp.R /tmp/tmp2kw8dnwl/picrust2_out/out.tre /tmp/tmpas0kfuik/subset_tab_21 pic 0.5 FALSE FALSE /tmp/tmpwyus8ywj/predicted_counts.txt /tmp/tmpwyus8ywj/predicted_ci.txt 100\n",
      "\n",
      "Rscript /home/lauro/anaconda3/envs/qiime2-2021.11/lib/python3.8/site-packages/picrust2/Rscripts/castor_hsp.R /tmp/tmp2kw8dnwl/picrust2_out/out.tre /tmp/tmpas0kfuik/subset_tab_2 pic 0.5 FALSE FALSE /tmp/tmpvu6rjns9/predicted_counts.txt /tmp/tmpvu6rjns9/predicted_ci.txt 100\n",
      "\n",
      "Rscript /home/lauro/anaconda3/envs/qiime2-2021.11/lib/python3.8/site-packages/picrust2/Rscripts/castor_hsp.R /tmp/tmp2kw8dnwl/picrust2_out/out.tre /tmp/tmpas0kfuik/subset_tab_9 pic 0.5 FALSE FALSE /tmp/tmpv0ndr3of/predicted_counts.txt /tmp/tmpv0ndr3of/predicted_ci.txt 100\n",
      "\n",
      "Rscript /home/lauro/anaconda3/envs/qiime2-2021.11/lib/python3.8/site-packages/picrust2/Rscripts/castor_hsp.R /tmp/tmp2kw8dnwl/picrust2_out/out.tre /tmp/tmpas0kfuik/subset_tab_15 pic 0.5 FALSE FALSE /tmp/tmpqyve6nfu/predicted_counts.txt /tmp/tmpqyve6nfu/predicted_ci.txt 100\n",
      "\n",
      "Rscript /home/lauro/anaconda3/envs/qiime2-2021.11/lib/python3.8/site-packages/picrust2/Rscripts/castor_hsp.R /tmp/tmp2kw8dnwl/picrust2_out/out.tre /tmp/tmpas0kfuik/subset_tab_4 pic 0.5 FALSE FALSE /tmp/tmppod0ttr0/predicted_counts.txt /tmp/tmppod0ttr0/predicted_ci.txt 100\n",
      "\n",
      "Rscript /home/lauro/anaconda3/envs/qiime2-2021.11/lib/python3.8/site-packages/picrust2/Rscripts/castor_hsp.R /tmp/tmp2kw8dnwl/picrust2_out/out.tre /tmp/tmpas0kfuik/subset_tab_11 pic 0.5 FALSE FALSE /tmp/tmp08hbeuic/predicted_counts.txt /tmp/tmp08hbeuic/predicted_ci.txt 100\n",
      "\n",
      "Rscript /home/lauro/anaconda3/envs/qiime2-2021.11/lib/python3.8/site-packages/picrust2/Rscripts/castor_hsp.R /tmp/tmp2kw8dnwl/picrust2_out/out.tre /tmp/tmpas0kfuik/subset_tab_17 pic 0.5 FALSE FALSE /tmp/tmpzrjb_qks/predicted_counts.txt /tmp/tmpzrjb_qks/predicted_ci.txt 100\n",
      "\n",
      "Rscript /home/lauro/anaconda3/envs/qiime2-2021.11/lib/python3.8/site-packages/picrust2/Rscripts/castor_hsp.R /tmp/tmp2kw8dnwl/picrust2_out/out.tre /tmp/tmpas0kfuik/subset_tab_3 pic 0.5 FALSE FALSE /tmp/tmpem3nc8k7/predicted_counts.txt /tmp/tmpem3nc8k7/predicted_ci.txt 100\n",
      "\n",
      "Rscript /home/lauro/anaconda3/envs/qiime2-2021.11/lib/python3.8/site-packages/picrust2/Rscripts/castor_hsp.R /tmp/tmp2kw8dnwl/picrust2_out/out.tre /tmp/tmpas0kfuik/subset_tab_6 pic 0.5 FALSE FALSE /tmp/tmpjjalpw7b/predicted_counts.txt /tmp/tmpjjalpw7b/predicted_ci.txt 100\n",
      "\n",
      "Rscript /home/lauro/anaconda3/envs/qiime2-2021.11/lib/python3.8/site-packages/picrust2/Rscripts/castor_hsp.R /tmp/tmp2kw8dnwl/picrust2_out/out.tre /tmp/tmpas0kfuik/subset_tab_12 pic 0.5 FALSE FALSE /tmp/tmp2ilexchf/predicted_counts.txt /tmp/tmp2ilexchf/predicted_ci.txt 100\n",
      "\n",
      "Rscript /home/lauro/anaconda3/envs/qiime2-2021.11/lib/python3.8/site-packages/picrust2/Rscripts/castor_hsp.R /tmp/tmp2kw8dnwl/picrust2_out/out.tre /tmp/tmpas0kfuik/subset_tab_18 pic 0.5 FALSE FALSE /tmp/tmpoek05c53/predicted_counts.txt /tmp/tmpoek05c53/predicted_ci.txt 100\n",
      "\n",
      "Rscript /home/lauro/anaconda3/envs/qiime2-2021.11/lib/python3.8/site-packages/picrust2/Rscripts/castor_hsp.R /tmp/tmp2kw8dnwl/picrust2_out/out.tre /tmp/tmpas0kfuik/subset_tab_0 pic 0.5 FALSE FALSE /tmp/tmphe1uj2s5/predicted_counts.txt /tmp/tmphe1uj2s5/predicted_ci.txt 100\n",
      "\n",
      "Rscript /home/lauro/anaconda3/envs/qiime2-2021.11/lib/python3.8/site-packages/picrust2/Rscripts/castor_hsp.R /tmp/tmp2kw8dnwl/picrust2_out/out.tre /tmp/tmpas0kfuik/subset_tab_8 pic 0.5 FALSE FALSE /tmp/tmpq9al9mkr/predicted_counts.txt /tmp/tmpq9al9mkr/predicted_ci.txt 100\n",
      "\n",
      "Rscript /home/lauro/anaconda3/envs/qiime2-2021.11/lib/python3.8/site-packages/picrust2/Rscripts/castor_hsp.R /tmp/tmp2kw8dnwl/picrust2_out/out.tre /tmp/tmpas0kfuik/subset_tab_13 pic 0.5 FALSE FALSE /tmp/tmp995_dpyo/predicted_counts.txt /tmp/tmp995_dpyo/predicted_ci.txt 100\n",
      "\n",
      "Rscript /home/lauro/anaconda3/envs/qiime2-2021.11/lib/python3.8/site-packages/picrust2/Rscripts/castor_hsp.R /tmp/tmp2kw8dnwl/picrust2_out/out.tre /tmp/tmpas0kfuik/subset_tab_19 pic 0.5 FALSE FALSE /tmp/tmprnu2mmo4/predicted_counts.txt /tmp/tmprnu2mmo4/predicted_ci.txt 100\n",
      "\n",
      "Rscript /home/lauro/anaconda3/envs/qiime2-2021.11/lib/python3.8/site-packages/picrust2/Rscripts/castor_hsp.R /tmp/tmp2kw8dnwl/picrust2_out/out.tre /tmp/tmpas0kfuik/subset_tab_5 pic 0.5 FALSE FALSE /tmp/tmp6j_g3low/predicted_counts.txt /tmp/tmp6j_g3low/predicted_ci.txt 100\n",
      "\n",
      "Rscript /home/lauro/anaconda3/envs/qiime2-2021.11/lib/python3.8/site-packages/picrust2/Rscripts/castor_hsp.R /tmp/tmp2kw8dnwl/picrust2_out/out.tre /tmp/tmpas0kfuik/subset_tab_7 pic 0.5 FALSE FALSE /tmp/tmpp36wvilg/predicted_counts.txt /tmp/tmpp36wvilg/predicted_ci.txt 100\n",
      "\n",
      "Rscript /home/lauro/anaconda3/envs/qiime2-2021.11/lib/python3.8/site-packages/picrust2/Rscripts/castor_hsp.R /tmp/tmp2kw8dnwl/picrust2_out/out.tre /tmp/tmpas0kfuik/subset_tab_14 pic 0.5 FALSE FALSE /tmp/tmpddzyh7ph/predicted_counts.txt /tmp/tmpddzyh7ph/predicted_ci.txt 100\n",
      "\n",
      "Rscript /home/lauro/anaconda3/envs/qiime2-2021.11/lib/python3.8/site-packages/picrust2/Rscripts/castor_hsp.R /tmp/tmp2kw8dnwl/picrust2_out/out.tre /tmp/tmpas0kfuik/subset_tab_20 pic 0.5 FALSE FALSE /tmp/tmpe_fmh34a/predicted_counts.txt /tmp/tmpe_fmh34a/predicted_ci.txt 100\n",
      "\n",
      "\n",
      "Running metagenome pipeline for EC\n",
      "metagenome_pipeline.py --input /tmp/tmp2kw8dnwl/intable.biom --function /tmp/tmp2kw8dnwl/picrust2_out/EC_predicted.tsv.gz --min_reads 1 --min_samples 1 --out_dir /tmp/tmp2kw8dnwl/picrust2_out/EC_metagenome_out --max_nsti 2 --marker /tmp/tmp2kw8dnwl/picrust2_out/marker_predicted_and_nsti.tsv.gz\n"
     ]
    },
    {
     "name": "stdout",
     "output_type": "stream",
     "text": [
      "\n"
     ]
    },
    {
     "name": "stderr",
     "output_type": "stream",
     "text": [
      "1 of 668 ASVs were above the max NSTI cut-off of 2.0 and were removed from the downstream analyses.\n",
      "\n",
      "Running metagenome pipeline for KO\n",
      "metagenome_pipeline.py --input /tmp/tmp2kw8dnwl/intable.biom --function /tmp/tmp2kw8dnwl/picrust2_out/KO_predicted.tsv.gz --min_reads 1 --min_samples 1 --out_dir /tmp/tmp2kw8dnwl/picrust2_out/KO_metagenome_out --max_nsti 2 --marker /tmp/tmp2kw8dnwl/picrust2_out/marker_predicted_and_nsti.tsv.gz\n"
     ]
    },
    {
     "name": "stdout",
     "output_type": "stream",
     "text": [
      "\n",
      "Inferring pathways from predicted EC\n"
     ]
    },
    {
     "name": "stderr",
     "output_type": "stream",
     "text": [
      "1 of 668 ASVs were above the max NSTI cut-off of 2.0 and were removed from the downstream analyses.\n",
      "\n",
      "pathway_pipeline.py --input /tmp/tmp2kw8dnwl/picrust2_out/EC_metagenome_out/pred_metagenome_unstrat.tsv.gz --out_dir /tmp/tmp2kw8dnwl/picrust2_out/pathways_out --map /home/lauro/anaconda3/envs/qiime2-2021.11/lib/python3.8/site-packages/picrust2/default_files/pathway_mapfiles/metacyc_path2rxn_struc_filt_pro.txt --intermediate /tmp/tmp2kw8dnwl/picrust2_out/intermediate/pathways --proc 6 --regroup_map /home/lauro/anaconda3/envs/qiime2-2021.11/lib/python3.8/site-packages/picrust2/default_files/pathway_mapfiles/ec_level4_to_metacyc_rxn.tsv --verbose\n"
     ]
    },
    {
     "name": "stderr",
     "output_type": "stream",
     "text": [
      "\n",
      "Wrote predicted pathway abundances and coverages to /tmp/tmp2kw8dnwl/picrust2_out/pathways_out\n"
     ]
    }
   ],
   "source": [
    "need_pipeline = replace_files\n",
    "need_pipeline |= not (os.path.isfile(ec_path) and os.path.isfile(ko_path) and os.path.isfile(pathway_path))\n",
    "if need_pipeline:\n",
    "    results = picrust2.methods.full_pipeline(\n",
    "        table=tabs, \n",
    "        seq=seqs, \n",
    "        threads=6, \n",
    "        placement_tool='sepp',\n",
    "        hsp_method='pic', \n",
    "        max_nsti=2,\n",
    "        highly_verbose=True\n",
    "    )\n",
    "    ec_metagenome = results.ec_metagenome\n",
    "    ko_metagenome = results.ko_metagenome\n",
    "    pathway_abundance = results.pathway_abundance\n",
    "else:\n",
    "    ec_metagenome = Artifact.load(ec_path)\n",
    "    ko_metagenome = Artifact.load(ko_path)\n",
    "    pathway_abundance = Artifact.load(pathway_path)"
   ]
  },
  {
   "cell_type": "markdown",
   "id": "771308c4",
   "metadata": {
    "papermill": {
     "duration": 0.041724,
     "end_time": "2023-09-04T18:38:24.386076",
     "exception": false,
     "start_time": "2023-09-04T18:38:24.344352",
     "status": "completed"
    },
    "tags": []
   },
   "source": [
    "### Persist created artifacts\n",
    "\n",
    "We will define file paths and persist all artifacts. We start with `.qza` files. We will save the visualization files in sequence as `qzv` files. Finally, we save a `biom`-like file as `tsv` with brief descriptions of all functions."
   ]
  },
  {
   "cell_type": "code",
   "execution_count": 10,
   "id": "c680ab46",
   "metadata": {
    "ExecuteTime": {
     "end_time": "2022-11-09T19:20:47.646444Z",
     "start_time": "2022-11-09T19:20:47.643806Z"
    },
    "execution": {
     "iopub.execute_input": "2023-09-04T18:38:24.475317Z",
     "iopub.status.busy": "2023-09-04T18:38:24.474810Z",
     "iopub.status.idle": "2023-09-04T18:38:24.560288Z",
     "shell.execute_reply": "2023-09-04T18:38:24.559393Z"
    },
    "papermill": {
     "duration": 0.132768,
     "end_time": "2023-09-04T18:38:24.560495",
     "exception": false,
     "start_time": "2023-09-04T18:38:24.427727",
     "status": "completed"
    },
    "tags": []
   },
   "outputs": [],
   "source": [
    "if need_pipeline:\n",
    "    # Export artifact folder\n",
    "    ec_metagenome.export_data(output_dir=ec_path.split('.')[0])\n",
    "    ko_metagenome.export_data(output_dir=ko_path.split('.')[0])\n",
    "    pathway_abundance.export_data(output_dir=pathway_path.split('.')[0])\n",
    "    \n",
    "    # Save artifacts as .qza files\n",
    "    ec_metagenome.save(ec_path)\n",
    "    ko_metagenome.save(ko_path)\n",
    "    pathway_abundance.save(pathway_path)"
   ]
  },
  {
   "cell_type": "code",
   "execution_count": 11,
   "id": "d61ebec3",
   "metadata": {
    "ExecuteTime": {
     "end_time": "2022-11-09T19:20:47.687022Z",
     "start_time": "2022-11-09T19:20:47.647637Z"
    },
    "execution": {
     "iopub.execute_input": "2023-09-04T18:38:24.655690Z",
     "iopub.status.busy": "2023-09-04T18:38:24.655183Z",
     "iopub.status.idle": "2023-09-04T18:38:29.963443Z",
     "shell.execute_reply": "2023-09-04T18:38:29.964193Z"
    },
    "papermill": {
     "duration": 5.35596,
     "end_time": "2023-09-04T18:38:29.964420",
     "exception": false,
     "start_time": "2023-09-04T18:38:24.608460",
     "status": "completed"
    },
    "tags": []
   },
   "outputs": [],
   "source": [
    "need_viz = replace_files\n",
    "need_viz |= not (os.path.isfile(ec_viz_path) and os.path.isfile(ko_viz_path) and os.path.isfile(pathway_viz_path))\n",
    "if need_viz:\n",
    "    # Create visualization artifacts\n",
    "    ec_viz = summarize(table=ec_metagenome, sample_metadata=metadata_qa).visualization\n",
    "    ko_viz = summarize(table=ko_metagenome, sample_metadata=metadata_qa).visualization\n",
    "    path_viz = summarize(table=pathway_abundance, sample_metadata=metadata_qa).visualization\n",
    "\n",
    "    # Save visualization artifacts as .qzv files\n",
    "    ec_viz.save(ec_viz_path)\n",
    "    ko_viz.save(ko_viz_path)\n",
    "    path_viz.save(pathway_viz_path)"
   ]
  },
  {
   "cell_type": "code",
   "execution_count": 12,
   "id": "57f1f4d8",
   "metadata": {
    "ExecuteTime": {
     "end_time": "2022-11-09T19:20:47.704885Z",
     "start_time": "2022-11-09T19:20:47.689312Z"
    },
    "execution": {
     "iopub.execute_input": "2023-09-04T18:38:30.065468Z",
     "iopub.status.busy": "2023-09-04T18:38:30.064832Z",
     "iopub.status.idle": "2023-09-04T18:38:32.853455Z",
     "shell.execute_reply": "2023-09-04T18:38:32.854435Z"
    },
    "papermill": {
     "duration": 2.842471,
     "end_time": "2023-09-04T18:38:32.854723",
     "exception": false,
     "start_time": "2023-09-04T18:38:30.012252",
     "status": "completed"
    },
    "tags": []
   },
   "outputs": [],
   "source": [
    "need_biom = replace_files\n",
    "need_biom |= not (os.path.isfile(ec_fpath) and os.path.isfile(ko_fpath) and os.path.isfile(pathway_fpath))\n",
    "if need_biom:\n",
    "    # Convert artifact to dataframe - transposed\n",
    "    df_pathway = pathway_abundance.view(pd.DataFrame).T\n",
    "    df_ec = ec_metagenome.view(pd.DataFrame).T\n",
    "    df_ko = ko_metagenome.view(pd.DataFrame).T\n",
    "\n",
    "    # Write dataframe to a tsv file\n",
    "    df_pathway.to_csv(pathway_fpath, sep='\\t', index=True)\n",
    "    df_ec.to_csv(ec_fpath, sep='\\t', index=True)\n",
    "    df_ko.to_csv(ko_fpath, sep='\\t', index=True)\n",
    "    \n",
    "    # Put a new column with descriptions of each function's ID\n",
    "    !add_descriptions.py -i {ec_fpath} -m EC -o {ec_desc_fpath}\n",
    "    !add_descriptions.py -i {ko_fpath} -m KO -o {ko_desc_fpath}\n",
    "    !add_descriptions.py -i {pathway_fpath} -m METACYC -o {pathway_desc_fpath}"
   ]
  }
 ],
 "metadata": {
  "celltoolbar": "Edit Metadata",
  "kernelspec": {
   "display_name": "Python 3 (ipykernel)",
   "language": "python",
   "name": "python3"
  },
  "language_info": {
   "codemirror_mode": {
    "name": "ipython",
    "version": 3
   },
   "file_extension": ".py",
   "mimetype": "text/x-python",
   "name": "python",
   "nbconvert_exporter": "python",
   "pygments_lexer": "ipython3",
   "version": "3.8.12"
  },
  "papermill": {
   "default_parameters": {},
   "duration": 375.947895,
   "end_time": "2023-09-04T18:38:34.121330",
   "environment_variables": {},
   "exception": null,
   "input_path": "nb-templates/step-picrust2-analysis.ipynb",
   "output_path": "/home/lauro/nupeb/rede-micro/redemicro-ana-flavia-nutri/experiments/ana-flavia-NCxNR-trim/nb-executed-steps/step-picrust2-analysis-ana-flavia-NCxNR-trim.ipynb",
   "parameters": {
    "base_dir": "/home/lauro/nupeb/rede-micro/redemicro-ana-flavia-nutri",
    "class_col": "group-id",
    "classifier_file": "/home/lauro/nupeb/rede-micro/models/silva-138-99-nb-classifier.qza",
    "experiment_name": "ana-flavia-NCxNR-trim",
    "manifest_file": "/home/lauro/nupeb/rede-micro/redemicro-ana-flavia-nutri/data/raw/manifest/manifest-ana-flavia-NCxNR.csv",
    "metadata_file": "/home/lauro/nupeb/rede-micro/redemicro-ana-flavia-nutri/data/raw/metadata/metadata-ana-flavia-NCxNR.tsv",
    "overlap": 12,
    "phred": 20,
    "replace_files": false,
    "threads": 6,
    "top_n": 20,
    "trim": {
     "forward_primer": "CCTACGGGRSGCAGCAG",
     "overlap": 8,
     "reverse_primer": "GGACTACHVGGGTWTCTAAT"
    },
    "trunc_f": 0,
    "trunc_r": 0
   },
   "start_time": "2023-09-04T18:32:18.173435",
   "version": "2.3.4"
  }
 },
 "nbformat": 4,
 "nbformat_minor": 5
}