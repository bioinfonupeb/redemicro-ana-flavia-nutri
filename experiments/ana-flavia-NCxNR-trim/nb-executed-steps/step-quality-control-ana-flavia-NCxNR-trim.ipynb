{
 "cells": [
  {
   "cell_type": "markdown",
   "id": "0682318b",
   "metadata": {
    "papermill": {
     "duration": 0.028881,
     "end_time": "2022-10-14T17:01:11.454531",
     "exception": false,
     "start_time": "2022-10-14T17:01:11.425650",
     "status": "completed"
    },
    "tags": []
   },
   "source": [
    "# Quality Control and ASV table construction with DADA2"
   ]
  },
  {
   "cell_type": "markdown",
   "id": "9096d4a9",
   "metadata": {
    "papermill": {
     "duration": 0.020114,
     "end_time": "2022-10-14T17:01:11.504051",
     "exception": false,
     "start_time": "2022-10-14T17:01:11.483937",
     "status": "completed"
    },
    "tags": []
   },
   "source": [
    "## Setup and settings"
   ]
  },
  {
   "cell_type": "code",
   "execution_count": 1,
   "id": "90c75c28",
   "metadata": {
    "ExecuteTime": {
     "end_time": "2022-06-29T18:49:49.974644Z",
     "start_time": "2022-06-29T18:49:30.876897Z"
    },
    "execution": {
     "iopub.execute_input": "2022-10-14T17:01:11.543692Z",
     "iopub.status.busy": "2022-10-14T17:01:11.543280Z",
     "iopub.status.idle": "2022-10-14T17:01:17.829554Z",
     "shell.execute_reply": "2022-10-14T17:01:17.828907Z"
    },
    "papermill": {
     "duration": 6.308319,
     "end_time": "2022-10-14T17:01:17.831371",
     "exception": false,
     "start_time": "2022-10-14T17:01:11.523052",
     "status": "completed"
    },
    "tags": []
   },
   "outputs": [],
   "source": [
    "# Importing packages\n",
    "import os\n",
    "import yaml\n",
    "import logging\n",
    "from qiime2 import Artifact\n",
    "from qiime2 import Visualization\n",
    "from qiime2 import Metadata\n",
    "import qiime2.plugins.dada2.actions as dada2_actions\n",
    "import qiime2.plugins.metadata.actions as metadata_actions\n",
    "from qiime2.plugins.feature_table.visualizers import tabulate_seqs\n",
    "from qiime2.plugins.feature_table.visualizers import summarize\n",
    "from qiime2.plugins.feature_table.visualizers import core_features\n",
    "\n",
    "import matplotlib.pyplot as plt\n",
    "\n",
    "%matplotlib inline"
   ]
  },
  {
   "cell_type": "markdown",
   "id": "8c0ab75f",
   "metadata": {
    "papermill": {
     "duration": 0.011618,
     "end_time": "2022-10-14T17:01:17.855306",
     "exception": false,
     "start_time": "2022-10-14T17:01:17.843688",
     "status": "completed"
    },
    "tags": []
   },
   "source": [
    "### Receiving the parameters\n",
    "\n",
    "The following cell can receive parameters using the [papermill](https://papermill.readthedocs.io/en/latest/) tool."
   ]
  },
  {
   "cell_type": "code",
   "execution_count": 2,
   "id": "1b5c5b94",
   "metadata": {
    "ExecuteTime": {
     "end_time": "2022-06-29T18:54:01.035034Z",
     "start_time": "2022-06-29T18:54:01.028724Z"
    },
    "execution": {
     "iopub.execute_input": "2022-10-14T17:01:17.910001Z",
     "iopub.status.busy": "2022-10-14T17:01:17.909694Z",
     "iopub.status.idle": "2022-10-14T17:01:17.915207Z",
     "shell.execute_reply": "2022-10-14T17:01:17.914590Z"
    },
    "papermill": {
     "duration": 0.021702,
     "end_time": "2022-10-14T17:01:17.918316",
     "exception": false,
     "start_time": "2022-10-14T17:01:17.896614",
     "status": "completed"
    },
    "tags": [
     "parameters"
    ]
   },
   "outputs": [],
   "source": [
    "experiment_name = 'ana-flavia-superlactacao'\n",
    "base_dir = os.path.join('/', 'home', 'lauro', 'nupeb', 'redemicro')\n",
    "metadata_file = os.path.join(base_dir, 'data', 'raw', 'metadata', 'sample-metadata.tsv')\n",
    "replace_files = False\n",
    "phred = 20\n",
    "trunc_f = 0\n",
    "trunc_r = 0\n",
    "overlap = 12\n",
    "threads = 6\n",
    "trim = None"
   ]
  },
  {
   "cell_type": "code",
   "execution_count": 3,
   "id": "1e76b84a",
   "metadata": {
    "execution": {
     "iopub.execute_input": "2022-10-14T17:01:17.955445Z",
     "iopub.status.busy": "2022-10-14T17:01:17.955292Z",
     "iopub.status.idle": "2022-10-14T17:01:17.959070Z",
     "shell.execute_reply": "2022-10-14T17:01:17.958586Z"
    },
    "papermill": {
     "duration": 0.017579,
     "end_time": "2022-10-14T17:01:17.960425",
     "exception": false,
     "start_time": "2022-10-14T17:01:17.942846",
     "status": "completed"
    },
    "tags": [
     "injected-parameters"
    ]
   },
   "outputs": [],
   "source": [
    "# Parameters\n",
    "experiment_name = \"ana-flavia-NCxNR-trim\"\n",
    "base_dir = \"/home/lauro/nupeb/rede-micro/redemicro-ana-flavia-nutri\"\n",
    "manifest_file = \"/home/lauro/nupeb/rede-micro/redemicro-ana-flavia-nutri/data/raw/manifest/manifest-ana-flavia-NCxNR.csv\"\n",
    "metadata_file = \"/home/lauro/nupeb/rede-micro/redemicro-ana-flavia-nutri/data/raw/metadata/metadata-ana-flavia-NCxNR.tsv\"\n",
    "class_col = \"group-id\"\n",
    "classifier_file = \"/home/lauro/nupeb/dados_brutos_rede_genoma/16S_classifiers_qiime2/silva-138-99-nb-classifier.qza\"\n",
    "replace_files = False\n",
    "phred = 20\n",
    "trunc_f = 0\n",
    "trunc_r = 0\n",
    "overlap = 12\n",
    "threads = 6\n",
    "trim = {\n",
    "    \"overlap\": 8,\n",
    "    \"forward_primer\": \"CCTACGGGRSGCAGCAG\",\n",
    "    \"reverse_primer\": \"GGACTACHVGGGTWTCTAAT\",\n",
    "}\n"
   ]
  },
  {
   "cell_type": "code",
   "execution_count": 4,
   "id": "1669e482",
   "metadata": {
    "execution": {
     "iopub.execute_input": "2022-10-14T17:01:17.986817Z",
     "iopub.status.busy": "2022-10-14T17:01:17.986626Z",
     "iopub.status.idle": "2022-10-14T17:01:17.990891Z",
     "shell.execute_reply": "2022-10-14T17:01:17.990410Z"
    },
    "papermill": {
     "duration": 0.019896,
     "end_time": "2022-10-14T17:01:17.994161",
     "exception": false,
     "start_time": "2022-10-14T17:01:17.974265",
     "status": "completed"
    },
    "tags": []
   },
   "outputs": [],
   "source": [
    "# Setting hardcoded parameters for development and debbuging\n",
    "production = True\n",
    "if not production:\n",
    "    params_path = os.path.join('..', 'params', 'ana-flavia-superlactacao.yaml')\n",
    "    with open(params_path, 'r') as stream:\n",
    "        params = yaml.safe_load(stream)\n",
    "        experiment_name = params['experiment_name']\n",
    "        base_dir = params['base_dir']\n",
    "        replace_files = params['replace_files']\n",
    "        experiment_folder = os.path.abspath(os.path.join(os.getcwd(), '..', 'experiments', 'thayane-feces-01'))\n",
    "        img_folder = os.path.abspath(os.path.join(experiment_folder, 'imgs'))\n",
    "        replace_files = False\n",
    "        phred = 20\n",
    "        trunc_f = 0\n",
    "        trunc_r = 0\n",
    "        overlap = 12\n",
    "        threads = 6"
   ]
  },
  {
   "cell_type": "code",
   "execution_count": 5,
   "id": "aecff4ee",
   "metadata": {
    "ExecuteTime": {
     "end_time": "2022-06-29T18:51:02.089300Z",
     "start_time": "2022-06-29T18:51:02.084922Z"
    },
    "execution": {
     "iopub.execute_input": "2022-10-14T17:01:18.022012Z",
     "iopub.status.busy": "2022-10-14T17:01:18.021753Z",
     "iopub.status.idle": "2022-10-14T17:01:18.025495Z",
     "shell.execute_reply": "2022-10-14T17:01:18.024850Z"
    },
    "papermill": {
     "duration": 0.019044,
     "end_time": "2022-10-14T17:01:18.026988",
     "exception": false,
     "start_time": "2022-10-14T17:01:18.007944",
     "status": "completed"
    },
    "tags": []
   },
   "outputs": [],
   "source": [
    "experiment_folder = os.path.abspath(os.path.join(base_dir, 'experiments', experiment_name))\n",
    "img_folder = os.path.abspath(os.path.join(experiment_folder, 'imgs'))"
   ]
  },
  {
   "cell_type": "markdown",
   "id": "13f787a6",
   "metadata": {
    "papermill": {
     "duration": 0.011848,
     "end_time": "2022-10-14T17:01:18.050569",
     "exception": false,
     "start_time": "2022-10-14T17:01:18.038721",
     "status": "completed"
    },
    "tags": []
   },
   "source": [
    "### Defining names and paths"
   ]
  },
  {
   "cell_type": "code",
   "execution_count": 6,
   "id": "05aba27d",
   "metadata": {
    "ExecuteTime": {
     "end_time": "2022-05-30T19:57:39.064490Z",
     "start_time": "2022-05-30T19:57:39.007809Z"
    },
    "execution": {
     "iopub.execute_input": "2022-10-14T17:01:18.075437Z",
     "iopub.status.busy": "2022-10-14T17:01:18.075169Z",
     "iopub.status.idle": "2022-10-14T17:01:18.082342Z",
     "shell.execute_reply": "2022-10-14T17:01:18.081573Z"
    },
    "papermill": {
     "duration": 0.0217,
     "end_time": "2022-10-14T17:01:18.084068",
     "exception": false,
     "start_time": "2022-10-14T17:01:18.062368",
     "status": "completed"
    },
    "tags": []
   },
   "outputs": [],
   "source": [
    "qiime_folder = os.path.join(experiment_folder, 'qiime-artifacts')\n",
    "\n",
    "if trim:\n",
    "    demux_file = os.path.join(qiime_folder, 'demux-paired-trim.qza')\n",
    "else:\n",
    "    demux_file = os.path.join(qiime_folder, 'demux-paired.qza')\n",
    "\n",
    "dada2_tabs = os.path.join(qiime_folder, 'dada2-tabs.qza')\n",
    "dada2_reps = os.path.join(qiime_folder, 'dada2-reps.qza')\n",
    "dada2_stat = os.path.join(qiime_folder, 'dada2-stat.qza')\n",
    "\n",
    "\n",
    "dada2_tabs_view = dada2_tabs[:-1] + 'v'\n",
    "dada2_reps_view = dada2_reps[:-1] + 'v'\n",
    "dada2_stat_view = dada2_stat[:-1] + 'v'\n",
    "dada2_core_view = os.path.join(qiime_folder, 'dada2-core.qzv')"
   ]
  },
  {
   "cell_type": "markdown",
   "id": "66cd86ca",
   "metadata": {
    "papermill": {
     "duration": 0.011883,
     "end_time": "2022-10-14T17:01:18.109679",
     "exception": false,
     "start_time": "2022-10-14T17:01:18.097796",
     "status": "completed"
    },
    "tags": []
   },
   "source": [
    "## Step execution\n",
    "\n",
    "### Load input files\n",
    "\n",
    "This Step import the QIIME2 `SampleData[PairedEndSequencesWithQuality]` Artifact with all demultiplexed sequences and the `Metadata` file."
   ]
  },
  {
   "cell_type": "code",
   "execution_count": 7,
   "id": "22b31561",
   "metadata": {
    "ExecuteTime": {
     "end_time": "2022-05-30T19:57:39.077380Z",
     "start_time": "2022-05-30T19:57:39.066746Z"
    },
    "execution": {
     "iopub.execute_input": "2022-10-14T17:01:18.141713Z",
     "iopub.status.busy": "2022-10-14T17:01:18.141303Z",
     "iopub.status.idle": "2022-10-14T17:01:18.147338Z",
     "shell.execute_reply": "2022-10-14T17:01:18.146565Z"
    },
    "papermill": {
     "duration": 0.027326,
     "end_time": "2022-10-14T17:01:18.148889",
     "exception": false,
     "start_time": "2022-10-14T17:01:18.121563",
     "status": "completed"
    },
    "tags": []
   },
   "outputs": [],
   "source": [
    "need_dada2 = not (os.path.isfile(dada2_tabs) and os.path.isfile(dada2_reps) and os.path.isfile(dada2_stat)) or replace_files\n",
    "need_view = not (os.path.isfile(dada2_tabs_view) and os.path.isfile(dada2_reps_view) and os.path.isfile(dada2_stat_view)) or replace_files"
   ]
  },
  {
   "cell_type": "code",
   "execution_count": 8,
   "id": "a66de235",
   "metadata": {
    "ExecuteTime": {
     "end_time": "2022-05-30T19:57:39.089632Z",
     "start_time": "2022-05-30T19:57:39.079347Z"
    },
    "execution": {
     "iopub.execute_input": "2022-10-14T17:01:18.175927Z",
     "iopub.status.busy": "2022-10-14T17:01:18.175563Z",
     "iopub.status.idle": "2022-10-14T17:01:18.180001Z",
     "shell.execute_reply": "2022-10-14T17:01:18.179164Z"
    },
    "papermill": {
     "duration": 0.019754,
     "end_time": "2022-10-14T17:01:18.181678",
     "exception": false,
     "start_time": "2022-10-14T17:01:18.161924",
     "status": "completed"
    },
    "tags": []
   },
   "outputs": [],
   "source": [
    "if need_dada2:\n",
    "    demux = Artifact.load(demux_file)"
   ]
  },
  {
   "cell_type": "code",
   "execution_count": 9,
   "id": "d571328c",
   "metadata": {
    "ExecuteTime": {
     "end_time": "2022-05-30T19:57:39.145879Z",
     "start_time": "2022-05-30T19:57:39.091983Z"
    },
    "execution": {
     "iopub.execute_input": "2022-10-14T17:01:18.207503Z",
     "iopub.status.busy": "2022-10-14T17:01:18.207107Z",
     "iopub.status.idle": "2022-10-14T17:01:18.236828Z",
     "shell.execute_reply": "2022-10-14T17:01:18.236264Z"
    },
    "papermill": {
     "duration": 0.04541,
     "end_time": "2022-10-14T17:01:18.239261",
     "exception": false,
     "start_time": "2022-10-14T17:01:18.193851",
     "status": "completed"
    },
    "tags": []
   },
   "outputs": [],
   "source": [
    "metadata = Metadata.load(metadata_file)"
   ]
  },
  {
   "cell_type": "markdown",
   "id": "5ef99f20",
   "metadata": {
    "papermill": {
     "duration": 0.012165,
     "end_time": "2022-10-14T17:01:18.272119",
     "exception": false,
     "start_time": "2022-10-14T17:01:18.259954",
     "status": "completed"
    },
    "tags": []
   },
   "source": [
    "### Execute DADA2 plugin and create Artifacts\n",
    "\n",
    "The DADA2 plugin perform tha quality control and create the ASV table. It will be produced three Artifacts:\n",
    "\n",
    "- tabs (`FeatureTable[Frequency]`) : \n",
    "    The resulting feature table.\n",
    "- reps (`FeatureData[Sequence]`) :\n",
    "    The resulting feature sequences. Each feature in the feature table will\n",
    "    be represented by exactly one sequence, and these sequences will be the\n",
    "    joined paired-end sequences.\n",
    "- denoising_stats (`SampleData[DADA2Stats]`) : the resulting stats. Shows the number and the proportion of filtered reads in each phase of the plugin execution."
   ]
  },
  {
   "cell_type": "code",
   "execution_count": 10,
   "id": "6f9690d1",
   "metadata": {
    "ExecuteTime": {
     "end_time": "2022-05-30T19:57:39.171629Z",
     "start_time": "2022-05-30T19:57:39.147370Z"
    },
    "execution": {
     "iopub.execute_input": "2022-10-14T17:01:18.297875Z",
     "iopub.status.busy": "2022-10-14T17:01:18.297539Z",
     "iopub.status.idle": "2022-10-14T17:01:18.385122Z",
     "shell.execute_reply": "2022-10-14T17:01:18.384488Z"
    },
    "papermill": {
     "duration": 0.102756,
     "end_time": "2022-10-14T17:01:18.387073",
     "exception": false,
     "start_time": "2022-10-14T17:01:18.284317",
     "status": "completed"
    },
    "scrolled": true,
    "tags": []
   },
   "outputs": [],
   "source": [
    "# If some of the DADA2 outputs artifacts do not exist or if the old files will be replaced\n",
    "if need_dada2:\n",
    "    \n",
    "    # Excute the DADA2 plugin\n",
    "    tabs, reps, stat = dada2_actions.denoise_paired(\n",
    "        demultiplexed_seqs=demux,\n",
    "        trunc_q = phred,\n",
    "        min_overlap = overlap,\n",
    "        n_threads = threads,\n",
    "        trunc_len_f = trunc_f,\n",
    "        trunc_len_r = trunc_r,\n",
    "    )\n",
    "    \n",
    "    # Save the artifacts objects\n",
    "    tabs.save(dada2_tabs)\n",
    "    reps.save(dada2_reps)\n",
    "    stat.save(dada2_stat)\n",
    "\n",
    "else:\n",
    "    tabs = Artifact.load(dada2_tabs)\n",
    "    reps = Artifact.load(dada2_reps)\n",
    "    stat = Artifact.load(dada2_stat)"
   ]
  },
  {
   "cell_type": "markdown",
   "id": "a6351e0f",
   "metadata": {
    "papermill": {
     "duration": 0.01277,
     "end_time": "2022-10-14T17:01:18.418722",
     "exception": false,
     "start_time": "2022-10-14T17:01:18.405952",
     "status": "completed"
    },
    "tags": []
   },
   "source": [
    "### Define Visualizations Artifacts"
   ]
  },
  {
   "cell_type": "code",
   "execution_count": 11,
   "id": "4232b4e6",
   "metadata": {
    "ExecuteTime": {
     "end_time": "2022-05-30T19:57:39.249051Z",
     "start_time": "2022-05-30T19:57:39.173053Z"
    },
    "execution": {
     "iopub.execute_input": "2022-10-14T17:01:18.446598Z",
     "iopub.status.busy": "2022-10-14T17:01:18.446175Z",
     "iopub.status.idle": "2022-10-14T17:01:18.628120Z",
     "shell.execute_reply": "2022-10-14T17:01:18.627432Z"
    },
    "papermill": {
     "duration": 0.19908,
     "end_time": "2022-10-14T17:01:18.630729",
     "exception": false,
     "start_time": "2022-10-14T17:01:18.431649",
     "status": "completed"
    },
    "tags": []
   },
   "outputs": [],
   "source": [
    "# If some of the DADA2 Visualization artifacts do not exist or if the old files will be replaced\n",
    "if need_view:\n",
    "    \n",
    "    tabs_view, = metadata_actions.tabulate(input=tabs.view(Metadata))\n",
    "    reps_view, = metadata_actions.tabulate(input=reps.view(Metadata))\n",
    "    stat_view, = metadata_actions.tabulate(input=stat.view(Metadata))\n",
    "    \n",
    "    tabs_view = summarize(table=tabs, sample_metadata=metadata).visualization\n",
    "    reps_view = tabulate_seqs(data=reps).visualization\n",
    "    core_view = core_features(table=tabs, min_fraction=.1, steps=10).visualization\n",
    "    \n",
    "    \n",
    "    # Save the artifacts objects\n",
    "    tabs_view.save(dada2_tabs_view)\n",
    "    reps_view.save(dada2_reps_view)\n",
    "    stat_view.save(dada2_stat_view)\n",
    "    core_view.save(dada2_core_view)\n",
    "\n",
    "else:\n",
    "    tabs_view = Visualization.load(dada2_tabs_view)\n",
    "    reps_view = Visualization.load(dada2_reps_view)\n",
    "    stat_view = Visualization.load(dada2_stat_view)\n",
    "    core_view = Visualization.load(dada2_core_view)"
   ]
  },
  {
   "cell_type": "code",
   "execution_count": 12,
   "id": "71ca70a4",
   "metadata": {
    "ExecuteTime": {
     "end_time": "2022-05-30T19:57:39.901491Z",
     "start_time": "2022-05-30T19:57:39.255220Z"
    },
    "execution": {
     "iopub.execute_input": "2022-10-14T17:01:18.663873Z",
     "iopub.status.busy": "2022-10-14T17:01:18.663527Z",
     "iopub.status.idle": "2022-10-14T17:01:19.266105Z",
     "shell.execute_reply": "2022-10-14T17:01:19.265486Z"
    },
    "papermill": {
     "duration": 0.619192,
     "end_time": "2022-10-14T17:01:19.268672",
     "exception": false,
     "start_time": "2022-10-14T17:01:18.649480",
     "status": "completed"
    },
    "tags": []
   },
   "outputs": [
    {
     "data": {
      "image/png": "[encoded data removed]",
      "text/plain": [
       "<Figure size 1080x360 with 2 Axes>"
      ]
     },
     "metadata": {
      "needs_background": "light"
     },
     "output_type": "display_data"
    }
   ],
   "source": [
    "def plot_stats_box(artifact, fname):\n",
    "    import matplotlib.pyplot as plt\n",
    "    from qiime2 import Metadata\n",
    "    \n",
    "    values_head = ['input', 'filtered', 'denoised', 'merged', 'non-chimeric']\n",
    "    percent_head = ['percentage of input passed filter', 'percentage of input merged', 'percentage of input non-chimeric']\n",
    "    \n",
    "    df = artifact.view(Metadata).to_dataframe()\n",
    "    df_vals = df[values_head]\n",
    "    df_perc = df[percent_head]\n",
    "    df_perc.columns = ['filtered', 'merged', 'non-chimeric']\n",
    "    \n",
    "    \n",
    "    plt.figure(figsize=(15,5))\n",
    "    plt.subplot(1, 2, 1)\n",
    "    df_vals.boxplot()\n",
    "    plt.xlabel('Fases')\n",
    "    plt.ylabel('# of reads')\n",
    "    \n",
    "    plt.subplot(1, 2, 2)\n",
    "    df_perc.boxplot()\n",
    "    plt.xlabel('Fases')\n",
    "    plt.ylabel('% of input')\n",
    "    \n",
    "    plt.savefig(fname, bbox_inches='tight')\n",
    "\n",
    "    plt.show()\n",
    "\n",
    "plot_stats_box(stat, os.path.join(img_folder, 'step02-stats-boxplot.pdf'))"
   ]
  },
  {
   "cell_type": "code",
   "execution_count": 13,
   "id": "b48561e9",
   "metadata": {
    "ExecuteTime": {
     "end_time": "2022-05-31T17:58:47.140114Z",
     "start_time": "2022-05-31T17:58:47.087808Z"
    },
    "execution": {
     "iopub.execute_input": "2022-10-14T17:01:19.301437Z",
     "iopub.status.busy": "2022-10-14T17:01:19.301208Z",
     "iopub.status.idle": "2022-10-14T17:01:19.345990Z",
     "shell.execute_reply": "2022-10-14T17:01:19.345489Z"
    },
    "papermill": {
     "duration": 0.061378,
     "end_time": "2022-10-14T17:01:19.348100",
     "exception": false,
     "start_time": "2022-10-14T17:01:19.286722",
     "status": "completed"
    },
    "tags": []
   },
   "outputs": [
    {
     "data": {
      "text/html": [
       "<div>\n",
       "<style scoped>\n",
       "    .dataframe tbody tr th:only-of-type {\n",
       "        vertical-align: middle;\n",
       "    }\n",
       "\n",
       "    .dataframe tbody tr th {\n",
       "        vertical-align: top;\n",
       "    }\n",
       "\n",
       "    .dataframe thead th {\n",
       "        text-align: right;\n",
       "    }\n",
       "</style>\n",
       "<table border=\"1\" class=\"dataframe\">\n",
       "  <thead>\n",
       "    <tr style=\"text-align: right;\">\n",
       "      <th></th>\n",
       "      <th>percentage of input passed filter</th>\n",
       "      <th>percentage of input merged</th>\n",
       "      <th>percentage of input non-chimeric</th>\n",
       "    </tr>\n",
       "  </thead>\n",
       "  <tbody>\n",
       "    <tr>\n",
       "      <th>count</th>\n",
       "      <td>9.000000</td>\n",
       "      <td>9.000000</td>\n",
       "      <td>9.000000</td>\n",
       "    </tr>\n",
       "    <tr>\n",
       "      <th>mean</th>\n",
       "      <td>83.097778</td>\n",
       "      <td>77.480000</td>\n",
       "      <td>73.957778</td>\n",
       "    </tr>\n",
       "    <tr>\n",
       "      <th>std</th>\n",
       "      <td>0.355555</td>\n",
       "      <td>1.087934</td>\n",
       "      <td>3.428880</td>\n",
       "    </tr>\n",
       "    <tr>\n",
       "      <th>min</th>\n",
       "      <td>82.700000</td>\n",
       "      <td>75.790000</td>\n",
       "      <td>68.380000</td>\n",
       "    </tr>\n",
       "    <tr>\n",
       "      <th>25%</th>\n",
       "      <td>82.880000</td>\n",
       "      <td>76.660000</td>\n",
       "      <td>71.520000</td>\n",
       "    </tr>\n",
       "    <tr>\n",
       "      <th>50%</th>\n",
       "      <td>82.940000</td>\n",
       "      <td>77.380000</td>\n",
       "      <td>75.260000</td>\n",
       "    </tr>\n",
       "    <tr>\n",
       "      <th>75%</th>\n",
       "      <td>83.510000</td>\n",
       "      <td>78.490000</td>\n",
       "      <td>75.870000</td>\n",
       "    </tr>\n",
       "    <tr>\n",
       "      <th>max</th>\n",
       "      <td>83.570000</td>\n",
       "      <td>78.870000</td>\n",
       "      <td>78.430000</td>\n",
       "    </tr>\n",
       "  </tbody>\n",
       "</table>\n",
       "</div>"
      ],
      "text/plain": [
       "       percentage of input passed filter  percentage of input merged  \\\n",
       "count                           9.000000                    9.000000   \n",
       "mean                           83.097778                   77.480000   \n",
       "std                             0.355555                    1.087934   \n",
       "min                            82.700000                   75.790000   \n",
       "25%                            82.880000                   76.660000   \n",
       "50%                            82.940000                   77.380000   \n",
       "75%                            83.510000                   78.490000   \n",
       "max                            83.570000                   78.870000   \n",
       "\n",
       "       percentage of input non-chimeric  \n",
       "count                          9.000000  \n",
       "mean                          73.957778  \n",
       "std                            3.428880  \n",
       "min                           68.380000  \n",
       "25%                           71.520000  \n",
       "50%                           75.260000  \n",
       "75%                           75.870000  \n",
       "max                           78.430000  "
      ]
     },
     "execution_count": 13,
     "metadata": {},
     "output_type": "execute_result"
    }
   ],
   "source": [
    "percent_head = ['percentage of input passed filter', 'percentage of input merged', 'percentage of input non-chimeric']\n",
    "stat.view(Metadata).to_dataframe().describe()[percent_head]"
   ]
  },
  {
   "cell_type": "code",
   "execution_count": 14,
   "id": "f8a4d404",
   "metadata": {
    "ExecuteTime": {
     "end_time": "2022-05-30T19:57:39.957632Z",
     "start_time": "2022-05-30T19:57:39.953762Z"
    },
    "execution": {
     "iopub.execute_input": "2022-10-14T17:01:19.381904Z",
     "iopub.status.busy": "2022-10-14T17:01:19.381565Z",
     "iopub.status.idle": "2022-10-14T17:01:19.387686Z",
     "shell.execute_reply": "2022-10-14T17:01:19.386949Z"
    },
    "papermill": {
     "duration": 0.022933,
     "end_time": "2022-10-14T17:01:19.389268",
     "exception": false,
     "start_time": "2022-10-14T17:01:19.366335",
     "status": "completed"
    },
    "tags": []
   },
   "outputs": [
    {
     "data": {
      "text/html": [
       "<div><img onload=\"(function(div, url){\n",
       "if (typeof require !== 'undefined') {\n",
       "    var baseURL = require.toUrl('').split('/').slice(0, -2).join('/');\n",
       "} else {\n",
       "    var baseURL = JSON.parse(\n",
       "        document.getElementById('jupyter-config-data').innerHTML\n",
       "    ).baseUrl.slice(0, -1);\n",
       "}\n",
       "url = baseURL + url;\n",
       "fetch(url).then(function(res) {\n",
       "    if (res.status === 404) {\n",
       "        div.innerHTML = 'Install QIIME 2 Jupyter extension with:<br />' +\n",
       "                        '<code>jupyter serverextension enable --py qiime2' +\n",
       "                        ' --sys-prefix</code><br />then restart your server.' +\n",
       "                        '<br /><br />(Interactive output not available on ' +\n",
       "                        'static notebook viewer services like nbviewer.)';\n",
       "    } else if (res.status === 409) {\n",
       "        div.innerHTML = 'Visualization no longer in scope. Re-run this cell' +\n",
       "                        ' to see the visualization.';\n",
       "    } else if (res.ok) {\n",
       "        url = res.url;\n",
       "        div.innerHTML = '<iframe src=\\'' + url + '\\' style=\\'' +\n",
       "                        'width: 100%; height: 700px; border: 0;\\'>' +\n",
       "                        '</iframe><hr />Open in a: <a href=\\'' + url + '\\'' +\n",
       "                        ' target=\\'_blank\\'>new window</a>'\n",
       "    } else {\n",
       "        div.innerHTML = 'Something has gone wrong. Check notebook server for' +\n",
       "                        ' errors.';\n",
       "    }\n",
       "});\n",
       "})(this.parentElement, '/qiime2/redirect?location=/tmp/qiime2-archive-e6e2dpq5')\" src=\"data:image/gif;base64,R0lGODlhAQABAIAAAP///wAAACH5BAEAAAAALAAAAAABAAEAAAICRAEAOw==\" /></div>"
      ],
      "text/plain": [
       "<visualization: Visualization uuid: ac65f62f-0a3f-4377-9544-18c768c8278e>"
      ]
     },
     "execution_count": 14,
     "metadata": {},
     "output_type": "execute_result"
    }
   ],
   "source": [
    "stat_view"
   ]
  },
  {
   "cell_type": "code",
   "execution_count": 15,
   "id": "b5fc5df8",
   "metadata": {
    "ExecuteTime": {
     "end_time": "2022-05-30T19:57:39.967918Z",
     "start_time": "2022-05-30T19:57:39.958955Z"
    },
    "execution": {
     "iopub.execute_input": "2022-10-14T17:01:19.420780Z",
     "iopub.status.busy": "2022-10-14T17:01:19.420405Z",
     "iopub.status.idle": "2022-10-14T17:01:19.424935Z",
     "shell.execute_reply": "2022-10-14T17:01:19.424091Z"
    },
    "papermill": {
     "duration": 0.022302,
     "end_time": "2022-10-14T17:01:19.426576",
     "exception": false,
     "start_time": "2022-10-14T17:01:19.404274",
     "status": "completed"
    },
    "tags": []
   },
   "outputs": [],
   "source": [
    "# new_stat = Artifact.load('/home/lauro/nupeb/redemicro/experiments/thayane-feces-01/qiime-artifacts/dada2-stat.qza')\n",
    "# # new_view, = metadata_actions.tabulate(input=new_stat.view(Metadata))\n",
    "# # plot_stats_box(old_stat)\n",
    "\n",
    "# old_stat = Artifact.load('/home/lauro/nupeb/dados_brutos_rede_genoma/experiments/fezes-phred_20-tf_0-tr_0-lap_4/fezes_dada2_stat.qza')\n",
    "# # old_view, = metadata_actions.tabulate(input=old_stat.view(Metadata))\n",
    "# # plot_stats_box(old_stat)\n",
    "\n",
    "# plot_stats_box_pairs(old_stat, new_stat)"
   ]
  }
 ],
 "metadata": {
  "celltoolbar": "Edit Metadata",
  "kernelspec": {
   "display_name": "Python 3 (ipykernel)",
   "language": "python",
   "name": "python3"
  },
  "language_info": {
   "codemirror_mode": {
    "name": "ipython",
    "version": 3
   },
   "file_extension": ".py",
   "mimetype": "text/x-python",
   "name": "python",
   "nbconvert_exporter": "python",
   "pygments_lexer": "ipython3",
   "version": "3.8.12"
  },
  "papermill": {
   "default_parameters": {},
   "duration": 10.141364,
   "end_time": "2022-10-14T17:01:20.262423",
   "environment_variables": {},
   "exception": null,
   "input_path": "nb-templates/step-quality-control.ipynb",
   "output_path": "/home/lauro/nupeb/rede-micro/redemicro-ana-flavia-nutri/experiments/ana-flavia-NCxNR-trim/nb-executed-steps/step-quality-control-ana-flavia-NCxNR-trim.ipynb",
   "parameters": {
    "base_dir": "/home/lauro/nupeb/rede-micro/redemicro-ana-flavia-nutri",
    "class_col": "group-id",
    "classifier_file": "/home/lauro/nupeb/dados_brutos_rede_genoma/16S_classifiers_qiime2/silva-138-99-nb-classifier.qza",
    "experiment_name": "ana-flavia-NCxNR-trim",
    "manifest_file": "/home/lauro/nupeb/rede-micro/redemicro-ana-flavia-nutri/data/raw/manifest/manifest-ana-flavia-NCxNR.csv",
    "metadata_file": "/home/lauro/nupeb/rede-micro/redemicro-ana-flavia-nutri/data/raw/metadata/metadata-ana-flavia-NCxNR.tsv",
    "overlap": 12,
    "phred": 20,
    "replace_files": false,
    "threads": 6,
    "trim": {
     "forward_primer": "CCTACGGGRSGCAGCAG",
     "overlap": 8,
     "reverse_primer": "GGACTACHVGGGTWTCTAAT"
    },
    "trunc_f": 0,
    "trunc_r": 0
   },
   "start_time": "2022-10-14T17:01:10.121059",
   "version": "2.3.4"
  },
  "toc-autonumbering": false,
  "toc-showcode": false,
  "toc-showmarkdowntxt": false
 },
 "nbformat": 4,
 "nbformat_minor": 5
}