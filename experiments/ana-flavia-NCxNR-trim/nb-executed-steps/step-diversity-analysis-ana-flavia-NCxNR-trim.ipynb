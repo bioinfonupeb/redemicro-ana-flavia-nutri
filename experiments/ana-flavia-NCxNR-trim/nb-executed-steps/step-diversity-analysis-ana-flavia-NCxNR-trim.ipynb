{
 "cells": [
  {
   "cell_type": "markdown",
   "id": "15bcfa06",
   "metadata": {
    "papermill": {
     "duration": 0.024756,
     "end_time": "2023-06-06T22:46:35.680479",
     "exception": false,
     "start_time": "2023-06-06T22:46:35.655723",
     "status": "completed"
    },
    "tags": []
   },
   "source": [
    " \n",
    "# Alpha and Beta Diversity\n",
    "\n",
    "Different higher-level measures are often used to describe the microbiome in a sample. These do not provide information on changes in the abundance of specific taxa but allow us to access a broader change or difference in the composition of microorganisms. Alpha and beta diversity are examples of such measures.\n",
    "\n",
    "Different measures exist to estimate diversity within a single sample, jointly called alpha diversity. The different measures reflect the richness (number) or distribution (evenness) of a microbial sample or aim to reflect a combination of both properties.\n",
    "\n",
    "Rarefaction curves are often used when calculating alpha diversity indices because increasing numbers of sequenced taxa allow increasingly accurate estimates of total population diversity. Rarefaction curves can therefore be used to estimate the full sample richness, as compared to the observed sample richness.\n",
    "\n",
    "While alpha diversity is a measure of microbiome diversity applicable to a single sample, beta diversity is a measure of the similarity or dissimilarity of two communities. As for alpha diversity, many indices exist, each reflecting different aspects of community heterogeneity. Key differences relate to how the indices value variation in rare species if they consider presence/absence only or incorporate abundance, and how they interpret shared absence. Bray-Curtis dissimilarity is a popular measure that considers both size (overall abundance per sample) and shape (abundance of each taxon) of the communities (Bray, 1957). Beta diversity is an essential measure for many popular statistical methods in ecology, such as ordination-based methods, and is widely used for studying the association between environmental variables and microbial composition.\n",
    "\n",
    "In summary, alpha diversity measures can be seen as a summary statistic of a single population (within-sample diversity), while beta diversity measures are estimates of similarity or dissimilarity between populations (between samples).\n",
    "\n",
    "**Source**: (https://biomcare.com/info/key-terms-in-microbiome-projects/)"
   ]
  },
  {
   "cell_type": "markdown",
   "id": "0e7f2330",
   "metadata": {
    "ExecuteTime": {
     "end_time": "2022-09-22T19:36:33.828188Z",
     "start_time": "2022-09-22T19:36:33.817323Z"
    },
    "papermill": {
     "duration": 0.036644,
     "end_time": "2023-06-06T22:46:35.802285",
     "exception": false,
     "start_time": "2023-06-06T22:46:35.765641",
     "status": "completed"
    },
    "tags": []
   },
   "source": [
    "### STEP : Diversity Analysis\n",
    "\n",
    "Using QIIME2 to create diversity analisys graphs and calculations.\n",
    "\n",
    "- [QIIME2 Workflow Overview](https://docs.qiime2.org/2022.8/tutorials/overview/)\n",
    "\n",
    "\n",
    "#### Methods\n",
    "- [diversity](https://docs.qiime2.org/2022.8/plugins/available/diversity/)\n",
    "- [diversity alpha](https://docs.qiime2.org/2022.8/plugins/available/diversity/alpha/)\n",
    "- [diversity alpha_phylogenetic](https://docs.qiime2.org/2022.8/plugins/available/diversity/alpha-phylogenetic/)\n",
    "- [diversity beta](https://docs.qiime2.org/2022.8/plugins/available/diversity/beta/)\n",
    "- [diversity core_metrics](https://docs.qiime2.org/2022.8/plugins/available/diversity/core-metrics/)\n",
    "- [diversity alpha_group_significance](https://docs.qiime2.org/2022.8/plugins/available/diversity/alpha-group-significance/)\n",
    "- [diversity beta_group_significance](https://docs.qiime2.org/2022.8/plugins/available/diversity/beta-group-significance/)\n",
    "- [feature_table core_features](https://docs.qiime2.org/2022.8/plugins/available/feature-table/core-features/)\n",
    "- [feature_table summarize](https://docs.qiime2.org/2022.8/plugins/available/feature-table/summarize/)\n",
    "- [taxa filter-table](https://docs.qiime2.org/2022.8/plugins/available/taxa/filter-table/)\n",
    "- [taxa collapse](https://docs.qiime2.org/2022.8/plugins/available/taxa/collapse/)"
   ]
  },
  {
   "cell_type": "markdown",
   "id": "843debbf",
   "metadata": {
    "papermill": {
     "duration": 0.027059,
     "end_time": "2023-06-06T22:46:35.865002",
     "exception": false,
     "start_time": "2023-06-06T22:46:35.837943",
     "status": "completed"
    },
    "tags": []
   },
   "source": [
    "## Setup and settings"
   ]
  },
  {
   "cell_type": "code",
   "execution_count": 1,
   "id": "965e28e5",
   "metadata": {
    "ExecuteTime": {
     "end_time": "2022-11-03T20:35:26.198671Z",
     "start_time": "2022-11-03T20:35:06.473173Z"
    },
    "execution": {
     "iopub.execute_input": "2023-06-06T22:46:35.921767Z",
     "iopub.status.busy": "2023-06-06T22:46:35.921298Z",
     "iopub.status.idle": "2023-06-06T22:46:42.405919Z",
     "shell.execute_reply": "2023-06-06T22:46:42.405393Z"
    },
    "papermill": {
     "duration": 6.516466,
     "end_time": "2023-06-06T22:46:42.409167",
     "exception": false,
     "start_time": "2023-06-06T22:46:35.892701",
     "status": "completed"
    },
    "tags": []
   },
   "outputs": [],
   "source": [
    "# Importing packages\n",
    "import os\n",
    "import pandas as pd\n",
    "from qiime2 import Artifact\n",
    "from qiime2 import Visualization\n",
    "from qiime2 import Metadata\n",
    "\n",
    "from qiime2.plugins.phylogeny.pipelines import align_to_tree_mafft_fasttree\n",
    "\n",
    "from qiime2.plugins.diversity.pipelines import alpha\n",
    "from qiime2.plugins.diversity.pipelines import beta\n",
    "from qiime2.plugins.diversity.pipelines import core_metrics\n",
    "from qiime2.plugins.diversity.pipelines import alpha_phylogenetic\n",
    "\n",
    "from qiime2.plugins.diversity.visualizers import alpha_group_significance\n",
    "from qiime2.plugins.diversity.visualizers import beta_group_significance\n",
    "from qiime2.plugins.diversity.visualizers import alpha_correlation\n",
    "from qiime2.plugins.diversity.visualizers import beta_rarefaction\n",
    "\n",
    "from qiime2.plugins.taxa.methods import filter_table\n",
    "from qiime2.plugins.taxa.methods import collapse\n",
    "\n",
    "from qiime2.plugins.feature_table.visualizers import tabulate_seqs\n",
    "from qiime2.plugins.feature_table.visualizers import summarize\n",
    "from qiime2.plugins.feature_table.visualizers import core_features\n",
    "\n",
    "from qiime2.plugins.alignment.methods import mafft\n",
    "\n",
    "\n",
    "import matplotlib.pyplot as plt\n",
    "\n",
    "%matplotlib inline"
   ]
  },
  {
   "cell_type": "markdown",
   "id": "530ceb60",
   "metadata": {
    "papermill": {
     "duration": 0.024301,
     "end_time": "2023-06-06T22:46:42.460174",
     "exception": false,
     "start_time": "2023-06-06T22:46:42.435873",
     "status": "completed"
    },
    "tags": []
   },
   "source": [
    "### Receiving the parameters\n",
    "\n",
    "The following cell can receive parameters using the [papermill](https://papermill.readthedocs.io/en/latest/) tool."
   ]
  },
  {
   "cell_type": "code",
   "execution_count": 2,
   "id": "18d874ea",
   "metadata": {
    "ExecuteTime": {
     "end_time": "2022-09-29T20:54:14.793270Z",
     "start_time": "2022-09-29T20:54:14.789367Z"
    },
    "execution": {
     "iopub.execute_input": "2023-06-06T22:46:42.495382Z",
     "iopub.status.busy": "2023-06-06T22:46:42.495053Z",
     "iopub.status.idle": "2023-06-06T22:46:42.498718Z",
     "shell.execute_reply": "2023-06-06T22:46:42.498116Z"
    },
    "papermill": {
     "duration": 0.024803,
     "end_time": "2023-06-06T22:46:42.500245",
     "exception": false,
     "start_time": "2023-06-06T22:46:42.475442",
     "status": "completed"
    },
    "tags": [
     "parameters"
    ]
   },
   "outputs": [],
   "source": [
    "base_dir = os.path.join('/', 'home')\n",
    "metadata_file = os.path.abspath(os.path.join(base_dir, 'data', 'metadatada.tsv'))\n",
    "experiment_name = ''\n",
    "class_col = ''\n",
    "replace_files = False"
   ]
  },
  {
   "cell_type": "code",
   "execution_count": 3,
   "id": "57a87f6e",
   "metadata": {
    "execution": {
     "iopub.execute_input": "2023-06-06T22:46:42.532618Z",
     "iopub.status.busy": "2023-06-06T22:46:42.532071Z",
     "iopub.status.idle": "2023-06-06T22:46:42.538577Z",
     "shell.execute_reply": "2023-06-06T22:46:42.537932Z"
    },
    "papermill": {
     "duration": 0.024366,
     "end_time": "2023-06-06T22:46:42.540026",
     "exception": false,
     "start_time": "2023-06-06T22:46:42.515660",
     "status": "completed"
    },
    "tags": [
     "injected-parameters"
    ]
   },
   "outputs": [],
   "source": [
    "# Parameters\n",
    "experiment_name = \"ana-flavia-NCxNR-trim\"\n",
    "base_dir = \"/home/lauro/nupeb/rede-micro/redemicro-ana-flavia-nutri\"\n",
    "manifest_file = \"/home/lauro/nupeb/rede-micro/redemicro-ana-flavia-nutri/data/raw/manifest/manifest-ana-flavia-NCxNR.csv\"\n",
    "metadata_file = \"/home/lauro/nupeb/rede-micro/redemicro-ana-flavia-nutri/data/raw/metadata/metadata-ana-flavia-NCxNR.tsv\"\n",
    "class_col = \"group-id\"\n",
    "classifier_file = \"/home/lauro/nupeb/rede-micro/models/silva-138-99-nb-classifier.qza\"\n",
    "top_n = 20\n",
    "replace_files = False\n",
    "phred = 20\n",
    "trunc_f = 0\n",
    "trunc_r = 0\n",
    "overlap = 12\n",
    "threads = 6\n",
    "trim = {\n",
    "    \"overlap\": 8,\n",
    "    \"forward_primer\": \"CCTACGGGRSGCAGCAG\",\n",
    "    \"reverse_primer\": \"GGACTACHVGGGTWTCTAAT\",\n",
    "}\n"
   ]
  },
  {
   "cell_type": "code",
   "execution_count": 4,
   "id": "f38617d9",
   "metadata": {
    "ExecuteTime": {
     "end_time": "2022-09-29T20:54:14.804575Z",
     "start_time": "2022-09-29T20:54:14.794927Z"
    },
    "execution": {
     "iopub.execute_input": "2023-06-06T22:46:42.574293Z",
     "iopub.status.busy": "2023-06-06T22:46:42.573885Z",
     "iopub.status.idle": "2023-06-06T22:46:42.578460Z",
     "shell.execute_reply": "2023-06-06T22:46:42.577866Z"
    },
    "papermill": {
     "duration": 0.022419,
     "end_time": "2023-06-06T22:46:42.579967",
     "exception": false,
     "start_time": "2023-06-06T22:46:42.557548",
     "status": "completed"
    },
    "tags": []
   },
   "outputs": [],
   "source": [
    "experiment_folder = os.path.abspath(os.path.join(base_dir, 'experiments', experiment_name))\n",
    "img_folder = os.path.abspath(os.path.join(experiment_folder, 'imgs'))"
   ]
  },
  {
   "cell_type": "markdown",
   "id": "ea9b90fb",
   "metadata": {
    "papermill": {
     "duration": 0.024065,
     "end_time": "2023-06-06T22:46:42.620138",
     "exception": false,
     "start_time": "2023-06-06T22:46:42.596073",
     "status": "completed"
    },
    "tags": []
   },
   "source": [
    "### Defining names, paths and flags"
   ]
  },
  {
   "cell_type": "code",
   "execution_count": 5,
   "id": "45727eef",
   "metadata": {
    "ExecuteTime": {
     "end_time": "2022-09-29T20:54:14.816686Z",
     "start_time": "2022-09-29T20:54:14.806238Z"
    },
    "execution": {
     "iopub.execute_input": "2023-06-06T22:46:42.652450Z",
     "iopub.status.busy": "2023-06-06T22:46:42.652063Z",
     "iopub.status.idle": "2023-06-06T22:46:42.663231Z",
     "shell.execute_reply": "2023-06-06T22:46:42.662626Z"
    },
    "papermill": {
     "duration": 0.028982,
     "end_time": "2023-06-06T22:46:42.664640",
     "exception": false,
     "start_time": "2023-06-06T22:46:42.635658",
     "status": "completed"
    },
    "tags": []
   },
   "outputs": [
    {
     "name": "stdout",
     "output_type": "stream",
     "text": [
      "The new directory is created in /home/lauro/nupeb/rede-micro/redemicro-ana-flavia-nutri/experiments/ana-flavia-NCxNR-trim/qiime-artifacts/alpha-analysis\n",
      "The new directory is created in /home/lauro/nupeb/rede-micro/redemicro-ana-flavia-nutri/experiments/ana-flavia-NCxNR-trim/qiime-artifacts/beta-analysis\n"
     ]
    }
   ],
   "source": [
    "# QIIME2 Artifacts folder\n",
    "qiime_folder = os.path.join(experiment_folder, 'qiime-artifacts')\n",
    "\n",
    "# Input - DADA2 Artifacts\n",
    "dada2_tabs_path = os.path.join(qiime_folder, 'dada2-tabs.qza')\n",
    "dada2_reps_path = os.path.join(qiime_folder, 'dada2-reps.qza')\n",
    "dada2_stat_path = os.path.join(qiime_folder, 'dada2-stat.qza')\n",
    "\n",
    "# Input - Taxonaomic Artifacts\n",
    "taxonomy_path = os.path.join(qiime_folder, 'metatax.qza')\n",
    "\n",
    "# Create folder to store Alpha files\n",
    "alpha_path = os.path.join(qiime_folder, 'alpha-analysis')\n",
    "if not os.path.exists(alpha_path):\n",
    "    os.makedirs(alpha_path)\n",
    "    print(f'The new directory is created in {alpha_path}')\n",
    "    \n",
    "# Create folder to store Beta files\n",
    "beta_path = os.path.join(qiime_folder, 'beta-analysis')\n",
    "if not os.path.exists(beta_path):\n",
    "    os.makedirs(beta_path)\n",
    "    print(f'The new directory is created in {beta_path}')\n",
    "\n",
    "# Output -Diversity Artifacts\n",
    "alpha_diversity_path = os.path.join(alpha_path, 'alpha-diversity.qza')\n",
    "alpha_diversity_view_path = os.path.join(alpha_path, 'alpha-diversity.qzv')\n",
    "beta_diversity_path = os.path.join(beta_path, 'beta-diversity.qza')\n",
    "beta_diversity_view_path = os.path.join(beta_path, 'beta-diversity.qzv')"
   ]
  },
  {
   "cell_type": "code",
   "execution_count": 6,
   "id": "601ae263",
   "metadata": {
    "ExecuteTime": {
     "end_time": "2022-09-29T20:54:14.829117Z",
     "start_time": "2022-09-29T20:54:14.818272Z"
    },
    "execution": {
     "iopub.execute_input": "2023-06-06T22:46:42.700152Z",
     "iopub.status.busy": "2023-06-06T22:46:42.699699Z",
     "iopub.status.idle": "2023-06-06T22:46:42.705130Z",
     "shell.execute_reply": "2023-06-06T22:46:42.704492Z"
    },
    "papermill": {
     "duration": 0.023255,
     "end_time": "2023-06-06T22:46:42.706552",
     "exception": false,
     "start_time": "2023-06-06T22:46:42.683297",
     "status": "completed"
    },
    "tags": []
   },
   "outputs": [],
   "source": [
    "def filter_and_collapse(tab, seqs, tax, meta, lvl, exclude=True, exclude_list='uncultured,unidentified,metagenome'):\n",
    "    from qiime2.plugins.taxa.methods import collapse\n",
    "    from qiime2.plugins.taxa.methods import filter_table\n",
    "    from qiime2.plugins.feature_table.methods import filter_seqs\n",
    "    from qiime2.plugins.feature_table.visualizers import summarize\n",
    "    \n",
    "    to_include = ('d', 'p', 'c', 'o', 'f', 'g', 's')[lvl-1]\n",
    "    to_include += '__'\n",
    "    to_exclude = exclude_list if exclude else None\n",
    "    \n",
    "    filtered_tabs = filter_table(\n",
    "        table=tab, \n",
    "        taxonomy=tax,\n",
    "        include=to_include,\n",
    "        exclude=to_exclude,\n",
    "        mode='contains').filtered_table\n",
    "    \n",
    "    filtered_seqs = filter_seqs(\n",
    "        data = seqs,\n",
    "        table = filtered_tabs,\n",
    "    ).filtered_data\n",
    "    \n",
    "    collapsed_table = collapse(table=filtered_tabs, taxonomy=tax, level=lvl).collapsed_table\n",
    "    collapsed_table_view = summarize(table=collapsed_table, sample_metadata=meta).visualization\n",
    "    \n",
    "    return collapsed_table, collapsed_table_view, filtered_seqs"
   ]
  },
  {
   "cell_type": "markdown",
   "id": "0999a1b2",
   "metadata": {
    "papermill": {
     "duration": 0.015655,
     "end_time": "2023-06-06T22:46:42.739185",
     "exception": false,
     "start_time": "2023-06-06T22:46:42.723530",
     "status": "completed"
    },
    "tags": []
   },
   "source": [
    "## Step execution\n",
    "\n",
    "### Load input files\n",
    "\n",
    "This Step import the QIIME2 `FeatureTable[Frequency]` Artifact and the `Metadata` file."
   ]
  },
  {
   "cell_type": "code",
   "execution_count": 7,
   "id": "8f299d1a",
   "metadata": {
    "ExecuteTime": {
     "end_time": "2022-09-29T20:54:15.559837Z",
     "start_time": "2022-09-29T20:54:14.830405Z"
    },
    "execution": {
     "iopub.execute_input": "2023-06-06T22:46:42.772230Z",
     "iopub.status.busy": "2023-06-06T22:46:42.771847Z",
     "iopub.status.idle": "2023-06-06T22:46:43.096016Z",
     "shell.execute_reply": "2023-06-06T22:46:43.095524Z"
    },
    "papermill": {
     "duration": 0.343488,
     "end_time": "2023-06-06T22:46:43.098517",
     "exception": false,
     "start_time": "2023-06-06T22:46:42.755029",
     "status": "completed"
    },
    "tags": []
   },
   "outputs": [],
   "source": [
    "#Load Metadata\n",
    "metadata_qa = Metadata.load(metadata_file)\n",
    "\n",
    "#Load FeatureTable[Frequency]\n",
    "tabs = Artifact.load(dada2_tabs_path)\n",
    "tabs_df = tabs.view(Metadata).to_dataframe().T\n",
    "\n",
    "# FeatureData[Sequence]\n",
    "reps = Artifact.load(dada2_reps_path)\n",
    "\n",
    "# FeatureData[Taxonomy]\n",
    "tax = Artifact.load(taxonomy_path)"
   ]
  },
  {
   "cell_type": "code",
   "execution_count": 8,
   "id": "c8dfe530",
   "metadata": {
    "ExecuteTime": {
     "end_time": "2022-09-29T20:54:15.564968Z",
     "start_time": "2022-09-29T20:54:15.561875Z"
    },
    "execution": {
     "iopub.execute_input": "2023-06-06T22:46:43.138479Z",
     "iopub.status.busy": "2023-06-06T22:46:43.138274Z",
     "iopub.status.idle": "2023-06-06T22:46:43.140945Z",
     "shell.execute_reply": "2023-06-06T22:46:43.140317Z"
    },
    "papermill": {
     "duration": 0.020711,
     "end_time": "2023-06-06T22:46:43.142549",
     "exception": false,
     "start_time": "2023-06-06T22:46:43.121838",
     "status": "completed"
    },
    "tags": []
   },
   "outputs": [],
   "source": [
    "# lvl = 7\n",
    "# exclude = True\n",
    "# tabs, collapsed_table_view, reps = filter_and_collapse(\n",
    "#                     tabs, reps, tax, metadata_qa, \n",
    "#                     lvl=lvl,\n",
    "#                     exclude=exclude, \n",
    "#                     exclude_list='uncultured,unidentified,metagenome')\n",
    "# collapsed_table_view"
   ]
  },
  {
   "cell_type": "markdown",
   "id": "9f43843a",
   "metadata": {
    "ExecuteTime": {
     "end_time": "2022-09-22T22:48:07.523952Z",
     "start_time": "2022-09-22T22:48:07.517565Z"
    },
    "papermill": {
     "duration": 0.016194,
     "end_time": "2023-06-06T22:46:43.175072",
     "exception": false,
     "start_time": "2023-06-06T22:46:43.158878",
     "status": "completed"
    },
    "tags": []
   },
   "source": [
    "## Alpha diversity analysis\n",
    "\n",
    "#### Reference\n",
    "- [The Use and Types of Alpha-Diversity Metrics in Microbial NGS](https://www.cd-genomics.com/microbioseq/the-use-and-types-of-alpha-diversity-metrics-in-microbial-ngs.html)\n",
    "- [Alpha diversity metrics](http://scikit-bio.org/docs/0.2.0/generated/skbio.diversity.alpha.html)\n",
    "\n",
    "#### Methods\n",
    "- [diversity alpha](https://docs.qiime2.org/2022.8/plugins/available/diversity/alpha/): Computes a user-specified alpha diversity metric for all samples in a\n",
    "feature table.\n",
    "- [diversity alpha_phylogenetic](https://docs.qiime2.org/2022.8/plugins/available/diversity/alpha-phylogenetic/): Computes a user-specified phylogenetic alpha diversity metric for all\n",
    "samples in a feature table.\n",
    "- [diversity alpha_correlation](https://docs.qiime2.org/2022.8/plugins/available/diversity/alpha-correlation/): Determine whether numeric sample metadata columns are correlated with alpha diversity.\n",
    "- [diversity alpha_group_significance](https://docs.qiime2.org/2022.8/plugins/available/diversity/alpha-group-significance/): Visually and statistically compare groups of alpha diversity values."
   ]
  },
  {
   "cell_type": "markdown",
   "id": "606b9c75",
   "metadata": {
    "papermill": {
     "duration": 0.016101,
     "end_time": "2023-06-06T22:46:43.207054",
     "exception": false,
     "start_time": "2023-06-06T22:46:43.190953",
     "status": "completed"
    },
    "tags": []
   },
   "source": [
    "### Compute Alpha Diversity vectors\n",
    "- [diversity alpha](https://docs.qiime2.org/2022.8/plugins/available/diversity/alpha/): Computes a user-specified alpha diversity metric for all samples in a feature table.\n",
    "- [Alpha diversity metrics](http://scikit-bio.org/docs/0.2.0/generated/skbio.diversity.alpha.html)\n",
    " - Choices: ('ace', 'berger_parker_d', 'brillouin_d', 'chao1', 'chao1_ci', 'dominance', 'doubles', 'enspie', 'esty_ci', 'fisher_alpha', 'gini_index', 'goods_coverage', 'heip_e', 'kempton_taylor_q', 'lladser_pe', 'margalef', 'mcintosh_d', 'mcintosh_e', 'menhinick', 'michaelis_menten_fit', 'observed_features', 'osd', 'pielou_e', 'robbins', 'shannon', 'simpson', 'simpson_e', 'singles', 'strong')"
   ]
  },
  {
   "cell_type": "code",
   "execution_count": 9,
   "id": "556e5264",
   "metadata": {
    "ExecuteTime": {
     "end_time": "2022-09-29T20:54:20.790166Z",
     "start_time": "2022-09-29T20:54:20.451134Z"
    },
    "execution": {
     "iopub.execute_input": "2023-06-06T22:46:43.263856Z",
     "iopub.status.busy": "2023-06-06T22:46:43.263408Z",
     "iopub.status.idle": "2023-06-07T02:22:01.662867Z",
     "shell.execute_reply": "2023-06-07T02:22:01.662284Z"
    },
    "papermill": {
     "duration": 12918.432509,
     "end_time": "2023-06-07T02:22:01.665817",
     "exception": false,
     "start_time": "2023-06-06T22:46:43.233308",
     "status": "completed"
    },
    "tags": []
   },
   "outputs": [
    {
     "name": "stdout",
     "output_type": "stream",
     "text": [
      "Calculating alpha diversity: ace\n",
      "DONE: Calculating alpha diversity: ace\n",
      "Calculating alpha diversity: berger_parker_d\n",
      "DONE: Calculating alpha diversity: berger_parker_d\n",
      "Calculating alpha diversity: brillouin_d\n",
      "DONE: Calculating alpha diversity: brillouin_d\n",
      "Calculating alpha diversity: chao1\n"
     ]
    },
    {
     "name": "stdout",
     "output_type": "stream",
     "text": [
      "DONE: Calculating alpha diversity: chao1\n",
      "Calculating alpha diversity: chao1_ci\n",
      "DONE: Calculating alpha diversity: chao1_ci\n",
      "Calculating alpha diversity: dominance\n",
      "DONE: Calculating alpha diversity: dominance\n",
      "Calculating alpha diversity: doubles\n",
      "DONE: Calculating alpha diversity: doubles\n",
      "Calculating alpha diversity: enspie\n"
     ]
    },
    {
     "name": "stdout",
     "output_type": "stream",
     "text": [
      "DONE: Calculating alpha diversity: enspie\n",
      "Calculating alpha diversity: esty_ci\n",
      "DONE: Calculating alpha diversity: esty_ci\n",
      "Calculating alpha diversity: fisher_alpha\n",
      "DONE: Calculating alpha diversity: fisher_alpha\n",
      "Calculating alpha diversity: gini_index\n",
      "DONE: Calculating alpha diversity: gini_index\n",
      "Calculating alpha diversity: goods_coverage\n"
     ]
    },
    {
     "name": "stdout",
     "output_type": "stream",
     "text": [
      "DONE: Calculating alpha diversity: goods_coverage\n",
      "Calculating alpha diversity: heip_e\n",
      "DONE: Calculating alpha diversity: heip_e\n",
      "Calculating alpha diversity: kempton_taylor_q\n",
      "DONE: Calculating alpha diversity: kempton_taylor_q\n",
      "Calculating alpha diversity: lladser_pe\n"
     ]
    },
    {
     "name": "stderr",
     "output_type": "stream",
     "text": [
      "/home/lauro/anaconda3/envs/qiime2-2022.2/lib/python3.8/site-packages/skbio/diversity/alpha/_base.py:440: RuntimeWarning: divide by zero encountered in long_scalars\n",
      "  return (upper - lower) / np.log(sorted_counts[upper] /\n",
      "/home/lauro/anaconda3/envs/qiime2-2022.2/lib/python3.8/site-packages/skbio/diversity/alpha/_base.py:440: RuntimeWarning: invalid value encountered in long_scalars\n",
      "  return (upper - lower) / np.log(sorted_counts[upper] /\n"
     ]
    },
    {
     "name": "stdout",
     "output_type": "stream",
     "text": [
      "DONE: Calculating alpha diversity: lladser_pe\n",
      "Calculating alpha diversity: margalef\n",
      "DONE: Calculating alpha diversity: margalef\n",
      "Calculating alpha diversity: mcintosh_d\n",
      "DONE: Calculating alpha diversity: mcintosh_d\n",
      "Calculating alpha diversity: mcintosh_e\n",
      "DONE: Calculating alpha diversity: mcintosh_e\n",
      "Calculating alpha diversity: menhinick\n"
     ]
    },
    {
     "name": "stdout",
     "output_type": "stream",
     "text": [
      "DONE: Calculating alpha diversity: menhinick\n",
      "Calculating alpha diversity: michaelis_menten_fit\n"
     ]
    },
    {
     "name": "stdout",
     "output_type": "stream",
     "text": [
      "DONE: Calculating alpha diversity: michaelis_menten_fit\n",
      "Calculating alpha diversity: observed_features\n",
      "DONE: Calculating alpha diversity: observed_features\n",
      "Calculating alpha diversity: osd\n",
      "DONE: Calculating alpha diversity: osd\n",
      "Calculating alpha diversity: pielou_e\n",
      "DONE: Calculating alpha diversity: pielou_e\n",
      "Calculating alpha diversity: robbins\n"
     ]
    },
    {
     "name": "stdout",
     "output_type": "stream",
     "text": [
      "DONE: Calculating alpha diversity: robbins\n",
      "Calculating alpha diversity: shannon\n",
      "DONE: Calculating alpha diversity: shannon\n",
      "Calculating alpha diversity: simpson\n",
      "DONE: Calculating alpha diversity: simpson\n",
      "Calculating alpha diversity: simpson_e\n",
      "DONE: Calculating alpha diversity: simpson_e\n",
      "Calculating alpha diversity: singles\n"
     ]
    },
    {
     "name": "stdout",
     "output_type": "stream",
     "text": [
      "DONE: Calculating alpha diversity: singles\n",
      "Calculating alpha diversity: strong\n",
      "DONE: Calculating alpha diversity: strong\n"
     ]
    }
   ],
   "source": [
    "metrics = ('ace', 'berger_parker_d', 'brillouin_d', 'chao1', 'chao1_ci', 'dominance', 'doubles', 'enspie', 'esty_ci', 'fisher_alpha', 'gini_index', 'goods_coverage', 'heip_e', 'kempton_taylor_q', 'lladser_pe', 'margalef', 'mcintosh_d', 'mcintosh_e', 'menhinick', 'michaelis_menten_fit', 'observed_features', 'osd', 'pielou_e', 'robbins', 'shannon', 'simpson', 'simpson_e', 'singles', 'strong')\n",
    "alpha_diversities = dict()\n",
    "for metric in metrics:\n",
    "    print(f\"Calculating alpha diversity: {metric}\")\n",
    "    try:\n",
    "        alpha_diversity = alpha(table=tabs, metric=metric).alpha_diversity\n",
    "        alpha_diversities[metric] = alpha_diversity\n",
    "        # Save SampleData[AlphaDiversity] Artifact\n",
    "        file_path = os.path.join(alpha_path, f'alpha-values-{metric}.qza')\n",
    "        alpha_diversity.save(file_path)\n",
    "        print(f\"DONE: Calculating alpha diversity: {metric}\")\n",
    "    except Exception as e:\n",
    "        print(f\"ERROR: Calculating alpha diversity: {metric}\")\n",
    "        print(e)"
   ]
  },
  {
   "cell_type": "markdown",
   "id": "184bcb7b",
   "metadata": {
    "papermill": {
     "duration": 0.018479,
     "end_time": "2023-06-07T02:22:01.708689",
     "exception": false,
     "start_time": "2023-06-07T02:22:01.690210",
     "status": "completed"
    },
    "tags": []
   },
   "source": [
    "### Create Phylogenetic inference\n",
    "\n",
    "- [alignment align_to_tree_mafft_fasttree](https://docs.qiime2.org/2022.8/plugins/available/phylogeny/align-to-tree-mafft-fasttree/): Build a phylogenetic tree using fasttree and mafft alignment\n",
    "\n",
    "This pipeline will start by creating a sequence alignment using MAFFT,\n",
    "after which any alignment columns that are phylogenetically uninformative\n",
    "or ambiguously aligned will be removed (masked). The resulting masked\n",
    "alignment will be used to infer a phylogenetic tree and then subsequently\n",
    "rooted at its midpoint. Output files from each step of the pipeline will be\n",
    "saved. This includes both the unmasked and masked MAFFT alignment from\n",
    "q2-alignment methods, and both the rooted and unrooted phylogenies from\n",
    "q2-phylogeny methods.\n",
    "\n",
    "\n",
    "Returns\n",
    "- alignment : FeatureData[AlignedSequence] : The aligned sequences.\n",
    "- masked_alignment : FeatureData[AlignedSequence] : The masked alignment.\n",
    "- tree : Phylogeny[Unrooted] : The unrooted phylogenetic tree.\n",
    "- rooted_tree : Phylogeny[Rooted] : The rooted phylogenetic tree."
   ]
  },
  {
   "cell_type": "code",
   "execution_count": 10,
   "id": "9c8cfe47",
   "metadata": {
    "ExecuteTime": {
     "end_time": "2022-09-29T20:54:35.139531Z",
     "start_time": "2022-09-29T20:54:20.792130Z"
    },
    "execution": {
     "iopub.execute_input": "2023-06-07T02:22:01.747196Z",
     "iopub.status.busy": "2023-06-07T02:22:01.746938Z",
     "iopub.status.idle": "2023-06-07T02:22:12.601952Z",
     "shell.execute_reply": "2023-06-07T02:22:12.601433Z"
    },
    "papermill": {
     "duration": 10.877052,
     "end_time": "2023-06-07T02:22:12.604347",
     "exception": false,
     "start_time": "2023-06-07T02:22:01.727295",
     "status": "completed"
    },
    "tags": []
   },
   "outputs": [
    {
     "name": "stdout",
     "output_type": "stream",
     "text": [
      "Running external command line application. This may print messages to stdout and/or stderr.\n",
      "The command being run is below. This command cannot be manually re-run as it will depend on temporary files that no longer exist.\n",
      "\n",
      "Command: mafft --preservecase --inputorder --thread 6 /tmp/qiime2-archive-u5e73l9x/3a48f360-4d1b-429b-97b2-882ac17be417/data/dna-sequences.fasta\n",
      "\n"
     ]
    },
    {
     "name": "stderr",
     "output_type": "stream",
     "text": [
      "inputfile = orig\n",
      "668 x 430 - 281 d\n",
      "nthread = 6\n",
      "nthreadpair = 6\n",
      "nthreadtb = 6\n",
      "ppenalty_ex = 0\n",
      "stacksize: 8192 kb\n",
      "generating a scoring matrix for nucleotide (dist=200) ... done\n",
      "Gap Penalty = -1.53, +0.00, +0.00\n",
      "\n",
      "\n",
      "\n",
      "Making a distance matrix ..\n",
      "\r",
      "    1 / 668 (thread    0)\r",
      "  101 / 668 (thread    5)\r",
      "  201 / 668 (thread    0)\r",
      "  301 / 668 (thread    0)\r",
      "  401 / 668 (thread    3)\r",
      "  501 / 668 (thread    5)\r",
      "  601 / 668 (thread    3)\n",
      "done.\n",
      "\n",
      "Constructing a UPGMA tree (efffree=0) ... \n",
      "\r",
      "    0 / 668\r",
      "   10 / 668\r",
      "   20 / 668\r",
      "   30 / 668\r",
      "   40 / 668\r",
      "   50 / 668\r",
      "   60 / 668\r",
      "   70 / 668\r",
      "   80 / 668\r",
      "   90 / 668\r",
      "  100 / 668\r",
      "  110 / 668\r",
      "  120 / 668\r",
      "  130 / 668\r",
      "  140 / 668\r",
      "  150 / 668\r",
      "  160 / 668\r",
      "  170 / 668\r",
      "  180 / 668\r",
      "  190 / 668\r",
      "  200 / 668\r",
      "  210 / 668\r",
      "  220 / 668\r",
      "  230 / 668\r",
      "  240 / 668\r",
      "  250 / 668\r",
      "  260 / 668\r",
      "  270 / 668\r",
      "  280 / 668\r",
      "  290 / 668\r",
      "  300 / 668\r",
      "  310 / 668\r",
      "  320 / 668\r",
      "  330 / 668\r",
      "  340 / 668\r",
      "  350 / 668\r",
      "  360 / 668\r",
      "  370 / 668\r",
      "  380 / 668\r",
      "  390 / 668\r",
      "  400 / 668\r",
      "  410 / 668\r",
      "  420 / 668\r",
      "  430 / 668\r",
      "  440 / 668\r",
      "  450 / 668\r",
      "  460 / 668\r",
      "  470 / 668\r",
      "  480 / 668\r",
      "  490 / 668\r",
      "  500 / 668\r",
      "  510 / 668\r",
      "  520 / 668\r",
      "  530 / 668\r",
      "  540 / 668\r",
      "  550 / 668\r",
      "  560 / 668\r",
      "  570 / 668\r",
      "  580 / 668\r",
      "  590 / 668\r",
      "  600 / 668\r",
      "  610 / 668\r",
      "  620 / 668\r",
      "  630 / 668\r",
      "  640 / 668\r",
      "  650 / 668\r",
      "  660 / 668\n",
      "done.\n",
      "\n",
      "Progressive alignment 1/2... \n",
      "\r",
      "STEP     1 / 667 (thread    0) f\b\b\r",
      "STEP     3 / 667 (thread    2) f\b\b\r",
      "STEP     2 / 667 (thread    1) f\b\b\r",
      "STEP     4 / 667 (thread    3) f\b\b\r",
      "STEP     5 / 667 (thread    4) f\b\b\r",
      "STEP     6 / 667 (thread    5) f\b\b\r",
      "STEP     7 / 667 (thread    3) f\b\b\r",
      "STEP     8 / 667 (thread    5) f\b\b\r",
      "STEP     9 / 667 (thread    3) f\b\b\r",
      "STEP    10 / 667 (thread    1) f\b\b\r",
      "STEP    11 / 667 (thread    2) f\b\b\r",
      "STEP    12 / 667 (thread    3) f\b\b\r",
      "STEP    13 / 667 (thread    5) f\b\b\r",
      "STEP    14 / 667 (thread    4) f\b\b\r",
      "STEP    15 / 667 (thread    0) f\b\b\r",
      "STEP    16 / 667 (thread    3) f\b\b\r",
      "STEP    17 / 667 (thread    2) f\b\b\r",
      "STEP    18 / 667 (thread    1) f\b\b\r",
      "STEP    19 / 667 (thread    5) f\b\b\r",
      "STEP    20 / 667 (thread    3) f\b\b\r",
      "STEP    21 / 667 (thread    4) f\b\b\r",
      "STEP    22 / 667 (thread    0) f\b\b\r",
      "STEP    23 / 667 (thread    5) f\b\b\r",
      "STEP    24 / 667 (thread    3) f\b\b\r",
      "STEP    25 / 667 (thread    2) f\b\b\r",
      "STEP    26 / 667 (thread    1) f\b\b\r",
      "STEP    27 / 667 (thread    3) f\b\b\r",
      "STEP    28 / 667 (thread    4) f\b\b\r",
      "STEP    29 / 667 (thread    5) f\b\b\r",
      "STEP    30 / 667 (thread    0) f\b\b\r",
      "STEP    31 / 667 (thread    3) f\b\b\r",
      "STEP    32 / 667 (thread    2) f\b\b\r",
      "STEP    33 / 667 (thread    1) f\b\b\r",
      "STEP    34 / 667 (thread    5) f\b\b\r",
      "STEP    35 / 667 (thread    4) f\b\b\r",
      "STEP    36 / 667 (thread    0) f\b\b\r",
      "STEP    37 / 667 (thread    2) f\b\b\r",
      "STEP    38 / 667 (thread    1) f\b\b\r",
      "STEP    39 / 667 (thread    5) f\b\b\r",
      "STEP    40 / 667 (thread    3) f\b\b\r",
      "STEP    41 / 667 (thread    0) f\b\b\r",
      "STEP    42 / 667 (thread    4) f\b\b\r",
      "STEP    43 / 667 (thread    1) f\b\b\r",
      "STEP    44 / 667 (thread    3) f\b\b\r",
      "STEP    45 / 667 (thread    5) f\b\b\r",
      "STEP    46 / 667 (thread    2) f\b\b\r",
      "STEP    47 / 667 (thread    0) f\b\b\r",
      "STEP    48 / 667 (thread    3) f\b\b\r",
      "STEP    49 / 667 (thread    1) f\b\b\r",
      "STEP    50 / 667 (thread    5) f\b\b\r",
      "STEP    52 / 667 (thread    2) f\b\b\r",
      "STEP    53 / 667 (thread    0) f\b\b\r",
      "STEP    54 / 667 (thread    5) f\b\b\r",
      "STEP    51 / 667 (thread    3) f\b\b\r",
      "STEP    55 / 667 (thread    4) f\b\b\r",
      "STEP    56 / 667 (thread    2) f\b\b\r",
      "STEP    57 / 667 (thread    5) f\b\b\r",
      "STEP    58 / 667 (thread    0) f\b\b\r",
      "STEP    59 / 667 (thread    1) f\b\b\r",
      "STEP    60 / 667 (thread    5) f\b\b\r",
      "STEP    61 / 667 (thread    3) f\b\b\r",
      "STEP    62 / 667 (thread    4) f\b\b\r",
      "STEP    63 / 667 (thread    2) f\b\b\r",
      "STEP    64 / 667 (thread    0) f\b\b\r",
      "STEP    65 / 667 (thread    1) f\b\b\r",
      "STEP    66 / 667 (thread    5) f\b\b\r",
      "STEP    67 / 667 (thread    3) f\b\b\r",
      "STEP    68 / 667 (thread    5) f\b\b\r",
      "STEP    69 / 667 (thread    4) f\b\b\r",
      "STEP    70 / 667 (thread    2) f\b\b\r",
      "STEP    71 / 667 (thread    1) f\b\b\r",
      "STEP    72 / 667 (thread    0) f\b\b\r",
      "STEP    73 / 667 (thread    3) f\b\b\r",
      "STEP    75 / 667 (thread    4) f\b\b\r",
      "STEP    76 / 667 (thread    3) f\b\b\r",
      "STEP    78 / 667 (thread    2) f\b\b\r",
      "STEP    74 / 667 (thread    5) f\b\b\r",
      "STEP    79 / 667 (thread    1) f\b\b\r",
      "STEP    80 / 667 (thread    4) f\b\b\r",
      "STEP    81 / 667 (thread    0) f\b\b\r",
      "STEP    82 / 667 (thread    1) f\b\b\r",
      "STEP    83 / 667 (thread    5) f\b\b\r",
      "STEP    77 / 667 (thread    3) f\b\b\r",
      "STEP    84 / 667 (thread    4) f\b\b\r",
      "STEP    87 / 667 (thread    5) f\b\b\r",
      "STEP    88 / 667 (thread    3) f\b\b\r",
      "STEP    85 / 667 (thread    0) f\b\b\r",
      "STEP    89 / 667 (thread    1) f\b\b\r",
      "STEP    90 / 667 (thread    5) f\b\b\r",
      "STEP    91 / 667 (thread    3) f\b\b\r",
      "STEP    92 / 667 (thread    4) f\b\b\r",
      "STEP    93 / 667 (thread    5) f\b\b\r",
      "STEP    94 / 667 (thread    3) f\b\b\r",
      "STEP    95 / 667 (thread    1) f\b\b\r",
      "STEP    96 / 667 (thread    0) f\b\b\r",
      "STEP    86 / 667 (thread    2) f\b\b\r",
      "STEP    97 / 667 (thread    5) f\b\b\r",
      "STEP    98 / 667 (thread    3) f\b\b\r",
      "STEP    99 / 667 (thread    5) f\b\b\r",
      "STEP   100 / 667 (thread    4) f\b\b\r",
      "STEP   101 / 667 (thread    0) f\b\b\r",
      "STEP   102 / 667 (thread    3) f\b\b\r",
      "STEP   103 / 667 (thread    5) f\b\b\r",
      "STEP   104 / 667 (thread    4) f\b\b\r",
      "STEP   105 / 667 (thread    2) f\b\b\r",
      "STEP   106 / 667 (thread    3) f\b\b\r",
      "STEP   107 / 667 (thread    0) f\b\b\r",
      "STEP   108 / 667 (thread    1) f\b\b\r",
      "STEP   109 / 667 (thread    5) f\b\b\r",
      "STEP   110 / 667 (thread    3) f\b\b\r",
      "STEP   111 / 667 (thread    5) f\b\b\r",
      "STEP   112 / 667 (thread    4) f\b\b\r",
      "STEP   113 / 667 (thread    2) f\b\b\r",
      "STEP   114 / 667 (thread    5) f\b\b\r",
      "STEP   115 / 667 (thread    3) f\b\b\r",
      "STEP   116 / 667 (thread    4) f\b\b\r",
      "STEP   117 / 667 (thread    5) f\b\b\r",
      "STEP   118 / 667 (thread    3) f\b\b\r",
      "STEP   119 / 667 (thread    0) f\b\b\r",
      "STEP   120 / 667 (thread    1) f\b\b\r",
      "STEP   121 / 667 (thread    5) f\b\b\r",
      "STEP   122 / 667 (thread    3) f\b\b\r",
      "STEP   123 / 667 (thread    4) f\b\b\r",
      "STEP   124 / 667 (thread    2) f\b\b\r",
      "STEP   125 / 667 (thread    1) f\b\b\r",
      "STEP   126 / 667 (thread    5) f\b\b\r",
      "STEP   127 / 667 (thread    3) f\b\b\r",
      "STEP   128 / 667 (thread    0) f\b\b\r",
      "STEP   129 / 667 (thread    4) f\b\b\r",
      "STEP   130 / 667 (thread    2) f\b\b\r",
      "STEP   131 / 667 (thread    5) f\b\b\r",
      "STEP   132 / 667 (thread    1) f\b\b\r",
      "STEP   134 / 667 (thread    3) f\b\b\r",
      "STEP   135 / 667 (thread    0) f\b\b\r",
      "STEP   136 / 667 (thread    5) f\b\b\r",
      "STEP   133 / 667 (thread    1) f\b\b\r",
      "STEP   137 / 667 (thread    4) f\b\b\r",
      "STEP   138 / 667 (thread    2) f\b\b\r",
      "STEP   139 / 667 (thread    3) f\b\b\r",
      "STEP   140 / 667 (thread    0) f\b\b\r",
      "STEP   141 / 667 (thread    4) f\b\b\r",
      "STEP   142 / 667 (thread    5) f\b\b\r",
      "STEP   144 / 667 (thread    0) f\b\b\r",
      "STEP   145 / 667 (thread    3) f\b\b\r",
      "STEP   146 / 667 (thread    1) f\b\b\r",
      "STEP   143 / 667 (thread    2) f\b\b\r",
      "STEP   147 / 667 (thread    5) f\b\b\r",
      "STEP   148 / 667 (thread    0) f\b\b\r",
      "STEP   149 / 667 (thread    4) f\b\b\r",
      "STEP   150 / 667 (thread    5) f\b\b\r",
      "STEP   151 / 667 (thread    3) f\b\b\r",
      "STEP   152 / 667 (thread    1) f\b\b\r",
      "STEP   153 / 667 (thread    5) f\b\b\r",
      "STEP   154 / 667 (thread    2) f\b\b\r",
      "STEP   155 / 667 (thread    0) f\b\b\r",
      "STEP   156 / 667 (thread    5) f\b\b\r",
      "STEP   157 / 667 (thread    3) f\b\b\r",
      "STEP   158 / 667 (thread    4) f\b\b\r",
      "STEP   159 / 667 (thread    2) f\b\b\r",
      "STEP   160 / 667 (thread    5) f\b\b\r",
      "STEP   161 / 667 (thread    3) f\b\b\r",
      "STEP   162 / 667 (thread    1) f\b\b\r",
      "STEP   163 / 667 (thread    0) f\b\b\r",
      "STEP   164 / 667 (thread    4) f\b\b\r",
      "STEP   165 / 667 (thread    5) f\b\b\r",
      "STEP   166 / 667 (thread    1) f\b\b\r",
      "STEP   167 / 667 (thread    0) f\b\b\r",
      "STEP   168 / 667 (thread    2) f\b\b\r",
      "STEP   169 / 667 (thread    3) f\b\b\r",
      "STEP   170 / 667 (thread    5) f\b\b\r",
      "STEP   171 / 667 (thread    2) f\b\b\r",
      "STEP   172 / 667 (thread    4) f\b\b\r",
      "STEP   173 / 667 (thread    3) f\b\b\r",
      "STEP   174 / 667 (thread    0) f\b\b\r",
      "STEP   175 / 667 (thread    1) f\b\b\r",
      "STEP   176 / 667 (thread    5) f\b\b\r",
      "STEP   177 / 667 (thread    3) f\b\b\r",
      "STEP   178 / 667 (thread    2) f\b\b\r",
      "STEP   180 / 667 (thread    4) f\b\b\r",
      "STEP   181 / 667 (thread    1) f\b\b\r",
      "STEP   179 / 667 (thread    5) f\b\b\r",
      "STEP   182 / 667 (thread    3) f\b\b\r",
      "STEP   183 / 667 (thread    0) f\b\b\r",
      "STEP   184 / 667 (thread    2) f\b\b\r",
      "STEP   185 / 667 (thread    5) f\b\b\r",
      "STEP   186 / 667 (thread    4) f\b\b\r",
      "STEP   187 / 667 (thread    0) f\b\b\r",
      "STEP   188 / 667 (thread    5) f\b\b\r",
      "STEP   189 / 667 (thread    1) f\b\b\r",
      "STEP   190 / 667 (thread    3) f\b\b\r",
      "STEP   191 / 667 (thread    2) f\b\b\r",
      "STEP   192 / 667 (thread    4) f\b\b\r",
      "STEP   193 / 667 (thread    3) f\b\b\r",
      "STEP   194 / 667 (thread    1) f\b\b\r",
      "STEP   195 / 667 (thread    5) f\b\b\r",
      "STEP   196 / 667 (thread    0) f\b\b\r",
      "STEP   197 / 667 (thread    3) f\b\b\r",
      "STEP   198 / 667 (thread    5) f\b\b\r",
      "STEP   199 / 667 (thread    2) f\b\b\r",
      "STEP   200 / 667 (thread    4) f\b\b\r",
      "STEP   201 / 667 (thread    1) f\b\b\r",
      "STEP   202 / 667 (thread    5) f\b\b\r",
      "STEP   203 / 667 (thread    3) f\b\b\r",
      "STEP   204 / 667 (thread    5) f\b\b\r",
      "STEP   205 / 667 (thread    2) f\b\b\r",
      "STEP   206 / 667 (thread    3) f\b\b\r",
      "STEP   207 / 667 (thread    0) f\b\b\r",
      "STEP   208 / 667 (thread    4) f\b\b\r",
      "STEP   209 / 667 (thread    1) f\b\b\r",
      "STEP   211 / 667 (thread    0) f\b\b\r",
      "STEP   212 / 667 (thread    5) f\b\b\r",
      "STEP   213 / 667 (thread    2) f\b\b\r",
      "STEP   210 / 667 (thread    3) f\b\b\r",
      "STEP   214 / 667 (thread    5) f\b\b\r",
      "STEP   215 / 667 (thread    2) f\b\b\r",
      "STEP   216 / 667 (thread    4) f\b\b\r",
      "STEP   217 / 667 (thread    0) f\b\b\r",
      "STEP   218 / 667 (thread    1) f\b\b\r",
      "STEP   219 / 667 (thread    5) f\b\b\r",
      "STEP   220 / 667 (thread    3) f\b\b\r",
      "STEP   221 / 667 (thread    1) f\b\b\r",
      "STEP   222 / 667 (thread    0) f\b\b\r",
      "STEP   223 / 667 (thread    3) f\b\b\r",
      "STEP   224 / 667 (thread    5) f\b\b\r",
      "STEP   225 / 667 (thread    4) f\b\b\r",
      "STEP   226 / 667 (thread    5) f\b\b\r",
      "STEP   227 / 667 (thread    3) f\b\b\r",
      "STEP   228 / 667 (thread    2) f\b\b\r",
      "STEP   229 / 667 (thread    4) f\b\b\r",
      "STEP   230 / 667 (thread    1) f\b\b\r",
      "STEP   231 / 667 (thread    5) f\b\b\r",
      "STEP   232 / 667 (thread    5) f\b\b\r",
      "STEP   233 / 667 (thread    3) f\b\b\r",
      "STEP   234 / 667 (thread    0) f\b\b\r",
      "STEP   235 / 667 (thread    5) f\b\b\r",
      "STEP   236 / 667 (thread    3) f\b\b\r",
      "STEP   237 / 667 (thread    5) f\b\b\r",
      "STEP   238 / 667 (thread    4) f\b\b\r",
      "STEP   239 / 667 (thread    0) f\b\b\r",
      "STEP   240 / 667 (thread    1) f\b\b\r",
      "STEP   241 / 667 (thread    3) f\b\b\r",
      "STEP   242 / 667 (thread    2) f\b\b\r",
      "STEP   243 / 667 (thread    5) f\b\b\r",
      "STEP   244 / 667 (thread    3) f\b\b\r",
      "STEP   245 / 667 (thread    4) f\b\b\r",
      "STEP   246 / 667 (thread    1) f\b\b\r",
      "STEP   247 / 667 (thread    2) f\b\b\r",
      "STEP   248 / 667 (thread    5) f\b\b\r",
      "STEP   249 / 667 (thread    0) f\b\b\r",
      "STEP   250 / 667 (thread    3) f\b\b\r",
      "STEP   251 / 667 (thread    1) f\b\b\r",
      "STEP   252 / 667 (thread    5) f\b\b\r",
      "STEP   253 / 667 (thread    5) f\b\b\r",
      "STEP   254 / 667 (thread    2) f\b\b\r",
      "STEP   255 / 667 (thread    3) f\b\b\r",
      "STEP   256 / 667 (thread    0) f\b\b\r",
      "STEP   257 / 667 (thread    4) f\b\b\r",
      "STEP   258 / 667 (thread    5) f\b\b\r",
      "STEP   259 / 667 (thread    1) f\b\b\r",
      "STEP   260 / 667 (thread    3) f\b\b\r",
      "STEP   261 / 667 (thread    5) f\b\b\r",
      "STEP   262 / 667 (thread    2) f\b\b\r",
      "STEP   263 / 667 (thread    4) f\b\b\r",
      "STEP   264 / 667 (thread    0) f\b\b\r",
      "STEP   265 / 667 (thread    3) f\b\b\r",
      "STEP   266 / 667 (thread    5) f\b\b\r",
      "STEP   267 / 667 (thread    1) f\b\b\r",
      "STEP   268 / 667 (thread    3) f\b\b\r",
      "STEP   269 / 667 (thread    5) f\b\b\r",
      "STEP   270 / 667 (thread    4) f\b\b\r",
      "STEP   271 / 667 (thread    2) f\b\b\r",
      "STEP   272 / 667 (thread    5) f\b\b\r",
      "STEP   273 / 667 (thread    0) f\b\b\r",
      "STEP   274 / 667 (thread    3) f\b\b\r",
      "STEP   275 / 667 (thread    5) f\b\b\r",
      "STEP   276 / 667 (thread    1) f\b\b\r",
      "STEP   277 / 667 (thread    2) f\b\b\r",
      "STEP   278 / 667 (thread    0) f\b\b\r",
      "STEP   279 / 667 (thread    4) f\b\b\r",
      "STEP   280 / 667 (thread    3) f\b\b\r",
      "STEP   281 / 667 (thread    1) f\b\b\r",
      "STEP   282 / 667 (thread    5) f\b\b\r",
      "STEP   283 / 667 (thread    3) f\b\b\r",
      "STEP   284 / 667 (thread    2) f\b\b\r",
      "STEP   285 / 667 (thread    0) f\b\b\r",
      "STEP   286 / 667 (thread    5) f\b\b\r",
      "STEP   287 / 667 (thread    4) f\b\b\r",
      "STEP   288 / 667 (thread    1) f\b\b\r",
      "STEP   289 / 667 (thread    2) f\b\b\r",
      "STEP   290 / 667 (thread    5) f\b\b\r",
      "STEP   291 / 667 (thread    3) f\b\b\r",
      "STEP   292 / 667 (thread    1) f\b\b\r",
      "STEP   293 / 667 (thread    2) f\b\b\r",
      "STEP   294 / 667 (thread    5) f\b\b\r",
      "STEP   295 / 667 (thread    0) f\b\b\r",
      "STEP   296 / 667 (thread    4) f\b\b\r",
      "STEP   297 / 667 (thread    2) f\b\b\r",
      "STEP   298 / 667 (thread    5) f\b\b\r",
      "STEP   299 / 667 (thread    3) f\b\b\r",
      "STEP   300 / 667 (thread    1) f\b\b\r",
      "STEP   301 / 667 (thread    5) f\b\b\r",
      "STEP   302 / 667 (thread    4) f\b\b\r",
      "STEP   303 / 667 (thread    0) f\b\b\r",
      "STEP   304 / 667 (thread    3) f\b\b\r",
      "STEP   305 / 667 (thread    2) f\b\b\r",
      "STEP   306 / 667 (thread    3) f\b\b\r",
      "STEP   308 / 667 (thread    1) f\b\b\r",
      "STEP   309 / 667 (thread    2) f\b\b\r",
      "STEP   310 / 667 (thread    3) f\b\b\r",
      "STEP   311 / 667 (thread    4) f\b\b\r",
      "STEP   307 / 667 (thread    5) f\b\b\r",
      "STEP   312 / 667 (thread    5) f\b\b\r",
      "STEP   313 / 667 (thread    3) f\b\b\r",
      "STEP   314 / 667 (thread    0) f\b\b\r",
      "STEP   316 / 667 (thread    2) f\b\b\r",
      "STEP   317 / 667 (thread    5) f\b\b\r",
      "STEP   318 / 667 (thread    1) f\b\b\r",
      "STEP   319 / 667 (thread    5) f\b\b\r",
      "STEP   315 / 667 (thread    4) f\b\b\r",
      "STEP   321 / 667 (thread    2) f\b\b\r",
      "STEP   320 / 667 (thread    3) f\b\b\r",
      "STEP   322 / 667 (thread    0) f\b\b\r",
      "STEP   324 / 667 (thread    1) f\b\b\r",
      "STEP   325 / 667 (thread    3) f\b\b\r",
      "STEP   326 / 667 (thread    2) f\b\b\r",
      "STEP   323 / 667 (thread    5) f\b\b\r",
      "STEP   328 / 667 (thread    3) f\b\b\r",
      "STEP   329 / 667 (thread    1) f\b\b\r",
      "STEP   330 / 667 (thread    0) f\b\b\r",
      "STEP   331 / 667 (thread    5) f\b\b\r",
      "STEP   327 / 667 (thread    4) f\b\b\r",
      "STEP   332 / 667 (thread    2) f\b\b"
     ]
    },
    {
     "name": "stderr",
     "output_type": "stream",
     "text": [
      "\r",
      "STEP   333 / 667 (thread    5) f\b\b\r",
      "STEP   334 / 667 (thread    3) f\b\b\r",
      "STEP   335 / 667 (thread    0) f\b\b\r",
      "STEP   336 / 667 (thread    5) f\b\b\r",
      "STEP   337 / 667 (thread    4) f\b\b\r",
      "STEP   339 / 667 (thread    2) f\b\b\r",
      "STEP   340 / 667 (thread    4) f\b\b\r",
      "STEP   341 / 667 (thread    0) f\b\b\r",
      "STEP   342 / 667 (thread    5) f\b\b\r",
      "STEP   343 / 667 (thread    3) f\b\b\r",
      "STEP   338 / 667 (thread    1) f\b\b\r",
      "STEP   344 / 667 (thread    0) f\b\b\r",
      "STEP   346 / 667 (thread    5) f\b\b\r",
      "STEP   347 / 667 (thread    4) f\b\b\r",
      "STEP   349 / 667 (thread    4) f\b\b\r",
      "STEP   350 / 667 (thread    3) f\b\b\r",
      "STEP   351 / 667 (thread    4) f\b\b\r",
      "STEP   348 / 667 (thread    5) f\b\b\r",
      "STEP   352 / 667 (thread    0) f\b\b\r",
      "STEP   353 / 667 (thread    3) f\b\b\r",
      "STEP   354 / 667 (thread    4) f\b\b\r",
      "STEP   355 / 667 (thread    5) f\b\b\r",
      "STEP   356 / 667 (thread    0) f\b\b\r",
      "STEP   358 / 667 (thread    3) f\b\b\r",
      "STEP   359 / 667 (thread    4) f\b\b\r",
      "STEP   357 / 667 (thread    5) f\b\b\r",
      "STEP   345 / 667 (thread    2) f\b\b\r",
      "STEP   361 / 667 (thread    5) f\b\b\r",
      "STEP   362 / 667 (thread    0) f\b\b\r",
      "STEP   363 / 667 (thread    3) f\b\b\r",
      "STEP   365 / 667 (thread    0) f\b\b\r",
      "STEP   366 / 667 (thread    5) f\b\b\r",
      "STEP   367 / 667 (thread    3) f\b\b\r",
      "STEP   368 / 667 (thread    0) f\b\b\r",
      "STEP   369 / 667 (thread    5) f\b\b\r",
      "STEP   371 / 667 (thread    3) f\b\b\r",
      "STEP   372 / 667 (thread    5) f\b\b\r",
      "STEP   373 / 667 (thread    2) f\b\b\r",
      "STEP   360 / 667 (thread    1) f\b\b\r",
      "STEP   374 / 667 (thread    3) f\b\b\r",
      "STEP   375 / 667 (thread    2) f\b\b\r",
      "STEP   376 / 667 (thread    5) f\b\b\r",
      "STEP   364 / 667 (thread    4) f\b\b\r",
      "STEP   377 / 667 (thread    1) f\b\b\r",
      "STEP   378 / 667 (thread    3) f\b\b\r",
      "STEP   379 / 667 (thread    5) f\b\b\r",
      "STEP   380 / 667 (thread    2) f\b\b\r",
      "STEP   383 / 667 (thread    3) f\b\b\r",
      "STEP   384 / 667 (thread    2) f\b\b\r",
      "STEP   385 / 667 (thread    4) f\b\b\r",
      "STEP   370 / 667 (thread    0) f\b\b\r",
      "STEP   386 / 667 (thread    2) f\b\b\r",
      "STEP   387 / 667 (thread    3) f\b\b\r",
      "STEP   388 / 667 (thread    4) f\b\b\r",
      "STEP   389 / 667 (thread    2) f\b\b\r",
      "STEP   390 / 667 (thread    4) f\b\b\r",
      "STEP   391 / 667 (thread    4) f\b\b\r",
      "STEP   381 / 667 (thread    1) f\b\b\r",
      "STEP   393 / 667 (thread    3) f\b\b\r",
      "STEP   394 / 667 (thread    3) f\b\b\r",
      "STEP   395 / 667 (thread    2) f\b\b\r",
      "STEP   397 / 667 (thread    3) f\b\b\r",
      "STEP   398 / 667 (thread    2) f\b\b\r",
      "STEP   382 / 667 (thread    5) f\b\b\r",
      "STEP   399 / 667 (thread    1) f\b\b\r",
      "STEP   400 / 667 (thread    2) f\b\b\r",
      "STEP   401 / 667 (thread    1) f\b\b\r",
      "STEP   402 / 667 (thread    1) f\b\b\r",
      "STEP   403 / 667 (thread    3) f\b\b\r",
      "STEP   404 / 667 (thread    1) f\b\b\r",
      "STEP   405 / 667 (thread    5) f\b\b\r",
      "STEP   392 / 667 (thread    0) f\b\b\r",
      "STEP   406 / 667 (thread    3) f\b\b\r",
      "STEP   407 / 667 (thread    2) f\b\b\r",
      "STEP   409 / 667 (thread    5) f\b\b\r",
      "STEP   410 / 667 (thread    3) f\b\b\r",
      "STEP   411 / 667 (thread    5) f\b\b\r",
      "STEP   396 / 667 (thread    4) f\b\b\r",
      "STEP   413 / 667 (thread    5) f\b\b\r",
      "STEP   414 / 667 (thread    3) f\b\b\r",
      "STEP   415 / 667 (thread    2) f\b\b\r",
      "STEP   416 / 667 (thread    5) f\b\b\r",
      "STEP   417 / 667 (thread    3) f\b\b\r",
      "STEP   419 / 667 (thread    5) f\b\b\r",
      "STEP   420 / 667 (thread    5) f\b\b\r",
      "STEP   421 / 667 (thread    4) f\b\b\r",
      "STEP   408 / 667 (thread    1) f\b\b\r",
      "STEP   422 / 667 (thread    3) f\b\b\r",
      "STEP   424 / 667 (thread    5) f\b\b\r",
      "STEP   425 / 667 (thread    4) f\b\b\r",
      "STEP   426 / 667 (thread    5) f\b\b\r",
      "STEP   427 / 667 (thread    4) f\b\b\r",
      "STEP   412 / 667 (thread    0) f\b\b\r",
      "STEP   428 / 667 (thread    1) f\b\b\r",
      "STEP   429 / 667 (thread    5) f\b\b\r",
      "STEP   430 / 667 (thread    1) f\b\b\r",
      "STEP   431 / 667 (thread    5) f\b\b\r",
      "STEP   432 / 667 (thread    4) f\b\b\r",
      "STEP   433 / 667 (thread    5) f\b\b\r",
      "STEP   434 / 667 (thread    1) f\b\b\r",
      "STEP   435 / 667 (thread    4) f\b\b\r",
      "STEP   437 / 667 (thread    5) f\b\b\r",
      "STEP   438 / 667 (thread    5) f\b\b\r",
      "STEP   439 / 667 (thread    0) f\b\b\r",
      "STEP   418 / 667 (thread    2) f\b\b\r",
      "STEP   441 / 667 (thread    4) f\b\b\r",
      "STEP   442 / 667 (thread    0) f\b\b\r",
      "STEP   443 / 667 (thread    4) f\b\b\r",
      "STEP   445 / 667 (thread    4) f\b\b\r",
      "STEP   423 / 667 (thread    3) f\b\b\r",
      "STEP   446 / 667 (thread    2) f\b\b\r",
      "STEP   447 / 667 (thread    4) f\b\b\r",
      "STEP   448 / 667 (thread    2) f\b\b\r",
      "STEP   449 / 667 (thread    4) f\b\b\r",
      "STEP   450 / 667 (thread    3) f\b\b\r",
      "STEP   436 / 667 (thread    1) f\b\b\r",
      "STEP   451 / 667 (thread    3) f\b\b\r",
      "STEP   452 / 667 (thread    4) f\b\b\r",
      "STEP   454 / 667 (thread    4) f\b\b\r",
      "STEP   455 / 667 (thread    3) f\b\b\r",
      "STEP   456 / 667 (thread    1) f\b\b\r",
      "STEP   457 / 667 (thread    4) f\b\b\r",
      "STEP   440 / 667 (thread    5) f\b\b\r",
      "STEP   458 / 667 (thread    4) f\b\b\r",
      "STEP   459 / 667 (thread    3) f\b\b\r",
      "STEP   460 / 667 (thread    4) f\b\b\r",
      "STEP   461 / 667 (thread    3) f\b\b\r",
      "STEP   463 / 667 (thread    4) f\b\b\r",
      "STEP   464 / 667 (thread    3) f\b\b\r",
      "STEP   465 / 667 (thread    5) f\b\b\r",
      "STEP   444 / 667 (thread    0) f\b\b\r",
      "STEP   466 / 667 (thread    4) f\b\b\r",
      "STEP   467 / 667 (thread    4) f\b\b\r",
      "STEP   468 / 667 (thread    3) f\b\b\r",
      "STEP   469 / 667 (thread    5) f\b\b\r",
      "STEP   471 / 667 (thread    5) f\b\b\r",
      "STEP   472 / 667 (thread    3) f\b\b\r",
      "STEP   474 / 667 (thread    0) f\b\b\r",
      "STEP   453 / 667 (thread    2) f\b\b\r",
      "STEP   475 / 667 (thread    0) f\b\b\r",
      "STEP   476 / 667 (thread    3) f\b\b\r",
      "STEP   477 / 667 (thread    3) f\b\b\r",
      "STEP   478 / 667 (thread    0) f\b\b\r",
      "STEP   479 / 667 (thread    2) f\b\b\r",
      "STEP   462 / 667 (thread    1) f\b\b\r",
      "STEP   480 / 667 (thread    3) f\b\b\r",
      "STEP   481 / 667 (thread    2) f\b\b\r",
      "STEP   482 / 667 (thread    0) f\b\b\r",
      "STEP   483 / 667 (thread    1) f\b\b\r",
      "STEP   470 / 667 (thread    4) f\b\b\r",
      "STEP   485 / 667 (thread    0) f\b\b\r",
      "STEP   486 / 667 (thread    1) f\b\b\r",
      "STEP   484 / 667 (thread    2) f\b\b\r",
      "STEP   488 / 667 (thread    0) f\b\b\r",
      "STEP   489 / 667 (thread    1) f\b\b\r",
      "STEP   490 / 667 (thread    0) f\b\b\r",
      "STEP   491 / 667 (thread    1) f\b\b\r",
      "STEP   492 / 667 (thread    2)\r",
      "STEP   487 / 667 (thread    3) f\b\b f\b\b\r",
      "STEP   493 / 667 (thread    0) f\b\b\r",
      "STEP   473 / 667 (thread    5) f\b\b\r",
      "STEP   495 / 667 (thread    2) f\b\b\r",
      "STEP   498 / 667 (thread    1) f\b\b\r",
      "STEP   499 / 667 (thread    2) f\b\b\r",
      "STEP   500 / 667 (thread    1) f\b\b\r",
      "STEP   501 / 667 (thread    2) f\b\b\r",
      "STEP   494 / 667 (thread    4) f\b\b\r",
      "STEP   496 / 667 (thread    0) f\b\b\r",
      "STEP   497 / 667 (thread    3) f\b\b\n",
      "Reallocating..done. *alloclen = 1862\n",
      "\r",
      "STEP   601 / 667 (thread    1) f\b\b"
     ]
    },
    {
     "name": "stderr",
     "output_type": "stream",
     "text": [
      "\n",
      "done.\n",
      "\n",
      "Making a distance matrix from msa.. \n",
      "\r",
      "    0 / 668 (thread    0)\r",
      "  100 / 668 (thread    4)\r",
      "  200 / 668 (thread    3)\r",
      "  300 / 668 (thread    0)\r",
      "  400 / 668 (thread    2)\r",
      "  500 / 668 (thread    0)\r",
      "  600 / 668 (thread    4)\n",
      "done.\n",
      "\n",
      "Constructing a UPGMA tree (efffree=1) ... \n",
      "\r",
      "    0 / 668\r",
      "   10 / 668\r",
      "   20 / 668\r",
      "   30 / 668\r",
      "   40 / 668\r",
      "   50 / 668\r",
      "   60 / 668\r",
      "   70 / 668\r",
      "   80 / 668\r",
      "   90 / 668\r",
      "  100 / 668\r",
      "  110 / 668\r",
      "  120 / 668\r",
      "  130 / 668\r",
      "  140 / 668\r",
      "  150 / 668\r",
      "  160 / 668\r",
      "  170 / 668\r",
      "  180 / 668\r",
      "  190 / 668\r",
      "  200 / 668\r",
      "  210 / 668\r",
      "  220 / 668\r",
      "  230 / 668\r",
      "  240 / 668\r",
      "  250 / 668\r",
      "  260 / 668\r",
      "  270 / 668\r",
      "  280 / 668\r",
      "  290 / 668\r",
      "  300 / 668\r",
      "  310 / 668\r",
      "  320 / 668\r",
      "  330 / 668\r",
      "  340 / 668\r",
      "  350 / 668\r",
      "  360 / 668\r",
      "  370 / 668\r",
      "  380 / 668\r",
      "  390 / 668\r",
      "  400 / 668\r",
      "  410 / 668\r",
      "  420 / 668\r",
      "  430 / 668\r",
      "  440 / 668\r",
      "  450 / 668\r",
      "  460 / 668\r",
      "  470 / 668\r",
      "  480 / 668\r",
      "  490 / 668\r",
      "  500 / 668\r",
      "  510 / 668\r",
      "  520 / 668\r",
      "  530 / 668\r",
      "  540 / 668\r",
      "  550 / 668\r",
      "  560 / 668\r",
      "  570 / 668\r",
      "  580 / 668\r",
      "  590 / 668\r",
      "  600 / 668\r",
      "  610 / 668\r",
      "  620 / 668\r",
      "  630 / 668\r",
      "  640 / 668\r",
      "  650 / 668\r",
      "  660 / 668\n",
      "done.\n",
      "\n",
      "Progressive alignment 2/2... \n",
      "\r",
      "STEP     1 / 667 (thread    0) f\b\b\r",
      "STEP     2 / 667 (thread    1) f\b\b\r",
      "STEP     3 / 667 (thread    2) f\b\b\r",
      "STEP     4 / 667 (thread    3) f\b\b\r",
      "STEP     5 / 667 (thread    4) f\b\b\r",
      "STEP     6 / 667 (thread    5) f\b\b\r",
      "STEP     7 / 667 (thread    5) f\b\b\r",
      "STEP     8 / 667 (thread    1) f\b\b\r",
      "STEP     9 / 667 (thread    5) f\b\b\r",
      "STEP    10 / 667 (thread    1) f\b\b\r",
      "STEP    11 / 667 (thread    5) f\b\b\r",
      "STEP    12 / 667 (thread    1) f\b\b\r",
      "STEP    13 / 667 (thread    5) f\b\b\r",
      "STEP    14 / 667 (thread    1) f\b\b\r",
      "STEP    15 / 667 (thread    5) f\b\b\r",
      "STEP    16 / 667 (thread    2) f\b\b\r",
      "STEP    17 / 667 (thread    1) f\b\b\r",
      "STEP    18 / 667 (thread    4) f\b\b\r",
      "STEP    19 / 667 (thread    5) f\b\b\r",
      "STEP    20 / 667 (thread    3) f\b\b\r",
      "STEP    21 / 667 (thread    0) f\b\b\r",
      "STEP    22 / 667 (thread    1) f\b\b\r",
      "STEP    23 / 667 (thread    2) f\b\b\r",
      "STEP    24 / 667 (thread    5) f\b\b\r",
      "STEP    25 / 667 (thread    4) f\b\b\r",
      "STEP    26 / 667 (thread    3) f\b\b\r",
      "STEP    27 / 667 (thread    0) f\b\b\r",
      "STEP    28 / 667 (thread    1) f\b\b\r",
      "STEP    29 / 667 (thread    5) f\b\b\r",
      "STEP    30 / 667 (thread    2) f\b\b\r",
      "STEP    31 / 667 (thread    4) f\b\b\r",
      "STEP    32 / 667 (thread    1) f\b\b\r",
      "STEP    33 / 667 (thread    0) f\b\b\r",
      "STEP    34 / 667 (thread    5) f\b\b\r",
      "STEP    35 / 667 (thread    2) f\b\b\r",
      "STEP    36 / 667 (thread    5) f\b\b\r",
      "STEP    37 / 667 (thread    1) f\b\b\r",
      "STEP    38 / 667 (thread    4) f\b\b\r",
      "STEP    39 / 667 (thread    0) f\b\b\r",
      "STEP    40 / 667 (thread    3) f\b\b\r",
      "STEP    41 / 667 (thread    5) f\b\b\r",
      "STEP    42 / 667 (thread    2) f\b\b\r",
      "STEP    43 / 667 (thread    1) f\b\b\r",
      "STEP    44 / 667 (thread    4) f\b\b\r",
      "STEP    45 / 667 (thread    0) f\b\b\r",
      "STEP    46 / 667 (thread    5) f\b\b\r",
      "STEP    47 / 667 (thread    1) f\b\b\r",
      "STEP    48 / 667 (thread    3) f\b\b\r",
      "STEP    49 / 667 (thread    2) f\b\b\r",
      "STEP    50 / 667 (thread    4) f\b\b\r",
      "STEP    51 / 667 (thread    1) f\b\b\r",
      "STEP    52 / 667 (thread    5) f\b\b\r",
      "STEP    53 / 667 (thread    0) f\b\b\r",
      "STEP    54 / 667 (thread    3) f\b\b\r",
      "STEP    55 / 667 (thread    1) f\b\b\r",
      "STEP    56 / 667 (thread    2) f\b\b\r",
      "STEP    57 / 667 (thread    5) f\b\b\r",
      "STEP    58 / 667 (thread    4) f\b\b\r",
      "STEP    59 / 667 (thread    0) f\b\b\r",
      "STEP    60 / 667 (thread    1) f\b\b\r",
      "STEP    64 / 667 (thread    1) f\b\b\r",
      "STEP    61 / 667 (thread    5) f\b\b\r",
      "STEP    65 / 667 (thread    0) f\b\b\r",
      "STEP    66 / 667 (thread    4) f\b\b\r",
      "STEP    67 / 667 (thread    1) f\b\b\r",
      "STEP    68 / 667 (thread    0) f\b\b\r",
      "STEP    69 / 667 (thread    4) f\b\b\r",
      "STEP    70 / 667 (thread    1) f\b\b\r",
      "STEP    71 / 667 (thread    0) f\b\b\r",
      "STEP    62 / 667 (thread    3) f\b\b\r",
      "STEP    72 / 667 (thread    5) f\b\b\r",
      "STEP    73 / 667 (thread    4) f\b\b\r",
      "STEP    75 / 667 (thread    4) f\b\b\r",
      "STEP    74 / 667 (thread    1) f\b\b\r",
      "STEP    76 / 667 (thread    4) f\b\b\r",
      "STEP    77 / 667 (thread    5) f\b\b\r",
      "STEP    78 / 667 (thread    1) f\b\b\r",
      "STEP    79 / 667 (thread    4) f\b\b\r",
      "STEP    80 / 667 (thread    3) f\b\b\r",
      "STEP    63 / 667 (thread    2) f\b\b\r",
      "STEP    81 / 667 (thread    0) f\b\b\r",
      "STEP    82 / 667 (thread    5) f\b\b\r",
      "STEP    83 / 667 (thread    1) f\b\b\r",
      "STEP    84 / 667 (thread    4) f\b\b\r",
      "STEP    85 / 667 (thread    0) f\b\b\r",
      "STEP    86 / 667 (thread    3) f\b\b\r",
      "STEP    87 / 667 (thread    5) f\b\b\r",
      "STEP    88 / 667 (thread    1) f\b\b\r",
      "STEP    89 / 667 (thread    4) f\b\b\r",
      "STEP    90 / 667 (thread    3) f\b\b\r",
      "STEP    91 / 667 (thread    2) f\b\b\r",
      "STEP    92 / 667 (thread    5) f\b\b\r",
      "STEP    93 / 667 (thread    1) f\b\b\r",
      "STEP    94 / 667 (thread    4) f\b\b\r",
      "STEP    95 / 667 (thread    3) f\b\b\r",
      "STEP    96 / 667 (thread    5) f\b\b\r",
      "STEP    97 / 667 (thread    2) f\b\b\r",
      "STEP    98 / 667 (thread    0) f\b\b\r",
      "STEP    99 / 667 (thread    1) f\b\b\r",
      "STEP   100 / 667 (thread    1) f\b\b\r",
      "STEP   101 / 667 (thread    5) f\b\b\r",
      "STEP   102 / 667 (thread    4) f\b\b\r",
      "STEP   103 / 667 (thread    1) f\b\b\r",
      "STEP   104 / 667 (thread    3) f\b\b\r",
      "STEP   105 / 667 (thread    2) f\b\b\r",
      "STEP   106 / 667 (thread    0) f\b\b\r",
      "STEP   107 / 667 (thread    5) f\b\b\r",
      "STEP   108 / 667 (thread    1) f\b\b\r",
      "STEP   109 / 667 (thread    5) f\b\b\r",
      "STEP   110 / 667 (thread    2) f\b\b\r",
      "STEP   111 / 667 (thread    0) f\b\b\r",
      "STEP   112 / 667 (thread    1) f\b\b\r",
      "STEP   113 / 667 (thread    3) f\b\b\r",
      "STEP   114 / 667 (thread    5) f\b\b\r",
      "STEP   115 / 667 (thread    4) f\b\b\r",
      "STEP   116 / 667 (thread    1) f\b\b\r",
      "STEP   117 / 667 (thread    5) f\b\b\r",
      "STEP   118 / 667 (thread    5) f\b\b\r",
      "STEP   119 / 667 (thread    1) f\b\b\r",
      "STEP   120 / 667 (thread    0) f\b\b\r",
      "STEP   121 / 667 (thread    2) f\b\b\r",
      "STEP   122 / 667 (thread    3) f\b\b\r",
      "STEP   123 / 667 (thread    5) f\b\b\r",
      "STEP   124 / 667 (thread    4) f\b\b\r",
      "STEP   125 / 667 (thread    1) f\b\b\r",
      "STEP   126 / 667 (thread    0) f\b\b\r",
      "STEP   127 / 667 (thread    5) f\b\b\r",
      "STEP   128 / 667 (thread    2) f\b\b\r",
      "STEP   129 / 667 (thread    1) f\b\b\r",
      "STEP   130 / 667 (thread    0) f\b\b\r",
      "STEP   131 / 667 (thread    2) f\b\b\r",
      "STEP   132 / 667 (thread    1) f\b\b\r",
      "STEP   133 / 667 (thread    5) f\b\b\r",
      "STEP   135 / 667 (thread    3) f\b\b\r",
      "STEP   134 / 667 (thread    4) f\b\b\r",
      "STEP   136 / 667 (thread    0) f\b\b\r",
      "STEP   137 / 667 (thread    1) f\b\b\r",
      "STEP   138 / 667 (thread    3) f\b\b\r",
      "STEP   139 / 667 (thread    5) f\b\b\r",
      "STEP   140 / 667 (thread    2) f\b\b\r",
      "STEP   141 / 667 (thread    4) f\b\b\r",
      "STEP   142 / 667 (thread    1) f\b\b\r",
      "STEP   143 / 667 (thread    3) f\b\b\r",
      "STEP   145 / 667 (thread    5) f\b\b\r",
      "STEP   146 / 667 (thread    4) f\b\b\r",
      "STEP   148 / 667 (thread    5) f\b\b\r",
      "STEP   147 / 667 (thread    2) f\b\b\r",
      "STEP   149 / 667 (thread    1) f\b\b\r",
      "STEP   144 / 667 (thread    0) f\b\b\r",
      "STEP   150 / 667 (thread    3) f\b\b\r",
      "STEP   151 / 667 (thread    4) f\b\b\r",
      "STEP   152 / 667 (thread    5) f\b\b\r",
      "STEP   153 / 667 (thread    5) f\b\b\r",
      "STEP   154 / 667 (thread    3) f\b\b\r",
      "STEP   155 / 667 (thread    5) f\b\b\r",
      "STEP   156 / 667 (thread    1) f\b\b\r",
      "STEP   157 / 667 (thread    0) f\b\b\r",
      "STEP   158 / 667 (thread    2) f\b\b\r",
      "STEP   159 / 667 (thread    3) f\b\b\r",
      "STEP   160 / 667 (thread    5) f\b\b\r",
      "STEP   161 / 667 (thread    1) f\b\b\r",
      "STEP   162 / 667 (thread    4) f\b\b\r",
      "STEP   163 / 667 (thread    2) f\b\b\r",
      "STEP   164 / 667 (thread    0) f\b\b\r",
      "STEP   165 / 667 (thread    3) f\b\b\r",
      "STEP   166 / 667 (thread    5) f\b\b\r",
      "STEP   167 / 667 (thread    1) f\b\b\r",
      "STEP   168 / 667 (thread    2) f\b\b\r",
      "STEP   169 / 667 (thread    3) f\b\b\r",
      "STEP   170 / 667 (thread    4) f\b\b\r",
      "STEP   171 / 667 (thread    0) f\b\b\r",
      "STEP   172 / 667 (thread    5) f\b\b\r",
      "STEP   173 / 667 (thread    1) f\b\b\r",
      "STEP   174 / 667 (thread    1) f\b\b\r",
      "STEP   175 / 667 (thread    2) f\b\b\r",
      "STEP   176 / 667 (thread    0) f\b\b\r",
      "STEP   177 / 667 (thread    3) f\b\b\r",
      "STEP   178 / 667 (thread    5) f\b\b\r",
      "STEP   179 / 667 (thread    4) f\b\b\r",
      "STEP   180 / 667 (thread    2) f\b\b\r",
      "STEP   181 / 667 (thread    1) f\b\b\r",
      "STEP   182 / 667 (thread    0) f\b\b\r",
      "STEP   183 / 667 (thread    1) f\b\b\r",
      "STEP   184 / 667 (thread    5) f\b\b\r",
      "STEP   185 / 667 (thread    3) f\b\b\r",
      "STEP   186 / 667 (thread    1) f\b\b\r",
      "STEP   187 / 667 (thread    4) f\b\b\r",
      "STEP   188 / 667 (thread    2) f\b\b\r",
      "STEP   189 / 667 (thread    3) f\b\b\r",
      "STEP   190 / 667 (thread    0) f\b\b\r",
      "STEP   191 / 667 (thread    1) f\b\b\r",
      "STEP   192 / 667 (thread    5) f\b\b\r",
      "STEP   193 / 667 (thread    4) f\b\b\r",
      "STEP   194 / 667 (thread    3) f\b\b\r",
      "STEP   195 / 667 (thread    0) f\b\b\r",
      "STEP   196 / 667 (thread    5) f\b\b\r",
      "STEP   197 / 667 (thread    1) f\b\b\r",
      "STEP   198 / 667 (thread    2) f\b\b\r",
      "STEP   199 / 667 (thread    5) f\b\b\r",
      "STEP   200 / 667 (thread    4) f\b\b\r",
      "STEP   201 / 667 (thread    1) f\b\b\r",
      "STEP   202 / 667 (thread    3) f\b\b\r",
      "STEP   203 / 667 (thread    0) f\b\b\r",
      "STEP   204 / 667 (thread    5) f\b\b\r",
      "STEP   205 / 667 (thread    2) f\b\b\r",
      "STEP   206 / 667 (thread    1) f\b\b\r",
      "STEP   207 / 667 (thread    4) f\b\b\r",
      "STEP   208 / 667 (thread    5) f\b\b\r",
      "STEP   209 / 667 (thread    3) f\b\b\r",
      "STEP   210 / 667 (thread    1) f\b\b\r",
      "STEP   211 / 667 (thread    0) f\b\b\r",
      "STEP   212 / 667 (thread    5) f\b\b\r",
      "STEP   213 / 667 (thread    2) f\b\b\r",
      "STEP   214 / 667 (thread    3) f\b\b\r",
      "STEP   215 / 667 (thread    0) f\b\b\r",
      "STEP   216 / 667 (thread    1) f\b\b\r",
      "STEP   217 / 667 (thread    5) f\b\b\r",
      "STEP   218 / 667 (thread    4) f\b\b\r",
      "STEP   219 / 667 (thread    2)\r",
      "STEP   220 / 667 (thread    1) f\b\b f\b\b\r",
      "STEP   221 / 667 (thread    5) f\b\b\r",
      "STEP   222 / 667 (thread    3) f\b\b\r",
      "STEP   223 / 667 (thread    0) f\b\b\r",
      "STEP   224 / 667 (thread    1) f\b\b\r",
      "STEP   225 / 667 (thread    5) f\b\b\r",
      "STEP   226 / 667 (thread    2) f\b\b\r",
      "STEP   227 / 667 (thread    4) f\b\b\r",
      "STEP   228 / 667 (thread    1) f\b\b\r",
      "STEP   229 / 667 (thread    3) f\b\b\r",
      "STEP   230 / 667 (thread    5) f\b\b\r",
      "STEP   231 / 667 (thread    5) f\b\b\r",
      "STEP   233 / 667 (thread    0) f\b\b\r",
      "STEP   234 / 667 (thread    2) f\b\b\r",
      "STEP   235 / 667 (thread    1) f\b\b\r",
      "STEP   236 / 667 (thread    5) f\b\b\r",
      "STEP   237 / 667 (thread    4) f\b\b\r",
      "STEP   232 / 667 (thread    3) f\b\b\r",
      "STEP   238 / 667 (thread    0) f\b\b\r",
      "STEP   239 / 667 (thread    1) f\b\b\r",
      "STEP   240 / 667 (thread    1) f\b\b\r",
      "STEP   241 / 667 (thread    5) f\b\b\r",
      "STEP   242 / 667 (thread    2) f\b\b\r",
      "STEP   244 / 667 (thread    0) f\b\b\r",
      "STEP   245 / 667 (thread    5) f\b\b\r",
      "STEP   243 / 667 (thread    1) f\b\b\r",
      "STEP   246 / 667 (thread    4) f\b\b\r",
      "STEP   248 / 667 (thread    0) f\b\b\r",
      "STEP   249 / 667 (thread    2) f\b\b\r",
      "STEP   250 / 667 (thread    5) f\b\b\r",
      "STEP   247 / 667 (thread    3) f\b\b\r",
      "STEP   251 / 667 (thread    1) f\b\b\r",
      "STEP   252 / 667 (thread    4) f\b\b\r",
      "STEP   253 / 667 (thread    1) f\b\b\r",
      "STEP   254 / 667 (thread    5) f\b\b\r",
      "STEP   255 / 667 (thread    0) f\b\b\r",
      "STEP   256 / 667 (thread    5) f\b\b\r",
      "STEP   257 / 667 (thread    1) f\b\b\r",
      "STEP   258 / 667 (thread    2) f\b\b\r",
      "STEP   259 / 667 (thread    3) f\b\b\r",
      "STEP   260 / 667 (thread    0) f\b\b\r",
      "STEP   261 / 667 (thread    1) f\b\b\r",
      "STEP   262 / 667 (thread    5) f\b\b\r",
      "STEP   263 / 667 (thread    2) f\b\b\r",
      "STEP   264 / 667 (thread    4) f\b\b\r",
      "STEP   265 / 667 (thread    3) f\b\b\r",
      "STEP   266 / 667 (thread    1) f\b\b\r",
      "STEP   267 / 667 (thread    5) f\b\b\r",
      "STEP   268 / 667 (thread    0) f\b\b\r",
      "STEP   269 / 667 (thread    1) f\b\b\r",
      "STEP   270 / 667 (thread    2) f\b\b\r",
      "STEP   271 / 667 (thread    4) f\b\b\r",
      "STEP   272 / 667 (thread    3) f\b\b\r",
      "STEP   273 / 667 (thread    0) f\b\b\r",
      "STEP   274 / 667 (thread    5) f\b\b\r",
      "STEP   275 / 667 (thread    1) f\b\b\r",
      "STEP   276 / 667 (thread    5) f\b\b\r",
      "STEP   277 / 667 (thread    1) f\b\b\r",
      "STEP   278 / 667 (thread    3) f\b\b\r",
      "STEP   279 / 667 (thread    2) f\b\b\r",
      "STEP   280 / 667 (thread    4) f\b\b\r",
      "STEP   282 / 667 (thread    2) f\b\b\r",
      "STEP   283 / 667 (thread    5) f\b\b\r",
      "STEP   281 / 667 (thread    0) f\b\b\r",
      "STEP   284 / 667 (thread    1) f\b\b\r",
      "STEP   285 / 667 (thread    3) f\b\b\r",
      "STEP   286 / 667 (thread    5) f\b\b\r",
      "STEP   287 / 667 (thread    1) f\b\b\r",
      "STEP   288 / 667 (thread    4) f\b\b\r",
      "STEP   289 / 667 (thread    0) f\b\b\r",
      "STEP   290 / 667 (thread    2) f\b\b\r",
      "STEP   291 / 667 (thread    1) f\b\b\r",
      "STEP   292 / 667 (thread    3) f\b\b\r",
      "STEP   293 / 667 (thread    5) f\b\b\r",
      "STEP   294 / 667 (thread    1) f\b\b\r",
      "STEP   296 / 667 (thread    0) f\b\b\r",
      "STEP   298 / 667 (thread    5) f\b\b\r",
      "STEP   299 / 667 (thread    4) f\b\b\r",
      "STEP   295 / 667 (thread    3) f\b\b\r",
      "STEP   300 / 667 (thread    1) f\b\b\r",
      "STEP   301 / 667 (thread    1) f\b\b\r",
      "STEP   302 / 667 (thread    4) f\b\b\r",
      "STEP   303 / 667 (thread    5) f\b\b\r",
      "STEP   304 / 667 (thread    1) f\b\b\r",
      "STEP   297 / 667 (thread    2) f\b\b\r",
      "STEP   305 / 667 (thread    0) f\b\b\r",
      "STEP   306 / 667 (thread    3) f\b\b\r",
      "STEP   307 / 667 (thread    5) f\b\b\r",
      "STEP   310 / 667 (thread    5) f\b\b\r",
      "STEP   308 / 667 (thread    1) f\b\b\r",
      "STEP   311 / 667 (thread    2) f\b\b\r",
      "STEP   312 / 667 (thread    3) f\b\b\r",
      "STEP   313 / 667 (thread    5) f\b\b\r",
      "STEP   314 / 667 (thread    0) f\b\b\r",
      "STEP   309 / 667 (thread    4) f\b\b\r",
      "STEP   315 / 667 (thread    3) f\b\b\r",
      "STEP   316 / 667 (thread    1) f\b\b\r",
      "STEP   317 / 667 (thread    5) f\b\b\r",
      "STEP   319 / 667 (thread    2) f\b\b\r",
      "STEP   320 / 667 (thread    1) f\b\b\r",
      "STEP   318 / 667 (thread    0) f\b\b\r",
      "STEP   321 / 667 (thread    3) f\b\b\r",
      "STEP   322 / 667 (thread    4) f\b\b\r",
      "STEP   323 / 667 (thread    5) f\b\b\r",
      "STEP   324 / 667 (thread    1) f\b\b\r",
      "STEP   325 / 667 (thread    2) f\b\b\r",
      "STEP   326 / 667 (thread    3) f\b\b\r",
      "STEP   327 / 667 (thread    0) f\b\b\r",
      "STEP   328 / 667 (thread    1) f\b\b\r",
      "STEP   329 / 667 (thread    4) f\b\b\r",
      "STEP   330 / 667 (thread    5) f\b\b\r",
      "STEP   331 / 667 (thread    0) f\b\b\r",
      "STEP   332 / 667 (thread    2) f\b\b\r",
      "STEP   333 / 667 (thread    1) f\b\b\r",
      "STEP   334 / 667 (thread    3) f\b\b\r",
      "STEP   335 / 667 (thread    4) f\b\b\r",
      "STEP   336 / 667 (thread    1) f\b\b\r",
      "STEP   337 / 667 (thread    0) f\b\b\r",
      "STEP   338 / 667 (thread    2) f\b\b\r",
      "STEP   339 / 667 (thread    3) f\b\b\r",
      "STEP   340 / 667 (thread    1) f\b\b\r",
      "STEP   341 / 667 (thread    5) f\b\b\r",
      "STEP   342 / 667 (thread    4) f\b\b\r",
      "STEP   343 / 667 (thread    1) f\b\b\r",
      "STEP   344 / 667 (thread    0) f\b\b\r",
      "STEP   345 / 667 (thread    4) f\b\b\r",
      "STEP   346 / 667 (thread    2) f\b\b\r",
      "STEP   347 / 667 (thread    3) f\b\b\r",
      "STEP   348 / 667 (thread    5) f\b\b\r",
      "STEP   349 / 667 (thread    0) f\b\b\r",
      "STEP   350 / 667 (thread    1) f\b\b\r",
      "STEP   351 / 667 (thread    5) f\b\b"
     ]
    },
    {
     "name": "stderr",
     "output_type": "stream",
     "text": [
      "\r",
      "STEP   352 / 667 (thread    4) f\b\b\r",
      "STEP   353 / 667 (thread    3) f\b\b\r",
      "STEP   354 / 667 (thread    2) f\b\b\r",
      "STEP   355 / 667 (thread    5) f\b\b\r",
      "STEP   356 / 667 (thread    0) f\b\b\r",
      "STEP   357 / 667 (thread    4) f\b\b\r",
      "STEP   358 / 667 (thread    1) f\b\b\r",
      "STEP   359 / 667 (thread    3) f\b\b\r",
      "STEP   360 / 667 (thread    2) f\b\b\r",
      "STEP   361 / 667 (thread    5) f\b\b\r",
      "STEP   362 / 667 (thread    0) f\b\b\r",
      "STEP   364 / 667 (thread    1) f\b\b\r",
      "STEP   363 / 667 (thread    3) f\b\b\r",
      "STEP   366 / 667 (thread    5) f\b\b\r",
      "STEP   365 / 667 (thread    4) f\b\b\r",
      "STEP   367 / 667 (thread    1) f\b\b\r",
      "STEP   368 / 667 (thread    2) f\b\b\r",
      "STEP   369 / 667 (thread    0) f\b\b\r",
      "STEP   370 / 667 (thread    5) f\b\b\r",
      "STEP   372 / 667 (thread    3) f\b\b\r",
      "STEP   373 / 667 (thread    2) f\b\b\r",
      "STEP   374 / 667 (thread    0) f\b\b\r",
      "STEP   371 / 667 (thread    4) f\b\b\r",
      "STEP   375 / 667 (thread    5) f\b\b\r",
      "STEP   377 / 667 (thread    3) f\b\b\r",
      "STEP   378 / 667 (thread    2) f\b\b\r",
      "STEP   381 / 667 (thread    5) f\b\b\r",
      "STEP   382 / 667 (thread    2) f\b\b\r",
      "STEP   383 / 667 (thread    5) f\b\b\r",
      "STEP   384 / 667 (thread    4) f\b\b\r",
      "STEP   376 / 667 (thread    1) f\b\b\r",
      "STEP   385 / 667 (thread    5) f\b\b\r",
      "STEP   386 / 667 (thread    4) f\b\b\r",
      "STEP   387 / 667 (thread    2) f\b\b\r",
      "STEP   388 / 667 (thread    4) f\b\b\r",
      "STEP   389 / 667 (thread    5) f\b\b\r",
      "STEP   390 / 667 (thread    1) f\b\b\r",
      "STEP   379 / 667 (thread    0) f\b\b\r",
      "STEP   391 / 667 (thread    5) f\b\b\r",
      "STEP   392 / 667 (thread    4) f\b\b\r",
      "STEP   393 / 667 (thread    2) f\b\b\r",
      "STEP   395 / 667 (thread    5) f\b\b\r",
      "STEP   396 / 667 (thread    4) f\b\b\r",
      "STEP   397 / 667 (thread    2) f\b\b\r",
      "STEP   398 / 667 (thread    0) f\b\b\r",
      "STEP   380 / 667 (thread    3) f\b\b\r",
      "STEP   399 / 667 (thread    5) f\b\b\r",
      "STEP   400 / 667 (thread    4) f\b\b\r",
      "STEP   402 / 667 (thread    2) f\b\b\r",
      "STEP   404 / 667 (thread    4) f\b\b\r",
      "STEP   394 / 667 (thread    1) f\b\b\r",
      "STEP   405 / 667 (thread    3) f\b\b\r",
      "STEP   403 / 667 (thread    0) f\b\b\r",
      "STEP   407 / 667 (thread    4) f\b\b\r",
      "STEP   408 / 667 (thread    4) f\b\b\r",
      "STEP   409 / 667 (thread    3) f\b\b\r",
      "STEP   401 / 667 (thread    5) f\b\b\r",
      "STEP   410 / 667 (thread    1) f\b\b\r",
      "STEP   412 / 667 (thread    4) f\b\b\r",
      "STEP   411 / 667 (thread    0) f\b\b\r",
      "STEP   413 / 667 (thread    4) f\b\b\r",
      "STEP   414 / 667 (thread    1) f\b\b\r",
      "STEP   415 / 667 (thread    3) f\b\b\r",
      "STEP   417 / 667 (thread    1) f\b\b\r",
      "STEP   418 / 667 (thread    5) f\b\b\r",
      "STEP   406 / 667 (thread    2) f\b\b\r",
      "STEP   419 / 667 (thread    1) f\b\b\r",
      "STEP   421 / 667 (thread    3) f\b\b\r",
      "STEP   422 / 667 (thread    5) f\b\b\r",
      "STEP   423 / 667 (thread    1) f\b\b\r",
      "STEP   424 / 667 (thread    5) f\b\b\r",
      "STEP   426 / 667 (thread    2) f\b\b\r",
      "STEP   416 / 667 (thread    4) f\b\b\r",
      "STEP   428 / 667 (thread    5) f\b\b\r",
      "STEP   427 / 667 (thread    2) f\b\b\r",
      "STEP   429 / 667 (thread    1) f\b\b\r",
      "STEP   430 / 667 (thread    1) f\b\b\r",
      "STEP   431 / 667 (thread    2) f\b\b\r",
      "STEP   433 / 667 (thread    5) f\b\b\r",
      "STEP   434 / 667 (thread    2) f\b\b\r",
      "STEP   435 / 667 (thread    4) f\b\b\r",
      "STEP   420 / 667 (thread    0) f\b\b\r",
      "STEP   438 / 667 (thread    4) f\b\b\r",
      "STEP   439 / 667 (thread    0) f\b\b\r",
      "STEP   425 / 667 (thread    3) f\b\b\r",
      "STEP   440 / 667 (thread    4) f\b\b\r",
      "STEP   441 / 667 (thread    4) f\b\b\r",
      "STEP   442 / 667 (thread    0) f\b\b\r",
      "STEP   443 / 667 (thread    4) f\b\b\r",
      "STEP   444 / 667 (thread    4) f\b\b\r",
      "STEP   445 / 667 (thread    0) f\b\b\r",
      "STEP   446 / 667 (thread    3) f\b\b\r",
      "STEP   432 / 667 (thread    1) f\b\b\r",
      "STEP   447 / 667 (thread    4) f\b\b\r",
      "STEP   448 / 667 (thread    3) f\b\b\r",
      "STEP   450 / 667 (thread    0) f\b\b\r",
      "STEP   451 / 667 (thread    3) f\b\b\r",
      "STEP   452 / 667 (thread    1) f\b\b\r",
      "STEP   436 / 667 (thread    5) f\b\b\r",
      "STEP   453 / 667 (thread    0) f\b\b\r",
      "STEP   454 / 667 (thread    1) f\b\b\r",
      "STEP   455 / 667 (thread    3) f\b\b\r",
      "STEP   456 / 667 (thread    3) f\b\b\r",
      "STEP   457 / 667 (thread    1) f\b\b\r",
      "STEP   458 / 667 (thread    1) f\b\b\r",
      "STEP   459 / 667 (thread    5) f\b\b\r",
      "STEP   437 / 667 (thread    2) f\b\b\r",
      "STEP   460 / 667 (thread    0) f\b\b\r",
      "STEP   461 / 667 (thread    3) f\b\b\r",
      "STEP   463 / 667 (thread    1) f\b\b\r",
      "STEP   464 / 667 (thread    0) f\b\b\r",
      "STEP   465 / 667 (thread    1) f\b\b\r",
      "STEP   466 / 667 (thread    3) f\b\b\r",
      "STEP   467 / 667 (thread    0) f\b\b\r",
      "STEP   468 / 667 (thread    2) f\b\b\r",
      "STEP   449 / 667 (thread    4) f\b\b\r",
      "STEP   469 / 667 (thread    1) f\b\b\r",
      "STEP   470 / 667 (thread    2) f\b\b\r",
      "STEP   471 / 667 (thread    3) f\b\b\r",
      "STEP   472 / 667 (thread    0) f\b\b\r",
      "STEP   473 / 667 (thread    1) f\b\b\r",
      "STEP   474 / 667 (thread    2) f\b\b\r",
      "STEP   476 / 667 (thread    1) f\b\b\r",
      "STEP   477 / 667 (thread    0) f\b\b\r",
      "STEP   478 / 667 (thread    3) f\b\b\r",
      "STEP   479 / 667 (thread    4) f\b\b\r",
      "STEP   462 / 667 (thread    5) f\b\b\r",
      "STEP   480 / 667 (thread    1) f\b\b\r",
      "STEP   481 / 667 (thread    0) f\b\b\r",
      "STEP   482 / 667 (thread    1) f\b\b\r",
      "STEP   483 / 667 (thread    4) f\b\b\r",
      "STEP   484 / 667 (thread    3) f\b\b\r",
      "STEP   486 / 667 (thread    0) f\b\b\r",
      "STEP   487 / 667 (thread    4) f\b\b\r",
      "STEP   488 / 667 (thread    3) f\b\b\r",
      "STEP   489 / 667 (thread    0) f\b\b\r",
      "STEP   490 / 667 (thread    5) f\b\b\r",
      "STEP   475 / 667 (thread    2) f\b\b\r",
      "STEP   491 / 667 (thread    4) f\b\b\r",
      "STEP   492 / 667 (thread    3) f\b\b\r",
      "STEP   494 / 667 (thread    5) f\b\b\r",
      "STEP   495 / 667 (thread    2) f\b\b\r",
      "STEP   485 / 667 (thread    1) f\b\b\r",
      "STEP   496 / 667 (thread    4) f\b\b\r",
      "STEP   497 / 667 (thread    3) f\b\b\r",
      "STEP   498 / 667 (thread    5) f\b\b\r",
      "STEP   499 / 667 (thread    3) f\b\b\r",
      "STEP   500 / 667 (thread    2) f\b\b\r",
      "STEP   493 / 667 (thread    0) f\b\b\r",
      "STEP   501 / 667 (thread    4) f\b\b\r",
      "STEP   601 / 667 (thread    4) f\b\b"
     ]
    },
    {
     "name": "stderr",
     "output_type": "stream",
     "text": [
      "\n",
      "Reallocating..done. *alloclen = 1867\n",
      "\n",
      "done.\n",
      "\n",
      "disttbfast (nuc) Version 7.490\n",
      "alg=A, model=DNA200 (2), 1.53 (4.59), -0.00 (-0.00), noshift, amax=0.0\n",
      "6 thread(s)\n",
      "\n",
      "\n",
      "Strategy:\n",
      " FFT-NS-2 (Fast but rough)\n",
      " Progressive method (guide trees were built 2 times.)\n",
      "\n",
      "If unsure which option to use, try 'mafft --auto input > output'.\n",
      "For more information, see 'mafft --help', 'mafft --man' and the mafft page.\n",
      "\n",
      "The default gap scoring scheme has been changed in version 7.110 (2013 Oct).\n",
      "It tends to insert more gaps into gap-rich regions than previous versions.\n",
      "To disable this change, add the --leavegappyregion option.\n",
      "\n"
     ]
    },
    {
     "name": "stdout",
     "output_type": "stream",
     "text": [
      "Running external command line application. This may print messages to stdout and/or stderr.\n",
      "The command being run is below. This command cannot be manually re-run as it will depend on temporary files that no longer exist.\n",
      "\n",
      "Command: FastTreeMP -quote -nt /tmp/qiime2-archive-duz_mnbz/b7a7e187-d57b-4ba4-a823-565b580f67aa/data/aligned-dna-sequences.fasta\n",
      "\n"
     ]
    },
    {
     "name": "stderr",
     "output_type": "stream",
     "text": [
      "FastTree Version 2.1.10 Double precision (No SSE3), OpenMP (6 threads)\n",
      "Alignment: /tmp/qiime2-archive-duz_mnbz/b7a7e187-d57b-4ba4-a823-565b580f67aa/data/aligned-dna-sequences.fasta\n",
      "Nucleotide distances: Jukes-Cantor Joins: balanced Support: SH-like 1000\n",
      "Search: Normal +NNI +SPR (2 rounds range 10) +ML-NNI opt-each=1\n",
      "TopHits: 1.00*sqrtN close=default refresh=0.80\n",
      "ML Model: Jukes-Cantor, CAT approximation with 20 rate categories\n",
      "      0.16 seconds: Joined    200 of    643\n"
     ]
    },
    {
     "name": "stderr",
     "output_type": "stream",
     "text": [
      "      0.29 seconds: Joined    400 of    643\n",
      "      0.41 seconds: Joined    600 of    643\n",
      "Initial topology in 0.43 seconds\n",
      "Refining topology: 37 rounds ME-NNIs, 2 rounds ME-SPRs, 19 rounds ML-NNIs\n"
     ]
    },
    {
     "name": "stderr",
     "output_type": "stream",
     "text": [
      "      0.55 seconds: SPR round   1 of   2, 101 of 1290 nodes\n",
      "      0.66 seconds: SPR round   1 of   2, 301 of 1290 nodes\n"
     ]
    },
    {
     "name": "stderr",
     "output_type": "stream",
     "text": [
      "      0.79 seconds: SPR round   1 of   2, 501 of 1290 nodes\n",
      "      0.93 seconds: SPR round   1 of   2, 701 of 1290 nodes\n"
     ]
    },
    {
     "name": "stderr",
     "output_type": "stream",
     "text": [
      "      1.07 seconds: SPR round   1 of   2, 901 of 1290 nodes\n",
      "      1.18 seconds: SPR round   1 of   2, 1101 of 1290 nodes\n"
     ]
    },
    {
     "name": "stderr",
     "output_type": "stream",
     "text": [
      "      1.28 seconds: ME NNI round 13 of 37, 201 of 644 splits, 1 changes (max delta 0.000)\n",
      "      1.42 seconds: SPR round   2 of   2, 201 of 1290 nodes\n"
     ]
    },
    {
     "name": "stderr",
     "output_type": "stream",
     "text": [
      "      1.53 seconds: SPR round   2 of   2, 401 of 1290 nodes\n",
      "      1.65 seconds: SPR round   2 of   2, 601 of 1290 nodes\n"
     ]
    },
    {
     "name": "stderr",
     "output_type": "stream",
     "text": [
      "      1.80 seconds: SPR round   2 of   2, 901 of 1290 nodes\n",
      "      1.94 seconds: SPR round   2 of   2, 1201 of 1290 nodes\n"
     ]
    },
    {
     "name": "stderr",
     "output_type": "stream",
     "text": [
      "Total branch-length 15.847 after 2.03 sec\n",
      "      2.06 seconds: ML Lengths 101 of 644 splits\n",
      "      2.16 seconds: ML Lengths 501 of 644 splits\n"
     ]
    },
    {
     "name": "stderr",
     "output_type": "stream",
     "text": [
      "      2.28 seconds: ML NNI round 1 of 19, 101 of 644 splits, 17 changes (max delta 8.038)\n",
      "      2.42 seconds: ML NNI round 1 of 19, 301 of 644 splits, 45 changes (max delta 8.038)\n"
     ]
    },
    {
     "name": "stderr",
     "output_type": "stream",
     "text": [
      "      2.55 seconds: ML NNI round 1 of 19, 501 of 644 splits, 75 changes (max delta 9.358)\n",
      "ML-NNI round 1: LogLk = -41402.322 NNIs 104 max delta 9.36 Time 2.66\n",
      "      2.66 seconds: Site likelihoods with rate category 1 of 20\n"
     ]
    },
    {
     "name": "stderr",
     "output_type": "stream",
     "text": [
      "      2.76 seconds: Site likelihoods with rate category 17 of 20\n",
      "Switched to using 20 rate categories (CAT approximation)\n",
      "Rate categories were divided by 1.094 so that average rate = 1.0\n",
      "CAT-based log-likelihoods may not be comparable across runs\n",
      "Use -gamma for approximate but comparable Gamma(20) log-likelihoods\n",
      "      2.87 seconds: ML NNI round 2 of 19, 101 of 644 splits, 9 changes (max delta 3.635)\n"
     ]
    },
    {
     "name": "stderr",
     "output_type": "stream",
     "text": [
      "      3.02 seconds: ML NNI round 2 of 19, 301 of 644 splits, 26 changes (max delta 3.635)\n",
      "      3.19 seconds: ML NNI round 2 of 19, 501 of 644 splits, 44 changes (max delta 3.635)\n"
     ]
    },
    {
     "name": "stderr",
     "output_type": "stream",
     "text": [
      "ML-NNI round 2: LogLk = -34599.568 NNIs 58 max delta 4.66 Time 3.33\n",
      "      3.32 seconds: ML NNI round 3 of 19, 1 of 644 splits\n",
      "      3.48 seconds: ML NNI round 3 of 19, 201 of 644 splits, 8 changes (max delta 3.480)\n"
     ]
    },
    {
     "name": "stderr",
     "output_type": "stream",
     "text": [
      "      3.66 seconds: ML NNI round 3 of 19, 401 of 644 splits, 24 changes (max delta 6.156)\n",
      "ML-NNI round 3: LogLk = -34555.114 NNIs 25 max delta 6.16 Time 3.69\n",
      "      3.77 seconds: ML NNI round 4 of 19, 101 of 644 splits, 3 changes (max delta 7.387)\n"
     ]
    },
    {
     "name": "stderr",
     "output_type": "stream",
     "text": [
      "ML-NNI round 4: LogLk = -34536.087 NNIs 6 max delta 7.39 Time 3.91\n",
      "      3.90 seconds: ML NNI round 5 of 19, 1 of 644 splits\n",
      "ML-NNI round 5: LogLk = -34535.846 NNIs 1 max delta 0.00 Time 4.00\n",
      "Turning off heuristics for final round of ML NNIs (converged)\n",
      "      4.07 seconds: ML NNI round 6 of 19, 101 of 644 splits, 0 changes\n"
     ]
    },
    {
     "name": "stderr",
     "output_type": "stream",
     "text": [
      "      4.23 seconds: ML NNI round 6 of 19, 301 of 644 splits, 1 changes (max delta 0.000)\n",
      "      4.39 seconds: ML NNI round 6 of 19, 501 of 644 splits, 2 changes (max delta 0.035)\n"
     ]
    },
    {
     "name": "stderr",
     "output_type": "stream",
     "text": [
      "ML-NNI round 6: LogLk = -34534.504 NNIs 2 max delta 0.03 Time 4.50 (final)\n",
      "      4.50 seconds: ML Lengths 1 of 644 splits\n",
      "      4.60 seconds: ML Lengths 501 of 644 splits\n",
      "Optimize all lengths: LogLk = -34534.432 Time 4.64\n"
     ]
    },
    {
     "name": "stderr",
     "output_type": "stream",
     "text": [
      "      4.77 seconds: ML split tests for    100 of    643 internal splits\n",
      "      4.89 seconds: ML split tests for    200 of    643 internal splits\n"
     ]
    },
    {
     "name": "stderr",
     "output_type": "stream",
     "text": [
      "      5.02 seconds: ML split tests for    300 of    643 internal splits\n",
      "      5.15 seconds: ML split tests for    400 of    643 internal splits\n"
     ]
    },
    {
     "name": "stderr",
     "output_type": "stream",
     "text": [
      "      5.27 seconds: ML split tests for    500 of    643 internal splits\n",
      "      5.40 seconds: ML split tests for    600 of    643 internal splits\n",
      "Total time: 5.46 seconds Unique: 646/668 Bad splits: 0/643\n"
     ]
    }
   ],
   "source": [
    "mafft_alignment, mafft_masked_alignment, mafft_tree, mafft_rooted_tree = align_to_tree_mafft_fasttree(\n",
    "    sequences=reps, n_threads=6, )"
   ]
  },
  {
   "cell_type": "markdown",
   "id": "0768d598",
   "metadata": {
    "papermill": {
     "duration": 0.02294,
     "end_time": "2023-06-07T02:22:12.657102",
     "exception": false,
     "start_time": "2023-06-07T02:22:12.634162",
     "status": "completed"
    },
    "tags": []
   },
   "source": [
    "### Compute Alpha Diversity (Phylogeny)\n",
    "- [diversity alpha_phylogenetic](https://docs.qiime2.org/2022.8/plugins/available/diversity/alpha-phylogenetic/): Computes a user-specified phylogenetic alpha diversity metric for all samples in a feature table.\n",
    "- Metrics: Choices ('faith_pd')"
   ]
  },
  {
   "cell_type": "code",
   "execution_count": 11,
   "id": "0383aa19",
   "metadata": {
    "ExecuteTime": {
     "end_time": "2022-09-29T20:54:35.310009Z",
     "start_time": "2022-09-29T20:54:35.141333Z"
    },
    "execution": {
     "iopub.execute_input": "2023-06-07T02:22:12.705303Z",
     "iopub.status.busy": "2023-06-07T02:22:12.705043Z",
     "iopub.status.idle": "2023-06-07T02:22:12.817761Z",
     "shell.execute_reply": "2023-06-07T02:22:12.817235Z"
    },
    "papermill": {
     "duration": 0.14029,
     "end_time": "2023-06-07T02:22:12.820830",
     "exception": false,
     "start_time": "2023-06-07T02:22:12.680540",
     "status": "completed"
    },
    "tags": []
   },
   "outputs": [
    {
     "name": "stdout",
     "output_type": "stream",
     "text": [
      "Calculating alpha diversity: faith_pd\n",
      "DONE: Calculating alpha phylogeny: faith_pd\n"
     ]
    }
   ],
   "source": [
    "metrics = ('faith_pd', )\n",
    "alpha_diversities_phylogenetic = dict()\n",
    "for metric in metrics:\n",
    "    print(f\"Calculating alpha diversity: {metric}\")\n",
    "    try:\n",
    "        alpha_diversity = alpha_phylogenetic(table=tabs, phylogeny=mafft_rooted_tree, metric=metric).alpha_diversity\n",
    "        alpha_diversities_phylogenetic[metric] = alpha_diversity\n",
    "        # Save Artifact\n",
    "        file_path = os.path.join(alpha_path, f'alpha-phylogeny-{metric}.qza')\n",
    "        alpha_diversity.save(file_path)\n",
    "        print(f\"DONE: Calculating alpha phylogeny: {metric}\")\n",
    "    except Exception as e:\n",
    "        print(f\"ERROR: Calculating alpha phylogeny: {metric}\")"
   ]
  },
  {
   "cell_type": "markdown",
   "id": "c7752cfd",
   "metadata": {
    "papermill": {
     "duration": 0.02368,
     "end_time": "2023-06-07T02:22:12.875731",
     "exception": false,
     "start_time": "2023-06-07T02:22:12.852051",
     "status": "completed"
    },
    "tags": []
   },
   "source": [
    "### Alpha diversity correlation\n",
    "\n",
    "This method only process `numeric` columns.\n"
   ]
  },
  {
   "cell_type": "code",
   "execution_count": 12,
   "id": "2814f613",
   "metadata": {
    "ExecuteTime": {
     "end_time": "2022-09-29T20:54:35.317618Z",
     "start_time": "2022-09-29T20:54:35.312094Z"
    },
    "execution": {
     "iopub.execute_input": "2023-06-07T02:22:12.924875Z",
     "iopub.status.busy": "2023-06-07T02:22:12.924603Z",
     "iopub.status.idle": "2023-06-07T02:22:12.934443Z",
     "shell.execute_reply": "2023-06-07T02:22:12.933661Z"
    },
    "papermill": {
     "duration": 0.036269,
     "end_time": "2023-06-07T02:22:12.935921",
     "exception": false,
     "start_time": "2023-06-07T02:22:12.899652",
     "status": "completed"
    },
    "tags": []
   },
   "outputs": [],
   "source": [
    "methods = ('spearman', 'pearson')\n",
    "numerics_cols = metadata_qa.filter_columns(column_type='numeric')\n",
    "if numerics_cols.column_count > 0:\n",
    "    for metric, alpha_values in alpha_diversities.items():\n",
    "        for method in methods:\n",
    "            try:\n",
    "                corr_view = alpha_correlation(alpha_diversity=alpha_values, metadata=numerics_cols, \n",
    "                                          method=method, intersect_ids=True).visualization\n",
    "                view_path = os.path.join(alpha_path, f'alpha-correlation-{metric}-{method}.qzv')\n",
    "                corr_view.save(view_path)\n",
    "                corr_view\n",
    "                print(f\"DONE: Calculating alpha correlation: {metric} {method}\")\n",
    "            except Exception as e:\n",
    "                print(f\"ERROR: Calculating alpha correlation: {metric} {method}\")"
   ]
  },
  {
   "cell_type": "markdown",
   "id": "8ea83c8a",
   "metadata": {
    "papermill": {
     "duration": 0.024201,
     "end_time": "2023-06-07T02:22:12.986826",
     "exception": false,
     "start_time": "2023-06-07T02:22:12.962625",
     "status": "completed"
    },
    "tags": []
   },
   "source": [
    "## Alpha diversity comparisons\n",
    "\n",
    "Visually and statistically compare groups of alpha diversity values.\n",
    "\n",
    "[diversity alpha_group_significance](https://docs.qiime2.org/2022.8/plugins/available/diversity/alpha-group-significance/)"
   ]
  },
  {
   "cell_type": "code",
   "execution_count": 13,
   "id": "276d1c18",
   "metadata": {
    "ExecuteTime": {
     "end_time": "2022-09-29T20:54:36.089290Z",
     "start_time": "2022-09-29T20:54:35.318963Z"
    },
    "execution": {
     "iopub.execute_input": "2023-06-07T02:22:13.036485Z",
     "iopub.status.busy": "2023-06-07T02:22:13.036179Z",
     "iopub.status.idle": "2023-06-07T02:22:16.132526Z",
     "shell.execute_reply": "2023-06-07T02:22:16.131937Z"
    },
    "papermill": {
     "duration": 3.125324,
     "end_time": "2023-06-07T02:22:16.135645",
     "exception": false,
     "start_time": "2023-06-07T02:22:13.010321",
     "status": "completed"
    },
    "tags": []
   },
   "outputs": [
    {
     "name": "stdout",
     "output_type": "stream",
     "text": [
      "Processing alpha_group_significance: ace\n"
     ]
    },
    {
     "name": "stdout",
     "output_type": "stream",
     "text": [
      "DONE: Calculating alpha group significance: ace\n",
      "Processing alpha_group_significance: berger_parker_d\n",
      "DONE: Calculating alpha group significance: berger_parker_d\n",
      "Processing alpha_group_significance: brillouin_d\n"
     ]
    },
    {
     "name": "stdout",
     "output_type": "stream",
     "text": [
      "DONE: Calculating alpha group significance: brillouin_d\n",
      "Processing alpha_group_significance: chao1\n",
      "DONE: Calculating alpha group significance: chao1\n",
      "Processing alpha_group_significance: chao1_ci\n",
      "ERROR: Calculating alpha group significance: chao1_ci\n",
      "Processing alpha_group_significance: dominance\n"
     ]
    },
    {
     "name": "stdout",
     "output_type": "stream",
     "text": [
      "DONE: Calculating alpha group significance: dominance\n",
      "Processing alpha_group_significance: doubles\n",
      "DONE: Calculating alpha group significance: doubles\n",
      "Processing alpha_group_significance: enspie\n"
     ]
    },
    {
     "name": "stdout",
     "output_type": "stream",
     "text": [
      "DONE: Calculating alpha group significance: enspie\n",
      "Processing alpha_group_significance: esty_ci\n",
      "ERROR: Calculating alpha group significance: esty_ci\n",
      "Processing alpha_group_significance: fisher_alpha\n",
      "DONE: Calculating alpha group significance: fisher_alpha\n",
      "Processing alpha_group_significance: gini_index\n"
     ]
    },
    {
     "name": "stdout",
     "output_type": "stream",
     "text": [
      "DONE: Calculating alpha group significance: gini_index\n",
      "Processing alpha_group_significance: goods_coverage\n",
      "ERROR: Calculating alpha group significance: goods_coverage\n",
      "Processing alpha_group_significance: heip_e\n",
      "DONE: Calculating alpha group significance: heip_e\n",
      "Processing alpha_group_significance: kempton_taylor_q\n",
      "ERROR: Calculating alpha group significance: kempton_taylor_q\n",
      "Processing alpha_group_significance: lladser_pe\n"
     ]
    },
    {
     "name": "stdout",
     "output_type": "stream",
     "text": [
      "DONE: Calculating alpha group significance: lladser_pe\n",
      "Processing alpha_group_significance: margalef\n",
      "DONE: Calculating alpha group significance: margalef\n",
      "Processing alpha_group_significance: mcintosh_d\n"
     ]
    },
    {
     "name": "stdout",
     "output_type": "stream",
     "text": [
      "DONE: Calculating alpha group significance: mcintosh_d\n",
      "Processing alpha_group_significance: mcintosh_e\n",
      "DONE: Calculating alpha group significance: mcintosh_e\n",
      "Processing alpha_group_significance: menhinick\n"
     ]
    },
    {
     "name": "stdout",
     "output_type": "stream",
     "text": [
      "DONE: Calculating alpha group significance: menhinick\n",
      "Processing alpha_group_significance: michaelis_menten_fit\n",
      "DONE: Calculating alpha group significance: michaelis_menten_fit\n",
      "Processing alpha_group_significance: observed_features\n"
     ]
    },
    {
     "name": "stdout",
     "output_type": "stream",
     "text": [
      "DONE: Calculating alpha group significance: observed_features\n",
      "Processing alpha_group_significance: osd\n",
      "ERROR: Calculating alpha group significance: osd\n",
      "Processing alpha_group_significance: pielou_e\n",
      "DONE: Calculating alpha group significance: pielou_e\n",
      "Processing alpha_group_significance: robbins\n",
      "ERROR: Calculating alpha group significance: robbins\n",
      "Processing alpha_group_significance: shannon\n"
     ]
    },
    {
     "name": "stdout",
     "output_type": "stream",
     "text": [
      "DONE: Calculating alpha group significance: shannon\n",
      "Processing alpha_group_significance: simpson\n",
      "DONE: Calculating alpha group significance: simpson\n",
      "Processing alpha_group_significance: simpson_e\n"
     ]
    },
    {
     "name": "stdout",
     "output_type": "stream",
     "text": [
      "DONE: Calculating alpha group significance: simpson_e\n",
      "Processing alpha_group_significance: singles\n",
      "ERROR: Calculating alpha group significance: singles\n",
      "Processing alpha_group_significance: strong\n",
      "DONE: Calculating alpha group significance: strong\n"
     ]
    }
   ],
   "source": [
    "for metric, alpha_values in alpha_diversities.items():\n",
    "    print(f\"Processing alpha_group_significance: {metric}\")\n",
    "    try:\n",
    "        significance_view = alpha_group_significance(alpha_diversity=alpha_values, metadata=metadata_qa).visualization\n",
    "        view_path = os.path.join(alpha_path, f'alpha-group-significance-{metric}.qzv')\n",
    "        significance_view.save(view_path)\n",
    "        significance_view\n",
    "        print(f\"DONE: Calculating alpha group significance: {metric}\")\n",
    "    except Exception as e:\n",
    "        print(f\"ERROR: Calculating alpha group significance: {metric}\")"
   ]
  },
  {
   "cell_type": "markdown",
   "id": "4349d357",
   "metadata": {
    "papermill": {
     "duration": 0.029982,
     "end_time": "2023-06-07T02:22:16.203074",
     "exception": false,
     "start_time": "2023-06-07T02:22:16.173092",
     "status": "completed"
    },
    "tags": []
   },
   "source": [
    "## Beta diversity analysis\n",
    "\n",
    "#### Reference\n",
    "- [diversity beta](https://docs.qiime2.org/2022.8/plugins/available/diversity/beta/): Computes a user-specified beta diversity metric for all pairs of samples in a feature table.\n",
    "- [Beta diversity metrics](http://scikit-bio.org/docs/0.2.0/generated/skbio.diversity.beta.html)\n",
    "\n",
    "- Metric Choices('aitchison', 'braycurtis', 'canberra', 'canberra_adkins', 'chebyshev', 'cityblock', 'correlation', 'cosine', 'dice', 'euclidean', 'hamming', 'jaccard', 'jensenshannon', 'kulsinski', 'matching', 'minkowski', 'rogerstanimoto', 'russellrao', 'seuclidean', 'sokalmichener', 'sokalsneath', 'sqeuclidean', 'yule')"
   ]
  },
  {
   "cell_type": "code",
   "execution_count": 14,
   "id": "f6f358dd",
   "metadata": {
    "ExecuteTime": {
     "end_time": "2022-09-29T20:54:36.335038Z",
     "start_time": "2022-09-29T20:54:36.091288Z"
    },
    "execution": {
     "iopub.execute_input": "2023-06-07T02:22:16.266165Z",
     "iopub.status.busy": "2023-06-07T02:22:16.265939Z",
     "iopub.status.idle": "2023-06-07T02:22:17.564264Z",
     "shell.execute_reply": "2023-06-07T02:22:17.563645Z"
    },
    "papermill": {
     "duration": 1.334901,
     "end_time": "2023-06-07T02:22:17.568559",
     "exception": false,
     "start_time": "2023-06-07T02:22:16.233658",
     "status": "completed"
    },
    "tags": []
   },
   "outputs": [
    {
     "name": "stdout",
     "output_type": "stream",
     "text": [
      "Calculating beta diversity: aitchison\n",
      "DONE: Calculating beta diversity: aitchison\n",
      "Calculating beta diversity: braycurtis\n",
      "DONE: Calculating beta diversity: braycurtis\n",
      "Calculating beta diversity: canberra\n",
      "DONE: Calculating beta diversity: canberra\n",
      "Calculating beta diversity: canberra_adkins\n"
     ]
    },
    {
     "name": "stdout",
     "output_type": "stream",
     "text": [
      "DONE: Calculating beta diversity: canberra_adkins\n",
      "Calculating beta diversity: chebyshev\n",
      "DONE: Calculating beta diversity: chebyshev\n",
      "Calculating beta diversity: cityblock\n",
      "DONE: Calculating beta diversity: cityblock\n",
      "Calculating beta diversity: correlation\n",
      "ERROR: Calculating beta diversity: correlation\n",
      "Calculating beta diversity: cosine\n",
      "ERROR: Calculating beta diversity: cosine\n",
      "Calculating beta diversity: dice\n"
     ]
    },
    {
     "name": "stderr",
     "output_type": "stream",
     "text": [
      "/home/lauro/anaconda3/envs/qiime2-2022.2/lib/python3.8/site-packages/sklearn/metrics/pairwise.py:1761: DataConversionWarning: Data was converted to boolean for metric dice\n",
      "  warnings.warn(msg, DataConversionWarning)\n",
      "/home/lauro/anaconda3/envs/qiime2-2022.2/lib/python3.8/site-packages/sklearn/metrics/pairwise.py:1761: DataConversionWarning: Data was converted to boolean for metric jaccard\n",
      "  warnings.warn(msg, DataConversionWarning)\n"
     ]
    },
    {
     "name": "stdout",
     "output_type": "stream",
     "text": [
      "DONE: Calculating beta diversity: dice\n",
      "Calculating beta diversity: euclidean\n",
      "DONE: Calculating beta diversity: euclidean\n",
      "Calculating beta diversity: hamming\n",
      "DONE: Calculating beta diversity: hamming\n",
      "Calculating beta diversity: jaccard\n"
     ]
    },
    {
     "name": "stdout",
     "output_type": "stream",
     "text": [
      "DONE: Calculating beta diversity: jaccard\n",
      "Calculating beta diversity: jensenshannon\n",
      "DONE: Calculating beta diversity: jensenshannon\n",
      "Calculating beta diversity: kulsinski\n",
      "ERROR: Calculating beta diversity: kulsinski\n",
      "Calculating beta diversity: matching\n",
      "DONE: Calculating beta diversity: matching\n",
      "Calculating beta diversity: minkowski\n"
     ]
    },
    {
     "name": "stderr",
     "output_type": "stream",
     "text": [
      "/home/lauro/anaconda3/envs/qiime2-2022.2/lib/python3.8/site-packages/sklearn/metrics/pairwise.py:1761: DataConversionWarning: Data was converted to boolean for metric kulsinski\n",
      "  warnings.warn(msg, DataConversionWarning)\n",
      "/home/lauro/anaconda3/envs/qiime2-2022.2/lib/python3.8/site-packages/sklearn/metrics/pairwise.py:1761: DataConversionWarning: Data was converted to boolean for metric matching\n",
      "  warnings.warn(msg, DataConversionWarning)\n",
      "/home/lauro/anaconda3/envs/qiime2-2022.2/lib/python3.8/site-packages/sklearn/metrics/pairwise.py:1761: DataConversionWarning: Data was converted to boolean for metric rogerstanimoto\n",
      "  warnings.warn(msg, DataConversionWarning)\n"
     ]
    },
    {
     "name": "stdout",
     "output_type": "stream",
     "text": [
      "DONE: Calculating beta diversity: minkowski\n",
      "Calculating beta diversity: rogerstanimoto\n",
      "DONE: Calculating beta diversity: rogerstanimoto\n",
      "Calculating beta diversity: russellrao\n",
      "ERROR: Calculating beta diversity: russellrao\n",
      "Calculating beta diversity: seuclidean\n",
      "DONE: Calculating beta diversity: seuclidean\n",
      "Calculating beta diversity: sokalmichener\n"
     ]
    },
    {
     "name": "stderr",
     "output_type": "stream",
     "text": [
      "/home/lauro/anaconda3/envs/qiime2-2022.2/lib/python3.8/site-packages/sklearn/metrics/pairwise.py:1761: DataConversionWarning: Data was converted to boolean for metric russellrao\n",
      "  warnings.warn(msg, DataConversionWarning)\n",
      "/home/lauro/anaconda3/envs/qiime2-2022.2/lib/python3.8/site-packages/sklearn/metrics/pairwise.py:1761: DataConversionWarning: Data was converted to boolean for metric sokalmichener\n",
      "  warnings.warn(msg, DataConversionWarning)\n",
      "/home/lauro/anaconda3/envs/qiime2-2022.2/lib/python3.8/site-packages/sklearn/metrics/pairwise.py:1761: DataConversionWarning: Data was converted to boolean for metric sokalsneath\n",
      "  warnings.warn(msg, DataConversionWarning)\n"
     ]
    },
    {
     "name": "stdout",
     "output_type": "stream",
     "text": [
      "DONE: Calculating beta diversity: sokalmichener\n",
      "Calculating beta diversity: sokalsneath\n",
      "DONE: Calculating beta diversity: sokalsneath\n",
      "Calculating beta diversity: sqeuclidean\n",
      "DONE: Calculating beta diversity: sqeuclidean\n",
      "Calculating beta diversity: yule\n",
      "DONE: Calculating beta diversity: yule\n"
     ]
    },
    {
     "name": "stderr",
     "output_type": "stream",
     "text": [
      "/home/lauro/anaconda3/envs/qiime2-2022.2/lib/python3.8/site-packages/sklearn/metrics/pairwise.py:1761: DataConversionWarning: Data was converted to boolean for metric yule\n",
      "  warnings.warn(msg, DataConversionWarning)\n"
     ]
    }
   ],
   "source": [
    "metrics = ('aitchison', 'braycurtis', 'canberra', 'canberra_adkins', 'chebyshev', 'cityblock', 'correlation', 'cosine', 'dice', 'euclidean', 'hamming', 'jaccard', 'jensenshannon', 'kulsinski', 'matching', 'minkowski', 'rogerstanimoto', 'russellrao', 'seuclidean', 'sokalmichener', 'sokalsneath', 'sqeuclidean', 'yule')\n",
    "beta_diversities = dict()\n",
    "for metric in metrics:\n",
    "    print(f\"Calculating beta diversity: {metric}\")\n",
    "    try:\n",
    "        beta_diversity = beta(table=tabs, metric=metric, n_jobs=6, pseudocount=1).distance_matrix\n",
    "        beta_diversities[metric] = beta_diversity\n",
    "        # Save SampleData[BetaDiversity] Artifact\n",
    "        file_path = os.path.join(beta_path, f'beta-values-{metric}.qza')\n",
    "        beta_diversity.save(file_path)\n",
    "        print(f\"DONE: Calculating beta diversity: {metric}\")\n",
    "    except Exception as e:\n",
    "        print(f\"ERROR: Calculating beta diversity: {metric}\")"
   ]
  },
  {
   "cell_type": "markdown",
   "id": "200a2fa7",
   "metadata": {
    "papermill": {
     "duration": 0.033384,
     "end_time": "2023-06-07T02:22:17.639988",
     "exception": false,
     "start_time": "2023-06-07T02:22:17.606604",
     "status": "completed"
    },
    "tags": []
   },
   "source": [
    "### Beta group significance\n",
    "\n",
    "- [diversity beta_group_significance](https://docs.qiime2.org/2022.8/plugins/available/diversity/beta-group-significance/): Determine whether groups of samples are significantly different from one another using a permutation-based statistical test.\n",
    "- Marti J Anderson. A new method for non-parametric multivariate analysis of variance. Austral ecology, 26(1):32–46, 2001. doi:https://doi.org/10.1111/j.1442-9993.2001.01070.pp.x."
   ]
  },
  {
   "cell_type": "code",
   "execution_count": 15,
   "id": "b8dd42b6",
   "metadata": {
    "ExecuteTime": {
     "end_time": "2022-09-29T20:55:08.313860Z",
     "start_time": "2022-09-29T20:54:36.336993Z"
    },
    "execution": {
     "iopub.execute_input": "2023-06-07T02:22:17.712775Z",
     "iopub.status.busy": "2023-06-07T02:22:17.712534Z",
     "iopub.status.idle": "2023-06-07T02:24:46.938919Z",
     "shell.execute_reply": "2023-06-07T02:24:46.938004Z"
    },
    "papermill": {
     "duration": 149.266296,
     "end_time": "2023-06-07T02:24:46.940558",
     "exception": false,
     "start_time": "2023-06-07T02:22:17.674262",
     "status": "completed"
    },
    "tags": []
   },
   "outputs": [
    {
     "name": "stdout",
     "output_type": "stream",
     "text": [
      "Calculating beta group significance with method permanova and metric aitchison\n"
     ]
    },
    {
     "name": "stdout",
     "output_type": "stream",
     "text": [
      "DONE: Calculating beta group significance: permanova aitchison\n",
      "Calculating beta group significance with method permanova and metric braycurtis\n"
     ]
    },
    {
     "name": "stdout",
     "output_type": "stream",
     "text": [
      "DONE: Calculating beta group significance: permanova braycurtis\n",
      "Calculating beta group significance with method permanova and metric canberra\n"
     ]
    },
    {
     "name": "stdout",
     "output_type": "stream",
     "text": [
      "DONE: Calculating beta group significance: permanova canberra\n",
      "Calculating beta group significance with method permanova and metric canberra_adkins\n"
     ]
    },
    {
     "name": "stdout",
     "output_type": "stream",
     "text": [
      "DONE: Calculating beta group significance: permanova canberra_adkins\n",
      "Calculating beta group significance with method permanova and metric chebyshev\n"
     ]
    },
    {
     "name": "stdout",
     "output_type": "stream",
     "text": [
      "DONE: Calculating beta group significance: permanova chebyshev\n",
      "Calculating beta group significance with method permanova and metric cityblock\n"
     ]
    },
    {
     "name": "stdout",
     "output_type": "stream",
     "text": [
      "DONE: Calculating beta group significance: permanova cityblock\n",
      "Calculating beta group significance with method permanova and metric dice\n"
     ]
    },
    {
     "name": "stdout",
     "output_type": "stream",
     "text": [
      "DONE: Calculating beta group significance: permanova dice\n",
      "Calculating beta group significance with method permanova and metric euclidean\n"
     ]
    },
    {
     "name": "stdout",
     "output_type": "stream",
     "text": [
      "DONE: Calculating beta group significance: permanova euclidean\n",
      "Calculating beta group significance with method permanova and metric hamming\n"
     ]
    },
    {
     "name": "stdout",
     "output_type": "stream",
     "text": [
      "DONE: Calculating beta group significance: permanova hamming\n",
      "Calculating beta group significance with method permanova and metric jaccard\n"
     ]
    },
    {
     "name": "stdout",
     "output_type": "stream",
     "text": [
      "DONE: Calculating beta group significance: permanova jaccard\n",
      "Calculating beta group significance with method permanova and metric jensenshannon\n"
     ]
    },
    {
     "name": "stdout",
     "output_type": "stream",
     "text": [
      "DONE: Calculating beta group significance: permanova jensenshannon\n",
      "Calculating beta group significance with method permanova and metric matching\n"
     ]
    },
    {
     "name": "stdout",
     "output_type": "stream",
     "text": [
      "DONE: Calculating beta group significance: permanova matching\n",
      "Calculating beta group significance with method permanova and metric minkowski\n"
     ]
    },
    {
     "name": "stdout",
     "output_type": "stream",
     "text": [
      "DONE: Calculating beta group significance: permanova minkowski\n",
      "Calculating beta group significance with method permanova and metric rogerstanimoto\n"
     ]
    },
    {
     "name": "stdout",
     "output_type": "stream",
     "text": [
      "DONE: Calculating beta group significance: permanova rogerstanimoto\n",
      "Calculating beta group significance with method permanova and metric seuclidean\n"
     ]
    },
    {
     "name": "stdout",
     "output_type": "stream",
     "text": [
      "DONE: Calculating beta group significance: permanova seuclidean\n",
      "Calculating beta group significance with method permanova and metric sokalmichener\n"
     ]
    },
    {
     "name": "stdout",
     "output_type": "stream",
     "text": [
      "DONE: Calculating beta group significance: permanova sokalmichener\n",
      "Calculating beta group significance with method permanova and metric sokalsneath\n"
     ]
    },
    {
     "name": "stdout",
     "output_type": "stream",
     "text": [
      "DONE: Calculating beta group significance: permanova sokalsneath\n",
      "Calculating beta group significance with method permanova and metric sqeuclidean\n"
     ]
    },
    {
     "name": "stdout",
     "output_type": "stream",
     "text": [
      "DONE: Calculating beta group significance: permanova sqeuclidean\n",
      "Calculating beta group significance with method permanova and metric yule\n"
     ]
    },
    {
     "name": "stdout",
     "output_type": "stream",
     "text": [
      "DONE: Calculating beta group significance: permanova yule\n",
      "Calculating beta group significance with method anosim and metric aitchison\n"
     ]
    },
    {
     "name": "stdout",
     "output_type": "stream",
     "text": [
      "DONE: Calculating beta group significance: anosim aitchison\n",
      "Calculating beta group significance with method anosim and metric braycurtis\n"
     ]
    },
    {
     "name": "stdout",
     "output_type": "stream",
     "text": [
      "DONE: Calculating beta group significance: anosim braycurtis\n",
      "Calculating beta group significance with method anosim and metric canberra\n"
     ]
    },
    {
     "name": "stdout",
     "output_type": "stream",
     "text": [
      "DONE: Calculating beta group significance: anosim canberra\n",
      "Calculating beta group significance with method anosim and metric canberra_adkins\n"
     ]
    },
    {
     "name": "stdout",
     "output_type": "stream",
     "text": [
      "DONE: Calculating beta group significance: anosim canberra_adkins\n",
      "Calculating beta group significance with method anosim and metric chebyshev\n"
     ]
    },
    {
     "name": "stdout",
     "output_type": "stream",
     "text": [
      "DONE: Calculating beta group significance: anosim chebyshev\n",
      "Calculating beta group significance with method anosim and metric cityblock\n"
     ]
    },
    {
     "name": "stdout",
     "output_type": "stream",
     "text": [
      "DONE: Calculating beta group significance: anosim cityblock\n",
      "Calculating beta group significance with method anosim and metric dice\n"
     ]
    },
    {
     "name": "stdout",
     "output_type": "stream",
     "text": [
      "DONE: Calculating beta group significance: anosim dice\n",
      "Calculating beta group significance with method anosim and metric euclidean\n"
     ]
    },
    {
     "name": "stdout",
     "output_type": "stream",
     "text": [
      "DONE: Calculating beta group significance: anosim euclidean\n",
      "Calculating beta group significance with method anosim and metric hamming\n"
     ]
    },
    {
     "name": "stdout",
     "output_type": "stream",
     "text": [
      "DONE: Calculating beta group significance: anosim hamming\n",
      "Calculating beta group significance with method anosim and metric jaccard\n"
     ]
    },
    {
     "name": "stdout",
     "output_type": "stream",
     "text": [
      "DONE: Calculating beta group significance: anosim jaccard\n",
      "Calculating beta group significance with method anosim and metric jensenshannon\n"
     ]
    },
    {
     "name": "stdout",
     "output_type": "stream",
     "text": [
      "DONE: Calculating beta group significance: anosim jensenshannon\n",
      "Calculating beta group significance with method anosim and metric matching\n"
     ]
    },
    {
     "name": "stdout",
     "output_type": "stream",
     "text": [
      "DONE: Calculating beta group significance: anosim matching\n",
      "Calculating beta group significance with method anosim and metric minkowski\n"
     ]
    },
    {
     "name": "stdout",
     "output_type": "stream",
     "text": [
      "DONE: Calculating beta group significance: anosim minkowski\n",
      "Calculating beta group significance with method anosim and metric rogerstanimoto\n"
     ]
    },
    {
     "name": "stdout",
     "output_type": "stream",
     "text": [
      "DONE: Calculating beta group significance: anosim rogerstanimoto\n",
      "Calculating beta group significance with method anosim and metric seuclidean\n"
     ]
    },
    {
     "name": "stdout",
     "output_type": "stream",
     "text": [
      "DONE: Calculating beta group significance: anosim seuclidean\n",
      "Calculating beta group significance with method anosim and metric sokalmichener\n"
     ]
    },
    {
     "name": "stdout",
     "output_type": "stream",
     "text": [
      "DONE: Calculating beta group significance: anosim sokalmichener\n",
      "Calculating beta group significance with method anosim and metric sokalsneath\n"
     ]
    },
    {
     "name": "stdout",
     "output_type": "stream",
     "text": [
      "DONE: Calculating beta group significance: anosim sokalsneath\n",
      "Calculating beta group significance with method anosim and metric sqeuclidean\n"
     ]
    },
    {
     "name": "stdout",
     "output_type": "stream",
     "text": [
      "DONE: Calculating beta group significance: anosim sqeuclidean\n",
      "Calculating beta group significance with method anosim and metric yule\n"
     ]
    },
    {
     "name": "stdout",
     "output_type": "stream",
     "text": [
      "DONE: Calculating beta group significance: anosim yule\n",
      "Calculating beta group significance with method permdisp and metric aitchison\n"
     ]
    },
    {
     "name": "stdout",
     "output_type": "stream",
     "text": [
      "DONE: Calculating beta group significance: permdisp aitchison\n",
      "Calculating beta group significance with method permdisp and metric braycurtis\n"
     ]
    },
    {
     "name": "stdout",
     "output_type": "stream",
     "text": [
      "DONE: Calculating beta group significance: permdisp braycurtis\n",
      "Calculating beta group significance with method permdisp and metric canberra\n"
     ]
    },
    {
     "name": "stdout",
     "output_type": "stream",
     "text": [
      "DONE: Calculating beta group significance: permdisp canberra\n",
      "Calculating beta group significance with method permdisp and metric canberra_adkins\n"
     ]
    },
    {
     "name": "stdout",
     "output_type": "stream",
     "text": [
      "DONE: Calculating beta group significance: permdisp canberra_adkins\n",
      "Calculating beta group significance with method permdisp and metric chebyshev\n"
     ]
    },
    {
     "name": "stderr",
     "output_type": "stream",
     "text": [
      "/home/lauro/anaconda3/envs/qiime2-2022.2/lib/python3.8/site-packages/skbio/stats/ordination/_principal_coordinate_analysis.py:143: RuntimeWarning: The result contains negative eigenvalues. Please compare their magnitude with the magnitude of some of the largest positive eigenvalues. If the negative ones are smaller, it's probably safe to ignore them, but if they are large in magnitude, the results won't be useful. See the Notes section for more details. The smallest eigenvalue is -185686421.96632132 and the largest is 6255584480.383698.\n",
      "  warn(\n"
     ]
    },
    {
     "name": "stderr",
     "output_type": "stream",
     "text": [
      "/home/lauro/anaconda3/envs/qiime2-2022.2/lib/python3.8/site-packages/skbio/stats/ordination/_principal_coordinate_analysis.py:143: RuntimeWarning: The result contains negative eigenvalues. Please compare their magnitude with the magnitude of some of the largest positive eigenvalues. If the negative ones are smaller, it's probably safe to ignore them, but if they are large in magnitude, the results won't be useful. See the Notes section for more details. The smallest eigenvalue is -185686421.96632132 and the largest is 6255584480.383698.\n",
      "  warn(\n"
     ]
    },
    {
     "name": "stdout",
     "output_type": "stream",
     "text": [
      "DONE: Calculating beta group significance: permdisp chebyshev\n",
      "Calculating beta group significance with method permdisp and metric cityblock\n"
     ]
    },
    {
     "name": "stdout",
     "output_type": "stream",
     "text": [
      "DONE: Calculating beta group significance: permdisp cityblock\n",
      "Calculating beta group significance with method permdisp and metric dice\n"
     ]
    },
    {
     "name": "stdout",
     "output_type": "stream",
     "text": [
      "DONE: Calculating beta group significance: permdisp dice\n",
      "Calculating beta group significance with method permdisp and metric euclidean\n"
     ]
    },
    {
     "name": "stderr",
     "output_type": "stream",
     "text": [
      "/home/lauro/anaconda3/envs/qiime2-2022.2/lib/python3.8/site-packages/skbio/stats/ordination/_principal_coordinate_analysis.py:143: RuntimeWarning: The result contains negative eigenvalues. Please compare their magnitude with the magnitude of some of the largest positive eigenvalues. If the negative ones are smaller, it's probably safe to ignore them, but if they are large in magnitude, the results won't be useful. See the Notes section for more details. The smallest eigenvalue is -2.6105839675909444e-06 and the largest is 15258424533.241737.\n",
      "  warn(\n"
     ]
    },
    {
     "name": "stderr",
     "output_type": "stream",
     "text": [
      "/home/lauro/anaconda3/envs/qiime2-2022.2/lib/python3.8/site-packages/skbio/stats/ordination/_principal_coordinate_analysis.py:143: RuntimeWarning: The result contains negative eigenvalues. Please compare their magnitude with the magnitude of some of the largest positive eigenvalues. If the negative ones are smaller, it's probably safe to ignore them, but if they are large in magnitude, the results won't be useful. See the Notes section for more details. The smallest eigenvalue is -2.6105839675909444e-06 and the largest is 15258424533.241737.\n",
      "  warn(\n"
     ]
    },
    {
     "name": "stdout",
     "output_type": "stream",
     "text": [
      "DONE: Calculating beta group significance: permdisp euclidean\n",
      "Calculating beta group significance with method permdisp and metric hamming\n"
     ]
    },
    {
     "name": "stdout",
     "output_type": "stream",
     "text": [
      "DONE: Calculating beta group significance: permdisp hamming\n",
      "Calculating beta group significance with method permdisp and metric jaccard\n"
     ]
    },
    {
     "name": "stdout",
     "output_type": "stream",
     "text": [
      "DONE: Calculating beta group significance: permdisp jaccard\n",
      "Calculating beta group significance with method permdisp and metric jensenshannon\n"
     ]
    },
    {
     "name": "stdout",
     "output_type": "stream",
     "text": [
      "DONE: Calculating beta group significance: permdisp jensenshannon\n",
      "Calculating beta group significance with method permdisp and metric matching\n"
     ]
    },
    {
     "name": "stdout",
     "output_type": "stream",
     "text": [
      "DONE: Calculating beta group significance: permdisp matching\n",
      "Calculating beta group significance with method permdisp and metric minkowski\n"
     ]
    },
    {
     "name": "stderr",
     "output_type": "stream",
     "text": [
      "/home/lauro/anaconda3/envs/qiime2-2022.2/lib/python3.8/site-packages/skbio/stats/ordination/_principal_coordinate_analysis.py:143: RuntimeWarning: The result contains negative eigenvalues. Please compare their magnitude with the magnitude of some of the largest positive eigenvalues. If the negative ones are smaller, it's probably safe to ignore them, but if they are large in magnitude, the results won't be useful. See the Notes section for more details. The smallest eigenvalue is -2.6105839675909444e-06 and the largest is 15258424533.241737.\n",
      "  warn(\n"
     ]
    },
    {
     "name": "stderr",
     "output_type": "stream",
     "text": [
      "/home/lauro/anaconda3/envs/qiime2-2022.2/lib/python3.8/site-packages/skbio/stats/ordination/_principal_coordinate_analysis.py:143: RuntimeWarning: The result contains negative eigenvalues. Please compare their magnitude with the magnitude of some of the largest positive eigenvalues. If the negative ones are smaller, it's probably safe to ignore them, but if they are large in magnitude, the results won't be useful. See the Notes section for more details. The smallest eigenvalue is -2.6105839675909444e-06 and the largest is 15258424533.241737.\n",
      "  warn(\n"
     ]
    },
    {
     "name": "stdout",
     "output_type": "stream",
     "text": [
      "DONE: Calculating beta group significance: permdisp minkowski\n",
      "Calculating beta group significance with method permdisp and metric rogerstanimoto\n"
     ]
    },
    {
     "name": "stdout",
     "output_type": "stream",
     "text": [
      "DONE: Calculating beta group significance: permdisp rogerstanimoto\n",
      "Calculating beta group significance with method permdisp and metric seuclidean\n"
     ]
    },
    {
     "name": "stdout",
     "output_type": "stream",
     "text": [
      "DONE: Calculating beta group significance: permdisp seuclidean\n",
      "Calculating beta group significance with method permdisp and metric sokalmichener\n"
     ]
    },
    {
     "name": "stdout",
     "output_type": "stream",
     "text": [
      "DONE: Calculating beta group significance: permdisp sokalmichener\n",
      "Calculating beta group significance with method permdisp and metric sokalsneath\n"
     ]
    },
    {
     "name": "stdout",
     "output_type": "stream",
     "text": [
      "DONE: Calculating beta group significance: permdisp sokalsneath\n",
      "Calculating beta group significance with method permdisp and metric sqeuclidean\n"
     ]
    },
    {
     "name": "stderr",
     "output_type": "stream",
     "text": [
      "/home/lauro/anaconda3/envs/qiime2-2022.2/lib/python3.8/site-packages/skbio/stats/ordination/_principal_coordinate_analysis.py:143: RuntimeWarning: The result contains negative eigenvalues. Please compare their magnitude with the magnitude of some of the largest positive eigenvalues. If the negative ones are smaller, it's probably safe to ignore them, but if they are large in magnitude, the results won't be useful. See the Notes section for more details. The smallest eigenvalue is -3.478689670421639e+19 and the largest is 3.520729889526081e+20.\n",
      "  warn(\n"
     ]
    },
    {
     "name": "stderr",
     "output_type": "stream",
     "text": [
      "/home/lauro/anaconda3/envs/qiime2-2022.2/lib/python3.8/site-packages/skbio/stats/ordination/_principal_coordinate_analysis.py:143: RuntimeWarning: The result contains negative eigenvalues. Please compare their magnitude with the magnitude of some of the largest positive eigenvalues. If the negative ones are smaller, it's probably safe to ignore them, but if they are large in magnitude, the results won't be useful. See the Notes section for more details. The smallest eigenvalue is -3.478689670421639e+19 and the largest is 3.520729889526081e+20.\n",
      "  warn(\n"
     ]
    },
    {
     "name": "stdout",
     "output_type": "stream",
     "text": [
      "DONE: Calculating beta group significance: permdisp sqeuclidean\n",
      "Calculating beta group significance with method permdisp and metric yule\n"
     ]
    },
    {
     "name": "stderr",
     "output_type": "stream",
     "text": [
      "/home/lauro/anaconda3/envs/qiime2-2022.2/lib/python3.8/site-packages/skbio/stats/ordination/_principal_coordinate_analysis.py:143: RuntimeWarning: The result contains negative eigenvalues. Please compare their magnitude with the magnitude of some of the largest positive eigenvalues. If the negative ones are smaller, it's probably safe to ignore them, but if they are large in magnitude, the results won't be useful. See the Notes section for more details. The smallest eigenvalue is -0.2016630634742983 and the largest is 0.7682650370371717.\n",
      "  warn(\n"
     ]
    },
    {
     "name": "stderr",
     "output_type": "stream",
     "text": [
      "/home/lauro/anaconda3/envs/qiime2-2022.2/lib/python3.8/site-packages/skbio/stats/ordination/_principal_coordinate_analysis.py:143: RuntimeWarning: The result contains negative eigenvalues. Please compare their magnitude with the magnitude of some of the largest positive eigenvalues. If the negative ones are smaller, it's probably safe to ignore them, but if they are large in magnitude, the results won't be useful. See the Notes section for more details. The smallest eigenvalue is -0.2016630634742983 and the largest is 0.7682650370371717.\n",
      "  warn(\n"
     ]
    },
    {
     "name": "stdout",
     "output_type": "stream",
     "text": [
      "DONE: Calculating beta group significance: permdisp yule\n"
     ]
    },
    {
     "data": {
      "text/plain": [
       "<Figure size 432x288 with 0 Axes>"
      ]
     },
     "metadata": {},
     "output_type": "display_data"
    }
   ],
   "source": [
    "methods = ('permanova', 'anosim', 'permdisp')\n",
    "for method in methods:\n",
    "    for metric, beta_diversity in beta_diversities.items():\n",
    "        print(f'Calculating beta group significance with method {method} and metric {metric}')\n",
    "        try:\n",
    "            beta_view = beta_group_significance(distance_matrix=beta_diversity, \n",
    "                                                metadata=metadata_qa.get_column(class_col), \n",
    "                                                pairwise=True, method=method).visualization\n",
    "            view_name = os.path.join(beta_path, f'beta-group-significance-{metric}-{method}.qzv')\n",
    "            beta_view.save(view_name)\n",
    "            print(f\"DONE: Calculating beta group significance: {method} {metric}\")\n",
    "        except Exception as e:\n",
    "            print(f\"ERROR: Calculating beta group significance: {method} {metric}\")"
   ]
  },
  {
   "cell_type": "markdown",
   "id": "c0de85cf",
   "metadata": {
    "papermill": {
     "duration": 0.046262,
     "end_time": "2023-06-07T02:24:47.037050",
     "exception": false,
     "start_time": "2023-06-07T02:24:46.990788",
     "status": "completed"
    },
    "tags": []
   },
   "source": [
    "### Beta group Rarefaction\n",
    "\n",
    "- [diversity beta_rarefaction](https://docs.qiime2.org/2022.8/plugins/available/diversity/beta-rarefaction/): Repeatedly rarefy a feature table to compare beta diversity results within a given rarefaction depth.  For a given beta diversity metric, this visualizer will provide: an Emperor jackknifed PCoA plot, samples clustered by UPGMA or neighbor joining with support calculation, and a heatmap showing the correlation between rarefaction trials of that beta diversity metric."
   ]
  }
 ],
 "metadata": {
  "celltoolbar": "Edit Metadata",
  "kernelspec": {
   "display_name": "Python 3 (ipykernel)",
   "language": "python",
   "name": "python3"
  },
  "language_info": {
   "codemirror_mode": {
    "name": "ipython",
    "version": 3
   },
   "file_extension": ".py",
   "mimetype": "text/x-python",
   "name": "python",
   "nbconvert_exporter": "python",
   "pygments_lexer": "ipython3",
   "version": "3.8.12"
  },
  "papermill": {
   "default_parameters": {},
   "duration": 13094.401188,
   "end_time": "2023-06-07T02:24:48.125364",
   "environment_variables": {},
   "exception": null,
   "input_path": "nb-templates/step-diversity-analysis.ipynb",
   "output_path": "/home/lauro/nupeb/rede-micro/redemicro-ana-flavia-nutri/experiments/ana-flavia-NCxNR-trim/nb-executed-steps/step-diversity-analysis-ana-flavia-NCxNR-trim.ipynb",
   "parameters": {
    "base_dir": "/home/lauro/nupeb/rede-micro/redemicro-ana-flavia-nutri",
    "class_col": "group-id",
    "classifier_file": "/home/lauro/nupeb/rede-micro/models/silva-138-99-nb-classifier.qza",
    "experiment_name": "ana-flavia-NCxNR-trim",
    "manifest_file": "/home/lauro/nupeb/rede-micro/redemicro-ana-flavia-nutri/data/raw/manifest/manifest-ana-flavia-NCxNR.csv",
    "metadata_file": "/home/lauro/nupeb/rede-micro/redemicro-ana-flavia-nutri/data/raw/metadata/metadata-ana-flavia-NCxNR.tsv",
    "overlap": 12,
    "phred": 20,
    "replace_files": false,
    "threads": 6,
    "top_n": 20,
    "trim": {
     "forward_primer": "CCTACGGGRSGCAGCAG",
     "overlap": 8,
     "reverse_primer": "GGACTACHVGGGTWTCTAAT"
    },
    "trunc_f": 0,
    "trunc_r": 0
   },
   "start_time": "2023-06-06T22:46:33.724176",
   "version": "2.3.4"
  }
 },
 "nbformat": 4,
 "nbformat_minor": 5
}