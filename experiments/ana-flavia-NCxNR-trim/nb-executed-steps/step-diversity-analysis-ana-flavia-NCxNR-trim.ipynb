{
 "cells": [
  {
   "cell_type": "markdown",
   "id": "15bcfa06",
   "metadata": {
    "papermill": {
     "duration": 0.003641,
     "end_time": "2024-03-05T23:16:15.289810",
     "exception": false,
     "start_time": "2024-03-05T23:16:15.286169",
     "status": "completed"
    },
    "tags": []
   },
   "source": [
    " \n",
    "# Alpha and Beta Diversity\n",
    "\n",
    "Different higher-level measures are often used to describe the microbiome in a sample. These do not provide information on changes in the abundance of specific taxa but allow us to access a broader change or difference in the composition of microorganisms. Alpha and beta diversity are examples of such measures.\n",
    "\n",
    "Different measures exist to estimate diversity within a single sample, jointly called alpha diversity. The different measures reflect the richness (number) or distribution (evenness) of a microbial sample or aim to reflect a combination of both properties.\n",
    "\n",
    "Rarefaction curves are often used when calculating alpha diversity indices because increasing numbers of sequenced taxa allow increasingly accurate estimates of total population diversity. Rarefaction curves can therefore be used to estimate the full sample richness, as compared to the observed sample richness.\n",
    "\n",
    "While alpha diversity is a measure of microbiome diversity applicable to a single sample, beta diversity is a measure of the similarity or dissimilarity of two communities. As for alpha diversity, many indices exist, each reflecting different aspects of community heterogeneity. Key differences relate to how the indices value variation in rare species if they consider presence/absence only or incorporate abundance, and how they interpret shared absence. Bray-Curtis dissimilarity is a popular measure that considers both size (overall abundance per sample) and shape (abundance of each taxon) of the communities (Bray, 1957). Beta diversity is an essential measure for many popular statistical methods in ecology, such as ordination-based methods, and is widely used for studying the association between environmental variables and microbial composition.\n",
    "\n",
    "In summary, alpha diversity measures can be seen as a summary statistic of a single population (within-sample diversity), while beta diversity measures are estimates of similarity or dissimilarity between populations (between samples).\n",
    "\n",
    "**Source**: (https://biomcare.com/info/key-terms-in-microbiome-projects/)"
   ]
  },
  {
   "cell_type": "markdown",
   "id": "0e7f2330",
   "metadata": {
    "ExecuteTime": {
     "end_time": "2022-09-22T19:36:33.828188Z",
     "start_time": "2022-09-22T19:36:33.817323Z"
    },
    "papermill": {
     "duration": 0.003846,
     "end_time": "2024-03-05T23:16:15.296743",
     "exception": false,
     "start_time": "2024-03-05T23:16:15.292897",
     "status": "completed"
    },
    "tags": []
   },
   "source": [
    "### STEP : Diversity Analysis\n",
    "\n",
    "Using QIIME2 to create diversity analisys graphs and calculations.\n",
    "\n",
    "- [QIIME2 Workflow Overview](https://docs.qiime2.org/2022.8/tutorials/overview/)\n",
    "\n",
    "\n",
    "#### Methods\n",
    "- [diversity](https://docs.qiime2.org/2022.8/plugins/available/diversity/)\n",
    "- [diversity alpha](https://docs.qiime2.org/2022.8/plugins/available/diversity/alpha/)\n",
    "- [diversity alpha_phylogenetic](https://docs.qiime2.org/2022.8/plugins/available/diversity/alpha-phylogenetic/)\n",
    "- [diversity beta](https://docs.qiime2.org/2022.8/plugins/available/diversity/beta/)\n",
    "- [diversity core_metrics](https://docs.qiime2.org/2022.8/plugins/available/diversity/core-metrics/)\n",
    "- [diversity alpha_group_significance](https://docs.qiime2.org/2022.8/plugins/available/diversity/alpha-group-significance/)\n",
    "- [diversity beta_group_significance](https://docs.qiime2.org/2022.8/plugins/available/diversity/beta-group-significance/)\n",
    "- [feature_table core_features](https://docs.qiime2.org/2022.8/plugins/available/feature-table/core-features/)\n",
    "- [feature_table summarize](https://docs.qiime2.org/2022.8/plugins/available/feature-table/summarize/)\n",
    "- [taxa filter-table](https://docs.qiime2.org/2022.8/plugins/available/taxa/filter-table/)\n",
    "- [taxa collapse](https://docs.qiime2.org/2022.8/plugins/available/taxa/collapse/)"
   ]
  },
  {
   "cell_type": "markdown",
   "id": "843debbf",
   "metadata": {
    "papermill": {
     "duration": 0.002789,
     "end_time": "2024-03-05T23:16:15.302331",
     "exception": false,
     "start_time": "2024-03-05T23:16:15.299542",
     "status": "completed"
    },
    "tags": []
   },
   "source": [
    "## Setup and settings"
   ]
  },
  {
   "cell_type": "code",
   "execution_count": 1,
   "id": "965e28e5",
   "metadata": {
    "ExecuteTime": {
     "end_time": "2022-11-03T20:35:26.198671Z",
     "start_time": "2022-11-03T20:35:06.473173Z"
    },
    "execution": {
     "iopub.execute_input": "2024-03-05T23:16:15.308967Z",
     "iopub.status.busy": "2024-03-05T23:16:15.308759Z",
     "iopub.status.idle": "2024-03-05T23:16:20.143600Z",
     "shell.execute_reply": "2024-03-05T23:16:20.143114Z"
    },
    "papermill": {
     "duration": 4.839832,
     "end_time": "2024-03-05T23:16:20.144921",
     "exception": false,
     "start_time": "2024-03-05T23:16:15.305089",
     "status": "completed"
    },
    "tags": []
   },
   "outputs": [],
   "source": [
    "# Importing packages\n",
    "import os\n",
    "import pandas as pd\n",
    "from qiime2 import Artifact\n",
    "from qiime2 import Visualization\n",
    "from qiime2 import Metadata\n",
    "\n",
    "from qiime2.plugins.phylogeny.pipelines import align_to_tree_mafft_fasttree\n",
    "\n",
    "from qiime2.plugins.diversity.pipelines import alpha\n",
    "from qiime2.plugins.diversity.pipelines import beta\n",
    "from qiime2.plugins.diversity.pipelines import core_metrics\n",
    "from qiime2.plugins.diversity.pipelines import alpha_phylogenetic\n",
    "\n",
    "from qiime2.plugins.diversity.visualizers import alpha_group_significance\n",
    "from qiime2.plugins.diversity.visualizers import beta_group_significance\n",
    "from qiime2.plugins.diversity.visualizers import alpha_correlation\n",
    "from qiime2.plugins.diversity.visualizers import beta_rarefaction\n",
    "\n",
    "from qiime2.plugins.taxa.methods import filter_table\n",
    "from qiime2.plugins.taxa.methods import collapse\n",
    "\n",
    "from qiime2.plugins.feature_table.visualizers import tabulate_seqs\n",
    "from qiime2.plugins.feature_table.visualizers import summarize\n",
    "from qiime2.plugins.feature_table.visualizers import core_features\n",
    "from qiime2.plugins.diversity.pipelines import core_metrics_phylogenetic\n",
    "\n",
    "from qiime2.plugins.feature_table.methods import filter_samples\n",
    "from qiime2.plugins.feature_table.methods import filter_seqs\n",
    "\n",
    "from qiime2.plugins.alignment.methods import mafft\n",
    "\n",
    "\n",
    "import matplotlib.pyplot as plt\n",
    "\n",
    "%matplotlib inline"
   ]
  },
  {
   "cell_type": "markdown",
   "id": "530ceb60",
   "metadata": {
    "papermill": {
     "duration": 0.002911,
     "end_time": "2024-03-05T23:16:20.150954",
     "exception": false,
     "start_time": "2024-03-05T23:16:20.148043",
     "status": "completed"
    },
    "tags": []
   },
   "source": [
    "### Receiving the parameters\n",
    "\n",
    "The following cell can receive parameters using the [papermill](https://papermill.readthedocs.io/en/latest/) tool."
   ]
  },
  {
   "cell_type": "code",
   "execution_count": 2,
   "id": "18d874ea",
   "metadata": {
    "ExecuteTime": {
     "end_time": "2022-09-29T20:54:14.793270Z",
     "start_time": "2022-09-29T20:54:14.789367Z"
    },
    "execution": {
     "iopub.execute_input": "2024-03-05T23:16:20.158871Z",
     "iopub.status.busy": "2024-03-05T23:16:20.158570Z",
     "iopub.status.idle": "2024-03-05T23:16:20.161580Z",
     "shell.execute_reply": "2024-03-05T23:16:20.161177Z"
    },
    "papermill": {
     "duration": 0.008793,
     "end_time": "2024-03-05T23:16:20.162523",
     "exception": false,
     "start_time": "2024-03-05T23:16:20.153730",
     "status": "completed"
    },
    "tags": [
     "parameters"
    ]
   },
   "outputs": [],
   "source": [
    "base_dir = os.path.join('/', 'home')\n",
    "metadata_file = os.path.abspath(os.path.join(base_dir, 'data', 'metadatada.tsv'))\n",
    "experiment_name = ''\n",
    "class_col = ''\n",
    "replace_files = False"
   ]
  },
  {
   "cell_type": "code",
   "execution_count": 3,
   "id": "d7e197fc",
   "metadata": {
    "execution": {
     "iopub.execute_input": "2024-03-05T23:16:20.168897Z",
     "iopub.status.busy": "2024-03-05T23:16:20.168734Z",
     "iopub.status.idle": "2024-03-05T23:16:20.171907Z",
     "shell.execute_reply": "2024-03-05T23:16:20.171467Z"
    },
    "papermill": {
     "duration": 0.007534,
     "end_time": "2024-03-05T23:16:20.172893",
     "exception": false,
     "start_time": "2024-03-05T23:16:20.165359",
     "status": "completed"
    },
    "tags": [
     "injected-parameters"
    ]
   },
   "outputs": [],
   "source": [
    "# Parameters\n",
    "base_dir = \"/mnt/nupeb/rede-micro/redemicro-ana-flavia-nutri\"\n",
    "class_col = \"group-id\"\n",
    "classifier_file = \"/mnt/nupeb/rede-micro/datasets/16S_classifiers_qiime2/silva-138-99-nb-classifier.qza\"\n",
    "experiment_name = \"ana-flavia-NCxNR-trim\"\n",
    "manifest_file = \"/mnt/nupeb/rede-micro/redemicro-ana-flavia-nutri/data/raw/manifest/manifest-ana-flavia-NCxNR.csv\"\n",
    "metadata_file = \"/mnt/nupeb/rede-micro/redemicro-ana-flavia-nutri/data/raw/metadata/metadata-ana-flavia-NCxNR.tsv\"\n",
    "overlap = 12\n",
    "phred = 20\n",
    "replace_files = False\n",
    "threads = 6\n",
    "top_n = 20\n",
    "trim = {\n",
    "    \"forward_primer\": \"CCTACGGGRSGCAGCAG\",\n",
    "    \"overlap\": 8,\n",
    "    \"reverse_primer\": \"GGACTACHVGGGTWTCTAAT\",\n",
    "}\n",
    "trunc_f = 0\n",
    "trunc_r = 0\n"
   ]
  },
  {
   "cell_type": "code",
   "execution_count": 4,
   "id": "f38617d9",
   "metadata": {
    "ExecuteTime": {
     "end_time": "2022-09-29T20:54:14.804575Z",
     "start_time": "2022-09-29T20:54:14.794927Z"
    },
    "execution": {
     "iopub.execute_input": "2024-03-05T23:16:20.179445Z",
     "iopub.status.busy": "2024-03-05T23:16:20.179304Z",
     "iopub.status.idle": "2024-03-05T23:16:20.181743Z",
     "shell.execute_reply": "2024-03-05T23:16:20.181386Z"
    },
    "papermill": {
     "duration": 0.006829,
     "end_time": "2024-03-05T23:16:20.182643",
     "exception": false,
     "start_time": "2024-03-05T23:16:20.175814",
     "status": "completed"
    },
    "tags": []
   },
   "outputs": [],
   "source": [
    "experiment_folder = os.path.abspath(os.path.join(base_dir, 'experiments', experiment_name))\n",
    "img_folder = os.path.abspath(os.path.join(experiment_folder, 'imgs'))"
   ]
  },
  {
   "cell_type": "markdown",
   "id": "ea9b90fb",
   "metadata": {
    "papermill": {
     "duration": 0.002905,
     "end_time": "2024-03-05T23:16:20.188411",
     "exception": false,
     "start_time": "2024-03-05T23:16:20.185506",
     "status": "completed"
    },
    "tags": []
   },
   "source": [
    "### Defining names, paths and flags"
   ]
  },
  {
   "cell_type": "code",
   "execution_count": 5,
   "id": "45727eef",
   "metadata": {
    "ExecuteTime": {
     "end_time": "2022-09-29T20:54:14.816686Z",
     "start_time": "2022-09-29T20:54:14.806238Z"
    },
    "execution": {
     "iopub.execute_input": "2024-03-05T23:16:20.195237Z",
     "iopub.status.busy": "2024-03-05T23:16:20.195087Z",
     "iopub.status.idle": "2024-03-05T23:16:20.199502Z",
     "shell.execute_reply": "2024-03-05T23:16:20.199192Z"
    },
    "papermill": {
     "duration": 0.008721,
     "end_time": "2024-03-05T23:16:20.200389",
     "exception": false,
     "start_time": "2024-03-05T23:16:20.191668",
     "status": "completed"
    },
    "tags": []
   },
   "outputs": [
    {
     "name": "stdout",
     "output_type": "stream",
     "text": [
      "The new directory is created in /mnt/nupeb/rede-micro/redemicro-ana-flavia-nutri/experiments/ana-flavia-NCxNR-trim/qiime-artifacts/alpha-analysis\n",
      "The new directory is created in /mnt/nupeb/rede-micro/redemicro-ana-flavia-nutri/experiments/ana-flavia-NCxNR-trim/qiime-artifacts/beta-analysis\n"
     ]
    }
   ],
   "source": [
    "# QIIME2 Artifacts folder\n",
    "qiime_folder = os.path.join(experiment_folder, 'qiime-artifacts')\n",
    "\n",
    "# Input - DADA2 Artifacts\n",
    "dada2_tabs_path = os.path.join(qiime_folder, 'dada2-tabs.qza')\n",
    "dada2_reps_path = os.path.join(qiime_folder, 'dada2-reps.qza')\n",
    "dada2_stat_path = os.path.join(qiime_folder, 'dada2-stat.qza')\n",
    "\n",
    "# Input - Taxonaomic Artifacts\n",
    "taxonomy_path = os.path.join(qiime_folder, 'metatax.qza')\n",
    "\n",
    "# Create folder to store Alpha files\n",
    "alpha_path = os.path.join(qiime_folder, 'alpha-analysis')\n",
    "if not os.path.exists(alpha_path):\n",
    "    os.makedirs(alpha_path)\n",
    "    print(f'The new directory is created in {alpha_path}')\n",
    "    \n",
    "# Create folder to store Beta files\n",
    "beta_path = os.path.join(qiime_folder, 'beta-analysis')\n",
    "if not os.path.exists(beta_path):\n",
    "    os.makedirs(beta_path)\n",
    "    print(f'The new directory is created in {beta_path}')\n",
    "\n",
    "# Output -Diversity Artifacts\n",
    "alpha_diversity_path = os.path.join(alpha_path, 'alpha-diversity.qza')\n",
    "alpha_diversity_view_path = os.path.join(alpha_path, 'alpha-diversity.qzv')\n",
    "beta_diversity_path = os.path.join(beta_path, 'beta-diversity.qza')\n",
    "beta_diversity_view_path = os.path.join(beta_path, 'beta-diversity.qzv')"
   ]
  },
  {
   "cell_type": "code",
   "execution_count": 6,
   "id": "601ae263",
   "metadata": {
    "ExecuteTime": {
     "end_time": "2022-09-29T20:54:14.829117Z",
     "start_time": "2022-09-29T20:54:14.818272Z"
    },
    "execution": {
     "iopub.execute_input": "2024-03-05T23:16:20.206958Z",
     "iopub.status.busy": "2024-03-05T23:16:20.206831Z",
     "iopub.status.idle": "2024-03-05T23:16:20.210305Z",
     "shell.execute_reply": "2024-03-05T23:16:20.210003Z"
    },
    "papermill": {
     "duration": 0.007806,
     "end_time": "2024-03-05T23:16:20.211184",
     "exception": false,
     "start_time": "2024-03-05T23:16:20.203378",
     "status": "completed"
    },
    "tags": []
   },
   "outputs": [],
   "source": [
    "def filter_and_collapse(tab, seqs, tax, meta, lvl, exclude=True, exclude_list='uncultured,unidentified,metagenome'):\n",
    "    from qiime2.plugins.taxa.methods import collapse\n",
    "    from qiime2.plugins.taxa.methods import filter_table\n",
    "    from qiime2.plugins.feature_table.methods import filter_seqs\n",
    "    from qiime2.plugins.feature_table.visualizers import summarize\n",
    "    \n",
    "    to_include = ('d', 'p', 'c', 'o', 'f', 'g', 's')[lvl-1]\n",
    "    to_include += '__'\n",
    "    to_exclude = exclude_list if exclude else None\n",
    "    \n",
    "    filtered_tabs = filter_table(\n",
    "        table=tab, \n",
    "        taxonomy=tax,\n",
    "        include=to_include,\n",
    "        exclude=to_exclude,\n",
    "        mode='contains').filtered_table\n",
    "    \n",
    "    filtered_seqs = filter_seqs(\n",
    "        data = seqs,\n",
    "        table = filtered_tabs,\n",
    "    ).filtered_data\n",
    "    \n",
    "    collapsed_table = collapse(table=filtered_tabs, taxonomy=tax, level=lvl).collapsed_table\n",
    "    collapsed_table_view = summarize(table=collapsed_table, sample_metadata=meta).visualization\n",
    "    \n",
    "    return collapsed_table, collapsed_table_view, filtered_seqs"
   ]
  },
  {
   "cell_type": "markdown",
   "id": "0999a1b2",
   "metadata": {
    "papermill": {
     "duration": 0.002952,
     "end_time": "2024-03-05T23:16:20.217100",
     "exception": false,
     "start_time": "2024-03-05T23:16:20.214148",
     "status": "completed"
    },
    "tags": []
   },
   "source": [
    "## Step execution\n",
    "\n",
    "### Load input files\n",
    "\n",
    "This Step import the QIIME2 `FeatureTable[Frequency]` Artifact and the `Metadata` file."
   ]
  },
  {
   "cell_type": "code",
   "execution_count": 7,
   "id": "8f299d1a",
   "metadata": {
    "ExecuteTime": {
     "end_time": "2022-09-29T20:54:15.559837Z",
     "start_time": "2022-09-29T20:54:14.830405Z"
    },
    "execution": {
     "iopub.execute_input": "2024-03-05T23:16:20.223765Z",
     "iopub.status.busy": "2024-03-05T23:16:20.223616Z",
     "iopub.status.idle": "2024-03-05T23:16:20.578584Z",
     "shell.execute_reply": "2024-03-05T23:16:20.578144Z"
    },
    "papermill": {
     "duration": 0.359655,
     "end_time": "2024-03-05T23:16:20.579780",
     "exception": false,
     "start_time": "2024-03-05T23:16:20.220125",
     "status": "completed"
    },
    "tags": []
   },
   "outputs": [],
   "source": [
    "#Load Metadata\n",
    "metadata_qa = Metadata.load(metadata_file)\n",
    "\n",
    "#Load FeatureTable[Frequency]\n",
    "tabs = Artifact.load(dada2_tabs_path)\n",
    "tabs_df = tabs.view(Metadata).to_dataframe().T\n",
    "\n",
    "# FeatureData[Sequence]\n",
    "reps = Artifact.load(dada2_reps_path)\n",
    "\n",
    "# FeatureData[Taxonomy]\n",
    "tax = Artifact.load(taxonomy_path)"
   ]
  },
  {
   "cell_type": "code",
   "execution_count": 8,
   "id": "c8dfe530",
   "metadata": {
    "ExecuteTime": {
     "end_time": "2022-09-29T20:54:15.564968Z",
     "start_time": "2022-09-29T20:54:15.561875Z"
    },
    "execution": {
     "iopub.execute_input": "2024-03-05T23:16:20.586956Z",
     "iopub.status.busy": "2024-03-05T23:16:20.586696Z",
     "iopub.status.idle": "2024-03-05T23:16:20.838372Z",
     "shell.execute_reply": "2024-03-05T23:16:20.837880Z"
    },
    "papermill": {
     "duration": 0.25636,
     "end_time": "2024-03-05T23:16:20.839430",
     "exception": false,
     "start_time": "2024-03-05T23:16:20.583070",
     "status": "completed"
    },
    "tags": []
   },
   "outputs": [
    {
     "name": "stderr",
     "output_type": "stream",
     "text": [
      "/home/lauro/anaconda3/envs/qiime2-2023.5/lib/python3.8/site-packages/q2_types/feature_data/_transformer.py:258: FutureWarning: iteritems is deprecated and will be removed in a future version. Use .items instead.\n",
      "  for id_, seq in data.iteritems():\n"
     ]
    }
   ],
   "source": [
    "# Filter FeatureTable[Frequency | RelativeFrequency | PresenceAbsence | Composition] based on Metadata sample ID values\n",
    "tabs = filter_samples(\n",
    "    table=tabs,\n",
    "    metadata=metadata_qa,\n",
    ").filtered_table\n",
    "# Filter SampleData[SequencesWithQuality | PairedEndSequencesWithQuality | JoinedSequencesWithQuality] based on Metadata sample ID values; returns FeatureData[Sequence | AlignedSequence]\n",
    "reps = filter_seqs(\n",
    "    data=reps,\n",
    "    table=tabs,\n",
    ").filtered_data"
   ]
  },
  {
   "cell_type": "markdown",
   "id": "9f43843a",
   "metadata": {
    "ExecuteTime": {
     "end_time": "2022-09-22T22:48:07.523952Z",
     "start_time": "2022-09-22T22:48:07.517565Z"
    },
    "papermill": {
     "duration": 0.003139,
     "end_time": "2024-03-05T23:16:20.845952",
     "exception": false,
     "start_time": "2024-03-05T23:16:20.842813",
     "status": "completed"
    },
    "tags": []
   },
   "source": [
    "## Alpha diversity analysis\n",
    "\n",
    "#### Reference\n",
    "- [The Use and Types of Alpha-Diversity Metrics in Microbial NGS](https://www.cd-genomics.com/microbioseq/the-use-and-types-of-alpha-diversity-metrics-in-microbial-ngs.html)\n",
    "- [Alpha diversity metrics](http://scikit-bio.org/docs/0.2.0/generated/skbio.diversity.alpha.html)\n",
    "\n",
    "#### Methods\n",
    "- [diversity alpha](https://docs.qiime2.org/2022.8/plugins/available/diversity/alpha/): Computes a user-specified alpha diversity metric for all samples in a\n",
    "feature table.\n",
    "- [diversity alpha_phylogenetic](https://docs.qiime2.org/2022.8/plugins/available/diversity/alpha-phylogenetic/): Computes a user-specified phylogenetic alpha diversity metric for all\n",
    "samples in a feature table.\n",
    "- [diversity alpha_correlation](https://docs.qiime2.org/2022.8/plugins/available/diversity/alpha-correlation/): Determine whether numeric sample metadata columns are correlated with alpha diversity.\n",
    "- [diversity alpha_group_significance](https://docs.qiime2.org/2022.8/plugins/available/diversity/alpha-group-significance/): Visually and statistically compare groups of alpha diversity values."
   ]
  },
  {
   "cell_type": "markdown",
   "id": "606b9c75",
   "metadata": {
    "papermill": {
     "duration": 0.0031,
     "end_time": "2024-03-05T23:16:20.852127",
     "exception": false,
     "start_time": "2024-03-05T23:16:20.849027",
     "status": "completed"
    },
    "tags": []
   },
   "source": [
    "### Compute Alpha Diversity vectors\n",
    "- [diversity alpha](https://docs.qiime2.org/2022.8/plugins/available/diversity/alpha/): Computes a user-specified alpha diversity metric for all samples in a feature table.\n",
    "- [Alpha diversity metrics](http://scikit-bio.org/docs/0.2.0/generated/skbio.diversity.alpha.html)\n",
    " - Choices: ('ace', 'berger_parker_d', 'brillouin_d', 'chao1', 'chao1_ci', 'dominance', 'doubles', 'enspie', 'esty_ci', 'fisher_alpha', 'gini_index', 'goods_coverage', 'heip_e', 'kempton_taylor_q', 'lladser_pe', 'margalef', 'mcintosh_d', 'mcintosh_e', 'menhinick', 'michaelis_menten_fit', 'observed_features', 'osd', 'pielou_e', 'robbins', 'shannon', 'simpson', 'simpson_e', 'singles', 'strong')"
   ]
  },
  {
   "cell_type": "code",
   "execution_count": 9,
   "id": "556e5264",
   "metadata": {
    "ExecuteTime": {
     "end_time": "2022-09-29T20:54:20.790166Z",
     "start_time": "2022-09-29T20:54:20.451134Z"
    },
    "execution": {
     "iopub.execute_input": "2024-03-05T23:16:20.859871Z",
     "iopub.status.busy": "2024-03-05T23:16:20.859272Z",
     "iopub.status.idle": "2024-03-05T23:16:21.247359Z",
     "shell.execute_reply": "2024-03-05T23:16:21.246860Z"
    },
    "papermill": {
     "duration": 0.393123,
     "end_time": "2024-03-05T23:16:21.248399",
     "exception": false,
     "start_time": "2024-03-05T23:16:20.855276",
     "status": "completed"
    },
    "tags": []
   },
   "outputs": [
    {
     "name": "stdout",
     "output_type": "stream",
     "text": [
      "Calculating alpha diversity: chao1\n",
      "DONE: Calculating alpha diversity: chao1\n",
      "Calculating alpha diversity: chao1_ci\n",
      "DONE: Calculating alpha diversity: chao1_ci\n",
      "Calculating alpha diversity: observed_features\n",
      "DONE: Calculating alpha diversity: observed_features\n",
      "Calculating alpha diversity: shannon\n"
     ]
    },
    {
     "name": "stdout",
     "output_type": "stream",
     "text": [
      "DONE: Calculating alpha diversity: shannon\n",
      "Calculating alpha diversity: simpson\n",
      "DONE: Calculating alpha diversity: simpson\n",
      "Calculating alpha diversity: simpson_e\n",
      "DONE: Calculating alpha diversity: simpson_e\n"
     ]
    }
   ],
   "source": [
    "metrics = ('ace', 'berger_parker_d', 'brillouin_d', 'chao1', 'chao1_ci', 'dominance', 'doubles', 'enspie', 'esty_ci', 'fisher_alpha', 'gini_index', 'goods_coverage', 'heip_e', 'kempton_taylor_q', 'lladser_pe', 'margalef', 'mcintosh_d', 'mcintosh_e', 'menhinick', 'michaelis_menten_fit', 'observed_features', 'osd', 'pielou_e', 'robbins', 'shannon', 'simpson', 'simpson_e', 'singles', 'strong')\n",
    "\n",
    "# Sugestão de valores para Alpha diversity\n",
    "# chao1 e observed_features (riqueza); shannon e simpson (diversidade - que levam em consideração riqueza e equitabilidade).\n",
    "metrics = ('chao1', 'chao1_ci', 'observed_features', 'shannon', 'simpson', 'simpson_e')\n",
    "alpha_diversities = dict()\n",
    "for metric in metrics:\n",
    "    print(f\"Calculating alpha diversity: {metric}\")\n",
    "    try:\n",
    "        alpha_diversity = alpha(table=tabs, metric=metric).alpha_diversity\n",
    "        alpha_diversities[metric] = alpha_diversity\n",
    "        # Save SampleData[AlphaDiversity] Artifact\n",
    "        file_path = os.path.join(alpha_path, f'alpha-values-{metric}.qza')\n",
    "        alpha_diversity.save(file_path)\n",
    "        print(f\"DONE: Calculating alpha diversity: {metric}\")\n",
    "    except Exception as e:\n",
    "        print(f\"ERROR: Calculating alpha diversity: {metric}\")\n",
    "        print(e)"
   ]
  },
  {
   "cell_type": "markdown",
   "id": "184bcb7b",
   "metadata": {
    "papermill": {
     "duration": 0.003177,
     "end_time": "2024-03-05T23:16:21.255008",
     "exception": false,
     "start_time": "2024-03-05T23:16:21.251831",
     "status": "completed"
    },
    "tags": []
   },
   "source": [
    "### Create Phylogenetic inference\n",
    "\n",
    "- [alignment align_to_tree_mafft_fasttree](https://docs.qiime2.org/2022.8/plugins/available/phylogeny/align-to-tree-mafft-fasttree/): Build a phylogenetic tree using fasttree and mafft alignment\n",
    "\n",
    "This pipeline will start by creating a sequence alignment using MAFFT,\n",
    "after which any alignment columns that are phylogenetically uninformative\n",
    "or ambiguously aligned will be removed (masked). The resulting masked\n",
    "alignment will be used to infer a phylogenetic tree and then subsequently\n",
    "rooted at its midpoint. Output files from each step of the pipeline will be\n",
    "saved. This includes both the unmasked and masked MAFFT alignment from\n",
    "q2-alignment methods, and both the rooted and unrooted phylogenies from\n",
    "q2-phylogeny methods.\n",
    "\n",
    "\n",
    "Returns\n",
    "- alignment : FeatureData[AlignedSequence] : The aligned sequences.\n",
    "- masked_alignment : FeatureData[AlignedSequence] : The masked alignment.\n",
    "- tree : Phylogeny[Unrooted] : The unrooted phylogenetic tree.\n",
    "- rooted_tree : Phylogeny[Rooted] : The rooted phylogenetic tree."
   ]
  },
  {
   "cell_type": "code",
   "execution_count": 10,
   "id": "9c8cfe47",
   "metadata": {
    "ExecuteTime": {
     "end_time": "2022-09-29T20:54:35.139531Z",
     "start_time": "2022-09-29T20:54:20.792130Z"
    },
    "execution": {
     "iopub.execute_input": "2024-03-05T23:16:21.264603Z",
     "iopub.status.busy": "2024-03-05T23:16:21.264003Z",
     "iopub.status.idle": "2024-03-05T23:16:26.398356Z",
     "shell.execute_reply": "2024-03-05T23:16:26.397815Z"
    },
    "papermill": {
     "duration": 5.139355,
     "end_time": "2024-03-05T23:16:26.399576",
     "exception": false,
     "start_time": "2024-03-05T23:16:21.260221",
     "status": "completed"
    },
    "tags": []
   },
   "outputs": [
    {
     "name": "stdout",
     "output_type": "stream",
     "text": [
      "Running external command line application. This may print messages to stdout and/or stderr.\n",
      "The command being run is below. This command cannot be manually re-run as it will depend on temporary files that no longer exist.\n",
      "\n",
      "Command: mafft --preservecase --inputorder --thread 6 /tmp/qiime2/lauro/data/ea068166-633a-410d-acd6-c4a774e66cc6/data/dna-sequences.fasta\n",
      "\n"
     ]
    },
    {
     "name": "stderr",
     "output_type": "stream",
     "text": [
      "inputfile = orig\n",
      "664 x 430 - 282 d\n",
      "nthread = 6\n",
      "nthreadpair = 6\n",
      "nthreadtb = 6\n",
      "ppenalty_ex = 0\n",
      "stacksize: 8192 kb\n",
      "generating a scoring matrix for nucleotide (dist=200) ... done\n",
      "Gap Penalty = -1.53, +0.00, +0.00\n",
      "\n",
      "\n",
      "\n",
      "Making a distance matrix ..\n",
      "\r",
      "    1 / 664 (thread    0)\r",
      "  101 / 664 (thread    0)\r",
      "  201 / 664 (thread    2)\r",
      "  301 / 664 (thread    5)\r",
      "  401 / 664 (thread    1)\r",
      "  501 / 664 (thread    2)\r",
      "  601 / 664 (thread    0)\n",
      "done.\n",
      "\n",
      "Constructing a UPGMA tree (efffree=0) ... \n",
      "\r",
      "    0 / 664\r",
      "   10 / 664\r",
      "   20 / 664\r",
      "   30 / 664\r",
      "   40 / 664\r",
      "   50 / 664\r",
      "   60 / 664\r",
      "   70 / 664\r",
      "   80 / 664\r",
      "   90 / 664\r",
      "  100 / 664\r",
      "  110 / 664\r",
      "  120 / 664\r",
      "  130 / 664\r",
      "  140 / 664\r",
      "  150 / 664\r",
      "  160 / 664\r",
      "  170 / 664\r",
      "  180 / 664\r",
      "  190 / 664\r",
      "  200 / 664\r",
      "  210 / 664\r",
      "  220 / 664\r",
      "  230 / 664\r",
      "  240 / 664\r",
      "  250 / 664\r",
      "  260 / 664\r",
      "  270 / 664\r",
      "  280 / 664\r",
      "  290 / 664\r",
      "  300 / 664\r",
      "  310 / 664\r",
      "  320 / 664\r",
      "  330 / 664\r",
      "  340 / 664\r",
      "  350 / 664\r",
      "  360 / 664\r",
      "  370 / 664\r",
      "  380 / 664\r",
      "  390 / 664\r",
      "  400 / 664\r",
      "  410 / 664\r",
      "  420 / 664\r",
      "  430 / 664\r",
      "  440 / 664\r",
      "  450 / 664\r",
      "  460 / 664\r",
      "  470 / 664\r",
      "  480 / 664\r",
      "  490 / 664\r",
      "  500 / 664\r",
      "  510 / 664\r",
      "  520 / 664\r",
      "  530 / 664\r",
      "  540 / 664\r",
      "  550 / 664\r",
      "  560 / 664\r",
      "  570 / 664\r",
      "  580 / 664\r",
      "  590 / 664\r",
      "  600 / 664\r",
      "  610 / 664\r",
      "  620 / 664\r",
      "  630 / 664\r",
      "  640 / 664\r",
      "  650 / 664\r",
      "  660 / 664\n",
      "done.\n",
      "\n",
      "Progressive alignment 1/2... \n",
      "\r",
      "STEP     1 / 663 (thread    0) f\b\b\r",
      "STEP     2 / 663 (thread    3) f\b\b\r",
      "STEP     3 / 663 (thread    2) f\b\b\r",
      "STEP     4 / 663 (thread    1) f\b\b\r",
      "STEP     5 / 663 (thread    5) f\b\b\r",
      "STEP     6 / 663 (thread    4) f\b\b\r",
      "STEP     7 / 663 (thread    1) f\b\b\r",
      "STEP     8 / 663 (thread    2) f\b\b\r",
      "STEP     9 / 663 (thread    3) f\b\b\r",
      "STEP    10 / 663 (thread    4) f\b\b\r",
      "STEP    11 / 663 (thread    0) f\b\b\r",
      "STEP    12 / 663 (thread    5) f\b\b\r",
      "STEP    13 / 663 (thread    1) f\b\b\r",
      "STEP    14 / 663 (thread    3) f\b\b\r",
      "STEP    15 / 663 (thread    2) f\b\b\r",
      "STEP    16 / 663 (thread    4) f\b\b\r",
      "STEP    17 / 663 (thread    0) f\b\b\r",
      "STEP    18 / 663 (thread    5) f\b\b\r",
      "STEP    19 / 663 (thread    1) f\b\b\r",
      "STEP    20 / 663 (thread    3) f\b\b\r",
      "STEP    21 / 663 (thread    2) f\b\b\r",
      "STEP    22 / 663 (thread    4) f\b\b\r",
      "STEP    23 / 663 (thread    0) f\b\b\r",
      "STEP    24 / 663 (thread    5) f\b\b\r",
      "STEP    25 / 663 (thread    3) f\b\b\r",
      "STEP    26 / 663 (thread    2) f\b\b\r",
      "STEP    27 / 663 (thread    1) f\b\b\r",
      "STEP    28 / 663 (thread    4) f\b\b\r",
      "STEP    29 / 663 (thread    0) f\b\b\r",
      "STEP    30 / 663 (thread    5) f\b\b\r",
      "STEP    31 / 663 (thread    3) f\b\b\r",
      "STEP    32 / 663 (thread    2) f\b\b\r",
      "STEP    33 / 663 (thread    1) f\b\b\r",
      "STEP    34 / 663 (thread    4) f\b\b\r",
      "STEP    35 / 663 (thread    0) f\b\b\r",
      "STEP    36 / 663 (thread    2) f\b\b\r",
      "STEP    37 / 663 (thread    3) f\b\b\r",
      "STEP    38 / 663 (thread    1) f\b\b\r",
      "STEP    39 / 663 (thread    4) f\b\b\r",
      "STEP    40 / 663 (thread    0) f\b\b\r",
      "STEP    41 / 663 (thread    3) f\b\b\r",
      "STEP    42 / 663 (thread    2) f\b\b\r",
      "STEP    43 / 663 (thread    1) f\b\b\r",
      "STEP    44 / 663 (thread    5) f\b\b\r",
      "STEP    45 / 663 (thread    4) f\b\b\r",
      "STEP    46 / 663 (thread    0) f\b\b\r",
      "STEP    47 / 663 (thread    3) f\b\b\r",
      "STEP    48 / 663 (thread    2) f\b\b\r",
      "STEP    50 / 663 (thread    5) f\b\b\r",
      "STEP    51 / 663 (thread    4) f\b\b\r",
      "STEP    52 / 663 (thread    0) f\b\b\r",
      "STEP    53 / 663 (thread    2) f\b\b\r",
      "STEP    49 / 663 (thread    1) f\b\b\r",
      "STEP    54 / 663 (thread    5) f\b\b\r",
      "STEP    55 / 663 (thread    4) f\b\b\r",
      "STEP    56 / 663 (thread    0) f\b\b\r",
      "STEP    57 / 663 (thread    3) f\b\b\r",
      "STEP    58 / 663 (thread    2) f\b\b\r",
      "STEP    59 / 663 (thread    5) f\b\b\r",
      "STEP    60 / 663 (thread    4) f\b\b\r",
      "STEP    61 / 663 (thread    0) f\b\b\r",
      "STEP    62 / 663 (thread    3) f\b\b\r",
      "STEP    63 / 663 (thread    2) f\b\b\r",
      "STEP    64 / 663 (thread    5) f\b\b\r",
      "STEP    65 / 663 (thread    4) f\b\b\r",
      "STEP    66 / 663 (thread    1) f\b\b\r",
      "STEP    67 / 663 (thread    0) f\b\b\r",
      "STEP    68 / 663 (thread    3) f\b\b\r",
      "STEP    69 / 663 (thread    2) f\b\b\r",
      "STEP    70 / 663 (thread    5) f\b\b\r",
      "STEP    71 / 663 (thread    1) f\b\b\r",
      "STEP    73 / 663 (thread    0) f\b\b\r",
      "STEP    74 / 663 (thread    3) f\b\b\r",
      "STEP    72 / 663 (thread    4) f\b\b\r",
      "STEP    76 / 663 (thread    5) f\b\b\r",
      "STEP    77 / 663 (thread    0) f\b\b\r",
      "STEP    78 / 663 (thread    3) f\b\b\r",
      "STEP    79 / 663 (thread    1) f\b\b\r",
      "STEP    80 / 663 (thread    0) f\b\b\r",
      "STEP    81 / 663 (thread    3) f\b\b\r",
      "STEP    82 / 663 (thread    4) f\b\b\r",
      "STEP    75 / 663 (thread    2) f\b\b\r",
      "STEP    85 / 663 (thread    0) f\b\b\r",
      "STEP    86 / 663 (thread    3) f\b\b\r",
      "STEP    87 / 663 (thread    2) f\b\b\r",
      "STEP    83 / 663 (thread    1) f\b\b\r",
      "STEP    88 / 663 (thread    0) f\b\b\r",
      "STEP    89 / 663 (thread    3) f\b\b\r",
      "STEP    90 / 663 (thread    4) f\b\b\r",
      "STEP    91 / 663 (thread    2) f\b\b\r",
      "STEP    92 / 663 (thread    0) f\b\b\r",
      "STEP    93 / 663 (thread    3) f\b\b\r",
      "STEP    94 / 663 (thread    1) f\b\b\r",
      "STEP    84 / 663 (thread    5) f\b\b\r",
      "STEP    95 / 663 (thread    2) f\b\b\r",
      "STEP    96 / 663 (thread    1) f\b\b\r",
      "STEP    97 / 663 (thread    0) f\b\b\r",
      "STEP    98 / 663 (thread    4) f\b\b\r",
      "STEP    99 / 663 (thread    2) f\b\b\r",
      "STEP   100 / 663 (thread    1) f\b\b\r",
      "STEP   101 / 663 (thread    5) f\b\b\r",
      "STEP   102 / 663 (thread    0) f\b\b\r",
      "STEP   103 / 663 (thread    4) f\b\b\r",
      "STEP   104 / 663 (thread    3) f\b\b\r",
      "STEP   105 / 663 (thread    2) f\b\b\r",
      "STEP   106 / 663 (thread    1) f\b\b\r",
      "STEP   107 / 663 (thread    5) f\b\b\r",
      "STEP   108 / 663 (thread    2) f\b\b\r",
      "STEP   109 / 663 (thread    1) f\b\b\r",
      "STEP   110 / 663 (thread    5) f\b\b\r",
      "STEP   111 / 663 (thread    0) f\b\b\r",
      "STEP   112 / 663 (thread    4) f\b\b\r",
      "STEP   113 / 663 (thread    2) f\b\b\r",
      "STEP   114 / 663 (thread    3) f\b\b\r",
      "STEP   115 / 663 (thread    5) f\b\b\r",
      "STEP   116 / 663 (thread    0) f\b\b\r",
      "STEP   117 / 663 (thread    4) f\b\b\r",
      "STEP   118 / 663 (thread    2) f\b\b\r",
      "STEP   119 / 663 (thread    3) f\b\b\r",
      "STEP   120 / 663 (thread    1) f\b\b\r",
      "STEP   121 / 663 (thread    0) f\b\b\r",
      "STEP   122 / 663 (thread    5) f\b\b\r",
      "STEP   123 / 663 (thread    4) f\b\b\r",
      "STEP   124 / 663 (thread    2) f\b\b\r",
      "STEP   125 / 663 (thread    3) f\b\b\r",
      "STEP   126 / 663 (thread    1) f\b\b\r",
      "STEP   127 / 663 (thread    0) f\b\b\r",
      "STEP   129 / 663 (thread    4) f\b\b\r",
      "STEP   130 / 663 (thread    2) f\b\b\r",
      "STEP   131 / 663 (thread    3) f\b\b\r",
      "STEP   132 / 663 (thread    5) f\b\b\r",
      "STEP   133 / 663 (thread    4) f\b\b\r",
      "STEP   134 / 663 (thread    2) f\b\b\r",
      "STEP   135 / 663 (thread    1) f\b\b\r",
      "STEP   128 / 663 (thread    0) f\b\b\r",
      "STEP   136 / 663 (thread    5) f\b\b\r",
      "STEP   137 / 663 (thread    4) f\b\b\r",
      "STEP   139 / 663 (thread    3) f\b\b\r",
      "STEP   140 / 663 (thread    2) f\b\b\r",
      "STEP   138 / 663 (thread    1)\r",
      "STEP   142 / 663 (thread    5) f\b\b\r",
      "STEP   141 / 663 (thread    0) f\b\b f\b\b\r",
      "STEP   143 / 663 (thread    3) f\b\b\r",
      "STEP   144 / 663 (thread    4) f\b\b\r",
      "STEP   145 / 663 (thread    2) f\b\b\r",
      "STEP   146 / 663 (thread    0) f\b\b\r",
      "STEP   147 / 663 (thread    4) f\b\b\r",
      "STEP   148 / 663 (thread    5) f\b\b\r",
      "STEP   149 / 663 (thread    1) f\b\b\r",
      "STEP   150 / 663 (thread    3) f\b\b\r",
      "STEP   151 / 663 (thread    5) f\b\b\r",
      "STEP   152 / 663 (thread    1) f\b\b\r",
      "STEP   153 / 663 (thread    0) f\b\b\r",
      "STEP   154 / 663 (thread    3) f\b\b\r",
      "STEP   155 / 663 (thread    4) f\b\b\r",
      "STEP   156 / 663 (thread    2) f\b\b\r",
      "STEP   157 / 663 (thread    5) f\b\b\r",
      "STEP   158 / 663 (thread    1) f\b\b\r",
      "STEP   159 / 663 (thread    2) f\b\b\r",
      "STEP   160 / 663 (thread    5) f\b\b\r",
      "STEP   161 / 663 (thread    0) f\b\b\r",
      "STEP   162 / 663 (thread    3) f\b\b\r",
      "STEP   163 / 663 (thread    1) f\b\b\r",
      "STEP   164 / 663 (thread    4) f\b\b\r",
      "STEP   165 / 663 (thread    1) f\b\b\r",
      "STEP   166 / 663 (thread    2) f\b\b\r",
      "STEP   167 / 663 (thread    5) f\b\b\r",
      "STEP   168 / 663 (thread    3) f\b\b\r",
      "STEP   169 / 663 (thread    0) f\b\b\r",
      "STEP   170 / 663 (thread    4) f\b\b\r",
      "STEP   171 / 663 (thread    1) f\b\b\r",
      "STEP   172 / 663 (thread    2) f\b\b\r",
      "STEP   173 / 663 (thread    5) f\b\b\r",
      "STEP   175 / 663 (thread    0) f\b\b\r",
      "STEP   176 / 663 (thread    4) f\b\b\r",
      "STEP   174 / 663 (thread    3) f\b\b\r",
      "STEP   177 / 663 (thread    1) f\b\b\r",
      "STEP   178 / 663 (thread    2) f\b\b\r",
      "STEP   179 / 663 (thread    5) f\b\b\r",
      "STEP   180 / 663 (thread    2) f\b\b\r",
      "STEP   181 / 663 (thread    5) f\b\b\r",
      "STEP   182 / 663 (thread    0) f\b\b\r",
      "STEP   183 / 663 (thread    4) f\b\b\r",
      "STEP   184 / 663 (thread    3) f\b\b\r",
      "STEP   185 / 663 (thread    2) f\b\b\r",
      "STEP   186 / 663 (thread    5) f\b\b\r",
      "STEP   187 / 663 (thread    3) f\b\b\r",
      "STEP   188 / 663 (thread    1) f\b\b\r",
      "STEP   189 / 663 (thread    0) f\b\b\r",
      "STEP   190 / 663 (thread    4) f\b\b\r",
      "STEP   191 / 663 (thread    2) f\b\b\r",
      "STEP   192 / 663 (thread    5) f\b\b\r",
      "STEP   193 / 663 (thread    3) f\b\b\r",
      "STEP   194 / 663 (thread    1) f\b\b\r",
      "STEP   195 / 663 (thread    4) f\b\b\r",
      "STEP   196 / 663 (thread    0) f\b\b\r",
      "STEP   197 / 663 (thread    5) f\b\b\r",
      "STEP   198 / 663 (thread    2) f\b\b\r",
      "STEP   199 / 663 (thread    3) f\b\b\r",
      "STEP   200 / 663 (thread    1) f\b\b\r",
      "STEP   201 / 663 (thread    0) f\b\b\r",
      "STEP   202 / 663 (thread    4) f\b\b\r",
      "STEP   203 / 663 (thread    5) f\b\b\r",
      "STEP   204 / 663 (thread    1) f\b\b\r",
      "STEP   205 / 663 (thread    3) f\b\b\r",
      "STEP   206 / 663 (thread    0) f\b\b\r",
      "STEP   207 / 663 (thread    2) f\b\b\r",
      "STEP   208 / 663 (thread    1) f\b\b\r",
      "STEP   209 / 663 (thread    3) f\b\b\r",
      "STEP   210 / 663 (thread    0) f\b\b\r",
      "STEP   211 / 663 (thread    4) f\b\b\r",
      "STEP   212 / 663 (thread    0) f\b\b\r",
      "STEP   213 / 663 (thread    5) f\b\b\r",
      "STEP   214 / 663 (thread    3) f\b\b\r",
      "STEP   215 / 663 (thread    4) f\b\b\r",
      "STEP   216 / 663 (thread    2) f\b\b\r",
      "STEP   217 / 663 (thread    1) f\b\b\r",
      "STEP   218 / 663 (thread    5) f\b\b\r",
      "STEP   219 / 663 (thread    0) f\b\b\r",
      "STEP   220 / 663 (thread    3) f\b\b\r",
      "STEP   221 / 663 (thread    0) f\b\b\r",
      "STEP   222 / 663 (thread    2) f\b\b\r",
      "STEP   223 / 663 (thread    5) f\b\b\r",
      "STEP   224 / 663 (thread    4) f\b\b\r",
      "STEP   225 / 663 (thread    3) f\b\b\r",
      "STEP   226 / 663 (thread    1) f\b\b\r",
      "STEP   227 / 663 (thread    3) f\b\b\r",
      "STEP   228 / 663 (thread    1) f\b\b\r",
      "STEP   229 / 663 (thread    2) f\b\b\r",
      "STEP   230 / 663 (thread    0) f\b\b\r",
      "STEP   231 / 663 (thread    5) f\b\b\r",
      "STEP   233 / 663 (thread    3) f\b\b\r",
      "STEP   232 / 663 (thread    4) f\b\b\r",
      "STEP   234 / 663 (thread    1) f\b\b\r",
      "STEP   235 / 663 (thread    2) f\b\b\r",
      "STEP   236 / 663 (thread    5) f\b\b\r",
      "STEP   237 / 663 (thread    0) f\b\b\r",
      "STEP   238 / 663 (thread    4) f\b\b\r",
      "STEP   239 / 663 (thread    1) f\b\b\r",
      "STEP   240 / 663 (thread    2) f\b\b\r",
      "STEP   241 / 663 (thread    3) f\b\b\r",
      "STEP   242 / 663 (thread    2) f\b\b\r",
      "STEP   243 / 663 (thread    3) f\b\b\r",
      "STEP   244 / 663 (thread    5) f\b\b\r",
      "STEP   245 / 663 (thread    0) f\b\b\r",
      "STEP   246 / 663 (thread    4) f\b\b\r",
      "STEP   247 / 663 (thread    0) f\b\b\r",
      "STEP   248 / 663 (thread    1) f\b\b\r",
      "STEP   249 / 663 (thread    2) f\b\b\r",
      "STEP   250 / 663 (thread    3) f\b\b\r",
      "STEP   251 / 663 (thread    0) f\b\b\r",
      "STEP   252 / 663 (thread    4) f\b\b\r",
      "STEP   253 / 663 (thread    5) f\b\b\n",
      "Reallocating..done. *alloclen = 1868\n",
      "\r",
      "STEP   254 / 663 (thread    1) f\b\b\r",
      "STEP   255 / 663 (thread    2) f\b\b\r",
      "STEP   256 / 663 (thread    0) f\b\b\r",
      "STEP   257 / 663 (thread    3) f\b\b\r",
      "STEP   258 / 663 (thread    4) f\b\b\r",
      "STEP   259 / 663 (thread    5) f\b\b\r",
      "STEP   260 / 663 (thread    2) f\b\b\r",
      "STEP   261 / 663 (thread    3) f\b\b\r",
      "STEP   262 / 663 (thread    0) f\b\b\r",
      "STEP   263 / 663 (thread    1) f\b\b\r",
      "STEP   264 / 663 (thread    4) f\b\b\r",
      "STEP   265 / 663 (thread    2) f\b\b\r",
      "STEP   266 / 663 (thread    3) f\b\b\r",
      "STEP   267 / 663 (thread    5) f\b\b\r",
      "STEP   268 / 663 (thread    0) f\b\b\r",
      "STEP   269 / 663 (thread    1) f\b\b\r",
      "STEP   270 / 663 (thread    2) f\b\b\r",
      "STEP   271 / 663 (thread    4) f\b\b\r",
      "STEP   272 / 663 (thread    5) f\b\b\r",
      "STEP   273 / 663 (thread    0) f\b\b\r",
      "STEP   274 / 663 (thread    1) f\b\b\r",
      "STEP   275 / 663 (thread    3) f\b\b\r",
      "STEP   276 / 663 (thread    4) f\b\b\r",
      "STEP   277 / 663 (thread    5) f\b\b\r",
      "STEP   278 / 663 (thread    2) f\b\b\r",
      "STEP   279 / 663 (thread    0) f\b\b\r",
      "STEP   280 / 663 (thread    1) f\b\b\r",
      "STEP   281 / 663 (thread    4) f\b\b\r",
      "STEP   282 / 663 (thread    3) f\b\b\r",
      "STEP   283 / 663 (thread    0) f\b\b\r",
      "STEP   284 / 663 (thread    4) f\b\b\r",
      "STEP   285 / 663 (thread    5) f\b\b\r",
      "STEP   286 / 663 (thread    2) f\b\b\r",
      "STEP   287 / 663 (thread    0) f\b\b\r",
      "STEP   288 / 663 (thread    4) f\b\b\r",
      "STEP   289 / 663 (thread    1) f\b\b\r",
      "STEP   290 / 663 (thread    3) f\b\b\r",
      "STEP   291 / 663 (thread    5) f\b\b\r",
      "STEP   292 / 663 (thread    4) f\b\b\r",
      "STEP   293 / 663 (thread    0) f\b\b\r",
      "STEP   294 / 663 (thread    2) f\b\b\r",
      "STEP   295 / 663 (thread    3) f\b\b\r",
      "STEP   296 / 663 (thread    5) f\b\b\r",
      "STEP   297 / 663 (thread    1) f\b\b\r",
      "STEP   298 / 663 (thread    4) f\b\b\r",
      "STEP   299 / 663 (thread    0) f\b\b\r",
      "STEP   300 / 663 (thread    3) f\b\b\r",
      "STEP   301 / 663 (thread    2) f\b\b\r",
      "STEP   303 / 663 (thread    0) f\b\b\r",
      "STEP   304 / 663 (thread    1) f\b\b\r",
      "STEP   302 / 663 (thread    5) f\b\b\r",
      "STEP   305 / 663 (thread    3) f\b\b\r",
      "STEP   306 / 663 (thread    2) f\b\b\r",
      "STEP   307 / 663 (thread    5) f\b\b\r",
      "STEP   308 / 663 (thread    4) f\b\b\r",
      "STEP   309 / 663 (thread    0) f\b\b\r",
      "STEP   310 / 663 (thread    3) f\b\b\r",
      "STEP   311 / 663 (thread    1) f\b\b\r",
      "STEP   313 / 663 (thread    4) f\b\b\r",
      "STEP   314 / 663 (thread    5) f\b\b\r",
      "STEP   315 / 663 (thread    5) f\b\b\r",
      "STEP   316 / 663 (thread    3) f\b\b\r",
      "STEP   312 / 663 (thread    2) f\b\b\r",
      "STEP   318 / 663 (thread    4) f\b\b\r",
      "STEP   319 / 663 (thread    1) f\b\b\r",
      "STEP   317 / 663 (thread    0) f\b\b\r",
      "STEP   321 / 663 (thread    3) f\b\b\r",
      "STEP   322 / 663 (thread    2) f\b\b\r",
      "STEP   320 / 663 (thread    5) f\b\b\r",
      "STEP   323 / 663 (thread    0) f\b\b\r",
      "STEP   325 / 663 (thread    1) f\b\b\r",
      "STEP   326 / 663 (thread    3) f\b\b\r",
      "STEP   327 / 663 (thread    2) f\b\b\r",
      "STEP   328 / 663 (thread    5) f\b\b\r",
      "STEP   324 / 663 (thread    4) f\b\b\r",
      "STEP   329 / 663 (thread    0) f\b\b\r",
      "STEP   330 / 663 (thread    2) f\b\b\r",
      "STEP   331 / 663 (thread    3) f\b\b\r",
      "STEP   332 / 663 (thread    1) f\b\b\r",
      "STEP   333 / 663 (thread    5) f\b\b\r",
      "STEP   334 / 663 (thread    0) f\b\b\r",
      "STEP   336 / 663 (thread    3) f\b\b\r",
      "STEP   337 / 663 (thread    1) f\b\b\r",
      "STEP   338 / 663 (thread    0) f\b\b\r",
      "STEP   339 / 663 (thread    5) f\b\b\r",
      "STEP   340 / 663 (thread    3) f\b\b\r",
      "STEP   341 / 663 (thread    1) f\b\b\r",
      "STEP   343 / 663 (thread    5) f\b\b\r",
      "STEP   335 / 663 (thread    4) f\b\b\r",
      "STEP   345 / 663 (thread    3) f\b\b\r",
      "STEP   346 / 663 (thread    5) f\b\b\r",
      "STEP   347 / 663 (thread    3) f\b\b\r",
      "STEP   348 / 663 (thread    1) f\b\b\r",
      "STEP   344 / 663 (thread    2) f\b\b\r",
      "STEP   349 / 663 (thread    5) f\b\b\r",
      "STEP   350 / 663 (thread    3) f\b\b\r",
      "STEP   351 / 663 (thread    1) f\b\b\r",
      "STEP   352 / 663 (thread    2) f\b\b\r",
      "STEP   354 / 663 (thread    5) f\b\b\r",
      "STEP   355 / 663 (thread    3) f\b\b\r",
      "STEP   353 / 663 (thread    1) f\b\b\r",
      "STEP   356 / 663 (thread    4) f\b\b\r",
      "STEP   342 / 663 (thread    0) f\b\b\r",
      "STEP   358 / 663 (thread    5) f\b\b\r",
      "STEP   359 / 663 (thread    1) f\b\b\r",
      "STEP   360 / 663 (thread    3) f\b\b\r",
      "STEP   361 / 663 (thread    4) f\b\b\r",
      "STEP   362 / 663 (thread    1) f\b\b\r",
      "STEP   363 / 663 (thread    3) f\b\b\r",
      "STEP   364 / 663 (thread    4) f\b\b\r",
      "STEP   357 / 663 (thread    2) f\b\b\r",
      "STEP   367 / 663 (thread    1) f\b\b\r",
      "STEP   368 / 663 (thread    3) f\b\b\r",
      "STEP   369 / 663 (thread    4) f\b\b\r",
      "STEP   365 / 663 (thread    5) f\b\b\r",
      "STEP   370 / 663 (thread    1) f\b\b\r",
      "STEP   371 / 663 (thread    4) f\b\b\r",
      "STEP   372 / 663 (thread    5) f\b\b\r",
      "STEP   374 / 663 (thread    3) f\b\b\r",
      "STEP   373 / 663 (thread    1) f\b\b\r",
      "STEP   376 / 663 (thread    5) f\b\b\r",
      "STEP   377 / 663 (thread    2) f\b\b\r",
      "STEP   366 / 663 (thread    0) f\b\b\r",
      "STEP   379 / 663 (thread    3) f\b\b\r",
      "STEP   380 / 663 (thread    2) f\b\b\r",
      "STEP   381 / 663 (thread    5) f\b\b\r",
      "STEP   382 / 663 (thread    5) f\b\b\r",
      "STEP   383 / 663 (thread    3) f\b\b\r",
      "STEP   385 / 663 (thread    0) f\b\b\r",
      "STEP   375 / 663 (thread    4) f\b\b\r",
      "STEP   386 / 663 (thread    3) f\b\b\r",
      "STEP   387 / 663 (thread    3) f\b\b\r",
      "STEP   388 / 663 (thread    0) f\b\b\r",
      "STEP   389 / 663 (thread    5) f\b\b\r",
      "STEP   390 / 663 (thread    5) f\b\b\r",
      "STEP   391 / 663 (thread    3) f\b\b\r",
      "STEP   392 / 663 (thread    0) f\b\b\r",
      "STEP   378 / 663 (thread    1) f\b\b\r",
      "STEP   394 / 663 (thread    5) f\b\b\r",
      "STEP   395 / 663 (thread    3) f\b\b\r",
      "STEP   396 / 663 (thread    5) f\b\b\r",
      "STEP   397 / 663 (thread    0) f\b\b\r",
      "STEP   398 / 663 (thread    3) f\b\b\r",
      "STEP   399 / 663 (thread    0) f\b\b\r",
      "STEP   384 / 663 (thread    2) f\b\b\r",
      "STEP   400 / 663 (thread    1) f\b\b\r",
      "STEP   401 / 663 (thread    3) f\b\b\r",
      "STEP   402 / 663 (thread    0) f\b\b\r",
      "STEP   403 / 663 (thread    1) f\b\b\r",
      "STEP   404 / 663 (thread    5) f\b\b\r",
      "STEP   405 / 663 (thread    3) f\b\b\r",
      "STEP   406 / 663 (thread    0) f\b\b\r",
      "STEP   407 / 663 (thread    1) f\b\b\r",
      "STEP   393 / 663 (thread    4) f\b\b\r",
      "STEP   409 / 663 (thread    0) f\b\b\r",
      "STEP   410 / 663 (thread    3) f\b\b\r",
      "STEP   411 / 663 (thread    1) f\b\b\r",
      "STEP   412 / 663 (thread    5) f\b\b\r",
      "STEP   415 / 663 (thread    5) f\b\b\r",
      "STEP   417 / 663 (thread    5) f\b\b\r",
      "STEP   418 / 663 (thread    4) f\b\b\r",
      "STEP   408 / 663 (thread    2) f\b\b\r",
      "STEP   419 / 663 (thread    5) f\b\b\r",
      "STEP   420 / 663 (thread    4) f\b\b\r",
      "STEP   421 / 663 (thread    4) f\b\b\r",
      "STEP   422 / 663 (thread    5) f\b\b\r",
      "STEP   423 / 663 (thread    2) f\b\b\r",
      "STEP   413 / 663 (thread    3) f\b\b\r",
      "STEP   424 / 663 (thread    5) f\b\b\r",
      "STEP   426 / 663 (thread    2) f\b\b\r",
      "STEP   427 / 663 (thread    5) f\b\b\r",
      "STEP   428 / 663 (thread    2) f\b\b\r",
      "STEP   429 / 663 (thread    3) f\b\b\r",
      "STEP   414 / 663 (thread    0) f\b\b\r",
      "STEP   430 / 663 (thread    5) f\b\b\r",
      "STEP   431 / 663 (thread    2) f\b\b\r",
      "STEP   432 / 663 (thread    2) f\b\b\r",
      "STEP   434 / 663 (thread    5) f\b\b\r",
      "STEP   435 / 663 (thread    2) f\b\b\r",
      "STEP   436 / 663 (thread    5) f\b\b\r",
      "STEP   437 / 663 (thread    2) f\b\b\r",
      "STEP   416 / 663 (thread    1) f\b\b\r",
      "STEP   438 / 663 (thread    0) f\b\b\r",
      "STEP   439 / 663 (thread    5) f\b\b\r",
      "STEP   441 / 663 (thread    0) f\b\b\r",
      "STEP   442 / 663 (thread    5) f\b\b\r",
      "STEP   443 / 663 (thread    0) f\b\b\r",
      "STEP   444 / 663 (thread    5) f\b\b\r",
      "STEP   445 / 663 (thread    1) f\b\b\r",
      "STEP   425 / 663 (thread    4) f\b\b\r",
      "STEP   446 / 663 (thread    0) f\b\b\r",
      "STEP   447 / 663 (thread    5) f\b\b\r",
      "STEP   449 / 663 (thread    1) f\b\b\r",
      "STEP   450 / 663 (thread    5) f\b\b\r",
      "STEP   452 / 663 (thread    5) f\b\b\r",
      "STEP   433 / 663 (thread    3) f\b\b\r",
      "STEP   453 / 663 (thread    4) f\b\b\r",
      "STEP   454 / 663 (thread    4) f\b\b\r",
      "STEP   455 / 663 (thread    5) f\b\b\r",
      "STEP   456 / 663 (thread    4) f\b\b\r",
      "STEP   457 / 663 (thread    5) f\b\b\r",
      "STEP   440 / 663 (thread    2) f\b\b\r",
      "STEP   459 / 663 (thread    4) f\b\b\r",
      "STEP   460 / 663 (thread    5) f\b\b\r",
      "STEP   461 / 663 (thread    4) f\b\b\r",
      "STEP   462 / 663 (thread    5) f\b\b\r",
      "STEP   463 / 663 (thread    4) f\b\b\r",
      "STEP   464 / 663 (thread    2) f\b\b\r",
      "STEP   448 / 663 (thread    0) f\b\b\r",
      "STEP   465 / 663 (thread    5) f\b\b\r",
      "STEP   466 / 663 (thread    4) f\b\b\r",
      "STEP   467 / 663 (thread    5) f\b\b\r",
      "STEP   469 / 663 (thread    4) f\b\b\r",
      "STEP   451 / 663 (thread    1) f\b\b\r",
      "STEP   470 / 663 (thread    4) f\b\b\r",
      "STEP   471 / 663 (thread    0) f\b\b\r",
      "STEP   472 / 663 (thread    5) f\b\b\r",
      "STEP   473 / 663 (thread    0) f\b\b\r",
      "STEP   474 / 663 (thread    4) f\b\b\r",
      "STEP   475 / 663 (thread    5) f\b\b\r",
      "STEP   476 / 663 (thread    0) f\b\b\r",
      "STEP   458 / 663 (thread    3) f\b\b\r",
      "STEP   478 / 663 (thread    5) f\b\b\r",
      "STEP   479 / 663 (thread    0) f\b\b\r",
      "STEP   480 / 663 (thread    4) f\b\b\r",
      "STEP   481 / 663 (thread    5) f\b\b\r",
      "STEP   483 / 663 (thread    5) f\b\b\r",
      "STEP   468 / 663 (thread    2) f\b\b\r",
      "STEP   485 / 663 (thread    4) f\b\b\r",
      "STEP   482 / 663 (thread    0) f\b\b\r",
      "STEP   486 / 663 (thread    5) f\b\b\r",
      "STEP   487 / 663 (thread    4) f\b\b\r",
      "STEP   488 / 663 (thread    0) f\b\b\r",
      "STEP   489 / 663 (thread    5) f\b\b\r",
      "STEP   477 / 663 (thread    1) f\b\b\r",
      "STEP   491 / 663 (thread    0) f\b\b\r",
      "STEP   492 / 663 (thread    4) f\b\b\r",
      "STEP   493 / 663 (thread    5) f\b\b\r",
      "STEP   494 / 663 (thread    5) f\b\b\r",
      "STEP   495 / 663 (thread    0) f\b\b\r",
      "STEP   496 / 663 (thread    4) f\b\b\r",
      "STEP   497 / 663 (thread    5) f\b\b\r",
      "STEP   484 / 663 (thread    3) f\b\b\r",
      "STEP   499 / 663 (thread    1) f\b\b\r",
      "STEP   500 / 663 (thread    5) f\b\b\r",
      "STEP   501 / 663 (thread    4) f\b\b\r",
      "STEP   490 / 663 (thread    2) f\b\b\r",
      "STEP   498 / 663 (thread    0) f\b\b\r",
      "STEP   601 / 663 (thread    3) f\b\b"
     ]
    },
    {
     "name": "stderr",
     "output_type": "stream",
     "text": [
      "\n",
      "done.\n",
      "\n",
      "Making a distance matrix from msa.. \n",
      "\r",
      "    0 / 664 (thread    0)\r",
      "  100 / 664 (thread    2)\r",
      "  200 / 664 (thread    1)\r",
      "  300 / 664 (thread    3)\r",
      "  400 / 664 (thread    2)\r",
      "  500 / 664 (thread    5)\r",
      "  600 / 664 (thread    2)\n",
      "done.\n",
      "\n",
      "Constructing a UPGMA tree (efffree=1) ... \n",
      "\r",
      "    0 / 664\r",
      "   10 / 664\r",
      "   20 / 664\r",
      "   30 / 664\r",
      "   40 / 664\r",
      "   50 / 664\r",
      "   60 / 664\r",
      "   70 / 664\r",
      "   80 / 664\r",
      "   90 / 664\r",
      "  100 / 664\r",
      "  110 / 664\r",
      "  120 / 664\r",
      "  130 / 664\r",
      "  140 / 664\r",
      "  150 / 664\r",
      "  160 / 664\r",
      "  170 / 664\r",
      "  180 / 664\r",
      "  190 / 664\r",
      "  200 / 664\r",
      "  210 / 664\r",
      "  220 / 664\r",
      "  230 / 664\r",
      "  240 / 664\r",
      "  250 / 664\r",
      "  260 / 664\r",
      "  270 / 664\r",
      "  280 / 664\r",
      "  290 / 664\r",
      "  300 / 664\r",
      "  310 / 664\r",
      "  320 / 664\r",
      "  330 / 664\r",
      "  340 / 664\r",
      "  350 / 664\r",
      "  360 / 664\r",
      "  370 / 664\r",
      "  380 / 664\r",
      "  390 / 664\r",
      "  400 / 664\r",
      "  410 / 664\r",
      "  420 / 664\r",
      "  430 / 664\r",
      "  440 / 664\r",
      "  450 / 664\r",
      "  460 / 664\r",
      "  470 / 664\r",
      "  480 / 664\r",
      "  490 / 664\r",
      "  500 / 664\r",
      "  510 / 664\r",
      "  520 / 664\r",
      "  530 / 664\r",
      "  540 / 664\r",
      "  550 / 664\r",
      "  560 / 664\r",
      "  570 / 664\r",
      "  580 / 664\r",
      "  590 / 664\r",
      "  600 / 664\r",
      "  610 / 664\r",
      "  620 / 664\r",
      "  630 / 664\r",
      "  640 / 664\r",
      "  650 / 664\r",
      "  660 / 664\n",
      "done.\n",
      "\n",
      "Progressive alignment 2/2... \n",
      "\r",
      "STEP     1 / 663 (thread    0) f\b\b\r",
      "STEP     2 / 663 (thread    4) f\b\b\r",
      "STEP     3 / 663 (thread    3) f\b\b\r",
      "STEP     4 / 663 (thread    2) f\b\b\r",
      "STEP     5 / 663 (thread    1) f\b\b\r",
      "STEP     6 / 663 (thread    5) f\b\b\r",
      "STEP     7 / 663 (thread    4) f\b\b\r",
      "STEP     8 / 663 (thread    5) f\b\b\r",
      "STEP     9 / 663 (thread    2) f\b\b\r",
      "STEP    10 / 663 (thread    0) f\b\b\r",
      "STEP    11 / 663 (thread    3) f\b\b\r",
      "STEP    12 / 663 (thread    1) f\b\b\r",
      "STEP    13 / 663 (thread    4) f\b\b\r",
      "STEP    14 / 663 (thread    5) f\b\b\r",
      "STEP    15 / 663 (thread    2) f\b\b\r",
      "STEP    16 / 663 (thread    0) f\b\b\r",
      "STEP    17 / 663 (thread    3) f\b\b\r",
      "STEP    18 / 663 (thread    1) f\b\b\r",
      "STEP    19 / 663 (thread    5) f\b\b\r",
      "STEP    20 / 663 (thread    4) f\b\b\r",
      "STEP    21 / 663 (thread    2) f\b\b\r",
      "STEP    22 / 663 (thread    0) f\b\b\r",
      "STEP    23 / 663 (thread    3) f\b\b\r",
      "STEP    24 / 663 (thread    1) f\b\b\r",
      "STEP    25 / 663 (thread    5) f\b\b\r",
      "STEP    26 / 663 (thread    4) f\b\b\r",
      "STEP    27 / 663 (thread    2) f\b\b\r",
      "STEP    28 / 663 (thread    0) f\b\b\r",
      "STEP    29 / 663 (thread    3) f\b\b\r",
      "STEP    30 / 663 (thread    1) f\b\b\r",
      "STEP    31 / 663 (thread    5) f\b\b\r",
      "STEP    32 / 663 (thread    4) f\b\b\r",
      "STEP    33 / 663 (thread    2) f\b\b\r",
      "STEP    34 / 663 (thread    0) f\b\b\r",
      "STEP    35 / 663 (thread    3) f\b\b\r",
      "STEP    36 / 663 (thread    1) f\b\b\r",
      "STEP    37 / 663 (thread    5) f\b\b\r",
      "STEP    38 / 663 (thread    4) f\b\b\r",
      "STEP    39 / 663 (thread    2) f\b\b\r",
      "STEP    40 / 663 (thread    0) f\b\b\r",
      "STEP    41 / 663 (thread    3) f\b\b\r",
      "STEP    42 / 663 (thread    1) f\b\b\r",
      "STEP    43 / 663 (thread    5) f\b\b\r",
      "STEP    44 / 663 (thread    4) f\b\b\r",
      "STEP    45 / 663 (thread    2) f\b\b\r",
      "STEP    46 / 663 (thread    0) f\b\b\r",
      "STEP    47 / 663 (thread    3) f\b\b\r",
      "STEP    48 / 663 (thread    1) f\b\b\r",
      "STEP    49 / 663 (thread    5) f\b\b\r",
      "STEP    50 / 663 (thread    4) f\b\b\r",
      "STEP    51 / 663 (thread    2) f\b\b\r",
      "STEP    52 / 663 (thread    0) f\b\b\r",
      "STEP    53 / 663 (thread    3) f\b\b\r",
      "STEP    54 / 663 (thread    1) f\b\b\r",
      "STEP    55 / 663 (thread    4) f\b\b\r",
      "STEP    56 / 663 (thread    5) f\b\b\r",
      "STEP    57 / 663 (thread    2) f\b\b\r",
      "STEP    58 / 663 (thread    0) f\b\b\r",
      "STEP    62 / 663 (thread    2) f\b\b\r",
      "STEP    63 / 663 (thread    5) f\b\b\r",
      "STEP    64 / 663 (thread    0) f\b\b\r",
      "STEP    59 / 663 (thread    1) f\b\b\r",
      "STEP    65 / 663 (thread    2) f\b\b\r",
      "STEP    66 / 663 (thread    5) f\b\b\r",
      "STEP    67 / 663 (thread    0) f\b\b\r",
      "STEP    68 / 663 (thread    2) f\b\b\r",
      "STEP    69 / 663 (thread    5) f\b\b\r",
      "STEP    70 / 663 (thread    0) f\b\b\r",
      "STEP    60 / 663 (thread    3) f\b\b\r",
      "STEP    72 / 663 (thread    0) f\b\b\r",
      "STEP    71 / 663 (thread    1) f\b\b\r",
      "STEP    73 / 663 (thread    2) f\b\b\r",
      "STEP    74 / 663 (thread    5) f\b\b\r",
      "STEP    75 / 663 (thread    0) f\b\b\r",
      "STEP    76 / 663 (thread    3) f\b\b\r",
      "STEP    61 / 663 (thread    4) f\b\b\r",
      "STEP    77 / 663 (thread    2) f\b\b\r",
      "STEP    78 / 663 (thread    5) f\b\b\r",
      "STEP    79 / 663 (thread    0) f\b\b\r",
      "STEP    80 / 663 (thread    1) f\b\b\r",
      "STEP    81 / 663 (thread    3) f\b\b\r",
      "STEP    82 / 663 (thread    2) f\b\b\r",
      "STEP    83 / 663 (thread    5) f\b\b\r",
      "STEP    84 / 663 (thread    3) f\b\b\r",
      "STEP    85 / 663 (thread    4) f\b\b\r",
      "STEP    86 / 663 (thread    5) f\b\b\r",
      "STEP    87 / 663 (thread    0) f\b\b\r",
      "STEP    88 / 663 (thread    3) f\b\b\r",
      "STEP    89 / 663 (thread    1) f\b\b\r",
      "STEP    90 / 663 (thread    4) f\b\b\r",
      "STEP    91 / 663 (thread    5) f\b\b\r",
      "STEP    92 / 663 (thread    2) f\b\b\r",
      "STEP    93 / 663 (thread    0) f\b\b\r",
      "STEP    94 / 663 (thread    3) f\b\b\r",
      "STEP    95 / 663 (thread    1) f\b\b\r",
      "STEP    96 / 663 (thread    4) f\b\b\r",
      "STEP    97 / 663 (thread    5) f\b\b\r",
      "STEP    98 / 663 (thread    2) f\b\b\r",
      "STEP    99 / 663 (thread    0) f\b\b\r",
      "STEP   100 / 663 (thread    1) f\b\b\r",
      "STEP   101 / 663 (thread    4) f\b\b\r",
      "STEP   102 / 663 (thread    5) f\b\b\r",
      "STEP   103 / 663 (thread    2) f\b\b\r",
      "STEP   104 / 663 (thread    0) f\b\b\r",
      "STEP   105 / 663 (thread    1) f\b\b\r",
      "STEP   106 / 663 (thread    3) f\b\b\r",
      "STEP   107 / 663 (thread    4) f\b\b\r",
      "STEP   108 / 663 (thread    5) f\b\b\r",
      "STEP   109 / 663 (thread    2) f\b\b\r",
      "STEP   110 / 663 (thread    0) f\b\b\r",
      "STEP   111 / 663 (thread    4) f\b\b\r",
      "STEP   112 / 663 (thread    2) f\b\b\r",
      "STEP   113 / 663 (thread    1) f\b\b\r",
      "STEP   114 / 663 (thread    3) f\b\b\r",
      "STEP   115 / 663 (thread    5) f\b\b\r",
      "STEP   116 / 663 (thread    2) f\b\b\r",
      "STEP   117 / 663 (thread    1) f\b\b\r",
      "STEP   118 / 663 (thread    0) f\b\b\r",
      "STEP   119 / 663 (thread    3) f\b\b\r",
      "STEP   120 / 663 (thread    4) f\b\b\r",
      "STEP   121 / 663 (thread    5) f\b\b\r",
      "STEP   122 / 663 (thread    2) f\b\b\r",
      "STEP   123 / 663 (thread    1) f\b\b\r",
      "STEP   124 / 663 (thread    3) f\b\b\r",
      "STEP   125 / 663 (thread    2) f\b\b\r",
      "STEP   126 / 663 (thread    3) f\b\b\r",
      "STEP   127 / 663 (thread    0) f\b\b\r",
      "STEP   128 / 663 (thread    4) f\b\b\r",
      "STEP   129 / 663 (thread    2) f\b\b\r",
      "STEP   130 / 663 (thread    5) f\b\b\r",
      "STEP   131 / 663 (thread    3) f\b\b\r",
      "STEP   132 / 663 (thread    1) f\b\b\r",
      "STEP   133 / 663 (thread    3) f\b\b\r",
      "STEP   134 / 663 (thread    0) f\b\b\r",
      "STEP   135 / 663 (thread    4) f\b\b\r",
      "STEP   136 / 663 (thread    2) f\b\b\r",
      "STEP   137 / 663 (thread    5) f\b\b\r",
      "STEP   138 / 663 (thread    0) f\b\b\r",
      "STEP   139 / 663 (thread    1) f\b\b\r",
      "STEP   140 / 663 (thread    4) f\b\b\r",
      "STEP   141 / 663 (thread    2) f\b\b\r",
      "STEP   143 / 663 (thread    1) f\b\b\r",
      "STEP   144 / 663 (thread    3) f\b\b\r",
      "STEP   146 / 663 (thread    1) f\b\b\r",
      "STEP   145 / 663 (thread    5) f\b\b\r",
      "STEP   147 / 663 (thread    3) f\b\b\r",
      "STEP   148 / 663 (thread    4) f\b\b\r",
      "STEP   142 / 663 (thread    0) f\b\b\r",
      "STEP   149 / 663 (thread    2) f\b\b\r",
      "STEP   150 / 663 (thread    1) f\b\b\r",
      "STEP   151 / 663 (thread    2) f\b\b\r",
      "STEP   152 / 663 (thread    1) f\b\b\r",
      "STEP   153 / 663 (thread    5) f\b\b\r",
      "STEP   154 / 663 (thread    0) f\b\b\r",
      "STEP   155 / 663 (thread    4) f\b\b\r",
      "STEP   156 / 663 (thread    2) f\b\b\r",
      "STEP   157 / 663 (thread    1) f\b\b\r",
      "STEP   158 / 663 (thread    3) f\b\b\r",
      "STEP   159 / 663 (thread    5) f\b\b\r",
      "STEP   160 / 663 (thread    0) f\b\b\r",
      "STEP   161 / 663 (thread    4) f\b\b\r",
      "STEP   162 / 663 (thread    3) f\b\b\r",
      "STEP   163 / 663 (thread    0) f\b\b\r",
      "STEP   164 / 663 (thread    2) f\b\b\r",
      "STEP   165 / 663 (thread    1) f\b\b\r",
      "STEP   166 / 663 (thread    5) f\b\b\r",
      "STEP   167 / 663 (thread    4) f\b\b\r",
      "STEP   168 / 663 (thread    3) f\b\b\r",
      "STEP   169 / 663 (thread    0) f\b\b\r",
      "STEP   170 / 663 (thread    4) f\b\b\r",
      "STEP   171 / 663 (thread    2) f\b\b\r",
      "STEP   172 / 663 (thread    1) f\b\b\r",
      "STEP   173 / 663 (thread    5) f\b\b\r",
      "STEP   174 / 663 (thread    0) f\b\b\r",
      "STEP   175 / 663 (thread    2) f\b\b\r",
      "STEP   176 / 663 (thread    1) f\b\b\r",
      "STEP   177 / 663 (thread    3) f\b\b\r",
      "STEP   178 / 663 (thread    4) f\b\b\r",
      "STEP   179 / 663 (thread    5) f\b\b\r",
      "STEP   180 / 663 (thread    0) f\b\b\r",
      "STEP   181 / 663 (thread    3) f\b\b\r",
      "STEP   182 / 663 (thread    2) f\b\b\r",
      "STEP   183 / 663 (thread    1) f\b\b\r",
      "STEP   184 / 663 (thread    2) f\b\b\r",
      "STEP   185 / 663 (thread    3) f\b\b\r",
      "STEP   186 / 663 (thread    4) f\b\b\r",
      "STEP   187 / 663 (thread    1) f\b\b\r",
      "STEP   188 / 663 (thread    5) f\b\b\r",
      "STEP   189 / 663 (thread    3) f\b\b\r",
      "STEP   190 / 663 (thread    4) f\b\b\r",
      "STEP   191 / 663 (thread    5) f\b\b\r",
      "STEP   192 / 663 (thread    0) f\b\b\r",
      "STEP   193 / 663 (thread    2) f\b\b\r",
      "STEP   194 / 663 (thread    1) f\b\b\r",
      "STEP   195 / 663 (thread    4) f\b\b\r",
      "STEP   196 / 663 (thread    3) f\b\b\r",
      "STEP   197 / 663 (thread    5) f\b\b\r",
      "STEP   198 / 663 (thread    0) f\b\b\r",
      "STEP   199 / 663 (thread    2) f\b\b\r",
      "STEP   200 / 663 (thread    1) f\b\b\r",
      "STEP   201 / 663 (thread    4) f\b\b\r",
      "STEP   202 / 663 (thread    3) f\b\b\r",
      "STEP   203 / 663 (thread    5) f\b\b\r",
      "STEP   204 / 663 (thread    2) f\b\b\r",
      "STEP   205 / 663 (thread    3) f\b\b\r",
      "STEP   206 / 663 (thread    1) f\b\b\r",
      "STEP   207 / 663 (thread    0) f\b\b\r",
      "STEP   208 / 663 (thread    4) f\b\b\r",
      "STEP   209 / 663 (thread    2) f\b\b\r",
      "STEP   210 / 663 (thread    3) f\b\b\r",
      "STEP   211 / 663 (thread    5) f\b\b\r",
      "STEP   212 / 663 (thread    1) f\b\b\r",
      "STEP   213 / 663 (thread    0) f\b\b\r",
      "STEP   214 / 663 (thread    4) f\b\b\r",
      "STEP   215 / 663 (thread    2) f\b\b\r",
      "STEP   216 / 663 (thread    3) f\b\b\r",
      "STEP   217 / 663 (thread    5) f\b\b\r",
      "STEP   218 / 663 (thread    0) f\b\b\r",
      "STEP   219 / 663 (thread    4) f\b\b\r",
      "STEP   220 / 663 (thread    1) f\b\b\r",
      "STEP   221 / 663 (thread    2) f\b\b\r",
      "STEP   222 / 663 (thread    5) f\b\b\r",
      "STEP   223 / 663 (thread    3) f\b\b\r",
      "STEP   225 / 663 (thread    0) f\b\b\r",
      "STEP   226 / 663 (thread    3) f\b\b\r",
      "STEP   227 / 663 (thread    4) f\b\b\r",
      "STEP   228 / 663 (thread    1) f\b\b\r",
      "STEP   224 / 663 (thread    5) f\b\b\r",
      "STEP   229 / 663 (thread    2) f\b\b\r",
      "STEP   230 / 663 (thread    0) f\b\b\r",
      "STEP   231 / 663 (thread    4) f\b\b\r",
      "STEP   232 / 663 (thread    3) f\b\b\r",
      "STEP   233 / 663 (thread    1) f\b\b\r",
      "STEP   234 / 663 (thread    3) f\b\b\r",
      "STEP   235 / 663 (thread    2) f\b\b\r",
      "STEP   237 / 663 (thread    1) f\b\b\r",
      "STEP   236 / 663 (thread    4) f\b\b\r",
      "STEP   239 / 663 (thread    0) f\b\b\r",
      "STEP   238 / 663 (thread    5) f\b\b\r",
      "STEP   240 / 663 (thread    3) f\b\b\r",
      "STEP   241 / 663 (thread    2) f\b\b\r",
      "STEP   243 / 663 (thread    4) f\b\b\r",
      "STEP   244 / 663 (thread    0) f\b\b\r",
      "STEP   245 / 663 (thread    5) f\b\b\r",
      "STEP   246 / 663 (thread    3) f\b\b\r",
      "STEP   242 / 663 (thread    1) f\b\b\r",
      "STEP   247 / 663 (thread    2) f\b\b\r",
      "STEP   248 / 663 (thread    4) f\b\b\r",
      "STEP   249 / 663 (thread    0) f\b\b\r",
      "STEP   250 / 663 (thread    5) f\b\b\r",
      "STEP   251 / 663 (thread    3) f\b\b\r",
      "STEP   252 / 663 (thread    1) f\b\b\r",
      "STEP   253 / 663 (thread    4) f\b\b\r",
      "STEP   254 / 663 (thread    2) f\b\b\r",
      "STEP   255 / 663 (thread    0) f\b\b\r",
      "STEP   256 / 663 (thread    5) f\b\b\r",
      "STEP   257 / 663 (thread    3) f\b\b\r",
      "STEP   258 / 663 (thread    1) f\b\b\r",
      "STEP   259 / 663 (thread    4) f\b\b\r",
      "STEP   260 / 663 (thread    2) f\b\b\r",
      "STEP   261 / 663 (thread    0) f\b\b\r",
      "STEP   262 / 663 (thread    5) f\b\b\r",
      "STEP   263 / 663 (thread    3) f\b\b\r",
      "STEP   264 / 663 (thread    1) f\b\b\r",
      "STEP   265 / 663 (thread    4) f\b\b\r",
      "STEP   266 / 663 (thread    2) f\b\b\r",
      "STEP   267 / 663 (thread    0) f\b\b\r",
      "STEP   268 / 663 (thread    3) f\b\b\r",
      "STEP   269 / 663 (thread    1) f\b\b\r",
      "STEP   270 / 663 (thread    5) f\b\b\r",
      "STEP   271 / 663 (thread    4) f\b\b\r",
      "STEP   272 / 663 (thread    2) f\b\b\r",
      "STEP   273 / 663 (thread    0) f\b\b\r",
      "STEP   274 / 663 (thread    3) f\b\b\r",
      "STEP   275 / 663 (thread    1) f\b\b\r",
      "STEP   276 / 663 (thread    4) f\b\b\r",
      "STEP   277 / 663 (thread    2) f\b\b\r",
      "STEP   278 / 663 (thread    5) f\b\b\r",
      "STEP   279 / 663 (thread    4) f\b\b\r",
      "STEP   280 / 663 (thread    0) f\b\b\r",
      "STEP   281 / 663 (thread    3) f\b\b\r",
      "STEP   282 / 663 (thread    1) f\b\b\r",
      "STEP   283 / 663 (thread    5) f\b\b\r",
      "STEP   284 / 663 (thread    2) f\b\b\r",
      "STEP   285 / 663 (thread    4) f\b\b\r",
      "STEP   286 / 663 (thread    4) f\b\b\r",
      "STEP   287 / 663 (thread    0) f\b\b\r",
      "STEP   288 / 663 (thread    1) f\b\b\r",
      "STEP   289 / 663 (thread    5) f\b\b\r",
      "STEP   292 / 663 (thread    4) f\b\b\r",
      "STEP   294 / 663 (thread    5) f\b\b\r",
      "STEP   295 / 663 (thread    0) f\b\b\r",
      "STEP   291 / 663 (thread    3) f\b\b\r",
      "STEP   290 / 663 (thread    2) f\b\b\r",
      "STEP   296 / 663 (thread    4) f\b\b\r",
      "STEP   297 / 663 (thread    5) f\b\b\r",
      "STEP   298 / 663 (thread    2) f\b\b\r",
      "STEP   299 / 663 (thread    3) f\b\b\r",
      "STEP   293 / 663 (thread    1) f\b\b\r",
      "STEP   300 / 663 (thread    0) f\b\b\r",
      "STEP   301 / 663 (thread    4) f\b\b\r",
      "STEP   302 / 663 (thread    3) f\b\b\r",
      "STEP   303 / 663 (thread    0) f\b\b\r",
      "STEP   305 / 663 (thread    2) f\b\b\r",
      "STEP   306 / 663 (thread    1) f\b\b\r",
      "STEP   307 / 663 (thread    3) f\b\b\r",
      "STEP   308 / 663 (thread    2) f\b\b\r",
      "STEP   309 / 663 (thread    4) f\b\b\r",
      "STEP   304 / 663 (thread    5) f\b\b\r",
      "STEP   310 / 663 (thread    0) f\b\b\r",
      "STEP   311 / 663 (thread    3) f\b\b\r",
      "STEP   312 / 663 (thread    2) f\b\b\r",
      "STEP   313 / 663 (thread    0) f\b\b\r",
      "STEP   314 / 663 (thread    4) f\b\b\r",
      "STEP   316 / 663 (thread    1) f\b\b\r",
      "STEP   317 / 663 (thread    2) f\b\b\r",
      "STEP   318 / 663 (thread    3) f\b\b\r",
      "STEP   315 / 663 (thread    5) f\b\b\r",
      "STEP   319 / 663 (thread    0) f\b\b\r",
      "STEP   320 / 663 (thread    2) f\b\b\r",
      "STEP   321 / 663 (thread    1) f\b\b\r",
      "STEP   322 / 663 (thread    4) f\b\b\r",
      "STEP   323 / 663 (thread    0) f\b\b\r",
      "STEP   324 / 663 (thread    5) f\b\b\r",
      "STEP   325 / 663 (thread    3) f\b\b\r",
      "STEP   326 / 663 (thread    2) f\b\b\r",
      "STEP   327 / 663 (thread    4) f\b\b\r",
      "STEP   328 / 663 (thread    5) f\b\b\r",
      "STEP   329 / 663 (thread    0) f\b\b\r",
      "STEP   330 / 663 (thread    1) f\b\b\r",
      "STEP   331 / 663 (thread    3) f\b\b\r",
      "STEP   332 / 663 (thread    2) f\b\b\r",
      "STEP   333 / 663 (thread    4) f\b\b\r",
      "STEP   334 / 663 (thread    0) f\b\b\r",
      "STEP   335 / 663 (thread    5) f\b\b\r",
      "STEP   336 / 663 (thread    1) f\b\b\r",
      "STEP   337 / 663 (thread    3) f\b\b\r",
      "STEP   338 / 663 (thread    2) f\b\b\r",
      "STEP   339 / 663 (thread    5) f\b\b\r",
      "STEP   340 / 663 (thread    4) f\b\b\r",
      "STEP   341 / 663 (thread    0) f\b\b\r",
      "STEP   342 / 663 (thread    1) f\b\b\r",
      "STEP   343 / 663 (thread    3) f\b\b\r",
      "STEP   344 / 663 (thread    0) f\b\b\r",
      "STEP   345 / 663 (thread    4) f\b\b\r",
      "STEP   346 / 663 (thread    2) f\b\b\r",
      "STEP   348 / 663 (thread    5) f\b\b\r",
      "STEP   347 / 663 (thread    0) f\b\b\r",
      "STEP   349 / 663 (thread    4) f\b\b\r",
      "STEP   351 / 663 (thread    2) f\b\b\r",
      "STEP   352 / 663 (thread    0) f\b\b\r",
      "STEP   353 / 663 (thread    5) f\b\b\r",
      "STEP   350 / 663 (thread    3) f\b\b\r",
      "STEP   354 / 663 (thread    5) f\b\b\r",
      "STEP   355 / 663 (thread    4) f\b\b\r",
      "STEP   356 / 663 (thread    1) f\b\b\r",
      "STEP   357 / 663 (thread    2) f\b\b\r",
      "STEP   358 / 663 (thread    0) f\b\b\r",
      "STEP   359 / 663 (thread    3) f\b\b\r",
      "STEP   360 / 663 (thread    5) f\b\b\r",
      "STEP   361 / 663 (thread    4) f\b\b\r",
      "STEP   362 / 663 (thread    2) f\b\b\r",
      "STEP   363 / 663 (thread    1) f\b\b\r",
      "STEP   364 / 663 (thread    0) f\b\b\r",
      "STEP   366 / 663 (thread    2) f\b\b\r",
      "STEP   367 / 663 (thread    4) f\b\b\r",
      "STEP   368 / 663 (thread    1) f\b\b\r",
      "STEP   369 / 663 (thread    0) f\b\b\r",
      "STEP   370 / 663 (thread    4) f\b\b\r",
      "STEP   365 / 663 (thread    5) f\b\b\r",
      "STEP   372 / 663 (thread    1) f\b\b\r",
      "STEP   373 / 663 (thread    2) f\b\b\r",
      "STEP   374 / 663 (thread    0) f\b\b\r",
      "STEP   376 / 663 (thread    2) f\b\b\r",
      "STEP   377 / 663 (thread    0) f\b\b\r",
      "STEP   378 / 663 (thread    1) f\b\b\r",
      "STEP   379 / 663 (thread    2) f\b\b\r",
      "STEP   380 / 663 (thread    2) f\b\b\r",
      "STEP   381 / 663 (thread    1) f\b\b\r",
      "STEP   382 / 663 (thread    5) f\b\b\r",
      "STEP   371 / 663 (thread    3) f\b\b\r",
      "STEP   383 / 663 (thread    0) f\b\b\r",
      "STEP   384 / 663 (thread    1) f\b\b\r",
      "STEP   385 / 663 (thread    2) f\b\b\r",
      "STEP   386 / 663 (thread    0) f\b\b\r",
      "STEP   387 / 663 (thread    1) f\b\b\r",
      "STEP   388 / 663 (thread    5) f\b\b\r",
      "STEP   390 / 663 (thread    5) f\b\b\r",
      "STEP   391 / 663 (thread    1) f\b\b\r",
      "STEP   392 / 663 (thread    0) f\b\b\r",
      "STEP   393 / 663 (thread    3) f\b\b\r",
      "STEP   375 / 663 (thread    4) f\b\b\r",
      "STEP   394 / 663 (thread    5) f\b\b\r",
      "STEP   395 / 663 (thread    0) f\b\b\r",
      "STEP   397 / 663 (thread    1) f\b\b\r",
      "STEP   398 / 663 (thread    5) f\b\b\r",
      "STEP   399 / 663 (thread    0) f\b\b\r",
      "STEP   401 / 663 (thread    4) f\b\b\r",
      "STEP   389 / 663 (thread    2) f\b\b\r",
      "STEP   403 / 663 (thread    4) f\b\b\r",
      "STEP   404 / 663 (thread    0) f\b\b\r",
      "STEP   400 / 663 (thread    1) f\b\b\r",
      "STEP   405 / 663 (thread    0) f\b\b\r",
      "STEP   406 / 663 (thread    1) f\b\b\r",
      "STEP   407 / 663 (thread    4) f\b\b\r",
      "STEP   408 / 663 (thread    2) f\b\b\r",
      "STEP   396 / 663 (thread    3) f\b\b\r",
      "STEP   409 / 663 (thread    1) f\b\b\r",
      "STEP   411 / 663 (thread    0) f\b\b\r",
      "STEP   413 / 663 (thread    1) f\b\b\r",
      "STEP   414 / 663 (thread    2) f\b\b\r",
      "STEP   415 / 663 (thread    3) f\b\b\r",
      "STEP   402 / 663 (thread    5) f\b\b\r",
      "STEP   416 / 663 (thread    2) f\b\b\r",
      "STEP   417 / 663 (thread    1) f\b\b\r",
      "STEP   418 / 663 (thread    2) f\b\b\r",
      "STEP   420 / 663 (thread    1) f\b\b\r",
      "STEP   421 / 663 (thread    2) f\b\b\r",
      "STEP   410 / 663 (thread    4) f\b\b\r",
      "STEP   422 / 663 (thread    5) f\b\b\r",
      "STEP   424 / 663 (thread    2) f\b\b\r",
      "STEP   425 / 663 (thread    5) f\b\b\r",
      "STEP   426 / 663 (thread    5) f\b\b\r",
      "STEP   427 / 663 (thread    4) f\b\b\r",
      "STEP   428 / 663 (thread    2) f\b\b\r",
      "STEP   412 / 663 (thread    0) f\b\b\r",
      "STEP   429 / 663 (thread    5) f\b\b\r",
      "STEP   430 / 663 (thread    2) f\b\b\r",
      "STEP   431 / 663 (thread    4) f\b\b\r",
      "STEP   432 / 663 (thread    2) f\b\b\r",
      "STEP   434 / 663 (thread    4) f\b\b\r",
      "STEP   435 / 663 (thread    2) f\b\b\r",
      "STEP   419 / 663 (thread    3) f\b\b\r",
      "STEP   436 / 663 (thread    0) f\b\b\r",
      "STEP   437 / 663 (thread    4) f\b\b\r",
      "STEP   438 / 663 (thread    2) f\b\b\r",
      "STEP   439 / 663 (thread    4) f\b\b\r",
      "STEP   441 / 663 (thread    0) f\b\b\r",
      "STEP   440 / 663 (thread    2) f\b\b\r",
      "STEP   442 / 663 (thread    4) f\b\b\r",
      "STEP   443 / 663 (thread    0) f\b\b\r",
      "STEP   445 / 663 (thread    3) f\b\b\r",
      "STEP   423 / 663 (thread    1) f\b\b\r",
      "STEP   446 / 663 (thread    0) f\b\b\r",
      "STEP   447 / 663 (thread    4) f\b\b\r",
      "STEP   448 / 663 (thread    3) f\b\b\r",
      "STEP   449 / 663 (thread    0) f\b\b\r",
      "STEP   450 / 663 (thread    4) f\b\b\r",
      "STEP   451 / 663 (thread    3) f\b\b\r",
      "STEP   452 / 663 (thread    4) f\b\b\r",
      "STEP   433 / 663 (thread    5) f\b\b\r",
      "STEP   454 / 663 (thread    0) f\b\b\r",
      "STEP   455 / 663 (thread    0) f\b\b\r",
      "STEP   457 / 663 (thread    4) f\b\b\r",
      "STEP   458 / 663 (thread    0) f\b\b\r",
      "STEP   459 / 663 (thread    5) f\b\b\r",
      "STEP   444 / 663 (thread    2) f\b\b\r",
      "STEP   460 / 663 (thread    4) f\b\b\r",
      "STEP   461 / 663 (thread    5) f\b\b\r",
      "STEP   462 / 663 (thread    0) f\b\b\r",
      "STEP   464 / 663 (thread    4) f\b\b\r",
      "STEP   465 / 663 (thread    0) f\b\b\r",
      "STEP   466 / 663 (thread    4) f\b\b\r",
      "STEP   467 / 663 (thread    2) f\b\b\r",
      "STEP   453 / 663 (thread    1) f\b\b\r",
      "STEP   468 / 663 (thread    0) f\b\b\r",
      "STEP   469 / 663 (thread    2) f\b\b\r",
      "STEP   470 / 663 (thread    4) f\b\b\r",
      "STEP   471 / 663 (thread    0) f\b\b\r",
      "STEP   472 / 663 (thread    4) f\b\b\r",
      "STEP   473 / 663 (thread    0) f\b\b\r",
      "STEP   474 / 663 (thread    2) f\b\b\r",
      "STEP   476 / 663 (thread    1) f\b\b\r",
      "STEP   456 / 663 (thread    3) f\b\b\r",
      "STEP   477 / 663 (thread    0) f\b\b\r",
      "STEP   479 / 663 (thread    0) f\b\b\r",
      "STEP   480 / 663 (thread    1) f\b\b\r",
      "STEP   481 / 663 (thread    0) f\b\b\r",
      "STEP   482 / 663 (thread    1) f\b\b\r",
      "STEP   483 / 663 (thread    3) f\b\b\r",
      "STEP   463 / 663 (thread    5) f\b\b\r",
      "STEP   484 / 663 (thread    1) f\b\b\r",
      "STEP   485 / 663 (thread    0) f\b\b\r",
      "STEP   486 / 663 (thread    1) f\b\b\r",
      "STEP   487 / 663 (thread    3) f\b\b\r",
      "STEP   488 / 663 (thread    0) f\b\b\r",
      "STEP   489 / 663 (thread    1) f\b\b\r",
      "STEP   490 / 663 (thread    3) f\b\b\r",
      "STEP   491 / 663 (thread    0) f\b\b\r",
      "STEP   475 / 663 (thread    4) f\b\b\r",
      "STEP   493 / 663 (thread    3) f\b\b\r",
      "STEP   494 / 663 (thread    0) f\b\b\r",
      "STEP   495 / 663 (thread    1) f\b\b\r",
      "STEP   497 / 663 (thread    3) f\b\b\r",
      "STEP   498 / 663 (thread    0) f\b\b\r",
      "STEP   478 / 663 (thread    2) f\b\b\r",
      "STEP   499 / 663 (thread    4) f\b\b\r",
      "STEP   500 / 663 (thread    3) f\b\b\r",
      "STEP   501 / 663 (thread    0) f\b\b\r",
      "STEP   492 / 663 (thread    5) f\b\b\r",
      "STEP   496 / 663 (thread    1) f\b\b\n",
      "Reallocating..done. *alloclen = 1869\n",
      "\r",
      "STEP   601 / 663 (thread    1) f\b\b"
     ]
    },
    {
     "name": "stderr",
     "output_type": "stream",
     "text": [
      "\n",
      "done.\n",
      "\n",
      "disttbfast (nuc) Version 7.520\n",
      "alg=A, model=DNA200 (2), 1.53 (4.59), -0.00 (-0.00), noshift, amax=0.0\n",
      "6 thread(s)\n",
      "\n",
      "\n",
      "Strategy:\n",
      " FFT-NS-2 (Fast but rough)\n",
      " Progressive method (guide trees were built 2 times.)\n",
      "\n",
      "If unsure which option to use, try 'mafft --auto input > output'.\n",
      "For more information, see 'mafft --help', 'mafft --man' and the mafft page.\n",
      "\n",
      "The default gap scoring scheme has been changed in version 7.110 (2013 Oct).\n",
      "It tends to insert more gaps into gap-rich regions than previous versions.\n",
      "To disable this change, add the --leavegappyregion option.\n",
      "\n"
     ]
    },
    {
     "name": "stdout",
     "output_type": "stream",
     "text": [
      "Running external command line application. This may print messages to stdout and/or stderr.\n",
      "The command being run is below. This command cannot be manually re-run as it will depend on temporary files that no longer exist.\n",
      "\n",
      "Command: FastTreeMP -quote -nt /tmp/qiime2/lauro/data/af31c80c-8173-43c6-a1d0-fa11961fe28d/data/aligned-dna-sequences.fasta\n",
      "\n"
     ]
    },
    {
     "name": "stderr",
     "output_type": "stream",
     "text": [
      "FastTree Version 2.1.11 Double precision (No SSE3), OpenMP (6 threads)\n",
      "Alignment: /tmp/qiime2/lauro/data/af31c80c-8173-43c6-a1d0-fa11961fe28d/data/aligned-dna-sequences.fasta\n",
      "Nucleotide distances: Jukes-Cantor Joins: balanced Support: SH-like 1000\n",
      "Search: Normal +NNI +SPR (2 rounds range 10) +ML-NNI opt-each=1\n",
      "TopHits: 1.00*sqrtN close=default refresh=0.80\n",
      "ML Model: Jukes-Cantor, CAT approximation with 20 rate categories\n",
      "      0.12 seconds: Joined    400 of    641\n",
      "Initial topology in 0.19 seconds\n",
      "Refining topology: 37 rounds ME-NNIs, 2 rounds ME-SPRs, 19 rounds ML-NNIs\n"
     ]
    },
    {
     "name": "stderr",
     "output_type": "stream",
     "text": [
      "      0.22 seconds: ME NNI round 4 of 37, 101 of 642 splits, 4 changes (max delta 0.005)\n",
      "      0.34 seconds: SPR round   1 of   2, 301 of 1286 nodes\n"
     ]
    },
    {
     "name": "stderr",
     "output_type": "stream",
     "text": [
      "      0.46 seconds: SPR round   1 of   2, 601 of 1286 nodes\n",
      "      0.58 seconds: SPR round   1 of   2, 901 of 1286 nodes\n"
     ]
    },
    {
     "name": "stderr",
     "output_type": "stream",
     "text": [
      "      0.68 seconds: SPR round   1 of   2, 1201 of 1286 nodes\n",
      "      0.81 seconds: SPR round   2 of   2, 201 of 1286 nodes\n"
     ]
    },
    {
     "name": "stderr",
     "output_type": "stream",
     "text": [
      "      0.92 seconds: SPR round   2 of   2, 501 of 1286 nodes\n",
      "      1.04 seconds: SPR round   2 of   2, 801 of 1286 nodes\n"
     ]
    },
    {
     "name": "stderr",
     "output_type": "stream",
     "text": [
      "      1.14 seconds: SPR round   2 of   2, 1101 of 1286 nodes\n",
      "Total branch-length 15.677 after 1.24 sec\n",
      "      1.25 seconds: ML Lengths 101 of 642 splits\n"
     ]
    },
    {
     "name": "stderr",
     "output_type": "stream",
     "text": [
      "      1.36 seconds: ML NNI round 1 of 19, 101 of 642 splits, 22 changes (max delta 9.090)\n",
      "      1.46 seconds: ML NNI round 1 of 19, 501 of 642 splits, 84 changes (max delta 10.286)\n",
      "ML-NNI round 1: LogLk = -40771.549 NNIs 105 max delta 10.29 Time 1.50\n"
     ]
    },
    {
     "name": "stderr",
     "output_type": "stream",
     "text": [
      "      1.56 seconds: Site likelihoods with rate category 16 of 20\n",
      "Switched to using 20 rate categories (CAT approximation)\n",
      "Rate categories were divided by 1.039 so that average rate = 1.0\n",
      "CAT-based log-likelihoods may not be comparable across runs\n",
      "Use -gamma for approximate but comparable Gamma(20) log-likelihoods\n",
      "      1.67 seconds: ML NNI round 2 of 19, 301 of 642 splits, 29 changes (max delta 4.970)\n",
      "ML-NNI round 2: LogLk = -34050.398 NNIs 55 max delta 8.00 Time 1.77\n"
     ]
    },
    {
     "name": "stderr",
     "output_type": "stream",
     "text": [
      "      1.79 seconds: ML NNI round 3 of 19, 101 of 642 splits, 4 changes (max delta 3.372)\n",
      "ML-NNI round 3: LogLk = -34034.076 NNIs 15 max delta 3.37 Time 1.89\n",
      "      1.91 seconds: ML NNI round 4 of 19, 101 of 642 splits, 4 changes (max delta 7.576)\n",
      "ML-NNI round 4: LogLk = -34005.877 NNIs 9 max delta 7.58 Time 1.95\n",
      "ML-NNI round 5: LogLk = -34002.929 NNIs 2 max delta 1.17 Time 1.97\n",
      "ML-NNI round 6: LogLk = -34002.912 NNIs 1 max delta 0.01 Time 1.99\n",
      "Turning off heuristics for final round of ML NNIs (converged)\n"
     ]
    },
    {
     "name": "stderr",
     "output_type": "stream",
     "text": [
      "      2.04 seconds: ML NNI round 7 of 19, 201 of 642 splits, 0 changes\n",
      "      2.14 seconds: ML NNI round 7 of 19, 601 of 642 splits, 2 changes (max delta 0.626)\n",
      "ML-NNI round 7: LogLk = -34001.223 NNIs 2 max delta 0.63 Time 2.16 (final)\n",
      "Optimize all lengths: LogLk = -34000.753 Time 2.24\n"
     ]
    },
    {
     "name": "stderr",
     "output_type": "stream",
     "text": [
      "      2.31 seconds: ML split tests for    100 of    641 internal splits\n",
      "      2.44 seconds: ML split tests for    300 of    641 internal splits\n"
     ]
    },
    {
     "name": "stderr",
     "output_type": "stream",
     "text": [
      "      2.58 seconds: ML split tests for    500 of    641 internal splits\n",
      "Total time: 2.68 seconds Unique: 644/664 Bad splits: 0/641\n"
     ]
    }
   ],
   "source": [
    "mafft_alignment, mafft_masked_alignment, mafft_tree, mafft_rooted_tree = align_to_tree_mafft_fasttree(\n",
    "    sequences=reps, n_threads=6, )"
   ]
  },
  {
   "cell_type": "markdown",
   "id": "0768d598",
   "metadata": {
    "papermill": {
     "duration": 0.004427,
     "end_time": "2024-03-05T23:16:26.408548",
     "exception": false,
     "start_time": "2024-03-05T23:16:26.404121",
     "status": "completed"
    },
    "tags": []
   },
   "source": [
    "### Compute Alpha Diversity (Phylogeny)\n",
    "- [diversity alpha_phylogenetic](https://docs.qiime2.org/2022.8/plugins/available/diversity/alpha-phylogenetic/): Computes a user-specified phylogenetic alpha diversity metric for all samples in a feature table.\n",
    "- Metrics: Choices ('faith_pd')"
   ]
  },
  {
   "cell_type": "code",
   "execution_count": 11,
   "id": "0383aa19",
   "metadata": {
    "ExecuteTime": {
     "end_time": "2022-09-29T20:54:35.310009Z",
     "start_time": "2022-09-29T20:54:35.141333Z"
    },
    "execution": {
     "iopub.execute_input": "2024-03-05T23:16:26.417540Z",
     "iopub.status.busy": "2024-03-05T23:16:26.417347Z",
     "iopub.status.idle": "2024-03-05T23:16:26.513848Z",
     "shell.execute_reply": "2024-03-05T23:16:26.513401Z"
    },
    "papermill": {
     "duration": 0.102251,
     "end_time": "2024-03-05T23:16:26.514789",
     "exception": false,
     "start_time": "2024-03-05T23:16:26.412538",
     "status": "completed"
    },
    "tags": []
   },
   "outputs": [
    {
     "name": "stdout",
     "output_type": "stream",
     "text": [
      "Calculating alpha diversity: faith_pd\n",
      "Running external command line application. This may print messages to stdout and/or stderr.\n",
      "The command being run is below. This command cannot be manually re-run as it will depend on temporary files that no longer exist.\n",
      "\n",
      "Command:\n",
      "\n",
      "faithpd -i /tmp/qiime2/lauro/data/685c11c4-0cba-49d0-a817-5c15a5603b9a/data/feature-table.biom -t /tmp/qiime2/lauro/data/f0c0df75-f732-46c5-b0f9-facfd964f816/data/tree.nwk -o /tmp/q2-AlphaDiversityFormat-6d_nnf4s\n",
      "\n",
      "DONE: Calculating alpha phylogeny: faith_pd\n"
     ]
    }
   ],
   "source": [
    "metrics = ('faith_pd', )\n",
    "alpha_diversities_phylogenetic = dict()\n",
    "for metric in metrics:\n",
    "    print(f\"Calculating alpha diversity: {metric}\")\n",
    "    try:\n",
    "        alpha_diversity = alpha_phylogenetic(table=tabs, phylogeny=mafft_rooted_tree, metric=metric).alpha_diversity\n",
    "        alpha_diversities_phylogenetic[metric] = alpha_diversity\n",
    "        # Save Artifact\n",
    "        file_path = os.path.join(alpha_path, f'alpha-phylogeny-{metric}.qza')\n",
    "        alpha_diversity.save(file_path)\n",
    "        print(f\"DONE: Calculating alpha phylogeny: {metric}\")\n",
    "    except Exception as e:\n",
    "        print(f\"ERROR: Calculating alpha phylogeny: {metric}\")"
   ]
  },
  {
   "cell_type": "markdown",
   "id": "42db1ead",
   "metadata": {
    "papermill": {
     "duration": 0.004239,
     "end_time": "2024-03-05T23:16:26.523456",
     "exception": false,
     "start_time": "2024-03-05T23:16:26.519217",
     "status": "completed"
    },
    "tags": []
   },
   "source": [
    "- [core-metrics-phylogenetic](https://docs.qiime2.org/2023.7/plugins/available/diversity/core-metrics-phylogenetic/)"
   ]
  },
  {
   "cell_type": "code",
   "execution_count": 12,
   "id": "ef726ab7",
   "metadata": {
    "execution": {
     "iopub.execute_input": "2024-03-05T23:16:26.532501Z",
     "iopub.status.busy": "2024-03-05T23:16:26.532339Z",
     "iopub.status.idle": "2024-03-05T23:16:28.310052Z",
     "shell.execute_reply": "2024-03-05T23:16:28.309522Z"
    },
    "papermill": {
     "duration": 1.783726,
     "end_time": "2024-03-05T23:16:28.311307",
     "exception": false,
     "start_time": "2024-03-05T23:16:26.527581",
     "status": "completed"
    },
    "tags": []
   },
   "outputs": [
    {
     "name": "stderr",
     "output_type": "stream",
     "text": [
      "/home/lauro/anaconda3/envs/qiime2-2023.5/lib/python3.8/site-packages/sklearn/metrics/pairwise.py:1761: DataConversionWarning: Data was converted to boolean for metric jaccard\n",
      "  warnings.warn(msg, DataConversionWarning)\n"
     ]
    },
    {
     "name": "stdout",
     "output_type": "stream",
     "text": [
      "Running external command line application. This may print messages to stdout and/or stderr.\n",
      "The command being run is below. This command cannot be manually re-run as it will depend on temporary files that no longer exist.\n",
      "\n",
      "Command:\n",
      "\n",
      "faithpd -i /tmp/qiime2/lauro/data/710f9b56-f29e-4a40-be3d-9446443d261f/data/feature-table.biom -t /tmp/qiime2/lauro/data/f0c0df75-f732-46c5-b0f9-facfd964f816/data/tree.nwk -o /tmp/q2-AlphaDiversityFormat-n84cgrvb\n",
      "\n",
      "Running external command line application. This may print messages to stdout and/or stderr.\n",
      "The command being run is below. This command cannot be manually re-run as it will depend on temporary files that no longer exist.\n",
      "\n",
      "Command:\n",
      "\n",
      "ssu -i /tmp/qiime2/lauro/data/710f9b56-f29e-4a40-be3d-9446443d261f/data/feature-table.biom -t /tmp/qiime2/lauro/data/f0c0df75-f732-46c5-b0f9-facfd964f816/data/tree.nwk -m unweighted -o /tmp/q2-LSMatFormat-aqttx0fv\n",
      "\n"
     ]
    },
    {
     "name": "stdout",
     "output_type": "stream",
     "text": [
      "Running external command line application. This may print messages to stdout and/or stderr.\n",
      "The command being run is below. This command cannot be manually re-run as it will depend on temporary files that no longer exist.\n",
      "\n",
      "Command:\n",
      "\n",
      "ssu -i /tmp/qiime2/lauro/data/710f9b56-f29e-4a40-be3d-9446443d261f/data/feature-table.biom -t /tmp/qiime2/lauro/data/f0c0df75-f732-46c5-b0f9-facfd964f816/data/tree.nwk -m weighted_unnormalized -o /tmp/q2-LSMatFormat-e11rn01c\n",
      "\n"
     ]
    }
   ],
   "source": [
    "s_depth = int(tabs.view(pd.DataFrame).sum(axis=1).min())\n",
    "results = core_metrics_phylogenetic(\n",
    "    table = tabs,\n",
    "    phylogeny = mafft_rooted_tree,\n",
    "    sampling_depth = s_depth,\n",
    "    metadata = metadata_qa,\n",
    "    n_jobs_or_threads = 6,\n",
    ")"
   ]
  },
  {
   "cell_type": "code",
   "execution_count": 13,
   "id": "19311218",
   "metadata": {
    "execution": {
     "iopub.execute_input": "2024-03-05T23:16:28.321388Z",
     "iopub.status.busy": "2024-03-05T23:16:28.321183Z",
     "iopub.status.idle": "2024-03-05T23:16:28.324988Z",
     "shell.execute_reply": "2024-03-05T23:16:28.324581Z"
    },
    "papermill": {
     "duration": 0.010008,
     "end_time": "2024-03-05T23:16:28.325972",
     "exception": false,
     "start_time": "2024-03-05T23:16:28.315964",
     "status": "completed"
    },
    "tags": []
   },
   "outputs": [],
   "source": [
    "results_info = [(\"rarefied_table\", \"FeatureTable[Frequency]\", \"The resulting rarefied feature table.\"),\n",
    "(\"faith_pd_vector\", \"SampleData[AlphaDiversity]\", \"Vector of Faith PD values by sample.\"),\n",
    "(\"observed_features_vector\", \"SampleData[AlphaDiversity]\", \"Vector of Observed Features values by sample.\"),\n",
    "(\"shannon_vector\", \"SampleData[AlphaDiversity]\", \"Vector of Shannon diversity values by sample.\"),\n",
    "(\"evenness_vector\", \"SampleData[AlphaDiversity]\", \"Vector of Pielou's evenness values by sample.\"),\n",
    "(\"unweighted_unifrac_distance_matrix\", \"DistanceMatrix\", \"Matrix of unweighted UniFrac distances between pairs of samples.\"),\n",
    "(\"weighted_unifrac_distance_matrix\", \"DistanceMatrix\", \"Matrix of weighted UniFrac distances between pairs of samples.\"),\n",
    "(\"jaccard_distance_matrix\", \"DistanceMatrix\", \"Matrix of Jaccard distances between pairs of samples.\"),\n",
    "(\"bray_curtis_distance_matrix\", \"DistanceMatrix\", \"Matrix of Bray-Curtis distances between pairs of samples.\"),\n",
    "(\"unweighted_unifrac_pcoa_results\", \"PCoAResults\", \"PCoA matrix computed from unweighted UniFrac distances between samples.\"),\n",
    "(\"weighted_unifrac_pcoa_results\", \"PCoAResults\", \"PCoA matrix computed from weighted UniFrac distances between samples.\"),\n",
    "(\"jaccard_pcoa_results\", \"PCoAResults\", \"PCoA matrix computed from Jaccard distances between samples.\"),\n",
    "(\"bray_curtis_pcoa_results\", \"PCoAResults\", \"PCoA matrix computed from Bray-Curtis distances between samples.\"),\n",
    "(\"unweighted_unifrac_emperor\", \"Visualization\", \"Emperor plot of the PCoA matrix computed from unweighted UniFrac.\"),\n",
    "(\"weighted_unifrac_emperor\", \"Visualization\", \"Emperor plot of the PCoA matrix computed from weighted UniFrac.\"),\n",
    "(\"jaccard_emperor\", \"Visualization\", \"Emperor plot of the PCoA matrix computed from Jaccard.\"),\n",
    "(\"bray_curtis_emperor\", \"Visualization\", \"Emperor plot of the PCoA matrix computed from Bray-Curtis.\")]"
   ]
  },
  {
   "cell_type": "code",
   "execution_count": 14,
   "id": "2264925a",
   "metadata": {
    "execution": {
     "iopub.execute_input": "2024-03-05T23:16:28.335651Z",
     "iopub.status.busy": "2024-03-05T23:16:28.335465Z",
     "iopub.status.idle": "2024-03-05T23:16:28.622826Z",
     "shell.execute_reply": "2024-03-05T23:16:28.622362Z"
    },
    "papermill": {
     "duration": 0.293332,
     "end_time": "2024-03-05T23:16:28.623797",
     "exception": false,
     "start_time": "2024-03-05T23:16:28.330465",
     "status": "completed"
    },
    "tags": []
   },
   "outputs": [
    {
     "name": "stdout",
     "output_type": "stream",
     "text": [
      "13 unweighted_unifrac_emperor Visualization\n",
      "--- Emperor plot of the PCoA matrix computed from unweighted UniFrac. ---\n",
      "Saving emperor file at: /mnt/nupeb/rede-micro/redemicro-ana-flavia-nutri/experiments/ana-flavia-NCxNR-trim/qiime-artifacts/beta-analysis/unweighted_unifrac_emperor.qzv\n",
      "\n",
      "14 weighted_unifrac_emperor Visualization\n",
      "--- Emperor plot of the PCoA matrix computed from weighted UniFrac. ---\n",
      "Saving emperor file at: /mnt/nupeb/rede-micro/redemicro-ana-flavia-nutri/experiments/ana-flavia-NCxNR-trim/qiime-artifacts/beta-analysis/weighted_unifrac_emperor.qzv\n",
      "\n",
      "15 jaccard_emperor Visualization\n",
      "--- Emperor plot of the PCoA matrix computed from Jaccard. ---\n",
      "Saving emperor file at: /mnt/nupeb/rede-micro/redemicro-ana-flavia-nutri/experiments/ana-flavia-NCxNR-trim/qiime-artifacts/beta-analysis/jaccard_emperor.qzv\n",
      "\n"
     ]
    },
    {
     "name": "stdout",
     "output_type": "stream",
     "text": [
      "16 bray_curtis_emperor Visualization\n",
      "--- Emperor plot of the PCoA matrix computed from Bray-Curtis. ---\n",
      "Saving emperor file at: /mnt/nupeb/rede-micro/redemicro-ana-flavia-nutri/experiments/ana-flavia-NCxNR-trim/qiime-artifacts/beta-analysis/bray_curtis_emperor.qzv\n",
      "\n"
     ]
    }
   ],
   "source": [
    "distance_matrix = dict()\n",
    "for i, info in enumerate(results_info):\n",
    "    r_id, r_type, r_desc = info\n",
    "    #print(i, r_id, r_type)\n",
    "    file_name = f\"{r_id}.qzv\"\n",
    "    if r_type == \"FeatureTable[Frequency]\":\n",
    "        pass\n",
    "    elif r_type == \"DistanceMatrix\":\n",
    "        distance_matrix[r_id] = results[i]\n",
    "    elif r_id.endswith('emperor'):\n",
    "        print(i, r_id, r_type)\n",
    "        print(f\"--- {r_desc} ---\")\n",
    "        file_name = os.path.join(beta_path, file_name)\n",
    "        print(f'Saving emperor file at: {file_name}\\n')\n",
    "        results[i].save(filepath=file_name)"
   ]
  },
  {
   "cell_type": "markdown",
   "id": "c7752cfd",
   "metadata": {
    "papermill": {
     "duration": 0.004373,
     "end_time": "2024-03-05T23:16:28.632905",
     "exception": false,
     "start_time": "2024-03-05T23:16:28.628532",
     "status": "completed"
    },
    "tags": []
   },
   "source": [
    "### Alpha diversity correlation\n",
    "\n",
    "This method only process `numeric` columns.\n"
   ]
  },
  {
   "cell_type": "code",
   "execution_count": 15,
   "id": "2814f613",
   "metadata": {
    "ExecuteTime": {
     "end_time": "2022-09-29T20:54:35.317618Z",
     "start_time": "2022-09-29T20:54:35.312094Z"
    },
    "execution": {
     "iopub.execute_input": "2024-03-05T23:16:28.642773Z",
     "iopub.status.busy": "2024-03-05T23:16:28.642313Z",
     "iopub.status.idle": "2024-03-05T23:16:28.646850Z",
     "shell.execute_reply": "2024-03-05T23:16:28.646330Z"
    },
    "papermill": {
     "duration": 0.010658,
     "end_time": "2024-03-05T23:16:28.647925",
     "exception": false,
     "start_time": "2024-03-05T23:16:28.637267",
     "status": "completed"
    },
    "tags": []
   },
   "outputs": [],
   "source": [
    "methods = ('spearman', 'pearson')\n",
    "numerics_cols = metadata_qa.filter_columns(column_type='numeric')\n",
    "if numerics_cols.column_count > 0:\n",
    "    for metric, alpha_values in alpha_diversities.items():\n",
    "        for method in methods:\n",
    "            try:\n",
    "                corr_view = alpha_correlation(alpha_diversity=alpha_values, metadata=numerics_cols, \n",
    "                                          method=method, intersect_ids=True).visualization\n",
    "                view_path = os.path.join(alpha_path, f'alpha-correlation-{metric}-{method}.qzv')\n",
    "                corr_view.save(view_path)\n",
    "                corr_view\n",
    "                print(f\"DONE: Calculating alpha correlation: {metric} {method}\")\n",
    "            except Exception as e:\n",
    "                print(f\"ERROR: Calculating alpha correlation: {metric} {method}\")"
   ]
  },
  {
   "cell_type": "markdown",
   "id": "8ea83c8a",
   "metadata": {
    "papermill": {
     "duration": 0.004355,
     "end_time": "2024-03-05T23:16:28.656659",
     "exception": false,
     "start_time": "2024-03-05T23:16:28.652304",
     "status": "completed"
    },
    "tags": []
   },
   "source": [
    "## Alpha diversity comparisons\n",
    "\n",
    "Visually and statistically compare groups of alpha diversity values.\n",
    "\n",
    "[diversity alpha_group_significance](https://docs.qiime2.org/2022.8/plugins/available/diversity/alpha-group-significance/)"
   ]
  },
  {
   "cell_type": "code",
   "execution_count": 16,
   "id": "276d1c18",
   "metadata": {
    "ExecuteTime": {
     "end_time": "2022-09-29T20:54:36.089290Z",
     "start_time": "2022-09-29T20:54:35.318963Z"
    },
    "execution": {
     "iopub.execute_input": "2024-03-05T23:16:28.666179Z",
     "iopub.status.busy": "2024-03-05T23:16:28.665987Z",
     "iopub.status.idle": "2024-03-05T23:16:29.135292Z",
     "shell.execute_reply": "2024-03-05T23:16:29.134833Z"
    },
    "papermill": {
     "duration": 0.475244,
     "end_time": "2024-03-05T23:16:29.136261",
     "exception": false,
     "start_time": "2024-03-05T23:16:28.661017",
     "status": "completed"
    },
    "tags": []
   },
   "outputs": [
    {
     "name": "stdout",
     "output_type": "stream",
     "text": [
      "Processing alpha_group_significance: chao1\n"
     ]
    },
    {
     "name": "stdout",
     "output_type": "stream",
     "text": [
      "DONE: Calculating alpha group significance: chao1\n",
      "Processing alpha_group_significance: chao1_ci\n",
      "ERROR: Calculating alpha group significance: chao1_ci\n",
      "Processing alpha_group_significance: observed_features\n",
      "DONE: Calculating alpha group significance: observed_features\n",
      "Processing alpha_group_significance: shannon\n"
     ]
    },
    {
     "name": "stdout",
     "output_type": "stream",
     "text": [
      "DONE: Calculating alpha group significance: shannon\n",
      "Processing alpha_group_significance: simpson\n"
     ]
    },
    {
     "name": "stdout",
     "output_type": "stream",
     "text": [
      "DONE: Calculating alpha group significance: simpson\n",
      "Processing alpha_group_significance: simpson_e\n",
      "DONE: Calculating alpha group significance: simpson_e\n"
     ]
    }
   ],
   "source": [
    "for metric, alpha_values in alpha_diversities.items():\n",
    "    print(f\"Processing alpha_group_significance: {metric}\")\n",
    "    try:\n",
    "        significance_view = alpha_group_significance(alpha_diversity=alpha_values, metadata=metadata_qa).visualization\n",
    "        view_path = os.path.join(alpha_path, f'alpha-group-significance-{metric}.qzv')\n",
    "        significance_view.save(view_path)\n",
    "        significance_view\n",
    "        print(f\"DONE: Calculating alpha group significance: {metric}\")\n",
    "    except Exception as e:\n",
    "        print(f\"ERROR: Calculating alpha group significance: {metric}\")"
   ]
  },
  {
   "cell_type": "markdown",
   "id": "4349d357",
   "metadata": {
    "papermill": {
     "duration": 0.004512,
     "end_time": "2024-03-05T23:16:29.145701",
     "exception": false,
     "start_time": "2024-03-05T23:16:29.141189",
     "status": "completed"
    },
    "tags": []
   },
   "source": [
    "## Beta diversity analysis\n",
    "\n",
    "#### Reference\n",
    "- [diversity beta](https://docs.qiime2.org/2022.8/plugins/available/diversity/beta/): Computes a user-specified beta diversity metric for all pairs of samples in a feature table.\n",
    "- [Beta diversity metrics](http://scikit-bio.org/docs/0.2.0/generated/skbio.diversity.beta.html)\n",
    "\n",
    "- Metric Choices('aitchison', 'braycurtis', 'canberra', 'canberra_adkins', 'chebyshev', 'cityblock', 'correlation', 'cosine', 'dice', 'euclidean', 'hamming', 'jaccard', 'jensenshannon', 'kulsinski', 'matching', 'minkowski', 'rogerstanimoto', 'russellrao', 'seuclidean', 'sokalmichener', 'sokalsneath', 'sqeuclidean', 'yule')"
   ]
  },
  {
   "cell_type": "code",
   "execution_count": 17,
   "id": "f6f358dd",
   "metadata": {
    "ExecuteTime": {
     "end_time": "2022-09-29T20:54:36.335038Z",
     "start_time": "2022-09-29T20:54:36.091288Z"
    },
    "execution": {
     "iopub.execute_input": "2024-03-05T23:16:29.155666Z",
     "iopub.status.busy": "2024-03-05T23:16:29.155453Z",
     "iopub.status.idle": "2024-03-05T23:16:29.473055Z",
     "shell.execute_reply": "2024-03-05T23:16:29.472610Z"
    },
    "papermill": {
     "duration": 0.323756,
     "end_time": "2024-03-05T23:16:29.474035",
     "exception": false,
     "start_time": "2024-03-05T23:16:29.150279",
     "status": "completed"
    },
    "tags": []
   },
   "outputs": [
    {
     "name": "stdout",
     "output_type": "stream",
     "text": [
      "Calculating beta diversity: euclidean\n",
      "DONE: Calculating beta diversity: euclidean\n",
      "Calculating beta diversity: dice\n"
     ]
    },
    {
     "name": "stdout",
     "output_type": "stream",
     "text": [
      "DONE: Calculating beta diversity: dice\n",
      "Calculating beta diversity: braycurtis\n",
      "DONE: Calculating beta diversity: braycurtis\n",
      "Calculating beta diversity: correlation\n",
      "ERROR: Calculating beta diversity: correlation\n",
      "Calculating beta diversity: cosine\n"
     ]
    },
    {
     "name": "stderr",
     "output_type": "stream",
     "text": [
      "/home/lauro/anaconda3/envs/qiime2-2023.5/lib/python3.8/site-packages/sklearn/metrics/pairwise.py:1761: DataConversionWarning: Data was converted to boolean for metric dice\n",
      "  warnings.warn(msg, DataConversionWarning)\n",
      "/home/lauro/anaconda3/envs/qiime2-2023.5/lib/python3.8/site-packages/sklearn/metrics/pairwise.py:1761: DataConversionWarning: Data was converted to boolean for metric matching\n",
      "  warnings.warn(msg, DataConversionWarning)\n"
     ]
    },
    {
     "name": "stdout",
     "output_type": "stream",
     "text": [
      "ERROR: Calculating beta diversity: cosine\n",
      "Calculating beta diversity: matching\n",
      "DONE: Calculating beta diversity: matching\n",
      "Calculating beta diversity: jaccard\n"
     ]
    },
    {
     "name": "stdout",
     "output_type": "stream",
     "text": [
      "DONE: Calculating beta diversity: jaccard\n"
     ]
    },
    {
     "name": "stderr",
     "output_type": "stream",
     "text": [
      "/home/lauro/anaconda3/envs/qiime2-2023.5/lib/python3.8/site-packages/sklearn/metrics/pairwise.py:1761: DataConversionWarning: Data was converted to boolean for metric jaccard\n",
      "  warnings.warn(msg, DataConversionWarning)\n"
     ]
    }
   ],
   "source": [
    "metrics = ('aitchison', 'braycurtis', 'canberra', 'canberra_adkins', 'chebyshev', 'cityblock', 'correlation', 'cosine', 'dice', 'euclidean', 'hamming', 'jaccard', 'jensenshannon', 'kulsinski', 'matching', 'minkowski', 'rogerstanimoto', 'russellrao', 'seuclidean', 'sokalmichener', 'sokalsneath', 'sqeuclidean', 'yule')\n",
    "metrics = ('euclidean', 'dice', 'braycurtis', 'correlation', 'cosine', 'matching', 'jaccard')\n",
    "beta_diversities = dict()\n",
    "for metric in metrics:\n",
    "    print(f\"Calculating beta diversity: {metric}\")\n",
    "    try:\n",
    "        beta_diversity = beta(table=tabs, metric=metric, n_jobs=6, pseudocount=1).distance_matrix\n",
    "        beta_diversities[metric] = beta_diversity\n",
    "        # Save SampleData[BetaDiversity] Artifact\n",
    "        file_path = os.path.join(beta_path, f'beta-values-{metric}.qza')\n",
    "        beta_diversity.save(file_path)\n",
    "        print(f\"DONE: Calculating beta diversity: {metric}\")\n",
    "    except Exception as e:\n",
    "        print(f\"ERROR: Calculating beta diversity: {metric}\")"
   ]
  },
  {
   "cell_type": "markdown",
   "id": "200a2fa7",
   "metadata": {
    "papermill": {
     "duration": 0.004755,
     "end_time": "2024-03-05T23:16:29.483933",
     "exception": false,
     "start_time": "2024-03-05T23:16:29.479178",
     "status": "completed"
    },
    "tags": []
   },
   "source": [
    "### Beta group significance\n",
    "\n",
    "- [diversity beta_group_significance](https://docs.qiime2.org/2022.8/plugins/available/diversity/beta-group-significance/): Determine whether groups of samples are significantly different from one another using a permutation-based statistical test.\n",
    "- Marti J Anderson. A new method for non-parametric multivariate analysis of variance. Austral ecology, 26(1):32–46, 2001. doi:https://doi.org/10.1111/j.1442-9993.2001.01070.pp.x."
   ]
  },
  {
   "cell_type": "code",
   "execution_count": 18,
   "id": "b8dd42b6",
   "metadata": {
    "ExecuteTime": {
     "end_time": "2022-09-29T20:55:08.313860Z",
     "start_time": "2022-09-29T20:54:36.336993Z"
    },
    "execution": {
     "iopub.execute_input": "2024-03-05T23:16:29.494324Z",
     "iopub.status.busy": "2024-03-05T23:16:29.494144Z",
     "iopub.status.idle": "2024-03-05T23:16:47.107161Z",
     "shell.execute_reply": "2024-03-05T23:16:47.106749Z"
    },
    "papermill": {
     "duration": 17.619487,
     "end_time": "2024-03-05T23:16:47.108163",
     "exception": false,
     "start_time": "2024-03-05T23:16:29.488676",
     "status": "completed"
    },
    "tags": []
   },
   "outputs": [
    {
     "name": "stdout",
     "output_type": "stream",
     "text": [
      "Calculating beta group significance with method permanova and metric euclidean\n"
     ]
    },
    {
     "name": "stdout",
     "output_type": "stream",
     "text": [
      "DONE: Calculating beta group significance: permanova euclidean\n",
      "Calculating beta group significance with method permanova and metric dice\n"
     ]
    },
    {
     "name": "stdout",
     "output_type": "stream",
     "text": [
      "DONE: Calculating beta group significance: permanova dice\n",
      "Calculating beta group significance with method permanova and metric braycurtis\n"
     ]
    },
    {
     "name": "stdout",
     "output_type": "stream",
     "text": [
      "DONE: Calculating beta group significance: permanova braycurtis\n",
      "Calculating beta group significance with method permanova and metric matching\n"
     ]
    },
    {
     "name": "stdout",
     "output_type": "stream",
     "text": [
      "DONE: Calculating beta group significance: permanova matching\n",
      "Calculating beta group significance with method permanova and metric jaccard\n"
     ]
    },
    {
     "name": "stdout",
     "output_type": "stream",
     "text": [
      "DONE: Calculating beta group significance: permanova jaccard\n",
      "Calculating beta group significance with method anosim and metric euclidean\n"
     ]
    },
    {
     "name": "stdout",
     "output_type": "stream",
     "text": [
      "DONE: Calculating beta group significance: anosim euclidean\n",
      "Calculating beta group significance with method anosim and metric dice\n"
     ]
    },
    {
     "name": "stdout",
     "output_type": "stream",
     "text": [
      "DONE: Calculating beta group significance: anosim dice\n",
      "Calculating beta group significance with method anosim and metric braycurtis\n"
     ]
    },
    {
     "name": "stdout",
     "output_type": "stream",
     "text": [
      "DONE: Calculating beta group significance: anosim braycurtis\n",
      "Calculating beta group significance with method anosim and metric matching\n"
     ]
    },
    {
     "name": "stdout",
     "output_type": "stream",
     "text": [
      "DONE: Calculating beta group significance: anosim matching\n",
      "Calculating beta group significance with method anosim and metric jaccard\n"
     ]
    },
    {
     "name": "stdout",
     "output_type": "stream",
     "text": [
      "DONE: Calculating beta group significance: anosim jaccard\n",
      "Calculating beta group significance with method permdisp and metric euclidean\n"
     ]
    },
    {
     "name": "stdout",
     "output_type": "stream",
     "text": [
      "DONE: Calculating beta group significance: permdisp euclidean\n",
      "Calculating beta group significance with method permdisp and metric dice\n"
     ]
    },
    {
     "name": "stdout",
     "output_type": "stream",
     "text": [
      "DONE: Calculating beta group significance: permdisp dice\n",
      "Calculating beta group significance with method permdisp and metric braycurtis\n"
     ]
    },
    {
     "name": "stdout",
     "output_type": "stream",
     "text": [
      "DONE: Calculating beta group significance: permdisp braycurtis\n",
      "Calculating beta group significance with method permdisp and metric matching\n"
     ]
    },
    {
     "name": "stdout",
     "output_type": "stream",
     "text": [
      "DONE: Calculating beta group significance: permdisp matching\n",
      "Calculating beta group significance with method permdisp and metric jaccard\n"
     ]
    },
    {
     "name": "stdout",
     "output_type": "stream",
     "text": [
      "DONE: Calculating beta group significance: permdisp jaccard\n"
     ]
    },
    {
     "data": {
      "text/plain": [
       "<Figure size 640x480 with 0 Axes>"
      ]
     },
     "metadata": {},
     "output_type": "display_data"
    }
   ],
   "source": [
    "methods = ('permanova', 'anosim', 'permdisp')\n",
    "for method in methods:\n",
    "    for metric, beta_diversity in beta_diversities.items():\n",
    "        print(f'Calculating beta group significance with method {method} and metric {metric}')\n",
    "        try:\n",
    "            beta_view = beta_group_significance(distance_matrix=beta_diversity, \n",
    "                                                metadata=metadata_qa.get_column(class_col), \n",
    "                                                pairwise=True, method=method).visualization\n",
    "            view_name = os.path.join(beta_path, f'beta-group-significance-{metric}-{method}.qzv')\n",
    "            beta_view.save(view_name)\n",
    "            print(f\"DONE: Calculating beta group significance: {method} {metric}\")\n",
    "        except Exception as e:\n",
    "            print(f\"ERROR: Calculating beta group significance: {method} {metric}\")"
   ]
  },
  {
   "cell_type": "code",
   "execution_count": 19,
   "id": "6366725e",
   "metadata": {
    "execution": {
     "iopub.execute_input": "2024-03-05T23:16:47.119952Z",
     "iopub.status.busy": "2024-03-05T23:16:47.119748Z",
     "iopub.status.idle": "2024-03-05T23:17:00.981689Z",
     "shell.execute_reply": "2024-03-05T23:17:00.981365Z"
    },
    "papermill": {
     "duration": 13.868861,
     "end_time": "2024-03-05T23:17:00.982602",
     "exception": false,
     "start_time": "2024-03-05T23:16:47.113741",
     "status": "completed"
    },
    "tags": []
   },
   "outputs": [
    {
     "name": "stdout",
     "output_type": "stream",
     "text": [
      "Calculating beta group significance with method permanova and metric unweighted_unifrac_distance_matrix\n"
     ]
    },
    {
     "name": "stdout",
     "output_type": "stream",
     "text": [
      "DONE: Calculating beta group significance: permanova unweighted_unifrac_distance_matrix\n",
      "Calculating beta group significance with method permanova and metric weighted_unifrac_distance_matrix\n"
     ]
    },
    {
     "name": "stdout",
     "output_type": "stream",
     "text": [
      "DONE: Calculating beta group significance: permanova weighted_unifrac_distance_matrix\n",
      "Calculating beta group significance with method permanova and metric jaccard_distance_matrix\n"
     ]
    },
    {
     "name": "stdout",
     "output_type": "stream",
     "text": [
      "DONE: Calculating beta group significance: permanova jaccard_distance_matrix\n",
      "Calculating beta group significance with method permanova and metric bray_curtis_distance_matrix\n"
     ]
    },
    {
     "name": "stdout",
     "output_type": "stream",
     "text": [
      "DONE: Calculating beta group significance: permanova bray_curtis_distance_matrix\n",
      "Calculating beta group significance with method anosim and metric unweighted_unifrac_distance_matrix\n"
     ]
    },
    {
     "name": "stdout",
     "output_type": "stream",
     "text": [
      "DONE: Calculating beta group significance: anosim unweighted_unifrac_distance_matrix\n",
      "Calculating beta group significance with method anosim and metric weighted_unifrac_distance_matrix\n"
     ]
    },
    {
     "name": "stdout",
     "output_type": "stream",
     "text": [
      "DONE: Calculating beta group significance: anosim weighted_unifrac_distance_matrix\n",
      "Calculating beta group significance with method anosim and metric jaccard_distance_matrix\n"
     ]
    },
    {
     "name": "stdout",
     "output_type": "stream",
     "text": [
      "DONE: Calculating beta group significance: anosim jaccard_distance_matrix\n",
      "Calculating beta group significance with method anosim and metric bray_curtis_distance_matrix\n"
     ]
    },
    {
     "name": "stdout",
     "output_type": "stream",
     "text": [
      "DONE: Calculating beta group significance: anosim bray_curtis_distance_matrix\n",
      "Calculating beta group significance with method permdisp and metric unweighted_unifrac_distance_matrix\n"
     ]
    },
    {
     "name": "stdout",
     "output_type": "stream",
     "text": [
      "DONE: Calculating beta group significance: permdisp unweighted_unifrac_distance_matrix\n",
      "Calculating beta group significance with method permdisp and metric weighted_unifrac_distance_matrix\n"
     ]
    },
    {
     "name": "stdout",
     "output_type": "stream",
     "text": [
      "DONE: Calculating beta group significance: permdisp weighted_unifrac_distance_matrix\n",
      "Calculating beta group significance with method permdisp and metric jaccard_distance_matrix\n"
     ]
    },
    {
     "name": "stdout",
     "output_type": "stream",
     "text": [
      "DONE: Calculating beta group significance: permdisp jaccard_distance_matrix\n",
      "Calculating beta group significance with method permdisp and metric bray_curtis_distance_matrix\n"
     ]
    },
    {
     "name": "stdout",
     "output_type": "stream",
     "text": [
      "DONE: Calculating beta group significance: permdisp bray_curtis_distance_matrix\n"
     ]
    },
    {
     "data": {
      "text/plain": [
       "<Figure size 640x480 with 0 Axes>"
      ]
     },
     "metadata": {},
     "output_type": "display_data"
    }
   ],
   "source": [
    "# Expand tests using UNIFRAC metrics\n",
    "methods = ('permanova', 'anosim', 'permdisp')\n",
    "for method in methods:\n",
    "    for metric, beta_diversity in distance_matrix.items():\n",
    "        print(f'Calculating beta group significance with method {method} and metric {metric}')\n",
    "        try:\n",
    "            beta_view = beta_group_significance(distance_matrix=beta_diversity, \n",
    "                                                metadata=metadata_qa.get_column(class_col), \n",
    "                                                pairwise=True, method=method).visualization\n",
    "            view_name = os.path.join(beta_path, f'beta-group-significance-{metric}-{method}.qzv')\n",
    "            beta_view.save(view_name)\n",
    "            print(f\"DONE: Calculating beta group significance: {method} {metric}\")\n",
    "        except Exception as e:\n",
    "            print(f\"ERROR: Calculating beta group significance: {method} {metric}\")"
   ]
  },
  {
   "cell_type": "markdown",
   "id": "c0de85cf",
   "metadata": {
    "papermill": {
     "duration": 0.00574,
     "end_time": "2024-03-05T23:17:00.994304",
     "exception": false,
     "start_time": "2024-03-05T23:17:00.988564",
     "status": "completed"
    },
    "tags": []
   },
   "source": [
    "### Beta group Rarefaction\n",
    "\n",
    "- [diversity beta_rarefaction](https://docs.qiime2.org/2022.8/plugins/available/diversity/beta-rarefaction/): Repeatedly rarefy a feature table to compare beta diversity results within a given rarefaction depth.  For a given beta diversity metric, this visualizer will provide: an Emperor jackknifed PCoA plot, samples clustered by UPGMA or neighbor joining with support calculation, and a heatmap showing the correlation between rarefaction trials of that beta diversity metric."
   ]
  }
 ],
 "metadata": {
  "celltoolbar": "Edit Metadata",
  "kernelspec": {
   "display_name": "Python 3 (ipykernel)",
   "language": "python",
   "name": "python3"
  },
  "language_info": {
   "codemirror_mode": {
    "name": "ipython",
    "version": 3
   },
   "file_extension": ".py",
   "mimetype": "text/x-python",
   "name": "python",
   "nbconvert_exporter": "python",
   "pygments_lexer": "ipython3",
   "version": "3.8.16"
  },
  "papermill": {
   "default_parameters": {},
   "duration": 47.649964,
   "end_time": "2024-03-05T23:17:01.916544",
   "environment_variables": {},
   "exception": null,
   "input_path": "nb-templates/step-diversity-analysis.ipynb",
   "output_path": "/mnt/nupeb/rede-micro/redemicro-ana-flavia-nutri/experiments/ana-flavia-NCxNR-trim/nb-executed-steps/step-diversity-analysis-ana-flavia-NCxNR-trim.ipynb",
   "parameters": {
    "base_dir": "/mnt/nupeb/rede-micro/redemicro-ana-flavia-nutri",
    "class_col": "group-id",
    "classifier_file": "/mnt/nupeb/rede-micro/datasets/16S_classifiers_qiime2/silva-138-99-nb-classifier.qza",
    "experiment_name": "ana-flavia-NCxNR-trim",
    "manifest_file": "/mnt/nupeb/rede-micro/redemicro-ana-flavia-nutri/data/raw/manifest/manifest-ana-flavia-NCxNR.csv",
    "metadata_file": "/mnt/nupeb/rede-micro/redemicro-ana-flavia-nutri/data/raw/metadata/metadata-ana-flavia-NCxNR.tsv",
    "overlap": 12,
    "phred": 20,
    "replace_files": false,
    "threads": 6,
    "top_n": 20,
    "trim": {
     "forward_primer": "CCTACGGGRSGCAGCAG",
     "overlap": 8,
     "reverse_primer": "GGACTACHVGGGTWTCTAAT"
    },
    "trunc_f": 0,
    "trunc_r": 0
   },
   "start_time": "2024-03-05T23:16:14.266580",
   "version": "2.4.0"
  }
 },
 "nbformat": 4,
 "nbformat_minor": 5
}