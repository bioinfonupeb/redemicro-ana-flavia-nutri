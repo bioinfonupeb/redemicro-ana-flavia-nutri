{
 "cells": [
  {
   "cell_type": "markdown",
   "id": "15bcfa06",
   "metadata": {
    "papermill": {
     "duration": 0.02695,
     "end_time": "2023-09-14T15:21:43.906050",
     "exception": false,
     "start_time": "2023-09-14T15:21:43.879100",
     "status": "completed"
    },
    "tags": []
   },
   "source": [
    " \n",
    "# Alpha and Beta Diversity\n",
    "\n",
    "Different higher-level measures are often used to describe the microbiome in a sample. These do not provide information on changes in the abundance of specific taxa but allow us to access a broader change or difference in the composition of microorganisms. Alpha and beta diversity are examples of such measures.\n",
    "\n",
    "Different measures exist to estimate diversity within a single sample, jointly called alpha diversity. The different measures reflect the richness (number) or distribution (evenness) of a microbial sample or aim to reflect a combination of both properties.\n",
    "\n",
    "Rarefaction curves are often used when calculating alpha diversity indices because increasing numbers of sequenced taxa allow increasingly accurate estimates of total population diversity. Rarefaction curves can therefore be used to estimate the full sample richness, as compared to the observed sample richness.\n",
    "\n",
    "While alpha diversity is a measure of microbiome diversity applicable to a single sample, beta diversity is a measure of the similarity or dissimilarity of two communities. As for alpha diversity, many indices exist, each reflecting different aspects of community heterogeneity. Key differences relate to how the indices value variation in rare species if they consider presence/absence only or incorporate abundance, and how they interpret shared absence. Bray-Curtis dissimilarity is a popular measure that considers both size (overall abundance per sample) and shape (abundance of each taxon) of the communities (Bray, 1957). Beta diversity is an essential measure for many popular statistical methods in ecology, such as ordination-based methods, and is widely used for studying the association between environmental variables and microbial composition.\n",
    "\n",
    "In summary, alpha diversity measures can be seen as a summary statistic of a single population (within-sample diversity), while beta diversity measures are estimates of similarity or dissimilarity between populations (between samples).\n",
    "\n",
    "**Source**: (https://biomcare.com/info/key-terms-in-microbiome-projects/)"
   ]
  },
  {
   "cell_type": "markdown",
   "id": "0e7f2330",
   "metadata": {
    "ExecuteTime": {
     "end_time": "2022-09-22T19:36:33.828188Z",
     "start_time": "2022-09-22T19:36:33.817323Z"
    },
    "papermill": {
     "duration": 0.037855,
     "end_time": "2023-09-14T15:21:44.037426",
     "exception": false,
     "start_time": "2023-09-14T15:21:43.999571",
     "status": "completed"
    },
    "tags": []
   },
   "source": [
    "### STEP : Diversity Analysis\n",
    "\n",
    "Using QIIME2 to create diversity analisys graphs and calculations.\n",
    "\n",
    "- [QIIME2 Workflow Overview](https://docs.qiime2.org/2022.8/tutorials/overview/)\n",
    "\n",
    "\n",
    "#### Methods\n",
    "- [diversity](https://docs.qiime2.org/2022.8/plugins/available/diversity/)\n",
    "- [diversity alpha](https://docs.qiime2.org/2022.8/plugins/available/diversity/alpha/)\n",
    "- [diversity alpha_phylogenetic](https://docs.qiime2.org/2022.8/plugins/available/diversity/alpha-phylogenetic/)\n",
    "- [diversity beta](https://docs.qiime2.org/2022.8/plugins/available/diversity/beta/)\n",
    "- [diversity core_metrics](https://docs.qiime2.org/2022.8/plugins/available/diversity/core-metrics/)\n",
    "- [diversity alpha_group_significance](https://docs.qiime2.org/2022.8/plugins/available/diversity/alpha-group-significance/)\n",
    "- [diversity beta_group_significance](https://docs.qiime2.org/2022.8/plugins/available/diversity/beta-group-significance/)\n",
    "- [feature_table core_features](https://docs.qiime2.org/2022.8/plugins/available/feature-table/core-features/)\n",
    "- [feature_table summarize](https://docs.qiime2.org/2022.8/plugins/available/feature-table/summarize/)\n",
    "- [taxa filter-table](https://docs.qiime2.org/2022.8/plugins/available/taxa/filter-table/)\n",
    "- [taxa collapse](https://docs.qiime2.org/2022.8/plugins/available/taxa/collapse/)"
   ]
  },
  {
   "cell_type": "markdown",
   "id": "843debbf",
   "metadata": {
    "papermill": {
     "duration": 0.043013,
     "end_time": "2023-09-14T15:21:44.123641",
     "exception": false,
     "start_time": "2023-09-14T15:21:44.080628",
     "status": "completed"
    },
    "tags": []
   },
   "source": [
    "## Setup and settings"
   ]
  },
  {
   "cell_type": "code",
   "execution_count": 1,
   "id": "965e28e5",
   "metadata": {
    "ExecuteTime": {
     "end_time": "2022-11-03T20:35:26.198671Z",
     "start_time": "2022-11-03T20:35:06.473173Z"
    },
    "execution": {
     "iopub.execute_input": "2023-09-14T15:21:44.212486Z",
     "iopub.status.busy": "2023-09-14T15:21:44.211869Z",
     "iopub.status.idle": "2023-09-14T15:21:50.381068Z",
     "shell.execute_reply": "2023-09-14T15:21:50.380274Z"
    },
    "papermill": {
     "duration": 6.216742,
     "end_time": "2023-09-14T15:21:50.384167",
     "exception": false,
     "start_time": "2023-09-14T15:21:44.167425",
     "status": "completed"
    },
    "tags": []
   },
   "outputs": [],
   "source": [
    "# Importing packages\n",
    "import os\n",
    "import pandas as pd\n",
    "from qiime2 import Artifact\n",
    "from qiime2 import Visualization\n",
    "from qiime2 import Metadata\n",
    "\n",
    "from qiime2.plugins.phylogeny.pipelines import align_to_tree_mafft_fasttree\n",
    "\n",
    "from qiime2.plugins.diversity.pipelines import alpha\n",
    "from qiime2.plugins.diversity.pipelines import beta\n",
    "from qiime2.plugins.diversity.pipelines import core_metrics\n",
    "from qiime2.plugins.diversity.pipelines import alpha_phylogenetic\n",
    "\n",
    "from qiime2.plugins.diversity.visualizers import alpha_group_significance\n",
    "from qiime2.plugins.diversity.visualizers import beta_group_significance\n",
    "from qiime2.plugins.diversity.visualizers import alpha_correlation\n",
    "from qiime2.plugins.diversity.visualizers import beta_rarefaction\n",
    "\n",
    "from qiime2.plugins.taxa.methods import filter_table\n",
    "from qiime2.plugins.taxa.methods import collapse\n",
    "\n",
    "from qiime2.plugins.feature_table.visualizers import tabulate_seqs\n",
    "from qiime2.plugins.feature_table.visualizers import summarize\n",
    "from qiime2.plugins.feature_table.visualizers import core_features\n",
    "from qiime2.plugins.diversity.pipelines import core_metrics_phylogenetic\n",
    "\n",
    "from qiime2.plugins.feature_table.methods import filter_samples\n",
    "from qiime2.plugins.feature_table.methods import filter_seqs\n",
    "\n",
    "from qiime2.plugins.alignment.methods import mafft\n",
    "\n",
    "\n",
    "import matplotlib.pyplot as plt\n",
    "\n",
    "%matplotlib inline"
   ]
  },
  {
   "cell_type": "markdown",
   "id": "530ceb60",
   "metadata": {
    "papermill": {
     "duration": 0.017226,
     "end_time": "2023-09-14T15:21:50.423888",
     "exception": false,
     "start_time": "2023-09-14T15:21:50.406662",
     "status": "completed"
    },
    "tags": []
   },
   "source": [
    "### Receiving the parameters\n",
    "\n",
    "The following cell can receive parameters using the [papermill](https://papermill.readthedocs.io/en/latest/) tool."
   ]
  },
  {
   "cell_type": "code",
   "execution_count": 2,
   "id": "18d874ea",
   "metadata": {
    "ExecuteTime": {
     "end_time": "2022-09-29T20:54:14.793270Z",
     "start_time": "2022-09-29T20:54:14.789367Z"
    },
    "execution": {
     "iopub.execute_input": "2023-09-14T15:21:50.479702Z",
     "iopub.status.busy": "2023-09-14T15:21:50.479150Z",
     "iopub.status.idle": "2023-09-14T15:21:50.484448Z",
     "shell.execute_reply": "2023-09-14T15:21:50.483577Z"
    },
    "papermill": {
     "duration": 0.031247,
     "end_time": "2023-09-14T15:21:50.486115",
     "exception": false,
     "start_time": "2023-09-14T15:21:50.454868",
     "status": "completed"
    },
    "tags": [
     "parameters"
    ]
   },
   "outputs": [],
   "source": [
    "base_dir = os.path.join('/', 'home')\n",
    "metadata_file = os.path.abspath(os.path.join(base_dir, 'data', 'metadatada.tsv'))\n",
    "experiment_name = ''\n",
    "class_col = ''\n",
    "replace_files = False"
   ]
  },
  {
   "cell_type": "code",
   "execution_count": 3,
   "id": "61ed6973",
   "metadata": {
    "execution": {
     "iopub.execute_input": "2023-09-14T15:21:50.525480Z",
     "iopub.status.busy": "2023-09-14T15:21:50.524894Z",
     "iopub.status.idle": "2023-09-14T15:21:50.530841Z",
     "shell.execute_reply": "2023-09-14T15:21:50.529887Z"
    },
    "papermill": {
     "duration": 0.026316,
     "end_time": "2023-09-14T15:21:50.532417",
     "exception": false,
     "start_time": "2023-09-14T15:21:50.506101",
     "status": "completed"
    },
    "tags": [
     "injected-parameters"
    ]
   },
   "outputs": [],
   "source": [
    "# Parameters\n",
    "experiment_name = \"ana-flavia-NCxNR-trim\"\n",
    "base_dir = \"/home/lauro/nupeb/rede-micro/redemicro-ana-flavia-nutri\"\n",
    "manifest_file = \"/home/lauro/nupeb/rede-micro/redemicro-ana-flavia-nutri/data/raw/manifest/manifest-ana-flavia-NCxNR.csv\"\n",
    "metadata_file = \"/home/lauro/nupeb/rede-micro/redemicro-ana-flavia-nutri/data/raw/metadata/metadata-ana-flavia-NCxNR.tsv\"\n",
    "class_col = \"group-id\"\n",
    "classifier_file = \"/home/lauro/nupeb/rede-micro/models/silva-138-99-nb-classifier.qza\"\n",
    "top_n = 20\n",
    "replace_files = False\n",
    "phred = 20\n",
    "trunc_f = 0\n",
    "trunc_r = 0\n",
    "overlap = 12\n",
    "threads = 6\n",
    "trim = {\n",
    "    \"overlap\": 8,\n",
    "    \"forward_primer\": \"CCTACGGGRSGCAGCAG\",\n",
    "    \"reverse_primer\": \"GGACTACHVGGGTWTCTAAT\",\n",
    "}\n"
   ]
  },
  {
   "cell_type": "code",
   "execution_count": 4,
   "id": "f38617d9",
   "metadata": {
    "ExecuteTime": {
     "end_time": "2022-09-29T20:54:14.804575Z",
     "start_time": "2022-09-29T20:54:14.794927Z"
    },
    "execution": {
     "iopub.execute_input": "2023-09-14T15:21:50.575855Z",
     "iopub.status.busy": "2023-09-14T15:21:50.575601Z",
     "iopub.status.idle": "2023-09-14T15:21:50.578804Z",
     "shell.execute_reply": "2023-09-14T15:21:50.578314Z"
    },
    "papermill": {
     "duration": 0.022961,
     "end_time": "2023-09-14T15:21:50.580309",
     "exception": false,
     "start_time": "2023-09-14T15:21:50.557348",
     "status": "completed"
    },
    "tags": []
   },
   "outputs": [],
   "source": [
    "experiment_folder = os.path.abspath(os.path.join(base_dir, 'experiments', experiment_name))\n",
    "img_folder = os.path.abspath(os.path.join(experiment_folder, 'imgs'))"
   ]
  },
  {
   "cell_type": "markdown",
   "id": "ea9b90fb",
   "metadata": {
    "papermill": {
     "duration": 0.01754,
     "end_time": "2023-09-14T15:21:50.615513",
     "exception": false,
     "start_time": "2023-09-14T15:21:50.597973",
     "status": "completed"
    },
    "tags": []
   },
   "source": [
    "### Defining names, paths and flags"
   ]
  },
  {
   "cell_type": "code",
   "execution_count": 5,
   "id": "45727eef",
   "metadata": {
    "ExecuteTime": {
     "end_time": "2022-09-29T20:54:14.816686Z",
     "start_time": "2022-09-29T20:54:14.806238Z"
    },
    "execution": {
     "iopub.execute_input": "2023-09-14T15:21:50.651332Z",
     "iopub.status.busy": "2023-09-14T15:21:50.650938Z",
     "iopub.status.idle": "2023-09-14T15:21:50.656973Z",
     "shell.execute_reply": "2023-09-14T15:21:50.656227Z"
    },
    "papermill": {
     "duration": 0.025633,
     "end_time": "2023-09-14T15:21:50.658537",
     "exception": false,
     "start_time": "2023-09-14T15:21:50.632904",
     "status": "completed"
    },
    "tags": []
   },
   "outputs": [],
   "source": [
    "# QIIME2 Artifacts folder\n",
    "qiime_folder = os.path.join(experiment_folder, 'qiime-artifacts')\n",
    "\n",
    "# Input - DADA2 Artifacts\n",
    "dada2_tabs_path = os.path.join(qiime_folder, 'dada2-tabs.qza')\n",
    "dada2_reps_path = os.path.join(qiime_folder, 'dada2-reps.qza')\n",
    "dada2_stat_path = os.path.join(qiime_folder, 'dada2-stat.qza')\n",
    "\n",
    "# Input - Taxonaomic Artifacts\n",
    "taxonomy_path = os.path.join(qiime_folder, 'metatax.qza')\n",
    "\n",
    "# Create folder to store Alpha files\n",
    "alpha_path = os.path.join(qiime_folder, 'alpha-analysis')\n",
    "if not os.path.exists(alpha_path):\n",
    "    os.makedirs(alpha_path)\n",
    "    print(f'The new directory is created in {alpha_path}')\n",
    "    \n",
    "# Create folder to store Beta files\n",
    "beta_path = os.path.join(qiime_folder, 'beta-analysis')\n",
    "if not os.path.exists(beta_path):\n",
    "    os.makedirs(beta_path)\n",
    "    print(f'The new directory is created in {beta_path}')\n",
    "\n",
    "# Output -Diversity Artifacts\n",
    "alpha_diversity_path = os.path.join(alpha_path, 'alpha-diversity.qza')\n",
    "alpha_diversity_view_path = os.path.join(alpha_path, 'alpha-diversity.qzv')\n",
    "beta_diversity_path = os.path.join(beta_path, 'beta-diversity.qza')\n",
    "beta_diversity_view_path = os.path.join(beta_path, 'beta-diversity.qzv')"
   ]
  },
  {
   "cell_type": "code",
   "execution_count": 6,
   "id": "601ae263",
   "metadata": {
    "ExecuteTime": {
     "end_time": "2022-09-29T20:54:14.829117Z",
     "start_time": "2022-09-29T20:54:14.818272Z"
    },
    "execution": {
     "iopub.execute_input": "2023-09-14T15:21:50.695771Z",
     "iopub.status.busy": "2023-09-14T15:21:50.695519Z",
     "iopub.status.idle": "2023-09-14T15:21:50.700655Z",
     "shell.execute_reply": "2023-09-14T15:21:50.700153Z"
    },
    "papermill": {
     "duration": 0.024787,
     "end_time": "2023-09-14T15:21:50.702036",
     "exception": false,
     "start_time": "2023-09-14T15:21:50.677249",
     "status": "completed"
    },
    "tags": []
   },
   "outputs": [],
   "source": [
    "def filter_and_collapse(tab, seqs, tax, meta, lvl, exclude=True, exclude_list='uncultured,unidentified,metagenome'):\n",
    "    from qiime2.plugins.taxa.methods import collapse\n",
    "    from qiime2.plugins.taxa.methods import filter_table\n",
    "    from qiime2.plugins.feature_table.methods import filter_seqs\n",
    "    from qiime2.plugins.feature_table.visualizers import summarize\n",
    "    \n",
    "    to_include = ('d', 'p', 'c', 'o', 'f', 'g', 's')[lvl-1]\n",
    "    to_include += '__'\n",
    "    to_exclude = exclude_list if exclude else None\n",
    "    \n",
    "    filtered_tabs = filter_table(\n",
    "        table=tab, \n",
    "        taxonomy=tax,\n",
    "        include=to_include,\n",
    "        exclude=to_exclude,\n",
    "        mode='contains').filtered_table\n",
    "    \n",
    "    filtered_seqs = filter_seqs(\n",
    "        data = seqs,\n",
    "        table = filtered_tabs,\n",
    "    ).filtered_data\n",
    "    \n",
    "    collapsed_table = collapse(table=filtered_tabs, taxonomy=tax, level=lvl).collapsed_table\n",
    "    collapsed_table_view = summarize(table=collapsed_table, sample_metadata=meta).visualization\n",
    "    \n",
    "    return collapsed_table, collapsed_table_view, filtered_seqs"
   ]
  },
  {
   "cell_type": "markdown",
   "id": "0999a1b2",
   "metadata": {
    "papermill": {
     "duration": 0.017362,
     "end_time": "2023-09-14T15:21:50.738018",
     "exception": false,
     "start_time": "2023-09-14T15:21:50.720656",
     "status": "completed"
    },
    "tags": []
   },
   "source": [
    "## Step execution\n",
    "\n",
    "### Load input files\n",
    "\n",
    "This Step import the QIIME2 `FeatureTable[Frequency]` Artifact and the `Metadata` file."
   ]
  },
  {
   "cell_type": "code",
   "execution_count": 7,
   "id": "8f299d1a",
   "metadata": {
    "ExecuteTime": {
     "end_time": "2022-09-29T20:54:15.559837Z",
     "start_time": "2022-09-29T20:54:14.830405Z"
    },
    "execution": {
     "iopub.execute_input": "2023-09-14T15:21:50.775827Z",
     "iopub.status.busy": "2023-09-14T15:21:50.775580Z",
     "iopub.status.idle": "2023-09-14T15:21:52.125369Z",
     "shell.execute_reply": "2023-09-14T15:21:52.124437Z"
    },
    "papermill": {
     "duration": 1.372717,
     "end_time": "2023-09-14T15:21:52.128484",
     "exception": false,
     "start_time": "2023-09-14T15:21:50.755767",
     "status": "completed"
    },
    "tags": []
   },
   "outputs": [],
   "source": [
    "#Load Metadata\n",
    "metadata_qa = Metadata.load(metadata_file)\n",
    "\n",
    "#Load FeatureTable[Frequency]\n",
    "tabs = Artifact.load(dada2_tabs_path)\n",
    "tabs_df = tabs.view(Metadata).to_dataframe().T\n",
    "\n",
    "# FeatureData[Sequence]\n",
    "reps = Artifact.load(dada2_reps_path)\n",
    "\n",
    "# FeatureData[Taxonomy]\n",
    "tax = Artifact.load(taxonomy_path)"
   ]
  },
  {
   "cell_type": "code",
   "execution_count": 8,
   "id": "c8dfe530",
   "metadata": {
    "ExecuteTime": {
     "end_time": "2022-09-29T20:54:15.564968Z",
     "start_time": "2022-09-29T20:54:15.561875Z"
    },
    "execution": {
     "iopub.execute_input": "2023-09-14T15:21:52.174376Z",
     "iopub.status.busy": "2023-09-14T15:21:52.173992Z",
     "iopub.status.idle": "2023-09-14T15:21:53.149060Z",
     "shell.execute_reply": "2023-09-14T15:21:53.148132Z"
    },
    "papermill": {
     "duration": 0.997557,
     "end_time": "2023-09-14T15:21:53.152032",
     "exception": false,
     "start_time": "2023-09-14T15:21:52.154475",
     "status": "completed"
    },
    "tags": []
   },
   "outputs": [
    {
     "name": "stdout",
     "output_type": "stream",
     "text": [
      "{'min_frequency': 0, 'max_frequency': None, 'min_features': 0, 'max_features': None, 'metadata': Metadata\n",
      "--------\n",
      "9 IDs x 3 columns\n",
      "sample-name: ColumnProperties(type='categorical')\n",
      "group-id:    ColumnProperties(type='categorical')\n",
      "group-desc:  ColumnProperties(type='categorical')\n",
      "\n",
      "Call to_dataframe() for a tabular representation., 'where': None, 'exclude_ids': False, 'filter_empty_features': True, 'table': 2732 x 74 <class 'biom.table.Table'> with 12512 nonzero entries (6% dense)}\n",
      "{'min_frequency': 0, 'max_frequency': None, 'min_features': 0, 'max_features': None, 'metadata': Metadata\n",
      "--------\n",
      "9 IDs x 3 columns\n",
      "sample-name: ColumnProperties(type='categorical')\n",
      "group-id:    ColumnProperties(type='categorical')\n",
      "group-desc:  ColumnProperties(type='categorical')\n",
      "\n",
      "Call to_dataframe() for a tabular representation., 'where': None, 'exclude_ids': False, 'filter_empty_features': True, 'table': 2732 x 74 <class 'biom.table.Table'> with 12512 nonzero entries (6% dense)}\n"
     ]
    },
    {
     "name": "stdout",
     "output_type": "stream",
     "text": [
      "{'metadata': None, 'where': None, 'exclude_ids': False, 'data': c688e3b1ada46ed57f5b7e7e0d56664f    (((T)), ((G)), ((A)), ((G)), ((G)), ((A)), ((A...\n",
      "bc798de4a9acd3ff7ba51c244523be14    (((T)), ((G)), ((A)), ((G)), ((G)), ((A)), ((A...\n",
      "fca5b1ccd94b107a3ddf3e99feaafb6f    (((T)), ((G)), ((A)), ((G)), ((G)), ((A)), ((A...\n",
      "5ba9e679e692fcbf933c554317e03c5f    (((T)), ((A)), ((G)), ((G)), ((G)), ((A)), ((A...\n",
      "04581eba9e6fd12787fb5948fcef030f    (((T)), ((G)), ((A)), ((G)), ((G)), ((A)), ((A...\n",
      "                                                          ...                        \n",
      "dbc83a2f59a61f2cc57971a85718406b    (((T)), ((G)), ((G)), ((G)), ((G)), ((A)), ((A...\n",
      "4393f0be1354f7198d1969c44d34d44a    (((T)), ((G)), ((A)), ((G)), ((G)), ((A)), ((A...\n",
      "a86e1aaa4715133f8fa2c0f52e03e6d7    (((T)), ((G)), ((G)), ((G)), ((G)), ((A)), ((A...\n",
      "aa37170c6d59f9077a2644f8c25df05d    (((T)), ((G)), ((G)), ((G)), ((G)), ((A)), ((A...\n",
      "9c3f20cb7568feda60cc7776400d8d64    (((G)), ((A)), ((A)), ((A)), ((T)), ((G)), ((C...\n",
      "Length: 2732, dtype: object, 'table': 668 x 9 <class 'biom.table.Table'> with 1453 nonzero entries (24% dense)}\n"
     ]
    },
    {
     "name": "stdout",
     "output_type": "stream",
     "text": [
      "{'metadata': None, 'where': None, 'exclude_ids': False, 'data': c688e3b1ada46ed57f5b7e7e0d56664f    (((T)), ((G)), ((A)), ((G)), ((G)), ((A)), ((A...\n",
      "bc798de4a9acd3ff7ba51c244523be14    (((T)), ((G)), ((A)), ((G)), ((G)), ((A)), ((A...\n",
      "fca5b1ccd94b107a3ddf3e99feaafb6f    (((T)), ((G)), ((A)), ((G)), ((G)), ((A)), ((A...\n",
      "5ba9e679e692fcbf933c554317e03c5f    (((T)), ((A)), ((G)), ((G)), ((G)), ((A)), ((A...\n",
      "04581eba9e6fd12787fb5948fcef030f    (((T)), ((G)), ((A)), ((G)), ((G)), ((A)), ((A...\n",
      "                                                          ...                        \n",
      "dbc83a2f59a61f2cc57971a85718406b    (((T)), ((G)), ((G)), ((G)), ((G)), ((A)), ((A...\n",
      "4393f0be1354f7198d1969c44d34d44a    (((T)), ((G)), ((A)), ((G)), ((G)), ((A)), ((A...\n",
      "a86e1aaa4715133f8fa2c0f52e03e6d7    (((T)), ((G)), ((G)), ((G)), ((G)), ((A)), ((A...\n",
      "aa37170c6d59f9077a2644f8c25df05d    (((T)), ((G)), ((G)), ((G)), ((G)), ((A)), ((A...\n",
      "9c3f20cb7568feda60cc7776400d8d64    (((G)), ((A)), ((A)), ((A)), ((T)), ((G)), ((C...\n",
      "Length: 2732, dtype: object, 'table': 668 x 9 <class 'biom.table.Table'> with 1453 nonzero entries (24% dense)}\n"
     ]
    }
   ],
   "source": [
    "# Filter FeatureTable[Frequency | RelativeFrequency | PresenceAbsence | Composition] based on Metadata sample ID values\n",
    "tabs = filter_samples(\n",
    "    table=tabs,\n",
    "    metadata=metadata_qa,\n",
    ").filtered_table\n",
    "# Filter SampleData[SequencesWithQuality | PairedEndSequencesWithQuality | JoinedSequencesWithQuality] based on Metadata sample ID values; returns FeatureData[Sequence | AlignedSequence]\n",
    "reps = filter_seqs(\n",
    "    data=reps,\n",
    "    table=tabs,\n",
    ").filtered_data"
   ]
  },
  {
   "cell_type": "markdown",
   "id": "9f43843a",
   "metadata": {
    "ExecuteTime": {
     "end_time": "2022-09-22T22:48:07.523952Z",
     "start_time": "2022-09-22T22:48:07.517565Z"
    },
    "papermill": {
     "duration": 0.019326,
     "end_time": "2023-09-14T15:21:53.198390",
     "exception": false,
     "start_time": "2023-09-14T15:21:53.179064",
     "status": "completed"
    },
    "tags": []
   },
   "source": [
    "## Alpha diversity analysis\n",
    "\n",
    "#### Reference\n",
    "- [The Use and Types of Alpha-Diversity Metrics in Microbial NGS](https://www.cd-genomics.com/microbioseq/the-use-and-types-of-alpha-diversity-metrics-in-microbial-ngs.html)\n",
    "- [Alpha diversity metrics](http://scikit-bio.org/docs/0.2.0/generated/skbio.diversity.alpha.html)\n",
    "\n",
    "#### Methods\n",
    "- [diversity alpha](https://docs.qiime2.org/2022.8/plugins/available/diversity/alpha/): Computes a user-specified alpha diversity metric for all samples in a\n",
    "feature table.\n",
    "- [diversity alpha_phylogenetic](https://docs.qiime2.org/2022.8/plugins/available/diversity/alpha-phylogenetic/): Computes a user-specified phylogenetic alpha diversity metric for all\n",
    "samples in a feature table.\n",
    "- [diversity alpha_correlation](https://docs.qiime2.org/2022.8/plugins/available/diversity/alpha-correlation/): Determine whether numeric sample metadata columns are correlated with alpha diversity.\n",
    "- [diversity alpha_group_significance](https://docs.qiime2.org/2022.8/plugins/available/diversity/alpha-group-significance/): Visually and statistically compare groups of alpha diversity values."
   ]
  },
  {
   "cell_type": "markdown",
   "id": "606b9c75",
   "metadata": {
    "papermill": {
     "duration": 0.01957,
     "end_time": "2023-09-14T15:21:53.237716",
     "exception": false,
     "start_time": "2023-09-14T15:21:53.218146",
     "status": "completed"
    },
    "tags": []
   },
   "source": [
    "### Compute Alpha Diversity vectors\n",
    "- [diversity alpha](https://docs.qiime2.org/2022.8/plugins/available/diversity/alpha/): Computes a user-specified alpha diversity metric for all samples in a feature table.\n",
    "- [Alpha diversity metrics](http://scikit-bio.org/docs/0.2.0/generated/skbio.diversity.alpha.html)\n",
    " - Choices: ('ace', 'berger_parker_d', 'brillouin_d', 'chao1', 'chao1_ci', 'dominance', 'doubles', 'enspie', 'esty_ci', 'fisher_alpha', 'gini_index', 'goods_coverage', 'heip_e', 'kempton_taylor_q', 'lladser_pe', 'margalef', 'mcintosh_d', 'mcintosh_e', 'menhinick', 'michaelis_menten_fit', 'observed_features', 'osd', 'pielou_e', 'robbins', 'shannon', 'simpson', 'simpson_e', 'singles', 'strong')"
   ]
  },
  {
   "cell_type": "code",
   "execution_count": 9,
   "id": "556e5264",
   "metadata": {
    "ExecuteTime": {
     "end_time": "2022-09-29T20:54:20.790166Z",
     "start_time": "2022-09-29T20:54:20.451134Z"
    },
    "execution": {
     "iopub.execute_input": "2023-09-14T15:21:53.278369Z",
     "iopub.status.busy": "2023-09-14T15:21:53.277758Z",
     "iopub.status.idle": "2023-09-14T15:21:53.649554Z",
     "shell.execute_reply": "2023-09-14T15:21:53.648925Z"
    },
    "papermill": {
     "duration": 0.395281,
     "end_time": "2023-09-14T15:21:53.652377",
     "exception": false,
     "start_time": "2023-09-14T15:21:53.257096",
     "status": "completed"
    },
    "tags": []
   },
   "outputs": [
    {
     "name": "stdout",
     "output_type": "stream",
     "text": [
      "Calculating alpha diversity: chao1\n",
      "{'metric': 'chao1', 'table': <artifact: FeatureTable[Frequency] uuid: 1947ead3-2c85-409d-bab7-8a10034a5dbc>}\n",
      "{'metric': 'chao1', 'table': 668 x 9 <class 'biom.table.Table'> with 1453 nonzero entries (24% dense)}\n",
      "{'metric': 'chao1', 'table': 668 x 9 <class 'biom.table.Table'> with 1453 nonzero entries (24% dense)}\n",
      "DONE: Calculating alpha diversity: chao1\n",
      "Calculating alpha diversity: chao1_ci\n",
      "{'metric': 'chao1_ci', 'table': <artifact: FeatureTable[Frequency] uuid: 1947ead3-2c85-409d-bab7-8a10034a5dbc>}\n",
      "{'metric': 'chao1_ci', 'table': 668 x 9 <class 'biom.table.Table'> with 1453 nonzero entries (24% dense)}\n",
      "{'metric': 'chao1_ci', 'table': 668 x 9 <class 'biom.table.Table'> with 1453 nonzero entries (24% dense)}\n",
      "DONE: Calculating alpha diversity: chao1_ci\n",
      "Calculating alpha diversity: observed_features\n",
      "{'metric': 'observed_features', 'table': <artifact: FeatureTable[Frequency] uuid: 1947ead3-2c85-409d-bab7-8a10034a5dbc>}\n",
      "{'table': 668 x 9 <class 'biom.table.Table'> with 1453 nonzero entries (24% dense)}\n",
      "{'table': 668 x 9 <class 'biom.table.Table'> with 1453 nonzero entries (24% dense)}\n",
      "DONE: Calculating alpha diversity: observed_features\n",
      "Calculating alpha diversity: shannon\n",
      "{'metric': 'shannon', 'table': <artifact: FeatureTable[Frequency] uuid: 1947ead3-2c85-409d-bab7-8a10034a5dbc>}\n",
      "{'drop_undefined_samples': False, 'table': 668 x 9 <class 'biom.table.Table'> with 1453 nonzero entries (24% dense)}\n",
      "{'drop_undefined_samples': False, 'table': 668 x 9 <class 'biom.table.Table'> with 1453 nonzero entries (24% dense)}\n"
     ]
    },
    {
     "name": "stdout",
     "output_type": "stream",
     "text": [
      "DONE: Calculating alpha diversity: shannon\n",
      "Calculating alpha diversity: simpson\n",
      "{'metric': 'simpson', 'table': <artifact: FeatureTable[Frequency] uuid: 1947ead3-2c85-409d-bab7-8a10034a5dbc>}\n",
      "{'metric': 'simpson', 'table': 668 x 9 <class 'biom.table.Table'> with 1453 nonzero entries (24% dense)}\n",
      "{'metric': 'simpson', 'table': 668 x 9 <class 'biom.table.Table'> with 1453 nonzero entries (24% dense)}\n",
      "DONE: Calculating alpha diversity: simpson\n",
      "Calculating alpha diversity: simpson_e\n",
      "{'metric': 'simpson_e', 'table': <artifact: FeatureTable[Frequency] uuid: 1947ead3-2c85-409d-bab7-8a10034a5dbc>}\n",
      "{'metric': 'simpson_e', 'table': 668 x 9 <class 'biom.table.Table'> with 1453 nonzero entries (24% dense)}\n",
      "{'metric': 'simpson_e', 'table': 668 x 9 <class 'biom.table.Table'> with 1453 nonzero entries (24% dense)}\n",
      "DONE: Calculating alpha diversity: simpson_e\n"
     ]
    }
   ],
   "source": [
    "metrics = ('ace', 'berger_parker_d', 'brillouin_d', 'chao1', 'chao1_ci', 'dominance', 'doubles', 'enspie', 'esty_ci', 'fisher_alpha', 'gini_index', 'goods_coverage', 'heip_e', 'kempton_taylor_q', 'lladser_pe', 'margalef', 'mcintosh_d', 'mcintosh_e', 'menhinick', 'michaelis_menten_fit', 'observed_features', 'osd', 'pielou_e', 'robbins', 'shannon', 'simpson', 'simpson_e', 'singles', 'strong')\n",
    "\n",
    "# Sugestão de valores para Alpha diversity\n",
    "# chao1 e observed_features (riqueza); shannon e simpson (diversidade - que levam em consideração riqueza e equitabilidade).\n",
    "metrics = ('chao1', 'chao1_ci', 'observed_features', 'shannon', 'simpson', 'simpson_e')\n",
    "alpha_diversities = dict()\n",
    "for metric in metrics:\n",
    "    print(f\"Calculating alpha diversity: {metric}\")\n",
    "    try:\n",
    "        alpha_diversity = alpha(table=tabs, metric=metric).alpha_diversity\n",
    "        alpha_diversities[metric] = alpha_diversity\n",
    "        # Save SampleData[AlphaDiversity] Artifact\n",
    "        file_path = os.path.join(alpha_path, f'alpha-values-{metric}.qza')\n",
    "        alpha_diversity.save(file_path)\n",
    "        print(f\"DONE: Calculating alpha diversity: {metric}\")\n",
    "    except Exception as e:\n",
    "        print(f\"ERROR: Calculating alpha diversity: {metric}\")\n",
    "        print(e)"
   ]
  },
  {
   "cell_type": "markdown",
   "id": "184bcb7b",
   "metadata": {
    "papermill": {
     "duration": 0.01956,
     "end_time": "2023-09-14T15:21:53.698897",
     "exception": false,
     "start_time": "2023-09-14T15:21:53.679337",
     "status": "completed"
    },
    "tags": []
   },
   "source": [
    "### Create Phylogenetic inference\n",
    "\n",
    "- [alignment align_to_tree_mafft_fasttree](https://docs.qiime2.org/2022.8/plugins/available/phylogeny/align-to-tree-mafft-fasttree/): Build a phylogenetic tree using fasttree and mafft alignment\n",
    "\n",
    "This pipeline will start by creating a sequence alignment using MAFFT,\n",
    "after which any alignment columns that are phylogenetically uninformative\n",
    "or ambiguously aligned will be removed (masked). The resulting masked\n",
    "alignment will be used to infer a phylogenetic tree and then subsequently\n",
    "rooted at its midpoint. Output files from each step of the pipeline will be\n",
    "saved. This includes both the unmasked and masked MAFFT alignment from\n",
    "q2-alignment methods, and both the rooted and unrooted phylogenies from\n",
    "q2-phylogeny methods.\n",
    "\n",
    "\n",
    "Returns\n",
    "- alignment : FeatureData[AlignedSequence] : The aligned sequences.\n",
    "- masked_alignment : FeatureData[AlignedSequence] : The masked alignment.\n",
    "- tree : Phylogeny[Unrooted] : The unrooted phylogenetic tree.\n",
    "- rooted_tree : Phylogeny[Rooted] : The rooted phylogenetic tree."
   ]
  },
  {
   "cell_type": "code",
   "execution_count": 10,
   "id": "9c8cfe47",
   "metadata": {
    "ExecuteTime": {
     "end_time": "2022-09-29T20:54:35.139531Z",
     "start_time": "2022-09-29T20:54:20.792130Z"
    },
    "execution": {
     "iopub.execute_input": "2023-09-14T15:21:53.739995Z",
     "iopub.status.busy": "2023-09-14T15:21:53.739613Z",
     "iopub.status.idle": "2023-09-14T15:22:05.205037Z",
     "shell.execute_reply": "2023-09-14T15:22:05.204310Z"
    },
    "papermill": {
     "duration": 11.488788,
     "end_time": "2023-09-14T15:22:05.207387",
     "exception": false,
     "start_time": "2023-09-14T15:21:53.718599",
     "status": "completed"
    },
    "tags": []
   },
   "outputs": [
    {
     "name": "stdout",
     "output_type": "stream",
     "text": [
      "{'n_threads': 6, 'mask_max_gap_frequency': 1.0, 'mask_min_conservation': 0.4, 'parttree': False, 'sequences': <artifact: FeatureData[Sequence] uuid: f49eb207-46b8-4fea-8b44-72b5bc6585db>}\n",
      "{'n_threads': 6, 'parttree': False, 'sequences': <q2_types.feature_data._format.DNAFASTAFormat object at 0x7f2094b06400>}\n",
      "{'n_threads': 6, 'parttree': False, 'sequences': <q2_types.feature_data._format.DNAFASTAFormat object at 0x7f2094b06400>}\n",
      "Running external command line application. This may print messages to stdout and/or stderr.\n",
      "The command being run is below. This command cannot be manually re-run as it will depend on temporary files that no longer exist.\n",
      "\n",
      "Command: mafft --preservecase --inputorder --thread 6 /tmp/qiime2-archive-irs2e6ui/f49eb207-46b8-4fea-8b44-72b5bc6585db/data/dna-sequences.fasta\n",
      "\n"
     ]
    },
    {
     "name": "stderr",
     "output_type": "stream",
     "text": [
      "inputfile = orig\n",
      "668 x 430 - 282 d\n",
      "nthread = 6\n",
      "nthreadpair = 6\n",
      "nthreadtb = 6\n",
      "ppenalty_ex = 0\n",
      "stacksize: 8192 kb\n",
      "generating a scoring matrix for nucleotide (dist=200) ... done\n",
      "Gap Penalty = -1.53, +0.00, +0.00\n",
      "\n",
      "\n",
      "\n",
      "Making a distance matrix ..\n",
      "\r",
      "    1 / 668 (thread    0)\r",
      "  101 / 668 (thread    4)\r",
      "  201 / 668 (thread    5)\r",
      "  301 / 668 (thread    4)\r",
      "  401 / 668 (thread    2)\r",
      "  501 / 668 (thread    5)\r",
      "  601 / 668 (thread    1)\n",
      "done.\n",
      "\n",
      "Constructing a UPGMA tree (efffree=0) ... \n",
      "\r",
      "    0 / 668\r",
      "   10 / 668\r",
      "   20 / 668\r",
      "   30 / 668\r",
      "   40 / 668\r",
      "   50 / 668\r",
      "   60 / 668\r",
      "   70 / 668\r",
      "   80 / 668\r",
      "   90 / 668\r",
      "  100 / 668\r",
      "  110 / 668\r",
      "  120 / 668\r",
      "  130 / 668\r",
      "  140 / 668\r",
      "  150 / 668\r",
      "  160 / 668\r",
      "  170 / 668\r",
      "  180 / 668\r",
      "  190 / 668\r",
      "  200 / 668\r",
      "  210 / 668\r",
      "  220 / 668\r",
      "  230 / 668\r",
      "  240 / 668\r",
      "  250 / 668\r",
      "  260 / 668\r",
      "  270 / 668\r",
      "  280 / 668\r",
      "  290 / 668\r",
      "  300 / 668\r",
      "  310 / 668\r",
      "  320 / 668\r",
      "  330 / 668\r",
      "  340 / 668\r",
      "  350 / 668\r",
      "  360 / 668\r",
      "  370 / 668\r",
      "  380 / 668\r",
      "  390 / 668\r",
      "  400 / 668\r",
      "  410 / 668\r",
      "  420 / 668\r",
      "  430 / 668\r",
      "  440 / 668\r",
      "  450 / 668\r",
      "  460 / 668\r",
      "  470 / 668\r",
      "  480 / 668\r",
      "  490 / 668\r",
      "  500 / 668\r",
      "  510 / 668\r",
      "  520 / 668\r",
      "  530 / 668\r",
      "  540 / 668\r",
      "  550 / 668\r",
      "  560 / 668\r",
      "  570 / 668\r",
      "  580 / 668\r",
      "  590 / 668\r",
      "  600 / 668\r",
      "  610 / 668\r",
      "  620 / 668\r",
      "  630 / 668\r",
      "  640 / 668\r",
      "  650 / 668\r",
      "  660 / 668\n",
      "done.\n",
      "\n",
      "Progressive alignment 1/2... \n",
      "\r",
      "STEP     1 / 667 (thread    0) f\b\b\r",
      "STEP     2 / 667 (thread    1) f\b\b\r",
      "STEP     4 / 667 (thread    3) f\b\b\r",
      "STEP     3 / 667 (thread    2) f\b\b\r",
      "STEP     5 / 667 (thread    4) f\b\b\r",
      "STEP     6 / 667 (thread    5) f\b\b\r",
      "STEP     7 / 667 (thread    3) f\b\b\r",
      "STEP     8 / 667 (thread    5) f\b\b\r",
      "STEP     9 / 667 (thread    2) f\b\b\r",
      "STEP    10 / 667 (thread    3) f\b\b\r",
      "STEP    11 / 667 (thread    5) f\b\b\r",
      "STEP    12 / 667 (thread    1) f\b\b\r",
      "STEP    13 / 667 (thread    3) f\b\b\r",
      "STEP    14 / 667 (thread    2) f\b\b\r",
      "STEP    15 / 667 (thread    0) f\b\b\r",
      "STEP    16 / 667 (thread    5) f\b\b\r",
      "STEP    17 / 667 (thread    4) f\b\b\r",
      "STEP    18 / 667 (thread    1) f\b\b\r",
      "STEP    19 / 667 (thread    3) f\b\b\r",
      "STEP    20 / 667 (thread    5) f\b\b\r",
      "STEP    21 / 667 (thread    0) f\b\b\r",
      "STEP    22 / 667 (thread    2) f\b\b\r",
      "STEP    23 / 667 (thread    4) f\b\b\r",
      "STEP    24 / 667 (thread    3) f\b\b\r",
      "STEP    25 / 667 (thread    5) f\b\b\r",
      "STEP    26 / 667 (thread    1) f\b\b\r",
      "STEP    27 / 667 (thread    3) f\b\b\r",
      "STEP    28 / 667 (thread    5) f\b\b\r",
      "STEP    29 / 667 (thread    0) f\b\b\r",
      "STEP    30 / 667 (thread    2) f\b\b\r",
      "STEP    31 / 667 (thread    4) f\b\b\r",
      "STEP    32 / 667 (thread    1) f\b\b\r",
      "STEP    33 / 667 (thread    3) f\b\b\r",
      "STEP    34 / 667 (thread    5) f\b\b\r",
      "STEP    35 / 667 (thread    0) f\b\b\r",
      "STEP    36 / 667 (thread    2) f\b\b\r",
      "STEP    37 / 667 (thread    4) f\b\b\r",
      "STEP    38 / 667 (thread    1) f\b\b\r",
      "STEP    39 / 667 (thread    3) f\b\b\r",
      "STEP    40 / 667 (thread    5) f\b\b\r",
      "STEP    41 / 667 (thread    2) f\b\b\r",
      "STEP    42 / 667 (thread    4) f\b\b\r",
      "STEP    43 / 667 (thread    1) f\b\b\r",
      "STEP    44 / 667 (thread    3) f\b\b\r",
      "STEP    45 / 667 (thread    5) f\b\b\r",
      "STEP    46 / 667 (thread    2) f\b\b\r",
      "STEP    47 / 667 (thread    4) f\b\b\r",
      "STEP    48 / 667 (thread    0) f\b\b\r",
      "STEP    49 / 667 (thread    1) f\b\b\r",
      "STEP    50 / 667 (thread    3) f\b\b\r",
      "STEP    51 / 667 (thread    5) f\b\b\r",
      "STEP    52 / 667 (thread    2) f\b\b\r",
      "STEP    54 / 667 (thread    0) f\b\b\r",
      "STEP    55 / 667 (thread    1) f\b\b\r",
      "STEP    56 / 667 (thread    3) f\b\b\r",
      "STEP    57 / 667 (thread    2) f\b\b\r",
      "STEP    53 / 667 (thread    4) f\b\b\r",
      "STEP    58 / 667 (thread    5) f\b\b\r",
      "STEP    59 / 667 (thread    0) f\b\b\r",
      "STEP    60 / 667 (thread    1) f\b\b\r",
      "STEP    61 / 667 (thread    3) f\b\b\r",
      "STEP    62 / 667 (thread    2) f\b\b\r",
      "STEP    63 / 667 (thread    5) f\b\b\r",
      "STEP    64 / 667 (thread    2) f\b\b\r",
      "STEP    65 / 667 (thread    1) f\b\b\r",
      "STEP    66 / 667 (thread    0) f\b\b\r",
      "STEP    67 / 667 (thread    3) f\b\b\r",
      "STEP    68 / 667 (thread    2) f\b\b\r",
      "STEP    69 / 667 (thread    5) f\b\b\r",
      "STEP    70 / 667 (thread    0) f\b\b\r",
      "STEP    71 / 667 (thread    1) f\b\b\r",
      "STEP    72 / 667 (thread    4) f\b\b\r",
      "STEP    74 / 667 (thread    2) f\b\b\r",
      "STEP    75 / 667 (thread    5) f\b\b\r",
      "STEP    76 / 667 (thread    2) f\b\b\r",
      "STEP    77 / 667 (thread    0) f\b\b\r",
      "STEP    78 / 667 (thread    4) f\b\b\r",
      "STEP    73 / 667 (thread    3) f\b\b\r",
      "STEP    80 / 667 (thread    2) f\b\b\r",
      "STEP    81 / 667 (thread    4) f\b\b\r",
      "STEP    82 / 667 (thread    0)\r",
      "STEP    79 / 667 (thread    1) f\b\b f\b\b\r",
      "STEP    83 / 667 (thread    5) f\b\b\r",
      "STEP    84 / 667 (thread    2) f\b\b\r",
      "STEP    86 / 667 (thread    5) f\b\b\r",
      "STEP    87 / 667 (thread    3) f\b\b\r",
      "STEP    85 / 667 (thread    0) f\b\b\r",
      "STEP    88 / 667 (thread    2) f\b\b\r",
      "STEP    89 / 667 (thread    1) f\b\b\r",
      "STEP    91 / 667 (thread    2) f\b\b\r",
      "STEP    92 / 667 (thread    5) f\b\b\r",
      "STEP    93 / 667 (thread    3) f\b\b\r",
      "STEP    94 / 667 (thread    0) f\b\b\r",
      "STEP    95 / 667 (thread    1) f\b\b\r",
      "STEP    90 / 667 (thread    4) f\b\b\r",
      "STEP    96 / 667 (thread    2) f\b\b\r",
      "STEP    97 / 667 (thread    5) f\b\b\r",
      "STEP    98 / 667 (thread    0) f\b\b\r",
      "STEP    99 / 667 (thread    1) f\b\b\r",
      "STEP   100 / 667 (thread    3) f\b\b\r",
      "STEP   101 / 667 (thread    4) f\b\b\r",
      "STEP   102 / 667 (thread    2) f\b\b\r",
      "STEP   103 / 667 (thread    5) f\b\b\r",
      "STEP   104 / 667 (thread    4) f\b\b\r",
      "STEP   105 / 667 (thread    0) f\b\b\r",
      "STEP   106 / 667 (thread    3) f\b\b\r",
      "STEP   107 / 667 (thread    2) f\b\b\r",
      "STEP   108 / 667 (thread    4) f\b\b\r",
      "STEP   109 / 667 (thread    5) f\b\b\r",
      "STEP   110 / 667 (thread    2) f\b\b\r",
      "STEP   111 / 667 (thread    0) f\b\b\r",
      "STEP   112 / 667 (thread    3) f\b\b\r",
      "STEP   113 / 667 (thread    1) f\b\b\r",
      "STEP   114 / 667 (thread    4) f\b\b\r",
      "STEP   115 / 667 (thread    0) f\b\b\r",
      "STEP   116 / 667 (thread    3) f\b\b\r",
      "STEP   117 / 667 (thread    2) f\b\b\r",
      "STEP   118 / 667 (thread    1) f\b\b\r",
      "STEP   119 / 667 (thread    4) f\b\b\r",
      "STEP   120 / 667 (thread    5) f\b\b\r",
      "STEP   121 / 667 (thread    2) f\b\b\r",
      "STEP   122 / 667 (thread    3) f\b\b\r",
      "STEP   123 / 667 (thread    4) f\b\b\r",
      "STEP   124 / 667 (thread    1) f\b\b\r",
      "STEP   125 / 667 (thread    5) f\b\b\r",
      "STEP   126 / 667 (thread    4) f\b\b\r",
      "STEP   127 / 667 (thread    0) f\b\b\r",
      "STEP   128 / 667 (thread    2) f\b\b\r",
      "STEP   129 / 667 (thread    3) f\b\b\r",
      "STEP   130 / 667 (thread    1) f\b\b\r",
      "STEP   131 / 667 (thread    4) f\b\b\r",
      "STEP   132 / 667 (thread    5) f\b\b\r",
      "STEP   134 / 667 (thread    2) f\b\b\r",
      "STEP   135 / 667 (thread    5) f\b\b\r",
      "STEP   136 / 667 (thread    1) f\b\b\r",
      "STEP   137 / 667 (thread    3) f\b\b\r",
      "STEP   138 / 667 (thread    2) f\b\b\r",
      "STEP   139 / 667 (thread    4) f\b\b\r",
      "STEP   133 / 667 (thread    0) f\b\b\r",
      "STEP   140 / 667 (thread    5) f\b\b\r",
      "STEP   141 / 667 (thread    3) f\b\b\r",
      "STEP   142 / 667 (thread    1) f\b\b\r",
      "STEP   144 / 667 (thread    5) f\b\b\r",
      "STEP   145 / 667 (thread    4) f\b\b\r",
      "STEP   146 / 667 (thread    0) f\b\b\r",
      "STEP   143 / 667 (thread    2) f\b\b\r",
      "STEP   147 / 667 (thread    1) f\b\b\r",
      "STEP   148 / 667 (thread    4) f\b\b\r",
      "STEP   149 / 667 (thread    5) f\b\b\r",
      "STEP   150 / 667 (thread    3) f\b\b\r",
      "STEP   151 / 667 (thread    0) f\b\b\r",
      "STEP   152 / 667 (thread    1) f\b\b\r",
      "STEP   153 / 667 (thread    5) f\b\b\r",
      "STEP   154 / 667 (thread    4) f\b\b\r",
      "STEP   155 / 667 (thread    2) f\b\b\r",
      "STEP   156 / 667 (thread    4) f\b\b\r",
      "STEP   157 / 667 (thread    5) f\b\b\r",
      "STEP   158 / 667 (thread    1) f\b\b\r",
      "STEP   159 / 667 (thread    2) f\b\b\r",
      "STEP   160 / 667 (thread    4) f\b\b\r",
      "STEP   161 / 667 (thread    0) f\b\b\r",
      "STEP   162 / 667 (thread    3) f\b\b\r",
      "STEP   163 / 667 (thread    5) f\b\b\r",
      "STEP   164 / 667 (thread    1) f\b\b\r",
      "STEP   165 / 667 (thread    0) f\b\b\r",
      "STEP   166 / 667 (thread    3) f\b\b\r",
      "STEP   167 / 667 (thread    4) f\b\b\r",
      "STEP   168 / 667 (thread    5) f\b\b\r",
      "STEP   169 / 667 (thread    2) f\b\b\r",
      "STEP   170 / 667 (thread    1) f\b\b\r",
      "STEP   171 / 667 (thread    5) f\b\b\r",
      "STEP   172 / 667 (thread    4) f\b\b\r",
      "STEP   173 / 667 (thread    0) f\b\b\r",
      "STEP   174 / 667 (thread    3) f\b\b\r",
      "STEP   175 / 667 (thread    1) f\b\b\r",
      "STEP   176 / 667 (thread    2) f\b\b\r",
      "STEP   177 / 667 (thread    4) f\b\b\r",
      "STEP   178 / 667 (thread    5) f\b\b\r",
      "STEP   179 / 667 (thread    1) f\b\b\r",
      "STEP   180 / 667 (thread    4) f\b\b\r",
      "STEP   181 / 667 (thread    0) f\b\b\r",
      "STEP   182 / 667 (thread    2) f\b\b\r",
      "STEP   183 / 667 (thread    3) f\b\b\r",
      "STEP   184 / 667 (thread    1) f\b\b\r",
      "STEP   185 / 667 (thread    4) f\b\b\r",
      "STEP   186 / 667 (thread    5) f\b\b\r",
      "STEP   187 / 667 (thread    1) f\b\b\r",
      "STEP   188 / 667 (thread    4) f\b\b\r",
      "STEP   189 / 667 (thread    3) f\b\b\r",
      "STEP   190 / 667 (thread    0) f\b\b\r",
      "STEP   191 / 667 (thread    4) f\b\b\r",
      "STEP   192 / 667 (thread    1) f\b\b\r",
      "STEP   193 / 667 (thread    2) f\b\b\r",
      "STEP   194 / 667 (thread    5) f\b\b\r",
      "STEP   195 / 667 (thread    4) f\b\b\r",
      "STEP   196 / 667 (thread    3) f\b\b\r",
      "STEP   197 / 667 (thread    1) f\b\b\r",
      "STEP   198 / 667 (thread    0) f\b\b\r",
      "STEP   199 / 667 (thread    4) f\b\b\r",
      "STEP   200 / 667 (thread    3)\r",
      "STEP   201 / 667 (thread    2) f\b\b f\b\b\r",
      "STEP   202 / 667 (thread    5) f\b\b\r",
      "STEP   203 / 667 (thread    1) f\b\b\r",
      "STEP   204 / 667 (thread    4) f\b\b\r",
      "STEP   205 / 667 (thread    0) f\b\b\r",
      "STEP   206 / 667 (thread    1) f\b\b\r",
      "STEP   207 / 667 (thread    4) f\b\b\r",
      "STEP   208 / 667 (thread    2) f\b\b\r",
      "STEP   209 / 667 (thread    0) f\b\b\r",
      "STEP   210 / 667 (thread    3) f\b\b\r",
      "STEP   211 / 667 (thread    4) f\b\b\r",
      "STEP   212 / 667 (thread    5) f\b\b\r",
      "STEP   213 / 667 (thread    2) f\b\b\r",
      "STEP   214 / 667 (thread    0) f\b\b\r",
      "STEP   215 / 667 (thread    1) f\b\b\r",
      "STEP   216 / 667 (thread    2) f\b\b\r",
      "STEP   217 / 667 (thread    0) f\b\b\r",
      "STEP   218 / 667 (thread    4) f\b\b\r",
      "STEP   219 / 667 (thread    5) f\b\b\r",
      "STEP   220 / 667 (thread    1) f\b\b\r",
      "STEP   221 / 667 (thread    3) f\b\b\r",
      "STEP   222 / 667 (thread    2) f\b\b\r",
      "STEP   223 / 667 (thread    4) f\b\b\r",
      "STEP   224 / 667 (thread    0) f\b\b\r",
      "STEP   225 / 667 (thread    5) f\b\b\r",
      "STEP   226 / 667 (thread    2) f\b\b\r",
      "STEP   227 / 667 (thread    1) f\b\b\r",
      "STEP   228 / 667 (thread    4) f\b\b\r",
      "STEP   229 / 667 (thread    3) f\b\b\r",
      "STEP   230 / 667 (thread    4) f\b\b\r",
      "STEP   231 / 667 (thread    1) f\b\b\r",
      "STEP   232 / 667 (thread    4) f\b\b\r",
      "STEP   233 / 667 (thread    0) f\b\b\r",
      "STEP   234 / 667 (thread    5) f\b\b\r",
      "STEP   235 / 667 (thread    3) f\b\b\r",
      "STEP   236 / 667 (thread    2) f\b\b\r",
      "STEP   237 / 667 (thread    1) f\b\b\r",
      "STEP   238 / 667 (thread    4) f\b\b\r",
      "STEP   239 / 667 (thread    4) f\b\b\r",
      "STEP   240 / 667 (thread    1) f\b\b\r",
      "STEP   241 / 667 (thread    5) f\b\b\r",
      "STEP   242 / 667 (thread    0) f\b\b\r",
      "STEP   243 / 667 (thread    3) f\b\b\r",
      "STEP   244 / 667 (thread    4) f\b\b\r",
      "STEP   245 / 667 (thread    2) f\b\b\r",
      "STEP   246 / 667 (thread    1) f\b\b\r",
      "STEP   247 / 667 (thread    4) f\b\b\r",
      "STEP   248 / 667 (thread    2) f\b\b\r",
      "STEP   249 / 667 (thread    0) f\b\b\r",
      "STEP   250 / 667 (thread    1) f\b\b\r",
      "STEP   251 / 667 (thread    5) f\b\b\r",
      "STEP   252 / 667 (thread    4) f\b\b\r",
      "STEP   253 / 667 (thread    1) f\b\b\r",
      "STEP   254 / 667 (thread    3) f\b\b\r",
      "STEP   255 / 667 (thread    0) f\b\b\r",
      "STEP   256 / 667 (thread    4) f\b\b\n",
      "Reallocating.."
     ]
    },
    {
     "name": "stderr",
     "output_type": "stream",
     "text": [
      "done. *alloclen = 1868\n",
      "\r",
      "STEP   258 / 667 (thread    2) f\b\b\r",
      "STEP   257 / 667 (thread    1) f\b\b\r",
      "STEP   259 / 667 (thread    5) f\b\b\r",
      "STEP   260 / 667 (thread    3) f\b\b\r",
      "STEP   261 / 667 (thread    0) f\b\b\r",
      "STEP   262 / 667 (thread    4) f\b\b\r",
      "STEP   263 / 667 (thread    1) f\b\b\r",
      "STEP   264 / 667 (thread    5) f\b\b\r",
      "STEP   265 / 667 (thread    4) f\b\b\r",
      "STEP   266 / 667 (thread    0) f\b\b\r",
      "STEP   267 / 667 (thread    2) f\b\b\r",
      "STEP   268 / 667 (thread    3) f\b\b\r",
      "STEP   269 / 667 (thread    1) f\b\b\r",
      "STEP   270 / 667 (thread    4) f\b\b\r",
      "STEP   271 / 667 (thread    5) f\b\b\r",
      "STEP   272 / 667 (thread    1) f\b\b\r",
      "STEP   273 / 667 (thread    0) f\b\b\r",
      "STEP   274 / 667 (thread    4) f\b\b\r",
      "STEP   275 / 667 (thread    2) f\b\b\r",
      "STEP   276 / 667 (thread    5) f\b\b\r",
      "STEP   277 / 667 (thread    3) f\b\b\r",
      "STEP   278 / 667 (thread    1) f\b\b\r",
      "STEP   279 / 667 (thread    0) f\b\b\r",
      "STEP   280 / 667 (thread    2) f\b\b\r",
      "STEP   281 / 667 (thread    4) f\b\b\r",
      "STEP   282 / 667 (thread    1) f\b\b\r",
      "STEP   283 / 667 (thread    3) f\b\b\r",
      "STEP   284 / 667 (thread    5) f\b\b\r",
      "STEP   285 / 667 (thread    4) f\b\b\r",
      "STEP   286 / 667 (thread    0) f\b\b\r",
      "STEP   287 / 667 (thread    1) f\b\b\r",
      "STEP   288 / 667 (thread    4) f\b\b\r",
      "STEP   289 / 667 (thread    3) f\b\b\r",
      "STEP   290 / 667 (thread    2) f\b\b\r",
      "STEP   291 / 667 (thread    4) f\b\b\r",
      "STEP   292 / 667 (thread    1) f\b\b\r",
      "STEP   293 / 667 (thread    5) f\b\b\r",
      "STEP   294 / 667 (thread    1) f\b\b\r",
      "STEP   295 / 667 (thread    3) f\b\b\r",
      "STEP   296 / 667 (thread    4) f\b\b\r",
      "STEP   297 / 667 (thread    0) f\b\b\r",
      "STEP   298 / 667 (thread    1) f\b\b\r",
      "STEP   299 / 667 (thread    2) f\b\b\r",
      "STEP   300 / 667 (thread    4) f\b\b\r",
      "STEP   301 / 667 (thread    3) f\b\b\r",
      "STEP   302 / 667 (thread    5) f\b\b\r",
      "STEP   303 / 667 (thread    1) f\b\b\r",
      "STEP   304 / 667 (thread    0) f\b\b\r",
      "STEP   305 / 667 (thread    4) f\b\b\r",
      "STEP   307 / 667 (thread    4) f\b\b\r",
      "STEP   308 / 667 (thread    0) f\b\b\r",
      "STEP   309 / 667 (thread    3) f\b\b\r",
      "STEP   306 / 667 (thread    1) f\b\b\r",
      "STEP   310 / 667 (thread    2) f\b\b\r",
      "STEP   311 / 667 (thread    4) f\b\b\r",
      "STEP   312 / 667 (thread    1) f\b\b\r",
      "STEP   313 / 667 (thread    5) f\b\b\r",
      "STEP   314 / 667 (thread    1) f\b\b\r",
      "STEP   316 / 667 (thread    3) f\b\b\r",
      "STEP   317 / 667 (thread    0) f\b\b\r",
      "STEP   318 / 667 (thread    2) f\b\b\r",
      "STEP   319 / 667 (thread    0) f\b\b\r",
      "STEP   315 / 667 (thread    4) f\b\b\r",
      "STEP   321 / 667 (thread    3) f\b\b\r",
      "STEP   320 / 667 (thread    1) f\b\b\r",
      "STEP   322 / 667 (thread    5) f\b\b\r",
      "STEP   324 / 667 (thread    0) f\b\b\r",
      "STEP   325 / 667 (thread    1) f\b\b\r",
      "STEP   326 / 667 (thread    4) f\b\b\r",
      "STEP   323 / 667 (thread    2) f\b\b\r",
      "STEP   327 / 667 (thread    3) f\b\b\r",
      "STEP   329 / 667 (thread    1) f\b\b\r",
      "STEP   330 / 667 (thread    4) f\b\b\r",
      "STEP   331 / 667 (thread    5) f\b\b\r",
      "STEP   328 / 667 (thread    0)\r",
      "STEP   332 / 667 (thread    2) f\b\b f\b\b\r",
      "STEP   333 / 667 (thread    4) f\b\b\r",
      "STEP   334 / 667 (thread    5) f\b\b\r",
      "STEP   335 / 667 (thread    1) f\b\b\r",
      "STEP   336 / 667 (thread    3) f\b\b\r",
      "STEP   337 / 667 (thread    4) f\b\b\r",
      "STEP   338 / 667 (thread    1) f\b\b\r",
      "STEP   340 / 667 (thread    0) f\b\b\r",
      "STEP   341 / 667 (thread    1) f\b\b\r",
      "STEP   342 / 667 (thread    4) f\b\b\r",
      "STEP   343 / 667 (thread    0) f\b\b\r",
      "STEP   344 / 667 (thread    3) f\b\b\r",
      "STEP   345 / 667 (thread    1) f\b\b\r",
      "STEP   347 / 667 (thread    0) f\b\b\r",
      "STEP   349 / 667 (thread    1) f\b\b\r",
      "STEP   348 / 667 (thread    0) f\b\b\r",
      "STEP   350 / 667 (thread    1) f\b\b\r",
      "STEP   339 / 667 (thread    2) f\b\b\r",
      "STEP   351 / 667 (thread    5) f\b\b\r",
      "STEP   352 / 667 (thread    3) f\b\b\r",
      "STEP   353 / 667 (thread    0) f\b\b\r",
      "STEP   354 / 667 (thread    0) f\b\b\r",
      "STEP   355 / 667 (thread    1) f\b\b\r",
      "STEP   356 / 667 (thread    3) f\b\b\r",
      "STEP   357 / 667 (thread    5) f\b\b\r",
      "STEP   358 / 667 (thread    0) f\b\b\r",
      "STEP   359 / 667 (thread    3) f\b\b\r",
      "STEP   360 / 667 (thread    0) f\b\b\r",
      "STEP   361 / 667 (thread    1) f\b\b\r",
      "STEP   363 / 667 (thread    3) f\b\b\r",
      "STEP   364 / 667 (thread    0) f\b\b\r",
      "STEP   365 / 667 (thread    2) f\b\b\r",
      "STEP   346 / 667 (thread    4) f\b\b\r",
      "STEP   366 / 667 (thread    3) f\b\b\r",
      "STEP   367 / 667 (thread    0) f\b\b\r",
      "STEP   368 / 667 (thread    1) f\b\b\r",
      "STEP   371 / 667 (thread    2) f\b\b\r",
      "STEP   372 / 667 (thread    1) f\b\b\r",
      "STEP   369 / 667 (thread    3) f\b\b\r",
      "STEP   373 / 667 (thread    2) f\b\b\r",
      "STEP   362 / 667 (thread    5) f\b\b\r",
      "STEP   374 / 667 (thread    4) f\b\b\r",
      "STEP   375 / 667 (thread    3) f\b\b\r",
      "STEP   376 / 667 (thread    2) f\b\b\r",
      "STEP   377 / 667 (thread    1) f\b\b\r",
      "STEP   378 / 667 (thread    4) f\b\b\r",
      "STEP   379 / 667 (thread    3) f\b\b\r",
      "STEP   381 / 667 (thread    1) f\b\b\r",
      "STEP   382 / 667 (thread    4) f\b\b\r",
      "STEP   370 / 667 (thread    0) f\b\b\r",
      "STEP   384 / 667 (thread    1) f\b\b\r",
      "STEP   385 / 667 (thread    3) f\b\b\r",
      "STEP   386 / 667 (thread    1) f\b\b\r",
      "STEP   387 / 667 (thread    3) f\b\b\r",
      "STEP   388 / 667 (thread    4) f\b\b\r",
      "STEP   390 / 667 (thread    3) f\b\b\r",
      "STEP   391 / 667 (thread    4) f\b\b\r",
      "STEP   392 / 667 (thread    3) f\b\b\r",
      "STEP   393 / 667 (thread    4) f\b\b\r",
      "STEP   380 / 667 (thread    2) f\b\b\r",
      "STEP   394 / 667 (thread    0) f\b\b\r",
      "STEP   395 / 667 (thread    3) f\b\b\r",
      "STEP   396 / 667 (thread    0) f\b\b\r",
      "STEP   397 / 667 (thread    3) f\b\b\r",
      "STEP   399 / 667 (thread    0) f\b\b\r",
      "STEP   400 / 667 (thread    2) f\b\b\r",
      "STEP   383 / 667 (thread    5) f\b\b\r",
      "STEP   401 / 667 (thread    0) f\b\b\r",
      "STEP   402 / 667 (thread    3) f\b\b\r",
      "STEP   403 / 667 (thread    2) f\b\b\r",
      "STEP   404 / 667 (thread    3) f\b\b\r",
      "STEP   405 / 667 (thread    2) f\b\b\r",
      "STEP   406 / 667 (thread    0) f\b\b\r",
      "STEP   407 / 667 (thread    3) f\b\b\r",
      "STEP   408 / 667 (thread    5) f\b\b\r",
      "STEP   389 / 667 (thread    1) f\b\b\r",
      "STEP   409 / 667 (thread    2) f\b\b\r",
      "STEP   410 / 667 (thread    0) f\b\b\r",
      "STEP   411 / 667 (thread    3) f\b\b\r",
      "STEP   412 / 667 (thread    5) f\b\b\r",
      "STEP   414 / 667 (thread    3) f\b\b\r",
      "STEP   415 / 667 (thread    5) f\b\b\r",
      "STEP   416 / 667 (thread    2) f\b\b\r",
      "STEP   417 / 667 (thread    1) f\b\b\r",
      "STEP   398 / 667 (thread    4) f\b\b\r",
      "STEP   420 / 667 (thread    1) f\b\b\r",
      "STEP   422 / 667 (thread    1) f\b\b\r",
      "STEP   423 / 667 (thread    1) f\b\b\r",
      "STEP   424 / 667 (thread    4) f\b\b\r",
      "STEP   413 / 667 (thread    0) f\b\b\r",
      "STEP   425 / 667 (thread    1) f\b\b\r",
      "STEP   426 / 667 (thread    4) f\b\b\r",
      "STEP   427 / 667 (thread    1) f\b\b\r",
      "STEP   428 / 667 (thread    1) f\b\b\r",
      "STEP   429 / 667 (thread    4) f\b\b\r",
      "STEP   430 / 667 (thread    1) f\b\b\r",
      "STEP   432 / 667 (thread    4) f\b\b\r",
      "STEP   433 / 667 (thread    0) f\b\b\r",
      "STEP   418 / 667 (thread    3) f\b\b\r",
      "STEP   434 / 667 (thread    4) f\b\b\r",
      "STEP   435 / 667 (thread    4) f\b\b\r",
      "STEP   436 / 667 (thread    4) f\b\b\r",
      "STEP   438 / 667 (thread    0) f\b\b\r",
      "STEP   439 / 667 (thread    0) f\b\b\r",
      "STEP   440 / 667 (thread    3) f\b\b\r",
      "STEP   419 / 667 (thread    5) f\b\b\r",
      "STEP   441 / 667 (thread    0) f\b\b\r",
      "STEP   442 / 667 (thread    3) f\b\b\r",
      "STEP   443 / 667 (thread    0) f\b\b\r",
      "STEP   445 / 667 (thread    5) f\b\b\r",
      "STEP   421 / 667 (thread    2) f\b\b\r",
      "STEP   446 / 667 (thread    0) f\b\b\r",
      "STEP   447 / 667 (thread    0) f\b\b\r",
      "STEP   448 / 667 (thread    5) f\b\b\r",
      "STEP   449 / 667 (thread    2) f\b\b\r",
      "STEP   431 / 667 (thread    1) f\b\b\r",
      "STEP   450 / 667 (thread    0) f\b\b\r",
      "STEP   451 / 667 (thread    5) f\b\b\r",
      "STEP   453 / 667 (thread    2) f\b\b\r",
      "STEP   454 / 667 (thread    5) f\b\b\r",
      "STEP   456 / 667 (thread    5) f\b\b\r",
      "STEP   457 / 667 (thread    1) f\b\b\r",
      "STEP   437 / 667 (thread    4) f\b\b\r",
      "STEP   458 / 667 (thread    5) f\b\b\r",
      "STEP   459 / 667 (thread    1) f\b\b\r",
      "STEP   460 / 667 (thread    5) f\b\b\r",
      "STEP   461 / 667 (thread    5) f\b\b\r",
      "STEP   463 / 667 (thread    5) f\b\b\r",
      "STEP   464 / 667 (thread    4) f\b\b\r",
      "STEP   444 / 667 (thread    3) f\b\b\r",
      "STEP   465 / 667 (thread    5) f\b\b\r",
      "STEP   466 / 667 (thread    4) f\b\b\r",
      "STEP   467 / 667 (thread    5) f\b\b\r",
      "STEP   468 / 667 (thread    4) f\b\b\r",
      "STEP   469 / 667 (thread    5) f\b\b\r",
      "STEP   452 / 667 (thread    0) f\b\b\r",
      "STEP   470 / 667 (thread    3) f\b\b\r",
      "STEP   471 / 667 (thread    4) f\b\b\r",
      "STEP   473 / 667 (thread    3) f\b\b\r",
      "STEP   474 / 667 (thread    3) f\b\b\r",
      "STEP   475 / 667 (thread    0) f\b\b\r",
      "STEP   455 / 667 (thread    2) f\b\b\r",
      "STEP   476 / 667 (thread    4) f\b\b\r",
      "STEP   477 / 667 (thread    0) f\b\b\r",
      "STEP   478 / 667 (thread    3) f\b\b\r",
      "STEP   479 / 667 (thread    4) f\b\b\r",
      "STEP   480 / 667 (thread    0) f\b\b\r",
      "STEP   482 / 667 (thread    3) f\b\b\r",
      "STEP   483 / 667 (thread    0) f\b\b\r",
      "STEP   484 / 667 (thread    3) f\b\b\r",
      "STEP   462 / 667 (thread    1) f\b\b\r",
      "STEP   485 / 667 (thread    2) f\b\b\r",
      "STEP   486 / 667 (thread    3) f\b\b\r",
      "STEP   488 / 667 (thread    3) f\b\b\r",
      "STEP   472 / 667 (thread    5) f\b\b\r",
      "STEP   490 / 667 (thread    3) f\b\b\r",
      "STEP   487 / 667 (thread    0) f\b\b\r",
      "STEP   491 / 667 (thread    2) f\b\b\r",
      "STEP   492 / 667 (thread    3) f\b\b\r",
      "STEP   493 / 667 (thread    3) f\b\b\r",
      "STEP   494 / 667 (thread    0) f\b\b\r",
      "STEP   496 / 667 (thread    3) f\b\b\r",
      "STEP   497 / 667 (thread    0) f\b\b\r",
      "STEP   498 / 667 (thread    0) f\b\b\r",
      "STEP   499 / 667 (thread    5) f\b\b\r",
      "STEP   481 / 667 (thread    4) f\b\b\r",
      "STEP   500 / 667 (thread    3) f\b\b\r",
      "STEP   501 / 667 (thread    0) f\b\b\r",
      "STEP   489 / 667 (thread    1) f\b\b\r",
      "STEP   495 / 667 (thread    2) f\b\b"
     ]
    },
    {
     "name": "stderr",
     "output_type": "stream",
     "text": [
      "\r",
      "STEP   601 / 667 (thread    1) f\b\b\n",
      "done.\n",
      "\n",
      "Making a distance matrix from msa.. \n",
      "\r",
      "    0 / 668 (thread    0)\r",
      "  100 / 668 (thread    3)"
     ]
    },
    {
     "name": "stderr",
     "output_type": "stream",
     "text": [
      "\r",
      "  200 / 668 (thread    0)\r",
      "  300 / 668 (thread    5)\r",
      "  400 / 668 (thread    0)\r",
      "  500 / 668 (thread    4)\r",
      "  600 / 668 (thread    5)\n",
      "done.\n",
      "\n",
      "Constructing a UPGMA tree (efffree=1) ... \n",
      "\r",
      "    0 / 668\r",
      "   10 / 668\r",
      "   20 / 668\r",
      "   30 / 668\r",
      "   40 / 668\r",
      "   50 / 668\r",
      "   60 / 668\r",
      "   70 / 668\r",
      "   80 / 668\r",
      "   90 / 668\r",
      "  100 / 668\r",
      "  110 / 668\r",
      "  120 / 668\r",
      "  130 / 668\r",
      "  140 / 668\r",
      "  150 / 668\r",
      "  160 / 668\r",
      "  170 / 668\r",
      "  180 / 668\r",
      "  190 / 668\r",
      "  200 / 668\r",
      "  210 / 668\r",
      "  220 / 668\r",
      "  230 / 668\r",
      "  240 / 668\r",
      "  250 / 668\r",
      "  260 / 668\r",
      "  270 / 668\r",
      "  280 / 668\r",
      "  290 / 668\r",
      "  300 / 668\r",
      "  310 / 668\r",
      "  320 / 668\r",
      "  330 / 668\r",
      "  340 / 668\r",
      "  350 / 668\r",
      "  360 / 668\r",
      "  370 / 668\r",
      "  380 / 668\r",
      "  390 / 668\r",
      "  400 / 668\r",
      "  410 / 668\r",
      "  420 / 668\r",
      "  430 / 668\r",
      "  440 / 668\r",
      "  450 / 668\r",
      "  460 / 668\r",
      "  470 / 668\r",
      "  480 / 668\r",
      "  490 / 668\r",
      "  500 / 668\r",
      "  510 / 668\r",
      "  520 / 668\r",
      "  530 / 668\r",
      "  540 / 668\r",
      "  550 / 668\r",
      "  560 / 668\r",
      "  570 / 668\r",
      "  580 / 668\r",
      "  590 / 668\r",
      "  600 / 668\r",
      "  610 / 668\r",
      "  620 / 668\r",
      "  630 / 668\r",
      "  640 / 668\r",
      "  650 / 668\r",
      "  660 / 668\n",
      "done.\n",
      "\n",
      "Progressive alignment 2/2... \n",
      "\r",
      "STEP     1 / 667 (thread    0) f\b\b\r",
      "STEP     2 / 667 (thread    1) f\b\b\r",
      "STEP     3 / 667 (thread    2) f\b\b\r",
      "STEP     4 / 667 (thread    3) f\b\b\r",
      "STEP     5 / 667 (thread    4) f\b\b\r",
      "STEP     6 / 667 (thread    5) f\b\b\r",
      "STEP     7 / 667 (thread    4) f\b\b\r",
      "STEP     8 / 667 (thread    4) f\b\b\r",
      "STEP     9 / 667 (thread    5) f\b\b\r",
      "STEP    10 / 667 (thread    4) f\b\b\r",
      "STEP    11 / 667 (thread    5) f\b\b\r",
      "STEP    12 / 667 (thread    4) f\b\b\r",
      "STEP    13 / 667 (thread    5) f\b\b\r",
      "STEP    14 / 667 (thread    4) f\b\b\r",
      "STEP    15 / 667 (thread    4) f\b\b\r",
      "STEP    16 / 667 (thread    5) f\b\b\r",
      "STEP    17 / 667 (thread    4) f\b\b\r",
      "STEP    18 / 667 (thread    5) f\b\b\r",
      "STEP    19 / 667 (thread    2)\r",
      "STEP    20 / 667 (thread    3) f\b\b f\b\b\r",
      "STEP    21 / 667 (thread    4) f\b\b\r",
      "STEP    22 / 667 (thread    5) f\b\b\r",
      "STEP    23 / 667 (thread    1) f\b\b\r",
      "STEP    24 / 667 (thread    3) f\b\b\r",
      "STEP    25 / 667 (thread    2) f\b\b\r",
      "STEP    26 / 667 (thread    4) f\b\b\r",
      "STEP    27 / 667 (thread    5) f\b\b\r",
      "STEP    28 / 667 (thread    0) f\b\b\r",
      "STEP    29 / 667 (thread    4) f\b\b\r",
      "STEP    30 / 667 (thread    1) f\b\b\r",
      "STEP    31 / 667 (thread    5) f\b\b\r",
      "STEP    32 / 667 (thread    2) f\b\b\r",
      "STEP    33 / 667 (thread    3) f\b\b\r",
      "STEP    34 / 667 (thread    4) f\b\b\r",
      "STEP    35 / 667 (thread    5) f\b\b\r",
      "STEP    36 / 667 (thread    0) f\b\b\r",
      "STEP    37 / 667 (thread    1) f\b\b\r",
      "STEP    38 / 667 (thread    4) f\b\b\r",
      "STEP    39 / 667 (thread    5) f\b\b\r",
      "STEP    40 / 667 (thread    2) f\b\b\r",
      "STEP    41 / 667 (thread    3) f\b\b\r",
      "STEP    42 / 667 (thread    4) f\b\b\r",
      "STEP    43 / 667 (thread    5) f\b\b\r",
      "STEP    44 / 667 (thread    1) f\b\b\r",
      "STEP    45 / 667 (thread    0) f\b\b\r",
      "STEP    46 / 667 (thread    3)\r",
      "STEP    47 / 667 (thread    2) f\b\b f\b\b\r",
      "STEP    48 / 667 (thread    4) f\b\b\r",
      "STEP    49 / 667 (thread    5) f\b\b\r",
      "STEP    50 / 667 (thread    1) f\b\b\r",
      "STEP    51 / 667 (thread    0) f\b\b\r",
      "STEP    52 / 667 (thread    4) f\b\b\r",
      "STEP    53 / 667 (thread    5) f\b\b\r",
      "STEP    54 / 667 (thread    3) f\b\b\r",
      "STEP    55 / 667 (thread    2) f\b\b\r",
      "STEP    56 / 667 (thread    5) f\b\b\r",
      "STEP    57 / 667 (thread    4) f\b\b\r",
      "STEP    58 / 667 (thread    1) f\b\b\r",
      "STEP    59 / 667 (thread    0) f\b\b\r",
      "STEP    60 / 667 (thread    3) f\b\b\r",
      "STEP    62 / 667 (thread    5) f\b\b\r",
      "STEP    63 / 667 (thread    4) f\b\b\r",
      "STEP    61 / 667 (thread    2) f\b\b\r",
      "STEP    64 / 667 (thread    1) f\b\b\r",
      "STEP    68 / 667 (thread    5) f\b\b\r",
      "STEP    69 / 667 (thread    5) f\b\b\r",
      "STEP    70 / 667 (thread    2) f\b\b\r",
      "STEP    66 / 667 (thread    3) f\b\b\r",
      "STEP    71 / 667 (thread    1) f\b\b\r",
      "STEP    65 / 667 (thread    0) f\b\b\r",
      "STEP    72 / 667 (thread    5) f\b\b\r",
      "STEP    73 / 667 (thread    2) f\b\b\r",
      "STEP    74 / 667 (thread    1) f\b\b\r",
      "STEP    75 / 667 (thread    5) f\b\b\r",
      "STEP    76 / 667 (thread    0) f\b\b\r",
      "STEP    67 / 667 (thread    4) f\b\b\r",
      "STEP    78 / 667 (thread    2) f\b\b\r",
      "STEP    79 / 667 (thread    0) f\b\b\r",
      "STEP    77 / 667 (thread    3) f\b\b\r",
      "STEP    80 / 667 (thread    2) f\b\b\r",
      "STEP    81 / 667 (thread    4) f\b\b\r",
      "STEP    82 / 667 (thread    0) f\b\b\r",
      "STEP    83 / 667 (thread    2) f\b\b\r",
      "STEP    84 / 667 (thread    4) f\b\b\r",
      "STEP    85 / 667 (thread    0) f\b\b\r",
      "STEP    86 / 667 (thread    1) f\b\b\r",
      "STEP    87 / 667 (thread    5) f\b\b\r",
      "STEP    88 / 667 (thread    4) f\b\b\r",
      "STEP    89 / 667 (thread    2) f\b\b\r",
      "STEP    90 / 667 (thread    3) f\b\b\r",
      "STEP    91 / 667 (thread    5) f\b\b\r",
      "STEP    92 / 667 (thread    0) f\b\b\r",
      "STEP    93 / 667 (thread    2) f\b\b\r",
      "STEP    94 / 667 (thread    0) f\b\b\r",
      "STEP    95 / 667 (thread    4) f\b\b\r",
      "STEP    96 / 667 (thread    1) f\b\b\r",
      "STEP    97 / 667 (thread    3) f\b\b\r",
      "STEP    98 / 667 (thread    5) f\b\b\r",
      "STEP    99 / 667 (thread    2) f\b\b\r",
      "STEP   100 / 667 (thread    0) f\b\b\r",
      "STEP   101 / 667 (thread    4) f\b\b\r",
      "STEP   102 / 667 (thread    0) f\b\b\r",
      "STEP   103 / 667 (thread    4) f\b\b\r",
      "STEP   104 / 667 (thread    1) f\b\b\r",
      "STEP   105 / 667 (thread    3) f\b\b\r",
      "STEP   106 / 667 (thread    5) f\b\b\r",
      "STEP   107 / 667 (thread    4) f\b\b\r",
      "STEP   108 / 667 (thread    2) f\b\b\r",
      "STEP   109 / 667 (thread    1) f\b\b\r",
      "STEP   110 / 667 (thread    0) f\b\b\r",
      "STEP   111 / 667 (thread    4) f\b\b\r",
      "STEP   112 / 667 (thread    3) f\b\b\r",
      "STEP   113 / 667 (thread    5) f\b\b\r",
      "STEP   114 / 667 (thread    2) f\b\b\r",
      "STEP   115 / 667 (thread    1) f\b\b\r",
      "STEP   116 / 667 (thread    0) f\b\b\r",
      "STEP   117 / 667 (thread    3) f\b\b\r",
      "STEP   118 / 667 (thread    4) f\b\b\r",
      "STEP   119 / 667 (thread    2) f\b\b\r",
      "STEP   120 / 667 (thread    3) f\b\b\r",
      "STEP   121 / 667 (thread    4) f\b\b\r",
      "STEP   122 / 667 (thread    0) f\b\b\r",
      "STEP   123 / 667 (thread    5) f\b\b\r",
      "STEP   124 / 667 (thread    2) f\b\b\r",
      "STEP   125 / 667 (thread    4) f\b\b\r",
      "STEP   126 / 667 (thread    1) f\b\b\r",
      "STEP   127 / 667 (thread    3) f\b\b\r",
      "STEP   128 / 667 (thread    0) f\b\b\r",
      "STEP   129 / 667 (thread    2) f\b\b\r",
      "STEP   130 / 667 (thread    3) f\b\b\r",
      "STEP   131 / 667 (thread    0) f\b\b\r",
      "STEP   132 / 667 (thread    4) f\b\b\r",
      "STEP   133 / 667 (thread    5) f\b\b\r",
      "STEP   134 / 667 (thread    2) f\b\b\r",
      "STEP   135 / 667 (thread    0) f\b\b\r",
      "STEP   136 / 667 (thread    3) f\b\b\r",
      "STEP   137 / 667 (thread    1) f\b\b\r",
      "STEP   138 / 667 (thread    4) f\b\b\r",
      "STEP   139 / 667 (thread    3) f\b\b\r",
      "STEP   140 / 667 (thread    0) f\b\b\r",
      "STEP   141 / 667 (thread    2) f\b\b\r",
      "STEP   142 / 667 (thread    5) f\b\b\r",
      "STEP   143 / 667 (thread    0) f\b\b\r",
      "STEP   144 / 667 (thread    3) f\b\b\r",
      "STEP   145 / 667 (thread    1) f\b\b\r",
      "STEP   146 / 667 (thread    0) f\b\b\r",
      "STEP   148 / 667 (thread    4) f\b\b\r",
      "STEP   149 / 667 (thread    3) f\b\b\r",
      "STEP   150 / 667 (thread    4) f\b\b\r",
      "STEP   151 / 667 (thread    3) f\b\b\r",
      "STEP   152 / 667 (thread    0) f\b\b\r",
      "STEP   153 / 667 (thread    5) f\b\b\r",
      "STEP   154 / 667 (thread    3) f\b\b\r",
      "STEP   155 / 667 (thread    1) f\b\b\r",
      "STEP   147 / 667 (thread    2) f\b\b\r",
      "STEP   156 / 667 (thread    3) f\b\b\r",
      "STEP   157 / 667 (thread    4) f\b\b\r",
      "STEP   158 / 667 (thread    1) f\b\b\r",
      "STEP   159 / 667 (thread    0) f\b\b\r",
      "STEP   160 / 667 (thread    4) f\b\b\r",
      "STEP   161 / 667 (thread    3) f\b\b\r",
      "STEP   162 / 667 (thread    5) f\b\b\r",
      "STEP   163 / 667 (thread    0) f\b\b\r",
      "STEP   164 / 667 (thread    4) f\b\b\r",
      "STEP   165 / 667 (thread    1) f\b\b\r",
      "STEP   166 / 667 (thread    2) f\b\b\r",
      "STEP   167 / 667 (thread    0) f\b\b\r",
      "STEP   168 / 667 (thread    1) f\b\b\r",
      "STEP   169 / 667 (thread    4) f\b\b\r",
      "STEP   170 / 667 (thread    3) f\b\b\r",
      "STEP   171 / 667 (thread    0) f\b\b\r",
      "STEP   172 / 667 (thread    5) f\b\b\r",
      "STEP   173 / 667 (thread    2) f\b\b\r",
      "STEP   174 / 667 (thread    4) f\b\b\r",
      "STEP   175 / 667 (thread    5) f\b\b\r",
      "STEP   176 / 667 (thread    0) f\b\b\r",
      "STEP   177 / 667 (thread    1) f\b\b\r",
      "STEP   178 / 667 (thread    4) f\b\b\r",
      "STEP   179 / 667 (thread    0) f\b\b\r",
      "STEP   180 / 667 (thread    3) f\b\b\r",
      "STEP   181 / 667 (thread    1) f\b\b\r",
      "STEP   182 / 667 (thread    4) f\b\b\r",
      "STEP   183 / 667 (thread    2) f\b\b\r",
      "STEP   184 / 667 (thread    0) f\b\b\r",
      "STEP   185 / 667 (thread    4) f\b\b\r",
      "STEP   186 / 667 (thread    5) f\b\b\r",
      "STEP   187 / 667 (thread    3) f\b\b\r",
      "STEP   188 / 667 (thread    0) f\b\b\r",
      "STEP   189 / 667 (thread    1) f\b\b\r",
      "STEP   190 / 667 (thread    5) f\b\b\r",
      "STEP   191 / 667 (thread    0) f\b\b\r",
      "STEP   192 / 667 (thread    4) f\b\b\r",
      "STEP   193 / 667 (thread    3) f\b\b\r",
      "STEP   194 / 667 (thread    2) f\b\b\r",
      "STEP   195 / 667 (thread    0) f\b\b\r",
      "STEP   196 / 667 (thread    5) f\b\b\r",
      "STEP   197 / 667 (thread    3) f\b\b\r",
      "STEP   198 / 667 (thread    1) f\b\b\r",
      "STEP   199 / 667 (thread    4) f\b\b\r",
      "STEP   200 / 667 (thread    0) f\b\b\r",
      "STEP   201 / 667 (thread    2) f\b\b\r",
      "STEP   202 / 667 (thread    4) f\b\b\r",
      "STEP   203 / 667 (thread    5) f\b\b\r",
      "STEP   204 / 667 (thread    0) f\b\b\r",
      "STEP   205 / 667 (thread    1) f\b\b\r",
      "STEP   206 / 667 (thread    3) f\b\b\r",
      "STEP   207 / 667 (thread    4) f\b\b\r",
      "STEP   208 / 667 (thread    0) f\b\b\r",
      "STEP   209 / 667 (thread    2) f\b\b\r",
      "STEP   210 / 667 (thread    4) f\b\b\r",
      "STEP   211 / 667 (thread    1) f\b\b\r",
      "STEP   212 / 667 (thread    3) f\b\b\r",
      "STEP   213 / 667 (thread    4) f\b\b\r",
      "STEP   214 / 667 (thread    2) f\b\b\r",
      "STEP   215 / 667 (thread    0) f\b\b\r",
      "STEP   216 / 667 (thread    5) f\b\b\r",
      "STEP   217 / 667 (thread    4) f\b\b\r",
      "STEP   218 / 667 (thread    0) f\b\b\r",
      "STEP   219 / 667 (thread    1) f\b\b\r",
      "STEP   220 / 667 (thread    3) f\b\b\r",
      "STEP   221 / 667 (thread    2) f\b\b\r",
      "STEP   222 / 667 (thread    5) f\b\b\r",
      "STEP   223 / 667 (thread    0) f\b\b\r",
      "STEP   224 / 667 (thread    4) f\b\b\r",
      "STEP   225 / 667 (thread    1) f\b\b\r",
      "STEP   226 / 667 (thread    3) f\b\b\r",
      "STEP   227 / 667 (thread    0) f\b\b\r",
      "STEP   229 / 667 (thread    4) f\b\b\r",
      "STEP   228 / 667 (thread    2) f\b\b\r",
      "STEP   230 / 667 (thread    5)\r",
      "STEP   231 / 667 (thread    0) f\b\b f\b\b\r",
      "STEP   232 / 667 (thread    3) f\b\b\r",
      "STEP   233 / 667 (thread    4) f\b\b\r",
      "STEP   234 / 667 (thread    0) f\b\b\r",
      "STEP   235 / 667 (thread    3) f\b\b\r",
      "STEP   236 / 667 (thread    1) f\b\b\r",
      "STEP   237 / 667 (thread    5) f\b\b\r",
      "STEP   238 / 667 (thread    0) f\b\b\r",
      "STEP   239 / 667 (thread    2) f\b\b\r",
      "STEP   240 / 667 (thread    4) f\b\b\r",
      "STEP   241 / 667 (thread    3) f\b\b\r",
      "STEP   243 / 667 (thread    2) f\b\b\r",
      "STEP   242 / 667 (thread    0) f\b\b\r",
      "STEP   245 / 667 (thread    4) f\b\b\r",
      "STEP   246 / 667 (thread    1) f\b\b\r",
      "STEP   244 / 667 (thread    5) f\b\b\r",
      "STEP   247 / 667 (thread    0) f\b\b\r",
      "STEP   249 / 667 (thread    4) f\b\b\r",
      "STEP   250 / 667 (thread    2) f\b\b\r",
      "STEP   251 / 667 (thread    0) f\b\b\r",
      "STEP   252 / 667 (thread    1) f\b\b\r",
      "STEP   248 / 667 (thread    3) f\b\b\r",
      "STEP   253 / 667 (thread    4) f\b\b\r",
      "STEP   254 / 667 (thread    5) f\b\b\r",
      "STEP   255 / 667 (thread    2) f\b\b\r",
      "STEP   256 / 667 (thread    0) f\b\b\r",
      "STEP   257 / 667 (thread    4) f\b\b\r",
      "STEP   258 / 667 (thread    2) f\b\b\r",
      "STEP   259 / 667 (thread    5) f\b\b\r",
      "STEP   260 / 667 (thread    0) f\b\b\r",
      "STEP   261 / 667 (thread    1) f\b\b\r",
      "STEP   262 / 667 (thread    4) f\b\b\r",
      "STEP   263 / 667 (thread    3) f\b\b\r",
      "STEP   264 / 667 (thread    0) f\b\b\r",
      "STEP   265 / 667 (thread    2) f\b\b\r",
      "STEP   266 / 667 (thread    5) f\b\b\r",
      "STEP   267 / 667 (thread    4) f\b\b\r",
      "STEP   268 / 667 (thread    0) f\b\b\r",
      "STEP   269 / 667 (thread    1) f\b\b\r",
      "STEP   270 / 667 (thread    3) f\b\b\r",
      "STEP   271 / 667 (thread    2) f\b\b\r",
      "STEP   272 / 667 (thread    4) f\b\b\r",
      "STEP   273 / 667 (thread    5) f\b\b\r",
      "STEP   274 / 667 (thread    0) f\b\b\r",
      "STEP   275 / 667 (thread    1) f\b\b\r",
      "STEP   276 / 667 (thread    4) f\b\b\r",
      "STEP   277 / 667 (thread    3) f\b\b\r",
      "STEP   278 / 667 (thread    0) f\b\b\r",
      "STEP   279 / 667 (thread    2) f\b\b\r",
      "STEP   280 / 667 (thread    5) f\b\b\r",
      "STEP   281 / 667 (thread    4) f\b\b\r",
      "STEP   282 / 667 (thread    1) f\b\b\r",
      "STEP   283 / 667 (thread    0) f\b\b\r",
      "STEP   284 / 667 (thread    3) f\b\b\r",
      "STEP   285 / 667 (thread    1) f\b\b\r",
      "STEP   286 / 667 (thread    0) f\b\b\r",
      "STEP   287 / 667 (thread    4) f\b\b\r",
      "STEP   288 / 667 (thread    2) f\b\b\r",
      "STEP   289 / 667 (thread    5) f\b\b\r",
      "STEP   290 / 667 (thread    4) f\b\b\r",
      "STEP   291 / 667 (thread    3) f\b\b\r",
      "STEP   292 / 667 (thread    1) f\b\b\r",
      "STEP   293 / 667 (thread    0) f\b\b\r",
      "STEP   294 / 667 (thread    4) f\b\b\r",
      "STEP   295 / 667 (thread    2) f\b\b\r",
      "STEP   297 / 667 (thread    5) f\b\b\r",
      "STEP   299 / 667 (thread    4) f\b\b\r",
      "STEP   300 / 667 (thread    2) f\b\b\r",
      "STEP   296 / 667 (thread    0) f\b\b\r",
      "STEP   301 / 667 (thread    1) f\b\b\r",
      "STEP   302 / 667 (thread    4) f\b\b\r",
      "STEP   303 / 667 (thread    1) f\b\b\r",
      "STEP   304 / 667 (thread    5) f\b\b\r",
      "STEP   305 / 667 (thread    0) f\b\b\r",
      "STEP   298 / 667 (thread    3) f\b\b\r",
      "STEP   306 / 667 (thread    4) f\b\b\r",
      "STEP   307 / 667 (thread    2) f\b\b\r",
      "STEP   309 / 667 (thread    1) f\b\b\r",
      "STEP   310 / 667 (thread    4) f\b\b\r",
      "STEP   311 / 667 (thread    0) f\b\b\r",
      "STEP   308 / 667 (thread    5) f\b\b\r",
      "STEP   312 / 667 (thread    0) f\b\b\r",
      "STEP   313 / 667 (thread    1) f\b\b\r",
      "STEP   314 / 667 (thread    2) f\b\b\r",
      "STEP   315 / 667 (thread    0) f\b\b\r",
      "STEP   316 / 667 (thread    3) f\b\b\r",
      "STEP   317 / 667 (thread    4) f\b\b\r",
      "STEP   318 / 667 (thread    2) f\b\b\r",
      "STEP   319 / 667 (thread    0) f\b\b\r",
      "STEP   320 / 667 (thread    5) f\b\b\r",
      "STEP   321 / 667 (thread    1) f\b\b\r",
      "STEP   322 / 667 (thread    4) f\b\b\r",
      "STEP   323 / 667 (thread    3) f\b\b\r",
      "STEP   324 / 667 (thread    0) f\b\b\r",
      "STEP   325 / 667 (thread    1) f\b\b\r",
      "STEP   326 / 667 (thread    2) f\b\b\r",
      "STEP   327 / 667 (thread    4) f\b\b\r",
      "STEP   328 / 667 (thread    3) f\b\b\r",
      "STEP   329 / 667 (thread    0) f\b\b\r",
      "STEP   330 / 667 (thread    5) f\b\b\r",
      "STEP   331 / 667 (thread    4) f\b\b\r",
      "STEP   332 / 667 (thread    0) f\b\b\r",
      "STEP   333 / 667 (thread    2) f\b\b\r",
      "STEP   334 / 667 (thread    3) f\b\b\r",
      "STEP   335 / 667 (thread    1) f\b\b\r",
      "STEP   336 / 667 (thread    4) f\b\b\r",
      "STEP   337 / 667 (thread    0) f\b\b\r",
      "STEP   338 / 667 (thread    5) f\b\b\r",
      "STEP   339 / 667 (thread    4) f\b\b\r",
      "STEP   340 / 667 (thread    0) f\b\b\r",
      "STEP   341 / 667 (thread    2) f\b\b\r",
      "STEP   342 / 667 (thread    3) f\b\b\r",
      "STEP   343 / 667 (thread    1) f\b\b\r",
      "STEP   344 / 667 (thread    4) f\b\b\r",
      "STEP   345 / 667 (thread    0) f\b\b\r",
      "STEP   346 / 667 (thread    4) f\b\b\r",
      "STEP   347 / 667 (thread    5) f\b\b\r",
      "STEP   348 / 667 (thread    0) f\b\b\r",
      "STEP   349 / 667 (thread    3) f\b\b\r",
      "STEP   351 / 667 (thread    1) f\b\b\r",
      "STEP   350 / 667 (thread    2) f\b\b\r",
      "STEP   352 / 667 (thread    5) f\b\b\r",
      "STEP   354 / 667 (thread    4) f\b\b\r",
      "STEP   355 / 667 (thread    2) f\b\b\r",
      "STEP   353 / 667 (thread    0) f\b\b\r",
      "STEP   356 / 667 (thread    1) f\b\b\r",
      "STEP   357 / 667 (thread    3) f\b\b\r",
      "STEP   358 / 667 (thread    5) f\b\b\r",
      "STEP   359 / 667 (thread    2) f\b\b\r",
      "STEP   360 / 667 (thread    4) f\b\b\r",
      "STEP   361 / 667 (thread    0) f\b\b\r",
      "STEP   362 / 667 (thread    1) f\b\b\r",
      "STEP   363 / 667 (thread    3) f\b\b\r",
      "STEP   364 / 667 (thread    4) f\b\b\r",
      "STEP   365 / 667 (thread    5) f\b\b\r",
      "STEP   366 / 667 (thread    0) f\b\b\r",
      "STEP   367 / 667 (thread    2) f\b\b\r",
      "STEP   369 / 667 (thread    4) f\b\b\r",
      "STEP   370 / 667 (thread    0) f\b\b\r",
      "STEP   371 / 667 (thread    5) f\b\b\r",
      "STEP   372 / 667 (thread    2) f\b\b\r",
      "STEP   373 / 667 (thread    0) f\b\b\r",
      "STEP   375 / 667 (thread    2) f\b\b\r",
      "STEP   376 / 667 (thread    0) f\b\b\r",
      "STEP   377 / 667 (thread    5) f\b\b\r",
      "STEP   368 / 667 (thread    3) f\b\b\r",
      "STEP   379 / 667 (thread    0) f\b\b\r",
      "STEP   380 / 667 (thread    2) f\b\b\r",
      "STEP   381 / 667 (thread    5) f\b\b\r",
      "STEP   382 / 667 (thread    5) f\b\b\r",
      "STEP   383 / 667 (thread    2) f\b\b\r",
      "STEP   384 / 667 (thread    0) f\b\b\r",
      "STEP   385 / 667 (thread    5) f\b\b\r",
      "STEP   386 / 667 (thread    2) f\b\b\r",
      "STEP   387 / 667 (thread    0) f\b\b\r",
      "STEP   388 / 667 (thread    5) f\b\b\r",
      "STEP   389 / 667 (thread    2) f\b\b\r",
      "STEP   390 / 667 (thread    5) f\b\b\r",
      "STEP   391 / 667 (thread    3) f\b\b\r",
      "STEP   374 / 667 (thread    4) f\b\b\r",
      "STEP   393 / 667 (thread    2) f\b\b\r",
      "STEP   394 / 667 (thread    3) f\b\b\r",
      "STEP   395 / 667 (thread    5) f\b\b\r",
      "STEP   396 / 667 (thread    2) f\b\b\r",
      "STEP   397 / 667 (thread    3) f\b\b\r",
      "STEP   398 / 667 (thread    5) f\b\b\r",
      "STEP   378 / 667 (thread    1) f\b\b\r",
      "STEP   400 / 667 (thread    4) f\b\b\r",
      "STEP   401 / 667 (thread    5) f\b\b\r",
      "STEP   402 / 667 (thread    3) f\b\b\r",
      "STEP   403 / 667 (thread    3) f\b\b\r",
      "STEP   405 / 667 (thread    4) f\b\b\r",
      "STEP   406 / 667 (thread    3) f\b\b\r",
      "STEP   407 / 667 (thread    3) f\b\b\r",
      "STEP   408 / 667 (thread    3) f\b\b\r",
      "STEP   409 / 667 (thread    4) f\b\b\r",
      "STEP   410 / 667 (thread    1) f\b\b\r",
      "STEP   392 / 667 (thread    0) f\b\b\r",
      "STEP   411 / 667 (thread    3) f\b\b\r",
      "STEP   412 / 667 (thread    3) f\b\b\r",
      "STEP   413 / 667 (thread    4) f\b\b\r",
      "STEP   415 / 667 (thread    0) f\b\b\r",
      "STEP   399 / 667 (thread    2) f\b\b\r",
      "STEP   417 / 667 (thread    3) f\b\b\r",
      "STEP   418 / 667 (thread    0) f\b\b\r",
      "STEP   419 / 667 (thread    0) f\b\b\r",
      "STEP   420 / 667 (thread    3) f\b\b\r",
      "STEP   421 / 667 (thread    0) f\b\b\r",
      "STEP   422 / 667 (thread    2) f\b\b\r",
      "STEP   404 / 667 (thread    5) f\b\b\r",
      "STEP   424 / 667 (thread    0) f\b\b\r",
      "STEP   425 / 667 (thread    2) f\b\b\r",
      "STEP   426 / 667 (thread    2) f\b\b\r",
      "STEP   428 / 667 (thread    0) f\b\b\r",
      "STEP   429 / 667 (thread    5) f\b\b\r",
      "STEP   414 / 667 (thread    1) f\b\b\r",
      "STEP   430 / 667 (thread    0) f\b\b\r",
      "STEP   431 / 667 (thread    0) f\b\b\r",
      "STEP   432 / 667 (thread    5) f\b\b\r",
      "STEP   433 / 667 (thread    1) f\b\b\r",
      "STEP   416 / 667 (thread    4) f\b\b\r",
      "STEP   434 / 667 (thread    5) f\b\b\r",
      "STEP   435 / 667 (thread    0) f\b\b\r",
      "STEP   436 / 667 (thread    1) f\b\b"
     ]
    },
    {
     "name": "stderr",
     "output_type": "stream",
     "text": [
      "\r",
      "STEP   438 / 667 (thread    0) f\b\b\r",
      "STEP   439 / 667 (thread    1) f\b\b\r",
      "STEP   440 / 667 (thread    1) f\b\b\r",
      "STEP   441 / 667 (thread    4) f\b\b\r",
      "STEP   423 / 667 (thread    3) f\b\b\r",
      "STEP   442 / 667 (thread    0) f\b\b\r",
      "STEP   443 / 667 (thread    0) f\b\b\r",
      "STEP   445 / 667 (thread    1) f\b\b\r",
      "STEP   444 / 667 (thread    4) f\b\b\r",
      "STEP   446 / 667 (thread    0) f\b\b\r",
      "STEP   447 / 667 (thread    1) f\b\b\r",
      "STEP   449 / 667 (thread    0) f\b\b\r",
      "STEP   450 / 667 (thread    0) f\b\b\r",
      "STEP   451 / 667 (thread    3) f\b\b\r",
      "STEP   427 / 667 (thread    2) f\b\b\r",
      "STEP   452 / 667 (thread    1) f\b\b\r",
      "STEP   453 / 667 (thread    3) f\b\b\r",
      "STEP   454 / 667 (thread    0) f\b\b\r",
      "STEP   455 / 667 (thread    0) f\b\b\r",
      "STEP   456 / 667 (thread    1) f\b\b\r",
      "STEP   458 / 667 (thread    2) f\b\b\r",
      "STEP   437 / 667 (thread    5) f\b\b\r",
      "STEP   459 / 667 (thread    3) f\b\b\r",
      "STEP   461 / 667 (thread    3) f\b\b\r",
      "STEP   462 / 667 (thread    1) f\b\b\r",
      "STEP   463 / 667 (thread    3) f\b\b\r",
      "STEP   464 / 667 (thread    5) f\b\b\r",
      "STEP   448 / 667 (thread    4) f\b\b\r",
      "STEP   465 / 667 (thread    1) f\b\b\r",
      "STEP   466 / 667 (thread    3) f\b\b\r",
      "STEP   468 / 667 (thread    5) f\b\b\r",
      "STEP   469 / 667 (thread    3) f\b\b\r",
      "STEP   470 / 667 (thread    5) f\b\b\r",
      "STEP   471 / 667 (thread    3) f\b\b\r",
      "STEP   472 / 667 (thread    3) f\b\b\r",
      "STEP   457 / 667 (thread    0) f\b\b\r",
      "STEP   473 / 667 (thread    4) f\b\b\r",
      "STEP   474 / 667 (thread    3) f\b\b\r",
      "STEP   475 / 667 (thread    5) f\b\b\r",
      "STEP   476 / 667 (thread    3) f\b\b\r",
      "STEP   477 / 667 (thread    5) f\b\b\r",
      "STEP   478 / 667 (thread    3) f\b\b\r",
      "STEP   480 / 667 (thread    4) f\b\b\r",
      "STEP   481 / 667 (thread    0) f\b\b\r",
      "STEP   460 / 667 (thread    2) f\b\b\r",
      "STEP   482 / 667 (thread    3) f\b\b\r",
      "STEP   484 / 667 (thread    4) f\b\b\r",
      "STEP   485 / 667 (thread    3) f\b\b\r",
      "STEP   486 / 667 (thread    3) f\b\b\r",
      "STEP   487 / 667 (thread    4) f\b\b\r",
      "STEP   488 / 667 (thread    3) f\b\b\r",
      "STEP   467 / 667 (thread    1) f\b\b\r",
      "STEP   489 / 667 (thread    2) f\b\b\r",
      "STEP   490 / 667 (thread    4) f\b\b\r",
      "STEP   491 / 667 (thread    3) f\b\b\r",
      "STEP   492 / 667 (thread    2) f\b\b\r",
      "STEP   493 / 667 (thread    4) f\b\b\r",
      "STEP   494 / 667 (thread    3) f\b\b\r",
      "STEP   495 / 667 (thread    1) f\b\b\r",
      "STEP   479 / 667 (thread    5) f\b\b\r",
      "STEP   497 / 667 (thread    3) f\b\b\r",
      "STEP   498 / 667 (thread    4) f\b\b\r",
      "STEP   499 / 667 (thread    3) f\b\b\r",
      "STEP   501 / 667 (thread    3) f\b\b\r",
      "STEP   483 / 667 (thread    0) f\b\b\r",
      "STEP   496 / 667 (thread    2) f\b\b\r",
      "STEP   500 / 667 (thread    1) f\b\b\n",
      "Reallocating..done. *alloclen = 1869\n",
      "\r",
      "STEP   601 / 667 (thread    3) f\b\b"
     ]
    },
    {
     "name": "stderr",
     "output_type": "stream",
     "text": [
      "\n",
      "done.\n",
      "\n",
      "disttbfast (nuc) Version 7.490\n",
      "alg=A, model=DNA200 (2), 1.53 (4.59), -0.00 (-0.00), noshift, amax=0.0\n",
      "6 thread(s)\n",
      "\n",
      "\n",
      "Strategy:\n",
      " FFT-NS-2 (Fast but rough)\n",
      " Progressive method (guide trees were built 2 times.)\n",
      "\n",
      "If unsure which option to use, try 'mafft --auto input > output'.\n",
      "For more information, see 'mafft --help', 'mafft --man' and the mafft page.\n",
      "\n",
      "The default gap scoring scheme has been changed in version 7.110 (2013 Oct).\n",
      "It tends to insert more gaps into gap-rich regions than previous versions.\n",
      "To disable this change, add the --leavegappyregion option.\n",
      "\n"
     ]
    },
    {
     "name": "stdout",
     "output_type": "stream",
     "text": [
      "{'max_gap_frequency': 1.0, 'min_conservation': 0.4, 'alignment': TabularMSA[DNA]\n",
      "-----------------------------------------------------------------------\n",
      "Stats:\n",
      "    sequence count: 668\n",
      "    position count: 480\n",
      "-----------------------------------------------------------------------\n",
      "TGAGGAATATTGGTCAATGGAGGCAACTCTGAA ... GGTATCGAACAGG--------------------\n",
      "TGAGGAATATTGGTCAATGGCCGGAAGGCTGAA ... GGGATCAAACAGG--------------------\n",
      "...\n",
      "TGGGGAATATTGGGCAATGGGCGCAAGCCTGAC ... GGGAGCAAACAGG--------------------\n",
      "TGAGGAATATTGGTCAATGGCCGGGAGGCTGAA ... GGTATCAAACAGG--------------------}\n",
      "{'max_gap_frequency': 1.0, 'min_conservation': 0.4, 'alignment': TabularMSA[DNA]\n",
      "-----------------------------------------------------------------------\n",
      "Stats:\n",
      "    sequence count: 668\n",
      "    position count: 480\n",
      "-----------------------------------------------------------------------\n",
      "TGAGGAATATTGGTCAATGGAGGCAACTCTGAA ... GGTATCGAACAGG--------------------\n",
      "TGAGGAATATTGGTCAATGGCCGGAAGGCTGAA ... GGGATCAAACAGG--------------------\n",
      "...\n",
      "TGGGGAATATTGGGCAATGGGCGCAAGCCTGAC ... GGGAGCAAACAGG--------------------\n",
      "TGAGGAATATTGGTCAATGGCCGGGAGGCTGAA ... GGTATCAAACAGG--------------------}\n"
     ]
    },
    {
     "name": "stdout",
     "output_type": "stream",
     "text": [
      "{'n_threads': 6, 'alignment': <q2_types.feature_data._format.AlignedDNAFASTAFormat object at 0x7f2094e247c0>}\n",
      "{'n_threads': 6, 'alignment': <q2_types.feature_data._format.AlignedDNAFASTAFormat object at 0x7f2094e247c0>}\n",
      "Running external command line application. This may print messages to stdout and/or stderr.\n",
      "The command being run is below. This command cannot be manually re-run as it will depend on temporary files that no longer exist.\n",
      "\n",
      "Command: FastTreeMP -quote -nt /tmp/qiime2-archive-m13owye8/f760d772-5f29-4ef0-9b7e-14eea00b5447/data/aligned-dna-sequences.fasta\n",
      "\n"
     ]
    },
    {
     "name": "stderr",
     "output_type": "stream",
     "text": [
      "FastTree Version 2.1.10 Double precision (No SSE3), OpenMP (6 threads)\n",
      "Alignment: /tmp/qiime2-archive-m13owye8/f760d772-5f29-4ef0-9b7e-14eea00b5447/data/aligned-dna-sequences.fasta\n",
      "Nucleotide distances: Jukes-Cantor Joins: balanced Support: SH-like 1000\n",
      "Search: Normal +NNI +SPR (2 rounds range 10) +ML-NNI opt-each=1\n",
      "TopHits: 1.00*sqrtN close=default refresh=0.80\n",
      "ML Model: Jukes-Cantor, CAT approximation with 20 rate categories\n",
      "      0.14 seconds: Joined    200 of    645\n"
     ]
    },
    {
     "name": "stderr",
     "output_type": "stream",
     "text": [
      "      0.30 seconds: Joined    400 of    645\n",
      "      0.45 seconds: Joined    600 of    645\n",
      "Initial topology in 0.47 seconds\n",
      "Refining topology: 37 rounds ME-NNIs, 2 rounds ME-SPRs, 19 rounds ML-NNIs\n"
     ]
    },
    {
     "name": "stderr",
     "output_type": "stream",
     "text": [
      "      0.55 seconds: ME NNI round 2 of 37, 301 of 646 splits, 22 changes (max delta 0.013)\n",
      "      0.65 seconds: ME NNI round 6 of 37, 1 of 646 splits\n"
     ]
    },
    {
     "name": "stderr",
     "output_type": "stream",
     "text": [
      "      0.84 seconds: SPR round   1 of   2, 201 of 1294 nodes\n",
      "      1.03 seconds: SPR round   1 of   2, 401 of 1294 nodes\n"
     ]
    },
    {
     "name": "stderr",
     "output_type": "stream",
     "text": [
      "      1.18 seconds: SPR round   1 of   2, 601 of 1294 nodes\n",
      "      1.33 seconds: SPR round   1 of   2, 801 of 1294 nodes\n"
     ]
    },
    {
     "name": "stderr",
     "output_type": "stream",
     "text": [
      "      1.49 seconds: SPR round   1 of   2, 1001 of 1294 nodes\n",
      "      1.63 seconds: SPR round   1 of   2, 1201 of 1294 nodes\n"
     ]
    },
    {
     "name": "stderr",
     "output_type": "stream",
     "text": [
      "      1.73 seconds: ME NNI round 15 of 37, 1 of 646 splits\n",
      "      1.85 seconds: SPR round   2 of   2, 201 of 1294 nodes\n"
     ]
    },
    {
     "name": "stderr",
     "output_type": "stream",
     "text": [
      "      1.97 seconds: SPR round   2 of   2, 401 of 1294 nodes\n",
      "      2.08 seconds: SPR round   2 of   2, 601 of 1294 nodes\n"
     ]
    },
    {
     "name": "stderr",
     "output_type": "stream",
     "text": [
      "      2.20 seconds: SPR round   2 of   2, 801 of 1294 nodes\n",
      "      2.34 seconds: SPR round   2 of   2, 1001 of 1294 nodes\n"
     ]
    },
    {
     "name": "stderr",
     "output_type": "stream",
     "text": [
      "      2.47 seconds: SPR round   2 of   2, 1201 of 1294 nodes\n",
      "Total branch-length 15.866 after 2.58 sec\n",
      "      2.58 seconds: ML Lengths 1 of 646 splits\n"
     ]
    },
    {
     "name": "stderr",
     "output_type": "stream",
     "text": [
      "      2.71 seconds: ML Lengths 401 of 646 splits\n",
      "      2.88 seconds: ML NNI round 1 of 19, 101 of 646 splits, 20 changes (max delta 5.832)\n"
     ]
    },
    {
     "name": "stderr",
     "output_type": "stream",
     "text": [
      "      3.02 seconds: ML NNI round 1 of 19, 301 of 646 splits, 59 changes (max delta 9.097)\n",
      "      3.16 seconds: ML NNI round 1 of 19, 501 of 646 splits, 84 changes (max delta 13.290)\n"
     ]
    },
    {
     "name": "stderr",
     "output_type": "stream",
     "text": [
      "ML-NNI round 1: LogLk = -41373.206 NNIs 115 max delta 13.29 Time 3.28\n",
      "      3.28 seconds: Site likelihoods with rate category 1 of 20\n",
      "      3.39 seconds: Site likelihoods with rate category 17 of 20\n",
      "Switched to using 20 rate categories (CAT approximation)\n",
      "Rate categories were divided by 1.050 so that average rate = 1.0\n",
      "CAT-based log-likelihoods may not be comparable across runs\n",
      "Use -gamma for approximate but comparable Gamma(20) log-likelihoods\n"
     ]
    },
    {
     "name": "stderr",
     "output_type": "stream",
     "text": [
      "      3.50 seconds: ML NNI round 2 of 19, 101 of 646 splits, 10 changes (max delta 0.965)\n",
      "      3.66 seconds: ML NNI round 2 of 19, 301 of 646 splits, 26 changes (max delta 5.316)\n"
     ]
    },
    {
     "name": "stderr",
     "output_type": "stream",
     "text": [
      "      3.84 seconds: ML NNI round 2 of 19, 501 of 646 splits, 46 changes (max delta 5.316)\n",
      "ML-NNI round 2: LogLk = -34552.415 NNIs 59 max delta 5.32 Time 3.97\n",
      "      3.97 seconds: ML NNI round 3 of 19, 1 of 646 splits\n"
     ]
    },
    {
     "name": "stderr",
     "output_type": "stream",
     "text": [
      "      4.13 seconds: ML NNI round 3 of 19, 201 of 646 splits, 8 changes (max delta 3.460)\n",
      "      4.32 seconds: ML NNI round 3 of 19, 401 of 646 splits, 11 changes (max delta 3.460)\n"
     ]
    },
    {
     "name": "stderr",
     "output_type": "stream",
     "text": [
      "ML-NNI round 3: LogLk = -34541.090 NNIs 13 max delta 3.46 Time 4.37\n",
      "      4.45 seconds: ML NNI round 4 of 19, 101 of 646 splits, 1 changes (max delta 2.607)\n",
      "ML-NNI round 4: LogLk = -34537.514 NNIs 2 max delta 2.61 Time 4.55\n"
     ]
    },
    {
     "name": "stderr",
     "output_type": "stream",
     "text": [
      "ML-NNI round 5: LogLk = -34537.401 NNIs 2 max delta 0.02 Time 4.60\n",
      "Turning off heuristics for final round of ML NNIs (converged)\n",
      "      4.60 seconds: ML NNI round 6 of 19, 1 of 646 splits\n",
      "      4.76 seconds: ML NNI round 6 of 19, 201 of 646 splits, 0 changes\n"
     ]
    },
    {
     "name": "stderr",
     "output_type": "stream",
     "text": [
      "      4.93 seconds: ML NNI round 6 of 19, 401 of 646 splits, 0 changes\n",
      "      5.10 seconds: ML NNI round 6 of 19, 601 of 646 splits, 1 changes (max delta 0.048)\n"
     ]
    },
    {
     "name": "stderr",
     "output_type": "stream",
     "text": [
      "ML-NNI round 6: LogLk = -34536.169 NNIs 1 max delta 0.05 Time 5.14 (final)\n",
      "      5.20 seconds: ML Lengths 301 of 646 splits\n",
      "Optimize all lengths: LogLk = -34535.747 Time 5.29\n"
     ]
    },
    {
     "name": "stderr",
     "output_type": "stream",
     "text": [
      "      5.41 seconds: ML split tests for    100 of    645 internal splits\n",
      "      5.53 seconds: ML split tests for    200 of    645 internal splits\n"
     ]
    },
    {
     "name": "stderr",
     "output_type": "stream",
     "text": [
      "      5.66 seconds: ML split tests for    300 of    645 internal splits\n",
      "      5.78 seconds: ML split tests for    400 of    645 internal splits\n"
     ]
    },
    {
     "name": "stderr",
     "output_type": "stream",
     "text": [
      "      5.91 seconds: ML split tests for    500 of    645 internal splits\n",
      "      6.04 seconds: ML split tests for    600 of    645 internal splits\n",
      "Total time: 6.10 seconds Unique: 648/668 Bad splits: 2/645 Worst delta-LogLk 0.628\n"
     ]
    },
    {
     "name": "stdout",
     "output_type": "stream",
     "text": [
      "{'tree': <TreeNode, name: unnamed, internal node count: 663, tips count: 668>}\n",
      "{'tree': <TreeNode, name: unnamed, internal node count: 663, tips count: 668>}\n"
     ]
    }
   ],
   "source": [
    "mafft_alignment, mafft_masked_alignment, mafft_tree, mafft_rooted_tree = align_to_tree_mafft_fasttree(\n",
    "    sequences=reps, n_threads=6, )"
   ]
  },
  {
   "cell_type": "markdown",
   "id": "0768d598",
   "metadata": {
    "papermill": {
     "duration": 0.025514,
     "end_time": "2023-09-14T15:22:05.263354",
     "exception": false,
     "start_time": "2023-09-14T15:22:05.237840",
     "status": "completed"
    },
    "tags": []
   },
   "source": [
    "### Compute Alpha Diversity (Phylogeny)\n",
    "- [diversity alpha_phylogenetic](https://docs.qiime2.org/2022.8/plugins/available/diversity/alpha-phylogenetic/): Computes a user-specified phylogenetic alpha diversity metric for all samples in a feature table.\n",
    "- Metrics: Choices ('faith_pd')"
   ]
  },
  {
   "cell_type": "code",
   "execution_count": 11,
   "id": "0383aa19",
   "metadata": {
    "ExecuteTime": {
     "end_time": "2022-09-29T20:54:35.310009Z",
     "start_time": "2022-09-29T20:54:35.141333Z"
    },
    "execution": {
     "iopub.execute_input": "2023-09-14T15:22:05.315874Z",
     "iopub.status.busy": "2023-09-14T15:22:05.315516Z",
     "iopub.status.idle": "2023-09-14T15:22:05.429596Z",
     "shell.execute_reply": "2023-09-14T15:22:05.429068Z"
    },
    "papermill": {
     "duration": 0.143476,
     "end_time": "2023-09-14T15:22:05.432326",
     "exception": false,
     "start_time": "2023-09-14T15:22:05.288850",
     "status": "completed"
    },
    "tags": []
   },
   "outputs": [
    {
     "name": "stdout",
     "output_type": "stream",
     "text": [
      "Calculating alpha diversity: faith_pd\n",
      "{'metric': 'faith_pd', 'table': <artifact: FeatureTable[Frequency] uuid: 1947ead3-2c85-409d-bab7-8a10034a5dbc>, 'phylogeny': <artifact: Phylogeny[Rooted] uuid: 28392557-a897-45a2-bd1b-07b6902241bb>}\n",
      "{'table': <q2_types.feature_table._format.BIOMV210Format object at 0x7f20946277c0>, 'phylogeny': <q2_types.tree._format.NewickFormat object at 0x7f2094627b50>}\n",
      "{'table': <q2_types.feature_table._format.BIOMV210Format object at 0x7f20946277c0>, 'phylogeny': <q2_types.tree._format.NewickFormat object at 0x7f2094627b50>}\n",
      "DONE: Calculating alpha phylogeny: faith_pd\n"
     ]
    }
   ],
   "source": [
    "metrics = ('faith_pd', )\n",
    "alpha_diversities_phylogenetic = dict()\n",
    "for metric in metrics:\n",
    "    print(f\"Calculating alpha diversity: {metric}\")\n",
    "    try:\n",
    "        alpha_diversity = alpha_phylogenetic(table=tabs, phylogeny=mafft_rooted_tree, metric=metric).alpha_diversity\n",
    "        alpha_diversities_phylogenetic[metric] = alpha_diversity\n",
    "        # Save Artifact\n",
    "        file_path = os.path.join(alpha_path, f'alpha-phylogeny-{metric}.qza')\n",
    "        alpha_diversity.save(file_path)\n",
    "        print(f\"DONE: Calculating alpha phylogeny: {metric}\")\n",
    "    except Exception as e:\n",
    "        print(f\"ERROR: Calculating alpha phylogeny: {metric}\")"
   ]
  },
  {
   "cell_type": "markdown",
   "id": "42db1ead",
   "metadata": {
    "papermill": {
     "duration": 0.025569,
     "end_time": "2023-09-14T15:22:05.491587",
     "exception": false,
     "start_time": "2023-09-14T15:22:05.466018",
     "status": "completed"
    },
    "tags": []
   },
   "source": [
    "- [core-metrics-phylogenetic](https://docs.qiime2.org/2023.7/plugins/available/diversity/core-metrics-phylogenetic/)"
   ]
  },
  {
   "cell_type": "code",
   "execution_count": 12,
   "id": "ef726ab7",
   "metadata": {
    "execution": {
     "iopub.execute_input": "2023-09-14T15:22:05.547081Z",
     "iopub.status.busy": "2023-09-14T15:22:05.546785Z",
     "iopub.status.idle": "2023-09-14T15:22:07.715576Z",
     "shell.execute_reply": "2023-09-14T15:22:07.714925Z"
    },
    "papermill": {
     "duration": 2.20116,
     "end_time": "2023-09-14T15:22:07.718651",
     "exception": false,
     "start_time": "2023-09-14T15:22:05.517491",
     "status": "completed"
    },
    "tags": []
   },
   "outputs": [
    {
     "name": "stdout",
     "output_type": "stream",
     "text": [
      "{'sampling_depth': 67500, 'metadata': Metadata\n",
      "--------\n",
      "9 IDs x 3 columns\n",
      "sample-name: ColumnProperties(type='categorical')\n",
      "group-id:    ColumnProperties(type='categorical')\n",
      "group-desc:  ColumnProperties(type='categorical')\n",
      "\n",
      "Call to_dataframe() for a tabular representation., 'n_jobs_or_threads': 6, 'table': <artifact: FeatureTable[Frequency] uuid: 1947ead3-2c85-409d-bab7-8a10034a5dbc>, 'phylogeny': <artifact: Phylogeny[Rooted] uuid: 28392557-a897-45a2-bd1b-07b6902241bb>}\n",
      "{'sampling_depth': 67500, 'metadata': Metadata\n",
      "--------\n",
      "9 IDs x 3 columns\n",
      "sample-name: ColumnProperties(type='categorical')\n",
      "group-id:    ColumnProperties(type='categorical')\n",
      "group-desc:  ColumnProperties(type='categorical')\n",
      "\n",
      "Call to_dataframe() for a tabular representation., 'with_replacement': False, 'n_jobs': 6, 'table': <artifact: FeatureTable[Frequency] uuid: 1947ead3-2c85-409d-bab7-8a10034a5dbc>}\n",
      "{'sampling_depth': 67500, 'with_replacement': False, 'table': 668 x 9 <class 'biom.table.Table'> with 1453 nonzero entries (24% dense)}\n",
      "{'sampling_depth': 67500, 'with_replacement': False, 'table': 668 x 9 <class 'biom.table.Table'> with 1453 nonzero entries (24% dense)}\n",
      "{'table': 659 x 9 <class 'biom.table.Table'> with 1436 nonzero entries (24% dense)}\n",
      "{'table': 659 x 9 <class 'biom.table.Table'> with 1436 nonzero entries (24% dense)}\n",
      "{'drop_undefined_samples': False, 'table': 659 x 9 <class 'biom.table.Table'> with 1436 nonzero entries (24% dense)}\n",
      "{'drop_undefined_samples': False, 'table': 659 x 9 <class 'biom.table.Table'> with 1436 nonzero entries (24% dense)}\n",
      "{'drop_undefined_samples': False, 'table': 659 x 9 <class 'biom.table.Table'> with 1436 nonzero entries (24% dense)}\n",
      "{'drop_undefined_samples': False, 'table': 659 x 9 <class 'biom.table.Table'> with 1436 nonzero entries (24% dense)}\n"
     ]
    },
    {
     "name": "stdout",
     "output_type": "stream",
     "text": [
      "{'n_jobs': 6, 'table': 659 x 9 <class 'biom.table.Table'> with 1436 nonzero entries (24% dense)}\n",
      "{'n_jobs': 6, 'table': 659 x 9 <class 'biom.table.Table'> with 1436 nonzero entries (24% dense)}\n",
      "{'n_jobs': 6, 'table': 659 x 9 <class 'biom.table.Table'> with 1436 nonzero entries (24% dense)}\n",
      "{'n_jobs': 6, 'table': 659 x 9 <class 'biom.table.Table'> with 1436 nonzero entries (24% dense)}\n",
      "{'number_of_dimensions': None, 'distance_matrix': <skbio.stats.distance._base.DistanceMatrix object at 0x7f2092e05e20>}\n",
      "{'number_of_dimensions': None, 'distance_matrix': <skbio.stats.distance._base.DistanceMatrix object at 0x7f2092e05e20>}\n",
      "{'number_of_dimensions': None, 'distance_matrix': <skbio.stats.distance._base.DistanceMatrix object at 0x7f2092e05eb0>}\n",
      "{'number_of_dimensions': None, 'distance_matrix': <skbio.stats.distance._base.DistanceMatrix object at 0x7f2092e05eb0>}\n",
      "{'metadata': Metadata\n",
      "--------\n",
      "9 IDs x 3 columns\n",
      "sample-name: ColumnProperties(type='categorical')\n",
      "group-id:    ColumnProperties(type='categorical')\n",
      "group-desc:  ColumnProperties(type='categorical')\n",
      "\n",
      "Call to_dataframe() for a tabular representation., 'custom_axes': None, 'ignore_missing_samples': False, 'ignore_pcoa_features': False, 'pcoa': <skbio.stats.ordination._ordination_results.OrdinationResults object at 0x7f2092e1a6d0>}\n"
     ]
    },
    {
     "name": "stderr",
     "output_type": "stream",
     "text": [
      "/home/lauro/anaconda3/envs/qiime2-2022.2/lib/python3.8/site-packages/sklearn/metrics/pairwise.py:1761: DataConversionWarning: Data was converted to boolean for metric jaccard\n",
      "  warnings.warn(msg, DataConversionWarning)\n"
     ]
    },
    {
     "name": "stdout",
     "output_type": "stream",
     "text": [
      "{'metadata': Metadata\n",
      "--------\n",
      "9 IDs x 3 columns\n",
      "sample-name: ColumnProperties(type='categorical')\n",
      "group-id:    ColumnProperties(type='categorical')\n",
      "group-desc:  ColumnProperties(type='categorical')\n",
      "\n",
      "Call to_dataframe() for a tabular representation., 'custom_axes': None, 'ignore_missing_samples': False, 'ignore_pcoa_features': False, 'pcoa': <skbio.stats.ordination._ordination_results.OrdinationResults object at 0x7f2092daa8e0>}\n"
     ]
    },
    {
     "name": "stdout",
     "output_type": "stream",
     "text": [
      "{'table': <q2_types.feature_table._format.BIOMV210Format object at 0x7f2094648d00>, 'phylogeny': <q2_types.tree._format.NewickFormat object at 0x7f2094648340>}\n",
      "{'table': <q2_types.feature_table._format.BIOMV210Format object at 0x7f2094648d00>, 'phylogeny': <q2_types.tree._format.NewickFormat object at 0x7f2094648340>}\n",
      "{'threads': 6, 'bypass_tips': False, 'table': <q2_types.feature_table._format.BIOMV210Format object at 0x7f2094648fd0>, 'phylogeny': <q2_types.tree._format.NewickFormat object at 0x7f2094648e50>}\n",
      "{'threads': 6, 'bypass_tips': False, 'table': <q2_types.feature_table._format.BIOMV210Format object at 0x7f2094648fd0>, 'phylogeny': <q2_types.tree._format.NewickFormat object at 0x7f2094648e50>}\n",
      "{'threads': 6, 'bypass_tips': False, 'table': <q2_types.feature_table._format.BIOMV210Format object at 0x7f2094648550>, 'phylogeny': <q2_types.tree._format.NewickFormat object at 0x7f20946486a0>}\n",
      "{'threads': 6, 'bypass_tips': False, 'table': <q2_types.feature_table._format.BIOMV210Format object at 0x7f2094648550>, 'phylogeny': <q2_types.tree._format.NewickFormat object at 0x7f20946486a0>}\n"
     ]
    },
    {
     "name": "stderr",
     "output_type": "stream",
     "text": [
      "More threads were requested than stripes. Using 5 threads.\n",
      "More threads were requested than stripes. Using 5 threads.\n",
      "/home/lauro/anaconda3/envs/qiime2-2022.2/lib/python3.8/site-packages/skbio/stats/ordination/_principal_coordinate_analysis.py:143: RuntimeWarning: The result contains negative eigenvalues. Please compare their magnitude with the magnitude of some of the largest positive eigenvalues. If the negative ones are smaller, it's probably safe to ignore them, but if they are large in magnitude, the results won't be useful. See the Notes section for more details. The smallest eigenvalue is -0.00021340245528992912 and the largest is 0.07604887009993344.\n",
      "  warn(\n"
     ]
    },
    {
     "name": "stdout",
     "output_type": "stream",
     "text": [
      "{'number_of_dimensions': None, 'distance_matrix': <skbio.stats.distance._base.DistanceMatrix object at 0x7f2094648e80>}\n",
      "{'number_of_dimensions': None, 'distance_matrix': <skbio.stats.distance._base.DistanceMatrix object at 0x7f2094648e80>}\n",
      "{'number_of_dimensions': None, 'distance_matrix': <skbio.stats.distance._base.DistanceMatrix object at 0x7f209463df10>}\n",
      "{'number_of_dimensions': None, 'distance_matrix': <skbio.stats.distance._base.DistanceMatrix object at 0x7f209463df10>}\n",
      "{'metadata': Metadata\n",
      "--------\n",
      "9 IDs x 3 columns\n",
      "sample-name: ColumnProperties(type='categorical')\n",
      "group-id:    ColumnProperties(type='categorical')\n",
      "group-desc:  ColumnProperties(type='categorical')\n",
      "\n",
      "Call to_dataframe() for a tabular representation., 'custom_axes': None, 'ignore_missing_samples': False, 'ignore_pcoa_features': False, 'pcoa': <skbio.stats.ordination._ordination_results.OrdinationResults object at 0x7f2092daa850>}\n",
      "{'metadata': Metadata\n",
      "--------\n",
      "9 IDs x 3 columns\n",
      "sample-name: ColumnProperties(type='categorical')\n",
      "group-id:    ColumnProperties(type='categorical')\n",
      "group-desc:  ColumnProperties(type='categorical')\n",
      "\n",
      "Call to_dataframe() for a tabular representation., 'custom_axes': None, 'ignore_missing_samples': False, 'ignore_pcoa_features': False, 'pcoa': <skbio.stats.ordination._ordination_results.OrdinationResults object at 0x7f2092da74f0>}\n"
     ]
    }
   ],
   "source": [
    "s_depth = int(tabs.view(pd.DataFrame).sum(axis=1).min())\n",
    "results = core_metrics_phylogenetic(\n",
    "    table = tabs,\n",
    "    phylogeny = mafft_rooted_tree,\n",
    "    sampling_depth = s_depth,\n",
    "    metadata = metadata_qa,\n",
    "    n_jobs_or_threads = 6,\n",
    ")"
   ]
  },
  {
   "cell_type": "code",
   "execution_count": 13,
   "id": "19311218",
   "metadata": {
    "execution": {
     "iopub.execute_input": "2023-09-14T15:22:07.792272Z",
     "iopub.status.busy": "2023-09-14T15:22:07.791866Z",
     "iopub.status.idle": "2023-09-14T15:22:07.799775Z",
     "shell.execute_reply": "2023-09-14T15:22:07.799023Z"
    },
    "papermill": {
     "duration": 0.043955,
     "end_time": "2023-09-14T15:22:07.801691",
     "exception": false,
     "start_time": "2023-09-14T15:22:07.757736",
     "status": "completed"
    },
    "tags": []
   },
   "outputs": [],
   "source": [
    "results_info = [(\"rarefied_table\", \"FeatureTable[Frequency]\", \"The resulting rarefied feature table.\"),\n",
    "(\"faith_pd_vector\", \"SampleData[AlphaDiversity]\", \"Vector of Faith PD values by sample.\"),\n",
    "(\"observed_features_vector\", \"SampleData[AlphaDiversity]\", \"Vector of Observed Features values by sample.\"),\n",
    "(\"shannon_vector\", \"SampleData[AlphaDiversity]\", \"Vector of Shannon diversity values by sample.\"),\n",
    "(\"evenness_vector\", \"SampleData[AlphaDiversity]\", \"Vector of Pielou's evenness values by sample.\"),\n",
    "(\"unweighted_unifrac_distance_matrix\", \"DistanceMatrix\", \"Matrix of unweighted UniFrac distances between pairs of samples.\"),\n",
    "(\"weighted_unifrac_distance_matrix\", \"DistanceMatrix\", \"Matrix of weighted UniFrac distances between pairs of samples.\"),\n",
    "(\"jaccard_distance_matrix\", \"DistanceMatrix\", \"Matrix of Jaccard distances between pairs of samples.\"),\n",
    "(\"bray_curtis_distance_matrix\", \"DistanceMatrix\", \"Matrix of Bray-Curtis distances between pairs of samples.\"),\n",
    "(\"unweighted_unifrac_pcoa_results\", \"PCoAResults\", \"PCoA matrix computed from unweighted UniFrac distances between samples.\"),\n",
    "(\"weighted_unifrac_pcoa_results\", \"PCoAResults\", \"PCoA matrix computed from weighted UniFrac distances between samples.\"),\n",
    "(\"jaccard_pcoa_results\", \"PCoAResults\", \"PCoA matrix computed from Jaccard distances between samples.\"),\n",
    "(\"bray_curtis_pcoa_results\", \"PCoAResults\", \"PCoA matrix computed from Bray-Curtis distances between samples.\"),\n",
    "(\"unweighted_unifrac_emperor\", \"Visualization\", \"Emperor plot of the PCoA matrix computed from unweighted UniFrac.\"),\n",
    "(\"weighted_unifrac_emperor\", \"Visualization\", \"Emperor plot of the PCoA matrix computed from weighted UniFrac.\"),\n",
    "(\"jaccard_emperor\", \"Visualization\", \"Emperor plot of the PCoA matrix computed from Jaccard.\"),\n",
    "(\"bray_curtis_emperor\", \"Visualization\", \"Emperor plot of the PCoA matrix computed from Bray-Curtis.\")]"
   ]
  },
  {
   "cell_type": "code",
   "execution_count": 14,
   "id": "57dcd8e3",
   "metadata": {
    "execution": {
     "iopub.execute_input": "2023-09-14T15:22:07.870674Z",
     "iopub.status.busy": "2023-09-14T15:22:07.870309Z",
     "iopub.status.idle": "2023-09-14T15:22:08.355727Z",
     "shell.execute_reply": "2023-09-14T15:22:08.355046Z"
    },
    "papermill": {
     "duration": 0.521593,
     "end_time": "2023-09-14T15:22:08.358426",
     "exception": false,
     "start_time": "2023-09-14T15:22:07.836833",
     "status": "completed"
    },
    "tags": []
   },
   "outputs": [
    {
     "name": "stdout",
     "output_type": "stream",
     "text": [
      "13 unweighted_unifrac_emperor Visualization\n",
      "--- Emperor plot of the PCoA matrix computed from unweighted UniFrac. ---\n",
      "Saving emperor file at: /home/lauro/nupeb/rede-micro/redemicro-ana-flavia-nutri/experiments/ana-flavia-NCxNR-trim/qiime-artifacts/beta-analysis/unweighted_unifrac_emperor.qzv\n",
      "\n",
      "14 weighted_unifrac_emperor Visualization\n",
      "--- Emperor plot of the PCoA matrix computed from weighted UniFrac. ---\n",
      "Saving emperor file at: /home/lauro/nupeb/rede-micro/redemicro-ana-flavia-nutri/experiments/ana-flavia-NCxNR-trim/qiime-artifacts/beta-analysis/weighted_unifrac_emperor.qzv\n",
      "\n"
     ]
    },
    {
     "name": "stdout",
     "output_type": "stream",
     "text": [
      "15 jaccard_emperor Visualization\n",
      "--- Emperor plot of the PCoA matrix computed from Jaccard. ---\n",
      "Saving emperor file at: /home/lauro/nupeb/rede-micro/redemicro-ana-flavia-nutri/experiments/ana-flavia-NCxNR-trim/qiime-artifacts/beta-analysis/jaccard_emperor.qzv\n",
      "\n",
      "16 bray_curtis_emperor Visualization\n",
      "--- Emperor plot of the PCoA matrix computed from Bray-Curtis. ---\n",
      "Saving emperor file at: /home/lauro/nupeb/rede-micro/redemicro-ana-flavia-nutri/experiments/ana-flavia-NCxNR-trim/qiime-artifacts/beta-analysis/bray_curtis_emperor.qzv\n",
      "\n"
     ]
    }
   ],
   "source": [
    "for i, info in enumerate(results_info):\n",
    "    r_id, r_type, r_desc = info\n",
    "    #print(i, r_id, r_type)\n",
    "    file_name = f\"{r_id}.qzv\"\n",
    "    if r_type == \"FeatureTable[Frequency]\":\n",
    "        pass\n",
    "    elif r_id.endswith('emperor'):\n",
    "        print(i, r_id, r_type)\n",
    "        print(f\"--- {r_desc} ---\")\n",
    "        file_name = os.path.join(beta_path, file_name)\n",
    "        print(f'Saving emperor file at: {file_name}\\n')\n",
    "        results[i].save(filepath=file_name)"
   ]
  },
  {
   "cell_type": "markdown",
   "id": "c7752cfd",
   "metadata": {
    "papermill": {
     "duration": 0.033411,
     "end_time": "2023-09-14T15:22:08.434164",
     "exception": false,
     "start_time": "2023-09-14T15:22:08.400753",
     "status": "completed"
    },
    "tags": []
   },
   "source": [
    "### Alpha diversity correlation\n",
    "\n",
    "This method only process `numeric` columns.\n"
   ]
  },
  {
   "cell_type": "code",
   "execution_count": 15,
   "id": "2814f613",
   "metadata": {
    "ExecuteTime": {
     "end_time": "2022-09-29T20:54:35.317618Z",
     "start_time": "2022-09-29T20:54:35.312094Z"
    },
    "execution": {
     "iopub.execute_input": "2023-09-14T15:22:08.502531Z",
     "iopub.status.busy": "2023-09-14T15:22:08.502204Z",
     "iopub.status.idle": "2023-09-14T15:22:08.511091Z",
     "shell.execute_reply": "2023-09-14T15:22:08.510205Z"
    },
    "papermill": {
     "duration": 0.045071,
     "end_time": "2023-09-14T15:22:08.512724",
     "exception": false,
     "start_time": "2023-09-14T15:22:08.467653",
     "status": "completed"
    },
    "tags": []
   },
   "outputs": [],
   "source": [
    "methods = ('spearman', 'pearson')\n",
    "numerics_cols = metadata_qa.filter_columns(column_type='numeric')\n",
    "if numerics_cols.column_count > 0:\n",
    "    for metric, alpha_values in alpha_diversities.items():\n",
    "        for method in methods:\n",
    "            try:\n",
    "                corr_view = alpha_correlation(alpha_diversity=alpha_values, metadata=numerics_cols, \n",
    "                                          method=method, intersect_ids=True).visualization\n",
    "                view_path = os.path.join(alpha_path, f'alpha-correlation-{metric}-{method}.qzv')\n",
    "                corr_view.save(view_path)\n",
    "                corr_view\n",
    "                print(f\"DONE: Calculating alpha correlation: {metric} {method}\")\n",
    "            except Exception as e:\n",
    "                print(f\"ERROR: Calculating alpha correlation: {metric} {method}\")"
   ]
  },
  {
   "cell_type": "markdown",
   "id": "8ea83c8a",
   "metadata": {
    "papermill": {
     "duration": 0.060601,
     "end_time": "2023-09-14T15:22:08.619980",
     "exception": false,
     "start_time": "2023-09-14T15:22:08.559379",
     "status": "completed"
    },
    "tags": []
   },
   "source": [
    "## Alpha diversity comparisons\n",
    "\n",
    "Visually and statistically compare groups of alpha diversity values.\n",
    "\n",
    "[diversity alpha_group_significance](https://docs.qiime2.org/2022.8/plugins/available/diversity/alpha-group-significance/)"
   ]
  },
  {
   "cell_type": "code",
   "execution_count": 16,
   "id": "276d1c18",
   "metadata": {
    "ExecuteTime": {
     "end_time": "2022-09-29T20:54:36.089290Z",
     "start_time": "2022-09-29T20:54:35.318963Z"
    },
    "execution": {
     "iopub.execute_input": "2023-09-14T15:22:08.729752Z",
     "iopub.status.busy": "2023-09-14T15:22:08.729349Z",
     "iopub.status.idle": "2023-09-14T15:22:09.488262Z",
     "shell.execute_reply": "2023-09-14T15:22:09.487619Z"
    },
    "papermill": {
     "duration": 0.813994,
     "end_time": "2023-09-14T15:22:09.491331",
     "exception": false,
     "start_time": "2023-09-14T15:22:08.677337",
     "status": "completed"
    },
    "tags": []
   },
   "outputs": [
    {
     "name": "stdout",
     "output_type": "stream",
     "text": [
      "Processing alpha_group_significance: chao1\n",
      "{'metadata': Metadata\n",
      "--------\n",
      "9 IDs x 3 columns\n",
      "sample-name: ColumnProperties(type='categorical')\n",
      "group-id:    ColumnProperties(type='categorical')\n",
      "group-desc:  ColumnProperties(type='categorical')\n",
      "\n",
      "Call to_dataframe() for a tabular representation., 'alpha_diversity': S210421121673    262.0\n",
      "S210421121674    131.0\n",
      "S210421121675    124.0\n",
      "S210421121676    255.0\n",
      "S210421121677    112.0\n",
      "S210421121678     83.0\n",
      "S210421121679    150.0\n",
      "S210421121680    209.0\n",
      "S210421121681    127.0\n",
      "Name: chao1, dtype: float64}\n",
      "DONE: Calculating alpha group significance: chao1\n",
      "Processing alpha_group_significance: chao1_ci\n",
      "ERROR: Calculating alpha group significance: chao1_ci\n",
      "Processing alpha_group_significance: observed_features\n",
      "{'metadata': Metadata\n",
      "--------\n",
      "9 IDs x 3 columns\n",
      "sample-name: ColumnProperties(type='categorical')\n",
      "group-id:    ColumnProperties(type='categorical')\n",
      "group-desc:  ColumnProperties(type='categorical')\n",
      "\n",
      "Call to_dataframe() for a tabular representation., 'alpha_diversity': S210421121673    262\n",
      "S210421121674    131\n",
      "S210421121675    124\n",
      "S210421121676    255\n",
      "S210421121677    112\n",
      "S210421121678     83\n",
      "S210421121679    150\n",
      "S210421121680    209\n",
      "S210421121681    127\n",
      "Name: observed_features, dtype: int64}\n"
     ]
    },
    {
     "name": "stdout",
     "output_type": "stream",
     "text": [
      "DONE: Calculating alpha group significance: observed_features\n",
      "Processing alpha_group_significance: shannon\n",
      "{'metadata': Metadata\n",
      "--------\n",
      "9 IDs x 3 columns\n",
      "sample-name: ColumnProperties(type='categorical')\n",
      "group-id:    ColumnProperties(type='categorical')\n",
      "group-desc:  ColumnProperties(type='categorical')\n",
      "\n",
      "Call to_dataframe() for a tabular representation., 'alpha_diversity': S210421121673    5.860846\n",
      "S210421121674    4.435387\n",
      "S210421121675    4.729984\n",
      "S210421121676    4.772633\n",
      "S210421121677    4.736594\n",
      "S210421121678    4.528187\n",
      "S210421121679    4.478963\n",
      "S210421121680    5.580541\n",
      "S210421121681    4.457096\n",
      "Name: shannon_entropy, dtype: float64}\n",
      "DONE: Calculating alpha group significance: shannon\n",
      "Processing alpha_group_significance: simpson\n",
      "{'metadata': Metadata\n",
      "--------\n",
      "9 IDs x 3 columns\n",
      "sample-name: ColumnProperties(type='categorical')\n",
      "group-id:    ColumnProperties(type='categorical')\n",
      "group-desc:  ColumnProperties(type='categorical')\n",
      "\n",
      "Call to_dataframe() for a tabular representation., 'alpha_diversity': S210421121673    0.968772\n",
      "S210421121674    0.920051\n",
      "S210421121675    0.932399\n",
      "S210421121676    0.914619\n",
      "S210421121677    0.936476\n",
      "S210421121678    0.935171\n",
      "S210421121679    0.913495\n",
      "S210421121680    0.960297\n",
      "S210421121681    0.915034\n",
      "Name: simpson, dtype: float64}\n"
     ]
    },
    {
     "name": "stdout",
     "output_type": "stream",
     "text": [
      "DONE: Calculating alpha group significance: simpson\n",
      "Processing alpha_group_significance: simpson_e\n",
      "{'metadata': Metadata\n",
      "--------\n",
      "9 IDs x 3 columns\n",
      "sample-name: ColumnProperties(type='categorical')\n",
      "group-id:    ColumnProperties(type='categorical')\n",
      "group-desc:  ColumnProperties(type='categorical')\n",
      "\n",
      "Call to_dataframe() for a tabular representation., 'alpha_diversity': S210421121673    0.122225\n",
      "S210421121674    0.095480\n",
      "S210421121675    0.119296\n",
      "S210421121676    0.045930\n",
      "S210421121677    0.140554\n",
      "S210421121678    0.185847\n",
      "S210421121679    0.077067\n",
      "S210421121680    0.120513\n",
      "S210421121681    0.092673\n",
      "Name: simpson_e, dtype: float64}\n",
      "DONE: Calculating alpha group significance: simpson_e\n"
     ]
    }
   ],
   "source": [
    "for metric, alpha_values in alpha_diversities.items():\n",
    "    print(f\"Processing alpha_group_significance: {metric}\")\n",
    "    try:\n",
    "        significance_view = alpha_group_significance(alpha_diversity=alpha_values, metadata=metadata_qa).visualization\n",
    "        view_path = os.path.join(alpha_path, f'alpha-group-significance-{metric}.qzv')\n",
    "        significance_view.save(view_path)\n",
    "        significance_view\n",
    "        print(f\"DONE: Calculating alpha group significance: {metric}\")\n",
    "    except Exception as e:\n",
    "        print(f\"ERROR: Calculating alpha group significance: {metric}\")"
   ]
  },
  {
   "cell_type": "markdown",
   "id": "4349d357",
   "metadata": {
    "papermill": {
     "duration": 0.069013,
     "end_time": "2023-09-14T15:22:09.600394",
     "exception": false,
     "start_time": "2023-09-14T15:22:09.531381",
     "status": "completed"
    },
    "tags": []
   },
   "source": [
    "## Beta diversity analysis\n",
    "\n",
    "#### Reference\n",
    "- [diversity beta](https://docs.qiime2.org/2022.8/plugins/available/diversity/beta/): Computes a user-specified beta diversity metric for all pairs of samples in a feature table.\n",
    "- [Beta diversity metrics](http://scikit-bio.org/docs/0.2.0/generated/skbio.diversity.beta.html)\n",
    "\n",
    "- Metric Choices('aitchison', 'braycurtis', 'canberra', 'canberra_adkins', 'chebyshev', 'cityblock', 'correlation', 'cosine', 'dice', 'euclidean', 'hamming', 'jaccard', 'jensenshannon', 'kulsinski', 'matching', 'minkowski', 'rogerstanimoto', 'russellrao', 'seuclidean', 'sokalmichener', 'sokalsneath', 'sqeuclidean', 'yule')"
   ]
  },
  {
   "cell_type": "code",
   "execution_count": 17,
   "id": "f6f358dd",
   "metadata": {
    "ExecuteTime": {
     "end_time": "2022-09-29T20:54:36.335038Z",
     "start_time": "2022-09-29T20:54:36.091288Z"
    },
    "execution": {
     "iopub.execute_input": "2023-09-14T15:22:09.746032Z",
     "iopub.status.busy": "2023-09-14T15:22:09.745682Z",
     "iopub.status.idle": "2023-09-14T15:22:10.315586Z",
     "shell.execute_reply": "2023-09-14T15:22:10.314911Z"
    },
    "papermill": {
     "duration": 0.658531,
     "end_time": "2023-09-14T15:22:10.319691",
     "exception": false,
     "start_time": "2023-09-14T15:22:09.661160",
     "status": "completed"
    },
    "tags": []
   },
   "outputs": [
    {
     "name": "stdout",
     "output_type": "stream",
     "text": [
      "Calculating beta diversity: euclidean\n",
      "{'metric': 'euclidean', 'pseudocount': 1, 'n_jobs': 6, 'table': <artifact: FeatureTable[Frequency] uuid: 1947ead3-2c85-409d-bab7-8a10034a5dbc>}\n",
      "{'metric': 'euclidean', 'pseudocount': 1, 'n_jobs': 6, 'table': 668 x 9 <class 'biom.table.Table'> with 1453 nonzero entries (24% dense)}\n",
      "{'metric': 'euclidean', 'pseudocount': 1, 'n_jobs': 6, 'table': 668 x 9 <class 'biom.table.Table'> with 1453 nonzero entries (24% dense)}\n",
      "DONE: Calculating beta diversity: euclidean\n",
      "Calculating beta diversity: dice\n",
      "{'metric': 'dice', 'pseudocount': 1, 'n_jobs': 6, 'table': <artifact: FeatureTable[Frequency] uuid: 1947ead3-2c85-409d-bab7-8a10034a5dbc>}\n",
      "{'metric': 'dice', 'pseudocount': 1, 'n_jobs': 6, 'table': 668 x 9 <class 'biom.table.Table'> with 1453 nonzero entries (24% dense)}\n",
      "{'metric': 'dice', 'pseudocount': 1, 'n_jobs': 6, 'table': 668 x 9 <class 'biom.table.Table'> with 1453 nonzero entries (24% dense)}\n",
      "DONE: Calculating beta diversity: dice\n",
      "Calculating beta diversity: braycurtis\n",
      "{'metric': 'braycurtis', 'pseudocount': 1, 'n_jobs': 6, 'table': <artifact: FeatureTable[Frequency] uuid: 1947ead3-2c85-409d-bab7-8a10034a5dbc>}\n",
      "{'n_jobs': 6, 'table': 668 x 9 <class 'biom.table.Table'> with 1453 nonzero entries (24% dense)}\n",
      "{'n_jobs': 6, 'table': 668 x 9 <class 'biom.table.Table'> with 1453 nonzero entries (24% dense)}\n"
     ]
    },
    {
     "name": "stderr",
     "output_type": "stream",
     "text": [
      "/home/lauro/anaconda3/envs/qiime2-2022.2/lib/python3.8/site-packages/sklearn/metrics/pairwise.py:1761: DataConversionWarning: Data was converted to boolean for metric dice\n",
      "  warnings.warn(msg, DataConversionWarning)\n"
     ]
    },
    {
     "name": "stdout",
     "output_type": "stream",
     "text": [
      "DONE: Calculating beta diversity: braycurtis\n",
      "Calculating beta diversity: correlation\n",
      "{'metric': 'correlation', 'pseudocount': 1, 'n_jobs': 6, 'table': <artifact: FeatureTable[Frequency] uuid: 1947ead3-2c85-409d-bab7-8a10034a5dbc>}\n",
      "{'metric': 'correlation', 'pseudocount': 1, 'n_jobs': 6, 'table': 668 x 9 <class 'biom.table.Table'> with 1453 nonzero entries (24% dense)}\n",
      "{'metric': 'correlation', 'pseudocount': 1, 'n_jobs': 6, 'table': 668 x 9 <class 'biom.table.Table'> with 1453 nonzero entries (24% dense)}\n",
      "ERROR: Calculating beta diversity: correlation\n",
      "Calculating beta diversity: cosine\n",
      "{'metric': 'cosine', 'pseudocount': 1, 'n_jobs': 6, 'table': <artifact: FeatureTable[Frequency] uuid: 1947ead3-2c85-409d-bab7-8a10034a5dbc>}\n",
      "{'metric': 'cosine', 'pseudocount': 1, 'n_jobs': 6, 'table': 668 x 9 <class 'biom.table.Table'> with 1453 nonzero entries (24% dense)}\n",
      "{'metric': 'cosine', 'pseudocount': 1, 'n_jobs': 6, 'table': 668 x 9 <class 'biom.table.Table'> with 1453 nonzero entries (24% dense)}\n",
      "ERROR: Calculating beta diversity: cosine\n",
      "Calculating beta diversity: matching\n",
      "{'metric': 'matching', 'pseudocount': 1, 'n_jobs': 6, 'table': <artifact: FeatureTable[Frequency] uuid: 1947ead3-2c85-409d-bab7-8a10034a5dbc>}\n",
      "{'metric': 'matching', 'pseudocount': 1, 'n_jobs': 6, 'table': 668 x 9 <class 'biom.table.Table'> with 1453 nonzero entries (24% dense)}\n",
      "{'metric': 'matching', 'pseudocount': 1, 'n_jobs': 6, 'table': 668 x 9 <class 'biom.table.Table'> with 1453 nonzero entries (24% dense)}\n",
      "DONE: Calculating beta diversity: matching\n",
      "Calculating beta diversity: jaccard\n",
      "{'metric': 'jaccard', 'pseudocount': 1, 'n_jobs': 6, 'table': <artifact: FeatureTable[Frequency] uuid: 1947ead3-2c85-409d-bab7-8a10034a5dbc>}\n",
      "{'n_jobs': 6, 'table': 668 x 9 <class 'biom.table.Table'> with 1453 nonzero entries (24% dense)}\n",
      "{'n_jobs': 6, 'table': 668 x 9 <class 'biom.table.Table'> with 1453 nonzero entries (24% dense)}\n"
     ]
    },
    {
     "name": "stdout",
     "output_type": "stream",
     "text": [
      "DONE: Calculating beta diversity: jaccard\n"
     ]
    },
    {
     "name": "stderr",
     "output_type": "stream",
     "text": [
      "/home/lauro/anaconda3/envs/qiime2-2022.2/lib/python3.8/site-packages/sklearn/metrics/pairwise.py:1761: DataConversionWarning: Data was converted to boolean for metric matching\n",
      "  warnings.warn(msg, DataConversionWarning)\n",
      "/home/lauro/anaconda3/envs/qiime2-2022.2/lib/python3.8/site-packages/sklearn/metrics/pairwise.py:1761: DataConversionWarning: Data was converted to boolean for metric jaccard\n",
      "  warnings.warn(msg, DataConversionWarning)\n"
     ]
    }
   ],
   "source": [
    "metrics = ('aitchison', 'braycurtis', 'canberra', 'canberra_adkins', 'chebyshev', 'cityblock', 'correlation', 'cosine', 'dice', 'euclidean', 'hamming', 'jaccard', 'jensenshannon', 'kulsinski', 'matching', 'minkowski', 'rogerstanimoto', 'russellrao', 'seuclidean', 'sokalmichener', 'sokalsneath', 'sqeuclidean', 'yule')\n",
    "metrics = ('euclidean', 'dice', 'braycurtis', 'correlation', 'cosine', 'matching', 'jaccard')\n",
    "beta_diversities = dict()\n",
    "for metric in metrics:\n",
    "    print(f\"Calculating beta diversity: {metric}\")\n",
    "    try:\n",
    "        beta_diversity = beta(table=tabs, metric=metric, n_jobs=6, pseudocount=1).distance_matrix\n",
    "        beta_diversities[metric] = beta_diversity\n",
    "        # Save SampleData[BetaDiversity] Artifact\n",
    "        file_path = os.path.join(beta_path, f'beta-values-{metric}.qza')\n",
    "        beta_diversity.save(file_path)\n",
    "        print(f\"DONE: Calculating beta diversity: {metric}\")\n",
    "    except Exception as e:\n",
    "        print(f\"ERROR: Calculating beta diversity: {metric}\")"
   ]
  },
  {
   "cell_type": "markdown",
   "id": "200a2fa7",
   "metadata": {
    "papermill": {
     "duration": 0.037677,
     "end_time": "2023-09-14T15:22:10.398958",
     "exception": false,
     "start_time": "2023-09-14T15:22:10.361281",
     "status": "completed"
    },
    "tags": []
   },
   "source": [
    "### Beta group significance\n",
    "\n",
    "- [diversity beta_group_significance](https://docs.qiime2.org/2022.8/plugins/available/diversity/beta-group-significance/): Determine whether groups of samples are significantly different from one another using a permutation-based statistical test.\n",
    "- Marti J Anderson. A new method for non-parametric multivariate analysis of variance. Austral ecology, 26(1):32–46, 2001. doi:https://doi.org/10.1111/j.1442-9993.2001.01070.pp.x."
   ]
  },
  {
   "cell_type": "code",
   "execution_count": 18,
   "id": "b8dd42b6",
   "metadata": {
    "ExecuteTime": {
     "end_time": "2022-09-29T20:55:08.313860Z",
     "start_time": "2022-09-29T20:54:36.336993Z"
    },
    "execution": {
     "iopub.execute_input": "2023-09-14T15:22:10.472620Z",
     "iopub.status.busy": "2023-09-14T15:22:10.472175Z",
     "iopub.status.idle": "2023-09-14T15:22:50.032962Z",
     "shell.execute_reply": "2023-09-14T15:22:50.032308Z"
    },
    "papermill": {
     "duration": 39.602716,
     "end_time": "2023-09-14T15:22:50.037749",
     "exception": false,
     "start_time": "2023-09-14T15:22:10.435033",
     "status": "completed"
    },
    "tags": []
   },
   "outputs": [
    {
     "name": "stdout",
     "output_type": "stream",
     "text": [
      "Calculating beta group significance with method permanova and metric euclidean\n",
      "{'metadata': <CategoricalMetadataColumn name='group-id' id_count=9>, 'method': 'permanova', 'pairwise': True, 'permutations': 999, 'distance_matrix': <skbio.stats.distance._base.DistanceMatrix object at 0x7f2092bd00d0>}\n"
     ]
    },
    {
     "name": "stdout",
     "output_type": "stream",
     "text": [
      "DONE: Calculating beta group significance: permanova euclidean\n",
      "Calculating beta group significance with method permanova and metric dice\n",
      "{'metadata': <CategoricalMetadataColumn name='group-id' id_count=9>, 'method': 'permanova', 'pairwise': True, 'permutations': 999, 'distance_matrix': <skbio.stats.distance._base.DistanceMatrix object at 0x7f207a2fa280>}\n"
     ]
    },
    {
     "name": "stdout",
     "output_type": "stream",
     "text": [
      "DONE: Calculating beta group significance: permanova dice\n",
      "Calculating beta group significance with method permanova and metric braycurtis\n",
      "{'metadata': <CategoricalMetadataColumn name='group-id' id_count=9>, 'method': 'permanova', 'pairwise': True, 'permutations': 999, 'distance_matrix': <skbio.stats.distance._base.DistanceMatrix object at 0x7f207a317b80>}\n"
     ]
    },
    {
     "name": "stdout",
     "output_type": "stream",
     "text": [
      "DONE: Calculating beta group significance: permanova braycurtis\n",
      "Calculating beta group significance with method permanova and metric matching\n",
      "{'metadata': <CategoricalMetadataColumn name='group-id' id_count=9>, 'method': 'permanova', 'pairwise': True, 'permutations': 999, 'distance_matrix': <skbio.stats.distance._base.DistanceMatrix object at 0x7f207a20c7f0>}\n"
     ]
    },
    {
     "name": "stdout",
     "output_type": "stream",
     "text": [
      "DONE: Calculating beta group significance: permanova matching\n",
      "Calculating beta group significance with method permanova and metric jaccard\n",
      "{'metadata': <CategoricalMetadataColumn name='group-id' id_count=9>, 'method': 'permanova', 'pairwise': True, 'permutations': 999, 'distance_matrix': <skbio.stats.distance._base.DistanceMatrix object at 0x7f207a1b7730>}\n"
     ]
    },
    {
     "name": "stdout",
     "output_type": "stream",
     "text": [
      "DONE: Calculating beta group significance: permanova jaccard\n",
      "Calculating beta group significance with method anosim and metric euclidean\n",
      "{'metadata': <CategoricalMetadataColumn name='group-id' id_count=9>, 'method': 'anosim', 'pairwise': True, 'permutations': 999, 'distance_matrix': <skbio.stats.distance._base.DistanceMatrix object at 0x7f207a1449a0>}\n"
     ]
    },
    {
     "name": "stdout",
     "output_type": "stream",
     "text": [
      "DONE: Calculating beta group significance: anosim euclidean\n",
      "Calculating beta group significance with method anosim and metric dice\n",
      "{'metadata': <CategoricalMetadataColumn name='group-id' id_count=9>, 'method': 'anosim', 'pairwise': True, 'permutations': 999, 'distance_matrix': <skbio.stats.distance._base.DistanceMatrix object at 0x7f207a2ce070>}\n"
     ]
    },
    {
     "name": "stdout",
     "output_type": "stream",
     "text": [
      "DONE: Calculating beta group significance: anosim dice\n",
      "Calculating beta group significance with method anosim and metric braycurtis\n",
      "{'metadata': <CategoricalMetadataColumn name='group-id' id_count=9>, 'method': 'anosim', 'pairwise': True, 'permutations': 999, 'distance_matrix': <skbio.stats.distance._base.DistanceMatrix object at 0x7f207a178b50>}\n"
     ]
    },
    {
     "name": "stdout",
     "output_type": "stream",
     "text": [
      "DONE: Calculating beta group significance: anosim braycurtis\n",
      "Calculating beta group significance with method anosim and metric matching\n",
      "{'metadata': <CategoricalMetadataColumn name='group-id' id_count=9>, 'method': 'anosim', 'pairwise': True, 'permutations': 999, 'distance_matrix': <skbio.stats.distance._base.DistanceMatrix object at 0x7f207a2fab80>}\n"
     ]
    },
    {
     "name": "stdout",
     "output_type": "stream",
     "text": [
      "DONE: Calculating beta group significance: anosim matching\n",
      "Calculating beta group significance with method anosim and metric jaccard\n",
      "{'metadata': <CategoricalMetadataColumn name='group-id' id_count=9>, 'method': 'anosim', 'pairwise': True, 'permutations': 999, 'distance_matrix': <skbio.stats.distance._base.DistanceMatrix object at 0x7f207a2eca90>}\n"
     ]
    },
    {
     "name": "stdout",
     "output_type": "stream",
     "text": [
      "DONE: Calculating beta group significance: anosim jaccard\n",
      "Calculating beta group significance with method permdisp and metric euclidean\n",
      "{'metadata': <CategoricalMetadataColumn name='group-id' id_count=9>, 'method': 'permdisp', 'pairwise': True, 'permutations': 999, 'distance_matrix': <skbio.stats.distance._base.DistanceMatrix object at 0x7f2094627d30>}\n"
     ]
    },
    {
     "name": "stderr",
     "output_type": "stream",
     "text": [
      "/home/lauro/anaconda3/envs/qiime2-2022.2/lib/python3.8/site-packages/skbio/stats/ordination/_principal_coordinate_analysis.py:143: RuntimeWarning: The result contains negative eigenvalues. Please compare their magnitude with the magnitude of some of the largest positive eigenvalues. If the negative ones are smaller, it's probably safe to ignore them, but if they are large in magnitude, the results won't be useful. See the Notes section for more details. The smallest eigenvalue is -3.575729085632246e-07 and the largest is 14217364774.69676.\n",
      "  warn(\n"
     ]
    },
    {
     "name": "stderr",
     "output_type": "stream",
     "text": [
      "/home/lauro/anaconda3/envs/qiime2-2022.2/lib/python3.8/site-packages/skbio/stats/ordination/_principal_coordinate_analysis.py:143: RuntimeWarning: The result contains negative eigenvalues. Please compare their magnitude with the magnitude of some of the largest positive eigenvalues. If the negative ones are smaller, it's probably safe to ignore them, but if they are large in magnitude, the results won't be useful. See the Notes section for more details. The smallest eigenvalue is -3.575729085632246e-07 and the largest is 14217364774.69676.\n",
      "  warn(\n"
     ]
    },
    {
     "name": "stdout",
     "output_type": "stream",
     "text": [
      "DONE: Calculating beta group significance: permdisp euclidean\n",
      "Calculating beta group significance with method permdisp and metric dice\n",
      "{'metadata': <CategoricalMetadataColumn name='group-id' id_count=9>, 'method': 'permdisp', 'pairwise': True, 'permutations': 999, 'distance_matrix': <skbio.stats.distance._base.DistanceMatrix object at 0x7f20950b7820>}\n"
     ]
    },
    {
     "name": "stdout",
     "output_type": "stream",
     "text": [
      "DONE: Calculating beta group significance: permdisp dice\n",
      "Calculating beta group significance with method permdisp and metric braycurtis\n",
      "{'metadata': <CategoricalMetadataColumn name='group-id' id_count=9>, 'method': 'permdisp', 'pairwise': True, 'permutations': 999, 'distance_matrix': <skbio.stats.distance._base.DistanceMatrix object at 0x7f20950dad30>}\n"
     ]
    },
    {
     "name": "stdout",
     "output_type": "stream",
     "text": [
      "DONE: Calculating beta group significance: permdisp braycurtis\n",
      "Calculating beta group significance with method permdisp and metric matching\n",
      "{'metadata': <CategoricalMetadataColumn name='group-id' id_count=9>, 'method': 'permdisp', 'pairwise': True, 'permutations': 999, 'distance_matrix': <skbio.stats.distance._base.DistanceMatrix object at 0x7f2094b77550>}\n"
     ]
    },
    {
     "name": "stdout",
     "output_type": "stream",
     "text": [
      "DONE: Calculating beta group significance: permdisp matching\n",
      "Calculating beta group significance with method permdisp and metric jaccard\n",
      "{'metadata': <CategoricalMetadataColumn name='group-id' id_count=9>, 'method': 'permdisp', 'pairwise': True, 'permutations': 999, 'distance_matrix': <skbio.stats.distance._base.DistanceMatrix object at 0x7f2094b772b0>}\n"
     ]
    },
    {
     "name": "stdout",
     "output_type": "stream",
     "text": [
      "DONE: Calculating beta group significance: permdisp jaccard\n"
     ]
    },
    {
     "data": {
      "text/plain": [
       "<Figure size 432x288 with 0 Axes>"
      ]
     },
     "metadata": {},
     "output_type": "display_data"
    }
   ],
   "source": [
    "methods = ('permanova', 'anosim', 'permdisp')\n",
    "for method in methods:\n",
    "    for metric, beta_diversity in beta_diversities.items():\n",
    "        print(f'Calculating beta group significance with method {method} and metric {metric}')\n",
    "        try:\n",
    "            beta_view = beta_group_significance(distance_matrix=beta_diversity, \n",
    "                                                metadata=metadata_qa.get_column(class_col), \n",
    "                                                pairwise=True, method=method).visualization\n",
    "            view_name = os.path.join(beta_path, f'beta-group-significance-{metric}-{method}.qzv')\n",
    "            beta_view.save(view_name)\n",
    "            print(f\"DONE: Calculating beta group significance: {method} {metric}\")\n",
    "        except Exception as e:\n",
    "            print(f\"ERROR: Calculating beta group significance: {method} {metric}\")"
   ]
  },
  {
   "cell_type": "markdown",
   "id": "c0de85cf",
   "metadata": {
    "papermill": {
     "duration": 0.040781,
     "end_time": "2023-09-14T15:22:50.123619",
     "exception": false,
     "start_time": "2023-09-14T15:22:50.082838",
     "status": "completed"
    },
    "tags": []
   },
   "source": [
    "### Beta group Rarefaction\n",
    "\n",
    "- [diversity beta_rarefaction](https://docs.qiime2.org/2022.8/plugins/available/diversity/beta-rarefaction/): Repeatedly rarefy a feature table to compare beta diversity results within a given rarefaction depth.  For a given beta diversity metric, this visualizer will provide: an Emperor jackknifed PCoA plot, samples clustered by UPGMA or neighbor joining with support calculation, and a heatmap showing the correlation between rarefaction trials of that beta diversity metric."
   ]
  }
 ],
 "metadata": {
  "celltoolbar": "Edit Metadata",
  "kernelspec": {
   "display_name": "Python 3 (ipykernel)",
   "language": "python",
   "name": "python3"
  },
  "language_info": {
   "codemirror_mode": {
    "name": "ipython",
    "version": 3
   },
   "file_extension": ".py",
   "mimetype": "text/x-python",
   "name": "python",
   "nbconvert_exporter": "python",
   "pygments_lexer": "ipython3",
   "version": "3.8.12"
  },
  "papermill": {
   "default_parameters": {},
   "duration": 68.830606,
   "end_time": "2023-09-14T15:22:51.187293",
   "environment_variables": {},
   "exception": null,
   "input_path": "microbiom/nb-templates/step-diversity-analysis.ipynb",
   "output_path": "/home/lauro/nupeb/rede-micro/redemicro-ana-flavia-nutri/experiments/ana-flavia-NCxNR-trim/nb-executed-steps/step-diversity-analysis-ana-flavia-NCxNR-trim.ipynb",
   "parameters": {
    "base_dir": "/home/lauro/nupeb/rede-micro/redemicro-ana-flavia-nutri",
    "class_col": "group-id",
    "classifier_file": "/home/lauro/nupeb/rede-micro/models/silva-138-99-nb-classifier.qza",
    "experiment_name": "ana-flavia-NCxNR-trim",
    "manifest_file": "/home/lauro/nupeb/rede-micro/redemicro-ana-flavia-nutri/data/raw/manifest/manifest-ana-flavia-NCxNR.csv",
    "metadata_file": "/home/lauro/nupeb/rede-micro/redemicro-ana-flavia-nutri/data/raw/metadata/metadata-ana-flavia-NCxNR.tsv",
    "overlap": 12,
    "phred": 20,
    "replace_files": false,
    "threads": 6,
    "top_n": 20,
    "trim": {
     "forward_primer": "CCTACGGGRSGCAGCAG",
     "overlap": 8,
     "reverse_primer": "GGACTACHVGGGTWTCTAAT"
    },
    "trunc_f": 0,
    "trunc_r": 0
   },
   "start_time": "2023-09-14T15:21:42.356687",
   "version": "2.3.4"
  }
 },
 "nbformat": 4,
 "nbformat_minor": 5
}