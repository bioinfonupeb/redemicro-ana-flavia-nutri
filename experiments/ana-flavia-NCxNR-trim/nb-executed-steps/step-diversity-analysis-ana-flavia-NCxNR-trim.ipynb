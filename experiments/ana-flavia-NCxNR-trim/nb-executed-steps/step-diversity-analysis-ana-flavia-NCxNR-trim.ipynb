{
 "cells": [
  {
   "cell_type": "markdown",
   "id": "15bcfa06",
   "metadata": {
    "papermill": {
     "duration": 0.024367,
     "end_time": "2022-10-14T17:03:15.556561",
     "exception": false,
     "start_time": "2022-10-14T17:03:15.532194",
     "status": "completed"
    },
    "tags": []
   },
   "source": [
    " \n",
    "# Alpha and Beta Diversity\n",
    "\n",
    "Different higher-level measures are often used to describe the microbiome in a sample. These do not provide information on changes in the abundance of specific taxa but allow us to access a broader change or difference in the composition of microorganisms. Alpha and beta diversity are examples of such measures.\n",
    "\n",
    "Different measures exist to estimate diversity within a single sample, jointly called alpha diversity. The different measures reflect the richness (number) or distribution (evenness) of a microbial sample or aim to reflect a combination of both properties.\n",
    "\n",
    "Rarefaction curves are often used when calculating alpha diversity indices because increasing numbers of sequenced taxa allow increasingly accurate estimates of total population diversity. Rarefaction curves can therefore be used to estimate the full sample richness, as compared to the observed sample richness.\n",
    "\n",
    "While alpha diversity is a measure of microbiome diversity applicable to a single sample, beta diversity is a measure of the similarity or dissimilarity of two communities. As for alpha diversity, many indices exist, each reflecting different aspects of community heterogeneity. Key differences relate to how the indices value variation in rare species if they consider presence/absence only or incorporate abundance, and how they interpret shared absence. Bray-Curtis dissimilarity is a popular measure that considers both size (overall abundance per sample) and shape (abundance of each taxon) of the communities (Bray, 1957). Beta diversity is an essential measure for many popular statistical methods in ecology, such as ordination-based methods, and is widely used for studying the association between environmental variables and microbial composition.\n",
    "\n",
    "In summary, alpha diversity measures can be seen as a summary statistic of a single population (within-sample diversity), while beta diversity measures are estimates of similarity or dissimilarity between populations (between samples).\n",
    "\n",
    "**Source**: (https://biomcare.com/info/key-terms-in-microbiome-projects/)"
   ]
  },
  {
   "cell_type": "markdown",
   "id": "0e7f2330",
   "metadata": {
    "ExecuteTime": {
     "end_time": "2022-09-22T19:36:33.828188Z",
     "start_time": "2022-09-22T19:36:33.817323Z"
    },
    "papermill": {
     "duration": 0.016832,
     "end_time": "2022-10-14T17:03:15.591708",
     "exception": false,
     "start_time": "2022-10-14T17:03:15.574876",
     "status": "completed"
    },
    "tags": []
   },
   "source": [
    "### STEP : Diversity Analysis\n",
    "\n",
    "Using QIIME2 to create diversity analisys graphs and calculations.\n",
    "\n",
    "- [QIIME2 Workflow Overview](https://docs.qiime2.org/2022.8/tutorials/overview/)\n",
    "\n",
    "\n",
    "#### Methods\n",
    "- [diversity](https://docs.qiime2.org/2022.8/plugins/available/diversity/)\n",
    "- [diversity alpha](https://docs.qiime2.org/2022.8/plugins/available/diversity/alpha/)\n",
    "- [diversity alpha_phylogenetic](https://docs.qiime2.org/2022.8/plugins/available/diversity/alpha-phylogenetic/)\n",
    "- [diversity beta](https://docs.qiime2.org/2022.8/plugins/available/diversity/beta/)\n",
    "- [diversity core_metrics](https://docs.qiime2.org/2022.8/plugins/available/diversity/core-metrics/)\n",
    "- [diversity alpha_group_significance](https://docs.qiime2.org/2022.8/plugins/available/diversity/alpha-group-significance/)\n",
    "- [diversity beta_group_significance](https://docs.qiime2.org/2022.8/plugins/available/diversity/beta-group-significance/)\n",
    "- [feature_table core_features](https://docs.qiime2.org/2022.8/plugins/available/feature-table/core-features/)\n",
    "- [feature_table summarize](https://docs.qiime2.org/2022.8/plugins/available/feature-table/summarize/)\n",
    "- [taxa filter-table](https://docs.qiime2.org/2022.8/plugins/available/taxa/filter-table/)\n",
    "- [taxa collapse](https://docs.qiime2.org/2022.8/plugins/available/taxa/collapse/)"
   ]
  },
  {
   "cell_type": "markdown",
   "id": "843debbf",
   "metadata": {
    "papermill": {
     "duration": 0.016258,
     "end_time": "2022-10-14T17:03:15.624653",
     "exception": false,
     "start_time": "2022-10-14T17:03:15.608395",
     "status": "completed"
    },
    "tags": []
   },
   "source": [
    "## Setup and settings"
   ]
  },
  {
   "cell_type": "code",
   "execution_count": 1,
   "id": "965e28e5",
   "metadata": {
    "ExecuteTime": {
     "end_time": "2022-09-29T20:54:14.786765Z",
     "start_time": "2022-09-29T20:54:08.286473Z"
    },
    "execution": {
     "iopub.execute_input": "2022-10-14T17:03:15.658202Z",
     "iopub.status.busy": "2022-10-14T17:03:15.657915Z",
     "iopub.status.idle": "2022-10-14T17:03:22.578961Z",
     "shell.execute_reply": "2022-10-14T17:03:22.578282Z"
    },
    "papermill": {
     "duration": 6.941257,
     "end_time": "2022-10-14T17:03:22.582190",
     "exception": false,
     "start_time": "2022-10-14T17:03:15.640933",
     "status": "completed"
    },
    "tags": []
   },
   "outputs": [],
   "source": [
    "# Importing packages\n",
    "import os\n",
    "import pandas as pd\n",
    "from qiime2 import Artifact\n",
    "from qiime2 import Visualization\n",
    "from qiime2 import Metadata\n",
    "\n",
    "from qiime2.plugins.phylogeny.pipelines import align_to_tree_mafft_fasttree\n",
    "\n",
    "from qiime2.plugins.diversity.pipelines import alpha\n",
    "from qiime2.plugins.diversity.pipelines import beta\n",
    "from qiime2.plugins.diversity.pipelines import core_metrics\n",
    "from qiime2.plugins.diversity.pipelines import alpha_phylogenetic\n",
    "\n",
    "from qiime2.plugins.diversity.visualizers import alpha_group_significance\n",
    "from qiime2.plugins.diversity.visualizers import beta_group_significance\n",
    "from qiime2.plugins.diversity.visualizers import alpha_correlation\n",
    "from qiime2.plugins.diversity.visualizers import beta_rarefaction\n",
    "\n",
    "from qiime2.plugins.taxa.methods import filter_table\n",
    "from qiime2.plugins.taxa.methods import collapse\n",
    "\n",
    "from qiime2.plugins.feature_table.visualizers import tabulate_seqs\n",
    "from qiime2.plugins.feature_table.visualizers import summarize\n",
    "from qiime2.plugins.feature_table.visualizers import core_features\n",
    "\n",
    "from qiime2.plugins.alignment.methods import mafft\n",
    "\n",
    "\n",
    "import matplotlib.pyplot as plt\n",
    "\n",
    "%matplotlib inline"
   ]
  },
  {
   "cell_type": "markdown",
   "id": "530ceb60",
   "metadata": {
    "papermill": {
     "duration": 0.019991,
     "end_time": "2022-10-14T17:03:22.625458",
     "exception": false,
     "start_time": "2022-10-14T17:03:22.605467",
     "status": "completed"
    },
    "tags": []
   },
   "source": [
    "### Receiving the parameters\n",
    "\n",
    "The following cell can receive parameters using the [papermill](https://papermill.readthedocs.io/en/latest/) tool."
   ]
  },
  {
   "cell_type": "code",
   "execution_count": 2,
   "id": "18d874ea",
   "metadata": {
    "ExecuteTime": {
     "end_time": "2022-09-29T20:54:14.793270Z",
     "start_time": "2022-09-29T20:54:14.789367Z"
    },
    "execution": {
     "iopub.execute_input": "2022-10-14T17:03:22.658247Z",
     "iopub.status.busy": "2022-10-14T17:03:22.657988Z",
     "iopub.status.idle": "2022-10-14T17:03:22.662676Z",
     "shell.execute_reply": "2022-10-14T17:03:22.661958Z"
    },
    "papermill": {
     "duration": 0.023195,
     "end_time": "2022-10-14T17:03:22.664256",
     "exception": false,
     "start_time": "2022-10-14T17:03:22.641061",
     "status": "completed"
    },
    "tags": [
     "parameters"
    ]
   },
   "outputs": [],
   "source": [
    "metadata_file = '/home/lauro/nupeb/rede-micro/redemicro-miliane-nutri/data/raw/metadata/miliane-metadata-CxAC.tsv'\n",
    "base_dir = os.path.join('/', 'home', 'lauro', 'nupeb', 'rede-micro', 'redemicro-miliane-nutri')\n",
    "experiment_name = 'miliane-CxAC-trim'\n",
    "class_col = 'group-id'\n",
    "replace_files = False"
   ]
  },
  {
   "cell_type": "code",
   "execution_count": 3,
   "id": "e1cfea11",
   "metadata": {
    "execution": {
     "iopub.execute_input": "2022-10-14T17:03:22.697070Z",
     "iopub.status.busy": "2022-10-14T17:03:22.696832Z",
     "iopub.status.idle": "2022-10-14T17:03:22.702766Z",
     "shell.execute_reply": "2022-10-14T17:03:22.701973Z"
    },
    "papermill": {
     "duration": 0.024083,
     "end_time": "2022-10-14T17:03:22.704303",
     "exception": false,
     "start_time": "2022-10-14T17:03:22.680220",
     "status": "completed"
    },
    "tags": [
     "injected-parameters"
    ]
   },
   "outputs": [],
   "source": [
    "# Parameters\n",
    "experiment_name = \"ana-flavia-NCxNR-trim\"\n",
    "base_dir = \"/home/lauro/nupeb/rede-micro/redemicro-ana-flavia-nutri\"\n",
    "manifest_file = \"/home/lauro/nupeb/rede-micro/redemicro-ana-flavia-nutri/data/raw/manifest/manifest-ana-flavia-NCxNR.csv\"\n",
    "metadata_file = \"/home/lauro/nupeb/rede-micro/redemicro-ana-flavia-nutri/data/raw/metadata/metadata-ana-flavia-NCxNR.tsv\"\n",
    "class_col = \"group-id\"\n",
    "classifier_file = \"/home/lauro/nupeb/dados_brutos_rede_genoma/16S_classifiers_qiime2/silva-138-99-nb-classifier.qza\"\n",
    "replace_files = False\n",
    "phred = 20\n",
    "trunc_f = 0\n",
    "trunc_r = 0\n",
    "overlap = 12\n",
    "threads = 6\n",
    "trim = {\n",
    "    \"overlap\": 8,\n",
    "    \"forward_primer\": \"CCTACGGGRSGCAGCAG\",\n",
    "    \"reverse_primer\": \"GGACTACHVGGGTWTCTAAT\",\n",
    "}\n"
   ]
  },
  {
   "cell_type": "code",
   "execution_count": 4,
   "id": "f38617d9",
   "metadata": {
    "ExecuteTime": {
     "end_time": "2022-09-29T20:54:14.804575Z",
     "start_time": "2022-09-29T20:54:14.794927Z"
    },
    "execution": {
     "iopub.execute_input": "2022-10-14T17:03:22.738807Z",
     "iopub.status.busy": "2022-10-14T17:03:22.738527Z",
     "iopub.status.idle": "2022-10-14T17:03:22.743202Z",
     "shell.execute_reply": "2022-10-14T17:03:22.742361Z"
    },
    "papermill": {
     "duration": 0.023146,
     "end_time": "2022-10-14T17:03:22.744834",
     "exception": false,
     "start_time": "2022-10-14T17:03:22.721688",
     "status": "completed"
    },
    "tags": []
   },
   "outputs": [],
   "source": [
    "experiment_folder = os.path.abspath(os.path.join(base_dir, 'experiments', experiment_name))\n",
    "img_folder = os.path.abspath(os.path.join(experiment_folder, 'imgs'))"
   ]
  },
  {
   "cell_type": "markdown",
   "id": "ea9b90fb",
   "metadata": {
    "papermill": {
     "duration": 0.015792,
     "end_time": "2022-10-14T17:03:22.777614",
     "exception": false,
     "start_time": "2022-10-14T17:03:22.761822",
     "status": "completed"
    },
    "tags": []
   },
   "source": [
    "### Defining names, paths and flags"
   ]
  },
  {
   "cell_type": "code",
   "execution_count": 5,
   "id": "45727eef",
   "metadata": {
    "ExecuteTime": {
     "end_time": "2022-09-29T20:54:14.816686Z",
     "start_time": "2022-09-29T20:54:14.806238Z"
    },
    "execution": {
     "iopub.execute_input": "2022-10-14T17:03:22.810594Z",
     "iopub.status.busy": "2022-10-14T17:03:22.810251Z",
     "iopub.status.idle": "2022-10-14T17:03:22.821213Z",
     "shell.execute_reply": "2022-10-14T17:03:22.820218Z"
    },
    "papermill": {
     "duration": 0.029196,
     "end_time": "2022-10-14T17:03:22.822566",
     "exception": false,
     "start_time": "2022-10-14T17:03:22.793370",
     "status": "completed"
    },
    "tags": []
   },
   "outputs": [],
   "source": [
    "# QIIME2 Artifacts folder\n",
    "qiime_folder = os.path.join(experiment_folder, 'qiime-artifacts')\n",
    "\n",
    "# Input - DADA2 Artifacts\n",
    "dada2_tabs_path = os.path.join(qiime_folder, 'dada2-tabs.qza')\n",
    "dada2_reps_path = os.path.join(qiime_folder, 'dada2-reps.qza')\n",
    "dada2_stat_path = os.path.join(qiime_folder, 'dada2-stat.qza')\n",
    "\n",
    "# Input - Taxonaomic Artifacts\n",
    "taxonomy_path = os.path.join(qiime_folder, 'metatax.qza')\n",
    "\n",
    "# Output -Diversity Artifacts\n",
    "alpha_diversity_path = os.path.join(qiime_folder, 'alpha-diversity.qza')\n",
    "alpha_diversity_view_path = os.path.join(qiime_folder, 'alpha-diversity.qzv')\n",
    "beta_diversity_path = os.path.join(qiime_folder, 'beta-diversity.qza')\n",
    "beta_diversity_view_path = os.path.join(qiime_folder, 'beta-diversity.qzv')\n",
    "\n",
    "dada2_tabs_view = os.path.join(qiime_folder, 'dada2-tabs.qzv')\n",
    "dada2_reps_view = os.path.join(qiime_folder, 'dada2-reps.qzv')\n",
    "dada2_core_view = os.path.join(qiime_folder, 'dada2-core.qzv')\n",
    "\n",
    "# Flag - Load or create files\n",
    "need_tax = not (os.path.isfile(alpha_diversity_path)) or replace_files\n",
    "need_view = not (os.path.isfile(alpha_diversity_view_path)) or replace_files"
   ]
  },
  {
   "cell_type": "code",
   "execution_count": 6,
   "id": "601ae263",
   "metadata": {
    "ExecuteTime": {
     "end_time": "2022-09-29T20:54:14.829117Z",
     "start_time": "2022-09-29T20:54:14.818272Z"
    },
    "execution": {
     "iopub.execute_input": "2022-10-14T17:03:22.852207Z",
     "iopub.status.busy": "2022-10-14T17:03:22.852046Z",
     "iopub.status.idle": "2022-10-14T17:03:22.856945Z",
     "shell.execute_reply": "2022-10-14T17:03:22.856510Z"
    },
    "papermill": {
     "duration": 0.021186,
     "end_time": "2022-10-14T17:03:22.858274",
     "exception": false,
     "start_time": "2022-10-14T17:03:22.837088",
     "status": "completed"
    },
    "tags": []
   },
   "outputs": [],
   "source": [
    "def filter_and_collapse(tab, seqs, tax, meta, lvl, exclude=True, exclude_list='uncultured,unidentified,metagenome'):\n",
    "    from qiime2.plugins.taxa.methods import collapse\n",
    "    from qiime2.plugins.taxa.methods import filter_table\n",
    "    from qiime2.plugins.feature_table.methods import filter_seqs\n",
    "    from qiime2.plugins.feature_table.visualizers import summarize\n",
    "    \n",
    "    to_include = ('d', 'p', 'c', 'o', 'f', 'g', 's')[lvl-1]\n",
    "    to_include += '__'\n",
    "    to_exclude = exclude_list if exclude else None\n",
    "    \n",
    "    filtered_tabs = filter_table(\n",
    "        table=tab, \n",
    "        taxonomy=tax,\n",
    "        include=to_include,\n",
    "        exclude=to_exclude,\n",
    "        mode='contains').filtered_table\n",
    "    \n",
    "    filtered_seqs = filter_seqs(\n",
    "        data = seqs,\n",
    "        table = filtered_tabs,\n",
    "    ).filtered_data\n",
    "    \n",
    "    collapsed_table = collapse(table=filtered_tabs, taxonomy=tax, level=lvl).collapsed_table\n",
    "    collapsed_table_view = summarize(table=collapsed_table, sample_metadata=meta).visualization\n",
    "    \n",
    "    return collapsed_table, collapsed_table_view, filtered_seqs"
   ]
  },
  {
   "cell_type": "markdown",
   "id": "0999a1b2",
   "metadata": {
    "papermill": {
     "duration": 0.014233,
     "end_time": "2022-10-14T17:03:22.897826",
     "exception": false,
     "start_time": "2022-10-14T17:03:22.883593",
     "status": "completed"
    },
    "tags": []
   },
   "source": [
    "## Step execution\n",
    "\n",
    "### Load input files\n",
    "\n",
    "This Step import the QIIME2 `FeatureTable[Frequency]` Artifact and the `Metadata` file."
   ]
  },
  {
   "cell_type": "code",
   "execution_count": 7,
   "id": "8f299d1a",
   "metadata": {
    "ExecuteTime": {
     "end_time": "2022-09-29T20:54:15.559837Z",
     "start_time": "2022-09-29T20:54:14.830405Z"
    },
    "execution": {
     "iopub.execute_input": "2022-10-14T17:03:22.932933Z",
     "iopub.status.busy": "2022-10-14T17:03:22.932785Z",
     "iopub.status.idle": "2022-10-14T17:03:23.220513Z",
     "shell.execute_reply": "2022-10-14T17:03:23.219895Z"
    },
    "papermill": {
     "duration": 0.31026,
     "end_time": "2022-10-14T17:03:23.222216",
     "exception": false,
     "start_time": "2022-10-14T17:03:22.911956",
     "status": "completed"
    },
    "tags": []
   },
   "outputs": [],
   "source": [
    "#Load Metadata\n",
    "metadata_qa = Metadata.load(metadata_file)\n",
    "\n",
    "#Load FeatureTable[Frequency]\n",
    "tabs = Artifact.load(dada2_tabs_path)\n",
    "tabs_df = tabs.view(Metadata).to_dataframe().T\n",
    "\n",
    "# FeatureData[Sequence]\n",
    "reps = Artifact.load(dada2_reps_path)\n",
    "\n",
    "# FeatureData[Taxonomy]\n",
    "tax = Artifact.load(taxonomy_path)"
   ]
  },
  {
   "cell_type": "code",
   "execution_count": 8,
   "id": "c8dfe530",
   "metadata": {
    "ExecuteTime": {
     "end_time": "2022-09-29T20:54:15.564968Z",
     "start_time": "2022-09-29T20:54:15.561875Z"
    },
    "execution": {
     "iopub.execute_input": "2022-10-14T17:03:23.251877Z",
     "iopub.status.busy": "2022-10-14T17:03:23.251716Z",
     "iopub.status.idle": "2022-10-14T17:03:23.254618Z",
     "shell.execute_reply": "2022-10-14T17:03:23.254062Z"
    },
    "papermill": {
     "duration": 0.019194,
     "end_time": "2022-10-14T17:03:23.255881",
     "exception": false,
     "start_time": "2022-10-14T17:03:23.236687",
     "status": "completed"
    },
    "tags": []
   },
   "outputs": [],
   "source": [
    "# lvl = 7\n",
    "# exclude = True\n",
    "# tabs, collapsed_table_view, reps = filter_and_collapse(\n",
    "#                     tabs, reps, tax, metadata_qa, \n",
    "#                     lvl=lvl,\n",
    "#                     exclude=exclude, \n",
    "#                     exclude_list='uncultured,unidentified,metagenome')\n",
    "# collapsed_table_view"
   ]
  },
  {
   "cell_type": "code",
   "execution_count": 9,
   "id": "8b66a6e5",
   "metadata": {
    "ExecuteTime": {
     "end_time": "2022-09-29T20:54:20.434382Z",
     "start_time": "2022-09-29T20:54:15.567722Z"
    },
    "execution": {
     "iopub.execute_input": "2022-10-14T17:03:23.284894Z",
     "iopub.status.busy": "2022-10-14T17:03:23.284740Z",
     "iopub.status.idle": "2022-10-14T17:03:28.049211Z",
     "shell.execute_reply": "2022-10-14T17:03:28.048627Z"
    },
    "papermill": {
     "duration": 4.781605,
     "end_time": "2022-10-14T17:03:28.051682",
     "exception": false,
     "start_time": "2022-10-14T17:03:23.270077",
     "status": "completed"
    },
    "tags": []
   },
   "outputs": [
    {
     "data": {
      "text/plain": [
       "'/home/lauro/nupeb/rede-micro/redemicro-ana-flavia-nutri/experiments/ana-flavia-NCxNR-trim/qiime-artifacts/dada2-core.qzv'"
      ]
     },
     "execution_count": 9,
     "metadata": {},
     "output_type": "execute_result"
    },
    {
     "data": {
      "image/png": "[encoded data removed]",
      "text/plain": [
       "<Figure size 432x288 with 1 Axes>"
      ]
     },
     "metadata": {
      "needs_background": "light"
     },
     "output_type": "display_data"
    }
   ],
   "source": [
    "tabs_view = summarize(table=tabs, sample_metadata=metadata_qa).visualization\n",
    "tabs_view.save(dada2_tabs_view)\n",
    "reps_view = tabulate_seqs(data=reps).visualization\n",
    "reps_view.save(dada2_reps_view)\n",
    "core_view = core_features(table=tabs, min_fraction=.1, steps=10).visualization\n",
    "core_view.save(dada2_core_view)"
   ]
  },
  {
   "cell_type": "code",
   "execution_count": 10,
   "id": "b2bf36b8",
   "metadata": {
    "ExecuteTime": {
     "end_time": "2022-09-29T20:54:20.449299Z",
     "start_time": "2022-09-29T20:54:20.435814Z"
    },
    "execution": {
     "iopub.execute_input": "2022-10-14T17:03:28.125057Z",
     "iopub.status.busy": "2022-10-14T17:03:28.124765Z",
     "iopub.status.idle": "2022-10-14T17:03:28.142837Z",
     "shell.execute_reply": "2022-10-14T17:03:28.142365Z"
    },
    "papermill": {
     "duration": 0.070334,
     "end_time": "2022-10-14T17:03:28.144892",
     "exception": false,
     "start_time": "2022-10-14T17:03:28.074558",
     "status": "completed"
    },
    "tags": []
   },
   "outputs": [
    {
     "name": "stdout",
     "output_type": "stream",
     "text": [
      "['04bad799-d95b-4855-80c1-d897d0064241/data/core-features-1.000.tsv']\n",
      "                          Feature ID       2%       9%     25%      50%  \\\n",
      "0   bc798de4a9acd3ff7ba51c244523be14  3713.40  3875.80  6090.0  17739.0   \n",
      "1   d7d3cdd53799e5296423251aa8f5cb20   841.12   929.04  3843.0   8313.0   \n",
      "2   55b8f708d3561852ca20801e513b08a7  1971.32  2868.44  3662.0   7641.0   \n",
      "3   0d427f17f664e881d2e4b4056dfaeca3    81.40   159.80   691.0   6263.0   \n",
      "4   fca5b1ccd94b107a3ddf3e99feaafb6f   464.96   468.32   710.0   4870.0   \n",
      "5   ff6880f38ac8c1569873d503a3d53c2a  1012.28  1828.76  3860.0   4744.0   \n",
      "6   c688e3b1ada46ed57f5b7e7e0d56664f   361.52   877.84  2156.0   4404.0   \n",
      "7   b14c3f748ff5130552acea8a2b12f29d   422.60   470.20  1975.0   4244.0   \n",
      "8   964b4e1d99a1441b5dac125d1452b97a   169.84   267.28   351.0   3908.0   \n",
      "9   26fb6a43293a39fa4463bc35a69457b2   353.00   577.00  1184.0   3754.0   \n",
      "10  bfbcddb34034c8e1327bc8e4a3817f73   476.00  1316.00  2618.0   3684.0   \n",
      "11  33be3de1f8ec58c58a1d87db108d913c   532.52   880.84  1799.0   2531.0   \n",
      "12  04ea3eb82bee66a923a6bfc6d6341b18   510.40   854.80  1364.0   1924.0   \n",
      "13  72e62b56bb188827c70b57b9b1abdc71   174.32   329.44  1008.0   1794.0   \n",
      "14  a1bc173c37d38b7a95f6f464d62fa86e   414.00   666.00  1153.0   1514.0   \n",
      "15  2e398b8d21dc0766b2cf014de5f215f9   387.60   435.20   802.0   1044.0   \n",
      "16  34272e5acf8bda74002ed691482dd980   130.36   268.12   353.0    981.0   \n",
      "17  ce04c001c6c43d28b5c17960d798d01d    52.24    60.08   169.0    825.0   \n",
      "18  36a34be21267db768b35462221e335ee   190.80   305.60   732.0    808.0   \n",
      "19  eeda7eb443fea11ba18b1e85081b5840   121.24   157.08   272.0    604.0   \n",
      "20  3aa324222f8ba93b3e7263588f586d1c   183.00   323.00   439.0    548.0   \n",
      "21  2f4a2b08eec8d8d5f66dc0d20552881f   125.80   128.60   151.0    466.0   \n",
      "22  ea0fb2d8635299125cac1927a25391a1    47.44   122.48   224.0    289.0   \n",
      "23  d54ba858dcfc687c0433becca93d891c    87.04    97.68   106.0    183.0   \n",
      "24  769c138babb1bc5663d05591a6d40823    32.56    55.52   100.0    115.0   \n",
      "\n",
      "        75%       91%       98%  \n",
      "0   24598.0  47552.64  65787.92  \n",
      "1   28280.0  56033.72  73071.16  \n",
      "2   13544.0  14868.68  15642.04  \n",
      "3    7288.0  11282.52  18091.56  \n",
      "4   22163.0  34801.96  56015.88  \n",
      "5   12664.0  16616.00  18632.00  \n",
      "6   31261.0  49575.24  81751.72  \n",
      "7   14963.0  29191.52  38086.56  \n",
      "8    5130.0  13158.16  26554.48  \n",
      "9   13435.0  20690.28  33318.84  \n",
      "10   6989.0  12024.96  13428.88  \n",
      "11   6513.0   8362.60   9325.80  \n",
      "12   5419.0   7049.00   7903.00  \n",
      "13   2437.0   3219.20   4543.60  \n",
      "14   3605.0   6420.20   7464.60  \n",
      "15   1703.0   5583.84   6593.52  \n",
      "16   1331.0   1510.52   1711.56  \n",
      "17   1384.0   6207.32  12419.96  \n",
      "18   1014.0   2126.72   3106.16  \n",
      "19    618.0   1015.76   1585.28  \n",
      "20   3307.0   5000.08   6630.24  \n",
      "21    663.0   1596.12   1626.36  \n",
      "22    637.0    677.76    715.28  \n",
      "23    744.0   1679.04   2669.12  \n",
      "24    322.0    369.04    407.12  \n"
     ]
    }
   ],
   "source": [
    "import zipfile\n",
    "from io import StringIO\n",
    "import pandas as pd\n",
    "with zipfile.ZipFile(dada2_core_view, 'r') as zip_ref:\n",
    "    names = [x for x in zip_ref.namelist() if x.endswith('1.000.tsv')]\n",
    "    print(names)\n",
    "    with zip_ref.open(names[0]) as myfile:\n",
    "        txt = str(myfile.read(), 'utf-8')\n",
    "        txt = StringIO(txt)\n",
    "        df = pd.read_csv(txt, sep='\\t')\n",
    "        print(df)   "
   ]
  },
  {
   "cell_type": "markdown",
   "id": "9f43843a",
   "metadata": {
    "ExecuteTime": {
     "end_time": "2022-09-22T22:48:07.523952Z",
     "start_time": "2022-09-22T22:48:07.517565Z"
    },
    "papermill": {
     "duration": 0.017456,
     "end_time": "2022-10-14T17:03:28.186513",
     "exception": false,
     "start_time": "2022-10-14T17:03:28.169057",
     "status": "completed"
    },
    "tags": []
   },
   "source": [
    "## Alpha diversity analysis\n",
    "\n",
    "#### Reference\n",
    "- [The Use and Types of Alpha-Diversity Metrics in Microbial NGS](https://www.cd-genomics.com/microbioseq/the-use-and-types-of-alpha-diversity-metrics-in-microbial-ngs.html)\n",
    "- [Alpha diversity metrics](http://scikit-bio.org/docs/0.2.0/generated/skbio.diversity.alpha.html)\n",
    "\n",
    "#### Methods\n",
    "- [diversity alpha](https://docs.qiime2.org/2022.8/plugins/available/diversity/alpha/): Computes a user-specified alpha diversity metric for all samples in a\n",
    "feature table.\n",
    "- [diversity alpha_phylogenetic](https://docs.qiime2.org/2022.8/plugins/available/diversity/alpha-phylogenetic/): Computes a user-specified phylogenetic alpha diversity metric for all\n",
    "samples in a feature table.\n",
    "- [diversity alpha_correlation](https://docs.qiime2.org/2022.8/plugins/available/diversity/alpha-correlation/): Determine whether numeric sample metadata columns are correlated with alpha diversity.\n",
    "- [diversity alpha_group_significance](https://docs.qiime2.org/2022.8/plugins/available/diversity/alpha-group-significance/): Visually and statistically compare groups of alpha diversity values."
   ]
  },
  {
   "cell_type": "markdown",
   "id": "606b9c75",
   "metadata": {
    "papermill": {
     "duration": 0.017426,
     "end_time": "2022-10-14T17:03:28.221700",
     "exception": false,
     "start_time": "2022-10-14T17:03:28.204274",
     "status": "completed"
    },
    "tags": []
   },
   "source": [
    "### Compute Alpha Diversity vectors\n",
    "- [diversity alpha](https://docs.qiime2.org/2022.8/plugins/available/diversity/alpha/): Computes a user-specified alpha diversity metric for all samples in a feature table.\n",
    "- [Alpha diversity metrics](http://scikit-bio.org/docs/0.2.0/generated/skbio.diversity.alpha.html)\n",
    " - Choices: ('ace', 'berger_parker_d', 'brillouin_d', 'chao1', 'chao1_ci', 'dominance', 'doubles', 'enspie', 'esty_ci', 'fisher_alpha', 'gini_index', 'goods_coverage', 'heip_e', 'kempton_taylor_q', 'lladser_pe', 'margalef', 'mcintosh_d', 'mcintosh_e', 'menhinick', 'michaelis_menten_fit', 'observed_features', 'osd', 'pielou_e', 'robbins', 'shannon', 'simpson', 'simpson_e', 'singles', 'strong')"
   ]
  },
  {
   "cell_type": "code",
   "execution_count": 11,
   "id": "556e5264",
   "metadata": {
    "ExecuteTime": {
     "end_time": "2022-09-29T20:54:20.790166Z",
     "start_time": "2022-09-29T20:54:20.451134Z"
    },
    "execution": {
     "iopub.execute_input": "2022-10-14T17:03:28.258858Z",
     "iopub.status.busy": "2022-10-14T17:03:28.258602Z",
     "iopub.status.idle": "2022-10-14T17:03:28.556444Z",
     "shell.execute_reply": "2022-10-14T17:03:28.555619Z"
    },
    "papermill": {
     "duration": 0.319512,
     "end_time": "2022-10-14T17:03:28.559103",
     "exception": false,
     "start_time": "2022-10-14T17:03:28.239591",
     "status": "completed"
    },
    "tags": []
   },
   "outputs": [
    {
     "name": "stdout",
     "output_type": "stream",
     "text": [
      "Calculating alpha diversty: chao1\n"
     ]
    },
    {
     "name": "stdout",
     "output_type": "stream",
     "text": [
      "Calculating alpha diversty: simpson\n",
      "Calculating alpha diversty: shannon\n",
      "Calculating alpha diversty: ace\n"
     ]
    },
    {
     "name": "stdout",
     "output_type": "stream",
     "text": [
      "Calculating alpha diversty: observed_features\n"
     ]
    }
   ],
   "source": [
    "metrics = ('chao1', 'simpson', 'shannon', 'ace', 'observed_features')\n",
    "alpha_diversities = dict()\n",
    "for metric in metrics:\n",
    "    print(f\"Calculating alpha diversty: {metric}\")\n",
    "    alpha_diversity = alpha(table=tabs, metric=metric).alpha_diversity\n",
    "    alpha_diversities[metric] = alpha_diversity"
   ]
  },
  {
   "cell_type": "markdown",
   "id": "184bcb7b",
   "metadata": {
    "papermill": {
     "duration": 0.018298,
     "end_time": "2022-10-14T17:03:28.600187",
     "exception": false,
     "start_time": "2022-10-14T17:03:28.581889",
     "status": "completed"
    },
    "tags": []
   },
   "source": [
    "### Create Phylogenetic inference\n",
    "\n",
    "- [alignment align_to_tree_mafft_fasttree](https://docs.qiime2.org/2022.8/plugins/available/phylogeny/align-to-tree-mafft-fasttree/): Build a phylogenetic tree using fasttree and mafft alignment\n",
    "\n",
    "This pipeline will start by creating a sequence alignment using MAFFT,\n",
    "after which any alignment columns that are phylogenetically uninformative\n",
    "or ambiguously aligned will be removed (masked). The resulting masked\n",
    "alignment will be used to infer a phylogenetic tree and then subsequently\n",
    "rooted at its midpoint. Output files from each step of the pipeline will be\n",
    "saved. This includes both the unmasked and masked MAFFT alignment from\n",
    "q2-alignment methods, and both the rooted and unrooted phylogenies from\n",
    "q2-phylogeny methods.\n",
    "\n",
    "\n",
    "Returns\n",
    "- alignment : FeatureData[AlignedSequence] : The aligned sequences.\n",
    "- masked_alignment : FeatureData[AlignedSequence] : The masked alignment.\n",
    "- tree : Phylogeny[Unrooted] : The unrooted phylogenetic tree.\n",
    "- rooted_tree : Phylogeny[Rooted] : The rooted phylogenetic tree."
   ]
  },
  {
   "cell_type": "code",
   "execution_count": 12,
   "id": "9c8cfe47",
   "metadata": {
    "ExecuteTime": {
     "end_time": "2022-09-29T20:54:35.139531Z",
     "start_time": "2022-09-29T20:54:20.792130Z"
    },
    "execution": {
     "iopub.execute_input": "2022-10-14T17:03:28.639012Z",
     "iopub.status.busy": "2022-10-14T17:03:28.638741Z",
     "iopub.status.idle": "2022-10-14T17:03:39.257613Z",
     "shell.execute_reply": "2022-10-14T17:03:39.256879Z"
    },
    "papermill": {
     "duration": 10.641641,
     "end_time": "2022-10-14T17:03:39.260540",
     "exception": false,
     "start_time": "2022-10-14T17:03:28.618899",
     "status": "completed"
    },
    "tags": []
   },
   "outputs": [
    {
     "name": "stdout",
     "output_type": "stream",
     "text": [
      "Running external command line application. This may print messages to stdout and/or stderr.\n",
      "The command being run is below. This command cannot be manually re-run as it will depend on temporary files that no longer exist.\n",
      "\n",
      "Command: mafft --preservecase --inputorder --thread 6 /tmp/qiime2-archive-_fpofrwr/3a48f360-4d1b-429b-97b2-882ac17be417/data/dna-sequences.fasta\n",
      "\n"
     ]
    },
    {
     "name": "stderr",
     "output_type": "stream",
     "text": [
      "inputfile = orig\n",
      "668 x 430 - 281 d\n",
      "nthread = 6\n",
      "nthreadpair = 6\n",
      "nthreadtb = 6\n",
      "ppenalty_ex = 0\n",
      "stacksize: 8192 kb\n",
      "generating a scoring matrix for nucleotide (dist=200) ... done\n",
      "Gap Penalty = -1.53, +0.00, +0.00\n",
      "\n",
      "\n",
      "\n",
      "Making a distance matrix ..\n",
      "\r",
      "    1 / 668 (thread    1)\r",
      "  101 / 668 (thread    3)\r",
      "  201 / 668 (thread    4)\r",
      "  301 / 668 (thread    3)\r",
      "  401 / 668 (thread    4)\r",
      "  501 / 668 (thread    1)\r",
      "  601 / 668 (thread    4)\n",
      "done.\n",
      "\n",
      "Constructing a UPGMA tree (efffree=0) ... \n",
      "\r",
      "    0 / 668\r",
      "   10 / 668\r",
      "   20 / 668\r",
      "   30 / 668\r",
      "   40 / 668\r",
      "   50 / 668\r",
      "   60 / 668\r",
      "   70 / 668\r",
      "   80 / 668\r",
      "   90 / 668\r",
      "  100 / 668\r",
      "  110 / 668\r",
      "  120 / 668\r",
      "  130 / 668\r",
      "  140 / 668\r",
      "  150 / 668\r",
      "  160 / 668\r",
      "  170 / 668\r",
      "  180 / 668\r",
      "  190 / 668\r",
      "  200 / 668\r",
      "  210 / 668\r",
      "  220 / 668\r",
      "  230 / 668\r",
      "  240 / 668\r",
      "  250 / 668\r",
      "  260 / 668\r",
      "  270 / 668\r",
      "  280 / 668\r",
      "  290 / 668\r",
      "  300 / 668\r",
      "  310 / 668\r",
      "  320 / 668\r",
      "  330 / 668\r",
      "  340 / 668\r",
      "  350 / 668\r",
      "  360 / 668\r",
      "  370 / 668\r",
      "  380 / 668\r",
      "  390 / 668\r",
      "  400 / 668\r",
      "  410 / 668\r",
      "  420 / 668\r",
      "  430 / 668\r",
      "  440 / 668\r",
      "  450 / 668\r",
      "  460 / 668\r",
      "  470 / 668\r",
      "  480 / 668\r",
      "  490 / 668\r",
      "  500 / 668\r",
      "  510 / 668\r",
      "  520 / 668\r",
      "  530 / 668\r",
      "  540 / 668\r",
      "  550 / 668\r",
      "  560 / 668\r",
      "  570 / 668\r",
      "  580 / 668\r",
      "  590 / 668\r",
      "  600 / 668\r",
      "  610 / 668\r",
      "  620 / 668\r",
      "  630 / 668\r",
      "  640 / 668\r",
      "  650 / 668\r",
      "  660 / 668\n",
      "done.\n",
      "\n",
      "Progressive alignment 1/2... \n",
      "\r",
      "STEP     1 / 667 (thread    0) f\b\b\r",
      "STEP     2 / 667 (thread    1) f\b\b\r",
      "STEP     3 / 667 (thread    2) f\b\b\r",
      "STEP     4 / 667 (thread    3) f\b\b\r",
      "STEP     5 / 667 (thread    4) f\b\b\r",
      "STEP     6 / 667 (thread    5) f\b\b\r",
      "STEP     7 / 667 (thread    1) f\b\b\r",
      "STEP     8 / 667 (thread    5) f\b\b\r",
      "STEP     9 / 667 (thread    3) f\b\b\r",
      "STEP    10 / 667 (thread    2) f\b\b\r",
      "STEP    11 / 667 (thread    4) f\b\b\r",
      "STEP    12 / 667 (thread    5) f\b\b\r",
      "STEP    13 / 667 (thread    0) f\b\b\r",
      "STEP    14 / 667 (thread    1) f\b\b\r",
      "STEP    15 / 667 (thread    3) f\b\b\r",
      "STEP    16 / 667 (thread    4) f\b\b\r",
      "STEP    17 / 667 (thread    5) f\b\b\r",
      "STEP    18 / 667 (thread    2) f\b\b\r",
      "STEP    19 / 667 (thread    3) f\b\b\r",
      "STEP    20 / 667 (thread    0) f\b\b\r",
      "STEP    21 / 667 (thread    4) f\b\b\r",
      "STEP    22 / 667 (thread    1) f\b\b\r",
      "STEP    23 / 667 (thread    5) f\b\b\r",
      "STEP    24 / 667 (thread    2) f\b\b\r",
      "STEP    25 / 667 (thread    4) f\b\b\r",
      "STEP    26 / 667 (thread    3) f\b\b\r",
      "STEP    27 / 667 (thread    5) f\b\b\r",
      "STEP    28 / 667 (thread    1) f\b\b\r",
      "STEP    29 / 667 (thread    0) f\b\b\r",
      "STEP    30 / 667 (thread    4) f\b\b\r",
      "STEP    31 / 667 (thread    2) f\b\b\r",
      "STEP    32 / 667 (thread    5) f\b\b\r",
      "STEP    33 / 667 (thread    3) f\b\b\r",
      "STEP    34 / 667 (thread    1) f\b\b\r",
      "STEP    35 / 667 (thread    0) f\b\b\r",
      "STEP    36 / 667 (thread    3) f\b\b\r",
      "STEP    37 / 667 (thread    4) f\b\b\r",
      "STEP    38 / 667 (thread    1) f\b\b\r",
      "STEP    39 / 667 (thread    5) f\b\b\r",
      "STEP    40 / 667 (thread    0) f\b\b\r",
      "STEP    41 / 667 (thread    1) f\b\b\r",
      "STEP    42 / 667 (thread    3) f\b\b\r",
      "STEP    43 / 667 (thread    4) f\b\b\r",
      "STEP    44 / 667 (thread    5) f\b\b\r",
      "STEP    45 / 667 (thread    1) f\b\b\r",
      "STEP    46 / 667 (thread    2) f\b\b\r",
      "STEP    47 / 667 (thread    0) f\b\b\r",
      "STEP    48 / 667 (thread    4) f\b\b\r",
      "STEP    49 / 667 (thread    5) f\b\b\r",
      "STEP    50 / 667 (thread    1) f\b\b\r",
      "STEP    52 / 667 (thread    0) f\b\b\r",
      "STEP    53 / 667 (thread    3) f\b\b\r",
      "STEP    54 / 667 (thread    1) f\b\b\r",
      "STEP    51 / 667 (thread    2) f\b\b\r",
      "STEP    55 / 667 (thread    4) f\b\b\r",
      "STEP    56 / 667 (thread    3) f\b\b\r",
      "STEP    57 / 667 (thread    0) f\b\b\r",
      "STEP    58 / 667 (thread    1) f\b\b\r",
      "STEP    59 / 667 (thread    5) f\b\b\r",
      "STEP    60 / 667 (thread    4) f\b\b\r",
      "STEP    61 / 667 (thread    3) f\b\b\r",
      "STEP    62 / 667 (thread    1) f\b\b\r",
      "STEP    63 / 667 (thread    0) f\b\b\r",
      "STEP    64 / 667 (thread    3) f\b\b\r",
      "STEP    65 / 667 (thread    5) f\b\b\r",
      "STEP    66 / 667 (thread    4) f\b\b\r",
      "STEP    67 / 667 (thread    2) f\b\b\r",
      "STEP    68 / 667 (thread    1) f\b\b\r",
      "STEP    69 / 667 (thread    0) f\b\b\r",
      "STEP    70 / 667 (thread    3) f\b\b\r",
      "STEP    71 / 667 (thread    5) f\b\b\r",
      "STEP    72 / 667 (thread    4) f\b\b\r",
      "STEP    73 / 667 (thread    1) f\b\b\r",
      "STEP    75 / 667 (thread    2) f\b\b\r",
      "STEP    76 / 667 (thread    1) f\b\b\r",
      "STEP    78 / 667 (thread    2) f\b\b\r",
      "STEP    79 / 667 (thread    5) f\b\b\r",
      "STEP    74 / 667 (thread    3) f\b\b\r",
      "STEP    80 / 667 (thread    1) f\b\b\r",
      "STEP    81 / 667 (thread    4) f\b\b\r",
      "STEP    82 / 667 (thread    1) f\b\b\r",
      "STEP    83 / 667 (thread    5) f\b\b\r",
      "STEP    84 / 667 (thread    2) f\b\b\r",
      "STEP    77 / 667 (thread    0) f\b\b\r",
      "STEP    87 / 667 (thread    1) f\b\b\r",
      "STEP    88 / 667 (thread    5) f\b\b\r",
      "STEP    89 / 667 (thread    1) f\b\b\r",
      "STEP    90 / 667 (thread    5) f\b\b\r",
      "STEP    85 / 667 (thread    3) f\b\b\r",
      "STEP    91 / 667 (thread    0) f\b\b\r",
      "STEP    92 / 667 (thread    5) f\b\b\r",
      "STEP    93 / 667 (thread    1) f\b\b\r",
      "STEP    94 / 667 (thread    2) f\b\b\r",
      "STEP    95 / 667 (thread    0) f\b\b\r",
      "STEP    96 / 667 (thread    3) f\b\b\r",
      "STEP    86 / 667 (thread    4) f\b\b\r",
      "STEP    97 / 667 (thread    1) f\b\b\r",
      "STEP    98 / 667 (thread    3) f\b\b\r",
      "STEP    99 / 667 (thread    2) f\b\b\r",
      "STEP   100 / 667 (thread    1) f\b\b\r",
      "STEP   101 / 667 (thread    5) f\b\b\r",
      "STEP   102 / 667 (thread    3) f\b\b\r",
      "STEP   103 / 667 (thread    1) f\b\b\r",
      "STEP   104 / 667 (thread    4) f\b\b\r",
      "STEP   105 / 667 (thread    3) f\b\b\r",
      "STEP   106 / 667 (thread    2) f\b\b\r",
      "STEP   107 / 667 (thread    5) f\b\b\r",
      "STEP   108 / 667 (thread    0) f\b\b\r",
      "STEP   109 / 667 (thread    1) f\b\b\r",
      "STEP   110 / 667 (thread    3) f\b\b\r",
      "STEP   111 / 667 (thread    4) f\b\b\r",
      "STEP   112 / 667 (thread    1) f\b\b\r",
      "STEP   113 / 667 (thread    2) f\b\b\r",
      "STEP   114 / 667 (thread    3) f\b\b\r",
      "STEP   115 / 667 (thread    1) f\b\b\r",
      "STEP   116 / 667 (thread    4) f\b\b\r",
      "STEP   117 / 667 (thread    3) f\b\b\r",
      "STEP   118 / 667 (thread    5) f\b\b\r",
      "STEP   119 / 667 (thread    0) f\b\b\r",
      "STEP   120 / 667 (thread    1) f\b\b\r",
      "STEP   121 / 667 (thread    3) f\b\b\r",
      "STEP   122 / 667 (thread    4) f\b\b\r",
      "STEP   123 / 667 (thread    2) f\b\b\r",
      "STEP   124 / 667 (thread    1) f\b\b\r",
      "STEP   125 / 667 (thread    5) f\b\b\r",
      "STEP   126 / 667 (thread    3) f\b\b\r",
      "STEP   127 / 667 (thread    0) f\b\b\r",
      "STEP   128 / 667 (thread    4) f\b\b\r",
      "STEP   129 / 667 (thread    1) f\b\b\r",
      "STEP   130 / 667 (thread    2) f\b\b\r",
      "STEP   131 / 667 (thread    5) f\b\b\r",
      "STEP   132 / 667 (thread    3) f\b\b\r",
      "STEP   134 / 667 (thread    1) f\b\b\r",
      "STEP   135 / 667 (thread    1) f\b\b\r",
      "STEP   136 / 667 (thread    4) f\b\b\r",
      "STEP   137 / 667 (thread    2) f\b\b\r",
      "STEP   138 / 667 (thread    0) f\b\b\r",
      "STEP   139 / 667 (thread    1) f\b\b\r",
      "STEP   140 / 667 (thread    5) f\b\b\r",
      "STEP   133 / 667 (thread    3) f\b\b\r",
      "STEP   141 / 667 (thread    2) f\b\b\r",
      "STEP   142 / 667 (thread    0) f\b\b\r",
      "STEP   144 / 667 (thread    1) f\b\b\r",
      "STEP   145 / 667 (thread    4) f\b\b\r",
      "STEP   146 / 667 (thread    3) f\b\b\r",
      "STEP   143 / 667 (thread    5) f\b\b\r",
      "STEP   147 / 667 (thread    1) f\b\b\r",
      "STEP   148 / 667 (thread    1) f\b\b\r",
      "STEP   149 / 667 (thread    2) f\b\b\r",
      "STEP   150 / 667 (thread    3) f\b\b\r",
      "STEP   151 / 667 (thread    0) f\b\b\r",
      "STEP   152 / 667 (thread    4) f\b\b\r",
      "STEP   153 / 667 (thread    3) f\b\b\r",
      "STEP   154 / 667 (thread    5) f\b\b\r",
      "STEP   155 / 667 (thread    1) f\b\b\r",
      "STEP   156 / 667 (thread    1) f\b\b\r",
      "STEP   157 / 667 (thread    5) f\b\b\r",
      "STEP   158 / 667 (thread    3) f\b\b\r",
      "STEP   159 / 667 (thread    2) f\b\b\r",
      "STEP   160 / 667 (thread    1) f\b\b\r",
      "STEP   161 / 667 (thread    4) f\b\b\r",
      "STEP   162 / 667 (thread    3) f\b\b\r",
      "STEP   163 / 667 (thread    0) f\b\b\r",
      "STEP   164 / 667 (thread    5) f\b\b\r",
      "STEP   165 / 667 (thread    3) f\b\b\r",
      "STEP   166 / 667 (thread    1) f\b\b\r",
      "STEP   167 / 667 (thread    0) f\b\b\r",
      "STEP   168 / 667 (thread    2) f\b\b\r",
      "STEP   169 / 667 (thread    3) f\b\b\r",
      "STEP   170 / 667 (thread    5) f\b\b\r",
      "STEP   171 / 667 (thread    2) f\b\b\r",
      "STEP   172 / 667 (thread    1) f\b\b\r",
      "STEP   173 / 667 (thread    4) f\b\b\r",
      "STEP   174 / 667 (thread    0) f\b\b\r",
      "STEP   175 / 667 (thread    3) f\b\b\r",
      "STEP   176 / 667 (thread    1) f\b\b\r",
      "STEP   177 / 667 (thread    5) f\b\b\r",
      "STEP   178 / 667 (thread    2) f\b\b\r",
      "STEP   180 / 667 (thread    3) f\b\b\r",
      "STEP   179 / 667 (thread    4) f\b\b\r",
      "STEP   181 / 667 (thread    1) f\b\b\r",
      "STEP   182 / 667 (thread    0) f\b\b\r",
      "STEP   183 / 667 (thread    3) f\b\b\r",
      "STEP   184 / 667 (thread    5) f\b\b\r",
      "STEP   185 / 667 (thread    1) f\b\b\r",
      "STEP   186 / 667 (thread    2) f\b\b\r",
      "STEP   187 / 667 (thread    3) f\b\b\r",
      "STEP   188 / 667 (thread    4) f\b\b\r",
      "STEP   189 / 667 (thread    1) f\b\b\r",
      "STEP   190 / 667 (thread    5) f\b\b\r",
      "STEP   191 / 667 (thread    2) f\b\b\r",
      "STEP   192 / 667 (thread    1) f\b\b\r",
      "STEP   193 / 667 (thread    3) f\b\b\r",
      "STEP   194 / 667 (thread    5) f\b\b\r",
      "STEP   195 / 667 (thread    0) f\b\b\r",
      "STEP   196 / 667 (thread    4) f\b\b\r",
      "STEP   197 / 667 (thread    1) f\b\b\r",
      "STEP   198 / 667 (thread    3) f\b\b\r",
      "STEP   199 / 667 (thread    2) f\b\b\r",
      "STEP   200 / 667 (thread    3) f\b\b\r",
      "STEP   201 / 667 (thread    1) f\b\b\r",
      "STEP   202 / 667 (thread    5) f\b\b\r",
      "STEP   203 / 667 (thread    0) f\b\b\r",
      "STEP   204 / 667 (thread    2) f\b\b\r",
      "STEP   205 / 667 (thread    3) f\b\b\r",
      "STEP   206 / 667 (thread    1) f\b\b\r",
      "STEP   207 / 667 (thread    4) f\b\b\r",
      "STEP   208 / 667 (thread    1) f\b\b\r",
      "STEP   209 / 667 (thread    5) f\b\b\r",
      "STEP   211 / 667 (thread    3) f\b\b\r",
      "STEP   210 / 667 (thread    0) f\b\b\r",
      "STEP   212 / 667 (thread    4) f\b\b\r",
      "STEP   213 / 667 (thread    2) f\b\b\r",
      "STEP   214 / 667 (thread    3) f\b\b\r",
      "STEP   215 / 667 (thread    4) f\b\b\r",
      "STEP   216 / 667 (thread    1) f\b\b\r",
      "STEP   217 / 667 (thread    5) f\b\b\r",
      "STEP   218 / 667 (thread    2) f\b\b\r",
      "STEP   219 / 667 (thread    1) f\b\b\r",
      "STEP   220 / 667 (thread    0) f\b\b\r",
      "STEP   221 / 667 (thread    3) f\b\b\r",
      "STEP   222 / 667 (thread    2) f\b\b\r",
      "STEP   223 / 667 (thread    5) f\b\b\r",
      "STEP   224 / 667 (thread    1) f\b\b\r",
      "STEP   225 / 667 (thread    0) f\b\b\r",
      "STEP   226 / 667 (thread    4) f\b\b\r",
      "STEP   227 / 667 (thread    3) f\b\b\r",
      "STEP   228 / 667 (thread    1) f\b\b\r",
      "STEP   229 / 667 (thread    0) f\b\b\r",
      "STEP   230 / 667 (thread    5) f\b\b\r",
      "STEP   231 / 667 (thread    3) f\b\b\r",
      "STEP   232 / 667 (thread    2) f\b\b\r",
      "STEP   233 / 667 (thread    4) f\b\b\r",
      "STEP   234 / 667 (thread    3) f\b\b\r",
      "STEP   235 / 667 (thread    1) f\b\b\r",
      "STEP   236 / 667 (thread    3) f\b\b\r",
      "STEP   237 / 667 (thread    2) f\b\b\r",
      "STEP   239 / 667 (thread    0) f\b\b\r",
      "STEP   240 / 667 (thread    4) f\b\b\r",
      "STEP   238 / 667 (thread    1) f\b\b\r",
      "STEP   241 / 667 (thread    5) f\b\b\r",
      "STEP   242 / 667 (thread    3) f\b\b\r",
      "STEP   243 / 667 (thread    1) f\b\b\r",
      "STEP   244 / 667 (thread    3) f\b\b\r",
      "STEP   245 / 667 (thread    2) f\b\b\r",
      "STEP   246 / 667 (thread    5) f\b\b\r",
      "STEP   247 / 667 (thread    4) f\b\b\r",
      "STEP   248 / 667 (thread    1) f\b\b\r",
      "STEP   249 / 667 (thread    0) f\b\b\r",
      "STEP   250 / 667 (thread    3) f\b\b\r",
      "STEP   251 / 667 (thread    5) f\b\b\r",
      "STEP   252 / 667 (thread    1) f\b\b\r",
      "STEP   253 / 667 (thread    4) f\b\b\r",
      "STEP   254 / 667 (thread    1) f\b\b\r",
      "STEP   255 / 667 (thread    3) f\b\b\r",
      "STEP   256 / 667 (thread    0) f\b\b\r",
      "STEP   257 / 667 (thread    2) f\b\b\r",
      "STEP   258 / 667 (thread    5) f\b\b\r",
      "STEP   259 / 667 (thread    4) f\b\b\r",
      "STEP   260 / 667 (thread    1) f\b\b\r",
      "STEP   261 / 667 (thread    3) f\b\b\r",
      "STEP   262 / 667 (thread    2) f\b\b"
     ]
    },
    {
     "name": "stderr",
     "output_type": "stream",
     "text": [
      "\r",
      "STEP   263 / 667 (thread    0) f\b\b\r",
      "STEP   264 / 667 (thread    1) f\b\b\r",
      "STEP   265 / 667 (thread    3) f\b\b\r",
      "STEP   266 / 667 (thread    5) f\b\b\r",
      "STEP   267 / 667 (thread    4) f\b\b\r",
      "STEP   268 / 667 (thread    3) f\b\b\r",
      "STEP   269 / 667 (thread    1) f\b\b\r",
      "STEP   270 / 667 (thread    0) f\b\b\r",
      "STEP   271 / 667 (thread    2) f\b\b\r",
      "STEP   272 / 667 (thread    5) f\b\b\r",
      "STEP   273 / 667 (thread    1) f\b\b\r",
      "STEP   274 / 667 (thread    4) f\b\b\r",
      "STEP   275 / 667 (thread    3) f\b\b\r",
      "STEP   276 / 667 (thread    5) f\b\b\r",
      "STEP   277 / 667 (thread    1) f\b\b\r",
      "STEP   278 / 667 (thread    2) f\b\b\r",
      "STEP   279 / 667 (thread    0) f\b\b\r",
      "STEP   280 / 667 (thread    4) f\b\b\r",
      "STEP   281 / 667 (thread    5) f\b\b\r",
      "STEP   282 / 667 (thread    3) f\b\b\r",
      "STEP   283 / 667 (thread    4) f\b\b\r",
      "STEP   284 / 667 (thread    1) f\b\b\r",
      "STEP   285 / 667 (thread    2) f\b\b\r",
      "STEP   286 / 667 (thread    0) f\b\b\r",
      "STEP   287 / 667 (thread    3) f\b\b\r",
      "STEP   288 / 667 (thread    5) f\b\b\r",
      "STEP   289 / 667 (thread    1) f\b\b\r",
      "STEP   290 / 667 (thread    4) f\b\b\r",
      "STEP   291 / 667 (thread    0) f\b\b\r",
      "STEP   292 / 667 (thread    3) f\b\b\r",
      "STEP   293 / 667 (thread    5) f\b\b\r",
      "STEP   294 / 667 (thread    1) f\b\b\r",
      "STEP   295 / 667 (thread    4) f\b\b\r",
      "STEP   296 / 667 (thread    2) f\b\b\r",
      "STEP   297 / 667 (thread    5)\r",
      "STEP   298 / 667 (thread    3) f\b\b f\b\b\r",
      "STEP   299 / 667 (thread    1)\r",
      "STEP   300 / 667 (thread    4) f\b\b f\b\b\r",
      "STEP   301 / 667 (thread    3) f\b\b\r",
      "STEP   302 / 667 (thread    0) f\b\b\r",
      "STEP   303 / 667 (thread    2) f\b\b\r",
      "STEP   304 / 667 (thread    5) f\b\b\r",
      "STEP   305 / 667 (thread    4) f\b\b\r",
      "STEP   306 / 667 (thread    3) f\b\b\r",
      "STEP   308 / 667 (thread    5) f\b\b\r",
      "STEP   309 / 667 (thread    3) f\b\b\r",
      "STEP   310 / 667 (thread    0) f\b\b\r",
      "STEP   307 / 667 (thread    4) f\b\b\r",
      "STEP   311 / 667 (thread    1) f\b\b\r",
      "STEP   312 / 667 (thread    4) f\b\b\r",
      "STEP   313 / 667 (thread    2) f\b\b\r",
      "STEP   314 / 667 (thread    3) f\b\b\r",
      "STEP   316 / 667 (thread    1) f\b\b\r",
      "STEP   317 / 667 (thread    0) f\b\b\r",
      "STEP   318 / 667 (thread    5) f\b\b\r",
      "STEP   319 / 667 (thread    3) f\b\b\r",
      "STEP   321 / 667 (thread    2) f\b\b\r",
      "STEP   315 / 667 (thread    4) f\b\b\r",
      "STEP   322 / 667 (thread    3) f\b\b\r",
      "STEP   320 / 667 (thread    0) f\b\b\r",
      "STEP   324 / 667 (thread    5) f\b\b\r",
      "STEP   325 / 667 (thread    4) f\b\b\r",
      "STEP   323 / 667 (thread    1) f\b\b\r",
      "STEP   326 / 667 (thread    5) f\b\b\r",
      "STEP   328 / 667 (thread    0) f\b\b\r",
      "STEP   329 / 667 (thread    3) f\b\b\r",
      "STEP   330 / 667 (thread    4) f\b\b\r",
      "STEP   331 / 667 (thread    1) f\b\b\r",
      "STEP   327 / 667 (thread    2) f\b\b\r",
      "STEP   332 / 667 (thread    4) f\b\b\r",
      "STEP   333 / 667 (thread    0) f\b\b\r",
      "STEP   334 / 667 (thread    3) f\b\b\r",
      "STEP   335 / 667 (thread    5) f\b\b\r",
      "STEP   336 / 667 (thread    1) f\b\b\r",
      "STEP   337 / 667 (thread    4) f\b\b\r",
      "STEP   339 / 667 (thread    0) f\b\b\r",
      "STEP   340 / 667 (thread    2) f\b\b\r",
      "STEP   341 / 667 (thread    5) f\b\b\r",
      "STEP   342 / 667 (thread    1) f\b\b\r",
      "STEP   343 / 667 (thread    3) f\b\b\r",
      "STEP   338 / 667 (thread    4) f\b\b\r",
      "STEP   344 / 667 (thread    0) f\b\b\r",
      "STEP   346 / 667 (thread    5) f\b\b\r",
      "STEP   347 / 667 (thread    2) f\b\b\r",
      "STEP   349 / 667 (thread    3) f\b\b\r",
      "STEP   350 / 667 (thread    2) f\b\b\r",
      "STEP   351 / 667 (thread    0) f\b\b\r",
      "STEP   348 / 667 (thread    5) f\b\b\r",
      "STEP   352 / 667 (thread    3) f\b\b\r",
      "STEP   353 / 667 (thread    3) f\b\b\r",
      "STEP   354 / 667 (thread    5) f\b\b\r",
      "STEP   355 / 667 (thread    4) f\b\b\r",
      "STEP   345 / 667 (thread    1) f\b\b\r",
      "STEP   356 / 667 (thread    0) f\b\b\r",
      "STEP   358 / 667 (thread    5) f\b\b\r",
      "STEP   357 / 667 (thread    2) f\b\b\r",
      "STEP   359 / 667 (thread    3) f\b\b\r",
      "STEP   361 / 667 (thread    0) f\b\b\r",
      "STEP   362 / 667 (thread    5) f\b\b\r",
      "STEP   363 / 667 (thread    2) f\b\b\r",
      "STEP   365 / 667 (thread    1) f\b\b\r",
      "STEP   360 / 667 (thread    4) f\b\b\r",
      "STEP   366 / 667 (thread    5) f\b\b\r",
      "STEP   367 / 667 (thread    0) f\b\b\r",
      "STEP   368 / 667 (thread    2) f\b\b\r",
      "STEP   371 / 667 (thread    4) f\b\b\r",
      "STEP   364 / 667 (thread    3) f\b\b\r",
      "STEP   372 / 667 (thread    0) f\b\b\r",
      "STEP   373 / 667 (thread    2) f\b\b\r",
      "STEP   369 / 667 (thread    5) f\b\b\r",
      "STEP   374 / 667 (thread    4) f\b\b\r",
      "STEP   375 / 667 (thread    2) f\b\b\r",
      "STEP   376 / 667 (thread    4) f\b\b\r",
      "STEP   377 / 667 (thread    5) f\b\b\r",
      "STEP   378 / 667 (thread    4) f\b\b\r",
      "STEP   379 / 667 (thread    0) f\b\b\r",
      "STEP   380 / 667 (thread    2) f\b\b\r",
      "STEP   383 / 667 (thread    3) f\b\b\r",
      "STEP   370 / 667 (thread    1) f\b\b\r",
      "STEP   384 / 667 (thread    2) f\b\b\r",
      "STEP   385 / 667 (thread    3) f\b\b\r",
      "STEP   386 / 667 (thread    0) f\b\b\r",
      "STEP   387 / 667 (thread    1) f\b\b\r",
      "STEP   381 / 667 (thread    4) f\b\b\r",
      "STEP   388 / 667 (thread    3) f\b\b\r",
      "STEP   389 / 667 (thread    2) f\b\b\r",
      "STEP   390 / 667 (thread    3) f\b\b\r",
      "STEP   391 / 667 (thread    0) f\b\b\r",
      "STEP   393 / 667 (thread    1) f\b\b\r",
      "STEP   394 / 667 (thread    2) f\b\b\r",
      "STEP   395 / 667 (thread    0) f\b\b\r",
      "STEP   397 / 667 (thread    4) f\b\b\r",
      "STEP   382 / 667 (thread    5) f\b\b\r",
      "STEP   398 / 667 (thread    2) f\b\b\r",
      "STEP   399 / 667 (thread    0) f\b\b\r",
      "STEP   400 / 667 (thread    4) f\b\b\r",
      "STEP   401 / 667 (thread    2) f\b\b\r",
      "STEP   402 / 667 (thread    2) f\b\b\r",
      "STEP   403 / 667 (thread    0) f\b\b\r",
      "STEP   392 / 667 (thread    3) f\b\b\r",
      "STEP   404 / 667 (thread    5) f\b\b\r",
      "STEP   405 / 667 (thread    4) f\b\b\r",
      "STEP   406 / 667 (thread    2) f\b\b\r",
      "STEP   407 / 667 (thread    0) f\b\b\r",
      "STEP   409 / 667 (thread    5) f\b\b\r",
      "STEP   410 / 667 (thread    2) f\b\b\r",
      "STEP   411 / 667 (thread    5) f\b\b\r",
      "STEP   396 / 667 (thread    1) f\b\b\r",
      "STEP   413 / 667 (thread    2) f\b\b\r",
      "STEP   414 / 667 (thread    5) f\b\b\r",
      "STEP   415 / 667 (thread    0) f\b\b\r",
      "STEP   416 / 667 (thread    5) f\b\b\r",
      "STEP   417 / 667 (thread    2) f\b\b\r",
      "STEP   419 / 667 (thread    5) f\b\b\r",
      "STEP   408 / 667 (thread    4) f\b\b\r",
      "STEP   420 / 667 (thread    5) f\b\b\r",
      "STEP   421 / 667 (thread    0) f\b\b\r",
      "STEP   422 / 667 (thread    5) f\b\b\r",
      "STEP   424 / 667 (thread    5) f\b\b\r",
      "STEP   425 / 667 (thread    0) f\b\b\r",
      "STEP   426 / 667 (thread    4) f\b\b\r",
      "STEP   412 / 667 (thread    3) f\b\b\r",
      "STEP   427 / 667 (thread    0) f\b\b\r",
      "STEP   428 / 667 (thread    5) f\b\b\r",
      "STEP   429 / 667 (thread    4) f\b\b\r",
      "STEP   430 / 667 (thread    0) f\b\b\r",
      "STEP   431 / 667 (thread    5) f\b\b\r",
      "STEP   432 / 667 (thread    4) f\b\b\r",
      "STEP   433 / 667 (thread    0) f\b\b\r",
      "STEP   434 / 667 (thread    5) f\b\b\r",
      "STEP   435 / 667 (thread    4) f\b\b\r",
      "STEP   437 / 667 (thread    5) f\b\b\r",
      "STEP   438 / 667 (thread    3) f\b\b\r",
      "STEP   418 / 667 (thread    1) f\b\b\r",
      "STEP   439 / 667 (thread    5) f\b\b\r",
      "STEP   441 / 667 (thread    3) f\b\b\r",
      "STEP   442 / 667 (thread    5) f\b\b\r",
      "STEP   443 / 667 (thread    3) f\b\b\r",
      "STEP   423 / 667 (thread    2) f\b\b\r",
      "STEP   445 / 667 (thread    1) f\b\b\r",
      "STEP   446 / 667 (thread    3) f\b\b\r",
      "STEP   447 / 667 (thread    1) f\b\b\r",
      "STEP   448 / 667 (thread    3) f\b\b\r",
      "STEP   449 / 667 (thread    3) f\b\b\r",
      "STEP   450 / 667 (thread    2) f\b\b\r",
      "STEP   436 / 667 (thread    0) f\b\b\r",
      "STEP   451 / 667 (thread    1) f\b\b\r",
      "STEP   452 / 667 (thread    2) f\b\b\r",
      "STEP   454 / 667 (thread    1) f\b\b\r",
      "STEP   455 / 667 (thread    2) f\b\b\r",
      "STEP   456 / 667 (thread    1) f\b\b\r",
      "STEP   457 / 667 (thread    2) f\b\b\r",
      "STEP   458 / 667 (thread    0) f\b\b\r",
      "STEP   440 / 667 (thread    4) f\b\b\r",
      "STEP   459 / 667 (thread    1) f\b\b\r",
      "STEP   460 / 667 (thread    2) f\b\b\r",
      "STEP   461 / 667 (thread    0) f\b\b\r",
      "STEP   463 / 667 (thread    2) f\b\b\r",
      "STEP   464 / 667 (thread    4) f\b\b\r",
      "STEP   444 / 667 (thread    5) f\b\b\r",
      "STEP   465 / 667 (thread    0) f\b\b\r",
      "STEP   466 / 667 (thread    4) f\b\b\r",
      "STEP   467 / 667 (thread    2) f\b\b\r",
      "STEP   468 / 667 (thread    0) f\b\b\r",
      "STEP   469 / 667 (thread    4) f\b\b\r",
      "STEP   453 / 667 (thread    3) f\b\b\r",
      "STEP   471 / 667 (thread    4) f\b\b\r",
      "STEP   472 / 667 (thread    2) f\b\b\r",
      "STEP   474 / 667 (thread    0) f\b\b\r",
      "STEP   475 / 667 (thread    0) f\b\b\r",
      "STEP   476 / 667 (thread    3) f\b\b\r",
      "STEP   462 / 667 (thread    1) f\b\b\r",
      "STEP   477 / 667 (thread    2) f\b\b\r",
      "STEP   478 / 667 (thread    3) f\b\b\r",
      "STEP   479 / 667 (thread    0) f\b\b\r",
      "STEP   480 / 667 (thread    3) f\b\b\r",
      "STEP   481 / 667 (thread    2) f\b\b\r",
      "STEP   482 / 667 (thread    1) f\b\b\r",
      "STEP   470 / 667 (thread    5) f\b\b\r",
      "STEP   483 / 667 (thread    0) f\b\b\r",
      "STEP   485 / 667 (thread    2) f\b\b\r",
      "STEP   486 / 667 (thread    0) f\b\b\r",
      "STEP   484 / 667 (thread    1) f\b\b\r",
      "STEP   488 / 667 (thread    2) f\b\b\r",
      "STEP   489 / 667 (thread    5) f\b\b\r",
      "STEP   473 / 667 (thread    4) f\b\b\r",
      "STEP   490 / 667 (thread    0) f\b\b\r",
      "STEP   491 / 667 (thread    5) f\b\b\r",
      "STEP   492 / 667 (thread    1) f\b\b\r",
      "STEP   487 / 667 (thread    3) f\b\b\r",
      "STEP   493 / 667 (thread    2) f\b\b\r",
      "STEP   495 / 667 (thread    2) f\b\b\r",
      "STEP   498 / 667 (thread    1) f\b\b\r",
      "STEP   499 / 667 (thread    2) f\b\b\r",
      "STEP   500 / 667 (thread    4) f\b\b\r",
      "STEP   494 / 667 (thread    0) f\b\b\r",
      "STEP   501 / 667 (thread    1) f\b\b\r",
      "STEP   496 / 667 (thread    5) f\b\b\r",
      "STEP   497 / 667 (thread    3) f\b\b\n",
      "Reallocating..done. *alloclen = 1862\n"
     ]
    },
    {
     "name": "stderr",
     "output_type": "stream",
     "text": [
      "\r",
      "STEP   601 / 667 (thread    4) f\b\b\n",
      "done.\n",
      "\n",
      "Making a distance matrix from msa.. \n",
      "\r",
      "    0 / 668 (thread    0)\r",
      "  100 / 668 (thread    2)"
     ]
    },
    {
     "name": "stderr",
     "output_type": "stream",
     "text": [
      "\r",
      "  200 / 668 (thread    2)\r",
      "  300 / 668 (thread    2)\r",
      "  400 / 668 (thread    1)\r",
      "  500 / 668 (thread    3)\r",
      "  600 / 668 (thread    5)\n",
      "done.\n",
      "\n",
      "Constructing a UPGMA tree (efffree=1) ... \n",
      "\r",
      "    0 / 668\r",
      "   10 / 668\r",
      "   20 / 668\r",
      "   30 / 668\r",
      "   40 / 668\r",
      "   50 / 668\r",
      "   60 / 668\r",
      "   70 / 668\r",
      "   80 / 668\r",
      "   90 / 668\r",
      "  100 / 668\r",
      "  110 / 668\r",
      "  120 / 668\r",
      "  130 / 668\r",
      "  140 / 668\r",
      "  150 / 668\r",
      "  160 / 668\r",
      "  170 / 668\r",
      "  180 / 668\r",
      "  190 / 668\r",
      "  200 / 668\r",
      "  210 / 668\r",
      "  220 / 668\r",
      "  230 / 668\r",
      "  240 / 668\r",
      "  250 / 668\r",
      "  260 / 668\r",
      "  270 / 668\r",
      "  280 / 668\r",
      "  290 / 668\r",
      "  300 / 668\r",
      "  310 / 668\r",
      "  320 / 668\r",
      "  330 / 668\r",
      "  340 / 668\r",
      "  350 / 668\r",
      "  360 / 668\r",
      "  370 / 668\r",
      "  380 / 668\r",
      "  390 / 668\r",
      "  400 / 668\r",
      "  410 / 668\r",
      "  420 / 668\r",
      "  430 / 668\r",
      "  440 / 668\r",
      "  450 / 668\r",
      "  460 / 668\r",
      "  470 / 668\r",
      "  480 / 668\r",
      "  490 / 668\r",
      "  500 / 668\r",
      "  510 / 668\r",
      "  520 / 668\r",
      "  530 / 668\r",
      "  540 / 668\r",
      "  550 / 668\r",
      "  560 / 668\r",
      "  570 / 668\r",
      "  580 / 668\r",
      "  590 / 668\r",
      "  600 / 668\r",
      "  610 / 668\r",
      "  620 / 668\r",
      "  630 / 668\r",
      "  640 / 668\r",
      "  650 / 668\r",
      "  660 / 668\n",
      "done.\n",
      "\n",
      "Progressive alignment 2/2... \n",
      "\r",
      "STEP     1 / 667 (thread    0) f\b\b\r",
      "STEP     2 / 667 (thread    1) f\b\b\r",
      "STEP     3 / 667 (thread    2) f\b\b\r",
      "STEP     4 / 667 (thread    3) f\b\b\r",
      "STEP     5 / 667 (thread    4) f\b\b\r",
      "STEP     6 / 667 (thread    5) f\b\b\r",
      "STEP     7 / 667 (thread    0) f\b\b\r",
      "STEP     8 / 667 (thread    3) f\b\b\r",
      "STEP     9 / 667 (thread    3) f\b\b\r",
      "STEP    10 / 667 (thread    0) f\b\b\r",
      "STEP    11 / 667 (thread    3) f\b\b\r",
      "STEP    12 / 667 (thread    0) f\b\b\r",
      "STEP    13 / 667 (thread    3) f\b\b\r",
      "STEP    14 / 667 (thread    0) f\b\b\r",
      "STEP    15 / 667 (thread    3) f\b\b\r",
      "STEP    16 / 667 (thread    5) f\b\b\r",
      "STEP    17 / 667 (thread    4) f\b\b\r",
      "STEP    18 / 667 (thread    0) f\b\b\r",
      "STEP    19 / 667 (thread    1) f\b\b\r",
      "STEP    20 / 667 (thread    3) f\b\b\r",
      "STEP    21 / 667 (thread    2) f\b\b\r",
      "STEP    22 / 667 (thread    4) f\b\b\r",
      "STEP    23 / 667 (thread    5) f\b\b\r",
      "STEP    24 / 667 (thread    3) f\b\b\r",
      "STEP    25 / 667 (thread    0) f\b\b\r",
      "STEP    26 / 667 (thread    1) f\b\b\r",
      "STEP    27 / 667 (thread    2) f\b\b\r",
      "STEP    28 / 667 (thread    3) f\b\b\r",
      "STEP    29 / 667 (thread    4) f\b\b\r",
      "STEP    30 / 667 (thread    5) f\b\b\r",
      "STEP    31 / 667 (thread    0) f\b\b\r",
      "STEP    32 / 667 (thread    3) f\b\b\r",
      "STEP    33 / 667 (thread    2) f\b\b\r",
      "STEP    34 / 667 (thread    4) f\b\b\r",
      "STEP    35 / 667 (thread    5) f\b\b\r",
      "STEP    36 / 667 (thread    0) f\b\b\r",
      "STEP    37 / 667 (thread    3) f\b\b\r",
      "STEP    38 / 667 (thread    1) f\b\b\r",
      "STEP    39 / 667 (thread    2) f\b\b\r",
      "STEP    40 / 667 (thread    0) f\b\b\r",
      "STEP    41 / 667 (thread    3) f\b\b\r",
      "STEP    42 / 667 (thread    4) f\b\b\r",
      "STEP    43 / 667 (thread    5) f\b\b\r",
      "STEP    44 / 667 (thread    3) f\b\b\r",
      "STEP    45 / 667 (thread    1) f\b\b\r",
      "STEP    46 / 667 (thread    2) f\b\b\r",
      "STEP    47 / 667 (thread    0) f\b\b\r",
      "STEP    48 / 667 (thread    4)\r",
      "STEP    49 / 667 (thread    5) f\b\b f\b\b\r",
      "STEP    50 / 667 (thread    3) f\b\b\r",
      "STEP    51 / 667 (thread    0) f\b\b\r",
      "STEP    52 / 667 (thread    2) f\b\b\r",
      "STEP    53 / 667 (thread    1) f\b\b\r",
      "STEP    54 / 667 (thread    3) f\b\b\r",
      "STEP    55 / 667 (thread    5) f\b\b\r",
      "STEP    56 / 667 (thread    4) f\b\b\r",
      "STEP    57 / 667 (thread    0) f\b\b\r",
      "STEP    58 / 667 (thread    3) f\b\b\r",
      "STEP    59 / 667 (thread    2) f\b\b\r",
      "STEP    60 / 667 (thread    1) f\b\b\r",
      "STEP    64 / 667 (thread    3) f\b\b\r",
      "STEP    65 / 667 (thread    2) f\b\b\r",
      "STEP    66 / 667 (thread    3) f\b\b\r",
      "STEP    61 / 667 (thread    0) f\b\b\r",
      "STEP    67 / 667 (thread    1) f\b\b\r",
      "STEP    68 / 667 (thread    3) f\b\b\r",
      "STEP    69 / 667 (thread    2) f\b\b\r",
      "STEP    70 / 667 (thread    3) f\b\b\r",
      "STEP    71 / 667 (thread    1) f\b\b\r",
      "STEP    72 / 667 (thread    0) f\b\b\r",
      "STEP    62 / 667 (thread    5) f\b\b\r",
      "STEP    73 / 667 (thread    2) f\b\b\r",
      "STEP    75 / 667 (thread    2) f\b\b\r",
      "STEP    74 / 667 (thread    3) f\b\b\r",
      "STEP    76 / 667 (thread    5) f\b\b\r",
      "STEP    63 / 667 (thread    4) f\b\b\r",
      "STEP    77 / 667 (thread    0) f\b\b\r",
      "STEP    78 / 667 (thread    1) f\b\b\r",
      "STEP    79 / 667 (thread    2) f\b\b\r",
      "STEP    80 / 667 (thread    0) f\b\b\r",
      "STEP    81 / 667 (thread    5) f\b\b\r",
      "STEP    82 / 667 (thread    3) f\b\b\r",
      "STEP    83 / 667 (thread    1) f\b\b\r",
      "STEP    84 / 667 (thread    0) f\b\b\r",
      "STEP    85 / 667 (thread    2) f\b\b\r",
      "STEP    86 / 667 (thread    5) f\b\b\r",
      "STEP    87 / 667 (thread    4) f\b\b\r",
      "STEP    88 / 667 (thread    0) f\b\b\r",
      "STEP    89 / 667 (thread    3) f\b\b\r",
      "STEP    90 / 667 (thread    0) f\b\b\r",
      "STEP    91 / 667 (thread    5) f\b\b\r",
      "STEP    92 / 667 (thread    4) f\b\b\r",
      "STEP    93 / 667 (thread    3) f\b\b\r",
      "STEP    94 / 667 (thread    1) f\b\b\r",
      "STEP    95 / 667 (thread    0) f\b\b\r",
      "STEP    96 / 667 (thread    2) f\b\b\r",
      "STEP    97 / 667 (thread    5) f\b\b\r",
      "STEP    98 / 667 (thread    4) f\b\b\r",
      "STEP    99 / 667 (thread    3) f\b\b\r",
      "STEP   100 / 667 (thread    0) f\b\b\r",
      "STEP   101 / 667 (thread    3) f\b\b\r",
      "STEP   102 / 667 (thread    0) f\b\b\r",
      "STEP   103 / 667 (thread    1) f\b\b\r",
      "STEP   104 / 667 (thread    5) f\b\b\r",
      "STEP   105 / 667 (thread    2) f\b\b\r",
      "STEP   106 / 667 (thread    4) f\b\b\r",
      "STEP   107 / 667 (thread    3) f\b\b\r",
      "STEP   108 / 667 (thread    1) f\b\b\r",
      "STEP   109 / 667 (thread    3) f\b\b\r",
      "STEP   110 / 667 (thread    2) f\b\b\r",
      "STEP   111 / 667 (thread    5) f\b\b\r",
      "STEP   112 / 667 (thread    0) f\b\b\r",
      "STEP   113 / 667 (thread    4) f\b\b\r",
      "STEP   114 / 667 (thread    3) f\b\b\r",
      "STEP   115 / 667 (thread    0) f\b\b\r",
      "STEP   116 / 667 (thread    1) f\b\b\r",
      "STEP   117 / 667 (thread    3) f\b\b\r",
      "STEP   118 / 667 (thread    3) f\b\b\r",
      "STEP   119 / 667 (thread    2) f\b\b\r",
      "STEP   120 / 667 (thread    5) f\b\b\r",
      "STEP   121 / 667 (thread    0) f\b\b\r",
      "STEP   122 / 667 (thread    4) f\b\b\r",
      "STEP   123 / 667 (thread    3) f\b\b\r",
      "STEP   124 / 667 (thread    0) f\b\b\r",
      "STEP   125 / 667 (thread    2) f\b\b\r",
      "STEP   126 / 667 (thread    5) f\b\b\r",
      "STEP   127 / 667 (thread    1) f\b\b\r",
      "STEP   128 / 667 (thread    3) f\b\b\r",
      "STEP   129 / 667 (thread    3) f\b\b\r",
      "STEP   130 / 667 (thread    5) f\b\b\r",
      "STEP   131 / 667 (thread    4) f\b\b\r",
      "STEP   132 / 667 (thread    0) f\b\b\r",
      "STEP   133 / 667 (thread    3) f\b\b\r",
      "STEP   134 / 667 (thread    5) f\b\b\r",
      "STEP   135 / 667 (thread    2) f\b\b\r",
      "STEP   136 / 667 (thread    1) f\b\b\r",
      "STEP   137 / 667 (thread    0) f\b\b\r",
      "STEP   138 / 667 (thread    3) f\b\b\r",
      "STEP   139 / 667 (thread    2) f\b\b\r",
      "STEP   140 / 667 (thread    4) f\b\b\r",
      "STEP   141 / 667 (thread    3) f\b\b\r",
      "STEP   142 / 667 (thread    0) f\b\b\r",
      "STEP   143 / 667 (thread    5) f\b\b\r",
      "STEP   145 / 667 (thread    3) f\b\b\r",
      "STEP   146 / 667 (thread    1) f\b\b\r",
      "STEP   147 / 667 (thread    3) f\b\b\r",
      "STEP   148 / 667 (thread    2) f\b\b\r",
      "STEP   149 / 667 (thread    5) f\b\b\r",
      "STEP   150 / 667 (thread    0) f\b\b\r",
      "STEP   144 / 667 (thread    4) f\b\b\r",
      "STEP   151 / 667 (thread    1) f\b\b\r",
      "STEP   152 / 667 (thread    0) f\b\b\r",
      "STEP   153 / 667 (thread    2) f\b\b\r",
      "STEP   154 / 667 (thread    3) f\b\b\r",
      "STEP   155 / 667 (thread    0) f\b\b\r",
      "STEP   156 / 667 (thread    2) f\b\b\r",
      "STEP   157 / 667 (thread    3) f\b\b\r",
      "STEP   158 / 667 (thread    0) f\b\b\r",
      "STEP   159 / 667 (thread    4) f\b\b\r",
      "STEP   160 / 667 (thread    3) f\b\b\r",
      "STEP   161 / 667 (thread    0) f\b\b\r",
      "STEP   162 / 667 (thread    2) f\b\b\r",
      "STEP   163 / 667 (thread    1) f\b\b\r",
      "STEP   164 / 667 (thread    4) f\b\b\r",
      "STEP   165 / 667 (thread    5) f\b\b\r",
      "STEP   166 / 667 (thread    3) f\b\b\r",
      "STEP   167 / 667 (thread    1) f\b\b\r",
      "STEP   168 / 667 (thread    0)\r",
      "STEP   169 / 667 (thread    5) f\b\b f\b\b\r",
      "STEP   170 / 667 (thread    2) f\b\b\r",
      "STEP   171 / 667 (thread    3) f\b\b\r",
      "STEP   172 / 667 (thread    4) f\b\b\r",
      "STEP   173 / 667 (thread    0) f\b\b\r",
      "STEP   174 / 667 (thread    3) f\b\b\r",
      "STEP   175 / 667 (thread    1) f\b\b\r",
      "STEP   176 / 667 (thread    0) f\b\b\r",
      "STEP   177 / 667 (thread    5) f\b\b\r",
      "STEP   178 / 667 (thread    2) f\b\b\r",
      "STEP   179 / 667 (thread    0) f\b\b\r",
      "STEP   180 / 667 (thread    1) f\b\b\r",
      "STEP   181 / 667 (thread    3) f\b\b\r",
      "STEP   182 / 667 (thread    4) f\b\b\r",
      "STEP   183 / 667 (thread    3) f\b\b\r",
      "STEP   184 / 667 (thread    0) f\b\b\r",
      "STEP   185 / 667 (thread    5) f\b\b\r",
      "STEP   186 / 667 (thread    2) f\b\b\r",
      "STEP   187 / 667 (thread    3) f\b\b\r",
      "STEP   188 / 667 (thread    1) f\b\b\r",
      "STEP   189 / 667 (thread    2) f\b\b\r",
      "STEP   190 / 667 (thread    5) f\b\b\r",
      "STEP   191 / 667 (thread    3) f\b\b\r",
      "STEP   192 / 667 (thread    4) f\b\b\r",
      "STEP   193 / 667 (thread    0) f\b\b\r",
      "STEP   194 / 667 (thread    2) f\b\b\r",
      "STEP   195 / 667 (thread    5) f\b\b\r",
      "STEP   196 / 667 (thread    4) f\b\b\r",
      "STEP   197 / 667 (thread    3) f\b\b\r",
      "STEP   198 / 667 (thread    1) f\b\b\r",
      "STEP   199 / 667 (thread    0) f\b\b\r",
      "STEP   200 / 667 (thread    3) f\b\b\r",
      "STEP   201 / 667 (thread    2) f\b\b\r",
      "STEP   202 / 667 (thread    0) f\b\b\r",
      "STEP   203 / 667 (thread    5) f\b\b\r",
      "STEP   204 / 667 (thread    4) f\b\b\r",
      "STEP   205 / 667 (thread    1) f\b\b\r",
      "STEP   206 / 667 (thread    3) f\b\b\r",
      "STEP   207 / 667 (thread    0) f\b\b\r",
      "STEP   208 / 667 (thread    3) f\b\b\r",
      "STEP   209 / 667 (thread    4) f\b\b\r",
      "STEP   210 / 667 (thread    5) f\b\b\r",
      "STEP   211 / 667 (thread    3) f\b\b\r",
      "STEP   212 / 667 (thread    1) f\b\b\r",
      "STEP   213 / 667 (thread    0) f\b\b\r",
      "STEP   214 / 667 (thread    2) f\b\b\r",
      "STEP   215 / 667 (thread    4) f\b\b\r",
      "STEP   216 / 667 (thread    3) f\b\b\r",
      "STEP   217 / 667 (thread    0) f\b\b\r",
      "STEP   218 / 667 (thread    5) f\b\b\r",
      "STEP   219 / 667 (thread    3) f\b\b\r",
      "STEP   220 / 667 (thread    2) f\b\b\r",
      "STEP   221 / 667 (thread    1) f\b\b\r",
      "STEP   222 / 667 (thread    4) f\b\b\r",
      "STEP   223 / 667 (thread    0) f\b\b\r",
      "STEP   224 / 667 (thread    3) f\b\b\r",
      "STEP   225 / 667 (thread    5) f\b\b\r",
      "STEP   226 / 667 (thread    3) f\b\b\r",
      "STEP   227 / 667 (thread    2) f\b\b\r",
      "STEP   228 / 667 (thread    4) f\b\b\r",
      "STEP   229 / 667 (thread    1) f\b\b\r",
      "STEP   230 / 667 (thread    0) f\b\b\r",
      "STEP   231 / 667 (thread    0) f\b\b\r",
      "STEP   233 / 667 (thread    3) f\b\b\r",
      "STEP   234 / 667 (thread    5) f\b\b\r",
      "STEP   235 / 667 (thread    0) f\b\b\r",
      "STEP   236 / 667 (thread    2) f\b\b\r",
      "STEP   232 / 667 (thread    1) f\b\b\r",
      "STEP   237 / 667 (thread    3) f\b\b\r",
      "STEP   238 / 667 (thread    4) f\b\b\r",
      "STEP   239 / 667 (thread    0) f\b\b\r",
      "STEP   240 / 667 (thread    5) f\b\b\r",
      "STEP   241 / 667 (thread    0) f\b\b\r",
      "STEP   243 / 667 (thread    3) f\b\b\r",
      "STEP   244 / 667 (thread    4) f\b\b\r",
      "STEP   245 / 667 (thread    1) f\b\b\r",
      "STEP   246 / 667 (thread    5) f\b\b\r",
      "STEP   242 / 667 (thread    2) f\b\b\r",
      "STEP   248 / 667 (thread    3) f\b\b\r",
      "STEP   249 / 667 (thread    1) f\b\b\r",
      "STEP   247 / 667 (thread    0) f\b\b\r",
      "STEP   250 / 667 (thread    4) f\b\b\r",
      "STEP   251 / 667 (thread    2) f\b\b\r",
      "STEP   252 / 667 (thread    5) f\b\b\r",
      "STEP   253 / 667 (thread    3) f\b\b\r",
      "STEP   254 / 667 (thread    0) f\b\b\r",
      "STEP   255 / 667 (thread    3) f\b\b\r",
      "STEP   256 / 667 (thread    0) f\b\b\r",
      "STEP   257 / 667 (thread    3) f\b\b\r",
      "STEP   258 / 667 (thread    1) f\b\b\r",
      "STEP   259 / 667 (thread    4) f\b\b\r",
      "STEP   260 / 667 (thread    2) f\b\b\r",
      "STEP   261 / 667 (thread    5) f\b\b\r",
      "STEP   262 / 667 (thread    0) f\b\b\r",
      "STEP   263 / 667 (thread    3) f\b\b\r",
      "STEP   264 / 667 (thread    1) f\b\b\r",
      "STEP   265 / 667 (thread    4) f\b\b\r",
      "STEP   266 / 667 (thread    0) f\b\b\r",
      "STEP   267 / 667 (thread    3) f\b\b\r",
      "STEP   268 / 667 (thread    5) f\b\b\r",
      "STEP   269 / 667 (thread    2) f\b\b\r",
      "STEP   270 / 667 (thread    1) f\b\b\r",
      "STEP   271 / 667 (thread    4) f\b\b\r",
      "STEP   272 / 667 (thread    0) f\b\b\r",
      "STEP   273 / 667 (thread    3) f\b\b\r",
      "STEP   274 / 667 (thread    5) f\b\b\r",
      "STEP   275 / 667 (thread    2) f\b\b\r",
      "STEP   276 / 667 (thread    0) f\b\b\r",
      "STEP   277 / 667 (thread    3) f\b\b\r",
      "STEP   278 / 667 (thread    1) f\b\b\r",
      "STEP   279 / 667 (thread    4) f\b\b\r",
      "STEP   280 / 667 (thread    0) f\b\b\r",
      "STEP   281 / 667 (thread    5) f\b\b\r",
      "STEP   282 / 667 (thread    4) f\b\b\r",
      "STEP   283 / 667 (thread    3) f\b\b\r",
      "STEP   284 / 667 (thread    2) f\b\b\r",
      "STEP   285 / 667 (thread    1) f\b\b\r",
      "STEP   286 / 667 (thread    3)\r",
      "STEP   287 / 667 (thread    0) f\b\b f\b\b\r",
      "STEP   288 / 667 (thread    5) f\b\b\r",
      "STEP   289 / 667 (thread    4) f\b\b\r",
      "STEP   290 / 667 (thread    2) f\b\b\r",
      "STEP   291 / 667 (thread    0) f\b\b\r",
      "STEP   292 / 667 (thread    3) f\b\b\r",
      "STEP   293 / 667 (thread    0) f\b\b\r",
      "STEP   294 / 667 (thread    1) f\b\b\r",
      "STEP   296 / 667 (thread    4) f\b\b\r",
      "STEP   298 / 667 (thread    0) f\b\b\r",
      "STEP   299 / 667 (thread    5) f\b\b\r",
      "STEP   300 / 667 (thread    1) f\b\b\r",
      "STEP   295 / 667 (thread    3) f\b\b\r",
      "STEP   301 / 667 (thread    0) f\b\b\r",
      "STEP   302 / 667 (thread    1) f\b\b\r",
      "STEP   303 / 667 (thread    3) f\b\b\r",
      "STEP   304 / 667 (thread    5) f\b\b\r",
      "STEP   297 / 667 (thread    2)\r",
      "STEP   305 / 667 (thread    4) f\b\b f\b\b\r",
      "STEP   306 / 667 (thread    0) f\b\b\r",
      "STEP   307 / 667 (thread    3) f\b\b\r",
      "STEP   310 / 667 (thread    3) f\b\b\r",
      "STEP   311 / 667 (thread    0) f\b\b\r",
      "STEP   308 / 667 (thread    5) f\b\b\r",
      "STEP   312 / 667 (thread    2) f\b\b\r",
      "STEP   313 / 667 (thread    4) f\b\b\r",
      "STEP   314 / 667 (thread    3) f\b\b\r",
      "STEP   309 / 667 (thread    1) f\b\b\r",
      "STEP   315 / 667 (thread    2) f\b\b\r",
      "STEP   316 / 667 (thread    3) f\b\b\r",
      "STEP   317 / 667 (thread    0) f\b\b\r",
      "STEP   318 / 667 (thread    3) f\b\b\r",
      "STEP   319 / 667 (thread    4) f\b\b\r",
      "STEP   320 / 667 (thread    1) f\b\b\r",
      "STEP   321 / 667 (thread    2) f\b\b\r",
      "STEP   322 / 667 (thread    5) f\b\b\r",
      "STEP   323 / 667 (thread    0) f\b\b\r",
      "STEP   324 / 667 (thread    3) f\b\b\r",
      "STEP   325 / 667 (thread    1) f\b\b\r",
      "STEP   326 / 667 (thread    2) f\b\b\r",
      "STEP   327 / 667 (thread    4) f\b\b\r",
      "STEP   328 / 667 (thread    5) f\b\b\r",
      "STEP   329 / 667 (thread    0) f\b\b\r",
      "STEP   330 / 667 (thread    3) f\b\b\r",
      "STEP   331 / 667 (thread    4) f\b\b\r",
      "STEP   332 / 667 (thread    1) f\b\b\r",
      "STEP   333 / 667 (thread    0) f\b\b\r",
      "STEP   334 / 667 (thread    2) f\b\b\r",
      "STEP   335 / 667 (thread    5) f\b\b\r",
      "STEP   336 / 667 (thread    0) f\b\b\r",
      "STEP   337 / 667 (thread    4) f\b\b\r",
      "STEP   338 / 667 (thread    1) f\b\b\r",
      "STEP   339 / 667 (thread    2) f\b\b\r",
      "STEP   340 / 667 (thread    3) f\b\b\r",
      "STEP   341 / 667 (thread    0) f\b\b\r",
      "STEP   342 / 667 (thread    5) f\b\b\r",
      "STEP   343 / 667 (thread    4) f\b\b\r",
      "STEP   344 / 667 (thread    1) f\b\b\r",
      "STEP   345 / 667 (thread    3) f\b\b\r",
      "STEP   346 / 667 (thread    5) f\b\b\r",
      "STEP   347 / 667 (thread    2) f\b\b\r",
      "STEP   348 / 667 (thread    1) f\b\b\r",
      "STEP   349 / 667 (thread    0) f\b\b\r",
      "STEP   350 / 667 (thread    3) f\b\b\r",
      "STEP   351 / 667 (thread    4) f\b\b\r",
      "STEP   353 / 667 (thread    2) f\b\b\r",
      "STEP   354 / 667 (thread    5) f\b\b\r",
      "STEP   352 / 667 (thread    0) f\b\b\r",
      "STEP   355 / 667 (thread    1) f\b\b\r",
      "STEP   356 / 667 (thread    4) f\b\b\r",
      "STEP   357 / 667 (thread    3) f\b\b\r",
      "STEP   358 / 667 (thread    0) f\b\b\r",
      "STEP   359 / 667 (thread    2) f\b\b\r",
      "STEP   360 / 667 (thread    1) f\b\b\r",
      "STEP   361 / 667 (thread    5) f\b\b\r",
      "STEP   362 / 667 (thread    3) f\b\b\r",
      "STEP   363 / 667 (thread    4) f\b\b\r",
      "STEP   364 / 667 (thread    0) f\b\b\r",
      "STEP   366 / 667 (thread    1) f\b\b\r",
      "STEP   367 / 667 (thread    5) f\b\b\r",
      "STEP   365 / 667 (thread    2) f\b\b\r",
      "STEP   368 / 667 (thread    3) f\b\b\r",
      "STEP   369 / 667 (thread    0) f\b\b\r",
      "STEP   370 / 667 (thread    4) f\b\b\r",
      "STEP   372 / 667 (thread    3) f\b\b\r",
      "STEP   373 / 667 (thread    2) f\b\b\r",
      "STEP   374 / 667 (thread    3) f\b\b\r",
      "STEP   375 / 667 (thread    1) f\b\b\r",
      "STEP   377 / 667 (thread    3) f\b\b\r",
      "STEP   371 / 667 (thread    0) f\b\b\r",
      "STEP   378 / 667 (thread    1) f\b\b\r",
      "STEP   381 / 667 (thread    2) f\b\b\r",
      "STEP   382 / 667 (thread    1) f\b\b\r",
      "STEP   376 / 667 (thread    4) f\b\b\r",
      "STEP   383 / 667 (thread    0) f\b\b\r",
      "STEP   384 / 667 (thread    2) f\b\b\r",
      "STEP   385 / 667 (thread    0) f\b\b\r",
      "STEP   386 / 667 (thread    2) f\b\b\r",
      "STEP   387 / 667 (thread    1) f\b\b\r",
      "STEP   388 / 667 (thread    0) f\b\b\r",
      "STEP   389 / 667 (thread    2) f\b\b\r",
      "STEP   379 / 667 (thread    5) f\b\b\r",
      "STEP   390 / 667 (thread    4) f\b\b\r",
      "STEP   391 / 667 (thread    0) f\b\b\r",
      "STEP   392 / 667 (thread    2) f\b\b\r",
      "STEP   393 / 667 (thread    1) f\b\b\r",
      "STEP   395 / 667 (thread    2) f\b\b\r",
      "STEP   396 / 667 (thread    4) f\b\b\r",
      "STEP   397 / 667 (thread    1) f\b\b\r",
      "STEP   398 / 667 (thread    4) f\b\b\r",
      "STEP   399 / 667 (thread    2) f\b\b\r",
      "STEP   400 / 667 (thread    5) f\b\b\r",
      "STEP   380 / 667 (thread    3) f\b\b\r",
      "STEP   402 / 667 (thread    2) f\b\b\r",
      "STEP   404 / 667 (thread    5) f\b\b\r",
      "STEP   403 / 667 (thread    4) f\b\b\r",
      "STEP   405 / 667 (thread    2) f\b\b\r",
      "STEP   407 / 667 (thread    3) f\b\b\r",
      "STEP   394 / 667 (thread    0) f\b\b\r",
      "STEP   408 / 667 (thread    4) f\b\b\r",
      "STEP   409 / 667 (thread    2) f\b\b\r",
      "STEP   410 / 667 (thread    3) f\b\b\r",
      "STEP   411 / 667 (thread    2) f\b\b\r",
      "STEP   412 / 667 (thread    4) f\b\b\r",
      "STEP   413 / 667 (thread    4) f\b\b\r",
      "STEP   414 / 667 (thread    2) f\b\b\r",
      "STEP   415 / 667 (thread    0) f\b\b\r",
      "STEP   401 / 667 (thread    1) f\b\b\r",
      "STEP   417 / 667 (thread    4) f\b\b\r",
      "STEP   418 / 667 (thread    4) f\b\b\r",
      "STEP   419 / 667 (thread    2) f\b\b\r",
      "STEP   421 / 667 (thread    4) f\b\b\r",
      "STEP   422 / 667 (thread    2) f\b\b\r",
      "STEP   423 / 667 (thread    4) f\b\b\r",
      "STEP   424 / 667 (thread    2) f\b\b\r",
      "STEP   406 / 667 (thread    5) f\b\b\r",
      "STEP   426 / 667 (thread    2) f\b\b\r",
      "STEP   427 / 667 (thread    2) f\b\b\r",
      "STEP   428 / 667 (thread    4) f\b\b\r",
      "STEP   429 / 667 (thread    2) f\b\b\r",
      "STEP   430 / 667 (thread    4) f\b\b\r",
      "STEP   431 / 667 (thread    2) f\b\b\r",
      "STEP   433 / 667 (thread    5) f\b\b\r",
      "STEP   416 / 667 (thread    3) f\b\b\r",
      "STEP   434 / 667 (thread    5) f\b\b\r",
      "STEP   435 / 667 (thread    2) f\b\b\r",
      "STEP   438 / 667 (thread    3) f\b\b"
     ]
    },
    {
     "name": "stderr",
     "output_type": "stream",
     "text": [
      "\r",
      "STEP   420 / 667 (thread    0) f\b\b\r",
      "STEP   439 / 667 (thread    3) f\b\b\r",
      "STEP   440 / 667 (thread    3) f\b\b\r",
      "STEP   441 / 667 (thread    0) f\b\b\r",
      "STEP   425 / 667 (thread    1) f\b\b\r",
      "STEP   442 / 667 (thread    3) f\b\b\r",
      "STEP   443 / 667 (thread    0) f\b\b\r",
      "STEP   444 / 667 (thread    0) f\b\b\r",
      "STEP   445 / 667 (thread    3) f\b\b\r",
      "STEP   446 / 667 (thread    1) f\b\b\r",
      "STEP   432 / 667 (thread    4) f\b\b\r",
      "STEP   447 / 667 (thread    0) f\b\b\r",
      "STEP   448 / 667 (thread    3) f\b\b\r",
      "STEP   450 / 667 (thread    0) f\b\b\r",
      "STEP   451 / 667 (thread    3) f\b\b\r",
      "STEP   452 / 667 (thread    0) f\b\b\r",
      "STEP   453 / 667 (thread    3) f\b\b\r",
      "STEP   454 / 667 (thread    4) f\b\b\r",
      "STEP   436 / 667 (thread    5) f\b\b\r",
      "STEP   455 / 667 (thread    0) f\b\b\r",
      "STEP   456 / 667 (thread    3) f\b\b\r",
      "STEP   457 / 667 (thread    0) f\b\b\r",
      "STEP   459 / 667 (thread    4) f\b\b\r",
      "STEP   458 / 667 (thread    0) f\b\b\r",
      "STEP   460 / 667 (thread    3) f\b\b\r",
      "STEP   461 / 667 (thread    0) f\b\b\r",
      "STEP   463 / 667 (thread    4) f\b\b\r",
      "STEP   464 / 667 (thread    0) f\b\b\r",
      "STEP   437 / 667 (thread    2)\r",
      "STEP   465 / 667 (thread    5) f\b\b f\b\b\r",
      "STEP   466 / 667 (thread    0) f\b\b\r",
      "STEP   467 / 667 (thread    4) f\b\b\r",
      "STEP   468 / 667 (thread    5) f\b\b\r",
      "STEP   469 / 667 (thread    0) f\b\b\r",
      "STEP   470 / 667 (thread    5) f\b\b\r",
      "STEP   471 / 667 (thread    0) f\b\b\r",
      "STEP   472 / 667 (thread    4) f\b\b\r",
      "STEP   473 / 667 (thread    5) f\b\b\r",
      "STEP   474 / 667 (thread    2) f\b\b\r",
      "STEP   449 / 667 (thread    1) f\b\b\r",
      "STEP   476 / 667 (thread    2) f\b\b\r",
      "STEP   477 / 667 (thread    5) f\b\b\r",
      "STEP   478 / 667 (thread    4) f\b\b\r",
      "STEP   479 / 667 (thread    5) f\b\b\r",
      "STEP   480 / 667 (thread    2) f\b\b\r",
      "STEP   481 / 667 (thread    4) f\b\b\r",
      "STEP   482 / 667 (thread    2) f\b\b\r",
      "STEP   462 / 667 (thread    3) f\b\b\r",
      "STEP   483 / 667 (thread    1) f\b\b\r",
      "STEP   484 / 667 (thread    5) f\b\b\r",
      "STEP   486 / 667 (thread    1) f\b\b\r",
      "STEP   487 / 667 (thread    4) f\b\b\r",
      "STEP   488 / 667 (thread    5) f\b\b\r",
      "STEP   489 / 667 (thread    3) f\b\b\r",
      "STEP   475 / 667 (thread    0) f\b\b\r",
      "STEP   490 / 667 (thread    1) f\b\b\r",
      "STEP   491 / 667 (thread    4) f\b\b\r",
      "STEP   492 / 667 (thread    1) f\b\b\r",
      "STEP   494 / 667 (thread    3) f\b\b\r",
      "STEP   495 / 667 (thread    4) f\b\b\r",
      "STEP   496 / 667 (thread    4) f\b\b\r",
      "STEP   497 / 667 (thread    1) f\b\b\r",
      "STEP   498 / 667 (thread    0) f\b\b\r",
      "STEP   485 / 667 (thread    2) f\b\b\r",
      "STEP   499 / 667 (thread    3) f\b\b\r",
      "STEP   500 / 667 (thread    4) f\b\b\r",
      "STEP   493 / 667 (thread    5) f\b\b\r",
      "STEP   501 / 667 (thread    0) f\b\b\r",
      "STEP   601 / 667 (thread    5) f\b\b\n",
      "Reallocating..done. *alloclen = 1867\n"
     ]
    },
    {
     "name": "stderr",
     "output_type": "stream",
     "text": [
      "\n",
      "done.\n",
      "\n",
      "disttbfast (nuc) Version 7.490\n",
      "alg=A, model=DNA200 (2), 1.53 (4.59), -0.00 (-0.00), noshift, amax=0.0\n",
      "6 thread(s)\n",
      "\n",
      "\n",
      "Strategy:\n",
      " FFT-NS-2 (Fast but rough)\n",
      " Progressive method (guide trees were built 2 times.)\n",
      "\n",
      "If unsure which option to use, try 'mafft --auto input > output'.\n",
      "For more information, see 'mafft --help', 'mafft --man' and the mafft page.\n",
      "\n",
      "The default gap scoring scheme has been changed in version 7.110 (2013 Oct).\n",
      "It tends to insert more gaps into gap-rich regions than previous versions.\n",
      "To disable this change, add the --leavegappyregion option.\n",
      "\n"
     ]
    },
    {
     "name": "stdout",
     "output_type": "stream",
     "text": [
      "Running external command line application. This may print messages to stdout and/or stderr.\n",
      "The command being run is below. This command cannot be manually re-run as it will depend on temporary files that no longer exist.\n",
      "\n",
      "Command: FastTreeMP -quote -nt /tmp/qiime2-archive-km9m0rip/e6eb344f-4e26-44ce-b4ed-c29f463747a8/data/aligned-dna-sequences.fasta\n",
      "\n"
     ]
    },
    {
     "name": "stderr",
     "output_type": "stream",
     "text": [
      "FastTree Version 2.1.10 Double precision (No SSE3), OpenMP (6 threads)\n",
      "Alignment: /tmp/qiime2-archive-km9m0rip/e6eb344f-4e26-44ce-b4ed-c29f463747a8/data/aligned-dna-sequences.fasta\n",
      "Nucleotide distances: Jukes-Cantor Joins: balanced Support: SH-like 1000\n",
      "Search: Normal +NNI +SPR (2 rounds range 10) +ML-NNI opt-each=1\n",
      "TopHits: 1.00*sqrtN close=default refresh=0.80\n",
      "ML Model: Jukes-Cantor, CAT approximation with 20 rate categories\n",
      "      0.14 seconds: Joined    200 of    643\n"
     ]
    },
    {
     "name": "stderr",
     "output_type": "stream",
     "text": [
      "      0.24 seconds: Joined    400 of    643\n",
      "Initial topology in 0.35 seconds\n",
      "Refining topology: 37 rounds ME-NNIs, 2 rounds ME-SPRs, 19 rounds ML-NNIs\n",
      "      0.35 seconds: ME NNI round 1 of 37, 1 of 644 splits\n"
     ]
    },
    {
     "name": "stderr",
     "output_type": "stream",
     "text": [
      "      0.47 seconds: SPR round   1 of   2, 101 of 1290 nodes\n",
      "      0.59 seconds: SPR round   1 of   2, 301 of 1290 nodes\n"
     ]
    },
    {
     "name": "stderr",
     "output_type": "stream",
     "text": [
      "      0.71 seconds: SPR round   1 of   2, 501 of 1290 nodes\n",
      "      0.86 seconds: SPR round   1 of   2, 701 of 1290 nodes\n"
     ]
    },
    {
     "name": "stderr",
     "output_type": "stream",
     "text": [
      "      1.00 seconds: SPR round   1 of   2, 901 of 1290 nodes\n",
      "      1.11 seconds: SPR round   1 of   2, 1101 of 1290 nodes\n"
     ]
    },
    {
     "name": "stderr",
     "output_type": "stream",
     "text": [
      "      1.22 seconds: ME NNI round 13 of 37, 1 of 644 splits\n",
      "      1.32 seconds: SPR round   2 of   2, 101 of 1290 nodes\n"
     ]
    },
    {
     "name": "stderr",
     "output_type": "stream",
     "text": [
      "      1.45 seconds: SPR round   2 of   2, 301 of 1290 nodes\n",
      "      1.59 seconds: SPR round   2 of   2, 501 of 1290 nodes\n"
     ]
    },
    {
     "name": "stderr",
     "output_type": "stream",
     "text": [
      "      1.72 seconds: SPR round   2 of   2, 701 of 1290 nodes\n",
      "      1.84 seconds: SPR round   2 of   2, 901 of 1290 nodes\n"
     ]
    },
    {
     "name": "stderr",
     "output_type": "stream",
     "text": [
      "      1.94 seconds: SPR round   2 of   2, 1101 of 1290 nodes\n",
      "      2.04 seconds: ME NNI round 25 of 37, 501 of 644 splits, 0 changes\n",
      "Total branch-length 15.847 after 2.07 sec\n"
     ]
    },
    {
     "name": "stderr",
     "output_type": "stream",
     "text": [
      "      2.15 seconds: ML Lengths 301 of 644 splits\n",
      "      2.32 seconds: ML NNI round 1 of 19, 101 of 644 splits, 17 changes (max delta 8.038)\n"
     ]
    },
    {
     "name": "stderr",
     "output_type": "stream",
     "text": [
      "      2.47 seconds: ML NNI round 1 of 19, 301 of 644 splits, 45 changes (max delta 8.038)\n",
      "      2.61 seconds: ML NNI round 1 of 19, 501 of 644 splits, 75 changes (max delta 9.358)\n"
     ]
    },
    {
     "name": "stderr",
     "output_type": "stream",
     "text": [
      "ML-NNI round 1: LogLk = -41402.322 NNIs 104 max delta 9.36 Time 2.73\n",
      "      2.73 seconds: Site likelihoods with rate category 1 of 20\n",
      "      2.83 seconds: Site likelihoods with rate category 17 of 20\n",
      "Switched to using 20 rate categories (CAT approximation)\n",
      "Rate categories were divided by 1.094 so that average rate = 1.0\n",
      "CAT-based log-likelihoods may not be comparable across runs\n",
      "Use -gamma for approximate but comparable Gamma(20) log-likelihoods\n"
     ]
    },
    {
     "name": "stderr",
     "output_type": "stream",
     "text": [
      "      2.95 seconds: ML NNI round 2 of 19, 101 of 644 splits, 9 changes (max delta 3.635)\n",
      "      3.11 seconds: ML NNI round 2 of 19, 301 of 644 splits, 26 changes (max delta 3.635)\n"
     ]
    },
    {
     "name": "stderr",
     "output_type": "stream",
     "text": [
      "      3.29 seconds: ML NNI round 2 of 19, 501 of 644 splits, 44 changes (max delta 3.635)\n",
      "ML-NNI round 2: LogLk = -34599.568 NNIs 58 max delta 4.66 Time 3.43\n",
      "      3.42 seconds: ML NNI round 3 of 19, 1 of 644 splits\n"
     ]
    },
    {
     "name": "stderr",
     "output_type": "stream",
     "text": [
      "      3.59 seconds: ML NNI round 3 of 19, 201 of 644 splits, 8 changes (max delta 3.480)\n",
      "      3.77 seconds: ML NNI round 3 of 19, 401 of 644 splits, 24 changes (max delta 6.156)\n"
     ]
    },
    {
     "name": "stderr",
     "output_type": "stream",
     "text": [
      "ML-NNI round 3: LogLk = -34555.114 NNIs 25 max delta 6.16 Time 3.80\n",
      "      3.88 seconds: ML NNI round 4 of 19, 101 of 644 splits, 3 changes (max delta 7.387)\n"
     ]
    },
    {
     "name": "stderr",
     "output_type": "stream",
     "text": [
      "ML-NNI round 4: LogLk = -34536.087 NNIs 6 max delta 7.39 Time 4.02\n",
      "      4.02 seconds: ML NNI round 5 of 19, 1 of 644 splits\n",
      "ML-NNI round 5: LogLk = -34535.846 NNIs 1 max delta 0.00 Time 4.12\n",
      "Turning off heuristics for final round of ML NNIs (converged)\n",
      "      4.12 seconds: ML NNI round 6 of 19, 1 of 644 splits\n"
     ]
    },
    {
     "name": "stderr",
     "output_type": "stream",
     "text": [
      "      4.28 seconds: ML NNI round 6 of 19, 201 of 644 splits, 0 changes\n",
      "      4.44 seconds: ML NNI round 6 of 19, 401 of 644 splits, 2 changes (max delta 0.035)\n"
     ]
    },
    {
     "name": "stderr",
     "output_type": "stream",
     "text": [
      "      4.59 seconds: ML NNI round 6 of 19, 601 of 644 splits, 2 changes (max delta 0.035)\n",
      "ML-NNI round 6: LogLk = -34534.504 NNIs 2 max delta 0.03 Time 4.63 (final)\n",
      "      4.71 seconds: ML Lengths 401 of 644 splits\n",
      "Optimize all lengths: LogLk = -34534.432 Time 4.77\n"
     ]
    },
    {
     "name": "stderr",
     "output_type": "stream",
     "text": [
      "      4.90 seconds: ML split tests for    100 of    643 internal splits\n",
      "      5.03 seconds: ML split tests for    200 of    643 internal splits\n"
     ]
    },
    {
     "name": "stderr",
     "output_type": "stream",
     "text": [
      "      5.16 seconds: ML split tests for    300 of    643 internal splits\n",
      "      5.29 seconds: ML split tests for    400 of    643 internal splits\n"
     ]
    },
    {
     "name": "stderr",
     "output_type": "stream",
     "text": [
      "      5.42 seconds: ML split tests for    500 of    643 internal splits\n",
      "      5.55 seconds: ML split tests for    600 of    643 internal splits\n",
      "Total time: 5.61 seconds Unique: 646/668 Bad splits: 0/643\n"
     ]
    }
   ],
   "source": [
    "mafft_alignment, mafft_masked_alignment, mafft_tree, mafft_rooted_tree = align_to_tree_mafft_fasttree(\n",
    "    sequences=reps, n_threads=6, )"
   ]
  },
  {
   "cell_type": "markdown",
   "id": "0768d598",
   "metadata": {
    "papermill": {
     "duration": 0.027977,
     "end_time": "2022-10-14T17:03:39.322405",
     "exception": false,
     "start_time": "2022-10-14T17:03:39.294428",
     "status": "completed"
    },
    "tags": []
   },
   "source": [
    "### Compute Alpha Diversity (Phylogeny)\n",
    "- [diversity alpha_phylogenetic](https://docs.qiime2.org/2022.8/plugins/available/diversity/alpha-phylogenetic/): Computes a user-specified phylogenetic alpha diversity metric for all samples in a feature table.\n",
    "- Metrics: Choices ('faith_pd')"
   ]
  },
  {
   "cell_type": "code",
   "execution_count": 13,
   "id": "0383aa19",
   "metadata": {
    "ExecuteTime": {
     "end_time": "2022-09-29T20:54:35.310009Z",
     "start_time": "2022-09-29T20:54:35.141333Z"
    },
    "execution": {
     "iopub.execute_input": "2022-10-14T17:03:39.379985Z",
     "iopub.status.busy": "2022-10-14T17:03:39.379662Z",
     "iopub.status.idle": "2022-10-14T17:03:39.497482Z",
     "shell.execute_reply": "2022-10-14T17:03:39.496842Z"
    },
    "papermill": {
     "duration": 0.149903,
     "end_time": "2022-10-14T17:03:39.500165",
     "exception": false,
     "start_time": "2022-10-14T17:03:39.350262",
     "status": "completed"
    },
    "tags": []
   },
   "outputs": [
    {
     "name": "stdout",
     "output_type": "stream",
     "text": [
      "Calculating alpha diversity: faith_pd\n"
     ]
    }
   ],
   "source": [
    "metrics = ('faith_pd', )\n",
    "alpha_diversities_phylogenetic = dict()\n",
    "for metric in metrics:\n",
    "    print(f\"Calculating alpha diversity: {metric}\")\n",
    "    alpha_diversity = alpha_phylogenetic(table=tabs, phylogeny=mafft_rooted_tree, metric=metric).alpha_diversity\n",
    "    alpha_diversities_phylogenetic[metric] = alpha_diversity"
   ]
  },
  {
   "cell_type": "markdown",
   "id": "c7752cfd",
   "metadata": {
    "papermill": {
     "duration": 0.028451,
     "end_time": "2022-10-14T17:03:39.562871",
     "exception": false,
     "start_time": "2022-10-14T17:03:39.534420",
     "status": "completed"
    },
    "tags": []
   },
   "source": [
    "### Alpha diversity correlation\n",
    "\n",
    "This method only process `numeric` columns.\n"
   ]
  },
  {
   "cell_type": "code",
   "execution_count": 14,
   "id": "2814f613",
   "metadata": {
    "ExecuteTime": {
     "end_time": "2022-09-29T20:54:35.317618Z",
     "start_time": "2022-09-29T20:54:35.312094Z"
    },
    "execution": {
     "iopub.execute_input": "2022-10-14T17:03:39.620935Z",
     "iopub.status.busy": "2022-10-14T17:03:39.620695Z",
     "iopub.status.idle": "2022-10-14T17:03:39.628095Z",
     "shell.execute_reply": "2022-10-14T17:03:39.627395Z"
    },
    "papermill": {
     "duration": 0.038288,
     "end_time": "2022-10-14T17:03:39.629726",
     "exception": false,
     "start_time": "2022-10-14T17:03:39.591438",
     "status": "completed"
    },
    "tags": []
   },
   "outputs": [],
   "source": [
    "methods = ('spearman', 'pearson')\n",
    "numerics_cols = metadata_qa.filter_columns(column_type='numeric')\n",
    "if numerics_cols.column_count > 0:\n",
    "    for metric, alpha_values in alpha_diversities.items():\n",
    "        for method in methods:\n",
    "            corr_view = alpha_correlation(alpha_diversity=alpha_values, metadata=numerics_cols, \n",
    "                                      method=method, intersect_ids=True).visualization\n",
    "            view_path = os.path.join(qiime_folder, f'alpha-correlation-{metric}-{method}.qzv')\n",
    "            corr_view.save(view_path)\n",
    "            corr_view"
   ]
  },
  {
   "cell_type": "markdown",
   "id": "8ea83c8a",
   "metadata": {
    "papermill": {
     "duration": 0.028227,
     "end_time": "2022-10-14T17:03:39.690481",
     "exception": false,
     "start_time": "2022-10-14T17:03:39.662254",
     "status": "completed"
    },
    "tags": []
   },
   "source": [
    "## Alpha diversity comparisons\n",
    "\n",
    "Visually and statistically compare groups of alpha diversity values.\n",
    "\n",
    "[diversity alpha_group_significance](https://docs.qiime2.org/2022.8/plugins/available/diversity/alpha-group-significance/)"
   ]
  },
  {
   "cell_type": "code",
   "execution_count": 15,
   "id": "276d1c18",
   "metadata": {
    "ExecuteTime": {
     "end_time": "2022-09-29T20:54:36.089290Z",
     "start_time": "2022-09-29T20:54:35.318963Z"
    },
    "execution": {
     "iopub.execute_input": "2022-10-14T17:03:39.748457Z",
     "iopub.status.busy": "2022-10-14T17:03:39.748222Z",
     "iopub.status.idle": "2022-10-14T17:03:40.547601Z",
     "shell.execute_reply": "2022-10-14T17:03:40.546999Z"
    },
    "papermill": {
     "duration": 0.831611,
     "end_time": "2022-10-14T17:03:40.550642",
     "exception": false,
     "start_time": "2022-10-14T17:03:39.719031",
     "status": "completed"
    },
    "tags": []
   },
   "outputs": [
    {
     "name": "stdout",
     "output_type": "stream",
     "text": [
      "Processing alpha_group_significance: chao1\n",
      "Processing alpha_group_significance: simpson\n"
     ]
    },
    {
     "name": "stdout",
     "output_type": "stream",
     "text": [
      "Processing alpha_group_significance: shannon\n",
      "Processing alpha_group_significance: ace\n"
     ]
    },
    {
     "name": "stdout",
     "output_type": "stream",
     "text": [
      "Processing alpha_group_significance: observed_features\n"
     ]
    }
   ],
   "source": [
    "for metric, alpha_values in alpha_diversities.items():\n",
    "    print(f\"Processing alpha_group_significance: {metric}\")\n",
    "    significance_view = alpha_group_significance(alpha_diversity=alpha_values, metadata=metadata_qa).visualization\n",
    "    view_path = os.path.join(qiime_folder, f'alpha-group-significance-{metric}.qzv')\n",
    "    significance_view.save(view_path)\n",
    "    significance_view"
   ]
  },
  {
   "cell_type": "markdown",
   "id": "4349d357",
   "metadata": {
    "papermill": {
     "duration": 0.028541,
     "end_time": "2022-10-14T17:03:40.614669",
     "exception": false,
     "start_time": "2022-10-14T17:03:40.586128",
     "status": "completed"
    },
    "tags": []
   },
   "source": [
    "## Beta diversity analysis\n",
    "\n",
    "#### Reference\n",
    "- [diversity beta](https://docs.qiime2.org/2022.8/plugins/available/diversity/beta/): Computes a user-specified beta diversity metric for all pairs of samples in a feature table.\n",
    "- [Beta diversity metrics](http://scikit-bio.org/docs/0.2.0/generated/skbio.diversity.beta.html)\n",
    "\n",
    "- Metric Choices('aitchison', 'braycurtis', 'canberra', 'canberra_adkins', 'chebyshev', 'cityblock', 'correlation', 'cosine', 'dice', 'euclidean', 'hamming', 'jaccard', 'jensenshannon', 'kulsinski', 'matching', 'minkowski', 'rogerstanimoto', 'russellrao', 'seuclidean', 'sokalmichener', 'sokalsneath', 'sqeuclidean', 'yule')"
   ]
  },
  {
   "cell_type": "code",
   "execution_count": 16,
   "id": "f6f358dd",
   "metadata": {
    "ExecuteTime": {
     "end_time": "2022-09-29T20:54:36.335038Z",
     "start_time": "2022-09-29T20:54:36.091288Z"
    },
    "execution": {
     "iopub.execute_input": "2022-10-14T17:03:40.673972Z",
     "iopub.status.busy": "2022-10-14T17:03:40.673719Z",
     "iopub.status.idle": "2022-10-14T17:03:40.907106Z",
     "shell.execute_reply": "2022-10-14T17:03:40.906399Z"
    },
    "papermill": {
     "duration": 0.266617,
     "end_time": "2022-10-14T17:03:40.910081",
     "exception": false,
     "start_time": "2022-10-14T17:03:40.643464",
     "status": "completed"
    },
    "tags": []
   },
   "outputs": [
    {
     "name": "stdout",
     "output_type": "stream",
     "text": [
      "Calculating beta diversity: dice\n",
      "Calculating beta diversity: braycurtis\n",
      "Calculating beta diversity: chebyshev\n",
      "Calculating beta diversity: jaccard\n"
     ]
    },
    {
     "name": "stderr",
     "output_type": "stream",
     "text": [
      "/home/lauro/anaconda3/envs/qiime2-2022.2/lib/python3.8/site-packages/sklearn/metrics/pairwise.py:1761: DataConversionWarning: Data was converted to boolean for metric dice\n",
      "  warnings.warn(msg, DataConversionWarning)\n",
      "/home/lauro/anaconda3/envs/qiime2-2022.2/lib/python3.8/site-packages/sklearn/metrics/pairwise.py:1761: DataConversionWarning: Data was converted to boolean for metric jaccard\n",
      "  warnings.warn(msg, DataConversionWarning)\n"
     ]
    }
   ],
   "source": [
    "metrics = ('dice', 'braycurtis', 'chebyshev', 'jaccard')\n",
    "beta_diversities = dict()\n",
    "for metric in metrics:\n",
    "    print(f\"Calculating beta diversity: {metric}\")\n",
    "    beta_diversity = beta(table=tabs, metric=metric, n_jobs=6, pseudocount=1).distance_matrix\n",
    "    beta_diversities[metric] = beta_diversity"
   ]
  },
  {
   "cell_type": "markdown",
   "id": "200a2fa7",
   "metadata": {
    "papermill": {
     "duration": 0.054313,
     "end_time": "2022-10-14T17:03:41.000045",
     "exception": false,
     "start_time": "2022-10-14T17:03:40.945732",
     "status": "completed"
    },
    "tags": []
   },
   "source": [
    "### Beta group significance\n",
    "\n",
    "- [diversity beta_group_significance](https://docs.qiime2.org/2022.8/plugins/available/diversity/beta-group-significance/): Determine whether groups of samples are significantly different from one another using a permutation-based statistical test.\n",
    "- Marti J Anderson. A new method for non-parametric multivariate analysis of variance. Austral ecology, 26(1):32–46, 2001. doi:https://doi.org/10.1111/j.1442-9993.2001.01070.pp.x."
   ]
  },
  {
   "cell_type": "code",
   "execution_count": 17,
   "id": "b8dd42b6",
   "metadata": {
    "ExecuteTime": {
     "end_time": "2022-09-29T20:55:08.313860Z",
     "start_time": "2022-09-29T20:54:36.336993Z"
    },
    "execution": {
     "iopub.execute_input": "2022-10-14T17:03:41.116797Z",
     "iopub.status.busy": "2022-10-14T17:03:41.116534Z",
     "iopub.status.idle": "2022-10-14T17:04:12.755813Z",
     "shell.execute_reply": "2022-10-14T17:04:12.755358Z"
    },
    "papermill": {
     "duration": 31.740789,
     "end_time": "2022-10-14T17:04:12.798150",
     "exception": false,
     "start_time": "2022-10-14T17:03:41.057361",
     "status": "completed"
    },
    "tags": []
   },
   "outputs": [
    {
     "name": "stdout",
     "output_type": "stream",
     "text": [
      "Calculating beta group significance with method permanova and metric dice\n"
     ]
    },
    {
     "name": "stdout",
     "output_type": "stream",
     "text": [
      "Calculating beta group significance with method permanova and metric braycurtis\n"
     ]
    },
    {
     "name": "stdout",
     "output_type": "stream",
     "text": [
      "Calculating beta group significance with method permanova and metric chebyshev\n"
     ]
    },
    {
     "name": "stdout",
     "output_type": "stream",
     "text": [
      "Calculating beta group significance with method permanova and metric jaccard\n"
     ]
    },
    {
     "name": "stdout",
     "output_type": "stream",
     "text": [
      "Calculating beta group significance with method anosim and metric dice\n"
     ]
    },
    {
     "name": "stdout",
     "output_type": "stream",
     "text": [
      "Calculating beta group significance with method anosim and metric braycurtis\n"
     ]
    },
    {
     "name": "stdout",
     "output_type": "stream",
     "text": [
      "Calculating beta group significance with method anosim and metric chebyshev\n"
     ]
    },
    {
     "name": "stdout",
     "output_type": "stream",
     "text": [
      "Calculating beta group significance with method anosim and metric jaccard\n"
     ]
    },
    {
     "name": "stdout",
     "output_type": "stream",
     "text": [
      "Calculating beta group significance with method permdisp and metric dice\n"
     ]
    },
    {
     "name": "stdout",
     "output_type": "stream",
     "text": [
      "Calculating beta group significance with method permdisp and metric braycurtis\n"
     ]
    },
    {
     "name": "stdout",
     "output_type": "stream",
     "text": [
      "Calculating beta group significance with method permdisp and metric chebyshev\n"
     ]
    },
    {
     "name": "stderr",
     "output_type": "stream",
     "text": [
      "/home/lauro/anaconda3/envs/qiime2-2022.2/lib/python3.8/site-packages/skbio/stats/ordination/_principal_coordinate_analysis.py:143: RuntimeWarning: The result contains negative eigenvalues. Please compare their magnitude with the magnitude of some of the largest positive eigenvalues. If the negative ones are smaller, it's probably safe to ignore them, but if they are large in magnitude, the results won't be useful. See the Notes section for more details. The smallest eigenvalue is -185686421.96632132 and the largest is 6255584480.383698.\n",
      "  warn(\n"
     ]
    },
    {
     "name": "stderr",
     "output_type": "stream",
     "text": [
      "/home/lauro/anaconda3/envs/qiime2-2022.2/lib/python3.8/site-packages/skbio/stats/ordination/_principal_coordinate_analysis.py:143: RuntimeWarning: The result contains negative eigenvalues. Please compare their magnitude with the magnitude of some of the largest positive eigenvalues. If the negative ones are smaller, it's probably safe to ignore them, but if they are large in magnitude, the results won't be useful. See the Notes section for more details. The smallest eigenvalue is -185686421.96632132 and the largest is 6255584480.383698.\n",
      "  warn(\n"
     ]
    },
    {
     "name": "stdout",
     "output_type": "stream",
     "text": [
      "Calculating beta group significance with method permdisp and metric jaccard\n"
     ]
    },
    {
     "data": {
      "text/plain": [
       "<Figure size 432x288 with 0 Axes>"
      ]
     },
     "metadata": {},
     "output_type": "display_data"
    }
   ],
   "source": [
    "methods = ('permanova', 'anosim', 'permdisp')\n",
    "for method in methods:\n",
    "    for metric, beta_diversity in beta_diversities.items():\n",
    "        print(f'Calculating beta group significance with method {method} and metric {metric}')\n",
    "        beta_view = beta_group_significance(distance_matrix=beta_diversity, \n",
    "                                            metadata=metadata_qa.get_column(class_col), \n",
    "                                            pairwise=True, method=method).visualization\n",
    "        view_name = os.path.join(qiime_folder, f'beta-group-significance-{metric}-{method}.qzv')\n",
    "        beta_view.save(view_name)"
   ]
  },
  {
   "cell_type": "markdown",
   "id": "c0de85cf",
   "metadata": {
    "papermill": {
     "duration": 0.033976,
     "end_time": "2022-10-14T17:04:12.865283",
     "exception": false,
     "start_time": "2022-10-14T17:04:12.831307",
     "status": "completed"
    },
    "tags": []
   },
   "source": [
    "### Beta group Rarefaction\n",
    "\n",
    "- [diversity beta_rarefaction](https://docs.qiime2.org/2022.8/plugins/available/diversity/beta-rarefaction/): Repeatedly rarefy a feature table to compare beta diversity results within a given rarefaction depth.  For a given beta diversity metric, this visualizer will provide: an Emperor jackknifed PCoA plot, samples clustered by UPGMA or neighbor joining with support calculation, and a heatmap showing the correlation between rarefaction trials of that beta diversity metric."
   ]
  }
 ],
 "metadata": {
  "celltoolbar": "Edit Metadata",
  "kernelspec": {
   "display_name": "Python 3 (ipykernel)",
   "language": "python",
   "name": "python3"
  },
  "language_info": {
   "codemirror_mode": {
    "name": "ipython",
    "version": 3
   },
   "file_extension": ".py",
   "mimetype": "text/x-python",
   "name": "python",
   "nbconvert_exporter": "python",
   "pygments_lexer": "ipython3",
   "version": "3.8.12"
  },
  "papermill": {
   "default_parameters": {},
   "duration": 59.985304,
   "end_time": "2022-10-14T17:04:13.722588",
   "environment_variables": {},
   "exception": null,
   "input_path": "nb-templates/step-diversity-analysis.ipynb",
   "output_path": "/home/lauro/nupeb/rede-micro/redemicro-ana-flavia-nutri/experiments/ana-flavia-NCxNR-trim/nb-executed-steps/step-diversity-analysis-ana-flavia-NCxNR-trim.ipynb",
   "parameters": {
    "base_dir": "/home/lauro/nupeb/rede-micro/redemicro-ana-flavia-nutri",
    "class_col": "group-id",
    "classifier_file": "/home/lauro/nupeb/dados_brutos_rede_genoma/16S_classifiers_qiime2/silva-138-99-nb-classifier.qza",
    "experiment_name": "ana-flavia-NCxNR-trim",
    "manifest_file": "/home/lauro/nupeb/rede-micro/redemicro-ana-flavia-nutri/data/raw/manifest/manifest-ana-flavia-NCxNR.csv",
    "metadata_file": "/home/lauro/nupeb/rede-micro/redemicro-ana-flavia-nutri/data/raw/metadata/metadata-ana-flavia-NCxNR.tsv",
    "overlap": 12,
    "phred": 20,
    "replace_files": false,
    "threads": 6,
    "trim": {
     "forward_primer": "CCTACGGGRSGCAGCAG",
     "overlap": 8,
     "reverse_primer": "GGACTACHVGGGTWTCTAAT"
    },
    "trunc_f": 0,
    "trunc_r": 0
   },
   "start_time": "2022-10-14T17:03:13.737284",
   "version": "2.3.4"
  }
 },
 "nbformat": 4,
 "nbformat_minor": 5
}