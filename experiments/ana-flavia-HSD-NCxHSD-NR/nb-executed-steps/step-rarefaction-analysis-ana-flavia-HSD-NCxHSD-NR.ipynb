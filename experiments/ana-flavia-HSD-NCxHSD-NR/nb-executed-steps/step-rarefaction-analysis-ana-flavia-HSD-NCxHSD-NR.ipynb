{
 "cells": [
  {
   "cell_type": "markdown",
   "id": "007a481e",
   "metadata": {
    "papermill": {
     "duration": 0.011555,
     "end_time": "2022-09-30T11:05:25.471619",
     "exception": false,
     "start_time": "2022-09-30T11:05:25.460064",
     "status": "completed"
    },
    "tags": []
   },
   "source": [
    "### STEP : Rarefaction Analysis\n",
    "\n",
    "Using QIIME2 to create rarefaction graphs. List with all [classifiers](https://docs.qiime2.org/2020.6/data-resources/). \n",
    "\n",
    "\n",
    "#### Methods\n",
    "- [qiime feature-classifier](https://docs.qiime2.org/2022.2/plugins/available/feature-classifier/)\n",
    "- [qiime feature-classifier classify-sklearn](https://docs.qiime2.org/2021.8/plugins/available/feature-classifier/classify-sklearn)\n",
    "- [qiime metadata](https://docs.qiime2.org/2022.2/plugins/available/metadata/)\n",
    "- [classify-hybrid-vsearch-sklearn](https://docs.qiime2.org/2022.2/plugins/available/feature-classifier/classify-hybrid-vsearch-sklearn/)\n",
    "- [qiime metadata tabulate](https://docs.qiime2.org/2022.2/plugins/available/metadata/tabulate/)\n",
    "- [qiime taxa](https://docs.qiime2.org/2022.2/plugins/available/taxa/)\n",
    "- [qiime taxa barplot](https://docs.qiime2.org/2022.2/plugins/available/taxa/barplot/)"
   ]
  },
  {
   "cell_type": "markdown",
   "id": "975d13c2",
   "metadata": {
    "papermill": {
     "duration": 0.010423,
     "end_time": "2022-09-30T11:05:25.492782",
     "exception": false,
     "start_time": "2022-09-30T11:05:25.482359",
     "status": "completed"
    },
    "tags": []
   },
   "source": [
    "## Setup and settings"
   ]
  },
  {
   "cell_type": "code",
   "execution_count": 1,
   "id": "76a0526e",
   "metadata": {
    "ExecuteTime": {
     "end_time": "2022-09-22T21:43:54.326002Z",
     "start_time": "2022-09-22T21:43:47.911891Z"
    },
    "execution": {
     "iopub.execute_input": "2022-09-30T11:05:25.515415Z",
     "iopub.status.busy": "2022-09-30T11:05:25.514977Z",
     "iopub.status.idle": "2022-09-30T11:05:32.009153Z",
     "shell.execute_reply": "2022-09-30T11:05:32.008390Z"
    },
    "papermill": {
     "duration": 6.509258,
     "end_time": "2022-09-30T11:05:32.012447",
     "exception": false,
     "start_time": "2022-09-30T11:05:25.503189",
     "status": "completed"
    },
    "tags": []
   },
   "outputs": [],
   "source": [
    "# Importing packages\n",
    "import os\n",
    "import pandas as pd\n",
    "from qiime2 import Artifact\n",
    "from qiime2 import Visualization\n",
    "from qiime2 import Metadata\n",
    "from qiime2.plugins.diversity.visualizers import alpha_rarefaction\n",
    "from qiime2.plugins.diversity.visualizers import beta_rarefaction\n",
    "\n",
    "import matplotlib.pyplot as plt\n",
    "\n",
    "from utils import *\n",
    "\n",
    "%matplotlib inline"
   ]
  },
  {
   "cell_type": "code",
   "execution_count": 2,
   "id": "c7c4f192",
   "metadata": {
    "ExecuteTime": {
     "end_time": "2022-09-22T21:43:54.330790Z",
     "start_time": "2022-09-22T21:43:54.328358Z"
    },
    "execution": {
     "iopub.execute_input": "2022-09-30T11:05:32.042207Z",
     "iopub.status.busy": "2022-09-30T11:05:32.041836Z",
     "iopub.status.idle": "2022-09-30T11:05:32.046208Z",
     "shell.execute_reply": "2022-09-30T11:05:32.045337Z"
    },
    "papermill": {
     "duration": 0.018219,
     "end_time": "2022-09-30T11:05:32.047744",
     "exception": false,
     "start_time": "2022-09-30T11:05:32.029525",
     "status": "completed"
    },
    "tags": []
   },
   "outputs": [],
   "source": [
    "# from qiime2.plugins import demux, deblur, quality_filter, \\\n",
    "#                            metadata, feature_table, alignment, \\\n",
    "#                            phylogeny, diversity, emperor, feature_classifier, \\\n",
    "#                            taxa, composition"
   ]
  },
  {
   "cell_type": "markdown",
   "id": "9617d088",
   "metadata": {
    "papermill": {
     "duration": 0.010903,
     "end_time": "2022-09-30T11:05:32.069386",
     "exception": false,
     "start_time": "2022-09-30T11:05:32.058483",
     "status": "completed"
    },
    "tags": []
   },
   "source": [
    "### Receiving the parameters\n",
    "\n",
    "The following cell can receive parameters using the [papermill](https://papermill.readthedocs.io/en/latest/) tool."
   ]
  },
  {
   "cell_type": "code",
   "execution_count": 3,
   "id": "ea1cf3c2",
   "metadata": {
    "ExecuteTime": {
     "end_time": "2022-09-22T21:43:54.344271Z",
     "start_time": "2022-09-22T21:43:54.332262Z"
    },
    "execution": {
     "iopub.execute_input": "2022-09-30T11:05:32.093929Z",
     "iopub.status.busy": "2022-09-30T11:05:32.093576Z",
     "iopub.status.idle": "2022-09-30T11:05:32.099134Z",
     "shell.execute_reply": "2022-09-30T11:05:32.098225Z"
    },
    "papermill": {
     "duration": 0.020495,
     "end_time": "2022-09-30T11:05:32.100798",
     "exception": false,
     "start_time": "2022-09-30T11:05:32.080303",
     "status": "completed"
    },
    "tags": [
     "parameters"
    ]
   },
   "outputs": [],
   "source": [
    "metadata_file = '/home/lauro/nupeb/rede-micro/redemicro-miliane-nutri/data/raw/metadata/miliane-metadata-CxAC.tsv'\n",
    "base_dir = os.path.join('/', 'home', 'lauro', 'nupeb', 'rede-micro', 'redemicro-miliane-nutri')\n",
    "experiment_name = 'miliane-CxAC-trim'\n",
    "replace_files = False"
   ]
  },
  {
   "cell_type": "code",
   "execution_count": 4,
   "id": "0e21c458",
   "metadata": {
    "execution": {
     "iopub.execute_input": "2022-09-30T11:05:32.126658Z",
     "iopub.status.busy": "2022-09-30T11:05:32.126291Z",
     "iopub.status.idle": "2022-09-30T11:05:32.132667Z",
     "shell.execute_reply": "2022-09-30T11:05:32.131905Z"
    },
    "papermill": {
     "duration": 0.020433,
     "end_time": "2022-09-30T11:05:32.134264",
     "exception": false,
     "start_time": "2022-09-30T11:05:32.113831",
     "status": "completed"
    },
    "tags": [
     "injected-parameters"
    ]
   },
   "outputs": [],
   "source": [
    "# Parameters\n",
    "experiment_name = \"ana-flavia-HSD-NCxHSD-NR\"\n",
    "base_dir = \"/home/lauro/nupeb/rede-micro/redemicro-ana-flavia-nutri\"\n",
    "manifest_file = \"/home/lauro/nupeb/rede-micro/redemicro-ana-flavia-nutri/data/raw/manifest/manifest-ana-flavia-HSD-NCxHSD-NR.csv\"\n",
    "metadata_file = \"/home/lauro/nupeb/rede-micro/redemicro-ana-flavia-nutri/data/raw/metadata/metadata-ana-flavia-HSD-NCxHSD-NR.tsv\"\n",
    "class_col = \"group-id\"\n",
    "classifier_file = \"/home/lauro/nupeb/dados_brutos_rede_genoma/16S_classifiers_qiime2/silva-138-99-nb-classifier.qza\"\n",
    "replace_files = False\n",
    "phred = 20\n",
    "trunc_f = 0\n",
    "trunc_r = 0\n",
    "overlap = 12\n",
    "threads = 6\n"
   ]
  },
  {
   "cell_type": "code",
   "execution_count": 5,
   "id": "decd53ad",
   "metadata": {
    "ExecuteTime": {
     "end_time": "2022-09-22T21:43:54.362004Z",
     "start_time": "2022-09-22T21:43:54.346365Z"
    },
    "execution": {
     "iopub.execute_input": "2022-09-30T11:05:32.159962Z",
     "iopub.status.busy": "2022-09-30T11:05:32.159608Z",
     "iopub.status.idle": "2022-09-30T11:05:32.164663Z",
     "shell.execute_reply": "2022-09-30T11:05:32.163923Z"
    },
    "papermill": {
     "duration": 0.019832,
     "end_time": "2022-09-30T11:05:32.166548",
     "exception": false,
     "start_time": "2022-09-30T11:05:32.146716",
     "status": "completed"
    },
    "tags": []
   },
   "outputs": [],
   "source": [
    "experiment_folder = os.path.abspath(os.path.join(base_dir, 'experiments', experiment_name))\n",
    "img_folder = os.path.abspath(os.path.join(experiment_folder, 'imgs'))"
   ]
  },
  {
   "cell_type": "markdown",
   "id": "8822c9cb",
   "metadata": {
    "papermill": {
     "duration": 0.010994,
     "end_time": "2022-09-30T11:05:32.191879",
     "exception": false,
     "start_time": "2022-09-30T11:05:32.180885",
     "status": "completed"
    },
    "tags": []
   },
   "source": [
    "### Defining names, paths and flags"
   ]
  },
  {
   "cell_type": "code",
   "execution_count": 6,
   "id": "009386e6",
   "metadata": {
    "ExecuteTime": {
     "end_time": "2022-09-22T21:43:54.373657Z",
     "start_time": "2022-09-22T21:43:54.363586Z"
    },
    "execution": {
     "iopub.execute_input": "2022-09-30T11:05:32.214624Z",
     "iopub.status.busy": "2022-09-30T11:05:32.214092Z",
     "iopub.status.idle": "2022-09-30T11:05:32.222212Z",
     "shell.execute_reply": "2022-09-30T11:05:32.221415Z"
    },
    "papermill": {
     "duration": 0.021341,
     "end_time": "2022-09-30T11:05:32.223734",
     "exception": false,
     "start_time": "2022-09-30T11:05:32.202393",
     "status": "completed"
    },
    "tags": []
   },
   "outputs": [],
   "source": [
    "# QIIME2 Artifacts folder\n",
    "qiime_folder = os.path.join(experiment_folder, 'qiime-artifacts')\n",
    "\n",
    "# Input - DADA2 Artifacts\n",
    "dada2_tabs_path = os.path.join(qiime_folder, 'dada2-tabs.qza')\n",
    "dada2_reps_path = os.path.join(qiime_folder, 'dada2-reps.qza')\n",
    "dada2_stat_path = os.path.join(qiime_folder, 'dada2-stat.qza')\n",
    "\n",
    "# Output -Rarefaction Artifacts\n",
    "alpha_rarefaction_path = os.path.join(qiime_folder, 'alpha-rarefaction.qza')\n",
    "alpha_rarefaction_view_path = os.path.join(qiime_folder, 'alpha-rarefaction.qzv')\n",
    "\n",
    "# Flag - Load or create files\n",
    "need_tax = not (os.path.isfile(alpha_rarefaction_path)) or replace_files\n",
    "need_view = not (os.path.isfile(alpha_rarefaction_view_path)) or replace_files"
   ]
  },
  {
   "cell_type": "markdown",
   "id": "b604e03b",
   "metadata": {
    "papermill": {
     "duration": 0.010482,
     "end_time": "2022-09-30T11:05:32.244750",
     "exception": false,
     "start_time": "2022-09-30T11:05:32.234268",
     "status": "completed"
    },
    "tags": []
   },
   "source": [
    "## Step execution\n",
    "\n",
    "### Load input files\n",
    "\n",
    "This Step import the QIIME2 `SampleData[PairedEndSequencesWithQuality]` Artifact with all demultiplexed sequences and the `Metadata` file."
   ]
  },
  {
   "cell_type": "code",
   "execution_count": 7,
   "id": "264fabf0",
   "metadata": {
    "ExecuteTime": {
     "end_time": "2022-09-22T21:43:54.398034Z",
     "start_time": "2022-09-22T21:43:54.375240Z"
    },
    "execution": {
     "iopub.execute_input": "2022-09-30T11:05:32.267500Z",
     "iopub.status.busy": "2022-09-30T11:05:32.267094Z",
     "iopub.status.idle": "2022-09-30T11:05:32.284931Z",
     "shell.execute_reply": "2022-09-30T11:05:32.284429Z"
    },
    "papermill": {
     "duration": 0.031001,
     "end_time": "2022-09-30T11:05:32.286479",
     "exception": false,
     "start_time": "2022-09-30T11:05:32.255478",
     "status": "completed"
    },
    "tags": []
   },
   "outputs": [],
   "source": [
    "#Load Metadata\n",
    "metadata_qa = Metadata.load(metadata_file)"
   ]
  },
  {
   "cell_type": "code",
   "execution_count": 8,
   "id": "68ef54c4",
   "metadata": {
    "ExecuteTime": {
     "end_time": "2022-09-22T21:43:54.827295Z",
     "start_time": "2022-09-22T21:43:54.399431Z"
    },
    "execution": {
     "iopub.execute_input": "2022-09-30T11:05:32.313982Z",
     "iopub.status.busy": "2022-09-30T11:05:32.313736Z",
     "iopub.status.idle": "2022-09-30T11:05:32.725177Z",
     "shell.execute_reply": "2022-09-30T11:05:32.724356Z"
    },
    "papermill": {
     "duration": 0.425229,
     "end_time": "2022-09-30T11:05:32.726998",
     "exception": false,
     "start_time": "2022-09-30T11:05:32.301769",
     "status": "completed"
    },
    "tags": []
   },
   "outputs": [],
   "source": [
    "tabs = Artifact.load(dada2_tabs_path)\n",
    "tabs_df = tabs.view(Metadata).to_dataframe().T"
   ]
  },
  {
   "cell_type": "markdown",
   "id": "f67eb631",
   "metadata": {
    "papermill": {
     "duration": 0.010055,
     "end_time": "2022-09-30T11:05:32.752734",
     "exception": false,
     "start_time": "2022-09-30T11:05:32.742679",
     "status": "completed"
    },
    "tags": []
   },
   "source": [
    "## Alpha Rarefaction"
   ]
  },
  {
   "cell_type": "code",
   "execution_count": 9,
   "id": "20854164",
   "metadata": {
    "ExecuteTime": {
     "end_time": "2022-09-22T21:55:53.328300Z",
     "start_time": "2022-09-22T21:55:53.318166Z"
    },
    "execution": {
     "iopub.execute_input": "2022-09-30T11:05:32.773999Z",
     "iopub.status.busy": "2022-09-30T11:05:32.773763Z",
     "iopub.status.idle": "2022-09-30T11:05:32.779447Z",
     "shell.execute_reply": "2022-09-30T11:05:32.778807Z"
    },
    "papermill": {
     "duration": 0.017951,
     "end_time": "2022-09-30T11:05:32.780959",
     "exception": false,
     "start_time": "2022-09-30T11:05:32.763008",
     "status": "completed"
    },
    "tags": []
   },
   "outputs": [],
   "source": [
    "# Get min and maximum feature counts to set sampling depth\n",
    "rank_df = tabs_df.sum().sort_values()\n",
    "min_feature_count = int(rank_df.min())\n",
    "max_feature_count = int(rank_df.max())"
   ]
  },
  {
   "cell_type": "code",
   "execution_count": 10,
   "id": "79cfffb0",
   "metadata": {
    "ExecuteTime": {
     "end_time": "2022-09-22T21:56:13.586159Z",
     "start_time": "2022-09-22T21:55:55.117935Z"
    },
    "execution": {
     "iopub.execute_input": "2022-09-30T11:05:32.803421Z",
     "iopub.status.busy": "2022-09-30T11:05:32.803214Z",
     "iopub.status.idle": "2022-09-30T11:05:52.800867Z",
     "shell.execute_reply": "2022-09-30T11:05:52.800243Z"
    },
    "papermill": {
     "duration": 20.011017,
     "end_time": "2022-09-30T11:05:52.802596",
     "exception": false,
     "start_time": "2022-09-30T11:05:32.791579",
     "status": "completed"
    },
    "tags": []
   },
   "outputs": [],
   "source": [
    "alpha_rar = alpha_rarefaction(\n",
    "    table = tabs,\n",
    "    max_depth = max_feature_count,\n",
    "    min_depth = 1,\n",
    "    metadata = metadata_qa,\n",
    ")"
   ]
  },
  {
   "cell_type": "code",
   "execution_count": 11,
   "id": "8e67afc2",
   "metadata": {
    "ExecuteTime": {
     "end_time": "2022-09-22T21:56:13.632468Z",
     "start_time": "2022-09-22T21:56:13.589032Z"
    },
    "execution": {
     "iopub.execute_input": "2022-09-30T11:05:52.838350Z",
     "iopub.status.busy": "2022-09-30T11:05:52.838183Z",
     "iopub.status.idle": "2022-09-30T11:05:52.881293Z",
     "shell.execute_reply": "2022-09-30T11:05:52.880757Z"
    },
    "papermill": {
     "duration": 0.066588,
     "end_time": "2022-09-30T11:05:52.884643",
     "exception": false,
     "start_time": "2022-09-30T11:05:52.818055",
     "status": "completed"
    },
    "scrolled": true,
    "tags": []
   },
   "outputs": [
    {
     "data": {
      "text/html": [
       "<div><img onload=\"(function(div, url){\n",
       "if (typeof require !== 'undefined') {\n",
       "    var baseURL = require.toUrl('').split('/').slice(0, -2).join('/');\n",
       "} else {\n",
       "    var baseURL = JSON.parse(\n",
       "        document.getElementById('jupyter-config-data').innerHTML\n",
       "    ).baseUrl.slice(0, -1);\n",
       "}\n",
       "url = baseURL + url;\n",
       "fetch(url).then(function(res) {\n",
       "    if (res.status === 404) {\n",
       "        div.innerHTML = 'Install QIIME 2 Jupyter extension with:<br />' +\n",
       "                        '<code>jupyter serverextension enable --py qiime2' +\n",
       "                        ' --sys-prefix</code><br />then restart your server.' +\n",
       "                        '<br /><br />(Interactive output not available on ' +\n",
       "                        'static notebook viewer services like nbviewer.)';\n",
       "    } else if (res.status === 409) {\n",
       "        div.innerHTML = 'Visualization no longer in scope. Re-run this cell' +\n",
       "                        ' to see the visualization.';\n",
       "    } else if (res.ok) {\n",
       "        url = res.url;\n",
       "        div.innerHTML = '<iframe src=\\'' + url + '\\' style=\\'' +\n",
       "                        'width: 100%; height: 700px; border: 0;\\'>' +\n",
       "                        '</iframe><hr />Open in a: <a href=\\'' + url + '\\'' +\n",
       "                        ' target=\\'_blank\\'>new window</a>'\n",
       "    } else {\n",
       "        div.innerHTML = 'Something has gone wrong. Check notebook server for' +\n",
       "                        ' errors.';\n",
       "    }\n",
       "});\n",
       "})(this.parentElement, '/qiime2/redirect?location=/tmp/qiime2-archive-xa7jjf3w')\" src=\"data:image/gif;base64,R0lGODlhAQABAIAAAP///wAAACH5BAEAAAAALAAAAAABAAEAAAICRAEAOw==\" /></div>"
      ],
      "text/plain": [
       "<visualization: Visualization uuid: 53594498-aff0-49b4-b15b-2c54e2f78615>"
      ]
     },
     "execution_count": 11,
     "metadata": {},
     "output_type": "execute_result"
    }
   ],
   "source": [
    "alpha_rar.visualization.save(alpha_rarefaction_view_path)\n",
    "alpha_rar.visualization"
   ]
  },
  {
   "cell_type": "markdown",
   "id": "3e207ccf",
   "metadata": {
    "papermill": {
     "duration": 0.012033,
     "end_time": "2022-09-30T11:05:52.914379",
     "exception": false,
     "start_time": "2022-09-30T11:05:52.902346",
     "status": "completed"
    },
    "tags": []
   },
   "source": [
    "## Beta Rarefaction"
   ]
  },
  {
   "cell_type": "code",
   "execution_count": 12,
   "id": "5c3c93da",
   "metadata": {
    "ExecuteTime": {
     "end_time": "2022-09-22T21:56:19.645438Z",
     "start_time": "2022-09-22T21:56:17.687848Z"
    },
    "execution": {
     "iopub.execute_input": "2022-09-30T11:05:52.939463Z",
     "iopub.status.busy": "2022-09-30T11:05:52.939281Z",
     "iopub.status.idle": "2022-09-30T11:05:54.627616Z",
     "shell.execute_reply": "2022-09-30T11:05:54.627035Z"
    },
    "papermill": {
     "duration": 1.703707,
     "end_time": "2022-09-30T11:05:54.630184",
     "exception": false,
     "start_time": "2022-09-30T11:05:52.926477",
     "status": "completed"
    },
    "tags": []
   },
   "outputs": [
    {
     "name": "stderr",
     "output_type": "stream",
     "text": [
      "/home/lauro/anaconda3/envs/qiime2-2022.2/lib/python3.8/site-packages/skbio/stats/ordination/_principal_coordinate_analysis.py:143: RuntimeWarning: The result contains negative eigenvalues. Please compare their magnitude with the magnitude of some of the largest positive eigenvalues. If the negative ones are smaller, it's probably safe to ignore them, but if they are large in magnitude, the results won't be useful. See the Notes section for more details. The smallest eigenvalue is -0.0054118009943403345 and the largest is 1.4962016819219857.\n",
      "  warn(\n",
      "/home/lauro/anaconda3/envs/qiime2-2022.2/lib/python3.8/site-packages/skbio/stats/ordination/_principal_coordinate_analysis.py:143: RuntimeWarning: The result contains negative eigenvalues. Please compare their magnitude with the magnitude of some of the largest positive eigenvalues. If the negative ones are smaller, it's probably safe to ignore them, but if they are large in magnitude, the results won't be useful. See the Notes section for more details. The smallest eigenvalue is -0.0003251605660537211 and the largest is 1.5235261896125707.\n",
      "  warn(\n",
      "/home/lauro/anaconda3/envs/qiime2-2022.2/lib/python3.8/site-packages/skbio/stats/ordination/_principal_coordinate_analysis.py:143: RuntimeWarning: The result contains negative eigenvalues. Please compare their magnitude with the magnitude of some of the largest positive eigenvalues. If the negative ones are smaller, it's probably safe to ignore them, but if they are large in magnitude, the results won't be useful. See the Notes section for more details. The smallest eigenvalue is -0.0039463029025119225 and the largest is 1.5084380674806475.\n",
      "  warn(\n",
      "/home/lauro/anaconda3/envs/qiime2-2022.2/lib/python3.8/site-packages/skbio/stats/ordination/_principal_coordinate_analysis.py:143: RuntimeWarning: The result contains negative eigenvalues. Please compare their magnitude with the magnitude of some of the largest positive eigenvalues. If the negative ones are smaller, it's probably safe to ignore them, but if they are large in magnitude, the results won't be useful. See the Notes section for more details. The smallest eigenvalue is -0.0011880608710348357 and the largest is 1.5039790202993097.\n",
      "  warn(\n",
      "/home/lauro/anaconda3/envs/qiime2-2022.2/lib/python3.8/site-packages/skbio/stats/ordination/_principal_coordinate_analysis.py:143: RuntimeWarning: The result contains negative eigenvalues. Please compare their magnitude with the magnitude of some of the largest positive eigenvalues. If the negative ones are smaller, it's probably safe to ignore them, but if they are large in magnitude, the results won't be useful. See the Notes section for more details. The smallest eigenvalue is -0.0022464554147474513 and the largest is 1.5189034696272308.\n",
      "  warn(\n",
      "/home/lauro/anaconda3/envs/qiime2-2022.2/lib/python3.8/site-packages/skbio/stats/ordination/_principal_coordinate_analysis.py:143: RuntimeWarning: The result contains negative eigenvalues. Please compare their magnitude with the magnitude of some of the largest positive eigenvalues. If the negative ones are smaller, it's probably safe to ignore them, but if they are large in magnitude, the results won't be useful. See the Notes section for more details. The smallest eigenvalue is -0.0007938958467101577 and the largest is 1.5119641963158101.\n",
      "  warn(\n"
     ]
    },
    {
     "data": {
      "image/png": "[encoded data removed]",
      "text/plain": [
       "<Figure size 432x288 with 2 Axes>"
      ]
     },
     "metadata": {
      "needs_background": "light"
     },
     "output_type": "display_data"
    }
   ],
   "source": [
    "choices = ('matching', 'aitchison', 'euclidean', 'generalized_unifrac', 'canberra', 'russellrao', 'braycurtis', 'cosine', 'jensenshannon', 'yule', 'weighted_normalized_unifrac', 'unweighted_unifrac', 'hamming', 'weighted_unifrac', 'cityblock', 'sokalmichener', 'seuclidean', 'rogerstanimoto', 'correlation', 'minkowski', 'kulsinski', 'chebyshev', 'sqeuclidean', 'sokalsneath', 'jaccard', 'dice', 'canberra_adkins')\n",
    "clustering_methods = ('nj', 'upgma')\n",
    "correlation_methods = ('pearson', 'spearman')\n",
    "\n",
    "sampling_depth = min_feature_count\n",
    "metric = 'braycurtis'\n",
    "clustering_method = clustering_methods[0]\n",
    "correlation_method = correlation_methods[1]\n",
    "\n",
    "beta_rar = beta_rarefaction(\n",
    "    table = tabs,\n",
    "    sampling_depth  = sampling_depth,\n",
    "    metadata = metadata_qa,\n",
    "    metric = metric,\n",
    "    clustering_method = clustering_method,\n",
    "    correlation_method = correlation_method,\n",
    ")"
   ]
  },
  {
   "cell_type": "code",
   "execution_count": 13,
   "id": "779770c8",
   "metadata": {
    "ExecuteTime": {
     "end_time": "2022-09-22T21:56:22.170995Z",
     "start_time": "2022-09-22T21:56:22.048827Z"
    },
    "execution": {
     "iopub.execute_input": "2022-09-30T11:05:54.673098Z",
     "iopub.status.busy": "2022-09-30T11:05:54.672792Z",
     "iopub.status.idle": "2022-09-30T11:05:54.788160Z",
     "shell.execute_reply": "2022-09-30T11:05:54.787569Z"
    },
    "papermill": {
     "duration": 0.13385,
     "end_time": "2022-09-30T11:05:54.790506",
     "exception": false,
     "start_time": "2022-09-30T11:05:54.656656",
     "status": "completed"
    },
    "tags": []
   },
   "outputs": [
    {
     "data": {
      "text/html": [
       "<div><img onload=\"(function(div, url){\n",
       "if (typeof require !== 'undefined') {\n",
       "    var baseURL = require.toUrl('').split('/').slice(0, -2).join('/');\n",
       "} else {\n",
       "    var baseURL = JSON.parse(\n",
       "        document.getElementById('jupyter-config-data').innerHTML\n",
       "    ).baseUrl.slice(0, -1);\n",
       "}\n",
       "url = baseURL + url;\n",
       "fetch(url).then(function(res) {\n",
       "    if (res.status === 404) {\n",
       "        div.innerHTML = 'Install QIIME 2 Jupyter extension with:<br />' +\n",
       "                        '<code>jupyter serverextension enable --py qiime2' +\n",
       "                        ' --sys-prefix</code><br />then restart your server.' +\n",
       "                        '<br /><br />(Interactive output not available on ' +\n",
       "                        'static notebook viewer services like nbviewer.)';\n",
       "    } else if (res.status === 409) {\n",
       "        div.innerHTML = 'Visualization no longer in scope. Re-run this cell' +\n",
       "                        ' to see the visualization.';\n",
       "    } else if (res.ok) {\n",
       "        url = res.url;\n",
       "        div.innerHTML = '<iframe src=\\'' + url + '\\' style=\\'' +\n",
       "                        'width: 100%; height: 700px; border: 0;\\'>' +\n",
       "                        '</iframe><hr />Open in a: <a href=\\'' + url + '\\'' +\n",
       "                        ' target=\\'_blank\\'>new window</a>'\n",
       "    } else {\n",
       "        div.innerHTML = 'Something has gone wrong. Check notebook server for' +\n",
       "                        ' errors.';\n",
       "    }\n",
       "});\n",
       "})(this.parentElement, '/qiime2/redirect?location=/tmp/qiime2-archive-mm2n2y5d')\" src=\"data:image/gif;base64,R0lGODlhAQABAIAAAP///wAAACH5BAEAAAAALAAAAAABAAEAAAICRAEAOw==\" /></div>"
      ],
      "text/plain": [
       "<visualization: Visualization uuid: 1627716b-3935-40b5-aeb6-c0b54a4e4c8c>"
      ]
     },
     "execution_count": 13,
     "metadata": {},
     "output_type": "execute_result"
    }
   ],
   "source": [
    "plot_tmp = f'{metric}-{clustering_method}-{correlation_method}-{sampling_depth}'\n",
    "beta_rarefaction_view_path = os.path.join(qiime_folder, f'beta-rarefaction-{plot_tmp}.qzv')\n",
    "beta_rar.visualization.save(beta_rarefaction_view_path)\n",
    "\n",
    "beta_rar.visualization"
   ]
  }
 ],
 "metadata": {
  "celltoolbar": "Edit Metadata",
  "kernelspec": {
   "display_name": "Python 3 (ipykernel)",
   "language": "python",
   "name": "python3"
  },
  "language_info": {
   "codemirror_mode": {
    "name": "ipython",
    "version": 3
   },
   "file_extension": ".py",
   "mimetype": "text/x-python",
   "name": "python",
   "nbconvert_exporter": "python",
   "pygments_lexer": "ipython3",
   "version": "3.8.12"
  },
  "papermill": {
   "default_parameters": {},
   "duration": 31.297567,
   "end_time": "2022-09-30T11:05:55.527746",
   "environment_variables": {},
   "exception": null,
   "input_path": "nb-steps/step-rarefaction-analysis.ipynb",
   "output_path": "/home/lauro/nupeb/rede-micro/redemicro-ana-flavia-nutri/experiments/ana-flavia-HSD-NCxHSD-NR/nb-executed-steps/step-rarefaction-analysis-ana-flavia-HSD-NCxHSD-NR.ipynb",
   "parameters": {
    "base_dir": "/home/lauro/nupeb/rede-micro/redemicro-ana-flavia-nutri",
    "class_col": "group-id",
    "classifier_file": "/home/lauro/nupeb/dados_brutos_rede_genoma/16S_classifiers_qiime2/silva-138-99-nb-classifier.qza",
    "experiment_name": "ana-flavia-HSD-NCxHSD-NR",
    "manifest_file": "/home/lauro/nupeb/rede-micro/redemicro-ana-flavia-nutri/data/raw/manifest/manifest-ana-flavia-HSD-NCxHSD-NR.csv",
    "metadata_file": "/home/lauro/nupeb/rede-micro/redemicro-ana-flavia-nutri/data/raw/metadata/metadata-ana-flavia-HSD-NCxHSD-NR.tsv",
    "overlap": 12,
    "phred": 20,
    "replace_files": false,
    "threads": 6,
    "trunc_f": 0,
    "trunc_r": 0
   },
   "start_time": "2022-09-30T11:05:24.230179",
   "version": "2.3.4"
  },
  "toc-autonumbering": false,
  "toc-showcode": false,
  "toc-showmarkdowntxt": false
 },
 "nbformat": 4,
 "nbformat_minor": 5
}