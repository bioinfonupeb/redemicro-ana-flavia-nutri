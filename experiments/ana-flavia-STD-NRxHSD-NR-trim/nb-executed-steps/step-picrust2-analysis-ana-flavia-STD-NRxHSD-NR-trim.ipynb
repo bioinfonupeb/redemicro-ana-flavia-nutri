{
 "cells": [
  {
   "cell_type": "markdown",
   "id": "0e7f2330",
   "metadata": {
    "ExecuteTime": {
     "end_time": "2022-09-22T19:36:33.828188Z",
     "start_time": "2022-09-22T19:36:33.817323Z"
    },
    "papermill": {
     "duration": 0.043508,
     "end_time": "2023-09-04T18:24:18.999623",
     "exception": false,
     "start_time": "2023-09-04T18:24:18.956115",
     "status": "completed"
    },
    "tags": []
   },
   "source": [
    "### STEP : PICRUST2 Analysis\n",
    "\n",
    "\n",
    "\n",
    "#### Example\n",
    "\n",
    "- [PICRUST2 tutorial](https://github.com/picrust/picrust2/wiki/q2-picrust2-Tutorial)\n",
    "- [Limitations](https://github.com/picrust/picrust2/wiki/Key-Limitations)\n",
    "\n",
    "\n",
    "#### Methods\n",
    "- [composition](https://docs.qiime2.org/2022.8/plugins/available/composition/)"
   ]
  },
  {
   "cell_type": "markdown",
   "id": "843debbf",
   "metadata": {
    "papermill": {
     "duration": 0.055305,
     "end_time": "2023-09-04T18:24:19.136209",
     "exception": false,
     "start_time": "2023-09-04T18:24:19.080904",
     "status": "completed"
    },
    "tags": []
   },
   "source": [
    "## Setup and settings"
   ]
  },
  {
   "cell_type": "code",
   "execution_count": 1,
   "id": "965e28e5",
   "metadata": {
    "ExecuteTime": {
     "end_time": "2022-11-09T19:20:47.478806Z",
     "start_time": "2022-11-09T19:20:40.457657Z"
    },
    "execution": {
     "iopub.execute_input": "2023-09-04T18:24:19.279838Z",
     "iopub.status.busy": "2023-09-04T18:24:19.279228Z",
     "iopub.status.idle": "2023-09-04T18:24:26.093298Z",
     "shell.execute_reply": "2023-09-04T18:24:26.092165Z"
    },
    "papermill": {
     "duration": 6.892523,
     "end_time": "2023-09-04T18:24:26.093546",
     "exception": false,
     "start_time": "2023-09-04T18:24:19.201023",
     "status": "completed"
    },
    "tags": []
   },
   "outputs": [],
   "source": [
    "# Importing packages\n",
    "import os\n",
    "import biom\n",
    "import pandas as pd\n",
    "from qiime2 import Artifact\n",
    "from qiime2 import Visualization\n",
    "from qiime2 import Metadata\n",
    "\n",
    "from qiime2.plugins.feature_table.visualizers import summarize\n",
    "\n",
    "from picrust2.pipeline import full_pipeline\n",
    "from picrust2.default import (default_ref_dir, default_tables, default_regroup_map, default_pathway_map)\n",
    "from qiime2.plugins import picrust2\n",
    "from qiime2.plugins.feature_table.methods import filter_samples\n",
    "from qiime2.plugins.feature_table.methods import filter_seqs\n",
    "\n",
    "%matplotlib inline"
   ]
  },
  {
   "cell_type": "markdown",
   "id": "530ceb60",
   "metadata": {
    "papermill": {
     "duration": 0.02955,
     "end_time": "2023-09-04T18:24:26.159541",
     "exception": false,
     "start_time": "2023-09-04T18:24:26.129991",
     "status": "completed"
    },
    "tags": []
   },
   "source": [
    "### Receiving the parameters\n",
    "\n",
    "The following cell can receive parameters using the [papermill](https://papermill.readthedocs.io/en/latest/) tool."
   ]
  },
  {
   "cell_type": "code",
   "execution_count": 2,
   "id": "18d874ea",
   "metadata": {
    "ExecuteTime": {
     "end_time": "2022-11-09T19:20:47.483140Z",
     "start_time": "2022-11-09T19:20:47.480386Z"
    },
    "execution": {
     "iopub.execute_input": "2023-09-04T18:24:26.224533Z",
     "iopub.status.busy": "2023-09-04T18:24:26.224024Z",
     "iopub.status.idle": "2023-09-04T18:24:26.227040Z",
     "shell.execute_reply": "2023-09-04T18:24:26.226605Z"
    },
    "papermill": {
     "duration": 0.037514,
     "end_time": "2023-09-04T18:24:26.227139",
     "exception": false,
     "start_time": "2023-09-04T18:24:26.189625",
     "status": "completed"
    },
    "tags": [
     "parameters"
    ]
   },
   "outputs": [],
   "source": [
    "metadata_file = '/home/lauro/nupeb/rede-micro/redemicro-miliane-nutri/data/raw/metadata/miliane-metadata-CxAC.tsv'\n",
    "base_dir = os.path.join('/', 'home', 'lauro', 'nupeb', 'rede-micro', 'redemicro-miliane-nutri')\n",
    "experiment_name = 'miliane-CxAC-trim'\n",
    "class_col = 'group-id'\n",
    "replace_files = False"
   ]
  },
  {
   "cell_type": "code",
   "execution_count": 3,
   "id": "6e101992",
   "metadata": {
    "execution": {
     "iopub.execute_input": "2023-09-04T18:24:26.335415Z",
     "iopub.status.busy": "2023-09-04T18:24:26.334903Z",
     "iopub.status.idle": "2023-09-04T18:24:26.337788Z",
     "shell.execute_reply": "2023-09-04T18:24:26.338196Z"
    },
    "papermill": {
     "duration": 0.039679,
     "end_time": "2023-09-04T18:24:26.338311",
     "exception": false,
     "start_time": "2023-09-04T18:24:26.298632",
     "status": "completed"
    },
    "tags": [
     "injected-parameters"
    ]
   },
   "outputs": [],
   "source": [
    "# Parameters\n",
    "experiment_name = \"ana-flavia-STD-NRxHSD-NR-trim\"\n",
    "base_dir = \"/home/lauro/nupeb/rede-micro/redemicro-ana-flavia-nutri\"\n",
    "manifest_file = \"/home/lauro/nupeb/rede-micro/redemicro-ana-flavia-nutri/data/raw/manifest/manifest-ana-flavia-STD-NRxHSD-NR.csv\"\n",
    "metadata_file = \"/home/lauro/nupeb/rede-micro/redemicro-ana-flavia-nutri/data/raw/metadata/metadata-ana-flavia-STD-NRxHSD-NR.tsv\"\n",
    "class_col = \"group-id\"\n",
    "classifier_file = \"/home/lauro/nupeb/rede-micro/models/silva-138-99-nb-classifier.qza\"\n",
    "top_n = 20\n",
    "replace_files = False\n",
    "phred = 20\n",
    "trunc_f = 0\n",
    "trunc_r = 0\n",
    "overlap = 12\n",
    "threads = 6\n",
    "trim = {\n",
    "    \"overlap\": 8,\n",
    "    \"forward_primer\": \"CCTACGGGRSGCAGCAG\",\n",
    "    \"reverse_primer\": \"GGACTACHVGGGTWTCTAAT\",\n",
    "}\n"
   ]
  },
  {
   "cell_type": "code",
   "execution_count": 4,
   "id": "f38617d9",
   "metadata": {
    "ExecuteTime": {
     "end_time": "2022-11-09T19:20:47.515942Z",
     "start_time": "2022-11-09T19:20:47.498345Z"
    },
    "execution": {
     "iopub.execute_input": "2023-09-04T18:24:26.403571Z",
     "iopub.status.busy": "2023-09-04T18:24:26.403099Z",
     "iopub.status.idle": "2023-09-04T18:24:26.405964Z",
     "shell.execute_reply": "2023-09-04T18:24:26.406356Z"
    },
    "papermill": {
     "duration": 0.037951,
     "end_time": "2023-09-04T18:24:26.406470",
     "exception": false,
     "start_time": "2023-09-04T18:24:26.368519",
     "status": "completed"
    },
    "tags": []
   },
   "outputs": [],
   "source": [
    "experiment_folder = os.path.abspath(os.path.join(base_dir, 'experiments', experiment_name))\n",
    "img_folder = os.path.abspath(os.path.join(experiment_folder, 'imgs'))"
   ]
  },
  {
   "cell_type": "markdown",
   "id": "ea9b90fb",
   "metadata": {
    "papermill": {
     "duration": 0.029349,
     "end_time": "2023-09-04T18:24:26.466943",
     "exception": false,
     "start_time": "2023-09-04T18:24:26.437594",
     "status": "completed"
    },
    "tags": []
   },
   "source": [
    "### Defining names, paths and flags"
   ]
  },
  {
   "cell_type": "code",
   "execution_count": 5,
   "id": "45727eef",
   "metadata": {
    "ExecuteTime": {
     "end_time": "2022-11-09T19:20:47.527937Z",
     "start_time": "2022-11-09T19:20:47.517696Z"
    },
    "execution": {
     "iopub.execute_input": "2023-09-04T18:24:26.529820Z",
     "iopub.status.busy": "2023-09-04T18:24:26.529339Z",
     "iopub.status.idle": "2023-09-04T18:24:26.532317Z",
     "shell.execute_reply": "2023-09-04T18:24:26.532718Z"
    },
    "papermill": {
     "duration": 0.03632,
     "end_time": "2023-09-04T18:24:26.532826",
     "exception": false,
     "start_time": "2023-09-04T18:24:26.496506",
     "status": "completed"
    },
    "tags": []
   },
   "outputs": [
    {
     "name": "stdout",
     "output_type": "stream",
     "text": [
      "New picrust2-artifacts folder path created: /home/lauro/nupeb/rede-micro/redemicro-ana-flavia-nutri/experiments/ana-flavia-STD-NRxHSD-NR-trim/picrust2\n"
     ]
    }
   ],
   "source": [
    "# QIIME2 Artifacts folder\n",
    "qiime_folder = os.path.join(experiment_folder, 'qiime-artifacts')\n",
    "\n",
    "# Input - DADA2 Artifacts\n",
    "dada2_tabs_path = os.path.join(qiime_folder, 'dada2-tabs.qza')\n",
    "dada2_reqs_path = os.path.join(qiime_folder, 'dada2-reps.qza')\n",
    "\n",
    "# PICRUST@ folder\n",
    "picrust2_folder = os.path.abspath(os.path.join(experiment_folder, 'picrust2'))\n",
    "\n",
    "# Create path if it not exist\n",
    "if not os.path.isdir(picrust2_folder):\n",
    "    os.makedirs(picrust2_folder)\n",
    "    print(f'New picrust2-artifacts folder path created: {picrust2_folder}')"
   ]
  },
  {
   "cell_type": "code",
   "execution_count": 6,
   "id": "4903e645",
   "metadata": {
    "ExecuteTime": {
     "end_time": "2022-11-09T19:20:47.539993Z",
     "start_time": "2022-11-09T19:20:47.529653Z"
    },
    "execution": {
     "iopub.execute_input": "2023-09-04T18:24:26.603473Z",
     "iopub.status.busy": "2023-09-04T18:24:26.602984Z",
     "iopub.status.idle": "2023-09-04T18:24:26.606121Z",
     "shell.execute_reply": "2023-09-04T18:24:26.606662Z"
    },
    "papermill": {
     "duration": 0.042247,
     "end_time": "2023-09-04T18:24:26.606810",
     "exception": false,
     "start_time": "2023-09-04T18:24:26.564563",
     "status": "completed"
    },
    "tags": []
   },
   "outputs": [],
   "source": [
    "# Define paths for metagenome function artifacts\n",
    "ec_path = os.path.join(picrust2_folder, 'ec-pred-metagen.qza')\n",
    "ko_path = os.path.join(picrust2_folder, 'ko-pred-metagen.qza')\n",
    "pathway_path = os.path.join(picrust2_folder, 'pathway-abundance.qza')\n",
    "\n",
    "# Define paths for metagenome function visualization artifacts\n",
    "ec_viz_path = ec_path[:-1]+'v'\n",
    "ko_viz_path = ko_path[:-1]+'v'\n",
    "pathway_viz_path = pathway_path[:-1]+'v'\n",
    "\n",
    "# Define paths for biom -> tsv files (function X sample)\n",
    "pathway_fpath = os.path.join(picrust2_folder, 'pathway.tsv')\n",
    "ec_fpath = os.path.join(picrust2_folder, 'ec.tsv')\n",
    "ko_fpath = os.path.join(picrust2_folder, 'ko.tsv')\n",
    "\n",
    "# Define paths for biom -> tsv files (function X sample) - with descriptions\n",
    "pathway_desc_fpath = os.path.join(picrust2_folder, 'pathway-desc.tsv')\n",
    "ec_desc_fpath = os.path.join(picrust2_folder, 'ec-desc.tsv')\n",
    "ko_desc_fpath = os.path.join(picrust2_folder, 'ko-desc.tsv')"
   ]
  },
  {
   "cell_type": "markdown",
   "id": "0999a1b2",
   "metadata": {
    "papermill": {
     "duration": 0.030239,
     "end_time": "2023-09-04T18:24:26.670549",
     "exception": false,
     "start_time": "2023-09-04T18:24:26.640310",
     "status": "completed"
    },
    "tags": []
   },
   "source": [
    "## Step execution\n",
    "\n",
    "### Load input files\n",
    "\n",
    "This Step import the QIIME2 `FeatureTable[Frequency]` Artifact and the `Metadata` file."
   ]
  },
  {
   "cell_type": "code",
   "execution_count": 7,
   "id": "8f299d1a",
   "metadata": {
    "ExecuteTime": {
     "end_time": "2022-11-09T19:20:47.610793Z",
     "start_time": "2022-11-09T19:20:47.541540Z"
    },
    "execution": {
     "iopub.execute_input": "2023-09-04T18:24:26.735757Z",
     "iopub.status.busy": "2023-09-04T18:24:26.735283Z",
     "iopub.status.idle": "2023-09-04T18:24:26.868108Z",
     "shell.execute_reply": "2023-09-04T18:24:26.867127Z"
    },
    "papermill": {
     "duration": 0.167556,
     "end_time": "2023-09-04T18:24:26.868337",
     "exception": false,
     "start_time": "2023-09-04T18:24:26.700781",
     "status": "completed"
    },
    "tags": []
   },
   "outputs": [],
   "source": [
    "#Load Metadata\n",
    "metadata_qa = Metadata.load(metadata_file)\n",
    "\n",
    "#Load FeatureTable[Frequency]\n",
    "tabs = Artifact.load(dada2_tabs_path)\n",
    "\n",
    "#Load FeatureTable[Sequence]\n",
    "seqs = Artifact.load(dada2_reqs_path)"
   ]
  },
  {
   "cell_type": "code",
   "execution_count": 8,
   "id": "9b699dee",
   "metadata": {
    "execution": {
     "iopub.execute_input": "2023-09-04T18:24:26.941603Z",
     "iopub.status.busy": "2023-09-04T18:24:26.941099Z",
     "iopub.status.idle": "2023-09-04T18:24:27.854704Z",
     "shell.execute_reply": "2023-09-04T18:24:27.853687Z"
    },
    "papermill": {
     "duration": 0.948205,
     "end_time": "2023-09-04T18:24:27.854941",
     "exception": false,
     "start_time": "2023-09-04T18:24:26.906736",
     "status": "completed"
    },
    "tags": []
   },
   "outputs": [],
   "source": [
    "# Filter FeatureTable[Frequency | RelativeFrequency | PresenceAbsence | Composition] based on Metadata sample ID values\n",
    "tabs = filter_samples(\n",
    "    table=tabs,\n",
    "    metadata=metadata_qa,\n",
    ").filtered_table\n",
    "# Filter SampleData[SequencesWithQuality | PairedEndSequencesWithQuality | JoinedSequencesWithQuality] based on Metadata sample ID values; returns FeatureData[Sequence | AlignedSequence]\n",
    "seqs = filter_seqs(\n",
    "    data=seqs,\n",
    "    table=tabs,\n",
    ").filtered_data"
   ]
  },
  {
   "cell_type": "markdown",
   "id": "4f1b06d4",
   "metadata": {
    "papermill": {
     "duration": 0.031709,
     "end_time": "2023-09-04T18:24:27.926236",
     "exception": false,
     "start_time": "2023-09-04T18:24:27.894527",
     "status": "completed"
    },
    "tags": []
   },
   "source": [
    "### Execute full pipelie\n",
    "\n",
    "The entire PICRUSt2 pipeline will be run using a single method, called `picrust2.methods.full_pipeline`. This method will run each of the 4 key steps: \n",
    "\n",
    "1. sequence placement\n",
    "2. hidden-state prediction of genomes\n",
    "3. metagenome prediction\n",
    "4. pathway-level predictions.\n",
    "\n",
    "More information on [Documentation](https://github.com/picrust/picrust2/wiki/Full-pipeline-script)."
   ]
  },
  {
   "cell_type": "code",
   "execution_count": 9,
   "id": "2c4f3874",
   "metadata": {
    "ExecuteTime": {
     "end_time": "2022-11-09T19:20:47.642417Z",
     "start_time": "2022-11-09T19:20:47.612547Z"
    },
    "execution": {
     "iopub.execute_input": "2023-09-04T18:24:27.995443Z",
     "iopub.status.busy": "2023-09-04T18:24:27.994943Z",
     "iopub.status.idle": "2023-09-04T18:32:03.760797Z",
     "shell.execute_reply": "2023-09-04T18:32:03.761736Z"
    },
    "papermill": {
     "duration": 455.804832,
     "end_time": "2023-09-04T18:32:03.762017",
     "exception": false,
     "start_time": "2023-09-04T18:24:27.957185",
     "status": "completed"
    },
    "scrolled": true,
    "tags": []
   },
   "outputs": [
    {
     "name": "stderr",
     "output_type": "stream",
     "text": [
      "1161 of 1161 sequence ids overlap between input table and FASTA.\n",
      "\n",
      "Placing sequences onto reference tree\n",
      "place_seqs.py --study_fasta /tmp/tmpyb9zc4r_/seqs.fna --ref_dir /home/lauro/anaconda3/envs/qiime2-2021.11/lib/python3.8/site-packages/picrust2/default_files/prokaryotic/pro_ref --out_tree /tmp/tmpyb9zc4r_/picrust2_out/out.tre --processes 6 --intermediate /tmp/tmpyb9zc4r_/picrust2_out/intermediate/place_seqs --min_align 0.8 --chunk_size 5000 --placement_tool sepp --verbose\n"
     ]
    },
    {
     "name": "stdout",
     "output_type": "stream",
     "text": [
      "\n",
      "['run_sepp.py', '--tree', '/home/lauro/anaconda3/envs/qiime2-2021.11/lib/python3.8/site-packages/picrust2/default_files/prokaryotic/pro_ref/pro_ref.tre', '--raxml', '/home/lauro/anaconda3/envs/qiime2-2021.11/lib/python3.8/site-packages/picrust2/default_files/prokaryotic/pro_ref/pro_ref.raxml_info', '--cpu', '6', '--molecule', 'dna', '--outdir', '/tmp/tmpyb9zc4r_/picrust2_out/intermediate/place_seqs/sepp_out', '-seed', '297834', '--alignment', '/home/lauro/anaconda3/envs/qiime2-2021.11/lib/python3.8/site-packages/picrust2/default_files/prokaryotic/pro_ref/pro_ref.fna', '--fragment', '/tmp/tmpyb9zc4r_/picrust2_out/intermediate/place_seqs/study_seqs_filtered.fasta']\n",
      "\n",
      "                                              ....      ....  \n",
      "                                             '' '||.   .||'   \n",
      "                                                  ||  ||      \n",
      "                                                  '|.|'       \n",
      "     ...'   ....   ... ...  ... ...   ....        .|'|.       \n",
      "    |  ||  '' .||   ||'  ||  ||'  || '' .||      .|'  ||      \n",
      "     |''   .|' ||   ||    |  ||    | .|' ||     .|'|.  ||     \n",
      "    '....  '|..'|'. ||...'   ||...'  '|..'|.    '||'    ||:.  \n",
      "    '....'          ||       ||                               \n",
      "                   ''''     ''''   v0.6.1 (c) 2017-2020\n",
      "                                   by Lucas Czech and Pierre Barbera\n",
      "\n",
      "Invocation:                        gappa examine graft --jplace-path /tmp/tmpyb9zc4r_/picrust2_out/intermediate/place_seqs/sepp_out/output_placement.json --fully-resolve --out-dir /tmp/tmpyb9zc4r_/picrust2_out/intermediate/place_seqs/sepp_out\n",
      "Command:                           gappa examine graft\n",
      "\n",
      "Input:\n",
      "  --jplace-path                    /tmp/tmpyb9zc4r_/picrust2_out/intermediate/place_seqs/sepp_out/output_placement.json\n",
      "\n",
      "Settings:\n",
      "  --fully-resolve                  true\n",
      "  --name-prefix\n",
      "\n",
      "Output:\n",
      "  --out-dir                        /tmp/tmpyb9zc4r_/picrust2_out/intermediate/place_seqs/sepp_out\n",
      "  --file-prefix                    \n",
      "  --file-suffix\n",
      "\n",
      "Global Options:\n",
      "  --allow-file-overwriting         false\n",
      "  --verbose                        false\n",
      "  --threads                        4\n",
      "  --log-file\n",
      "\n",
      "Run the following command to get the references that need to be cited:\n",
      "`gappa tools citation Czech2020-genesis-and-gappa`\n",
      "\n",
      "Started 2023-09-04 18:27:57\n",
      "\n",
      "Found 1 jplace file\n",
      "\n",
      "Finished 2023-09-04 18:27:58\n",
      "\n",
      "\n"
     ]
    },
    {
     "name": "stderr",
     "output_type": "stream",
     "text": [
      "hmmalign --trim --dna --mapali /home/lauro/anaconda3/envs/qiime2-2021.11/lib/python3.8/site-packages/picrust2/default_files/prokaryotic/pro_ref/pro_ref.fna --informat FASTA -o /tmp/tmpyb9zc4r_/picrust2_out/intermediate/place_seqs/query_align.stockholm /home/lauro/anaconda3/envs/qiime2-2021.11/lib/python3.8/site-packages/picrust2/default_files/prokaryotic/pro_ref/pro_ref.hmm /tmp/tmpyb9zc4r_/seqs.fna\n",
      "\n",
      "Raw input sequences ranged in length from 262 to 430\n",
      "\n",
      "run_sepp.py --tree /home/lauro/anaconda3/envs/qiime2-2021.11/lib/python3.8/site-packages/picrust2/default_files/prokaryotic/pro_ref/pro_ref.tre --raxml /home/lauro/anaconda3/envs/qiime2-2021.11/lib/python3.8/site-packages/picrust2/default_files/prokaryotic/pro_ref/pro_ref.raxml_info --cpu 6 --molecule dna --outdir /tmp/tmpyb9zc4r_/picrust2_out/intermediate/place_seqs/sepp_out -seed 297834 --alignment /home/lauro/anaconda3/envs/qiime2-2021.11/lib/python3.8/site-packages/picrust2/default_files/prokaryotic/pro_ref/pro_ref.fna --fragment /tmp/tmpyb9zc4r_/picrust2_out/intermediate/place_seqs/study_seqs_filtered.fasta\n",
      "[18:25:16] config.py (line 349):     INFO: Seed number: 297834\n",
      "[18:25:16] algorithm.py (line 258):     INFO: Reading input alignment: <_io.TextIOWrapper name='/home/lauro/anaconda3/envs/qiime2-2021.11/lib/python3.8/site-packages/picrust2/default_files/prokaryotic/pro_ref/pro_ref.fna' mode='r' encoding='UTF-8'>\n",
      "[18:25:16] algorithm.py (line 265):     INFO: Reading input tree: <_io.TextIOWrapper name='/home/lauro/anaconda3/envs/qiime2-2021.11/lib/python3.8/site-packages/picrust2/default_files/prokaryotic/pro_ref/pro_ref.tre' mode='r' encoding='UTF-8'>\n",
      "[18:25:17] algorithm.py (line 238):     INFO: Decomposition Sizes are set to alignment: 2000 placement: 2000\n",
      "[18:25:19] exhaustive.py (line 350):     INFO: Breaking into 16 placement subsets.\n",
      "[18:25:21] exhaustive.py (line 397):     INFO: Breaking into 16 alignment subsets.\n",
      "[18:25:21] filemgr.py (line 129):     INFO: Root temp directory built: /tmp/sepp/output.a3id3i7c\n",
      "[18:25:21] exhaustive.py (line 412):     INFO: Breaking each alignment subset into 3 fragment chunks.\n",
      "[18:25:22] jobs.py (line 131):     INFO: Finished hmmbuild Job with input: /tmp/sepp/output.a3id3i7c/root/P_3/A_3_0/hmmbuild.input.26f1susf.fasta\n",
      "[18:25:22] jobs.py (line 131):     INFO: Finished hmmbuild Job with input: /tmp/sepp/output.a3id3i7c/root/P_2/A_2_0/hmmbuild.input.emaq4nep.fasta\n",
      "[18:25:23] jobs.py (line 131):     INFO: Finished hmmbuild Job with input: /tmp/sepp/output.a3id3i7c/root/P_4/A_4_0/hmmbuild.input.c0addtdj.fasta\n",
      "[18:25:23] jobs.py (line 131):     INFO: Finished hmmbuild Job with input: /tmp/sepp/output.a3id3i7c/root/P_1/A_1_0/hmmbuild.input.ap_fpac0.fasta\n",
      "[18:25:23] jobs.py (line 131):     INFO: Finished hmmbuild Job with input: /tmp/sepp/output.a3id3i7c/root/P_0/A_0_0/hmmbuild.input.s737wtmy.fasta\n",
      "[18:25:23] jobs.py (line 131):     INFO: Finished hmmbuild Job with input: /tmp/sepp/output.a3id3i7c/root/P_5/A_5_0/hmmbuild.input.ucyhwux7.fasta\n",
      "[18:25:23] jobs.py (line 131):     INFO: Finished hmmbuild Job with input: /tmp/sepp/output.a3id3i7c/root/P_7/A_7_0/hmmbuild.input.tea2mgnj.fasta\n",
      "[18:25:23] jobs.py (line 131):     INFO: Finished hmmbuild Job with input: /tmp/sepp/output.a3id3i7c/root/P_6/A_6_0/hmmbuild.input.6rup85tz.fasta\n",
      "[18:25:23] jobs.py (line 131):     INFO: Finished hmmbuild Job with input: /tmp/sepp/output.a3id3i7c/root/P_10/A_10_0/hmmbuild.input.q63qg38q.fasta\n",
      "[18:25:23] jobs.py (line 131):     INFO: Finished hmmbuild Job with input: /tmp/sepp/output.a3id3i7c/root/P_8/A_8_0/hmmbuild.input.mb7ruhk0.fasta\n",
      "[18:25:24] jobs.py (line 131):     INFO: Finished hmmbuild Job with input: /tmp/sepp/output.a3id3i7c/root/P_9/A_9_0/hmmbuild.input.j9uewd97.fasta\n",
      "[18:25:24] jobs.py (line 131):     INFO: Finished hmmbuild Job with input: /tmp/sepp/output.a3id3i7c/root/P_11/A_11_0/hmmbuild.input.tt0k876x.fasta\n",
      "[18:25:24] jobs.py (line 131):     INFO: Finished hmmbuild Job with input: /tmp/sepp/output.a3id3i7c/root/P_12/A_12_0/hmmbuild.input.vi4k4pwx.fasta\n",
      "[18:25:24] jobs.py (line 131):     INFO: Finished hmmbuild Job with input: /tmp/sepp/output.a3id3i7c/root/P_15/A_15_0/hmmbuild.input.6sa63wd_.fasta\n",
      "[18:25:24] jobs.py (line 131):     INFO: Finished hmmbuild Job with input: /tmp/sepp/output.a3id3i7c/root/P_14/A_14_0/hmmbuild.input.w2tyd2zk.fasta\n",
      "[18:25:24] jobs.py (line 131):     INFO: Finished hmmbuild Job with input: /tmp/sepp/output.a3id3i7c/root/P_13/A_13_0/hmmbuild.input.83etnh1s.fasta\n",
      "[18:25:29] jobs.py (line 131):     INFO: Finished hmmsearch Job with input: model:/tmp/sepp/output.a3id3i7c/root/P_3/A_3_0/hmmbuild.model.iilvbwo1, fragments:/tmp/sepp/output.a3id3i7c/fragment_chunks/fragment_chunk_0kdy59hsl.fasta, elim:99999999, filter:False, output:/tmp/sepp/output.a3id3i7c/root/P_3/A_3_0/FC_3_0_0/hmmsearch.results.go76xh3z\n",
      "[18:25:30] jobs.py (line 131):     INFO: Finished hmmsearch Job with input: model:/tmp/sepp/output.a3id3i7c/root/P_2/A_2_0/hmmbuild.model.n9n54nl6, fragments:/tmp/sepp/output.a3id3i7c/fragment_chunks/fragment_chunk_1mv691ben.fasta, elim:99999999, filter:False, output:/tmp/sepp/output.a3id3i7c/root/P_2/A_2_0/FC_2_0_1/hmmsearch.results.rziism79\n",
      "[18:25:32] jobs.py (line 131):     INFO: Finished hmmsearch Job with input: model:/tmp/sepp/output.a3id3i7c/root/P_2/A_2_0/hmmbuild.model.n9n54nl6, fragments:/tmp/sepp/output.a3id3i7c/fragment_chunks/fragment_chunk_0kdy59hsl.fasta, elim:99999999, filter:False, output:/tmp/sepp/output.a3id3i7c/root/P_2/A_2_0/FC_2_0_0/hmmsearch.results.2rvaolqd\n",
      "[18:25:32] jobs.py (line 131):     INFO: Finished hmmsearch Job with input: model:/tmp/sepp/output.a3id3i7c/root/P_2/A_2_0/hmmbuild.model.n9n54nl6, fragments:/tmp/sepp/output.a3id3i7c/fragment_chunks/fragment_chunk_2l9vl80ua.fasta, elim:99999999, filter:False, output:/tmp/sepp/output.a3id3i7c/root/P_2/A_2_0/FC_2_0_2/hmmsearch.results.r4unhw99\n",
      "[18:25:32] jobs.py (line 131):     INFO: Finished hmmsearch Job with input: model:/tmp/sepp/output.a3id3i7c/root/P_3/A_3_0/hmmbuild.model.iilvbwo1, fragments:/tmp/sepp/output.a3id3i7c/fragment_chunks/fragment_chunk_1mv691ben.fasta, elim:99999999, filter:False, output:/tmp/sepp/output.a3id3i7c/root/P_3/A_3_0/FC_3_0_1/hmmsearch.results.d_iu6q1_\n",
      "[18:25:33] jobs.py (line 131):     INFO: Finished hmmsearch Job with input: model:/tmp/sepp/output.a3id3i7c/root/P_3/A_3_0/hmmbuild.model.iilvbwo1, fragments:/tmp/sepp/output.a3id3i7c/fragment_chunks/fragment_chunk_2l9vl80ua.fasta, elim:99999999, filter:False, output:/tmp/sepp/output.a3id3i7c/root/P_3/A_3_0/FC_3_0_2/hmmsearch.results.m3lna70g\n",
      "[18:25:37] jobs.py (line 131):     INFO: Finished hmmsearch Job with input: model:/tmp/sepp/output.a3id3i7c/root/P_1/A_1_0/hmmbuild.model.zplw762t, fragments:/tmp/sepp/output.a3id3i7c/fragment_chunks/fragment_chunk_0kdy59hsl.fasta, elim:99999999, filter:False, output:/tmp/sepp/output.a3id3i7c/root/P_1/A_1_0/FC_1_0_0/hmmsearch.results.gadyhqd8\n",
      "[18:25:37] jobs.py (line 131):     INFO: Finished hmmsearch Job with input: model:/tmp/sepp/output.a3id3i7c/root/P_4/A_4_0/hmmbuild.model.cy00az_4, fragments:/tmp/sepp/output.a3id3i7c/fragment_chunks/fragment_chunk_0kdy59hsl.fasta, elim:99999999, filter:False, output:/tmp/sepp/output.a3id3i7c/root/P_4/A_4_0/FC_4_0_0/hmmsearch.results.cx32pfg5\n",
      "[18:25:38] jobs.py (line 131):     INFO: Finished hmmsearch Job with input: model:/tmp/sepp/output.a3id3i7c/root/P_4/A_4_0/hmmbuild.model.cy00az_4, fragments:/tmp/sepp/output.a3id3i7c/fragment_chunks/fragment_chunk_1mv691ben.fasta, elim:99999999, filter:False, output:/tmp/sepp/output.a3id3i7c/root/P_4/A_4_0/FC_4_0_1/hmmsearch.results.x8x0lrtu\n",
      "[18:25:39] jobs.py (line 131):     INFO: Finished hmmsearch Job with input: model:/tmp/sepp/output.a3id3i7c/root/P_1/A_1_0/hmmbuild.model.zplw762t, fragments:/tmp/sepp/output.a3id3i7c/fragment_chunks/fragment_chunk_2l9vl80ua.fasta, elim:99999999, filter:False, output:/tmp/sepp/output.a3id3i7c/root/P_1/A_1_0/FC_1_0_2/hmmsearch.results.bejxkb_6\n",
      "[18:25:39] jobs.py (line 131):     INFO: Finished hmmsearch Job with input: model:/tmp/sepp/output.a3id3i7c/root/P_4/A_4_0/hmmbuild.model.cy00az_4, fragments:/tmp/sepp/output.a3id3i7c/fragment_chunks/fragment_chunk_2l9vl80ua.fasta, elim:99999999, filter:False, output:/tmp/sepp/output.a3id3i7c/root/P_4/A_4_0/FC_4_0_2/hmmsearch.results._8wp1vjg\n",
      "[18:25:41] jobs.py (line 131):     INFO: Finished hmmsearch Job with input: model:/tmp/sepp/output.a3id3i7c/root/P_1/A_1_0/hmmbuild.model.zplw762t, fragments:/tmp/sepp/output.a3id3i7c/fragment_chunks/fragment_chunk_1mv691ben.fasta, elim:99999999, filter:False, output:/tmp/sepp/output.a3id3i7c/root/P_1/A_1_0/FC_1_0_1/hmmsearch.results.v7_lzb2e\n",
      "[18:25:43] jobs.py (line 131):     INFO: Finished hmmsearch Job with input: model:/tmp/sepp/output.a3id3i7c/root/P_0/A_0_0/hmmbuild.model.o6h9vcwc, fragments:/tmp/sepp/output.a3id3i7c/fragment_chunks/fragment_chunk_0kdy59hsl.fasta, elim:99999999, filter:False, output:/tmp/sepp/output.a3id3i7c/root/P_0/A_0_0/FC_0_0_0/hmmsearch.results.r9hf9uhx\n",
      "[18:25:44] jobs.py (line 131):     INFO: Finished hmmsearch Job with input: model:/tmp/sepp/output.a3id3i7c/root/P_0/A_0_0/hmmbuild.model.o6h9vcwc, fragments:/tmp/sepp/output.a3id3i7c/fragment_chunks/fragment_chunk_2l9vl80ua.fasta, elim:99999999, filter:False, output:/tmp/sepp/output.a3id3i7c/root/P_0/A_0_0/FC_0_0_2/hmmsearch.results.8mnlxn_e\n",
      "[18:25:45] jobs.py (line 131):     INFO: Finished hmmsearch Job with input: model:/tmp/sepp/output.a3id3i7c/root/P_0/A_0_0/hmmbuild.model.o6h9vcwc, fragments:/tmp/sepp/output.a3id3i7c/fragment_chunks/fragment_chunk_1mv691ben.fasta, elim:99999999, filter:False, output:/tmp/sepp/output.a3id3i7c/root/P_0/A_0_0/FC_0_0_1/hmmsearch.results.pwxyrof7\n",
      "[18:25:46] jobs.py (line 131):     INFO: Finished hmmsearch Job with input: model:/tmp/sepp/output.a3id3i7c/root/P_5/A_5_0/hmmbuild.model.dquiwpqi, fragments:/tmp/sepp/output.a3id3i7c/fragment_chunks/fragment_chunk_0kdy59hsl.fasta, elim:99999999, filter:False, output:/tmp/sepp/output.a3id3i7c/root/P_5/A_5_0/FC_5_0_0/hmmsearch.results._d0tj_cj\n",
      "[18:25:47] jobs.py (line 131):     INFO: Finished hmmsearch Job with input: model:/tmp/sepp/output.a3id3i7c/root/P_5/A_5_0/hmmbuild.model.dquiwpqi, fragments:/tmp/sepp/output.a3id3i7c/fragment_chunks/fragment_chunk_1mv691ben.fasta, elim:99999999, filter:False, output:/tmp/sepp/output.a3id3i7c/root/P_5/A_5_0/FC_5_0_1/hmmsearch.results.frspomz2\n",
      "[18:25:48] jobs.py (line 131):     INFO: Finished hmmsearch Job with input: model:/tmp/sepp/output.a3id3i7c/root/P_5/A_5_0/hmmbuild.model.dquiwpqi, fragments:/tmp/sepp/output.a3id3i7c/fragment_chunks/fragment_chunk_2l9vl80ua.fasta, elim:99999999, filter:False, output:/tmp/sepp/output.a3id3i7c/root/P_5/A_5_0/FC_5_0_2/hmmsearch.results.dw6pb7no\n",
      "[18:25:51] jobs.py (line 131):     INFO: Finished hmmsearch Job with input: model:/tmp/sepp/output.a3id3i7c/root/P_7/A_7_0/hmmbuild.model.ecw3xfwt, fragments:/tmp/sepp/output.a3id3i7c/fragment_chunks/fragment_chunk_0kdy59hsl.fasta, elim:99999999, filter:False, output:/tmp/sepp/output.a3id3i7c/root/P_7/A_7_0/FC_7_0_0/hmmsearch.results.fwipbdqx\n",
      "[18:25:52] jobs.py (line 131):     INFO: Finished hmmsearch Job with input: model:/tmp/sepp/output.a3id3i7c/root/P_7/A_7_0/hmmbuild.model.ecw3xfwt, fragments:/tmp/sepp/output.a3id3i7c/fragment_chunks/fragment_chunk_1mv691ben.fasta, elim:99999999, filter:False, output:/tmp/sepp/output.a3id3i7c/root/P_7/A_7_0/FC_7_0_1/hmmsearch.results.rnimy3oh\n",
      "[18:25:52] jobs.py (line 131):     INFO: Finished hmmsearch Job with input: model:/tmp/sepp/output.a3id3i7c/root/P_7/A_7_0/hmmbuild.model.ecw3xfwt, fragments:/tmp/sepp/output.a3id3i7c/fragment_chunks/fragment_chunk_2l9vl80ua.fasta, elim:99999999, filter:False, output:/tmp/sepp/output.a3id3i7c/root/P_7/A_7_0/FC_7_0_2/hmmsearch.results.qesf2dr9\n",
      "[18:25:53] jobs.py (line 131):     INFO: Finished hmmsearch Job with input: model:/tmp/sepp/output.a3id3i7c/root/P_6/A_6_0/hmmbuild.model.9p9pwofj, fragments:/tmp/sepp/output.a3id3i7c/fragment_chunks/fragment_chunk_0kdy59hsl.fasta, elim:99999999, filter:False, output:/tmp/sepp/output.a3id3i7c/root/P_6/A_6_0/FC_6_0_0/hmmsearch.results.xfzk497i\n",
      "[18:25:55] jobs.py (line 131):     INFO: Finished hmmsearch Job with input: model:/tmp/sepp/output.a3id3i7c/root/P_6/A_6_0/hmmbuild.model.9p9pwofj, fragments:/tmp/sepp/output.a3id3i7c/fragment_chunks/fragment_chunk_1mv691ben.fasta, elim:99999999, filter:False, output:/tmp/sepp/output.a3id3i7c/root/P_6/A_6_0/FC_6_0_1/hmmsearch.results.bs5sfpsh\n",
      "[18:25:55] jobs.py (line 131):     INFO: Finished hmmsearch Job with input: model:/tmp/sepp/output.a3id3i7c/root/P_6/A_6_0/hmmbuild.model.9p9pwofj, fragments:/tmp/sepp/output.a3id3i7c/fragment_chunks/fragment_chunk_2l9vl80ua.fasta, elim:99999999, filter:False, output:/tmp/sepp/output.a3id3i7c/root/P_6/A_6_0/FC_6_0_2/hmmsearch.results.ni4lt2ju\n",
      "[18:25:57] jobs.py (line 131):     INFO: Finished hmmsearch Job with input: model:/tmp/sepp/output.a3id3i7c/root/P_10/A_10_0/hmmbuild.model.8m7c7ggc, fragments:/tmp/sepp/output.a3id3i7c/fragment_chunks/fragment_chunk_0kdy59hsl.fasta, elim:99999999, filter:False, output:/tmp/sepp/output.a3id3i7c/root/P_10/A_10_0/FC_10_0_0/hmmsearch.results.np1byt1a\n",
      "[18:25:58] jobs.py (line 131):     INFO: Finished hmmsearch Job with input: model:/tmp/sepp/output.a3id3i7c/root/P_10/A_10_0/hmmbuild.model.8m7c7ggc, fragments:/tmp/sepp/output.a3id3i7c/fragment_chunks/fragment_chunk_1mv691ben.fasta, elim:99999999, filter:False, output:/tmp/sepp/output.a3id3i7c/root/P_10/A_10_0/FC_10_0_1/hmmsearch.results.hm94d_ve\n",
      "[18:26:00] jobs.py (line 131):     INFO: Finished hmmsearch Job with input: model:/tmp/sepp/output.a3id3i7c/root/P_10/A_10_0/hmmbuild.model.8m7c7ggc, fragments:/tmp/sepp/output.a3id3i7c/fragment_chunks/fragment_chunk_2l9vl80ua.fasta, elim:99999999, filter:False, output:/tmp/sepp/output.a3id3i7c/root/P_10/A_10_0/FC_10_0_2/hmmsearch.results.3h6kool8\n",
      "[18:26:01] jobs.py (line 131):     INFO: Finished hmmsearch Job with input: model:/tmp/sepp/output.a3id3i7c/root/P_8/A_8_0/hmmbuild.model.v5kswvly, fragments:/tmp/sepp/output.a3id3i7c/fragment_chunks/fragment_chunk_0kdy59hsl.fasta, elim:99999999, filter:False, output:/tmp/sepp/output.a3id3i7c/root/P_8/A_8_0/FC_8_0_0/hmmsearch.results.fhl7t9ik\n",
      "[18:26:02] jobs.py (line 131):     INFO: Finished hmmsearch Job with input: model:/tmp/sepp/output.a3id3i7c/root/P_8/A_8_0/hmmbuild.model.v5kswvly, fragments:/tmp/sepp/output.a3id3i7c/fragment_chunks/fragment_chunk_2l9vl80ua.fasta, elim:99999999, filter:False, output:/tmp/sepp/output.a3id3i7c/root/P_8/A_8_0/FC_8_0_2/hmmsearch.results.qbbnrt27\n",
      "[18:26:03] jobs.py (line 131):     INFO: Finished hmmsearch Job with input: model:/tmp/sepp/output.a3id3i7c/root/P_8/A_8_0/hmmbuild.model.v5kswvly, fragments:/tmp/sepp/output.a3id3i7c/fragment_chunks/fragment_chunk_1mv691ben.fasta, elim:99999999, filter:False, output:/tmp/sepp/output.a3id3i7c/root/P_8/A_8_0/FC_8_0_1/hmmsearch.results.stouqjdn\n",
      "[18:26:04] jobs.py (line 131):     INFO: Finished hmmsearch Job with input: model:/tmp/sepp/output.a3id3i7c/root/P_9/A_9_0/hmmbuild.model.l67735ia, fragments:/tmp/sepp/output.a3id3i7c/fragment_chunks/fragment_chunk_0kdy59hsl.fasta, elim:99999999, filter:False, output:/tmp/sepp/output.a3id3i7c/root/P_9/A_9_0/FC_9_0_0/hmmsearch.results.msgemw2p\n",
      "[18:26:06] jobs.py (line 131):     INFO: Finished hmmsearch Job with input: model:/tmp/sepp/output.a3id3i7c/root/P_9/A_9_0/hmmbuild.model.l67735ia, fragments:/tmp/sepp/output.a3id3i7c/fragment_chunks/fragment_chunk_2l9vl80ua.fasta, elim:99999999, filter:False, output:/tmp/sepp/output.a3id3i7c/root/P_9/A_9_0/FC_9_0_2/hmmsearch.results.g5uahtsy\n",
      "[18:26:07] jobs.py (line 131):     INFO: Finished hmmsearch Job with input: model:/tmp/sepp/output.a3id3i7c/root/P_9/A_9_0/hmmbuild.model.l67735ia, fragments:/tmp/sepp/output.a3id3i7c/fragment_chunks/fragment_chunk_1mv691ben.fasta, elim:99999999, filter:False, output:/tmp/sepp/output.a3id3i7c/root/P_9/A_9_0/FC_9_0_1/hmmsearch.results.kqvs2kyl\n",
      "[18:26:08] jobs.py (line 131):     INFO: Finished hmmsearch Job with input: model:/tmp/sepp/output.a3id3i7c/root/P_11/A_11_0/hmmbuild.model.kf9u4f1v, fragments:/tmp/sepp/output.a3id3i7c/fragment_chunks/fragment_chunk_0kdy59hsl.fasta, elim:99999999, filter:False, output:/tmp/sepp/output.a3id3i7c/root/P_11/A_11_0/FC_11_0_0/hmmsearch.results.f9sm714p\n",
      "[18:26:10] jobs.py (line 131):     INFO: Finished hmmsearch Job with input: model:/tmp/sepp/output.a3id3i7c/root/P_11/A_11_0/hmmbuild.model.kf9u4f1v, fragments:/tmp/sepp/output.a3id3i7c/fragment_chunks/fragment_chunk_2l9vl80ua.fasta, elim:99999999, filter:False, output:/tmp/sepp/output.a3id3i7c/root/P_11/A_11_0/FC_11_0_2/hmmsearch.results.2o8c361i\n",
      "[18:26:10] jobs.py (line 131):     INFO: Finished hmmsearch Job with input: model:/tmp/sepp/output.a3id3i7c/root/P_11/A_11_0/hmmbuild.model.kf9u4f1v, fragments:/tmp/sepp/output.a3id3i7c/fragment_chunks/fragment_chunk_1mv691ben.fasta, elim:99999999, filter:False, output:/tmp/sepp/output.a3id3i7c/root/P_11/A_11_0/FC_11_0_1/hmmsearch.results.j0ylg_92\n",
      "[18:26:12] jobs.py (line 131):     INFO: Finished hmmsearch Job with input: model:/tmp/sepp/output.a3id3i7c/root/P_12/A_12_0/hmmbuild.model.pe10kfv5, fragments:/tmp/sepp/output.a3id3i7c/fragment_chunks/fragment_chunk_0kdy59hsl.fasta, elim:99999999, filter:False, output:/tmp/sepp/output.a3id3i7c/root/P_12/A_12_0/FC_12_0_0/hmmsearch.results.92uavl6o\n",
      "[18:26:13] jobs.py (line 131):     INFO: Finished hmmsearch Job with input: model:/tmp/sepp/output.a3id3i7c/root/P_12/A_12_0/hmmbuild.model.pe10kfv5, fragments:/tmp/sepp/output.a3id3i7c/fragment_chunks/fragment_chunk_1mv691ben.fasta, elim:99999999, filter:False, output:/tmp/sepp/output.a3id3i7c/root/P_12/A_12_0/FC_12_0_1/hmmsearch.results.7ck_3bsk\n",
      "[18:26:14] jobs.py (line 131):     INFO: Finished hmmsearch Job with input: model:/tmp/sepp/output.a3id3i7c/root/P_12/A_12_0/hmmbuild.model.pe10kfv5, fragments:/tmp/sepp/output.a3id3i7c/fragment_chunks/fragment_chunk_2l9vl80ua.fasta, elim:99999999, filter:False, output:/tmp/sepp/output.a3id3i7c/root/P_12/A_12_0/FC_12_0_2/hmmsearch.results.3qejf_0x\n",
      "[18:26:15] jobs.py (line 131):     INFO: Finished hmmsearch Job with input: model:/tmp/sepp/output.a3id3i7c/root/P_15/A_15_0/hmmbuild.model.y5onx10y, fragments:/tmp/sepp/output.a3id3i7c/fragment_chunks/fragment_chunk_0kdy59hsl.fasta, elim:99999999, filter:False, output:/tmp/sepp/output.a3id3i7c/root/P_15/A_15_0/FC_15_0_0/hmmsearch.results.r_tts16i\n",
      "[18:26:18] jobs.py (line 131):     INFO: Finished hmmsearch Job with input: model:/tmp/sepp/output.a3id3i7c/root/P_15/A_15_0/hmmbuild.model.y5onx10y, fragments:/tmp/sepp/output.a3id3i7c/fragment_chunks/fragment_chunk_1mv691ben.fasta, elim:99999999, filter:False, output:/tmp/sepp/output.a3id3i7c/root/P_15/A_15_0/FC_15_0_1/hmmsearch.results.xtj1f77h\n",
      "[18:26:19] jobs.py (line 131):     INFO: Finished hmmsearch Job with input: model:/tmp/sepp/output.a3id3i7c/root/P_15/A_15_0/hmmbuild.model.y5onx10y, fragments:/tmp/sepp/output.a3id3i7c/fragment_chunks/fragment_chunk_2l9vl80ua.fasta, elim:99999999, filter:False, output:/tmp/sepp/output.a3id3i7c/root/P_15/A_15_0/FC_15_0_2/hmmsearch.results.rqfwx53l\n",
      "[18:26:19] jobs.py (line 131):     INFO: Finished hmmsearch Job with input: model:/tmp/sepp/output.a3id3i7c/root/P_14/A_14_0/hmmbuild.model.nyz25qty, fragments:/tmp/sepp/output.a3id3i7c/fragment_chunks/fragment_chunk_0kdy59hsl.fasta, elim:99999999, filter:False, output:/tmp/sepp/output.a3id3i7c/root/P_14/A_14_0/FC_14_0_0/hmmsearch.results.vwy2j1px\n",
      "[18:26:19] jobs.py (line 131):     INFO: Finished hmmsearch Job with input: model:/tmp/sepp/output.a3id3i7c/root/P_14/A_14_0/hmmbuild.model.nyz25qty, fragments:/tmp/sepp/output.a3id3i7c/fragment_chunks/fragment_chunk_1mv691ben.fasta, elim:99999999, filter:False, output:/tmp/sepp/output.a3id3i7c/root/P_14/A_14_0/FC_14_0_1/hmmsearch.results.snoem4es\n",
      "[18:26:20] jobs.py (line 131):     INFO: Finished hmmsearch Job with input: model:/tmp/sepp/output.a3id3i7c/root/P_14/A_14_0/hmmbuild.model.nyz25qty, fragments:/tmp/sepp/output.a3id3i7c/fragment_chunks/fragment_chunk_2l9vl80ua.fasta, elim:99999999, filter:False, output:/tmp/sepp/output.a3id3i7c/root/P_14/A_14_0/FC_14_0_2/hmmsearch.results.s_k15323\n",
      "[18:26:22] jobs.py (line 131):     INFO: Finished hmmsearch Job with input: model:/tmp/sepp/output.a3id3i7c/root/P_13/A_13_0/hmmbuild.model.bugnf27e, fragments:/tmp/sepp/output.a3id3i7c/fragment_chunks/fragment_chunk_0kdy59hsl.fasta, elim:99999999, filter:False, output:/tmp/sepp/output.a3id3i7c/root/P_13/A_13_0/FC_13_0_0/hmmsearch.results.n8jl2w4a\n",
      "[18:26:24] jobs.py (line 131):     INFO: Finished hmmsearch Job with input: model:/tmp/sepp/output.a3id3i7c/root/P_13/A_13_0/hmmbuild.model.bugnf27e, fragments:/tmp/sepp/output.a3id3i7c/fragment_chunks/fragment_chunk_1mv691ben.fasta, elim:99999999, filter:False, output:/tmp/sepp/output.a3id3i7c/root/P_13/A_13_0/FC_13_0_1/hmmsearch.results.p8vky8xt\n",
      "[18:26:24] jobs.py (line 131):     INFO: Finished hmmsearch Job with input: model:/tmp/sepp/output.a3id3i7c/root/P_13/A_13_0/hmmbuild.model.bugnf27e, fragments:/tmp/sepp/output.a3id3i7c/fragment_chunks/fragment_chunk_2l9vl80ua.fasta, elim:99999999, filter:False, output:/tmp/sepp/output.a3id3i7c/root/P_13/A_13_0/FC_13_0_2/hmmsearch.results.u6tg7u1j\n",
      "[18:26:24] exhaustive.py (line 80):  WARNING: Fragments [] are not scored against any subset\n",
      "[18:26:24] exhaustive.py (line 151):     INFO: Merging sub-alignments for placement problem : P_0.\n",
      "[18:26:24] jobs.py (line 131):     INFO: Finished hmmalign Job with input: model:/tmp/sepp/output.a3id3i7c/root/P_1/A_1_0/hmmbuild.model.zplw762t, fragments:/tmp/sepp/output.a3id3i7c/root/P_1/A_1_0/FC_1_0_2/hmmalign.frag.6icwrue9.fasta, trim:False, base_alignment:/tmp/sepp/output.a3id3i7c/root/P_1/A_1_0/hmmbuild.input.ap_fpac0.fasta\n",
      "[18:26:24] jobs.py (line 131):     INFO: Finished hmmalign Job with input: model:/tmp/sepp/output.a3id3i7c/root/P_5/A_5_0/hmmbuild.model.dquiwpqi, fragments:/tmp/sepp/output.a3id3i7c/root/P_5/A_5_0/FC_5_0_2/hmmalign.frag._yw_g3_3.fasta, trim:False, base_alignment:/tmp/sepp/output.a3id3i7c/root/P_5/A_5_0/hmmbuild.input.ucyhwux7.fasta\n",
      "[18:26:24] jobs.py (line 131):     INFO: Finished hmmalign Job with input: model:/tmp/sepp/output.a3id3i7c/root/P_1/A_1_0/hmmbuild.model.zplw762t, fragments:/tmp/sepp/output.a3id3i7c/root/P_1/A_1_0/FC_1_0_0/hmmalign.frag.__rq5rvo.fasta, trim:False, base_alignment:/tmp/sepp/output.a3id3i7c/root/P_1/A_1_0/hmmbuild.input.ap_fpac0.fasta\n",
      "[18:26:24] jobs.py (line 131):     INFO: Finished hmmalign Job with input: model:/tmp/sepp/output.a3id3i7c/root/P_1/A_1_0/hmmbuild.model.zplw762t, fragments:/tmp/sepp/output.a3id3i7c/root/P_1/A_1_0/FC_1_0_1/hmmalign.frag.2boo8dv3.fasta, trim:False, base_alignment:/tmp/sepp/output.a3id3i7c/root/P_1/A_1_0/hmmbuild.input.ap_fpac0.fasta\n",
      "[18:26:24] jobs.py (line 131):     INFO: Finished hmmalign Job with input: model:/tmp/sepp/output.a3id3i7c/root/P_5/A_5_0/hmmbuild.model.dquiwpqi, fragments:/tmp/sepp/output.a3id3i7c/root/P_5/A_5_0/FC_5_0_0/hmmalign.frag._qgd5hz0.fasta, trim:False, base_alignment:/tmp/sepp/output.a3id3i7c/root/P_5/A_5_0/hmmbuild.input.ucyhwux7.fasta\n",
      "[18:26:24] jobs.py (line 131):     INFO: Finished hmmalign Job with input: model:/tmp/sepp/output.a3id3i7c/root/P_5/A_5_0/hmmbuild.model.dquiwpqi, fragments:/tmp/sepp/output.a3id3i7c/root/P_5/A_5_0/FC_5_0_1/hmmalign.frag.bjczfata.fasta, trim:False, base_alignment:/tmp/sepp/output.a3id3i7c/root/P_5/A_5_0/hmmbuild.input.ucyhwux7.fasta\n",
      "[18:26:24] exhaustive.py (line 151):     INFO: Merging sub-alignments for placement problem : P_2.\n",
      "[18:26:24] jobs.py (line 131):     INFO: Finished hmmalign Job with input: model:/tmp/sepp/output.a3id3i7c/root/P_6/A_6_0/hmmbuild.model.9p9pwofj, fragments:/tmp/sepp/output.a3id3i7c/root/P_6/A_6_0/FC_6_0_1/hmmalign.frag.fgob0ycu.fasta, trim:False, base_alignment:/tmp/sepp/output.a3id3i7c/root/P_6/A_6_0/hmmbuild.input.6rup85tz.fasta\n",
      "[18:26:24] exhaustive.py (line 151):     INFO: Merging sub-alignments for placement problem : P_3.\n",
      "[18:26:24] jobs.py (line 131):     INFO: Finished hmmalign Job with input: model:/tmp/sepp/output.a3id3i7c/root/P_6/A_6_0/hmmbuild.model.9p9pwofj, fragments:/tmp/sepp/output.a3id3i7c/root/P_6/A_6_0/FC_6_0_0/hmmalign.frag.5cf35vvi.fasta, trim:False, base_alignment:/tmp/sepp/output.a3id3i7c/root/P_6/A_6_0/hmmbuild.input.6rup85tz.fasta\n",
      "[18:26:24] jobs.py (line 131):     INFO: Finished hmmalign Job with input: model:/tmp/sepp/output.a3id3i7c/root/P_6/A_6_0/hmmbuild.model.9p9pwofj, fragments:/tmp/sepp/output.a3id3i7c/root/P_6/A_6_0/FC_6_0_2/hmmalign.frag.ch6ngr7h.fasta, trim:False, base_alignment:/tmp/sepp/output.a3id3i7c/root/P_6/A_6_0/hmmbuild.input.6rup85tz.fasta\n",
      "[18:26:24] jobs.py (line 131):     INFO: Finished hmmalign Job with input: model:/tmp/sepp/output.a3id3i7c/root/P_7/A_7_0/hmmbuild.model.ecw3xfwt, fragments:/tmp/sepp/output.a3id3i7c/root/P_7/A_7_0/FC_7_0_1/hmmalign.frag.ybc0je2q.fasta, trim:False, base_alignment:/tmp/sepp/output.a3id3i7c/root/P_7/A_7_0/hmmbuild.input.tea2mgnj.fasta\n",
      "[18:26:24] jobs.py (line 131):     INFO: Finished hmmalign Job with input: model:/tmp/sepp/output.a3id3i7c/root/P_7/A_7_0/hmmbuild.model.ecw3xfwt, fragments:/tmp/sepp/output.a3id3i7c/root/P_7/A_7_0/FC_7_0_2/hmmalign.frag.wor62w2_.fasta, trim:False, base_alignment:/tmp/sepp/output.a3id3i7c/root/P_7/A_7_0/hmmbuild.input.tea2mgnj.fasta\n",
      "[18:26:24] jobs.py (line 131):     INFO: Finished hmmalign Job with input: model:/tmp/sepp/output.a3id3i7c/root/P_7/A_7_0/hmmbuild.model.ecw3xfwt, fragments:/tmp/sepp/output.a3id3i7c/root/P_7/A_7_0/FC_7_0_0/hmmalign.frag.jq8y9uio.fasta, trim:False, base_alignment:/tmp/sepp/output.a3id3i7c/root/P_7/A_7_0/hmmbuild.input.tea2mgnj.fasta\n",
      "[18:26:24] exhaustive.py (line 151):     INFO: Merging sub-alignments for placement problem : P_4.\n",
      "[18:26:24] jobs.py (line 131):     INFO: Finished hmmalign Job with input: model:/tmp/sepp/output.a3id3i7c/root/P_8/A_8_0/hmmbuild.model.v5kswvly, fragments:/tmp/sepp/output.a3id3i7c/root/P_8/A_8_0/FC_8_0_0/hmmalign.frag.30qjsegb.fasta, trim:False, base_alignment:/tmp/sepp/output.a3id3i7c/root/P_8/A_8_0/hmmbuild.input.mb7ruhk0.fasta\n",
      "[18:26:24] jobs.py (line 131):     INFO: Finished hmmalign Job with input: model:/tmp/sepp/output.a3id3i7c/root/P_8/A_8_0/hmmbuild.model.v5kswvly, fragments:/tmp/sepp/output.a3id3i7c/root/P_8/A_8_0/FC_8_0_2/hmmalign.frag.nu3uwrs2.fasta, trim:False, base_alignment:/tmp/sepp/output.a3id3i7c/root/P_8/A_8_0/hmmbuild.input.mb7ruhk0.fasta\n",
      "[18:26:24] jobs.py (line 131):     INFO: Finished hmmalign Job with input: model:/tmp/sepp/output.a3id3i7c/root/P_8/A_8_0/hmmbuild.model.v5kswvly, fragments:/tmp/sepp/output.a3id3i7c/root/P_8/A_8_0/FC_8_0_1/hmmalign.frag.fhlz4xua.fasta, trim:False, base_alignment:/tmp/sepp/output.a3id3i7c/root/P_8/A_8_0/hmmbuild.input.mb7ruhk0.fasta\n",
      "[18:26:24] exhaustive.py (line 151):     INFO: Merging sub-alignments for placement problem : P_1.\n",
      "[18:26:24] alignment.py (line 556):     INFO: Merging extension sto file (/tmp/sepp/output.a3id3i7c/root/P_1/A_1_0/FC_1_0_0/hmmalign.results.8jskys62) into base alignment (/tmp/sepp/output.a3id3i7c/root/P_1/A_1_0/hmmbuild.input.ap_fpac0.fasta).\n",
      "[18:26:24] alignment.py (line 556):     INFO: Merging extension sto file (/tmp/sepp/output.a3id3i7c/root/P_1/A_1_0/FC_1_0_1/hmmalign.results.yffn4z5q) into base alignment (/tmp/sepp/output.a3id3i7c/root/P_1/A_1_0/hmmbuild.input.ap_fpac0.fasta).\n",
      "[18:26:25] alignment.py (line 556):     INFO: Merging extension sto file (/tmp/sepp/output.a3id3i7c/root/P_1/A_1_0/FC_1_0_2/hmmalign.results.e3lgeevc) into base alignment (/tmp/sepp/output.a3id3i7c/root/P_1/A_1_0/hmmbuild.input.ap_fpac0.fasta).\n",
      "[18:26:25] jobs.py (line 131):     INFO: Finished hmmalign Job with input: model:/tmp/sepp/output.a3id3i7c/root/P_10/A_10_0/hmmbuild.model.8m7c7ggc, fragments:/tmp/sepp/output.a3id3i7c/root/P_10/A_10_0/FC_10_0_1/hmmalign.frag.uclcfpdc.fasta, trim:False, base_alignment:/tmp/sepp/output.a3id3i7c/root/P_10/A_10_0/hmmbuild.input.q63qg38q.fasta\n",
      "[18:26:25] jobs.py (line 131):     INFO: Finished hmmalign Job with input: model:/tmp/sepp/output.a3id3i7c/root/P_10/A_10_0/hmmbuild.model.8m7c7ggc, fragments:/tmp/sepp/output.a3id3i7c/root/P_10/A_10_0/FC_10_0_0/hmmalign.frag.fk0xbjmo.fasta, trim:False, base_alignment:/tmp/sepp/output.a3id3i7c/root/P_10/A_10_0/hmmbuild.input.q63qg38q.fasta\n",
      "[18:26:25] exhaustive.py (line 151):     INFO: Merging sub-alignments for placement problem : P_5.\n",
      "[18:26:25] alignment.py (line 556):     INFO: Merging extension sto file (/tmp/sepp/output.a3id3i7c/root/P_5/A_5_0/FC_5_0_0/hmmalign.results.tt2qn0ow) into base alignment (/tmp/sepp/output.a3id3i7c/root/P_5/A_5_0/hmmbuild.input.ucyhwux7.fasta).\n",
      "[18:26:25] alignment.py (line 556):     INFO: Merging extension sto file (/tmp/sepp/output.a3id3i7c/root/P_5/A_5_0/FC_5_0_1/hmmalign.results.6_qczflr) into base alignment (/tmp/sepp/output.a3id3i7c/root/P_5/A_5_0/hmmbuild.input.ucyhwux7.fasta).\n",
      "[18:26:25] jobs.py (line 131):     INFO: Finished hmmalign Job with input: model:/tmp/sepp/output.a3id3i7c/root/P_10/A_10_0/hmmbuild.model.8m7c7ggc, fragments:/tmp/sepp/output.a3id3i7c/root/P_10/A_10_0/FC_10_0_2/hmmalign.frag.cc6v2th5.fasta, trim:False, base_alignment:/tmp/sepp/output.a3id3i7c/root/P_10/A_10_0/hmmbuild.input.q63qg38q.fasta\n",
      "[18:26:25] alignment.py (line 556):     INFO: Merging extension sto file (/tmp/sepp/output.a3id3i7c/root/P_5/A_5_0/FC_5_0_2/hmmalign.results.khi8xn5s) into base alignment (/tmp/sepp/output.a3id3i7c/root/P_5/A_5_0/hmmbuild.input.ucyhwux7.fasta).\n",
      "[18:26:25] exhaustive.py (line 151):     INFO: Merging sub-alignments for placement problem : P_6.\n",
      "[18:26:25] alignment.py (line 556):     INFO: Merging extension sto file (/tmp/sepp/output.a3id3i7c/root/P_6/A_6_0/FC_6_0_0/hmmalign.results.naiu1l7v) into base alignment (/tmp/sepp/output.a3id3i7c/root/P_6/A_6_0/hmmbuild.input.6rup85tz.fasta).\n",
      "[18:26:25] alignment.py (line 556):     INFO: Merging extension sto file (/tmp/sepp/output.a3id3i7c/root/P_6/A_6_0/FC_6_0_1/hmmalign.results.tw_dratj) into base alignment (/tmp/sepp/output.a3id3i7c/root/P_6/A_6_0/hmmbuild.input.6rup85tz.fasta).\n",
      "[18:26:25] alignment.py (line 556):     INFO: Merging extension sto file (/tmp/sepp/output.a3id3i7c/root/P_6/A_6_0/FC_6_0_2/hmmalign.results.s7y5yhc9) into base alignment (/tmp/sepp/output.a3id3i7c/root/P_6/A_6_0/hmmbuild.input.6rup85tz.fasta).\n",
      "[18:26:25] jobs.py (line 131):     INFO: Finished hmmalign Job with input: model:/tmp/sepp/output.a3id3i7c/root/P_9/A_9_0/hmmbuild.model.l67735ia, fragments:/tmp/sepp/output.a3id3i7c/root/P_9/A_9_0/FC_9_0_1/hmmalign.frag.c616_lfg.fasta, trim:False, base_alignment:/tmp/sepp/output.a3id3i7c/root/P_9/A_9_0/hmmbuild.input.j9uewd97.fasta\n",
      "[18:26:25] jobs.py (line 131):     INFO: Finished hmmalign Job with input: model:/tmp/sepp/output.a3id3i7c/root/P_9/A_9_0/hmmbuild.model.l67735ia, fragments:/tmp/sepp/output.a3id3i7c/root/P_9/A_9_0/FC_9_0_0/hmmalign.frag.xqrztamh.fasta, trim:False, base_alignment:/tmp/sepp/output.a3id3i7c/root/P_9/A_9_0/hmmbuild.input.j9uewd97.fasta\n",
      "[18:26:25] jobs.py (line 131):     INFO: Finished hmmalign Job with input: model:/tmp/sepp/output.a3id3i7c/root/P_9/A_9_0/hmmbuild.model.l67735ia, fragments:/tmp/sepp/output.a3id3i7c/root/P_9/A_9_0/FC_9_0_2/hmmalign.frag.yo732w54.fasta, trim:False, base_alignment:/tmp/sepp/output.a3id3i7c/root/P_9/A_9_0/hmmbuild.input.j9uewd97.fasta\n",
      "[18:26:25] exhaustive.py (line 151):     INFO: Merging sub-alignments for placement problem : P_7.\n",
      "[18:26:25] alignment.py (line 556):     INFO: Merging extension sto file (/tmp/sepp/output.a3id3i7c/root/P_7/A_7_0/FC_7_0_0/hmmalign.results.2xh701c3) into base alignment (/tmp/sepp/output.a3id3i7c/root/P_7/A_7_0/hmmbuild.input.tea2mgnj.fasta).\n",
      "[18:26:25] alignment.py (line 556):     INFO: Merging extension sto file (/tmp/sepp/output.a3id3i7c/root/P_7/A_7_0/FC_7_0_1/hmmalign.results.0rvqhr57) into base alignment (/tmp/sepp/output.a3id3i7c/root/P_7/A_7_0/hmmbuild.input.tea2mgnj.fasta).\n",
      "[18:26:25] alignment.py (line 556):     INFO: Merging extension sto file (/tmp/sepp/output.a3id3i7c/root/P_7/A_7_0/FC_7_0_2/hmmalign.results.odotaw43) into base alignment (/tmp/sepp/output.a3id3i7c/root/P_7/A_7_0/hmmbuild.input.tea2mgnj.fasta).\n",
      "[18:26:25] exhaustive.py (line 151):     INFO: Merging sub-alignments for placement problem : P_8.\n",
      "[18:26:25] alignment.py (line 556):     INFO: Merging extension sto file (/tmp/sepp/output.a3id3i7c/root/P_8/A_8_0/FC_8_0_0/hmmalign.results.q9b21647) into base alignment (/tmp/sepp/output.a3id3i7c/root/P_8/A_8_0/hmmbuild.input.mb7ruhk0.fasta).\n",
      "[18:26:25] alignment.py (line 556):     INFO: Merging extension sto file (/tmp/sepp/output.a3id3i7c/root/P_8/A_8_0/FC_8_0_1/hmmalign.results.b7ojihqu) into base alignment (/tmp/sepp/output.a3id3i7c/root/P_8/A_8_0/hmmbuild.input.mb7ruhk0.fasta).\n",
      "[18:26:25] alignment.py (line 556):     INFO: Merging extension sto file (/tmp/sepp/output.a3id3i7c/root/P_8/A_8_0/FC_8_0_2/hmmalign.results.t6yyd71q) into base alignment (/tmp/sepp/output.a3id3i7c/root/P_8/A_8_0/hmmbuild.input.mb7ruhk0.fasta).\n",
      "[18:26:25] exhaustive.py (line 151):     INFO: Merging sub-alignments for placement problem : P_10.\n",
      "[18:26:25] alignment.py (line 556):     INFO: Merging extension sto file (/tmp/sepp/output.a3id3i7c/root/P_10/A_10_0/FC_10_0_0/hmmalign.results.jbyqmvyy) into base alignment (/tmp/sepp/output.a3id3i7c/root/P_10/A_10_0/hmmbuild.input.q63qg38q.fasta).\n",
      "[18:26:25] alignment.py (line 556):     INFO: Merging extension sto file (/tmp/sepp/output.a3id3i7c/root/P_10/A_10_0/FC_10_0_1/hmmalign.results.u4zf7cme) into base alignment (/tmp/sepp/output.a3id3i7c/root/P_10/A_10_0/hmmbuild.input.q63qg38q.fasta).\n",
      "[18:26:25] alignment.py (line 556):     INFO: Merging extension sto file (/tmp/sepp/output.a3id3i7c/root/P_10/A_10_0/FC_10_0_2/hmmalign.results.qgvrf8um) into base alignment (/tmp/sepp/output.a3id3i7c/root/P_10/A_10_0/hmmbuild.input.q63qg38q.fasta).\n",
      "[18:26:26] exhaustive.py (line 151):     INFO: Merging sub-alignments for placement problem : P_9.\n",
      "[18:26:26] alignment.py (line 556):     INFO: Merging extension sto file (/tmp/sepp/output.a3id3i7c/root/P_9/A_9_0/FC_9_0_0/hmmalign.results.1cpvm__v) into base alignment (/tmp/sepp/output.a3id3i7c/root/P_9/A_9_0/hmmbuild.input.j9uewd97.fasta).\n",
      "[18:26:26] alignment.py (line 556):     INFO: Merging extension sto file (/tmp/sepp/output.a3id3i7c/root/P_9/A_9_0/FC_9_0_1/hmmalign.results.nig42ts5) into base alignment (/tmp/sepp/output.a3id3i7c/root/P_9/A_9_0/hmmbuild.input.j9uewd97.fasta).\n",
      "[18:26:26] alignment.py (line 556):     INFO: Merging extension sto file (/tmp/sepp/output.a3id3i7c/root/P_9/A_9_0/FC_9_0_2/hmmalign.results.gteea1kt) into base alignment (/tmp/sepp/output.a3id3i7c/root/P_9/A_9_0/hmmbuild.input.j9uewd97.fasta).\n",
      "[18:26:29] jobs.py (line 131):     INFO: Finished hmmalign Job with input: model:/tmp/sepp/output.a3id3i7c/root/P_12/A_12_0/hmmbuild.model.pe10kfv5, fragments:/tmp/sepp/output.a3id3i7c/root/P_12/A_12_0/FC_12_0_1/hmmalign.frag.6jz_r1zf.fasta, trim:False, base_alignment:/tmp/sepp/output.a3id3i7c/root/P_12/A_12_0/hmmbuild.input.vi4k4pwx.fasta\n",
      "[18:26:29] jobs.py (line 131):     INFO: Finished hmmalign Job with input: model:/tmp/sepp/output.a3id3i7c/root/P_12/A_12_0/hmmbuild.model.pe10kfv5, fragments:/tmp/sepp/output.a3id3i7c/root/P_12/A_12_0/FC_12_0_0/hmmalign.frag.a_6wtqrn.fasta, trim:False, base_alignment:/tmp/sepp/output.a3id3i7c/root/P_12/A_12_0/hmmbuild.input.vi4k4pwx.fasta\n",
      "[18:26:29] jobs.py (line 131):     INFO: Finished hmmalign Job with input: model:/tmp/sepp/output.a3id3i7c/root/P_12/A_12_0/hmmbuild.model.pe10kfv5, fragments:/tmp/sepp/output.a3id3i7c/root/P_12/A_12_0/FC_12_0_2/hmmalign.frag.oajk2aaz.fasta, trim:False, base_alignment:/tmp/sepp/output.a3id3i7c/root/P_12/A_12_0/hmmbuild.input.vi4k4pwx.fasta\n",
      "[18:26:29] exhaustive.py (line 151):     INFO: Merging sub-alignments for placement problem : P_12.\n",
      "[18:26:29] alignment.py (line 556):     INFO: Merging extension sto file (/tmp/sepp/output.a3id3i7c/root/P_12/A_12_0/FC_12_0_0/hmmalign.results.mrrius23) into base alignment (/tmp/sepp/output.a3id3i7c/root/P_12/A_12_0/hmmbuild.input.vi4k4pwx.fasta).\n",
      "[18:26:29] alignment.py (line 556):     INFO: Merging extension sto file (/tmp/sepp/output.a3id3i7c/root/P_12/A_12_0/FC_12_0_1/hmmalign.results.mwfwzmx5) into base alignment (/tmp/sepp/output.a3id3i7c/root/P_12/A_12_0/hmmbuild.input.vi4k4pwx.fasta).\n",
      "[18:26:29] alignment.py (line 556):     INFO: Merging extension sto file (/tmp/sepp/output.a3id3i7c/root/P_12/A_12_0/FC_12_0_2/hmmalign.results.g2_sxoox) into base alignment (/tmp/sepp/output.a3id3i7c/root/P_12/A_12_0/hmmbuild.input.vi4k4pwx.fasta).\n",
      "[18:26:29] jobs.py (line 131):     INFO: Finished hmmalign Job with input: model:/tmp/sepp/output.a3id3i7c/root/P_13/A_13_0/hmmbuild.model.bugnf27e, fragments:/tmp/sepp/output.a3id3i7c/root/P_13/A_13_0/FC_13_0_0/hmmalign.frag.kr0tf8c2.fasta, trim:False, base_alignment:/tmp/sepp/output.a3id3i7c/root/P_13/A_13_0/hmmbuild.input.83etnh1s.fasta\n",
      "[18:26:29] jobs.py (line 131):     INFO: Finished hmmalign Job with input: model:/tmp/sepp/output.a3id3i7c/root/P_13/A_13_0/hmmbuild.model.bugnf27e, fragments:/tmp/sepp/output.a3id3i7c/root/P_13/A_13_0/FC_13_0_1/hmmalign.frag._u199f3n.fasta, trim:False, base_alignment:/tmp/sepp/output.a3id3i7c/root/P_13/A_13_0/hmmbuild.input.83etnh1s.fasta\n",
      "[18:26:29] jobs.py (line 131):     INFO: Finished hmmalign Job with input: model:/tmp/sepp/output.a3id3i7c/root/P_13/A_13_0/hmmbuild.model.bugnf27e, fragments:/tmp/sepp/output.a3id3i7c/root/P_13/A_13_0/FC_13_0_2/hmmalign.frag.tu_62x81.fasta, trim:False, base_alignment:/tmp/sepp/output.a3id3i7c/root/P_13/A_13_0/hmmbuild.input.83etnh1s.fasta\n",
      "[18:26:29] exhaustive.py (line 151):     INFO: Merging sub-alignments for placement problem : P_13.\n",
      "[18:26:29] alignment.py (line 556):     INFO: Merging extension sto file (/tmp/sepp/output.a3id3i7c/root/P_13/A_13_0/FC_13_0_0/hmmalign.results.z94ylxc2) into base alignment (/tmp/sepp/output.a3id3i7c/root/P_13/A_13_0/hmmbuild.input.83etnh1s.fasta).\n",
      "[18:26:29] alignment.py (line 556):     INFO: Merging extension sto file (/tmp/sepp/output.a3id3i7c/root/P_13/A_13_0/FC_13_0_1/hmmalign.results.7_7pp3hv) into base alignment (/tmp/sepp/output.a3id3i7c/root/P_13/A_13_0/hmmbuild.input.83etnh1s.fasta).\n",
      "[18:26:29] alignment.py (line 556):     INFO: Merging extension sto file (/tmp/sepp/output.a3id3i7c/root/P_13/A_13_0/FC_13_0_2/hmmalign.results.q4tsajsk) into base alignment (/tmp/sepp/output.a3id3i7c/root/P_13/A_13_0/hmmbuild.input.83etnh1s.fasta).\n",
      "[18:26:29] jobs.py (line 131):     INFO: Finished hmmalign Job with input: model:/tmp/sepp/output.a3id3i7c/root/P_14/A_14_0/hmmbuild.model.nyz25qty, fragments:/tmp/sepp/output.a3id3i7c/root/P_14/A_14_0/FC_14_0_1/hmmalign.frag.d1973e8u.fasta, trim:False, base_alignment:/tmp/sepp/output.a3id3i7c/root/P_14/A_14_0/hmmbuild.input.w2tyd2zk.fasta\n",
      "[18:26:29] jobs.py (line 131):     INFO: Finished hmmalign Job with input: model:/tmp/sepp/output.a3id3i7c/root/P_14/A_14_0/hmmbuild.model.nyz25qty, fragments:/tmp/sepp/output.a3id3i7c/root/P_14/A_14_0/FC_14_0_2/hmmalign.frag.f8bnomwl.fasta, trim:False, base_alignment:/tmp/sepp/output.a3id3i7c/root/P_14/A_14_0/hmmbuild.input.w2tyd2zk.fasta\n",
      "[18:26:29] jobs.py (line 131):     INFO: Finished hmmalign Job with input: model:/tmp/sepp/output.a3id3i7c/root/P_14/A_14_0/hmmbuild.model.nyz25qty, fragments:/tmp/sepp/output.a3id3i7c/root/P_14/A_14_0/FC_14_0_0/hmmalign.frag.j6zxspau.fasta, trim:False, base_alignment:/tmp/sepp/output.a3id3i7c/root/P_14/A_14_0/hmmbuild.input.w2tyd2zk.fasta\n",
      "[18:26:29] exhaustive.py (line 151):     INFO: Merging sub-alignments for placement problem : P_14.\n",
      "[18:26:29] alignment.py (line 556):     INFO: Merging extension sto file (/tmp/sepp/output.a3id3i7c/root/P_14/A_14_0/FC_14_0_0/hmmalign.results.02lhj32r) into base alignment (/tmp/sepp/output.a3id3i7c/root/P_14/A_14_0/hmmbuild.input.w2tyd2zk.fasta).\n",
      "[18:26:29] jobs.py (line 131):     INFO: Finished hmmalign Job with input: model:/tmp/sepp/output.a3id3i7c/root/P_15/A_15_0/hmmbuild.model.y5onx10y, fragments:/tmp/sepp/output.a3id3i7c/root/P_15/A_15_0/FC_15_0_0/hmmalign.frag.jl59da_i.fasta, trim:False, base_alignment:/tmp/sepp/output.a3id3i7c/root/P_15/A_15_0/hmmbuild.input.6sa63wd_.fasta\n",
      "[18:26:29] alignment.py (line 556):     INFO: Merging extension sto file (/tmp/sepp/output.a3id3i7c/root/P_14/A_14_0/FC_14_0_1/hmmalign.results.yltvinz0) into base alignment (/tmp/sepp/output.a3id3i7c/root/P_14/A_14_0/hmmbuild.input.w2tyd2zk.fasta).\n",
      "[18:26:29] alignment.py (line 556):     INFO: Merging extension sto file (/tmp/sepp/output.a3id3i7c/root/P_14/A_14_0/FC_14_0_2/hmmalign.results.5t3to5xc) into base alignment (/tmp/sepp/output.a3id3i7c/root/P_14/A_14_0/hmmbuild.input.w2tyd2zk.fasta).\n",
      "[18:26:29] exhaustive.py (line 151):     INFO: Merging sub-alignments for placement problem : P_15.\n",
      "[18:26:29] alignment.py (line 556):     INFO: Merging extension sto file (/tmp/sepp/output.a3id3i7c/root/P_15/A_15_0/FC_15_0_0/hmmalign.results.7ov5noh4) into base alignment (/tmp/sepp/output.a3id3i7c/root/P_15/A_15_0/hmmbuild.input.6sa63wd_.fasta).\n",
      "[18:26:33] jobs.py (line 131):     INFO: Finished pplacer Job with input: backbone_alignment_file:/tmp/sepp/output.a3id3i7c/root/P_1/pplacer.backbone.1psblmpx.fasta, tree_file:/tmp/sepp/output.a3id3i7c/root/P_1/pplacer.tree.u2z_wygg.tre, info_file:/home/lauro/anaconda3/envs/qiime2-2021.11/lib/python3.8/site-packages/picrust2/default_files/prokaryotic/pro_ref/pro_ref.raxml_info, extended alignment:/tmp/sepp/output.a3id3i7c/root/P_1/pplacer.extended.1.dl5nfoio.fasta, output:/tmp/sepp/output.a3id3i7c/root/P_1/pplacer.extended.1.dl5nfoio.jplace\n",
      "[18:26:34] jobs.py (line 131):     INFO: Finished pplacer Job with input: backbone_alignment_file:/tmp/sepp/output.a3id3i7c/root/P_1/pplacer.backbone._hgoxmej.fasta, tree_file:/tmp/sepp/output.a3id3i7c/root/P_1/pplacer.tree.0t14fywq.tre, info_file:/home/lauro/anaconda3/envs/qiime2-2021.11/lib/python3.8/site-packages/picrust2/default_files/prokaryotic/pro_ref/pro_ref.raxml_info, extended alignment:/tmp/sepp/output.a3id3i7c/root/P_1/pplacer.extended.2.4t0cxptt.fasta, output:/tmp/sepp/output.a3id3i7c/root/P_1/pplacer.extended.2.4t0cxptt.jplace\n",
      "[18:26:34] jobs.py (line 131):     INFO: Finished pplacer Job with input: backbone_alignment_file:/tmp/sepp/output.a3id3i7c/root/P_1/pplacer.backbone.zehi3ayd.fasta, tree_file:/tmp/sepp/output.a3id3i7c/root/P_1/pplacer.tree.w2m3c011.tre, info_file:/home/lauro/anaconda3/envs/qiime2-2021.11/lib/python3.8/site-packages/picrust2/default_files/prokaryotic/pro_ref/pro_ref.raxml_info, extended alignment:/tmp/sepp/output.a3id3i7c/root/P_1/pplacer.extended.0.s42nxxo5.fasta, output:/tmp/sepp/output.a3id3i7c/root/P_1/pplacer.extended.0.s42nxxo5.jplace\n",
      "[18:26:36] jobs.py (line 131):     INFO: Finished hmmalign Job with input: model:/tmp/sepp/output.a3id3i7c/root/P_11/A_11_0/hmmbuild.model.kf9u4f1v, fragments:/tmp/sepp/output.a3id3i7c/root/P_11/A_11_0/FC_11_0_0/hmmalign.frag.ql_x9z2j.fasta, trim:False, base_alignment:/tmp/sepp/output.a3id3i7c/root/P_11/A_11_0/hmmbuild.input.tt0k876x.fasta\n",
      "[18:26:36] jobs.py (line 131):     INFO: Finished hmmalign Job with input: model:/tmp/sepp/output.a3id3i7c/root/P_11/A_11_0/hmmbuild.model.kf9u4f1v, fragments:/tmp/sepp/output.a3id3i7c/root/P_11/A_11_0/FC_11_0_2/hmmalign.frag.ucsipo96.fasta, trim:False, base_alignment:/tmp/sepp/output.a3id3i7c/root/P_11/A_11_0/hmmbuild.input.tt0k876x.fasta\n",
      "[18:26:37] jobs.py (line 131):     INFO: Finished pplacer Job with input: backbone_alignment_file:/tmp/sepp/output.a3id3i7c/root/P_5/pplacer.backbone.ut0fw8ia.fasta, tree_file:/tmp/sepp/output.a3id3i7c/root/P_5/pplacer.tree.5fbxpz15.tre, info_file:/home/lauro/anaconda3/envs/qiime2-2021.11/lib/python3.8/site-packages/picrust2/default_files/prokaryotic/pro_ref/pro_ref.raxml_info, extended alignment:/tmp/sepp/output.a3id3i7c/root/P_5/pplacer.extended.0.ej1w24g9.fasta, output:/tmp/sepp/output.a3id3i7c/root/P_5/pplacer.extended.0.ej1w24g9.jplace\n",
      "[18:26:37] jobs.py (line 131):     INFO: Finished hmmalign Job with input: model:/tmp/sepp/output.a3id3i7c/root/P_11/A_11_0/hmmbuild.model.kf9u4f1v, fragments:/tmp/sepp/output.a3id3i7c/root/P_11/A_11_0/FC_11_0_1/hmmalign.frag.3sy5xf0m.fasta, trim:False, base_alignment:/tmp/sepp/output.a3id3i7c/root/P_11/A_11_0/hmmbuild.input.tt0k876x.fasta\n",
      "[18:26:37] exhaustive.py (line 151):     INFO: Merging sub-alignments for placement problem : P_11.\n",
      "[18:26:37] alignment.py (line 556):     INFO: Merging extension sto file (/tmp/sepp/output.a3id3i7c/root/P_11/A_11_0/FC_11_0_0/hmmalign.results.et1bf07g) into base alignment (/tmp/sepp/output.a3id3i7c/root/P_11/A_11_0/hmmbuild.input.tt0k876x.fasta).\n",
      "[18:26:37] alignment.py (line 556):     INFO: Merging extension sto file (/tmp/sepp/output.a3id3i7c/root/P_11/A_11_0/FC_11_0_1/hmmalign.results.8xw937q3) into base alignment (/tmp/sepp/output.a3id3i7c/root/P_11/A_11_0/hmmbuild.input.tt0k876x.fasta).\n",
      "[18:26:37] alignment.py (line 556):     INFO: Merging extension sto file (/tmp/sepp/output.a3id3i7c/root/P_11/A_11_0/FC_11_0_2/hmmalign.results.0t0romh5) into base alignment (/tmp/sepp/output.a3id3i7c/root/P_11/A_11_0/hmmbuild.input.tt0k876x.fasta).\n",
      "[18:26:39] jobs.py (line 131):     INFO: Finished pplacer Job with input: backbone_alignment_file:/tmp/sepp/output.a3id3i7c/root/P_5/pplacer.backbone.e3in0l8_.fasta, tree_file:/tmp/sepp/output.a3id3i7c/root/P_5/pplacer.tree.2l9p_ld7.tre, info_file:/home/lauro/anaconda3/envs/qiime2-2021.11/lib/python3.8/site-packages/picrust2/default_files/prokaryotic/pro_ref/pro_ref.raxml_info, extended alignment:/tmp/sepp/output.a3id3i7c/root/P_5/pplacer.extended.2.gbcn8_k2.fasta, output:/tmp/sepp/output.a3id3i7c/root/P_5/pplacer.extended.2.gbcn8_k2.jplace\n",
      "[18:26:40] jobs.py (line 131):     INFO: Finished pplacer Job with input: backbone_alignment_file:/tmp/sepp/output.a3id3i7c/root/P_5/pplacer.backbone.vqt6_6s2.fasta, tree_file:/tmp/sepp/output.a3id3i7c/root/P_5/pplacer.tree.tb3gknxs.tre, info_file:/home/lauro/anaconda3/envs/qiime2-2021.11/lib/python3.8/site-packages/picrust2/default_files/prokaryotic/pro_ref/pro_ref.raxml_info, extended alignment:/tmp/sepp/output.a3id3i7c/root/P_5/pplacer.extended.1.3btmnshz.fasta, output:/tmp/sepp/output.a3id3i7c/root/P_5/pplacer.extended.1.3btmnshz.jplace\n",
      "[18:26:42] jobs.py (line 131):     INFO: Finished pplacer Job with input: backbone_alignment_file:/tmp/sepp/output.a3id3i7c/root/P_6/pplacer.backbone.s3e12mf7.fasta, tree_file:/tmp/sepp/output.a3id3i7c/root/P_6/pplacer.tree.kur22akx.tre, info_file:/home/lauro/anaconda3/envs/qiime2-2021.11/lib/python3.8/site-packages/picrust2/default_files/prokaryotic/pro_ref/pro_ref.raxml_info, extended alignment:/tmp/sepp/output.a3id3i7c/root/P_6/pplacer.extended.0.c0grh0g9.fasta, output:/tmp/sepp/output.a3id3i7c/root/P_6/pplacer.extended.0.c0grh0g9.jplace\n",
      "[18:26:43] jobs.py (line 131):     INFO: Finished pplacer Job with input: backbone_alignment_file:/tmp/sepp/output.a3id3i7c/root/P_7/pplacer.backbone.4jb8m6xl.fasta, tree_file:/tmp/sepp/output.a3id3i7c/root/P_7/pplacer.tree.g_91zv5z.tre, info_file:/home/lauro/anaconda3/envs/qiime2-2021.11/lib/python3.8/site-packages/picrust2/default_files/prokaryotic/pro_ref/pro_ref.raxml_info, extended alignment:/tmp/sepp/output.a3id3i7c/root/P_7/pplacer.extended.1.eh72hxr_.fasta, output:/tmp/sepp/output.a3id3i7c/root/P_7/pplacer.extended.1.eh72hxr_.jplace\n",
      "[18:26:43] jobs.py (line 131):     INFO: Finished pplacer Job with input: backbone_alignment_file:/tmp/sepp/output.a3id3i7c/root/P_7/pplacer.backbone.vda5pfae.fasta, tree_file:/tmp/sepp/output.a3id3i7c/root/P_7/pplacer.tree.dpl1p_lp.tre, info_file:/home/lauro/anaconda3/envs/qiime2-2021.11/lib/python3.8/site-packages/picrust2/default_files/prokaryotic/pro_ref/pro_ref.raxml_info, extended alignment:/tmp/sepp/output.a3id3i7c/root/P_7/pplacer.extended.0.p3c5nn4_.fasta, output:/tmp/sepp/output.a3id3i7c/root/P_7/pplacer.extended.0.p3c5nn4_.jplace\n",
      "[18:26:45] jobs.py (line 131):     INFO: Finished pplacer Job with input: backbone_alignment_file:/tmp/sepp/output.a3id3i7c/root/P_8/pplacer.backbone.s2yjsbom.fasta, tree_file:/tmp/sepp/output.a3id3i7c/root/P_8/pplacer.tree.9vnt1c64.tre, info_file:/home/lauro/anaconda3/envs/qiime2-2021.11/lib/python3.8/site-packages/picrust2/default_files/prokaryotic/pro_ref/pro_ref.raxml_info, extended alignment:/tmp/sepp/output.a3id3i7c/root/P_8/pplacer.extended.0.61dlmdsa.fasta, output:/tmp/sepp/output.a3id3i7c/root/P_8/pplacer.extended.0.61dlmdsa.jplace\n",
      "[18:26:46] jobs.py (line 131):     INFO: Finished pplacer Job with input: backbone_alignment_file:/tmp/sepp/output.a3id3i7c/root/P_8/pplacer.backbone.b4gnkh2v.fasta, tree_file:/tmp/sepp/output.a3id3i7c/root/P_8/pplacer.tree.y5llzm21.tre, info_file:/home/lauro/anaconda3/envs/qiime2-2021.11/lib/python3.8/site-packages/picrust2/default_files/prokaryotic/pro_ref/pro_ref.raxml_info, extended alignment:/tmp/sepp/output.a3id3i7c/root/P_8/pplacer.extended.1.7uwfvjjn.fasta, output:/tmp/sepp/output.a3id3i7c/root/P_8/pplacer.extended.1.7uwfvjjn.jplace\n",
      "[18:26:47] jobs.py (line 131):     INFO: Finished pplacer Job with input: backbone_alignment_file:/tmp/sepp/output.a3id3i7c/root/P_7/pplacer.backbone.q29xprvp.fasta, tree_file:/tmp/sepp/output.a3id3i7c/root/P_7/pplacer.tree.snypr3h6.tre, info_file:/home/lauro/anaconda3/envs/qiime2-2021.11/lib/python3.8/site-packages/picrust2/default_files/prokaryotic/pro_ref/pro_ref.raxml_info, extended alignment:/tmp/sepp/output.a3id3i7c/root/P_7/pplacer.extended.2.69tp85i0.fasta, output:/tmp/sepp/output.a3id3i7c/root/P_7/pplacer.extended.2.69tp85i0.jplace\n",
      "[18:26:47] jobs.py (line 131):     INFO: Finished pplacer Job with input: backbone_alignment_file:/tmp/sepp/output.a3id3i7c/root/P_6/pplacer.backbone.xheusc9x.fasta, tree_file:/tmp/sepp/output.a3id3i7c/root/P_6/pplacer.tree.9ox3uik7.tre, info_file:/home/lauro/anaconda3/envs/qiime2-2021.11/lib/python3.8/site-packages/picrust2/default_files/prokaryotic/pro_ref/pro_ref.raxml_info, extended alignment:/tmp/sepp/output.a3id3i7c/root/P_6/pplacer.extended.1.2ahc9dnb.fasta, output:/tmp/sepp/output.a3id3i7c/root/P_6/pplacer.extended.1.2ahc9dnb.jplace\n",
      "[18:26:47] jobs.py (line 131):     INFO: Finished pplacer Job with input: backbone_alignment_file:/tmp/sepp/output.a3id3i7c/root/P_8/pplacer.backbone.b_f4bp7q.fasta, tree_file:/tmp/sepp/output.a3id3i7c/root/P_8/pplacer.tree.2bsg_g3d.tre, info_file:/home/lauro/anaconda3/envs/qiime2-2021.11/lib/python3.8/site-packages/picrust2/default_files/prokaryotic/pro_ref/pro_ref.raxml_info, extended alignment:/tmp/sepp/output.a3id3i7c/root/P_8/pplacer.extended.2.5rhfq9qx.fasta, output:/tmp/sepp/output.a3id3i7c/root/P_8/pplacer.extended.2.5rhfq9qx.jplace\n",
      "[18:26:49] jobs.py (line 131):     INFO: Finished pplacer Job with input: backbone_alignment_file:/tmp/sepp/output.a3id3i7c/root/P_6/pplacer.backbone.eaar3cqy.fasta, tree_file:/tmp/sepp/output.a3id3i7c/root/P_6/pplacer.tree.0g_clwh8.tre, info_file:/home/lauro/anaconda3/envs/qiime2-2021.11/lib/python3.8/site-packages/picrust2/default_files/prokaryotic/pro_ref/pro_ref.raxml_info, extended alignment:/tmp/sepp/output.a3id3i7c/root/P_6/pplacer.extended.2.qn1sjvjg.fasta, output:/tmp/sepp/output.a3id3i7c/root/P_6/pplacer.extended.2.qn1sjvjg.jplace\n",
      "[18:26:51] jobs.py (line 131):     INFO: Finished pplacer Job with input: backbone_alignment_file:/tmp/sepp/output.a3id3i7c/root/P_10/pplacer.backbone.64y81ijw.fasta, tree_file:/tmp/sepp/output.a3id3i7c/root/P_10/pplacer.tree.r65utep6.tre, info_file:/home/lauro/anaconda3/envs/qiime2-2021.11/lib/python3.8/site-packages/picrust2/default_files/prokaryotic/pro_ref/pro_ref.raxml_info, extended alignment:/tmp/sepp/output.a3id3i7c/root/P_10/pplacer.extended.0.2kza4koj.fasta, output:/tmp/sepp/output.a3id3i7c/root/P_10/pplacer.extended.0.2kza4koj.jplace\n",
      "[18:26:51] jobs.py (line 131):     INFO: Finished pplacer Job with input: backbone_alignment_file:/tmp/sepp/output.a3id3i7c/root/P_10/pplacer.backbone.ch7938p0.fasta, tree_file:/tmp/sepp/output.a3id3i7c/root/P_10/pplacer.tree.1ik5c_s2.tre, info_file:/home/lauro/anaconda3/envs/qiime2-2021.11/lib/python3.8/site-packages/picrust2/default_files/prokaryotic/pro_ref/pro_ref.raxml_info, extended alignment:/tmp/sepp/output.a3id3i7c/root/P_10/pplacer.extended.1.pmtzijjl.fasta, output:/tmp/sepp/output.a3id3i7c/root/P_10/pplacer.extended.1.pmtzijjl.jplace\n",
      "[18:26:53] jobs.py (line 131):     INFO: Finished pplacer Job with input: backbone_alignment_file:/tmp/sepp/output.a3id3i7c/root/P_10/pplacer.backbone.b2socs72.fasta, tree_file:/tmp/sepp/output.a3id3i7c/root/P_10/pplacer.tree.8i4xv4fd.tre, info_file:/home/lauro/anaconda3/envs/qiime2-2021.11/lib/python3.8/site-packages/picrust2/default_files/prokaryotic/pro_ref/pro_ref.raxml_info, extended alignment:/tmp/sepp/output.a3id3i7c/root/P_10/pplacer.extended.2.a_3absg9.fasta, output:/tmp/sepp/output.a3id3i7c/root/P_10/pplacer.extended.2.a_3absg9.jplace\n",
      "[18:26:55] jobs.py (line 131):     INFO: Finished pplacer Job with input: backbone_alignment_file:/tmp/sepp/output.a3id3i7c/root/P_9/pplacer.backbone.7isaio05.fasta, tree_file:/tmp/sepp/output.a3id3i7c/root/P_9/pplacer.tree.qk9493xq.tre, info_file:/home/lauro/anaconda3/envs/qiime2-2021.11/lib/python3.8/site-packages/picrust2/default_files/prokaryotic/pro_ref/pro_ref.raxml_info, extended alignment:/tmp/sepp/output.a3id3i7c/root/P_9/pplacer.extended.0.e9d_orcm.fasta, output:/tmp/sepp/output.a3id3i7c/root/P_9/pplacer.extended.0.e9d_orcm.jplace\n",
      "[18:26:55] jobs.py (line 131):     INFO: Finished pplacer Job with input: backbone_alignment_file:/tmp/sepp/output.a3id3i7c/root/P_9/pplacer.backbone.fp4gyg4t.fasta, tree_file:/tmp/sepp/output.a3id3i7c/root/P_9/pplacer.tree.2awost4z.tre, info_file:/home/lauro/anaconda3/envs/qiime2-2021.11/lib/python3.8/site-packages/picrust2/default_files/prokaryotic/pro_ref/pro_ref.raxml_info, extended alignment:/tmp/sepp/output.a3id3i7c/root/P_9/pplacer.extended.2.1na6n99w.fasta, output:/tmp/sepp/output.a3id3i7c/root/P_9/pplacer.extended.2.1na6n99w.jplace\n",
      "[18:26:57] jobs.py (line 131):     INFO: Finished pplacer Job with input: backbone_alignment_file:/tmp/sepp/output.a3id3i7c/root/P_9/pplacer.backbone.t20gaz4g.fasta, tree_file:/tmp/sepp/output.a3id3i7c/root/P_9/pplacer.tree.dxcpkcon.tre, info_file:/home/lauro/anaconda3/envs/qiime2-2021.11/lib/python3.8/site-packages/picrust2/default_files/prokaryotic/pro_ref/pro_ref.raxml_info, extended alignment:/tmp/sepp/output.a3id3i7c/root/P_9/pplacer.extended.1.c4xgx0qt.fasta, output:/tmp/sepp/output.a3id3i7c/root/P_9/pplacer.extended.1.c4xgx0qt.jplace\n",
      "[18:27:00] jobs.py (line 131):     INFO: Finished pplacer Job with input: backbone_alignment_file:/tmp/sepp/output.a3id3i7c/root/P_13/pplacer.backbone.6613jbse.fasta, tree_file:/tmp/sepp/output.a3id3i7c/root/P_13/pplacer.tree.44thkake.tre, info_file:/home/lauro/anaconda3/envs/qiime2-2021.11/lib/python3.8/site-packages/picrust2/default_files/prokaryotic/pro_ref/pro_ref.raxml_info, extended alignment:/tmp/sepp/output.a3id3i7c/root/P_13/pplacer.extended.0.yp_2vjbo.fasta, output:/tmp/sepp/output.a3id3i7c/root/P_13/pplacer.extended.0.yp_2vjbo.jplace\n",
      "[18:27:00] jobs.py (line 131):     INFO: Finished pplacer Job with input: backbone_alignment_file:/tmp/sepp/output.a3id3i7c/root/P_13/pplacer.backbone.mlv5m7lr.fasta, tree_file:/tmp/sepp/output.a3id3i7c/root/P_13/pplacer.tree.j_kiua70.tre, info_file:/home/lauro/anaconda3/envs/qiime2-2021.11/lib/python3.8/site-packages/picrust2/default_files/prokaryotic/pro_ref/pro_ref.raxml_info, extended alignment:/tmp/sepp/output.a3id3i7c/root/P_13/pplacer.extended.1.goi5r1zd.fasta, output:/tmp/sepp/output.a3id3i7c/root/P_13/pplacer.extended.1.goi5r1zd.jplace\n",
      "[18:27:01] jobs.py (line 131):     INFO: Finished pplacer Job with input: backbone_alignment_file:/tmp/sepp/output.a3id3i7c/root/P_13/pplacer.backbone.wcuhsmmo.fasta, tree_file:/tmp/sepp/output.a3id3i7c/root/P_13/pplacer.tree.gwdbtf1x.tre, info_file:/home/lauro/anaconda3/envs/qiime2-2021.11/lib/python3.8/site-packages/picrust2/default_files/prokaryotic/pro_ref/pro_ref.raxml_info, extended alignment:/tmp/sepp/output.a3id3i7c/root/P_13/pplacer.extended.2.tlm_f_os.fasta, output:/tmp/sepp/output.a3id3i7c/root/P_13/pplacer.extended.2.tlm_f_os.jplace\n",
      "[18:27:04] jobs.py (line 131):     INFO: Finished pplacer Job with input: backbone_alignment_file:/tmp/sepp/output.a3id3i7c/root/P_14/pplacer.backbone.67z0qaxk.fasta, tree_file:/tmp/sepp/output.a3id3i7c/root/P_14/pplacer.tree.eu_2spta.tre, info_file:/home/lauro/anaconda3/envs/qiime2-2021.11/lib/python3.8/site-packages/picrust2/default_files/prokaryotic/pro_ref/pro_ref.raxml_info, extended alignment:/tmp/sepp/output.a3id3i7c/root/P_14/pplacer.extended.2.q_kthsap.fasta, output:/tmp/sepp/output.a3id3i7c/root/P_14/pplacer.extended.2.q_kthsap.jplace\n",
      "[18:27:06] jobs.py (line 131):     INFO: Finished pplacer Job with input: backbone_alignment_file:/tmp/sepp/output.a3id3i7c/root/P_14/pplacer.backbone.juirt5qk.fasta, tree_file:/tmp/sepp/output.a3id3i7c/root/P_14/pplacer.tree.r1kosjvj.tre, info_file:/home/lauro/anaconda3/envs/qiime2-2021.11/lib/python3.8/site-packages/picrust2/default_files/prokaryotic/pro_ref/pro_ref.raxml_info, extended alignment:/tmp/sepp/output.a3id3i7c/root/P_14/pplacer.extended.0.iipecmaj.fasta, output:/tmp/sepp/output.a3id3i7c/root/P_14/pplacer.extended.0.iipecmaj.jplace\n",
      "[18:27:06] jobs.py (line 131):     INFO: Finished pplacer Job with input: backbone_alignment_file:/tmp/sepp/output.a3id3i7c/root/P_14/pplacer.backbone.jlx6ljvj.fasta, tree_file:/tmp/sepp/output.a3id3i7c/root/P_14/pplacer.tree.pzbyd6qh.tre, info_file:/home/lauro/anaconda3/envs/qiime2-2021.11/lib/python3.8/site-packages/picrust2/default_files/prokaryotic/pro_ref/pro_ref.raxml_info, extended alignment:/tmp/sepp/output.a3id3i7c/root/P_14/pplacer.extended.1._6rcf2l5.fasta, output:/tmp/sepp/output.a3id3i7c/root/P_14/pplacer.extended.1._6rcf2l5.jplace\n",
      "[18:27:07] jobs.py (line 131):     INFO: Finished pplacer Job with input: backbone_alignment_file:/tmp/sepp/output.a3id3i7c/root/P_12/pplacer.backbone.hufp16eb.fasta, tree_file:/tmp/sepp/output.a3id3i7c/root/P_12/pplacer.tree.1y9z2jnb.tre, info_file:/home/lauro/anaconda3/envs/qiime2-2021.11/lib/python3.8/site-packages/picrust2/default_files/prokaryotic/pro_ref/pro_ref.raxml_info, extended alignment:/tmp/sepp/output.a3id3i7c/root/P_12/pplacer.extended.0.st8blw2i.fasta, output:/tmp/sepp/output.a3id3i7c/root/P_12/pplacer.extended.0.st8blw2i.jplace\n",
      "[18:27:08] jobs.py (line 131):     INFO: Finished pplacer Job with input: backbone_alignment_file:/tmp/sepp/output.a3id3i7c/root/P_15/pplacer.backbone.51mvw_2y.fasta, tree_file:/tmp/sepp/output.a3id3i7c/root/P_15/pplacer.tree._7bns3rb.tre, info_file:/home/lauro/anaconda3/envs/qiime2-2021.11/lib/python3.8/site-packages/picrust2/default_files/prokaryotic/pro_ref/pro_ref.raxml_info, extended alignment:/tmp/sepp/output.a3id3i7c/root/P_15/pplacer.extended.0.aqkbjank.fasta, output:/tmp/sepp/output.a3id3i7c/root/P_15/pplacer.extended.0.aqkbjank.jplace\n",
      "[18:27:09] jobs.py (line 131):     INFO: Finished pplacer Job with input: backbone_alignment_file:/tmp/sepp/output.a3id3i7c/root/P_12/pplacer.backbone.fz6b84nx.fasta, tree_file:/tmp/sepp/output.a3id3i7c/root/P_12/pplacer.tree.tj9i00nd.tre, info_file:/home/lauro/anaconda3/envs/qiime2-2021.11/lib/python3.8/site-packages/picrust2/default_files/prokaryotic/pro_ref/pro_ref.raxml_info, extended alignment:/tmp/sepp/output.a3id3i7c/root/P_12/pplacer.extended.1.hrzbhydc.fasta, output:/tmp/sepp/output.a3id3i7c/root/P_12/pplacer.extended.1.hrzbhydc.jplace\n",
      "[18:27:13] jobs.py (line 131):     INFO: Finished pplacer Job with input: backbone_alignment_file:/tmp/sepp/output.a3id3i7c/root/P_12/pplacer.backbone.0hnuu1wp.fasta, tree_file:/tmp/sepp/output.a3id3i7c/root/P_12/pplacer.tree.tp86kk68.tre, info_file:/home/lauro/anaconda3/envs/qiime2-2021.11/lib/python3.8/site-packages/picrust2/default_files/prokaryotic/pro_ref/pro_ref.raxml_info, extended alignment:/tmp/sepp/output.a3id3i7c/root/P_12/pplacer.extended.2.yug_yf42.fasta, output:/tmp/sepp/output.a3id3i7c/root/P_12/pplacer.extended.2.yug_yf42.jplace\n",
      "[18:27:45] jobs.py (line 131):     INFO: Finished pplacer Job with input: backbone_alignment_file:/tmp/sepp/output.a3id3i7c/root/P_11/pplacer.backbone.5i2t2_fl.fasta, tree_file:/tmp/sepp/output.a3id3i7c/root/P_11/pplacer.tree.8s1slatr.tre, info_file:/home/lauro/anaconda3/envs/qiime2-2021.11/lib/python3.8/site-packages/picrust2/default_files/prokaryotic/pro_ref/pro_ref.raxml_info, extended alignment:/tmp/sepp/output.a3id3i7c/root/P_11/pplacer.extended.2.mngeiji1.fasta, output:/tmp/sepp/output.a3id3i7c/root/P_11/pplacer.extended.2.mngeiji1.jplace\n",
      "[18:27:46] jobs.py (line 131):     INFO: Finished pplacer Job with input: backbone_alignment_file:/tmp/sepp/output.a3id3i7c/root/P_11/pplacer.backbone.hkf574ys.fasta, tree_file:/tmp/sepp/output.a3id3i7c/root/P_11/pplacer.tree.r31iqhuq.tre, info_file:/home/lauro/anaconda3/envs/qiime2-2021.11/lib/python3.8/site-packages/picrust2/default_files/prokaryotic/pro_ref/pro_ref.raxml_info, extended alignment:/tmp/sepp/output.a3id3i7c/root/P_11/pplacer.extended.0.ydqederb.fasta, output:/tmp/sepp/output.a3id3i7c/root/P_11/pplacer.extended.0.ydqederb.jplace\n",
      "[18:27:47] jobs.py (line 131):     INFO: Finished pplacer Job with input: backbone_alignment_file:/tmp/sepp/output.a3id3i7c/root/P_11/pplacer.backbone.wf1orrfu.fasta, tree_file:/tmp/sepp/output.a3id3i7c/root/P_11/pplacer.tree._sdwrizh.tre, info_file:/home/lauro/anaconda3/envs/qiime2-2021.11/lib/python3.8/site-packages/picrust2/default_files/prokaryotic/pro_ref/pro_ref.raxml_info, extended alignment:/tmp/sepp/output.a3id3i7c/root/P_11/pplacer.extended.1.ehb39wfo.fasta, output:/tmp/sepp/output.a3id3i7c/root/P_11/pplacer.extended.1.ehb39wfo.jplace\n",
      "[18:27:56] jobs.py (line 131):     INFO: Finished jsonmerger Job with input: input:pipe output:/tmp/tmpyb9zc4r_/picrust2_out/intermediate/place_seqs/sepp_out/output_placement.json\n",
      "[18:27:56] algorithm.py (line 195):     INFO: Current execution Finished in 160 seconds\n",
      "[18:27:56] algorithm.py (line 197):     INFO: All checkpointed executions Finished in 160 cumulative time\n",
      "\n",
      "gappa examine graft --jplace-path /tmp/tmpyb9zc4r_/picrust2_out/intermediate/place_seqs/sepp_out/output_placement.json --fully-resolve --out-dir /tmp/tmpyb9zc4r_/picrust2_out/intermediate/place_seqs/sepp_out\n",
      "\n",
      "mv /tmp/tmpyb9zc4r_/picrust2_out/intermediate/place_seqs/sepp_out/output_placement.newick /tmp/tmpyb9zc4r_/picrust2_out/out.tre\n",
      "\n",
      "Finished placing sequences on output tree: /tmp/tmpyb9zc4r_/picrust2_out/out.tre\n",
      "hsp.py --tree /tmp/tmpyb9zc4r_/picrust2_out/out.tre --output /tmp/tmpyb9zc4r_/picrust2_out/marker_predicted_and_nsti.tsv.gz --observed_trait_table /home/lauro/anaconda3/envs/qiime2-2021.11/lib/python3.8/site-packages/picrust2/default_files/prokaryotic/16S.txt.gz --hsp_method pic --edge_exponent 0.5 --seed 100 --calculate_NSTI --processes 1 --verbose\n"
     ]
    },
    {
     "name": "stdout",
     "output_type": "stream",
     "text": [
      "\n",
      "\n",
      "\n"
     ]
    },
    {
     "name": "stderr",
     "output_type": "stream",
     "text": [
      "Rscript /home/lauro/anaconda3/envs/qiime2-2021.11/lib/python3.8/site-packages/picrust2/Rscripts/castor_nsti.R /tmp/tmpyb9zc4r_/picrust2_out/out.tre /tmp/tmpldvq34h9/known_tips.txt /tmp/tmpldvq34h9/nsti_out.txt\n",
      "\n",
      "Rscript /home/lauro/anaconda3/envs/qiime2-2021.11/lib/python3.8/site-packages/picrust2/Rscripts/castor_hsp.R /tmp/tmpyb9zc4r_/picrust2_out/out.tre /tmp/tmp_os85xzt/subset_tab_0 pic 0.5 FALSE FALSE /tmp/tmp3k0z8ruy/predicted_counts.txt /tmp/tmp3k0z8ruy/predicted_ci.txt 100\n",
      "\n",
      "\n",
      "hsp.py --tree /tmp/tmpyb9zc4r_/picrust2_out/out.tre --output /tmp/tmpyb9zc4r_/picrust2_out/EC_predicted.tsv.gz --observed_trait_table /home/lauro/anaconda3/envs/qiime2-2021.11/lib/python3.8/site-packages/picrust2/default_files/prokaryotic/ec.txt.gz --hsp_method pic --edge_exponent 0.5 --seed 100 --processes 6 --verbose\n"
     ]
    },
    {
     "name": "stdout",
     "output_type": "stream",
     "text": [
      "\n",
      "\n",
      "\n",
      "\n",
      "\n",
      "\n",
      "\n"
     ]
    },
    {
     "name": "stderr",
     "output_type": "stream",
     "text": [
      "Rscript /home/lauro/anaconda3/envs/qiime2-2021.11/lib/python3.8/site-packages/picrust2/Rscripts/castor_hsp.R /tmp/tmpyb9zc4r_/picrust2_out/out.tre /tmp/tmpu208uxu1/subset_tab_5 pic 0.5 FALSE FALSE /tmp/tmpcvi4bq8j/predicted_counts.txt /tmp/tmpcvi4bq8j/predicted_ci.txt 100\n",
      "\n",
      "Rscript /home/lauro/anaconda3/envs/qiime2-2021.11/lib/python3.8/site-packages/picrust2/Rscripts/castor_hsp.R /tmp/tmpyb9zc4r_/picrust2_out/out.tre /tmp/tmpu208uxu1/subset_tab_3 pic 0.5 FALSE FALSE /tmp/tmpqv5bh8wc/predicted_counts.txt /tmp/tmpqv5bh8wc/predicted_ci.txt 100\n",
      "\n",
      "Rscript /home/lauro/anaconda3/envs/qiime2-2021.11/lib/python3.8/site-packages/picrust2/Rscripts/castor_hsp.R /tmp/tmpyb9zc4r_/picrust2_out/out.tre /tmp/tmpu208uxu1/subset_tab_0 pic 0.5 FALSE FALSE /tmp/tmp1f29kww9/predicted_counts.txt /tmp/tmp1f29kww9/predicted_ci.txt 100\n",
      "\n",
      "Rscript /home/lauro/anaconda3/envs/qiime2-2021.11/lib/python3.8/site-packages/picrust2/Rscripts/castor_hsp.R /tmp/tmpyb9zc4r_/picrust2_out/out.tre /tmp/tmpu208uxu1/subset_tab_4 pic 0.5 FALSE FALSE /tmp/tmp7sn1_8em/predicted_counts.txt /tmp/tmp7sn1_8em/predicted_ci.txt 100\n",
      "\n",
      "Rscript /home/lauro/anaconda3/envs/qiime2-2021.11/lib/python3.8/site-packages/picrust2/Rscripts/castor_hsp.R /tmp/tmpyb9zc4r_/picrust2_out/out.tre /tmp/tmpu208uxu1/subset_tab_2 pic 0.5 FALSE FALSE /tmp/tmpdv71xai0/predicted_counts.txt /tmp/tmpdv71xai0/predicted_ci.txt 100\n",
      "\n",
      "Rscript /home/lauro/anaconda3/envs/qiime2-2021.11/lib/python3.8/site-packages/picrust2/Rscripts/castor_hsp.R /tmp/tmpyb9zc4r_/picrust2_out/out.tre /tmp/tmpu208uxu1/subset_tab_1 pic 0.5 FALSE FALSE /tmp/tmptnlyq3wp/predicted_counts.txt /tmp/tmptnlyq3wp/predicted_ci.txt 100\n",
      "\n",
      "\n",
      "hsp.py --tree /tmp/tmpyb9zc4r_/picrust2_out/out.tre --output /tmp/tmpyb9zc4r_/picrust2_out/KO_predicted.tsv.gz --observed_trait_table /home/lauro/anaconda3/envs/qiime2-2021.11/lib/python3.8/site-packages/picrust2/default_files/prokaryotic/ko.txt.gz --hsp_method pic --edge_exponent 0.5 --seed 100 --processes 6 --verbose\n"
     ]
    },
    {
     "name": "stdout",
     "output_type": "stream",
     "text": [
      "\n",
      "\n",
      "\n",
      "\n",
      "\n",
      "\n",
      "\n",
      "\n",
      "\n",
      "\n",
      "\n",
      "\n",
      "\n",
      "\n",
      "\n",
      "\n",
      "\n",
      "\n",
      "\n",
      "\n",
      "\n",
      "\n",
      "\n"
     ]
    },
    {
     "name": "stderr",
     "output_type": "stream",
     "text": [
      "Rscript /home/lauro/anaconda3/envs/qiime2-2021.11/lib/python3.8/site-packages/picrust2/Rscripts/castor_hsp.R /tmp/tmpyb9zc4r_/picrust2_out/out.tre /tmp/tmptc54kq5f/subset_tab_4 pic 0.5 FALSE FALSE /tmp/tmphoa1c5fy/predicted_counts.txt /tmp/tmphoa1c5fy/predicted_ci.txt 100\n",
      "\n",
      "Rscript /home/lauro/anaconda3/envs/qiime2-2021.11/lib/python3.8/site-packages/picrust2/Rscripts/castor_hsp.R /tmp/tmpyb9zc4r_/picrust2_out/out.tre /tmp/tmptc54kq5f/subset_tab_7 pic 0.5 FALSE FALSE /tmp/tmp94do3575/predicted_counts.txt /tmp/tmp94do3575/predicted_ci.txt 100\n",
      "\n",
      "Rscript /home/lauro/anaconda3/envs/qiime2-2021.11/lib/python3.8/site-packages/picrust2/Rscripts/castor_hsp.R /tmp/tmpyb9zc4r_/picrust2_out/out.tre /tmp/tmptc54kq5f/subset_tab_13 pic 0.5 FALSE FALSE /tmp/tmphjd3yy8c/predicted_counts.txt /tmp/tmphjd3yy8c/predicted_ci.txt 100\n",
      "\n",
      "Rscript /home/lauro/anaconda3/envs/qiime2-2021.11/lib/python3.8/site-packages/picrust2/Rscripts/castor_hsp.R /tmp/tmpyb9zc4r_/picrust2_out/out.tre /tmp/tmptc54kq5f/subset_tab_21 pic 0.5 FALSE FALSE /tmp/tmpudwln_1w/predicted_counts.txt /tmp/tmpudwln_1w/predicted_ci.txt 100\n",
      "\n",
      "Rscript /home/lauro/anaconda3/envs/qiime2-2021.11/lib/python3.8/site-packages/picrust2/Rscripts/castor_hsp.R /tmp/tmpyb9zc4r_/picrust2_out/out.tre /tmp/tmptc54kq5f/subset_tab_0 pic 0.5 FALSE FALSE /tmp/tmpba2vzcn8/predicted_counts.txt /tmp/tmpba2vzcn8/predicted_ci.txt 100\n",
      "\n",
      "Rscript /home/lauro/anaconda3/envs/qiime2-2021.11/lib/python3.8/site-packages/picrust2/Rscripts/castor_hsp.R /tmp/tmpyb9zc4r_/picrust2_out/out.tre /tmp/tmptc54kq5f/subset_tab_8 pic 0.5 FALSE FALSE /tmp/tmpyebikyft/predicted_counts.txt /tmp/tmpyebikyft/predicted_ci.txt 100\n",
      "\n",
      "Rscript /home/lauro/anaconda3/envs/qiime2-2021.11/lib/python3.8/site-packages/picrust2/Rscripts/castor_hsp.R /tmp/tmpyb9zc4r_/picrust2_out/out.tre /tmp/tmptc54kq5f/subset_tab_14 pic 0.5 FALSE FALSE /tmp/tmpq_byymfj/predicted_counts.txt /tmp/tmpq_byymfj/predicted_ci.txt 100\n",
      "\n",
      "Rscript /home/lauro/anaconda3/envs/qiime2-2021.11/lib/python3.8/site-packages/picrust2/Rscripts/castor_hsp.R /tmp/tmpyb9zc4r_/picrust2_out/out.tre /tmp/tmptc54kq5f/subset_tab_1 pic 0.5 FALSE FALSE /tmp/tmps8jjm1kg/predicted_counts.txt /tmp/tmps8jjm1kg/predicted_ci.txt 100\n",
      "\n",
      "Rscript /home/lauro/anaconda3/envs/qiime2-2021.11/lib/python3.8/site-packages/picrust2/Rscripts/castor_hsp.R /tmp/tmpyb9zc4r_/picrust2_out/out.tre /tmp/tmptc54kq5f/subset_tab_6 pic 0.5 FALSE FALSE /tmp/tmpiy4qam3t/predicted_counts.txt /tmp/tmpiy4qam3t/predicted_ci.txt 100\n",
      "\n",
      "Rscript /home/lauro/anaconda3/envs/qiime2-2021.11/lib/python3.8/site-packages/picrust2/Rscripts/castor_hsp.R /tmp/tmpyb9zc4r_/picrust2_out/out.tre /tmp/tmptc54kq5f/subset_tab_12 pic 0.5 FALSE FALSE /tmp/tmp8_2dkn_4/predicted_counts.txt /tmp/tmp8_2dkn_4/predicted_ci.txt 100\n",
      "\n",
      "Rscript /home/lauro/anaconda3/envs/qiime2-2021.11/lib/python3.8/site-packages/picrust2/Rscripts/castor_hsp.R /tmp/tmpyb9zc4r_/picrust2_out/out.tre /tmp/tmptc54kq5f/subset_tab_17 pic 0.5 FALSE FALSE /tmp/tmpqegfxjzb/predicted_counts.txt /tmp/tmpqegfxjzb/predicted_ci.txt 100\n",
      "\n",
      "Rscript /home/lauro/anaconda3/envs/qiime2-2021.11/lib/python3.8/site-packages/picrust2/Rscripts/castor_hsp.R /tmp/tmpyb9zc4r_/picrust2_out/out.tre /tmp/tmptc54kq5f/subset_tab_5 pic 0.5 FALSE FALSE /tmp/tmpq4063i1w/predicted_counts.txt /tmp/tmpq4063i1w/predicted_ci.txt 100\n",
      "\n",
      "Rscript /home/lauro/anaconda3/envs/qiime2-2021.11/lib/python3.8/site-packages/picrust2/Rscripts/castor_hsp.R /tmp/tmpyb9zc4r_/picrust2_out/out.tre /tmp/tmptc54kq5f/subset_tab_11 pic 0.5 FALSE FALSE /tmp/tmpt17kcd1k/predicted_counts.txt /tmp/tmpt17kcd1k/predicted_ci.txt 100\n",
      "\n",
      "Rscript /home/lauro/anaconda3/envs/qiime2-2021.11/lib/python3.8/site-packages/picrust2/Rscripts/castor_hsp.R /tmp/tmpyb9zc4r_/picrust2_out/out.tre /tmp/tmptc54kq5f/subset_tab_18 pic 0.5 FALSE FALSE /tmp/tmpjn89f6zk/predicted_counts.txt /tmp/tmpjn89f6zk/predicted_ci.txt 100\n",
      "\n",
      "Rscript /home/lauro/anaconda3/envs/qiime2-2021.11/lib/python3.8/site-packages/picrust2/Rscripts/castor_hsp.R /tmp/tmpyb9zc4r_/picrust2_out/out.tre /tmp/tmptc54kq5f/subset_tab_3 pic 0.5 FALSE FALSE /tmp/tmp67g9ztwd/predicted_counts.txt /tmp/tmp67g9ztwd/predicted_ci.txt 100\n",
      "\n",
      "Rscript /home/lauro/anaconda3/envs/qiime2-2021.11/lib/python3.8/site-packages/picrust2/Rscripts/castor_hsp.R /tmp/tmpyb9zc4r_/picrust2_out/out.tre /tmp/tmptc54kq5f/subset_tab_10 pic 0.5 FALSE FALSE /tmp/tmpfg6no91c/predicted_counts.txt /tmp/tmpfg6no91c/predicted_ci.txt 100\n",
      "\n",
      "Rscript /home/lauro/anaconda3/envs/qiime2-2021.11/lib/python3.8/site-packages/picrust2/Rscripts/castor_hsp.R /tmp/tmpyb9zc4r_/picrust2_out/out.tre /tmp/tmptc54kq5f/subset_tab_16 pic 0.5 FALSE FALSE /tmp/tmpwwerf19_/predicted_counts.txt /tmp/tmpwwerf19_/predicted_ci.txt 100\n",
      "\n",
      "Rscript /home/lauro/anaconda3/envs/qiime2-2021.11/lib/python3.8/site-packages/picrust2/Rscripts/castor_hsp.R /tmp/tmpyb9zc4r_/picrust2_out/out.tre /tmp/tmptc54kq5f/subset_tab_19 pic 0.5 FALSE FALSE /tmp/tmpl37el98o/predicted_counts.txt /tmp/tmpl37el98o/predicted_ci.txt 100\n",
      "\n",
      "Rscript /home/lauro/anaconda3/envs/qiime2-2021.11/lib/python3.8/site-packages/picrust2/Rscripts/castor_hsp.R /tmp/tmpyb9zc4r_/picrust2_out/out.tre /tmp/tmptc54kq5f/subset_tab_2 pic 0.5 FALSE FALSE /tmp/tmpzpzwwoed/predicted_counts.txt /tmp/tmpzpzwwoed/predicted_ci.txt 100\n",
      "\n",
      "Rscript /home/lauro/anaconda3/envs/qiime2-2021.11/lib/python3.8/site-packages/picrust2/Rscripts/castor_hsp.R /tmp/tmpyb9zc4r_/picrust2_out/out.tre /tmp/tmptc54kq5f/subset_tab_9 pic 0.5 FALSE FALSE /tmp/tmpjvz9kd87/predicted_counts.txt /tmp/tmpjvz9kd87/predicted_ci.txt 100\n",
      "\n",
      "Rscript /home/lauro/anaconda3/envs/qiime2-2021.11/lib/python3.8/site-packages/picrust2/Rscripts/castor_hsp.R /tmp/tmpyb9zc4r_/picrust2_out/out.tre /tmp/tmptc54kq5f/subset_tab_15 pic 0.5 FALSE FALSE /tmp/tmpupij97xg/predicted_counts.txt /tmp/tmpupij97xg/predicted_ci.txt 100\n",
      "\n",
      "Rscript /home/lauro/anaconda3/envs/qiime2-2021.11/lib/python3.8/site-packages/picrust2/Rscripts/castor_hsp.R /tmp/tmpyb9zc4r_/picrust2_out/out.tre /tmp/tmptc54kq5f/subset_tab_20 pic 0.5 FALSE FALSE /tmp/tmp3d0fq0af/predicted_counts.txt /tmp/tmp3d0fq0af/predicted_ci.txt 100\n",
      "\n",
      "\n",
      "Running metagenome pipeline for EC\n",
      "metagenome_pipeline.py --input /tmp/tmpyb9zc4r_/intable.biom --function /tmp/tmpyb9zc4r_/picrust2_out/EC_predicted.tsv.gz --min_reads 1 --min_samples 1 --out_dir /tmp/tmpyb9zc4r_/picrust2_out/EC_metagenome_out --max_nsti 2 --marker /tmp/tmpyb9zc4r_/picrust2_out/marker_predicted_and_nsti.tsv.gz\n"
     ]
    },
    {
     "name": "stdout",
     "output_type": "stream",
     "text": [
      "\n"
     ]
    },
    {
     "name": "stderr",
     "output_type": "stream",
     "text": [
      "1 of 1161 ASVs were above the max NSTI cut-off of 2.0 and were removed from the downstream analyses.\n",
      "\n",
      "Running metagenome pipeline for KO\n",
      "metagenome_pipeline.py --input /tmp/tmpyb9zc4r_/intable.biom --function /tmp/tmpyb9zc4r_/picrust2_out/KO_predicted.tsv.gz --min_reads 1 --min_samples 1 --out_dir /tmp/tmpyb9zc4r_/picrust2_out/KO_metagenome_out --max_nsti 2 --marker /tmp/tmpyb9zc4r_/picrust2_out/marker_predicted_and_nsti.tsv.gz\n"
     ]
    },
    {
     "name": "stdout",
     "output_type": "stream",
     "text": [
      "\n",
      "Inferring pathways from predicted EC\n"
     ]
    },
    {
     "name": "stderr",
     "output_type": "stream",
     "text": [
      "1 of 1161 ASVs were above the max NSTI cut-off of 2.0 and were removed from the downstream analyses.\n",
      "\n",
      "pathway_pipeline.py --input /tmp/tmpyb9zc4r_/picrust2_out/EC_metagenome_out/pred_metagenome_unstrat.tsv.gz --out_dir /tmp/tmpyb9zc4r_/picrust2_out/pathways_out --map /home/lauro/anaconda3/envs/qiime2-2021.11/lib/python3.8/site-packages/picrust2/default_files/pathway_mapfiles/metacyc_path2rxn_struc_filt_pro.txt --intermediate /tmp/tmpyb9zc4r_/picrust2_out/intermediate/pathways --proc 6 --regroup_map /home/lauro/anaconda3/envs/qiime2-2021.11/lib/python3.8/site-packages/picrust2/default_files/pathway_mapfiles/ec_level4_to_metacyc_rxn.tsv --verbose\n"
     ]
    },
    {
     "name": "stderr",
     "output_type": "stream",
     "text": [
      "\n",
      "Wrote predicted pathway abundances and coverages to /tmp/tmpyb9zc4r_/picrust2_out/pathways_out\n"
     ]
    }
   ],
   "source": [
    "need_pipeline = replace_files\n",
    "need_pipeline |= not (os.path.isfile(ec_path) and os.path.isfile(ko_path) and os.path.isfile(pathway_path))\n",
    "if need_pipeline:\n",
    "    results = picrust2.methods.full_pipeline(\n",
    "        table=tabs, \n",
    "        seq=seqs, \n",
    "        threads=6, \n",
    "        placement_tool='sepp',\n",
    "        hsp_method='pic', \n",
    "        max_nsti=2,\n",
    "        highly_verbose=True\n",
    "    )\n",
    "    ec_metagenome = results.ec_metagenome\n",
    "    ko_metagenome = results.ko_metagenome\n",
    "    pathway_abundance = results.pathway_abundance\n",
    "else:\n",
    "    ec_metagenome = Artifact.load(ec_path)\n",
    "    ko_metagenome = Artifact.load(ko_path)\n",
    "    pathway_abundance = Artifact.load(pathway_path)"
   ]
  },
  {
   "cell_type": "markdown",
   "id": "771308c4",
   "metadata": {
    "papermill": {
     "duration": 0.042108,
     "end_time": "2023-09-04T18:32:03.852761",
     "exception": false,
     "start_time": "2023-09-04T18:32:03.810653",
     "status": "completed"
    },
    "tags": []
   },
   "source": [
    "### Persist created artifacts\n",
    "\n",
    "We will define file paths and persist all artifacts. We start with `.qza` files. We will save the visualization files in sequence as `qzv` files. Finally, we save a `biom`-like file as `tsv` with brief descriptions of all functions."
   ]
  },
  {
   "cell_type": "code",
   "execution_count": 10,
   "id": "c680ab46",
   "metadata": {
    "ExecuteTime": {
     "end_time": "2022-11-09T19:20:47.646444Z",
     "start_time": "2022-11-09T19:20:47.643806Z"
    },
    "execution": {
     "iopub.execute_input": "2023-09-04T18:32:03.939636Z",
     "iopub.status.busy": "2023-09-04T18:32:03.939180Z",
     "iopub.status.idle": "2023-09-04T18:32:04.060160Z",
     "shell.execute_reply": "2023-09-04T18:32:04.060985Z"
    },
    "papermill": {
     "duration": 0.166149,
     "end_time": "2023-09-04T18:32:04.061232",
     "exception": false,
     "start_time": "2023-09-04T18:32:03.895083",
     "status": "completed"
    },
    "tags": []
   },
   "outputs": [],
   "source": [
    "if need_pipeline:\n",
    "    # Export artifact folder\n",
    "    ec_metagenome.export_data(output_dir=ec_path.split('.')[0])\n",
    "    ko_metagenome.export_data(output_dir=ko_path.split('.')[0])\n",
    "    pathway_abundance.export_data(output_dir=pathway_path.split('.')[0])\n",
    "    \n",
    "    # Save artifacts as .qza files\n",
    "    ec_metagenome.save(ec_path)\n",
    "    ko_metagenome.save(ko_path)\n",
    "    pathway_abundance.save(pathway_path)"
   ]
  },
  {
   "cell_type": "code",
   "execution_count": 11,
   "id": "d61ebec3",
   "metadata": {
    "ExecuteTime": {
     "end_time": "2022-11-09T19:20:47.687022Z",
     "start_time": "2022-11-09T19:20:47.647637Z"
    },
    "execution": {
     "iopub.execute_input": "2023-09-04T18:32:04.144051Z",
     "iopub.status.busy": "2023-09-04T18:32:04.143608Z",
     "iopub.status.idle": "2023-09-04T18:32:08.530822Z",
     "shell.execute_reply": "2023-09-04T18:32:08.531734Z"
    },
    "papermill": {
     "duration": 4.429739,
     "end_time": "2023-09-04T18:32:08.532008",
     "exception": false,
     "start_time": "2023-09-04T18:32:04.102269",
     "status": "completed"
    },
    "tags": []
   },
   "outputs": [],
   "source": [
    "need_viz = replace_files\n",
    "need_viz |= not (os.path.isfile(ec_viz_path) and os.path.isfile(ko_viz_path) and os.path.isfile(pathway_viz_path))\n",
    "if need_viz:\n",
    "    # Create visualization artifacts\n",
    "    ec_viz = summarize(table=ec_metagenome, sample_metadata=metadata_qa).visualization\n",
    "    ko_viz = summarize(table=ko_metagenome, sample_metadata=metadata_qa).visualization\n",
    "    path_viz = summarize(table=pathway_abundance, sample_metadata=metadata_qa).visualization\n",
    "\n",
    "    # Save visualization artifacts as .qzv files\n",
    "    ec_viz.save(ec_viz_path)\n",
    "    ko_viz.save(ko_viz_path)\n",
    "    path_viz.save(pathway_viz_path)"
   ]
  },
  {
   "cell_type": "code",
   "execution_count": 12,
   "id": "57f1f4d8",
   "metadata": {
    "ExecuteTime": {
     "end_time": "2022-11-09T19:20:47.704885Z",
     "start_time": "2022-11-09T19:20:47.689312Z"
    },
    "execution": {
     "iopub.execute_input": "2023-09-04T18:32:08.716533Z",
     "iopub.status.busy": "2023-09-04T18:32:08.715372Z",
     "iopub.status.idle": "2023-09-04T18:32:12.017518Z",
     "shell.execute_reply": "2023-09-04T18:32:12.018466Z"
    },
    "papermill": {
     "duration": 3.415035,
     "end_time": "2023-09-04T18:32:12.018748",
     "exception": false,
     "start_time": "2023-09-04T18:32:08.603713",
     "status": "completed"
    },
    "tags": []
   },
   "outputs": [],
   "source": [
    "need_biom = replace_files\n",
    "need_biom |= not (os.path.isfile(ec_fpath) and os.path.isfile(ko_fpath) and os.path.isfile(pathway_fpath))\n",
    "if need_biom:\n",
    "    # Convert artifact to dataframe - transposed\n",
    "    df_pathway = pathway_abundance.view(pd.DataFrame).T\n",
    "    df_ec = ec_metagenome.view(pd.DataFrame).T\n",
    "    df_ko = ko_metagenome.view(pd.DataFrame).T\n",
    "\n",
    "    # Write dataframe to a tsv file\n",
    "    df_pathway.to_csv(pathway_fpath, sep='\\t', index=True)\n",
    "    df_ec.to_csv(ec_fpath, sep='\\t', index=True)\n",
    "    df_ko.to_csv(ko_fpath, sep='\\t', index=True)\n",
    "    \n",
    "    # Put a new column with descriptions of each function's ID\n",
    "    !add_descriptions.py -i {ec_fpath} -m EC -o {ec_desc_fpath}\n",
    "    !add_descriptions.py -i {ko_fpath} -m KO -o {ko_desc_fpath}\n",
    "    !add_descriptions.py -i {pathway_fpath} -m METACYC -o {pathway_desc_fpath}"
   ]
  }
 ],
 "metadata": {
  "celltoolbar": "Edit Metadata",
  "kernelspec": {
   "display_name": "Python 3 (ipykernel)",
   "language": "python",
   "name": "python3"
  },
  "language_info": {
   "codemirror_mode": {
    "name": "ipython",
    "version": 3
   },
   "file_extension": ".py",
   "mimetype": "text/x-python",
   "name": "python",
   "nbconvert_exporter": "python",
   "pygments_lexer": "ipython3",
   "version": "3.8.12"
  },
  "papermill": {
   "default_parameters": {},
   "duration": 475.293634,
   "end_time": "2023-09-04T18:32:13.180084",
   "environment_variables": {},
   "exception": null,
   "input_path": "nb-templates/step-picrust2-analysis.ipynb",
   "output_path": "/home/lauro/nupeb/rede-micro/redemicro-ana-flavia-nutri/experiments/ana-flavia-STD-NRxHSD-NR-trim/nb-executed-steps/step-picrust2-analysis-ana-flavia-STD-NRxHSD-NR-trim.ipynb",
   "parameters": {
    "base_dir": "/home/lauro/nupeb/rede-micro/redemicro-ana-flavia-nutri",
    "class_col": "group-id",
    "classifier_file": "/home/lauro/nupeb/rede-micro/models/silva-138-99-nb-classifier.qza",
    "experiment_name": "ana-flavia-STD-NRxHSD-NR-trim",
    "manifest_file": "/home/lauro/nupeb/rede-micro/redemicro-ana-flavia-nutri/data/raw/manifest/manifest-ana-flavia-STD-NRxHSD-NR.csv",
    "metadata_file": "/home/lauro/nupeb/rede-micro/redemicro-ana-flavia-nutri/data/raw/metadata/metadata-ana-flavia-STD-NRxHSD-NR.tsv",
    "overlap": 12,
    "phred": 20,
    "replace_files": false,
    "threads": 6,
    "top_n": 20,
    "trim": {
     "forward_primer": "CCTACGGGRSGCAGCAG",
     "overlap": 8,
     "reverse_primer": "GGACTACHVGGGTWTCTAAT"
    },
    "trunc_f": 0,
    "trunc_r": 0
   },
   "start_time": "2023-09-04T18:24:17.886450",
   "version": "2.3.4"
  }
 },
 "nbformat": 4,
 "nbformat_minor": 5
}