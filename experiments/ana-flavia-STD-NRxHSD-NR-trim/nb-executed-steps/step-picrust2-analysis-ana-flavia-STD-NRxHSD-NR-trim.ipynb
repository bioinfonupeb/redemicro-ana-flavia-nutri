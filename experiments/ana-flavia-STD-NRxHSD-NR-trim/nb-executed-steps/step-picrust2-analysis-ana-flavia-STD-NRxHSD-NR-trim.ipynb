{
 "cells": [
  {
   "cell_type": "markdown",
   "id": "0e7f2330",
   "metadata": {
    "ExecuteTime": {
     "end_time": "2022-09-22T19:36:33.828188Z",
     "start_time": "2022-09-22T19:36:33.817323Z"
    },
    "papermill": {
     "duration": 0.039424,
     "end_time": "2023-06-07T15:19:00.254022",
     "exception": false,
     "start_time": "2023-06-07T15:19:00.214598",
     "status": "completed"
    },
    "tags": []
   },
   "source": [
    "### STEP : PICRUST2 Analysis\n",
    "\n",
    "\n",
    "\n",
    "#### Example\n",
    "\n",
    "- [PICRUST2 tutorial](https://github.com/picrust/picrust2/wiki/q2-picrust2-Tutorial)\n",
    "- [Limitations](https://github.com/picrust/picrust2/wiki/Key-Limitations)\n",
    "\n",
    "\n",
    "#### Methods\n",
    "- [composition](https://docs.qiime2.org/2022.8/plugins/available/composition/)"
   ]
  },
  {
   "cell_type": "markdown",
   "id": "843debbf",
   "metadata": {
    "papermill": {
     "duration": 0.028469,
     "end_time": "2023-06-07T15:19:00.312810",
     "exception": false,
     "start_time": "2023-06-07T15:19:00.284341",
     "status": "completed"
    },
    "tags": []
   },
   "source": [
    "## Setup and settings"
   ]
  },
  {
   "cell_type": "code",
   "execution_count": 1,
   "id": "965e28e5",
   "metadata": {
    "ExecuteTime": {
     "end_time": "2022-11-09T19:20:47.478806Z",
     "start_time": "2022-11-09T19:20:40.457657Z"
    },
    "execution": {
     "iopub.execute_input": "2023-06-07T15:19:00.378858Z",
     "iopub.status.busy": "2023-06-07T15:19:00.378337Z",
     "iopub.status.idle": "2023-06-07T15:19:07.552679Z",
     "shell.execute_reply": "2023-06-07T15:19:07.551481Z"
    },
    "papermill": {
     "duration": 7.212029,
     "end_time": "2023-06-07T15:19:07.552928",
     "exception": false,
     "start_time": "2023-06-07T15:19:00.340899",
     "status": "completed"
    },
    "tags": []
   },
   "outputs": [],
   "source": [
    "# Importing packages\n",
    "import os\n",
    "import biom\n",
    "import pandas as pd\n",
    "from qiime2 import Artifact\n",
    "from qiime2 import Visualization\n",
    "from qiime2 import Metadata\n",
    "\n",
    "from qiime2.plugins.feature_table.visualizers import summarize\n",
    "\n",
    "from picrust2.pipeline import full_pipeline\n",
    "from picrust2.default import (default_ref_dir, default_tables, default_regroup_map, default_pathway_map)\n",
    "from qiime2.plugins import picrust2\n",
    "\n",
    "%matplotlib inline"
   ]
  },
  {
   "cell_type": "markdown",
   "id": "530ceb60",
   "metadata": {
    "papermill": {
     "duration": 0.027798,
     "end_time": "2023-06-07T15:19:07.615374",
     "exception": false,
     "start_time": "2023-06-07T15:19:07.587576",
     "status": "completed"
    },
    "tags": []
   },
   "source": [
    "### Receiving the parameters\n",
    "\n",
    "The following cell can receive parameters using the [papermill](https://papermill.readthedocs.io/en/latest/) tool."
   ]
  },
  {
   "cell_type": "code",
   "execution_count": 2,
   "id": "18d874ea",
   "metadata": {
    "ExecuteTime": {
     "end_time": "2022-11-09T19:20:47.483140Z",
     "start_time": "2022-11-09T19:20:47.480386Z"
    },
    "execution": {
     "iopub.execute_input": "2023-06-07T15:19:07.675980Z",
     "iopub.status.busy": "2023-06-07T15:19:07.675442Z",
     "iopub.status.idle": "2023-06-07T15:19:07.677342Z",
     "shell.execute_reply": "2023-06-07T15:19:07.677765Z"
    },
    "papermill": {
     "duration": 0.034533,
     "end_time": "2023-06-07T15:19:07.677881",
     "exception": false,
     "start_time": "2023-06-07T15:19:07.643348",
     "status": "completed"
    },
    "tags": [
     "parameters"
    ]
   },
   "outputs": [],
   "source": [
    "metadata_file = '/home/lauro/nupeb/rede-micro/redemicro-miliane-nutri/data/raw/metadata/miliane-metadata-CxAC.tsv'\n",
    "base_dir = os.path.join('/', 'home', 'lauro', 'nupeb', 'rede-micro', 'redemicro-miliane-nutri')\n",
    "experiment_name = 'miliane-CxAC-trim'\n",
    "class_col = 'group-id'\n",
    "replace_files = False"
   ]
  },
  {
   "cell_type": "code",
   "execution_count": 3,
   "id": "7f009bc2",
   "metadata": {
    "execution": {
     "iopub.execute_input": "2023-06-07T15:19:07.735281Z",
     "iopub.status.busy": "2023-06-07T15:19:07.734819Z",
     "iopub.status.idle": "2023-06-07T15:19:07.737450Z",
     "shell.execute_reply": "2023-06-07T15:19:07.737007Z"
    },
    "papermill": {
     "duration": 0.031108,
     "end_time": "2023-06-07T15:19:07.737534",
     "exception": false,
     "start_time": "2023-06-07T15:19:07.706426",
     "status": "completed"
    },
    "tags": [
     "injected-parameters"
    ]
   },
   "outputs": [],
   "source": [
    "# Parameters\n",
    "experiment_name = \"ana-flavia-STD-NRxHSD-NR-trim\"\n",
    "base_dir = \"/home/lauro/nupeb/rede-micro/redemicro-ana-flavia-nutri\"\n",
    "manifest_file = \"/home/lauro/nupeb/rede-micro/redemicro-ana-flavia-nutri/data/raw/manifest/manifest-ana-flavia-STD-NRxHSD-NR.csv\"\n",
    "metadata_file = \"/home/lauro/nupeb/rede-micro/redemicro-ana-flavia-nutri/data/raw/metadata/metadata-ana-flavia-STD-NRxHSD-NR.tsv\"\n",
    "class_col = \"group-id\"\n",
    "classifier_file = \"/home/lauro/nupeb/rede-micro/models/silva-138-99-nb-classifier.qza\"\n",
    "top_n = 20\n",
    "replace_files = False\n",
    "phred = 20\n",
    "trunc_f = 0\n",
    "trunc_r = 0\n",
    "overlap = 12\n",
    "threads = 6\n",
    "trim = {\n",
    "    \"overlap\": 8,\n",
    "    \"forward_primer\": \"CCTACGGGRSGCAGCAG\",\n",
    "    \"reverse_primer\": \"GGACTACHVGGGTWTCTAAT\",\n",
    "}\n"
   ]
  },
  {
   "cell_type": "code",
   "execution_count": 4,
   "id": "f38617d9",
   "metadata": {
    "ExecuteTime": {
     "end_time": "2022-11-09T19:20:47.515942Z",
     "start_time": "2022-11-09T19:20:47.498345Z"
    },
    "execution": {
     "iopub.execute_input": "2023-06-07T15:19:07.790043Z",
     "iopub.status.busy": "2023-06-07T15:19:07.789584Z",
     "iopub.status.idle": "2023-06-07T15:19:07.791853Z",
     "shell.execute_reply": "2023-06-07T15:19:07.792215Z"
    },
    "papermill": {
     "duration": 0.030364,
     "end_time": "2023-06-07T15:19:07.792314",
     "exception": false,
     "start_time": "2023-06-07T15:19:07.761950",
     "status": "completed"
    },
    "tags": []
   },
   "outputs": [],
   "source": [
    "experiment_folder = os.path.abspath(os.path.join(base_dir, 'experiments', experiment_name))\n",
    "img_folder = os.path.abspath(os.path.join(experiment_folder, 'imgs'))"
   ]
  },
  {
   "cell_type": "markdown",
   "id": "ea9b90fb",
   "metadata": {
    "papermill": {
     "duration": 0.0242,
     "end_time": "2023-06-07T15:19:07.842072",
     "exception": false,
     "start_time": "2023-06-07T15:19:07.817872",
     "status": "completed"
    },
    "tags": []
   },
   "source": [
    "### Defining names, paths and flags"
   ]
  },
  {
   "cell_type": "code",
   "execution_count": 5,
   "id": "45727eef",
   "metadata": {
    "ExecuteTime": {
     "end_time": "2022-11-09T19:20:47.527937Z",
     "start_time": "2022-11-09T19:20:47.517696Z"
    },
    "execution": {
     "iopub.execute_input": "2023-06-07T15:19:07.895598Z",
     "iopub.status.busy": "2023-06-07T15:19:07.895130Z",
     "iopub.status.idle": "2023-06-07T15:19:07.899453Z",
     "shell.execute_reply": "2023-06-07T15:19:07.899074Z"
    },
    "papermill": {
     "duration": 0.033257,
     "end_time": "2023-06-07T15:19:07.899551",
     "exception": false,
     "start_time": "2023-06-07T15:19:07.866294",
     "status": "completed"
    },
    "tags": []
   },
   "outputs": [
    {
     "name": "stdout",
     "output_type": "stream",
     "text": [
      "New picrust2-artifacts folder path created: /home/lauro/nupeb/rede-micro/redemicro-ana-flavia-nutri/experiments/ana-flavia-STD-NRxHSD-NR-trim/picrust2\n"
     ]
    }
   ],
   "source": [
    "# QIIME2 Artifacts folder\n",
    "qiime_folder = os.path.join(experiment_folder, 'qiime-artifacts')\n",
    "\n",
    "# Input - DADA2 Artifacts\n",
    "dada2_tabs_path = os.path.join(qiime_folder, 'dada2-tabs.qza')\n",
    "dada2_reqs_path = os.path.join(qiime_folder, 'dada2-reps.qza')\n",
    "\n",
    "# PICRUST@ folder\n",
    "picrust2_folder = os.path.abspath(os.path.join(experiment_folder, 'picrust2'))\n",
    "\n",
    "# Create path if it not exist\n",
    "if not os.path.isdir(picrust2_folder):\n",
    "    os.makedirs(picrust2_folder)\n",
    "    print(f'New picrust2-artifacts folder path created: {picrust2_folder}')"
   ]
  },
  {
   "cell_type": "code",
   "execution_count": 6,
   "id": "4903e645",
   "metadata": {
    "ExecuteTime": {
     "end_time": "2022-11-09T19:20:47.539993Z",
     "start_time": "2022-11-09T19:20:47.529653Z"
    },
    "execution": {
     "iopub.execute_input": "2023-06-07T15:19:07.960591Z",
     "iopub.status.busy": "2023-06-07T15:19:07.960063Z",
     "iopub.status.idle": "2023-06-07T15:19:07.963359Z",
     "shell.execute_reply": "2023-06-07T15:19:07.962905Z"
    },
    "papermill": {
     "duration": 0.035223,
     "end_time": "2023-06-07T15:19:07.963462",
     "exception": false,
     "start_time": "2023-06-07T15:19:07.928239",
     "status": "completed"
    },
    "tags": []
   },
   "outputs": [],
   "source": [
    "# Define paths for metagenome function artifacts\n",
    "ec_path = os.path.join(picrust2_folder, 'ec-pred-metagen.qza')\n",
    "ko_path = os.path.join(picrust2_folder, 'ko-pred-metagen.qza')\n",
    "pathway_path = os.path.join(picrust2_folder, 'pathway-abundance.qza')\n",
    "\n",
    "# Define paths for metagenome function visualization artifacts\n",
    "ec_viz_path = ec_path[:-1]+'v'\n",
    "ko_viz_path = ko_path[:-1]+'v'\n",
    "pathway_viz_path = pathway_path[:-1]+'v'\n",
    "\n",
    "# Define paths for biom -> tsv files (function X sample)\n",
    "pathway_fpath = os.path.join(picrust2_folder, 'pathway.tsv')\n",
    "ec_fpath = os.path.join(picrust2_folder, 'ec.tsv')\n",
    "ko_fpath = os.path.join(picrust2_folder, 'ko.tsv')\n",
    "\n",
    "# Define paths for biom -> tsv files (function X sample) - with descriptions\n",
    "pathway_desc_fpath = os.path.join(picrust2_folder, 'pathway-desc.tsv')\n",
    "ec_desc_fpath = os.path.join(picrust2_folder, 'ec-desc.tsv')\n",
    "ko_desc_fpath = os.path.join(picrust2_folder, 'ko-desc.tsv')"
   ]
  },
  {
   "cell_type": "markdown",
   "id": "0999a1b2",
   "metadata": {
    "papermill": {
     "duration": 0.025587,
     "end_time": "2023-06-07T15:19:08.016178",
     "exception": false,
     "start_time": "2023-06-07T15:19:07.990591",
     "status": "completed"
    },
    "tags": []
   },
   "source": [
    "## Step execution\n",
    "\n",
    "### Load input files\n",
    "\n",
    "This Step import the QIIME2 `FeatureTable[Frequency]` Artifact and the `Metadata` file."
   ]
  },
  {
   "cell_type": "code",
   "execution_count": 7,
   "id": "8f299d1a",
   "metadata": {
    "ExecuteTime": {
     "end_time": "2022-11-09T19:20:47.610793Z",
     "start_time": "2022-11-09T19:20:47.541540Z"
    },
    "execution": {
     "iopub.execute_input": "2023-06-07T15:19:08.070531Z",
     "iopub.status.busy": "2023-06-07T15:19:08.070087Z",
     "iopub.status.idle": "2023-06-07T15:19:08.098164Z",
     "shell.execute_reply": "2023-06-07T15:19:08.097527Z"
    },
    "papermill": {
     "duration": 0.057171,
     "end_time": "2023-06-07T15:19:08.098315",
     "exception": false,
     "start_time": "2023-06-07T15:19:08.041144",
     "status": "completed"
    },
    "tags": []
   },
   "outputs": [],
   "source": [
    "#Load Metadata\n",
    "metadata_qa = Metadata.load(metadata_file)\n",
    "\n",
    "#Load FeatureTable[Frequency]\n",
    "tabs = Artifact.load(dada2_tabs_path)\n",
    "\n",
    "#Load FeatureTable[Sequence]\n",
    "seqs = Artifact.load(dada2_reqs_path)"
   ]
  },
  {
   "cell_type": "markdown",
   "id": "4f1b06d4",
   "metadata": {
    "papermill": {
     "duration": 0.025241,
     "end_time": "2023-06-07T15:19:08.152646",
     "exception": false,
     "start_time": "2023-06-07T15:19:08.127405",
     "status": "completed"
    },
    "tags": []
   },
   "source": [
    "### Execute full pipelie\n",
    "\n",
    "The entire PICRUSt2 pipeline will be run using a single method, called `picrust2.methods.full_pipeline`. This method will run each of the 4 key steps: \n",
    "\n",
    "1. sequence placement\n",
    "2. hidden-state prediction of genomes\n",
    "3. metagenome prediction\n",
    "4. pathway-level predictions.\n",
    "\n",
    "More information on [Documentation](https://github.com/picrust/picrust2/wiki/Full-pipeline-script)."
   ]
  },
  {
   "cell_type": "code",
   "execution_count": 8,
   "id": "2c4f3874",
   "metadata": {
    "ExecuteTime": {
     "end_time": "2022-11-09T19:20:47.642417Z",
     "start_time": "2022-11-09T19:20:47.612547Z"
    },
    "execution": {
     "iopub.execute_input": "2023-06-07T15:19:08.209599Z",
     "iopub.status.busy": "2023-06-07T15:19:08.209172Z",
     "iopub.status.idle": "2023-06-07T15:26:47.941704Z",
     "shell.execute_reply": "2023-06-07T15:26:47.940755Z"
    },
    "papermill": {
     "duration": 459.76432,
     "end_time": "2023-06-07T15:26:47.941945",
     "exception": false,
     "start_time": "2023-06-07T15:19:08.177625",
     "status": "completed"
    },
    "scrolled": true,
    "tags": []
   },
   "outputs": [
    {
     "name": "stderr",
     "output_type": "stream",
     "text": [
      "1161 of 1161 sequence ids overlap between input table and FASTA.\n",
      "\n",
      "Placing sequences onto reference tree\n",
      "place_seqs.py --study_fasta /tmp/tmpeum56xd1/seqs.fna --ref_dir /home/lauro/anaconda3/envs/qiime2-2021.11/lib/python3.8/site-packages/picrust2/default_files/prokaryotic/pro_ref --out_tree /tmp/tmpeum56xd1/picrust2_out/out.tre --processes 6 --intermediate /tmp/tmpeum56xd1/picrust2_out/intermediate/place_seqs --min_align 0.8 --chunk_size 5000 --placement_tool sepp --verbose\n"
     ]
    },
    {
     "name": "stdout",
     "output_type": "stream",
     "text": [
      "\n",
      "['run_sepp.py', '--tree', '/home/lauro/anaconda3/envs/qiime2-2021.11/lib/python3.8/site-packages/picrust2/default_files/prokaryotic/pro_ref/pro_ref.tre', '--raxml', '/home/lauro/anaconda3/envs/qiime2-2021.11/lib/python3.8/site-packages/picrust2/default_files/prokaryotic/pro_ref/pro_ref.raxml_info', '--cpu', '6', '--molecule', 'dna', '--outdir', '/tmp/tmpeum56xd1/picrust2_out/intermediate/place_seqs/sepp_out', '-seed', '297834', '--alignment', '/home/lauro/anaconda3/envs/qiime2-2021.11/lib/python3.8/site-packages/picrust2/default_files/prokaryotic/pro_ref/pro_ref.fna', '--fragment', '/tmp/tmpeum56xd1/picrust2_out/intermediate/place_seqs/study_seqs_filtered.fasta']\n",
      "\n",
      "                                              ....      ....  \n",
      "                                             '' '||.   .||'   \n",
      "                                                  ||  ||      \n",
      "                                                  '|.|'       \n",
      "     ...'   ....   ... ...  ... ...   ....        .|'|.       \n",
      "    |  ||  '' .||   ||'  ||  ||'  || '' .||      .|'  ||      \n",
      "     |''   .|' ||   ||    |  ||    | .|' ||     .|'|.  ||     \n",
      "    '....  '|..'|'. ||...'   ||...'  '|..'|.    '||'    ||:.  \n",
      "    '....'          ||       ||                               \n",
      "                   ''''     ''''   v0.6.1 (c) 2017-2020\n",
      "                                   by Lucas Czech and Pierre Barbera\n",
      "\n",
      "Invocation:                        gappa examine graft --jplace-path /tmp/tmpeum56xd1/picrust2_out/intermediate/place_seqs/sepp_out/output_placement.json --fully-resolve --out-dir /tmp/tmpeum56xd1/picrust2_out/intermediate/place_seqs/sepp_out\n",
      "Command:                           gappa examine graft\n",
      "\n",
      "Input:\n",
      "  --jplace-path                    /tmp/tmpeum56xd1/picrust2_out/intermediate/place_seqs/sepp_out/output_placement.json\n",
      "\n",
      "Settings:\n",
      "  --fully-resolve                  true\n",
      "  --name-prefix\n",
      "\n",
      "Output:\n",
      "  --out-dir                        /tmp/tmpeum56xd1/picrust2_out/intermediate/place_seqs/sepp_out\n",
      "  --file-prefix                    \n",
      "  --file-suffix\n",
      "\n",
      "Global Options:\n",
      "  --allow-file-overwriting         false\n",
      "  --verbose                        false\n",
      "  --threads                        4\n",
      "  --log-file\n",
      "\n",
      "Run the following command to get the references that need to be cited:\n",
      "`gappa tools citation Czech2020-genesis-and-gappa`\n",
      "\n",
      "Started 2023-06-07 15:22:40\n",
      "\n",
      "Found 1 jplace file\n",
      "\n",
      "Finished 2023-06-07 15:22:40\n",
      "\n",
      "\n"
     ]
    },
    {
     "name": "stderr",
     "output_type": "stream",
     "text": [
      "hmmalign --trim --dna --mapali /home/lauro/anaconda3/envs/qiime2-2021.11/lib/python3.8/site-packages/picrust2/default_files/prokaryotic/pro_ref/pro_ref.fna --informat FASTA -o /tmp/tmpeum56xd1/picrust2_out/intermediate/place_seqs/query_align.stockholm /home/lauro/anaconda3/envs/qiime2-2021.11/lib/python3.8/site-packages/picrust2/default_files/prokaryotic/pro_ref/pro_ref.hmm /tmp/tmpeum56xd1/seqs.fna\n",
      "\n",
      "Raw input sequences ranged in length from 388 to 430\n",
      "\n",
      "run_sepp.py --tree /home/lauro/anaconda3/envs/qiime2-2021.11/lib/python3.8/site-packages/picrust2/default_files/prokaryotic/pro_ref/pro_ref.tre --raxml /home/lauro/anaconda3/envs/qiime2-2021.11/lib/python3.8/site-packages/picrust2/default_files/prokaryotic/pro_ref/pro_ref.raxml_info --cpu 6 --molecule dna --outdir /tmp/tmpeum56xd1/picrust2_out/intermediate/place_seqs/sepp_out -seed 297834 --alignment /home/lauro/anaconda3/envs/qiime2-2021.11/lib/python3.8/site-packages/picrust2/default_files/prokaryotic/pro_ref/pro_ref.fna --fragment /tmp/tmpeum56xd1/picrust2_out/intermediate/place_seqs/study_seqs_filtered.fasta\n",
      "[15:19:56] config.py (line 349):     INFO: Seed number: 297834\n",
      "[15:19:56] algorithm.py (line 258):     INFO: Reading input alignment: <_io.TextIOWrapper name='/home/lauro/anaconda3/envs/qiime2-2021.11/lib/python3.8/site-packages/picrust2/default_files/prokaryotic/pro_ref/pro_ref.fna' mode='r' encoding='UTF-8'>\n",
      "[15:19:56] algorithm.py (line 265):     INFO: Reading input tree: <_io.TextIOWrapper name='/home/lauro/anaconda3/envs/qiime2-2021.11/lib/python3.8/site-packages/picrust2/default_files/prokaryotic/pro_ref/pro_ref.tre' mode='r' encoding='UTF-8'>\n",
      "[15:19:58] algorithm.py (line 238):     INFO: Decomposition Sizes are set to alignment: 2000 placement: 2000\n",
      "[15:20:00] exhaustive.py (line 350):     INFO: Breaking into 16 placement subsets.\n",
      "[15:20:01] exhaustive.py (line 397):     INFO: Breaking into 16 alignment subsets.\n",
      "[15:20:01] filemgr.py (line 129):     INFO: Root temp directory built: /tmp/sepp/output.kad_c1tf\n",
      "[15:20:01] exhaustive.py (line 412):     INFO: Breaking each alignment subset into 3 fragment chunks.\n",
      "[15:20:03] jobs.py (line 131):     INFO: Finished hmmbuild Job with input: /tmp/sepp/output.kad_c1tf/root/P_1/A_1_0/hmmbuild.input.8inut5y3.fasta\n",
      "[15:20:03] jobs.py (line 131):     INFO: Finished hmmbuild Job with input: /tmp/sepp/output.kad_c1tf/root/P_4/A_4_0/hmmbuild.input.gceu90rx.fasta\n",
      "[15:20:03] jobs.py (line 131):     INFO: Finished hmmbuild Job with input: /tmp/sepp/output.kad_c1tf/root/P_0/A_0_0/hmmbuild.input.7vth_ddo.fasta\n",
      "[15:20:03] jobs.py (line 131):     INFO: Finished hmmbuild Job with input: /tmp/sepp/output.kad_c1tf/root/P_3/A_3_0/hmmbuild.input.m1hs0_mc.fasta\n",
      "[15:20:03] jobs.py (line 131):     INFO: Finished hmmbuild Job with input: /tmp/sepp/output.kad_c1tf/root/P_5/A_5_0/hmmbuild.input.nr76uvu1.fasta\n",
      "[15:20:03] jobs.py (line 131):     INFO: Finished hmmbuild Job with input: /tmp/sepp/output.kad_c1tf/root/P_2/A_2_0/hmmbuild.input.27slv6uk.fasta\n",
      "[15:20:04] jobs.py (line 131):     INFO: Finished hmmbuild Job with input: /tmp/sepp/output.kad_c1tf/root/P_9/A_9_0/hmmbuild.input.f5ood8or.fasta\n",
      "[15:20:04] jobs.py (line 131):     INFO: Finished hmmbuild Job with input: /tmp/sepp/output.kad_c1tf/root/P_11/A_11_0/hmmbuild.input.7eo1mgz6.fasta\n",
      "[15:20:04] jobs.py (line 131):     INFO: Finished hmmbuild Job with input: /tmp/sepp/output.kad_c1tf/root/P_7/A_7_0/hmmbuild.input.jo7vl8y5.fasta\n",
      "[15:20:04] jobs.py (line 131):     INFO: Finished hmmbuild Job with input: /tmp/sepp/output.kad_c1tf/root/P_6/A_6_0/hmmbuild.input.ddqq6cw0.fasta\n",
      "[15:20:04] jobs.py (line 131):     INFO: Finished hmmbuild Job with input: /tmp/sepp/output.kad_c1tf/root/P_8/A_8_0/hmmbuild.input.nspquj3t.fasta\n",
      "[15:20:04] jobs.py (line 131):     INFO: Finished hmmbuild Job with input: /tmp/sepp/output.kad_c1tf/root/P_10/A_10_0/hmmbuild.input.i0ykk9b5.fasta\n",
      "[15:20:05] jobs.py (line 131):     INFO: Finished hmmbuild Job with input: /tmp/sepp/output.kad_c1tf/root/P_12/A_12_0/hmmbuild.input.zfvj1vvy.fasta\n",
      "[15:20:05] jobs.py (line 131):     INFO: Finished hmmbuild Job with input: /tmp/sepp/output.kad_c1tf/root/P_13/A_13_0/hmmbuild.input.kzdaocx3.fasta\n",
      "[15:20:05] jobs.py (line 131):     INFO: Finished hmmbuild Job with input: /tmp/sepp/output.kad_c1tf/root/P_14/A_14_0/hmmbuild.input.sn_e7x75.fasta\n",
      "[15:20:05] jobs.py (line 131):     INFO: Finished hmmbuild Job with input: /tmp/sepp/output.kad_c1tf/root/P_15/A_15_0/hmmbuild.input.xp4hkp5l.fasta\n",
      "[15:20:10] jobs.py (line 131):     INFO: Finished hmmsearch Job with input: model:/tmp/sepp/output.kad_c1tf/root/P_4/A_4_0/hmmbuild.model.o1hgv8pf, fragments:/tmp/sepp/output.kad_c1tf/fragment_chunks/fragment_chunk_1bv8_piva.fasta, elim:99999999, filter:False, output:/tmp/sepp/output.kad_c1tf/root/P_4/A_4_0/FC_4_0_1/hmmsearch.results.2ualbgwl\n",
      "[15:20:10] jobs.py (line 131):     INFO: Finished hmmsearch Job with input: model:/tmp/sepp/output.kad_c1tf/root/P_4/A_4_0/hmmbuild.model.o1hgv8pf, fragments:/tmp/sepp/output.kad_c1tf/fragment_chunks/fragment_chunk_04d38lk85.fasta, elim:99999999, filter:False, output:/tmp/sepp/output.kad_c1tf/root/P_4/A_4_0/FC_4_0_0/hmmsearch.results.p2th23vi\n",
      "[15:20:11] jobs.py (line 131):     INFO: Finished hmmsearch Job with input: model:/tmp/sepp/output.kad_c1tf/root/P_1/A_1_0/hmmbuild.model.eujn0xxz, fragments:/tmp/sepp/output.kad_c1tf/fragment_chunks/fragment_chunk_04d38lk85.fasta, elim:99999999, filter:False, output:/tmp/sepp/output.kad_c1tf/root/P_1/A_1_0/FC_1_0_0/hmmsearch.results.bj3lfzu6\n",
      "[15:20:12] jobs.py (line 131):     INFO: Finished hmmsearch Job with input: model:/tmp/sepp/output.kad_c1tf/root/P_1/A_1_0/hmmbuild.model.eujn0xxz, fragments:/tmp/sepp/output.kad_c1tf/fragment_chunks/fragment_chunk_1bv8_piva.fasta, elim:99999999, filter:False, output:/tmp/sepp/output.kad_c1tf/root/P_1/A_1_0/FC_1_0_1/hmmsearch.results.ehvpctr1\n",
      "[15:20:12] jobs.py (line 131):     INFO: Finished hmmsearch Job with input: model:/tmp/sepp/output.kad_c1tf/root/P_4/A_4_0/hmmbuild.model.o1hgv8pf, fragments:/tmp/sepp/output.kad_c1tf/fragment_chunks/fragment_chunk_2sqvn4gsd.fasta, elim:99999999, filter:False, output:/tmp/sepp/output.kad_c1tf/root/P_4/A_4_0/FC_4_0_2/hmmsearch.results.30b3up31\n",
      "[15:20:14] jobs.py (line 131):     INFO: Finished hmmsearch Job with input: model:/tmp/sepp/output.kad_c1tf/root/P_1/A_1_0/hmmbuild.model.eujn0xxz, fragments:/tmp/sepp/output.kad_c1tf/fragment_chunks/fragment_chunk_2sqvn4gsd.fasta, elim:99999999, filter:False, output:/tmp/sepp/output.kad_c1tf/root/P_1/A_1_0/FC_1_0_2/hmmsearch.results._uherm1o\n",
      "[15:20:18] jobs.py (line 131):     INFO: Finished hmmsearch Job with input: model:/tmp/sepp/output.kad_c1tf/root/P_3/A_3_0/hmmbuild.model.cjlr_kli, fragments:/tmp/sepp/output.kad_c1tf/fragment_chunks/fragment_chunk_04d38lk85.fasta, elim:99999999, filter:False, output:/tmp/sepp/output.kad_c1tf/root/P_3/A_3_0/FC_3_0_0/hmmsearch.results.vxkw4hto\n",
      "[15:20:18] jobs.py (line 131):     INFO: Finished hmmsearch Job with input: model:/tmp/sepp/output.kad_c1tf/root/P_3/A_3_0/hmmbuild.model.cjlr_kli, fragments:/tmp/sepp/output.kad_c1tf/fragment_chunks/fragment_chunk_1bv8_piva.fasta, elim:99999999, filter:False, output:/tmp/sepp/output.kad_c1tf/root/P_3/A_3_0/FC_3_0_1/hmmsearch.results.kvolwsky\n",
      "[15:20:19] jobs.py (line 131):     INFO: Finished hmmsearch Job with input: model:/tmp/sepp/output.kad_c1tf/root/P_0/A_0_0/hmmbuild.model.zhm8wznx, fragments:/tmp/sepp/output.kad_c1tf/fragment_chunks/fragment_chunk_04d38lk85.fasta, elim:99999999, filter:False, output:/tmp/sepp/output.kad_c1tf/root/P_0/A_0_0/FC_0_0_0/hmmsearch.results.b3qj3hjn\n",
      "[15:20:19] jobs.py (line 131):     INFO: Finished hmmsearch Job with input: model:/tmp/sepp/output.kad_c1tf/root/P_0/A_0_0/hmmbuild.model.zhm8wznx, fragments:/tmp/sepp/output.kad_c1tf/fragment_chunks/fragment_chunk_1bv8_piva.fasta, elim:99999999, filter:False, output:/tmp/sepp/output.kad_c1tf/root/P_0/A_0_0/FC_0_0_1/hmmsearch.results.gk_6_3po\n",
      "[15:20:19] jobs.py (line 131):     INFO: Finished hmmsearch Job with input: model:/tmp/sepp/output.kad_c1tf/root/P_0/A_0_0/hmmbuild.model.zhm8wznx, fragments:/tmp/sepp/output.kad_c1tf/fragment_chunks/fragment_chunk_2sqvn4gsd.fasta, elim:99999999, filter:False, output:/tmp/sepp/output.kad_c1tf/root/P_0/A_0_0/FC_0_0_2/hmmsearch.results.pxeb6tru\n",
      "[15:20:22] jobs.py (line 131):     INFO: Finished hmmsearch Job with input: model:/tmp/sepp/output.kad_c1tf/root/P_3/A_3_0/hmmbuild.model.cjlr_kli, fragments:/tmp/sepp/output.kad_c1tf/fragment_chunks/fragment_chunk_2sqvn4gsd.fasta, elim:99999999, filter:False, output:/tmp/sepp/output.kad_c1tf/root/P_3/A_3_0/FC_3_0_2/hmmsearch.results.9_vppsfo\n",
      "[15:20:23] jobs.py (line 131):     INFO: Finished hmmsearch Job with input: model:/tmp/sepp/output.kad_c1tf/root/P_5/A_5_0/hmmbuild.model.pzsfcbmq, fragments:/tmp/sepp/output.kad_c1tf/fragment_chunks/fragment_chunk_04d38lk85.fasta, elim:99999999, filter:False, output:/tmp/sepp/output.kad_c1tf/root/P_5/A_5_0/FC_5_0_0/hmmsearch.results.jw4uwsrd\n",
      "[15:20:24] jobs.py (line 131):     INFO: Finished hmmsearch Job with input: model:/tmp/sepp/output.kad_c1tf/root/P_5/A_5_0/hmmbuild.model.pzsfcbmq, fragments:/tmp/sepp/output.kad_c1tf/fragment_chunks/fragment_chunk_2sqvn4gsd.fasta, elim:99999999, filter:False, output:/tmp/sepp/output.kad_c1tf/root/P_5/A_5_0/FC_5_0_2/hmmsearch.results.vebp4uur\n",
      "[15:20:27] jobs.py (line 131):     INFO: Finished hmmsearch Job with input: model:/tmp/sepp/output.kad_c1tf/root/P_5/A_5_0/hmmbuild.model.pzsfcbmq, fragments:/tmp/sepp/output.kad_c1tf/fragment_chunks/fragment_chunk_1bv8_piva.fasta, elim:99999999, filter:False, output:/tmp/sepp/output.kad_c1tf/root/P_5/A_5_0/FC_5_0_1/hmmsearch.results.9im3w98p\n",
      "[15:20:27] jobs.py (line 131):     INFO: Finished hmmsearch Job with input: model:/tmp/sepp/output.kad_c1tf/root/P_2/A_2_0/hmmbuild.model.d6lx3330, fragments:/tmp/sepp/output.kad_c1tf/fragment_chunks/fragment_chunk_1bv8_piva.fasta, elim:99999999, filter:False, output:/tmp/sepp/output.kad_c1tf/root/P_2/A_2_0/FC_2_0_1/hmmsearch.results.aa1ipwd3\n",
      "[15:20:27] jobs.py (line 131):     INFO: Finished hmmsearch Job with input: model:/tmp/sepp/output.kad_c1tf/root/P_2/A_2_0/hmmbuild.model.d6lx3330, fragments:/tmp/sepp/output.kad_c1tf/fragment_chunks/fragment_chunk_04d38lk85.fasta, elim:99999999, filter:False, output:/tmp/sepp/output.kad_c1tf/root/P_2/A_2_0/FC_2_0_0/hmmsearch.results.d9zk752d\n",
      "[15:20:28] jobs.py (line 131):     INFO: Finished hmmsearch Job with input: model:/tmp/sepp/output.kad_c1tf/root/P_2/A_2_0/hmmbuild.model.d6lx3330, fragments:/tmp/sepp/output.kad_c1tf/fragment_chunks/fragment_chunk_2sqvn4gsd.fasta, elim:99999999, filter:False, output:/tmp/sepp/output.kad_c1tf/root/P_2/A_2_0/FC_2_0_2/hmmsearch.results.0txlun6w\n",
      "[15:20:30] jobs.py (line 131):     INFO: Finished hmmsearch Job with input: model:/tmp/sepp/output.kad_c1tf/root/P_9/A_9_0/hmmbuild.model.otj1kd86, fragments:/tmp/sepp/output.kad_c1tf/fragment_chunks/fragment_chunk_1bv8_piva.fasta, elim:99999999, filter:False, output:/tmp/sepp/output.kad_c1tf/root/P_9/A_9_0/FC_9_0_1/hmmsearch.results.tvjpp01z\n",
      "[15:20:32] jobs.py (line 131):     INFO: Finished hmmsearch Job with input: model:/tmp/sepp/output.kad_c1tf/root/P_9/A_9_0/hmmbuild.model.otj1kd86, fragments:/tmp/sepp/output.kad_c1tf/fragment_chunks/fragment_chunk_04d38lk85.fasta, elim:99999999, filter:False, output:/tmp/sepp/output.kad_c1tf/root/P_9/A_9_0/FC_9_0_0/hmmsearch.results.7eahn99d\n",
      "[15:20:32] jobs.py (line 131):     INFO: Finished hmmsearch Job with input: model:/tmp/sepp/output.kad_c1tf/root/P_9/A_9_0/hmmbuild.model.otj1kd86, fragments:/tmp/sepp/output.kad_c1tf/fragment_chunks/fragment_chunk_2sqvn4gsd.fasta, elim:99999999, filter:False, output:/tmp/sepp/output.kad_c1tf/root/P_9/A_9_0/FC_9_0_2/hmmsearch.results.xi8vs5rq\n",
      "[15:20:34] jobs.py (line 131):     INFO: Finished hmmsearch Job with input: model:/tmp/sepp/output.kad_c1tf/root/P_11/A_11_0/hmmbuild.model.0t524bvi, fragments:/tmp/sepp/output.kad_c1tf/fragment_chunks/fragment_chunk_04d38lk85.fasta, elim:99999999, filter:False, output:/tmp/sepp/output.kad_c1tf/root/P_11/A_11_0/FC_11_0_0/hmmsearch.results.kdg0oo0s\n",
      "[15:20:35] jobs.py (line 131):     INFO: Finished hmmsearch Job with input: model:/tmp/sepp/output.kad_c1tf/root/P_11/A_11_0/hmmbuild.model.0t524bvi, fragments:/tmp/sepp/output.kad_c1tf/fragment_chunks/fragment_chunk_1bv8_piva.fasta, elim:99999999, filter:False, output:/tmp/sepp/output.kad_c1tf/root/P_11/A_11_0/FC_11_0_1/hmmsearch.results.idcqq7vo\n",
      "[15:20:37] jobs.py (line 131):     INFO: Finished hmmsearch Job with input: model:/tmp/sepp/output.kad_c1tf/root/P_11/A_11_0/hmmbuild.model.0t524bvi, fragments:/tmp/sepp/output.kad_c1tf/fragment_chunks/fragment_chunk_2sqvn4gsd.fasta, elim:99999999, filter:False, output:/tmp/sepp/output.kad_c1tf/root/P_11/A_11_0/FC_11_0_2/hmmsearch.results.kfrpc7jo\n",
      "[15:20:37] jobs.py (line 131):     INFO: Finished hmmsearch Job with input: model:/tmp/sepp/output.kad_c1tf/root/P_7/A_7_0/hmmbuild.model.gl2dgfqf, fragments:/tmp/sepp/output.kad_c1tf/fragment_chunks/fragment_chunk_04d38lk85.fasta, elim:99999999, filter:False, output:/tmp/sepp/output.kad_c1tf/root/P_7/A_7_0/FC_7_0_0/hmmsearch.results.7p3mqc5r\n",
      "[15:20:39] jobs.py (line 131):     INFO: Finished hmmsearch Job with input: model:/tmp/sepp/output.kad_c1tf/root/P_7/A_7_0/hmmbuild.model.gl2dgfqf, fragments:/tmp/sepp/output.kad_c1tf/fragment_chunks/fragment_chunk_1bv8_piva.fasta, elim:99999999, filter:False, output:/tmp/sepp/output.kad_c1tf/root/P_7/A_7_0/FC_7_0_1/hmmsearch.results._l1juylt\n",
      "[15:20:40] jobs.py (line 131):     INFO: Finished hmmsearch Job with input: model:/tmp/sepp/output.kad_c1tf/root/P_7/A_7_0/hmmbuild.model.gl2dgfqf, fragments:/tmp/sepp/output.kad_c1tf/fragment_chunks/fragment_chunk_2sqvn4gsd.fasta, elim:99999999, filter:False, output:/tmp/sepp/output.kad_c1tf/root/P_7/A_7_0/FC_7_0_2/hmmsearch.results.10o2wm7q\n",
      "[15:20:41] jobs.py (line 131):     INFO: Finished hmmsearch Job with input: model:/tmp/sepp/output.kad_c1tf/root/P_6/A_6_0/hmmbuild.model.u2qoivdl, fragments:/tmp/sepp/output.kad_c1tf/fragment_chunks/fragment_chunk_1bv8_piva.fasta, elim:99999999, filter:False, output:/tmp/sepp/output.kad_c1tf/root/P_6/A_6_0/FC_6_0_1/hmmsearch.results.dg63nyoa\n",
      "[15:20:42] jobs.py (line 131):     INFO: Finished hmmsearch Job with input: model:/tmp/sepp/output.kad_c1tf/root/P_6/A_6_0/hmmbuild.model.u2qoivdl, fragments:/tmp/sepp/output.kad_c1tf/fragment_chunks/fragment_chunk_04d38lk85.fasta, elim:99999999, filter:False, output:/tmp/sepp/output.kad_c1tf/root/P_6/A_6_0/FC_6_0_0/hmmsearch.results.6hnuxrfe\n",
      "[15:20:44] jobs.py (line 131):     INFO: Finished hmmsearch Job with input: model:/tmp/sepp/output.kad_c1tf/root/P_8/A_8_0/hmmbuild.model.ra40nz9q, fragments:/tmp/sepp/output.kad_c1tf/fragment_chunks/fragment_chunk_04d38lk85.fasta, elim:99999999, filter:False, output:/tmp/sepp/output.kad_c1tf/root/P_8/A_8_0/FC_8_0_0/hmmsearch.results.009abe76\n",
      "[15:20:44] jobs.py (line 131):     INFO: Finished hmmsearch Job with input: model:/tmp/sepp/output.kad_c1tf/root/P_6/A_6_0/hmmbuild.model.u2qoivdl, fragments:/tmp/sepp/output.kad_c1tf/fragment_chunks/fragment_chunk_2sqvn4gsd.fasta, elim:99999999, filter:False, output:/tmp/sepp/output.kad_c1tf/root/P_6/A_6_0/FC_6_0_2/hmmsearch.results.fgbmmgwn\n",
      "[15:20:46] jobs.py (line 131):     INFO: Finished hmmsearch Job with input: model:/tmp/sepp/output.kad_c1tf/root/P_8/A_8_0/hmmbuild.model.ra40nz9q, fragments:/tmp/sepp/output.kad_c1tf/fragment_chunks/fragment_chunk_1bv8_piva.fasta, elim:99999999, filter:False, output:/tmp/sepp/output.kad_c1tf/root/P_8/A_8_0/FC_8_0_1/hmmsearch.results.tvwsf_8s\n",
      "[15:20:48] jobs.py (line 131):     INFO: Finished hmmsearch Job with input: model:/tmp/sepp/output.kad_c1tf/root/P_8/A_8_0/hmmbuild.model.ra40nz9q, fragments:/tmp/sepp/output.kad_c1tf/fragment_chunks/fragment_chunk_2sqvn4gsd.fasta, elim:99999999, filter:False, output:/tmp/sepp/output.kad_c1tf/root/P_8/A_8_0/FC_8_0_2/hmmsearch.results.lpyjxh47\n",
      "[15:20:50] jobs.py (line 131):     INFO: Finished hmmsearch Job with input: model:/tmp/sepp/output.kad_c1tf/root/P_12/A_12_0/hmmbuild.model.5zetgebn, fragments:/tmp/sepp/output.kad_c1tf/fragment_chunks/fragment_chunk_04d38lk85.fasta, elim:99999999, filter:False, output:/tmp/sepp/output.kad_c1tf/root/P_12/A_12_0/FC_12_0_0/hmmsearch.results.lvuskglz\n",
      "[15:20:50] jobs.py (line 131):     INFO: Finished hmmsearch Job with input: model:/tmp/sepp/output.kad_c1tf/root/P_10/A_10_0/hmmbuild.model.61ieebgj, fragments:/tmp/sepp/output.kad_c1tf/fragment_chunks/fragment_chunk_1bv8_piva.fasta, elim:99999999, filter:False, output:/tmp/sepp/output.kad_c1tf/root/P_10/A_10_0/FC_10_0_1/hmmsearch.results.5vh0k5jx\n",
      "[15:20:50] jobs.py (line 131):     INFO: Finished hmmsearch Job with input: model:/tmp/sepp/output.kad_c1tf/root/P_10/A_10_0/hmmbuild.model.61ieebgj, fragments:/tmp/sepp/output.kad_c1tf/fragment_chunks/fragment_chunk_04d38lk85.fasta, elim:99999999, filter:False, output:/tmp/sepp/output.kad_c1tf/root/P_10/A_10_0/FC_10_0_0/hmmsearch.results.gyj8ls8_\n",
      "[15:20:51] jobs.py (line 131):     INFO: Finished hmmsearch Job with input: model:/tmp/sepp/output.kad_c1tf/root/P_10/A_10_0/hmmbuild.model.61ieebgj, fragments:/tmp/sepp/output.kad_c1tf/fragment_chunks/fragment_chunk_2sqvn4gsd.fasta, elim:99999999, filter:False, output:/tmp/sepp/output.kad_c1tf/root/P_10/A_10_0/FC_10_0_2/hmmsearch.results.2x65xegj\n",
      "[15:20:55] jobs.py (line 131):     INFO: Finished hmmsearch Job with input: model:/tmp/sepp/output.kad_c1tf/root/P_12/A_12_0/hmmbuild.model.5zetgebn, fragments:/tmp/sepp/output.kad_c1tf/fragment_chunks/fragment_chunk_2sqvn4gsd.fasta, elim:99999999, filter:False, output:/tmp/sepp/output.kad_c1tf/root/P_12/A_12_0/FC_12_0_2/hmmsearch.results.q1rl88m1\n",
      "[15:20:55] jobs.py (line 131):     INFO: Finished hmmsearch Job with input: model:/tmp/sepp/output.kad_c1tf/root/P_12/A_12_0/hmmbuild.model.5zetgebn, fragments:/tmp/sepp/output.kad_c1tf/fragment_chunks/fragment_chunk_1bv8_piva.fasta, elim:99999999, filter:False, output:/tmp/sepp/output.kad_c1tf/root/P_12/A_12_0/FC_12_0_1/hmmsearch.results.5ycj754k\n",
      "[15:20:55] jobs.py (line 131):     INFO: Finished hmmsearch Job with input: model:/tmp/sepp/output.kad_c1tf/root/P_13/A_13_0/hmmbuild.model.a8rcni7x, fragments:/tmp/sepp/output.kad_c1tf/fragment_chunks/fragment_chunk_1bv8_piva.fasta, elim:99999999, filter:False, output:/tmp/sepp/output.kad_c1tf/root/P_13/A_13_0/FC_13_0_1/hmmsearch.results.1_24rdg4\n",
      "[15:20:57] jobs.py (line 131):     INFO: Finished hmmsearch Job with input: model:/tmp/sepp/output.kad_c1tf/root/P_13/A_13_0/hmmbuild.model.a8rcni7x, fragments:/tmp/sepp/output.kad_c1tf/fragment_chunks/fragment_chunk_2sqvn4gsd.fasta, elim:99999999, filter:False, output:/tmp/sepp/output.kad_c1tf/root/P_13/A_13_0/FC_13_0_2/hmmsearch.results.qq1nuaub\n",
      "[15:20:58] jobs.py (line 131):     INFO: Finished hmmsearch Job with input: model:/tmp/sepp/output.kad_c1tf/root/P_13/A_13_0/hmmbuild.model.a8rcni7x, fragments:/tmp/sepp/output.kad_c1tf/fragment_chunks/fragment_chunk_04d38lk85.fasta, elim:99999999, filter:False, output:/tmp/sepp/output.kad_c1tf/root/P_13/A_13_0/FC_13_0_0/hmmsearch.results.df13tuhk\n",
      "[15:20:59] jobs.py (line 131):     INFO: Finished hmmsearch Job with input: model:/tmp/sepp/output.kad_c1tf/root/P_14/A_14_0/hmmbuild.model.16p27nu0, fragments:/tmp/sepp/output.kad_c1tf/fragment_chunks/fragment_chunk_04d38lk85.fasta, elim:99999999, filter:False, output:/tmp/sepp/output.kad_c1tf/root/P_14/A_14_0/FC_14_0_0/hmmsearch.results.hoxgi43b\n",
      "[15:21:01] jobs.py (line 131):     INFO: Finished hmmsearch Job with input: model:/tmp/sepp/output.kad_c1tf/root/P_15/A_15_0/hmmbuild.model.v8jd39gy, fragments:/tmp/sepp/output.kad_c1tf/fragment_chunks/fragment_chunk_04d38lk85.fasta, elim:99999999, filter:False, output:/tmp/sepp/output.kad_c1tf/root/P_15/A_15_0/FC_15_0_0/hmmsearch.results.468b_gg7\n",
      "[15:21:02] jobs.py (line 131):     INFO: Finished hmmsearch Job with input: model:/tmp/sepp/output.kad_c1tf/root/P_14/A_14_0/hmmbuild.model.16p27nu0, fragments:/tmp/sepp/output.kad_c1tf/fragment_chunks/fragment_chunk_1bv8_piva.fasta, elim:99999999, filter:False, output:/tmp/sepp/output.kad_c1tf/root/P_14/A_14_0/FC_14_0_1/hmmsearch.results.ehdd55s_\n",
      "[15:21:02] jobs.py (line 131):     INFO: Finished hmmsearch Job with input: model:/tmp/sepp/output.kad_c1tf/root/P_14/A_14_0/hmmbuild.model.16p27nu0, fragments:/tmp/sepp/output.kad_c1tf/fragment_chunks/fragment_chunk_2sqvn4gsd.fasta, elim:99999999, filter:False, output:/tmp/sepp/output.kad_c1tf/root/P_14/A_14_0/FC_14_0_2/hmmsearch.results.bmq4pbi2\n",
      "[15:21:04] jobs.py (line 131):     INFO: Finished hmmsearch Job with input: model:/tmp/sepp/output.kad_c1tf/root/P_15/A_15_0/hmmbuild.model.v8jd39gy, fragments:/tmp/sepp/output.kad_c1tf/fragment_chunks/fragment_chunk_1bv8_piva.fasta, elim:99999999, filter:False, output:/tmp/sepp/output.kad_c1tf/root/P_15/A_15_0/FC_15_0_1/hmmsearch.results.tse7r_q6\n",
      "[15:21:04] jobs.py (line 131):     INFO: Finished hmmsearch Job with input: model:/tmp/sepp/output.kad_c1tf/root/P_15/A_15_0/hmmbuild.model.v8jd39gy, fragments:/tmp/sepp/output.kad_c1tf/fragment_chunks/fragment_chunk_2sqvn4gsd.fasta, elim:99999999, filter:False, output:/tmp/sepp/output.kad_c1tf/root/P_15/A_15_0/FC_15_0_2/hmmsearch.results.g4ie4pou\n",
      "[15:21:04] exhaustive.py (line 80):  WARNING: Fragments [] are not scored against any subset\n",
      "[15:21:04] exhaustive.py (line 151):     INFO: Merging sub-alignments for placement problem : P_0.\n",
      "[15:21:04] jobs.py (line 131):     INFO: Finished hmmalign Job with input: model:/tmp/sepp/output.kad_c1tf/root/P_1/A_1_0/hmmbuild.model.eujn0xxz, fragments:/tmp/sepp/output.kad_c1tf/root/P_1/A_1_0/FC_1_0_1/hmmalign.frag.ut7bxg5k.fasta, trim:False, base_alignment:/tmp/sepp/output.kad_c1tf/root/P_1/A_1_0/hmmbuild.input.8inut5y3.fasta\n",
      "[15:21:04] jobs.py (line 131):     INFO: Finished hmmalign Job with input: model:/tmp/sepp/output.kad_c1tf/root/P_5/A_5_0/hmmbuild.model.pzsfcbmq, fragments:/tmp/sepp/output.kad_c1tf/root/P_5/A_5_0/FC_5_0_0/hmmalign.frag.rva0y8y1.fasta, trim:False, base_alignment:/tmp/sepp/output.kad_c1tf/root/P_5/A_5_0/hmmbuild.input.nr76uvu1.fasta\n",
      "[15:21:04] jobs.py (line 131):     INFO: Finished hmmalign Job with input: model:/tmp/sepp/output.kad_c1tf/root/P_1/A_1_0/hmmbuild.model.eujn0xxz, fragments:/tmp/sepp/output.kad_c1tf/root/P_1/A_1_0/FC_1_0_0/hmmalign.frag.whi3d1fe.fasta, trim:False, base_alignment:/tmp/sepp/output.kad_c1tf/root/P_1/A_1_0/hmmbuild.input.8inut5y3.fasta\n",
      "[15:21:04] jobs.py (line 131):     INFO: Finished hmmalign Job with input: model:/tmp/sepp/output.kad_c1tf/root/P_1/A_1_0/hmmbuild.model.eujn0xxz, fragments:/tmp/sepp/output.kad_c1tf/root/P_1/A_1_0/FC_1_0_2/hmmalign.frag.zk0dt5p6.fasta, trim:False, base_alignment:/tmp/sepp/output.kad_c1tf/root/P_1/A_1_0/hmmbuild.input.8inut5y3.fasta\n",
      "[15:21:04] jobs.py (line 131):     INFO: Finished hmmalign Job with input: model:/tmp/sepp/output.kad_c1tf/root/P_5/A_5_0/hmmbuild.model.pzsfcbmq, fragments:/tmp/sepp/output.kad_c1tf/root/P_5/A_5_0/FC_5_0_2/hmmalign.frag.ja2mz2ku.fasta, trim:False, base_alignment:/tmp/sepp/output.kad_c1tf/root/P_5/A_5_0/hmmbuild.input.nr76uvu1.fasta\n",
      "[15:21:04] jobs.py (line 131):     INFO: Finished hmmalign Job with input: model:/tmp/sepp/output.kad_c1tf/root/P_5/A_5_0/hmmbuild.model.pzsfcbmq, fragments:/tmp/sepp/output.kad_c1tf/root/P_5/A_5_0/FC_5_0_1/hmmalign.frag.2msol2h0.fasta, trim:False, base_alignment:/tmp/sepp/output.kad_c1tf/root/P_5/A_5_0/hmmbuild.input.nr76uvu1.fasta\n",
      "[15:21:04] exhaustive.py (line 151):     INFO: Merging sub-alignments for placement problem : P_2.\n",
      "[15:21:05] jobs.py (line 131):     INFO: Finished hmmalign Job with input: model:/tmp/sepp/output.kad_c1tf/root/P_6/A_6_0/hmmbuild.model.u2qoivdl, fragments:/tmp/sepp/output.kad_c1tf/root/P_6/A_6_0/FC_6_0_1/hmmalign.frag.s34oibyp.fasta, trim:False, base_alignment:/tmp/sepp/output.kad_c1tf/root/P_6/A_6_0/hmmbuild.input.ddqq6cw0.fasta\n",
      "[15:21:05] jobs.py (line 131):     INFO: Finished hmmalign Job with input: model:/tmp/sepp/output.kad_c1tf/root/P_7/A_7_0/hmmbuild.model.gl2dgfqf, fragments:/tmp/sepp/output.kad_c1tf/root/P_7/A_7_0/FC_7_0_1/hmmalign.frag.ygv7fpwy.fasta, trim:False, base_alignment:/tmp/sepp/output.kad_c1tf/root/P_7/A_7_0/hmmbuild.input.jo7vl8y5.fasta\n",
      "[15:21:05] jobs.py (line 131):     INFO: Finished hmmalign Job with input: model:/tmp/sepp/output.kad_c1tf/root/P_7/A_7_0/hmmbuild.model.gl2dgfqf, fragments:/tmp/sepp/output.kad_c1tf/root/P_7/A_7_0/FC_7_0_2/hmmalign.frag.5ju50gki.fasta, trim:False, base_alignment:/tmp/sepp/output.kad_c1tf/root/P_7/A_7_0/hmmbuild.input.jo7vl8y5.fasta\n",
      "[15:21:05] jobs.py (line 131):     INFO: Finished hmmalign Job with input: model:/tmp/sepp/output.kad_c1tf/root/P_6/A_6_0/hmmbuild.model.u2qoivdl, fragments:/tmp/sepp/output.kad_c1tf/root/P_6/A_6_0/FC_6_0_2/hmmalign.frag.s1c6qii6.fasta, trim:False, base_alignment:/tmp/sepp/output.kad_c1tf/root/P_6/A_6_0/hmmbuild.input.ddqq6cw0.fasta\n",
      "[15:21:05] jobs.py (line 131):     INFO: Finished hmmalign Job with input: model:/tmp/sepp/output.kad_c1tf/root/P_7/A_7_0/hmmbuild.model.gl2dgfqf, fragments:/tmp/sepp/output.kad_c1tf/root/P_7/A_7_0/FC_7_0_0/hmmalign.frag.jns9jyhh.fasta, trim:False, base_alignment:/tmp/sepp/output.kad_c1tf/root/P_7/A_7_0/hmmbuild.input.jo7vl8y5.fasta\n",
      "[15:21:05] exhaustive.py (line 151):     INFO: Merging sub-alignments for placement problem : P_3.\n",
      "[15:21:05] jobs.py (line 131):     INFO: Finished hmmalign Job with input: model:/tmp/sepp/output.kad_c1tf/root/P_6/A_6_0/hmmbuild.model.u2qoivdl, fragments:/tmp/sepp/output.kad_c1tf/root/P_6/A_6_0/FC_6_0_0/hmmalign.frag.esdvpi9b.fasta, trim:False, base_alignment:/tmp/sepp/output.kad_c1tf/root/P_6/A_6_0/hmmbuild.input.ddqq6cw0.fasta\n",
      "[15:21:05] jobs.py (line 131):     INFO: Finished hmmalign Job with input: model:/tmp/sepp/output.kad_c1tf/root/P_8/A_8_0/hmmbuild.model.ra40nz9q, fragments:/tmp/sepp/output.kad_c1tf/root/P_8/A_8_0/FC_8_0_2/hmmalign.frag.w917nrj3.fasta, trim:False, base_alignment:/tmp/sepp/output.kad_c1tf/root/P_8/A_8_0/hmmbuild.input.nspquj3t.fasta\n",
      "[15:21:05] jobs.py (line 131):     INFO: Finished hmmalign Job with input: model:/tmp/sepp/output.kad_c1tf/root/P_8/A_8_0/hmmbuild.model.ra40nz9q, fragments:/tmp/sepp/output.kad_c1tf/root/P_8/A_8_0/FC_8_0_0/hmmalign.frag.8gnvkco0.fasta, trim:False, base_alignment:/tmp/sepp/output.kad_c1tf/root/P_8/A_8_0/hmmbuild.input.nspquj3t.fasta\n",
      "[15:21:05] exhaustive.py (line 151):     INFO: Merging sub-alignments for placement problem : P_4.\n",
      "[15:21:05] jobs.py (line 131):     INFO: Finished hmmalign Job with input: model:/tmp/sepp/output.kad_c1tf/root/P_8/A_8_0/hmmbuild.model.ra40nz9q, fragments:/tmp/sepp/output.kad_c1tf/root/P_8/A_8_0/FC_8_0_1/hmmalign.frag.yu3j6jh_.fasta, trim:False, base_alignment:/tmp/sepp/output.kad_c1tf/root/P_8/A_8_0/hmmbuild.input.nspquj3t.fasta\n",
      "[15:21:05] exhaustive.py (line 151):     INFO: Merging sub-alignments for placement problem : P_1.\n",
      "[15:21:05] alignment.py (line 556):     INFO: Merging extension sto file (/tmp/sepp/output.kad_c1tf/root/P_1/A_1_0/FC_1_0_0/hmmalign.results.hnnxs_m5) into base alignment (/tmp/sepp/output.kad_c1tf/root/P_1/A_1_0/hmmbuild.input.8inut5y3.fasta).\n",
      "[15:21:05] alignment.py (line 556):     INFO: Merging extension sto file (/tmp/sepp/output.kad_c1tf/root/P_1/A_1_0/FC_1_0_1/hmmalign.results.63c9wpfn) into base alignment (/tmp/sepp/output.kad_c1tf/root/P_1/A_1_0/hmmbuild.input.8inut5y3.fasta).\n",
      "[15:21:05] alignment.py (line 556):     INFO: Merging extension sto file (/tmp/sepp/output.kad_c1tf/root/P_1/A_1_0/FC_1_0_2/hmmalign.results.5o_drcjo) into base alignment (/tmp/sepp/output.kad_c1tf/root/P_1/A_1_0/hmmbuild.input.8inut5y3.fasta).\n",
      "[15:21:05] jobs.py (line 131):     INFO: Finished hmmalign Job with input: model:/tmp/sepp/output.kad_c1tf/root/P_10/A_10_0/hmmbuild.model.61ieebgj, fragments:/tmp/sepp/output.kad_c1tf/root/P_10/A_10_0/FC_10_0_1/hmmalign.frag.pycnu8m6.fasta, trim:False, base_alignment:/tmp/sepp/output.kad_c1tf/root/P_10/A_10_0/hmmbuild.input.i0ykk9b5.fasta\n",
      "[15:21:05] jobs.py (line 131):     INFO: Finished hmmalign Job with input: model:/tmp/sepp/output.kad_c1tf/root/P_10/A_10_0/hmmbuild.model.61ieebgj, fragments:/tmp/sepp/output.kad_c1tf/root/P_10/A_10_0/FC_10_0_2/hmmalign.frag.19bh5eae.fasta, trim:False, base_alignment:/tmp/sepp/output.kad_c1tf/root/P_10/A_10_0/hmmbuild.input.i0ykk9b5.fasta\n",
      "[15:21:05] exhaustive.py (line 151):     INFO: Merging sub-alignments for placement problem : P_5.\n",
      "[15:21:05] jobs.py (line 131):     INFO: Finished hmmalign Job with input: model:/tmp/sepp/output.kad_c1tf/root/P_10/A_10_0/hmmbuild.model.61ieebgj, fragments:/tmp/sepp/output.kad_c1tf/root/P_10/A_10_0/FC_10_0_0/hmmalign.frag._e4fd_hc.fasta, trim:False, base_alignment:/tmp/sepp/output.kad_c1tf/root/P_10/A_10_0/hmmbuild.input.i0ykk9b5.fasta\n",
      "[15:21:05] alignment.py (line 556):     INFO: Merging extension sto file (/tmp/sepp/output.kad_c1tf/root/P_5/A_5_0/FC_5_0_0/hmmalign.results.tea5u7ls) into base alignment (/tmp/sepp/output.kad_c1tf/root/P_5/A_5_0/hmmbuild.input.nr76uvu1.fasta).\n",
      "[15:21:05] alignment.py (line 556):     INFO: Merging extension sto file (/tmp/sepp/output.kad_c1tf/root/P_5/A_5_0/FC_5_0_1/hmmalign.results.5mvq1tx4) into base alignment (/tmp/sepp/output.kad_c1tf/root/P_5/A_5_0/hmmbuild.input.nr76uvu1.fasta).\n",
      "[15:21:05] alignment.py (line 556):     INFO: Merging extension sto file (/tmp/sepp/output.kad_c1tf/root/P_5/A_5_0/FC_5_0_2/hmmalign.results.2yomgo8k) into base alignment (/tmp/sepp/output.kad_c1tf/root/P_5/A_5_0/hmmbuild.input.nr76uvu1.fasta).\n",
      "[15:21:05] exhaustive.py (line 151):     INFO: Merging sub-alignments for placement problem : P_7.\n",
      "[15:21:05] alignment.py (line 556):     INFO: Merging extension sto file (/tmp/sepp/output.kad_c1tf/root/P_7/A_7_0/FC_7_0_0/hmmalign.results.qkq46umu) into base alignment (/tmp/sepp/output.kad_c1tf/root/P_7/A_7_0/hmmbuild.input.jo7vl8y5.fasta).\n",
      "[15:21:05] alignment.py (line 556):     INFO: Merging extension sto file (/tmp/sepp/output.kad_c1tf/root/P_7/A_7_0/FC_7_0_1/hmmalign.results.hphd70l4) into base alignment (/tmp/sepp/output.kad_c1tf/root/P_7/A_7_0/hmmbuild.input.jo7vl8y5.fasta).\n",
      "[15:21:05] alignment.py (line 556):     INFO: Merging extension sto file (/tmp/sepp/output.kad_c1tf/root/P_7/A_7_0/FC_7_0_2/hmmalign.results.qcfe49we) into base alignment (/tmp/sepp/output.kad_c1tf/root/P_7/A_7_0/hmmbuild.input.jo7vl8y5.fasta).\n",
      "[15:21:05] jobs.py (line 131):     INFO: Finished hmmalign Job with input: model:/tmp/sepp/output.kad_c1tf/root/P_9/A_9_0/hmmbuild.model.otj1kd86, fragments:/tmp/sepp/output.kad_c1tf/root/P_9/A_9_0/FC_9_0_2/hmmalign.frag.uzpvj6o5.fasta, trim:False, base_alignment:/tmp/sepp/output.kad_c1tf/root/P_9/A_9_0/hmmbuild.input.f5ood8or.fasta\n",
      "[15:21:05] exhaustive.py (line 151):     INFO: Merging sub-alignments for placement problem : P_6.\n",
      "[15:21:05] jobs.py (line 131):     INFO: Finished hmmalign Job with input: model:/tmp/sepp/output.kad_c1tf/root/P_9/A_9_0/hmmbuild.model.otj1kd86, fragments:/tmp/sepp/output.kad_c1tf/root/P_9/A_9_0/FC_9_0_0/hmmalign.frag.0lxojr7l.fasta, trim:False, base_alignment:/tmp/sepp/output.kad_c1tf/root/P_9/A_9_0/hmmbuild.input.f5ood8or.fasta\n",
      "[15:21:05] alignment.py (line 556):     INFO: Merging extension sto file (/tmp/sepp/output.kad_c1tf/root/P_6/A_6_0/FC_6_0_0/hmmalign.results._1dg4u4g) into base alignment (/tmp/sepp/output.kad_c1tf/root/P_6/A_6_0/hmmbuild.input.ddqq6cw0.fasta).\n",
      "[15:21:05] jobs.py (line 131):     INFO: Finished hmmalign Job with input: model:/tmp/sepp/output.kad_c1tf/root/P_9/A_9_0/hmmbuild.model.otj1kd86, fragments:/tmp/sepp/output.kad_c1tf/root/P_9/A_9_0/FC_9_0_1/hmmalign.frag.tf56ttj2.fasta, trim:False, base_alignment:/tmp/sepp/output.kad_c1tf/root/P_9/A_9_0/hmmbuild.input.f5ood8or.fasta\n",
      "[15:21:05] alignment.py (line 556):     INFO: Merging extension sto file (/tmp/sepp/output.kad_c1tf/root/P_6/A_6_0/FC_6_0_1/hmmalign.results.qz0od9cy) into base alignment (/tmp/sepp/output.kad_c1tf/root/P_6/A_6_0/hmmbuild.input.ddqq6cw0.fasta).\n",
      "[15:21:05] alignment.py (line 556):     INFO: Merging extension sto file (/tmp/sepp/output.kad_c1tf/root/P_6/A_6_0/FC_6_0_2/hmmalign.results.xjcc2rx4) into base alignment (/tmp/sepp/output.kad_c1tf/root/P_6/A_6_0/hmmbuild.input.ddqq6cw0.fasta).\n",
      "[15:21:05] exhaustive.py (line 151):     INFO: Merging sub-alignments for placement problem : P_8.\n",
      "[15:21:06] alignment.py (line 556):     INFO: Merging extension sto file (/tmp/sepp/output.kad_c1tf/root/P_8/A_8_0/FC_8_0_0/hmmalign.results.xcx6ub80) into base alignment (/tmp/sepp/output.kad_c1tf/root/P_8/A_8_0/hmmbuild.input.nspquj3t.fasta).\n",
      "[15:21:06] alignment.py (line 556):     INFO: Merging extension sto file (/tmp/sepp/output.kad_c1tf/root/P_8/A_8_0/FC_8_0_1/hmmalign.results.qzzhdp0z) into base alignment (/tmp/sepp/output.kad_c1tf/root/P_8/A_8_0/hmmbuild.input.nspquj3t.fasta).\n",
      "[15:21:06] alignment.py (line 556):     INFO: Merging extension sto file (/tmp/sepp/output.kad_c1tf/root/P_8/A_8_0/FC_8_0_2/hmmalign.results.d3y5iq7_) into base alignment (/tmp/sepp/output.kad_c1tf/root/P_8/A_8_0/hmmbuild.input.nspquj3t.fasta).\n",
      "[15:21:06] exhaustive.py (line 151):     INFO: Merging sub-alignments for placement problem : P_10.\n",
      "[15:21:06] alignment.py (line 556):     INFO: Merging extension sto file (/tmp/sepp/output.kad_c1tf/root/P_10/A_10_0/FC_10_0_0/hmmalign.results.f9u00vwf) into base alignment (/tmp/sepp/output.kad_c1tf/root/P_10/A_10_0/hmmbuild.input.i0ykk9b5.fasta).\n",
      "[15:21:06] alignment.py (line 556):     INFO: Merging extension sto file (/tmp/sepp/output.kad_c1tf/root/P_10/A_10_0/FC_10_0_1/hmmalign.results.nye0e6o3) into base alignment (/tmp/sepp/output.kad_c1tf/root/P_10/A_10_0/hmmbuild.input.i0ykk9b5.fasta).\n",
      "[15:21:06] alignment.py (line 556):     INFO: Merging extension sto file (/tmp/sepp/output.kad_c1tf/root/P_10/A_10_0/FC_10_0_2/hmmalign.results.bab75r4e) into base alignment (/tmp/sepp/output.kad_c1tf/root/P_10/A_10_0/hmmbuild.input.i0ykk9b5.fasta).\n",
      "[15:21:06] exhaustive.py (line 151):     INFO: Merging sub-alignments for placement problem : P_9.\n",
      "[15:21:06] alignment.py (line 556):     INFO: Merging extension sto file (/tmp/sepp/output.kad_c1tf/root/P_9/A_9_0/FC_9_0_0/hmmalign.results.lb0sgzik) into base alignment (/tmp/sepp/output.kad_c1tf/root/P_9/A_9_0/hmmbuild.input.f5ood8or.fasta).\n",
      "[15:21:06] alignment.py (line 556):     INFO: Merging extension sto file (/tmp/sepp/output.kad_c1tf/root/P_9/A_9_0/FC_9_0_1/hmmalign.results.81iorsex) into base alignment (/tmp/sepp/output.kad_c1tf/root/P_9/A_9_0/hmmbuild.input.f5ood8or.fasta).\n",
      "[15:21:06] alignment.py (line 556):     INFO: Merging extension sto file (/tmp/sepp/output.kad_c1tf/root/P_9/A_9_0/FC_9_0_2/hmmalign.results.ixa04kxg) into base alignment (/tmp/sepp/output.kad_c1tf/root/P_9/A_9_0/hmmbuild.input.f5ood8or.fasta).\n",
      "[15:21:09] jobs.py (line 131):     INFO: Finished hmmalign Job with input: model:/tmp/sepp/output.kad_c1tf/root/P_12/A_12_0/hmmbuild.model.5zetgebn, fragments:/tmp/sepp/output.kad_c1tf/root/P_12/A_12_0/FC_12_0_1/hmmalign.frag.w6199lzn.fasta, trim:False, base_alignment:/tmp/sepp/output.kad_c1tf/root/P_12/A_12_0/hmmbuild.input.zfvj1vvy.fasta\n",
      "[15:21:09] jobs.py (line 131):     INFO: Finished hmmalign Job with input: model:/tmp/sepp/output.kad_c1tf/root/P_12/A_12_0/hmmbuild.model.5zetgebn, fragments:/tmp/sepp/output.kad_c1tf/root/P_12/A_12_0/FC_12_0_2/hmmalign.frag.80x0j09l.fasta, trim:False, base_alignment:/tmp/sepp/output.kad_c1tf/root/P_12/A_12_0/hmmbuild.input.zfvj1vvy.fasta\n",
      "[15:21:09] jobs.py (line 131):     INFO: Finished hmmalign Job with input: model:/tmp/sepp/output.kad_c1tf/root/P_12/A_12_0/hmmbuild.model.5zetgebn, fragments:/tmp/sepp/output.kad_c1tf/root/P_12/A_12_0/FC_12_0_0/hmmalign.frag.3507231l.fasta, trim:False, base_alignment:/tmp/sepp/output.kad_c1tf/root/P_12/A_12_0/hmmbuild.input.zfvj1vvy.fasta\n",
      "[15:21:09] exhaustive.py (line 151):     INFO: Merging sub-alignments for placement problem : P_12.\n",
      "[15:21:09] alignment.py (line 556):     INFO: Merging extension sto file (/tmp/sepp/output.kad_c1tf/root/P_12/A_12_0/FC_12_0_0/hmmalign.results.vz7ckozv) into base alignment (/tmp/sepp/output.kad_c1tf/root/P_12/A_12_0/hmmbuild.input.zfvj1vvy.fasta).\n",
      "[15:21:09] alignment.py (line 556):     INFO: Merging extension sto file (/tmp/sepp/output.kad_c1tf/root/P_12/A_12_0/FC_12_0_1/hmmalign.results.hs9d6o18) into base alignment (/tmp/sepp/output.kad_c1tf/root/P_12/A_12_0/hmmbuild.input.zfvj1vvy.fasta).\n",
      "[15:21:09] alignment.py (line 556):     INFO: Merging extension sto file (/tmp/sepp/output.kad_c1tf/root/P_12/A_12_0/FC_12_0_2/hmmalign.results.pemllzqi) into base alignment (/tmp/sepp/output.kad_c1tf/root/P_12/A_12_0/hmmbuild.input.zfvj1vvy.fasta).\n",
      "[15:21:09] jobs.py (line 131):     INFO: Finished hmmalign Job with input: model:/tmp/sepp/output.kad_c1tf/root/P_13/A_13_0/hmmbuild.model.a8rcni7x, fragments:/tmp/sepp/output.kad_c1tf/root/P_13/A_13_0/FC_13_0_0/hmmalign.frag.skwu25a2.fasta, trim:False, base_alignment:/tmp/sepp/output.kad_c1tf/root/P_13/A_13_0/hmmbuild.input.kzdaocx3.fasta\n",
      "[15:21:09] jobs.py (line 131):     INFO: Finished hmmalign Job with input: model:/tmp/sepp/output.kad_c1tf/root/P_13/A_13_0/hmmbuild.model.a8rcni7x, fragments:/tmp/sepp/output.kad_c1tf/root/P_13/A_13_0/FC_13_0_1/hmmalign.frag.dd9p8in8.fasta, trim:False, base_alignment:/tmp/sepp/output.kad_c1tf/root/P_13/A_13_0/hmmbuild.input.kzdaocx3.fasta\n",
      "[15:21:09] jobs.py (line 131):     INFO: Finished hmmalign Job with input: model:/tmp/sepp/output.kad_c1tf/root/P_13/A_13_0/hmmbuild.model.a8rcni7x, fragments:/tmp/sepp/output.kad_c1tf/root/P_13/A_13_0/FC_13_0_2/hmmalign.frag.ootzielp.fasta, trim:False, base_alignment:/tmp/sepp/output.kad_c1tf/root/P_13/A_13_0/hmmbuild.input.kzdaocx3.fasta\n",
      "[15:21:09] exhaustive.py (line 151):     INFO: Merging sub-alignments for placement problem : P_13.\n",
      "[15:21:09] alignment.py (line 556):     INFO: Merging extension sto file (/tmp/sepp/output.kad_c1tf/root/P_13/A_13_0/FC_13_0_0/hmmalign.results.12o4yk2i) into base alignment (/tmp/sepp/output.kad_c1tf/root/P_13/A_13_0/hmmbuild.input.kzdaocx3.fasta).\n",
      "[15:21:09] alignment.py (line 556):     INFO: Merging extension sto file (/tmp/sepp/output.kad_c1tf/root/P_13/A_13_0/FC_13_0_1/hmmalign.results.c7lt0v8j) into base alignment (/tmp/sepp/output.kad_c1tf/root/P_13/A_13_0/hmmbuild.input.kzdaocx3.fasta).\n",
      "[15:21:09] alignment.py (line 556):     INFO: Merging extension sto file (/tmp/sepp/output.kad_c1tf/root/P_13/A_13_0/FC_13_0_2/hmmalign.results.kpok8hw5) into base alignment (/tmp/sepp/output.kad_c1tf/root/P_13/A_13_0/hmmbuild.input.kzdaocx3.fasta).\n",
      "[15:21:10] jobs.py (line 131):     INFO: Finished hmmalign Job with input: model:/tmp/sepp/output.kad_c1tf/root/P_14/A_14_0/hmmbuild.model.16p27nu0, fragments:/tmp/sepp/output.kad_c1tf/root/P_14/A_14_0/FC_14_0_1/hmmalign.frag.bq0i69hc.fasta, trim:False, base_alignment:/tmp/sepp/output.kad_c1tf/root/P_14/A_14_0/hmmbuild.input.sn_e7x75.fasta\n",
      "[15:21:10] jobs.py (line 131):     INFO: Finished hmmalign Job with input: model:/tmp/sepp/output.kad_c1tf/root/P_14/A_14_0/hmmbuild.model.16p27nu0, fragments:/tmp/sepp/output.kad_c1tf/root/P_14/A_14_0/FC_14_0_0/hmmalign.frag.co7xj_y0.fasta, trim:False, base_alignment:/tmp/sepp/output.kad_c1tf/root/P_14/A_14_0/hmmbuild.input.sn_e7x75.fasta\n",
      "[15:21:10] jobs.py (line 131):     INFO: Finished hmmalign Job with input: model:/tmp/sepp/output.kad_c1tf/root/P_14/A_14_0/hmmbuild.model.16p27nu0, fragments:/tmp/sepp/output.kad_c1tf/root/P_14/A_14_0/FC_14_0_2/hmmalign.frag.eccidx58.fasta, trim:False, base_alignment:/tmp/sepp/output.kad_c1tf/root/P_14/A_14_0/hmmbuild.input.sn_e7x75.fasta\n",
      "[15:21:10] exhaustive.py (line 151):     INFO: Merging sub-alignments for placement problem : P_14.\n",
      "[15:21:10] jobs.py (line 131):     INFO: Finished hmmalign Job with input: model:/tmp/sepp/output.kad_c1tf/root/P_15/A_15_0/hmmbuild.model.v8jd39gy, fragments:/tmp/sepp/output.kad_c1tf/root/P_15/A_15_0/FC_15_0_0/hmmalign.frag.08ujuh4u.fasta, trim:False, base_alignment:/tmp/sepp/output.kad_c1tf/root/P_15/A_15_0/hmmbuild.input.xp4hkp5l.fasta\n",
      "[15:21:10] alignment.py (line 556):     INFO: Merging extension sto file (/tmp/sepp/output.kad_c1tf/root/P_14/A_14_0/FC_14_0_0/hmmalign.results.5_uhmlk8) into base alignment (/tmp/sepp/output.kad_c1tf/root/P_14/A_14_0/hmmbuild.input.sn_e7x75.fasta).\n",
      "[15:21:10] alignment.py (line 556):     INFO: Merging extension sto file (/tmp/sepp/output.kad_c1tf/root/P_14/A_14_0/FC_14_0_1/hmmalign.results.yxqgtmys) into base alignment (/tmp/sepp/output.kad_c1tf/root/P_14/A_14_0/hmmbuild.input.sn_e7x75.fasta).\n",
      "[15:21:10] alignment.py (line 556):     INFO: Merging extension sto file (/tmp/sepp/output.kad_c1tf/root/P_14/A_14_0/FC_14_0_2/hmmalign.results.j7g_4rqm) into base alignment (/tmp/sepp/output.kad_c1tf/root/P_14/A_14_0/hmmbuild.input.sn_e7x75.fasta).\n",
      "[15:21:10] exhaustive.py (line 151):     INFO: Merging sub-alignments for placement problem : P_15.\n",
      "[15:21:10] alignment.py (line 556):     INFO: Merging extension sto file (/tmp/sepp/output.kad_c1tf/root/P_15/A_15_0/FC_15_0_0/hmmalign.results.x_p1_b0u) into base alignment (/tmp/sepp/output.kad_c1tf/root/P_15/A_15_0/hmmbuild.input.xp4hkp5l.fasta).\n",
      "[15:21:15] jobs.py (line 131):     INFO: Finished pplacer Job with input: backbone_alignment_file:/tmp/sepp/output.kad_c1tf/root/P_1/pplacer.backbone.l7ep6qzm.fasta, tree_file:/tmp/sepp/output.kad_c1tf/root/P_1/pplacer.tree.ss13vkl_.tre, info_file:/home/lauro/anaconda3/envs/qiime2-2021.11/lib/python3.8/site-packages/picrust2/default_files/prokaryotic/pro_ref/pro_ref.raxml_info, extended alignment:/tmp/sepp/output.kad_c1tf/root/P_1/pplacer.extended.1.f3blsk_c.fasta, output:/tmp/sepp/output.kad_c1tf/root/P_1/pplacer.extended.1.f3blsk_c.jplace\n",
      "[15:21:15] jobs.py (line 131):     INFO: Finished pplacer Job with input: backbone_alignment_file:/tmp/sepp/output.kad_c1tf/root/P_1/pplacer.backbone.7myfy4ue.fasta, tree_file:/tmp/sepp/output.kad_c1tf/root/P_1/pplacer.tree.81c59aox.tre, info_file:/home/lauro/anaconda3/envs/qiime2-2021.11/lib/python3.8/site-packages/picrust2/default_files/prokaryotic/pro_ref/pro_ref.raxml_info, extended alignment:/tmp/sepp/output.kad_c1tf/root/P_1/pplacer.extended.0.w76mevst.fasta, output:/tmp/sepp/output.kad_c1tf/root/P_1/pplacer.extended.0.w76mevst.jplace\n",
      "[15:21:15] jobs.py (line 131):     INFO: Finished pplacer Job with input: backbone_alignment_file:/tmp/sepp/output.kad_c1tf/root/P_1/pplacer.backbone.n8bj1roi.fasta, tree_file:/tmp/sepp/output.kad_c1tf/root/P_1/pplacer.tree.u7a2onu1.tre, info_file:/home/lauro/anaconda3/envs/qiime2-2021.11/lib/python3.8/site-packages/picrust2/default_files/prokaryotic/pro_ref/pro_ref.raxml_info, extended alignment:/tmp/sepp/output.kad_c1tf/root/P_1/pplacer.extended.2.9ynmpmlq.fasta, output:/tmp/sepp/output.kad_c1tf/root/P_1/pplacer.extended.2.9ynmpmlq.jplace\n",
      "[15:21:16] jobs.py (line 131):     INFO: Finished hmmalign Job with input: model:/tmp/sepp/output.kad_c1tf/root/P_11/A_11_0/hmmbuild.model.0t524bvi, fragments:/tmp/sepp/output.kad_c1tf/root/P_11/A_11_0/FC_11_0_0/hmmalign.frag.nd4t8q9w.fasta, trim:False, base_alignment:/tmp/sepp/output.kad_c1tf/root/P_11/A_11_0/hmmbuild.input.7eo1mgz6.fasta\n",
      "[15:21:16] jobs.py (line 131):     INFO: Finished hmmalign Job with input: model:/tmp/sepp/output.kad_c1tf/root/P_11/A_11_0/hmmbuild.model.0t524bvi, fragments:/tmp/sepp/output.kad_c1tf/root/P_11/A_11_0/FC_11_0_1/hmmalign.frag.72kv2tt2.fasta, trim:False, base_alignment:/tmp/sepp/output.kad_c1tf/root/P_11/A_11_0/hmmbuild.input.7eo1mgz6.fasta\n",
      "[15:21:17] jobs.py (line 131):     INFO: Finished hmmalign Job with input: model:/tmp/sepp/output.kad_c1tf/root/P_11/A_11_0/hmmbuild.model.0t524bvi, fragments:/tmp/sepp/output.kad_c1tf/root/P_11/A_11_0/FC_11_0_2/hmmalign.frag.yx5r7t9t.fasta, trim:False, base_alignment:/tmp/sepp/output.kad_c1tf/root/P_11/A_11_0/hmmbuild.input.7eo1mgz6.fasta\n",
      "[15:21:17] exhaustive.py (line 151):     INFO: Merging sub-alignments for placement problem : P_11.\n",
      "[15:21:17] alignment.py (line 556):     INFO: Merging extension sto file (/tmp/sepp/output.kad_c1tf/root/P_11/A_11_0/FC_11_0_0/hmmalign.results.upv9xp4c) into base alignment (/tmp/sepp/output.kad_c1tf/root/P_11/A_11_0/hmmbuild.input.7eo1mgz6.fasta).\n",
      "[15:21:17] alignment.py (line 556):     INFO: Merging extension sto file (/tmp/sepp/output.kad_c1tf/root/P_11/A_11_0/FC_11_0_1/hmmalign.results.wn8ss3te) into base alignment (/tmp/sepp/output.kad_c1tf/root/P_11/A_11_0/hmmbuild.input.7eo1mgz6.fasta).\n",
      "[15:21:17] alignment.py (line 556):     INFO: Merging extension sto file (/tmp/sepp/output.kad_c1tf/root/P_11/A_11_0/FC_11_0_2/hmmalign.results.i4kwryrc) into base alignment (/tmp/sepp/output.kad_c1tf/root/P_11/A_11_0/hmmbuild.input.7eo1mgz6.fasta).\n",
      "[15:21:19] jobs.py (line 131):     INFO: Finished pplacer Job with input: backbone_alignment_file:/tmp/sepp/output.kad_c1tf/root/P_5/pplacer.backbone._ofaofp0.fasta, tree_file:/tmp/sepp/output.kad_c1tf/root/P_5/pplacer.tree.a70av5j5.tre, info_file:/home/lauro/anaconda3/envs/qiime2-2021.11/lib/python3.8/site-packages/picrust2/default_files/prokaryotic/pro_ref/pro_ref.raxml_info, extended alignment:/tmp/sepp/output.kad_c1tf/root/P_5/pplacer.extended.2.ebelo79c.fasta, output:/tmp/sepp/output.kad_c1tf/root/P_5/pplacer.extended.2.ebelo79c.jplace\n",
      "[15:21:20] jobs.py (line 131):     INFO: Finished pplacer Job with input: backbone_alignment_file:/tmp/sepp/output.kad_c1tf/root/P_5/pplacer.backbone.jox47wpc.fasta, tree_file:/tmp/sepp/output.kad_c1tf/root/P_5/pplacer.tree.02n8yxfg.tre, info_file:/home/lauro/anaconda3/envs/qiime2-2021.11/lib/python3.8/site-packages/picrust2/default_files/prokaryotic/pro_ref/pro_ref.raxml_info, extended alignment:/tmp/sepp/output.kad_c1tf/root/P_5/pplacer.extended.0.gl4lp35m.fasta, output:/tmp/sepp/output.kad_c1tf/root/P_5/pplacer.extended.0.gl4lp35m.jplace\n",
      "[15:21:20] jobs.py (line 131):     INFO: Finished pplacer Job with input: backbone_alignment_file:/tmp/sepp/output.kad_c1tf/root/P_7/pplacer.backbone.rwjpr5hf.fasta, tree_file:/tmp/sepp/output.kad_c1tf/root/P_7/pplacer.tree.s7kxwgyw.tre, info_file:/home/lauro/anaconda3/envs/qiime2-2021.11/lib/python3.8/site-packages/picrust2/default_files/prokaryotic/pro_ref/pro_ref.raxml_info, extended alignment:/tmp/sepp/output.kad_c1tf/root/P_7/pplacer.extended.0.iydkosa2.fasta, output:/tmp/sepp/output.kad_c1tf/root/P_7/pplacer.extended.0.iydkosa2.jplace\n",
      "[15:21:22] jobs.py (line 131):     INFO: Finished pplacer Job with input: backbone_alignment_file:/tmp/sepp/output.kad_c1tf/root/P_5/pplacer.backbone.akxcbsy1.fasta, tree_file:/tmp/sepp/output.kad_c1tf/root/P_5/pplacer.tree.opyipce5.tre, info_file:/home/lauro/anaconda3/envs/qiime2-2021.11/lib/python3.8/site-packages/picrust2/default_files/prokaryotic/pro_ref/pro_ref.raxml_info, extended alignment:/tmp/sepp/output.kad_c1tf/root/P_5/pplacer.extended.1.f9non_af.fasta, output:/tmp/sepp/output.kad_c1tf/root/P_5/pplacer.extended.1.f9non_af.jplace\n",
      "[15:21:23] jobs.py (line 131):     INFO: Finished pplacer Job with input: backbone_alignment_file:/tmp/sepp/output.kad_c1tf/root/P_7/pplacer.backbone.ddz5kfk3.fasta, tree_file:/tmp/sepp/output.kad_c1tf/root/P_7/pplacer.tree.yix2jc8y.tre, info_file:/home/lauro/anaconda3/envs/qiime2-2021.11/lib/python3.8/site-packages/picrust2/default_files/prokaryotic/pro_ref/pro_ref.raxml_info, extended alignment:/tmp/sepp/output.kad_c1tf/root/P_7/pplacer.extended.1.d9d2ebar.fasta, output:/tmp/sepp/output.kad_c1tf/root/P_7/pplacer.extended.1.d9d2ebar.jplace\n",
      "[15:21:23] jobs.py (line 131):     INFO: Finished pplacer Job with input: backbone_alignment_file:/tmp/sepp/output.kad_c1tf/root/P_7/pplacer.backbone.m70mcpqx.fasta, tree_file:/tmp/sepp/output.kad_c1tf/root/P_7/pplacer.tree.28_b7iob.tre, info_file:/home/lauro/anaconda3/envs/qiime2-2021.11/lib/python3.8/site-packages/picrust2/default_files/prokaryotic/pro_ref/pro_ref.raxml_info, extended alignment:/tmp/sepp/output.kad_c1tf/root/P_7/pplacer.extended.2.z63s9lbi.fasta, output:/tmp/sepp/output.kad_c1tf/root/P_7/pplacer.extended.2.z63s9lbi.jplace\n",
      "[15:21:25] jobs.py (line 131):     INFO: Finished pplacer Job with input: backbone_alignment_file:/tmp/sepp/output.kad_c1tf/root/P_8/pplacer.backbone.gtjz7_13.fasta, tree_file:/tmp/sepp/output.kad_c1tf/root/P_8/pplacer.tree.y54my2o3.tre, info_file:/home/lauro/anaconda3/envs/qiime2-2021.11/lib/python3.8/site-packages/picrust2/default_files/prokaryotic/pro_ref/pro_ref.raxml_info, extended alignment:/tmp/sepp/output.kad_c1tf/root/P_8/pplacer.extended.0.n2kwwfb_.fasta, output:/tmp/sepp/output.kad_c1tf/root/P_8/pplacer.extended.0.n2kwwfb_.jplace\n",
      "[15:21:25] jobs.py (line 131):     INFO: Finished pplacer Job with input: backbone_alignment_file:/tmp/sepp/output.kad_c1tf/root/P_6/pplacer.backbone.g7uxmdzr.fasta, tree_file:/tmp/sepp/output.kad_c1tf/root/P_6/pplacer.tree.k3683c8j.tre, info_file:/home/lauro/anaconda3/envs/qiime2-2021.11/lib/python3.8/site-packages/picrust2/default_files/prokaryotic/pro_ref/pro_ref.raxml_info, extended alignment:/tmp/sepp/output.kad_c1tf/root/P_6/pplacer.extended.2.qvowli_b.fasta, output:/tmp/sepp/output.kad_c1tf/root/P_6/pplacer.extended.2.qvowli_b.jplace\n",
      "[15:21:27] jobs.py (line 131):     INFO: Finished pplacer Job with input: backbone_alignment_file:/tmp/sepp/output.kad_c1tf/root/P_8/pplacer.backbone.p26rn3a8.fasta, tree_file:/tmp/sepp/output.kad_c1tf/root/P_8/pplacer.tree._9jlvubd.tre, info_file:/home/lauro/anaconda3/envs/qiime2-2021.11/lib/python3.8/site-packages/picrust2/default_files/prokaryotic/pro_ref/pro_ref.raxml_info, extended alignment:/tmp/sepp/output.kad_c1tf/root/P_8/pplacer.extended.1.g1gr1fb4.fasta, output:/tmp/sepp/output.kad_c1tf/root/P_8/pplacer.extended.1.g1gr1fb4.jplace\n",
      "[15:21:28] jobs.py (line 131):     INFO: Finished pplacer Job with input: backbone_alignment_file:/tmp/sepp/output.kad_c1tf/root/P_8/pplacer.backbone.ncfu_7bg.fasta, tree_file:/tmp/sepp/output.kad_c1tf/root/P_8/pplacer.tree.t0s20onc.tre, info_file:/home/lauro/anaconda3/envs/qiime2-2021.11/lib/python3.8/site-packages/picrust2/default_files/prokaryotic/pro_ref/pro_ref.raxml_info, extended alignment:/tmp/sepp/output.kad_c1tf/root/P_8/pplacer.extended.2.lyejm8da.fasta, output:/tmp/sepp/output.kad_c1tf/root/P_8/pplacer.extended.2.lyejm8da.jplace\n",
      "[15:21:29] jobs.py (line 131):     INFO: Finished pplacer Job with input: backbone_alignment_file:/tmp/sepp/output.kad_c1tf/root/P_10/pplacer.backbone.4ez4aren.fasta, tree_file:/tmp/sepp/output.kad_c1tf/root/P_10/pplacer.tree.sejzfuku.tre, info_file:/home/lauro/anaconda3/envs/qiime2-2021.11/lib/python3.8/site-packages/picrust2/default_files/prokaryotic/pro_ref/pro_ref.raxml_info, extended alignment:/tmp/sepp/output.kad_c1tf/root/P_10/pplacer.extended.0.lo_1iexh.fasta, output:/tmp/sepp/output.kad_c1tf/root/P_10/pplacer.extended.0.lo_1iexh.jplace\n",
      "[15:21:33] jobs.py (line 131):     INFO: Finished pplacer Job with input: backbone_alignment_file:/tmp/sepp/output.kad_c1tf/root/P_10/pplacer.backbone.pgkdjehp.fasta, tree_file:/tmp/sepp/output.kad_c1tf/root/P_10/pplacer.tree.ofjnyi3p.tre, info_file:/home/lauro/anaconda3/envs/qiime2-2021.11/lib/python3.8/site-packages/picrust2/default_files/prokaryotic/pro_ref/pro_ref.raxml_info, extended alignment:/tmp/sepp/output.kad_c1tf/root/P_10/pplacer.extended.1.h_e01_wx.fasta, output:/tmp/sepp/output.kad_c1tf/root/P_10/pplacer.extended.1.h_e01_wx.jplace\n",
      "[15:21:33] jobs.py (line 131):     INFO: Finished pplacer Job with input: backbone_alignment_file:/tmp/sepp/output.kad_c1tf/root/P_10/pplacer.backbone.8_0fm44b.fasta, tree_file:/tmp/sepp/output.kad_c1tf/root/P_10/pplacer.tree.b_k4wfur.tre, info_file:/home/lauro/anaconda3/envs/qiime2-2021.11/lib/python3.8/site-packages/picrust2/default_files/prokaryotic/pro_ref/pro_ref.raxml_info, extended alignment:/tmp/sepp/output.kad_c1tf/root/P_10/pplacer.extended.2.z1kzop9l.fasta, output:/tmp/sepp/output.kad_c1tf/root/P_10/pplacer.extended.2.z1kzop9l.jplace\n",
      "[15:21:33] jobs.py (line 131):     INFO: Finished pplacer Job with input: backbone_alignment_file:/tmp/sepp/output.kad_c1tf/root/P_6/pplacer.backbone.i4ofw0wy.fasta, tree_file:/tmp/sepp/output.kad_c1tf/root/P_6/pplacer.tree.x_zktw9w.tre, info_file:/home/lauro/anaconda3/envs/qiime2-2021.11/lib/python3.8/site-packages/picrust2/default_files/prokaryotic/pro_ref/pro_ref.raxml_info, extended alignment:/tmp/sepp/output.kad_c1tf/root/P_6/pplacer.extended.1.b10pvalx.fasta, output:/tmp/sepp/output.kad_c1tf/root/P_6/pplacer.extended.1.b10pvalx.jplace\n",
      "[15:21:36] jobs.py (line 131):     INFO: Finished pplacer Job with input: backbone_alignment_file:/tmp/sepp/output.kad_c1tf/root/P_9/pplacer.backbone.clx1e0e_.fasta, tree_file:/tmp/sepp/output.kad_c1tf/root/P_9/pplacer.tree.jo6g93re.tre, info_file:/home/lauro/anaconda3/envs/qiime2-2021.11/lib/python3.8/site-packages/picrust2/default_files/prokaryotic/pro_ref/pro_ref.raxml_info, extended alignment:/tmp/sepp/output.kad_c1tf/root/P_9/pplacer.extended.0.5r3k6al6.fasta, output:/tmp/sepp/output.kad_c1tf/root/P_9/pplacer.extended.0.5r3k6al6.jplace\n",
      "[15:21:38] jobs.py (line 131):     INFO: Finished pplacer Job with input: backbone_alignment_file:/tmp/sepp/output.kad_c1tf/root/P_6/pplacer.backbone.qy35e2wv.fasta, tree_file:/tmp/sepp/output.kad_c1tf/root/P_6/pplacer.tree.g8aekl_x.tre, info_file:/home/lauro/anaconda3/envs/qiime2-2021.11/lib/python3.8/site-packages/picrust2/default_files/prokaryotic/pro_ref/pro_ref.raxml_info, extended alignment:/tmp/sepp/output.kad_c1tf/root/P_6/pplacer.extended.0.9m0mfgsw.fasta, output:/tmp/sepp/output.kad_c1tf/root/P_6/pplacer.extended.0.9m0mfgsw.jplace\n",
      "[15:21:39] jobs.py (line 131):     INFO: Finished pplacer Job with input: backbone_alignment_file:/tmp/sepp/output.kad_c1tf/root/P_9/pplacer.backbone.ppxp3bqo.fasta, tree_file:/tmp/sepp/output.kad_c1tf/root/P_9/pplacer.tree.8j_219cr.tre, info_file:/home/lauro/anaconda3/envs/qiime2-2021.11/lib/python3.8/site-packages/picrust2/default_files/prokaryotic/pro_ref/pro_ref.raxml_info, extended alignment:/tmp/sepp/output.kad_c1tf/root/P_9/pplacer.extended.1.esqwihl7.fasta, output:/tmp/sepp/output.kad_c1tf/root/P_9/pplacer.extended.1.esqwihl7.jplace\n",
      "[15:21:42] jobs.py (line 131):     INFO: Finished pplacer Job with input: backbone_alignment_file:/tmp/sepp/output.kad_c1tf/root/P_13/pplacer.backbone.8_3dp10o.fasta, tree_file:/tmp/sepp/output.kad_c1tf/root/P_13/pplacer.tree.i94btxgk.tre, info_file:/home/lauro/anaconda3/envs/qiime2-2021.11/lib/python3.8/site-packages/picrust2/default_files/prokaryotic/pro_ref/pro_ref.raxml_info, extended alignment:/tmp/sepp/output.kad_c1tf/root/P_13/pplacer.extended.1.21jkwumf.fasta, output:/tmp/sepp/output.kad_c1tf/root/P_13/pplacer.extended.1.21jkwumf.jplace\n",
      "[15:21:42] jobs.py (line 131):     INFO: Finished pplacer Job with input: backbone_alignment_file:/tmp/sepp/output.kad_c1tf/root/P_13/pplacer.backbone.g3dfn0h3.fasta, tree_file:/tmp/sepp/output.kad_c1tf/root/P_13/pplacer.tree._zq1hji9.tre, info_file:/home/lauro/anaconda3/envs/qiime2-2021.11/lib/python3.8/site-packages/picrust2/default_files/prokaryotic/pro_ref/pro_ref.raxml_info, extended alignment:/tmp/sepp/output.kad_c1tf/root/P_13/pplacer.extended.0.4l659r05.fasta, output:/tmp/sepp/output.kad_c1tf/root/P_13/pplacer.extended.0.4l659r05.jplace\n",
      "[15:21:44] jobs.py (line 131):     INFO: Finished pplacer Job with input: backbone_alignment_file:/tmp/sepp/output.kad_c1tf/root/P_9/pplacer.backbone.hxu6nz8l.fasta, tree_file:/tmp/sepp/output.kad_c1tf/root/P_9/pplacer.tree.rg_zkqea.tre, info_file:/home/lauro/anaconda3/envs/qiime2-2021.11/lib/python3.8/site-packages/picrust2/default_files/prokaryotic/pro_ref/pro_ref.raxml_info, extended alignment:/tmp/sepp/output.kad_c1tf/root/P_9/pplacer.extended.2.1otyyk91.fasta, output:/tmp/sepp/output.kad_c1tf/root/P_9/pplacer.extended.2.1otyyk91.jplace\n",
      "[15:21:46] jobs.py (line 131):     INFO: Finished pplacer Job with input: backbone_alignment_file:/tmp/sepp/output.kad_c1tf/root/P_13/pplacer.backbone.4r49flsu.fasta, tree_file:/tmp/sepp/output.kad_c1tf/root/P_13/pplacer.tree.hhcw2k72.tre, info_file:/home/lauro/anaconda3/envs/qiime2-2021.11/lib/python3.8/site-packages/picrust2/default_files/prokaryotic/pro_ref/pro_ref.raxml_info, extended alignment:/tmp/sepp/output.kad_c1tf/root/P_13/pplacer.extended.2.mizv9wjs.fasta, output:/tmp/sepp/output.kad_c1tf/root/P_13/pplacer.extended.2.mizv9wjs.jplace\n",
      "[15:21:49] jobs.py (line 131):     INFO: Finished pplacer Job with input: backbone_alignment_file:/tmp/sepp/output.kad_c1tf/root/P_12/pplacer.backbone.5q7zg9bf.fasta, tree_file:/tmp/sepp/output.kad_c1tf/root/P_12/pplacer.tree.bf69i3nq.tre, info_file:/home/lauro/anaconda3/envs/qiime2-2021.11/lib/python3.8/site-packages/picrust2/default_files/prokaryotic/pro_ref/pro_ref.raxml_info, extended alignment:/tmp/sepp/output.kad_c1tf/root/P_12/pplacer.extended.1.9gv71rd7.fasta, output:/tmp/sepp/output.kad_c1tf/root/P_12/pplacer.extended.1.9gv71rd7.jplace\n",
      "[15:21:49] jobs.py (line 131):     INFO: Finished pplacer Job with input: backbone_alignment_file:/tmp/sepp/output.kad_c1tf/root/P_14/pplacer.backbone.aq0lu1im.fasta, tree_file:/tmp/sepp/output.kad_c1tf/root/P_14/pplacer.tree.jq1bpj3t.tre, info_file:/home/lauro/anaconda3/envs/qiime2-2021.11/lib/python3.8/site-packages/picrust2/default_files/prokaryotic/pro_ref/pro_ref.raxml_info, extended alignment:/tmp/sepp/output.kad_c1tf/root/P_14/pplacer.extended.0.h51n20iy.fasta, output:/tmp/sepp/output.kad_c1tf/root/P_14/pplacer.extended.0.h51n20iy.jplace\n",
      "[15:21:50] jobs.py (line 131):     INFO: Finished pplacer Job with input: backbone_alignment_file:/tmp/sepp/output.kad_c1tf/root/P_14/pplacer.backbone.qxd0vc3r.fasta, tree_file:/tmp/sepp/output.kad_c1tf/root/P_14/pplacer.tree.dpj2zfc4.tre, info_file:/home/lauro/anaconda3/envs/qiime2-2021.11/lib/python3.8/site-packages/picrust2/default_files/prokaryotic/pro_ref/pro_ref.raxml_info, extended alignment:/tmp/sepp/output.kad_c1tf/root/P_14/pplacer.extended.1.k1t3fj9t.fasta, output:/tmp/sepp/output.kad_c1tf/root/P_14/pplacer.extended.1.k1t3fj9t.jplace\n",
      "[15:21:50] jobs.py (line 131):     INFO: Finished pplacer Job with input: backbone_alignment_file:/tmp/sepp/output.kad_c1tf/root/P_14/pplacer.backbone.xy9lmgwt.fasta, tree_file:/tmp/sepp/output.kad_c1tf/root/P_14/pplacer.tree.zp9j0rym.tre, info_file:/home/lauro/anaconda3/envs/qiime2-2021.11/lib/python3.8/site-packages/picrust2/default_files/prokaryotic/pro_ref/pro_ref.raxml_info, extended alignment:/tmp/sepp/output.kad_c1tf/root/P_14/pplacer.extended.2.bcuijeed.fasta, output:/tmp/sepp/output.kad_c1tf/root/P_14/pplacer.extended.2.bcuijeed.jplace\n",
      "[15:21:54] jobs.py (line 131):     INFO: Finished pplacer Job with input: backbone_alignment_file:/tmp/sepp/output.kad_c1tf/root/P_12/pplacer.backbone.m5adzgkv.fasta, tree_file:/tmp/sepp/output.kad_c1tf/root/P_12/pplacer.tree.zl_qbdi5.tre, info_file:/home/lauro/anaconda3/envs/qiime2-2021.11/lib/python3.8/site-packages/picrust2/default_files/prokaryotic/pro_ref/pro_ref.raxml_info, extended alignment:/tmp/sepp/output.kad_c1tf/root/P_12/pplacer.extended.2.4wsgoqmb.fasta, output:/tmp/sepp/output.kad_c1tf/root/P_12/pplacer.extended.2.4wsgoqmb.jplace\n",
      "[15:21:54] jobs.py (line 131):     INFO: Finished pplacer Job with input: backbone_alignment_file:/tmp/sepp/output.kad_c1tf/root/P_12/pplacer.backbone.pogi_c6w.fasta, tree_file:/tmp/sepp/output.kad_c1tf/root/P_12/pplacer.tree.3ybf941n.tre, info_file:/home/lauro/anaconda3/envs/qiime2-2021.11/lib/python3.8/site-packages/picrust2/default_files/prokaryotic/pro_ref/pro_ref.raxml_info, extended alignment:/tmp/sepp/output.kad_c1tf/root/P_12/pplacer.extended.0.tzfnvqql.fasta, output:/tmp/sepp/output.kad_c1tf/root/P_12/pplacer.extended.0.tzfnvqql.jplace\n",
      "[15:21:54] jobs.py (line 131):     INFO: Finished pplacer Job with input: backbone_alignment_file:/tmp/sepp/output.kad_c1tf/root/P_15/pplacer.backbone.8b87fr3g.fasta, tree_file:/tmp/sepp/output.kad_c1tf/root/P_15/pplacer.tree.uzmt2uly.tre, info_file:/home/lauro/anaconda3/envs/qiime2-2021.11/lib/python3.8/site-packages/picrust2/default_files/prokaryotic/pro_ref/pro_ref.raxml_info, extended alignment:/tmp/sepp/output.kad_c1tf/root/P_15/pplacer.extended.0.jsk8n2w7.fasta, output:/tmp/sepp/output.kad_c1tf/root/P_15/pplacer.extended.0.jsk8n2w7.jplace\n",
      "[15:22:28] jobs.py (line 131):     INFO: Finished pplacer Job with input: backbone_alignment_file:/tmp/sepp/output.kad_c1tf/root/P_11/pplacer.backbone.rrm16ib1.fasta, tree_file:/tmp/sepp/output.kad_c1tf/root/P_11/pplacer.tree.u3_i8r15.tre, info_file:/home/lauro/anaconda3/envs/qiime2-2021.11/lib/python3.8/site-packages/picrust2/default_files/prokaryotic/pro_ref/pro_ref.raxml_info, extended alignment:/tmp/sepp/output.kad_c1tf/root/P_11/pplacer.extended.0.iw3rkr39.fasta, output:/tmp/sepp/output.kad_c1tf/root/P_11/pplacer.extended.0.iw3rkr39.jplace\n",
      "[15:22:29] jobs.py (line 131):     INFO: Finished pplacer Job with input: backbone_alignment_file:/tmp/sepp/output.kad_c1tf/root/P_11/pplacer.backbone.qeqm5i9c.fasta, tree_file:/tmp/sepp/output.kad_c1tf/root/P_11/pplacer.tree.stiiwyj8.tre, info_file:/home/lauro/anaconda3/envs/qiime2-2021.11/lib/python3.8/site-packages/picrust2/default_files/prokaryotic/pro_ref/pro_ref.raxml_info, extended alignment:/tmp/sepp/output.kad_c1tf/root/P_11/pplacer.extended.2.predchhk.fasta, output:/tmp/sepp/output.kad_c1tf/root/P_11/pplacer.extended.2.predchhk.jplace\n",
      "[15:22:29] jobs.py (line 131):     INFO: Finished pplacer Job with input: backbone_alignment_file:/tmp/sepp/output.kad_c1tf/root/P_11/pplacer.backbone.ncp3p0z2.fasta, tree_file:/tmp/sepp/output.kad_c1tf/root/P_11/pplacer.tree.87egv3tj.tre, info_file:/home/lauro/anaconda3/envs/qiime2-2021.11/lib/python3.8/site-packages/picrust2/default_files/prokaryotic/pro_ref/pro_ref.raxml_info, extended alignment:/tmp/sepp/output.kad_c1tf/root/P_11/pplacer.extended.1.cjl87ss_.fasta, output:/tmp/sepp/output.kad_c1tf/root/P_11/pplacer.extended.1.cjl87ss_.jplace\n",
      "[15:22:38] jobs.py (line 131):     INFO: Finished jsonmerger Job with input: input:pipe output:/tmp/tmpeum56xd1/picrust2_out/intermediate/place_seqs/sepp_out/output_placement.json\n",
      "[15:22:39] algorithm.py (line 195):     INFO: Current execution Finished in 162 seconds\n",
      "[15:22:39] algorithm.py (line 197):     INFO: All checkpointed executions Finished in 162 cumulative time\n",
      "\n",
      "gappa examine graft --jplace-path /tmp/tmpeum56xd1/picrust2_out/intermediate/place_seqs/sepp_out/output_placement.json --fully-resolve --out-dir /tmp/tmpeum56xd1/picrust2_out/intermediate/place_seqs/sepp_out\n",
      "\n",
      "mv /tmp/tmpeum56xd1/picrust2_out/intermediate/place_seqs/sepp_out/output_placement.newick /tmp/tmpeum56xd1/picrust2_out/out.tre\n",
      "\n",
      "Finished placing sequences on output tree: /tmp/tmpeum56xd1/picrust2_out/out.tre\n",
      "hsp.py --tree /tmp/tmpeum56xd1/picrust2_out/out.tre --output /tmp/tmpeum56xd1/picrust2_out/marker_predicted_and_nsti.tsv.gz --observed_trait_table /home/lauro/anaconda3/envs/qiime2-2021.11/lib/python3.8/site-packages/picrust2/default_files/prokaryotic/16S.txt.gz --hsp_method pic --edge_exponent 0.5 --seed 100 --calculate_NSTI --processes 1 --verbose\n"
     ]
    },
    {
     "name": "stdout",
     "output_type": "stream",
     "text": [
      "\n",
      "\n",
      "\n"
     ]
    },
    {
     "name": "stderr",
     "output_type": "stream",
     "text": [
      "Rscript /home/lauro/anaconda3/envs/qiime2-2021.11/lib/python3.8/site-packages/picrust2/Rscripts/castor_nsti.R /tmp/tmpeum56xd1/picrust2_out/out.tre /tmp/tmp57ku_4_7/known_tips.txt /tmp/tmp57ku_4_7/nsti_out.txt\n",
      "\n",
      "Rscript /home/lauro/anaconda3/envs/qiime2-2021.11/lib/python3.8/site-packages/picrust2/Rscripts/castor_hsp.R /tmp/tmpeum56xd1/picrust2_out/out.tre /tmp/tmpzavf6pxz/subset_tab_0 pic 0.5 FALSE FALSE /tmp/tmph6qbr73n/predicted_counts.txt /tmp/tmph6qbr73n/predicted_ci.txt 100\n",
      "\n",
      "\n",
      "hsp.py --tree /tmp/tmpeum56xd1/picrust2_out/out.tre --output /tmp/tmpeum56xd1/picrust2_out/EC_predicted.tsv.gz --observed_trait_table /home/lauro/anaconda3/envs/qiime2-2021.11/lib/python3.8/site-packages/picrust2/default_files/prokaryotic/ec.txt.gz --hsp_method pic --edge_exponent 0.5 --seed 100 --processes 6 --verbose\n"
     ]
    },
    {
     "name": "stdout",
     "output_type": "stream",
     "text": [
      "\n",
      "\n",
      "\n",
      "\n",
      "\n",
      "\n",
      "\n"
     ]
    },
    {
     "name": "stderr",
     "output_type": "stream",
     "text": [
      "Rscript /home/lauro/anaconda3/envs/qiime2-2021.11/lib/python3.8/site-packages/picrust2/Rscripts/castor_hsp.R /tmp/tmpeum56xd1/picrust2_out/out.tre /tmp/tmpdj50fs5v/subset_tab_1 pic 0.5 FALSE FALSE /tmp/tmpszv0wkzn/predicted_counts.txt /tmp/tmpszv0wkzn/predicted_ci.txt 100\n",
      "\n",
      "Rscript /home/lauro/anaconda3/envs/qiime2-2021.11/lib/python3.8/site-packages/picrust2/Rscripts/castor_hsp.R /tmp/tmpeum56xd1/picrust2_out/out.tre /tmp/tmpdj50fs5v/subset_tab_3 pic 0.5 FALSE FALSE /tmp/tmp_s1tymty/predicted_counts.txt /tmp/tmp_s1tymty/predicted_ci.txt 100\n",
      "\n",
      "Rscript /home/lauro/anaconda3/envs/qiime2-2021.11/lib/python3.8/site-packages/picrust2/Rscripts/castor_hsp.R /tmp/tmpeum56xd1/picrust2_out/out.tre /tmp/tmpdj50fs5v/subset_tab_5 pic 0.5 FALSE FALSE /tmp/tmpco7wpqnk/predicted_counts.txt /tmp/tmpco7wpqnk/predicted_ci.txt 100\n",
      "\n",
      "Rscript /home/lauro/anaconda3/envs/qiime2-2021.11/lib/python3.8/site-packages/picrust2/Rscripts/castor_hsp.R /tmp/tmpeum56xd1/picrust2_out/out.tre /tmp/tmpdj50fs5v/subset_tab_0 pic 0.5 FALSE FALSE /tmp/tmpgi7f5qge/predicted_counts.txt /tmp/tmpgi7f5qge/predicted_ci.txt 100\n",
      "\n",
      "Rscript /home/lauro/anaconda3/envs/qiime2-2021.11/lib/python3.8/site-packages/picrust2/Rscripts/castor_hsp.R /tmp/tmpeum56xd1/picrust2_out/out.tre /tmp/tmpdj50fs5v/subset_tab_2 pic 0.5 FALSE FALSE /tmp/tmp5cpp7ymo/predicted_counts.txt /tmp/tmp5cpp7ymo/predicted_ci.txt 100\n",
      "\n",
      "Rscript /home/lauro/anaconda3/envs/qiime2-2021.11/lib/python3.8/site-packages/picrust2/Rscripts/castor_hsp.R /tmp/tmpeum56xd1/picrust2_out/out.tre /tmp/tmpdj50fs5v/subset_tab_4 pic 0.5 FALSE FALSE /tmp/tmph3b3e7rg/predicted_counts.txt /tmp/tmph3b3e7rg/predicted_ci.txt 100\n",
      "\n",
      "\n",
      "hsp.py --tree /tmp/tmpeum56xd1/picrust2_out/out.tre --output /tmp/tmpeum56xd1/picrust2_out/KO_predicted.tsv.gz --observed_trait_table /home/lauro/anaconda3/envs/qiime2-2021.11/lib/python3.8/site-packages/picrust2/default_files/prokaryotic/ko.txt.gz --hsp_method pic --edge_exponent 0.5 --seed 100 --processes 6 --verbose\n"
     ]
    },
    {
     "name": "stdout",
     "output_type": "stream",
     "text": [
      "\n",
      "\n",
      "\n",
      "\n",
      "\n",
      "\n",
      "\n",
      "\n",
      "\n",
      "\n",
      "\n",
      "\n",
      "\n",
      "\n",
      "\n",
      "\n",
      "\n",
      "\n",
      "\n",
      "\n",
      "\n",
      "\n",
      "\n"
     ]
    },
    {
     "name": "stderr",
     "output_type": "stream",
     "text": [
      "Rscript /home/lauro/anaconda3/envs/qiime2-2021.11/lib/python3.8/site-packages/picrust2/Rscripts/castor_hsp.R /tmp/tmpeum56xd1/picrust2_out/out.tre /tmp/tmpbxu2bajw/subset_tab_3 pic 0.5 FALSE FALSE /tmp/tmpc1w77g8i/predicted_counts.txt /tmp/tmpc1w77g8i/predicted_ci.txt 100\n",
      "\n",
      "Rscript /home/lauro/anaconda3/envs/qiime2-2021.11/lib/python3.8/site-packages/picrust2/Rscripts/castor_hsp.R /tmp/tmpeum56xd1/picrust2_out/out.tre /tmp/tmpbxu2bajw/subset_tab_10 pic 0.5 FALSE FALSE /tmp/tmpdqaw893x/predicted_counts.txt /tmp/tmpdqaw893x/predicted_ci.txt 100\n",
      "\n",
      "Rscript /home/lauro/anaconda3/envs/qiime2-2021.11/lib/python3.8/site-packages/picrust2/Rscripts/castor_hsp.R /tmp/tmpeum56xd1/picrust2_out/out.tre /tmp/tmpbxu2bajw/subset_tab_15 pic 0.5 FALSE FALSE /tmp/tmpiatyle_b/predicted_counts.txt /tmp/tmpiatyle_b/predicted_ci.txt 100\n",
      "\n",
      "Rscript /home/lauro/anaconda3/envs/qiime2-2021.11/lib/python3.8/site-packages/picrust2/Rscripts/castor_hsp.R /tmp/tmpeum56xd1/picrust2_out/out.tre /tmp/tmpbxu2bajw/subset_tab_4 pic 0.5 FALSE FALSE /tmp/tmpk3b0zukq/predicted_counts.txt /tmp/tmpk3b0zukq/predicted_ci.txt 100\n",
      "\n",
      "Rscript /home/lauro/anaconda3/envs/qiime2-2021.11/lib/python3.8/site-packages/picrust2/Rscripts/castor_hsp.R /tmp/tmpeum56xd1/picrust2_out/out.tre /tmp/tmpbxu2bajw/subset_tab_8 pic 0.5 FALSE FALSE /tmp/tmpia0e8x1b/predicted_counts.txt /tmp/tmpia0e8x1b/predicted_ci.txt 100\n",
      "\n",
      "Rscript /home/lauro/anaconda3/envs/qiime2-2021.11/lib/python3.8/site-packages/picrust2/Rscripts/castor_hsp.R /tmp/tmpeum56xd1/picrust2_out/out.tre /tmp/tmpbxu2bajw/subset_tab_14 pic 0.5 FALSE FALSE /tmp/tmpcqpyy17q/predicted_counts.txt /tmp/tmpcqpyy17q/predicted_ci.txt 100\n",
      "\n",
      "Rscript /home/lauro/anaconda3/envs/qiime2-2021.11/lib/python3.8/site-packages/picrust2/Rscripts/castor_hsp.R /tmp/tmpeum56xd1/picrust2_out/out.tre /tmp/tmpbxu2bajw/subset_tab_21 pic 0.5 FALSE FALSE /tmp/tmpuoafg87_/predicted_counts.txt /tmp/tmpuoafg87_/predicted_ci.txt 100\n",
      "\n",
      "Rscript /home/lauro/anaconda3/envs/qiime2-2021.11/lib/python3.8/site-packages/picrust2/Rscripts/castor_hsp.R /tmp/tmpeum56xd1/picrust2_out/out.tre /tmp/tmpbxu2bajw/subset_tab_0 pic 0.5 FALSE FALSE /tmp/tmp_9xskdop/predicted_counts.txt /tmp/tmp_9xskdop/predicted_ci.txt 100\n",
      "\n",
      "Rscript /home/lauro/anaconda3/envs/qiime2-2021.11/lib/python3.8/site-packages/picrust2/Rscripts/castor_hsp.R /tmp/tmpeum56xd1/picrust2_out/out.tre /tmp/tmpbxu2bajw/subset_tab_11 pic 0.5 FALSE FALSE /tmp/tmp18nlxdxj/predicted_counts.txt /tmp/tmp18nlxdxj/predicted_ci.txt 100\n",
      "\n",
      "Rscript /home/lauro/anaconda3/envs/qiime2-2021.11/lib/python3.8/site-packages/picrust2/Rscripts/castor_hsp.R /tmp/tmpeum56xd1/picrust2_out/out.tre /tmp/tmpbxu2bajw/subset_tab_17 pic 0.5 FALSE FALSE /tmp/tmprs1_2yd8/predicted_counts.txt /tmp/tmprs1_2yd8/predicted_ci.txt 100\n",
      "\n",
      "Rscript /home/lauro/anaconda3/envs/qiime2-2021.11/lib/python3.8/site-packages/picrust2/Rscripts/castor_hsp.R /tmp/tmpeum56xd1/picrust2_out/out.tre /tmp/tmpbxu2bajw/subset_tab_1 pic 0.5 FALSE FALSE /tmp/tmp2x8dy5we/predicted_counts.txt /tmp/tmp2x8dy5we/predicted_ci.txt 100\n",
      "\n",
      "Rscript /home/lauro/anaconda3/envs/qiime2-2021.11/lib/python3.8/site-packages/picrust2/Rscripts/castor_hsp.R /tmp/tmpeum56xd1/picrust2_out/out.tre /tmp/tmpbxu2bajw/subset_tab_6 pic 0.5 FALSE FALSE /tmp/tmpyfig5an_/predicted_counts.txt /tmp/tmpyfig5an_/predicted_ci.txt 100\n",
      "\n",
      "Rscript /home/lauro/anaconda3/envs/qiime2-2021.11/lib/python3.8/site-packages/picrust2/Rscripts/castor_hsp.R /tmp/tmpeum56xd1/picrust2_out/out.tre /tmp/tmpbxu2bajw/subset_tab_12 pic 0.5 FALSE FALSE /tmp/tmpwpj9beas/predicted_counts.txt /tmp/tmpwpj9beas/predicted_ci.txt 100\n",
      "\n",
      "Rscript /home/lauro/anaconda3/envs/qiime2-2021.11/lib/python3.8/site-packages/picrust2/Rscripts/castor_hsp.R /tmp/tmpeum56xd1/picrust2_out/out.tre /tmp/tmpbxu2bajw/subset_tab_18 pic 0.5 FALSE FALSE /tmp/tmp460g1q1q/predicted_counts.txt /tmp/tmp460g1q1q/predicted_ci.txt 100\n",
      "\n",
      "Rscript /home/lauro/anaconda3/envs/qiime2-2021.11/lib/python3.8/site-packages/picrust2/Rscripts/castor_hsp.R /tmp/tmpeum56xd1/picrust2_out/out.tre /tmp/tmpbxu2bajw/subset_tab_2 pic 0.5 FALSE FALSE /tmp/tmpnd6e1rik/predicted_counts.txt /tmp/tmpnd6e1rik/predicted_ci.txt 100\n",
      "\n",
      "Rscript /home/lauro/anaconda3/envs/qiime2-2021.11/lib/python3.8/site-packages/picrust2/Rscripts/castor_hsp.R /tmp/tmpeum56xd1/picrust2_out/out.tre /tmp/tmpbxu2bajw/subset_tab_7 pic 0.5 FALSE FALSE /tmp/tmph4g1yy9k/predicted_counts.txt /tmp/tmph4g1yy9k/predicted_ci.txt 100\n",
      "\n",
      "Rscript /home/lauro/anaconda3/envs/qiime2-2021.11/lib/python3.8/site-packages/picrust2/Rscripts/castor_hsp.R /tmp/tmpeum56xd1/picrust2_out/out.tre /tmp/tmpbxu2bajw/subset_tab_13 pic 0.5 FALSE FALSE /tmp/tmparxd1m3u/predicted_counts.txt /tmp/tmparxd1m3u/predicted_ci.txt 100\n",
      "\n",
      "Rscript /home/lauro/anaconda3/envs/qiime2-2021.11/lib/python3.8/site-packages/picrust2/Rscripts/castor_hsp.R /tmp/tmpeum56xd1/picrust2_out/out.tre /tmp/tmpbxu2bajw/subset_tab_19 pic 0.5 FALSE FALSE /tmp/tmprclv65w2/predicted_counts.txt /tmp/tmprclv65w2/predicted_ci.txt 100\n",
      "\n",
      "Rscript /home/lauro/anaconda3/envs/qiime2-2021.11/lib/python3.8/site-packages/picrust2/Rscripts/castor_hsp.R /tmp/tmpeum56xd1/picrust2_out/out.tre /tmp/tmpbxu2bajw/subset_tab_5 pic 0.5 FALSE FALSE /tmp/tmpnv7b52a5/predicted_counts.txt /tmp/tmpnv7b52a5/predicted_ci.txt 100\n",
      "\n",
      "Rscript /home/lauro/anaconda3/envs/qiime2-2021.11/lib/python3.8/site-packages/picrust2/Rscripts/castor_hsp.R /tmp/tmpeum56xd1/picrust2_out/out.tre /tmp/tmpbxu2bajw/subset_tab_9 pic 0.5 FALSE FALSE /tmp/tmppyt7gimx/predicted_counts.txt /tmp/tmppyt7gimx/predicted_ci.txt 100\n",
      "\n",
      "Rscript /home/lauro/anaconda3/envs/qiime2-2021.11/lib/python3.8/site-packages/picrust2/Rscripts/castor_hsp.R /tmp/tmpeum56xd1/picrust2_out/out.tre /tmp/tmpbxu2bajw/subset_tab_16 pic 0.5 FALSE FALSE /tmp/tmpkherldfn/predicted_counts.txt /tmp/tmpkherldfn/predicted_ci.txt 100\n",
      "\n",
      "Rscript /home/lauro/anaconda3/envs/qiime2-2021.11/lib/python3.8/site-packages/picrust2/Rscripts/castor_hsp.R /tmp/tmpeum56xd1/picrust2_out/out.tre /tmp/tmpbxu2bajw/subset_tab_20 pic 0.5 FALSE FALSE /tmp/tmpkn78dra2/predicted_counts.txt /tmp/tmpkn78dra2/predicted_ci.txt 100\n",
      "\n",
      "\n",
      "Running metagenome pipeline for EC\n",
      "metagenome_pipeline.py --input /tmp/tmpeum56xd1/intable.biom --function /tmp/tmpeum56xd1/picrust2_out/EC_predicted.tsv.gz --min_reads 1 --min_samples 1 --out_dir /tmp/tmpeum56xd1/picrust2_out/EC_metagenome_out --max_nsti 2 --marker /tmp/tmpeum56xd1/picrust2_out/marker_predicted_and_nsti.tsv.gz\n"
     ]
    },
    {
     "name": "stdout",
     "output_type": "stream",
     "text": [
      "\n"
     ]
    },
    {
     "name": "stderr",
     "output_type": "stream",
     "text": [
      "1 of 1161 ASVs were above the max NSTI cut-off of 2.0 and were removed from the downstream analyses.\n",
      "\n",
      "Running metagenome pipeline for KO\n",
      "metagenome_pipeline.py --input /tmp/tmpeum56xd1/intable.biom --function /tmp/tmpeum56xd1/picrust2_out/KO_predicted.tsv.gz --min_reads 1 --min_samples 1 --out_dir /tmp/tmpeum56xd1/picrust2_out/KO_metagenome_out --max_nsti 2 --marker /tmp/tmpeum56xd1/picrust2_out/marker_predicted_and_nsti.tsv.gz\n"
     ]
    },
    {
     "name": "stdout",
     "output_type": "stream",
     "text": [
      "\n",
      "Inferring pathways from predicted EC\n"
     ]
    },
    {
     "name": "stderr",
     "output_type": "stream",
     "text": [
      "1 of 1161 ASVs were above the max NSTI cut-off of 2.0 and were removed from the downstream analyses.\n",
      "\n",
      "pathway_pipeline.py --input /tmp/tmpeum56xd1/picrust2_out/EC_metagenome_out/pred_metagenome_unstrat.tsv.gz --out_dir /tmp/tmpeum56xd1/picrust2_out/pathways_out --map /home/lauro/anaconda3/envs/qiime2-2021.11/lib/python3.8/site-packages/picrust2/default_files/pathway_mapfiles/metacyc_path2rxn_struc_filt_pro.txt --intermediate /tmp/tmpeum56xd1/picrust2_out/intermediate/pathways --proc 6 --regroup_map /home/lauro/anaconda3/envs/qiime2-2021.11/lib/python3.8/site-packages/picrust2/default_files/pathway_mapfiles/ec_level4_to_metacyc_rxn.tsv --verbose\n"
     ]
    },
    {
     "name": "stderr",
     "output_type": "stream",
     "text": [
      "\n",
      "Wrote predicted pathway abundances and coverages to /tmp/tmpeum56xd1/picrust2_out/pathways_out\n"
     ]
    }
   ],
   "source": [
    "need_pipeline = replace_files\n",
    "need_pipeline |= not (os.path.isfile(ec_path) and os.path.isfile(ko_path) and os.path.isfile(pathway_path))\n",
    "if need_pipeline:\n",
    "    results = picrust2.methods.full_pipeline(\n",
    "        table=tabs, \n",
    "        seq=seqs, \n",
    "        threads=6, \n",
    "        placement_tool='sepp',\n",
    "        hsp_method='pic', \n",
    "        max_nsti=2,\n",
    "        highly_verbose=True\n",
    "    )\n",
    "    ec_metagenome = results.ec_metagenome\n",
    "    ko_metagenome = results.ko_metagenome\n",
    "    pathway_abundance = results.pathway_abundance\n",
    "else:\n",
    "    ec_metagenome = Artifact.load(ec_path)\n",
    "    ko_metagenome = Artifact.load(ko_path)\n",
    "    pathway_abundance = Artifact.load(pathway_path)"
   ]
  },
  {
   "cell_type": "markdown",
   "id": "771308c4",
   "metadata": {
    "papermill": {
     "duration": 0.097553,
     "end_time": "2023-06-07T15:26:48.120407",
     "exception": false,
     "start_time": "2023-06-07T15:26:48.022854",
     "status": "completed"
    },
    "tags": []
   },
   "source": [
    "### Persist created artifacts\n",
    "\n",
    "We will define file paths and persist all artifacts. We start with `.qza` files. We will save the visualization files in sequence as `qzv` files. Finally, we save a `biom`-like file as `tsv` with brief descriptions of all functions."
   ]
  },
  {
   "cell_type": "code",
   "execution_count": 9,
   "id": "c680ab46",
   "metadata": {
    "ExecuteTime": {
     "end_time": "2022-11-09T19:20:47.646444Z",
     "start_time": "2022-11-09T19:20:47.643806Z"
    },
    "execution": {
     "iopub.execute_input": "2023-06-07T15:26:48.329840Z",
     "iopub.status.busy": "2023-06-07T15:26:48.328630Z",
     "iopub.status.idle": "2023-06-07T15:26:48.444771Z",
     "shell.execute_reply": "2023-06-07T15:26:48.445657Z"
    },
    "papermill": {
     "duration": 0.221126,
     "end_time": "2023-06-07T15:26:48.445942",
     "exception": false,
     "start_time": "2023-06-07T15:26:48.224816",
     "status": "completed"
    },
    "tags": []
   },
   "outputs": [],
   "source": [
    "if need_pipeline:\n",
    "    # Export artifact folder\n",
    "    ec_metagenome.export_data(output_dir=ec_path.split('.')[0])\n",
    "    ko_metagenome.export_data(output_dir=ko_path.split('.')[0])\n",
    "    pathway_abundance.export_data(output_dir=pathway_path.split('.')[0])\n",
    "    \n",
    "    # Save artifacts as .qza files\n",
    "    ec_metagenome.save(ec_path)\n",
    "    ko_metagenome.save(ko_path)\n",
    "    pathway_abundance.save(pathway_path)"
   ]
  },
  {
   "cell_type": "code",
   "execution_count": 10,
   "id": "d61ebec3",
   "metadata": {
    "ExecuteTime": {
     "end_time": "2022-11-09T19:20:47.687022Z",
     "start_time": "2022-11-09T19:20:47.647637Z"
    },
    "execution": {
     "iopub.execute_input": "2023-06-07T15:26:48.609668Z",
     "iopub.status.busy": "2023-06-07T15:26:48.608460Z",
     "iopub.status.idle": "2023-06-07T15:26:53.044154Z",
     "shell.execute_reply": "2023-06-07T15:26:53.045033Z"
    },
    "papermill": {
     "duration": 4.524662,
     "end_time": "2023-06-07T15:26:53.045310",
     "exception": false,
     "start_time": "2023-06-07T15:26:48.520648",
     "status": "completed"
    },
    "tags": []
   },
   "outputs": [],
   "source": [
    "need_viz = replace_files\n",
    "need_viz |= not (os.path.isfile(ec_viz_path) and os.path.isfile(ko_viz_path) and os.path.isfile(pathway_viz_path))\n",
    "if need_viz:\n",
    "    # Create visualization artifacts\n",
    "    ec_viz = summarize(table=ec_metagenome, sample_metadata=metadata_qa).visualization\n",
    "    ko_viz = summarize(table=ko_metagenome, sample_metadata=metadata_qa).visualization\n",
    "    path_viz = summarize(table=pathway_abundance, sample_metadata=metadata_qa).visualization\n",
    "\n",
    "    # Save visualization artifacts as .qzv files\n",
    "    ec_viz.save(ec_viz_path)\n",
    "    ko_viz.save(ko_viz_path)\n",
    "    path_viz.save(pathway_viz_path)"
   ]
  },
  {
   "cell_type": "code",
   "execution_count": 11,
   "id": "57f1f4d8",
   "metadata": {
    "ExecuteTime": {
     "end_time": "2022-11-09T19:20:47.704885Z",
     "start_time": "2022-11-09T19:20:47.689312Z"
    },
    "execution": {
     "iopub.execute_input": "2023-06-07T15:26:53.140090Z",
     "iopub.status.busy": "2023-06-07T15:26:53.139457Z",
     "iopub.status.idle": "2023-06-07T15:26:56.222421Z",
     "shell.execute_reply": "2023-06-07T15:26:56.221866Z"
    },
    "papermill": {
     "duration": 3.131555,
     "end_time": "2023-06-07T15:26:56.222565",
     "exception": false,
     "start_time": "2023-06-07T15:26:53.091010",
     "status": "completed"
    },
    "tags": []
   },
   "outputs": [],
   "source": [
    "need_biom = replace_files\n",
    "need_biom |= not (os.path.isfile(ec_fpath) and os.path.isfile(ko_fpath) and os.path.isfile(pathway_fpath))\n",
    "if need_biom:\n",
    "    # Convert artifact to dataframe - transposed\n",
    "    df_pathway = pathway_abundance.view(pd.DataFrame).T\n",
    "    df_ec = ec_metagenome.view(pd.DataFrame).T\n",
    "    df_ko = ko_metagenome.view(pd.DataFrame).T\n",
    "\n",
    "    # Write dataframe to a tsv file\n",
    "    df_pathway.to_csv(pathway_fpath, sep='\\t', index=True)\n",
    "    df_ec.to_csv(ec_fpath, sep='\\t', index=True)\n",
    "    df_ko.to_csv(ko_fpath, sep='\\t', index=True)\n",
    "    \n",
    "    # Put a new column with descriptions of each function's ID\n",
    "    !add_descriptions.py -i {ec_fpath} -m EC -o {ec_desc_fpath}\n",
    "    !add_descriptions.py -i {ko_fpath} -m KO -o {ko_desc_fpath}\n",
    "    !add_descriptions.py -i {pathway_fpath} -m METACYC -o {pathway_desc_fpath}"
   ]
  }
 ],
 "metadata": {
  "celltoolbar": "Edit Metadata",
  "kernelspec": {
   "display_name": "Python 3 (ipykernel)",
   "language": "python",
   "name": "python3"
  },
  "language_info": {
   "codemirror_mode": {
    "name": "ipython",
    "version": 3
   },
   "file_extension": ".py",
   "mimetype": "text/x-python",
   "name": "python",
   "nbconvert_exporter": "python",
   "pygments_lexer": "ipython3",
   "version": "3.8.12"
  },
  "papermill": {
   "default_parameters": {},
   "duration": 477.883691,
   "end_time": "2023-06-07T15:26:57.177484",
   "environment_variables": {},
   "exception": null,
   "input_path": "nb-templates/step-picrust2-analysis.ipynb",
   "output_path": "/home/lauro/nupeb/rede-micro/redemicro-ana-flavia-nutri/experiments/ana-flavia-STD-NRxHSD-NR-trim/nb-executed-steps/step-picrust2-analysis-ana-flavia-STD-NRxHSD-NR-trim.ipynb",
   "parameters": {
    "base_dir": "/home/lauro/nupeb/rede-micro/redemicro-ana-flavia-nutri",
    "class_col": "group-id",
    "classifier_file": "/home/lauro/nupeb/rede-micro/models/silva-138-99-nb-classifier.qza",
    "experiment_name": "ana-flavia-STD-NRxHSD-NR-trim",
    "manifest_file": "/home/lauro/nupeb/rede-micro/redemicro-ana-flavia-nutri/data/raw/manifest/manifest-ana-flavia-STD-NRxHSD-NR.csv",
    "metadata_file": "/home/lauro/nupeb/rede-micro/redemicro-ana-flavia-nutri/data/raw/metadata/metadata-ana-flavia-STD-NRxHSD-NR.tsv",
    "overlap": 12,
    "phred": 20,
    "replace_files": false,
    "threads": 6,
    "top_n": 20,
    "trim": {
     "forward_primer": "CCTACGGGRSGCAGCAG",
     "overlap": 8,
     "reverse_primer": "GGACTACHVGGGTWTCTAAT"
    },
    "trunc_f": 0,
    "trunc_r": 0
   },
   "start_time": "2023-06-07T15:18:59.293793",
   "version": "2.3.4"
  }
 },
 "nbformat": 4,
 "nbformat_minor": 5
}