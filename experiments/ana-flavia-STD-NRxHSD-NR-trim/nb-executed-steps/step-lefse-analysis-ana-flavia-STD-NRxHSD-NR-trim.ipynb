{
 "cells": [
  {
   "cell_type": "markdown",
   "id": "0e7f2330",
   "metadata": {
    "ExecuteTime": {
     "end_time": "2022-09-22T19:36:33.828188Z",
     "start_time": "2022-09-22T19:36:33.817323Z"
    },
    "papermill": {
     "duration": 0.012346,
     "end_time": "2024-08-08T17:58:49.481112",
     "exception": false,
     "start_time": "2024-08-08T17:58:49.468766",
     "status": "completed"
    },
    "tags": []
   },
   "source": [
    "### STEP : LEfSe Analysis\n",
    "\n",
    "\n",
    "\n",
    "LEfSe (Linear discriminant analysis Effect Size) determines the features (organisms, clades, operational taxonomic units, genes, or functions) most likely to explain differences between classes by coupling standard tests for statistical significance with additional tests encoding biological consistency and effect relevance.\n",
    "\n",
    "- https://huttenhower.sph.harvard.edu/lefse/\n",
    "- https://github.com/statonlab/BiGG2020_CrackNAg/wiki/qiime2-to-lefse\n",
    "- https://github.com/biobakery/biobakery/wiki/lefse#2-lefse--conda-docker-vm-\n",
    "\n",
    "**OBS.: Using docker to run LEfSe**"
   ]
  },
  {
   "cell_type": "markdown",
   "id": "843debbf",
   "metadata": {
    "papermill": {
     "duration": 0.009771,
     "end_time": "2024-08-08T17:58:49.501829",
     "exception": false,
     "start_time": "2024-08-08T17:58:49.492058",
     "status": "completed"
    },
    "tags": []
   },
   "source": [
    "## Setup and settings"
   ]
  },
  {
   "cell_type": "code",
   "execution_count": 1,
   "id": "965e28e5",
   "metadata": {
    "ExecuteTime": {
     "end_time": "2022-11-03T20:35:26.198671Z",
     "start_time": "2022-11-03T20:35:06.473173Z"
    },
    "execution": {
     "iopub.execute_input": "2024-08-08T17:58:49.514429Z",
     "iopub.status.busy": "2024-08-08T17:58:49.514131Z",
     "iopub.status.idle": "2024-08-08T17:58:53.941004Z",
     "shell.execute_reply": "2024-08-08T17:58:53.940503Z"
    },
    "papermill": {
     "duration": 4.43406,
     "end_time": "2024-08-08T17:58:53.942222",
     "exception": false,
     "start_time": "2024-08-08T17:58:49.508162",
     "status": "completed"
    },
    "tags": []
   },
   "outputs": [],
   "source": [
    "import os\n",
    "import pandas as pd\n",
    "from qiime2 import Artifact\n",
    "from qiime2 import Visualization\n",
    "from qiime2 import Metadata\n",
    "\n",
    "from qiime2.plugins.feature_table.methods import filter_samples\n",
    "from qiime2.plugins.feature_table.methods import relative_frequency\n",
    "from qiime2.plugins.taxa.methods import collapse\n",
    "\n",
    "import biom\n",
    "import re\n",
    "\n",
    "%matplotlib inline"
   ]
  },
  {
   "cell_type": "markdown",
   "id": "530ceb60",
   "metadata": {
    "papermill": {
     "duration": 0.001739,
     "end_time": "2024-08-08T17:58:53.945864",
     "exception": false,
     "start_time": "2024-08-08T17:58:53.944125",
     "status": "completed"
    },
    "tags": []
   },
   "source": [
    "### Receiving the parameters\n",
    "\n",
    "The following cell can receive parameters using the [papermill](https://papermill.readthedocs.io/en/latest/) tool."
   ]
  },
  {
   "cell_type": "code",
   "execution_count": 2,
   "id": "18d874ea",
   "metadata": {
    "ExecuteTime": {
     "end_time": "2022-09-29T20:54:14.793270Z",
     "start_time": "2022-09-29T20:54:14.789367Z"
    },
    "execution": {
     "iopub.execute_input": "2024-08-08T17:58:53.953011Z",
     "iopub.status.busy": "2024-08-08T17:58:53.952761Z",
     "iopub.status.idle": "2024-08-08T17:58:53.955247Z",
     "shell.execute_reply": "2024-08-08T17:58:53.954897Z"
    },
    "papermill": {
     "duration": 0.008613,
     "end_time": "2024-08-08T17:58:53.956108",
     "exception": false,
     "start_time": "2024-08-08T17:58:53.947495",
     "status": "completed"
    },
    "tags": [
     "parameters"
    ]
   },
   "outputs": [],
   "source": [
    "metadata_file = ''\n",
    "base_dir = ''\n",
    "experiment_name = ''\n",
    "class_col = 'group-id'\n",
    "replace_files = False"
   ]
  },
  {
   "cell_type": "code",
   "execution_count": 3,
   "id": "a634a236",
   "metadata": {
    "execution": {
     "iopub.execute_input": "2024-08-08T17:58:53.960065Z",
     "iopub.status.busy": "2024-08-08T17:58:53.959946Z",
     "iopub.status.idle": "2024-08-08T17:58:53.962619Z",
     "shell.execute_reply": "2024-08-08T17:58:53.962217Z"
    },
    "papermill": {
     "duration": 0.005707,
     "end_time": "2024-08-08T17:58:53.963510",
     "exception": false,
     "start_time": "2024-08-08T17:58:53.957803",
     "status": "completed"
    },
    "tags": [
     "injected-parameters"
    ]
   },
   "outputs": [],
   "source": [
    "# Parameters\n",
    "base_dir = \"/mnt/nupeb/rede-micro/redemicro-ana-flavia-nutri\"\n",
    "class_col = \"group-id\"\n",
    "classifier_file = \"/mnt/nupeb/rede-micro/datasets/16S_classifiers_qiime2/silva-138-99-nb-classifier.qza\"\n",
    "experiment_name = \"ana-flavia-STD-NRxHSD-NR-trim\"\n",
    "manifest_file = \"/mnt/nupeb/rede-micro/redemicro-ana-flavia-nutri/data/raw/manifest/manifest-ana-flavia-STD-NRxHSD-NR.csv\"\n",
    "metadata_file = \"/mnt/nupeb/rede-micro/redemicro-ana-flavia-nutri/data/raw/metadata/metadata-ana-flavia-STD-NRxHSD-NR.tsv\"\n",
    "overlap = 12\n",
    "phred = 20\n",
    "replace_files = False\n",
    "threads = 6\n",
    "top_n = 20\n",
    "trim = {\"forward_primer\": \"CCTACGGGRSGCAGCAG\", \"overlap\": 8, \"reverse_primer\": \"GGACTACHVGGGTWTCTAAT\"}\n",
    "trunc_f = 0\n",
    "trunc_r = 0\n"
   ]
  },
  {
   "cell_type": "code",
   "execution_count": 4,
   "id": "f38617d9",
   "metadata": {
    "ExecuteTime": {
     "end_time": "2022-09-29T20:54:14.804575Z",
     "start_time": "2022-09-29T20:54:14.794927Z"
    },
    "execution": {
     "iopub.execute_input": "2024-08-08T17:58:53.984622Z",
     "iopub.status.busy": "2024-08-08T17:58:53.984079Z",
     "iopub.status.idle": "2024-08-08T17:58:53.986668Z",
     "shell.execute_reply": "2024-08-08T17:58:53.986375Z"
    },
    "papermill": {
     "duration": 0.022313,
     "end_time": "2024-08-08T17:58:53.987529",
     "exception": false,
     "start_time": "2024-08-08T17:58:53.965216",
     "status": "completed"
    },
    "tags": []
   },
   "outputs": [],
   "source": [
    "experiment_folder = os.path.abspath(os.path.join(base_dir, 'experiments', experiment_name))\n",
    "img_folder = os.path.abspath(os.path.join(experiment_folder, 'imgs'))\n",
    "lefse_folder = os.path.join(experiment_folder, 'lefse')"
   ]
  },
  {
   "cell_type": "code",
   "execution_count": 5,
   "id": "c1e35d20",
   "metadata": {
    "execution": {
     "iopub.execute_input": "2024-08-08T17:58:53.991669Z",
     "iopub.status.busy": "2024-08-08T17:58:53.991384Z",
     "iopub.status.idle": "2024-08-08T17:58:54.110051Z",
     "shell.execute_reply": "2024-08-08T17:58:54.107171Z"
    },
    "papermill": {
     "duration": 0.126266,
     "end_time": "2024-08-08T17:58:54.115532",
     "exception": false,
     "start_time": "2024-08-08T17:58:53.989266",
     "status": "completed"
    },
    "tags": []
   },
   "outputs": [],
   "source": [
    "# Create LEfSe folder, if it not exists\n",
    "!mkdir -p {lefse_folder}"
   ]
  },
  {
   "cell_type": "markdown",
   "id": "ea9b90fb",
   "metadata": {
    "papermill": {
     "duration": 0.010643,
     "end_time": "2024-08-08T17:58:54.137275",
     "exception": false,
     "start_time": "2024-08-08T17:58:54.126632",
     "status": "completed"
    },
    "tags": []
   },
   "source": [
    "### Defining names, paths and flags"
   ]
  },
  {
   "cell_type": "code",
   "execution_count": 6,
   "id": "45727eef",
   "metadata": {
    "ExecuteTime": {
     "end_time": "2022-09-29T20:54:14.816686Z",
     "start_time": "2022-09-29T20:54:14.806238Z"
    },
    "execution": {
     "iopub.execute_input": "2024-08-08T17:58:54.156178Z",
     "iopub.status.busy": "2024-08-08T17:58:54.155333Z",
     "iopub.status.idle": "2024-08-08T17:58:54.160799Z",
     "shell.execute_reply": "2024-08-08T17:58:54.159877Z"
    },
    "papermill": {
     "duration": 0.01519,
     "end_time": "2024-08-08T17:58:54.162621",
     "exception": false,
     "start_time": "2024-08-08T17:58:54.147431",
     "status": "completed"
    },
    "tags": []
   },
   "outputs": [],
   "source": [
    "# QIIME2 Artifacts folder\n",
    "qiime_folder = os.path.join(experiment_folder, 'qiime-artifacts')\n",
    "\n",
    "# Input - DADA2 Artifacts\n",
    "dada2_tabs_path = os.path.join(qiime_folder, 'dada2-tabs.qza')\n",
    "\n",
    "# Input - Taxonomy\n",
    "taxonomy_path = os.path.join(qiime_folder, 'metatax.qza')"
   ]
  },
  {
   "cell_type": "markdown",
   "id": "0999a1b2",
   "metadata": {
    "papermill": {
     "duration": 0.003133,
     "end_time": "2024-08-08T17:58:54.169344",
     "exception": false,
     "start_time": "2024-08-08T17:58:54.166211",
     "status": "completed"
    },
    "tags": []
   },
   "source": [
    "## Step execution\n",
    "\n",
    "### Load input files\n",
    "\n",
    "This Step import the QIIME2 `FeatureTable[Frequency]` Artifact and the `Metadata` file."
   ]
  },
  {
   "cell_type": "code",
   "execution_count": 7,
   "id": "8f299d1a",
   "metadata": {
    "ExecuteTime": {
     "end_time": "2022-09-29T20:54:15.559837Z",
     "start_time": "2022-09-29T20:54:14.830405Z"
    },
    "execution": {
     "iopub.execute_input": "2024-08-08T17:58:54.175984Z",
     "iopub.status.busy": "2024-08-08T17:58:54.175633Z",
     "iopub.status.idle": "2024-08-08T17:58:54.259696Z",
     "shell.execute_reply": "2024-08-08T17:58:54.259258Z"
    },
    "papermill": {
     "duration": 0.08851,
     "end_time": "2024-08-08T17:58:54.260820",
     "exception": false,
     "start_time": "2024-08-08T17:58:54.172310",
     "status": "completed"
    },
    "tags": []
   },
   "outputs": [],
   "source": [
    "#Load Metadata\n",
    "metadata_qa = Metadata.load(metadata_file)\n",
    "\n",
    "#Load FeatureTable[Frequency]\n",
    "tabs = Artifact.load(dada2_tabs_path)\n",
    "\n",
    "# Filter FeatureTable[Frequency | RelativeFrequency | PresenceAbsence | Composition] based on Metadata sample ID values\n",
    "tabs = filter_samples(\n",
    "    table=tabs,\n",
    "    metadata=metadata_qa,\n",
    ").filtered_table\n",
    "\n",
    "# Load Taxonomy\n",
    "taxonomy = Artifact.load(taxonomy_path)"
   ]
  },
  {
   "cell_type": "markdown",
   "id": "be41be7b",
   "metadata": {
    "papermill": {
     "duration": 0.001824,
     "end_time": "2024-08-08T17:58:54.264646",
     "exception": false,
     "start_time": "2024-08-08T17:58:54.262822",
     "status": "completed"
    },
    "tags": []
   },
   "source": [
    "# Collapse and calculate relative frequency"
   ]
  },
  {
   "cell_type": "markdown",
   "id": "d7a798ef",
   "metadata": {
    "papermill": {
     "duration": 0.001757,
     "end_time": "2024-08-08T17:58:54.268220",
     "exception": false,
     "start_time": "2024-08-08T17:58:54.266463",
     "status": "completed"
    },
    "tags": []
   },
   "source": [
    "## Define functions"
   ]
  },
  {
   "cell_type": "code",
   "execution_count": 8,
   "id": "256d557c",
   "metadata": {
    "execution": {
     "iopub.execute_input": "2024-08-08T17:58:54.272653Z",
     "iopub.status.busy": "2024-08-08T17:58:54.272331Z",
     "iopub.status.idle": "2024-08-08T17:58:54.275858Z",
     "shell.execute_reply": "2024-08-08T17:58:54.275455Z"
    },
    "papermill": {
     "duration": 0.006746,
     "end_time": "2024-08-08T17:58:54.276751",
     "exception": false,
     "start_time": "2024-08-08T17:58:54.270005",
     "status": "completed"
    },
    "tags": []
   },
   "outputs": [],
   "source": [
    "def process_biom_file(relative_frequency_tab, metadata_tab, class_id, out_csv):\n",
    "    # Create DataFrames\n",
    "    relative_frequency_df = relative_frequency_tab.view(pd.DataFrame).T\n",
    "    metadata_df = metadata_tab.to_dataframe()\n",
    "    \n",
    "    # Process IDs\n",
    "    idx = relative_frequency_df.index\n",
    "    new_idx = ['|'.join([y[3:] for y in x.split(';') if len(y)>2]) for x in idx]\n",
    "    \n",
    "    # Process headers\n",
    "    group_header = list(metadata_df[class_id].values)\n",
    "    sample_header = list(relative_frequency_df.columns)\n",
    "    headers = pd.MultiIndex.from_arrays([group_header, sample_header], names=['group-id', 'subject_id'])\n",
    "    \n",
    "    # Create new DataFrame\n",
    "    new_relative_frequency_df = relative_frequency_df.copy()\n",
    "    new_relative_frequency_df.columns = headers\n",
    "    new_relative_frequency_df.index = new_idx\n",
    "    new_relative_frequency_df.to_csv(out_csv, sep='\\t')"
   ]
  },
  {
   "cell_type": "code",
   "execution_count": 9,
   "id": "d421e193",
   "metadata": {
    "execution": {
     "iopub.execute_input": "2024-08-08T17:58:54.280878Z",
     "iopub.status.busy": "2024-08-08T17:58:54.280757Z",
     "iopub.status.idle": "2024-08-08T17:58:54.284376Z",
     "shell.execute_reply": "2024-08-08T17:58:54.283972Z"
    },
    "papermill": {
     "duration": 0.006721,
     "end_time": "2024-08-08T17:58:54.285262",
     "exception": false,
     "start_time": "2024-08-08T17:58:54.278541",
     "status": "completed"
    },
    "tags": []
   },
   "outputs": [],
   "source": [
    "def process_res(res_file):\n",
    "    df = pd.read_csv(res_file, sep='\\t', index_col=0, header=None)\n",
    "    idx = df.index\n",
    "    new_idx = [re.sub(r\"[a-z]__\", \"|\", x) for x in idx]\n",
    "    print(1, len(idx), len(new_idx))\n",
    "    new_idx = [x[1:] for x in new_idx if x.startswith('|')]\n",
    "    print(2, len(idx), len(new_idx))\n",
    "#     new_idx = [x[:-1] for x in new_idx if x.endswith('|')]\n",
    "#     print(3, len(idx), len(new_idx))\n",
    "    new_idx = [re.sub(r\"\\|\\|\", \"|\", x) for x in new_idx]\n",
    "    print(4, len(idx), len(new_idx))\n",
    "    print\n",
    "    print(idx)\n",
    "    print(new_idx)\n",
    "    df.index = new_idx\n",
    "    \n",
    "#     print(df)\n",
    "    df.to_csv(res_file, index=False, na_rep='-', header=None)"
   ]
  },
  {
   "cell_type": "code",
   "execution_count": 10,
   "id": "df65d39f",
   "metadata": {
    "execution": {
     "iopub.execute_input": "2024-08-08T17:58:54.289732Z",
     "iopub.status.busy": "2024-08-08T17:58:54.289366Z",
     "iopub.status.idle": "2024-08-08T17:58:54.299934Z",
     "shell.execute_reply": "2024-08-08T17:58:54.299526Z"
    },
    "papermill": {
     "duration": 0.013735,
     "end_time": "2024-08-08T17:58:54.300822",
     "exception": false,
     "start_time": "2024-08-08T17:58:54.287087",
     "status": "completed"
    },
    "tags": []
   },
   "outputs": [],
   "source": [
    "def process_lefse(raw_csv, tax_lvl, _format='pdf'):\n",
    "    # Get file name without extension\n",
    "    base_name = os.path.splitext(os.path.basename(raw_csv))[0]\n",
    "    in_file = os.path.join(lefse_folder, f'{base_name}.in')\n",
    "    res_file = os.path.join(lefse_folder, f'{base_name}.res')\n",
    "    lefse_figs = os.path.join(lefse_folder, 'lefse_plots')\n",
    "    !mkdir -p {lefse_figs}\n",
    "    fig_path = os.path.join(lefse_figs, f'{base_name}_metabar.{_format}')\n",
    "    clad_path = os.path.join(lefse_figs, f'{base_name}_cladogram.{_format}')\n",
    "    \n",
    "    \n",
    "    \n",
    "    \n",
    "    # Prepare file to LEfSe\n",
    "    !docker run --rm --workdir /data -v /:/data biobakery/lefse format_input.py {raw_csv[1:]} {in_file[1:]} -c 1 -u 2 -o 1000000\n",
    "#     !docker run --rm --workdir /data -v /:/data biobakery/lefse format_input.py {raw_csv[1:]} {in_file[1:]} -c 1 -u 2\n",
    "\n",
    "    # Execute LEfSe\n",
    "    !docker run --rm --workdir /data -v /:/data biobakery/lefse run_lefse.py  {in_file[1:]} {res_file[1:]}\n",
    "        \n",
    "    # Plot figure\n",
    "    !docker run --rm --workdir /data -v /:/data biobakery/lefse plot_res.py {res_file[1:]} {fig_path[1:]} --format {_format} --max_feature_len 256\n",
    "    \n",
    "    # Plot cladogram\n",
    "    !docker run --rm --workdir /data -v /:/data biobakery/lefse plot_cladogram.py {res_file[1:]} {clad_path[1:]} --format {_format} --colored_labels 1"
   ]
  },
  {
   "cell_type": "code",
   "execution_count": 11,
   "id": "62028e41",
   "metadata": {
    "execution": {
     "iopub.execute_input": "2024-08-08T17:58:54.305073Z",
     "iopub.status.busy": "2024-08-08T17:58:54.304954Z",
     "iopub.status.idle": "2024-08-08T17:58:54.308148Z",
     "shell.execute_reply": "2024-08-08T17:58:54.307747Z"
    },
    "papermill": {
     "duration": 0.006397,
     "end_time": "2024-08-08T17:58:54.309049",
     "exception": false,
     "start_time": "2024-08-08T17:58:54.302652",
     "status": "completed"
    },
    "tags": []
   },
   "outputs": [],
   "source": [
    "def process_tax_level(tax_lvl, tax_tab, abs_tab, metadata_tab, class_id):\n",
    "    \n",
    "    # Collapse the table to the tax_lvl level\n",
    "    collapsed_table = collapse(\n",
    "        table=tabs,\n",
    "        taxonomy=taxonomy,\n",
    "        level=tax_lvl\n",
    "    ).collapsed_table\n",
    "    \n",
    "    # Calculate the relative frequency\n",
    "    relative_frequency_tab = relative_frequency(\n",
    "        table = collapsed_table,\n",
    "    ).relative_frequency_table\n",
    "    \n",
    "    # Persist qza file\n",
    "    relative_frequency_path = os.path.join(qiime_folder, f'collapsed_{tax_lvl}_relative_frequency_table.qza')\n",
    "    relative_frequency_tab.save(filepath=relative_frequency_path)\n",
    "    \n",
    "    # Create a new table with metaheader\n",
    "    out_csv = os.path.join(lefse_folder, f'collapsed_{tax_lvl}_relative_frequency_table_with_metaheader.tsv')\n",
    "    process_biom_file(relative_frequency_tab, metadata_tab, class_id, out_csv)\n",
    "    process_lefse(out_csv, tax_lvl)    "
   ]
  },
  {
   "cell_type": "markdown",
   "id": "f4afe726",
   "metadata": {
    "papermill": {
     "duration": 0.001861,
     "end_time": "2024-08-08T17:58:54.312801",
     "exception": false,
     "start_time": "2024-08-08T17:58:54.310940",
     "status": "completed"
    },
    "tags": []
   },
   "source": [
    "## Perform LEfSe analysis"
   ]
  },
  {
   "cell_type": "code",
   "execution_count": 12,
   "id": "6dd3ee96",
   "metadata": {
    "execution": {
     "iopub.execute_input": "2024-08-08T17:58:54.326166Z",
     "iopub.status.busy": "2024-08-08T17:58:54.326045Z",
     "iopub.status.idle": "2024-08-08T17:59:28.524053Z",
     "shell.execute_reply": "2024-08-08T17:59:28.521186Z"
    },
    "papermill": {
     "duration": 34.212787,
     "end_time": "2024-08-08T17:59:28.527473",
     "exception": false,
     "start_time": "2024-08-08T17:58:54.314686",
     "status": "completed"
    },
    "scrolled": false,
    "tags": []
   },
   "outputs": [
    {
     "name": "stdout",
     "output_type": "stream",
     "text": [
      "Processing level: 1\n"
     ]
    },
    {
     "name": "stdout",
     "output_type": "stream",
     "text": [
      "Number of significantly discriminative features: 0 ( 0 ) before internal wilcoxon\r\n",
      "No features with significant differences between the two classes\r\n",
      "Number of discriminative features with abs LDA score > 2.0 : 0\r\n"
     ]
    },
    {
     "name": "stdout",
     "output_type": "stream",
     "text": [
      "/home/linuxbrew/.linuxbrew/Cellar/lefse/1.0.0-dev-e3cabe9/libexec/lib/python2.7/site-packages/matplotlib/font_manager.py:273: UserWarning: Matplotlib is building the font cache using fc-list. This may take a moment.\r\n",
      "  warnings.warn('Matplotlib is building the font cache using fc-list. This may take a moment.')\r\n"
     ]
    },
    {
     "name": "stdout",
     "output_type": "stream",
     "text": [
      "No differentially abundant features found in mnt/nupeb/rede-micro/redemicro-ana-flavia-nutri/experiments/ana-flavia-STD-NRxHSD-NR-trim/lefse/collapsed_1_relative_frequency_table_with_metaheader.res\r\n"
     ]
    },
    {
     "name": "stdout",
     "output_type": "stream",
     "text": [
      "/home/linuxbrew/.linuxbrew/Cellar/lefse/1.0.0-dev-e3cabe9/libexec/lib/python2.7/site-packages/matplotlib/font_manager.py:273: UserWarning: Matplotlib is building the font cache using fc-list. This may take a moment.\r\n",
      "  warnings.warn('Matplotlib is building the font cache using fc-list. This may take a moment.')\r\n"
     ]
    },
    {
     "name": "stdout",
     "output_type": "stream",
     "text": [
      "Processing level: 2\n"
     ]
    },
    {
     "name": "stdout",
     "output_type": "stream",
     "text": [
      "Number of significantly discriminative features: 1 ( 1 ) before internal wilcoxon\r\n",
      "Number of discriminative features with abs LDA score > 2.0 : 1\r\n"
     ]
    },
    {
     "name": "stdout",
     "output_type": "stream",
     "text": [
      "/home/linuxbrew/.linuxbrew/Cellar/lefse/1.0.0-dev-e3cabe9/libexec/lib/python2.7/site-packages/matplotlib/font_manager.py:273: UserWarning: Matplotlib is building the font cache using fc-list. This may take a moment.\r\n",
      "  warnings.warn('Matplotlib is building the font cache using fc-list. This may take a moment.')\r\n"
     ]
    },
    {
     "name": "stdout",
     "output_type": "stream",
     "text": [
      "/home/linuxbrew/.linuxbrew/Cellar/lefse/1.0.0-dev-e3cabe9/libexec/lib/python2.7/site-packages/matplotlib/font_manager.py:273: UserWarning: Matplotlib is building the font cache using fc-list. This may take a moment.\r\n",
      "  warnings.warn('Matplotlib is building the font cache using fc-list. This may take a moment.')\r\n"
     ]
    },
    {
     "name": "stdout",
     "output_type": "stream",
     "text": [
      "Processing level: 3\n"
     ]
    },
    {
     "name": "stdout",
     "output_type": "stream",
     "text": [
      "Number of significantly discriminative features: 2 ( 2 ) before internal wilcoxon\r\n",
      "Number of discriminative features with abs LDA score > 2.0 : 2\r\n"
     ]
    },
    {
     "name": "stdout",
     "output_type": "stream",
     "text": [
      "/home/linuxbrew/.linuxbrew/Cellar/lefse/1.0.0-dev-e3cabe9/libexec/lib/python2.7/site-packages/matplotlib/font_manager.py:273: UserWarning: Matplotlib is building the font cache using fc-list. This may take a moment.\r\n",
      "  warnings.warn('Matplotlib is building the font cache using fc-list. This may take a moment.')\r\n"
     ]
    },
    {
     "name": "stdout",
     "output_type": "stream",
     "text": [
      "/home/linuxbrew/.linuxbrew/Cellar/lefse/1.0.0-dev-e3cabe9/libexec/lib/python2.7/site-packages/matplotlib/font_manager.py:273: UserWarning: Matplotlib is building the font cache using fc-list. This may take a moment.\r\n",
      "  warnings.warn('Matplotlib is building the font cache using fc-list. This may take a moment.')\r\n"
     ]
    },
    {
     "name": "stdout",
     "output_type": "stream",
     "text": [
      "clade_sep parameter too large, lowered to 0.266967773438\r\n"
     ]
    },
    {
     "name": "stdout",
     "output_type": "stream",
     "text": [
      "Processing level: 4\n"
     ]
    },
    {
     "name": "stdout",
     "output_type": "stream",
     "text": [
      "Number of significantly discriminative features: 4 ( 4 ) before internal wilcoxon\r\n",
      "Number of discriminative features with abs LDA score > 2.0 : 4\r\n"
     ]
    },
    {
     "name": "stdout",
     "output_type": "stream",
     "text": [
      "/home/linuxbrew/.linuxbrew/Cellar/lefse/1.0.0-dev-e3cabe9/libexec/lib/python2.7/site-packages/matplotlib/font_manager.py:273: UserWarning: Matplotlib is building the font cache using fc-list. This may take a moment.\r\n",
      "  warnings.warn('Matplotlib is building the font cache using fc-list. This may take a moment.')\r\n"
     ]
    },
    {
     "name": "stdout",
     "output_type": "stream",
     "text": [
      "/home/linuxbrew/.linuxbrew/Cellar/lefse/1.0.0-dev-e3cabe9/libexec/lib/python2.7/site-packages/matplotlib/font_manager.py:273: UserWarning: Matplotlib is building the font cache using fc-list. This may take a moment.\r\n",
      "  warnings.warn('Matplotlib is building the font cache using fc-list. This may take a moment.')\r\n"
     ]
    },
    {
     "name": "stdout",
     "output_type": "stream",
     "text": [
      "Processing level: 5\n"
     ]
    },
    {
     "name": "stdout",
     "output_type": "stream",
     "text": [
      "Number of significantly discriminative features: 8 ( 8 ) before internal wilcoxon\r\n",
      "Number of discriminative features with abs LDA score > 2.0 : 8\r\n"
     ]
    },
    {
     "name": "stdout",
     "output_type": "stream",
     "text": [
      "/home/linuxbrew/.linuxbrew/Cellar/lefse/1.0.0-dev-e3cabe9/libexec/lib/python2.7/site-packages/matplotlib/font_manager.py:273: UserWarning: Matplotlib is building the font cache using fc-list. This may take a moment.\r\n",
      "  warnings.warn('Matplotlib is building the font cache using fc-list. This may take a moment.')\r\n"
     ]
    },
    {
     "name": "stdout",
     "output_type": "stream",
     "text": [
      "/home/linuxbrew/.linuxbrew/Cellar/lefse/1.0.0-dev-e3cabe9/libexec/lib/python2.7/site-packages/matplotlib/font_manager.py:273: UserWarning: Matplotlib is building the font cache using fc-list. This may take a moment.\r\n",
      "  warnings.warn('Matplotlib is building the font cache using fc-list. This may take a moment.')\r\n"
     ]
    },
    {
     "name": "stdout",
     "output_type": "stream",
     "text": [
      "clade_sep parameter too large, lowered to 0.266967773438\r\n"
     ]
    },
    {
     "name": "stdout",
     "output_type": "stream",
     "text": [
      "Processing level: 6\n"
     ]
    },
    {
     "name": "stdout",
     "output_type": "stream",
     "text": [
      "Number of significantly discriminative features: 19 ( 19 ) before internal wilcoxon\r\n",
      "Number of discriminative features with abs LDA score > 2.0 : 19\r\n"
     ]
    },
    {
     "name": "stdout",
     "output_type": "stream",
     "text": [
      "/home/linuxbrew/.linuxbrew/Cellar/lefse/1.0.0-dev-e3cabe9/libexec/lib/python2.7/site-packages/matplotlib/font_manager.py:273: UserWarning: Matplotlib is building the font cache using fc-list. This may take a moment.\r\n",
      "  warnings.warn('Matplotlib is building the font cache using fc-list. This may take a moment.')\r\n"
     ]
    },
    {
     "name": "stdout",
     "output_type": "stream",
     "text": [
      "/home/linuxbrew/.linuxbrew/Cellar/lefse/1.0.0-dev-e3cabe9/libexec/lib/python2.7/site-packages/matplotlib/font_manager.py:273: UserWarning: Matplotlib is building the font cache using fc-list. This may take a moment.\r\n",
      "  warnings.warn('Matplotlib is building the font cache using fc-list. This may take a moment.')\r\n"
     ]
    },
    {
     "name": "stdout",
     "output_type": "stream",
     "text": [
      "clade_sep parameter too large, lowered to 0.266967773438\r\n"
     ]
    },
    {
     "name": "stdout",
     "output_type": "stream",
     "text": [
      "Processing level: 7\n"
     ]
    },
    {
     "name": "stdout",
     "output_type": "stream",
     "text": [
      "Number of significantly discriminative features: 26 ( 26 ) before internal wilcoxon\r\n",
      "Number of discriminative features with abs LDA score > 2.0 : 26\r\n"
     ]
    },
    {
     "name": "stdout",
     "output_type": "stream",
     "text": [
      "/home/linuxbrew/.linuxbrew/Cellar/lefse/1.0.0-dev-e3cabe9/libexec/lib/python2.7/site-packages/matplotlib/font_manager.py:273: UserWarning: Matplotlib is building the font cache using fc-list. This may take a moment.\r\n",
      "  warnings.warn('Matplotlib is building the font cache using fc-list. This may take a moment.')\r\n"
     ]
    },
    {
     "name": "stdout",
     "output_type": "stream",
     "text": [
      "/home/linuxbrew/.linuxbrew/Cellar/lefse/1.0.0-dev-e3cabe9/libexec/lib/python2.7/site-packages/matplotlib/font_manager.py:273: UserWarning: Matplotlib is building the font cache using fc-list. This may take a moment.\r\n",
      "  warnings.warn('Matplotlib is building the font cache using fc-list. This may take a moment.')\r\n"
     ]
    },
    {
     "name": "stdout",
     "output_type": "stream",
     "text": [
      "clade_sep parameter too large, lowered to 0.200225830078\r\n"
     ]
    }
   ],
   "source": [
    "for tax_lvl in range(1,8):\n",
    "    print(f'Processing level: {tax_lvl}')\n",
    "    process_tax_level(tax_lvl, taxonomy, tabs, metadata_qa, class_col)"
   ]
  }
 ],
 "metadata": {
  "celltoolbar": "Edit Metadata",
  "kernelspec": {
   "display_name": "Python 3 (ipykernel)",
   "language": "python",
   "name": "python3"
  },
  "language_info": {
   "codemirror_mode": {
    "name": "ipython",
    "version": 3
   },
   "file_extension": ".py",
   "mimetype": "text/x-python",
   "name": "python",
   "nbconvert_exporter": "python",
   "pygments_lexer": "ipython3",
   "version": "3.8.15"
  },
  "papermill": {
   "default_parameters": {},
   "duration": 40.677958,
   "end_time": "2024-08-08T17:59:29.146624",
   "environment_variables": {},
   "exception": null,
   "input_path": "nb-templates/step-lefse-analysis.ipynb",
   "output_path": "/mnt/nupeb/rede-micro/redemicro-ana-flavia-nutri/experiments/ana-flavia-STD-NRxHSD-NR-trim/nb-executed-steps/step-lefse-analysis-ana-flavia-STD-NRxHSD-NR-trim.ipynb",
   "parameters": {
    "base_dir": "/mnt/nupeb/rede-micro/redemicro-ana-flavia-nutri",
    "class_col": "group-id",
    "classifier_file": "/mnt/nupeb/rede-micro/datasets/16S_classifiers_qiime2/silva-138-99-nb-classifier.qza",
    "experiment_name": "ana-flavia-STD-NRxHSD-NR-trim",
    "manifest_file": "/mnt/nupeb/rede-micro/redemicro-ana-flavia-nutri/data/raw/manifest/manifest-ana-flavia-STD-NRxHSD-NR.csv",
    "metadata_file": "/mnt/nupeb/rede-micro/redemicro-ana-flavia-nutri/data/raw/metadata/metadata-ana-flavia-STD-NRxHSD-NR.tsv",
    "overlap": 12,
    "phred": 20,
    "replace_files": false,
    "threads": 6,
    "top_n": 20,
    "trim": {
     "forward_primer": "CCTACGGGRSGCAGCAG",
     "overlap": 8,
     "reverse_primer": "GGACTACHVGGGTWTCTAAT"
    },
    "trunc_f": 0,
    "trunc_r": 0
   },
   "start_time": "2024-08-08T17:58:48.468666",
   "version": "2.6.0"
  }
 },
 "nbformat": 4,
 "nbformat_minor": 5
}