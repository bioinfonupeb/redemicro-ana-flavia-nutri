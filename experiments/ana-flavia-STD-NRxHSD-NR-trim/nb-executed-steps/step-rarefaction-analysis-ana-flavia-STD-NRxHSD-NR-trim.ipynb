{
 "cells": [
  {
   "cell_type": "markdown",
   "id": "8ee9f3e4",
   "metadata": {
    "papermill": {
     "duration": 0.022357,
     "end_time": "2023-08-23T18:59:05.934678",
     "exception": false,
     "start_time": "2023-08-23T18:59:05.912321",
     "status": "completed"
    },
    "tags": []
   },
   "source": [
    "# STEP : Rarefaction Analysis\n",
    "\n",
    "Using QIIME2 to create rarefaction graphs.\n",
    "\n",
    "\n",
    "## Methods\n",
    "[qiime alpha_rarefaction](https://docs.qiime2.org/2023.2/plugins/available/diversity/alpha-rarefaction/)\n",
    "```\n",
    "Generate interactive alpha rarefaction curves by computing rarefactions\n",
    "between `min_depth` and `max_depth`. The number of intermediate depths to\n",
    "compute is controlled by the `steps` parameter, with n `iterations` being\n",
    "computed at each rarefaction depth. If sample metadata is provided, samples\n",
    "may be grouped based on distinct values within a metadata column.\n",
    "```\n"
   ]
  },
  {
   "cell_type": "markdown",
   "id": "236d49e6",
   "metadata": {
    "papermill": {
     "duration": 0.030494,
     "end_time": "2023-08-23T18:59:05.996816",
     "exception": false,
     "start_time": "2023-08-23T18:59:05.966322",
     "status": "completed"
    },
    "tags": []
   },
   "source": [
    "## Setup and settings"
   ]
  },
  {
   "cell_type": "code",
   "execution_count": 1,
   "id": "4e53ba35",
   "metadata": {
    "ExecuteTime": {
     "end_time": "2022-09-22T21:43:54.326002Z",
     "start_time": "2022-09-22T21:43:47.911891Z"
    },
    "execution": {
     "iopub.execute_input": "2023-08-23T18:59:06.060591Z",
     "iopub.status.busy": "2023-08-23T18:59:06.060039Z",
     "iopub.status.idle": "2023-08-23T18:59:12.529746Z",
     "shell.execute_reply": "2023-08-23T18:59:12.529056Z"
    },
    "papermill": {
     "duration": 6.504994,
     "end_time": "2023-08-23T18:59:12.532893",
     "exception": false,
     "start_time": "2023-08-23T18:59:06.027899",
     "status": "completed"
    },
    "tags": []
   },
   "outputs": [],
   "source": [
    "# Importing packages\n",
    "import os\n",
    "import pandas as pd\n",
    "from qiime2 import Artifact\n",
    "from qiime2 import Visualization\n",
    "from qiime2 import Metadata\n",
    "from qiime2.plugins.diversity.visualizers import alpha_rarefaction\n",
    "from qiime2.plugins.diversity.visualizers import beta_rarefaction\n",
    "\n",
    "from qiime2.plugins.feature_table.methods import filter_samples\n",
    "from qiime2.plugins.feature_table.methods import filter_seqs\n",
    "\n",
    "import matplotlib.pyplot as plt\n",
    "\n",
    "%matplotlib inline"
   ]
  },
  {
   "cell_type": "code",
   "execution_count": 2,
   "id": "9c82031c",
   "metadata": {
    "ExecuteTime": {
     "end_time": "2022-09-22T21:43:54.330790Z",
     "start_time": "2022-09-22T21:43:54.328358Z"
    },
    "execution": {
     "iopub.execute_input": "2023-08-23T18:59:12.564406Z",
     "iopub.status.busy": "2023-08-23T18:59:12.563968Z",
     "iopub.status.idle": "2023-08-23T18:59:12.568162Z",
     "shell.execute_reply": "2023-08-23T18:59:12.567344Z"
    },
    "papermill": {
     "duration": 0.019099,
     "end_time": "2023-08-23T18:59:12.569647",
     "exception": false,
     "start_time": "2023-08-23T18:59:12.550548",
     "status": "completed"
    },
    "tags": []
   },
   "outputs": [],
   "source": [
    "# from qiime2.plugins import demux, deblur, quality_filter, \\\n",
    "#                            metadata, feature_table, alignment, \\\n",
    "#                            phylogeny, diversity, emperor, feature_classifier, \\\n",
    "#                            taxa, composition"
   ]
  },
  {
   "cell_type": "markdown",
   "id": "35f725ef",
   "metadata": {
    "papermill": {
     "duration": 0.012406,
     "end_time": "2023-08-23T18:59:12.605148",
     "exception": false,
     "start_time": "2023-08-23T18:59:12.592742",
     "status": "completed"
    },
    "tags": []
   },
   "source": [
    "### Receiving the parameters\n",
    "\n",
    "The following cell can receive parameters using the [papermill](https://papermill.readthedocs.io/en/latest/) tool."
   ]
  },
  {
   "cell_type": "code",
   "execution_count": 3,
   "id": "ab2b4f4d",
   "metadata": {
    "ExecuteTime": {
     "end_time": "2022-09-22T21:43:54.344271Z",
     "start_time": "2022-09-22T21:43:54.332262Z"
    },
    "execution": {
     "iopub.execute_input": "2023-08-23T18:59:12.649453Z",
     "iopub.status.busy": "2023-08-23T18:59:12.649112Z",
     "iopub.status.idle": "2023-08-23T18:59:12.654122Z",
     "shell.execute_reply": "2023-08-23T18:59:12.653234Z"
    },
    "papermill": {
     "duration": 0.019828,
     "end_time": "2023-08-23T18:59:12.655643",
     "exception": false,
     "start_time": "2023-08-23T18:59:12.635815",
     "status": "completed"
    },
    "tags": [
     "parameters"
    ]
   },
   "outputs": [],
   "source": [
    "metadata_file = '/home/lauro/nupeb/rede-micro/redemicro-miliane-nutri/data/raw/metadata/miliane-metadata-CxAC.tsv'\n",
    "base_dir = os.path.join('/', 'home', 'lauro', 'nupeb', 'rede-micro', 'redemicro-miliane-nutri')\n",
    "experiment_name = 'miliane-CxAC-trim'\n",
    "replace_files = False"
   ]
  },
  {
   "cell_type": "code",
   "execution_count": 4,
   "id": "bee80d62",
   "metadata": {
    "execution": {
     "iopub.execute_input": "2023-08-23T18:59:12.685833Z",
     "iopub.status.busy": "2023-08-23T18:59:12.685294Z",
     "iopub.status.idle": "2023-08-23T18:59:12.692746Z",
     "shell.execute_reply": "2023-08-23T18:59:12.691700Z"
    },
    "papermill": {
     "duration": 0.025022,
     "end_time": "2023-08-23T18:59:12.694324",
     "exception": false,
     "start_time": "2023-08-23T18:59:12.669302",
     "status": "completed"
    },
    "tags": [
     "injected-parameters"
    ]
   },
   "outputs": [],
   "source": [
    "# Parameters\n",
    "experiment_name = \"ana-flavia-STD-NRxHSD-NR-trim\"\n",
    "base_dir = \"/home/lauro/nupeb/rede-micro/redemicro-ana-flavia-nutri\"\n",
    "manifest_file = \"/home/lauro/nupeb/rede-micro/redemicro-ana-flavia-nutri/data/raw/manifest/manifest-ana-flavia-STD-NRxHSD-NR.csv\"\n",
    "metadata_file = \"/home/lauro/nupeb/rede-micro/redemicro-ana-flavia-nutri/data/raw/metadata/metadata-ana-flavia-STD-NRxHSD-NR.tsv\"\n",
    "class_col = \"group-id\"\n",
    "classifier_file = \"/home/lauro/nupeb/rede-micro/models/silva-138-99-nb-classifier.qza\"\n",
    "top_n = 20\n",
    "replace_files = False\n",
    "phred = 20\n",
    "trunc_f = 0\n",
    "trunc_r = 0\n",
    "overlap = 12\n",
    "threads = 6\n",
    "trim = {\n",
    "    \"overlap\": 8,\n",
    "    \"forward_primer\": \"CCTACGGGRSGCAGCAG\",\n",
    "    \"reverse_primer\": \"GGACTACHVGGGTWTCTAAT\",\n",
    "}\n"
   ]
  },
  {
   "cell_type": "markdown",
   "id": "c23ce84e",
   "metadata": {
    "papermill": {
     "duration": 0.012687,
     "end_time": "2023-08-23T18:59:12.722861",
     "exception": false,
     "start_time": "2023-08-23T18:59:12.710174",
     "status": "completed"
    },
    "tags": []
   },
   "source": [
    "### Defining names, paths and flags"
   ]
  },
  {
   "cell_type": "code",
   "execution_count": 5,
   "id": "169d0781",
   "metadata": {
    "ExecuteTime": {
     "end_time": "2022-09-22T21:43:54.362004Z",
     "start_time": "2022-09-22T21:43:54.346365Z"
    },
    "execution": {
     "iopub.execute_input": "2023-08-23T18:59:12.749709Z",
     "iopub.status.busy": "2023-08-23T18:59:12.749274Z",
     "iopub.status.idle": "2023-08-23T18:59:13.202677Z",
     "shell.execute_reply": "2023-08-23T18:59:13.200786Z"
    },
    "papermill": {
     "duration": 0.470956,
     "end_time": "2023-08-23T18:59:13.206462",
     "exception": false,
     "start_time": "2023-08-23T18:59:12.735506",
     "status": "completed"
    },
    "tags": []
   },
   "outputs": [],
   "source": [
    "# Experiments\n",
    "experiment_folder = os.path.abspath(os.path.join(base_dir, 'experiments', experiment_name))\n",
    "!mkdir -p {experiment_folder}\n",
    "\n",
    "# Imgs folder\n",
    "img_folder = os.path.abspath(os.path.join(experiment_folder, 'imgs'))\n",
    "!mkdir -p {img_folder}\n",
    "\n",
    "# QIIME2 Artifacts folder\n",
    "qiime_folder = os.path.join(experiment_folder, 'qiime-artifacts')\n",
    "!mkdir -p {qiime_folder}"
   ]
  },
  {
   "cell_type": "code",
   "execution_count": 6,
   "id": "c77d09b5",
   "metadata": {
    "ExecuteTime": {
     "end_time": "2022-09-22T21:43:54.373657Z",
     "start_time": "2022-09-22T21:43:54.363586Z"
    },
    "execution": {
     "iopub.execute_input": "2023-08-23T18:59:13.244121Z",
     "iopub.status.busy": "2023-08-23T18:59:13.243576Z",
     "iopub.status.idle": "2023-08-23T18:59:13.252735Z",
     "shell.execute_reply": "2023-08-23T18:59:13.252032Z"
    },
    "papermill": {
     "duration": 0.027649,
     "end_time": "2023-08-23T18:59:13.254812",
     "exception": false,
     "start_time": "2023-08-23T18:59:13.227163",
     "status": "completed"
    },
    "tags": []
   },
   "outputs": [],
   "source": [
    "# Input - DADA2 Artifacts\n",
    "dada2_tabs_path = os.path.join(qiime_folder, 'dada2-tabs.qza')\n",
    "dada2_reps_path = os.path.join(qiime_folder, 'dada2-reps.qza')\n",
    "dada2_stat_path = os.path.join(qiime_folder, 'dada2-stat.qza')\n",
    "\n",
    "# Output -Rarefaction Artifacts\n",
    "alpha_rarefaction_path = os.path.join(qiime_folder, 'alpha-rarefaction.qza')\n",
    "alpha_rarefaction_view_path = os.path.join(qiime_folder, 'alpha-rarefaction.qzv')\n",
    "\n",
    "# Flag - Load or create files\n",
    "need_tax = not (os.path.isfile(alpha_rarefaction_path)) or replace_files\n",
    "need_view = not (os.path.isfile(alpha_rarefaction_view_path)) or replace_files"
   ]
  },
  {
   "cell_type": "markdown",
   "id": "9ee4fe3c",
   "metadata": {
    "papermill": {
     "duration": 0.01383,
     "end_time": "2023-08-23T18:59:13.285597",
     "exception": false,
     "start_time": "2023-08-23T18:59:13.271767",
     "status": "completed"
    },
    "tags": []
   },
   "source": [
    "## Step execution\n",
    "\n",
    "### Load input files\n",
    "\n",
    "This Step import the QIIME2 `SampleData[PairedEndSequencesWithQuality]` Artifact with all demultiplexed sequences and the `Metadata` file."
   ]
  },
  {
   "cell_type": "code",
   "execution_count": 7,
   "id": "431a2ef0",
   "metadata": {
    "ExecuteTime": {
     "end_time": "2022-09-22T21:43:54.398034Z",
     "start_time": "2022-09-22T21:43:54.375240Z"
    },
    "execution": {
     "iopub.execute_input": "2023-08-23T18:59:13.313829Z",
     "iopub.status.busy": "2023-08-23T18:59:13.313554Z",
     "iopub.status.idle": "2023-08-23T18:59:13.334087Z",
     "shell.execute_reply": "2023-08-23T18:59:13.333426Z"
    },
    "papermill": {
     "duration": 0.037007,
     "end_time": "2023-08-23T18:59:13.336322",
     "exception": false,
     "start_time": "2023-08-23T18:59:13.299315",
     "status": "completed"
    },
    "tags": []
   },
   "outputs": [],
   "source": [
    "#Load Metadata\n",
    "metadata_qa = Metadata.load(metadata_file)"
   ]
  },
  {
   "cell_type": "code",
   "execution_count": 8,
   "id": "1f18a355",
   "metadata": {
    "execution": {
     "iopub.execute_input": "2023-08-23T18:59:13.370935Z",
     "iopub.status.busy": "2023-08-23T18:59:13.370650Z",
     "iopub.status.idle": "2023-08-23T18:59:13.375393Z",
     "shell.execute_reply": "2023-08-23T18:59:13.374585Z"
    },
    "papermill": {
     "duration": 0.020855,
     "end_time": "2023-08-23T18:59:13.377013",
     "exception": false,
     "start_time": "2023-08-23T18:59:13.356158",
     "status": "completed"
    },
    "tags": []
   },
   "outputs": [],
   "source": [
    "alt_tab_path = os.path.join(base_dir, 'data', 'interim', 'dada2-tabs.qza')\n",
    "# Verify if table file exists and if it is shared\n",
    "if not os.path.isfile(dada2_tabs_path) and os.path.isfile(alt_tab_path):\n",
    "    # If it is shared, create a local symbolic link\n",
    "    os.symlink(alt_tab_path, dada2_tabs_path)"
   ]
  },
  {
   "cell_type": "code",
   "execution_count": 9,
   "id": "38f32360",
   "metadata": {
    "ExecuteTime": {
     "end_time": "2022-09-22T21:43:54.827295Z",
     "start_time": "2022-09-22T21:43:54.399431Z"
    },
    "execution": {
     "iopub.execute_input": "2023-08-23T18:59:13.405338Z",
     "iopub.status.busy": "2023-08-23T18:59:13.405006Z",
     "iopub.status.idle": "2023-08-23T18:59:14.500710Z",
     "shell.execute_reply": "2023-08-23T18:59:14.499840Z"
    },
    "papermill": {
     "duration": 1.113174,
     "end_time": "2023-08-23T18:59:14.503781",
     "exception": false,
     "start_time": "2023-08-23T18:59:13.390607",
     "status": "completed"
    },
    "tags": []
   },
   "outputs": [],
   "source": [
    "# Load Table artifact\n",
    "tabs = Artifact.load(dada2_tabs_path)\n",
    "# Filter samples using Metadata IDs\n",
    "tabs = filter_samples(\n",
    "    table=tabs,\n",
    "    metadata=metadata_qa,\n",
    ").filtered_table\n",
    "tabs_df = tabs.view(Metadata).to_dataframe().T"
   ]
  },
  {
   "cell_type": "code",
   "execution_count": null,
   "id": "323f915d",
   "metadata": {
    "papermill": {
     "duration": 0.014175,
     "end_time": "2023-08-23T18:59:14.537487",
     "exception": false,
     "start_time": "2023-08-23T18:59:14.523312",
     "status": "completed"
    },
    "tags": []
   },
   "outputs": [],
   "source": []
  },
  {
   "cell_type": "markdown",
   "id": "3fd62af0",
   "metadata": {
    "papermill": {
     "duration": 0.013787,
     "end_time": "2023-08-23T18:59:14.565119",
     "exception": false,
     "start_time": "2023-08-23T18:59:14.551332",
     "status": "completed"
    },
    "tags": []
   },
   "source": [
    "## Alpha Rarefaction"
   ]
  },
  {
   "cell_type": "code",
   "execution_count": 10,
   "id": "950be513",
   "metadata": {
    "ExecuteTime": {
     "end_time": "2022-09-22T21:55:53.328300Z",
     "start_time": "2022-09-22T21:55:53.318166Z"
    },
    "execution": {
     "iopub.execute_input": "2023-08-23T18:59:14.593359Z",
     "iopub.status.busy": "2023-08-23T18:59:14.593080Z",
     "iopub.status.idle": "2023-08-23T18:59:14.599660Z",
     "shell.execute_reply": "2023-08-23T18:59:14.598916Z"
    },
    "papermill": {
     "duration": 0.022511,
     "end_time": "2023-08-23T18:59:14.601229",
     "exception": false,
     "start_time": "2023-08-23T18:59:14.578718",
     "status": "completed"
    },
    "tags": []
   },
   "outputs": [],
   "source": [
    "# Get min and maximum feature counts to set sampling depth\n",
    "rank_df = tabs_df.sum().sort_values()\n",
    "min_feature_count = int(rank_df.min())\n",
    "max_feature_count = int(rank_df.max())"
   ]
  },
  {
   "cell_type": "code",
   "execution_count": 11,
   "id": "ee4acc92",
   "metadata": {
    "execution": {
     "iopub.execute_input": "2023-08-23T18:59:14.629655Z",
     "iopub.status.busy": "2023-08-23T18:59:14.629320Z",
     "iopub.status.idle": "2023-08-23T18:59:14.640151Z",
     "shell.execute_reply": "2023-08-23T18:59:14.639268Z"
    },
    "papermill": {
     "duration": 0.027015,
     "end_time": "2023-08-23T18:59:14.641835",
     "exception": false,
     "start_time": "2023-08-23T18:59:14.614820",
     "status": "completed"
    },
    "tags": []
   },
   "outputs": [],
   "source": [
    "# Add new columns with samples IDs to rarefaction\n",
    "meta_df = metadata_qa.to_dataframe()\n",
    "meta_df['samples'] = meta_df.index.to_list()\n",
    "metadata_qa = Metadata(meta_df)"
   ]
  },
  {
   "cell_type": "code",
   "execution_count": 12,
   "id": "7078f0d5",
   "metadata": {
    "ExecuteTime": {
     "end_time": "2022-09-22T21:56:13.586159Z",
     "start_time": "2022-09-22T21:55:55.117935Z"
    },
    "execution": {
     "iopub.execute_input": "2023-08-23T18:59:14.673899Z",
     "iopub.status.busy": "2023-08-23T18:59:14.673556Z",
     "iopub.status.idle": "2023-08-23T18:59:32.708790Z",
     "shell.execute_reply": "2023-08-23T18:59:32.707909Z"
    },
    "papermill": {
     "duration": 18.05305,
     "end_time": "2023-08-23T18:59:32.711790",
     "exception": false,
     "start_time": "2023-08-23T18:59:14.658740",
     "status": "completed"
    },
    "tags": []
   },
   "outputs": [],
   "source": [
    "alpha_rar = alpha_rarefaction(\n",
    "    table = tabs,\n",
    "    max_depth = max_feature_count,\n",
    "    min_depth = 1,\n",
    "    metadata = metadata_qa,\n",
    ")"
   ]
  },
  {
   "cell_type": "code",
   "execution_count": 13,
   "id": "5d5ff594",
   "metadata": {
    "ExecuteTime": {
     "end_time": "2022-09-22T21:56:13.632468Z",
     "start_time": "2022-09-22T21:56:13.589032Z"
    },
    "execution": {
     "iopub.execute_input": "2023-08-23T18:59:32.746137Z",
     "iopub.status.busy": "2023-08-23T18:59:32.745586Z",
     "iopub.status.idle": "2023-08-23T18:59:32.789660Z",
     "shell.execute_reply": "2023-08-23T18:59:32.789077Z"
    },
    "papermill": {
     "duration": 0.060525,
     "end_time": "2023-08-23T18:59:32.791842",
     "exception": false,
     "start_time": "2023-08-23T18:59:32.731317",
     "status": "completed"
    },
    "scrolled": true,
    "tags": []
   },
   "outputs": [
    {
     "data": {
      "text/html": [
       "<div><img onload=\"(function(div, url){\n",
       "if (typeof require !== 'undefined') {\n",
       "    var baseURL = require.toUrl('').split('/').slice(0, -2).join('/');\n",
       "} else {\n",
       "    var baseURL = JSON.parse(\n",
       "        document.getElementById('jupyter-config-data').innerHTML\n",
       "    ).baseUrl.slice(0, -1);\n",
       "}\n",
       "url = baseURL + url;\n",
       "fetch(url).then(function(res) {\n",
       "    if (res.status === 404) {\n",
       "        div.innerHTML = 'Install QIIME 2 Jupyter extension with:<br />' +\n",
       "                        '<code>jupyter serverextension enable --py qiime2' +\n",
       "                        ' --sys-prefix</code><br />then restart your server.' +\n",
       "                        '<br /><br />(Interactive output not available on ' +\n",
       "                        'static notebook viewer services like nbviewer.)';\n",
       "    } else if (res.status === 409) {\n",
       "        div.innerHTML = 'Visualization no longer in scope. Re-run this cell' +\n",
       "                        ' to see the visualization.';\n",
       "    } else if (res.ok) {\n",
       "        url = res.url;\n",
       "        div.innerHTML = '<iframe src=\\'' + url + '\\' style=\\'' +\n",
       "                        'width: 100%; height: 700px; border: 0;\\'>' +\n",
       "                        '</iframe><hr />Open in a: <a href=\\'' + url + '\\'' +\n",
       "                        ' target=\\'_blank\\'>new window</a>'\n",
       "    } else {\n",
       "        div.innerHTML = 'Something has gone wrong. Check notebook server for' +\n",
       "                        ' errors.';\n",
       "    }\n",
       "});\n",
       "})(this.parentElement, '/qiime2/redirect?location=/tmp/qiime2-archive-xdztxdnh')\" src=\"data:image/gif;base64,R0lGODlhAQABAIAAAP///wAAACH5BAEAAAAALAAAAAABAAEAAAICRAEAOw==\" /></div>"
      ],
      "text/plain": [
       "<visualization: Visualization uuid: b20bebd5-7271-43f5-be46-473451d349f9>"
      ]
     },
     "execution_count": 13,
     "metadata": {},
     "output_type": "execute_result"
    }
   ],
   "source": [
    "alpha_rar.visualization.save(alpha_rarefaction_view_path)\n",
    "alpha_rar.visualization"
   ]
  },
  {
   "cell_type": "markdown",
   "id": "c7f87163",
   "metadata": {
    "papermill": {
     "duration": 0.013867,
     "end_time": "2023-08-23T18:59:32.825952",
     "exception": false,
     "start_time": "2023-08-23T18:59:32.812085",
     "status": "completed"
    },
    "tags": []
   },
   "source": [
    "## Beta Rarefaction"
   ]
  },
  {
   "cell_type": "code",
   "execution_count": 14,
   "id": "2fa6594a",
   "metadata": {
    "ExecuteTime": {
     "end_time": "2022-09-22T21:56:19.645438Z",
     "start_time": "2022-09-22T21:56:17.687848Z"
    },
    "execution": {
     "iopub.execute_input": "2023-08-23T18:59:32.865619Z",
     "iopub.status.busy": "2023-08-23T18:59:32.865287Z",
     "iopub.status.idle": "2023-08-23T18:59:34.667548Z",
     "shell.execute_reply": "2023-08-23T18:59:34.666956Z"
    },
    "papermill": {
     "duration": 1.819458,
     "end_time": "2023-08-23T18:59:34.670425",
     "exception": false,
     "start_time": "2023-08-23T18:59:32.850967",
     "status": "completed"
    },
    "tags": []
   },
   "outputs": [
    {
     "data": {
      "image/png": "[encoded data removed]",
      "text/plain": [
       "<Figure size 432x288 with 2 Axes>"
      ]
     },
     "metadata": {
      "needs_background": "light"
     },
     "output_type": "display_data"
    }
   ],
   "source": [
    "choices = ('matching', 'aitchison', 'euclidean', 'generalized_unifrac', 'canberra', 'russellrao', 'braycurtis', 'cosine', 'jensenshannon', 'yule', 'weighted_normalized_unifrac', 'unweighted_unifrac', 'hamming', 'weighted_unifrac', 'cityblock', 'sokalmichener', 'seuclidean', 'rogerstanimoto', 'correlation', 'minkowski', 'kulsinski', 'chebyshev', 'sqeuclidean', 'sokalsneath', 'jaccard', 'dice', 'canberra_adkins')\n",
    "clustering_methods = ('nj', 'upgma')\n",
    "correlation_methods = ('pearson', 'spearman')\n",
    "\n",
    "sampling_depth = max(min_feature_count, 1)\n",
    "metric = 'braycurtis'\n",
    "clustering_method = clustering_methods[0]\n",
    "correlation_method = correlation_methods[1]\n",
    "\n",
    "beta_rar = beta_rarefaction(\n",
    "    table = tabs,\n",
    "    sampling_depth  = sampling_depth,\n",
    "    metadata = metadata_qa,\n",
    "    metric = metric,\n",
    "    clustering_method = clustering_method,\n",
    "    correlation_method = correlation_method,\n",
    ")"
   ]
  },
  {
   "cell_type": "markdown",
   "id": "5c549edb",
   "metadata": {
    "papermill": {
     "duration": 0.015134,
     "end_time": "2023-08-23T18:59:34.713992",
     "exception": false,
     "start_time": "2023-08-23T18:59:34.698858",
     "status": "completed"
    },
    "tags": []
   },
   "source": [
    " ## Beta diversity PCoA\n",
    " Ellipses represent 95% confidence intervals."
   ]
  },
  {
   "cell_type": "code",
   "execution_count": 15,
   "id": "9a9f28c9",
   "metadata": {
    "ExecuteTime": {
     "end_time": "2022-09-22T21:56:22.170995Z",
     "start_time": "2022-09-22T21:56:22.048827Z"
    },
    "execution": {
     "iopub.execute_input": "2023-08-23T18:59:34.741596Z",
     "iopub.status.busy": "2023-08-23T18:59:34.741233Z",
     "iopub.status.idle": "2023-08-23T18:59:34.861556Z",
     "shell.execute_reply": "2023-08-23T18:59:34.861005Z"
    },
    "papermill": {
     "duration": 0.136047,
     "end_time": "2023-08-23T18:59:34.863358",
     "exception": false,
     "start_time": "2023-08-23T18:59:34.727311",
     "status": "completed"
    },
    "tags": []
   },
   "outputs": [
    {
     "data": {
      "text/html": [
       "<div><img onload=\"(function(div, url){\n",
       "if (typeof require !== 'undefined') {\n",
       "    var baseURL = require.toUrl('').split('/').slice(0, -2).join('/');\n",
       "} else {\n",
       "    var baseURL = JSON.parse(\n",
       "        document.getElementById('jupyter-config-data').innerHTML\n",
       "    ).baseUrl.slice(0, -1);\n",
       "}\n",
       "url = baseURL + url;\n",
       "fetch(url).then(function(res) {\n",
       "    if (res.status === 404) {\n",
       "        div.innerHTML = 'Install QIIME 2 Jupyter extension with:<br />' +\n",
       "                        '<code>jupyter serverextension enable --py qiime2' +\n",
       "                        ' --sys-prefix</code><br />then restart your server.' +\n",
       "                        '<br /><br />(Interactive output not available on ' +\n",
       "                        'static notebook viewer services like nbviewer.)';\n",
       "    } else if (res.status === 409) {\n",
       "        div.innerHTML = 'Visualization no longer in scope. Re-run this cell' +\n",
       "                        ' to see the visualization.';\n",
       "    } else if (res.ok) {\n",
       "        url = res.url;\n",
       "        div.innerHTML = '<iframe src=\\'' + url + '\\' style=\\'' +\n",
       "                        'width: 100%; height: 700px; border: 0;\\'>' +\n",
       "                        '</iframe><hr />Open in a: <a href=\\'' + url + '\\'' +\n",
       "                        ' target=\\'_blank\\'>new window</a>'\n",
       "    } else {\n",
       "        div.innerHTML = 'Something has gone wrong. Check notebook server for' +\n",
       "                        ' errors.';\n",
       "    }\n",
       "});\n",
       "})(this.parentElement, '/qiime2/redirect?location=/tmp/qiime2-archive-jv3z4g55')\" src=\"data:image/gif;base64,R0lGODlhAQABAIAAAP///wAAACH5BAEAAAAALAAAAAABAAEAAAICRAEAOw==\" /></div>"
      ],
      "text/plain": [
       "<visualization: Visualization uuid: 02b23cab-34cd-46c0-a15c-32f78078dd25>"
      ]
     },
     "execution_count": 15,
     "metadata": {},
     "output_type": "execute_result"
    }
   ],
   "source": [
    "plot_tmp = f'{metric}-{clustering_method}-{correlation_method}-{sampling_depth}'\n",
    "beta_rarefaction_view_path = os.path.join(qiime_folder, f'beta-rarefaction-{plot_tmp}.qzv')\n",
    "beta_rar.visualization.save(beta_rarefaction_view_path)\n",
    "\n",
    "beta_rar.visualization"
   ]
  }
 ],
 "metadata": {
  "celltoolbar": "Edit Metadata",
  "kernelspec": {
   "display_name": "Python 3 (ipykernel)",
   "language": "python",
   "name": "python3"
  },
  "language_info": {
   "codemirror_mode": {
    "name": "ipython",
    "version": 3
   },
   "file_extension": ".py",
   "mimetype": "text/x-python",
   "name": "python",
   "nbconvert_exporter": "python",
   "pygments_lexer": "ipython3",
   "version": "3.8.12"
  },
  "papermill": {
   "default_parameters": {},
   "duration": 31.718164,
   "end_time": "2023-08-23T18:59:35.700854",
   "environment_variables": {},
   "exception": null,
   "input_path": "nb-templates/step-rarefaction-analysis.ipynb",
   "output_path": "/home/lauro/nupeb/rede-micro/redemicro-ana-flavia-nutri/experiments/ana-flavia-STD-NRxHSD-NR-trim/nb-executed-steps/step-rarefaction-analysis-ana-flavia-STD-NRxHSD-NR-trim.ipynb",
   "parameters": {
    "base_dir": "/home/lauro/nupeb/rede-micro/redemicro-ana-flavia-nutri",
    "class_col": "group-id",
    "classifier_file": "/home/lauro/nupeb/rede-micro/models/silva-138-99-nb-classifier.qza",
    "experiment_name": "ana-flavia-STD-NRxHSD-NR-trim",
    "manifest_file": "/home/lauro/nupeb/rede-micro/redemicro-ana-flavia-nutri/data/raw/manifest/manifest-ana-flavia-STD-NRxHSD-NR.csv",
    "metadata_file": "/home/lauro/nupeb/rede-micro/redemicro-ana-flavia-nutri/data/raw/metadata/metadata-ana-flavia-STD-NRxHSD-NR.tsv",
    "overlap": 12,
    "phred": 20,
    "replace_files": false,
    "threads": 6,
    "top_n": 20,
    "trim": {
     "forward_primer": "CCTACGGGRSGCAGCAG",
     "overlap": 8,
     "reverse_primer": "GGACTACHVGGGTWTCTAAT"
    },
    "trunc_f": 0,
    "trunc_r": 0
   },
   "start_time": "2023-08-23T18:59:03.982690",
   "version": "2.3.4"
  },
  "toc-autonumbering": false,
  "toc-showcode": false,
  "toc-showmarkdowntxt": false
 },
 "nbformat": 4,
 "nbformat_minor": 5
}