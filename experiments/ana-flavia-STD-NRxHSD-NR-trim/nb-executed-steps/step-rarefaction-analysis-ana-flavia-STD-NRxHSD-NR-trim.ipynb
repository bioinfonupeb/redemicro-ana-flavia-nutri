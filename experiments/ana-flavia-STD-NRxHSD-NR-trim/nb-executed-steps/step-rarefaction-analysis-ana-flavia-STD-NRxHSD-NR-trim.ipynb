{
 "cells": [
  {
   "cell_type": "markdown",
   "id": "9be35827",
   "metadata": {
    "papermill": {
     "duration": 0.021365,
     "end_time": "2023-06-07T09:27:57.816910",
     "exception": false,
     "start_time": "2023-06-07T09:27:57.795545",
     "status": "completed"
    },
    "tags": []
   },
   "source": [
    "# STEP : Rarefaction Analysis\n",
    "\n",
    "Using QIIME2 to create rarefaction graphs.\n",
    "\n",
    "\n",
    "## Methods\n",
    "[qiime alpha_rarefaction](https://docs.qiime2.org/2023.2/plugins/available/diversity/alpha-rarefaction/)\n",
    "```\n",
    "Generate interactive alpha rarefaction curves by computing rarefactions\n",
    "between `min_depth` and `max_depth`. The number of intermediate depths to\n",
    "compute is controlled by the `steps` parameter, with n `iterations` being\n",
    "computed at each rarefaction depth. If sample metadata is provided, samples\n",
    "may be grouped based on distinct values within a metadata column.\n",
    "```\n"
   ]
  },
  {
   "cell_type": "markdown",
   "id": "b5651c18",
   "metadata": {
    "papermill": {
     "duration": 0.034079,
     "end_time": "2023-06-07T09:27:57.864765",
     "exception": false,
     "start_time": "2023-06-07T09:27:57.830686",
     "status": "completed"
    },
    "tags": []
   },
   "source": [
    "## Setup and settings"
   ]
  },
  {
   "cell_type": "code",
   "execution_count": 1,
   "id": "03c446ae",
   "metadata": {
    "ExecuteTime": {
     "end_time": "2022-09-22T21:43:54.326002Z",
     "start_time": "2022-09-22T21:43:47.911891Z"
    },
    "execution": {
     "iopub.execute_input": "2023-06-07T09:27:57.908657Z",
     "iopub.status.busy": "2023-06-07T09:27:57.908092Z",
     "iopub.status.idle": "2023-06-07T09:28:03.923571Z",
     "shell.execute_reply": "2023-06-07T09:28:03.922906Z"
    },
    "papermill": {
     "duration": 6.049456,
     "end_time": "2023-06-07T09:28:03.926807",
     "exception": false,
     "start_time": "2023-06-07T09:27:57.877351",
     "status": "completed"
    },
    "tags": []
   },
   "outputs": [],
   "source": [
    "# Importing packages\n",
    "import os\n",
    "import pandas as pd\n",
    "from qiime2 import Artifact\n",
    "from qiime2 import Visualization\n",
    "from qiime2 import Metadata\n",
    "from qiime2.plugins.diversity.visualizers import alpha_rarefaction\n",
    "from qiime2.plugins.diversity.visualizers import beta_rarefaction\n",
    "\n",
    "import matplotlib.pyplot as plt\n",
    "\n",
    "%matplotlib inline"
   ]
  },
  {
   "cell_type": "code",
   "execution_count": 2,
   "id": "6b13a476",
   "metadata": {
    "ExecuteTime": {
     "end_time": "2022-09-22T21:43:54.330790Z",
     "start_time": "2022-09-22T21:43:54.328358Z"
    },
    "execution": {
     "iopub.execute_input": "2023-06-07T09:28:03.959541Z",
     "iopub.status.busy": "2023-06-07T09:28:03.959320Z",
     "iopub.status.idle": "2023-06-07T09:28:03.962992Z",
     "shell.execute_reply": "2023-06-07T09:28:03.962241Z"
    },
    "papermill": {
     "duration": 0.018008,
     "end_time": "2023-06-07T09:28:03.964519",
     "exception": false,
     "start_time": "2023-06-07T09:28:03.946511",
     "status": "completed"
    },
    "tags": []
   },
   "outputs": [],
   "source": [
    "# from qiime2.plugins import demux, deblur, quality_filter, \\\n",
    "#                            metadata, feature_table, alignment, \\\n",
    "#                            phylogeny, diversity, emperor, feature_classifier, \\\n",
    "#                            taxa, composition"
   ]
  },
  {
   "cell_type": "markdown",
   "id": "d78581cc",
   "metadata": {
    "papermill": {
     "duration": 0.012105,
     "end_time": "2023-06-07T09:28:04.056491",
     "exception": false,
     "start_time": "2023-06-07T09:28:04.044386",
     "status": "completed"
    },
    "tags": []
   },
   "source": [
    "### Receiving the parameters\n",
    "\n",
    "The following cell can receive parameters using the [papermill](https://papermill.readthedocs.io/en/latest/) tool."
   ]
  },
  {
   "cell_type": "code",
   "execution_count": 3,
   "id": "e7280044",
   "metadata": {
    "ExecuteTime": {
     "end_time": "2022-09-22T21:43:54.344271Z",
     "start_time": "2022-09-22T21:43:54.332262Z"
    },
    "execution": {
     "iopub.execute_input": "2023-06-07T09:28:04.081872Z",
     "iopub.status.busy": "2023-06-07T09:28:04.081618Z",
     "iopub.status.idle": "2023-06-07T09:28:04.086143Z",
     "shell.execute_reply": "2023-06-07T09:28:04.085343Z"
    },
    "papermill": {
     "duration": 0.018982,
     "end_time": "2023-06-07T09:28:04.087706",
     "exception": false,
     "start_time": "2023-06-07T09:28:04.068724",
     "status": "completed"
    },
    "tags": [
     "parameters"
    ]
   },
   "outputs": [],
   "source": [
    "metadata_file = '/home/lauro/nupeb/rede-micro/redemicro-miliane-nutri/data/raw/metadata/miliane-metadata-CxAC.tsv'\n",
    "base_dir = os.path.join('/', 'home', 'lauro', 'nupeb', 'rede-micro', 'redemicro-miliane-nutri')\n",
    "experiment_name = 'miliane-CxAC-trim'\n",
    "replace_files = False"
   ]
  },
  {
   "cell_type": "code",
   "execution_count": 4,
   "id": "e1b18b53",
   "metadata": {
    "execution": {
     "iopub.execute_input": "2023-06-07T09:28:04.113996Z",
     "iopub.status.busy": "2023-06-07T09:28:04.113566Z",
     "iopub.status.idle": "2023-06-07T09:28:04.119811Z",
     "shell.execute_reply": "2023-06-07T09:28:04.119006Z"
    },
    "papermill": {
     "duration": 0.021034,
     "end_time": "2023-06-07T09:28:04.121369",
     "exception": false,
     "start_time": "2023-06-07T09:28:04.100335",
     "status": "completed"
    },
    "tags": [
     "injected-parameters"
    ]
   },
   "outputs": [],
   "source": [
    "# Parameters\n",
    "experiment_name = \"ana-flavia-STD-NRxHSD-NR-trim\"\n",
    "base_dir = \"/home/lauro/nupeb/rede-micro/redemicro-ana-flavia-nutri\"\n",
    "manifest_file = \"/home/lauro/nupeb/rede-micro/redemicro-ana-flavia-nutri/data/raw/manifest/manifest-ana-flavia-STD-NRxHSD-NR.csv\"\n",
    "metadata_file = \"/home/lauro/nupeb/rede-micro/redemicro-ana-flavia-nutri/data/raw/metadata/metadata-ana-flavia-STD-NRxHSD-NR.tsv\"\n",
    "class_col = \"group-id\"\n",
    "classifier_file = \"/home/lauro/nupeb/rede-micro/models/silva-138-99-nb-classifier.qza\"\n",
    "top_n = 20\n",
    "replace_files = False\n",
    "phred = 20\n",
    "trunc_f = 0\n",
    "trunc_r = 0\n",
    "overlap = 12\n",
    "threads = 6\n",
    "trim = {\n",
    "    \"overlap\": 8,\n",
    "    \"forward_primer\": \"CCTACGGGRSGCAGCAG\",\n",
    "    \"reverse_primer\": \"GGACTACHVGGGTWTCTAAT\",\n",
    "}\n"
   ]
  },
  {
   "cell_type": "code",
   "execution_count": 5,
   "id": "c51391a1",
   "metadata": {
    "ExecuteTime": {
     "end_time": "2022-09-22T21:43:54.362004Z",
     "start_time": "2022-09-22T21:43:54.346365Z"
    },
    "execution": {
     "iopub.execute_input": "2023-06-07T09:28:04.146949Z",
     "iopub.status.busy": "2023-06-07T09:28:04.146665Z",
     "iopub.status.idle": "2023-06-07T09:28:04.151386Z",
     "shell.execute_reply": "2023-06-07T09:28:04.150586Z"
    },
    "papermill": {
     "duration": 0.019525,
     "end_time": "2023-06-07T09:28:04.153023",
     "exception": false,
     "start_time": "2023-06-07T09:28:04.133498",
     "status": "completed"
    },
    "tags": []
   },
   "outputs": [],
   "source": [
    "experiment_folder = os.path.abspath(os.path.join(base_dir, 'experiments', experiment_name))\n",
    "img_folder = os.path.abspath(os.path.join(experiment_folder, 'imgs'))"
   ]
  },
  {
   "cell_type": "markdown",
   "id": "309bda41",
   "metadata": {
    "papermill": {
     "duration": 0.012004,
     "end_time": "2023-06-07T09:28:04.177414",
     "exception": false,
     "start_time": "2023-06-07T09:28:04.165410",
     "status": "completed"
    },
    "tags": []
   },
   "source": [
    "### Defining names, paths and flags"
   ]
  },
  {
   "cell_type": "code",
   "execution_count": 6,
   "id": "f6c5e79b",
   "metadata": {
    "ExecuteTime": {
     "end_time": "2022-09-22T21:43:54.373657Z",
     "start_time": "2022-09-22T21:43:54.363586Z"
    },
    "execution": {
     "iopub.execute_input": "2023-06-07T09:28:04.205922Z",
     "iopub.status.busy": "2023-06-07T09:28:04.205578Z",
     "iopub.status.idle": "2023-06-07T09:28:04.225370Z",
     "shell.execute_reply": "2023-06-07T09:28:04.224922Z"
    },
    "papermill": {
     "duration": 0.037183,
     "end_time": "2023-06-07T09:28:04.227196",
     "exception": false,
     "start_time": "2023-06-07T09:28:04.190013",
     "status": "completed"
    },
    "tags": []
   },
   "outputs": [],
   "source": [
    "# QIIME2 Artifacts folder\n",
    "qiime_folder = os.path.join(experiment_folder, 'qiime-artifacts')\n",
    "\n",
    "# Input - DADA2 Artifacts\n",
    "dada2_tabs_path = os.path.join(qiime_folder, 'dada2-tabs.qza')\n",
    "dada2_reps_path = os.path.join(qiime_folder, 'dada2-reps.qza')\n",
    "dada2_stat_path = os.path.join(qiime_folder, 'dada2-stat.qza')\n",
    "\n",
    "# Output -Rarefaction Artifacts\n",
    "alpha_rarefaction_path = os.path.join(qiime_folder, 'alpha-rarefaction.qza')\n",
    "alpha_rarefaction_view_path = os.path.join(qiime_folder, 'alpha-rarefaction.qzv')\n",
    "\n",
    "# Flag - Load or create files\n",
    "need_tax = not (os.path.isfile(alpha_rarefaction_path)) or replace_files\n",
    "need_view = not (os.path.isfile(alpha_rarefaction_view_path)) or replace_files"
   ]
  },
  {
   "cell_type": "markdown",
   "id": "754f8512",
   "metadata": {
    "papermill": {
     "duration": 0.012006,
     "end_time": "2023-06-07T09:28:04.254036",
     "exception": false,
     "start_time": "2023-06-07T09:28:04.242030",
     "status": "completed"
    },
    "tags": []
   },
   "source": [
    "## Step execution\n",
    "\n",
    "### Load input files\n",
    "\n",
    "This Step import the QIIME2 `SampleData[PairedEndSequencesWithQuality]` Artifact with all demultiplexed sequences and the `Metadata` file."
   ]
  },
  {
   "cell_type": "code",
   "execution_count": 7,
   "id": "698bbb08",
   "metadata": {
    "ExecuteTime": {
     "end_time": "2022-09-22T21:43:54.398034Z",
     "start_time": "2022-09-22T21:43:54.375240Z"
    },
    "execution": {
     "iopub.execute_input": "2023-06-07T09:28:04.278557Z",
     "iopub.status.busy": "2023-06-07T09:28:04.278402Z",
     "iopub.status.idle": "2023-06-07T09:28:04.308716Z",
     "shell.execute_reply": "2023-06-07T09:28:04.308133Z"
    },
    "papermill": {
     "duration": 0.045711,
     "end_time": "2023-06-07T09:28:04.311562",
     "exception": false,
     "start_time": "2023-06-07T09:28:04.265851",
     "status": "completed"
    },
    "tags": []
   },
   "outputs": [],
   "source": [
    "#Load Metadata\n",
    "metadata_qa = Metadata.load(metadata_file)"
   ]
  },
  {
   "cell_type": "code",
   "execution_count": 8,
   "id": "5adf519b",
   "metadata": {
    "ExecuteTime": {
     "end_time": "2022-09-22T21:43:54.827295Z",
     "start_time": "2022-09-22T21:43:54.399431Z"
    },
    "execution": {
     "iopub.execute_input": "2023-06-07T09:28:04.346607Z",
     "iopub.status.busy": "2023-06-07T09:28:04.346402Z",
     "iopub.status.idle": "2023-06-07T09:28:05.399839Z",
     "shell.execute_reply": "2023-06-07T09:28:05.398862Z"
    },
    "papermill": {
     "duration": 1.074193,
     "end_time": "2023-06-07T09:28:05.402709",
     "exception": false,
     "start_time": "2023-06-07T09:28:04.328516",
     "status": "completed"
    },
    "tags": []
   },
   "outputs": [],
   "source": [
    "tabs = Artifact.load(dada2_tabs_path)\n",
    "tabs_df = tabs.view(Metadata).to_dataframe().T"
   ]
  },
  {
   "cell_type": "markdown",
   "id": "c9175fa1",
   "metadata": {
    "papermill": {
     "duration": 0.263429,
     "end_time": "2023-06-07T09:28:05.686625",
     "exception": false,
     "start_time": "2023-06-07T09:28:05.423196",
     "status": "completed"
    },
    "tags": []
   },
   "source": [
    "## Alpha Rarefaction"
   ]
  },
  {
   "cell_type": "code",
   "execution_count": 9,
   "id": "8d6943f8",
   "metadata": {
    "ExecuteTime": {
     "end_time": "2022-09-22T21:55:53.328300Z",
     "start_time": "2022-09-22T21:55:53.318166Z"
    },
    "execution": {
     "iopub.execute_input": "2023-06-07T09:28:05.742622Z",
     "iopub.status.busy": "2023-06-07T09:28:05.742330Z",
     "iopub.status.idle": "2023-06-07T09:28:05.750712Z",
     "shell.execute_reply": "2023-06-07T09:28:05.749806Z"
    },
    "papermill": {
     "duration": 0.025518,
     "end_time": "2023-06-07T09:28:05.752990",
     "exception": false,
     "start_time": "2023-06-07T09:28:05.727472",
     "status": "completed"
    },
    "tags": []
   },
   "outputs": [],
   "source": [
    "# Get min and maximum feature counts to set sampling depth\n",
    "rank_df = tabs_df.sum().sort_values()\n",
    "min_feature_count = int(rank_df.min())\n",
    "max_feature_count = int(rank_df.max())"
   ]
  },
  {
   "cell_type": "code",
   "execution_count": 10,
   "id": "674a49d3",
   "metadata": {
    "execution": {
     "iopub.execute_input": "2023-06-07T09:28:05.783471Z",
     "iopub.status.busy": "2023-06-07T09:28:05.783149Z",
     "iopub.status.idle": "2023-06-07T09:28:05.796523Z",
     "shell.execute_reply": "2023-06-07T09:28:05.796006Z"
    },
    "papermill": {
     "duration": 0.031076,
     "end_time": "2023-06-07T09:28:05.799950",
     "exception": false,
     "start_time": "2023-06-07T09:28:05.768874",
     "status": "completed"
    },
    "tags": []
   },
   "outputs": [],
   "source": [
    "# Add new columns with samples IDs to rarefaction\n",
    "meta_df = metadata_qa.to_dataframe()\n",
    "meta_df['samples'] = meta_df.index.to_list()\n",
    "metadata_qa = Metadata(meta_df)"
   ]
  },
  {
   "cell_type": "code",
   "execution_count": 11,
   "id": "ae450bb7",
   "metadata": {
    "ExecuteTime": {
     "end_time": "2022-09-22T21:56:13.586159Z",
     "start_time": "2022-09-22T21:55:55.117935Z"
    },
    "execution": {
     "iopub.execute_input": "2023-06-07T09:28:05.831987Z",
     "iopub.status.busy": "2023-06-07T09:28:05.831817Z",
     "iopub.status.idle": "2023-06-07T09:28:24.456062Z",
     "shell.execute_reply": "2023-06-07T09:28:24.455442Z"
    },
    "papermill": {
     "duration": 18.64147,
     "end_time": "2023-06-07T09:28:24.459135",
     "exception": false,
     "start_time": "2023-06-07T09:28:05.817665",
     "status": "completed"
    },
    "tags": []
   },
   "outputs": [],
   "source": [
    "alpha_rar = alpha_rarefaction(\n",
    "    table = tabs,\n",
    "    max_depth = max_feature_count,\n",
    "    min_depth = 1,\n",
    "    metadata = metadata_qa,\n",
    ")"
   ]
  },
  {
   "cell_type": "code",
   "execution_count": 12,
   "id": "eafd5cf6",
   "metadata": {
    "ExecuteTime": {
     "end_time": "2022-09-22T21:56:13.632468Z",
     "start_time": "2022-09-22T21:56:13.589032Z"
    },
    "execution": {
     "iopub.execute_input": "2023-06-07T09:28:24.493641Z",
     "iopub.status.busy": "2023-06-07T09:28:24.493141Z",
     "iopub.status.idle": "2023-06-07T09:28:24.534902Z",
     "shell.execute_reply": "2023-06-07T09:28:24.534352Z"
    },
    "papermill": {
     "duration": 0.058337,
     "end_time": "2023-06-07T09:28:24.537891",
     "exception": false,
     "start_time": "2023-06-07T09:28:24.479554",
     "status": "completed"
    },
    "scrolled": true,
    "tags": []
   },
   "outputs": [
    {
     "data": {
      "text/html": [
       "<div><img onload=\"(function(div, url){\n",
       "if (typeof require !== 'undefined') {\n",
       "    var baseURL = require.toUrl('').split('/').slice(0, -2).join('/');\n",
       "} else {\n",
       "    var baseURL = JSON.parse(\n",
       "        document.getElementById('jupyter-config-data').innerHTML\n",
       "    ).baseUrl.slice(0, -1);\n",
       "}\n",
       "url = baseURL + url;\n",
       "fetch(url).then(function(res) {\n",
       "    if (res.status === 404) {\n",
       "        div.innerHTML = 'Install QIIME 2 Jupyter extension with:<br />' +\n",
       "                        '<code>jupyter serverextension enable --py qiime2' +\n",
       "                        ' --sys-prefix</code><br />then restart your server.' +\n",
       "                        '<br /><br />(Interactive output not available on ' +\n",
       "                        'static notebook viewer services like nbviewer.)';\n",
       "    } else if (res.status === 409) {\n",
       "        div.innerHTML = 'Visualization no longer in scope. Re-run this cell' +\n",
       "                        ' to see the visualization.';\n",
       "    } else if (res.ok) {\n",
       "        url = res.url;\n",
       "        div.innerHTML = '<iframe src=\\'' + url + '\\' style=\\'' +\n",
       "                        'width: 100%; height: 700px; border: 0;\\'>' +\n",
       "                        '</iframe><hr />Open in a: <a href=\\'' + url + '\\'' +\n",
       "                        ' target=\\'_blank\\'>new window</a>'\n",
       "    } else {\n",
       "        div.innerHTML = 'Something has gone wrong. Check notebook server for' +\n",
       "                        ' errors.';\n",
       "    }\n",
       "});\n",
       "})(this.parentElement, '/qiime2/redirect?location=/tmp/qiime2-archive-32u1cavp')\" src=\"data:image/gif;base64,R0lGODlhAQABAIAAAP///wAAACH5BAEAAAAALAAAAAABAAEAAAICRAEAOw==\" /></div>"
      ],
      "text/plain": [
       "<visualization: Visualization uuid: 3565d002-f91c-4d7a-8fa3-f0a52da21303>"
      ]
     },
     "execution_count": 12,
     "metadata": {},
     "output_type": "execute_result"
    }
   ],
   "source": [
    "alpha_rar.visualization.save(alpha_rarefaction_view_path)\n",
    "alpha_rar.visualization"
   ]
  },
  {
   "cell_type": "markdown",
   "id": "420cc866",
   "metadata": {
    "papermill": {
     "duration": 0.012892,
     "end_time": "2023-06-07T09:28:24.568755",
     "exception": false,
     "start_time": "2023-06-07T09:28:24.555863",
     "status": "completed"
    },
    "tags": []
   },
   "source": [
    "## Beta Rarefaction"
   ]
  },
  {
   "cell_type": "code",
   "execution_count": 13,
   "id": "f36bfe00",
   "metadata": {
    "ExecuteTime": {
     "end_time": "2022-09-22T21:56:19.645438Z",
     "start_time": "2022-09-22T21:56:17.687848Z"
    },
    "execution": {
     "iopub.execute_input": "2023-06-07T09:28:24.614678Z",
     "iopub.status.busy": "2023-06-07T09:28:24.614389Z",
     "iopub.status.idle": "2023-06-07T09:28:26.428282Z",
     "shell.execute_reply": "2023-06-07T09:28:26.427764Z"
    },
    "papermill": {
     "duration": 1.829958,
     "end_time": "2023-06-07T09:28:26.430692",
     "exception": false,
     "start_time": "2023-06-07T09:28:24.600734",
     "status": "completed"
    },
    "tags": []
   },
   "outputs": [
    {
     "data": {
      "image/png": "[encoded data removed]",
      "text/plain": [
       "<Figure size 432x288 with 2 Axes>"
      ]
     },
     "metadata": {
      "needs_background": "light"
     },
     "output_type": "display_data"
    }
   ],
   "source": [
    "choices = ('matching', 'aitchison', 'euclidean', 'generalized_unifrac', 'canberra', 'russellrao', 'braycurtis', 'cosine', 'jensenshannon', 'yule', 'weighted_normalized_unifrac', 'unweighted_unifrac', 'hamming', 'weighted_unifrac', 'cityblock', 'sokalmichener', 'seuclidean', 'rogerstanimoto', 'correlation', 'minkowski', 'kulsinski', 'chebyshev', 'sqeuclidean', 'sokalsneath', 'jaccard', 'dice', 'canberra_adkins')\n",
    "clustering_methods = ('nj', 'upgma')\n",
    "correlation_methods = ('pearson', 'spearman')\n",
    "\n",
    "sampling_depth = max(min_feature_count, 1)\n",
    "metric = 'braycurtis'\n",
    "clustering_method = clustering_methods[0]\n",
    "correlation_method = correlation_methods[1]\n",
    "\n",
    "beta_rar = beta_rarefaction(\n",
    "    table = tabs,\n",
    "    sampling_depth  = sampling_depth,\n",
    "    metadata = metadata_qa,\n",
    "    metric = metric,\n",
    "    clustering_method = clustering_method,\n",
    "    correlation_method = correlation_method,\n",
    ")"
   ]
  },
  {
   "cell_type": "markdown",
   "id": "c27cfdbf",
   "metadata": {
    "papermill": {
     "duration": 0.013467,
     "end_time": "2023-06-07T09:28:26.460814",
     "exception": false,
     "start_time": "2023-06-07T09:28:26.447347",
     "status": "completed"
    },
    "tags": []
   },
   "source": [
    " ## Beta diversity PCoA\n",
    " Ellipses represent 95% confidence intervals."
   ]
  },
  {
   "cell_type": "code",
   "execution_count": 14,
   "id": "ceb5fd6b",
   "metadata": {
    "ExecuteTime": {
     "end_time": "2022-09-22T21:56:22.170995Z",
     "start_time": "2022-09-22T21:56:22.048827Z"
    },
    "execution": {
     "iopub.execute_input": "2023-06-07T09:28:26.489740Z",
     "iopub.status.busy": "2023-06-07T09:28:26.489461Z",
     "iopub.status.idle": "2023-06-07T09:28:26.592557Z",
     "shell.execute_reply": "2023-06-07T09:28:26.592009Z"
    },
    "papermill": {
     "duration": 0.119084,
     "end_time": "2023-06-07T09:28:26.593962",
     "exception": false,
     "start_time": "2023-06-07T09:28:26.474878",
     "status": "completed"
    },
    "tags": []
   },
   "outputs": [
    {
     "data": {
      "text/html": [
       "<div><img onload=\"(function(div, url){\n",
       "if (typeof require !== 'undefined') {\n",
       "    var baseURL = require.toUrl('').split('/').slice(0, -2).join('/');\n",
       "} else {\n",
       "    var baseURL = JSON.parse(\n",
       "        document.getElementById('jupyter-config-data').innerHTML\n",
       "    ).baseUrl.slice(0, -1);\n",
       "}\n",
       "url = baseURL + url;\n",
       "fetch(url).then(function(res) {\n",
       "    if (res.status === 404) {\n",
       "        div.innerHTML = 'Install QIIME 2 Jupyter extension with:<br />' +\n",
       "                        '<code>jupyter serverextension enable --py qiime2' +\n",
       "                        ' --sys-prefix</code><br />then restart your server.' +\n",
       "                        '<br /><br />(Interactive output not available on ' +\n",
       "                        'static notebook viewer services like nbviewer.)';\n",
       "    } else if (res.status === 409) {\n",
       "        div.innerHTML = 'Visualization no longer in scope. Re-run this cell' +\n",
       "                        ' to see the visualization.';\n",
       "    } else if (res.ok) {\n",
       "        url = res.url;\n",
       "        div.innerHTML = '<iframe src=\\'' + url + '\\' style=\\'' +\n",
       "                        'width: 100%; height: 700px; border: 0;\\'>' +\n",
       "                        '</iframe><hr />Open in a: <a href=\\'' + url + '\\'' +\n",
       "                        ' target=\\'_blank\\'>new window</a>'\n",
       "    } else {\n",
       "        div.innerHTML = 'Something has gone wrong. Check notebook server for' +\n",
       "                        ' errors.';\n",
       "    }\n",
       "});\n",
       "})(this.parentElement, '/qiime2/redirect?location=/tmp/qiime2-archive-t8ix219x')\" src=\"data:image/gif;base64,R0lGODlhAQABAIAAAP///wAAACH5BAEAAAAALAAAAAABAAEAAAICRAEAOw==\" /></div>"
      ],
      "text/plain": [
       "<visualization: Visualization uuid: 949c1672-6cbe-4f53-89c0-4be03edac079>"
      ]
     },
     "execution_count": 14,
     "metadata": {},
     "output_type": "execute_result"
    }
   ],
   "source": [
    "plot_tmp = f'{metric}-{clustering_method}-{correlation_method}-{sampling_depth}'\n",
    "beta_rarefaction_view_path = os.path.join(qiime_folder, f'beta-rarefaction-{plot_tmp}.qzv')\n",
    "beta_rar.visualization.save(beta_rarefaction_view_path)\n",
    "\n",
    "beta_rar.visualization"
   ]
  }
 ],
 "metadata": {
  "celltoolbar": "Edit Metadata",
  "kernelspec": {
   "display_name": "Python 3 (ipykernel)",
   "language": "python",
   "name": "python3"
  },
  "language_info": {
   "codemirror_mode": {
    "name": "ipython",
    "version": 3
   },
   "file_extension": ".py",
   "mimetype": "text/x-python",
   "name": "python",
   "nbconvert_exporter": "python",
   "pygments_lexer": "ipython3",
   "version": "3.8.12"
  },
  "papermill": {
   "default_parameters": {},
   "duration": 31.46114,
   "end_time": "2023-06-07T09:28:27.328061",
   "environment_variables": {},
   "exception": null,
   "input_path": "nb-templates/step-rarefaction-analysis.ipynb",
   "output_path": "/home/lauro/nupeb/rede-micro/redemicro-ana-flavia-nutri/experiments/ana-flavia-STD-NRxHSD-NR-trim/nb-executed-steps/step-rarefaction-analysis-ana-flavia-STD-NRxHSD-NR-trim.ipynb",
   "parameters": {
    "base_dir": "/home/lauro/nupeb/rede-micro/redemicro-ana-flavia-nutri",
    "class_col": "group-id",
    "classifier_file": "/home/lauro/nupeb/rede-micro/models/silva-138-99-nb-classifier.qza",
    "experiment_name": "ana-flavia-STD-NRxHSD-NR-trim",
    "manifest_file": "/home/lauro/nupeb/rede-micro/redemicro-ana-flavia-nutri/data/raw/manifest/manifest-ana-flavia-STD-NRxHSD-NR.csv",
    "metadata_file": "/home/lauro/nupeb/rede-micro/redemicro-ana-flavia-nutri/data/raw/metadata/metadata-ana-flavia-STD-NRxHSD-NR.tsv",
    "overlap": 12,
    "phred": 20,
    "replace_files": false,
    "threads": 6,
    "top_n": 20,
    "trim": {
     "forward_primer": "CCTACGGGRSGCAGCAG",
     "overlap": 8,
     "reverse_primer": "GGACTACHVGGGTWTCTAAT"
    },
    "trunc_f": 0,
    "trunc_r": 0
   },
   "start_time": "2023-06-07T09:27:55.866921",
   "version": "2.3.4"
  },
  "toc-autonumbering": false,
  "toc-showcode": false,
  "toc-showmarkdowntxt": false
 },
 "nbformat": 4,
 "nbformat_minor": 5
}