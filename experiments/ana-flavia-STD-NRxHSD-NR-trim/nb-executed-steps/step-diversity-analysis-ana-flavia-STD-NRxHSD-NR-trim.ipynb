{
 "cells": [
  {
   "cell_type": "markdown",
   "id": "15bcfa06",
   "metadata": {
    "papermill": {
     "duration": 0.020356,
     "end_time": "2023-08-23T19:09:12.855324",
     "exception": false,
     "start_time": "2023-08-23T19:09:12.834968",
     "status": "completed"
    },
    "tags": []
   },
   "source": [
    " \n",
    "# Alpha and Beta Diversity\n",
    "\n",
    "Different higher-level measures are often used to describe the microbiome in a sample. These do not provide information on changes in the abundance of specific taxa but allow us to access a broader change or difference in the composition of microorganisms. Alpha and beta diversity are examples of such measures.\n",
    "\n",
    "Different measures exist to estimate diversity within a single sample, jointly called alpha diversity. The different measures reflect the richness (number) or distribution (evenness) of a microbial sample or aim to reflect a combination of both properties.\n",
    "\n",
    "Rarefaction curves are often used when calculating alpha diversity indices because increasing numbers of sequenced taxa allow increasingly accurate estimates of total population diversity. Rarefaction curves can therefore be used to estimate the full sample richness, as compared to the observed sample richness.\n",
    "\n",
    "While alpha diversity is a measure of microbiome diversity applicable to a single sample, beta diversity is a measure of the similarity or dissimilarity of two communities. As for alpha diversity, many indices exist, each reflecting different aspects of community heterogeneity. Key differences relate to how the indices value variation in rare species if they consider presence/absence only or incorporate abundance, and how they interpret shared absence. Bray-Curtis dissimilarity is a popular measure that considers both size (overall abundance per sample) and shape (abundance of each taxon) of the communities (Bray, 1957). Beta diversity is an essential measure for many popular statistical methods in ecology, such as ordination-based methods, and is widely used for studying the association between environmental variables and microbial composition.\n",
    "\n",
    "In summary, alpha diversity measures can be seen as a summary statistic of a single population (within-sample diversity), while beta diversity measures are estimates of similarity or dissimilarity between populations (between samples).\n",
    "\n",
    "**Source**: (https://biomcare.com/info/key-terms-in-microbiome-projects/)"
   ]
  },
  {
   "cell_type": "markdown",
   "id": "0e7f2330",
   "metadata": {
    "ExecuteTime": {
     "end_time": "2022-09-22T19:36:33.828188Z",
     "start_time": "2022-09-22T19:36:33.817323Z"
    },
    "papermill": {
     "duration": 0.014685,
     "end_time": "2023-08-23T19:09:12.885244",
     "exception": false,
     "start_time": "2023-08-23T19:09:12.870559",
     "status": "completed"
    },
    "tags": []
   },
   "source": [
    "### STEP : Diversity Analysis\n",
    "\n",
    "Using QIIME2 to create diversity analisys graphs and calculations.\n",
    "\n",
    "- [QIIME2 Workflow Overview](https://docs.qiime2.org/2022.8/tutorials/overview/)\n",
    "\n",
    "\n",
    "#### Methods\n",
    "- [diversity](https://docs.qiime2.org/2022.8/plugins/available/diversity/)\n",
    "- [diversity alpha](https://docs.qiime2.org/2022.8/plugins/available/diversity/alpha/)\n",
    "- [diversity alpha_phylogenetic](https://docs.qiime2.org/2022.8/plugins/available/diversity/alpha-phylogenetic/)\n",
    "- [diversity beta](https://docs.qiime2.org/2022.8/plugins/available/diversity/beta/)\n",
    "- [diversity core_metrics](https://docs.qiime2.org/2022.8/plugins/available/diversity/core-metrics/)\n",
    "- [diversity alpha_group_significance](https://docs.qiime2.org/2022.8/plugins/available/diversity/alpha-group-significance/)\n",
    "- [diversity beta_group_significance](https://docs.qiime2.org/2022.8/plugins/available/diversity/beta-group-significance/)\n",
    "- [feature_table core_features](https://docs.qiime2.org/2022.8/plugins/available/feature-table/core-features/)\n",
    "- [feature_table summarize](https://docs.qiime2.org/2022.8/plugins/available/feature-table/summarize/)\n",
    "- [taxa filter-table](https://docs.qiime2.org/2022.8/plugins/available/taxa/filter-table/)\n",
    "- [taxa collapse](https://docs.qiime2.org/2022.8/plugins/available/taxa/collapse/)"
   ]
  },
  {
   "cell_type": "markdown",
   "id": "843debbf",
   "metadata": {
    "papermill": {
     "duration": 0.013991,
     "end_time": "2023-08-23T19:09:12.913466",
     "exception": false,
     "start_time": "2023-08-23T19:09:12.899475",
     "status": "completed"
    },
    "tags": []
   },
   "source": [
    "## Setup and settings"
   ]
  },
  {
   "cell_type": "code",
   "execution_count": 1,
   "id": "965e28e5",
   "metadata": {
    "ExecuteTime": {
     "end_time": "2022-11-03T20:35:26.198671Z",
     "start_time": "2022-11-03T20:35:06.473173Z"
    },
    "execution": {
     "iopub.execute_input": "2023-08-23T19:09:12.949298Z",
     "iopub.status.busy": "2023-08-23T19:09:12.948791Z",
     "iopub.status.idle": "2023-08-23T19:09:29.276342Z",
     "shell.execute_reply": "2023-08-23T19:09:29.275324Z"
    },
    "papermill": {
     "duration": 16.352346,
     "end_time": "2023-08-23T19:09:29.279647",
     "exception": false,
     "start_time": "2023-08-23T19:09:12.927301",
     "status": "completed"
    },
    "tags": []
   },
   "outputs": [],
   "source": [
    "# Importing packages\n",
    "import os\n",
    "import pandas as pd\n",
    "from qiime2 import Artifact\n",
    "from qiime2 import Visualization\n",
    "from qiime2 import Metadata\n",
    "\n",
    "from qiime2.plugins.phylogeny.pipelines import align_to_tree_mafft_fasttree\n",
    "\n",
    "from qiime2.plugins.diversity.pipelines import alpha\n",
    "from qiime2.plugins.diversity.pipelines import beta\n",
    "from qiime2.plugins.diversity.pipelines import core_metrics\n",
    "from qiime2.plugins.diversity.pipelines import alpha_phylogenetic\n",
    "\n",
    "from qiime2.plugins.diversity.visualizers import alpha_group_significance\n",
    "from qiime2.plugins.diversity.visualizers import beta_group_significance\n",
    "from qiime2.plugins.diversity.visualizers import alpha_correlation\n",
    "from qiime2.plugins.diversity.visualizers import beta_rarefaction\n",
    "\n",
    "from qiime2.plugins.taxa.methods import filter_table\n",
    "from qiime2.plugins.taxa.methods import collapse\n",
    "\n",
    "from qiime2.plugins.feature_table.visualizers import tabulate_seqs\n",
    "from qiime2.plugins.feature_table.visualizers import summarize\n",
    "from qiime2.plugins.feature_table.visualizers import core_features\n",
    "\n",
    "from qiime2.plugins.alignment.methods import mafft\n",
    "\n",
    "\n",
    "import matplotlib.pyplot as plt\n",
    "\n",
    "%matplotlib inline"
   ]
  },
  {
   "cell_type": "markdown",
   "id": "530ceb60",
   "metadata": {
    "papermill": {
     "duration": 0.016227,
     "end_time": "2023-08-23T19:09:29.317890",
     "exception": false,
     "start_time": "2023-08-23T19:09:29.301663",
     "status": "completed"
    },
    "tags": []
   },
   "source": [
    "### Receiving the parameters\n",
    "\n",
    "The following cell can receive parameters using the [papermill](https://papermill.readthedocs.io/en/latest/) tool."
   ]
  },
  {
   "cell_type": "code",
   "execution_count": 2,
   "id": "18d874ea",
   "metadata": {
    "ExecuteTime": {
     "end_time": "2022-09-29T20:54:14.793270Z",
     "start_time": "2022-09-29T20:54:14.789367Z"
    },
    "execution": {
     "iopub.execute_input": "2023-08-23T19:09:29.350937Z",
     "iopub.status.busy": "2023-08-23T19:09:29.350440Z",
     "iopub.status.idle": "2023-08-23T19:09:29.355819Z",
     "shell.execute_reply": "2023-08-23T19:09:29.355025Z"
    },
    "papermill": {
     "duration": 0.023802,
     "end_time": "2023-08-23T19:09:29.357435",
     "exception": false,
     "start_time": "2023-08-23T19:09:29.333633",
     "status": "completed"
    },
    "tags": [
     "parameters"
    ]
   },
   "outputs": [],
   "source": [
    "base_dir = os.path.join('/', 'home')\n",
    "metadata_file = os.path.abspath(os.path.join(base_dir, 'data', 'metadatada.tsv'))\n",
    "experiment_name = ''\n",
    "class_col = ''\n",
    "replace_files = False"
   ]
  },
  {
   "cell_type": "code",
   "execution_count": 3,
   "id": "9053c2a7",
   "metadata": {
    "execution": {
     "iopub.execute_input": "2023-08-23T19:09:29.391274Z",
     "iopub.status.busy": "2023-08-23T19:09:29.390966Z",
     "iopub.status.idle": "2023-08-23T19:09:29.396646Z",
     "shell.execute_reply": "2023-08-23T19:09:29.395864Z"
    },
    "papermill": {
     "duration": 0.023745,
     "end_time": "2023-08-23T19:09:29.398318",
     "exception": false,
     "start_time": "2023-08-23T19:09:29.374573",
     "status": "completed"
    },
    "tags": [
     "injected-parameters"
    ]
   },
   "outputs": [],
   "source": [
    "# Parameters\n",
    "experiment_name = \"ana-flavia-STD-NRxHSD-NR-trim\"\n",
    "base_dir = \"/home/lauro/nupeb/rede-micro/redemicro-ana-flavia-nutri\"\n",
    "manifest_file = \"/home/lauro/nupeb/rede-micro/redemicro-ana-flavia-nutri/data/raw/manifest/manifest-ana-flavia-STD-NRxHSD-NR.csv\"\n",
    "metadata_file = \"/home/lauro/nupeb/rede-micro/redemicro-ana-flavia-nutri/data/raw/metadata/metadata-ana-flavia-STD-NRxHSD-NR.tsv\"\n",
    "class_col = \"group-id\"\n",
    "classifier_file = \"/home/lauro/nupeb/rede-micro/models/silva-138-99-nb-classifier.qza\"\n",
    "top_n = 20\n",
    "replace_files = False\n",
    "phred = 20\n",
    "trunc_f = 0\n",
    "trunc_r = 0\n",
    "overlap = 12\n",
    "threads = 6\n",
    "trim = {\n",
    "    \"overlap\": 8,\n",
    "    \"forward_primer\": \"CCTACGGGRSGCAGCAG\",\n",
    "    \"reverse_primer\": \"GGACTACHVGGGTWTCTAAT\",\n",
    "}\n"
   ]
  },
  {
   "cell_type": "code",
   "execution_count": 4,
   "id": "f38617d9",
   "metadata": {
    "ExecuteTime": {
     "end_time": "2022-09-29T20:54:14.804575Z",
     "start_time": "2022-09-29T20:54:14.794927Z"
    },
    "execution": {
     "iopub.execute_input": "2023-08-23T19:09:29.432260Z",
     "iopub.status.busy": "2023-08-23T19:09:29.431951Z",
     "iopub.status.idle": "2023-08-23T19:09:29.436714Z",
     "shell.execute_reply": "2023-08-23T19:09:29.435577Z"
    },
    "papermill": {
     "duration": 0.024083,
     "end_time": "2023-08-23T19:09:29.439283",
     "exception": false,
     "start_time": "2023-08-23T19:09:29.415200",
     "status": "completed"
    },
    "tags": []
   },
   "outputs": [],
   "source": [
    "experiment_folder = os.path.abspath(os.path.join(base_dir, 'experiments', experiment_name))\n",
    "img_folder = os.path.abspath(os.path.join(experiment_folder, 'imgs'))"
   ]
  },
  {
   "cell_type": "markdown",
   "id": "ea9b90fb",
   "metadata": {
    "papermill": {
     "duration": 0.015686,
     "end_time": "2023-08-23T19:09:29.473937",
     "exception": false,
     "start_time": "2023-08-23T19:09:29.458251",
     "status": "completed"
    },
    "tags": []
   },
   "source": [
    "### Defining names, paths and flags"
   ]
  },
  {
   "cell_type": "code",
   "execution_count": 5,
   "id": "45727eef",
   "metadata": {
    "ExecuteTime": {
     "end_time": "2022-09-29T20:54:14.816686Z",
     "start_time": "2022-09-29T20:54:14.806238Z"
    },
    "execution": {
     "iopub.execute_input": "2023-08-23T19:09:29.506613Z",
     "iopub.status.busy": "2023-08-23T19:09:29.506202Z",
     "iopub.status.idle": "2023-08-23T19:09:29.516238Z",
     "shell.execute_reply": "2023-08-23T19:09:29.515348Z"
    },
    "papermill": {
     "duration": 0.028577,
     "end_time": "2023-08-23T19:09:29.518284",
     "exception": false,
     "start_time": "2023-08-23T19:09:29.489707",
     "status": "completed"
    },
    "tags": []
   },
   "outputs": [
    {
     "name": "stdout",
     "output_type": "stream",
     "text": [
      "The new directory is created in /home/lauro/nupeb/rede-micro/redemicro-ana-flavia-nutri/experiments/ana-flavia-STD-NRxHSD-NR-trim/qiime-artifacts/alpha-analysis\n",
      "The new directory is created in /home/lauro/nupeb/rede-micro/redemicro-ana-flavia-nutri/experiments/ana-flavia-STD-NRxHSD-NR-trim/qiime-artifacts/beta-analysis\n"
     ]
    }
   ],
   "source": [
    "# QIIME2 Artifacts folder\n",
    "qiime_folder = os.path.join(experiment_folder, 'qiime-artifacts')\n",
    "\n",
    "# Input - DADA2 Artifacts\n",
    "dada2_tabs_path = os.path.join(qiime_folder, 'dada2-tabs.qza')\n",
    "dada2_reps_path = os.path.join(qiime_folder, 'dada2-reps.qza')\n",
    "dada2_stat_path = os.path.join(qiime_folder, 'dada2-stat.qza')\n",
    "\n",
    "# Input - Taxonaomic Artifacts\n",
    "taxonomy_path = os.path.join(qiime_folder, 'metatax.qza')\n",
    "\n",
    "# Create folder to store Alpha files\n",
    "alpha_path = os.path.join(qiime_folder, 'alpha-analysis')\n",
    "if not os.path.exists(alpha_path):\n",
    "    os.makedirs(alpha_path)\n",
    "    print(f'The new directory is created in {alpha_path}')\n",
    "    \n",
    "# Create folder to store Beta files\n",
    "beta_path = os.path.join(qiime_folder, 'beta-analysis')\n",
    "if not os.path.exists(beta_path):\n",
    "    os.makedirs(beta_path)\n",
    "    print(f'The new directory is created in {beta_path}')\n",
    "\n",
    "# Output -Diversity Artifacts\n",
    "alpha_diversity_path = os.path.join(alpha_path, 'alpha-diversity.qza')\n",
    "alpha_diversity_view_path = os.path.join(alpha_path, 'alpha-diversity.qzv')\n",
    "beta_diversity_path = os.path.join(beta_path, 'beta-diversity.qza')\n",
    "beta_diversity_view_path = os.path.join(beta_path, 'beta-diversity.qzv')"
   ]
  },
  {
   "cell_type": "code",
   "execution_count": 6,
   "id": "601ae263",
   "metadata": {
    "ExecuteTime": {
     "end_time": "2022-09-29T20:54:14.829117Z",
     "start_time": "2022-09-29T20:54:14.818272Z"
    },
    "execution": {
     "iopub.execute_input": "2023-08-23T19:09:29.554702Z",
     "iopub.status.busy": "2023-08-23T19:09:29.554372Z",
     "iopub.status.idle": "2023-08-23T19:09:29.563594Z",
     "shell.execute_reply": "2023-08-23T19:09:29.562676Z"
    },
    "papermill": {
     "duration": 0.027834,
     "end_time": "2023-08-23T19:09:29.565689",
     "exception": false,
     "start_time": "2023-08-23T19:09:29.537855",
     "status": "completed"
    },
    "tags": []
   },
   "outputs": [],
   "source": [
    "def filter_and_collapse(tab, seqs, tax, meta, lvl, exclude=True, exclude_list='uncultured,unidentified,metagenome'):\n",
    "    from qiime2.plugins.taxa.methods import collapse\n",
    "    from qiime2.plugins.taxa.methods import filter_table\n",
    "    from qiime2.plugins.feature_table.methods import filter_seqs\n",
    "    from qiime2.plugins.feature_table.visualizers import summarize\n",
    "    \n",
    "    to_include = ('d', 'p', 'c', 'o', 'f', 'g', 's')[lvl-1]\n",
    "    to_include += '__'\n",
    "    to_exclude = exclude_list if exclude else None\n",
    "    \n",
    "    filtered_tabs = filter_table(\n",
    "        table=tab, \n",
    "        taxonomy=tax,\n",
    "        include=to_include,\n",
    "        exclude=to_exclude,\n",
    "        mode='contains').filtered_table\n",
    "    \n",
    "    filtered_seqs = filter_seqs(\n",
    "        data = seqs,\n",
    "        table = filtered_tabs,\n",
    "    ).filtered_data\n",
    "    \n",
    "    collapsed_table = collapse(table=filtered_tabs, taxonomy=tax, level=lvl).collapsed_table\n",
    "    collapsed_table_view = summarize(table=collapsed_table, sample_metadata=meta).visualization\n",
    "    \n",
    "    return collapsed_table, collapsed_table_view, filtered_seqs"
   ]
  },
  {
   "cell_type": "markdown",
   "id": "0999a1b2",
   "metadata": {
    "papermill": {
     "duration": 0.01557,
     "end_time": "2023-08-23T19:09:29.600460",
     "exception": false,
     "start_time": "2023-08-23T19:09:29.584890",
     "status": "completed"
    },
    "tags": []
   },
   "source": [
    "## Step execution\n",
    "\n",
    "### Load input files\n",
    "\n",
    "This Step import the QIIME2 `FeatureTable[Frequency]` Artifact and the `Metadata` file."
   ]
  },
  {
   "cell_type": "code",
   "execution_count": 7,
   "id": "8f299d1a",
   "metadata": {
    "ExecuteTime": {
     "end_time": "2022-09-29T20:54:15.559837Z",
     "start_time": "2022-09-29T20:54:14.830405Z"
    },
    "execution": {
     "iopub.execute_input": "2023-08-23T19:09:29.633096Z",
     "iopub.status.busy": "2023-08-23T19:09:29.632502Z",
     "iopub.status.idle": "2023-08-23T19:09:31.252848Z",
     "shell.execute_reply": "2023-08-23T19:09:31.251899Z"
    },
    "papermill": {
     "duration": 1.64001,
     "end_time": "2023-08-23T19:09:31.255932",
     "exception": false,
     "start_time": "2023-08-23T19:09:29.615922",
     "status": "completed"
    },
    "tags": []
   },
   "outputs": [],
   "source": [
    "#Load Metadata\n",
    "metadata_qa = Metadata.load(metadata_file)\n",
    "\n",
    "#Load FeatureTable[Frequency]\n",
    "tabs = Artifact.load(dada2_tabs_path)\n",
    "tabs_df = tabs.view(Metadata).to_dataframe().T\n",
    "\n",
    "# FeatureData[Sequence]\n",
    "reps = Artifact.load(dada2_reps_path)\n",
    "\n",
    "# FeatureData[Taxonomy]\n",
    "tax = Artifact.load(taxonomy_path)"
   ]
  },
  {
   "cell_type": "code",
   "execution_count": 8,
   "id": "c8dfe530",
   "metadata": {
    "ExecuteTime": {
     "end_time": "2022-09-29T20:54:15.564968Z",
     "start_time": "2022-09-29T20:54:15.561875Z"
    },
    "execution": {
     "iopub.execute_input": "2023-08-23T19:09:31.297730Z",
     "iopub.status.busy": "2023-08-23T19:09:31.297484Z",
     "iopub.status.idle": "2023-08-23T19:09:31.300751Z",
     "shell.execute_reply": "2023-08-23T19:09:31.299942Z"
    },
    "papermill": {
     "duration": 0.022287,
     "end_time": "2023-08-23T19:09:31.302568",
     "exception": false,
     "start_time": "2023-08-23T19:09:31.280281",
     "status": "completed"
    },
    "tags": []
   },
   "outputs": [],
   "source": [
    "# lvl = 7\n",
    "# exclude = True\n",
    "# tabs, collapsed_table_view, reps = filter_and_collapse(\n",
    "#                     tabs, reps, tax, metadata_qa, \n",
    "#                     lvl=lvl,\n",
    "#                     exclude=exclude, \n",
    "#                     exclude_list='uncultured,unidentified,metagenome')\n",
    "# collapsed_table_view"
   ]
  },
  {
   "cell_type": "markdown",
   "id": "9f43843a",
   "metadata": {
    "ExecuteTime": {
     "end_time": "2022-09-22T22:48:07.523952Z",
     "start_time": "2022-09-22T22:48:07.517565Z"
    },
    "papermill": {
     "duration": 0.01613,
     "end_time": "2023-08-23T19:09:31.335085",
     "exception": false,
     "start_time": "2023-08-23T19:09:31.318955",
     "status": "completed"
    },
    "tags": []
   },
   "source": [
    "## Alpha diversity analysis\n",
    "\n",
    "#### Reference\n",
    "- [The Use and Types of Alpha-Diversity Metrics in Microbial NGS](https://www.cd-genomics.com/microbioseq/the-use-and-types-of-alpha-diversity-metrics-in-microbial-ngs.html)\n",
    "- [Alpha diversity metrics](http://scikit-bio.org/docs/0.2.0/generated/skbio.diversity.alpha.html)\n",
    "\n",
    "#### Methods\n",
    "- [diversity alpha](https://docs.qiime2.org/2022.8/plugins/available/diversity/alpha/): Computes a user-specified alpha diversity metric for all samples in a\n",
    "feature table.\n",
    "- [diversity alpha_phylogenetic](https://docs.qiime2.org/2022.8/plugins/available/diversity/alpha-phylogenetic/): Computes a user-specified phylogenetic alpha diversity metric for all\n",
    "samples in a feature table.\n",
    "- [diversity alpha_correlation](https://docs.qiime2.org/2022.8/plugins/available/diversity/alpha-correlation/): Determine whether numeric sample metadata columns are correlated with alpha diversity.\n",
    "- [diversity alpha_group_significance](https://docs.qiime2.org/2022.8/plugins/available/diversity/alpha-group-significance/): Visually and statistically compare groups of alpha diversity values."
   ]
  },
  {
   "cell_type": "markdown",
   "id": "606b9c75",
   "metadata": {
    "papermill": {
     "duration": 0.016181,
     "end_time": "2023-08-23T19:09:31.367659",
     "exception": false,
     "start_time": "2023-08-23T19:09:31.351478",
     "status": "completed"
    },
    "tags": []
   },
   "source": [
    "### Compute Alpha Diversity vectors\n",
    "- [diversity alpha](https://docs.qiime2.org/2022.8/plugins/available/diversity/alpha/): Computes a user-specified alpha diversity metric for all samples in a feature table.\n",
    "- [Alpha diversity metrics](http://scikit-bio.org/docs/0.2.0/generated/skbio.diversity.alpha.html)\n",
    " - Choices: ('ace', 'berger_parker_d', 'brillouin_d', 'chao1', 'chao1_ci', 'dominance', 'doubles', 'enspie', 'esty_ci', 'fisher_alpha', 'gini_index', 'goods_coverage', 'heip_e', 'kempton_taylor_q', 'lladser_pe', 'margalef', 'mcintosh_d', 'mcintosh_e', 'menhinick', 'michaelis_menten_fit', 'observed_features', 'osd', 'pielou_e', 'robbins', 'shannon', 'simpson', 'simpson_e', 'singles', 'strong')"
   ]
  },
  {
   "cell_type": "code",
   "execution_count": 9,
   "id": "556e5264",
   "metadata": {
    "ExecuteTime": {
     "end_time": "2022-09-29T20:54:20.790166Z",
     "start_time": "2022-09-29T20:54:20.451134Z"
    },
    "execution": {
     "iopub.execute_input": "2023-08-23T19:09:31.401433Z",
     "iopub.status.busy": "2023-08-23T19:09:31.401210Z",
     "iopub.status.idle": "2023-08-23T19:09:32.143384Z",
     "shell.execute_reply": "2023-08-23T19:09:32.142655Z"
    },
    "papermill": {
     "duration": 0.762302,
     "end_time": "2023-08-23T19:09:32.146334",
     "exception": false,
     "start_time": "2023-08-23T19:09:31.384032",
     "status": "completed"
    },
    "tags": []
   },
   "outputs": [
    {
     "name": "stdout",
     "output_type": "stream",
     "text": [
      "Calculating alpha diversity: chao1\n",
      "DONE: Calculating alpha diversity: chao1\n",
      "Calculating alpha diversity: observed_features\n"
     ]
    },
    {
     "name": "stdout",
     "output_type": "stream",
     "text": [
      "DONE: Calculating alpha diversity: observed_features\n",
      "Calculating alpha diversity: shannon\n",
      "DONE: Calculating alpha diversity: shannon\n",
      "Calculating alpha diversity: simpson\n",
      "DONE: Calculating alpha diversity: simpson\n",
      "Calculating alpha diversity: dominance\n"
     ]
    },
    {
     "name": "stdout",
     "output_type": "stream",
     "text": [
      "DONE: Calculating alpha diversity: dominance\n",
      "Calculating alpha diversity: gini_index\n",
      "DONE: Calculating alpha diversity: gini_index\n",
      "Calculating alpha diversity: goods_coverage\n",
      "DONE: Calculating alpha diversity: goods_coverage\n",
      "Calculating alpha diversity: singles\n"
     ]
    },
    {
     "name": "stdout",
     "output_type": "stream",
     "text": [
      "DONE: Calculating alpha diversity: singles\n",
      "Calculating alpha diversity: strong\n",
      "DONE: Calculating alpha diversity: strong\n"
     ]
    }
   ],
   "source": [
    "metrics = ('ace', 'berger_parker_d', 'brillouin_d', 'chao1', 'chao1_ci', 'dominance', 'doubles', 'enspie', 'esty_ci', 'fisher_alpha', 'gini_index', 'goods_coverage', 'heip_e', 'kempton_taylor_q', 'lladser_pe', 'margalef', 'mcintosh_d', 'mcintosh_e', 'menhinick', 'michaelis_menten_fit', 'observed_features', 'osd', 'pielou_e', 'robbins', 'shannon', 'simpson', 'simpson_e', 'singles', 'strong')\n",
    "metrics = ('chao1', 'observed_features', 'shannon', 'simpson', 'dominance', 'gini_index', 'goods_coverage', 'singles', 'strong')\n",
    "alpha_diversities = dict()\n",
    "for metric in metrics:\n",
    "    print(f\"Calculating alpha diversity: {metric}\")\n",
    "    try:\n",
    "        alpha_diversity = alpha(table=tabs, metric=metric).alpha_diversity\n",
    "        alpha_diversities[metric] = alpha_diversity\n",
    "        # Save SampleData[AlphaDiversity] Artifact\n",
    "        file_path = os.path.join(alpha_path, f'alpha-values-{metric}.qza')\n",
    "        alpha_diversity.save(file_path)\n",
    "        print(f\"DONE: Calculating alpha diversity: {metric}\")\n",
    "    except Exception as e:\n",
    "        print(f\"ERROR: Calculating alpha diversity: {metric}\")\n",
    "        print(e)"
   ]
  },
  {
   "cell_type": "markdown",
   "id": "184bcb7b",
   "metadata": {
    "papermill": {
     "duration": 0.017393,
     "end_time": "2023-08-23T19:09:32.187449",
     "exception": false,
     "start_time": "2023-08-23T19:09:32.170056",
     "status": "completed"
    },
    "tags": []
   },
   "source": [
    "### Create Phylogenetic inference\n",
    "\n",
    "- [alignment align_to_tree_mafft_fasttree](https://docs.qiime2.org/2022.8/plugins/available/phylogeny/align-to-tree-mafft-fasttree/): Build a phylogenetic tree using fasttree and mafft alignment\n",
    "\n",
    "This pipeline will start by creating a sequence alignment using MAFFT,\n",
    "after which any alignment columns that are phylogenetically uninformative\n",
    "or ambiguously aligned will be removed (masked). The resulting masked\n",
    "alignment will be used to infer a phylogenetic tree and then subsequently\n",
    "rooted at its midpoint. Output files from each step of the pipeline will be\n",
    "saved. This includes both the unmasked and masked MAFFT alignment from\n",
    "q2-alignment methods, and both the rooted and unrooted phylogenies from\n",
    "q2-phylogeny methods.\n",
    "\n",
    "\n",
    "Returns\n",
    "- alignment : FeatureData[AlignedSequence] : The aligned sequences.\n",
    "- masked_alignment : FeatureData[AlignedSequence] : The masked alignment.\n",
    "- tree : Phylogeny[Unrooted] : The unrooted phylogenetic tree.\n",
    "- rooted_tree : Phylogeny[Rooted] : The rooted phylogenetic tree."
   ]
  },
  {
   "cell_type": "code",
   "execution_count": 10,
   "id": "9c8cfe47",
   "metadata": {
    "ExecuteTime": {
     "end_time": "2022-09-29T20:54:35.139531Z",
     "start_time": "2022-09-29T20:54:20.792130Z"
    },
    "execution": {
     "iopub.execute_input": "2023-08-23T19:09:32.225163Z",
     "iopub.status.busy": "2023-08-23T19:09:32.224821Z",
     "iopub.status.idle": "2023-08-23T19:10:23.923384Z",
     "shell.execute_reply": "2023-08-23T19:10:23.922669Z"
    },
    "papermill": {
     "duration": 51.719378,
     "end_time": "2023-08-23T19:10:23.925930",
     "exception": false,
     "start_time": "2023-08-23T19:09:32.206552",
     "status": "completed"
    },
    "tags": []
   },
   "outputs": [
    {
     "name": "stdout",
     "output_type": "stream",
     "text": [
      "Running external command line application. This may print messages to stdout and/or stderr.\n",
      "The command being run is below. This command cannot be manually re-run as it will depend on temporary files that no longer exist.\n",
      "\n",
      "Command: mafft --preservecase --inputorder --thread 6 /tmp/qiime2-archive-wo6dfo73/be79eb0f-e4b3-4ef7-8935-5c7a86f34509/data/dna-sequences.fasta\n",
      "\n"
     ]
    },
    {
     "name": "stderr",
     "output_type": "stream",
     "text": [
      "inputfile = orig\n",
      "2732 x 430 - 170 d\n",
      "nthread = 6\n",
      "nthreadpair = 6\n",
      "nthreadtb = 6\n",
      "ppenalty_ex = 0\n",
      "stacksize: 8192 kb\n",
      "generating a scoring matrix for nucleotide (dist=200) ... done\n",
      "Gap Penalty = -1.53, +0.00, +0.00\n",
      "\n",
      "\n",
      "\n",
      "Making a distance matrix ..\n",
      "\r",
      "    1 / 2732 (thread    0)\r",
      "  101 / 2732 (thread    4)"
     ]
    },
    {
     "name": "stderr",
     "output_type": "stream",
     "text": [
      "\r",
      "  201 / 2732 (thread    0)\r",
      "  301 / 2732 (thread    4)\r",
      "  401 / 2732 (thread    4)\r",
      "  501 / 2732 (thread    4)"
     ]
    },
    {
     "name": "stderr",
     "output_type": "stream",
     "text": [
      "\r",
      "  601 / 2732 (thread    4)\r",
      "  701 / 2732 (thread    4)\r",
      "  801 / 2732 (thread    4)\r",
      "  901 / 2732 (thread    1)"
     ]
    },
    {
     "name": "stderr",
     "output_type": "stream",
     "text": [
      "\r",
      " 1001 / 2732 (thread    4)\r",
      " 1101 / 2732 (thread    5)\r",
      " 1201 / 2732 (thread    0)\r",
      " 1301 / 2732 (thread    5)\r",
      " 1401 / 2732 (thread    2)"
     ]
    },
    {
     "name": "stderr",
     "output_type": "stream",
     "text": [
      "\r",
      " 1501 / 2732 (thread    1)\r",
      " 1601 / 2732 (thread    1)\r",
      " 1701 / 2732 (thread    1)\r",
      " 1801 / 2732 (thread    1)\r",
      " 1901 / 2732 (thread    1)\r",
      " 2001 / 2732 (thread    0)\r",
      " 2101 / 2732 (thread    4)\r",
      " 2201 / 2732 (thread    4)\r",
      " 2301 / 2732 (thread    4)"
     ]
    },
    {
     "name": "stderr",
     "output_type": "stream",
     "text": [
      "\r",
      " 2401 / 2732 (thread    3)\r",
      " 2501 / 2732 (thread    3)\r",
      " 2601 / 2732 (thread    5)\r",
      " 2701 / 2732 (thread    1)\n",
      "done.\n",
      "\n",
      "Constructing a UPGMA tree (efffree=0) ... \n",
      "\r",
      "    0 / 2732\r",
      "   10 / 2732\r",
      "   20 / 2732\r",
      "   30 / 2732\r",
      "   40 / 2732\r",
      "   50 / 2732\r",
      "   60 / 2732\r",
      "   70 / 2732\r",
      "   80 / 2732\r",
      "   90 / 2732\r",
      "  100 / 2732\r",
      "  110 / 2732\r",
      "  120 / 2732\r",
      "  130 / 2732\r",
      "  140 / 2732\r",
      "  150 / 2732\r",
      "  160 / 2732\r",
      "  170 / 2732\r",
      "  180 / 2732\r",
      "  190 / 2732\r",
      "  200 / 2732\r",
      "  210 / 2732\r",
      "  220 / 2732\r",
      "  230 / 2732\r",
      "  240 / 2732\r",
      "  250 / 2732\r",
      "  260 / 2732\r",
      "  270 / 2732\r",
      "  280 / 2732\r",
      "  290 / 2732\r",
      "  300 / 2732\r",
      "  310 / 2732\r",
      "  320 / 2732\r",
      "  330 / 2732\r",
      "  340 / 2732\r",
      "  350 / 2732\r",
      "  360 / 2732\r",
      "  370 / 2732\r",
      "  380 / 2732\r",
      "  390 / 2732\r",
      "  400 / 2732\r",
      "  410 / 2732\r",
      "  420 / 2732\r",
      "  430 / 2732\r",
      "  440 / 2732\r",
      "  450 / 2732\r",
      "  460 / 2732\r",
      "  470 / 2732\r",
      "  480 / 2732\r",
      "  490 / 2732\r",
      "  500 / 2732\r",
      "  510 / 2732\r",
      "  520 / 2732\r",
      "  530 / 2732\r",
      "  540 / 2732\r",
      "  550 / 2732\r",
      "  560 / 2732\r",
      "  570 / 2732\r",
      "  580 / 2732\r",
      "  590 / 2732\r",
      "  600 / 2732\r",
      "  610 / 2732\r",
      "  620 / 2732\r",
      "  630 / 2732\r",
      "  640 / 2732\r",
      "  650 / 2732\r",
      "  660 / 2732\r",
      "  670 / 2732\r",
      "  680 / 2732\r",
      "  690 / 2732\r",
      "  700 / 2732\r",
      "  710 / 2732\r",
      "  720 / 2732\r",
      "  730 / 2732\r",
      "  740 / 2732\r",
      "  750 / 2732\r",
      "  760 / 2732\r",
      "  770 / 2732\r",
      "  780 / 2732\r",
      "  790 / 2732\r",
      "  800 / 2732\r",
      "  810 / 2732\r",
      "  820 / 2732\r",
      "  830 / 2732\r",
      "  840 / 2732\r",
      "  850 / 2732\r",
      "  860 / 2732\r",
      "  870 / 2732\r",
      "  880 / 2732"
     ]
    },
    {
     "name": "stderr",
     "output_type": "stream",
     "text": [
      "\r",
      "  890 / 2732\r",
      "  900 / 2732\r",
      "  910 / 2732\r",
      "  920 / 2732\r",
      "  930 / 2732\r",
      "  940 / 2732\r",
      "  950 / 2732\r",
      "  960 / 2732\r",
      "  970 / 2732\r",
      "  980 / 2732\r",
      "  990 / 2732\r",
      " 1000 / 2732\r",
      " 1010 / 2732\r",
      " 1020 / 2732\r",
      " 1030 / 2732\r",
      " 1040 / 2732\r",
      " 1050 / 2732\r",
      " 1060 / 2732\r",
      " 1070 / 2732\r",
      " 1080 / 2732\r",
      " 1090 / 2732\r",
      " 1100 / 2732\r",
      " 1110 / 2732\r",
      " 1120 / 2732\r",
      " 1130 / 2732\r",
      " 1140 / 2732\r",
      " 1150 / 2732\r",
      " 1160 / 2732\r",
      " 1170 / 2732\r",
      " 1180 / 2732\r",
      " 1190 / 2732\r",
      " 1200 / 2732\r",
      " 1210 / 2732\r",
      " 1220 / 2732\r",
      " 1230 / 2732\r",
      " 1240 / 2732\r",
      " 1250 / 2732\r",
      " 1260 / 2732\r",
      " 1270 / 2732\r",
      " 1280 / 2732\r",
      " 1290 / 2732\r",
      " 1300 / 2732\r",
      " 1310 / 2732\r",
      " 1320 / 2732\r",
      " 1330 / 2732\r",
      " 1340 / 2732\r",
      " 1350 / 2732\r",
      " 1360 / 2732\r",
      " 1370 / 2732\r",
      " 1380 / 2732\r",
      " 1390 / 2732\r",
      " 1400 / 2732\r",
      " 1410 / 2732\r",
      " 1420 / 2732\r",
      " 1430 / 2732\r",
      " 1440 / 2732\r",
      " 1450 / 2732\r",
      " 1460 / 2732\r",
      " 1470 / 2732\r",
      " 1480 / 2732\r",
      " 1490 / 2732\r",
      " 1500 / 2732\r",
      " 1510 / 2732\r",
      " 1520 / 2732\r",
      " 1530 / 2732\r",
      " 1540 / 2732\r",
      " 1550 / 2732\r",
      " 1560 / 2732\r",
      " 1570 / 2732\r",
      " 1580 / 2732\r",
      " 1590 / 2732\r",
      " 1600 / 2732\r",
      " 1610 / 2732\r",
      " 1620 / 2732\r",
      " 1630 / 2732\r",
      " 1640 / 2732\r",
      " 1650 / 2732\r",
      " 1660 / 2732\r",
      " 1670 / 2732\r",
      " 1680 / 2732\r",
      " 1690 / 2732\r",
      " 1700 / 2732\r",
      " 1710 / 2732\r",
      " 1720 / 2732\r",
      " 1730 / 2732\r",
      " 1740 / 2732\r",
      " 1750 / 2732\r",
      " 1760 / 2732\r",
      " 1770 / 2732\r",
      " 1780 / 2732\r",
      " 1790 / 2732\r",
      " 1800 / 2732\r",
      " 1810 / 2732\r",
      " 1820 / 2732\r",
      " 1830 / 2732\r",
      " 1840 / 2732\r",
      " 1850 / 2732\r",
      " 1860 / 2732\r",
      " 1870 / 2732\r",
      " 1880 / 2732\r",
      " 1890 / 2732\r",
      " 1900 / 2732\r",
      " 1910 / 2732\r",
      " 1920 / 2732\r",
      " 1930 / 2732\r",
      " 1940 / 2732\r",
      " 1950 / 2732\r",
      " 1960 / 2732\r",
      " 1970 / 2732\r",
      " 1980 / 2732\r",
      " 1990 / 2732\r",
      " 2000 / 2732\r",
      " 2010 / 2732\r",
      " 2020 / 2732\r",
      " 2030 / 2732\r",
      " 2040 / 2732\r",
      " 2050 / 2732\r",
      " 2060 / 2732\r",
      " 2070 / 2732\r",
      " 2080 / 2732\r",
      " 2090 / 2732\r",
      " 2100 / 2732\r",
      " 2110 / 2732\r",
      " 2120 / 2732\r",
      " 2130 / 2732\r",
      " 2140 / 2732\r",
      " 2150 / 2732\r",
      " 2160 / 2732\r",
      " 2170 / 2732\r",
      " 2180 / 2732\r",
      " 2190 / 2732\r",
      " 2200 / 2732\r",
      " 2210 / 2732\r",
      " 2220 / 2732\r",
      " 2230 / 2732\r",
      " 2240 / 2732\r",
      " 2250 / 2732\r",
      " 2260 / 2732\r",
      " 2270 / 2732\r",
      " 2280 / 2732\r",
      " 2290 / 2732\r",
      " 2300 / 2732\r",
      " 2310 / 2732\r",
      " 2320 / 2732\r",
      " 2330 / 2732\r",
      " 2340 / 2732\r",
      " 2350 / 2732\r",
      " 2360 / 2732\r",
      " 2370 / 2732\r",
      " 2380 / 2732\r",
      " 2390 / 2732\r",
      " 2400 / 2732\r",
      " 2410 / 2732\r",
      " 2420 / 2732\r",
      " 2430 / 2732\r",
      " 2440 / 2732\r",
      " 2450 / 2732\r",
      " 2460 / 2732\r",
      " 2470 / 2732\r",
      " 2480 / 2732\r",
      " 2490 / 2732\r",
      " 2500 / 2732\r",
      " 2510 / 2732\r",
      " 2520 / 2732\r",
      " 2530 / 2732\r",
      " 2540 / 2732\r",
      " 2550 / 2732\r",
      " 2560 / 2732\r",
      " 2570 / 2732\r",
      " 2580 / 2732\r",
      " 2590 / 2732\r",
      " 2600 / 2732\r",
      " 2610 / 2732\r",
      " 2620 / 2732\r",
      " 2630 / 2732\r",
      " 2640 / 2732\r",
      " 2650 / 2732\r",
      " 2660 / 2732\r",
      " 2670 / 2732\r",
      " 2680 / 2732\r",
      " 2690 / 2732\r",
      " 2700 / 2732\r",
      " 2710 / 2732\r",
      " 2720 / 2732\r",
      " 2730 / 2732\n",
      "done.\n",
      "\n",
      "Progressive alignment 1/2... \n",
      "\r",
      "STEP     1 / 2731 (thread    3) f\b\b\r",
      "STEP     2 / 2731 (thread    2) f\b\b\r",
      "STEP     5 / 2731 (thread    4) f\b\b\r",
      "STEP     6 / 2731 (thread    5) f\b\b\r",
      "STEP     7 / 2731 (thread    4) f\b\b\r",
      "STEP     9 / 2731 (thread    3) f\b\b\r",
      "STEP    11 / 2731 (thread    2)\r",
      "STEP     3 / 2731 (thread    0) f\b\b f\b\b\r",
      "STEP    12 / 2731 (thread    2) f\b\b\r",
      "STEP    13 / 2731 (thread    2) f\b\b\r",
      "STEP    14 / 2731 (thread    0) f\b\b\r",
      "STEP     4 / 2731 (thread    1) f\b\b\r",
      "STEP    15 / 2731 (thread    2) f\b\b\r",
      "STEP    16 / 2731 (thread    3) f\b\b\r",
      "STEP    10 / 2731 (thread    5) f\b\b\r",
      "STEP    17 / 2731 (thread    2) f\b\b\r",
      "STEP    18 / 2731 (thread    3) f\b\b\r",
      "STEP    19 / 2731 (thread    2) f\b\b\r",
      "STEP    20 / 2731 (thread    0) f\b\b\r",
      "STEP    21 / 2731 (thread    3) f\b\b\r",
      "STEP    22 / 2731 (thread    0) f\b\b\r",
      "STEP    23 / 2731 (thread    5) f\b\b\r",
      "STEP    24 / 2731 (thread    1) f\b\b\r",
      "STEP     8 / 2731 (thread    4) f\b\b\r",
      "STEP    25 / 2731 (thread    3) f\b\b\r",
      "STEP    26 / 2731 (thread    0) f\b\b\r",
      "STEP    27 / 2731 (thread    5) f\b\b\r",
      "STEP    28 / 2731 (thread    2) f\b\b\r",
      "STEP    29 / 2731 (thread    0) f\b\b\r",
      "STEP    30 / 2731 (thread    5) f\b\b\r",
      "STEP    31 / 2731 (thread    1) f\b\b\r",
      "STEP    32 / 2731 (thread    3) f\b\b\r",
      "STEP    33 / 2731 (thread    2) f\b\b\r",
      "STEP    34 / 2731 (thread    0) f\b\b\r",
      "STEP    35 / 2731 (thread    5) f\b\b\r",
      "STEP    36 / 2731 (thread    1) f\b\b\r",
      "STEP    37 / 2731 (thread    2) f\b\b\r",
      "STEP    38 / 2731 (thread    0) f\b\b\r",
      "STEP    39 / 2731 (thread    3) f\b\b\r",
      "STEP    40 / 2731 (thread    5) f\b\b\r",
      "STEP    41 / 2731 (thread    1) f\b\b\r",
      "STEP    42 / 2731 (thread    3) f\b\b\r",
      "STEP    43 / 2731 (thread    0) f\b\b\r",
      "STEP    44 / 2731 (thread    2) f\b\b\r",
      "STEP    45 / 2731 (thread    1) f\b\b\r",
      "STEP    46 / 2731 (thread    5) f\b\b\r",
      "STEP    47 / 2731 (thread    3) f\b\b\r",
      "STEP    48 / 2731 (thread    2) f\b\b\r",
      "STEP    49 / 2731 (thread    0) f\b\b\r",
      "STEP    50 / 2731 (thread    4) f\b\b\r",
      "STEP    51 / 2731 (thread    1) f\b\b\r",
      "STEP    52 / 2731 (thread    5) f\b\b\r",
      "STEP    53 / 2731 (thread    3) f\b\b\r",
      "STEP    54 / 2731 (thread    0) f\b\b\r",
      "STEP    55 / 2731 (thread    2) f\b\b\r",
      "STEP    56 / 2731 (thread    4) f\b\b\r",
      "STEP    57 / 2731 (thread    0) f\b\b\r",
      "STEP    58 / 2731 (thread    1) f\b\b\r",
      "STEP    59 / 2731 (thread    3) f\b\b\r",
      "STEP    60 / 2731 (thread    2) f\b\b\r",
      "STEP    61 / 2731 (thread    0) f\b\b\r",
      "STEP    62 / 2731 (thread    4) f\b\b\r",
      "STEP    63 / 2731 (thread    1) f\b\b\r",
      "STEP    64 / 2731 (thread    3) f\b\b\r",
      "STEP    65 / 2731 (thread    2) f\b\b\r",
      "STEP    66 / 2731 (thread    0) f\b\b\r",
      "STEP    67 / 2731 (thread    1) f\b\b\r",
      "STEP    68 / 2731 (thread    4) f\b\b\r",
      "STEP    69 / 2731 (thread    5) f\b\b\r",
      "STEP    70 / 2731 (thread    1) f\b\b\r",
      "STEP    71 / 2731 (thread    0) f\b\b\r",
      "STEP    72 / 2731 (thread    3) f\b\b\r",
      "STEP    73 / 2731 (thread    2) f\b\b\r",
      "STEP    74 / 2731 (thread    1) f\b\b\r",
      "STEP    75 / 2731 (thread    0) f\b\b\r",
      "STEP    76 / 2731 (thread    4) f\b\b\r",
      "STEP    77 / 2731 (thread    5) f\b\b\r",
      "STEP    78 / 2731 (thread    1) f\b\b\r",
      "STEP    79 / 2731 (thread    3) f\b\b\r",
      "STEP    80 / 2731 (thread    0) f\b\b\r",
      "STEP    81 / 2731 (thread    2) f\b\b\r",
      "STEP    82 / 2731 (thread    4) f\b\b\r",
      "STEP    83 / 2731 (thread    1) f\b\b\r",
      "STEP    84 / 2731 (thread    5) f\b\b\r",
      "STEP    85 / 2731 (thread    0) f\b\b\r",
      "STEP    86 / 2731 (thread    3) f\b\b\r",
      "STEP    87 / 2731 (thread    2) f\b\b\r",
      "STEP    88 / 2731 (thread    1) f\b\b\r",
      "STEP    89 / 2731 (thread    4) f\b\b\r",
      "STEP    90 / 2731 (thread    0) f\b\b\r",
      "STEP    91 / 2731 (thread    5) f\b\b\r",
      "STEP    92 / 2731 (thread    1) f\b\b\r",
      "STEP    93 / 2731 (thread    3) f\b\b\r",
      "STEP    94 / 2731 (thread    2) f\b\b\r",
      "STEP    95 / 2731 (thread    0) f\b\b\r",
      "STEP    96 / 2731 (thread    4) f\b\b\r",
      "STEP    97 / 2731 (thread    1) f\b\b\r",
      "STEP    98 / 2731 (thread    5) f\b\b\r",
      "STEP    99 / 2731 (thread    0)\r",
      "STEP   100 / 2731 (thread    3) f\b\b f\b\b\r",
      "STEP   101 / 2731 (thread    1) f\b\b\r",
      "STEP   102 / 2731 (thread    2) f\b\b\r",
      "STEP   103 / 2731 (thread    4) f\b\b\r",
      "STEP   104 / 2731 (thread    5) f\b\b\r",
      "STEP   105 / 2731 (thread    1) f\b\b\r",
      "STEP   106 / 2731 (thread    0) f\b\b\r",
      "STEP   107 / 2731 (thread    3) f\b\b\r",
      "STEP   108 / 2731 (thread    2) f\b\b\r",
      "STEP   109 / 2731 (thread    1) f\b\b\r",
      "STEP   110 / 2731 (thread    4) f\b\b\r",
      "STEP   111 / 2731 (thread    0) f\b\b\r",
      "STEP   112 / 2731 (thread    5) f\b\b\r",
      "STEP   113 / 2731 (thread    1) f\b\b\r",
      "STEP   114 / 2731 (thread    3) f\b\b\r",
      "STEP   115 / 2731 (thread    0) f\b\b\r",
      "STEP   116 / 2731 (thread    2) f\b\b\r",
      "STEP   117 / 2731 (thread    4) f\b\b\r",
      "STEP   118 / 2731 (thread    1) f\b\b\r",
      "STEP   119 / 2731 (thread    5) f\b\b\r",
      "STEP   120 / 2731 (thread    0) f\b\b\r",
      "STEP   121 / 2731 (thread    3) f\b\b\r",
      "STEP   122 / 2731 (thread    1) f\b\b\r",
      "STEP   123 / 2731 (thread    2) f\b\b\r",
      "STEP   124 / 2731 (thread    4) f\b\b\r",
      "STEP   125 / 2731 (thread    5) f\b\b\r",
      "STEP   126 / 2731 (thread    0) f\b\b\r",
      "STEP   127 / 2731 (thread    1) f\b\b\r",
      "STEP   128 / 2731 (thread    3) f\b\b\r",
      "STEP   129 / 2731 (thread    2) f\b\b\r",
      "STEP   130 / 2731 (thread    0) f\b\b\r",
      "STEP   131 / 2731 (thread    4) f\b\b\r",
      "STEP   132 / 2731 (thread    1) f\b\b\r",
      "STEP   133 / 2731 (thread    5) f\b\b\r",
      "STEP   134 / 2731 (thread    3) f\b\b\r",
      "STEP   135 / 2731 (thread    1) f\b\b\r",
      "STEP   136 / 2731 (thread    0) f\b\b\r",
      "STEP   137 / 2731 (thread    2) f\b\b\r",
      "STEP   138 / 2731 (thread    4) f\b\b\r",
      "STEP   139 / 2731 (thread    5) f\b\b\r",
      "STEP   140 / 2731 (thread    1) f\b\b\r",
      "STEP   141 / 2731 (thread    0) f\b\b\r",
      "STEP   142 / 2731 (thread    3) f\b\b\r",
      "STEP   143 / 2731 (thread    2) f\b\b\r",
      "STEP   144 / 2731 (thread    1) f\b\b\r",
      "STEP   145 / 2731 (thread    4) f\b\b\r",
      "STEP   146 / 2731 (thread    5) f\b\b\r",
      "STEP   147 / 2731 (thread    0) f\b\b\r",
      "STEP   148 / 2731 (thread    1) f\b\b\r",
      "STEP   149 / 2731 (thread    3) f\b\b\r",
      "STEP   150 / 2731 (thread    0) f\b\b\r",
      "STEP   151 / 2731 (thread    2) f\b\b\r",
      "STEP   152 / 2731 (thread    4) f\b\b\r",
      "STEP   153 / 2731 (thread    5) f\b\b\r",
      "STEP   154 / 2731 (thread    1) f\b\b\r",
      "STEP   155 / 2731 (thread    3) f\b\b\r",
      "STEP   156 / 2731 (thread    0) f\b\b\r",
      "STEP   157 / 2731 (thread    1) f\b\b\r",
      "STEP   158 / 2731 (thread    2) f\b\b\r",
      "STEP   159 / 2731 (thread    4) f\b\b\r",
      "STEP   160 / 2731 (thread    5) f\b\b\r",
      "STEP   161 / 2731 (thread    0) f\b\b\r",
      "STEP   162 / 2731 (thread    1) f\b\b\r",
      "STEP   163 / 2731 (thread    3) f\b\b\r",
      "STEP   164 / 2731 (thread    2) f\b\b\r",
      "STEP   165 / 2731 (thread    4) f\b\b\r",
      "STEP   166 / 2731 (thread    0) f\b\b\r",
      "STEP   167 / 2731 (thread    1) f\b\b\r",
      "STEP   168 / 2731 (thread    5) f\b\b\r",
      "STEP   169 / 2731 (thread    3) f\b\b\r",
      "STEP   170 / 2731 (thread    1) f\b\b\r",
      "STEP   171 / 2731 (thread    0) f\b\b\r",
      "STEP   172 / 2731 (thread    2) f\b\b\r",
      "STEP   173 / 2731 (thread    4) f\b\b\r",
      "STEP   174 / 2731 (thread    5) f\b\b\r",
      "STEP   175 / 2731 (thread    1) f\b\b\r",
      "STEP   176 / 2731 (thread    0) f\b\b\r",
      "STEP   177 / 2731 (thread    3) f\b\b\r",
      "STEP   178 / 2731 (thread    2) f\b\b\r",
      "STEP   179 / 2731 (thread    1) f\b\b\r",
      "STEP   180 / 2731 (thread    4) f\b\b\r",
      "STEP   181 / 2731 (thread    5) f\b\b\r",
      "STEP   182 / 2731 (thread    0) f\b\b\r",
      "STEP   183 / 2731 (thread    1) f\b\b\r",
      "STEP   184 / 2731 (thread    0) f\b\b\r",
      "STEP   185 / 2731 (thread    3) f\b\b\r",
      "STEP   186 / 2731 (thread    1) f\b\b\r",
      "STEP   187 / 2731 (thread    0) f\b\b\r",
      "STEP   188 / 2731 (thread    2) f\b\b\r",
      "STEP   189 / 2731 (thread    5) f\b\b\r",
      "STEP   190 / 2731 (thread    4) f\b\b\r",
      "STEP   191 / 2731 (thread    1) f\b\b\r",
      "STEP   192 / 2731 (thread    3) f\b\b\r",
      "STEP   193 / 2731 (thread    0) f\b\b\r",
      "STEP   194 / 2731 (thread    1) f\b\b\r",
      "STEP   195 / 2731 (thread    5) f\b\b\r",
      "STEP   196 / 2731 (thread    4) f\b\b\r",
      "STEP   197 / 2731 (thread    2) f\b\b\r",
      "STEP   198 / 2731 (thread    0) f\b\b\r",
      "STEP   199 / 2731 (thread    1) f\b\b\r",
      "STEP   200 / 2731 (thread    3) f\b\b\r",
      "STEP   201 / 2731 (thread    0) f\b\b\r",
      "STEP   202 / 2731 (thread    4) f\b\b\r",
      "STEP   203 / 2731 (thread    5) f\b\b\r",
      "STEP   204 / 2731 (thread    1) f\b\b\r",
      "STEP   205 / 2731 (thread    2) f\b\b\r",
      "STEP   206 / 2731 (thread    3) f\b\b\r",
      "STEP   207 / 2731 (thread    0) f\b\b\r",
      "STEP   208 / 2731 (thread    1) f\b\b\r",
      "STEP   209 / 2731 (thread    4) f\b\b\r",
      "STEP   210 / 2731 (thread    5) f\b\b\r",
      "STEP   211 / 2731 (thread    2) f\b\b\r",
      "STEP   212 / 2731 (thread    0) f\b\b\r",
      "STEP   213 / 2731 (thread    1) f\b\b\r",
      "STEP   214 / 2731 (thread    3) f\b\b\r",
      "STEP   215 / 2731 (thread    4) f\b\b\r",
      "STEP   216 / 2731 (thread    5) f\b\b\r",
      "STEP   217 / 2731 (thread    0) f\b\b\r",
      "STEP   218 / 2731 (thread    1) f\b\b\r",
      "STEP   219 / 2731 (thread    2) f\b\b\r",
      "STEP   220 / 2731 (thread    3) f\b\b\r",
      "STEP   221 / 2731 (thread    0) f\b\b\r",
      "STEP   222 / 2731 (thread    1) f\b\b\r",
      "STEP   223 / 2731 (thread    4) f\b\b\r",
      "STEP   224 / 2731 (thread    5) f\b\b\r",
      "STEP   225 / 2731 (thread    2) f\b\b\r",
      "STEP   226 / 2731 (thread    0) f\b\b\r",
      "STEP   227 / 2731 (thread    1) f\b\b\r",
      "STEP   228 / 2731 (thread    3) f\b\b\r",
      "STEP   229 / 2731 (thread    0) f\b\b\r",
      "STEP   230 / 2731 (thread    1) f\b\b\r",
      "STEP   231 / 2731 (thread    4) f\b\b\r",
      "STEP   232 / 2731 (thread    5) f\b\b\r",
      "STEP   233 / 2731 (thread    2) f\b\b\r",
      "STEP   234 / 2731 (thread    0) f\b\b\r",
      "STEP   235 / 2731 (thread    3) f\b\b\r",
      "STEP   236 / 2731 (thread    1) f\b\b\r",
      "STEP   237 / 2731 (thread    4) f\b\b\r",
      "STEP   238 / 2731 (thread    5) f\b\b\r",
      "STEP   239 / 2731 (thread    0) f\b\b\r",
      "STEP   240 / 2731 (thread    1) f\b\b\r",
      "STEP   241 / 2731 (thread    2) f\b\b\r",
      "STEP   242 / 2731 (thread    3) f\b\b\r",
      "STEP   243 / 2731 (thread    0) f\b\b\r",
      "STEP   244 / 2731 (thread    1) f\b\b\r",
      "STEP   245 / 2731 (thread    4) f\b\b\r",
      "STEP   246 / 2731 (thread    5) f\b\b\r",
      "STEP   247 / 2731 (thread    2) f\b\b\r",
      "STEP   248 / 2731 (thread    0) f\b\b\r",
      "STEP   249 / 2731 (thread    1) f\b\b\r",
      "STEP   250 / 2731 (thread    3) f\b\b\r",
      "STEP   251 / 2731 (thread    5) f\b\b\r",
      "STEP   252 / 2731 (thread    4) f\b\b\r",
      "STEP   253 / 2731 (thread    0) f\b\b\r",
      "STEP   254 / 2731 (thread    1) f\b\b\r",
      "STEP   255 / 2731 (thread    4) f\b\b\r",
      "STEP   256 / 2731 (thread    0) f\b\b\r",
      "STEP   257 / 2731 (thread    2) f\b\b\r",
      "STEP   258 / 2731 (thread    1) f\b\b\r",
      "STEP   259 / 2731 (thread    0) f\b\b\r",
      "STEP   260 / 2731 (thread    3) f\b\b\r",
      "STEP   261 / 2731 (thread    1) f\b\b\r",
      "STEP   262 / 2731 (thread    5) f\b\b\r",
      "STEP   263 / 2731 (thread    2) f\b\b\r",
      "STEP   264 / 2731 (thread    0) f\b\b\r",
      "STEP   265 / 2731 (thread    1) f\b\b\r",
      "STEP   266 / 2731 (thread    3) f\b\b\r",
      "STEP   267 / 2731 (thread    4) f\b\b\r",
      "STEP   268 / 2731 (thread    5) f\b\b\r",
      "STEP   269 / 2731 (thread    0) f\b\b\r",
      "STEP   270 / 2731 (thread    2) f\b\b\r",
      "STEP   271 / 2731 (thread    1) f\b\b\r",
      "STEP   272 / 2731 (thread    0) f\b\b\r",
      "STEP   273 / 2731 (thread    3) f\b\b\r",
      "STEP   274 / 2731 (thread    1) f\b\b\r",
      "STEP   275 / 2731 (thread    4) f\b\b\r",
      "STEP   276 / 2731 (thread    5) f\b\b\r",
      "STEP   277 / 2731 (thread    2) f\b\b\r",
      "STEP   278 / 2731 (thread    0) f\b\b\r",
      "STEP   279 / 2731 (thread    1) f\b\b\r",
      "STEP   280 / 2731 (thread    3) f\b\b\r",
      "STEP   281 / 2731 (thread    4) f\b\b\r",
      "STEP   282 / 2731 (thread    1) f\b\b\r",
      "STEP   283 / 2731 (thread    5) f\b\b\r",
      "STEP   284 / 2731 (thread    0) f\b\b\r",
      "STEP   285 / 2731 (thread    2) f\b\b\r",
      "STEP   286 / 2731 (thread    1) f\b\b\r",
      "STEP   287 / 2731 (thread    3) f\b\b\r",
      "STEP   288 / 2731 (thread    4) f\b\b\r",
      "STEP   289 / 2731 (thread    1) f\b\b\r",
      "STEP   290 / 2731 (thread    5) f\b\b\r",
      "STEP   291 / 2731 (thread    2) f\b\b\r",
      "STEP   292 / 2731 (thread    0) f\b\b\r",
      "STEP   293 / 2731 (thread    1) f\b\b\r",
      "STEP   294 / 2731 (thread    3) f\b\b\r",
      "STEP   295 / 2731 (thread    4) f\b\b\r",
      "STEP   296 / 2731 (thread    1) f\b\b\r",
      "STEP   297 / 2731 (thread    5) f\b\b\r",
      "STEP   298 / 2731 (thread    2) f\b\b\r",
      "STEP   299 / 2731 (thread    0) f\b\b\r",
      "STEP   300 / 2731 (thread    1) f\b\b\r",
      "STEP   301 / 2731 (thread    3) f\b\b\r",
      "STEP   302 / 2731 (thread    4) f\b\b\r",
      "STEP   303 / 2731 (thread    5) f\b\b\r",
      "STEP   304 / 2731 (thread    1) f\b\b\r",
      "STEP   305 / 2731 (thread    2) f\b\b\r",
      "STEP   306 / 2731 (thread    1) f\b\b\r",
      "STEP   307 / 2731 (thread    3) f\b\b\r",
      "STEP   308 / 2731 (thread    5) f\b\b\r",
      "STEP   309 / 2731 (thread    2) f\b\b\r",
      "STEP   310 / 2731 (thread    1) f\b\b\r",
      "STEP   311 / 2731 (thread    0) f\b\b\r",
      "STEP   312 / 2731 (thread    3) f\b\b\r",
      "STEP   313 / 2731 (thread    4) f\b\b\r",
      "STEP   314 / 2731 (thread    1) f\b\b\r",
      "STEP   315 / 2731 (thread    5) f\b\b\r",
      "STEP   316 / 2731 (thread    2) f\b\b\r",
      "STEP   317 / 2731 (thread    1) f\b\b\r",
      "STEP   318 / 2731 (thread    3) f\b\b\r",
      "STEP   319 / 2731 (thread    4) f\b\b\r",
      "STEP   320 / 2731 (thread    1) f\b\b\r",
      "STEP   321 / 2731 (thread    0) f\b\b\r",
      "STEP   322 / 2731 (thread    5) f\b\b\r",
      "STEP   323 / 2731 (thread    2) f\b\b\r",
      "STEP   324 / 2731 (thread    3) f\b\b\r",
      "STEP   325 / 2731 (thread    1) f\b\b\r",
      "STEP   326 / 2731 (thread    4) f\b\b\r",
      "STEP   327 / 2731 (thread    1) f\b\b\r",
      "STEP   328 / 2731 (thread    0) f\b\b\r",
      "STEP   329 / 2731 (thread    5) f\b\b\r",
      "STEP   330 / 2731 (thread    2) f\b\b\r",
      "STEP   331 / 2731 (thread    3) f\b\b\r",
      "STEP   332 / 2731 (thread    1) f\b\b\r",
      "STEP   333 / 2731 (thread    4) f\b\b\r",
      "STEP   334 / 2731 (thread    1) f\b\b\r",
      "STEP   335 / 2731 (thread    0) f\b\b\r",
      "STEP   336 / 2731 (thread    3) f\b\b\r",
      "STEP   337 / 2731 (thread    2) f\b\b\r",
      "STEP   338 / 2731 (thread    5) f\b\b\r",
      "STEP   339 / 2731 (thread    1) f\b\b\r",
      "STEP   340 / 2731 (thread    4) f\b\b\r",
      "STEP   341 / 2731 (thread    1) f\b\b\r",
      "STEP   342 / 2731 (thread    0) f\b\b\r",
      "STEP   343 / 2731 (thread    3) f\b\b\r",
      "STEP   344 / 2731 (thread    5) f\b\b\r",
      "STEP   345 / 2731 (thread    2) f\b\b\r",
      "STEP   346 / 2731 (thread    1) f\b\b\r",
      "STEP   347 / 2731 (thread    4) f\b\b\r",
      "STEP   348 / 2731 (thread    3) f\b\b\r",
      "STEP   349 / 2731 (thread    1) f\b\b\r",
      "STEP   350 / 2731 (thread    5) f\b\b\r",
      "STEP   351 / 2731 (thread    2) f\b\b\r",
      "STEP   352 / 2731 (thread    0) f\b\b\r",
      "STEP   353 / 2731 (thread    1) f\b\b\r",
      "STEP   354 / 2731 (thread    4) f\b\b\r",
      "STEP   355 / 2731 (thread    3) f\b\b\r",
      "STEP   356 / 2731 (thread    1) f\b\b\r",
      "STEP   357 / 2731 (thread    5) f\b\b\r",
      "STEP   358 / 2731 (thread    2) f\b\b\r",
      "STEP   359 / 2731 (thread    0) f\b\b\r",
      "STEP   360 / 2731 (thread    1) f\b\b\r",
      "STEP   361 / 2731 (thread    4) f\b\b\r",
      "STEP   362 / 2731 (thread    3) f\b\b\r",
      "STEP   363 / 2731 (thread    5) f\b\b\r",
      "STEP   364 / 2731 (thread    1) f\b\b\r",
      "STEP   365 / 2731 (thread    2) f\b\b\r",
      "STEP   366 / 2731 (thread    0) f\b\b\r",
      "STEP   367 / 2731 (thread    4) f\b\b\r",
      "STEP   368 / 2731 (thread    1) f\b\b\r",
      "STEP   369 / 2731 (thread    1) f\b\b\r",
      "STEP   370 / 2731 (thread    2) f\b\b\r",
      "STEP   371 / 2731 (thread    0)\r",
      "STEP   372 / 2731 (thread    3) f\b\b f\b\b\r",
      "STEP   373 / 2731 (thread    5) f\b\b\r",
      "STEP   374 / 2731 (thread    4) f\b\b\r",
      "STEP   375 / 2731 (thread    1) f\b\b\r",
      "STEP   376 / 2731 (thread    2)\r",
      "STEP   377 / 2731 (thread    1) f\b\b f\b\b\r",
      "STEP   378 / 2731 (thread    3) f\b\b\r",
      "STEP   379 / 2731 (thread    5) f\b\b\r",
      "STEP   380 / 2731 (thread    4) f\b\b\r",
      "STEP   381 / 2731 (thread    1) f\b\b\r",
      "STEP   382 / 2731 (thread    0) f\b\b\r",
      "STEP   383 / 2731 (thread    3) f\b\b\r",
      "STEP   384 / 2731 (thread    2) f\b\b\r",
      "STEP   385 / 2731 (thread    1) f\b\b\r",
      "STEP   386 / 2731 (thread    5) f\b\b\r",
      "STEP   387 / 2731 (thread    4) f\b\b\r",
      "STEP   388 / 2731 (thread    1) f\b\b\r",
      "STEP   390 / 2731 (thread    2) f\b\b\r",
      "STEP   391 / 2731 (thread    1) f\b\b\r",
      "STEP   389 / 2731 (thread    3) f\b\b\r",
      "STEP   392 / 2731 (thread    4) f\b\b\r",
      "STEP   393 / 2731 (thread    0) f\b\b\r",
      "STEP   394 / 2731 (thread    5) f\b\b\r",
      "STEP   395 / 2731 (thread    1) f\b\b\r",
      "STEP   396 / 2731 (thread    4) f\b\b\r",
      "STEP   397 / 2731 (thread    2) f\b\b\r",
      "STEP   398 / 2731 (thread    1) f\b\b\r",
      "STEP   399 / 2731 (thread    5) f\b\b\r",
      "STEP   400 / 2731 (thread    0) f\b\b\r",
      "STEP   401 / 2731 (thread    1) f\b\b\r",
      "STEP   402 / 2731 (thread    3) f\b\b\r",
      "STEP   403 / 2731 (thread    4) f\b\b\r",
      "STEP   404 / 2731 (thread    2) f\b\b\r",
      "STEP   405 / 2731 (thread    5) f\b\b\r",
      "STEP   406 / 2731 (thread    1) f\b\b\r",
      "STEP   407 / 2731 (thread    1) f\b\b\r",
      "STEP   408 / 2731 (thread    3) f\b\b\r",
      "STEP   409 / 2731 (thread    4) f\b\b\r",
      "STEP   410 / 2731 (thread    0) f\b\b\r",
      "STEP   411 / 2731 (thread    2) f\b\b\r",
      "STEP   412 / 2731 (thread    5) f\b\b\r",
      "STEP   413 / 2731 (thread    1) f\b\b\r",
      "STEP   414 / 2731 (thread    3) f\b\b\r",
      "STEP   415 / 2731 (thread    4) f\b\b\r",
      "STEP   416 / 2731 (thread    1) f\b\b\r",
      "STEP   417 / 2731 (thread    5) f\b\b\r",
      "STEP   418 / 2731 (thread    2) f\b\b\r",
      "STEP   419 / 2731 (thread    1) f\b\b\r",
      "STEP   420 / 2731 (thread    0) f\b\b\r",
      "STEP   421 / 2731 (thread    3) f\b\b\r",
      "STEP   422 / 2731 (thread    4) f\b\b\r",
      "STEP   423 / 2731 (thread    1) f\b\b\r",
      "STEP   424 / 2731 (thread    5) f\b\b\r",
      "STEP   425 / 2731 (thread    2) f\b\b\r",
      "STEP   426 / 2731 (thread    1) f\b\b\r",
      "STEP   427 / 2731 (thread    3) f\b\b\r",
      "STEP   428 / 2731 (thread    4) f\b\b\r",
      "STEP   429 / 2731 (thread    0) f\b\b\r",
      "STEP   430 / 2731 (thread    1) f\b\b\r",
      "STEP   431 / 2731 (thread    5) f\b\b\r",
      "STEP   432 / 2731 (thread    2) f\b\b\r",
      "STEP   433 / 2731 (thread    3) f\b\b\r",
      "STEP   434 / 2731 (thread    4)\r",
      "STEP   435 / 2731 (thread    1) f\b\b f\b\b\r",
      "STEP   436 / 2731 (thread    1) f\b\b\r",
      "STEP   437 / 2731 (thread    0) f\b\b\r",
      "STEP   438 / 2731 (thread    5) f\b\b\r",
      "STEP   439 / 2731 (thread    2) f\b\b\r",
      "STEP   440 / 2731 (thread    4) f\b\b\r",
      "STEP   441 / 2731 (thread    3) f\b\b\r",
      "STEP   442 / 2731 (thread    1) f\b\b\r",
      "STEP   443 / 2731 (thread    0) f\b\b\r",
      "STEP   444 / 2731 (thread    1) f\b\b\r",
      "STEP   445 / 2731 (thread    5) f\b\b\r",
      "STEP   446 / 2731 (thread    2) f\b\b\r",
      "STEP   447 / 2731 (thread    3) f\b\b\r",
      "STEP   448 / 2731 (thread    4) f\b\b\r",
      "STEP   449 / 2731 (thread    1) f\b\b\r",
      "STEP   450 / 2731 (thread    0) f\b\b\r",
      "STEP   451 / 2731 (thread    1) f\b\b\r",
      "STEP   452 / 2731 (thread    4) f\b\b\r",
      "STEP   454 / 2731 (thread    5) f\b\b\r",
      "STEP   453 / 2731 (thread    3) f\b\b\r",
      "STEP   455 / 2731 (thread    2) f\b\b\r",
      "STEP   456 / 2731 (thread    1) f\b\b\r",
      "STEP   457 / 2731 (thread    0) f\b\b\r",
      "STEP   458 / 2731 (thread    1) f\b\b\r",
      "STEP   459 / 2731 (thread    4) f\b\b\r",
      "STEP   460 / 2731 (thread    3) f\b\b\r",
      "STEP   461 / 2731 (thread    5) f\b\b\r",
      "STEP   462 / 2731 (thread    2) f\b\b\r",
      "STEP   463 / 2731 (thread    0) f\b\b\r",
      "STEP   464 / 2731 (thread    1) f\b\b\r",
      "STEP   465 / 2731 (thread    4) f\b\b\r",
      "STEP   466 / 2731 (thread    3) f\b\b\r",
      "STEP   467 / 2731 (thread    1) f\b\b\r",
      "STEP   468 / 2731 (thread    5) f\b\b\r",
      "STEP   469 / 2731 (thread    2) f\b\b\r",
      "STEP   470 / 2731 (thread    0) f\b\b\r",
      "STEP   471 / 2731 (thread    1) f\b\b\r",
      "STEP   472 / 2731 (thread    3) f\b\b\r",
      "STEP   473 / 2731 (thread    4) f\b\b\r",
      "STEP   474 / 2731 (thread    5) f\b\b\r",
      "STEP   475 / 2731 (thread    2) f\b\b\r",
      "STEP   476 / 2731 (thread    1) f\b\b\r",
      "STEP   477 / 2731 (thread    0) f\b\b\r",
      "STEP   478 / 2731 (thread    1) f\b\b\r",
      "STEP   479 / 2731 (thread    4) f\b\b\r",
      "STEP   480 / 2731 (thread    3) f\b\b\r",
      "STEP   481 / 2731 (thread    5) f\b\b\r",
      "STEP   482 / 2731 (thread    0) f\b\b\r",
      "STEP   483 / 2731 (thread    2) f\b\b\r",
      "STEP   484 / 2731 (thread    1) f\b\b\r",
      "STEP   485 / 2731 (thread    0) f\b\b\r",
      "STEP   486 / 2731 (thread    1) f\b\b\r",
      "STEP   487 / 2731 (thread    3) f\b\b\r",
      "STEP   488 / 2731 (thread    2) f\b\b\r",
      "STEP   489 / 2731 (thread    4) f\b\b\r",
      "STEP   490 / 2731 (thread    1) f\b\b\r",
      "STEP   491 / 2731 (thread    0) f\b\b\r",
      "STEP   492 / 2731 (thread    3) f\b\b\r",
      "STEP   493 / 2731 (thread    1) f\b\b\r",
      "STEP   494 / 2731 (thread    5) f\b\b\r",
      "STEP   495 / 2731 (thread    2) f\b\b\r",
      "STEP   496 / 2731 (thread    4) f\b\b\r",
      "STEP   497 / 2731 (thread    1) f\b\b\r",
      "STEP   498 / 2731 (thread    0) f\b\b\r",
      "STEP   499 / 2731 (thread    3) f\b\b\r",
      "STEP   500 / 2731 (thread    4) f\b\b\r",
      "STEP   501 / 2731 (thread    5) f\b\b"
     ]
    },
    {
     "name": "stderr",
     "output_type": "stream",
     "text": [
      "\r",
      "STEP   601 / 2731 (thread    1) f\b\b\r",
      "STEP   701 / 2731 (thread    2) f\b\b\r",
      "STEP   801 / 2731 (thread    2) f\b\b\r",
      "STEP   901 / 2731 (thread    5) f\b\b\r",
      "STEP  1001 / 2731 (thread    2) f\b\b\r",
      "STEP  1101 / 2731 (thread    2) f\b\b\r",
      "STEP  1201 / 2731 (thread    4) f\b\b"
     ]
    },
    {
     "name": "stderr",
     "output_type": "stream",
     "text": [
      "\r",
      "STEP  1301 / 2731 (thread    2) f\b\b\n",
      "Reallocating..done. *alloclen = 1944\n",
      "\r",
      "STEP  1401 / 2731 (thread    2) f\b\b\r",
      "STEP  1501 / 2731 (thread    3) f\b\b\r",
      "STEP  1601 / 2731 (thread    2) f\b\b\r",
      "STEP  1701 / 2731 (thread    4) f\b\b\r",
      "STEP  1801 / 2731 (thread    1) f\b\b"
     ]
    },
    {
     "name": "stderr",
     "output_type": "stream",
     "text": [
      "\r",
      "STEP  1901 / 2731 (thread    1) f\b\b\r",
      "STEP  2001 / 2731 (thread    4) f\b\b\r",
      "STEP  2101 / 2731 (thread    4) f\b\b\r",
      "STEP  2201 / 2731 (thread    1) f\b\b\r",
      "STEP  2301 / 2731 (thread    4) f\b\b"
     ]
    },
    {
     "name": "stderr",
     "output_type": "stream",
     "text": [
      "\r",
      "STEP  2401 / 2731 (thread    1) f\b\b\r",
      "STEP  2501 / 2731 (thread    1) f\b\b\r",
      "STEP  2601 / 2731 (thread    1) f\b\b"
     ]
    },
    {
     "name": "stderr",
     "output_type": "stream",
     "text": [
      "\r",
      "STEP  2701 / 2731 (thread    2) f\b\b"
     ]
    },
    {
     "name": "stderr",
     "output_type": "stream",
     "text": [
      "\n",
      "done.\n",
      "\n",
      "Making a distance matrix from msa.. \n",
      "\r",
      "    0 / 2732 (thread    0)\r",
      "  100 / 2732 (thread    2)"
     ]
    },
    {
     "name": "stderr",
     "output_type": "stream",
     "text": [
      "\r",
      "  200 / 2732 (thread    0)\r",
      "  300 / 2732 (thread    5)"
     ]
    },
    {
     "name": "stderr",
     "output_type": "stream",
     "text": [
      "\r",
      "  400 / 2732 (thread    3)\r",
      "  500 / 2732 (thread    0)"
     ]
    },
    {
     "name": "stderr",
     "output_type": "stream",
     "text": [
      "\r",
      "  600 / 2732 (thread    1)\r",
      "  700 / 2732 (thread    0)\r",
      "  800 / 2732 (thread    5)"
     ]
    },
    {
     "name": "stderr",
     "output_type": "stream",
     "text": [
      "\r",
      "  900 / 2732 (thread    0)\r",
      " 1000 / 2732 (thread    2)\r",
      " 1100 / 2732 (thread    0)"
     ]
    },
    {
     "name": "stderr",
     "output_type": "stream",
     "text": [
      "\r",
      " 1200 / 2732 (thread    3)\r",
      " 1300 / 2732 (thread    5)\r",
      " 1400 / 2732 (thread    1)\r",
      " 1500 / 2732 (thread    2)"
     ]
    },
    {
     "name": "stderr",
     "output_type": "stream",
     "text": [
      "\r",
      " 1600 / 2732 (thread    0)\r",
      " 1700 / 2732 (thread    1)\r",
      " 1800 / 2732 (thread    4)\r",
      " 1900 / 2732 (thread    2)\r",
      " 2000 / 2732 (thread    1)\r",
      " 2100 / 2732 (thread    3)"
     ]
    },
    {
     "name": "stderr",
     "output_type": "stream",
     "text": [
      "\r",
      " 2200 / 2732 (thread    3)\r",
      " 2300 / 2732 (thread    1)\r",
      " 2400 / 2732 (thread    0)\r",
      " 2500 / 2732 (thread    3)\r",
      " 2600 / 2732 (thread    4)\r",
      " 2700 / 2732 (thread    3)\n",
      "done.\n",
      "\n",
      "Constructing a UPGMA tree (efffree=1) ... \n",
      "\r",
      "    0 / 2732\r",
      "   10 / 2732\r",
      "   20 / 2732\r",
      "   30 / 2732\r",
      "   40 / 2732\r",
      "   50 / 2732\r",
      "   60 / 2732\r",
      "   70 / 2732\r",
      "   80 / 2732\r",
      "   90 / 2732\r",
      "  100 / 2732\r",
      "  110 / 2732\r",
      "  120 / 2732\r",
      "  130 / 2732\r",
      "  140 / 2732\r",
      "  150 / 2732\r",
      "  160 / 2732\r",
      "  170 / 2732\r",
      "  180 / 2732\r",
      "  190 / 2732\r",
      "  200 / 2732\r",
      "  210 / 2732\r",
      "  220 / 2732\r",
      "  230 / 2732\r",
      "  240 / 2732\r",
      "  250 / 2732\r",
      "  260 / 2732\r",
      "  270 / 2732\r",
      "  280 / 2732\r",
      "  290 / 2732\r",
      "  300 / 2732\r",
      "  310 / 2732\r",
      "  320 / 2732\r",
      "  330 / 2732\r",
      "  340 / 2732\r",
      "  350 / 2732\r",
      "  360 / 2732\r",
      "  370 / 2732\r",
      "  380 / 2732\r",
      "  390 / 2732\r",
      "  400 / 2732\r",
      "  410 / 2732\r",
      "  420 / 2732\r",
      "  430 / 2732\r",
      "  440 / 2732\r",
      "  450 / 2732\r",
      "  460 / 2732\r",
      "  470 / 2732\r",
      "  480 / 2732\r",
      "  490 / 2732\r",
      "  500 / 2732\r",
      "  510 / 2732\r",
      "  520 / 2732\r",
      "  530 / 2732\r",
      "  540 / 2732\r",
      "  550 / 2732\r",
      "  560 / 2732\r",
      "  570 / 2732\r",
      "  580 / 2732\r",
      "  590 / 2732\r",
      "  600 / 2732\r",
      "  610 / 2732\r",
      "  620 / 2732\r",
      "  630 / 2732\r",
      "  640 / 2732\r",
      "  650 / 2732\r",
      "  660 / 2732\r",
      "  670 / 2732\r",
      "  680 / 2732\r",
      "  690 / 2732\r",
      "  700 / 2732\r",
      "  710 / 2732\r",
      "  720 / 2732\r",
      "  730 / 2732\r",
      "  740 / 2732\r",
      "  750 / 2732\r",
      "  760 / 2732\r",
      "  770 / 2732\r",
      "  780 / 2732\r",
      "  790 / 2732\r",
      "  800 / 2732\r",
      "  810 / 2732\r",
      "  820 / 2732\r",
      "  830 / 2732\r",
      "  840 / 2732\r",
      "  850 / 2732\r",
      "  860 / 2732\r",
      "  870 / 2732\r",
      "  880 / 2732\r",
      "  890 / 2732\r",
      "  900 / 2732\r",
      "  910 / 2732\r",
      "  920 / 2732\r",
      "  930 / 2732\r",
      "  940 / 2732\r",
      "  950 / 2732\r",
      "  960 / 2732\r",
      "  970 / 2732\r",
      "  980 / 2732\r",
      "  990 / 2732\r",
      " 1000 / 2732\r",
      " 1010 / 2732\r",
      " 1020 / 2732\r",
      " 1030 / 2732\r",
      " 1040 / 2732\r",
      " 1050 / 2732\r",
      " 1060 / 2732\r",
      " 1070 / 2732\r",
      " 1080 / 2732\r",
      " 1090 / 2732\r",
      " 1100 / 2732\r",
      " 1110 / 2732\r",
      " 1120 / 2732\r",
      " 1130 / 2732\r",
      " 1140 / 2732\r",
      " 1150 / 2732\r",
      " 1160 / 2732\r",
      " 1170 / 2732\r",
      " 1180 / 2732\r",
      " 1190 / 2732\r",
      " 1200 / 2732\r",
      " 1210 / 2732\r",
      " 1220 / 2732\r",
      " 1230 / 2732\r",
      " 1240 / 2732"
     ]
    },
    {
     "name": "stderr",
     "output_type": "stream",
     "text": [
      "\r",
      " 1250 / 2732\r",
      " 1260 / 2732\r",
      " 1270 / 2732\r",
      " 1280 / 2732\r",
      " 1290 / 2732\r",
      " 1300 / 2732\r",
      " 1310 / 2732\r",
      " 1320 / 2732\r",
      " 1330 / 2732\r",
      " 1340 / 2732\r",
      " 1350 / 2732\r",
      " 1360 / 2732\r",
      " 1370 / 2732\r",
      " 1380 / 2732\r",
      " 1390 / 2732\r",
      " 1400 / 2732\r",
      " 1410 / 2732\r",
      " 1420 / 2732\r",
      " 1430 / 2732\r",
      " 1440 / 2732\r",
      " 1450 / 2732\r",
      " 1460 / 2732\r",
      " 1470 / 2732\r",
      " 1480 / 2732\r",
      " 1490 / 2732\r",
      " 1500 / 2732\r",
      " 1510 / 2732\r",
      " 1520 / 2732\r",
      " 1530 / 2732\r",
      " 1540 / 2732\r",
      " 1550 / 2732\r",
      " 1560 / 2732\r",
      " 1570 / 2732\r",
      " 1580 / 2732\r",
      " 1590 / 2732\r",
      " 1600 / 2732\r",
      " 1610 / 2732\r",
      " 1620 / 2732\r",
      " 1630 / 2732\r",
      " 1640 / 2732\r",
      " 1650 / 2732\r",
      " 1660 / 2732\r",
      " 1670 / 2732\r",
      " 1680 / 2732\r",
      " 1690 / 2732\r",
      " 1700 / 2732\r",
      " 1710 / 2732\r",
      " 1720 / 2732\r",
      " 1730 / 2732\r",
      " 1740 / 2732\r",
      " 1750 / 2732\r",
      " 1760 / 2732\r",
      " 1770 / 2732\r",
      " 1780 / 2732\r",
      " 1790 / 2732\r",
      " 1800 / 2732\r",
      " 1810 / 2732\r",
      " 1820 / 2732\r",
      " 1830 / 2732\r",
      " 1840 / 2732\r",
      " 1850 / 2732\r",
      " 1860 / 2732\r",
      " 1870 / 2732\r",
      " 1880 / 2732\r",
      " 1890 / 2732\r",
      " 1900 / 2732\r",
      " 1910 / 2732\r",
      " 1920 / 2732\r",
      " 1930 / 2732\r",
      " 1940 / 2732\r",
      " 1950 / 2732\r",
      " 1960 / 2732\r",
      " 1970 / 2732\r",
      " 1980 / 2732\r",
      " 1990 / 2732\r",
      " 2000 / 2732\r",
      " 2010 / 2732\r",
      " 2020 / 2732\r",
      " 2030 / 2732\r",
      " 2040 / 2732\r",
      " 2050 / 2732\r",
      " 2060 / 2732\r",
      " 2070 / 2732\r",
      " 2080 / 2732\r",
      " 2090 / 2732\r",
      " 2100 / 2732\r",
      " 2110 / 2732\r",
      " 2120 / 2732\r",
      " 2130 / 2732\r",
      " 2140 / 2732\r",
      " 2150 / 2732\r",
      " 2160 / 2732\r",
      " 2170 / 2732\r",
      " 2180 / 2732\r",
      " 2190 / 2732\r",
      " 2200 / 2732\r",
      " 2210 / 2732\r",
      " 2220 / 2732\r",
      " 2230 / 2732\r",
      " 2240 / 2732\r",
      " 2250 / 2732\r",
      " 2260 / 2732\r",
      " 2270 / 2732\r",
      " 2280 / 2732\r",
      " 2290 / 2732\r",
      " 2300 / 2732\r",
      " 2310 / 2732\r",
      " 2320 / 2732\r",
      " 2330 / 2732\r",
      " 2340 / 2732\r",
      " 2350 / 2732\r",
      " 2360 / 2732\r",
      " 2370 / 2732\r",
      " 2380 / 2732\r",
      " 2390 / 2732\r",
      " 2400 / 2732\r",
      " 2410 / 2732\r",
      " 2420 / 2732\r",
      " 2430 / 2732\r",
      " 2440 / 2732\r",
      " 2450 / 2732\r",
      " 2460 / 2732\r",
      " 2470 / 2732\r",
      " 2480 / 2732\r",
      " 2490 / 2732\r",
      " 2500 / 2732\r",
      " 2510 / 2732\r",
      " 2520 / 2732\r",
      " 2530 / 2732\r",
      " 2540 / 2732\r",
      " 2550 / 2732\r",
      " 2560 / 2732\r",
      " 2570 / 2732\r",
      " 2580 / 2732\r",
      " 2590 / 2732\r",
      " 2600 / 2732\r",
      " 2610 / 2732\r",
      " 2620 / 2732\r",
      " 2630 / 2732\r",
      " 2640 / 2732\r",
      " 2650 / 2732\r",
      " 2660 / 2732\r",
      " 2670 / 2732\r",
      " 2680 / 2732\r",
      " 2690 / 2732\r",
      " 2700 / 2732\r",
      " 2710 / 2732\r",
      " 2720 / 2732\r",
      " 2730 / 2732\n",
      "done.\n",
      "\n",
      "Progressive alignment 2/2... \n",
      "\r",
      "STEP     1 / 2731 (thread    1) f\b\b\r",
      "STEP     2 / 2731 (thread    0) f\b\b\r",
      "STEP     3 / 2731 (thread    2)\r",
      "STEP     4 / 2731 (thread    3) f\b\b f\b\b\r",
      "STEP     5 / 2731 (thread    4) f\b\b\r",
      "STEP     6 / 2731 (thread    5) f\b\b\r",
      "STEP     7 / 2731 (thread    5) f\b\b\r",
      "STEP     8 / 2731 (thread    5) f\b\b\r",
      "STEP     9 / 2731 (thread    5) f\b\b\r",
      "STEP    10 / 2731 (thread    5) f\b\b\r",
      "STEP    11 / 2731 (thread    5) f\b\b\r",
      "STEP    12 / 2731 (thread    5) f\b\b\r",
      "STEP    13 / 2731 (thread    5) f\b\b\r",
      "STEP    14 / 2731 (thread    5) f\b\b\r",
      "STEP    15 / 2731 (thread    5) f\b\b\r",
      "STEP    16 / 2731 (thread    5) f\b\b\r",
      "STEP    17 / 2731 (thread    1) f\b\b\r",
      "STEP    18 / 2731 (thread    4) f\b\b\r",
      "STEP    19 / 2731 (thread    5) f\b\b\r",
      "STEP    20 / 2731 (thread    0) f\b\b\r",
      "STEP    21 / 2731 (thread    5) f\b\b\r",
      "STEP    22 / 2731 (thread    1) f\b\b\r",
      "STEP    23 / 2731 (thread    4) f\b\b\r",
      "STEP    24 / 2731 (thread    0) f\b\b\r",
      "STEP    25 / 2731 (thread    5) f\b\b\r",
      "STEP    26 / 2731 (thread    2) f\b\b\r",
      "STEP    27 / 2731 (thread    3) f\b\b\r",
      "STEP    28 / 2731 (thread    0) f\b\b\r",
      "STEP    29 / 2731 (thread    4) f\b\b\r",
      "STEP    30 / 2731 (thread    1) f\b\b\r",
      "STEP    31 / 2731 (thread    5) f\b\b\r",
      "STEP    32 / 2731 (thread    0) f\b\b\r",
      "STEP    33 / 2731 (thread    5) f\b\b\r",
      "STEP    34 / 2731 (thread    2) f\b\b\r",
      "STEP    35 / 2731 (thread    3) f\b\b\r",
      "STEP    36 / 2731 (thread    1) f\b\b\r",
      "STEP    37 / 2731 (thread    4) f\b\b\r",
      "STEP    38 / 2731 (thread    0) f\b\b\r",
      "STEP    39 / 2731 (thread    5) f\b\b\r",
      "STEP    40 / 2731 (thread    2) f\b\b\r",
      "STEP    41 / 2731 (thread    3) f\b\b\r",
      "STEP    42 / 2731 (thread    0) f\b\b\r",
      "STEP    43 / 2731 (thread    5) f\b\b\r",
      "STEP    44 / 2731 (thread    1) f\b\b\r",
      "STEP    45 / 2731 (thread    4) f\b\b\r",
      "STEP    46 / 2731 (thread    5) f\b\b\r",
      "STEP    47 / 2731 (thread    0) f\b\b\r",
      "STEP    48 / 2731 (thread    3) f\b\b\r",
      "STEP    49 / 2731 (thread    2) f\b\b\r",
      "STEP    50 / 2731 (thread    4) f\b\b\r",
      "STEP    52 / 2731 (thread    5) f\b\b\r",
      "STEP    51 / 2731 (thread    1) f\b\b\r",
      "STEP    53 / 2731 (thread    0) f\b\b\r",
      "STEP    54 / 2731 (thread    5) f\b\b\r",
      "STEP    55 / 2731 (thread    0) f\b\b\r",
      "STEP    56 / 2731 (thread    3) f\b\b\r",
      "STEP    57 / 2731 (thread    2) f\b\b\r",
      "STEP    58 / 2731 (thread    4) f\b\b\r",
      "STEP    59 / 2731 (thread    1) f\b\b\r",
      "STEP    60 / 2731 (thread    5) f\b\b\r",
      "STEP    61 / 2731 (thread    0) f\b\b\r",
      "STEP    62 / 2731 (thread    5) f\b\b\r",
      "STEP    63 / 2731 (thread    2) f\b\b\r",
      "STEP    64 / 2731 (thread    3) f\b\b\r",
      "STEP    65 / 2731 (thread    0) f\b\b\r",
      "STEP    66 / 2731 (thread    4) f\b\b\r",
      "STEP    67 / 2731 (thread    1) f\b\b\r",
      "STEP    68 / 2731 (thread    5) f\b\b\r",
      "STEP    69 / 2731 (thread    2) f\b\b\r",
      "STEP    70 / 2731 (thread    0)\r",
      "STEP    71 / 2731 (thread    3) f\b\b f\b\b\r",
      "STEP    72 / 2731 (thread    5) f\b\b\r",
      "STEP    73 / 2731 (thread    4) f\b\b\r",
      "STEP    74 / 2731 (thread    1) f\b\b\r",
      "STEP    75 / 2731 (thread    2) f\b\b\r",
      "STEP    76 / 2731 (thread    5) f\b\b\r",
      "STEP    77 / 2731 (thread    2) f\b\b\r",
      "STEP    78 / 2731 (thread    0) f\b\b\r",
      "STEP    79 / 2731 (thread    3) f\b\b\r",
      "STEP    80 / 2731 (thread    1) f\b\b\r",
      "STEP    81 / 2731 (thread    4) f\b\b\r",
      "STEP    82 / 2731 (thread    5) f\b\b\r",
      "STEP    83 / 2731 (thread    2) f\b\b\r",
      "STEP    84 / 2731 (thread    5) f\b\b\r",
      "STEP    85 / 2731 (thread    0) f\b\b\r",
      "STEP    86 / 2731 (thread    3) f\b\b\r",
      "STEP    87 / 2731 (thread    4) f\b\b\r",
      "STEP    88 / 2731 (thread    1) f\b\b\r",
      "STEP    89 / 2731 (thread    2) f\b\b\r",
      "STEP    90 / 2731 (thread    5) f\b\b\r",
      "STEP    91 / 2731 (thread    2) f\b\b\r",
      "STEP    92 / 2731 (thread    0) f\b\b\r",
      "STEP    93 / 2731 (thread    3) f\b\b\r",
      "STEP    94 / 2731 (thread    5) f\b\b\r",
      "STEP    95 / 2731 (thread    1) f\b\b\r",
      "STEP    96 / 2731 (thread    4) f\b\b\r",
      "STEP    97 / 2731 (thread    2) f\b\b\r",
      "STEP    98 / 2731 (thread    5) f\b\b\r",
      "STEP    99 / 2731 (thread    3) f\b\b\r",
      "STEP   100 / 2731 (thread    0) f\b\b\r",
      "STEP   101 / 2731 (thread    4) f\b\b\r",
      "STEP   103 / 2731 (thread    2) f\b\b\r",
      "STEP   102 / 2731 (thread    1) f\b\b\r",
      "STEP   104 / 2731 (thread    5) f\b\b\r",
      "STEP   105 / 2731 (thread    2) f\b\b\r",
      "STEP   106 / 2731 (thread    5) f\b\b\r",
      "STEP   107 / 2731 (thread    3) f\b\b\r",
      "STEP   108 / 2731 (thread    0) f\b\b\r",
      "STEP   109 / 2731 (thread    4) f\b\b\r",
      "STEP   110 / 2731 (thread    1) f\b\b\r",
      "STEP   111 / 2731 (thread    5) f\b\b\r",
      "STEP   112 / 2731 (thread    2) f\b\b\r",
      "STEP   113 / 2731 (thread    5) f\b\b\r",
      "STEP   114 / 2731 (thread    3) f\b\b\r",
      "STEP   115 / 2731 (thread    0) f\b\b\r",
      "STEP   116 / 2731 (thread    1) f\b\b\r",
      "STEP   117 / 2731 (thread    4) f\b\b\r",
      "STEP   118 / 2731 (thread    2) f\b\b\r",
      "STEP   119 / 2731 (thread    5) f\b\b\r",
      "STEP   120 / 2731 (thread    2) f\b\b\r",
      "STEP   121 / 2731 (thread    2) f\b\b\r",
      "STEP   122 / 2731 (thread    5) f\b\b\r",
      "STEP   123 / 2731 (thread    0) f\b\b\r",
      "STEP   124 / 2731 (thread    3) f\b\b\r",
      "STEP   125 / 2731 (thread    2) f\b\b\r",
      "STEP   126 / 2731 (thread    4) f\b\b\r",
      "STEP   127 / 2731 (thread    1) f\b\b\r",
      "STEP   128 / 2731 (thread    5) f\b\b\r",
      "STEP   129 / 2731 (thread    2) f\b\b\r",
      "STEP   130 / 2731 (thread    5) f\b\b\r",
      "STEP   131 / 2731 (thread    3) f\b\b\r",
      "STEP   132 / 2731 (thread    0) f\b\b\r",
      "STEP   133 / 2731 (thread    4) f\b\b\r",
      "STEP   134 / 2731 (thread    1) f\b\b\r",
      "STEP   135 / 2731 (thread    2) f\b\b\r",
      "STEP   136 / 2731 (thread    5) f\b\b\r",
      "STEP   137 / 2731 (thread    2) f\b\b\r",
      "STEP   138 / 2731 (thread    0) f\b\b\r",
      "STEP   139 / 2731 (thread    3) f\b\b\r",
      "STEP   140 / 2731 (thread    5) f\b\b\r",
      "STEP   141 / 2731 (thread    4) f\b\b\r",
      "STEP   142 / 2731 (thread    1) f\b\b\r",
      "STEP   143 / 2731 (thread    5) f\b\b\r",
      "STEP   144 / 2731 (thread    2) f\b\b\r",
      "STEP   145 / 2731 (thread    3) f\b\b\r",
      "STEP   146 / 2731 (thread    0) f\b\b\r",
      "STEP   147 / 2731 (thread    4) f\b\b\r",
      "STEP   148 / 2731 (thread    1) f\b\b\r",
      "STEP   149 / 2731 (thread    5) f\b\b\r",
      "STEP   150 / 2731 (thread    2) f\b\b\r",
      "STEP   151 / 2731 (thread    5) f\b\b\r",
      "STEP   152 / 2731 (thread    3) f\b\b\r",
      "STEP   153 / 2731 (thread    0) f\b\b\r",
      "STEP   154 / 2731 (thread    2) f\b\b\r",
      "STEP   155 / 2731 (thread    1) f\b\b\r",
      "STEP   156 / 2731 (thread    4) f\b\b\r",
      "STEP   157 / 2731 (thread    5) f\b\b\r",
      "STEP   158 / 2731 (thread    2) f\b\b\r",
      "STEP   159 / 2731 (thread    0) f\b\b\r",
      "STEP   160 / 2731 (thread    3) f\b\b\r",
      "STEP   161 / 2731 (thread    5) f\b\b\r",
      "STEP   162 / 2731 (thread    1) f\b\b\r",
      "STEP   163 / 2731 (thread    4) f\b\b\r",
      "STEP   164 / 2731 (thread    2) f\b\b\r",
      "STEP   165 / 2731 (thread    5) f\b\b\r",
      "STEP   166 / 2731 (thread    2) f\b\b\r",
      "STEP   167 / 2731 (thread    3)\r",
      "STEP   168 / 2731 (thread    0) f\b\b f\b\b\r",
      "STEP   169 / 2731 (thread    1) f\b\b\r",
      "STEP   170 / 2731 (thread    4) f\b\b\r",
      "STEP   171 / 2731 (thread    5) f\b\b\r",
      "STEP   172 / 2731 (thread    2) f\b\b\r",
      "STEP   173 / 2731 (thread    5) f\b\b\r",
      "STEP   174 / 2731 (thread    0) f\b\b\r",
      "STEP   175 / 2731 (thread    3) f\b\b\r",
      "STEP   176 / 2731 (thread    2) f\b\b\r",
      "STEP   177 / 2731 (thread    1) f\b\b\r",
      "STEP   178 / 2731 (thread    4) f\b\b\r",
      "STEP   179 / 2731 (thread    5) f\b\b\r",
      "STEP   180 / 2731 (thread    2) f\b\b\r",
      "STEP   181 / 2731 (thread    5) f\b\b\r",
      "STEP   182 / 2731 (thread    0) f\b\b\r",
      "STEP   183 / 2731 (thread    3) f\b\b\r",
      "STEP   184 / 2731 (thread    4) f\b\b\r",
      "STEP   185 / 2731 (thread    1) f\b\b\r",
      "STEP   186 / 2731 (thread    5) f\b\b\r",
      "STEP   187 / 2731 (thread    2) f\b\b\r",
      "STEP   188 / 2731 (thread    4) f\b\b\r",
      "STEP   189 / 2731 (thread    5) f\b\b\r",
      "STEP   190 / 2731 (thread    0) f\b\b\r",
      "STEP   191 / 2731 (thread    3) f\b\b\r",
      "STEP   192 / 2731 (thread    1) f\b\b\r",
      "STEP   193 / 2731 (thread    2) f\b\b\r",
      "STEP   194 / 2731 (thread    5) f\b\b\r",
      "STEP   195 / 2731 (thread    4) f\b\b\r",
      "STEP   196 / 2731 (thread    3) f\b\b\r",
      "STEP   197 / 2731 (thread    0) f\b\b\r",
      "STEP   198 / 2731 (thread    5) f\b\b\r",
      "STEP   199 / 2731 (thread    4)\r",
      "STEP   200 / 2731 (thread    1) f\b\b f\b\b\r",
      "STEP   201 / 2731 (thread    2) f\b\b\r",
      "STEP   202 / 2731 (thread    5) f\b\b\r",
      "STEP   203 / 2731 (thread    4) f\b\b\r",
      "STEP   204 / 2731 (thread    3) f\b\b\r",
      "STEP   205 / 2731 (thread    0) f\b\b\r",
      "STEP   206 / 2731 (thread    1) f\b\b\r",
      "STEP   207 / 2731 (thread    5) f\b\b\r",
      "STEP   208 / 2731 (thread    2) f\b\b\r",
      "STEP   209 / 2731 (thread    4) f\b\b\r",
      "STEP   210 / 2731 (thread    5) f\b\b\r",
      "STEP   211 / 2731 (thread    0) f\b\b\r",
      "STEP   212 / 2731 (thread    3) f\b\b\r",
      "STEP   213 / 2731 (thread    4) f\b\b\r",
      "STEP   214 / 2731 (thread    1) f\b\b\r",
      "STEP   215 / 2731 (thread    2) f\b\b\r",
      "STEP   216 / 2731 (thread    5) f\b\b\r",
      "STEP   217 / 2731 (thread    4) f\b\b\r",
      "STEP   218 / 2731 (thread    5) f\b\b\r",
      "STEP   219 / 2731 (thread    0) f\b\b\r",
      "STEP   220 / 2731 (thread    3) f\b\b\r",
      "STEP   221 / 2731 (thread    1) f\b\b\r",
      "STEP   222 / 2731 (thread    2) f\b\b\r",
      "STEP   223 / 2731 (thread    4) f\b\b\r",
      "STEP   224 / 2731 (thread    5) f\b\b\r",
      "STEP   225 / 2731 (thread    0) f\b\b\r",
      "STEP   226 / 2731 (thread    3) f\b\b\r",
      "STEP   227 / 2731 (thread    4) f\b\b\r",
      "STEP   228 / 2731 (thread    1) f\b\b\r",
      "STEP   229 / 2731 (thread    5) f\b\b\r",
      "STEP   230 / 2731 (thread    2) f\b\b\r",
      "STEP   231 / 2731 (thread    5) f\b\b\r",
      "STEP   232 / 2731 (thread    4) f\b\b\r",
      "STEP   233 / 2731 (thread    3) f\b\b\r",
      "STEP   234 / 2731 (thread    0) f\b\b\r",
      "STEP   235 / 2731 (thread    1) f\b\b\r",
      "STEP   236 / 2731 (thread    5) f\b\b\r",
      "STEP   237 / 2731 (thread    2) f\b\b\r",
      "STEP   238 / 2731 (thread    4) f\b\b\r",
      "STEP   239 / 2731 (thread    5) f\b\b\r",
      "STEP   240 / 2731 (thread    4) f\b\b\r",
      "STEP   241 / 2731 (thread    0) f\b\b\r",
      "STEP   242 / 2731 (thread    3) f\b\b\r",
      "STEP   243 / 2731 (thread    1) f\b\b\r",
      "STEP   244 / 2731 (thread    2) f\b\b\r",
      "STEP   245 / 2731 (thread    5) f\b\b\r",
      "STEP   246 / 2731 (thread    4) f\b\b\r",
      "STEP   247 / 2731 (thread    5) f\b\b\r",
      "STEP   248 / 2731 (thread    3)\r",
      "STEP   249 / 2731 (thread    0) f\b\b f\b\b\r",
      "STEP   250 / 2731 (thread    1) f\b\b\r",
      "STEP   251 / 2731 (thread    2) f\b\b\r",
      "STEP   252 / 2731 (thread    4) f\b\b\r",
      "STEP   253 / 2731 (thread    0) f\b\b\r",
      "STEP   254 / 2731 (thread    4) f\b\b\r",
      "STEP   255 / 2731 (thread    5) f\b\b\r",
      "STEP   256 / 2731 (thread    3) f\b\b\r",
      "STEP   257 / 2731 (thread    1) f\b\b\r",
      "STEP   258 / 2731 (thread    2) f\b\b\r",
      "STEP   259 / 2731 (thread    0) f\b\b\r",
      "STEP   260 / 2731 (thread    4) f\b\b\r",
      "STEP   261 / 2731 (thread    5) f\b\b\r",
      "STEP   262 / 2731 (thread    3) f\b\b\r",
      "STEP   263 / 2731 (thread    0) f\b\b\r",
      "STEP   264 / 2731 (thread    4) f\b\b\r",
      "STEP   265 / 2731 (thread    1) f\b\b\r",
      "STEP   266 / 2731 (thread    2) f\b\b\r",
      "STEP   267 / 2731 (thread    0) f\b\b\r",
      "STEP   268 / 2731 (thread    5) f\b\b\r",
      "STEP   269 / 2731 (thread    4) f\b\b\r",
      "STEP   270 / 2731 (thread    3) f\b\b\r",
      "STEP   271 / 2731 (thread    1) f\b\b\r",
      "STEP   272 / 2731 (thread    2) f\b\b\r",
      "STEP   273 / 2731 (thread    0) f\b\b\r",
      "STEP   274 / 2731 (thread    4) f\b\b\r",
      "STEP   275 / 2731 (thread    5) f\b\b\r",
      "STEP   276 / 2731 (thread    3) f\b\b\r",
      "STEP   277 / 2731 (thread    0) f\b\b\r",
      "STEP   278 / 2731 (thread    4) f\b\b\r",
      "STEP   279 / 2731 (thread    1) f\b\b\r",
      "STEP   280 / 2731 (thread    2) f\b\b\r",
      "STEP   281 / 2731 (thread    5) f\b\b\r",
      "STEP   282 / 2731 (thread    3) f\b\b\r",
      "STEP   283 / 2731 (thread    0) f\b\b\r",
      "STEP   284 / 2731 (thread    4) f\b\b\r",
      "STEP   285 / 2731 (thread    1) f\b\b\r",
      "STEP   286 / 2731 (thread    2) f\b\b\r",
      "STEP   287 / 2731 (thread    0) f\b\b\r",
      "STEP   288 / 2731 (thread    4) f\b\b\r",
      "STEP   289 / 2731 (thread    3) f\b\b\r",
      "STEP   290 / 2731 (thread    5) f\b\b\r",
      "STEP   291 / 2731 (thread    0) f\b\b\r",
      "STEP   292 / 2731 (thread    4) f\b\b\r",
      "STEP   293 / 2731 (thread    1) f\b\b\r",
      "STEP   294 / 2731 (thread    2) f\b\b\r",
      "STEP   295 / 2731 (thread    3) f\b\b\r",
      "STEP   296 / 2731 (thread    5) f\b\b\r",
      "STEP   297 / 2731 (thread    0) f\b\b\r",
      "STEP   298 / 2731 (thread    4) f\b\b\r",
      "STEP   299 / 2731 (thread    0) f\b\b\r",
      "STEP   300 / 2731 (thread    1) f\b\b\r",
      "STEP   301 / 2731 (thread    2) f\b\b\r",
      "STEP   302 / 2731 (thread    4) f\b\b\r",
      "STEP   303 / 2731 (thread    3) f\b\b\r",
      "STEP   304 / 2731 (thread    5) f\b\b\r",
      "STEP   305 / 2731 (thread    0) f\b\b\r",
      "STEP   306 / 2731 (thread    4) f\b\b\r",
      "STEP   307 / 2731 (thread    2) f\b\b\r",
      "STEP   308 / 2731 (thread    1) f\b\b\r",
      "STEP   309 / 2731 (thread    3) f\b\b\r",
      "STEP   310 / 2731 (thread    5) f\b\b\r",
      "STEP   311 / 2731 (thread    0) f\b\b\r",
      "STEP   312 / 2731 (thread    4) f\b\b\r",
      "STEP   313 / 2731 (thread    0) f\b\b\r",
      "STEP   314 / 2731 (thread    3) f\b\b\r",
      "STEP   315 / 2731 (thread    5) f\b\b\r",
      "STEP   316 / 2731 (thread    2) f\b\b\r",
      "STEP   317 / 2731 (thread    1) f\b\b\r",
      "STEP   318 / 2731 (thread    4) f\b\b\r",
      "STEP   319 / 2731 (thread    0) f\b\b\r",
      "STEP   320 / 2731 (thread    4) f\b\b\r",
      "STEP   321 / 2731 (thread    3) f\b\b\r",
      "STEP   322 / 2731 (thread    5) f\b\b\r",
      "STEP   323 / 2731 (thread    1) f\b\b\r",
      "STEP   324 / 2731 (thread    2) f\b\b\r",
      "STEP   325 / 2731 (thread    0) f\b\b\r",
      "STEP   326 / 2731 (thread    4) f\b\b\r",
      "STEP   327 / 2731 (thread    0) f\b\b\r",
      "STEP   328 / 2731 (thread    3) f\b\b\r",
      "STEP   329 / 2731 (thread    5) f\b\b\r",
      "STEP   330 / 2731 (thread    1) f\b\b\r",
      "STEP   331 / 2731 (thread    2) f\b\b\r",
      "STEP   332 / 2731 (thread    4) f\b\b\r",
      "STEP   333 / 2731 (thread    0) f\b\b\r",
      "STEP   334 / 2731 (thread    4) f\b\b\r",
      "STEP   335 / 2731 (thread    3) f\b\b\r",
      "STEP   336 / 2731 (thread    5) f\b\b\r",
      "STEP   337 / 2731 (thread    0) f\b\b\r",
      "STEP   338 / 2731 (thread    2) f\b\b\r",
      "STEP   339 / 2731 (thread    1) f\b\b\r",
      "STEP   340 / 2731 (thread    4) f\b\b\r",
      "STEP   341 / 2731 (thread    0) f\b\b\r",
      "STEP   342 / 2731 (thread    3) f\b\b\r",
      "STEP   343 / 2731 (thread    5) f\b\b\r",
      "STEP   344 / 2731 (thread    4) f\b\b\r",
      "STEP   345 / 2731 (thread    1) f\b\b\r",
      "STEP   346 / 2731 (thread    2) f\b\b\r",
      "STEP   347 / 2731 (thread    0) f\b\b\r",
      "STEP   348 / 2731 (thread    4) f\b\b\r",
      "STEP   349 / 2731 (thread    3) f\b\b\r",
      "STEP   350 / 2731 (thread    5) f\b\b\r",
      "STEP   351 / 2731 (thread    0) f\b\b\r",
      "STEP   352 / 2731 (thread    1) f\b\b\r",
      "STEP   353 / 2731 (thread    2) f\b\b\r",
      "STEP   354 / 2731 (thread    4) f\b\b\r",
      "STEP   355 / 2731 (thread    0) f\b\b\r",
      "STEP   356 / 2731 (thread    3) f\b\b\r",
      "STEP   357 / 2731 (thread    5) f\b\b\r",
      "STEP   358 / 2731 (thread    4) f\b\b\r",
      "STEP   359 / 2731 (thread    0) f\b\b\r",
      "STEP   360 / 2731 (thread    2) f\b\b\r",
      "STEP   361 / 2731 (thread    1) f\b\b\r",
      "STEP   362 / 2731 (thread    4) f\b\b\r",
      "STEP   363 / 2731 (thread    3) f\b\b\r",
      "STEP   364 / 2731 (thread    5) f\b\b\r",
      "STEP   365 / 2731 (thread    0) f\b\b\r",
      "STEP   366 / 2731 (thread    4) f\b\b\r",
      "STEP   367 / 2731 (thread    2) f\b\b\r",
      "STEP   368 / 2731 (thread    1) f\b\b\r",
      "STEP   369 / 2731 (thread    0) f\b\b\r",
      "STEP   370 / 2731 (thread    3) f\b\b\r",
      "STEP   371 / 2731 (thread    5) f\b\b\r",
      "STEP   372 / 2731 (thread    4) f\b\b\r",
      "STEP   373 / 2731 (thread    0) f\b\b\r",
      "STEP   374 / 2731 (thread    1) f\b\b\r",
      "STEP   375 / 2731 (thread    2) f\b\b\r",
      "STEP   376 / 2731 (thread    3) f\b\b\r",
      "STEP   377 / 2731 (thread    5) f\b\b\r",
      "STEP   378 / 2731 (thread    4) f\b\b\r",
      "STEP   379 / 2731 (thread    0) f\b\b\r",
      "STEP   380 / 2731 (thread    1) f\b\b\r",
      "STEP   381 / 2731 (thread    2) f\b\b\r",
      "STEP   382 / 2731 (thread    3) f\b\b\r",
      "STEP   383 / 2731 (thread    4) f\b\b\r",
      "STEP   384 / 2731 (thread    0) f\b\b\r",
      "STEP   385 / 2731 (thread    5) f\b\b\r",
      "STEP   386 / 2731 (thread    0) f\b\b\r",
      "STEP   387 / 2731 (thread    4) f\b\b\r",
      "STEP   388 / 2731 (thread    3) f\b\b\r",
      "STEP   389 / 2731 (thread    5) f\b\b\r",
      "STEP   390 / 2731 (thread    0) f\b\b\r",
      "STEP   391 / 2731 (thread    2) f\b\b\r",
      "STEP   392 / 2731 (thread    1) f\b\b\r",
      "STEP   393 / 2731 (thread    4) f\b\b\r",
      "STEP   394 / 2731 (thread    0) f\b\b\r",
      "STEP   395 / 2731 (thread    3) f\b\b\r",
      "STEP   396 / 2731 (thread    5) f\b\b\r",
      "STEP   397 / 2731 (thread    4) f\b\b\r",
      "STEP   398 / 2731 (thread    2) f\b\b\r",
      "STEP   399 / 2731 (thread    0) f\b\b\r",
      "STEP   400 / 2731 (thread    1) f\b\b\r",
      "STEP   401 / 2731 (thread    3) f\b\b\r",
      "STEP   403 / 2731 (thread    0) f\b\b\r",
      "STEP   404 / 2731 (thread    5) f\b\b\r",
      "STEP   405 / 2731 (thread    2) f\b\b\r",
      "STEP   402 / 2731 (thread    4) f\b\b\r",
      "STEP   406 / 2731 (thread    1) f\b\b\r",
      "STEP   407 / 2731 (thread    3) f\b\b\r",
      "STEP   408 / 2731 (thread    0) f\b\b\r",
      "STEP   409 / 2731 (thread    4) f\b\b\r",
      "STEP   410 / 2731 (thread    0) f\b\b\r",
      "STEP   411 / 2731 (thread    5) f\b\b\r",
      "STEP   412 / 2731 (thread    2) f\b\b\r",
      "STEP   413 / 2731 (thread    3) f\b\b\r",
      "STEP   414 / 2731 (thread    4) f\b\b\r",
      "STEP   415 / 2731 (thread    1) f\b\b\r",
      "STEP   416 / 2731 (thread    0) f\b\b\r",
      "STEP   417 / 2731 (thread    4) f\b\b\r",
      "STEP   418 / 2731 (thread    5) f\b\b\r",
      "STEP   419 / 2731 (thread    3) f\b\b\r",
      "STEP   420 / 2731 (thread    2) f\b\b\r",
      "STEP   421 / 2731 (thread    0) f\b\b\r",
      "STEP   422 / 2731 (thread    1) f\b\b\r",
      "STEP   423 / 2731 (thread    4) f\b\b\r",
      "STEP   424 / 2731 (thread    0) f\b\b\r",
      "STEP   425 / 2731 (thread    5) f\b\b\r",
      "STEP   426 / 2731 (thread    3) f\b\b\r",
      "STEP   427 / 2731 (thread    2) f\b\b\r",
      "STEP   428 / 2731 (thread    4) f\b\b\r",
      "STEP   429 / 2731 (thread    1) f\b\b\r",
      "STEP   430 / 2731 (thread    0) f\b\b\r",
      "STEP   431 / 2731 (thread    4) f\b\b\r",
      "STEP   432 / 2731 (thread    3) f\b\b\r",
      "STEP   433 / 2731 (thread    5) f\b\b\r",
      "STEP   435 / 2731 (thread    2) f\b\b\r",
      "STEP   436 / 2731 (thread    4) f\b\b\r",
      "STEP   437 / 2731 (thread    1) f\b\b\r",
      "STEP   438 / 2731 (thread    3) f\b\b\r",
      "STEP   439 / 2731 (thread    4) f\b\b\r",
      "STEP   440 / 2731 (thread    5) f\b\b\r",
      "STEP   434 / 2731 (thread    0) f\b\b\r",
      "STEP   441 / 2731 (thread    2) f\b\b\r",
      "STEP   442 / 2731 (thread    1) f\b\b\r",
      "STEP   443 / 2731 (thread    4) f\b\b\r",
      "STEP   444 / 2731 (thread    0) f\b\b\r",
      "STEP   445 / 2731 (thread    3) f\b\b\r",
      "STEP   446 / 2731 (thread    5) f\b\b\r",
      "STEP   447 / 2731 (thread    2) f\b\b\r",
      "STEP   448 / 2731 (thread    4) f\b\b\r",
      "STEP   449 / 2731 (thread    0) f\b\b\r",
      "STEP   450 / 2731 (thread    1) f\b\b\r",
      "STEP   451 / 2731 (thread    4) f\b\b\r",
      "STEP   452 / 2731 (thread    3) f\b\b\r",
      "STEP   453 / 2731 (thread    0) f\b\b\r",
      "STEP   454 / 2731 (thread    5) f\b\b\r",
      "STEP   455 / 2731 (thread    2) f\b\b\r",
      "STEP   456 / 2731 (thread    4) f\b\b\r",
      "STEP   457 / 2731 (thread    0) f\b\b\r",
      "STEP   458 / 2731 (thread    1) f\b\b\r",
      "STEP   459 / 2731 (thread    3) f\b\b\r",
      "STEP   460 / 2731 (thread    5) f\b\b\r",
      "STEP   461 / 2731 (thread    4) f\b\b\r",
      "STEP   462 / 2731 (thread    0) f\b\b\r",
      "STEP   463 / 2731 (thread    2) f\b\b\r",
      "STEP   464 / 2731 (thread    1) f\b\b\r",
      "STEP   465 / 2731 (thread    4) f\b\b\r",
      "STEP   466 / 2731 (thread    0) f\b\b\r",
      "STEP   467 / 2731 (thread    3) f\b\b\r",
      "STEP   468 / 2731 (thread    5) f\b\b\r",
      "STEP   469 / 2731 (thread    2) f\b\b\r",
      "STEP   470 / 2731 (thread    4) f\b\b\r",
      "STEP   471 / 2731 (thread    0) f\b\b\r",
      "STEP   472 / 2731 (thread    3) f\b\b\r",
      "STEP   473 / 2731 (thread    1) f\b\b\r",
      "STEP   474 / 2731 (thread    5) f\b\b\r",
      "STEP   475 / 2731 (thread    4) f\b\b\r",
      "STEP   479 / 2731 (thread    4) f\b\b\r",
      "STEP   477 / 2731 (thread    2) f\b\b\r",
      "STEP   476 / 2731 (thread    0) f\b\b\r",
      "STEP   481 / 2731 (thread    5) f\b\b\r",
      "STEP   482 / 2731 (thread    5) f\b\b\r",
      "STEP   483 / 2731 (thread    2) f\b\b\r",
      "STEP   478 / 2731 (thread    1) f\b\b\r",
      "STEP   484 / 2731 (thread    4) f\b\b\r",
      "STEP   485 / 2731 (thread    0) f\b\b\r",
      "STEP   486 / 2731 (thread    5) f\b\b\r",
      "STEP   487 / 2731 (thread    4) f\b\b\r",
      "STEP   488 / 2731 (thread    0) f\b\b\r",
      "STEP   489 / 2731 (thread    2) f\b\b\r",
      "STEP   490 / 2731 (thread    5) f\b\b\r",
      "STEP   491 / 2731 (thread    4) f\b\b\r",
      "STEP   492 / 2731 (thread    5) f\b\b\r",
      "STEP   493 / 2731 (thread    0) f\b\b\r",
      "STEP   494 / 2731 (thread    1) f\b\b\r",
      "STEP   480 / 2731 (thread    3) f\b\b\r",
      "STEP   496 / 2731 (thread    5) f\b\b\r",
      "STEP   497 / 2731 (thread    0) f\b\b\r",
      "STEP   498 / 2731 (thread    4) f\b\b\r",
      "STEP   499 / 2731 (thread    1) f\b\b\r",
      "STEP   495 / 2731 (thread    2) f\b\b\r",
      "STEP   500 / 2731 (thread    5) f\b\b\r",
      "STEP   501 / 2731 (thread    0) f\b\b\r",
      "STEP   601 / 2731 (thread    0) f\b\b\r",
      "STEP   701 / 2731 (thread    5) f\b\b"
     ]
    },
    {
     "name": "stderr",
     "output_type": "stream",
     "text": [
      "\r",
      "STEP   801 / 2731 (thread    4) f\b\b\r",
      "STEP   901 / 2731 (thread    4) f\b\b\r",
      "STEP  1001 / 2731 (thread    3) f\b\b\r",
      "STEP  1101 / 2731 (thread    0) f\b\b\r",
      "STEP  1201 / 2731 (thread    2) f\b\b\r",
      "STEP  1301 / 2731 (thread    0) f\b\b\r",
      "STEP  1401 / 2731 (thread    3) f\b\b\r",
      "STEP  1501 / 2731 (thread    5) f\b\b\r",
      "STEP  1601 / 2731 (thread    4) f\b\b"
     ]
    },
    {
     "name": "stderr",
     "output_type": "stream",
     "text": [
      "\r",
      "STEP  1701 / 2731 (thread    4) f\b\b\r",
      "STEP  1801 / 2731 (thread    3) f\b\b\r",
      "STEP  1901 / 2731 (thread    5) f\b\b\r",
      "STEP  2001 / 2731 (thread    2) f\b\b\r",
      "STEP  2101 / 2731 (thread    3) f\b\b\n",
      "Reallocating..done. *alloclen = 1944\n",
      "\r",
      "STEP  2201 / 2731 (thread    0) f\b\b"
     ]
    },
    {
     "name": "stderr",
     "output_type": "stream",
     "text": [
      "\r",
      "STEP  2301 / 2731 (thread    5) f\b\b\r",
      "STEP  2401 / 2731 (thread    5) f\b\b\r",
      "STEP  2501 / 2731 (thread    4) f\b\b\r",
      "STEP  2601 / 2731 (thread    5) d\b\b h"
     ]
    },
    {
     "name": "stderr",
     "output_type": "stream",
     "text": [
      "\r",
      "STEP  2701 / 2731 (thread    4) d\b\b h"
     ]
    },
    {
     "name": "stderr",
     "output_type": "stream",
     "text": [
      "\n",
      "done.\n",
      "\n",
      "disttbfast (nuc) Version 7.490\n",
      "alg=A, model=DNA200 (2), 1.53 (4.59), -0.00 (-0.00), noshift, amax=0.0\n",
      "6 thread(s)\n",
      "\n",
      "\n",
      "Strategy:\n",
      " FFT-NS-2 (Fast but rough)\n",
      " Progressive method (guide trees were built 2 times.)\n",
      "\n",
      "If unsure which option to use, try 'mafft --auto input > output'.\n",
      "For more information, see 'mafft --help', 'mafft --man' and the mafft page.\n",
      "\n",
      "The default gap scoring scheme has been changed in version 7.110 (2013 Oct).\n",
      "It tends to insert more gaps into gap-rich regions than previous versions.\n",
      "To disable this change, add the --leavegappyregion option.\n",
      "\n"
     ]
    },
    {
     "name": "stdout",
     "output_type": "stream",
     "text": [
      "Running external command line application. This may print messages to stdout and/or stderr.\n",
      "The command being run is below. This command cannot be manually re-run as it will depend on temporary files that no longer exist.\n",
      "\n",
      "Command: FastTreeMP -quote -nt /tmp/qiime2-archive-u2nxkc6q/72aa6fc7-d903-463f-b039-085f099168ab/data/aligned-dna-sequences.fasta\n",
      "\n"
     ]
    },
    {
     "name": "stderr",
     "output_type": "stream",
     "text": [
      "FastTree Version 2.1.10 Double precision (No SSE3), OpenMP (6 threads)\n",
      "Alignment: /tmp/qiime2-archive-u2nxkc6q/72aa6fc7-d903-463f-b039-085f099168ab/data/aligned-dna-sequences.fasta\n",
      "Nucleotide distances: Jukes-Cantor Joins: balanced Support: SH-like 1000\n",
      "Search: Normal +NNI +SPR (2 rounds range 10) +ML-NNI opt-each=1\n",
      "TopHits: 1.00*sqrtN close=default refresh=0.80\n",
      "ML Model: Jukes-Cantor, CAT approximation with 20 rate categories\n",
      "      0.11 seconds: Top hits for   1290 of   2547 seqs (at seed    900)\n"
     ]
    },
    {
     "name": "stderr",
     "output_type": "stream",
     "text": [
      "      0.21 seconds: Top hits for   2557 of   2547 seqs (at seed   2400)\n"
     ]
    },
    {
     "name": "stderr",
     "output_type": "stream",
     "text": [
      "      0.48 seconds: Joined    200 of   2544\n",
      "      0.65 seconds: Joined    300 of   2544\n"
     ]
    },
    {
     "name": "stderr",
     "output_type": "stream",
     "text": [
      "      0.81 seconds: Joined    400 of   2544\n",
      "      0.95 seconds: Joined    500 of   2544\n"
     ]
    },
    {
     "name": "stderr",
     "output_type": "stream",
     "text": [
      "      1.13 seconds: Joined    600 of   2544\n",
      "      1.29 seconds: Joined    700 of   2544\n"
     ]
    },
    {
     "name": "stderr",
     "output_type": "stream",
     "text": [
      "      1.42 seconds: Joined    800 of   2544\n",
      "      1.55 seconds: Joined    900 of   2544\n"
     ]
    },
    {
     "name": "stderr",
     "output_type": "stream",
     "text": [
      "      1.68 seconds: Joined   1000 of   2544\n",
      "      1.81 seconds: Joined   1100 of   2544\n"
     ]
    },
    {
     "name": "stderr",
     "output_type": "stream",
     "text": [
      "      1.99 seconds: Joined   1200 of   2544\n"
     ]
    },
    {
     "name": "stderr",
     "output_type": "stream",
     "text": [
      "      2.21 seconds: Joined   1400 of   2544\n",
      "      2.37 seconds: Joined   1500 of   2544\n"
     ]
    },
    {
     "name": "stderr",
     "output_type": "stream",
     "text": [
      "      2.56 seconds: Joined   1600 of   2544\n",
      "      2.74 seconds: Joined   1700 of   2544\n"
     ]
    },
    {
     "name": "stderr",
     "output_type": "stream",
     "text": [
      "      2.90 seconds: Joined   1800 of   2544\n",
      "      3.01 seconds: Joined   1900 of   2544\n"
     ]
    },
    {
     "name": "stderr",
     "output_type": "stream",
     "text": [
      "      3.24 seconds: Joined   2100 of   2544\n",
      "      3.35 seconds: Joined   2200 of   2544\n"
     ]
    },
    {
     "name": "stderr",
     "output_type": "stream",
     "text": [
      "      3.47 seconds: Joined   2300 of   2544\n",
      "      3.59 seconds: Joined   2400 of   2544\n"
     ]
    },
    {
     "name": "stderr",
     "output_type": "stream",
     "text": [
      "      3.73 seconds: Joined   2500 of   2544\n",
      "Initial topology in 3.76 seconds\n",
      "Refining topology: 45 rounds ME-NNIs, 2 rounds ME-SPRs, 23 rounds ML-NNIs\n",
      "      3.83 seconds: ME NNI round 1 of 45, 2101 of 2545 splits, 439 changes (max delta 0.031)\n"
     ]
    },
    {
     "name": "stderr",
     "output_type": "stream",
     "text": [
      "      3.94 seconds: ME NNI round 2 of 45, 2201 of 2545 splits, 252 changes (max delta 0.026)\n",
      "      4.04 seconds: ME NNI round 4 of 45, 401 of 2545 splits, 22 changes (max delta 0.009)\n"
     ]
    },
    {
     "name": "stderr",
     "output_type": "stream",
     "text": [
      "      4.14 seconds: ME NNI round 8 of 45, 1 of 2545 splits\n",
      "      4.28 seconds: SPR round   1 of   2, 201 of 5092 nodes\n"
     ]
    },
    {
     "name": "stderr",
     "output_type": "stream",
     "text": [
      "      4.41 seconds: SPR round   1 of   2, 401 of 5092 nodes\n",
      "      4.54 seconds: SPR round   1 of   2, 601 of 5092 nodes\n"
     ]
    },
    {
     "name": "stderr",
     "output_type": "stream",
     "text": [
      "      4.66 seconds: SPR round   1 of   2, 801 of 5092 nodes\n",
      "      4.79 seconds: SPR round   1 of   2, 1001 of 5092 nodes\n"
     ]
    },
    {
     "name": "stderr",
     "output_type": "stream",
     "text": [
      "      4.93 seconds: SPR round   1 of   2, 1201 of 5092 nodes\n",
      "      5.07 seconds: SPR round   1 of   2, 1401 of 5092 nodes\n"
     ]
    },
    {
     "name": "stderr",
     "output_type": "stream",
     "text": [
      "      5.22 seconds: SPR round   1 of   2, 1601 of 5092 nodes\n",
      "      5.37 seconds: SPR round   1 of   2, 1801 of 5092 nodes\n"
     ]
    },
    {
     "name": "stderr",
     "output_type": "stream",
     "text": [
      "      5.52 seconds: SPR round   1 of   2, 2001 of 5092 nodes\n",
      "      5.64 seconds: SPR round   1 of   2, 2201 of 5092 nodes\n"
     ]
    },
    {
     "name": "stderr",
     "output_type": "stream",
     "text": [
      "      5.77 seconds: SPR round   1 of   2, 2401 of 5092 nodes\n",
      "      5.89 seconds: SPR round   1 of   2, 2601 of 5092 nodes\n"
     ]
    },
    {
     "name": "stderr",
     "output_type": "stream",
     "text": [
      "      6.02 seconds: SPR round   1 of   2, 2801 of 5092 nodes\n",
      "      6.14 seconds: SPR round   1 of   2, 3001 of 5092 nodes\n"
     ]
    },
    {
     "name": "stderr",
     "output_type": "stream",
     "text": [
      "      6.24 seconds: SPR round   1 of   2, 3201 of 5092 nodes\n",
      "      6.36 seconds: SPR round   1 of   2, 3401 of 5092 nodes\n"
     ]
    },
    {
     "name": "stderr",
     "output_type": "stream",
     "text": [
      "      6.47 seconds: SPR round   1 of   2, 3601 of 5092 nodes\n",
      "      6.59 seconds: SPR round   1 of   2, 3801 of 5092 nodes\n"
     ]
    },
    {
     "name": "stderr",
     "output_type": "stream",
     "text": [
      "      6.70 seconds: SPR round   1 of   2, 4001 of 5092 nodes\n",
      "      6.84 seconds: SPR round   1 of   2, 4201 of 5092 nodes\n"
     ]
    },
    {
     "name": "stderr",
     "output_type": "stream",
     "text": [
      "      6.94 seconds: SPR round   1 of   2, 4401 of 5092 nodes\n",
      "      7.06 seconds: SPR round   1 of   2, 4601 of 5092 nodes\n"
     ]
    },
    {
     "name": "stderr",
     "output_type": "stream",
     "text": [
      "      7.18 seconds: SPR round   1 of   2, 4801 of 5092 nodes\n",
      "      7.33 seconds: ME NNI round 16 of 45, 1 of 2545 splits\n"
     ]
    },
    {
     "name": "stderr",
     "output_type": "stream",
     "text": [
      "      7.43 seconds: ME NNI round 17 of 45, 701 of 2545 splits, 2 changes (max delta 0.000)\n",
      "      7.55 seconds: SPR round   2 of   2, 101 of 5092 nodes\n"
     ]
    },
    {
     "name": "stderr",
     "output_type": "stream",
     "text": [
      "      7.70 seconds: SPR round   2 of   2, 401 of 5092 nodes\n",
      "      7.82 seconds: SPR round   2 of   2, 601 of 5092 nodes\n"
     ]
    },
    {
     "name": "stderr",
     "output_type": "stream",
     "text": [
      "      7.97 seconds: SPR round   2 of   2, 901 of 5092 nodes\n",
      "      8.09 seconds: SPR round   2 of   2, 1101 of 5092 nodes\n"
     ]
    },
    {
     "name": "stderr",
     "output_type": "stream",
     "text": [
      "      8.21 seconds: SPR round   2 of   2, 1301 of 5092 nodes\n",
      "      8.34 seconds: SPR round   2 of   2, 1501 of 5092 nodes\n"
     ]
    },
    {
     "name": "stderr",
     "output_type": "stream",
     "text": [
      "      8.47 seconds: SPR round   2 of   2, 1701 of 5092 nodes\n",
      "      8.59 seconds: SPR round   2 of   2, 1901 of 5092 nodes\n"
     ]
    },
    {
     "name": "stderr",
     "output_type": "stream",
     "text": [
      "      8.71 seconds: SPR round   2 of   2, 2101 of 5092 nodes\n",
      "      8.84 seconds: SPR round   2 of   2, 2301 of 5092 nodes\n"
     ]
    },
    {
     "name": "stderr",
     "output_type": "stream",
     "text": [
      "      8.95 seconds: SPR round   2 of   2, 2501 of 5092 nodes\n",
      "      9.08 seconds: SPR round   2 of   2, 2701 of 5092 nodes\n"
     ]
    },
    {
     "name": "stderr",
     "output_type": "stream",
     "text": [
      "      9.21 seconds: SPR round   2 of   2, 2901 of 5092 nodes\n",
      "      9.31 seconds: SPR round   2 of   2, 3101 of 5092 nodes\n"
     ]
    },
    {
     "name": "stderr",
     "output_type": "stream",
     "text": [
      "      9.46 seconds: SPR round   2 of   2, 3401 of 5092 nodes\n",
      "      9.57 seconds: SPR round   2 of   2, 3601 of 5092 nodes\n"
     ]
    },
    {
     "name": "stderr",
     "output_type": "stream",
     "text": [
      "      9.69 seconds: SPR round   2 of   2, 3801 of 5092 nodes\n",
      "      9.80 seconds: SPR round   2 of   2, 4001 of 5092 nodes\n"
     ]
    },
    {
     "name": "stderr",
     "output_type": "stream",
     "text": [
      "      9.94 seconds: SPR round   2 of   2, 4201 of 5092 nodes\n",
      "     10.04 seconds: SPR round   2 of   2, 4401 of 5092 nodes\n"
     ]
    },
    {
     "name": "stderr",
     "output_type": "stream",
     "text": [
      "     10.17 seconds: SPR round   2 of   2, 4601 of 5092 nodes\n",
      "     10.28 seconds: SPR round   2 of   2, 4801 of 5092 nodes\n"
     ]
    },
    {
     "name": "stderr",
     "output_type": "stream",
     "text": [
      "     10.43 seconds: ME NNI round 31 of 45, 1 of 2545 splits\n",
      "     10.53 seconds: ME NNI round 32 of 45, 701 of 2545 splits, 1 changes (max delta 0.000)\n"
     ]
    },
    {
     "name": "stderr",
     "output_type": "stream",
     "text": [
      "Total branch-length 39.280 after 10.69 sec\n",
      "     10.70 seconds: ML Lengths 1 of 2545 splits\n",
      "     10.83 seconds: ML Lengths 401 of 2545 splits\n"
     ]
    },
    {
     "name": "stderr",
     "output_type": "stream",
     "text": [
      "     10.96 seconds: ML Lengths 801 of 2545 splits\n",
      "     11.09 seconds: ML Lengths 1201 of 2545 splits\n"
     ]
    },
    {
     "name": "stderr",
     "output_type": "stream",
     "text": [
      "     11.23 seconds: ML Lengths 1601 of 2545 splits\n",
      "     11.36 seconds: ML Lengths 2001 of 2545 splits\n"
     ]
    },
    {
     "name": "stderr",
     "output_type": "stream",
     "text": [
      "     11.46 seconds: ML Lengths 2301 of 2545 splits\n"
     ]
    },
    {
     "name": "stderr",
     "output_type": "stream",
     "text": [
      "     11.67 seconds: ML NNI round 1 of 23, 101 of 2545 splits, 19 changes (max delta 4.767)\n",
      "     11.79 seconds: ML NNI round 1 of 23, 201 of 2545 splits, 37 changes (max delta 5.134)\n"
     ]
    },
    {
     "name": "stderr",
     "output_type": "stream",
     "text": [
      "     11.92 seconds: ML NNI round 1 of 23, 301 of 2545 splits, 51 changes (max delta 5.555)\n",
      "     12.05 seconds: ML NNI round 1 of 23, 401 of 2545 splits, 67 changes (max delta 5.630)\n"
     ]
    },
    {
     "name": "stderr",
     "output_type": "stream",
     "text": [
      "     12.15 seconds: ML NNI round 1 of 23, 501 of 2545 splits, 87 changes (max delta 5.630)\n",
      "     12.26 seconds: ML NNI round 1 of 23, 601 of 2545 splits, 101 changes (max delta 8.474)\n"
     ]
    },
    {
     "name": "stderr",
     "output_type": "stream",
     "text": [
      "     12.46 seconds: ML NNI round 1 of 23, 801 of 2545 splits, 131 changes (max delta 12.813)\n",
      "     12.57 seconds: ML NNI round 1 of 23, 901 of 2545 splits, 145 changes (max delta 12.813)\n"
     ]
    },
    {
     "name": "stderr",
     "output_type": "stream",
     "text": [
      "     12.74 seconds: ML NNI round 1 of 23, 1101 of 2545 splits, 167 changes (max delta 12.813)\n",
      "     12.93 seconds: ML NNI round 1 of 23, 1301 of 2545 splits, 211 changes (max delta 12.813)\n"
     ]
    },
    {
     "name": "stderr",
     "output_type": "stream",
     "text": [
      "     13.11 seconds: ML NNI round 1 of 23, 1501 of 2545 splits, 247 changes (max delta 12.813)\n",
      "     13.28 seconds: ML NNI round 1 of 23, 1701 of 2545 splits, 290 changes (max delta 12.813)\n"
     ]
    },
    {
     "name": "stderr",
     "output_type": "stream",
     "text": [
      "     13.44 seconds: ML NNI round 1 of 23, 1901 of 2545 splits, 313 changes (max delta 12.813)\n",
      "     13.62 seconds: ML NNI round 1 of 23, 2101 of 2545 splits, 344 changes (max delta 12.813)\n"
     ]
    },
    {
     "name": "stderr",
     "output_type": "stream",
     "text": [
      "     13.78 seconds: ML NNI round 1 of 23, 2301 of 2545 splits, 370 changes (max delta 12.813)\n",
      "     13.95 seconds: ML NNI round 1 of 23, 2501 of 2545 splits, 408 changes (max delta 12.813)\n"
     ]
    },
    {
     "name": "stderr",
     "output_type": "stream",
     "text": [
      "ML-NNI round 1: LogLk = -104312.123 NNIs 414 max delta 12.81 Time 14.01\n",
      "     14.05 seconds: Site likelihoods with rate category 1 of 20\n",
      "     14.18 seconds: Site likelihoods with rate category 4 of 20\n"
     ]
    },
    {
     "name": "stderr",
     "output_type": "stream",
     "text": [
      "     14.32 seconds: Site likelihoods with rate category 7 of 20\n",
      "     14.45 seconds: Site likelihoods with rate category 10 of 20\n"
     ]
    },
    {
     "name": "stderr",
     "output_type": "stream",
     "text": [
      "     14.58 seconds: Site likelihoods with rate category 13 of 20\n",
      "     14.71 seconds: Site likelihoods with rate category 16 of 20\n"
     ]
    },
    {
     "name": "stderr",
     "output_type": "stream",
     "text": [
      "     14.85 seconds: Site likelihoods with rate category 19 of 20\n",
      "Switched to using 20 rate categories (CAT approximation)\n",
      "Rate categories were divided by 1.185 so that average rate = 1.0\n",
      "CAT-based log-likelihoods may not be comparable across runs\n",
      "Use -gamma for approximate but comparable Gamma(20) log-likelihoods\n",
      "     15.03 seconds: ML NNI round 2 of 23, 101 of 2545 splits, 7 changes (max delta 1.295)\n"
     ]
    },
    {
     "name": "stderr",
     "output_type": "stream",
     "text": [
      "     15.21 seconds: ML NNI round 2 of 23, 301 of 2545 splits, 29 changes (max delta 2.404)\n",
      "     15.40 seconds: ML NNI round 2 of 23, 501 of 2545 splits, 47 changes (max delta 2.826)\n"
     ]
    },
    {
     "name": "stderr",
     "output_type": "stream",
     "text": [
      "     15.59 seconds: ML NNI round 2 of 23, 701 of 2545 splits, 62 changes (max delta 2.826)\n",
      "     15.78 seconds: ML NNI round 2 of 23, 901 of 2545 splits, 77 changes (max delta 2.826)\n"
     ]
    },
    {
     "name": "stderr",
     "output_type": "stream",
     "text": [
      "     15.97 seconds: ML NNI round 2 of 23, 1101 of 2545 splits, 97 changes (max delta 8.468)\n",
      "     16.08 seconds: ML NNI round 2 of 23, 1201 of 2545 splits, 106 changes (max delta 8.468)\n"
     ]
    },
    {
     "name": "stderr",
     "output_type": "stream",
     "text": [
      "     16.27 seconds: ML NNI round 2 of 23, 1401 of 2545 splits, 124 changes (max delta 8.468)\n",
      "     16.47 seconds: ML NNI round 2 of 23, 1601 of 2545 splits, 148 changes (max delta 8.468)\n"
     ]
    },
    {
     "name": "stderr",
     "output_type": "stream",
     "text": [
      "     16.57 seconds: ML NNI round 2 of 23, 1701 of 2545 splits, 157 changes (max delta 8.468)\n",
      "     16.74 seconds: ML NNI round 2 of 23, 1901 of 2545 splits, 178 changes (max delta 8.468)\n"
     ]
    },
    {
     "name": "stderr",
     "output_type": "stream",
     "text": [
      "     16.93 seconds: ML NNI round 2 of 23, 2101 of 2545 splits, 193 changes (max delta 8.468)\n",
      "     17.11 seconds: ML NNI round 2 of 23, 2301 of 2545 splits, 219 changes (max delta 8.468)\n"
     ]
    },
    {
     "name": "stderr",
     "output_type": "stream",
     "text": [
      "     17.29 seconds: ML NNI round 2 of 23, 2501 of 2545 splits, 236 changes (max delta 8.468)\n",
      "ML-NNI round 2: LogLk = -87043.352 NNIs 240 max delta 8.47 Time 17.35\n",
      "     17.43 seconds: ML NNI round 3 of 23, 101 of 2545 splits, 2 changes (max delta 0.000)\n"
     ]
    },
    {
     "name": "stderr",
     "output_type": "stream",
     "text": [
      "     17.59 seconds: ML NNI round 3 of 23, 301 of 2545 splits, 9 changes (max delta 6.157)\n",
      "     17.75 seconds: ML NNI round 3 of 23, 501 of 2545 splits, 12 changes (max delta 6.157)\n"
     ]
    },
    {
     "name": "stderr",
     "output_type": "stream",
     "text": [
      "     17.93 seconds: ML NNI round 3 of 23, 701 of 2545 splits, 20 changes (max delta 6.157)\n",
      "     18.12 seconds: ML NNI round 3 of 23, 901 of 2545 splits, 28 changes (max delta 6.157)\n"
     ]
    },
    {
     "name": "stderr",
     "output_type": "stream",
     "text": [
      "     18.30 seconds: ML NNI round 3 of 23, 1101 of 2545 splits, 42 changes (max delta 6.157)\n",
      "     18.45 seconds: ML NNI round 3 of 23, 1301 of 2545 splits, 52 changes (max delta 6.157)\n"
     ]
    },
    {
     "name": "stderr",
     "output_type": "stream",
     "text": [
      "     18.62 seconds: ML NNI round 3 of 23, 1501 of 2545 splits, 70 changes (max delta 9.613)\n",
      "ML-NNI round 3: LogLk = -86977.818 NNIs 77 max delta 9.61 Time 18.72\n",
      "     18.79 seconds: ML NNI round 4 of 23, 101 of 2545 splits, 4 changes (max delta 0.750)\n"
     ]
    },
    {
     "name": "stderr",
     "output_type": "stream",
     "text": [
      "     18.97 seconds: ML NNI round 4 of 23, 301 of 2545 splits, 8 changes (max delta 4.002)\n",
      "     19.15 seconds: ML NNI round 4 of 23, 501 of 2545 splits, 15 changes (max delta 4.002)\n"
     ]
    },
    {
     "name": "stderr",
     "output_type": "stream",
     "text": [
      "     19.33 seconds: ML NNI round 4 of 23, 701 of 2545 splits, 23 changes (max delta 4.002)\n",
      "     19.49 seconds: ML NNI round 4 of 23, 901 of 2545 splits, 28 changes (max delta 4.002)\n",
      "ML-NNI round 4: LogLk = -86951.964 NNIs 28 max delta 4.00 Time 19.52\n"
     ]
    },
    {
     "name": "stderr",
     "output_type": "stream",
     "text": [
      "     19.60 seconds: ML NNI round 5 of 23, 101 of 2545 splits, 3 changes (max delta 1.650)\n",
      "     19.77 seconds: ML NNI round 5 of 23, 301 of 2545 splits, 12 changes (max delta 1.650)\n"
     ]
    },
    {
     "name": "stderr",
     "output_type": "stream",
     "text": [
      "ML-NNI round 5: LogLk = -86939.863 NNIs 14 max delta 2.18 Time 19.85\n",
      "     19.94 seconds: ML NNI round 6 of 23, 101 of 2545 splits, 4 changes (max delta 0.000)\n"
     ]
    },
    {
     "name": "stderr",
     "output_type": "stream",
     "text": [
      "ML-NNI round 6: LogLk = -86937.505 NNIs 7 max delta 1.31 Time 20.08\n",
      "     20.08 seconds: ML NNI round 7 of 23, 1 of 2545 splits\n",
      "ML-NNI round 7: LogLk = -86937.473 NNIs 0 max delta 0.00 Time 20.21\n",
      "Turning off heuristics for final round of ML NNIs (converged)\n",
      "     20.21 seconds: ML NNI round 8 of 23, 1 of 2545 splits\n"
     ]
    },
    {
     "name": "stderr",
     "output_type": "stream",
     "text": [
      "     20.37 seconds: ML NNI round 8 of 23, 201 of 2545 splits, 0 changes\n",
      "     20.54 seconds: ML NNI round 8 of 23, 401 of 2545 splits, 1 changes (max delta 0.022)\n"
     ]
    },
    {
     "name": "stderr",
     "output_type": "stream",
     "text": [
      "     20.71 seconds: ML NNI round 8 of 23, 601 of 2545 splits, 4 changes (max delta 0.022)\n",
      "     20.88 seconds: ML NNI round 8 of 23, 801 of 2545 splits, 4 changes (max delta 0.022)\n"
     ]
    },
    {
     "name": "stderr",
     "output_type": "stream",
     "text": [
      "     21.06 seconds: ML NNI round 8 of 23, 1001 of 2545 splits, 4 changes (max delta 0.022)\n",
      "     21.25 seconds: ML NNI round 8 of 23, 1201 of 2545 splits, 5 changes (max delta 0.022)\n"
     ]
    },
    {
     "name": "stderr",
     "output_type": "stream",
     "text": [
      "     21.43 seconds: ML NNI round 8 of 23, 1401 of 2545 splits, 9 changes (max delta 0.676)\n",
      "     21.61 seconds: ML NNI round 8 of 23, 1601 of 2545 splits, 10 changes (max delta 0.676)\n"
     ]
    },
    {
     "name": "stderr",
     "output_type": "stream",
     "text": [
      "     21.78 seconds: ML NNI round 8 of 23, 1801 of 2545 splits, 11 changes (max delta 0.676)\n",
      "     21.93 seconds: ML NNI round 8 of 23, 2001 of 2545 splits, 14 changes (max delta 0.676)\n"
     ]
    },
    {
     "name": "stderr",
     "output_type": "stream",
     "text": [
      "     22.11 seconds: ML NNI round 8 of 23, 2201 of 2545 splits, 18 changes (max delta 0.676)\n",
      "     22.29 seconds: ML NNI round 8 of 23, 2401 of 2545 splits, 19 changes (max delta 0.676)\n"
     ]
    },
    {
     "name": "stderr",
     "output_type": "stream",
     "text": [
      "ML-NNI round 8: LogLk = -86925.652 NNIs 22 max delta 2.22 Time 22.44 (final)\n",
      "     22.43 seconds: ML Lengths 1 of 2545 splits\n",
      "     22.54 seconds: ML Lengths 401 of 2545 splits\n"
     ]
    },
    {
     "name": "stderr",
     "output_type": "stream",
     "text": [
      "     22.66 seconds: ML Lengths 901 of 2545 splits\n",
      "     22.77 seconds: ML Lengths 1301 of 2545 splits\n"
     ]
    },
    {
     "name": "stderr",
     "output_type": "stream",
     "text": [
      "     22.87 seconds: ML Lengths 1701 of 2545 splits\n",
      "     23.00 seconds: ML Lengths 2201 of 2545 splits\n"
     ]
    },
    {
     "name": "stderr",
     "output_type": "stream",
     "text": [
      "Optimize all lengths: LogLk = -86923.448 Time 23.12\n",
      "     23.27 seconds: ML split tests for    100 of   2544 internal splits\n"
     ]
    },
    {
     "name": "stderr",
     "output_type": "stream",
     "text": [
      "     23.43 seconds: ML split tests for    200 of   2544 internal splits\n",
      "     23.58 seconds: ML split tests for    300 of   2544 internal splits\n"
     ]
    },
    {
     "name": "stderr",
     "output_type": "stream",
     "text": [
      "     23.74 seconds: ML split tests for    400 of   2544 internal splits\n",
      "     23.90 seconds: ML split tests for    500 of   2544 internal splits\n"
     ]
    },
    {
     "name": "stderr",
     "output_type": "stream",
     "text": [
      "     24.05 seconds: ML split tests for    600 of   2544 internal splits\n",
      "     24.21 seconds: ML split tests for    700 of   2544 internal splits\n"
     ]
    },
    {
     "name": "stderr",
     "output_type": "stream",
     "text": [
      "     24.36 seconds: ML split tests for    800 of   2544 internal splits\n",
      "     24.52 seconds: ML split tests for    900 of   2544 internal splits\n"
     ]
    },
    {
     "name": "stderr",
     "output_type": "stream",
     "text": [
      "     24.68 seconds: ML split tests for   1000 of   2544 internal splits\n",
      "     24.84 seconds: ML split tests for   1100 of   2544 internal splits\n"
     ]
    },
    {
     "name": "stderr",
     "output_type": "stream",
     "text": [
      "     24.99 seconds: ML split tests for   1200 of   2544 internal splits\n",
      "     25.15 seconds: ML split tests for   1300 of   2544 internal splits\n"
     ]
    },
    {
     "name": "stderr",
     "output_type": "stream",
     "text": [
      "     25.30 seconds: ML split tests for   1400 of   2544 internal splits\n",
      "     25.45 seconds: ML split tests for   1500 of   2544 internal splits\n"
     ]
    },
    {
     "name": "stderr",
     "output_type": "stream",
     "text": [
      "     25.61 seconds: ML split tests for   1600 of   2544 internal splits\n",
      "     25.76 seconds: ML split tests for   1700 of   2544 internal splits\n"
     ]
    },
    {
     "name": "stderr",
     "output_type": "stream",
     "text": [
      "     25.92 seconds: ML split tests for   1800 of   2544 internal splits\n",
      "     26.07 seconds: ML split tests for   1900 of   2544 internal splits\n"
     ]
    },
    {
     "name": "stderr",
     "output_type": "stream",
     "text": [
      "     26.22 seconds: ML split tests for   2000 of   2544 internal splits\n",
      "     26.38 seconds: ML split tests for   2100 of   2544 internal splits\n"
     ]
    },
    {
     "name": "stderr",
     "output_type": "stream",
     "text": [
      "     26.54 seconds: ML split tests for   2200 of   2544 internal splits\n",
      "     26.69 seconds: ML split tests for   2300 of   2544 internal splits\n"
     ]
    },
    {
     "name": "stderr",
     "output_type": "stream",
     "text": [
      "     26.85 seconds: ML split tests for   2400 of   2544 internal splits\n",
      "     27.01 seconds: ML split tests for   2500 of   2544 internal splits\n"
     ]
    },
    {
     "name": "stderr",
     "output_type": "stream",
     "text": [
      "Total time: 27.08 seconds Unique: 2547/2732 Bad splits: 1/2544 Worst delta-LogLk 0.255\n"
     ]
    }
   ],
   "source": [
    "mafft_alignment, mafft_masked_alignment, mafft_tree, mafft_rooted_tree = align_to_tree_mafft_fasttree(\n",
    "    sequences=reps, n_threads=6, )"
   ]
  },
  {
   "cell_type": "markdown",
   "id": "0768d598",
   "metadata": {
    "papermill": {
     "duration": 0.04324,
     "end_time": "2023-08-23T19:10:24.018532",
     "exception": false,
     "start_time": "2023-08-23T19:10:23.975292",
     "status": "completed"
    },
    "tags": []
   },
   "source": [
    "### Compute Alpha Diversity (Phylogeny)\n",
    "- [diversity alpha_phylogenetic](https://docs.qiime2.org/2022.8/plugins/available/diversity/alpha-phylogenetic/): Computes a user-specified phylogenetic alpha diversity metric for all samples in a feature table.\n",
    "- Metrics: Choices ('faith_pd')"
   ]
  },
  {
   "cell_type": "code",
   "execution_count": 11,
   "id": "0383aa19",
   "metadata": {
    "ExecuteTime": {
     "end_time": "2022-09-29T20:54:35.310009Z",
     "start_time": "2022-09-29T20:54:35.141333Z"
    },
    "execution": {
     "iopub.execute_input": "2023-08-23T19:10:24.105924Z",
     "iopub.status.busy": "2023-08-23T19:10:24.105504Z",
     "iopub.status.idle": "2023-08-23T19:10:24.274053Z",
     "shell.execute_reply": "2023-08-23T19:10:24.273539Z"
    },
    "papermill": {
     "duration": 0.21395,
     "end_time": "2023-08-23T19:10:24.275387",
     "exception": false,
     "start_time": "2023-08-23T19:10:24.061437",
     "status": "completed"
    },
    "tags": []
   },
   "outputs": [
    {
     "name": "stdout",
     "output_type": "stream",
     "text": [
      "Calculating alpha diversity: faith_pd\n",
      "DONE: Calculating alpha phylogeny: faith_pd\n"
     ]
    }
   ],
   "source": [
    "metrics = ('faith_pd', )\n",
    "alpha_diversities_phylogenetic = dict()\n",
    "for metric in metrics:\n",
    "    print(f\"Calculating alpha diversity: {metric}\")\n",
    "    try:\n",
    "        alpha_diversity = alpha_phylogenetic(table=tabs, phylogeny=mafft_rooted_tree, metric=metric).alpha_diversity\n",
    "        alpha_diversities_phylogenetic[metric] = alpha_diversity\n",
    "        # Save Artifact\n",
    "        file_path = os.path.join(alpha_path, f'alpha-phylogeny-{metric}.qza')\n",
    "        alpha_diversity.save(file_path)\n",
    "        print(f\"DONE: Calculating alpha phylogeny: {metric}\")\n",
    "    except Exception as e:\n",
    "        print(f\"ERROR: Calculating alpha phylogeny: {metric}\")"
   ]
  },
  {
   "cell_type": "markdown",
   "id": "c7752cfd",
   "metadata": {
    "papermill": {
     "duration": 0.043596,
     "end_time": "2023-08-23T19:10:24.363498",
     "exception": false,
     "start_time": "2023-08-23T19:10:24.319902",
     "status": "completed"
    },
    "tags": []
   },
   "source": [
    "### Alpha diversity correlation\n",
    "\n",
    "This method only process `numeric` columns.\n"
   ]
  },
  {
   "cell_type": "code",
   "execution_count": 12,
   "id": "2814f613",
   "metadata": {
    "ExecuteTime": {
     "end_time": "2022-09-29T20:54:35.317618Z",
     "start_time": "2022-09-29T20:54:35.312094Z"
    },
    "execution": {
     "iopub.execute_input": "2023-08-23T19:10:24.455136Z",
     "iopub.status.busy": "2023-08-23T19:10:24.454808Z",
     "iopub.status.idle": "2023-08-23T19:10:24.463009Z",
     "shell.execute_reply": "2023-08-23T19:10:24.462241Z"
    },
    "papermill": {
     "duration": 0.057587,
     "end_time": "2023-08-23T19:10:24.464536",
     "exception": false,
     "start_time": "2023-08-23T19:10:24.406949",
     "status": "completed"
    },
    "tags": []
   },
   "outputs": [],
   "source": [
    "methods = ('spearman', 'pearson')\n",
    "numerics_cols = metadata_qa.filter_columns(column_type='numeric')\n",
    "if numerics_cols.column_count > 0:\n",
    "    for metric, alpha_values in alpha_diversities.items():\n",
    "        for method in methods:\n",
    "            try:\n",
    "                corr_view = alpha_correlation(alpha_diversity=alpha_values, metadata=numerics_cols, \n",
    "                                          method=method, intersect_ids=True).visualization\n",
    "                view_path = os.path.join(alpha_path, f'alpha-correlation-{metric}-{method}.qzv')\n",
    "                corr_view.save(view_path)\n",
    "                corr_view\n",
    "                print(f\"DONE: Calculating alpha correlation: {metric} {method}\")\n",
    "            except Exception as e:\n",
    "                print(f\"ERROR: Calculating alpha correlation: {metric} {method}\")"
   ]
  },
  {
   "cell_type": "markdown",
   "id": "8ea83c8a",
   "metadata": {
    "papermill": {
     "duration": 0.04594,
     "end_time": "2023-08-23T19:10:24.557325",
     "exception": false,
     "start_time": "2023-08-23T19:10:24.511385",
     "status": "completed"
    },
    "tags": []
   },
   "source": [
    "## Alpha diversity comparisons\n",
    "\n",
    "Visually and statistically compare groups of alpha diversity values.\n",
    "\n",
    "[diversity alpha_group_significance](https://docs.qiime2.org/2022.8/plugins/available/diversity/alpha-group-significance/)"
   ]
  },
  {
   "cell_type": "code",
   "execution_count": 13,
   "id": "276d1c18",
   "metadata": {
    "ExecuteTime": {
     "end_time": "2022-09-29T20:54:36.089290Z",
     "start_time": "2022-09-29T20:54:35.318963Z"
    },
    "execution": {
     "iopub.execute_input": "2023-08-23T19:10:24.646043Z",
     "iopub.status.busy": "2023-08-23T19:10:24.645662Z",
     "iopub.status.idle": "2023-08-23T19:10:24.733450Z",
     "shell.execute_reply": "2023-08-23T19:10:24.732896Z"
    },
    "papermill": {
     "duration": 0.134261,
     "end_time": "2023-08-23T19:10:24.735124",
     "exception": false,
     "start_time": "2023-08-23T19:10:24.600863",
     "status": "completed"
    },
    "tags": []
   },
   "outputs": [
    {
     "name": "stdout",
     "output_type": "stream",
     "text": [
      "Processing alpha_group_significance: chao1\n",
      "ERROR: Calculating alpha group significance: chao1\n",
      "Processing alpha_group_significance: observed_features\n",
      "ERROR: Calculating alpha group significance: observed_features\n",
      "Processing alpha_group_significance: shannon\n",
      "ERROR: Calculating alpha group significance: shannon\n",
      "Processing alpha_group_significance: simpson\n",
      "ERROR: Calculating alpha group significance: simpson\n",
      "Processing alpha_group_significance: dominance\n",
      "ERROR: Calculating alpha group significance: dominance\n",
      "Processing alpha_group_significance: gini_index\n",
      "ERROR: Calculating alpha group significance: gini_index\n",
      "Processing alpha_group_significance: goods_coverage\n",
      "ERROR: Calculating alpha group significance: goods_coverage\n",
      "Processing alpha_group_significance: singles\n",
      "ERROR: Calculating alpha group significance: singles\n",
      "Processing alpha_group_significance: strong\n",
      "ERROR: Calculating alpha group significance: strong\n"
     ]
    }
   ],
   "source": [
    "for metric, alpha_values in alpha_diversities.items():\n",
    "    print(f\"Processing alpha_group_significance: {metric}\")\n",
    "    try:\n",
    "        significance_view = alpha_group_significance(alpha_diversity=alpha_values, metadata=metadata_qa).visualization\n",
    "        view_path = os.path.join(alpha_path, f'alpha-group-significance-{metric}.qzv')\n",
    "        significance_view.save(view_path)\n",
    "        significance_view\n",
    "        print(f\"DONE: Calculating alpha group significance: {metric}\")\n",
    "    except Exception as e:\n",
    "        print(f\"ERROR: Calculating alpha group significance: {metric}\")"
   ]
  },
  {
   "cell_type": "markdown",
   "id": "4349d357",
   "metadata": {
    "papermill": {
     "duration": 0.044028,
     "end_time": "2023-08-23T19:10:24.826697",
     "exception": false,
     "start_time": "2023-08-23T19:10:24.782669",
     "status": "completed"
    },
    "tags": []
   },
   "source": [
    "## Beta diversity analysis\n",
    "\n",
    "#### Reference\n",
    "- [diversity beta](https://docs.qiime2.org/2022.8/plugins/available/diversity/beta/): Computes a user-specified beta diversity metric for all pairs of samples in a feature table.\n",
    "- [Beta diversity metrics](http://scikit-bio.org/docs/0.2.0/generated/skbio.diversity.beta.html)\n",
    "\n",
    "- Metric Choices('aitchison', 'braycurtis', 'canberra', 'canberra_adkins', 'chebyshev', 'cityblock', 'correlation', 'cosine', 'dice', 'euclidean', 'hamming', 'jaccard', 'jensenshannon', 'kulsinski', 'matching', 'minkowski', 'rogerstanimoto', 'russellrao', 'seuclidean', 'sokalmichener', 'sokalsneath', 'sqeuclidean', 'yule')"
   ]
  },
  {
   "cell_type": "code",
   "execution_count": 14,
   "id": "f6f358dd",
   "metadata": {
    "ExecuteTime": {
     "end_time": "2022-09-29T20:54:36.335038Z",
     "start_time": "2022-09-29T20:54:36.091288Z"
    },
    "execution": {
     "iopub.execute_input": "2023-08-23T19:10:24.916870Z",
     "iopub.status.busy": "2023-08-23T19:10:24.916409Z",
     "iopub.status.idle": "2023-08-23T19:10:25.590323Z",
     "shell.execute_reply": "2023-08-23T19:10:25.589262Z"
    },
    "papermill": {
     "duration": 0.721662,
     "end_time": "2023-08-23T19:10:25.592027",
     "exception": false,
     "start_time": "2023-08-23T19:10:24.870365",
     "status": "completed"
    },
    "tags": []
   },
   "outputs": [
    {
     "name": "stdout",
     "output_type": "stream",
     "text": [
      "Calculating beta diversity: euclidean\n",
      "DONE: Calculating beta diversity: euclidean\n",
      "Calculating beta diversity: dice\n"
     ]
    },
    {
     "name": "stderr",
     "output_type": "stream",
     "text": [
      "/home/lauro/anaconda3/envs/qiime2-2022.2/lib/python3.8/site-packages/sklearn/metrics/pairwise.py:1761: DataConversionWarning: Data was converted to boolean for metric dice\n",
      "  warnings.warn(msg, DataConversionWarning)\n"
     ]
    },
    {
     "name": "stdout",
     "output_type": "stream",
     "text": [
      "DONE: Calculating beta diversity: dice\n",
      "Calculating beta diversity: braycurtis\n",
      "DONE: Calculating beta diversity: braycurtis\n",
      "Calculating beta diversity: correlation\n",
      "ERROR: Calculating beta diversity: correlation\n",
      "Calculating beta diversity: cosine\n",
      "ERROR: Calculating beta diversity: cosine\n",
      "Calculating beta diversity: matching\n"
     ]
    },
    {
     "name": "stdout",
     "output_type": "stream",
     "text": [
      "DONE: Calculating beta diversity: matching\n",
      "Calculating beta diversity: jaccard\n",
      "DONE: Calculating beta diversity: jaccard\n"
     ]
    },
    {
     "name": "stderr",
     "output_type": "stream",
     "text": [
      "/home/lauro/anaconda3/envs/qiime2-2022.2/lib/python3.8/site-packages/sklearn/metrics/pairwise.py:1761: DataConversionWarning: Data was converted to boolean for metric matching\n",
      "  warnings.warn(msg, DataConversionWarning)\n",
      "/home/lauro/anaconda3/envs/qiime2-2022.2/lib/python3.8/site-packages/sklearn/metrics/pairwise.py:1761: DataConversionWarning: Data was converted to boolean for metric jaccard\n",
      "  warnings.warn(msg, DataConversionWarning)\n"
     ]
    }
   ],
   "source": [
    "metrics = ('aitchison', 'braycurtis', 'canberra', 'canberra_adkins', 'chebyshev', 'cityblock', 'correlation', 'cosine', 'dice', 'euclidean', 'hamming', 'jaccard', 'jensenshannon', 'kulsinski', 'matching', 'minkowski', 'rogerstanimoto', 'russellrao', 'seuclidean', 'sokalmichener', 'sokalsneath', 'sqeuclidean', 'yule')\n",
    "metrics = ('euclidean', 'dice', 'braycurtis', 'correlation', 'cosine', 'matching', 'jaccard')\n",
    "beta_diversities = dict()\n",
    "for metric in metrics:\n",
    "    print(f\"Calculating beta diversity: {metric}\")\n",
    "    try:\n",
    "        beta_diversity = beta(table=tabs, metric=metric, n_jobs=6, pseudocount=1).distance_matrix\n",
    "        beta_diversities[metric] = beta_diversity\n",
    "        # Save SampleData[BetaDiversity] Artifact\n",
    "        file_path = os.path.join(beta_path, f'beta-values-{metric}.qza')\n",
    "        beta_diversity.save(file_path)\n",
    "        print(f\"DONE: Calculating beta diversity: {metric}\")\n",
    "    except Exception as e:\n",
    "        print(f\"ERROR: Calculating beta diversity: {metric}\")"
   ]
  },
  {
   "cell_type": "markdown",
   "id": "200a2fa7",
   "metadata": {
    "papermill": {
     "duration": 0.051838,
     "end_time": "2023-08-23T19:10:25.697004",
     "exception": false,
     "start_time": "2023-08-23T19:10:25.645166",
     "status": "completed"
    },
    "tags": []
   },
   "source": [
    "### Beta group significance\n",
    "\n",
    "- [diversity beta_group_significance](https://docs.qiime2.org/2022.8/plugins/available/diversity/beta-group-significance/): Determine whether groups of samples are significantly different from one another using a permutation-based statistical test.\n",
    "- Marti J Anderson. A new method for non-parametric multivariate analysis of variance. Austral ecology, 26(1):32–46, 2001. doi:https://doi.org/10.1111/j.1442-9993.2001.01070.pp.x."
   ]
  },
  {
   "cell_type": "code",
   "execution_count": 15,
   "id": "b8dd42b6",
   "metadata": {
    "ExecuteTime": {
     "end_time": "2022-09-29T20:55:08.313860Z",
     "start_time": "2022-09-29T20:54:36.336993Z"
    },
    "execution": {
     "iopub.execute_input": "2023-08-23T19:10:25.807629Z",
     "iopub.status.busy": "2023-08-23T19:10:25.807122Z",
     "iopub.status.idle": "2023-08-23T19:10:25.968091Z",
     "shell.execute_reply": "2023-08-23T19:10:25.967105Z"
    },
    "papermill": {
     "duration": 0.216329,
     "end_time": "2023-08-23T19:10:25.970206",
     "exception": false,
     "start_time": "2023-08-23T19:10:25.753877",
     "status": "completed"
    },
    "tags": []
   },
   "outputs": [
    {
     "name": "stdout",
     "output_type": "stream",
     "text": [
      "Calculating beta group significance with method permanova and metric euclidean\n",
      "ERROR: Calculating beta group significance: permanova euclidean\n",
      "Calculating beta group significance with method permanova and metric dice\n",
      "ERROR: Calculating beta group significance: permanova dice\n",
      "Calculating beta group significance with method permanova and metric braycurtis\n",
      "ERROR: Calculating beta group significance: permanova braycurtis\n",
      "Calculating beta group significance with method permanova and metric matching\n",
      "ERROR: Calculating beta group significance: permanova matching\n",
      "Calculating beta group significance with method permanova and metric jaccard\n",
      "ERROR: Calculating beta group significance: permanova jaccard\n",
      "Calculating beta group significance with method anosim and metric euclidean\n",
      "ERROR: Calculating beta group significance: anosim euclidean\n",
      "Calculating beta group significance with method anosim and metric dice\n",
      "ERROR: Calculating beta group significance: anosim dice\n",
      "Calculating beta group significance with method anosim and metric braycurtis\n",
      "ERROR: Calculating beta group significance: anosim braycurtis\n",
      "Calculating beta group significance with method anosim and metric matching\n",
      "ERROR: Calculating beta group significance: anosim matching\n",
      "Calculating beta group significance with method anosim and metric jaccard\n",
      "ERROR: Calculating beta group significance: anosim jaccard\n",
      "Calculating beta group significance with method permdisp and metric euclidean\n",
      "ERROR: Calculating beta group significance: permdisp euclidean\n",
      "Calculating beta group significance with method permdisp and metric dice\n",
      "ERROR: Calculating beta group significance: permdisp dice\n",
      "Calculating beta group significance with method permdisp and metric braycurtis\n",
      "ERROR: Calculating beta group significance: permdisp braycurtis\n",
      "Calculating beta group significance with method permdisp and metric matching\n",
      "ERROR: Calculating beta group significance: permdisp matching\n",
      "Calculating beta group significance with method permdisp and metric jaccard\n",
      "ERROR: Calculating beta group significance: permdisp jaccard\n"
     ]
    }
   ],
   "source": [
    "methods = ('permanova', 'anosim', 'permdisp')\n",
    "for method in methods:\n",
    "    for metric, beta_diversity in beta_diversities.items():\n",
    "        print(f'Calculating beta group significance with method {method} and metric {metric}')\n",
    "        try:\n",
    "            beta_view = beta_group_significance(distance_matrix=beta_diversity, \n",
    "                                                metadata=metadata_qa.get_column(class_col), \n",
    "                                                pairwise=True, method=method).visualization\n",
    "            view_name = os.path.join(beta_path, f'beta-group-significance-{metric}-{method}.qzv')\n",
    "            beta_view.save(view_name)\n",
    "            print(f\"DONE: Calculating beta group significance: {method} {metric}\")\n",
    "        except Exception as e:\n",
    "            print(f\"ERROR: Calculating beta group significance: {method} {metric}\")"
   ]
  },
  {
   "cell_type": "markdown",
   "id": "c0de85cf",
   "metadata": {
    "papermill": {
     "duration": 0.053014,
     "end_time": "2023-08-23T19:10:26.079449",
     "exception": false,
     "start_time": "2023-08-23T19:10:26.026435",
     "status": "completed"
    },
    "tags": []
   },
   "source": [
    "### Beta group Rarefaction\n",
    "\n",
    "- [diversity beta_rarefaction](https://docs.qiime2.org/2022.8/plugins/available/diversity/beta-rarefaction/): Repeatedly rarefy a feature table to compare beta diversity results within a given rarefaction depth.  For a given beta diversity metric, this visualizer will provide: an Emperor jackknifed PCoA plot, samples clustered by UPGMA or neighbor joining with support calculation, and a heatmap showing the correlation between rarefaction trials of that beta diversity metric."
   ]
  }
 ],
 "metadata": {
  "celltoolbar": "Edit Metadata",
  "kernelspec": {
   "display_name": "Python 3 (ipykernel)",
   "language": "python",
   "name": "python3"
  },
  "language_info": {
   "codemirror_mode": {
    "name": "ipython",
    "version": 3
   },
   "file_extension": ".py",
   "mimetype": "text/x-python",
   "name": "python",
   "nbconvert_exporter": "python",
   "pygments_lexer": "ipython3",
   "version": "3.8.12"
  },
  "papermill": {
   "default_parameters": {},
   "duration": 77.181363,
   "end_time": "2023-08-23T19:10:27.059461",
   "environment_variables": {},
   "exception": null,
   "input_path": "nb-templates/step-diversity-analysis.ipynb",
   "output_path": "/home/lauro/nupeb/rede-micro/redemicro-ana-flavia-nutri/experiments/ana-flavia-STD-NRxHSD-NR-trim/nb-executed-steps/step-diversity-analysis-ana-flavia-STD-NRxHSD-NR-trim.ipynb",
   "parameters": {
    "base_dir": "/home/lauro/nupeb/rede-micro/redemicro-ana-flavia-nutri",
    "class_col": "group-id",
    "classifier_file": "/home/lauro/nupeb/rede-micro/models/silva-138-99-nb-classifier.qza",
    "experiment_name": "ana-flavia-STD-NRxHSD-NR-trim",
    "manifest_file": "/home/lauro/nupeb/rede-micro/redemicro-ana-flavia-nutri/data/raw/manifest/manifest-ana-flavia-STD-NRxHSD-NR.csv",
    "metadata_file": "/home/lauro/nupeb/rede-micro/redemicro-ana-flavia-nutri/data/raw/metadata/metadata-ana-flavia-STD-NRxHSD-NR.tsv",
    "overlap": 12,
    "phred": 20,
    "replace_files": false,
    "threads": 6,
    "top_n": 20,
    "trim": {
     "forward_primer": "CCTACGGGRSGCAGCAG",
     "overlap": 8,
     "reverse_primer": "GGACTACHVGGGTWTCTAAT"
    },
    "trunc_f": 0,
    "trunc_r": 0
   },
   "start_time": "2023-08-23T19:09:09.878098",
   "version": "2.3.4"
  }
 },
 "nbformat": 4,
 "nbformat_minor": 5
}