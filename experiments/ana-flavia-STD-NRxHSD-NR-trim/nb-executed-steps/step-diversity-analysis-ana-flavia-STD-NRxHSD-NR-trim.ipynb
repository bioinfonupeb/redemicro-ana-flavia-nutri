{
 "cells": [
  {
   "cell_type": "markdown",
   "id": "15bcfa06",
   "metadata": {
    "papermill": {
     "duration": 0.0275,
     "end_time": "2023-09-14T15:20:22.357720",
     "exception": false,
     "start_time": "2023-09-14T15:20:22.330220",
     "status": "completed"
    },
    "tags": []
   },
   "source": [
    " \n",
    "# Alpha and Beta Diversity\n",
    "\n",
    "Different higher-level measures are often used to describe the microbiome in a sample. These do not provide information on changes in the abundance of specific taxa but allow us to access a broader change or difference in the composition of microorganisms. Alpha and beta diversity are examples of such measures.\n",
    "\n",
    "Different measures exist to estimate diversity within a single sample, jointly called alpha diversity. The different measures reflect the richness (number) or distribution (evenness) of a microbial sample or aim to reflect a combination of both properties.\n",
    "\n",
    "Rarefaction curves are often used when calculating alpha diversity indices because increasing numbers of sequenced taxa allow increasingly accurate estimates of total population diversity. Rarefaction curves can therefore be used to estimate the full sample richness, as compared to the observed sample richness.\n",
    "\n",
    "While alpha diversity is a measure of microbiome diversity applicable to a single sample, beta diversity is a measure of the similarity or dissimilarity of two communities. As for alpha diversity, many indices exist, each reflecting different aspects of community heterogeneity. Key differences relate to how the indices value variation in rare species if they consider presence/absence only or incorporate abundance, and how they interpret shared absence. Bray-Curtis dissimilarity is a popular measure that considers both size (overall abundance per sample) and shape (abundance of each taxon) of the communities (Bray, 1957). Beta diversity is an essential measure for many popular statistical methods in ecology, such as ordination-based methods, and is widely used for studying the association between environmental variables and microbial composition.\n",
    "\n",
    "In summary, alpha diversity measures can be seen as a summary statistic of a single population (within-sample diversity), while beta diversity measures are estimates of similarity or dissimilarity between populations (between samples).\n",
    "\n",
    "**Source**: (https://biomcare.com/info/key-terms-in-microbiome-projects/)"
   ]
  },
  {
   "cell_type": "markdown",
   "id": "0e7f2330",
   "metadata": {
    "ExecuteTime": {
     "end_time": "2022-09-22T19:36:33.828188Z",
     "start_time": "2022-09-22T19:36:33.817323Z"
    },
    "papermill": {
     "duration": 0.041721,
     "end_time": "2023-09-14T15:20:22.473719",
     "exception": false,
     "start_time": "2023-09-14T15:20:22.431998",
     "status": "completed"
    },
    "tags": []
   },
   "source": [
    "### STEP : Diversity Analysis\n",
    "\n",
    "Using QIIME2 to create diversity analisys graphs and calculations.\n",
    "\n",
    "- [QIIME2 Workflow Overview](https://docs.qiime2.org/2022.8/tutorials/overview/)\n",
    "\n",
    "\n",
    "#### Methods\n",
    "- [diversity](https://docs.qiime2.org/2022.8/plugins/available/diversity/)\n",
    "- [diversity alpha](https://docs.qiime2.org/2022.8/plugins/available/diversity/alpha/)\n",
    "- [diversity alpha_phylogenetic](https://docs.qiime2.org/2022.8/plugins/available/diversity/alpha-phylogenetic/)\n",
    "- [diversity beta](https://docs.qiime2.org/2022.8/plugins/available/diversity/beta/)\n",
    "- [diversity core_metrics](https://docs.qiime2.org/2022.8/plugins/available/diversity/core-metrics/)\n",
    "- [diversity alpha_group_significance](https://docs.qiime2.org/2022.8/plugins/available/diversity/alpha-group-significance/)\n",
    "- [diversity beta_group_significance](https://docs.qiime2.org/2022.8/plugins/available/diversity/beta-group-significance/)\n",
    "- [feature_table core_features](https://docs.qiime2.org/2022.8/plugins/available/feature-table/core-features/)\n",
    "- [feature_table summarize](https://docs.qiime2.org/2022.8/plugins/available/feature-table/summarize/)\n",
    "- [taxa filter-table](https://docs.qiime2.org/2022.8/plugins/available/taxa/filter-table/)\n",
    "- [taxa collapse](https://docs.qiime2.org/2022.8/plugins/available/taxa/collapse/)"
   ]
  },
  {
   "cell_type": "markdown",
   "id": "843debbf",
   "metadata": {
    "papermill": {
     "duration": 0.018946,
     "end_time": "2023-09-14T15:20:22.512132",
     "exception": false,
     "start_time": "2023-09-14T15:20:22.493186",
     "status": "completed"
    },
    "tags": []
   },
   "source": [
    "## Setup and settings"
   ]
  },
  {
   "cell_type": "code",
   "execution_count": 1,
   "id": "965e28e5",
   "metadata": {
    "ExecuteTime": {
     "end_time": "2022-11-03T20:35:26.198671Z",
     "start_time": "2022-11-03T20:35:06.473173Z"
    },
    "execution": {
     "iopub.execute_input": "2023-09-14T15:20:22.571123Z",
     "iopub.status.busy": "2023-09-14T15:20:22.570561Z",
     "iopub.status.idle": "2023-09-14T15:20:28.703524Z",
     "shell.execute_reply": "2023-09-14T15:20:28.702829Z"
    },
    "papermill": {
     "duration": 6.17388,
     "end_time": "2023-09-14T15:20:28.706790",
     "exception": false,
     "start_time": "2023-09-14T15:20:22.532910",
     "status": "completed"
    },
    "tags": []
   },
   "outputs": [],
   "source": [
    "# Importing packages\n",
    "import os\n",
    "import pandas as pd\n",
    "from qiime2 import Artifact\n",
    "from qiime2 import Visualization\n",
    "from qiime2 import Metadata\n",
    "\n",
    "from qiime2.plugins.phylogeny.pipelines import align_to_tree_mafft_fasttree\n",
    "\n",
    "from qiime2.plugins.diversity.pipelines import alpha\n",
    "from qiime2.plugins.diversity.pipelines import beta\n",
    "from qiime2.plugins.diversity.pipelines import core_metrics\n",
    "from qiime2.plugins.diversity.pipelines import alpha_phylogenetic\n",
    "\n",
    "from qiime2.plugins.diversity.visualizers import alpha_group_significance\n",
    "from qiime2.plugins.diversity.visualizers import beta_group_significance\n",
    "from qiime2.plugins.diversity.visualizers import alpha_correlation\n",
    "from qiime2.plugins.diversity.visualizers import beta_rarefaction\n",
    "\n",
    "from qiime2.plugins.taxa.methods import filter_table\n",
    "from qiime2.plugins.taxa.methods import collapse\n",
    "\n",
    "from qiime2.plugins.feature_table.visualizers import tabulate_seqs\n",
    "from qiime2.plugins.feature_table.visualizers import summarize\n",
    "from qiime2.plugins.feature_table.visualizers import core_features\n",
    "from qiime2.plugins.diversity.pipelines import core_metrics_phylogenetic\n",
    "\n",
    "from qiime2.plugins.feature_table.methods import filter_samples\n",
    "from qiime2.plugins.feature_table.methods import filter_seqs\n",
    "\n",
    "from qiime2.plugins.alignment.methods import mafft\n",
    "\n",
    "\n",
    "import matplotlib.pyplot as plt\n",
    "\n",
    "%matplotlib inline"
   ]
  },
  {
   "cell_type": "markdown",
   "id": "530ceb60",
   "metadata": {
    "papermill": {
     "duration": 0.079581,
     "end_time": "2023-09-14T15:20:28.809700",
     "exception": false,
     "start_time": "2023-09-14T15:20:28.730119",
     "status": "completed"
    },
    "tags": []
   },
   "source": [
    "### Receiving the parameters\n",
    "\n",
    "The following cell can receive parameters using the [papermill](https://papermill.readthedocs.io/en/latest/) tool."
   ]
  },
  {
   "cell_type": "code",
   "execution_count": 2,
   "id": "18d874ea",
   "metadata": {
    "ExecuteTime": {
     "end_time": "2022-09-29T20:54:14.793270Z",
     "start_time": "2022-09-29T20:54:14.789367Z"
    },
    "execution": {
     "iopub.execute_input": "2023-09-14T15:20:28.916582Z",
     "iopub.status.busy": "2023-09-14T15:20:28.916076Z",
     "iopub.status.idle": "2023-09-14T15:20:28.920892Z",
     "shell.execute_reply": "2023-09-14T15:20:28.920182Z"
    },
    "papermill": {
     "duration": 0.025851,
     "end_time": "2023-09-14T15:20:28.922506",
     "exception": false,
     "start_time": "2023-09-14T15:20:28.896655",
     "status": "completed"
    },
    "tags": [
     "parameters"
    ]
   },
   "outputs": [],
   "source": [
    "base_dir = os.path.join('/', 'home')\n",
    "metadata_file = os.path.abspath(os.path.join(base_dir, 'data', 'metadatada.tsv'))\n",
    "experiment_name = ''\n",
    "class_col = ''\n",
    "replace_files = False"
   ]
  },
  {
   "cell_type": "code",
   "execution_count": 3,
   "id": "847f6dad",
   "metadata": {
    "execution": {
     "iopub.execute_input": "2023-09-14T15:20:28.960609Z",
     "iopub.status.busy": "2023-09-14T15:20:28.960270Z",
     "iopub.status.idle": "2023-09-14T15:20:28.965312Z",
     "shell.execute_reply": "2023-09-14T15:20:28.964658Z"
    },
    "papermill": {
     "duration": 0.025701,
     "end_time": "2023-09-14T15:20:28.966847",
     "exception": false,
     "start_time": "2023-09-14T15:20:28.941146",
     "status": "completed"
    },
    "tags": [
     "injected-parameters"
    ]
   },
   "outputs": [],
   "source": [
    "# Parameters\n",
    "experiment_name = \"ana-flavia-STD-NRxHSD-NR-trim\"\n",
    "base_dir = \"/home/lauro/nupeb/rede-micro/redemicro-ana-flavia-nutri\"\n",
    "manifest_file = \"/home/lauro/nupeb/rede-micro/redemicro-ana-flavia-nutri/data/raw/manifest/manifest-ana-flavia-STD-NRxHSD-NR.csv\"\n",
    "metadata_file = \"/home/lauro/nupeb/rede-micro/redemicro-ana-flavia-nutri/data/raw/metadata/metadata-ana-flavia-STD-NRxHSD-NR.tsv\"\n",
    "class_col = \"group-id\"\n",
    "classifier_file = \"/home/lauro/nupeb/rede-micro/models/silva-138-99-nb-classifier.qza\"\n",
    "top_n = 20\n",
    "replace_files = False\n",
    "phred = 20\n",
    "trunc_f = 0\n",
    "trunc_r = 0\n",
    "overlap = 12\n",
    "threads = 6\n",
    "trim = {\n",
    "    \"overlap\": 8,\n",
    "    \"forward_primer\": \"CCTACGGGRSGCAGCAG\",\n",
    "    \"reverse_primer\": \"GGACTACHVGGGTWTCTAAT\",\n",
    "}\n"
   ]
  },
  {
   "cell_type": "code",
   "execution_count": 4,
   "id": "f38617d9",
   "metadata": {
    "ExecuteTime": {
     "end_time": "2022-09-29T20:54:14.804575Z",
     "start_time": "2022-09-29T20:54:14.794927Z"
    },
    "execution": {
     "iopub.execute_input": "2023-09-14T15:20:29.005174Z",
     "iopub.status.busy": "2023-09-14T15:20:29.004850Z",
     "iopub.status.idle": "2023-09-14T15:20:29.008662Z",
     "shell.execute_reply": "2023-09-14T15:20:29.008035Z"
    },
    "papermill": {
     "duration": 0.024106,
     "end_time": "2023-09-14T15:20:29.010163",
     "exception": false,
     "start_time": "2023-09-14T15:20:28.986057",
     "status": "completed"
    },
    "tags": []
   },
   "outputs": [],
   "source": [
    "experiment_folder = os.path.abspath(os.path.join(base_dir, 'experiments', experiment_name))\n",
    "img_folder = os.path.abspath(os.path.join(experiment_folder, 'imgs'))"
   ]
  },
  {
   "cell_type": "markdown",
   "id": "ea9b90fb",
   "metadata": {
    "papermill": {
     "duration": 0.023886,
     "end_time": "2023-09-14T15:20:29.052157",
     "exception": false,
     "start_time": "2023-09-14T15:20:29.028271",
     "status": "completed"
    },
    "tags": []
   },
   "source": [
    "### Defining names, paths and flags"
   ]
  },
  {
   "cell_type": "code",
   "execution_count": 5,
   "id": "45727eef",
   "metadata": {
    "ExecuteTime": {
     "end_time": "2022-09-29T20:54:14.816686Z",
     "start_time": "2022-09-29T20:54:14.806238Z"
    },
    "execution": {
     "iopub.execute_input": "2023-09-14T15:20:29.109282Z",
     "iopub.status.busy": "2023-09-14T15:20:29.108906Z",
     "iopub.status.idle": "2023-09-14T15:20:29.117618Z",
     "shell.execute_reply": "2023-09-14T15:20:29.116771Z"
    },
    "papermill": {
     "duration": 0.040062,
     "end_time": "2023-09-14T15:20:29.119550",
     "exception": false,
     "start_time": "2023-09-14T15:20:29.079488",
     "status": "completed"
    },
    "tags": []
   },
   "outputs": [],
   "source": [
    "# QIIME2 Artifacts folder\n",
    "qiime_folder = os.path.join(experiment_folder, 'qiime-artifacts')\n",
    "\n",
    "# Input - DADA2 Artifacts\n",
    "dada2_tabs_path = os.path.join(qiime_folder, 'dada2-tabs.qza')\n",
    "dada2_reps_path = os.path.join(qiime_folder, 'dada2-reps.qza')\n",
    "dada2_stat_path = os.path.join(qiime_folder, 'dada2-stat.qza')\n",
    "\n",
    "# Input - Taxonaomic Artifacts\n",
    "taxonomy_path = os.path.join(qiime_folder, 'metatax.qza')\n",
    "\n",
    "# Create folder to store Alpha files\n",
    "alpha_path = os.path.join(qiime_folder, 'alpha-analysis')\n",
    "if not os.path.exists(alpha_path):\n",
    "    os.makedirs(alpha_path)\n",
    "    print(f'The new directory is created in {alpha_path}')\n",
    "    \n",
    "# Create folder to store Beta files\n",
    "beta_path = os.path.join(qiime_folder, 'beta-analysis')\n",
    "if not os.path.exists(beta_path):\n",
    "    os.makedirs(beta_path)\n",
    "    print(f'The new directory is created in {beta_path}')\n",
    "\n",
    "# Output -Diversity Artifacts\n",
    "alpha_diversity_path = os.path.join(alpha_path, 'alpha-diversity.qza')\n",
    "alpha_diversity_view_path = os.path.join(alpha_path, 'alpha-diversity.qzv')\n",
    "beta_diversity_path = os.path.join(beta_path, 'beta-diversity.qza')\n",
    "beta_diversity_view_path = os.path.join(beta_path, 'beta-diversity.qzv')"
   ]
  },
  {
   "cell_type": "code",
   "execution_count": 6,
   "id": "601ae263",
   "metadata": {
    "ExecuteTime": {
     "end_time": "2022-09-29T20:54:14.829117Z",
     "start_time": "2022-09-29T20:54:14.818272Z"
    },
    "execution": {
     "iopub.execute_input": "2023-09-14T15:20:29.158764Z",
     "iopub.status.busy": "2023-09-14T15:20:29.158318Z",
     "iopub.status.idle": "2023-09-14T15:20:29.167475Z",
     "shell.execute_reply": "2023-09-14T15:20:29.166752Z"
    },
    "papermill": {
     "duration": 0.029919,
     "end_time": "2023-09-14T15:20:29.169087",
     "exception": false,
     "start_time": "2023-09-14T15:20:29.139168",
     "status": "completed"
    },
    "tags": []
   },
   "outputs": [],
   "source": [
    "def filter_and_collapse(tab, seqs, tax, meta, lvl, exclude=True, exclude_list='uncultured,unidentified,metagenome'):\n",
    "    from qiime2.plugins.taxa.methods import collapse\n",
    "    from qiime2.plugins.taxa.methods import filter_table\n",
    "    from qiime2.plugins.feature_table.methods import filter_seqs\n",
    "    from qiime2.plugins.feature_table.visualizers import summarize\n",
    "    \n",
    "    to_include = ('d', 'p', 'c', 'o', 'f', 'g', 's')[lvl-1]\n",
    "    to_include += '__'\n",
    "    to_exclude = exclude_list if exclude else None\n",
    "    \n",
    "    filtered_tabs = filter_table(\n",
    "        table=tab, \n",
    "        taxonomy=tax,\n",
    "        include=to_include,\n",
    "        exclude=to_exclude,\n",
    "        mode='contains').filtered_table\n",
    "    \n",
    "    filtered_seqs = filter_seqs(\n",
    "        data = seqs,\n",
    "        table = filtered_tabs,\n",
    "    ).filtered_data\n",
    "    \n",
    "    collapsed_table = collapse(table=filtered_tabs, taxonomy=tax, level=lvl).collapsed_table\n",
    "    collapsed_table_view = summarize(table=collapsed_table, sample_metadata=meta).visualization\n",
    "    \n",
    "    return collapsed_table, collapsed_table_view, filtered_seqs"
   ]
  },
  {
   "cell_type": "markdown",
   "id": "0999a1b2",
   "metadata": {
    "papermill": {
     "duration": 0.018941,
     "end_time": "2023-09-14T15:20:29.208105",
     "exception": false,
     "start_time": "2023-09-14T15:20:29.189164",
     "status": "completed"
    },
    "tags": []
   },
   "source": [
    "## Step execution\n",
    "\n",
    "### Load input files\n",
    "\n",
    "This Step import the QIIME2 `FeatureTable[Frequency]` Artifact and the `Metadata` file."
   ]
  },
  {
   "cell_type": "code",
   "execution_count": 7,
   "id": "8f299d1a",
   "metadata": {
    "ExecuteTime": {
     "end_time": "2022-09-29T20:54:15.559837Z",
     "start_time": "2022-09-29T20:54:14.830405Z"
    },
    "execution": {
     "iopub.execute_input": "2023-09-14T15:20:29.245678Z",
     "iopub.status.busy": "2023-09-14T15:20:29.245185Z",
     "iopub.status.idle": "2023-09-14T15:20:30.531306Z",
     "shell.execute_reply": "2023-09-14T15:20:30.530478Z"
    },
    "papermill": {
     "duration": 1.308293,
     "end_time": "2023-09-14T15:20:30.534539",
     "exception": false,
     "start_time": "2023-09-14T15:20:29.226246",
     "status": "completed"
    },
    "tags": []
   },
   "outputs": [],
   "source": [
    "#Load Metadata\n",
    "metadata_qa = Metadata.load(metadata_file)\n",
    "\n",
    "#Load FeatureTable[Frequency]\n",
    "tabs = Artifact.load(dada2_tabs_path)\n",
    "tabs_df = tabs.view(Metadata).to_dataframe().T\n",
    "\n",
    "# FeatureData[Sequence]\n",
    "reps = Artifact.load(dada2_reps_path)\n",
    "\n",
    "# FeatureData[Taxonomy]\n",
    "tax = Artifact.load(taxonomy_path)"
   ]
  },
  {
   "cell_type": "code",
   "execution_count": 8,
   "id": "c8dfe530",
   "metadata": {
    "ExecuteTime": {
     "end_time": "2022-09-29T20:54:15.564968Z",
     "start_time": "2022-09-29T20:54:15.561875Z"
    },
    "execution": {
     "iopub.execute_input": "2023-09-14T15:20:30.580873Z",
     "iopub.status.busy": "2023-09-14T15:20:30.580590Z",
     "iopub.status.idle": "2023-09-14T15:20:31.651169Z",
     "shell.execute_reply": "2023-09-14T15:20:31.650347Z"
    },
    "papermill": {
     "duration": 1.095074,
     "end_time": "2023-09-14T15:20:31.654283",
     "exception": false,
     "start_time": "2023-09-14T15:20:30.559209",
     "status": "completed"
    },
    "tags": []
   },
   "outputs": [
    {
     "name": "stdout",
     "output_type": "stream",
     "text": [
      "{'min_frequency': 0, 'max_frequency': None, 'min_features': 0, 'max_features': None, 'metadata': Metadata\n",
      "--------\n",
      "14 IDs x 3 columns\n",
      "sample-name: ColumnProperties(type='categorical')\n",
      "group-id:    ColumnProperties(type='categorical')\n",
      "group-desc:  ColumnProperties(type='categorical')\n",
      "\n",
      "Call to_dataframe() for a tabular representation., 'where': None, 'exclude_ids': False, 'filter_empty_features': True, 'table': 2732 x 74 <class 'biom.table.Table'> with 12512 nonzero entries (6% dense)}\n",
      "{'min_frequency': 0, 'max_frequency': None, 'min_features': 0, 'max_features': None, 'metadata': Metadata\n",
      "--------\n",
      "14 IDs x 3 columns\n",
      "sample-name: ColumnProperties(type='categorical')\n",
      "group-id:    ColumnProperties(type='categorical')\n",
      "group-desc:  ColumnProperties(type='categorical')\n",
      "\n",
      "Call to_dataframe() for a tabular representation., 'where': None, 'exclude_ids': False, 'filter_empty_features': True, 'table': 2732 x 74 <class 'biom.table.Table'> with 12512 nonzero entries (6% dense)}\n"
     ]
    },
    {
     "name": "stdout",
     "output_type": "stream",
     "text": [
      "{'metadata': None, 'where': None, 'exclude_ids': False, 'data': c688e3b1ada46ed57f5b7e7e0d56664f    (((T)), ((G)), ((A)), ((G)), ((G)), ((A)), ((A...\n",
      "bc798de4a9acd3ff7ba51c244523be14    (((T)), ((G)), ((A)), ((G)), ((G)), ((A)), ((A...\n",
      "fca5b1ccd94b107a3ddf3e99feaafb6f    (((T)), ((G)), ((A)), ((G)), ((G)), ((A)), ((A...\n",
      "5ba9e679e692fcbf933c554317e03c5f    (((T)), ((A)), ((G)), ((G)), ((G)), ((A)), ((A...\n",
      "04581eba9e6fd12787fb5948fcef030f    (((T)), ((G)), ((A)), ((G)), ((G)), ((A)), ((A...\n",
      "                                                          ...                        \n",
      "dbc83a2f59a61f2cc57971a85718406b    (((T)), ((G)), ((G)), ((G)), ((G)), ((A)), ((A...\n",
      "4393f0be1354f7198d1969c44d34d44a    (((T)), ((G)), ((A)), ((G)), ((G)), ((A)), ((A...\n",
      "a86e1aaa4715133f8fa2c0f52e03e6d7    (((T)), ((G)), ((G)), ((G)), ((G)), ((A)), ((A...\n",
      "aa37170c6d59f9077a2644f8c25df05d    (((T)), ((G)), ((G)), ((G)), ((G)), ((A)), ((A...\n",
      "9c3f20cb7568feda60cc7776400d8d64    (((G)), ((A)), ((A)), ((A)), ((T)), ((G)), ((C...\n",
      "Length: 2732, dtype: object, 'table': 1161 x 14 <class 'biom.table.Table'> with 2361 nonzero entries (14% dense)}\n"
     ]
    },
    {
     "name": "stdout",
     "output_type": "stream",
     "text": [
      "{'metadata': None, 'where': None, 'exclude_ids': False, 'data': c688e3b1ada46ed57f5b7e7e0d56664f    (((T)), ((G)), ((A)), ((G)), ((G)), ((A)), ((A...\n",
      "bc798de4a9acd3ff7ba51c244523be14    (((T)), ((G)), ((A)), ((G)), ((G)), ((A)), ((A...\n",
      "fca5b1ccd94b107a3ddf3e99feaafb6f    (((T)), ((G)), ((A)), ((G)), ((G)), ((A)), ((A...\n",
      "5ba9e679e692fcbf933c554317e03c5f    (((T)), ((A)), ((G)), ((G)), ((G)), ((A)), ((A...\n",
      "04581eba9e6fd12787fb5948fcef030f    (((T)), ((G)), ((A)), ((G)), ((G)), ((A)), ((A...\n",
      "                                                          ...                        \n",
      "dbc83a2f59a61f2cc57971a85718406b    (((T)), ((G)), ((G)), ((G)), ((G)), ((A)), ((A...\n",
      "4393f0be1354f7198d1969c44d34d44a    (((T)), ((G)), ((A)), ((G)), ((G)), ((A)), ((A...\n",
      "a86e1aaa4715133f8fa2c0f52e03e6d7    (((T)), ((G)), ((G)), ((G)), ((G)), ((A)), ((A...\n",
      "aa37170c6d59f9077a2644f8c25df05d    (((T)), ((G)), ((G)), ((G)), ((G)), ((A)), ((A...\n",
      "9c3f20cb7568feda60cc7776400d8d64    (((G)), ((A)), ((A)), ((A)), ((T)), ((G)), ((C...\n",
      "Length: 2732, dtype: object, 'table': 1161 x 14 <class 'biom.table.Table'> with 2361 nonzero entries (14% dense)}\n"
     ]
    }
   ],
   "source": [
    "# Filter FeatureTable[Frequency | RelativeFrequency | PresenceAbsence | Composition] based on Metadata sample ID values\n",
    "tabs = filter_samples(\n",
    "    table=tabs,\n",
    "    metadata=metadata_qa,\n",
    ").filtered_table\n",
    "# Filter SampleData[SequencesWithQuality | PairedEndSequencesWithQuality | JoinedSequencesWithQuality] based on Metadata sample ID values; returns FeatureData[Sequence | AlignedSequence]\n",
    "reps = filter_seqs(\n",
    "    data=reps,\n",
    "    table=tabs,\n",
    ").filtered_data"
   ]
  },
  {
   "cell_type": "markdown",
   "id": "9f43843a",
   "metadata": {
    "ExecuteTime": {
     "end_time": "2022-09-22T22:48:07.523952Z",
     "start_time": "2022-09-22T22:48:07.517565Z"
    },
    "papermill": {
     "duration": 0.018961,
     "end_time": "2023-09-14T15:20:31.698608",
     "exception": false,
     "start_time": "2023-09-14T15:20:31.679647",
     "status": "completed"
    },
    "tags": []
   },
   "source": [
    "## Alpha diversity analysis\n",
    "\n",
    "#### Reference\n",
    "- [The Use and Types of Alpha-Diversity Metrics in Microbial NGS](https://www.cd-genomics.com/microbioseq/the-use-and-types-of-alpha-diversity-metrics-in-microbial-ngs.html)\n",
    "- [Alpha diversity metrics](http://scikit-bio.org/docs/0.2.0/generated/skbio.diversity.alpha.html)\n",
    "\n",
    "#### Methods\n",
    "- [diversity alpha](https://docs.qiime2.org/2022.8/plugins/available/diversity/alpha/): Computes a user-specified alpha diversity metric for all samples in a\n",
    "feature table.\n",
    "- [diversity alpha_phylogenetic](https://docs.qiime2.org/2022.8/plugins/available/diversity/alpha-phylogenetic/): Computes a user-specified phylogenetic alpha diversity metric for all\n",
    "samples in a feature table.\n",
    "- [diversity alpha_correlation](https://docs.qiime2.org/2022.8/plugins/available/diversity/alpha-correlation/): Determine whether numeric sample metadata columns are correlated with alpha diversity.\n",
    "- [diversity alpha_group_significance](https://docs.qiime2.org/2022.8/plugins/available/diversity/alpha-group-significance/): Visually and statistically compare groups of alpha diversity values."
   ]
  },
  {
   "cell_type": "markdown",
   "id": "606b9c75",
   "metadata": {
    "papermill": {
     "duration": 0.019337,
     "end_time": "2023-09-14T15:20:31.737223",
     "exception": false,
     "start_time": "2023-09-14T15:20:31.717886",
     "status": "completed"
    },
    "tags": []
   },
   "source": [
    "### Compute Alpha Diversity vectors\n",
    "- [diversity alpha](https://docs.qiime2.org/2022.8/plugins/available/diversity/alpha/): Computes a user-specified alpha diversity metric for all samples in a feature table.\n",
    "- [Alpha diversity metrics](http://scikit-bio.org/docs/0.2.0/generated/skbio.diversity.alpha.html)\n",
    " - Choices: ('ace', 'berger_parker_d', 'brillouin_d', 'chao1', 'chao1_ci', 'dominance', 'doubles', 'enspie', 'esty_ci', 'fisher_alpha', 'gini_index', 'goods_coverage', 'heip_e', 'kempton_taylor_q', 'lladser_pe', 'margalef', 'mcintosh_d', 'mcintosh_e', 'menhinick', 'michaelis_menten_fit', 'observed_features', 'osd', 'pielou_e', 'robbins', 'shannon', 'simpson', 'simpson_e', 'singles', 'strong')"
   ]
  },
  {
   "cell_type": "code",
   "execution_count": 9,
   "id": "556e5264",
   "metadata": {
    "ExecuteTime": {
     "end_time": "2022-09-29T20:54:20.790166Z",
     "start_time": "2022-09-29T20:54:20.451134Z"
    },
    "execution": {
     "iopub.execute_input": "2023-09-14T15:20:31.779885Z",
     "iopub.status.busy": "2023-09-14T15:20:31.779505Z",
     "iopub.status.idle": "2023-09-14T15:20:32.210856Z",
     "shell.execute_reply": "2023-09-14T15:20:32.210090Z"
    },
    "papermill": {
     "duration": 0.455169,
     "end_time": "2023-09-14T15:20:32.213627",
     "exception": false,
     "start_time": "2023-09-14T15:20:31.758458",
     "status": "completed"
    },
    "tags": []
   },
   "outputs": [
    {
     "name": "stdout",
     "output_type": "stream",
     "text": [
      "Calculating alpha diversity: chao1\n",
      "{'metric': 'chao1', 'table': <artifact: FeatureTable[Frequency] uuid: 5b28154b-5453-4cd6-b077-9d439bf34180>}\n",
      "{'metric': 'chao1', 'table': 1161 x 14 <class 'biom.table.Table'> with 2361 nonzero entries (14% dense)}\n",
      "{'metric': 'chao1', 'table': 1161 x 14 <class 'biom.table.Table'> with 2361 nonzero entries (14% dense)}\n",
      "DONE: Calculating alpha diversity: chao1\n",
      "Calculating alpha diversity: chao1_ci\n",
      "{'metric': 'chao1_ci', 'table': <artifact: FeatureTable[Frequency] uuid: 5b28154b-5453-4cd6-b077-9d439bf34180>}\n",
      "{'metric': 'chao1_ci', 'table': 1161 x 14 <class 'biom.table.Table'> with 2361 nonzero entries (14% dense)}\n",
      "{'metric': 'chao1_ci', 'table': 1161 x 14 <class 'biom.table.Table'> with 2361 nonzero entries (14% dense)}\n",
      "DONE: Calculating alpha diversity: chao1_ci\n",
      "Calculating alpha diversity: observed_features\n",
      "{'metric': 'observed_features', 'table': <artifact: FeatureTable[Frequency] uuid: 5b28154b-5453-4cd6-b077-9d439bf34180>}\n",
      "{'table': 1161 x 14 <class 'biom.table.Table'> with 2361 nonzero entries (14% dense)}\n",
      "{'table': 1161 x 14 <class 'biom.table.Table'> with 2361 nonzero entries (14% dense)}\n"
     ]
    },
    {
     "name": "stdout",
     "output_type": "stream",
     "text": [
      "DONE: Calculating alpha diversity: observed_features\n",
      "Calculating alpha diversity: shannon\n",
      "{'metric': 'shannon', 'table': <artifact: FeatureTable[Frequency] uuid: 5b28154b-5453-4cd6-b077-9d439bf34180>}\n",
      "{'drop_undefined_samples': False, 'table': 1161 x 14 <class 'biom.table.Table'> with 2361 nonzero entries (14% dense)}\n",
      "{'drop_undefined_samples': False, 'table': 1161 x 14 <class 'biom.table.Table'> with 2361 nonzero entries (14% dense)}\n",
      "DONE: Calculating alpha diversity: shannon\n",
      "Calculating alpha diversity: simpson\n",
      "{'metric': 'simpson', 'table': <artifact: FeatureTable[Frequency] uuid: 5b28154b-5453-4cd6-b077-9d439bf34180>}\n",
      "{'metric': 'simpson', 'table': 1161 x 14 <class 'biom.table.Table'> with 2361 nonzero entries (14% dense)}\n",
      "{'metric': 'simpson', 'table': 1161 x 14 <class 'biom.table.Table'> with 2361 nonzero entries (14% dense)}\n",
      "DONE: Calculating alpha diversity: simpson\n",
      "Calculating alpha diversity: simpson_e\n",
      "{'metric': 'simpson_e', 'table': <artifact: FeatureTable[Frequency] uuid: 5b28154b-5453-4cd6-b077-9d439bf34180>}\n",
      "{'metric': 'simpson_e', 'table': 1161 x 14 <class 'biom.table.Table'> with 2361 nonzero entries (14% dense)}\n",
      "{'metric': 'simpson_e', 'table': 1161 x 14 <class 'biom.table.Table'> with 2361 nonzero entries (14% dense)}\n"
     ]
    },
    {
     "name": "stdout",
     "output_type": "stream",
     "text": [
      "DONE: Calculating alpha diversity: simpson_e\n"
     ]
    }
   ],
   "source": [
    "metrics = ('ace', 'berger_parker_d', 'brillouin_d', 'chao1', 'chao1_ci', 'dominance', 'doubles', 'enspie', 'esty_ci', 'fisher_alpha', 'gini_index', 'goods_coverage', 'heip_e', 'kempton_taylor_q', 'lladser_pe', 'margalef', 'mcintosh_d', 'mcintosh_e', 'menhinick', 'michaelis_menten_fit', 'observed_features', 'osd', 'pielou_e', 'robbins', 'shannon', 'simpson', 'simpson_e', 'singles', 'strong')\n",
    "\n",
    "# Sugestão de valores para Alpha diversity\n",
    "# chao1 e observed_features (riqueza); shannon e simpson (diversidade - que levam em consideração riqueza e equitabilidade).\n",
    "metrics = ('chao1', 'chao1_ci', 'observed_features', 'shannon', 'simpson', 'simpson_e')\n",
    "alpha_diversities = dict()\n",
    "for metric in metrics:\n",
    "    print(f\"Calculating alpha diversity: {metric}\")\n",
    "    try:\n",
    "        alpha_diversity = alpha(table=tabs, metric=metric).alpha_diversity\n",
    "        alpha_diversities[metric] = alpha_diversity\n",
    "        # Save SampleData[AlphaDiversity] Artifact\n",
    "        file_path = os.path.join(alpha_path, f'alpha-values-{metric}.qza')\n",
    "        alpha_diversity.save(file_path)\n",
    "        print(f\"DONE: Calculating alpha diversity: {metric}\")\n",
    "    except Exception as e:\n",
    "        print(f\"ERROR: Calculating alpha diversity: {metric}\")\n",
    "        print(e)"
   ]
  },
  {
   "cell_type": "markdown",
   "id": "184bcb7b",
   "metadata": {
    "papermill": {
     "duration": 0.020136,
     "end_time": "2023-09-14T15:20:32.258898",
     "exception": false,
     "start_time": "2023-09-14T15:20:32.238762",
     "status": "completed"
    },
    "tags": []
   },
   "source": [
    "### Create Phylogenetic inference\n",
    "\n",
    "- [alignment align_to_tree_mafft_fasttree](https://docs.qiime2.org/2022.8/plugins/available/phylogeny/align-to-tree-mafft-fasttree/): Build a phylogenetic tree using fasttree and mafft alignment\n",
    "\n",
    "This pipeline will start by creating a sequence alignment using MAFFT,\n",
    "after which any alignment columns that are phylogenetically uninformative\n",
    "or ambiguously aligned will be removed (masked). The resulting masked\n",
    "alignment will be used to infer a phylogenetic tree and then subsequently\n",
    "rooted at its midpoint. Output files from each step of the pipeline will be\n",
    "saved. This includes both the unmasked and masked MAFFT alignment from\n",
    "q2-alignment methods, and both the rooted and unrooted phylogenies from\n",
    "q2-phylogeny methods.\n",
    "\n",
    "\n",
    "Returns\n",
    "- alignment : FeatureData[AlignedSequence] : The aligned sequences.\n",
    "- masked_alignment : FeatureData[AlignedSequence] : The masked alignment.\n",
    "- tree : Phylogeny[Unrooted] : The unrooted phylogenetic tree.\n",
    "- rooted_tree : Phylogeny[Rooted] : The rooted phylogenetic tree."
   ]
  },
  {
   "cell_type": "code",
   "execution_count": 10,
   "id": "9c8cfe47",
   "metadata": {
    "ExecuteTime": {
     "end_time": "2022-09-29T20:54:35.139531Z",
     "start_time": "2022-09-29T20:54:20.792130Z"
    },
    "execution": {
     "iopub.execute_input": "2023-09-14T15:20:32.303030Z",
     "iopub.status.busy": "2023-09-14T15:20:32.302669Z",
     "iopub.status.idle": "2023-09-14T15:20:52.279488Z",
     "shell.execute_reply": "2023-09-14T15:20:52.278677Z"
    },
    "papermill": {
     "duration": 20.002902,
     "end_time": "2023-09-14T15:20:52.282623",
     "exception": false,
     "start_time": "2023-09-14T15:20:32.279721",
     "status": "completed"
    },
    "tags": []
   },
   "outputs": [
    {
     "name": "stdout",
     "output_type": "stream",
     "text": [
      "{'n_threads': 6, 'mask_max_gap_frequency': 1.0, 'mask_min_conservation': 0.4, 'parttree': False, 'sequences': <artifact: FeatureData[Sequence] uuid: 449903e2-057e-45c7-b1b8-a5b275b03dbe>}\n",
      "{'n_threads': 6, 'parttree': False, 'sequences': <q2_types.feature_data._format.DNAFASTAFormat object at 0x7fc98c0d0fa0>}\n",
      "{'n_threads': 6, 'parttree': False, 'sequences': <q2_types.feature_data._format.DNAFASTAFormat object at 0x7fc98c0d0fa0>}\n",
      "Running external command line application. This may print messages to stdout and/or stderr.\n",
      "The command being run is below. This command cannot be manually re-run as it will depend on temporary files that no longer exist.\n",
      "\n",
      "Command: mafft --preservecase --inputorder --thread 6 /tmp/qiime2-archive-q3cdyb99/449903e2-057e-45c7-b1b8-a5b275b03dbe/data/dna-sequences.fasta\n",
      "\n"
     ]
    },
    {
     "name": "stderr",
     "output_type": "stream",
     "text": [
      "inputfile = orig\n",
      "1161 x 430 - 262 d\n",
      "nthread = 6\n",
      "nthreadpair = 6\n",
      "nthreadtb = 6\n",
      "ppenalty_ex = 0\n",
      "stacksize: 8192 kb\n",
      "generating a scoring matrix for nucleotide (dist=200) ... done\n",
      "Gap Penalty = -1.53, +0.00, +0.00\n",
      "\n",
      "\n",
      "\n",
      "Making a distance matrix ..\n",
      "\r",
      "    1 / 1161 (thread    0)\r",
      "  101 / 1161 (thread    1)\r",
      "  201 / 1161 (thread    2)\r",
      "  301 / 1161 (thread    0)\r",
      "  401 / 1161 (thread    1)\r",
      "  501 / 1161 (thread    2)\r",
      "  601 / 1161 (thread    3)"
     ]
    },
    {
     "name": "stderr",
     "output_type": "stream",
     "text": [
      "\r",
      "  701 / 1161 (thread    3)\r",
      "  801 / 1161 (thread    2)\r",
      "  901 / 1161 (thread    2)\r",
      " 1001 / 1161 (thread    4)\r",
      " 1101 / 1161 (thread    4)\n",
      "done.\n",
      "\n",
      "Constructing a UPGMA tree (efffree=0) ... \n",
      "\r",
      "    0 / 1161\r",
      "   10 / 1161\r",
      "   20 / 1161\r",
      "   30 / 1161\r",
      "   40 / 1161\r",
      "   50 / 1161\r",
      "   60 / 1161\r",
      "   70 / 1161\r",
      "   80 / 1161\r",
      "   90 / 1161\r",
      "  100 / 1161\r",
      "  110 / 1161\r",
      "  120 / 1161\r",
      "  130 / 1161\r",
      "  140 / 1161\r",
      "  150 / 1161\r",
      "  160 / 1161\r",
      "  170 / 1161\r",
      "  180 / 1161\r",
      "  190 / 1161\r",
      "  200 / 1161\r",
      "  210 / 1161\r",
      "  220 / 1161\r",
      "  230 / 1161\r",
      "  240 / 1161\r",
      "  250 / 1161\r",
      "  260 / 1161\r",
      "  270 / 1161\r",
      "  280 / 1161\r",
      "  290 / 1161\r",
      "  300 / 1161\r",
      "  310 / 1161\r",
      "  320 / 1161\r",
      "  330 / 1161\r",
      "  340 / 1161\r",
      "  350 / 1161\r",
      "  360 / 1161\r",
      "  370 / 1161\r",
      "  380 / 1161\r",
      "  390 / 1161\r",
      "  400 / 1161\r",
      "  410 / 1161\r",
      "  420 / 1161\r",
      "  430 / 1161\r",
      "  440 / 1161\r",
      "  450 / 1161\r",
      "  460 / 1161\r",
      "  470 / 1161\r",
      "  480 / 1161\r",
      "  490 / 1161\r",
      "  500 / 1161\r",
      "  510 / 1161\r",
      "  520 / 1161\r",
      "  530 / 1161\r",
      "  540 / 1161\r",
      "  550 / 1161\r",
      "  560 / 1161\r",
      "  570 / 1161\r",
      "  580 / 1161\r",
      "  590 / 1161\r",
      "  600 / 1161\r",
      "  610 / 1161\r",
      "  620 / 1161\r",
      "  630 / 1161\r",
      "  640 / 1161\r",
      "  650 / 1161\r",
      "  660 / 1161\r",
      "  670 / 1161\r",
      "  680 / 1161\r",
      "  690 / 1161\r",
      "  700 / 1161\r",
      "  710 / 1161\r",
      "  720 / 1161\r",
      "  730 / 1161\r",
      "  740 / 1161\r",
      "  750 / 1161\r",
      "  760 / 1161\r",
      "  770 / 1161\r",
      "  780 / 1161\r",
      "  790 / 1161\r",
      "  800 / 1161\r",
      "  810 / 1161\r",
      "  820 / 1161\r",
      "  830 / 1161\r",
      "  840 / 1161\r",
      "  850 / 1161\r",
      "  860 / 1161\r",
      "  870 / 1161\r",
      "  880 / 1161\r",
      "  890 / 1161\r",
      "  900 / 1161\r",
      "  910 / 1161\r",
      "  920 / 1161\r",
      "  930 / 1161\r",
      "  940 / 1161\r",
      "  950 / 1161\r",
      "  960 / 1161\r",
      "  970 / 1161\r",
      "  980 / 1161\r",
      "  990 / 1161\r",
      " 1000 / 1161\r",
      " 1010 / 1161\r",
      " 1020 / 1161\r",
      " 1030 / 1161\r",
      " 1040 / 1161\r",
      " 1050 / 1161\r",
      " 1060 / 1161\r",
      " 1070 / 1161\r",
      " 1080 / 1161\r",
      " 1090 / 1161\r",
      " 1100 / 1161\r",
      " 1110 / 1161\r",
      " 1120 / 1161\r",
      " 1130 / 1161\r",
      " 1140 / 1161\r",
      " 1150 / 1161\n",
      "done.\n",
      "\n",
      "Progressive alignment 1/2... \n",
      "\r",
      "STEP     1 / 1160 (thread    0) f\b\b\r",
      "STEP     2 / 1160 (thread    1) f\b\b\r",
      "STEP     3 / 1160 (thread    3) f\b\b\r",
      "STEP     4 / 1160 (thread    2) f\b\b\r",
      "STEP     5 / 1160 (thread    4) f\b\b\r",
      "STEP     6 / 1160 (thread    5) f\b\b\r",
      "STEP     7 / 1160 (thread    2) f\b\b\r",
      "STEP     8 / 1160 (thread    0) f\b\b\r",
      "STEP     9 / 1160 (thread    1) f\b\b\r",
      "STEP    10 / 1160 (thread    0) f\b\b\r",
      "STEP    11 / 1160 (thread    2) f\b\b\r",
      "STEP    12 / 1160 (thread    5) f\b\b\r",
      "STEP    13 / 1160 (thread    0) f\b\b\r",
      "STEP    14 / 1160 (thread    0) f\b\b\r",
      "STEP    15 / 1160 (thread    4) f\b\b\r",
      "STEP    16 / 1160 (thread    3) f\b\b\r",
      "STEP    17 / 1160 (thread    1) f\b\b\r",
      "STEP    18 / 1160 (thread    2) f\b\b\r",
      "STEP    19 / 1160 (thread    0) f\b\b\r",
      "STEP    20 / 1160 (thread    0) f\b\b\r",
      "STEP    21 / 1160 (thread    5) f\b\b\r",
      "STEP    22 / 1160 (thread    0) f\b\b\r",
      "STEP    23 / 1160 (thread    4) f\b\b\r",
      "STEP    24 / 1160 (thread    2) f\b\b\r",
      "STEP    25 / 1160 (thread    1) f\b\b\r",
      "STEP    26 / 1160 (thread    3) f\b\b\r",
      "STEP    27 / 1160 (thread    5) f\b\b\r",
      "STEP    28 / 1160 (thread    0) f\b\b\r",
      "STEP    29 / 1160 (thread    4) f\b\b\r",
      "STEP    30 / 1160 (thread    1) f\b\b\r",
      "STEP    31 / 1160 (thread    3) f\b\b\r",
      "STEP    32 / 1160 (thread    0) f\b\b\r",
      "STEP    33 / 1160 (thread    2) f\b\b\r",
      "STEP    34 / 1160 (thread    5) f\b\b\r",
      "STEP    35 / 1160 (thread    0) f\b\b\r",
      "STEP    36 / 1160 (thread    4) f\b\b\r",
      "STEP    37 / 1160 (thread    1) f\b\b\r",
      "STEP    38 / 1160 (thread    3) f\b\b\r",
      "STEP    39 / 1160 (thread    5) f\b\b\r",
      "STEP    40 / 1160 (thread    0) f\b\b\r",
      "STEP    41 / 1160 (thread    2) f\b\b\r",
      "STEP    42 / 1160 (thread    4) f\b\b\r",
      "STEP    43 / 1160 (thread    1) f\b\b\r",
      "STEP    44 / 1160 (thread    3) f\b\b\r",
      "STEP    45 / 1160 (thread    0) f\b\b\r",
      "STEP    46 / 1160 (thread    5) f\b\b\r",
      "STEP    47 / 1160 (thread    4) f\b\b\r",
      "STEP    48 / 1160 (thread    0) f\b\b\r",
      "STEP    49 / 1160 (thread    1) f\b\b\r",
      "STEP    50 / 1160 (thread    3) f\b\b\r",
      "STEP    51 / 1160 (thread    2) f\b\b\r",
      "STEP    52 / 1160 (thread    5) f\b\b\r",
      "STEP    53 / 1160 (thread    0) f\b\b\r",
      "STEP    54 / 1160 (thread    4) f\b\b\r",
      "STEP    55 / 1160 (thread    1) f\b\b\r",
      "STEP    56 / 1160 (thread    3) f\b\b\r",
      "STEP    57 / 1160 (thread    0) f\b\b\r",
      "STEP    58 / 1160 (thread    5) f\b\b\r",
      "STEP    59 / 1160 (thread    2) f\b\b\r",
      "STEP    61 / 1160 (thread    1) f\b\b\r",
      "STEP    62 / 1160 (thread    3) f\b\b\r",
      "STEP    63 / 1160 (thread    0) f\b\b\r",
      "STEP    64 / 1160 (thread    5) f\b\b\r",
      "STEP    60 / 1160 (thread    4) f\b\b\r",
      "STEP    65 / 1160 (thread    0) f\b\b\r",
      "STEP    66 / 1160 (thread    3) f\b\b\r",
      "STEP    67 / 1160 (thread    0) f\b\b\r",
      "STEP    68 / 1160 (thread    5) f\b\b\r",
      "STEP    69 / 1160 (thread    2) f\b\b\r",
      "STEP    70 / 1160 (thread    3) f\b\b\r",
      "STEP    71 / 1160 (thread    0) f\b\b\r",
      "STEP    72 / 1160 (thread    1) f\b\b\r",
      "STEP    73 / 1160 (thread    2) f\b\b\r",
      "STEP    74 / 1160 (thread    5) f\b\b\r",
      "STEP    75 / 1160 (thread    0) f\b\b\r",
      "STEP    76 / 1160 (thread    2) f\b\b\r",
      "STEP    77 / 1160 (thread    3) f\b\b\r",
      "STEP    78 / 1160 (thread    1)\r",
      "STEP    79 / 1160 (thread    4) f\b\b f\b\b\r",
      "STEP    80 / 1160 (thread    0) f\b\b\r",
      "STEP    81 / 1160 (thread    5) f\b\b\r",
      "STEP    82 / 1160 (thread    2) f\b\b\r",
      "STEP    83 / 1160 (thread    3) f\b\b\r",
      "STEP    84 / 1160 (thread    0) f\b\b\r",
      "STEP    85 / 1160 (thread    4) f\b\b\r",
      "STEP    86 / 1160 (thread    1) f\b\b\r",
      "STEP    87 / 1160 (thread    2) f\b\b\r",
      "STEP    88 / 1160 (thread    5) f\b\b\r",
      "STEP    89 / 1160 (thread    0) f\b\b\r",
      "STEP    90 / 1160 (thread    2) f\b\b\r",
      "STEP    91 / 1160 (thread    3) f\b\b\r",
      "STEP    92 / 1160 (thread    1) f\b\b\r",
      "STEP    93 / 1160 (thread    4) f\b\b\r",
      "STEP    94 / 1160 (thread    3) f\b\b\r",
      "STEP    95 / 1160 (thread    4) f\b\b\r",
      "STEP    96 / 1160 (thread    1) f\b\b\r",
      "STEP    97 / 1160 (thread    2) f\b\b\r",
      "STEP    98 / 1160 (thread    0) f\b\b\r",
      "STEP    99 / 1160 (thread    2) f\b\b\r",
      "STEP   100 / 1160 (thread    3) f\b\b\r",
      "STEP   101 / 1160 (thread    0) f\b\b\r",
      "STEP   102 / 1160 (thread    5) f\b\b\r",
      "STEP   103 / 1160 (thread    1) f\b\b\r",
      "STEP   104 / 1160 (thread    4) f\b\b\r",
      "STEP   105 / 1160 (thread    2) f\b\b\r",
      "STEP   106 / 1160 (thread    0) f\b\b\r",
      "STEP   107 / 1160 (thread    3) f\b\b\r",
      "STEP   108 / 1160 (thread    5) f\b\b\r",
      "STEP   109 / 1160 (thread    1)\r",
      "STEP   110 / 1160 (thread    4) f\b\b f\b\b\r",
      "STEP   111 / 1160 (thread    2) f\b\b\r",
      "STEP   112 / 1160 (thread    0) f\b\b\r",
      "STEP   113 / 1160 (thread    2) f\b\b\r",
      "STEP   114 / 1160 (thread    0) f\b\b\r",
      "STEP   115 / 1160 (thread    3) f\b\b\r",
      "STEP   116 / 1160 (thread    5) f\b\b\r",
      "STEP   117 / 1160 (thread    4)\r",
      "STEP   118 / 1160 (thread    1) f\b\b f\b\b\r",
      "STEP   119 / 1160 (thread    0) f\b\b\r",
      "STEP   120 / 1160 (thread    2) f\b\b\r",
      "STEP   121 / 1160 (thread    3) f\b\b\r",
      "STEP   122 / 1160 (thread    5) f\b\b\r",
      "STEP   123 / 1160 (thread    0) f\b\b\r",
      "STEP   124 / 1160 (thread    4) f\b\b\r",
      "STEP   125 / 1160 (thread    1) f\b\b\r",
      "STEP   126 / 1160 (thread    2) f\b\b\r",
      "STEP   127 / 1160 (thread    0) f\b\b\r",
      "STEP   128 / 1160 (thread    2) f\b\b\r",
      "STEP   129 / 1160 (thread    3) f\b\b\r",
      "STEP   130 / 1160 (thread    5) f\b\b\r",
      "STEP   131 / 1160 (thread    1) f\b\b\r",
      "STEP   132 / 1160 (thread    4) f\b\b\r",
      "STEP   133 / 1160 (thread    0) f\b\b\r",
      "STEP   134 / 1160 (thread    2) f\b\b\r",
      "STEP   135 / 1160 (thread    0) f\b\b\r",
      "STEP   136 / 1160 (thread    5) f\b\b\r",
      "STEP   137 / 1160 (thread    4) f\b\b\r",
      "STEP   138 / 1160 (thread    1) f\b\b\r",
      "STEP   139 / 1160 (thread    3) f\b\b\r",
      "STEP   140 / 1160 (thread    2) f\b\b\r",
      "STEP   141 / 1160 (thread    0) f\b\b\r",
      "STEP   142 / 1160 (thread    4) f\b\b\r",
      "STEP   143 / 1160 (thread    5) f\b\b\r",
      "STEP   144 / 1160 (thread    1) f\b\b\r",
      "STEP   145 / 1160 (thread    2) f\b\b\r",
      "STEP   146 / 1160 (thread    0) f\b\b\r",
      "STEP   147 / 1160 (thread    3) f\b\b\r",
      "STEP   148 / 1160 (thread    0) f\b\b\r",
      "STEP   149 / 1160 (thread    2) f\b\b\r",
      "STEP   150 / 1160 (thread    4) f\b\b\r",
      "STEP   151 / 1160 (thread    5) f\b\b\r",
      "STEP   152 / 1160 (thread    1) f\b\b\r",
      "STEP   153 / 1160 (thread    3) f\b\b\r",
      "STEP   154 / 1160 (thread    0) f\b\b\r",
      "STEP   156 / 1160 (thread    0) f\b\b\r",
      "STEP   157 / 1160 (thread    5) f\b\b\r",
      "STEP   158 / 1160 (thread    4) f\b\b\r",
      "STEP   155 / 1160 (thread    2) f\b\b\r",
      "STEP   159 / 1160 (thread    1) f\b\b\r",
      "STEP   160 / 1160 (thread    0) f\b\b\r",
      "STEP   161 / 1160 (thread    3) f\b\b\r",
      "STEP   162 / 1160 (thread    0) f\b\b\r",
      "STEP   163 / 1160 (thread    5) f\b\b\r",
      "STEP   164 / 1160 (thread    4) f\b\b\r",
      "STEP   165 / 1160 (thread    1) f\b\b\r",
      "STEP   166 / 1160 (thread    2) f\b\b\r",
      "STEP   167 / 1160 (thread    0) f\b\b\r",
      "STEP   168 / 1160 (thread    5) f\b\b\r",
      "STEP   169 / 1160 (thread    2) f\b\b\r",
      "STEP   170 / 1160 (thread    0) f\b\b\r",
      "STEP   171 / 1160 (thread    1) f\b\b\r",
      "STEP   172 / 1160 (thread    3) f\b\b\r",
      "STEP   173 / 1160 (thread    0) f\b\b\r",
      "STEP   174 / 1160 (thread    4) f\b\b\r",
      "STEP   175 / 1160 (thread    2) f\b\b\r",
      "STEP   176 / 1160 (thread    1) f\b\b\r",
      "STEP   177 / 1160 (thread    3) f\b\b\r",
      "STEP   178 / 1160 (thread    5) f\b\b\r",
      "STEP   179 / 1160 (thread    0) f\b\b\r",
      "STEP   180 / 1160 (thread    3) f\b\b\r",
      "STEP   181 / 1160 (thread    1) f\b\b\r",
      "STEP   182 / 1160 (thread    0) f\b\b\r",
      "STEP   183 / 1160 (thread    5) f\b\b\r",
      "STEP   184 / 1160 (thread    2) f\b\b\r",
      "STEP   185 / 1160 (thread    3) f\b\b\r",
      "STEP   186 / 1160 (thread    4) f\b\b\r",
      "STEP   187 / 1160 (thread    2) f\b\b\r",
      "STEP   188 / 1160 (thread    5) f\b\b\r",
      "STEP   189 / 1160 (thread    0) f\b\b\r",
      "STEP   190 / 1160 (thread    3) f\b\b\r",
      "STEP   191 / 1160 (thread    0) f\b\b\r",
      "STEP   192 / 1160 (thread    4) f\b\b\r",
      "STEP   193 / 1160 (thread    5) f\b\b\r",
      "STEP   194 / 1160 (thread    2) f\b\b\r",
      "STEP   195 / 1160 (thread    0) f\b\b\r",
      "STEP   196 / 1160 (thread    3) f\b\b\r",
      "STEP   197 / 1160 (thread    1) f\b\b\r",
      "STEP   198 / 1160 (thread    4) f\b\b\r",
      "STEP   199 / 1160 (thread    2) f\b\b\r",
      "STEP   200 / 1160 (thread    0) f\b\b\r",
      "STEP   201 / 1160 (thread    5) f\b\b\r",
      "STEP   202 / 1160 (thread    3) f\b\b\r",
      "STEP   203 / 1160 (thread    1) f\b\b\r",
      "STEP   204 / 1160 (thread    0) f\b\b\r",
      "STEP   205 / 1160 (thread    4) f\b\b\r",
      "STEP   206 / 1160 (thread    2) f\b\b\r",
      "STEP   207 / 1160 (thread    1) f\b\b\r",
      "STEP   208 / 1160 (thread    0) f\b\b\r",
      "STEP   209 / 1160 (thread    5) f\b\b\r",
      "STEP   210 / 1160 (thread    2) f\b\b\r",
      "STEP   211 / 1160 (thread    3) f\b\b\r",
      "STEP   212 / 1160 (thread    4) f\b\b\r",
      "STEP   213 / 1160 (thread    2) f\b\b\r",
      "STEP   214 / 1160 (thread    5) f\b\b\r",
      "STEP   215 / 1160 (thread    0) f\b\b\r",
      "STEP   216 / 1160 (thread    3) f\b\b\r",
      "STEP   217 / 1160 (thread    1) f\b\b\r",
      "STEP   218 / 1160 (thread    2) f\b\b\r",
      "STEP   219 / 1160 (thread    4) f\b\b\r",
      "STEP   220 / 1160 (thread    0) f\b\b\r",
      "STEP   221 / 1160 (thread    5) f\b\b\r",
      "STEP   222 / 1160 (thread    2) f\b\b\r",
      "STEP   223 / 1160 (thread    3) f\b\b\r",
      "STEP   224 / 1160 (thread    0) f\b\b\r",
      "STEP   225 / 1160 (thread    1) f\b\b\r",
      "STEP   226 / 1160 (thread    4) f\b\b\r",
      "STEP   227 / 1160 (thread    2) f\b\b\r",
      "STEP   228 / 1160 (thread    5) f\b\b\r",
      "STEP   229 / 1160 (thread    0) f\b\b\r",
      "STEP   230 / 1160 (thread    3) f\b\b\r",
      "STEP   231 / 1160 (thread    1) f\b\b\r",
      "STEP   232 / 1160 (thread    2) f\b\b\r",
      "STEP   233 / 1160 (thread    4) f\b\b\r",
      "STEP   234 / 1160 (thread    0) f\b\b\r",
      "STEP   235 / 1160 (thread    5) f\b\b\r",
      "STEP   236 / 1160 (thread    2) f\b\b\r",
      "STEP   237 / 1160 (thread    3) f\b\b\r",
      "STEP   238 / 1160 (thread    1) f\b\b\r",
      "STEP   239 / 1160 (thread    4) f\b\b\r",
      "STEP   240 / 1160 (thread    0) f\b\b\r",
      "STEP   241 / 1160 (thread    2) f\b\b\r",
      "STEP   242 / 1160 (thread    5) f\b\b\r",
      "STEP   243 / 1160 (thread    0) f\b\b\r",
      "STEP   244 / 1160 (thread    3) f\b\b\r",
      "STEP   245 / 1160 (thread    4) f\b\b\r",
      "STEP   246 / 1160 (thread    1) f\b\b\r",
      "STEP   247 / 1160 (thread    2) f\b\b\r",
      "STEP   248 / 1160 (thread    0) f\b\b\r",
      "STEP   249 / 1160 (thread    3) f\b\b\r",
      "STEP   250 / 1160 (thread    4) f\b\b\r",
      "STEP   251 / 1160 (thread    2) f\b\b\r",
      "STEP   252 / 1160 (thread    0) f\b\b\r",
      "STEP   253 / 1160 (thread    1) f\b\b\r",
      "STEP   254 / 1160 (thread    5) f\b\b\r",
      "STEP   255 / 1160 (thread    2) f\b\b\r",
      "STEP   256 / 1160 (thread    0) f\b\b\r",
      "STEP   257 / 1160 (thread    3) f\b\b\r",
      "STEP   258 / 1160 (thread    4) f\b\b\r",
      "STEP   259 / 1160 (thread    5) f\b\b\r",
      "STEP   260 / 1160 (thread    2) f\b\b\r",
      "STEP   261 / 1160 (thread    0) f\b\b\r",
      "STEP   262 / 1160 (thread    3) f\b\b\r",
      "STEP   263 / 1160 (thread    1) f\b\b\r",
      "STEP   264 / 1160 (thread    4) f\b\b\r",
      "STEP   265 / 1160 (thread    2) f\b\b\r",
      "STEP   266 / 1160 (thread    0) f\b\b\r",
      "STEP   267 / 1160 (thread    1)\r",
      "STEP   268 / 1160 (thread    4) f\b\b f\b\b\r",
      "STEP   269 / 1160 (thread    2) f\b\b\r",
      "STEP   270 / 1160 (thread    5) f\b\b\r",
      "STEP   271 / 1160 (thread    2) f\b\b\r",
      "STEP   272 / 1160 (thread    0) f\b\b\r",
      "STEP   273 / 1160 (thread    3) f\b\b\r",
      "STEP   274 / 1160 (thread    4) f\b\b\r",
      "STEP   275 / 1160 (thread    5) f\b\b\r",
      "STEP   276 / 1160 (thread    2) f\b\b\r",
      "STEP   277 / 1160 (thread    1) f\b\b\r",
      "STEP   278 / 1160 (thread    0) f\b\b\r",
      "STEP   279 / 1160 (thread    2) f\b\b\r",
      "STEP   280 / 1160 (thread    4) f\b\b\r",
      "STEP   281 / 1160 (thread    5) f\b\b\r",
      "STEP   282 / 1160 (thread    3) f\b\b\r",
      "STEP   283 / 1160 (thread    2) f\b\b\r",
      "STEP   284 / 1160 (thread    0) f\b\b\r",
      "STEP   285 / 1160 (thread    4) f\b\b\r",
      "STEP   286 / 1160 (thread    5) f\b\b\r",
      "STEP   287 / 1160 (thread    3) f\b\b\r",
      "STEP   288 / 1160 (thread    1) f\b\b\r",
      "STEP   289 / 1160 (thread    2) f\b\b\r",
      "STEP   290 / 1160 (thread    0) f\b\b\r",
      "STEP   291 / 1160 (thread    1) f\b\b\r",
      "STEP   293 / 1160 (thread    0) f\b\b\r",
      "STEP   294 / 1160 (thread    4) f\b\b\r",
      "STEP   292 / 1160 (thread    2) f\b\b\r",
      "STEP   295 / 1160 (thread    1) f\b\b\r",
      "STEP   296 / 1160 (thread    5) f\b\b\r",
      "STEP   297 / 1160 (thread    3) f\b\b\r",
      "STEP   298 / 1160 (thread    0) f\b\b\r",
      "STEP   299 / 1160 (thread    5) f\b\b\r",
      "STEP   300 / 1160 (thread    2) f\b\b\r",
      "STEP   301 / 1160 (thread    0) f\b\b\r",
      "STEP   302 / 1160 (thread    1) f\b\b\r",
      "STEP   303 / 1160 (thread    4) f\b\b\r",
      "STEP   304 / 1160 (thread    2) f\b\b\r",
      "STEP   305 / 1160 (thread    3) f\b\b\r",
      "STEP   306 / 1160 (thread    0) f\b\b\r",
      "STEP   307 / 1160 (thread    5) f\b\b\r",
      "STEP   308 / 1160 (thread    2) f\b\b\r",
      "STEP   309 / 1160 (thread    0) f\b\b\r",
      "STEP   310 / 1160 (thread    3) f\b\b\r",
      "STEP   311 / 1160 (thread    0) f\b\b\r",
      "STEP   312 / 1160 (thread    5) f\b\b\r",
      "STEP   313 / 1160 (thread    1) f\b\b\r",
      "STEP   314 / 1160 (thread    4) f\b\b\r",
      "STEP   315 / 1160 (thread    2) f\b\b\r",
      "STEP   316 / 1160 (thread    3) f\b\b\r",
      "STEP   317 / 1160 (thread    2) f\b\b\r",
      "STEP   318 / 1160 (thread    0) f\b\b\r",
      "STEP   319 / 1160 (thread    4) f\b\b\r",
      "STEP   320 / 1160 (thread    2) f\b\b\r",
      "STEP   321 / 1160 (thread    0) f\b\b\r",
      "STEP   322 / 1160 (thread    3) f\b\b\r",
      "STEP   323 / 1160 (thread    1) f\b\b\r",
      "STEP   324 / 1160 (thread    5) f\b\b\r",
      "STEP   325 / 1160 (thread    4) f\b\b\r",
      "STEP   326 / 1160 (thread    0) f\b\b\r",
      "STEP   327 / 1160 (thread    2) f\b\b\r",
      "STEP   328 / 1160 (thread    1) f\b\b\r",
      "STEP   329 / 1160 (thread    5) f\b\b\r",
      "STEP   330 / 1160 (thread    2) f\b\b\r",
      "STEP   331 / 1160 (thread    3) f\b\b\r",
      "STEP   332 / 1160 (thread    0) f\b\b\r",
      "STEP   333 / 1160 (thread    2) f\b\b\r",
      "STEP   334 / 1160 (thread    4) f\b\b\r",
      "STEP   335 / 1160 (thread    1) f\b\b\r",
      "STEP   337 / 1160 (thread    0) f\b\b\r",
      "STEP   336 / 1160 (thread    5) f\b\b\r",
      "STEP   338 / 1160 (thread    2) f\b\b\r",
      "STEP   339 / 1160 (thread    3) f\b\b\r",
      "STEP   341 / 1160 (thread    4) f\b\b\r",
      "STEP   342 / 1160 (thread    2) f\b\b\r",
      "STEP   343 / 1160 (thread    1) f\b\b\r",
      "STEP   340 / 1160 (thread    0) f\b\b\r",
      "STEP   344 / 1160 (thread    5) f\b\b\r",
      "STEP   345 / 1160 (thread    3) f\b\b\r",
      "STEP   346 / 1160 (thread    2) f\b\b\r",
      "STEP   347 / 1160 (thread    0) f\b\b\r",
      "STEP   348 / 1160 (thread    4) f\b\b\r",
      "STEP   349 / 1160 (thread    1) f\b\b\r",
      "STEP   350 / 1160 (thread    5) f\b\b\r",
      "STEP   351 / 1160 (thread    0) f\b\b\r",
      "STEP   352 / 1160 (thread    2) f\b\b\r",
      "STEP   353 / 1160 (thread    4) f\b\b\r",
      "STEP   354 / 1160 (thread    1)\r",
      "STEP   355 / 1160 (thread    3) f\b\b f\b\b\r",
      "STEP   356 / 1160 (thread    5) f\b\b\r",
      "STEP   357 / 1160 (thread    0) f\b\b\r",
      "STEP   358 / 1160 (thread    2) f\b\b\r",
      "STEP   359 / 1160 (thread    3) f\b\b\r",
      "STEP   360 / 1160 (thread    2) f\b\b\r",
      "STEP   361 / 1160 (thread    0) f\b\b\r",
      "STEP   362 / 1160 (thread    5) f\b\b\r",
      "STEP   363 / 1160 (thread    4) f\b\b\r",
      "STEP   364 / 1160 (thread    2) f\b\b\r",
      "STEP   365 / 1160 (thread    1) f\b\b\r",
      "STEP   366 / 1160 (thread    0) f\b\b\r",
      "STEP   367 / 1160 (thread    3) f\b\b\r",
      "STEP   368 / 1160 (thread    5) f\b\b\r",
      "STEP   369 / 1160 (thread    2) f\b\b\r",
      "STEP   370 / 1160 (thread    4) f\b\b\r",
      "STEP   371 / 1160 (thread    3) f\b\b\r",
      "STEP   372 / 1160 (thread    0) f\b\b\r",
      "STEP   373 / 1160 (thread    2) f\b\b\r",
      "STEP   374 / 1160 (thread    1) f\b\b\r",
      "STEP   375 / 1160 (thread    0) f\b\b\r",
      "STEP   377 / 1160 (thread    4) f\b\b\r",
      "STEP   378 / 1160 (thread    3) f\b\b\r",
      "STEP   379 / 1160 (thread    2) f\b\b\r",
      "STEP   376 / 1160 (thread    5) f\b\b\r",
      "STEP   380 / 1160 (thread    2) f\b\b\r",
      "STEP   381 / 1160 (thread    4) f\b\b\r",
      "STEP   382 / 1160 (thread    3) f\b\b\r",
      "STEP   383 / 1160 (thread    0) f\b\b\r",
      "STEP   384 / 1160 (thread    2) f\b\b\r",
      "STEP   386 / 1160 (thread    1) f\b\b\r",
      "STEP   387 / 1160 (thread    4) f\b\b\r",
      "STEP   385 / 1160 (thread    0) f\b\b\r",
      "STEP   388 / 1160 (thread    3) f\b\b\r",
      "STEP   389 / 1160 (thread    5) f\b\b\r",
      "STEP   390 / 1160 (thread    2) f\b\b\r",
      "STEP   391 / 1160 (thread    0) f\b\b\r",
      "STEP   392 / 1160 (thread    2) f\b\b\r",
      "STEP   393 / 1160 (thread    1) f\b\b\r",
      "STEP   394 / 1160 (thread    3) f\b\b\r",
      "STEP   395 / 1160 (thread    4) f\b\b\r",
      "STEP   396 / 1160 (thread    5) f\b\b\r",
      "STEP   397 / 1160 (thread    0) f\b\b\r",
      "STEP   398 / 1160 (thread    2) f\b\b\r",
      "STEP   399 / 1160 (thread    1) f\b\b\r",
      "STEP   400 / 1160 (thread    3) f\b\b\r",
      "STEP   401 / 1160 (thread    5) f\b\b\r",
      "STEP   402 / 1160 (thread    0) f\b\b\r",
      "STEP   403 / 1160 (thread    2) f\b\b\r",
      "STEP   404 / 1160 (thread    4) f\b\b\r",
      "STEP   405 / 1160 (thread    1) f\b\b\r",
      "STEP   406 / 1160 (thread    0) f\b\b\r",
      "STEP   407 / 1160 (thread    5) f\b\b\r",
      "STEP   408 / 1160 (thread    3) f\b\b\r",
      "STEP   409 / 1160 (thread    2) f\b\b\r",
      "STEP   410 / 1160 (thread    0) f\b\b\r",
      "STEP   411 / 1160 (thread    2) f\b\b\r",
      "STEP   412 / 1160 (thread    4) f\b\b\r",
      "STEP   413 / 1160 (thread    2) f\b\b\r",
      "STEP   414 / 1160 (thread    3) f\b\b\r",
      "STEP   415 / 1160 (thread    1) f\b\b\r",
      "STEP   416 / 1160 (thread    0) f\b\b\r",
      "STEP   417 / 1160 (thread    5) f\b\b\r",
      "STEP   419 / 1160 (thread    3) f\b\b\r",
      "STEP   418 / 1160 (thread    0) f\b\b\r",
      "STEP   420 / 1160 (thread    2) f\b\b\r",
      "STEP   421 / 1160 (thread    4) f\b\b\r",
      "STEP   422 / 1160 (thread    0) f\b\b\r",
      "STEP   423 / 1160 (thread    1) f\b\b\r",
      "STEP   424 / 1160 (thread    2) f\b\b\r",
      "STEP   425 / 1160 (thread    0) f\b\b\r",
      "STEP   426 / 1160 (thread    3) f\b\b\r",
      "STEP   427 / 1160 (thread    5) f\b\b\r",
      "STEP   428 / 1160 (thread    1) f\b\b\r",
      "STEP   429 / 1160 (thread    2) f\b\b\r",
      "STEP   430 / 1160 (thread    4) f\b\b\r",
      "STEP   431 / 1160 (thread    0) f\b\b\r",
      "STEP   432 / 1160 (thread    2) f\b\b\r",
      "STEP   433 / 1160 (thread    4) f\b\b\r",
      "STEP   434 / 1160 (thread    3) f\b\b\r",
      "STEP   435 / 1160 (thread    1) f\b\b\r",
      "STEP   436 / 1160 (thread    2) f\b\b\r",
      "STEP   437 / 1160 (thread    0) f\b\b\r",
      "STEP   438 / 1160 (thread    4) f\b\b\r",
      "STEP   439 / 1160 (thread    5) f\b\b\r",
      "STEP   440 / 1160 (thread    2) f\b\b\r",
      "STEP   441 / 1160 (thread    0) f\b\b\r",
      "STEP   442 / 1160 (thread    0) f\b\b\r",
      "STEP   443 / 1160 (thread    3) f\b\b\r",
      "STEP   444 / 1160 (thread    0) f\b\b\r",
      "STEP   445 / 1160 (thread    1) f\b\b\r",
      "STEP   446 / 1160 (thread    2) f\b\b\r",
      "STEP   447 / 1160 (thread    4) f\b\b\r",
      "STEP   448 / 1160 (thread    5) f\b\b\r",
      "STEP   449 / 1160 (thread    2) f\b\b\r",
      "STEP   450 / 1160 (thread    3) f\b\b\r",
      "STEP   451 / 1160 (thread    1) f\b\b\r",
      "STEP   452 / 1160 (thread    0) f\b\b\r",
      "STEP   453 / 1160 (thread    4) f\b\b\r",
      "STEP   454 / 1160 (thread    5) f\b\b\r",
      "STEP   455 / 1160 (thread    2) f\b\b\r",
      "STEP   456 / 1160 (thread    3) f\b\b\r",
      "STEP   457 / 1160 (thread    0) f\b\b\r",
      "STEP   458 / 1160 (thread    5) f\b\b\r",
      "STEP   459 / 1160 (thread    2) f\b\b\r",
      "STEP   460 / 1160 (thread    1) f\b\b\r",
      "STEP   461 / 1160 (thread    4) f\b\b\r",
      "STEP   462 / 1160 (thread    3) f\b\b\r",
      "STEP   463 / 1160 (thread    0) f\b\b\r",
      "STEP   464 / 1160 (thread    1) f\b\b\r",
      "STEP   465 / 1160 (thread    2) f\b\b\r",
      "STEP   466 / 1160 (thread    0) f\b\b\r",
      "STEP   467 / 1160 (thread    3) f\b\b\r",
      "STEP   468 / 1160 (thread    5) f\b\b\r",
      "STEP   469 / 1160 (thread    2) f\b\b\r",
      "STEP   470 / 1160 (thread    3) f\b\b\r",
      "STEP   471 / 1160 (thread    0) f\b\b\r",
      "STEP   472 / 1160 (thread    4) f\b\b\r",
      "STEP   473 / 1160 (thread    1) f\b\b\r",
      "STEP   474 / 1160 (thread    5) f\b\b\r",
      "STEP   475 / 1160 (thread    2) f\b\b\r",
      "STEP   476 / 1160 (thread    1) f\b\b\r",
      "STEP   477 / 1160 (thread    0) f\b\b\r",
      "STEP   478 / 1160 (thread    2) f\b\b\r",
      "STEP   479 / 1160 (thread    5) f\b\b\r",
      "STEP   480 / 1160 (thread    4) f\b\b\r",
      "STEP   481 / 1160 (thread    1) f\b\b\r",
      "STEP   482 / 1160 (thread    0) f\b\b\r",
      "STEP   483 / 1160 (thread    2) f\b\b\r",
      "STEP   484 / 1160 (thread    3) f\b\b\r",
      "STEP   485 / 1160 (thread    0) f\b\b\r",
      "STEP   486 / 1160 (thread    2) f\b\b\r",
      "STEP   487 / 1160 (thread    5) f\b\b\r",
      "STEP   488 / 1160 (thread    4) f\b\b\r",
      "STEP   489 / 1160 (thread    1) f\b\b\r",
      "STEP   490 / 1160 (thread    0) f\b\b\r",
      "STEP   491 / 1160 (thread    2) f\b\b\r",
      "STEP   492 / 1160 (thread    4) f\b\b\r",
      "STEP   493 / 1160 (thread    3) f\b\b\r",
      "STEP   494 / 1160 (thread    0) f\b\b\r",
      "STEP   495 / 1160 (thread    5) f\b\b\r",
      "STEP   496 / 1160 (thread    3) f\b\b\r",
      "STEP   497 / 1160 (thread    1) f\b\b\r",
      "STEP   498 / 1160 (thread    2) f\b\b\r",
      "STEP   499 / 1160 (thread    0) f\b\b\r",
      "STEP   500 / 1160 (thread    4) f\b\b\r",
      "STEP   501 / 1160 (thread    2) f\b\b"
     ]
    },
    {
     "name": "stderr",
     "output_type": "stream",
     "text": [
      "\r",
      "STEP   601 / 1160 (thread    0) f\b\b\r",
      "STEP   701 / 1160 (thread    3) f\b\b\r",
      "STEP   801 / 1160 (thread    5) f\b\b\n",
      "Reallocating..done. *alloclen = 1862\n",
      "\r",
      "STEP   901 / 1160 (thread    1) f\b\b"
     ]
    },
    {
     "name": "stderr",
     "output_type": "stream",
     "text": [
      "\r",
      "STEP  1001 / 1160 (thread    2) f\b\b\r",
      "STEP  1101 / 1160 (thread    0) f\b\b"
     ]
    },
    {
     "name": "stderr",
     "output_type": "stream",
     "text": [
      "\n",
      "done.\n",
      "\n",
      "Making a distance matrix from msa.. \n",
      "\r",
      "    0 / 1161 (thread    1)\r",
      "  100 / 1161 (thread    3)\r",
      "  200 / 1161 (thread    3)\r",
      "  300 / 1161 (thread    5)\r",
      "  400 / 1161 (thread    3)"
     ]
    },
    {
     "name": "stderr",
     "output_type": "stream",
     "text": [
      "\r",
      "  500 / 1161 (thread    1)\r",
      "  600 / 1161 (thread    3)\r",
      "  700 / 1161 (thread    0)\r",
      "  800 / 1161 (thread    0)\r",
      "  900 / 1161 (thread    2)\r",
      " 1000 / 1161 (thread    5)\r",
      " 1100 / 1161 (thread    1)\n",
      "done.\n",
      "\n",
      "Constructing a UPGMA tree (efffree=1) ... \n",
      "\r",
      "    0 / 1161\r",
      "   10 / 1161\r",
      "   20 / 1161\r",
      "   30 / 1161\r",
      "   40 / 1161\r",
      "   50 / 1161\r",
      "   60 / 1161\r",
      "   70 / 1161\r",
      "   80 / 1161\r",
      "   90 / 1161\r",
      "  100 / 1161\r",
      "  110 / 1161\r",
      "  120 / 1161\r",
      "  130 / 1161\r",
      "  140 / 1161\r",
      "  150 / 1161\r",
      "  160 / 1161\r",
      "  170 / 1161\r",
      "  180 / 1161\r",
      "  190 / 1161\r",
      "  200 / 1161\r",
      "  210 / 1161\r",
      "  220 / 1161\r",
      "  230 / 1161\r",
      "  240 / 1161\r",
      "  250 / 1161\r",
      "  260 / 1161\r",
      "  270 / 1161\r",
      "  280 / 1161\r",
      "  290 / 1161\r",
      "  300 / 1161\r",
      "  310 / 1161\r",
      "  320 / 1161\r",
      "  330 / 1161\r",
      "  340 / 1161\r",
      "  350 / 1161\r",
      "  360 / 1161\r",
      "  370 / 1161\r",
      "  380 / 1161\r",
      "  390 / 1161\r",
      "  400 / 1161\r",
      "  410 / 1161\r",
      "  420 / 1161\r",
      "  430 / 1161\r",
      "  440 / 1161\r",
      "  450 / 1161\r",
      "  460 / 1161\r",
      "  470 / 1161\r",
      "  480 / 1161\r",
      "  490 / 1161\r",
      "  500 / 1161\r",
      "  510 / 1161\r",
      "  520 / 1161\r",
      "  530 / 1161\r",
      "  540 / 1161\r",
      "  550 / 1161\r",
      "  560 / 1161\r",
      "  570 / 1161\r",
      "  580 / 1161\r",
      "  590 / 1161\r",
      "  600 / 1161\r",
      "  610 / 1161\r",
      "  620 / 1161\r",
      "  630 / 1161\r",
      "  640 / 1161\r",
      "  650 / 1161\r",
      "  660 / 1161\r",
      "  670 / 1161\r",
      "  680 / 1161\r",
      "  690 / 1161\r",
      "  700 / 1161\r",
      "  710 / 1161\r",
      "  720 / 1161\r",
      "  730 / 1161\r",
      "  740 / 1161\r",
      "  750 / 1161\r",
      "  760 / 1161\r",
      "  770 / 1161\r",
      "  780 / 1161\r",
      "  790 / 1161\r",
      "  800 / 1161\r",
      "  810 / 1161\r",
      "  820 / 1161\r",
      "  830 / 1161\r",
      "  840 / 1161\r",
      "  850 / 1161\r",
      "  860 / 1161\r",
      "  870 / 1161\r",
      "  880 / 1161\r",
      "  890 / 1161\r",
      "  900 / 1161\r",
      "  910 / 1161\r",
      "  920 / 1161\r",
      "  930 / 1161\r",
      "  940 / 1161\r",
      "  950 / 1161\r",
      "  960 / 1161\r",
      "  970 / 1161\r",
      "  980 / 1161\r",
      "  990 / 1161\r",
      " 1000 / 1161\r",
      " 1010 / 1161\r",
      " 1020 / 1161\r",
      " 1030 / 1161\r",
      " 1040 / 1161\r",
      " 1050 / 1161\r",
      " 1060 / 1161\r",
      " 1070 / 1161\r",
      " 1080 / 1161\r",
      " 1090 / 1161\r",
      " 1100 / 1161\r",
      " 1110 / 1161\r",
      " 1120 / 1161\r",
      " 1130 / 1161\r",
      " 1140 / 1161\r",
      " 1150 / 1161\n",
      "done.\n",
      "\n",
      "Progressive alignment 2/2... \n",
      "\r",
      "STEP     1 / 1160 (thread    0) f\b\b\r",
      "STEP     2 / 1160 (thread    1) f\b\b\r",
      "STEP     3 / 1160 (thread    2) f\b\b\r",
      "STEP     4 / 1160 (thread    3) f\b\b\r",
      "STEP     5 / 1160 (thread    4) f\b\b\r",
      "STEP     6 / 1160 (thread    5) f\b\b\r",
      "STEP     7 / 1160 (thread    3) f\b\b\r",
      "STEP     8 / 1160 (thread    3) f\b\b\r",
      "STEP     9 / 1160 (thread    3) f\b\b\r",
      "STEP    10 / 1160 (thread    3) f\b\b\r",
      "STEP    11 / 1160 (thread    0) f\b\b\r",
      "STEP    12 / 1160 (thread    3) f\b\b\r",
      "STEP    13 / 1160 (thread    0) f\b\b\r",
      "STEP    14 / 1160 (thread    3) f\b\b\r",
      "STEP    15 / 1160 (thread    0) f\b\b\r",
      "STEP    16 / 1160 (thread    3) f\b\b\r",
      "STEP    17 / 1160 (thread    0) f\b\b\r",
      "STEP    18 / 1160 (thread    0) f\b\b\r",
      "STEP    19 / 1160 (thread    3) f\b\b\r",
      "STEP    20 / 1160 (thread    0) f\b\b\r",
      "STEP    21 / 1160 (thread    1) f\b\b\r",
      "STEP    22 / 1160 (thread    3) f\b\b\r",
      "STEP    23 / 1160 (thread    5) f\b\b\r",
      "STEP    24 / 1160 (thread    0) f\b\b\r",
      "STEP    25 / 1160 (thread    2) f\b\b\r",
      "STEP    26 / 1160 (thread    4) f\b\b\r",
      "STEP    27 / 1160 (thread    3) f\b\b\r",
      "STEP    28 / 1160 (thread    1) f\b\b\r",
      "STEP    29 / 1160 (thread    5) f\b\b\r",
      "STEP    30 / 1160 (thread    0) f\b\b\r",
      "STEP    31 / 1160 (thread    2) f\b\b\r",
      "STEP    32 / 1160 (thread    4) f\b\b\r",
      "STEP    33 / 1160 (thread    3) f\b\b\r",
      "STEP    34 / 1160 (thread    0) f\b\b\r",
      "STEP    35 / 1160 (thread    1) f\b\b\r",
      "STEP    36 / 1160 (thread    5) f\b\b\r",
      "STEP    37 / 1160 (thread    3) f\b\b\r",
      "STEP    38 / 1160 (thread    2) f\b\b\r",
      "STEP    39 / 1160 (thread    4) f\b\b\r",
      "STEP    40 / 1160 (thread    0) f\b\b\r",
      "STEP    41 / 1160 (thread    3) f\b\b\r",
      "STEP    42 / 1160 (thread    1) f\b\b\r",
      "STEP    43 / 1160 (thread    5) f\b\b\r",
      "STEP    44 / 1160 (thread    0) f\b\b\r",
      "STEP    45 / 1160 (thread    2) f\b\b\r",
      "STEP    46 / 1160 (thread    4) f\b\b\r",
      "STEP    47 / 1160 (thread    3) f\b\b\r",
      "STEP    48 / 1160 (thread    0) f\b\b\r",
      "STEP    49 / 1160 (thread    1) f\b\b\r",
      "STEP    50 / 1160 (thread    5) f\b\b\r",
      "STEP    51 / 1160 (thread    3) f\b\b\r",
      "STEP    52 / 1160 (thread    2) f\b\b\r",
      "STEP    53 / 1160 (thread    0) f\b\b\r",
      "STEP    54 / 1160 (thread    3) f\b\b\r",
      "STEP    55 / 1160 (thread    1) f\b\b\r",
      "STEP    56 / 1160 (thread    5) f\b\b\r",
      "STEP    57 / 1160 (thread    2) f\b\b\r",
      "STEP    58 / 1160 (thread    0) f\b\b\r",
      "STEP    59 / 1160 (thread    4) f\b\b\r",
      "STEP    60 / 1160 (thread    3) f\b\b\r",
      "STEP    61 / 1160 (thread    0) f\b\b\r",
      "STEP    62 / 1160 (thread    1) f\b\b\r",
      "STEP    63 / 1160 (thread    5) f\b\b\r",
      "STEP    64 / 1160 (thread    2) f\b\b\r",
      "STEP    65 / 1160 (thread    3) f\b\b\r",
      "STEP    66 / 1160 (thread    4) f\b\b\r",
      "STEP    67 / 1160 (thread    0) f\b\b\r",
      "STEP    68 / 1160 (thread    3) f\b\b\r",
      "STEP    69 / 1160 (thread    2) f\b\b\r",
      "STEP    70 / 1160 (thread    1) f\b\b\r",
      "STEP    71 / 1160 (thread    5) f\b\b\r",
      "STEP    72 / 1160 (thread    0) f\b\b\r",
      "STEP    73 / 1160 (thread    4) f\b\b\r",
      "STEP    74 / 1160 (thread    3) f\b\b\r",
      "STEP    75 / 1160 (thread    2) f\b\b\r",
      "STEP    76 / 1160 (thread    0) f\b\b\r",
      "STEP    77 / 1160 (thread    1) f\b\b\r",
      "STEP    78 / 1160 (thread    5) f\b\b\r",
      "STEP    79 / 1160 (thread    3) f\b\b\r",
      "STEP    80 / 1160 (thread    4) f\b\b\r",
      "STEP    81 / 1160 (thread    0) f\b\b\r",
      "STEP    82 / 1160 (thread    3) f\b\b\r",
      "STEP    83 / 1160 (thread    2) f\b\b\r",
      "STEP    84 / 1160 (thread    1) f\b\b\r",
      "STEP    85 / 1160 (thread    5) f\b\b\r",
      "STEP    86 / 1160 (thread    4) f\b\b\r",
      "STEP    87 / 1160 (thread    0) f\b\b\r",
      "STEP    88 / 1160 (thread    3) f\b\b\r",
      "STEP    89 / 1160 (thread    2) f\b\b\r",
      "STEP    90 / 1160 (thread    0) f\b\b\r",
      "STEP    92 / 1160 (thread    3)\r",
      "STEP    93 / 1160 (thread    4)\r",
      "STEP    91 / 1160 (thread    5)\r",
      "STEP    94 / 1160 (thread    1) f\b\b f\b\b f\b\b f\b\b\r",
      "STEP    95 / 1160 (thread    0) f\b\b\r",
      "STEP    96 / 1160 (thread    2) f\b\b\r",
      "STEP    97 / 1160 (thread    3) f\b\b\r",
      "STEP    98 / 1160 (thread    4) f\b\b\r",
      "STEP    99 / 1160 (thread    1) f\b\b\r",
      "STEP   100 / 1160 (thread    5) f\b\b\r",
      "STEP   101 / 1160 (thread    0) f\b\b\r",
      "STEP   102 / 1160 (thread    3) f\b\b\r",
      "STEP   103 / 1160 (thread    2) f\b\b\r",
      "STEP   104 / 1160 (thread    4) f\b\b\r",
      "STEP   105 / 1160 (thread    3) f\b\b\r",
      "STEP   106 / 1160 (thread    1) f\b\b\r",
      "STEP   107 / 1160 (thread    5) f\b\b\r",
      "STEP   108 / 1160 (thread    2) f\b\b\r",
      "STEP   109 / 1160 (thread    3) f\b\b\r",
      "STEP   110 / 1160 (thread    4) f\b\b\r",
      "STEP   111 / 1160 (thread    0) f\b\b\r",
      "STEP   112 / 1160 (thread    1) f\b\b\r",
      "STEP   113 / 1160 (thread    3) f\b\b\r",
      "STEP   114 / 1160 (thread    0) f\b\b\r",
      "STEP   117 / 1160 (thread    4) f\b\b\r",
      "STEP   118 / 1160 (thread    1) f\b\b\r",
      "STEP   115 / 1160 (thread    5) f\b\b\r",
      "STEP   119 / 1160 (thread    3) f\b\b\r",
      "STEP   116 / 1160 (thread    2) f\b\b\r",
      "STEP   120 / 1160 (thread    4) f\b\b\r",
      "STEP   121 / 1160 (thread    0) f\b\b\r",
      "STEP   122 / 1160 (thread    3) f\b\b\r",
      "STEP   123 / 1160 (thread    1) f\b\b\r",
      "STEP   124 / 1160 (thread    0) f\b\b\r",
      "STEP   125 / 1160 (thread    4) f\b\b\r",
      "STEP   126 / 1160 (thread    3) f\b\b\r",
      "STEP   127 / 1160 (thread    0) f\b\b\r",
      "STEP   128 / 1160 (thread    2) f\b\b\r",
      "STEP   129 / 1160 (thread    5) f\b\b\r",
      "STEP   130 / 1160 (thread    1) f\b\b\r",
      "STEP   131 / 1160 (thread    4) f\b\b\r",
      "STEP   132 / 1160 (thread    3) f\b\b\r",
      "STEP   133 / 1160 (thread    0) f\b\b\r",
      "STEP   134 / 1160 (thread    3) f\b\b\r",
      "STEP   135 / 1160 (thread    2) f\b\b\r",
      "STEP   136 / 1160 (thread    0) f\b\b\r",
      "STEP   137 / 1160 (thread    1) f\b\b\r",
      "STEP   138 / 1160 (thread    5) f\b\b\r",
      "STEP   139 / 1160 (thread    3) f\b\b\r",
      "STEP   140 / 1160 (thread    2) f\b\b\r",
      "STEP   141 / 1160 (thread    0) f\b\b\r",
      "STEP   142 / 1160 (thread    4) f\b\b\r",
      "STEP   143 / 1160 (thread    0) f\b\b\r",
      "STEP   144 / 1160 (thread    2) f\b\b\r",
      "STEP   145 / 1160 (thread    3) f\b\b\r",
      "STEP   146 / 1160 (thread    4) f\b\b\r",
      "STEP   147 / 1160 (thread    0) f\b\b\r",
      "STEP   148 / 1160 (thread    5) f\b\b\r",
      "STEP   149 / 1160 (thread    1) f\b\b\r",
      "STEP   150 / 1160 (thread    0) f\b\b\r",
      "STEP   151 / 1160 (thread    4) f\b\b\r",
      "STEP   152 / 1160 (thread    3) f\b\b\r",
      "STEP   153 / 1160 (thread    5) f\b\b\r",
      "STEP   154 / 1160 (thread    1) f\b\b\r",
      "STEP   155 / 1160 (thread    2) f\b\b\r",
      "STEP   156 / 1160 (thread    3) f\b\b\r",
      "STEP   157 / 1160 (thread    0) f\b\b\r",
      "STEP   158 / 1160 (thread    5) f\b\b\r",
      "STEP   159 / 1160 (thread    1) f\b\b\r",
      "STEP   160 / 1160 (thread    3) f\b\b\r",
      "STEP   161 / 1160 (thread    2) f\b\b\r",
      "STEP   162 / 1160 (thread    0) f\b\b\r",
      "STEP   163 / 1160 (thread    4) f\b\b\r",
      "STEP   164 / 1160 (thread    3) f\b\b\r",
      "STEP   166 / 1160 (thread    5) f\b\b\r",
      "STEP   167 / 1160 (thread    2) f\b\b\r",
      "STEP   165 / 1160 (thread    1) f\b\b\r",
      "STEP   168 / 1160 (thread    0) f\b\b\r",
      "STEP   169 / 1160 (thread    3) f\b\b\r",
      "STEP   170 / 1160 (thread    4) f\b\b\r",
      "STEP   171 / 1160 (thread    0) f\b\b\r",
      "STEP   172 / 1160 (thread    2) f\b\b\r",
      "STEP   173 / 1160 (thread    3) f\b\b\r",
      "STEP   174 / 1160 (thread    1) f\b\b\r",
      "STEP   175 / 1160 (thread    5) f\b\b\r",
      "STEP   176 / 1160 (thread    0) f\b\b\r",
      "STEP   177 / 1160 (thread    4) f\b\b\r",
      "STEP   178 / 1160 (thread    2) f\b\b\r",
      "STEP   179 / 1160 (thread    1) f\b\b\r",
      "STEP   180 / 1160 (thread    3) f\b\b\r",
      "STEP   181 / 1160 (thread    0) f\b\b\r",
      "STEP   182 / 1160 (thread    5) f\b\b\r",
      "STEP   183 / 1160 (thread    4) f\b\b\r",
      "STEP   184 / 1160 (thread    3) f\b\b\r",
      "STEP   185 / 1160 (thread    2) f\b\b\r",
      "STEP   186 / 1160 (thread    0) f\b\b\r",
      "STEP   187 / 1160 (thread    1) f\b\b\r",
      "STEP   188 / 1160 (thread    3) f\b\b\r",
      "STEP   189 / 1160 (thread    5) f\b\b\r",
      "STEP   190 / 1160 (thread    0) f\b\b\r",
      "STEP   191 / 1160 (thread    4) f\b\b\r",
      "STEP   192 / 1160 (thread    2) f\b\b\r",
      "STEP   193 / 1160 (thread    3) f\b\b\r",
      "STEP   194 / 1160 (thread    1) f\b\b\r",
      "STEP   195 / 1160 (thread    0) f\b\b\r",
      "STEP   196 / 1160 (thread    4) f\b\b\r",
      "STEP   197 / 1160 (thread    5) f\b\b\r",
      "STEP   198 / 1160 (thread    3) f\b\b\r",
      "STEP   199 / 1160 (thread    0) f\b\b\r",
      "STEP   200 / 1160 (thread    1) f\b\b\r",
      "STEP   201 / 1160 (thread    2) f\b\b\r",
      "STEP   202 / 1160 (thread    0) f\b\b\r",
      "STEP   203 / 1160 (thread    4) f\b\b\r",
      "STEP   204 / 1160 (thread    1) f\b\b\r",
      "STEP   205 / 1160 (thread    2) f\b\b\r",
      "STEP   206 / 1160 (thread    3) f\b\b\r",
      "STEP   207 / 1160 (thread    0) f\b\b\r",
      "STEP   208 / 1160 (thread    4) f\b\b\r",
      "STEP   209 / 1160 (thread    3) f\b\b\r",
      "STEP   210 / 1160 (thread    5) f\b\b\r",
      "STEP   211 / 1160 (thread    1) f\b\b\r",
      "STEP   212 / 1160 (thread    2) f\b\b\r",
      "STEP   213 / 1160 (thread    3) f\b\b\r",
      "STEP   214 / 1160 (thread    0) f\b\b\r",
      "STEP   215 / 1160 (thread    5) f\b\b\r",
      "STEP   216 / 1160 (thread    1) f\b\b\r",
      "STEP   217 / 1160 (thread    2) f\b\b\r",
      "STEP   218 / 1160 (thread    4) f\b\b\r",
      "STEP   219 / 1160 (thread    3) f\b\b\r",
      "STEP   220 / 1160 (thread    2) f\b\b\r",
      "STEP   221 / 1160 (thread    0) f\b\b\r",
      "STEP   222 / 1160 (thread    5) f\b\b\r",
      "STEP   223 / 1160 (thread    1) f\b\b\r",
      "STEP   224 / 1160 (thread    3) f\b\b\r",
      "STEP   225 / 1160 (thread    0) f\b\b\r",
      "STEP   226 / 1160 (thread    2) f\b\b\r",
      "STEP   227 / 1160 (thread    1) f\b\b\r",
      "STEP   228 / 1160 (thread    5) f\b\b\r",
      "STEP   229 / 1160 (thread    4) f\b\b\r",
      "STEP   230 / 1160 (thread    2) f\b\b\r",
      "STEP   231 / 1160 (thread    3) f\b\b\r",
      "STEP   232 / 1160 (thread    0) f\b\b\r",
      "STEP   233 / 1160 (thread    5) f\b\b\r",
      "STEP   234 / 1160 (thread    1) f\b\b\r",
      "STEP   235 / 1160 (thread    3) f\b\b\r",
      "STEP   236 / 1160 (thread    0) f\b\b\r",
      "STEP   237 / 1160 (thread    4) f\b\b\r",
      "STEP   238 / 1160 (thread    2) f\b\b\r",
      "STEP   239 / 1160 (thread    1) f\b\b\r",
      "STEP   241 / 1160 (thread    3) f\b\b\r",
      "STEP   240 / 1160 (thread    5) f\b\b\r",
      "STEP   242 / 1160 (thread    0) f\b\b\r",
      "STEP   243 / 1160 (thread    0) f\b\b\r",
      "STEP   244 / 1160 (thread    4) f\b\b\r",
      "STEP   245 / 1160 (thread    2) f\b\b\r",
      "STEP   246 / 1160 (thread    3) f\b\b\r",
      "STEP   247 / 1160 (thread    0) f\b\b\r",
      "STEP   248 / 1160 (thread    1)\r",
      "STEP   249 / 1160 (thread    4) f\b\b f\b\b\r",
      "STEP   250 / 1160 (thread    5) f\b\b\r",
      "STEP   251 / 1160 (thread    3) f\b\b\r",
      "STEP   252 / 1160 (thread    0) f\b\b\r",
      "STEP   253 / 1160 (thread    4) f\b\b\r",
      "STEP   254 / 1160 (thread    1) f\b\b\r",
      "STEP   255 / 1160 (thread    5) f\b\b\r",
      "STEP   256 / 1160 (thread    2) f\b\b\r",
      "STEP   257 / 1160 (thread    3) f\b\b\r",
      "STEP   258 / 1160 (thread    0) f\b\b\r",
      "STEP   259 / 1160 (thread    5) f\b\b\r",
      "STEP   260 / 1160 (thread    1) f\b\b\r",
      "STEP   261 / 1160 (thread    2) f\b\b\r",
      "STEP   262 / 1160 (thread    3) f\b\b\r",
      "STEP   263 / 1160 (thread    4) f\b\b\r",
      "STEP   264 / 1160 (thread    1) f\b\b\r",
      "STEP   265 / 1160 (thread    3) f\b\b\r",
      "STEP   266 / 1160 (thread    2) f\b\b\r",
      "STEP   267 / 1160 (thread    0) f\b\b\r",
      "STEP   268 / 1160 (thread    4) f\b\b\r",
      "STEP   269 / 1160 (thread    0) f\b\b\r",
      "STEP   270 / 1160 (thread    5) f\b\b\r",
      "STEP   271 / 1160 (thread    1) f\b\b\r",
      "STEP   272 / 1160 (thread    2) f\b\b\r",
      "STEP   273 / 1160 (thread    4) f\b\b\r",
      "STEP   274 / 1160 (thread    3) f\b\b\r",
      "STEP   275 / 1160 (thread    0) f\b\b\r",
      "STEP   276 / 1160 (thread    3) f\b\b\r",
      "STEP   277 / 1160 (thread    5) f\b\b\r",
      "STEP   278 / 1160 (thread    1) f\b\b\r",
      "STEP   279 / 1160 (thread    4) f\b\b\r",
      "STEP   280 / 1160 (thread    0) f\b\b\r",
      "STEP   281 / 1160 (thread    2) f\b\b\r",
      "STEP   282 / 1160 (thread    3) f\b\b\r",
      "STEP   283 / 1160 (thread    0) f\b\b\r",
      "STEP   284 / 1160 (thread    5) f\b\b\r",
      "STEP   285 / 1160 (thread    4) f\b\b\r",
      "STEP   286 / 1160 (thread    1) f\b\b\r",
      "STEP   288 / 1160 (thread    2) f\b\b\r",
      "STEP   289 / 1160 (thread    0) f\b\b\r",
      "STEP   290 / 1160 (thread    2) f\b\b\r",
      "STEP   291 / 1160 (thread    0) f\b\b\r",
      "STEP   292 / 1160 (thread    4) f\b\b\r",
      "STEP   293 / 1160 (thread    5) f\b\b\r",
      "STEP   287 / 1160 (thread    3) f\b\b\r",
      "STEP   294 / 1160 (thread    1) f\b\b\r",
      "STEP   295 / 1160 (thread    0) f\b\b\r",
      "STEP   296 / 1160 (thread    2) f\b\b\r",
      "STEP   297 / 1160 (thread    4) f\b\b\r",
      "STEP   298 / 1160 (thread    5) f\b\b\r",
      "STEP   299 / 1160 (thread    1) f\b\b\r",
      "STEP   300 / 1160 (thread    3) f\b\b\r",
      "STEP   301 / 1160 (thread    4) f\b\b\r",
      "STEP   302 / 1160 (thread    0) f\b\b\r",
      "STEP   304 / 1160 (thread    1) f\b\b\r",
      "STEP   303 / 1160 (thread    5) f\b\b\r",
      "STEP   305 / 1160 (thread    0) f\b\b\r",
      "STEP   306 / 1160 (thread    2) f\b\b\r",
      "STEP   307 / 1160 (thread    3) f\b\b\r",
      "STEP   308 / 1160 (thread    0) f\b\b\r",
      "STEP   309 / 1160 (thread    3) f\b\b\r",
      "STEP   310 / 1160 (thread    2) f\b\b\r",
      "STEP   311 / 1160 (thread    4) f\b\b\r",
      "STEP   312 / 1160 (thread    0) f\b\b\r",
      "STEP   313 / 1160 (thread    1) f\b\b\r",
      "STEP   314 / 1160 (thread    5) f\b\b\r",
      "STEP   315 / 1160 (thread    3) f\b\b\r",
      "STEP   316 / 1160 (thread    0) f\b\b\r",
      "STEP   317 / 1160 (thread    2) f\b\b\r",
      "STEP   318 / 1160 (thread    4) f\b\b\r",
      "STEP   319 / 1160 (thread    3) f\b\b\r",
      "STEP   320 / 1160 (thread    0) f\b\b\r",
      "STEP   321 / 1160 (thread    2) f\b\b\r",
      "STEP   322 / 1160 (thread    1) f\b\b\r",
      "STEP   323 / 1160 (thread    4) f\b\b\r",
      "STEP   324 / 1160 (thread    5) f\b\b\r",
      "STEP   325 / 1160 (thread    3) f\b\b\r",
      "STEP   326 / 1160 (thread    0) f\b\b\r",
      "STEP   327 / 1160 (thread    2) f\b\b\r",
      "STEP   328 / 1160 (thread    4) f\b\b\r",
      "STEP   329 / 1160 (thread    1) f\b\b\r",
      "STEP   330 / 1160 (thread    5) f\b\b\r",
      "STEP   331 / 1160 (thread    0) f\b\b\r",
      "STEP   332 / 1160 (thread    0) f\b\b\r",
      "STEP   333 / 1160 (thread    1) f\b\b\r",
      "STEP   334 / 1160 (thread    5) f\b\b\r",
      "STEP   335 / 1160 (thread    3) f\b\b\r",
      "STEP   336 / 1160 (thread    0) f\b\b\r",
      "STEP   337 / 1160 (thread    2) f\b\b\r",
      "STEP   338 / 1160 (thread    4) f\b\b\r",
      "STEP   339 / 1160 (thread    3) f\b\b\r",
      "STEP   340 / 1160 (thread    0) f\b\b\r",
      "STEP   341 / 1160 (thread    5) f\b\b\r",
      "STEP   342 / 1160 (thread    1) f\b\b\r",
      "STEP   343 / 1160 (thread    2) f\b\b\r",
      "STEP   344 / 1160 (thread    4) f\b\b\r",
      "STEP   345 / 1160 (thread    3) f\b\b\r",
      "STEP   346 / 1160 (thread    0) f\b\b\r",
      "STEP   347 / 1160 (thread    3) f\b\b\r",
      "STEP   348 / 1160 (thread    5) f\b\b\r",
      "STEP   349 / 1160 (thread    1) f\b\b\r",
      "STEP   350 / 1160 (thread    2) f\b\b\r",
      "STEP   351 / 1160 (thread    0) f\b\b\r",
      "STEP   352 / 1160 (thread    4) f\b\b\r",
      "STEP   353 / 1160 (thread    3) f\b\b\r",
      "STEP   354 / 1160 (thread    0) f\b\b\r",
      "STEP   355 / 1160 (thread    3) f\b\b\r",
      "STEP   356 / 1160 (thread    5) f\b\b\r",
      "STEP   357 / 1160 (thread    2) f\b\b\r",
      "STEP   358 / 1160 (thread    1) f\b\b\r",
      "STEP   359 / 1160 (thread    0) f\b\b\r",
      "STEP   360 / 1160 (thread    4) f\b\b\r",
      "STEP   361 / 1160 (thread    3) f\b\b\r",
      "STEP   362 / 1160 (thread    2) f\b\b\r",
      "STEP   363 / 1160 (thread    1) f\b\b\r",
      "STEP   364 / 1160 (thread    0) f\b\b\r",
      "STEP   365 / 1160 (thread    5) f\b\b\r",
      "STEP   366 / 1160 (thread    3) f\b\b"
     ]
    },
    {
     "name": "stderr",
     "output_type": "stream",
     "text": [
      "\r",
      "STEP   367 / 1160 (thread    1) f\b\b\r",
      "STEP   368 / 1160 (thread    2) f\b\b\r",
      "STEP   369 / 1160 (thread    3) f\b\b\r",
      "STEP   370 / 1160 (thread    0) f\b\b\r",
      "STEP   371 / 1160 (thread    4) f\b\b\r",
      "STEP   372 / 1160 (thread    1) f\b\b\r",
      "STEP   374 / 1160 (thread    3) f\b\b\r",
      "STEP   375 / 1160 (thread    5) f\b\b\r",
      "STEP   373 / 1160 (thread    2) f\b\b\r",
      "STEP   376 / 1160 (thread    1) f\b\b\r",
      "STEP   377 / 1160 (thread    4) f\b\b\r",
      "STEP   378 / 1160 (thread    0) f\b\b\r",
      "STEP   379 / 1160 (thread    3) f\b\b\r",
      "STEP   380 / 1160 (thread    2) f\b\b\r",
      "STEP   381 / 1160 (thread    1) f\b\b\r",
      "STEP   382 / 1160 (thread    5) f\b\b\r",
      "STEP   383 / 1160 (thread    4) f\b\b\r",
      "STEP   384 / 1160 (thread    3) f\b\b\r",
      "STEP   385 / 1160 (thread    1) f\b\b\r",
      "STEP   386 / 1160 (thread    5) f\b\b\r",
      "STEP   387 / 1160 (thread    0) f\b\b\r",
      "STEP   388 / 1160 (thread    2) f\b\b\r",
      "STEP   389 / 1160 (thread    4) f\b\b\r",
      "STEP   390 / 1160 (thread    1) f\b\b\r",
      "STEP   391 / 1160 (thread    3) f\b\b\r",
      "STEP   392 / 1160 (thread    5) f\b\b\r",
      "STEP   393 / 1160 (thread    0) f\b\b\r",
      "STEP   394 / 1160 (thread    4) f\b\b\r",
      "STEP   395 / 1160 (thread    1) f\b\b\r",
      "STEP   396 / 1160 (thread    3) f\b\b\r",
      "STEP   397 / 1160 (thread    2) f\b\b\r",
      "STEP   398 / 1160 (thread    1) f\b\b\r",
      "STEP   399 / 1160 (thread    3) f\b\b\r",
      "STEP   400 / 1160 (thread    1) f\b\b\r",
      "STEP   402 / 1160 (thread    4) f\b\b\r",
      "STEP   403 / 1160 (thread    5) f\b\b\r",
      "STEP   401 / 1160 (thread    2) f\b\b\r",
      "STEP   404 / 1160 (thread    3) f\b\b\r",
      "STEP   405 / 1160 (thread    4) f\b\b\r",
      "STEP   406 / 1160 (thread    0) f\b\b\r",
      "STEP   407 / 1160 (thread    1) f\b\b\r",
      "STEP   408 / 1160 (thread    3) f\b\b\r",
      "STEP   409 / 1160 (thread    5) f\b\b\r",
      "STEP   410 / 1160 (thread    4) f\b\b\r",
      "STEP   411 / 1160 (thread    1) f\b\b\r",
      "STEP   412 / 1160 (thread    0) f\b\b\r",
      "STEP   414 / 1160 (thread    2) f\b\b\r",
      "STEP   413 / 1160 (thread    3) f\b\b\r",
      "STEP   415 / 1160 (thread    1) f\b\b\r",
      "STEP   416 / 1160 (thread    4) f\b\b\r",
      "STEP   417 / 1160 (thread    3) f\b\b\r",
      "STEP   418 / 1160 (thread    5) f\b\b\r",
      "STEP   419 / 1160 (thread    0) f\b\b\r",
      "STEP   420 / 1160 (thread    1) f\b\b\r",
      "STEP   421 / 1160 (thread    2) f\b\b\r",
      "STEP   422 / 1160 (thread    3) f\b\b\r",
      "STEP   423 / 1160 (thread    0) f\b\b\r",
      "STEP   424 / 1160 (thread    1) f\b\b\r",
      "STEP   425 / 1160 (thread    4) f\b\b\r",
      "STEP   426 / 1160 (thread    3) f\b\b\r",
      "STEP   427 / 1160 (thread    1) f\b\b\r",
      "STEP   428 / 1160 (thread    5) f\b\b\r",
      "STEP   429 / 1160 (thread    2) f\b\b\r",
      "STEP   430 / 1160 (thread    4) f\b\b\r",
      "STEP   431 / 1160 (thread    3) f\b\b\r",
      "STEP   432 / 1160 (thread    1) f\b\b\r",
      "STEP   433 / 1160 (thread    0) f\b\b\r",
      "STEP   434 / 1160 (thread    3) f\b\b\r",
      "STEP   435 / 1160 (thread    1) f\b\b\r",
      "STEP   436 / 1160 (thread    2) f\b\b\r",
      "STEP   438 / 1160 (thread    4) f\b\b\r",
      "STEP   439 / 1160 (thread    0) f\b\b\r",
      "STEP   437 / 1160 (thread    5) f\b\b\r",
      "STEP   440 / 1160 (thread    3) f\b\b\r",
      "STEP   441 / 1160 (thread    1) f\b\b\r",
      "STEP   442 / 1160 (thread    2) f\b\b\r",
      "STEP   443 / 1160 (thread    4) f\b\b\r",
      "STEP   444 / 1160 (thread    3) f\b\b\r",
      "STEP   445 / 1160 (thread    1) f\b\b\r",
      "STEP   446 / 1160 (thread    5) f\b\b\r",
      "STEP   447 / 1160 (thread    0) f\b\b\r",
      "STEP   448 / 1160 (thread    2) f\b\b\r",
      "STEP   449 / 1160 (thread    1) f\b\b\r",
      "STEP   450 / 1160 (thread    3) f\b\b\r",
      "STEP   451 / 1160 (thread    4) f\b\b\r",
      "STEP   452 / 1160 (thread    2) f\b\b\r",
      "STEP   453 / 1160 (thread    5) f\b\b\r",
      "STEP   454 / 1160 (thread    3) f\b\b\r",
      "STEP   455 / 1160 (thread    1) f\b\b\r",
      "STEP   456 / 1160 (thread    4) f\b\b\r",
      "STEP   457 / 1160 (thread    0) f\b\b\r",
      "STEP   458 / 1160 (thread    3) f\b\b\r",
      "STEP   459 / 1160 (thread    1) f\b\b\r",
      "STEP   460 / 1160 (thread    2) f\b\b\r",
      "STEP   461 / 1160 (thread    5) f\b\b\r",
      "STEP   462 / 1160 (thread    3) f\b\b\r",
      "STEP   463 / 1160 (thread    1) f\b\b\r",
      "STEP   464 / 1160 (thread    4) f\b\b\r",
      "STEP   465 / 1160 (thread    1) f\b\b\r",
      "STEP   466 / 1160 (thread    0) f\b\b\r",
      "STEP   467 / 1160 (thread    3) f\b\b\r",
      "STEP   468 / 1160 (thread    2) f\b\b\r",
      "STEP   469 / 1160 (thread    1) f\b\b\r",
      "STEP   470 / 1160 (thread    5) f\b\b\r",
      "STEP   471 / 1160 (thread    2) f\b\b\r",
      "STEP   472 / 1160 (thread    4) f\b\b\r",
      "STEP   473 / 1160 (thread    0) f\b\b\r",
      "STEP   474 / 1160 (thread    1) f\b\b\r",
      "STEP   475 / 1160 (thread    3) f\b\b\r",
      "STEP   476 / 1160 (thread    1) f\b\b\r",
      "STEP   477 / 1160 (thread    2) f\b\b\r",
      "STEP   478 / 1160 (thread    4) f\b\b\r",
      "STEP   479 / 1160 (thread    3) f\b\b\r",
      "STEP   480 / 1160 (thread    2) f\b\b\r",
      "STEP   481 / 1160 (thread    1) f\b\b\r",
      "STEP   482 / 1160 (thread    0) f\b\b\r",
      "STEP   483 / 1160 (thread    5) f\b\b\r",
      "STEP   484 / 1160 (thread    4) f\b\b\r",
      "STEP   485 / 1160 (thread    3) f\b\b\r",
      "STEP   486 / 1160 (thread    1) f\b\b\r",
      "STEP   487 / 1160 (thread    2) f\b\b\r",
      "STEP   488 / 1160 (thread    0) f\b\b\r",
      "STEP   489 / 1160 (thread    3) f\b\b\r",
      "STEP   490 / 1160 (thread    1) f\b\b\r",
      "STEP   491 / 1160 (thread    5) f\b\b\r",
      "STEP   492 / 1160 (thread    4) f\b\b\r",
      "STEP   493 / 1160 (thread    2) f\b\b\r",
      "STEP   494 / 1160 (thread    3) f\b\b\r",
      "STEP   495 / 1160 (thread    0) f\b\b\r",
      "STEP   496 / 1160 (thread    5) f\b\b\r",
      "STEP   497 / 1160 (thread    2) f\b\b\r",
      "STEP   498 / 1160 (thread    1) f\b\b\r",
      "STEP   499 / 1160 (thread    0) f\b\b\r",
      "STEP   500 / 1160 (thread    1) f\b\b\r",
      "STEP   501 / 1160 (thread    5) f\b\b\r",
      "STEP   601 / 1160 (thread    1) f\b\b\r",
      "STEP   701 / 1160 (thread    2) f\b\b\r",
      "STEP   801 / 1160 (thread    1) f\b\b\n",
      "Reallocating..done. *alloclen = 1869\n",
      "\r",
      "STEP   901 / 1160 (thread    3) f\b\b"
     ]
    },
    {
     "name": "stderr",
     "output_type": "stream",
     "text": [
      "\r",
      "STEP  1001 / 1160 (thread    0) f\b\b\r",
      "STEP  1101 / 1160 (thread    2) f\b\b"
     ]
    },
    {
     "name": "stderr",
     "output_type": "stream",
     "text": [
      "\n",
      "done.\n",
      "\n",
      "disttbfast (nuc) Version 7.490\n",
      "alg=A, model=DNA200 (2), 1.53 (4.59), -0.00 (-0.00), noshift, amax=0.0\n",
      "6 thread(s)\n",
      "\n",
      "\n",
      "Strategy:\n",
      " FFT-NS-2 (Fast but rough)\n",
      " Progressive method (guide trees were built 2 times.)\n",
      "\n",
      "If unsure which option to use, try 'mafft --auto input > output'.\n",
      "For more information, see 'mafft --help', 'mafft --man' and the mafft page.\n",
      "\n",
      "The default gap scoring scheme has been changed in version 7.110 (2013 Oct).\n",
      "It tends to insert more gaps into gap-rich regions than previous versions.\n",
      "To disable this change, add the --leavegappyregion option.\n",
      "\n"
     ]
    },
    {
     "name": "stdout",
     "output_type": "stream",
     "text": [
      "{'max_gap_frequency': 1.0, 'min_conservation': 0.4, 'alignment': TabularMSA[DNA]\n",
      "-----------------------------------------------------------------------\n",
      "Stats:\n",
      "    sequence count: 1161\n",
      "    position count: 535\n",
      "-----------------------------------------------------------------------\n",
      "TGAGGAATATTGGTCAATGGAGGCAACTCTGAA ... GGTATCGAACAGG--------------------\n",
      "TGAGGAATATTGGTCAATGGCCGGAAGGCTGAA ... GGGATCAAACAGG--------------------\n",
      "...\n",
      "TGGGGAATATTGGACAATGGGCGCAAGCCTGAT ... GGGAGCAAACAGG--------------------\n",
      "TTAGGAATATTCGTCAATGGGGGGAACCCTGAA ... GGGAGCAAATAGG--------------------}\n",
      "{'max_gap_frequency': 1.0, 'min_conservation': 0.4, 'alignment': TabularMSA[DNA]\n",
      "-----------------------------------------------------------------------\n",
      "Stats:\n",
      "    sequence count: 1161\n",
      "    position count: 535\n",
      "-----------------------------------------------------------------------\n",
      "TGAGGAATATTGGTCAATGGAGGCAACTCTGAA ... GGTATCGAACAGG--------------------\n",
      "TGAGGAATATTGGTCAATGGCCGGAAGGCTGAA ... GGGATCAAACAGG--------------------\n",
      "...\n",
      "TGGGGAATATTGGACAATGGGCGCAAGCCTGAT ... GGGAGCAAACAGG--------------------\n",
      "TTAGGAATATTCGTCAATGGGGGGAACCCTGAA ... GGGAGCAAATAGG--------------------}\n"
     ]
    },
    {
     "name": "stdout",
     "output_type": "stream",
     "text": [
      "{'n_threads': 6, 'alignment': <q2_types.feature_data._format.AlignedDNAFASTAFormat object at 0x7fc927730be0>}\n",
      "{'n_threads': 6, 'alignment': <q2_types.feature_data._format.AlignedDNAFASTAFormat object at 0x7fc927730be0>}\n",
      "Running external command line application. This may print messages to stdout and/or stderr.\n",
      "The command being run is below. This command cannot be manually re-run as it will depend on temporary files that no longer exist.\n",
      "\n",
      "Command: FastTreeMP -quote -nt /tmp/qiime2-archive-r7ft70zy/5dd0a344-e4df-4533-87a6-e48305eac5bf/data/aligned-dna-sequences.fasta\n",
      "\n"
     ]
    },
    {
     "name": "stderr",
     "output_type": "stream",
     "text": [
      "FastTree Version 2.1.10 Double precision (No SSE3), OpenMP (6 threads)\n",
      "Alignment: /tmp/qiime2-archive-r7ft70zy/5dd0a344-e4df-4533-87a6-e48305eac5bf/data/aligned-dna-sequences.fasta\n",
      "Nucleotide distances: Jukes-Cantor Joins: balanced Support: SH-like 1000\n",
      "Search: Normal +NNI +SPR (2 rounds range 10) +ML-NNI opt-each=1\n",
      "TopHits: 1.00*sqrtN close=default refresh=0.80\n",
      "ML Model: Jukes-Cantor, CAT approximation with 20 rate categories\n",
      "      0.12 seconds: Joined    100 of   1124\n"
     ]
    },
    {
     "name": "stderr",
     "output_type": "stream",
     "text": [
      "      0.30 seconds: Joined    300 of   1124\n",
      "      0.43 seconds: Joined    500 of   1124\n"
     ]
    },
    {
     "name": "stderr",
     "output_type": "stream",
     "text": [
      "      0.59 seconds: Joined    700 of   1124\n",
      "      0.75 seconds: Joined    900 of   1124\n"
     ]
    },
    {
     "name": "stderr",
     "output_type": "stream",
     "text": [
      "      0.89 seconds: Joined   1100 of   1124\n",
      "Initial topology in 0.90 seconds\n",
      "Refining topology: 41 rounds ME-NNIs, 2 rounds ME-SPRs, 20 rounds ML-NNIs\n",
      "      1.00 seconds: ME NNI round 3 of 41, 301 of 1125 splits, 16 changes (max delta 0.010)\n"
     ]
    },
    {
     "name": "stderr",
     "output_type": "stream",
     "text": [
      "      1.13 seconds: SPR round   1 of   2, 101 of 2252 nodes\n",
      "      1.25 seconds: SPR round   1 of   2, 301 of 2252 nodes\n"
     ]
    },
    {
     "name": "stderr",
     "output_type": "stream",
     "text": [
      "      1.39 seconds: SPR round   1 of   2, 501 of 2252 nodes\n",
      "      1.53 seconds: SPR round   1 of   2, 701 of 2252 nodes\n"
     ]
    },
    {
     "name": "stderr",
     "output_type": "stream",
     "text": [
      "      1.64 seconds: SPR round   1 of   2, 901 of 2252 nodes\n",
      "      1.78 seconds: SPR round   1 of   2, 1101 of 2252 nodes\n"
     ]
    },
    {
     "name": "stderr",
     "output_type": "stream",
     "text": [
      "      1.92 seconds: SPR round   1 of   2, 1301 of 2252 nodes\n",
      "      2.07 seconds: SPR round   1 of   2, 1501 of 2252 nodes\n"
     ]
    },
    {
     "name": "stderr",
     "output_type": "stream",
     "text": [
      "      2.21 seconds: SPR round   1 of   2, 1701 of 2252 nodes\n",
      "      2.37 seconds: SPR round   1 of   2, 1901 of 2252 nodes\n"
     ]
    },
    {
     "name": "stderr",
     "output_type": "stream",
     "text": [
      "      2.49 seconds: SPR round   1 of   2, 2101 of 2252 nodes\n",
      "      2.60 seconds: ME NNI round 14 of 41, 401 of 1125 splits, 2 changes (max delta 0.003)\n"
     ]
    },
    {
     "name": "stderr",
     "output_type": "stream",
     "text": [
      "      2.71 seconds: SPR round   2 of   2, 101 of 2252 nodes\n",
      "      2.82 seconds: SPR round   2 of   2, 301 of 2252 nodes\n"
     ]
    },
    {
     "name": "stderr",
     "output_type": "stream",
     "text": [
      "      2.93 seconds: SPR round   2 of   2, 501 of 2252 nodes\n",
      "      3.05 seconds: SPR round   2 of   2, 701 of 2252 nodes\n"
     ]
    },
    {
     "name": "stderr",
     "output_type": "stream",
     "text": [
      "      3.17 seconds: SPR round   2 of   2, 901 of 2252 nodes\n",
      "      3.29 seconds: SPR round   2 of   2, 1101 of 2252 nodes\n"
     ]
    },
    {
     "name": "stderr",
     "output_type": "stream",
     "text": [
      "      3.42 seconds: SPR round   2 of   2, 1301 of 2252 nodes\n",
      "      3.54 seconds: SPR round   2 of   2, 1501 of 2252 nodes\n"
     ]
    },
    {
     "name": "stderr",
     "output_type": "stream",
     "text": [
      "      3.65 seconds: SPR round   2 of   2, 1701 of 2252 nodes\n",
      "      3.76 seconds: SPR round   2 of   2, 1901 of 2252 nodes\n"
     ]
    },
    {
     "name": "stderr",
     "output_type": "stream",
     "text": [
      "      3.87 seconds: SPR round   2 of   2, 2101 of 2252 nodes\n",
      "      3.97 seconds: ME NNI round 27 of 41, 401 of 1125 splits, 0 changes\n"
     ]
    },
    {
     "name": "stderr",
     "output_type": "stream",
     "text": [
      "Total branch-length 25.245 after 4.07 sec\n",
      "      4.08 seconds: ML Lengths 1 of 1125 splits\n",
      "      4.19 seconds: ML Lengths 401 of 1125 splits\n"
     ]
    },
    {
     "name": "stderr",
     "output_type": "stream",
     "text": [
      "      4.31 seconds: ML Lengths 801 of 1125 splits\n",
      "      4.49 seconds: ML NNI round 1 of 20, 101 of 1125 splits, 13 changes (max delta 5.741)\n"
     ]
    },
    {
     "name": "stderr",
     "output_type": "stream",
     "text": [
      "      4.67 seconds: ML NNI round 1 of 20, 301 of 1125 splits, 41 changes (max delta 6.804)\n",
      "      4.87 seconds: ML NNI round 1 of 20, 501 of 1125 splits, 73 changes (max delta 9.171)\n"
     ]
    },
    {
     "name": "stderr",
     "output_type": "stream",
     "text": [
      "      5.07 seconds: ML NNI round 1 of 20, 701 of 1125 splits, 106 changes (max delta 9.378)\n",
      "      5.24 seconds: ML NNI round 1 of 20, 901 of 1125 splits, 137 changes (max delta 9.378)\n"
     ]
    },
    {
     "name": "stderr",
     "output_type": "stream",
     "text": [
      "      5.40 seconds: ML NNI round 1 of 20, 1101 of 1125 splits, 173 changes (max delta 9.378)\n",
      "ML-NNI round 1: LogLk = -66050.532 NNIs 182 max delta 9.38 Time 5.44\n",
      "      5.51 seconds: Site likelihoods with rate category 5 of 20\n"
     ]
    },
    {
     "name": "stderr",
     "output_type": "stream",
     "text": [
      "      5.62 seconds: Site likelihoods with rate category 12 of 20\n",
      "      5.73 seconds: Site likelihoods with rate category 19 of 20\n",
      "Switched to using 20 rate categories (CAT approximation)\n",
      "Rate categories were divided by 1.169 so that average rate = 1.0\n",
      "CAT-based log-likelihoods may not be comparable across runs\n",
      "Use -gamma for approximate but comparable Gamma(20) log-likelihoods\n"
     ]
    },
    {
     "name": "stderr",
     "output_type": "stream",
     "text": [
      "      5.86 seconds: ML NNI round 2 of 20, 101 of 1125 splits, 4 changes (max delta 0.167)\n",
      "      6.04 seconds: ML NNI round 2 of 20, 301 of 1125 splits, 19 changes (max delta 4.391)\n"
     ]
    },
    {
     "name": "stderr",
     "output_type": "stream",
     "text": [
      "      6.23 seconds: ML NNI round 2 of 20, 501 of 1125 splits, 31 changes (max delta 4.391)\n",
      "      6.42 seconds: ML NNI round 2 of 20, 701 of 1125 splits, 50 changes (max delta 4.391)\n"
     ]
    },
    {
     "name": "stderr",
     "output_type": "stream",
     "text": [
      "      6.61 seconds: ML NNI round 2 of 20, 901 of 1125 splits, 68 changes (max delta 7.817)\n",
      "      6.79 seconds: ML NNI round 2 of 20, 1101 of 1125 splits, 94 changes (max delta 7.817)\n"
     ]
    },
    {
     "name": "stderr",
     "output_type": "stream",
     "text": [
      "ML-NNI round 2: LogLk = -54889.075 NNIs 97 max delta 7.82 Time 6.82\n",
      "      6.90 seconds: ML NNI round 3 of 20, 101 of 1125 splits, 11 changes (max delta 2.899)\n"
     ]
    },
    {
     "name": "stderr",
     "output_type": "stream",
     "text": [
      "      7.09 seconds: ML NNI round 3 of 20, 301 of 1125 splits, 16 changes (max delta 3.862)\n",
      "      7.27 seconds: ML NNI round 3 of 20, 501 of 1125 splits, 27 changes (max delta 9.359)\n"
     ]
    },
    {
     "name": "stderr",
     "output_type": "stream",
     "text": [
      "      7.45 seconds: ML NNI round 3 of 20, 701 of 1125 splits, 36 changes (max delta 9.359)\n",
      "ML-NNI round 3: LogLk = -54840.723 NNIs 38 max delta 9.36 Time 7.51\n",
      "      7.59 seconds: ML NNI round 4 of 20, 101 of 1125 splits, 4 changes (max delta 0.000)\n"
     ]
    },
    {
     "name": "stderr",
     "output_type": "stream",
     "text": [
      "      7.79 seconds: ML NNI round 4 of 20, 301 of 1125 splits, 10 changes (max delta 2.620)\n",
      "ML-NNI round 4: LogLk = -54824.038 NNIs 15 max delta 3.75 Time 7.93\n",
      "      7.92 seconds: ML NNI round 5 of 20, 1 of 1125 splits\n"
     ]
    },
    {
     "name": "stderr",
     "output_type": "stream",
     "text": [
      "      8.03 seconds: ML NNI round 5 of 20, 101 of 1125 splits, 1 changes (max delta 0.100)\n",
      "ML-NNI round 5: LogLk = -54822.630 NNIs 3 max delta 0.10 Time 8.09\n",
      "ML-NNI round 6: LogLk = -54822.388 NNIs 2 max delta 0.03 Time 8.19\n",
      "Turning off heuristics for final round of ML NNIs (converged)\n",
      "      8.18 seconds: ML NNI round 7 of 20, 1 of 1125 splits\n"
     ]
    },
    {
     "name": "stderr",
     "output_type": "stream",
     "text": [
      "      8.36 seconds: ML NNI round 7 of 20, 201 of 1125 splits, 0 changes\n",
      "      8.54 seconds: ML NNI round 7 of 20, 401 of 1125 splits, 2 changes (max delta 0.062)\n"
     ]
    },
    {
     "name": "stderr",
     "output_type": "stream",
     "text": [
      "      8.72 seconds: ML NNI round 7 of 20, 601 of 1125 splits, 2 changes (max delta 0.062)\n",
      "      8.90 seconds: ML NNI round 7 of 20, 801 of 1125 splits, 2 changes (max delta 0.062)\n"
     ]
    },
    {
     "name": "stderr",
     "output_type": "stream",
     "text": [
      "      9.07 seconds: ML NNI round 7 of 20, 1001 of 1125 splits, 3 changes (max delta 0.062)\n",
      "ML-NNI round 7: LogLk = -54818.429 NNIs 6 max delta 0.73 Time 9.20 (final)\n",
      "      9.19 seconds: ML Lengths 1 of 1125 splits\n"
     ]
    },
    {
     "name": "stderr",
     "output_type": "stream",
     "text": [
      "      9.31 seconds: ML Lengths 501 of 1125 splits\n",
      "      9.43 seconds: ML Lengths 1001 of 1125 splits\n",
      "Optimize all lengths: LogLk = -54817.647 Time 9.47\n"
     ]
    },
    {
     "name": "stderr",
     "output_type": "stream",
     "text": [
      "      9.61 seconds: ML split tests for    100 of   1124 internal splits\n",
      "      9.75 seconds: ML split tests for    200 of   1124 internal splits\n"
     ]
    },
    {
     "name": "stderr",
     "output_type": "stream",
     "text": [
      "      9.90 seconds: ML split tests for    300 of   1124 internal splits\n",
      "     10.04 seconds: ML split tests for    400 of   1124 internal splits\n"
     ]
    },
    {
     "name": "stderr",
     "output_type": "stream",
     "text": [
      "     10.18 seconds: ML split tests for    500 of   1124 internal splits\n",
      "     10.32 seconds: ML split tests for    600 of   1124 internal splits\n"
     ]
    },
    {
     "name": "stderr",
     "output_type": "stream",
     "text": [
      "     10.47 seconds: ML split tests for    700 of   1124 internal splits\n",
      "     10.62 seconds: ML split tests for    800 of   1124 internal splits\n"
     ]
    },
    {
     "name": "stderr",
     "output_type": "stream",
     "text": [
      "     10.76 seconds: ML split tests for    900 of   1124 internal splits\n",
      "     10.90 seconds: ML split tests for   1000 of   1124 internal splits\n"
     ]
    },
    {
     "name": "stderr",
     "output_type": "stream",
     "text": [
      "     11.04 seconds: ML split tests for   1100 of   1124 internal splits\n",
      "Total time: 11.08 seconds Unique: 1127/1161 Bad splits: 2/1124 Worst delta-LogLk 3.035\n"
     ]
    },
    {
     "name": "stdout",
     "output_type": "stream",
     "text": [
      "{'tree': <TreeNode, name: unnamed, internal node count: 1157, tips count: 1161>}\n",
      "{'tree': <TreeNode, name: unnamed, internal node count: 1157, tips count: 1161>}\n"
     ]
    }
   ],
   "source": [
    "mafft_alignment, mafft_masked_alignment, mafft_tree, mafft_rooted_tree = align_to_tree_mafft_fasttree(\n",
    "    sequences=reps, n_threads=6, )"
   ]
  },
  {
   "cell_type": "markdown",
   "id": "0768d598",
   "metadata": {
    "papermill": {
     "duration": 0.029636,
     "end_time": "2023-09-14T15:20:52.348678",
     "exception": false,
     "start_time": "2023-09-14T15:20:52.319042",
     "status": "completed"
    },
    "tags": []
   },
   "source": [
    "### Compute Alpha Diversity (Phylogeny)\n",
    "- [diversity alpha_phylogenetic](https://docs.qiime2.org/2022.8/plugins/available/diversity/alpha-phylogenetic/): Computes a user-specified phylogenetic alpha diversity metric for all samples in a feature table.\n",
    "- Metrics: Choices ('faith_pd')"
   ]
  },
  {
   "cell_type": "code",
   "execution_count": 11,
   "id": "0383aa19",
   "metadata": {
    "ExecuteTime": {
     "end_time": "2022-09-29T20:54:35.310009Z",
     "start_time": "2022-09-29T20:54:35.141333Z"
    },
    "execution": {
     "iopub.execute_input": "2023-09-14T15:20:52.412540Z",
     "iopub.status.busy": "2023-09-14T15:20:52.412103Z",
     "iopub.status.idle": "2023-09-14T15:20:52.539950Z",
     "shell.execute_reply": "2023-09-14T15:20:52.539315Z"
    },
    "papermill": {
     "duration": 0.161468,
     "end_time": "2023-09-14T15:20:52.542286",
     "exception": false,
     "start_time": "2023-09-14T15:20:52.380818",
     "status": "completed"
    },
    "tags": []
   },
   "outputs": [
    {
     "name": "stdout",
     "output_type": "stream",
     "text": [
      "Calculating alpha diversity: faith_pd\n",
      "{'metric': 'faith_pd', 'table': <artifact: FeatureTable[Frequency] uuid: 5b28154b-5453-4cd6-b077-9d439bf34180>, 'phylogeny': <artifact: Phylogeny[Rooted] uuid: e2012dfd-17b0-47fe-9f8b-5b6bbe133bc5>}\n",
      "{'table': <q2_types.feature_table._format.BIOMV210Format object at 0x7fc927ccc0a0>, 'phylogeny': <q2_types.tree._format.NewickFormat object at 0x7fc927246ac0>}\n",
      "{'table': <q2_types.feature_table._format.BIOMV210Format object at 0x7fc927ccc0a0>, 'phylogeny': <q2_types.tree._format.NewickFormat object at 0x7fc927246ac0>}\n",
      "DONE: Calculating alpha phylogeny: faith_pd\n"
     ]
    }
   ],
   "source": [
    "metrics = ('faith_pd', )\n",
    "alpha_diversities_phylogenetic = dict()\n",
    "for metric in metrics:\n",
    "    print(f\"Calculating alpha diversity: {metric}\")\n",
    "    try:\n",
    "        alpha_diversity = alpha_phylogenetic(table=tabs, phylogeny=mafft_rooted_tree, metric=metric).alpha_diversity\n",
    "        alpha_diversities_phylogenetic[metric] = alpha_diversity\n",
    "        # Save Artifact\n",
    "        file_path = os.path.join(alpha_path, f'alpha-phylogeny-{metric}.qza')\n",
    "        alpha_diversity.save(file_path)\n",
    "        print(f\"DONE: Calculating alpha phylogeny: {metric}\")\n",
    "    except Exception as e:\n",
    "        print(f\"ERROR: Calculating alpha phylogeny: {metric}\")"
   ]
  },
  {
   "cell_type": "markdown",
   "id": "42db1ead",
   "metadata": {
    "papermill": {
     "duration": 0.030233,
     "end_time": "2023-09-14T15:20:52.608933",
     "exception": false,
     "start_time": "2023-09-14T15:20:52.578700",
     "status": "completed"
    },
    "tags": []
   },
   "source": [
    "- [core-metrics-phylogenetic](https://docs.qiime2.org/2023.7/plugins/available/diversity/core-metrics-phylogenetic/)"
   ]
  },
  {
   "cell_type": "code",
   "execution_count": 12,
   "id": "ef726ab7",
   "metadata": {
    "execution": {
     "iopub.execute_input": "2023-09-14T15:20:52.670318Z",
     "iopub.status.busy": "2023-09-14T15:20:52.670017Z",
     "iopub.status.idle": "2023-09-14T15:20:54.843545Z",
     "shell.execute_reply": "2023-09-14T15:20:54.842825Z"
    },
    "papermill": {
     "duration": 2.207641,
     "end_time": "2023-09-14T15:20:54.846784",
     "exception": false,
     "start_time": "2023-09-14T15:20:52.639143",
     "status": "completed"
    },
    "tags": []
   },
   "outputs": [
    {
     "name": "stdout",
     "output_type": "stream",
     "text": [
      "{'sampling_depth': 2854, 'metadata': Metadata\n",
      "--------\n",
      "14 IDs x 3 columns\n",
      "sample-name: ColumnProperties(type='categorical')\n",
      "group-id:    ColumnProperties(type='categorical')\n",
      "group-desc:  ColumnProperties(type='categorical')\n",
      "\n",
      "Call to_dataframe() for a tabular representation., 'n_jobs_or_threads': 6, 'table': <artifact: FeatureTable[Frequency] uuid: 5b28154b-5453-4cd6-b077-9d439bf34180>, 'phylogeny': <artifact: Phylogeny[Rooted] uuid: e2012dfd-17b0-47fe-9f8b-5b6bbe133bc5>}\n",
      "{'sampling_depth': 2854, 'metadata': Metadata\n",
      "--------\n",
      "14 IDs x 3 columns\n",
      "sample-name: ColumnProperties(type='categorical')\n",
      "group-id:    ColumnProperties(type='categorical')\n",
      "group-desc:  ColumnProperties(type='categorical')\n",
      "\n",
      "Call to_dataframe() for a tabular representation., 'with_replacement': False, 'n_jobs': 6, 'table': <artifact: FeatureTable[Frequency] uuid: 5b28154b-5453-4cd6-b077-9d439bf34180>}\n",
      "{'sampling_depth': 2854, 'with_replacement': False, 'table': 1161 x 14 <class 'biom.table.Table'> with 2361 nonzero entries (14% dense)}\n",
      "{'sampling_depth': 2854, 'with_replacement': False, 'table': 1161 x 14 <class 'biom.table.Table'> with 2361 nonzero entries (14% dense)}\n",
      "{'table': 920 x 14 <class 'biom.table.Table'> with 1885 nonzero entries (14% dense)}\n",
      "{'table': 920 x 14 <class 'biom.table.Table'> with 1885 nonzero entries (14% dense)}\n",
      "{'drop_undefined_samples': False, 'table': 920 x 14 <class 'biom.table.Table'> with 1885 nonzero entries (14% dense)}\n",
      "{'drop_undefined_samples': False, 'table': 920 x 14 <class 'biom.table.Table'> with 1885 nonzero entries (14% dense)}\n",
      "{'drop_undefined_samples': False, 'table': 920 x 14 <class 'biom.table.Table'> with 1885 nonzero entries (14% dense)}\n",
      "{'drop_undefined_samples': False, 'table': 920 x 14 <class 'biom.table.Table'> with 1885 nonzero entries (14% dense)}\n"
     ]
    },
    {
     "name": "stdout",
     "output_type": "stream",
     "text": [
      "{'n_jobs': 6, 'table': 920 x 14 <class 'biom.table.Table'> with 1885 nonzero entries (14% dense)}\n",
      "{'n_jobs': 6, 'table': 920 x 14 <class 'biom.table.Table'> with 1885 nonzero entries (14% dense)}\n",
      "{'n_jobs': 6, 'table': 920 x 14 <class 'biom.table.Table'> with 1885 nonzero entries (14% dense)}\n",
      "{'n_jobs': 6, 'table': 920 x 14 <class 'biom.table.Table'> with 1885 nonzero entries (14% dense)}\n",
      "{'number_of_dimensions': None, 'distance_matrix': <skbio.stats.distance._base.DistanceMatrix object at 0x7fc92720ed60>}\n",
      "{'number_of_dimensions': None, 'distance_matrix': <skbio.stats.distance._base.DistanceMatrix object at 0x7fc92720ed60>}\n",
      "{'number_of_dimensions': None, 'distance_matrix': <skbio.stats.distance._base.DistanceMatrix object at 0x7fc92720e190>}\n",
      "{'number_of_dimensions': None, 'distance_matrix': <skbio.stats.distance._base.DistanceMatrix object at 0x7fc92720e190>}\n"
     ]
    },
    {
     "name": "stderr",
     "output_type": "stream",
     "text": [
      "/home/lauro/anaconda3/envs/qiime2-2022.2/lib/python3.8/site-packages/sklearn/metrics/pairwise.py:1761: DataConversionWarning: Data was converted to boolean for metric jaccard\n",
      "  warnings.warn(msg, DataConversionWarning)\n"
     ]
    },
    {
     "name": "stdout",
     "output_type": "stream",
     "text": [
      "{'metadata': Metadata\n",
      "--------\n",
      "14 IDs x 3 columns\n",
      "sample-name: ColumnProperties(type='categorical')\n",
      "group-id:    ColumnProperties(type='categorical')\n",
      "group-desc:  ColumnProperties(type='categorical')\n",
      "\n",
      "Call to_dataframe() for a tabular representation., 'custom_axes': None, 'ignore_missing_samples': False, 'ignore_pcoa_features': False, 'pcoa': <skbio.stats.ordination._ordination_results.OrdinationResults object at 0x7fc9259bfac0>}\n"
     ]
    },
    {
     "name": "stdout",
     "output_type": "stream",
     "text": [
      "{'metadata': Metadata\n",
      "--------\n",
      "14 IDs x 3 columns\n",
      "sample-name: ColumnProperties(type='categorical')\n",
      "group-id:    ColumnProperties(type='categorical')\n",
      "group-desc:  ColumnProperties(type='categorical')\n",
      "\n",
      "Call to_dataframe() for a tabular representation., 'custom_axes': None, 'ignore_missing_samples': False, 'ignore_pcoa_features': False, 'pcoa': <skbio.stats.ordination._ordination_results.OrdinationResults object at 0x7fc92595b0d0>}\n"
     ]
    },
    {
     "name": "stdout",
     "output_type": "stream",
     "text": [
      "{'table': <q2_types.feature_table._format.BIOMV210Format object at 0x7fc92724ed00>, 'phylogeny': <q2_types.tree._format.NewickFormat object at 0x7fc9272463a0>}\n",
      "{'table': <q2_types.feature_table._format.BIOMV210Format object at 0x7fc92724ed00>, 'phylogeny': <q2_types.tree._format.NewickFormat object at 0x7fc9272463a0>}\n",
      "{'threads': 6, 'bypass_tips': False, 'table': <q2_types.feature_table._format.BIOMV210Format object at 0x7fc92724eb20>, 'phylogeny': <q2_types.tree._format.NewickFormat object at 0x7fc92724ed60>}\n",
      "{'threads': 6, 'bypass_tips': False, 'table': <q2_types.feature_table._format.BIOMV210Format object at 0x7fc92724eb20>, 'phylogeny': <q2_types.tree._format.NewickFormat object at 0x7fc92724ed60>}\n",
      "{'threads': 6, 'bypass_tips': False, 'table': <q2_types.feature_table._format.BIOMV210Format object at 0x7fc9271f2280>, 'phylogeny': <q2_types.tree._format.NewickFormat object at 0x7fc9271f2730>}\n",
      "{'threads': 6, 'bypass_tips': False, 'table': <q2_types.feature_table._format.BIOMV210Format object at 0x7fc9271f2280>, 'phylogeny': <q2_types.tree._format.NewickFormat object at 0x7fc9271f2730>}\n"
     ]
    },
    {
     "name": "stdout",
     "output_type": "stream",
     "text": [
      "{'number_of_dimensions': None, 'distance_matrix': <skbio.stats.distance._base.DistanceMatrix object at 0x7fc9271e17c0>}\n",
      "{'number_of_dimensions': None, 'distance_matrix': <skbio.stats.distance._base.DistanceMatrix object at 0x7fc9271e17c0>}\n",
      "{'number_of_dimensions': None, 'distance_matrix': <skbio.stats.distance._base.DistanceMatrix object at 0x7fc9271f24c0>}\n",
      "{'number_of_dimensions': None, 'distance_matrix': <skbio.stats.distance._base.DistanceMatrix object at 0x7fc9271f24c0>}\n",
      "{'metadata': Metadata\n",
      "--------\n",
      "14 IDs x 3 columns\n",
      "sample-name: ColumnProperties(type='categorical')\n",
      "group-id:    ColumnProperties(type='categorical')\n",
      "group-desc:  ColumnProperties(type='categorical')\n",
      "\n",
      "Call to_dataframe() for a tabular representation., 'custom_axes': None, 'ignore_missing_samples': False, 'ignore_pcoa_features': False, 'pcoa': <skbio.stats.ordination._ordination_results.OrdinationResults object at 0x7fc92595be20>}\n",
      "{'metadata': Metadata\n",
      "--------\n",
      "14 IDs x 3 columns\n",
      "sample-name: ColumnProperties(type='categorical')\n",
      "group-id:    ColumnProperties(type='categorical')\n",
      "group-desc:  ColumnProperties(type='categorical')\n",
      "\n",
      "Call to_dataframe() for a tabular representation., 'custom_axes': None, 'ignore_missing_samples': False, 'ignore_pcoa_features': False, 'pcoa': <skbio.stats.ordination._ordination_results.OrdinationResults object at 0x7fc9271f2070>}\n"
     ]
    },
    {
     "name": "stderr",
     "output_type": "stream",
     "text": [
      "/home/lauro/anaconda3/envs/qiime2-2022.2/lib/python3.8/site-packages/skbio/stats/ordination/_principal_coordinate_analysis.py:143: RuntimeWarning: The result contains negative eigenvalues. Please compare their magnitude with the magnitude of some of the largest positive eigenvalues. If the negative ones are smaller, it's probably safe to ignore them, but if they are large in magnitude, the results won't be useful. See the Notes section for more details. The smallest eigenvalue is -0.009117216697815466 and the largest is 0.8185608082489654.\n",
      "  warn(\n"
     ]
    }
   ],
   "source": [
    "s_depth = int(tabs.view(pd.DataFrame).sum(axis=1).min())\n",
    "results = core_metrics_phylogenetic(\n",
    "    table = tabs,\n",
    "    phylogeny = mafft_rooted_tree,\n",
    "    sampling_depth = s_depth,\n",
    "    metadata = metadata_qa,\n",
    "    n_jobs_or_threads = 6,\n",
    ")"
   ]
  },
  {
   "cell_type": "code",
   "execution_count": 13,
   "id": "19311218",
   "metadata": {
    "execution": {
     "iopub.execute_input": "2023-09-14T15:20:54.931238Z",
     "iopub.status.busy": "2023-09-14T15:20:54.930834Z",
     "iopub.status.idle": "2023-09-14T15:20:54.939341Z",
     "shell.execute_reply": "2023-09-14T15:20:54.938566Z"
    },
    "papermill": {
     "duration": 0.04923,
     "end_time": "2023-09-14T15:20:54.940980",
     "exception": false,
     "start_time": "2023-09-14T15:20:54.891750",
     "status": "completed"
    },
    "tags": []
   },
   "outputs": [],
   "source": [
    "results_info = [(\"rarefied_table\", \"FeatureTable[Frequency]\", \"The resulting rarefied feature table.\"),\n",
    "(\"faith_pd_vector\", \"SampleData[AlphaDiversity]\", \"Vector of Faith PD values by sample.\"),\n",
    "(\"observed_features_vector\", \"SampleData[AlphaDiversity]\", \"Vector of Observed Features values by sample.\"),\n",
    "(\"shannon_vector\", \"SampleData[AlphaDiversity]\", \"Vector of Shannon diversity values by sample.\"),\n",
    "(\"evenness_vector\", \"SampleData[AlphaDiversity]\", \"Vector of Pielou's evenness values by sample.\"),\n",
    "(\"unweighted_unifrac_distance_matrix\", \"DistanceMatrix\", \"Matrix of unweighted UniFrac distances between pairs of samples.\"),\n",
    "(\"weighted_unifrac_distance_matrix\", \"DistanceMatrix\", \"Matrix of weighted UniFrac distances between pairs of samples.\"),\n",
    "(\"jaccard_distance_matrix\", \"DistanceMatrix\", \"Matrix of Jaccard distances between pairs of samples.\"),\n",
    "(\"bray_curtis_distance_matrix\", \"DistanceMatrix\", \"Matrix of Bray-Curtis distances between pairs of samples.\"),\n",
    "(\"unweighted_unifrac_pcoa_results\", \"PCoAResults\", \"PCoA matrix computed from unweighted UniFrac distances between samples.\"),\n",
    "(\"weighted_unifrac_pcoa_results\", \"PCoAResults\", \"PCoA matrix computed from weighted UniFrac distances between samples.\"),\n",
    "(\"jaccard_pcoa_results\", \"PCoAResults\", \"PCoA matrix computed from Jaccard distances between samples.\"),\n",
    "(\"bray_curtis_pcoa_results\", \"PCoAResults\", \"PCoA matrix computed from Bray-Curtis distances between samples.\"),\n",
    "(\"unweighted_unifrac_emperor\", \"Visualization\", \"Emperor plot of the PCoA matrix computed from unweighted UniFrac.\"),\n",
    "(\"weighted_unifrac_emperor\", \"Visualization\", \"Emperor plot of the PCoA matrix computed from weighted UniFrac.\"),\n",
    "(\"jaccard_emperor\", \"Visualization\", \"Emperor plot of the PCoA matrix computed from Jaccard.\"),\n",
    "(\"bray_curtis_emperor\", \"Visualization\", \"Emperor plot of the PCoA matrix computed from Bray-Curtis.\")]"
   ]
  },
  {
   "cell_type": "code",
   "execution_count": 14,
   "id": "57dcd8e3",
   "metadata": {
    "execution": {
     "iopub.execute_input": "2023-09-14T15:20:55.020960Z",
     "iopub.status.busy": "2023-09-14T15:20:55.020359Z",
     "iopub.status.idle": "2023-09-14T15:20:55.505644Z",
     "shell.execute_reply": "2023-09-14T15:20:55.505092Z"
    },
    "papermill": {
     "duration": 0.527094,
     "end_time": "2023-09-14T15:20:55.508367",
     "exception": false,
     "start_time": "2023-09-14T15:20:54.981273",
     "status": "completed"
    },
    "tags": []
   },
   "outputs": [
    {
     "name": "stdout",
     "output_type": "stream",
     "text": [
      "13 unweighted_unifrac_emperor Visualization\n",
      "--- Emperor plot of the PCoA matrix computed from unweighted UniFrac. ---\n",
      "Saving emperor file at: /home/lauro/nupeb/rede-micro/redemicro-ana-flavia-nutri/experiments/ana-flavia-STD-NRxHSD-NR-trim/qiime-artifacts/beta-analysis/unweighted_unifrac_emperor.qzv\n",
      "\n",
      "14 weighted_unifrac_emperor Visualization\n",
      "--- Emperor plot of the PCoA matrix computed from weighted UniFrac. ---\n",
      "Saving emperor file at: /home/lauro/nupeb/rede-micro/redemicro-ana-flavia-nutri/experiments/ana-flavia-STD-NRxHSD-NR-trim/qiime-artifacts/beta-analysis/weighted_unifrac_emperor.qzv\n",
      "\n"
     ]
    },
    {
     "name": "stdout",
     "output_type": "stream",
     "text": [
      "15 jaccard_emperor Visualization\n",
      "--- Emperor plot of the PCoA matrix computed from Jaccard. ---\n",
      "Saving emperor file at: /home/lauro/nupeb/rede-micro/redemicro-ana-flavia-nutri/experiments/ana-flavia-STD-NRxHSD-NR-trim/qiime-artifacts/beta-analysis/jaccard_emperor.qzv\n",
      "\n",
      "16 bray_curtis_emperor Visualization\n",
      "--- Emperor plot of the PCoA matrix computed from Bray-Curtis. ---\n",
      "Saving emperor file at: /home/lauro/nupeb/rede-micro/redemicro-ana-flavia-nutri/experiments/ana-flavia-STD-NRxHSD-NR-trim/qiime-artifacts/beta-analysis/bray_curtis_emperor.qzv\n",
      "\n"
     ]
    }
   ],
   "source": [
    "for i, info in enumerate(results_info):\n",
    "    r_id, r_type, r_desc = info\n",
    "    #print(i, r_id, r_type)\n",
    "    file_name = f\"{r_id}.qzv\"\n",
    "    if r_type == \"FeatureTable[Frequency]\":\n",
    "        pass\n",
    "    elif r_id.endswith('emperor'):\n",
    "        print(i, r_id, r_type)\n",
    "        print(f\"--- {r_desc} ---\")\n",
    "        file_name = os.path.join(beta_path, file_name)\n",
    "        print(f'Saving emperor file at: {file_name}\\n')\n",
    "        results[i].save(filepath=file_name)"
   ]
  },
  {
   "cell_type": "markdown",
   "id": "c7752cfd",
   "metadata": {
    "papermill": {
     "duration": 0.08722,
     "end_time": "2023-09-14T15:20:55.663313",
     "exception": false,
     "start_time": "2023-09-14T15:20:55.576093",
     "status": "completed"
    },
    "tags": []
   },
   "source": [
    "### Alpha diversity correlation\n",
    "\n",
    "This method only process `numeric` columns.\n"
   ]
  },
  {
   "cell_type": "code",
   "execution_count": 15,
   "id": "2814f613",
   "metadata": {
    "ExecuteTime": {
     "end_time": "2022-09-29T20:54:35.317618Z",
     "start_time": "2022-09-29T20:54:35.312094Z"
    },
    "execution": {
     "iopub.execute_input": "2023-09-14T15:20:55.852788Z",
     "iopub.status.busy": "2023-09-14T15:20:55.852328Z",
     "iopub.status.idle": "2023-09-14T15:20:55.863470Z",
     "shell.execute_reply": "2023-09-14T15:20:55.862497Z"
    },
    "papermill": {
     "duration": 0.108863,
     "end_time": "2023-09-14T15:20:55.865433",
     "exception": false,
     "start_time": "2023-09-14T15:20:55.756570",
     "status": "completed"
    },
    "tags": []
   },
   "outputs": [],
   "source": [
    "methods = ('spearman', 'pearson')\n",
    "numerics_cols = metadata_qa.filter_columns(column_type='numeric')\n",
    "if numerics_cols.column_count > 0:\n",
    "    for metric, alpha_values in alpha_diversities.items():\n",
    "        for method in methods:\n",
    "            try:\n",
    "                corr_view = alpha_correlation(alpha_diversity=alpha_values, metadata=numerics_cols, \n",
    "                                          method=method, intersect_ids=True).visualization\n",
    "                view_path = os.path.join(alpha_path, f'alpha-correlation-{metric}-{method}.qzv')\n",
    "                corr_view.save(view_path)\n",
    "                corr_view\n",
    "                print(f\"DONE: Calculating alpha correlation: {metric} {method}\")\n",
    "            except Exception as e:\n",
    "                print(f\"ERROR: Calculating alpha correlation: {metric} {method}\")"
   ]
  },
  {
   "cell_type": "markdown",
   "id": "8ea83c8a",
   "metadata": {
    "papermill": {
     "duration": 0.040428,
     "end_time": "2023-09-14T15:20:55.950191",
     "exception": false,
     "start_time": "2023-09-14T15:20:55.909763",
     "status": "completed"
    },
    "tags": []
   },
   "source": [
    "## Alpha diversity comparisons\n",
    "\n",
    "Visually and statistically compare groups of alpha diversity values.\n",
    "\n",
    "[diversity alpha_group_significance](https://docs.qiime2.org/2022.8/plugins/available/diversity/alpha-group-significance/)"
   ]
  },
  {
   "cell_type": "code",
   "execution_count": 16,
   "id": "276d1c18",
   "metadata": {
    "ExecuteTime": {
     "end_time": "2022-09-29T20:54:36.089290Z",
     "start_time": "2022-09-29T20:54:35.318963Z"
    },
    "execution": {
     "iopub.execute_input": "2023-09-14T15:20:56.028968Z",
     "iopub.status.busy": "2023-09-14T15:20:56.028684Z",
     "iopub.status.idle": "2023-09-14T15:20:56.742821Z",
     "shell.execute_reply": "2023-09-14T15:20:56.742238Z"
    },
    "papermill": {
     "duration": 0.755533,
     "end_time": "2023-09-14T15:20:56.744877",
     "exception": false,
     "start_time": "2023-09-14T15:20:55.989344",
     "status": "completed"
    },
    "tags": []
   },
   "outputs": [
    {
     "name": "stdout",
     "output_type": "stream",
     "text": [
      "Processing alpha_group_significance: chao1\n",
      "{'metadata': Metadata\n",
      "--------\n",
      "14 IDs x 3 columns\n",
      "sample-name: ColumnProperties(type='categorical')\n",
      "group-id:    ColumnProperties(type='categorical')\n",
      "group-desc:  ColumnProperties(type='categorical')\n",
      "\n",
      "Call to_dataframe() for a tabular representation., 'alpha_diversity': S210421121685    314.0\n",
      "S210421121686    121.0\n",
      "S210421121687    137.0\n",
      "S210421121691    285.0\n",
      "S210421121692    137.0\n",
      "S210421121693    172.0\n",
      "S210421121703     97.0\n",
      "S210421121704     34.0\n",
      "S210421121705    211.0\n",
      "S210421121706    374.0\n",
      "S210421121707    219.0\n",
      "S210421121708    119.0\n",
      "S210421121709    105.0\n",
      "S210421121710     36.0\n",
      "Name: chao1, dtype: float64}\n",
      "DONE: Calculating alpha group significance: chao1\n",
      "Processing alpha_group_significance: chao1_ci\n",
      "ERROR: Calculating alpha group significance: chao1_ci\n",
      "Processing alpha_group_significance: observed_features\n",
      "{'metadata': Metadata\n",
      "--------\n",
      "14 IDs x 3 columns\n",
      "sample-name: ColumnProperties(type='categorical')\n",
      "group-id:    ColumnProperties(type='categorical')\n",
      "group-desc:  ColumnProperties(type='categorical')\n",
      "\n",
      "Call to_dataframe() for a tabular representation., 'alpha_diversity': S210421121685    314\n",
      "S210421121686    121\n",
      "S210421121687    137\n",
      "S210421121691    285\n",
      "S210421121692    137\n",
      "S210421121693    172\n",
      "S210421121703     97\n",
      "S210421121704     34\n",
      "S210421121705    211\n",
      "S210421121706    374\n",
      "S210421121707    219\n",
      "S210421121708    119\n",
      "S210421121709    105\n",
      "S210421121710     36\n",
      "Name: observed_features, dtype: int64}\n"
     ]
    },
    {
     "name": "stdout",
     "output_type": "stream",
     "text": [
      "DONE: Calculating alpha group significance: observed_features\n",
      "Processing alpha_group_significance: shannon\n",
      "{'metadata': Metadata\n",
      "--------\n",
      "14 IDs x 3 columns\n",
      "sample-name: ColumnProperties(type='categorical')\n",
      "group-id:    ColumnProperties(type='categorical')\n",
      "group-desc:  ColumnProperties(type='categorical')\n",
      "\n",
      "Call to_dataframe() for a tabular representation., 'alpha_diversity': S210421121685    6.145411\n",
      "S210421121686    5.516588\n",
      "S210421121687    5.179013\n",
      "S210421121691    6.398281\n",
      "S210421121692    4.840741\n",
      "S210421121693    4.319901\n",
      "S210421121703    5.200061\n",
      "S210421121704    3.786450\n",
      "S210421121705    5.919258\n",
      "S210421121706    6.381630\n",
      "S210421121707    5.519281\n",
      "S210421121708    5.520796\n",
      "S210421121709    4.826476\n",
      "S210421121710    3.903198\n",
      "Name: shannon_entropy, dtype: float64}\n",
      "DONE: Calculating alpha group significance: shannon\n",
      "Processing alpha_group_significance: simpson\n",
      "{'metadata': Metadata\n",
      "--------\n",
      "14 IDs x 3 columns\n",
      "sample-name: ColumnProperties(type='categorical')\n",
      "group-id:    ColumnProperties(type='categorical')\n",
      "group-desc:  ColumnProperties(type='categorical')\n",
      "\n",
      "Call to_dataframe() for a tabular representation., 'alpha_diversity': S210421121685    0.967199\n",
      "S210421121686    0.960541\n",
      "S210421121687    0.935590\n",
      "S210421121691    0.976475\n",
      "S210421121692    0.924892\n",
      "S210421121693    0.876379\n",
      "S210421121703    0.945950\n",
      "S210421121704    0.859716\n",
      "S210421121705    0.967740\n",
      "S210421121706    0.969687\n",
      "S210421121707    0.936488\n",
      "S210421121708    0.946668\n",
      "S210421121709    0.924440\n",
      "S210421121710    0.884766\n",
      "Name: simpson, dtype: float64}\n"
     ]
    },
    {
     "name": "stdout",
     "output_type": "stream",
     "text": [
      "DONE: Calculating alpha group significance: simpson\n",
      "Processing alpha_group_significance: simpson_e\n",
      "{'metadata': Metadata\n",
      "--------\n",
      "14 IDs x 3 columns\n",
      "sample-name: ColumnProperties(type='categorical')\n",
      "group-id:    ColumnProperties(type='categorical')\n",
      "group-desc:  ColumnProperties(type='categorical')\n",
      "\n",
      "Call to_dataframe() for a tabular representation., 'alpha_diversity': S210421121685    0.097092\n",
      "S210421121686    0.209445\n",
      "S210421121687    0.113325\n",
      "S210421121691    0.149151\n",
      "S210421121692    0.097184\n",
      "S210421121693    0.047030\n",
      "S210421121703    0.190735\n",
      "S210421121704    0.209658\n",
      "S210421121705    0.146909\n",
      "S210421121706    0.088207\n",
      "S210421121707    0.071896\n",
      "S210421121708    0.157567\n",
      "S210421121709    0.126044\n",
      "S210421121710    0.241056\n",
      "Name: simpson_e, dtype: float64}\n",
      "DONE: Calculating alpha group significance: simpson_e\n"
     ]
    }
   ],
   "source": [
    "for metric, alpha_values in alpha_diversities.items():\n",
    "    print(f\"Processing alpha_group_significance: {metric}\")\n",
    "    try:\n",
    "        significance_view = alpha_group_significance(alpha_diversity=alpha_values, metadata=metadata_qa).visualization\n",
    "        view_path = os.path.join(alpha_path, f'alpha-group-significance-{metric}.qzv')\n",
    "        significance_view.save(view_path)\n",
    "        significance_view\n",
    "        print(f\"DONE: Calculating alpha group significance: {metric}\")\n",
    "    except Exception as e:\n",
    "        print(f\"ERROR: Calculating alpha group significance: {metric}\")"
   ]
  },
  {
   "cell_type": "markdown",
   "id": "4349d357",
   "metadata": {
    "papermill": {
     "duration": 0.039255,
     "end_time": "2023-09-14T15:20:56.826992",
     "exception": false,
     "start_time": "2023-09-14T15:20:56.787737",
     "status": "completed"
    },
    "tags": []
   },
   "source": [
    "## Beta diversity analysis\n",
    "\n",
    "#### Reference\n",
    "- [diversity beta](https://docs.qiime2.org/2022.8/plugins/available/diversity/beta/): Computes a user-specified beta diversity metric for all pairs of samples in a feature table.\n",
    "- [Beta diversity metrics](http://scikit-bio.org/docs/0.2.0/generated/skbio.diversity.beta.html)\n",
    "\n",
    "- Metric Choices('aitchison', 'braycurtis', 'canberra', 'canberra_adkins', 'chebyshev', 'cityblock', 'correlation', 'cosine', 'dice', 'euclidean', 'hamming', 'jaccard', 'jensenshannon', 'kulsinski', 'matching', 'minkowski', 'rogerstanimoto', 'russellrao', 'seuclidean', 'sokalmichener', 'sokalsneath', 'sqeuclidean', 'yule')"
   ]
  },
  {
   "cell_type": "code",
   "execution_count": 17,
   "id": "f6f358dd",
   "metadata": {
    "ExecuteTime": {
     "end_time": "2022-09-29T20:54:36.335038Z",
     "start_time": "2022-09-29T20:54:36.091288Z"
    },
    "execution": {
     "iopub.execute_input": "2023-09-14T15:20:56.908048Z",
     "iopub.status.busy": "2023-09-14T15:20:56.907733Z",
     "iopub.status.idle": "2023-09-14T15:20:57.452022Z",
     "shell.execute_reply": "2023-09-14T15:20:57.451245Z"
    },
    "papermill": {
     "duration": 0.589353,
     "end_time": "2023-09-14T15:20:57.456079",
     "exception": false,
     "start_time": "2023-09-14T15:20:56.866726",
     "status": "completed"
    },
    "tags": []
   },
   "outputs": [
    {
     "name": "stdout",
     "output_type": "stream",
     "text": [
      "Calculating beta diversity: euclidean\n",
      "{'metric': 'euclidean', 'pseudocount': 1, 'n_jobs': 6, 'table': <artifact: FeatureTable[Frequency] uuid: 5b28154b-5453-4cd6-b077-9d439bf34180>}\n",
      "{'metric': 'euclidean', 'pseudocount': 1, 'n_jobs': 6, 'table': 1161 x 14 <class 'biom.table.Table'> with 2361 nonzero entries (14% dense)}\n",
      "{'metric': 'euclidean', 'pseudocount': 1, 'n_jobs': 6, 'table': 1161 x 14 <class 'biom.table.Table'> with 2361 nonzero entries (14% dense)}\n",
      "DONE: Calculating beta diversity: euclidean\n",
      "Calculating beta diversity: dice\n",
      "{'metric': 'dice', 'pseudocount': 1, 'n_jobs': 6, 'table': <artifact: FeatureTable[Frequency] uuid: 5b28154b-5453-4cd6-b077-9d439bf34180>}\n",
      "{'metric': 'dice', 'pseudocount': 1, 'n_jobs': 6, 'table': 1161 x 14 <class 'biom.table.Table'> with 2361 nonzero entries (14% dense)}\n",
      "{'metric': 'dice', 'pseudocount': 1, 'n_jobs': 6, 'table': 1161 x 14 <class 'biom.table.Table'> with 2361 nonzero entries (14% dense)}\n"
     ]
    },
    {
     "name": "stderr",
     "output_type": "stream",
     "text": [
      "/home/lauro/anaconda3/envs/qiime2-2022.2/lib/python3.8/site-packages/sklearn/metrics/pairwise.py:1761: DataConversionWarning: Data was converted to boolean for metric dice\n",
      "  warnings.warn(msg, DataConversionWarning)\n"
     ]
    },
    {
     "name": "stdout",
     "output_type": "stream",
     "text": [
      "DONE: Calculating beta diversity: dice\n",
      "Calculating beta diversity: braycurtis\n",
      "{'metric': 'braycurtis', 'pseudocount': 1, 'n_jobs': 6, 'table': <artifact: FeatureTable[Frequency] uuid: 5b28154b-5453-4cd6-b077-9d439bf34180>}\n",
      "{'n_jobs': 6, 'table': 1161 x 14 <class 'biom.table.Table'> with 2361 nonzero entries (14% dense)}\n",
      "{'n_jobs': 6, 'table': 1161 x 14 <class 'biom.table.Table'> with 2361 nonzero entries (14% dense)}\n",
      "DONE: Calculating beta diversity: braycurtis\n",
      "Calculating beta diversity: correlation\n",
      "{'metric': 'correlation', 'pseudocount': 1, 'n_jobs': 6, 'table': <artifact: FeatureTable[Frequency] uuid: 5b28154b-5453-4cd6-b077-9d439bf34180>}\n",
      "{'metric': 'correlation', 'pseudocount': 1, 'n_jobs': 6, 'table': 1161 x 14 <class 'biom.table.Table'> with 2361 nonzero entries (14% dense)}\n",
      "{'metric': 'correlation', 'pseudocount': 1, 'n_jobs': 6, 'table': 1161 x 14 <class 'biom.table.Table'> with 2361 nonzero entries (14% dense)}\n",
      "ERROR: Calculating beta diversity: correlation\n",
      "Calculating beta diversity: cosine\n",
      "{'metric': 'cosine', 'pseudocount': 1, 'n_jobs': 6, 'table': <artifact: FeatureTable[Frequency] uuid: 5b28154b-5453-4cd6-b077-9d439bf34180>}\n",
      "{'metric': 'cosine', 'pseudocount': 1, 'n_jobs': 6, 'table': 1161 x 14 <class 'biom.table.Table'> with 2361 nonzero entries (14% dense)}\n",
      "{'metric': 'cosine', 'pseudocount': 1, 'n_jobs': 6, 'table': 1161 x 14 <class 'biom.table.Table'> with 2361 nonzero entries (14% dense)}\n",
      "ERROR: Calculating beta diversity: cosine\n",
      "Calculating beta diversity: matching\n",
      "{'metric': 'matching', 'pseudocount': 1, 'n_jobs': 6, 'table': <artifact: FeatureTable[Frequency] uuid: 5b28154b-5453-4cd6-b077-9d439bf34180>}\n",
      "{'metric': 'matching', 'pseudocount': 1, 'n_jobs': 6, 'table': 1161 x 14 <class 'biom.table.Table'> with 2361 nonzero entries (14% dense)}\n",
      "{'metric': 'matching', 'pseudocount': 1, 'n_jobs': 6, 'table': 1161 x 14 <class 'biom.table.Table'> with 2361 nonzero entries (14% dense)}\n"
     ]
    },
    {
     "name": "stdout",
     "output_type": "stream",
     "text": [
      "DONE: Calculating beta diversity: matching\n",
      "Calculating beta diversity: jaccard\n",
      "{'metric': 'jaccard', 'pseudocount': 1, 'n_jobs': 6, 'table': <artifact: FeatureTable[Frequency] uuid: 5b28154b-5453-4cd6-b077-9d439bf34180>}\n",
      "{'n_jobs': 6, 'table': 1161 x 14 <class 'biom.table.Table'> with 2361 nonzero entries (14% dense)}\n",
      "{'n_jobs': 6, 'table': 1161 x 14 <class 'biom.table.Table'> with 2361 nonzero entries (14% dense)}\n",
      "DONE: Calculating beta diversity: jaccard\n"
     ]
    },
    {
     "name": "stderr",
     "output_type": "stream",
     "text": [
      "/home/lauro/anaconda3/envs/qiime2-2022.2/lib/python3.8/site-packages/sklearn/metrics/pairwise.py:1761: DataConversionWarning: Data was converted to boolean for metric matching\n",
      "  warnings.warn(msg, DataConversionWarning)\n",
      "/home/lauro/anaconda3/envs/qiime2-2022.2/lib/python3.8/site-packages/sklearn/metrics/pairwise.py:1761: DataConversionWarning: Data was converted to boolean for metric jaccard\n",
      "  warnings.warn(msg, DataConversionWarning)\n"
     ]
    }
   ],
   "source": [
    "metrics = ('aitchison', 'braycurtis', 'canberra', 'canberra_adkins', 'chebyshev', 'cityblock', 'correlation', 'cosine', 'dice', 'euclidean', 'hamming', 'jaccard', 'jensenshannon', 'kulsinski', 'matching', 'minkowski', 'rogerstanimoto', 'russellrao', 'seuclidean', 'sokalmichener', 'sokalsneath', 'sqeuclidean', 'yule')\n",
    "metrics = ('euclidean', 'dice', 'braycurtis', 'correlation', 'cosine', 'matching', 'jaccard')\n",
    "beta_diversities = dict()\n",
    "for metric in metrics:\n",
    "    print(f\"Calculating beta diversity: {metric}\")\n",
    "    try:\n",
    "        beta_diversity = beta(table=tabs, metric=metric, n_jobs=6, pseudocount=1).distance_matrix\n",
    "        beta_diversities[metric] = beta_diversity\n",
    "        # Save SampleData[BetaDiversity] Artifact\n",
    "        file_path = os.path.join(beta_path, f'beta-values-{metric}.qza')\n",
    "        beta_diversity.save(file_path)\n",
    "        print(f\"DONE: Calculating beta diversity: {metric}\")\n",
    "    except Exception as e:\n",
    "        print(f\"ERROR: Calculating beta diversity: {metric}\")"
   ]
  },
  {
   "cell_type": "markdown",
   "id": "200a2fa7",
   "metadata": {
    "papermill": {
     "duration": 0.051124,
     "end_time": "2023-09-14T15:20:57.553456",
     "exception": false,
     "start_time": "2023-09-14T15:20:57.502332",
     "status": "completed"
    },
    "tags": []
   },
   "source": [
    "### Beta group significance\n",
    "\n",
    "- [diversity beta_group_significance](https://docs.qiime2.org/2022.8/plugins/available/diversity/beta-group-significance/): Determine whether groups of samples are significantly different from one another using a permutation-based statistical test.\n",
    "- Marti J Anderson. A new method for non-parametric multivariate analysis of variance. Austral ecology, 26(1):32–46, 2001. doi:https://doi.org/10.1111/j.1442-9993.2001.01070.pp.x."
   ]
  },
  {
   "cell_type": "code",
   "execution_count": 18,
   "id": "b8dd42b6",
   "metadata": {
    "ExecuteTime": {
     "end_time": "2022-09-29T20:55:08.313860Z",
     "start_time": "2022-09-29T20:54:36.336993Z"
    },
    "execution": {
     "iopub.execute_input": "2023-09-14T15:20:57.683175Z",
     "iopub.status.busy": "2023-09-14T15:20:57.682879Z",
     "iopub.status.idle": "2023-09-14T15:21:36.614654Z",
     "shell.execute_reply": "2023-09-14T15:21:36.614003Z"
    },
    "papermill": {
     "duration": 38.998215,
     "end_time": "2023-09-14T15:21:36.617852",
     "exception": false,
     "start_time": "2023-09-14T15:20:57.619637",
     "status": "completed"
    },
    "tags": []
   },
   "outputs": [
    {
     "name": "stdout",
     "output_type": "stream",
     "text": [
      "Calculating beta group significance with method permanova and metric euclidean\n",
      "{'metadata': <CategoricalMetadataColumn name='group-id' id_count=14>, 'method': 'permanova', 'pairwise': True, 'permutations': 999, 'distance_matrix': <skbio.stats.distance._base.DistanceMatrix object at 0x7fc92720ed00>}\n"
     ]
    },
    {
     "name": "stdout",
     "output_type": "stream",
     "text": [
      "DONE: Calculating beta group significance: permanova euclidean\n",
      "Calculating beta group significance with method permanova and metric dice\n",
      "{'metadata': <CategoricalMetadataColumn name='group-id' id_count=14>, 'method': 'permanova', 'pairwise': True, 'permutations': 999, 'distance_matrix': <skbio.stats.distance._base.DistanceMatrix object at 0x7fc9284f42e0>}\n"
     ]
    },
    {
     "name": "stdout",
     "output_type": "stream",
     "text": [
      "DONE: Calculating beta group significance: permanova dice\n",
      "Calculating beta group significance with method permanova and metric braycurtis\n",
      "{'metadata': <CategoricalMetadataColumn name='group-id' id_count=14>, 'method': 'permanova', 'pairwise': True, 'permutations': 999, 'distance_matrix': <skbio.stats.distance._base.DistanceMatrix object at 0x7fc928805c10>}\n"
     ]
    },
    {
     "name": "stdout",
     "output_type": "stream",
     "text": [
      "DONE: Calculating beta group significance: permanova braycurtis\n",
      "Calculating beta group significance with method permanova and metric matching\n",
      "{'metadata': <CategoricalMetadataColumn name='group-id' id_count=14>, 'method': 'permanova', 'pairwise': True, 'permutations': 999, 'distance_matrix': <skbio.stats.distance._base.DistanceMatrix object at 0x7fc928953970>}\n"
     ]
    },
    {
     "name": "stdout",
     "output_type": "stream",
     "text": [
      "DONE: Calculating beta group significance: permanova matching\n",
      "Calculating beta group significance with method permanova and metric jaccard\n",
      "{'metadata': <CategoricalMetadataColumn name='group-id' id_count=14>, 'method': 'permanova', 'pairwise': True, 'permutations': 999, 'distance_matrix': <skbio.stats.distance._base.DistanceMatrix object at 0x7fc927cad8b0>}\n"
     ]
    },
    {
     "name": "stdout",
     "output_type": "stream",
     "text": [
      "DONE: Calculating beta group significance: permanova jaccard\n",
      "Calculating beta group significance with method anosim and metric euclidean\n",
      "{'metadata': <CategoricalMetadataColumn name='group-id' id_count=14>, 'method': 'anosim', 'pairwise': True, 'permutations': 999, 'distance_matrix': <skbio.stats.distance._base.DistanceMatrix object at 0x7fc92792f7c0>}\n"
     ]
    },
    {
     "name": "stdout",
     "output_type": "stream",
     "text": [
      "DONE: Calculating beta group significance: anosim euclidean\n",
      "Calculating beta group significance with method anosim and metric dice\n",
      "{'metadata': <CategoricalMetadataColumn name='group-id' id_count=14>, 'method': 'anosim', 'pairwise': True, 'permutations': 999, 'distance_matrix': <skbio.stats.distance._base.DistanceMatrix object at 0x7fc92740c9a0>}\n"
     ]
    },
    {
     "name": "stdout",
     "output_type": "stream",
     "text": [
      "DONE: Calculating beta group significance: anosim dice\n",
      "Calculating beta group significance with method anosim and metric braycurtis\n",
      "{'metadata': <CategoricalMetadataColumn name='group-id' id_count=14>, 'method': 'anosim', 'pairwise': True, 'permutations': 999, 'distance_matrix': <skbio.stats.distance._base.DistanceMatrix object at 0x7fc92753ad60>}\n"
     ]
    },
    {
     "name": "stdout",
     "output_type": "stream",
     "text": [
      "DONE: Calculating beta group significance: anosim braycurtis\n",
      "Calculating beta group significance with method anosim and metric matching\n",
      "{'metadata': <CategoricalMetadataColumn name='group-id' id_count=14>, 'method': 'anosim', 'pairwise': True, 'permutations': 999, 'distance_matrix': <skbio.stats.distance._base.DistanceMatrix object at 0x7fc9275faac0>}\n"
     ]
    },
    {
     "name": "stdout",
     "output_type": "stream",
     "text": [
      "DONE: Calculating beta group significance: anosim matching\n",
      "Calculating beta group significance with method anosim and metric jaccard\n",
      "{'metadata': <CategoricalMetadataColumn name='group-id' id_count=14>, 'method': 'anosim', 'pairwise': True, 'permutations': 999, 'distance_matrix': <skbio.stats.distance._base.DistanceMatrix object at 0x7fc9273f4e80>}\n"
     ]
    },
    {
     "name": "stdout",
     "output_type": "stream",
     "text": [
      "DONE: Calculating beta group significance: anosim jaccard\n",
      "Calculating beta group significance with method permdisp and metric euclidean\n",
      "{'metadata': <CategoricalMetadataColumn name='group-id' id_count=14>, 'method': 'permdisp', 'pairwise': True, 'permutations': 999, 'distance_matrix': <skbio.stats.distance._base.DistanceMatrix object at 0x7fc927608550>}\n"
     ]
    },
    {
     "name": "stderr",
     "output_type": "stream",
     "text": [
      "/home/lauro/anaconda3/envs/qiime2-2022.2/lib/python3.8/site-packages/skbio/stats/ordination/_principal_coordinate_analysis.py:143: RuntimeWarning: The result contains negative eigenvalues. Please compare their magnitude with the magnitude of some of the largest positive eigenvalues. If the negative ones are smaller, it's probably safe to ignore them, but if they are large in magnitude, the results won't be useful. See the Notes section for more details. The smallest eigenvalue is -1.1948467912977422e-08 and the largest is 2483396137.867226.\n",
      "  warn(\n"
     ]
    },
    {
     "name": "stderr",
     "output_type": "stream",
     "text": [
      "/home/lauro/anaconda3/envs/qiime2-2022.2/lib/python3.8/site-packages/skbio/stats/ordination/_principal_coordinate_analysis.py:143: RuntimeWarning: The result contains negative eigenvalues. Please compare their magnitude with the magnitude of some of the largest positive eigenvalues. If the negative ones are smaller, it's probably safe to ignore them, but if they are large in magnitude, the results won't be useful. See the Notes section for more details. The smallest eigenvalue is -5.322872839995147e-07 and the largest is 2483396137.867226.\n",
      "  warn(\n"
     ]
    },
    {
     "name": "stdout",
     "output_type": "stream",
     "text": [
      "DONE: Calculating beta group significance: permdisp euclidean\n",
      "Calculating beta group significance with method permdisp and metric dice\n",
      "{'metadata': <CategoricalMetadataColumn name='group-id' id_count=14>, 'method': 'permdisp', 'pairwise': True, 'permutations': 999, 'distance_matrix': <skbio.stats.distance._base.DistanceMatrix object at 0x7fc92726c9a0>}\n"
     ]
    },
    {
     "name": "stdout",
     "output_type": "stream",
     "text": [
      "DONE: Calculating beta group significance: permdisp dice\n",
      "Calculating beta group significance with method permdisp and metric braycurtis\n",
      "{'metadata': <CategoricalMetadataColumn name='group-id' id_count=14>, 'method': 'permdisp', 'pairwise': True, 'permutations': 999, 'distance_matrix': <skbio.stats.distance._base.DistanceMatrix object at 0x7fc9272839d0>}\n"
     ]
    },
    {
     "name": "stdout",
     "output_type": "stream",
     "text": [
      "DONE: Calculating beta group significance: permdisp braycurtis\n",
      "Calculating beta group significance with method permdisp and metric matching\n",
      "{'metadata': <CategoricalMetadataColumn name='group-id' id_count=14>, 'method': 'permdisp', 'pairwise': True, 'permutations': 999, 'distance_matrix': <skbio.stats.distance._base.DistanceMatrix object at 0x7fc9274c98b0>}\n"
     ]
    },
    {
     "name": "stderr",
     "output_type": "stream",
     "text": [
      "/home/lauro/anaconda3/envs/qiime2-2022.2/lib/python3.8/site-packages/skbio/stats/ordination/_principal_coordinate_analysis.py:143: RuntimeWarning: The result contains negative eigenvalues. Please compare their magnitude with the magnitude of some of the largest positive eigenvalues. If the negative ones are smaller, it's probably safe to ignore them, but if they are large in magnitude, the results won't be useful. See the Notes section for more details. The smallest eigenvalue is -0.002307957862624457 and the largest is 0.13937666787475156.\n",
      "  warn(\n"
     ]
    },
    {
     "name": "stderr",
     "output_type": "stream",
     "text": [
      "/home/lauro/anaconda3/envs/qiime2-2022.2/lib/python3.8/site-packages/skbio/stats/ordination/_principal_coordinate_analysis.py:143: RuntimeWarning: The result contains negative eigenvalues. Please compare their magnitude with the magnitude of some of the largest positive eigenvalues. If the negative ones are smaller, it's probably safe to ignore them, but if they are large in magnitude, the results won't be useful. See the Notes section for more details. The smallest eigenvalue is -0.002307957862624467 and the largest is 0.13937666787475167.\n",
      "  warn(\n"
     ]
    },
    {
     "name": "stdout",
     "output_type": "stream",
     "text": [
      "DONE: Calculating beta group significance: permdisp matching\n",
      "Calculating beta group significance with method permdisp and metric jaccard\n",
      "{'metadata': <CategoricalMetadataColumn name='group-id' id_count=14>, 'method': 'permdisp', 'pairwise': True, 'permutations': 999, 'distance_matrix': <skbio.stats.distance._base.DistanceMatrix object at 0x7fc927473af0>}\n"
     ]
    },
    {
     "name": "stdout",
     "output_type": "stream",
     "text": [
      "DONE: Calculating beta group significance: permdisp jaccard\n"
     ]
    },
    {
     "data": {
      "text/plain": [
       "<Figure size 432x288 with 0 Axes>"
      ]
     },
     "metadata": {},
     "output_type": "display_data"
    }
   ],
   "source": [
    "methods = ('permanova', 'anosim', 'permdisp')\n",
    "for method in methods:\n",
    "    for metric, beta_diversity in beta_diversities.items():\n",
    "        print(f'Calculating beta group significance with method {method} and metric {metric}')\n",
    "        try:\n",
    "            beta_view = beta_group_significance(distance_matrix=beta_diversity, \n",
    "                                                metadata=metadata_qa.get_column(class_col), \n",
    "                                                pairwise=True, method=method).visualization\n",
    "            view_name = os.path.join(beta_path, f'beta-group-significance-{metric}-{method}.qzv')\n",
    "            beta_view.save(view_name)\n",
    "            print(f\"DONE: Calculating beta group significance: {method} {metric}\")\n",
    "        except Exception as e:\n",
    "            print(f\"ERROR: Calculating beta group significance: {method} {metric}\")"
   ]
  },
  {
   "cell_type": "markdown",
   "id": "c0de85cf",
   "metadata": {
    "papermill": {
     "duration": 0.04639,
     "end_time": "2023-09-14T15:21:36.714024",
     "exception": false,
     "start_time": "2023-09-14T15:21:36.667634",
     "status": "completed"
    },
    "tags": []
   },
   "source": [
    "### Beta group Rarefaction\n",
    "\n",
    "- [diversity beta_rarefaction](https://docs.qiime2.org/2022.8/plugins/available/diversity/beta-rarefaction/): Repeatedly rarefy a feature table to compare beta diversity results within a given rarefaction depth.  For a given beta diversity metric, this visualizer will provide: an Emperor jackknifed PCoA plot, samples clustered by UPGMA or neighbor joining with support calculation, and a heatmap showing the correlation between rarefaction trials of that beta diversity metric."
   ]
  }
 ],
 "metadata": {
  "celltoolbar": "Edit Metadata",
  "kernelspec": {
   "display_name": "Python 3 (ipykernel)",
   "language": "python",
   "name": "python3"
  },
  "language_info": {
   "codemirror_mode": {
    "name": "ipython",
    "version": 3
   },
   "file_extension": ".py",
   "mimetype": "text/x-python",
   "name": "python",
   "nbconvert_exporter": "python",
   "pygments_lexer": "ipython3",
   "version": "3.8.12"
  },
  "papermill": {
   "default_parameters": {},
   "duration": 76.816758,
   "end_time": "2023-09-14T15:21:37.685548",
   "environment_variables": {},
   "exception": null,
   "input_path": "microbiom/nb-templates/step-diversity-analysis.ipynb",
   "output_path": "/home/lauro/nupeb/rede-micro/redemicro-ana-flavia-nutri/experiments/ana-flavia-STD-NRxHSD-NR-trim/nb-executed-steps/step-diversity-analysis-ana-flavia-STD-NRxHSD-NR-trim.ipynb",
   "parameters": {
    "base_dir": "/home/lauro/nupeb/rede-micro/redemicro-ana-flavia-nutri",
    "class_col": "group-id",
    "classifier_file": "/home/lauro/nupeb/rede-micro/models/silva-138-99-nb-classifier.qza",
    "experiment_name": "ana-flavia-STD-NRxHSD-NR-trim",
    "manifest_file": "/home/lauro/nupeb/rede-micro/redemicro-ana-flavia-nutri/data/raw/manifest/manifest-ana-flavia-STD-NRxHSD-NR.csv",
    "metadata_file": "/home/lauro/nupeb/rede-micro/redemicro-ana-flavia-nutri/data/raw/metadata/metadata-ana-flavia-STD-NRxHSD-NR.tsv",
    "overlap": 12,
    "phred": 20,
    "replace_files": false,
    "threads": 6,
    "top_n": 20,
    "trim": {
     "forward_primer": "CCTACGGGRSGCAGCAG",
     "overlap": 8,
     "reverse_primer": "GGACTACHVGGGTWTCTAAT"
    },
    "trunc_f": 0,
    "trunc_r": 0
   },
   "start_time": "2023-09-14T15:20:20.868790",
   "version": "2.3.4"
  }
 },
 "nbformat": 4,
 "nbformat_minor": 5
}