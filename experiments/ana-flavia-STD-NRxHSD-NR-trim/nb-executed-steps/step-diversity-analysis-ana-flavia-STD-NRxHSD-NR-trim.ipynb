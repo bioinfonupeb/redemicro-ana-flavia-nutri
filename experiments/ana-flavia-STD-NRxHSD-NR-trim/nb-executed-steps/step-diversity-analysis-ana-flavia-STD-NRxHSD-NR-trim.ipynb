{
 "cells": [
  {
   "cell_type": "markdown",
   "id": "15bcfa06",
   "metadata": {
    "papermill": {
     "duration": 0.025016,
     "end_time": "2023-06-07T09:36:18.032701",
     "exception": false,
     "start_time": "2023-06-07T09:36:18.007685",
     "status": "completed"
    },
    "tags": []
   },
   "source": [
    " \n",
    "# Alpha and Beta Diversity\n",
    "\n",
    "Different higher-level measures are often used to describe the microbiome in a sample. These do not provide information on changes in the abundance of specific taxa but allow us to access a broader change or difference in the composition of microorganisms. Alpha and beta diversity are examples of such measures.\n",
    "\n",
    "Different measures exist to estimate diversity within a single sample, jointly called alpha diversity. The different measures reflect the richness (number) or distribution (evenness) of a microbial sample or aim to reflect a combination of both properties.\n",
    "\n",
    "Rarefaction curves are often used when calculating alpha diversity indices because increasing numbers of sequenced taxa allow increasingly accurate estimates of total population diversity. Rarefaction curves can therefore be used to estimate the full sample richness, as compared to the observed sample richness.\n",
    "\n",
    "While alpha diversity is a measure of microbiome diversity applicable to a single sample, beta diversity is a measure of the similarity or dissimilarity of two communities. As for alpha diversity, many indices exist, each reflecting different aspects of community heterogeneity. Key differences relate to how the indices value variation in rare species if they consider presence/absence only or incorporate abundance, and how they interpret shared absence. Bray-Curtis dissimilarity is a popular measure that considers both size (overall abundance per sample) and shape (abundance of each taxon) of the communities (Bray, 1957). Beta diversity is an essential measure for many popular statistical methods in ecology, such as ordination-based methods, and is widely used for studying the association between environmental variables and microbial composition.\n",
    "\n",
    "In summary, alpha diversity measures can be seen as a summary statistic of a single population (within-sample diversity), while beta diversity measures are estimates of similarity or dissimilarity between populations (between samples).\n",
    "\n",
    "**Source**: (https://biomcare.com/info/key-terms-in-microbiome-projects/)"
   ]
  },
  {
   "cell_type": "markdown",
   "id": "0e7f2330",
   "metadata": {
    "ExecuteTime": {
     "end_time": "2022-09-22T19:36:33.828188Z",
     "start_time": "2022-09-22T19:36:33.817323Z"
    },
    "papermill": {
     "duration": 0.089533,
     "end_time": "2023-06-07T09:36:18.211627",
     "exception": false,
     "start_time": "2023-06-07T09:36:18.122094",
     "status": "completed"
    },
    "tags": []
   },
   "source": [
    "### STEP : Diversity Analysis\n",
    "\n",
    "Using QIIME2 to create diversity analisys graphs and calculations.\n",
    "\n",
    "- [QIIME2 Workflow Overview](https://docs.qiime2.org/2022.8/tutorials/overview/)\n",
    "\n",
    "\n",
    "#### Methods\n",
    "- [diversity](https://docs.qiime2.org/2022.8/plugins/available/diversity/)\n",
    "- [diversity alpha](https://docs.qiime2.org/2022.8/plugins/available/diversity/alpha/)\n",
    "- [diversity alpha_phylogenetic](https://docs.qiime2.org/2022.8/plugins/available/diversity/alpha-phylogenetic/)\n",
    "- [diversity beta](https://docs.qiime2.org/2022.8/plugins/available/diversity/beta/)\n",
    "- [diversity core_metrics](https://docs.qiime2.org/2022.8/plugins/available/diversity/core-metrics/)\n",
    "- [diversity alpha_group_significance](https://docs.qiime2.org/2022.8/plugins/available/diversity/alpha-group-significance/)\n",
    "- [diversity beta_group_significance](https://docs.qiime2.org/2022.8/plugins/available/diversity/beta-group-significance/)\n",
    "- [feature_table core_features](https://docs.qiime2.org/2022.8/plugins/available/feature-table/core-features/)\n",
    "- [feature_table summarize](https://docs.qiime2.org/2022.8/plugins/available/feature-table/summarize/)\n",
    "- [taxa filter-table](https://docs.qiime2.org/2022.8/plugins/available/taxa/filter-table/)\n",
    "- [taxa collapse](https://docs.qiime2.org/2022.8/plugins/available/taxa/collapse/)"
   ]
  },
  {
   "cell_type": "markdown",
   "id": "843debbf",
   "metadata": {
    "papermill": {
     "duration": 0.015823,
     "end_time": "2023-06-07T09:36:18.243637",
     "exception": false,
     "start_time": "2023-06-07T09:36:18.227814",
     "status": "completed"
    },
    "tags": []
   },
   "source": [
    "## Setup and settings"
   ]
  },
  {
   "cell_type": "code",
   "execution_count": 1,
   "id": "965e28e5",
   "metadata": {
    "ExecuteTime": {
     "end_time": "2022-11-03T20:35:26.198671Z",
     "start_time": "2022-11-03T20:35:06.473173Z"
    },
    "execution": {
     "iopub.execute_input": "2023-06-07T09:36:18.276677Z",
     "iopub.status.busy": "2023-06-07T09:36:18.276137Z",
     "iopub.status.idle": "2023-06-07T09:36:24.783644Z",
     "shell.execute_reply": "2023-06-07T09:36:24.783115Z"
    },
    "papermill": {
     "duration": 6.527591,
     "end_time": "2023-06-07T09:36:24.786857",
     "exception": false,
     "start_time": "2023-06-07T09:36:18.259266",
     "status": "completed"
    },
    "tags": []
   },
   "outputs": [],
   "source": [
    "# Importing packages\n",
    "import os\n",
    "import pandas as pd\n",
    "from qiime2 import Artifact\n",
    "from qiime2 import Visualization\n",
    "from qiime2 import Metadata\n",
    "\n",
    "from qiime2.plugins.phylogeny.pipelines import align_to_tree_mafft_fasttree\n",
    "\n",
    "from qiime2.plugins.diversity.pipelines import alpha\n",
    "from qiime2.plugins.diversity.pipelines import beta\n",
    "from qiime2.plugins.diversity.pipelines import core_metrics\n",
    "from qiime2.plugins.diversity.pipelines import alpha_phylogenetic\n",
    "\n",
    "from qiime2.plugins.diversity.visualizers import alpha_group_significance\n",
    "from qiime2.plugins.diversity.visualizers import beta_group_significance\n",
    "from qiime2.plugins.diversity.visualizers import alpha_correlation\n",
    "from qiime2.plugins.diversity.visualizers import beta_rarefaction\n",
    "\n",
    "from qiime2.plugins.taxa.methods import filter_table\n",
    "from qiime2.plugins.taxa.methods import collapse\n",
    "\n",
    "from qiime2.plugins.feature_table.visualizers import tabulate_seqs\n",
    "from qiime2.plugins.feature_table.visualizers import summarize\n",
    "from qiime2.plugins.feature_table.visualizers import core_features\n",
    "\n",
    "from qiime2.plugins.alignment.methods import mafft\n",
    "\n",
    "\n",
    "import matplotlib.pyplot as plt\n",
    "\n",
    "%matplotlib inline"
   ]
  },
  {
   "cell_type": "markdown",
   "id": "530ceb60",
   "metadata": {
    "papermill": {
     "duration": 0.085476,
     "end_time": "2023-06-07T09:36:24.895409",
     "exception": false,
     "start_time": "2023-06-07T09:36:24.809933",
     "status": "completed"
    },
    "tags": []
   },
   "source": [
    "### Receiving the parameters\n",
    "\n",
    "The following cell can receive parameters using the [papermill](https://papermill.readthedocs.io/en/latest/) tool."
   ]
  },
  {
   "cell_type": "code",
   "execution_count": 2,
   "id": "18d874ea",
   "metadata": {
    "ExecuteTime": {
     "end_time": "2022-09-29T20:54:14.793270Z",
     "start_time": "2022-09-29T20:54:14.789367Z"
    },
    "execution": {
     "iopub.execute_input": "2023-06-07T09:36:24.952850Z",
     "iopub.status.busy": "2023-06-07T09:36:24.952634Z",
     "iopub.status.idle": "2023-06-07T09:36:24.956054Z",
     "shell.execute_reply": "2023-06-07T09:36:24.955385Z"
    },
    "papermill": {
     "duration": 0.020693,
     "end_time": "2023-06-07T09:36:24.957567",
     "exception": false,
     "start_time": "2023-06-07T09:36:24.936874",
     "status": "completed"
    },
    "tags": [
     "parameters"
    ]
   },
   "outputs": [],
   "source": [
    "base_dir = os.path.join('/', 'home')\n",
    "metadata_file = os.path.abspath(os.path.join(base_dir, 'data', 'metadatada.tsv'))\n",
    "experiment_name = ''\n",
    "class_col = ''\n",
    "replace_files = False"
   ]
  },
  {
   "cell_type": "code",
   "execution_count": 3,
   "id": "dc30c59d",
   "metadata": {
    "execution": {
     "iopub.execute_input": "2023-06-07T09:36:24.988520Z",
     "iopub.status.busy": "2023-06-07T09:36:24.988278Z",
     "iopub.status.idle": "2023-06-07T09:36:24.993307Z",
     "shell.execute_reply": "2023-06-07T09:36:24.992555Z"
    },
    "papermill": {
     "duration": 0.022284,
     "end_time": "2023-06-07T09:36:24.994829",
     "exception": false,
     "start_time": "2023-06-07T09:36:24.972545",
     "status": "completed"
    },
    "tags": [
     "injected-parameters"
    ]
   },
   "outputs": [],
   "source": [
    "# Parameters\n",
    "experiment_name = \"ana-flavia-STD-NRxHSD-NR-trim\"\n",
    "base_dir = \"/home/lauro/nupeb/rede-micro/redemicro-ana-flavia-nutri\"\n",
    "manifest_file = \"/home/lauro/nupeb/rede-micro/redemicro-ana-flavia-nutri/data/raw/manifest/manifest-ana-flavia-STD-NRxHSD-NR.csv\"\n",
    "metadata_file = \"/home/lauro/nupeb/rede-micro/redemicro-ana-flavia-nutri/data/raw/metadata/metadata-ana-flavia-STD-NRxHSD-NR.tsv\"\n",
    "class_col = \"group-id\"\n",
    "classifier_file = \"/home/lauro/nupeb/rede-micro/models/silva-138-99-nb-classifier.qza\"\n",
    "top_n = 20\n",
    "replace_files = False\n",
    "phred = 20\n",
    "trunc_f = 0\n",
    "trunc_r = 0\n",
    "overlap = 12\n",
    "threads = 6\n",
    "trim = {\n",
    "    \"overlap\": 8,\n",
    "    \"forward_primer\": \"CCTACGGGRSGCAGCAG\",\n",
    "    \"reverse_primer\": \"GGACTACHVGGGTWTCTAAT\",\n",
    "}\n"
   ]
  },
  {
   "cell_type": "code",
   "execution_count": 4,
   "id": "f38617d9",
   "metadata": {
    "ExecuteTime": {
     "end_time": "2022-09-29T20:54:14.804575Z",
     "start_time": "2022-09-29T20:54:14.794927Z"
    },
    "execution": {
     "iopub.execute_input": "2023-06-07T09:36:25.027421Z",
     "iopub.status.busy": "2023-06-07T09:36:25.027177Z",
     "iopub.status.idle": "2023-06-07T09:36:25.031645Z",
     "shell.execute_reply": "2023-06-07T09:36:25.030742Z"
    },
    "papermill": {
     "duration": 0.022363,
     "end_time": "2023-06-07T09:36:25.033403",
     "exception": false,
     "start_time": "2023-06-07T09:36:25.011040",
     "status": "completed"
    },
    "tags": []
   },
   "outputs": [],
   "source": [
    "experiment_folder = os.path.abspath(os.path.join(base_dir, 'experiments', experiment_name))\n",
    "img_folder = os.path.abspath(os.path.join(experiment_folder, 'imgs'))"
   ]
  },
  {
   "cell_type": "markdown",
   "id": "ea9b90fb",
   "metadata": {
    "papermill": {
     "duration": 0.015207,
     "end_time": "2023-06-07T09:36:25.064037",
     "exception": false,
     "start_time": "2023-06-07T09:36:25.048830",
     "status": "completed"
    },
    "tags": []
   },
   "source": [
    "### Defining names, paths and flags"
   ]
  },
  {
   "cell_type": "code",
   "execution_count": 5,
   "id": "45727eef",
   "metadata": {
    "ExecuteTime": {
     "end_time": "2022-09-29T20:54:14.816686Z",
     "start_time": "2022-09-29T20:54:14.806238Z"
    },
    "execution": {
     "iopub.execute_input": "2023-06-07T09:36:25.096082Z",
     "iopub.status.busy": "2023-06-07T09:36:25.095489Z",
     "iopub.status.idle": "2023-06-07T09:36:25.114771Z",
     "shell.execute_reply": "2023-06-07T09:36:25.114336Z"
    },
    "papermill": {
     "duration": 0.037616,
     "end_time": "2023-06-07T09:36:25.116861",
     "exception": false,
     "start_time": "2023-06-07T09:36:25.079245",
     "status": "completed"
    },
    "tags": []
   },
   "outputs": [
    {
     "name": "stdout",
     "output_type": "stream",
     "text": [
      "The new directory is created in /home/lauro/nupeb/rede-micro/redemicro-ana-flavia-nutri/experiments/ana-flavia-STD-NRxHSD-NR-trim/qiime-artifacts/alpha-analysis\n",
      "The new directory is created in /home/lauro/nupeb/rede-micro/redemicro-ana-flavia-nutri/experiments/ana-flavia-STD-NRxHSD-NR-trim/qiime-artifacts/beta-analysis\n"
     ]
    }
   ],
   "source": [
    "# QIIME2 Artifacts folder\n",
    "qiime_folder = os.path.join(experiment_folder, 'qiime-artifacts')\n",
    "\n",
    "# Input - DADA2 Artifacts\n",
    "dada2_tabs_path = os.path.join(qiime_folder, 'dada2-tabs.qza')\n",
    "dada2_reps_path = os.path.join(qiime_folder, 'dada2-reps.qza')\n",
    "dada2_stat_path = os.path.join(qiime_folder, 'dada2-stat.qza')\n",
    "\n",
    "# Input - Taxonaomic Artifacts\n",
    "taxonomy_path = os.path.join(qiime_folder, 'metatax.qza')\n",
    "\n",
    "# Create folder to store Alpha files\n",
    "alpha_path = os.path.join(qiime_folder, 'alpha-analysis')\n",
    "if not os.path.exists(alpha_path):\n",
    "    os.makedirs(alpha_path)\n",
    "    print(f'The new directory is created in {alpha_path}')\n",
    "    \n",
    "# Create folder to store Beta files\n",
    "beta_path = os.path.join(qiime_folder, 'beta-analysis')\n",
    "if not os.path.exists(beta_path):\n",
    "    os.makedirs(beta_path)\n",
    "    print(f'The new directory is created in {beta_path}')\n",
    "\n",
    "# Output -Diversity Artifacts\n",
    "alpha_diversity_path = os.path.join(alpha_path, 'alpha-diversity.qza')\n",
    "alpha_diversity_view_path = os.path.join(alpha_path, 'alpha-diversity.qzv')\n",
    "beta_diversity_path = os.path.join(beta_path, 'beta-diversity.qza')\n",
    "beta_diversity_view_path = os.path.join(beta_path, 'beta-diversity.qzv')"
   ]
  },
  {
   "cell_type": "code",
   "execution_count": 6,
   "id": "601ae263",
   "metadata": {
    "ExecuteTime": {
     "end_time": "2022-09-29T20:54:14.829117Z",
     "start_time": "2022-09-29T20:54:14.818272Z"
    },
    "execution": {
     "iopub.execute_input": "2023-06-07T09:36:25.154091Z",
     "iopub.status.busy": "2023-06-07T09:36:25.153951Z",
     "iopub.status.idle": "2023-06-07T09:36:25.159307Z",
     "shell.execute_reply": "2023-06-07T09:36:25.158661Z"
    },
    "papermill": {
     "duration": 0.023291,
     "end_time": "2023-06-07T09:36:25.160806",
     "exception": false,
     "start_time": "2023-06-07T09:36:25.137515",
     "status": "completed"
    },
    "tags": []
   },
   "outputs": [],
   "source": [
    "def filter_and_collapse(tab, seqs, tax, meta, lvl, exclude=True, exclude_list='uncultured,unidentified,metagenome'):\n",
    "    from qiime2.plugins.taxa.methods import collapse\n",
    "    from qiime2.plugins.taxa.methods import filter_table\n",
    "    from qiime2.plugins.feature_table.methods import filter_seqs\n",
    "    from qiime2.plugins.feature_table.visualizers import summarize\n",
    "    \n",
    "    to_include = ('d', 'p', 'c', 'o', 'f', 'g', 's')[lvl-1]\n",
    "    to_include += '__'\n",
    "    to_exclude = exclude_list if exclude else None\n",
    "    \n",
    "    filtered_tabs = filter_table(\n",
    "        table=tab, \n",
    "        taxonomy=tax,\n",
    "        include=to_include,\n",
    "        exclude=to_exclude,\n",
    "        mode='contains').filtered_table\n",
    "    \n",
    "    filtered_seqs = filter_seqs(\n",
    "        data = seqs,\n",
    "        table = filtered_tabs,\n",
    "    ).filtered_data\n",
    "    \n",
    "    collapsed_table = collapse(table=filtered_tabs, taxonomy=tax, level=lvl).collapsed_table\n",
    "    collapsed_table_view = summarize(table=collapsed_table, sample_metadata=meta).visualization\n",
    "    \n",
    "    return collapsed_table, collapsed_table_view, filtered_seqs"
   ]
  },
  {
   "cell_type": "markdown",
   "id": "0999a1b2",
   "metadata": {
    "papermill": {
     "duration": 0.015623,
     "end_time": "2023-06-07T09:36:25.193519",
     "exception": false,
     "start_time": "2023-06-07T09:36:25.177896",
     "status": "completed"
    },
    "tags": []
   },
   "source": [
    "## Step execution\n",
    "\n",
    "### Load input files\n",
    "\n",
    "This Step import the QIIME2 `FeatureTable[Frequency]` Artifact and the `Metadata` file."
   ]
  },
  {
   "cell_type": "code",
   "execution_count": 7,
   "id": "8f299d1a",
   "metadata": {
    "ExecuteTime": {
     "end_time": "2022-09-29T20:54:15.559837Z",
     "start_time": "2022-09-29T20:54:14.830405Z"
    },
    "execution": {
     "iopub.execute_input": "2023-06-07T09:36:25.226136Z",
     "iopub.status.busy": "2023-06-07T09:36:25.225901Z",
     "iopub.status.idle": "2023-06-07T09:36:25.944706Z",
     "shell.execute_reply": "2023-06-07T09:36:25.943958Z"
    },
    "papermill": {
     "duration": 0.738032,
     "end_time": "2023-06-07T09:36:25.947427",
     "exception": false,
     "start_time": "2023-06-07T09:36:25.209395",
     "status": "completed"
    },
    "tags": []
   },
   "outputs": [],
   "source": [
    "#Load Metadata\n",
    "metadata_qa = Metadata.load(metadata_file)\n",
    "\n",
    "#Load FeatureTable[Frequency]\n",
    "tabs = Artifact.load(dada2_tabs_path)\n",
    "tabs_df = tabs.view(Metadata).to_dataframe().T\n",
    "\n",
    "# FeatureData[Sequence]\n",
    "reps = Artifact.load(dada2_reps_path)\n",
    "\n",
    "# FeatureData[Taxonomy]\n",
    "tax = Artifact.load(taxonomy_path)"
   ]
  },
  {
   "cell_type": "code",
   "execution_count": 8,
   "id": "c8dfe530",
   "metadata": {
    "ExecuteTime": {
     "end_time": "2022-09-29T20:54:15.564968Z",
     "start_time": "2022-09-29T20:54:15.561875Z"
    },
    "execution": {
     "iopub.execute_input": "2023-06-07T09:36:25.988212Z",
     "iopub.status.busy": "2023-06-07T09:36:25.987923Z",
     "iopub.status.idle": "2023-06-07T09:36:25.991632Z",
     "shell.execute_reply": "2023-06-07T09:36:25.990953Z"
    },
    "papermill": {
     "duration": 0.023066,
     "end_time": "2023-06-07T09:36:25.993226",
     "exception": false,
     "start_time": "2023-06-07T09:36:25.970160",
     "status": "completed"
    },
    "tags": []
   },
   "outputs": [],
   "source": [
    "# lvl = 7\n",
    "# exclude = True\n",
    "# tabs, collapsed_table_view, reps = filter_and_collapse(\n",
    "#                     tabs, reps, tax, metadata_qa, \n",
    "#                     lvl=lvl,\n",
    "#                     exclude=exclude, \n",
    "#                     exclude_list='uncultured,unidentified,metagenome')\n",
    "# collapsed_table_view"
   ]
  },
  {
   "cell_type": "markdown",
   "id": "9f43843a",
   "metadata": {
    "ExecuteTime": {
     "end_time": "2022-09-22T22:48:07.523952Z",
     "start_time": "2022-09-22T22:48:07.517565Z"
    },
    "papermill": {
     "duration": 0.01616,
     "end_time": "2023-06-07T09:36:26.025785",
     "exception": false,
     "start_time": "2023-06-07T09:36:26.009625",
     "status": "completed"
    },
    "tags": []
   },
   "source": [
    "## Alpha diversity analysis\n",
    "\n",
    "#### Reference\n",
    "- [The Use and Types of Alpha-Diversity Metrics in Microbial NGS](https://www.cd-genomics.com/microbioseq/the-use-and-types-of-alpha-diversity-metrics-in-microbial-ngs.html)\n",
    "- [Alpha diversity metrics](http://scikit-bio.org/docs/0.2.0/generated/skbio.diversity.alpha.html)\n",
    "\n",
    "#### Methods\n",
    "- [diversity alpha](https://docs.qiime2.org/2022.8/plugins/available/diversity/alpha/): Computes a user-specified alpha diversity metric for all samples in a\n",
    "feature table.\n",
    "- [diversity alpha_phylogenetic](https://docs.qiime2.org/2022.8/plugins/available/diversity/alpha-phylogenetic/): Computes a user-specified phylogenetic alpha diversity metric for all\n",
    "samples in a feature table.\n",
    "- [diversity alpha_correlation](https://docs.qiime2.org/2022.8/plugins/available/diversity/alpha-correlation/): Determine whether numeric sample metadata columns are correlated with alpha diversity.\n",
    "- [diversity alpha_group_significance](https://docs.qiime2.org/2022.8/plugins/available/diversity/alpha-group-significance/): Visually and statistically compare groups of alpha diversity values."
   ]
  },
  {
   "cell_type": "markdown",
   "id": "606b9c75",
   "metadata": {
    "papermill": {
     "duration": 0.016112,
     "end_time": "2023-06-07T09:36:26.058084",
     "exception": false,
     "start_time": "2023-06-07T09:36:26.041972",
     "status": "completed"
    },
    "tags": []
   },
   "source": [
    "### Compute Alpha Diversity vectors\n",
    "- [diversity alpha](https://docs.qiime2.org/2022.8/plugins/available/diversity/alpha/): Computes a user-specified alpha diversity metric for all samples in a feature table.\n",
    "- [Alpha diversity metrics](http://scikit-bio.org/docs/0.2.0/generated/skbio.diversity.alpha.html)\n",
    " - Choices: ('ace', 'berger_parker_d', 'brillouin_d', 'chao1', 'chao1_ci', 'dominance', 'doubles', 'enspie', 'esty_ci', 'fisher_alpha', 'gini_index', 'goods_coverage', 'heip_e', 'kempton_taylor_q', 'lladser_pe', 'margalef', 'mcintosh_d', 'mcintosh_e', 'menhinick', 'michaelis_menten_fit', 'observed_features', 'osd', 'pielou_e', 'robbins', 'shannon', 'simpson', 'simpson_e', 'singles', 'strong')"
   ]
  },
  {
   "cell_type": "code",
   "execution_count": 9,
   "id": "556e5264",
   "metadata": {
    "ExecuteTime": {
     "end_time": "2022-09-29T20:54:20.790166Z",
     "start_time": "2022-09-29T20:54:20.451134Z"
    },
    "execution": {
     "iopub.execute_input": "2023-06-07T09:36:26.091571Z",
     "iopub.status.busy": "2023-06-07T09:36:26.091145Z",
     "iopub.status.idle": "2023-06-07T10:41:21.269870Z",
     "shell.execute_reply": "2023-06-07T10:41:21.269293Z"
    },
    "papermill": {
     "duration": 3895.198897,
     "end_time": "2023-06-07T10:41:21.272954",
     "exception": false,
     "start_time": "2023-06-07T09:36:26.074057",
     "status": "completed"
    },
    "tags": []
   },
   "outputs": [
    {
     "name": "stdout",
     "output_type": "stream",
     "text": [
      "Calculating alpha diversity: ace\n",
      "DONE: Calculating alpha diversity: ace\n",
      "Calculating alpha diversity: berger_parker_d\n",
      "DONE: Calculating alpha diversity: berger_parker_d\n",
      "Calculating alpha diversity: brillouin_d\n",
      "DONE: Calculating alpha diversity: brillouin_d\n",
      "Calculating alpha diversity: chao1\n"
     ]
    },
    {
     "name": "stdout",
     "output_type": "stream",
     "text": [
      "DONE: Calculating alpha diversity: chao1\n",
      "Calculating alpha diversity: chao1_ci\n",
      "DONE: Calculating alpha diversity: chao1_ci\n",
      "Calculating alpha diversity: dominance\n",
      "DONE: Calculating alpha diversity: dominance\n",
      "Calculating alpha diversity: doubles\n",
      "DONE: Calculating alpha diversity: doubles\n",
      "Calculating alpha diversity: enspie\n"
     ]
    },
    {
     "name": "stdout",
     "output_type": "stream",
     "text": [
      "DONE: Calculating alpha diversity: enspie\n",
      "Calculating alpha diversity: esty_ci\n",
      "DONE: Calculating alpha diversity: esty_ci\n",
      "Calculating alpha diversity: fisher_alpha\n",
      "DONE: Calculating alpha diversity: fisher_alpha\n",
      "Calculating alpha diversity: gini_index\n",
      "DONE: Calculating alpha diversity: gini_index\n",
      "Calculating alpha diversity: goods_coverage\n"
     ]
    },
    {
     "name": "stdout",
     "output_type": "stream",
     "text": [
      "DONE: Calculating alpha diversity: goods_coverage\n",
      "Calculating alpha diversity: heip_e\n",
      "DONE: Calculating alpha diversity: heip_e\n",
      "Calculating alpha diversity: kempton_taylor_q\n",
      "DONE: Calculating alpha diversity: kempton_taylor_q\n",
      "Calculating alpha diversity: lladser_pe\n"
     ]
    },
    {
     "name": "stderr",
     "output_type": "stream",
     "text": [
      "/home/lauro/anaconda3/envs/qiime2-2022.2/lib/python3.8/site-packages/skbio/diversity/alpha/_base.py:440: RuntimeWarning: divide by zero encountered in long_scalars\n",
      "  return (upper - lower) / np.log(sorted_counts[upper] /\n",
      "/home/lauro/anaconda3/envs/qiime2-2022.2/lib/python3.8/site-packages/skbio/diversity/alpha/_base.py:440: RuntimeWarning: invalid value encountered in long_scalars\n",
      "  return (upper - lower) / np.log(sorted_counts[upper] /\n"
     ]
    },
    {
     "name": "stdout",
     "output_type": "stream",
     "text": [
      "DONE: Calculating alpha diversity: lladser_pe\n",
      "Calculating alpha diversity: margalef\n",
      "DONE: Calculating alpha diversity: margalef\n",
      "Calculating alpha diversity: mcintosh_d\n",
      "DONE: Calculating alpha diversity: mcintosh_d\n",
      "Calculating alpha diversity: mcintosh_e\n",
      "DONE: Calculating alpha diversity: mcintosh_e\n",
      "Calculating alpha diversity: menhinick\n"
     ]
    },
    {
     "name": "stdout",
     "output_type": "stream",
     "text": [
      "DONE: Calculating alpha diversity: menhinick\n",
      "Calculating alpha diversity: michaelis_menten_fit\n"
     ]
    },
    {
     "name": "stdout",
     "output_type": "stream",
     "text": [
      "DONE: Calculating alpha diversity: michaelis_menten_fit\n",
      "Calculating alpha diversity: observed_features\n",
      "DONE: Calculating alpha diversity: observed_features\n",
      "Calculating alpha diversity: osd\n",
      "DONE: Calculating alpha diversity: osd\n",
      "Calculating alpha diversity: pielou_e\n",
      "DONE: Calculating alpha diversity: pielou_e\n",
      "Calculating alpha diversity: robbins\n"
     ]
    },
    {
     "name": "stdout",
     "output_type": "stream",
     "text": [
      "DONE: Calculating alpha diversity: robbins\n",
      "Calculating alpha diversity: shannon\n",
      "DONE: Calculating alpha diversity: shannon\n",
      "Calculating alpha diversity: simpson\n",
      "DONE: Calculating alpha diversity: simpson\n",
      "Calculating alpha diversity: simpson_e\n",
      "DONE: Calculating alpha diversity: simpson_e\n",
      "Calculating alpha diversity: singles\n"
     ]
    },
    {
     "name": "stdout",
     "output_type": "stream",
     "text": [
      "DONE: Calculating alpha diversity: singles\n",
      "Calculating alpha diversity: strong\n",
      "DONE: Calculating alpha diversity: strong\n"
     ]
    }
   ],
   "source": [
    "metrics = ('ace', 'berger_parker_d', 'brillouin_d', 'chao1', 'chao1_ci', 'dominance', 'doubles', 'enspie', 'esty_ci', 'fisher_alpha', 'gini_index', 'goods_coverage', 'heip_e', 'kempton_taylor_q', 'lladser_pe', 'margalef', 'mcintosh_d', 'mcintosh_e', 'menhinick', 'michaelis_menten_fit', 'observed_features', 'osd', 'pielou_e', 'robbins', 'shannon', 'simpson', 'simpson_e', 'singles', 'strong')\n",
    "alpha_diversities = dict()\n",
    "for metric in metrics:\n",
    "    print(f\"Calculating alpha diversity: {metric}\")\n",
    "    try:\n",
    "        alpha_diversity = alpha(table=tabs, metric=metric).alpha_diversity\n",
    "        alpha_diversities[metric] = alpha_diversity\n",
    "        # Save SampleData[AlphaDiversity] Artifact\n",
    "        file_path = os.path.join(alpha_path, f'alpha-values-{metric}.qza')\n",
    "        alpha_diversity.save(file_path)\n",
    "        print(f\"DONE: Calculating alpha diversity: {metric}\")\n",
    "    except Exception as e:\n",
    "        print(f\"ERROR: Calculating alpha diversity: {metric}\")\n",
    "        print(e)"
   ]
  },
  {
   "cell_type": "markdown",
   "id": "184bcb7b",
   "metadata": {
    "papermill": {
     "duration": 0.018797,
     "end_time": "2023-06-07T10:41:21.316969",
     "exception": false,
     "start_time": "2023-06-07T10:41:21.298172",
     "status": "completed"
    },
    "tags": []
   },
   "source": [
    "### Create Phylogenetic inference\n",
    "\n",
    "- [alignment align_to_tree_mafft_fasttree](https://docs.qiime2.org/2022.8/plugins/available/phylogeny/align-to-tree-mafft-fasttree/): Build a phylogenetic tree using fasttree and mafft alignment\n",
    "\n",
    "This pipeline will start by creating a sequence alignment using MAFFT,\n",
    "after which any alignment columns that are phylogenetically uninformative\n",
    "or ambiguously aligned will be removed (masked). The resulting masked\n",
    "alignment will be used to infer a phylogenetic tree and then subsequently\n",
    "rooted at its midpoint. Output files from each step of the pipeline will be\n",
    "saved. This includes both the unmasked and masked MAFFT alignment from\n",
    "q2-alignment methods, and both the rooted and unrooted phylogenies from\n",
    "q2-phylogeny methods.\n",
    "\n",
    "\n",
    "Returns\n",
    "- alignment : FeatureData[AlignedSequence] : The aligned sequences.\n",
    "- masked_alignment : FeatureData[AlignedSequence] : The masked alignment.\n",
    "- tree : Phylogeny[Unrooted] : The unrooted phylogenetic tree.\n",
    "- rooted_tree : Phylogeny[Rooted] : The rooted phylogenetic tree."
   ]
  },
  {
   "cell_type": "code",
   "execution_count": 10,
   "id": "9c8cfe47",
   "metadata": {
    "ExecuteTime": {
     "end_time": "2022-09-29T20:54:35.139531Z",
     "start_time": "2022-09-29T20:54:20.792130Z"
    },
    "execution": {
     "iopub.execute_input": "2023-06-07T10:41:21.369677Z",
     "iopub.status.busy": "2023-06-07T10:41:21.369421Z",
     "iopub.status.idle": "2023-06-07T10:41:39.812154Z",
     "shell.execute_reply": "2023-06-07T10:41:39.811236Z"
    },
    "papermill": {
     "duration": 18.471165,
     "end_time": "2023-06-07T10:41:39.814559",
     "exception": false,
     "start_time": "2023-06-07T10:41:21.343394",
     "status": "completed"
    },
    "tags": []
   },
   "outputs": [
    {
     "name": "stdout",
     "output_type": "stream",
     "text": [
      "Running external command line application. This may print messages to stdout and/or stderr.\n",
      "The command being run is below. This command cannot be manually re-run as it will depend on temporary files that no longer exist.\n",
      "\n",
      "Command: mafft --preservecase --inputorder --thread 6 /tmp/qiime2-archive-o5_bdi6g/1153ce59-b693-42dd-a38e-205d300d79f8/data/dna-sequences.fasta\n",
      "\n"
     ]
    },
    {
     "name": "stderr",
     "output_type": "stream",
     "text": [
      "inputfile = orig\n",
      "1161 x 430 - 388 d\n",
      "nthread = 6\n",
      "nthreadpair = 6\n",
      "nthreadtb = 6\n",
      "ppenalty_ex = 0\n",
      "stacksize: 8192 kb\n",
      "generating a scoring matrix for nucleotide (dist=200) ... done\n",
      "Gap Penalty = -1.53, +0.00, +0.00\n",
      "\n",
      "\n",
      "\n",
      "Making a distance matrix ..\n",
      "\r",
      "    1 / 1161 (thread    0)\r",
      "  101 / 1161 (thread    3)\r",
      "  201 / 1161 (thread    2)\r",
      "  301 / 1161 (thread    1)\r",
      "  401 / 1161 (thread    0)\r",
      "  501 / 1161 (thread    0)\r",
      "  601 / 1161 (thread    0)"
     ]
    },
    {
     "name": "stderr",
     "output_type": "stream",
     "text": [
      "\r",
      "  701 / 1161 (thread    4)\r",
      "  801 / 1161 (thread    4)\r",
      "  901 / 1161 (thread    0)\r",
      " 1001 / 1161 (thread    2)\r",
      " 1101 / 1161 (thread    4)\n",
      "done.\n",
      "\n",
      "Constructing a UPGMA tree (efffree=0) ... \n",
      "\r",
      "    0 / 1161\r",
      "   10 / 1161\r",
      "   20 / 1161\r",
      "   30 / 1161\r",
      "   40 / 1161\r",
      "   50 / 1161\r",
      "   60 / 1161\r",
      "   70 / 1161\r",
      "   80 / 1161\r",
      "   90 / 1161\r",
      "  100 / 1161\r",
      "  110 / 1161\r",
      "  120 / 1161\r",
      "  130 / 1161\r",
      "  140 / 1161\r",
      "  150 / 1161\r",
      "  160 / 1161\r",
      "  170 / 1161\r",
      "  180 / 1161\r",
      "  190 / 1161\r",
      "  200 / 1161\r",
      "  210 / 1161\r",
      "  220 / 1161\r",
      "  230 / 1161\r",
      "  240 / 1161\r",
      "  250 / 1161\r",
      "  260 / 1161\r",
      "  270 / 1161\r",
      "  280 / 1161\r",
      "  290 / 1161\r",
      "  300 / 1161\r",
      "  310 / 1161\r",
      "  320 / 1161\r",
      "  330 / 1161\r",
      "  340 / 1161\r",
      "  350 / 1161\r",
      "  360 / 1161\r",
      "  370 / 1161\r",
      "  380 / 1161\r",
      "  390 / 1161\r",
      "  400 / 1161\r",
      "  410 / 1161\r",
      "  420 / 1161\r",
      "  430 / 1161\r",
      "  440 / 1161\r",
      "  450 / 1161\r",
      "  460 / 1161\r",
      "  470 / 1161\r",
      "  480 / 1161\r",
      "  490 / 1161\r",
      "  500 / 1161\r",
      "  510 / 1161\r",
      "  520 / 1161\r",
      "  530 / 1161\r",
      "  540 / 1161\r",
      "  550 / 1161\r",
      "  560 / 1161\r",
      "  570 / 1161\r",
      "  580 / 1161\r",
      "  590 / 1161\r",
      "  600 / 1161\r",
      "  610 / 1161\r",
      "  620 / 1161\r",
      "  630 / 1161\r",
      "  640 / 1161\r",
      "  650 / 1161\r",
      "  660 / 1161\r",
      "  670 / 1161\r",
      "  680 / 1161\r",
      "  690 / 1161\r",
      "  700 / 1161\r",
      "  710 / 1161\r",
      "  720 / 1161\r",
      "  730 / 1161\r",
      "  740 / 1161\r",
      "  750 / 1161\r",
      "  760 / 1161\r",
      "  770 / 1161\r",
      "  780 / 1161\r",
      "  790 / 1161\r",
      "  800 / 1161\r",
      "  810 / 1161\r",
      "  820 / 1161\r",
      "  830 / 1161\r",
      "  840 / 1161\r",
      "  850 / 1161\r",
      "  860 / 1161\r",
      "  870 / 1161\r",
      "  880 / 1161\r",
      "  890 / 1161\r",
      "  900 / 1161\r",
      "  910 / 1161\r",
      "  920 / 1161\r",
      "  930 / 1161\r",
      "  940 / 1161\r",
      "  950 / 1161\r",
      "  960 / 1161\r",
      "  970 / 1161\r",
      "  980 / 1161\r",
      "  990 / 1161\r",
      " 1000 / 1161\r",
      " 1010 / 1161\r",
      " 1020 / 1161\r",
      " 1030 / 1161\r",
      " 1040 / 1161\r",
      " 1050 / 1161\r",
      " 1060 / 1161\r",
      " 1070 / 1161\r",
      " 1080 / 1161\r",
      " 1090 / 1161\r",
      " 1100 / 1161\r",
      " 1110 / 1161\r",
      " 1120 / 1161\r",
      " 1130 / 1161\r",
      " 1140 / 1161\r",
      " 1150 / 1161\n",
      "done.\n",
      "\n",
      "Progressive alignment 1/2... \n",
      "\r",
      "STEP     1 / 1160 (thread    1) f\b\b\r",
      "STEP     2 / 1160 (thread    3) f\b\b\r",
      "STEP     4 / 1160 (thread    2) f\b\b\r",
      "STEP     3 / 1160 (thread    0) f\b\b\r",
      "STEP     6 / 1160 (thread    5) f\b\b\r",
      "STEP     5 / 1160 (thread    4) f\b\b\r",
      "STEP     7 / 1160 (thread    5) f\b\b\r",
      "STEP     8 / 1160 (thread    5) f\b\b\r",
      "STEP     9 / 1160 (thread    0) f\b\b\r",
      "STEP    10 / 1160 (thread    2) f\b\b\r",
      "STEP    11 / 1160 (thread    1) f\b\b\r",
      "STEP    12 / 1160 (thread    4) f\b\b\r",
      "STEP    13 / 1160 (thread    3) f\b\b\r",
      "STEP    14 / 1160 (thread    5) f\b\b\r",
      "STEP    15 / 1160 (thread    2) f\b\b\r",
      "STEP    16 / 1160 (thread    0) f\b\b\r",
      "STEP    17 / 1160 (thread    3) f\b\b\r",
      "STEP    18 / 1160 (thread    4) f\b\b\r",
      "STEP    19 / 1160 (thread    1) f\b\b\r",
      "STEP    20 / 1160 (thread    5) f\b\b\r",
      "STEP    21 / 1160 (thread    2) f\b\b\r",
      "STEP    22 / 1160 (thread    0) f\b\b\r",
      "STEP    23 / 1160 (thread    3) f\b\b\r",
      "STEP    24 / 1160 (thread    4) f\b\b\r",
      "STEP    25 / 1160 (thread    1) f\b\b\r",
      "STEP    26 / 1160 (thread    2) f\b\b\r",
      "STEP    27 / 1160 (thread    5) f\b\b\r",
      "STEP    28 / 1160 (thread    3) f\b\b\r",
      "STEP    29 / 1160 (thread    0) f\b\b\r",
      "STEP    30 / 1160 (thread    4) f\b\b\r",
      "STEP    31 / 1160 (thread    2) f\b\b\r",
      "STEP    32 / 1160 (thread    1) f\b\b\r",
      "STEP    33 / 1160 (thread    5) f\b\b\r",
      "STEP    34 / 1160 (thread    3) f\b\b\r",
      "STEP    35 / 1160 (thread    2) f\b\b\r",
      "STEP    36 / 1160 (thread    4) f\b\b\r",
      "STEP    37 / 1160 (thread    0) f\b\b\r",
      "STEP    38 / 1160 (thread    3) f\b\b\r",
      "STEP    39 / 1160 (thread    5) f\b\b\r",
      "STEP    40 / 1160 (thread    2) f\b\b\r",
      "STEP    41 / 1160 (thread    1) f\b\b\r",
      "STEP    42 / 1160 (thread    4) f\b\b\r",
      "STEP    43 / 1160 (thread    3) f\b\b\r",
      "STEP    44 / 1160 (thread    5) f\b\b\r",
      "STEP    45 / 1160 (thread    2) f\b\b\r",
      "STEP    46 / 1160 (thread    0) f\b\b\r",
      "STEP    47 / 1160 (thread    3) f\b\b\r",
      "STEP    48 / 1160 (thread    4) f\b\b\r",
      "STEP    49 / 1160 (thread    1) f\b\b\r",
      "STEP    50 / 1160 (thread    2) f\b\b\r",
      "STEP    51 / 1160 (thread    5) f\b\b\r",
      "STEP    52 / 1160 (thread    3) f\b\b\r",
      "STEP    54 / 1160 (thread    4) f\b\b\r",
      "STEP    55 / 1160 (thread    2) f\b\b\r",
      "STEP    56 / 1160 (thread    1) f\b\b\r",
      "STEP    57 / 1160 (thread    3) f\b\b\r",
      "STEP    58 / 1160 (thread    5) f\b\b\r",
      "STEP    53 / 1160 (thread    0) f\b\b\r",
      "STEP    59 / 1160 (thread    2) f\b\b\r",
      "STEP    60 / 1160 (thread    1) f\b\b\r",
      "STEP    61 / 1160 (thread    3) f\b\b\r",
      "STEP    62 / 1160 (thread    5) f\b\b\r",
      "STEP    63 / 1160 (thread    2) f\b\b\r",
      "STEP    64 / 1160 (thread    3) f\b\b\r",
      "STEP    65 / 1160 (thread    1) f\b\b\r",
      "STEP    66 / 1160 (thread    4) f\b\b\r",
      "STEP    67 / 1160 (thread    2) f\b\b\r",
      "STEP    68 / 1160 (thread    5) f\b\b\r",
      "STEP    69 / 1160 (thread    3) f\b\b\r",
      "STEP    70 / 1160 (thread    0) f\b\b\r",
      "STEP    71 / 1160 (thread    2) f\b\b\r",
      "STEP    72 / 1160 (thread    1) f\b\b\r",
      "STEP    73 / 1160 (thread    4) f\b\b\r",
      "STEP    74 / 1160 (thread    5) f\b\b\r",
      "STEP    75 / 1160 (thread    3) f\b\b\r",
      "STEP    76 / 1160 (thread    2) f\b\b\r",
      "STEP    77 / 1160 (thread    0) f\b\b\r",
      "STEP    78 / 1160 (thread    1) f\b\b\r",
      "STEP    79 / 1160 (thread    3) f\b\b\r",
      "STEP    80 / 1160 (thread    4) f\b\b\r",
      "STEP    81 / 1160 (thread    5) f\b\b\r",
      "STEP    82 / 1160 (thread    2) f\b\b\r",
      "STEP    83 / 1160 (thread    0) f\b\b\r",
      "STEP    84 / 1160 (thread    1) f\b\b\r",
      "STEP    85 / 1160 (thread    2) f\b\b\r",
      "STEP    86 / 1160 (thread    3) f\b\b\r",
      "STEP    87 / 1160 (thread    5) f\b\b\r",
      "STEP    88 / 1160 (thread    2) f\b\b\r",
      "STEP    89 / 1160 (thread    0) f\b\b\r",
      "STEP    90 / 1160 (thread    1) f\b\b\r",
      "STEP    91 / 1160 (thread    4) f\b\b\r",
      "STEP    92 / 1160 (thread    3) f\b\b\r",
      "STEP    93 / 1160 (thread    2) f\b\b\r",
      "STEP    94 / 1160 (thread    5) f\b\b\r",
      "STEP    95 / 1160 (thread    0) f\b\b\r",
      "STEP    96 / 1160 (thread    4) f\b\b\r",
      "STEP    97 / 1160 (thread    1) f\b\b\r",
      "STEP    98 / 1160 (thread    3) f\b\b\r",
      "STEP    99 / 1160 (thread    2) f\b\b\r",
      "STEP   100 / 1160 (thread    5) f\b\b\r",
      "STEP   101 / 1160 (thread    3) f\b\b\r",
      "STEP   102 / 1160 (thread    2) f\b\b\r",
      "STEP   103 / 1160 (thread    4) f\b\b\r",
      "STEP   104 / 1160 (thread    0) f\b\b\r",
      "STEP   105 / 1160 (thread    1) f\b\b\r",
      "STEP   106 / 1160 (thread    5) f\b\b\r",
      "STEP   107 / 1160 (thread    3) f\b\b\r",
      "STEP   108 / 1160 (thread    2) f\b\b\r",
      "STEP   109 / 1160 (thread    4) f\b\b\r",
      "STEP   110 / 1160 (thread    0) f\b\b\r",
      "STEP   111 / 1160 (thread    1) f\b\b\r",
      "STEP   112 / 1160 (thread    3) f\b\b\r",
      "STEP   113 / 1160 (thread    2) f\b\b\r",
      "STEP   114 / 1160 (thread    5) f\b\b\r",
      "STEP   115 / 1160 (thread    4) f\b\b\r",
      "STEP   116 / 1160 (thread    0) f\b\b\r",
      "STEP   117 / 1160 (thread    1) f\b\b\r",
      "STEP   118 / 1160 (thread    3) f\b\b\r",
      "STEP   119 / 1160 (thread    2) f\b\b\r",
      "STEP   120 / 1160 (thread    5) f\b\b\r",
      "STEP   121 / 1160 (thread    4) f\b\b\r",
      "STEP   122 / 1160 (thread    3) f\b\b\r",
      "STEP   123 / 1160 (thread    2) f\b\b\r",
      "STEP   124 / 1160 (thread    0) f\b\b\r",
      "STEP   125 / 1160 (thread    1) f\b\b\r",
      "STEP   126 / 1160 (thread    3) f\b\b\r",
      "STEP   127 / 1160 (thread    2) f\b\b\r",
      "STEP   128 / 1160 (thread    4) f\b\b\r",
      "STEP   129 / 1160 (thread    5) f\b\b\r",
      "STEP   130 / 1160 (thread    0) f\b\b\r",
      "STEP   131 / 1160 (thread    3) f\b\b\r",
      "STEP   132 / 1160 (thread    2) f\b\b\r",
      "STEP   133 / 1160 (thread    1) f\b\b\r",
      "STEP   134 / 1160 (thread    4) f\b\b\r",
      "STEP   135 / 1160 (thread    5) f\b\b\r",
      "STEP   136 / 1160 (thread    0) f\b\b\r",
      "STEP   137 / 1160 (thread    3) f\b\b\r",
      "STEP   138 / 1160 (thread    2) f\b\b\r",
      "STEP   139 / 1160 (thread    4) f\b\b\r",
      "STEP   140 / 1160 (thread    3) f\b\b\r",
      "STEP   141 / 1160 (thread    1) f\b\b\r",
      "STEP   142 / 1160 (thread    5) f\b\b\r",
      "STEP   143 / 1160 (thread    2) f\b\b\r",
      "STEP   144 / 1160 (thread    0) f\b\b\r",
      "STEP   145 / 1160 (thread    2) f\b\b\r",
      "STEP   146 / 1160 (thread    3) f\b\b\r",
      "STEP   147 / 1160 (thread    0) f\b\b\r",
      "STEP   148 / 1160 (thread    4) f\b\b\r",
      "STEP   149 / 1160 (thread    2) f\b\b\r",
      "STEP   150 / 1160 (thread    3) f\b\b\r",
      "STEP   151 / 1160 (thread    1) f\b\b\r",
      "STEP   152 / 1160 (thread    5) f\b\b\r",
      "STEP   153 / 1160 (thread    0) f\b\b\r",
      "STEP   154 / 1160 (thread    4) f\b\b\r",
      "STEP   155 / 1160 (thread    5) f\b\b\r",
      "STEP   156 / 1160 (thread    1) f\b\b\r",
      "STEP   157 / 1160 (thread    2) f\b\b\r",
      "STEP   158 / 1160 (thread    3) f\b\b\r",
      "STEP   159 / 1160 (thread    4) f\b\b\r",
      "STEP   160 / 1160 (thread    0) f\b\b\r",
      "STEP   161 / 1160 (thread    3) f\b\b\r",
      "STEP   162 / 1160 (thread    1) f\b\b\r",
      "STEP   163 / 1160 (thread    4) f\b\b\r",
      "STEP   164 / 1160 (thread    2) f\b\b\r",
      "STEP   165 / 1160 (thread    5) f\b\b\r",
      "STEP   166 / 1160 (thread    0) f\b\b\r",
      "STEP   167 / 1160 (thread    2) f\b\b\r",
      "STEP   168 / 1160 (thread    4) f\b\b\r",
      "STEP   169 / 1160 (thread    3) f\b\b\r",
      "STEP   170 / 1160 (thread    5) f\b\b\r",
      "STEP   171 / 1160 (thread    0) f\b\b\r",
      "STEP   172 / 1160 (thread    3) f\b\b\r",
      "STEP   173 / 1160 (thread    5) f\b\b\r",
      "STEP   174 / 1160 (thread    4) f\b\b\r",
      "STEP   175 / 1160 (thread    1) f\b\b\r",
      "STEP   176 / 1160 (thread    0) f\b\b\r",
      "STEP   177 / 1160 (thread    2) f\b\b\r",
      "STEP   178 / 1160 (thread    3) f\b\b\r",
      "STEP   179 / 1160 (thread    2) f\b\b\r",
      "STEP   180 / 1160 (thread    5) f\b\b\r",
      "STEP   181 / 1160 (thread    3) f\b\b\r",
      "STEP   182 / 1160 (thread    0) f\b\b\r",
      "STEP   183 / 1160 (thread    2) f\b\b\r",
      "STEP   184 / 1160 (thread    3) f\b\b\r",
      "STEP   185 / 1160 (thread    4) f\b\b\r",
      "STEP   186 / 1160 (thread    1) f\b\b\r",
      "STEP   187 / 1160 (thread    5) f\b\b\r",
      "STEP   188 / 1160 (thread    0) f\b\b\r",
      "STEP   189 / 1160 (thread    2) f\b\b\r",
      "STEP   190 / 1160 (thread    3) f\b\b\r",
      "STEP   191 / 1160 (thread    4) f\b\b\r",
      "STEP   192 / 1160 (thread    1) f\b\b\r",
      "STEP   193 / 1160 (thread    2) f\b\b\r",
      "STEP   194 / 1160 (thread    0) f\b\b\r",
      "STEP   195 / 1160 (thread    4) f\b\b\r",
      "STEP   196 / 1160 (thread    3) f\b\b\r",
      "STEP   197 / 1160 (thread    5) f\b\b\r",
      "STEP   198 / 1160 (thread    2) f\b\b\r",
      "STEP   199 / 1160 (thread    1) f\b\b\r",
      "STEP   200 / 1160 (thread    3) f\b\b\r",
      "STEP   201 / 1160 (thread    0) f\b\b\r",
      "STEP   202 / 1160 (thread    4) f\b\b\r",
      "STEP   203 / 1160 (thread    2) f\b\b\r",
      "STEP   204 / 1160 (thread    3) f\b\b\r",
      "STEP   205 / 1160 (thread    5) f\b\b\r",
      "STEP   206 / 1160 (thread    1) f\b\b\r",
      "STEP   207 / 1160 (thread    0) f\b\b\r",
      "STEP   208 / 1160 (thread    4) f\b\b\r",
      "STEP   209 / 1160 (thread    2) f\b\b\r",
      "STEP   210 / 1160 (thread    3) f\b\b\r",
      "STEP   211 / 1160 (thread    5) f\b\b\r",
      "STEP   212 / 1160 (thread    1) f\b\b\r",
      "STEP   213 / 1160 (thread    2) f\b\b\r",
      "STEP   214 / 1160 (thread    4) f\b\b\r",
      "STEP   215 / 1160 (thread    0) f\b\b\r",
      "STEP   216 / 1160 (thread    3) f\b\b\r",
      "STEP   217 / 1160 (thread    2) f\b\b\r",
      "STEP   218 / 1160 (thread    5) f\b\b\r",
      "STEP   219 / 1160 (thread    3) f\b\b\r",
      "STEP   220 / 1160 (thread    1) f\b\b\r",
      "STEP   221 / 1160 (thread    4) f\b\b\r",
      "STEP   222 / 1160 (thread    0) f\b\b\r",
      "STEP   223 / 1160 (thread    2) f\b\b\r",
      "STEP   224 / 1160 (thread    3) f\b\b\r",
      "STEP   225 / 1160 (thread    5) f\b\b\r",
      "STEP   226 / 1160 (thread    1) f\b\b\r",
      "STEP   227 / 1160 (thread    4) f\b\b\r",
      "STEP   228 / 1160 (thread    0) f\b\b\r",
      "STEP   229 / 1160 (thread    2) f\b\b\r",
      "STEP   230 / 1160 (thread    3) f\b\b\r",
      "STEP   231 / 1160 (thread    2) f\b\b\r",
      "STEP   232 / 1160 (thread    4) f\b\b\r",
      "STEP   233 / 1160 (thread    5) f\b\b\r",
      "STEP   234 / 1160 (thread    1) f\b\b\r",
      "STEP   235 / 1160 (thread    3) f\b\b\r",
      "STEP   236 / 1160 (thread    0) f\b\b\r",
      "STEP   237 / 1160 (thread    2) f\b\b\r",
      "STEP   238 / 1160 (thread    5) f\b\b\r",
      "STEP   239 / 1160 (thread    1) f\b\b\r",
      "STEP   240 / 1160 (thread    0) f\b\b\r",
      "STEP   241 / 1160 (thread    3) f\b\b\r",
      "STEP   242 / 1160 (thread    2) f\b\b\r",
      "STEP   243 / 1160 (thread    4) f\b\b\r",
      "STEP   244 / 1160 (thread    5) f\b\b\r",
      "STEP   246 / 1160 (thread    1) f\b\b\r",
      "STEP   245 / 1160 (thread    3) f\b\b\r",
      "STEP   247 / 1160 (thread    2) f\b\b\r",
      "STEP   248 / 1160 (thread    0) f\b\b\r",
      "STEP   249 / 1160 (thread    5) f\b\b\r",
      "STEP   250 / 1160 (thread    2) f\b\b\r",
      "STEP   251 / 1160 (thread    4) f\b\b\r",
      "STEP   252 / 1160 (thread    1) f\b\b\r",
      "STEP   253 / 1160 (thread    0) f\b\b\r",
      "STEP   254 / 1160 (thread    3) f\b\b\r",
      "STEP   255 / 1160 (thread    2) f\b\b\r",
      "STEP   256 / 1160 (thread    3) f\b\b\r",
      "STEP   257 / 1160 (thread    5) f\b\b\r",
      "STEP   258 / 1160 (thread    4) f\b\b\r",
      "STEP   259 / 1160 (thread    2) f\b\b\r",
      "STEP   260 / 1160 (thread    3) f\b\b\r",
      "STEP   261 / 1160 (thread    0) f\b\b\r",
      "STEP   262 / 1160 (thread    1) f\b\b\r",
      "STEP   263 / 1160 (thread    3) f\b\b\r",
      "STEP   264 / 1160 (thread    0) f\b\b\r",
      "STEP   265 / 1160 (thread    3) f\b\b\r",
      "STEP   266 / 1160 (thread    2) f\b\b\r",
      "STEP   267 / 1160 (thread    1) f\b\b\r",
      "STEP   268 / 1160 (thread    5) f\b\b\r",
      "STEP   269 / 1160 (thread    4) f\b\b\r",
      "STEP   270 / 1160 (thread    3) f\b\b\r",
      "STEP   271 / 1160 (thread    2) f\b\b\r",
      "STEP   272 / 1160 (thread    3) f\b\b\r",
      "STEP   273 / 1160 (thread    2) f\b\b\r",
      "STEP   274 / 1160 (thread    1) f\b\b\r",
      "STEP   275 / 1160 (thread    5) f\b\b\r",
      "STEP   276 / 1160 (thread    4) f\b\b\r",
      "STEP   277 / 1160 (thread    3) f\b\b\r",
      "STEP   278 / 1160 (thread    2) f\b\b\r",
      "STEP   279 / 1160 (thread    0) f\b\b\r",
      "STEP   280 / 1160 (thread    0) f\b\b\r",
      "STEP   281 / 1160 (thread    3) f\b\b\r",
      "STEP   282 / 1160 (thread    5) f\b\b\r",
      "STEP   283 / 1160 (thread    2) f\b\b\r",
      "STEP   284 / 1160 (thread    4) f\b\b\r",
      "STEP   285 / 1160 (thread    3) f\b\b\r",
      "STEP   286 / 1160 (thread    1) f\b\b\r",
      "STEP   287 / 1160 (thread    0) f\b\b\r",
      "STEP   288 / 1160 (thread    2) f\b\b\r",
      "STEP   289 / 1160 (thread    5) f\b\b\r",
      "STEP   290 / 1160 (thread    0) f\b\b\r",
      "STEP   291 / 1160 (thread    3) f\b\b\r",
      "STEP   292 / 1160 (thread    4) f\b\b\r",
      "STEP   293 / 1160 (thread    2) f\b\b\r",
      "STEP   294 / 1160 (thread    5) f\b\b\r",
      "STEP   295 / 1160 (thread    1) f\b\b\r",
      "STEP   296 / 1160 (thread    3) f\b\b\r",
      "STEP   297 / 1160 (thread    4) f\b\b\r",
      "STEP   298 / 1160 (thread    2) f\b\b\r",
      "STEP   299 / 1160 (thread    1) f\b\b\r",
      "STEP   300 / 1160 (thread    0) f\b\b\r",
      "STEP   301 / 1160 (thread    3) f\b\b\r",
      "STEP   302 / 1160 (thread    5) f\b\b\r",
      "STEP   303 / 1160 (thread    4) f\b\b\r",
      "STEP   304 / 1160 (thread    2) f\b\b\r",
      "STEP   305 / 1160 (thread    2) f\b\b\r",
      "STEP   306 / 1160 (thread    1) f\b\b\r",
      "STEP   307 / 1160 (thread    0) f\b\b\r",
      "STEP   308 / 1160 (thread    3) f\b\b\r",
      "STEP   309 / 1160 (thread    2) f\b\b\r",
      "STEP   310 / 1160 (thread    5) f\b\b\r",
      "STEP   311 / 1160 (thread    4) f\b\b\r",
      "STEP   312 / 1160 (thread    1) f\b\b\r",
      "STEP   313 / 1160 (thread    0) f\b\b\r",
      "STEP   314 / 1160 (thread    2) f\b\b\r",
      "STEP   315 / 1160 (thread    3) f\b\b\r",
      "STEP   316 / 1160 (thread    5) f\b\b\r",
      "STEP   317 / 1160 (thread    2) f\b\b\r",
      "STEP   318 / 1160 (thread    1) f\b\b\r",
      "STEP   319 / 1160 (thread    4) f\b\b\r",
      "STEP   320 / 1160 (thread    3) f\b\b\r",
      "STEP   321 / 1160 (thread    3) f\b\b\r",
      "STEP   322 / 1160 (thread    0) f\b\b\r",
      "STEP   323 / 1160 (thread    5) f\b\b\r",
      "STEP   324 / 1160 (thread    2) f\b\b\r",
      "STEP   325 / 1160 (thread    4) f\b\b\r",
      "STEP   326 / 1160 (thread    1) f\b\b\r",
      "STEP   328 / 1160 (thread    2) f\b\b\r",
      "STEP   329 / 1160 (thread    5)\r",
      "STEP   327 / 1160 (thread    3) f\b\b f\b\b\r",
      "STEP   330 / 1160 (thread    0) f\b\b\r",
      "STEP   331 / 1160 (thread    4) f\b\b\r",
      "STEP   333 / 1160 (thread    1) f\b\b\r",
      "STEP   332 / 1160 (thread    2) f\b\b\r",
      "STEP   334 / 1160 (thread    3) f\b\b\r",
      "STEP   335 / 1160 (thread    5) f\b\b\r",
      "STEP   336 / 1160 (thread    0) f\b\b\r",
      "STEP   337 / 1160 (thread    4) f\b\b\r",
      "STEP   338 / 1160 (thread    2) f\b\b\r",
      "STEP   339 / 1160 (thread    3) f\b\b\r",
      "STEP   340 / 1160 (thread    1) f\b\b\r",
      "STEP   341 / 1160 (thread    3) f\b\b\r",
      "STEP   342 / 1160 (thread    5) f\b\b\r",
      "STEP   343 / 1160 (thread    2) f\b\b\r",
      "STEP   344 / 1160 (thread    3) f\b\b\r",
      "STEP   345 / 1160 (thread    0) f\b\b\r",
      "STEP   346 / 1160 (thread    4) f\b\b\r",
      "STEP   347 / 1160 (thread    2) f\b\b\r",
      "STEP   348 / 1160 (thread    3) f\b\b\r",
      "STEP   349 / 1160 (thread    1) f\b\b\r",
      "STEP   350 / 1160 (thread    5) f\b\b\r",
      "STEP   351 / 1160 (thread    2) f\b\b\r",
      "STEP   352 / 1160 (thread    3) f\b\b\r",
      "STEP   353 / 1160 (thread    0) f\b\b\r",
      "STEP   354 / 1160 (thread    1) f\b\b\r",
      "STEP   355 / 1160 (thread    5) f\b\b\r",
      "STEP   356 / 1160 (thread    4) f\b\b\r",
      "STEP   357 / 1160 (thread    3) f\b\b\r",
      "STEP   358 / 1160 (thread    2) f\b\b\r",
      "STEP   359 / 1160 (thread    0) f\b\b\r",
      "STEP   360 / 1160 (thread    3) f\b\b\r",
      "STEP   361 / 1160 (thread    5) f\b\b\r",
      "STEP   362 / 1160 (thread    1) f\b\b\r",
      "STEP   363 / 1160 (thread    2) f\b\b\r",
      "STEP   364 / 1160 (thread    4) f\b\b\r",
      "STEP   365 / 1160 (thread    3) f\b\b\r",
      "STEP   366 / 1160 (thread    0) f\b\b\r",
      "STEP   367 / 1160 (thread    5) f\b\b\r",
      "STEP   368 / 1160 (thread    3) f\b\b\r",
      "STEP   369 / 1160 (thread    2) f\b\b\r",
      "STEP   371 / 1160 (thread    1) f\b\b\r",
      "STEP   372 / 1160 (thread    5) f\b\b\r",
      "STEP   373 / 1160 (thread    3) f\b\b\r",
      "STEP   370 / 1160 (thread    4) f\b\b\r",
      "STEP   374 / 1160 (thread    1) f\b\b\r",
      "STEP   375 / 1160 (thread    0) f\b\b\r",
      "STEP   376 / 1160 (thread    2) f\b\b\r",
      "STEP   377 / 1160 (thread    3) f\b\b\r",
      "STEP   378 / 1160 (thread    5) f\b\b\r",
      "STEP   379 / 1160 (thread    2) f\b\b\r",
      "STEP   381 / 1160 (thread    0) f\b\b\r",
      "STEP   380 / 1160 (thread    1) f\b\b\r",
      "STEP   382 / 1160 (thread    3) f\b\b\r",
      "STEP   383 / 1160 (thread    4) f\b\b\r",
      "STEP   384 / 1160 (thread    5) f\b\b\r",
      "STEP   385 / 1160 (thread    2) f\b\b\r",
      "STEP   386 / 1160 (thread    3) f\b\b\r",
      "STEP   387 / 1160 (thread    1) f\b\b\r",
      "STEP   388 / 1160 (thread    0) f\b\b\r",
      "STEP   389 / 1160 (thread    4) f\b\b\r",
      "STEP   390 / 1160 (thread    2) f\b\b\r",
      "STEP   391 / 1160 (thread    3) f\b\b\r",
      "STEP   392 / 1160 (thread    5) f\b\b\r",
      "STEP   393 / 1160 (thread    1) f\b\b\r",
      "STEP   394 / 1160 (thread    0) f\b\b\r",
      "STEP   395 / 1160 (thread    2) f\b\b\r",
      "STEP   396 / 1160 (thread    3) f\b\b\r",
      "STEP   397 / 1160 (thread    2) f\b\b\r",
      "STEP   398 / 1160 (thread    4) f\b\b\r",
      "STEP   399 / 1160 (thread    5) f\b\b\r",
      "STEP   400 / 1160 (thread    1) f\b\b\r",
      "STEP   401 / 1160 (thread    0) f\b\b\r",
      "STEP   402 / 1160 (thread    3) f\b\b\r",
      "STEP   403 / 1160 (thread    2) f\b\b\r",
      "STEP   404 / 1160 (thread    4) f\b\b\r",
      "STEP   405 / 1160 (thread    3) f\b\b\r",
      "STEP   406 / 1160 (thread    5) f\b\b\r",
      "STEP   407 / 1160 (thread    3) f\b\b\r",
      "STEP   408 / 1160 (thread    2) f\b\b\r",
      "STEP   409 / 1160 (thread    1) f\b\b\r",
      "STEP   410 / 1160 (thread    0) f\b\b\r",
      "STEP   411 / 1160 (thread    3) f\b\b\r",
      "STEP   412 / 1160 (thread    4) f\b\b\r",
      "STEP   413 / 1160 (thread    5) f\b\b\r",
      "STEP   414 / 1160 (thread    2) f\b\b\r",
      "STEP   415 / 1160 (thread    3) f\b\b\r",
      "STEP   416 / 1160 (thread    0) f\b\b\r",
      "STEP   417 / 1160 (thread    1) f\b\b\r",
      "STEP   418 / 1160 (thread    2) f\b\b\r",
      "STEP   419 / 1160 (thread    4) f\b\b\r",
      "STEP   420 / 1160 (thread    5) f\b\b\r",
      "STEP   421 / 1160 (thread    2) f\b\b\r",
      "STEP   422 / 1160 (thread    3) f\b\b\r",
      "STEP   423 / 1160 (thread    1) f\b\b\r",
      "STEP   424 / 1160 (thread    0) f\b\b\r",
      "STEP   425 / 1160 (thread    3) f\b\b\r",
      "STEP   426 / 1160 (thread    2) f\b\b\r",
      "STEP   427 / 1160 (thread    5) f\b\b\r",
      "STEP   428 / 1160 (thread    4) f\b\b\r",
      "STEP   429 / 1160 (thread    0) f\b\b\r",
      "STEP   430 / 1160 (thread    2) f\b\b\r",
      "STEP   431 / 1160 (thread    5) f\b\b\r",
      "STEP   432 / 1160 (thread    1) f\b\b\r",
      "STEP   433 / 1160 (thread    3) f\b\b\r",
      "STEP   434 / 1160 (thread    0) f\b\b\r",
      "STEP   435 / 1160 (thread    2) f\b\b\r",
      "STEP   436 / 1160 (thread    4) f\b\b\r",
      "STEP   437 / 1160 (thread    0) f\b\b\r",
      "STEP   438 / 1160 (thread    2) f\b\b\r",
      "STEP   439 / 1160 (thread    5) f\b\b\r",
      "STEP   440 / 1160 (thread    3) f\b\b\r",
      "STEP   441 / 1160 (thread    1) f\b\b\r",
      "STEP   442 / 1160 (thread    4) f\b\b\r",
      "STEP   443 / 1160 (thread    3) f\b\b\r",
      "STEP   444 / 1160 (thread    0) f\b\b\r",
      "STEP   445 / 1160 (thread    5) f\b\b\r",
      "STEP   446 / 1160 (thread    2) f\b\b\r",
      "STEP   447 / 1160 (thread    1) f\b\b\r",
      "STEP   448 / 1160 (thread    0) f\b\b\r",
      "STEP   449 / 1160 (thread    3) f\b\b\r",
      "STEP   450 / 1160 (thread    4) f\b\b\r",
      "STEP   451 / 1160 (thread    2) f\b\b\r",
      "STEP   452 / 1160 (thread    0) f\b\b\r",
      "STEP   453 / 1160 (thread    1) f\b\b\r",
      "STEP   454 / 1160 (thread    5) f\b\b\r",
      "STEP   455 / 1160 (thread    3) f\b\b\r",
      "STEP   456 / 1160 (thread    3) f\b\b\r",
      "STEP   457 / 1160 (thread    4) f\b\b\r",
      "STEP   458 / 1160 (thread    2) f\b\b\r",
      "STEP   459 / 1160 (thread    3) f\b\b\r",
      "STEP   460 / 1160 (thread    5) f\b\b\r",
      "STEP   461 / 1160 (thread    0) f\b\b\r",
      "STEP   462 / 1160 (thread    1) f\b\b\r",
      "STEP   463 / 1160 (thread    4) f\b\b\r",
      "STEP   464 / 1160 (thread    2) f\b\b\r",
      "STEP   465 / 1160 (thread    5) f\b\b\r",
      "STEP   466 / 1160 (thread    3) f\b\b\r",
      "STEP   467 / 1160 (thread    3) f\b\b\r",
      "STEP   468 / 1160 (thread    0) f\b\b\r",
      "STEP   469 / 1160 (thread    1) f\b\b\r",
      "STEP   470 / 1160 (thread    3) f\b\b\r",
      "STEP   471 / 1160 (thread    2) f\b\b\r",
      "STEP   472 / 1160 (thread    4) f\b\b\r",
      "STEP   473 / 1160 (thread    5) f\b\b\r",
      "STEP   474 / 1160 (thread    0) f\b\b\r",
      "STEP   475 / 1160 (thread    1) f\b\b\r",
      "STEP   476 / 1160 (thread    3) f\b\b\r",
      "STEP   477 / 1160 (thread    2) f\b\b\r",
      "STEP   478 / 1160 (thread    0) f\b\b\r",
      "STEP   479 / 1160 (thread    4) f\b\b\r",
      "STEP   480 / 1160 (thread    1) f\b\b\r",
      "STEP   481 / 1160 (thread    5) f\b\b\r",
      "STEP   482 / 1160 (thread    3) f\b\b\r",
      "STEP   483 / 1160 (thread    2) f\b\b\r",
      "STEP   484 / 1160 (thread    1) f\b\b\r",
      "STEP   485 / 1160 (thread    2) f\b\b\r",
      "STEP   486 / 1160 (thread    0) f\b\b\r",
      "STEP   487 / 1160 (thread    3) f\b\b\r",
      "STEP   488 / 1160 (thread    4) f\b\b\r",
      "STEP   489 / 1160 (thread    5) f\b\b\r",
      "STEP   490 / 1160 (thread    3) f\b\b\r",
      "STEP   491 / 1160 (thread    2) f\b\b\r",
      "STEP   492 / 1160 (thread    1) f\b\b\r",
      "STEP   493 / 1160 (thread    0) f\b\b\r",
      "STEP   494 / 1160 (thread    3) f\b\b\r",
      "STEP   495 / 1160 (thread    2) f\b\b\r",
      "STEP   496 / 1160 (thread    4) f\b\b\r",
      "STEP   497 / 1160 (thread    5) f\b\b\r",
      "STEP   498 / 1160 (thread    0) f\b\b\r",
      "STEP   499 / 1160 (thread    2) f\b\b\r",
      "STEP   500 / 1160 (thread    3) f\b\b\r",
      "STEP   501 / 1160 (thread    1) f\b\b"
     ]
    },
    {
     "name": "stderr",
     "output_type": "stream",
     "text": [
      "\r",
      "STEP   601 / 1160 (thread    3) f\b\b\r",
      "STEP   701 / 1160 (thread    3) f\b\b\r",
      "STEP   801 / 1160 (thread    5) f\b\b\n",
      "Reallocating..done. *alloclen = 1868\n",
      "\r",
      "STEP   901 / 1160 (thread    1) f\b\b\r",
      "STEP  1001 / 1160 (thread    2) f\b\b"
     ]
    },
    {
     "name": "stderr",
     "output_type": "stream",
     "text": [
      "\r",
      "STEP  1101 / 1160 (thread    4) f\b\b\n",
      "done.\n",
      "\n",
      "Making a distance matrix from msa.. \n"
     ]
    },
    {
     "name": "stderr",
     "output_type": "stream",
     "text": [
      "\r",
      "    0 / 1161 (thread    0)\r",
      "  100 / 1161 (thread    5)\r",
      "  200 / 1161 (thread    5)\r",
      "  300 / 1161 (thread    5)\r",
      "  400 / 1161 (thread    2)\r",
      "  500 / 1161 (thread    5)"
     ]
    },
    {
     "name": "stderr",
     "output_type": "stream",
     "text": [
      "\r",
      "  600 / 1161 (thread    4)\r",
      "  700 / 1161 (thread    3)\r",
      "  800 / 1161 (thread    3)\r",
      "  900 / 1161 (thread    0)\r",
      " 1000 / 1161 (thread    4)\r",
      " 1100 / 1161 (thread    1)\n",
      "done.\n",
      "\n",
      "Constructing a UPGMA tree (efffree=1) ... \n",
      "\r",
      "    0 / 1161\r",
      "   10 / 1161\r",
      "   20 / 1161\r",
      "   30 / 1161\r",
      "   40 / 1161\r",
      "   50 / 1161\r",
      "   60 / 1161\r",
      "   70 / 1161\r",
      "   80 / 1161\r",
      "   90 / 1161\r",
      "  100 / 1161\r",
      "  110 / 1161\r",
      "  120 / 1161\r",
      "  130 / 1161\r",
      "  140 / 1161\r",
      "  150 / 1161\r",
      "  160 / 1161\r",
      "  170 / 1161\r",
      "  180 / 1161\r",
      "  190 / 1161\r",
      "  200 / 1161\r",
      "  210 / 1161\r",
      "  220 / 1161\r",
      "  230 / 1161\r",
      "  240 / 1161\r",
      "  250 / 1161\r",
      "  260 / 1161\r",
      "  270 / 1161\r",
      "  280 / 1161\r",
      "  290 / 1161\r",
      "  300 / 1161\r",
      "  310 / 1161\r",
      "  320 / 1161\r",
      "  330 / 1161\r",
      "  340 / 1161\r",
      "  350 / 1161\r",
      "  360 / 1161\r",
      "  370 / 1161\r",
      "  380 / 1161\r",
      "  390 / 1161\r",
      "  400 / 1161\r",
      "  410 / 1161\r",
      "  420 / 1161\r",
      "  430 / 1161\r",
      "  440 / 1161\r",
      "  450 / 1161\r",
      "  460 / 1161\r",
      "  470 / 1161\r",
      "  480 / 1161\r",
      "  490 / 1161\r",
      "  500 / 1161\r",
      "  510 / 1161\r",
      "  520 / 1161\r",
      "  530 / 1161\r",
      "  540 / 1161\r",
      "  550 / 1161\r",
      "  560 / 1161\r",
      "  570 / 1161\r",
      "  580 / 1161\r",
      "  590 / 1161\r",
      "  600 / 1161\r",
      "  610 / 1161\r",
      "  620 / 1161\r",
      "  630 / 1161\r",
      "  640 / 1161\r",
      "  650 / 1161\r",
      "  660 / 1161\r",
      "  670 / 1161\r",
      "  680 / 1161\r",
      "  690 / 1161\r",
      "  700 / 1161\r",
      "  710 / 1161\r",
      "  720 / 1161\r",
      "  730 / 1161\r",
      "  740 / 1161\r",
      "  750 / 1161\r",
      "  760 / 1161\r",
      "  770 / 1161\r",
      "  780 / 1161\r",
      "  790 / 1161\r",
      "  800 / 1161\r",
      "  810 / 1161\r",
      "  820 / 1161\r",
      "  830 / 1161\r",
      "  840 / 1161\r",
      "  850 / 1161\r",
      "  860 / 1161\r",
      "  870 / 1161\r",
      "  880 / 1161\r",
      "  890 / 1161\r",
      "  900 / 1161\r",
      "  910 / 1161\r",
      "  920 / 1161\r",
      "  930 / 1161\r",
      "  940 / 1161\r",
      "  950 / 1161\r",
      "  960 / 1161\r",
      "  970 / 1161\r",
      "  980 / 1161\r",
      "  990 / 1161\r",
      " 1000 / 1161\r",
      " 1010 / 1161\r",
      " 1020 / 1161\r",
      " 1030 / 1161\r",
      " 1040 / 1161\r",
      " 1050 / 1161\r",
      " 1060 / 1161\r",
      " 1070 / 1161\r",
      " 1080 / 1161\r",
      " 1090 / 1161\r",
      " 1100 / 1161\r",
      " 1110 / 1161\r",
      " 1120 / 1161\r",
      " 1130 / 1161\r",
      " 1140 / 1161\r",
      " 1150 / 1161\n",
      "done.\n",
      "\n",
      "Progressive alignment 2/2... \n",
      "\r",
      "STEP     1 / 1160 (thread    0) f\b\b\r",
      "STEP     2 / 1160 (thread    1) f\b\b\r",
      "STEP     3 / 1160 (thread    2) f\b\b\r",
      "STEP     4 / 1160 (thread    3) f\b\b\r",
      "STEP     5 / 1160 (thread    4) f\b\b\r",
      "STEP     6 / 1160 (thread    5) f\b\b\r",
      "STEP     7 / 1160 (thread    5) f\b\b\r",
      "STEP     8 / 1160 (thread    5) f\b\b\r",
      "STEP     9 / 1160 (thread    5) f\b\b\r",
      "STEP    10 / 1160 (thread    5) f\b\b\r",
      "STEP    11 / 1160 (thread    3) f\b\b\r",
      "STEP    12 / 1160 (thread    5) f\b\b\r",
      "STEP    13 / 1160 (thread    5) f\b\b\r",
      "STEP    14 / 1160 (thread    3) f\b\b\r",
      "STEP    15 / 1160 (thread    5) f\b\b\r",
      "STEP    16 / 1160 (thread    3) f\b\b\r",
      "STEP    17 / 1160 (thread    5) f\b\b\r",
      "STEP    18 / 1160 (thread    3) f\b\b\r",
      "STEP    19 / 1160 (thread    5) f\b\b\r",
      "STEP    20 / 1160 (thread    0) f\b\b\r",
      "STEP    21 / 1160 (thread    4) f\b\b\r",
      "STEP    22 / 1160 (thread    5) f\b\b\r",
      "STEP    23 / 1160 (thread    1) f\b\b\r",
      "STEP    24 / 1160 (thread    3) f\b\b\r",
      "STEP    25 / 1160 (thread    2) f\b\b\r",
      "STEP    26 / 1160 (thread    0) f\b\b\r",
      "STEP    27 / 1160 (thread    4) f\b\b\r",
      "STEP    28 / 1160 (thread    5) f\b\b\r",
      "STEP    29 / 1160 (thread    3) f\b\b\r",
      "STEP    30 / 1160 (thread    1) f\b\b\r",
      "STEP    31 / 1160 (thread    5) f\b\b\r",
      "STEP    32 / 1160 (thread    2) f\b\b\r",
      "STEP    33 / 1160 (thread    0) f\b\b\r",
      "STEP    34 / 1160 (thread    4) f\b\b\r",
      "STEP    35 / 1160 (thread    3) f\b\b\r",
      "STEP    36 / 1160 (thread    5) f\b\b\r",
      "STEP    37 / 1160 (thread    1) f\b\b\r",
      "STEP    38 / 1160 (thread    2) f\b\b\r",
      "STEP    39 / 1160 (thread    3) f\b\b\r",
      "STEP    40 / 1160 (thread    0) f\b\b\r",
      "STEP    41 / 1160 (thread    4) f\b\b\r",
      "STEP    42 / 1160 (thread    5) f\b\b\r",
      "STEP    43 / 1160 (thread    3) f\b\b\r",
      "STEP    44 / 1160 (thread    1) f\b\b\r",
      "STEP    45 / 1160 (thread    5) f\b\b\r",
      "STEP    46 / 1160 (thread    2) f\b\b\r",
      "STEP    47 / 1160 (thread    0) f\b\b\r",
      "STEP    48 / 1160 (thread    3) f\b\b\r",
      "STEP    49 / 1160 (thread    5) f\b\b\r",
      "STEP    50 / 1160 (thread    1) f\b\b\r",
      "STEP    51 / 1160 (thread    3) f\b\b\r",
      "STEP    52 / 1160 (thread    0) f\b\b\r",
      "STEP    53 / 1160 (thread    2) f\b\b\r",
      "STEP    54 / 1160 (thread    5) f\b\b\r",
      "STEP    55 / 1160 (thread    4) f\b\b\r",
      "STEP    56 / 1160 (thread    3) f\b\b\r",
      "STEP    57 / 1160 (thread    5) f\b\b\r",
      "STEP    58 / 1160 (thread    1) f\b\b\r",
      "STEP    59 / 1160 (thread    0) f\b\b\r",
      "STEP    60 / 1160 (thread    2) f\b\b\r",
      "STEP    61 / 1160 (thread    4) f\b\b\r",
      "STEP    62 / 1160 (thread    3) f\b\b\r",
      "STEP    63 / 1160 (thread    5) f\b\b\r",
      "STEP    64 / 1160 (thread    1) f\b\b\r",
      "STEP    65 / 1160 (thread    0) f\b\b\r",
      "STEP    66 / 1160 (thread    3) f\b\b\r",
      "STEP    67 / 1160 (thread    2) f\b\b\r",
      "STEP    68 / 1160 (thread    4) f\b\b\r",
      "STEP    69 / 1160 (thread    5) f\b\b\r",
      "STEP    70 / 1160 (thread    3) f\b\b\r",
      "STEP    71 / 1160 (thread    0) f\b\b\r",
      "STEP    72 / 1160 (thread    5) f\b\b\r",
      "STEP    73 / 1160 (thread    1) f\b\b\r",
      "STEP    74 / 1160 (thread    4) f\b\b\r",
      "STEP    75 / 1160 (thread    2) f\b\b\r",
      "STEP    76 / 1160 (thread    3) f\b\b\r",
      "STEP    77 / 1160 (thread    5) f\b\b\r",
      "STEP    78 / 1160 (thread    0) f\b\b\r",
      "STEP    79 / 1160 (thread    1) f\b\b\r",
      "STEP    80 / 1160 (thread    4) f\b\b\r",
      "STEP    81 / 1160 (thread    3) f\b\b\r",
      "STEP    82 / 1160 (thread    2) f\b\b\r",
      "STEP    83 / 1160 (thread    5) f\b\b\r",
      "STEP    84 / 1160 (thread    3) f\b\b\r",
      "STEP    85 / 1160 (thread    0) f\b\b\r",
      "STEP    86 / 1160 (thread    5) f\b\b\r",
      "STEP    87 / 1160 (thread    4) f\b\b\r",
      "STEP    88 / 1160 (thread    1) f\b\b\r",
      "STEP    89 / 1160 (thread    2) f\b\b\r",
      "STEP    90 / 1160 (thread    3) f\b\b\r",
      "STEP    91 / 1160 (thread    5) f\b\b\r",
      "STEP    92 / 1160 (thread    0) f\b\b\r",
      "STEP    93 / 1160 (thread    4) f\b\b\r",
      "STEP    94 / 1160 (thread    1) f\b\b\r",
      "STEP    95 / 1160 (thread    3) f\b\b\r",
      "STEP    96 / 1160 (thread    2) f\b\b\r",
      "STEP    97 / 1160 (thread    5) f\b\b\r",
      "STEP    98 / 1160 (thread    0) f\b\b\r",
      "STEP    99 / 1160 (thread    3) f\b\b\r",
      "STEP   100 / 1160 (thread    4) f\b\b\r",
      "STEP   101 / 1160 (thread    5) f\b\b\r",
      "STEP   102 / 1160 (thread    2) f\b\b\r",
      "STEP   103 / 1160 (thread    3) f\b\b\r",
      "STEP   104 / 1160 (thread    0) f\b\b\r",
      "STEP   105 / 1160 (thread    5) f\b\b\r",
      "STEP   106 / 1160 (thread    1) f\b\b\r",
      "STEP   107 / 1160 (thread    3) f\b\b\r",
      "STEP   109 / 1160 (thread    0) f\b\b\r",
      "STEP   110 / 1160 (thread    2) f\b\b\r",
      "STEP   111 / 1160 (thread    5) f\b\b\r",
      "STEP   112 / 1160 (thread    0) f\b\b\r",
      "STEP   113 / 1160 (thread    3) f\b\b\r",
      "STEP   114 / 1160 (thread    5) f\b\b\r",
      "STEP   115 / 1160 (thread    1) f\b\b\r",
      "STEP   108 / 1160 (thread    4) f\b\b\r",
      "STEP   116 / 1160 (thread    2) f\b\b\r",
      "STEP   117 / 1160 (thread    0) f\b\b\r",
      "STEP   118 / 1160 (thread    3) f\b\b\r",
      "STEP   119 / 1160 (thread    5) f\b\b\r",
      "STEP   120 / 1160 (thread    0) f\b\b\r",
      "STEP   121 / 1160 (thread    3) f\b\b\r",
      "STEP   122 / 1160 (thread    1) f\b\b\r",
      "STEP   123 / 1160 (thread    2) f\b\b\r",
      "STEP   124 / 1160 (thread    0) f\b\b\r",
      "STEP   125 / 1160 (thread    5) f\b\b\r",
      "STEP   126 / 1160 (thread    3) f\b\b\r",
      "STEP   127 / 1160 (thread    4) f\b\b\r",
      "STEP   128 / 1160 (thread    2) f\b\b\r",
      "STEP   129 / 1160 (thread    0) f\b\b\r",
      "STEP   130 / 1160 (thread    3) f\b\b\r",
      "STEP   131 / 1160 (thread    5) f\b\b\r",
      "STEP   132 / 1160 (thread    4) f\b\b\r",
      "STEP   133 / 1160 (thread    1) f\b\b\r",
      "STEP   134 / 1160 (thread    2) f\b\b\r",
      "STEP   135 / 1160 (thread    0) f\b\b\r",
      "STEP   136 / 1160 (thread    3) f\b\b\r",
      "STEP   137 / 1160 (thread    1)\r",
      "STEP   138 / 1160 (thread    0) f\b\b f\b\b\r",
      "STEP   139 / 1160 (thread    2) f\b\b\r",
      "STEP   140 / 1160 (thread    5) f\b\b\r",
      "STEP   141 / 1160 (thread    4) f\b\b\r",
      "STEP   142 / 1160 (thread    0) f\b\b\r",
      "STEP   143 / 1160 (thread    3) f\b\b\r",
      "STEP   144 / 1160 (thread    2) f\b\b\r",
      "STEP   145 / 1160 (thread    5) f\b\b\r",
      "STEP   146 / 1160 (thread    4) f\b\b\r",
      "STEP   147 / 1160 (thread    0) f\b\b\r",
      "STEP   148 / 1160 (thread    2) f\b\b\r",
      "STEP   149 / 1160 (thread    3) f\b\b\r",
      "STEP   150 / 1160 (thread    1) f\b\b\r",
      "STEP   151 / 1160 (thread    5) f\b\b\r",
      "STEP   152 / 1160 (thread    4) f\b\b\r",
      "STEP   153 / 1160 (thread    0) f\b\b\r",
      "STEP   154 / 1160 (thread    3) f\b\b\r",
      "STEP   155 / 1160 (thread    2) f\b\b\r",
      "STEP   156 / 1160 (thread    5) f\b\b\r",
      "STEP   157 / 1160 (thread    1) f\b\b\r",
      "STEP   158 / 1160 (thread    4) f\b\b\r",
      "STEP   159 / 1160 (thread    0) f\b\b\r",
      "STEP   160 / 1160 (thread    3) f\b\b\r",
      "STEP   161 / 1160 (thread    0) f\b\b\r",
      "STEP   162 / 1160 (thread    5) f\b\b\r",
      "STEP   163 / 1160 (thread    2) f\b\b\r",
      "STEP   164 / 1160 (thread    3) f\b\b\r",
      "STEP   165 / 1160 (thread    4) f\b\b\r",
      "STEP   166 / 1160 (thread    1) f\b\b\r",
      "STEP   167 / 1160 (thread    0) f\b\b\r",
      "STEP   168 / 1160 (thread    3) f\b\b\r",
      "STEP   169 / 1160 (thread    5) f\b\b\r",
      "STEP   170 / 1160 (thread    2) f\b\b\r",
      "STEP   171 / 1160 (thread    1) f\b\b\r",
      "STEP   172 / 1160 (thread    0) f\b\b\r",
      "STEP   173 / 1160 (thread    4) f\b\b\r",
      "STEP   174 / 1160 (thread    3) f\b\b\r",
      "STEP   175 / 1160 (thread    5) f\b\b\r",
      "STEP   176 / 1160 (thread    0) f\b\b\r",
      "STEP   177 / 1160 (thread    2) f\b\b\r",
      "STEP   178 / 1160 (thread    1) f\b\b\r",
      "STEP   179 / 1160 (thread    3) f\b\b\r",
      "STEP   180 / 1160 (thread    4) f\b\b\r",
      "STEP   181 / 1160 (thread    0) f\b\b\r",
      "STEP   183 / 1160 (thread    5) f\b\b\r",
      "STEP   184 / 1160 (thread    2) f\b\b\r",
      "STEP   185 / 1160 (thread    1) f\b\b\r",
      "STEP   182 / 1160 (thread    3) f\b\b\r",
      "STEP   186 / 1160 (thread    0) f\b\b\r",
      "STEP   187 / 1160 (thread    5) f\b\b\r",
      "STEP   188 / 1160 (thread    4) f\b\b\r",
      "STEP   189 / 1160 (thread    2) f\b\b\r",
      "STEP   190 / 1160 (thread    1) f\b\b\r",
      "STEP   191 / 1160 (thread    3) f\b\b\r",
      "STEP   192 / 1160 (thread    0) f\b\b\r",
      "STEP   193 / 1160 (thread    4) f\b\b\r",
      "STEP   194 / 1160 (thread    3) f\b\b\r",
      "STEP   195 / 1160 (thread    0) f\b\b\r",
      "STEP   196 / 1160 (thread    2) f\b\b\r",
      "STEP   197 / 1160 (thread    1) f\b\b\r",
      "STEP   198 / 1160 (thread    5) f\b\b\r",
      "STEP   199 / 1160 (thread    4) f\b\b\r",
      "STEP   200 / 1160 (thread    3) f\b\b\r",
      "STEP   201 / 1160 (thread    2) f\b\b\r",
      "STEP   202 / 1160 (thread    3) f\b\b\r",
      "STEP   203 / 1160 (thread    4) f\b\b\r",
      "STEP   204 / 1160 (thread    0) f\b\b\r",
      "STEP   205 / 1160 (thread    3) f\b\b\r",
      "STEP   206 / 1160 (thread    2) f\b\b\r",
      "STEP   207 / 1160 (thread    5) f\b\b\r",
      "STEP   208 / 1160 (thread    1) f\b\b\r",
      "STEP   209 / 1160 (thread    3) f\b\b\r",
      "STEP   210 / 1160 (thread    0) f\b\b\r",
      "STEP   211 / 1160 (thread    3) f\b\b\r",
      "STEP   212 / 1160 (thread    5) f\b\b\r",
      "STEP   213 / 1160 (thread    1) f\b\b\r",
      "STEP   214 / 1160 (thread    4) f\b\b\r",
      "STEP   215 / 1160 (thread    0) f\b\b\r",
      "STEP   216 / 1160 (thread    3) f\b\b\r",
      "STEP   217 / 1160 (thread    5) f\b\b\r",
      "STEP   218 / 1160 (thread    2) f\b\b\r",
      "STEP   219 / 1160 (thread    1) f\b\b\r",
      "STEP   220 / 1160 (thread    4) f\b\b\r",
      "STEP   221 / 1160 (thread    3) f\b\b\r",
      "STEP   222 / 1160 (thread    0) f\b\b\r",
      "STEP   223 / 1160 (thread    2) f\b\b\r",
      "STEP   224 / 1160 (thread    1) f\b\b\r",
      "STEP   225 / 1160 (thread    4) f\b\b\r",
      "STEP   226 / 1160 (thread    3) f\b\b\r",
      "STEP   227 / 1160 (thread    0) f\b\b\r",
      "STEP   228 / 1160 (thread    5) f\b\b\r",
      "STEP   229 / 1160 (thread    3) f\b\b\r",
      "STEP   230 / 1160 (thread    0) f\b\b\r",
      "STEP   231 / 1160 (thread    2) f\b\b\r",
      "STEP   232 / 1160 (thread    4) f\b\b\r",
      "STEP   234 / 1160 (thread    5) f\b\b\r",
      "STEP   233 / 1160 (thread    1) f\b\b\r",
      "STEP   235 / 1160 (thread    3) f\b\b\r",
      "STEP   236 / 1160 (thread    0) f\b\b\r",
      "STEP   237 / 1160 (thread    3) f\b\b\r",
      "STEP   238 / 1160 (thread    2) f\b\b\r",
      "STEP   239 / 1160 (thread    0) f\b\b\r",
      "STEP   240 / 1160 (thread    4) f\b\b\r",
      "STEP   241 / 1160 (thread    3) f\b\b\r",
      "STEP   242 / 1160 (thread    5) f\b\b\r",
      "STEP   243 / 1160 (thread    3) f\b\b\r",
      "STEP   244 / 1160 (thread    1) f\b\b\r",
      "STEP   245 / 1160 (thread    0) f\b\b\r",
      "STEP   246 / 1160 (thread    3) f\b\b\r",
      "STEP   247 / 1160 (thread    5) f\b\b\r",
      "STEP   248 / 1160 (thread    2) f\b\b\r",
      "STEP   249 / 1160 (thread    3) f\b\b\r",
      "STEP   250 / 1160 (thread    4) f\b\b\r",
      "STEP   251 / 1160 (thread    0) f\b\b\r",
      "STEP   252 / 1160 (thread    5) f\b\b\r",
      "STEP   253 / 1160 (thread    3) f\b\b\r",
      "STEP   254 / 1160 (thread    4) f\b\b\r",
      "STEP   255 / 1160 (thread    3) f\b\b\r",
      "STEP   256 / 1160 (thread    1) f\b\b\r",
      "STEP   257 / 1160 (thread    0) f\b\b\r",
      "STEP   258 / 1160 (thread    2) f\b\b\r",
      "STEP   259 / 1160 (thread    4) f\b\b\r",
      "STEP   260 / 1160 (thread    0) f\b\b\r",
      "STEP   261 / 1160 (thread    1) f\b\b\r",
      "STEP   262 / 1160 (thread    5) f\b\b\r",
      "STEP   263 / 1160 (thread    3) f\b\b\r",
      "STEP   264 / 1160 (thread    0) f\b\b\r",
      "STEP   265 / 1160 (thread    4) f\b\b\r",
      "STEP   266 / 1160 (thread    3) f\b\b\r",
      "STEP   267 / 1160 (thread    5) f\b\b\r",
      "STEP   268 / 1160 (thread    1) f\b\b\r",
      "STEP   269 / 1160 (thread    2) f\b\b\r",
      "STEP   270 / 1160 (thread    4) f\b\b\r",
      "STEP   271 / 1160 (thread    0) f\b\b\r",
      "STEP   272 / 1160 (thread    5) f\b\b\r",
      "STEP   273 / 1160 (thread    3) f\b\b\r",
      "STEP   274 / 1160 (thread    0) f\b\b\r",
      "STEP   275 / 1160 (thread    3) f\b\b\r",
      "STEP   276 / 1160 (thread    1) f\b\b\r",
      "STEP   277 / 1160 (thread    2) f\b\b\r",
      "STEP   278 / 1160 (thread    4) f\b\b\r",
      "STEP   279 / 1160 (thread    5) f\b\b\r",
      "STEP   280 / 1160 (thread    0) f\b\b\r",
      "STEP   281 / 1160 (thread    3) f\b\b\r",
      "STEP   282 / 1160 (thread    0) f\b\b\r",
      "STEP   284 / 1160 (thread    1) f\b\b\r",
      "STEP   285 / 1160 (thread    3) f\b\b\r",
      "STEP   286 / 1160 (thread    5) f\b\b\r",
      "STEP   283 / 1160 (thread    2) f\b\b\r",
      "STEP   287 / 1160 (thread    4) f\b\b\r",
      "STEP   288 / 1160 (thread    3) f\b\b\r",
      "STEP   289 / 1160 (thread    0) f\b\b\r",
      "STEP   290 / 1160 (thread    5) f\b\b\r",
      "STEP   291 / 1160 (thread    1) f\b\b\r",
      "STEP   292 / 1160 (thread    4) f\b\b\r",
      "STEP   293 / 1160 (thread    3) f\b\b\r",
      "STEP   294 / 1160 (thread    0) f\b\b\r",
      "STEP   295 / 1160 (thread    5) f\b\b\r",
      "STEP   296 / 1160 (thread    3) f\b\b\r",
      "STEP   297 / 1160 (thread    2) f\b\b\r",
      "STEP   298 / 1160 (thread    3) f\b\b\r",
      "STEP   299 / 1160 (thread    5) f\b\b\r",
      "STEP   300 / 1160 (thread    0) f\b\b\r",
      "STEP   301 / 1160 (thread    3) f\b\b\r",
      "STEP   302 / 1160 (thread    4) f\b\b\r",
      "STEP   303 / 1160 (thread    1) f\b\b\r",
      "STEP   304 / 1160 (thread    3) f\b\b\r",
      "STEP   305 / 1160 (thread    0) f\b\b\r",
      "STEP   306 / 1160 (thread    2) f\b\b\r",
      "STEP   307 / 1160 (thread    1) f\b\b\r",
      "STEP   308 / 1160 (thread    4) f\b\b\r",
      "STEP   309 / 1160 (thread    3) f\b\b\r",
      "STEP   310 / 1160 (thread    5) f\b\b\r",
      "STEP   311 / 1160 (thread    0) f\b\b\r",
      "STEP   312 / 1160 (thread    3) f\b\b\r",
      "STEP   313 / 1160 (thread    3) f\b\b\r",
      "STEP   314 / 1160 (thread    4) f\b\b\r",
      "STEP   315 / 1160 (thread    1) f\b\b\r",
      "STEP   316 / 1160 (thread    2) f\b\b\r",
      "STEP   317 / 1160 (thread    5) f\b\b\r",
      "STEP   318 / 1160 (thread    0) f\b\b\r",
      "STEP   319 / 1160 (thread    3) f\b\b\r",
      "STEP   320 / 1160 (thread    0) f\b\b\r",
      "STEP   321 / 1160 (thread    4) f\b\b\r",
      "STEP   322 / 1160 (thread    5) f\b\b\r",
      "STEP   323 / 1160 (thread    1) f\b\b\r",
      "STEP   324 / 1160 (thread    3) f\b\b\r",
      "STEP   325 / 1160 (thread    0) f\b\b\r",
      "STEP   326 / 1160 (thread    5) f\b\b\r",
      "STEP   327 / 1160 (thread    0) f\b\b\r",
      "STEP   328 / 1160 (thread    2) f\b\b\r",
      "STEP   329 / 1160 (thread    3) f\b\b\r",
      "STEP   330 / 1160 (thread    0) f\b\b\r",
      "STEP   331 / 1160 (thread    5) f\b\b\r",
      "STEP   332 / 1160 (thread    1) f\b\b\r",
      "STEP   333 / 1160 (thread    2) f\b\b\r",
      "STEP   334 / 1160 (thread    4) f\b\b\r",
      "STEP   335 / 1160 (thread    3) f\b\b\r",
      "STEP   336 / 1160 (thread    0) f\b\b\r",
      "STEP   337 / 1160 (thread    5) f\b\b\r",
      "STEP   338 / 1160 (thread    3) f\b\b\r",
      "STEP   339 / 1160 (thread    0) f\b\b\r",
      "STEP   340 / 1160 (thread    4) f\b\b\r",
      "STEP   341 / 1160 (thread    1) f\b\b\r",
      "STEP   342 / 1160 (thread    2) f\b\b\r",
      "STEP   343 / 1160 (thread    3) f\b\b\r",
      "STEP   344 / 1160 (thread    0) f\b\b\r",
      "STEP   345 / 1160 (thread    5) f\b\b\r",
      "STEP   346 / 1160 (thread    3) f\b\b\r",
      "STEP   347 / 1160 (thread    4) f\b\b\r",
      "STEP   348 / 1160 (thread    0) f\b\b\r",
      "STEP   349 / 1160 (thread    1) f\b\b\r",
      "STEP   350 / 1160 (thread    2) f\b\b\r",
      "STEP   351 / 1160 (thread    3) f\b\b\r",
      "STEP   352 / 1160 (thread    5) f\b\b\r",
      "STEP   353 / 1160 (thread    0) f\b\b\r",
      "STEP   354 / 1160 (thread    1) f\b\b\r",
      "STEP   355 / 1160 (thread    2) f\b\b\r",
      "STEP   356 / 1160 (thread    3) f\b\b\r",
      "STEP   357 / 1160 (thread    4) f\b\b\r",
      "STEP   358 / 1160 (thread    0) f\b\b\r",
      "STEP   359 / 1160 (thread    0) f\b\b\r",
      "STEP   360 / 1160 (thread    1) f\b\b\r",
      "STEP   361 / 1160 (thread    5) f\b\b\r",
      "STEP   362 / 1160 (thread    0) f\b\b\r",
      "STEP   363 / 1160 (thread    3) f\b\b\r",
      "STEP   364 / 1160 (thread    0) f\b\b\r",
      "STEP   365 / 1160 (thread    5) f\b\b\r",
      "STEP   366 / 1160 (thread    2) f\b\b\r",
      "STEP   367 / 1160 (thread    3) f\b\b\r",
      "STEP   368 / 1160 (thread    4) f\b\b\r",
      "STEP   369 / 1160 (thread    0) f\b\b\r",
      "STEP   370 / 1160 (thread    1) f\b\b\r",
      "STEP   371 / 1160 (thread    3) f\b\b\r",
      "STEP   372 / 1160 (thread    0) f\b\b\r",
      "STEP   373 / 1160 (thread    5) f\b\b\r",
      "STEP   374 / 1160 (thread    4) f\b\b\r",
      "STEP   375 / 1160 (thread    2) f\b\b\r",
      "STEP   376 / 1160 (thread    3) f\b\b\r",
      "STEP   377 / 1160 (thread    0) f\b\b\r",
      "STEP   378 / 1160 (thread    1) f\b\b\r",
      "STEP   379 / 1160 (thread    5) f\b\b\r",
      "STEP   380 / 1160 (thread    3) f\b\b\r",
      "STEP   381 / 1160 (thread    0) f\b\b\r",
      "STEP   382 / 1160 (thread    4) f\b\b\r",
      "STEP   383 / 1160 (thread    3) f\b\b\r",
      "STEP   384 / 1160 (thread    0) f\b\b\r",
      "STEP   385 / 1160 (thread    2) f\b\b\r",
      "STEP   386 / 1160 (thread    5) f\b\b\r",
      "STEP   387 / 1160 (thread    4) f\b\b\r",
      "STEP   388 / 1160 (thread    0) f\b\b\r",
      "STEP   389 / 1160 (thread    1) f\b\b\r",
      "STEP   390 / 1160 (thread    3) f\b\b\r",
      "STEP   391 / 1160 (thread    5) f\b\b\r",
      "STEP   392 / 1160 (thread    1) f\b\b\r",
      "STEP   393 / 1160 (thread    3) f\b\b\r",
      "STEP   394 / 1160 (thread    0) f\b\b\r",
      "STEP   396 / 1160 (thread    1) f\b\b\r",
      "STEP   397 / 1160 (thread    5) f\b\b\r",
      "STEP   398 / 1160 (thread    4) f\b\b\r",
      "STEP   395 / 1160 (thread    2) f\b\b\r",
      "STEP   399 / 1160 (thread    3) f\b\b\r",
      "STEP   400 / 1160 (thread    1) f\b\b\r",
      "STEP   401 / 1160 (thread    0) f\b\b\r",
      "STEP   402 / 1160 (thread    5) f\b\b\r",
      "STEP   403 / 1160 (thread    3) f\b\b\r",
      "STEP   404 / 1160 (thread    0) f\b\b\r",
      "STEP   405 / 1160 (thread    4) f\b\b\r",
      "STEP   406 / 1160 (thread    1) f\b\b\r",
      "STEP   408 / 1160 (thread    2) f\b\b\r",
      "STEP   407 / 1160 (thread    5) f\b\b\r",
      "STEP   409 / 1160 (thread    3) f\b\b\r",
      "STEP   410 / 1160 (thread    0) f\b\b\r",
      "STEP   411 / 1160 (thread    4) f\b\b\r",
      "STEP   412 / 1160 (thread    1) f\b\b\r",
      "STEP   413 / 1160 (thread    3) f\b\b\r",
      "STEP   414 / 1160 (thread    0) f\b\b\r",
      "STEP   415 / 1160 (thread    4) f\b\b\r",
      "STEP   416 / 1160 (thread    5) f\b\b\r",
      "STEP   417 / 1160 (thread    2) f\b\b\r",
      "STEP   418 / 1160 (thread    3) f\b\b\r",
      "STEP   419 / 1160 (thread    0) f\b\b\r",
      "STEP   420 / 1160 (thread    3) f\b\b\r",
      "STEP   421 / 1160 (thread    0) f\b\b\r",
      "STEP   422 / 1160 (thread    3) f\b\b\r",
      "STEP   423 / 1160 (thread    1) f\b\b\r",
      "STEP   424 / 1160 (thread    4) f\b\b\r",
      "STEP   425 / 1160 (thread    0) f\b\b\r",
      "STEP   426 / 1160 (thread    5) f\b\b\r",
      "STEP   427 / 1160 (thread    2) f\b\b\r",
      "STEP   428 / 1160 (thread    3) f\b\b\r",
      "STEP   430 / 1160 (thread    1) f\b\b\r",
      "STEP   429 / 1160 (thread    0) f\b\b\r",
      "STEP   431 / 1160 (thread    3) f\b\b\r",
      "STEP   433 / 1160 (thread    5) f\b\b\r",
      "STEP   434 / 1160 (thread    2) f\b\b\r",
      "STEP   432 / 1160 (thread    4) f\b\b\r",
      "STEP   435 / 1160 (thread    0) f\b\b\r",
      "STEP   436 / 1160 (thread    3) f\b\b\r",
      "STEP   437 / 1160 (thread    5) f\b\b\r",
      "STEP   438 / 1160 (thread    1) f\b\b\r",
      "STEP   439 / 1160 (thread    0) f\b\b\r",
      "STEP   440 / 1160 (thread    3) f\b\b\r",
      "STEP   441 / 1160 (thread    4) f\b\b\r",
      "STEP   443 / 1160 (thread    2) f\b\b\r",
      "STEP   442 / 1160 (thread    5) f\b\b\r",
      "STEP   444 / 1160 (thread    3) f\b\b\r",
      "STEP   445 / 1160 (thread    0) f\b\b\r",
      "STEP   446 / 1160 (thread    4) f\b\b\r",
      "STEP   447 / 1160 (thread    2) f\b\b\r",
      "STEP   448 / 1160 (thread    1) f\b\b\r",
      "STEP   449 / 1160 (thread    0) f\b\b\r",
      "STEP   450 / 1160 (thread    3) f\b\b\r",
      "STEP   451 / 1160 (thread    4) f\b\b\r",
      "STEP   452 / 1160 (thread    5) f\b\b\r",
      "STEP   453 / 1160 (thread    0) f\b\b\r",
      "STEP   454 / 1160 (thread    3) f\b\b\r",
      "STEP   455 / 1160 (thread    0) f\b\b\r",
      "STEP   456 / 1160 (thread    2) f\b\b\r",
      "STEP   457 / 1160 (thread    1) f\b\b\r",
      "STEP   458 / 1160 (thread    3) f\b\b\r",
      "STEP   459 / 1160 (thread    5) f\b\b\r",
      "STEP   460 / 1160 (thread    3) f\b\b\r",
      "STEP   461 / 1160 (thread    4) f\b\b\r",
      "STEP   462 / 1160 (thread    0) f\b\b\r",
      "STEP   463 / 1160 (thread    3) f\b\b\r",
      "STEP   464 / 1160 (thread    1) f\b\b\r",
      "STEP   465 / 1160 (thread    0) f\b\b\r",
      "STEP   466 / 1160 (thread    4) f\b\b\r",
      "STEP   467 / 1160 (thread    3) f\b\b\r",
      "STEP   468 / 1160 (thread    2) f\b\b\r",
      "STEP   469 / 1160 (thread    5) f\b\b\r",
      "STEP   470 / 1160 (thread    1) f\b\b\r",
      "STEP   471 / 1160 (thread    4) f\b\b\r",
      "STEP   472 / 1160 (thread    3) f\b\b\r",
      "STEP   473 / 1160 (thread    5) f\b\b\r",
      "STEP   474 / 1160 (thread    3) f\b\b\r",
      "STEP   475 / 1160 (thread    0) f\b\b\r",
      "STEP   476 / 1160 (thread    2) f\b\b\r",
      "STEP   477 / 1160 (thread    4) f\b\b\r",
      "STEP   478 / 1160 (thread    0) f\b\b\r",
      "STEP   479 / 1160 (thread    1) f\b\b\r",
      "STEP   480 / 1160 (thread    3) f\b\b\r",
      "STEP   481 / 1160 (thread    5) f\b\b\r",
      "STEP   482 / 1160 (thread    0) f\b\b\r",
      "STEP   483 / 1160 (thread    2) f\b\b\r",
      "STEP   484 / 1160 (thread    3) f\b\b\r",
      "STEP   485 / 1160 (thread    4) f\b\b\r",
      "STEP   486 / 1160 (thread    1) f\b\b\r",
      "STEP   487 / 1160 (thread    5) f\b\b\r",
      "STEP   488 / 1160 (thread    0) f\b\b\r",
      "STEP   489 / 1160 (thread    3) f\b\b\r",
      "STEP   490 / 1160 (thread    2) f\b\b\r",
      "STEP   491 / 1160 (thread    5) f\b\b\r",
      "STEP   492 / 1160 (thread    0) f\b\b\r",
      "STEP   493 / 1160 (thread    3) f\b\b\r",
      "STEP   494 / 1160 (thread    1) f\b\b\r",
      "STEP   495 / 1160 (thread    0) f\b\b\r",
      "STEP   496 / 1160 (thread    3) f\b\b\r",
      "STEP   497 / 1160 (thread    5) f\b\b\r",
      "STEP   498 / 1160 (thread    4) f\b\b\r",
      "STEP   499 / 1160 (thread    3) f\b\b\r",
      "STEP   500 / 1160 (thread    5) f\b\b\r",
      "STEP   501 / 1160 (thread    4) f\b\b"
     ]
    },
    {
     "name": "stderr",
     "output_type": "stream",
     "text": [
      "\r",
      "STEP   601 / 1160 (thread    0) f\b\b\r",
      "STEP   701 / 1160 (thread    4) f\b\b\r",
      "STEP   801 / 1160 (thread    1) f\b\b\n",
      "Reallocating..done. *alloclen = 1869\n",
      "\r",
      "STEP   901 / 1160 (thread    1) f\b\b\r",
      "STEP  1001 / 1160 (thread    2) f\b\b"
     ]
    },
    {
     "name": "stderr",
     "output_type": "stream",
     "text": [
      "\r",
      "STEP  1101 / 1160 (thread    5) f\b\b"
     ]
    },
    {
     "name": "stderr",
     "output_type": "stream",
     "text": [
      "\n",
      "done.\n",
      "\n",
      "disttbfast (nuc) Version 7.490\n",
      "alg=A, model=DNA200 (2), 1.53 (4.59), -0.00 (-0.00), noshift, amax=0.0\n",
      "6 thread(s)\n",
      "\n",
      "\n",
      "Strategy:\n",
      " FFT-NS-2 (Fast but rough)\n",
      " Progressive method (guide trees were built 2 times.)\n",
      "\n",
      "If unsure which option to use, try 'mafft --auto input > output'.\n",
      "For more information, see 'mafft --help', 'mafft --man' and the mafft page.\n",
      "\n",
      "The default gap scoring scheme has been changed in version 7.110 (2013 Oct).\n",
      "It tends to insert more gaps into gap-rich regions than previous versions.\n",
      "To disable this change, add the --leavegappyregion option.\n",
      "\n"
     ]
    },
    {
     "name": "stdout",
     "output_type": "stream",
     "text": [
      "Running external command line application. This may print messages to stdout and/or stderr.\n",
      "The command being run is below. This command cannot be manually re-run as it will depend on temporary files that no longer exist.\n",
      "\n",
      "Command: FastTreeMP -quote -nt /tmp/qiime2-archive-kc5smjha/71614964-3e09-4b23-9086-8160094f01ad/data/aligned-dna-sequences.fasta\n",
      "\n"
     ]
    },
    {
     "name": "stderr",
     "output_type": "stream",
     "text": [
      "FastTree Version 2.1.10 Double precision (No SSE3), OpenMP (6 threads)\n",
      "Alignment: /tmp/qiime2-archive-kc5smjha/71614964-3e09-4b23-9086-8160094f01ad/data/aligned-dna-sequences.fasta\n",
      "Nucleotide distances: Jukes-Cantor Joins: balanced Support: SH-like 1000\n",
      "Search: Normal +NNI +SPR (2 rounds range 10) +ML-NNI opt-each=1\n",
      "TopHits: 1.00*sqrtN close=default refresh=0.80\n",
      "ML Model: Jukes-Cantor, CAT approximation with 20 rate categories\n",
      "      0.11 seconds: Joined    100 of   1123\n"
     ]
    },
    {
     "name": "stderr",
     "output_type": "stream",
     "text": [
      "      0.28 seconds: Joined    300 of   1123\n",
      "      0.42 seconds: Joined    500 of   1123\n"
     ]
    },
    {
     "name": "stderr",
     "output_type": "stream",
     "text": [
      "      0.58 seconds: Joined    700 of   1123\n",
      "      0.72 seconds: Joined    900 of   1123\n"
     ]
    },
    {
     "name": "stderr",
     "output_type": "stream",
     "text": [
      "      0.86 seconds: Joined   1100 of   1123\n",
      "Initial topology in 0.87 seconds\n",
      "Refining topology: 41 rounds ME-NNIs, 2 rounds ME-SPRs, 20 rounds ML-NNIs\n",
      "      0.96 seconds: ME NNI round 3 of 41, 501 of 1124 splits, 42 changes (max delta 0.024)\n"
     ]
    },
    {
     "name": "stderr",
     "output_type": "stream",
     "text": [
      "      1.07 seconds: SPR round   1 of   2, 101 of 2250 nodes\n",
      "      1.20 seconds: SPR round   1 of   2, 301 of 2250 nodes\n"
     ]
    },
    {
     "name": "stderr",
     "output_type": "stream",
     "text": [
      "      1.35 seconds: SPR round   1 of   2, 501 of 2250 nodes\n",
      "      1.48 seconds: SPR round   1 of   2, 701 of 2250 nodes\n"
     ]
    },
    {
     "name": "stderr",
     "output_type": "stream",
     "text": [
      "      1.60 seconds: SPR round   1 of   2, 901 of 2250 nodes\n",
      "      1.72 seconds: SPR round   1 of   2, 1101 of 2250 nodes\n"
     ]
    },
    {
     "name": "stderr",
     "output_type": "stream",
     "text": [
      "      1.86 seconds: SPR round   1 of   2, 1401 of 2250 nodes\n",
      "      1.98 seconds: SPR round   1 of   2, 1601 of 2250 nodes\n"
     ]
    },
    {
     "name": "stderr",
     "output_type": "stream",
     "text": [
      "      2.09 seconds: SPR round   1 of   2, 1801 of 2250 nodes\n",
      "      2.19 seconds: SPR round   1 of   2, 2001 of 2250 nodes\n"
     ]
    },
    {
     "name": "stderr",
     "output_type": "stream",
     "text": [
      "      2.32 seconds: ME NNI round 14 of 41, 1 of 1124 splits\n",
      "      2.44 seconds: SPR round   2 of   2, 101 of 2250 nodes\n"
     ]
    },
    {
     "name": "stderr",
     "output_type": "stream",
     "text": [
      "      2.59 seconds: SPR round   2 of   2, 401 of 2250 nodes\n",
      "      2.71 seconds: SPR round   2 of   2, 601 of 2250 nodes\n"
     ]
    },
    {
     "name": "stderr",
     "output_type": "stream",
     "text": [
      "      2.82 seconds: SPR round   2 of   2, 801 of 2250 nodes\n",
      "      2.94 seconds: SPR round   2 of   2, 1001 of 2250 nodes\n"
     ]
    },
    {
     "name": "stderr",
     "output_type": "stream",
     "text": [
      "      3.07 seconds: SPR round   2 of   2, 1201 of 2250 nodes\n",
      "      3.22 seconds: SPR round   2 of   2, 1501 of 2250 nodes\n"
     ]
    },
    {
     "name": "stderr",
     "output_type": "stream",
     "text": [
      "      3.33 seconds: SPR round   2 of   2, 1701 of 2250 nodes\n",
      "      3.44 seconds: SPR round   2 of   2, 1901 of 2250 nodes\n"
     ]
    },
    {
     "name": "stderr",
     "output_type": "stream",
     "text": [
      "      3.55 seconds: SPR round   2 of   2, 2101 of 2250 nodes\n",
      "      3.65 seconds: ME NNI round 27 of 41, 801 of 1124 splits, 8 changes (max delta 0.009)\n",
      "Total branch-length 24.901 after 3.75 sec\n"
     ]
    },
    {
     "name": "stderr",
     "output_type": "stream",
     "text": [
      "      3.77 seconds: ML Lengths 101 of 1124 splits\n",
      "      3.88 seconds: ML Lengths 501 of 1124 splits\n"
     ]
    },
    {
     "name": "stderr",
     "output_type": "stream",
     "text": [
      "      3.99 seconds: ML Lengths 901 of 1124 splits\n",
      "      4.12 seconds: ML NNI round 1 of 20, 101 of 1124 splits, 22 changes (max delta 8.016)\n"
     ]
    },
    {
     "name": "stderr",
     "output_type": "stream",
     "text": [
      "      4.26 seconds: ML NNI round 1 of 20, 301 of 1124 splits, 60 changes (max delta 10.320)\n",
      "      4.39 seconds: ML NNI round 1 of 20, 501 of 1124 splits, 87 changes (max delta 10.320)\n"
     ]
    },
    {
     "name": "stderr",
     "output_type": "stream",
     "text": [
      "      4.53 seconds: ML NNI round 1 of 20, 701 of 1124 splits, 129 changes (max delta 10.320)\n",
      "      4.67 seconds: ML NNI round 1 of 20, 901 of 1124 splits, 161 changes (max delta 10.320)\n"
     ]
    },
    {
     "name": "stderr",
     "output_type": "stream",
     "text": [
      "      4.81 seconds: ML NNI round 1 of 20, 1101 of 1124 splits, 204 changes (max delta 10.320)\n",
      "ML-NNI round 1: LogLk = -64713.194 NNIs 213 max delta 10.32 Time 4.83\n",
      "      4.92 seconds: Site likelihoods with rate category 6 of 20\n"
     ]
    },
    {
     "name": "stderr",
     "output_type": "stream",
     "text": [
      "      5.03 seconds: Site likelihoods with rate category 13 of 20\n",
      "      5.13 seconds: Site likelihoods with rate category 20 of 20\n",
      "Switched to using 20 rate categories (CAT approximation)\n",
      "Rate categories were divided by 1.121 so that average rate = 1.0\n",
      "CAT-based log-likelihoods may not be comparable across runs\n",
      "Use -gamma for approximate but comparable Gamma(20) log-likelihoods\n"
     ]
    },
    {
     "name": "stderr",
     "output_type": "stream",
     "text": [
      "      5.24 seconds: ML NNI round 2 of 20, 101 of 1124 splits, 11 changes (max delta 3.471)\n",
      "      5.40 seconds: ML NNI round 2 of 20, 301 of 1124 splits, 37 changes (max delta 5.687)\n"
     ]
    },
    {
     "name": "stderr",
     "output_type": "stream",
     "text": [
      "      5.58 seconds: ML NNI round 2 of 20, 501 of 1124 splits, 60 changes (max delta 5.687)\n",
      "      5.75 seconds: ML NNI round 2 of 20, 701 of 1124 splits, 76 changes (max delta 5.687)\n"
     ]
    },
    {
     "name": "stderr",
     "output_type": "stream",
     "text": [
      "      5.93 seconds: ML NNI round 2 of 20, 901 of 1124 splits, 96 changes (max delta 5.687)\n",
      "      6.08 seconds: ML NNI round 2 of 20, 1101 of 1124 splits, 122 changes (max delta 5.740)\n",
      "ML-NNI round 2: LogLk = -53932.167 NNIs 126 max delta 5.74 Time 6.12\n"
     ]
    },
    {
     "name": "stderr",
     "output_type": "stream",
     "text": [
      "      6.19 seconds: ML NNI round 3 of 20, 101 of 1124 splits, 4 changes (max delta 1.766)\n",
      "      6.35 seconds: ML NNI round 3 of 20, 301 of 1124 splits, 10 changes (max delta 9.222)\n"
     ]
    },
    {
     "name": "stderr",
     "output_type": "stream",
     "text": [
      "      6.52 seconds: ML NNI round 3 of 20, 501 of 1124 splits, 21 changes (max delta 9.222)\n",
      "      6.67 seconds: ML NNI round 3 of 20, 701 of 1124 splits, 35 changes (max delta 9.222)\n"
     ]
    },
    {
     "name": "stderr",
     "output_type": "stream",
     "text": [
      "ML-NNI round 3: LogLk = -53877.125 NNIs 48 max delta 9.22 Time 6.76\n",
      "      6.83 seconds: ML NNI round 4 of 20, 101 of 1124 splits, 5 changes (max delta 0.006)\n"
     ]
    },
    {
     "name": "stderr",
     "output_type": "stream",
     "text": [
      "      7.00 seconds: ML NNI round 4 of 20, 301 of 1124 splits, 14 changes (max delta 2.742)\n",
      "ML-NNI round 4: LogLk = -53859.050 NNIs 25 max delta 2.74 Time 7.15\n",
      "      7.15 seconds: ML NNI round 5 of 20, 1 of 1124 splits\n"
     ]
    },
    {
     "name": "stderr",
     "output_type": "stream",
     "text": [
      "      7.31 seconds: ML NNI round 5 of 20, 201 of 1124 splits, 4 changes (max delta 1.138)\n",
      "ML-NNI round 5: LogLk = -53855.935 NNIs 6 max delta 1.14 Time 7.37\n",
      "      7.45 seconds: ML NNI round 6 of 20, 101 of 1124 splits, 1 changes (max delta 0.000)\n",
      "ML-NNI round 6: LogLk = -53854.533 NNIs 3 max delta 0.00 Time 7.49\n",
      "Turning off heuristics for final round of ML NNIs (converged)\n"
     ]
    },
    {
     "name": "stderr",
     "output_type": "stream",
     "text": [
      "      7.56 seconds: ML NNI round 7 of 20, 101 of 1124 splits, 0 changes\n",
      "      7.71 seconds: ML NNI round 7 of 20, 301 of 1124 splits, 1 changes (max delta 0.160)\n"
     ]
    },
    {
     "name": "stderr",
     "output_type": "stream",
     "text": [
      "      7.87 seconds: ML NNI round 7 of 20, 501 of 1124 splits, 1 changes (max delta 0.160)\n",
      "      8.03 seconds: ML NNI round 7 of 20, 701 of 1124 splits, 5 changes (max delta 0.932)\n"
     ]
    },
    {
     "name": "stderr",
     "output_type": "stream",
     "text": [
      "      8.17 seconds: ML NNI round 7 of 20, 901 of 1124 splits, 8 changes (max delta 0.932)\n",
      "      8.32 seconds: ML NNI round 7 of 20, 1101 of 1124 splits, 10 changes (max delta 0.932)\n",
      "ML-NNI round 7: LogLk = -53847.423 NNIs 10 max delta 0.93 Time 8.35 (final)\n"
     ]
    },
    {
     "name": "stderr",
     "output_type": "stream",
     "text": [
      "      8.44 seconds: ML Lengths 401 of 1124 splits\n",
      "      8.54 seconds: ML Lengths 901 of 1124 splits\n",
      "Optimize all lengths: LogLk = -53845.841 Time 8.60\n"
     ]
    },
    {
     "name": "stderr",
     "output_type": "stream",
     "text": [
      "      8.74 seconds: ML split tests for    100 of   1123 internal splits\n",
      "      8.87 seconds: ML split tests for    200 of   1123 internal splits\n"
     ]
    },
    {
     "name": "stderr",
     "output_type": "stream",
     "text": [
      "      9.00 seconds: ML split tests for    300 of   1123 internal splits\n",
      "      9.13 seconds: ML split tests for    400 of   1123 internal splits\n"
     ]
    },
    {
     "name": "stderr",
     "output_type": "stream",
     "text": [
      "      9.27 seconds: ML split tests for    500 of   1123 internal splits\n",
      "      9.40 seconds: ML split tests for    600 of   1123 internal splits\n"
     ]
    },
    {
     "name": "stderr",
     "output_type": "stream",
     "text": [
      "      9.53 seconds: ML split tests for    700 of   1123 internal splits\n",
      "      9.66 seconds: ML split tests for    800 of   1123 internal splits\n"
     ]
    },
    {
     "name": "stderr",
     "output_type": "stream",
     "text": [
      "      9.79 seconds: ML split tests for    900 of   1123 internal splits\n",
      "      9.92 seconds: ML split tests for   1000 of   1123 internal splits\n"
     ]
    },
    {
     "name": "stderr",
     "output_type": "stream",
     "text": [
      "     10.05 seconds: ML split tests for   1100 of   1123 internal splits\n",
      "Total time: 10.09 seconds Unique: 1126/1161 Bad splits: 1/1123 Worst delta-LogLk 2.376\n"
     ]
    }
   ],
   "source": [
    "mafft_alignment, mafft_masked_alignment, mafft_tree, mafft_rooted_tree = align_to_tree_mafft_fasttree(\n",
    "    sequences=reps, n_threads=6, )"
   ]
  },
  {
   "cell_type": "markdown",
   "id": "0768d598",
   "metadata": {
    "papermill": {
     "duration": 0.032065,
     "end_time": "2023-06-07T10:41:39.885860",
     "exception": false,
     "start_time": "2023-06-07T10:41:39.853795",
     "status": "completed"
    },
    "tags": []
   },
   "source": [
    "### Compute Alpha Diversity (Phylogeny)\n",
    "- [diversity alpha_phylogenetic](https://docs.qiime2.org/2022.8/plugins/available/diversity/alpha-phylogenetic/): Computes a user-specified phylogenetic alpha diversity metric for all samples in a feature table.\n",
    "- Metrics: Choices ('faith_pd')"
   ]
  },
  {
   "cell_type": "code",
   "execution_count": 11,
   "id": "0383aa19",
   "metadata": {
    "ExecuteTime": {
     "end_time": "2022-09-29T20:54:35.310009Z",
     "start_time": "2022-09-29T20:54:35.141333Z"
    },
    "execution": {
     "iopub.execute_input": "2023-06-07T10:41:39.953477Z",
     "iopub.status.busy": "2023-06-07T10:41:39.953036Z",
     "iopub.status.idle": "2023-06-07T10:41:40.079795Z",
     "shell.execute_reply": "2023-06-07T10:41:40.079254Z"
    },
    "papermill": {
     "duration": 0.163099,
     "end_time": "2023-06-07T10:41:40.081642",
     "exception": false,
     "start_time": "2023-06-07T10:41:39.918543",
     "status": "completed"
    },
    "tags": []
   },
   "outputs": [
    {
     "name": "stdout",
     "output_type": "stream",
     "text": [
      "Calculating alpha diversity: faith_pd\n",
      "DONE: Calculating alpha phylogeny: faith_pd\n"
     ]
    }
   ],
   "source": [
    "metrics = ('faith_pd', )\n",
    "alpha_diversities_phylogenetic = dict()\n",
    "for metric in metrics:\n",
    "    print(f\"Calculating alpha diversity: {metric}\")\n",
    "    try:\n",
    "        alpha_diversity = alpha_phylogenetic(table=tabs, phylogeny=mafft_rooted_tree, metric=metric).alpha_diversity\n",
    "        alpha_diversities_phylogenetic[metric] = alpha_diversity\n",
    "        # Save Artifact\n",
    "        file_path = os.path.join(alpha_path, f'alpha-phylogeny-{metric}.qza')\n",
    "        alpha_diversity.save(file_path)\n",
    "        print(f\"DONE: Calculating alpha phylogeny: {metric}\")\n",
    "    except Exception as e:\n",
    "        print(f\"ERROR: Calculating alpha phylogeny: {metric}\")"
   ]
  },
  {
   "cell_type": "markdown",
   "id": "c7752cfd",
   "metadata": {
    "papermill": {
     "duration": 0.033586,
     "end_time": "2023-06-07T10:41:40.153781",
     "exception": false,
     "start_time": "2023-06-07T10:41:40.120195",
     "status": "completed"
    },
    "tags": []
   },
   "source": [
    "### Alpha diversity correlation\n",
    "\n",
    "This method only process `numeric` columns.\n"
   ]
  },
  {
   "cell_type": "code",
   "execution_count": 12,
   "id": "2814f613",
   "metadata": {
    "ExecuteTime": {
     "end_time": "2022-09-29T20:54:35.317618Z",
     "start_time": "2022-09-29T20:54:35.312094Z"
    },
    "execution": {
     "iopub.execute_input": "2023-06-07T10:41:40.230410Z",
     "iopub.status.busy": "2023-06-07T10:41:40.230203Z",
     "iopub.status.idle": "2023-06-07T10:41:40.238476Z",
     "shell.execute_reply": "2023-06-07T10:41:40.237734Z"
    },
    "papermill": {
     "duration": 0.048994,
     "end_time": "2023-06-07T10:41:40.240474",
     "exception": false,
     "start_time": "2023-06-07T10:41:40.191480",
     "status": "completed"
    },
    "tags": []
   },
   "outputs": [],
   "source": [
    "methods = ('spearman', 'pearson')\n",
    "numerics_cols = metadata_qa.filter_columns(column_type='numeric')\n",
    "if numerics_cols.column_count > 0:\n",
    "    for metric, alpha_values in alpha_diversities.items():\n",
    "        for method in methods:\n",
    "            try:\n",
    "                corr_view = alpha_correlation(alpha_diversity=alpha_values, metadata=numerics_cols, \n",
    "                                          method=method, intersect_ids=True).visualization\n",
    "                view_path = os.path.join(alpha_path, f'alpha-correlation-{metric}-{method}.qzv')\n",
    "                corr_view.save(view_path)\n",
    "                corr_view\n",
    "                print(f\"DONE: Calculating alpha correlation: {metric} {method}\")\n",
    "            except Exception as e:\n",
    "                print(f\"ERROR: Calculating alpha correlation: {metric} {method}\")"
   ]
  },
  {
   "cell_type": "markdown",
   "id": "8ea83c8a",
   "metadata": {
    "papermill": {
     "duration": 0.033661,
     "end_time": "2023-06-07T10:41:40.311852",
     "exception": false,
     "start_time": "2023-06-07T10:41:40.278191",
     "status": "completed"
    },
    "tags": []
   },
   "source": [
    "## Alpha diversity comparisons\n",
    "\n",
    "Visually and statistically compare groups of alpha diversity values.\n",
    "\n",
    "[diversity alpha_group_significance](https://docs.qiime2.org/2022.8/plugins/available/diversity/alpha-group-significance/)"
   ]
  },
  {
   "cell_type": "code",
   "execution_count": 13,
   "id": "276d1c18",
   "metadata": {
    "ExecuteTime": {
     "end_time": "2022-09-29T20:54:36.089290Z",
     "start_time": "2022-09-29T20:54:35.318963Z"
    },
    "execution": {
     "iopub.execute_input": "2023-06-07T10:41:40.379159Z",
     "iopub.status.busy": "2023-06-07T10:41:40.378911Z",
     "iopub.status.idle": "2023-06-07T10:41:44.333749Z",
     "shell.execute_reply": "2023-06-07T10:41:44.333162Z"
    },
    "papermill": {
     "duration": 3.991668,
     "end_time": "2023-06-07T10:41:44.336839",
     "exception": false,
     "start_time": "2023-06-07T10:41:40.345171",
     "status": "completed"
    },
    "tags": []
   },
   "outputs": [
    {
     "name": "stdout",
     "output_type": "stream",
     "text": [
      "Processing alpha_group_significance: ace\n"
     ]
    },
    {
     "name": "stdout",
     "output_type": "stream",
     "text": [
      "DONE: Calculating alpha group significance: ace\n",
      "Processing alpha_group_significance: berger_parker_d\n",
      "DONE: Calculating alpha group significance: berger_parker_d\n",
      "Processing alpha_group_significance: brillouin_d\n"
     ]
    },
    {
     "name": "stdout",
     "output_type": "stream",
     "text": [
      "DONE: Calculating alpha group significance: brillouin_d\n",
      "Processing alpha_group_significance: chao1\n",
      "DONE: Calculating alpha group significance: chao1\n",
      "Processing alpha_group_significance: chao1_ci\n"
     ]
    },
    {
     "name": "stdout",
     "output_type": "stream",
     "text": [
      "ERROR: Calculating alpha group significance: chao1_ci\n",
      "Processing alpha_group_significance: dominance\n",
      "DONE: Calculating alpha group significance: dominance\n",
      "Processing alpha_group_significance: doubles\n"
     ]
    },
    {
     "name": "stdout",
     "output_type": "stream",
     "text": [
      "DONE: Calculating alpha group significance: doubles\n",
      "Processing alpha_group_significance: enspie\n",
      "DONE: Calculating alpha group significance: enspie\n",
      "Processing alpha_group_significance: esty_ci\n",
      "ERROR: Calculating alpha group significance: esty_ci\n",
      "Processing alpha_group_significance: fisher_alpha\n"
     ]
    },
    {
     "name": "stdout",
     "output_type": "stream",
     "text": [
      "DONE: Calculating alpha group significance: fisher_alpha\n",
      "Processing alpha_group_significance: gini_index\n",
      "DONE: Calculating alpha group significance: gini_index\n",
      "Processing alpha_group_significance: goods_coverage\n"
     ]
    },
    {
     "name": "stdout",
     "output_type": "stream",
     "text": [
      "DONE: Calculating alpha group significance: goods_coverage\n",
      "Processing alpha_group_significance: heip_e\n",
      "DONE: Calculating alpha group significance: heip_e\n",
      "Processing alpha_group_significance: kempton_taylor_q\n",
      "ERROR: Calculating alpha group significance: kempton_taylor_q\n",
      "Processing alpha_group_significance: lladser_pe\n"
     ]
    },
    {
     "name": "stdout",
     "output_type": "stream",
     "text": [
      "DONE: Calculating alpha group significance: lladser_pe\n",
      "Processing alpha_group_significance: margalef\n",
      "DONE: Calculating alpha group significance: margalef\n",
      "Processing alpha_group_significance: mcintosh_d\n"
     ]
    },
    {
     "name": "stdout",
     "output_type": "stream",
     "text": [
      "DONE: Calculating alpha group significance: mcintosh_d\n",
      "Processing alpha_group_significance: mcintosh_e\n",
      "DONE: Calculating alpha group significance: mcintosh_e\n",
      "Processing alpha_group_significance: menhinick\n"
     ]
    },
    {
     "name": "stdout",
     "output_type": "stream",
     "text": [
      "DONE: Calculating alpha group significance: menhinick\n",
      "Processing alpha_group_significance: michaelis_menten_fit\n",
      "DONE: Calculating alpha group significance: michaelis_menten_fit\n",
      "Processing alpha_group_significance: observed_features\n"
     ]
    },
    {
     "name": "stdout",
     "output_type": "stream",
     "text": [
      "DONE: Calculating alpha group significance: observed_features\n",
      "Processing alpha_group_significance: osd\n",
      "ERROR: Calculating alpha group significance: osd\n",
      "Processing alpha_group_significance: pielou_e\n",
      "DONE: Calculating alpha group significance: pielou_e\n",
      "Processing alpha_group_significance: robbins\n"
     ]
    },
    {
     "name": "stdout",
     "output_type": "stream",
     "text": [
      "DONE: Calculating alpha group significance: robbins\n",
      "Processing alpha_group_significance: shannon\n",
      "DONE: Calculating alpha group significance: shannon\n",
      "Processing alpha_group_significance: simpson\n"
     ]
    },
    {
     "name": "stdout",
     "output_type": "stream",
     "text": [
      "DONE: Calculating alpha group significance: simpson\n",
      "Processing alpha_group_significance: simpson_e\n",
      "DONE: Calculating alpha group significance: simpson_e\n",
      "Processing alpha_group_significance: singles\n"
     ]
    },
    {
     "name": "stdout",
     "output_type": "stream",
     "text": [
      "DONE: Calculating alpha group significance: singles\n",
      "Processing alpha_group_significance: strong\n",
      "DONE: Calculating alpha group significance: strong\n"
     ]
    }
   ],
   "source": [
    "for metric, alpha_values in alpha_diversities.items():\n",
    "    print(f\"Processing alpha_group_significance: {metric}\")\n",
    "    try:\n",
    "        significance_view = alpha_group_significance(alpha_diversity=alpha_values, metadata=metadata_qa).visualization\n",
    "        view_path = os.path.join(alpha_path, f'alpha-group-significance-{metric}.qzv')\n",
    "        significance_view.save(view_path)\n",
    "        significance_view\n",
    "        print(f\"DONE: Calculating alpha group significance: {metric}\")\n",
    "    except Exception as e:\n",
    "        print(f\"ERROR: Calculating alpha group significance: {metric}\")"
   ]
  },
  {
   "cell_type": "markdown",
   "id": "4349d357",
   "metadata": {
    "papermill": {
     "duration": 0.063418,
     "end_time": "2023-06-07T10:41:44.443086",
     "exception": false,
     "start_time": "2023-06-07T10:41:44.379668",
     "status": "completed"
    },
    "tags": []
   },
   "source": [
    "## Beta diversity analysis\n",
    "\n",
    "#### Reference\n",
    "- [diversity beta](https://docs.qiime2.org/2022.8/plugins/available/diversity/beta/): Computes a user-specified beta diversity metric for all pairs of samples in a feature table.\n",
    "- [Beta diversity metrics](http://scikit-bio.org/docs/0.2.0/generated/skbio.diversity.beta.html)\n",
    "\n",
    "- Metric Choices('aitchison', 'braycurtis', 'canberra', 'canberra_adkins', 'chebyshev', 'cityblock', 'correlation', 'cosine', 'dice', 'euclidean', 'hamming', 'jaccard', 'jensenshannon', 'kulsinski', 'matching', 'minkowski', 'rogerstanimoto', 'russellrao', 'seuclidean', 'sokalmichener', 'sokalsneath', 'sqeuclidean', 'yule')"
   ]
  },
  {
   "cell_type": "code",
   "execution_count": 14,
   "id": "f6f358dd",
   "metadata": {
    "ExecuteTime": {
     "end_time": "2022-09-29T20:54:36.335038Z",
     "start_time": "2022-09-29T20:54:36.091288Z"
    },
    "execution": {
     "iopub.execute_input": "2023-06-07T10:41:44.617349Z",
     "iopub.status.busy": "2023-06-07T10:41:44.617027Z",
     "iopub.status.idle": "2023-06-07T10:41:46.405827Z",
     "shell.execute_reply": "2023-06-07T10:41:46.404516Z"
    },
    "papermill": {
     "duration": 1.880092,
     "end_time": "2023-06-07T10:41:46.409244",
     "exception": false,
     "start_time": "2023-06-07T10:41:44.529152",
     "status": "completed"
    },
    "tags": []
   },
   "outputs": [
    {
     "name": "stdout",
     "output_type": "stream",
     "text": [
      "Calculating beta diversity: aitchison\n",
      "DONE: Calculating beta diversity: aitchison\n",
      "Calculating beta diversity: braycurtis\n",
      "DONE: Calculating beta diversity: braycurtis\n",
      "Calculating beta diversity: canberra\n"
     ]
    },
    {
     "name": "stdout",
     "output_type": "stream",
     "text": [
      "DONE: Calculating beta diversity: canberra\n",
      "Calculating beta diversity: canberra_adkins\n",
      "DONE: Calculating beta diversity: canberra_adkins\n",
      "Calculating beta diversity: chebyshev\n"
     ]
    },
    {
     "name": "stdout",
     "output_type": "stream",
     "text": [
      "DONE: Calculating beta diversity: chebyshev\n",
      "Calculating beta diversity: cityblock\n",
      "DONE: Calculating beta diversity: cityblock\n",
      "Calculating beta diversity: correlation\n",
      "ERROR: Calculating beta diversity: correlation\n",
      "Calculating beta diversity: cosine\n",
      "ERROR: Calculating beta diversity: cosine\n",
      "Calculating beta diversity: dice\n",
      "DONE: Calculating beta diversity: dice\n",
      "Calculating beta diversity: euclidean\n"
     ]
    },
    {
     "name": "stderr",
     "output_type": "stream",
     "text": [
      "/home/lauro/anaconda3/envs/qiime2-2022.2/lib/python3.8/site-packages/sklearn/metrics/pairwise.py:1761: DataConversionWarning: Data was converted to boolean for metric dice\n",
      "  warnings.warn(msg, DataConversionWarning)\n"
     ]
    },
    {
     "name": "stdout",
     "output_type": "stream",
     "text": [
      "DONE: Calculating beta diversity: euclidean\n",
      "Calculating beta diversity: hamming\n",
      "DONE: Calculating beta diversity: hamming\n",
      "Calculating beta diversity: jaccard\n"
     ]
    },
    {
     "name": "stderr",
     "output_type": "stream",
     "text": [
      "/home/lauro/anaconda3/envs/qiime2-2022.2/lib/python3.8/site-packages/sklearn/metrics/pairwise.py:1761: DataConversionWarning: Data was converted to boolean for metric jaccard\n",
      "  warnings.warn(msg, DataConversionWarning)\n"
     ]
    },
    {
     "name": "stdout",
     "output_type": "stream",
     "text": [
      "DONE: Calculating beta diversity: jaccard\n",
      "Calculating beta diversity: jensenshannon\n",
      "DONE: Calculating beta diversity: jensenshannon\n",
      "Calculating beta diversity: kulsinski\n",
      "ERROR: Calculating beta diversity: kulsinski\n",
      "Calculating beta diversity: matching\n"
     ]
    },
    {
     "name": "stderr",
     "output_type": "stream",
     "text": [
      "/home/lauro/anaconda3/envs/qiime2-2022.2/lib/python3.8/site-packages/sklearn/metrics/pairwise.py:1761: DataConversionWarning: Data was converted to boolean for metric kulsinski\n",
      "  warnings.warn(msg, DataConversionWarning)\n",
      "/home/lauro/anaconda3/envs/qiime2-2022.2/lib/python3.8/site-packages/sklearn/metrics/pairwise.py:1761: DataConversionWarning: Data was converted to boolean for metric matching\n",
      "  warnings.warn(msg, DataConversionWarning)\n",
      "/home/lauro/anaconda3/envs/qiime2-2022.2/lib/python3.8/site-packages/sklearn/metrics/pairwise.py:1761: DataConversionWarning: Data was converted to boolean for metric rogerstanimoto\n",
      "  warnings.warn(msg, DataConversionWarning)\n"
     ]
    },
    {
     "name": "stdout",
     "output_type": "stream",
     "text": [
      "DONE: Calculating beta diversity: matching\n",
      "Calculating beta diversity: minkowski\n",
      "DONE: Calculating beta diversity: minkowski\n",
      "Calculating beta diversity: rogerstanimoto\n",
      "DONE: Calculating beta diversity: rogerstanimoto\n",
      "Calculating beta diversity: russellrao\n",
      "ERROR: Calculating beta diversity: russellrao\n",
      "Calculating beta diversity: seuclidean\n",
      "DONE: Calculating beta diversity: seuclidean\n",
      "Calculating beta diversity: sokalmichener\n"
     ]
    },
    {
     "name": "stderr",
     "output_type": "stream",
     "text": [
      "/home/lauro/anaconda3/envs/qiime2-2022.2/lib/python3.8/site-packages/sklearn/metrics/pairwise.py:1761: DataConversionWarning: Data was converted to boolean for metric russellrao\n",
      "  warnings.warn(msg, DataConversionWarning)\n",
      "/home/lauro/anaconda3/envs/qiime2-2022.2/lib/python3.8/site-packages/sklearn/metrics/pairwise.py:1761: DataConversionWarning: Data was converted to boolean for metric sokalmichener\n",
      "  warnings.warn(msg, DataConversionWarning)\n",
      "/home/lauro/anaconda3/envs/qiime2-2022.2/lib/python3.8/site-packages/sklearn/metrics/pairwise.py:1761: DataConversionWarning: Data was converted to boolean for metric sokalsneath\n",
      "  warnings.warn(msg, DataConversionWarning)\n"
     ]
    },
    {
     "name": "stdout",
     "output_type": "stream",
     "text": [
      "DONE: Calculating beta diversity: sokalmichener\n",
      "Calculating beta diversity: sokalsneath\n",
      "DONE: Calculating beta diversity: sokalsneath\n",
      "Calculating beta diversity: sqeuclidean\n",
      "DONE: Calculating beta diversity: sqeuclidean\n",
      "Calculating beta diversity: yule\n"
     ]
    },
    {
     "name": "stdout",
     "output_type": "stream",
     "text": [
      "DONE: Calculating beta diversity: yule\n"
     ]
    },
    {
     "name": "stderr",
     "output_type": "stream",
     "text": [
      "/home/lauro/anaconda3/envs/qiime2-2022.2/lib/python3.8/site-packages/sklearn/metrics/pairwise.py:1761: DataConversionWarning: Data was converted to boolean for metric yule\n",
      "  warnings.warn(msg, DataConversionWarning)\n"
     ]
    }
   ],
   "source": [
    "metrics = ('aitchison', 'braycurtis', 'canberra', 'canberra_adkins', 'chebyshev', 'cityblock', 'correlation', 'cosine', 'dice', 'euclidean', 'hamming', 'jaccard', 'jensenshannon', 'kulsinski', 'matching', 'minkowski', 'rogerstanimoto', 'russellrao', 'seuclidean', 'sokalmichener', 'sokalsneath', 'sqeuclidean', 'yule')\n",
    "beta_diversities = dict()\n",
    "for metric in metrics:\n",
    "    print(f\"Calculating beta diversity: {metric}\")\n",
    "    try:\n",
    "        beta_diversity = beta(table=tabs, metric=metric, n_jobs=6, pseudocount=1).distance_matrix\n",
    "        beta_diversities[metric] = beta_diversity\n",
    "        # Save SampleData[BetaDiversity] Artifact\n",
    "        file_path = os.path.join(beta_path, f'beta-values-{metric}.qza')\n",
    "        beta_diversity.save(file_path)\n",
    "        print(f\"DONE: Calculating beta diversity: {metric}\")\n",
    "    except Exception as e:\n",
    "        print(f\"ERROR: Calculating beta diversity: {metric}\")"
   ]
  },
  {
   "cell_type": "markdown",
   "id": "200a2fa7",
   "metadata": {
    "papermill": {
     "duration": 0.041166,
     "end_time": "2023-06-07T10:41:46.497330",
     "exception": false,
     "start_time": "2023-06-07T10:41:46.456164",
     "status": "completed"
    },
    "tags": []
   },
   "source": [
    "### Beta group significance\n",
    "\n",
    "- [diversity beta_group_significance](https://docs.qiime2.org/2022.8/plugins/available/diversity/beta-group-significance/): Determine whether groups of samples are significantly different from one another using a permutation-based statistical test.\n",
    "- Marti J Anderson. A new method for non-parametric multivariate analysis of variance. Austral ecology, 26(1):32–46, 2001. doi:https://doi.org/10.1111/j.1442-9993.2001.01070.pp.x."
   ]
  },
  {
   "cell_type": "code",
   "execution_count": 15,
   "id": "b8dd42b6",
   "metadata": {
    "ExecuteTime": {
     "end_time": "2022-09-29T20:55:08.313860Z",
     "start_time": "2022-09-29T20:54:36.336993Z"
    },
    "execution": {
     "iopub.execute_input": "2023-06-07T10:41:46.582285Z",
     "iopub.status.busy": "2023-06-07T10:41:46.581805Z",
     "iopub.status.idle": "2023-06-07T10:44:15.293245Z",
     "shell.execute_reply": "2023-06-07T10:44:15.292679Z"
    },
    "papermill": {
     "duration": 148.758682,
     "end_time": "2023-06-07T10:44:15.297329",
     "exception": false,
     "start_time": "2023-06-07T10:41:46.538647",
     "status": "completed"
    },
    "tags": []
   },
   "outputs": [
    {
     "name": "stdout",
     "output_type": "stream",
     "text": [
      "Calculating beta group significance with method permanova and metric aitchison\n"
     ]
    },
    {
     "name": "stdout",
     "output_type": "stream",
     "text": [
      "DONE: Calculating beta group significance: permanova aitchison\n",
      "Calculating beta group significance with method permanova and metric braycurtis\n"
     ]
    },
    {
     "name": "stdout",
     "output_type": "stream",
     "text": [
      "DONE: Calculating beta group significance: permanova braycurtis\n",
      "Calculating beta group significance with method permanova and metric canberra\n"
     ]
    },
    {
     "name": "stdout",
     "output_type": "stream",
     "text": [
      "DONE: Calculating beta group significance: permanova canberra\n",
      "Calculating beta group significance with method permanova and metric canberra_adkins\n"
     ]
    },
    {
     "name": "stdout",
     "output_type": "stream",
     "text": [
      "DONE: Calculating beta group significance: permanova canberra_adkins\n",
      "Calculating beta group significance with method permanova and metric chebyshev\n"
     ]
    },
    {
     "name": "stdout",
     "output_type": "stream",
     "text": [
      "DONE: Calculating beta group significance: permanova chebyshev\n",
      "Calculating beta group significance with method permanova and metric cityblock\n"
     ]
    },
    {
     "name": "stdout",
     "output_type": "stream",
     "text": [
      "DONE: Calculating beta group significance: permanova cityblock\n",
      "Calculating beta group significance with method permanova and metric dice\n"
     ]
    },
    {
     "name": "stdout",
     "output_type": "stream",
     "text": [
      "DONE: Calculating beta group significance: permanova dice\n",
      "Calculating beta group significance with method permanova and metric euclidean\n"
     ]
    },
    {
     "name": "stdout",
     "output_type": "stream",
     "text": [
      "DONE: Calculating beta group significance: permanova euclidean\n",
      "Calculating beta group significance with method permanova and metric hamming\n"
     ]
    },
    {
     "name": "stdout",
     "output_type": "stream",
     "text": [
      "DONE: Calculating beta group significance: permanova hamming\n",
      "Calculating beta group significance with method permanova and metric jaccard\n"
     ]
    },
    {
     "name": "stdout",
     "output_type": "stream",
     "text": [
      "DONE: Calculating beta group significance: permanova jaccard\n",
      "Calculating beta group significance with method permanova and metric jensenshannon\n"
     ]
    },
    {
     "name": "stdout",
     "output_type": "stream",
     "text": [
      "DONE: Calculating beta group significance: permanova jensenshannon\n",
      "Calculating beta group significance with method permanova and metric matching\n"
     ]
    },
    {
     "name": "stdout",
     "output_type": "stream",
     "text": [
      "DONE: Calculating beta group significance: permanova matching\n",
      "Calculating beta group significance with method permanova and metric minkowski\n"
     ]
    },
    {
     "name": "stdout",
     "output_type": "stream",
     "text": [
      "DONE: Calculating beta group significance: permanova minkowski\n",
      "Calculating beta group significance with method permanova and metric rogerstanimoto\n"
     ]
    },
    {
     "name": "stdout",
     "output_type": "stream",
     "text": [
      "DONE: Calculating beta group significance: permanova rogerstanimoto\n",
      "Calculating beta group significance with method permanova and metric seuclidean\n"
     ]
    },
    {
     "name": "stdout",
     "output_type": "stream",
     "text": [
      "DONE: Calculating beta group significance: permanova seuclidean\n",
      "Calculating beta group significance with method permanova and metric sokalmichener\n"
     ]
    },
    {
     "name": "stdout",
     "output_type": "stream",
     "text": [
      "DONE: Calculating beta group significance: permanova sokalmichener\n",
      "Calculating beta group significance with method permanova and metric sokalsneath\n"
     ]
    },
    {
     "name": "stdout",
     "output_type": "stream",
     "text": [
      "DONE: Calculating beta group significance: permanova sokalsneath\n",
      "Calculating beta group significance with method permanova and metric sqeuclidean\n"
     ]
    },
    {
     "name": "stdout",
     "output_type": "stream",
     "text": [
      "DONE: Calculating beta group significance: permanova sqeuclidean\n",
      "Calculating beta group significance with method permanova and metric yule\n"
     ]
    },
    {
     "name": "stdout",
     "output_type": "stream",
     "text": [
      "DONE: Calculating beta group significance: permanova yule\n",
      "Calculating beta group significance with method anosim and metric aitchison\n"
     ]
    },
    {
     "name": "stdout",
     "output_type": "stream",
     "text": [
      "DONE: Calculating beta group significance: anosim aitchison\n",
      "Calculating beta group significance with method anosim and metric braycurtis\n"
     ]
    },
    {
     "name": "stdout",
     "output_type": "stream",
     "text": [
      "DONE: Calculating beta group significance: anosim braycurtis\n",
      "Calculating beta group significance with method anosim and metric canberra\n"
     ]
    },
    {
     "name": "stdout",
     "output_type": "stream",
     "text": [
      "DONE: Calculating beta group significance: anosim canberra\n",
      "Calculating beta group significance with method anosim and metric canberra_adkins\n"
     ]
    },
    {
     "name": "stdout",
     "output_type": "stream",
     "text": [
      "DONE: Calculating beta group significance: anosim canberra_adkins\n",
      "Calculating beta group significance with method anosim and metric chebyshev\n"
     ]
    },
    {
     "name": "stdout",
     "output_type": "stream",
     "text": [
      "DONE: Calculating beta group significance: anosim chebyshev\n",
      "Calculating beta group significance with method anosim and metric cityblock\n"
     ]
    },
    {
     "name": "stdout",
     "output_type": "stream",
     "text": [
      "DONE: Calculating beta group significance: anosim cityblock\n",
      "Calculating beta group significance with method anosim and metric dice\n"
     ]
    },
    {
     "name": "stdout",
     "output_type": "stream",
     "text": [
      "DONE: Calculating beta group significance: anosim dice\n",
      "Calculating beta group significance with method anosim and metric euclidean\n"
     ]
    },
    {
     "name": "stdout",
     "output_type": "stream",
     "text": [
      "DONE: Calculating beta group significance: anosim euclidean\n",
      "Calculating beta group significance with method anosim and metric hamming\n"
     ]
    },
    {
     "name": "stdout",
     "output_type": "stream",
     "text": [
      "DONE: Calculating beta group significance: anosim hamming\n",
      "Calculating beta group significance with method anosim and metric jaccard\n"
     ]
    },
    {
     "name": "stdout",
     "output_type": "stream",
     "text": [
      "DONE: Calculating beta group significance: anosim jaccard\n",
      "Calculating beta group significance with method anosim and metric jensenshannon\n"
     ]
    },
    {
     "name": "stdout",
     "output_type": "stream",
     "text": [
      "DONE: Calculating beta group significance: anosim jensenshannon\n",
      "Calculating beta group significance with method anosim and metric matching\n"
     ]
    },
    {
     "name": "stdout",
     "output_type": "stream",
     "text": [
      "DONE: Calculating beta group significance: anosim matching\n",
      "Calculating beta group significance with method anosim and metric minkowski\n"
     ]
    },
    {
     "name": "stdout",
     "output_type": "stream",
     "text": [
      "DONE: Calculating beta group significance: anosim minkowski\n",
      "Calculating beta group significance with method anosim and metric rogerstanimoto\n"
     ]
    },
    {
     "name": "stdout",
     "output_type": "stream",
     "text": [
      "DONE: Calculating beta group significance: anosim rogerstanimoto\n",
      "Calculating beta group significance with method anosim and metric seuclidean\n"
     ]
    },
    {
     "name": "stdout",
     "output_type": "stream",
     "text": [
      "DONE: Calculating beta group significance: anosim seuclidean\n",
      "Calculating beta group significance with method anosim and metric sokalmichener\n"
     ]
    },
    {
     "name": "stdout",
     "output_type": "stream",
     "text": [
      "DONE: Calculating beta group significance: anosim sokalmichener\n",
      "Calculating beta group significance with method anosim and metric sokalsneath\n"
     ]
    },
    {
     "name": "stdout",
     "output_type": "stream",
     "text": [
      "DONE: Calculating beta group significance: anosim sokalsneath\n",
      "Calculating beta group significance with method anosim and metric sqeuclidean\n"
     ]
    },
    {
     "name": "stdout",
     "output_type": "stream",
     "text": [
      "DONE: Calculating beta group significance: anosim sqeuclidean\n",
      "Calculating beta group significance with method anosim and metric yule\n"
     ]
    },
    {
     "name": "stdout",
     "output_type": "stream",
     "text": [
      "DONE: Calculating beta group significance: anosim yule\n",
      "Calculating beta group significance with method permdisp and metric aitchison\n"
     ]
    },
    {
     "name": "stdout",
     "output_type": "stream",
     "text": [
      "DONE: Calculating beta group significance: permdisp aitchison\n",
      "Calculating beta group significance with method permdisp and metric braycurtis\n"
     ]
    },
    {
     "name": "stdout",
     "output_type": "stream",
     "text": [
      "DONE: Calculating beta group significance: permdisp braycurtis\n",
      "Calculating beta group significance with method permdisp and metric canberra\n"
     ]
    },
    {
     "name": "stderr",
     "output_type": "stream",
     "text": [
      "/home/lauro/anaconda3/envs/qiime2-2022.2/lib/python3.8/site-packages/skbio/stats/ordination/_principal_coordinate_analysis.py:143: RuntimeWarning: The result contains negative eigenvalues. Please compare their magnitude with the magnitude of some of the largest positive eigenvalues. If the negative ones are smaller, it's probably safe to ignore them, but if they are large in magnitude, the results won't be useful. See the Notes section for more details. The smallest eigenvalue is -5638.292194246967 and the largest is 197544.81812326104.\n",
      "  warn(\n"
     ]
    },
    {
     "name": "stderr",
     "output_type": "stream",
     "text": [
      "/home/lauro/anaconda3/envs/qiime2-2022.2/lib/python3.8/site-packages/skbio/stats/ordination/_principal_coordinate_analysis.py:143: RuntimeWarning: The result contains negative eigenvalues. Please compare their magnitude with the magnitude of some of the largest positive eigenvalues. If the negative ones are smaller, it's probably safe to ignore them, but if they are large in magnitude, the results won't be useful. See the Notes section for more details. The smallest eigenvalue is -5638.29219424699 and the largest is 197544.81812326127.\n",
      "  warn(\n"
     ]
    },
    {
     "name": "stdout",
     "output_type": "stream",
     "text": [
      "DONE: Calculating beta group significance: permdisp canberra\n",
      "Calculating beta group significance with method permdisp and metric canberra_adkins\n"
     ]
    },
    {
     "name": "stdout",
     "output_type": "stream",
     "text": [
      "DONE: Calculating beta group significance: permdisp canberra_adkins\n",
      "Calculating beta group significance with method permdisp and metric chebyshev\n"
     ]
    },
    {
     "name": "stderr",
     "output_type": "stream",
     "text": [
      "/home/lauro/anaconda3/envs/qiime2-2022.2/lib/python3.8/site-packages/skbio/stats/ordination/_principal_coordinate_analysis.py:143: RuntimeWarning: The result contains negative eigenvalues. Please compare their magnitude with the magnitude of some of the largest positive eigenvalues. If the negative ones are smaller, it's probably safe to ignore them, but if they are large in magnitude, the results won't be useful. See the Notes section for more details. The smallest eigenvalue is -32773846.13539124 and the largest is 1569013390.3641527.\n",
      "  warn(\n"
     ]
    },
    {
     "name": "stderr",
     "output_type": "stream",
     "text": [
      "/home/lauro/anaconda3/envs/qiime2-2022.2/lib/python3.8/site-packages/skbio/stats/ordination/_principal_coordinate_analysis.py:143: RuntimeWarning: The result contains negative eigenvalues. Please compare their magnitude with the magnitude of some of the largest positive eigenvalues. If the negative ones are smaller, it's probably safe to ignore them, but if they are large in magnitude, the results won't be useful. See the Notes section for more details. The smallest eigenvalue is -32773846.135391433 and the largest is 1569013390.3641493.\n",
      "  warn(\n"
     ]
    },
    {
     "name": "stdout",
     "output_type": "stream",
     "text": [
      "DONE: Calculating beta group significance: permdisp chebyshev\n",
      "Calculating beta group significance with method permdisp and metric cityblock\n"
     ]
    },
    {
     "name": "stderr",
     "output_type": "stream",
     "text": [
      "/home/lauro/anaconda3/envs/qiime2-2022.2/lib/python3.8/site-packages/skbio/stats/ordination/_principal_coordinate_analysis.py:143: RuntimeWarning: The result contains negative eigenvalues. Please compare their magnitude with the magnitude of some of the largest positive eigenvalues. If the negative ones are smaller, it's probably safe to ignore them, but if they are large in magnitude, the results won't be useful. See the Notes section for more details. The smallest eigenvalue is -19362331645.531723 and the largest is 117930006527.17905.\n",
      "  warn(\n"
     ]
    },
    {
     "name": "stderr",
     "output_type": "stream",
     "text": [
      "/home/lauro/anaconda3/envs/qiime2-2022.2/lib/python3.8/site-packages/skbio/stats/ordination/_principal_coordinate_analysis.py:143: RuntimeWarning: The result contains negative eigenvalues. Please compare their magnitude with the magnitude of some of the largest positive eigenvalues. If the negative ones are smaller, it's probably safe to ignore them, but if they are large in magnitude, the results won't be useful. See the Notes section for more details. The smallest eigenvalue is -19362331645.531723 and the largest is 117930006527.17908.\n",
      "  warn(\n"
     ]
    },
    {
     "name": "stdout",
     "output_type": "stream",
     "text": [
      "DONE: Calculating beta group significance: permdisp cityblock\n",
      "Calculating beta group significance with method permdisp and metric dice\n"
     ]
    },
    {
     "name": "stdout",
     "output_type": "stream",
     "text": [
      "DONE: Calculating beta group significance: permdisp dice\n",
      "Calculating beta group significance with method permdisp and metric euclidean\n"
     ]
    },
    {
     "name": "stderr",
     "output_type": "stream",
     "text": [
      "/home/lauro/anaconda3/envs/qiime2-2022.2/lib/python3.8/site-packages/skbio/stats/ordination/_principal_coordinate_analysis.py:143: RuntimeWarning: The result contains negative eigenvalues. Please compare their magnitude with the magnitude of some of the largest positive eigenvalues. If the negative ones are smaller, it's probably safe to ignore them, but if they are large in magnitude, the results won't be useful. See the Notes section for more details. The smallest eigenvalue is -5.324658397982724e-07 and the largest is 2666281721.3651586.\n",
      "  warn(\n"
     ]
    },
    {
     "name": "stderr",
     "output_type": "stream",
     "text": [
      "/home/lauro/anaconda3/envs/qiime2-2022.2/lib/python3.8/site-packages/skbio/stats/ordination/_principal_coordinate_analysis.py:143: RuntimeWarning: The result contains negative eigenvalues. Please compare their magnitude with the magnitude of some of the largest positive eigenvalues. If the negative ones are smaller, it's probably safe to ignore them, but if they are large in magnitude, the results won't be useful. See the Notes section for more details. The smallest eigenvalue is -4.56871907773832e-07 and the largest is 2666281721.3651605.\n",
      "  warn(\n"
     ]
    },
    {
     "name": "stdout",
     "output_type": "stream",
     "text": [
      "DONE: Calculating beta group significance: permdisp euclidean\n",
      "Calculating beta group significance with method permdisp and metric hamming\n"
     ]
    },
    {
     "name": "stderr",
     "output_type": "stream",
     "text": [
      "/home/lauro/anaconda3/envs/qiime2-2022.2/lib/python3.8/site-packages/skbio/stats/ordination/_principal_coordinate_analysis.py:143: RuntimeWarning: The result contains negative eigenvalues. Please compare their magnitude with the magnitude of some of the largest positive eigenvalues. If the negative ones are smaller, it's probably safe to ignore them, but if they are large in magnitude, the results won't be useful. See the Notes section for more details. The smallest eigenvalue is -0.01113167807600053 and the largest is 0.15843716129759763.\n",
      "  warn(\n"
     ]
    },
    {
     "name": "stderr",
     "output_type": "stream",
     "text": [
      "/home/lauro/anaconda3/envs/qiime2-2022.2/lib/python3.8/site-packages/skbio/stats/ordination/_principal_coordinate_analysis.py:143: RuntimeWarning: The result contains negative eigenvalues. Please compare their magnitude with the magnitude of some of the largest positive eigenvalues. If the negative ones are smaller, it's probably safe to ignore them, but if they are large in magnitude, the results won't be useful. See the Notes section for more details. The smallest eigenvalue is -0.011131678076000531 and the largest is 0.15843716129759766.\n",
      "  warn(\n"
     ]
    },
    {
     "name": "stdout",
     "output_type": "stream",
     "text": [
      "DONE: Calculating beta group significance: permdisp hamming\n",
      "Calculating beta group significance with method permdisp and metric jaccard\n"
     ]
    },
    {
     "name": "stdout",
     "output_type": "stream",
     "text": [
      "DONE: Calculating beta group significance: permdisp jaccard\n",
      "Calculating beta group significance with method permdisp and metric jensenshannon\n"
     ]
    },
    {
     "name": "stdout",
     "output_type": "stream",
     "text": [
      "DONE: Calculating beta group significance: permdisp jensenshannon\n",
      "Calculating beta group significance with method permdisp and metric matching\n"
     ]
    },
    {
     "name": "stderr",
     "output_type": "stream",
     "text": [
      "/home/lauro/anaconda3/envs/qiime2-2022.2/lib/python3.8/site-packages/skbio/stats/ordination/_principal_coordinate_analysis.py:143: RuntimeWarning: The result contains negative eigenvalues. Please compare their magnitude with the magnitude of some of the largest positive eigenvalues. If the negative ones are smaller, it's probably safe to ignore them, but if they are large in magnitude, the results won't be useful. See the Notes section for more details. The smallest eigenvalue is -0.0014594549266669016 and the largest is 0.1398057806424501.\n",
      "  warn(\n"
     ]
    },
    {
     "name": "stderr",
     "output_type": "stream",
     "text": [
      "/home/lauro/anaconda3/envs/qiime2-2022.2/lib/python3.8/site-packages/skbio/stats/ordination/_principal_coordinate_analysis.py:143: RuntimeWarning: The result contains negative eigenvalues. Please compare their magnitude with the magnitude of some of the largest positive eigenvalues. If the negative ones are smaller, it's probably safe to ignore them, but if they are large in magnitude, the results won't be useful. See the Notes section for more details. The smallest eigenvalue is -0.001459454926666904 and the largest is 0.13980578064245028.\n",
      "  warn(\n"
     ]
    },
    {
     "name": "stdout",
     "output_type": "stream",
     "text": [
      "DONE: Calculating beta group significance: permdisp matching\n",
      "Calculating beta group significance with method permdisp and metric minkowski\n"
     ]
    },
    {
     "name": "stderr",
     "output_type": "stream",
     "text": [
      "/home/lauro/anaconda3/envs/qiime2-2022.2/lib/python3.8/site-packages/skbio/stats/ordination/_principal_coordinate_analysis.py:143: RuntimeWarning: The result contains negative eigenvalues. Please compare their magnitude with the magnitude of some of the largest positive eigenvalues. If the negative ones are smaller, it's probably safe to ignore them, but if they are large in magnitude, the results won't be useful. See the Notes section for more details. The smallest eigenvalue is -5.324658397982724e-07 and the largest is 2666281721.3651586.\n",
      "  warn(\n"
     ]
    },
    {
     "name": "stderr",
     "output_type": "stream",
     "text": [
      "/home/lauro/anaconda3/envs/qiime2-2022.2/lib/python3.8/site-packages/skbio/stats/ordination/_principal_coordinate_analysis.py:143: RuntimeWarning: The result contains negative eigenvalues. Please compare their magnitude with the magnitude of some of the largest positive eigenvalues. If the negative ones are smaller, it's probably safe to ignore them, but if they are large in magnitude, the results won't be useful. See the Notes section for more details. The smallest eigenvalue is -4.56871907773832e-07 and the largest is 2666281721.3651605.\n",
      "  warn(\n"
     ]
    },
    {
     "name": "stdout",
     "output_type": "stream",
     "text": [
      "DONE: Calculating beta group significance: permdisp minkowski\n",
      "Calculating beta group significance with method permdisp and metric rogerstanimoto\n"
     ]
    },
    {
     "name": "stdout",
     "output_type": "stream",
     "text": [
      "DONE: Calculating beta group significance: permdisp rogerstanimoto\n",
      "Calculating beta group significance with method permdisp and metric seuclidean\n"
     ]
    },
    {
     "name": "stdout",
     "output_type": "stream",
     "text": [
      "DONE: Calculating beta group significance: permdisp seuclidean\n",
      "Calculating beta group significance with method permdisp and metric sokalmichener\n"
     ]
    },
    {
     "name": "stdout",
     "output_type": "stream",
     "text": [
      "DONE: Calculating beta group significance: permdisp sokalmichener\n",
      "Calculating beta group significance with method permdisp and metric sokalsneath\n"
     ]
    },
    {
     "name": "stdout",
     "output_type": "stream",
     "text": [
      "DONE: Calculating beta group significance: permdisp sokalsneath\n",
      "Calculating beta group significance with method permdisp and metric sqeuclidean\n"
     ]
    },
    {
     "name": "stderr",
     "output_type": "stream",
     "text": [
      "/home/lauro/anaconda3/envs/qiime2-2022.2/lib/python3.8/site-packages/skbio/stats/ordination/_principal_coordinate_analysis.py:143: RuntimeWarning: The result contains negative eigenvalues. Please compare their magnitude with the magnitude of some of the largest positive eigenvalues. If the negative ones are smaller, it's probably safe to ignore them, but if they are large in magnitude, the results won't be useful. See the Notes section for more details. The smallest eigenvalue is -1.9406369872669238e+18 and the largest is 9.716291934675091e+18.\n",
      "  warn(\n"
     ]
    },
    {
     "name": "stderr",
     "output_type": "stream",
     "text": [
      "/home/lauro/anaconda3/envs/qiime2-2022.2/lib/python3.8/site-packages/skbio/stats/ordination/_principal_coordinate_analysis.py:143: RuntimeWarning: The result contains negative eigenvalues. Please compare their magnitude with the magnitude of some of the largest positive eigenvalues. If the negative ones are smaller, it's probably safe to ignore them, but if they are large in magnitude, the results won't be useful. See the Notes section for more details. The smallest eigenvalue is -1.9406369872669238e+18 and the largest is 9.716291934675096e+18.\n",
      "  warn(\n"
     ]
    },
    {
     "name": "stdout",
     "output_type": "stream",
     "text": [
      "DONE: Calculating beta group significance: permdisp sqeuclidean\n",
      "Calculating beta group significance with method permdisp and metric yule\n"
     ]
    },
    {
     "name": "stderr",
     "output_type": "stream",
     "text": [
      "/home/lauro/anaconda3/envs/qiime2-2022.2/lib/python3.8/site-packages/skbio/stats/ordination/_principal_coordinate_analysis.py:143: RuntimeWarning: The result contains negative eigenvalues. Please compare their magnitude with the magnitude of some of the largest positive eigenvalues. If the negative ones are smaller, it's probably safe to ignore them, but if they are large in magnitude, the results won't be useful. See the Notes section for more details. The smallest eigenvalue is -0.4202220360594696 and the largest is 2.0653767886877996.\n",
      "  warn(\n"
     ]
    },
    {
     "name": "stderr",
     "output_type": "stream",
     "text": [
      "/home/lauro/anaconda3/envs/qiime2-2022.2/lib/python3.8/site-packages/skbio/stats/ordination/_principal_coordinate_analysis.py:143: RuntimeWarning: The result contains negative eigenvalues. Please compare their magnitude with the magnitude of some of the largest positive eigenvalues. If the negative ones are smaller, it's probably safe to ignore them, but if they are large in magnitude, the results won't be useful. See the Notes section for more details. The smallest eigenvalue is -0.42022203605946945 and the largest is 2.0653767886878023.\n",
      "  warn(\n"
     ]
    },
    {
     "name": "stdout",
     "output_type": "stream",
     "text": [
      "DONE: Calculating beta group significance: permdisp yule\n"
     ]
    },
    {
     "data": {
      "text/plain": [
       "<Figure size 432x288 with 0 Axes>"
      ]
     },
     "metadata": {},
     "output_type": "display_data"
    }
   ],
   "source": [
    "methods = ('permanova', 'anosim', 'permdisp')\n",
    "for method in methods:\n",
    "    for metric, beta_diversity in beta_diversities.items():\n",
    "        print(f'Calculating beta group significance with method {method} and metric {metric}')\n",
    "        try:\n",
    "            beta_view = beta_group_significance(distance_matrix=beta_diversity, \n",
    "                                                metadata=metadata_qa.get_column(class_col), \n",
    "                                                pairwise=True, method=method).visualization\n",
    "            view_name = os.path.join(beta_path, f'beta-group-significance-{metric}-{method}.qzv')\n",
    "            beta_view.save(view_name)\n",
    "            print(f\"DONE: Calculating beta group significance: {method} {metric}\")\n",
    "        except Exception as e:\n",
    "            print(f\"ERROR: Calculating beta group significance: {method} {metric}\")"
   ]
  },
  {
   "cell_type": "markdown",
   "id": "c0de85cf",
   "metadata": {
    "papermill": {
     "duration": 0.093208,
     "end_time": "2023-06-07T10:44:15.454351",
     "exception": false,
     "start_time": "2023-06-07T10:44:15.361143",
     "status": "completed"
    },
    "tags": []
   },
   "source": [
    "### Beta group Rarefaction\n",
    "\n",
    "- [diversity beta_rarefaction](https://docs.qiime2.org/2022.8/plugins/available/diversity/beta-rarefaction/): Repeatedly rarefy a feature table to compare beta diversity results within a given rarefaction depth.  For a given beta diversity metric, this visualizer will provide: an Emperor jackknifed PCoA plot, samples clustered by UPGMA or neighbor joining with support calculation, and a heatmap showing the correlation between rarefaction trials of that beta diversity metric."
   ]
  }
 ],
 "metadata": {
  "celltoolbar": "Edit Metadata",
  "kernelspec": {
   "display_name": "Python 3 (ipykernel)",
   "language": "python",
   "name": "python3"
  },
  "language_info": {
   "codemirror_mode": {
    "name": "ipython",
    "version": 3
   },
   "file_extension": ".py",
   "mimetype": "text/x-python",
   "name": "python",
   "nbconvert_exporter": "python",
   "pygments_lexer": "ipython3",
   "version": "3.8.12"
  },
  "papermill": {
   "default_parameters": {},
   "duration": 4080.226211,
   "end_time": "2023-06-07T10:44:16.725115",
   "environment_variables": {},
   "exception": null,
   "input_path": "nb-templates/step-diversity-analysis.ipynb",
   "output_path": "/home/lauro/nupeb/rede-micro/redemicro-ana-flavia-nutri/experiments/ana-flavia-STD-NRxHSD-NR-trim/nb-executed-steps/step-diversity-analysis-ana-flavia-STD-NRxHSD-NR-trim.ipynb",
   "parameters": {
    "base_dir": "/home/lauro/nupeb/rede-micro/redemicro-ana-flavia-nutri",
    "class_col": "group-id",
    "classifier_file": "/home/lauro/nupeb/rede-micro/models/silva-138-99-nb-classifier.qza",
    "experiment_name": "ana-flavia-STD-NRxHSD-NR-trim",
    "manifest_file": "/home/lauro/nupeb/rede-micro/redemicro-ana-flavia-nutri/data/raw/manifest/manifest-ana-flavia-STD-NRxHSD-NR.csv",
    "metadata_file": "/home/lauro/nupeb/rede-micro/redemicro-ana-flavia-nutri/data/raw/metadata/metadata-ana-flavia-STD-NRxHSD-NR.tsv",
    "overlap": 12,
    "phred": 20,
    "replace_files": false,
    "threads": 6,
    "top_n": 20,
    "trim": {
     "forward_primer": "CCTACGGGRSGCAGCAG",
     "overlap": 8,
     "reverse_primer": "GGACTACHVGGGTWTCTAAT"
    },
    "trunc_f": 0,
    "trunc_r": 0
   },
   "start_time": "2023-06-07T09:36:16.498904",
   "version": "2.3.4"
  }
 },
 "nbformat": 4,
 "nbformat_minor": 5
}