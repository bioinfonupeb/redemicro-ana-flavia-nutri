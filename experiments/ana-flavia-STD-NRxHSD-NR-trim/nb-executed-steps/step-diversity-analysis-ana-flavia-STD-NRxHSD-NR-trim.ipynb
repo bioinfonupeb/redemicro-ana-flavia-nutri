{
 "cells": [
  {
   "cell_type": "markdown",
   "id": "15bcfa06",
   "metadata": {
    "papermill": {
     "duration": 0.025532,
     "end_time": "2022-10-24T20:37:33.379407",
     "exception": false,
     "start_time": "2022-10-24T20:37:33.353875",
     "status": "completed"
    },
    "tags": []
   },
   "source": [
    " \n",
    "# Alpha and Beta Diversity\n",
    "\n",
    "Different higher-level measures are often used to describe the microbiome in a sample. These do not provide information on changes in the abundance of specific taxa but allow us to access a broader change or difference in the composition of microorganisms. Alpha and beta diversity are examples of such measures.\n",
    "\n",
    "Different measures exist to estimate diversity within a single sample, jointly called alpha diversity. The different measures reflect the richness (number) or distribution (evenness) of a microbial sample or aim to reflect a combination of both properties.\n",
    "\n",
    "Rarefaction curves are often used when calculating alpha diversity indices because increasing numbers of sequenced taxa allow increasingly accurate estimates of total population diversity. Rarefaction curves can therefore be used to estimate the full sample richness, as compared to the observed sample richness.\n",
    "\n",
    "While alpha diversity is a measure of microbiome diversity applicable to a single sample, beta diversity is a measure of the similarity or dissimilarity of two communities. As for alpha diversity, many indices exist, each reflecting different aspects of community heterogeneity. Key differences relate to how the indices value variation in rare species if they consider presence/absence only or incorporate abundance, and how they interpret shared absence. Bray-Curtis dissimilarity is a popular measure that considers both size (overall abundance per sample) and shape (abundance of each taxon) of the communities (Bray, 1957). Beta diversity is an essential measure for many popular statistical methods in ecology, such as ordination-based methods, and is widely used for studying the association between environmental variables and microbial composition.\n",
    "\n",
    "In summary, alpha diversity measures can be seen as a summary statistic of a single population (within-sample diversity), while beta diversity measures are estimates of similarity or dissimilarity between populations (between samples).\n",
    "\n",
    "**Source**: (https://biomcare.com/info/key-terms-in-microbiome-projects/)"
   ]
  },
  {
   "cell_type": "markdown",
   "id": "0e7f2330",
   "metadata": {
    "ExecuteTime": {
     "end_time": "2022-09-22T19:36:33.828188Z",
     "start_time": "2022-09-22T19:36:33.817323Z"
    },
    "papermill": {
     "duration": 0.017735,
     "end_time": "2022-10-24T20:37:33.441559",
     "exception": false,
     "start_time": "2022-10-24T20:37:33.423824",
     "status": "completed"
    },
    "tags": []
   },
   "source": [
    "### STEP : Diversity Analysis\n",
    "\n",
    "Using QIIME2 to create diversity analisys graphs and calculations.\n",
    "\n",
    "- [QIIME2 Workflow Overview](https://docs.qiime2.org/2022.8/tutorials/overview/)\n",
    "\n",
    "\n",
    "#### Methods\n",
    "- [diversity](https://docs.qiime2.org/2022.8/plugins/available/diversity/)\n",
    "- [diversity alpha](https://docs.qiime2.org/2022.8/plugins/available/diversity/alpha/)\n",
    "- [diversity alpha_phylogenetic](https://docs.qiime2.org/2022.8/plugins/available/diversity/alpha-phylogenetic/)\n",
    "- [diversity beta](https://docs.qiime2.org/2022.8/plugins/available/diversity/beta/)\n",
    "- [diversity core_metrics](https://docs.qiime2.org/2022.8/plugins/available/diversity/core-metrics/)\n",
    "- [diversity alpha_group_significance](https://docs.qiime2.org/2022.8/plugins/available/diversity/alpha-group-significance/)\n",
    "- [diversity beta_group_significance](https://docs.qiime2.org/2022.8/plugins/available/diversity/beta-group-significance/)\n",
    "- [feature_table core_features](https://docs.qiime2.org/2022.8/plugins/available/feature-table/core-features/)\n",
    "- [feature_table summarize](https://docs.qiime2.org/2022.8/plugins/available/feature-table/summarize/)\n",
    "- [taxa filter-table](https://docs.qiime2.org/2022.8/plugins/available/taxa/filter-table/)\n",
    "- [taxa collapse](https://docs.qiime2.org/2022.8/plugins/available/taxa/collapse/)"
   ]
  },
  {
   "cell_type": "markdown",
   "id": "843debbf",
   "metadata": {
    "papermill": {
     "duration": 0.016727,
     "end_time": "2022-10-24T20:37:33.475495",
     "exception": false,
     "start_time": "2022-10-24T20:37:33.458768",
     "status": "completed"
    },
    "tags": []
   },
   "source": [
    "## Setup and settings"
   ]
  },
  {
   "cell_type": "code",
   "execution_count": 1,
   "id": "965e28e5",
   "metadata": {
    "ExecuteTime": {
     "end_time": "2022-09-29T20:54:14.786765Z",
     "start_time": "2022-09-29T20:54:08.286473Z"
    },
    "execution": {
     "iopub.execute_input": "2022-10-24T20:37:33.527071Z",
     "iopub.status.busy": "2022-10-24T20:37:33.526582Z",
     "iopub.status.idle": "2022-10-24T20:37:40.191382Z",
     "shell.execute_reply": "2022-10-24T20:37:40.190623Z"
    },
    "papermill": {
     "duration": 6.702168,
     "end_time": "2022-10-24T20:37:40.194592",
     "exception": false,
     "start_time": "2022-10-24T20:37:33.492424",
     "status": "completed"
    },
    "tags": []
   },
   "outputs": [],
   "source": [
    "# Importing packages\n",
    "import os\n",
    "import pandas as pd\n",
    "from qiime2 import Artifact\n",
    "from qiime2 import Visualization\n",
    "from qiime2 import Metadata\n",
    "\n",
    "from qiime2.plugins.phylogeny.pipelines import align_to_tree_mafft_fasttree\n",
    "\n",
    "from qiime2.plugins.diversity.pipelines import alpha\n",
    "from qiime2.plugins.diversity.pipelines import beta\n",
    "from qiime2.plugins.diversity.pipelines import core_metrics\n",
    "from qiime2.plugins.diversity.pipelines import alpha_phylogenetic\n",
    "\n",
    "from qiime2.plugins.diversity.visualizers import alpha_group_significance\n",
    "from qiime2.plugins.diversity.visualizers import beta_group_significance\n",
    "from qiime2.plugins.diversity.visualizers import alpha_correlation\n",
    "from qiime2.plugins.diversity.visualizers import beta_rarefaction\n",
    "\n",
    "from qiime2.plugins.taxa.methods import filter_table\n",
    "from qiime2.plugins.taxa.methods import collapse\n",
    "\n",
    "from qiime2.plugins.feature_table.visualizers import tabulate_seqs\n",
    "from qiime2.plugins.feature_table.visualizers import summarize\n",
    "from qiime2.plugins.feature_table.visualizers import core_features\n",
    "\n",
    "from qiime2.plugins.alignment.methods import mafft\n",
    "\n",
    "\n",
    "import matplotlib.pyplot as plt\n",
    "\n",
    "%matplotlib inline"
   ]
  },
  {
   "cell_type": "markdown",
   "id": "530ceb60",
   "metadata": {
    "papermill": {
     "duration": 0.015516,
     "end_time": "2022-10-24T20:37:40.232844",
     "exception": false,
     "start_time": "2022-10-24T20:37:40.217328",
     "status": "completed"
    },
    "tags": []
   },
   "source": [
    "### Receiving the parameters\n",
    "\n",
    "The following cell can receive parameters using the [papermill](https://papermill.readthedocs.io/en/latest/) tool."
   ]
  },
  {
   "cell_type": "code",
   "execution_count": 2,
   "id": "18d874ea",
   "metadata": {
    "ExecuteTime": {
     "end_time": "2022-09-29T20:54:14.793270Z",
     "start_time": "2022-09-29T20:54:14.789367Z"
    },
    "execution": {
     "iopub.execute_input": "2022-10-24T20:37:40.327689Z",
     "iopub.status.busy": "2022-10-24T20:37:40.327451Z",
     "iopub.status.idle": "2022-10-24T20:37:40.332095Z",
     "shell.execute_reply": "2022-10-24T20:37:40.331418Z"
    },
    "papermill": {
     "duration": 0.023452,
     "end_time": "2022-10-24T20:37:40.333616",
     "exception": false,
     "start_time": "2022-10-24T20:37:40.310164",
     "status": "completed"
    },
    "tags": [
     "parameters"
    ]
   },
   "outputs": [],
   "source": [
    "metadata_file = '/home/lauro/nupeb/rede-micro/redemicro-miliane-nutri/data/raw/metadata/miliane-metadata-CxAC.tsv'\n",
    "base_dir = os.path.join('/', 'home', 'lauro', 'nupeb', 'rede-micro', 'redemicro-miliane-nutri')\n",
    "experiment_name = 'miliane-CxAC-trim'\n",
    "class_col = 'group-id'\n",
    "replace_files = False"
   ]
  },
  {
   "cell_type": "code",
   "execution_count": 3,
   "id": "394e7819",
   "metadata": {
    "execution": {
     "iopub.execute_input": "2022-10-24T20:37:40.368198Z",
     "iopub.status.busy": "2022-10-24T20:37:40.367987Z",
     "iopub.status.idle": "2022-10-24T20:37:40.373451Z",
     "shell.execute_reply": "2022-10-24T20:37:40.372675Z"
    },
    "papermill": {
     "duration": 0.023907,
     "end_time": "2022-10-24T20:37:40.375044",
     "exception": false,
     "start_time": "2022-10-24T20:37:40.351137",
     "status": "completed"
    },
    "tags": [
     "injected-parameters"
    ]
   },
   "outputs": [],
   "source": [
    "# Parameters\n",
    "experiment_name = \"ana-flavia-STD-NRxHSD-NR-trim\"\n",
    "base_dir = \"/home/lauro/nupeb/rede-micro/redemicro-ana-flavia-nutri\"\n",
    "manifest_file = \"/home/lauro/nupeb/rede-micro/redemicro-ana-flavia-nutri/data/raw/manifest/manifest-ana-flavia-STD-NRxHSD-NR.csv\"\n",
    "metadata_file = \"/home/lauro/nupeb/rede-micro/redemicro-ana-flavia-nutri/data/raw/metadata/metadata-ana-flavia-STD-NRxHSD-NR.tsv\"\n",
    "class_col = \"group-id\"\n",
    "classifier_file = (\n",
    "    \"/home/lauro/nupeb/16S_classifiers_qiime2/silva-138-99-nb-classifier.qza\"\n",
    ")\n",
    "replace_files = False\n",
    "phred = 20\n",
    "trunc_f = 0\n",
    "trunc_r = 0\n",
    "overlap = 12\n",
    "threads = 6\n",
    "trim = {\n",
    "    \"overlap\": 8,\n",
    "    \"forward_primer\": \"CCTACGGGRSGCAGCAG\",\n",
    "    \"reverse_primer\": \"GGACTACHVGGGTWTCTAAT\",\n",
    "}\n"
   ]
  },
  {
   "cell_type": "code",
   "execution_count": 4,
   "id": "f38617d9",
   "metadata": {
    "ExecuteTime": {
     "end_time": "2022-09-29T20:54:14.804575Z",
     "start_time": "2022-09-29T20:54:14.794927Z"
    },
    "execution": {
     "iopub.execute_input": "2022-10-24T20:37:40.408756Z",
     "iopub.status.busy": "2022-10-24T20:37:40.408495Z",
     "iopub.status.idle": "2022-10-24T20:37:40.413211Z",
     "shell.execute_reply": "2022-10-24T20:37:40.412470Z"
    },
    "papermill": {
     "duration": 0.023662,
     "end_time": "2022-10-24T20:37:40.414978",
     "exception": false,
     "start_time": "2022-10-24T20:37:40.391316",
     "status": "completed"
    },
    "tags": []
   },
   "outputs": [],
   "source": [
    "experiment_folder = os.path.abspath(os.path.join(base_dir, 'experiments', experiment_name))\n",
    "img_folder = os.path.abspath(os.path.join(experiment_folder, 'imgs'))"
   ]
  },
  {
   "cell_type": "markdown",
   "id": "ea9b90fb",
   "metadata": {
    "papermill": {
     "duration": 0.016292,
     "end_time": "2022-10-24T20:37:40.447967",
     "exception": false,
     "start_time": "2022-10-24T20:37:40.431675",
     "status": "completed"
    },
    "tags": []
   },
   "source": [
    "### Defining names, paths and flags"
   ]
  },
  {
   "cell_type": "code",
   "execution_count": 5,
   "id": "45727eef",
   "metadata": {
    "ExecuteTime": {
     "end_time": "2022-09-29T20:54:14.816686Z",
     "start_time": "2022-09-29T20:54:14.806238Z"
    },
    "execution": {
     "iopub.execute_input": "2022-10-24T20:37:40.481642Z",
     "iopub.status.busy": "2022-10-24T20:37:40.481334Z",
     "iopub.status.idle": "2022-10-24T20:37:40.491075Z",
     "shell.execute_reply": "2022-10-24T20:37:40.490272Z"
    },
    "papermill": {
     "duration": 0.028387,
     "end_time": "2022-10-24T20:37:40.492612",
     "exception": false,
     "start_time": "2022-10-24T20:37:40.464225",
     "status": "completed"
    },
    "tags": []
   },
   "outputs": [],
   "source": [
    "# QIIME2 Artifacts folder\n",
    "qiime_folder = os.path.join(experiment_folder, 'qiime-artifacts')\n",
    "\n",
    "# Input - DADA2 Artifacts\n",
    "dada2_tabs_path = os.path.join(qiime_folder, 'dada2-tabs.qza')\n",
    "dada2_reps_path = os.path.join(qiime_folder, 'dada2-reps.qza')\n",
    "dada2_stat_path = os.path.join(qiime_folder, 'dada2-stat.qza')\n",
    "\n",
    "# Input - Taxonaomic Artifacts\n",
    "taxonomy_path = os.path.join(qiime_folder, 'metatax.qza')\n",
    "\n",
    "# Output -Diversity Artifacts\n",
    "alpha_diversity_path = os.path.join(qiime_folder, 'alpha-diversity.qza')\n",
    "alpha_diversity_view_path = os.path.join(qiime_folder, 'alpha-diversity.qzv')\n",
    "beta_diversity_path = os.path.join(qiime_folder, 'beta-diversity.qza')\n",
    "beta_diversity_view_path = os.path.join(qiime_folder, 'beta-diversity.qzv')\n",
    "\n",
    "dada2_tabs_view = os.path.join(qiime_folder, 'dada2-tabs.qzv')\n",
    "dada2_reps_view = os.path.join(qiime_folder, 'dada2-reps.qzv')\n",
    "dada2_core_view = os.path.join(qiime_folder, 'dada2-core.qzv')\n",
    "\n",
    "# Flag - Load or create files\n",
    "need_tax = not (os.path.isfile(alpha_diversity_path)) or replace_files\n",
    "need_view = not (os.path.isfile(alpha_diversity_view_path)) or replace_files"
   ]
  },
  {
   "cell_type": "code",
   "execution_count": 6,
   "id": "601ae263",
   "metadata": {
    "ExecuteTime": {
     "end_time": "2022-09-29T20:54:14.829117Z",
     "start_time": "2022-09-29T20:54:14.818272Z"
    },
    "execution": {
     "iopub.execute_input": "2022-10-24T20:37:40.529342Z",
     "iopub.status.busy": "2022-10-24T20:37:40.529145Z",
     "iopub.status.idle": "2022-10-24T20:37:40.536059Z",
     "shell.execute_reply": "2022-10-24T20:37:40.535213Z"
    },
    "papermill": {
     "duration": 0.025375,
     "end_time": "2022-10-24T20:37:40.537719",
     "exception": false,
     "start_time": "2022-10-24T20:37:40.512344",
     "status": "completed"
    },
    "tags": []
   },
   "outputs": [],
   "source": [
    "def filter_and_collapse(tab, seqs, tax, meta, lvl, exclude=True, exclude_list='uncultured,unidentified,metagenome'):\n",
    "    from qiime2.plugins.taxa.methods import collapse\n",
    "    from qiime2.plugins.taxa.methods import filter_table\n",
    "    from qiime2.plugins.feature_table.methods import filter_seqs\n",
    "    from qiime2.plugins.feature_table.visualizers import summarize\n",
    "    \n",
    "    to_include = ('d', 'p', 'c', 'o', 'f', 'g', 's')[lvl-1]\n",
    "    to_include += '__'\n",
    "    to_exclude = exclude_list if exclude else None\n",
    "    \n",
    "    filtered_tabs = filter_table(\n",
    "        table=tab, \n",
    "        taxonomy=tax,\n",
    "        include=to_include,\n",
    "        exclude=to_exclude,\n",
    "        mode='contains').filtered_table\n",
    "    \n",
    "    filtered_seqs = filter_seqs(\n",
    "        data = seqs,\n",
    "        table = filtered_tabs,\n",
    "    ).filtered_data\n",
    "    \n",
    "    collapsed_table = collapse(table=filtered_tabs, taxonomy=tax, level=lvl).collapsed_table\n",
    "    collapsed_table_view = summarize(table=collapsed_table, sample_metadata=meta).visualization\n",
    "    \n",
    "    return collapsed_table, collapsed_table_view, filtered_seqs"
   ]
  },
  {
   "cell_type": "markdown",
   "id": "0999a1b2",
   "metadata": {
    "papermill": {
     "duration": 0.015909,
     "end_time": "2022-10-24T20:37:40.571709",
     "exception": false,
     "start_time": "2022-10-24T20:37:40.555800",
     "status": "completed"
    },
    "tags": []
   },
   "source": [
    "## Step execution\n",
    "\n",
    "### Load input files\n",
    "\n",
    "This Step import the QIIME2 `FeatureTable[Frequency]` Artifact and the `Metadata` file."
   ]
  },
  {
   "cell_type": "code",
   "execution_count": 7,
   "id": "8f299d1a",
   "metadata": {
    "ExecuteTime": {
     "end_time": "2022-09-29T20:54:15.559837Z",
     "start_time": "2022-09-29T20:54:14.830405Z"
    },
    "execution": {
     "iopub.execute_input": "2022-10-24T20:37:40.608415Z",
     "iopub.status.busy": "2022-10-24T20:37:40.608143Z",
     "iopub.status.idle": "2022-10-24T20:37:41.080240Z",
     "shell.execute_reply": "2022-10-24T20:37:41.079438Z"
    },
    "papermill": {
     "duration": 0.493712,
     "end_time": "2022-10-24T20:37:41.083280",
     "exception": false,
     "start_time": "2022-10-24T20:37:40.589568",
     "status": "completed"
    },
    "tags": []
   },
   "outputs": [],
   "source": [
    "#Load Metadata\n",
    "metadata_qa = Metadata.load(metadata_file)\n",
    "\n",
    "#Load FeatureTable[Frequency]\n",
    "tabs = Artifact.load(dada2_tabs_path)\n",
    "tabs_df = tabs.view(Metadata).to_dataframe().T\n",
    "\n",
    "# FeatureData[Sequence]\n",
    "reps = Artifact.load(dada2_reps_path)\n",
    "\n",
    "# FeatureData[Taxonomy]\n",
    "tax = Artifact.load(taxonomy_path)"
   ]
  },
  {
   "cell_type": "code",
   "execution_count": 8,
   "id": "c8dfe530",
   "metadata": {
    "ExecuteTime": {
     "end_time": "2022-09-29T20:54:15.564968Z",
     "start_time": "2022-09-29T20:54:15.561875Z"
    },
    "execution": {
     "iopub.execute_input": "2022-10-24T20:37:41.123303Z",
     "iopub.status.busy": "2022-10-24T20:37:41.122979Z",
     "iopub.status.idle": "2022-10-24T20:37:41.126447Z",
     "shell.execute_reply": "2022-10-24T20:37:41.125775Z"
    },
    "papermill": {
     "duration": 0.02217,
     "end_time": "2022-10-24T20:37:41.127995",
     "exception": false,
     "start_time": "2022-10-24T20:37:41.105825",
     "status": "completed"
    },
    "tags": []
   },
   "outputs": [],
   "source": [
    "# lvl = 7\n",
    "# exclude = True\n",
    "# tabs, collapsed_table_view, reps = filter_and_collapse(\n",
    "#                     tabs, reps, tax, metadata_qa, \n",
    "#                     lvl=lvl,\n",
    "#                     exclude=exclude, \n",
    "#                     exclude_list='uncultured,unidentified,metagenome')\n",
    "# collapsed_table_view"
   ]
  },
  {
   "cell_type": "code",
   "execution_count": 9,
   "id": "8b66a6e5",
   "metadata": {
    "ExecuteTime": {
     "end_time": "2022-09-29T20:54:20.434382Z",
     "start_time": "2022-09-29T20:54:15.567722Z"
    },
    "execution": {
     "iopub.execute_input": "2022-10-24T20:37:41.161667Z",
     "iopub.status.busy": "2022-10-24T20:37:41.161421Z",
     "iopub.status.idle": "2022-10-24T20:37:45.187767Z",
     "shell.execute_reply": "2022-10-24T20:37:45.187293Z"
    },
    "papermill": {
     "duration": 4.046817,
     "end_time": "2022-10-24T20:37:45.191202",
     "exception": false,
     "start_time": "2022-10-24T20:37:41.144385",
     "status": "completed"
    },
    "tags": []
   },
   "outputs": [
    {
     "data": {
      "text/plain": [
       "'/home/lauro/nupeb/rede-micro/redemicro-ana-flavia-nutri/experiments/ana-flavia-STD-NRxHSD-NR-trim/qiime-artifacts/dada2-core.qzv'"
      ]
     },
     "execution_count": 9,
     "metadata": {},
     "output_type": "execute_result"
    },
    {
     "data": {
      "image/png": "[encoded data removed]",
      "text/plain": [
       "<Figure size 432x288 with 1 Axes>"
      ]
     },
     "metadata": {
      "needs_background": "light"
     },
     "output_type": "display_data"
    }
   ],
   "source": [
    "tabs_view = summarize(table=tabs, sample_metadata=metadata_qa).visualization\n",
    "tabs_view.save(dada2_tabs_view)\n",
    "reps_view = tabulate_seqs(data=reps).visualization\n",
    "reps_view.save(dada2_reps_view)\n",
    "core_view = core_features(table=tabs, min_fraction=.1, steps=10).visualization\n",
    "core_view.save(dada2_core_view)"
   ]
  },
  {
   "cell_type": "code",
   "execution_count": 10,
   "id": "b2bf36b8",
   "metadata": {
    "ExecuteTime": {
     "end_time": "2022-09-29T20:54:20.449299Z",
     "start_time": "2022-09-29T20:54:20.435814Z"
    },
    "execution": {
     "iopub.execute_input": "2022-10-24T20:37:45.256687Z",
     "iopub.status.busy": "2022-10-24T20:37:45.256436Z",
     "iopub.status.idle": "2022-10-24T20:37:45.269775Z",
     "shell.execute_reply": "2022-10-24T20:37:45.269306Z"
    },
    "papermill": {
     "duration": 0.041997,
     "end_time": "2022-10-24T20:37:45.271474",
     "exception": false,
     "start_time": "2022-10-24T20:37:45.229477",
     "status": "completed"
    },
    "tags": []
   },
   "outputs": [
    {
     "name": "stdout",
     "output_type": "stream",
     "text": [
      "['63e8b7dd-7607-4cf8-a05b-c44a5c450ced/data/core-features-1.000.tsv']\n",
      "                         Feature ID     2%     9%   25%    50%     75%  \\\n",
      "0  bc798de4a9acd3ff7ba51c244523be14  47.82  53.85  76.0  225.0  662.25   \n",
      "\n",
      "       91%       98%  \n",
      "0  6146.03  17860.38  \n"
     ]
    }
   ],
   "source": [
    "import zipfile\n",
    "from io import StringIO\n",
    "import pandas as pd\n",
    "with zipfile.ZipFile(dada2_core_view, 'r') as zip_ref:\n",
    "    names = [x for x in zip_ref.namelist() if x.endswith('1.000.tsv')]\n",
    "    print(names)\n",
    "    with zip_ref.open(names[0]) as myfile:\n",
    "        txt = str(myfile.read(), 'utf-8')\n",
    "        txt = StringIO(txt)\n",
    "        df = pd.read_csv(txt, sep='\\t')\n",
    "        print(df)   "
   ]
  },
  {
   "cell_type": "markdown",
   "id": "9f43843a",
   "metadata": {
    "ExecuteTime": {
     "end_time": "2022-09-22T22:48:07.523952Z",
     "start_time": "2022-09-22T22:48:07.517565Z"
    },
    "papermill": {
     "duration": 0.017443,
     "end_time": "2022-10-24T20:37:45.308214",
     "exception": false,
     "start_time": "2022-10-24T20:37:45.290771",
     "status": "completed"
    },
    "tags": []
   },
   "source": [
    "## Alpha diversity analysis\n",
    "\n",
    "#### Reference\n",
    "- [The Use and Types of Alpha-Diversity Metrics in Microbial NGS](https://www.cd-genomics.com/microbioseq/the-use-and-types-of-alpha-diversity-metrics-in-microbial-ngs.html)\n",
    "- [Alpha diversity metrics](http://scikit-bio.org/docs/0.2.0/generated/skbio.diversity.alpha.html)\n",
    "\n",
    "#### Methods\n",
    "- [diversity alpha](https://docs.qiime2.org/2022.8/plugins/available/diversity/alpha/): Computes a user-specified alpha diversity metric for all samples in a\n",
    "feature table.\n",
    "- [diversity alpha_phylogenetic](https://docs.qiime2.org/2022.8/plugins/available/diversity/alpha-phylogenetic/): Computes a user-specified phylogenetic alpha diversity metric for all\n",
    "samples in a feature table.\n",
    "- [diversity alpha_correlation](https://docs.qiime2.org/2022.8/plugins/available/diversity/alpha-correlation/): Determine whether numeric sample metadata columns are correlated with alpha diversity.\n",
    "- [diversity alpha_group_significance](https://docs.qiime2.org/2022.8/plugins/available/diversity/alpha-group-significance/): Visually and statistically compare groups of alpha diversity values."
   ]
  },
  {
   "cell_type": "markdown",
   "id": "606b9c75",
   "metadata": {
    "papermill": {
     "duration": 0.017562,
     "end_time": "2022-10-24T20:37:45.343503",
     "exception": false,
     "start_time": "2022-10-24T20:37:45.325941",
     "status": "completed"
    },
    "tags": []
   },
   "source": [
    "### Compute Alpha Diversity vectors\n",
    "- [diversity alpha](https://docs.qiime2.org/2022.8/plugins/available/diversity/alpha/): Computes a user-specified alpha diversity metric for all samples in a feature table.\n",
    "- [Alpha diversity metrics](http://scikit-bio.org/docs/0.2.0/generated/skbio.diversity.alpha.html)\n",
    " - Choices: ('ace', 'berger_parker_d', 'brillouin_d', 'chao1', 'chao1_ci', 'dominance', 'doubles', 'enspie', 'esty_ci', 'fisher_alpha', 'gini_index', 'goods_coverage', 'heip_e', 'kempton_taylor_q', 'lladser_pe', 'margalef', 'mcintosh_d', 'mcintosh_e', 'menhinick', 'michaelis_menten_fit', 'observed_features', 'osd', 'pielou_e', 'robbins', 'shannon', 'simpson', 'simpson_e', 'singles', 'strong')"
   ]
  },
  {
   "cell_type": "code",
   "execution_count": 11,
   "id": "556e5264",
   "metadata": {
    "ExecuteTime": {
     "end_time": "2022-09-29T20:54:20.790166Z",
     "start_time": "2022-09-29T20:54:20.451134Z"
    },
    "execution": {
     "iopub.execute_input": "2022-10-24T20:37:45.381197Z",
     "iopub.status.busy": "2022-10-24T20:37:45.380905Z",
     "iopub.status.idle": "2022-10-24T20:37:45.701984Z",
     "shell.execute_reply": "2022-10-24T20:37:45.701213Z"
    },
    "papermill": {
     "duration": 0.342936,
     "end_time": "2022-10-24T20:37:45.704568",
     "exception": false,
     "start_time": "2022-10-24T20:37:45.361632",
     "status": "completed"
    },
    "tags": []
   },
   "outputs": [
    {
     "name": "stdout",
     "output_type": "stream",
     "text": [
      "Calculating alpha diversty: chao1\n"
     ]
    },
    {
     "name": "stdout",
     "output_type": "stream",
     "text": [
      "Calculating alpha diversty: simpson\n",
      "Calculating alpha diversty: shannon\n",
      "Calculating alpha diversty: ace\n"
     ]
    },
    {
     "name": "stdout",
     "output_type": "stream",
     "text": [
      "Calculating alpha diversty: observed_features\n"
     ]
    }
   ],
   "source": [
    "metrics = ('chao1', 'simpson', 'shannon', 'ace', 'observed_features')\n",
    "alpha_diversities = dict()\n",
    "for metric in metrics:\n",
    "    print(f\"Calculating alpha diversty: {metric}\")\n",
    "    alpha_diversity = alpha(table=tabs, metric=metric).alpha_diversity\n",
    "    alpha_diversities[metric] = alpha_diversity"
   ]
  },
  {
   "cell_type": "markdown",
   "id": "184bcb7b",
   "metadata": {
    "papermill": {
     "duration": 0.018957,
     "end_time": "2022-10-24T20:37:45.750248",
     "exception": false,
     "start_time": "2022-10-24T20:37:45.731291",
     "status": "completed"
    },
    "tags": []
   },
   "source": [
    "### Create Phylogenetic inference\n",
    "\n",
    "- [alignment align_to_tree_mafft_fasttree](https://docs.qiime2.org/2022.8/plugins/available/phylogeny/align-to-tree-mafft-fasttree/): Build a phylogenetic tree using fasttree and mafft alignment\n",
    "\n",
    "This pipeline will start by creating a sequence alignment using MAFFT,\n",
    "after which any alignment columns that are phylogenetically uninformative\n",
    "or ambiguously aligned will be removed (masked). The resulting masked\n",
    "alignment will be used to infer a phylogenetic tree and then subsequently\n",
    "rooted at its midpoint. Output files from each step of the pipeline will be\n",
    "saved. This includes both the unmasked and masked MAFFT alignment from\n",
    "q2-alignment methods, and both the rooted and unrooted phylogenies from\n",
    "q2-phylogeny methods.\n",
    "\n",
    "\n",
    "Returns\n",
    "- alignment : FeatureData[AlignedSequence] : The aligned sequences.\n",
    "- masked_alignment : FeatureData[AlignedSequence] : The masked alignment.\n",
    "- tree : Phylogeny[Unrooted] : The unrooted phylogenetic tree.\n",
    "- rooted_tree : Phylogeny[Rooted] : The rooted phylogenetic tree."
   ]
  },
  {
   "cell_type": "code",
   "execution_count": 12,
   "id": "9c8cfe47",
   "metadata": {
    "ExecuteTime": {
     "end_time": "2022-09-29T20:54:35.139531Z",
     "start_time": "2022-09-29T20:54:20.792130Z"
    },
    "execution": {
     "iopub.execute_input": "2022-10-24T20:37:45.791660Z",
     "iopub.status.busy": "2022-10-24T20:37:45.791328Z",
     "iopub.status.idle": "2022-10-24T20:38:05.148806Z",
     "shell.execute_reply": "2022-10-24T20:38:05.148070Z"
    },
    "papermill": {
     "duration": 19.382238,
     "end_time": "2022-10-24T20:38:05.151758",
     "exception": false,
     "start_time": "2022-10-24T20:37:45.769520",
     "status": "completed"
    },
    "tags": []
   },
   "outputs": [
    {
     "name": "stdout",
     "output_type": "stream",
     "text": [
      "Running external command line application. This may print messages to stdout and/or stderr.\n",
      "The command being run is below. This command cannot be manually re-run as it will depend on temporary files that no longer exist.\n",
      "\n",
      "Command: mafft --preservecase --inputorder --thread 6 /tmp/qiime2-archive-r_09hzhv/1153ce59-b693-42dd-a38e-205d300d79f8/data/dna-sequences.fasta\n",
      "\n"
     ]
    },
    {
     "name": "stderr",
     "output_type": "stream",
     "text": [
      "inputfile = orig\n",
      "1161 x 430 - 388 d\n",
      "nthread = 6\n",
      "nthreadpair = 6\n",
      "nthreadtb = 6\n",
      "ppenalty_ex = 0\n",
      "stacksize: 8192 kb\n",
      "generating a scoring matrix for nucleotide (dist=200) ... done\n",
      "Gap Penalty = -1.53, +0.00, +0.00\n",
      "\n",
      "\n",
      "\n",
      "Making a distance matrix ..\n",
      "\r",
      "    1 / 1161 (thread    1)\r",
      "  101 / 1161 (thread    0)\r",
      "  201 / 1161 (thread    0)\r",
      "  301 / 1161 (thread    0)\r",
      "  401 / 1161 (thread    3)\r",
      "  501 / 1161 (thread    3)\r",
      "  601 / 1161 (thread    4)"
     ]
    },
    {
     "name": "stderr",
     "output_type": "stream",
     "text": [
      "\r",
      "  701 / 1161 (thread    2)\r",
      "  801 / 1161 (thread    0)\r",
      "  901 / 1161 (thread    4)\r",
      " 1001 / 1161 (thread    3)\r",
      " 1101 / 1161 (thread    3)\n",
      "done.\n",
      "\n",
      "Constructing a UPGMA tree (efffree=0) ... \n",
      "\r",
      "    0 / 1161\r",
      "   10 / 1161\r",
      "   20 / 1161\r",
      "   30 / 1161\r",
      "   40 / 1161\r",
      "   50 / 1161\r",
      "   60 / 1161\r",
      "   70 / 1161\r",
      "   80 / 1161\r",
      "   90 / 1161\r",
      "  100 / 1161\r",
      "  110 / 1161\r",
      "  120 / 1161\r",
      "  130 / 1161\r",
      "  140 / 1161\r",
      "  150 / 1161\r",
      "  160 / 1161\r",
      "  170 / 1161\r",
      "  180 / 1161\r",
      "  190 / 1161\r",
      "  200 / 1161\r",
      "  210 / 1161\r",
      "  220 / 1161\r",
      "  230 / 1161\r",
      "  240 / 1161\r",
      "  250 / 1161\r",
      "  260 / 1161\r",
      "  270 / 1161\r",
      "  280 / 1161\r",
      "  290 / 1161\r",
      "  300 / 1161\r",
      "  310 / 1161\r",
      "  320 / 1161\r",
      "  330 / 1161\r",
      "  340 / 1161\r",
      "  350 / 1161\r",
      "  360 / 1161\r",
      "  370 / 1161\r",
      "  380 / 1161\r",
      "  390 / 1161\r",
      "  400 / 1161\r",
      "  410 / 1161\r",
      "  420 / 1161\r",
      "  430 / 1161\r",
      "  440 / 1161\r",
      "  450 / 1161\r",
      "  460 / 1161\r",
      "  470 / 1161\r",
      "  480 / 1161\r",
      "  490 / 1161\r",
      "  500 / 1161\r",
      "  510 / 1161\r",
      "  520 / 1161\r",
      "  530 / 1161\r",
      "  540 / 1161\r",
      "  550 / 1161\r",
      "  560 / 1161\r",
      "  570 / 1161\r",
      "  580 / 1161\r",
      "  590 / 1161\r",
      "  600 / 1161\r",
      "  610 / 1161\r",
      "  620 / 1161\r",
      "  630 / 1161\r",
      "  640 / 1161\r",
      "  650 / 1161\r",
      "  660 / 1161\r",
      "  670 / 1161\r",
      "  680 / 1161\r",
      "  690 / 1161\r",
      "  700 / 1161\r",
      "  710 / 1161\r",
      "  720 / 1161\r",
      "  730 / 1161\r",
      "  740 / 1161\r",
      "  750 / 1161\r",
      "  760 / 1161\r",
      "  770 / 1161\r",
      "  780 / 1161\r",
      "  790 / 1161\r",
      "  800 / 1161\r",
      "  810 / 1161\r",
      "  820 / 1161\r",
      "  830 / 1161\r",
      "  840 / 1161\r",
      "  850 / 1161\r",
      "  860 / 1161\r",
      "  870 / 1161\r",
      "  880 / 1161\r",
      "  890 / 1161\r",
      "  900 / 1161\r",
      "  910 / 1161\r",
      "  920 / 1161\r",
      "  930 / 1161\r",
      "  940 / 1161\r",
      "  950 / 1161\r",
      "  960 / 1161\r",
      "  970 / 1161\r",
      "  980 / 1161\r",
      "  990 / 1161\r",
      " 1000 / 1161\r",
      " 1010 / 1161\r",
      " 1020 / 1161\r",
      " 1030 / 1161\r",
      " 1040 / 1161\r",
      " 1050 / 1161\r",
      " 1060 / 1161\r",
      " 1070 / 1161\r",
      " 1080 / 1161\r",
      " 1090 / 1161\r",
      " 1100 / 1161\r",
      " 1110 / 1161\r",
      " 1120 / 1161\r",
      " 1130 / 1161\r",
      " 1140 / 1161\r",
      " 1150 / 1161\n",
      "done.\n",
      "\n",
      "Progressive alignment 1/2... \n",
      "\r",
      "STEP     1 / 1160 (thread    0) f\b\b\r",
      "STEP     2 / 1160 (thread    1) f\b\b\r",
      "STEP     3 / 1160 (thread    2) f\b\b\r",
      "STEP     4 / 1160 (thread    3) f\b\b\r",
      "STEP     5 / 1160 (thread    4) f\b\b\r",
      "STEP     6 / 1160 (thread    5) f\b\b\r",
      "STEP     7 / 1160 (thread    5) f\b\b\r",
      "STEP     8 / 1160 (thread    5) f\b\b\r",
      "STEP     9 / 1160 (thread    4) f\b\b\r",
      "STEP    10 / 1160 (thread    5) f\b\b\r",
      "STEP    11 / 1160 (thread    2) f\b\b\r",
      "STEP    12 / 1160 (thread    5) f\b\b\r",
      "STEP    13 / 1160 (thread    1) f\b\b\r",
      "STEP    14 / 1160 (thread    3) f\b\b\r",
      "STEP    15 / 1160 (thread    0) f\b\b\r",
      "STEP    16 / 1160 (thread    4) f\b\b\r",
      "STEP    17 / 1160 (thread    5) f\b\b\r",
      "STEP    18 / 1160 (thread    2) f\b\b\r",
      "STEP    19 / 1160 (thread    5) f\b\b\r",
      "STEP    20 / 1160 (thread    1) f\b\b\r",
      "STEP    21 / 1160 (thread    4) f\b\b\r",
      "STEP    22 / 1160 (thread    2) f\b\b\r",
      "STEP    23 / 1160 (thread    5) f\b\b\r",
      "STEP    24 / 1160 (thread    1) f\b\b\r",
      "STEP    25 / 1160 (thread    3) f\b\b\r",
      "STEP    26 / 1160 (thread    0) f\b\b\r",
      "STEP    27 / 1160 (thread    2) f\b\b\r",
      "STEP    28 / 1160 (thread    5) f\b\b\r",
      "STEP    29 / 1160 (thread    1) f\b\b\r",
      "STEP    30 / 1160 (thread    4) f\b\b\r",
      "STEP    31 / 1160 (thread    2) f\b\b\r",
      "STEP    32 / 1160 (thread    5) f\b\b\r",
      "STEP    33 / 1160 (thread    1) f\b\b\r",
      "STEP    34 / 1160 (thread    0) f\b\b\r",
      "STEP    35 / 1160 (thread    3) f\b\b\r",
      "STEP    36 / 1160 (thread    2) f\b\b\r",
      "STEP    37 / 1160 (thread    5) f\b\b\r",
      "STEP    38 / 1160 (thread    4) f\b\b\r",
      "STEP    39 / 1160 (thread    1) f\b\b\r",
      "STEP    40 / 1160 (thread    3) f\b\b\r",
      "STEP    41 / 1160 (thread    0) f\b\b\r",
      "STEP    42 / 1160 (thread    2) f\b\b\r",
      "STEP    43 / 1160 (thread    5) f\b\b\r",
      "STEP    44 / 1160 (thread    4) f\b\b\r",
      "STEP    45 / 1160 (thread    1) f\b\b\r",
      "STEP    46 / 1160 (thread    4) f\b\b\r",
      "STEP    47 / 1160 (thread    5) f\b\b\r",
      "STEP    48 / 1160 (thread    0) f\b\b\r",
      "STEP    49 / 1160 (thread    3) f\b\b\r",
      "STEP    50 / 1160 (thread    2) f\b\b\r",
      "STEP    51 / 1160 (thread    1) f\b\b\r",
      "STEP    52 / 1160 (thread    4) f\b\b\r",
      "STEP    55 / 1160 (thread    3) f\b\b\r",
      "STEP    54 / 1160 (thread    0) f\b\b\r",
      "STEP    56 / 1160 (thread    2) f\b\b\r",
      "STEP    57 / 1160 (thread    4) f\b\b\r",
      "STEP    58 / 1160 (thread    1) f\b\b\r",
      "STEP    53 / 1160 (thread    5) f\b\b\r",
      "STEP    59 / 1160 (thread    3) f\b\b\r",
      "STEP    60 / 1160 (thread    2) f\b\b\r",
      "STEP    61 / 1160 (thread    4) f\b\b\r",
      "STEP    62 / 1160 (thread    1) f\b\b\r",
      "STEP    63 / 1160 (thread    4) f\b\b\r",
      "STEP    64 / 1160 (thread    3) f\b\b\r",
      "STEP    65 / 1160 (thread    2) f\b\b\r",
      "STEP    66 / 1160 (thread    0) f\b\b\r",
      "STEP    67 / 1160 (thread    4) f\b\b\r",
      "STEP    68 / 1160 (thread    5) f\b\b\r",
      "STEP    69 / 1160 (thread    1) f\b\b\r",
      "STEP    70 / 1160 (thread    3) f\b\b\r",
      "STEP    71 / 1160 (thread    2) f\b\b\r",
      "STEP    72 / 1160 (thread    4) f\b\b\r",
      "STEP    73 / 1160 (thread    5) f\b\b\r",
      "STEP    74 / 1160 (thread    0) f\b\b\r",
      "STEP    75 / 1160 (thread    1) f\b\b\r",
      "STEP    76 / 1160 (thread    4) f\b\b\r",
      "STEP    77 / 1160 (thread    3) f\b\b\r",
      "STEP    78 / 1160 (thread    5) f\b\b\r",
      "STEP    79 / 1160 (thread    2) f\b\b\r",
      "STEP    80 / 1160 (thread    0) f\b\b\r",
      "STEP    81 / 1160 (thread    1) f\b\b\r",
      "STEP    82 / 1160 (thread    4) f\b\b\r",
      "STEP    83 / 1160 (thread    5) f\b\b\r",
      "STEP    84 / 1160 (thread    3) f\b\b\r",
      "STEP    85 / 1160 (thread    4) f\b\b\r",
      "STEP    86 / 1160 (thread    5) f\b\b\r",
      "STEP    87 / 1160 (thread    1) f\b\b\r",
      "STEP    88 / 1160 (thread    3) f\b\b\r",
      "STEP    89 / 1160 (thread    4) f\b\b\r",
      "STEP    90 / 1160 (thread    5) f\b\b\r",
      "STEP    91 / 1160 (thread    0) f\b\b\r",
      "STEP    92 / 1160 (thread    2) f\b\b\r",
      "STEP    93 / 1160 (thread    1) f\b\b\r",
      "STEP    94 / 1160 (thread    3) f\b\b\r",
      "STEP    95 / 1160 (thread    4) f\b\b\r",
      "STEP    96 / 1160 (thread    5) f\b\b\r",
      "STEP    97 / 1160 (thread    0) f\b\b\r",
      "STEP    98 / 1160 (thread    2) f\b\b\r",
      "STEP    99 / 1160 (thread    5) f\b\b\r",
      "STEP   100 / 1160 (thread    4) f\b\b\r",
      "STEP   101 / 1160 (thread    1) f\b\b\r",
      "STEP   102 / 1160 (thread    3) f\b\b\r",
      "STEP   103 / 1160 (thread    5) f\b\b\r",
      "STEP   104 / 1160 (thread    4) f\b\b\r",
      "STEP   105 / 1160 (thread    0) f\b\b\r",
      "STEP   106 / 1160 (thread    2) f\b\b\r",
      "STEP   107 / 1160 (thread    1) f\b\b\r",
      "STEP   108 / 1160 (thread    3) f\b\b\r",
      "STEP   109 / 1160 (thread    5) f\b\b\r",
      "STEP   110 / 1160 (thread    4) f\b\b\r",
      "STEP   111 / 1160 (thread    0) f\b\b\r",
      "STEP   112 / 1160 (thread    2) f\b\b\r",
      "STEP   113 / 1160 (thread    5) f\b\b\r",
      "STEP   114 / 1160 (thread    1) f\b\b\r",
      "STEP   115 / 1160 (thread    3) f\b\b\r",
      "STEP   116 / 1160 (thread    4) f\b\b\r",
      "STEP   117 / 1160 (thread    0) f\b\b\r",
      "STEP   118 / 1160 (thread    5) f\b\b\r",
      "STEP   119 / 1160 (thread    2) f\b\b\r",
      "STEP   120 / 1160 (thread    1) f\b\b\r",
      "STEP   121 / 1160 (thread    3) f\b\b\r",
      "STEP   122 / 1160 (thread    4) f\b\b\r",
      "STEP   123 / 1160 (thread    5) f\b\b\r",
      "STEP   124 / 1160 (thread    0) f\b\b\r",
      "STEP   125 / 1160 (thread    4) f\b\b\r",
      "STEP   126 / 1160 (thread    2) f\b\b\r",
      "STEP   127 / 1160 (thread    3) f\b\b\r",
      "STEP   128 / 1160 (thread    5) f\b\b\r",
      "STEP   129 / 1160 (thread    1) f\b\b\r",
      "STEP   130 / 1160 (thread    0) f\b\b\r",
      "STEP   131 / 1160 (thread    5) f\b\b\r",
      "STEP   132 / 1160 (thread    4) f\b\b\r",
      "STEP   133 / 1160 (thread    2) f\b\b\r",
      "STEP   134 / 1160 (thread    5) f\b\b\r",
      "STEP   135 / 1160 (thread    0) f\b\b\r",
      "STEP   136 / 1160 (thread    3) f\b\b\r",
      "STEP   137 / 1160 (thread    1) f\b\b\r",
      "STEP   138 / 1160 (thread    4) f\b\b\r",
      "STEP   139 / 1160 (thread    5) f\b\b\r",
      "STEP   140 / 1160 (thread    4) f\b\b\r",
      "STEP   141 / 1160 (thread    2) f\b\b\r",
      "STEP   143 / 1160 (thread    3) f\b\b\r",
      "STEP   144 / 1160 (thread    1) f\b\b\r",
      "STEP   142 / 1160 (thread    0) f\b\b\r",
      "STEP   145 / 1160 (thread    5) f\b\b\r",
      "STEP   146 / 1160 (thread    3) f\b\b\r",
      "STEP   147 / 1160 (thread    5) f\b\b\r",
      "STEP   148 / 1160 (thread    1) f\b\b\r",
      "STEP   149 / 1160 (thread    4) f\b\b\r",
      "STEP   150 / 1160 (thread    3) f\b\b\r",
      "STEP   151 / 1160 (thread    2) f\b\b\r",
      "STEP   152 / 1160 (thread    5) f\b\b\r",
      "STEP   153 / 1160 (thread    1) f\b\b\r",
      "STEP   154 / 1160 (thread    0) f\b\b\r",
      "STEP   155 / 1160 (thread    5) f\b\b\r",
      "STEP   156 / 1160 (thread    2) f\b\b\r",
      "STEP   157 / 1160 (thread    1) f\b\b\r",
      "STEP   158 / 1160 (thread    3) f\b\b\r",
      "STEP   159 / 1160 (thread    0) f\b\b\r",
      "STEP   160 / 1160 (thread    4) f\b\b\r",
      "STEP   161 / 1160 (thread    5) f\b\b\r",
      "STEP   162 / 1160 (thread    3) f\b\b\r",
      "STEP   163 / 1160 (thread    2) f\b\b\r",
      "STEP   164 / 1160 (thread    0) f\b\b\r",
      "STEP   165 / 1160 (thread    2) f\b\b\r",
      "STEP   166 / 1160 (thread    1) f\b\b\r",
      "STEP   167 / 1160 (thread    4) f\b\b\r",
      "STEP   168 / 1160 (thread    0) f\b\b\r",
      "STEP   169 / 1160 (thread    2) f\b\b\r",
      "STEP   170 / 1160 (thread    5) f\b\b\r",
      "STEP   171 / 1160 (thread    1) f\b\b\r",
      "STEP   172 / 1160 (thread    3) f\b\b\r",
      "STEP   173 / 1160 (thread    5) f\b\b\r",
      "STEP   174 / 1160 (thread    3) f\b\b\r",
      "STEP   175 / 1160 (thread    2) f\b\b\r",
      "STEP   176 / 1160 (thread    1) f\b\b\r",
      "STEP   177 / 1160 (thread    0) f\b\b\r",
      "STEP   178 / 1160 (thread    5) f\b\b\r",
      "STEP   179 / 1160 (thread    5) f\b\b\r",
      "STEP   180 / 1160 (thread    4) f\b\b\r",
      "STEP   181 / 1160 (thread    1) f\b\b\r",
      "STEP   182 / 1160 (thread    3) f\b\b\r",
      "STEP   183 / 1160 (thread    0) f\b\b\r",
      "STEP   184 / 1160 (thread    5) f\b\b\r",
      "STEP   185 / 1160 (thread    2) f\b\b\r",
      "STEP   186 / 1160 (thread    1) f\b\b\r",
      "STEP   187 / 1160 (thread    4) f\b\b\r",
      "STEP   188 / 1160 (thread    3) f\b\b\r",
      "STEP   189 / 1160 (thread    0) f\b\b\r",
      "STEP   190 / 1160 (thread    5) f\b\b\r",
      "STEP   191 / 1160 (thread    3) f\b\b\r",
      "STEP   192 / 1160 (thread    2) f\b\b\r",
      "STEP   193 / 1160 (thread    1) f\b\b\r",
      "STEP   194 / 1160 (thread    0) f\b\b\r",
      "STEP   195 / 1160 (thread    3) f\b\b\r",
      "STEP   196 / 1160 (thread    5) f\b\b\r",
      "STEP   197 / 1160 (thread    4) f\b\b\r",
      "STEP   198 / 1160 (thread    3) f\b\b\r",
      "STEP   199 / 1160 (thread    5) f\b\b\r",
      "STEP   200 / 1160 (thread    2) f\b\b\r",
      "STEP   201 / 1160 (thread    1) f\b\b\r",
      "STEP   202 / 1160 (thread    0) f\b\b\r",
      "STEP   203 / 1160 (thread    5) f\b\b\r",
      "STEP   204 / 1160 (thread    4)\r",
      "STEP   205 / 1160 (thread    2)\r",
      "STEP   206 / 1160 (thread    1) f\b\b f\b\b f\b\b\r",
      "STEP   207 / 1160 (thread    0) f\b\b\r",
      "STEP   208 / 1160 (thread    5) f\b\b\r",
      "STEP   209 / 1160 (thread    3) f\b\b\r",
      "STEP   210 / 1160 (thread    5) f\b\b\r",
      "STEP   211 / 1160 (thread    4) f\b\b\r",
      "STEP   212 / 1160 (thread    1) f\b\b\r",
      "STEP   213 / 1160 (thread    2) f\b\b\r",
      "STEP   214 / 1160 (thread    3) f\b\b\r",
      "STEP   215 / 1160 (thread    0) f\b\b\r",
      "STEP   216 / 1160 (thread    5) f\b\b\r",
      "STEP   217 / 1160 (thread    3) f\b\b\r",
      "STEP   218 / 1160 (thread    1) f\b\b\r",
      "STEP   219 / 1160 (thread    4) f\b\b\r",
      "STEP   220 / 1160 (thread    2) f\b\b\r",
      "STEP   221 / 1160 (thread    0) f\b\b\r",
      "STEP   222 / 1160 (thread    5) f\b\b\r",
      "STEP   223 / 1160 (thread    3) f\b\b\r",
      "STEP   224 / 1160 (thread    4) f\b\b\r",
      "STEP   225 / 1160 (thread    1) f\b\b\r",
      "STEP   226 / 1160 (thread    5) f\b\b\r",
      "STEP   227 / 1160 (thread    2) f\b\b\r",
      "STEP   228 / 1160 (thread    0) f\b\b\r",
      "STEP   229 / 1160 (thread    3) f\b\b\r",
      "STEP   230 / 1160 (thread    5) f\b\b\r",
      "STEP   231 / 1160 (thread    3) f\b\b\r",
      "STEP   232 / 1160 (thread    4) f\b\b\r",
      "STEP   233 / 1160 (thread    1) f\b\b\r",
      "STEP   234 / 1160 (thread    2) f\b\b\r",
      "STEP   235 / 1160 (thread    0) f\b\b\r",
      "STEP   236 / 1160 (thread    5) f\b\b\r",
      "STEP   237 / 1160 (thread    3) f\b\b\r",
      "STEP   238 / 1160 (thread    1) f\b\b\r",
      "STEP   239 / 1160 (thread    5) f\b\b\r",
      "STEP   240 / 1160 (thread    2) f\b\b\r",
      "STEP   241 / 1160 (thread    3) f\b\b\r",
      "STEP   242 / 1160 (thread    0) f\b\b\r",
      "STEP   243 / 1160 (thread    5) f\b\b\r",
      "STEP   244 / 1160 (thread    4) f\b\b\r",
      "STEP   245 / 1160 (thread    1) f\b\b\r",
      "STEP   246 / 1160 (thread    2) f\b\b\r",
      "STEP   247 / 1160 (thread    3) f\b\b\r",
      "STEP   248 / 1160 (thread    5) f\b\b\r",
      "STEP   249 / 1160 (thread    4) f\b\b\r",
      "STEP   250 / 1160 (thread    2) f\b\b\r",
      "STEP   251 / 1160 (thread    0) f\b\b\r",
      "STEP   252 / 1160 (thread    3) f\b\b\r",
      "STEP   253 / 1160 (thread    5) f\b\b\r",
      "STEP   254 / 1160 (thread    1) f\b\b\r",
      "STEP   255 / 1160 (thread    5) f\b\b\r",
      "STEP   256 / 1160 (thread    3) f\b\b\r",
      "STEP   257 / 1160 (thread    4) f\b\b\r",
      "STEP   258 / 1160 (thread    2) f\b\b\r",
      "STEP   259 / 1160 (thread    1) f\b\b\r",
      "STEP   260 / 1160 (thread    5) f\b\b\r",
      "STEP   261 / 1160 (thread    3) f\b\b\r",
      "STEP   262 / 1160 (thread    0) f\b\b\r",
      "STEP   263 / 1160 (thread    5) f\b\b\r",
      "STEP   264 / 1160 (thread    3) f\b\b\r",
      "STEP   265 / 1160 (thread    0) f\b\b\r",
      "STEP   266 / 1160 (thread    5) f\b\b\r",
      "STEP   267 / 1160 (thread    4) f\b\b\r",
      "STEP   268 / 1160 (thread    2) f\b\b\r",
      "STEP   269 / 1160 (thread    1) f\b\b\r",
      "STEP   270 / 1160 (thread    5) f\b\b\r",
      "STEP   271 / 1160 (thread    3) f\b\b\r",
      "STEP   272 / 1160 (thread    0) f\b\b\r",
      "STEP   273 / 1160 (thread    5) f\b\b\r",
      "STEP   274 / 1160 (thread    3) f\b\b\r",
      "STEP   275 / 1160 (thread    4) f\b\b\r",
      "STEP   276 / 1160 (thread    5) f\b\b\r",
      "STEP   277 / 1160 (thread    0) f\b\b\r",
      "STEP   278 / 1160 (thread    2) f\b\b\r",
      "STEP   279 / 1160 (thread    1) f\b\b\r",
      "STEP   280 / 1160 (thread    5) f\b\b\r",
      "STEP   281 / 1160 (thread    3) f\b\b\r",
      "STEP   282 / 1160 (thread    1) f\b\b\r",
      "STEP   283 / 1160 (thread    4) f\b\b\r",
      "STEP   284 / 1160 (thread    5) f\b\b\r",
      "STEP   285 / 1160 (thread    3) f\b\b\r",
      "STEP   286 / 1160 (thread    0) f\b\b\r",
      "STEP   287 / 1160 (thread    1) f\b\b\r",
      "STEP   288 / 1160 (thread    4) f\b\b\r",
      "STEP   289 / 1160 (thread    2) f\b\b\r",
      "STEP   290 / 1160 (thread    5) f\b\b\r",
      "STEP   291 / 1160 (thread    1) f\b\b\r",
      "STEP   292 / 1160 (thread    3) f\b\b\r",
      "STEP   293 / 1160 (thread    2) f\b\b\r",
      "STEP   294 / 1160 (thread    0) f\b\b\r",
      "STEP   295 / 1160 (thread    3) f\b\b\r",
      "STEP   296 / 1160 (thread    5) f\b\b\r",
      "STEP   297 / 1160 (thread    4) f\b\b\r",
      "STEP   298 / 1160 (thread    5) f\b\b\r",
      "STEP   299 / 1160 (thread    3) f\b\b\r",
      "STEP   300 / 1160 (thread    1) f\b\b\r",
      "STEP   301 / 1160 (thread    4) f\b\b\r",
      "STEP   302 / 1160 (thread    5) f\b\b\r",
      "STEP   303 / 1160 (thread    3) f\b\b\r",
      "STEP   304 / 1160 (thread    1) f\b\b\r",
      "STEP   305 / 1160 (thread    2) f\b\b\r",
      "STEP   306 / 1160 (thread    0) f\b\b\r",
      "STEP   307 / 1160 (thread    5) f\b\b\r",
      "STEP   308 / 1160 (thread    3) f\b\b\r",
      "STEP   309 / 1160 (thread    1) f\b\b\r",
      "STEP   310 / 1160 (thread    2) f\b\b\r",
      "STEP   311 / 1160 (thread    0) f\b\b\r",
      "STEP   312 / 1160 (thread    4) f\b\b\r",
      "STEP   313 / 1160 (thread    5) f\b\b\r",
      "STEP   314 / 1160 (thread    1) f\b\b\r",
      "STEP   315 / 1160 (thread    2) f\b\b\r",
      "STEP   316 / 1160 (thread    4) f\b\b\r",
      "STEP   317 / 1160 (thread    3) f\b\b\r",
      "STEP   318 / 1160 (thread    5) f\b\b\r",
      "STEP   319 / 1160 (thread    0) f\b\b\r",
      "STEP   320 / 1160 (thread    1) f\b\b\r",
      "STEP   321 / 1160 (thread    2) f\b\b\r",
      "STEP   322 / 1160 (thread    1) f\b\b\r",
      "STEP   323 / 1160 (thread    5) f\b\b\r",
      "STEP   324 / 1160 (thread    4) f\b\b\r",
      "STEP   325 / 1160 (thread    3) f\b\b\r",
      "STEP   326 / 1160 (thread    0) f\b\b\r",
      "STEP   328 / 1160 (thread    5) f\b\b\r",
      "STEP   327 / 1160 (thread    2) f\b\b\r",
      "STEP   329 / 1160 (thread    3) f\b\b\r",
      "STEP   330 / 1160 (thread    1) f\b\b\r",
      "STEP   331 / 1160 (thread    4) f\b\b\r",
      "STEP   333 / 1160 (thread    0) f\b\b\r",
      "STEP   332 / 1160 (thread    5) f\b\b\r",
      "STEP   334 / 1160 (thread    3) f\b\b\r",
      "STEP   335 / 1160 (thread    2) f\b\b\r",
      "STEP   336 / 1160 (thread    1) f\b\b\r",
      "STEP   337 / 1160 (thread    5) f\b\b\r",
      "STEP   338 / 1160 (thread    4) f\b\b\r",
      "STEP   339 / 1160 (thread    3) f\b\b\r",
      "STEP   340 / 1160 (thread    0) f\b\b\r",
      "STEP   341 / 1160 (thread    3) f\b\b\r",
      "STEP   342 / 1160 (thread    2) f\b\b\r",
      "STEP   343 / 1160 (thread    5) f\b\b\r",
      "STEP   344 / 1160 (thread    3) f\b\b\r",
      "STEP   345 / 1160 (thread    1) f\b\b\r",
      "STEP   346 / 1160 (thread    4) f\b\b\r",
      "STEP   347 / 1160 (thread    5) f\b\b\r",
      "STEP   348 / 1160 (thread    0) f\b\b\r",
      "STEP   349 / 1160 (thread    3) f\b\b\r",
      "STEP   350 / 1160 (thread    5) f\b\b\r",
      "STEP   351 / 1160 (thread    2) f\b\b\r",
      "STEP   352 / 1160 (thread    0) f\b\b\r",
      "STEP   353 / 1160 (thread    3) f\b\b\r",
      "STEP   354 / 1160 (thread    5) f\b\b\r",
      "STEP   355 / 1160 (thread    1) f\b\b\r",
      "STEP   356 / 1160 (thread    0) f\b\b\r",
      "STEP   357 / 1160 (thread    4) f\b\b\r",
      "STEP   358 / 1160 (thread    3) f\b\b\r",
      "STEP   359 / 1160 (thread    5) f\b\b\r",
      "STEP   360 / 1160 (thread    2) f\b\b\r",
      "STEP   361 / 1160 (thread    1) f\b\b\r",
      "STEP   362 / 1160 (thread    2) f\b\b\r",
      "STEP   363 / 1160 (thread    5) f\b\b\r",
      "STEP   364 / 1160 (thread    3) f\b\b\r",
      "STEP   365 / 1160 (thread    0) f\b\b\r",
      "STEP   366 / 1160 (thread    4) f\b\b\r",
      "STEP   367 / 1160 (thread    1) f\b\b\r",
      "STEP   368 / 1160 (thread    5) f\b\b\r",
      "STEP   369 / 1160 (thread    3) f\b\b\r",
      "STEP   371 / 1160 (thread    1) f\b\b\r",
      "STEP   372 / 1160 (thread    5) f\b\b\r",
      "STEP   370 / 1160 (thread    2) f\b\b\r",
      "STEP   373 / 1160 (thread    0) f\b\b\r",
      "STEP   374 / 1160 (thread    4) f\b\b\r",
      "STEP   375 / 1160 (thread    3) f\b\b\r",
      "STEP   376 / 1160 (thread    5) f\b\b\r",
      "STEP   377 / 1160 (thread    1) f\b\b\r",
      "STEP   378 / 1160 (thread    0) f\b\b\r",
      "STEP   380 / 1160 (thread    5)\r",
      "STEP   379 / 1160 (thread    3) f\b\b f\b\b\r",
      "STEP   381 / 1160 (thread    4) f\b\b\r",
      "STEP   382 / 1160 (thread    1) f\b\b\r",
      "STEP   383 / 1160 (thread    2) f\b\b\r",
      "STEP   384 / 1160 (thread    3) f\b\b\r",
      "STEP   385 / 1160 (thread    5) f\b\b\r",
      "STEP   386 / 1160 (thread    0) f\b\b\r",
      "STEP   387 / 1160 (thread    4) f\b\b\r",
      "STEP   388 / 1160 (thread    5) f\b\b\r",
      "STEP   389 / 1160 (thread    3) f\b\b\r",
      "STEP   390 / 1160 (thread    1) f\b\b\r",
      "STEP   391 / 1160 (thread    2) f\b\b\r",
      "STEP   392 / 1160 (thread    5) f\b\b\r",
      "STEP   393 / 1160 (thread    4) f\b\b\r",
      "STEP   394 / 1160 (thread    0) f\b\b\r",
      "STEP   395 / 1160 (thread    1) f\b\b\r",
      "STEP   396 / 1160 (thread    3) f\b\b\r",
      "STEP   397 / 1160 (thread    5) f\b\b\r",
      "STEP   398 / 1160 (thread    2) f\b\b\r",
      "STEP   399 / 1160 (thread    4) f\b\b\r",
      "STEP   400 / 1160 (thread    1) f\b\b\r",
      "STEP   401 / 1160 (thread    0) f\b\b\r",
      "STEP   402 / 1160 (thread    3) f\b\b\r",
      "STEP   403 / 1160 (thread    5) f\b\b\r",
      "STEP   404 / 1160 (thread    2) f\b\b\r",
      "STEP   405 / 1160 (thread    3) f\b\b\r",
      "STEP   406 / 1160 (thread    4) f\b\b\r",
      "STEP   407 / 1160 (thread    5) f\b\b\r",
      "STEP   408 / 1160 (thread    3) f\b\b\r",
      "STEP   409 / 1160 (thread    5) f\b\b\r",
      "STEP   410 / 1160 (thread    0) f\b\b\r",
      "STEP   411 / 1160 (thread    1) f\b\b\r",
      "STEP   412 / 1160 (thread    2) f\b\b\r",
      "STEP   413 / 1160 (thread    3) f\b\b\r",
      "STEP   414 / 1160 (thread    4) f\b\b\r",
      "STEP   415 / 1160 (thread    5) f\b\b\r",
      "STEP   416 / 1160 (thread    3) f\b\b\r",
      "STEP   417 / 1160 (thread    0) f\b\b\r",
      "STEP   418 / 1160 (thread    1) f\b\b\r",
      "STEP   419 / 1160 (thread    5) f\b\b\r",
      "STEP   420 / 1160 (thread    4) f\b\b\r",
      "STEP   421 / 1160 (thread    1) f\b\b\r",
      "STEP   422 / 1160 (thread    3) f\b\b\r",
      "STEP   423 / 1160 (thread    0) f\b\b\r",
      "STEP   424 / 1160 (thread    2) f\b\b\r",
      "STEP   425 / 1160 (thread    5) f\b\b\r",
      "STEP   426 / 1160 (thread    2) f\b\b\r",
      "STEP   427 / 1160 (thread    4) f\b\b\r",
      "STEP   428 / 1160 (thread    3) f\b\b\r",
      "STEP   429 / 1160 (thread    5) f\b\b\r",
      "STEP   430 / 1160 (thread    2) f\b\b\r",
      "STEP   431 / 1160 (thread    0) f\b\b\r",
      "STEP   432 / 1160 (thread    4) f\b\b\r",
      "STEP   433 / 1160 (thread    5) f\b\b\r",
      "STEP   434 / 1160 (thread    1) f\b\b\r",
      "STEP   435 / 1160 (thread    3) f\b\b\r",
      "STEP   436 / 1160 (thread    2) f\b\b\r",
      "STEP   437 / 1160 (thread    1) f\b\b\r",
      "STEP   438 / 1160 (thread    3) f\b\b\r",
      "STEP   439 / 1160 (thread    5) f\b\b\r",
      "STEP   440 / 1160 (thread    0) f\b\b\r",
      "STEP   441 / 1160 (thread    4) f\b\b\r",
      "STEP   442 / 1160 (thread    5) f\b\b\r",
      "STEP   443 / 1160 (thread    2) f\b\b\r",
      "STEP   444 / 1160 (thread    1) f\b\b\r",
      "STEP   445 / 1160 (thread    3) f\b\b\r",
      "STEP   446 / 1160 (thread    4) f\b\b\r",
      "STEP   447 / 1160 (thread    0) f\b\b\r",
      "STEP   448 / 1160 (thread    1) f\b\b\r",
      "STEP   449 / 1160 (thread    5) f\b\b\r",
      "STEP   450 / 1160 (thread    0) f\b\b\r",
      "STEP   451 / 1160 (thread    1) f\b\b\r",
      "STEP   453 / 1160 (thread    3) f\b\b\r",
      "STEP   454 / 1160 (thread    5) f\b\b\r",
      "STEP   455 / 1160 (thread    4) f\b\b\r",
      "STEP   452 / 1160 (thread    2) f\b\b\r",
      "STEP   456 / 1160 (thread    3) f\b\b\r",
      "STEP   457 / 1160 (thread    0) f\b\b\r",
      "STEP   458 / 1160 (thread    5) f\b\b\r",
      "STEP   459 / 1160 (thread    4) f\b\b\r",
      "STEP   460 / 1160 (thread    3) f\b\b\r",
      "STEP   461 / 1160 (thread    1) f\b\b\r",
      "STEP   462 / 1160 (thread    0) f\b\b\r",
      "STEP   463 / 1160 (thread    3) f\b\b\r",
      "STEP   464 / 1160 (thread    5) f\b\b\r",
      "STEP   465 / 1160 (thread    2) f\b\b\r",
      "STEP   466 / 1160 (thread    4) f\b\b\r",
      "STEP   467 / 1160 (thread    3) f\b\b\r",
      "STEP   468 / 1160 (thread    5) f\b\b\r",
      "STEP   469 / 1160 (thread    1) f\b\b\r",
      "STEP   470 / 1160 (thread    4) f\b\b\r",
      "STEP   471 / 1160 (thread    0) f\b\b\r",
      "STEP   472 / 1160 (thread    3) f\b\b\r",
      "STEP   473 / 1160 (thread    5) f\b\b\r",
      "STEP   474 / 1160 (thread    2) f\b\b\r",
      "STEP   475 / 1160 (thread    1) f\b\b\r",
      "STEP   476 / 1160 (thread    3) f\b\b\r",
      "STEP   477 / 1160 (thread    2) f\b\b\r",
      "STEP   478 / 1160 (thread    5) f\b\b\r",
      "STEP   479 / 1160 (thread    4) f\b\b\r",
      "STEP   480 / 1160 (thread    0) f\b\b\r",
      "STEP   481 / 1160 (thread    1) f\b\b\r",
      "STEP   482 / 1160 (thread    3) f\b\b\r",
      "STEP   483 / 1160 (thread    0) f\b\b\r",
      "STEP   484 / 1160 (thread    5) f\b\b\r",
      "STEP   485 / 1160 (thread    4) f\b\b\r",
      "STEP   486 / 1160 (thread    0) f\b\b\r",
      "STEP   487 / 1160 (thread    1) f\b\b\r",
      "STEP   488 / 1160 (thread    3) f\b\b\r",
      "STEP   489 / 1160 (thread    2) f\b\b\r",
      "STEP   490 / 1160 (thread    5) f\b\b\r",
      "STEP   491 / 1160 (thread    1) f\b\b\r",
      "STEP   492 / 1160 (thread    3) f\b\b\r",
      "STEP   493 / 1160 (thread    4) f\b\b\r",
      "STEP   494 / 1160 (thread    5) f\b\b\r",
      "STEP   495 / 1160 (thread    0) f\b\b\r",
      "STEP   496 / 1160 (thread    2) f\b\b"
     ]
    },
    {
     "name": "stderr",
     "output_type": "stream",
     "text": [
      "\r",
      "STEP   497 / 1160 (thread    4) f\b\b\r",
      "STEP   498 / 1160 (thread    0) f\b\b\r",
      "STEP   499 / 1160 (thread    5) f\b\b\r",
      "STEP   500 / 1160 (thread    1) f\b\b\r",
      "STEP   501 / 1160 (thread    3) f\b\b\r",
      "STEP   601 / 1160 (thread    3) f\b\b\r",
      "STEP   701 / 1160 (thread    4) f\b\b\r",
      "STEP   801 / 1160 (thread    0) f\b\b\r",
      "STEP   901 / 1160 (thread    2) f\b\b\n",
      "Reallocating..done. *alloclen = 1868\n"
     ]
    },
    {
     "name": "stderr",
     "output_type": "stream",
     "text": [
      "\r",
      "STEP  1001 / 1160 (thread    1) f\b\b\r",
      "STEP  1101 / 1160 (thread    0) f\b\b"
     ]
    },
    {
     "name": "stderr",
     "output_type": "stream",
     "text": [
      "\n",
      "done.\n",
      "\n",
      "Making a distance matrix from msa.. \n",
      "\r",
      "    0 / 1161 (thread    1)\r",
      "  100 / 1161 (thread    2)\r",
      "  200 / 1161 (thread    4)\r",
      "  300 / 1161 (thread    5)\r",
      "  400 / 1161 (thread    0)"
     ]
    },
    {
     "name": "stderr",
     "output_type": "stream",
     "text": [
      "\r",
      "  500 / 1161 (thread    1)\r",
      "  600 / 1161 (thread    4)\r",
      "  700 / 1161 (thread    3)\r",
      "  800 / 1161 (thread    0)\r",
      "  900 / 1161 (thread    1)\r",
      " 1000 / 1161 (thread    0)\r",
      " 1100 / 1161 (thread    4)\n",
      "done.\n",
      "\n",
      "Constructing a UPGMA tree (efffree=1) ... \n",
      "\r",
      "    0 / 1161\r",
      "   10 / 1161\r",
      "   20 / 1161\r",
      "   30 / 1161\r",
      "   40 / 1161\r",
      "   50 / 1161\r",
      "   60 / 1161\r",
      "   70 / 1161\r",
      "   80 / 1161\r",
      "   90 / 1161\r",
      "  100 / 1161\r",
      "  110 / 1161\r",
      "  120 / 1161\r",
      "  130 / 1161\r",
      "  140 / 1161\r",
      "  150 / 1161\r",
      "  160 / 1161\r",
      "  170 / 1161\r",
      "  180 / 1161\r",
      "  190 / 1161\r",
      "  200 / 1161\r",
      "  210 / 1161\r",
      "  220 / 1161\r",
      "  230 / 1161\r",
      "  240 / 1161\r",
      "  250 / 1161\r",
      "  260 / 1161\r",
      "  270 / 1161\r",
      "  280 / 1161\r",
      "  290 / 1161\r",
      "  300 / 1161\r",
      "  310 / 1161\r",
      "  320 / 1161\r",
      "  330 / 1161\r",
      "  340 / 1161\r",
      "  350 / 1161\r",
      "  360 / 1161\r",
      "  370 / 1161\r",
      "  380 / 1161\r",
      "  390 / 1161\r",
      "  400 / 1161\r",
      "  410 / 1161\r",
      "  420 / 1161\r",
      "  430 / 1161\r",
      "  440 / 1161\r",
      "  450 / 1161\r",
      "  460 / 1161\r",
      "  470 / 1161\r",
      "  480 / 1161\r",
      "  490 / 1161\r",
      "  500 / 1161\r",
      "  510 / 1161\r",
      "  520 / 1161\r",
      "  530 / 1161\r",
      "  540 / 1161\r",
      "  550 / 1161\r",
      "  560 / 1161\r",
      "  570 / 1161\r",
      "  580 / 1161\r",
      "  590 / 1161\r",
      "  600 / 1161\r",
      "  610 / 1161\r",
      "  620 / 1161\r",
      "  630 / 1161\r",
      "  640 / 1161\r",
      "  650 / 1161\r",
      "  660 / 1161\r",
      "  670 / 1161\r",
      "  680 / 1161\r",
      "  690 / 1161\r",
      "  700 / 1161\r",
      "  710 / 1161\r",
      "  720 / 1161\r",
      "  730 / 1161\r",
      "  740 / 1161\r",
      "  750 / 1161\r",
      "  760 / 1161\r",
      "  770 / 1161\r",
      "  780 / 1161\r",
      "  790 / 1161\r",
      "  800 / 1161\r",
      "  810 / 1161\r",
      "  820 / 1161\r",
      "  830 / 1161\r",
      "  840 / 1161\r",
      "  850 / 1161\r",
      "  860 / 1161\r",
      "  870 / 1161\r",
      "  880 / 1161\r",
      "  890 / 1161\r",
      "  900 / 1161\r",
      "  910 / 1161\r",
      "  920 / 1161\r",
      "  930 / 1161\r",
      "  940 / 1161\r",
      "  950 / 1161\r",
      "  960 / 1161\r",
      "  970 / 1161\r",
      "  980 / 1161\r",
      "  990 / 1161\r",
      " 1000 / 1161\r",
      " 1010 / 1161\r",
      " 1020 / 1161\r",
      " 1030 / 1161\r",
      " 1040 / 1161\r",
      " 1050 / 1161\r",
      " 1060 / 1161\r",
      " 1070 / 1161\r",
      " 1080 / 1161\r",
      " 1090 / 1161\r",
      " 1100 / 1161\r",
      " 1110 / 1161\r",
      " 1120 / 1161\r",
      " 1130 / 1161\r",
      " 1140 / 1161\r",
      " 1150 / 1161\n",
      "done.\n",
      "\n",
      "Progressive alignment 2/2... \n",
      "\r",
      "STEP     1 / 1160 (thread    0) f\b\b\r",
      "STEP     2 / 1160 (thread    1) f\b\b\r",
      "STEP     3 / 1160 (thread    3) f\b\b\r",
      "STEP     4 / 1160 (thread    2) f\b\b\r",
      "STEP     5 / 1160 (thread    4) f\b\b\r",
      "STEP     6 / 1160 (thread    5) f\b\b\r",
      "STEP     7 / 1160 (thread    4) f\b\b\r",
      "STEP     8 / 1160 (thread    4) f\b\b\r",
      "STEP     9 / 1160 (thread    3)\r",
      "STEP    10 / 1160 (thread    2) f\b\b f\b\b\r",
      "STEP    11 / 1160 (thread    0) f\b\b\r",
      "STEP    12 / 1160 (thread    4) f\b\b\r",
      "STEP    13 / 1160 (thread    0) f\b\b\r",
      "STEP    14 / 1160 (thread    4) f\b\b\r",
      "STEP    15 / 1160 (thread    2)\r",
      "STEP    16 / 1160 (thread    3) f\b\b f\b\b\r",
      "STEP    17 / 1160 (thread    0) f\b\b\r",
      "STEP    18 / 1160 (thread    4) f\b\b\r",
      "STEP    19 / 1160 (thread    3) f\b\b\r",
      "STEP    20 / 1160 (thread    2) f\b\b\r",
      "STEP    21 / 1160 (thread    0) f\b\b\r",
      "STEP    22 / 1160 (thread    5) f\b\b\r",
      "STEP    23 / 1160 (thread    4) f\b\b\r",
      "STEP    24 / 1160 (thread    1) f\b\b\r",
      "STEP    25 / 1160 (thread    0) f\b\b\r",
      "STEP    26 / 1160 (thread    2) f\b\b\r",
      "STEP    27 / 1160 (thread    3) f\b\b\r",
      "STEP    28 / 1160 (thread    4) f\b\b\r",
      "STEP    29 / 1160 (thread    5) f\b\b\r",
      "STEP    30 / 1160 (thread    1) f\b\b\r",
      "STEP    31 / 1160 (thread    0) f\b\b\r",
      "STEP    32 / 1160 (thread    4) f\b\b\r",
      "STEP    33 / 1160 (thread    2) f\b\b\r",
      "STEP    34 / 1160 (thread    3) f\b\b\r",
      "STEP    35 / 1160 (thread    5) f\b\b\r",
      "STEP    36 / 1160 (thread    1) f\b\b\r",
      "STEP    37 / 1160 (thread    0) f\b\b\r",
      "STEP    38 / 1160 (thread    4) f\b\b\r",
      "STEP    39 / 1160 (thread    2) f\b\b\r",
      "STEP    40 / 1160 (thread    3) f\b\b\r",
      "STEP    41 / 1160 (thread    0) f\b\b\r",
      "STEP    42 / 1160 (thread    5) f\b\b\r",
      "STEP    43 / 1160 (thread    1) f\b\b\r",
      "STEP    44 / 1160 (thread    4) f\b\b\r",
      "STEP    45 / 1160 (thread    5) f\b\b\r",
      "STEP    46 / 1160 (thread    1) f\b\b\r",
      "STEP    47 / 1160 (thread    2) f\b\b\r",
      "STEP    48 / 1160 (thread    3) f\b\b\r",
      "STEP    49 / 1160 (thread    4) f\b\b\r",
      "STEP    50 / 1160 (thread    0) f\b\b\r",
      "STEP    51 / 1160 (thread    4) f\b\b\r",
      "STEP    52 / 1160 (thread    5) f\b\b\r",
      "STEP    53 / 1160 (thread    1) f\b\b\r",
      "STEP    54 / 1160 (thread    3) f\b\b\r",
      "STEP    55 / 1160 (thread    2) f\b\b\r",
      "STEP    56 / 1160 (thread    0) f\b\b\r",
      "STEP    57 / 1160 (thread    4) f\b\b\r",
      "STEP    58 / 1160 (thread    5) f\b\b\r",
      "STEP    59 / 1160 (thread    1) f\b\b\r",
      "STEP    60 / 1160 (thread    0) f\b\b\r",
      "STEP    61 / 1160 (thread    2) f\b\b\r",
      "STEP    62 / 1160 (thread    3) f\b\b\r",
      "STEP    63 / 1160 (thread    4) f\b\b\r",
      "STEP    64 / 1160 (thread    1) f\b\b\r",
      "STEP    65 / 1160 (thread    5) f\b\b\r",
      "STEP    66 / 1160 (thread    0) f\b\b\r",
      "STEP    67 / 1160 (thread    2)\r",
      "STEP    68 / 1160 (thread    3) f\b\b f\b\b\r",
      "STEP    69 / 1160 (thread    4) f\b\b\r",
      "STEP    70 / 1160 (thread    0) f\b\b\r",
      "STEP    71 / 1160 (thread    1) f\b\b\r",
      "STEP    72 / 1160 (thread    5) f\b\b\r",
      "STEP    73 / 1160 (thread    4) f\b\b\r",
      "STEP    74 / 1160 (thread    3) f\b\b\r",
      "STEP    75 / 1160 (thread    2) f\b\b\r",
      "STEP    76 / 1160 (thread    0) f\b\b\r",
      "STEP    77 / 1160 (thread    1) f\b\b\r",
      "STEP    78 / 1160 (thread    5) f\b\b\r",
      "STEP    79 / 1160 (thread    4) f\b\b\r",
      "STEP    80 / 1160 (thread    0) f\b\b\r",
      "STEP    81 / 1160 (thread    2)\r",
      "STEP    82 / 1160 (thread    3) f\b\b f\b\b\r",
      "STEP    83 / 1160 (thread    1) f\b\b\r",
      "STEP    84 / 1160 (thread    5) f\b\b\r",
      "STEP    85 / 1160 (thread    4) f\b\b\r",
      "STEP    86 / 1160 (thread    0) f\b\b\r",
      "STEP    87 / 1160 (thread    3) f\b\b\r",
      "STEP    88 / 1160 (thread    2) f\b\b\r",
      "STEP    89 / 1160 (thread    1) f\b\b\r",
      "STEP    90 / 1160 (thread    5) f\b\b\r",
      "STEP    91 / 1160 (thread    4) f\b\b\r",
      "STEP    92 / 1160 (thread    0) f\b\b\r",
      "STEP    93 / 1160 (thread    4) f\b\b\r",
      "STEP    94 / 1160 (thread    0) f\b\b\r",
      "STEP    95 / 1160 (thread    2) f\b\b\r",
      "STEP    96 / 1160 (thread    3) f\b\b\r",
      "STEP    97 / 1160 (thread    1) f\b\b\r",
      "STEP    98 / 1160 (thread    5) f\b\b\r",
      "STEP    99 / 1160 (thread    4) f\b\b\r",
      "STEP   100 / 1160 (thread    1) f\b\b\r",
      "STEP   101 / 1160 (thread    2) f\b\b\r",
      "STEP   102 / 1160 (thread    3) f\b\b\r",
      "STEP   103 / 1160 (thread    5) f\b\b\r",
      "STEP   104 / 1160 (thread    4) f\b\b\r",
      "STEP   105 / 1160 (thread    0) f\b\b\r",
      "STEP   106 / 1160 (thread    0) f\b\b\r",
      "STEP   107 / 1160 (thread    4) f\b\b\r",
      "STEP   109 / 1160 (thread    5) f\b\b\r",
      "STEP   110 / 1160 (thread    3) f\b\b\r",
      "STEP   111 / 1160 (thread    2) f\b\b\r",
      "STEP   112 / 1160 (thread    5) f\b\b\r",
      "STEP   113 / 1160 (thread    0) f\b\b\r",
      "STEP   108 / 1160 (thread    1) f\b\b\r",
      "STEP   114 / 1160 (thread    4) f\b\b\r",
      "STEP   115 / 1160 (thread    3) f\b\b\r",
      "STEP   116 / 1160 (thread    2) f\b\b\r",
      "STEP   117 / 1160 (thread    0) f\b\b\r",
      "STEP   118 / 1160 (thread    5) f\b\b\r",
      "STEP   119 / 1160 (thread    4) f\b\b\r",
      "STEP   120 / 1160 (thread    3) f\b\b\r",
      "STEP   121 / 1160 (thread    2) f\b\b\r",
      "STEP   122 / 1160 (thread    0) f\b\b\r",
      "STEP   123 / 1160 (thread    5) f\b\b\r",
      "STEP   124 / 1160 (thread    1) f\b\b\r",
      "STEP   125 / 1160 (thread    4) f\b\b\r",
      "STEP   126 / 1160 (thread    3) f\b\b\r",
      "STEP   127 / 1160 (thread    2) f\b\b\r",
      "STEP   128 / 1160 (thread    4) f\b\b\r",
      "STEP   129 / 1160 (thread    1) f\b\b\r",
      "STEP   130 / 1160 (thread    5) f\b\b\r",
      "STEP   131 / 1160 (thread    0) f\b\b\r",
      "STEP   132 / 1160 (thread    4) f\b\b\r",
      "STEP   133 / 1160 (thread    3) f\b\b\r",
      "STEP   134 / 1160 (thread    2) f\b\b\r",
      "STEP   135 / 1160 (thread    0) f\b\b\r",
      "STEP   136 / 1160 (thread    3) f\b\b\r",
      "STEP   137 / 1160 (thread    2) f\b\b\r",
      "STEP   138 / 1160 (thread    1) f\b\b\r",
      "STEP   139 / 1160 (thread    5) f\b\b\r",
      "STEP   140 / 1160 (thread    4) f\b\b\r",
      "STEP   141 / 1160 (thread    0) f\b\b\r",
      "STEP   142 / 1160 (thread    1) f\b\b\r",
      "STEP   143 / 1160 (thread    4) f\b\b\r",
      "STEP   144 / 1160 (thread    5) f\b\b\r",
      "STEP   145 / 1160 (thread    0) f\b\b\r",
      "STEP   146 / 1160 (thread    0) f\b\b\r",
      "STEP   147 / 1160 (thread    5) f\b\b\r",
      "STEP   148 / 1160 (thread    2) f\b\b\r",
      "STEP   149 / 1160 (thread    3) f\b\b\r",
      "STEP   150 / 1160 (thread    0) f\b\b\r",
      "STEP   151 / 1160 (thread    4) f\b\b\r",
      "STEP   152 / 1160 (thread    5) f\b\b\r",
      "STEP   153 / 1160 (thread    1) f\b\b\r",
      "STEP   154 / 1160 (thread    2) f\b\b\r",
      "STEP   155 / 1160 (thread    3) f\b\b\r",
      "STEP   156 / 1160 (thread    0) f\b\b\r",
      "STEP   157 / 1160 (thread    4) f\b\b\r",
      "STEP   158 / 1160 (thread    1) f\b\b\r",
      "STEP   159 / 1160 (thread    5) f\b\b\r",
      "STEP   160 / 1160 (thread    0) f\b\b\r",
      "STEP   161 / 1160 (thread    4) f\b\b\r",
      "STEP   162 / 1160 (thread    3) f\b\b\r",
      "STEP   163 / 1160 (thread    2) f\b\b\r",
      "STEP   164 / 1160 (thread    0) f\b\b\r",
      "STEP   165 / 1160 (thread    5) f\b\b\r",
      "STEP   166 / 1160 (thread    1) f\b\b\r",
      "STEP   167 / 1160 (thread    4) f\b\b\r",
      "STEP   168 / 1160 (thread    2) f\b\b\r",
      "STEP   169 / 1160 (thread    3) f\b\b\r",
      "STEP   170 / 1160 (thread    0) f\b\b\r",
      "STEP   171 / 1160 (thread    1) f\b\b\r",
      "STEP   172 / 1160 (thread    4) f\b\b\r",
      "STEP   173 / 1160 (thread    5) f\b\b\r",
      "STEP   174 / 1160 (thread    0) f\b\b\r",
      "STEP   175 / 1160 (thread    3) f\b\b\r",
      "STEP   176 / 1160 (thread    1) f\b\b\r",
      "STEP   177 / 1160 (thread    2) f\b\b\r",
      "STEP   178 / 1160 (thread    4) f\b\b\r",
      "STEP   179 / 1160 (thread    0) f\b\b\r",
      "STEP   180 / 1160 (thread    5) f\b\b\r",
      "STEP   181 / 1160 (thread    4) f\b\b\r",
      "STEP   182 / 1160 (thread    0) f\b\b\r",
      "STEP   183 / 1160 (thread    1) f\b\b\r",
      "STEP   184 / 1160 (thread    3) f\b\b\r",
      "STEP   185 / 1160 (thread    2) f\b\b\r",
      "STEP   186 / 1160 (thread    1) f\b\b\r",
      "STEP   187 / 1160 (thread    5) f\b\b\r",
      "STEP   188 / 1160 (thread    3) f\b\b\r",
      "STEP   189 / 1160 (thread    4) f\b\b\r",
      "STEP   190 / 1160 (thread    2) f\b\b\r",
      "STEP   191 / 1160 (thread    0) f\b\b\r",
      "STEP   192 / 1160 (thread    4) f\b\b\r",
      "STEP   193 / 1160 (thread    0) f\b\b\r",
      "STEP   194 / 1160 (thread    3) f\b\b\r",
      "STEP   195 / 1160 (thread    2) f\b\b\r",
      "STEP   196 / 1160 (thread    4) f\b\b\r",
      "STEP   197 / 1160 (thread    0) f\b\b\r",
      "STEP   198 / 1160 (thread    1) f\b\b\r",
      "STEP   199 / 1160 (thread    5) f\b\b\r",
      "STEP   200 / 1160 (thread    3) f\b\b\r",
      "STEP   201 / 1160 (thread    4) f\b\b\r",
      "STEP   202 / 1160 (thread    0)\r",
      "STEP   204 / 1160 (thread    4)\r",
      "STEP   203 / 1160 (thread    5) f\b\b f\b\b f\b\b\r",
      "STEP   205 / 1160 (thread    3) f\b\b\r",
      "STEP   206 / 1160 (thread    2) f\b\b\r",
      "STEP   207 / 1160 (thread    0) f\b\b\r",
      "STEP   208 / 1160 (thread    1) f\b\b\r",
      "STEP   209 / 1160 (thread    3) f\b\b\r",
      "STEP   210 / 1160 (thread    0) f\b\b\r",
      "STEP   211 / 1160 (thread    4) f\b\b\r",
      "STEP   212 / 1160 (thread    1) f\b\b\r",
      "STEP   213 / 1160 (thread    5) f\b\b\r",
      "STEP   214 / 1160 (thread    3) f\b\b\r",
      "STEP   215 / 1160 (thread    0) f\b\b\r",
      "STEP   216 / 1160 (thread    2) f\b\b\r",
      "STEP   217 / 1160 (thread    4) f\b\b\r",
      "STEP   218 / 1160 (thread    1) f\b\b\r",
      "STEP   219 / 1160 (thread    5) f\b\b\r",
      "STEP   220 / 1160 (thread    3) f\b\b\r",
      "STEP   221 / 1160 (thread    2) f\b\b\r",
      "STEP   222 / 1160 (thread    1) f\b\b\r",
      "STEP   223 / 1160 (thread    0) f\b\b\r",
      "STEP   224 / 1160 (thread    4) f\b\b\r",
      "STEP   225 / 1160 (thread    3)\r",
      "STEP   226 / 1160 (thread    5) f\b\b f\b\b\r",
      "STEP   227 / 1160 (thread    0) f\b\b\r",
      "STEP   228 / 1160 (thread    4) f\b\b\r",
      "STEP   229 / 1160 (thread    2) f\b\b\r",
      "STEP   230 / 1160 (thread    1) f\b\b\r",
      "STEP   231 / 1160 (thread    3)\r",
      "STEP   232 / 1160 (thread    0) f\b\b f\b\b\r",
      "STEP   234 / 1160 (thread    4) f\b\b\r",
      "STEP   233 / 1160 (thread    5) f\b\b\r",
      "STEP   235 / 1160 (thread    1) f\b\b\r",
      "STEP   236 / 1160 (thread    2) f\b\b\r",
      "STEP   237 / 1160 (thread    0) f\b\b\r",
      "STEP   238 / 1160 (thread    4) f\b\b\r",
      "STEP   239 / 1160 (thread    1) f\b\b\r",
      "STEP   240 / 1160 (thread    3) f\b\b\r",
      "STEP   241 / 1160 (thread    2) f\b\b\r",
      "STEP   242 / 1160 (thread    0) f\b\b\r",
      "STEP   243 / 1160 (thread    5) f\b\b\r",
      "STEP   244 / 1160 (thread    0) f\b\b\r",
      "STEP   245 / 1160 (thread    4) f\b\b\r",
      "STEP   246 / 1160 (thread    2) f\b\b\r",
      "STEP   247 / 1160 (thread    5) f\b\b\r",
      "STEP   248 / 1160 (thread    1) f\b\b\r",
      "STEP   249 / 1160 (thread    3) f\b\b\r",
      "STEP   250 / 1160 (thread    2) f\b\b\r",
      "STEP   251 / 1160 (thread    0) f\b\b\r",
      "STEP   252 / 1160 (thread    4) f\b\b\r",
      "STEP   253 / 1160 (thread    5) f\b\b\r",
      "STEP   254 / 1160 (thread    3) f\b\b\r",
      "STEP   255 / 1160 (thread    2) f\b\b\r",
      "STEP   256 / 1160 (thread    5) f\b\b\r",
      "STEP   257 / 1160 (thread    1) f\b\b\r",
      "STEP   258 / 1160 (thread    0) f\b\b\r",
      "STEP   259 / 1160 (thread    4) f\b\b\r",
      "STEP   260 / 1160 (thread    3) f\b\b\r",
      "STEP   261 / 1160 (thread    5) f\b\b\r",
      "STEP   262 / 1160 (thread    4) f\b\b\r",
      "STEP   263 / 1160 (thread    1) f\b\b\r",
      "STEP   264 / 1160 (thread    3) f\b\b\r",
      "STEP   265 / 1160 (thread    0) f\b\b\r",
      "STEP   266 / 1160 (thread    2) f\b\b\r",
      "STEP   267 / 1160 (thread    4) f\b\b\r",
      "STEP   268 / 1160 (thread    1) f\b\b\r",
      "STEP   269 / 1160 (thread    5) f\b\b\r",
      "STEP   270 / 1160 (thread    0) f\b\b\r",
      "STEP   271 / 1160 (thread    4) f\b\b\r",
      "STEP   272 / 1160 (thread    3) f\b\b\r",
      "STEP   273 / 1160 (thread    0) f\b\b\r",
      "STEP   274 / 1160 (thread    4) f\b\b\r",
      "STEP   275 / 1160 (thread    1) f\b\b\r",
      "STEP   276 / 1160 (thread    2) f\b\b\r",
      "STEP   277 / 1160 (thread    5) f\b\b\r",
      "STEP   278 / 1160 (thread    0) f\b\b\r",
      "STEP   279 / 1160 (thread    4) f\b\b\r",
      "STEP   280 / 1160 (thread    3) f\b\b\r",
      "STEP   281 / 1160 (thread    1) f\b\b\r",
      "STEP   282 / 1160 (thread    2) f\b\b\r",
      "STEP   284 / 1160 (thread    4) f\b\b\r",
      "STEP   283 / 1160 (thread    0) f\b\b\r",
      "STEP   285 / 1160 (thread    5) f\b\b\r",
      "STEP   286 / 1160 (thread    4) f\b\b\r",
      "STEP   287 / 1160 (thread    1) f\b\b\r",
      "STEP   288 / 1160 (thread    3) f\b\b\r",
      "STEP   289 / 1160 (thread    0) f\b\b\r",
      "STEP   290 / 1160 (thread    4) f\b\b\r",
      "STEP   291 / 1160 (thread    5) f\b\b\r",
      "STEP   292 / 1160 (thread    2) f\b\b\r",
      "STEP   293 / 1160 (thread    1) f\b\b\r",
      "STEP   294 / 1160 (thread    0) f\b\b\r",
      "STEP   295 / 1160 (thread    4) f\b\b\r",
      "STEP   296 / 1160 (thread    3) f\b\b\r",
      "STEP   297 / 1160 (thread    4) f\b\b\r",
      "STEP   298 / 1160 (thread    1) f\b\b\r",
      "STEP   299 / 1160 (thread    3) f\b\b\r",
      "STEP   300 / 1160 (thread    0) f\b\b\r",
      "STEP   301 / 1160 (thread    1) f\b\b"
     ]
    },
    {
     "name": "stderr",
     "output_type": "stream",
     "text": [
      "\r",
      "STEP   302 / 1160 (thread    5) f\b\b\r",
      "STEP   303 / 1160 (thread    2) f\b\b\r",
      "STEP   304 / 1160 (thread    4) f\b\b\r",
      "STEP   305 / 1160 (thread    1) f\b\b\r",
      "STEP   306 / 1160 (thread    4) f\b\b\r",
      "STEP   307 / 1160 (thread    5) f\b\b\r",
      "STEP   308 / 1160 (thread    2) f\b\b\r",
      "STEP   309 / 1160 (thread    0) f\b\b\r",
      "STEP   310 / 1160 (thread    3) f\b\b\r",
      "STEP   311 / 1160 (thread    0) f\b\b\r",
      "STEP   312 / 1160 (thread    1) f\b\b\r",
      "STEP   313 / 1160 (thread    4) f\b\b\r",
      "STEP   314 / 1160 (thread    5) f\b\b\r",
      "STEP   315 / 1160 (thread    3) f\b\b\r",
      "STEP   316 / 1160 (thread    2) f\b\b\r",
      "STEP   317 / 1160 (thread    4) f\b\b\r",
      "STEP   318 / 1160 (thread    1) f\b\b\r",
      "STEP   319 / 1160 (thread    0) f\b\b\r",
      "STEP   320 / 1160 (thread    5) f\b\b\r",
      "STEP   321 / 1160 (thread    3) f\b\b\r",
      "STEP   322 / 1160 (thread    4) f\b\b\r",
      "STEP   323 / 1160 (thread    0) f\b\b\r",
      "STEP   324 / 1160 (thread    1) f\b\b\r",
      "STEP   325 / 1160 (thread    4) f\b\b\r",
      "STEP   326 / 1160 (thread    5) f\b\b\r",
      "STEP   327 / 1160 (thread    2) f\b\b\r",
      "STEP   328 / 1160 (thread    4) f\b\b\r",
      "STEP   329 / 1160 (thread    0) f\b\b\r",
      "STEP   330 / 1160 (thread    5) f\b\b\r",
      "STEP   331 / 1160 (thread    4) f\b\b\r",
      "STEP   332 / 1160 (thread    1) f\b\b\r",
      "STEP   333 / 1160 (thread    2) f\b\b\r",
      "STEP   334 / 1160 (thread    3) f\b\b\r",
      "STEP   335 / 1160 (thread    0) f\b\b\r",
      "STEP   336 / 1160 (thread    4) f\b\b\r",
      "STEP   337 / 1160 (thread    5) f\b\b\r",
      "STEP   338 / 1160 (thread    1) f\b\b\r",
      "STEP   339 / 1160 (thread    0) f\b\b\r",
      "STEP   340 / 1160 (thread    2) f\b\b\r",
      "STEP   341 / 1160 (thread    3) f\b\b\r",
      "STEP   342 / 1160 (thread    4) f\b\b\r",
      "STEP   343 / 1160 (thread    0) f\b\b\r",
      "STEP   344 / 1160 (thread    5) f\b\b\r",
      "STEP   345 / 1160 (thread    4) f\b\b\r",
      "STEP   346 / 1160 (thread    1) f\b\b\r",
      "STEP   347 / 1160 (thread    2) f\b\b\r",
      "STEP   348 / 1160 (thread    3) f\b\b\r",
      "STEP   349 / 1160 (thread    0) f\b\b\r",
      "STEP   350 / 1160 (thread    4) f\b\b\r",
      "STEP   351 / 1160 (thread    0) f\b\b\r",
      "STEP   352 / 1160 (thread    5) f\b\b\r",
      "STEP   353 / 1160 (thread    1) f\b\b\r",
      "STEP   354 / 1160 (thread    4) f\b\b\r",
      "STEP   355 / 1160 (thread    0) f\b\b\r",
      "STEP   356 / 1160 (thread    2) f\b\b\r",
      "STEP   357 / 1160 (thread    3) f\b\b\r",
      "STEP   358 / 1160 (thread    4) f\b\b\r",
      "STEP   359 / 1160 (thread    1) f\b\b\r",
      "STEP   360 / 1160 (thread    4) f\b\b\r",
      "STEP   361 / 1160 (thread    5) f\b\b\r",
      "STEP   362 / 1160 (thread    0) f\b\b\r",
      "STEP   363 / 1160 (thread    1) f\b\b\r",
      "STEP   364 / 1160 (thread    0) f\b\b\r",
      "STEP   365 / 1160 (thread    5) f\b\b\r",
      "STEP   366 / 1160 (thread    1) f\b\b\r",
      "STEP   367 / 1160 (thread    3) f\b\b\r",
      "STEP   368 / 1160 (thread    4) f\b\b\r",
      "STEP   369 / 1160 (thread    0) f\b\b\r",
      "STEP   370 / 1160 (thread    2) f\b\b\r",
      "STEP   371 / 1160 (thread    4) f\b\b\r",
      "STEP   372 / 1160 (thread    0) f\b\b\r",
      "STEP   373 / 1160 (thread    5) f\b\b\r",
      "STEP   374 / 1160 (thread    1) f\b\b\r",
      "STEP   375 / 1160 (thread    3) f\b\b\r",
      "STEP   376 / 1160 (thread    2) f\b\b\r",
      "STEP   377 / 1160 (thread    4) f\b\b\r",
      "STEP   378 / 1160 (thread    0) f\b\b\r",
      "STEP   379 / 1160 (thread    4) f\b\b\r",
      "STEP   380 / 1160 (thread    5) f\b\b\r",
      "STEP   381 / 1160 (thread    1) f\b\b\r",
      "STEP   382 / 1160 (thread    3) f\b\b\r",
      "STEP   383 / 1160 (thread    0) f\b\b\r",
      "STEP   384 / 1160 (thread    2) f\b\b\r",
      "STEP   385 / 1160 (thread    4) f\b\b\r",
      "STEP   386 / 1160 (thread    5) f\b\b\r",
      "STEP   387 / 1160 (thread    1) f\b\b\r",
      "STEP   388 / 1160 (thread    3) f\b\b\r",
      "STEP   389 / 1160 (thread    2) f\b\b\r",
      "STEP   390 / 1160 (thread    0) f\b\b\r",
      "STEP   391 / 1160 (thread    4) f\b\b\r",
      "STEP   392 / 1160 (thread    2) f\b\b\r",
      "STEP   393 / 1160 (thread    5) f\b\b\r",
      "STEP   394 / 1160 (thread    0) f\b\b\r",
      "STEP   396 / 1160 (thread    2) f\b\b\r",
      "STEP   397 / 1160 (thread    3) f\b\b\r",
      "STEP   398 / 1160 (thread    1) f\b\b\r",
      "STEP   395 / 1160 (thread    4) f\b\b\r",
      "STEP   399 / 1160 (thread    0) f\b\b\r",
      "STEP   400 / 1160 (thread    2) f\b\b\r",
      "STEP   401 / 1160 (thread    3) f\b\b\r",
      "STEP   402 / 1160 (thread    5) f\b\b\r",
      "STEP   403 / 1160 (thread    1) f\b\b\r",
      "STEP   404 / 1160 (thread    0) f\b\b\r",
      "STEP   405 / 1160 (thread    4) f\b\b\r",
      "STEP   406 / 1160 (thread    2) f\b\b\r",
      "STEP   407 / 1160 (thread    3) f\b\b\r",
      "STEP   408 / 1160 (thread    5) f\b\b\r",
      "STEP   409 / 1160 (thread    0) f\b\b\r",
      "STEP   410 / 1160 (thread    4) f\b\b\r",
      "STEP   411 / 1160 (thread    1) f\b\b\r",
      "STEP   412 / 1160 (thread    0) f\b\b\r",
      "STEP   413 / 1160 (thread    5) f\b\b\r",
      "STEP   414 / 1160 (thread    3) f\b\b\r",
      "STEP   415 / 1160 (thread    2) f\b\b\r",
      "STEP   416 / 1160 (thread    1) f\b\b\r",
      "STEP   417 / 1160 (thread    4) f\b\b\r",
      "STEP   418 / 1160 (thread    3) f\b\b\r",
      "STEP   419 / 1160 (thread    5) f\b\b\r",
      "STEP   420 / 1160 (thread    0) f\b\b\r",
      "STEP   421 / 1160 (thread    4) f\b\b\r",
      "STEP   422 / 1160 (thread    2) f\b\b\r",
      "STEP   423 / 1160 (thread    3) f\b\b\r",
      "STEP   424 / 1160 (thread    5) f\b\b\r",
      "STEP   425 / 1160 (thread    1) f\b\b\r",
      "STEP   426 / 1160 (thread    0) f\b\b\r",
      "STEP   427 / 1160 (thread    4) f\b\b\r",
      "STEP   428 / 1160 (thread    0) f\b\b\r",
      "STEP   429 / 1160 (thread    3) f\b\b\r",
      "STEP   430 / 1160 (thread    1) f\b\b\r",
      "STEP   431 / 1160 (thread    4) f\b\b\r",
      "STEP   432 / 1160 (thread    5) f\b\b\r",
      "STEP   433 / 1160 (thread    2) f\b\b\r",
      "STEP   434 / 1160 (thread    0) f\b\b\r",
      "STEP   435 / 1160 (thread    4) f\b\b\r",
      "STEP   436 / 1160 (thread    1) f\b\b\r",
      "STEP   437 / 1160 (thread    3) f\b\b\r",
      "STEP   438 / 1160 (thread    5) f\b\b\r",
      "STEP   439 / 1160 (thread    0) f\b\b\r",
      "STEP   440 / 1160 (thread    2) f\b\b\r",
      "STEP   441 / 1160 (thread    4) f\b\b\r",
      "STEP   442 / 1160 (thread    3) f\b\b\r",
      "STEP   443 / 1160 (thread    4) f\b\b\r",
      "STEP   444 / 1160 (thread    2) f\b\b\r",
      "STEP   445 / 1160 (thread    0) f\b\b\r",
      "STEP   446 / 1160 (thread    1) f\b\b\r",
      "STEP   447 / 1160 (thread    4) f\b\b\r",
      "STEP   448 / 1160 (thread    5) f\b\b\r",
      "STEP   449 / 1160 (thread    0) f\b\b\r",
      "STEP   450 / 1160 (thread    1) f\b\b\r",
      "STEP   451 / 1160 (thread    4) f\b\b\r",
      "STEP   452 / 1160 (thread    3) f\b\b\r",
      "STEP   453 / 1160 (thread    2) f\b\b\r",
      "STEP   454 / 1160 (thread    0) f\b\b\r",
      "STEP   455 / 1160 (thread    5) f\b\b\r",
      "STEP   456 / 1160 (thread    2) f\b\b\r",
      "STEP   457 / 1160 (thread    0) f\b\b\r",
      "STEP   458 / 1160 (thread    1) f\b\b\r",
      "STEP   459 / 1160 (thread    4) f\b\b\r",
      "STEP   460 / 1160 (thread    3) f\b\b\r",
      "STEP   461 / 1160 (thread    1) f\b\b\r",
      "STEP   462 / 1160 (thread    0) f\b\b\r",
      "STEP   463 / 1160 (thread    5) f\b\b\r",
      "STEP   464 / 1160 (thread    4) f\b\b\r",
      "STEP   465 / 1160 (thread    1) f\b\b\r",
      "STEP   466 / 1160 (thread    5) f\b\b\r",
      "STEP   467 / 1160 (thread    2) f\b\b\r",
      "STEP   468 / 1160 (thread    0) f\b\b\r",
      "STEP   469 / 1160 (thread    3) f\b\b\r",
      "STEP   470 / 1160 (thread    4) f\b\b\r",
      "STEP   471 / 1160 (thread    5) f\b\b\r",
      "STEP   472 / 1160 (thread    2) f\b\b\r",
      "STEP   473 / 1160 (thread    3) f\b\b\r",
      "STEP   474 / 1160 (thread    0) f\b\b\r",
      "STEP   475 / 1160 (thread    4) f\b\b\r",
      "STEP   476 / 1160 (thread    1) f\b\b\r",
      "STEP   477 / 1160 (thread    2) f\b\b\r",
      "STEP   478 / 1160 (thread    5) f\b\b\r",
      "STEP   479 / 1160 (thread    4) f\b\b\r",
      "STEP   480 / 1160 (thread    3) f\b\b\r",
      "STEP   481 / 1160 (thread    0) f\b\b\r",
      "STEP   482 / 1160 (thread    1) f\b\b\r",
      "STEP   483 / 1160 (thread    2) f\b\b\r",
      "STEP   484 / 1160 (thread    4) f\b\b\r",
      "STEP   485 / 1160 (thread    0) f\b\b\r",
      "STEP   486 / 1160 (thread    5) f\b\b\r",
      "STEP   487 / 1160 (thread    1) f\b\b\r",
      "STEP   488 / 1160 (thread    3) f\b\b\r",
      "STEP   489 / 1160 (thread    4) f\b\b\r",
      "STEP   490 / 1160 (thread    2)\r",
      "STEP   491 / 1160 (thread    0) f\b\b f\b\b\r",
      "STEP   492 / 1160 (thread    4) f\b\b\r",
      "STEP   493 / 1160 (thread    5) f\b\b\r",
      "STEP   494 / 1160 (thread    1) f\b\b\r",
      "STEP   495 / 1160 (thread    0) f\b\b\r",
      "STEP   496 / 1160 (thread    4) f\b\b\r",
      "STEP   497 / 1160 (thread    5) f\b\b\r",
      "STEP   498 / 1160 (thread    3) f\b\b\r",
      "STEP   499 / 1160 (thread    4) f\b\b\r",
      "STEP   501 / 1160 (thread    5) f\b\b\r",
      "STEP   500 / 1160 (thread    0) f\b\b\r",
      "STEP   601 / 1160 (thread    0) f\b\b\r",
      "STEP   701 / 1160 (thread    3) f\b\b\r",
      "STEP   801 / 1160 (thread    0) f\b\b\n",
      "Reallocating..done. *alloclen = 1869\n",
      "\r",
      "STEP   901 / 1160 (thread    4) f\b\b"
     ]
    },
    {
     "name": "stderr",
     "output_type": "stream",
     "text": [
      "\r",
      "STEP  1001 / 1160 (thread    0) f\b\b\r",
      "STEP  1101 / 1160 (thread    1) f\b\b"
     ]
    },
    {
     "name": "stderr",
     "output_type": "stream",
     "text": [
      "\n",
      "done.\n",
      "\n",
      "disttbfast (nuc) Version 7.490\n",
      "alg=A, model=DNA200 (2), 1.53 (4.59), -0.00 (-0.00), noshift, amax=0.0\n",
      "6 thread(s)\n",
      "\n",
      "\n",
      "Strategy:\n",
      " FFT-NS-2 (Fast but rough)\n",
      " Progressive method (guide trees were built 2 times.)\n",
      "\n",
      "If unsure which option to use, try 'mafft --auto input > output'.\n",
      "For more information, see 'mafft --help', 'mafft --man' and the mafft page.\n",
      "\n",
      "The default gap scoring scheme has been changed in version 7.110 (2013 Oct).\n",
      "It tends to insert more gaps into gap-rich regions than previous versions.\n",
      "To disable this change, add the --leavegappyregion option.\n",
      "\n"
     ]
    },
    {
     "name": "stdout",
     "output_type": "stream",
     "text": [
      "Running external command line application. This may print messages to stdout and/or stderr.\n",
      "The command being run is below. This command cannot be manually re-run as it will depend on temporary files that no longer exist.\n",
      "\n",
      "Command: FastTreeMP -quote -nt /tmp/qiime2-archive-m0jf289z/f2f9c21a-57e1-40ed-88c2-b448698b0f55/data/aligned-dna-sequences.fasta\n",
      "\n"
     ]
    },
    {
     "name": "stderr",
     "output_type": "stream",
     "text": [
      "FastTree Version 2.1.10 Double precision (No SSE3), OpenMP (6 threads)\n",
      "Alignment: /tmp/qiime2-archive-m0jf289z/f2f9c21a-57e1-40ed-88c2-b448698b0f55/data/aligned-dna-sequences.fasta\n",
      "Nucleotide distances: Jukes-Cantor Joins: balanced Support: SH-like 1000\n",
      "Search: Normal +NNI +SPR (2 rounds range 10) +ML-NNI opt-each=1\n",
      "TopHits: 1.00*sqrtN close=default refresh=0.80\n",
      "ML Model: Jukes-Cantor, CAT approximation with 20 rate categories\n",
      "      0.15 seconds: Joined    100 of   1123\n"
     ]
    },
    {
     "name": "stderr",
     "output_type": "stream",
     "text": [
      "      0.27 seconds: Joined    200 of   1123\n",
      "      0.41 seconds: Joined    400 of   1123\n"
     ]
    },
    {
     "name": "stderr",
     "output_type": "stream",
     "text": [
      "      0.57 seconds: Joined    600 of   1123\n",
      "      0.74 seconds: Joined    800 of   1123\n"
     ]
    },
    {
     "name": "stderr",
     "output_type": "stream",
     "text": [
      "      0.88 seconds: Joined   1000 of   1123\n",
      "Initial topology in 0.96 seconds\n",
      "Refining topology: 41 rounds ME-NNIs, 2 rounds ME-SPRs, 20 rounds ML-NNIs\n",
      "      0.98 seconds: ME NNI round 1 of 41, 701 of 1124 splits, 112 changes (max delta 0.033)\n"
     ]
    },
    {
     "name": "stderr",
     "output_type": "stream",
     "text": [
      "      1.09 seconds: ME NNI round 5 of 41, 101 of 1124 splits, 5 changes (max delta 0.008)\n",
      "      1.23 seconds: SPR round   1 of   2, 201 of 2250 nodes\n"
     ]
    },
    {
     "name": "stderr",
     "output_type": "stream",
     "text": [
      "      1.38 seconds: SPR round   1 of   2, 401 of 2250 nodes\n",
      "      1.52 seconds: SPR round   1 of   2, 601 of 2250 nodes\n"
     ]
    },
    {
     "name": "stderr",
     "output_type": "stream",
     "text": [
      "      1.65 seconds: SPR round   1 of   2, 801 of 2250 nodes\n",
      "      1.78 seconds: SPR round   1 of   2, 1001 of 2250 nodes\n"
     ]
    },
    {
     "name": "stderr",
     "output_type": "stream",
     "text": [
      "      1.91 seconds: SPR round   1 of   2, 1201 of 2250 nodes\n",
      "      2.03 seconds: SPR round   1 of   2, 1401 of 2250 nodes\n"
     ]
    },
    {
     "name": "stderr",
     "output_type": "stream",
     "text": [
      "      2.16 seconds: SPR round   1 of   2, 1601 of 2250 nodes\n",
      "      2.29 seconds: SPR round   1 of   2, 1801 of 2250 nodes\n"
     ]
    },
    {
     "name": "stderr",
     "output_type": "stream",
     "text": [
      "      2.41 seconds: SPR round   1 of   2, 2001 of 2250 nodes\n",
      "      2.51 seconds: SPR round   1 of   2, 2201 of 2250 nodes\n"
     ]
    },
    {
     "name": "stderr",
     "output_type": "stream",
     "text": [
      "      2.66 seconds: SPR round   2 of   2, 101 of 2250 nodes\n",
      "      2.80 seconds: SPR round   2 of   2, 401 of 2250 nodes\n"
     ]
    },
    {
     "name": "stderr",
     "output_type": "stream",
     "text": [
      "      2.92 seconds: SPR round   2 of   2, 601 of 2250 nodes\n",
      "      3.04 seconds: SPR round   2 of   2, 801 of 2250 nodes\n"
     ]
    },
    {
     "name": "stderr",
     "output_type": "stream",
     "text": [
      "      3.15 seconds: SPR round   2 of   2, 1001 of 2250 nodes\n",
      "      3.27 seconds: SPR round   2 of   2, 1201 of 2250 nodes\n"
     ]
    },
    {
     "name": "stderr",
     "output_type": "stream",
     "text": [
      "      3.37 seconds: SPR round   2 of   2, 1401 of 2250 nodes\n",
      "      3.48 seconds: SPR round   2 of   2, 1601 of 2250 nodes\n"
     ]
    },
    {
     "name": "stderr",
     "output_type": "stream",
     "text": [
      "      3.59 seconds: SPR round   2 of   2, 1801 of 2250 nodes\n",
      "      3.70 seconds: SPR round   2 of   2, 2001 of 2250 nodes\n"
     ]
    },
    {
     "name": "stderr",
     "output_type": "stream",
     "text": [
      "      3.83 seconds: ME NNI round 27 of 41, 1 of 1124 splits\n",
      "Total branch-length 24.901 after 3.95 sec\n",
      "      3.95 seconds: ML Lengths 1 of 1124 splits\n"
     ]
    },
    {
     "name": "stderr",
     "output_type": "stream",
     "text": [
      "      4.06 seconds: ML Lengths 401 of 1124 splits\n",
      "      4.16 seconds: ML Lengths 801 of 1124 splits\n"
     ]
    },
    {
     "name": "stderr",
     "output_type": "stream",
     "text": [
      "      4.32 seconds: ML NNI round 1 of 20, 101 of 1124 splits, 22 changes (max delta 8.016)\n",
      "      4.45 seconds: ML NNI round 1 of 20, 301 of 1124 splits, 57 changes (max delta 10.312)\n"
     ]
    },
    {
     "name": "stderr",
     "output_type": "stream",
     "text": [
      "      4.59 seconds: ML NNI round 1 of 20, 501 of 1124 splits, 85 changes (max delta 10.312)\n",
      "      4.73 seconds: ML NNI round 1 of 20, 701 of 1124 splits, 127 changes (max delta 10.312)\n"
     ]
    },
    {
     "name": "stderr",
     "output_type": "stream",
     "text": [
      "      4.87 seconds: ML NNI round 1 of 20, 901 of 1124 splits, 159 changes (max delta 10.312)\n",
      "      5.01 seconds: ML NNI round 1 of 20, 1101 of 1124 splits, 202 changes (max delta 10.312)\n",
      "ML-NNI round 1: LogLk = -64726.464 NNIs 211 max delta 10.31 Time 5.04\n"
     ]
    },
    {
     "name": "stderr",
     "output_type": "stream",
     "text": [
      "      5.13 seconds: Site likelihoods with rate category 6 of 20\n",
      "      5.23 seconds: Site likelihoods with rate category 13 of 20\n"
     ]
    },
    {
     "name": "stderr",
     "output_type": "stream",
     "text": [
      "      5.34 seconds: Site likelihoods with rate category 20 of 20\n",
      "Switched to using 20 rate categories (CAT approximation)\n",
      "Rate categories were divided by 1.131 so that average rate = 1.0\n",
      "CAT-based log-likelihoods may not be comparable across runs\n",
      "Use -gamma for approximate but comparable Gamma(20) log-likelihoods\n",
      "      5.44 seconds: ML NNI round 2 of 20, 101 of 1124 splits, 11 changes (max delta 3.482)\n"
     ]
    },
    {
     "name": "stderr",
     "output_type": "stream",
     "text": [
      "      5.62 seconds: ML NNI round 2 of 20, 301 of 1124 splits, 34 changes (max delta 5.696)\n",
      "      5.81 seconds: ML NNI round 2 of 20, 501 of 1124 splits, 56 changes (max delta 5.696)\n"
     ]
    },
    {
     "name": "stderr",
     "output_type": "stream",
     "text": [
      "      5.91 seconds: ML NNI round 2 of 20, 601 of 1124 splits, 60 changes (max delta 5.696)\n",
      "      6.09 seconds: ML NNI round 2 of 20, 801 of 1124 splits, 80 changes (max delta 5.696)\n"
     ]
    },
    {
     "name": "stderr",
     "output_type": "stream",
     "text": [
      "      6.26 seconds: ML NNI round 2 of 20, 1001 of 1124 splits, 106 changes (max delta 5.696)\n",
      "ML-NNI round 2: LogLk = -53948.776 NNIs 123 max delta 5.76 Time 6.38\n",
      "      6.37 seconds: ML NNI round 3 of 20, 1 of 1124 splits\n"
     ]
    },
    {
     "name": "stderr",
     "output_type": "stream",
     "text": [
      "      6.52 seconds: ML NNI round 3 of 20, 201 of 1124 splits, 9 changes (max delta 9.261)\n",
      "      6.69 seconds: ML NNI round 3 of 20, 401 of 1124 splits, 22 changes (max delta 9.261)\n"
     ]
    },
    {
     "name": "stderr",
     "output_type": "stream",
     "text": [
      "      6.84 seconds: ML NNI round 3 of 20, 601 of 1124 splits, 31 changes (max delta 9.261)\n",
      "      6.99 seconds: ML NNI round 3 of 20, 801 of 1124 splits, 54 changes (max delta 9.261)\n",
      "ML-NNI round 3: LogLk = -53884.470 NNIs 57 max delta 9.26 Time 7.01\n"
     ]
    },
    {
     "name": "stderr",
     "output_type": "stream",
     "text": [
      "      7.16 seconds: ML NNI round 4 of 20, 201 of 1124 splits, 7 changes (max delta 0.265)\n",
      "      7.32 seconds: ML NNI round 4 of 20, 401 of 1124 splits, 21 changes (max delta 2.197)\n"
     ]
    },
    {
     "name": "stderr",
     "output_type": "stream",
     "text": [
      "ML-NNI round 4: LogLk = -53868.918 NNIs 28 max delta 2.20 Time 7.40\n",
      "      7.47 seconds: ML NNI round 5 of 20, 101 of 1124 splits, 0 changes\n"
     ]
    },
    {
     "name": "stderr",
     "output_type": "stream",
     "text": [
      "ML-NNI round 5: LogLk = -53861.961 NNIs 11 max delta 2.08 Time 7.63\n",
      "      7.62 seconds: ML NNI round 6 of 20, 1 of 1124 splits\n",
      "ML-NNI round 6: LogLk = -53860.367 NNIs 4 max delta 0.00 Time 7.76\n",
      "Turning off heuristics for final round of ML NNIs (converged)\n",
      "      7.75 seconds: ML NNI round 7 of 20, 1 of 1124 splits\n"
     ]
    },
    {
     "name": "stderr",
     "output_type": "stream",
     "text": [
      "      7.89 seconds: ML NNI round 7 of 20, 201 of 1124 splits, 2 changes (max delta 0.147)\n",
      "      8.05 seconds: ML NNI round 7 of 20, 401 of 1124 splits, 3 changes (max delta 0.155)\n"
     ]
    },
    {
     "name": "stderr",
     "output_type": "stream",
     "text": [
      "      8.20 seconds: ML NNI round 7 of 20, 601 of 1124 splits, 8 changes (max delta 0.374)\n",
      "      8.35 seconds: ML NNI round 7 of 20, 801 of 1124 splits, 10 changes (max delta 0.374)\n"
     ]
    },
    {
     "name": "stderr",
     "output_type": "stream",
     "text": [
      "      8.50 seconds: ML NNI round 7 of 20, 1001 of 1124 splits, 13 changes (max delta 0.374)\n",
      "ML-NNI round 7: LogLk = -53852.346 NNIs 14 max delta 0.37 Time 8.59 (final)\n",
      "      8.61 seconds: ML Lengths 101 of 1124 splits\n"
     ]
    },
    {
     "name": "stderr",
     "output_type": "stream",
     "text": [
      "      8.72 seconds: ML Lengths 601 of 1124 splits\n",
      "      8.83 seconds: ML Lengths 1101 of 1124 splits\n",
      "Optimize all lengths: LogLk = -53850.948 Time 8.84\n"
     ]
    },
    {
     "name": "stderr",
     "output_type": "stream",
     "text": [
      "      8.98 seconds: ML split tests for    100 of   1123 internal splits\n",
      "      9.11 seconds: ML split tests for    200 of   1123 internal splits\n"
     ]
    },
    {
     "name": "stderr",
     "output_type": "stream",
     "text": [
      "      9.24 seconds: ML split tests for    300 of   1123 internal splits\n",
      "      9.38 seconds: ML split tests for    400 of   1123 internal splits\n"
     ]
    },
    {
     "name": "stderr",
     "output_type": "stream",
     "text": [
      "      9.51 seconds: ML split tests for    500 of   1123 internal splits\n",
      "      9.64 seconds: ML split tests for    600 of   1123 internal splits\n"
     ]
    },
    {
     "name": "stderr",
     "output_type": "stream",
     "text": [
      "      9.77 seconds: ML split tests for    700 of   1123 internal splits\n",
      "      9.90 seconds: ML split tests for    800 of   1123 internal splits\n"
     ]
    },
    {
     "name": "stderr",
     "output_type": "stream",
     "text": [
      "     10.03 seconds: ML split tests for    900 of   1123 internal splits\n",
      "     10.16 seconds: ML split tests for   1000 of   1123 internal splits\n"
     ]
    },
    {
     "name": "stderr",
     "output_type": "stream",
     "text": [
      "     10.29 seconds: ML split tests for   1100 of   1123 internal splits\n",
      "Total time: 10.33 seconds Unique: 1126/1161 Bad splits: 2/1123 Worst delta-LogLk 2.826\n"
     ]
    }
   ],
   "source": [
    "mafft_alignment, mafft_masked_alignment, mafft_tree, mafft_rooted_tree = align_to_tree_mafft_fasttree(\n",
    "    sequences=reps, n_threads=6, )"
   ]
  },
  {
   "cell_type": "markdown",
   "id": "0768d598",
   "metadata": {
    "papermill": {
     "duration": 0.028893,
     "end_time": "2022-10-24T20:38:05.216131",
     "exception": false,
     "start_time": "2022-10-24T20:38:05.187238",
     "status": "completed"
    },
    "tags": []
   },
   "source": [
    "### Compute Alpha Diversity (Phylogeny)\n",
    "- [diversity alpha_phylogenetic](https://docs.qiime2.org/2022.8/plugins/available/diversity/alpha-phylogenetic/): Computes a user-specified phylogenetic alpha diversity metric for all samples in a feature table.\n",
    "- Metrics: Choices ('faith_pd')"
   ]
  },
  {
   "cell_type": "code",
   "execution_count": 13,
   "id": "0383aa19",
   "metadata": {
    "ExecuteTime": {
     "end_time": "2022-09-29T20:54:35.310009Z",
     "start_time": "2022-09-29T20:54:35.141333Z"
    },
    "execution": {
     "iopub.execute_input": "2022-10-24T20:38:05.278278Z",
     "iopub.status.busy": "2022-10-24T20:38:05.278032Z",
     "iopub.status.idle": "2022-10-24T20:38:05.400538Z",
     "shell.execute_reply": "2022-10-24T20:38:05.399973Z"
    },
    "papermill": {
     "duration": 0.157881,
     "end_time": "2022-10-24T20:38:05.402625",
     "exception": false,
     "start_time": "2022-10-24T20:38:05.244744",
     "status": "completed"
    },
    "tags": []
   },
   "outputs": [
    {
     "name": "stdout",
     "output_type": "stream",
     "text": [
      "Calculating alpha diversity: faith_pd\n"
     ]
    }
   ],
   "source": [
    "metrics = ('faith_pd', )\n",
    "alpha_diversities_phylogenetic = dict()\n",
    "for metric in metrics:\n",
    "    print(f\"Calculating alpha diversity: {metric}\")\n",
    "    alpha_diversity = alpha_phylogenetic(table=tabs, phylogeny=mafft_rooted_tree, metric=metric).alpha_diversity\n",
    "    alpha_diversities_phylogenetic[metric] = alpha_diversity"
   ]
  },
  {
   "cell_type": "markdown",
   "id": "c7752cfd",
   "metadata": {
    "papermill": {
     "duration": 0.033129,
     "end_time": "2022-10-24T20:38:05.472557",
     "exception": false,
     "start_time": "2022-10-24T20:38:05.439428",
     "status": "completed"
    },
    "tags": []
   },
   "source": [
    "### Alpha diversity correlation\n",
    "\n",
    "This method only process `numeric` columns.\n"
   ]
  },
  {
   "cell_type": "code",
   "execution_count": 14,
   "id": "2814f613",
   "metadata": {
    "ExecuteTime": {
     "end_time": "2022-09-29T20:54:35.317618Z",
     "start_time": "2022-09-29T20:54:35.312094Z"
    },
    "execution": {
     "iopub.execute_input": "2022-10-24T20:38:05.556666Z",
     "iopub.status.busy": "2022-10-24T20:38:05.556429Z",
     "iopub.status.idle": "2022-10-24T20:38:05.564501Z",
     "shell.execute_reply": "2022-10-24T20:38:05.563775Z"
    },
    "papermill": {
     "duration": 0.057766,
     "end_time": "2022-10-24T20:38:05.566654",
     "exception": false,
     "start_time": "2022-10-24T20:38:05.508888",
     "status": "completed"
    },
    "tags": []
   },
   "outputs": [],
   "source": [
    "methods = ('spearman', 'pearson')\n",
    "numerics_cols = metadata_qa.filter_columns(column_type='numeric')\n",
    "if numerics_cols.column_count > 0:\n",
    "    for metric, alpha_values in alpha_diversities.items():\n",
    "        for method in methods:\n",
    "            corr_view = alpha_correlation(alpha_diversity=alpha_values, metadata=numerics_cols, \n",
    "                                      method=method, intersect_ids=True).visualization\n",
    "            view_path = os.path.join(qiime_folder, f'alpha-correlation-{metric}-{method}.qzv')\n",
    "            corr_view.save(view_path)\n",
    "            corr_view"
   ]
  },
  {
   "cell_type": "markdown",
   "id": "8ea83c8a",
   "metadata": {
    "papermill": {
     "duration": 0.033193,
     "end_time": "2022-10-24T20:38:05.636350",
     "exception": false,
     "start_time": "2022-10-24T20:38:05.603157",
     "status": "completed"
    },
    "tags": []
   },
   "source": [
    "## Alpha diversity comparisons\n",
    "\n",
    "Visually and statistically compare groups of alpha diversity values.\n",
    "\n",
    "[diversity alpha_group_significance](https://docs.qiime2.org/2022.8/plugins/available/diversity/alpha-group-significance/)"
   ]
  },
  {
   "cell_type": "code",
   "execution_count": 15,
   "id": "276d1c18",
   "metadata": {
    "ExecuteTime": {
     "end_time": "2022-09-29T20:54:36.089290Z",
     "start_time": "2022-09-29T20:54:35.318963Z"
    },
    "execution": {
     "iopub.execute_input": "2022-10-24T20:38:05.703192Z",
     "iopub.status.busy": "2022-10-24T20:38:05.702824Z",
     "iopub.status.idle": "2022-10-24T20:38:06.467111Z",
     "shell.execute_reply": "2022-10-24T20:38:06.466487Z"
    },
    "papermill": {
     "duration": 0.801183,
     "end_time": "2022-10-24T20:38:06.470291",
     "exception": false,
     "start_time": "2022-10-24T20:38:05.669108",
     "status": "completed"
    },
    "tags": []
   },
   "outputs": [
    {
     "name": "stdout",
     "output_type": "stream",
     "text": [
      "Processing alpha_group_significance: chao1\n",
      "Processing alpha_group_significance: simpson\n"
     ]
    },
    {
     "name": "stdout",
     "output_type": "stream",
     "text": [
      "Processing alpha_group_significance: shannon\n",
      "Processing alpha_group_significance: ace\n"
     ]
    },
    {
     "name": "stdout",
     "output_type": "stream",
     "text": [
      "Processing alpha_group_significance: observed_features\n"
     ]
    }
   ],
   "source": [
    "for metric, alpha_values in alpha_diversities.items():\n",
    "    print(f\"Processing alpha_group_significance: {metric}\")\n",
    "    significance_view = alpha_group_significance(alpha_diversity=alpha_values, metadata=metadata_qa).visualization\n",
    "    view_path = os.path.join(qiime_folder, f'alpha-group-significance-{metric}.qzv')\n",
    "    significance_view.save(view_path)\n",
    "    significance_view"
   ]
  },
  {
   "cell_type": "markdown",
   "id": "4349d357",
   "metadata": {
    "papermill": {
     "duration": 0.081274,
     "end_time": "2022-10-24T20:38:06.613581",
     "exception": false,
     "start_time": "2022-10-24T20:38:06.532307",
     "status": "completed"
    },
    "tags": []
   },
   "source": [
    "## Beta diversity analysis\n",
    "\n",
    "#### Reference\n",
    "- [diversity beta](https://docs.qiime2.org/2022.8/plugins/available/diversity/beta/): Computes a user-specified beta diversity metric for all pairs of samples in a feature table.\n",
    "- [Beta diversity metrics](http://scikit-bio.org/docs/0.2.0/generated/skbio.diversity.beta.html)\n",
    "\n",
    "- Metric Choices('aitchison', 'braycurtis', 'canberra', 'canberra_adkins', 'chebyshev', 'cityblock', 'correlation', 'cosine', 'dice', 'euclidean', 'hamming', 'jaccard', 'jensenshannon', 'kulsinski', 'matching', 'minkowski', 'rogerstanimoto', 'russellrao', 'seuclidean', 'sokalmichener', 'sokalsneath', 'sqeuclidean', 'yule')"
   ]
  },
  {
   "cell_type": "code",
   "execution_count": 16,
   "id": "f6f358dd",
   "metadata": {
    "ExecuteTime": {
     "end_time": "2022-09-29T20:54:36.335038Z",
     "start_time": "2022-09-29T20:54:36.091288Z"
    },
    "execution": {
     "iopub.execute_input": "2022-10-24T20:38:06.784190Z",
     "iopub.status.busy": "2022-10-24T20:38:06.783837Z",
     "iopub.status.idle": "2022-10-24T20:38:07.067675Z",
     "shell.execute_reply": "2022-10-24T20:38:07.066983Z"
    },
    "papermill": {
     "duration": 0.373695,
     "end_time": "2022-10-24T20:38:07.071812",
     "exception": false,
     "start_time": "2022-10-24T20:38:06.698117",
     "status": "completed"
    },
    "tags": []
   },
   "outputs": [
    {
     "name": "stdout",
     "output_type": "stream",
     "text": [
      "Calculating beta diversity: dice\n",
      "Calculating beta diversity: braycurtis\n",
      "Calculating beta diversity: chebyshev\n"
     ]
    },
    {
     "name": "stderr",
     "output_type": "stream",
     "text": [
      "/home/lauro/anaconda3/envs/qiime2-2022.2/lib/python3.8/site-packages/sklearn/metrics/pairwise.py:1761: DataConversionWarning: Data was converted to boolean for metric dice\n",
      "  warnings.warn(msg, DataConversionWarning)\n"
     ]
    },
    {
     "name": "stdout",
     "output_type": "stream",
     "text": [
      "Calculating beta diversity: jaccard\n"
     ]
    },
    {
     "name": "stderr",
     "output_type": "stream",
     "text": [
      "/home/lauro/anaconda3/envs/qiime2-2022.2/lib/python3.8/site-packages/sklearn/metrics/pairwise.py:1761: DataConversionWarning: Data was converted to boolean for metric jaccard\n",
      "  warnings.warn(msg, DataConversionWarning)\n"
     ]
    }
   ],
   "source": [
    "metrics = ('dice', 'braycurtis', 'chebyshev', 'jaccard')\n",
    "beta_diversities = dict()\n",
    "for metric in metrics:\n",
    "    print(f\"Calculating beta diversity: {metric}\")\n",
    "    beta_diversity = beta(table=tabs, metric=metric, n_jobs=6, pseudocount=1).distance_matrix\n",
    "    beta_diversities[metric] = beta_diversity"
   ]
  },
  {
   "cell_type": "markdown",
   "id": "200a2fa7",
   "metadata": {
    "papermill": {
     "duration": 0.036437,
     "end_time": "2022-10-24T20:38:07.150413",
     "exception": false,
     "start_time": "2022-10-24T20:38:07.113976",
     "status": "completed"
    },
    "tags": []
   },
   "source": [
    "### Beta group significance\n",
    "\n",
    "- [diversity beta_group_significance](https://docs.qiime2.org/2022.8/plugins/available/diversity/beta-group-significance/): Determine whether groups of samples are significantly different from one another using a permutation-based statistical test.\n",
    "- Marti J Anderson. A new method for non-parametric multivariate analysis of variance. Austral ecology, 26(1):32–46, 2001. doi:https://doi.org/10.1111/j.1442-9993.2001.01070.pp.x."
   ]
  },
  {
   "cell_type": "code",
   "execution_count": 17,
   "id": "b8dd42b6",
   "metadata": {
    "ExecuteTime": {
     "end_time": "2022-09-29T20:55:08.313860Z",
     "start_time": "2022-09-29T20:54:36.336993Z"
    },
    "execution": {
     "iopub.execute_input": "2022-10-24T20:38:07.225816Z",
     "iopub.status.busy": "2022-10-24T20:38:07.225461Z",
     "iopub.status.idle": "2022-10-24T20:38:38.434126Z",
     "shell.execute_reply": "2022-10-24T20:38:38.433546Z"
    },
    "papermill": {
     "duration": 31.293959,
     "end_time": "2022-10-24T20:38:38.481371",
     "exception": false,
     "start_time": "2022-10-24T20:38:07.187412",
     "status": "completed"
    },
    "tags": []
   },
   "outputs": [
    {
     "name": "stdout",
     "output_type": "stream",
     "text": [
      "Calculating beta group significance with method permanova and metric dice\n"
     ]
    },
    {
     "name": "stdout",
     "output_type": "stream",
     "text": [
      "Calculating beta group significance with method permanova and metric braycurtis\n"
     ]
    },
    {
     "name": "stdout",
     "output_type": "stream",
     "text": [
      "Calculating beta group significance with method permanova and metric chebyshev\n"
     ]
    },
    {
     "name": "stdout",
     "output_type": "stream",
     "text": [
      "Calculating beta group significance with method permanova and metric jaccard\n"
     ]
    },
    {
     "name": "stdout",
     "output_type": "stream",
     "text": [
      "Calculating beta group significance with method anosim and metric dice\n"
     ]
    },
    {
     "name": "stdout",
     "output_type": "stream",
     "text": [
      "Calculating beta group significance with method anosim and metric braycurtis\n"
     ]
    },
    {
     "name": "stdout",
     "output_type": "stream",
     "text": [
      "Calculating beta group significance with method anosim and metric chebyshev\n"
     ]
    },
    {
     "name": "stdout",
     "output_type": "stream",
     "text": [
      "Calculating beta group significance with method anosim and metric jaccard\n"
     ]
    },
    {
     "name": "stdout",
     "output_type": "stream",
     "text": [
      "Calculating beta group significance with method permdisp and metric dice\n"
     ]
    },
    {
     "name": "stdout",
     "output_type": "stream",
     "text": [
      "Calculating beta group significance with method permdisp and metric braycurtis\n"
     ]
    },
    {
     "name": "stdout",
     "output_type": "stream",
     "text": [
      "Calculating beta group significance with method permdisp and metric chebyshev\n"
     ]
    },
    {
     "name": "stderr",
     "output_type": "stream",
     "text": [
      "/home/lauro/anaconda3/envs/qiime2-2022.2/lib/python3.8/site-packages/skbio/stats/ordination/_principal_coordinate_analysis.py:143: RuntimeWarning: The result contains negative eigenvalues. Please compare their magnitude with the magnitude of some of the largest positive eigenvalues. If the negative ones are smaller, it's probably safe to ignore them, but if they are large in magnitude, the results won't be useful. See the Notes section for more details. The smallest eigenvalue is -32773846.13539124 and the largest is 1569013390.3641527.\n",
      "  warn(\n"
     ]
    },
    {
     "name": "stderr",
     "output_type": "stream",
     "text": [
      "/home/lauro/anaconda3/envs/qiime2-2022.2/lib/python3.8/site-packages/skbio/stats/ordination/_principal_coordinate_analysis.py:143: RuntimeWarning: The result contains negative eigenvalues. Please compare their magnitude with the magnitude of some of the largest positive eigenvalues. If the negative ones are smaller, it's probably safe to ignore them, but if they are large in magnitude, the results won't be useful. See the Notes section for more details. The smallest eigenvalue is -32773846.135391433 and the largest is 1569013390.3641493.\n",
      "  warn(\n"
     ]
    },
    {
     "name": "stdout",
     "output_type": "stream",
     "text": [
      "Calculating beta group significance with method permdisp and metric jaccard\n"
     ]
    },
    {
     "data": {
      "text/plain": [
       "<Figure size 432x288 with 0 Axes>"
      ]
     },
     "metadata": {},
     "output_type": "display_data"
    }
   ],
   "source": [
    "methods = ('permanova', 'anosim', 'permdisp')\n",
    "for method in methods:\n",
    "    for metric, beta_diversity in beta_diversities.items():\n",
    "        print(f'Calculating beta group significance with method {method} and metric {metric}')\n",
    "        beta_view = beta_group_significance(distance_matrix=beta_diversity, \n",
    "                                            metadata=metadata_qa.get_column(class_col), \n",
    "                                            pairwise=True, method=method).visualization\n",
    "        view_name = os.path.join(qiime_folder, f'beta-group-significance-{metric}-{method}.qzv')\n",
    "        beta_view.save(view_name)"
   ]
  },
  {
   "cell_type": "markdown",
   "id": "c0de85cf",
   "metadata": {
    "papermill": {
     "duration": 0.092614,
     "end_time": "2022-10-24T20:38:38.644311",
     "exception": false,
     "start_time": "2022-10-24T20:38:38.551697",
     "status": "completed"
    },
    "tags": []
   },
   "source": [
    "### Beta group Rarefaction\n",
    "\n",
    "- [diversity beta_rarefaction](https://docs.qiime2.org/2022.8/plugins/available/diversity/beta-rarefaction/): Repeatedly rarefy a feature table to compare beta diversity results within a given rarefaction depth.  For a given beta diversity metric, this visualizer will provide: an Emperor jackknifed PCoA plot, samples clustered by UPGMA or neighbor joining with support calculation, and a heatmap showing the correlation between rarefaction trials of that beta diversity metric."
   ]
  }
 ],
 "metadata": {
  "celltoolbar": "Edit Metadata",
  "kernelspec": {
   "display_name": "Python 3 (ipykernel)",
   "language": "python",
   "name": "python3"
  },
  "language_info": {
   "codemirror_mode": {
    "name": "ipython",
    "version": 3
   },
   "file_extension": ".py",
   "mimetype": "text/x-python",
   "name": "python",
   "nbconvert_exporter": "python",
   "pygments_lexer": "ipython3",
   "version": "3.8.12"
  },
  "papermill": {
   "default_parameters": {},
   "duration": 67.814947,
   "end_time": "2022-10-24T20:38:39.866382",
   "environment_variables": {},
   "exception": null,
   "input_path": "nb-templates/step-diversity-analysis.ipynb",
   "output_path": "/home/lauro/nupeb/rede-micro/redemicro-ana-flavia-nutri/experiments/ana-flavia-STD-NRxHSD-NR-trim/nb-executed-steps/step-diversity-analysis-ana-flavia-STD-NRxHSD-NR-trim.ipynb",
   "parameters": {
    "base_dir": "/home/lauro/nupeb/rede-micro/redemicro-ana-flavia-nutri",
    "class_col": "group-id",
    "classifier_file": "/home/lauro/nupeb/16S_classifiers_qiime2/silva-138-99-nb-classifier.qza",
    "experiment_name": "ana-flavia-STD-NRxHSD-NR-trim",
    "manifest_file": "/home/lauro/nupeb/rede-micro/redemicro-ana-flavia-nutri/data/raw/manifest/manifest-ana-flavia-STD-NRxHSD-NR.csv",
    "metadata_file": "/home/lauro/nupeb/rede-micro/redemicro-ana-flavia-nutri/data/raw/metadata/metadata-ana-flavia-STD-NRxHSD-NR.tsv",
    "overlap": 12,
    "phred": 20,
    "replace_files": false,
    "threads": 6,
    "trim": {
     "forward_primer": "CCTACGGGRSGCAGCAG",
     "overlap": 8,
     "reverse_primer": "GGACTACHVGGGTWTCTAAT"
    },
    "trunc_f": 0,
    "trunc_r": 0
   },
   "start_time": "2022-10-24T20:37:32.051435",
   "version": "2.3.4"
  }
 },
 "nbformat": 4,
 "nbformat_minor": 5
}