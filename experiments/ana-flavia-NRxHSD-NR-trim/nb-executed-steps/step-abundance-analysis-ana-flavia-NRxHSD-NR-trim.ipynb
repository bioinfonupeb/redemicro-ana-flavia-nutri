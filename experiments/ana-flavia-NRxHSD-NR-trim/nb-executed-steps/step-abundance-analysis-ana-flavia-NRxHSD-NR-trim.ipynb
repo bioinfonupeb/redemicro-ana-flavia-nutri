{
 "cells": [
  {
   "cell_type": "markdown",
   "id": "0e7f2330",
   "metadata": {
    "ExecuteTime": {
     "end_time": "2022-09-22T19:36:33.828188Z",
     "start_time": "2022-09-22T19:36:33.817323Z"
    },
    "papermill": {
     "duration": 0.015996,
     "end_time": "2023-08-23T18:24:32.514815",
     "exception": false,
     "start_time": "2023-08-23T18:24:32.498819",
     "status": "completed"
    },
    "tags": []
   },
   "source": [
    "### STEP : Diversity Analysis\n",
    "\n",
    "\n",
    "\n",
    "#### Example\n",
    "\n",
    "- [“Moving Pictures” tutorial](https://docs.qiime2.org/2022.8/tutorials/moving-pictures-usage/?highlight=ancom)\n",
    "- [Biostats ANCOM](http://scikit-bio.org/docs/0.4.2/generated/generated/skbio.stats.composition.ancom.html)\n",
    "\n",
    "\n",
    "#### Methods\n",
    "- [composition](https://docs.qiime2.org/2022.8/plugins/available/composition/)\n",
    "- [composition add_pseudocount](https://docs.qiime2.org/2022.8/plugins/available/composition/add-pseudocount/): Increment all counts in table by pseudocount.\n",
    "- [composition ancom](https://docs.qiime2.org/2022.8/plugins/available/composition/ancom/): Apply ANCOM to identify features that differ in abundance."
   ]
  },
  {
   "cell_type": "markdown",
   "id": "843debbf",
   "metadata": {
    "papermill": {
     "duration": 0.009177,
     "end_time": "2023-08-23T18:24:32.538091",
     "exception": false,
     "start_time": "2023-08-23T18:24:32.528914",
     "status": "completed"
    },
    "tags": []
   },
   "source": [
    "## Setup and settings"
   ]
  },
  {
   "cell_type": "code",
   "execution_count": 1,
   "id": "965e28e5",
   "metadata": {
    "ExecuteTime": {
     "end_time": "2022-11-03T20:35:26.198671Z",
     "start_time": "2022-11-03T20:35:06.473173Z"
    },
    "execution": {
     "iopub.execute_input": "2023-08-23T18:24:32.557986Z",
     "iopub.status.busy": "2023-08-23T18:24:32.557659Z",
     "iopub.status.idle": "2023-08-23T18:24:39.419864Z",
     "shell.execute_reply": "2023-08-23T18:24:39.419010Z"
    },
    "papermill": {
     "duration": 6.875653,
     "end_time": "2023-08-23T18:24:39.422887",
     "exception": false,
     "start_time": "2023-08-23T18:24:32.547234",
     "status": "completed"
    },
    "tags": []
   },
   "outputs": [],
   "source": [
    "# Importing packages\n",
    "import os\n",
    "import pandas as pd\n",
    "from qiime2 import Artifact\n",
    "from qiime2 import Visualization\n",
    "from qiime2 import Metadata\n",
    "\n",
    "from qiime2.plugins.composition.visualizers import ancom\n",
    "from qiime2.plugins.composition.methods import add_pseudocount\n",
    "\n",
    "%matplotlib inline"
   ]
  },
  {
   "cell_type": "markdown",
   "id": "530ceb60",
   "metadata": {
    "papermill": {
     "duration": 0.091378,
     "end_time": "2023-08-23T18:24:39.530980",
     "exception": false,
     "start_time": "2023-08-23T18:24:39.439602",
     "status": "completed"
    },
    "tags": []
   },
   "source": [
    "### Receiving the parameters\n",
    "\n",
    "The following cell can receive parameters using the [papermill](https://papermill.readthedocs.io/en/latest/) tool."
   ]
  },
  {
   "cell_type": "code",
   "execution_count": 2,
   "id": "18d874ea",
   "metadata": {
    "ExecuteTime": {
     "end_time": "2022-09-29T20:54:14.793270Z",
     "start_time": "2022-09-29T20:54:14.789367Z"
    },
    "execution": {
     "iopub.execute_input": "2023-08-23T18:24:39.632623Z",
     "iopub.status.busy": "2023-08-23T18:24:39.631950Z",
     "iopub.status.idle": "2023-08-23T18:24:39.638760Z",
     "shell.execute_reply": "2023-08-23T18:24:39.637395Z"
    },
    "papermill": {
     "duration": 0.055333,
     "end_time": "2023-08-23T18:24:39.641810",
     "exception": false,
     "start_time": "2023-08-23T18:24:39.586477",
     "status": "completed"
    },
    "tags": [
     "parameters"
    ]
   },
   "outputs": [],
   "source": [
    "metadata_file = '/home/lauro/nupeb/rede-micro/redemicro-miliane-nutri/data/raw/metadata/miliane-metadata-CxAC.tsv'\n",
    "base_dir = os.path.join('/', 'home', 'lauro', 'nupeb', 'rede-micro', 'redemicro-miliane-nutri')\n",
    "experiment_name = 'miliane-CxAC-trim'\n",
    "class_col = 'group-id'\n",
    "replace_files = False"
   ]
  },
  {
   "cell_type": "code",
   "execution_count": 3,
   "id": "65f1bc58",
   "metadata": {
    "execution": {
     "iopub.execute_input": "2023-08-23T18:24:39.673440Z",
     "iopub.status.busy": "2023-08-23T18:24:39.673184Z",
     "iopub.status.idle": "2023-08-23T18:24:39.678351Z",
     "shell.execute_reply": "2023-08-23T18:24:39.677645Z"
    },
    "papermill": {
     "duration": 0.023835,
     "end_time": "2023-08-23T18:24:39.680171",
     "exception": false,
     "start_time": "2023-08-23T18:24:39.656336",
     "status": "completed"
    },
    "tags": [
     "injected-parameters"
    ]
   },
   "outputs": [],
   "source": [
    "# Parameters\n",
    "experiment_name = \"ana-flavia-NRxHSD-NR-trim\"\n",
    "base_dir = \"/home/lauro/nupeb/rede-micro/redemicro-ana-flavia-nutri\"\n",
    "manifest_file = \"/home/lauro/nupeb/rede-micro/redemicro-ana-flavia-nutri/data/raw/manifest/manifest-ana-flavia-NRxHSD-NR.csv\"\n",
    "metadata_file = \"/home/lauro/nupeb/rede-micro/redemicro-ana-flavia-nutri/data/raw/metadata/metadata-ana-flavia-NRxHSD-NR.tsv\"\n",
    "class_col = \"group-id\"\n",
    "classifier_file = \"/home/lauro/nupeb/rede-micro/models/silva-138-99-nb-classifier.qza\"\n",
    "top_n = 20\n",
    "replace_files = False\n",
    "phred = 20\n",
    "trunc_f = 0\n",
    "trunc_r = 0\n",
    "overlap = 12\n",
    "threads = 6\n",
    "trim = {\n",
    "    \"overlap\": 8,\n",
    "    \"forward_primer\": \"CCTACGGGRSGCAGCAG\",\n",
    "    \"reverse_primer\": \"GGACTACHVGGGTWTCTAAT\",\n",
    "}\n"
   ]
  },
  {
   "cell_type": "code",
   "execution_count": 4,
   "id": "f38617d9",
   "metadata": {
    "ExecuteTime": {
     "end_time": "2022-09-29T20:54:14.804575Z",
     "start_time": "2022-09-29T20:54:14.794927Z"
    },
    "execution": {
     "iopub.execute_input": "2023-08-23T18:24:39.701510Z",
     "iopub.status.busy": "2023-08-23T18:24:39.701266Z",
     "iopub.status.idle": "2023-08-23T18:24:39.705399Z",
     "shell.execute_reply": "2023-08-23T18:24:39.704611Z"
    },
    "papermill": {
     "duration": 0.017043,
     "end_time": "2023-08-23T18:24:39.707127",
     "exception": false,
     "start_time": "2023-08-23T18:24:39.690084",
     "status": "completed"
    },
    "tags": []
   },
   "outputs": [],
   "source": [
    "experiment_folder = os.path.abspath(os.path.join(base_dir, 'experiments', experiment_name))\n",
    "img_folder = os.path.abspath(os.path.join(experiment_folder, 'imgs'))"
   ]
  },
  {
   "cell_type": "markdown",
   "id": "ea9b90fb",
   "metadata": {
    "papermill": {
     "duration": 0.00914,
     "end_time": "2023-08-23T18:24:39.725531",
     "exception": false,
     "start_time": "2023-08-23T18:24:39.716391",
     "status": "completed"
    },
    "tags": []
   },
   "source": [
    "### Defining names, paths and flags"
   ]
  },
  {
   "cell_type": "code",
   "execution_count": 5,
   "id": "45727eef",
   "metadata": {
    "ExecuteTime": {
     "end_time": "2022-09-29T20:54:14.816686Z",
     "start_time": "2022-09-29T20:54:14.806238Z"
    },
    "execution": {
     "iopub.execute_input": "2023-08-23T18:24:39.744330Z",
     "iopub.status.busy": "2023-08-23T18:24:39.744101Z",
     "iopub.status.idle": "2023-08-23T18:24:39.747743Z",
     "shell.execute_reply": "2023-08-23T18:24:39.747199Z"
    },
    "papermill": {
     "duration": 0.014807,
     "end_time": "2023-08-23T18:24:39.749291",
     "exception": false,
     "start_time": "2023-08-23T18:24:39.734484",
     "status": "completed"
    },
    "tags": []
   },
   "outputs": [],
   "source": [
    "# QIIME2 Artifacts folder\n",
    "qiime_folder = os.path.join(experiment_folder, 'qiime-artifacts')\n",
    "\n",
    "# Input - DADA2 Artifacts\n",
    "dada2_tabs_path = os.path.join(qiime_folder, 'dada2-tabs.qza')"
   ]
  },
  {
   "cell_type": "markdown",
   "id": "0999a1b2",
   "metadata": {
    "papermill": {
     "duration": 0.008633,
     "end_time": "2023-08-23T18:24:39.766833",
     "exception": false,
     "start_time": "2023-08-23T18:24:39.758200",
     "status": "completed"
    },
    "tags": []
   },
   "source": [
    "## Step execution\n",
    "\n",
    "### Load input files\n",
    "\n",
    "This Step import the QIIME2 `FeatureTable[Frequency]` Artifact and the `Metadata` file."
   ]
  },
  {
   "cell_type": "code",
   "execution_count": 6,
   "id": "8f299d1a",
   "metadata": {
    "ExecuteTime": {
     "end_time": "2022-09-29T20:54:15.559837Z",
     "start_time": "2022-09-29T20:54:14.830405Z"
    },
    "execution": {
     "iopub.execute_input": "2023-08-23T18:24:39.785945Z",
     "iopub.status.busy": "2023-08-23T18:24:39.785451Z",
     "iopub.status.idle": "2023-08-23T18:24:41.389841Z",
     "shell.execute_reply": "2023-08-23T18:24:41.388963Z"
    },
    "papermill": {
     "duration": 1.61755,
     "end_time": "2023-08-23T18:24:41.393069",
     "exception": false,
     "start_time": "2023-08-23T18:24:39.775519",
     "status": "completed"
    },
    "tags": []
   },
   "outputs": [],
   "source": [
    "#Load Metadata\n",
    "metadata_qa = Metadata.load(metadata_file)\n",
    "\n",
    "#Load FeatureTable[Frequency]\n",
    "tabs = Artifact.load(dada2_tabs_path)\n",
    "tabs_df = tabs.view(Metadata).to_dataframe().T"
   ]
  },
  {
   "cell_type": "markdown",
   "id": "a9a446c4",
   "metadata": {
    "papermill": {
     "duration": 0.00898,
     "end_time": "2023-08-23T18:24:41.418070",
     "exception": false,
     "start_time": "2023-08-23T18:24:41.409090",
     "status": "completed"
    },
    "tags": []
   },
   "source": [
    "# ANCOM\n",
    "\n",
    "Apply Analysis of Composition of Microbiomes (ANCOM) to identify features\n",
    "that are differentially abundant across groups.\n",
    "\n",
    "- [composition add_pseudocount](https://docs.qiime2.org/2022.8/plugins/available/composition/add-pseudocount/): Increment all counts in table by pseudocount.\n",
    "- [composition ancom](https://docs.qiime2.org/2022.8/plugins/available/composition/ancom/): Apply ANCOM to identify features that differ in abundance."
   ]
  },
  {
   "cell_type": "code",
   "execution_count": 7,
   "id": "cda81bf5",
   "metadata": {
    "execution": {
     "iopub.execute_input": "2023-08-23T18:24:41.475678Z",
     "iopub.status.busy": "2023-08-23T18:24:41.475431Z",
     "iopub.status.idle": "2023-08-23T18:24:41.479775Z",
     "shell.execute_reply": "2023-08-23T18:24:41.478943Z"
    },
    "papermill": {
     "duration": 0.027929,
     "end_time": "2023-08-23T18:24:41.481852",
     "exception": false,
     "start_time": "2023-08-23T18:24:41.453923",
     "status": "completed"
    },
    "tags": []
   },
   "outputs": [],
   "source": [
    "# Select class column\n",
    "column = metadata_qa.get_column(class_col)"
   ]
  },
  {
   "cell_type": "code",
   "execution_count": 8,
   "id": "2f023bcc",
   "metadata": {
    "execution": {
     "iopub.execute_input": "2023-08-23T18:24:41.572641Z",
     "iopub.status.busy": "2023-08-23T18:24:41.572361Z",
     "iopub.status.idle": "2023-08-23T18:24:41.891913Z",
     "shell.execute_reply": "2023-08-23T18:24:41.891208Z"
    },
    "papermill": {
     "duration": 0.401045,
     "end_time": "2023-08-23T18:24:41.894559",
     "exception": false,
     "start_time": "2023-08-23T18:24:41.493514",
     "status": "completed"
    },
    "tags": []
   },
   "outputs": [],
   "source": [
    "# Create the pseudocount table\n",
    "composition_tab = add_pseudocount(table = tabs).composition_table"
   ]
  },
  {
   "cell_type": "code",
   "execution_count": 9,
   "id": "2999c2f6",
   "metadata": {
    "execution": {
     "iopub.execute_input": "2023-08-23T18:24:41.919095Z",
     "iopub.status.busy": "2023-08-23T18:24:41.918748Z",
     "iopub.status.idle": "2023-08-23T18:24:42.137470Z",
     "shell.execute_reply": "2023-08-23T18:24:42.136708Z"
    },
    "papermill": {
     "duration": 0.232276,
     "end_time": "2023-08-23T18:24:42.140621",
     "exception": false,
     "start_time": "2023-08-23T18:24:41.908345",
     "status": "completed"
    },
    "tags": []
   },
   "outputs": [
    {
     "name": "stdout",
     "output_type": "stream",
     "text": [
      "Calculating ANCOM with: sqrt mean_difference\n",
      "ERROR: Calculating ANCOM with: sqrt mean_difference\n",
      "The following IDs are not present in the metadata: 'S210421121673', 'S210421121674', 'S210421121675', 'S210421121676', 'S210421121682', 'S210421121683', 'S210421121684', 'S210421121685', 'S210421121686', 'S210421121687', 'S210421121688', 'S210421121689', 'S210421121690', 'S210421121694', 'S210421121695', 'S210421121696', 'S210421121697', 'S210421121698', 'S210421121699', 'S210421121700', 'S210421121701', 'S210421121702', 'S210421121703', 'S210421121704', 'S210421121705', 'S210421121706', 'S210421121711', 'S210421121712', 'S210421121713', 'S210421121714', 'S210421121715', 'S210421121716', 'S210421121717', 'S210421121718', 'S210421121719', 'S210421121720', 'S210421121721', 'S210421121722', 'S210421121723', 'S210421121724', 'S210421121725', 'S210421121726', 'S210421121727', 'S210421121728', 'S210421121729', 'S210421121730', 'S210421121731', 'S210421121732', 'S210421121733', 'S210421121734', 'S210707163906', 'S210707163907', 'S210707163908', 'S210707163909', 'S210707163910', 'S210707163911', 'S210707163912', 'S210707163913', 'S210707163914', 'S210707163915', 'S210707163916', 'S210707163917'\n",
      "Calculating ANCOM with: sqrt f_statistic\n",
      "ERROR: Calculating ANCOM with: sqrt f_statistic\n",
      "The following IDs are not present in the metadata: 'S210421121673', 'S210421121674', 'S210421121675', 'S210421121676', 'S210421121682', 'S210421121683', 'S210421121684', 'S210421121685', 'S210421121686', 'S210421121687', 'S210421121688', 'S210421121689', 'S210421121690', 'S210421121694', 'S210421121695', 'S210421121696', 'S210421121697', 'S210421121698', 'S210421121699', 'S210421121700', 'S210421121701', 'S210421121702', 'S210421121703', 'S210421121704', 'S210421121705', 'S210421121706', 'S210421121711', 'S210421121712', 'S210421121713', 'S210421121714', 'S210421121715', 'S210421121716', 'S210421121717', 'S210421121718', 'S210421121719', 'S210421121720', 'S210421121721', 'S210421121722', 'S210421121723', 'S210421121724', 'S210421121725', 'S210421121726', 'S210421121727', 'S210421121728', 'S210421121729', 'S210421121730', 'S210421121731', 'S210421121732', 'S210421121733', 'S210421121734', 'S210707163906', 'S210707163907', 'S210707163908', 'S210707163909', 'S210707163910', 'S210707163911', 'S210707163912', 'S210707163913', 'S210707163914', 'S210707163915', 'S210707163916', 'S210707163917'\n",
      "Calculating ANCOM with: log mean_difference\n",
      "ERROR: Calculating ANCOM with: log mean_difference\n",
      "The following IDs are not present in the metadata: 'S210421121673', 'S210421121674', 'S210421121675', 'S210421121676', 'S210421121682', 'S210421121683', 'S210421121684', 'S210421121685', 'S210421121686', 'S210421121687', 'S210421121688', 'S210421121689', 'S210421121690', 'S210421121694', 'S210421121695', 'S210421121696', 'S210421121697', 'S210421121698', 'S210421121699', 'S210421121700', 'S210421121701', 'S210421121702', 'S210421121703', 'S210421121704', 'S210421121705', 'S210421121706', 'S210421121711', 'S210421121712', 'S210421121713', 'S210421121714', 'S210421121715', 'S210421121716', 'S210421121717', 'S210421121718', 'S210421121719', 'S210421121720', 'S210421121721', 'S210421121722', 'S210421121723', 'S210421121724', 'S210421121725', 'S210421121726', 'S210421121727', 'S210421121728', 'S210421121729', 'S210421121730', 'S210421121731', 'S210421121732', 'S210421121733', 'S210421121734', 'S210707163906', 'S210707163907', 'S210707163908', 'S210707163909', 'S210707163910', 'S210707163911', 'S210707163912', 'S210707163913', 'S210707163914', 'S210707163915', 'S210707163916', 'S210707163917'\n",
      "Calculating ANCOM with: log f_statistic\n",
      "ERROR: Calculating ANCOM with: log f_statistic\n",
      "The following IDs are not present in the metadata: 'S210421121673', 'S210421121674', 'S210421121675', 'S210421121676', 'S210421121682', 'S210421121683', 'S210421121684', 'S210421121685', 'S210421121686', 'S210421121687', 'S210421121688', 'S210421121689', 'S210421121690', 'S210421121694', 'S210421121695', 'S210421121696', 'S210421121697', 'S210421121698', 'S210421121699', 'S210421121700', 'S210421121701', 'S210421121702', 'S210421121703', 'S210421121704', 'S210421121705', 'S210421121706', 'S210421121711', 'S210421121712', 'S210421121713', 'S210421121714', 'S210421121715', 'S210421121716', 'S210421121717', 'S210421121718', 'S210421121719', 'S210421121720', 'S210421121721', 'S210421121722', 'S210421121723', 'S210421121724', 'S210421121725', 'S210421121726', 'S210421121727', 'S210421121728', 'S210421121729', 'S210421121730', 'S210421121731', 'S210421121732', 'S210421121733', 'S210421121734', 'S210707163906', 'S210707163907', 'S210707163908', 'S210707163909', 'S210707163910', 'S210707163911', 'S210707163912', 'S210707163913', 'S210707163914', 'S210707163915', 'S210707163916', 'S210707163917'\n",
      "Calculating ANCOM with: clr mean_difference\n",
      "ERROR: Calculating ANCOM with: clr mean_difference\n",
      "The following IDs are not present in the metadata: 'S210421121673', 'S210421121674', 'S210421121675', 'S210421121676', 'S210421121682', 'S210421121683', 'S210421121684', 'S210421121685', 'S210421121686', 'S210421121687', 'S210421121688', 'S210421121689', 'S210421121690', 'S210421121694', 'S210421121695', 'S210421121696', 'S210421121697', 'S210421121698', 'S210421121699', 'S210421121700', 'S210421121701', 'S210421121702', 'S210421121703', 'S210421121704', 'S210421121705', 'S210421121706', 'S210421121711', 'S210421121712', 'S210421121713', 'S210421121714', 'S210421121715', 'S210421121716', 'S210421121717', 'S210421121718', 'S210421121719', 'S210421121720', 'S210421121721', 'S210421121722', 'S210421121723', 'S210421121724', 'S210421121725', 'S210421121726', 'S210421121727', 'S210421121728', 'S210421121729', 'S210421121730', 'S210421121731', 'S210421121732', 'S210421121733', 'S210421121734', 'S210707163906', 'S210707163907', 'S210707163908', 'S210707163909', 'S210707163910', 'S210707163911', 'S210707163912', 'S210707163913', 'S210707163914', 'S210707163915', 'S210707163916', 'S210707163917'\n",
      "Calculating ANCOM with: clr f_statistic\n"
     ]
    },
    {
     "name": "stdout",
     "output_type": "stream",
     "text": [
      "ERROR: Calculating ANCOM with: clr f_statistic\n",
      "The following IDs are not present in the metadata: 'S210421121673', 'S210421121674', 'S210421121675', 'S210421121676', 'S210421121682', 'S210421121683', 'S210421121684', 'S210421121685', 'S210421121686', 'S210421121687', 'S210421121688', 'S210421121689', 'S210421121690', 'S210421121694', 'S210421121695', 'S210421121696', 'S210421121697', 'S210421121698', 'S210421121699', 'S210421121700', 'S210421121701', 'S210421121702', 'S210421121703', 'S210421121704', 'S210421121705', 'S210421121706', 'S210421121711', 'S210421121712', 'S210421121713', 'S210421121714', 'S210421121715', 'S210421121716', 'S210421121717', 'S210421121718', 'S210421121719', 'S210421121720', 'S210421121721', 'S210421121722', 'S210421121723', 'S210421121724', 'S210421121725', 'S210421121726', 'S210421121727', 'S210421121728', 'S210421121729', 'S210421121730', 'S210421121731', 'S210421121732', 'S210421121733', 'S210421121734', 'S210707163906', 'S210707163907', 'S210707163908', 'S210707163909', 'S210707163910', 'S210707163911', 'S210707163912', 'S210707163913', 'S210707163914', 'S210707163915', 'S210707163916', 'S210707163917'\n"
     ]
    }
   ],
   "source": [
    "# Create visualizations for each parameter combination for the ANCOM  method.\n",
    "transform_functions = ('sqrt', 'log', 'clr')\n",
    "difference_functions = ('mean_difference', 'f_statistic')\n",
    "for t in transform_functions:\n",
    "    for d in difference_functions:\n",
    "        print(f\"Calculating ANCOM with: {t} {d}\")\n",
    "        try:\n",
    "            ancom_viz = ancom(\n",
    "                table = composition_tab, \n",
    "                metadata = column, \n",
    "                transform_function = t, \n",
    "                difference_function = d\n",
    "            ).visualization\n",
    "            view_name = os.path.join(qiime_folder, f'ancom-{t}-{d}.qzv')\n",
    "            ancom_viz.save(view_name)\n",
    "        except Exception as e:\n",
    "            print(f\"ERROR: Calculating ANCOM with: {t} {d}\")\n",
    "            print(e)"
   ]
  }
 ],
 "metadata": {
  "celltoolbar": "Edit Metadata",
  "kernelspec": {
   "display_name": "Python 3 (ipykernel)",
   "language": "python",
   "name": "python3"
  },
  "language_info": {
   "codemirror_mode": {
    "name": "ipython",
    "version": 3
   },
   "file_extension": ".py",
   "mimetype": "text/x-python",
   "name": "python",
   "nbconvert_exporter": "python",
   "pygments_lexer": "ipython3",
   "version": "3.8.12"
  },
  "papermill": {
   "default_parameters": {},
   "duration": 11.921107,
   "end_time": "2023-08-23T18:24:43.073816",
   "environment_variables": {},
   "exception": null,
   "input_path": "nb-templates/step-abundance-analysis.ipynb",
   "output_path": "/home/lauro/nupeb/rede-micro/redemicro-ana-flavia-nutri/experiments/ana-flavia-NRxHSD-NR-trim/nb-executed-steps/step-abundance-analysis-ana-flavia-NRxHSD-NR-trim.ipynb",
   "parameters": {
    "base_dir": "/home/lauro/nupeb/rede-micro/redemicro-ana-flavia-nutri",
    "class_col": "group-id",
    "classifier_file": "/home/lauro/nupeb/rede-micro/models/silva-138-99-nb-classifier.qza",
    "experiment_name": "ana-flavia-NRxHSD-NR-trim",
    "manifest_file": "/home/lauro/nupeb/rede-micro/redemicro-ana-flavia-nutri/data/raw/manifest/manifest-ana-flavia-NRxHSD-NR.csv",
    "metadata_file": "/home/lauro/nupeb/rede-micro/redemicro-ana-flavia-nutri/data/raw/metadata/metadata-ana-flavia-NRxHSD-NR.tsv",
    "overlap": 12,
    "phred": 20,
    "replace_files": false,
    "threads": 6,
    "top_n": 20,
    "trim": {
     "forward_primer": "CCTACGGGRSGCAGCAG",
     "overlap": 8,
     "reverse_primer": "GGACTACHVGGGTWTCTAAT"
    },
    "trunc_f": 0,
    "trunc_r": 0
   },
   "start_time": "2023-08-23T18:24:31.152709",
   "version": "2.3.4"
  }
 },
 "nbformat": 4,
 "nbformat_minor": 5
}