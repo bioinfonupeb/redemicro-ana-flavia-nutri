{
 "cells": [
  {
   "cell_type": "markdown",
   "id": "15bcfa06",
   "metadata": {
    "papermill": {
     "duration": 0.003584,
     "end_time": "2024-03-05T23:24:43.319744",
     "exception": false,
     "start_time": "2024-03-05T23:24:43.316160",
     "status": "completed"
    },
    "tags": []
   },
   "source": [
    " \n",
    "# Alpha and Beta Diversity\n",
    "\n",
    "Different higher-level measures are often used to describe the microbiome in a sample. These do not provide information on changes in the abundance of specific taxa but allow us to access a broader change or difference in the composition of microorganisms. Alpha and beta diversity are examples of such measures.\n",
    "\n",
    "Different measures exist to estimate diversity within a single sample, jointly called alpha diversity. The different measures reflect the richness (number) or distribution (evenness) of a microbial sample or aim to reflect a combination of both properties.\n",
    "\n",
    "Rarefaction curves are often used when calculating alpha diversity indices because increasing numbers of sequenced taxa allow increasingly accurate estimates of total population diversity. Rarefaction curves can therefore be used to estimate the full sample richness, as compared to the observed sample richness.\n",
    "\n",
    "While alpha diversity is a measure of microbiome diversity applicable to a single sample, beta diversity is a measure of the similarity or dissimilarity of two communities. As for alpha diversity, many indices exist, each reflecting different aspects of community heterogeneity. Key differences relate to how the indices value variation in rare species if they consider presence/absence only or incorporate abundance, and how they interpret shared absence. Bray-Curtis dissimilarity is a popular measure that considers both size (overall abundance per sample) and shape (abundance of each taxon) of the communities (Bray, 1957). Beta diversity is an essential measure for many popular statistical methods in ecology, such as ordination-based methods, and is widely used for studying the association between environmental variables and microbial composition.\n",
    "\n",
    "In summary, alpha diversity measures can be seen as a summary statistic of a single population (within-sample diversity), while beta diversity measures are estimates of similarity or dissimilarity between populations (between samples).\n",
    "\n",
    "**Source**: (https://biomcare.com/info/key-terms-in-microbiome-projects/)"
   ]
  },
  {
   "cell_type": "markdown",
   "id": "0e7f2330",
   "metadata": {
    "ExecuteTime": {
     "end_time": "2022-09-22T19:36:33.828188Z",
     "start_time": "2022-09-22T19:36:33.817323Z"
    },
    "papermill": {
     "duration": 0.002904,
     "end_time": "2024-03-05T23:24:43.325810",
     "exception": false,
     "start_time": "2024-03-05T23:24:43.322906",
     "status": "completed"
    },
    "tags": []
   },
   "source": [
    "### STEP : Diversity Analysis\n",
    "\n",
    "Using QIIME2 to create diversity analisys graphs and calculations.\n",
    "\n",
    "- [QIIME2 Workflow Overview](https://docs.qiime2.org/2022.8/tutorials/overview/)\n",
    "\n",
    "\n",
    "#### Methods\n",
    "- [diversity](https://docs.qiime2.org/2022.8/plugins/available/diversity/)\n",
    "- [diversity alpha](https://docs.qiime2.org/2022.8/plugins/available/diversity/alpha/)\n",
    "- [diversity alpha_phylogenetic](https://docs.qiime2.org/2022.8/plugins/available/diversity/alpha-phylogenetic/)\n",
    "- [diversity beta](https://docs.qiime2.org/2022.8/plugins/available/diversity/beta/)\n",
    "- [diversity core_metrics](https://docs.qiime2.org/2022.8/plugins/available/diversity/core-metrics/)\n",
    "- [diversity alpha_group_significance](https://docs.qiime2.org/2022.8/plugins/available/diversity/alpha-group-significance/)\n",
    "- [diversity beta_group_significance](https://docs.qiime2.org/2022.8/plugins/available/diversity/beta-group-significance/)\n",
    "- [feature_table core_features](https://docs.qiime2.org/2022.8/plugins/available/feature-table/core-features/)\n",
    "- [feature_table summarize](https://docs.qiime2.org/2022.8/plugins/available/feature-table/summarize/)\n",
    "- [taxa filter-table](https://docs.qiime2.org/2022.8/plugins/available/taxa/filter-table/)\n",
    "- [taxa collapse](https://docs.qiime2.org/2022.8/plugins/available/taxa/collapse/)"
   ]
  },
  {
   "cell_type": "markdown",
   "id": "843debbf",
   "metadata": {
    "papermill": {
     "duration": 0.002806,
     "end_time": "2024-03-05T23:24:43.331435",
     "exception": false,
     "start_time": "2024-03-05T23:24:43.328629",
     "status": "completed"
    },
    "tags": []
   },
   "source": [
    "## Setup and settings"
   ]
  },
  {
   "cell_type": "code",
   "execution_count": 1,
   "id": "965e28e5",
   "metadata": {
    "ExecuteTime": {
     "end_time": "2022-11-03T20:35:26.198671Z",
     "start_time": "2022-11-03T20:35:06.473173Z"
    },
    "execution": {
     "iopub.execute_input": "2024-03-05T23:24:43.338330Z",
     "iopub.status.busy": "2024-03-05T23:24:43.338116Z",
     "iopub.status.idle": "2024-03-05T23:24:48.009468Z",
     "shell.execute_reply": "2024-03-05T23:24:48.008934Z"
    },
    "papermill": {
     "duration": 4.676474,
     "end_time": "2024-03-05T23:24:48.010735",
     "exception": false,
     "start_time": "2024-03-05T23:24:43.334261",
     "status": "completed"
    },
    "tags": []
   },
   "outputs": [],
   "source": [
    "# Importing packages\n",
    "import os\n",
    "import pandas as pd\n",
    "from qiime2 import Artifact\n",
    "from qiime2 import Visualization\n",
    "from qiime2 import Metadata\n",
    "\n",
    "from qiime2.plugins.phylogeny.pipelines import align_to_tree_mafft_fasttree\n",
    "\n",
    "from qiime2.plugins.diversity.pipelines import alpha\n",
    "from qiime2.plugins.diversity.pipelines import beta\n",
    "from qiime2.plugins.diversity.pipelines import core_metrics\n",
    "from qiime2.plugins.diversity.pipelines import alpha_phylogenetic\n",
    "\n",
    "from qiime2.plugins.diversity.visualizers import alpha_group_significance\n",
    "from qiime2.plugins.diversity.visualizers import beta_group_significance\n",
    "from qiime2.plugins.diversity.visualizers import alpha_correlation\n",
    "from qiime2.plugins.diversity.visualizers import beta_rarefaction\n",
    "\n",
    "from qiime2.plugins.taxa.methods import filter_table\n",
    "from qiime2.plugins.taxa.methods import collapse\n",
    "\n",
    "from qiime2.plugins.feature_table.visualizers import tabulate_seqs\n",
    "from qiime2.plugins.feature_table.visualizers import summarize\n",
    "from qiime2.plugins.feature_table.visualizers import core_features\n",
    "from qiime2.plugins.diversity.pipelines import core_metrics_phylogenetic\n",
    "\n",
    "from qiime2.plugins.feature_table.methods import filter_samples\n",
    "from qiime2.plugins.feature_table.methods import filter_seqs\n",
    "\n",
    "from qiime2.plugins.alignment.methods import mafft\n",
    "\n",
    "\n",
    "import matplotlib.pyplot as plt\n",
    "\n",
    "%matplotlib inline"
   ]
  },
  {
   "cell_type": "markdown",
   "id": "530ceb60",
   "metadata": {
    "papermill": {
     "duration": 0.002984,
     "end_time": "2024-03-05T23:24:48.016888",
     "exception": false,
     "start_time": "2024-03-05T23:24:48.013904",
     "status": "completed"
    },
    "tags": []
   },
   "source": [
    "### Receiving the parameters\n",
    "\n",
    "The following cell can receive parameters using the [papermill](https://papermill.readthedocs.io/en/latest/) tool."
   ]
  },
  {
   "cell_type": "code",
   "execution_count": 2,
   "id": "18d874ea",
   "metadata": {
    "ExecuteTime": {
     "end_time": "2022-09-29T20:54:14.793270Z",
     "start_time": "2022-09-29T20:54:14.789367Z"
    },
    "execution": {
     "iopub.execute_input": "2024-03-05T23:24:48.023789Z",
     "iopub.status.busy": "2024-03-05T23:24:48.023447Z",
     "iopub.status.idle": "2024-03-05T23:24:48.026666Z",
     "shell.execute_reply": "2024-03-05T23:24:48.026187Z"
    },
    "papermill": {
     "duration": 0.007818,
     "end_time": "2024-03-05T23:24:48.027633",
     "exception": false,
     "start_time": "2024-03-05T23:24:48.019815",
     "status": "completed"
    },
    "tags": [
     "parameters"
    ]
   },
   "outputs": [],
   "source": [
    "base_dir = os.path.join('/', 'home')\n",
    "metadata_file = os.path.abspath(os.path.join(base_dir, 'data', 'metadatada.tsv'))\n",
    "experiment_name = ''\n",
    "class_col = ''\n",
    "replace_files = False"
   ]
  },
  {
   "cell_type": "code",
   "execution_count": 3,
   "id": "02b8be32",
   "metadata": {
    "execution": {
     "iopub.execute_input": "2024-03-05T23:24:48.034279Z",
     "iopub.status.busy": "2024-03-05T23:24:48.034089Z",
     "iopub.status.idle": "2024-03-05T23:24:48.037308Z",
     "shell.execute_reply": "2024-03-05T23:24:48.036743Z"
    },
    "papermill": {
     "duration": 0.007764,
     "end_time": "2024-03-05T23:24:48.038313",
     "exception": false,
     "start_time": "2024-03-05T23:24:48.030549",
     "status": "completed"
    },
    "tags": [
     "injected-parameters"
    ]
   },
   "outputs": [],
   "source": [
    "# Parameters\n",
    "base_dir = \"/mnt/nupeb/rede-micro/redemicro-ana-flavia-nutri\"\n",
    "class_col = \"group-id\"\n",
    "classifier_file = \"/mnt/nupeb/rede-micro/datasets/16S_classifiers_qiime2/silva-138-99-nb-classifier.qza\"\n",
    "experiment_name = \"ana-flavia-NRxHSD-NR-trim\"\n",
    "manifest_file = \"/mnt/nupeb/rede-micro/redemicro-ana-flavia-nutri/data/raw/manifest/manifest-ana-flavia-NRxHSD-NR.csv\"\n",
    "metadata_file = \"/mnt/nupeb/rede-micro/redemicro-ana-flavia-nutri/data/raw/metadata/metadata-ana-flavia-NRxHSD-NR.tsv\"\n",
    "overlap = 12\n",
    "phred = 20\n",
    "replace_files = False\n",
    "threads = 6\n",
    "top_n = 20\n",
    "trim = {\n",
    "    \"forward_primer\": \"CCTACGGGRSGCAGCAG\",\n",
    "    \"overlap\": 8,\n",
    "    \"reverse_primer\": \"GGACTACHVGGGTWTCTAAT\",\n",
    "}\n",
    "trunc_f = 0\n",
    "trunc_r = 0\n"
   ]
  },
  {
   "cell_type": "code",
   "execution_count": 4,
   "id": "f38617d9",
   "metadata": {
    "ExecuteTime": {
     "end_time": "2022-09-29T20:54:14.804575Z",
     "start_time": "2022-09-29T20:54:14.794927Z"
    },
    "execution": {
     "iopub.execute_input": "2024-03-05T23:24:48.044892Z",
     "iopub.status.busy": "2024-03-05T23:24:48.044706Z",
     "iopub.status.idle": "2024-03-05T23:24:48.047051Z",
     "shell.execute_reply": "2024-03-05T23:24:48.046751Z"
    },
    "papermill": {
     "duration": 0.006764,
     "end_time": "2024-03-05T23:24:48.047960",
     "exception": false,
     "start_time": "2024-03-05T23:24:48.041196",
     "status": "completed"
    },
    "tags": []
   },
   "outputs": [],
   "source": [
    "experiment_folder = os.path.abspath(os.path.join(base_dir, 'experiments', experiment_name))\n",
    "img_folder = os.path.abspath(os.path.join(experiment_folder, 'imgs'))"
   ]
  },
  {
   "cell_type": "markdown",
   "id": "ea9b90fb",
   "metadata": {
    "papermill": {
     "duration": 0.002905,
     "end_time": "2024-03-05T23:24:48.053827",
     "exception": false,
     "start_time": "2024-03-05T23:24:48.050922",
     "status": "completed"
    },
    "tags": []
   },
   "source": [
    "### Defining names, paths and flags"
   ]
  },
  {
   "cell_type": "code",
   "execution_count": 5,
   "id": "45727eef",
   "metadata": {
    "ExecuteTime": {
     "end_time": "2022-09-29T20:54:14.816686Z",
     "start_time": "2022-09-29T20:54:14.806238Z"
    },
    "execution": {
     "iopub.execute_input": "2024-03-05T23:24:48.060800Z",
     "iopub.status.busy": "2024-03-05T23:24:48.060601Z",
     "iopub.status.idle": "2024-03-05T23:24:48.065070Z",
     "shell.execute_reply": "2024-03-05T23:24:48.064764Z"
    },
    "papermill": {
     "duration": 0.008865,
     "end_time": "2024-03-05T23:24:48.065975",
     "exception": false,
     "start_time": "2024-03-05T23:24:48.057110",
     "status": "completed"
    },
    "tags": []
   },
   "outputs": [
    {
     "name": "stdout",
     "output_type": "stream",
     "text": [
      "The new directory is created in /mnt/nupeb/rede-micro/redemicro-ana-flavia-nutri/experiments/ana-flavia-NRxHSD-NR-trim/qiime-artifacts/alpha-analysis\n",
      "The new directory is created in /mnt/nupeb/rede-micro/redemicro-ana-flavia-nutri/experiments/ana-flavia-NRxHSD-NR-trim/qiime-artifacts/beta-analysis\n"
     ]
    }
   ],
   "source": [
    "# QIIME2 Artifacts folder\n",
    "qiime_folder = os.path.join(experiment_folder, 'qiime-artifacts')\n",
    "\n",
    "# Input - DADA2 Artifacts\n",
    "dada2_tabs_path = os.path.join(qiime_folder, 'dada2-tabs.qza')\n",
    "dada2_reps_path = os.path.join(qiime_folder, 'dada2-reps.qza')\n",
    "dada2_stat_path = os.path.join(qiime_folder, 'dada2-stat.qza')\n",
    "\n",
    "# Input - Taxonaomic Artifacts\n",
    "taxonomy_path = os.path.join(qiime_folder, 'metatax.qza')\n",
    "\n",
    "# Create folder to store Alpha files\n",
    "alpha_path = os.path.join(qiime_folder, 'alpha-analysis')\n",
    "if not os.path.exists(alpha_path):\n",
    "    os.makedirs(alpha_path)\n",
    "    print(f'The new directory is created in {alpha_path}')\n",
    "    \n",
    "# Create folder to store Beta files\n",
    "beta_path = os.path.join(qiime_folder, 'beta-analysis')\n",
    "if not os.path.exists(beta_path):\n",
    "    os.makedirs(beta_path)\n",
    "    print(f'The new directory is created in {beta_path}')\n",
    "\n",
    "# Output -Diversity Artifacts\n",
    "alpha_diversity_path = os.path.join(alpha_path, 'alpha-diversity.qza')\n",
    "alpha_diversity_view_path = os.path.join(alpha_path, 'alpha-diversity.qzv')\n",
    "beta_diversity_path = os.path.join(beta_path, 'beta-diversity.qza')\n",
    "beta_diversity_view_path = os.path.join(beta_path, 'beta-diversity.qzv')"
   ]
  },
  {
   "cell_type": "code",
   "execution_count": 6,
   "id": "601ae263",
   "metadata": {
    "ExecuteTime": {
     "end_time": "2022-09-29T20:54:14.829117Z",
     "start_time": "2022-09-29T20:54:14.818272Z"
    },
    "execution": {
     "iopub.execute_input": "2024-03-05T23:24:48.072590Z",
     "iopub.status.busy": "2024-03-05T23:24:48.072462Z",
     "iopub.status.idle": "2024-03-05T23:24:48.076064Z",
     "shell.execute_reply": "2024-03-05T23:24:48.075752Z"
    },
    "papermill": {
     "duration": 0.007956,
     "end_time": "2024-03-05T23:24:48.076919",
     "exception": false,
     "start_time": "2024-03-05T23:24:48.068963",
     "status": "completed"
    },
    "tags": []
   },
   "outputs": [],
   "source": [
    "def filter_and_collapse(tab, seqs, tax, meta, lvl, exclude=True, exclude_list='uncultured,unidentified,metagenome'):\n",
    "    from qiime2.plugins.taxa.methods import collapse\n",
    "    from qiime2.plugins.taxa.methods import filter_table\n",
    "    from qiime2.plugins.feature_table.methods import filter_seqs\n",
    "    from qiime2.plugins.feature_table.visualizers import summarize\n",
    "    \n",
    "    to_include = ('d', 'p', 'c', 'o', 'f', 'g', 's')[lvl-1]\n",
    "    to_include += '__'\n",
    "    to_exclude = exclude_list if exclude else None\n",
    "    \n",
    "    filtered_tabs = filter_table(\n",
    "        table=tab, \n",
    "        taxonomy=tax,\n",
    "        include=to_include,\n",
    "        exclude=to_exclude,\n",
    "        mode='contains').filtered_table\n",
    "    \n",
    "    filtered_seqs = filter_seqs(\n",
    "        data = seqs,\n",
    "        table = filtered_tabs,\n",
    "    ).filtered_data\n",
    "    \n",
    "    collapsed_table = collapse(table=filtered_tabs, taxonomy=tax, level=lvl).collapsed_table\n",
    "    collapsed_table_view = summarize(table=collapsed_table, sample_metadata=meta).visualization\n",
    "    \n",
    "    return collapsed_table, collapsed_table_view, filtered_seqs"
   ]
  },
  {
   "cell_type": "markdown",
   "id": "0999a1b2",
   "metadata": {
    "papermill": {
     "duration": 0.002975,
     "end_time": "2024-03-05T23:24:48.082912",
     "exception": false,
     "start_time": "2024-03-05T23:24:48.079937",
     "status": "completed"
    },
    "tags": []
   },
   "source": [
    "## Step execution\n",
    "\n",
    "### Load input files\n",
    "\n",
    "This Step import the QIIME2 `FeatureTable[Frequency]` Artifact and the `Metadata` file."
   ]
  },
  {
   "cell_type": "code",
   "execution_count": 7,
   "id": "8f299d1a",
   "metadata": {
    "ExecuteTime": {
     "end_time": "2022-09-29T20:54:15.559837Z",
     "start_time": "2022-09-29T20:54:14.830405Z"
    },
    "execution": {
     "iopub.execute_input": "2024-03-05T23:24:48.089547Z",
     "iopub.status.busy": "2024-03-05T23:24:48.089412Z",
     "iopub.status.idle": "2024-03-05T23:24:48.517453Z",
     "shell.execute_reply": "2024-03-05T23:24:48.516953Z"
    },
    "papermill": {
     "duration": 0.432695,
     "end_time": "2024-03-05T23:24:48.518654",
     "exception": false,
     "start_time": "2024-03-05T23:24:48.085959",
     "status": "completed"
    },
    "tags": []
   },
   "outputs": [],
   "source": [
    "#Load Metadata\n",
    "metadata_qa = Metadata.load(metadata_file)\n",
    "\n",
    "#Load FeatureTable[Frequency]\n",
    "tabs = Artifact.load(dada2_tabs_path)\n",
    "tabs_df = tabs.view(Metadata).to_dataframe().T\n",
    "\n",
    "# FeatureData[Sequence]\n",
    "reps = Artifact.load(dada2_reps_path)\n",
    "\n",
    "# FeatureData[Taxonomy]\n",
    "tax = Artifact.load(taxonomy_path)"
   ]
  },
  {
   "cell_type": "code",
   "execution_count": 8,
   "id": "c8dfe530",
   "metadata": {
    "ExecuteTime": {
     "end_time": "2022-09-29T20:54:15.564968Z",
     "start_time": "2022-09-29T20:54:15.561875Z"
    },
    "execution": {
     "iopub.execute_input": "2024-03-05T23:24:48.525660Z",
     "iopub.status.busy": "2024-03-05T23:24:48.525480Z",
     "iopub.status.idle": "2024-03-05T23:24:48.806154Z",
     "shell.execute_reply": "2024-03-05T23:24:48.805604Z"
    },
    "papermill": {
     "duration": 0.285153,
     "end_time": "2024-03-05T23:24:48.807065",
     "exception": false,
     "start_time": "2024-03-05T23:24:48.521912",
     "status": "completed"
    },
    "tags": []
   },
   "outputs": [
    {
     "name": "stderr",
     "output_type": "stream",
     "text": [
      "/home/lauro/anaconda3/envs/qiime2-2023.5/lib/python3.8/site-packages/q2_types/feature_data/_transformer.py:258: FutureWarning: iteritems is deprecated and will be removed in a future version. Use .items instead.\n",
      "  for id_, seq in data.iteritems():\n"
     ]
    }
   ],
   "source": [
    "# Filter FeatureTable[Frequency | RelativeFrequency | PresenceAbsence | Composition] based on Metadata sample ID values\n",
    "tabs = filter_samples(\n",
    "    table=tabs,\n",
    "    metadata=metadata_qa,\n",
    ").filtered_table\n",
    "# Filter SampleData[SequencesWithQuality | PairedEndSequencesWithQuality | JoinedSequencesWithQuality] based on Metadata sample ID values; returns FeatureData[Sequence | AlignedSequence]\n",
    "reps = filter_seqs(\n",
    "    data=reps,\n",
    "    table=tabs,\n",
    ").filtered_data"
   ]
  },
  {
   "cell_type": "markdown",
   "id": "9f43843a",
   "metadata": {
    "ExecuteTime": {
     "end_time": "2022-09-22T22:48:07.523952Z",
     "start_time": "2022-09-22T22:48:07.517565Z"
    },
    "papermill": {
     "duration": 0.003038,
     "end_time": "2024-03-05T23:24:48.813444",
     "exception": false,
     "start_time": "2024-03-05T23:24:48.810406",
     "status": "completed"
    },
    "tags": []
   },
   "source": [
    "## Alpha diversity analysis\n",
    "\n",
    "#### Reference\n",
    "- [The Use and Types of Alpha-Diversity Metrics in Microbial NGS](https://www.cd-genomics.com/microbioseq/the-use-and-types-of-alpha-diversity-metrics-in-microbial-ngs.html)\n",
    "- [Alpha diversity metrics](http://scikit-bio.org/docs/0.2.0/generated/skbio.diversity.alpha.html)\n",
    "\n",
    "#### Methods\n",
    "- [diversity alpha](https://docs.qiime2.org/2022.8/plugins/available/diversity/alpha/): Computes a user-specified alpha diversity metric for all samples in a\n",
    "feature table.\n",
    "- [diversity alpha_phylogenetic](https://docs.qiime2.org/2022.8/plugins/available/diversity/alpha-phylogenetic/): Computes a user-specified phylogenetic alpha diversity metric for all\n",
    "samples in a feature table.\n",
    "- [diversity alpha_correlation](https://docs.qiime2.org/2022.8/plugins/available/diversity/alpha-correlation/): Determine whether numeric sample metadata columns are correlated with alpha diversity.\n",
    "- [diversity alpha_group_significance](https://docs.qiime2.org/2022.8/plugins/available/diversity/alpha-group-significance/): Visually and statistically compare groups of alpha diversity values."
   ]
  },
  {
   "cell_type": "markdown",
   "id": "606b9c75",
   "metadata": {
    "papermill": {
     "duration": 0.00298,
     "end_time": "2024-03-05T23:24:48.819528",
     "exception": false,
     "start_time": "2024-03-05T23:24:48.816548",
     "status": "completed"
    },
    "tags": []
   },
   "source": [
    "### Compute Alpha Diversity vectors\n",
    "- [diversity alpha](https://docs.qiime2.org/2022.8/plugins/available/diversity/alpha/): Computes a user-specified alpha diversity metric for all samples in a feature table.\n",
    "- [Alpha diversity metrics](http://scikit-bio.org/docs/0.2.0/generated/skbio.diversity.alpha.html)\n",
    " - Choices: ('ace', 'berger_parker_d', 'brillouin_d', 'chao1', 'chao1_ci', 'dominance', 'doubles', 'enspie', 'esty_ci', 'fisher_alpha', 'gini_index', 'goods_coverage', 'heip_e', 'kempton_taylor_q', 'lladser_pe', 'margalef', 'mcintosh_d', 'mcintosh_e', 'menhinick', 'michaelis_menten_fit', 'observed_features', 'osd', 'pielou_e', 'robbins', 'shannon', 'simpson', 'simpson_e', 'singles', 'strong')"
   ]
  },
  {
   "cell_type": "code",
   "execution_count": 9,
   "id": "556e5264",
   "metadata": {
    "ExecuteTime": {
     "end_time": "2022-09-29T20:54:20.790166Z",
     "start_time": "2022-09-29T20:54:20.451134Z"
    },
    "execution": {
     "iopub.execute_input": "2024-03-05T23:24:48.826594Z",
     "iopub.status.busy": "2024-03-05T23:24:48.826328Z",
     "iopub.status.idle": "2024-03-05T23:24:49.199973Z",
     "shell.execute_reply": "2024-03-05T23:24:49.199444Z"
    },
    "papermill": {
     "duration": 0.378387,
     "end_time": "2024-03-05T23:24:49.200941",
     "exception": false,
     "start_time": "2024-03-05T23:24:48.822554",
     "status": "completed"
    },
    "tags": []
   },
   "outputs": [
    {
     "name": "stdout",
     "output_type": "stream",
     "text": [
      "Calculating alpha diversity: chao1\n",
      "DONE: Calculating alpha diversity: chao1\n",
      "Calculating alpha diversity: chao1_ci\n",
      "DONE: Calculating alpha diversity: chao1_ci\n",
      "Calculating alpha diversity: observed_features\n",
      "DONE: Calculating alpha diversity: observed_features\n",
      "Calculating alpha diversity: shannon\n"
     ]
    },
    {
     "name": "stdout",
     "output_type": "stream",
     "text": [
      "DONE: Calculating alpha diversity: shannon\n",
      "Calculating alpha diversity: simpson\n",
      "DONE: Calculating alpha diversity: simpson\n",
      "Calculating alpha diversity: simpson_e\n",
      "DONE: Calculating alpha diversity: simpson_e\n"
     ]
    }
   ],
   "source": [
    "metrics = ('ace', 'berger_parker_d', 'brillouin_d', 'chao1', 'chao1_ci', 'dominance', 'doubles', 'enspie', 'esty_ci', 'fisher_alpha', 'gini_index', 'goods_coverage', 'heip_e', 'kempton_taylor_q', 'lladser_pe', 'margalef', 'mcintosh_d', 'mcintosh_e', 'menhinick', 'michaelis_menten_fit', 'observed_features', 'osd', 'pielou_e', 'robbins', 'shannon', 'simpson', 'simpson_e', 'singles', 'strong')\n",
    "\n",
    "# Sugestão de valores para Alpha diversity\n",
    "# chao1 e observed_features (riqueza); shannon e simpson (diversidade - que levam em consideração riqueza e equitabilidade).\n",
    "metrics = ('chao1', 'chao1_ci', 'observed_features', 'shannon', 'simpson', 'simpson_e')\n",
    "alpha_diversities = dict()\n",
    "for metric in metrics:\n",
    "    print(f\"Calculating alpha diversity: {metric}\")\n",
    "    try:\n",
    "        alpha_diversity = alpha(table=tabs, metric=metric).alpha_diversity\n",
    "        alpha_diversities[metric] = alpha_diversity\n",
    "        # Save SampleData[AlphaDiversity] Artifact\n",
    "        file_path = os.path.join(alpha_path, f'alpha-values-{metric}.qza')\n",
    "        alpha_diversity.save(file_path)\n",
    "        print(f\"DONE: Calculating alpha diversity: {metric}\")\n",
    "    except Exception as e:\n",
    "        print(f\"ERROR: Calculating alpha diversity: {metric}\")\n",
    "        print(e)"
   ]
  },
  {
   "cell_type": "markdown",
   "id": "184bcb7b",
   "metadata": {
    "papermill": {
     "duration": 0.003147,
     "end_time": "2024-03-05T23:24:49.207500",
     "exception": false,
     "start_time": "2024-03-05T23:24:49.204353",
     "status": "completed"
    },
    "tags": []
   },
   "source": [
    "### Create Phylogenetic inference\n",
    "\n",
    "- [alignment align_to_tree_mafft_fasttree](https://docs.qiime2.org/2022.8/plugins/available/phylogeny/align-to-tree-mafft-fasttree/): Build a phylogenetic tree using fasttree and mafft alignment\n",
    "\n",
    "This pipeline will start by creating a sequence alignment using MAFFT,\n",
    "after which any alignment columns that are phylogenetically uninformative\n",
    "or ambiguously aligned will be removed (masked). The resulting masked\n",
    "alignment will be used to infer a phylogenetic tree and then subsequently\n",
    "rooted at its midpoint. Output files from each step of the pipeline will be\n",
    "saved. This includes both the unmasked and masked MAFFT alignment from\n",
    "q2-alignment methods, and both the rooted and unrooted phylogenies from\n",
    "q2-phylogeny methods.\n",
    "\n",
    "\n",
    "Returns\n",
    "- alignment : FeatureData[AlignedSequence] : The aligned sequences.\n",
    "- masked_alignment : FeatureData[AlignedSequence] : The masked alignment.\n",
    "- tree : Phylogeny[Unrooted] : The unrooted phylogenetic tree.\n",
    "- rooted_tree : Phylogeny[Rooted] : The rooted phylogenetic tree."
   ]
  },
  {
   "cell_type": "code",
   "execution_count": 10,
   "id": "9c8cfe47",
   "metadata": {
    "ExecuteTime": {
     "end_time": "2022-09-29T20:54:35.139531Z",
     "start_time": "2022-09-29T20:54:20.792130Z"
    },
    "execution": {
     "iopub.execute_input": "2024-03-05T23:24:49.214459Z",
     "iopub.status.busy": "2024-03-05T23:24:49.214301Z",
     "iopub.status.idle": "2024-03-05T23:24:55.534824Z",
     "shell.execute_reply": "2024-03-05T23:24:55.534311Z"
    },
    "papermill": {
     "duration": 6.325307,
     "end_time": "2024-03-05T23:24:55.535928",
     "exception": false,
     "start_time": "2024-03-05T23:24:49.210621",
     "status": "completed"
    },
    "tags": []
   },
   "outputs": [
    {
     "name": "stdout",
     "output_type": "stream",
     "text": [
      "Running external command line application. This may print messages to stdout and/or stderr.\n",
      "The command being run is below. This command cannot be manually re-run as it will depend on temporary files that no longer exist.\n",
      "\n",
      "Command: mafft --preservecase --inputorder --thread 6 /tmp/qiime2/lauro/data/ce8a8fd4-ef23-413c-8ac0-49566f98c464/data/dna-sequences.fasta\n",
      "\n"
     ]
    },
    {
     "name": "stderr",
     "output_type": "stream",
     "text": [
      "inputfile = orig\n",
      "831 x 430 - 262 d\n",
      "nthread = 6\n",
      "nthreadpair = 6\n",
      "nthreadtb = 6\n",
      "ppenalty_ex = 0\n",
      "stacksize: 8192 kb\n",
      "generating a scoring matrix for nucleotide (dist=200) ... done\n",
      "Gap Penalty = -1.53, +0.00, +0.00\n",
      "\n",
      "\n",
      "\n",
      "Making a distance matrix ..\n",
      "\r",
      "    1 / 831 (thread    0)\r",
      "  101 / 831 (thread    4)\r",
      "  201 / 831 (thread    2)\r",
      "  301 / 831 (thread    3)\r",
      "  401 / 831 (thread    4)\r",
      "  501 / 831 (thread    0)\r",
      "  601 / 831 (thread    3)\r",
      "  701 / 831 (thread    5)\r",
      "  801 / 831 (thread    4)\n",
      "done.\n",
      "\n",
      "Constructing a UPGMA tree (efffree=0) ... \n",
      "\r",
      "    0 / 831\r",
      "   10 / 831\r",
      "   20 / 831\r",
      "   30 / 831\r",
      "   40 / 831\r",
      "   50 / 831\r",
      "   60 / 831\r",
      "   70 / 831\r",
      "   80 / 831\r",
      "   90 / 831\r",
      "  100 / 831\r",
      "  110 / 831\r",
      "  120 / 831\r",
      "  130 / 831\r",
      "  140 / 831\r",
      "  150 / 831\r",
      "  160 / 831\r",
      "  170 / 831\r",
      "  180 / 831\r",
      "  190 / 831\r",
      "  200 / 831\r",
      "  210 / 831\r",
      "  220 / 831\r",
      "  230 / 831\r",
      "  240 / 831\r",
      "  250 / 831\r",
      "  260 / 831\r",
      "  270 / 831\r",
      "  280 / 831\r",
      "  290 / 831\r",
      "  300 / 831\r",
      "  310 / 831\r",
      "  320 / 831\r",
      "  330 / 831\r",
      "  340 / 831\r",
      "  350 / 831\r",
      "  360 / 831\r",
      "  370 / 831\r",
      "  380 / 831\r",
      "  390 / 831\r",
      "  400 / 831\r",
      "  410 / 831\r",
      "  420 / 831\r",
      "  430 / 831\r",
      "  440 / 831\r",
      "  450 / 831\r",
      "  460 / 831\r",
      "  470 / 831\r",
      "  480 / 831\r",
      "  490 / 831\r",
      "  500 / 831\r",
      "  510 / 831\r",
      "  520 / 831\r",
      "  530 / 831\r",
      "  540 / 831\r",
      "  550 / 831\r",
      "  560 / 831\r",
      "  570 / 831\r",
      "  580 / 831\r",
      "  590 / 831\r",
      "  600 / 831\r",
      "  610 / 831\r",
      "  620 / 831\r",
      "  630 / 831\r",
      "  640 / 831\r",
      "  650 / 831\r",
      "  660 / 831\r",
      "  670 / 831\r",
      "  680 / 831\r",
      "  690 / 831\r",
      "  700 / 831\r",
      "  710 / 831\r",
      "  720 / 831\r",
      "  730 / 831\r",
      "  740 / 831\r",
      "  750 / 831\r",
      "  760 / 831\r",
      "  770 / 831\r",
      "  780 / 831\r",
      "  790 / 831\r",
      "  800 / 831\r",
      "  810 / 831\r",
      "  820 / 831\n",
      "done.\n",
      "\n",
      "Progressive alignment 1/2... \n",
      "\r",
      "STEP     1 / 830 (thread    1)\r",
      "STEP     3 / 830 (thread    3)\r",
      "STEP     2 / 830 (thread    2) f\b\b\r",
      "STEP     4 / 830 (thread    4)\r",
      "STEP     6 / 830 (thread    5) f\b\b f\b\b f\b\b f\b\b\r",
      "STEP     5 / 830 (thread    0) f\b\b\r",
      "STEP     7 / 830 (thread    4) f\b\b\r",
      "STEP     8 / 830 (thread    0) f\b\b\r",
      "STEP     9 / 830 (thread    5)\r",
      "STEP    10 / 830 (thread    1) f\b\b f\b\b\r",
      "STEP    11 / 830 (thread    2) f\b\b\r",
      "STEP    12 / 830 (thread    3) f\b\b\r",
      "STEP    13 / 830 (thread    0) f\b\b\r",
      "STEP    14 / 830 (thread    5)\r",
      "STEP    15 / 830 (thread    2) f\b\b\r",
      "STEP    16 / 830 (thread    1) f\b\b f\b\b\r",
      "STEP    17 / 830 (thread    3) f\b\b\r",
      "STEP    18 / 830 (thread    4) f\b\b\r",
      "STEP    19 / 830 (thread    0) f\b\b\r",
      "STEP    20 / 830 (thread    2) f\b\b\r",
      "STEP    21 / 830 (thread    1) f\b\b\r",
      "STEP    22 / 830 (thread    3) f\b\b\r",
      "STEP    23 / 830 (thread    5) f\b\b\r",
      "STEP    24 / 830 (thread    4) f\b\b\r",
      "STEP    25 / 830 (thread    0) f\b\b\r",
      "STEP    26 / 830 (thread    2) f\b\b\r",
      "STEP    27 / 830 (thread    1) f\b\b\r",
      "STEP    28 / 830 (thread    5) f\b\b\r",
      "STEP    29 / 830 (thread    3) f\b\b\r",
      "STEP    30 / 830 (thread    4) f\b\b\r",
      "STEP    31 / 830 (thread    0) f\b\b\r",
      "STEP    32 / 830 (thread    1) f\b\b\r",
      "STEP    33 / 830 (thread    2) f\b\b\r",
      "STEP    34 / 830 (thread    5) f\b\b\r",
      "STEP    35 / 830 (thread    3) f\b\b\r",
      "STEP    36 / 830 (thread    4) f\b\b\r",
      "STEP    37 / 830 (thread    0) f\b\b\r",
      "STEP    38 / 830 (thread    5) f\b\b\r",
      "STEP    39 / 830 (thread    3) f\b\b\r",
      "STEP    40 / 830 (thread    1) f\b\b\r",
      "STEP    41 / 830 (thread    2) f\b\b\r",
      "STEP    42 / 830 (thread    4) f\b\b\r",
      "STEP    43 / 830 (thread    0) f\b\b\r",
      "STEP    44 / 830 (thread    3) f\b\b\r",
      "STEP    45 / 830 (thread    5) f\b\b\r",
      "STEP    46 / 830 (thread    2) f\b\b\r",
      "STEP    47 / 830 (thread    1) f\b\b\r",
      "STEP    48 / 830 (thread    4) f\b\b\r",
      "STEP    49 / 830 (thread    0) f\b\b\r",
      "STEP    50 / 830 (thread    3) f\b\b\r",
      "STEP    51 / 830 (thread    5) f\b\b\r",
      "STEP    52 / 830 (thread    2) f\b\b\r",
      "STEP    53 / 830 (thread    1) f\b\b\r",
      "STEP    54 / 830 (thread    4) f\b\b\r",
      "STEP    55 / 830 (thread    0) f\b\b\r",
      "STEP    56 / 830 (thread    3) f\b\b\r",
      "STEP    57 / 830 (thread    5) f\b\b\r",
      "STEP    58 / 830 (thread    2)\r",
      "STEP    59 / 830 (thread    1) f\b\b f\b\b\r",
      "STEP    60 / 830 (thread    4) f\b\b\r",
      "STEP    61 / 830 (thread    0) f\b\b\r",
      "STEP    62 / 830 (thread    3) f\b\b\r",
      "STEP    63 / 830 (thread    5) f\b\b\r",
      "STEP    64 / 830 (thread    1) f\b\b\r",
      "STEP    65 / 830 (thread    4) f\b\b\r",
      "STEP    66 / 830 (thread    0) f\b\b\r",
      "STEP    67 / 830 (thread    2) f\b\b\r",
      "STEP    68 / 830 (thread    3) f\b\b\r",
      "STEP    69 / 830 (thread    5) f\b\b\r",
      "STEP    70 / 830 (thread    1) f\b\b\r",
      "STEP    71 / 830 (thread    4) f\b\b\r",
      "STEP    72 / 830 (thread    0) f\b\b\r",
      "STEP    73 / 830 (thread    2) f\b\b\r",
      "STEP    74 / 830 (thread    3) f\b\b\r",
      "STEP    75 / 830 (thread    5) f\b\b\r",
      "STEP    76 / 830 (thread    1) f\b\b\r",
      "STEP    77 / 830 (thread    4) f\b\b\r",
      "STEP    78 / 830 (thread    0) f\b\b\r",
      "STEP    79 / 830 (thread    2) f\b\b\r",
      "STEP    80 / 830 (thread    5) f\b\b\r",
      "STEP    81 / 830 (thread    1) f\b\b\r",
      "STEP    82 / 830 (thread    4) f\b\b\r",
      "STEP    83 / 830 (thread    3) f\b\b\r",
      "STEP    84 / 830 (thread    0) f\b\b\r",
      "STEP    85 / 830 (thread    2) f\b\b\r",
      "STEP    86 / 830 (thread    5) f\b\b\r",
      "STEP    87 / 830 (thread    1) f\b\b\r",
      "STEP    88 / 830 (thread    4) f\b\b\r",
      "STEP    89 / 830 (thread    3) f\b\b\r",
      "STEP    90 / 830 (thread    2) f\b\b\r",
      "STEP    91 / 830 (thread    5) f\b\b\r",
      "STEP    92 / 830 (thread    1) f\b\b\r",
      "STEP    94 / 830 (thread    3) f\b\b\r",
      "STEP    95 / 830 (thread    0) f\b\b\r",
      "STEP    96 / 830 (thread    0) f\b\b\r",
      "STEP    98 / 830 (thread    5) f\b\b\r",
      "STEP    93 / 830 (thread    4) f\b\b\r",
      "STEP    99 / 830 (thread    1) f\b\b\r",
      "STEP   100 / 830 (thread    3) f\b\b\r",
      "STEP   101 / 830 (thread    0) f\b\b\r",
      "STEP   102 / 830 (thread    1) f\b\b\r",
      "STEP   103 / 830 (thread    3) f\b\b\r",
      "STEP   104 / 830 (thread    4) f\b\b\r",
      "STEP    97 / 830 (thread    2) f\b\b\r",
      "STEP   105 / 830 (thread    5) f\b\b\r",
      "STEP   106 / 830 (thread    4) f\b\b\r",
      "STEP   107 / 830 (thread    0) f\b\b\r",
      "STEP   108 / 830 (thread    5) f\b\b\r",
      "STEP   109 / 830 (thread    1) f\b\b\r",
      "STEP   110 / 830 (thread    2) f\b\b\r",
      "STEP   111 / 830 (thread    3) f\b\b\r",
      "STEP   112 / 830 (thread    1) f\b\b\r",
      "STEP   113 / 830 (thread    0) f\b\b\r",
      "STEP   114 / 830 (thread    4) f\b\b\r",
      "STEP   115 / 830 (thread    5) f\b\b\r",
      "STEP   116 / 830 (thread    2) f\b\b\r",
      "STEP   117 / 830 (thread    3) f\b\b\r",
      "STEP   118 / 830 (thread    1) f\b\b\r",
      "STEP   119 / 830 (thread    5) f\b\b\r",
      "STEP   120 / 830 (thread    2) f\b\b\r",
      "STEP   121 / 830 (thread    4) f\b\b\r",
      "STEP   122 / 830 (thread    1) f\b\b\r",
      "STEP   123 / 830 (thread    3) f\b\b\r",
      "STEP   124 / 830 (thread    5) f\b\b\r",
      "STEP   125 / 830 (thread    2) f\b\b\r",
      "STEP   126 / 830 (thread    0) f\b\b\r",
      "STEP   127 / 830 (thread    4) f\b\b\r",
      "STEP   128 / 830 (thread    1) f\b\b\r",
      "STEP   129 / 830 (thread    3) f\b\b\r",
      "STEP   130 / 830 (thread    5) f\b\b\r",
      "STEP   131 / 830 (thread    2) f\b\b\r",
      "STEP   132 / 830 (thread    0) f\b\b\r",
      "STEP   133 / 830 (thread    4) f\b\b\r",
      "STEP   134 / 830 (thread    1) f\b\b\r",
      "STEP   135 / 830 (thread    3) f\b\b\r",
      "STEP   136 / 830 (thread    5) f\b\b\r",
      "STEP   137 / 830 (thread    2) f\b\b\r",
      "STEP   138 / 830 (thread    0) f\b\b\r",
      "STEP   139 / 830 (thread    1) f\b\b\r",
      "STEP   140 / 830 (thread    3) f\b\b\r",
      "STEP   141 / 830 (thread    5) f\b\b\r",
      "STEP   142 / 830 (thread    2) f\b\b\r",
      "STEP   143 / 830 (thread    0) f\b\b\r",
      "STEP   144 / 830 (thread    4) f\b\b\r",
      "STEP   145 / 830 (thread    3) f\b\b\r",
      "STEP   146 / 830 (thread    5) f\b\b\r",
      "STEP   147 / 830 (thread    0) f\b\b\r",
      "STEP   148 / 830 (thread    2) f\b\b\r",
      "STEP   149 / 830 (thread    4) f\b\b\r",
      "STEP   150 / 830 (thread    3) f\b\b\r",
      "STEP   151 / 830 (thread    1) f\b\b\r",
      "STEP   152 / 830 (thread    5) f\b\b\r",
      "STEP   153 / 830 (thread    0) f\b\b\r",
      "STEP   154 / 830 (thread    2) f\b\b\r",
      "STEP   155 / 830 (thread    4) f\b\b\r",
      "STEP   156 / 830 (thread    3) f\b\b\r",
      "STEP   157 / 830 (thread    1) f\b\b\r",
      "STEP   158 / 830 (thread    5) f\b\b\r",
      "STEP   159 / 830 (thread    0) f\b\b\r",
      "STEP   160 / 830 (thread    2) f\b\b\r",
      "STEP   161 / 830 (thread    4) f\b\b\r",
      "STEP   164 / 830 (thread    1) f\b\b\r",
      "STEP   165 / 830 (thread    5) f\b\b\r",
      "STEP   162 / 830 (thread    3) f\b\b\r",
      "STEP   166 / 830 (thread    0) f\b\b\r",
      "STEP   167 / 830 (thread    2) f\b\b\r",
      "STEP   163 / 830 (thread    4) f\b\b\r",
      "STEP   168 / 830 (thread    0) f\b\b\r",
      "STEP   169 / 830 (thread    2) f\b\b\r",
      "STEP   170 / 830 (thread    1) f\b\b\r",
      "STEP   171 / 830 (thread    5) f\b\b\r",
      "STEP   172 / 830 (thread    3) f\b\b\r",
      "STEP   173 / 830 (thread    0) f\b\b\r",
      "STEP   174 / 830 (thread    4) f\b\b\r",
      "STEP   175 / 830 (thread    1) f\b\b\r",
      "STEP   176 / 830 (thread    5) f\b\b\r",
      "STEP   177 / 830 (thread    2) f\b\b\r",
      "STEP   178 / 830 (thread    3) f\b\b\r",
      "STEP   179 / 830 (thread    0) f\b\b\r",
      "STEP   180 / 830 (thread    4) f\b\b\r",
      "STEP   181 / 830 (thread    0) f\b\b\r",
      "STEP   182 / 830 (thread    5) f\b\b\r",
      "STEP   183 / 830 (thread    1) f\b\b\r",
      "STEP   184 / 830 (thread    3) f\b\b\r",
      "STEP   185 / 830 (thread    2) f\b\b\r",
      "STEP   186 / 830 (thread    0) f\b\b\r",
      "STEP   187 / 830 (thread    4) f\b\b\r",
      "STEP   189 / 830 (thread    3) f\b\b\r",
      "STEP   190 / 830 (thread    2) f\b\b\r",
      "STEP   191 / 830 (thread    3) f\b\b\r",
      "STEP   192 / 830 (thread    5) f\b\b\r",
      "STEP   193 / 830 (thread    0) f\b\b\r",
      "STEP   194 / 830 (thread    4) f\b\b\r",
      "STEP   188 / 830 (thread    1) f\b\b\r",
      "STEP   196 / 830 (thread    5) f\b\b\r",
      "STEP   195 / 830 (thread    2) f\b\b\r",
      "STEP   197 / 830 (thread    3) f\b\b\r",
      "STEP   198 / 830 (thread    4) f\b\b\r",
      "STEP   199 / 830 (thread    0) f\b\b\r",
      "STEP   200 / 830 (thread    1) f\b\b\r",
      "STEP   201 / 830 (thread    5) f\b\b\r",
      "STEP   202 / 830 (thread    2) f\b\b\r",
      "STEP   203 / 830 (thread    4) f\b\b\r",
      "STEP   204 / 830 (thread    0) f\b\b\r",
      "STEP   205 / 830 (thread    1) f\b\b\r",
      "STEP   206 / 830 (thread    5) f\b\b\r",
      "STEP   207 / 830 (thread    3) f\b\b\r",
      "STEP   208 / 830 (thread    2) f\b\b\r",
      "STEP   209 / 830 (thread    4) f\b\b\r",
      "STEP   210 / 830 (thread    0) f\b\b\r",
      "STEP   212 / 830 (thread    5) f\b\b\r",
      "STEP   213 / 830 (thread    3) f\b\b\r",
      "STEP   211 / 830 (thread    1) f\b\b\r",
      "STEP   214 / 830 (thread    2) f\b\b\r",
      "STEP   215 / 830 (thread    4) f\b\b\r",
      "STEP   216 / 830 (thread    0) f\b\b\r",
      "STEP   217 / 830 (thread    4) f\b\b\r",
      "STEP   218 / 830 (thread    5) f\b\b\r",
      "STEP   219 / 830 (thread    1) f\b\b\r",
      "STEP   220 / 830 (thread    2) f\b\b\r",
      "STEP   221 / 830 (thread    4) f\b\b\r",
      "STEP   222 / 830 (thread    0) f\b\b\r",
      "STEP   223 / 830 (thread    3) f\b\b\r",
      "STEP   224 / 830 (thread    3) f\b\b\r",
      "STEP   225 / 830 (thread    5) f\b\b\r",
      "STEP   227 / 830 (thread    0) f\b\b\r",
      "STEP   228 / 830 (thread    4) f\b\b\r",
      "STEP   229 / 830 (thread    2) f\b\b\r",
      "STEP   226 / 830 (thread    1) f\b\b\r",
      "STEP   230 / 830 (thread    3) f\b\b\r",
      "STEP   231 / 830 (thread    5) f\b\b\r",
      "STEP   232 / 830 (thread    0) f\b\b\r",
      "STEP   233 / 830 (thread    4) f\b\b\r",
      "STEP   234 / 830 (thread    5) f\b\b\r",
      "STEP   235 / 830 (thread    2) f\b\b\r",
      "STEP   236 / 830 (thread    1) f\b\b\r",
      "STEP   237 / 830 (thread    0) f\b\b\r",
      "STEP   238 / 830 (thread    3) f\b\b\r",
      "STEP   239 / 830 (thread    1) f\b\b\r",
      "STEP   240 / 830 (thread    2) f\b\b\r",
      "STEP   241 / 830 (thread    0) f\b\b\r",
      "STEP   242 / 830 (thread    4) f\b\b\r",
      "STEP   243 / 830 (thread    3) f\b\b\r",
      "STEP   244 / 830 (thread    1) f\b\b\r",
      "STEP   246 / 830 (thread    0) f\b\b\r",
      "STEP   245 / 830 (thread    5) f\b\b\r",
      "STEP   247 / 830 (thread    3) f\b\b\r",
      "STEP   248 / 830 (thread    2) f\b\b\r",
      "STEP   249 / 830 (thread    4) f\b\b\r",
      "STEP   250 / 830 (thread    1) f\b\b\r",
      "STEP   251 / 830 (thread    5) f\b\b\r",
      "STEP   252 / 830 (thread    0) f\b\b\r",
      "STEP   253 / 830 (thread    3) f\b\b\r",
      "STEP   254 / 830 (thread    1) f\b\b\r",
      "STEP   255 / 830 (thread    2) f\b\b\r",
      "STEP   256 / 830 (thread    3) f\b\b\r",
      "STEP   257 / 830 (thread    0) f\b\b\r",
      "STEP   258 / 830 (thread    4) f\b\b\r",
      "STEP   259 / 830 (thread    5) f\b\b\r",
      "STEP   260 / 830 (thread    1) f\b\b\r",
      "STEP   261 / 830 (thread    2) f\b\b\r",
      "STEP   262 / 830 (thread    3) f\b\b\r",
      "STEP   263 / 830 (thread    0) f\b\b\r",
      "STEP   264 / 830 (thread    1) f\b\b\r",
      "STEP   265 / 830 (thread    4) f\b\b\r",
      "STEP   266 / 830 (thread    5) f\b\b\r",
      "STEP   267 / 830 (thread    2) f\b\b\r",
      "STEP   268 / 830 (thread    5) f\b\b\r",
      "STEP   269 / 830 (thread    3) f\b\b\r",
      "STEP   270 / 830 (thread    0) f\b\b\r",
      "STEP   271 / 830 (thread    1) f\b\b\r",
      "STEP   273 / 830 (thread    2) f\b\b\r",
      "STEP   274 / 830 (thread    1) f\b\b\r",
      "STEP   275 / 830 (thread    2) f\b\b\r",
      "STEP   276 / 830 (thread    3) f\b\b\r",
      "STEP   277 / 830 (thread    0) f\b\b\r",
      "STEP   272 / 830 (thread    4) f\b\b\r",
      "STEP   278 / 830 (thread    5) f\b\b\r",
      "STEP   279 / 830 (thread    3) f\b\b\r",
      "STEP   280 / 830 (thread    2) f\b\b\r",
      "STEP   281 / 830 (thread    1) f\b\b\r",
      "STEP   282 / 830 (thread    4) f\b\b\r",
      "STEP   283 / 830 (thread    5) f\b\b\r",
      "STEP   284 / 830 (thread    0) f\b\b\r",
      "STEP   285 / 830 (thread    1) f\b\b\r",
      "STEP   286 / 830 (thread    2) f\b\b\r",
      "STEP   287 / 830 (thread    3) f\b\b\r",
      "STEP   288 / 830 (thread    5) f\b\b\r",
      "STEP   289 / 830 (thread    1) f\b\b\r",
      "STEP   290 / 830 (thread    0) f\b\b\r",
      "STEP   291 / 830 (thread    4) f\b\b\r",
      "STEP   292 / 830 (thread    2) f\b\b\r",
      "STEP   293 / 830 (thread    3) f\b\b\r",
      "STEP   294 / 830 (thread    5) f\b\b\r",
      "STEP   295 / 830 (thread    1) f\b\b\r",
      "STEP   296 / 830 (thread    0) f\b\b\r",
      "STEP   297 / 830 (thread    2) f\b\b\r",
      "STEP   298 / 830 (thread    1) f\b\b\r",
      "STEP   299 / 830 (thread    4) f\b\b\r",
      "STEP   300 / 830 (thread    3) f\b\b\r",
      "STEP   301 / 830 (thread    0) f\b\b\r",
      "STEP   302 / 830 (thread    5) f\b\b\r",
      "STEP   303 / 830 (thread    2) f\b\b\r",
      "STEP   304 / 830 (thread    1) f\b\b\r",
      "STEP   305 / 830 (thread    3) f\b\b\r",
      "STEP   306 / 830 (thread    0) f\b\b\r",
      "STEP   307 / 830 (thread    4) f\b\b\r",
      "STEP   308 / 830 (thread    2) f\b\b\r",
      "STEP   309 / 830 (thread    1) f\b\b\r",
      "STEP   310 / 830 (thread    5) f\b\b\r",
      "STEP   311 / 830 (thread    2) f\b\b\r",
      "STEP   312 / 830 (thread    1) f\b\b\r",
      "STEP   313 / 830 (thread    3) f\b\b\r",
      "STEP   314 / 830 (thread    0) f\b\b\r",
      "STEP   315 / 830 (thread    4) f\b\b\r",
      "STEP   316 / 830 (thread    5) f\b\b\r",
      "STEP   317 / 830 (thread    3) f\b\b\r",
      "STEP   318 / 830 (thread    1) f\b\b\r",
      "STEP   319 / 830 (thread    0) f\b\b\r",
      "STEP   320 / 830 (thread    2) f\b\b\r",
      "STEP   321 / 830 (thread    4) f\b\b\r",
      "STEP   322 / 830 (thread    5) f\b\b\r",
      "STEP   323 / 830 (thread    3) f\b\b\r",
      "STEP   324 / 830 (thread    1) f\b\b\n",
      "Reallocating..done. *alloclen = 1868\n",
      "\r",
      "STEP   325 / 830 (thread    3) f\b\b\r",
      "STEP   326 / 830 (thread    0) f\b\b\r",
      "STEP   327 / 830 (thread    4) f\b\b\r",
      "STEP   328 / 830 (thread    2) f\b\b\r",
      "STEP   329 / 830 (thread    1) f\b\b\r",
      "STEP   330 / 830 (thread    5) f\b\b\r",
      "STEP   331 / 830 (thread    4) f\b\b\r",
      "STEP   332 / 830 (thread    0) f\b\b\r",
      "STEP   333 / 830 (thread    2) f\b\b\r",
      "STEP   334 / 830 (thread    4) f\b\b\r",
      "STEP   335 / 830 (thread    1) f\b\b\r",
      "STEP   336 / 830 (thread    3) f\b\b\r",
      "STEP   337 / 830 (thread    5) f\b\b\r",
      "STEP   338 / 830 (thread    0) f\b\b\r",
      "STEP   339 / 830 (thread    5) f\b\b\r",
      "STEP   340 / 830 (thread    4) f\b\b\r",
      "STEP   341 / 830 (thread    1) f\b\b\r",
      "STEP   342 / 830 (thread    2) f\b\b\r",
      "STEP   343 / 830 (thread    3) f\b\b\r",
      "STEP   344 / 830 (thread    0) f\b\b\r",
      "STEP   345 / 830 (thread    5) f\b\b\r",
      "STEP   346 / 830 (thread    4) f\b\b\r",
      "STEP   347 / 830 (thread    1) f\b\b\r",
      "STEP   348 / 830 (thread    0) f\b\b\r",
      "STEP   349 / 830 (thread    2) f\b\b\r",
      "STEP   350 / 830 (thread    3) f\b\b\r",
      "STEP   351 / 830 (thread    2) f\b\b\r",
      "STEP   352 / 830 (thread    4) f\b\b\r",
      "STEP   353 / 830 (thread    1) f\b\b\r",
      "STEP   354 / 830 (thread    0) f\b\b\r",
      "STEP   355 / 830 (thread    2) f\b\b\r",
      "STEP   356 / 830 (thread    5) f\b\b\r",
      "STEP   357 / 830 (thread    4) f\b\b\r",
      "STEP   358 / 830 (thread    3) f\b\b\r",
      "STEP   359 / 830 (thread    1) f\b\b\r",
      "STEP   360 / 830 (thread    2) f\b\b\r",
      "STEP   361 / 830 (thread    5) f\b\b\r",
      "STEP   362 / 830 (thread    4) f\b\b\r",
      "STEP   363 / 830 (thread    0) f\b\b\r",
      "STEP   364 / 830 (thread    3) f\b\b\r",
      "STEP   365 / 830 (thread    4) f\b\b\r",
      "STEP   367 / 830 (thread    5) f\b\b\r",
      "STEP   366 / 830 (thread    1) f\b\b\r",
      "STEP   368 / 830 (thread    3) f\b\b\r",
      "STEP   369 / 830 (thread    2) f\b\b\r",
      "STEP   370 / 830 (thread    0) f\b\b\r",
      "STEP   371 / 830 (thread    4) f\b\b\r",
      "STEP   372 / 830 (thread    5) f\b\b\r",
      "STEP   373 / 830 (thread    3) f\b\b\r",
      "STEP   374 / 830 (thread    2) f\b\b\r",
      "STEP   375 / 830 (thread    0) f\b\b\r",
      "STEP   376 / 830 (thread    1) f\b\b\r",
      "STEP   377 / 830 (thread    4) f\b\b\r",
      "STEP   378 / 830 (thread    5) f\b\b\r",
      "STEP   379 / 830 (thread    0) f\b\b\r",
      "STEP   380 / 830 (thread    4) f\b\b\r",
      "STEP   381 / 830 (thread    3) f\b\b\r",
      "STEP   382 / 830 (thread    2) f\b\b\r",
      "STEP   383 / 830 (thread    1) f\b\b\r",
      "STEP   385 / 830 (thread    4) f\b\b\r",
      "STEP   386 / 830 (thread    4) f\b\b\r",
      "STEP   387 / 830 (thread    0) f\b\b\r",
      "STEP   384 / 830 (thread    5) f\b\b\r",
      "STEP   388 / 830 (thread    3) f\b\b\r",
      "STEP   389 / 830 (thread    2) f\b\b\r",
      "STEP   390 / 830 (thread    1) f\b\b\r",
      "STEP   391 / 830 (thread    2) f\b\b\r",
      "STEP   392 / 830 (thread    3) f\b\b\r",
      "STEP   393 / 830 (thread    5) f\b\b\r",
      "STEP   394 / 830 (thread    4) f\b\b\r",
      "STEP   395 / 830 (thread    1) f\b\b\r",
      "STEP   396 / 830 (thread    0) f\b\b\r",
      "STEP   397 / 830 (thread    4) f\b\b\r",
      "STEP   398 / 830 (thread    2) f\b\b\r",
      "STEP   399 / 830 (thread    4) f\b\b\r",
      "STEP   400 / 830 (thread    5) f\b\b\r",
      "STEP   401 / 830 (thread    2) f\b\b\r",
      "STEP   402 / 830 (thread    0) f\b\b\r",
      "STEP   403 / 830 (thread    1) f\b\b\r",
      "STEP   404 / 830 (thread    3) f\b\b\r",
      "STEP   405 / 830 (thread    5) f\b\b\r",
      "STEP   406 / 830 (thread    4) f\b\b\r",
      "STEP   407 / 830 (thread    2) f\b\b\r",
      "STEP   408 / 830 (thread    1) f\b\b\r",
      "STEP   409 / 830 (thread    2) f\b\b\r",
      "STEP   410 / 830 (thread    0) f\b\b\r",
      "STEP   412 / 830 (thread    1) f\b\b\r",
      "STEP   411 / 830 (thread    3) f\b\b\r",
      "STEP   413 / 830 (thread    5) f\b\b\r",
      "STEP   414 / 830 (thread    1) f\b\b\r",
      "STEP   415 / 830 (thread    4) f\b\b\r",
      "STEP   416 / 830 (thread    0) f\b\b\r",
      "STEP   417 / 830 (thread    2) f\b\b\r",
      "STEP   418 / 830 (thread    5) f\b\b\r",
      "STEP   419 / 830 (thread    1) f\b\b\r",
      "STEP   420 / 830 (thread    4) f\b\b\r",
      "STEP   422 / 830 (thread    4) f\b\b\r",
      "STEP   423 / 830 (thread    3) f\b\b\r",
      "STEP   424 / 830 (thread    2) f\b\b\r",
      "STEP   425 / 830 (thread    5) f\b\b\r",
      "STEP   426 / 830 (thread    3) f\b\b\r",
      "STEP   427 / 830 (thread    0) f\b\b\r",
      "STEP   421 / 830 (thread    1) f\b\b\r",
      "STEP   428 / 830 (thread    0) f\b\b\r",
      "STEP   430 / 830 (thread    2) f\b\b\r",
      "STEP   431 / 830 (thread    5) f\b\b\r",
      "STEP   432 / 830 (thread    3) f\b\b\r",
      "STEP   433 / 830 (thread    1) f\b\b\r",
      "STEP   429 / 830 (thread    4) f\b\b\r",
      "STEP   434 / 830 (thread    3) f\b\b\r",
      "STEP   435 / 830 (thread    0) f\b\b\r",
      "STEP   436 / 830 (thread    2) f\b\b\r",
      "STEP   437 / 830 (thread    1) f\b\b\r",
      "STEP   438 / 830 (thread    5) f\b\b\r",
      "STEP   439 / 830 (thread    3) f\b\b\r",
      "STEP   441 / 830 (thread    5) f\b\b\r",
      "STEP   442 / 830 (thread    2) f\b\b\r",
      "STEP   440 / 830 (thread    0) f\b\b\r",
      "STEP   443 / 830 (thread    4) f\b\b\r",
      "STEP   444 / 830 (thread    3) f\b\b\r",
      "STEP   445 / 830 (thread    5) f\b\b\r",
      "STEP   446 / 830 (thread    1) f\b\b\r",
      "STEP   447 / 830 (thread    4) f\b\b\r",
      "STEP   448 / 830 (thread    0) f\b\b\r",
      "STEP   449 / 830 (thread    2) f\b\b\r",
      "STEP   450 / 830 (thread    4) f\b\b\r",
      "STEP   451 / 830 (thread    5) f\b\b\r",
      "STEP   452 / 830 (thread    3) f\b\b\r",
      "STEP   453 / 830 (thread    1) f\b\b\r",
      "STEP   454 / 830 (thread    0) f\b\b\r",
      "STEP   456 / 830 (thread    5) f\b\b\r",
      "STEP   457 / 830 (thread    4) f\b\b\r",
      "STEP   455 / 830 (thread    1) f\b\b\r",
      "STEP   458 / 830 (thread    2) f\b\b\r",
      "STEP   459 / 830 (thread    3) f\b\b\r",
      "STEP   461 / 830 (thread    5) f\b\b\r",
      "STEP   460 / 830 (thread    0) f\b\b\r",
      "STEP   462 / 830 (thread    4) f\b\b\r",
      "STEP   463 / 830 (thread    2) f\b\b\r",
      "STEP   464 / 830 (thread    1) f\b\b\r",
      "STEP   465 / 830 (thread    3) f\b\b\r",
      "STEP   466 / 830 (thread    5) f\b\b\r",
      "STEP   467 / 830 (thread    0) f\b\b\r",
      "STEP   468 / 830 (thread    2) f\b\b\r",
      "STEP   469 / 830 (thread    4) f\b\b\r",
      "STEP   470 / 830 (thread    3) f\b\b\r",
      "STEP   471 / 830 (thread    1) f\b\b\r",
      "STEP   472 / 830 (thread    4) f\b\b\r",
      "STEP   473 / 830 (thread    0) f\b\b\r",
      "STEP   474 / 830 (thread    1) f\b\b\r",
      "STEP   475 / 830 (thread    5) f\b\b\r",
      "STEP   476 / 830 (thread    2) f\b\b\r",
      "STEP   479 / 830 (thread    2) f\b\b\r",
      "STEP   481 / 830 (thread    5) f\b\b\r",
      "STEP   482 / 830 (thread    4) f\b\b\r",
      "STEP   478 / 830 (thread    3) f\b\b\r",
      "STEP   477 / 830 (thread    1) f\b\b\r",
      "STEP   483 / 830 (thread    2) f\b\b\r",
      "STEP   484 / 830 (thread    4) f\b\b\r",
      "STEP   485 / 830 (thread    1) f\b\b\r",
      "STEP   480 / 830 (thread    0) f\b\b\r",
      "STEP   486 / 830 (thread    5) f\b\b\r",
      "STEP   487 / 830 (thread    2) f\b\b\r",
      "STEP   488 / 830 (thread    3) f\b\b\r",
      "STEP   489 / 830 (thread    1) f\b\b\r",
      "STEP   490 / 830 (thread    4) f\b\b\r",
      "STEP   491 / 830 (thread    5) f\b\b\r",
      "STEP   492 / 830 (thread    2) f\b\b\r",
      "STEP   494 / 830 (thread    3) f\b\b\r",
      "STEP   495 / 830 (thread    1) f\b\b\r",
      "STEP   496 / 830 (thread    2) f\b\b\r",
      "STEP   498 / 830 (thread    5) f\b\b\r",
      "STEP   493 / 830 (thread    0) f\b\b\r",
      "STEP   499 / 830 (thread    3) f\b\b\r",
      "STEP   500 / 830 (thread    1) f\b\b\r",
      "STEP   501 / 830 (thread    2) f\b\b\r",
      "STEP   497 / 830 (thread    4) f\b\b\r",
      "STEP   601 / 830 (thread    4) f\b\b\r",
      "STEP   701 / 830 (thread    5) f\b\b"
     ]
    },
    {
     "name": "stderr",
     "output_type": "stream",
     "text": [
      "\r",
      "STEP   801 / 830 (thread    5) f\b\b\n",
      "done.\n",
      "\n",
      "Making a distance matrix from msa.. \n",
      "\r",
      "    0 / 831 (thread    3)\r",
      "  100 / 831 (thread    3)\r",
      "  200 / 831 (thread    3)\r",
      "  300 / 831 (thread    5)\r",
      "  400 / 831 (thread    0)\r",
      "  500 / 831 (thread    1)\r",
      "  600 / 831 (thread    3)\r",
      "  700 / 831 (thread    1)\r",
      "  800 / 831 (thread    4)\n",
      "done.\n",
      "\n",
      "Constructing a UPGMA tree (efffree=1) ... \n",
      "\r",
      "    0 / 831\r",
      "   10 / 831\r",
      "   20 / 831\r",
      "   30 / 831\r",
      "   40 / 831\r",
      "   50 / 831\r",
      "   60 / 831\r",
      "   70 / 831\r",
      "   80 / 831\r",
      "   90 / 831\r",
      "  100 / 831\r",
      "  110 / 831\r",
      "  120 / 831\r",
      "  130 / 831\r",
      "  140 / 831\r",
      "  150 / 831\r",
      "  160 / 831\r",
      "  170 / 831\r",
      "  180 / 831\r",
      "  190 / 831\r",
      "  200 / 831\r",
      "  210 / 831\r",
      "  220 / 831\r",
      "  230 / 831\r",
      "  240 / 831\r",
      "  250 / 831\r",
      "  260 / 831\r",
      "  270 / 831\r",
      "  280 / 831\r",
      "  290 / 831\r",
      "  300 / 831\r",
      "  310 / 831\r",
      "  320 / 831\r",
      "  330 / 831\r",
      "  340 / 831\r",
      "  350 / 831\r",
      "  360 / 831\r",
      "  370 / 831\r",
      "  380 / 831\r",
      "  390 / 831\r",
      "  400 / 831\r",
      "  410 / 831\r",
      "  420 / 831\r",
      "  430 / 831\r",
      "  440 / 831\r",
      "  450 / 831\r",
      "  460 / 831\r",
      "  470 / 831\r",
      "  480 / 831\r",
      "  490 / 831\r",
      "  500 / 831\r",
      "  510 / 831\r",
      "  520 / 831\r",
      "  530 / 831\r",
      "  540 / 831\r",
      "  550 / 831\r",
      "  560 / 831\r",
      "  570 / 831\r",
      "  580 / 831\r",
      "  590 / 831\r",
      "  600 / 831\r",
      "  610 / 831\r",
      "  620 / 831\r",
      "  630 / 831\r",
      "  640 / 831\r",
      "  650 / 831\r",
      "  660 / 831\r",
      "  670 / 831\r",
      "  680 / 831\r",
      "  690 / 831\r",
      "  700 / 831\r",
      "  710 / 831\r",
      "  720 / 831\r",
      "  730 / 831\r",
      "  740 / 831\r",
      "  750 / 831\r",
      "  760 / 831\r",
      "  770 / 831\r",
      "  780 / 831\r",
      "  790 / 831\r",
      "  800 / 831\r",
      "  810 / 831\r",
      "  820 / 831\n",
      "done.\n",
      "\n",
      "Progressive alignment 2/2... \n",
      "\r",
      "STEP     1 / 830 (thread    0) f\b\b\r",
      "STEP     3 / 830 (thread    2) f\b\b\r",
      "STEP     2 / 830 (thread    1) f\b\b\r",
      "STEP     4 / 830 (thread    3) f\b\b\r",
      "STEP     5 / 830 (thread    4) f\b\b\r",
      "STEP     6 / 830 (thread    5) f\b\b\r",
      "STEP     7 / 830 (thread    1) f\b\b\r",
      "STEP    10 / 830 (thread    0) f\b\b\r",
      "STEP     8 / 830 (thread    4) f\b\b\r",
      "STEP     9 / 830 (thread    2) f\b\b\r",
      "STEP    11 / 830 (thread    5) f\b\b\r",
      "STEP    12 / 830 (thread    3) f\b\b\r",
      "STEP    13 / 830 (thread    1) f\b\b\r",
      "STEP    14 / 830 (thread    0) f\b\b\r",
      "STEP    15 / 830 (thread    4) f\b\b\r",
      "STEP    16 / 830 (thread    2) f\b\b\r",
      "STEP    17 / 830 (thread    5) f\b\b\r",
      "STEP    18 / 830 (thread    3) f\b\b\r",
      "STEP    19 / 830 (thread    1) f\b\b\r",
      "STEP    20 / 830 (thread    0) f\b\b\r",
      "STEP    21 / 830 (thread    4) f\b\b\r",
      "STEP    22 / 830 (thread    2) f\b\b\r",
      "STEP    23 / 830 (thread    5) f\b\b\r",
      "STEP    24 / 830 (thread    3) f\b\b\r",
      "STEP    25 / 830 (thread    1) f\b\b\r",
      "STEP    26 / 830 (thread    0) f\b\b\r",
      "STEP    27 / 830 (thread    4) f\b\b\r",
      "STEP    28 / 830 (thread    2) f\b\b\r",
      "STEP    29 / 830 (thread    3) f\b\b\r",
      "STEP    30 / 830 (thread    5) f\b\b\r",
      "STEP    31 / 830 (thread    1) f\b\b\r",
      "STEP    32 / 830 (thread    0) f\b\b\r",
      "STEP    33 / 830 (thread    4) f\b\b\r",
      "STEP    34 / 830 (thread    2) f\b\b\r",
      "STEP    35 / 830 (thread    3) f\b\b\r",
      "STEP    36 / 830 (thread    5) f\b\b\r",
      "STEP    37 / 830 (thread    1) f\b\b\r",
      "STEP    38 / 830 (thread    0) f\b\b\r",
      "STEP    39 / 830 (thread    4) f\b\b\r",
      "STEP    40 / 830 (thread    3) f\b\b\r",
      "STEP    41 / 830 (thread    2) f\b\b\r",
      "STEP    42 / 830 (thread    5) f\b\b\r",
      "STEP    43 / 830 (thread    1) f\b\b\r",
      "STEP    44 / 830 (thread    4) f\b\b\r",
      "STEP    45 / 830 (thread    0) f\b\b\r",
      "STEP    46 / 830 (thread    3) f\b\b\r",
      "STEP    47 / 830 (thread    2) f\b\b\r",
      "STEP    48 / 830 (thread    5) f\b\b\r",
      "STEP    49 / 830 (thread    4) f\b\b\r",
      "STEP    50 / 830 (thread    1) f\b\b\r",
      "STEP    51 / 830 (thread    0) f\b\b\r",
      "STEP    52 / 830 (thread    2) f\b\b\r",
      "STEP    53 / 830 (thread    3) f\b\b\r",
      "STEP    54 / 830 (thread    5) f\b\b\r",
      "STEP    55 / 830 (thread    1) f\b\b\r",
      "STEP    56 / 830 (thread    4) f\b\b\r",
      "STEP    57 / 830 (thread    0) f\b\b\r",
      "STEP    58 / 830 (thread    2) f\b\b\r",
      "STEP    59 / 830 (thread    3) f\b\b\r",
      "STEP    60 / 830 (thread    5) f\b\b\r",
      "STEP    61 / 830 (thread    1) f\b\b\r",
      "STEP    62 / 830 (thread    0) f\b\b\r",
      "STEP    63 / 830 (thread    4) f\b\b\r",
      "STEP    64 / 830 (thread    2) f\b\b\r",
      "STEP    65 / 830 (thread    3) f\b\b\r",
      "STEP    66 / 830 (thread    5) f\b\b\r",
      "STEP    67 / 830 (thread    1) f\b\b\r",
      "STEP    68 / 830 (thread    4) f\b\b\r",
      "STEP    71 / 830 (thread    3) f\b\b\r",
      "STEP    72 / 830 (thread    5) f\b\b\r",
      "STEP    73 / 830 (thread    1) f\b\b\r",
      "STEP    74 / 830 (thread    4) f\b\b\r",
      "STEP    69 / 830 (thread    0) f\b\b\r",
      "STEP    75 / 830 (thread    3) f\b\b\r",
      "STEP    76 / 830 (thread    5) f\b\b\r",
      "STEP    77 / 830 (thread    1) f\b\b\r",
      "STEP    78 / 830 (thread    4) f\b\b\r",
      "STEP    79 / 830 (thread    3) f\b\b\r",
      "STEP    80 / 830 (thread    5) f\b\b\r",
      "STEP    81 / 830 (thread    4) f\b\b\r",
      "STEP    82 / 830 (thread    1) f\b\b\r",
      "STEP    83 / 830 (thread    0) f\b\b\r",
      "STEP    70 / 830 (thread    2) f\b\b\r",
      "STEP    84 / 830 (thread    3) f\b\b\r",
      "STEP    86 / 830 (thread    4) f\b\b\r",
      "STEP    87 / 830 (thread    1) f\b\b\r",
      "STEP    88 / 830 (thread    3) f\b\b\r",
      "STEP    85 / 830 (thread    5) f\b\b\r",
      "STEP    89 / 830 (thread    4) f\b\b\r",
      "STEP    90 / 830 (thread    1) f\b\b\r",
      "STEP    91 / 830 (thread    2) f\b\b\r",
      "STEP    92 / 830 (thread    0) f\b\b\r",
      "STEP    93 / 830 (thread    1) f\b\b\r",
      "STEP    94 / 830 (thread    2) f\b\b\r",
      "STEP    95 / 830 (thread    0) f\b\b\r",
      "STEP    96 / 830 (thread    5) f\b\b\r",
      "STEP    97 / 830 (thread    3) f\b\b\r",
      "STEP    98 / 830 (thread    1) f\b\b\r",
      "STEP    99 / 830 (thread    4) f\b\b\r",
      "STEP   100 / 830 (thread    2) f\b\b\r",
      "STEP   101 / 830 (thread    0) f\b\b\r",
      "STEP   102 / 830 (thread    5) f\b\b\r",
      "STEP   103 / 830 (thread    3) f\b\b\r",
      "STEP   104 / 830 (thread    1) f\b\b\r",
      "STEP   105 / 830 (thread    4) f\b\b\r",
      "STEP   106 / 830 (thread    0) f\b\b\r",
      "STEP   107 / 830 (thread    2) f\b\b\r",
      "STEP   108 / 830 (thread    5) f\b\b\r",
      "STEP   109 / 830 (thread    3) f\b\b\r",
      "STEP   110 / 830 (thread    1) f\b\b\r",
      "STEP   111 / 830 (thread    4) f\b\b\r",
      "STEP   112 / 830 (thread    0) f\b\b\r",
      "STEP   113 / 830 (thread    2) f\b\b\r",
      "STEP   114 / 830 (thread    3) f\b\b\r",
      "STEP   115 / 830 (thread    5) f\b\b\r",
      "STEP   116 / 830 (thread    1) f\b\b\r",
      "STEP   119 / 830 (thread    2) f\b\b\r",
      "STEP   120 / 830 (thread    3) f\b\b\r",
      "STEP   117 / 830 (thread    4) f\b\b\r",
      "STEP   121 / 830 (thread    1) f\b\b\r",
      "STEP   122 / 830 (thread    5) f\b\b\r",
      "STEP   118 / 830 (thread    0) f\b\b\r",
      "STEP   123 / 830 (thread    1) f\b\b\r",
      "STEP   124 / 830 (thread    5) f\b\b\r",
      "STEP   125 / 830 (thread    2) f\b\b\r",
      "STEP   126 / 830 (thread    3) f\b\b\r",
      "STEP   127 / 830 (thread    4) f\b\b\r",
      "STEP   128 / 830 (thread    1) f\b\b\r",
      "STEP   129 / 830 (thread    0) f\b\b\r",
      "STEP   130 / 830 (thread    2) f\b\b\r",
      "STEP   131 / 830 (thread    3) f\b\b\r",
      "STEP   132 / 830 (thread    1) f\b\b\r",
      "STEP   133 / 830 (thread    0) f\b\b\r",
      "STEP   134 / 830 (thread    5) f\b\b\r",
      "STEP   135 / 830 (thread    2) f\b\b\r",
      "STEP   136 / 830 (thread    3) f\b\b\r",
      "STEP   137 / 830 (thread    1) f\b\b\r",
      "STEP   138 / 830 (thread    0) f\b\b\r",
      "STEP   139 / 830 (thread    4) f\b\b\r",
      "STEP   140 / 830 (thread    5) f\b\b\r",
      "STEP   141 / 830 (thread    2) f\b\b\r",
      "STEP   142 / 830 (thread    3) f\b\b\r",
      "STEP   143 / 830 (thread    1) f\b\b\r",
      "STEP   144 / 830 (thread    0) f\b\b\r",
      "STEP   145 / 830 (thread    4) f\b\b\r",
      "STEP   146 / 830 (thread    5) f\b\b\r",
      "STEP   147 / 830 (thread    2) f\b\b\r",
      "STEP   148 / 830 (thread    3) f\b\b\r",
      "STEP   149 / 830 (thread    0) f\b\b\r",
      "STEP   150 / 830 (thread    2) f\b\b\r",
      "STEP   151 / 830 (thread    3) f\b\b\r",
      "STEP   152 / 830 (thread    1) f\b\b\r",
      "STEP   153 / 830 (thread    0) f\b\b\r",
      "STEP   154 / 830 (thread    4) f\b\b\r",
      "STEP   155 / 830 (thread    5) f\b\b\r",
      "STEP   156 / 830 (thread    3) f\b\b\r",
      "STEP   157 / 830 (thread    1) f\b\b\r",
      "STEP   158 / 830 (thread    0) f\b\b\r",
      "STEP   159 / 830 (thread    5) f\b\b\r",
      "STEP   160 / 830 (thread    2) f\b\b\r",
      "STEP   161 / 830 (thread    3) f\b\b\r",
      "STEP   162 / 830 (thread    1) f\b\b\r",
      "STEP   163 / 830 (thread    0) f\b\b\r",
      "STEP   164 / 830 (thread    4) f\b\b\r",
      "STEP   165 / 830 (thread    5) f\b\b\r",
      "STEP   166 / 830 (thread    3) f\b\b\r",
      "STEP   167 / 830 (thread    1) f\b\b\r",
      "STEP   168 / 830 (thread    4) f\b\b\r",
      "STEP   169 / 830 (thread    5) f\b\b\r",
      "STEP   170 / 830 (thread    3) f\b\b\r",
      "STEP   171 / 830 (thread    2) f\b\b\r",
      "STEP   172 / 830 (thread    1) f\b\b\r",
      "STEP   173 / 830 (thread    0) f\b\b\r",
      "STEP   175 / 830 (thread    5) f\b\b\r",
      "STEP   174 / 830 (thread    4) f\b\b\r",
      "STEP   176 / 830 (thread    3) f\b\b\r",
      "STEP   177 / 830 (thread    2) f\b\b\r",
      "STEP   178 / 830 (thread    1) f\b\b\r",
      "STEP   179 / 830 (thread    0) f\b\b\r",
      "STEP   180 / 830 (thread    5) f\b\b\r",
      "STEP   181 / 830 (thread    3) f\b\b\r",
      "STEP   182 / 830 (thread    0) f\b\b\r",
      "STEP   183 / 830 (thread    4) f\b\b\r",
      "STEP   184 / 830 (thread    2) f\b\b\r",
      "STEP   185 / 830 (thread    1) f\b\b\r",
      "STEP   186 / 830 (thread    0) f\b\b\r",
      "STEP   187 / 830 (thread    4) f\b\b\r",
      "STEP   188 / 830 (thread    5) f\b\b\r",
      "STEP   189 / 830 (thread    3) f\b\b\r",
      "STEP   190 / 830 (thread    1) f\b\b\r",
      "STEP   191 / 830 (thread    0) f\b\b\r",
      "STEP   192 / 830 (thread    4) f\b\b\r",
      "STEP   193 / 830 (thread    5) f\b\b\r",
      "STEP   194 / 830 (thread    2) f\b\b\r",
      "STEP   196 / 830 (thread    1) f\b\b\r",
      "STEP   197 / 830 (thread    0) f\b\b\r",
      "STEP   195 / 830 (thread    3) f\b\b\r",
      "STEP   198 / 830 (thread    4) f\b\b\r",
      "STEP   199 / 830 (thread    5) f\b\b\r",
      "STEP   200 / 830 (thread    2) f\b\b\r",
      "STEP   201 / 830 (thread    1) f\b\b\r",
      "STEP   202 / 830 (thread    4) f\b\b\r",
      "STEP   203 / 830 (thread    5) f\b\b\r",
      "STEP   204 / 830 (thread    1) f\b\b\r",
      "STEP   205 / 830 (thread    3) f\b\b\r",
      "STEP   206 / 830 (thread    0) f\b\b\r",
      "STEP   207 / 830 (thread    2) f\b\b\r",
      "STEP   208 / 830 (thread    1) f\b\b\r",
      "STEP   209 / 830 (thread    3) f\b\b\r",
      "STEP   210 / 830 (thread    0) f\b\b\r",
      "STEP   211 / 830 (thread    4) f\b\b\r",
      "STEP   212 / 830 (thread    5) f\b\b\r",
      "STEP   213 / 830 (thread    2) f\b\b\r",
      "STEP   214 / 830 (thread    1) f\b\b\r",
      "STEP   215 / 830 (thread    3) f\b\b\r",
      "STEP   216 / 830 (thread    0) f\b\b\r",
      "STEP   217 / 830 (thread    4) f\b\b\r",
      "STEP   218 / 830 (thread    5) f\b\b\r",
      "STEP   219 / 830 (thread    2) f\b\b\r",
      "STEP   220 / 830 (thread    1) f\b\b\r",
      "STEP   221 / 830 (thread    3) f\b\b\r",
      "STEP   222 / 830 (thread    0) f\b\b\r",
      "STEP   223 / 830 (thread    4) f\b\b\r",
      "STEP   224 / 830 (thread    5) f\b\b\r",
      "STEP   225 / 830 (thread    2) f\b\b\r",
      "STEP   226 / 830 (thread    4) f\b\b\r",
      "STEP   227 / 830 (thread    5) f\b\b\r",
      "STEP   228 / 830 (thread    2) f\b\b\r",
      "STEP   229 / 830 (thread    4) f\b\b\r",
      "STEP   230 / 830 (thread    5) f\b\b\r",
      "STEP   231 / 830 (thread    2) f\b\b\r",
      "STEP   232 / 830 (thread    1) f\b\b\r",
      "STEP   233 / 830 (thread    3) f\b\b\r",
      "STEP   234 / 830 (thread    0) f\b\b\r",
      "STEP   235 / 830 (thread    2) f\b\b\r",
      "STEP   236 / 830 (thread    4) f\b\b\r",
      "STEP   237 / 830 (thread    5) f\b\b\r",
      "STEP   239 / 830 (thread    1) f\b\b\r",
      "STEP   238 / 830 (thread    3) f\b\b\r",
      "STEP   240 / 830 (thread    0) f\b\b\r",
      "STEP   241 / 830 (thread    2) f\b\b\r",
      "STEP   242 / 830 (thread    1) f\b\b\r",
      "STEP   243 / 830 (thread    0) f\b\b\r",
      "STEP   244 / 830 (thread    4) f\b\b\r",
      "STEP   245 / 830 (thread    5) f\b\b\r",
      "STEP   246 / 830 (thread    2) f\b\b\r",
      "STEP   247 / 830 (thread    3) f\b\b\r",
      "STEP   248 / 830 (thread    1) f\b\b\r",
      "STEP   249 / 830 (thread    0) f\b\b\r",
      "STEP   250 / 830 (thread    2) f\b\b\r",
      "STEP   251 / 830 (thread    3) f\b\b\r",
      "STEP   253 / 830 (thread    0) f\b\b\r",
      "STEP   254 / 830 (thread    5) f\b\b\r",
      "STEP   255 / 830 (thread    2) f\b\b\r",
      "STEP   252 / 830 (thread    1) f\b\b\r",
      "STEP   256 / 830 (thread    3) f\b\b\r",
      "STEP   257 / 830 (thread    4) f\b\b\r",
      "STEP   258 / 830 (thread    5) f\b\b\r",
      "STEP   259 / 830 (thread    2) f\b\b\r",
      "STEP   260 / 830 (thread    1) f\b\b\r",
      "STEP   261 / 830 (thread    3) f\b\b\r",
      "STEP   262 / 830 (thread    4) f\b\b\r",
      "STEP   263 / 830 (thread    0) f\b\b\r",
      "STEP   264 / 830 (thread    0) f\b\b\r",
      "STEP   265 / 830 (thread    5) f\b\b\r",
      "STEP   266 / 830 (thread    2) f\b\b\r",
      "STEP   267 / 830 (thread    1) f\b\b\r",
      "STEP   268 / 830 (thread    4) f\b\b\r",
      "STEP   269 / 830 (thread    3) f\b\b\r",
      "STEP   270 / 830 (thread    1) f\b\b\r",
      "STEP   271 / 830 (thread    2) f\b\b\r",
      "STEP   272 / 830 (thread    0) f\b\b\r",
      "STEP   273 / 830 (thread    5) f\b\b\r",
      "STEP   274 / 830 (thread    2) f\b\b\r",
      "STEP   275 / 830 (thread    4) f\b\b\r",
      "STEP   276 / 830 (thread    0) f\b\b\r",
      "STEP   277 / 830 (thread    1) f\b\b\r",
      "STEP   278 / 830 (thread    3) f\b\b\r",
      "STEP   279 / 830 (thread    2) f\b\b\r",
      "STEP   280 / 830 (thread    4) f\b\b\r",
      "STEP   281 / 830 (thread    5) f\b\b\r",
      "STEP   282 / 830 (thread    0) f\b\b\r",
      "STEP   283 / 830 (thread    1) f\b\b\r",
      "STEP   284 / 830 (thread    3) f\b\b\r",
      "STEP   285 / 830 (thread    2) f\b\b\r",
      "STEP   286 / 830 (thread    4) f\b\b\r",
      "STEP   287 / 830 (thread    5) f\b\b\r",
      "STEP   288 / 830 (thread    2) f\b\b\r",
      "STEP   289 / 830 (thread    0) f\b\b\r",
      "STEP   290 / 830 (thread    1) f\b\b\r",
      "STEP   291 / 830 (thread    3) f\b\b\r",
      "STEP   292 / 830 (thread    4) f\b\b\r",
      "STEP   293 / 830 (thread    0) f\b\b\r",
      "STEP   294 / 830 (thread    1) f\b\b\r",
      "STEP   296 / 830 (thread    4) f\b\b\r",
      "STEP   297 / 830 (thread    2) f\b\b\r",
      "STEP   295 / 830 (thread    3) f\b\b\r",
      "STEP   298 / 830 (thread    5) f\b\b\r",
      "STEP   299 / 830 (thread    4) f\b\b\r",
      "STEP   300 / 830 (thread    2) f\b\b\r",
      "STEP   301 / 830 (thread    0) f\b\b\r",
      "STEP   302 / 830 (thread    1) f\b\b\r",
      "STEP   303 / 830 (thread    2) f\b\b\r",
      "STEP   304 / 830 (thread    5) f\b\b\r",
      "STEP   305 / 830 (thread    3) f\b\b\r",
      "STEP   306 / 830 (thread    0) f\b\b\r",
      "STEP   307 / 830 (thread    5) f\b\b\r",
      "STEP   308 / 830 (thread    1) f\b\b\r",
      "STEP   309 / 830 (thread    4) f\b\b\r",
      "STEP   310 / 830 (thread    1) f\b\b\r",
      "STEP   311 / 830 (thread    3) f\b\b\r",
      "STEP   312 / 830 (thread    4) f\b\b\r",
      "STEP   313 / 830 (thread    2) f\b\b\r",
      "STEP   314 / 830 (thread    0) f\b\b\r",
      "STEP   315 / 830 (thread    5) f\b\b\r",
      "STEP   316 / 830 (thread    1) f\b\b\r",
      "STEP   317 / 830 (thread    3) f\b\b\r",
      "STEP   318 / 830 (thread    4) f\b\b\r",
      "STEP   319 / 830 (thread    2) f\b\b\r",
      "STEP   320 / 830 (thread    0) f\b\b\r",
      "STEP   321 / 830 (thread    3) f\b\b\r",
      "STEP   322 / 830 (thread    4) f\b\b\r",
      "STEP   324 / 830 (thread    1) f\b\b\r",
      "STEP   323 / 830 (thread    5) f\b\b\r",
      "STEP   325 / 830 (thread    2) f\b\b\r",
      "STEP   326 / 830 (thread    0) f\b\b\r",
      "STEP   327 / 830 (thread    2) f\b\b\r",
      "STEP   328 / 830 (thread    1) f\b\b\r",
      "STEP   329 / 830 (thread    2) f\b\b\r",
      "STEP   330 / 830 (thread    3) f\b\b\r",
      "STEP   331 / 830 (thread    1) f\b\b\r",
      "STEP   332 / 830 (thread    0) f\b\b\r",
      "STEP   333 / 830 (thread    4) f\b\b\r",
      "STEP   334 / 830 (thread    5) f\b\b\r",
      "STEP   335 / 830 (thread    1) f\b\b\r",
      "STEP   336 / 830 (thread    2) f\b\b\r",
      "STEP   337 / 830 (thread    3) f\b\b\r",
      "STEP   338 / 830 (thread    0) f\b\b\r",
      "STEP   339 / 830 (thread    4) f\b\b\r",
      "STEP   340 / 830 (thread    5) f\b\b\r",
      "STEP   341 / 830 (thread    2) f\b\b\r",
      "STEP   342 / 830 (thread    1) f\b\b\r",
      "STEP   343 / 830 (thread    0) f\b\b\r",
      "STEP   344 / 830 (thread    0) f\b\b\r",
      "STEP   345 / 830 (thread    4) f\b\b\r",
      "STEP   346 / 830 (thread    3) f\b\b\r",
      "STEP   347 / 830 (thread    2) f\b\b\r",
      "STEP   348 / 830 (thread    5) f\b\b\r",
      "STEP   349 / 830 (thread    3) f\b\b\r",
      "STEP   350 / 830 (thread    1) f\b\b\r",
      "STEP   351 / 830 (thread    0) f\b\b\r",
      "STEP   352 / 830 (thread    3) f\b\b\r",
      "STEP   353 / 830 (thread    2) f\b\b\r",
      "STEP   354 / 830 (thread    4) f\b\b\r",
      "STEP   355 / 830 (thread    5) f\b\b\r",
      "STEP   356 / 830 (thread    1) f\b\b\r",
      "STEP   357 / 830 (thread    0) f\b\b\r",
      "STEP   358 / 830 (thread    3) f\b\b\r",
      "STEP   359 / 830 (thread    4) f\b\b\r",
      "STEP   360 / 830 (thread    5) f\b\b\r",
      "STEP   361 / 830 (thread    1) f\b\b\r",
      "STEP   362 / 830 (thread    2) f\b\b\r",
      "STEP   363 / 830 (thread    5) f\b\b\r",
      "STEP   364 / 830 (thread    0) f\b\b\r",
      "STEP   365 / 830 (thread    1) f\b\b\r",
      "STEP   366 / 830 (thread    3) f\b\b\r",
      "STEP   367 / 830 (thread    2) f\b\b\r",
      "STEP   368 / 830 (thread    4) f\b\b\r",
      "STEP   369 / 830 (thread    5) f\b\b\r",
      "STEP   370 / 830 (thread    3) f\b\b\r",
      "STEP   371 / 830 (thread    1) f\b\b\r",
      "STEP   372 / 830 (thread    2) f\b\b\r",
      "STEP   373 / 830 (thread    0) f\b\b\r",
      "STEP   374 / 830 (thread    4) f\b\b\r",
      "STEP   375 / 830 (thread    5) f\b\b\r",
      "STEP   376 / 830 (thread    3) f\b\b\r",
      "STEP   377 / 830 (thread    1) f\b\b\r",
      "STEP   379 / 830 (thread    0) f\b\b\r",
      "STEP   378 / 830 (thread    2) f\b\b\r",
      "STEP   380 / 830 (thread    5) f\b\b\r",
      "STEP   381 / 830 (thread    1) f\b\b\r",
      "STEP   382 / 830 (thread    4) f\b\b\r",
      "STEP   383 / 830 (thread    3) f\b\b\r",
      "STEP   384 / 830 (thread    2) f\b\b\r",
      "STEP   385 / 830 (thread    5) f\b\b\r",
      "STEP   386 / 830 (thread    1) f\b\b\r",
      "STEP   387 / 830 (thread    0) f\b\b\r",
      "STEP   388 / 830 (thread    4) f\b\b\r",
      "STEP   389 / 830 (thread    1) f\b\b\r",
      "STEP   390 / 830 (thread    0) f\b\b\r",
      "STEP   391 / 830 (thread    2) f\b\b\r",
      "STEP   392 / 830 (thread    3) f\b\b\r",
      "STEP   393 / 830 (thread    4) f\b\b\r",
      "STEP   394 / 830 (thread    5) f\b\b\r",
      "STEP   395 / 830 (thread    1) f\b\b\r",
      "STEP   396 / 830 (thread    0) f\b\b\r",
      "STEP   397 / 830 (thread    2) f\b\b\r",
      "STEP   399 / 830 (thread    5) f\b\b\r",
      "STEP   400 / 830 (thread    3) f\b\b\r",
      "STEP   398 / 830 (thread    4) f\b\b\r",
      "STEP   401 / 830 (thread    2) f\b\b\r",
      "STEP   402 / 830 (thread    0) f\b\b\r",
      "STEP   403 / 830 (thread    5) f\b\b\r",
      "STEP   404 / 830 (thread    1) f\b\b\r",
      "STEP   405 / 830 (thread    4) f\b\b\r",
      "STEP   406 / 830 (thread    3) f\b\b\r",
      "STEP   407 / 830 (thread    2) f\b\b\r",
      "STEP   408 / 830 (thread    5) f\b\b\r",
      "STEP   409 / 830 (thread    1) f\b\b\r",
      "STEP   410 / 830 (thread    0) f\b\b\r",
      "STEP   411 / 830 (thread    4) f\b\b\r",
      "STEP   412 / 830 (thread    3) f\b\b\r",
      "STEP   414 / 830 (thread    5) f\b\b\r",
      "STEP   415 / 830 (thread    1) f\b\b\r",
      "STEP   413 / 830 (thread    2) f\b\b\r",
      "STEP   416 / 830 (thread    0) f\b\b\r",
      "STEP   417 / 830 (thread    4) f\b\b\r",
      "STEP   418 / 830 (thread    3) f\b\b\r",
      "STEP   419 / 830 (thread    1) f\b\b\r",
      "STEP   420 / 830 (thread    4) f\b\b\r",
      "STEP   421 / 830 (thread    5) f\b\b\r",
      "STEP   422 / 830 (thread    3) f\b\b\r",
      "STEP   423 / 830 (thread    0) f\b\b\r",
      "STEP   424 / 830 (thread    2) f\b\b\r",
      "STEP   425 / 830 (thread    4) f\b\b\r",
      "STEP   426 / 830 (thread    1) f\b\b\r",
      "STEP   427 / 830 (thread    5) f\b\b\r",
      "STEP   428 / 830 (thread    3) f\b\b\r",
      "STEP   429 / 830 (thread    0) f\b\b\r",
      "STEP   430 / 830 (thread    2) f\b\b\r",
      "STEP   431 / 830 (thread    4) f\b\b\r",
      "STEP   432 / 830 (thread    2) f\b\b\r",
      "STEP   433 / 830 (thread    1) f\b\b\r",
      "STEP   434 / 830 (thread    5) f\b\b\r",
      "STEP   435 / 830 (thread    3) f\b\b\r",
      "STEP   436 / 830 (thread    0) f\b\b\r",
      "STEP   437 / 830 (thread    4) f\b\b\r",
      "STEP   440 / 830 (thread    2) f\b\b\r",
      "STEP   439 / 830 (thread    3) f\b\b\r",
      "STEP   441 / 830 (thread    0) f\b\b\r",
      "STEP   442 / 830 (thread    5) f\b\b\r",
      "STEP   438 / 830 (thread    1) f\b\b\r",
      "STEP   444 / 830 (thread    2) f\b\b\r",
      "STEP   445 / 830 (thread    3) f\b\b\r",
      "STEP   446 / 830 (thread    2) f\b\b\r",
      "STEP   447 / 830 (thread    0) f\b\b\r",
      "STEP   448 / 830 (thread    5) f\b\b\r",
      "STEP   443 / 830 (thread    4) f\b\b\r",
      "STEP   449 / 830 (thread    1) f\b\b\r",
      "STEP   450 / 830 (thread    3) f\b\b\r",
      "STEP   451 / 830 (thread    2) f\b\b\r",
      "STEP   452 / 830 (thread    0) f\b\b\r",
      "STEP   453 / 830 (thread    5) f\b\b\r",
      "STEP   454 / 830 (thread    1) f\b\b\r",
      "STEP   455 / 830 (thread    4) f\b\b\r",
      "STEP   456 / 830 (thread    4) f\b\b\r",
      "STEP   457 / 830 (thread    3) f\b\b\r",
      "STEP   458 / 830 (thread    2) f\b\b\r",
      "STEP   459 / 830 (thread    0) f\b\b\r",
      "STEP   460 / 830 (thread    5) f\b\b\r",
      "STEP   461 / 830 (thread    1) f\b\b\r",
      "STEP   462 / 830 (thread    5) f\b\b\r",
      "STEP   463 / 830 (thread    4) f\b\b\r",
      "STEP   465 / 830 (thread    2) f\b\b\r",
      "STEP   464 / 830 (thread    3) f\b\b\r",
      "STEP   466 / 830 (thread    1) f\b\b\r",
      "STEP   467 / 830 (thread    0) f\b\b\r",
      "STEP   468 / 830 (thread    0) f\b\b\r",
      "STEP   469 / 830 (thread    5) f\b\b\r",
      "STEP   471 / 830 (thread    3) f\b\b\r",
      "STEP   472 / 830 (thread    1) f\b\b\r",
      "STEP   470 / 830 (thread    2) f\b\b\r",
      "STEP   474 / 830 (thread    0) f\b\b\r",
      "STEP   475 / 830 (thread    5) f\b\b\r",
      "STEP   476 / 830 (thread    3) f\b\b\r",
      "STEP   477 / 830 (thread    1) f\b\b\r",
      "STEP   478 / 830 (thread    0) f\b\b\r",
      "STEP   480 / 830 (thread    5) f\b\b\r",
      "STEP   481 / 830 (thread    3) f\b\b\r",
      "STEP   483 / 830 (thread    2) f\b\b\r",
      "STEP   484 / 830 (thread    5) f\b\b\r",
      "STEP   473 / 830 (thread    4) f\b\b\r",
      "STEP   486 / 830 (thread    5) f\b\b\r",
      "STEP   487 / 830 (thread    2) f\b\b\r",
      "STEP   488 / 830 (thread    4) f\b\b\r",
      "STEP   479 / 830 (thread    1) f\b\b\r",
      "STEP   489 / 830 (thread    2) f\b\b\r",
      "STEP   490 / 830 (thread    5) f\b\b\r",
      "STEP   491 / 830 (thread    4) f\b\b\r",
      "STEP   492 / 830 (thread    5) f\b\b\r",
      "STEP   493 / 830 (thread    1) f\b\b\r",
      "STEP   482 / 830 (thread    0) f\b\b\r",
      "STEP   494 / 830 (thread    4) f\b\b\r",
      "STEP   496 / 830 (thread    1) f\b\b\r",
      "STEP   497 / 830 (thread    5) f\b\b\r",
      "STEP   485 / 830 (thread    3) f\b\b\r",
      "STEP   500 / 830 (thread    1) f\b\b\r",
      "STEP   501 / 830 (thread    5) f\b\b\r",
      "STEP   495 / 830 (thread    2) f\b\b\r",
      "STEP   498 / 830 (thread    4) f\b\b\r",
      "STEP   499 / 830 (thread    0) f\b\b"
     ]
    },
    {
     "name": "stderr",
     "output_type": "stream",
     "text": [
      "\r",
      "STEP   601 / 830 (thread    4) f\b\b\n",
      "Reallocating..done. *alloclen = 1864\n",
      "\r",
      "STEP   701 / 830 (thread    3) f\b\b\r",
      "STEP   801 / 830 (thread    3) d\b\b h\n",
      "done.\n",
      "\n",
      "disttbfast (nuc) Version 7.520\n",
      "alg=A, model=DNA200 (2), 1.53 (4.59), -0.00 (-0.00), noshift, amax=0.0\n",
      "6 thread(s)\n",
      "\n",
      "\n",
      "Strategy:\n",
      " FFT-NS-2 (Fast but rough)\n",
      " Progressive method (guide trees were built 2 times.)\n",
      "\n",
      "If unsure which option to use, try 'mafft --auto input > output'.\n",
      "For more information, see 'mafft --help', 'mafft --man' and the mafft page.\n",
      "\n",
      "The default gap scoring scheme has been changed in version 7.110 (2013 Oct).\n",
      "It tends to insert more gaps into gap-rich regions than previous versions.\n",
      "To disable this change, add the --leavegappyregion option.\n",
      "\n"
     ]
    },
    {
     "name": "stdout",
     "output_type": "stream",
     "text": [
      "Running external command line application. This may print messages to stdout and/or stderr.\n",
      "The command being run is below. This command cannot be manually re-run as it will depend on temporary files that no longer exist.\n",
      "\n",
      "Command: FastTreeMP -quote -nt /tmp/qiime2/lauro/data/6e739d09-9051-4d73-bd80-5147fe379369/data/aligned-dna-sequences.fasta\n",
      "\n"
     ]
    },
    {
     "name": "stderr",
     "output_type": "stream",
     "text": [
      "FastTree Version 2.1.11 Double precision (No SSE3), OpenMP (6 threads)\n",
      "Alignment: /tmp/qiime2/lauro/data/6e739d09-9051-4d73-bd80-5147fe379369/data/aligned-dna-sequences.fasta\n",
      "Nucleotide distances: Jukes-Cantor Joins: balanced Support: SH-like 1000\n",
      "Search: Normal +NNI +SPR (2 rounds range 10) +ML-NNI opt-each=1\n",
      "TopHits: 1.00*sqrtN close=default refresh=0.80\n",
      "ML Model: Jukes-Cantor, CAT approximation with 20 rate categories\n",
      "      0.11 seconds: Joined    300 of    796\n"
     ]
    },
    {
     "name": "stderr",
     "output_type": "stream",
     "text": [
      "      0.23 seconds: Joined    700 of    796\n",
      "Initial topology in 0.25 seconds\n",
      "Refining topology: 39 rounds ME-NNIs, 2 rounds ME-SPRs, 19 rounds ML-NNIs\n",
      "      0.35 seconds: SPR round   1 of   2, 101 of 1596 nodes\n"
     ]
    },
    {
     "name": "stderr",
     "output_type": "stream",
     "text": [
      "      0.46 seconds: SPR round   1 of   2, 401 of 1596 nodes\n",
      "      0.57 seconds: SPR round   1 of   2, 701 of 1596 nodes\n"
     ]
    },
    {
     "name": "stderr",
     "output_type": "stream",
     "text": [
      "      0.70 seconds: SPR round   1 of   2, 1001 of 1596 nodes\n",
      "      0.80 seconds: SPR round   1 of   2, 1301 of 1596 nodes\n"
     ]
    },
    {
     "name": "stderr",
     "output_type": "stream",
     "text": [
      "      0.90 seconds: ME NNI round 14 of 39, 101 of 797 splits, 1 changes (max delta 0.000)\n",
      "      1.04 seconds: SPR round   2 of   2, 301 of 1596 nodes\n"
     ]
    },
    {
     "name": "stderr",
     "output_type": "stream",
     "text": [
      "      1.16 seconds: SPR round   2 of   2, 601 of 1596 nodes\n",
      "      1.28 seconds: SPR round   2 of   2, 901 of 1596 nodes\n"
     ]
    },
    {
     "name": "stderr",
     "output_type": "stream",
     "text": [
      "      1.38 seconds: SPR round   2 of   2, 1201 of 1596 nodes\n",
      "      1.49 seconds: SPR round   2 of   2, 1501 of 1596 nodes\n",
      "Total branch-length 18.581 after 1.57 sec\n"
     ]
    },
    {
     "name": "stderr",
     "output_type": "stream",
     "text": [
      "      1.60 seconds: ML Lengths 201 of 797 splits\n",
      "      1.72 seconds: ML NNI round 1 of 19, 101 of 797 splits, 14 changes (max delta 5.800)\n"
     ]
    },
    {
     "name": "stderr",
     "output_type": "stream",
     "text": [
      "      1.82 seconds: ML NNI round 1 of 19, 501 of 797 splits, 73 changes (max delta 11.875)\n",
      "ML-NNI round 1: LogLk = -47979.832 NNIs 123 max delta 11.87 Time 1.90\n",
      "      1.92 seconds: Site likelihoods with rate category 5 of 20\n",
      "Switched to using 20 rate categories (CAT approximation)\n",
      "Rate categories were divided by 1.095 so that average rate = 1.0\n",
      "CAT-based log-likelihoods may not be comparable across runs\n",
      "Use -gamma for approximate but comparable Gamma(20) log-likelihoods\n"
     ]
    },
    {
     "name": "stderr",
     "output_type": "stream",
     "text": [
      "      2.03 seconds: ML NNI round 2 of 19, 101 of 797 splits, 6 changes (max delta 0.527)\n",
      "      2.14 seconds: ML NNI round 2 of 19, 501 of 797 splits, 44 changes (max delta 3.932)\n",
      "ML-NNI round 2: LogLk = -40091.869 NNIs 66 max delta 5.94 Time 2.23\n"
     ]
    },
    {
     "name": "stderr",
     "output_type": "stream",
     "text": [
      "      2.25 seconds: ML NNI round 3 of 19, 101 of 797 splits, 5 changes (max delta 6.728)\n",
      "      2.36 seconds: ML NNI round 3 of 19, 501 of 797 splits, 21 changes (max delta 6.728)\n",
      "ML-NNI round 3: LogLk = -40063.276 NNIs 21 max delta 6.73 Time 2.38\n",
      "ML-NNI round 4: LogLk = -40060.771 NNIs 4 max delta 0.61 Time 2.46\n"
     ]
    },
    {
     "name": "stderr",
     "output_type": "stream",
     "text": [
      "      2.48 seconds: ML NNI round 5 of 19, 101 of 797 splits, 1 changes (max delta 0.000)\n",
      "ML-NNI round 5: LogLk = -40060.312 NNIs 1 max delta 0.00 Time 2.49\n",
      "Turning off heuristics for final round of ML NNIs (converged)\n",
      "      2.59 seconds: ML NNI round 6 of 19, 401 of 797 splits, 4 changes (max delta 1.547)\n"
     ]
    },
    {
     "name": "stderr",
     "output_type": "stream",
     "text": [
      "ML-NNI round 6: LogLk = -40055.055 NNIs 7 max delta 1.55 Time 2.71 (final)\n",
      "      2.70 seconds: ML Lengths 1 of 797 splits\n",
      "Optimize all lengths: LogLk = -40054.956 Time 2.80\n",
      "      2.87 seconds: ML split tests for    100 of    796 internal splits\n"
     ]
    },
    {
     "name": "stderr",
     "output_type": "stream",
     "text": [
      "      3.01 seconds: ML split tests for    300 of    796 internal splits\n",
      "      3.14 seconds: ML split tests for    500 of    796 internal splits\n"
     ]
    },
    {
     "name": "stderr",
     "output_type": "stream",
     "text": [
      "      3.28 seconds: ML split tests for    700 of    796 internal splits\n",
      "Total time: 3.35 seconds Unique: 799/831 Bad splits: 0/796\n"
     ]
    }
   ],
   "source": [
    "mafft_alignment, mafft_masked_alignment, mafft_tree, mafft_rooted_tree = align_to_tree_mafft_fasttree(\n",
    "    sequences=reps, n_threads=6, )"
   ]
  },
  {
   "cell_type": "markdown",
   "id": "0768d598",
   "metadata": {
    "papermill": {
     "duration": 0.00415,
     "end_time": "2024-03-05T23:24:55.544637",
     "exception": false,
     "start_time": "2024-03-05T23:24:55.540487",
     "status": "completed"
    },
    "tags": []
   },
   "source": [
    "### Compute Alpha Diversity (Phylogeny)\n",
    "- [diversity alpha_phylogenetic](https://docs.qiime2.org/2022.8/plugins/available/diversity/alpha-phylogenetic/): Computes a user-specified phylogenetic alpha diversity metric for all samples in a feature table.\n",
    "- Metrics: Choices ('faith_pd')"
   ]
  },
  {
   "cell_type": "code",
   "execution_count": 11,
   "id": "0383aa19",
   "metadata": {
    "ExecuteTime": {
     "end_time": "2022-09-29T20:54:35.310009Z",
     "start_time": "2022-09-29T20:54:35.141333Z"
    },
    "execution": {
     "iopub.execute_input": "2024-03-05T23:24:55.553894Z",
     "iopub.status.busy": "2024-03-05T23:24:55.553728Z",
     "iopub.status.idle": "2024-03-05T23:24:55.648067Z",
     "shell.execute_reply": "2024-03-05T23:24:55.647583Z"
    },
    "papermill": {
     "duration": 0.100374,
     "end_time": "2024-03-05T23:24:55.649135",
     "exception": false,
     "start_time": "2024-03-05T23:24:55.548761",
     "status": "completed"
    },
    "tags": []
   },
   "outputs": [
    {
     "name": "stdout",
     "output_type": "stream",
     "text": [
      "Calculating alpha diversity: faith_pd\n",
      "Running external command line application. This may print messages to stdout and/or stderr.\n",
      "The command being run is below. This command cannot be manually re-run as it will depend on temporary files that no longer exist.\n",
      "\n",
      "Command:\n",
      "\n",
      "faithpd -i /tmp/qiime2/lauro/data/72789763-10c1-4d27-9357-5aa27afa43eb/data/feature-table.biom -t /tmp/qiime2/lauro/data/e8a11813-5c20-49b6-98bb-511f8b2dda35/data/tree.nwk -o /tmp/q2-AlphaDiversityFormat-rqwo6f2q\n",
      "\n",
      "DONE: Calculating alpha phylogeny: faith_pd\n"
     ]
    }
   ],
   "source": [
    "metrics = ('faith_pd', )\n",
    "alpha_diversities_phylogenetic = dict()\n",
    "for metric in metrics:\n",
    "    print(f\"Calculating alpha diversity: {metric}\")\n",
    "    try:\n",
    "        alpha_diversity = alpha_phylogenetic(table=tabs, phylogeny=mafft_rooted_tree, metric=metric).alpha_diversity\n",
    "        alpha_diversities_phylogenetic[metric] = alpha_diversity\n",
    "        # Save Artifact\n",
    "        file_path = os.path.join(alpha_path, f'alpha-phylogeny-{metric}.qza')\n",
    "        alpha_diversity.save(file_path)\n",
    "        print(f\"DONE: Calculating alpha phylogeny: {metric}\")\n",
    "    except Exception as e:\n",
    "        print(f\"ERROR: Calculating alpha phylogeny: {metric}\")"
   ]
  },
  {
   "cell_type": "markdown",
   "id": "42db1ead",
   "metadata": {
    "papermill": {
     "duration": 0.00425,
     "end_time": "2024-03-05T23:24:55.657896",
     "exception": false,
     "start_time": "2024-03-05T23:24:55.653646",
     "status": "completed"
    },
    "tags": []
   },
   "source": [
    "- [core-metrics-phylogenetic](https://docs.qiime2.org/2023.7/plugins/available/diversity/core-metrics-phylogenetic/)"
   ]
  },
  {
   "cell_type": "code",
   "execution_count": 12,
   "id": "ef726ab7",
   "metadata": {
    "execution": {
     "iopub.execute_input": "2024-03-05T23:24:55.667210Z",
     "iopub.status.busy": "2024-03-05T23:24:55.667024Z",
     "iopub.status.idle": "2024-03-05T23:24:57.395464Z",
     "shell.execute_reply": "2024-03-05T23:24:57.394951Z"
    },
    "papermill": {
     "duration": 1.734593,
     "end_time": "2024-03-05T23:24:57.396712",
     "exception": false,
     "start_time": "2024-03-05T23:24:55.662119",
     "status": "completed"
    },
    "tags": []
   },
   "outputs": [
    {
     "name": "stderr",
     "output_type": "stream",
     "text": [
      "/home/lauro/anaconda3/envs/qiime2-2023.5/lib/python3.8/site-packages/sklearn/metrics/pairwise.py:1761: DataConversionWarning: Data was converted to boolean for metric jaccard\n",
      "  warnings.warn(msg, DataConversionWarning)\n"
     ]
    },
    {
     "name": "stdout",
     "output_type": "stream",
     "text": [
      "Running external command line application. This may print messages to stdout and/or stderr.\n",
      "The command being run is below. This command cannot be manually re-run as it will depend on temporary files that no longer exist.\n",
      "\n",
      "Command:\n",
      "\n",
      "faithpd -i /tmp/qiime2/lauro/data/86e98591-6763-489f-a0a4-6718feed933f/data/feature-table.biom -t /tmp/qiime2/lauro/data/e8a11813-5c20-49b6-98bb-511f8b2dda35/data/tree.nwk -o /tmp/q2-AlphaDiversityFormat-dnc0xbx2\n",
      "\n",
      "Running external command line application. This may print messages to stdout and/or stderr.\n",
      "The command being run is below. This command cannot be manually re-run as it will depend on temporary files that no longer exist.\n",
      "\n",
      "Command:\n",
      "\n",
      "ssu -i /tmp/qiime2/lauro/data/86e98591-6763-489f-a0a4-6718feed933f/data/feature-table.biom -t /tmp/qiime2/lauro/data/e8a11813-5c20-49b6-98bb-511f8b2dda35/data/tree.nwk -m unweighted -o /tmp/q2-LSMatFormat-v2qtrtpt\n",
      "\n"
     ]
    },
    {
     "name": "stdout",
     "output_type": "stream",
     "text": [
      "Running external command line application. This may print messages to stdout and/or stderr.\n",
      "The command being run is below. This command cannot be manually re-run as it will depend on temporary files that no longer exist.\n",
      "\n",
      "Command:\n",
      "\n",
      "ssu -i /tmp/qiime2/lauro/data/86e98591-6763-489f-a0a4-6718feed933f/data/feature-table.biom -t /tmp/qiime2/lauro/data/e8a11813-5c20-49b6-98bb-511f8b2dda35/data/tree.nwk -m weighted_unnormalized -o /tmp/q2-LSMatFormat-3h0ri9q9\n",
      "\n"
     ]
    },
    {
     "name": "stderr",
     "output_type": "stream",
     "text": [
      "/home/lauro/anaconda3/envs/qiime2-2023.5/lib/python3.8/site-packages/skbio/stats/ordination/_principal_coordinate_analysis.py:143: RuntimeWarning: The result contains negative eigenvalues. Please compare their magnitude with the magnitude of some of the largest positive eigenvalues. If the negative ones are smaller, it's probably safe to ignore them, but if they are large in magnitude, the results won't be useful. See the Notes section for more details. The smallest eigenvalue is -0.015512895914956365 and the largest is 0.9770807868969567.\n",
      "  warn(\n"
     ]
    }
   ],
   "source": [
    "s_depth = int(tabs.view(pd.DataFrame).sum(axis=1).min())\n",
    "results = core_metrics_phylogenetic(\n",
    "    table = tabs,\n",
    "    phylogeny = mafft_rooted_tree,\n",
    "    sampling_depth = s_depth,\n",
    "    metadata = metadata_qa,\n",
    "    n_jobs_or_threads = 6,\n",
    ")"
   ]
  },
  {
   "cell_type": "code",
   "execution_count": 13,
   "id": "19311218",
   "metadata": {
    "execution": {
     "iopub.execute_input": "2024-03-05T23:24:57.406723Z",
     "iopub.status.busy": "2024-03-05T23:24:57.406542Z",
     "iopub.status.idle": "2024-03-05T23:24:57.410285Z",
     "shell.execute_reply": "2024-03-05T23:24:57.409825Z"
    },
    "papermill": {
     "duration": 0.009796,
     "end_time": "2024-03-05T23:24:57.411191",
     "exception": false,
     "start_time": "2024-03-05T23:24:57.401395",
     "status": "completed"
    },
    "tags": []
   },
   "outputs": [],
   "source": [
    "results_info = [(\"rarefied_table\", \"FeatureTable[Frequency]\", \"The resulting rarefied feature table.\"),\n",
    "(\"faith_pd_vector\", \"SampleData[AlphaDiversity]\", \"Vector of Faith PD values by sample.\"),\n",
    "(\"observed_features_vector\", \"SampleData[AlphaDiversity]\", \"Vector of Observed Features values by sample.\"),\n",
    "(\"shannon_vector\", \"SampleData[AlphaDiversity]\", \"Vector of Shannon diversity values by sample.\"),\n",
    "(\"evenness_vector\", \"SampleData[AlphaDiversity]\", \"Vector of Pielou's evenness values by sample.\"),\n",
    "(\"unweighted_unifrac_distance_matrix\", \"DistanceMatrix\", \"Matrix of unweighted UniFrac distances between pairs of samples.\"),\n",
    "(\"weighted_unifrac_distance_matrix\", \"DistanceMatrix\", \"Matrix of weighted UniFrac distances between pairs of samples.\"),\n",
    "(\"jaccard_distance_matrix\", \"DistanceMatrix\", \"Matrix of Jaccard distances between pairs of samples.\"),\n",
    "(\"bray_curtis_distance_matrix\", \"DistanceMatrix\", \"Matrix of Bray-Curtis distances between pairs of samples.\"),\n",
    "(\"unweighted_unifrac_pcoa_results\", \"PCoAResults\", \"PCoA matrix computed from unweighted UniFrac distances between samples.\"),\n",
    "(\"weighted_unifrac_pcoa_results\", \"PCoAResults\", \"PCoA matrix computed from weighted UniFrac distances between samples.\"),\n",
    "(\"jaccard_pcoa_results\", \"PCoAResults\", \"PCoA matrix computed from Jaccard distances between samples.\"),\n",
    "(\"bray_curtis_pcoa_results\", \"PCoAResults\", \"PCoA matrix computed from Bray-Curtis distances between samples.\"),\n",
    "(\"unweighted_unifrac_emperor\", \"Visualization\", \"Emperor plot of the PCoA matrix computed from unweighted UniFrac.\"),\n",
    "(\"weighted_unifrac_emperor\", \"Visualization\", \"Emperor plot of the PCoA matrix computed from weighted UniFrac.\"),\n",
    "(\"jaccard_emperor\", \"Visualization\", \"Emperor plot of the PCoA matrix computed from Jaccard.\"),\n",
    "(\"bray_curtis_emperor\", \"Visualization\", \"Emperor plot of the PCoA matrix computed from Bray-Curtis.\")]"
   ]
  },
  {
   "cell_type": "code",
   "execution_count": 14,
   "id": "2264925a",
   "metadata": {
    "execution": {
     "iopub.execute_input": "2024-03-05T23:24:57.420668Z",
     "iopub.status.busy": "2024-03-05T23:24:57.420507Z",
     "iopub.status.idle": "2024-03-05T23:24:57.706922Z",
     "shell.execute_reply": "2024-03-05T23:24:57.706490Z"
    },
    "papermill": {
     "duration": 0.292263,
     "end_time": "2024-03-05T23:24:57.707876",
     "exception": false,
     "start_time": "2024-03-05T23:24:57.415613",
     "status": "completed"
    },
    "tags": []
   },
   "outputs": [
    {
     "name": "stdout",
     "output_type": "stream",
     "text": [
      "13 unweighted_unifrac_emperor Visualization\n",
      "--- Emperor plot of the PCoA matrix computed from unweighted UniFrac. ---\n",
      "Saving emperor file at: /mnt/nupeb/rede-micro/redemicro-ana-flavia-nutri/experiments/ana-flavia-NRxHSD-NR-trim/qiime-artifacts/beta-analysis/unweighted_unifrac_emperor.qzv\n",
      "\n",
      "14 weighted_unifrac_emperor Visualization\n",
      "--- Emperor plot of the PCoA matrix computed from weighted UniFrac. ---\n",
      "Saving emperor file at: /mnt/nupeb/rede-micro/redemicro-ana-flavia-nutri/experiments/ana-flavia-NRxHSD-NR-trim/qiime-artifacts/beta-analysis/weighted_unifrac_emperor.qzv\n",
      "\n",
      "15 jaccard_emperor Visualization\n",
      "--- Emperor plot of the PCoA matrix computed from Jaccard. ---\n",
      "Saving emperor file at: /mnt/nupeb/rede-micro/redemicro-ana-flavia-nutri/experiments/ana-flavia-NRxHSD-NR-trim/qiime-artifacts/beta-analysis/jaccard_emperor.qzv\n",
      "\n"
     ]
    },
    {
     "name": "stdout",
     "output_type": "stream",
     "text": [
      "16 bray_curtis_emperor Visualization\n",
      "--- Emperor plot of the PCoA matrix computed from Bray-Curtis. ---\n",
      "Saving emperor file at: /mnt/nupeb/rede-micro/redemicro-ana-flavia-nutri/experiments/ana-flavia-NRxHSD-NR-trim/qiime-artifacts/beta-analysis/bray_curtis_emperor.qzv\n",
      "\n"
     ]
    }
   ],
   "source": [
    "distance_matrix = dict()\n",
    "for i, info in enumerate(results_info):\n",
    "    r_id, r_type, r_desc = info\n",
    "    #print(i, r_id, r_type)\n",
    "    file_name = f\"{r_id}.qzv\"\n",
    "    if r_type == \"FeatureTable[Frequency]\":\n",
    "        pass\n",
    "    elif r_type == \"DistanceMatrix\":\n",
    "        distance_matrix[r_id] = results[i]\n",
    "    elif r_id.endswith('emperor'):\n",
    "        print(i, r_id, r_type)\n",
    "        print(f\"--- {r_desc} ---\")\n",
    "        file_name = os.path.join(beta_path, file_name)\n",
    "        print(f'Saving emperor file at: {file_name}\\n')\n",
    "        results[i].save(filepath=file_name)"
   ]
  },
  {
   "cell_type": "markdown",
   "id": "c7752cfd",
   "metadata": {
    "papermill": {
     "duration": 0.00443,
     "end_time": "2024-03-05T23:24:57.717042",
     "exception": false,
     "start_time": "2024-03-05T23:24:57.712612",
     "status": "completed"
    },
    "tags": []
   },
   "source": [
    "### Alpha diversity correlation\n",
    "\n",
    "This method only process `numeric` columns.\n"
   ]
  },
  {
   "cell_type": "code",
   "execution_count": 15,
   "id": "2814f613",
   "metadata": {
    "ExecuteTime": {
     "end_time": "2022-09-29T20:54:35.317618Z",
     "start_time": "2022-09-29T20:54:35.312094Z"
    },
    "execution": {
     "iopub.execute_input": "2024-03-05T23:24:57.726623Z",
     "iopub.status.busy": "2024-03-05T23:24:57.726459Z",
     "iopub.status.idle": "2024-03-05T23:24:57.730780Z",
     "shell.execute_reply": "2024-03-05T23:24:57.730347Z"
    },
    "papermill": {
     "duration": 0.010179,
     "end_time": "2024-03-05T23:24:57.731671",
     "exception": false,
     "start_time": "2024-03-05T23:24:57.721492",
     "status": "completed"
    },
    "tags": []
   },
   "outputs": [],
   "source": [
    "methods = ('spearman', 'pearson')\n",
    "numerics_cols = metadata_qa.filter_columns(column_type='numeric')\n",
    "if numerics_cols.column_count > 0:\n",
    "    for metric, alpha_values in alpha_diversities.items():\n",
    "        for method in methods:\n",
    "            try:\n",
    "                corr_view = alpha_correlation(alpha_diversity=alpha_values, metadata=numerics_cols, \n",
    "                                          method=method, intersect_ids=True).visualization\n",
    "                view_path = os.path.join(alpha_path, f'alpha-correlation-{metric}-{method}.qzv')\n",
    "                corr_view.save(view_path)\n",
    "                corr_view\n",
    "                print(f\"DONE: Calculating alpha correlation: {metric} {method}\")\n",
    "            except Exception as e:\n",
    "                print(f\"ERROR: Calculating alpha correlation: {metric} {method}\")"
   ]
  },
  {
   "cell_type": "markdown",
   "id": "8ea83c8a",
   "metadata": {
    "papermill": {
     "duration": 0.004517,
     "end_time": "2024-03-05T23:24:57.740736",
     "exception": false,
     "start_time": "2024-03-05T23:24:57.736219",
     "status": "completed"
    },
    "tags": []
   },
   "source": [
    "## Alpha diversity comparisons\n",
    "\n",
    "Visually and statistically compare groups of alpha diversity values.\n",
    "\n",
    "[diversity alpha_group_significance](https://docs.qiime2.org/2022.8/plugins/available/diversity/alpha-group-significance/)"
   ]
  },
  {
   "cell_type": "code",
   "execution_count": 16,
   "id": "276d1c18",
   "metadata": {
    "ExecuteTime": {
     "end_time": "2022-09-29T20:54:36.089290Z",
     "start_time": "2022-09-29T20:54:35.318963Z"
    },
    "execution": {
     "iopub.execute_input": "2024-03-05T23:24:57.750393Z",
     "iopub.status.busy": "2024-03-05T23:24:57.750241Z",
     "iopub.status.idle": "2024-03-05T23:24:58.212883Z",
     "shell.execute_reply": "2024-03-05T23:24:58.212443Z"
    },
    "papermill": {
     "duration": 0.46863,
     "end_time": "2024-03-05T23:24:58.213882",
     "exception": false,
     "start_time": "2024-03-05T23:24:57.745252",
     "status": "completed"
    },
    "tags": []
   },
   "outputs": [
    {
     "name": "stdout",
     "output_type": "stream",
     "text": [
      "Processing alpha_group_significance: chao1\n"
     ]
    },
    {
     "name": "stdout",
     "output_type": "stream",
     "text": [
      "DONE: Calculating alpha group significance: chao1\n",
      "Processing alpha_group_significance: chao1_ci\n",
      "ERROR: Calculating alpha group significance: chao1_ci\n",
      "Processing alpha_group_significance: observed_features\n",
      "DONE: Calculating alpha group significance: observed_features\n",
      "Processing alpha_group_significance: shannon\n"
     ]
    },
    {
     "name": "stdout",
     "output_type": "stream",
     "text": [
      "DONE: Calculating alpha group significance: shannon\n",
      "Processing alpha_group_significance: simpson\n"
     ]
    },
    {
     "name": "stdout",
     "output_type": "stream",
     "text": [
      "DONE: Calculating alpha group significance: simpson\n",
      "Processing alpha_group_significance: simpson_e\n",
      "DONE: Calculating alpha group significance: simpson_e\n"
     ]
    }
   ],
   "source": [
    "for metric, alpha_values in alpha_diversities.items():\n",
    "    print(f\"Processing alpha_group_significance: {metric}\")\n",
    "    try:\n",
    "        significance_view = alpha_group_significance(alpha_diversity=alpha_values, metadata=metadata_qa).visualization\n",
    "        view_path = os.path.join(alpha_path, f'alpha-group-significance-{metric}.qzv')\n",
    "        significance_view.save(view_path)\n",
    "        significance_view\n",
    "        print(f\"DONE: Calculating alpha group significance: {metric}\")\n",
    "    except Exception as e:\n",
    "        print(f\"ERROR: Calculating alpha group significance: {metric}\")"
   ]
  },
  {
   "cell_type": "markdown",
   "id": "4349d357",
   "metadata": {
    "papermill": {
     "duration": 0.004546,
     "end_time": "2024-03-05T23:24:58.223348",
     "exception": false,
     "start_time": "2024-03-05T23:24:58.218802",
     "status": "completed"
    },
    "tags": []
   },
   "source": [
    "## Beta diversity analysis\n",
    "\n",
    "#### Reference\n",
    "- [diversity beta](https://docs.qiime2.org/2022.8/plugins/available/diversity/beta/): Computes a user-specified beta diversity metric for all pairs of samples in a feature table.\n",
    "- [Beta diversity metrics](http://scikit-bio.org/docs/0.2.0/generated/skbio.diversity.beta.html)\n",
    "\n",
    "- Metric Choices('aitchison', 'braycurtis', 'canberra', 'canberra_adkins', 'chebyshev', 'cityblock', 'correlation', 'cosine', 'dice', 'euclidean', 'hamming', 'jaccard', 'jensenshannon', 'kulsinski', 'matching', 'minkowski', 'rogerstanimoto', 'russellrao', 'seuclidean', 'sokalmichener', 'sokalsneath', 'sqeuclidean', 'yule')"
   ]
  },
  {
   "cell_type": "code",
   "execution_count": 17,
   "id": "f6f358dd",
   "metadata": {
    "ExecuteTime": {
     "end_time": "2022-09-29T20:54:36.335038Z",
     "start_time": "2022-09-29T20:54:36.091288Z"
    },
    "execution": {
     "iopub.execute_input": "2024-03-05T23:24:58.233337Z",
     "iopub.status.busy": "2024-03-05T23:24:58.233148Z",
     "iopub.status.idle": "2024-03-05T23:24:58.563975Z",
     "shell.execute_reply": "2024-03-05T23:24:58.563528Z"
    },
    "papermill": {
     "duration": 0.336966,
     "end_time": "2024-03-05T23:24:58.564922",
     "exception": false,
     "start_time": "2024-03-05T23:24:58.227956",
     "status": "completed"
    },
    "tags": []
   },
   "outputs": [
    {
     "name": "stdout",
     "output_type": "stream",
     "text": [
      "Calculating beta diversity: euclidean\n"
     ]
    },
    {
     "name": "stdout",
     "output_type": "stream",
     "text": [
      "DONE: Calculating beta diversity: euclidean\n",
      "Calculating beta diversity: dice\n"
     ]
    },
    {
     "name": "stdout",
     "output_type": "stream",
     "text": [
      "DONE: Calculating beta diversity: dice\n",
      "Calculating beta diversity: braycurtis\n",
      "DONE: Calculating beta diversity: braycurtis\n",
      "Calculating beta diversity: correlation\n",
      "ERROR: Calculating beta diversity: correlation\n",
      "Calculating beta diversity: cosine\n"
     ]
    },
    {
     "name": "stdout",
     "output_type": "stream",
     "text": [
      "ERROR: Calculating beta diversity: cosine\n",
      "Calculating beta diversity: matching\n"
     ]
    },
    {
     "name": "stderr",
     "output_type": "stream",
     "text": [
      "/home/lauro/anaconda3/envs/qiime2-2023.5/lib/python3.8/site-packages/sklearn/metrics/pairwise.py:1761: DataConversionWarning: Data was converted to boolean for metric dice\n",
      "  warnings.warn(msg, DataConversionWarning)\n",
      "/home/lauro/anaconda3/envs/qiime2-2023.5/lib/python3.8/site-packages/sklearn/metrics/pairwise.py:1761: DataConversionWarning: Data was converted to boolean for metric matching\n",
      "  warnings.warn(msg, DataConversionWarning)\n"
     ]
    },
    {
     "name": "stdout",
     "output_type": "stream",
     "text": [
      "DONE: Calculating beta diversity: matching\n",
      "Calculating beta diversity: jaccard\n"
     ]
    },
    {
     "name": "stdout",
     "output_type": "stream",
     "text": [
      "DONE: Calculating beta diversity: jaccard\n"
     ]
    },
    {
     "name": "stderr",
     "output_type": "stream",
     "text": [
      "/home/lauro/anaconda3/envs/qiime2-2023.5/lib/python3.8/site-packages/sklearn/metrics/pairwise.py:1761: DataConversionWarning: Data was converted to boolean for metric jaccard\n",
      "  warnings.warn(msg, DataConversionWarning)\n"
     ]
    }
   ],
   "source": [
    "metrics = ('aitchison', 'braycurtis', 'canberra', 'canberra_adkins', 'chebyshev', 'cityblock', 'correlation', 'cosine', 'dice', 'euclidean', 'hamming', 'jaccard', 'jensenshannon', 'kulsinski', 'matching', 'minkowski', 'rogerstanimoto', 'russellrao', 'seuclidean', 'sokalmichener', 'sokalsneath', 'sqeuclidean', 'yule')\n",
    "metrics = ('euclidean', 'dice', 'braycurtis', 'correlation', 'cosine', 'matching', 'jaccard')\n",
    "beta_diversities = dict()\n",
    "for metric in metrics:\n",
    "    print(f\"Calculating beta diversity: {metric}\")\n",
    "    try:\n",
    "        beta_diversity = beta(table=tabs, metric=metric, n_jobs=6, pseudocount=1).distance_matrix\n",
    "        beta_diversities[metric] = beta_diversity\n",
    "        # Save SampleData[BetaDiversity] Artifact\n",
    "        file_path = os.path.join(beta_path, f'beta-values-{metric}.qza')\n",
    "        beta_diversity.save(file_path)\n",
    "        print(f\"DONE: Calculating beta diversity: {metric}\")\n",
    "    except Exception as e:\n",
    "        print(f\"ERROR: Calculating beta diversity: {metric}\")"
   ]
  },
  {
   "cell_type": "markdown",
   "id": "200a2fa7",
   "metadata": {
    "papermill": {
     "duration": 0.004892,
     "end_time": "2024-03-05T23:24:58.575084",
     "exception": false,
     "start_time": "2024-03-05T23:24:58.570192",
     "status": "completed"
    },
    "tags": []
   },
   "source": [
    "### Beta group significance\n",
    "\n",
    "- [diversity beta_group_significance](https://docs.qiime2.org/2022.8/plugins/available/diversity/beta-group-significance/): Determine whether groups of samples are significantly different from one another using a permutation-based statistical test.\n",
    "- Marti J Anderson. A new method for non-parametric multivariate analysis of variance. Austral ecology, 26(1):32–46, 2001. doi:https://doi.org/10.1111/j.1442-9993.2001.01070.pp.x."
   ]
  },
  {
   "cell_type": "code",
   "execution_count": 18,
   "id": "b8dd42b6",
   "metadata": {
    "ExecuteTime": {
     "end_time": "2022-09-29T20:55:08.313860Z",
     "start_time": "2022-09-29T20:54:36.336993Z"
    },
    "execution": {
     "iopub.execute_input": "2024-03-05T23:24:58.585648Z",
     "iopub.status.busy": "2024-03-05T23:24:58.585504Z",
     "iopub.status.idle": "2024-03-05T23:25:16.083086Z",
     "shell.execute_reply": "2024-03-05T23:25:16.082743Z"
    },
    "papermill": {
     "duration": 17.503979,
     "end_time": "2024-03-05T23:25:16.084018",
     "exception": false,
     "start_time": "2024-03-05T23:24:58.580039",
     "status": "completed"
    },
    "tags": []
   },
   "outputs": [
    {
     "name": "stdout",
     "output_type": "stream",
     "text": [
      "Calculating beta group significance with method permanova and metric euclidean\n"
     ]
    },
    {
     "name": "stdout",
     "output_type": "stream",
     "text": [
      "DONE: Calculating beta group significance: permanova euclidean\n",
      "Calculating beta group significance with method permanova and metric dice\n"
     ]
    },
    {
     "name": "stdout",
     "output_type": "stream",
     "text": [
      "DONE: Calculating beta group significance: permanova dice\n",
      "Calculating beta group significance with method permanova and metric braycurtis\n"
     ]
    },
    {
     "name": "stdout",
     "output_type": "stream",
     "text": [
      "DONE: Calculating beta group significance: permanova braycurtis\n",
      "Calculating beta group significance with method permanova and metric matching\n"
     ]
    },
    {
     "name": "stdout",
     "output_type": "stream",
     "text": [
      "DONE: Calculating beta group significance: permanova matching\n",
      "Calculating beta group significance with method permanova and metric jaccard\n"
     ]
    },
    {
     "name": "stdout",
     "output_type": "stream",
     "text": [
      "DONE: Calculating beta group significance: permanova jaccard\n",
      "Calculating beta group significance with method anosim and metric euclidean\n"
     ]
    },
    {
     "name": "stdout",
     "output_type": "stream",
     "text": [
      "DONE: Calculating beta group significance: anosim euclidean\n",
      "Calculating beta group significance with method anosim and metric dice\n"
     ]
    },
    {
     "name": "stdout",
     "output_type": "stream",
     "text": [
      "DONE: Calculating beta group significance: anosim dice\n",
      "Calculating beta group significance with method anosim and metric braycurtis\n"
     ]
    },
    {
     "name": "stdout",
     "output_type": "stream",
     "text": [
      "DONE: Calculating beta group significance: anosim braycurtis\n",
      "Calculating beta group significance with method anosim and metric matching\n"
     ]
    },
    {
     "name": "stdout",
     "output_type": "stream",
     "text": [
      "DONE: Calculating beta group significance: anosim matching\n",
      "Calculating beta group significance with method anosim and metric jaccard\n"
     ]
    },
    {
     "name": "stdout",
     "output_type": "stream",
     "text": [
      "DONE: Calculating beta group significance: anosim jaccard\n",
      "Calculating beta group significance with method permdisp and metric euclidean\n"
     ]
    },
    {
     "name": "stdout",
     "output_type": "stream",
     "text": [
      "DONE: Calculating beta group significance: permdisp euclidean\n",
      "Calculating beta group significance with method permdisp and metric dice\n"
     ]
    },
    {
     "name": "stdout",
     "output_type": "stream",
     "text": [
      "DONE: Calculating beta group significance: permdisp dice\n",
      "Calculating beta group significance with method permdisp and metric braycurtis\n"
     ]
    },
    {
     "name": "stdout",
     "output_type": "stream",
     "text": [
      "DONE: Calculating beta group significance: permdisp braycurtis\n",
      "Calculating beta group significance with method permdisp and metric matching\n"
     ]
    },
    {
     "name": "stdout",
     "output_type": "stream",
     "text": [
      "DONE: Calculating beta group significance: permdisp matching\n",
      "Calculating beta group significance with method permdisp and metric jaccard\n"
     ]
    },
    {
     "name": "stdout",
     "output_type": "stream",
     "text": [
      "DONE: Calculating beta group significance: permdisp jaccard\n"
     ]
    },
    {
     "data": {
      "text/plain": [
       "<Figure size 640x480 with 0 Axes>"
      ]
     },
     "metadata": {},
     "output_type": "display_data"
    }
   ],
   "source": [
    "methods = ('permanova', 'anosim', 'permdisp')\n",
    "for method in methods:\n",
    "    for metric, beta_diversity in beta_diversities.items():\n",
    "        print(f'Calculating beta group significance with method {method} and metric {metric}')\n",
    "        try:\n",
    "            beta_view = beta_group_significance(distance_matrix=beta_diversity, \n",
    "                                                metadata=metadata_qa.get_column(class_col), \n",
    "                                                pairwise=True, method=method).visualization\n",
    "            view_name = os.path.join(beta_path, f'beta-group-significance-{metric}-{method}.qzv')\n",
    "            beta_view.save(view_name)\n",
    "            print(f\"DONE: Calculating beta group significance: {method} {metric}\")\n",
    "        except Exception as e:\n",
    "            print(f\"ERROR: Calculating beta group significance: {method} {metric}\")"
   ]
  },
  {
   "cell_type": "code",
   "execution_count": 19,
   "id": "6366725e",
   "metadata": {
    "execution": {
     "iopub.execute_input": "2024-03-05T23:25:16.096528Z",
     "iopub.status.busy": "2024-03-05T23:25:16.096071Z",
     "iopub.status.idle": "2024-03-05T23:25:29.632794Z",
     "shell.execute_reply": "2024-03-05T23:25:29.632465Z"
    },
    "papermill": {
     "duration": 13.543888,
     "end_time": "2024-03-05T23:25:29.633752",
     "exception": false,
     "start_time": "2024-03-05T23:25:16.089864",
     "status": "completed"
    },
    "tags": []
   },
   "outputs": [
    {
     "name": "stdout",
     "output_type": "stream",
     "text": [
      "Calculating beta group significance with method permanova and metric unweighted_unifrac_distance_matrix\n"
     ]
    },
    {
     "name": "stdout",
     "output_type": "stream",
     "text": [
      "DONE: Calculating beta group significance: permanova unweighted_unifrac_distance_matrix\n",
      "Calculating beta group significance with method permanova and metric weighted_unifrac_distance_matrix\n"
     ]
    },
    {
     "name": "stdout",
     "output_type": "stream",
     "text": [
      "DONE: Calculating beta group significance: permanova weighted_unifrac_distance_matrix\n",
      "Calculating beta group significance with method permanova and metric jaccard_distance_matrix\n"
     ]
    },
    {
     "name": "stdout",
     "output_type": "stream",
     "text": [
      "DONE: Calculating beta group significance: permanova jaccard_distance_matrix\n",
      "Calculating beta group significance with method permanova and metric bray_curtis_distance_matrix\n"
     ]
    },
    {
     "name": "stdout",
     "output_type": "stream",
     "text": [
      "DONE: Calculating beta group significance: permanova bray_curtis_distance_matrix\n",
      "Calculating beta group significance with method anosim and metric unweighted_unifrac_distance_matrix\n"
     ]
    },
    {
     "name": "stdout",
     "output_type": "stream",
     "text": [
      "DONE: Calculating beta group significance: anosim unweighted_unifrac_distance_matrix\n",
      "Calculating beta group significance with method anosim and metric weighted_unifrac_distance_matrix\n"
     ]
    },
    {
     "name": "stdout",
     "output_type": "stream",
     "text": [
      "DONE: Calculating beta group significance: anosim weighted_unifrac_distance_matrix\n",
      "Calculating beta group significance with method anosim and metric jaccard_distance_matrix\n"
     ]
    },
    {
     "name": "stdout",
     "output_type": "stream",
     "text": [
      "DONE: Calculating beta group significance: anosim jaccard_distance_matrix\n",
      "Calculating beta group significance with method anosim and metric bray_curtis_distance_matrix\n"
     ]
    },
    {
     "name": "stdout",
     "output_type": "stream",
     "text": [
      "DONE: Calculating beta group significance: anosim bray_curtis_distance_matrix\n",
      "Calculating beta group significance with method permdisp and metric unweighted_unifrac_distance_matrix\n"
     ]
    },
    {
     "name": "stdout",
     "output_type": "stream",
     "text": [
      "DONE: Calculating beta group significance: permdisp unweighted_unifrac_distance_matrix\n",
      "Calculating beta group significance with method permdisp and metric weighted_unifrac_distance_matrix\n"
     ]
    },
    {
     "name": "stderr",
     "output_type": "stream",
     "text": [
      "/home/lauro/anaconda3/envs/qiime2-2023.5/lib/python3.8/site-packages/skbio/stats/ordination/_principal_coordinate_analysis.py:143: RuntimeWarning: The result contains negative eigenvalues. Please compare their magnitude with the magnitude of some of the largest positive eigenvalues. If the negative ones are smaller, it's probably safe to ignore them, but if they are large in magnitude, the results won't be useful. See the Notes section for more details. The smallest eigenvalue is -0.015512895914956365 and the largest is 0.9770807868969567.\n",
      "  warn(\n"
     ]
    },
    {
     "name": "stderr",
     "output_type": "stream",
     "text": [
      "/home/lauro/anaconda3/envs/qiime2-2023.5/lib/python3.8/site-packages/skbio/stats/ordination/_principal_coordinate_analysis.py:143: RuntimeWarning: The result contains negative eigenvalues. Please compare their magnitude with the magnitude of some of the largest positive eigenvalues. If the negative ones are smaller, it's probably safe to ignore them, but if they are large in magnitude, the results won't be useful. See the Notes section for more details. The smallest eigenvalue is -0.015512895914956526 and the largest is 0.9770807868969563.\n",
      "  warn(\n"
     ]
    },
    {
     "name": "stdout",
     "output_type": "stream",
     "text": [
      "DONE: Calculating beta group significance: permdisp weighted_unifrac_distance_matrix\n",
      "Calculating beta group significance with method permdisp and metric jaccard_distance_matrix\n"
     ]
    },
    {
     "name": "stdout",
     "output_type": "stream",
     "text": [
      "DONE: Calculating beta group significance: permdisp jaccard_distance_matrix\n",
      "Calculating beta group significance with method permdisp and metric bray_curtis_distance_matrix\n"
     ]
    },
    {
     "name": "stdout",
     "output_type": "stream",
     "text": [
      "DONE: Calculating beta group significance: permdisp bray_curtis_distance_matrix\n"
     ]
    },
    {
     "data": {
      "text/plain": [
       "<Figure size 640x480 with 0 Axes>"
      ]
     },
     "metadata": {},
     "output_type": "display_data"
    }
   ],
   "source": [
    "# Expand tests using UNIFRAC metrics\n",
    "methods = ('permanova', 'anosim', 'permdisp')\n",
    "for method in methods:\n",
    "    for metric, beta_diversity in distance_matrix.items():\n",
    "        print(f'Calculating beta group significance with method {method} and metric {metric}')\n",
    "        try:\n",
    "            beta_view = beta_group_significance(distance_matrix=beta_diversity, \n",
    "                                                metadata=metadata_qa.get_column(class_col), \n",
    "                                                pairwise=True, method=method).visualization\n",
    "            view_name = os.path.join(beta_path, f'beta-group-significance-{metric}-{method}.qzv')\n",
    "            beta_view.save(view_name)\n",
    "            print(f\"DONE: Calculating beta group significance: {method} {metric}\")\n",
    "        except Exception as e:\n",
    "            print(f\"ERROR: Calculating beta group significance: {method} {metric}\")"
   ]
  },
  {
   "cell_type": "markdown",
   "id": "c0de85cf",
   "metadata": {
    "papermill": {
     "duration": 0.005806,
     "end_time": "2024-03-05T23:25:29.645734",
     "exception": false,
     "start_time": "2024-03-05T23:25:29.639928",
     "status": "completed"
    },
    "tags": []
   },
   "source": [
    "### Beta group Rarefaction\n",
    "\n",
    "- [diversity beta_rarefaction](https://docs.qiime2.org/2022.8/plugins/available/diversity/beta-rarefaction/): Repeatedly rarefy a feature table to compare beta diversity results within a given rarefaction depth.  For a given beta diversity metric, this visualizer will provide: an Emperor jackknifed PCoA plot, samples clustered by UPGMA or neighbor joining with support calculation, and a heatmap showing the correlation between rarefaction trials of that beta diversity metric."
   ]
  }
 ],
 "metadata": {
  "celltoolbar": "Edit Metadata",
  "kernelspec": {
   "display_name": "Python 3 (ipykernel)",
   "language": "python",
   "name": "python3"
  },
  "language_info": {
   "codemirror_mode": {
    "name": "ipython",
    "version": 3
   },
   "file_extension": ".py",
   "mimetype": "text/x-python",
   "name": "python",
   "nbconvert_exporter": "python",
   "pygments_lexer": "ipython3",
   "version": "3.8.16"
  },
  "papermill": {
   "default_parameters": {},
   "duration": 48.275418,
   "end_time": "2024-03-05T23:25:30.568517",
   "environment_variables": {},
   "exception": null,
   "input_path": "nb-templates/step-diversity-analysis.ipynb",
   "output_path": "/mnt/nupeb/rede-micro/redemicro-ana-flavia-nutri/experiments/ana-flavia-NRxHSD-NR-trim/nb-executed-steps/step-diversity-analysis-ana-flavia-NRxHSD-NR-trim.ipynb",
   "parameters": {
    "base_dir": "/mnt/nupeb/rede-micro/redemicro-ana-flavia-nutri",
    "class_col": "group-id",
    "classifier_file": "/mnt/nupeb/rede-micro/datasets/16S_classifiers_qiime2/silva-138-99-nb-classifier.qza",
    "experiment_name": "ana-flavia-NRxHSD-NR-trim",
    "manifest_file": "/mnt/nupeb/rede-micro/redemicro-ana-flavia-nutri/data/raw/manifest/manifest-ana-flavia-NRxHSD-NR.csv",
    "metadata_file": "/mnt/nupeb/rede-micro/redemicro-ana-flavia-nutri/data/raw/metadata/metadata-ana-flavia-NRxHSD-NR.tsv",
    "overlap": 12,
    "phred": 20,
    "replace_files": false,
    "threads": 6,
    "top_n": 20,
    "trim": {
     "forward_primer": "CCTACGGGRSGCAGCAG",
     "overlap": 8,
     "reverse_primer": "GGACTACHVGGGTWTCTAAT"
    },
    "trunc_f": 0,
    "trunc_r": 0
   },
   "start_time": "2024-03-05T23:24:42.293099",
   "version": "2.4.0"
  }
 },
 "nbformat": 4,
 "nbformat_minor": 5
}