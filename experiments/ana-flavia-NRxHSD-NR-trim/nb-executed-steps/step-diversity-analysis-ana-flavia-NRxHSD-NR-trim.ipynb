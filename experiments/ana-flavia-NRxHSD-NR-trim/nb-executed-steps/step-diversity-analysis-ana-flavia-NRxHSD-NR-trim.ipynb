{
 "cells": [
  {
   "cell_type": "markdown",
   "id": "15bcfa06",
   "metadata": {
    "papermill": {
     "duration": 0.027272,
     "end_time": "2023-09-14T15:22:57.428255",
     "exception": false,
     "start_time": "2023-09-14T15:22:57.400983",
     "status": "completed"
    },
    "tags": []
   },
   "source": [
    " \n",
    "# Alpha and Beta Diversity\n",
    "\n",
    "Different higher-level measures are often used to describe the microbiome in a sample. These do not provide information on changes in the abundance of specific taxa but allow us to access a broader change or difference in the composition of microorganisms. Alpha and beta diversity are examples of such measures.\n",
    "\n",
    "Different measures exist to estimate diversity within a single sample, jointly called alpha diversity. The different measures reflect the richness (number) or distribution (evenness) of a microbial sample or aim to reflect a combination of both properties.\n",
    "\n",
    "Rarefaction curves are often used when calculating alpha diversity indices because increasing numbers of sequenced taxa allow increasingly accurate estimates of total population diversity. Rarefaction curves can therefore be used to estimate the full sample richness, as compared to the observed sample richness.\n",
    "\n",
    "While alpha diversity is a measure of microbiome diversity applicable to a single sample, beta diversity is a measure of the similarity or dissimilarity of two communities. As for alpha diversity, many indices exist, each reflecting different aspects of community heterogeneity. Key differences relate to how the indices value variation in rare species if they consider presence/absence only or incorporate abundance, and how they interpret shared absence. Bray-Curtis dissimilarity is a popular measure that considers both size (overall abundance per sample) and shape (abundance of each taxon) of the communities (Bray, 1957). Beta diversity is an essential measure for many popular statistical methods in ecology, such as ordination-based methods, and is widely used for studying the association between environmental variables and microbial composition.\n",
    "\n",
    "In summary, alpha diversity measures can be seen as a summary statistic of a single population (within-sample diversity), while beta diversity measures are estimates of similarity or dissimilarity between populations (between samples).\n",
    "\n",
    "**Source**: (https://biomcare.com/info/key-terms-in-microbiome-projects/)"
   ]
  },
  {
   "cell_type": "markdown",
   "id": "0e7f2330",
   "metadata": {
    "ExecuteTime": {
     "end_time": "2022-09-22T19:36:33.828188Z",
     "start_time": "2022-09-22T19:36:33.817323Z"
    },
    "papermill": {
     "duration": 0.0243,
     "end_time": "2023-09-14T15:22:57.471951",
     "exception": false,
     "start_time": "2023-09-14T15:22:57.447651",
     "status": "completed"
    },
    "tags": []
   },
   "source": [
    "### STEP : Diversity Analysis\n",
    "\n",
    "Using QIIME2 to create diversity analisys graphs and calculations.\n",
    "\n",
    "- [QIIME2 Workflow Overview](https://docs.qiime2.org/2022.8/tutorials/overview/)\n",
    "\n",
    "\n",
    "#### Methods\n",
    "- [diversity](https://docs.qiime2.org/2022.8/plugins/available/diversity/)\n",
    "- [diversity alpha](https://docs.qiime2.org/2022.8/plugins/available/diversity/alpha/)\n",
    "- [diversity alpha_phylogenetic](https://docs.qiime2.org/2022.8/plugins/available/diversity/alpha-phylogenetic/)\n",
    "- [diversity beta](https://docs.qiime2.org/2022.8/plugins/available/diversity/beta/)\n",
    "- [diversity core_metrics](https://docs.qiime2.org/2022.8/plugins/available/diversity/core-metrics/)\n",
    "- [diversity alpha_group_significance](https://docs.qiime2.org/2022.8/plugins/available/diversity/alpha-group-significance/)\n",
    "- [diversity beta_group_significance](https://docs.qiime2.org/2022.8/plugins/available/diversity/beta-group-significance/)\n",
    "- [feature_table core_features](https://docs.qiime2.org/2022.8/plugins/available/feature-table/core-features/)\n",
    "- [feature_table summarize](https://docs.qiime2.org/2022.8/plugins/available/feature-table/summarize/)\n",
    "- [taxa filter-table](https://docs.qiime2.org/2022.8/plugins/available/taxa/filter-table/)\n",
    "- [taxa collapse](https://docs.qiime2.org/2022.8/plugins/available/taxa/collapse/)"
   ]
  },
  {
   "cell_type": "markdown",
   "id": "843debbf",
   "metadata": {
    "papermill": {
     "duration": 0.01748,
     "end_time": "2023-09-14T15:22:57.507170",
     "exception": false,
     "start_time": "2023-09-14T15:22:57.489690",
     "status": "completed"
    },
    "tags": []
   },
   "source": [
    "## Setup and settings"
   ]
  },
  {
   "cell_type": "code",
   "execution_count": 1,
   "id": "965e28e5",
   "metadata": {
    "ExecuteTime": {
     "end_time": "2022-11-03T20:35:26.198671Z",
     "start_time": "2022-11-03T20:35:06.473173Z"
    },
    "execution": {
     "iopub.execute_input": "2023-09-14T15:22:57.549238Z",
     "iopub.status.busy": "2023-09-14T15:22:57.548645Z",
     "iopub.status.idle": "2023-09-14T15:23:04.058794Z",
     "shell.execute_reply": "2023-09-14T15:23:04.058097Z"
    },
    "papermill": {
     "duration": 6.537406,
     "end_time": "2023-09-14T15:23:04.061923",
     "exception": false,
     "start_time": "2023-09-14T15:22:57.524517",
     "status": "completed"
    },
    "tags": []
   },
   "outputs": [],
   "source": [
    "# Importing packages\n",
    "import os\n",
    "import pandas as pd\n",
    "from qiime2 import Artifact\n",
    "from qiime2 import Visualization\n",
    "from qiime2 import Metadata\n",
    "\n",
    "from qiime2.plugins.phylogeny.pipelines import align_to_tree_mafft_fasttree\n",
    "\n",
    "from qiime2.plugins.diversity.pipelines import alpha\n",
    "from qiime2.plugins.diversity.pipelines import beta\n",
    "from qiime2.plugins.diversity.pipelines import core_metrics\n",
    "from qiime2.plugins.diversity.pipelines import alpha_phylogenetic\n",
    "\n",
    "from qiime2.plugins.diversity.visualizers import alpha_group_significance\n",
    "from qiime2.plugins.diversity.visualizers import beta_group_significance\n",
    "from qiime2.plugins.diversity.visualizers import alpha_correlation\n",
    "from qiime2.plugins.diversity.visualizers import beta_rarefaction\n",
    "\n",
    "from qiime2.plugins.taxa.methods import filter_table\n",
    "from qiime2.plugins.taxa.methods import collapse\n",
    "\n",
    "from qiime2.plugins.feature_table.visualizers import tabulate_seqs\n",
    "from qiime2.plugins.feature_table.visualizers import summarize\n",
    "from qiime2.plugins.feature_table.visualizers import core_features\n",
    "from qiime2.plugins.diversity.pipelines import core_metrics_phylogenetic\n",
    "\n",
    "from qiime2.plugins.feature_table.methods import filter_samples\n",
    "from qiime2.plugins.feature_table.methods import filter_seqs\n",
    "\n",
    "from qiime2.plugins.alignment.methods import mafft\n",
    "\n",
    "\n",
    "import matplotlib.pyplot as plt\n",
    "\n",
    "%matplotlib inline"
   ]
  },
  {
   "cell_type": "markdown",
   "id": "530ceb60",
   "metadata": {
    "papermill": {
     "duration": 0.016932,
     "end_time": "2023-09-14T15:23:04.100112",
     "exception": false,
     "start_time": "2023-09-14T15:23:04.083180",
     "status": "completed"
    },
    "tags": []
   },
   "source": [
    "### Receiving the parameters\n",
    "\n",
    "The following cell can receive parameters using the [papermill](https://papermill.readthedocs.io/en/latest/) tool."
   ]
  },
  {
   "cell_type": "code",
   "execution_count": 2,
   "id": "18d874ea",
   "metadata": {
    "ExecuteTime": {
     "end_time": "2022-09-29T20:54:14.793270Z",
     "start_time": "2022-09-29T20:54:14.789367Z"
    },
    "execution": {
     "iopub.execute_input": "2023-09-14T15:23:04.152667Z",
     "iopub.status.busy": "2023-09-14T15:23:04.152202Z",
     "iopub.status.idle": "2023-09-14T15:23:04.157222Z",
     "shell.execute_reply": "2023-09-14T15:23:04.156525Z"
    },
    "papermill": {
     "duration": 0.024961,
     "end_time": "2023-09-14T15:23:04.158935",
     "exception": false,
     "start_time": "2023-09-14T15:23:04.133974",
     "status": "completed"
    },
    "tags": [
     "parameters"
    ]
   },
   "outputs": [],
   "source": [
    "base_dir = os.path.join('/', 'home')\n",
    "metadata_file = os.path.abspath(os.path.join(base_dir, 'data', 'metadatada.tsv'))\n",
    "experiment_name = ''\n",
    "class_col = ''\n",
    "replace_files = False"
   ]
  },
  {
   "cell_type": "code",
   "execution_count": 3,
   "id": "5fe2f783",
   "metadata": {
    "execution": {
     "iopub.execute_input": "2023-09-14T15:23:04.195004Z",
     "iopub.status.busy": "2023-09-14T15:23:04.194728Z",
     "iopub.status.idle": "2023-09-14T15:23:04.200050Z",
     "shell.execute_reply": "2023-09-14T15:23:04.199342Z"
    },
    "papermill": {
     "duration": 0.024957,
     "end_time": "2023-09-14T15:23:04.201584",
     "exception": false,
     "start_time": "2023-09-14T15:23:04.176627",
     "status": "completed"
    },
    "tags": [
     "injected-parameters"
    ]
   },
   "outputs": [],
   "source": [
    "# Parameters\n",
    "experiment_name = \"ana-flavia-NRxHSD-NR-trim\"\n",
    "base_dir = \"/home/lauro/nupeb/rede-micro/redemicro-ana-flavia-nutri\"\n",
    "manifest_file = \"/home/lauro/nupeb/rede-micro/redemicro-ana-flavia-nutri/data/raw/manifest/manifest-ana-flavia-NRxHSD-NR.csv\"\n",
    "metadata_file = \"/home/lauro/nupeb/rede-micro/redemicro-ana-flavia-nutri/data/raw/metadata/metadata-ana-flavia-NRxHSD-NR.tsv\"\n",
    "class_col = \"group-id\"\n",
    "classifier_file = \"/home/lauro/nupeb/rede-micro/models/silva-138-99-nb-classifier.qza\"\n",
    "top_n = 20\n",
    "replace_files = False\n",
    "phred = 20\n",
    "trunc_f = 0\n",
    "trunc_r = 0\n",
    "overlap = 12\n",
    "threads = 6\n",
    "trim = {\n",
    "    \"overlap\": 8,\n",
    "    \"forward_primer\": \"CCTACGGGRSGCAGCAG\",\n",
    "    \"reverse_primer\": \"GGACTACHVGGGTWTCTAAT\",\n",
    "}\n"
   ]
  },
  {
   "cell_type": "code",
   "execution_count": 4,
   "id": "f38617d9",
   "metadata": {
    "ExecuteTime": {
     "end_time": "2022-09-29T20:54:14.804575Z",
     "start_time": "2022-09-29T20:54:14.794927Z"
    },
    "execution": {
     "iopub.execute_input": "2023-09-14T15:23:04.239093Z",
     "iopub.status.busy": "2023-09-14T15:23:04.238821Z",
     "iopub.status.idle": "2023-09-14T15:23:04.243319Z",
     "shell.execute_reply": "2023-09-14T15:23:04.242484Z"
    },
    "papermill": {
     "duration": 0.024734,
     "end_time": "2023-09-14T15:23:04.244974",
     "exception": false,
     "start_time": "2023-09-14T15:23:04.220240",
     "status": "completed"
    },
    "tags": []
   },
   "outputs": [],
   "source": [
    "experiment_folder = os.path.abspath(os.path.join(base_dir, 'experiments', experiment_name))\n",
    "img_folder = os.path.abspath(os.path.join(experiment_folder, 'imgs'))"
   ]
  },
  {
   "cell_type": "markdown",
   "id": "ea9b90fb",
   "metadata": {
    "papermill": {
     "duration": 0.017079,
     "end_time": "2023-09-14T15:23:04.279079",
     "exception": false,
     "start_time": "2023-09-14T15:23:04.262000",
     "status": "completed"
    },
    "tags": []
   },
   "source": [
    "### Defining names, paths and flags"
   ]
  },
  {
   "cell_type": "code",
   "execution_count": 5,
   "id": "45727eef",
   "metadata": {
    "ExecuteTime": {
     "end_time": "2022-09-29T20:54:14.816686Z",
     "start_time": "2022-09-29T20:54:14.806238Z"
    },
    "execution": {
     "iopub.execute_input": "2023-09-14T15:23:04.314226Z",
     "iopub.status.busy": "2023-09-14T15:23:04.313869Z",
     "iopub.status.idle": "2023-09-14T15:23:04.323957Z",
     "shell.execute_reply": "2023-09-14T15:23:04.323071Z"
    },
    "papermill": {
     "duration": 0.029907,
     "end_time": "2023-09-14T15:23:04.325992",
     "exception": false,
     "start_time": "2023-09-14T15:23:04.296085",
     "status": "completed"
    },
    "tags": []
   },
   "outputs": [],
   "source": [
    "# QIIME2 Artifacts folder\n",
    "qiime_folder = os.path.join(experiment_folder, 'qiime-artifacts')\n",
    "\n",
    "# Input - DADA2 Artifacts\n",
    "dada2_tabs_path = os.path.join(qiime_folder, 'dada2-tabs.qza')\n",
    "dada2_reps_path = os.path.join(qiime_folder, 'dada2-reps.qza')\n",
    "dada2_stat_path = os.path.join(qiime_folder, 'dada2-stat.qza')\n",
    "\n",
    "# Input - Taxonaomic Artifacts\n",
    "taxonomy_path = os.path.join(qiime_folder, 'metatax.qza')\n",
    "\n",
    "# Create folder to store Alpha files\n",
    "alpha_path = os.path.join(qiime_folder, 'alpha-analysis')\n",
    "if not os.path.exists(alpha_path):\n",
    "    os.makedirs(alpha_path)\n",
    "    print(f'The new directory is created in {alpha_path}')\n",
    "    \n",
    "# Create folder to store Beta files\n",
    "beta_path = os.path.join(qiime_folder, 'beta-analysis')\n",
    "if not os.path.exists(beta_path):\n",
    "    os.makedirs(beta_path)\n",
    "    print(f'The new directory is created in {beta_path}')\n",
    "\n",
    "# Output -Diversity Artifacts\n",
    "alpha_diversity_path = os.path.join(alpha_path, 'alpha-diversity.qza')\n",
    "alpha_diversity_view_path = os.path.join(alpha_path, 'alpha-diversity.qzv')\n",
    "beta_diversity_path = os.path.join(beta_path, 'beta-diversity.qza')\n",
    "beta_diversity_view_path = os.path.join(beta_path, 'beta-diversity.qzv')"
   ]
  },
  {
   "cell_type": "code",
   "execution_count": 6,
   "id": "601ae263",
   "metadata": {
    "ExecuteTime": {
     "end_time": "2022-09-29T20:54:14.829117Z",
     "start_time": "2022-09-29T20:54:14.818272Z"
    },
    "execution": {
     "iopub.execute_input": "2023-09-14T15:23:04.365173Z",
     "iopub.status.busy": "2023-09-14T15:23:04.364770Z",
     "iopub.status.idle": "2023-09-14T15:23:04.374686Z",
     "shell.execute_reply": "2023-09-14T15:23:04.373761Z"
    },
    "papermill": {
     "duration": 0.03006,
     "end_time": "2023-09-14T15:23:04.376616",
     "exception": false,
     "start_time": "2023-09-14T15:23:04.346556",
     "status": "completed"
    },
    "tags": []
   },
   "outputs": [],
   "source": [
    "def filter_and_collapse(tab, seqs, tax, meta, lvl, exclude=True, exclude_list='uncultured,unidentified,metagenome'):\n",
    "    from qiime2.plugins.taxa.methods import collapse\n",
    "    from qiime2.plugins.taxa.methods import filter_table\n",
    "    from qiime2.plugins.feature_table.methods import filter_seqs\n",
    "    from qiime2.plugins.feature_table.visualizers import summarize\n",
    "    \n",
    "    to_include = ('d', 'p', 'c', 'o', 'f', 'g', 's')[lvl-1]\n",
    "    to_include += '__'\n",
    "    to_exclude = exclude_list if exclude else None\n",
    "    \n",
    "    filtered_tabs = filter_table(\n",
    "        table=tab, \n",
    "        taxonomy=tax,\n",
    "        include=to_include,\n",
    "        exclude=to_exclude,\n",
    "        mode='contains').filtered_table\n",
    "    \n",
    "    filtered_seqs = filter_seqs(\n",
    "        data = seqs,\n",
    "        table = filtered_tabs,\n",
    "    ).filtered_data\n",
    "    \n",
    "    collapsed_table = collapse(table=filtered_tabs, taxonomy=tax, level=lvl).collapsed_table\n",
    "    collapsed_table_view = summarize(table=collapsed_table, sample_metadata=meta).visualization\n",
    "    \n",
    "    return collapsed_table, collapsed_table_view, filtered_seqs"
   ]
  },
  {
   "cell_type": "markdown",
   "id": "0999a1b2",
   "metadata": {
    "papermill": {
     "duration": 0.017161,
     "end_time": "2023-09-14T15:23:04.412812",
     "exception": false,
     "start_time": "2023-09-14T15:23:04.395651",
     "status": "completed"
    },
    "tags": []
   },
   "source": [
    "## Step execution\n",
    "\n",
    "### Load input files\n",
    "\n",
    "This Step import the QIIME2 `FeatureTable[Frequency]` Artifact and the `Metadata` file."
   ]
  },
  {
   "cell_type": "code",
   "execution_count": 7,
   "id": "8f299d1a",
   "metadata": {
    "ExecuteTime": {
     "end_time": "2022-09-29T20:54:15.559837Z",
     "start_time": "2022-09-29T20:54:14.830405Z"
    },
    "execution": {
     "iopub.execute_input": "2023-09-14T15:23:04.451483Z",
     "iopub.status.busy": "2023-09-14T15:23:04.451048Z",
     "iopub.status.idle": "2023-09-14T15:23:06.099392Z",
     "shell.execute_reply": "2023-09-14T15:23:06.098547Z"
    },
    "papermill": {
     "duration": 1.670897,
     "end_time": "2023-09-14T15:23:06.102328",
     "exception": false,
     "start_time": "2023-09-14T15:23:04.431431",
     "status": "completed"
    },
    "tags": []
   },
   "outputs": [],
   "source": [
    "#Load Metadata\n",
    "metadata_qa = Metadata.load(metadata_file)\n",
    "\n",
    "#Load FeatureTable[Frequency]\n",
    "tabs = Artifact.load(dada2_tabs_path)\n",
    "tabs_df = tabs.view(Metadata).to_dataframe().T\n",
    "\n",
    "# FeatureData[Sequence]\n",
    "reps = Artifact.load(dada2_reps_path)\n",
    "\n",
    "# FeatureData[Taxonomy]\n",
    "tax = Artifact.load(taxonomy_path)"
   ]
  },
  {
   "cell_type": "code",
   "execution_count": 8,
   "id": "c8dfe530",
   "metadata": {
    "ExecuteTime": {
     "end_time": "2022-09-29T20:54:15.564968Z",
     "start_time": "2022-09-29T20:54:15.561875Z"
    },
    "execution": {
     "iopub.execute_input": "2023-09-14T15:23:06.143171Z",
     "iopub.status.busy": "2023-09-14T15:23:06.142938Z",
     "iopub.status.idle": "2023-09-14T15:23:07.150435Z",
     "shell.execute_reply": "2023-09-14T15:23:07.149733Z"
    },
    "papermill": {
     "duration": 1.029201,
     "end_time": "2023-09-14T15:23:07.153398",
     "exception": false,
     "start_time": "2023-09-14T15:23:06.124197",
     "status": "completed"
    },
    "tags": []
   },
   "outputs": [
    {
     "name": "stdout",
     "output_type": "stream",
     "text": [
      "{'min_frequency': 0, 'max_frequency': None, 'min_features': 0, 'max_features': None, 'metadata': Metadata\n",
      "--------\n",
      "12 IDs x 3 columns\n",
      "sample-name: ColumnProperties(type='categorical')\n",
      "group-id:    ColumnProperties(type='categorical')\n",
      "group-desc:  ColumnProperties(type='categorical')\n",
      "\n",
      "Call to_dataframe() for a tabular representation., 'where': None, 'exclude_ids': False, 'filter_empty_features': True, 'table': 2732 x 74 <class 'biom.table.Table'> with 12512 nonzero entries (6% dense)}\n",
      "{'min_frequency': 0, 'max_frequency': None, 'min_features': 0, 'max_features': None, 'metadata': Metadata\n",
      "--------\n",
      "12 IDs x 3 columns\n",
      "sample-name: ColumnProperties(type='categorical')\n",
      "group-id:    ColumnProperties(type='categorical')\n",
      "group-desc:  ColumnProperties(type='categorical')\n",
      "\n",
      "Call to_dataframe() for a tabular representation., 'where': None, 'exclude_ids': False, 'filter_empty_features': True, 'table': 2732 x 74 <class 'biom.table.Table'> with 12512 nonzero entries (6% dense)}\n"
     ]
    },
    {
     "name": "stdout",
     "output_type": "stream",
     "text": [
      "{'metadata': None, 'where': None, 'exclude_ids': False, 'data': c688e3b1ada46ed57f5b7e7e0d56664f    (((T)), ((G)), ((A)), ((G)), ((G)), ((A)), ((A...\n",
      "bc798de4a9acd3ff7ba51c244523be14    (((T)), ((G)), ((A)), ((G)), ((G)), ((A)), ((A...\n",
      "fca5b1ccd94b107a3ddf3e99feaafb6f    (((T)), ((G)), ((A)), ((G)), ((G)), ((A)), ((A...\n",
      "5ba9e679e692fcbf933c554317e03c5f    (((T)), ((A)), ((G)), ((G)), ((G)), ((A)), ((A...\n",
      "04581eba9e6fd12787fb5948fcef030f    (((T)), ((G)), ((A)), ((G)), ((G)), ((A)), ((A...\n",
      "                                                          ...                        \n",
      "dbc83a2f59a61f2cc57971a85718406b    (((T)), ((G)), ((G)), ((G)), ((G)), ((A)), ((A...\n",
      "4393f0be1354f7198d1969c44d34d44a    (((T)), ((G)), ((A)), ((G)), ((G)), ((A)), ((A...\n",
      "a86e1aaa4715133f8fa2c0f52e03e6d7    (((T)), ((G)), ((G)), ((G)), ((G)), ((A)), ((A...\n",
      "aa37170c6d59f9077a2644f8c25df05d    (((T)), ((G)), ((G)), ((G)), ((G)), ((A)), ((A...\n",
      "9c3f20cb7568feda60cc7776400d8d64    (((G)), ((A)), ((A)), ((A)), ((T)), ((G)), ((C...\n",
      "Length: 2732, dtype: object, 'table': 839 x 12 <class 'biom.table.Table'> with 1754 nonzero entries (17% dense)}\n"
     ]
    },
    {
     "name": "stdout",
     "output_type": "stream",
     "text": [
      "{'metadata': None, 'where': None, 'exclude_ids': False, 'data': c688e3b1ada46ed57f5b7e7e0d56664f    (((T)), ((G)), ((A)), ((G)), ((G)), ((A)), ((A...\n",
      "bc798de4a9acd3ff7ba51c244523be14    (((T)), ((G)), ((A)), ((G)), ((G)), ((A)), ((A...\n",
      "fca5b1ccd94b107a3ddf3e99feaafb6f    (((T)), ((G)), ((A)), ((G)), ((G)), ((A)), ((A...\n",
      "5ba9e679e692fcbf933c554317e03c5f    (((T)), ((A)), ((G)), ((G)), ((G)), ((A)), ((A...\n",
      "04581eba9e6fd12787fb5948fcef030f    (((T)), ((G)), ((A)), ((G)), ((G)), ((A)), ((A...\n",
      "                                                          ...                        \n",
      "dbc83a2f59a61f2cc57971a85718406b    (((T)), ((G)), ((G)), ((G)), ((G)), ((A)), ((A...\n",
      "4393f0be1354f7198d1969c44d34d44a    (((T)), ((G)), ((A)), ((G)), ((G)), ((A)), ((A...\n",
      "a86e1aaa4715133f8fa2c0f52e03e6d7    (((T)), ((G)), ((G)), ((G)), ((G)), ((A)), ((A...\n",
      "aa37170c6d59f9077a2644f8c25df05d    (((T)), ((G)), ((G)), ((G)), ((G)), ((A)), ((A...\n",
      "9c3f20cb7568feda60cc7776400d8d64    (((G)), ((A)), ((A)), ((A)), ((T)), ((G)), ((C...\n",
      "Length: 2732, dtype: object, 'table': 839 x 12 <class 'biom.table.Table'> with 1754 nonzero entries (17% dense)}\n"
     ]
    }
   ],
   "source": [
    "# Filter FeatureTable[Frequency | RelativeFrequency | PresenceAbsence | Composition] based on Metadata sample ID values\n",
    "tabs = filter_samples(\n",
    "    table=tabs,\n",
    "    metadata=metadata_qa,\n",
    ").filtered_table\n",
    "# Filter SampleData[SequencesWithQuality | PairedEndSequencesWithQuality | JoinedSequencesWithQuality] based on Metadata sample ID values; returns FeatureData[Sequence | AlignedSequence]\n",
    "reps = filter_seqs(\n",
    "    data=reps,\n",
    "    table=tabs,\n",
    ").filtered_data"
   ]
  },
  {
   "cell_type": "markdown",
   "id": "9f43843a",
   "metadata": {
    "ExecuteTime": {
     "end_time": "2022-09-22T22:48:07.523952Z",
     "start_time": "2022-09-22T22:48:07.517565Z"
    },
    "papermill": {
     "duration": 0.018816,
     "end_time": "2023-09-14T15:23:07.197839",
     "exception": false,
     "start_time": "2023-09-14T15:23:07.179023",
     "status": "completed"
    },
    "tags": []
   },
   "source": [
    "## Alpha diversity analysis\n",
    "\n",
    "#### Reference\n",
    "- [The Use and Types of Alpha-Diversity Metrics in Microbial NGS](https://www.cd-genomics.com/microbioseq/the-use-and-types-of-alpha-diversity-metrics-in-microbial-ngs.html)\n",
    "- [Alpha diversity metrics](http://scikit-bio.org/docs/0.2.0/generated/skbio.diversity.alpha.html)\n",
    "\n",
    "#### Methods\n",
    "- [diversity alpha](https://docs.qiime2.org/2022.8/plugins/available/diversity/alpha/): Computes a user-specified alpha diversity metric for all samples in a\n",
    "feature table.\n",
    "- [diversity alpha_phylogenetic](https://docs.qiime2.org/2022.8/plugins/available/diversity/alpha-phylogenetic/): Computes a user-specified phylogenetic alpha diversity metric for all\n",
    "samples in a feature table.\n",
    "- [diversity alpha_correlation](https://docs.qiime2.org/2022.8/plugins/available/diversity/alpha-correlation/): Determine whether numeric sample metadata columns are correlated with alpha diversity.\n",
    "- [diversity alpha_group_significance](https://docs.qiime2.org/2022.8/plugins/available/diversity/alpha-group-significance/): Visually and statistically compare groups of alpha diversity values."
   ]
  },
  {
   "cell_type": "markdown",
   "id": "606b9c75",
   "metadata": {
    "papermill": {
     "duration": 0.019058,
     "end_time": "2023-09-14T15:23:07.237446",
     "exception": false,
     "start_time": "2023-09-14T15:23:07.218388",
     "status": "completed"
    },
    "tags": []
   },
   "source": [
    "### Compute Alpha Diversity vectors\n",
    "- [diversity alpha](https://docs.qiime2.org/2022.8/plugins/available/diversity/alpha/): Computes a user-specified alpha diversity metric for all samples in a feature table.\n",
    "- [Alpha diversity metrics](http://scikit-bio.org/docs/0.2.0/generated/skbio.diversity.alpha.html)\n",
    " - Choices: ('ace', 'berger_parker_d', 'brillouin_d', 'chao1', 'chao1_ci', 'dominance', 'doubles', 'enspie', 'esty_ci', 'fisher_alpha', 'gini_index', 'goods_coverage', 'heip_e', 'kempton_taylor_q', 'lladser_pe', 'margalef', 'mcintosh_d', 'mcintosh_e', 'menhinick', 'michaelis_menten_fit', 'observed_features', 'osd', 'pielou_e', 'robbins', 'shannon', 'simpson', 'simpson_e', 'singles', 'strong')"
   ]
  },
  {
   "cell_type": "code",
   "execution_count": 9,
   "id": "556e5264",
   "metadata": {
    "ExecuteTime": {
     "end_time": "2022-09-29T20:54:20.790166Z",
     "start_time": "2022-09-29T20:54:20.451134Z"
    },
    "execution": {
     "iopub.execute_input": "2023-09-14T15:23:07.276536Z",
     "iopub.status.busy": "2023-09-14T15:23:07.276301Z",
     "iopub.status.idle": "2023-09-14T15:23:07.711617Z",
     "shell.execute_reply": "2023-09-14T15:23:07.710935Z"
    },
    "papermill": {
     "duration": 0.457536,
     "end_time": "2023-09-14T15:23:07.713901",
     "exception": false,
     "start_time": "2023-09-14T15:23:07.256365",
     "status": "completed"
    },
    "tags": []
   },
   "outputs": [
    {
     "name": "stdout",
     "output_type": "stream",
     "text": [
      "Calculating alpha diversity: chao1\n",
      "{'metric': 'chao1', 'table': <artifact: FeatureTable[Frequency] uuid: eb7b5feb-464a-4607-9c23-b6136e40dca2>}\n",
      "{'metric': 'chao1', 'table': 839 x 12 <class 'biom.table.Table'> with 1754 nonzero entries (17% dense)}\n",
      "{'metric': 'chao1', 'table': 839 x 12 <class 'biom.table.Table'> with 1754 nonzero entries (17% dense)}\n",
      "DONE: Calculating alpha diversity: chao1\n",
      "Calculating alpha diversity: chao1_ci\n",
      "{'metric': 'chao1_ci', 'table': <artifact: FeatureTable[Frequency] uuid: eb7b5feb-464a-4607-9c23-b6136e40dca2>}\n",
      "{'metric': 'chao1_ci', 'table': 839 x 12 <class 'biom.table.Table'> with 1754 nonzero entries (17% dense)}\n",
      "{'metric': 'chao1_ci', 'table': 839 x 12 <class 'biom.table.Table'> with 1754 nonzero entries (17% dense)}\n",
      "DONE: Calculating alpha diversity: chao1_ci\n",
      "Calculating alpha diversity: observed_features\n",
      "{'metric': 'observed_features', 'table': <artifact: FeatureTable[Frequency] uuid: eb7b5feb-464a-4607-9c23-b6136e40dca2>}\n",
      "{'table': 839 x 12 <class 'biom.table.Table'> with 1754 nonzero entries (17% dense)}\n",
      "{'table': 839 x 12 <class 'biom.table.Table'> with 1754 nonzero entries (17% dense)}\n"
     ]
    },
    {
     "name": "stdout",
     "output_type": "stream",
     "text": [
      "DONE: Calculating alpha diversity: observed_features\n",
      "Calculating alpha diversity: shannon\n",
      "{'metric': 'shannon', 'table': <artifact: FeatureTable[Frequency] uuid: eb7b5feb-464a-4607-9c23-b6136e40dca2>}\n",
      "{'drop_undefined_samples': False, 'table': 839 x 12 <class 'biom.table.Table'> with 1754 nonzero entries (17% dense)}\n",
      "{'drop_undefined_samples': False, 'table': 839 x 12 <class 'biom.table.Table'> with 1754 nonzero entries (17% dense)}\n",
      "DONE: Calculating alpha diversity: shannon\n",
      "Calculating alpha diversity: simpson\n",
      "{'metric': 'simpson', 'table': <artifact: FeatureTable[Frequency] uuid: eb7b5feb-464a-4607-9c23-b6136e40dca2>}\n",
      "{'metric': 'simpson', 'table': 839 x 12 <class 'biom.table.Table'> with 1754 nonzero entries (17% dense)}\n",
      "{'metric': 'simpson', 'table': 839 x 12 <class 'biom.table.Table'> with 1754 nonzero entries (17% dense)}\n",
      "DONE: Calculating alpha diversity: simpson\n",
      "Calculating alpha diversity: simpson_e\n",
      "{'metric': 'simpson_e', 'table': <artifact: FeatureTable[Frequency] uuid: eb7b5feb-464a-4607-9c23-b6136e40dca2>}\n",
      "{'metric': 'simpson_e', 'table': 839 x 12 <class 'biom.table.Table'> with 1754 nonzero entries (17% dense)}\n",
      "{'metric': 'simpson_e', 'table': 839 x 12 <class 'biom.table.Table'> with 1754 nonzero entries (17% dense)}\n"
     ]
    },
    {
     "name": "stdout",
     "output_type": "stream",
     "text": [
      "DONE: Calculating alpha diversity: simpson_e\n"
     ]
    }
   ],
   "source": [
    "metrics = ('ace', 'berger_parker_d', 'brillouin_d', 'chao1', 'chao1_ci', 'dominance', 'doubles', 'enspie', 'esty_ci', 'fisher_alpha', 'gini_index', 'goods_coverage', 'heip_e', 'kempton_taylor_q', 'lladser_pe', 'margalef', 'mcintosh_d', 'mcintosh_e', 'menhinick', 'michaelis_menten_fit', 'observed_features', 'osd', 'pielou_e', 'robbins', 'shannon', 'simpson', 'simpson_e', 'singles', 'strong')\n",
    "\n",
    "# Sugestão de valores para Alpha diversity\n",
    "# chao1 e observed_features (riqueza); shannon e simpson (diversidade - que levam em consideração riqueza e equitabilidade).\n",
    "metrics = ('chao1', 'chao1_ci', 'observed_features', 'shannon', 'simpson', 'simpson_e')\n",
    "alpha_diversities = dict()\n",
    "for metric in metrics:\n",
    "    print(f\"Calculating alpha diversity: {metric}\")\n",
    "    try:\n",
    "        alpha_diversity = alpha(table=tabs, metric=metric).alpha_diversity\n",
    "        alpha_diversities[metric] = alpha_diversity\n",
    "        # Save SampleData[AlphaDiversity] Artifact\n",
    "        file_path = os.path.join(alpha_path, f'alpha-values-{metric}.qza')\n",
    "        alpha_diversity.save(file_path)\n",
    "        print(f\"DONE: Calculating alpha diversity: {metric}\")\n",
    "    except Exception as e:\n",
    "        print(f\"ERROR: Calculating alpha diversity: {metric}\")\n",
    "        print(e)"
   ]
  },
  {
   "cell_type": "markdown",
   "id": "184bcb7b",
   "metadata": {
    "papermill": {
     "duration": 0.019598,
     "end_time": "2023-09-14T15:23:07.758319",
     "exception": false,
     "start_time": "2023-09-14T15:23:07.738721",
     "status": "completed"
    },
    "tags": []
   },
   "source": [
    "### Create Phylogenetic inference\n",
    "\n",
    "- [alignment align_to_tree_mafft_fasttree](https://docs.qiime2.org/2022.8/plugins/available/phylogeny/align-to-tree-mafft-fasttree/): Build a phylogenetic tree using fasttree and mafft alignment\n",
    "\n",
    "This pipeline will start by creating a sequence alignment using MAFFT,\n",
    "after which any alignment columns that are phylogenetically uninformative\n",
    "or ambiguously aligned will be removed (masked). The resulting masked\n",
    "alignment will be used to infer a phylogenetic tree and then subsequently\n",
    "rooted at its midpoint. Output files from each step of the pipeline will be\n",
    "saved. This includes both the unmasked and masked MAFFT alignment from\n",
    "q2-alignment methods, and both the rooted and unrooted phylogenies from\n",
    "q2-phylogeny methods.\n",
    "\n",
    "\n",
    "Returns\n",
    "- alignment : FeatureData[AlignedSequence] : The aligned sequences.\n",
    "- masked_alignment : FeatureData[AlignedSequence] : The masked alignment.\n",
    "- tree : Phylogeny[Unrooted] : The unrooted phylogenetic tree.\n",
    "- rooted_tree : Phylogeny[Rooted] : The rooted phylogenetic tree."
   ]
  },
  {
   "cell_type": "code",
   "execution_count": 10,
   "id": "9c8cfe47",
   "metadata": {
    "ExecuteTime": {
     "end_time": "2022-09-29T20:54:35.139531Z",
     "start_time": "2022-09-29T20:54:20.792130Z"
    },
    "execution": {
     "iopub.execute_input": "2023-09-14T15:23:07.800636Z",
     "iopub.status.busy": "2023-09-14T15:23:07.800310Z",
     "iopub.status.idle": "2023-09-14T15:23:21.667212Z",
     "shell.execute_reply": "2023-09-14T15:23:21.666467Z"
    },
    "papermill": {
     "duration": 13.889908,
     "end_time": "2023-09-14T15:23:21.669738",
     "exception": false,
     "start_time": "2023-09-14T15:23:07.779830",
     "status": "completed"
    },
    "tags": []
   },
   "outputs": [
    {
     "name": "stdout",
     "output_type": "stream",
     "text": [
      "{'n_threads': 6, 'mask_max_gap_frequency': 1.0, 'mask_min_conservation': 0.4, 'parttree': False, 'sequences': <artifact: FeatureData[Sequence] uuid: 085d4794-38dd-4ad7-b041-8860adb7fd99>}\n",
      "{'n_threads': 6, 'parttree': False, 'sequences': <q2_types.feature_data._format.DNAFASTAFormat object at 0x7f97fe69f310>}\n",
      "{'n_threads': 6, 'parttree': False, 'sequences': <q2_types.feature_data._format.DNAFASTAFormat object at 0x7f97fe69f310>}\n",
      "Running external command line application. This may print messages to stdout and/or stderr.\n",
      "The command being run is below. This command cannot be manually re-run as it will depend on temporary files that no longer exist.\n",
      "\n",
      "Command: mafft --preservecase --inputorder --thread 6 /tmp/qiime2-archive-orm0ggwp/085d4794-38dd-4ad7-b041-8860adb7fd99/data/dna-sequences.fasta\n",
      "\n"
     ]
    },
    {
     "name": "stderr",
     "output_type": "stream",
     "text": [
      "inputfile = orig\n",
      "839 x 430 - 262 d\n",
      "nthread = 6\n",
      "nthreadpair = 6\n",
      "nthreadtb = 6\n",
      "ppenalty_ex = 0\n",
      "stacksize: 8192 kb\n",
      "generating a scoring matrix for nucleotide (dist=200) ... done\n",
      "Gap Penalty = -1.53, +0.00, +0.00\n",
      "\n",
      "\n",
      "\n",
      "Making a distance matrix ..\n",
      "\r",
      "    1 / 839 (thread    0)\r",
      "  101 / 839 (thread    1)\r",
      "  201 / 839 (thread    5)\r",
      "  301 / 839 (thread    1)\r",
      "  401 / 839 (thread    3)\r",
      "  501 / 839 (thread    1)\r",
      "  601 / 839 (thread    0)\r",
      "  701 / 839 (thread    1)\r",
      "  801 / 839 (thread    1)\n",
      "done.\n",
      "\n",
      "Constructing a UPGMA tree (efffree=0) ... \n",
      "\r",
      "    0 / 839\r",
      "   10 / 839\r",
      "   20 / 839\r",
      "   30 / 839\r",
      "   40 / 839\r",
      "   50 / 839\r",
      "   60 / 839\r",
      "   70 / 839\r",
      "   80 / 839\r",
      "   90 / 839\r",
      "  100 / 839\r",
      "  110 / 839\r",
      "  120 / 839\r",
      "  130 / 839\r",
      "  140 / 839\r",
      "  150 / 839\r",
      "  160 / 839\r",
      "  170 / 839\r",
      "  180 / 839\r",
      "  190 / 839\r",
      "  200 / 839\r",
      "  210 / 839\r",
      "  220 / 839\r",
      "  230 / 839\r",
      "  240 / 839\r",
      "  250 / 839\r",
      "  260 / 839\r",
      "  270 / 839\r",
      "  280 / 839\r",
      "  290 / 839\r",
      "  300 / 839\r",
      "  310 / 839\r",
      "  320 / 839\r",
      "  330 / 839\r",
      "  340 / 839\r",
      "  350 / 839\r",
      "  360 / 839\r",
      "  370 / 839\r",
      "  380 / 839\r",
      "  390 / 839\r",
      "  400 / 839\r",
      "  410 / 839\r",
      "  420 / 839\r",
      "  430 / 839\r",
      "  440 / 839\r",
      "  450 / 839\r",
      "  460 / 839\r",
      "  470 / 839\r",
      "  480 / 839\r",
      "  490 / 839\r",
      "  500 / 839\r",
      "  510 / 839\r",
      "  520 / 839\r",
      "  530 / 839\r",
      "  540 / 839\r",
      "  550 / 839\r",
      "  560 / 839\r",
      "  570 / 839\r",
      "  580 / 839\r",
      "  590 / 839\r",
      "  600 / 839\r",
      "  610 / 839\r",
      "  620 / 839\r",
      "  630 / 839\r",
      "  640 / 839\r",
      "  650 / 839\r",
      "  660 / 839\r",
      "  670 / 839\r",
      "  680 / 839\r",
      "  690 / 839\r",
      "  700 / 839\r",
      "  710 / 839\r",
      "  720 / 839\r",
      "  730 / 839\r",
      "  740 / 839\r",
      "  750 / 839\r",
      "  760 / 839\r",
      "  770 / 839\r",
      "  780 / 839\r",
      "  790 / 839\r",
      "  800 / 839\r",
      "  810 / 839\r",
      "  820 / 839\r",
      "  830 / 839\n",
      "done.\n",
      "\n",
      "Progressive alignment 1/2... \n",
      "\r",
      "STEP     1 / 838 (thread    0) f\b\b\r",
      "STEP     3 / 838 (thread    2) f\b\b\r",
      "STEP     2 / 838 (thread    1) f\b\b\r",
      "STEP     4 / 838 (thread    3) f\b\b\r",
      "STEP     5 / 838 (thread    4) f\b\b\r",
      "STEP     6 / 838 (thread    5) f\b\b\r",
      "STEP     7 / 838 (thread    1) f\b\b\r",
      "STEP     8 / 838 (thread    2) f\b\b\r",
      "STEP     9 / 838 (thread    5) f\b\b\r",
      "STEP    10 / 838 (thread    1) f\b\b\r",
      "STEP    11 / 838 (thread    3) f\b\b\r",
      "STEP    12 / 838 (thread    4) f\b\b\r",
      "STEP    13 / 838 (thread    0) f\b\b\r",
      "STEP    14 / 838 (thread    1) f\b\b\r",
      "STEP    15 / 838 (thread    5) f\b\b\r",
      "STEP    16 / 838 (thread    2) f\b\b\r",
      "STEP    17 / 838 (thread    1) f\b\b\r",
      "STEP    18 / 838 (thread    3) f\b\b\r",
      "STEP    19 / 838 (thread    5) f\b\b\r",
      "STEP    20 / 838 (thread    4) f\b\b\r",
      "STEP    21 / 838 (thread    1) f\b\b\r",
      "STEP    22 / 838 (thread    0) f\b\b\r",
      "STEP    23 / 838 (thread    2) f\b\b\r",
      "STEP    24 / 838 (thread    1) f\b\b\r",
      "STEP    25 / 838 (thread    5) f\b\b\r",
      "STEP    26 / 838 (thread    3) f\b\b\r",
      "STEP    27 / 838 (thread    1) f\b\b\r",
      "STEP    28 / 838 (thread    4) f\b\b\r",
      "STEP    29 / 838 (thread    0) f\b\b\r",
      "STEP    30 / 838 (thread    2) f\b\b\r",
      "STEP    31 / 838 (thread    1) f\b\b\r",
      "STEP    32 / 838 (thread    5) f\b\b\r",
      "STEP    33 / 838 (thread    3) f\b\b\r",
      "STEP    34 / 838 (thread    1) f\b\b\r",
      "STEP    35 / 838 (thread    0) f\b\b\r",
      "STEP    36 / 838 (thread    4) f\b\b\r",
      "STEP    37 / 838 (thread    5) f\b\b\r",
      "STEP    38 / 838 (thread    1) f\b\b\r",
      "STEP    39 / 838 (thread    2) f\b\b\r",
      "STEP    40 / 838 (thread    3) f\b\b\r",
      "STEP    41 / 838 (thread    1) f\b\b\r",
      "STEP    42 / 838 (thread    0) f\b\b\r",
      "STEP    43 / 838 (thread    5) f\b\b\r",
      "STEP    44 / 838 (thread    4) f\b\b\r",
      "STEP    45 / 838 (thread    1) f\b\b\r",
      "STEP    46 / 838 (thread    3) f\b\b\r",
      "STEP    47 / 838 (thread    2) f\b\b\r",
      "STEP    48 / 838 (thread    0) f\b\b\r",
      "STEP    49 / 838 (thread    5) f\b\b\r",
      "STEP    50 / 838 (thread    1) f\b\b\r",
      "STEP    51 / 838 (thread    3) f\b\b\r",
      "STEP    52 / 838 (thread    1) f\b\b\r",
      "STEP    53 / 838 (thread    4) f\b\b\r",
      "STEP    54 / 838 (thread    0) f\b\b\r",
      "STEP    55 / 838 (thread    5) f\b\b\r",
      "STEP    56 / 838 (thread    2) f\b\b\r",
      "STEP    57 / 838 (thread    1) f\b\b\r",
      "STEP    58 / 838 (thread    3) f\b\b\r",
      "STEP    59 / 838 (thread    0) f\b\b\r",
      "STEP    60 / 838 (thread    1) f\b\b\r",
      "STEP    61 / 838 (thread    5) f\b\b\r",
      "STEP    62 / 838 (thread    4) f\b\b\r",
      "STEP    63 / 838 (thread    2) f\b\b\r",
      "STEP    64 / 838 (thread    1) f\b\b\r",
      "STEP    65 / 838 (thread    3) f\b\b\r",
      "STEP    66 / 838 (thread    0) f\b\b\r",
      "STEP    67 / 838 (thread    1) f\b\b\r",
      "STEP    68 / 838 (thread    4) f\b\b\r",
      "STEP    69 / 838 (thread    3) f\b\b\r",
      "STEP    70 / 838 (thread    5) f\b\b\r",
      "STEP    71 / 838 (thread    1) f\b\b\r",
      "STEP    72 / 838 (thread    2) f\b\b\r",
      "STEP    73 / 838 (thread    0) f\b\b\r",
      "STEP    74 / 838 (thread    1) f\b\b\r",
      "STEP    75 / 838 (thread    3) f\b\b\r",
      "STEP    76 / 838 (thread    5) f\b\b\r",
      "STEP    77 / 838 (thread    4) f\b\b\r",
      "STEP    78 / 838 (thread    0) f\b\b\r",
      "STEP    79 / 838 (thread    1) f\b\b\r",
      "STEP    80 / 838 (thread    2) f\b\b\r",
      "STEP    81 / 838 (thread    5) f\b\b\r",
      "STEP    82 / 838 (thread    1) f\b\b\r",
      "STEP    83 / 838 (thread    3) f\b\b\r",
      "STEP    84 / 838 (thread    0) f\b\b\r",
      "STEP    85 / 838 (thread    2) f\b\b\r",
      "STEP    86 / 838 (thread    4) f\b\b\r",
      "STEP    87 / 838 (thread    5) f\b\b\r",
      "STEP    88 / 838 (thread    1) f\b\b\r",
      "STEP    89 / 838 (thread    3) f\b\b\r",
      "STEP    90 / 838 (thread    1) f\b\b\r",
      "STEP    91 / 838 (thread    0) f\b\b\r",
      "STEP    92 / 838 (thread    2) f\b\b\r",
      "STEP    93 / 838 (thread    4) f\b\b\r",
      "STEP    94 / 838 (thread    5) f\b\b\r",
      "STEP    96 / 838 (thread    5) f\b\b\r",
      "STEP    97 / 838 (thread    3) f\b\b\r",
      "STEP    98 / 838 (thread    0) f\b\b\r",
      "STEP    99 / 838 (thread    2) f\b\b\r",
      "STEP    95 / 838 (thread    1) f\b\b\r",
      "STEP   101 / 838 (thread    2) f\b\b\r",
      "STEP   102 / 838 (thread    0) f\b\b\r",
      "STEP   103 / 838 (thread    5) f\b\b\r",
      "STEP   104 / 838 (thread    1) f\b\b\r",
      "STEP   105 / 838 (thread    5) f\b\b\r",
      "STEP   106 / 838 (thread    3) f\b\b\r",
      "STEP   100 / 838 (thread    4) f\b\b\r",
      "STEP   107 / 838 (thread    1) f\b\b\r",
      "STEP   108 / 838 (thread    2) f\b\b\r",
      "STEP   109 / 838 (thread    1) f\b\b\r",
      "STEP   110 / 838 (thread    5) f\b\b\r",
      "STEP   111 / 838 (thread    0) f\b\b\r",
      "STEP   112 / 838 (thread    2) f\b\b\r",
      "STEP   113 / 838 (thread    4) f\b\b\r",
      "STEP   114 / 838 (thread    1) f\b\b\r",
      "STEP   115 / 838 (thread    5) f\b\b\r",
      "STEP   116 / 838 (thread    2) f\b\b\r",
      "STEP   117 / 838 (thread    1) f\b\b\r",
      "STEP   118 / 838 (thread    3) f\b\b\r",
      "STEP   119 / 838 (thread    4) f\b\b\r",
      "STEP   120 / 838 (thread    5) f\b\b\r",
      "STEP   121 / 838 (thread    0) f\b\b\r",
      "STEP   122 / 838 (thread    1) f\b\b\r",
      "STEP   123 / 838 (thread    3) f\b\b\r",
      "STEP   124 / 838 (thread    5) f\b\b\r",
      "STEP   125 / 838 (thread    4) f\b\b\r",
      "STEP   126 / 838 (thread    1) f\b\b\r",
      "STEP   127 / 838 (thread    0) f\b\b\r",
      "STEP   128 / 838 (thread    5) f\b\b\r",
      "STEP   129 / 838 (thread    1) f\b\b\r",
      "STEP   130 / 838 (thread    3) f\b\b\r",
      "STEP   131 / 838 (thread    4) f\b\b\r",
      "STEP   132 / 838 (thread    2) f\b\b\r",
      "STEP   133 / 838 (thread    0) f\b\b\r",
      "STEP   134 / 838 (thread    5) f\b\b\r",
      "STEP   135 / 838 (thread    1) f\b\b\r",
      "STEP   136 / 838 (thread    4) f\b\b\r",
      "STEP   137 / 838 (thread    3) f\b\b\r",
      "STEP   138 / 838 (thread    1) f\b\b\r",
      "STEP   139 / 838 (thread    5) f\b\b\r",
      "STEP   140 / 838 (thread    2) f\b\b\r",
      "STEP   141 / 838 (thread    0) f\b\b\r",
      "STEP   142 / 838 (thread    1) f\b\b\r",
      "STEP   143 / 838 (thread    5) f\b\b\r",
      "STEP   144 / 838 (thread    2) f\b\b\r",
      "STEP   145 / 838 (thread    0) f\b\b\r",
      "STEP   146 / 838 (thread    1) f\b\b\r",
      "STEP   147 / 838 (thread    4) f\b\b\r",
      "STEP   148 / 838 (thread    2) f\b\b\r",
      "STEP   149 / 838 (thread    5) f\b\b\r",
      "STEP   150 / 838 (thread    0) f\b\b\r",
      "STEP   151 / 838 (thread    3) f\b\b\r",
      "STEP   152 / 838 (thread    1) f\b\b\r",
      "STEP   153 / 838 (thread    5) f\b\b\r",
      "STEP   154 / 838 (thread    1) f\b\b\r",
      "STEP   155 / 838 (thread    4) f\b\b\r",
      "STEP   156 / 838 (thread    2) f\b\b\r",
      "STEP   157 / 838 (thread    0) f\b\b\r",
      "STEP   158 / 838 (thread    3) f\b\b\r",
      "STEP   159 / 838 (thread    5) f\b\b\r",
      "STEP   160 / 838 (thread    1) f\b\b\r",
      "STEP   161 / 838 (thread    4) f\b\b\r",
      "STEP   162 / 838 (thread    2) f\b\b\r",
      "STEP   163 / 838 (thread    5) f\b\b\r",
      "STEP   164 / 838 (thread    1) f\b\b\r",
      "STEP   165 / 838 (thread    3) f\b\b\r",
      "STEP   166 / 838 (thread    0) f\b\b\r",
      "STEP   167 / 838 (thread    4) f\b\b\r",
      "STEP   168 / 838 (thread    5) f\b\b\r",
      "STEP   169 / 838 (thread    1) f\b\b\r",
      "STEP   170 / 838 (thread    2) f\b\b\r",
      "STEP   171 / 838 (thread    4) f\b\b"
     ]
    },
    {
     "name": "stderr",
     "output_type": "stream",
     "text": [
      "\r",
      "STEP   172 / 838 (thread    3) f\b\b\r",
      "STEP   173 / 838 (thread    5) f\b\b\r",
      "STEP   174 / 838 (thread    1) f\b\b\r",
      "STEP   175 / 838 (thread    0) f\b\b\r",
      "STEP   176 / 838 (thread    1) f\b\b\r",
      "STEP   177 / 838 (thread    5) f\b\b\r",
      "STEP   178 / 838 (thread    3) f\b\b\r",
      "STEP   179 / 838 (thread    1) f\b\b\r",
      "STEP   180 / 838 (thread    2) f\b\b\r",
      "STEP   181 / 838 (thread    4) f\b\b\r",
      "STEP   182 / 838 (thread    5) f\b\b\r",
      "STEP   183 / 838 (thread    0) f\b\b\r",
      "STEP   184 / 838 (thread    3) f\b\b\r",
      "STEP   185 / 838 (thread    1) f\b\b\r",
      "STEP   186 / 838 (thread    2) f\b\b\r",
      "STEP   187 / 838 (thread    1) f\b\b\r",
      "STEP   188 / 838 (thread    5)\r",
      "STEP   189 / 838 (thread    1) f\b\b f\b\b\r",
      "STEP   190 / 838 (thread    4) f\b\b\r",
      "STEP   191 / 838 (thread    1) f\b\b\r",
      "STEP   193 / 838 (thread    3) f\b\b\r",
      "STEP   192 / 838 (thread    0) f\b\b\r",
      "STEP   195 / 838 (thread    4) f\b\b\r",
      "STEP   196 / 838 (thread    5) f\b\b\r",
      "STEP   197 / 838 (thread    1) f\b\b\r",
      "STEP   198 / 838 (thread    4) f\b\b\r",
      "STEP   199 / 838 (thread    5) f\b\b\r",
      "STEP   200 / 838 (thread    4) f\b\b\r",
      "STEP   201 / 838 (thread    1) f\b\b\r",
      "STEP   202 / 838 (thread    3) f\b\b\r",
      "STEP   194 / 838 (thread    2) f\b\b\r",
      "STEP   203 / 838 (thread    0) f\b\b\r",
      "STEP   204 / 838 (thread    5) f\b\b\r",
      "STEP   205 / 838 (thread    1) f\b\b\r",
      "STEP   206 / 838 (thread    0) f\b\b\r",
      "STEP   207 / 838 (thread    5) f\b\b\r",
      "STEP   208 / 838 (thread    4) f\b\b\r",
      "STEP   209 / 838 (thread    1) f\b\b\r",
      "STEP   210 / 838 (thread    2) f\b\b\r",
      "STEP   211 / 838 (thread    3) f\b\b\r",
      "STEP   212 / 838 (thread    5) f\b\b\r",
      "STEP   213 / 838 (thread    0) f\b\b\r",
      "STEP   214 / 838 (thread    1) f\b\b\r",
      "STEP   215 / 838 (thread    4) f\b\b\r",
      "STEP   217 / 838 (thread    5) f\b\b\r",
      "STEP   216 / 838 (thread    2) f\b\b\r",
      "STEP   218 / 838 (thread    1) f\b\b\r",
      "STEP   219 / 838 (thread    3) f\b\b\r",
      "STEP   220 / 838 (thread    4) f\b\b\r",
      "STEP   221 / 838 (thread    0) f\b\b\r",
      "STEP   222 / 838 (thread    5) f\b\b\r",
      "STEP   223 / 838 (thread    5) f\b\b\r",
      "STEP   224 / 838 (thread    4) f\b\b\r",
      "STEP   225 / 838 (thread    2) f\b\b\r",
      "STEP   226 / 838 (thread    1) f\b\b\r",
      "STEP   227 / 838 (thread    3) f\b\b\r",
      "STEP   228 / 838 (thread    5) f\b\b\r",
      "STEP   229 / 838 (thread    0) f\b\b\r",
      "STEP   230 / 838 (thread    1) f\b\b\r",
      "STEP   231 / 838 (thread    5) f\b\b\r",
      "STEP   232 / 838 (thread    2) f\b\b\r",
      "STEP   233 / 838 (thread    4) f\b\b\r",
      "STEP   234 / 838 (thread    3) f\b\b\r",
      "STEP   236 / 838 (thread    0) f\b\b\r",
      "STEP   235 / 838 (thread    1) f\b\b\r",
      "STEP   237 / 838 (thread    5) f\b\b\r",
      "STEP   239 / 838 (thread    4) f\b\b\r",
      "STEP   238 / 838 (thread    2) f\b\b\r",
      "STEP   240 / 838 (thread    0) f\b\b\r",
      "STEP   241 / 838 (thread    3) f\b\b\r",
      "STEP   242 / 838 (thread    5) f\b\b\r",
      "STEP   243 / 838 (thread    1) f\b\b\r",
      "STEP   244 / 838 (thread    5) f\b\b\r",
      "STEP   245 / 838 (thread    3) f\b\b\r",
      "STEP   246 / 838 (thread    1) f\b\b\r",
      "STEP   247 / 838 (thread    5) f\b\b\r",
      "STEP   248 / 838 (thread    1) f\b\b\r",
      "STEP   249 / 838 (thread    0) f\b\b\r",
      "STEP   250 / 838 (thread    4) f\b\b\r",
      "STEP   251 / 838 (thread    2) f\b\b\r",
      "STEP   252 / 838 (thread    1) f\b\b\r",
      "STEP   253 / 838 (thread    5) f\b\b\r",
      "STEP   254 / 838 (thread    3) f\b\b\r",
      "STEP   255 / 838 (thread    1) f\b\b\r",
      "STEP   256 / 838 (thread    0) f\b\b\r",
      "STEP   257 / 838 (thread    5) f\b\b\r",
      "STEP   258 / 838 (thread    4) f\b\b\r",
      "STEP   259 / 838 (thread    2) f\b\b\r",
      "STEP   260 / 838 (thread    0) f\b\b\r",
      "STEP   261 / 838 (thread    1) f\b\b\r",
      "STEP   262 / 838 (thread    3) f\b\b\r",
      "STEP   263 / 838 (thread    4) f\b\b\r",
      "STEP   264 / 838 (thread    5) f\b\b\r",
      "STEP   265 / 838 (thread    2) f\b\b\r",
      "STEP   266 / 838 (thread    1) f\b\b\r",
      "STEP   267 / 838 (thread    5) f\b\b\r",
      "STEP   268 / 838 (thread    0) f\b\b\r",
      "STEP   269 / 838 (thread    1) f\b\b\r",
      "STEP   270 / 838 (thread    3) f\b\b\r",
      "STEP   271 / 838 (thread    4) f\b\b\r",
      "STEP   272 / 838 (thread    2) f\b\b\r",
      "STEP   273 / 838 (thread    0) f\b\b\r",
      "STEP   274 / 838 (thread    5) f\b\b\r",
      "STEP   275 / 838 (thread    1) f\b\b\r",
      "STEP   276 / 838 (thread    0) f\b\b\r",
      "STEP   277 / 838 (thread    5) f\b\b\r",
      "STEP   278 / 838 (thread    3) f\b\b\r",
      "STEP   280 / 838 (thread    2) f\b\b\r",
      "STEP   281 / 838 (thread    1) f\b\b\r",
      "STEP   282 / 838 (thread    2) f\b\b\r",
      "STEP   283 / 838 (thread    5) f\b\b\r",
      "STEP   279 / 838 (thread    4) f\b\b\r",
      "STEP   284 / 838 (thread    0) f\b\b\r",
      "STEP   285 / 838 (thread    3) f\b\b\r",
      "STEP   286 / 838 (thread    5) f\b\b\r",
      "STEP   287 / 838 (thread    1) f\b\b\r",
      "STEP   288 / 838 (thread    1) f\b\b\r",
      "STEP   289 / 838 (thread    2) f\b\b\r",
      "STEP   290 / 838 (thread    5) f\b\b\r",
      "STEP   291 / 838 (thread    4) f\b\b\r",
      "STEP   292 / 838 (thread    2) f\b\b\r",
      "STEP   293 / 838 (thread    3) f\b\b\r",
      "STEP   294 / 838 (thread    1) f\b\b\r",
      "STEP   295 / 838 (thread    5) f\b\b\r",
      "STEP   296 / 838 (thread    0) f\b\b\r",
      "STEP   297 / 838 (thread    4) f\b\b\r",
      "STEP   298 / 838 (thread    1) f\b\b\r",
      "STEP   299 / 838 (thread    5) f\b\b\r",
      "STEP   300 / 838 (thread    2) f\b\b\r",
      "STEP   301 / 838 (thread    3) f\b\b\r",
      "STEP   302 / 838 (thread    1) f\b\b\r",
      "STEP   303 / 838 (thread    0) f\b\b\r",
      "STEP   304 / 838 (thread    5) f\b\b\r",
      "STEP   305 / 838 (thread    1) f\b\b\r",
      "STEP   306 / 838 (thread    4) f\b\b\r",
      "STEP   307 / 838 (thread    3) f\b\b\r",
      "STEP   308 / 838 (thread    0) f\b\b\r",
      "STEP   309 / 838 (thread    5) f\b\b\r",
      "STEP   310 / 838 (thread    2) f\b\b\r",
      "STEP   311 / 838 (thread    1) f\b\b\r",
      "STEP   312 / 838 (thread    5) f\b\b\r",
      "STEP   313 / 838 (thread    4) f\b\b\r",
      "STEP   314 / 838 (thread    3) f\b\b\r",
      "STEP   315 / 838 (thread    1) f\b\b\r",
      "STEP   316 / 838 (thread    2) f\b\b\r",
      "STEP   317 / 838 (thread    5) f\b\b\r",
      "STEP   318 / 838 (thread    0) f\b\b\r",
      "STEP   319 / 838 (thread    3) f\b\b\r",
      "STEP   320 / 838 (thread    1) f\b\b\r",
      "STEP   321 / 838 (thread    4) f\b\b\r",
      "STEP   322 / 838 (thread    3) f\b\b\r",
      "STEP   323 / 838 (thread    5) f\b\b\r",
      "STEP   324 / 838 (thread    1) f\b\b\r",
      "STEP   325 / 838 (thread    2) f\b\b\r",
      "STEP   326 / 838 (thread    0) f\b\b\r",
      "STEP   327 / 838 (thread    1) f\b\b\r",
      "STEP   328 / 838 (thread    5) f\b\b\r",
      "STEP   329 / 838 (thread    4) f\b\b\r",
      "STEP   330 / 838 (thread    3) f\b\b\n",
      "Reallocating..done. *alloclen = 1868\n",
      "\r",
      "STEP   331 / 838 (thread    2) f\b\b\r",
      "STEP   332 / 838 (thread    1) f\b\b\r",
      "STEP   333 / 838 (thread    4) f\b\b\r",
      "STEP   334 / 838 (thread    5) f\b\b\r",
      "STEP   335 / 838 (thread    0) f\b\b\r",
      "STEP   336 / 838 (thread    3) f\b\b\r",
      "STEP   337 / 838 (thread    1) f\b\b\r",
      "STEP   338 / 838 (thread    5) f\b\b\r",
      "STEP   339 / 838 (thread    1) f\b\b\r",
      "STEP   340 / 838 (thread    4) f\b\b\r",
      "STEP   341 / 838 (thread    0) f\b\b\r",
      "STEP   342 / 838 (thread    5) f\b\b\r",
      "STEP   343 / 838 (thread    2) f\b\b\r",
      "STEP   344 / 838 (thread    1) f\b\b\r",
      "STEP   345 / 838 (thread    2) f\b\b\r",
      "STEP   346 / 838 (thread    3) f\b\b\r",
      "STEP   347 / 838 (thread    5) f\b\b\r",
      "STEP   348 / 838 (thread    4) f\b\b\r",
      "STEP   349 / 838 (thread    1) f\b\b\r",
      "STEP   350 / 838 (thread    0) f\b\b\r",
      "STEP   351 / 838 (thread    5) f\b\b\r",
      "STEP   352 / 838 (thread    2) f\b\b\r",
      "STEP   353 / 838 (thread    0) f\b\b\r",
      "STEP   354 / 838 (thread    3) f\b\b\r",
      "STEP   355 / 838 (thread    1) f\b\b\r",
      "STEP   356 / 838 (thread    1) f\b\b\r",
      "STEP   357 / 838 (thread    4) f\b\b\r",
      "STEP   358 / 838 (thread    5) f\b\b\r",
      "STEP   359 / 838 (thread    5) f\b\b\r",
      "STEP   361 / 838 (thread    2) f\b\b\r",
      "STEP   362 / 838 (thread    4) f\b\b\r",
      "STEP   363 / 838 (thread    3) f\b\b\r",
      "STEP   360 / 838 (thread    0) f\b\b\r",
      "STEP   364 / 838 (thread    1) f\b\b\r",
      "STEP   365 / 838 (thread    5) f\b\b\r",
      "STEP   366 / 838 (thread    3) f\b\b\r",
      "STEP   367 / 838 (thread    1) f\b\b\r",
      "STEP   368 / 838 (thread    2) f\b\b\r",
      "STEP   369 / 838 (thread    4) f\b\b\r",
      "STEP   370 / 838 (thread    1) f\b\b\r",
      "STEP   371 / 838 (thread    3) f\b\b\r",
      "STEP   372 / 838 (thread    2) f\b\b\r",
      "STEP   373 / 838 (thread    0) f\b\b\r",
      "STEP   374 / 838 (thread    5) f\b\b\r",
      "STEP   375 / 838 (thread    1) f\b\b\r",
      "STEP   376 / 838 (thread    3) f\b\b\r",
      "STEP   377 / 838 (thread    4) f\b\b\r",
      "STEP   378 / 838 (thread    0) f\b\b\r",
      "STEP   379 / 838 (thread    5) f\b\b\r",
      "STEP   380 / 838 (thread    1) f\b\b\r",
      "STEP   381 / 838 (thread    3) f\b\b\r",
      "STEP   382 / 838 (thread    2) f\b\b\r",
      "STEP   383 / 838 (thread    3) f\b\b\r",
      "STEP   384 / 838 (thread    1) f\b\b\r",
      "STEP   386 / 838 (thread    4) f\b\b\r",
      "STEP   387 / 838 (thread    0) f\b\b\r",
      "STEP   385 / 838 (thread    3) f\b\b\r",
      "STEP   388 / 838 (thread    1) f\b\b\r",
      "STEP   389 / 838 (thread    5) f\b\b\r",
      "STEP   391 / 838 (thread    4) f\b\b\r",
      "STEP   392 / 838 (thread    4) f\b\b\r",
      "STEP   393 / 838 (thread    1) f\b\b\r",
      "STEP   394 / 838 (thread    3) f\b\b\r",
      "STEP   390 / 838 (thread    2) f\b\b\r",
      "STEP   395 / 838 (thread    0) f\b\b\r",
      "STEP   396 / 838 (thread    5) f\b\b\r",
      "STEP   397 / 838 (thread    3) f\b\b\r",
      "STEP   398 / 838 (thread    1) f\b\b\r",
      "STEP   399 / 838 (thread    0) f\b\b\r",
      "STEP   400 / 838 (thread    4) f\b\b\r",
      "STEP   401 / 838 (thread    2) f\b\b\r",
      "STEP   402 / 838 (thread    3) f\b\b\r",
      "STEP   403 / 838 (thread    4) f\b\b\r",
      "STEP   404 / 838 (thread    5) f\b\b\r",
      "STEP   405 / 838 (thread    1) f\b\b\r",
      "STEP   406 / 838 (thread    0) f\b\b\r",
      "STEP   407 / 838 (thread    3) f\b\b\r",
      "STEP   408 / 838 (thread    4) f\b\b\r",
      "STEP   409 / 838 (thread    2) f\b\b\r",
      "STEP   410 / 838 (thread    5) f\b\b\r",
      "STEP   411 / 838 (thread    1) f\b\b\r",
      "STEP   412 / 838 (thread    3) f\b\b\r",
      "STEP   413 / 838 (thread    0) f\b\b\r",
      "STEP   414 / 838 (thread    1) f\b\b\r",
      "STEP   415 / 838 (thread    0) f\b\b\r",
      "STEP   416 / 838 (thread    2) f\b\b\r",
      "STEP   417 / 838 (thread    5) f\b\b\r",
      "STEP   418 / 838 (thread    4) f\b\b\r",
      "STEP   419 / 838 (thread    3) f\b\b\r",
      "STEP   420 / 838 (thread    1) f\b\b\r",
      "STEP   421 / 838 (thread    3) f\b\b\r",
      "STEP   422 / 838 (thread    1) f\b\b\r",
      "STEP   423 / 838 (thread    4) f\b\b\r",
      "STEP   425 / 838 (thread    2) f\b\b\r",
      "STEP   426 / 838 (thread    0) f\b\b\r",
      "STEP   424 / 838 (thread    3) f\b\b\r",
      "STEP   428 / 838 (thread    1) f\b\b\r",
      "STEP   427 / 838 (thread    5) f\b\b\r",
      "STEP   429 / 838 (thread    0) f\b\b\r",
      "STEP   430 / 838 (thread    4) f\b\b\r",
      "STEP   431 / 838 (thread    2) f\b\b\r",
      "STEP   432 / 838 (thread    3) f\b\b\r",
      "STEP   433 / 838 (thread    0) f\b\b\r",
      "STEP   434 / 838 (thread    1) f\b\b\r",
      "STEP   436 / 838 (thread    0) f\b\b\r",
      "STEP   437 / 838 (thread    4) f\b\b\r",
      "STEP   435 / 838 (thread    3) f\b\b\r",
      "STEP   438 / 838 (thread    5) f\b\b\r",
      "STEP   439 / 838 (thread    1) f\b\b\r",
      "STEP   440 / 838 (thread    2) f\b\b\r",
      "STEP   441 / 838 (thread    1) f\b\b\r",
      "STEP   442 / 838 (thread    5) f\b\b\r",
      "STEP   443 / 838 (thread    0) f\b\b\r",
      "STEP   444 / 838 (thread    3) f\b\b\r",
      "STEP   445 / 838 (thread    1) f\b\b\r",
      "STEP   446 / 838 (thread    2) f\b\b\r",
      "STEP   447 / 838 (thread    4) f\b\b\r",
      "STEP   448 / 838 (thread    3) f\b\b\r",
      "STEP   449 / 838 (thread    5) f\b\b\r",
      "STEP   450 / 838 (thread    1) f\b\b\r",
      "STEP   451 / 838 (thread    3) f\b\b\r",
      "STEP   452 / 838 (thread    4) f\b\b\r",
      "STEP   453 / 838 (thread    1) f\b\b\r",
      "STEP   454 / 838 (thread    0) f\b\b\r",
      "STEP   456 / 838 (thread    2) f\b\b\r",
      "STEP   455 / 838 (thread    5) f\b\b\r",
      "STEP   457 / 838 (thread    1) f\b\b\r",
      "STEP   458 / 838 (thread    3) f\b\b\r",
      "STEP   459 / 838 (thread    1) f\b\b\r",
      "STEP   460 / 838 (thread    0) f\b\b\r",
      "STEP   461 / 838 (thread    3) f\b\b\r",
      "STEP   463 / 838 (thread    2) f\b\b\r",
      "STEP   464 / 838 (thread    1) f\b\b\r",
      "STEP   465 / 838 (thread    0) f\b\b\r",
      "STEP   466 / 838 (thread    5) f\b\b\r",
      "STEP   462 / 838 (thread    4) f\b\b\r",
      "STEP   468 / 838 (thread    1) f\b\b\r",
      "STEP   469 / 838 (thread    2) f\b\b\r",
      "STEP   467 / 838 (thread    3) f\b\b\r",
      "STEP   470 / 838 (thread    0) f\b\b\r",
      "STEP   471 / 838 (thread    5) f\b\b\r",
      "STEP   472 / 838 (thread    4) f\b\b\r",
      "STEP   473 / 838 (thread    1) f\b\b\r",
      "STEP   474 / 838 (thread    3) f\b\b\r",
      "STEP   475 / 838 (thread    3) f\b\b\r",
      "STEP   476 / 838 (thread    1) f\b\b\r",
      "STEP   477 / 838 (thread    2) f\b\b\r",
      "STEP   478 / 838 (thread    1) f\b\b\r",
      "STEP   479 / 838 (thread    0) f\b\b\r",
      "STEP   480 / 838 (thread    3) f\b\b\r",
      "STEP   481 / 838 (thread    5) f\b\b\r",
      "STEP   482 / 838 (thread    1) f\b\b\r",
      "STEP   483 / 838 (thread    4) f\b\b\r",
      "STEP   484 / 838 (thread    5) f\b\b\r",
      "STEP   486 / 838 (thread    3) f\b\b\r",
      "STEP   487 / 838 (thread    1) f\b\b\r",
      "STEP   488 / 838 (thread    4) f\b\b\r",
      "STEP   485 / 838 (thread    2)\r",
      "STEP   489 / 838 (thread    0) f\b\b f\b\b\r",
      "STEP   490 / 838 (thread    3) f\b\b\r",
      "STEP   491 / 838 (thread    5) f\b\b\r",
      "STEP   492 / 838 (thread    3) f\b\b\r",
      "STEP   494 / 838 (thread    1) f\b\b\r",
      "STEP   495 / 838 (thread    3) f\b\b\r",
      "STEP   493 / 838 (thread    4) f\b\b\r",
      "STEP   496 / 838 (thread    0) f\b\b\r",
      "STEP   497 / 838 (thread    5) f\b\b\r",
      "STEP   499 / 838 (thread    1) f\b\b\r",
      "STEP   501 / 838 (thread    4) f\b\b\r",
      "STEP   498 / 838 (thread    3) f\b\b\r",
      "STEP   500 / 838 (thread    2) f\b\b\r",
      "STEP   601 / 838 (thread    5) f\b\b"
     ]
    },
    {
     "name": "stderr",
     "output_type": "stream",
     "text": [
      "\r",
      "STEP   701 / 838 (thread    2) f\b\b\r",
      "STEP   801 / 838 (thread    3) f\b\b"
     ]
    },
    {
     "name": "stderr",
     "output_type": "stream",
     "text": [
      "\n",
      "done.\n",
      "\n",
      "Making a distance matrix from msa.. \n",
      "\r",
      "    0 / 839 (thread    0)\r",
      "  100 / 839 (thread    4)\r",
      "  200 / 839 (thread    1)\r",
      "  300 / 839 (thread    5)\r",
      "  400 / 839 (thread    1)\r",
      "  500 / 839 (thread    0)\r",
      "  600 / 839 (thread    0)\r",
      "  700 / 839 (thread    4)\r",
      "  800 / 839 (thread    5)\n",
      "done.\n",
      "\n",
      "Constructing a UPGMA tree (efffree=1) ... \n",
      "\r",
      "    0 / 839\r",
      "   10 / 839\r",
      "   20 / 839\r",
      "   30 / 839\r",
      "   40 / 839\r",
      "   50 / 839\r",
      "   60 / 839\r",
      "   70 / 839\r",
      "   80 / 839\r",
      "   90 / 839\r",
      "  100 / 839\r",
      "  110 / 839\r",
      "  120 / 839\r",
      "  130 / 839\r",
      "  140 / 839\r",
      "  150 / 839\r",
      "  160 / 839\r",
      "  170 / 839\r",
      "  180 / 839\r",
      "  190 / 839\r",
      "  200 / 839\r",
      "  210 / 839\r",
      "  220 / 839\r",
      "  230 / 839\r",
      "  240 / 839\r",
      "  250 / 839\r",
      "  260 / 839\r",
      "  270 / 839\r",
      "  280 / 839\r",
      "  290 / 839\r",
      "  300 / 839\r",
      "  310 / 839\r",
      "  320 / 839\r",
      "  330 / 839\r",
      "  340 / 839\r",
      "  350 / 839\r",
      "  360 / 839\r",
      "  370 / 839\r",
      "  380 / 839\r",
      "  390 / 839\r",
      "  400 / 839\r",
      "  410 / 839\r",
      "  420 / 839\r",
      "  430 / 839\r",
      "  440 / 839\r",
      "  450 / 839\r",
      "  460 / 839\r",
      "  470 / 839\r",
      "  480 / 839\r",
      "  490 / 839\r",
      "  500 / 839\r",
      "  510 / 839\r",
      "  520 / 839\r",
      "  530 / 839\r",
      "  540 / 839\r",
      "  550 / 839\r",
      "  560 / 839\r",
      "  570 / 839\r",
      "  580 / 839\r",
      "  590 / 839\r",
      "  600 / 839\r",
      "  610 / 839\r",
      "  620 / 839\r",
      "  630 / 839\r",
      "  640 / 839\r",
      "  650 / 839\r",
      "  660 / 839\r",
      "  670 / 839\r",
      "  680 / 839\r",
      "  690 / 839\r",
      "  700 / 839\r",
      "  710 / 839\r",
      "  720 / 839\r",
      "  730 / 839\r",
      "  740 / 839\r",
      "  750 / 839\r",
      "  760 / 839\r",
      "  770 / 839\r",
      "  780 / 839\r",
      "  790 / 839\r",
      "  800 / 839\r",
      "  810 / 839\r",
      "  820 / 839\r",
      "  830 / 839\n",
      "done.\n",
      "\n",
      "Progressive alignment 2/2... \n",
      "\r",
      "STEP     1 / 838 (thread    0)\r",
      "STEP     2 / 838 (thread    1) f\b\b f\b\b\r",
      "STEP     3 / 838 (thread    2) f\b\b\r",
      "STEP     4 / 838 (thread    3) f\b\b\r",
      "STEP     5 / 838 (thread    4) f\b\b\r",
      "STEP     6 / 838 (thread    5) f\b\b\r",
      "STEP     7 / 838 (thread    4) f\b\b\r",
      "STEP     8 / 838 (thread    5) f\b\b\r",
      "STEP     9 / 838 (thread    4) f\b\b\r",
      "STEP    10 / 838 (thread    4) f\b\b\r",
      "STEP    11 / 838 (thread    5) f\b\b\r",
      "STEP    12 / 838 (thread    2) f\b\b\r",
      "STEP    13 / 838 (thread    3) f\b\b\r",
      "STEP    14 / 838 (thread    4) f\b\b\r",
      "STEP    15 / 838 (thread    5) f\b\b\r",
      "STEP    16 / 838 (thread    1) f\b\b\r",
      "STEP    17 / 838 (thread    0) f\b\b\r",
      "STEP    18 / 838 (thread    4) f\b\b\r",
      "STEP    19 / 838 (thread    5) f\b\b\r",
      "STEP    20 / 838 (thread    2) f\b\b\r",
      "STEP    21 / 838 (thread    3) f\b\b\r",
      "STEP    22 / 838 (thread    4) f\b\b\r",
      "STEP    23 / 838 (thread    5) f\b\b\r",
      "STEP    24 / 838 (thread    0) f\b\b\r",
      "STEP    25 / 838 (thread    1) f\b\b\r",
      "STEP    26 / 838 (thread    2) f\b\b\r",
      "STEP    27 / 838 (thread    3) f\b\b\r",
      "STEP    28 / 838 (thread    4) f\b\b\r",
      "STEP    29 / 838 (thread    5) f\b\b\r",
      "STEP    30 / 838 (thread    0) f\b\b\r",
      "STEP    31 / 838 (thread    1) f\b\b\r",
      "STEP    32 / 838 (thread    4) f\b\b\r",
      "STEP    33 / 838 (thread    5) f\b\b\r",
      "STEP    34 / 838 (thread    3) f\b\b\r",
      "STEP    35 / 838 (thread    2) f\b\b\r",
      "STEP    36 / 838 (thread    4) f\b\b\r",
      "STEP    37 / 838 (thread    5) f\b\b\r",
      "STEP    38 / 838 (thread    1) f\b\b\r",
      "STEP    39 / 838 (thread    0) f\b\b\r",
      "STEP    40 / 838 (thread    2) f\b\b\r",
      "STEP    41 / 838 (thread    3) f\b\b\r",
      "STEP    42 / 838 (thread    4) f\b\b\r",
      "STEP    43 / 838 (thread    5) f\b\b\r",
      "STEP    44 / 838 (thread    4) f\b\b\r",
      "STEP    45 / 838 (thread    1)\r",
      "STEP    46 / 838 (thread    0) f\b\b f\b\b\r",
      "STEP    47 / 838 (thread    5) f\b\b\r",
      "STEP    48 / 838 (thread    2) f\b\b\r",
      "STEP    49 / 838 (thread    3) f\b\b\r",
      "STEP    50 / 838 (thread    4) f\b\b\r",
      "STEP    51 / 838 (thread    5) f\b\b\r",
      "STEP    52 / 838 (thread    0) f\b\b\r",
      "STEP    53 / 838 (thread    1) f\b\b\r",
      "STEP    54 / 838 (thread    2)\r",
      "STEP    56 / 838 (thread    3) f\b\b f\b\b\r",
      "STEP    55 / 838 (thread    4) f\b\b\r",
      "STEP    57 / 838 (thread    5) f\b\b\r",
      "STEP    58 / 838 (thread    4) f\b\b\r",
      "STEP    59 / 838 (thread    0)\r",
      "STEP    60 / 838 (thread    1) f\b\b f\b\b\r",
      "STEP    61 / 838 (thread    5) f\b\b\r",
      "STEP    62 / 838 (thread    2) f\b\b\r",
      "STEP    63 / 838 (thread    3) f\b\b\r",
      "STEP    64 / 838 (thread    4) f\b\b\r",
      "STEP    65 / 838 (thread    5) f\b\b\r",
      "STEP    66 / 838 (thread    0) f\b\b\r",
      "STEP    67 / 838 (thread    1) f\b\b\r",
      "STEP    68 / 838 (thread    4) f\b\b\r",
      "STEP    69 / 838 (thread    2) f\b\b\r",
      "STEP    70 / 838 (thread    3) f\b\b\r",
      "STEP    71 / 838 (thread    5) f\b\b\r",
      "STEP    74 / 838 (thread    5) f\b\b\r",
      "STEP    72 / 838 (thread    0) f\b\b\r",
      "STEP    75 / 838 (thread    1) f\b\b\r",
      "STEP    76 / 838 (thread    5) f\b\b\r",
      "STEP    77 / 838 (thread    2) f\b\b\r",
      "STEP    78 / 838 (thread    3) f\b\b\r",
      "STEP    79 / 838 (thread    1) f\b\b\r",
      "STEP    80 / 838 (thread    5) f\b\b\r",
      "STEP    81 / 838 (thread    3) f\b\b\r",
      "STEP    82 / 838 (thread    2) f\b\b\r",
      "STEP    83 / 838 (thread    5) f\b\b\r",
      "STEP    84 / 838 (thread    0) f\b\b\r",
      "STEP    73 / 838 (thread    4) f\b\b\r",
      "STEP    85 / 838 (thread    1) f\b\b\r",
      "STEP    86 / 838 (thread    5) f\b\b\r",
      "STEP    87 / 838 (thread    3) f\b\b\r",
      "STEP    89 / 838 (thread    0) f\b\b\r",
      "STEP    90 / 838 (thread    1) f\b\b\r",
      "STEP    91 / 838 (thread    4) f\b\b\r",
      "STEP    92 / 838 (thread    3) f\b\b\r",
      "STEP    88 / 838 (thread    2) f\b\b\r",
      "STEP    93 / 838 (thread    5) f\b\b\r",
      "STEP    94 / 838 (thread    0) f\b\b\r",
      "STEP    95 / 838 (thread    1) f\b\b\r",
      "STEP    96 / 838 (thread    5) f\b\b\r",
      "STEP    97 / 838 (thread    4) f\b\b\r",
      "STEP    98 / 838 (thread    0) f\b\b\r",
      "STEP    99 / 838 (thread    1) f\b\b\r",
      "STEP   100 / 838 (thread    5) f\b\b\r",
      "STEP   101 / 838 (thread    4) f\b\b"
     ]
    },
    {
     "name": "stderr",
     "output_type": "stream",
     "text": [
      "\r",
      "STEP   102 / 838 (thread    2) f\b\b\r",
      "STEP   103 / 838 (thread    3) f\b\b\r",
      "STEP   104 / 838 (thread    5) f\b\b\r",
      "STEP   105 / 838 (thread    4) f\b\b\r",
      "STEP   106 / 838 (thread    0) f\b\b\r",
      "STEP   107 / 838 (thread    5) f\b\b\r",
      "STEP   108 / 838 (thread    2) f\b\b\r",
      "STEP   109 / 838 (thread    3) f\b\b\r",
      "STEP   110 / 838 (thread    1) f\b\b\r",
      "STEP   111 / 838 (thread    4) f\b\b\r",
      "STEP   112 / 838 (thread    5) f\b\b\r",
      "STEP   113 / 838 (thread    0) f\b\b\r",
      "STEP   114 / 838 (thread    2) f\b\b\r",
      "STEP   115 / 838 (thread    3) f\b\b\r",
      "STEP   116 / 838 (thread    5) f\b\b\r",
      "STEP   117 / 838 (thread    4) f\b\b\r",
      "STEP   118 / 838 (thread    1) f\b\b\r",
      "STEP   119 / 838 (thread    0) f\b\b\r",
      "STEP   120 / 838 (thread    5) f\b\b\r",
      "STEP   121 / 838 (thread    2) f\b\b\r",
      "STEP   122 / 838 (thread    3) f\b\b\r",
      "STEP   124 / 838 (thread    5) f\b\b\r",
      "STEP   125 / 838 (thread    1) f\b\b\r",
      "STEP   126 / 838 (thread    0) f\b\b\r",
      "STEP   123 / 838 (thread    4) f\b\b\r",
      "STEP   127 / 838 (thread    2) f\b\b\r",
      "STEP   128 / 838 (thread    3) f\b\b\r",
      "STEP   129 / 838 (thread    5) f\b\b\r",
      "STEP   130 / 838 (thread    0) f\b\b\r",
      "STEP   131 / 838 (thread    4) f\b\b\r",
      "STEP   132 / 838 (thread    2) f\b\b\r",
      "STEP   133 / 838 (thread    1) f\b\b\r",
      "STEP   134 / 838 (thread    3) f\b\b\r",
      "STEP   135 / 838 (thread    4) f\b\b\r",
      "STEP   136 / 838 (thread    0) f\b\b\r",
      "STEP   137 / 838 (thread    5) f\b\b\r",
      "STEP   138 / 838 (thread    4) f\b\b\r",
      "STEP   139 / 838 (thread    1) f\b\b\r",
      "STEP   140 / 838 (thread    3) f\b\b\r",
      "STEP   141 / 838 (thread    5) f\b\b\r",
      "STEP   142 / 838 (thread    0) f\b\b\r",
      "STEP   143 / 838 (thread    4) f\b\b\r",
      "STEP   144 / 838 (thread    2) f\b\b\r",
      "STEP   145 / 838 (thread    1) f\b\b\r",
      "STEP   146 / 838 (thread    5) f\b\b\r",
      "STEP   147 / 838 (thread    3) f\b\b\r",
      "STEP   148 / 838 (thread    4) f\b\b\r",
      "STEP   149 / 838 (thread    0) f\b\b\r",
      "STEP   150 / 838 (thread    5) f\b\b\r",
      "STEP   151 / 838 (thread    2) f\b\b\r",
      "STEP   152 / 838 (thread    1) f\b\b\r",
      "STEP   153 / 838 (thread    3) f\b\b\r",
      "STEP   154 / 838 (thread    0) f\b\b\r",
      "STEP   155 / 838 (thread    4) f\b\b\r",
      "STEP   156 / 838 (thread    5) f\b\b\r",
      "STEP   157 / 838 (thread    1) f\b\b\r",
      "STEP   158 / 838 (thread    3) f\b\b\r",
      "STEP   159 / 838 (thread    0) f\b\b\r",
      "STEP   160 / 838 (thread    5) f\b\b\r",
      "STEP   161 / 838 (thread    2) f\b\b\r",
      "STEP   162 / 838 (thread    4) f\b\b\r",
      "STEP   163 / 838 (thread    1) f\b\b\r",
      "STEP   164 / 838 (thread    3) f\b\b\r",
      "STEP   165 / 838 (thread    5) f\b\b\r",
      "STEP   166 / 838 (thread    4) f\b\b\r",
      "STEP   167 / 838 (thread    2) f\b\b\r",
      "STEP   168 / 838 (thread    1) f\b\b\r",
      "STEP   169 / 838 (thread    3) f\b\b\r",
      "STEP   170 / 838 (thread    4) f\b\b\r",
      "STEP   171 / 838 (thread    0) f\b\b\r",
      "STEP   172 / 838 (thread    5) f\b\b\r",
      "STEP   173 / 838 (thread    2) f\b\b\r",
      "STEP   174 / 838 (thread    4) f\b\b\r",
      "STEP   175 / 838 (thread    3) f\b\b\r",
      "STEP   176 / 838 (thread    5) f\b\b\r",
      "STEP   177 / 838 (thread    0) f\b\b\r",
      "STEP   178 / 838 (thread    1) f\b\b\r",
      "STEP   179 / 838 (thread    4) f\b\b\r",
      "STEP   180 / 838 (thread    5) f\b\b\r",
      "STEP   181 / 838 (thread    2) f\b\b\r",
      "STEP   182 / 838 (thread    3) f\b\b\r",
      "STEP   183 / 838 (thread    4) f\b\b\r",
      "STEP   184 / 838 (thread    0) f\b\b\r",
      "STEP   185 / 838 (thread    5) f\b\b\r",
      "STEP   186 / 838 (thread    2) f\b\b\r",
      "STEP   187 / 838 (thread    1) f\b\b\r",
      "STEP   188 / 838 (thread    3) f\b\b\r",
      "STEP   189 / 838 (thread    5) f\b\b\r",
      "STEP   190 / 838 (thread    4) f\b\b\r",
      "STEP   191 / 838 (thread    5) f\b\b\r",
      "STEP   192 / 838 (thread    3) f\b\b\r",
      "STEP   193 / 838 (thread    0) f\b\b\r",
      "STEP   194 / 838 (thread    5) f\b\b\r",
      "STEP   195 / 838 (thread    4) f\b\b\r",
      "STEP   196 / 838 (thread    1) f\b\b\r",
      "STEP   197 / 838 (thread    3) f\b\b\r",
      "STEP   198 / 838 (thread    2) f\b\b\r",
      "STEP   199 / 838 (thread    5) f\b\b\r",
      "STEP   201 / 838 (thread    4) f\b\b\r",
      "STEP   202 / 838 (thread    1) f\b\b\r",
      "STEP   200 / 838 (thread    0) f\b\b\r",
      "STEP   203 / 838 (thread    5) f\b\b\r",
      "STEP   204 / 838 (thread    4) f\b\b\r",
      "STEP   205 / 838 (thread    3) f\b\b\r",
      "STEP   206 / 838 (thread    5) f\b\b\r",
      "STEP   207 / 838 (thread    2) f\b\b\r",
      "STEP   208 / 838 (thread    5) f\b\b\r",
      "STEP   209 / 838 (thread    3) f\b\b\r",
      "STEP   210 / 838 (thread    4) f\b\b\r",
      "STEP   211 / 838 (thread    0) f\b\b\r",
      "STEP   212 / 838 (thread    1) f\b\b\r",
      "STEP   213 / 838 (thread    4) f\b\b\r",
      "STEP   214 / 838 (thread    3) f\b\b\r",
      "STEP   215 / 838 (thread    5) f\b\b\r",
      "STEP   216 / 838 (thread    2) f\b\b\r",
      "STEP   217 / 838 (thread    0) f\b\b\r",
      "STEP   218 / 838 (thread    1) f\b\b\r",
      "STEP   219 / 838 (thread    4) f\b\b\r",
      "STEP   220 / 838 (thread    5) f\b\b\r",
      "STEP   221 / 838 (thread    3) f\b\b\r",
      "STEP   222 / 838 (thread    4) f\b\b\r",
      "STEP   223 / 838 (thread    0) f\b\b\r",
      "STEP   224 / 838 (thread    5) f\b\b\r",
      "STEP   225 / 838 (thread    2) f\b\b\r",
      "STEP   226 / 838 (thread    1) f\b\b\r",
      "STEP   227 / 838 (thread    4) f\b\b\r",
      "STEP   228 / 838 (thread    5) f\b\b\r",
      "STEP   229 / 838 (thread    3) f\b\b\r",
      "STEP   230 / 838 (thread    5) f\b\b\r",
      "STEP   231 / 838 (thread    0) f\b\b\r",
      "STEP   232 / 838 (thread    5) f\b\b\r",
      "STEP   233 / 838 (thread    3) f\b\b\r",
      "STEP   234 / 838 (thread    2) f\b\b\r",
      "STEP   235 / 838 (thread    4) f\b\b\r",
      "STEP   236 / 838 (thread    0) f\b\b\r",
      "STEP   237 / 838 (thread    5) f\b\b\r",
      "STEP   238 / 838 (thread    1) f\b\b\r",
      "STEP   239 / 838 (thread    3) f\b\b\r",
      "STEP   240 / 838 (thread    0) f\b\b\r",
      "STEP   241 / 838 (thread    4) f\b\b\r",
      "STEP   242 / 838 (thread    5) f\b\b\r",
      "STEP   243 / 838 (thread    2) f\b\b\r",
      "STEP   244 / 838 (thread    4) f\b\b\r",
      "STEP   245 / 838 (thread    1) f\b\b\r",
      "STEP   246 / 838 (thread    5) f\b\b\r",
      "STEP   247 / 838 (thread    3) f\b\b\r",
      "STEP   248 / 838 (thread    0) f\b\b\r",
      "STEP   249 / 838 (thread    4) f\b\b\r",
      "STEP   250 / 838 (thread    5) f\b\b\r",
      "STEP   251 / 838 (thread    1) f\b\b\r",
      "STEP   252 / 838 (thread    2) f\b\b\r",
      "STEP   253 / 838 (thread    4) f\b\b\r",
      "STEP   254 / 838 (thread    0) f\b\b\r",
      "STEP   255 / 838 (thread    4) f\b\b\r",
      "STEP   256 / 838 (thread    2) f\b\b\r",
      "STEP   257 / 838 (thread    3) f\b\b\r",
      "STEP   259 / 838 (thread    4) f\b\b\r",
      "STEP   260 / 838 (thread    0) f\b\b\r",
      "STEP   261 / 838 (thread    1) f\b\b\r",
      "STEP   262 / 838 (thread    2) f\b\b\r",
      "STEP   258 / 838 (thread    5) f\b\b\r",
      "STEP   263 / 838 (thread    3) f\b\b\r",
      "STEP   264 / 838 (thread    4) f\b\b\r",
      "STEP   265 / 838 (thread    5) f\b\b\r",
      "STEP   266 / 838 (thread    0) f\b\b\r",
      "STEP   267 / 838 (thread    1) f\b\b\r",
      "STEP   268 / 838 (thread    2) f\b\b\r",
      "STEP   269 / 838 (thread    4) f\b\b\r",
      "STEP   270 / 838 (thread    3) f\b\b\r",
      "STEP   271 / 838 (thread    5) f\b\b\r",
      "STEP   272 / 838 (thread    4) f\b\b\r",
      "STEP   273 / 838 (thread    0) f\b\b\r",
      "STEP   274 / 838 (thread    1) f\b\b\r",
      "STEP   275 / 838 (thread    5) f\b\b\r",
      "STEP   276 / 838 (thread    4) f\b\b\r",
      "STEP   277 / 838 (thread    3) f\b\b\r",
      "STEP   278 / 838 (thread    2) f\b\b\r",
      "STEP   279 / 838 (thread    0) f\b\b\r",
      "STEP   280 / 838 (thread    4) f\b\b\r",
      "STEP   281 / 838 (thread    3) f\b\b\r",
      "STEP   282 / 838 (thread    5) f\b\b\r",
      "STEP   283 / 838 (thread    4) f\b\b\r",
      "STEP   284 / 838 (thread    1) f\b\b\r",
      "STEP   285 / 838 (thread    2) f\b\b\r",
      "STEP   286 / 838 (thread    3) f\b\b\r",
      "STEP   287 / 838 (thread    5) f\b\b\r",
      "STEP   288 / 838 (thread    0) f\b\b\r",
      "STEP   289 / 838 (thread    4) f\b\b\r",
      "STEP   290 / 838 (thread    1) f\b\b\r",
      "STEP   291 / 838 (thread    2) f\b\b\r",
      "STEP   292 / 838 (thread    5) f\b\b\r",
      "STEP   293 / 838 (thread    4) f\b\b\r",
      "STEP   294 / 838 (thread    3) f\b\b\r",
      "STEP   295 / 838 (thread    2) f\b\b\r",
      "STEP   296 / 838 (thread    0) f\b\b\r",
      "STEP   297 / 838 (thread    5) f\b\b\r",
      "STEP   298 / 838 (thread    1) f\b\b\r",
      "STEP   299 / 838 (thread    2) f\b\b\r",
      "STEP   300 / 838 (thread    4) f\b\b\r",
      "STEP   302 / 838 (thread    5) f\b\b\r",
      "STEP   303 / 838 (thread    3) f\b\b\r",
      "STEP   301 / 838 (thread    0) f\b\b\r",
      "STEP   304 / 838 (thread    1) f\b\b\r",
      "STEP   305 / 838 (thread    5) f\b\b\r",
      "STEP   306 / 838 (thread    4) f\b\b\r",
      "STEP   307 / 838 (thread    3) f\b\b\r",
      "STEP   308 / 838 (thread    4) f\b\b\r",
      "STEP   309 / 838 (thread    2) f\b\b\r",
      "STEP   310 / 838 (thread    5) f\b\b\r",
      "STEP   311 / 838 (thread    1) f\b\b\r",
      "STEP   312 / 838 (thread    0) f\b\b\r",
      "STEP   313 / 838 (thread    5) f\b\b\r",
      "STEP   314 / 838 (thread    4) f\b\b\r",
      "STEP   315 / 838 (thread    3) f\b\b\r",
      "STEP   316 / 838 (thread    4) f\b\b\r",
      "STEP   317 / 838 (thread    3) f\b\b\r",
      "STEP   318 / 838 (thread    2) f\b\b\r",
      "STEP   319 / 838 (thread    1) f\b\b\r",
      "STEP   320 / 838 (thread    0) f\b\b\r",
      "STEP   321 / 838 (thread    5) f\b\b\r",
      "STEP   322 / 838 (thread    4) f\b\b\r",
      "STEP   323 / 838 (thread    5) f\b\b\r",
      "STEP   324 / 838 (thread    3) f\b\b\r",
      "STEP   325 / 838 (thread    1) f\b\b\r",
      "STEP   326 / 838 (thread    4) f\b\b\r",
      "STEP   327 / 838 (thread    2) f\b\b\r",
      "STEP   328 / 838 (thread    0) f\b\b\r",
      "STEP   329 / 838 (thread    5) f\b\b\r",
      "STEP   330 / 838 (thread    4) f\b\b\r",
      "STEP   331 / 838 (thread    3) f\b\b\r",
      "STEP   332 / 838 (thread    1) f\b\b\r",
      "STEP   333 / 838 (thread    4) f\b\b\r",
      "STEP   334 / 838 (thread    5) f\b\b\r",
      "STEP   335 / 838 (thread    4) f\b\b\r",
      "STEP   336 / 838 (thread    3) f\b\b\r",
      "STEP   337 / 838 (thread    2) f\b\b\r",
      "STEP   338 / 838 (thread    0) f\b\b\r",
      "STEP   339 / 838 (thread    5) f\b\b\r",
      "STEP   340 / 838 (thread    2) f\b\b\r",
      "STEP   341 / 838 (thread    1) f\b\b\r",
      "STEP   342 / 838 (thread    4) f\b\b\r",
      "STEP   343 / 838 (thread    5) f\b\b\r",
      "STEP   344 / 838 (thread    4) f\b\b\r",
      "STEP   345 / 838 (thread    3) f\b\b\r",
      "STEP   346 / 838 (thread    0) f\b\b\r",
      "STEP   347 / 838 (thread    4) f\b\b\r",
      "STEP   348 / 838 (thread    1) f\b\b\r",
      "STEP   349 / 838 (thread    2) f\b\b\r",
      "STEP   350 / 838 (thread    5) f\b\b\r",
      "STEP   351 / 838 (thread    4) f\b\b\r",
      "STEP   352 / 838 (thread    2) f\b\b\r",
      "STEP   353 / 838 (thread    0) f\b\b\r",
      "STEP   354 / 838 (thread    5) f\b\b\r",
      "STEP   355 / 838 (thread    3) f\b\b\r",
      "STEP   356 / 838 (thread    4) f\b\b\r",
      "STEP   357 / 838 (thread    2) f\b\b\r",
      "STEP   358 / 838 (thread    1) f\b\b\r",
      "STEP   359 / 838 (thread    3) f\b\b\r",
      "STEP   360 / 838 (thread    5) f\b\b\r",
      "STEP   361 / 838 (thread    0) f\b\b\r",
      "STEP   362 / 838 (thread    4) f\b\b\r",
      "STEP   363 / 838 (thread    5) f\b\b\r",
      "STEP   364 / 838 (thread    2) f\b\b\r",
      "STEP   365 / 838 (thread    1) f\b\b\r",
      "STEP   366 / 838 (thread    4) f\b\b\r",
      "STEP   367 / 838 (thread    0) f\b\b\r",
      "STEP   368 / 838 (thread    5) f\b\b\r",
      "STEP   369 / 838 (thread    3) f\b\b\r",
      "STEP   370 / 838 (thread    4) f\b\b\r",
      "STEP   371 / 838 (thread    5) f\b\b\r",
      "STEP   372 / 838 (thread    0) f\b\b\r",
      "STEP   373 / 838 (thread    2) f\b\b\r",
      "STEP   374 / 838 (thread    1) f\b\b\r",
      "STEP   375 / 838 (thread    4) f\b\b\r",
      "STEP   376 / 838 (thread    5) f\b\b\r",
      "STEP   377 / 838 (thread    3) f\b\b\r",
      "STEP   378 / 838 (thread    0) f\b\b\r",
      "STEP   379 / 838 (thread    5) f\b\b\r",
      "STEP   380 / 838 (thread    4) f\b\b\r",
      "STEP   381 / 838 (thread    2) f\b\b\r",
      "STEP   382 / 838 (thread    1) f\b\b\r",
      "STEP   383 / 838 (thread    5) f\b\b\r",
      "STEP   384 / 838 (thread    4) f\b\b\r",
      "STEP   385 / 838 (thread    3) f\b\b\r",
      "STEP   386 / 838 (thread    2) f\b\b\r",
      "STEP   387 / 838 (thread    5) f\b\b\r",
      "STEP   388 / 838 (thread    0) f\b\b\r",
      "STEP   389 / 838 (thread    4) f\b\b\r",
      "STEP   390 / 838 (thread    1) f\b\b\r",
      "STEP   391 / 838 (thread    5) f\b\b\r",
      "STEP   392 / 838 (thread    2) f\b\b\r",
      "STEP   393 / 838 (thread    3) f\b\b\r",
      "STEP   394 / 838 (thread    4) f\b\b\r",
      "STEP   395 / 838 (thread    2) f\b\b\r",
      "STEP   396 / 838 (thread    5) f\b\b\r",
      "STEP   397 / 838 (thread    0) f\b\b\r",
      "STEP   398 / 838 (thread    1) f\b\b\r",
      "STEP   399 / 838 (thread    4) f\b\b\r",
      "STEP   400 / 838 (thread    3) f\b\b\r",
      "STEP   401 / 838 (thread    5) f\b\b\r",
      "STEP   402 / 838 (thread    4) f\b\b\r",
      "STEP   403 / 838 (thread    2) f\b\b\r",
      "STEP   405 / 838 (thread    0) f\b\b\r",
      "STEP   406 / 838 (thread    4) f\b\b\r",
      "STEP   407 / 838 (thread    5) f\b\b\r",
      "STEP   408 / 838 (thread    1) f\b\b\r",
      "STEP   404 / 838 (thread    3) f\b\b\r",
      "STEP   409 / 838 (thread    2) f\b\b\r",
      "STEP   410 / 838 (thread    0) f\b\b\r",
      "STEP   411 / 838 (thread    4) f\b\b\r",
      "STEP   412 / 838 (thread    5) f\b\b\r",
      "STEP   414 / 838 (thread    4) f\b\b\r",
      "STEP   415 / 838 (thread    5) f\b\b\r",
      "STEP   416 / 838 (thread    2) f\b\b\r",
      "STEP   417 / 838 (thread    1) f\b\b\r",
      "STEP   413 / 838 (thread    3) f\b\b\r",
      "STEP   418 / 838 (thread    0) f\b\b\r",
      "STEP   420 / 838 (thread    4) f\b\b\r",
      "STEP   421 / 838 (thread    1) f\b\b\r",
      "STEP   419 / 838 (thread    5) f\b\b\r",
      "STEP   422 / 838 (thread    2) f\b\b\r",
      "STEP   423 / 838 (thread    4) f\b\b\r",
      "STEP   424 / 838 (thread    0) f\b\b\r",
      "STEP   425 / 838 (thread    3) f\b\b\r",
      "STEP   426 / 838 (thread    4) f\b\b\r",
      "STEP   427 / 838 (thread    1) f\b\b\r",
      "STEP   428 / 838 (thread    4) f\b\b\r",
      "STEP   429 / 838 (thread    5) f\b\b\r",
      "STEP   430 / 838 (thread    0) f\b\b\r",
      "STEP   431 / 838 (thread    2) f\b\b\r",
      "STEP   432 / 838 (thread    5) f\b\b\r",
      "STEP   433 / 838 (thread    4) f\b\b\r",
      "STEP   434 / 838 (thread    1) f\b\b\r",
      "STEP   435 / 838 (thread    3) f\b\b\r",
      "STEP   436 / 838 (thread    0) f\b\b\r",
      "STEP   437 / 838 (thread    5) f\b\b\r",
      "STEP   438 / 838 (thread    4) f\b\b\r",
      "STEP   439 / 838 (thread    2) f\b\b\r",
      "STEP   440 / 838 (thread    5) f\b\b\r",
      "STEP   441 / 838 (thread    1) f\b\b\r",
      "STEP   442 / 838 (thread    3) f\b\b\r",
      "STEP   443 / 838 (thread    0) f\b\b\r",
      "STEP   445 / 838 (thread    5) f\b\b\r",
      "STEP   447 / 838 (thread    1) f\b\b\r",
      "STEP   446 / 838 (thread    5) f\b\b\r",
      "STEP   448 / 838 (thread    2) f\b\b\r",
      "STEP   444 / 838 (thread    4) f\b\b\r",
      "STEP   449 / 838 (thread    3) f\b\b\r",
      "STEP   450 / 838 (thread    0) f\b\b\r",
      "STEP   451 / 838 (thread    5) f\b\b\r",
      "STEP   452 / 838 (thread    0) f\b\b\r",
      "STEP   453 / 838 (thread    4) f\b\b\r",
      "STEP   454 / 838 (thread    1) f\b\b\r",
      "STEP   455 / 838 (thread    2) f\b\b\r",
      "STEP   456 / 838 (thread    5) f\b\b\r",
      "STEP   457 / 838 (thread    3) f\b\b\r",
      "STEP   458 / 838 (thread    0) f\b\b\r",
      "STEP   459 / 838 (thread    1) f\b\b\r",
      "STEP   460 / 838 (thread    4) f\b\b\r",
      "STEP   461 / 838 (thread    5) f\b\b\r",
      "STEP   462 / 838 (thread    2) f\b\b\r",
      "STEP   463 / 838 (thread    3) f\b\b\r",
      "STEP   464 / 838 (thread    2) f\b\b\r",
      "STEP   465 / 838 (thread    0) f\b\b\r",
      "STEP   466 / 838 (thread    4) f\b\b\r",
      "STEP   467 / 838 (thread    1) f\b\b\r",
      "STEP   468 / 838 (thread    5) f\b\b\r",
      "STEP   469 / 838 (thread    3) f\b\b\r",
      "STEP   470 / 838 (thread    2) f\b\b\r",
      "STEP   472 / 838 (thread    0) f\b\b\r",
      "STEP   471 / 838 (thread    5) f\b\b\r",
      "STEP   473 / 838 (thread    3) f\b\b\r",
      "STEP   474 / 838 (thread    4) f\b\b\r",
      "STEP   475 / 838 (thread    0) f\b\b\r",
      "STEP   476 / 838 (thread    1) f\b\b\r",
      "STEP   477 / 838 (thread    2) f\b\b\r",
      "STEP   479 / 838 (thread    4) f\b\b\r",
      "STEP   480 / 838 (thread    3) f\b\b\r",
      "STEP   481 / 838 (thread    0) f\b\b\r",
      "STEP   483 / 838 (thread    4) f\b\b\r",
      "STEP   484 / 838 (thread    0) f\b\b\r",
      "STEP   485 / 838 (thread    4) f\b\b\r",
      "STEP   486 / 838 (thread    0) f\b\b\r",
      "STEP   487 / 838 (thread    3) f\b\b\r",
      "STEP   489 / 838 (thread    4) f\b\b\r",
      "STEP   478 / 838 (thread    5) f\b\b\r",
      "STEP   490 / 838 (thread    2) f\b\b\r",
      "STEP   491 / 838 (thread    3) f\b\b\r",
      "STEP   492 / 838 (thread    4) f\b\b\r",
      "STEP   494 / 838 (thread    3) f\b\b\r",
      "STEP   482 / 838 (thread    1) f\b\b\r",
      "STEP   495 / 838 (thread    5) f\b\b\r",
      "STEP   496 / 838 (thread    2) f\b\b\r",
      "STEP   497 / 838 (thread    5) f\b\b\r",
      "STEP   498 / 838 (thread    3) f\b\b\r",
      "STEP   499 / 838 (thread    1) f\b\b\r",
      "STEP   488 / 838 (thread    0) f\b\b\r",
      "STEP   501 / 838 (thread    2) f\b\b\r",
      "STEP   493 / 838 (thread    4) f\b\b\r",
      "STEP   500 / 838 (thread    5) f\b\b\r",
      "STEP   601 / 838 (thread    0) f\b\b"
     ]
    },
    {
     "name": "stderr",
     "output_type": "stream",
     "text": [
      "\n",
      "Reallocating..done. *alloclen = 1864\n",
      "\r",
      "STEP   701 / 838 (thread    2) f\b\b\r",
      "STEP   801 / 838 (thread    5) d\b\b"
     ]
    },
    {
     "name": "stderr",
     "output_type": "stream",
     "text": [
      "\n",
      "done.\n",
      "\n",
      "disttbfast (nuc) Version 7.490\n",
      "alg=A, model=DNA200 (2), 1.53 (4.59), -0.00 (-0.00), noshift, amax=0.0\n",
      "6 thread(s)\n",
      "\n",
      "\n",
      "Strategy:\n",
      " FFT-NS-2 (Fast but rough)\n",
      " Progressive method (guide trees were built 2 times.)\n",
      "\n",
      "If unsure which option to use, try 'mafft --auto input > output'.\n",
      "For more information, see 'mafft --help', 'mafft --man' and the mafft page.\n",
      "\n",
      "The default gap scoring scheme has been changed in version 7.110 (2013 Oct).\n",
      "It tends to insert more gaps into gap-rich regions than previous versions.\n",
      "To disable this change, add the --leavegappyregion option.\n",
      "\n"
     ]
    },
    {
     "name": "stdout",
     "output_type": "stream",
     "text": [
      "{'max_gap_frequency': 1.0, 'min_conservation': 0.4, 'alignment': TabularMSA[DNA]\n",
      "-----------------------------------------------------------------------\n",
      "Stats:\n",
      "    sequence count: 839\n",
      "    position count: 486\n",
      "-----------------------------------------------------------------------\n",
      "TGAGGAATATTGGTCAATGGAGGCAACTCTGAA ... GGTATCGAACAGG--------------------\n",
      "TGAGGAATATTGGTCAATGGCCGGAAGGCTGAA ... GGGATCAAACAGG--------------------\n",
      "...\n",
      "TGAGGAATCTTCCACAATGGGCGAAAGCCTGAT ... GGGAGCGAACGGG--------------------\n",
      "TGGGGAATATTGGACAATGGGCGCAAGCCTGAT ... GGGAGCAAACAGG--------------------}\n",
      "{'max_gap_frequency': 1.0, 'min_conservation': 0.4, 'alignment': TabularMSA[DNA]\n",
      "-----------------------------------------------------------------------\n",
      "Stats:\n",
      "    sequence count: 839\n",
      "    position count: 486\n",
      "-----------------------------------------------------------------------\n",
      "TGAGGAATATTGGTCAATGGAGGCAACTCTGAA ... GGTATCGAACAGG--------------------\n",
      "TGAGGAATATTGGTCAATGGCCGGAAGGCTGAA ... GGGATCAAACAGG--------------------\n",
      "...\n",
      "TGAGGAATCTTCCACAATGGGCGAAAGCCTGAT ... GGGAGCGAACGGG--------------------\n",
      "TGGGGAATATTGGACAATGGGCGCAAGCCTGAT ... GGGAGCAAACAGG--------------------}\n"
     ]
    },
    {
     "name": "stdout",
     "output_type": "stream",
     "text": [
      "{'n_threads': 6, 'alignment': <q2_types.feature_data._format.AlignedDNAFASTAFormat object at 0x7f97fe9a4f40>}\n",
      "{'n_threads': 6, 'alignment': <q2_types.feature_data._format.AlignedDNAFASTAFormat object at 0x7f97fe9a4f40>}\n",
      "Running external command line application. This may print messages to stdout and/or stderr.\n",
      "The command being run is below. This command cannot be manually re-run as it will depend on temporary files that no longer exist.\n",
      "\n",
      "Command: FastTreeMP -quote -nt /tmp/qiime2-archive-yu9ygftb/ab4f08aa-ac0f-4495-8860-aee96c70d145/data/aligned-dna-sequences.fasta\n",
      "\n"
     ]
    },
    {
     "name": "stderr",
     "output_type": "stream",
     "text": [
      "FastTree Version 2.1.10 Double precision (No SSE3), OpenMP (6 threads)\n",
      "Alignment: /tmp/qiime2-archive-yu9ygftb/ab4f08aa-ac0f-4495-8860-aee96c70d145/data/aligned-dna-sequences.fasta\n",
      "Nucleotide distances: Jukes-Cantor Joins: balanced Support: SH-like 1000\n",
      "Search: Normal +NNI +SPR (2 rounds range 10) +ML-NNI opt-each=1\n",
      "TopHits: 1.00*sqrtN close=default refresh=0.80\n",
      "ML Model: Jukes-Cantor, CAT approximation with 20 rate categories\n",
      "      0.10 seconds: Joined    100 of    800\n"
     ]
    },
    {
     "name": "stderr",
     "output_type": "stream",
     "text": [
      "      0.22 seconds: Joined    300 of    800\n",
      "      0.34 seconds: Joined    500 of    800\n"
     ]
    },
    {
     "name": "stderr",
     "output_type": "stream",
     "text": [
      "Initial topology in 0.49 seconds\n",
      "Refining topology: 39 rounds ME-NNIs, 2 rounds ME-SPRs, 19 rounds ML-NNIs\n",
      "      0.49 seconds: ME NNI round 1 of 39, 1 of 801 splits\n",
      "      0.59 seconds: ME NNI round 6 of 39, 101 of 801 splits, 4 changes (max delta 0.003)\n"
     ]
    },
    {
     "name": "stderr",
     "output_type": "stream",
     "text": [
      "      0.71 seconds: SPR round   1 of   2, 201 of 1604 nodes\n",
      "      0.84 seconds: SPR round   1 of   2, 401 of 1604 nodes\n"
     ]
    },
    {
     "name": "stderr",
     "output_type": "stream",
     "text": [
      "      0.96 seconds: SPR round   1 of   2, 601 of 1604 nodes\n",
      "      1.09 seconds: SPR round   1 of   2, 801 of 1604 nodes\n"
     ]
    },
    {
     "name": "stderr",
     "output_type": "stream",
     "text": [
      "      1.23 seconds: SPR round   1 of   2, 1001 of 1604 nodes\n",
      "      1.37 seconds: SPR round   1 of   2, 1201 of 1604 nodes\n"
     ]
    },
    {
     "name": "stderr",
     "output_type": "stream",
     "text": [
      "      1.49 seconds: SPR round   1 of   2, 1401 of 1604 nodes\n",
      "      1.62 seconds: SPR round   1 of   2, 1601 of 1604 nodes\n"
     ]
    },
    {
     "name": "stderr",
     "output_type": "stream",
     "text": [
      "      1.73 seconds: SPR round   2 of   2, 101 of 1604 nodes\n",
      "      1.85 seconds: SPR round   2 of   2, 301 of 1604 nodes\n"
     ]
    },
    {
     "name": "stderr",
     "output_type": "stream",
     "text": [
      "      1.97 seconds: SPR round   2 of   2, 501 of 1604 nodes\n",
      "      2.11 seconds: SPR round   2 of   2, 701 of 1604 nodes\n"
     ]
    },
    {
     "name": "stderr",
     "output_type": "stream",
     "text": [
      "      2.23 seconds: SPR round   2 of   2, 901 of 1604 nodes\n",
      "      2.35 seconds: SPR round   2 of   2, 1101 of 1604 nodes\n"
     ]
    },
    {
     "name": "stderr",
     "output_type": "stream",
     "text": [
      "      2.50 seconds: SPR round   2 of   2, 1401 of 1604 nodes\n",
      "      2.60 seconds: SPR round   2 of   2, 1601 of 1604 nodes\n",
      "Total branch-length 18.507 after 2.69 sec\n"
     ]
    },
    {
     "name": "stderr",
     "output_type": "stream",
     "text": [
      "      2.71 seconds: ML Lengths 101 of 801 splits\n",
      "      2.82 seconds: ML Lengths 501 of 801 splits\n"
     ]
    },
    {
     "name": "stderr",
     "output_type": "stream",
     "text": [
      "      2.99 seconds: ML NNI round 1 of 19, 101 of 801 splits, 22 changes (max delta 5.875)\n",
      "      3.13 seconds: ML NNI round 1 of 19, 301 of 801 splits, 59 changes (max delta 7.189)\n"
     ]
    },
    {
     "name": "stderr",
     "output_type": "stream",
     "text": [
      "      3.28 seconds: ML NNI round 1 of 19, 501 of 801 splits, 84 changes (max delta 9.450)\n",
      "      3.43 seconds: ML NNI round 1 of 19, 701 of 801 splits, 112 changes (max delta 9.450)\n"
     ]
    },
    {
     "name": "stderr",
     "output_type": "stream",
     "text": [
      "ML-NNI round 1: LogLk = -47817.240 NNIs 127 max delta 9.45 Time 3.52\n",
      "      3.54 seconds: Site likelihoods with rate category 3 of 20\n",
      "      3.64 seconds: Site likelihoods with rate category 16 of 20\n",
      "Switched to using 20 rate categories (CAT approximation)\n",
      "Rate categories were divided by 1.091 so that average rate = 1.0\n",
      "CAT-based log-likelihoods may not be comparable across runs\n",
      "Use -gamma for approximate but comparable Gamma(20) log-likelihoods\n"
     ]
    },
    {
     "name": "stderr",
     "output_type": "stream",
     "text": [
      "      3.78 seconds: ML NNI round 2 of 19, 101 of 801 splits, 7 changes (max delta 1.868)\n",
      "      3.96 seconds: ML NNI round 2 of 19, 301 of 801 splits, 29 changes (max delta 7.081)\n"
     ]
    },
    {
     "name": "stderr",
     "output_type": "stream",
     "text": [
      "      4.14 seconds: ML NNI round 2 of 19, 501 of 801 splits, 57 changes (max delta 7.081)\n",
      "      4.32 seconds: ML NNI round 2 of 19, 701 of 801 splits, 74 changes (max delta 17.614)\n"
     ]
    },
    {
     "name": "stderr",
     "output_type": "stream",
     "text": [
      "ML-NNI round 2: LogLk = -39931.678 NNIs 81 max delta 17.61 Time 4.41\n",
      "      4.49 seconds: ML NNI round 3 of 19, 101 of 801 splits, 4 changes (max delta 0.469)\n"
     ]
    },
    {
     "name": "stderr",
     "output_type": "stream",
     "text": [
      "      4.67 seconds: ML NNI round 3 of 19, 301 of 801 splits, 19 changes (max delta 7.183)\n",
      "      4.85 seconds: ML NNI round 3 of 19, 501 of 801 splits, 39 changes (max delta 8.209)\n"
     ]
    },
    {
     "name": "stderr",
     "output_type": "stream",
     "text": [
      "ML-NNI round 3: LogLk = -39873.781 NNIs 39 max delta 8.21 Time 4.89\n",
      "      4.96 seconds: ML NNI round 4 of 19, 101 of 801 splits, 3 changes (max delta 0.000)\n"
     ]
    },
    {
     "name": "stderr",
     "output_type": "stream",
     "text": [
      "      5.13 seconds: ML NNI round 4 of 19, 301 of 801 splits, 10 changes (max delta 0.483)\n",
      "ML-NNI round 4: LogLk = -39866.474 NNIs 10 max delta 0.48 Time 5.18\n",
      "      5.25 seconds: ML NNI round 5 of 19, 101 of 801 splits, 2 changes (max delta 1.039)\n",
      "ML-NNI round 5: LogLk = -39863.572 NNIs 4 max delta 1.04 Time 5.30\n"
     ]
    },
    {
     "name": "stderr",
     "output_type": "stream",
     "text": [
      "ML-NNI round 6: LogLk = -39863.425 NNIs 0 max delta 0.00 Time 5.34\n",
      "Turning off heuristics for final round of ML NNIs (converged)\n",
      "      5.41 seconds: ML NNI round 7 of 19, 101 of 801 splits, 0 changes\n"
     ]
    },
    {
     "name": "stderr",
     "output_type": "stream",
     "text": [
      "      5.56 seconds: ML NNI round 7 of 19, 301 of 801 splits, 0 changes\n",
      "      5.71 seconds: ML NNI round 7 of 19, 501 of 801 splits, 4 changes (max delta 1.451)\n"
     ]
    },
    {
     "name": "stderr",
     "output_type": "stream",
     "text": [
      "      5.85 seconds: ML NNI round 7 of 19, 701 of 801 splits, 5 changes (max delta 1.451)\n",
      "ML-NNI round 7: LogLk = -39858.543 NNIs 5 max delta 1.45 Time 5.93 (final)\n",
      "      5.97 seconds: ML Lengths 201 of 801 splits\n"
     ]
    },
    {
     "name": "stderr",
     "output_type": "stream",
     "text": [
      "      6.09 seconds: ML Lengths 701 of 801 splits\n",
      "Optimize all lengths: LogLk = -39857.848 Time 6.12\n",
      "      6.24 seconds: ML split tests for    100 of    800 internal splits\n"
     ]
    },
    {
     "name": "stderr",
     "output_type": "stream",
     "text": [
      "      6.36 seconds: ML split tests for    200 of    800 internal splits\n",
      "      6.49 seconds: ML split tests for    300 of    800 internal splits\n"
     ]
    },
    {
     "name": "stderr",
     "output_type": "stream",
     "text": [
      "      6.62 seconds: ML split tests for    400 of    800 internal splits\n",
      "      6.75 seconds: ML split tests for    500 of    800 internal splits\n"
     ]
    },
    {
     "name": "stderr",
     "output_type": "stream",
     "text": [
      "      6.88 seconds: ML split tests for    600 of    800 internal splits\n",
      "      7.01 seconds: ML split tests for    700 of    800 internal splits\n"
     ]
    },
    {
     "name": "stderr",
     "output_type": "stream",
     "text": [
      "Total time: 7.15 seconds Unique: 803/839 Bad splits: 0/800\n"
     ]
    },
    {
     "name": "stdout",
     "output_type": "stream",
     "text": [
      "{'tree': <TreeNode, name: unnamed, internal node count: 836, tips count: 839>}\n",
      "{'tree': <TreeNode, name: unnamed, internal node count: 836, tips count: 839>}\n"
     ]
    }
   ],
   "source": [
    "mafft_alignment, mafft_masked_alignment, mafft_tree, mafft_rooted_tree = align_to_tree_mafft_fasttree(\n",
    "    sequences=reps, n_threads=6, )"
   ]
  },
  {
   "cell_type": "markdown",
   "id": "0768d598",
   "metadata": {
    "papermill": {
     "duration": 0.02665,
     "end_time": "2023-09-14T15:23:21.729916",
     "exception": false,
     "start_time": "2023-09-14T15:23:21.703266",
     "status": "completed"
    },
    "tags": []
   },
   "source": [
    "### Compute Alpha Diversity (Phylogeny)\n",
    "- [diversity alpha_phylogenetic](https://docs.qiime2.org/2022.8/plugins/available/diversity/alpha-phylogenetic/): Computes a user-specified phylogenetic alpha diversity metric for all samples in a feature table.\n",
    "- Metrics: Choices ('faith_pd')"
   ]
  },
  {
   "cell_type": "code",
   "execution_count": 11,
   "id": "0383aa19",
   "metadata": {
    "ExecuteTime": {
     "end_time": "2022-09-29T20:54:35.310009Z",
     "start_time": "2022-09-29T20:54:35.141333Z"
    },
    "execution": {
     "iopub.execute_input": "2023-09-14T15:23:21.784283Z",
     "iopub.status.busy": "2023-09-14T15:23:21.783892Z",
     "iopub.status.idle": "2023-09-14T15:23:21.918988Z",
     "shell.execute_reply": "2023-09-14T15:23:21.918387Z"
    },
    "papermill": {
     "duration": 0.165168,
     "end_time": "2023-09-14T15:23:21.921793",
     "exception": false,
     "start_time": "2023-09-14T15:23:21.756625",
     "status": "completed"
    },
    "tags": []
   },
   "outputs": [
    {
     "name": "stdout",
     "output_type": "stream",
     "text": [
      "Calculating alpha diversity: faith_pd\n",
      "{'metric': 'faith_pd', 'table': <artifact: FeatureTable[Frequency] uuid: eb7b5feb-464a-4607-9c23-b6136e40dca2>, 'phylogeny': <artifact: Phylogeny[Rooted] uuid: dc370e67-80e8-4f66-acf2-72ba9cac7ad1>}\n",
      "{'table': <q2_types.feature_table._format.BIOMV210Format object at 0x7f97fe01b700>, 'phylogeny': <q2_types.tree._format.NewickFormat object at 0x7f97fe01bfa0>}\n",
      "{'table': <q2_types.feature_table._format.BIOMV210Format object at 0x7f97fe01b700>, 'phylogeny': <q2_types.tree._format.NewickFormat object at 0x7f97fe01bfa0>}\n",
      "DONE: Calculating alpha phylogeny: faith_pd\n"
     ]
    }
   ],
   "source": [
    "metrics = ('faith_pd', )\n",
    "alpha_diversities_phylogenetic = dict()\n",
    "for metric in metrics:\n",
    "    print(f\"Calculating alpha diversity: {metric}\")\n",
    "    try:\n",
    "        alpha_diversity = alpha_phylogenetic(table=tabs, phylogeny=mafft_rooted_tree, metric=metric).alpha_diversity\n",
    "        alpha_diversities_phylogenetic[metric] = alpha_diversity\n",
    "        # Save Artifact\n",
    "        file_path = os.path.join(alpha_path, f'alpha-phylogeny-{metric}.qza')\n",
    "        alpha_diversity.save(file_path)\n",
    "        print(f\"DONE: Calculating alpha phylogeny: {metric}\")\n",
    "    except Exception as e:\n",
    "        print(f\"ERROR: Calculating alpha phylogeny: {metric}\")"
   ]
  },
  {
   "cell_type": "markdown",
   "id": "42db1ead",
   "metadata": {
    "papermill": {
     "duration": 0.027403,
     "end_time": "2023-09-14T15:23:21.983891",
     "exception": false,
     "start_time": "2023-09-14T15:23:21.956488",
     "status": "completed"
    },
    "tags": []
   },
   "source": [
    "- [core-metrics-phylogenetic](https://docs.qiime2.org/2023.7/plugins/available/diversity/core-metrics-phylogenetic/)"
   ]
  },
  {
   "cell_type": "code",
   "execution_count": 12,
   "id": "ef726ab7",
   "metadata": {
    "execution": {
     "iopub.execute_input": "2023-09-14T15:23:22.039271Z",
     "iopub.status.busy": "2023-09-14T15:23:22.038757Z",
     "iopub.status.idle": "2023-09-14T15:23:24.245763Z",
     "shell.execute_reply": "2023-09-14T15:23:24.244849Z"
    },
    "papermill": {
     "duration": 2.238072,
     "end_time": "2023-09-14T15:23:24.248892",
     "exception": false,
     "start_time": "2023-09-14T15:23:22.010820",
     "status": "completed"
    },
    "tags": []
   },
   "outputs": [
    {
     "name": "stdout",
     "output_type": "stream",
     "text": [
      "{'sampling_depth': 2854, 'metadata': Metadata\n",
      "--------\n",
      "12 IDs x 3 columns\n",
      "sample-name: ColumnProperties(type='categorical')\n",
      "group-id:    ColumnProperties(type='categorical')\n",
      "group-desc:  ColumnProperties(type='categorical')\n",
      "\n",
      "Call to_dataframe() for a tabular representation., 'n_jobs_or_threads': 6, 'table': <artifact: FeatureTable[Frequency] uuid: eb7b5feb-464a-4607-9c23-b6136e40dca2>, 'phylogeny': <artifact: Phylogeny[Rooted] uuid: dc370e67-80e8-4f66-acf2-72ba9cac7ad1>}\n",
      "{'sampling_depth': 2854, 'metadata': Metadata\n",
      "--------\n",
      "12 IDs x 3 columns\n",
      "sample-name: ColumnProperties(type='categorical')\n",
      "group-id:    ColumnProperties(type='categorical')\n",
      "group-desc:  ColumnProperties(type='categorical')\n",
      "\n",
      "Call to_dataframe() for a tabular representation., 'with_replacement': False, 'n_jobs': 6, 'table': <artifact: FeatureTable[Frequency] uuid: eb7b5feb-464a-4607-9c23-b6136e40dca2>}\n",
      "{'sampling_depth': 2854, 'with_replacement': False, 'table': 839 x 12 <class 'biom.table.Table'> with 1754 nonzero entries (17% dense)}\n",
      "{'sampling_depth': 2854, 'with_replacement': False, 'table': 839 x 12 <class 'biom.table.Table'> with 1754 nonzero entries (17% dense)}\n",
      "{'table': 675 x 12 <class 'biom.table.Table'> with 1388 nonzero entries (17% dense)}\n",
      "{'table': 675 x 12 <class 'biom.table.Table'> with 1388 nonzero entries (17% dense)}\n",
      "{'drop_undefined_samples': False, 'table': 675 x 12 <class 'biom.table.Table'> with 1388 nonzero entries (17% dense)}\n",
      "{'drop_undefined_samples': False, 'table': 675 x 12 <class 'biom.table.Table'> with 1388 nonzero entries (17% dense)}\n",
      "{'drop_undefined_samples': False, 'table': 675 x 12 <class 'biom.table.Table'> with 1388 nonzero entries (17% dense)}\n",
      "{'drop_undefined_samples': False, 'table': 675 x 12 <class 'biom.table.Table'> with 1388 nonzero entries (17% dense)}\n"
     ]
    },
    {
     "name": "stdout",
     "output_type": "stream",
     "text": [
      "{'n_jobs': 6, 'table': 675 x 12 <class 'biom.table.Table'> with 1388 nonzero entries (17% dense)}\n",
      "{'n_jobs': 6, 'table': 675 x 12 <class 'biom.table.Table'> with 1388 nonzero entries (17% dense)}\n",
      "{'n_jobs': 6, 'table': 675 x 12 <class 'biom.table.Table'> with 1388 nonzero entries (17% dense)}\n",
      "{'n_jobs': 6, 'table': 675 x 12 <class 'biom.table.Table'> with 1388 nonzero entries (17% dense)}\n",
      "{'number_of_dimensions': None, 'distance_matrix': <skbio.stats.distance._base.DistanceMatrix object at 0x7f97fe033b80>}\n",
      "{'number_of_dimensions': None, 'distance_matrix': <skbio.stats.distance._base.DistanceMatrix object at 0x7f97fe033b80>}\n",
      "{'number_of_dimensions': None, 'distance_matrix': <skbio.stats.distance._base.DistanceMatrix object at 0x7f97fe033af0>}\n",
      "{'number_of_dimensions': None, 'distance_matrix': <skbio.stats.distance._base.DistanceMatrix object at 0x7f97fe033af0>}\n"
     ]
    },
    {
     "name": "stderr",
     "output_type": "stream",
     "text": [
      "/home/lauro/anaconda3/envs/qiime2-2022.2/lib/python3.8/site-packages/sklearn/metrics/pairwise.py:1761: DataConversionWarning: Data was converted to boolean for metric jaccard\n",
      "  warnings.warn(msg, DataConversionWarning)\n"
     ]
    },
    {
     "name": "stdout",
     "output_type": "stream",
     "text": [
      "{'metadata': Metadata\n",
      "--------\n",
      "12 IDs x 3 columns\n",
      "sample-name: ColumnProperties(type='categorical')\n",
      "group-id:    ColumnProperties(type='categorical')\n",
      "group-desc:  ColumnProperties(type='categorical')\n",
      "\n",
      "Call to_dataframe() for a tabular representation., 'custom_axes': None, 'ignore_missing_samples': False, 'ignore_pcoa_features': False, 'pcoa': <skbio.stats.ordination._ordination_results.OrdinationResults object at 0x7f97fe0336d0>}\n"
     ]
    },
    {
     "name": "stdout",
     "output_type": "stream",
     "text": [
      "{'metadata': Metadata\n",
      "--------\n",
      "12 IDs x 3 columns\n",
      "sample-name: ColumnProperties(type='categorical')\n",
      "group-id:    ColumnProperties(type='categorical')\n",
      "group-desc:  ColumnProperties(type='categorical')\n",
      "\n",
      "Call to_dataframe() for a tabular representation., 'custom_axes': None, 'ignore_missing_samples': False, 'ignore_pcoa_features': False, 'pcoa': <skbio.stats.ordination._ordination_results.OrdinationResults object at 0x7f97fe0335e0>}\n"
     ]
    },
    {
     "name": "stdout",
     "output_type": "stream",
     "text": [
      "{'table': <q2_types.feature_table._format.BIOMV210Format object at 0x7f97fe019520>, 'phylogeny': <q2_types.tree._format.NewickFormat object at 0x7f97fe019c70>}\n",
      "{'table': <q2_types.feature_table._format.BIOMV210Format object at 0x7f97fe019520>, 'phylogeny': <q2_types.tree._format.NewickFormat object at 0x7f97fe019c70>}\n",
      "{'threads': 6, 'bypass_tips': False, 'table': <q2_types.feature_table._format.BIOMV210Format object at 0x7f97fdff0dc0>, 'phylogeny': <q2_types.tree._format.NewickFormat object at 0x7f97fdff0370>}\n",
      "{'threads': 6, 'bypass_tips': False, 'table': <q2_types.feature_table._format.BIOMV210Format object at 0x7f97fdff0dc0>, 'phylogeny': <q2_types.tree._format.NewickFormat object at 0x7f97fdff0370>}\n",
      "{'threads': 6, 'bypass_tips': False, 'table': <q2_types.feature_table._format.BIOMV210Format object at 0x7f97fe033310>, 'phylogeny': <q2_types.tree._format.NewickFormat object at 0x7f97fe033d30>}\n",
      "{'threads': 6, 'bypass_tips': False, 'table': <q2_types.feature_table._format.BIOMV210Format object at 0x7f97fe033310>, 'phylogeny': <q2_types.tree._format.NewickFormat object at 0x7f97fe033d30>}\n"
     ]
    },
    {
     "name": "stdout",
     "output_type": "stream",
     "text": [
      "{'number_of_dimensions': None, 'distance_matrix': <skbio.stats.distance._base.DistanceMatrix object at 0x7f97fe019280>}\n",
      "{'number_of_dimensions': None, 'distance_matrix': <skbio.stats.distance._base.DistanceMatrix object at 0x7f97fe019280>}\n",
      "{'number_of_dimensions': None, 'distance_matrix': <skbio.stats.distance._base.DistanceMatrix object at 0x7f97fdff0190>}\n",
      "{'number_of_dimensions': None, 'distance_matrix': <skbio.stats.distance._base.DistanceMatrix object at 0x7f97fdff0190>}\n",
      "{'metadata': Metadata\n",
      "--------\n",
      "12 IDs x 3 columns\n",
      "sample-name: ColumnProperties(type='categorical')\n",
      "group-id:    ColumnProperties(type='categorical')\n",
      "group-desc:  ColumnProperties(type='categorical')\n",
      "\n",
      "Call to_dataframe() for a tabular representation., 'custom_axes': None, 'ignore_missing_samples': False, 'ignore_pcoa_features': False, 'pcoa': <skbio.stats.ordination._ordination_results.OrdinationResults object at 0x7f97fc78f070>}\n",
      "{'metadata': Metadata\n",
      "--------\n",
      "12 IDs x 3 columns\n",
      "sample-name: ColumnProperties(type='categorical')\n",
      "group-id:    ColumnProperties(type='categorical')\n",
      "group-desc:  ColumnProperties(type='categorical')\n",
      "\n",
      "Call to_dataframe() for a tabular representation., 'custom_axes': None, 'ignore_missing_samples': False, 'ignore_pcoa_features': False, 'pcoa': <skbio.stats.ordination._ordination_results.OrdinationResults object at 0x7f97fdff6220>}\n"
     ]
    },
    {
     "name": "stderr",
     "output_type": "stream",
     "text": [
      "/home/lauro/anaconda3/envs/qiime2-2022.2/lib/python3.8/site-packages/skbio/stats/ordination/_principal_coordinate_analysis.py:143: RuntimeWarning: The result contains negative eigenvalues. Please compare their magnitude with the magnitude of some of the largest positive eigenvalues. If the negative ones are smaller, it's probably safe to ignore them, but if they are large in magnitude, the results won't be useful. See the Notes section for more details. The smallest eigenvalue is -0.007628756969793791 and the largest is 0.8383994330684663.\n",
      "  warn(\n"
     ]
    }
   ],
   "source": [
    "s_depth = int(tabs.view(pd.DataFrame).sum(axis=1).min())\n",
    "results = core_metrics_phylogenetic(\n",
    "    table = tabs,\n",
    "    phylogeny = mafft_rooted_tree,\n",
    "    sampling_depth = s_depth,\n",
    "    metadata = metadata_qa,\n",
    "    n_jobs_or_threads = 6,\n",
    ")"
   ]
  },
  {
   "cell_type": "code",
   "execution_count": 13,
   "id": "19311218",
   "metadata": {
    "execution": {
     "iopub.execute_input": "2023-09-14T15:23:24.326202Z",
     "iopub.status.busy": "2023-09-14T15:23:24.325949Z",
     "iopub.status.idle": "2023-09-14T15:23:24.331975Z",
     "shell.execute_reply": "2023-09-14T15:23:24.331203Z"
    },
    "papermill": {
     "duration": 0.043552,
     "end_time": "2023-09-14T15:23:24.333853",
     "exception": false,
     "start_time": "2023-09-14T15:23:24.290301",
     "status": "completed"
    },
    "tags": []
   },
   "outputs": [],
   "source": [
    "results_info = [(\"rarefied_table\", \"FeatureTable[Frequency]\", \"The resulting rarefied feature table.\"),\n",
    "(\"faith_pd_vector\", \"SampleData[AlphaDiversity]\", \"Vector of Faith PD values by sample.\"),\n",
    "(\"observed_features_vector\", \"SampleData[AlphaDiversity]\", \"Vector of Observed Features values by sample.\"),\n",
    "(\"shannon_vector\", \"SampleData[AlphaDiversity]\", \"Vector of Shannon diversity values by sample.\"),\n",
    "(\"evenness_vector\", \"SampleData[AlphaDiversity]\", \"Vector of Pielou's evenness values by sample.\"),\n",
    "(\"unweighted_unifrac_distance_matrix\", \"DistanceMatrix\", \"Matrix of unweighted UniFrac distances between pairs of samples.\"),\n",
    "(\"weighted_unifrac_distance_matrix\", \"DistanceMatrix\", \"Matrix of weighted UniFrac distances between pairs of samples.\"),\n",
    "(\"jaccard_distance_matrix\", \"DistanceMatrix\", \"Matrix of Jaccard distances between pairs of samples.\"),\n",
    "(\"bray_curtis_distance_matrix\", \"DistanceMatrix\", \"Matrix of Bray-Curtis distances between pairs of samples.\"),\n",
    "(\"unweighted_unifrac_pcoa_results\", \"PCoAResults\", \"PCoA matrix computed from unweighted UniFrac distances between samples.\"),\n",
    "(\"weighted_unifrac_pcoa_results\", \"PCoAResults\", \"PCoA matrix computed from weighted UniFrac distances between samples.\"),\n",
    "(\"jaccard_pcoa_results\", \"PCoAResults\", \"PCoA matrix computed from Jaccard distances between samples.\"),\n",
    "(\"bray_curtis_pcoa_results\", \"PCoAResults\", \"PCoA matrix computed from Bray-Curtis distances between samples.\"),\n",
    "(\"unweighted_unifrac_emperor\", \"Visualization\", \"Emperor plot of the PCoA matrix computed from unweighted UniFrac.\"),\n",
    "(\"weighted_unifrac_emperor\", \"Visualization\", \"Emperor plot of the PCoA matrix computed from weighted UniFrac.\"),\n",
    "(\"jaccard_emperor\", \"Visualization\", \"Emperor plot of the PCoA matrix computed from Jaccard.\"),\n",
    "(\"bray_curtis_emperor\", \"Visualization\", \"Emperor plot of the PCoA matrix computed from Bray-Curtis.\")]"
   ]
  },
  {
   "cell_type": "code",
   "execution_count": 14,
   "id": "57dcd8e3",
   "metadata": {
    "execution": {
     "iopub.execute_input": "2023-09-14T15:23:24.405269Z",
     "iopub.status.busy": "2023-09-14T15:23:24.404962Z",
     "iopub.status.idle": "2023-09-14T15:23:24.891426Z",
     "shell.execute_reply": "2023-09-14T15:23:24.890498Z"
    },
    "papermill": {
     "duration": 0.524526,
     "end_time": "2023-09-14T15:23:24.894363",
     "exception": false,
     "start_time": "2023-09-14T15:23:24.369837",
     "status": "completed"
    },
    "tags": []
   },
   "outputs": [
    {
     "name": "stdout",
     "output_type": "stream",
     "text": [
      "13 unweighted_unifrac_emperor Visualization\n",
      "--- Emperor plot of the PCoA matrix computed from unweighted UniFrac. ---\n",
      "Saving emperor file at: /home/lauro/nupeb/rede-micro/redemicro-ana-flavia-nutri/experiments/ana-flavia-NRxHSD-NR-trim/qiime-artifacts/beta-analysis/unweighted_unifrac_emperor.qzv\n",
      "\n",
      "14 weighted_unifrac_emperor Visualization\n",
      "--- Emperor plot of the PCoA matrix computed from weighted UniFrac. ---\n",
      "Saving emperor file at: /home/lauro/nupeb/rede-micro/redemicro-ana-flavia-nutri/experiments/ana-flavia-NRxHSD-NR-trim/qiime-artifacts/beta-analysis/weighted_unifrac_emperor.qzv\n",
      "\n"
     ]
    },
    {
     "name": "stdout",
     "output_type": "stream",
     "text": [
      "15 jaccard_emperor Visualization\n",
      "--- Emperor plot of the PCoA matrix computed from Jaccard. ---\n",
      "Saving emperor file at: /home/lauro/nupeb/rede-micro/redemicro-ana-flavia-nutri/experiments/ana-flavia-NRxHSD-NR-trim/qiime-artifacts/beta-analysis/jaccard_emperor.qzv\n",
      "\n",
      "16 bray_curtis_emperor Visualization\n",
      "--- Emperor plot of the PCoA matrix computed from Bray-Curtis. ---\n",
      "Saving emperor file at: /home/lauro/nupeb/rede-micro/redemicro-ana-flavia-nutri/experiments/ana-flavia-NRxHSD-NR-trim/qiime-artifacts/beta-analysis/bray_curtis_emperor.qzv\n",
      "\n"
     ]
    }
   ],
   "source": [
    "for i, info in enumerate(results_info):\n",
    "    r_id, r_type, r_desc = info\n",
    "    #print(i, r_id, r_type)\n",
    "    file_name = f\"{r_id}.qzv\"\n",
    "    if r_type == \"FeatureTable[Frequency]\":\n",
    "        pass\n",
    "    elif r_id.endswith('emperor'):\n",
    "        print(i, r_id, r_type)\n",
    "        print(f\"--- {r_desc} ---\")\n",
    "        file_name = os.path.join(beta_path, file_name)\n",
    "        print(f'Saving emperor file at: {file_name}\\n')\n",
    "        results[i].save(filepath=file_name)"
   ]
  },
  {
   "cell_type": "markdown",
   "id": "c7752cfd",
   "metadata": {
    "papermill": {
     "duration": 0.034845,
     "end_time": "2023-09-14T15:23:24.969898",
     "exception": false,
     "start_time": "2023-09-14T15:23:24.935053",
     "status": "completed"
    },
    "tags": []
   },
   "source": [
    "### Alpha diversity correlation\n",
    "\n",
    "This method only process `numeric` columns.\n"
   ]
  },
  {
   "cell_type": "code",
   "execution_count": 15,
   "id": "2814f613",
   "metadata": {
    "ExecuteTime": {
     "end_time": "2022-09-29T20:54:35.317618Z",
     "start_time": "2022-09-29T20:54:35.312094Z"
    },
    "execution": {
     "iopub.execute_input": "2023-09-14T15:23:25.049994Z",
     "iopub.status.busy": "2023-09-14T15:23:25.049743Z",
     "iopub.status.idle": "2023-09-14T15:23:25.056134Z",
     "shell.execute_reply": "2023-09-14T15:23:25.055452Z"
    },
    "papermill": {
     "duration": 0.054059,
     "end_time": "2023-09-14T15:23:25.058849",
     "exception": false,
     "start_time": "2023-09-14T15:23:25.004790",
     "status": "completed"
    },
    "tags": []
   },
   "outputs": [],
   "source": [
    "methods = ('spearman', 'pearson')\n",
    "numerics_cols = metadata_qa.filter_columns(column_type='numeric')\n",
    "if numerics_cols.column_count > 0:\n",
    "    for metric, alpha_values in alpha_diversities.items():\n",
    "        for method in methods:\n",
    "            try:\n",
    "                corr_view = alpha_correlation(alpha_diversity=alpha_values, metadata=numerics_cols, \n",
    "                                          method=method, intersect_ids=True).visualization\n",
    "                view_path = os.path.join(alpha_path, f'alpha-correlation-{metric}-{method}.qzv')\n",
    "                corr_view.save(view_path)\n",
    "                corr_view\n",
    "                print(f\"DONE: Calculating alpha correlation: {metric} {method}\")\n",
    "            except Exception as e:\n",
    "                print(f\"ERROR: Calculating alpha correlation: {metric} {method}\")"
   ]
  },
  {
   "cell_type": "markdown",
   "id": "8ea83c8a",
   "metadata": {
    "papermill": {
     "duration": 0.034735,
     "end_time": "2023-09-14T15:23:25.131795",
     "exception": false,
     "start_time": "2023-09-14T15:23:25.097060",
     "status": "completed"
    },
    "tags": []
   },
   "source": [
    "## Alpha diversity comparisons\n",
    "\n",
    "Visually and statistically compare groups of alpha diversity values.\n",
    "\n",
    "[diversity alpha_group_significance](https://docs.qiime2.org/2022.8/plugins/available/diversity/alpha-group-significance/)"
   ]
  },
  {
   "cell_type": "code",
   "execution_count": 16,
   "id": "276d1c18",
   "metadata": {
    "ExecuteTime": {
     "end_time": "2022-09-29T20:54:36.089290Z",
     "start_time": "2022-09-29T20:54:35.318963Z"
    },
    "execution": {
     "iopub.execute_input": "2023-09-14T15:23:25.203030Z",
     "iopub.status.busy": "2023-09-14T15:23:25.202714Z",
     "iopub.status.idle": "2023-09-14T15:23:25.933854Z",
     "shell.execute_reply": "2023-09-14T15:23:25.933211Z"
    },
    "papermill": {
     "duration": 0.770435,
     "end_time": "2023-09-14T15:23:25.936727",
     "exception": false,
     "start_time": "2023-09-14T15:23:25.166292",
     "status": "completed"
    },
    "tags": []
   },
   "outputs": [
    {
     "name": "stdout",
     "output_type": "stream",
     "text": [
      "Processing alpha_group_significance: chao1\n",
      "{'metadata': Metadata\n",
      "--------\n",
      "12 IDs x 3 columns\n",
      "sample-name: ColumnProperties(type='categorical')\n",
      "group-id:    ColumnProperties(type='categorical')\n",
      "group-desc:  ColumnProperties(type='categorical')\n",
      "\n",
      "Call to_dataframe() for a tabular representation., 'alpha_diversity': S210421121677    112.0\n",
      "S210421121678     83.0\n",
      "S210421121679    150.0\n",
      "S210421121680    209.0\n",
      "S210421121681    127.0\n",
      "S210421121691    285.0\n",
      "S210421121692    137.0\n",
      "S210421121693    172.0\n",
      "S210421121707    219.0\n",
      "S210421121708    119.0\n",
      "S210421121709    105.0\n",
      "S210421121710     36.0\n",
      "Name: chao1, dtype: float64}\n",
      "DONE: Calculating alpha group significance: chao1\n",
      "Processing alpha_group_significance: chao1_ci\n",
      "ERROR: Calculating alpha group significance: chao1_ci\n",
      "Processing alpha_group_significance: observed_features\n",
      "{'metadata': Metadata\n",
      "--------\n",
      "12 IDs x 3 columns\n",
      "sample-name: ColumnProperties(type='categorical')\n",
      "group-id:    ColumnProperties(type='categorical')\n",
      "group-desc:  ColumnProperties(type='categorical')\n",
      "\n",
      "Call to_dataframe() for a tabular representation., 'alpha_diversity': S210421121677    112\n",
      "S210421121678     83\n",
      "S210421121679    150\n",
      "S210421121680    209\n",
      "S210421121681    127\n",
      "S210421121691    285\n",
      "S210421121692    137\n",
      "S210421121693    172\n",
      "S210421121707    219\n",
      "S210421121708    119\n",
      "S210421121709    105\n",
      "S210421121710     36\n",
      "Name: observed_features, dtype: int64}\n"
     ]
    },
    {
     "name": "stdout",
     "output_type": "stream",
     "text": [
      "DONE: Calculating alpha group significance: observed_features\n",
      "Processing alpha_group_significance: shannon\n",
      "{'metadata': Metadata\n",
      "--------\n",
      "12 IDs x 3 columns\n",
      "sample-name: ColumnProperties(type='categorical')\n",
      "group-id:    ColumnProperties(type='categorical')\n",
      "group-desc:  ColumnProperties(type='categorical')\n",
      "\n",
      "Call to_dataframe() for a tabular representation., 'alpha_diversity': S210421121677    4.736594\n",
      "S210421121678    4.528187\n",
      "S210421121679    4.478963\n",
      "S210421121680    5.580541\n",
      "S210421121681    4.457096\n",
      "S210421121691    6.398281\n",
      "S210421121692    4.840741\n",
      "S210421121693    4.319901\n",
      "S210421121707    5.519281\n",
      "S210421121708    5.520796\n",
      "S210421121709    4.826476\n",
      "S210421121710    3.903198\n",
      "Name: shannon_entropy, dtype: float64}\n",
      "DONE: Calculating alpha group significance: shannon\n",
      "Processing alpha_group_significance: simpson\n",
      "{'metadata': Metadata\n",
      "--------\n",
      "12 IDs x 3 columns\n",
      "sample-name: ColumnProperties(type='categorical')\n",
      "group-id:    ColumnProperties(type='categorical')\n",
      "group-desc:  ColumnProperties(type='categorical')\n",
      "\n",
      "Call to_dataframe() for a tabular representation., 'alpha_diversity': S210421121677    0.936476\n",
      "S210421121678    0.935171\n",
      "S210421121679    0.913495\n",
      "S210421121680    0.960297\n",
      "S210421121681    0.915034\n",
      "S210421121691    0.976475\n",
      "S210421121692    0.924892\n",
      "S210421121693    0.876379\n",
      "S210421121707    0.936488\n",
      "S210421121708    0.946668\n",
      "S210421121709    0.924440\n",
      "S210421121710    0.884766\n",
      "Name: simpson, dtype: float64}\n"
     ]
    },
    {
     "name": "stdout",
     "output_type": "stream",
     "text": [
      "DONE: Calculating alpha group significance: simpson\n",
      "Processing alpha_group_significance: simpson_e\n",
      "{'metadata': Metadata\n",
      "--------\n",
      "12 IDs x 3 columns\n",
      "sample-name: ColumnProperties(type='categorical')\n",
      "group-id:    ColumnProperties(type='categorical')\n",
      "group-desc:  ColumnProperties(type='categorical')\n",
      "\n",
      "Call to_dataframe() for a tabular representation., 'alpha_diversity': S210421121677    0.140554\n",
      "S210421121678    0.185847\n",
      "S210421121679    0.077067\n",
      "S210421121680    0.120513\n",
      "S210421121681    0.092673\n",
      "S210421121691    0.149151\n",
      "S210421121692    0.097184\n",
      "S210421121693    0.047030\n",
      "S210421121707    0.071896\n",
      "S210421121708    0.157567\n",
      "S210421121709    0.126044\n",
      "S210421121710    0.241056\n",
      "Name: simpson_e, dtype: float64}\n",
      "DONE: Calculating alpha group significance: simpson_e\n"
     ]
    }
   ],
   "source": [
    "for metric, alpha_values in alpha_diversities.items():\n",
    "    print(f\"Processing alpha_group_significance: {metric}\")\n",
    "    try:\n",
    "        significance_view = alpha_group_significance(alpha_diversity=alpha_values, metadata=metadata_qa).visualization\n",
    "        view_path = os.path.join(alpha_path, f'alpha-group-significance-{metric}.qzv')\n",
    "        significance_view.save(view_path)\n",
    "        significance_view\n",
    "        print(f\"DONE: Calculating alpha group significance: {metric}\")\n",
    "    except Exception as e:\n",
    "        print(f\"ERROR: Calculating alpha group significance: {metric}\")"
   ]
  },
  {
   "cell_type": "markdown",
   "id": "4349d357",
   "metadata": {
    "papermill": {
     "duration": 0.035918,
     "end_time": "2023-09-14T15:23:26.015612",
     "exception": false,
     "start_time": "2023-09-14T15:23:25.979694",
     "status": "completed"
    },
    "tags": []
   },
   "source": [
    "## Beta diversity analysis\n",
    "\n",
    "#### Reference\n",
    "- [diversity beta](https://docs.qiime2.org/2022.8/plugins/available/diversity/beta/): Computes a user-specified beta diversity metric for all pairs of samples in a feature table.\n",
    "- [Beta diversity metrics](http://scikit-bio.org/docs/0.2.0/generated/skbio.diversity.beta.html)\n",
    "\n",
    "- Metric Choices('aitchison', 'braycurtis', 'canberra', 'canberra_adkins', 'chebyshev', 'cityblock', 'correlation', 'cosine', 'dice', 'euclidean', 'hamming', 'jaccard', 'jensenshannon', 'kulsinski', 'matching', 'minkowski', 'rogerstanimoto', 'russellrao', 'seuclidean', 'sokalmichener', 'sokalsneath', 'sqeuclidean', 'yule')"
   ]
  },
  {
   "cell_type": "code",
   "execution_count": 17,
   "id": "f6f358dd",
   "metadata": {
    "ExecuteTime": {
     "end_time": "2022-09-29T20:54:36.335038Z",
     "start_time": "2022-09-29T20:54:36.091288Z"
    },
    "execution": {
     "iopub.execute_input": "2023-09-14T15:23:26.162987Z",
     "iopub.status.busy": "2023-09-14T15:23:26.162669Z",
     "iopub.status.idle": "2023-09-14T15:23:26.734186Z",
     "shell.execute_reply": "2023-09-14T15:23:26.733494Z"
    },
    "papermill": {
     "duration": 0.662485,
     "end_time": "2023-09-14T15:23:26.738301",
     "exception": false,
     "start_time": "2023-09-14T15:23:26.075816",
     "status": "completed"
    },
    "tags": []
   },
   "outputs": [
    {
     "name": "stdout",
     "output_type": "stream",
     "text": [
      "Calculating beta diversity: euclidean\n",
      "{'metric': 'euclidean', 'pseudocount': 1, 'n_jobs': 6, 'table': <artifact: FeatureTable[Frequency] uuid: eb7b5feb-464a-4607-9c23-b6136e40dca2>}\n",
      "{'metric': 'euclidean', 'pseudocount': 1, 'n_jobs': 6, 'table': 839 x 12 <class 'biom.table.Table'> with 1754 nonzero entries (17% dense)}\n",
      "{'metric': 'euclidean', 'pseudocount': 1, 'n_jobs': 6, 'table': 839 x 12 <class 'biom.table.Table'> with 1754 nonzero entries (17% dense)}\n",
      "DONE: Calculating beta diversity: euclidean\n",
      "Calculating beta diversity: dice\n",
      "{'metric': 'dice', 'pseudocount': 1, 'n_jobs': 6, 'table': <artifact: FeatureTable[Frequency] uuid: eb7b5feb-464a-4607-9c23-b6136e40dca2>}\n",
      "{'metric': 'dice', 'pseudocount': 1, 'n_jobs': 6, 'table': 839 x 12 <class 'biom.table.Table'> with 1754 nonzero entries (17% dense)}\n",
      "{'metric': 'dice', 'pseudocount': 1, 'n_jobs': 6, 'table': 839 x 12 <class 'biom.table.Table'> with 1754 nonzero entries (17% dense)}\n"
     ]
    },
    {
     "name": "stderr",
     "output_type": "stream",
     "text": [
      "/home/lauro/anaconda3/envs/qiime2-2022.2/lib/python3.8/site-packages/sklearn/metrics/pairwise.py:1761: DataConversionWarning: Data was converted to boolean for metric dice\n",
      "  warnings.warn(msg, DataConversionWarning)\n"
     ]
    },
    {
     "name": "stdout",
     "output_type": "stream",
     "text": [
      "DONE: Calculating beta diversity: dice\n",
      "Calculating beta diversity: braycurtis\n",
      "{'metric': 'braycurtis', 'pseudocount': 1, 'n_jobs': 6, 'table': <artifact: FeatureTable[Frequency] uuid: eb7b5feb-464a-4607-9c23-b6136e40dca2>}\n",
      "{'n_jobs': 6, 'table': 839 x 12 <class 'biom.table.Table'> with 1754 nonzero entries (17% dense)}\n",
      "{'n_jobs': 6, 'table': 839 x 12 <class 'biom.table.Table'> with 1754 nonzero entries (17% dense)}\n",
      "DONE: Calculating beta diversity: braycurtis\n",
      "Calculating beta diversity: correlation\n",
      "{'metric': 'correlation', 'pseudocount': 1, 'n_jobs': 6, 'table': <artifact: FeatureTable[Frequency] uuid: eb7b5feb-464a-4607-9c23-b6136e40dca2>}\n",
      "{'metric': 'correlation', 'pseudocount': 1, 'n_jobs': 6, 'table': 839 x 12 <class 'biom.table.Table'> with 1754 nonzero entries (17% dense)}\n",
      "{'metric': 'correlation', 'pseudocount': 1, 'n_jobs': 6, 'table': 839 x 12 <class 'biom.table.Table'> with 1754 nonzero entries (17% dense)}\n",
      "ERROR: Calculating beta diversity: correlation\n",
      "Calculating beta diversity: cosine\n",
      "{'metric': 'cosine', 'pseudocount': 1, 'n_jobs': 6, 'table': <artifact: FeatureTable[Frequency] uuid: eb7b5feb-464a-4607-9c23-b6136e40dca2>}\n",
      "{'metric': 'cosine', 'pseudocount': 1, 'n_jobs': 6, 'table': 839 x 12 <class 'biom.table.Table'> with 1754 nonzero entries (17% dense)}\n",
      "{'metric': 'cosine', 'pseudocount': 1, 'n_jobs': 6, 'table': 839 x 12 <class 'biom.table.Table'> with 1754 nonzero entries (17% dense)}\n",
      "ERROR: Calculating beta diversity: cosine\n",
      "Calculating beta diversity: matching\n",
      "{'metric': 'matching', 'pseudocount': 1, 'n_jobs': 6, 'table': <artifact: FeatureTable[Frequency] uuid: eb7b5feb-464a-4607-9c23-b6136e40dca2>}\n",
      "{'metric': 'matching', 'pseudocount': 1, 'n_jobs': 6, 'table': 839 x 12 <class 'biom.table.Table'> with 1754 nonzero entries (17% dense)}\n",
      "{'metric': 'matching', 'pseudocount': 1, 'n_jobs': 6, 'table': 839 x 12 <class 'biom.table.Table'> with 1754 nonzero entries (17% dense)}\n"
     ]
    },
    {
     "name": "stdout",
     "output_type": "stream",
     "text": [
      "DONE: Calculating beta diversity: matching\n",
      "Calculating beta diversity: jaccard\n",
      "{'metric': 'jaccard', 'pseudocount': 1, 'n_jobs': 6, 'table': <artifact: FeatureTable[Frequency] uuid: eb7b5feb-464a-4607-9c23-b6136e40dca2>}\n",
      "{'n_jobs': 6, 'table': 839 x 12 <class 'biom.table.Table'> with 1754 nonzero entries (17% dense)}\n",
      "{'n_jobs': 6, 'table': 839 x 12 <class 'biom.table.Table'> with 1754 nonzero entries (17% dense)}\n",
      "DONE: Calculating beta diversity: jaccard\n"
     ]
    },
    {
     "name": "stderr",
     "output_type": "stream",
     "text": [
      "/home/lauro/anaconda3/envs/qiime2-2022.2/lib/python3.8/site-packages/sklearn/metrics/pairwise.py:1761: DataConversionWarning: Data was converted to boolean for metric matching\n",
      "  warnings.warn(msg, DataConversionWarning)\n",
      "/home/lauro/anaconda3/envs/qiime2-2022.2/lib/python3.8/site-packages/sklearn/metrics/pairwise.py:1761: DataConversionWarning: Data was converted to boolean for metric jaccard\n",
      "  warnings.warn(msg, DataConversionWarning)\n"
     ]
    }
   ],
   "source": [
    "metrics = ('aitchison', 'braycurtis', 'canberra', 'canberra_adkins', 'chebyshev', 'cityblock', 'correlation', 'cosine', 'dice', 'euclidean', 'hamming', 'jaccard', 'jensenshannon', 'kulsinski', 'matching', 'minkowski', 'rogerstanimoto', 'russellrao', 'seuclidean', 'sokalmichener', 'sokalsneath', 'sqeuclidean', 'yule')\n",
    "metrics = ('euclidean', 'dice', 'braycurtis', 'correlation', 'cosine', 'matching', 'jaccard')\n",
    "beta_diversities = dict()\n",
    "for metric in metrics:\n",
    "    print(f\"Calculating beta diversity: {metric}\")\n",
    "    try:\n",
    "        beta_diversity = beta(table=tabs, metric=metric, n_jobs=6, pseudocount=1).distance_matrix\n",
    "        beta_diversities[metric] = beta_diversity\n",
    "        # Save SampleData[BetaDiversity] Artifact\n",
    "        file_path = os.path.join(beta_path, f'beta-values-{metric}.qza')\n",
    "        beta_diversity.save(file_path)\n",
    "        print(f\"DONE: Calculating beta diversity: {metric}\")\n",
    "    except Exception as e:\n",
    "        print(f\"ERROR: Calculating beta diversity: {metric}\")"
   ]
  },
  {
   "cell_type": "markdown",
   "id": "200a2fa7",
   "metadata": {
    "papermill": {
     "duration": 0.03971,
     "end_time": "2023-09-14T15:23:26.821468",
     "exception": false,
     "start_time": "2023-09-14T15:23:26.781758",
     "status": "completed"
    },
    "tags": []
   },
   "source": [
    "### Beta group significance\n",
    "\n",
    "- [diversity beta_group_significance](https://docs.qiime2.org/2022.8/plugins/available/diversity/beta-group-significance/): Determine whether groups of samples are significantly different from one another using a permutation-based statistical test.\n",
    "- Marti J Anderson. A new method for non-parametric multivariate analysis of variance. Austral ecology, 26(1):32–46, 2001. doi:https://doi.org/10.1111/j.1442-9993.2001.01070.pp.x."
   ]
  },
  {
   "cell_type": "code",
   "execution_count": 18,
   "id": "b8dd42b6",
   "metadata": {
    "ExecuteTime": {
     "end_time": "2022-09-29T20:55:08.313860Z",
     "start_time": "2022-09-29T20:54:36.336993Z"
    },
    "execution": {
     "iopub.execute_input": "2023-09-14T15:23:26.902094Z",
     "iopub.status.busy": "2023-09-14T15:23:26.901677Z",
     "iopub.status.idle": "2023-09-14T15:24:06.759359Z",
     "shell.execute_reply": "2023-09-14T15:24:06.758835Z"
    },
    "papermill": {
     "duration": 39.900377,
     "end_time": "2023-09-14T15:24:06.762761",
     "exception": false,
     "start_time": "2023-09-14T15:23:26.862384",
     "status": "completed"
    },
    "tags": []
   },
   "outputs": [
    {
     "name": "stdout",
     "output_type": "stream",
     "text": [
      "Calculating beta group significance with method permanova and metric euclidean\n",
      "{'metadata': <CategoricalMetadataColumn name='group-id' id_count=12>, 'method': 'permanova', 'pairwise': True, 'permutations': 999, 'distance_matrix': <skbio.stats.distance._base.DistanceMatrix object at 0x7f97fc78cb50>}\n"
     ]
    },
    {
     "name": "stdout",
     "output_type": "stream",
     "text": [
      "DONE: Calculating beta group significance: permanova euclidean\n",
      "Calculating beta group significance with method permanova and metric dice\n",
      "{'metadata': <CategoricalMetadataColumn name='group-id' id_count=12>, 'method': 'permanova', 'pairwise': True, 'permutations': 999, 'distance_matrix': <skbio.stats.distance._base.DistanceMatrix object at 0x7f97da49dbb0>}\n"
     ]
    },
    {
     "name": "stdout",
     "output_type": "stream",
     "text": [
      "DONE: Calculating beta group significance: permanova dice\n",
      "Calculating beta group significance with method permanova and metric braycurtis\n",
      "{'metadata': <CategoricalMetadataColumn name='group-id' id_count=12>, 'method': 'permanova', 'pairwise': True, 'permutations': 999, 'distance_matrix': <skbio.stats.distance._base.DistanceMatrix object at 0x7f97da3d2640>}\n"
     ]
    },
    {
     "name": "stdout",
     "output_type": "stream",
     "text": [
      "DONE: Calculating beta group significance: permanova braycurtis\n",
      "Calculating beta group significance with method permanova and metric matching\n",
      "{'metadata': <CategoricalMetadataColumn name='group-id' id_count=12>, 'method': 'permanova', 'pairwise': True, 'permutations': 999, 'distance_matrix': <skbio.stats.distance._base.DistanceMatrix object at 0x7f97da3e53d0>}\n"
     ]
    },
    {
     "name": "stdout",
     "output_type": "stream",
     "text": [
      "DONE: Calculating beta group significance: permanova matching\n",
      "Calculating beta group significance with method permanova and metric jaccard\n",
      "{'metadata': <CategoricalMetadataColumn name='group-id' id_count=12>, 'method': 'permanova', 'pairwise': True, 'permutations': 999, 'distance_matrix': <skbio.stats.distance._base.DistanceMatrix object at 0x7f97fe1c1af0>}\n"
     ]
    },
    {
     "name": "stdout",
     "output_type": "stream",
     "text": [
      "DONE: Calculating beta group significance: permanova jaccard\n",
      "Calculating beta group significance with method anosim and metric euclidean\n",
      "{'metadata': <CategoricalMetadataColumn name='group-id' id_count=12>, 'method': 'anosim', 'pairwise': True, 'permutations': 999, 'distance_matrix': <skbio.stats.distance._base.DistanceMatrix object at 0x7f97fe371370>}\n"
     ]
    },
    {
     "name": "stdout",
     "output_type": "stream",
     "text": [
      "DONE: Calculating beta group significance: anosim euclidean\n",
      "Calculating beta group significance with method anosim and metric dice\n",
      "{'metadata': <CategoricalMetadataColumn name='group-id' id_count=12>, 'method': 'anosim', 'pairwise': True, 'permutations': 999, 'distance_matrix': <skbio.stats.distance._base.DistanceMatrix object at 0x7f97fe9893d0>}\n"
     ]
    },
    {
     "name": "stdout",
     "output_type": "stream",
     "text": [
      "DONE: Calculating beta group significance: anosim dice\n",
      "Calculating beta group significance with method anosim and metric braycurtis\n",
      "{'metadata': <CategoricalMetadataColumn name='group-id' id_count=12>, 'method': 'anosim', 'pairwise': True, 'permutations': 999, 'distance_matrix': <skbio.stats.distance._base.DistanceMatrix object at 0x7f97ff304a30>}\n"
     ]
    },
    {
     "name": "stdout",
     "output_type": "stream",
     "text": [
      "DONE: Calculating beta group significance: anosim braycurtis\n",
      "Calculating beta group significance with method anosim and metric matching\n",
      "{'metadata': <CategoricalMetadataColumn name='group-id' id_count=12>, 'method': 'anosim', 'pairwise': True, 'permutations': 999, 'distance_matrix': <skbio.stats.distance._base.DistanceMatrix object at 0x7f97ff2afe80>}\n"
     ]
    },
    {
     "name": "stdout",
     "output_type": "stream",
     "text": [
      "DONE: Calculating beta group significance: anosim matching\n",
      "Calculating beta group significance with method anosim and metric jaccard\n",
      "{'metadata': <CategoricalMetadataColumn name='group-id' id_count=12>, 'method': 'anosim', 'pairwise': True, 'permutations': 999, 'distance_matrix': <skbio.stats.distance._base.DistanceMatrix object at 0x7f97feea95e0>}\n"
     ]
    },
    {
     "name": "stdout",
     "output_type": "stream",
     "text": [
      "DONE: Calculating beta group significance: anosim jaccard\n",
      "Calculating beta group significance with method permdisp and metric euclidean\n",
      "{'metadata': <CategoricalMetadataColumn name='group-id' id_count=12>, 'method': 'permdisp', 'pairwise': True, 'permutations': 999, 'distance_matrix': <skbio.stats.distance._base.DistanceMatrix object at 0x7f97ff0fdac0>}\n"
     ]
    },
    {
     "name": "stderr",
     "output_type": "stream",
     "text": [
      "/home/lauro/anaconda3/envs/qiime2-2022.2/lib/python3.8/site-packages/skbio/stats/ordination/_principal_coordinate_analysis.py:143: RuntimeWarning: The result contains negative eigenvalues. Please compare their magnitude with the magnitude of some of the largest positive eigenvalues. If the negative ones are smaller, it's probably safe to ignore them, but if they are large in magnitude, the results won't be useful. See the Notes section for more details. The smallest eigenvalue is -8.646623064440382e-07 and the largest is 4970731799.316674.\n",
      "  warn(\n"
     ]
    },
    {
     "name": "stderr",
     "output_type": "stream",
     "text": [
      "/home/lauro/anaconda3/envs/qiime2-2022.2/lib/python3.8/site-packages/skbio/stats/ordination/_principal_coordinate_analysis.py:143: RuntimeWarning: The result contains negative eigenvalues. Please compare their magnitude with the magnitude of some of the largest positive eigenvalues. If the negative ones are smaller, it's probably safe to ignore them, but if they are large in magnitude, the results won't be useful. See the Notes section for more details. The smallest eigenvalue is -9.048478039253514e-07 and the largest is 4970731799.316669.\n",
      "  warn(\n"
     ]
    },
    {
     "name": "stdout",
     "output_type": "stream",
     "text": [
      "DONE: Calculating beta group significance: permdisp euclidean\n",
      "Calculating beta group significance with method permdisp and metric dice\n",
      "{'metadata': <CategoricalMetadataColumn name='group-id' id_count=12>, 'method': 'permdisp', 'pairwise': True, 'permutations': 999, 'distance_matrix': <skbio.stats.distance._base.DistanceMatrix object at 0x7f97fe888940>}\n"
     ]
    },
    {
     "name": "stdout",
     "output_type": "stream",
     "text": [
      "DONE: Calculating beta group significance: permdisp dice\n",
      "Calculating beta group significance with method permdisp and metric braycurtis\n",
      "{'metadata': <CategoricalMetadataColumn name='group-id' id_count=12>, 'method': 'permdisp', 'pairwise': True, 'permutations': 999, 'distance_matrix': <skbio.stats.distance._base.DistanceMatrix object at 0x7f97fec64370>}\n"
     ]
    },
    {
     "name": "stdout",
     "output_type": "stream",
     "text": [
      "DONE: Calculating beta group significance: permdisp braycurtis\n",
      "Calculating beta group significance with method permdisp and metric matching\n",
      "{'metadata': <CategoricalMetadataColumn name='group-id' id_count=12>, 'method': 'permdisp', 'pairwise': True, 'permutations': 999, 'distance_matrix': <skbio.stats.distance._base.DistanceMatrix object at 0x7f97fe69f9a0>}\n"
     ]
    },
    {
     "name": "stdout",
     "output_type": "stream",
     "text": [
      "DONE: Calculating beta group significance: permdisp matching\n",
      "Calculating beta group significance with method permdisp and metric jaccard\n",
      "{'metadata': <CategoricalMetadataColumn name='group-id' id_count=12>, 'method': 'permdisp', 'pairwise': True, 'permutations': 999, 'distance_matrix': <skbio.stats.distance._base.DistanceMatrix object at 0x7f97fe2775b0>}\n"
     ]
    },
    {
     "name": "stdout",
     "output_type": "stream",
     "text": [
      "DONE: Calculating beta group significance: permdisp jaccard\n"
     ]
    },
    {
     "data": {
      "text/plain": [
       "<Figure size 432x288 with 0 Axes>"
      ]
     },
     "metadata": {},
     "output_type": "display_data"
    }
   ],
   "source": [
    "methods = ('permanova', 'anosim', 'permdisp')\n",
    "for method in methods:\n",
    "    for metric, beta_diversity in beta_diversities.items():\n",
    "        print(f'Calculating beta group significance with method {method} and metric {metric}')\n",
    "        try:\n",
    "            beta_view = beta_group_significance(distance_matrix=beta_diversity, \n",
    "                                                metadata=metadata_qa.get_column(class_col), \n",
    "                                                pairwise=True, method=method).visualization\n",
    "            view_name = os.path.join(beta_path, f'beta-group-significance-{metric}-{method}.qzv')\n",
    "            beta_view.save(view_name)\n",
    "            print(f\"DONE: Calculating beta group significance: {method} {metric}\")\n",
    "        except Exception as e:\n",
    "            print(f\"ERROR: Calculating beta group significance: {method} {metric}\")"
   ]
  },
  {
   "cell_type": "markdown",
   "id": "c0de85cf",
   "metadata": {
    "papermill": {
     "duration": 0.043526,
     "end_time": "2023-09-14T15:24:06.851180",
     "exception": false,
     "start_time": "2023-09-14T15:24:06.807654",
     "status": "completed"
    },
    "tags": []
   },
   "source": [
    "### Beta group Rarefaction\n",
    "\n",
    "- [diversity beta_rarefaction](https://docs.qiime2.org/2022.8/plugins/available/diversity/beta-rarefaction/): Repeatedly rarefy a feature table to compare beta diversity results within a given rarefaction depth.  For a given beta diversity metric, this visualizer will provide: an Emperor jackknifed PCoA plot, samples clustered by UPGMA or neighbor joining with support calculation, and a heatmap showing the correlation between rarefaction trials of that beta diversity metric."
   ]
  }
 ],
 "metadata": {
  "celltoolbar": "Edit Metadata",
  "kernelspec": {
   "display_name": "Python 3 (ipykernel)",
   "language": "python",
   "name": "python3"
  },
  "language_info": {
   "codemirror_mode": {
    "name": "ipython",
    "version": 3
   },
   "file_extension": ".py",
   "mimetype": "text/x-python",
   "name": "python",
   "nbconvert_exporter": "python",
   "pygments_lexer": "ipython3",
   "version": "3.8.12"
  },
  "papermill": {
   "default_parameters": {},
   "duration": 71.69893,
   "end_time": "2023-09-14T15:24:07.813505",
   "environment_variables": {},
   "exception": null,
   "input_path": "microbiom/nb-templates/step-diversity-analysis.ipynb",
   "output_path": "/home/lauro/nupeb/rede-micro/redemicro-ana-flavia-nutri/experiments/ana-flavia-NRxHSD-NR-trim/nb-executed-steps/step-diversity-analysis-ana-flavia-NRxHSD-NR-trim.ipynb",
   "parameters": {
    "base_dir": "/home/lauro/nupeb/rede-micro/redemicro-ana-flavia-nutri",
    "class_col": "group-id",
    "classifier_file": "/home/lauro/nupeb/rede-micro/models/silva-138-99-nb-classifier.qza",
    "experiment_name": "ana-flavia-NRxHSD-NR-trim",
    "manifest_file": "/home/lauro/nupeb/rede-micro/redemicro-ana-flavia-nutri/data/raw/manifest/manifest-ana-flavia-NRxHSD-NR.csv",
    "metadata_file": "/home/lauro/nupeb/rede-micro/redemicro-ana-flavia-nutri/data/raw/metadata/metadata-ana-flavia-NRxHSD-NR.tsv",
    "overlap": 12,
    "phred": 20,
    "replace_files": false,
    "threads": 6,
    "top_n": 20,
    "trim": {
     "forward_primer": "CCTACGGGRSGCAGCAG",
     "overlap": 8,
     "reverse_primer": "GGACTACHVGGGTWTCTAAT"
    },
    "trunc_f": 0,
    "trunc_r": 0
   },
   "start_time": "2023-09-14T15:22:56.114575",
   "version": "2.3.4"
  }
 },
 "nbformat": 4,
 "nbformat_minor": 5
}