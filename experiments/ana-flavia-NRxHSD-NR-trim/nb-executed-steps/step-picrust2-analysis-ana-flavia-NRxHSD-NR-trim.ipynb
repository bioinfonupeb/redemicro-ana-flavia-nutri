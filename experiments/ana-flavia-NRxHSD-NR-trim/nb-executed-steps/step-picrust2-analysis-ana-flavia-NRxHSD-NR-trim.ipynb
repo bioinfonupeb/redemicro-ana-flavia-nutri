{
 "cells": [
  {
   "cell_type": "markdown",
   "id": "0e7f2330",
   "metadata": {
    "ExecuteTime": {
     "end_time": "2022-09-22T19:36:33.828188Z",
     "start_time": "2022-09-22T19:36:33.817323Z"
    },
    "papermill": {
     "duration": 0.058615,
     "end_time": "2023-09-04T18:38:40.104813",
     "exception": false,
     "start_time": "2023-09-04T18:38:40.046198",
     "status": "completed"
    },
    "tags": []
   },
   "source": [
    "### STEP : PICRUST2 Analysis\n",
    "\n",
    "\n",
    "\n",
    "#### Example\n",
    "\n",
    "- [PICRUST2 tutorial](https://github.com/picrust/picrust2/wiki/q2-picrust2-Tutorial)\n",
    "- [Limitations](https://github.com/picrust/picrust2/wiki/Key-Limitations)\n",
    "\n",
    "\n",
    "#### Methods\n",
    "- [composition](https://docs.qiime2.org/2022.8/plugins/available/composition/)"
   ]
  },
  {
   "cell_type": "markdown",
   "id": "843debbf",
   "metadata": {
    "papermill": {
     "duration": 0.074067,
     "end_time": "2023-09-04T18:38:40.245979",
     "exception": false,
     "start_time": "2023-09-04T18:38:40.171912",
     "status": "completed"
    },
    "tags": []
   },
   "source": [
    "## Setup and settings"
   ]
  },
  {
   "cell_type": "code",
   "execution_count": 1,
   "id": "965e28e5",
   "metadata": {
    "ExecuteTime": {
     "end_time": "2022-11-09T19:20:47.478806Z",
     "start_time": "2022-11-09T19:20:40.457657Z"
    },
    "execution": {
     "iopub.execute_input": "2023-09-04T18:38:40.406542Z",
     "iopub.status.busy": "2023-09-04T18:38:40.405323Z",
     "iopub.status.idle": "2023-09-04T18:38:47.357346Z",
     "shell.execute_reply": "2023-09-04T18:38:47.356180Z"
    },
    "papermill": {
     "duration": 7.03774,
     "end_time": "2023-09-04T18:38:47.357595",
     "exception": false,
     "start_time": "2023-09-04T18:38:40.319855",
     "status": "completed"
    },
    "tags": []
   },
   "outputs": [],
   "source": [
    "# Importing packages\n",
    "import os\n",
    "import biom\n",
    "import pandas as pd\n",
    "from qiime2 import Artifact\n",
    "from qiime2 import Visualization\n",
    "from qiime2 import Metadata\n",
    "\n",
    "from qiime2.plugins.feature_table.visualizers import summarize\n",
    "\n",
    "from picrust2.pipeline import full_pipeline\n",
    "from picrust2.default import (default_ref_dir, default_tables, default_regroup_map, default_pathway_map)\n",
    "from qiime2.plugins import picrust2\n",
    "from qiime2.plugins.feature_table.methods import filter_samples\n",
    "from qiime2.plugins.feature_table.methods import filter_seqs\n",
    "\n",
    "%matplotlib inline"
   ]
  },
  {
   "cell_type": "markdown",
   "id": "530ceb60",
   "metadata": {
    "papermill": {
     "duration": 0.089869,
     "end_time": "2023-09-04T18:38:47.483832",
     "exception": false,
     "start_time": "2023-09-04T18:38:47.393963",
     "status": "completed"
    },
    "tags": []
   },
   "source": [
    "### Receiving the parameters\n",
    "\n",
    "The following cell can receive parameters using the [papermill](https://papermill.readthedocs.io/en/latest/) tool."
   ]
  },
  {
   "cell_type": "code",
   "execution_count": 2,
   "id": "18d874ea",
   "metadata": {
    "ExecuteTime": {
     "end_time": "2022-11-09T19:20:47.483140Z",
     "start_time": "2022-11-09T19:20:47.480386Z"
    },
    "execution": {
     "iopub.execute_input": "2023-09-04T18:38:47.555824Z",
     "iopub.status.busy": "2023-09-04T18:38:47.555313Z",
     "iopub.status.idle": "2023-09-04T18:38:47.558113Z",
     "shell.execute_reply": "2023-09-04T18:38:47.557703Z"
    },
    "papermill": {
     "duration": 0.036701,
     "end_time": "2023-09-04T18:38:47.558208",
     "exception": false,
     "start_time": "2023-09-04T18:38:47.521507",
     "status": "completed"
    },
    "tags": [
     "parameters"
    ]
   },
   "outputs": [],
   "source": [
    "metadata_file = '/home/lauro/nupeb/rede-micro/redemicro-miliane-nutri/data/raw/metadata/miliane-metadata-CxAC.tsv'\n",
    "base_dir = os.path.join('/', 'home', 'lauro', 'nupeb', 'rede-micro', 'redemicro-miliane-nutri')\n",
    "experiment_name = 'miliane-CxAC-trim'\n",
    "class_col = 'group-id'\n",
    "replace_files = False"
   ]
  },
  {
   "cell_type": "code",
   "execution_count": 3,
   "id": "cc65acf5",
   "metadata": {
    "execution": {
     "iopub.execute_input": "2023-09-04T18:38:47.617431Z",
     "iopub.status.busy": "2023-09-04T18:38:47.616972Z",
     "iopub.status.idle": "2023-09-04T18:38:47.618913Z",
     "shell.execute_reply": "2023-09-04T18:38:47.619280Z"
    },
    "papermill": {
     "duration": 0.032716,
     "end_time": "2023-09-04T18:38:47.619381",
     "exception": false,
     "start_time": "2023-09-04T18:38:47.586665",
     "status": "completed"
    },
    "tags": [
     "injected-parameters"
    ]
   },
   "outputs": [],
   "source": [
    "# Parameters\n",
    "experiment_name = \"ana-flavia-NRxHSD-NR-trim\"\n",
    "base_dir = \"/home/lauro/nupeb/rede-micro/redemicro-ana-flavia-nutri\"\n",
    "manifest_file = \"/home/lauro/nupeb/rede-micro/redemicro-ana-flavia-nutri/data/raw/manifest/manifest-ana-flavia-NRxHSD-NR.csv\"\n",
    "metadata_file = \"/home/lauro/nupeb/rede-micro/redemicro-ana-flavia-nutri/data/raw/metadata/metadata-ana-flavia-NRxHSD-NR.tsv\"\n",
    "class_col = \"group-id\"\n",
    "classifier_file = \"/home/lauro/nupeb/rede-micro/models/silva-138-99-nb-classifier.qza\"\n",
    "top_n = 20\n",
    "replace_files = False\n",
    "phred = 20\n",
    "trunc_f = 0\n",
    "trunc_r = 0\n",
    "overlap = 12\n",
    "threads = 6\n",
    "trim = {\n",
    "    \"overlap\": 8,\n",
    "    \"forward_primer\": \"CCTACGGGRSGCAGCAG\",\n",
    "    \"reverse_primer\": \"GGACTACHVGGGTWTCTAAT\",\n",
    "}\n"
   ]
  },
  {
   "cell_type": "code",
   "execution_count": 4,
   "id": "f38617d9",
   "metadata": {
    "ExecuteTime": {
     "end_time": "2022-11-09T19:20:47.515942Z",
     "start_time": "2022-11-09T19:20:47.498345Z"
    },
    "execution": {
     "iopub.execute_input": "2023-09-04T18:38:47.676319Z",
     "iopub.status.busy": "2023-09-04T18:38:47.675895Z",
     "iopub.status.idle": "2023-09-04T18:38:47.678472Z",
     "shell.execute_reply": "2023-09-04T18:38:47.678039Z"
    },
    "papermill": {
     "duration": 0.031889,
     "end_time": "2023-09-04T18:38:47.678558",
     "exception": false,
     "start_time": "2023-09-04T18:38:47.646669",
     "status": "completed"
    },
    "tags": []
   },
   "outputs": [],
   "source": [
    "experiment_folder = os.path.abspath(os.path.join(base_dir, 'experiments', experiment_name))\n",
    "img_folder = os.path.abspath(os.path.join(experiment_folder, 'imgs'))"
   ]
  },
  {
   "cell_type": "markdown",
   "id": "ea9b90fb",
   "metadata": {
    "papermill": {
     "duration": 0.027023,
     "end_time": "2023-09-04T18:38:47.732446",
     "exception": false,
     "start_time": "2023-09-04T18:38:47.705423",
     "status": "completed"
    },
    "tags": []
   },
   "source": [
    "### Defining names, paths and flags"
   ]
  },
  {
   "cell_type": "code",
   "execution_count": 5,
   "id": "45727eef",
   "metadata": {
    "ExecuteTime": {
     "end_time": "2022-11-09T19:20:47.527937Z",
     "start_time": "2022-11-09T19:20:47.517696Z"
    },
    "execution": {
     "iopub.execute_input": "2023-09-04T18:38:47.791798Z",
     "iopub.status.busy": "2023-09-04T18:38:47.791355Z",
     "iopub.status.idle": "2023-09-04T18:38:47.794638Z",
     "shell.execute_reply": "2023-09-04T18:38:47.794997Z"
    },
    "papermill": {
     "duration": 0.035404,
     "end_time": "2023-09-04T18:38:47.795097",
     "exception": false,
     "start_time": "2023-09-04T18:38:47.759693",
     "status": "completed"
    },
    "tags": []
   },
   "outputs": [
    {
     "name": "stdout",
     "output_type": "stream",
     "text": [
      "New picrust2-artifacts folder path created: /home/lauro/nupeb/rede-micro/redemicro-ana-flavia-nutri/experiments/ana-flavia-NRxHSD-NR-trim/picrust2\n"
     ]
    }
   ],
   "source": [
    "# QIIME2 Artifacts folder\n",
    "qiime_folder = os.path.join(experiment_folder, 'qiime-artifacts')\n",
    "\n",
    "# Input - DADA2 Artifacts\n",
    "dada2_tabs_path = os.path.join(qiime_folder, 'dada2-tabs.qza')\n",
    "dada2_reqs_path = os.path.join(qiime_folder, 'dada2-reps.qza')\n",
    "\n",
    "# PICRUST@ folder\n",
    "picrust2_folder = os.path.abspath(os.path.join(experiment_folder, 'picrust2'))\n",
    "\n",
    "# Create path if it not exist\n",
    "if not os.path.isdir(picrust2_folder):\n",
    "    os.makedirs(picrust2_folder)\n",
    "    print(f'New picrust2-artifacts folder path created: {picrust2_folder}')"
   ]
  },
  {
   "cell_type": "code",
   "execution_count": 6,
   "id": "4903e645",
   "metadata": {
    "ExecuteTime": {
     "end_time": "2022-11-09T19:20:47.539993Z",
     "start_time": "2022-11-09T19:20:47.529653Z"
    },
    "execution": {
     "iopub.execute_input": "2023-09-04T18:38:47.857413Z",
     "iopub.status.busy": "2023-09-04T18:38:47.856980Z",
     "iopub.status.idle": "2023-09-04T18:38:47.859109Z",
     "shell.execute_reply": "2023-09-04T18:38:47.859471Z"
    },
    "papermill": {
     "duration": 0.03416,
     "end_time": "2023-09-04T18:38:47.859570",
     "exception": false,
     "start_time": "2023-09-04T18:38:47.825410",
     "status": "completed"
    },
    "tags": []
   },
   "outputs": [],
   "source": [
    "# Define paths for metagenome function artifacts\n",
    "ec_path = os.path.join(picrust2_folder, 'ec-pred-metagen.qza')\n",
    "ko_path = os.path.join(picrust2_folder, 'ko-pred-metagen.qza')\n",
    "pathway_path = os.path.join(picrust2_folder, 'pathway-abundance.qza')\n",
    "\n",
    "# Define paths for metagenome function visualization artifacts\n",
    "ec_viz_path = ec_path[:-1]+'v'\n",
    "ko_viz_path = ko_path[:-1]+'v'\n",
    "pathway_viz_path = pathway_path[:-1]+'v'\n",
    "\n",
    "# Define paths for biom -> tsv files (function X sample)\n",
    "pathway_fpath = os.path.join(picrust2_folder, 'pathway.tsv')\n",
    "ec_fpath = os.path.join(picrust2_folder, 'ec.tsv')\n",
    "ko_fpath = os.path.join(picrust2_folder, 'ko.tsv')\n",
    "\n",
    "# Define paths for biom -> tsv files (function X sample) - with descriptions\n",
    "pathway_desc_fpath = os.path.join(picrust2_folder, 'pathway-desc.tsv')\n",
    "ec_desc_fpath = os.path.join(picrust2_folder, 'ec-desc.tsv')\n",
    "ko_desc_fpath = os.path.join(picrust2_folder, 'ko-desc.tsv')"
   ]
  },
  {
   "cell_type": "markdown",
   "id": "0999a1b2",
   "metadata": {
    "papermill": {
     "duration": 0.027117,
     "end_time": "2023-09-04T18:38:47.914672",
     "exception": false,
     "start_time": "2023-09-04T18:38:47.887555",
     "status": "completed"
    },
    "tags": []
   },
   "source": [
    "## Step execution\n",
    "\n",
    "### Load input files\n",
    "\n",
    "This Step import the QIIME2 `FeatureTable[Frequency]` Artifact and the `Metadata` file."
   ]
  },
  {
   "cell_type": "code",
   "execution_count": 7,
   "id": "8f299d1a",
   "metadata": {
    "ExecuteTime": {
     "end_time": "2022-11-09T19:20:47.610793Z",
     "start_time": "2022-11-09T19:20:47.541540Z"
    },
    "execution": {
     "iopub.execute_input": "2023-09-04T18:38:47.971504Z",
     "iopub.status.busy": "2023-09-04T18:38:47.971063Z",
     "iopub.status.idle": "2023-09-04T18:38:48.037067Z",
     "shell.execute_reply": "2023-09-04T18:38:48.035994Z"
    },
    "papermill": {
     "duration": 0.096229,
     "end_time": "2023-09-04T18:38:48.037279",
     "exception": false,
     "start_time": "2023-09-04T18:38:47.941050",
     "status": "completed"
    },
    "tags": []
   },
   "outputs": [],
   "source": [
    "#Load Metadata\n",
    "metadata_qa = Metadata.load(metadata_file)\n",
    "\n",
    "#Load FeatureTable[Frequency]\n",
    "tabs = Artifact.load(dada2_tabs_path)\n",
    "\n",
    "#Load FeatureTable[Sequence]\n",
    "seqs = Artifact.load(dada2_reqs_path)"
   ]
  },
  {
   "cell_type": "code",
   "execution_count": 8,
   "id": "9b699dee",
   "metadata": {
    "execution": {
     "iopub.execute_input": "2023-09-04T18:38:48.155858Z",
     "iopub.status.busy": "2023-09-04T18:38:48.154727Z",
     "iopub.status.idle": "2023-09-04T18:38:48.615771Z",
     "shell.execute_reply": "2023-09-04T18:38:48.616661Z"
    },
    "papermill": {
     "duration": 0.539614,
     "end_time": "2023-09-04T18:38:48.616943",
     "exception": false,
     "start_time": "2023-09-04T18:38:48.077329",
     "status": "completed"
    },
    "tags": []
   },
   "outputs": [],
   "source": [
    "# Filter FeatureTable[Frequency | RelativeFrequency | PresenceAbsence | Composition] based on Metadata sample ID values\n",
    "tabs = filter_samples(\n",
    "    table=tabs,\n",
    "    metadata=metadata_qa,\n",
    ").filtered_table\n",
    "# Filter SampleData[SequencesWithQuality | PairedEndSequencesWithQuality | JoinedSequencesWithQuality] based on Metadata sample ID values; returns FeatureData[Sequence | AlignedSequence]\n",
    "seqs = filter_seqs(\n",
    "    data=seqs,\n",
    "    table=tabs,\n",
    ").filtered_data"
   ]
  },
  {
   "cell_type": "markdown",
   "id": "4f1b06d4",
   "metadata": {
    "papermill": {
     "duration": 0.030434,
     "end_time": "2023-09-04T18:38:48.684612",
     "exception": false,
     "start_time": "2023-09-04T18:38:48.654178",
     "status": "completed"
    },
    "tags": []
   },
   "source": [
    "### Execute full pipelie\n",
    "\n",
    "The entire PICRUSt2 pipeline will be run using a single method, called `picrust2.methods.full_pipeline`. This method will run each of the 4 key steps: \n",
    "\n",
    "1. sequence placement\n",
    "2. hidden-state prediction of genomes\n",
    "3. metagenome prediction\n",
    "4. pathway-level predictions.\n",
    "\n",
    "More information on [Documentation](https://github.com/picrust/picrust2/wiki/Full-pipeline-script)."
   ]
  },
  {
   "cell_type": "code",
   "execution_count": 9,
   "id": "2c4f3874",
   "metadata": {
    "ExecuteTime": {
     "end_time": "2022-11-09T19:20:47.642417Z",
     "start_time": "2022-11-09T19:20:47.612547Z"
    },
    "execution": {
     "iopub.execute_input": "2023-09-04T18:38:48.752042Z",
     "iopub.status.busy": "2023-09-04T18:38:48.751534Z",
     "iopub.status.idle": "2023-09-04T18:45:23.029819Z",
     "shell.execute_reply": "2023-09-04T18:45:23.030709Z"
    },
    "papermill": {
     "duration": 394.315713,
     "end_time": "2023-09-04T18:45:23.030996",
     "exception": false,
     "start_time": "2023-09-04T18:38:48.715283",
     "status": "completed"
    },
    "scrolled": true,
    "tags": []
   },
   "outputs": [
    {
     "name": "stderr",
     "output_type": "stream",
     "text": [
      "839 of 839 sequence ids overlap between input table and FASTA.\n",
      "\n",
      "Placing sequences onto reference tree\n",
      "place_seqs.py --study_fasta /tmp/tmpexphhuzu/seqs.fna --ref_dir /home/lauro/anaconda3/envs/qiime2-2021.11/lib/python3.8/site-packages/picrust2/default_files/prokaryotic/pro_ref --out_tree /tmp/tmpexphhuzu/picrust2_out/out.tre --processes 6 --intermediate /tmp/tmpexphhuzu/picrust2_out/intermediate/place_seqs --min_align 0.8 --chunk_size 5000 --placement_tool sepp --verbose\n"
     ]
    },
    {
     "name": "stdout",
     "output_type": "stream",
     "text": [
      "\n",
      "['run_sepp.py', '--tree', '/home/lauro/anaconda3/envs/qiime2-2021.11/lib/python3.8/site-packages/picrust2/default_files/prokaryotic/pro_ref/pro_ref.tre', '--raxml', '/home/lauro/anaconda3/envs/qiime2-2021.11/lib/python3.8/site-packages/picrust2/default_files/prokaryotic/pro_ref/pro_ref.raxml_info', '--cpu', '6', '--molecule', 'dna', '--outdir', '/tmp/tmpexphhuzu/picrust2_out/intermediate/place_seqs/sepp_out', '-seed', '297834', '--alignment', '/home/lauro/anaconda3/envs/qiime2-2021.11/lib/python3.8/site-packages/picrust2/default_files/prokaryotic/pro_ref/pro_ref.fna', '--fragment', '/tmp/tmpexphhuzu/picrust2_out/intermediate/place_seqs/study_seqs_filtered.fasta']\n",
      "\n",
      "                                              ....      ....  \n",
      "                                             '' '||.   .||'   \n",
      "                                                  ||  ||      \n",
      "                                                  '|.|'       \n",
      "     ...'   ....   ... ...  ... ...   ....        .|'|.       \n",
      "    |  ||  '' .||   ||'  ||  ||'  || '' .||      .|'  ||      \n",
      "     |''   .|' ||   ||    |  ||    | .|' ||     .|'|.  ||     \n",
      "    '....  '|..'|'. ||...'   ||...'  '|..'|.    '||'    ||:.  \n",
      "    '....'          ||       ||                               \n",
      "                   ''''     ''''   v0.6.1 (c) 2017-2020\n",
      "                                   by Lucas Czech and Pierre Barbera\n",
      "\n",
      "Invocation:                        gappa examine graft --jplace-path /tmp/tmpexphhuzu/picrust2_out/intermediate/place_seqs/sepp_out/output_placement.json --fully-resolve --out-dir /tmp/tmpexphhuzu/picrust2_out/intermediate/place_seqs/sepp_out\n",
      "Command:                           gappa examine graft\n",
      "\n",
      "Input:\n",
      "  --jplace-path                    /tmp/tmpexphhuzu/picrust2_out/intermediate/place_seqs/sepp_out/output_placement.json\n",
      "\n",
      "Settings:\n",
      "  --fully-resolve                  true\n",
      "  --name-prefix\n",
      "\n",
      "Output:\n",
      "  --out-dir                        /tmp/tmpexphhuzu/picrust2_out/intermediate/place_seqs/sepp_out\n",
      "  --file-prefix                    \n",
      "  --file-suffix\n",
      "\n",
      "Global Options:\n",
      "  --allow-file-overwriting         false\n",
      "  --verbose                        false\n",
      "  --threads                        4\n",
      "  --log-file\n",
      "\n",
      "Run the following command to get the references that need to be cited:\n",
      "`gappa tools citation Czech2020-genesis-and-gappa`\n",
      "\n",
      "Started 2023-09-04 18:41:34\n",
      "\n",
      "Found 1 jplace file\n",
      "\n",
      "Finished 2023-09-04 18:41:35\n",
      "\n",
      "\n"
     ]
    },
    {
     "name": "stderr",
     "output_type": "stream",
     "text": [
      "hmmalign --trim --dna --mapali /home/lauro/anaconda3/envs/qiime2-2021.11/lib/python3.8/site-packages/picrust2/default_files/prokaryotic/pro_ref/pro_ref.fna --informat FASTA -o /tmp/tmpexphhuzu/picrust2_out/intermediate/place_seqs/query_align.stockholm /home/lauro/anaconda3/envs/qiime2-2021.11/lib/python3.8/site-packages/picrust2/default_files/prokaryotic/pro_ref/pro_ref.hmm /tmp/tmpexphhuzu/seqs.fna\n",
      "\n",
      "Raw input sequences ranged in length from 262 to 430\n",
      "\n",
      "run_sepp.py --tree /home/lauro/anaconda3/envs/qiime2-2021.11/lib/python3.8/site-packages/picrust2/default_files/prokaryotic/pro_ref/pro_ref.tre --raxml /home/lauro/anaconda3/envs/qiime2-2021.11/lib/python3.8/site-packages/picrust2/default_files/prokaryotic/pro_ref/pro_ref.raxml_info --cpu 6 --molecule dna --outdir /tmp/tmpexphhuzu/picrust2_out/intermediate/place_seqs/sepp_out -seed 297834 --alignment /home/lauro/anaconda3/envs/qiime2-2021.11/lib/python3.8/site-packages/picrust2/default_files/prokaryotic/pro_ref/pro_ref.fna --fragment /tmp/tmpexphhuzu/picrust2_out/intermediate/place_seqs/study_seqs_filtered.fasta\n",
      "[18:39:24] config.py (line 349):     INFO: Seed number: 297834\n",
      "[18:39:24] algorithm.py (line 258):     INFO: Reading input alignment: <_io.TextIOWrapper name='/home/lauro/anaconda3/envs/qiime2-2021.11/lib/python3.8/site-packages/picrust2/default_files/prokaryotic/pro_ref/pro_ref.fna' mode='r' encoding='UTF-8'>\n",
      "[18:39:24] algorithm.py (line 265):     INFO: Reading input tree: <_io.TextIOWrapper name='/home/lauro/anaconda3/envs/qiime2-2021.11/lib/python3.8/site-packages/picrust2/default_files/prokaryotic/pro_ref/pro_ref.tre' mode='r' encoding='UTF-8'>\n",
      "[18:39:26] algorithm.py (line 238):     INFO: Decomposition Sizes are set to alignment: 2000 placement: 2000\n",
      "[18:39:28] exhaustive.py (line 350):     INFO: Breaking into 16 placement subsets.\n",
      "[18:39:29] exhaustive.py (line 397):     INFO: Breaking into 16 alignment subsets.\n",
      "[18:39:29] filemgr.py (line 129):     INFO: Root temp directory built: /tmp/sepp/output.1rd6syqh\n",
      "[18:39:29] exhaustive.py (line 412):     INFO: Breaking each alignment subset into 3 fragment chunks.\n",
      "[18:39:31] jobs.py (line 131):     INFO: Finished hmmbuild Job with input: /tmp/sepp/output.1rd6syqh/root/P_1/A_1_0/hmmbuild.input.bwtxa_21.fasta\n",
      "[18:39:31] jobs.py (line 131):     INFO: Finished hmmbuild Job with input: /tmp/sepp/output.1rd6syqh/root/P_0/A_0_0/hmmbuild.input.ru1t1daw.fasta\n",
      "[18:39:31] jobs.py (line 131):     INFO: Finished hmmbuild Job with input: /tmp/sepp/output.1rd6syqh/root/P_4/A_4_0/hmmbuild.input.2kb8opqs.fasta\n",
      "[18:39:31] jobs.py (line 131):     INFO: Finished hmmbuild Job with input: /tmp/sepp/output.1rd6syqh/root/P_5/A_5_0/hmmbuild.input.v5f__2mx.fasta\n",
      "[18:39:31] jobs.py (line 131):     INFO: Finished hmmbuild Job with input: /tmp/sepp/output.1rd6syqh/root/P_2/A_2_0/hmmbuild.input.gmgzgm2n.fasta\n",
      "[18:39:31] jobs.py (line 131):     INFO: Finished hmmbuild Job with input: /tmp/sepp/output.1rd6syqh/root/P_3/A_3_0/hmmbuild.input.soiy2dzz.fasta\n",
      "[18:39:31] jobs.py (line 131):     INFO: Finished hmmbuild Job with input: /tmp/sepp/output.1rd6syqh/root/P_7/A_7_0/hmmbuild.input.0c2betdd.fasta\n",
      "[18:39:32] jobs.py (line 131):     INFO: Finished hmmbuild Job with input: /tmp/sepp/output.1rd6syqh/root/P_6/A_6_0/hmmbuild.input.f1o22gb_.fasta\n",
      "[18:39:32] jobs.py (line 131):     INFO: Finished hmmbuild Job with input: /tmp/sepp/output.1rd6syqh/root/P_10/A_10_0/hmmbuild.input.g5g7aqcx.fasta\n",
      "[18:39:32] jobs.py (line 131):     INFO: Finished hmmbuild Job with input: /tmp/sepp/output.1rd6syqh/root/P_8/A_8_0/hmmbuild.input.wlg4jfn7.fasta\n",
      "[18:39:32] jobs.py (line 131):     INFO: Finished hmmbuild Job with input: /tmp/sepp/output.1rd6syqh/root/P_9/A_9_0/hmmbuild.input.cu7dlc70.fasta\n",
      "[18:39:32] jobs.py (line 131):     INFO: Finished hmmbuild Job with input: /tmp/sepp/output.1rd6syqh/root/P_11/A_11_0/hmmbuild.input.np4vlcmk.fasta\n",
      "[18:39:32] jobs.py (line 131):     INFO: Finished hmmbuild Job with input: /tmp/sepp/output.1rd6syqh/root/P_12/A_12_0/hmmbuild.input._3g4x4na.fasta\n",
      "[18:39:33] jobs.py (line 131):     INFO: Finished hmmbuild Job with input: /tmp/sepp/output.1rd6syqh/root/P_15/A_15_0/hmmbuild.input.nv604b78.fasta\n",
      "[18:39:33] jobs.py (line 131):     INFO: Finished hmmbuild Job with input: /tmp/sepp/output.1rd6syqh/root/P_13/A_13_0/hmmbuild.input.s17_xzev.fasta\n",
      "[18:39:33] jobs.py (line 131):     INFO: Finished hmmbuild Job with input: /tmp/sepp/output.1rd6syqh/root/P_14/A_14_0/hmmbuild.input.0e5tdwn7.fasta\n",
      "[18:39:36] jobs.py (line 131):     INFO: Finished hmmsearch Job with input: model:/tmp/sepp/output.1rd6syqh/root/P_0/A_0_0/hmmbuild.model._03g23ho, fragments:/tmp/sepp/output.1rd6syqh/fragment_chunks/fragment_chunk_2rgx1t8qp.fasta, elim:99999999, filter:False, output:/tmp/sepp/output.1rd6syqh/root/P_0/A_0_0/FC_0_0_2/hmmsearch.results.a34a0g0i\n",
      "[18:39:37] jobs.py (line 131):     INFO: Finished hmmsearch Job with input: model:/tmp/sepp/output.1rd6syqh/root/P_0/A_0_0/hmmbuild.model._03g23ho, fragments:/tmp/sepp/output.1rd6syqh/fragment_chunks/fragment_chunk_02cdl1gh0.fasta, elim:99999999, filter:False, output:/tmp/sepp/output.1rd6syqh/root/P_0/A_0_0/FC_0_0_0/hmmsearch.results.g7yoir36\n",
      "[18:39:38] jobs.py (line 131):     INFO: Finished hmmsearch Job with input: model:/tmp/sepp/output.1rd6syqh/root/P_1/A_1_0/hmmbuild.model.8yuxvyu0, fragments:/tmp/sepp/output.1rd6syqh/fragment_chunks/fragment_chunk_1n43j5_1m.fasta, elim:99999999, filter:False, output:/tmp/sepp/output.1rd6syqh/root/P_1/A_1_0/FC_1_0_1/hmmsearch.results.iyl6gp1i\n",
      "[18:39:39] jobs.py (line 131):     INFO: Finished hmmsearch Job with input: model:/tmp/sepp/output.1rd6syqh/root/P_1/A_1_0/hmmbuild.model.8yuxvyu0, fragments:/tmp/sepp/output.1rd6syqh/fragment_chunks/fragment_chunk_02cdl1gh0.fasta, elim:99999999, filter:False, output:/tmp/sepp/output.1rd6syqh/root/P_1/A_1_0/FC_1_0_0/hmmsearch.results.h__q5bl_\n",
      "[18:39:39] jobs.py (line 131):     INFO: Finished hmmsearch Job with input: model:/tmp/sepp/output.1rd6syqh/root/P_1/A_1_0/hmmbuild.model.8yuxvyu0, fragments:/tmp/sepp/output.1rd6syqh/fragment_chunks/fragment_chunk_2rgx1t8qp.fasta, elim:99999999, filter:False, output:/tmp/sepp/output.1rd6syqh/root/P_1/A_1_0/FC_1_0_2/hmmsearch.results.4p5q5c8f\n",
      "[18:39:39] jobs.py (line 131):     INFO: Finished hmmsearch Job with input: model:/tmp/sepp/output.1rd6syqh/root/P_0/A_0_0/hmmbuild.model._03g23ho, fragments:/tmp/sepp/output.1rd6syqh/fragment_chunks/fragment_chunk_1n43j5_1m.fasta, elim:99999999, filter:False, output:/tmp/sepp/output.1rd6syqh/root/P_0/A_0_0/FC_0_0_1/hmmsearch.results.v7nc0pob\n",
      "[18:39:42] jobs.py (line 131):     INFO: Finished hmmsearch Job with input: model:/tmp/sepp/output.1rd6syqh/root/P_4/A_4_0/hmmbuild.model.2fvrkhcb, fragments:/tmp/sepp/output.1rd6syqh/fragment_chunks/fragment_chunk_1n43j5_1m.fasta, elim:99999999, filter:False, output:/tmp/sepp/output.1rd6syqh/root/P_4/A_4_0/FC_4_0_1/hmmsearch.results.sl6m0f2u\n",
      "[18:39:42] jobs.py (line 131):     INFO: Finished hmmsearch Job with input: model:/tmp/sepp/output.1rd6syqh/root/P_4/A_4_0/hmmbuild.model.2fvrkhcb, fragments:/tmp/sepp/output.1rd6syqh/fragment_chunks/fragment_chunk_02cdl1gh0.fasta, elim:99999999, filter:False, output:/tmp/sepp/output.1rd6syqh/root/P_4/A_4_0/FC_4_0_0/hmmsearch.results.dedgnp19\n",
      "[18:39:42] jobs.py (line 131):     INFO: Finished hmmsearch Job with input: model:/tmp/sepp/output.1rd6syqh/root/P_5/A_5_0/hmmbuild.model.228vjcg4, fragments:/tmp/sepp/output.1rd6syqh/fragment_chunks/fragment_chunk_02cdl1gh0.fasta, elim:99999999, filter:False, output:/tmp/sepp/output.1rd6syqh/root/P_5/A_5_0/FC_5_0_0/hmmsearch.results.glp7kot5\n",
      "[18:39:43] jobs.py (line 131):     INFO: Finished hmmsearch Job with input: model:/tmp/sepp/output.1rd6syqh/root/P_5/A_5_0/hmmbuild.model.228vjcg4, fragments:/tmp/sepp/output.1rd6syqh/fragment_chunks/fragment_chunk_1n43j5_1m.fasta, elim:99999999, filter:False, output:/tmp/sepp/output.1rd6syqh/root/P_5/A_5_0/FC_5_0_1/hmmsearch.results.4iuhc6ix\n",
      "[18:39:44] jobs.py (line 131):     INFO: Finished hmmsearch Job with input: model:/tmp/sepp/output.1rd6syqh/root/P_5/A_5_0/hmmbuild.model.228vjcg4, fragments:/tmp/sepp/output.1rd6syqh/fragment_chunks/fragment_chunk_2rgx1t8qp.fasta, elim:99999999, filter:False, output:/tmp/sepp/output.1rd6syqh/root/P_5/A_5_0/FC_5_0_2/hmmsearch.results.4zvfgf5w\n",
      "[18:39:44] jobs.py (line 131):     INFO: Finished hmmsearch Job with input: model:/tmp/sepp/output.1rd6syqh/root/P_4/A_4_0/hmmbuild.model.2fvrkhcb, fragments:/tmp/sepp/output.1rd6syqh/fragment_chunks/fragment_chunk_2rgx1t8qp.fasta, elim:99999999, filter:False, output:/tmp/sepp/output.1rd6syqh/root/P_4/A_4_0/FC_4_0_2/hmmsearch.results._f32lygm\n",
      "[18:39:46] jobs.py (line 131):     INFO: Finished hmmsearch Job with input: model:/tmp/sepp/output.1rd6syqh/root/P_2/A_2_0/hmmbuild.model.c6yil560, fragments:/tmp/sepp/output.1rd6syqh/fragment_chunks/fragment_chunk_1n43j5_1m.fasta, elim:99999999, filter:False, output:/tmp/sepp/output.1rd6syqh/root/P_2/A_2_0/FC_2_0_1/hmmsearch.results.5v1ocxpt\n",
      "[18:39:47] jobs.py (line 131):     INFO: Finished hmmsearch Job with input: model:/tmp/sepp/output.1rd6syqh/root/P_2/A_2_0/hmmbuild.model.c6yil560, fragments:/tmp/sepp/output.1rd6syqh/fragment_chunks/fragment_chunk_02cdl1gh0.fasta, elim:99999999, filter:False, output:/tmp/sepp/output.1rd6syqh/root/P_2/A_2_0/FC_2_0_0/hmmsearch.results.3rbm8x42\n",
      "[18:39:47] jobs.py (line 131):     INFO: Finished hmmsearch Job with input: model:/tmp/sepp/output.1rd6syqh/root/P_2/A_2_0/hmmbuild.model.c6yil560, fragments:/tmp/sepp/output.1rd6syqh/fragment_chunks/fragment_chunk_2rgx1t8qp.fasta, elim:99999999, filter:False, output:/tmp/sepp/output.1rd6syqh/root/P_2/A_2_0/FC_2_0_2/hmmsearch.results.qpy0qtgt\n",
      "[18:39:49] jobs.py (line 131):     INFO: Finished hmmsearch Job with input: model:/tmp/sepp/output.1rd6syqh/root/P_3/A_3_0/hmmbuild.model.yop0r2aw, fragments:/tmp/sepp/output.1rd6syqh/fragment_chunks/fragment_chunk_1n43j5_1m.fasta, elim:99999999, filter:False, output:/tmp/sepp/output.1rd6syqh/root/P_3/A_3_0/FC_3_0_1/hmmsearch.results.ns0igbqh\n",
      "[18:39:49] jobs.py (line 131):     INFO: Finished hmmsearch Job with input: model:/tmp/sepp/output.1rd6syqh/root/P_3/A_3_0/hmmbuild.model.yop0r2aw, fragments:/tmp/sepp/output.1rd6syqh/fragment_chunks/fragment_chunk_02cdl1gh0.fasta, elim:99999999, filter:False, output:/tmp/sepp/output.1rd6syqh/root/P_3/A_3_0/FC_3_0_0/hmmsearch.results.i6q528lw\n",
      "[18:39:50] jobs.py (line 131):     INFO: Finished hmmsearch Job with input: model:/tmp/sepp/output.1rd6syqh/root/P_3/A_3_0/hmmbuild.model.yop0r2aw, fragments:/tmp/sepp/output.1rd6syqh/fragment_chunks/fragment_chunk_2rgx1t8qp.fasta, elim:99999999, filter:False, output:/tmp/sepp/output.1rd6syqh/root/P_3/A_3_0/FC_3_0_2/hmmsearch.results.cgl_4woh\n",
      "[18:39:51] jobs.py (line 131):     INFO: Finished hmmsearch Job with input: model:/tmp/sepp/output.1rd6syqh/root/P_7/A_7_0/hmmbuild.model.pqm9e3l8, fragments:/tmp/sepp/output.1rd6syqh/fragment_chunks/fragment_chunk_1n43j5_1m.fasta, elim:99999999, filter:False, output:/tmp/sepp/output.1rd6syqh/root/P_7/A_7_0/FC_7_0_1/hmmsearch.results.kvwrk6jz\n",
      "[18:39:53] jobs.py (line 131):     INFO: Finished hmmsearch Job with input: model:/tmp/sepp/output.1rd6syqh/root/P_7/A_7_0/hmmbuild.model.pqm9e3l8, fragments:/tmp/sepp/output.1rd6syqh/fragment_chunks/fragment_chunk_02cdl1gh0.fasta, elim:99999999, filter:False, output:/tmp/sepp/output.1rd6syqh/root/P_7/A_7_0/FC_7_0_0/hmmsearch.results.jp5scz62\n",
      "[18:39:54] jobs.py (line 131):     INFO: Finished hmmsearch Job with input: model:/tmp/sepp/output.1rd6syqh/root/P_7/A_7_0/hmmbuild.model.pqm9e3l8, fragments:/tmp/sepp/output.1rd6syqh/fragment_chunks/fragment_chunk_2rgx1t8qp.fasta, elim:99999999, filter:False, output:/tmp/sepp/output.1rd6syqh/root/P_7/A_7_0/FC_7_0_2/hmmsearch.results.zivywlbq\n",
      "[18:39:54] jobs.py (line 131):     INFO: Finished hmmsearch Job with input: model:/tmp/sepp/output.1rd6syqh/root/P_6/A_6_0/hmmbuild.model.85x_ojda, fragments:/tmp/sepp/output.1rd6syqh/fragment_chunks/fragment_chunk_2rgx1t8qp.fasta, elim:99999999, filter:False, output:/tmp/sepp/output.1rd6syqh/root/P_6/A_6_0/FC_6_0_2/hmmsearch.results.akywv_w3\n",
      "[18:39:55] jobs.py (line 131):     INFO: Finished hmmsearch Job with input: model:/tmp/sepp/output.1rd6syqh/root/P_6/A_6_0/hmmbuild.model.85x_ojda, fragments:/tmp/sepp/output.1rd6syqh/fragment_chunks/fragment_chunk_02cdl1gh0.fasta, elim:99999999, filter:False, output:/tmp/sepp/output.1rd6syqh/root/P_6/A_6_0/FC_6_0_0/hmmsearch.results.d8zxsumb\n",
      "[18:39:55] jobs.py (line 131):     INFO: Finished hmmsearch Job with input: model:/tmp/sepp/output.1rd6syqh/root/P_10/A_10_0/hmmbuild.model.s7ohfm0p, fragments:/tmp/sepp/output.1rd6syqh/fragment_chunks/fragment_chunk_02cdl1gh0.fasta, elim:99999999, filter:False, output:/tmp/sepp/output.1rd6syqh/root/P_10/A_10_0/FC_10_0_0/hmmsearch.results.bd9y7ppt\n",
      "[18:39:55] jobs.py (line 131):     INFO: Finished hmmsearch Job with input: model:/tmp/sepp/output.1rd6syqh/root/P_6/A_6_0/hmmbuild.model.85x_ojda, fragments:/tmp/sepp/output.1rd6syqh/fragment_chunks/fragment_chunk_1n43j5_1m.fasta, elim:99999999, filter:False, output:/tmp/sepp/output.1rd6syqh/root/P_6/A_6_0/FC_6_0_1/hmmsearch.results.tjwaipy7\n",
      "[18:39:58] jobs.py (line 131):     INFO: Finished hmmsearch Job with input: model:/tmp/sepp/output.1rd6syqh/root/P_8/A_8_0/hmmbuild.model.t5z3kim5, fragments:/tmp/sepp/output.1rd6syqh/fragment_chunks/fragment_chunk_02cdl1gh0.fasta, elim:99999999, filter:False, output:/tmp/sepp/output.1rd6syqh/root/P_8/A_8_0/FC_8_0_0/hmmsearch.results.0km0o1eh\n",
      "[18:39:58] jobs.py (line 131):     INFO: Finished hmmsearch Job with input: model:/tmp/sepp/output.1rd6syqh/root/P_10/A_10_0/hmmbuild.model.s7ohfm0p, fragments:/tmp/sepp/output.1rd6syqh/fragment_chunks/fragment_chunk_1n43j5_1m.fasta, elim:99999999, filter:False, output:/tmp/sepp/output.1rd6syqh/root/P_10/A_10_0/FC_10_0_1/hmmsearch.results.d3dyiz1t\n",
      "[18:39:59] jobs.py (line 131):     INFO: Finished hmmsearch Job with input: model:/tmp/sepp/output.1rd6syqh/root/P_10/A_10_0/hmmbuild.model.s7ohfm0p, fragments:/tmp/sepp/output.1rd6syqh/fragment_chunks/fragment_chunk_2rgx1t8qp.fasta, elim:99999999, filter:False, output:/tmp/sepp/output.1rd6syqh/root/P_10/A_10_0/FC_10_0_2/hmmsearch.results.vt640syc\n",
      "[18:40:00] jobs.py (line 131):     INFO: Finished hmmsearch Job with input: model:/tmp/sepp/output.1rd6syqh/root/P_8/A_8_0/hmmbuild.model.t5z3kim5, fragments:/tmp/sepp/output.1rd6syqh/fragment_chunks/fragment_chunk_2rgx1t8qp.fasta, elim:99999999, filter:False, output:/tmp/sepp/output.1rd6syqh/root/P_8/A_8_0/FC_8_0_2/hmmsearch.results.j_r9qcil\n",
      "[18:40:00] jobs.py (line 131):     INFO: Finished hmmsearch Job with input: model:/tmp/sepp/output.1rd6syqh/root/P_8/A_8_0/hmmbuild.model.t5z3kim5, fragments:/tmp/sepp/output.1rd6syqh/fragment_chunks/fragment_chunk_1n43j5_1m.fasta, elim:99999999, filter:False, output:/tmp/sepp/output.1rd6syqh/root/P_8/A_8_0/FC_8_0_1/hmmsearch.results.epir2sr6\n",
      "[18:40:02] jobs.py (line 131):     INFO: Finished hmmsearch Job with input: model:/tmp/sepp/output.1rd6syqh/root/P_9/A_9_0/hmmbuild.model.8auq1z7l, fragments:/tmp/sepp/output.1rd6syqh/fragment_chunks/fragment_chunk_02cdl1gh0.fasta, elim:99999999, filter:False, output:/tmp/sepp/output.1rd6syqh/root/P_9/A_9_0/FC_9_0_0/hmmsearch.results.sq5u_faz\n",
      "[18:40:03] jobs.py (line 131):     INFO: Finished hmmsearch Job with input: model:/tmp/sepp/output.1rd6syqh/root/P_9/A_9_0/hmmbuild.model.8auq1z7l, fragments:/tmp/sepp/output.1rd6syqh/fragment_chunks/fragment_chunk_1n43j5_1m.fasta, elim:99999999, filter:False, output:/tmp/sepp/output.1rd6syqh/root/P_9/A_9_0/FC_9_0_1/hmmsearch.results.z_3brv2i\n",
      "[18:40:04] jobs.py (line 131):     INFO: Finished hmmsearch Job with input: model:/tmp/sepp/output.1rd6syqh/root/P_9/A_9_0/hmmbuild.model.8auq1z7l, fragments:/tmp/sepp/output.1rd6syqh/fragment_chunks/fragment_chunk_2rgx1t8qp.fasta, elim:99999999, filter:False, output:/tmp/sepp/output.1rd6syqh/root/P_9/A_9_0/FC_9_0_2/hmmsearch.results.eu1wd303\n",
      "[18:40:04] jobs.py (line 131):     INFO: Finished hmmsearch Job with input: model:/tmp/sepp/output.1rd6syqh/root/P_11/A_11_0/hmmbuild.model.ersk13wh, fragments:/tmp/sepp/output.1rd6syqh/fragment_chunks/fragment_chunk_2rgx1t8qp.fasta, elim:99999999, filter:False, output:/tmp/sepp/output.1rd6syqh/root/P_11/A_11_0/FC_11_0_2/hmmsearch.results.pgdxhyq8\n",
      "[18:40:05] jobs.py (line 131):     INFO: Finished hmmsearch Job with input: model:/tmp/sepp/output.1rd6syqh/root/P_11/A_11_0/hmmbuild.model.ersk13wh, fragments:/tmp/sepp/output.1rd6syqh/fragment_chunks/fragment_chunk_1n43j5_1m.fasta, elim:99999999, filter:False, output:/tmp/sepp/output.1rd6syqh/root/P_11/A_11_0/FC_11_0_1/hmmsearch.results.2unwvjmi\n",
      "[18:40:05] jobs.py (line 131):     INFO: Finished hmmsearch Job with input: model:/tmp/sepp/output.1rd6syqh/root/P_11/A_11_0/hmmbuild.model.ersk13wh, fragments:/tmp/sepp/output.1rd6syqh/fragment_chunks/fragment_chunk_02cdl1gh0.fasta, elim:99999999, filter:False, output:/tmp/sepp/output.1rd6syqh/root/P_11/A_11_0/FC_11_0_0/hmmsearch.results.xaqh1aax\n",
      "[18:40:06] jobs.py (line 131):     INFO: Finished hmmsearch Job with input: model:/tmp/sepp/output.1rd6syqh/root/P_12/A_12_0/hmmbuild.model.k2cgszjq, fragments:/tmp/sepp/output.1rd6syqh/fragment_chunks/fragment_chunk_02cdl1gh0.fasta, elim:99999999, filter:False, output:/tmp/sepp/output.1rd6syqh/root/P_12/A_12_0/FC_12_0_0/hmmsearch.results.p42_mf8j\n",
      "[18:40:09] jobs.py (line 131):     INFO: Finished hmmsearch Job with input: model:/tmp/sepp/output.1rd6syqh/root/P_15/A_15_0/hmmbuild.model.d13nj6ic, fragments:/tmp/sepp/output.1rd6syqh/fragment_chunks/fragment_chunk_1n43j5_1m.fasta, elim:99999999, filter:False, output:/tmp/sepp/output.1rd6syqh/root/P_15/A_15_0/FC_15_0_1/hmmsearch.results.8wsl02fx\n",
      "[18:40:09] jobs.py (line 131):     INFO: Finished hmmsearch Job with input: model:/tmp/sepp/output.1rd6syqh/root/P_12/A_12_0/hmmbuild.model.k2cgszjq, fragments:/tmp/sepp/output.1rd6syqh/fragment_chunks/fragment_chunk_1n43j5_1m.fasta, elim:99999999, filter:False, output:/tmp/sepp/output.1rd6syqh/root/P_12/A_12_0/FC_12_0_1/hmmsearch.results._9_11r01\n",
      "[18:40:10] jobs.py (line 131):     INFO: Finished hmmsearch Job with input: model:/tmp/sepp/output.1rd6syqh/root/P_15/A_15_0/hmmbuild.model.d13nj6ic, fragments:/tmp/sepp/output.1rd6syqh/fragment_chunks/fragment_chunk_02cdl1gh0.fasta, elim:99999999, filter:False, output:/tmp/sepp/output.1rd6syqh/root/P_15/A_15_0/FC_15_0_0/hmmsearch.results.c5howvsl\n",
      "[18:40:10] jobs.py (line 131):     INFO: Finished hmmsearch Job with input: model:/tmp/sepp/output.1rd6syqh/root/P_13/A_13_0/hmmbuild.model.gmks2ur2, fragments:/tmp/sepp/output.1rd6syqh/fragment_chunks/fragment_chunk_02cdl1gh0.fasta, elim:99999999, filter:False, output:/tmp/sepp/output.1rd6syqh/root/P_13/A_13_0/FC_13_0_0/hmmsearch.results.l04hpn8x\n",
      "[18:40:10] jobs.py (line 131):     INFO: Finished hmmsearch Job with input: model:/tmp/sepp/output.1rd6syqh/root/P_12/A_12_0/hmmbuild.model.k2cgszjq, fragments:/tmp/sepp/output.1rd6syqh/fragment_chunks/fragment_chunk_2rgx1t8qp.fasta, elim:99999999, filter:False, output:/tmp/sepp/output.1rd6syqh/root/P_12/A_12_0/FC_12_0_2/hmmsearch.results.5irjlj3j\n",
      "[18:40:11] jobs.py (line 131):     INFO: Finished hmmsearch Job with input: model:/tmp/sepp/output.1rd6syqh/root/P_15/A_15_0/hmmbuild.model.d13nj6ic, fragments:/tmp/sepp/output.1rd6syqh/fragment_chunks/fragment_chunk_2rgx1t8qp.fasta, elim:99999999, filter:False, output:/tmp/sepp/output.1rd6syqh/root/P_15/A_15_0/FC_15_0_2/hmmsearch.results._8mk_ctc\n",
      "[18:40:13] jobs.py (line 131):     INFO: Finished hmmsearch Job with input: model:/tmp/sepp/output.1rd6syqh/root/P_13/A_13_0/hmmbuild.model.gmks2ur2, fragments:/tmp/sepp/output.1rd6syqh/fragment_chunks/fragment_chunk_2rgx1t8qp.fasta, elim:99999999, filter:False, output:/tmp/sepp/output.1rd6syqh/root/P_13/A_13_0/FC_13_0_2/hmmsearch.results._j9jfxn1\n",
      "[18:40:14] jobs.py (line 131):     INFO: Finished hmmsearch Job with input: model:/tmp/sepp/output.1rd6syqh/root/P_13/A_13_0/hmmbuild.model.gmks2ur2, fragments:/tmp/sepp/output.1rd6syqh/fragment_chunks/fragment_chunk_1n43j5_1m.fasta, elim:99999999, filter:False, output:/tmp/sepp/output.1rd6syqh/root/P_13/A_13_0/FC_13_0_1/hmmsearch.results.6xahrcba\n",
      "[18:40:15] jobs.py (line 131):     INFO: Finished hmmsearch Job with input: model:/tmp/sepp/output.1rd6syqh/root/P_14/A_14_0/hmmbuild.model.nrkexq6l, fragments:/tmp/sepp/output.1rd6syqh/fragment_chunks/fragment_chunk_2rgx1t8qp.fasta, elim:99999999, filter:False, output:/tmp/sepp/output.1rd6syqh/root/P_14/A_14_0/FC_14_0_2/hmmsearch.results.ae71e0np\n",
      "[18:40:15] jobs.py (line 131):     INFO: Finished hmmsearch Job with input: model:/tmp/sepp/output.1rd6syqh/root/P_14/A_14_0/hmmbuild.model.nrkexq6l, fragments:/tmp/sepp/output.1rd6syqh/fragment_chunks/fragment_chunk_02cdl1gh0.fasta, elim:99999999, filter:False, output:/tmp/sepp/output.1rd6syqh/root/P_14/A_14_0/FC_14_0_0/hmmsearch.results.kqszh37z\n",
      "[18:40:15] jobs.py (line 131):     INFO: Finished hmmsearch Job with input: model:/tmp/sepp/output.1rd6syqh/root/P_14/A_14_0/hmmbuild.model.nrkexq6l, fragments:/tmp/sepp/output.1rd6syqh/fragment_chunks/fragment_chunk_1n43j5_1m.fasta, elim:99999999, filter:False, output:/tmp/sepp/output.1rd6syqh/root/P_14/A_14_0/FC_14_0_1/hmmsearch.results.35rn9l30\n",
      "[18:40:15] exhaustive.py (line 80):  WARNING: Fragments [] are not scored against any subset\n",
      "[18:40:15] exhaustive.py (line 151):     INFO: Merging sub-alignments for placement problem : P_0.\n",
      "[18:40:15] jobs.py (line 131):     INFO: Finished hmmalign Job with input: model:/tmp/sepp/output.1rd6syqh/root/P_1/A_1_0/hmmbuild.model.8yuxvyu0, fragments:/tmp/sepp/output.1rd6syqh/root/P_1/A_1_0/FC_1_0_2/hmmalign.frag.l9ypos0c.fasta, trim:False, base_alignment:/tmp/sepp/output.1rd6syqh/root/P_1/A_1_0/hmmbuild.input.bwtxa_21.fasta\n",
      "[18:40:15] jobs.py (line 131):     INFO: Finished hmmalign Job with input: model:/tmp/sepp/output.1rd6syqh/root/P_5/A_5_0/hmmbuild.model.228vjcg4, fragments:/tmp/sepp/output.1rd6syqh/root/P_5/A_5_0/FC_5_0_2/hmmalign.frag.f_s989ap.fasta, trim:False, base_alignment:/tmp/sepp/output.1rd6syqh/root/P_5/A_5_0/hmmbuild.input.v5f__2mx.fasta\n",
      "[18:40:15] jobs.py (line 131):     INFO: Finished hmmalign Job with input: model:/tmp/sepp/output.1rd6syqh/root/P_1/A_1_0/hmmbuild.model.8yuxvyu0, fragments:/tmp/sepp/output.1rd6syqh/root/P_1/A_1_0/FC_1_0_1/hmmalign.frag.9x3a8he8.fasta, trim:False, base_alignment:/tmp/sepp/output.1rd6syqh/root/P_1/A_1_0/hmmbuild.input.bwtxa_21.fasta\n",
      "[18:40:15] jobs.py (line 131):     INFO: Finished hmmalign Job with input: model:/tmp/sepp/output.1rd6syqh/root/P_5/A_5_0/hmmbuild.model.228vjcg4, fragments:/tmp/sepp/output.1rd6syqh/root/P_5/A_5_0/FC_5_0_1/hmmalign.frag.pfu6k4xg.fasta, trim:False, base_alignment:/tmp/sepp/output.1rd6syqh/root/P_5/A_5_0/hmmbuild.input.v5f__2mx.fasta\n",
      "[18:40:15] jobs.py (line 131):     INFO: Finished hmmalign Job with input: model:/tmp/sepp/output.1rd6syqh/root/P_5/A_5_0/hmmbuild.model.228vjcg4, fragments:/tmp/sepp/output.1rd6syqh/root/P_5/A_5_0/FC_5_0_0/hmmalign.frag.mtefp08i.fasta, trim:False, base_alignment:/tmp/sepp/output.1rd6syqh/root/P_5/A_5_0/hmmbuild.input.v5f__2mx.fasta\n",
      "[18:40:15] exhaustive.py (line 151):     INFO: Merging sub-alignments for placement problem : P_2.\n",
      "[18:40:15] jobs.py (line 131):     INFO: Finished hmmalign Job with input: model:/tmp/sepp/output.1rd6syqh/root/P_1/A_1_0/hmmbuild.model.8yuxvyu0, fragments:/tmp/sepp/output.1rd6syqh/root/P_1/A_1_0/FC_1_0_0/hmmalign.frag.drs0nvnb.fasta, trim:False, base_alignment:/tmp/sepp/output.1rd6syqh/root/P_1/A_1_0/hmmbuild.input.bwtxa_21.fasta\n",
      "[18:40:15] jobs.py (line 131):     INFO: Finished hmmalign Job with input: model:/tmp/sepp/output.1rd6syqh/root/P_6/A_6_0/hmmbuild.model.85x_ojda, fragments:/tmp/sepp/output.1rd6syqh/root/P_6/A_6_0/FC_6_0_2/hmmalign.frag.n7iw633u.fasta, trim:False, base_alignment:/tmp/sepp/output.1rd6syqh/root/P_6/A_6_0/hmmbuild.input.f1o22gb_.fasta\n",
      "[18:40:16] jobs.py (line 131):     INFO: Finished hmmalign Job with input: model:/tmp/sepp/output.1rd6syqh/root/P_6/A_6_0/hmmbuild.model.85x_ojda, fragments:/tmp/sepp/output.1rd6syqh/root/P_6/A_6_0/FC_6_0_0/hmmalign.frag.gf47rmqn.fasta, trim:False, base_alignment:/tmp/sepp/output.1rd6syqh/root/P_6/A_6_0/hmmbuild.input.f1o22gb_.fasta\n",
      "[18:40:16] jobs.py (line 131):     INFO: Finished hmmalign Job with input: model:/tmp/sepp/output.1rd6syqh/root/P_6/A_6_0/hmmbuild.model.85x_ojda, fragments:/tmp/sepp/output.1rd6syqh/root/P_6/A_6_0/FC_6_0_1/hmmalign.frag.hlj_0ziw.fasta, trim:False, base_alignment:/tmp/sepp/output.1rd6syqh/root/P_6/A_6_0/hmmbuild.input.f1o22gb_.fasta\n",
      "[18:40:16] jobs.py (line 131):     INFO: Finished hmmalign Job with input: model:/tmp/sepp/output.1rd6syqh/root/P_8/A_8_0/hmmbuild.model.t5z3kim5, fragments:/tmp/sepp/output.1rd6syqh/root/P_8/A_8_0/FC_8_0_2/hmmalign.frag.w2iaqiwp.fasta, trim:False, base_alignment:/tmp/sepp/output.1rd6syqh/root/P_8/A_8_0/hmmbuild.input.wlg4jfn7.fasta\n",
      "[18:40:16] jobs.py (line 131):     INFO: Finished hmmalign Job with input: model:/tmp/sepp/output.1rd6syqh/root/P_8/A_8_0/hmmbuild.model.t5z3kim5, fragments:/tmp/sepp/output.1rd6syqh/root/P_8/A_8_0/FC_8_0_0/hmmalign.frag.x9eipg4_.fasta, trim:False, base_alignment:/tmp/sepp/output.1rd6syqh/root/P_8/A_8_0/hmmbuild.input.wlg4jfn7.fasta\n",
      "[18:40:16] exhaustive.py (line 151):     INFO: Merging sub-alignments for placement problem : P_3.\n",
      "[18:40:16] jobs.py (line 131):     INFO: Finished hmmalign Job with input: model:/tmp/sepp/output.1rd6syqh/root/P_8/A_8_0/hmmbuild.model.t5z3kim5, fragments:/tmp/sepp/output.1rd6syqh/root/P_8/A_8_0/FC_8_0_1/hmmalign.frag.f6t23l9c.fasta, trim:False, base_alignment:/tmp/sepp/output.1rd6syqh/root/P_8/A_8_0/hmmbuild.input.wlg4jfn7.fasta\n",
      "[18:40:16] jobs.py (line 131):     INFO: Finished hmmalign Job with input: model:/tmp/sepp/output.1rd6syqh/root/P_7/A_7_0/hmmbuild.model.pqm9e3l8, fragments:/tmp/sepp/output.1rd6syqh/root/P_7/A_7_0/FC_7_0_2/hmmalign.frag.qtdpzl33.fasta, trim:False, base_alignment:/tmp/sepp/output.1rd6syqh/root/P_7/A_7_0/hmmbuild.input.0c2betdd.fasta\n",
      "[18:40:16] jobs.py (line 131):     INFO: Finished hmmalign Job with input: model:/tmp/sepp/output.1rd6syqh/root/P_7/A_7_0/hmmbuild.model.pqm9e3l8, fragments:/tmp/sepp/output.1rd6syqh/root/P_7/A_7_0/FC_7_0_1/hmmalign.frag.18qf14wl.fasta, trim:False, base_alignment:/tmp/sepp/output.1rd6syqh/root/P_7/A_7_0/hmmbuild.input.0c2betdd.fasta\n",
      "[18:40:16] jobs.py (line 131):     INFO: Finished hmmalign Job with input: model:/tmp/sepp/output.1rd6syqh/root/P_7/A_7_0/hmmbuild.model.pqm9e3l8, fragments:/tmp/sepp/output.1rd6syqh/root/P_7/A_7_0/FC_7_0_0/hmmalign.frag.1_k6lo3c.fasta, trim:False, base_alignment:/tmp/sepp/output.1rd6syqh/root/P_7/A_7_0/hmmbuild.input.0c2betdd.fasta\n",
      "[18:40:16] jobs.py (line 131):     INFO: Finished hmmalign Job with input: model:/tmp/sepp/output.1rd6syqh/root/P_10/A_10_0/hmmbuild.model.s7ohfm0p, fragments:/tmp/sepp/output.1rd6syqh/root/P_10/A_10_0/FC_10_0_2/hmmalign.frag.nb4wumpq.fasta, trim:False, base_alignment:/tmp/sepp/output.1rd6syqh/root/P_10/A_10_0/hmmbuild.input.g5g7aqcx.fasta\n",
      "[18:40:16] jobs.py (line 131):     INFO: Finished hmmalign Job with input: model:/tmp/sepp/output.1rd6syqh/root/P_10/A_10_0/hmmbuild.model.s7ohfm0p, fragments:/tmp/sepp/output.1rd6syqh/root/P_10/A_10_0/FC_10_0_1/hmmalign.frag.f5m8zaz1.fasta, trim:False, base_alignment:/tmp/sepp/output.1rd6syqh/root/P_10/A_10_0/hmmbuild.input.g5g7aqcx.fasta\n",
      "[18:40:16] jobs.py (line 131):     INFO: Finished hmmalign Job with input: model:/tmp/sepp/output.1rd6syqh/root/P_10/A_10_0/hmmbuild.model.s7ohfm0p, fragments:/tmp/sepp/output.1rd6syqh/root/P_10/A_10_0/FC_10_0_0/hmmalign.frag.inao50ft.fasta, trim:False, base_alignment:/tmp/sepp/output.1rd6syqh/root/P_10/A_10_0/hmmbuild.input.g5g7aqcx.fasta\n",
      "[18:40:16] exhaustive.py (line 151):     INFO: Merging sub-alignments for placement problem : P_4.\n",
      "[18:40:16] exhaustive.py (line 151):     INFO: Merging sub-alignments for placement problem : P_5.\n",
      "[18:40:16] alignment.py (line 556):     INFO: Merging extension sto file (/tmp/sepp/output.1rd6syqh/root/P_5/A_5_0/FC_5_0_0/hmmalign.results.4_1o910z) into base alignment (/tmp/sepp/output.1rd6syqh/root/P_5/A_5_0/hmmbuild.input.v5f__2mx.fasta).\n",
      "[18:40:16] alignment.py (line 556):     INFO: Merging extension sto file (/tmp/sepp/output.1rd6syqh/root/P_5/A_5_0/FC_5_0_1/hmmalign.results.di9pesdm) into base alignment (/tmp/sepp/output.1rd6syqh/root/P_5/A_5_0/hmmbuild.input.v5f__2mx.fasta).\n",
      "[18:40:16] alignment.py (line 556):     INFO: Merging extension sto file (/tmp/sepp/output.1rd6syqh/root/P_5/A_5_0/FC_5_0_2/hmmalign.results.c9ryv00w) into base alignment (/tmp/sepp/output.1rd6syqh/root/P_5/A_5_0/hmmbuild.input.v5f__2mx.fasta).\n",
      "[18:40:16] exhaustive.py (line 151):     INFO: Merging sub-alignments for placement problem : P_1.\n",
      "[18:40:16] alignment.py (line 556):     INFO: Merging extension sto file (/tmp/sepp/output.1rd6syqh/root/P_1/A_1_0/FC_1_0_0/hmmalign.results.vf50ebn_) into base alignment (/tmp/sepp/output.1rd6syqh/root/P_1/A_1_0/hmmbuild.input.bwtxa_21.fasta).\n",
      "[18:40:16] alignment.py (line 556):     INFO: Merging extension sto file (/tmp/sepp/output.1rd6syqh/root/P_1/A_1_0/FC_1_0_1/hmmalign.results._w29ftmw) into base alignment (/tmp/sepp/output.1rd6syqh/root/P_1/A_1_0/hmmbuild.input.bwtxa_21.fasta).\n",
      "[18:40:16] alignment.py (line 556):     INFO: Merging extension sto file (/tmp/sepp/output.1rd6syqh/root/P_1/A_1_0/FC_1_0_2/hmmalign.results.i9ufrlrs) into base alignment (/tmp/sepp/output.1rd6syqh/root/P_1/A_1_0/hmmbuild.input.bwtxa_21.fasta).\n",
      "[18:40:16] jobs.py (line 131):     INFO: Finished hmmalign Job with input: model:/tmp/sepp/output.1rd6syqh/root/P_9/A_9_0/hmmbuild.model.8auq1z7l, fragments:/tmp/sepp/output.1rd6syqh/root/P_9/A_9_0/FC_9_0_1/hmmalign.frag.2vavtobr.fasta, trim:False, base_alignment:/tmp/sepp/output.1rd6syqh/root/P_9/A_9_0/hmmbuild.input.cu7dlc70.fasta\n",
      "[18:40:16] exhaustive.py (line 151):     INFO: Merging sub-alignments for placement problem : P_6.\n",
      "[18:40:16] jobs.py (line 131):     INFO: Finished hmmalign Job with input: model:/tmp/sepp/output.1rd6syqh/root/P_9/A_9_0/hmmbuild.model.8auq1z7l, fragments:/tmp/sepp/output.1rd6syqh/root/P_9/A_9_0/FC_9_0_2/hmmalign.frag.u69lurmq.fasta, trim:False, base_alignment:/tmp/sepp/output.1rd6syqh/root/P_9/A_9_0/hmmbuild.input.cu7dlc70.fasta\n",
      "[18:40:16] alignment.py (line 556):     INFO: Merging extension sto file (/tmp/sepp/output.1rd6syqh/root/P_6/A_6_0/FC_6_0_0/hmmalign.results.x9pi5ykj) into base alignment (/tmp/sepp/output.1rd6syqh/root/P_6/A_6_0/hmmbuild.input.f1o22gb_.fasta).\n",
      "[18:40:16] alignment.py (line 556):     INFO: Merging extension sto file (/tmp/sepp/output.1rd6syqh/root/P_6/A_6_0/FC_6_0_1/hmmalign.results.qf9q875v) into base alignment (/tmp/sepp/output.1rd6syqh/root/P_6/A_6_0/hmmbuild.input.f1o22gb_.fasta).\n",
      "[18:40:16] jobs.py (line 131):     INFO: Finished hmmalign Job with input: model:/tmp/sepp/output.1rd6syqh/root/P_9/A_9_0/hmmbuild.model.8auq1z7l, fragments:/tmp/sepp/output.1rd6syqh/root/P_9/A_9_0/FC_9_0_0/hmmalign.frag.a0leynaj.fasta, trim:False, base_alignment:/tmp/sepp/output.1rd6syqh/root/P_9/A_9_0/hmmbuild.input.cu7dlc70.fasta\n",
      "[18:40:16] alignment.py (line 556):     INFO: Merging extension sto file (/tmp/sepp/output.1rd6syqh/root/P_6/A_6_0/FC_6_0_2/hmmalign.results.kxuqvrwd) into base alignment (/tmp/sepp/output.1rd6syqh/root/P_6/A_6_0/hmmbuild.input.f1o22gb_.fasta).\n",
      "[18:40:16] exhaustive.py (line 151):     INFO: Merging sub-alignments for placement problem : P_8.\n",
      "[18:40:16] alignment.py (line 556):     INFO: Merging extension sto file (/tmp/sepp/output.1rd6syqh/root/P_8/A_8_0/FC_8_0_0/hmmalign.results.fpc2s0tx) into base alignment (/tmp/sepp/output.1rd6syqh/root/P_8/A_8_0/hmmbuild.input.wlg4jfn7.fasta).\n",
      "[18:40:16] alignment.py (line 556):     INFO: Merging extension sto file (/tmp/sepp/output.1rd6syqh/root/P_8/A_8_0/FC_8_0_1/hmmalign.results.b1s0yve7) into base alignment (/tmp/sepp/output.1rd6syqh/root/P_8/A_8_0/hmmbuild.input.wlg4jfn7.fasta).\n",
      "[18:40:16] alignment.py (line 556):     INFO: Merging extension sto file (/tmp/sepp/output.1rd6syqh/root/P_8/A_8_0/FC_8_0_2/hmmalign.results.pslfx2w6) into base alignment (/tmp/sepp/output.1rd6syqh/root/P_8/A_8_0/hmmbuild.input.wlg4jfn7.fasta).\n",
      "[18:40:16] exhaustive.py (line 151):     INFO: Merging sub-alignments for placement problem : P_7.\n",
      "[18:40:17] alignment.py (line 556):     INFO: Merging extension sto file (/tmp/sepp/output.1rd6syqh/root/P_7/A_7_0/FC_7_0_0/hmmalign.results.utskhrlt) into base alignment (/tmp/sepp/output.1rd6syqh/root/P_7/A_7_0/hmmbuild.input.0c2betdd.fasta).\n",
      "[18:40:17] alignment.py (line 556):     INFO: Merging extension sto file (/tmp/sepp/output.1rd6syqh/root/P_7/A_7_0/FC_7_0_1/hmmalign.results.72fu7hfi) into base alignment (/tmp/sepp/output.1rd6syqh/root/P_7/A_7_0/hmmbuild.input.0c2betdd.fasta).\n",
      "[18:40:17] alignment.py (line 556):     INFO: Merging extension sto file (/tmp/sepp/output.1rd6syqh/root/P_7/A_7_0/FC_7_0_2/hmmalign.results.nckp87bm) into base alignment (/tmp/sepp/output.1rd6syqh/root/P_7/A_7_0/hmmbuild.input.0c2betdd.fasta).\n",
      "[18:40:17] exhaustive.py (line 151):     INFO: Merging sub-alignments for placement problem : P_10.\n",
      "[18:40:17] alignment.py (line 556):     INFO: Merging extension sto file (/tmp/sepp/output.1rd6syqh/root/P_10/A_10_0/FC_10_0_0/hmmalign.results.o8ntp_q8) into base alignment (/tmp/sepp/output.1rd6syqh/root/P_10/A_10_0/hmmbuild.input.g5g7aqcx.fasta).\n",
      "[18:40:17] alignment.py (line 556):     INFO: Merging extension sto file (/tmp/sepp/output.1rd6syqh/root/P_10/A_10_0/FC_10_0_1/hmmalign.results.63nbvxm7) into base alignment (/tmp/sepp/output.1rd6syqh/root/P_10/A_10_0/hmmbuild.input.g5g7aqcx.fasta).\n",
      "[18:40:17] alignment.py (line 556):     INFO: Merging extension sto file (/tmp/sepp/output.1rd6syqh/root/P_10/A_10_0/FC_10_0_2/hmmalign.results.7vjzyj0m) into base alignment (/tmp/sepp/output.1rd6syqh/root/P_10/A_10_0/hmmbuild.input.g5g7aqcx.fasta).\n",
      "[18:40:17] exhaustive.py (line 151):     INFO: Merging sub-alignments for placement problem : P_9.\n",
      "[18:40:17] alignment.py (line 556):     INFO: Merging extension sto file (/tmp/sepp/output.1rd6syqh/root/P_9/A_9_0/FC_9_0_0/hmmalign.results.wgnmcbef) into base alignment (/tmp/sepp/output.1rd6syqh/root/P_9/A_9_0/hmmbuild.input.cu7dlc70.fasta).\n",
      "[18:40:17] alignment.py (line 556):     INFO: Merging extension sto file (/tmp/sepp/output.1rd6syqh/root/P_9/A_9_0/FC_9_0_1/hmmalign.results.4yyafprb) into base alignment (/tmp/sepp/output.1rd6syqh/root/P_9/A_9_0/hmmbuild.input.cu7dlc70.fasta).\n",
      "[18:40:17] alignment.py (line 556):     INFO: Merging extension sto file (/tmp/sepp/output.1rd6syqh/root/P_9/A_9_0/FC_9_0_2/hmmalign.results.16kh9048) into base alignment (/tmp/sepp/output.1rd6syqh/root/P_9/A_9_0/hmmbuild.input.cu7dlc70.fasta).\n",
      "[18:40:18] jobs.py (line 131):     INFO: Finished hmmalign Job with input: model:/tmp/sepp/output.1rd6syqh/root/P_12/A_12_0/hmmbuild.model.k2cgszjq, fragments:/tmp/sepp/output.1rd6syqh/root/P_12/A_12_0/FC_12_0_0/hmmalign.frag.2nqmovp5.fasta, trim:False, base_alignment:/tmp/sepp/output.1rd6syqh/root/P_12/A_12_0/hmmbuild.input._3g4x4na.fasta\n",
      "[18:40:18] jobs.py (line 131):     INFO: Finished hmmalign Job with input: model:/tmp/sepp/output.1rd6syqh/root/P_12/A_12_0/hmmbuild.model.k2cgszjq, fragments:/tmp/sepp/output.1rd6syqh/root/P_12/A_12_0/FC_12_0_1/hmmalign.frag.099ux3m8.fasta, trim:False, base_alignment:/tmp/sepp/output.1rd6syqh/root/P_12/A_12_0/hmmbuild.input._3g4x4na.fasta\n",
      "[18:40:18] jobs.py (line 131):     INFO: Finished hmmalign Job with input: model:/tmp/sepp/output.1rd6syqh/root/P_12/A_12_0/hmmbuild.model.k2cgszjq, fragments:/tmp/sepp/output.1rd6syqh/root/P_12/A_12_0/FC_12_0_2/hmmalign.frag.46obbs7q.fasta, trim:False, base_alignment:/tmp/sepp/output.1rd6syqh/root/P_12/A_12_0/hmmbuild.input._3g4x4na.fasta\n",
      "[18:40:18] exhaustive.py (line 151):     INFO: Merging sub-alignments for placement problem : P_12.\n",
      "[18:40:18] alignment.py (line 556):     INFO: Merging extension sto file (/tmp/sepp/output.1rd6syqh/root/P_12/A_12_0/FC_12_0_0/hmmalign.results.ha5xi5mk) into base alignment (/tmp/sepp/output.1rd6syqh/root/P_12/A_12_0/hmmbuild.input._3g4x4na.fasta).\n",
      "[18:40:18] jobs.py (line 131):     INFO: Finished hmmalign Job with input: model:/tmp/sepp/output.1rd6syqh/root/P_13/A_13_0/hmmbuild.model.gmks2ur2, fragments:/tmp/sepp/output.1rd6syqh/root/P_13/A_13_0/FC_13_0_0/hmmalign.frag.ms8_2307.fasta, trim:False, base_alignment:/tmp/sepp/output.1rd6syqh/root/P_13/A_13_0/hmmbuild.input.s17_xzev.fasta\n",
      "[18:40:18] alignment.py (line 556):     INFO: Merging extension sto file (/tmp/sepp/output.1rd6syqh/root/P_12/A_12_0/FC_12_0_1/hmmalign.results.i6jnq7m5) into base alignment (/tmp/sepp/output.1rd6syqh/root/P_12/A_12_0/hmmbuild.input._3g4x4na.fasta).\n",
      "[18:40:18] jobs.py (line 131):     INFO: Finished hmmalign Job with input: model:/tmp/sepp/output.1rd6syqh/root/P_13/A_13_0/hmmbuild.model.gmks2ur2, fragments:/tmp/sepp/output.1rd6syqh/root/P_13/A_13_0/FC_13_0_1/hmmalign.frag.svbu5ffq.fasta, trim:False, base_alignment:/tmp/sepp/output.1rd6syqh/root/P_13/A_13_0/hmmbuild.input.s17_xzev.fasta\n",
      "[18:40:18] alignment.py (line 556):     INFO: Merging extension sto file (/tmp/sepp/output.1rd6syqh/root/P_12/A_12_0/FC_12_0_2/hmmalign.results._o6ae9g2) into base alignment (/tmp/sepp/output.1rd6syqh/root/P_12/A_12_0/hmmbuild.input._3g4x4na.fasta).\n",
      "[18:40:18] jobs.py (line 131):     INFO: Finished hmmalign Job with input: model:/tmp/sepp/output.1rd6syqh/root/P_13/A_13_0/hmmbuild.model.gmks2ur2, fragments:/tmp/sepp/output.1rd6syqh/root/P_13/A_13_0/FC_13_0_2/hmmalign.frag.i3bwcaqd.fasta, trim:False, base_alignment:/tmp/sepp/output.1rd6syqh/root/P_13/A_13_0/hmmbuild.input.s17_xzev.fasta\n",
      "[18:40:18] exhaustive.py (line 151):     INFO: Merging sub-alignments for placement problem : P_13.\n",
      "[18:40:18] alignment.py (line 556):     INFO: Merging extension sto file (/tmp/sepp/output.1rd6syqh/root/P_13/A_13_0/FC_13_0_0/hmmalign.results.1r01v5a6) into base alignment (/tmp/sepp/output.1rd6syqh/root/P_13/A_13_0/hmmbuild.input.s17_xzev.fasta).\n",
      "[18:40:18] alignment.py (line 556):     INFO: Merging extension sto file (/tmp/sepp/output.1rd6syqh/root/P_13/A_13_0/FC_13_0_1/hmmalign.results.f5ppxsj5) into base alignment (/tmp/sepp/output.1rd6syqh/root/P_13/A_13_0/hmmbuild.input.s17_xzev.fasta).\n",
      "[18:40:18] alignment.py (line 556):     INFO: Merging extension sto file (/tmp/sepp/output.1rd6syqh/root/P_13/A_13_0/FC_13_0_2/hmmalign.results.tkelv6ne) into base alignment (/tmp/sepp/output.1rd6syqh/root/P_13/A_13_0/hmmbuild.input.s17_xzev.fasta).\n",
      "[18:40:18] jobs.py (line 131):     INFO: Finished hmmalign Job with input: model:/tmp/sepp/output.1rd6syqh/root/P_14/A_14_0/hmmbuild.model.nrkexq6l, fragments:/tmp/sepp/output.1rd6syqh/root/P_14/A_14_0/FC_14_0_0/hmmalign.frag.og2l0h1_.fasta, trim:False, base_alignment:/tmp/sepp/output.1rd6syqh/root/P_14/A_14_0/hmmbuild.input.0e5tdwn7.fasta\n",
      "[18:40:19] exhaustive.py (line 151):     INFO: Merging sub-alignments for placement problem : P_15.\n",
      "[18:40:19] jobs.py (line 131):     INFO: Finished hmmalign Job with input: model:/tmp/sepp/output.1rd6syqh/root/P_14/A_14_0/hmmbuild.model.nrkexq6l, fragments:/tmp/sepp/output.1rd6syqh/root/P_14/A_14_0/FC_14_0_1/hmmalign.frag.hnnuerus.fasta, trim:False, base_alignment:/tmp/sepp/output.1rd6syqh/root/P_14/A_14_0/hmmbuild.input.0e5tdwn7.fasta\n",
      "[18:40:19] jobs.py (line 131):     INFO: Finished hmmalign Job with input: model:/tmp/sepp/output.1rd6syqh/root/P_14/A_14_0/hmmbuild.model.nrkexq6l, fragments:/tmp/sepp/output.1rd6syqh/root/P_14/A_14_0/FC_14_0_2/hmmalign.frag.357dwp1e.fasta, trim:False, base_alignment:/tmp/sepp/output.1rd6syqh/root/P_14/A_14_0/hmmbuild.input.0e5tdwn7.fasta\n",
      "[18:40:19] exhaustive.py (line 151):     INFO: Merging sub-alignments for placement problem : P_14.\n",
      "[18:40:19] alignment.py (line 556):     INFO: Merging extension sto file (/tmp/sepp/output.1rd6syqh/root/P_14/A_14_0/FC_14_0_0/hmmalign.results.lnwezmw_) into base alignment (/tmp/sepp/output.1rd6syqh/root/P_14/A_14_0/hmmbuild.input.0e5tdwn7.fasta).\n",
      "[18:40:19] alignment.py (line 556):     INFO: Merging extension sto file (/tmp/sepp/output.1rd6syqh/root/P_14/A_14_0/FC_14_0_1/hmmalign.results.2r4e3wej) into base alignment (/tmp/sepp/output.1rd6syqh/root/P_14/A_14_0/hmmbuild.input.0e5tdwn7.fasta).\n",
      "[18:40:19] alignment.py (line 556):     INFO: Merging extension sto file (/tmp/sepp/output.1rd6syqh/root/P_14/A_14_0/FC_14_0_2/hmmalign.results.ffohj_55) into base alignment (/tmp/sepp/output.1rd6syqh/root/P_14/A_14_0/hmmbuild.input.0e5tdwn7.fasta).\n",
      "[18:40:22] jobs.py (line 131):     INFO: Finished pplacer Job with input: backbone_alignment_file:/tmp/sepp/output.1rd6syqh/root/P_5/pplacer.backbone.op6ods2_.fasta, tree_file:/tmp/sepp/output.1rd6syqh/root/P_5/pplacer.tree.zlv05qni.tre, info_file:/home/lauro/anaconda3/envs/qiime2-2021.11/lib/python3.8/site-packages/picrust2/default_files/prokaryotic/pro_ref/pro_ref.raxml_info, extended alignment:/tmp/sepp/output.1rd6syqh/root/P_5/pplacer.extended.2.xzn1f7xu.fasta, output:/tmp/sepp/output.1rd6syqh/root/P_5/pplacer.extended.2.xzn1f7xu.jplace\n",
      "[18:40:24] jobs.py (line 131):     INFO: Finished pplacer Job with input: backbone_alignment_file:/tmp/sepp/output.1rd6syqh/root/P_5/pplacer.backbone.j8_9ffgj.fasta, tree_file:/tmp/sepp/output.1rd6syqh/root/P_5/pplacer.tree.bblkca_a.tre, info_file:/home/lauro/anaconda3/envs/qiime2-2021.11/lib/python3.8/site-packages/picrust2/default_files/prokaryotic/pro_ref/pro_ref.raxml_info, extended alignment:/tmp/sepp/output.1rd6syqh/root/P_5/pplacer.extended.1.qqxshsv7.fasta, output:/tmp/sepp/output.1rd6syqh/root/P_5/pplacer.extended.1.qqxshsv7.jplace\n",
      "[18:40:25] jobs.py (line 131):     INFO: Finished hmmalign Job with input: model:/tmp/sepp/output.1rd6syqh/root/P_11/A_11_0/hmmbuild.model.ersk13wh, fragments:/tmp/sepp/output.1rd6syqh/root/P_11/A_11_0/FC_11_0_2/hmmalign.frag.nbx4bzy5.fasta, trim:False, base_alignment:/tmp/sepp/output.1rd6syqh/root/P_11/A_11_0/hmmbuild.input.np4vlcmk.fasta\n",
      "[18:40:25] jobs.py (line 131):     INFO: Finished pplacer Job with input: backbone_alignment_file:/tmp/sepp/output.1rd6syqh/root/P_5/pplacer.backbone.a_oodl4e.fasta, tree_file:/tmp/sepp/output.1rd6syqh/root/P_5/pplacer.tree.zzm_hyfb.tre, info_file:/home/lauro/anaconda3/envs/qiime2-2021.11/lib/python3.8/site-packages/picrust2/default_files/prokaryotic/pro_ref/pro_ref.raxml_info, extended alignment:/tmp/sepp/output.1rd6syqh/root/P_5/pplacer.extended.0.b2abrpu1.fasta, output:/tmp/sepp/output.1rd6syqh/root/P_5/pplacer.extended.0.b2abrpu1.jplace\n",
      "[18:40:25] jobs.py (line 131):     INFO: Finished hmmalign Job with input: model:/tmp/sepp/output.1rd6syqh/root/P_11/A_11_0/hmmbuild.model.ersk13wh, fragments:/tmp/sepp/output.1rd6syqh/root/P_11/A_11_0/FC_11_0_1/hmmalign.frag.4hhx1107.fasta, trim:False, base_alignment:/tmp/sepp/output.1rd6syqh/root/P_11/A_11_0/hmmbuild.input.np4vlcmk.fasta\n",
      "[18:40:25] jobs.py (line 131):     INFO: Finished hmmalign Job with input: model:/tmp/sepp/output.1rd6syqh/root/P_11/A_11_0/hmmbuild.model.ersk13wh, fragments:/tmp/sepp/output.1rd6syqh/root/P_11/A_11_0/FC_11_0_0/hmmalign.frag.lerdwpb0.fasta, trim:False, base_alignment:/tmp/sepp/output.1rd6syqh/root/P_11/A_11_0/hmmbuild.input.np4vlcmk.fasta\n",
      "[18:40:25] exhaustive.py (line 151):     INFO: Merging sub-alignments for placement problem : P_11.\n",
      "[18:40:25] alignment.py (line 556):     INFO: Merging extension sto file (/tmp/sepp/output.1rd6syqh/root/P_11/A_11_0/FC_11_0_0/hmmalign.results.e_w8wqmk) into base alignment (/tmp/sepp/output.1rd6syqh/root/P_11/A_11_0/hmmbuild.input.np4vlcmk.fasta).\n",
      "[18:40:25] alignment.py (line 556):     INFO: Merging extension sto file (/tmp/sepp/output.1rd6syqh/root/P_11/A_11_0/FC_11_0_1/hmmalign.results.nt60gs5d) into base alignment (/tmp/sepp/output.1rd6syqh/root/P_11/A_11_0/hmmbuild.input.np4vlcmk.fasta).\n",
      "[18:40:25] alignment.py (line 556):     INFO: Merging extension sto file (/tmp/sepp/output.1rd6syqh/root/P_11/A_11_0/FC_11_0_2/hmmalign.results.hcettw84) into base alignment (/tmp/sepp/output.1rd6syqh/root/P_11/A_11_0/hmmbuild.input.np4vlcmk.fasta).\n",
      "[18:40:26] jobs.py (line 131):     INFO: Finished pplacer Job with input: backbone_alignment_file:/tmp/sepp/output.1rd6syqh/root/P_1/pplacer.backbone.4wgaeozy.fasta, tree_file:/tmp/sepp/output.1rd6syqh/root/P_1/pplacer.tree.kacs4xbc.tre, info_file:/home/lauro/anaconda3/envs/qiime2-2021.11/lib/python3.8/site-packages/picrust2/default_files/prokaryotic/pro_ref/pro_ref.raxml_info, extended alignment:/tmp/sepp/output.1rd6syqh/root/P_1/pplacer.extended.0.wbdef_4w.fasta, output:/tmp/sepp/output.1rd6syqh/root/P_1/pplacer.extended.0.wbdef_4w.jplace\n",
      "[18:40:29] jobs.py (line 131):     INFO: Finished pplacer Job with input: backbone_alignment_file:/tmp/sepp/output.1rd6syqh/root/P_6/pplacer.backbone.leayqwp2.fasta, tree_file:/tmp/sepp/output.1rd6syqh/root/P_6/pplacer.tree.8ru0mbhn.tre, info_file:/home/lauro/anaconda3/envs/qiime2-2021.11/lib/python3.8/site-packages/picrust2/default_files/prokaryotic/pro_ref/pro_ref.raxml_info, extended alignment:/tmp/sepp/output.1rd6syqh/root/P_6/pplacer.extended.0.fggb2aw4.fasta, output:/tmp/sepp/output.1rd6syqh/root/P_6/pplacer.extended.0.fggb2aw4.jplace\n",
      "[18:40:29] jobs.py (line 131):     INFO: Finished pplacer Job with input: backbone_alignment_file:/tmp/sepp/output.1rd6syqh/root/P_1/pplacer.backbone.soh1nmfk.fasta, tree_file:/tmp/sepp/output.1rd6syqh/root/P_1/pplacer.tree.9jqmbvpq.tre, info_file:/home/lauro/anaconda3/envs/qiime2-2021.11/lib/python3.8/site-packages/picrust2/default_files/prokaryotic/pro_ref/pro_ref.raxml_info, extended alignment:/tmp/sepp/output.1rd6syqh/root/P_1/pplacer.extended.1.03ai79nr.fasta, output:/tmp/sepp/output.1rd6syqh/root/P_1/pplacer.extended.1.03ai79nr.jplace\n",
      "[18:40:30] jobs.py (line 131):     INFO: Finished pplacer Job with input: backbone_alignment_file:/tmp/sepp/output.1rd6syqh/root/P_1/pplacer.backbone.1388fskf.fasta, tree_file:/tmp/sepp/output.1rd6syqh/root/P_1/pplacer.tree.x8pocqcx.tre, info_file:/home/lauro/anaconda3/envs/qiime2-2021.11/lib/python3.8/site-packages/picrust2/default_files/prokaryotic/pro_ref/pro_ref.raxml_info, extended alignment:/tmp/sepp/output.1rd6syqh/root/P_1/pplacer.extended.2.j7p4xqrf.fasta, output:/tmp/sepp/output.1rd6syqh/root/P_1/pplacer.extended.2.j7p4xqrf.jplace\n",
      "[18:40:30] jobs.py (line 131):     INFO: Finished pplacer Job with input: backbone_alignment_file:/tmp/sepp/output.1rd6syqh/root/P_6/pplacer.backbone.02rop7jn.fasta, tree_file:/tmp/sepp/output.1rd6syqh/root/P_6/pplacer.tree.oo62p8jr.tre, info_file:/home/lauro/anaconda3/envs/qiime2-2021.11/lib/python3.8/site-packages/picrust2/default_files/prokaryotic/pro_ref/pro_ref.raxml_info, extended alignment:/tmp/sepp/output.1rd6syqh/root/P_6/pplacer.extended.1.ak9we6kk.fasta, output:/tmp/sepp/output.1rd6syqh/root/P_6/pplacer.extended.1.ak9we6kk.jplace\n",
      "[18:40:31] jobs.py (line 131):     INFO: Finished pplacer Job with input: backbone_alignment_file:/tmp/sepp/output.1rd6syqh/root/P_8/pplacer.backbone._yqd0f2q.fasta, tree_file:/tmp/sepp/output.1rd6syqh/root/P_8/pplacer.tree.sc8cow10.tre, info_file:/home/lauro/anaconda3/envs/qiime2-2021.11/lib/python3.8/site-packages/picrust2/default_files/prokaryotic/pro_ref/pro_ref.raxml_info, extended alignment:/tmp/sepp/output.1rd6syqh/root/P_8/pplacer.extended.0.2rz_5j1z.fasta, output:/tmp/sepp/output.1rd6syqh/root/P_8/pplacer.extended.0.2rz_5j1z.jplace\n",
      "[18:40:32] jobs.py (line 131):     INFO: Finished pplacer Job with input: backbone_alignment_file:/tmp/sepp/output.1rd6syqh/root/P_8/pplacer.backbone.l1nqdo7h.fasta, tree_file:/tmp/sepp/output.1rd6syqh/root/P_8/pplacer.tree.vbnmlmhm.tre, info_file:/home/lauro/anaconda3/envs/qiime2-2021.11/lib/python3.8/site-packages/picrust2/default_files/prokaryotic/pro_ref/pro_ref.raxml_info, extended alignment:/tmp/sepp/output.1rd6syqh/root/P_8/pplacer.extended.2.govi4_ss.fasta, output:/tmp/sepp/output.1rd6syqh/root/P_8/pplacer.extended.2.govi4_ss.jplace\n",
      "[18:40:32] jobs.py (line 131):     INFO: Finished pplacer Job with input: backbone_alignment_file:/tmp/sepp/output.1rd6syqh/root/P_6/pplacer.backbone.5vjm1axp.fasta, tree_file:/tmp/sepp/output.1rd6syqh/root/P_6/pplacer.tree.mw1ycr_e.tre, info_file:/home/lauro/anaconda3/envs/qiime2-2021.11/lib/python3.8/site-packages/picrust2/default_files/prokaryotic/pro_ref/pro_ref.raxml_info, extended alignment:/tmp/sepp/output.1rd6syqh/root/P_6/pplacer.extended.2.7shpf1_t.fasta, output:/tmp/sepp/output.1rd6syqh/root/P_6/pplacer.extended.2.7shpf1_t.jplace\n",
      "[18:40:32] jobs.py (line 131):     INFO: Finished pplacer Job with input: backbone_alignment_file:/tmp/sepp/output.1rd6syqh/root/P_8/pplacer.backbone.n6bvqq0y.fasta, tree_file:/tmp/sepp/output.1rd6syqh/root/P_8/pplacer.tree.erj67da9.tre, info_file:/home/lauro/anaconda3/envs/qiime2-2021.11/lib/python3.8/site-packages/picrust2/default_files/prokaryotic/pro_ref/pro_ref.raxml_info, extended alignment:/tmp/sepp/output.1rd6syqh/root/P_8/pplacer.extended.1._40kjfia.fasta, output:/tmp/sepp/output.1rd6syqh/root/P_8/pplacer.extended.1._40kjfia.jplace\n",
      "[18:40:35] jobs.py (line 131):     INFO: Finished pplacer Job with input: backbone_alignment_file:/tmp/sepp/output.1rd6syqh/root/P_10/pplacer.backbone.ob5e2stx.fasta, tree_file:/tmp/sepp/output.1rd6syqh/root/P_10/pplacer.tree.z1vxtfuw.tre, info_file:/home/lauro/anaconda3/envs/qiime2-2021.11/lib/python3.8/site-packages/picrust2/default_files/prokaryotic/pro_ref/pro_ref.raxml_info, extended alignment:/tmp/sepp/output.1rd6syqh/root/P_10/pplacer.extended.2.2moo9fwr.fasta, output:/tmp/sepp/output.1rd6syqh/root/P_10/pplacer.extended.2.2moo9fwr.jplace\n",
      "[18:40:36] jobs.py (line 131):     INFO: Finished pplacer Job with input: backbone_alignment_file:/tmp/sepp/output.1rd6syqh/root/P_7/pplacer.backbone.zmmfq5r2.fasta, tree_file:/tmp/sepp/output.1rd6syqh/root/P_7/pplacer.tree.w1doe30b.tre, info_file:/home/lauro/anaconda3/envs/qiime2-2021.11/lib/python3.8/site-packages/picrust2/default_files/prokaryotic/pro_ref/pro_ref.raxml_info, extended alignment:/tmp/sepp/output.1rd6syqh/root/P_7/pplacer.extended.1.0sh_tn9_.fasta, output:/tmp/sepp/output.1rd6syqh/root/P_7/pplacer.extended.1.0sh_tn9_.jplace\n",
      "[18:40:36] jobs.py (line 131):     INFO: Finished pplacer Job with input: backbone_alignment_file:/tmp/sepp/output.1rd6syqh/root/P_7/pplacer.backbone.z9i5uwos.fasta, tree_file:/tmp/sepp/output.1rd6syqh/root/P_7/pplacer.tree.5et2h4z1.tre, info_file:/home/lauro/anaconda3/envs/qiime2-2021.11/lib/python3.8/site-packages/picrust2/default_files/prokaryotic/pro_ref/pro_ref.raxml_info, extended alignment:/tmp/sepp/output.1rd6syqh/root/P_7/pplacer.extended.0.82nawhqq.fasta, output:/tmp/sepp/output.1rd6syqh/root/P_7/pplacer.extended.0.82nawhqq.jplace\n",
      "[18:40:37] jobs.py (line 131):     INFO: Finished pplacer Job with input: backbone_alignment_file:/tmp/sepp/output.1rd6syqh/root/P_10/pplacer.backbone.ej1z4msg.fasta, tree_file:/tmp/sepp/output.1rd6syqh/root/P_10/pplacer.tree.7k9_5f9q.tre, info_file:/home/lauro/anaconda3/envs/qiime2-2021.11/lib/python3.8/site-packages/picrust2/default_files/prokaryotic/pro_ref/pro_ref.raxml_info, extended alignment:/tmp/sepp/output.1rd6syqh/root/P_10/pplacer.extended.1.g77rsidy.fasta, output:/tmp/sepp/output.1rd6syqh/root/P_10/pplacer.extended.1.g77rsidy.jplace\n",
      "[18:40:37] jobs.py (line 131):     INFO: Finished pplacer Job with input: backbone_alignment_file:/tmp/sepp/output.1rd6syqh/root/P_7/pplacer.backbone.p57mhxll.fasta, tree_file:/tmp/sepp/output.1rd6syqh/root/P_7/pplacer.tree.0i5u4_mc.tre, info_file:/home/lauro/anaconda3/envs/qiime2-2021.11/lib/python3.8/site-packages/picrust2/default_files/prokaryotic/pro_ref/pro_ref.raxml_info, extended alignment:/tmp/sepp/output.1rd6syqh/root/P_7/pplacer.extended.2.ebxoruhk.fasta, output:/tmp/sepp/output.1rd6syqh/root/P_7/pplacer.extended.2.ebxoruhk.jplace\n",
      "[18:40:39] jobs.py (line 131):     INFO: Finished pplacer Job with input: backbone_alignment_file:/tmp/sepp/output.1rd6syqh/root/P_10/pplacer.backbone.ub7jhxte.fasta, tree_file:/tmp/sepp/output.1rd6syqh/root/P_10/pplacer.tree.77k6j0vz.tre, info_file:/home/lauro/anaconda3/envs/qiime2-2021.11/lib/python3.8/site-packages/picrust2/default_files/prokaryotic/pro_ref/pro_ref.raxml_info, extended alignment:/tmp/sepp/output.1rd6syqh/root/P_10/pplacer.extended.0.gm38mp_5.fasta, output:/tmp/sepp/output.1rd6syqh/root/P_10/pplacer.extended.0.gm38mp_5.jplace\n",
      "[18:40:43] jobs.py (line 131):     INFO: Finished pplacer Job with input: backbone_alignment_file:/tmp/sepp/output.1rd6syqh/root/P_9/pplacer.backbone.14b60cq6.fasta, tree_file:/tmp/sepp/output.1rd6syqh/root/P_9/pplacer.tree.vmsybbay.tre, info_file:/home/lauro/anaconda3/envs/qiime2-2021.11/lib/python3.8/site-packages/picrust2/default_files/prokaryotic/pro_ref/pro_ref.raxml_info, extended alignment:/tmp/sepp/output.1rd6syqh/root/P_9/pplacer.extended.2.73881_4q.fasta, output:/tmp/sepp/output.1rd6syqh/root/P_9/pplacer.extended.2.73881_4q.jplace\n",
      "[18:40:43] jobs.py (line 131):     INFO: Finished pplacer Job with input: backbone_alignment_file:/tmp/sepp/output.1rd6syqh/root/P_9/pplacer.backbone.tm08v4dd.fasta, tree_file:/tmp/sepp/output.1rd6syqh/root/P_9/pplacer.tree.qf77iiim.tre, info_file:/home/lauro/anaconda3/envs/qiime2-2021.11/lib/python3.8/site-packages/picrust2/default_files/prokaryotic/pro_ref/pro_ref.raxml_info, extended alignment:/tmp/sepp/output.1rd6syqh/root/P_9/pplacer.extended.0.i60mbxd5.fasta, output:/tmp/sepp/output.1rd6syqh/root/P_9/pplacer.extended.0.i60mbxd5.jplace\n",
      "[18:40:44] jobs.py (line 131):     INFO: Finished pplacer Job with input: backbone_alignment_file:/tmp/sepp/output.1rd6syqh/root/P_9/pplacer.backbone.xmkz6bfa.fasta, tree_file:/tmp/sepp/output.1rd6syqh/root/P_9/pplacer.tree.ns5v8tqo.tre, info_file:/home/lauro/anaconda3/envs/qiime2-2021.11/lib/python3.8/site-packages/picrust2/default_files/prokaryotic/pro_ref/pro_ref.raxml_info, extended alignment:/tmp/sepp/output.1rd6syqh/root/P_9/pplacer.extended.1.njcp3o3n.fasta, output:/tmp/sepp/output.1rd6syqh/root/P_9/pplacer.extended.1.njcp3o3n.jplace\n",
      "[18:40:45] jobs.py (line 131):     INFO: Finished pplacer Job with input: backbone_alignment_file:/tmp/sepp/output.1rd6syqh/root/P_12/pplacer.backbone.s8r9jysp.fasta, tree_file:/tmp/sepp/output.1rd6syqh/root/P_12/pplacer.tree.7wsfayp8.tre, info_file:/home/lauro/anaconda3/envs/qiime2-2021.11/lib/python3.8/site-packages/picrust2/default_files/prokaryotic/pro_ref/pro_ref.raxml_info, extended alignment:/tmp/sepp/output.1rd6syqh/root/P_12/pplacer.extended.1.c7mm6t77.fasta, output:/tmp/sepp/output.1rd6syqh/root/P_12/pplacer.extended.1.c7mm6t77.jplace\n",
      "[18:40:48] jobs.py (line 131):     INFO: Finished pplacer Job with input: backbone_alignment_file:/tmp/sepp/output.1rd6syqh/root/P_13/pplacer.backbone.fxhcsz6e.fasta, tree_file:/tmp/sepp/output.1rd6syqh/root/P_13/pplacer.tree.ck1xjviy.tre, info_file:/home/lauro/anaconda3/envs/qiime2-2021.11/lib/python3.8/site-packages/picrust2/default_files/prokaryotic/pro_ref/pro_ref.raxml_info, extended alignment:/tmp/sepp/output.1rd6syqh/root/P_13/pplacer.extended.2.3cljyp62.fasta, output:/tmp/sepp/output.1rd6syqh/root/P_13/pplacer.extended.2.3cljyp62.jplace\n",
      "[18:40:49] jobs.py (line 131):     INFO: Finished pplacer Job with input: backbone_alignment_file:/tmp/sepp/output.1rd6syqh/root/P_13/pplacer.backbone.h5glbofd.fasta, tree_file:/tmp/sepp/output.1rd6syqh/root/P_13/pplacer.tree.c0syx07x.tre, info_file:/home/lauro/anaconda3/envs/qiime2-2021.11/lib/python3.8/site-packages/picrust2/default_files/prokaryotic/pro_ref/pro_ref.raxml_info, extended alignment:/tmp/sepp/output.1rd6syqh/root/P_13/pplacer.extended.1.srvfhzq2.fasta, output:/tmp/sepp/output.1rd6syqh/root/P_13/pplacer.extended.1.srvfhzq2.jplace\n",
      "[18:40:49] jobs.py (line 131):     INFO: Finished pplacer Job with input: backbone_alignment_file:/tmp/sepp/output.1rd6syqh/root/P_14/pplacer.backbone.ah2f9vh8.fasta, tree_file:/tmp/sepp/output.1rd6syqh/root/P_14/pplacer.tree.l6zws3ls.tre, info_file:/home/lauro/anaconda3/envs/qiime2-2021.11/lib/python3.8/site-packages/picrust2/default_files/prokaryotic/pro_ref/pro_ref.raxml_info, extended alignment:/tmp/sepp/output.1rd6syqh/root/P_14/pplacer.extended.0.684jliki.fasta, output:/tmp/sepp/output.1rd6syqh/root/P_14/pplacer.extended.0.684jliki.jplace\n",
      "[18:40:49] jobs.py (line 131):     INFO: Finished pplacer Job with input: backbone_alignment_file:/tmp/sepp/output.1rd6syqh/root/P_12/pplacer.backbone.cvd9764q.fasta, tree_file:/tmp/sepp/output.1rd6syqh/root/P_12/pplacer.tree.7btvsbaf.tre, info_file:/home/lauro/anaconda3/envs/qiime2-2021.11/lib/python3.8/site-packages/picrust2/default_files/prokaryotic/pro_ref/pro_ref.raxml_info, extended alignment:/tmp/sepp/output.1rd6syqh/root/P_12/pplacer.extended.2.awjfjjhf.fasta, output:/tmp/sepp/output.1rd6syqh/root/P_12/pplacer.extended.2.awjfjjhf.jplace\n",
      "[18:40:49] jobs.py (line 131):     INFO: Finished pplacer Job with input: backbone_alignment_file:/tmp/sepp/output.1rd6syqh/root/P_13/pplacer.backbone.4sfsvoyo.fasta, tree_file:/tmp/sepp/output.1rd6syqh/root/P_13/pplacer.tree.od1gkuxq.tre, info_file:/home/lauro/anaconda3/envs/qiime2-2021.11/lib/python3.8/site-packages/picrust2/default_files/prokaryotic/pro_ref/pro_ref.raxml_info, extended alignment:/tmp/sepp/output.1rd6syqh/root/P_13/pplacer.extended.0.zqt2ilgp.fasta, output:/tmp/sepp/output.1rd6syqh/root/P_13/pplacer.extended.0.zqt2ilgp.jplace\n",
      "[18:40:54] jobs.py (line 131):     INFO: Finished pplacer Job with input: backbone_alignment_file:/tmp/sepp/output.1rd6syqh/root/P_12/pplacer.backbone.hbtvt08i.fasta, tree_file:/tmp/sepp/output.1rd6syqh/root/P_12/pplacer.tree.__jxjvv6.tre, info_file:/home/lauro/anaconda3/envs/qiime2-2021.11/lib/python3.8/site-packages/picrust2/default_files/prokaryotic/pro_ref/pro_ref.raxml_info, extended alignment:/tmp/sepp/output.1rd6syqh/root/P_12/pplacer.extended.0.y9ebeke8.fasta, output:/tmp/sepp/output.1rd6syqh/root/P_12/pplacer.extended.0.y9ebeke8.jplace\n",
      "[18:40:54] jobs.py (line 131):     INFO: Finished pplacer Job with input: backbone_alignment_file:/tmp/sepp/output.1rd6syqh/root/P_14/pplacer.backbone.blowyviv.fasta, tree_file:/tmp/sepp/output.1rd6syqh/root/P_14/pplacer.tree.i7jpeujx.tre, info_file:/home/lauro/anaconda3/envs/qiime2-2021.11/lib/python3.8/site-packages/picrust2/default_files/prokaryotic/pro_ref/pro_ref.raxml_info, extended alignment:/tmp/sepp/output.1rd6syqh/root/P_14/pplacer.extended.1.gkfzhrz9.fasta, output:/tmp/sepp/output.1rd6syqh/root/P_14/pplacer.extended.1.gkfzhrz9.jplace\n",
      "[18:40:55] jobs.py (line 131):     INFO: Finished pplacer Job with input: backbone_alignment_file:/tmp/sepp/output.1rd6syqh/root/P_14/pplacer.backbone.uytgi3d5.fasta, tree_file:/tmp/sepp/output.1rd6syqh/root/P_14/pplacer.tree.j5udz6ip.tre, info_file:/home/lauro/anaconda3/envs/qiime2-2021.11/lib/python3.8/site-packages/picrust2/default_files/prokaryotic/pro_ref/pro_ref.raxml_info, extended alignment:/tmp/sepp/output.1rd6syqh/root/P_14/pplacer.extended.2.oobo3isd.fasta, output:/tmp/sepp/output.1rd6syqh/root/P_14/pplacer.extended.2.oobo3isd.jplace\n",
      "[18:41:22] jobs.py (line 131):     INFO: Finished pplacer Job with input: backbone_alignment_file:/tmp/sepp/output.1rd6syqh/root/P_11/pplacer.backbone.rpiyd1ii.fasta, tree_file:/tmp/sepp/output.1rd6syqh/root/P_11/pplacer.tree.g_gqazh3.tre, info_file:/home/lauro/anaconda3/envs/qiime2-2021.11/lib/python3.8/site-packages/picrust2/default_files/prokaryotic/pro_ref/pro_ref.raxml_info, extended alignment:/tmp/sepp/output.1rd6syqh/root/P_11/pplacer.extended.0.n32t0v3h.fasta, output:/tmp/sepp/output.1rd6syqh/root/P_11/pplacer.extended.0.n32t0v3h.jplace\n",
      "[18:41:22] jobs.py (line 131):     INFO: Finished pplacer Job with input: backbone_alignment_file:/tmp/sepp/output.1rd6syqh/root/P_11/pplacer.backbone.qmy6itv7.fasta, tree_file:/tmp/sepp/output.1rd6syqh/root/P_11/pplacer.tree.247uxurl.tre, info_file:/home/lauro/anaconda3/envs/qiime2-2021.11/lib/python3.8/site-packages/picrust2/default_files/prokaryotic/pro_ref/pro_ref.raxml_info, extended alignment:/tmp/sepp/output.1rd6syqh/root/P_11/pplacer.extended.1.1ccsavtc.fasta, output:/tmp/sepp/output.1rd6syqh/root/P_11/pplacer.extended.1.1ccsavtc.jplace\n",
      "[18:41:24] jobs.py (line 131):     INFO: Finished pplacer Job with input: backbone_alignment_file:/tmp/sepp/output.1rd6syqh/root/P_11/pplacer.backbone.wvkhoh9v.fasta, tree_file:/tmp/sepp/output.1rd6syqh/root/P_11/pplacer.tree.bukhipi3.tre, info_file:/home/lauro/anaconda3/envs/qiime2-2021.11/lib/python3.8/site-packages/picrust2/default_files/prokaryotic/pro_ref/pro_ref.raxml_info, extended alignment:/tmp/sepp/output.1rd6syqh/root/P_11/pplacer.extended.2.la9p8h82.fasta, output:/tmp/sepp/output.1rd6syqh/root/P_11/pplacer.extended.2.la9p8h82.jplace\n",
      "[18:41:33] jobs.py (line 131):     INFO: Finished jsonmerger Job with input: input:pipe output:/tmp/tmpexphhuzu/picrust2_out/intermediate/place_seqs/sepp_out/output_placement.json\n",
      "[18:41:33] algorithm.py (line 195):     INFO: Current execution Finished in 128 seconds\n",
      "[18:41:33] algorithm.py (line 197):     INFO: All checkpointed executions Finished in 128 cumulative time\n",
      "\n",
      "gappa examine graft --jplace-path /tmp/tmpexphhuzu/picrust2_out/intermediate/place_seqs/sepp_out/output_placement.json --fully-resolve --out-dir /tmp/tmpexphhuzu/picrust2_out/intermediate/place_seqs/sepp_out\n",
      "\n",
      "mv /tmp/tmpexphhuzu/picrust2_out/intermediate/place_seqs/sepp_out/output_placement.newick /tmp/tmpexphhuzu/picrust2_out/out.tre\n",
      "\n",
      "Finished placing sequences on output tree: /tmp/tmpexphhuzu/picrust2_out/out.tre\n",
      "hsp.py --tree /tmp/tmpexphhuzu/picrust2_out/out.tre --output /tmp/tmpexphhuzu/picrust2_out/marker_predicted_and_nsti.tsv.gz --observed_trait_table /home/lauro/anaconda3/envs/qiime2-2021.11/lib/python3.8/site-packages/picrust2/default_files/prokaryotic/16S.txt.gz --hsp_method pic --edge_exponent 0.5 --seed 100 --calculate_NSTI --processes 1 --verbose\n"
     ]
    },
    {
     "name": "stdout",
     "output_type": "stream",
     "text": [
      "\n",
      "\n",
      "\n"
     ]
    },
    {
     "name": "stderr",
     "output_type": "stream",
     "text": [
      "Rscript /home/lauro/anaconda3/envs/qiime2-2021.11/lib/python3.8/site-packages/picrust2/Rscripts/castor_nsti.R /tmp/tmpexphhuzu/picrust2_out/out.tre /tmp/tmp3u9y82f7/known_tips.txt /tmp/tmp3u9y82f7/nsti_out.txt\n",
      "\n",
      "Rscript /home/lauro/anaconda3/envs/qiime2-2021.11/lib/python3.8/site-packages/picrust2/Rscripts/castor_hsp.R /tmp/tmpexphhuzu/picrust2_out/out.tre /tmp/tmprw1iwnv7/subset_tab_0 pic 0.5 FALSE FALSE /tmp/tmpn6528ht_/predicted_counts.txt /tmp/tmpn6528ht_/predicted_ci.txt 100\n",
      "\n",
      "\n",
      "hsp.py --tree /tmp/tmpexphhuzu/picrust2_out/out.tre --output /tmp/tmpexphhuzu/picrust2_out/EC_predicted.tsv.gz --observed_trait_table /home/lauro/anaconda3/envs/qiime2-2021.11/lib/python3.8/site-packages/picrust2/default_files/prokaryotic/ec.txt.gz --hsp_method pic --edge_exponent 0.5 --seed 100 --processes 6 --verbose\n"
     ]
    },
    {
     "name": "stdout",
     "output_type": "stream",
     "text": [
      "\n",
      "\n",
      "\n",
      "\n",
      "\n",
      "\n",
      "\n"
     ]
    },
    {
     "name": "stderr",
     "output_type": "stream",
     "text": [
      "Rscript /home/lauro/anaconda3/envs/qiime2-2021.11/lib/python3.8/site-packages/picrust2/Rscripts/castor_hsp.R /tmp/tmpexphhuzu/picrust2_out/out.tre /tmp/tmplbfoeksm/subset_tab_1 pic 0.5 FALSE FALSE /tmp/tmpg_eytdwz/predicted_counts.txt /tmp/tmpg_eytdwz/predicted_ci.txt 100\n",
      "\n",
      "Rscript /home/lauro/anaconda3/envs/qiime2-2021.11/lib/python3.8/site-packages/picrust2/Rscripts/castor_hsp.R /tmp/tmpexphhuzu/picrust2_out/out.tre /tmp/tmplbfoeksm/subset_tab_4 pic 0.5 FALSE FALSE /tmp/tmpo7zx1k9x/predicted_counts.txt /tmp/tmpo7zx1k9x/predicted_ci.txt 100\n",
      "\n",
      "Rscript /home/lauro/anaconda3/envs/qiime2-2021.11/lib/python3.8/site-packages/picrust2/Rscripts/castor_hsp.R /tmp/tmpexphhuzu/picrust2_out/out.tre /tmp/tmplbfoeksm/subset_tab_5 pic 0.5 FALSE FALSE /tmp/tmpxdrqwfm9/predicted_counts.txt /tmp/tmpxdrqwfm9/predicted_ci.txt 100\n",
      "\n",
      "Rscript /home/lauro/anaconda3/envs/qiime2-2021.11/lib/python3.8/site-packages/picrust2/Rscripts/castor_hsp.R /tmp/tmpexphhuzu/picrust2_out/out.tre /tmp/tmplbfoeksm/subset_tab_0 pic 0.5 FALSE FALSE /tmp/tmpdyvkwag8/predicted_counts.txt /tmp/tmpdyvkwag8/predicted_ci.txt 100\n",
      "\n",
      "Rscript /home/lauro/anaconda3/envs/qiime2-2021.11/lib/python3.8/site-packages/picrust2/Rscripts/castor_hsp.R /tmp/tmpexphhuzu/picrust2_out/out.tre /tmp/tmplbfoeksm/subset_tab_3 pic 0.5 FALSE FALSE /tmp/tmpebej_nhc/predicted_counts.txt /tmp/tmpebej_nhc/predicted_ci.txt 100\n",
      "\n",
      "Rscript /home/lauro/anaconda3/envs/qiime2-2021.11/lib/python3.8/site-packages/picrust2/Rscripts/castor_hsp.R /tmp/tmpexphhuzu/picrust2_out/out.tre /tmp/tmplbfoeksm/subset_tab_2 pic 0.5 FALSE FALSE /tmp/tmpqkh46_qt/predicted_counts.txt /tmp/tmpqkh46_qt/predicted_ci.txt 100\n",
      "\n",
      "\n",
      "hsp.py --tree /tmp/tmpexphhuzu/picrust2_out/out.tre --output /tmp/tmpexphhuzu/picrust2_out/KO_predicted.tsv.gz --observed_trait_table /home/lauro/anaconda3/envs/qiime2-2021.11/lib/python3.8/site-packages/picrust2/default_files/prokaryotic/ko.txt.gz --hsp_method pic --edge_exponent 0.5 --seed 100 --processes 6 --verbose\n"
     ]
    },
    {
     "name": "stdout",
     "output_type": "stream",
     "text": [
      "\n",
      "\n",
      "\n",
      "\n",
      "\n",
      "\n",
      "\n",
      "\n",
      "\n",
      "\n",
      "\n",
      "\n",
      "\n",
      "\n",
      "\n",
      "\n",
      "\n",
      "\n",
      "\n",
      "\n",
      "\n",
      "\n",
      "\n"
     ]
    },
    {
     "name": "stderr",
     "output_type": "stream",
     "text": [
      "Rscript /home/lauro/anaconda3/envs/qiime2-2021.11/lib/python3.8/site-packages/picrust2/Rscripts/castor_hsp.R /tmp/tmpexphhuzu/picrust2_out/out.tre /tmp/tmpevhyp_k0/subset_tab_5 pic 0.5 FALSE FALSE /tmp/tmp5q7bsjoc/predicted_counts.txt /tmp/tmp5q7bsjoc/predicted_ci.txt 100\n",
      "\n",
      "Rscript /home/lauro/anaconda3/envs/qiime2-2021.11/lib/python3.8/site-packages/picrust2/Rscripts/castor_hsp.R /tmp/tmpexphhuzu/picrust2_out/out.tre /tmp/tmpevhyp_k0/subset_tab_11 pic 0.5 FALSE FALSE /tmp/tmp51hcdph9/predicted_counts.txt /tmp/tmp51hcdph9/predicted_ci.txt 100\n",
      "\n",
      "Rscript /home/lauro/anaconda3/envs/qiime2-2021.11/lib/python3.8/site-packages/picrust2/Rscripts/castor_hsp.R /tmp/tmpexphhuzu/picrust2_out/out.tre /tmp/tmpevhyp_k0/subset_tab_16 pic 0.5 FALSE FALSE /tmp/tmpjlodl2dw/predicted_counts.txt /tmp/tmpjlodl2dw/predicted_ci.txt 100\n",
      "\n",
      "Rscript /home/lauro/anaconda3/envs/qiime2-2021.11/lib/python3.8/site-packages/picrust2/Rscripts/castor_hsp.R /tmp/tmpexphhuzu/picrust2_out/out.tre /tmp/tmpevhyp_k0/subset_tab_1 pic 0.5 FALSE FALSE /tmp/tmpbma13dgf/predicted_counts.txt /tmp/tmpbma13dgf/predicted_ci.txt 100\n",
      "\n",
      "Rscript /home/lauro/anaconda3/envs/qiime2-2021.11/lib/python3.8/site-packages/picrust2/Rscripts/castor_hsp.R /tmp/tmpexphhuzu/picrust2_out/out.tre /tmp/tmpevhyp_k0/subset_tab_9 pic 0.5 FALSE FALSE /tmp/tmpbenevtyl/predicted_counts.txt /tmp/tmpbenevtyl/predicted_ci.txt 100\n",
      "\n",
      "Rscript /home/lauro/anaconda3/envs/qiime2-2021.11/lib/python3.8/site-packages/picrust2/Rscripts/castor_hsp.R /tmp/tmpexphhuzu/picrust2_out/out.tre /tmp/tmpevhyp_k0/subset_tab_15 pic 0.5 FALSE FALSE /tmp/tmpvmhu_3zg/predicted_counts.txt /tmp/tmpvmhu_3zg/predicted_ci.txt 100\n",
      "\n",
      "Rscript /home/lauro/anaconda3/envs/qiime2-2021.11/lib/python3.8/site-packages/picrust2/Rscripts/castor_hsp.R /tmp/tmpexphhuzu/picrust2_out/out.tre /tmp/tmpevhyp_k0/subset_tab_3 pic 0.5 FALSE FALSE /tmp/tmpu3s1fmph/predicted_counts.txt /tmp/tmpu3s1fmph/predicted_ci.txt 100\n",
      "\n",
      "Rscript /home/lauro/anaconda3/envs/qiime2-2021.11/lib/python3.8/site-packages/picrust2/Rscripts/castor_hsp.R /tmp/tmpexphhuzu/picrust2_out/out.tre /tmp/tmpevhyp_k0/subset_tab_10 pic 0.5 FALSE FALSE /tmp/tmpjlq05f7c/predicted_counts.txt /tmp/tmpjlq05f7c/predicted_ci.txt 100\n",
      "\n",
      "Rscript /home/lauro/anaconda3/envs/qiime2-2021.11/lib/python3.8/site-packages/picrust2/Rscripts/castor_hsp.R /tmp/tmpexphhuzu/picrust2_out/out.tre /tmp/tmpevhyp_k0/subset_tab_17 pic 0.5 FALSE FALSE /tmp/tmp3viths6h/predicted_counts.txt /tmp/tmp3viths6h/predicted_ci.txt 100\n",
      "\n",
      "Rscript /home/lauro/anaconda3/envs/qiime2-2021.11/lib/python3.8/site-packages/picrust2/Rscripts/castor_hsp.R /tmp/tmpexphhuzu/picrust2_out/out.tre /tmp/tmpevhyp_k0/subset_tab_21 pic 0.5 FALSE FALSE /tmp/tmpu_xtcwe9/predicted_counts.txt /tmp/tmpu_xtcwe9/predicted_ci.txt 100\n",
      "\n",
      "Rscript /home/lauro/anaconda3/envs/qiime2-2021.11/lib/python3.8/site-packages/picrust2/Rscripts/castor_hsp.R /tmp/tmpexphhuzu/picrust2_out/out.tre /tmp/tmpevhyp_k0/subset_tab_2 pic 0.5 FALSE FALSE /tmp/tmpo4yxl2bb/predicted_counts.txt /tmp/tmpo4yxl2bb/predicted_ci.txt 100\n",
      "\n",
      "Rscript /home/lauro/anaconda3/envs/qiime2-2021.11/lib/python3.8/site-packages/picrust2/Rscripts/castor_hsp.R /tmp/tmpexphhuzu/picrust2_out/out.tre /tmp/tmpevhyp_k0/subset_tab_7 pic 0.5 FALSE FALSE /tmp/tmpdfvwgu9g/predicted_counts.txt /tmp/tmpdfvwgu9g/predicted_ci.txt 100\n",
      "\n",
      "Rscript /home/lauro/anaconda3/envs/qiime2-2021.11/lib/python3.8/site-packages/picrust2/Rscripts/castor_hsp.R /tmp/tmpexphhuzu/picrust2_out/out.tre /tmp/tmpevhyp_k0/subset_tab_12 pic 0.5 FALSE FALSE /tmp/tmp1oa4etn7/predicted_counts.txt /tmp/tmp1oa4etn7/predicted_ci.txt 100\n",
      "\n",
      "Rscript /home/lauro/anaconda3/envs/qiime2-2021.11/lib/python3.8/site-packages/picrust2/Rscripts/castor_hsp.R /tmp/tmpexphhuzu/picrust2_out/out.tre /tmp/tmpevhyp_k0/subset_tab_18 pic 0.5 FALSE FALSE /tmp/tmpur0ukg8h/predicted_counts.txt /tmp/tmpur0ukg8h/predicted_ci.txt 100\n",
      "\n",
      "Rscript /home/lauro/anaconda3/envs/qiime2-2021.11/lib/python3.8/site-packages/picrust2/Rscripts/castor_hsp.R /tmp/tmpexphhuzu/picrust2_out/out.tre /tmp/tmpevhyp_k0/subset_tab_0 pic 0.5 FALSE FALSE /tmp/tmp7f4w64gq/predicted_counts.txt /tmp/tmp7f4w64gq/predicted_ci.txt 100\n",
      "\n",
      "Rscript /home/lauro/anaconda3/envs/qiime2-2021.11/lib/python3.8/site-packages/picrust2/Rscripts/castor_hsp.R /tmp/tmpexphhuzu/picrust2_out/out.tre /tmp/tmpevhyp_k0/subset_tab_8 pic 0.5 FALSE FALSE /tmp/tmpbpg7iv83/predicted_counts.txt /tmp/tmpbpg7iv83/predicted_ci.txt 100\n",
      "\n",
      "Rscript /home/lauro/anaconda3/envs/qiime2-2021.11/lib/python3.8/site-packages/picrust2/Rscripts/castor_hsp.R /tmp/tmpexphhuzu/picrust2_out/out.tre /tmp/tmpevhyp_k0/subset_tab_14 pic 0.5 FALSE FALSE /tmp/tmpj4r4qc7n/predicted_counts.txt /tmp/tmpj4r4qc7n/predicted_ci.txt 100\n",
      "\n",
      "Rscript /home/lauro/anaconda3/envs/qiime2-2021.11/lib/python3.8/site-packages/picrust2/Rscripts/castor_hsp.R /tmp/tmpexphhuzu/picrust2_out/out.tre /tmp/tmpevhyp_k0/subset_tab_19 pic 0.5 FALSE FALSE /tmp/tmpzpz6m535/predicted_counts.txt /tmp/tmpzpz6m535/predicted_ci.txt 100\n",
      "\n",
      "Rscript /home/lauro/anaconda3/envs/qiime2-2021.11/lib/python3.8/site-packages/picrust2/Rscripts/castor_hsp.R /tmp/tmpexphhuzu/picrust2_out/out.tre /tmp/tmpevhyp_k0/subset_tab_4 pic 0.5 FALSE FALSE /tmp/tmp3zozhfe8/predicted_counts.txt /tmp/tmp3zozhfe8/predicted_ci.txt 100\n",
      "\n",
      "Rscript /home/lauro/anaconda3/envs/qiime2-2021.11/lib/python3.8/site-packages/picrust2/Rscripts/castor_hsp.R /tmp/tmpexphhuzu/picrust2_out/out.tre /tmp/tmpevhyp_k0/subset_tab_6 pic 0.5 FALSE FALSE /tmp/tmpvl5dca4i/predicted_counts.txt /tmp/tmpvl5dca4i/predicted_ci.txt 100\n",
      "\n",
      "Rscript /home/lauro/anaconda3/envs/qiime2-2021.11/lib/python3.8/site-packages/picrust2/Rscripts/castor_hsp.R /tmp/tmpexphhuzu/picrust2_out/out.tre /tmp/tmpevhyp_k0/subset_tab_13 pic 0.5 FALSE FALSE /tmp/tmp1z3b0gr1/predicted_counts.txt /tmp/tmp1z3b0gr1/predicted_ci.txt 100\n",
      "\n",
      "Rscript /home/lauro/anaconda3/envs/qiime2-2021.11/lib/python3.8/site-packages/picrust2/Rscripts/castor_hsp.R /tmp/tmpexphhuzu/picrust2_out/out.tre /tmp/tmpevhyp_k0/subset_tab_20 pic 0.5 FALSE FALSE /tmp/tmphzf7n64x/predicted_counts.txt /tmp/tmphzf7n64x/predicted_ci.txt 100\n",
      "\n",
      "\n",
      "Running metagenome pipeline for EC\n",
      "metagenome_pipeline.py --input /tmp/tmpexphhuzu/intable.biom --function /tmp/tmpexphhuzu/picrust2_out/EC_predicted.tsv.gz --min_reads 1 --min_samples 1 --out_dir /tmp/tmpexphhuzu/picrust2_out/EC_metagenome_out --max_nsti 2 --marker /tmp/tmpexphhuzu/picrust2_out/marker_predicted_and_nsti.tsv.gz\n"
     ]
    },
    {
     "name": "stdout",
     "output_type": "stream",
     "text": [
      "\n"
     ]
    },
    {
     "name": "stderr",
     "output_type": "stream",
     "text": [
      "1 of 839 ASVs were above the max NSTI cut-off of 2.0 and were removed from the downstream analyses.\n",
      "\n",
      "Running metagenome pipeline for KO\n",
      "metagenome_pipeline.py --input /tmp/tmpexphhuzu/intable.biom --function /tmp/tmpexphhuzu/picrust2_out/KO_predicted.tsv.gz --min_reads 1 --min_samples 1 --out_dir /tmp/tmpexphhuzu/picrust2_out/KO_metagenome_out --max_nsti 2 --marker /tmp/tmpexphhuzu/picrust2_out/marker_predicted_and_nsti.tsv.gz\n"
     ]
    },
    {
     "name": "stdout",
     "output_type": "stream",
     "text": [
      "\n",
      "Inferring pathways from predicted EC\n"
     ]
    },
    {
     "name": "stderr",
     "output_type": "stream",
     "text": [
      "1 of 839 ASVs were above the max NSTI cut-off of 2.0 and were removed from the downstream analyses.\n",
      "\n",
      "pathway_pipeline.py --input /tmp/tmpexphhuzu/picrust2_out/EC_metagenome_out/pred_metagenome_unstrat.tsv.gz --out_dir /tmp/tmpexphhuzu/picrust2_out/pathways_out --map /home/lauro/anaconda3/envs/qiime2-2021.11/lib/python3.8/site-packages/picrust2/default_files/pathway_mapfiles/metacyc_path2rxn_struc_filt_pro.txt --intermediate /tmp/tmpexphhuzu/picrust2_out/intermediate/pathways --proc 6 --regroup_map /home/lauro/anaconda3/envs/qiime2-2021.11/lib/python3.8/site-packages/picrust2/default_files/pathway_mapfiles/ec_level4_to_metacyc_rxn.tsv --verbose\n"
     ]
    },
    {
     "name": "stderr",
     "output_type": "stream",
     "text": [
      "\n",
      "Wrote predicted pathway abundances and coverages to /tmp/tmpexphhuzu/picrust2_out/pathways_out\n"
     ]
    }
   ],
   "source": [
    "need_pipeline = replace_files\n",
    "need_pipeline |= not (os.path.isfile(ec_path) and os.path.isfile(ko_path) and os.path.isfile(pathway_path))\n",
    "if need_pipeline:\n",
    "    results = picrust2.methods.full_pipeline(\n",
    "        table=tabs, \n",
    "        seq=seqs, \n",
    "        threads=6, \n",
    "        placement_tool='sepp',\n",
    "        hsp_method='pic', \n",
    "        max_nsti=2,\n",
    "        highly_verbose=True\n",
    "    )\n",
    "    ec_metagenome = results.ec_metagenome\n",
    "    ko_metagenome = results.ko_metagenome\n",
    "    pathway_abundance = results.pathway_abundance\n",
    "else:\n",
    "    ec_metagenome = Artifact.load(ec_path)\n",
    "    ko_metagenome = Artifact.load(ko_path)\n",
    "    pathway_abundance = Artifact.load(pathway_path)"
   ]
  },
  {
   "cell_type": "markdown",
   "id": "771308c4",
   "metadata": {
    "papermill": {
     "duration": 0.101847,
     "end_time": "2023-09-04T18:45:23.201112",
     "exception": false,
     "start_time": "2023-09-04T18:45:23.099265",
     "status": "completed"
    },
    "tags": []
   },
   "source": [
    "### Persist created artifacts\n",
    "\n",
    "We will define file paths and persist all artifacts. We start with `.qza` files. We will save the visualization files in sequence as `qzv` files. Finally, we save a `biom`-like file as `tsv` with brief descriptions of all functions."
   ]
  },
  {
   "cell_type": "code",
   "execution_count": 10,
   "id": "c680ab46",
   "metadata": {
    "ExecuteTime": {
     "end_time": "2022-11-09T19:20:47.646444Z",
     "start_time": "2022-11-09T19:20:47.643806Z"
    },
    "execution": {
     "iopub.execute_input": "2023-09-04T18:45:23.412105Z",
     "iopub.status.busy": "2023-09-04T18:45:23.410980Z",
     "iopub.status.idle": "2023-09-04T18:45:23.524121Z",
     "shell.execute_reply": "2023-09-04T18:45:23.525079Z"
    },
    "papermill": {
     "duration": 0.221627,
     "end_time": "2023-09-04T18:45:23.525358",
     "exception": false,
     "start_time": "2023-09-04T18:45:23.303731",
     "status": "completed"
    },
    "tags": []
   },
   "outputs": [],
   "source": [
    "if need_pipeline:\n",
    "    # Export artifact folder\n",
    "    ec_metagenome.export_data(output_dir=ec_path.split('.')[0])\n",
    "    ko_metagenome.export_data(output_dir=ko_path.split('.')[0])\n",
    "    pathway_abundance.export_data(output_dir=pathway_path.split('.')[0])\n",
    "    \n",
    "    # Save artifacts as .qza files\n",
    "    ec_metagenome.save(ec_path)\n",
    "    ko_metagenome.save(ko_path)\n",
    "    pathway_abundance.save(pathway_path)"
   ]
  },
  {
   "cell_type": "code",
   "execution_count": 11,
   "id": "d61ebec3",
   "metadata": {
    "ExecuteTime": {
     "end_time": "2022-11-09T19:20:47.687022Z",
     "start_time": "2022-11-09T19:20:47.647637Z"
    },
    "execution": {
     "iopub.execute_input": "2023-09-04T18:45:23.651653Z",
     "iopub.status.busy": "2023-09-04T18:45:23.650815Z",
     "iopub.status.idle": "2023-09-04T18:45:28.056303Z",
     "shell.execute_reply": "2023-09-04T18:45:28.055494Z"
    },
    "papermill": {
     "duration": 4.481945,
     "end_time": "2023-09-04T18:45:28.056510",
     "exception": false,
     "start_time": "2023-09-04T18:45:23.574565",
     "status": "completed"
    },
    "tags": []
   },
   "outputs": [],
   "source": [
    "need_viz = replace_files\n",
    "need_viz |= not (os.path.isfile(ec_viz_path) and os.path.isfile(ko_viz_path) and os.path.isfile(pathway_viz_path))\n",
    "if need_viz:\n",
    "    # Create visualization artifacts\n",
    "    ec_viz = summarize(table=ec_metagenome, sample_metadata=metadata_qa).visualization\n",
    "    ko_viz = summarize(table=ko_metagenome, sample_metadata=metadata_qa).visualization\n",
    "    path_viz = summarize(table=pathway_abundance, sample_metadata=metadata_qa).visualization\n",
    "\n",
    "    # Save visualization artifacts as .qzv files\n",
    "    ec_viz.save(ec_viz_path)\n",
    "    ko_viz.save(ko_viz_path)\n",
    "    path_viz.save(pathway_viz_path)"
   ]
  },
  {
   "cell_type": "code",
   "execution_count": 12,
   "id": "57f1f4d8",
   "metadata": {
    "ExecuteTime": {
     "end_time": "2022-11-09T19:20:47.704885Z",
     "start_time": "2022-11-09T19:20:47.689312Z"
    },
    "execution": {
     "iopub.execute_input": "2023-09-04T18:45:28.223014Z",
     "iopub.status.busy": "2023-09-04T18:45:28.222229Z",
     "iopub.status.idle": "2023-09-04T18:45:31.448270Z",
     "shell.execute_reply": "2023-09-04T18:45:31.449081Z"
    },
    "papermill": {
     "duration": 3.303805,
     "end_time": "2023-09-04T18:45:31.449347",
     "exception": false,
     "start_time": "2023-09-04T18:45:28.145542",
     "status": "completed"
    },
    "tags": []
   },
   "outputs": [],
   "source": [
    "need_biom = replace_files\n",
    "need_biom |= not (os.path.isfile(ec_fpath) and os.path.isfile(ko_fpath) and os.path.isfile(pathway_fpath))\n",
    "if need_biom:\n",
    "    # Convert artifact to dataframe - transposed\n",
    "    df_pathway = pathway_abundance.view(pd.DataFrame).T\n",
    "    df_ec = ec_metagenome.view(pd.DataFrame).T\n",
    "    df_ko = ko_metagenome.view(pd.DataFrame).T\n",
    "\n",
    "    # Write dataframe to a tsv file\n",
    "    df_pathway.to_csv(pathway_fpath, sep='\\t', index=True)\n",
    "    df_ec.to_csv(ec_fpath, sep='\\t', index=True)\n",
    "    df_ko.to_csv(ko_fpath, sep='\\t', index=True)\n",
    "    \n",
    "    # Put a new column with descriptions of each function's ID\n",
    "    !add_descriptions.py -i {ec_fpath} -m EC -o {ec_desc_fpath}\n",
    "    !add_descriptions.py -i {ko_fpath} -m KO -o {ko_desc_fpath}\n",
    "    !add_descriptions.py -i {pathway_fpath} -m METACYC -o {pathway_desc_fpath}"
   ]
  }
 ],
 "metadata": {
  "celltoolbar": "Edit Metadata",
  "kernelspec": {
   "display_name": "Python 3 (ipykernel)",
   "language": "python",
   "name": "python3"
  },
  "language_info": {
   "codemirror_mode": {
    "name": "ipython",
    "version": 3
   },
   "file_extension": ".py",
   "mimetype": "text/x-python",
   "name": "python",
   "nbconvert_exporter": "python",
   "pygments_lexer": "ipython3",
   "version": "3.8.12"
  },
  "papermill": {
   "default_parameters": {},
   "duration": 413.679423,
   "end_time": "2023-09-04T18:45:32.412225",
   "environment_variables": {},
   "exception": null,
   "input_path": "nb-templates/step-picrust2-analysis.ipynb",
   "output_path": "/home/lauro/nupeb/rede-micro/redemicro-ana-flavia-nutri/experiments/ana-flavia-NRxHSD-NR-trim/nb-executed-steps/step-picrust2-analysis-ana-flavia-NRxHSD-NR-trim.ipynb",
   "parameters": {
    "base_dir": "/home/lauro/nupeb/rede-micro/redemicro-ana-flavia-nutri",
    "class_col": "group-id",
    "classifier_file": "/home/lauro/nupeb/rede-micro/models/silva-138-99-nb-classifier.qza",
    "experiment_name": "ana-flavia-NRxHSD-NR-trim",
    "manifest_file": "/home/lauro/nupeb/rede-micro/redemicro-ana-flavia-nutri/data/raw/manifest/manifest-ana-flavia-NRxHSD-NR.csv",
    "metadata_file": "/home/lauro/nupeb/rede-micro/redemicro-ana-flavia-nutri/data/raw/metadata/metadata-ana-flavia-NRxHSD-NR.tsv",
    "overlap": 12,
    "phred": 20,
    "replace_files": false,
    "threads": 6,
    "top_n": 20,
    "trim": {
     "forward_primer": "CCTACGGGRSGCAGCAG",
     "overlap": 8,
     "reverse_primer": "GGACTACHVGGGTWTCTAAT"
    },
    "trunc_f": 0,
    "trunc_r": 0
   },
   "start_time": "2023-09-04T18:38:38.732802",
   "version": "2.3.4"
  }
 },
 "nbformat": 4,
 "nbformat_minor": 5
}