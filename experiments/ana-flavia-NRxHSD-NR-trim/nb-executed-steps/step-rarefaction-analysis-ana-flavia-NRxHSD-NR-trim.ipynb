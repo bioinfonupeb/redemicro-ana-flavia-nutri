{
 "cells": [
  {
   "cell_type": "markdown",
   "id": "2cc12202",
   "metadata": {
    "tags": [
     "papermill-error-cell-tag"
    ]
   },
   "source": [
    "<span style=\"color:red; font-family:Helvetica Neue, Helvetica, Arial, sans-serif; font-size:2em;\">An Exception was encountered at '<a href=\"#papermill-error-cell\">In [8]</a>'.</span>"
   ]
  },
  {
   "cell_type": "markdown",
   "id": "6f4bf6eb",
   "metadata": {
    "papermill": {
     "duration": 0.020041,
     "end_time": "2023-06-07T06:04:19.855359",
     "exception": false,
     "start_time": "2023-06-07T06:04:19.835318",
     "status": "completed"
    },
    "tags": []
   },
   "source": [
    "# STEP : Rarefaction Analysis\n",
    "\n",
    "Using QIIME2 to create rarefaction graphs.\n",
    "\n",
    "\n",
    "## Methods\n",
    "[qiime alpha_rarefaction](https://docs.qiime2.org/2023.2/plugins/available/diversity/alpha-rarefaction/)\n",
    "```\n",
    "Generate interactive alpha rarefaction curves by computing rarefactions\n",
    "between `min_depth` and `max_depth`. The number of intermediate depths to\n",
    "compute is controlled by the `steps` parameter, with n `iterations` being\n",
    "computed at each rarefaction depth. If sample metadata is provided, samples\n",
    "may be grouped based on distinct values within a metadata column.\n",
    "```\n"
   ]
  },
  {
   "cell_type": "markdown",
   "id": "84ccc5ad",
   "metadata": {
    "papermill": {
     "duration": 0.032669,
     "end_time": "2023-06-07T06:04:19.978252",
     "exception": false,
     "start_time": "2023-06-07T06:04:19.945583",
     "status": "completed"
    },
    "tags": []
   },
   "source": [
    "## Setup and settings"
   ]
  },
  {
   "cell_type": "code",
   "execution_count": 1,
   "id": "e0673e56",
   "metadata": {
    "ExecuteTime": {
     "end_time": "2022-09-22T21:43:54.326002Z",
     "start_time": "2022-09-22T21:43:47.911891Z"
    },
    "execution": {
     "iopub.execute_input": "2023-06-07T06:04:20.004087Z",
     "iopub.status.busy": "2023-06-07T06:04:20.003806Z",
     "iopub.status.idle": "2023-06-07T06:04:26.487225Z",
     "shell.execute_reply": "2023-06-07T06:04:26.486496Z"
    },
    "papermill": {
     "duration": 6.499509,
     "end_time": "2023-06-07T06:04:26.490464",
     "exception": false,
     "start_time": "2023-06-07T06:04:19.990955",
     "status": "completed"
    },
    "tags": []
   },
   "outputs": [],
   "source": [
    "# Importing packages\n",
    "import os\n",
    "import pandas as pd\n",
    "from qiime2 import Artifact\n",
    "from qiime2 import Visualization\n",
    "from qiime2 import Metadata\n",
    "from qiime2.plugins.diversity.visualizers import alpha_rarefaction\n",
    "from qiime2.plugins.diversity.visualizers import beta_rarefaction\n",
    "\n",
    "import matplotlib.pyplot as plt\n",
    "\n",
    "%matplotlib inline"
   ]
  },
  {
   "cell_type": "code",
   "execution_count": 2,
   "id": "93d3f72c",
   "metadata": {
    "ExecuteTime": {
     "end_time": "2022-09-22T21:43:54.330790Z",
     "start_time": "2022-09-22T21:43:54.328358Z"
    },
    "execution": {
     "iopub.execute_input": "2023-06-07T06:04:26.521107Z",
     "iopub.status.busy": "2023-06-07T06:04:26.520864Z",
     "iopub.status.idle": "2023-06-07T06:04:26.524557Z",
     "shell.execute_reply": "2023-06-07T06:04:26.523789Z"
    },
    "papermill": {
     "duration": 0.018028,
     "end_time": "2023-06-07T06:04:26.526077",
     "exception": false,
     "start_time": "2023-06-07T06:04:26.508049",
     "status": "completed"
    },
    "tags": []
   },
   "outputs": [],
   "source": [
    "# from qiime2.plugins import demux, deblur, quality_filter, \\\n",
    "#                            metadata, feature_table, alignment, \\\n",
    "#                            phylogeny, diversity, emperor, feature_classifier, \\\n",
    "#                            taxa, composition"
   ]
  },
  {
   "cell_type": "markdown",
   "id": "c480a763",
   "metadata": {
    "papermill": {
     "duration": 0.084594,
     "end_time": "2023-06-07T06:04:26.622456",
     "exception": false,
     "start_time": "2023-06-07T06:04:26.537862",
     "status": "completed"
    },
    "tags": []
   },
   "source": [
    "### Receiving the parameters\n",
    "\n",
    "The following cell can receive parameters using the [papermill](https://papermill.readthedocs.io/en/latest/) tool."
   ]
  },
  {
   "cell_type": "code",
   "execution_count": 3,
   "id": "00e9a623",
   "metadata": {
    "ExecuteTime": {
     "end_time": "2022-09-22T21:43:54.344271Z",
     "start_time": "2022-09-22T21:43:54.332262Z"
    },
    "execution": {
     "iopub.execute_input": "2023-06-07T06:04:26.648559Z",
     "iopub.status.busy": "2023-06-07T06:04:26.648234Z",
     "iopub.status.idle": "2023-06-07T06:04:26.653504Z",
     "shell.execute_reply": "2023-06-07T06:04:26.652664Z"
    },
    "papermill": {
     "duration": 0.020163,
     "end_time": "2023-06-07T06:04:26.655109",
     "exception": false,
     "start_time": "2023-06-07T06:04:26.634946",
     "status": "completed"
    },
    "tags": [
     "parameters"
    ]
   },
   "outputs": [],
   "source": [
    "metadata_file = '/home/lauro/nupeb/rede-micro/redemicro-miliane-nutri/data/raw/metadata/miliane-metadata-CxAC.tsv'\n",
    "base_dir = os.path.join('/', 'home', 'lauro', 'nupeb', 'rede-micro', 'redemicro-miliane-nutri')\n",
    "experiment_name = 'miliane-CxAC-trim'\n",
    "replace_files = False"
   ]
  },
  {
   "cell_type": "code",
   "execution_count": 4,
   "id": "d39d8c0a",
   "metadata": {
    "execution": {
     "iopub.execute_input": "2023-06-07T06:04:26.821768Z",
     "iopub.status.busy": "2023-06-07T06:04:26.821420Z",
     "iopub.status.idle": "2023-06-07T06:04:26.828828Z",
     "shell.execute_reply": "2023-06-07T06:04:26.828056Z"
    },
    "papermill": {
     "duration": 0.025399,
     "end_time": "2023-06-07T06:04:26.831727",
     "exception": false,
     "start_time": "2023-06-07T06:04:26.806328",
     "status": "completed"
    },
    "tags": [
     "injected-parameters"
    ]
   },
   "outputs": [],
   "source": [
    "# Parameters\n",
    "experiment_name = \"ana-flavia-NRxHSD-NR-trim\"\n",
    "base_dir = \"/home/lauro/nupeb/rede-micro/redemicro-ana-flavia-nutri\"\n",
    "manifest_file = \"/home/lauro/nupeb/rede-micro/redemicro-ana-flavia-nutri/data/raw/manifest/manifest-ana-flavia-NRxHSD-NR.csv\"\n",
    "metadata_file = \"/home/lauro/nupeb/rede-micro/redemicro-ana-flavia-nutri/data/raw/metadata/metadata-ana-flavia-NRxHSD-NR.tsv\"\n",
    "class_col = \"group-id\"\n",
    "classifier_file = \"/home/lauro/nupeb/rede-micro/models/silva-138-99-nb-classifier.qza\"\n",
    "top_n = 20\n",
    "replace_files = False\n",
    "phred = 20\n",
    "trunc_f = 0\n",
    "trunc_r = 0\n",
    "overlap = 12\n",
    "threads = 6\n",
    "trim = {\n",
    "    \"overlap\": 8,\n",
    "    \"forward_primer\": \"CCTACGGGRSGCAGCAG\",\n",
    "    \"reverse_primer\": \"GGACTACHVGGGTWTCTAAT\",\n",
    "}\n"
   ]
  },
  {
   "cell_type": "code",
   "execution_count": 5,
   "id": "4804d87d",
   "metadata": {
    "ExecuteTime": {
     "end_time": "2022-09-22T21:43:54.362004Z",
     "start_time": "2022-09-22T21:43:54.346365Z"
    },
    "execution": {
     "iopub.execute_input": "2023-06-07T06:04:26.862213Z",
     "iopub.status.busy": "2023-06-07T06:04:26.861965Z",
     "iopub.status.idle": "2023-06-07T06:04:26.866508Z",
     "shell.execute_reply": "2023-06-07T06:04:26.865742Z"
    },
    "papermill": {
     "duration": 0.020516,
     "end_time": "2023-06-07T06:04:26.868215",
     "exception": false,
     "start_time": "2023-06-07T06:04:26.847699",
     "status": "completed"
    },
    "tags": []
   },
   "outputs": [],
   "source": [
    "experiment_folder = os.path.abspath(os.path.join(base_dir, 'experiments', experiment_name))\n",
    "img_folder = os.path.abspath(os.path.join(experiment_folder, 'imgs'))"
   ]
  },
  {
   "cell_type": "markdown",
   "id": "333219d0",
   "metadata": {
    "papermill": {
     "duration": 0.012985,
     "end_time": "2023-06-07T06:04:26.894650",
     "exception": false,
     "start_time": "2023-06-07T06:04:26.881665",
     "status": "completed"
    },
    "tags": []
   },
   "source": [
    "### Defining names, paths and flags"
   ]
  },
  {
   "cell_type": "code",
   "execution_count": 6,
   "id": "538dcb51",
   "metadata": {
    "ExecuteTime": {
     "end_time": "2022-09-22T21:43:54.373657Z",
     "start_time": "2022-09-22T21:43:54.363586Z"
    },
    "execution": {
     "iopub.execute_input": "2023-06-07T06:04:26.921068Z",
     "iopub.status.busy": "2023-06-07T06:04:26.920832Z",
     "iopub.status.idle": "2023-06-07T06:04:26.927022Z",
     "shell.execute_reply": "2023-06-07T06:04:26.926231Z"
    },
    "papermill": {
     "duration": 0.02139,
     "end_time": "2023-06-07T06:04:26.928758",
     "exception": false,
     "start_time": "2023-06-07T06:04:26.907368",
     "status": "completed"
    },
    "tags": []
   },
   "outputs": [],
   "source": [
    "# QIIME2 Artifacts folder\n",
    "qiime_folder = os.path.join(experiment_folder, 'qiime-artifacts')\n",
    "\n",
    "# Input - DADA2 Artifacts\n",
    "dada2_tabs_path = os.path.join(qiime_folder, 'dada2-tabs.qza')\n",
    "dada2_reps_path = os.path.join(qiime_folder, 'dada2-reps.qza')\n",
    "dada2_stat_path = os.path.join(qiime_folder, 'dada2-stat.qza')\n",
    "\n",
    "# Output -Rarefaction Artifacts\n",
    "alpha_rarefaction_path = os.path.join(qiime_folder, 'alpha-rarefaction.qza')\n",
    "alpha_rarefaction_view_path = os.path.join(qiime_folder, 'alpha-rarefaction.qzv')\n",
    "\n",
    "# Flag - Load or create files\n",
    "need_tax = not (os.path.isfile(alpha_rarefaction_path)) or replace_files\n",
    "need_view = not (os.path.isfile(alpha_rarefaction_view_path)) or replace_files"
   ]
  },
  {
   "cell_type": "markdown",
   "id": "3e442c32",
   "metadata": {
    "papermill": {
     "duration": 0.012632,
     "end_time": "2023-06-07T06:04:26.955245",
     "exception": false,
     "start_time": "2023-06-07T06:04:26.942613",
     "status": "completed"
    },
    "tags": []
   },
   "source": [
    "## Step execution\n",
    "\n",
    "### Load input files\n",
    "\n",
    "This Step import the QIIME2 `SampleData[PairedEndSequencesWithQuality]` Artifact with all demultiplexed sequences and the `Metadata` file."
   ]
  },
  {
   "cell_type": "code",
   "execution_count": 7,
   "id": "33a7e95a",
   "metadata": {
    "ExecuteTime": {
     "end_time": "2022-09-22T21:43:54.398034Z",
     "start_time": "2022-09-22T21:43:54.375240Z"
    },
    "execution": {
     "iopub.execute_input": "2023-06-07T06:04:26.981301Z",
     "iopub.status.busy": "2023-06-07T06:04:26.980998Z",
     "iopub.status.idle": "2023-06-07T06:04:27.013249Z",
     "shell.execute_reply": "2023-06-07T06:04:27.012437Z"
    },
    "papermill": {
     "duration": 0.047819,
     "end_time": "2023-06-07T06:04:27.015434",
     "exception": false,
     "start_time": "2023-06-07T06:04:26.967615",
     "status": "completed"
    },
    "tags": []
   },
   "outputs": [],
   "source": [
    "#Load Metadata\n",
    "metadata_qa = Metadata.load(metadata_file)"
   ]
  },
  {
   "cell_type": "markdown",
   "id": "f2146be2",
   "metadata": {
    "tags": [
     "papermill-error-cell-tag"
    ]
   },
   "source": [
    "<span id=\"papermill-error-cell\" style=\"color:red; font-family:Helvetica Neue, Helvetica, Arial, sans-serif; font-size:2em;\">Execution using papermill encountered an exception here and stopped:</span>"
   ]
  },
  {
   "cell_type": "code",
   "execution_count": 8,
   "id": "82a2c572",
   "metadata": {
    "ExecuteTime": {
     "end_time": "2022-09-22T21:43:54.827295Z",
     "start_time": "2022-09-22T21:43:54.399431Z"
    },
    "execution": {
     "iopub.execute_input": "2023-06-07T06:04:27.052125Z",
     "iopub.status.busy": "2023-06-07T06:04:27.051860Z",
     "iopub.status.idle": "2023-06-07T06:04:27.775122Z",
     "shell.execute_reply": "2023-06-07T06:04:27.773890Z"
    },
    "papermill": {
     "duration": 0.742245,
     "end_time": "2023-06-07T06:04:27.776360",
     "exception": true,
     "start_time": "2023-06-07T06:04:27.034115",
     "status": "failed"
    },
    "tags": []
   },
   "outputs": [
    {
     "ename": "ValueError",
     "evalue": "/home/lauro/nupeb/rede-micro/redemicro-ana-flavia-nutri/experiments/ana-flavia-NRxHSD-NR-trim/qiime-artifacts/dada2-tabs.qza does not exist.",
     "output_type": "error",
     "traceback": [
      "\u001b[0;31m---------------------------------------------------------------------------\u001b[0m",
      "\u001b[0;31mValueError\u001b[0m                                Traceback (most recent call last)",
      "Input \u001b[0;32mIn [8]\u001b[0m, in \u001b[0;36m<module>\u001b[0;34m\u001b[0m\n\u001b[0;32m----> 1\u001b[0m tabs \u001b[38;5;241m=\u001b[39m \u001b[43mArtifact\u001b[49m\u001b[38;5;241;43m.\u001b[39;49m\u001b[43mload\u001b[49m\u001b[43m(\u001b[49m\u001b[43mdada2_tabs_path\u001b[49m\u001b[43m)\u001b[49m\n\u001b[1;32m      2\u001b[0m tabs_df \u001b[38;5;241m=\u001b[39m tabs\u001b[38;5;241m.\u001b[39mview(Metadata)\u001b[38;5;241m.\u001b[39mto_dataframe()\u001b[38;5;241m.\u001b[39mT\n",
      "File \u001b[0;32m~/anaconda3/envs/qiime2-2022.2/lib/python3.8/site-packages/qiime2/sdk/result.py:66\u001b[0m, in \u001b[0;36mResult.load\u001b[0;34m(cls, filepath)\u001b[0m\n\u001b[1;32m     63\u001b[0m \u001b[38;5;129m@classmethod\u001b[39m\n\u001b[1;32m     64\u001b[0m \u001b[38;5;28;01mdef\u001b[39;00m \u001b[38;5;21mload\u001b[39m(\u001b[38;5;28mcls\u001b[39m, filepath):\n\u001b[1;32m     65\u001b[0m     \u001b[38;5;124;03m\"\"\"Factory for loading Artifacts and Visualizations.\"\"\"\u001b[39;00m\n\u001b[0;32m---> 66\u001b[0m     archiver \u001b[38;5;241m=\u001b[39m \u001b[43marchive\u001b[49m\u001b[38;5;241;43m.\u001b[39;49m\u001b[43mArchiver\u001b[49m\u001b[38;5;241;43m.\u001b[39;49m\u001b[43mload\u001b[49m\u001b[43m(\u001b[49m\u001b[43mfilepath\u001b[49m\u001b[43m)\u001b[49m\n\u001b[1;32m     68\u001b[0m     \u001b[38;5;28;01mif\u001b[39;00m Artifact\u001b[38;5;241m.\u001b[39m_is_valid_type(archiver\u001b[38;5;241m.\u001b[39mtype):\n\u001b[1;32m     69\u001b[0m         result \u001b[38;5;241m=\u001b[39m Artifact\u001b[38;5;241m.\u001b[39m\u001b[38;5;21m__new__\u001b[39m(Artifact)\n",
      "File \u001b[0;32m~/anaconda3/envs/qiime2-2022.2/lib/python3.8/site-packages/qiime2/core/archive/archiver.py:299\u001b[0m, in \u001b[0;36mArchiver.load\u001b[0;34m(cls, filepath)\u001b[0m\n\u001b[1;32m    297\u001b[0m \u001b[38;5;129m@classmethod\u001b[39m\n\u001b[1;32m    298\u001b[0m \u001b[38;5;28;01mdef\u001b[39;00m \u001b[38;5;21mload\u001b[39m(\u001b[38;5;28mcls\u001b[39m, filepath):\n\u001b[0;32m--> 299\u001b[0m     archive \u001b[38;5;241m=\u001b[39m \u001b[38;5;28;43mcls\u001b[39;49m\u001b[38;5;241;43m.\u001b[39;49m\u001b[43mget_archive\u001b[49m\u001b[43m(\u001b[49m\u001b[43mfilepath\u001b[49m\u001b[43m)\u001b[49m\n\u001b[1;32m    300\u001b[0m     Format \u001b[38;5;241m=\u001b[39m \u001b[38;5;28mcls\u001b[39m\u001b[38;5;241m.\u001b[39mget_format_class(archive\u001b[38;5;241m.\u001b[39mversion)\n\u001b[1;32m    301\u001b[0m     \u001b[38;5;28;01mif\u001b[39;00m Format \u001b[38;5;129;01mis\u001b[39;00m \u001b[38;5;28;01mNone\u001b[39;00m:\n",
      "File \u001b[0;32m~/anaconda3/envs/qiime2-2022.2/lib/python3.8/site-packages/qiime2/core/archive/archiver.py:259\u001b[0m, in \u001b[0;36mArchiver.get_archive\u001b[0;34m(cls, filepath)\u001b[0m\n\u001b[1;32m    257\u001b[0m filepath \u001b[38;5;241m=\u001b[39m pathlib\u001b[38;5;241m.\u001b[39mPath(filepath)\n\u001b[1;32m    258\u001b[0m \u001b[38;5;28;01mif\u001b[39;00m \u001b[38;5;129;01mnot\u001b[39;00m filepath\u001b[38;5;241m.\u001b[39mexists():\n\u001b[0;32m--> 259\u001b[0m     \u001b[38;5;28;01mraise\u001b[39;00m \u001b[38;5;167;01mValueError\u001b[39;00m(\u001b[38;5;124m\"\u001b[39m\u001b[38;5;132;01m%s\u001b[39;00m\u001b[38;5;124m does not exist.\u001b[39m\u001b[38;5;124m\"\u001b[39m \u001b[38;5;241m%\u001b[39m filepath)\n\u001b[1;32m    261\u001b[0m \u001b[38;5;28;01mif\u001b[39;00m _ZipArchive\u001b[38;5;241m.\u001b[39mis_archive_type(filepath):\n\u001b[1;32m    262\u001b[0m     archive \u001b[38;5;241m=\u001b[39m _ZipArchive(filepath)\n",
      "\u001b[0;31mValueError\u001b[0m: /home/lauro/nupeb/rede-micro/redemicro-ana-flavia-nutri/experiments/ana-flavia-NRxHSD-NR-trim/qiime-artifacts/dada2-tabs.qza does not exist."
     ]
    }
   ],
   "source": [
    "tabs = Artifact.load(dada2_tabs_path)\n",
    "tabs_df = tabs.view(Metadata).to_dataframe().T"
   ]
  },
  {
   "cell_type": "markdown",
   "id": "587ae320",
   "metadata": {
    "papermill": {
     "duration": null,
     "end_time": null,
     "exception": null,
     "start_time": null,
     "status": "pending"
    },
    "tags": []
   },
   "source": [
    "## Alpha Rarefaction"
   ]
  },
  {
   "cell_type": "code",
   "execution_count": null,
   "id": "b2a5bafa",
   "metadata": {
    "ExecuteTime": {
     "end_time": "2022-09-22T21:55:53.328300Z",
     "start_time": "2022-09-22T21:55:53.318166Z"
    },
    "papermill": {
     "duration": null,
     "end_time": null,
     "exception": null,
     "start_time": null,
     "status": "pending"
    },
    "tags": []
   },
   "outputs": [],
   "source": [
    "# Get min and maximum feature counts to set sampling depth\n",
    "rank_df = tabs_df.sum().sort_values()\n",
    "min_feature_count = int(rank_df.min())\n",
    "max_feature_count = int(rank_df.max())"
   ]
  },
  {
   "cell_type": "code",
   "execution_count": null,
   "id": "0b2ab598",
   "metadata": {
    "papermill": {
     "duration": null,
     "end_time": null,
     "exception": null,
     "start_time": null,
     "status": "pending"
    },
    "tags": []
   },
   "outputs": [],
   "source": [
    "# Add new columns with samples IDs to rarefaction\n",
    "meta_df = metadata_qa.to_dataframe()\n",
    "meta_df['samples'] = meta_df.index.to_list()\n",
    "metadata_qa = Metadata(meta_df)"
   ]
  },
  {
   "cell_type": "code",
   "execution_count": null,
   "id": "f4ef92fd",
   "metadata": {
    "ExecuteTime": {
     "end_time": "2022-09-22T21:56:13.586159Z",
     "start_time": "2022-09-22T21:55:55.117935Z"
    },
    "papermill": {
     "duration": null,
     "end_time": null,
     "exception": null,
     "start_time": null,
     "status": "pending"
    },
    "tags": []
   },
   "outputs": [],
   "source": [
    "alpha_rar = alpha_rarefaction(\n",
    "    table = tabs,\n",
    "    max_depth = max_feature_count,\n",
    "    min_depth = 1,\n",
    "    metadata = metadata_qa,\n",
    ")"
   ]
  },
  {
   "cell_type": "code",
   "execution_count": null,
   "id": "e9f14c01",
   "metadata": {
    "ExecuteTime": {
     "end_time": "2022-09-22T21:56:13.632468Z",
     "start_time": "2022-09-22T21:56:13.589032Z"
    },
    "papermill": {
     "duration": null,
     "end_time": null,
     "exception": null,
     "start_time": null,
     "status": "pending"
    },
    "scrolled": true,
    "tags": []
   },
   "outputs": [],
   "source": [
    "alpha_rar.visualization.save(alpha_rarefaction_view_path)\n",
    "alpha_rar.visualization"
   ]
  },
  {
   "cell_type": "markdown",
   "id": "8268c91f",
   "metadata": {
    "papermill": {
     "duration": null,
     "end_time": null,
     "exception": null,
     "start_time": null,
     "status": "pending"
    },
    "tags": []
   },
   "source": [
    "## Beta Rarefaction"
   ]
  },
  {
   "cell_type": "code",
   "execution_count": null,
   "id": "1a5ab9c9",
   "metadata": {
    "ExecuteTime": {
     "end_time": "2022-09-22T21:56:19.645438Z",
     "start_time": "2022-09-22T21:56:17.687848Z"
    },
    "papermill": {
     "duration": null,
     "end_time": null,
     "exception": null,
     "start_time": null,
     "status": "pending"
    },
    "tags": []
   },
   "outputs": [],
   "source": [
    "choices = ('matching', 'aitchison', 'euclidean', 'generalized_unifrac', 'canberra', 'russellrao', 'braycurtis', 'cosine', 'jensenshannon', 'yule', 'weighted_normalized_unifrac', 'unweighted_unifrac', 'hamming', 'weighted_unifrac', 'cityblock', 'sokalmichener', 'seuclidean', 'rogerstanimoto', 'correlation', 'minkowski', 'kulsinski', 'chebyshev', 'sqeuclidean', 'sokalsneath', 'jaccard', 'dice', 'canberra_adkins')\n",
    "clustering_methods = ('nj', 'upgma')\n",
    "correlation_methods = ('pearson', 'spearman')\n",
    "\n",
    "sampling_depth = max(min_feature_count, 1)\n",
    "metric = 'braycurtis'\n",
    "clustering_method = clustering_methods[0]\n",
    "correlation_method = correlation_methods[1]\n",
    "\n",
    "beta_rar = beta_rarefaction(\n",
    "    table = tabs,\n",
    "    sampling_depth  = sampling_depth,\n",
    "    metadata = metadata_qa,\n",
    "    metric = metric,\n",
    "    clustering_method = clustering_method,\n",
    "    correlation_method = correlation_method,\n",
    ")"
   ]
  },
  {
   "cell_type": "markdown",
   "id": "122ae6e2",
   "metadata": {
    "papermill": {
     "duration": null,
     "end_time": null,
     "exception": null,
     "start_time": null,
     "status": "pending"
    },
    "tags": []
   },
   "source": [
    " ## Beta diversity PCoA\n",
    " Ellipses represent 95% confidence intervals."
   ]
  },
  {
   "cell_type": "code",
   "execution_count": null,
   "id": "6c4aad8a",
   "metadata": {
    "ExecuteTime": {
     "end_time": "2022-09-22T21:56:22.170995Z",
     "start_time": "2022-09-22T21:56:22.048827Z"
    },
    "papermill": {
     "duration": null,
     "end_time": null,
     "exception": null,
     "start_time": null,
     "status": "pending"
    },
    "tags": []
   },
   "outputs": [],
   "source": [
    "plot_tmp = f'{metric}-{clustering_method}-{correlation_method}-{sampling_depth}'\n",
    "beta_rarefaction_view_path = os.path.join(qiime_folder, f'beta-rarefaction-{plot_tmp}.qzv')\n",
    "beta_rar.visualization.save(beta_rarefaction_view_path)\n",
    "\n",
    "beta_rar.visualization"
   ]
  }
 ],
 "metadata": {
  "celltoolbar": "Edit Metadata",
  "kernelspec": {
   "display_name": "Python 3 (ipykernel)",
   "language": "python",
   "name": "python3"
  },
  "language_info": {
   "codemirror_mode": {
    "name": "ipython",
    "version": 3
   },
   "file_extension": ".py",
   "mimetype": "text/x-python",
   "name": "python",
   "nbconvert_exporter": "python",
   "pygments_lexer": "ipython3",
   "version": "3.8.12"
  },
  "papermill": {
   "default_parameters": {},
   "duration": 11.597579,
   "end_time": "2023-06-07T06:04:30.007400",
   "environment_variables": {},
   "exception": true,
   "input_path": "nb-templates/step-rarefaction-analysis.ipynb",
   "output_path": "/home/lauro/nupeb/rede-micro/redemicro-ana-flavia-nutri/experiments/ana-flavia-NRxHSD-NR-trim/nb-executed-steps/step-rarefaction-analysis-ana-flavia-NRxHSD-NR-trim.ipynb",
   "parameters": {
    "base_dir": "/home/lauro/nupeb/rede-micro/redemicro-ana-flavia-nutri",
    "class_col": "group-id",
    "classifier_file": "/home/lauro/nupeb/rede-micro/models/silva-138-99-nb-classifier.qza",
    "experiment_name": "ana-flavia-NRxHSD-NR-trim",
    "manifest_file": "/home/lauro/nupeb/rede-micro/redemicro-ana-flavia-nutri/data/raw/manifest/manifest-ana-flavia-NRxHSD-NR.csv",
    "metadata_file": "/home/lauro/nupeb/rede-micro/redemicro-ana-flavia-nutri/data/raw/metadata/metadata-ana-flavia-NRxHSD-NR.tsv",
    "overlap": 12,
    "phred": 20,
    "replace_files": false,
    "threads": 6,
    "top_n": 20,
    "trim": {
     "forward_primer": "CCTACGGGRSGCAGCAG",
     "overlap": 8,
     "reverse_primer": "GGACTACHVGGGTWTCTAAT"
    },
    "trunc_f": 0,
    "trunc_r": 0
   },
   "start_time": "2023-06-07T06:04:18.409821",
   "version": "2.3.4"
  },
  "toc-autonumbering": false,
  "toc-showcode": false,
  "toc-showmarkdowntxt": false
 },
 "nbformat": 4,
 "nbformat_minor": 5
}