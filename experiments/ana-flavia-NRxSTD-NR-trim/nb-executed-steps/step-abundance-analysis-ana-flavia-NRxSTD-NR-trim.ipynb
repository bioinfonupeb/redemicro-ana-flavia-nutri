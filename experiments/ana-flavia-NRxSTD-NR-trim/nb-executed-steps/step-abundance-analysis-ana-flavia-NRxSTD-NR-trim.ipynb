{
 "cells": [
  {
   "cell_type": "markdown",
   "id": "0e7f2330",
   "metadata": {
    "ExecuteTime": {
     "end_time": "2022-09-22T19:36:33.828188Z",
     "start_time": "2022-09-22T19:36:33.817323Z"
    },
    "papermill": {
     "duration": 0.017476,
     "end_time": "2023-08-23T19:52:37.521426",
     "exception": false,
     "start_time": "2023-08-23T19:52:37.503950",
     "status": "completed"
    },
    "tags": []
   },
   "source": [
    "### STEP : Diversity Analysis\n",
    "\n",
    "\n",
    "\n",
    "#### Example\n",
    "\n",
    "- [“Moving Pictures” tutorial](https://docs.qiime2.org/2022.8/tutorials/moving-pictures-usage/?highlight=ancom)\n",
    "- [Biostats ANCOM](http://scikit-bio.org/docs/0.4.2/generated/generated/skbio.stats.composition.ancom.html)\n",
    "\n",
    "\n",
    "#### Methods\n",
    "- [composition](https://docs.qiime2.org/2022.8/plugins/available/composition/)\n",
    "- [composition add_pseudocount](https://docs.qiime2.org/2022.8/plugins/available/composition/add-pseudocount/): Increment all counts in table by pseudocount.\n",
    "- [composition ancom](https://docs.qiime2.org/2022.8/plugins/available/composition/ancom/): Apply ANCOM to identify features that differ in abundance."
   ]
  },
  {
   "cell_type": "markdown",
   "id": "843debbf",
   "metadata": {
    "papermill": {
     "duration": 0.00925,
     "end_time": "2023-08-23T19:52:37.547180",
     "exception": false,
     "start_time": "2023-08-23T19:52:37.537930",
     "status": "completed"
    },
    "tags": []
   },
   "source": [
    "## Setup and settings"
   ]
  },
  {
   "cell_type": "code",
   "execution_count": 1,
   "id": "965e28e5",
   "metadata": {
    "ExecuteTime": {
     "end_time": "2022-11-03T20:35:26.198671Z",
     "start_time": "2022-11-03T20:35:06.473173Z"
    },
    "execution": {
     "iopub.execute_input": "2023-08-23T19:52:37.566666Z",
     "iopub.status.busy": "2023-08-23T19:52:37.566288Z",
     "iopub.status.idle": "2023-08-23T19:52:44.363512Z",
     "shell.execute_reply": "2023-08-23T19:52:44.362811Z"
    },
    "papermill": {
     "duration": 6.810245,
     "end_time": "2023-08-23T19:52:44.366641",
     "exception": false,
     "start_time": "2023-08-23T19:52:37.556396",
     "status": "completed"
    },
    "tags": []
   },
   "outputs": [],
   "source": [
    "# Importing packages\n",
    "import os\n",
    "import pandas as pd\n",
    "from qiime2 import Artifact\n",
    "from qiime2 import Visualization\n",
    "from qiime2 import Metadata\n",
    "\n",
    "from qiime2.plugins.composition.visualizers import ancom\n",
    "from qiime2.plugins.composition.methods import add_pseudocount\n",
    "\n",
    "%matplotlib inline"
   ]
  },
  {
   "cell_type": "markdown",
   "id": "530ceb60",
   "metadata": {
    "papermill": {
     "duration": 0.075178,
     "end_time": "2023-08-23T19:52:44.458225",
     "exception": false,
     "start_time": "2023-08-23T19:52:44.383047",
     "status": "completed"
    },
    "tags": []
   },
   "source": [
    "### Receiving the parameters\n",
    "\n",
    "The following cell can receive parameters using the [papermill](https://papermill.readthedocs.io/en/latest/) tool."
   ]
  },
  {
   "cell_type": "code",
   "execution_count": 2,
   "id": "18d874ea",
   "metadata": {
    "ExecuteTime": {
     "end_time": "2022-09-29T20:54:14.793270Z",
     "start_time": "2022-09-29T20:54:14.789367Z"
    },
    "execution": {
     "iopub.execute_input": "2023-08-23T19:52:44.526643Z",
     "iopub.status.busy": "2023-08-23T19:52:44.526255Z",
     "iopub.status.idle": "2023-08-23T19:52:44.530924Z",
     "shell.execute_reply": "2023-08-23T19:52:44.530157Z"
    },
    "papermill": {
     "duration": 0.01444,
     "end_time": "2023-08-23T19:52:44.532408",
     "exception": false,
     "start_time": "2023-08-23T19:52:44.517968",
     "status": "completed"
    },
    "tags": [
     "parameters"
    ]
   },
   "outputs": [],
   "source": [
    "metadata_file = '/home/lauro/nupeb/rede-micro/redemicro-miliane-nutri/data/raw/metadata/miliane-metadata-CxAC.tsv'\n",
    "base_dir = os.path.join('/', 'home', 'lauro', 'nupeb', 'rede-micro', 'redemicro-miliane-nutri')\n",
    "experiment_name = 'miliane-CxAC-trim'\n",
    "class_col = 'group-id'\n",
    "replace_files = False"
   ]
  },
  {
   "cell_type": "code",
   "execution_count": 3,
   "id": "ef9e62cf",
   "metadata": {
    "execution": {
     "iopub.execute_input": "2023-08-23T19:52:44.549402Z",
     "iopub.status.busy": "2023-08-23T19:52:44.549033Z",
     "iopub.status.idle": "2023-08-23T19:52:44.555619Z",
     "shell.execute_reply": "2023-08-23T19:52:44.554774Z"
    },
    "papermill": {
     "duration": 0.016814,
     "end_time": "2023-08-23T19:52:44.557170",
     "exception": false,
     "start_time": "2023-08-23T19:52:44.540356",
     "status": "completed"
    },
    "tags": [
     "injected-parameters"
    ]
   },
   "outputs": [],
   "source": [
    "# Parameters\n",
    "experiment_name = \"ana-flavia-NRxSTD-NR-trim\"\n",
    "base_dir = \"/home/lauro/nupeb/rede-micro/redemicro-ana-flavia-nutri\"\n",
    "manifest_file = \"/home/lauro/nupeb/rede-micro/redemicro-ana-flavia-nutri/data/raw/manifest/manifest-ana-flavia-NRxSTD-NR.csv\"\n",
    "metadata_file = \"/home/lauro/nupeb/rede-micro/redemicro-ana-flavia-nutri/data/raw/metadata/metadata-ana-flavia-NRxSTD-NR.tsv\"\n",
    "class_col = \"group-id\"\n",
    "classifier_file = \"/home/lauro/nupeb/rede-micro/models/silva-138-99-nb-classifier.qza\"\n",
    "top_n = 20\n",
    "replace_files = False\n",
    "phred = 20\n",
    "trunc_f = 0\n",
    "trunc_r = 0\n",
    "overlap = 12\n",
    "threads = 6\n",
    "trim = {\n",
    "    \"overlap\": 8,\n",
    "    \"forward_primer\": \"CCTACGGGRSGCAGCAG\",\n",
    "    \"reverse_primer\": \"GGACTACHVGGGTWTCTAAT\",\n",
    "}\n"
   ]
  },
  {
   "cell_type": "code",
   "execution_count": 4,
   "id": "f38617d9",
   "metadata": {
    "ExecuteTime": {
     "end_time": "2022-09-29T20:54:14.804575Z",
     "start_time": "2022-09-29T20:54:14.794927Z"
    },
    "execution": {
     "iopub.execute_input": "2023-08-23T19:52:44.573956Z",
     "iopub.status.busy": "2023-08-23T19:52:44.573740Z",
     "iopub.status.idle": "2023-08-23T19:52:44.577366Z",
     "shell.execute_reply": "2023-08-23T19:52:44.576671Z"
    },
    "papermill": {
     "duration": 0.013356,
     "end_time": "2023-08-23T19:52:44.578850",
     "exception": false,
     "start_time": "2023-08-23T19:52:44.565494",
     "status": "completed"
    },
    "tags": []
   },
   "outputs": [],
   "source": [
    "experiment_folder = os.path.abspath(os.path.join(base_dir, 'experiments', experiment_name))\n",
    "img_folder = os.path.abspath(os.path.join(experiment_folder, 'imgs'))"
   ]
  },
  {
   "cell_type": "markdown",
   "id": "ea9b90fb",
   "metadata": {
    "papermill": {
     "duration": 0.007351,
     "end_time": "2023-08-23T19:52:44.593674",
     "exception": false,
     "start_time": "2023-08-23T19:52:44.586323",
     "status": "completed"
    },
    "tags": []
   },
   "source": [
    "### Defining names, paths and flags"
   ]
  },
  {
   "cell_type": "code",
   "execution_count": 5,
   "id": "45727eef",
   "metadata": {
    "ExecuteTime": {
     "end_time": "2022-09-29T20:54:14.816686Z",
     "start_time": "2022-09-29T20:54:14.806238Z"
    },
    "execution": {
     "iopub.execute_input": "2023-08-23T19:52:44.609569Z",
     "iopub.status.busy": "2023-08-23T19:52:44.609184Z",
     "iopub.status.idle": "2023-08-23T19:52:44.614345Z",
     "shell.execute_reply": "2023-08-23T19:52:44.613460Z"
    },
    "papermill": {
     "duration": 0.014822,
     "end_time": "2023-08-23T19:52:44.615827",
     "exception": false,
     "start_time": "2023-08-23T19:52:44.601005",
     "status": "completed"
    },
    "tags": []
   },
   "outputs": [],
   "source": [
    "# QIIME2 Artifacts folder\n",
    "qiime_folder = os.path.join(experiment_folder, 'qiime-artifacts')\n",
    "\n",
    "# Input - DADA2 Artifacts\n",
    "dada2_tabs_path = os.path.join(qiime_folder, 'dada2-tabs.qza')"
   ]
  },
  {
   "cell_type": "markdown",
   "id": "0999a1b2",
   "metadata": {
    "papermill": {
     "duration": 0.007336,
     "end_time": "2023-08-23T19:52:44.630613",
     "exception": false,
     "start_time": "2023-08-23T19:52:44.623277",
     "status": "completed"
    },
    "tags": []
   },
   "source": [
    "## Step execution\n",
    "\n",
    "### Load input files\n",
    "\n",
    "This Step import the QIIME2 `FeatureTable[Frequency]` Artifact and the `Metadata` file."
   ]
  },
  {
   "cell_type": "code",
   "execution_count": 6,
   "id": "8f299d1a",
   "metadata": {
    "ExecuteTime": {
     "end_time": "2022-09-29T20:54:15.559837Z",
     "start_time": "2022-09-29T20:54:14.830405Z"
    },
    "execution": {
     "iopub.execute_input": "2023-08-23T19:52:44.646822Z",
     "iopub.status.busy": "2023-08-23T19:52:44.646415Z",
     "iopub.status.idle": "2023-08-23T19:52:45.925035Z",
     "shell.execute_reply": "2023-08-23T19:52:45.924312Z"
    },
    "papermill": {
     "duration": 1.289975,
     "end_time": "2023-08-23T19:52:45.928005",
     "exception": false,
     "start_time": "2023-08-23T19:52:44.638030",
     "status": "completed"
    },
    "tags": []
   },
   "outputs": [],
   "source": [
    "#Load Metadata\n",
    "metadata_qa = Metadata.load(metadata_file)\n",
    "\n",
    "#Load FeatureTable[Frequency]\n",
    "tabs = Artifact.load(dada2_tabs_path)\n",
    "tabs_df = tabs.view(Metadata).to_dataframe().T"
   ]
  },
  {
   "cell_type": "markdown",
   "id": "a9a446c4",
   "metadata": {
    "papermill": {
     "duration": 0.03141,
     "end_time": "2023-08-23T19:52:45.975803",
     "exception": false,
     "start_time": "2023-08-23T19:52:45.944393",
     "status": "completed"
    },
    "tags": []
   },
   "source": [
    "# ANCOM\n",
    "\n",
    "Apply Analysis of Composition of Microbiomes (ANCOM) to identify features\n",
    "that are differentially abundant across groups.\n",
    "\n",
    "- [composition add_pseudocount](https://docs.qiime2.org/2022.8/plugins/available/composition/add-pseudocount/): Increment all counts in table by pseudocount.\n",
    "- [composition ancom](https://docs.qiime2.org/2022.8/plugins/available/composition/ancom/): Apply ANCOM to identify features that differ in abundance."
   ]
  },
  {
   "cell_type": "code",
   "execution_count": 7,
   "id": "cda81bf5",
   "metadata": {
    "execution": {
     "iopub.execute_input": "2023-08-23T19:52:46.018813Z",
     "iopub.status.busy": "2023-08-23T19:52:46.018542Z",
     "iopub.status.idle": "2023-08-23T19:52:46.023509Z",
     "shell.execute_reply": "2023-08-23T19:52:46.022656Z"
    },
    "papermill": {
     "duration": 0.028433,
     "end_time": "2023-08-23T19:52:46.025262",
     "exception": false,
     "start_time": "2023-08-23T19:52:45.996829",
     "status": "completed"
    },
    "tags": []
   },
   "outputs": [],
   "source": [
    "# Select class column\n",
    "column = metadata_qa.get_column(class_col)"
   ]
  },
  {
   "cell_type": "code",
   "execution_count": 8,
   "id": "2f023bcc",
   "metadata": {
    "execution": {
     "iopub.execute_input": "2023-08-23T19:52:46.045231Z",
     "iopub.status.busy": "2023-08-23T19:52:46.044984Z",
     "iopub.status.idle": "2023-08-23T19:52:46.365774Z",
     "shell.execute_reply": "2023-08-23T19:52:46.364946Z"
    },
    "papermill": {
     "duration": 0.333415,
     "end_time": "2023-08-23T19:52:46.368115",
     "exception": false,
     "start_time": "2023-08-23T19:52:46.034700",
     "status": "completed"
    },
    "tags": []
   },
   "outputs": [],
   "source": [
    "# Create the pseudocount table\n",
    "composition_tab = add_pseudocount(table = tabs).composition_table"
   ]
  },
  {
   "cell_type": "code",
   "execution_count": 9,
   "id": "2999c2f6",
   "metadata": {
    "execution": {
     "iopub.execute_input": "2023-08-23T19:52:46.393618Z",
     "iopub.status.busy": "2023-08-23T19:52:46.393293Z",
     "iopub.status.idle": "2023-08-23T19:52:46.615861Z",
     "shell.execute_reply": "2023-08-23T19:52:46.615188Z"
    },
    "papermill": {
     "duration": 0.235581,
     "end_time": "2023-08-23T19:52:46.618881",
     "exception": false,
     "start_time": "2023-08-23T19:52:46.383300",
     "status": "completed"
    },
    "tags": []
   },
   "outputs": [
    {
     "name": "stdout",
     "output_type": "stream",
     "text": [
      "Calculating ANCOM with: sqrt mean_difference\n",
      "ERROR: Calculating ANCOM with: sqrt mean_difference\n",
      "The following IDs are not present in the metadata: 'S210421121673', 'S210421121674', 'S210421121675', 'S210421121676', 'S210421121682', 'S210421121683', 'S210421121684', 'S210421121688', 'S210421121689', 'S210421121690', 'S210421121691', 'S210421121692', 'S210421121693', 'S210421121694', 'S210421121695', 'S210421121696', 'S210421121697', 'S210421121698', 'S210421121699', 'S210421121700', 'S210421121701', 'S210421121702', 'S210421121707', 'S210421121708', 'S210421121709', 'S210421121710', 'S210421121711', 'S210421121712', 'S210421121713', 'S210421121714', 'S210421121715', 'S210421121716', 'S210421121717', 'S210421121718', 'S210421121719', 'S210421121720', 'S210421121721', 'S210421121722', 'S210421121723', 'S210421121724', 'S210421121725', 'S210421121726', 'S210421121727', 'S210421121728', 'S210421121729', 'S210421121730', 'S210421121731', 'S210421121732', 'S210421121733', 'S210421121734', 'S210707163906', 'S210707163907', 'S210707163908', 'S210707163909', 'S210707163910', 'S210707163911', 'S210707163912', 'S210707163913', 'S210707163914', 'S210707163915', 'S210707163916', 'S210707163917'\n",
      "Calculating ANCOM with: sqrt f_statistic\n",
      "ERROR: Calculating ANCOM with: sqrt f_statistic\n",
      "The following IDs are not present in the metadata: 'S210421121673', 'S210421121674', 'S210421121675', 'S210421121676', 'S210421121682', 'S210421121683', 'S210421121684', 'S210421121688', 'S210421121689', 'S210421121690', 'S210421121691', 'S210421121692', 'S210421121693', 'S210421121694', 'S210421121695', 'S210421121696', 'S210421121697', 'S210421121698', 'S210421121699', 'S210421121700', 'S210421121701', 'S210421121702', 'S210421121707', 'S210421121708', 'S210421121709', 'S210421121710', 'S210421121711', 'S210421121712', 'S210421121713', 'S210421121714', 'S210421121715', 'S210421121716', 'S210421121717', 'S210421121718', 'S210421121719', 'S210421121720', 'S210421121721', 'S210421121722', 'S210421121723', 'S210421121724', 'S210421121725', 'S210421121726', 'S210421121727', 'S210421121728', 'S210421121729', 'S210421121730', 'S210421121731', 'S210421121732', 'S210421121733', 'S210421121734', 'S210707163906', 'S210707163907', 'S210707163908', 'S210707163909', 'S210707163910', 'S210707163911', 'S210707163912', 'S210707163913', 'S210707163914', 'S210707163915', 'S210707163916', 'S210707163917'\n",
      "Calculating ANCOM with: log mean_difference\n",
      "ERROR: Calculating ANCOM with: log mean_difference\n",
      "The following IDs are not present in the metadata: 'S210421121673', 'S210421121674', 'S210421121675', 'S210421121676', 'S210421121682', 'S210421121683', 'S210421121684', 'S210421121688', 'S210421121689', 'S210421121690', 'S210421121691', 'S210421121692', 'S210421121693', 'S210421121694', 'S210421121695', 'S210421121696', 'S210421121697', 'S210421121698', 'S210421121699', 'S210421121700', 'S210421121701', 'S210421121702', 'S210421121707', 'S210421121708', 'S210421121709', 'S210421121710', 'S210421121711', 'S210421121712', 'S210421121713', 'S210421121714', 'S210421121715', 'S210421121716', 'S210421121717', 'S210421121718', 'S210421121719', 'S210421121720', 'S210421121721', 'S210421121722', 'S210421121723', 'S210421121724', 'S210421121725', 'S210421121726', 'S210421121727', 'S210421121728', 'S210421121729', 'S210421121730', 'S210421121731', 'S210421121732', 'S210421121733', 'S210421121734', 'S210707163906', 'S210707163907', 'S210707163908', 'S210707163909', 'S210707163910', 'S210707163911', 'S210707163912', 'S210707163913', 'S210707163914', 'S210707163915', 'S210707163916', 'S210707163917'\n",
      "Calculating ANCOM with: log f_statistic\n",
      "ERROR: Calculating ANCOM with: log f_statistic\n",
      "The following IDs are not present in the metadata: 'S210421121673', 'S210421121674', 'S210421121675', 'S210421121676', 'S210421121682', 'S210421121683', 'S210421121684', 'S210421121688', 'S210421121689', 'S210421121690', 'S210421121691', 'S210421121692', 'S210421121693', 'S210421121694', 'S210421121695', 'S210421121696', 'S210421121697', 'S210421121698', 'S210421121699', 'S210421121700', 'S210421121701', 'S210421121702', 'S210421121707', 'S210421121708', 'S210421121709', 'S210421121710', 'S210421121711', 'S210421121712', 'S210421121713', 'S210421121714', 'S210421121715', 'S210421121716', 'S210421121717', 'S210421121718', 'S210421121719', 'S210421121720', 'S210421121721', 'S210421121722', 'S210421121723', 'S210421121724', 'S210421121725', 'S210421121726', 'S210421121727', 'S210421121728', 'S210421121729', 'S210421121730', 'S210421121731', 'S210421121732', 'S210421121733', 'S210421121734', 'S210707163906', 'S210707163907', 'S210707163908', 'S210707163909', 'S210707163910', 'S210707163911', 'S210707163912', 'S210707163913', 'S210707163914', 'S210707163915', 'S210707163916', 'S210707163917'\n",
      "Calculating ANCOM with: clr mean_difference\n",
      "ERROR: Calculating ANCOM with: clr mean_difference\n",
      "The following IDs are not present in the metadata: 'S210421121673', 'S210421121674', 'S210421121675', 'S210421121676', 'S210421121682', 'S210421121683', 'S210421121684', 'S210421121688', 'S210421121689', 'S210421121690', 'S210421121691', 'S210421121692', 'S210421121693', 'S210421121694', 'S210421121695', 'S210421121696', 'S210421121697', 'S210421121698', 'S210421121699', 'S210421121700', 'S210421121701', 'S210421121702', 'S210421121707', 'S210421121708', 'S210421121709', 'S210421121710', 'S210421121711', 'S210421121712', 'S210421121713', 'S210421121714', 'S210421121715', 'S210421121716', 'S210421121717', 'S210421121718', 'S210421121719', 'S210421121720', 'S210421121721', 'S210421121722', 'S210421121723', 'S210421121724', 'S210421121725', 'S210421121726', 'S210421121727', 'S210421121728', 'S210421121729', 'S210421121730', 'S210421121731', 'S210421121732', 'S210421121733', 'S210421121734', 'S210707163906', 'S210707163907', 'S210707163908', 'S210707163909', 'S210707163910', 'S210707163911', 'S210707163912', 'S210707163913', 'S210707163914', 'S210707163915', 'S210707163916', 'S210707163917'\n",
      "Calculating ANCOM with: clr f_statistic\n"
     ]
    },
    {
     "name": "stdout",
     "output_type": "stream",
     "text": [
      "ERROR: Calculating ANCOM with: clr f_statistic\n",
      "The following IDs are not present in the metadata: 'S210421121673', 'S210421121674', 'S210421121675', 'S210421121676', 'S210421121682', 'S210421121683', 'S210421121684', 'S210421121688', 'S210421121689', 'S210421121690', 'S210421121691', 'S210421121692', 'S210421121693', 'S210421121694', 'S210421121695', 'S210421121696', 'S210421121697', 'S210421121698', 'S210421121699', 'S210421121700', 'S210421121701', 'S210421121702', 'S210421121707', 'S210421121708', 'S210421121709', 'S210421121710', 'S210421121711', 'S210421121712', 'S210421121713', 'S210421121714', 'S210421121715', 'S210421121716', 'S210421121717', 'S210421121718', 'S210421121719', 'S210421121720', 'S210421121721', 'S210421121722', 'S210421121723', 'S210421121724', 'S210421121725', 'S210421121726', 'S210421121727', 'S210421121728', 'S210421121729', 'S210421121730', 'S210421121731', 'S210421121732', 'S210421121733', 'S210421121734', 'S210707163906', 'S210707163907', 'S210707163908', 'S210707163909', 'S210707163910', 'S210707163911', 'S210707163912', 'S210707163913', 'S210707163914', 'S210707163915', 'S210707163916', 'S210707163917'\n"
     ]
    }
   ],
   "source": [
    "# Create visualizations for each parameter combination for the ANCOM  method.\n",
    "transform_functions = ('sqrt', 'log', 'clr')\n",
    "difference_functions = ('mean_difference', 'f_statistic')\n",
    "for t in transform_functions:\n",
    "    for d in difference_functions:\n",
    "        print(f\"Calculating ANCOM with: {t} {d}\")\n",
    "        try:\n",
    "            ancom_viz = ancom(\n",
    "                table = composition_tab, \n",
    "                metadata = column, \n",
    "                transform_function = t, \n",
    "                difference_function = d\n",
    "            ).visualization\n",
    "            view_name = os.path.join(qiime_folder, f'ancom-{t}-{d}.qzv')\n",
    "            ancom_viz.save(view_name)\n",
    "        except Exception as e:\n",
    "            print(f\"ERROR: Calculating ANCOM with: {t} {d}\")\n",
    "            print(e)"
   ]
  }
 ],
 "metadata": {
  "celltoolbar": "Edit Metadata",
  "kernelspec": {
   "display_name": "Python 3 (ipykernel)",
   "language": "python",
   "name": "python3"
  },
  "language_info": {
   "codemirror_mode": {
    "name": "ipython",
    "version": 3
   },
   "file_extension": ".py",
   "mimetype": "text/x-python",
   "name": "python",
   "nbconvert_exporter": "python",
   "pygments_lexer": "ipython3",
   "version": "3.8.12"
  },
  "papermill": {
   "default_parameters": {},
   "duration": 11.412379,
   "end_time": "2023-08-23T19:52:47.454505",
   "environment_variables": {},
   "exception": null,
   "input_path": "nb-templates/step-abundance-analysis.ipynb",
   "output_path": "/home/lauro/nupeb/rede-micro/redemicro-ana-flavia-nutri/experiments/ana-flavia-NRxSTD-NR-trim/nb-executed-steps/step-abundance-analysis-ana-flavia-NRxSTD-NR-trim.ipynb",
   "parameters": {
    "base_dir": "/home/lauro/nupeb/rede-micro/redemicro-ana-flavia-nutri",
    "class_col": "group-id",
    "classifier_file": "/home/lauro/nupeb/rede-micro/models/silva-138-99-nb-classifier.qza",
    "experiment_name": "ana-flavia-NRxSTD-NR-trim",
    "manifest_file": "/home/lauro/nupeb/rede-micro/redemicro-ana-flavia-nutri/data/raw/manifest/manifest-ana-flavia-NRxSTD-NR.csv",
    "metadata_file": "/home/lauro/nupeb/rede-micro/redemicro-ana-flavia-nutri/data/raw/metadata/metadata-ana-flavia-NRxSTD-NR.tsv",
    "overlap": 12,
    "phred": 20,
    "replace_files": false,
    "threads": 6,
    "top_n": 20,
    "trim": {
     "forward_primer": "CCTACGGGRSGCAGCAG",
     "overlap": 8,
     "reverse_primer": "GGACTACHVGGGTWTCTAAT"
    },
    "trunc_f": 0,
    "trunc_r": 0
   },
   "start_time": "2023-08-23T19:52:36.042126",
   "version": "2.3.4"
  }
 },
 "nbformat": 4,
 "nbformat_minor": 5
}