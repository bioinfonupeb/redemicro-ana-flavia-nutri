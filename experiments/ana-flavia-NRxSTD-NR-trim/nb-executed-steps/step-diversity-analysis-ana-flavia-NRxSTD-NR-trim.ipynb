{
 "cells": [
  {
   "cell_type": "markdown",
   "id": "15bcfa06",
   "metadata": {
    "papermill": {
     "duration": 0.004091,
     "end_time": "2024-03-05T22:18:51.939695",
     "exception": false,
     "start_time": "2024-03-05T22:18:51.935604",
     "status": "completed"
    },
    "tags": []
   },
   "source": [
    " \n",
    "# Alpha and Beta Diversity\n",
    "\n",
    "Different higher-level measures are often used to describe the microbiome in a sample. These do not provide information on changes in the abundance of specific taxa but allow us to access a broader change or difference in the composition of microorganisms. Alpha and beta diversity are examples of such measures.\n",
    "\n",
    "Different measures exist to estimate diversity within a single sample, jointly called alpha diversity. The different measures reflect the richness (number) or distribution (evenness) of a microbial sample or aim to reflect a combination of both properties.\n",
    "\n",
    "Rarefaction curves are often used when calculating alpha diversity indices because increasing numbers of sequenced taxa allow increasingly accurate estimates of total population diversity. Rarefaction curves can therefore be used to estimate the full sample richness, as compared to the observed sample richness.\n",
    "\n",
    "While alpha diversity is a measure of microbiome diversity applicable to a single sample, beta diversity is a measure of the similarity or dissimilarity of two communities. As for alpha diversity, many indices exist, each reflecting different aspects of community heterogeneity. Key differences relate to how the indices value variation in rare species if they consider presence/absence only or incorporate abundance, and how they interpret shared absence. Bray-Curtis dissimilarity is a popular measure that considers both size (overall abundance per sample) and shape (abundance of each taxon) of the communities (Bray, 1957). Beta diversity is an essential measure for many popular statistical methods in ecology, such as ordination-based methods, and is widely used for studying the association between environmental variables and microbial composition.\n",
    "\n",
    "In summary, alpha diversity measures can be seen as a summary statistic of a single population (within-sample diversity), while beta diversity measures are estimates of similarity or dissimilarity between populations (between samples).\n",
    "\n",
    "**Source**: (https://biomcare.com/info/key-terms-in-microbiome-projects/)"
   ]
  },
  {
   "cell_type": "markdown",
   "id": "0e7f2330",
   "metadata": {
    "ExecuteTime": {
     "end_time": "2022-09-22T19:36:33.828188Z",
     "start_time": "2022-09-22T19:36:33.817323Z"
    },
    "papermill": {
     "duration": 0.029891,
     "end_time": "2024-03-05T22:18:52.002697",
     "exception": false,
     "start_time": "2024-03-05T22:18:51.972806",
     "status": "completed"
    },
    "tags": []
   },
   "source": [
    "### STEP : Diversity Analysis\n",
    "\n",
    "Using QIIME2 to create diversity analisys graphs and calculations.\n",
    "\n",
    "- [QIIME2 Workflow Overview](https://docs.qiime2.org/2022.8/tutorials/overview/)\n",
    "\n",
    "\n",
    "#### Methods\n",
    "- [diversity](https://docs.qiime2.org/2022.8/plugins/available/diversity/)\n",
    "- [diversity alpha](https://docs.qiime2.org/2022.8/plugins/available/diversity/alpha/)\n",
    "- [diversity alpha_phylogenetic](https://docs.qiime2.org/2022.8/plugins/available/diversity/alpha-phylogenetic/)\n",
    "- [diversity beta](https://docs.qiime2.org/2022.8/plugins/available/diversity/beta/)\n",
    "- [diversity core_metrics](https://docs.qiime2.org/2022.8/plugins/available/diversity/core-metrics/)\n",
    "- [diversity alpha_group_significance](https://docs.qiime2.org/2022.8/plugins/available/diversity/alpha-group-significance/)\n",
    "- [diversity beta_group_significance](https://docs.qiime2.org/2022.8/plugins/available/diversity/beta-group-significance/)\n",
    "- [feature_table core_features](https://docs.qiime2.org/2022.8/plugins/available/feature-table/core-features/)\n",
    "- [feature_table summarize](https://docs.qiime2.org/2022.8/plugins/available/feature-table/summarize/)\n",
    "- [taxa filter-table](https://docs.qiime2.org/2022.8/plugins/available/taxa/filter-table/)\n",
    "- [taxa collapse](https://docs.qiime2.org/2022.8/plugins/available/taxa/collapse/)"
   ]
  },
  {
   "cell_type": "markdown",
   "id": "843debbf",
   "metadata": {
    "papermill": {
     "duration": 0.002845,
     "end_time": "2024-03-05T22:18:52.008471",
     "exception": false,
     "start_time": "2024-03-05T22:18:52.005626",
     "status": "completed"
    },
    "tags": []
   },
   "source": [
    "## Setup and settings"
   ]
  },
  {
   "cell_type": "code",
   "execution_count": 1,
   "id": "965e28e5",
   "metadata": {
    "ExecuteTime": {
     "end_time": "2022-11-03T20:35:26.198671Z",
     "start_time": "2022-11-03T20:35:06.473173Z"
    },
    "execution": {
     "iopub.execute_input": "2024-03-05T22:18:52.015079Z",
     "iopub.status.busy": "2024-03-05T22:18:52.014870Z",
     "iopub.status.idle": "2024-03-05T22:18:57.142186Z",
     "shell.execute_reply": "2024-03-05T22:18:57.141652Z"
    },
    "papermill": {
     "duration": 5.132237,
     "end_time": "2024-03-05T22:18:57.143479",
     "exception": false,
     "start_time": "2024-03-05T22:18:52.011242",
     "status": "completed"
    },
    "tags": []
   },
   "outputs": [],
   "source": [
    "# Importing packages\n",
    "import os\n",
    "import pandas as pd\n",
    "from qiime2 import Artifact\n",
    "from qiime2 import Visualization\n",
    "from qiime2 import Metadata\n",
    "\n",
    "from qiime2.plugins.phylogeny.pipelines import align_to_tree_mafft_fasttree\n",
    "\n",
    "from qiime2.plugins.diversity.pipelines import alpha\n",
    "from qiime2.plugins.diversity.pipelines import beta\n",
    "from qiime2.plugins.diversity.pipelines import core_metrics\n",
    "from qiime2.plugins.diversity.pipelines import alpha_phylogenetic\n",
    "\n",
    "from qiime2.plugins.diversity.visualizers import alpha_group_significance\n",
    "from qiime2.plugins.diversity.visualizers import beta_group_significance\n",
    "from qiime2.plugins.diversity.visualizers import alpha_correlation\n",
    "from qiime2.plugins.diversity.visualizers import beta_rarefaction\n",
    "\n",
    "from qiime2.plugins.taxa.methods import filter_table\n",
    "from qiime2.plugins.taxa.methods import collapse\n",
    "\n",
    "from qiime2.plugins.feature_table.visualizers import tabulate_seqs\n",
    "from qiime2.plugins.feature_table.visualizers import summarize\n",
    "from qiime2.plugins.feature_table.visualizers import core_features\n",
    "from qiime2.plugins.diversity.pipelines import core_metrics_phylogenetic\n",
    "\n",
    "from qiime2.plugins.feature_table.methods import filter_samples\n",
    "from qiime2.plugins.feature_table.methods import filter_seqs\n",
    "\n",
    "from qiime2.plugins.alignment.methods import mafft\n",
    "\n",
    "\n",
    "import matplotlib.pyplot as plt\n",
    "\n",
    "%matplotlib inline"
   ]
  },
  {
   "cell_type": "markdown",
   "id": "530ceb60",
   "metadata": {
    "papermill": {
     "duration": 0.002892,
     "end_time": "2024-03-05T22:18:57.149532",
     "exception": false,
     "start_time": "2024-03-05T22:18:57.146640",
     "status": "completed"
    },
    "tags": []
   },
   "source": [
    "### Receiving the parameters\n",
    "\n",
    "The following cell can receive parameters using the [papermill](https://papermill.readthedocs.io/en/latest/) tool."
   ]
  },
  {
   "cell_type": "code",
   "execution_count": 2,
   "id": "18d874ea",
   "metadata": {
    "ExecuteTime": {
     "end_time": "2022-09-29T20:54:14.793270Z",
     "start_time": "2022-09-29T20:54:14.789367Z"
    },
    "execution": {
     "iopub.execute_input": "2024-03-05T22:18:57.156349Z",
     "iopub.status.busy": "2024-03-05T22:18:57.156009Z",
     "iopub.status.idle": "2024-03-05T22:18:57.158913Z",
     "shell.execute_reply": "2024-03-05T22:18:57.158581Z"
    },
    "papermill": {
     "duration": 0.007462,
     "end_time": "2024-03-05T22:18:57.159854",
     "exception": false,
     "start_time": "2024-03-05T22:18:57.152392",
     "status": "completed"
    },
    "tags": [
     "parameters"
    ]
   },
   "outputs": [],
   "source": [
    "base_dir = os.path.join('/', 'home')\n",
    "metadata_file = os.path.abspath(os.path.join(base_dir, 'data', 'metadatada.tsv'))\n",
    "experiment_name = ''\n",
    "class_col = ''\n",
    "replace_files = False"
   ]
  },
  {
   "cell_type": "code",
   "execution_count": 3,
   "id": "814c2d1d",
   "metadata": {
    "execution": {
     "iopub.execute_input": "2024-03-05T22:18:57.166391Z",
     "iopub.status.busy": "2024-03-05T22:18:57.166227Z",
     "iopub.status.idle": "2024-03-05T22:18:57.169176Z",
     "shell.execute_reply": "2024-03-05T22:18:57.168663Z"
    },
    "papermill": {
     "duration": 0.007408,
     "end_time": "2024-03-05T22:18:57.170118",
     "exception": false,
     "start_time": "2024-03-05T22:18:57.162710",
     "status": "completed"
    },
    "tags": [
     "injected-parameters"
    ]
   },
   "outputs": [],
   "source": [
    "# Parameters\n",
    "base_dir = \"/mnt/nupeb/rede-micro/redemicro-ana-flavia-nutri\"\n",
    "class_col = \"group-id\"\n",
    "classifier_file = \"/mnt/nupeb/rede-micro/datasets/16S_classifiers_qiime2/silva-138-99-nb-classifier.qza\"\n",
    "experiment_name = \"ana-flavia-NRxSTD-NR-trim\"\n",
    "manifest_file = \"/mnt/nupeb/rede-micro/redemicro-ana-flavia-nutri/data/raw/manifest/manifest-ana-flavia-NRxSTD-NR.csv\"\n",
    "metadata_file = \"/mnt/nupeb/rede-micro/redemicro-ana-flavia-nutri/data/raw/metadata/metadata-ana-flavia-NRxSTD-NR.tsv\"\n",
    "overlap = 12\n",
    "phred = 20\n",
    "replace_files = False\n",
    "threads = 6\n",
    "top_n = 20\n",
    "trim = {\n",
    "    \"forward_primer\": \"CCTACGGGRSGCAGCAG\",\n",
    "    \"overlap\": 8,\n",
    "    \"reverse_primer\": \"GGACTACHVGGGTWTCTAAT\",\n",
    "}\n",
    "trunc_f = 0\n",
    "trunc_r = 0\n"
   ]
  },
  {
   "cell_type": "code",
   "execution_count": 4,
   "id": "f38617d9",
   "metadata": {
    "ExecuteTime": {
     "end_time": "2022-09-29T20:54:14.804575Z",
     "start_time": "2022-09-29T20:54:14.794927Z"
    },
    "execution": {
     "iopub.execute_input": "2024-03-05T22:18:57.176728Z",
     "iopub.status.busy": "2024-03-05T22:18:57.176567Z",
     "iopub.status.idle": "2024-03-05T22:18:57.178950Z",
     "shell.execute_reply": "2024-03-05T22:18:57.178638Z"
    },
    "papermill": {
     "duration": 0.006866,
     "end_time": "2024-03-05T22:18:57.179875",
     "exception": false,
     "start_time": "2024-03-05T22:18:57.173009",
     "status": "completed"
    },
    "tags": []
   },
   "outputs": [],
   "source": [
    "experiment_folder = os.path.abspath(os.path.join(base_dir, 'experiments', experiment_name))\n",
    "img_folder = os.path.abspath(os.path.join(experiment_folder, 'imgs'))"
   ]
  },
  {
   "cell_type": "markdown",
   "id": "ea9b90fb",
   "metadata": {
    "papermill": {
     "duration": 0.002919,
     "end_time": "2024-03-05T22:18:57.185753",
     "exception": false,
     "start_time": "2024-03-05T22:18:57.182834",
     "status": "completed"
    },
    "tags": []
   },
   "source": [
    "### Defining names, paths and flags"
   ]
  },
  {
   "cell_type": "code",
   "execution_count": 5,
   "id": "45727eef",
   "metadata": {
    "ExecuteTime": {
     "end_time": "2022-09-29T20:54:14.816686Z",
     "start_time": "2022-09-29T20:54:14.806238Z"
    },
    "execution": {
     "iopub.execute_input": "2024-03-05T22:18:57.192597Z",
     "iopub.status.busy": "2024-03-05T22:18:57.192431Z",
     "iopub.status.idle": "2024-03-05T22:18:57.197014Z",
     "shell.execute_reply": "2024-03-05T22:18:57.196563Z"
    },
    "papermill": {
     "duration": 0.008986,
     "end_time": "2024-03-05T22:18:57.198027",
     "exception": false,
     "start_time": "2024-03-05T22:18:57.189041",
     "status": "completed"
    },
    "tags": []
   },
   "outputs": [
    {
     "name": "stdout",
     "output_type": "stream",
     "text": [
      "The new directory is created in /mnt/nupeb/rede-micro/redemicro-ana-flavia-nutri/experiments/ana-flavia-NRxSTD-NR-trim/qiime-artifacts/alpha-analysis\n",
      "The new directory is created in /mnt/nupeb/rede-micro/redemicro-ana-flavia-nutri/experiments/ana-flavia-NRxSTD-NR-trim/qiime-artifacts/beta-analysis\n"
     ]
    }
   ],
   "source": [
    "# QIIME2 Artifacts folder\n",
    "qiime_folder = os.path.join(experiment_folder, 'qiime-artifacts')\n",
    "\n",
    "# Input - DADA2 Artifacts\n",
    "dada2_tabs_path = os.path.join(qiime_folder, 'dada2-tabs.qza')\n",
    "dada2_reps_path = os.path.join(qiime_folder, 'dada2-reps.qza')\n",
    "dada2_stat_path = os.path.join(qiime_folder, 'dada2-stat.qza')\n",
    "\n",
    "# Input - Taxonaomic Artifacts\n",
    "taxonomy_path = os.path.join(qiime_folder, 'metatax.qza')\n",
    "\n",
    "# Create folder to store Alpha files\n",
    "alpha_path = os.path.join(qiime_folder, 'alpha-analysis')\n",
    "if not os.path.exists(alpha_path):\n",
    "    os.makedirs(alpha_path)\n",
    "    print(f'The new directory is created in {alpha_path}')\n",
    "    \n",
    "# Create folder to store Beta files\n",
    "beta_path = os.path.join(qiime_folder, 'beta-analysis')\n",
    "if not os.path.exists(beta_path):\n",
    "    os.makedirs(beta_path)\n",
    "    print(f'The new directory is created in {beta_path}')\n",
    "\n",
    "# Output -Diversity Artifacts\n",
    "alpha_diversity_path = os.path.join(alpha_path, 'alpha-diversity.qza')\n",
    "alpha_diversity_view_path = os.path.join(alpha_path, 'alpha-diversity.qzv')\n",
    "beta_diversity_path = os.path.join(beta_path, 'beta-diversity.qza')\n",
    "beta_diversity_view_path = os.path.join(beta_path, 'beta-diversity.qzv')"
   ]
  },
  {
   "cell_type": "code",
   "execution_count": 6,
   "id": "601ae263",
   "metadata": {
    "ExecuteTime": {
     "end_time": "2022-09-29T20:54:14.829117Z",
     "start_time": "2022-09-29T20:54:14.818272Z"
    },
    "execution": {
     "iopub.execute_input": "2024-03-05T22:18:57.204768Z",
     "iopub.status.busy": "2024-03-05T22:18:57.204575Z",
     "iopub.status.idle": "2024-03-05T22:18:57.208204Z",
     "shell.execute_reply": "2024-03-05T22:18:57.207782Z"
    },
    "papermill": {
     "duration": 0.008166,
     "end_time": "2024-03-05T22:18:57.209182",
     "exception": false,
     "start_time": "2024-03-05T22:18:57.201016",
     "status": "completed"
    },
    "tags": []
   },
   "outputs": [],
   "source": [
    "def filter_and_collapse(tab, seqs, tax, meta, lvl, exclude=True, exclude_list='uncultured,unidentified,metagenome'):\n",
    "    from qiime2.plugins.taxa.methods import collapse\n",
    "    from qiime2.plugins.taxa.methods import filter_table\n",
    "    from qiime2.plugins.feature_table.methods import filter_seqs\n",
    "    from qiime2.plugins.feature_table.visualizers import summarize\n",
    "    \n",
    "    to_include = ('d', 'p', 'c', 'o', 'f', 'g', 's')[lvl-1]\n",
    "    to_include += '__'\n",
    "    to_exclude = exclude_list if exclude else None\n",
    "    \n",
    "    filtered_tabs = filter_table(\n",
    "        table=tab, \n",
    "        taxonomy=tax,\n",
    "        include=to_include,\n",
    "        exclude=to_exclude,\n",
    "        mode='contains').filtered_table\n",
    "    \n",
    "    filtered_seqs = filter_seqs(\n",
    "        data = seqs,\n",
    "        table = filtered_tabs,\n",
    "    ).filtered_data\n",
    "    \n",
    "    collapsed_table = collapse(table=filtered_tabs, taxonomy=tax, level=lvl).collapsed_table\n",
    "    collapsed_table_view = summarize(table=collapsed_table, sample_metadata=meta).visualization\n",
    "    \n",
    "    return collapsed_table, collapsed_table_view, filtered_seqs"
   ]
  },
  {
   "cell_type": "markdown",
   "id": "0999a1b2",
   "metadata": {
    "papermill": {
     "duration": 0.002991,
     "end_time": "2024-03-05T22:18:57.215156",
     "exception": false,
     "start_time": "2024-03-05T22:18:57.212165",
     "status": "completed"
    },
    "tags": []
   },
   "source": [
    "## Step execution\n",
    "\n",
    "### Load input files\n",
    "\n",
    "This Step import the QIIME2 `FeatureTable[Frequency]` Artifact and the `Metadata` file."
   ]
  },
  {
   "cell_type": "code",
   "execution_count": 7,
   "id": "8f299d1a",
   "metadata": {
    "ExecuteTime": {
     "end_time": "2022-09-29T20:54:15.559837Z",
     "start_time": "2022-09-29T20:54:14.830405Z"
    },
    "execution": {
     "iopub.execute_input": "2024-03-05T22:18:57.221733Z",
     "iopub.status.busy": "2024-03-05T22:18:57.221583Z",
     "iopub.status.idle": "2024-03-05T22:18:57.753807Z",
     "shell.execute_reply": "2024-03-05T22:18:57.753330Z"
    },
    "papermill": {
     "duration": 0.536967,
     "end_time": "2024-03-05T22:18:57.755131",
     "exception": false,
     "start_time": "2024-03-05T22:18:57.218164",
     "status": "completed"
    },
    "tags": []
   },
   "outputs": [],
   "source": [
    "#Load Metadata\n",
    "metadata_qa = Metadata.load(metadata_file)\n",
    "\n",
    "#Load FeatureTable[Frequency]\n",
    "tabs = Artifact.load(dada2_tabs_path)\n",
    "tabs_df = tabs.view(Metadata).to_dataframe().T\n",
    "\n",
    "# FeatureData[Sequence]\n",
    "reps = Artifact.load(dada2_reps_path)\n",
    "\n",
    "# FeatureData[Taxonomy]\n",
    "tax = Artifact.load(taxonomy_path)"
   ]
  },
  {
   "cell_type": "code",
   "execution_count": 8,
   "id": "c8dfe530",
   "metadata": {
    "ExecuteTime": {
     "end_time": "2022-09-29T20:54:15.564968Z",
     "start_time": "2022-09-29T20:54:15.561875Z"
    },
    "execution": {
     "iopub.execute_input": "2024-03-05T22:18:57.762598Z",
     "iopub.status.busy": "2024-03-05T22:18:57.762412Z",
     "iopub.status.idle": "2024-03-05T22:18:58.085849Z",
     "shell.execute_reply": "2024-03-05T22:18:58.085367Z"
    },
    "papermill": {
     "duration": 0.328368,
     "end_time": "2024-03-05T22:18:58.086985",
     "exception": false,
     "start_time": "2024-03-05T22:18:57.758617",
     "status": "completed"
    },
    "tags": []
   },
   "outputs": [
    {
     "name": "stderr",
     "output_type": "stream",
     "text": [
      "/home/lauro/anaconda3/envs/qiime2-2023.5/lib/python3.8/site-packages/q2_types/feature_data/_transformer.py:258: FutureWarning: iteritems is deprecated and will be removed in a future version. Use .items instead.\n",
      "  for id_, seq in data.iteritems():\n"
     ]
    }
   ],
   "source": [
    "# Filter FeatureTable[Frequency | RelativeFrequency | PresenceAbsence | Composition] based on Metadata sample ID values\n",
    "tabs = filter_samples(\n",
    "    table=tabs,\n",
    "    metadata=metadata_qa,\n",
    ").filtered_table\n",
    "# Filter SampleData[SequencesWithQuality | PairedEndSequencesWithQuality | JoinedSequencesWithQuality] based on Metadata sample ID values; returns FeatureData[Sequence | AlignedSequence]\n",
    "reps = filter_seqs(\n",
    "    data=reps,\n",
    "    table=tabs,\n",
    ").filtered_data"
   ]
  },
  {
   "cell_type": "markdown",
   "id": "9f43843a",
   "metadata": {
    "ExecuteTime": {
     "end_time": "2022-09-22T22:48:07.523952Z",
     "start_time": "2022-09-22T22:48:07.517565Z"
    },
    "papermill": {
     "duration": 0.003102,
     "end_time": "2024-03-05T22:18:58.093603",
     "exception": false,
     "start_time": "2024-03-05T22:18:58.090501",
     "status": "completed"
    },
    "tags": []
   },
   "source": [
    "## Alpha diversity analysis\n",
    "\n",
    "#### Reference\n",
    "- [The Use and Types of Alpha-Diversity Metrics in Microbial NGS](https://www.cd-genomics.com/microbioseq/the-use-and-types-of-alpha-diversity-metrics-in-microbial-ngs.html)\n",
    "- [Alpha diversity metrics](http://scikit-bio.org/docs/0.2.0/generated/skbio.diversity.alpha.html)\n",
    "\n",
    "#### Methods\n",
    "- [diversity alpha](https://docs.qiime2.org/2022.8/plugins/available/diversity/alpha/): Computes a user-specified alpha diversity metric for all samples in a\n",
    "feature table.\n",
    "- [diversity alpha_phylogenetic](https://docs.qiime2.org/2022.8/plugins/available/diversity/alpha-phylogenetic/): Computes a user-specified phylogenetic alpha diversity metric for all\n",
    "samples in a feature table.\n",
    "- [diversity alpha_correlation](https://docs.qiime2.org/2022.8/plugins/available/diversity/alpha-correlation/): Determine whether numeric sample metadata columns are correlated with alpha diversity.\n",
    "- [diversity alpha_group_significance](https://docs.qiime2.org/2022.8/plugins/available/diversity/alpha-group-significance/): Visually and statistically compare groups of alpha diversity values."
   ]
  },
  {
   "cell_type": "markdown",
   "id": "606b9c75",
   "metadata": {
    "papermill": {
     "duration": 0.003043,
     "end_time": "2024-03-05T22:18:58.099834",
     "exception": false,
     "start_time": "2024-03-05T22:18:58.096791",
     "status": "completed"
    },
    "tags": []
   },
   "source": [
    "### Compute Alpha Diversity vectors\n",
    "- [diversity alpha](https://docs.qiime2.org/2022.8/plugins/available/diversity/alpha/): Computes a user-specified alpha diversity metric for all samples in a feature table.\n",
    "- [Alpha diversity metrics](http://scikit-bio.org/docs/0.2.0/generated/skbio.diversity.alpha.html)\n",
    " - Choices: ('ace', 'berger_parker_d', 'brillouin_d', 'chao1', 'chao1_ci', 'dominance', 'doubles', 'enspie', 'esty_ci', 'fisher_alpha', 'gini_index', 'goods_coverage', 'heip_e', 'kempton_taylor_q', 'lladser_pe', 'margalef', 'mcintosh_d', 'mcintosh_e', 'menhinick', 'michaelis_menten_fit', 'observed_features', 'osd', 'pielou_e', 'robbins', 'shannon', 'simpson', 'simpson_e', 'singles', 'strong')"
   ]
  },
  {
   "cell_type": "code",
   "execution_count": 9,
   "id": "556e5264",
   "metadata": {
    "ExecuteTime": {
     "end_time": "2022-09-29T20:54:20.790166Z",
     "start_time": "2022-09-29T20:54:20.451134Z"
    },
    "execution": {
     "iopub.execute_input": "2024-03-05T22:18:58.106898Z",
     "iopub.status.busy": "2024-03-05T22:18:58.106730Z",
     "iopub.status.idle": "2024-03-05T22:18:58.475213Z",
     "shell.execute_reply": "2024-03-05T22:18:58.474653Z"
    },
    "papermill": {
     "duration": 0.373318,
     "end_time": "2024-03-05T22:18:58.476187",
     "exception": false,
     "start_time": "2024-03-05T22:18:58.102869",
     "status": "completed"
    },
    "tags": []
   },
   "outputs": [
    {
     "name": "stdout",
     "output_type": "stream",
     "text": [
      "Calculating alpha diversity: chao1\n",
      "DONE: Calculating alpha diversity: chao1\n",
      "Calculating alpha diversity: chao1_ci\n",
      "DONE: Calculating alpha diversity: chao1_ci\n",
      "Calculating alpha diversity: observed_features\n",
      "DONE: Calculating alpha diversity: observed_features\n",
      "Calculating alpha diversity: shannon\n"
     ]
    },
    {
     "name": "stdout",
     "output_type": "stream",
     "text": [
      "DONE: Calculating alpha diversity: shannon\n",
      "Calculating alpha diversity: simpson\n",
      "DONE: Calculating alpha diversity: simpson\n",
      "Calculating alpha diversity: simpson_e\n",
      "DONE: Calculating alpha diversity: simpson_e\n"
     ]
    }
   ],
   "source": [
    "metrics = ('ace', 'berger_parker_d', 'brillouin_d', 'chao1', 'chao1_ci', 'dominance', 'doubles', 'enspie', 'esty_ci', 'fisher_alpha', 'gini_index', 'goods_coverage', 'heip_e', 'kempton_taylor_q', 'lladser_pe', 'margalef', 'mcintosh_d', 'mcintosh_e', 'menhinick', 'michaelis_menten_fit', 'observed_features', 'osd', 'pielou_e', 'robbins', 'shannon', 'simpson', 'simpson_e', 'singles', 'strong')\n",
    "\n",
    "# Sugestão de valores para Alpha diversity\n",
    "# chao1 e observed_features (riqueza); shannon e simpson (diversidade - que levam em consideração riqueza e equitabilidade).\n",
    "metrics = ('chao1', 'chao1_ci', 'observed_features', 'shannon', 'simpson', 'simpson_e')\n",
    "alpha_diversities = dict()\n",
    "for metric in metrics:\n",
    "    print(f\"Calculating alpha diversity: {metric}\")\n",
    "    try:\n",
    "        alpha_diversity = alpha(table=tabs, metric=metric).alpha_diversity\n",
    "        alpha_diversities[metric] = alpha_diversity\n",
    "        # Save SampleData[AlphaDiversity] Artifact\n",
    "        file_path = os.path.join(alpha_path, f'alpha-values-{metric}.qza')\n",
    "        alpha_diversity.save(file_path)\n",
    "        print(f\"DONE: Calculating alpha diversity: {metric}\")\n",
    "    except Exception as e:\n",
    "        print(f\"ERROR: Calculating alpha diversity: {metric}\")\n",
    "        print(e)"
   ]
  },
  {
   "cell_type": "markdown",
   "id": "184bcb7b",
   "metadata": {
    "papermill": {
     "duration": 0.003385,
     "end_time": "2024-03-05T22:18:58.483109",
     "exception": false,
     "start_time": "2024-03-05T22:18:58.479724",
     "status": "completed"
    },
    "tags": []
   },
   "source": [
    "### Create Phylogenetic inference\n",
    "\n",
    "- [alignment align_to_tree_mafft_fasttree](https://docs.qiime2.org/2022.8/plugins/available/phylogeny/align-to-tree-mafft-fasttree/): Build a phylogenetic tree using fasttree and mafft alignment\n",
    "\n",
    "This pipeline will start by creating a sequence alignment using MAFFT,\n",
    "after which any alignment columns that are phylogenetically uninformative\n",
    "or ambiguously aligned will be removed (masked). The resulting masked\n",
    "alignment will be used to infer a phylogenetic tree and then subsequently\n",
    "rooted at its midpoint. Output files from each step of the pipeline will be\n",
    "saved. This includes both the unmasked and masked MAFFT alignment from\n",
    "q2-alignment methods, and both the rooted and unrooted phylogenies from\n",
    "q2-phylogeny methods.\n",
    "\n",
    "\n",
    "Returns\n",
    "- alignment : FeatureData[AlignedSequence] : The aligned sequences.\n",
    "- masked_alignment : FeatureData[AlignedSequence] : The masked alignment.\n",
    "- tree : Phylogeny[Unrooted] : The unrooted phylogenetic tree.\n",
    "- rooted_tree : Phylogeny[Rooted] : The rooted phylogenetic tree."
   ]
  },
  {
   "cell_type": "code",
   "execution_count": 10,
   "id": "9c8cfe47",
   "metadata": {
    "ExecuteTime": {
     "end_time": "2022-09-29T20:54:35.139531Z",
     "start_time": "2022-09-29T20:54:20.792130Z"
    },
    "execution": {
     "iopub.execute_input": "2024-03-05T22:18:58.490299Z",
     "iopub.status.busy": "2024-03-05T22:18:58.490107Z",
     "iopub.status.idle": "2024-03-05T22:19:06.076707Z",
     "shell.execute_reply": "2024-03-05T22:19:06.076154Z"
    },
    "papermill": {
     "duration": 7.591583,
     "end_time": "2024-03-05T22:19:06.077957",
     "exception": false,
     "start_time": "2024-03-05T22:18:58.486374",
     "status": "completed"
    },
    "tags": []
   },
   "outputs": [
    {
     "name": "stdout",
     "output_type": "stream",
     "text": [
      "Running external command line application. This may print messages to stdout and/or stderr.\n",
      "The command being run is below. This command cannot be manually re-run as it will depend on temporary files that no longer exist.\n",
      "\n",
      "Command: mafft --preservecase --inputorder --thread 6 /tmp/qiime2/lauro/data/09d2821f-81fa-461f-b4c2-8868aceb6f9d/data/dna-sequences.fasta\n",
      "\n"
     ]
    },
    {
     "name": "stderr",
     "output_type": "stream",
     "text": [
      "inputfile = orig\n",
      "969 x 430 - 282 d\n",
      "nthread = 6\n",
      "nthreadpair = 6\n",
      "nthreadtb = 6\n",
      "ppenalty_ex = 0\n",
      "stacksize: 8192 kb\n",
      "generating a scoring matrix for nucleotide (dist=200) ... done\n",
      "Gap Penalty = -1.53, +0.00, +0.00\n",
      "\n",
      "\n",
      "\n",
      "Making a distance matrix ..\n",
      "\r",
      "    1 / 969 (thread    0)\r",
      "  101 / 969 (thread    3)\r",
      "  201 / 969 (thread    2)\r",
      "  301 / 969 (thread    1)\r",
      "  401 / 969 (thread    4)\r",
      "  501 / 969 (thread    0)\r",
      "  601 / 969 (thread    1)\r",
      "  701 / 969 (thread    4)\r",
      "  801 / 969 (thread    2)\r",
      "  901 / 969 (thread    4)\n",
      "done.\n",
      "\n",
      "Constructing a UPGMA tree (efffree=0) ... \n",
      "\r",
      "    0 / 969\r",
      "   10 / 969\r",
      "   20 / 969\r",
      "   30 / 969\r",
      "   40 / 969\r",
      "   50 / 969\r",
      "   60 / 969\r",
      "   70 / 969\r",
      "   80 / 969\r",
      "   90 / 969\r",
      "  100 / 969\r",
      "  110 / 969\r",
      "  120 / 969\r",
      "  130 / 969\r",
      "  140 / 969\r",
      "  150 / 969\r",
      "  160 / 969\r",
      "  170 / 969\r",
      "  180 / 969\r",
      "  190 / 969\r",
      "  200 / 969\r",
      "  210 / 969\r",
      "  220 / 969\r",
      "  230 / 969\r",
      "  240 / 969\r",
      "  250 / 969\r",
      "  260 / 969\r",
      "  270 / 969\r",
      "  280 / 969\r",
      "  290 / 969\r",
      "  300 / 969\r",
      "  310 / 969\r",
      "  320 / 969\r",
      "  330 / 969\r",
      "  340 / 969\r",
      "  350 / 969\r",
      "  360 / 969\r",
      "  370 / 969\r",
      "  380 / 969\r",
      "  390 / 969\r",
      "  400 / 969\r",
      "  410 / 969\r",
      "  420 / 969\r",
      "  430 / 969\r",
      "  440 / 969\r",
      "  450 / 969\r",
      "  460 / 969\r",
      "  470 / 969\r",
      "  480 / 969\r",
      "  490 / 969\r",
      "  500 / 969\r",
      "  510 / 969\r",
      "  520 / 969\r",
      "  530 / 969\r",
      "  540 / 969\r",
      "  550 / 969\r",
      "  560 / 969\r",
      "  570 / 969\r",
      "  580 / 969\r",
      "  590 / 969\r",
      "  600 / 969\r",
      "  610 / 969\r",
      "  620 / 969\r",
      "  630 / 969\r",
      "  640 / 969\r",
      "  650 / 969\r",
      "  660 / 969\r",
      "  670 / 969\r",
      "  680 / 969\r",
      "  690 / 969\r",
      "  700 / 969\r",
      "  710 / 969\r",
      "  720 / 969\r",
      "  730 / 969\r",
      "  740 / 969\r",
      "  750 / 969\r",
      "  760 / 969\r",
      "  770 / 969\r",
      "  780 / 969\r",
      "  790 / 969\r",
      "  800 / 969\r",
      "  810 / 969\r",
      "  820 / 969\r",
      "  830 / 969\r",
      "  840 / 969\r",
      "  850 / 969\r",
      "  860 / 969\r",
      "  870 / 969\r",
      "  880 / 969\r",
      "  890 / 969\r",
      "  900 / 969\r",
      "  910 / 969\r",
      "  920 / 969\r",
      "  930 / 969\r",
      "  940 / 969\r",
      "  950 / 969\r",
      "  960 / 969\n",
      "done.\n",
      "\n",
      "Progressive alignment 1/2... \n",
      "\r",
      "STEP     2 / 968 (thread    2) f\b\b\r",
      "STEP     1 / 968 (thread    0) f\b\b\r",
      "STEP     3 / 968 (thread    1) f\b\b\r",
      "STEP     4 / 968 (thread    4) f\b\b\r",
      "STEP     5 / 968 (thread    3) f\b\b\r",
      "STEP     6 / 968 (thread    5) f\b\b\r",
      "STEP     7 / 968 (thread    1) f\b\b\r",
      "STEP     8 / 968 (thread    0) f\b\b\r",
      "STEP     9 / 968 (thread    3) f\b\b\r",
      "STEP    10 / 968 (thread    5) f\b\b\r",
      "STEP    11 / 968 (thread    4) f\b\b\r",
      "STEP    12 / 968 (thread    2) f\b\b\r",
      "STEP    13 / 968 (thread    1) f\b\b\r",
      "STEP    14 / 968 (thread    0) f\b\b\r",
      "STEP    15 / 968 (thread    3) f\b\b\r",
      "STEP    16 / 968 (thread    5) f\b\b\r",
      "STEP    17 / 968 (thread    4) f\b\b\r",
      "STEP    18 / 968 (thread    2) f\b\b\r",
      "STEP    19 / 968 (thread    1) f\b\b\r",
      "STEP    20 / 968 (thread    0) f\b\b\r",
      "STEP    21 / 968 (thread    5) f\b\b\r",
      "STEP    22 / 968 (thread    3) f\b\b\r",
      "STEP    23 / 968 (thread    4) f\b\b\r",
      "STEP    24 / 968 (thread    2) f\b\b\r",
      "STEP    25 / 968 (thread    1) f\b\b\r",
      "STEP    26 / 968 (thread    0) f\b\b\r",
      "STEP    27 / 968 (thread    5) f\b\b\r",
      "STEP    28 / 968 (thread    3) f\b\b\r",
      "STEP    29 / 968 (thread    4) f\b\b\r",
      "STEP    30 / 968 (thread    2) f\b\b\r",
      "STEP    31 / 968 (thread    1) f\b\b\r",
      "STEP    32 / 968 (thread    0) f\b\b\r",
      "STEP    33 / 968 (thread    5) f\b\b\r",
      "STEP    34 / 968 (thread    3) f\b\b\r",
      "STEP    35 / 968 (thread    4) f\b\b\r",
      "STEP    36 / 968 (thread    2) f\b\b\r",
      "STEP    37 / 968 (thread    1) f\b\b\r",
      "STEP    38 / 968 (thread    0) f\b\b\r",
      "STEP    39 / 968 (thread    5) f\b\b\r",
      "STEP    40 / 968 (thread    3) f\b\b\r",
      "STEP    41 / 968 (thread    4) f\b\b\r",
      "STEP    42 / 968 (thread    2) f\b\b\r",
      "STEP    43 / 968 (thread    1) f\b\b\r",
      "STEP    44 / 968 (thread    0) f\b\b\r",
      "STEP    45 / 968 (thread    5) f\b\b\r",
      "STEP    46 / 968 (thread    3) f\b\b\r",
      "STEP    47 / 968 (thread    4) f\b\b\r",
      "STEP    48 / 968 (thread    2) f\b\b\r",
      "STEP    49 / 968 (thread    1) f\b\b\r",
      "STEP    50 / 968 (thread    0) f\b\b\r",
      "STEP    51 / 968 (thread    5) f\b\b\r",
      "STEP    52 / 968 (thread    3) f\b\b\r",
      "STEP    53 / 968 (thread    4) f\b\b\r",
      "STEP    54 / 968 (thread    2) f\b\b\r",
      "STEP    55 / 968 (thread    1) f\b\b\r",
      "STEP    56 / 968 (thread    0) f\b\b\r",
      "STEP    57 / 968 (thread    5) f\b\b\r",
      "STEP    58 / 968 (thread    3) f\b\b\r",
      "STEP    59 / 968 (thread    1) f\b\b\r",
      "STEP    60 / 968 (thread    0) f\b\b\r",
      "STEP    61 / 968 (thread    5) f\b\b\r",
      "STEP    62 / 968 (thread    3) f\b\b\r",
      "STEP    63 / 968 (thread    4) f\b\b\r",
      "STEP    64 / 968 (thread    1) f\b\b\r",
      "STEP    65 / 968 (thread    2) f\b\b\r",
      "STEP    66 / 968 (thread    0) f\b\b\r",
      "STEP    67 / 968 (thread    5) f\b\b\r",
      "STEP    68 / 968 (thread    3) f\b\b\r",
      "STEP    69 / 968 (thread    4) f\b\b\r",
      "STEP    70 / 968 (thread    1) f\b\b\r",
      "STEP    71 / 968 (thread    0) f\b\b\r",
      "STEP    72 / 968 (thread    2) f\b\b\r",
      "STEP    73 / 968 (thread    5) f\b\b\r",
      "STEP    74 / 968 (thread    3) f\b\b\r",
      "STEP    75 / 968 (thread    4) f\b\b\r",
      "STEP    76 / 968 (thread    1) f\b\b\r",
      "STEP    77 / 968 (thread    2) f\b\b\r",
      "STEP    78 / 968 (thread    5) f\b\b\r",
      "STEP    79 / 968 (thread    4) f\b\b\r",
      "STEP    80 / 968 (thread    3) f\b\b\r",
      "STEP    81 / 968 (thread    1) f\b\b\r",
      "STEP    82 / 968 (thread    2) f\b\b\r",
      "STEP    83 / 968 (thread    5) f\b\b\r",
      "STEP    84 / 968 (thread    4) f\b\b\r",
      "STEP    85 / 968 (thread    0) f\b\b\r",
      "STEP    86 / 968 (thread    3) f\b\b\r",
      "STEP    87 / 968 (thread    1) f\b\b\r",
      "STEP    88 / 968 (thread    2) f\b\b\r",
      "STEP    89 / 968 (thread    5) f\b\b\r",
      "STEP    90 / 968 (thread    4) f\b\b\r",
      "STEP    91 / 968 (thread    0) f\b\b\r",
      "STEP    92 / 968 (thread    3) f\b\b\r",
      "STEP    93 / 968 (thread    2) f\b\b\r",
      "STEP    94 / 968 (thread    5) f\b\b\r",
      "STEP    95 / 968 (thread    0)\r",
      "STEP    96 / 968 (thread    4) f\b\b f\b\b\r",
      "STEP    97 / 968 (thread    1) f\b\b\r",
      "STEP    98 / 968 (thread    3) f\b\b\r",
      "STEP    99 / 968 (thread    2) f\b\b\r",
      "STEP   100 / 968 (thread    5) f\b\b\r",
      "STEP   101 / 968 (thread    0) f\b\b\r",
      "STEP   102 / 968 (thread    4) f\b\b\r",
      "STEP   103 / 968 (thread    1) f\b\b\r",
      "STEP   104 / 968 (thread    3) f\b\b\r",
      "STEP   105 / 968 (thread    2) f\b\b\r",
      "STEP   106 / 968 (thread    5) f\b\b\r",
      "STEP   107 / 968 (thread    0) f\b\b\r",
      "STEP   108 / 968 (thread    4) f\b\b\r",
      "STEP   109 / 968 (thread    1) f\b\b\r",
      "STEP   110 / 968 (thread    3) f\b\b\r",
      "STEP   111 / 968 (thread    2) f\b\b\r",
      "STEP   112 / 968 (thread    5) f\b\b\r",
      "STEP   113 / 968 (thread    0) f\b\b\r",
      "STEP   114 / 968 (thread    4) f\b\b\r",
      "STEP   115 / 968 (thread    1) f\b\b\r",
      "STEP   116 / 968 (thread    2) f\b\b\r",
      "STEP   117 / 968 (thread    3) f\b\b\r",
      "STEP   118 / 968 (thread    5) f\b\b\r",
      "STEP   119 / 968 (thread    0) f\b\b\r",
      "STEP   120 / 968 (thread    4) f\b\b\r",
      "STEP   121 / 968 (thread    1) f\b\b\r",
      "STEP   122 / 968 (thread    2) f\b\b\r",
      "STEP   123 / 968 (thread    3) f\b\b\r",
      "STEP   124 / 968 (thread    5) f\b\b\r",
      "STEP   125 / 968 (thread    0) f\b\b\r",
      "STEP   126 / 968 (thread    4) f\b\b\r",
      "STEP   127 / 968 (thread    1) f\b\b\r",
      "STEP   128 / 968 (thread    2) f\b\b\r",
      "STEP   129 / 968 (thread    5) f\b\b\r",
      "STEP   130 / 968 (thread    0) f\b\b\r",
      "STEP   131 / 968 (thread    4) f\b\b\r",
      "STEP   132 / 968 (thread    4) f\b\b\r",
      "STEP   133 / 968 (thread    0) f\b\b\r",
      "STEP   134 / 968 (thread    1) f\b\b\r",
      "STEP   135 / 968 (thread    3) f\b\b\r",
      "STEP   136 / 968 (thread    2) f\b\b\r",
      "STEP   137 / 968 (thread    4) f\b\b\r",
      "STEP   138 / 968 (thread    5) f\b\b\r",
      "STEP   139 / 968 (thread    1) f\b\b\r",
      "STEP   140 / 968 (thread    3) f\b\b\r",
      "STEP   141 / 968 (thread    0) f\b\b\r",
      "STEP   142 / 968 (thread    4) f\b\b\r",
      "STEP   144 / 968 (thread    3) f\b\b\r",
      "STEP   145 / 968 (thread    0) f\b\b\r",
      "STEP   143 / 968 (thread    5) f\b\b\r",
      "STEP   146 / 968 (thread    4) f\b\b\r",
      "STEP   147 / 968 (thread    2) f\b\b\r",
      "STEP   148 / 968 (thread    4) f\b\b\r",
      "STEP   149 / 968 (thread    1) f\b\b\r",
      "STEP   150 / 968 (thread    2) f\b\b\r",
      "STEP   151 / 968 (thread    5) f\b\b\r",
      "STEP   152 / 968 (thread    3) f\b\b\r",
      "STEP   153 / 968 (thread    0) f\b\b\r",
      "STEP   154 / 968 (thread    4) f\b\b\r",
      "STEP   155 / 968 (thread    1) f\b\b\r",
      "STEP   156 / 968 (thread    2) f\b\b\r",
      "STEP   157 / 968 (thread    5) f\b\b\r",
      "STEP   158 / 968 (thread    0)\r",
      "STEP   159 / 968 (thread    3) f\b\b f\b\b\r",
      "STEP   160 / 968 (thread    4) f\b\b\r",
      "STEP   161 / 968 (thread    1) f\b\b\r",
      "STEP   162 / 968 (thread    5) f\b\b\r",
      "STEP   164 / 968 (thread    2) f\b\b\r",
      "STEP   163 / 968 (thread    3) f\b\b\r",
      "STEP   165 / 968 (thread    0) f\b\b\r",
      "STEP   166 / 968 (thread    4) f\b\b\r",
      "STEP   167 / 968 (thread    1) f\b\b\r",
      "STEP   168 / 968 (thread    0) f\b\b\r",
      "STEP   169 / 968 (thread    5) f\b\b\r",
      "STEP   170 / 968 (thread    4) f\b\b\r",
      "STEP   171 / 968 (thread    1) f\b\b\r",
      "STEP   172 / 968 (thread    2) f\b\b\r",
      "STEP   173 / 968 (thread    0) f\b\b\r",
      "STEP   174 / 968 (thread    3) f\b\b\r",
      "STEP   175 / 968 (thread    4) f\b\b\r",
      "STEP   176 / 968 (thread    5) f\b\b\r",
      "STEP   177 / 968 (thread    1) f\b\b\r",
      "STEP   178 / 968 (thread    2) f\b\b\r",
      "STEP   179 / 968 (thread    0) f\b\b\r",
      "STEP   180 / 968 (thread    3) f\b\b\r",
      "STEP   181 / 968 (thread    4) f\b\b\r",
      "STEP   182 / 968 (thread    5) f\b\b\r",
      "STEP   183 / 968 (thread    1) f\b\b\r",
      "STEP   184 / 968 (thread    2) f\b\b\r",
      "STEP   185 / 968 (thread    3) f\b\b\r",
      "STEP   186 / 968 (thread    2) f\b\b\r",
      "STEP   187 / 968 (thread    0) f\b\b\r",
      "STEP   188 / 968 (thread    3) f\b\b\r",
      "STEP   190 / 968 (thread    1) f\b\b\r",
      "STEP   191 / 968 (thread    5) f\b\b\r",
      "STEP   192 / 968 (thread    2) f\b\b\r",
      "STEP   193 / 968 (thread    1) f\b\b\r",
      "STEP   194 / 968 (thread    5) f\b\b\r",
      "STEP   195 / 968 (thread    2) f\b\b\r",
      "STEP   196 / 968 (thread    0) f\b\b\r",
      "STEP   197 / 968 (thread    3) f\b\b\r",
      "STEP   189 / 968 (thread    4) f\b\b\r",
      "STEP   198 / 968 (thread    2) f\b\b\r",
      "STEP   199 / 968 (thread    0) f\b\b\r",
      "STEP   200 / 968 (thread    3) f\b\b\r",
      "STEP   201 / 968 (thread    1) f\b\b\r",
      "STEP   202 / 968 (thread    5) f\b\b\r",
      "STEP   203 / 968 (thread    3) f\b\b\r",
      "STEP   204 / 968 (thread    4) f\b\b\r",
      "STEP   205 / 968 (thread    1) f\b\b\r",
      "STEP   206 / 968 (thread    5) f\b\b\r",
      "STEP   207 / 968 (thread    2) f\b\b\r",
      "STEP   208 / 968 (thread    0) f\b\b\r",
      "STEP   209 / 968 (thread    4) f\b\b\r",
      "STEP   210 / 968 (thread    5) f\b\b\r",
      "STEP   211 / 968 (thread    1) f\b\b\r",
      "STEP   212 / 968 (thread    3) f\b\b\r",
      "STEP   213 / 968 (thread    1) f\b\b\r",
      "STEP   214 / 968 (thread    2) f\b\b\r",
      "STEP   215 / 968 (thread    0) f\b\b\r",
      "STEP   216 / 968 (thread    4) f\b\b\r",
      "STEP   217 / 968 (thread    3) f\b\b\r",
      "STEP   218 / 968 (thread    5) f\b\b\r",
      "STEP   219 / 968 (thread    4) f\b\b\r",
      "STEP   220 / 968 (thread    1) f\b\b\r",
      "STEP   221 / 968 (thread    5) f\b\b\r",
      "STEP   222 / 968 (thread    0) f\b\b\r",
      "STEP   223 / 968 (thread    4) f\b\b\r",
      "STEP   224 / 968 (thread    2) f\b\b\r",
      "STEP   225 / 968 (thread    3) f\b\b\r",
      "STEP   226 / 968 (thread    5) f\b\b\r",
      "STEP   227 / 968 (thread    1) f\b\b\r",
      "STEP   228 / 968 (thread    2) f\b\b\r",
      "STEP   229 / 968 (thread    3) f\b\b\r",
      "STEP   230 / 968 (thread    5) f\b\b\r",
      "STEP   231 / 968 (thread    4) f\b\b\r",
      "STEP   232 / 968 (thread    0) f\b\b\r",
      "STEP   233 / 968 (thread    1) f\b\b\r",
      "STEP   234 / 968 (thread    2) f\b\b\r",
      "STEP   235 / 968 (thread    3) f\b\b\r",
      "STEP   236 / 968 (thread    5) f\b\b\r",
      "STEP   237 / 968 (thread    4) f\b\b\r",
      "STEP   238 / 968 (thread    0) f\b\b\r",
      "STEP   239 / 968 (thread    1) f\b\b\r",
      "STEP   240 / 968 (thread    0) f\b\b\r",
      "STEP   241 / 968 (thread    1) f\b\b\r",
      "STEP   242 / 968 (thread    2) f\b\b\r",
      "STEP   243 / 968 (thread    3) f\b\b\r",
      "STEP   244 / 968 (thread    0) f\b\b\r",
      "STEP   245 / 968 (thread    4) f\b\b\r",
      "STEP   246 / 968 (thread    1) f\b\b\r",
      "STEP   247 / 968 (thread    5) f\b\b\r",
      "STEP   248 / 968 (thread    2) f\b\b\r",
      "STEP   249 / 968 (thread    3) f\b\b\r",
      "STEP   250 / 968 (thread    1) f\b\b\r",
      "STEP   251 / 968 (thread    2) f\b\b\r",
      "STEP   252 / 968 (thread    0) f\b\b\r",
      "STEP   253 / 968 (thread    4) f\b\b\r",
      "STEP   254 / 968 (thread    1) f\b\b\r",
      "STEP   255 / 968 (thread    3) f\b\b\r",
      "STEP   256 / 968 (thread    5) f\b\b\r",
      "STEP   257 / 968 (thread    2) f\b\b\r",
      "STEP   258 / 968 (thread    0) f\b\b\r",
      "STEP   259 / 968 (thread    4) f\b\b\r",
      "STEP   260 / 968 (thread    1) f\b\b\r",
      "STEP   261 / 968 (thread    3) f\b\b\r",
      "STEP   262 / 968 (thread    5) f\b\b\r",
      "STEP   263 / 968 (thread    2) f\b\b\r",
      "STEP   264 / 968 (thread    0) f\b\b\r",
      "STEP   265 / 968 (thread    5) f\b\b\r",
      "STEP   266 / 968 (thread    4) f\b\b\r",
      "STEP   267 / 968 (thread    1) f\b\b\r",
      "STEP   268 / 968 (thread    3) f\b\b\r",
      "STEP   269 / 968 (thread    5) f\b\b\r",
      "STEP   270 / 968 (thread    2) f\b\b\r",
      "STEP   271 / 968 (thread    3) f\b\b\r",
      "STEP   272 / 968 (thread    0) f\b\b\r",
      "STEP   273 / 968 (thread    4) f\b\b\r",
      "STEP   274 / 968 (thread    1) f\b\b\r",
      "STEP   275 / 968 (thread    0) f\b\b\r",
      "STEP   276 / 968 (thread    5) f\b\b\r",
      "STEP   277 / 968 (thread    2) f\b\b\r",
      "STEP   278 / 968 (thread    3) f\b\b\r",
      "STEP   280 / 968 (thread    0) f\b\b\r",
      "STEP   281 / 968 (thread    4) f\b\b\r",
      "STEP   279 / 968 (thread    1) f\b\b\r",
      "STEP   282 / 968 (thread    5) f\b\b\r",
      "STEP   283 / 968 (thread    2) f\b\b\r",
      "STEP   284 / 968 (thread    3) f\b\b\r",
      "STEP   285 / 968 (thread    0) f\b\b\r",
      "STEP   286 / 968 (thread    4) f\b\b\r",
      "STEP   287 / 968 (thread    1) f\b\b\r",
      "STEP   288 / 968 (thread    0) f\b\b\r",
      "STEP   289 / 968 (thread    2) f\b\b\r",
      "STEP   290 / 968 (thread    3) f\b\b\r",
      "STEP   291 / 968 (thread    5) f\b\b\r",
      "STEP   292 / 968 (thread    1) f\b\b\r",
      "STEP   293 / 968 (thread    0) f\b\b\r",
      "STEP   294 / 968 (thread    4) f\b\b\r",
      "STEP   295 / 968 (thread    3) f\b\b\r",
      "STEP   296 / 968 (thread    2) f\b\b\r",
      "STEP   297 / 968 (thread    5) f\b\b\r",
      "STEP   298 / 968 (thread    1) f\b\b\r",
      "STEP   299 / 968 (thread    0) f\b\b\r",
      "STEP   300 / 968 (thread    4) f\b\b\r",
      "STEP   301 / 968 (thread    3) f\b\b\r",
      "STEP   302 / 968 (thread    1) f\b\b\r",
      "STEP   303 / 968 (thread    0) f\b\b\r",
      "STEP   304 / 968 (thread    4) f\b\b\r",
      "STEP   305 / 968 (thread    2) f\b\b\r",
      "STEP   306 / 968 (thread    3) f\b\b\r",
      "STEP   307 / 968 (thread    5) f\b\b\r",
      "STEP   308 / 968 (thread    1) f\b\b\r",
      "STEP   309 / 968 (thread    0) f\b\b\r",
      "STEP   310 / 968 (thread    4) f\b\b\r",
      "STEP   311 / 968 (thread    3) f\b\b\r",
      "STEP   312 / 968 (thread    2) f\b\b\r",
      "STEP   313 / 968 (thread    5) f\b\b\r",
      "STEP   315 / 968 (thread    4) f\b\b\r",
      "STEP   316 / 968 (thread    3) f\b\b\r",
      "STEP   317 / 968 (thread    0) f\b\b\r",
      "STEP   314 / 968 (thread    1) f\b\b\r",
      "STEP   318 / 968 (thread    4) f\b\b\r",
      "STEP   319 / 968 (thread    5) f\b\b\r",
      "STEP   321 / 968 (thread    2) f\b\b\r",
      "STEP   320 / 968 (thread    3) f\b\b\r",
      "STEP   322 / 968 (thread    0) f\b\b\r",
      "STEP   323 / 968 (thread    5) f\b\b\r",
      "STEP   324 / 968 (thread    1) f\b\b\r",
      "STEP   325 / 968 (thread    4) f\b\b\r",
      "STEP   326 / 968 (thread    3) f\b\b\r",
      "STEP   327 / 968 (thread    0) f\b\b\r",
      "STEP   328 / 968 (thread    1) f\b\b\r",
      "STEP   329 / 968 (thread    2) f\b\b\r",
      "STEP   330 / 968 (thread    5) f\b\b\r",
      "STEP   331 / 968 (thread    0) f\b\b\r",
      "STEP   332 / 968 (thread    4) f\b\b\r",
      "STEP   333 / 968 (thread    5) f\b\b\r",
      "STEP   334 / 968 (thread    3) f\b\b\r",
      "STEP   335 / 968 (thread    1) f\b\b\r",
      "STEP   336 / 968 (thread    2) f\b\b\r",
      "STEP   337 / 968 (thread    4) f\b\b\r",
      "STEP   338 / 968 (thread    5) f\b\b\r",
      "STEP   339 / 968 (thread    3) f\b\b\r",
      "STEP   340 / 968 (thread    0) f\b\b\r",
      "STEP   341 / 968 (thread    1) f\b\b\r",
      "STEP   342 / 968 (thread    2) f\b\b\r",
      "STEP   343 / 968 (thread    3) f\b\b\r",
      "STEP   344 / 968 (thread    4) f\b\b\r",
      "STEP   345 / 968 (thread    5) f\b\b\r",
      "STEP   346 / 968 (thread    0) f\b\b\r",
      "STEP   347 / 968 (thread    1) f\b\b\r",
      "STEP   348 / 968 (thread    3) f\b\b\r",
      "STEP   349 / 968 (thread    2) f\b\b\r",
      "STEP   350 / 968 (thread    1) f\b\b\r",
      "STEP   351 / 968 (thread    4) f\b\b\r",
      "STEP   352 / 968 (thread    5) f\b\b\r",
      "STEP   353 / 968 (thread    0) f\b\b\r",
      "STEP   354 / 968 (thread    1) f\b\b\r",
      "STEP   355 / 968 (thread    2) f\b\b\r",
      "STEP   356 / 968 (thread    3) f\b\b\r",
      "STEP   357 / 968 (thread    0) f\b\b\r",
      "STEP   358 / 968 (thread    4) f\b\b\r",
      "STEP   359 / 968 (thread    3) f\b\b\r",
      "STEP   360 / 968 (thread    5) f\b\b\r",
      "STEP   361 / 968 (thread    1) f\b\b\r",
      "STEP   362 / 968 (thread    3) f\b\b\r",
      "STEP   363 / 968 (thread    5) f\b\b\r",
      "STEP   364 / 968 (thread    0) f\b\b\r",
      "STEP   365 / 968 (thread    4) f\b\b\r",
      "STEP   366 / 968 (thread    2) f\b\b\r",
      "STEP   367 / 968 (thread    1) f\b\b\r",
      "STEP   368 / 968 (thread    3) f\b\b\r",
      "STEP   369 / 968 (thread    4) f\b\b\r",
      "STEP   370 / 968 (thread    2) f\b\b\r",
      "STEP   371 / 968 (thread    5) f\b\b\r",
      "STEP   372 / 968 (thread    4) f\b\b\n",
      "Reallocating..done. *alloclen = 1868\n",
      "\r",
      "STEP   373 / 968 (thread    1) f\b\b\r",
      "STEP   374 / 968 (thread    5) f\b\b\r",
      "STEP   375 / 968 (thread    2) f\b\b\r",
      "STEP   376 / 968 (thread    3) f\b\b\r",
      "STEP   377 / 968 (thread    0) f\b\b\r",
      "STEP   378 / 968 (thread    5) f\b\b\r",
      "STEP   379 / 968 (thread    4) f\b\b\r",
      "STEP   380 / 968 (thread    2) f\b\b\r",
      "STEP   382 / 968 (thread    0) f\b\b\r",
      "STEP   383 / 968 (thread    4) f\b\b\r",
      "STEP   381 / 968 (thread    3) f\b\b\r",
      "STEP   384 / 968 (thread    1) f\b\b\r",
      "STEP   385 / 968 (thread    0) f\b\b\r",
      "STEP   386 / 968 (thread    5) f\b\b\r",
      "STEP   387 / 968 (thread    2) f\b\b\r",
      "STEP   388 / 968 (thread    1) f\b\b\r",
      "STEP   389 / 968 (thread    4) f\b\b\r",
      "STEP   390 / 968 (thread    3) f\b\b\r",
      "STEP   391 / 968 (thread    5) f\b\b\r",
      "STEP   392 / 968 (thread    0) f\b\b\r",
      "STEP   393 / 968 (thread    2) f\b\b\r",
      "STEP   394 / 968 (thread    4) f\b\b\r",
      "STEP   395 / 968 (thread    3) f\b\b\r",
      "STEP   396 / 968 (thread    1) f\b\b\r",
      "STEP   397 / 968 (thread    5) f\b\b\r",
      "STEP   398 / 968 (thread    3) f\b\b\r",
      "STEP   399 / 968 (thread    0) f\b\b\r",
      "STEP   400 / 968 (thread    2) f\b\b\r",
      "STEP   401 / 968 (thread    4) f\b\b\r",
      "STEP   402 / 968 (thread    1) f\b\b\r",
      "STEP   403 / 968 (thread    5) f\b\b\r",
      "STEP   404 / 968 (thread    0) f\b\b\r",
      "STEP   405 / 968 (thread    1) f\b\b\r",
      "STEP   406 / 968 (thread    2) f\b\b\r",
      "STEP   407 / 968 (thread    3) f\b\b\r",
      "STEP   408 / 968 (thread    1) f\b\b\r",
      "STEP   409 / 968 (thread    4) f\b\b\r",
      "STEP   410 / 968 (thread    3) f\b\b\r",
      "STEP   411 / 968 (thread    5) f\b\b\r",
      "STEP   412 / 968 (thread    2) f\b\b\r",
      "STEP   413 / 968 (thread    0) f\b\b\r",
      "STEP   414 / 968 (thread    3) f\b\b\r",
      "STEP   415 / 968 (thread    1) f\b\b\r",
      "STEP   416 / 968 (thread    5) f\b\b\r",
      "STEP   417 / 968 (thread    4) f\b\b\r",
      "STEP   418 / 968 (thread    2) f\b\b\r",
      "STEP   419 / 968 (thread    1) f\b\b\r",
      "STEP   420 / 968 (thread    0) f\b\b\r",
      "STEP   421 / 968 (thread    2) f\b\b\r",
      "STEP   422 / 968 (thread    1) f\b\b\r",
      "STEP   423 / 968 (thread    0) f\b\b\r",
      "STEP   424 / 968 (thread    5) f\b\b\r",
      "STEP   425 / 968 (thread    3) f\b\b\r",
      "STEP   426 / 968 (thread    4) f\b\b\r",
      "STEP   427 / 968 (thread    3) f\b\b\r",
      "STEP   428 / 968 (thread    4) f\b\b\r",
      "STEP   429 / 968 (thread    2) f\b\b\r",
      "STEP   430 / 968 (thread    1) f\b\b\r",
      "STEP   431 / 968 (thread    0) f\b\b\r",
      "STEP   432 / 968 (thread    5) f\b\b\r",
      "STEP   433 / 968 (thread    3) f\b\b\r",
      "STEP   434 / 968 (thread    2) f\b\b\r",
      "STEP   435 / 968 (thread    4) f\b\b\r",
      "STEP   436 / 968 (thread    1) f\b\b\r",
      "STEP   437 / 968 (thread    5) f\b\b\r",
      "STEP   438 / 968 (thread    0) f\b\b\r",
      "STEP   439 / 968 (thread    2) f\b\b\r",
      "STEP   440 / 968 (thread    3) f\b\b\r",
      "STEP   442 / 968 (thread    5) f\b\b\r",
      "STEP   443 / 968 (thread    4) f\b\b\r",
      "STEP   441 / 968 (thread    1) f\b\b\r",
      "STEP   444 / 968 (thread    5) f\b\b\r",
      "STEP   445 / 968 (thread    4) f\b\b\r",
      "STEP   446 / 968 (thread    3) f\b\b\r",
      "STEP   447 / 968 (thread    1) f\b\b\r",
      "STEP   448 / 968 (thread    2) f\b\b\r",
      "STEP   449 / 968 (thread    5) f\b\b\r",
      "STEP   450 / 968 (thread    0) f\b\b\r",
      "STEP   451 / 968 (thread    1) f\b\b\r",
      "STEP   452 / 968 (thread    4) f\b\b\r",
      "STEP   453 / 968 (thread    3) f\b\b\r",
      "STEP   454 / 968 (thread    2) f\b\b\r",
      "STEP   455 / 968 (thread    3) f\b\b\r",
      "STEP   456 / 968 (thread    0) f\b\b\r",
      "STEP   457 / 968 (thread    5) f\b\b\r",
      "STEP   458 / 968 (thread    1) f\b\b\r",
      "STEP   459 / 968 (thread    4) f\b\b\r",
      "STEP   460 / 968 (thread    2) f\b\b\r",
      "STEP   461 / 968 (thread    3) f\b\b\r",
      "STEP   462 / 968 (thread    0) f\b\b\r",
      "STEP   463 / 968 (thread    5) f\b\b\r",
      "STEP   464 / 968 (thread    1) f\b\b\r",
      "STEP   465 / 968 (thread    2) f\b\b\r",
      "STEP   466 / 968 (thread    4) f\b\b\r",
      "STEP   467 / 968 (thread    2) f\b\b\r",
      "STEP   468 / 968 (thread    0) f\b\b\r",
      "STEP   469 / 968 (thread    4) f\b\b\r",
      "STEP   470 / 968 (thread    1) f\b\b\r",
      "STEP   471 / 968 (thread    3) f\b\b\r",
      "STEP   472 / 968 (thread    5) f\b\b\r",
      "STEP   473 / 968 (thread    4) f\b\b\r",
      "STEP   474 / 968 (thread    1) f\b\b\r",
      "STEP   475 / 968 (thread    0) f\b\b\r",
      "STEP   476 / 968 (thread    2) f\b\b\r",
      "STEP   477 / 968 (thread    3) f\b\b\r",
      "STEP   478 / 968 (thread    5) f\b\b\r",
      "STEP   479 / 968 (thread    0) f\b\b\r",
      "STEP   481 / 968 (thread    1) f\b\b\r",
      "STEP   482 / 968 (thread    4) f\b\b\r",
      "STEP   483 / 968 (thread    0) f\b\b\r",
      "STEP   484 / 968 (thread    1) f\b\b\r",
      "STEP   485 / 968 (thread    5) f\b\b\r",
      "STEP   486 / 968 (thread    0) f\b\b\r",
      "STEP   480 / 968 (thread    2) f\b\b\r",
      "STEP   487 / 968 (thread    1) f\b\b\r",
      "STEP   488 / 968 (thread    3) f\b\b\r",
      "STEP   489 / 968 (thread    4) f\b\b\r",
      "STEP   490 / 968 (thread    5) f\b\b\r",
      "STEP   491 / 968 (thread    0) f\b\b\r",
      "STEP   492 / 968 (thread    3) f\b\b\r",
      "STEP   493 / 968 (thread    2) f\b\b\r",
      "STEP   494 / 968 (thread    1) f\b\b\r",
      "STEP   495 / 968 (thread    4) f\b\b\r",
      "STEP   496 / 968 (thread    0) f\b\b\r",
      "STEP   497 / 968 (thread    1) f\b\b\r",
      "STEP   498 / 968 (thread    4) f\b\b\r",
      "STEP   499 / 968 (thread    2) f\b\b\r",
      "STEP   500 / 968 (thread    5) f\b\b\r",
      "STEP   501 / 968 (thread    3) f\b\b\r",
      "STEP   601 / 968 (thread    1) f\b\b\r",
      "STEP   701 / 968 (thread    4) f\b\b\r",
      "STEP   801 / 968 (thread    5) f\b\b"
     ]
    },
    {
     "name": "stderr",
     "output_type": "stream",
     "text": [
      "\r",
      "STEP   901 / 968 (thread    2) f\b\b\n",
      "done.\n",
      "\n",
      "Making a distance matrix from msa.. \n",
      "\r",
      "    0 / 969 (thread    0)\r",
      "  100 / 969 (thread    4)\r",
      "  200 / 969 (thread    0)\r",
      "  300 / 969 (thread    2)\r",
      "  400 / 969 (thread    4)\r",
      "  500 / 969 (thread    5)\r",
      "  600 / 969 (thread    3)\r",
      "  700 / 969 (thread    3)\r",
      "  800 / 969 (thread    2)\r",
      "  900 / 969 (thread    4)\n",
      "done.\n",
      "\n",
      "Constructing a UPGMA tree (efffree=1) ... \n",
      "\r",
      "    0 / 969\r",
      "   10 / 969\r",
      "   20 / 969\r",
      "   30 / 969\r",
      "   40 / 969\r",
      "   50 / 969\r",
      "   60 / 969\r",
      "   70 / 969\r",
      "   80 / 969\r",
      "   90 / 969\r",
      "  100 / 969\r",
      "  110 / 969\r",
      "  120 / 969\r",
      "  130 / 969\r",
      "  140 / 969\r",
      "  150 / 969\r",
      "  160 / 969\r",
      "  170 / 969\r",
      "  180 / 969\r",
      "  190 / 969\r",
      "  200 / 969\r",
      "  210 / 969\r",
      "  220 / 969\r",
      "  230 / 969\r",
      "  240 / 969\r",
      "  250 / 969\r",
      "  260 / 969\r",
      "  270 / 969\r",
      "  280 / 969\r",
      "  290 / 969\r",
      "  300 / 969\r",
      "  310 / 969\r",
      "  320 / 969\r",
      "  330 / 969\r",
      "  340 / 969\r",
      "  350 / 969\r",
      "  360 / 969\r",
      "  370 / 969\r",
      "  380 / 969\r",
      "  390 / 969\r",
      "  400 / 969\r",
      "  410 / 969\r",
      "  420 / 969\r",
      "  430 / 969\r",
      "  440 / 969\r",
      "  450 / 969\r",
      "  460 / 969\r",
      "  470 / 969\r",
      "  480 / 969\r",
      "  490 / 969\r",
      "  500 / 969\r",
      "  510 / 969\r",
      "  520 / 969\r",
      "  530 / 969\r",
      "  540 / 969\r",
      "  550 / 969\r",
      "  560 / 969\r",
      "  570 / 969\r",
      "  580 / 969\r",
      "  590 / 969\r",
      "  600 / 969\r",
      "  610 / 969\r",
      "  620 / 969\r",
      "  630 / 969\r",
      "  640 / 969\r",
      "  650 / 969\r",
      "  660 / 969\r",
      "  670 / 969\r",
      "  680 / 969\r",
      "  690 / 969\r",
      "  700 / 969\r",
      "  710 / 969\r",
      "  720 / 969\r",
      "  730 / 969\r",
      "  740 / 969\r",
      "  750 / 969\r",
      "  760 / 969\r",
      "  770 / 969\r",
      "  780 / 969\r",
      "  790 / 969\r",
      "  800 / 969\r",
      "  810 / 969\r",
      "  820 / 969\r",
      "  830 / 969\r",
      "  840 / 969\r",
      "  850 / 969\r",
      "  860 / 969\r",
      "  870 / 969\r",
      "  880 / 969\r",
      "  890 / 969\r",
      "  900 / 969\r",
      "  910 / 969\r",
      "  920 / 969\r",
      "  930 / 969\r",
      "  940 / 969\r",
      "  950 / 969\r",
      "  960 / 969\n",
      "done.\n",
      "\n",
      "Progressive alignment 2/2... \n",
      "\r",
      "STEP     1 / 968 (thread    2) f\b\b\r",
      "STEP     2 / 968 (thread    0) f\b\b\r",
      "STEP     3 / 968 (thread    1) f\b\b\r",
      "STEP     4 / 968 (thread    5)\r",
      "STEP     5 / 968 (thread    3) f\b\b f\b\b\r",
      "STEP     6 / 968 (thread    4) f\b\b\r",
      "STEP     7 / 968 (thread    0) f\b\b\r",
      "STEP     8 / 968 (thread    4) f\b\b\r",
      "STEP     9 / 968 (thread    1) f\b\b\r",
      "STEP    10 / 968 (thread    2) f\b\b\r",
      "STEP    11 / 968 (thread    5) f\b\b\r",
      "STEP    12 / 968 (thread    3) f\b\b\r",
      "STEP    13 / 968 (thread    0) f\b\b\r",
      "STEP    14 / 968 (thread    4) f\b\b\r",
      "STEP    15 / 968 (thread    1) f\b\b\r",
      "STEP    16 / 968 (thread    2) f\b\b\r",
      "STEP    17 / 968 (thread    5) f\b\b\r",
      "STEP    18 / 968 (thread    3) f\b\b\r",
      "STEP    19 / 968 (thread    0) f\b\b\r",
      "STEP    20 / 968 (thread    4) f\b\b\r",
      "STEP    21 / 968 (thread    1) f\b\b\r",
      "STEP    22 / 968 (thread    2) f\b\b\r",
      "STEP    23 / 968 (thread    5) f\b\b\r",
      "STEP    24 / 968 (thread    3) f\b\b\r",
      "STEP    25 / 968 (thread    0) f\b\b\r",
      "STEP    26 / 968 (thread    4) f\b\b\r",
      "STEP    27 / 968 (thread    1) f\b\b\r",
      "STEP    28 / 968 (thread    2) f\b\b\r",
      "STEP    29 / 968 (thread    5) f\b\b\r",
      "STEP    30 / 968 (thread    3) f\b\b\r",
      "STEP    31 / 968 (thread    0) f\b\b\r",
      "STEP    32 / 968 (thread    4) f\b\b\r",
      "STEP    33 / 968 (thread    1) f\b\b\r",
      "STEP    34 / 968 (thread    2) f\b\b\r",
      "STEP    35 / 968 (thread    5) f\b\b\r",
      "STEP    36 / 968 (thread    3) f\b\b\r",
      "STEP    37 / 968 (thread    0) f\b\b\r",
      "STEP    38 / 968 (thread    4) f\b\b\r",
      "STEP    39 / 968 (thread    1) f\b\b\r",
      "STEP    40 / 968 (thread    2) f\b\b\r",
      "STEP    41 / 968 (thread    3) f\b\b\r",
      "STEP    42 / 968 (thread    5) f\b\b\r",
      "STEP    43 / 968 (thread    0) f\b\b\r",
      "STEP    44 / 968 (thread    4) f\b\b\r",
      "STEP    45 / 968 (thread    1) f\b\b\r",
      "STEP    46 / 968 (thread    2) f\b\b\r",
      "STEP    47 / 968 (thread    3) f\b\b\r",
      "STEP    48 / 968 (thread    5) f\b\b\r",
      "STEP    49 / 968 (thread    0) f\b\b\r",
      "STEP    50 / 968 (thread    4) f\b\b\r",
      "STEP    51 / 968 (thread    3) f\b\b\r",
      "STEP    52 / 968 (thread    5) f\b\b\r",
      "STEP    53 / 968 (thread    0) f\b\b\r",
      "STEP    54 / 968 (thread    4) f\b\b\r",
      "STEP    55 / 968 (thread    3) f\b\b\r",
      "STEP    56 / 968 (thread    5) f\b\b\r",
      "STEP    57 / 968 (thread    1) f\b\b\r",
      "STEP    58 / 968 (thread    2) f\b\b\r",
      "STEP    59 / 968 (thread    0) f\b\b\r",
      "STEP    60 / 968 (thread    4) f\b\b\r",
      "STEP    61 / 968 (thread    3) f\b\b\r",
      "STEP    62 / 968 (thread    5) f\b\b\r",
      "STEP    63 / 968 (thread    1) f\b\b\r",
      "STEP    64 / 968 (thread    2) f\b\b\r",
      "STEP    65 / 968 (thread    0) f\b\b\r",
      "STEP    66 / 968 (thread    4) f\b\b\r",
      "STEP    67 / 968 (thread    3) f\b\b\r",
      "STEP    68 / 968 (thread    5) f\b\b\r",
      "STEP    69 / 968 (thread    1) f\b\b\r",
      "STEP    70 / 968 (thread    2) f\b\b\r",
      "STEP    71 / 968 (thread    0) f\b\b\r",
      "STEP    72 / 968 (thread    4) f\b\b\r",
      "STEP    73 / 968 (thread    3) f\b\b\r",
      "STEP    74 / 968 (thread    5) f\b\b\r",
      "STEP    75 / 968 (thread    1) f\b\b\r",
      "STEP    76 / 968 (thread    2) f\b\b\r",
      "STEP    77 / 968 (thread    0) f\b\b\r",
      "STEP    78 / 968 (thread    4) f\b\b\r",
      "STEP    79 / 968 (thread    3) f\b\b\r",
      "STEP    80 / 968 (thread    5) f\b\b\r",
      "STEP    81 / 968 (thread    1) f\b\b\r",
      "STEP    82 / 968 (thread    2) f\b\b\r",
      "STEP    83 / 968 (thread    0) f\b\b\r",
      "STEP    84 / 968 (thread    4) f\b\b\r",
      "STEP    85 / 968 (thread    3) f\b\b\r",
      "STEP    86 / 968 (thread    5) f\b\b\r",
      "STEP    87 / 968 (thread    1) f\b\b\r",
      "STEP    90 / 968 (thread    3) f\b\b\r",
      "STEP    88 / 968 (thread    2) f\b\b\r",
      "STEP    91 / 968 (thread    4) f\b\b\r",
      "STEP    92 / 968 (thread    3) f\b\b\r",
      "STEP    93 / 968 (thread    1) f\b\b\r",
      "STEP    94 / 968 (thread    5) f\b\b\r",
      "STEP    89 / 968 (thread    0) f\b\b\r",
      "STEP    95 / 968 (thread    4) f\b\b\r",
      "STEP    96 / 968 (thread    3) f\b\b\r",
      "STEP    97 / 968 (thread    2) f\b\b\r",
      "STEP    98 / 968 (thread    1) f\b\b\r",
      "STEP    99 / 968 (thread    5) f\b\b\r",
      "STEP   100 / 968 (thread    4) f\b\b\r",
      "STEP   101 / 968 (thread    3) f\b\b\r",
      "STEP   102 / 968 (thread    2) f\b\b\r",
      "STEP   103 / 968 (thread    1) f\b\b\r",
      "STEP   104 / 968 (thread    5) f\b\b\r",
      "STEP   105 / 968 (thread    0) f\b\b\r",
      "STEP   106 / 968 (thread    3) f\b\b\r",
      "STEP   107 / 968 (thread    4) f\b\b\r",
      "STEP   108 / 968 (thread    2) f\b\b\r",
      "STEP   110 / 968 (thread    5) f\b\b\r",
      "STEP   111 / 968 (thread    2) f\b\b\r",
      "STEP   109 / 968 (thread    1) f\b\b\r",
      "STEP   112 / 968 (thread    5) f\b\b\r",
      "STEP   113 / 968 (thread    2) f\b\b\r",
      "STEP   114 / 968 (thread    0) f\b\b\r",
      "STEP   115 / 968 (thread    4) f\b\b\r",
      "STEP   116 / 968 (thread    3) f\b\b\r",
      "STEP   117 / 968 (thread    5) f\b\b\r",
      "STEP   118 / 968 (thread    2) f\b\b\r",
      "STEP   119 / 968 (thread    1) f\b\b\r",
      "STEP   120 / 968 (thread    3) f\b\b\r",
      "STEP   121 / 968 (thread    5) f\b\b\r",
      "STEP   122 / 968 (thread    2) f\b\b\r",
      "STEP   123 / 968 (thread    1) f\b\b\r",
      "STEP   124 / 968 (thread    0) f\b\b\r",
      "STEP   125 / 968 (thread    4) f\b\b\r",
      "STEP   126 / 968 (thread    1) f\b\b\r",
      "STEP   127 / 968 (thread    0) f\b\b\r",
      "STEP   128 / 968 (thread    4) f\b\b\r",
      "STEP   129 / 968 (thread    3) f\b\b\r",
      "STEP   130 / 968 (thread    5) f\b\b\r",
      "STEP   131 / 968 (thread    1) f\b\b\r",
      "STEP   132 / 968 (thread    2) f\b\b\r",
      "STEP   133 / 968 (thread    0) f\b\b\r",
      "STEP   134 / 968 (thread    4) f\b\b\r",
      "STEP   135 / 968 (thread    5) f\b\b\r",
      "STEP   136 / 968 (thread    1) f\b\b\r",
      "STEP   137 / 968 (thread    0) f\b\b\r",
      "STEP   138 / 968 (thread    2) f\b\b\r",
      "STEP   139 / 968 (thread    4) f\b\b\r",
      "STEP   140 / 968 (thread    3) f\b\b\r",
      "STEP   141 / 968 (thread    5) f\b\b\r",
      "STEP   142 / 968 (thread    1) f\b\b\r",
      "STEP   143 / 968 (thread    0) f\b\b\r",
      "STEP   144 / 968 (thread    2) f\b\b\r",
      "STEP   145 / 968 (thread    4) f\b\b\r",
      "STEP   146 / 968 (thread    3) f\b\b\r",
      "STEP   147 / 968 (thread    5) f\b\b\r",
      "STEP   148 / 968 (thread    1) f\b\b\r",
      "STEP   149 / 968 (thread    0) f\b\b\r",
      "STEP   150 / 968 (thread    2) f\b\b\r",
      "STEP   151 / 968 (thread    4) f\b\b\r",
      "STEP   152 / 968 (thread    3) f\b\b\r",
      "STEP   153 / 968 (thread    5) f\b\b\r",
      "STEP   154 / 968 (thread    1) f\b\b\r",
      "STEP   155 / 968 (thread    2) f\b\b\r",
      "STEP   156 / 968 (thread    0) f\b\b\r",
      "STEP   157 / 968 (thread    4) f\b\b\r",
      "STEP   158 / 968 (thread    3) f\b\b\r",
      "STEP   159 / 968 (thread    5) f\b\b\r",
      "STEP   160 / 968 (thread    1) f\b\b\r",
      "STEP   161 / 968 (thread    2) f\b\b\r",
      "STEP   162 / 968 (thread    0) f\b\b\r",
      "STEP   163 / 968 (thread    4) f\b\b\r",
      "STEP   164 / 968 (thread    3) f\b\b\r",
      "STEP   165 / 968 (thread    5) f\b\b\r",
      "STEP   166 / 968 (thread    1) f\b\b\r",
      "STEP   167 / 968 (thread    4) f\b\b\r",
      "STEP   168 / 968 (thread    3) f\b\b\r",
      "STEP   169 / 968 (thread    5) f\b\b\r",
      "STEP   170 / 968 (thread    4) f\b\b\r",
      "STEP   171 / 968 (thread    0) f\b\b\r",
      "STEP   172 / 968 (thread    2) f\b\b\r",
      "STEP   173 / 968 (thread    3) f\b\b\r",
      "STEP   174 / 968 (thread    1) f\b\b\r",
      "STEP   175 / 968 (thread    4) f\b\b\r",
      "STEP   176 / 968 (thread    0) f\b\b\r",
      "STEP   177 / 968 (thread    3) f\b\b\r",
      "STEP   178 / 968 (thread    5) f\b\b\r",
      "STEP   179 / 968 (thread    1) f\b\b\r",
      "STEP   180 / 968 (thread    4) f\b\b\r",
      "STEP   181 / 968 (thread    2) f\b\b\r",
      "STEP   182 / 968 (thread    1) f\b\b\r",
      "STEP   183 / 968 (thread    4) f\b\b\r",
      "STEP   184 / 968 (thread    0) f\b\b\r",
      "STEP   185 / 968 (thread    2) f\b\b\r",
      "STEP   186 / 968 (thread    3) f\b\b\r",
      "STEP   187 / 968 (thread    5) f\b\b\r",
      "STEP   188 / 968 (thread    1) f\b\b\r",
      "STEP   189 / 968 (thread    4) f\b\b\r",
      "STEP   190 / 968 (thread    3) f\b\b\r",
      "STEP   191 / 968 (thread    5) f\b\b\r",
      "STEP   192 / 968 (thread    1) f\b\b\r",
      "STEP   193 / 968 (thread    0) f\b\b\r",
      "STEP   194 / 968 (thread    2) f\b\b\r",
      "STEP   195 / 968 (thread    5) f\b\b\r",
      "STEP   196 / 968 (thread    1) f\b\b\r",
      "STEP   197 / 968 (thread    0) f\b\b\r",
      "STEP   198 / 968 (thread    4) f\b\b\r",
      "STEP   199 / 968 (thread    3) f\b\b\r",
      "STEP   200 / 968 (thread    1) f\b\b\r",
      "STEP   201 / 968 (thread    0) f\b\b\r",
      "STEP   202 / 968 (thread    2) f\b\b\r",
      "STEP   203 / 968 (thread    1) f\b\b\r",
      "STEP   204 / 968 (thread    5) f\b\b\r",
      "STEP   205 / 968 (thread    0) f\b\b\r",
      "STEP   206 / 968 (thread    4) f\b\b\r",
      "STEP   207 / 968 (thread    2) f\b\b\r",
      "STEP   208 / 968 (thread    3) f\b\b\r",
      "STEP   209 / 968 (thread    1) f\b\b\r",
      "STEP   210 / 968 (thread    5) f\b\b\r",
      "STEP   211 / 968 (thread    0) f\b\b\r",
      "STEP   212 / 968 (thread    4) f\b\b\r",
      "STEP   213 / 968 (thread    2) f\b\b\r",
      "STEP   214 / 968 (thread    5) f\b\b\r",
      "STEP   215 / 968 (thread    0) f\b\b\r",
      "STEP   216 / 968 (thread    1) f\b\b\r",
      "STEP   217 / 968 (thread    3) f\b\b"
     ]
    },
    {
     "name": "stderr",
     "output_type": "stream",
     "text": [
      "\r",
      "STEP   218 / 968 (thread    4) f\b\b\r",
      "STEP   219 / 968 (thread    2) f\b\b\r",
      "STEP   220 / 968 (thread    5) f\b\b\r",
      "STEP   221 / 968 (thread    0) f\b\b\r",
      "STEP   222 / 968 (thread    1) f\b\b\r",
      "STEP   223 / 968 (thread    3) f\b\b\r",
      "STEP   224 / 968 (thread    4) f\b\b\r",
      "STEP   225 / 968 (thread    2) f\b\b\r",
      "STEP   226 / 968 (thread    1) f\b\b\r",
      "STEP   227 / 968 (thread    0) f\b\b\r",
      "STEP   228 / 968 (thread    3) f\b\b\r",
      "STEP   229 / 968 (thread    5) f\b\b\r",
      "STEP   230 / 968 (thread    4) f\b\b\r",
      "STEP   231 / 968 (thread    2) f\b\b\r",
      "STEP   232 / 968 (thread    1) f\b\b\r",
      "STEP   233 / 968 (thread    2) f\b\b\r",
      "STEP   234 / 968 (thread    1) f\b\b\r",
      "STEP   235 / 968 (thread    0) f\b\b\r",
      "STEP   236 / 968 (thread    3) f\b\b\r",
      "STEP   237 / 968 (thread    5) f\b\b\r",
      "STEP   238 / 968 (thread    4) f\b\b\r",
      "STEP   239 / 968 (thread    1) f\b\b\r",
      "STEP   240 / 968 (thread    3) f\b\b\r",
      "STEP   241 / 968 (thread    5) f\b\b\r",
      "STEP   242 / 968 (thread    2) f\b\b\r",
      "STEP   243 / 968 (thread    4) f\b\b\r",
      "STEP   244 / 968 (thread    0) f\b\b\r",
      "STEP   245 / 968 (thread    4) f\b\b\r",
      "STEP   246 / 968 (thread    2) f\b\b\r",
      "STEP   247 / 968 (thread    1) f\b\b\r",
      "STEP   248 / 968 (thread    3) f\b\b\r",
      "STEP   249 / 968 (thread    5) f\b\b\r",
      "STEP   250 / 968 (thread    4) f\b\b\r",
      "STEP   251 / 968 (thread    1) f\b\b\r",
      "STEP   252 / 968 (thread    3) f\b\b\r",
      "STEP   253 / 968 (thread    0) f\b\b\r",
      "STEP   254 / 968 (thread    2) f\b\b\r",
      "STEP   255 / 968 (thread    1) f\b\b\r",
      "STEP   256 / 968 (thread    3) f\b\b\r",
      "STEP   257 / 968 (thread    5) f\b\b\r",
      "STEP   258 / 968 (thread    4) f\b\b\r",
      "STEP   259 / 968 (thread    0) f\b\b\r",
      "STEP   260 / 968 (thread    5) f\b\b\r",
      "STEP   261 / 968 (thread    2) f\b\b\r",
      "STEP   262 / 968 (thread    1) f\b\b\r",
      "STEP   263 / 968 (thread    3) f\b\b\r",
      "STEP   264 / 968 (thread    4) f\b\b\r",
      "STEP   265 / 968 (thread    0) f\b\b\r",
      "STEP   266 / 968 (thread    5) f\b\b\r",
      "STEP   267 / 968 (thread    2) f\b\b\r",
      "STEP   268 / 968 (thread    1) f\b\b\r",
      "STEP   269 / 968 (thread    3) f\b\b\r",
      "STEP   270 / 968 (thread    4) f\b\b\r",
      "STEP   271 / 968 (thread    1) f\b\b\r",
      "STEP   272 / 968 (thread    0) f\b\b\r",
      "STEP   273 / 968 (thread    5) f\b\b\r",
      "STEP   274 / 968 (thread    2) f\b\b\r",
      "STEP   275 / 968 (thread    4) f\b\b\r",
      "STEP   276 / 968 (thread    1) f\b\b\r",
      "STEP   277 / 968 (thread    3) f\b\b\r",
      "STEP   278 / 968 (thread    5) f\b\b\r",
      "STEP   279 / 968 (thread    1) f\b\b\r",
      "STEP   280 / 968 (thread    3) f\b\b\r",
      "STEP   281 / 968 (thread    0) f\b\b\r",
      "STEP   282 / 968 (thread    2) f\b\b\r",
      "STEP   283 / 968 (thread    5) f\b\b\r",
      "STEP   284 / 968 (thread    4) f\b\b\r",
      "STEP   285 / 968 (thread    3) f\b\b\r",
      "STEP   286 / 968 (thread    0) f\b\b\r",
      "STEP   287 / 968 (thread    2) f\b\b\r",
      "STEP   288 / 968 (thread    5) f\b\b\r",
      "STEP   289 / 968 (thread    4) f\b\b\r",
      "STEP   290 / 968 (thread    1) f\b\b\r",
      "STEP   291 / 968 (thread    0) f\b\b\r",
      "STEP   292 / 968 (thread    3) f\b\b\r",
      "STEP   293 / 968 (thread    5) f\b\b\r",
      "STEP   294 / 968 (thread    4) f\b\b\r",
      "STEP   295 / 968 (thread    2) f\b\b\r",
      "STEP   296 / 968 (thread    1) f\b\b\r",
      "STEP   297 / 968 (thread    0) f\b\b\r",
      "STEP   298 / 968 (thread    4) f\b\b\r",
      "STEP   299 / 968 (thread    5) f\b\b\r",
      "STEP   300 / 968 (thread    2) f\b\b\r",
      "STEP   301 / 968 (thread    3) f\b\b\r",
      "STEP   302 / 968 (thread    0) f\b\b\r",
      "STEP   303 / 968 (thread    1) f\b\b\r",
      "STEP   305 / 968 (thread    3) f\b\b\r",
      "STEP   306 / 968 (thread    4) f\b\b\r",
      "STEP   304 / 968 (thread    0) f\b\b\r",
      "STEP   307 / 968 (thread    2) f\b\b\r",
      "STEP   308 / 968 (thread    5) f\b\b\r",
      "STEP   309 / 968 (thread    1) f\b\b\r",
      "STEP   310 / 968 (thread    3) f\b\b\r",
      "STEP   311 / 968 (thread    4) f\b\b\r",
      "STEP   312 / 968 (thread    2) f\b\b\r",
      "STEP   313 / 968 (thread    0) f\b\b\r",
      "STEP   314 / 968 (thread    5) f\b\b\r",
      "STEP   315 / 968 (thread    3) f\b\b\r",
      "STEP   316 / 968 (thread    4) f\b\b\r",
      "STEP   317 / 968 (thread    2) f\b\b\r",
      "STEP   318 / 968 (thread    1) f\b\b\r",
      "STEP   319 / 968 (thread    0) f\b\b\r",
      "STEP   320 / 968 (thread    1) f\b\b\r",
      "STEP   322 / 968 (thread    4) f\b\b\r",
      "STEP   323 / 968 (thread    3) f\b\b\r",
      "STEP   321 / 968 (thread    5) f\b\b\r",
      "STEP   325 / 968 (thread    2) f\b\b\r",
      "STEP   326 / 968 (thread    1) f\b\b\r",
      "STEP   327 / 968 (thread    4) f\b\b\r",
      "STEP   324 / 968 (thread    0) f\b\b\r",
      "STEP   328 / 968 (thread    3) f\b\b\r",
      "STEP   329 / 968 (thread    5) f\b\b\r",
      "STEP   330 / 968 (thread    4) f\b\b\r",
      "STEP   331 / 968 (thread    3) f\b\b\r",
      "STEP   332 / 968 (thread    5) f\b\b\r",
      "STEP   333 / 968 (thread    2) f\b\b\r",
      "STEP   334 / 968 (thread    1) f\b\b\r",
      "STEP   335 / 968 (thread    4) f\b\b\r",
      "STEP   336 / 968 (thread    3) f\b\b\r",
      "STEP   337 / 968 (thread    0) f\b\b\r",
      "STEP   338 / 968 (thread    1) f\b\b\r",
      "STEP   339 / 968 (thread    5) f\b\b\r",
      "STEP   340 / 968 (thread    2) f\b\b\r",
      "STEP   341 / 968 (thread    4) f\b\b\r",
      "STEP   342 / 968 (thread    3) f\b\b\r",
      "STEP   343 / 968 (thread    0) f\b\b\r",
      "STEP   344 / 968 (thread    5) f\b\b\r",
      "STEP   345 / 968 (thread    1) f\b\b\r",
      "STEP   346 / 968 (thread    2) f\b\b\r",
      "STEP   347 / 968 (thread    5) f\b\b\r",
      "STEP   348 / 968 (thread    4) f\b\b\r",
      "STEP   349 / 968 (thread    3) f\b\b\r",
      "STEP   350 / 968 (thread    0) f\b\b\r",
      "STEP   351 / 968 (thread    1) f\b\b\r",
      "STEP   352 / 968 (thread    2) f\b\b\r",
      "STEP   353 / 968 (thread    4) f\b\b\r",
      "STEP   354 / 968 (thread    3) f\b\b\r",
      "STEP   355 / 968 (thread    5) f\b\b\r",
      "STEP   356 / 968 (thread    0) f\b\b\r",
      "STEP   357 / 968 (thread    3) f\b\b\r",
      "STEP   358 / 968 (thread    1) f\b\b\r",
      "STEP   359 / 968 (thread    4) f\b\b\r",
      "STEP   360 / 968 (thread    2) f\b\b\r",
      "STEP   361 / 968 (thread    5) f\b\b\r",
      "STEP   362 / 968 (thread    0) f\b\b\r",
      "STEP   363 / 968 (thread    4) f\b\b\r",
      "STEP   364 / 968 (thread    3) f\b\b\r",
      "STEP   365 / 968 (thread    1) f\b\b\r",
      "STEP   366 / 968 (thread    2) f\b\b\r",
      "STEP   367 / 968 (thread    5) f\b\b\r",
      "STEP   368 / 968 (thread    1) f\b\b\r",
      "STEP   369 / 968 (thread    4) f\b\b\r",
      "STEP   370 / 968 (thread    0) f\b\b\r",
      "STEP   371 / 968 (thread    3) f\b\b\r",
      "STEP   372 / 968 (thread    5) f\b\b\r",
      "STEP   373 / 968 (thread    4) f\b\b\r",
      "STEP   374 / 968 (thread    0) f\b\b\r",
      "STEP   375 / 968 (thread    5) f\b\b\r",
      "STEP   376 / 968 (thread    2) f\b\b\r",
      "STEP   377 / 968 (thread    4) f\b\b\r",
      "STEP   378 / 968 (thread    3) f\b\b\r",
      "STEP   379 / 968 (thread    1) f\b\b\r",
      "STEP   380 / 968 (thread    4) f\b\b\r",
      "STEP   381 / 968 (thread    0) f\b\b\r",
      "STEP   382 / 968 (thread    5) f\b\b\r",
      "STEP   383 / 968 (thread    2) f\b\b\r",
      "STEP   384 / 968 (thread    4) f\b\b\r",
      "STEP   385 / 968 (thread    0) f\b\b\r",
      "STEP   386 / 968 (thread    5) f\b\b\r",
      "STEP   387 / 968 (thread    3) f\b\b\r",
      "STEP   388 / 968 (thread    1) f\b\b\r",
      "STEP   389 / 968 (thread    5) f\b\b\r",
      "STEP   390 / 968 (thread    2) f\b\b\r",
      "STEP   391 / 968 (thread    4) f\b\b\r",
      "STEP   392 / 968 (thread    0) f\b\b\r",
      "STEP   393 / 968 (thread    1) f\b\b\r",
      "STEP   394 / 968 (thread    3) f\b\b\r",
      "STEP   395 / 968 (thread    5) f\b\b\r",
      "STEP   397 / 968 (thread    4) f\b\b\r",
      "STEP   398 / 968 (thread    0) f\b\b\r",
      "STEP   396 / 968 (thread    2) f\b\b\r",
      "STEP   399 / 968 (thread    1) f\b\b\r",
      "STEP   400 / 968 (thread    3) f\b\b\r",
      "STEP   401 / 968 (thread    5) f\b\b\r",
      "STEP   402 / 968 (thread    4) f\b\b\r",
      "STEP   403 / 968 (thread    2) f\b\b\r",
      "STEP   404 / 968 (thread    0) f\b\b\r",
      "STEP   405 / 968 (thread    1) f\b\b\r",
      "STEP   406 / 968 (thread    5) f\b\b\r",
      "STEP   407 / 968 (thread    3) f\b\b\r",
      "STEP   408 / 968 (thread    4) f\b\b\r",
      "STEP   409 / 968 (thread    0) f\b\b\r",
      "STEP   410 / 968 (thread    2) f\b\b\r",
      "STEP   411 / 968 (thread    1) f\b\b\r",
      "STEP   412 / 968 (thread    5) f\b\b\r",
      "STEP   413 / 968 (thread    1) f\b\b\r",
      "STEP   414 / 968 (thread    3) f\b\b\r",
      "STEP   415 / 968 (thread    4) f\b\b\r",
      "STEP   416 / 968 (thread    0) f\b\b\r",
      "STEP   417 / 968 (thread    1) f\b\b\r",
      "STEP   418 / 968 (thread    3) f\b\b\r",
      "STEP   419 / 968 (thread    5) f\b\b\r",
      "STEP   420 / 968 (thread    4) f\b\b\r",
      "STEP   421 / 968 (thread    1) f\b\b\r",
      "STEP   422 / 968 (thread    2) f\b\b\r",
      "STEP   423 / 968 (thread    0) f\b\b\r",
      "STEP   424 / 968 (thread    3) f\b\b\r",
      "STEP   425 / 968 (thread    4) f\b\b\r",
      "STEP   426 / 968 (thread    5) f\b\b\r",
      "STEP   427 / 968 (thread    1) f\b\b\r",
      "STEP   428 / 968 (thread    0) f\b\b\r",
      "STEP   429 / 968 (thread    2) f\b\b\r",
      "STEP   430 / 968 (thread    3) f\b\b\r",
      "STEP   431 / 968 (thread    1) f\b\b\r",
      "STEP   432 / 968 (thread    4) f\b\b\r",
      "STEP   433 / 968 (thread    2) f\b\b\r",
      "STEP   434 / 968 (thread    4) f\b\b\r",
      "STEP   435 / 968 (thread    5) f\b\b\r",
      "STEP   436 / 968 (thread    0) f\b\b\r",
      "STEP   437 / 968 (thread    1) f\b\b\r",
      "STEP   438 / 968 (thread    3) f\b\b\r",
      "STEP   439 / 968 (thread    1) f\b\b\r",
      "STEP   440 / 968 (thread    2) f\b\b\r",
      "STEP   441 / 968 (thread    5) f\b\b\r",
      "STEP   442 / 968 (thread    4) f\b\b\r",
      "STEP   443 / 968 (thread    1) f\b\b\r",
      "STEP   444 / 968 (thread    2) f\b\b\r",
      "STEP   445 / 968 (thread    0) f\b\b\r",
      "STEP   446 / 968 (thread    5) f\b\b\r",
      "STEP   447 / 968 (thread    3) f\b\b\r",
      "STEP   448 / 968 (thread    4) f\b\b\r",
      "STEP   449 / 968 (thread    1) f\b\b\r",
      "STEP   450 / 968 (thread    0) f\b\b\r",
      "STEP   451 / 968 (thread    3) f\b\b\r",
      "STEP   452 / 968 (thread    2) f\b\b\r",
      "STEP   453 / 968 (thread    5) f\b\b\r",
      "STEP   454 / 968 (thread    4) f\b\b\r",
      "STEP   455 / 968 (thread    1) f\b\b\r",
      "STEP   456 / 968 (thread    0) f\b\b\r",
      "STEP   458 / 968 (thread    2) f\b\b\r",
      "STEP   459 / 968 (thread    5) f\b\b\r",
      "STEP   457 / 968 (thread    3) f\b\b\r",
      "STEP   460 / 968 (thread    4) f\b\b\r",
      "STEP   461 / 968 (thread    4) f\b\b\r",
      "STEP   462 / 968 (thread    1) f\b\b\r",
      "STEP   463 / 968 (thread    5) f\b\b\r",
      "STEP   464 / 968 (thread    0) f\b\b\r",
      "STEP   465 / 968 (thread    2) f\b\b\r",
      "STEP   466 / 968 (thread    1) f\b\b\r",
      "STEP   467 / 968 (thread    3) f\b\b\r",
      "STEP   468 / 968 (thread    4) f\b\b\r",
      "STEP   469 / 968 (thread    5) f\b\b\r",
      "STEP   470 / 968 (thread    0) f\b\b\r",
      "STEP   471 / 968 (thread    2) f\b\b\r",
      "STEP   472 / 968 (thread    3) f\b\b\r",
      "STEP   473 / 968 (thread    1) f\b\b\r",
      "STEP   474 / 968 (thread    4) f\b\b\r",
      "STEP   475 / 968 (thread    5) f\b\b\r",
      "STEP   476 / 968 (thread    0) f\b\b\r",
      "STEP   477 / 968 (thread    2) f\b\b\r",
      "STEP   478 / 968 (thread    3) f\b\b\r",
      "STEP   479 / 968 (thread    5) f\b\b\r",
      "STEP   480 / 968 (thread    0) f\b\b\r",
      "STEP   481 / 968 (thread    1) f\b\b\r",
      "STEP   482 / 968 (thread    2) f\b\b\r",
      "STEP   484 / 968 (thread    3) f\b\b\r",
      "STEP   486 / 968 (thread    0) f\b\b\r",
      "STEP   483 / 968 (thread    4) f\b\b\r",
      "STEP   487 / 968 (thread    1) f\b\b\r",
      "STEP   485 / 968 (thread    5) f\b\b\r",
      "STEP   488 / 968 (thread    1) f\b\b\r",
      "STEP   489 / 968 (thread    2) f\b\b\r",
      "STEP   490 / 968 (thread    3) f\b\b\r",
      "STEP   491 / 968 (thread    0) f\b\b\r",
      "STEP   492 / 968 (thread    4) f\b\b\r",
      "STEP   493 / 968 (thread    5) f\b\b\r",
      "STEP   494 / 968 (thread    1) f\b\b\r",
      "STEP   495 / 968 (thread    2) f\b\b\r",
      "STEP   496 / 968 (thread    3) f\b\b\r",
      "STEP   497 / 968 (thread    4) f\b\b\r",
      "STEP   498 / 968 (thread    0) f\b\b\r",
      "STEP   499 / 968 (thread    5) f\b\b\r",
      "STEP   500 / 968 (thread    4) f\b\b\r",
      "STEP   501 / 968 (thread    1) f\b\b\r",
      "STEP   601 / 968 (thread    4) f\b\b\r",
      "STEP   701 / 968 (thread    3) f\b\b\r",
      "STEP   801 / 968 (thread    1) f\b\b\n",
      "Reallocating..done. *alloclen = 1868\n",
      "\r",
      "STEP   901 / 968 (thread    0) f\b\b"
     ]
    },
    {
     "name": "stderr",
     "output_type": "stream",
     "text": [
      "\n",
      "done.\n",
      "\n",
      "disttbfast (nuc) Version 7.520\n",
      "alg=A, model=DNA200 (2), 1.53 (4.59), -0.00 (-0.00), noshift, amax=0.0\n",
      "6 thread(s)\n",
      "\n",
      "\n",
      "Strategy:\n",
      " FFT-NS-2 (Fast but rough)\n",
      " Progressive method (guide trees were built 2 times.)\n",
      "\n",
      "If unsure which option to use, try 'mafft --auto input > output'.\n",
      "For more information, see 'mafft --help', 'mafft --man' and the mafft page.\n",
      "\n",
      "The default gap scoring scheme has been changed in version 7.110 (2013 Oct).\n",
      "It tends to insert more gaps into gap-rich regions than previous versions.\n",
      "To disable this change, add the --leavegappyregion option.\n",
      "\n"
     ]
    },
    {
     "name": "stdout",
     "output_type": "stream",
     "text": [
      "Running external command line application. This may print messages to stdout and/or stderr.\n",
      "The command being run is below. This command cannot be manually re-run as it will depend on temporary files that no longer exist.\n",
      "\n",
      "Command: FastTreeMP -quote -nt /tmp/qiime2/lauro/data/1a22a870-f6b8-435b-8c85-05bfc6e0f08d/data/aligned-dna-sequences.fasta\n",
      "\n"
     ]
    },
    {
     "name": "stderr",
     "output_type": "stream",
     "text": [
      "FastTree Version 2.1.11 Double precision (No SSE3), OpenMP (6 threads)\n",
      "Alignment: /tmp/qiime2/lauro/data/1a22a870-f6b8-435b-8c85-05bfc6e0f08d/data/aligned-dna-sequences.fasta\n",
      "Nucleotide distances: Jukes-Cantor Joins: balanced Support: SH-like 1000\n",
      "Search: Normal +NNI +SPR (2 rounds range 10) +ML-NNI opt-each=1\n",
      "TopHits: 1.00*sqrtN close=default refresh=0.80\n",
      "ML Model: Jukes-Cantor, CAT approximation with 20 rate categories\n",
      "      0.12 seconds: Joined    300 of    932\n"
     ]
    },
    {
     "name": "stderr",
     "output_type": "stream",
     "text": [
      "      0.23 seconds: Joined    600 of    932\n",
      "      0.33 seconds: Joined    900 of    932\n",
      "Initial topology in 0.34 seconds\n",
      "Refining topology: 39 rounds ME-NNIs, 2 rounds ME-SPRs, 20 rounds ML-NNIs\n"
     ]
    },
    {
     "name": "stderr",
     "output_type": "stream",
     "text": [
      "      0.45 seconds: SPR round   1 of   2, 101 of 1868 nodes\n",
      "      0.55 seconds: SPR round   1 of   2, 401 of 1868 nodes\n"
     ]
    },
    {
     "name": "stderr",
     "output_type": "stream",
     "text": [
      "      0.68 seconds: SPR round   1 of   2, 701 of 1868 nodes\n",
      "      0.79 seconds: SPR round   1 of   2, 1001 of 1868 nodes\n"
     ]
    },
    {
     "name": "stderr",
     "output_type": "stream",
     "text": [
      "      0.92 seconds: SPR round   1 of   2, 1301 of 1868 nodes\n",
      "      1.02 seconds: SPR round   1 of   2, 1601 of 1868 nodes\n"
     ]
    },
    {
     "name": "stderr",
     "output_type": "stream",
     "text": [
      "      1.12 seconds: ME NNI round 14 of 39, 1 of 933 splits\n",
      "      1.23 seconds: SPR round   2 of   2, 201 of 1868 nodes\n"
     ]
    },
    {
     "name": "stderr",
     "output_type": "stream",
     "text": [
      "      1.35 seconds: SPR round   2 of   2, 501 of 1868 nodes\n",
      "      1.47 seconds: SPR round   2 of   2, 801 of 1868 nodes\n"
     ]
    },
    {
     "name": "stderr",
     "output_type": "stream",
     "text": [
      "      1.60 seconds: SPR round   2 of   2, 1101 of 1868 nodes\n",
      "      1.70 seconds: SPR round   2 of   2, 1401 of 1868 nodes\n"
     ]
    },
    {
     "name": "stderr",
     "output_type": "stream",
     "text": [
      "      1.82 seconds: SPR round   2 of   2, 1701 of 1868 nodes\n",
      "Total branch-length 21.545 after 1.92 sec\n",
      "      1.92 seconds: ML Lengths 1 of 933 splits\n"
     ]
    },
    {
     "name": "stderr",
     "output_type": "stream",
     "text": [
      "      2.03 seconds: ML Lengths 701 of 933 splits\n",
      "      2.15 seconds: ML NNI round 1 of 20, 301 of 933 splits, 52 changes (max delta 8.637)\n"
     ]
    },
    {
     "name": "stderr",
     "output_type": "stream",
     "text": [
      "      2.25 seconds: ML NNI round 1 of 20, 701 of 933 splits, 110 changes (max delta 9.938)\n",
      "ML-NNI round 1: LogLk = -55607.325 NNIs 142 max delta 9.94 Time 2.32\n",
      "      2.36 seconds: Site likelihoods with rate category 7 of 20\n",
      "Switched to using 20 rate categories (CAT approximation)\n",
      "Rate categories were divided by 1.102 so that average rate = 1.0\n",
      "CAT-based log-likelihoods may not be comparable across runs\n",
      "Use -gamma for approximate but comparable Gamma(20) log-likelihoods\n"
     ]
    },
    {
     "name": "stderr",
     "output_type": "stream",
     "text": [
      "      2.47 seconds: ML NNI round 2 of 20, 101 of 933 splits, 7 changes (max delta 3.959)\n",
      "      2.58 seconds: ML NNI round 2 of 20, 501 of 933 splits, 51 changes (max delta 9.891)\n"
     ]
    },
    {
     "name": "stderr",
     "output_type": "stream",
     "text": [
      "      2.70 seconds: ML NNI round 2 of 20, 901 of 933 splits, 92 changes (max delta 9.891)\n",
      "ML-NNI round 2: LogLk = -46220.140 NNIs 94 max delta 9.89 Time 2.72\n",
      "      2.82 seconds: ML NNI round 3 of 20, 401 of 933 splits, 16 changes (max delta 1.881)\n",
      "ML-NNI round 3: LogLk = -46191.531 NNIs 26 max delta 3.71 Time 2.90\n"
     ]
    },
    {
     "name": "stderr",
     "output_type": "stream",
     "text": [
      "      2.92 seconds: ML NNI round 4 of 20, 101 of 933 splits, 1 changes (max delta 0.094)\n",
      "ML-NNI round 4: LogLk = -46176.216 NNIs 8 max delta 7.07 Time 3.02\n",
      "      3.05 seconds: ML NNI round 5 of 20, 101 of 933 splits, 7 changes (max delta 3.339)\n",
      "ML-NNI round 5: LogLk = -46163.983 NNIs 7 max delta 3.34 Time 3.06\n",
      "ML-NNI round 6: LogLk = -46163.188 NNIs 2 max delta 0.00 Time 3.09\n",
      "Turning off heuristics for final round of ML NNIs (converged)\n"
     ]
    },
    {
     "name": "stderr",
     "output_type": "stream",
     "text": [
      "      3.16 seconds: ML NNI round 7 of 20, 301 of 933 splits, 4 changes (max delta 1.353)\n",
      "      3.27 seconds: ML NNI round 7 of 20, 701 of 933 splits, 11 changes (max delta 2.032)\n",
      "ML-NNI round 7: LogLk = -46148.700 NNIs 12 max delta 2.03 Time 3.34 (final)\n"
     ]
    },
    {
     "name": "stderr",
     "output_type": "stream",
     "text": [
      "      3.38 seconds: ML Lengths 301 of 933 splits\n",
      "Optimize all lengths: LogLk = -46147.411 Time 3.46\n",
      "      3.53 seconds: ML split tests for    100 of    932 internal splits\n"
     ]
    },
    {
     "name": "stderr",
     "output_type": "stream",
     "text": [
      "      3.67 seconds: ML split tests for    300 of    932 internal splits\n",
      "      3.81 seconds: ML split tests for    500 of    932 internal splits\n"
     ]
    },
    {
     "name": "stderr",
     "output_type": "stream",
     "text": [
      "      3.95 seconds: ML split tests for    700 of    932 internal splits\n",
      "      4.09 seconds: ML split tests for    900 of    932 internal splits\n",
      "Total time: 4.12 seconds Unique: 935/969 Bad splits: 0/932\n"
     ]
    }
   ],
   "source": [
    "mafft_alignment, mafft_masked_alignment, mafft_tree, mafft_rooted_tree = align_to_tree_mafft_fasttree(\n",
    "    sequences=reps, n_threads=6, )"
   ]
  },
  {
   "cell_type": "markdown",
   "id": "0768d598",
   "metadata": {
    "papermill": {
     "duration": 0.004308,
     "end_time": "2024-03-05T22:19:06.087084",
     "exception": false,
     "start_time": "2024-03-05T22:19:06.082776",
     "status": "completed"
    },
    "tags": []
   },
   "source": [
    "### Compute Alpha Diversity (Phylogeny)\n",
    "- [diversity alpha_phylogenetic](https://docs.qiime2.org/2022.8/plugins/available/diversity/alpha-phylogenetic/): Computes a user-specified phylogenetic alpha diversity metric for all samples in a feature table.\n",
    "- Metrics: Choices ('faith_pd')"
   ]
  },
  {
   "cell_type": "code",
   "execution_count": 11,
   "id": "0383aa19",
   "metadata": {
    "ExecuteTime": {
     "end_time": "2022-09-29T20:54:35.310009Z",
     "start_time": "2022-09-29T20:54:35.141333Z"
    },
    "execution": {
     "iopub.execute_input": "2024-03-05T22:19:06.096558Z",
     "iopub.status.busy": "2024-03-05T22:19:06.096348Z",
     "iopub.status.idle": "2024-03-05T22:19:06.222321Z",
     "shell.execute_reply": "2024-03-05T22:19:06.221786Z"
    },
    "papermill": {
     "duration": 0.13206,
     "end_time": "2024-03-05T22:19:06.223385",
     "exception": false,
     "start_time": "2024-03-05T22:19:06.091325",
     "status": "completed"
    },
    "tags": []
   },
   "outputs": [
    {
     "name": "stdout",
     "output_type": "stream",
     "text": [
      "Calculating alpha diversity: faith_pd\n",
      "Running external command line application. This may print messages to stdout and/or stderr.\n",
      "The command being run is below. This command cannot be manually re-run as it will depend on temporary files that no longer exist.\n",
      "\n",
      "Command:\n",
      "\n",
      "faithpd -i /tmp/qiime2/lauro/data/66b1a644-385e-4dc1-a48e-d2a327d735ca/data/feature-table.biom -t /tmp/qiime2/lauro/data/c463906b-655a-41c9-955f-bc51492b18b9/data/tree.nwk -o /tmp/q2-AlphaDiversityFormat-gnww3l7l\n",
      "\n",
      "DONE: Calculating alpha phylogeny: faith_pd\n"
     ]
    }
   ],
   "source": [
    "metrics = ('faith_pd', )\n",
    "alpha_diversities_phylogenetic = dict()\n",
    "for metric in metrics:\n",
    "    print(f\"Calculating alpha diversity: {metric}\")\n",
    "    try:\n",
    "        alpha_diversity = alpha_phylogenetic(table=tabs, phylogeny=mafft_rooted_tree, metric=metric).alpha_diversity\n",
    "        alpha_diversities_phylogenetic[metric] = alpha_diversity\n",
    "        # Save Artifact\n",
    "        file_path = os.path.join(alpha_path, f'alpha-phylogeny-{metric}.qza')\n",
    "        alpha_diversity.save(file_path)\n",
    "        print(f\"DONE: Calculating alpha phylogeny: {metric}\")\n",
    "    except Exception as e:\n",
    "        print(f\"ERROR: Calculating alpha phylogeny: {metric}\")"
   ]
  },
  {
   "cell_type": "markdown",
   "id": "42db1ead",
   "metadata": {
    "papermill": {
     "duration": 0.004361,
     "end_time": "2024-03-05T22:19:06.232418",
     "exception": false,
     "start_time": "2024-03-05T22:19:06.228057",
     "status": "completed"
    },
    "tags": []
   },
   "source": [
    "- [core-metrics-phylogenetic](https://docs.qiime2.org/2023.7/plugins/available/diversity/core-metrics-phylogenetic/)"
   ]
  },
  {
   "cell_type": "code",
   "execution_count": 12,
   "id": "ef726ab7",
   "metadata": {
    "execution": {
     "iopub.execute_input": "2024-03-05T22:19:06.242159Z",
     "iopub.status.busy": "2024-03-05T22:19:06.241988Z",
     "iopub.status.idle": "2024-03-05T22:19:08.105499Z",
     "shell.execute_reply": "2024-03-05T22:19:08.104971Z"
    },
    "papermill": {
     "duration": 1.869816,
     "end_time": "2024-03-05T22:19:08.106674",
     "exception": false,
     "start_time": "2024-03-05T22:19:06.236858",
     "status": "completed"
    },
    "tags": []
   },
   "outputs": [
    {
     "name": "stderr",
     "output_type": "stream",
     "text": [
      "/home/lauro/anaconda3/envs/qiime2-2023.5/lib/python3.8/site-packages/sklearn/metrics/pairwise.py:1761: DataConversionWarning: Data was converted to boolean for metric jaccard\n",
      "  warnings.warn(msg, DataConversionWarning)\n"
     ]
    },
    {
     "name": "stdout",
     "output_type": "stream",
     "text": [
      "Running external command line application. This may print messages to stdout and/or stderr.\n",
      "The command being run is below. This command cannot be manually re-run as it will depend on temporary files that no longer exist.\n",
      "\n",
      "Command:\n",
      "\n",
      "faithpd -i /tmp/qiime2/lauro/data/96e48c01-8d77-4dd2-8bd7-e5c9045c0285/data/feature-table.biom -t /tmp/qiime2/lauro/data/c463906b-655a-41c9-955f-bc51492b18b9/data/tree.nwk -o /tmp/q2-AlphaDiversityFormat-s9f7o77f\n",
      "\n",
      "Running external command line application. This may print messages to stdout and/or stderr.\n",
      "The command being run is below. This command cannot be manually re-run as it will depend on temporary files that no longer exist.\n",
      "\n",
      "Command:\n",
      "\n",
      "ssu -i /tmp/qiime2/lauro/data/96e48c01-8d77-4dd2-8bd7-e5c9045c0285/data/feature-table.biom -t /tmp/qiime2/lauro/data/c463906b-655a-41c9-955f-bc51492b18b9/data/tree.nwk -m unweighted -o /tmp/q2-LSMatFormat-uxc8_mks\n",
      "\n"
     ]
    },
    {
     "name": "stdout",
     "output_type": "stream",
     "text": [
      "Running external command line application. This may print messages to stdout and/or stderr.\n",
      "The command being run is below. This command cannot be manually re-run as it will depend on temporary files that no longer exist.\n",
      "\n",
      "Command:\n",
      "\n",
      "ssu -i /tmp/qiime2/lauro/data/96e48c01-8d77-4dd2-8bd7-e5c9045c0285/data/feature-table.biom -t /tmp/qiime2/lauro/data/c463906b-655a-41c9-955f-bc51492b18b9/data/tree.nwk -m weighted_unnormalized -o /tmp/q2-LSMatFormat-cr6efy7e\n",
      "\n"
     ]
    },
    {
     "name": "stderr",
     "output_type": "stream",
     "text": [
      "/home/lauro/anaconda3/envs/qiime2-2023.5/lib/python3.8/site-packages/skbio/stats/ordination/_principal_coordinate_analysis.py:143: RuntimeWarning: The result contains negative eigenvalues. Please compare their magnitude with the magnitude of some of the largest positive eigenvalues. If the negative ones are smaller, it's probably safe to ignore them, but if they are large in magnitude, the results won't be useful. See the Notes section for more details. The smallest eigenvalue is -0.002247714650771372 and the largest is 0.5418111429279165.\n",
      "  warn(\n"
     ]
    }
   ],
   "source": [
    "s_depth = int(tabs.view(pd.DataFrame).sum(axis=1).min())\n",
    "results = core_metrics_phylogenetic(\n",
    "    table = tabs,\n",
    "    phylogeny = mafft_rooted_tree,\n",
    "    sampling_depth = s_depth,\n",
    "    metadata = metadata_qa,\n",
    "    n_jobs_or_threads = 6,\n",
    ")"
   ]
  },
  {
   "cell_type": "code",
   "execution_count": 13,
   "id": "19311218",
   "metadata": {
    "execution": {
     "iopub.execute_input": "2024-03-05T22:19:08.117224Z",
     "iopub.status.busy": "2024-03-05T22:19:08.117016Z",
     "iopub.status.idle": "2024-03-05T22:19:08.120877Z",
     "shell.execute_reply": "2024-03-05T22:19:08.120542Z"
    },
    "papermill": {
     "duration": 0.010235,
     "end_time": "2024-03-05T22:19:08.121802",
     "exception": false,
     "start_time": "2024-03-05T22:19:08.111567",
     "status": "completed"
    },
    "tags": []
   },
   "outputs": [],
   "source": [
    "results_info = [(\"rarefied_table\", \"FeatureTable[Frequency]\", \"The resulting rarefied feature table.\"),\n",
    "(\"faith_pd_vector\", \"SampleData[AlphaDiversity]\", \"Vector of Faith PD values by sample.\"),\n",
    "(\"observed_features_vector\", \"SampleData[AlphaDiversity]\", \"Vector of Observed Features values by sample.\"),\n",
    "(\"shannon_vector\", \"SampleData[AlphaDiversity]\", \"Vector of Shannon diversity values by sample.\"),\n",
    "(\"evenness_vector\", \"SampleData[AlphaDiversity]\", \"Vector of Pielou's evenness values by sample.\"),\n",
    "(\"unweighted_unifrac_distance_matrix\", \"DistanceMatrix\", \"Matrix of unweighted UniFrac distances between pairs of samples.\"),\n",
    "(\"weighted_unifrac_distance_matrix\", \"DistanceMatrix\", \"Matrix of weighted UniFrac distances between pairs of samples.\"),\n",
    "(\"jaccard_distance_matrix\", \"DistanceMatrix\", \"Matrix of Jaccard distances between pairs of samples.\"),\n",
    "(\"bray_curtis_distance_matrix\", \"DistanceMatrix\", \"Matrix of Bray-Curtis distances between pairs of samples.\"),\n",
    "(\"unweighted_unifrac_pcoa_results\", \"PCoAResults\", \"PCoA matrix computed from unweighted UniFrac distances between samples.\"),\n",
    "(\"weighted_unifrac_pcoa_results\", \"PCoAResults\", \"PCoA matrix computed from weighted UniFrac distances between samples.\"),\n",
    "(\"jaccard_pcoa_results\", \"PCoAResults\", \"PCoA matrix computed from Jaccard distances between samples.\"),\n",
    "(\"bray_curtis_pcoa_results\", \"PCoAResults\", \"PCoA matrix computed from Bray-Curtis distances between samples.\"),\n",
    "(\"unweighted_unifrac_emperor\", \"Visualization\", \"Emperor plot of the PCoA matrix computed from unweighted UniFrac.\"),\n",
    "(\"weighted_unifrac_emperor\", \"Visualization\", \"Emperor plot of the PCoA matrix computed from weighted UniFrac.\"),\n",
    "(\"jaccard_emperor\", \"Visualization\", \"Emperor plot of the PCoA matrix computed from Jaccard.\"),\n",
    "(\"bray_curtis_emperor\", \"Visualization\", \"Emperor plot of the PCoA matrix computed from Bray-Curtis.\")]"
   ]
  },
  {
   "cell_type": "code",
   "execution_count": 14,
   "id": "2264925a",
   "metadata": {
    "execution": {
     "iopub.execute_input": "2024-03-05T22:19:08.131611Z",
     "iopub.status.busy": "2024-03-05T22:19:08.131451Z",
     "iopub.status.idle": "2024-03-05T22:19:08.418121Z",
     "shell.execute_reply": "2024-03-05T22:19:08.417589Z"
    },
    "papermill": {
     "duration": 0.292759,
     "end_time": "2024-03-05T22:19:08.419201",
     "exception": false,
     "start_time": "2024-03-05T22:19:08.126442",
     "status": "completed"
    },
    "tags": []
   },
   "outputs": [
    {
     "name": "stdout",
     "output_type": "stream",
     "text": [
      "13 unweighted_unifrac_emperor Visualization\n",
      "--- Emperor plot of the PCoA matrix computed from unweighted UniFrac. ---\n",
      "Saving emperor file at: /mnt/nupeb/rede-micro/redemicro-ana-flavia-nutri/experiments/ana-flavia-NRxSTD-NR-trim/qiime-artifacts/beta-analysis/unweighted_unifrac_emperor.qzv\n",
      "\n",
      "14 weighted_unifrac_emperor Visualization\n",
      "--- Emperor plot of the PCoA matrix computed from weighted UniFrac. ---\n",
      "Saving emperor file at: /mnt/nupeb/rede-micro/redemicro-ana-flavia-nutri/experiments/ana-flavia-NRxSTD-NR-trim/qiime-artifacts/beta-analysis/weighted_unifrac_emperor.qzv\n",
      "\n",
      "15 jaccard_emperor Visualization\n",
      "--- Emperor plot of the PCoA matrix computed from Jaccard. ---\n",
      "Saving emperor file at: /mnt/nupeb/rede-micro/redemicro-ana-flavia-nutri/experiments/ana-flavia-NRxSTD-NR-trim/qiime-artifacts/beta-analysis/jaccard_emperor.qzv\n",
      "\n"
     ]
    },
    {
     "name": "stdout",
     "output_type": "stream",
     "text": [
      "16 bray_curtis_emperor Visualization\n",
      "--- Emperor plot of the PCoA matrix computed from Bray-Curtis. ---\n",
      "Saving emperor file at: /mnt/nupeb/rede-micro/redemicro-ana-flavia-nutri/experiments/ana-flavia-NRxSTD-NR-trim/qiime-artifacts/beta-analysis/bray_curtis_emperor.qzv\n",
      "\n"
     ]
    }
   ],
   "source": [
    "distance_matrix = dict()\n",
    "for i, info in enumerate(results_info):\n",
    "    r_id, r_type, r_desc = info\n",
    "    #print(i, r_id, r_type)\n",
    "    file_name = f\"{r_id}.qzv\"\n",
    "    if r_type == \"FeatureTable[Frequency]\":\n",
    "        pass\n",
    "    elif r_type == \"DistanceMatrix\":\n",
    "        distance_matrix[r_id] = results[i]\n",
    "    elif r_id.endswith('emperor'):\n",
    "        print(i, r_id, r_type)\n",
    "        print(f\"--- {r_desc} ---\")\n",
    "        file_name = os.path.join(beta_path, file_name)\n",
    "        print(f'Saving emperor file at: {file_name}\\n')\n",
    "        results[i].save(filepath=file_name)"
   ]
  },
  {
   "cell_type": "markdown",
   "id": "c7752cfd",
   "metadata": {
    "papermill": {
     "duration": 0.004566,
     "end_time": "2024-03-05T22:19:08.428667",
     "exception": false,
     "start_time": "2024-03-05T22:19:08.424101",
     "status": "completed"
    },
    "tags": []
   },
   "source": [
    "### Alpha diversity correlation\n",
    "\n",
    "This method only process `numeric` columns.\n"
   ]
  },
  {
   "cell_type": "code",
   "execution_count": 15,
   "id": "2814f613",
   "metadata": {
    "ExecuteTime": {
     "end_time": "2022-09-29T20:54:35.317618Z",
     "start_time": "2022-09-29T20:54:35.312094Z"
    },
    "execution": {
     "iopub.execute_input": "2024-03-05T22:19:08.438678Z",
     "iopub.status.busy": "2024-03-05T22:19:08.438496Z",
     "iopub.status.idle": "2024-03-05T22:19:08.442891Z",
     "shell.execute_reply": "2024-03-05T22:19:08.442355Z"
    },
    "papermill": {
     "duration": 0.01052,
     "end_time": "2024-03-05T22:19:08.443889",
     "exception": false,
     "start_time": "2024-03-05T22:19:08.433369",
     "status": "completed"
    },
    "tags": []
   },
   "outputs": [],
   "source": [
    "methods = ('spearman', 'pearson')\n",
    "numerics_cols = metadata_qa.filter_columns(column_type='numeric')\n",
    "if numerics_cols.column_count > 0:\n",
    "    for metric, alpha_values in alpha_diversities.items():\n",
    "        for method in methods:\n",
    "            try:\n",
    "                corr_view = alpha_correlation(alpha_diversity=alpha_values, metadata=numerics_cols, \n",
    "                                          method=method, intersect_ids=True).visualization\n",
    "                view_path = os.path.join(alpha_path, f'alpha-correlation-{metric}-{method}.qzv')\n",
    "                corr_view.save(view_path)\n",
    "                corr_view\n",
    "                print(f\"DONE: Calculating alpha correlation: {metric} {method}\")\n",
    "            except Exception as e:\n",
    "                print(f\"ERROR: Calculating alpha correlation: {metric} {method}\")"
   ]
  },
  {
   "cell_type": "markdown",
   "id": "8ea83c8a",
   "metadata": {
    "papermill": {
     "duration": 0.004659,
     "end_time": "2024-03-05T22:19:08.453332",
     "exception": false,
     "start_time": "2024-03-05T22:19:08.448673",
     "status": "completed"
    },
    "tags": []
   },
   "source": [
    "## Alpha diversity comparisons\n",
    "\n",
    "Visually and statistically compare groups of alpha diversity values.\n",
    "\n",
    "[diversity alpha_group_significance](https://docs.qiime2.org/2022.8/plugins/available/diversity/alpha-group-significance/)"
   ]
  },
  {
   "cell_type": "code",
   "execution_count": 16,
   "id": "276d1c18",
   "metadata": {
    "ExecuteTime": {
     "end_time": "2022-09-29T20:54:36.089290Z",
     "start_time": "2022-09-29T20:54:35.318963Z"
    },
    "execution": {
     "iopub.execute_input": "2024-03-05T22:19:08.463847Z",
     "iopub.status.busy": "2024-03-05T22:19:08.463375Z",
     "iopub.status.idle": "2024-03-05T22:19:08.943349Z",
     "shell.execute_reply": "2024-03-05T22:19:08.942849Z"
    },
    "papermill": {
     "duration": 0.486327,
     "end_time": "2024-03-05T22:19:08.944351",
     "exception": false,
     "start_time": "2024-03-05T22:19:08.458024",
     "status": "completed"
    },
    "tags": []
   },
   "outputs": [
    {
     "name": "stdout",
     "output_type": "stream",
     "text": [
      "Processing alpha_group_significance: chao1\n"
     ]
    },
    {
     "name": "stdout",
     "output_type": "stream",
     "text": [
      "DONE: Calculating alpha group significance: chao1\n",
      "Processing alpha_group_significance: chao1_ci\n",
      "ERROR: Calculating alpha group significance: chao1_ci\n",
      "Processing alpha_group_significance: observed_features\n",
      "DONE: Calculating alpha group significance: observed_features\n",
      "Processing alpha_group_significance: shannon\n"
     ]
    },
    {
     "name": "stdout",
     "output_type": "stream",
     "text": [
      "DONE: Calculating alpha group significance: shannon\n",
      "Processing alpha_group_significance: simpson\n"
     ]
    },
    {
     "name": "stdout",
     "output_type": "stream",
     "text": [
      "DONE: Calculating alpha group significance: simpson\n",
      "Processing alpha_group_significance: simpson_e\n",
      "DONE: Calculating alpha group significance: simpson_e\n"
     ]
    }
   ],
   "source": [
    "for metric, alpha_values in alpha_diversities.items():\n",
    "    print(f\"Processing alpha_group_significance: {metric}\")\n",
    "    try:\n",
    "        significance_view = alpha_group_significance(alpha_diversity=alpha_values, metadata=metadata_qa).visualization\n",
    "        view_path = os.path.join(alpha_path, f'alpha-group-significance-{metric}.qzv')\n",
    "        significance_view.save(view_path)\n",
    "        significance_view\n",
    "        print(f\"DONE: Calculating alpha group significance: {metric}\")\n",
    "    except Exception as e:\n",
    "        print(f\"ERROR: Calculating alpha group significance: {metric}\")"
   ]
  },
  {
   "cell_type": "markdown",
   "id": "4349d357",
   "metadata": {
    "papermill": {
     "duration": 0.004764,
     "end_time": "2024-03-05T22:19:08.954188",
     "exception": false,
     "start_time": "2024-03-05T22:19:08.949424",
     "status": "completed"
    },
    "tags": []
   },
   "source": [
    "## Beta diversity analysis\n",
    "\n",
    "#### Reference\n",
    "- [diversity beta](https://docs.qiime2.org/2022.8/plugins/available/diversity/beta/): Computes a user-specified beta diversity metric for all pairs of samples in a feature table.\n",
    "- [Beta diversity metrics](http://scikit-bio.org/docs/0.2.0/generated/skbio.diversity.beta.html)\n",
    "\n",
    "- Metric Choices('aitchison', 'braycurtis', 'canberra', 'canberra_adkins', 'chebyshev', 'cityblock', 'correlation', 'cosine', 'dice', 'euclidean', 'hamming', 'jaccard', 'jensenshannon', 'kulsinski', 'matching', 'minkowski', 'rogerstanimoto', 'russellrao', 'seuclidean', 'sokalmichener', 'sokalsneath', 'sqeuclidean', 'yule')"
   ]
  },
  {
   "cell_type": "code",
   "execution_count": 17,
   "id": "f6f358dd",
   "metadata": {
    "ExecuteTime": {
     "end_time": "2022-09-29T20:54:36.335038Z",
     "start_time": "2022-09-29T20:54:36.091288Z"
    },
    "execution": {
     "iopub.execute_input": "2024-03-05T22:19:08.964614Z",
     "iopub.status.busy": "2024-03-05T22:19:08.964317Z",
     "iopub.status.idle": "2024-03-05T22:19:09.281388Z",
     "shell.execute_reply": "2024-03-05T22:19:09.280981Z"
    },
    "papermill": {
     "duration": 0.323403,
     "end_time": "2024-03-05T22:19:09.282337",
     "exception": false,
     "start_time": "2024-03-05T22:19:08.958934",
     "status": "completed"
    },
    "tags": []
   },
   "outputs": [
    {
     "name": "stdout",
     "output_type": "stream",
     "text": [
      "Calculating beta diversity: euclidean\n",
      "DONE: Calculating beta diversity: euclidean\n",
      "Calculating beta diversity: dice\n"
     ]
    },
    {
     "name": "stdout",
     "output_type": "stream",
     "text": [
      "DONE: Calculating beta diversity: dice\n",
      "Calculating beta diversity: braycurtis\n",
      "DONE: Calculating beta diversity: braycurtis\n",
      "Calculating beta diversity: correlation\n",
      "ERROR: Calculating beta diversity: correlation\n",
      "Calculating beta diversity: cosine\n"
     ]
    },
    {
     "name": "stderr",
     "output_type": "stream",
     "text": [
      "/home/lauro/anaconda3/envs/qiime2-2023.5/lib/python3.8/site-packages/sklearn/metrics/pairwise.py:1761: DataConversionWarning: Data was converted to boolean for metric dice\n",
      "  warnings.warn(msg, DataConversionWarning)\n",
      "/home/lauro/anaconda3/envs/qiime2-2023.5/lib/python3.8/site-packages/sklearn/metrics/pairwise.py:1761: DataConversionWarning: Data was converted to boolean for metric matching\n",
      "  warnings.warn(msg, DataConversionWarning)\n"
     ]
    },
    {
     "name": "stdout",
     "output_type": "stream",
     "text": [
      "ERROR: Calculating beta diversity: cosine\n",
      "Calculating beta diversity: matching\n",
      "DONE: Calculating beta diversity: matching\n",
      "Calculating beta diversity: jaccard\n"
     ]
    },
    {
     "name": "stdout",
     "output_type": "stream",
     "text": [
      "DONE: Calculating beta diversity: jaccard\n"
     ]
    },
    {
     "name": "stderr",
     "output_type": "stream",
     "text": [
      "/home/lauro/anaconda3/envs/qiime2-2023.5/lib/python3.8/site-packages/sklearn/metrics/pairwise.py:1761: DataConversionWarning: Data was converted to boolean for metric jaccard\n",
      "  warnings.warn(msg, DataConversionWarning)\n"
     ]
    }
   ],
   "source": [
    "metrics = ('aitchison', 'braycurtis', 'canberra', 'canberra_adkins', 'chebyshev', 'cityblock', 'correlation', 'cosine', 'dice', 'euclidean', 'hamming', 'jaccard', 'jensenshannon', 'kulsinski', 'matching', 'minkowski', 'rogerstanimoto', 'russellrao', 'seuclidean', 'sokalmichener', 'sokalsneath', 'sqeuclidean', 'yule')\n",
    "metrics = ('euclidean', 'dice', 'braycurtis', 'correlation', 'cosine', 'matching', 'jaccard')\n",
    "beta_diversities = dict()\n",
    "for metric in metrics:\n",
    "    print(f\"Calculating beta diversity: {metric}\")\n",
    "    try:\n",
    "        beta_diversity = beta(table=tabs, metric=metric, n_jobs=6, pseudocount=1).distance_matrix\n",
    "        beta_diversities[metric] = beta_diversity\n",
    "        # Save SampleData[BetaDiversity] Artifact\n",
    "        file_path = os.path.join(beta_path, f'beta-values-{metric}.qza')\n",
    "        beta_diversity.save(file_path)\n",
    "        print(f\"DONE: Calculating beta diversity: {metric}\")\n",
    "    except Exception as e:\n",
    "        print(f\"ERROR: Calculating beta diversity: {metric}\")"
   ]
  },
  {
   "cell_type": "markdown",
   "id": "200a2fa7",
   "metadata": {
    "papermill": {
     "duration": 0.004961,
     "end_time": "2024-03-05T22:19:09.292608",
     "exception": false,
     "start_time": "2024-03-05T22:19:09.287647",
     "status": "completed"
    },
    "tags": []
   },
   "source": [
    "### Beta group significance\n",
    "\n",
    "- [diversity beta_group_significance](https://docs.qiime2.org/2022.8/plugins/available/diversity/beta-group-significance/): Determine whether groups of samples are significantly different from one another using a permutation-based statistical test.\n",
    "- Marti J Anderson. A new method for non-parametric multivariate analysis of variance. Austral ecology, 26(1):32–46, 2001. doi:https://doi.org/10.1111/j.1442-9993.2001.01070.pp.x."
   ]
  },
  {
   "cell_type": "code",
   "execution_count": 18,
   "id": "b8dd42b6",
   "metadata": {
    "ExecuteTime": {
     "end_time": "2022-09-29T20:55:08.313860Z",
     "start_time": "2022-09-29T20:54:36.336993Z"
    },
    "execution": {
     "iopub.execute_input": "2024-03-05T22:19:09.303304Z",
     "iopub.status.busy": "2024-03-05T22:19:09.303158Z",
     "iopub.status.idle": "2024-03-05T22:19:27.045384Z",
     "shell.execute_reply": "2024-03-05T22:19:27.044956Z"
    },
    "papermill": {
     "duration": 17.748738,
     "end_time": "2024-03-05T22:19:27.046357",
     "exception": false,
     "start_time": "2024-03-05T22:19:09.297619",
     "status": "completed"
    },
    "tags": []
   },
   "outputs": [
    {
     "name": "stdout",
     "output_type": "stream",
     "text": [
      "Calculating beta group significance with method permanova and metric euclidean\n"
     ]
    },
    {
     "name": "stdout",
     "output_type": "stream",
     "text": [
      "DONE: Calculating beta group significance: permanova euclidean\n",
      "Calculating beta group significance with method permanova and metric dice\n"
     ]
    },
    {
     "name": "stdout",
     "output_type": "stream",
     "text": [
      "DONE: Calculating beta group significance: permanova dice\n",
      "Calculating beta group significance with method permanova and metric braycurtis\n"
     ]
    },
    {
     "name": "stdout",
     "output_type": "stream",
     "text": [
      "DONE: Calculating beta group significance: permanova braycurtis\n",
      "Calculating beta group significance with method permanova and metric matching\n"
     ]
    },
    {
     "name": "stdout",
     "output_type": "stream",
     "text": [
      "DONE: Calculating beta group significance: permanova matching\n",
      "Calculating beta group significance with method permanova and metric jaccard\n"
     ]
    },
    {
     "name": "stdout",
     "output_type": "stream",
     "text": [
      "DONE: Calculating beta group significance: permanova jaccard\n",
      "Calculating beta group significance with method anosim and metric euclidean\n"
     ]
    },
    {
     "name": "stdout",
     "output_type": "stream",
     "text": [
      "DONE: Calculating beta group significance: anosim euclidean\n",
      "Calculating beta group significance with method anosim and metric dice\n"
     ]
    },
    {
     "name": "stdout",
     "output_type": "stream",
     "text": [
      "DONE: Calculating beta group significance: anosim dice\n",
      "Calculating beta group significance with method anosim and metric braycurtis\n"
     ]
    },
    {
     "name": "stdout",
     "output_type": "stream",
     "text": [
      "DONE: Calculating beta group significance: anosim braycurtis\n",
      "Calculating beta group significance with method anosim and metric matching\n"
     ]
    },
    {
     "name": "stdout",
     "output_type": "stream",
     "text": [
      "DONE: Calculating beta group significance: anosim matching\n",
      "Calculating beta group significance with method anosim and metric jaccard\n"
     ]
    },
    {
     "name": "stdout",
     "output_type": "stream",
     "text": [
      "DONE: Calculating beta group significance: anosim jaccard\n",
      "Calculating beta group significance with method permdisp and metric euclidean\n"
     ]
    },
    {
     "name": "stderr",
     "output_type": "stream",
     "text": [
      "/home/lauro/anaconda3/envs/qiime2-2023.5/lib/python3.8/site-packages/skbio/stats/ordination/_principal_coordinate_analysis.py:143: RuntimeWarning: The result contains negative eigenvalues. Please compare their magnitude with the magnitude of some of the largest positive eigenvalues. If the negative ones are smaller, it's probably safe to ignore them, but if they are large in magnitude, the results won't be useful. See the Notes section for more details. The smallest eigenvalue is -1.0707813237732588e-06 and the largest is 4930622125.309503.\n",
      "  warn(\n"
     ]
    },
    {
     "name": "stderr",
     "output_type": "stream",
     "text": [
      "/home/lauro/anaconda3/envs/qiime2-2023.5/lib/python3.8/site-packages/skbio/stats/ordination/_principal_coordinate_analysis.py:143: RuntimeWarning: The result contains negative eigenvalues. Please compare their magnitude with the magnitude of some of the largest positive eigenvalues. If the negative ones are smaller, it's probably safe to ignore them, but if they are large in magnitude, the results won't be useful. See the Notes section for more details. The smallest eigenvalue is -1.0707813237732588e-06 and the largest is 4930622125.309503.\n",
      "  warn(\n"
     ]
    },
    {
     "name": "stdout",
     "output_type": "stream",
     "text": [
      "DONE: Calculating beta group significance: permdisp euclidean\n",
      "Calculating beta group significance with method permdisp and metric dice\n"
     ]
    },
    {
     "name": "stdout",
     "output_type": "stream",
     "text": [
      "DONE: Calculating beta group significance: permdisp dice\n",
      "Calculating beta group significance with method permdisp and metric braycurtis\n"
     ]
    },
    {
     "name": "stdout",
     "output_type": "stream",
     "text": [
      "DONE: Calculating beta group significance: permdisp braycurtis\n",
      "Calculating beta group significance with method permdisp and metric matching\n"
     ]
    },
    {
     "name": "stderr",
     "output_type": "stream",
     "text": [
      "/home/lauro/anaconda3/envs/qiime2-2023.5/lib/python3.8/site-packages/skbio/stats/ordination/_principal_coordinate_analysis.py:143: RuntimeWarning: The result contains negative eigenvalues. Please compare their magnitude with the magnitude of some of the largest positive eigenvalues. If the negative ones are smaller, it's probably safe to ignore them, but if they are large in magnitude, the results won't be useful. See the Notes section for more details. The smallest eigenvalue is -0.0007685698982876541 and the largest is 0.1927007527199924.\n",
      "  warn(\n"
     ]
    },
    {
     "name": "stderr",
     "output_type": "stream",
     "text": [
      "/home/lauro/anaconda3/envs/qiime2-2023.5/lib/python3.8/site-packages/skbio/stats/ordination/_principal_coordinate_analysis.py:143: RuntimeWarning: The result contains negative eigenvalues. Please compare their magnitude with the magnitude of some of the largest positive eigenvalues. If the negative ones are smaller, it's probably safe to ignore them, but if they are large in magnitude, the results won't be useful. See the Notes section for more details. The smallest eigenvalue is -0.0007685698982876541 and the largest is 0.1927007527199924.\n",
      "  warn(\n"
     ]
    },
    {
     "name": "stdout",
     "output_type": "stream",
     "text": [
      "DONE: Calculating beta group significance: permdisp matching\n",
      "Calculating beta group significance with method permdisp and metric jaccard\n"
     ]
    },
    {
     "name": "stdout",
     "output_type": "stream",
     "text": [
      "DONE: Calculating beta group significance: permdisp jaccard\n"
     ]
    },
    {
     "data": {
      "text/plain": [
       "<Figure size 640x480 with 0 Axes>"
      ]
     },
     "metadata": {},
     "output_type": "display_data"
    }
   ],
   "source": [
    "methods = ('permanova', 'anosim', 'permdisp')\n",
    "for method in methods:\n",
    "    for metric, beta_diversity in beta_diversities.items():\n",
    "        print(f'Calculating beta group significance with method {method} and metric {metric}')\n",
    "        try:\n",
    "            beta_view = beta_group_significance(distance_matrix=beta_diversity, \n",
    "                                                metadata=metadata_qa.get_column(class_col), \n",
    "                                                pairwise=True, method=method).visualization\n",
    "            view_name = os.path.join(beta_path, f'beta-group-significance-{metric}-{method}.qzv')\n",
    "            beta_view.save(view_name)\n",
    "            print(f\"DONE: Calculating beta group significance: {method} {metric}\")\n",
    "        except Exception as e:\n",
    "            print(f\"ERROR: Calculating beta group significance: {method} {metric}\")"
   ]
  },
  {
   "cell_type": "code",
   "execution_count": 19,
   "id": "6366725e",
   "metadata": {
    "execution": {
     "iopub.execute_input": "2024-03-05T22:19:27.058497Z",
     "iopub.status.busy": "2024-03-05T22:19:27.058320Z",
     "iopub.status.idle": "2024-03-05T22:19:41.144211Z",
     "shell.execute_reply": "2024-03-05T22:19:41.143766Z"
    },
    "papermill": {
     "duration": 14.092965,
     "end_time": "2024-03-05T22:19:41.145112",
     "exception": false,
     "start_time": "2024-03-05T22:19:27.052147",
     "status": "completed"
    },
    "tags": []
   },
   "outputs": [
    {
     "name": "stdout",
     "output_type": "stream",
     "text": [
      "Calculating beta group significance with method permanova and metric unweighted_unifrac_distance_matrix\n"
     ]
    },
    {
     "name": "stdout",
     "output_type": "stream",
     "text": [
      "DONE: Calculating beta group significance: permanova unweighted_unifrac_distance_matrix\n",
      "Calculating beta group significance with method permanova and metric weighted_unifrac_distance_matrix\n"
     ]
    },
    {
     "name": "stdout",
     "output_type": "stream",
     "text": [
      "DONE: Calculating beta group significance: permanova weighted_unifrac_distance_matrix\n",
      "Calculating beta group significance with method permanova and metric jaccard_distance_matrix\n"
     ]
    },
    {
     "name": "stdout",
     "output_type": "stream",
     "text": [
      "DONE: Calculating beta group significance: permanova jaccard_distance_matrix\n",
      "Calculating beta group significance with method permanova and metric bray_curtis_distance_matrix\n"
     ]
    },
    {
     "name": "stdout",
     "output_type": "stream",
     "text": [
      "DONE: Calculating beta group significance: permanova bray_curtis_distance_matrix\n",
      "Calculating beta group significance with method anosim and metric unweighted_unifrac_distance_matrix\n"
     ]
    },
    {
     "name": "stdout",
     "output_type": "stream",
     "text": [
      "DONE: Calculating beta group significance: anosim unweighted_unifrac_distance_matrix\n",
      "Calculating beta group significance with method anosim and metric weighted_unifrac_distance_matrix\n"
     ]
    },
    {
     "name": "stdout",
     "output_type": "stream",
     "text": [
      "DONE: Calculating beta group significance: anosim weighted_unifrac_distance_matrix\n",
      "Calculating beta group significance with method anosim and metric jaccard_distance_matrix\n"
     ]
    },
    {
     "name": "stdout",
     "output_type": "stream",
     "text": [
      "DONE: Calculating beta group significance: anosim jaccard_distance_matrix\n",
      "Calculating beta group significance with method anosim and metric bray_curtis_distance_matrix\n"
     ]
    },
    {
     "name": "stdout",
     "output_type": "stream",
     "text": [
      "DONE: Calculating beta group significance: anosim bray_curtis_distance_matrix\n",
      "Calculating beta group significance with method permdisp and metric unweighted_unifrac_distance_matrix\n"
     ]
    },
    {
     "name": "stdout",
     "output_type": "stream",
     "text": [
      "DONE: Calculating beta group significance: permdisp unweighted_unifrac_distance_matrix\n",
      "Calculating beta group significance with method permdisp and metric weighted_unifrac_distance_matrix\n"
     ]
    },
    {
     "name": "stderr",
     "output_type": "stream",
     "text": [
      "/home/lauro/anaconda3/envs/qiime2-2023.5/lib/python3.8/site-packages/skbio/stats/ordination/_principal_coordinate_analysis.py:143: RuntimeWarning: The result contains negative eigenvalues. Please compare their magnitude with the magnitude of some of the largest positive eigenvalues. If the negative ones are smaller, it's probably safe to ignore them, but if they are large in magnitude, the results won't be useful. See the Notes section for more details. The smallest eigenvalue is -0.002247714650771372 and the largest is 0.5418111429279165.\n",
      "  warn(\n"
     ]
    },
    {
     "name": "stderr",
     "output_type": "stream",
     "text": [
      "/home/lauro/anaconda3/envs/qiime2-2023.5/lib/python3.8/site-packages/skbio/stats/ordination/_principal_coordinate_analysis.py:143: RuntimeWarning: The result contains negative eigenvalues. Please compare their magnitude with the magnitude of some of the largest positive eigenvalues. If the negative ones are smaller, it's probably safe to ignore them, but if they are large in magnitude, the results won't be useful. See the Notes section for more details. The smallest eigenvalue is -0.002247714650771372 and the largest is 0.5418111429279165.\n",
      "  warn(\n"
     ]
    },
    {
     "name": "stdout",
     "output_type": "stream",
     "text": [
      "DONE: Calculating beta group significance: permdisp weighted_unifrac_distance_matrix\n",
      "Calculating beta group significance with method permdisp and metric jaccard_distance_matrix\n"
     ]
    },
    {
     "name": "stdout",
     "output_type": "stream",
     "text": [
      "DONE: Calculating beta group significance: permdisp jaccard_distance_matrix\n",
      "Calculating beta group significance with method permdisp and metric bray_curtis_distance_matrix\n"
     ]
    },
    {
     "name": "stdout",
     "output_type": "stream",
     "text": [
      "DONE: Calculating beta group significance: permdisp bray_curtis_distance_matrix\n"
     ]
    },
    {
     "data": {
      "text/plain": [
       "<Figure size 640x480 with 0 Axes>"
      ]
     },
     "metadata": {},
     "output_type": "display_data"
    }
   ],
   "source": [
    "# Expand tests using UNIFRAC metrics\n",
    "methods = ('permanova', 'anosim', 'permdisp')\n",
    "for method in methods:\n",
    "    for metric, beta_diversity in distance_matrix.items():\n",
    "        print(f'Calculating beta group significance with method {method} and metric {metric}')\n",
    "        try:\n",
    "            beta_view = beta_group_significance(distance_matrix=beta_diversity, \n",
    "                                                metadata=metadata_qa.get_column(class_col), \n",
    "                                                pairwise=True, method=method).visualization\n",
    "            view_name = os.path.join(beta_path, f'beta-group-significance-{metric}-{method}.qzv')\n",
    "            beta_view.save(view_name)\n",
    "            print(f\"DONE: Calculating beta group significance: {method} {metric}\")\n",
    "        except Exception as e:\n",
    "            print(f\"ERROR: Calculating beta group significance: {method} {metric}\")"
   ]
  },
  {
   "cell_type": "markdown",
   "id": "c0de85cf",
   "metadata": {
    "papermill": {
     "duration": 0.005897,
     "end_time": "2024-03-05T22:19:41.157262",
     "exception": false,
     "start_time": "2024-03-05T22:19:41.151365",
     "status": "completed"
    },
    "tags": []
   },
   "source": [
    "### Beta group Rarefaction\n",
    "\n",
    "- [diversity beta_rarefaction](https://docs.qiime2.org/2022.8/plugins/available/diversity/beta-rarefaction/): Repeatedly rarefy a feature table to compare beta diversity results within a given rarefaction depth.  For a given beta diversity metric, this visualizer will provide: an Emperor jackknifed PCoA plot, samples clustered by UPGMA or neighbor joining with support calculation, and a heatmap showing the correlation between rarefaction trials of that beta diversity metric."
   ]
  }
 ],
 "metadata": {
  "celltoolbar": "Edit Metadata",
  "kernelspec": {
   "display_name": "Python 3 (ipykernel)",
   "language": "python",
   "name": "python3"
  },
  "language_info": {
   "codemirror_mode": {
    "name": "ipython",
    "version": 3
   },
   "file_extension": ".py",
   "mimetype": "text/x-python",
   "name": "python",
   "nbconvert_exporter": "python",
   "pygments_lexer": "ipython3",
   "version": "3.8.16"
  },
  "papermill": {
   "default_parameters": {},
   "duration": 51.236468,
   "end_time": "2024-03-05T22:19:42.079970",
   "environment_variables": {},
   "exception": null,
   "input_path": "nb-templates/step-diversity-analysis.ipynb",
   "output_path": "/mnt/nupeb/rede-micro/redemicro-ana-flavia-nutri/experiments/ana-flavia-NRxSTD-NR-trim/nb-executed-steps/step-diversity-analysis-ana-flavia-NRxSTD-NR-trim.ipynb",
   "parameters": {
    "base_dir": "/mnt/nupeb/rede-micro/redemicro-ana-flavia-nutri",
    "class_col": "group-id",
    "classifier_file": "/mnt/nupeb/rede-micro/datasets/16S_classifiers_qiime2/silva-138-99-nb-classifier.qza",
    "experiment_name": "ana-flavia-NRxSTD-NR-trim",
    "manifest_file": "/mnt/nupeb/rede-micro/redemicro-ana-flavia-nutri/data/raw/manifest/manifest-ana-flavia-NRxSTD-NR.csv",
    "metadata_file": "/mnt/nupeb/rede-micro/redemicro-ana-flavia-nutri/data/raw/metadata/metadata-ana-flavia-NRxSTD-NR.tsv",
    "overlap": 12,
    "phred": 20,
    "replace_files": false,
    "threads": 6,
    "top_n": 20,
    "trim": {
     "forward_primer": "CCTACGGGRSGCAGCAG",
     "overlap": 8,
     "reverse_primer": "GGACTACHVGGGTWTCTAAT"
    },
    "trunc_f": 0,
    "trunc_r": 0
   },
   "start_time": "2024-03-05T22:18:50.843502",
   "version": "2.4.0"
  }
 },
 "nbformat": 4,
 "nbformat_minor": 5
}