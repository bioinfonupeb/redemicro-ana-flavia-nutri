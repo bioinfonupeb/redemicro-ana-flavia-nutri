{
 "cells": [
  {
   "cell_type": "markdown",
   "id": "15bcfa06",
   "metadata": {
    "papermill": {
     "duration": 0.02109,
     "end_time": "2023-09-14T15:16:20.445376",
     "exception": false,
     "start_time": "2023-09-14T15:16:20.424286",
     "status": "completed"
    },
    "tags": []
   },
   "source": [
    " \n",
    "# Alpha and Beta Diversity\n",
    "\n",
    "Different higher-level measures are often used to describe the microbiome in a sample. These do not provide information on changes in the abundance of specific taxa but allow us to access a broader change or difference in the composition of microorganisms. Alpha and beta diversity are examples of such measures.\n",
    "\n",
    "Different measures exist to estimate diversity within a single sample, jointly called alpha diversity. The different measures reflect the richness (number) or distribution (evenness) of a microbial sample or aim to reflect a combination of both properties.\n",
    "\n",
    "Rarefaction curves are often used when calculating alpha diversity indices because increasing numbers of sequenced taxa allow increasingly accurate estimates of total population diversity. Rarefaction curves can therefore be used to estimate the full sample richness, as compared to the observed sample richness.\n",
    "\n",
    "While alpha diversity is a measure of microbiome diversity applicable to a single sample, beta diversity is a measure of the similarity or dissimilarity of two communities. As for alpha diversity, many indices exist, each reflecting different aspects of community heterogeneity. Key differences relate to how the indices value variation in rare species if they consider presence/absence only or incorporate abundance, and how they interpret shared absence. Bray-Curtis dissimilarity is a popular measure that considers both size (overall abundance per sample) and shape (abundance of each taxon) of the communities (Bray, 1957). Beta diversity is an essential measure for many popular statistical methods in ecology, such as ordination-based methods, and is widely used for studying the association between environmental variables and microbial composition.\n",
    "\n",
    "In summary, alpha diversity measures can be seen as a summary statistic of a single population (within-sample diversity), while beta diversity measures are estimates of similarity or dissimilarity between populations (between samples).\n",
    "\n",
    "**Source**: (https://biomcare.com/info/key-terms-in-microbiome-projects/)"
   ]
  },
  {
   "cell_type": "markdown",
   "id": "0e7f2330",
   "metadata": {
    "ExecuteTime": {
     "end_time": "2022-09-22T19:36:33.828188Z",
     "start_time": "2022-09-22T19:36:33.817323Z"
    },
    "papermill": {
     "duration": 0.05514,
     "end_time": "2023-09-14T15:16:20.600997",
     "exception": false,
     "start_time": "2023-09-14T15:16:20.545857",
     "status": "completed"
    },
    "tags": []
   },
   "source": [
    "### STEP : Diversity Analysis\n",
    "\n",
    "Using QIIME2 to create diversity analisys graphs and calculations.\n",
    "\n",
    "- [QIIME2 Workflow Overview](https://docs.qiime2.org/2022.8/tutorials/overview/)\n",
    "\n",
    "\n",
    "#### Methods\n",
    "- [diversity](https://docs.qiime2.org/2022.8/plugins/available/diversity/)\n",
    "- [diversity alpha](https://docs.qiime2.org/2022.8/plugins/available/diversity/alpha/)\n",
    "- [diversity alpha_phylogenetic](https://docs.qiime2.org/2022.8/plugins/available/diversity/alpha-phylogenetic/)\n",
    "- [diversity beta](https://docs.qiime2.org/2022.8/plugins/available/diversity/beta/)\n",
    "- [diversity core_metrics](https://docs.qiime2.org/2022.8/plugins/available/diversity/core-metrics/)\n",
    "- [diversity alpha_group_significance](https://docs.qiime2.org/2022.8/plugins/available/diversity/alpha-group-significance/)\n",
    "- [diversity beta_group_significance](https://docs.qiime2.org/2022.8/plugins/available/diversity/beta-group-significance/)\n",
    "- [feature_table core_features](https://docs.qiime2.org/2022.8/plugins/available/feature-table/core-features/)\n",
    "- [feature_table summarize](https://docs.qiime2.org/2022.8/plugins/available/feature-table/summarize/)\n",
    "- [taxa filter-table](https://docs.qiime2.org/2022.8/plugins/available/taxa/filter-table/)\n",
    "- [taxa collapse](https://docs.qiime2.org/2022.8/plugins/available/taxa/collapse/)"
   ]
  },
  {
   "cell_type": "markdown",
   "id": "843debbf",
   "metadata": {
    "papermill": {
     "duration": 0.018486,
     "end_time": "2023-09-14T15:16:20.638540",
     "exception": false,
     "start_time": "2023-09-14T15:16:20.620054",
     "status": "completed"
    },
    "tags": []
   },
   "source": [
    "## Setup and settings"
   ]
  },
  {
   "cell_type": "code",
   "execution_count": 1,
   "id": "965e28e5",
   "metadata": {
    "ExecuteTime": {
     "end_time": "2022-11-03T20:35:26.198671Z",
     "start_time": "2022-11-03T20:35:06.473173Z"
    },
    "execution": {
     "iopub.execute_input": "2023-09-14T15:16:20.676951Z",
     "iopub.status.busy": "2023-09-14T15:16:20.676426Z",
     "iopub.status.idle": "2023-09-14T15:16:26.873527Z",
     "shell.execute_reply": "2023-09-14T15:16:26.872822Z"
    },
    "papermill": {
     "duration": 6.219701,
     "end_time": "2023-09-14T15:16:26.876742",
     "exception": false,
     "start_time": "2023-09-14T15:16:20.657041",
     "status": "completed"
    },
    "tags": []
   },
   "outputs": [],
   "source": [
    "# Importing packages\n",
    "import os\n",
    "import pandas as pd\n",
    "from qiime2 import Artifact\n",
    "from qiime2 import Visualization\n",
    "from qiime2 import Metadata\n",
    "\n",
    "from qiime2.plugins.phylogeny.pipelines import align_to_tree_mafft_fasttree\n",
    "\n",
    "from qiime2.plugins.diversity.pipelines import alpha\n",
    "from qiime2.plugins.diversity.pipelines import beta\n",
    "from qiime2.plugins.diversity.pipelines import core_metrics\n",
    "from qiime2.plugins.diversity.pipelines import alpha_phylogenetic\n",
    "\n",
    "from qiime2.plugins.diversity.visualizers import alpha_group_significance\n",
    "from qiime2.plugins.diversity.visualizers import beta_group_significance\n",
    "from qiime2.plugins.diversity.visualizers import alpha_correlation\n",
    "from qiime2.plugins.diversity.visualizers import beta_rarefaction\n",
    "\n",
    "from qiime2.plugins.taxa.methods import filter_table\n",
    "from qiime2.plugins.taxa.methods import collapse\n",
    "\n",
    "from qiime2.plugins.feature_table.visualizers import tabulate_seqs\n",
    "from qiime2.plugins.feature_table.visualizers import summarize\n",
    "from qiime2.plugins.feature_table.visualizers import core_features\n",
    "from qiime2.plugins.diversity.pipelines import core_metrics_phylogenetic\n",
    "\n",
    "from qiime2.plugins.feature_table.methods import filter_samples\n",
    "from qiime2.plugins.feature_table.methods import filter_seqs\n",
    "\n",
    "from qiime2.plugins.alignment.methods import mafft\n",
    "\n",
    "\n",
    "import matplotlib.pyplot as plt\n",
    "\n",
    "%matplotlib inline"
   ]
  },
  {
   "cell_type": "markdown",
   "id": "530ceb60",
   "metadata": {
    "papermill": {
     "duration": 0.016926,
     "end_time": "2023-09-14T15:16:26.918028",
     "exception": false,
     "start_time": "2023-09-14T15:16:26.901102",
     "status": "completed"
    },
    "tags": []
   },
   "source": [
    "### Receiving the parameters\n",
    "\n",
    "The following cell can receive parameters using the [papermill](https://papermill.readthedocs.io/en/latest/) tool."
   ]
  },
  {
   "cell_type": "code",
   "execution_count": 2,
   "id": "18d874ea",
   "metadata": {
    "ExecuteTime": {
     "end_time": "2022-09-29T20:54:14.793270Z",
     "start_time": "2022-09-29T20:54:14.789367Z"
    },
    "execution": {
     "iopub.execute_input": "2023-09-14T15:16:27.008668Z",
     "iopub.status.busy": "2023-09-14T15:16:27.008214Z",
     "iopub.status.idle": "2023-09-14T15:16:27.013832Z",
     "shell.execute_reply": "2023-09-14T15:16:27.012997Z"
    },
    "papermill": {
     "duration": 0.025848,
     "end_time": "2023-09-14T15:16:27.015488",
     "exception": false,
     "start_time": "2023-09-14T15:16:26.989640",
     "status": "completed"
    },
    "tags": [
     "parameters"
    ]
   },
   "outputs": [],
   "source": [
    "base_dir = os.path.join('/', 'home')\n",
    "metadata_file = os.path.abspath(os.path.join(base_dir, 'data', 'metadatada.tsv'))\n",
    "experiment_name = ''\n",
    "class_col = ''\n",
    "replace_files = False"
   ]
  },
  {
   "cell_type": "code",
   "execution_count": 3,
   "id": "307d8709",
   "metadata": {
    "execution": {
     "iopub.execute_input": "2023-09-14T15:16:27.073625Z",
     "iopub.status.busy": "2023-09-14T15:16:27.073403Z",
     "iopub.status.idle": "2023-09-14T15:16:27.077771Z",
     "shell.execute_reply": "2023-09-14T15:16:27.077242Z"
    },
    "papermill": {
     "duration": 0.04745,
     "end_time": "2023-09-14T15:16:27.081171",
     "exception": false,
     "start_time": "2023-09-14T15:16:27.033721",
     "status": "completed"
    },
    "tags": [
     "injected-parameters"
    ]
   },
   "outputs": [],
   "source": [
    "# Parameters\n",
    "experiment_name = \"ana-flavia-NRxSTD-NR-trim\"\n",
    "base_dir = \"/home/lauro/nupeb/rede-micro/redemicro-ana-flavia-nutri\"\n",
    "manifest_file = \"/home/lauro/nupeb/rede-micro/redemicro-ana-flavia-nutri/data/raw/manifest/manifest-ana-flavia-NRxSTD-NR.csv\"\n",
    "metadata_file = \"/home/lauro/nupeb/rede-micro/redemicro-ana-flavia-nutri/data/raw/metadata/metadata-ana-flavia-NRxSTD-NR.tsv\"\n",
    "class_col = \"group-id\"\n",
    "classifier_file = \"/home/lauro/nupeb/rede-micro/models/silva-138-99-nb-classifier.qza\"\n",
    "top_n = 20\n",
    "replace_files = False\n",
    "phred = 20\n",
    "trunc_f = 0\n",
    "trunc_r = 0\n",
    "overlap = 12\n",
    "threads = 6\n",
    "trim = {\n",
    "    \"overlap\": 8,\n",
    "    \"forward_primer\": \"CCTACGGGRSGCAGCAG\",\n",
    "    \"reverse_primer\": \"GGACTACHVGGGTWTCTAAT\",\n",
    "}\n"
   ]
  },
  {
   "cell_type": "code",
   "execution_count": 4,
   "id": "f38617d9",
   "metadata": {
    "ExecuteTime": {
     "end_time": "2022-09-29T20:54:14.804575Z",
     "start_time": "2022-09-29T20:54:14.794927Z"
    },
    "execution": {
     "iopub.execute_input": "2023-09-14T15:16:27.118704Z",
     "iopub.status.busy": "2023-09-14T15:16:27.118494Z",
     "iopub.status.idle": "2023-09-14T15:16:27.122183Z",
     "shell.execute_reply": "2023-09-14T15:16:27.121518Z"
    },
    "papermill": {
     "duration": 0.02311,
     "end_time": "2023-09-14T15:16:27.123677",
     "exception": false,
     "start_time": "2023-09-14T15:16:27.100567",
     "status": "completed"
    },
    "tags": []
   },
   "outputs": [],
   "source": [
    "experiment_folder = os.path.abspath(os.path.join(base_dir, 'experiments', experiment_name))\n",
    "img_folder = os.path.abspath(os.path.join(experiment_folder, 'imgs'))"
   ]
  },
  {
   "cell_type": "markdown",
   "id": "ea9b90fb",
   "metadata": {
    "papermill": {
     "duration": 0.017004,
     "end_time": "2023-09-14T15:16:27.157681",
     "exception": false,
     "start_time": "2023-09-14T15:16:27.140677",
     "status": "completed"
    },
    "tags": []
   },
   "source": [
    "### Defining names, paths and flags"
   ]
  },
  {
   "cell_type": "code",
   "execution_count": 5,
   "id": "45727eef",
   "metadata": {
    "ExecuteTime": {
     "end_time": "2022-09-29T20:54:14.816686Z",
     "start_time": "2022-09-29T20:54:14.806238Z"
    },
    "execution": {
     "iopub.execute_input": "2023-09-14T15:16:27.193161Z",
     "iopub.status.busy": "2023-09-14T15:16:27.192754Z",
     "iopub.status.idle": "2023-09-14T15:16:27.201998Z",
     "shell.execute_reply": "2023-09-14T15:16:27.201086Z"
    },
    "papermill": {
     "duration": 0.028864,
     "end_time": "2023-09-14T15:16:27.203583",
     "exception": false,
     "start_time": "2023-09-14T15:16:27.174719",
     "status": "completed"
    },
    "tags": []
   },
   "outputs": [],
   "source": [
    "# QIIME2 Artifacts folder\n",
    "qiime_folder = os.path.join(experiment_folder, 'qiime-artifacts')\n",
    "\n",
    "# Input - DADA2 Artifacts\n",
    "dada2_tabs_path = os.path.join(qiime_folder, 'dada2-tabs.qza')\n",
    "dada2_reps_path = os.path.join(qiime_folder, 'dada2-reps.qza')\n",
    "dada2_stat_path = os.path.join(qiime_folder, 'dada2-stat.qza')\n",
    "\n",
    "# Input - Taxonaomic Artifacts\n",
    "taxonomy_path = os.path.join(qiime_folder, 'metatax.qza')\n",
    "\n",
    "# Create folder to store Alpha files\n",
    "alpha_path = os.path.join(qiime_folder, 'alpha-analysis')\n",
    "if not os.path.exists(alpha_path):\n",
    "    os.makedirs(alpha_path)\n",
    "    print(f'The new directory is created in {alpha_path}')\n",
    "    \n",
    "# Create folder to store Beta files\n",
    "beta_path = os.path.join(qiime_folder, 'beta-analysis')\n",
    "if not os.path.exists(beta_path):\n",
    "    os.makedirs(beta_path)\n",
    "    print(f'The new directory is created in {beta_path}')\n",
    "\n",
    "# Output -Diversity Artifacts\n",
    "alpha_diversity_path = os.path.join(alpha_path, 'alpha-diversity.qza')\n",
    "alpha_diversity_view_path = os.path.join(alpha_path, 'alpha-diversity.qzv')\n",
    "beta_diversity_path = os.path.join(beta_path, 'beta-diversity.qza')\n",
    "beta_diversity_view_path = os.path.join(beta_path, 'beta-diversity.qzv')"
   ]
  },
  {
   "cell_type": "code",
   "execution_count": 6,
   "id": "601ae263",
   "metadata": {
    "ExecuteTime": {
     "end_time": "2022-09-29T20:54:14.829117Z",
     "start_time": "2022-09-29T20:54:14.818272Z"
    },
    "execution": {
     "iopub.execute_input": "2023-09-14T15:16:27.239748Z",
     "iopub.status.busy": "2023-09-14T15:16:27.239468Z",
     "iopub.status.idle": "2023-09-14T15:16:27.244836Z",
     "shell.execute_reply": "2023-09-14T15:16:27.244330Z"
    },
    "papermill": {
     "duration": 0.025172,
     "end_time": "2023-09-14T15:16:27.246231",
     "exception": false,
     "start_time": "2023-09-14T15:16:27.221059",
     "status": "completed"
    },
    "tags": []
   },
   "outputs": [],
   "source": [
    "def filter_and_collapse(tab, seqs, tax, meta, lvl, exclude=True, exclude_list='uncultured,unidentified,metagenome'):\n",
    "    from qiime2.plugins.taxa.methods import collapse\n",
    "    from qiime2.plugins.taxa.methods import filter_table\n",
    "    from qiime2.plugins.feature_table.methods import filter_seqs\n",
    "    from qiime2.plugins.feature_table.visualizers import summarize\n",
    "    \n",
    "    to_include = ('d', 'p', 'c', 'o', 'f', 'g', 's')[lvl-1]\n",
    "    to_include += '__'\n",
    "    to_exclude = exclude_list if exclude else None\n",
    "    \n",
    "    filtered_tabs = filter_table(\n",
    "        table=tab, \n",
    "        taxonomy=tax,\n",
    "        include=to_include,\n",
    "        exclude=to_exclude,\n",
    "        mode='contains').filtered_table\n",
    "    \n",
    "    filtered_seqs = filter_seqs(\n",
    "        data = seqs,\n",
    "        table = filtered_tabs,\n",
    "    ).filtered_data\n",
    "    \n",
    "    collapsed_table = collapse(table=filtered_tabs, taxonomy=tax, level=lvl).collapsed_table\n",
    "    collapsed_table_view = summarize(table=collapsed_table, sample_metadata=meta).visualization\n",
    "    \n",
    "    return collapsed_table, collapsed_table_view, filtered_seqs"
   ]
  },
  {
   "cell_type": "markdown",
   "id": "0999a1b2",
   "metadata": {
    "papermill": {
     "duration": 0.017149,
     "end_time": "2023-09-14T15:16:27.281849",
     "exception": false,
     "start_time": "2023-09-14T15:16:27.264700",
     "status": "completed"
    },
    "tags": []
   },
   "source": [
    "## Step execution\n",
    "\n",
    "### Load input files\n",
    "\n",
    "This Step import the QIIME2 `FeatureTable[Frequency]` Artifact and the `Metadata` file."
   ]
  },
  {
   "cell_type": "code",
   "execution_count": 7,
   "id": "8f299d1a",
   "metadata": {
    "ExecuteTime": {
     "end_time": "2022-09-29T20:54:15.559837Z",
     "start_time": "2022-09-29T20:54:14.830405Z"
    },
    "execution": {
     "iopub.execute_input": "2023-09-14T15:16:27.318602Z",
     "iopub.status.busy": "2023-09-14T15:16:27.318325Z",
     "iopub.status.idle": "2023-09-14T15:16:28.676256Z",
     "shell.execute_reply": "2023-09-14T15:16:28.675432Z"
    },
    "papermill": {
     "duration": 1.380202,
     "end_time": "2023-09-14T15:16:28.679380",
     "exception": false,
     "start_time": "2023-09-14T15:16:27.299178",
     "status": "completed"
    },
    "tags": []
   },
   "outputs": [],
   "source": [
    "#Load Metadata\n",
    "metadata_qa = Metadata.load(metadata_file)\n",
    "\n",
    "#Load FeatureTable[Frequency]\n",
    "tabs = Artifact.load(dada2_tabs_path)\n",
    "tabs_df = tabs.view(Metadata).to_dataframe().T\n",
    "\n",
    "# FeatureData[Sequence]\n",
    "reps = Artifact.load(dada2_reps_path)\n",
    "\n",
    "# FeatureData[Taxonomy]\n",
    "tax = Artifact.load(taxonomy_path)"
   ]
  },
  {
   "cell_type": "code",
   "execution_count": 8,
   "id": "c8dfe530",
   "metadata": {
    "ExecuteTime": {
     "end_time": "2022-09-29T20:54:15.564968Z",
     "start_time": "2022-09-29T20:54:15.561875Z"
    },
    "execution": {
     "iopub.execute_input": "2023-09-14T15:16:28.725091Z",
     "iopub.status.busy": "2023-09-14T15:16:28.724649Z",
     "iopub.status.idle": "2023-09-14T15:16:29.786309Z",
     "shell.execute_reply": "2023-09-14T15:16:29.785584Z"
    },
    "papermill": {
     "duration": 1.083921,
     "end_time": "2023-09-14T15:16:29.789482",
     "exception": false,
     "start_time": "2023-09-14T15:16:28.705561",
     "status": "completed"
    },
    "tags": []
   },
   "outputs": [
    {
     "name": "stdout",
     "output_type": "stream",
     "text": [
      "{'min_frequency': 0, 'max_frequency': None, 'min_features': 0, 'max_features': None, 'metadata': Metadata\n",
      "--------\n",
      "12 IDs x 3 columns\n",
      "sample-name: ColumnProperties(type='categorical')\n",
      "group-id:    ColumnProperties(type='categorical')\n",
      "group-desc:  ColumnProperties(type='categorical')\n",
      "\n",
      "Call to_dataframe() for a tabular representation., 'where': None, 'exclude_ids': False, 'filter_empty_features': True, 'table': 2732 x 74 <class 'biom.table.Table'> with 12512 nonzero entries (6% dense)}\n",
      "{'min_frequency': 0, 'max_frequency': None, 'min_features': 0, 'max_features': None, 'metadata': Metadata\n",
      "--------\n",
      "12 IDs x 3 columns\n",
      "sample-name: ColumnProperties(type='categorical')\n",
      "group-id:    ColumnProperties(type='categorical')\n",
      "group-desc:  ColumnProperties(type='categorical')\n",
      "\n",
      "Call to_dataframe() for a tabular representation., 'where': None, 'exclude_ids': False, 'filter_empty_features': True, 'table': 2732 x 74 <class 'biom.table.Table'> with 12512 nonzero entries (6% dense)}\n"
     ]
    },
    {
     "name": "stdout",
     "output_type": "stream",
     "text": [
      "{'metadata': None, 'where': None, 'exclude_ids': False, 'data': c688e3b1ada46ed57f5b7e7e0d56664f    (((T)), ((G)), ((A)), ((G)), ((G)), ((A)), ((A...\n",
      "bc798de4a9acd3ff7ba51c244523be14    (((T)), ((G)), ((A)), ((G)), ((G)), ((A)), ((A...\n",
      "fca5b1ccd94b107a3ddf3e99feaafb6f    (((T)), ((G)), ((A)), ((G)), ((G)), ((A)), ((A...\n",
      "5ba9e679e692fcbf933c554317e03c5f    (((T)), ((A)), ((G)), ((G)), ((G)), ((A)), ((A...\n",
      "04581eba9e6fd12787fb5948fcef030f    (((T)), ((G)), ((A)), ((G)), ((G)), ((A)), ((A...\n",
      "                                                          ...                        \n",
      "dbc83a2f59a61f2cc57971a85718406b    (((T)), ((G)), ((G)), ((G)), ((G)), ((A)), ((A...\n",
      "4393f0be1354f7198d1969c44d34d44a    (((T)), ((G)), ((A)), ((G)), ((G)), ((A)), ((A...\n",
      "a86e1aaa4715133f8fa2c0f52e03e6d7    (((T)), ((G)), ((G)), ((G)), ((G)), ((A)), ((A...\n",
      "aa37170c6d59f9077a2644f8c25df05d    (((T)), ((G)), ((G)), ((G)), ((G)), ((A)), ((A...\n",
      "9c3f20cb7568feda60cc7776400d8d64    (((G)), ((A)), ((A)), ((A)), ((T)), ((G)), ((C...\n",
      "Length: 2732, dtype: object, 'table': 978 x 12 <class 'biom.table.Table'> with 1969 nonzero entries (16% dense)}\n"
     ]
    },
    {
     "name": "stdout",
     "output_type": "stream",
     "text": [
      "{'metadata': None, 'where': None, 'exclude_ids': False, 'data': c688e3b1ada46ed57f5b7e7e0d56664f    (((T)), ((G)), ((A)), ((G)), ((G)), ((A)), ((A...\n",
      "bc798de4a9acd3ff7ba51c244523be14    (((T)), ((G)), ((A)), ((G)), ((G)), ((A)), ((A...\n",
      "fca5b1ccd94b107a3ddf3e99feaafb6f    (((T)), ((G)), ((A)), ((G)), ((G)), ((A)), ((A...\n",
      "5ba9e679e692fcbf933c554317e03c5f    (((T)), ((A)), ((G)), ((G)), ((G)), ((A)), ((A...\n",
      "04581eba9e6fd12787fb5948fcef030f    (((T)), ((G)), ((A)), ((G)), ((G)), ((A)), ((A...\n",
      "                                                          ...                        \n",
      "dbc83a2f59a61f2cc57971a85718406b    (((T)), ((G)), ((G)), ((G)), ((G)), ((A)), ((A...\n",
      "4393f0be1354f7198d1969c44d34d44a    (((T)), ((G)), ((A)), ((G)), ((G)), ((A)), ((A...\n",
      "a86e1aaa4715133f8fa2c0f52e03e6d7    (((T)), ((G)), ((G)), ((G)), ((G)), ((A)), ((A...\n",
      "aa37170c6d59f9077a2644f8c25df05d    (((T)), ((G)), ((G)), ((G)), ((G)), ((A)), ((A...\n",
      "9c3f20cb7568feda60cc7776400d8d64    (((G)), ((A)), ((A)), ((A)), ((T)), ((G)), ((C...\n",
      "Length: 2732, dtype: object, 'table': 978 x 12 <class 'biom.table.Table'> with 1969 nonzero entries (16% dense)}\n"
     ]
    }
   ],
   "source": [
    "# Filter FeatureTable[Frequency | RelativeFrequency | PresenceAbsence | Composition] based on Metadata sample ID values\n",
    "tabs = filter_samples(\n",
    "    table=tabs,\n",
    "    metadata=metadata_qa,\n",
    ").filtered_table\n",
    "# Filter SampleData[SequencesWithQuality | PairedEndSequencesWithQuality | JoinedSequencesWithQuality] based on Metadata sample ID values; returns FeatureData[Sequence | AlignedSequence]\n",
    "reps = filter_seqs(\n",
    "    data=reps,\n",
    "    table=tabs,\n",
    ").filtered_data"
   ]
  },
  {
   "cell_type": "markdown",
   "id": "9f43843a",
   "metadata": {
    "ExecuteTime": {
     "end_time": "2022-09-22T22:48:07.523952Z",
     "start_time": "2022-09-22T22:48:07.517565Z"
    },
    "papermill": {
     "duration": 0.019207,
     "end_time": "2023-09-14T15:16:29.834722",
     "exception": false,
     "start_time": "2023-09-14T15:16:29.815515",
     "status": "completed"
    },
    "tags": []
   },
   "source": [
    "## Alpha diversity analysis\n",
    "\n",
    "#### Reference\n",
    "- [The Use and Types of Alpha-Diversity Metrics in Microbial NGS](https://www.cd-genomics.com/microbioseq/the-use-and-types-of-alpha-diversity-metrics-in-microbial-ngs.html)\n",
    "- [Alpha diversity metrics](http://scikit-bio.org/docs/0.2.0/generated/skbio.diversity.alpha.html)\n",
    "\n",
    "#### Methods\n",
    "- [diversity alpha](https://docs.qiime2.org/2022.8/plugins/available/diversity/alpha/): Computes a user-specified alpha diversity metric for all samples in a\n",
    "feature table.\n",
    "- [diversity alpha_phylogenetic](https://docs.qiime2.org/2022.8/plugins/available/diversity/alpha-phylogenetic/): Computes a user-specified phylogenetic alpha diversity metric for all\n",
    "samples in a feature table.\n",
    "- [diversity alpha_correlation](https://docs.qiime2.org/2022.8/plugins/available/diversity/alpha-correlation/): Determine whether numeric sample metadata columns are correlated with alpha diversity.\n",
    "- [diversity alpha_group_significance](https://docs.qiime2.org/2022.8/plugins/available/diversity/alpha-group-significance/): Visually and statistically compare groups of alpha diversity values."
   ]
  },
  {
   "cell_type": "markdown",
   "id": "606b9c75",
   "metadata": {
    "papermill": {
     "duration": 0.01915,
     "end_time": "2023-09-14T15:16:29.873077",
     "exception": false,
     "start_time": "2023-09-14T15:16:29.853927",
     "status": "completed"
    },
    "tags": []
   },
   "source": [
    "### Compute Alpha Diversity vectors\n",
    "- [diversity alpha](https://docs.qiime2.org/2022.8/plugins/available/diversity/alpha/): Computes a user-specified alpha diversity metric for all samples in a feature table.\n",
    "- [Alpha diversity metrics](http://scikit-bio.org/docs/0.2.0/generated/skbio.diversity.alpha.html)\n",
    " - Choices: ('ace', 'berger_parker_d', 'brillouin_d', 'chao1', 'chao1_ci', 'dominance', 'doubles', 'enspie', 'esty_ci', 'fisher_alpha', 'gini_index', 'goods_coverage', 'heip_e', 'kempton_taylor_q', 'lladser_pe', 'margalef', 'mcintosh_d', 'mcintosh_e', 'menhinick', 'michaelis_menten_fit', 'observed_features', 'osd', 'pielou_e', 'robbins', 'shannon', 'simpson', 'simpson_e', 'singles', 'strong')"
   ]
  },
  {
   "cell_type": "code",
   "execution_count": 9,
   "id": "556e5264",
   "metadata": {
    "ExecuteTime": {
     "end_time": "2022-09-29T20:54:20.790166Z",
     "start_time": "2022-09-29T20:54:20.451134Z"
    },
    "execution": {
     "iopub.execute_input": "2023-09-14T15:16:29.913598Z",
     "iopub.status.busy": "2023-09-14T15:16:29.913181Z",
     "iopub.status.idle": "2023-09-14T15:16:30.343067Z",
     "shell.execute_reply": "2023-09-14T15:16:30.342495Z"
    },
    "papermill": {
     "duration": 0.452703,
     "end_time": "2023-09-14T15:16:30.345995",
     "exception": false,
     "start_time": "2023-09-14T15:16:29.893292",
     "status": "completed"
    },
    "tags": []
   },
   "outputs": [
    {
     "name": "stdout",
     "output_type": "stream",
     "text": [
      "Calculating alpha diversity: chao1\n",
      "{'metric': 'chao1', 'table': <artifact: FeatureTable[Frequency] uuid: 60b782f7-828f-4853-8f52-378416d9509b>}\n",
      "{'metric': 'chao1', 'table': 978 x 12 <class 'biom.table.Table'> with 1969 nonzero entries (16% dense)}\n",
      "{'metric': 'chao1', 'table': 978 x 12 <class 'biom.table.Table'> with 1969 nonzero entries (16% dense)}\n",
      "DONE: Calculating alpha diversity: chao1\n",
      "Calculating alpha diversity: chao1_ci\n",
      "{'metric': 'chao1_ci', 'table': <artifact: FeatureTable[Frequency] uuid: 60b782f7-828f-4853-8f52-378416d9509b>}\n",
      "{'metric': 'chao1_ci', 'table': 978 x 12 <class 'biom.table.Table'> with 1969 nonzero entries (16% dense)}\n",
      "{'metric': 'chao1_ci', 'table': 978 x 12 <class 'biom.table.Table'> with 1969 nonzero entries (16% dense)}\n",
      "DONE: Calculating alpha diversity: chao1_ci\n",
      "Calculating alpha diversity: observed_features\n",
      "{'metric': 'observed_features', 'table': <artifact: FeatureTable[Frequency] uuid: 60b782f7-828f-4853-8f52-378416d9509b>}\n",
      "{'table': 978 x 12 <class 'biom.table.Table'> with 1969 nonzero entries (16% dense)}\n",
      "{'table': 978 x 12 <class 'biom.table.Table'> with 1969 nonzero entries (16% dense)}\n"
     ]
    },
    {
     "name": "stdout",
     "output_type": "stream",
     "text": [
      "DONE: Calculating alpha diversity: observed_features\n",
      "Calculating alpha diversity: shannon\n",
      "{'metric': 'shannon', 'table': <artifact: FeatureTable[Frequency] uuid: 60b782f7-828f-4853-8f52-378416d9509b>}\n",
      "{'drop_undefined_samples': False, 'table': 978 x 12 <class 'biom.table.Table'> with 1969 nonzero entries (16% dense)}\n",
      "{'drop_undefined_samples': False, 'table': 978 x 12 <class 'biom.table.Table'> with 1969 nonzero entries (16% dense)}\n",
      "DONE: Calculating alpha diversity: shannon\n",
      "Calculating alpha diversity: simpson\n",
      "{'metric': 'simpson', 'table': <artifact: FeatureTable[Frequency] uuid: 60b782f7-828f-4853-8f52-378416d9509b>}\n",
      "{'metric': 'simpson', 'table': 978 x 12 <class 'biom.table.Table'> with 1969 nonzero entries (16% dense)}\n",
      "{'metric': 'simpson', 'table': 978 x 12 <class 'biom.table.Table'> with 1969 nonzero entries (16% dense)}\n",
      "DONE: Calculating alpha diversity: simpson\n",
      "Calculating alpha diversity: simpson_e\n",
      "{'metric': 'simpson_e', 'table': <artifact: FeatureTable[Frequency] uuid: 60b782f7-828f-4853-8f52-378416d9509b>}\n",
      "{'metric': 'simpson_e', 'table': 978 x 12 <class 'biom.table.Table'> with 1969 nonzero entries (16% dense)}\n",
      "{'metric': 'simpson_e', 'table': 978 x 12 <class 'biom.table.Table'> with 1969 nonzero entries (16% dense)}\n"
     ]
    },
    {
     "name": "stdout",
     "output_type": "stream",
     "text": [
      "DONE: Calculating alpha diversity: simpson_e\n"
     ]
    }
   ],
   "source": [
    "metrics = ('ace', 'berger_parker_d', 'brillouin_d', 'chao1', 'chao1_ci', 'dominance', 'doubles', 'enspie', 'esty_ci', 'fisher_alpha', 'gini_index', 'goods_coverage', 'heip_e', 'kempton_taylor_q', 'lladser_pe', 'margalef', 'mcintosh_d', 'mcintosh_e', 'menhinick', 'michaelis_menten_fit', 'observed_features', 'osd', 'pielou_e', 'robbins', 'shannon', 'simpson', 'simpson_e', 'singles', 'strong')\n",
    "\n",
    "# Sugestão de valores para Alpha diversity\n",
    "# chao1 e observed_features (riqueza); shannon e simpson (diversidade - que levam em consideração riqueza e equitabilidade).\n",
    "metrics = ('chao1', 'chao1_ci', 'observed_features', 'shannon', 'simpson', 'simpson_e')\n",
    "alpha_diversities = dict()\n",
    "for metric in metrics:\n",
    "    print(f\"Calculating alpha diversity: {metric}\")\n",
    "    try:\n",
    "        alpha_diversity = alpha(table=tabs, metric=metric).alpha_diversity\n",
    "        alpha_diversities[metric] = alpha_diversity\n",
    "        # Save SampleData[AlphaDiversity] Artifact\n",
    "        file_path = os.path.join(alpha_path, f'alpha-values-{metric}.qza')\n",
    "        alpha_diversity.save(file_path)\n",
    "        print(f\"DONE: Calculating alpha diversity: {metric}\")\n",
    "    except Exception as e:\n",
    "        print(f\"ERROR: Calculating alpha diversity: {metric}\")\n",
    "        print(e)"
   ]
  },
  {
   "cell_type": "markdown",
   "id": "184bcb7b",
   "metadata": {
    "papermill": {
     "duration": 0.020006,
     "end_time": "2023-09-14T15:16:30.390273",
     "exception": false,
     "start_time": "2023-09-14T15:16:30.370267",
     "status": "completed"
    },
    "tags": []
   },
   "source": [
    "### Create Phylogenetic inference\n",
    "\n",
    "- [alignment align_to_tree_mafft_fasttree](https://docs.qiime2.org/2022.8/plugins/available/phylogeny/align-to-tree-mafft-fasttree/): Build a phylogenetic tree using fasttree and mafft alignment\n",
    "\n",
    "This pipeline will start by creating a sequence alignment using MAFFT,\n",
    "after which any alignment columns that are phylogenetically uninformative\n",
    "or ambiguously aligned will be removed (masked). The resulting masked\n",
    "alignment will be used to infer a phylogenetic tree and then subsequently\n",
    "rooted at its midpoint. Output files from each step of the pipeline will be\n",
    "saved. This includes both the unmasked and masked MAFFT alignment from\n",
    "q2-alignment methods, and both the rooted and unrooted phylogenies from\n",
    "q2-phylogeny methods.\n",
    "\n",
    "\n",
    "Returns\n",
    "- alignment : FeatureData[AlignedSequence] : The aligned sequences.\n",
    "- masked_alignment : FeatureData[AlignedSequence] : The masked alignment.\n",
    "- tree : Phylogeny[Unrooted] : The unrooted phylogenetic tree.\n",
    "- rooted_tree : Phylogeny[Rooted] : The rooted phylogenetic tree."
   ]
  },
  {
   "cell_type": "code",
   "execution_count": 10,
   "id": "9c8cfe47",
   "metadata": {
    "ExecuteTime": {
     "end_time": "2022-09-29T20:54:35.139531Z",
     "start_time": "2022-09-29T20:54:20.792130Z"
    },
    "execution": {
     "iopub.execute_input": "2023-09-14T15:16:30.433519Z",
     "iopub.status.busy": "2023-09-14T15:16:30.433129Z",
     "iopub.status.idle": "2023-09-14T15:16:46.375982Z",
     "shell.execute_reply": "2023-09-14T15:16:46.375249Z"
    },
    "papermill": {
     "duration": 15.967404,
     "end_time": "2023-09-14T15:16:46.378598",
     "exception": false,
     "start_time": "2023-09-14T15:16:30.411194",
     "status": "completed"
    },
    "tags": []
   },
   "outputs": [
    {
     "name": "stdout",
     "output_type": "stream",
     "text": [
      "{'n_threads': 6, 'mask_max_gap_frequency': 1.0, 'mask_min_conservation': 0.4, 'parttree': False, 'sequences': <artifact: FeatureData[Sequence] uuid: df451f14-59ff-4740-a86c-b3b3d7939a61>}\n",
      "{'n_threads': 6, 'parttree': False, 'sequences': <q2_types.feature_data._format.DNAFASTAFormat object at 0x7f5c6a8c0040>}\n",
      "{'n_threads': 6, 'parttree': False, 'sequences': <q2_types.feature_data._format.DNAFASTAFormat object at 0x7f5c6a8c0040>}\n",
      "Running external command line application. This may print messages to stdout and/or stderr.\n",
      "The command being run is below. This command cannot be manually re-run as it will depend on temporary files that no longer exist.\n",
      "\n",
      "Command: mafft --preservecase --inputorder --thread 6 /tmp/qiime2-archive-ay24b1iq/df451f14-59ff-4740-a86c-b3b3d7939a61/data/dna-sequences.fasta\n",
      "\n"
     ]
    },
    {
     "name": "stderr",
     "output_type": "stream",
     "text": [
      "inputfile = orig\n",
      "978 x 430 - 282 d\n",
      "nthread = 6\n",
      "nthreadpair = 6\n",
      "nthreadtb = 6\n",
      "ppenalty_ex = 0\n",
      "stacksize: 8192 kb\n",
      "generating a scoring matrix for nucleotide (dist=200) ... done\n",
      "Gap Penalty = -1.53, +0.00, +0.00\n",
      "\n",
      "\n",
      "\n",
      "Making a distance matrix ..\n",
      "\r",
      "    1 / 978 (thread    0)\r",
      "  101 / 978 (thread    2)\r",
      "  201 / 978 (thread    5)\r",
      "  301 / 978 (thread    1)\r",
      "  401 / 978 (thread    1)\r",
      "  501 / 978 (thread    0)\r",
      "  601 / 978 (thread    2)\r",
      "  701 / 978 (thread    2)\r",
      "  801 / 978 (thread    0)\r",
      "  901 / 978 (thread    3)\n",
      "done.\n",
      "\n",
      "Constructing a UPGMA tree (efffree=0) ... \n",
      "\r",
      "    0 / 978\r",
      "   10 / 978\r",
      "   20 / 978\r",
      "   30 / 978\r",
      "   40 / 978\r",
      "   50 / 978\r",
      "   60 / 978\r",
      "   70 / 978\r",
      "   80 / 978\r",
      "   90 / 978\r",
      "  100 / 978\r",
      "  110 / 978\r",
      "  120 / 978\r",
      "  130 / 978\r",
      "  140 / 978\r",
      "  150 / 978\r",
      "  160 / 978\r",
      "  170 / 978\r",
      "  180 / 978"
     ]
    },
    {
     "name": "stderr",
     "output_type": "stream",
     "text": [
      "\r",
      "  190 / 978\r",
      "  200 / 978\r",
      "  210 / 978\r",
      "  220 / 978\r",
      "  230 / 978\r",
      "  240 / 978\r",
      "  250 / 978\r",
      "  260 / 978\r",
      "  270 / 978\r",
      "  280 / 978\r",
      "  290 / 978\r",
      "  300 / 978\r",
      "  310 / 978\r",
      "  320 / 978\r",
      "  330 / 978\r",
      "  340 / 978\r",
      "  350 / 978\r",
      "  360 / 978\r",
      "  370 / 978\r",
      "  380 / 978\r",
      "  390 / 978\r",
      "  400 / 978\r",
      "  410 / 978\r",
      "  420 / 978\r",
      "  430 / 978\r",
      "  440 / 978\r",
      "  450 / 978\r",
      "  460 / 978\r",
      "  470 / 978\r",
      "  480 / 978\r",
      "  490 / 978\r",
      "  500 / 978\r",
      "  510 / 978\r",
      "  520 / 978\r",
      "  530 / 978\r",
      "  540 / 978\r",
      "  550 / 978\r",
      "  560 / 978\r",
      "  570 / 978\r",
      "  580 / 978\r",
      "  590 / 978\r",
      "  600 / 978\r",
      "  610 / 978\r",
      "  620 / 978\r",
      "  630 / 978\r",
      "  640 / 978\r",
      "  650 / 978\r",
      "  660 / 978\r",
      "  670 / 978\r",
      "  680 / 978\r",
      "  690 / 978\r",
      "  700 / 978\r",
      "  710 / 978\r",
      "  720 / 978\r",
      "  730 / 978\r",
      "  740 / 978\r",
      "  750 / 978\r",
      "  760 / 978\r",
      "  770 / 978\r",
      "  780 / 978\r",
      "  790 / 978\r",
      "  800 / 978\r",
      "  810 / 978\r",
      "  820 / 978\r",
      "  830 / 978\r",
      "  840 / 978\r",
      "  850 / 978\r",
      "  860 / 978\r",
      "  870 / 978\r",
      "  880 / 978\r",
      "  890 / 978\r",
      "  900 / 978\r",
      "  910 / 978\r",
      "  920 / 978\r",
      "  930 / 978\r",
      "  940 / 978\r",
      "  950 / 978\r",
      "  960 / 978\r",
      "  970 / 978\n",
      "done.\n",
      "\n",
      "Progressive alignment 1/2... \n",
      "\r",
      "STEP     1 / 977 (thread    0) f\b\b\r",
      "STEP     2 / 977 (thread    1) f\b\b\r",
      "STEP     3 / 977 (thread    2) f\b\b\r",
      "STEP     4 / 977 (thread    3) f\b\b\r",
      "STEP     5 / 977 (thread    4) f\b\b\r",
      "STEP     6 / 977 (thread    5) f\b\b\r",
      "STEP     7 / 977 (thread    0) f\b\b\r",
      "STEP     8 / 977 (thread    4) f\b\b\r",
      "STEP     9 / 977 (thread    4) f\b\b\r",
      "STEP    10 / 977 (thread    0) f\b\b\r",
      "STEP    11 / 977 (thread    1) f\b\b\r",
      "STEP    12 / 977 (thread    5) f\b\b\r",
      "STEP    13 / 977 (thread    3) f\b\b\r",
      "STEP    14 / 977 (thread    2) f\b\b\r",
      "STEP    15 / 977 (thread    4) f\b\b\r",
      "STEP    16 / 977 (thread    0) f\b\b\r",
      "STEP    17 / 977 (thread    1) f\b\b\r",
      "STEP    18 / 977 (thread    4) f\b\b\r",
      "STEP    19 / 977 (thread    0) f\b\b\r",
      "STEP    20 / 977 (thread    5) f\b\b\r",
      "STEP    21 / 977 (thread    3) f\b\b\r",
      "STEP    22 / 977 (thread    2) f\b\b\r",
      "STEP    23 / 977 (thread    0) f\b\b\r",
      "STEP    24 / 977 (thread    4) f\b\b\r",
      "STEP    25 / 977 (thread    1) f\b\b\r",
      "STEP    26 / 977 (thread    2) f\b\b\r",
      "STEP    27 / 977 (thread    5) f\b\b\r",
      "STEP    28 / 977 (thread    3) f\b\b\r",
      "STEP    29 / 977 (thread    4) f\b\b\r",
      "STEP    30 / 977 (thread    0) f\b\b\r",
      "STEP    31 / 977 (thread    1) f\b\b\r",
      "STEP    32 / 977 (thread    2) f\b\b\r",
      "STEP    33 / 977 (thread    4)\r",
      "STEP    34 / 977 (thread    0) f\b\b f\b\b\r",
      "STEP    35 / 977 (thread    3)\r",
      "STEP    36 / 977 (thread    5) f\b\b f\b\b\r",
      "STEP    37 / 977 (thread    1) f\b\b\r",
      "STEP    38 / 977 (thread    2) f\b\b\r",
      "STEP    39 / 977 (thread    0) f\b\b\r",
      "STEP    40 / 977 (thread    4)\r",
      "STEP    41 / 977 (thread    5)\r",
      "STEP    42 / 977 (thread    3) f\b\b f\b\b f\b\b\r",
      "STEP    43 / 977 (thread    1) f\b\b\r",
      "STEP    44 / 977 (thread    2) f\b\b\r",
      "STEP    45 / 977 (thread    4)\r",
      "STEP    46 / 977 (thread    5)\r",
      "STEP    48 / 977 (thread    3) f\b\b f\b\b\r",
      "STEP    47 / 977 (thread    0) f\b\b f\b\b\r",
      "STEP    49 / 977 (thread    1) f\b\b\r",
      "STEP    50 / 977 (thread    2) f\b\b\r",
      "STEP    51 / 977 (thread    0) f\b\b\r",
      "STEP    53 / 977 (thread    3)\r",
      "STEP    52 / 977 (thread    4) f\b\b f\b\b\r",
      "STEP    54 / 977 (thread    5) f\b\b\r",
      "STEP    55 / 977 (thread    1) f\b\b\r",
      "STEP    56 / 977 (thread    2) f\b\b\r",
      "STEP    57 / 977 (thread    0) f\b\b\r",
      "STEP    59 / 977 (thread    5) f\b\b\r",
      "STEP    60 / 977 (thread    3)\r",
      "STEP    58 / 977 (thread    4) f\b\b f\b\b\r",
      "STEP    61 / 977 (thread    1) f\b\b\r",
      "STEP    62 / 977 (thread    2) f\b\b\r",
      "STEP    63 / 977 (thread    5)\r",
      "STEP    64 / 977 (thread    3) f\b\b f\b\b\r",
      "STEP    65 / 977 (thread    1) f\b\b\r",
      "STEP    66 / 977 (thread    2) f\b\b\r",
      "STEP    67 / 977 (thread    3) f\b\b\r",
      "STEP    68 / 977 (thread    5) f\b\b\r",
      "STEP    69 / 977 (thread    1) f\b\b\r",
      "STEP    70 / 977 (thread    0) f\b\b\r",
      "STEP    71 / 977 (thread    4) f\b\b\r",
      "STEP    72 / 977 (thread    2) f\b\b\r",
      "STEP    73 / 977 (thread    5) f\b\b\r",
      "STEP    74 / 977 (thread    3) f\b\b\r",
      "STEP    75 / 977 (thread    1) f\b\b\r",
      "STEP    76 / 977 (thread    0) f\b\b\r",
      "STEP    77 / 977 (thread    4) f\b\b\r",
      "STEP    78 / 977 (thread    2) f\b\b\r",
      "STEP    79 / 977 (thread    3) f\b\b\r",
      "STEP    80 / 977 (thread    5) f\b\b\r",
      "STEP    81 / 977 (thread    4) f\b\b\r",
      "STEP    82 / 977 (thread    0) f\b\b\r",
      "STEP    83 / 977 (thread    5) f\b\b\r",
      "STEP    84 / 977 (thread    3) f\b\b\r",
      "STEP    85 / 977 (thread    2) f\b\b\r",
      "STEP    86 / 977 (thread    4) f\b\b\r",
      "STEP    87 / 977 (thread    0) f\b\b\r",
      "STEP    88 / 977 (thread    1) f\b\b\r",
      "STEP    89 / 977 (thread    5) f\b\b\r",
      "STEP    90 / 977 (thread    3) f\b\b\r",
      "STEP    91 / 977 (thread    2) f\b\b\r",
      "STEP    92 / 977 (thread    4) f\b\b\r",
      "STEP    93 / 977 (thread    0) f\b\b\r",
      "STEP    94 / 977 (thread    1) f\b\b\r",
      "STEP    95 / 977 (thread    3) f\b\b\r",
      "STEP    96 / 977 (thread    5) f\b\b\r",
      "STEP    97 / 977 (thread    0) f\b\b\r",
      "STEP    98 / 977 (thread    4) f\b\b\r",
      "STEP    99 / 977 (thread    2) f\b\b\r",
      "STEP   100 / 977 (thread    1) f\b\b\r",
      "STEP   101 / 977 (thread    5) f\b\b\r",
      "STEP   102 / 977 (thread    3) f\b\b\r",
      "STEP   103 / 977 (thread    4)\r",
      "STEP   104 / 977 (thread    0) f\b\b f\b\b\r",
      "STEP   105 / 977 (thread    2) f\b\b\r",
      "STEP   106 / 977 (thread    1) f\b\b\r",
      "STEP   107 / 977 (thread    3) f\b\b\r",
      "STEP   108 / 977 (thread    5) f\b\b\r",
      "STEP   109 / 977 (thread    4) f\b\b\r",
      "STEP   110 / 977 (thread    2) f\b\b\r",
      "STEP   111 / 977 (thread    0) f\b\b\r",
      "STEP   112 / 977 (thread    1) f\b\b\r",
      "STEP   113 / 977 (thread    5) f\b\b\r",
      "STEP   114 / 977 (thread    3) f\b\b\r",
      "STEP   115 / 977 (thread    4) f\b\b\r",
      "STEP   117 / 977 (thread    1) f\b\b\r",
      "STEP   118 / 977 (thread    0) f\b\b\r",
      "STEP   119 / 977 (thread    5) f\b\b\r",
      "STEP   120 / 977 (thread    3) f\b\b\r",
      "STEP   116 / 977 (thread    2) f\b\b\r",
      "STEP   121 / 977 (thread    4) f\b\b\r",
      "STEP   122 / 977 (thread    1) f\b\b\r",
      "STEP   124 / 977 (thread    4) f\b\b\r",
      "STEP   125 / 977 (thread    5) f\b\b\r",
      "STEP   126 / 977 (thread    3) f\b\b\r",
      "STEP   127 / 977 (thread    1) f\b\b\r",
      "STEP   128 / 977 (thread    2) f\b\b\r",
      "STEP   129 / 977 (thread    4) f\b\b\r",
      "STEP   123 / 977 (thread    0) f\b\b\r",
      "STEP   130 / 977 (thread    5) f\b\b\r",
      "STEP   131 / 977 (thread    3) f\b\b\r",
      "STEP   132 / 977 (thread    1) f\b\b\r",
      "STEP   133 / 977 (thread    4) f\b\b\r",
      "STEP   134 / 977 (thread    5) f\b\b\r",
      "STEP   135 / 977 (thread    3) f\b\b\r",
      "STEP   136 / 977 (thread    1) f\b\b\r",
      "STEP   137 / 977 (thread    3) f\b\b\r",
      "STEP   138 / 977 (thread    4) f\b\b\r",
      "STEP   139 / 977 (thread    1) f\b\b\r",
      "STEP   140 / 977 (thread    2) f\b\b\r",
      "STEP   141 / 977 (thread    0) f\b\b\r",
      "STEP   142 / 977 (thread    4) f\b\b\r",
      "STEP   143 / 977 (thread    5) f\b\b\r",
      "STEP   144 / 977 (thread    2) f\b\b\r",
      "STEP   145 / 977 (thread    1) f\b\b\r",
      "STEP   146 / 977 (thread    3) f\b\b\r",
      "STEP   147 / 977 (thread    0) f\b\b\r",
      "STEP   148 / 977 (thread    2) f\b\b\r",
      "STEP   150 / 977 (thread    3) f\b\b\r",
      "STEP   151 / 977 (thread    4) f\b\b\r",
      "STEP   152 / 977 (thread    2) f\b\b\r",
      "STEP   153 / 977 (thread    4) f\b\b\r",
      "STEP   154 / 977 (thread    0) f\b\b\r",
      "STEP   149 / 977 (thread    5) f\b\b\r",
      "STEP   155 / 977 (thread    4) f\b\b\r",
      "STEP   156 / 977 (thread    3) f\b\b\r",
      "STEP   157 / 977 (thread    2) f\b\b\r",
      "STEP   158 / 977 (thread    1) f\b\b\r",
      "STEP   159 / 977 (thread    4) f\b\b\r",
      "STEP   160 / 977 (thread    0) f\b\b\r",
      "STEP   161 / 977 (thread    3) f\b\b\r",
      "STEP   162 / 977 (thread    2) f\b\b\r",
      "STEP   163 / 977 (thread    4) f\b\b\r",
      "STEP   164 / 977 (thread    5) f\b\b\r",
      "STEP   165 / 977 (thread    1) f\b\b\r",
      "STEP   166 / 977 (thread    2) f\b\b\r",
      "STEP   167 / 977 (thread    5) f\b\b\r",
      "STEP   169 / 977 (thread    4) f\b\b\r",
      "STEP   170 / 977 (thread    3) f\b\b\r",
      "STEP   168 / 977 (thread    0) f\b\b\r",
      "STEP   171 / 977 (thread    1) f\b\b\r",
      "STEP   172 / 977 (thread    4) f\b\b\r",
      "STEP   173 / 977 (thread    3) f\b\b\r",
      "STEP   174 / 977 (thread    2) f\b\b\r",
      "STEP   175 / 977 (thread    4) f\b\b\r",
      "STEP   176 / 977 (thread    5) f\b\b\r",
      "STEP   177 / 977 (thread    0) f\b\b\r",
      "STEP   178 / 977 (thread    1) f\b\b\r",
      "STEP   179 / 977 (thread    3) f\b\b\r",
      "STEP   180 / 977 (thread    4) f\b\b\r",
      "STEP   181 / 977 (thread    0) f\b\b\r",
      "STEP   182 / 977 (thread    5) f\b\b\r",
      "STEP   183 / 977 (thread    2) f\b\b\r",
      "STEP   184 / 977 (thread    1) f\b\b\r",
      "STEP   185 / 977 (thread    4) f\b\b\r",
      "STEP   186 / 977 (thread    0) f\b\b\r",
      "STEP   187 / 977 (thread    3) f\b\b\r",
      "STEP   188 / 977 (thread    5) f\b\b\r",
      "STEP   189 / 977 (thread    2) f\b\b\r",
      "STEP   190 / 977 (thread    4) f\b\b\r",
      "STEP   191 / 977 (thread    0) f\b\b\r",
      "STEP   192 / 977 (thread    5) f\b\b\r",
      "STEP   193 / 977 (thread    2) f\b\b\r",
      "STEP   194 / 977 (thread    4) f\b\b\r",
      "STEP   195 / 977 (thread    1) f\b\b\r",
      "STEP   196 / 977 (thread    3) f\b\b\r",
      "STEP   197 / 977 (thread    4) f\b\b\r",
      "STEP   198 / 977 (thread    0) f\b\b\r",
      "STEP   199 / 977 (thread    2) f\b\b\r",
      "STEP   200 / 977 (thread    1) f\b\b\r",
      "STEP   202 / 977 (thread    5)\r",
      "STEP   201 / 977 (thread    0) f\b\b f\b\b\r",
      "STEP   203 / 977 (thread    4) f\b\b\r",
      "STEP   204 / 977 (thread    2) f\b\b\r",
      "STEP   205 / 977 (thread    3) f\b\b\r",
      "STEP   206 / 977 (thread    1) f\b\b\r",
      "STEP   207 / 977 (thread    2) f\b\b\r",
      "STEP   208 / 977 (thread    0) f\b\b\r",
      "STEP   209 / 977 (thread    4) f\b\b\r",
      "STEP   210 / 977 (thread    3) f\b\b\r",
      "STEP   211 / 977 (thread    1) f\b\b\r",
      "STEP   212 / 977 (thread    5) f\b\b\r",
      "STEP   213 / 977 (thread    0) f\b\b\r",
      "STEP   214 / 977 (thread    4) f\b\b\r",
      "STEP   215 / 977 (thread    3) f\b\b\r",
      "STEP   216 / 977 (thread    0) f\b\b\r",
      "STEP   217 / 977 (thread    2) f\b\b\r",
      "STEP   218 / 977 (thread    4) f\b\b\r",
      "STEP   219 / 977 (thread    3) f\b\b\r",
      "STEP   220 / 977 (thread    1) f\b\b\r",
      "STEP   221 / 977 (thread    5) f\b\b\r",
      "STEP   222 / 977 (thread    0) f\b\b\r",
      "STEP   223 / 977 (thread    0) f\b\b\r",
      "STEP   224 / 977 (thread    1) f\b\b\r",
      "STEP   225 / 977 (thread    4) f\b\b\r",
      "STEP   226 / 977 (thread    0) f\b\b\r",
      "STEP   227 / 977 (thread    2) f\b\b\r",
      "STEP   228 / 977 (thread    3) f\b\b\r",
      "STEP   229 / 977 (thread    4) f\b\b\r",
      "STEP   230 / 977 (thread    5) f\b\b\r",
      "STEP   231 / 977 (thread    4) f\b\b\r",
      "STEP   232 / 977 (thread    0) f\b\b\r",
      "STEP   233 / 977 (thread    1) f\b\b\r",
      "STEP   234 / 977 (thread    5) f\b\b\r",
      "STEP   235 / 977 (thread    4) f\b\b\r",
      "STEP   236 / 977 (thread    3) f\b\b\r",
      "STEP   237 / 977 (thread    0) f\b\b\r",
      "STEP   238 / 977 (thread    1) f\b\b\r",
      "STEP   239 / 977 (thread    4) f\b\b\r",
      "STEP   240 / 977 (thread    5) f\b\b\r",
      "STEP   241 / 977 (thread    2) f\b\b\r",
      "STEP   242 / 977 (thread    0) f\b\b\r",
      "STEP   243 / 977 (thread    3) f\b\b\r",
      "STEP   244 / 977 (thread    0) f\b\b\r",
      "STEP   245 / 977 (thread    2) f\b\b\r",
      "STEP   246 / 977 (thread    4) f\b\b\r",
      "STEP   247 / 977 (thread    3) f\b\b\r",
      "STEP   248 / 977 (thread    0) f\b\b\r",
      "STEP   249 / 977 (thread    4) f\b\b\r",
      "STEP   250 / 977 (thread    1) f\b\b\r",
      "STEP   251 / 977 (thread    2) f\b\b\r",
      "STEP   252 / 977 (thread    5) f\b\b\r",
      "STEP   253 / 977 (thread    4) f\b\b\r",
      "STEP   254 / 977 (thread    0) f\b\b\r",
      "STEP   255 / 977 (thread    2) f\b\b\r",
      "STEP   256 / 977 (thread    4) f\b\b\r",
      "STEP   257 / 977 (thread    3) f\b\b\r",
      "STEP   259 / 977 (thread    5) f\b\b\r",
      "STEP   258 / 977 (thread    0) f\b\b\r",
      "STEP   260 / 977 (thread    4) f\b\b\r",
      "STEP   261 / 977 (thread    1) f\b\b\r",
      "STEP   262 / 977 (thread    3) f\b\b\r",
      "STEP   263 / 977 (thread    2) f\b\b\r",
      "STEP   264 / 977 (thread    0) f\b\b\r",
      "STEP   265 / 977 (thread    4) f\b\b\r",
      "STEP   266 / 977 (thread    5) f\b\b\r",
      "STEP   267 / 977 (thread    4) f\b\b\r",
      "STEP   268 / 977 (thread    1) f\b\b\r",
      "STEP   269 / 977 (thread    0) f\b\b\r",
      "STEP   270 / 977 (thread    3) f\b\b\r",
      "STEP   271 / 977 (thread    2) f\b\b\r",
      "STEP   272 / 977 (thread    0) f\b\b\r",
      "STEP   273 / 977 (thread    4) f\b\b\r",
      "STEP   274 / 977 (thread    5) f\b\b\r",
      "STEP   275 / 977 (thread    0) f\b\b\r",
      "STEP   276 / 977 (thread    1) f\b\b\r",
      "STEP   277 / 977 (thread    4) f\b\b\r",
      "STEP   278 / 977 (thread    3) f\b\b\r",
      "STEP   279 / 977 (thread    4) f\b\b\r",
      "STEP   280 / 977 (thread    2) f\b\b\r",
      "STEP   281 / 977 (thread    0) f\b\b\r",
      "STEP   282 / 977 (thread    5) f\b\b\r",
      "STEP   283 / 977 (thread    1) f\b\b\r",
      "STEP   285 / 977 (thread    0) f\b\b\r",
      "STEP   286 / 977 (thread    3) f\b\b\r",
      "STEP   284 / 977 (thread    4) f\b\b\r",
      "STEP   287 / 977 (thread    2) f\b\b\r",
      "STEP   288 / 977 (thread    5) f\b\b\r",
      "STEP   289 / 977 (thread    1) f\b\b\r",
      "STEP   290 / 977 (thread    0) f\b\b\r",
      "STEP   291 / 977 (thread    0) f\b\b\r",
      "STEP   292 / 977 (thread    1) f\b\b\r",
      "STEP   293 / 977 (thread    4) f\b\b\r",
      "STEP   294 / 977 (thread    0) f\b\b\r",
      "STEP   295 / 977 (thread    2) f\b\b\r",
      "STEP   296 / 977 (thread    5) f\b\b\r",
      "STEP   297 / 977 (thread    4) f\b\b\r",
      "STEP   298 / 977 (thread    3) f\b\b\r",
      "STEP   299 / 977 (thread    0) f\b\b\r",
      "STEP   300 / 977 (thread    1) f\b\b\r",
      "STEP   301 / 977 (thread    4) f\b\b\r",
      "STEP   302 / 977 (thread    2) f\b\b\r",
      "STEP   303 / 977 (thread    0) f\b\b\r",
      "STEP   304 / 977 (thread    5) f\b\b\r",
      "STEP   305 / 977 (thread    3) f\b\b\r",
      "STEP   306 / 977 (thread    4) f\b\b\r",
      "STEP   307 / 977 (thread    0) f\b\b\r",
      "STEP   308 / 977 (thread    5) f\b\b\r",
      "STEP   309 / 977 (thread    3) f\b\b\r",
      "STEP   310 / 977 (thread    1) f\b\b\r",
      "STEP   311 / 977 (thread    4) f\b\b\r",
      "STEP   312 / 977 (thread    2) f\b\b\r",
      "STEP   313 / 977 (thread    0) f\b\b\r",
      "STEP   314 / 977 (thread    4) f\b\b\r",
      "STEP   315 / 977 (thread    3) f\b\b\r",
      "STEP   316 / 977 (thread    5) f\b\b\r",
      "STEP   317 / 977 (thread    0) f\b\b\r",
      "STEP   318 / 977 (thread    4) f\b\b\r",
      "STEP   319 / 977 (thread    1) f\b\b\r",
      "STEP   320 / 977 (thread    2) f\b\b\r",
      "STEP   322 / 977 (thread    4) f\b\b\r",
      "STEP   323 / 977 (thread    3) f\b\b\r",
      "STEP   324 / 977 (thread    4) f\b\b\r",
      "STEP   325 / 977 (thread    4) f\b\b\r",
      "STEP   326 / 977 (thread    5) f\b\b\r",
      "STEP   321 / 977 (thread    0) f\b\b\r",
      "STEP   328 / 977 (thread    3) f\b\b\r",
      "STEP   329 / 977 (thread    1) f\b\b\r",
      "STEP   327 / 977 (thread    2) f\b\b\r",
      "STEP   330 / 977 (thread    4) f\b\b\r",
      "STEP   331 / 977 (thread    0) f\b\b\r",
      "STEP   332 / 977 (thread    5) f\b\b\r",
      "STEP   333 / 977 (thread    0) f\b\b\r",
      "STEP   334 / 977 (thread    4) f\b\b\r",
      "STEP   335 / 977 (thread    1) f\b\b\r",
      "STEP   337 / 977 (thread    3) f\b\b\r",
      "STEP   336 / 977 (thread    2) f\b\b\r",
      "STEP   338 / 977 (thread    4) f\b\b\r",
      "STEP   339 / 977 (thread    0) f\b\b\r",
      "STEP   340 / 977 (thread    5) f\b\b\r",
      "STEP   341 / 977 (thread    3) f\b\b\r",
      "STEP   342 / 977 (thread    1) f\b\b\r",
      "STEP   343 / 977 (thread    0) f\b\b\r",
      "STEP   345 / 977 (thread    2) f\b\b\r",
      "STEP   344 / 977 (thread    4) f\b\b\r",
      "STEP   346 / 977 (thread    5) f\b\b\r",
      "STEP   347 / 977 (thread    0) f\b\b\r",
      "STEP   348 / 977 (thread    3) f\b\b\r",
      "STEP   349 / 977 (thread    1) f\b\b\r",
      "STEP   350 / 977 (thread    4) f\b\b\r",
      "STEP   351 / 977 (thread    5) f\b\b\r",
      "STEP   352 / 977 (thread    0) f\b\b\r",
      "STEP   353 / 977 (thread    2) f\b\b\r",
      "STEP   354 / 977 (thread    4) f\b\b\r",
      "STEP   355 / 977 (thread    3) f\b\b\r",
      "STEP   356 / 977 (thread    4) f\b\b\r",
      "STEP   357 / 977 (thread    0) f\b\b\r",
      "STEP   358 / 977 (thread    1) f\b\b\r",
      "STEP   359 / 977 (thread    5) f\b\b\r",
      "STEP   360 / 977 (thread    0) f\b\b\r",
      "STEP   361 / 977 (thread    2) f\b\b\r",
      "STEP   362 / 977 (thread    4) f\b\b\r",
      "STEP   363 / 977 (thread    0) f\b\b\r",
      "STEP   364 / 977 (thread    0) f\b\b\r",
      "STEP   365 / 977 (thread    3) f\b\b\r",
      "STEP   366 / 977 (thread    5) f\b\b\r",
      "STEP   367 / 977 (thread    1) f\b\b\r",
      "STEP   368 / 977 (thread    4) f\b\b\r",
      "STEP   369 / 977 (thread    0) f\b\b\r",
      "STEP   370 / 977 (thread    5) f\b\b\r",
      "STEP   371 / 977 (thread    1) f\b\b\r",
      "STEP   372 / 977 (thread    2) f\b\b\r",
      "STEP   373 / 977 (thread    4) f\b\b\r",
      "STEP   374 / 977 (thread    0) f\b\b\r",
      "STEP   375 / 977 (thread    3) f\b\b\r",
      "STEP   376 / 977 (thread    4) f\b\b\r",
      "STEP   377 / 977 (thread    2) f\b\b\r",
      "STEP   378 / 977 (thread    0) f\b\b\r",
      "STEP   379 / 977 (thread    4) f\b\b\n",
      "Reallocating..done. *alloclen = 1868\n",
      "\r",
      "STEP   380 / 977 (thread    5) f\b\b\r",
      "STEP   381 / 977 (thread    0) f\b\b\r",
      "STEP   382 / 977 (thread    3) f\b\b\r",
      "STEP   383 / 977 (thread    4) f\b\b\r",
      "STEP   384 / 977 (thread    2) f\b\b\r",
      "STEP   385 / 977 (thread    1) f\b\b\r",
      "STEP   386 / 977 (thread    0) f\b\b\r",
      "STEP   387 / 977 (thread    0) f\b\b\r",
      "STEP   388 / 977 (thread    4) f\b\b\r",
      "STEP   390 / 977 (thread    2) f\b\b\r",
      "STEP   389 / 977 (thread    3) f\b\b\r",
      "STEP   391 / 977 (thread    5) f\b\b\r",
      "STEP   392 / 977 (thread    0) f\b\b\r",
      "STEP   393 / 977 (thread    4) f\b\b\r",
      "STEP   394 / 977 (thread    1) f\b\b\r",
      "STEP   395 / 977 (thread    0) f\b\b\r",
      "STEP   396 / 977 (thread    2) f\b\b\r",
      "STEP   397 / 977 (thread    4) f\b\b\r",
      "STEP   398 / 977 (thread    3) f\b\b\r",
      "STEP   399 / 977 (thread    0) f\b\b\r",
      "STEP   400 / 977 (thread    5) f\b\b\r",
      "STEP   401 / 977 (thread    1) f\b\b\r",
      "STEP   402 / 977 (thread    4) f\b\b\r",
      "STEP   403 / 977 (thread    0) f\b\b\r",
      "STEP   404 / 977 (thread    4) f\b\b\r",
      "STEP   405 / 977 (thread    2) f\b\b\r",
      "STEP   406 / 977 (thread    3) f\b\b\r",
      "STEP   407 / 977 (thread    5) f\b\b\r",
      "STEP   408 / 977 (thread    0) f\b\b\r",
      "STEP   409 / 977 (thread    4) f\b\b\r",
      "STEP   410 / 977 (thread    1) f\b\b\r",
      "STEP   411 / 977 (thread    4) f\b\b\r",
      "STEP   412 / 977 (thread    0) f\b\b\r",
      "STEP   413 / 977 (thread    2) f\b\b\r",
      "STEP   414 / 977 (thread    3) f\b\b\r",
      "STEP   415 / 977 (thread    5) f\b\b\r",
      "STEP   416 / 977 (thread    0) f\b\b\r",
      "STEP   417 / 977 (thread    3) f\b\b\r",
      "STEP   418 / 977 (thread    4)\r",
      "STEP   419 / 977 (thread    5) f\b\b f\b\b\r",
      "STEP   420 / 977 (thread    1) f\b\b\r",
      "STEP   421 / 977 (thread    2) f\b\b\r",
      "STEP   422 / 977 (thread    0) f\b\b\r",
      "STEP   423 / 977 (thread    4) f\b\b\r",
      "STEP   424 / 977 (thread    5) f\b\b\r",
      "STEP   425 / 977 (thread    4) f\b\b\r",
      "STEP   426 / 977 (thread    1) f\b\b\r",
      "STEP   427 / 977 (thread    0) f\b\b\r",
      "STEP   428 / 977 (thread    3) f\b\b\r",
      "STEP   429 / 977 (thread    2) f\b\b\r",
      "STEP   430 / 977 (thread    0) f\b\b\r",
      "STEP   431 / 977 (thread    1) f\b\b\r",
      "STEP   432 / 977 (thread    4) f\b\b\r",
      "STEP   433 / 977 (thread    3) f\b\b\r",
      "STEP   434 / 977 (thread    5) f\b\b\r",
      "STEP   435 / 977 (thread    0) f\b\b\r",
      "STEP   436 / 977 (thread    3) f\b\b\r",
      "STEP   437 / 977 (thread    4) f\b\b\r",
      "STEP   438 / 977 (thread    5) f\b\b\r",
      "STEP   439 / 977 (thread    0) f\b\b\r",
      "STEP   440 / 977 (thread    4) f\b\b\r",
      "STEP   441 / 977 (thread    2) f\b\b\r",
      "STEP   442 / 977 (thread    1) f\b\b\r",
      "STEP   443 / 977 (thread    4) f\b\b\r",
      "STEP   444 / 977 (thread    3) f\b\b\r",
      "STEP   446 / 977 (thread    5) f\b\b\r",
      "STEP   445 / 977 (thread    0) f\b\b\r",
      "STEP   447 / 977 (thread    4) f\b\b\r",
      "STEP   448 / 977 (thread    1) f\b\b\r",
      "STEP   450 / 977 (thread    4) f\b\b\r",
      "STEP   451 / 977 (thread    3) f\b\b\r",
      "STEP   449 / 977 (thread    2) f\b\b\r",
      "STEP   452 / 977 (thread    4) f\b\b\r",
      "STEP   453 / 977 (thread    1) f\b\b\r",
      "STEP   454 / 977 (thread    0) f\b\b\r",
      "STEP   455 / 977 (thread    3) f\b\b\r",
      "STEP   456 / 977 (thread    5) f\b\b\r",
      "STEP   457 / 977 (thread    1) f\b\b\r",
      "STEP   458 / 977 (thread    4) f\b\b\r",
      "STEP   459 / 977 (thread    0) f\b\b\r",
      "STEP   460 / 977 (thread    2) f\b\b\r",
      "STEP   461 / 977 (thread    4) f\b\b\r",
      "STEP   462 / 977 (thread    3) f\b\b\r",
      "STEP   463 / 977 (thread    0) f\b\b\r",
      "STEP   464 / 977 (thread    5) f\b\b\r",
      "STEP   465 / 977 (thread    4) f\b\b\r",
      "STEP   466 / 977 (thread    1) f\b\b\r",
      "STEP   467 / 977 (thread    2) f\b\b\r",
      "STEP   468 / 977 (thread    0) f\b\b\r",
      "STEP   469 / 977 (thread    4) f\b\b\r",
      "STEP   470 / 977 (thread    2) f\b\b\r",
      "STEP   471 / 977 (thread    5) f\b\b\r",
      "STEP   472 / 977 (thread    3) f\b\b\r",
      "STEP   473 / 977 (thread    1) f\b\b\r",
      "STEP   474 / 977 (thread    0) f\b\b\r",
      "STEP   475 / 977 (thread    4) f\b\b\r",
      "STEP   476 / 977 (thread    0) f\b\b\r",
      "STEP   477 / 977 (thread    1) f\b\b\r",
      "STEP   478 / 977 (thread    3) f\b\b\r",
      "STEP   479 / 977 (thread    5) f\b\b\r",
      "STEP   480 / 977 (thread    2) f\b\b\r",
      "STEP   481 / 977 (thread    0) f\b\b\r",
      "STEP   482 / 977 (thread    4) f\b\b\r",
      "STEP   483 / 977 (thread    1) f\b\b\r",
      "STEP   484 / 977 (thread    3) f\b\b\r",
      "STEP   485 / 977 (thread    1) f\b\b\r",
      "STEP   486 / 977 (thread    4) f\b\b\r",
      "STEP   487 / 977 (thread    3) f\b\b\r",
      "STEP   489 / 977 (thread    2) f\b\b\r",
      "STEP   490 / 977 (thread    5) f\b\b\r",
      "STEP   491 / 977 (thread    1) f\b\b\r",
      "STEP   492 / 977 (thread    2) f\b\b\r",
      "STEP   493 / 977 (thread    4) f\b\b\r",
      "STEP   494 / 977 (thread    1) f\b\b\r",
      "STEP   488 / 977 (thread    0) f\b\b\r",
      "STEP   495 / 977 (thread    3) f\b\b\r",
      "STEP   496 / 977 (thread    5) f\b\b\r",
      "STEP   497 / 977 (thread    4) f\b\b\r",
      "STEP   498 / 977 (thread    2) f\b\b\r",
      "STEP   499 / 977 (thread    0) f\b\b\r",
      "STEP   500 / 977 (thread    3) f\b\b\r",
      "STEP   501 / 977 (thread    1) f\b\b\r",
      "STEP   601 / 977 (thread    0) f\b\b"
     ]
    },
    {
     "name": "stderr",
     "output_type": "stream",
     "text": [
      "\r",
      "STEP   701 / 977 (thread    1) f\b\b\r",
      "STEP   801 / 977 (thread    5) f\b\b\r",
      "STEP   901 / 977 (thread    3) f\b\b"
     ]
    },
    {
     "name": "stderr",
     "output_type": "stream",
     "text": [
      "\n",
      "done.\n",
      "\n",
      "Making a distance matrix from msa.. \n",
      "\r",
      "    0 / 978 (thread    0)\r",
      "  100 / 978 (thread    1)\r",
      "  200 / 978 (thread    4)\r",
      "  300 / 978 (thread    0)\r",
      "  400 / 978 (thread    0)\r",
      "  500 / 978 (thread    2)"
     ]
    },
    {
     "name": "stderr",
     "output_type": "stream",
     "text": [
      "\r",
      "  600 / 978 (thread    3)\r",
      "  700 / 978 (thread    3)\r",
      "  800 / 978 (thread    5)\r",
      "  900 / 978 (thread    4)\n",
      "done.\n",
      "\n",
      "Constructing a UPGMA tree (efffree=1) ... \n",
      "\r",
      "    0 / 978\r",
      "   10 / 978\r",
      "   20 / 978\r",
      "   30 / 978\r",
      "   40 / 978\r",
      "   50 / 978\r",
      "   60 / 978\r",
      "   70 / 978\r",
      "   80 / 978\r",
      "   90 / 978\r",
      "  100 / 978\r",
      "  110 / 978\r",
      "  120 / 978\r",
      "  130 / 978\r",
      "  140 / 978\r",
      "  150 / 978\r",
      "  160 / 978\r",
      "  170 / 978\r",
      "  180 / 978\r",
      "  190 / 978\r",
      "  200 / 978\r",
      "  210 / 978\r",
      "  220 / 978\r",
      "  230 / 978\r",
      "  240 / 978\r",
      "  250 / 978\r",
      "  260 / 978\r",
      "  270 / 978\r",
      "  280 / 978\r",
      "  290 / 978\r",
      "  300 / 978\r",
      "  310 / 978\r",
      "  320 / 978\r",
      "  330 / 978\r",
      "  340 / 978\r",
      "  350 / 978\r",
      "  360 / 978\r",
      "  370 / 978\r",
      "  380 / 978\r",
      "  390 / 978\r",
      "  400 / 978\r",
      "  410 / 978\r",
      "  420 / 978\r",
      "  430 / 978\r",
      "  440 / 978\r",
      "  450 / 978\r",
      "  460 / 978\r",
      "  470 / 978\r",
      "  480 / 978\r",
      "  490 / 978\r",
      "  500 / 978\r",
      "  510 / 978\r",
      "  520 / 978\r",
      "  530 / 978\r",
      "  540 / 978\r",
      "  550 / 978\r",
      "  560 / 978\r",
      "  570 / 978\r",
      "  580 / 978\r",
      "  590 / 978\r",
      "  600 / 978\r",
      "  610 / 978\r",
      "  620 / 978\r",
      "  630 / 978\r",
      "  640 / 978\r",
      "  650 / 978\r",
      "  660 / 978\r",
      "  670 / 978\r",
      "  680 / 978\r",
      "  690 / 978\r",
      "  700 / 978\r",
      "  710 / 978\r",
      "  720 / 978\r",
      "  730 / 978\r",
      "  740 / 978\r",
      "  750 / 978\r",
      "  760 / 978\r",
      "  770 / 978\r",
      "  780 / 978\r",
      "  790 / 978\r",
      "  800 / 978\r",
      "  810 / 978\r",
      "  820 / 978\r",
      "  830 / 978\r",
      "  840 / 978\r",
      "  850 / 978\r",
      "  860 / 978\r",
      "  870 / 978\r",
      "  880 / 978\r",
      "  890 / 978\r",
      "  900 / 978\r",
      "  910 / 978\r",
      "  920 / 978\r",
      "  930 / 978\r",
      "  940 / 978\r",
      "  950 / 978\r",
      "  960 / 978\r",
      "  970 / 978\n",
      "done.\n",
      "\n",
      "Progressive alignment 2/2... \n",
      "\r",
      "STEP     1 / 977 (thread    0) f\b\b\r",
      "STEP     2 / 977 (thread    1) f\b\b\r",
      "STEP     4 / 977 (thread    3) f\b\b\r",
      "STEP     3 / 977 (thread    2) f\b\b\r",
      "STEP     5 / 977 (thread    4) f\b\b\r",
      "STEP     6 / 977 (thread    5) f\b\b\r",
      "STEP     7 / 977 (thread    0) f\b\b\r",
      "STEP     8 / 977 (thread    0) f\b\b\r",
      "STEP     9 / 977 (thread    3) f\b\b\r",
      "STEP    10 / 977 (thread    4) f\b\b\r",
      "STEP    11 / 977 (thread    0)\r",
      "STEP    12 / 977 (thread    3) f\b\b f\b\b\r",
      "STEP    13 / 977 (thread    2) f\b\b\r",
      "STEP    14 / 977 (thread    3) f\b\b\r",
      "STEP    15 / 977 (thread    0) f\b\b\r",
      "STEP    16 / 977 (thread    4) f\b\b\r",
      "STEP    17 / 977 (thread    2) f\b\b\r",
      "STEP    18 / 977 (thread    3) f\b\b\r",
      "STEP    19 / 977 (thread    0) f\b\b\r",
      "STEP    20 / 977 (thread    4) f\b\b\r",
      "STEP    21 / 977 (thread    3) f\b\b\r",
      "STEP    22 / 977 (thread    0) f\b\b\r",
      "STEP    23 / 977 (thread    2) f\b\b\r",
      "STEP    24 / 977 (thread    3) f\b\b\r",
      "STEP    25 / 977 (thread    1) f\b\b\r",
      "STEP    26 / 977 (thread    0) f\b\b\r",
      "STEP    27 / 977 (thread    4) f\b\b\r",
      "STEP    28 / 977 (thread    5) f\b\b\r",
      "STEP    29 / 977 (thread    2) f\b\b\r",
      "STEP    30 / 977 (thread    3) f\b\b\r",
      "STEP    31 / 977 (thread    0) f\b\b\r",
      "STEP    32 / 977 (thread    1) f\b\b\r",
      "STEP    33 / 977 (thread    4) f\b\b\r",
      "STEP    34 / 977 (thread    3) f\b\b\r",
      "STEP    35 / 977 (thread    5) f\b\b\r",
      "STEP    36 / 977 (thread    2) f\b\b\r",
      "STEP    37 / 977 (thread    0) f\b\b\r",
      "STEP    38 / 977 (thread    3) f\b\b\r",
      "STEP    39 / 977 (thread    1) f\b\b\r",
      "STEP    40 / 977 (thread    0) f\b\b\r",
      "STEP    41 / 977 (thread    4) f\b\b\r",
      "STEP    42 / 977 (thread    5) f\b\b\r",
      "STEP    43 / 977 (thread    2) f\b\b\r",
      "STEP    44 / 977 (thread    3) f\b\b\r",
      "STEP    45 / 977 (thread    0) f\b\b\r",
      "STEP    46 / 977 (thread    1) f\b\b\r",
      "STEP    47 / 977 (thread    4) f\b\b\r",
      "STEP    48 / 977 (thread    3) f\b\b\r",
      "STEP    49 / 977 (thread    2) f\b\b\r",
      "STEP    50 / 977 (thread    5) f\b\b\r",
      "STEP    51 / 977 (thread    0) f\b\b\r",
      "STEP    52 / 977 (thread    1) f\b\b\r",
      "STEP    53 / 977 (thread    0) f\b\b\r",
      "STEP    54 / 977 (thread    4) f\b\b\r",
      "STEP    55 / 977 (thread    5) f\b\b\r",
      "STEP    56 / 977 (thread    0) f\b\b\r",
      "STEP    57 / 977 (thread    3) f\b\b\r",
      "STEP    58 / 977 (thread    1) f\b\b\r",
      "STEP    59 / 977 (thread    4) f\b\b\r",
      "STEP    60 / 977 (thread    0) f\b\b\r",
      "STEP    61 / 977 (thread    5) f\b\b\r",
      "STEP    62 / 977 (thread    3) f\b\b\r",
      "STEP    63 / 977 (thread    2) f\b\b\r",
      "STEP    64 / 977 (thread    0) f\b\b\r",
      "STEP    65 / 977 (thread    3) f\b\b\r",
      "STEP    66 / 977 (thread    1) f\b\b\r",
      "STEP    67 / 977 (thread    4) f\b\b\r",
      "STEP    68 / 977 (thread    5) f\b\b\r",
      "STEP    69 / 977 (thread    0) f\b\b\r",
      "STEP    70 / 977 (thread    3) f\b\b\r",
      "STEP    71 / 977 (thread    2) f\b\b\r",
      "STEP    72 / 977 (thread    1) f\b\b\r",
      "STEP    73 / 977 (thread    0) f\b\b\r",
      "STEP    74 / 977 (thread    4) f\b\b\r",
      "STEP    75 / 977 (thread    3) f\b\b\r",
      "STEP    76 / 977 (thread    5) f\b\b\r",
      "STEP    77 / 977 (thread    0) f\b\b\r",
      "STEP    78 / 977 (thread    2) f\b\b\r",
      "STEP    79 / 977 (thread    3) f\b\b\r",
      "STEP    80 / 977 (thread    1) f\b\b\r",
      "STEP    81 / 977 (thread    4) f\b\b\r",
      "STEP    82 / 977 (thread    5) f\b\b\r",
      "STEP    83 / 977 (thread    0) f\b\b\r",
      "STEP    84 / 977 (thread    3) f\b\b\r",
      "STEP    85 / 977 (thread    2) f\b\b\r",
      "STEP    86 / 977 (thread    0) f\b\b\r",
      "STEP    87 / 977 (thread    1) f\b\b\r",
      "STEP    88 / 977 (thread    4) f\b\b\r",
      "STEP    89 / 977 (thread    3) f\b\b\r",
      "STEP    90 / 977 (thread    5) f\b\b\r",
      "STEP    92 / 977 (thread    0) f\b\b\r",
      "STEP    93 / 977 (thread    3) f\b\b\r",
      "STEP    95 / 977 (thread    0) f\b\b\r",
      "STEP    96 / 977 (thread    3) f\b\b\r",
      "STEP    97 / 977 (thread    1) f\b\b\r",
      "STEP    98 / 977 (thread    0) f\b\b\r",
      "STEP    99 / 977 (thread    5)\r",
      "STEP    91 / 977 (thread    2) f\b\b f\b\b\r",
      "STEP   100 / 977 (thread    3) f\b\b\r",
      "STEP   101 / 977 (thread    0) f\b\b\r",
      "STEP   102 / 977 (thread    1) f\b\b\r",
      "STEP   103 / 977 (thread    3) f\b\b\r",
      "STEP   104 / 977 (thread    5) f\b\b\r",
      "STEP   105 / 977 (thread    0) f\b\b\r",
      "STEP   106 / 977 (thread    2) f\b\b\r",
      "STEP    94 / 977 (thread    4) f\b\b\r",
      "STEP   107 / 977 (thread    3) f\b\b\r",
      "STEP   108 / 977 (thread    1) f\b\b\r",
      "STEP   109 / 977 (thread    3) f\b\b\r",
      "STEP   110 / 977 (thread    2) f\b\b\r",
      "STEP   111 / 977 (thread    0) f\b\b\r",
      "STEP   112 / 977 (thread    5) f\b\b\r",
      "STEP   113 / 977 (thread    3) f\b\b\r",
      "STEP   115 / 977 (thread    3) f\b\b\r",
      "STEP   114 / 977 (thread    1) f\b\b\r",
      "STEP   116 / 977 (thread    2) f\b\b\r",
      "STEP   117 / 977 (thread    4) f\b\b\r",
      "STEP   118 / 977 (thread    3) f\b\b\r",
      "STEP   119 / 977 (thread    5) f\b\b\r",
      "STEP   120 / 977 (thread    2) f\b\b\r",
      "STEP   121 / 977 (thread    0) f\b\b\r",
      "STEP   122 / 977 (thread    3) f\b\b\r",
      "STEP   123 / 977 (thread    4) f\b\b\r",
      "STEP   124 / 977 (thread    3) f\b\b\r",
      "STEP   125 / 977 (thread    1) f\b\b\r",
      "STEP   126 / 977 (thread    0) f\b\b\r",
      "STEP   127 / 977 (thread    2) f\b\b\r",
      "STEP   128 / 977 (thread    4) f\b\b\r",
      "STEP   129 / 977 (thread    3) f\b\b\r",
      "STEP   130 / 977 (thread    5) f\b\b\r",
      "STEP   131 / 977 (thread    3) f\b\b\r",
      "STEP   132 / 977 (thread    4) f\b\b\r",
      "STEP   133 / 977 (thread    2) f\b\b\r",
      "STEP   134 / 977 (thread    5) f\b\b\r",
      "STEP   135 / 977 (thread    3) f\b\b\r",
      "STEP   136 / 977 (thread    0) f\b\b\r",
      "STEP   137 / 977 (thread    1) f\b\b\r",
      "STEP   138 / 977 (thread    2) f\b\b\r",
      "STEP   139 / 977 (thread    4) f\b\b\r",
      "STEP   140 / 977 (thread    3) f\b\b\r",
      "STEP   141 / 977 (thread    2) f\b\b\r",
      "STEP   142 / 977 (thread    1) f\b\b\r",
      "STEP   143 / 977 (thread    0) f\b\b\r",
      "STEP   144 / 977 (thread    3) f\b\b\r",
      "STEP   145 / 977 (thread    4) f\b\b\r",
      "STEP   146 / 977 (thread    2) f\b\b\r",
      "STEP   147 / 977 (thread    3) f\b\b\r",
      "STEP   148 / 977 (thread    5) f\b\b\r",
      "STEP   149 / 977 (thread    1) f\b\b\r",
      "STEP   150 / 977 (thread    0) f\b\b\r",
      "STEP   151 / 977 (thread    4) f\b\b\r",
      "STEP   152 / 977 (thread    2) f\b\b\r",
      "STEP   153 / 977 (thread    3) f\b\b\r",
      "STEP   154 / 977 (thread    2) f\b\b\r",
      "STEP   155 / 977 (thread    3) f\b\b\r",
      "STEP   156 / 977 (thread    2) f\b\b\r",
      "STEP   157 / 977 (thread    1) f\b\b\r",
      "STEP   158 / 977 (thread    5) f\b\b\r",
      "STEP   159 / 977 (thread    0) f\b\b\r",
      "STEP   160 / 977 (thread    4) f\b\b\r",
      "STEP   161 / 977 (thread    3) f\b\b\r",
      "STEP   162 / 977 (thread    2) f\b\b\r",
      "STEP   163 / 977 (thread    1)\r",
      "STEP   165 / 977 (thread    5) f\b\b f\b\b\r",
      "STEP   164 / 977 (thread    0) f\b\b\r",
      "STEP   166 / 977 (thread    3) f\b\b\r",
      "STEP   167 / 977 (thread    4) f\b\b\r",
      "STEP   168 / 977 (thread    2) f\b\b\r",
      "STEP   169 / 977 (thread    2) f\b\b\r",
      "STEP   170 / 977 (thread    1) f\b\b\r",
      "STEP   171 / 977 (thread    0) f\b\b\r",
      "STEP   172 / 977 (thread    4) f\b\b\r",
      "STEP   173 / 977 (thread    3) f\b\b\r",
      "STEP   174 / 977 (thread    2) f\b\b\r",
      "STEP   175 / 977 (thread    0) f\b\b\r",
      "STEP   176 / 977 (thread    4) f\b\b\r",
      "STEP   177 / 977 (thread    5) f\b\b\r",
      "STEP   178 / 977 (thread    2) f\b\b\r",
      "STEP   179 / 977 (thread    3) f\b\b\r",
      "STEP   180 / 977 (thread    2) f\b\b\r",
      "STEP   181 / 977 (thread    0) f\b\b\r",
      "STEP   182 / 977 (thread    1) f\b\b\r",
      "STEP   183 / 977 (thread    5) f\b\b\r",
      "STEP   184 / 977 (thread    3) f\b\b\r",
      "STEP   185 / 977 (thread    3) f\b\b\r",
      "STEP   186 / 977 (thread    4) f\b\b\r",
      "STEP   187 / 977 (thread    2) f\b\b\r",
      "STEP   188 / 977 (thread    5) f\b\b\r",
      "STEP   189 / 977 (thread    3) f\b\b\r",
      "STEP   190 / 977 (thread    2) f\b\b\r",
      "STEP   191 / 977 (thread    1) f\b\b\r",
      "STEP   192 / 977 (thread    0) f\b\b\r",
      "STEP   193 / 977 (thread    4) f\b\b\r",
      "STEP   194 / 977 (thread    2) f\b\b\r",
      "STEP   195 / 977 (thread    0) f\b\b\r",
      "STEP   196 / 977 (thread    1) f\b\b\r",
      "STEP   197 / 977 (thread    3) f\b\b\r",
      "STEP   198 / 977 (thread    5) f\b\b\r",
      "STEP   199 / 977 (thread    2) f\b\b\r",
      "STEP   200 / 977 (thread    0) f\b\b\r",
      "STEP   201 / 977 (thread    1) f\b\b\r",
      "STEP   202 / 977 (thread    4) f\b\b\r",
      "STEP   203 / 977 (thread    5) f\b\b\r",
      "STEP   204 / 977 (thread    2) f\b\b\r",
      "STEP   205 / 977 (thread    3) f\b\b\r",
      "STEP   206 / 977 (thread    4) f\b\b\r",
      "STEP   207 / 977 (thread    3) f\b\b\r",
      "STEP   208 / 977 (thread    2) f\b\b\r",
      "STEP   209 / 977 (thread    5) f\b\b\r",
      "STEP   210 / 977 (thread    2) f\b\b\r",
      "STEP   211 / 977 (thread    3) f\b\b\r",
      "STEP   212 / 977 (thread    0) f\b\b\r",
      "STEP   213 / 977 (thread    1) f\b\b\r",
      "STEP   214 / 977 (thread    4) f\b\b\r",
      "STEP   215 / 977 (thread    5) f\b\b\r",
      "STEP   216 / 977 (thread    2) f\b\b\r",
      "STEP   217 / 977 (thread    3) f\b\b\r",
      "STEP   218 / 977 (thread    1) f\b\b\r",
      "STEP   219 / 977 (thread    4) f\b\b\r",
      "STEP   220 / 977 (thread    0) f\b\b\r",
      "STEP   221 / 977 (thread    2) f\b\b\r",
      "STEP   222 / 977 (thread    5) f\b\b\r",
      "STEP   223 / 977 (thread    3) f\b\b\r",
      "STEP   224 / 977 (thread    4) f\b\b\r",
      "STEP   225 / 977 (thread    1) f\b\b\r",
      "STEP   226 / 977 (thread    2) f\b\b\r",
      "STEP   227 / 977 (thread    3) f\b\b\r",
      "STEP   228 / 977 (thread    2) f\b\b\r",
      "STEP   229 / 977 (thread    0) f\b\b\r",
      "STEP   230 / 977 (thread    3) f\b\b\r",
      "STEP   231 / 977 (thread    5) f\b\b\r",
      "STEP   232 / 977 (thread    2) f\b\b\r",
      "STEP   233 / 977 (thread    3) f\b\b\r",
      "STEP   234 / 977 (thread    0) f\b\b\r",
      "STEP   235 / 977 (thread    4) f\b\b\r",
      "STEP   236 / 977 (thread    1) f\b\b\r",
      "STEP   237 / 977 (thread    2) f\b\b\r",
      "STEP   238 / 977 (thread    3) f\b\b\r",
      "STEP   239 / 977 (thread    5) f\b\b\r",
      "STEP   240 / 977 (thread    1) f\b\b\r",
      "STEP   241 / 977 (thread    4) f\b\b\r",
      "STEP   242 / 977 (thread    3) f\b\b\r",
      "STEP   243 / 977 (thread    0) f\b\b\r",
      "STEP   244 / 977 (thread    1) f\b\b\r",
      "STEP   245 / 977 (thread    2) f\b\b\r",
      "STEP   246 / 977 (thread    4) f\b\b\r",
      "STEP   247 / 977 (thread    3) f\b\b\r",
      "STEP   248 / 977 (thread    5) f\b\b\r",
      "STEP   249 / 977 (thread    2) f\b\b\r",
      "STEP   250 / 977 (thread    4) f\b\b\r",
      "STEP   251 / 977 (thread    0) f\b\b\r",
      "STEP   252 / 977 (thread    5) f\b\b\r",
      "STEP   253 / 977 (thread    1) f\b\b\r",
      "STEP   254 / 977 (thread    3) f\b\b\r",
      "STEP   255 / 977 (thread    2) f\b\b\r",
      "STEP   256 / 977 (thread    4) f\b\b\r",
      "STEP   257 / 977 (thread    0) f\b\b\r",
      "STEP   258 / 977 (thread    3) f\b\b\r",
      "STEP   259 / 977 (thread    2) f\b\b\r",
      "STEP   260 / 977 (thread    3) f\b\b\r",
      "STEP   261 / 977 (thread    5) f\b\b\r",
      "STEP   262 / 977 (thread    1) f\b\b\r",
      "STEP   263 / 977 (thread    2) f\b\b\r",
      "STEP   264 / 977 (thread    3) f\b\b\r",
      "STEP   265 / 977 (thread    0) f\b\b\r",
      "STEP   266 / 977 (thread    4) f\b\b\r",
      "STEP   267 / 977 (thread    2) f\b\b\r",
      "STEP   268 / 977 (thread    3) f\b\b\r",
      "STEP   269 / 977 (thread    5) f\b\b\r",
      "STEP   270 / 977 (thread    1) f\b\b\r",
      "STEP   271 / 977 (thread    0) f\b\b\r",
      "STEP   272 / 977 (thread    2) f\b\b\r",
      "STEP   273 / 977 (thread    4) f\b\b\r",
      "STEP   274 / 977 (thread    3) f\b\b\r",
      "STEP   275 / 977 (thread    2) f\b\b\r",
      "STEP   276 / 977 (thread    3) f\b\b\r",
      "STEP   277 / 977 (thread    5) f\b\b\r",
      "STEP   279 / 977 (thread    1) f\b\b\r",
      "STEP   278 / 977 (thread    2) f\b\b\r",
      "STEP   280 / 977 (thread    0) f\b\b\r",
      "STEP   281 / 977 (thread    5) f\b\b\r",
      "STEP   282 / 977 (thread    3) f\b\b\r",
      "STEP   283 / 977 (thread    4) f\b\b\r",
      "STEP   284 / 977 (thread    3) f\b\b\r",
      "STEP   285 / 977 (thread    0) f\b\b\r",
      "STEP   286 / 977 (thread    2) f\b\b\r",
      "STEP   287 / 977 (thread    5) f\b\b\r",
      "STEP   288 / 977 (thread    3) f\b\b\r",
      "STEP   289 / 977 (thread    2) f\b\b\r",
      "STEP   290 / 977 (thread    0) f\b\b\r",
      "STEP   291 / 977 (thread    1) f\b\b\r",
      "STEP   292 / 977 (thread    5) f\b\b\r",
      "STEP   293 / 977 (thread    3) f\b\b\r",
      "STEP   294 / 977 (thread    4) f\b\b\r",
      "STEP   295 / 977 (thread    0) f\b\b\r",
      "STEP   296 / 977 (thread    2) f\b\b\r",
      "STEP   297 / 977 (thread    3) f\b\b\r",
      "STEP   298 / 977 (thread    2) f\b\b\r",
      "STEP   299 / 977 (thread    3) f\b\b\r",
      "STEP   300 / 977 (thread    5) f\b\b\r",
      "STEP   301 / 977 (thread    1) f\b\b\r",
      "STEP   302 / 977 (thread    2) f\b\b\r",
      "STEP   303 / 977 (thread    4) f\b\b\r",
      "STEP   304 / 977 (thread    0) f\b\b\r",
      "STEP   305 / 977 (thread    3) f\b\b\r",
      "STEP   306 / 977 (thread    5) f\b\b\r",
      "STEP   308 / 977 (thread    2) f\b\b\r",
      "STEP   309 / 977 (thread    2) f\b\b\r",
      "STEP   310 / 977 (thread    1) f\b\b\r",
      "STEP   307 / 977 (thread    3) f\b\b\r",
      "STEP   311 / 977 (thread    0) f\b\b\r",
      "STEP   312 / 977 (thread    2) f\b\b\r",
      "STEP   313 / 977 (thread    5) f\b\b\r",
      "STEP   314 / 977 (thread    4) f\b\b\r",
      "STEP   315 / 977 (thread    1) f\b\b\r",
      "STEP   316 / 977 (thread    3) f\b\b\r",
      "STEP   317 / 977 (thread    2) f\b\b\r",
      "STEP   318 / 977 (thread    0) f\b\b\r",
      "STEP   319 / 977 (thread    3) f\b\b\r",
      "STEP   320 / 977 (thread    5) f\b\b\r",
      "STEP   321 / 977 (thread    1) f\b\b\r",
      "STEP   322 / 977 (thread    4) f\b\b\r",
      "STEP   323 / 977 (thread    2) f\b\b\r",
      "STEP   324 / 977 (thread    3) f\b\b\r",
      "STEP   325 / 977 (thread    2) f\b\b\r",
      "STEP   327 / 977 (thread    3) f\b\b\r",
      "STEP   328 / 977 (thread    1) f\b\b\r",
      "STEP   326 / 977 (thread    0) f\b\b\r",
      "STEP   330 / 977 (thread    4) f\b\b\r",
      "STEP   331 / 977 (thread    2) f\b\b\r",
      "STEP   332 / 977 (thread    1) f\b\b\r",
      "STEP   333 / 977 (thread    3) f\b\b\r",
      "STEP   329 / 977 (thread    5) f\b\b\r",
      "STEP   334 / 977 (thread    2) f\b\b\r",
      "STEP   335 / 977 (thread    4) f\b\b\r",
      "STEP   336 / 977 (thread    0) f\b\b\r",
      "STEP   337 / 977 (thread    2) f\b\b\r",
      "STEP   338 / 977 (thread    3) f\b\b\r",
      "STEP   339 / 977 (thread    4) f\b\b\r",
      "STEP   340 / 977 (thread    2) f\b\b\r",
      "STEP   341 / 977 (thread    1) f\b\b\r",
      "STEP   342 / 977 (thread    0) f\b\b\r",
      "STEP   343 / 977 (thread    2) f\b\b\r",
      "STEP   344 / 977 (thread    5) f\b\b\r",
      "STEP   345 / 977 (thread    4) f\b\b\r",
      "STEP   346 / 977 (thread    3) f\b\b\r",
      "STEP   347 / 977 (thread    4) f\b\b\r",
      "STEP   348 / 977 (thread    2) f\b\b\r",
      "STEP   349 / 977 (thread    1) f\b\b\r",
      "STEP   350 / 977 (thread    0) f\b\b\r",
      "STEP   351 / 977 (thread    5) f\b\b\r",
      "STEP   352 / 977 (thread    4) f\b\b\r",
      "STEP   353 / 977 (thread    2) f\b\b\r",
      "STEP   354 / 977 (thread    0) f\b\b\r",
      "STEP   355 / 977 (thread    3) f\b\b\r",
      "STEP   356 / 977 (thread    1) f\b\b\r",
      "STEP   357 / 977 (thread    5) f\b\b\r",
      "STEP   358 / 977 (thread    4) f\b\b\r",
      "STEP   359 / 977 (thread    3) f\b\b\r",
      "STEP   360 / 977 (thread    2) f\b\b\r",
      "STEP   361 / 977 (thread    4) f\b\b\r",
      "STEP   362 / 977 (thread    2) f\b\b\r",
      "STEP   364 / 977 (thread    4) f\b\b\r",
      "STEP   365 / 977 (thread    5) f\b\b\r",
      "STEP   363 / 977 (thread    1) f\b\b\r",
      "STEP   366 / 977 (thread    0) f\b\b\r",
      "STEP   367 / 977 (thread    0) f\b\b\r",
      "STEP   368 / 977 (thread    5) f\b\b\r",
      "STEP   369 / 977 (thread    4) f\b\b\r",
      "STEP   370 / 977 (thread    3) f\b\b\r",
      "STEP   371 / 977 (thread    2) f\b\b\r",
      "STEP   372 / 977 (thread    1) f\b\b\r",
      "STEP   373 / 977 (thread    4) f\b\b\r",
      "STEP   374 / 977 (thread    5) f\b\b\r",
      "STEP   375 / 977 (thread    0) f\b\b\r",
      "STEP   376 / 977 (thread    4) f\b\b\r",
      "STEP   377 / 977 (thread    2) f\b\b\r",
      "STEP   378 / 977 (thread    3) f\b\b\r",
      "STEP   379 / 977 (thread    0) f\b\b\r",
      "STEP   380 / 977 (thread    1) f\b\b\r",
      "STEP   381 / 977 (thread    2) f\b\b\r",
      "STEP   382 / 977 (thread    5) f\b\b\r",
      "STEP   383 / 977 (thread    3) f\b\b\r",
      "STEP   384 / 977 (thread    4) f\b\b\r",
      "STEP   385 / 977 (thread    1) f\b\b\r",
      "STEP   386 / 977 (thread    2) f\b\b\r",
      "STEP   387 / 977 (thread    0) f\b\b\r",
      "STEP   388 / 977 (thread    5) f\b\b\r",
      "STEP   389 / 977 (thread    4) f\b\b\r",
      "STEP   390 / 977 (thread    1) f\b\b\r",
      "STEP   391 / 977 (thread    5) f\b\b\r",
      "STEP   392 / 977 (thread    3) f\b\b\r",
      "STEP   393 / 977 (thread    4) f\b\b\r",
      "STEP   394 / 977 (thread    1) f\b\b\r",
      "STEP   395 / 977 (thread    2) f\b\b\r",
      "STEP   396 / 977 (thread    5) f\b\b\r",
      "STEP   397 / 977 (thread    4) f\b\b\r",
      "STEP   398 / 977 (thread    1) f\b\b\r",
      "STEP   399 / 977 (thread    5) f\b\b\r",
      "STEP   400 / 977 (thread    0) f\b\b\r",
      "STEP   401 / 977 (thread    3) f\b\b\r",
      "STEP   402 / 977 (thread    2) f\b\b\r",
      "STEP   404 / 977 (thread    5) f\b\b\r",
      "STEP   405 / 977 (thread    1) f\b\b\r",
      "STEP   406 / 977 (thread    3) f\b\b\r",
      "STEP   407 / 977 (thread    0) f\b\b\r",
      "STEP   403 / 977 (thread    4) f\b\b\r",
      "STEP   408 / 977 (thread    5) f\b\b\r",
      "STEP   409 / 977 (thread    2) f\b\b\r",
      "STEP   410 / 977 (thread    4) f\b\b\r",
      "STEP   411 / 977 (thread    5) f\b\b\r",
      "STEP   412 / 977 (thread    1) f\b\b\r",
      "STEP   413 / 977 (thread    2) f\b\b\r",
      "STEP   414 / 977 (thread    3) f\b\b\r",
      "STEP   415 / 977 (thread    4) f\b\b\r",
      "STEP   416 / 977 (thread    5) f\b\b\r",
      "STEP   417 / 977 (thread    0) f\b\b\r",
      "STEP   418 / 977 (thread    1) f\b\b\r",
      "STEP   419 / 977 (thread    4) f\b\b\r",
      "STEP   420 / 977 (thread    5) f\b\b\r",
      "STEP   421 / 977 (thread    2) f\b\b\r",
      "STEP   422 / 977 (thread    3) f\b\b\r",
      "STEP   423 / 977 (thread    4) f\b\b\r",
      "STEP   424 / 977 (thread    2) f\b\b\r",
      "STEP   425 / 977 (thread    0) f\b\b\r",
      "STEP   426 / 977 (thread    5) f\b\b\r",
      "STEP   427 / 977 (thread    4) f\b\b\r",
      "STEP   428 / 977 (thread    3) f\b\b\r",
      "STEP   429 / 977 (thread    0) f\b\b\r",
      "STEP   430 / 977 (thread    5) f\b\b\r",
      "STEP   431 / 977 (thread    4) f\b\b\r",
      "STEP   432 / 977 (thread    2) f\b\b\r",
      "STEP   433 / 977 (thread    1) f\b\b\r",
      "STEP   434 / 977 (thread    3) f\b\b\r",
      "STEP   435 / 977 (thread    5) f\b\b\r",
      "STEP   436 / 977 (thread    4) f\b\b\r",
      "STEP   437 / 977 (thread    4) f\b\b\r",
      "STEP   438 / 977 (thread    0) f\b\b\r",
      "STEP   439 / 977 (thread    3) f\b\b\r",
      "STEP   440 / 977 (thread    5) f\b\b\r",
      "STEP   441 / 977 (thread    2) f\b\b\r",
      "STEP   442 / 977 (thread    1) f\b\b\r",
      "STEP   444 / 977 (thread    4) f\b\b\r",
      "STEP   443 / 977 (thread    3) f\b\b\r",
      "STEP   445 / 977 (thread    0) f\b\b\r",
      "STEP   446 / 977 (thread    5) f\b\b\r",
      "STEP   447 / 977 (thread    5) f\b\b\r",
      "STEP   448 / 977 (thread    0) f\b\b\r",
      "STEP   449 / 977 (thread    4) f\b\b\r",
      "STEP   450 / 977 (thread    1) f\b\b\r",
      "STEP   451 / 977 (thread    5) f\b\b\r",
      "STEP   452 / 977 (thread    2) f\b\b\r",
      "STEP   453 / 977 (thread    3) f\b\b\r",
      "STEP   454 / 977 (thread    0) f\b\b\r",
      "STEP   455 / 977 (thread    4) f\b\b\r",
      "STEP   456 / 977 (thread    5) f\b\b\r",
      "STEP   457 / 977 (thread    3) f\b\b\r",
      "STEP   458 / 977 (thread    4) f\b\b\r",
      "STEP   459 / 977 (thread    2) f\b\b\r",
      "STEP   460 / 977 (thread    5) f\b\b\r",
      "STEP   461 / 977 (thread    0) f\b\b\r",
      "STEP   463 / 977 (thread    2) f\b\b\r",
      "STEP   462 / 977 (thread    1) f\b\b\r",
      "STEP   464 / 977 (thread    5) f\b\b\r",
      "STEP   465 / 977 (thread    4) f\b\b\r",
      "STEP   466 / 977 (thread    3) f\b\b\r",
      "STEP   467 / 977 (thread    5) f\b\b\r",
      "STEP   468 / 977 (thread    0) f\b\b\r",
      "STEP   469 / 977 (thread    4) f\b\b\r",
      "STEP   470 / 977 (thread    5) f\b\b\r",
      "STEP   471 / 977 (thread    2) f\b\b\r",
      "STEP   472 / 977 (thread    1) f\b\b\r",
      "STEP   473 / 977 (thread    5) f\b\b\r",
      "STEP   474 / 977 (thread    3) f\b\b\r",
      "STEP   475 / 977 (thread    0) f\b\b\r",
      "STEP   476 / 977 (thread    4) f\b\b\r",
      "STEP   477 / 977 (thread    5) f\b\b\r",
      "STEP   478 / 977 (thread    2) f\b\b\r",
      "STEP   479 / 977 (thread    1) f\b\b\r",
      "STEP   480 / 977 (thread    4) f\b\b\r",
      "STEP   481 / 977 (thread    3) f\b\b\r",
      "STEP   482 / 977 (thread    5) f\b\b\r",
      "STEP   483 / 977 (thread    0) f\b\b\r",
      "STEP   484 / 977 (thread    5) f\b\b\r",
      "STEP   485 / 977 (thread    2) f\b\b\r",
      "STEP   486 / 977 (thread    0) f\b\b\r",
      "STEP   487 / 977 (thread    4) f\b\b\r",
      "STEP   488 / 977 (thread    1) f\b\b\r",
      "STEP   489 / 977 (thread    5) f\b\b\r",
      "STEP   490 / 977 (thread    3) f\b\b\r",
      "STEP   492 / 977 (thread    2) f\b\b\r",
      "STEP   493 / 977 (thread    5) f\b\b\r",
      "STEP   494 / 977 (thread    0) f\b\b\r",
      "STEP   491 / 977 (thread    4) f\b\b\r",
      "STEP   495 / 977 (thread    1) f\b\b\r",
      "STEP   496 / 977 (thread    2) f\b\b\r",
      "STEP   497 / 977 (thread    3) f\b\b\r",
      "STEP   498 / 977 (thread    5) f\b\b\r",
      "STEP   499 / 977 (thread    2) f\b\b\r",
      "STEP   500 / 977 (thread    4) f\b\b\r",
      "STEP   501 / 977 (thread    1) f\b\b"
     ]
    },
    {
     "name": "stderr",
     "output_type": "stream",
     "text": [
      "\r",
      "STEP   601 / 977 (thread    5) f\b\b\r",
      "STEP   701 / 977 (thread    5) f\b\b\r",
      "STEP   801 / 977 (thread    2) f\b\b\n",
      "Reallocating..done. *alloclen = 1868\n",
      "\r",
      "STEP   901 / 977 (thread    2) f\b\b"
     ]
    },
    {
     "name": "stderr",
     "output_type": "stream",
     "text": [
      "\n",
      "done.\n",
      "\n",
      "disttbfast (nuc) Version 7.490\n",
      "alg=A, model=DNA200 (2), 1.53 (4.59), -0.00 (-0.00), noshift, amax=0.0\n",
      "6 thread(s)\n",
      "\n",
      "\n",
      "Strategy:\n",
      " FFT-NS-2 (Fast but rough)\n",
      " Progressive method (guide trees were built 2 times.)\n",
      "\n",
      "If unsure which option to use, try 'mafft --auto input > output'.\n",
      "For more information, see 'mafft --help', 'mafft --man' and the mafft page.\n",
      "\n",
      "The default gap scoring scheme has been changed in version 7.110 (2013 Oct).\n",
      "It tends to insert more gaps into gap-rich regions than previous versions.\n",
      "To disable this change, add the --leavegappyregion option.\n",
      "\n"
     ]
    },
    {
     "name": "stdout",
     "output_type": "stream",
     "text": [
      "{'max_gap_frequency': 1.0, 'min_conservation': 0.4, 'alignment': TabularMSA[DNA]\n",
      "-----------------------------------------------------------------------\n",
      "Stats:\n",
      "    sequence count: 978\n",
      "    position count: 498\n",
      "-----------------------------------------------------------------------\n",
      "TGAGGAATATTGGTCAATGGAGGCAACTCTGAA ... GGTATCGAACAGG--------------------\n",
      "TGAGGAATATTGGTCAATGGCCGGAAGGCTGAA ... GGGATCAAACAGG--------------------\n",
      "...\n",
      "TAGGGAGTATTCGGCAATGGAGGGAACTCTGAC ... GGTAGCAAATAGG--------------------\n",
      "TTAGGAATATTCGTCAATGGGGGGAACCCTGAA ... GGGAGCAAATAGG--------------------}\n",
      "{'max_gap_frequency': 1.0, 'min_conservation': 0.4, 'alignment': TabularMSA[DNA]\n",
      "-----------------------------------------------------------------------\n",
      "Stats:\n",
      "    sequence count: 978\n",
      "    position count: 498\n",
      "-----------------------------------------------------------------------\n",
      "TGAGGAATATTGGTCAATGGAGGCAACTCTGAA ... GGTATCGAACAGG--------------------\n",
      "TGAGGAATATTGGTCAATGGCCGGAAGGCTGAA ... GGGATCAAACAGG--------------------\n",
      "...\n",
      "TAGGGAGTATTCGGCAATGGAGGGAACTCTGAC ... GGTAGCAAATAGG--------------------\n",
      "TTAGGAATATTCGTCAATGGGGGGAACCCTGAA ... GGGAGCAAATAGG--------------------}\n"
     ]
    },
    {
     "name": "stdout",
     "output_type": "stream",
     "text": [
      "{'n_threads': 6, 'alignment': <q2_types.feature_data._format.AlignedDNAFASTAFormat object at 0x7f5c6a53faf0>}\n",
      "{'n_threads': 6, 'alignment': <q2_types.feature_data._format.AlignedDNAFASTAFormat object at 0x7f5c6a53faf0>}\n",
      "Running external command line application. This may print messages to stdout and/or stderr.\n",
      "The command being run is below. This command cannot be manually re-run as it will depend on temporary files that no longer exist.\n",
      "\n",
      "Command: FastTreeMP -quote -nt /tmp/qiime2-archive-ylmy0ztd/6e3c9baf-fba7-45f2-8b58-70149038cd1a/data/aligned-dna-sequences.fasta\n",
      "\n"
     ]
    },
    {
     "name": "stderr",
     "output_type": "stream",
     "text": [
      "FastTree Version 2.1.10 Double precision (No SSE3), OpenMP (6 threads)\n",
      "Alignment: /tmp/qiime2-archive-ylmy0ztd/6e3c9baf-fba7-45f2-8b58-70149038cd1a/data/aligned-dna-sequences.fasta\n",
      "Nucleotide distances: Jukes-Cantor Joins: balanced Support: SH-like 1000\n",
      "Search: Normal +NNI +SPR (2 rounds range 10) +ML-NNI opt-each=1\n",
      "TopHits: 1.00*sqrtN close=default refresh=0.80\n",
      "ML Model: Jukes-Cantor, CAT approximation with 20 rate categories\n",
      "      0.16 seconds: Joined    200 of    942\n"
     ]
    },
    {
     "name": "stderr",
     "output_type": "stream",
     "text": [
      "      0.30 seconds: Joined    400 of    942\n",
      "      0.42 seconds: Joined    600 of    942\n"
     ]
    },
    {
     "name": "stderr",
     "output_type": "stream",
     "text": [
      "      0.55 seconds: Joined    800 of    942\n",
      "Initial topology in 0.63 seconds\n",
      "Refining topology: 40 rounds ME-NNIs, 2 rounds ME-SPRs, 20 rounds ML-NNIs\n",
      "      0.65 seconds: ME NNI round 1 of 40, 701 of 943 splits, 137 changes (max delta 0.030)\n"
     ]
    },
    {
     "name": "stderr",
     "output_type": "stream",
     "text": [
      "      0.75 seconds: ME NNI round 7 of 40, 101 of 943 splits, 1 changes (max delta 0.000)\n",
      "      0.87 seconds: SPR round   1 of   2, 201 of 1888 nodes\n"
     ]
    },
    {
     "name": "stderr",
     "output_type": "stream",
     "text": [
      "      0.99 seconds: SPR round   1 of   2, 401 of 1888 nodes\n",
      "      1.12 seconds: SPR round   1 of   2, 601 of 1888 nodes\n"
     ]
    },
    {
     "name": "stderr",
     "output_type": "stream",
     "text": [
      "      1.26 seconds: SPR round   1 of   2, 801 of 1888 nodes\n",
      "      1.40 seconds: SPR round   1 of   2, 1001 of 1888 nodes\n"
     ]
    },
    {
     "name": "stderr",
     "output_type": "stream",
     "text": [
      "      1.53 seconds: SPR round   1 of   2, 1201 of 1888 nodes\n",
      "      1.68 seconds: SPR round   1 of   2, 1401 of 1888 nodes\n"
     ]
    },
    {
     "name": "stderr",
     "output_type": "stream",
     "text": [
      "      1.80 seconds: SPR round   1 of   2, 1601 of 1888 nodes\n",
      "      1.93 seconds: SPR round   1 of   2, 1801 of 1888 nodes\n"
     ]
    },
    {
     "name": "stderr",
     "output_type": "stream",
     "text": [
      "      2.03 seconds: ME NNI round 14 of 40, 901 of 943 splits, 9 changes (max delta 0.006)\n",
      "      2.18 seconds: SPR round   2 of   2, 201 of 1888 nodes\n"
     ]
    },
    {
     "name": "stderr",
     "output_type": "stream",
     "text": [
      "      2.30 seconds: SPR round   2 of   2, 401 of 1888 nodes\n",
      "      2.42 seconds: SPR round   2 of   2, 601 of 1888 nodes\n"
     ]
    },
    {
     "name": "stderr",
     "output_type": "stream",
     "text": [
      "      2.54 seconds: SPR round   2 of   2, 801 of 1888 nodes\n",
      "      2.65 seconds: SPR round   2 of   2, 1001 of 1888 nodes\n"
     ]
    },
    {
     "name": "stderr",
     "output_type": "stream",
     "text": [
      "      2.77 seconds: SPR round   2 of   2, 1201 of 1888 nodes\n",
      "      2.90 seconds: SPR round   2 of   2, 1401 of 1888 nodes\n"
     ]
    },
    {
     "name": "stderr",
     "output_type": "stream",
     "text": [
      "      3.00 seconds: SPR round   2 of   2, 1601 of 1888 nodes\n",
      "      3.11 seconds: SPR round   2 of   2, 1801 of 1888 nodes\n"
     ]
    },
    {
     "name": "stderr",
     "output_type": "stream",
     "text": [
      "      3.22 seconds: ME NNI round 28 of 40, 901 of 943 splits, 2 changes (max delta 0.001)\n",
      "Total branch-length 21.677 after 3.26 sec\n",
      "      3.33 seconds: ML Lengths 301 of 943 splits\n"
     ]
    },
    {
     "name": "stderr",
     "output_type": "stream",
     "text": [
      "      3.44 seconds: ML Lengths 701 of 943 splits\n",
      "      3.59 seconds: ML NNI round 1 of 20, 101 of 943 splits, 15 changes (max delta 6.200)\n"
     ]
    },
    {
     "name": "stderr",
     "output_type": "stream",
     "text": [
      "      3.74 seconds: ML NNI round 1 of 20, 301 of 943 splits, 50 changes (max delta 8.251)\n",
      "      3.89 seconds: ML NNI round 1 of 20, 501 of 943 splits, 79 changes (max delta 8.251)\n"
     ]
    },
    {
     "name": "stderr",
     "output_type": "stream",
     "text": [
      "      4.05 seconds: ML NNI round 1 of 20, 701 of 943 splits, 107 changes (max delta 14.833)\n",
      "      4.20 seconds: ML NNI round 1 of 20, 901 of 943 splits, 141 changes (max delta 14.833)\n",
      "ML-NNI round 1: LogLk = -56018.479 NNIs 148 max delta 14.83 Time 4.24\n"
     ]
    },
    {
     "name": "stderr",
     "output_type": "stream",
     "text": [
      "      4.31 seconds: Site likelihoods with rate category 7 of 20\n",
      "      4.41 seconds: Site likelihoods with rate category 17 of 20\n",
      "Switched to using 20 rate categories (CAT approximation)\n",
      "Rate categories were divided by 1.093 so that average rate = 1.0\n",
      "CAT-based log-likelihoods may not be comparable across runs\n",
      "Use -gamma for approximate but comparable Gamma(20) log-likelihoods\n"
     ]
    },
    {
     "name": "stderr",
     "output_type": "stream",
     "text": [
      "      4.54 seconds: ML NNI round 2 of 20, 101 of 943 splits, 6 changes (max delta 1.089)\n",
      "      4.73 seconds: ML NNI round 2 of 20, 301 of 943 splits, 23 changes (max delta 4.171)\n"
     ]
    },
    {
     "name": "stderr",
     "output_type": "stream",
     "text": [
      "      4.91 seconds: ML NNI round 2 of 20, 501 of 943 splits, 40 changes (max delta 7.144)\n",
      "      5.10 seconds: ML NNI round 2 of 20, 701 of 943 splits, 60 changes (max delta 7.144)\n"
     ]
    },
    {
     "name": "stderr",
     "output_type": "stream",
     "text": [
      "      5.27 seconds: ML NNI round 2 of 20, 901 of 943 splits, 81 changes (max delta 7.144)\n",
      "ML-NNI round 2: LogLk = -46558.504 NNIs 86 max delta 7.14 Time 5.32\n",
      "      5.40 seconds: ML NNI round 3 of 20, 101 of 943 splits, 1 changes (max delta 0.010)\n"
     ]
    },
    {
     "name": "stderr",
     "output_type": "stream",
     "text": [
      "      5.58 seconds: ML NNI round 3 of 20, 301 of 943 splits, 10 changes (max delta 0.551)\n",
      "      5.76 seconds: ML NNI round 3 of 20, 501 of 943 splits, 16 changes (max delta 2.755)\n"
     ]
    },
    {
     "name": "stderr",
     "output_type": "stream",
     "text": [
      "ML-NNI round 3: LogLk = -46539.566 NNIs 26 max delta 2.76 Time 5.92\n",
      "      5.91 seconds: ML NNI round 4 of 20, 1 of 943 splits\n",
      "      6.09 seconds: ML NNI round 4 of 20, 201 of 943 splits, 4 changes (max delta 1.424)\n"
     ]
    },
    {
     "name": "stderr",
     "output_type": "stream",
     "text": [
      "ML-NNI round 4: LogLk = -46535.508 NNIs 7 max delta 1.42 Time 6.26\n",
      "      6.26 seconds: ML NNI round 5 of 20, 1 of 943 splits\n",
      "ML-NNI round 5: LogLk = -46535.447 NNIs 0 max delta 0.00 Time 6.36\n",
      "Turning off heuristics for final round of ML NNIs (converged)\n",
      "      6.42 seconds: ML NNI round 6 of 20, 101 of 943 splits, 0 changes\n"
     ]
    },
    {
     "name": "stderr",
     "output_type": "stream",
     "text": [
      "      6.58 seconds: ML NNI round 6 of 20, 301 of 943 splits, 1 changes (max delta 0.000)\n",
      "      6.75 seconds: ML NNI round 6 of 20, 501 of 943 splits, 2 changes (max delta 0.051)\n"
     ]
    },
    {
     "name": "stderr",
     "output_type": "stream",
     "text": [
      "      6.92 seconds: ML NNI round 6 of 20, 701 of 943 splits, 2 changes (max delta 0.051)\n",
      "      7.06 seconds: ML NNI round 6 of 20, 901 of 943 splits, 5 changes (max delta 3.073)\n",
      "ML-NNI round 6: LogLk = -46528.802 NNIs 5 max delta 3.07 Time 7.10 (final)\n"
     ]
    },
    {
     "name": "stderr",
     "output_type": "stream",
     "text": [
      "      7.18 seconds: ML Lengths 401 of 943 splits\n",
      "      7.29 seconds: ML Lengths 901 of 943 splits\n",
      "Optimize all lengths: LogLk = -46527.972 Time 7.31\n"
     ]
    },
    {
     "name": "stderr",
     "output_type": "stream",
     "text": [
      "      7.43 seconds: ML split tests for    100 of    942 internal splits\n",
      "      7.56 seconds: ML split tests for    200 of    942 internal splits\n"
     ]
    },
    {
     "name": "stderr",
     "output_type": "stream",
     "text": [
      "      7.69 seconds: ML split tests for    300 of    942 internal splits\n",
      "      7.81 seconds: ML split tests for    400 of    942 internal splits\n"
     ]
    },
    {
     "name": "stderr",
     "output_type": "stream",
     "text": [
      "      7.95 seconds: ML split tests for    500 of    942 internal splits\n",
      "      8.08 seconds: ML split tests for    600 of    942 internal splits\n"
     ]
    },
    {
     "name": "stderr",
     "output_type": "stream",
     "text": [
      "      8.21 seconds: ML split tests for    700 of    942 internal splits\n",
      "      8.34 seconds: ML split tests for    800 of    942 internal splits\n"
     ]
    },
    {
     "name": "stderr",
     "output_type": "stream",
     "text": [
      "      8.46 seconds: ML split tests for    900 of    942 internal splits\n",
      "Total time: 8.52 seconds Unique: 945/978 Bad splits: 1/942 Worst delta-LogLk 1.331\n"
     ]
    },
    {
     "name": "stdout",
     "output_type": "stream",
     "text": [
      "{'tree': <TreeNode, name: unnamed, internal node count: 974, tips count: 978>}\n",
      "{'tree': <TreeNode, name: unnamed, internal node count: 974, tips count: 978>}\n"
     ]
    }
   ],
   "source": [
    "mafft_alignment, mafft_masked_alignment, mafft_tree, mafft_rooted_tree = align_to_tree_mafft_fasttree(\n",
    "    sequences=reps, n_threads=6, )"
   ]
  },
  {
   "cell_type": "markdown",
   "id": "0768d598",
   "metadata": {
    "papermill": {
     "duration": 0.027156,
     "end_time": "2023-09-14T15:16:46.438927",
     "exception": false,
     "start_time": "2023-09-14T15:16:46.411771",
     "status": "completed"
    },
    "tags": []
   },
   "source": [
    "### Compute Alpha Diversity (Phylogeny)\n",
    "- [diversity alpha_phylogenetic](https://docs.qiime2.org/2022.8/plugins/available/diversity/alpha-phylogenetic/): Computes a user-specified phylogenetic alpha diversity metric for all samples in a feature table.\n",
    "- Metrics: Choices ('faith_pd')"
   ]
  },
  {
   "cell_type": "code",
   "execution_count": 11,
   "id": "0383aa19",
   "metadata": {
    "ExecuteTime": {
     "end_time": "2022-09-29T20:54:35.310009Z",
     "start_time": "2022-09-29T20:54:35.141333Z"
    },
    "execution": {
     "iopub.execute_input": "2023-09-14T15:16:46.497288Z",
     "iopub.status.busy": "2023-09-14T15:16:46.496831Z",
     "iopub.status.idle": "2023-09-14T15:16:46.625966Z",
     "shell.execute_reply": "2023-09-14T15:16:46.625377Z"
    },
    "papermill": {
     "duration": 0.159714,
     "end_time": "2023-09-14T15:16:46.627874",
     "exception": false,
     "start_time": "2023-09-14T15:16:46.468160",
     "status": "completed"
    },
    "tags": []
   },
   "outputs": [
    {
     "name": "stdout",
     "output_type": "stream",
     "text": [
      "Calculating alpha diversity: faith_pd\n",
      "{'metric': 'faith_pd', 'table': <artifact: FeatureTable[Frequency] uuid: 60b782f7-828f-4853-8f52-378416d9509b>, 'phylogeny': <artifact: Phylogeny[Rooted] uuid: b5198304-1918-4a8e-950d-e5c15de67ac2>}\n",
      "{'table': <q2_types.feature_table._format.BIOMV210Format object at 0x7f5c69ecdb80>, 'phylogeny': <q2_types.tree._format.NewickFormat object at 0x7f5c69ecdfd0>}\n",
      "{'table': <q2_types.feature_table._format.BIOMV210Format object at 0x7f5c69ecdb80>, 'phylogeny': <q2_types.tree._format.NewickFormat object at 0x7f5c69ecdfd0>}\n",
      "DONE: Calculating alpha phylogeny: faith_pd\n"
     ]
    }
   ],
   "source": [
    "metrics = ('faith_pd', )\n",
    "alpha_diversities_phylogenetic = dict()\n",
    "for metric in metrics:\n",
    "    print(f\"Calculating alpha diversity: {metric}\")\n",
    "    try:\n",
    "        alpha_diversity = alpha_phylogenetic(table=tabs, phylogeny=mafft_rooted_tree, metric=metric).alpha_diversity\n",
    "        alpha_diversities_phylogenetic[metric] = alpha_diversity\n",
    "        # Save Artifact\n",
    "        file_path = os.path.join(alpha_path, f'alpha-phylogeny-{metric}.qza')\n",
    "        alpha_diversity.save(file_path)\n",
    "        print(f\"DONE: Calculating alpha phylogeny: {metric}\")\n",
    "    except Exception as e:\n",
    "        print(f\"ERROR: Calculating alpha phylogeny: {metric}\")"
   ]
  },
  {
   "cell_type": "markdown",
   "id": "42db1ead",
   "metadata": {
    "papermill": {
     "duration": 0.027229,
     "end_time": "2023-09-14T15:16:46.686808",
     "exception": false,
     "start_time": "2023-09-14T15:16:46.659579",
     "status": "completed"
    },
    "tags": []
   },
   "source": [
    "- [core-metrics-phylogenetic](https://docs.qiime2.org/2023.7/plugins/available/diversity/core-metrics-phylogenetic/)"
   ]
  },
  {
   "cell_type": "code",
   "execution_count": 12,
   "id": "ef726ab7",
   "metadata": {
    "execution": {
     "iopub.execute_input": "2023-09-14T15:16:46.742791Z",
     "iopub.status.busy": "2023-09-14T15:16:46.742483Z",
     "iopub.status.idle": "2023-09-14T15:16:49.007118Z",
     "shell.execute_reply": "2023-09-14T15:16:49.006489Z"
    },
    "papermill": {
     "duration": 2.294712,
     "end_time": "2023-09-14T15:16:49.008975",
     "exception": false,
     "start_time": "2023-09-14T15:16:46.714263",
     "status": "completed"
    },
    "tags": []
   },
   "outputs": [
    {
     "name": "stdout",
     "output_type": "stream",
     "text": [
      "{'sampling_depth': 3381, 'metadata': Metadata\n",
      "--------\n",
      "12 IDs x 3 columns\n",
      "sample-name: ColumnProperties(type='categorical')\n",
      "group-id:    ColumnProperties(type='categorical')\n",
      "group-desc:  ColumnProperties(type='categorical')\n",
      "\n",
      "Call to_dataframe() for a tabular representation., 'n_jobs_or_threads': 6, 'table': <artifact: FeatureTable[Frequency] uuid: 60b782f7-828f-4853-8f52-378416d9509b>, 'phylogeny': <artifact: Phylogeny[Rooted] uuid: b5198304-1918-4a8e-950d-e5c15de67ac2>}\n",
      "{'sampling_depth': 3381, 'metadata': Metadata\n",
      "--------\n",
      "12 IDs x 3 columns\n",
      "sample-name: ColumnProperties(type='categorical')\n",
      "group-id:    ColumnProperties(type='categorical')\n",
      "group-desc:  ColumnProperties(type='categorical')\n",
      "\n",
      "Call to_dataframe() for a tabular representation., 'with_replacement': False, 'n_jobs': 6, 'table': <artifact: FeatureTable[Frequency] uuid: 60b782f7-828f-4853-8f52-378416d9509b>}\n",
      "{'sampling_depth': 3381, 'with_replacement': False, 'table': 978 x 12 <class 'biom.table.Table'> with 1969 nonzero entries (16% dense)}\n",
      "{'sampling_depth': 3381, 'with_replacement': False, 'table': 978 x 12 <class 'biom.table.Table'> with 1969 nonzero entries (16% dense)}\n",
      "{'table': 776 x 12 <class 'biom.table.Table'> with 1562 nonzero entries (16% dense)}\n",
      "{'table': 776 x 12 <class 'biom.table.Table'> with 1562 nonzero entries (16% dense)}\n"
     ]
    },
    {
     "name": "stdout",
     "output_type": "stream",
     "text": [
      "{'drop_undefined_samples': False, 'table': 776 x 12 <class 'biom.table.Table'> with 1562 nonzero entries (16% dense)}\n",
      "{'drop_undefined_samples': False, 'table': 776 x 12 <class 'biom.table.Table'> with 1562 nonzero entries (16% dense)}\n",
      "{'drop_undefined_samples': False, 'table': 776 x 12 <class 'biom.table.Table'> with 1562 nonzero entries (16% dense)}\n",
      "{'drop_undefined_samples': False, 'table': 776 x 12 <class 'biom.table.Table'> with 1562 nonzero entries (16% dense)}\n",
      "{'n_jobs': 6, 'table': 776 x 12 <class 'biom.table.Table'> with 1562 nonzero entries (16% dense)}\n",
      "{'n_jobs': 6, 'table': 776 x 12 <class 'biom.table.Table'> with 1562 nonzero entries (16% dense)}\n",
      "{'n_jobs': 6, 'table': 776 x 12 <class 'biom.table.Table'> with 1562 nonzero entries (16% dense)}\n",
      "{'n_jobs': 6, 'table': 776 x 12 <class 'biom.table.Table'> with 1562 nonzero entries (16% dense)}\n",
      "{'number_of_dimensions': None, 'distance_matrix': <skbio.stats.distance._base.DistanceMatrix object at 0x7f5c69ed7040>}\n",
      "{'number_of_dimensions': None, 'distance_matrix': <skbio.stats.distance._base.DistanceMatrix object at 0x7f5c69ed7040>}\n"
     ]
    },
    {
     "name": "stderr",
     "output_type": "stream",
     "text": [
      "/home/lauro/anaconda3/envs/qiime2-2022.2/lib/python3.8/site-packages/sklearn/metrics/pairwise.py:1761: DataConversionWarning: Data was converted to boolean for metric jaccard\n",
      "  warnings.warn(msg, DataConversionWarning)\n"
     ]
    },
    {
     "name": "stdout",
     "output_type": "stream",
     "text": [
      "{'number_of_dimensions': None, 'distance_matrix': <skbio.stats.distance._base.DistanceMatrix object at 0x7f5c69ed7310>}\n",
      "{'number_of_dimensions': None, 'distance_matrix': <skbio.stats.distance._base.DistanceMatrix object at 0x7f5c69ed7310>}\n",
      "{'metadata': Metadata\n",
      "--------\n",
      "12 IDs x 3 columns\n",
      "sample-name: ColumnProperties(type='categorical')\n",
      "group-id:    ColumnProperties(type='categorical')\n",
      "group-desc:  ColumnProperties(type='categorical')\n",
      "\n",
      "Call to_dataframe() for a tabular representation., 'custom_axes': None, 'ignore_missing_samples': False, 'ignore_pcoa_features': False, 'pcoa': <skbio.stats.ordination._ordination_results.OrdinationResults object at 0x7f5c66e3a580>}\n"
     ]
    },
    {
     "name": "stdout",
     "output_type": "stream",
     "text": [
      "{'metadata': Metadata\n",
      "--------\n",
      "12 IDs x 3 columns\n",
      "sample-name: ColumnProperties(type='categorical')\n",
      "group-id:    ColumnProperties(type='categorical')\n",
      "group-desc:  ColumnProperties(type='categorical')\n",
      "\n",
      "Call to_dataframe() for a tabular representation., 'custom_axes': None, 'ignore_missing_samples': False, 'ignore_pcoa_features': False, 'pcoa': <skbio.stats.ordination._ordination_results.OrdinationResults object at 0x7f5c66e401c0>}\n"
     ]
    },
    {
     "name": "stdout",
     "output_type": "stream",
     "text": [
      "{'table': <q2_types.feature_table._format.BIOMV210Format object at 0x7f5c69ee9490>, 'phylogeny': <q2_types.tree._format.NewickFormat object at 0x7f5c69f73a00>}\n",
      "{'table': <q2_types.feature_table._format.BIOMV210Format object at 0x7f5c69ee9490>, 'phylogeny': <q2_types.tree._format.NewickFormat object at 0x7f5c69f73a00>}\n",
      "{'threads': 6, 'bypass_tips': False, 'table': <q2_types.feature_table._format.BIOMV210Format object at 0x7f5c69f73c70>, 'phylogeny': <q2_types.tree._format.NewickFormat object at 0x7f5c69f73cd0>}\n",
      "{'threads': 6, 'bypass_tips': False, 'table': <q2_types.feature_table._format.BIOMV210Format object at 0x7f5c69f73c70>, 'phylogeny': <q2_types.tree._format.NewickFormat object at 0x7f5c69f73cd0>}\n",
      "{'threads': 6, 'bypass_tips': False, 'table': <q2_types.feature_table._format.BIOMV210Format object at 0x7f5c66e55880>, 'phylogeny': <q2_types.tree._format.NewickFormat object at 0x7f5c66e558e0>}\n",
      "{'threads': 6, 'bypass_tips': False, 'table': <q2_types.feature_table._format.BIOMV210Format object at 0x7f5c66e55880>, 'phylogeny': <q2_types.tree._format.NewickFormat object at 0x7f5c66e558e0>}\n"
     ]
    },
    {
     "name": "stdout",
     "output_type": "stream",
     "text": [
      "{'number_of_dimensions': None, 'distance_matrix': <skbio.stats.distance._base.DistanceMatrix object at 0x7f5c66e3a8e0>}\n",
      "{'number_of_dimensions': None, 'distance_matrix': <skbio.stats.distance._base.DistanceMatrix object at 0x7f5c66e3a8e0>}\n",
      "{'number_of_dimensions': None, 'distance_matrix': <skbio.stats.distance._base.DistanceMatrix object at 0x7f5c69ed73a0>}\n",
      "{'number_of_dimensions': None, 'distance_matrix': <skbio.stats.distance._base.DistanceMatrix object at 0x7f5c69ed73a0>}\n",
      "{'metadata': Metadata\n",
      "--------\n",
      "12 IDs x 3 columns\n",
      "sample-name: ColumnProperties(type='categorical')\n",
      "group-id:    ColumnProperties(type='categorical')\n",
      "group-desc:  ColumnProperties(type='categorical')\n",
      "\n",
      "Call to_dataframe() for a tabular representation., 'custom_axes': None, 'ignore_missing_samples': False, 'ignore_pcoa_features': False, 'pcoa': <skbio.stats.ordination._ordination_results.OrdinationResults object at 0x7f5c66e40a30>}\n",
      "{'metadata': Metadata\n",
      "--------\n",
      "12 IDs x 3 columns\n",
      "sample-name: ColumnProperties(type='categorical')\n",
      "group-id:    ColumnProperties(type='categorical')\n",
      "group-desc:  ColumnProperties(type='categorical')\n",
      "\n",
      "Call to_dataframe() for a tabular representation., 'custom_axes': None, 'ignore_missing_samples': False, 'ignore_pcoa_features': False, 'pcoa': <skbio.stats.ordination._ordination_results.OrdinationResults object at 0x7f5c66e55df0>}\n"
     ]
    },
    {
     "name": "stderr",
     "output_type": "stream",
     "text": [
      "/home/lauro/anaconda3/envs/qiime2-2022.2/lib/python3.8/site-packages/skbio/stats/ordination/_principal_coordinate_analysis.py:143: RuntimeWarning: The result contains negative eigenvalues. Please compare their magnitude with the magnitude of some of the largest positive eigenvalues. If the negative ones are smaller, it's probably safe to ignore them, but if they are large in magnitude, the results won't be useful. See the Notes section for more details. The smallest eigenvalue is -0.003054650597489449 and the largest is 0.467231028710244.\n",
      "  warn(\n"
     ]
    }
   ],
   "source": [
    "s_depth = int(tabs.view(pd.DataFrame).sum(axis=1).min())\n",
    "results = core_metrics_phylogenetic(\n",
    "    table = tabs,\n",
    "    phylogeny = mafft_rooted_tree,\n",
    "    sampling_depth = s_depth,\n",
    "    metadata = metadata_qa,\n",
    "    n_jobs_or_threads = 6,\n",
    ")"
   ]
  },
  {
   "cell_type": "code",
   "execution_count": 13,
   "id": "19311218",
   "metadata": {
    "execution": {
     "iopub.execute_input": "2023-09-14T15:16:49.082770Z",
     "iopub.status.busy": "2023-09-14T15:16:49.082523Z",
     "iopub.status.idle": "2023-09-14T15:16:49.088267Z",
     "shell.execute_reply": "2023-09-14T15:16:49.087657Z"
    },
    "papermill": {
     "duration": 0.043652,
     "end_time": "2023-09-14T15:16:49.089860",
     "exception": false,
     "start_time": "2023-09-14T15:16:49.046208",
     "status": "completed"
    },
    "tags": []
   },
   "outputs": [],
   "source": [
    "results_info = [(\"rarefied_table\", \"FeatureTable[Frequency]\", \"The resulting rarefied feature table.\"),\n",
    "(\"faith_pd_vector\", \"SampleData[AlphaDiversity]\", \"Vector of Faith PD values by sample.\"),\n",
    "(\"observed_features_vector\", \"SampleData[AlphaDiversity]\", \"Vector of Observed Features values by sample.\"),\n",
    "(\"shannon_vector\", \"SampleData[AlphaDiversity]\", \"Vector of Shannon diversity values by sample.\"),\n",
    "(\"evenness_vector\", \"SampleData[AlphaDiversity]\", \"Vector of Pielou's evenness values by sample.\"),\n",
    "(\"unweighted_unifrac_distance_matrix\", \"DistanceMatrix\", \"Matrix of unweighted UniFrac distances between pairs of samples.\"),\n",
    "(\"weighted_unifrac_distance_matrix\", \"DistanceMatrix\", \"Matrix of weighted UniFrac distances between pairs of samples.\"),\n",
    "(\"jaccard_distance_matrix\", \"DistanceMatrix\", \"Matrix of Jaccard distances between pairs of samples.\"),\n",
    "(\"bray_curtis_distance_matrix\", \"DistanceMatrix\", \"Matrix of Bray-Curtis distances between pairs of samples.\"),\n",
    "(\"unweighted_unifrac_pcoa_results\", \"PCoAResults\", \"PCoA matrix computed from unweighted UniFrac distances between samples.\"),\n",
    "(\"weighted_unifrac_pcoa_results\", \"PCoAResults\", \"PCoA matrix computed from weighted UniFrac distances between samples.\"),\n",
    "(\"jaccard_pcoa_results\", \"PCoAResults\", \"PCoA matrix computed from Jaccard distances between samples.\"),\n",
    "(\"bray_curtis_pcoa_results\", \"PCoAResults\", \"PCoA matrix computed from Bray-Curtis distances between samples.\"),\n",
    "(\"unweighted_unifrac_emperor\", \"Visualization\", \"Emperor plot of the PCoA matrix computed from unweighted UniFrac.\"),\n",
    "(\"weighted_unifrac_emperor\", \"Visualization\", \"Emperor plot of the PCoA matrix computed from weighted UniFrac.\"),\n",
    "(\"jaccard_emperor\", \"Visualization\", \"Emperor plot of the PCoA matrix computed from Jaccard.\"),\n",
    "(\"bray_curtis_emperor\", \"Visualization\", \"Emperor plot of the PCoA matrix computed from Bray-Curtis.\")]"
   ]
  },
  {
   "cell_type": "code",
   "execution_count": 14,
   "id": "57dcd8e3",
   "metadata": {
    "execution": {
     "iopub.execute_input": "2023-09-14T15:16:49.162338Z",
     "iopub.status.busy": "2023-09-14T15:16:49.162104Z",
     "iopub.status.idle": "2023-09-14T15:16:49.641230Z",
     "shell.execute_reply": "2023-09-14T15:16:49.640363Z"
    },
    "papermill": {
     "duration": 0.51645,
     "end_time": "2023-09-14T15:16:49.642836",
     "exception": false,
     "start_time": "2023-09-14T15:16:49.126386",
     "status": "completed"
    },
    "tags": []
   },
   "outputs": [
    {
     "name": "stdout",
     "output_type": "stream",
     "text": [
      "13 unweighted_unifrac_emperor Visualization\n",
      "--- Emperor plot of the PCoA matrix computed from unweighted UniFrac. ---\n",
      "Saving emperor file at: /home/lauro/nupeb/rede-micro/redemicro-ana-flavia-nutri/experiments/ana-flavia-NRxSTD-NR-trim/qiime-artifacts/beta-analysis/unweighted_unifrac_emperor.qzv\n",
      "\n",
      "14 weighted_unifrac_emperor Visualization\n",
      "--- Emperor plot of the PCoA matrix computed from weighted UniFrac. ---\n",
      "Saving emperor file at: /home/lauro/nupeb/rede-micro/redemicro-ana-flavia-nutri/experiments/ana-flavia-NRxSTD-NR-trim/qiime-artifacts/beta-analysis/weighted_unifrac_emperor.qzv\n",
      "\n"
     ]
    },
    {
     "name": "stdout",
     "output_type": "stream",
     "text": [
      "15 jaccard_emperor Visualization\n",
      "--- Emperor plot of the PCoA matrix computed from Jaccard. ---\n",
      "Saving emperor file at: /home/lauro/nupeb/rede-micro/redemicro-ana-flavia-nutri/experiments/ana-flavia-NRxSTD-NR-trim/qiime-artifacts/beta-analysis/jaccard_emperor.qzv\n",
      "\n",
      "16 bray_curtis_emperor Visualization\n",
      "--- Emperor plot of the PCoA matrix computed from Bray-Curtis. ---\n",
      "Saving emperor file at: /home/lauro/nupeb/rede-micro/redemicro-ana-flavia-nutri/experiments/ana-flavia-NRxSTD-NR-trim/qiime-artifacts/beta-analysis/bray_curtis_emperor.qzv\n",
      "\n"
     ]
    }
   ],
   "source": [
    "for i, info in enumerate(results_info):\n",
    "    r_id, r_type, r_desc = info\n",
    "    #print(i, r_id, r_type)\n",
    "    file_name = f\"{r_id}.qzv\"\n",
    "    if r_type == \"FeatureTable[Frequency]\":\n",
    "        pass\n",
    "    elif r_id.endswith('emperor'):\n",
    "        print(i, r_id, r_type)\n",
    "        print(f\"--- {r_desc} ---\")\n",
    "        file_name = os.path.join(beta_path, file_name)\n",
    "        print(f'Saving emperor file at: {file_name}\\n')\n",
    "        results[i].save(filepath=file_name)"
   ]
  },
  {
   "cell_type": "markdown",
   "id": "c7752cfd",
   "metadata": {
    "papermill": {
     "duration": 0.036215,
     "end_time": "2023-09-14T15:16:49.716041",
     "exception": false,
     "start_time": "2023-09-14T15:16:49.679826",
     "status": "completed"
    },
    "tags": []
   },
   "source": [
    "### Alpha diversity correlation\n",
    "\n",
    "This method only process `numeric` columns.\n"
   ]
  },
  {
   "cell_type": "code",
   "execution_count": 15,
   "id": "2814f613",
   "metadata": {
    "ExecuteTime": {
     "end_time": "2022-09-29T20:54:35.317618Z",
     "start_time": "2022-09-29T20:54:35.312094Z"
    },
    "execution": {
     "iopub.execute_input": "2023-09-14T15:16:49.792005Z",
     "iopub.status.busy": "2023-09-14T15:16:49.791729Z",
     "iopub.status.idle": "2023-09-14T15:16:49.798490Z",
     "shell.execute_reply": "2023-09-14T15:16:49.797870Z"
    },
    "papermill": {
     "duration": 0.044961,
     "end_time": "2023-09-14T15:16:49.800053",
     "exception": false,
     "start_time": "2023-09-14T15:16:49.755092",
     "status": "completed"
    },
    "tags": []
   },
   "outputs": [],
   "source": [
    "methods = ('spearman', 'pearson')\n",
    "numerics_cols = metadata_qa.filter_columns(column_type='numeric')\n",
    "if numerics_cols.column_count > 0:\n",
    "    for metric, alpha_values in alpha_diversities.items():\n",
    "        for method in methods:\n",
    "            try:\n",
    "                corr_view = alpha_correlation(alpha_diversity=alpha_values, metadata=numerics_cols, \n",
    "                                          method=method, intersect_ids=True).visualization\n",
    "                view_path = os.path.join(alpha_path, f'alpha-correlation-{metric}-{method}.qzv')\n",
    "                corr_view.save(view_path)\n",
    "                corr_view\n",
    "                print(f\"DONE: Calculating alpha correlation: {metric} {method}\")\n",
    "            except Exception as e:\n",
    "                print(f\"ERROR: Calculating alpha correlation: {metric} {method}\")"
   ]
  },
  {
   "cell_type": "markdown",
   "id": "8ea83c8a",
   "metadata": {
    "papermill": {
     "duration": 0.035891,
     "end_time": "2023-09-14T15:16:49.874117",
     "exception": false,
     "start_time": "2023-09-14T15:16:49.838226",
     "status": "completed"
    },
    "tags": []
   },
   "source": [
    "## Alpha diversity comparisons\n",
    "\n",
    "Visually and statistically compare groups of alpha diversity values.\n",
    "\n",
    "[diversity alpha_group_significance](https://docs.qiime2.org/2022.8/plugins/available/diversity/alpha-group-significance/)"
   ]
  },
  {
   "cell_type": "code",
   "execution_count": 16,
   "id": "276d1c18",
   "metadata": {
    "ExecuteTime": {
     "end_time": "2022-09-29T20:54:36.089290Z",
     "start_time": "2022-09-29T20:54:35.318963Z"
    },
    "execution": {
     "iopub.execute_input": "2023-09-14T15:16:49.953031Z",
     "iopub.status.busy": "2023-09-14T15:16:49.952753Z",
     "iopub.status.idle": "2023-09-14T15:16:50.680822Z",
     "shell.execute_reply": "2023-09-14T15:16:50.680101Z"
    },
    "papermill": {
     "duration": 0.76936,
     "end_time": "2023-09-14T15:16:50.682394",
     "exception": false,
     "start_time": "2023-09-14T15:16:49.913034",
     "status": "completed"
    },
    "tags": []
   },
   "outputs": [
    {
     "name": "stdout",
     "output_type": "stream",
     "text": [
      "Processing alpha_group_significance: chao1\n",
      "{'metadata': Metadata\n",
      "--------\n",
      "12 IDs x 3 columns\n",
      "sample-name: ColumnProperties(type='categorical')\n",
      "group-id:    ColumnProperties(type='categorical')\n",
      "group-desc:  ColumnProperties(type='categorical')\n",
      "\n",
      "Call to_dataframe() for a tabular representation., 'alpha_diversity': S210421121677    112.0\n",
      "S210421121678     83.0\n",
      "S210421121679    150.0\n",
      "S210421121680    209.0\n",
      "S210421121681    127.0\n",
      "S210421121685    314.0\n",
      "S210421121686    121.0\n",
      "S210421121687    137.0\n",
      "S210421121703     97.0\n",
      "S210421121704     34.0\n",
      "S210421121705    211.0\n",
      "S210421121706    374.0\n",
      "Name: chao1, dtype: float64}\n",
      "DONE: Calculating alpha group significance: chao1\n",
      "Processing alpha_group_significance: chao1_ci\n",
      "ERROR: Calculating alpha group significance: chao1_ci\n",
      "Processing alpha_group_significance: observed_features\n",
      "{'metadata': Metadata\n",
      "--------\n",
      "12 IDs x 3 columns\n",
      "sample-name: ColumnProperties(type='categorical')\n",
      "group-id:    ColumnProperties(type='categorical')\n",
      "group-desc:  ColumnProperties(type='categorical')\n",
      "\n",
      "Call to_dataframe() for a tabular representation., 'alpha_diversity': S210421121677    112\n",
      "S210421121678     83\n",
      "S210421121679    150\n",
      "S210421121680    209\n",
      "S210421121681    127\n",
      "S210421121685    314\n",
      "S210421121686    121\n",
      "S210421121687    137\n",
      "S210421121703     97\n",
      "S210421121704     34\n",
      "S210421121705    211\n",
      "S210421121706    374\n",
      "Name: observed_features, dtype: int64}\n"
     ]
    },
    {
     "name": "stdout",
     "output_type": "stream",
     "text": [
      "DONE: Calculating alpha group significance: observed_features\n",
      "Processing alpha_group_significance: shannon\n",
      "{'metadata': Metadata\n",
      "--------\n",
      "12 IDs x 3 columns\n",
      "sample-name: ColumnProperties(type='categorical')\n",
      "group-id:    ColumnProperties(type='categorical')\n",
      "group-desc:  ColumnProperties(type='categorical')\n",
      "\n",
      "Call to_dataframe() for a tabular representation., 'alpha_diversity': S210421121677    4.736594\n",
      "S210421121678    4.528187\n",
      "S210421121679    4.478963\n",
      "S210421121680    5.580541\n",
      "S210421121681    4.457096\n",
      "S210421121685    6.145411\n",
      "S210421121686    5.516588\n",
      "S210421121687    5.179013\n",
      "S210421121703    5.200061\n",
      "S210421121704    3.786450\n",
      "S210421121705    5.919258\n",
      "S210421121706    6.381630\n",
      "Name: shannon_entropy, dtype: float64}\n",
      "DONE: Calculating alpha group significance: shannon\n",
      "Processing alpha_group_significance: simpson\n",
      "{'metadata': Metadata\n",
      "--------\n",
      "12 IDs x 3 columns\n",
      "sample-name: ColumnProperties(type='categorical')\n",
      "group-id:    ColumnProperties(type='categorical')\n",
      "group-desc:  ColumnProperties(type='categorical')\n",
      "\n",
      "Call to_dataframe() for a tabular representation., 'alpha_diversity': S210421121677    0.936476\n",
      "S210421121678    0.935171\n",
      "S210421121679    0.913495\n",
      "S210421121680    0.960297\n",
      "S210421121681    0.915034\n",
      "S210421121685    0.967199\n",
      "S210421121686    0.960541\n",
      "S210421121687    0.935590\n",
      "S210421121703    0.945950\n",
      "S210421121704    0.859716\n",
      "S210421121705    0.967740\n",
      "S210421121706    0.969687\n",
      "Name: simpson, dtype: float64}\n"
     ]
    },
    {
     "name": "stdout",
     "output_type": "stream",
     "text": [
      "DONE: Calculating alpha group significance: simpson\n",
      "Processing alpha_group_significance: simpson_e\n",
      "{'metadata': Metadata\n",
      "--------\n",
      "12 IDs x 3 columns\n",
      "sample-name: ColumnProperties(type='categorical')\n",
      "group-id:    ColumnProperties(type='categorical')\n",
      "group-desc:  ColumnProperties(type='categorical')\n",
      "\n",
      "Call to_dataframe() for a tabular representation., 'alpha_diversity': S210421121677    0.140554\n",
      "S210421121678    0.185847\n",
      "S210421121679    0.077067\n",
      "S210421121680    0.120513\n",
      "S210421121681    0.092673\n",
      "S210421121685    0.097092\n",
      "S210421121686    0.209445\n",
      "S210421121687    0.113325\n",
      "S210421121703    0.190735\n",
      "S210421121704    0.209658\n",
      "S210421121705    0.146909\n",
      "S210421121706    0.088207\n",
      "Name: simpson_e, dtype: float64}\n",
      "DONE: Calculating alpha group significance: simpson_e\n"
     ]
    }
   ],
   "source": [
    "for metric, alpha_values in alpha_diversities.items():\n",
    "    print(f\"Processing alpha_group_significance: {metric}\")\n",
    "    try:\n",
    "        significance_view = alpha_group_significance(alpha_diversity=alpha_values, metadata=metadata_qa).visualization\n",
    "        view_path = os.path.join(alpha_path, f'alpha-group-significance-{metric}.qzv')\n",
    "        significance_view.save(view_path)\n",
    "        significance_view\n",
    "        print(f\"DONE: Calculating alpha group significance: {metric}\")\n",
    "    except Exception as e:\n",
    "        print(f\"ERROR: Calculating alpha group significance: {metric}\")"
   ]
  },
  {
   "cell_type": "markdown",
   "id": "4349d357",
   "metadata": {
    "papermill": {
     "duration": 0.036858,
     "end_time": "2023-09-14T15:16:50.757194",
     "exception": false,
     "start_time": "2023-09-14T15:16:50.720336",
     "status": "completed"
    },
    "tags": []
   },
   "source": [
    "## Beta diversity analysis\n",
    "\n",
    "#### Reference\n",
    "- [diversity beta](https://docs.qiime2.org/2022.8/plugins/available/diversity/beta/): Computes a user-specified beta diversity metric for all pairs of samples in a feature table.\n",
    "- [Beta diversity metrics](http://scikit-bio.org/docs/0.2.0/generated/skbio.diversity.beta.html)\n",
    "\n",
    "- Metric Choices('aitchison', 'braycurtis', 'canberra', 'canberra_adkins', 'chebyshev', 'cityblock', 'correlation', 'cosine', 'dice', 'euclidean', 'hamming', 'jaccard', 'jensenshannon', 'kulsinski', 'matching', 'minkowski', 'rogerstanimoto', 'russellrao', 'seuclidean', 'sokalmichener', 'sokalsneath', 'sqeuclidean', 'yule')"
   ]
  },
  {
   "cell_type": "code",
   "execution_count": 17,
   "id": "f6f358dd",
   "metadata": {
    "ExecuteTime": {
     "end_time": "2022-09-29T20:54:36.335038Z",
     "start_time": "2022-09-29T20:54:36.091288Z"
    },
    "execution": {
     "iopub.execute_input": "2023-09-14T15:16:50.833987Z",
     "iopub.status.busy": "2023-09-14T15:16:50.833714Z",
     "iopub.status.idle": "2023-09-14T15:16:51.351609Z",
     "shell.execute_reply": "2023-09-14T15:16:51.350801Z"
    },
    "papermill": {
     "duration": 0.560291,
     "end_time": "2023-09-14T15:16:51.354200",
     "exception": false,
     "start_time": "2023-09-14T15:16:50.793909",
     "status": "completed"
    },
    "tags": []
   },
   "outputs": [
    {
     "name": "stdout",
     "output_type": "stream",
     "text": [
      "Calculating beta diversity: euclidean\n",
      "{'metric': 'euclidean', 'pseudocount': 1, 'n_jobs': 6, 'table': <artifact: FeatureTable[Frequency] uuid: 60b782f7-828f-4853-8f52-378416d9509b>}\n",
      "{'metric': 'euclidean', 'pseudocount': 1, 'n_jobs': 6, 'table': 978 x 12 <class 'biom.table.Table'> with 1969 nonzero entries (16% dense)}\n",
      "{'metric': 'euclidean', 'pseudocount': 1, 'n_jobs': 6, 'table': 978 x 12 <class 'biom.table.Table'> with 1969 nonzero entries (16% dense)}\n",
      "DONE: Calculating beta diversity: euclidean\n",
      "Calculating beta diversity: dice\n",
      "{'metric': 'dice', 'pseudocount': 1, 'n_jobs': 6, 'table': <artifact: FeatureTable[Frequency] uuid: 60b782f7-828f-4853-8f52-378416d9509b>}\n",
      "{'metric': 'dice', 'pseudocount': 1, 'n_jobs': 6, 'table': 978 x 12 <class 'biom.table.Table'> with 1969 nonzero entries (16% dense)}\n",
      "{'metric': 'dice', 'pseudocount': 1, 'n_jobs': 6, 'table': 978 x 12 <class 'biom.table.Table'> with 1969 nonzero entries (16% dense)}\n",
      "DONE: Calculating beta diversity: dice\n",
      "Calculating beta diversity: braycurtis\n",
      "{'metric': 'braycurtis', 'pseudocount': 1, 'n_jobs': 6, 'table': <artifact: FeatureTable[Frequency] uuid: 60b782f7-828f-4853-8f52-378416d9509b>}\n",
      "{'n_jobs': 6, 'table': 978 x 12 <class 'biom.table.Table'> with 1969 nonzero entries (16% dense)}\n",
      "{'n_jobs': 6, 'table': 978 x 12 <class 'biom.table.Table'> with 1969 nonzero entries (16% dense)}\n"
     ]
    },
    {
     "name": "stderr",
     "output_type": "stream",
     "text": [
      "/home/lauro/anaconda3/envs/qiime2-2022.2/lib/python3.8/site-packages/sklearn/metrics/pairwise.py:1761: DataConversionWarning: Data was converted to boolean for metric dice\n",
      "  warnings.warn(msg, DataConversionWarning)\n"
     ]
    },
    {
     "name": "stdout",
     "output_type": "stream",
     "text": [
      "DONE: Calculating beta diversity: braycurtis\n",
      "Calculating beta diversity: correlation\n",
      "{'metric': 'correlation', 'pseudocount': 1, 'n_jobs': 6, 'table': <artifact: FeatureTable[Frequency] uuid: 60b782f7-828f-4853-8f52-378416d9509b>}\n",
      "{'metric': 'correlation', 'pseudocount': 1, 'n_jobs': 6, 'table': 978 x 12 <class 'biom.table.Table'> with 1969 nonzero entries (16% dense)}\n",
      "{'metric': 'correlation', 'pseudocount': 1, 'n_jobs': 6, 'table': 978 x 12 <class 'biom.table.Table'> with 1969 nonzero entries (16% dense)}\n",
      "ERROR: Calculating beta diversity: correlation\n",
      "Calculating beta diversity: cosine\n",
      "{'metric': 'cosine', 'pseudocount': 1, 'n_jobs': 6, 'table': <artifact: FeatureTable[Frequency] uuid: 60b782f7-828f-4853-8f52-378416d9509b>}\n",
      "{'metric': 'cosine', 'pseudocount': 1, 'n_jobs': 6, 'table': 978 x 12 <class 'biom.table.Table'> with 1969 nonzero entries (16% dense)}\n",
      "{'metric': 'cosine', 'pseudocount': 1, 'n_jobs': 6, 'table': 978 x 12 <class 'biom.table.Table'> with 1969 nonzero entries (16% dense)}\n",
      "ERROR: Calculating beta diversity: cosine\n",
      "Calculating beta diversity: matching\n",
      "{'metric': 'matching', 'pseudocount': 1, 'n_jobs': 6, 'table': <artifact: FeatureTable[Frequency] uuid: 60b782f7-828f-4853-8f52-378416d9509b>}\n",
      "{'metric': 'matching', 'pseudocount': 1, 'n_jobs': 6, 'table': 978 x 12 <class 'biom.table.Table'> with 1969 nonzero entries (16% dense)}\n",
      "{'metric': 'matching', 'pseudocount': 1, 'n_jobs': 6, 'table': 978 x 12 <class 'biom.table.Table'> with 1969 nonzero entries (16% dense)}\n",
      "DONE: Calculating beta diversity: matching\n",
      "Calculating beta diversity: jaccard\n"
     ]
    },
    {
     "name": "stdout",
     "output_type": "stream",
     "text": [
      "{'metric': 'jaccard', 'pseudocount': 1, 'n_jobs': 6, 'table': <artifact: FeatureTable[Frequency] uuid: 60b782f7-828f-4853-8f52-378416d9509b>}\n",
      "{'n_jobs': 6, 'table': 978 x 12 <class 'biom.table.Table'> with 1969 nonzero entries (16% dense)}\n",
      "{'n_jobs': 6, 'table': 978 x 12 <class 'biom.table.Table'> with 1969 nonzero entries (16% dense)}\n",
      "DONE: Calculating beta diversity: jaccard\n"
     ]
    },
    {
     "name": "stderr",
     "output_type": "stream",
     "text": [
      "/home/lauro/anaconda3/envs/qiime2-2022.2/lib/python3.8/site-packages/sklearn/metrics/pairwise.py:1761: DataConversionWarning: Data was converted to boolean for metric matching\n",
      "  warnings.warn(msg, DataConversionWarning)\n",
      "/home/lauro/anaconda3/envs/qiime2-2022.2/lib/python3.8/site-packages/sklearn/metrics/pairwise.py:1761: DataConversionWarning: Data was converted to boolean for metric jaccard\n",
      "  warnings.warn(msg, DataConversionWarning)\n"
     ]
    }
   ],
   "source": [
    "metrics = ('aitchison', 'braycurtis', 'canberra', 'canberra_adkins', 'chebyshev', 'cityblock', 'correlation', 'cosine', 'dice', 'euclidean', 'hamming', 'jaccard', 'jensenshannon', 'kulsinski', 'matching', 'minkowski', 'rogerstanimoto', 'russellrao', 'seuclidean', 'sokalmichener', 'sokalsneath', 'sqeuclidean', 'yule')\n",
    "metrics = ('euclidean', 'dice', 'braycurtis', 'correlation', 'cosine', 'matching', 'jaccard')\n",
    "beta_diversities = dict()\n",
    "for metric in metrics:\n",
    "    print(f\"Calculating beta diversity: {metric}\")\n",
    "    try:\n",
    "        beta_diversity = beta(table=tabs, metric=metric, n_jobs=6, pseudocount=1).distance_matrix\n",
    "        beta_diversities[metric] = beta_diversity\n",
    "        # Save SampleData[BetaDiversity] Artifact\n",
    "        file_path = os.path.join(beta_path, f'beta-values-{metric}.qza')\n",
    "        beta_diversity.save(file_path)\n",
    "        print(f\"DONE: Calculating beta diversity: {metric}\")\n",
    "    except Exception as e:\n",
    "        print(f\"ERROR: Calculating beta diversity: {metric}\")"
   ]
  },
  {
   "cell_type": "markdown",
   "id": "200a2fa7",
   "metadata": {
    "papermill": {
     "duration": 0.033264,
     "end_time": "2023-09-14T15:16:51.426965",
     "exception": false,
     "start_time": "2023-09-14T15:16:51.393701",
     "status": "completed"
    },
    "tags": []
   },
   "source": [
    "### Beta group significance\n",
    "\n",
    "- [diversity beta_group_significance](https://docs.qiime2.org/2022.8/plugins/available/diversity/beta-group-significance/): Determine whether groups of samples are significantly different from one another using a permutation-based statistical test.\n",
    "- Marti J Anderson. A new method for non-parametric multivariate analysis of variance. Austral ecology, 26(1):32–46, 2001. doi:https://doi.org/10.1111/j.1442-9993.2001.01070.pp.x."
   ]
  },
  {
   "cell_type": "code",
   "execution_count": 18,
   "id": "b8dd42b6",
   "metadata": {
    "ExecuteTime": {
     "end_time": "2022-09-29T20:55:08.313860Z",
     "start_time": "2022-09-29T20:54:36.336993Z"
    },
    "execution": {
     "iopub.execute_input": "2023-09-14T15:16:51.494188Z",
     "iopub.status.busy": "2023-09-14T15:16:51.493587Z",
     "iopub.status.idle": "2023-09-14T15:17:30.763651Z",
     "shell.execute_reply": "2023-09-14T15:17:30.762973Z"
    },
    "papermill": {
     "duration": 39.309456,
     "end_time": "2023-09-14T15:17:30.769020",
     "exception": false,
     "start_time": "2023-09-14T15:16:51.459564",
     "status": "completed"
    },
    "tags": []
   },
   "outputs": [
    {
     "name": "stdout",
     "output_type": "stream",
     "text": [
      "Calculating beta group significance with method permanova and metric euclidean\n",
      "{'metadata': <CategoricalMetadataColumn name='group-id' id_count=12>, 'method': 'permanova', 'pairwise': True, 'permutations': 999, 'distance_matrix': <skbio.stats.distance._base.DistanceMatrix object at 0x7f5c66e55b80>}\n"
     ]
    },
    {
     "name": "stdout",
     "output_type": "stream",
     "text": [
      "DONE: Calculating beta group significance: permanova euclidean\n",
      "Calculating beta group significance with method permanova and metric dice\n",
      "{'metadata': <CategoricalMetadataColumn name='group-id' id_count=12>, 'method': 'permanova', 'pairwise': True, 'permutations': 999, 'distance_matrix': <skbio.stats.distance._base.DistanceMatrix object at 0x7f5c47c0dbb0>}\n"
     ]
    },
    {
     "name": "stdout",
     "output_type": "stream",
     "text": [
      "DONE: Calculating beta group significance: permanova dice\n",
      "Calculating beta group significance with method permanova and metric braycurtis\n",
      "{'metadata': <CategoricalMetadataColumn name='group-id' id_count=12>, 'method': 'permanova', 'pairwise': True, 'permutations': 999, 'distance_matrix': <skbio.stats.distance._base.DistanceMatrix object at 0x7f5c47b2a040>}\n"
     ]
    },
    {
     "name": "stdout",
     "output_type": "stream",
     "text": [
      "DONE: Calculating beta group significance: permanova braycurtis\n",
      "Calculating beta group significance with method permanova and metric matching\n",
      "{'metadata': <CategoricalMetadataColumn name='group-id' id_count=12>, 'method': 'permanova', 'pairwise': True, 'permutations': 999, 'distance_matrix': <skbio.stats.distance._base.DistanceMatrix object at 0x7f5c6a1727c0>}\n"
     ]
    },
    {
     "name": "stdout",
     "output_type": "stream",
     "text": [
      "DONE: Calculating beta group significance: permanova matching\n",
      "Calculating beta group significance with method permanova and metric jaccard\n",
      "{'metadata': <CategoricalMetadataColumn name='group-id' id_count=12>, 'method': 'permanova', 'pairwise': True, 'permutations': 999, 'distance_matrix': <skbio.stats.distance._base.DistanceMatrix object at 0x7f5c47b45040>}\n"
     ]
    },
    {
     "name": "stdout",
     "output_type": "stream",
     "text": [
      "DONE: Calculating beta group significance: permanova jaccard\n",
      "Calculating beta group significance with method anosim and metric euclidean\n",
      "{'metadata': <CategoricalMetadataColumn name='group-id' id_count=12>, 'method': 'anosim', 'pairwise': True, 'permutations': 999, 'distance_matrix': <skbio.stats.distance._base.DistanceMatrix object at 0x7f5c6a20c700>}\n"
     ]
    },
    {
     "name": "stdout",
     "output_type": "stream",
     "text": [
      "DONE: Calculating beta group significance: anosim euclidean\n",
      "Calculating beta group significance with method anosim and metric dice\n",
      "{'metadata': <CategoricalMetadataColumn name='group-id' id_count=12>, 'method': 'anosim', 'pairwise': True, 'permutations': 999, 'distance_matrix': <skbio.stats.distance._base.DistanceMatrix object at 0x7f5c6afbdd60>}\n"
     ]
    },
    {
     "name": "stdout",
     "output_type": "stream",
     "text": [
      "DONE: Calculating beta group significance: anosim dice\n",
      "Calculating beta group significance with method anosim and metric braycurtis\n",
      "{'metadata': <CategoricalMetadataColumn name='group-id' id_count=12>, 'method': 'anosim', 'pairwise': True, 'permutations': 999, 'distance_matrix': <skbio.stats.distance._base.DistanceMatrix object at 0x7f5c6b52ed00>}\n"
     ]
    },
    {
     "name": "stdout",
     "output_type": "stream",
     "text": [
      "DONE: Calculating beta group significance: anosim braycurtis\n",
      "Calculating beta group significance with method anosim and metric matching\n",
      "{'metadata': <CategoricalMetadataColumn name='group-id' id_count=12>, 'method': 'anosim', 'pairwise': True, 'permutations': 999, 'distance_matrix': <skbio.stats.distance._base.DistanceMatrix object at 0x7f5c6ac8f340>}\n"
     ]
    },
    {
     "name": "stdout",
     "output_type": "stream",
     "text": [
      "DONE: Calculating beta group significance: anosim matching\n",
      "Calculating beta group significance with method anosim and metric jaccard\n",
      "{'metadata': <CategoricalMetadataColumn name='group-id' id_count=12>, 'method': 'anosim', 'pairwise': True, 'permutations': 999, 'distance_matrix': <skbio.stats.distance._base.DistanceMatrix object at 0x7f5c6a8d2b80>}\n"
     ]
    },
    {
     "name": "stdout",
     "output_type": "stream",
     "text": [
      "DONE: Calculating beta group significance: anosim jaccard\n",
      "Calculating beta group significance with method permdisp and metric euclidean\n",
      "{'metadata': <CategoricalMetadataColumn name='group-id' id_count=12>, 'method': 'permdisp', 'pairwise': True, 'permutations': 999, 'distance_matrix': <skbio.stats.distance._base.DistanceMatrix object at 0x7f5c6a7b3b50>}\n"
     ]
    },
    {
     "name": "stdout",
     "output_type": "stream",
     "text": [
      "DONE: Calculating beta group significance: permdisp euclidean\n",
      "Calculating beta group significance with method permdisp and metric dice\n",
      "{'metadata': <CategoricalMetadataColumn name='group-id' id_count=12>, 'method': 'permdisp', 'pairwise': True, 'permutations': 999, 'distance_matrix': <skbio.stats.distance._base.DistanceMatrix object at 0x7f5c6a757af0>}\n"
     ]
    },
    {
     "name": "stdout",
     "output_type": "stream",
     "text": [
      "DONE: Calculating beta group significance: permdisp dice\n",
      "Calculating beta group significance with method permdisp and metric braycurtis\n",
      "{'metadata': <CategoricalMetadataColumn name='group-id' id_count=12>, 'method': 'permdisp', 'pairwise': True, 'permutations': 999, 'distance_matrix': <skbio.stats.distance._base.DistanceMatrix object at 0x7f5c6a193b50>}\n"
     ]
    },
    {
     "name": "stdout",
     "output_type": "stream",
     "text": [
      "DONE: Calculating beta group significance: permdisp braycurtis\n",
      "Calculating beta group significance with method permdisp and metric matching\n",
      "{'metadata': <CategoricalMetadataColumn name='group-id' id_count=12>, 'method': 'permdisp', 'pairwise': True, 'permutations': 999, 'distance_matrix': <skbio.stats.distance._base.DistanceMatrix object at 0x7f5c6a181160>}\n"
     ]
    },
    {
     "name": "stderr",
     "output_type": "stream",
     "text": [
      "/home/lauro/anaconda3/envs/qiime2-2022.2/lib/python3.8/site-packages/skbio/stats/ordination/_principal_coordinate_analysis.py:143: RuntimeWarning: The result contains negative eigenvalues. Please compare their magnitude with the magnitude of some of the largest positive eigenvalues. If the negative ones are smaller, it's probably safe to ignore them, but if they are large in magnitude, the results won't be useful. See the Notes section for more details. The smallest eigenvalue is -0.000864678986043066 and the largest is 0.1917440731273992.\n",
      "  warn(\n"
     ]
    },
    {
     "name": "stderr",
     "output_type": "stream",
     "text": [
      "/home/lauro/anaconda3/envs/qiime2-2022.2/lib/python3.8/site-packages/skbio/stats/ordination/_principal_coordinate_analysis.py:143: RuntimeWarning: The result contains negative eigenvalues. Please compare their magnitude with the magnitude of some of the largest positive eigenvalues. If the negative ones are smaller, it's probably safe to ignore them, but if they are large in magnitude, the results won't be useful. See the Notes section for more details. The smallest eigenvalue is -0.000864678986043066 and the largest is 0.1917440731273992.\n",
      "  warn(\n"
     ]
    },
    {
     "name": "stdout",
     "output_type": "stream",
     "text": [
      "DONE: Calculating beta group significance: permdisp matching\n",
      "Calculating beta group significance with method permdisp and metric jaccard\n",
      "{'metadata': <CategoricalMetadataColumn name='group-id' id_count=12>, 'method': 'permdisp', 'pairwise': True, 'permutations': 999, 'distance_matrix': <skbio.stats.distance._base.DistanceMatrix object at 0x7f5c6a03d5b0>}\n"
     ]
    },
    {
     "name": "stdout",
     "output_type": "stream",
     "text": [
      "DONE: Calculating beta group significance: permdisp jaccard\n"
     ]
    },
    {
     "data": {
      "text/plain": [
       "<Figure size 432x288 with 0 Axes>"
      ]
     },
     "metadata": {},
     "output_type": "display_data"
    }
   ],
   "source": [
    "methods = ('permanova', 'anosim', 'permdisp')\n",
    "for method in methods:\n",
    "    for metric, beta_diversity in beta_diversities.items():\n",
    "        print(f'Calculating beta group significance with method {method} and metric {metric}')\n",
    "        try:\n",
    "            beta_view = beta_group_significance(distance_matrix=beta_diversity, \n",
    "                                                metadata=metadata_qa.get_column(class_col), \n",
    "                                                pairwise=True, method=method).visualization\n",
    "            view_name = os.path.join(beta_path, f'beta-group-significance-{metric}-{method}.qzv')\n",
    "            beta_view.save(view_name)\n",
    "            print(f\"DONE: Calculating beta group significance: {method} {metric}\")\n",
    "        except Exception as e:\n",
    "            print(f\"ERROR: Calculating beta group significance: {method} {metric}\")"
   ]
  },
  {
   "cell_type": "markdown",
   "id": "c0de85cf",
   "metadata": {
    "papermill": {
     "duration": 0.042578,
     "end_time": "2023-09-14T15:17:30.858504",
     "exception": false,
     "start_time": "2023-09-14T15:17:30.815926",
     "status": "completed"
    },
    "tags": []
   },
   "source": [
    "### Beta group Rarefaction\n",
    "\n",
    "- [diversity beta_rarefaction](https://docs.qiime2.org/2022.8/plugins/available/diversity/beta-rarefaction/): Repeatedly rarefy a feature table to compare beta diversity results within a given rarefaction depth.  For a given beta diversity metric, this visualizer will provide: an Emperor jackknifed PCoA plot, samples clustered by UPGMA or neighbor joining with support calculation, and a heatmap showing the correlation between rarefaction trials of that beta diversity metric."
   ]
  }
 ],
 "metadata": {
  "celltoolbar": "Edit Metadata",
  "kernelspec": {
   "display_name": "Python 3 (ipykernel)",
   "language": "python",
   "name": "python3"
  },
  "language_info": {
   "codemirror_mode": {
    "name": "ipython",
    "version": 3
   },
   "file_extension": ".py",
   "mimetype": "text/x-python",
   "name": "python",
   "nbconvert_exporter": "python",
   "pygments_lexer": "ipython3",
   "version": "3.8.12"
  },
  "papermill": {
   "default_parameters": {},
   "duration": 73.310904,
   "end_time": "2023-09-14T15:17:31.826426",
   "environment_variables": {},
   "exception": null,
   "input_path": "microbiom/nb-templates/step-diversity-analysis.ipynb",
   "output_path": "/home/lauro/nupeb/rede-micro/redemicro-ana-flavia-nutri/experiments/ana-flavia-NRxSTD-NR-trim/nb-executed-steps/step-diversity-analysis-ana-flavia-NRxSTD-NR-trim.ipynb",
   "parameters": {
    "base_dir": "/home/lauro/nupeb/rede-micro/redemicro-ana-flavia-nutri",
    "class_col": "group-id",
    "classifier_file": "/home/lauro/nupeb/rede-micro/models/silva-138-99-nb-classifier.qza",
    "experiment_name": "ana-flavia-NRxSTD-NR-trim",
    "manifest_file": "/home/lauro/nupeb/rede-micro/redemicro-ana-flavia-nutri/data/raw/manifest/manifest-ana-flavia-NRxSTD-NR.csv",
    "metadata_file": "/home/lauro/nupeb/rede-micro/redemicro-ana-flavia-nutri/data/raw/metadata/metadata-ana-flavia-NRxSTD-NR.tsv",
    "overlap": 12,
    "phred": 20,
    "replace_files": false,
    "threads": 6,
    "top_n": 20,
    "trim": {
     "forward_primer": "CCTACGGGRSGCAGCAG",
     "overlap": 8,
     "reverse_primer": "GGACTACHVGGGTWTCTAAT"
    },
    "trunc_f": 0,
    "trunc_r": 0
   },
   "start_time": "2023-09-14T15:16:18.515522",
   "version": "2.3.4"
  }
 },
 "nbformat": 4,
 "nbformat_minor": 5
}