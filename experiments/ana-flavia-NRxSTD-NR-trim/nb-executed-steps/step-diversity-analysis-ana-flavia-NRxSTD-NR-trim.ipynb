{
 "cells": [
  {
   "cell_type": "markdown",
   "id": "15bcfa06",
   "metadata": {
    "papermill": {
     "duration": 0.02549,
     "end_time": "2023-06-07T13:21:34.532905",
     "exception": false,
     "start_time": "2023-06-07T13:21:34.507415",
     "status": "completed"
    },
    "tags": []
   },
   "source": [
    " \n",
    "# Alpha and Beta Diversity\n",
    "\n",
    "Different higher-level measures are often used to describe the microbiome in a sample. These do not provide information on changes in the abundance of specific taxa but allow us to access a broader change or difference in the composition of microorganisms. Alpha and beta diversity are examples of such measures.\n",
    "\n",
    "Different measures exist to estimate diversity within a single sample, jointly called alpha diversity. The different measures reflect the richness (number) or distribution (evenness) of a microbial sample or aim to reflect a combination of both properties.\n",
    "\n",
    "Rarefaction curves are often used when calculating alpha diversity indices because increasing numbers of sequenced taxa allow increasingly accurate estimates of total population diversity. Rarefaction curves can therefore be used to estimate the full sample richness, as compared to the observed sample richness.\n",
    "\n",
    "While alpha diversity is a measure of microbiome diversity applicable to a single sample, beta diversity is a measure of the similarity or dissimilarity of two communities. As for alpha diversity, many indices exist, each reflecting different aspects of community heterogeneity. Key differences relate to how the indices value variation in rare species if they consider presence/absence only or incorporate abundance, and how they interpret shared absence. Bray-Curtis dissimilarity is a popular measure that considers both size (overall abundance per sample) and shape (abundance of each taxon) of the communities (Bray, 1957). Beta diversity is an essential measure for many popular statistical methods in ecology, such as ordination-based methods, and is widely used for studying the association between environmental variables and microbial composition.\n",
    "\n",
    "In summary, alpha diversity measures can be seen as a summary statistic of a single population (within-sample diversity), while beta diversity measures are estimates of similarity or dissimilarity between populations (between samples).\n",
    "\n",
    "**Source**: (https://biomcare.com/info/key-terms-in-microbiome-projects/)"
   ]
  },
  {
   "cell_type": "markdown",
   "id": "0e7f2330",
   "metadata": {
    "ExecuteTime": {
     "end_time": "2022-09-22T19:36:33.828188Z",
     "start_time": "2022-09-22T19:36:33.817323Z"
    },
    "papermill": {
     "duration": 0.028884,
     "end_time": "2023-06-07T13:21:34.579361",
     "exception": false,
     "start_time": "2023-06-07T13:21:34.550477",
     "status": "completed"
    },
    "tags": []
   },
   "source": [
    "### STEP : Diversity Analysis\n",
    "\n",
    "Using QIIME2 to create diversity analisys graphs and calculations.\n",
    "\n",
    "- [QIIME2 Workflow Overview](https://docs.qiime2.org/2022.8/tutorials/overview/)\n",
    "\n",
    "\n",
    "#### Methods\n",
    "- [diversity](https://docs.qiime2.org/2022.8/plugins/available/diversity/)\n",
    "- [diversity alpha](https://docs.qiime2.org/2022.8/plugins/available/diversity/alpha/)\n",
    "- [diversity alpha_phylogenetic](https://docs.qiime2.org/2022.8/plugins/available/diversity/alpha-phylogenetic/)\n",
    "- [diversity beta](https://docs.qiime2.org/2022.8/plugins/available/diversity/beta/)\n",
    "- [diversity core_metrics](https://docs.qiime2.org/2022.8/plugins/available/diversity/core-metrics/)\n",
    "- [diversity alpha_group_significance](https://docs.qiime2.org/2022.8/plugins/available/diversity/alpha-group-significance/)\n",
    "- [diversity beta_group_significance](https://docs.qiime2.org/2022.8/plugins/available/diversity/beta-group-significance/)\n",
    "- [feature_table core_features](https://docs.qiime2.org/2022.8/plugins/available/feature-table/core-features/)\n",
    "- [feature_table summarize](https://docs.qiime2.org/2022.8/plugins/available/feature-table/summarize/)\n",
    "- [taxa filter-table](https://docs.qiime2.org/2022.8/plugins/available/taxa/filter-table/)\n",
    "- [taxa collapse](https://docs.qiime2.org/2022.8/plugins/available/taxa/collapse/)"
   ]
  },
  {
   "cell_type": "markdown",
   "id": "843debbf",
   "metadata": {
    "papermill": {
     "duration": 0.015815,
     "end_time": "2023-06-07T13:21:34.611379",
     "exception": false,
     "start_time": "2023-06-07T13:21:34.595564",
     "status": "completed"
    },
    "tags": []
   },
   "source": [
    "## Setup and settings"
   ]
  },
  {
   "cell_type": "code",
   "execution_count": 1,
   "id": "965e28e5",
   "metadata": {
    "ExecuteTime": {
     "end_time": "2023-06-07T14:25:19.048940Z",
     "start_time": "2023-06-07T14:25:12.687625Z"
    },
    "execution": {
     "iopub.execute_input": "2023-06-07T13:21:34.644615Z",
     "iopub.status.busy": "2023-06-07T13:21:34.644085Z",
     "iopub.status.idle": "2023-06-07T13:21:41.162608Z",
     "shell.execute_reply": "2023-06-07T13:21:41.161977Z"
    },
    "papermill": {
     "duration": 6.538797,
     "end_time": "2023-06-07T13:21:41.165847",
     "exception": false,
     "start_time": "2023-06-07T13:21:34.627050",
     "status": "completed"
    },
    "tags": []
   },
   "outputs": [],
   "source": [
    "# Importing packages\n",
    "import os\n",
    "import pandas as pd\n",
    "from qiime2 import Artifact\n",
    "from qiime2 import Visualization\n",
    "from qiime2 import Metadata\n",
    "\n",
    "from qiime2.plugins.phylogeny.pipelines import align_to_tree_mafft_fasttree\n",
    "\n",
    "from qiime2.plugins.diversity.pipelines import alpha\n",
    "from qiime2.plugins.diversity.pipelines import beta\n",
    "from qiime2.plugins.diversity.pipelines import core_metrics\n",
    "from qiime2.plugins.diversity.pipelines import alpha_phylogenetic\n",
    "\n",
    "from qiime2.plugins.diversity.visualizers import alpha_group_significance\n",
    "from qiime2.plugins.diversity.visualizers import beta_group_significance\n",
    "from qiime2.plugins.diversity.visualizers import alpha_correlation\n",
    "from qiime2.plugins.diversity.visualizers import beta_rarefaction\n",
    "\n",
    "from qiime2.plugins.taxa.methods import filter_table\n",
    "from qiime2.plugins.taxa.methods import collapse\n",
    "\n",
    "from qiime2.plugins.feature_table.visualizers import tabulate_seqs\n",
    "from qiime2.plugins.feature_table.visualizers import summarize\n",
    "from qiime2.plugins.feature_table.visualizers import core_features\n",
    "\n",
    "from qiime2.plugins.alignment.methods import mafft\n",
    "\n",
    "\n",
    "import matplotlib.pyplot as plt\n",
    "\n",
    "%matplotlib inline"
   ]
  },
  {
   "cell_type": "markdown",
   "id": "530ceb60",
   "metadata": {
    "papermill": {
     "duration": 0.015413,
     "end_time": "2023-06-07T13:21:41.202462",
     "exception": false,
     "start_time": "2023-06-07T13:21:41.187049",
     "status": "completed"
    },
    "tags": []
   },
   "source": [
    "### Receiving the parameters\n",
    "\n",
    "The following cell can receive parameters using the [papermill](https://papermill.readthedocs.io/en/latest/) tool."
   ]
  },
  {
   "cell_type": "code",
   "execution_count": 2,
   "id": "18d874ea",
   "metadata": {
    "ExecuteTime": {
     "end_time": "2023-06-07T14:25:19.054403Z",
     "start_time": "2023-06-07T14:25:19.051332Z"
    },
    "execution": {
     "iopub.execute_input": "2023-06-07T13:21:41.248500Z",
     "iopub.status.busy": "2023-06-07T13:21:41.248225Z",
     "iopub.status.idle": "2023-06-07T13:21:41.252253Z",
     "shell.execute_reply": "2023-06-07T13:21:41.251603Z"
    },
    "papermill": {
     "duration": 0.02187,
     "end_time": "2023-06-07T13:21:41.253840",
     "exception": false,
     "start_time": "2023-06-07T13:21:41.231970",
     "status": "completed"
    },
    "tags": [
     "parameters"
    ]
   },
   "outputs": [],
   "source": [
    "base_dir = os.path.join('/', 'home')\n",
    "metadata_file = os.path.abspath(os.path.join(base_dir, 'data', 'metadatada.tsv'))\n",
    "experiment_name = ''\n",
    "class_col = ''\n",
    "replace_files = False"
   ]
  },
  {
   "cell_type": "code",
   "execution_count": 3,
   "id": "5667474e",
   "metadata": {
    "ExecuteTime": {
     "end_time": "2023-06-07T14:25:19.080432Z",
     "start_time": "2023-06-07T14:25:19.055756Z"
    },
    "execution": {
     "iopub.execute_input": "2023-06-07T13:21:41.285779Z",
     "iopub.status.busy": "2023-06-07T13:21:41.285535Z",
     "iopub.status.idle": "2023-06-07T13:21:41.290303Z",
     "shell.execute_reply": "2023-06-07T13:21:41.289775Z"
    },
    "papermill": {
     "duration": 0.022153,
     "end_time": "2023-06-07T13:21:41.291829",
     "exception": false,
     "start_time": "2023-06-07T13:21:41.269676",
     "status": "completed"
    },
    "tags": [
     "injected-parameters"
    ]
   },
   "outputs": [],
   "source": [
    "# Parameters\n",
    "experiment_name = \"ana-flavia-NRxSTD-NR-trim\"\n",
    "base_dir = \"/home/lauro/nupeb/rede-micro/redemicro-ana-flavia-nutri\"\n",
    "manifest_file = \"/home/lauro/nupeb/rede-micro/redemicro-ana-flavia-nutri/data/raw/manifest/manifest-ana-flavia-NRxSTD-NR.csv\"\n",
    "metadata_file = \"/home/lauro/nupeb/rede-micro/redemicro-ana-flavia-nutri/data/raw/metadata/metadata-ana-flavia-NRxSTD-NR.tsv\"\n",
    "class_col = \"group-id\"\n",
    "classifier_file = \"/home/lauro/nupeb/rede-micro/models/silva-138-99-nb-classifier.qza\"\n",
    "top_n = 20\n",
    "replace_files = False\n",
    "phred = 20\n",
    "trunc_f = 0\n",
    "trunc_r = 0\n",
    "overlap = 12\n",
    "threads = 6\n",
    "trim = {\n",
    "    \"overlap\": 8,\n",
    "    \"forward_primer\": \"CCTACGGGRSGCAGCAG\",\n",
    "    \"reverse_primer\": \"GGACTACHVGGGTWTCTAAT\",\n",
    "}\n"
   ]
  },
  {
   "cell_type": "code",
   "execution_count": 4,
   "id": "f38617d9",
   "metadata": {
    "ExecuteTime": {
     "end_time": "2023-06-07T14:25:19.093179Z",
     "start_time": "2023-06-07T14:25:19.083009Z"
    },
    "execution": {
     "iopub.execute_input": "2023-06-07T13:21:41.325211Z",
     "iopub.status.busy": "2023-06-07T13:21:41.324889Z",
     "iopub.status.idle": "2023-06-07T13:21:41.329611Z",
     "shell.execute_reply": "2023-06-07T13:21:41.328842Z"
    },
    "papermill": {
     "duration": 0.023131,
     "end_time": "2023-06-07T13:21:41.331297",
     "exception": false,
     "start_time": "2023-06-07T13:21:41.308166",
     "status": "completed"
    },
    "tags": []
   },
   "outputs": [],
   "source": [
    "experiment_folder = os.path.abspath(os.path.join(base_dir, 'experiments', experiment_name))\n",
    "img_folder = os.path.abspath(os.path.join(experiment_folder, 'imgs'))"
   ]
  },
  {
   "cell_type": "markdown",
   "id": "ea9b90fb",
   "metadata": {
    "papermill": {
     "duration": 0.015449,
     "end_time": "2023-06-07T13:21:41.363209",
     "exception": false,
     "start_time": "2023-06-07T13:21:41.347760",
     "status": "completed"
    },
    "tags": []
   },
   "source": [
    "### Defining names, paths and flags"
   ]
  },
  {
   "cell_type": "code",
   "execution_count": 5,
   "id": "45727eef",
   "metadata": {
    "ExecuteTime": {
     "end_time": "2023-06-07T14:25:19.138187Z",
     "start_time": "2023-06-07T14:25:19.094623Z"
    },
    "execution": {
     "iopub.execute_input": "2023-06-07T13:21:41.395125Z",
     "iopub.status.busy": "2023-06-07T13:21:41.394790Z",
     "iopub.status.idle": "2023-06-07T13:21:41.404552Z",
     "shell.execute_reply": "2023-06-07T13:21:41.403738Z"
    },
    "papermill": {
     "duration": 0.027552,
     "end_time": "2023-06-07T13:21:41.406110",
     "exception": false,
     "start_time": "2023-06-07T13:21:41.378558",
     "status": "completed"
    },
    "tags": []
   },
   "outputs": [],
   "source": [
    "# QIIME2 Artifacts folder\n",
    "qiime_folder = os.path.join(experiment_folder, 'qiime-artifacts')\n",
    "\n",
    "# Input - DADA2 Artifacts\n",
    "dada2_tabs_path = os.path.join(qiime_folder, 'dada2-tabs.qza')\n",
    "dada2_reps_path = os.path.join(qiime_folder, 'dada2-reps.qza')\n",
    "dada2_stat_path = os.path.join(qiime_folder, 'dada2-stat.qza')\n",
    "\n",
    "# Input - Taxonaomic Artifacts\n",
    "taxonomy_path = os.path.join(qiime_folder, 'metatax.qza')\n",
    "\n",
    "# Create folder to store Alpha files\n",
    "alpha_path = os.path.join(qiime_folder, 'alpha-analysis')\n",
    "if not os.path.exists(alpha_path):\n",
    "    os.makedirs(alpha_path)\n",
    "    print(f'The new directory is created in {alpha_path}')\n",
    "    \n",
    "# Create folder to store Beta files\n",
    "beta_path = os.path.join(qiime_folder, 'beta-analysis')\n",
    "if not os.path.exists(beta_path):\n",
    "    os.makedirs(beta_path)\n",
    "    print(f'The new directory is created in {beta_path}')\n",
    "\n",
    "# Output -Diversity Artifacts\n",
    "alpha_diversity_path = os.path.join(alpha_path, 'alpha-diversity.qza')\n",
    "alpha_diversity_view_path = os.path.join(alpha_path, 'alpha-diversity.qzv')\n",
    "beta_diversity_path = os.path.join(beta_path, 'beta-diversity.qza')\n",
    "beta_diversity_view_path = os.path.join(beta_path, 'beta-diversity.qzv')"
   ]
  },
  {
   "cell_type": "code",
   "execution_count": 6,
   "id": "601ae263",
   "metadata": {
    "ExecuteTime": {
     "end_time": "2023-06-07T14:25:19.150962Z",
     "start_time": "2023-06-07T14:25:19.140399Z"
    },
    "execution": {
     "iopub.execute_input": "2023-06-07T13:21:41.443080Z",
     "iopub.status.busy": "2023-06-07T13:21:41.442866Z",
     "iopub.status.idle": "2023-06-07T13:21:41.448277Z",
     "shell.execute_reply": "2023-06-07T13:21:41.447801Z"
    },
    "papermill": {
     "duration": 0.024611,
     "end_time": "2023-06-07T13:21:41.449967",
     "exception": false,
     "start_time": "2023-06-07T13:21:41.425356",
     "status": "completed"
    },
    "tags": []
   },
   "outputs": [],
   "source": [
    "def filter_and_collapse(tab, seqs, tax, meta, lvl, exclude=True, exclude_list='uncultured,unidentified,metagenome'):\n",
    "    from qiime2.plugins.taxa.methods import collapse\n",
    "    from qiime2.plugins.taxa.methods import filter_table\n",
    "    from qiime2.plugins.feature_table.methods import filter_seqs\n",
    "    from qiime2.plugins.feature_table.visualizers import summarize\n",
    "    \n",
    "    to_include = ('d', 'p', 'c', 'o', 'f', 'g', 's')[lvl-1]\n",
    "    to_include += '__'\n",
    "    to_exclude = exclude_list if exclude else None\n",
    "    \n",
    "    filtered_tabs = filter_table(\n",
    "        table=tab, \n",
    "        taxonomy=tax,\n",
    "        include=to_include,\n",
    "        exclude=to_exclude,\n",
    "        mode='contains').filtered_table\n",
    "    \n",
    "    filtered_seqs = filter_seqs(\n",
    "        data = seqs,\n",
    "        table = filtered_tabs,\n",
    "    ).filtered_data\n",
    "    \n",
    "    collapsed_table = collapse(table=filtered_tabs, taxonomy=tax, level=lvl).collapsed_table\n",
    "    collapsed_table_view = summarize(table=collapsed_table, sample_metadata=meta).visualization\n",
    "    \n",
    "    return collapsed_table, collapsed_table_view, filtered_seqs"
   ]
  },
  {
   "cell_type": "markdown",
   "id": "0999a1b2",
   "metadata": {
    "papermill": {
     "duration": 0.015322,
     "end_time": "2023-06-07T13:21:41.483157",
     "exception": false,
     "start_time": "2023-06-07T13:21:41.467835",
     "status": "completed"
    },
    "tags": []
   },
   "source": [
    "## Step execution\n",
    "\n",
    "### Load input files\n",
    "\n",
    "This Step import the QIIME2 `FeatureTable[Frequency]` Artifact and the `Metadata` file."
   ]
  },
  {
   "cell_type": "code",
   "execution_count": 7,
   "id": "8f299d1a",
   "metadata": {
    "ExecuteTime": {
     "end_time": "2023-06-07T14:25:19.626193Z",
     "start_time": "2023-06-07T14:25:19.152793Z"
    },
    "execution": {
     "iopub.execute_input": "2023-06-07T13:21:41.517267Z",
     "iopub.status.busy": "2023-06-07T13:21:41.516911Z",
     "iopub.status.idle": "2023-06-07T13:21:41.911274Z",
     "shell.execute_reply": "2023-06-07T13:21:41.910679Z"
    },
    "papermill": {
     "duration": 0.414391,
     "end_time": "2023-06-07T13:21:41.913610",
     "exception": false,
     "start_time": "2023-06-07T13:21:41.499219",
     "status": "completed"
    },
    "tags": []
   },
   "outputs": [],
   "source": [
    "#Load Metadata\n",
    "metadata_qa = Metadata.load(metadata_file)\n",
    "\n",
    "#Load FeatureTable[Frequency]\n",
    "tabs = Artifact.load(dada2_tabs_path)\n",
    "tabs_df = tabs.view(Metadata).to_dataframe().T\n",
    "\n",
    "# FeatureData[Sequence]\n",
    "reps = Artifact.load(dada2_reps_path)\n",
    "\n",
    "# FeatureData[Taxonomy]\n",
    "tax = Artifact.load(taxonomy_path)"
   ]
  },
  {
   "cell_type": "code",
   "execution_count": 8,
   "id": "c8dfe530",
   "metadata": {
    "ExecuteTime": {
     "end_time": "2023-06-07T14:25:19.631976Z",
     "start_time": "2023-06-07T14:25:19.628850Z"
    },
    "execution": {
     "iopub.execute_input": "2023-06-07T13:21:41.955501Z",
     "iopub.status.busy": "2023-06-07T13:21:41.955288Z",
     "iopub.status.idle": "2023-06-07T13:21:41.958073Z",
     "shell.execute_reply": "2023-06-07T13:21:41.957431Z"
    },
    "papermill": {
     "duration": 0.02312,
     "end_time": "2023-06-07T13:21:41.959752",
     "exception": false,
     "start_time": "2023-06-07T13:21:41.936632",
     "status": "completed"
    },
    "tags": []
   },
   "outputs": [],
   "source": [
    "# lvl = 7\n",
    "# exclude = True\n",
    "# tabs, collapsed_table_view, reps = filter_and_collapse(\n",
    "#                     tabs, reps, tax, metadata_qa, \n",
    "#                     lvl=lvl,\n",
    "#                     exclude=exclude, \n",
    "#                     exclude_list='uncultured,unidentified,metagenome')\n",
    "# collapsed_table_view"
   ]
  },
  {
   "cell_type": "markdown",
   "id": "9f43843a",
   "metadata": {
    "ExecuteTime": {
     "end_time": "2022-09-22T22:48:07.523952Z",
     "start_time": "2022-09-22T22:48:07.517565Z"
    },
    "papermill": {
     "duration": 0.015469,
     "end_time": "2023-06-07T13:21:41.991166",
     "exception": false,
     "start_time": "2023-06-07T13:21:41.975697",
     "status": "completed"
    },
    "tags": []
   },
   "source": [
    "## Alpha diversity analysis\n",
    "\n",
    "#### Reference\n",
    "- [The Use and Types of Alpha-Diversity Metrics in Microbial NGS](https://www.cd-genomics.com/microbioseq/the-use-and-types-of-alpha-diversity-metrics-in-microbial-ngs.html)\n",
    "- [Alpha diversity metrics](http://scikit-bio.org/docs/0.2.0/generated/skbio.diversity.alpha.html)\n",
    "\n",
    "#### Methods\n",
    "- [diversity alpha](https://docs.qiime2.org/2022.8/plugins/available/diversity/alpha/): Computes a user-specified alpha diversity metric for all samples in a\n",
    "feature table.\n",
    "- [diversity alpha_phylogenetic](https://docs.qiime2.org/2022.8/plugins/available/diversity/alpha-phylogenetic/): Computes a user-specified phylogenetic alpha diversity metric for all\n",
    "samples in a feature table.\n",
    "- [diversity alpha_correlation](https://docs.qiime2.org/2022.8/plugins/available/diversity/alpha-correlation/): Determine whether numeric sample metadata columns are correlated with alpha diversity.\n",
    "- [diversity alpha_group_significance](https://docs.qiime2.org/2022.8/plugins/available/diversity/alpha-group-significance/): Visually and statistically compare groups of alpha diversity values."
   ]
  },
  {
   "cell_type": "markdown",
   "id": "606b9c75",
   "metadata": {
    "papermill": {
     "duration": 0.015471,
     "end_time": "2023-06-07T13:21:42.022088",
     "exception": false,
     "start_time": "2023-06-07T13:21:42.006617",
     "status": "completed"
    },
    "tags": []
   },
   "source": [
    "### Compute Alpha Diversity vectors\n",
    "- [diversity alpha](https://docs.qiime2.org/2022.8/plugins/available/diversity/alpha/): Computes a user-specified alpha diversity metric for all samples in a feature table.\n",
    "- [Alpha diversity metrics](http://scikit-bio.org/docs/0.2.0/generated/skbio.diversity.alpha.html)\n",
    " - Choices: ('ace', 'berger_parker_d', 'brillouin_d', 'chao1', 'chao1_ci', 'dominance', 'doubles', 'enspie', 'esty_ci', 'fisher_alpha', 'gini_index', 'goods_coverage', 'heip_e', 'kempton_taylor_q', 'lladser_pe', 'margalef', 'mcintosh_d', 'mcintosh_e', 'menhinick', 'michaelis_menten_fit', 'observed_features', 'osd', 'pielou_e', 'robbins', 'shannon', 'simpson', 'simpson_e', 'singles', 'strong')"
   ]
  },
  {
   "cell_type": "code",
   "execution_count": 9,
   "id": "556e5264",
   "metadata": {
    "ExecuteTime": {
     "end_time": "2023-06-07T14:26:25.439059Z",
     "start_time": "2023-06-07T14:25:33.059337Z"
    },
    "execution": {
     "iopub.execute_input": "2023-06-07T13:21:42.056246Z",
     "iopub.status.busy": "2023-06-07T13:21:42.055885Z",
     "iopub.status.idle": "2023-06-07T14:17:50.126101Z",
     "shell.execute_reply": "2023-06-07T14:17:50.124991Z"
    },
    "papermill": {
     "duration": 3366.778939,
     "end_time": "2023-06-07T14:17:48.818240",
     "exception": false,
     "start_time": "2023-06-07T13:21:42.039301",
     "status": "completed"
    },
    "tags": []
   },
   "outputs": [
    {
     "name": "stdout",
     "output_type": "stream",
     "text": [
      "Calculating alpha diversity: ace\n",
      "DONE: Calculating alpha diversity: ace\n",
      "Calculating alpha diversity: berger_parker_d\n",
      "DONE: Calculating alpha diversity: berger_parker_d\n",
      "Calculating alpha diversity: brillouin_d\n",
      "DONE: Calculating alpha diversity: brillouin_d\n",
      "Calculating alpha diversity: chao1\n",
      "DONE: Calculating alpha diversity: chao1\n",
      "Calculating alpha diversity: chao1_ci\n",
      "DONE: Calculating alpha diversity: chao1_ci\n",
      "Calculating alpha diversity: dominance\n",
      "DONE: Calculating alpha diversity: dominance\n",
      "Calculating alpha diversity: doubles\n",
      "DONE: Calculating alpha diversity: doubles\n",
      "Calculating alpha diversity: enspie\n",
      "DONE: Calculating alpha diversity: enspie\n",
      "Calculating alpha diversity: esty_ci\n",
      "DONE: Calculating alpha diversity: esty_ci\n",
      "Calculating alpha diversity: fisher_alpha\n",
      "DONE: Calculating alpha diversity: fisher_alpha\n",
      "Calculating alpha diversity: gini_index\n",
      "DONE: Calculating alpha diversity: gini_index\n",
      "Calculating alpha diversity: goods_coverage\n",
      "DONE: Calculating alpha diversity: goods_coverage\n",
      "Calculating alpha diversity: heip_e\n",
      "DONE: Calculating alpha diversity: heip_e\n",
      "Calculating alpha diversity: kempton_taylor_q\n",
      "DONE: Calculating alpha diversity: kempton_taylor_q\n",
      "Calculating alpha diversity: lladser_pe\n"
     ]
    },
    {
     "name": "stderr",
     "output_type": "stream",
     "text": [
      "/home/lauro/anaconda3/envs/qiime2-2022.2/lib/python3.8/site-packages/skbio/diversity/alpha/_base.py:440: RuntimeWarning: invalid value encountered in long_scalars\n",
      "  return (upper - lower) / np.log(sorted_counts[upper] /\n",
      "/home/lauro/anaconda3/envs/qiime2-2022.2/lib/python3.8/site-packages/skbio/diversity/alpha/_base.py:440: RuntimeWarning: divide by zero encountered in long_scalars\n",
      "  return (upper - lower) / np.log(sorted_counts[upper] /\n"
     ]
    },
    {
     "name": "stdout",
     "output_type": "stream",
     "text": [
      "DONE: Calculating alpha diversity: lladser_pe\n",
      "Calculating alpha diversity: margalef\n",
      "DONE: Calculating alpha diversity: margalef\n",
      "Calculating alpha diversity: mcintosh_d\n",
      "DONE: Calculating alpha diversity: mcintosh_d\n",
      "Calculating alpha diversity: mcintosh_e\n",
      "DONE: Calculating alpha diversity: mcintosh_e\n",
      "Calculating alpha diversity: menhinick\n",
      "DONE: Calculating alpha diversity: menhinick\n",
      "Calculating alpha diversity: michaelis_menten_fit\n"
     ]
    },
    {
     "ename": "KeyboardInterrupt",
     "evalue": "",
     "output_type": "error",
     "traceback": [
      "\u001b[0;31m---------------------------------------------------------------------------\u001b[0m",
      "\u001b[0;31mKeyboardInterrupt\u001b[0m                         Traceback (most recent call last)",
      "Input \u001b[0;32mIn [9]\u001b[0m, in \u001b[0;36m<module>\u001b[0;34m\u001b[0m\n\u001b[1;32m      4\u001b[0m \u001b[38;5;28mprint\u001b[39m(\u001b[38;5;124mf\u001b[39m\u001b[38;5;124m\"\u001b[39m\u001b[38;5;124mCalculating alpha diversity: \u001b[39m\u001b[38;5;132;01m{\u001b[39;00mmetric\u001b[38;5;132;01m}\u001b[39;00m\u001b[38;5;124m\"\u001b[39m)\n\u001b[1;32m      5\u001b[0m \u001b[38;5;28;01mtry\u001b[39;00m:\n\u001b[0;32m----> 6\u001b[0m     alpha_diversity \u001b[38;5;241m=\u001b[39m \u001b[43malpha\u001b[49m\u001b[43m(\u001b[49m\u001b[43mtable\u001b[49m\u001b[38;5;241;43m=\u001b[39;49m\u001b[43mtabs\u001b[49m\u001b[43m,\u001b[49m\u001b[43m \u001b[49m\u001b[43mmetric\u001b[49m\u001b[38;5;241;43m=\u001b[39;49m\u001b[43mmetric\u001b[49m\u001b[43m)\u001b[49m\u001b[38;5;241m.\u001b[39malpha_diversity\n\u001b[1;32m      7\u001b[0m     alpha_diversities[metric] \u001b[38;5;241m=\u001b[39m alpha_diversity\n\u001b[1;32m      8\u001b[0m     \u001b[38;5;66;03m# Save SampleData[AlphaDiversity] Artifact\u001b[39;00m\n",
      "File \u001b[0;32m<decorator-gen-147>:2\u001b[0m, in \u001b[0;36malpha\u001b[0;34m(table, metric)\u001b[0m\n",
      "File \u001b[0;32m~/anaconda3/envs/qiime2-2022.2/lib/python3.8/site-packages/qiime2/sdk/action.py:245\u001b[0m, in \u001b[0;36mAction._bind.<locals>.bound_callable\u001b[0;34m(*args, **kwargs)\u001b[0m\n\u001b[1;32m    241\u001b[0m         warn(\u001b[38;5;28mself\u001b[39m\u001b[38;5;241m.\u001b[39m_build_deprecation_message(),\n\u001b[1;32m    242\u001b[0m              \u001b[38;5;167;01mFutureWarning\u001b[39;00m)\n\u001b[1;32m    244\u001b[0m \u001b[38;5;66;03m# Execute\u001b[39;00m\n\u001b[0;32m--> 245\u001b[0m outputs \u001b[38;5;241m=\u001b[39m \u001b[38;5;28;43mself\u001b[39;49m\u001b[38;5;241;43m.\u001b[39;49m\u001b[43m_callable_executor_\u001b[49m\u001b[43m(\u001b[49m\u001b[43mscope\u001b[49m\u001b[43m,\u001b[49m\u001b[43m \u001b[49m\u001b[43mcallable_args\u001b[49m\u001b[43m,\u001b[49m\n\u001b[1;32m    246\u001b[0m \u001b[43m                                   \u001b[49m\u001b[43moutput_types\u001b[49m\u001b[43m,\u001b[49m\u001b[43m \u001b[49m\u001b[43mprovenance\u001b[49m\u001b[43m)\u001b[49m\n\u001b[1;32m    248\u001b[0m \u001b[38;5;28;01mif\u001b[39;00m \u001b[38;5;28mlen\u001b[39m(outputs) \u001b[38;5;241m!=\u001b[39m \u001b[38;5;28mlen\u001b[39m(\u001b[38;5;28mself\u001b[39m\u001b[38;5;241m.\u001b[39msignature\u001b[38;5;241m.\u001b[39moutputs):\n\u001b[1;32m    249\u001b[0m     \u001b[38;5;28;01mraise\u001b[39;00m \u001b[38;5;167;01mValueError\u001b[39;00m(\n\u001b[1;32m    250\u001b[0m         \u001b[38;5;124m\"\u001b[39m\u001b[38;5;124mNumber of callable outputs must match number of \u001b[39m\u001b[38;5;124m\"\u001b[39m\n\u001b[1;32m    251\u001b[0m         \u001b[38;5;124m\"\u001b[39m\u001b[38;5;124moutputs defined in signature: \u001b[39m\u001b[38;5;132;01m%d\u001b[39;00m\u001b[38;5;124m != \u001b[39m\u001b[38;5;132;01m%d\u001b[39;00m\u001b[38;5;124m\"\u001b[39m \u001b[38;5;241m%\u001b[39m\n\u001b[1;32m    252\u001b[0m         (\u001b[38;5;28mlen\u001b[39m(outputs), \u001b[38;5;28mlen\u001b[39m(\u001b[38;5;28mself\u001b[39m\u001b[38;5;241m.\u001b[39msignature\u001b[38;5;241m.\u001b[39moutputs)))\n",
      "File \u001b[0;32m~/anaconda3/envs/qiime2-2022.2/lib/python3.8/site-packages/qiime2/sdk/action.py:485\u001b[0m, in \u001b[0;36mPipeline._callable_executor_\u001b[0;34m(self, scope, view_args, output_types, provenance)\u001b[0m\n\u001b[1;32m    484\u001b[0m \u001b[38;5;28;01mdef\u001b[39;00m \u001b[38;5;21m_callable_executor_\u001b[39m(\u001b[38;5;28mself\u001b[39m, scope, view_args, output_types, provenance):\n\u001b[0;32m--> 485\u001b[0m     outputs \u001b[38;5;241m=\u001b[39m \u001b[38;5;28;43mself\u001b[39;49m\u001b[38;5;241;43m.\u001b[39;49m\u001b[43m_callable\u001b[49m\u001b[43m(\u001b[49m\u001b[43mscope\u001b[49m\u001b[38;5;241;43m.\u001b[39;49m\u001b[43mctx\u001b[49m\u001b[43m,\u001b[49m\u001b[43m \u001b[49m\u001b[38;5;241;43m*\u001b[39;49m\u001b[38;5;241;43m*\u001b[39;49m\u001b[43mview_args\u001b[49m\u001b[43m)\u001b[49m\n\u001b[1;32m    486\u001b[0m     outputs \u001b[38;5;241m=\u001b[39m tuplize(outputs)\n\u001b[1;32m    488\u001b[0m     \u001b[38;5;28;01mfor\u001b[39;00m output \u001b[38;5;129;01min\u001b[39;00m outputs:\n",
      "File \u001b[0;32m~/anaconda3/envs/qiime2-2022.2/lib/python3.8/site-packages/q2_diversity/_alpha/_pipeline.py:28\u001b[0m, in \u001b[0;36malpha\u001b[0;34m(ctx, table, metric)\u001b[0m\n\u001b[1;32m     26\u001b[0m \u001b[38;5;28;01melse\u001b[39;00m:\n\u001b[1;32m     27\u001b[0m     action \u001b[38;5;241m=\u001b[39m ctx\u001b[38;5;241m.\u001b[39mget_action(\u001b[38;5;124m'\u001b[39m\u001b[38;5;124mdiversity_lib\u001b[39m\u001b[38;5;124m'\u001b[39m, \u001b[38;5;124m'\u001b[39m\u001b[38;5;124malpha_passthrough\u001b[39m\u001b[38;5;124m'\u001b[39m)\n\u001b[0;32m---> 28\u001b[0m     vector, \u001b[38;5;241m=\u001b[39m \u001b[43maction\u001b[49m\u001b[43m(\u001b[49m\u001b[43mtable\u001b[49m\u001b[38;5;241;43m=\u001b[39;49m\u001b[43mtable\u001b[49m\u001b[43m,\u001b[49m\u001b[43m \u001b[49m\u001b[43mmetric\u001b[49m\u001b[38;5;241;43m=\u001b[39;49m\u001b[43mmetric\u001b[49m\u001b[43m)\u001b[49m\n\u001b[1;32m     30\u001b[0m \u001b[38;5;28;01mreturn\u001b[39;00m vector\n",
      "File \u001b[0;32m<decorator-gen-475>:2\u001b[0m, in \u001b[0;36malpha_passthrough\u001b[0;34m(table, metric)\u001b[0m\n",
      "File \u001b[0;32m~/anaconda3/envs/qiime2-2022.2/lib/python3.8/site-packages/qiime2/sdk/action.py:245\u001b[0m, in \u001b[0;36mAction._bind.<locals>.bound_callable\u001b[0;34m(*args, **kwargs)\u001b[0m\n\u001b[1;32m    241\u001b[0m         warn(\u001b[38;5;28mself\u001b[39m\u001b[38;5;241m.\u001b[39m_build_deprecation_message(),\n\u001b[1;32m    242\u001b[0m              \u001b[38;5;167;01mFutureWarning\u001b[39;00m)\n\u001b[1;32m    244\u001b[0m \u001b[38;5;66;03m# Execute\u001b[39;00m\n\u001b[0;32m--> 245\u001b[0m outputs \u001b[38;5;241m=\u001b[39m \u001b[38;5;28;43mself\u001b[39;49m\u001b[38;5;241;43m.\u001b[39;49m\u001b[43m_callable_executor_\u001b[49m\u001b[43m(\u001b[49m\u001b[43mscope\u001b[49m\u001b[43m,\u001b[49m\u001b[43m \u001b[49m\u001b[43mcallable_args\u001b[49m\u001b[43m,\u001b[49m\n\u001b[1;32m    246\u001b[0m \u001b[43m                                   \u001b[49m\u001b[43moutput_types\u001b[49m\u001b[43m,\u001b[49m\u001b[43m \u001b[49m\u001b[43mprovenance\u001b[49m\u001b[43m)\u001b[49m\n\u001b[1;32m    248\u001b[0m \u001b[38;5;28;01mif\u001b[39;00m \u001b[38;5;28mlen\u001b[39m(outputs) \u001b[38;5;241m!=\u001b[39m \u001b[38;5;28mlen\u001b[39m(\u001b[38;5;28mself\u001b[39m\u001b[38;5;241m.\u001b[39msignature\u001b[38;5;241m.\u001b[39moutputs):\n\u001b[1;32m    249\u001b[0m     \u001b[38;5;28;01mraise\u001b[39;00m \u001b[38;5;167;01mValueError\u001b[39;00m(\n\u001b[1;32m    250\u001b[0m         \u001b[38;5;124m\"\u001b[39m\u001b[38;5;124mNumber of callable outputs must match number of \u001b[39m\u001b[38;5;124m\"\u001b[39m\n\u001b[1;32m    251\u001b[0m         \u001b[38;5;124m\"\u001b[39m\u001b[38;5;124moutputs defined in signature: \u001b[39m\u001b[38;5;132;01m%d\u001b[39;00m\u001b[38;5;124m != \u001b[39m\u001b[38;5;132;01m%d\u001b[39;00m\u001b[38;5;124m\"\u001b[39m \u001b[38;5;241m%\u001b[39m\n\u001b[1;32m    252\u001b[0m         (\u001b[38;5;28mlen\u001b[39m(outputs), \u001b[38;5;28mlen\u001b[39m(\u001b[38;5;28mself\u001b[39m\u001b[38;5;241m.\u001b[39msignature\u001b[38;5;241m.\u001b[39moutputs)))\n",
      "File \u001b[0;32m~/anaconda3/envs/qiime2-2022.2/lib/python3.8/site-packages/qiime2/sdk/action.py:391\u001b[0m, in \u001b[0;36mMethod._callable_executor_\u001b[0;34m(self, scope, view_args, output_types, provenance)\u001b[0m\n\u001b[1;32m    390\u001b[0m \u001b[38;5;28;01mdef\u001b[39;00m \u001b[38;5;21m_callable_executor_\u001b[39m(\u001b[38;5;28mself\u001b[39m, scope, view_args, output_types, provenance):\n\u001b[0;32m--> 391\u001b[0m     output_views \u001b[38;5;241m=\u001b[39m \u001b[38;5;28;43mself\u001b[39;49m\u001b[38;5;241;43m.\u001b[39;49m\u001b[43m_callable\u001b[49m\u001b[43m(\u001b[49m\u001b[38;5;241;43m*\u001b[39;49m\u001b[38;5;241;43m*\u001b[39;49m\u001b[43mview_args\u001b[49m\u001b[43m)\u001b[49m\n\u001b[1;32m    392\u001b[0m     output_views \u001b[38;5;241m=\u001b[39m tuplize(output_views)\n\u001b[1;32m    394\u001b[0m     \u001b[38;5;66;03m# TODO this won't work if the user has annotated their \"view API\" to\u001b[39;00m\n\u001b[1;32m    395\u001b[0m     \u001b[38;5;66;03m# return a `typing.Tuple` with some number of components. Python will\u001b[39;00m\n\u001b[1;32m    396\u001b[0m     \u001b[38;5;66;03m# return a tuple when there are multiple return values, and this length\u001b[39;00m\n\u001b[0;32m   (...)\u001b[0m\n\u001b[1;32m    399\u001b[0m     \u001b[38;5;66;03m# due to how Python handles multiple returns, and can be worked around\u001b[39;00m\n\u001b[1;32m    400\u001b[0m     \u001b[38;5;66;03m# by using something like `typing.List` instead.\u001b[39;00m\n",
      "File \u001b[0;32m<decorator-gen-119>:2\u001b[0m, in \u001b[0;36malpha_passthrough\u001b[0;34m(table, metric)\u001b[0m\n",
      "File \u001b[0;32m~/anaconda3/envs/qiime2-2022.2/lib/python3.8/site-packages/q2_diversity_lib/_util.py:57\u001b[0m, in \u001b[0;36m_disallow_empty_tables\u001b[0;34m(wrapped_function, *args, **kwargs)\u001b[0m\n\u001b[1;32m     54\u001b[0m     \u001b[38;5;28;01mif\u001b[39;00m tab_obj\u001b[38;5;241m.\u001b[39mis_empty():\n\u001b[1;32m     55\u001b[0m         \u001b[38;5;28;01mraise\u001b[39;00m \u001b[38;5;167;01mValueError\u001b[39;00m(\u001b[38;5;124m\"\u001b[39m\u001b[38;5;124mThe provided table is empty\u001b[39m\u001b[38;5;124m\"\u001b[39m)\n\u001b[0;32m---> 57\u001b[0m \u001b[38;5;28;01mreturn\u001b[39;00m \u001b[43mwrapped_function\u001b[49m\u001b[43m(\u001b[49m\u001b[38;5;241;43m*\u001b[39;49m\u001b[43margs\u001b[49m\u001b[43m,\u001b[49m\u001b[43m \u001b[49m\u001b[38;5;241;43m*\u001b[39;49m\u001b[38;5;241;43m*\u001b[39;49m\u001b[43mkwargs\u001b[49m\u001b[43m)\u001b[49m\n",
      "File \u001b[0;32m~/anaconda3/envs/qiime2-2022.2/lib/python3.8/site-packages/q2_diversity_lib/alpha.py:102\u001b[0m, in \u001b[0;36malpha_passthrough\u001b[0;34m(table, metric)\u001b[0m\n\u001b[1;32m     99\u001b[0m counts \u001b[38;5;241m=\u001b[39m table\u001b[38;5;241m.\u001b[39mmatrix_data\u001b[38;5;241m.\u001b[39mastype(\u001b[38;5;28mint\u001b[39m)\u001b[38;5;241m.\u001b[39mtoarray()\u001b[38;5;241m.\u001b[39mT\n\u001b[1;32m    100\u001b[0m sample_ids \u001b[38;5;241m=\u001b[39m table\u001b[38;5;241m.\u001b[39mids(axis\u001b[38;5;241m=\u001b[39m\u001b[38;5;124m'\u001b[39m\u001b[38;5;124msample\u001b[39m\u001b[38;5;124m'\u001b[39m)\n\u001b[0;32m--> 102\u001b[0m result \u001b[38;5;241m=\u001b[39m \u001b[43mskbio\u001b[49m\u001b[38;5;241;43m.\u001b[39;49m\u001b[43mdiversity\u001b[49m\u001b[38;5;241;43m.\u001b[39;49m\u001b[43malpha_diversity\u001b[49m\u001b[43m(\u001b[49m\u001b[43mmetric\u001b[49m\u001b[38;5;241;43m=\u001b[39;49m\u001b[43mmetric\u001b[49m\u001b[43m,\u001b[49m\u001b[43m \u001b[49m\u001b[43mcounts\u001b[49m\u001b[38;5;241;43m=\u001b[39;49m\u001b[43mcounts\u001b[49m\u001b[43m,\u001b[49m\n\u001b[1;32m    103\u001b[0m \u001b[43m                                         \u001b[49m\u001b[43mids\u001b[49m\u001b[38;5;241;43m=\u001b[39;49m\u001b[43msample_ids\u001b[49m\u001b[43m)\u001b[49m\n\u001b[1;32m    104\u001b[0m result\u001b[38;5;241m.\u001b[39mname \u001b[38;5;241m=\u001b[39m metric\n\u001b[1;32m    105\u001b[0m \u001b[38;5;28;01mreturn\u001b[39;00m result\n",
      "File \u001b[0;32m~/anaconda3/envs/qiime2-2022.2/lib/python3.8/site-packages/skbio/diversity/_driver.py:181\u001b[0m, in \u001b[0;36malpha_diversity\u001b[0;34m(metric, counts, ids, validate, **kwargs)\u001b[0m\n\u001b[1;32m    178\u001b[0m     \u001b[38;5;28;01mraise\u001b[39;00m \u001b[38;5;167;01mValueError\u001b[39;00m(\u001b[38;5;124m'\u001b[39m\u001b[38;5;124mUnknown metric provided: \u001b[39m\u001b[38;5;132;01m%r\u001b[39;00m\u001b[38;5;124m.\u001b[39m\u001b[38;5;124m'\u001b[39m \u001b[38;5;241m%\u001b[39m metric)\n\u001b[1;32m    180\u001b[0m \u001b[38;5;66;03m# kwargs is provided here so an error is raised on extra kwargs\u001b[39;00m\n\u001b[0;32m--> 181\u001b[0m results \u001b[38;5;241m=\u001b[39m [metric(c, \u001b[38;5;241m*\u001b[39m\u001b[38;5;241m*\u001b[39mkwargs) \u001b[38;5;28;01mfor\u001b[39;00m c \u001b[38;5;129;01min\u001b[39;00m counts]\n\u001b[1;32m    182\u001b[0m \u001b[38;5;28;01mreturn\u001b[39;00m pd\u001b[38;5;241m.\u001b[39mSeries(results, index\u001b[38;5;241m=\u001b[39mids)\n",
      "File \u001b[0;32m~/anaconda3/envs/qiime2-2022.2/lib/python3.8/site-packages/skbio/diversity/_driver.py:181\u001b[0m, in \u001b[0;36m<listcomp>\u001b[0;34m(.0)\u001b[0m\n\u001b[1;32m    178\u001b[0m     \u001b[38;5;28;01mraise\u001b[39;00m \u001b[38;5;167;01mValueError\u001b[39;00m(\u001b[38;5;124m'\u001b[39m\u001b[38;5;124mUnknown metric provided: \u001b[39m\u001b[38;5;132;01m%r\u001b[39;00m\u001b[38;5;124m.\u001b[39m\u001b[38;5;124m'\u001b[39m \u001b[38;5;241m%\u001b[39m metric)\n\u001b[1;32m    180\u001b[0m \u001b[38;5;66;03m# kwargs is provided here so an error is raised on extra kwargs\u001b[39;00m\n\u001b[0;32m--> 181\u001b[0m results \u001b[38;5;241m=\u001b[39m [\u001b[43mmetric\u001b[49m\u001b[43m(\u001b[49m\u001b[43mc\u001b[49m\u001b[43m,\u001b[49m\u001b[43m \u001b[49m\u001b[38;5;241;43m*\u001b[39;49m\u001b[38;5;241;43m*\u001b[39;49m\u001b[43mkwargs\u001b[49m\u001b[43m)\u001b[49m \u001b[38;5;28;01mfor\u001b[39;00m c \u001b[38;5;129;01min\u001b[39;00m counts]\n\u001b[1;32m    182\u001b[0m \u001b[38;5;28;01mreturn\u001b[39;00m pd\u001b[38;5;241m.\u001b[39mSeries(results, index\u001b[38;5;241m=\u001b[39mids)\n",
      "File \u001b[0;32m~/anaconda3/envs/qiime2-2022.2/lib/python3.8/site-packages/skbio/diversity/alpha/_base.py:687\u001b[0m, in \u001b[0;36mmichaelis_menten_fit\u001b[0;34m(counts, num_repeats, params_guess)\u001b[0m\n\u001b[1;32m    685\u001b[0m ymtx \u001b[38;5;241m=\u001b[39m np\u001b[38;5;241m.\u001b[39mempty((num_repeats, \u001b[38;5;28mlen\u001b[39m(xvals)), dtype\u001b[38;5;241m=\u001b[39m\u001b[38;5;28mint\u001b[39m)\n\u001b[1;32m    686\u001b[0m \u001b[38;5;28;01mfor\u001b[39;00m i \u001b[38;5;129;01min\u001b[39;00m \u001b[38;5;28mrange\u001b[39m(num_repeats):\n\u001b[0;32m--> 687\u001b[0m     ymtx[i] \u001b[38;5;241m=\u001b[39m np\u001b[38;5;241m.\u001b[39masarray([observed_otus(subsample_counts(counts, n))\n\u001b[1;32m    688\u001b[0m                           \u001b[38;5;28;01mfor\u001b[39;00m n \u001b[38;5;129;01min\u001b[39;00m xvals], dtype\u001b[38;5;241m=\u001b[39m\u001b[38;5;28mint\u001b[39m)\n\u001b[1;32m    689\u001b[0m yvals \u001b[38;5;241m=\u001b[39m ymtx\u001b[38;5;241m.\u001b[39mmean(\u001b[38;5;241m0\u001b[39m)\n\u001b[1;32m    691\u001b[0m \u001b[38;5;66;03m# Vectors of actual vals y and number of individuals n.\u001b[39;00m\n",
      "File \u001b[0;32m~/anaconda3/envs/qiime2-2022.2/lib/python3.8/site-packages/skbio/diversity/alpha/_base.py:687\u001b[0m, in \u001b[0;36m<listcomp>\u001b[0;34m(.0)\u001b[0m\n\u001b[1;32m    685\u001b[0m ymtx \u001b[38;5;241m=\u001b[39m np\u001b[38;5;241m.\u001b[39mempty((num_repeats, \u001b[38;5;28mlen\u001b[39m(xvals)), dtype\u001b[38;5;241m=\u001b[39m\u001b[38;5;28mint\u001b[39m)\n\u001b[1;32m    686\u001b[0m \u001b[38;5;28;01mfor\u001b[39;00m i \u001b[38;5;129;01min\u001b[39;00m \u001b[38;5;28mrange\u001b[39m(num_repeats):\n\u001b[0;32m--> 687\u001b[0m     ymtx[i] \u001b[38;5;241m=\u001b[39m np\u001b[38;5;241m.\u001b[39masarray([observed_otus(\u001b[43msubsample_counts\u001b[49m\u001b[43m(\u001b[49m\u001b[43mcounts\u001b[49m\u001b[43m,\u001b[49m\u001b[43m \u001b[49m\u001b[43mn\u001b[49m\u001b[43m)\u001b[49m)\n\u001b[1;32m    688\u001b[0m                           \u001b[38;5;28;01mfor\u001b[39;00m n \u001b[38;5;129;01min\u001b[39;00m xvals], dtype\u001b[38;5;241m=\u001b[39m\u001b[38;5;28mint\u001b[39m)\n\u001b[1;32m    689\u001b[0m yvals \u001b[38;5;241m=\u001b[39m ymtx\u001b[38;5;241m.\u001b[39mmean(\u001b[38;5;241m0\u001b[39m)\n\u001b[1;32m    691\u001b[0m \u001b[38;5;66;03m# Vectors of actual vals y and number of individuals n.\u001b[39;00m\n",
      "File \u001b[0;32m~/anaconda3/envs/qiime2-2022.2/lib/python3.8/site-packages/skbio/stats/_subsample.py:246\u001b[0m, in \u001b[0;36msubsample_counts\u001b[0;34m(counts, n, replace)\u001b[0m\n\u001b[1;32m    244\u001b[0m         result \u001b[38;5;241m=\u001b[39m counts\n\u001b[1;32m    245\u001b[0m     \u001b[38;5;28;01melse\u001b[39;00m:\n\u001b[0;32m--> 246\u001b[0m         result \u001b[38;5;241m=\u001b[39m \u001b[43m_subsample_counts_without_replacement\u001b[49m\u001b[43m(\u001b[49m\u001b[43mcounts\u001b[49m\u001b[43m,\u001b[49m\u001b[43m \u001b[49m\u001b[43mn\u001b[49m\u001b[43m,\u001b[49m\n\u001b[1;32m    247\u001b[0m \u001b[43m                                                       \u001b[49m\u001b[43mcounts_sum\u001b[49m\u001b[43m)\u001b[49m\n\u001b[1;32m    248\u001b[0m \u001b[38;5;28;01mreturn\u001b[39;00m result\n",
      "File \u001b[0;32mskbio/stats/__subsample.pyx:30\u001b[0m, in \u001b[0;36mskbio.stats.__subsample._subsample_counts_without_replacement\u001b[0;34m()\u001b[0m\n",
      "File \u001b[0;32m<__array_function__ internals>:177\u001b[0m, in \u001b[0;36mzeros_like\u001b[0;34m(*args, **kwargs)\u001b[0m\n",
      "\u001b[0;31mKeyboardInterrupt\u001b[0m: "
     ]
    }
   ],
   "source": [
    "metrics = ('ace', 'berger_parker_d', 'brillouin_d', 'chao1', 'chao1_ci', 'dominance', 'doubles', 'enspie', 'esty_ci', 'fisher_alpha', 'gini_index', 'goods_coverage', 'heip_e', 'kempton_taylor_q', 'lladser_pe', 'margalef', 'mcintosh_d', 'mcintosh_e', 'menhinick', 'michaelis_menten_fit', 'observed_features', 'osd', 'pielou_e', 'robbins', 'shannon', 'simpson', 'simpson_e', 'singles', 'strong')\n",
    "alpha_diversities = dict()\n",
    "for metric in metrics:\n",
    "    print(f\"Calculating alpha diversity: {metric}\")\n",
    "    try:\n",
    "        alpha_diversity = alpha(table=tabs, metric=metric).alpha_diversity\n",
    "        alpha_diversities[metric] = alpha_diversity\n",
    "        # Save SampleData[AlphaDiversity] Artifact\n",
    "        file_path = os.path.join(alpha_path, f'alpha-values-{metric}.qza')\n",
    "        alpha_diversity.save(file_path)\n",
    "        print(f\"DONE: Calculating alpha diversity: {metric}\")\n",
    "    except Exception as e:\n",
    "        print(f\"ERROR: Calculating alpha diversity: {metric}\")\n",
    "        print(e)"
   ]
  },
  {
   "cell_type": "markdown",
   "id": "184bcb7b",
   "metadata": {
    "papermill": {
     "duration": null,
     "end_time": null,
     "exception": null,
     "start_time": null,
     "status": "completed"
    },
    "tags": []
   },
   "source": [
    "### Create Phylogenetic inference\n",
    "\n",
    "- [alignment align_to_tree_mafft_fasttree](https://docs.qiime2.org/2022.8/plugins/available/phylogeny/align-to-tree-mafft-fasttree/): Build a phylogenetic tree using fasttree and mafft alignment\n",
    "\n",
    "This pipeline will start by creating a sequence alignment using MAFFT,\n",
    "after which any alignment columns that are phylogenetically uninformative\n",
    "or ambiguously aligned will be removed (masked). The resulting masked\n",
    "alignment will be used to infer a phylogenetic tree and then subsequently\n",
    "rooted at its midpoint. Output files from each step of the pipeline will be\n",
    "saved. This includes both the unmasked and masked MAFFT alignment from\n",
    "q2-alignment methods, and both the rooted and unrooted phylogenies from\n",
    "q2-phylogeny methods.\n",
    "\n",
    "\n",
    "Returns\n",
    "- alignment : FeatureData[AlignedSequence] : The aligned sequences.\n",
    "- masked_alignment : FeatureData[AlignedSequence] : The masked alignment.\n",
    "- tree : Phylogeny[Unrooted] : The unrooted phylogenetic tree.\n",
    "- rooted_tree : Phylogeny[Rooted] : The rooted phylogenetic tree."
   ]
  },
  {
   "cell_type": "code",
   "execution_count": 10,
   "id": "9c8cfe47",
   "metadata": {
    "ExecuteTime": {
     "end_time": "2023-06-07T14:26:44.541621Z",
     "start_time": "2023-06-07T14:26:28.281089Z"
    },
    "papermill": {
     "duration": null,
     "end_time": null,
     "exception": null,
     "start_time": null,
     "status": "completed"
    },
    "tags": []
   },
   "outputs": [
    {
     "name": "stdout",
     "output_type": "stream",
     "text": [
      "Running external command line application. This may print messages to stdout and/or stderr.\n",
      "The command being run is below. This command cannot be manually re-run as it will depend on temporary files that no longer exist.\n",
      "\n",
      "Command: mafft --preservecase --inputorder --thread 6 /tmp/qiime2-archive-n8pm4x6k/90b280f9-b4d2-4fea-b985-71da5233a175/data/dna-sequences.fasta\n",
      "\n"
     ]
    },
    {
     "name": "stderr",
     "output_type": "stream",
     "text": [
      "inputfile = orig\n",
      "969 x 430 - 282 d\n",
      "nthread = 6\n",
      "nthreadpair = 6\n",
      "nthreadtb = 6\n",
      "ppenalty_ex = 0\n",
      "stacksize: 8192 kb\n",
      "generating a scoring matrix for nucleotide (dist=200) ... done\n",
      "Gap Penalty = -1.53, +0.00, +0.00\n",
      "\n",
      "\n",
      "\n",
      "Making a distance matrix ..\n",
      "  901 / 969 (thread    4)\n",
      "done.\n",
      "\n",
      "Constructing a UPGMA tree (efffree=0) ... \n",
      "  960 / 969\n",
      "done.\n",
      "\n",
      "Progressive alignment 1/2... \n",
      "STEP   372 / 968 (thread    2)\n",
      "Reallocating..done. *alloclen = 1868\n",
      "STEP   901 / 968 (thread    4)\n",
      "done.\n",
      "\n",
      "Making a distance matrix from msa.. \n",
      "  900 / 969 (thread    0)\n",
      "done.\n",
      "\n",
      "Constructing a UPGMA tree (efffree=1) ... \n",
      "  960 / 969\n",
      "done.\n",
      "\n",
      "Progressive alignment 2/2... \n",
      "STEP   801 / 968 (thread    5)\n",
      "Reallocating..done. *alloclen = 1868\n",
      "STEP   901 / 968 (thread    3)\n",
      "done.\n",
      "\n",
      "disttbfast (nuc) Version 7.490\n",
      "alg=A, model=DNA200 (2), 1.53 (4.59), -0.00 (-0.00), noshift, amax=0.0\n",
      "6 thread(s)\n",
      "\n",
      "\n",
      "Strategy:\n",
      " FFT-NS-2 (Fast but rough)\n",
      " Progressive method (guide trees were built 2 times.)\n",
      "\n",
      "If unsure which option to use, try 'mafft --auto input > output'.\n",
      "For more information, see 'mafft --help', 'mafft --man' and the mafft page.\n",
      "\n",
      "The default gap scoring scheme has been changed in version 7.110 (2013 Oct).\n",
      "It tends to insert more gaps into gap-rich regions than previous versions.\n",
      "To disable this change, add the --leavegappyregion option.\n",
      "\n"
     ]
    },
    {
     "name": "stdout",
     "output_type": "stream",
     "text": [
      "Running external command line application. This may print messages to stdout and/or stderr.\n",
      "The command being run is below. This command cannot be manually re-run as it will depend on temporary files that no longer exist.\n",
      "\n",
      "Command: FastTreeMP -quote -nt /tmp/qiime2-archive-s6vvhqwe/9f657915-1bbf-4ab0-89e4-b48a46089aca/data/aligned-dna-sequences.fasta\n",
      "\n"
     ]
    },
    {
     "name": "stderr",
     "output_type": "stream",
     "text": [
      "FastTree Version 2.1.10 Double precision (No SSE3), OpenMP (6 threads)\n",
      "Alignment: /tmp/qiime2-archive-s6vvhqwe/9f657915-1bbf-4ab0-89e4-b48a46089aca/data/aligned-dna-sequences.fasta\n",
      "Nucleotide distances: Jukes-Cantor Joins: balanced Support: SH-like 1000\n",
      "Search: Normal +NNI +SPR (2 rounds range 10) +ML-NNI opt-each=1\n",
      "TopHits: 1.00*sqrtN close=default refresh=0.80\n",
      "ML Model: Jukes-Cantor, CAT approximation with 20 rate categories\n",
      "      0.15 seconds: Joined    100 of    932\n",
      "      0.26 seconds: Joined    200 of    932\n",
      "      0.47 seconds: Joined    400 of    932\n",
      "      0.61 seconds: Joined    600 of    932\n",
      "      0.73 seconds: Joined    800 of    932\n",
      "Initial topology in 0.81 seconds\n",
      "Refining topology: 39 rounds ME-NNIs, 2 rounds ME-SPRs, 20 rounds ML-NNIs\n",
      "      0.83 seconds: ME NNI round 1 of 39, 801 of 933 splits, 160 changes (max delta 0.025)\n",
      "      0.97 seconds: SPR round   1 of   2, 101 of 1868 nodes\n",
      "      1.09 seconds: SPR round   1 of   2, 301 of 1868 nodes\n",
      "      1.22 seconds: SPR round   1 of   2, 501 of 1868 nodes\n",
      "      1.37 seconds: SPR round   1 of   2, 701 of 1868 nodes\n",
      "      1.51 seconds: SPR round   1 of   2, 901 of 1868 nodes\n",
      "      1.62 seconds: SPR round   1 of   2, 1101 of 1868 nodes\n",
      "      1.75 seconds: SPR round   1 of   2, 1301 of 1868 nodes\n",
      "      1.90 seconds: SPR round   1 of   2, 1601 of 1868 nodes\n",
      "      2.02 seconds: SPR round   1 of   2, 1801 of 1868 nodes\n",
      "      2.16 seconds: SPR round   2 of   2, 101 of 1868 nodes\n",
      "      2.27 seconds: SPR round   2 of   2, 301 of 1868 nodes\n",
      "      2.39 seconds: SPR round   2 of   2, 501 of 1868 nodes\n",
      "      2.51 seconds: SPR round   2 of   2, 701 of 1868 nodes\n",
      "      2.62 seconds: SPR round   2 of   2, 901 of 1868 nodes\n",
      "      2.75 seconds: SPR round   2 of   2, 1101 of 1868 nodes\n",
      "      2.90 seconds: SPR round   2 of   2, 1401 of 1868 nodes\n",
      "      3.01 seconds: SPR round   2 of   2, 1601 of 1868 nodes\n",
      "      3.12 seconds: SPR round   2 of   2, 1801 of 1868 nodes\n",
      "Total branch-length 21.546 after 3.21 sec\n",
      "      3.24 seconds: ML Lengths 101 of 933 splits\n",
      "      3.35 seconds: ML Lengths 501 of 933 splits\n",
      "      3.46 seconds: ML Lengths 901 of 933 splits\n",
      "      3.57 seconds: ML NNI round 1 of 20, 101 of 933 splits, 17 changes (max delta 7.120)\n",
      "      3.67 seconds: ML NNI round 1 of 20, 201 of 933 splits, 33 changes (max delta 7.120)\n",
      "      3.79 seconds: ML NNI round 1 of 20, 301 of 933 splits, 55 changes (max delta 8.637)\n",
      "      3.89 seconds: ML NNI round 1 of 20, 401 of 933 splits, 68 changes (max delta 8.637)\n",
      "      4.00 seconds: ML NNI round 1 of 20, 501 of 933 splits, 81 changes (max delta 8.637)\n",
      "      4.17 seconds: ML NNI round 1 of 20, 701 of 933 splits, 109 changes (max delta 9.935)\n",
      "      4.33 seconds: ML NNI round 1 of 20, 901 of 933 splits, 136 changes (max delta 9.935)\n",
      "ML-NNI round 1: LogLk = -55585.536 NNIs 141 max delta 9.94 Time 4.37\n",
      "      4.43 seconds: Site likelihoods with rate category 7 of 20\n",
      "      4.54 seconds: Site likelihoods with rate category 17 of 20\n",
      "Switched to using 20 rate categories (CAT approximation)\n",
      "Rate categories were divided by 1.101 so that average rate = 1.0\n",
      "CAT-based log-likelihoods may not be comparable across runs\n",
      "Use -gamma for approximate but comparable Gamma(20) log-likelihoods\n",
      "      4.67 seconds: ML NNI round 2 of 20, 101 of 933 splits, 7 changes (max delta 3.961)\n",
      "      4.86 seconds: ML NNI round 2 of 20, 301 of 933 splits, 30 changes (max delta 3.961)\n",
      "      5.04 seconds: ML NNI round 2 of 20, 501 of 933 splits, 52 changes (max delta 5.005)\n",
      "      5.23 seconds: ML NNI round 2 of 20, 701 of 933 splits, 75 changes (max delta 6.889)\n",
      "      5.42 seconds: ML NNI round 2 of 20, 901 of 933 splits, 98 changes (max delta 6.889)\n",
      "ML-NNI round 2: LogLk = -46206.902 NNIs 100 max delta 6.89 Time 5.46\n",
      "      5.53 seconds: ML NNI round 3 of 20, 101 of 933 splits, 6 changes (max delta 1.303)\n",
      "      5.71 seconds: ML NNI round 3 of 20, 301 of 933 splits, 18 changes (max delta 1.861)\n",
      "      5.90 seconds: ML NNI round 3 of 20, 501 of 933 splits, 25 changes (max delta 3.714)\n",
      "ML-NNI round 3: LogLk = -46178.343 NNIs 30 max delta 3.71 Time 6.04\n",
      "      6.04 seconds: ML NNI round 4 of 20, 1 of 933 splits\n",
      "      6.21 seconds: ML NNI round 4 of 20, 201 of 933 splits, 7 changes (max delta 4.045)\n",
      "      6.40 seconds: ML NNI round 4 of 20, 401 of 933 splits, 10 changes (max delta 4.045)\n",
      "ML-NNI round 4: LogLk = -46166.679 NNIs 10 max delta 4.05 Time 6.43\n",
      "      6.51 seconds: ML NNI round 5 of 20, 101 of 933 splits, 4 changes (max delta 0.566)\n",
      "ML-NNI round 5: LogLk = -46164.542 NNIs 4 max delta 0.57 Time 6.55\n",
      "ML-NNI round 6: LogLk = -46162.031 NNIs 2 max delta 1.48 Time 6.62\n",
      "      6.61 seconds: ML NNI round 7 of 20, 1 of 933 splits\n",
      "ML-NNI round 7: LogLk = -46161.097 NNIs 1 max delta 0.36 Time 6.66\n",
      "ML-NNI round 8: LogLk = -46160.890 NNIs 0 max delta 0.00 Time 6.70\n",
      "Turning off heuristics for final round of ML NNIs (converged)\n",
      "      6.77 seconds: ML NNI round 9 of 20, 101 of 933 splits, 1 changes (max delta 1.352)\n",
      "      6.92 seconds: ML NNI round 9 of 20, 301 of 933 splits, 2 changes (max delta 1.352)\n",
      "      7.09 seconds: ML NNI round 9 of 20, 501 of 933 splits, 4 changes (max delta 1.352)\n",
      "      7.26 seconds: ML NNI round 9 of 20, 701 of 933 splits, 4 changes (max delta 1.352)\n",
      "      7.42 seconds: ML NNI round 9 of 20, 901 of 933 splits, 5 changes (max delta 1.352)\n",
      "ML-NNI round 9: LogLk = -46151.582 NNIs 5 max delta 1.35 Time 7.45 (final)\n",
      "      7.54 seconds: ML Lengths 401 of 933 splits\n",
      "      7.65 seconds: ML Lengths 901 of 933 splits\n",
      "Optimize all lengths: LogLk = -46150.099 Time 7.66\n",
      "      7.79 seconds: ML split tests for    100 of    932 internal splits\n",
      "      7.92 seconds: ML split tests for    200 of    932 internal splits\n",
      "      8.06 seconds: ML split tests for    300 of    932 internal splits\n",
      "      8.19 seconds: ML split tests for    400 of    932 internal splits\n",
      "      8.33 seconds: ML split tests for    500 of    932 internal splits\n",
      "      8.46 seconds: ML split tests for    600 of    932 internal splits\n",
      "      8.60 seconds: ML split tests for    700 of    932 internal splits\n",
      "      8.73 seconds: ML split tests for    800 of    932 internal splits\n",
      "      8.86 seconds: ML split tests for    900 of    932 internal splits\n",
      "Total time: 8.90 seconds Unique: 935/969 Bad splits: 0/932\n"
     ]
    }
   ],
   "source": [
    "mafft_alignment, mafft_masked_alignment, mafft_tree, mafft_rooted_tree = align_to_tree_mafft_fasttree(\n",
    "    sequences=reps, n_threads=6, )"
   ]
  },
  {
   "cell_type": "markdown",
   "id": "0768d598",
   "metadata": {
    "papermill": {
     "duration": null,
     "end_time": null,
     "exception": null,
     "start_time": null,
     "status": "completed"
    },
    "tags": []
   },
   "source": [
    "### Compute Alpha Diversity (Phylogeny)\n",
    "- [diversity alpha_phylogenetic](https://docs.qiime2.org/2022.8/plugins/available/diversity/alpha-phylogenetic/): Computes a user-specified phylogenetic alpha diversity metric for all samples in a feature table.\n",
    "- Metrics: Choices ('faith_pd')"
   ]
  },
  {
   "cell_type": "code",
   "execution_count": 11,
   "id": "0383aa19",
   "metadata": {
    "ExecuteTime": {
     "end_time": "2023-06-07T14:26:47.071889Z",
     "start_time": "2023-06-07T14:26:46.778338Z"
    },
    "papermill": {
     "duration": null,
     "end_time": null,
     "exception": null,
     "start_time": null,
     "status": "completed"
    },
    "tags": []
   },
   "outputs": [
    {
     "name": "stdout",
     "output_type": "stream",
     "text": [
      "Calculating alpha diversity: faith_pd\n",
      "DONE: Calculating alpha phylogeny: faith_pd\n"
     ]
    }
   ],
   "source": [
    "metrics = ('faith_pd', )\n",
    "alpha_diversities_phylogenetic = dict()\n",
    "for metric in metrics:\n",
    "    print(f\"Calculating alpha diversity: {metric}\")\n",
    "    try:\n",
    "        alpha_diversity = alpha_phylogenetic(table=tabs, phylogeny=mafft_rooted_tree, metric=metric).alpha_diversity\n",
    "        alpha_diversities_phylogenetic[metric] = alpha_diversity\n",
    "        # Save Artifact\n",
    "        file_path = os.path.join(alpha_path, f'alpha-phylogeny-{metric}.qza')\n",
    "        alpha_diversity.save(file_path)\n",
    "        print(f\"DONE: Calculating alpha phylogeny: {metric}\")\n",
    "    except Exception as e:\n",
    "        print(f\"ERROR: Calculating alpha phylogeny: {metric}\")"
   ]
  },
  {
   "cell_type": "markdown",
   "id": "c7752cfd",
   "metadata": {
    "papermill": {
     "duration": null,
     "end_time": null,
     "exception": null,
     "start_time": null,
     "status": "completed"
    },
    "tags": []
   },
   "source": [
    "### Alpha diversity correlation\n",
    "\n",
    "This method only process `numeric` columns.\n"
   ]
  },
  {
   "cell_type": "code",
   "execution_count": 12,
   "id": "2814f613",
   "metadata": {
    "ExecuteTime": {
     "end_time": "2023-06-07T14:26:50.732420Z",
     "start_time": "2023-06-07T14:26:50.720719Z"
    },
    "papermill": {
     "duration": null,
     "end_time": null,
     "exception": null,
     "start_time": null,
     "status": "completed"
    },
    "tags": []
   },
   "outputs": [],
   "source": [
    "methods = ('spearman', 'pearson')\n",
    "numerics_cols = metadata_qa.filter_columns(column_type='numeric')\n",
    "if numerics_cols.column_count > 0:\n",
    "    for metric, alpha_values in alpha_diversities.items():\n",
    "        for method in methods:\n",
    "            try:\n",
    "                corr_view = alpha_correlation(alpha_diversity=alpha_values, metadata=numerics_cols, \n",
    "                                          method=method, intersect_ids=True).visualization\n",
    "                view_path = os.path.join(alpha_path, f'alpha-correlation-{metric}-{method}.qzv')\n",
    "                corr_view.save(view_path)\n",
    "                corr_view\n",
    "                print(f\"DONE: Calculating alpha correlation: {metric} {method}\")\n",
    "            except Exception as e:\n",
    "                print(f\"ERROR: Calculating alpha correlation: {metric} {method}\")"
   ]
  },
  {
   "cell_type": "markdown",
   "id": "8ea83c8a",
   "metadata": {
    "papermill": {
     "duration": null,
     "end_time": null,
     "exception": null,
     "start_time": null,
     "status": "completed"
    },
    "tags": []
   },
   "source": [
    "## Alpha diversity comparisons\n",
    "\n",
    "Visually and statistically compare groups of alpha diversity values.\n",
    "\n",
    "[diversity alpha_group_significance](https://docs.qiime2.org/2022.8/plugins/available/diversity/alpha-group-significance/)"
   ]
  },
  {
   "cell_type": "code",
   "execution_count": 13,
   "id": "276d1c18",
   "metadata": {
    "ExecuteTime": {
     "end_time": "2023-06-07T14:26:54.796936Z",
     "start_time": "2023-06-07T14:26:52.449535Z"
    },
    "papermill": {
     "duration": null,
     "end_time": null,
     "exception": null,
     "start_time": null,
     "status": "completed"
    },
    "tags": []
   },
   "outputs": [
    {
     "name": "stdout",
     "output_type": "stream",
     "text": [
      "Processing alpha_group_significance: ace\n",
      "DONE: Calculating alpha group significance: ace\n",
      "Processing alpha_group_significance: berger_parker_d\n",
      "DONE: Calculating alpha group significance: berger_parker_d\n",
      "Processing alpha_group_significance: brillouin_d\n",
      "DONE: Calculating alpha group significance: brillouin_d\n",
      "Processing alpha_group_significance: chao1\n",
      "DONE: Calculating alpha group significance: chao1\n",
      "Processing alpha_group_significance: chao1_ci\n",
      "ERROR: Calculating alpha group significance: chao1_ci\n",
      "Processing alpha_group_significance: dominance\n",
      "DONE: Calculating alpha group significance: dominance\n",
      "Processing alpha_group_significance: doubles\n",
      "DONE: Calculating alpha group significance: doubles\n",
      "Processing alpha_group_significance: enspie\n",
      "DONE: Calculating alpha group significance: enspie\n",
      "Processing alpha_group_significance: esty_ci\n",
      "ERROR: Calculating alpha group significance: esty_ci\n",
      "Processing alpha_group_significance: fisher_alpha\n",
      "DONE: Calculating alpha group significance: fisher_alpha\n",
      "Processing alpha_group_significance: gini_index\n",
      "DONE: Calculating alpha group significance: gini_index\n",
      "Processing alpha_group_significance: goods_coverage\n",
      "ERROR: Calculating alpha group significance: goods_coverage\n",
      "Processing alpha_group_significance: heip_e\n",
      "DONE: Calculating alpha group significance: heip_e\n",
      "Processing alpha_group_significance: kempton_taylor_q\n",
      "ERROR: Calculating alpha group significance: kempton_taylor_q\n",
      "Processing alpha_group_significance: lladser_pe\n",
      "DONE: Calculating alpha group significance: lladser_pe\n",
      "Processing alpha_group_significance: margalef\n",
      "DONE: Calculating alpha group significance: margalef\n",
      "Processing alpha_group_significance: mcintosh_d\n",
      "DONE: Calculating alpha group significance: mcintosh_d\n",
      "Processing alpha_group_significance: mcintosh_e\n",
      "DONE: Calculating alpha group significance: mcintosh_e\n",
      "Processing alpha_group_significance: menhinick\n",
      "DONE: Calculating alpha group significance: menhinick\n"
     ]
    }
   ],
   "source": [
    "for metric, alpha_values in alpha_diversities.items():\n",
    "    print(f\"Processing alpha_group_significance: {metric}\")\n",
    "    try:\n",
    "        significance_view = alpha_group_significance(alpha_diversity=alpha_values, metadata=metadata_qa).visualization\n",
    "        view_path = os.path.join(alpha_path, f'alpha-group-significance-{metric}.qzv')\n",
    "        significance_view.save(view_path)\n",
    "        significance_view\n",
    "        print(f\"DONE: Calculating alpha group significance: {metric}\")\n",
    "    except Exception as e:\n",
    "        print(f\"ERROR: Calculating alpha group significance: {metric}\")"
   ]
  },
  {
   "cell_type": "markdown",
   "id": "4349d357",
   "metadata": {
    "papermill": {
     "duration": null,
     "end_time": null,
     "exception": null,
     "start_time": null,
     "status": "completed"
    },
    "tags": []
   },
   "source": [
    "## Beta diversity analysis\n",
    "\n",
    "#### Reference\n",
    "- [diversity beta](https://docs.qiime2.org/2022.8/plugins/available/diversity/beta/): Computes a user-specified beta diversity metric for all pairs of samples in a feature table.\n",
    "- [Beta diversity metrics](http://scikit-bio.org/docs/0.2.0/generated/skbio.diversity.beta.html)\n",
    "\n",
    "- Metric Choices('aitchison', 'braycurtis', 'canberra', 'canberra_adkins', 'chebyshev', 'cityblock', 'correlation', 'cosine', 'dice', 'euclidean', 'hamming', 'jaccard', 'jensenshannon', 'kulsinski', 'matching', 'minkowski', 'rogerstanimoto', 'russellrao', 'seuclidean', 'sokalmichener', 'sokalsneath', 'sqeuclidean', 'yule')"
   ]
  },
  {
   "cell_type": "code",
   "execution_count": 14,
   "id": "f6f358dd",
   "metadata": {
    "ExecuteTime": {
     "end_time": "2023-06-07T14:27:03.285440Z",
     "start_time": "2023-06-07T14:27:01.936703Z"
    },
    "papermill": {
     "duration": null,
     "end_time": null,
     "exception": null,
     "start_time": null,
     "status": "completed"
    },
    "tags": []
   },
   "outputs": [
    {
     "name": "stdout",
     "output_type": "stream",
     "text": [
      "Calculating beta diversity: aitchison\n",
      "DONE: Calculating beta diversity: aitchison\n",
      "Calculating beta diversity: braycurtis\n",
      "DONE: Calculating beta diversity: braycurtis\n",
      "Calculating beta diversity: canberra\n",
      "DONE: Calculating beta diversity: canberra\n",
      "Calculating beta diversity: canberra_adkins\n",
      "DONE: Calculating beta diversity: canberra_adkins\n",
      "Calculating beta diversity: chebyshev\n",
      "DONE: Calculating beta diversity: chebyshev\n",
      "Calculating beta diversity: cityblock\n",
      "DONE: Calculating beta diversity: cityblock\n",
      "Calculating beta diversity: correlation\n",
      "ERROR: Calculating beta diversity: correlation\n",
      "Calculating beta diversity: cosine\n",
      "ERROR: Calculating beta diversity: cosine\n",
      "Calculating beta diversity: dice\n",
      "DONE: Calculating beta diversity: dice\n",
      "Calculating beta diversity: euclidean\n",
      "DONE: Calculating beta diversity: euclidean\n",
      "Calculating beta diversity: hamming\n"
     ]
    },
    {
     "name": "stderr",
     "output_type": "stream",
     "text": [
      "/home/lauro/anaconda3/envs/qiime2-2022.2/lib/python3.8/site-packages/sklearn/metrics/pairwise.py:1761: DataConversionWarning: Data was converted to boolean for metric dice\n",
      "  warnings.warn(msg, DataConversionWarning)\n",
      "/home/lauro/anaconda3/envs/qiime2-2022.2/lib/python3.8/site-packages/sklearn/metrics/pairwise.py:1761: DataConversionWarning: Data was converted to boolean for metric jaccard\n",
      "  warnings.warn(msg, DataConversionWarning)\n"
     ]
    },
    {
     "name": "stdout",
     "output_type": "stream",
     "text": [
      "DONE: Calculating beta diversity: hamming\n",
      "Calculating beta diversity: jaccard\n",
      "DONE: Calculating beta diversity: jaccard\n",
      "Calculating beta diversity: jensenshannon\n",
      "DONE: Calculating beta diversity: jensenshannon\n",
      "Calculating beta diversity: kulsinski\n",
      "ERROR: Calculating beta diversity: kulsinski\n",
      "Calculating beta diversity: matching\n"
     ]
    },
    {
     "name": "stderr",
     "output_type": "stream",
     "text": [
      "/home/lauro/anaconda3/envs/qiime2-2022.2/lib/python3.8/site-packages/sklearn/metrics/pairwise.py:1761: DataConversionWarning: Data was converted to boolean for metric kulsinski\n",
      "  warnings.warn(msg, DataConversionWarning)\n",
      "/home/lauro/anaconda3/envs/qiime2-2022.2/lib/python3.8/site-packages/sklearn/metrics/pairwise.py:1761: DataConversionWarning: Data was converted to boolean for metric matching\n",
      "  warnings.warn(msg, DataConversionWarning)\n",
      "/home/lauro/anaconda3/envs/qiime2-2022.2/lib/python3.8/site-packages/sklearn/metrics/pairwise.py:1761: DataConversionWarning: Data was converted to boolean for metric rogerstanimoto\n",
      "  warnings.warn(msg, DataConversionWarning)\n"
     ]
    },
    {
     "name": "stdout",
     "output_type": "stream",
     "text": [
      "DONE: Calculating beta diversity: matching\n",
      "Calculating beta diversity: minkowski\n",
      "DONE: Calculating beta diversity: minkowski\n",
      "Calculating beta diversity: rogerstanimoto\n",
      "DONE: Calculating beta diversity: rogerstanimoto\n",
      "Calculating beta diversity: russellrao\n",
      "ERROR: Calculating beta diversity: russellrao\n",
      "Calculating beta diversity: seuclidean\n"
     ]
    },
    {
     "name": "stderr",
     "output_type": "stream",
     "text": [
      "/home/lauro/anaconda3/envs/qiime2-2022.2/lib/python3.8/site-packages/sklearn/metrics/pairwise.py:1761: DataConversionWarning: Data was converted to boolean for metric russellrao\n",
      "  warnings.warn(msg, DataConversionWarning)\n",
      "/home/lauro/anaconda3/envs/qiime2-2022.2/lib/python3.8/site-packages/sklearn/metrics/pairwise.py:1761: DataConversionWarning: Data was converted to boolean for metric sokalmichener\n",
      "  warnings.warn(msg, DataConversionWarning)\n",
      "/home/lauro/anaconda3/envs/qiime2-2022.2/lib/python3.8/site-packages/sklearn/metrics/pairwise.py:1761: DataConversionWarning: Data was converted to boolean for metric sokalsneath\n",
      "  warnings.warn(msg, DataConversionWarning)\n"
     ]
    },
    {
     "name": "stdout",
     "output_type": "stream",
     "text": [
      "DONE: Calculating beta diversity: seuclidean\n",
      "Calculating beta diversity: sokalmichener\n",
      "DONE: Calculating beta diversity: sokalmichener\n",
      "Calculating beta diversity: sokalsneath\n",
      "DONE: Calculating beta diversity: sokalsneath\n",
      "Calculating beta diversity: sqeuclidean\n",
      "DONE: Calculating beta diversity: sqeuclidean\n",
      "Calculating beta diversity: yule\n",
      "DONE: Calculating beta diversity: yule\n"
     ]
    },
    {
     "name": "stderr",
     "output_type": "stream",
     "text": [
      "/home/lauro/anaconda3/envs/qiime2-2022.2/lib/python3.8/site-packages/sklearn/metrics/pairwise.py:1761: DataConversionWarning: Data was converted to boolean for metric yule\n",
      "  warnings.warn(msg, DataConversionWarning)\n"
     ]
    }
   ],
   "source": [
    "metrics = ('aitchison', 'braycurtis', 'canberra', 'canberra_adkins', 'chebyshev', 'cityblock', 'correlation', 'cosine', 'dice', 'euclidean', 'hamming', 'jaccard', 'jensenshannon', 'kulsinski', 'matching', 'minkowski', 'rogerstanimoto', 'russellrao', 'seuclidean', 'sokalmichener', 'sokalsneath', 'sqeuclidean', 'yule')\n",
    "beta_diversities = dict()\n",
    "for metric in metrics:\n",
    "    print(f\"Calculating beta diversity: {metric}\")\n",
    "    try:\n",
    "        beta_diversity = beta(table=tabs, metric=metric, n_jobs=6, pseudocount=1).distance_matrix\n",
    "        beta_diversities[metric] = beta_diversity\n",
    "        # Save SampleData[BetaDiversity] Artifact\n",
    "        file_path = os.path.join(beta_path, f'beta-values-{metric}.qza')\n",
    "        beta_diversity.save(file_path)\n",
    "        print(f\"DONE: Calculating beta diversity: {metric}\")\n",
    "    except Exception as e:\n",
    "        print(f\"ERROR: Calculating beta diversity: {metric}\")"
   ]
  },
  {
   "cell_type": "markdown",
   "id": "200a2fa7",
   "metadata": {
    "papermill": {
     "duration": null,
     "end_time": null,
     "exception": null,
     "start_time": null,
     "status": "completed"
    },
    "tags": []
   },
   "source": [
    "### Beta group significance\n",
    "\n",
    "- [diversity beta_group_significance](https://docs.qiime2.org/2022.8/plugins/available/diversity/beta-group-significance/): Determine whether groups of samples are significantly different from one another using a permutation-based statistical test.\n",
    "- Marti J Anderson. A new method for non-parametric multivariate analysis of variance. Austral ecology, 26(1):32–46, 2001. doi:https://doi.org/10.1111/j.1442-9993.2001.01070.pp.x."
   ]
  },
  {
   "cell_type": "code",
   "execution_count": null,
   "id": "b8dd42b6",
   "metadata": {
    "ExecuteTime": {
     "start_time": "2023-06-07T14:26:53.658Z"
    },
    "papermill": {
     "duration": null,
     "end_time": null,
     "exception": null,
     "start_time": null,
     "status": "completed"
    },
    "tags": []
   },
   "outputs": [
    {
     "name": "stdout",
     "output_type": "stream",
     "text": [
      "Calculating beta group significance with method permanova and metric aitchison\n",
      "DONE: Calculating beta group significance: permanova aitchison\n",
      "Calculating beta group significance with method permanova and metric braycurtis\n",
      "DONE: Calculating beta group significance: permanova braycurtis\n",
      "Calculating beta group significance with method permanova and metric canberra\n",
      "DONE: Calculating beta group significance: permanova canberra\n",
      "Calculating beta group significance with method permanova and metric canberra_adkins\n",
      "DONE: Calculating beta group significance: permanova canberra_adkins\n",
      "Calculating beta group significance with method permanova and metric chebyshev\n",
      "DONE: Calculating beta group significance: permanova chebyshev\n",
      "Calculating beta group significance with method permanova and metric cityblock\n",
      "DONE: Calculating beta group significance: permanova cityblock\n",
      "Calculating beta group significance with method permanova and metric dice\n",
      "DONE: Calculating beta group significance: permanova dice\n",
      "Calculating beta group significance with method permanova and metric euclidean\n",
      "DONE: Calculating beta group significance: permanova euclidean\n",
      "Calculating beta group significance with method permanova and metric hamming\n",
      "DONE: Calculating beta group significance: permanova hamming\n",
      "Calculating beta group significance with method permanova and metric jaccard\n",
      "DONE: Calculating beta group significance: permanova jaccard\n",
      "Calculating beta group significance with method permanova and metric jensenshannon\n",
      "DONE: Calculating beta group significance: permanova jensenshannon\n",
      "Calculating beta group significance with method permanova and metric matching\n",
      "DONE: Calculating beta group significance: permanova matching\n",
      "Calculating beta group significance with method permanova and metric minkowski\n",
      "DONE: Calculating beta group significance: permanova minkowski\n",
      "Calculating beta group significance with method permanova and metric rogerstanimoto\n",
      "DONE: Calculating beta group significance: permanova rogerstanimoto\n",
      "Calculating beta group significance with method permanova and metric seuclidean\n",
      "DONE: Calculating beta group significance: permanova seuclidean\n",
      "Calculating beta group significance with method permanova and metric sokalmichener\n",
      "DONE: Calculating beta group significance: permanova sokalmichener\n",
      "Calculating beta group significance with method permanova and metric sokalsneath\n",
      "DONE: Calculating beta group significance: permanova sokalsneath\n",
      "Calculating beta group significance with method permanova and metric sqeuclidean\n",
      "DONE: Calculating beta group significance: permanova sqeuclidean\n",
      "Calculating beta group significance with method permanova and metric yule\n",
      "DONE: Calculating beta group significance: permanova yule\n",
      "Calculating beta group significance with method anosim and metric aitchison\n",
      "DONE: Calculating beta group significance: anosim aitchison\n",
      "Calculating beta group significance with method anosim and metric braycurtis\n",
      "DONE: Calculating beta group significance: anosim braycurtis\n",
      "Calculating beta group significance with method anosim and metric canberra\n",
      "DONE: Calculating beta group significance: anosim canberra\n",
      "Calculating beta group significance with method anosim and metric canberra_adkins\n",
      "DONE: Calculating beta group significance: anosim canberra_adkins\n",
      "Calculating beta group significance with method anosim and metric chebyshev\n",
      "DONE: Calculating beta group significance: anosim chebyshev\n",
      "Calculating beta group significance with method anosim and metric cityblock\n",
      "DONE: Calculating beta group significance: anosim cityblock\n",
      "Calculating beta group significance with method anosim and metric dice\n",
      "DONE: Calculating beta group significance: anosim dice\n",
      "Calculating beta group significance with method anosim and metric euclidean\n",
      "DONE: Calculating beta group significance: anosim euclidean\n",
      "Calculating beta group significance with method anosim and metric hamming\n",
      "DONE: Calculating beta group significance: anosim hamming\n",
      "Calculating beta group significance with method anosim and metric jaccard\n",
      "DONE: Calculating beta group significance: anosim jaccard\n",
      "Calculating beta group significance with method anosim and metric jensenshannon\n",
      "DONE: Calculating beta group significance: anosim jensenshannon\n",
      "Calculating beta group significance with method anosim and metric matching\n",
      "DONE: Calculating beta group significance: anosim matching\n",
      "Calculating beta group significance with method anosim and metric minkowski\n",
      "DONE: Calculating beta group significance: anosim minkowski\n",
      "Calculating beta group significance with method anosim and metric rogerstanimoto\n",
      "DONE: Calculating beta group significance: anosim rogerstanimoto\n",
      "Calculating beta group significance with method anosim and metric seuclidean\n",
      "DONE: Calculating beta group significance: anosim seuclidean\n",
      "Calculating beta group significance with method anosim and metric sokalmichener\n",
      "DONE: Calculating beta group significance: anosim sokalmichener\n",
      "Calculating beta group significance with method anosim and metric sokalsneath\n",
      "DONE: Calculating beta group significance: anosim sokalsneath\n",
      "Calculating beta group significance with method anosim and metric sqeuclidean\n",
      "DONE: Calculating beta group significance: anosim sqeuclidean\n",
      "Calculating beta group significance with method anosim and metric yule\n",
      "DONE: Calculating beta group significance: anosim yule\n",
      "Calculating beta group significance with method permdisp and metric aitchison\n",
      "DONE: Calculating beta group significance: permdisp aitchison\n",
      "Calculating beta group significance with method permdisp and metric braycurtis\n",
      "DONE: Calculating beta group significance: permdisp braycurtis\n",
      "Calculating beta group significance with method permdisp and metric canberra\n"
     ]
    },
    {
     "name": "stderr",
     "output_type": "stream",
     "text": [
      "/home/lauro/anaconda3/envs/qiime2-2022.2/lib/python3.8/site-packages/skbio/stats/ordination/_principal_coordinate_analysis.py:143: RuntimeWarning: The result contains negative eigenvalues. Please compare their magnitude with the magnitude of some of the largest positive eigenvalues. If the negative ones are smaller, it's probably safe to ignore them, but if they are large in magnitude, the results won't be useful. See the Notes section for more details. The smallest eigenvalue is -1089.9453866106126 and the largest is 188727.77790363476.\n",
      "  warn(\n",
      "/home/lauro/anaconda3/envs/qiime2-2022.2/lib/python3.8/site-packages/skbio/stats/ordination/_principal_coordinate_analysis.py:143: RuntimeWarning: The result contains negative eigenvalues. Please compare their magnitude with the magnitude of some of the largest positive eigenvalues. If the negative ones are smaller, it's probably safe to ignore them, but if they are large in magnitude, the results won't be useful. See the Notes section for more details. The smallest eigenvalue is -1089.9453866106126 and the largest is 188727.77790363476.\n",
      "  warn(\n"
     ]
    },
    {
     "name": "stdout",
     "output_type": "stream",
     "text": [
      "DONE: Calculating beta group significance: permdisp canberra\n",
      "Calculating beta group significance with method permdisp and metric canberra_adkins\n",
      "DONE: Calculating beta group significance: permdisp canberra_adkins\n",
      "Calculating beta group significance with method permdisp and metric chebyshev\n"
     ]
    },
    {
     "name": "stderr",
     "output_type": "stream",
     "text": [
      "/home/lauro/anaconda3/envs/qiime2-2022.2/lib/python3.8/site-packages/skbio/stats/ordination/_principal_coordinate_analysis.py:143: RuntimeWarning: The result contains negative eigenvalues. Please compare their magnitude with the magnitude of some of the largest positive eigenvalues. If the negative ones are smaller, it's probably safe to ignore them, but if they are large in magnitude, the results won't be useful. See the Notes section for more details. The smallest eigenvalue is -64513921.727350816 and the largest is 2023042637.6736412.\n",
      "  warn(\n",
      "/home/lauro/anaconda3/envs/qiime2-2022.2/lib/python3.8/site-packages/skbio/stats/ordination/_principal_coordinate_analysis.py:143: RuntimeWarning: The result contains negative eigenvalues. Please compare their magnitude with the magnitude of some of the largest positive eigenvalues. If the negative ones are smaller, it's probably safe to ignore them, but if they are large in magnitude, the results won't be useful. See the Notes section for more details. The smallest eigenvalue is -64513921.727350816 and the largest is 2023042637.6736412.\n",
      "  warn(\n"
     ]
    },
    {
     "name": "stdout",
     "output_type": "stream",
     "text": [
      "DONE: Calculating beta group significance: permdisp chebyshev\n",
      "Calculating beta group significance with method permdisp and metric cityblock\n"
     ]
    },
    {
     "name": "stderr",
     "output_type": "stream",
     "text": [
      "/home/lauro/anaconda3/envs/qiime2-2022.2/lib/python3.8/site-packages/skbio/stats/ordination/_principal_coordinate_analysis.py:143: RuntimeWarning: The result contains negative eigenvalues. Please compare their magnitude with the magnitude of some of the largest positive eigenvalues. If the negative ones are smaller, it's probably safe to ignore them, but if they are large in magnitude, the results won't be useful. See the Notes section for more details. The smallest eigenvalue is -20305025731.911304 and the largest is 182263446360.66504.\n",
      "  warn(\n",
      "/home/lauro/anaconda3/envs/qiime2-2022.2/lib/python3.8/site-packages/skbio/stats/ordination/_principal_coordinate_analysis.py:143: RuntimeWarning: The result contains negative eigenvalues. Please compare their magnitude with the magnitude of some of the largest positive eigenvalues. If the negative ones are smaller, it's probably safe to ignore them, but if they are large in magnitude, the results won't be useful. See the Notes section for more details. The smallest eigenvalue is -20305025731.911304 and the largest is 182263446360.66504.\n",
      "  warn(\n"
     ]
    },
    {
     "name": "stdout",
     "output_type": "stream",
     "text": [
      "DONE: Calculating beta group significance: permdisp cityblock\n",
      "Calculating beta group significance with method permdisp and metric dice\n",
      "DONE: Calculating beta group significance: permdisp dice\n",
      "Calculating beta group significance with method permdisp and metric euclidean\n"
     ]
    },
    {
     "name": "stderr",
     "output_type": "stream",
     "text": [
      "/home/lauro/anaconda3/envs/qiime2-2022.2/lib/python3.8/site-packages/skbio/stats/ordination/_principal_coordinate_analysis.py:143: RuntimeWarning: The result contains negative eigenvalues. Please compare their magnitude with the magnitude of some of the largest positive eigenvalues. If the negative ones are smaller, it's probably safe to ignore them, but if they are large in magnitude, the results won't be useful. See the Notes section for more details. The smallest eigenvalue is -3.4955932324974824e-07 and the largest is 4930622125.309508.\n",
      "  warn(\n",
      "/home/lauro/anaconda3/envs/qiime2-2022.2/lib/python3.8/site-packages/skbio/stats/ordination/_principal_coordinate_analysis.py:143: RuntimeWarning: The result contains negative eigenvalues. Please compare their magnitude with the magnitude of some of the largest positive eigenvalues. If the negative ones are smaller, it's probably safe to ignore them, but if they are large in magnitude, the results won't be useful. See the Notes section for more details. The smallest eigenvalue is -3.4955932324974824e-07 and the largest is 4930622125.309508.\n",
      "  warn(\n"
     ]
    },
    {
     "name": "stdout",
     "output_type": "stream",
     "text": [
      "DONE: Calculating beta group significance: permdisp euclidean\n",
      "Calculating beta group significance with method permdisp and metric hamming\n"
     ]
    },
    {
     "name": "stderr",
     "output_type": "stream",
     "text": [
      "/home/lauro/anaconda3/envs/qiime2-2022.2/lib/python3.8/site-packages/skbio/stats/ordination/_principal_coordinate_analysis.py:143: RuntimeWarning: The result contains negative eigenvalues. Please compare their magnitude with the magnitude of some of the largest positive eigenvalues. If the negative ones are smaller, it's probably safe to ignore them, but if they are large in magnitude, the results won't be useful. See the Notes section for more details. The smallest eigenvalue is -0.005316008853131782 and the largest is 0.21547471133983417.\n",
      "  warn(\n",
      "/home/lauro/anaconda3/envs/qiime2-2022.2/lib/python3.8/site-packages/skbio/stats/ordination/_principal_coordinate_analysis.py:143: RuntimeWarning: The result contains negative eigenvalues. Please compare their magnitude with the magnitude of some of the largest positive eigenvalues. If the negative ones are smaller, it's probably safe to ignore them, but if they are large in magnitude, the results won't be useful. See the Notes section for more details. The smallest eigenvalue is -0.005316008853131782 and the largest is 0.21547471133983417.\n",
      "  warn(\n"
     ]
    },
    {
     "name": "stdout",
     "output_type": "stream",
     "text": [
      "DONE: Calculating beta group significance: permdisp hamming\n",
      "Calculating beta group significance with method permdisp and metric jaccard\n",
      "DONE: Calculating beta group significance: permdisp jaccard\n",
      "Calculating beta group significance with method permdisp and metric jensenshannon\n",
      "DONE: Calculating beta group significance: permdisp jensenshannon\n",
      "Calculating beta group significance with method permdisp and metric matching\n"
     ]
    },
    {
     "name": "stderr",
     "output_type": "stream",
     "text": [
      "/home/lauro/anaconda3/envs/qiime2-2022.2/lib/python3.8/site-packages/skbio/stats/ordination/_principal_coordinate_analysis.py:143: RuntimeWarning: The result contains negative eigenvalues. Please compare their magnitude with the magnitude of some of the largest positive eigenvalues. If the negative ones are smaller, it's probably safe to ignore them, but if they are large in magnitude, the results won't be useful. See the Notes section for more details. The smallest eigenvalue is -0.00076856989828765 and the largest is 0.19270075271999237.\n",
      "  warn(\n",
      "/home/lauro/anaconda3/envs/qiime2-2022.2/lib/python3.8/site-packages/skbio/stats/ordination/_principal_coordinate_analysis.py:143: RuntimeWarning: The result contains negative eigenvalues. Please compare their magnitude with the magnitude of some of the largest positive eigenvalues. If the negative ones are smaller, it's probably safe to ignore them, but if they are large in magnitude, the results won't be useful. See the Notes section for more details. The smallest eigenvalue is -0.00076856989828765 and the largest is 0.19270075271999237.\n",
      "  warn(\n"
     ]
    },
    {
     "name": "stdout",
     "output_type": "stream",
     "text": [
      "DONE: Calculating beta group significance: permdisp matching\n",
      "Calculating beta group significance with method permdisp and metric minkowski\n"
     ]
    },
    {
     "name": "stderr",
     "output_type": "stream",
     "text": [
      "/home/lauro/anaconda3/envs/qiime2-2022.2/lib/python3.8/site-packages/skbio/stats/ordination/_principal_coordinate_analysis.py:143: RuntimeWarning: The result contains negative eigenvalues. Please compare their magnitude with the magnitude of some of the largest positive eigenvalues. If the negative ones are smaller, it's probably safe to ignore them, but if they are large in magnitude, the results won't be useful. See the Notes section for more details. The smallest eigenvalue is -3.4955932324974824e-07 and the largest is 4930622125.309508.\n",
      "  warn(\n",
      "/home/lauro/anaconda3/envs/qiime2-2022.2/lib/python3.8/site-packages/skbio/stats/ordination/_principal_coordinate_analysis.py:143: RuntimeWarning: The result contains negative eigenvalues. Please compare their magnitude with the magnitude of some of the largest positive eigenvalues. If the negative ones are smaller, it's probably safe to ignore them, but if they are large in magnitude, the results won't be useful. See the Notes section for more details. The smallest eigenvalue is -3.4955932324974824e-07 and the largest is 4930622125.309508.\n",
      "  warn(\n"
     ]
    }
   ],
   "source": [
    "methods = ('permanova', 'anosim', 'permdisp')\n",
    "for method in methods:\n",
    "    for metric, beta_diversity in beta_diversities.items():\n",
    "        print(f'Calculating beta group significance with method {method} and metric {metric}')\n",
    "        try:\n",
    "            beta_view = beta_group_significance(distance_matrix=beta_diversity, \n",
    "                                                metadata=metadata_qa.get_column(class_col), \n",
    "                                                pairwise=True, method=method).visualization\n",
    "            view_name = os.path.join(beta_path, f'beta-group-significance-{metric}-{method}.qzv')\n",
    "            beta_view.save(view_name)\n",
    "            print(f\"DONE: Calculating beta group significance: {method} {metric}\")\n",
    "        except Exception as e:\n",
    "            print(f\"ERROR: Calculating beta group significance: {method} {metric}\")"
   ]
  },
  {
   "cell_type": "markdown",
   "id": "c0de85cf",
   "metadata": {
    "papermill": {
     "duration": null,
     "end_time": null,
     "exception": null,
     "start_time": null,
     "status": "completed"
    },
    "tags": []
   },
   "source": [
    "### Beta group Rarefaction\n",
    "\n",
    "- [diversity beta_rarefaction](https://docs.qiime2.org/2022.8/plugins/available/diversity/beta-rarefaction/): Repeatedly rarefy a feature table to compare beta diversity results within a given rarefaction depth.  For a given beta diversity metric, this visualizer will provide: an Emperor jackknifed PCoA plot, samples clustered by UPGMA or neighbor joining with support calculation, and a heatmap showing the correlation between rarefaction trials of that beta diversity metric."
   ]
  }
 ],
 "metadata": {
  "celltoolbar": "Edit Metadata",
  "kernelspec": {
   "display_name": "Python 3 (ipykernel)",
   "language": "python",
   "name": "python3"
  },
  "language_info": {
   "codemirror_mode": {
    "name": "ipython",
    "version": 3
   },
   "file_extension": ".py",
   "mimetype": "text/x-python",
   "name": "python",
   "nbconvert_exporter": "python",
   "pygments_lexer": "ipython3",
   "version": "3.8.12"
  },
  "papermill": {
   "default_parameters": {},
   "duration": 3378.312561,
   "end_time": "2023-06-07T14:17:51.075737",
   "environment_variables": {},
   "exception": null,
   "input_path": "nb-templates/step-diversity-analysis.ipynb",
   "output_path": "/home/lauro/nupeb/rede-micro/redemicro-ana-flavia-nutri/experiments/ana-flavia-NRxSTD-NR-trim/nb-executed-steps/step-diversity-analysis-ana-flavia-NRxSTD-NR-trim.ipynb",
   "parameters": {
    "base_dir": "/home/lauro/nupeb/rede-micro/redemicro-ana-flavia-nutri",
    "class_col": "group-id",
    "classifier_file": "/home/lauro/nupeb/rede-micro/models/silva-138-99-nb-classifier.qza",
    "experiment_name": "ana-flavia-NRxSTD-NR-trim",
    "manifest_file": "/home/lauro/nupeb/rede-micro/redemicro-ana-flavia-nutri/data/raw/manifest/manifest-ana-flavia-NRxSTD-NR.csv",
    "metadata_file": "/home/lauro/nupeb/rede-micro/redemicro-ana-flavia-nutri/data/raw/metadata/metadata-ana-flavia-NRxSTD-NR.tsv",
    "overlap": 12,
    "phred": 20,
    "replace_files": false,
    "threads": 6,
    "top_n": 20,
    "trim": {
     "forward_primer": "CCTACGGGRSGCAGCAG",
     "overlap": 8,
     "reverse_primer": "GGACTACHVGGGTWTCTAAT"
    },
    "trunc_f": 0,
    "trunc_r": 0
   },
   "start_time": "2023-06-07T13:21:32.763176",
   "version": "2.3.4"
  }
 },
 "nbformat": 4,
 "nbformat_minor": 5
}
