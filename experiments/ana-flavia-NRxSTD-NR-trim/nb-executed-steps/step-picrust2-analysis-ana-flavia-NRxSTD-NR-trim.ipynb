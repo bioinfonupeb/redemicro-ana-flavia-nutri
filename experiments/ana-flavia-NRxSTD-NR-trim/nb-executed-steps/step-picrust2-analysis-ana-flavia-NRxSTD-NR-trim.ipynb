{
 "cells": [
  {
   "cell_type": "markdown",
   "id": "0e7f2330",
   "metadata": {
    "ExecuteTime": {
     "end_time": "2022-09-22T19:36:33.828188Z",
     "start_time": "2022-09-22T19:36:33.817323Z"
    },
    "papermill": {
     "duration": 0.036442,
     "end_time": "2023-06-07T14:55:44.431694",
     "exception": false,
     "start_time": "2023-06-07T14:55:44.395252",
     "status": "completed"
    },
    "tags": []
   },
   "source": [
    "### STEP : PICRUST2 Analysis\n",
    "\n",
    "\n",
    "\n",
    "#### Example\n",
    "\n",
    "- [PICRUST2 tutorial](https://github.com/picrust/picrust2/wiki/q2-picrust2-Tutorial)\n",
    "- [Limitations](https://github.com/picrust/picrust2/wiki/Key-Limitations)\n",
    "\n",
    "\n",
    "#### Methods\n",
    "- [composition](https://docs.qiime2.org/2022.8/plugins/available/composition/)"
   ]
  },
  {
   "cell_type": "markdown",
   "id": "843debbf",
   "metadata": {
    "papermill": {
     "duration": 0.054523,
     "end_time": "2023-06-07T14:55:44.515997",
     "exception": false,
     "start_time": "2023-06-07T14:55:44.461474",
     "status": "completed"
    },
    "tags": []
   },
   "source": [
    "## Setup and settings"
   ]
  },
  {
   "cell_type": "code",
   "execution_count": 1,
   "id": "965e28e5",
   "metadata": {
    "ExecuteTime": {
     "end_time": "2022-11-09T19:20:47.478806Z",
     "start_time": "2022-11-09T19:20:40.457657Z"
    },
    "execution": {
     "iopub.execute_input": "2023-06-07T14:55:44.608651Z",
     "iopub.status.busy": "2023-06-07T14:55:44.607480Z",
     "iopub.status.idle": "2023-06-07T14:55:51.669350Z",
     "shell.execute_reply": "2023-06-07T14:55:51.670209Z"
    },
    "papermill": {
     "duration": 7.11172,
     "end_time": "2023-06-07T14:55:51.670634",
     "exception": false,
     "start_time": "2023-06-07T14:55:44.558914",
     "status": "completed"
    },
    "tags": []
   },
   "outputs": [],
   "source": [
    "# Importing packages\n",
    "import os\n",
    "import biom\n",
    "import pandas as pd\n",
    "from qiime2 import Artifact\n",
    "from qiime2 import Visualization\n",
    "from qiime2 import Metadata\n",
    "\n",
    "from qiime2.plugins.feature_table.visualizers import summarize\n",
    "\n",
    "from picrust2.pipeline import full_pipeline\n",
    "from picrust2.default import (default_ref_dir, default_tables, default_regroup_map, default_pathway_map)\n",
    "from qiime2.plugins import picrust2\n",
    "\n",
    "%matplotlib inline"
   ]
  },
  {
   "cell_type": "markdown",
   "id": "530ceb60",
   "metadata": {
    "papermill": {
     "duration": 0.027931,
     "end_time": "2023-06-07T14:55:51.734197",
     "exception": false,
     "start_time": "2023-06-07T14:55:51.706266",
     "status": "completed"
    },
    "tags": []
   },
   "source": [
    "### Receiving the parameters\n",
    "\n",
    "The following cell can receive parameters using the [papermill](https://papermill.readthedocs.io/en/latest/) tool."
   ]
  },
  {
   "cell_type": "code",
   "execution_count": 2,
   "id": "18d874ea",
   "metadata": {
    "ExecuteTime": {
     "end_time": "2022-11-09T19:20:47.483140Z",
     "start_time": "2022-11-09T19:20:47.480386Z"
    },
    "execution": {
     "iopub.execute_input": "2023-06-07T14:55:51.796221Z",
     "iopub.status.busy": "2023-06-07T14:55:51.795713Z",
     "iopub.status.idle": "2023-06-07T14:55:51.798453Z",
     "shell.execute_reply": "2023-06-07T14:55:51.798844Z"
    },
    "papermill": {
     "duration": 0.035577,
     "end_time": "2023-06-07T14:55:51.798959",
     "exception": false,
     "start_time": "2023-06-07T14:55:51.763382",
     "status": "completed"
    },
    "tags": [
     "parameters"
    ]
   },
   "outputs": [],
   "source": [
    "metadata_file = '/home/lauro/nupeb/rede-micro/redemicro-miliane-nutri/data/raw/metadata/miliane-metadata-CxAC.tsv'\n",
    "base_dir = os.path.join('/', 'home', 'lauro', 'nupeb', 'rede-micro', 'redemicro-miliane-nutri')\n",
    "experiment_name = 'miliane-CxAC-trim'\n",
    "class_col = 'group-id'\n",
    "replace_files = False"
   ]
  },
  {
   "cell_type": "code",
   "execution_count": 3,
   "id": "a2dfcec2",
   "metadata": {
    "execution": {
     "iopub.execute_input": "2023-06-07T14:55:51.863196Z",
     "iopub.status.busy": "2023-06-07T14:55:51.862682Z",
     "iopub.status.idle": "2023-06-07T14:55:51.865719Z",
     "shell.execute_reply": "2023-06-07T14:55:51.865313Z"
    },
    "papermill": {
     "duration": 0.036785,
     "end_time": "2023-06-07T14:55:51.865818",
     "exception": false,
     "start_time": "2023-06-07T14:55:51.829033",
     "status": "completed"
    },
    "tags": [
     "injected-parameters"
    ]
   },
   "outputs": [],
   "source": [
    "# Parameters\n",
    "experiment_name = \"ana-flavia-NRxSTD-NR-trim\"\n",
    "base_dir = \"/home/lauro/nupeb/rede-micro/redemicro-ana-flavia-nutri\"\n",
    "manifest_file = \"/home/lauro/nupeb/rede-micro/redemicro-ana-flavia-nutri/data/raw/manifest/manifest-ana-flavia-NRxSTD-NR.csv\"\n",
    "metadata_file = \"/home/lauro/nupeb/rede-micro/redemicro-ana-flavia-nutri/data/raw/metadata/metadata-ana-flavia-NRxSTD-NR.tsv\"\n",
    "class_col = \"group-id\"\n",
    "classifier_file = \"/home/lauro/nupeb/rede-micro/models/silva-138-99-nb-classifier.qza\"\n",
    "top_n = 20\n",
    "replace_files = False\n",
    "phred = 20\n",
    "trunc_f = 0\n",
    "trunc_r = 0\n",
    "overlap = 12\n",
    "threads = 6\n",
    "trim = {\n",
    "    \"overlap\": 8,\n",
    "    \"forward_primer\": \"CCTACGGGRSGCAGCAG\",\n",
    "    \"reverse_primer\": \"GGACTACHVGGGTWTCTAAT\",\n",
    "}\n"
   ]
  },
  {
   "cell_type": "code",
   "execution_count": 4,
   "id": "f38617d9",
   "metadata": {
    "ExecuteTime": {
     "end_time": "2022-11-09T19:20:47.515942Z",
     "start_time": "2022-11-09T19:20:47.498345Z"
    },
    "execution": {
     "iopub.execute_input": "2023-06-07T14:55:51.973944Z",
     "iopub.status.busy": "2023-06-07T14:55:51.973316Z",
     "iopub.status.idle": "2023-06-07T14:55:51.975597Z",
     "shell.execute_reply": "2023-06-07T14:55:51.976072Z"
    },
    "papermill": {
     "duration": 0.080956,
     "end_time": "2023-06-07T14:55:51.976214",
     "exception": false,
     "start_time": "2023-06-07T14:55:51.895258",
     "status": "completed"
    },
    "tags": []
   },
   "outputs": [],
   "source": [
    "experiment_folder = os.path.abspath(os.path.join(base_dir, 'experiments', experiment_name))\n",
    "img_folder = os.path.abspath(os.path.join(experiment_folder, 'imgs'))"
   ]
  },
  {
   "cell_type": "markdown",
   "id": "ea9b90fb",
   "metadata": {
    "papermill": {
     "duration": 0.028596,
     "end_time": "2023-06-07T14:55:52.034922",
     "exception": false,
     "start_time": "2023-06-07T14:55:52.006326",
     "status": "completed"
    },
    "tags": []
   },
   "source": [
    "### Defining names, paths and flags"
   ]
  },
  {
   "cell_type": "code",
   "execution_count": 5,
   "id": "45727eef",
   "metadata": {
    "ExecuteTime": {
     "end_time": "2022-11-09T19:20:47.527937Z",
     "start_time": "2022-11-09T19:20:47.517696Z"
    },
    "execution": {
     "iopub.execute_input": "2023-06-07T14:55:52.096907Z",
     "iopub.status.busy": "2023-06-07T14:55:52.096436Z",
     "iopub.status.idle": "2023-06-07T14:55:52.100760Z",
     "shell.execute_reply": "2023-06-07T14:55:52.100354Z"
    },
    "papermill": {
     "duration": 0.038035,
     "end_time": "2023-06-07T14:55:52.100855",
     "exception": false,
     "start_time": "2023-06-07T14:55:52.062820",
     "status": "completed"
    },
    "tags": []
   },
   "outputs": [
    {
     "name": "stdout",
     "output_type": "stream",
     "text": [
      "New picrust2-artifacts folder path created: /home/lauro/nupeb/rede-micro/redemicro-ana-flavia-nutri/experiments/ana-flavia-NRxSTD-NR-trim/picrust2\n"
     ]
    }
   ],
   "source": [
    "# QIIME2 Artifacts folder\n",
    "qiime_folder = os.path.join(experiment_folder, 'qiime-artifacts')\n",
    "\n",
    "# Input - DADA2 Artifacts\n",
    "dada2_tabs_path = os.path.join(qiime_folder, 'dada2-tabs.qza')\n",
    "dada2_reqs_path = os.path.join(qiime_folder, 'dada2-reps.qza')\n",
    "\n",
    "# PICRUST@ folder\n",
    "picrust2_folder = os.path.abspath(os.path.join(experiment_folder, 'picrust2'))\n",
    "\n",
    "# Create path if it not exist\n",
    "if not os.path.isdir(picrust2_folder):\n",
    "    os.makedirs(picrust2_folder)\n",
    "    print(f'New picrust2-artifacts folder path created: {picrust2_folder}')"
   ]
  },
  {
   "cell_type": "code",
   "execution_count": 6,
   "id": "4903e645",
   "metadata": {
    "ExecuteTime": {
     "end_time": "2022-11-09T19:20:47.539993Z",
     "start_time": "2022-11-09T19:20:47.529653Z"
    },
    "execution": {
     "iopub.execute_input": "2023-06-07T14:55:52.168279Z",
     "iopub.status.busy": "2023-06-07T14:55:52.167803Z",
     "iopub.status.idle": "2023-06-07T14:55:52.170560Z",
     "shell.execute_reply": "2023-06-07T14:55:52.170925Z"
    },
    "papermill": {
     "duration": 0.0389,
     "end_time": "2023-06-07T14:55:52.171034",
     "exception": false,
     "start_time": "2023-06-07T14:55:52.132134",
     "status": "completed"
    },
    "tags": []
   },
   "outputs": [],
   "source": [
    "# Define paths for metagenome function artifacts\n",
    "ec_path = os.path.join(picrust2_folder, 'ec-pred-metagen.qza')\n",
    "ko_path = os.path.join(picrust2_folder, 'ko-pred-metagen.qza')\n",
    "pathway_path = os.path.join(picrust2_folder, 'pathway-abundance.qza')\n",
    "\n",
    "# Define paths for metagenome function visualization artifacts\n",
    "ec_viz_path = ec_path[:-1]+'v'\n",
    "ko_viz_path = ko_path[:-1]+'v'\n",
    "pathway_viz_path = pathway_path[:-1]+'v'\n",
    "\n",
    "# Define paths for biom -> tsv files (function X sample)\n",
    "pathway_fpath = os.path.join(picrust2_folder, 'pathway.tsv')\n",
    "ec_fpath = os.path.join(picrust2_folder, 'ec.tsv')\n",
    "ko_fpath = os.path.join(picrust2_folder, 'ko.tsv')\n",
    "\n",
    "# Define paths for biom -> tsv files (function X sample) - with descriptions\n",
    "pathway_desc_fpath = os.path.join(picrust2_folder, 'pathway-desc.tsv')\n",
    "ec_desc_fpath = os.path.join(picrust2_folder, 'ec-desc.tsv')\n",
    "ko_desc_fpath = os.path.join(picrust2_folder, 'ko-desc.tsv')"
   ]
  },
  {
   "cell_type": "markdown",
   "id": "0999a1b2",
   "metadata": {
    "papermill": {
     "duration": 0.028276,
     "end_time": "2023-06-07T14:55:52.229240",
     "exception": false,
     "start_time": "2023-06-07T14:55:52.200964",
     "status": "completed"
    },
    "tags": []
   },
   "source": [
    "## Step execution\n",
    "\n",
    "### Load input files\n",
    "\n",
    "This Step import the QIIME2 `FeatureTable[Frequency]` Artifact and the `Metadata` file."
   ]
  },
  {
   "cell_type": "code",
   "execution_count": 7,
   "id": "8f299d1a",
   "metadata": {
    "ExecuteTime": {
     "end_time": "2022-11-09T19:20:47.610793Z",
     "start_time": "2022-11-09T19:20:47.541540Z"
    },
    "execution": {
     "iopub.execute_input": "2023-06-07T14:55:52.290863Z",
     "iopub.status.busy": "2023-06-07T14:55:52.290387Z",
     "iopub.status.idle": "2023-06-07T14:55:52.317870Z",
     "shell.execute_reply": "2023-06-07T14:55:52.317175Z"
    },
    "papermill": {
     "duration": 0.060275,
     "end_time": "2023-06-07T14:55:52.318012",
     "exception": false,
     "start_time": "2023-06-07T14:55:52.257737",
     "status": "completed"
    },
    "tags": []
   },
   "outputs": [],
   "source": [
    "#Load Metadata\n",
    "metadata_qa = Metadata.load(metadata_file)\n",
    "\n",
    "#Load FeatureTable[Frequency]\n",
    "tabs = Artifact.load(dada2_tabs_path)\n",
    "\n",
    "#Load FeatureTable[Sequence]\n",
    "seqs = Artifact.load(dada2_reqs_path)"
   ]
  },
  {
   "cell_type": "markdown",
   "id": "4f1b06d4",
   "metadata": {
    "papermill": {
     "duration": 0.02867,
     "end_time": "2023-06-07T14:55:52.379023",
     "exception": false,
     "start_time": "2023-06-07T14:55:52.350353",
     "status": "completed"
    },
    "tags": []
   },
   "source": [
    "### Execute full pipelie\n",
    "\n",
    "The entire PICRUSt2 pipeline will be run using a single method, called `picrust2.methods.full_pipeline`. This method will run each of the 4 key steps: \n",
    "\n",
    "1. sequence placement\n",
    "2. hidden-state prediction of genomes\n",
    "3. metagenome prediction\n",
    "4. pathway-level predictions.\n",
    "\n",
    "More information on [Documentation](https://github.com/picrust/picrust2/wiki/Full-pipeline-script)."
   ]
  },
  {
   "cell_type": "code",
   "execution_count": 8,
   "id": "2c4f3874",
   "metadata": {
    "ExecuteTime": {
     "end_time": "2022-11-09T19:20:47.642417Z",
     "start_time": "2022-11-09T19:20:47.612547Z"
    },
    "execution": {
     "iopub.execute_input": "2023-06-07T14:55:52.445044Z",
     "iopub.status.busy": "2023-06-07T14:55:52.444480Z",
     "iopub.status.idle": "2023-06-07T15:02:50.547900Z",
     "shell.execute_reply": "2023-06-07T15:02:50.547434Z"
    },
    "papermill": {
     "duration": 418.139986,
     "end_time": "2023-06-07T15:02:50.548014",
     "exception": false,
     "start_time": "2023-06-07T14:55:52.408028",
     "status": "completed"
    },
    "scrolled": true,
    "tags": []
   },
   "outputs": [
    {
     "name": "stderr",
     "output_type": "stream",
     "text": [
      "969 of 969 sequence ids overlap between input table and FASTA.\n",
      "\n",
      "Placing sequences onto reference tree\n",
      "place_seqs.py --study_fasta /tmp/tmpcmz_6ly4/seqs.fna --ref_dir /home/lauro/anaconda3/envs/qiime2-2021.11/lib/python3.8/site-packages/picrust2/default_files/prokaryotic/pro_ref --out_tree /tmp/tmpcmz_6ly4/picrust2_out/out.tre --processes 6 --intermediate /tmp/tmpcmz_6ly4/picrust2_out/intermediate/place_seqs --min_align 0.8 --chunk_size 5000 --placement_tool sepp --verbose\n"
     ]
    },
    {
     "name": "stdout",
     "output_type": "stream",
     "text": [
      "\n",
      "['run_sepp.py', '--tree', '/home/lauro/anaconda3/envs/qiime2-2021.11/lib/python3.8/site-packages/picrust2/default_files/prokaryotic/pro_ref/pro_ref.tre', '--raxml', '/home/lauro/anaconda3/envs/qiime2-2021.11/lib/python3.8/site-packages/picrust2/default_files/prokaryotic/pro_ref/pro_ref.raxml_info', '--cpu', '6', '--molecule', 'dna', '--outdir', '/tmp/tmpcmz_6ly4/picrust2_out/intermediate/place_seqs/sepp_out', '-seed', '297834', '--alignment', '/home/lauro/anaconda3/envs/qiime2-2021.11/lib/python3.8/site-packages/picrust2/default_files/prokaryotic/pro_ref/pro_ref.fna', '--fragment', '/tmp/tmpcmz_6ly4/picrust2_out/intermediate/place_seqs/study_seqs_filtered.fasta']\n",
      "\n",
      "                                              ....      ....  \n",
      "                                             '' '||.   .||'   \n",
      "                                                  ||  ||      \n",
      "                                                  '|.|'       \n",
      "     ...'   ....   ... ...  ... ...   ....        .|'|.       \n",
      "    |  ||  '' .||   ||'  ||  ||'  || '' .||      .|'  ||      \n",
      "     |''   .|' ||   ||    |  ||    | .|' ||     .|'|.  ||     \n",
      "    '....  '|..'|'. ||...'   ||...'  '|..'|.    '||'    ||:.  \n",
      "    '....'          ||       ||                               \n",
      "                   ''''     ''''   v0.6.1 (c) 2017-2020\n",
      "                                   by Lucas Czech and Pierre Barbera\n",
      "\n",
      "Invocation:                        gappa examine graft --jplace-path /tmp/tmpcmz_6ly4/picrust2_out/intermediate/place_seqs/sepp_out/output_placement.json --fully-resolve --out-dir /tmp/tmpcmz_6ly4/picrust2_out/intermediate/place_seqs/sepp_out\n",
      "Command:                           gappa examine graft\n",
      "\n",
      "Input:\n",
      "  --jplace-path                    /tmp/tmpcmz_6ly4/picrust2_out/intermediate/place_seqs/sepp_out/output_placement.json\n",
      "\n",
      "Settings:\n",
      "  --fully-resolve                  true\n",
      "  --name-prefix\n",
      "\n",
      "Output:\n",
      "  --out-dir                        /tmp/tmpcmz_6ly4/picrust2_out/intermediate/place_seqs/sepp_out\n",
      "  --file-prefix                    \n",
      "  --file-suffix\n",
      "\n",
      "Global Options:\n",
      "  --allow-file-overwriting         false\n",
      "  --verbose                        false\n",
      "  --threads                        4\n",
      "  --log-file\n",
      "\n",
      "Run the following command to get the references that need to be cited:\n",
      "`gappa tools citation Czech2020-genesis-and-gappa`\n",
      "\n",
      "Started 2023-06-07 14:58:55\n",
      "\n",
      "Found 1 jplace file\n",
      "\n",
      "Finished 2023-06-07 14:58:56\n",
      "\n",
      "\n"
     ]
    },
    {
     "name": "stderr",
     "output_type": "stream",
     "text": [
      "hmmalign --trim --dna --mapali /home/lauro/anaconda3/envs/qiime2-2021.11/lib/python3.8/site-packages/picrust2/default_files/prokaryotic/pro_ref/pro_ref.fna --informat FASTA -o /tmp/tmpcmz_6ly4/picrust2_out/intermediate/place_seqs/query_align.stockholm /home/lauro/anaconda3/envs/qiime2-2021.11/lib/python3.8/site-packages/picrust2/default_files/prokaryotic/pro_ref/pro_ref.hmm /tmp/tmpcmz_6ly4/seqs.fna\n",
      "\n",
      "Raw input sequences ranged in length from 282 to 430\n",
      "\n",
      "run_sepp.py --tree /home/lauro/anaconda3/envs/qiime2-2021.11/lib/python3.8/site-packages/picrust2/default_files/prokaryotic/pro_ref/pro_ref.tre --raxml /home/lauro/anaconda3/envs/qiime2-2021.11/lib/python3.8/site-packages/picrust2/default_files/prokaryotic/pro_ref/pro_ref.raxml_info --cpu 6 --molecule dna --outdir /tmp/tmpcmz_6ly4/picrust2_out/intermediate/place_seqs/sepp_out -seed 297834 --alignment /home/lauro/anaconda3/envs/qiime2-2021.11/lib/python3.8/site-packages/picrust2/default_files/prokaryotic/pro_ref/pro_ref.fna --fragment /tmp/tmpcmz_6ly4/picrust2_out/intermediate/place_seqs/study_seqs_filtered.fasta\n",
      "[14:56:33] config.py (line 349):     INFO: Seed number: 297834\n",
      "[14:56:33] algorithm.py (line 258):     INFO: Reading input alignment: <_io.TextIOWrapper name='/home/lauro/anaconda3/envs/qiime2-2021.11/lib/python3.8/site-packages/picrust2/default_files/prokaryotic/pro_ref/pro_ref.fna' mode='r' encoding='UTF-8'>\n",
      "[14:56:33] algorithm.py (line 265):     INFO: Reading input tree: <_io.TextIOWrapper name='/home/lauro/anaconda3/envs/qiime2-2021.11/lib/python3.8/site-packages/picrust2/default_files/prokaryotic/pro_ref/pro_ref.tre' mode='r' encoding='UTF-8'>\n",
      "[14:56:34] algorithm.py (line 238):     INFO: Decomposition Sizes are set to alignment: 2000 placement: 2000\n",
      "[14:56:37] exhaustive.py (line 350):     INFO: Breaking into 16 placement subsets.\n",
      "[14:56:38] exhaustive.py (line 397):     INFO: Breaking into 16 alignment subsets.\n",
      "[14:56:38] filemgr.py (line 129):     INFO: Root temp directory built: /tmp/sepp/output.agkzq6va\n",
      "[14:56:38] exhaustive.py (line 412):     INFO: Breaking each alignment subset into 3 fragment chunks.\n",
      "[14:56:40] jobs.py (line 131):     INFO: Finished hmmbuild Job with input: /tmp/sepp/output.agkzq6va/root/P_1/A_1_0/hmmbuild.input.zs7l76mu.fasta\n",
      "[14:56:40] jobs.py (line 131):     INFO: Finished hmmbuild Job with input: /tmp/sepp/output.agkzq6va/root/P_5/A_5_0/hmmbuild.input.99vl03ap.fasta\n",
      "[14:56:40] jobs.py (line 131):     INFO: Finished hmmbuild Job with input: /tmp/sepp/output.agkzq6va/root/P_0/A_0_0/hmmbuild.input.b5co6mui.fasta\n",
      "[14:56:40] jobs.py (line 131):     INFO: Finished hmmbuild Job with input: /tmp/sepp/output.agkzq6va/root/P_4/A_4_0/hmmbuild.input.ob4aygu1.fasta\n",
      "[14:56:40] jobs.py (line 131):     INFO: Finished hmmbuild Job with input: /tmp/sepp/output.agkzq6va/root/P_3/A_3_0/hmmbuild.input.h4m0eped.fasta\n",
      "[14:56:40] jobs.py (line 131):     INFO: Finished hmmbuild Job with input: /tmp/sepp/output.agkzq6va/root/P_2/A_2_0/hmmbuild.input.8wtd8zen.fasta\n",
      "[14:56:40] jobs.py (line 131):     INFO: Finished hmmbuild Job with input: /tmp/sepp/output.agkzq6va/root/P_8/A_8_0/hmmbuild.input.s9zrbs9g.fasta\n",
      "[14:56:40] jobs.py (line 131):     INFO: Finished hmmbuild Job with input: /tmp/sepp/output.agkzq6va/root/P_10/A_10_0/hmmbuild.input.mu3hhby8.fasta\n",
      "[14:56:41] jobs.py (line 131):     INFO: Finished hmmbuild Job with input: /tmp/sepp/output.agkzq6va/root/P_7/A_7_0/hmmbuild.input.mc7pj1g8.fasta\n",
      "[14:56:41] jobs.py (line 131):     INFO: Finished hmmbuild Job with input: /tmp/sepp/output.agkzq6va/root/P_9/A_9_0/hmmbuild.input.3jprepj4.fasta\n",
      "[14:56:41] jobs.py (line 131):     INFO: Finished hmmbuild Job with input: /tmp/sepp/output.agkzq6va/root/P_6/A_6_0/hmmbuild.input.h9reoa4f.fasta\n",
      "[14:56:41] jobs.py (line 131):     INFO: Finished hmmbuild Job with input: /tmp/sepp/output.agkzq6va/root/P_11/A_11_0/hmmbuild.input.msmnx7hm.fasta\n",
      "[14:56:41] jobs.py (line 131):     INFO: Finished hmmbuild Job with input: /tmp/sepp/output.agkzq6va/root/P_12/A_12_0/hmmbuild.input.qfb19hel.fasta\n",
      "[14:56:41] jobs.py (line 131):     INFO: Finished hmmbuild Job with input: /tmp/sepp/output.agkzq6va/root/P_13/A_13_0/hmmbuild.input.1xvmdna1.fasta\n",
      "[14:56:41] jobs.py (line 131):     INFO: Finished hmmbuild Job with input: /tmp/sepp/output.agkzq6va/root/P_15/A_15_0/hmmbuild.input.2gcpx5ph.fasta\n",
      "[14:56:41] jobs.py (line 131):     INFO: Finished hmmbuild Job with input: /tmp/sepp/output.agkzq6va/root/P_14/A_14_0/hmmbuild.input.0t62y8ka.fasta\n",
      "[14:56:46] jobs.py (line 131):     INFO: Finished hmmsearch Job with input: model:/tmp/sepp/output.agkzq6va/root/P_5/A_5_0/hmmbuild.model.es894g51, fragments:/tmp/sepp/output.agkzq6va/fragment_chunks/fragment_chunk_1cojmifzc.fasta, elim:99999999, filter:False, output:/tmp/sepp/output.agkzq6va/root/P_5/A_5_0/FC_5_0_1/hmmsearch.results.ul1sn4sv\n",
      "[14:56:46] jobs.py (line 131):     INFO: Finished hmmsearch Job with input: model:/tmp/sepp/output.agkzq6va/root/P_5/A_5_0/hmmbuild.model.es894g51, fragments:/tmp/sepp/output.agkzq6va/fragment_chunks/fragment_chunk_26nydegcw.fasta, elim:99999999, filter:False, output:/tmp/sepp/output.agkzq6va/root/P_5/A_5_0/FC_5_0_2/hmmsearch.results.m3im5e2r\n",
      "[14:56:48] jobs.py (line 131):     INFO: Finished hmmsearch Job with input: model:/tmp/sepp/output.agkzq6va/root/P_1/A_1_0/hmmbuild.model.fn_mzvza, fragments:/tmp/sepp/output.agkzq6va/fragment_chunks/fragment_chunk_1cojmifzc.fasta, elim:99999999, filter:False, output:/tmp/sepp/output.agkzq6va/root/P_1/A_1_0/FC_1_0_1/hmmsearch.results.dqo89m78\n",
      "[14:56:48] jobs.py (line 131):     INFO: Finished hmmsearch Job with input: model:/tmp/sepp/output.agkzq6va/root/P_1/A_1_0/hmmbuild.model.fn_mzvza, fragments:/tmp/sepp/output.agkzq6va/fragment_chunks/fragment_chunk_0_shslxgi.fasta, elim:99999999, filter:False, output:/tmp/sepp/output.agkzq6va/root/P_1/A_1_0/FC_1_0_0/hmmsearch.results.84eej1_2\n",
      "[14:56:48] jobs.py (line 131):     INFO: Finished hmmsearch Job with input: model:/tmp/sepp/output.agkzq6va/root/P_1/A_1_0/hmmbuild.model.fn_mzvza, fragments:/tmp/sepp/output.agkzq6va/fragment_chunks/fragment_chunk_26nydegcw.fasta, elim:99999999, filter:False, output:/tmp/sepp/output.agkzq6va/root/P_1/A_1_0/FC_1_0_2/hmmsearch.results.e4jghbc_\n",
      "[14:56:48] jobs.py (line 131):     INFO: Finished hmmsearch Job with input: model:/tmp/sepp/output.agkzq6va/root/P_5/A_5_0/hmmbuild.model.es894g51, fragments:/tmp/sepp/output.agkzq6va/fragment_chunks/fragment_chunk_0_shslxgi.fasta, elim:99999999, filter:False, output:/tmp/sepp/output.agkzq6va/root/P_5/A_5_0/FC_5_0_0/hmmsearch.results.b4plr1x2\n",
      "[14:56:52] jobs.py (line 131):     INFO: Finished hmmsearch Job with input: model:/tmp/sepp/output.agkzq6va/root/P_0/A_0_0/hmmbuild.model.z_wpd5o4, fragments:/tmp/sepp/output.agkzq6va/fragment_chunks/fragment_chunk_1cojmifzc.fasta, elim:99999999, filter:False, output:/tmp/sepp/output.agkzq6va/root/P_0/A_0_0/FC_0_0_1/hmmsearch.results.iimg2u1z\n",
      "[14:56:52] jobs.py (line 131):     INFO: Finished hmmsearch Job with input: model:/tmp/sepp/output.agkzq6va/root/P_0/A_0_0/hmmbuild.model.z_wpd5o4, fragments:/tmp/sepp/output.agkzq6va/fragment_chunks/fragment_chunk_0_shslxgi.fasta, elim:99999999, filter:False, output:/tmp/sepp/output.agkzq6va/root/P_0/A_0_0/FC_0_0_0/hmmsearch.results.8oeltb1k\n",
      "[14:56:53] jobs.py (line 131):     INFO: Finished hmmsearch Job with input: model:/tmp/sepp/output.agkzq6va/root/P_4/A_4_0/hmmbuild.model.xrqygjf0, fragments:/tmp/sepp/output.agkzq6va/fragment_chunks/fragment_chunk_26nydegcw.fasta, elim:99999999, filter:False, output:/tmp/sepp/output.agkzq6va/root/P_4/A_4_0/FC_4_0_2/hmmsearch.results.jb833kw3\n",
      "[14:56:53] jobs.py (line 131):     INFO: Finished hmmsearch Job with input: model:/tmp/sepp/output.agkzq6va/root/P_4/A_4_0/hmmbuild.model.xrqygjf0, fragments:/tmp/sepp/output.agkzq6va/fragment_chunks/fragment_chunk_1cojmifzc.fasta, elim:99999999, filter:False, output:/tmp/sepp/output.agkzq6va/root/P_4/A_4_0/FC_4_0_1/hmmsearch.results.qmiej2wi\n",
      "[14:56:55] jobs.py (line 131):     INFO: Finished hmmsearch Job with input: model:/tmp/sepp/output.agkzq6va/root/P_0/A_0_0/hmmbuild.model.z_wpd5o4, fragments:/tmp/sepp/output.agkzq6va/fragment_chunks/fragment_chunk_26nydegcw.fasta, elim:99999999, filter:False, output:/tmp/sepp/output.agkzq6va/root/P_0/A_0_0/FC_0_0_2/hmmsearch.results.rldv1uw5\n",
      "[14:56:55] jobs.py (line 131):     INFO: Finished hmmsearch Job with input: model:/tmp/sepp/output.agkzq6va/root/P_4/A_4_0/hmmbuild.model.xrqygjf0, fragments:/tmp/sepp/output.agkzq6va/fragment_chunks/fragment_chunk_0_shslxgi.fasta, elim:99999999, filter:False, output:/tmp/sepp/output.agkzq6va/root/P_4/A_4_0/FC_4_0_0/hmmsearch.results.yx1sx8g0\n",
      "[14:56:57] jobs.py (line 131):     INFO: Finished hmmsearch Job with input: model:/tmp/sepp/output.agkzq6va/root/P_3/A_3_0/hmmbuild.model.0ir_3z_p, fragments:/tmp/sepp/output.agkzq6va/fragment_chunks/fragment_chunk_0_shslxgi.fasta, elim:99999999, filter:False, output:/tmp/sepp/output.agkzq6va/root/P_3/A_3_0/FC_3_0_0/hmmsearch.results._kwdl5xj\n",
      "[14:56:58] jobs.py (line 131):     INFO: Finished hmmsearch Job with input: model:/tmp/sepp/output.agkzq6va/root/P_2/A_2_0/hmmbuild.model.xzxz2ngi, fragments:/tmp/sepp/output.agkzq6va/fragment_chunks/fragment_chunk_0_shslxgi.fasta, elim:99999999, filter:False, output:/tmp/sepp/output.agkzq6va/root/P_2/A_2_0/FC_2_0_0/hmmsearch.results.k_daqy_c\n",
      "[14:56:59] jobs.py (line 131):     INFO: Finished hmmsearch Job with input: model:/tmp/sepp/output.agkzq6va/root/P_3/A_3_0/hmmbuild.model.0ir_3z_p, fragments:/tmp/sepp/output.agkzq6va/fragment_chunks/fragment_chunk_1cojmifzc.fasta, elim:99999999, filter:False, output:/tmp/sepp/output.agkzq6va/root/P_3/A_3_0/FC_3_0_1/hmmsearch.results.tz96ghc1\n",
      "[14:56:59] jobs.py (line 131):     INFO: Finished hmmsearch Job with input: model:/tmp/sepp/output.agkzq6va/root/P_3/A_3_0/hmmbuild.model.0ir_3z_p, fragments:/tmp/sepp/output.agkzq6va/fragment_chunks/fragment_chunk_26nydegcw.fasta, elim:99999999, filter:False, output:/tmp/sepp/output.agkzq6va/root/P_3/A_3_0/FC_3_0_2/hmmsearch.results.ur_x4xp4\n",
      "[14:57:01] jobs.py (line 131):     INFO: Finished hmmsearch Job with input: model:/tmp/sepp/output.agkzq6va/root/P_2/A_2_0/hmmbuild.model.xzxz2ngi, fragments:/tmp/sepp/output.agkzq6va/fragment_chunks/fragment_chunk_26nydegcw.fasta, elim:99999999, filter:False, output:/tmp/sepp/output.agkzq6va/root/P_2/A_2_0/FC_2_0_2/hmmsearch.results.8nrdoqtg\n",
      "[14:57:02] jobs.py (line 131):     INFO: Finished hmmsearch Job with input: model:/tmp/sepp/output.agkzq6va/root/P_2/A_2_0/hmmbuild.model.xzxz2ngi, fragments:/tmp/sepp/output.agkzq6va/fragment_chunks/fragment_chunk_1cojmifzc.fasta, elim:99999999, filter:False, output:/tmp/sepp/output.agkzq6va/root/P_2/A_2_0/FC_2_0_1/hmmsearch.results.hn_33yjz\n",
      "[14:57:03] jobs.py (line 131):     INFO: Finished hmmsearch Job with input: model:/tmp/sepp/output.agkzq6va/root/P_8/A_8_0/hmmbuild.model.5wi5a6dp, fragments:/tmp/sepp/output.agkzq6va/fragment_chunks/fragment_chunk_0_shslxgi.fasta, elim:99999999, filter:False, output:/tmp/sepp/output.agkzq6va/root/P_8/A_8_0/FC_8_0_0/hmmsearch.results.s77819pa\n",
      "[14:57:04] jobs.py (line 131):     INFO: Finished hmmsearch Job with input: model:/tmp/sepp/output.agkzq6va/root/P_8/A_8_0/hmmbuild.model.5wi5a6dp, fragments:/tmp/sepp/output.agkzq6va/fragment_chunks/fragment_chunk_1cojmifzc.fasta, elim:99999999, filter:False, output:/tmp/sepp/output.agkzq6va/root/P_8/A_8_0/FC_8_0_1/hmmsearch.results.uu380ga6\n",
      "[14:57:05] jobs.py (line 131):     INFO: Finished hmmsearch Job with input: model:/tmp/sepp/output.agkzq6va/root/P_8/A_8_0/hmmbuild.model.5wi5a6dp, fragments:/tmp/sepp/output.agkzq6va/fragment_chunks/fragment_chunk_26nydegcw.fasta, elim:99999999, filter:False, output:/tmp/sepp/output.agkzq6va/root/P_8/A_8_0/FC_8_0_2/hmmsearch.results.y4_cl2ss\n",
      "[14:57:05] jobs.py (line 131):     INFO: Finished hmmsearch Job with input: model:/tmp/sepp/output.agkzq6va/root/P_10/A_10_0/hmmbuild.model.uhaty581, fragments:/tmp/sepp/output.agkzq6va/fragment_chunks/fragment_chunk_0_shslxgi.fasta, elim:99999999, filter:False, output:/tmp/sepp/output.agkzq6va/root/P_10/A_10_0/FC_10_0_0/hmmsearch.results.exelq7et\n",
      "[14:57:07] jobs.py (line 131):     INFO: Finished hmmsearch Job with input: model:/tmp/sepp/output.agkzq6va/root/P_10/A_10_0/hmmbuild.model.uhaty581, fragments:/tmp/sepp/output.agkzq6va/fragment_chunks/fragment_chunk_1cojmifzc.fasta, elim:99999999, filter:False, output:/tmp/sepp/output.agkzq6va/root/P_10/A_10_0/FC_10_0_1/hmmsearch.results.o4e78f4i\n",
      "[14:57:07] jobs.py (line 131):     INFO: Finished hmmsearch Job with input: model:/tmp/sepp/output.agkzq6va/root/P_10/A_10_0/hmmbuild.model.uhaty581, fragments:/tmp/sepp/output.agkzq6va/fragment_chunks/fragment_chunk_26nydegcw.fasta, elim:99999999, filter:False, output:/tmp/sepp/output.agkzq6va/root/P_10/A_10_0/FC_10_0_2/hmmsearch.results.a949quct\n",
      "[14:57:10] jobs.py (line 131):     INFO: Finished hmmsearch Job with input: model:/tmp/sepp/output.agkzq6va/root/P_7/A_7_0/hmmbuild.model.jm0w5oth, fragments:/tmp/sepp/output.agkzq6va/fragment_chunks/fragment_chunk_26nydegcw.fasta, elim:99999999, filter:False, output:/tmp/sepp/output.agkzq6va/root/P_7/A_7_0/FC_7_0_2/hmmsearch.results.iafmysrv\n",
      "[14:57:10] jobs.py (line 131):     INFO: Finished hmmsearch Job with input: model:/tmp/sepp/output.agkzq6va/root/P_7/A_7_0/hmmbuild.model.jm0w5oth, fragments:/tmp/sepp/output.agkzq6va/fragment_chunks/fragment_chunk_0_shslxgi.fasta, elim:99999999, filter:False, output:/tmp/sepp/output.agkzq6va/root/P_7/A_7_0/FC_7_0_0/hmmsearch.results.syigkhlu\n",
      "[14:57:10] jobs.py (line 131):     INFO: Finished hmmsearch Job with input: model:/tmp/sepp/output.agkzq6va/root/P_9/A_9_0/hmmbuild.model.q2fnthg_, fragments:/tmp/sepp/output.agkzq6va/fragment_chunks/fragment_chunk_0_shslxgi.fasta, elim:99999999, filter:False, output:/tmp/sepp/output.agkzq6va/root/P_9/A_9_0/FC_9_0_0/hmmsearch.results.r02xax0k\n",
      "[14:57:11] jobs.py (line 131):     INFO: Finished hmmsearch Job with input: model:/tmp/sepp/output.agkzq6va/root/P_7/A_7_0/hmmbuild.model.jm0w5oth, fragments:/tmp/sepp/output.agkzq6va/fragment_chunks/fragment_chunk_1cojmifzc.fasta, elim:99999999, filter:False, output:/tmp/sepp/output.agkzq6va/root/P_7/A_7_0/FC_7_0_1/hmmsearch.results.g1k8sa9r\n",
      "[14:57:13] jobs.py (line 131):     INFO: Finished hmmsearch Job with input: model:/tmp/sepp/output.agkzq6va/root/P_9/A_9_0/hmmbuild.model.q2fnthg_, fragments:/tmp/sepp/output.agkzq6va/fragment_chunks/fragment_chunk_1cojmifzc.fasta, elim:99999999, filter:False, output:/tmp/sepp/output.agkzq6va/root/P_9/A_9_0/FC_9_0_1/hmmsearch.results.qxqzi8da\n",
      "[14:57:15] jobs.py (line 131):     INFO: Finished hmmsearch Job with input: model:/tmp/sepp/output.agkzq6va/root/P_6/A_6_0/hmmbuild.model.5sugtcfp, fragments:/tmp/sepp/output.agkzq6va/fragment_chunks/fragment_chunk_1cojmifzc.fasta, elim:99999999, filter:False, output:/tmp/sepp/output.agkzq6va/root/P_6/A_6_0/FC_6_0_1/hmmsearch.results.hvxd1ugs\n",
      "[14:57:15] jobs.py (line 131):     INFO: Finished hmmsearch Job with input: model:/tmp/sepp/output.agkzq6va/root/P_9/A_9_0/hmmbuild.model.q2fnthg_, fragments:/tmp/sepp/output.agkzq6va/fragment_chunks/fragment_chunk_26nydegcw.fasta, elim:99999999, filter:False, output:/tmp/sepp/output.agkzq6va/root/P_9/A_9_0/FC_9_0_2/hmmsearch.results.vsvb6hde\n",
      "[14:57:17] jobs.py (line 131):     INFO: Finished hmmsearch Job with input: model:/tmp/sepp/output.agkzq6va/root/P_6/A_6_0/hmmbuild.model.5sugtcfp, fragments:/tmp/sepp/output.agkzq6va/fragment_chunks/fragment_chunk_26nydegcw.fasta, elim:99999999, filter:False, output:/tmp/sepp/output.agkzq6va/root/P_6/A_6_0/FC_6_0_2/hmmsearch.results.b4igl4wn\n",
      "[14:57:18] jobs.py (line 131):     INFO: Finished hmmsearch Job with input: model:/tmp/sepp/output.agkzq6va/root/P_6/A_6_0/hmmbuild.model.5sugtcfp, fragments:/tmp/sepp/output.agkzq6va/fragment_chunks/fragment_chunk_0_shslxgi.fasta, elim:99999999, filter:False, output:/tmp/sepp/output.agkzq6va/root/P_6/A_6_0/FC_6_0_0/hmmsearch.results.s77k1oq7\n",
      "[14:57:18] jobs.py (line 131):     INFO: Finished hmmsearch Job with input: model:/tmp/sepp/output.agkzq6va/root/P_11/A_11_0/hmmbuild.model.ld3ld1qw, fragments:/tmp/sepp/output.agkzq6va/fragment_chunks/fragment_chunk_0_shslxgi.fasta, elim:99999999, filter:False, output:/tmp/sepp/output.agkzq6va/root/P_11/A_11_0/FC_11_0_0/hmmsearch.results.pfb6qo4l\n",
      "[14:57:19] jobs.py (line 131):     INFO: Finished hmmsearch Job with input: model:/tmp/sepp/output.agkzq6va/root/P_11/A_11_0/hmmbuild.model.ld3ld1qw, fragments:/tmp/sepp/output.agkzq6va/fragment_chunks/fragment_chunk_1cojmifzc.fasta, elim:99999999, filter:False, output:/tmp/sepp/output.agkzq6va/root/P_11/A_11_0/FC_11_0_1/hmmsearch.results.a92qosva\n",
      "[14:57:20] jobs.py (line 131):     INFO: Finished hmmsearch Job with input: model:/tmp/sepp/output.agkzq6va/root/P_12/A_12_0/hmmbuild.model.991uyoo6, fragments:/tmp/sepp/output.agkzq6va/fragment_chunks/fragment_chunk_0_shslxgi.fasta, elim:99999999, filter:False, output:/tmp/sepp/output.agkzq6va/root/P_12/A_12_0/FC_12_0_0/hmmsearch.results.n2mi9y5v\n",
      "[14:57:21] jobs.py (line 131):     INFO: Finished hmmsearch Job with input: model:/tmp/sepp/output.agkzq6va/root/P_11/A_11_0/hmmbuild.model.ld3ld1qw, fragments:/tmp/sepp/output.agkzq6va/fragment_chunks/fragment_chunk_26nydegcw.fasta, elim:99999999, filter:False, output:/tmp/sepp/output.agkzq6va/root/P_11/A_11_0/FC_11_0_2/hmmsearch.results.5ior9ajf\n",
      "[14:57:21] jobs.py (line 131):     INFO: Finished hmmsearch Job with input: model:/tmp/sepp/output.agkzq6va/root/P_12/A_12_0/hmmbuild.model.991uyoo6, fragments:/tmp/sepp/output.agkzq6va/fragment_chunks/fragment_chunk_1cojmifzc.fasta, elim:99999999, filter:False, output:/tmp/sepp/output.agkzq6va/root/P_12/A_12_0/FC_12_0_1/hmmsearch.results.btpm6dpk\n",
      "[14:57:23] jobs.py (line 131):     INFO: Finished hmmsearch Job with input: model:/tmp/sepp/output.agkzq6va/root/P_13/A_13_0/hmmbuild.model.cc7uhcgv, fragments:/tmp/sepp/output.agkzq6va/fragment_chunks/fragment_chunk_0_shslxgi.fasta, elim:99999999, filter:False, output:/tmp/sepp/output.agkzq6va/root/P_13/A_13_0/FC_13_0_0/hmmsearch.results.yc4ao1q6\n",
      "[14:57:25] jobs.py (line 131):     INFO: Finished hmmsearch Job with input: model:/tmp/sepp/output.agkzq6va/root/P_12/A_12_0/hmmbuild.model.991uyoo6, fragments:/tmp/sepp/output.agkzq6va/fragment_chunks/fragment_chunk_26nydegcw.fasta, elim:99999999, filter:False, output:/tmp/sepp/output.agkzq6va/root/P_12/A_12_0/FC_12_0_2/hmmsearch.results.4gi3t2y1\n",
      "[14:57:26] jobs.py (line 131):     INFO: Finished hmmsearch Job with input: model:/tmp/sepp/output.agkzq6va/root/P_13/A_13_0/hmmbuild.model.cc7uhcgv, fragments:/tmp/sepp/output.agkzq6va/fragment_chunks/fragment_chunk_1cojmifzc.fasta, elim:99999999, filter:False, output:/tmp/sepp/output.agkzq6va/root/P_13/A_13_0/FC_13_0_1/hmmsearch.results.v16wcgp3\n",
      "[14:57:27] jobs.py (line 131):     INFO: Finished hmmsearch Job with input: model:/tmp/sepp/output.agkzq6va/root/P_15/A_15_0/hmmbuild.model.3c1xzmxx, fragments:/tmp/sepp/output.agkzq6va/fragment_chunks/fragment_chunk_1cojmifzc.fasta, elim:99999999, filter:False, output:/tmp/sepp/output.agkzq6va/root/P_15/A_15_0/FC_15_0_1/hmmsearch.results.xtqnkzlp\n",
      "[14:57:27] jobs.py (line 131):     INFO: Finished hmmsearch Job with input: model:/tmp/sepp/output.agkzq6va/root/P_13/A_13_0/hmmbuild.model.cc7uhcgv, fragments:/tmp/sepp/output.agkzq6va/fragment_chunks/fragment_chunk_26nydegcw.fasta, elim:99999999, filter:False, output:/tmp/sepp/output.agkzq6va/root/P_13/A_13_0/FC_13_0_2/hmmsearch.results.n_i_uyz9\n",
      "[14:57:27] jobs.py (line 131):     INFO: Finished hmmsearch Job with input: model:/tmp/sepp/output.agkzq6va/root/P_15/A_15_0/hmmbuild.model.3c1xzmxx, fragments:/tmp/sepp/output.agkzq6va/fragment_chunks/fragment_chunk_0_shslxgi.fasta, elim:99999999, filter:False, output:/tmp/sepp/output.agkzq6va/root/P_15/A_15_0/FC_15_0_0/hmmsearch.results.u94m_6sb\n",
      "[14:57:29] jobs.py (line 131):     INFO: Finished hmmsearch Job with input: model:/tmp/sepp/output.agkzq6va/root/P_15/A_15_0/hmmbuild.model.3c1xzmxx, fragments:/tmp/sepp/output.agkzq6va/fragment_chunks/fragment_chunk_26nydegcw.fasta, elim:99999999, filter:False, output:/tmp/sepp/output.agkzq6va/root/P_15/A_15_0/FC_15_0_2/hmmsearch.results.urgi4w20\n",
      "[14:57:30] jobs.py (line 131):     INFO: Finished hmmsearch Job with input: model:/tmp/sepp/output.agkzq6va/root/P_14/A_14_0/hmmbuild.model.9ryclgx0, fragments:/tmp/sepp/output.agkzq6va/fragment_chunks/fragment_chunk_0_shslxgi.fasta, elim:99999999, filter:False, output:/tmp/sepp/output.agkzq6va/root/P_14/A_14_0/FC_14_0_0/hmmsearch.results.8f0htckh\n",
      "[14:57:30] jobs.py (line 131):     INFO: Finished hmmsearch Job with input: model:/tmp/sepp/output.agkzq6va/root/P_14/A_14_0/hmmbuild.model.9ryclgx0, fragments:/tmp/sepp/output.agkzq6va/fragment_chunks/fragment_chunk_1cojmifzc.fasta, elim:99999999, filter:False, output:/tmp/sepp/output.agkzq6va/root/P_14/A_14_0/FC_14_0_1/hmmsearch.results.o_mv_cou\n",
      "[14:57:31] jobs.py (line 131):     INFO: Finished hmmsearch Job with input: model:/tmp/sepp/output.agkzq6va/root/P_14/A_14_0/hmmbuild.model.9ryclgx0, fragments:/tmp/sepp/output.agkzq6va/fragment_chunks/fragment_chunk_26nydegcw.fasta, elim:99999999, filter:False, output:/tmp/sepp/output.agkzq6va/root/P_14/A_14_0/FC_14_0_2/hmmsearch.results.jwwa4h23\n",
      "[14:57:31] exhaustive.py (line 80):  WARNING: Fragments [] are not scored against any subset\n",
      "[14:57:31] exhaustive.py (line 151):     INFO: Merging sub-alignments for placement problem : P_0.\n",
      "[14:57:31] jobs.py (line 131):     INFO: Finished hmmalign Job with input: model:/tmp/sepp/output.agkzq6va/root/P_1/A_1_0/hmmbuild.model.fn_mzvza, fragments:/tmp/sepp/output.agkzq6va/root/P_1/A_1_0/FC_1_0_2/hmmalign.frag.jq115d_3.fasta, trim:False, base_alignment:/tmp/sepp/output.agkzq6va/root/P_1/A_1_0/hmmbuild.input.zs7l76mu.fasta\n",
      "[14:57:31] jobs.py (line 131):     INFO: Finished hmmalign Job with input: model:/tmp/sepp/output.agkzq6va/root/P_5/A_5_0/hmmbuild.model.es894g51, fragments:/tmp/sepp/output.agkzq6va/root/P_5/A_5_0/FC_5_0_1/hmmalign.frag.wzq4hqdc.fasta, trim:False, base_alignment:/tmp/sepp/output.agkzq6va/root/P_5/A_5_0/hmmbuild.input.99vl03ap.fasta\n",
      "[14:57:31] jobs.py (line 131):     INFO: Finished hmmalign Job with input: model:/tmp/sepp/output.agkzq6va/root/P_5/A_5_0/hmmbuild.model.es894g51, fragments:/tmp/sepp/output.agkzq6va/root/P_5/A_5_0/FC_5_0_2/hmmalign.frag.qzuyqmn7.fasta, trim:False, base_alignment:/tmp/sepp/output.agkzq6va/root/P_5/A_5_0/hmmbuild.input.99vl03ap.fasta\n",
      "[14:57:31] jobs.py (line 131):     INFO: Finished hmmalign Job with input: model:/tmp/sepp/output.agkzq6va/root/P_1/A_1_0/hmmbuild.model.fn_mzvza, fragments:/tmp/sepp/output.agkzq6va/root/P_1/A_1_0/FC_1_0_0/hmmalign.frag.u6um5s15.fasta, trim:False, base_alignment:/tmp/sepp/output.agkzq6va/root/P_1/A_1_0/hmmbuild.input.zs7l76mu.fasta\n",
      "[14:57:31] jobs.py (line 131):     INFO: Finished hmmalign Job with input: model:/tmp/sepp/output.agkzq6va/root/P_1/A_1_0/hmmbuild.model.fn_mzvza, fragments:/tmp/sepp/output.agkzq6va/root/P_1/A_1_0/FC_1_0_1/hmmalign.frag.c4259ka7.fasta, trim:False, base_alignment:/tmp/sepp/output.agkzq6va/root/P_1/A_1_0/hmmbuild.input.zs7l76mu.fasta\n",
      "[14:57:31] jobs.py (line 131):     INFO: Finished hmmalign Job with input: model:/tmp/sepp/output.agkzq6va/root/P_5/A_5_0/hmmbuild.model.es894g51, fragments:/tmp/sepp/output.agkzq6va/root/P_5/A_5_0/FC_5_0_0/hmmalign.frag._7vk_a1y.fasta, trim:False, base_alignment:/tmp/sepp/output.agkzq6va/root/P_5/A_5_0/hmmbuild.input.99vl03ap.fasta\n",
      "[14:57:31] exhaustive.py (line 151):     INFO: Merging sub-alignments for placement problem : P_2.\n",
      "[14:57:31] jobs.py (line 131):     INFO: Finished hmmalign Job with input: model:/tmp/sepp/output.agkzq6va/root/P_6/A_6_0/hmmbuild.model.5sugtcfp, fragments:/tmp/sepp/output.agkzq6va/root/P_6/A_6_0/FC_6_0_1/hmmalign.frag.__dpyqej.fasta, trim:False, base_alignment:/tmp/sepp/output.agkzq6va/root/P_6/A_6_0/hmmbuild.input.h9reoa4f.fasta\n",
      "[14:57:31] jobs.py (line 131):     INFO: Finished hmmalign Job with input: model:/tmp/sepp/output.agkzq6va/root/P_7/A_7_0/hmmbuild.model.jm0w5oth, fragments:/tmp/sepp/output.agkzq6va/root/P_7/A_7_0/FC_7_0_1/hmmalign.frag.bp9r4raj.fasta, trim:False, base_alignment:/tmp/sepp/output.agkzq6va/root/P_7/A_7_0/hmmbuild.input.mc7pj1g8.fasta\n",
      "[14:57:31] jobs.py (line 131):     INFO: Finished hmmalign Job with input: model:/tmp/sepp/output.agkzq6va/root/P_6/A_6_0/hmmbuild.model.5sugtcfp, fragments:/tmp/sepp/output.agkzq6va/root/P_6/A_6_0/FC_6_0_2/hmmalign.frag.s2yx83kf.fasta, trim:False, base_alignment:/tmp/sepp/output.agkzq6va/root/P_6/A_6_0/hmmbuild.input.h9reoa4f.fasta\n",
      "[14:57:31] jobs.py (line 131):     INFO: Finished hmmalign Job with input: model:/tmp/sepp/output.agkzq6va/root/P_7/A_7_0/hmmbuild.model.jm0w5oth, fragments:/tmp/sepp/output.agkzq6va/root/P_7/A_7_0/FC_7_0_2/hmmalign.frag.wsjh1o1i.fasta, trim:False, base_alignment:/tmp/sepp/output.agkzq6va/root/P_7/A_7_0/hmmbuild.input.mc7pj1g8.fasta\n",
      "[14:57:31] jobs.py (line 131):     INFO: Finished hmmalign Job with input: model:/tmp/sepp/output.agkzq6va/root/P_6/A_6_0/hmmbuild.model.5sugtcfp, fragments:/tmp/sepp/output.agkzq6va/root/P_6/A_6_0/FC_6_0_0/hmmalign.frag.0m8w_ysx.fasta, trim:False, base_alignment:/tmp/sepp/output.agkzq6va/root/P_6/A_6_0/hmmbuild.input.h9reoa4f.fasta\n",
      "[14:57:31] jobs.py (line 131):     INFO: Finished hmmalign Job with input: model:/tmp/sepp/output.agkzq6va/root/P_7/A_7_0/hmmbuild.model.jm0w5oth, fragments:/tmp/sepp/output.agkzq6va/root/P_7/A_7_0/FC_7_0_0/hmmalign.frag.1i03za_x.fasta, trim:False, base_alignment:/tmp/sepp/output.agkzq6va/root/P_7/A_7_0/hmmbuild.input.mc7pj1g8.fasta\n",
      "[14:57:31] exhaustive.py (line 151):     INFO: Merging sub-alignments for placement problem : P_3.\n",
      "[14:57:31] jobs.py (line 131):     INFO: Finished hmmalign Job with input: model:/tmp/sepp/output.agkzq6va/root/P_8/A_8_0/hmmbuild.model.5wi5a6dp, fragments:/tmp/sepp/output.agkzq6va/root/P_8/A_8_0/FC_8_0_2/hmmalign.frag.zmy2o13l.fasta, trim:False, base_alignment:/tmp/sepp/output.agkzq6va/root/P_8/A_8_0/hmmbuild.input.s9zrbs9g.fasta\n",
      "[14:57:31] jobs.py (line 131):     INFO: Finished hmmalign Job with input: model:/tmp/sepp/output.agkzq6va/root/P_8/A_8_0/hmmbuild.model.5wi5a6dp, fragments:/tmp/sepp/output.agkzq6va/root/P_8/A_8_0/FC_8_0_0/hmmalign.frag.q0zrqoue.fasta, trim:False, base_alignment:/tmp/sepp/output.agkzq6va/root/P_8/A_8_0/hmmbuild.input.s9zrbs9g.fasta\n",
      "[14:57:31] jobs.py (line 131):     INFO: Finished hmmalign Job with input: model:/tmp/sepp/output.agkzq6va/root/P_8/A_8_0/hmmbuild.model.5wi5a6dp, fragments:/tmp/sepp/output.agkzq6va/root/P_8/A_8_0/FC_8_0_1/hmmalign.frag.r141nz4j.fasta, trim:False, base_alignment:/tmp/sepp/output.agkzq6va/root/P_8/A_8_0/hmmbuild.input.s9zrbs9g.fasta\n",
      "[14:57:32] exhaustive.py (line 151):     INFO: Merging sub-alignments for placement problem : P_4.\n",
      "[14:57:32] jobs.py (line 131):     INFO: Finished hmmalign Job with input: model:/tmp/sepp/output.agkzq6va/root/P_10/A_10_0/hmmbuild.model.uhaty581, fragments:/tmp/sepp/output.agkzq6va/root/P_10/A_10_0/FC_10_0_1/hmmalign.frag.4sba7fkn.fasta, trim:False, base_alignment:/tmp/sepp/output.agkzq6va/root/P_10/A_10_0/hmmbuild.input.mu3hhby8.fasta\n",
      "[14:57:32] jobs.py (line 131):     INFO: Finished hmmalign Job with input: model:/tmp/sepp/output.agkzq6va/root/P_10/A_10_0/hmmbuild.model.uhaty581, fragments:/tmp/sepp/output.agkzq6va/root/P_10/A_10_0/FC_10_0_2/hmmalign.frag.2qbaa5_t.fasta, trim:False, base_alignment:/tmp/sepp/output.agkzq6va/root/P_10/A_10_0/hmmbuild.input.mu3hhby8.fasta\n",
      "[14:57:32] jobs.py (line 131):     INFO: Finished hmmalign Job with input: model:/tmp/sepp/output.agkzq6va/root/P_10/A_10_0/hmmbuild.model.uhaty581, fragments:/tmp/sepp/output.agkzq6va/root/P_10/A_10_0/FC_10_0_0/hmmalign.frag.koeg4f4m.fasta, trim:False, base_alignment:/tmp/sepp/output.agkzq6va/root/P_10/A_10_0/hmmbuild.input.mu3hhby8.fasta\n",
      "[14:57:32] exhaustive.py (line 151):     INFO: Merging sub-alignments for placement problem : P_1.\n",
      "[14:57:32] alignment.py (line 556):     INFO: Merging extension sto file (/tmp/sepp/output.agkzq6va/root/P_1/A_1_0/FC_1_0_0/hmmalign.results.e43_td9y) into base alignment (/tmp/sepp/output.agkzq6va/root/P_1/A_1_0/hmmbuild.input.zs7l76mu.fasta).\n",
      "[14:57:32] alignment.py (line 556):     INFO: Merging extension sto file (/tmp/sepp/output.agkzq6va/root/P_1/A_1_0/FC_1_0_1/hmmalign.results.he4zityu) into base alignment (/tmp/sepp/output.agkzq6va/root/P_1/A_1_0/hmmbuild.input.zs7l76mu.fasta).\n",
      "[14:57:32] alignment.py (line 556):     INFO: Merging extension sto file (/tmp/sepp/output.agkzq6va/root/P_1/A_1_0/FC_1_0_2/hmmalign.results.su1i1gll) into base alignment (/tmp/sepp/output.agkzq6va/root/P_1/A_1_0/hmmbuild.input.zs7l76mu.fasta).\n",
      "[14:57:32] exhaustive.py (line 151):     INFO: Merging sub-alignments for placement problem : P_5.\n",
      "[14:57:32] alignment.py (line 556):     INFO: Merging extension sto file (/tmp/sepp/output.agkzq6va/root/P_5/A_5_0/FC_5_0_0/hmmalign.results.vnu06987) into base alignment (/tmp/sepp/output.agkzq6va/root/P_5/A_5_0/hmmbuild.input.99vl03ap.fasta).\n",
      "[14:57:32] alignment.py (line 556):     INFO: Merging extension sto file (/tmp/sepp/output.agkzq6va/root/P_5/A_5_0/FC_5_0_1/hmmalign.results.0ufc4h3q) into base alignment (/tmp/sepp/output.agkzq6va/root/P_5/A_5_0/hmmbuild.input.99vl03ap.fasta).\n",
      "[14:57:32] alignment.py (line 556):     INFO: Merging extension sto file (/tmp/sepp/output.agkzq6va/root/P_5/A_5_0/FC_5_0_2/hmmalign.results.cpnn7vdq) into base alignment (/tmp/sepp/output.agkzq6va/root/P_5/A_5_0/hmmbuild.input.99vl03ap.fasta).\n",
      "[14:57:32] exhaustive.py (line 151):     INFO: Merging sub-alignments for placement problem : P_6.\n",
      "[14:57:32] alignment.py (line 556):     INFO: Merging extension sto file (/tmp/sepp/output.agkzq6va/root/P_6/A_6_0/FC_6_0_0/hmmalign.results.ofd58rzf) into base alignment (/tmp/sepp/output.agkzq6va/root/P_6/A_6_0/hmmbuild.input.h9reoa4f.fasta).\n",
      "[14:57:32] alignment.py (line 556):     INFO: Merging extension sto file (/tmp/sepp/output.agkzq6va/root/P_6/A_6_0/FC_6_0_1/hmmalign.results.w87gw2sy) into base alignment (/tmp/sepp/output.agkzq6va/root/P_6/A_6_0/hmmbuild.input.h9reoa4f.fasta).\n",
      "[14:57:32] alignment.py (line 556):     INFO: Merging extension sto file (/tmp/sepp/output.agkzq6va/root/P_6/A_6_0/FC_6_0_2/hmmalign.results.jy2b5j28) into base alignment (/tmp/sepp/output.agkzq6va/root/P_6/A_6_0/hmmbuild.input.h9reoa4f.fasta).\n",
      "[14:57:32] jobs.py (line 131):     INFO: Finished hmmalign Job with input: model:/tmp/sepp/output.agkzq6va/root/P_9/A_9_0/hmmbuild.model.q2fnthg_, fragments:/tmp/sepp/output.agkzq6va/root/P_9/A_9_0/FC_9_0_2/hmmalign.frag.6h5t7nxo.fasta, trim:False, base_alignment:/tmp/sepp/output.agkzq6va/root/P_9/A_9_0/hmmbuild.input.3jprepj4.fasta\n",
      "[14:57:32] jobs.py (line 131):     INFO: Finished hmmalign Job with input: model:/tmp/sepp/output.agkzq6va/root/P_9/A_9_0/hmmbuild.model.q2fnthg_, fragments:/tmp/sepp/output.agkzq6va/root/P_9/A_9_0/FC_9_0_0/hmmalign.frag.jwca0xl5.fasta, trim:False, base_alignment:/tmp/sepp/output.agkzq6va/root/P_9/A_9_0/hmmbuild.input.3jprepj4.fasta\n",
      "[14:57:32] jobs.py (line 131):     INFO: Finished hmmalign Job with input: model:/tmp/sepp/output.agkzq6va/root/P_9/A_9_0/hmmbuild.model.q2fnthg_, fragments:/tmp/sepp/output.agkzq6va/root/P_9/A_9_0/FC_9_0_1/hmmalign.frag.pdh192am.fasta, trim:False, base_alignment:/tmp/sepp/output.agkzq6va/root/P_9/A_9_0/hmmbuild.input.3jprepj4.fasta\n",
      "[14:57:32] exhaustive.py (line 151):     INFO: Merging sub-alignments for placement problem : P_7.\n",
      "[14:57:32] alignment.py (line 556):     INFO: Merging extension sto file (/tmp/sepp/output.agkzq6va/root/P_7/A_7_0/FC_7_0_0/hmmalign.results.qqt5jyvx) into base alignment (/tmp/sepp/output.agkzq6va/root/P_7/A_7_0/hmmbuild.input.mc7pj1g8.fasta).\n",
      "[14:57:32] alignment.py (line 556):     INFO: Merging extension sto file (/tmp/sepp/output.agkzq6va/root/P_7/A_7_0/FC_7_0_1/hmmalign.results.ad_b8j_n) into base alignment (/tmp/sepp/output.agkzq6va/root/P_7/A_7_0/hmmbuild.input.mc7pj1g8.fasta).\n",
      "[14:57:32] alignment.py (line 556):     INFO: Merging extension sto file (/tmp/sepp/output.agkzq6va/root/P_7/A_7_0/FC_7_0_2/hmmalign.results._pisckk8) into base alignment (/tmp/sepp/output.agkzq6va/root/P_7/A_7_0/hmmbuild.input.mc7pj1g8.fasta).\n",
      "[14:57:32] exhaustive.py (line 151):     INFO: Merging sub-alignments for placement problem : P_8.\n",
      "[14:57:32] alignment.py (line 556):     INFO: Merging extension sto file (/tmp/sepp/output.agkzq6va/root/P_8/A_8_0/FC_8_0_0/hmmalign.results.ns9mhl8k) into base alignment (/tmp/sepp/output.agkzq6va/root/P_8/A_8_0/hmmbuild.input.s9zrbs9g.fasta).\n",
      "[14:57:32] alignment.py (line 556):     INFO: Merging extension sto file (/tmp/sepp/output.agkzq6va/root/P_8/A_8_0/FC_8_0_1/hmmalign.results.4rvq5kg6) into base alignment (/tmp/sepp/output.agkzq6va/root/P_8/A_8_0/hmmbuild.input.s9zrbs9g.fasta).\n",
      "[14:57:32] alignment.py (line 556):     INFO: Merging extension sto file (/tmp/sepp/output.agkzq6va/root/P_8/A_8_0/FC_8_0_2/hmmalign.results.d1tixxq7) into base alignment (/tmp/sepp/output.agkzq6va/root/P_8/A_8_0/hmmbuild.input.s9zrbs9g.fasta).\n",
      "[14:57:32] exhaustive.py (line 151):     INFO: Merging sub-alignments for placement problem : P_10.\n",
      "[14:57:32] alignment.py (line 556):     INFO: Merging extension sto file (/tmp/sepp/output.agkzq6va/root/P_10/A_10_0/FC_10_0_0/hmmalign.results.030_mjov) into base alignment (/tmp/sepp/output.agkzq6va/root/P_10/A_10_0/hmmbuild.input.mu3hhby8.fasta).\n",
      "[14:57:32] alignment.py (line 556):     INFO: Merging extension sto file (/tmp/sepp/output.agkzq6va/root/P_10/A_10_0/FC_10_0_1/hmmalign.results.usrw9tj8) into base alignment (/tmp/sepp/output.agkzq6va/root/P_10/A_10_0/hmmbuild.input.mu3hhby8.fasta).\n",
      "[14:57:32] alignment.py (line 556):     INFO: Merging extension sto file (/tmp/sepp/output.agkzq6va/root/P_10/A_10_0/FC_10_0_2/hmmalign.results.ou5dhd_5) into base alignment (/tmp/sepp/output.agkzq6va/root/P_10/A_10_0/hmmbuild.input.mu3hhby8.fasta).\n",
      "[14:57:32] exhaustive.py (line 151):     INFO: Merging sub-alignments for placement problem : P_9.\n",
      "[14:57:33] alignment.py (line 556):     INFO: Merging extension sto file (/tmp/sepp/output.agkzq6va/root/P_9/A_9_0/FC_9_0_0/hmmalign.results.9anb4zlp) into base alignment (/tmp/sepp/output.agkzq6va/root/P_9/A_9_0/hmmbuild.input.3jprepj4.fasta).\n",
      "[14:57:33] alignment.py (line 556):     INFO: Merging extension sto file (/tmp/sepp/output.agkzq6va/root/P_9/A_9_0/FC_9_0_1/hmmalign.results.yfr6dima) into base alignment (/tmp/sepp/output.agkzq6va/root/P_9/A_9_0/hmmbuild.input.3jprepj4.fasta).\n",
      "[14:57:33] alignment.py (line 556):     INFO: Merging extension sto file (/tmp/sepp/output.agkzq6va/root/P_9/A_9_0/FC_9_0_2/hmmalign.results.6i7hsd5b) into base alignment (/tmp/sepp/output.agkzq6va/root/P_9/A_9_0/hmmbuild.input.3jprepj4.fasta).\n",
      "[14:57:35] jobs.py (line 131):     INFO: Finished hmmalign Job with input: model:/tmp/sepp/output.agkzq6va/root/P_12/A_12_0/hmmbuild.model.991uyoo6, fragments:/tmp/sepp/output.agkzq6va/root/P_12/A_12_0/FC_12_0_0/hmmalign.frag.lwec0wr6.fasta, trim:False, base_alignment:/tmp/sepp/output.agkzq6va/root/P_12/A_12_0/hmmbuild.input.qfb19hel.fasta\n",
      "[14:57:35] jobs.py (line 131):     INFO: Finished hmmalign Job with input: model:/tmp/sepp/output.agkzq6va/root/P_12/A_12_0/hmmbuild.model.991uyoo6, fragments:/tmp/sepp/output.agkzq6va/root/P_12/A_12_0/FC_12_0_1/hmmalign.frag.sqrirl9y.fasta, trim:False, base_alignment:/tmp/sepp/output.agkzq6va/root/P_12/A_12_0/hmmbuild.input.qfb19hel.fasta\n",
      "[14:57:36] jobs.py (line 131):     INFO: Finished hmmalign Job with input: model:/tmp/sepp/output.agkzq6va/root/P_13/A_13_0/hmmbuild.model.cc7uhcgv, fragments:/tmp/sepp/output.agkzq6va/root/P_13/A_13_0/FC_13_0_0/hmmalign.frag.aiuywie8.fasta, trim:False, base_alignment:/tmp/sepp/output.agkzq6va/root/P_13/A_13_0/hmmbuild.input.1xvmdna1.fasta\n",
      "[14:57:36] jobs.py (line 131):     INFO: Finished hmmalign Job with input: model:/tmp/sepp/output.agkzq6va/root/P_13/A_13_0/hmmbuild.model.cc7uhcgv, fragments:/tmp/sepp/output.agkzq6va/root/P_13/A_13_0/FC_13_0_1/hmmalign.frag.ygny88xm.fasta, trim:False, base_alignment:/tmp/sepp/output.agkzq6va/root/P_13/A_13_0/hmmbuild.input.1xvmdna1.fasta\n",
      "[14:57:36] jobs.py (line 131):     INFO: Finished hmmalign Job with input: model:/tmp/sepp/output.agkzq6va/root/P_14/A_14_0/hmmbuild.model.9ryclgx0, fragments:/tmp/sepp/output.agkzq6va/root/P_14/A_14_0/FC_14_0_0/hmmalign.frag.nvk4quft.fasta, trim:False, base_alignment:/tmp/sepp/output.agkzq6va/root/P_14/A_14_0/hmmbuild.input.0t62y8ka.fasta\n",
      "[14:57:36] jobs.py (line 131):     INFO: Finished hmmalign Job with input: model:/tmp/sepp/output.agkzq6va/root/P_12/A_12_0/hmmbuild.model.991uyoo6, fragments:/tmp/sepp/output.agkzq6va/root/P_12/A_12_0/FC_12_0_2/hmmalign.frag.f7zmx32w.fasta, trim:False, base_alignment:/tmp/sepp/output.agkzq6va/root/P_12/A_12_0/hmmbuild.input.qfb19hel.fasta\n",
      "[14:57:36] exhaustive.py (line 151):     INFO: Merging sub-alignments for placement problem : P_12.\n",
      "[14:57:36] alignment.py (line 556):     INFO: Merging extension sto file (/tmp/sepp/output.agkzq6va/root/P_12/A_12_0/FC_12_0_0/hmmalign.results.5qr0dkga) into base alignment (/tmp/sepp/output.agkzq6va/root/P_12/A_12_0/hmmbuild.input.qfb19hel.fasta).\n",
      "[14:57:36] jobs.py (line 131):     INFO: Finished hmmalign Job with input: model:/tmp/sepp/output.agkzq6va/root/P_13/A_13_0/hmmbuild.model.cc7uhcgv, fragments:/tmp/sepp/output.agkzq6va/root/P_13/A_13_0/FC_13_0_2/hmmalign.frag.g_dzm74z.fasta, trim:False, base_alignment:/tmp/sepp/output.agkzq6va/root/P_13/A_13_0/hmmbuild.input.1xvmdna1.fasta\n",
      "[14:57:36] jobs.py (line 131):     INFO: Finished hmmalign Job with input: model:/tmp/sepp/output.agkzq6va/root/P_14/A_14_0/hmmbuild.model.9ryclgx0, fragments:/tmp/sepp/output.agkzq6va/root/P_14/A_14_0/FC_14_0_1/hmmalign.frag.jtp4onaf.fasta, trim:False, base_alignment:/tmp/sepp/output.agkzq6va/root/P_14/A_14_0/hmmbuild.input.0t62y8ka.fasta\n",
      "[14:57:36] alignment.py (line 556):     INFO: Merging extension sto file (/tmp/sepp/output.agkzq6va/root/P_12/A_12_0/FC_12_0_1/hmmalign.results.nxsdwyra) into base alignment (/tmp/sepp/output.agkzq6va/root/P_12/A_12_0/hmmbuild.input.qfb19hel.fasta).\n",
      "[14:57:36] jobs.py (line 131):     INFO: Finished hmmalign Job with input: model:/tmp/sepp/output.agkzq6va/root/P_14/A_14_0/hmmbuild.model.9ryclgx0, fragments:/tmp/sepp/output.agkzq6va/root/P_14/A_14_0/FC_14_0_2/hmmalign.frag.jed6wdiv.fasta, trim:False, base_alignment:/tmp/sepp/output.agkzq6va/root/P_14/A_14_0/hmmbuild.input.0t62y8ka.fasta\n",
      "[14:57:36] jobs.py (line 131):     INFO: Finished hmmalign Job with input: model:/tmp/sepp/output.agkzq6va/root/P_15/A_15_0/hmmbuild.model.3c1xzmxx, fragments:/tmp/sepp/output.agkzq6va/root/P_15/A_15_0/FC_15_0_0/hmmalign.frag.p0w_r_l3.fasta, trim:False, base_alignment:/tmp/sepp/output.agkzq6va/root/P_15/A_15_0/hmmbuild.input.2gcpx5ph.fasta\n",
      "[14:57:36] alignment.py (line 556):     INFO: Merging extension sto file (/tmp/sepp/output.agkzq6va/root/P_12/A_12_0/FC_12_0_2/hmmalign.results.j37i13qv) into base alignment (/tmp/sepp/output.agkzq6va/root/P_12/A_12_0/hmmbuild.input.qfb19hel.fasta).\n",
      "[14:57:36] exhaustive.py (line 151):     INFO: Merging sub-alignments for placement problem : P_13.\n",
      "[14:57:36] alignment.py (line 556):     INFO: Merging extension sto file (/tmp/sepp/output.agkzq6va/root/P_13/A_13_0/FC_13_0_0/hmmalign.results.loje01xe) into base alignment (/tmp/sepp/output.agkzq6va/root/P_13/A_13_0/hmmbuild.input.1xvmdna1.fasta).\n",
      "[14:57:36] alignment.py (line 556):     INFO: Merging extension sto file (/tmp/sepp/output.agkzq6va/root/P_13/A_13_0/FC_13_0_1/hmmalign.results.kyi2qe99) into base alignment (/tmp/sepp/output.agkzq6va/root/P_13/A_13_0/hmmbuild.input.1xvmdna1.fasta).\n",
      "[14:57:36] alignment.py (line 556):     INFO: Merging extension sto file (/tmp/sepp/output.agkzq6va/root/P_13/A_13_0/FC_13_0_2/hmmalign.results.pggab_1_) into base alignment (/tmp/sepp/output.agkzq6va/root/P_13/A_13_0/hmmbuild.input.1xvmdna1.fasta).\n",
      "[14:57:36] exhaustive.py (line 151):     INFO: Merging sub-alignments for placement problem : P_14.\n",
      "[14:57:36] alignment.py (line 556):     INFO: Merging extension sto file (/tmp/sepp/output.agkzq6va/root/P_14/A_14_0/FC_14_0_0/hmmalign.results.qrxcvrz4) into base alignment (/tmp/sepp/output.agkzq6va/root/P_14/A_14_0/hmmbuild.input.0t62y8ka.fasta).\n",
      "[14:57:36] alignment.py (line 556):     INFO: Merging extension sto file (/tmp/sepp/output.agkzq6va/root/P_14/A_14_0/FC_14_0_1/hmmalign.results.phryryhq) into base alignment (/tmp/sepp/output.agkzq6va/root/P_14/A_14_0/hmmbuild.input.0t62y8ka.fasta).\n",
      "[14:57:36] alignment.py (line 556):     INFO: Merging extension sto file (/tmp/sepp/output.agkzq6va/root/P_14/A_14_0/FC_14_0_2/hmmalign.results.sayp2lmm) into base alignment (/tmp/sepp/output.agkzq6va/root/P_14/A_14_0/hmmbuild.input.0t62y8ka.fasta).\n",
      "[14:57:36] exhaustive.py (line 151):     INFO: Merging sub-alignments for placement problem : P_15.\n",
      "[14:57:36] alignment.py (line 556):     INFO: Merging extension sto file (/tmp/sepp/output.agkzq6va/root/P_15/A_15_0/FC_15_0_0/hmmalign.results.u4te19b0) into base alignment (/tmp/sepp/output.agkzq6va/root/P_15/A_15_0/hmmbuild.input.2gcpx5ph.fasta).\n",
      "[14:57:39] jobs.py (line 131):     INFO: Finished pplacer Job with input: backbone_alignment_file:/tmp/sepp/output.agkzq6va/root/P_1/pplacer.backbone.zkpb3knp.fasta, tree_file:/tmp/sepp/output.agkzq6va/root/P_1/pplacer.tree.2pm1tssc.tre, info_file:/home/lauro/anaconda3/envs/qiime2-2021.11/lib/python3.8/site-packages/picrust2/default_files/prokaryotic/pro_ref/pro_ref.raxml_info, extended alignment:/tmp/sepp/output.agkzq6va/root/P_1/pplacer.extended.1._4kvznf8.fasta, output:/tmp/sepp/output.agkzq6va/root/P_1/pplacer.extended.1._4kvznf8.jplace\n",
      "[14:57:39] jobs.py (line 131):     INFO: Finished pplacer Job with input: backbone_alignment_file:/tmp/sepp/output.agkzq6va/root/P_1/pplacer.backbone.z97q48_x.fasta, tree_file:/tmp/sepp/output.agkzq6va/root/P_1/pplacer.tree.q5sqdjks.tre, info_file:/home/lauro/anaconda3/envs/qiime2-2021.11/lib/python3.8/site-packages/picrust2/default_files/prokaryotic/pro_ref/pro_ref.raxml_info, extended alignment:/tmp/sepp/output.agkzq6va/root/P_1/pplacer.extended.0.ds6bhpwx.fasta, output:/tmp/sepp/output.agkzq6va/root/P_1/pplacer.extended.0.ds6bhpwx.jplace\n",
      "[14:57:41] jobs.py (line 131):     INFO: Finished pplacer Job with input: backbone_alignment_file:/tmp/sepp/output.agkzq6va/root/P_1/pplacer.backbone.rlc_ez32.fasta, tree_file:/tmp/sepp/output.agkzq6va/root/P_1/pplacer.tree.2_aimgsn.tre, info_file:/home/lauro/anaconda3/envs/qiime2-2021.11/lib/python3.8/site-packages/picrust2/default_files/prokaryotic/pro_ref/pro_ref.raxml_info, extended alignment:/tmp/sepp/output.agkzq6va/root/P_1/pplacer.extended.2.4fudah9g.fasta, output:/tmp/sepp/output.agkzq6va/root/P_1/pplacer.extended.2.4fudah9g.jplace\n",
      "[14:57:41] jobs.py (line 131):     INFO: Finished hmmalign Job with input: model:/tmp/sepp/output.agkzq6va/root/P_11/A_11_0/hmmbuild.model.ld3ld1qw, fragments:/tmp/sepp/output.agkzq6va/root/P_11/A_11_0/FC_11_0_2/hmmalign.frag.c_jfdrer.fasta, trim:False, base_alignment:/tmp/sepp/output.agkzq6va/root/P_11/A_11_0/hmmbuild.input.msmnx7hm.fasta\n",
      "[14:57:41] jobs.py (line 131):     INFO: Finished hmmalign Job with input: model:/tmp/sepp/output.agkzq6va/root/P_11/A_11_0/hmmbuild.model.ld3ld1qw, fragments:/tmp/sepp/output.agkzq6va/root/P_11/A_11_0/FC_11_0_0/hmmalign.frag.ebgivms5.fasta, trim:False, base_alignment:/tmp/sepp/output.agkzq6va/root/P_11/A_11_0/hmmbuild.input.msmnx7hm.fasta\n",
      "[14:57:41] jobs.py (line 131):     INFO: Finished hmmalign Job with input: model:/tmp/sepp/output.agkzq6va/root/P_11/A_11_0/hmmbuild.model.ld3ld1qw, fragments:/tmp/sepp/output.agkzq6va/root/P_11/A_11_0/FC_11_0_1/hmmalign.frag.evi5yyb6.fasta, trim:False, base_alignment:/tmp/sepp/output.agkzq6va/root/P_11/A_11_0/hmmbuild.input.msmnx7hm.fasta\n",
      "[14:57:41] exhaustive.py (line 151):     INFO: Merging sub-alignments for placement problem : P_11.\n",
      "[14:57:41] alignment.py (line 556):     INFO: Merging extension sto file (/tmp/sepp/output.agkzq6va/root/P_11/A_11_0/FC_11_0_0/hmmalign.results.xsj4sf0_) into base alignment (/tmp/sepp/output.agkzq6va/root/P_11/A_11_0/hmmbuild.input.msmnx7hm.fasta).\n",
      "[14:57:41] alignment.py (line 556):     INFO: Merging extension sto file (/tmp/sepp/output.agkzq6va/root/P_11/A_11_0/FC_11_0_1/hmmalign.results.5_vcu54x) into base alignment (/tmp/sepp/output.agkzq6va/root/P_11/A_11_0/hmmbuild.input.msmnx7hm.fasta).\n",
      "[14:57:41] alignment.py (line 556):     INFO: Merging extension sto file (/tmp/sepp/output.agkzq6va/root/P_11/A_11_0/FC_11_0_2/hmmalign.results.8vs1p9lx) into base alignment (/tmp/sepp/output.agkzq6va/root/P_11/A_11_0/hmmbuild.input.msmnx7hm.fasta).\n",
      "[14:57:43] jobs.py (line 131):     INFO: Finished pplacer Job with input: backbone_alignment_file:/tmp/sepp/output.agkzq6va/root/P_5/pplacer.backbone.kjkbiqvb.fasta, tree_file:/tmp/sepp/output.agkzq6va/root/P_5/pplacer.tree.9871dlf1.tre, info_file:/home/lauro/anaconda3/envs/qiime2-2021.11/lib/python3.8/site-packages/picrust2/default_files/prokaryotic/pro_ref/pro_ref.raxml_info, extended alignment:/tmp/sepp/output.agkzq6va/root/P_5/pplacer.extended.1.uen3i9r7.fasta, output:/tmp/sepp/output.agkzq6va/root/P_5/pplacer.extended.1.uen3i9r7.jplace\n",
      "[14:57:44] jobs.py (line 131):     INFO: Finished pplacer Job with input: backbone_alignment_file:/tmp/sepp/output.agkzq6va/root/P_5/pplacer.backbone._4_7_fe8.fasta, tree_file:/tmp/sepp/output.agkzq6va/root/P_5/pplacer.tree.4cuypgk8.tre, info_file:/home/lauro/anaconda3/envs/qiime2-2021.11/lib/python3.8/site-packages/picrust2/default_files/prokaryotic/pro_ref/pro_ref.raxml_info, extended alignment:/tmp/sepp/output.agkzq6va/root/P_5/pplacer.extended.0.bfe26xby.fasta, output:/tmp/sepp/output.agkzq6va/root/P_5/pplacer.extended.0.bfe26xby.jplace\n",
      "[14:57:45] jobs.py (line 131):     INFO: Finished pplacer Job with input: backbone_alignment_file:/tmp/sepp/output.agkzq6va/root/P_5/pplacer.backbone.ax50c86q.fasta, tree_file:/tmp/sepp/output.agkzq6va/root/P_5/pplacer.tree.n2h_py8_.tre, info_file:/home/lauro/anaconda3/envs/qiime2-2021.11/lib/python3.8/site-packages/picrust2/default_files/prokaryotic/pro_ref/pro_ref.raxml_info, extended alignment:/tmp/sepp/output.agkzq6va/root/P_5/pplacer.extended.2.hv06zvao.fasta, output:/tmp/sepp/output.agkzq6va/root/P_5/pplacer.extended.2.hv06zvao.jplace\n",
      "[14:57:47] jobs.py (line 131):     INFO: Finished pplacer Job with input: backbone_alignment_file:/tmp/sepp/output.agkzq6va/root/P_7/pplacer.backbone.43md0p9_.fasta, tree_file:/tmp/sepp/output.agkzq6va/root/P_7/pplacer.tree.ymqyk4bj.tre, info_file:/home/lauro/anaconda3/envs/qiime2-2021.11/lib/python3.8/site-packages/picrust2/default_files/prokaryotic/pro_ref/pro_ref.raxml_info, extended alignment:/tmp/sepp/output.agkzq6va/root/P_7/pplacer.extended.0.2udry0dw.fasta, output:/tmp/sepp/output.agkzq6va/root/P_7/pplacer.extended.0.2udry0dw.jplace\n",
      "[14:57:49] jobs.py (line 131):     INFO: Finished pplacer Job with input: backbone_alignment_file:/tmp/sepp/output.agkzq6va/root/P_7/pplacer.backbone.pmpuyhhl.fasta, tree_file:/tmp/sepp/output.agkzq6va/root/P_7/pplacer.tree.j60kdj19.tre, info_file:/home/lauro/anaconda3/envs/qiime2-2021.11/lib/python3.8/site-packages/picrust2/default_files/prokaryotic/pro_ref/pro_ref.raxml_info, extended alignment:/tmp/sepp/output.agkzq6va/root/P_7/pplacer.extended.2.j1hj2dps.fasta, output:/tmp/sepp/output.agkzq6va/root/P_7/pplacer.extended.2.j1hj2dps.jplace\n",
      "[14:57:49] jobs.py (line 131):     INFO: Finished pplacer Job with input: backbone_alignment_file:/tmp/sepp/output.agkzq6va/root/P_6/pplacer.backbone._mk_tzws.fasta, tree_file:/tmp/sepp/output.agkzq6va/root/P_6/pplacer.tree.2fq5v19b.tre, info_file:/home/lauro/anaconda3/envs/qiime2-2021.11/lib/python3.8/site-packages/picrust2/default_files/prokaryotic/pro_ref/pro_ref.raxml_info, extended alignment:/tmp/sepp/output.agkzq6va/root/P_6/pplacer.extended.2.kwhhy0kd.fasta, output:/tmp/sepp/output.agkzq6va/root/P_6/pplacer.extended.2.kwhhy0kd.jplace\n",
      "[14:57:50] jobs.py (line 131):     INFO: Finished pplacer Job with input: backbone_alignment_file:/tmp/sepp/output.agkzq6va/root/P_7/pplacer.backbone.4vsqbjob.fasta, tree_file:/tmp/sepp/output.agkzq6va/root/P_7/pplacer.tree.uxd9317e.tre, info_file:/home/lauro/anaconda3/envs/qiime2-2021.11/lib/python3.8/site-packages/picrust2/default_files/prokaryotic/pro_ref/pro_ref.raxml_info, extended alignment:/tmp/sepp/output.agkzq6va/root/P_7/pplacer.extended.1.4fyizob4.fasta, output:/tmp/sepp/output.agkzq6va/root/P_7/pplacer.extended.1.4fyizob4.jplace\n",
      "[14:57:50] jobs.py (line 131):     INFO: Finished pplacer Job with input: backbone_alignment_file:/tmp/sepp/output.agkzq6va/root/P_8/pplacer.backbone.nuquw_9n.fasta, tree_file:/tmp/sepp/output.agkzq6va/root/P_8/pplacer.tree.8w6v5q7h.tre, info_file:/home/lauro/anaconda3/envs/qiime2-2021.11/lib/python3.8/site-packages/picrust2/default_files/prokaryotic/pro_ref/pro_ref.raxml_info, extended alignment:/tmp/sepp/output.agkzq6va/root/P_8/pplacer.extended.0.086yff8j.fasta, output:/tmp/sepp/output.agkzq6va/root/P_8/pplacer.extended.0.086yff8j.jplace\n",
      "[14:57:52] jobs.py (line 131):     INFO: Finished pplacer Job with input: backbone_alignment_file:/tmp/sepp/output.agkzq6va/root/P_8/pplacer.backbone.urjfduk1.fasta, tree_file:/tmp/sepp/output.agkzq6va/root/P_8/pplacer.tree.06b1ls0b.tre, info_file:/home/lauro/anaconda3/envs/qiime2-2021.11/lib/python3.8/site-packages/picrust2/default_files/prokaryotic/pro_ref/pro_ref.raxml_info, extended alignment:/tmp/sepp/output.agkzq6va/root/P_8/pplacer.extended.2.fsn42ksg.fasta, output:/tmp/sepp/output.agkzq6va/root/P_8/pplacer.extended.2.fsn42ksg.jplace\n",
      "[14:57:53] jobs.py (line 131):     INFO: Finished pplacer Job with input: backbone_alignment_file:/tmp/sepp/output.agkzq6va/root/P_10/pplacer.backbone.7e6dbdyk.fasta, tree_file:/tmp/sepp/output.agkzq6va/root/P_10/pplacer.tree.m1iirfcc.tre, info_file:/home/lauro/anaconda3/envs/qiime2-2021.11/lib/python3.8/site-packages/picrust2/default_files/prokaryotic/pro_ref/pro_ref.raxml_info, extended alignment:/tmp/sepp/output.agkzq6va/root/P_10/pplacer.extended.0.77dywcn2.fasta, output:/tmp/sepp/output.agkzq6va/root/P_10/pplacer.extended.0.77dywcn2.jplace\n",
      "[14:57:53] jobs.py (line 131):     INFO: Finished pplacer Job with input: backbone_alignment_file:/tmp/sepp/output.agkzq6va/root/P_6/pplacer.backbone.aju_2zz9.fasta, tree_file:/tmp/sepp/output.agkzq6va/root/P_6/pplacer.tree.x0ibpv4g.tre, info_file:/home/lauro/anaconda3/envs/qiime2-2021.11/lib/python3.8/site-packages/picrust2/default_files/prokaryotic/pro_ref/pro_ref.raxml_info, extended alignment:/tmp/sepp/output.agkzq6va/root/P_6/pplacer.extended.0.c_3qkbj3.fasta, output:/tmp/sepp/output.agkzq6va/root/P_6/pplacer.extended.0.c_3qkbj3.jplace\n",
      "[14:57:54] jobs.py (line 131):     INFO: Finished pplacer Job with input: backbone_alignment_file:/tmp/sepp/output.agkzq6va/root/P_10/pplacer.backbone.blkawsmr.fasta, tree_file:/tmp/sepp/output.agkzq6va/root/P_10/pplacer.tree.r79y7dxy.tre, info_file:/home/lauro/anaconda3/envs/qiime2-2021.11/lib/python3.8/site-packages/picrust2/default_files/prokaryotic/pro_ref/pro_ref.raxml_info, extended alignment:/tmp/sepp/output.agkzq6va/root/P_10/pplacer.extended.1.5xpi4o3m.fasta, output:/tmp/sepp/output.agkzq6va/root/P_10/pplacer.extended.1.5xpi4o3m.jplace\n",
      "[14:57:54] jobs.py (line 131):     INFO: Finished pplacer Job with input: backbone_alignment_file:/tmp/sepp/output.agkzq6va/root/P_8/pplacer.backbone.9zf6qw5p.fasta, tree_file:/tmp/sepp/output.agkzq6va/root/P_8/pplacer.tree.pazuy5fk.tre, info_file:/home/lauro/anaconda3/envs/qiime2-2021.11/lib/python3.8/site-packages/picrust2/default_files/prokaryotic/pro_ref/pro_ref.raxml_info, extended alignment:/tmp/sepp/output.agkzq6va/root/P_8/pplacer.extended.1.va8w1iw9.fasta, output:/tmp/sepp/output.agkzq6va/root/P_8/pplacer.extended.1.va8w1iw9.jplace\n",
      "[14:57:59] jobs.py (line 131):     INFO: Finished pplacer Job with input: backbone_alignment_file:/tmp/sepp/output.agkzq6va/root/P_9/pplacer.backbone.s1o_cjs3.fasta, tree_file:/tmp/sepp/output.agkzq6va/root/P_9/pplacer.tree.8askgy0n.tre, info_file:/home/lauro/anaconda3/envs/qiime2-2021.11/lib/python3.8/site-packages/picrust2/default_files/prokaryotic/pro_ref/pro_ref.raxml_info, extended alignment:/tmp/sepp/output.agkzq6va/root/P_9/pplacer.extended.2.u6mupfer.fasta, output:/tmp/sepp/output.agkzq6va/root/P_9/pplacer.extended.2.u6mupfer.jplace\n",
      "[14:58:00] jobs.py (line 131):     INFO: Finished pplacer Job with input: backbone_alignment_file:/tmp/sepp/output.agkzq6va/root/P_10/pplacer.backbone.l5y1zcju.fasta, tree_file:/tmp/sepp/output.agkzq6va/root/P_10/pplacer.tree.enjehk84.tre, info_file:/home/lauro/anaconda3/envs/qiime2-2021.11/lib/python3.8/site-packages/picrust2/default_files/prokaryotic/pro_ref/pro_ref.raxml_info, extended alignment:/tmp/sepp/output.agkzq6va/root/P_10/pplacer.extended.2.r2bdnmmq.fasta, output:/tmp/sepp/output.agkzq6va/root/P_10/pplacer.extended.2.r2bdnmmq.jplace\n",
      "[14:58:01] jobs.py (line 131):     INFO: Finished pplacer Job with input: backbone_alignment_file:/tmp/sepp/output.agkzq6va/root/P_6/pplacer.backbone.ae6rfjl8.fasta, tree_file:/tmp/sepp/output.agkzq6va/root/P_6/pplacer.tree.pdcrqpdr.tre, info_file:/home/lauro/anaconda3/envs/qiime2-2021.11/lib/python3.8/site-packages/picrust2/default_files/prokaryotic/pro_ref/pro_ref.raxml_info, extended alignment:/tmp/sepp/output.agkzq6va/root/P_6/pplacer.extended.1._qr56js6.fasta, output:/tmp/sepp/output.agkzq6va/root/P_6/pplacer.extended.1._qr56js6.jplace\n",
      "[14:58:02] jobs.py (line 131):     INFO: Finished pplacer Job with input: backbone_alignment_file:/tmp/sepp/output.agkzq6va/root/P_9/pplacer.backbone.pi1q19pz.fasta, tree_file:/tmp/sepp/output.agkzq6va/root/P_9/pplacer.tree.6tax4gr1.tre, info_file:/home/lauro/anaconda3/envs/qiime2-2021.11/lib/python3.8/site-packages/picrust2/default_files/prokaryotic/pro_ref/pro_ref.raxml_info, extended alignment:/tmp/sepp/output.agkzq6va/root/P_9/pplacer.extended.0.qnfm48fo.fasta, output:/tmp/sepp/output.agkzq6va/root/P_9/pplacer.extended.0.qnfm48fo.jplace\n",
      "[14:58:03] jobs.py (line 131):     INFO: Finished pplacer Job with input: backbone_alignment_file:/tmp/sepp/output.agkzq6va/root/P_9/pplacer.backbone.4iz1ootc.fasta, tree_file:/tmp/sepp/output.agkzq6va/root/P_9/pplacer.tree.80rkaawr.tre, info_file:/home/lauro/anaconda3/envs/qiime2-2021.11/lib/python3.8/site-packages/picrust2/default_files/prokaryotic/pro_ref/pro_ref.raxml_info, extended alignment:/tmp/sepp/output.agkzq6va/root/P_9/pplacer.extended.1.zm3lr9kv.fasta, output:/tmp/sepp/output.agkzq6va/root/P_9/pplacer.extended.1.zm3lr9kv.jplace\n",
      "[14:58:04] jobs.py (line 131):     INFO: Finished pplacer Job with input: backbone_alignment_file:/tmp/sepp/output.agkzq6va/root/P_13/pplacer.backbone.2zgza2wb.fasta, tree_file:/tmp/sepp/output.agkzq6va/root/P_13/pplacer.tree.8mxag__r.tre, info_file:/home/lauro/anaconda3/envs/qiime2-2021.11/lib/python3.8/site-packages/picrust2/default_files/prokaryotic/pro_ref/pro_ref.raxml_info, extended alignment:/tmp/sepp/output.agkzq6va/root/P_13/pplacer.extended.0.g24urr1z.fasta, output:/tmp/sepp/output.agkzq6va/root/P_13/pplacer.extended.0.g24urr1z.jplace\n",
      "[14:58:07] jobs.py (line 131):     INFO: Finished pplacer Job with input: backbone_alignment_file:/tmp/sepp/output.agkzq6va/root/P_14/pplacer.backbone.ncz2gecl.fasta, tree_file:/tmp/sepp/output.agkzq6va/root/P_14/pplacer.tree.xh7p8u1b.tre, info_file:/home/lauro/anaconda3/envs/qiime2-2021.11/lib/python3.8/site-packages/picrust2/default_files/prokaryotic/pro_ref/pro_ref.raxml_info, extended alignment:/tmp/sepp/output.agkzq6va/root/P_14/pplacer.extended.0.j2bp8dkg.fasta, output:/tmp/sepp/output.agkzq6va/root/P_14/pplacer.extended.0.j2bp8dkg.jplace\n",
      "[14:58:08] jobs.py (line 131):     INFO: Finished pplacer Job with input: backbone_alignment_file:/tmp/sepp/output.agkzq6va/root/P_13/pplacer.backbone.8vfixstq.fasta, tree_file:/tmp/sepp/output.agkzq6va/root/P_13/pplacer.tree.exwnlgyl.tre, info_file:/home/lauro/anaconda3/envs/qiime2-2021.11/lib/python3.8/site-packages/picrust2/default_files/prokaryotic/pro_ref/pro_ref.raxml_info, extended alignment:/tmp/sepp/output.agkzq6va/root/P_13/pplacer.extended.1.lq91fgs0.fasta, output:/tmp/sepp/output.agkzq6va/root/P_13/pplacer.extended.1.lq91fgs0.jplace\n",
      "[14:58:09] jobs.py (line 131):     INFO: Finished pplacer Job with input: backbone_alignment_file:/tmp/sepp/output.agkzq6va/root/P_13/pplacer.backbone.uw4jepjv.fasta, tree_file:/tmp/sepp/output.agkzq6va/root/P_13/pplacer.tree.dh90dm2l.tre, info_file:/home/lauro/anaconda3/envs/qiime2-2021.11/lib/python3.8/site-packages/picrust2/default_files/prokaryotic/pro_ref/pro_ref.raxml_info, extended alignment:/tmp/sepp/output.agkzq6va/root/P_13/pplacer.extended.2.uk_g8j_e.fasta, output:/tmp/sepp/output.agkzq6va/root/P_13/pplacer.extended.2.uk_g8j_e.jplace\n",
      "[14:58:11] jobs.py (line 131):     INFO: Finished pplacer Job with input: backbone_alignment_file:/tmp/sepp/output.agkzq6va/root/P_14/pplacer.backbone.13chmvs9.fasta, tree_file:/tmp/sepp/output.agkzq6va/root/P_14/pplacer.tree.arzcjw2h.tre, info_file:/home/lauro/anaconda3/envs/qiime2-2021.11/lib/python3.8/site-packages/picrust2/default_files/prokaryotic/pro_ref/pro_ref.raxml_info, extended alignment:/tmp/sepp/output.agkzq6va/root/P_14/pplacer.extended.1.ug_7wwek.fasta, output:/tmp/sepp/output.agkzq6va/root/P_14/pplacer.extended.1.ug_7wwek.jplace\n",
      "[14:58:11] jobs.py (line 131):     INFO: Finished pplacer Job with input: backbone_alignment_file:/tmp/sepp/output.agkzq6va/root/P_14/pplacer.backbone.sbf0y34e.fasta, tree_file:/tmp/sepp/output.agkzq6va/root/P_14/pplacer.tree.goayhr2b.tre, info_file:/home/lauro/anaconda3/envs/qiime2-2021.11/lib/python3.8/site-packages/picrust2/default_files/prokaryotic/pro_ref/pro_ref.raxml_info, extended alignment:/tmp/sepp/output.agkzq6va/root/P_14/pplacer.extended.2.8xylvmyt.fasta, output:/tmp/sepp/output.agkzq6va/root/P_14/pplacer.extended.2.8xylvmyt.jplace\n",
      "[14:58:12] jobs.py (line 131):     INFO: Finished pplacer Job with input: backbone_alignment_file:/tmp/sepp/output.agkzq6va/root/P_12/pplacer.backbone.n9pq61y3.fasta, tree_file:/tmp/sepp/output.agkzq6va/root/P_12/pplacer.tree.8chcs29h.tre, info_file:/home/lauro/anaconda3/envs/qiime2-2021.11/lib/python3.8/site-packages/picrust2/default_files/prokaryotic/pro_ref/pro_ref.raxml_info, extended alignment:/tmp/sepp/output.agkzq6va/root/P_12/pplacer.extended.0.vi8yj6ae.fasta, output:/tmp/sepp/output.agkzq6va/root/P_12/pplacer.extended.0.vi8yj6ae.jplace\n",
      "[14:58:14] jobs.py (line 131):     INFO: Finished pplacer Job with input: backbone_alignment_file:/tmp/sepp/output.agkzq6va/root/P_15/pplacer.backbone.kzjryo2h.fasta, tree_file:/tmp/sepp/output.agkzq6va/root/P_15/pplacer.tree.3a3jtxap.tre, info_file:/home/lauro/anaconda3/envs/qiime2-2021.11/lib/python3.8/site-packages/picrust2/default_files/prokaryotic/pro_ref/pro_ref.raxml_info, extended alignment:/tmp/sepp/output.agkzq6va/root/P_15/pplacer.extended.0.2f_5t7jy.fasta, output:/tmp/sepp/output.agkzq6va/root/P_15/pplacer.extended.0.2f_5t7jy.jplace\n",
      "[14:58:17] jobs.py (line 131):     INFO: Finished pplacer Job with input: backbone_alignment_file:/tmp/sepp/output.agkzq6va/root/P_12/pplacer.backbone.mfdnkqqi.fasta, tree_file:/tmp/sepp/output.agkzq6va/root/P_12/pplacer.tree.4retukea.tre, info_file:/home/lauro/anaconda3/envs/qiime2-2021.11/lib/python3.8/site-packages/picrust2/default_files/prokaryotic/pro_ref/pro_ref.raxml_info, extended alignment:/tmp/sepp/output.agkzq6va/root/P_12/pplacer.extended.2.fj23mmhe.fasta, output:/tmp/sepp/output.agkzq6va/root/P_12/pplacer.extended.2.fj23mmhe.jplace\n",
      "[14:58:18] jobs.py (line 131):     INFO: Finished pplacer Job with input: backbone_alignment_file:/tmp/sepp/output.agkzq6va/root/P_12/pplacer.backbone.rqxaca1x.fasta, tree_file:/tmp/sepp/output.agkzq6va/root/P_12/pplacer.tree.4sbcjxoa.tre, info_file:/home/lauro/anaconda3/envs/qiime2-2021.11/lib/python3.8/site-packages/picrust2/default_files/prokaryotic/pro_ref/pro_ref.raxml_info, extended alignment:/tmp/sepp/output.agkzq6va/root/P_12/pplacer.extended.1.6yxzkgem.fasta, output:/tmp/sepp/output.agkzq6va/root/P_12/pplacer.extended.1.6yxzkgem.jplace\n",
      "[14:58:43] jobs.py (line 131):     INFO: Finished pplacer Job with input: backbone_alignment_file:/tmp/sepp/output.agkzq6va/root/P_11/pplacer.backbone.cdzvjm1_.fasta, tree_file:/tmp/sepp/output.agkzq6va/root/P_11/pplacer.tree.cz0gzjo_.tre, info_file:/home/lauro/anaconda3/envs/qiime2-2021.11/lib/python3.8/site-packages/picrust2/default_files/prokaryotic/pro_ref/pro_ref.raxml_info, extended alignment:/tmp/sepp/output.agkzq6va/root/P_11/pplacer.extended.1.5qlntlrd.fasta, output:/tmp/sepp/output.agkzq6va/root/P_11/pplacer.extended.1.5qlntlrd.jplace\n",
      "[14:58:44] jobs.py (line 131):     INFO: Finished pplacer Job with input: backbone_alignment_file:/tmp/sepp/output.agkzq6va/root/P_11/pplacer.backbone.toyx05eb.fasta, tree_file:/tmp/sepp/output.agkzq6va/root/P_11/pplacer.tree.21l8hyt7.tre, info_file:/home/lauro/anaconda3/envs/qiime2-2021.11/lib/python3.8/site-packages/picrust2/default_files/prokaryotic/pro_ref/pro_ref.raxml_info, extended alignment:/tmp/sepp/output.agkzq6va/root/P_11/pplacer.extended.2.6u9y0sm8.fasta, output:/tmp/sepp/output.agkzq6va/root/P_11/pplacer.extended.2.6u9y0sm8.jplace\n",
      "[14:58:44] jobs.py (line 131):     INFO: Finished pplacer Job with input: backbone_alignment_file:/tmp/sepp/output.agkzq6va/root/P_11/pplacer.backbone.8atrtgs1.fasta, tree_file:/tmp/sepp/output.agkzq6va/root/P_11/pplacer.tree.ueuedzs8.tre, info_file:/home/lauro/anaconda3/envs/qiime2-2021.11/lib/python3.8/site-packages/picrust2/default_files/prokaryotic/pro_ref/pro_ref.raxml_info, extended alignment:/tmp/sepp/output.agkzq6va/root/P_11/pplacer.extended.0.vjhaniqk.fasta, output:/tmp/sepp/output.agkzq6va/root/P_11/pplacer.extended.0.vjhaniqk.jplace\n",
      "[14:58:54] jobs.py (line 131):     INFO: Finished jsonmerger Job with input: input:pipe output:/tmp/tmpcmz_6ly4/picrust2_out/intermediate/place_seqs/sepp_out/output_placement.json\n",
      "[14:58:54] algorithm.py (line 195):     INFO: Current execution Finished in 141 seconds\n",
      "[14:58:54] algorithm.py (line 197):     INFO: All checkpointed executions Finished in 141 cumulative time\n",
      "\n",
      "gappa examine graft --jplace-path /tmp/tmpcmz_6ly4/picrust2_out/intermediate/place_seqs/sepp_out/output_placement.json --fully-resolve --out-dir /tmp/tmpcmz_6ly4/picrust2_out/intermediate/place_seqs/sepp_out\n",
      "\n",
      "mv /tmp/tmpcmz_6ly4/picrust2_out/intermediate/place_seqs/sepp_out/output_placement.newick /tmp/tmpcmz_6ly4/picrust2_out/out.tre\n",
      "\n",
      "Finished placing sequences on output tree: /tmp/tmpcmz_6ly4/picrust2_out/out.tre\n",
      "hsp.py --tree /tmp/tmpcmz_6ly4/picrust2_out/out.tre --output /tmp/tmpcmz_6ly4/picrust2_out/marker_predicted_and_nsti.tsv.gz --observed_trait_table /home/lauro/anaconda3/envs/qiime2-2021.11/lib/python3.8/site-packages/picrust2/default_files/prokaryotic/16S.txt.gz --hsp_method pic --edge_exponent 0.5 --seed 100 --calculate_NSTI --processes 1 --verbose\n"
     ]
    },
    {
     "name": "stdout",
     "output_type": "stream",
     "text": [
      "\n",
      "\n",
      "\n"
     ]
    },
    {
     "name": "stderr",
     "output_type": "stream",
     "text": [
      "Rscript /home/lauro/anaconda3/envs/qiime2-2021.11/lib/python3.8/site-packages/picrust2/Rscripts/castor_nsti.R /tmp/tmpcmz_6ly4/picrust2_out/out.tre /tmp/tmp8uiovvse/known_tips.txt /tmp/tmp8uiovvse/nsti_out.txt\n",
      "\n",
      "Rscript /home/lauro/anaconda3/envs/qiime2-2021.11/lib/python3.8/site-packages/picrust2/Rscripts/castor_hsp.R /tmp/tmpcmz_6ly4/picrust2_out/out.tre /tmp/tmpnqcps9l_/subset_tab_0 pic 0.5 FALSE FALSE /tmp/tmpm_c0449y/predicted_counts.txt /tmp/tmpm_c0449y/predicted_ci.txt 100\n",
      "\n",
      "\n",
      "hsp.py --tree /tmp/tmpcmz_6ly4/picrust2_out/out.tre --output /tmp/tmpcmz_6ly4/picrust2_out/EC_predicted.tsv.gz --observed_trait_table /home/lauro/anaconda3/envs/qiime2-2021.11/lib/python3.8/site-packages/picrust2/default_files/prokaryotic/ec.txt.gz --hsp_method pic --edge_exponent 0.5 --seed 100 --processes 6 --verbose\n"
     ]
    },
    {
     "name": "stdout",
     "output_type": "stream",
     "text": [
      "\n",
      "\n",
      "\n",
      "\n",
      "\n",
      "\n",
      "\n"
     ]
    },
    {
     "name": "stderr",
     "output_type": "stream",
     "text": [
      "Rscript /home/lauro/anaconda3/envs/qiime2-2021.11/lib/python3.8/site-packages/picrust2/Rscripts/castor_hsp.R /tmp/tmpcmz_6ly4/picrust2_out/out.tre /tmp/tmpo8uxsx4q/subset_tab_5 pic 0.5 FALSE FALSE /tmp/tmp04uerduc/predicted_counts.txt /tmp/tmp04uerduc/predicted_ci.txt 100\n",
      "\n",
      "Rscript /home/lauro/anaconda3/envs/qiime2-2021.11/lib/python3.8/site-packages/picrust2/Rscripts/castor_hsp.R /tmp/tmpcmz_6ly4/picrust2_out/out.tre /tmp/tmpo8uxsx4q/subset_tab_1 pic 0.5 FALSE FALSE /tmp/tmp6860zzqk/predicted_counts.txt /tmp/tmp6860zzqk/predicted_ci.txt 100\n",
      "\n",
      "Rscript /home/lauro/anaconda3/envs/qiime2-2021.11/lib/python3.8/site-packages/picrust2/Rscripts/castor_hsp.R /tmp/tmpcmz_6ly4/picrust2_out/out.tre /tmp/tmpo8uxsx4q/subset_tab_0 pic 0.5 FALSE FALSE /tmp/tmpk68iqbze/predicted_counts.txt /tmp/tmpk68iqbze/predicted_ci.txt 100\n",
      "\n",
      "Rscript /home/lauro/anaconda3/envs/qiime2-2021.11/lib/python3.8/site-packages/picrust2/Rscripts/castor_hsp.R /tmp/tmpcmz_6ly4/picrust2_out/out.tre /tmp/tmpo8uxsx4q/subset_tab_4 pic 0.5 FALSE FALSE /tmp/tmptcaqib91/predicted_counts.txt /tmp/tmptcaqib91/predicted_ci.txt 100\n",
      "\n",
      "Rscript /home/lauro/anaconda3/envs/qiime2-2021.11/lib/python3.8/site-packages/picrust2/Rscripts/castor_hsp.R /tmp/tmpcmz_6ly4/picrust2_out/out.tre /tmp/tmpo8uxsx4q/subset_tab_2 pic 0.5 FALSE FALSE /tmp/tmpjpw4njyn/predicted_counts.txt /tmp/tmpjpw4njyn/predicted_ci.txt 100\n",
      "\n",
      "Rscript /home/lauro/anaconda3/envs/qiime2-2021.11/lib/python3.8/site-packages/picrust2/Rscripts/castor_hsp.R /tmp/tmpcmz_6ly4/picrust2_out/out.tre /tmp/tmpo8uxsx4q/subset_tab_3 pic 0.5 FALSE FALSE /tmp/tmphne43ts0/predicted_counts.txt /tmp/tmphne43ts0/predicted_ci.txt 100\n",
      "\n",
      "\n",
      "hsp.py --tree /tmp/tmpcmz_6ly4/picrust2_out/out.tre --output /tmp/tmpcmz_6ly4/picrust2_out/KO_predicted.tsv.gz --observed_trait_table /home/lauro/anaconda3/envs/qiime2-2021.11/lib/python3.8/site-packages/picrust2/default_files/prokaryotic/ko.txt.gz --hsp_method pic --edge_exponent 0.5 --seed 100 --processes 6 --verbose\n"
     ]
    },
    {
     "name": "stdout",
     "output_type": "stream",
     "text": [
      "\n",
      "\n",
      "\n",
      "\n",
      "\n",
      "\n",
      "\n",
      "\n",
      "\n",
      "\n",
      "\n",
      "\n",
      "\n",
      "\n",
      "\n",
      "\n",
      "\n",
      "\n",
      "\n",
      "\n",
      "\n",
      "\n",
      "\n"
     ]
    },
    {
     "name": "stderr",
     "output_type": "stream",
     "text": [
      "Rscript /home/lauro/anaconda3/envs/qiime2-2021.11/lib/python3.8/site-packages/picrust2/Rscripts/castor_hsp.R /tmp/tmpcmz_6ly4/picrust2_out/out.tre /tmp/tmp2zunw5yf/subset_tab_4 pic 0.5 FALSE FALSE /tmp/tmpkyiism4j/predicted_counts.txt /tmp/tmpkyiism4j/predicted_ci.txt 100\n",
      "\n",
      "Rscript /home/lauro/anaconda3/envs/qiime2-2021.11/lib/python3.8/site-packages/picrust2/Rscripts/castor_hsp.R /tmp/tmpcmz_6ly4/picrust2_out/out.tre /tmp/tmp2zunw5yf/subset_tab_9 pic 0.5 FALSE FALSE /tmp/tmpa60qli6e/predicted_counts.txt /tmp/tmpa60qli6e/predicted_ci.txt 100\n",
      "\n",
      "Rscript /home/lauro/anaconda3/envs/qiime2-2021.11/lib/python3.8/site-packages/picrust2/Rscripts/castor_hsp.R /tmp/tmpcmz_6ly4/picrust2_out/out.tre /tmp/tmp2zunw5yf/subset_tab_14 pic 0.5 FALSE FALSE /tmp/tmpem2e_r2t/predicted_counts.txt /tmp/tmpem2e_r2t/predicted_ci.txt 100\n",
      "\n",
      "Rscript /home/lauro/anaconda3/envs/qiime2-2021.11/lib/python3.8/site-packages/picrust2/Rscripts/castor_hsp.R /tmp/tmpcmz_6ly4/picrust2_out/out.tre /tmp/tmp2zunw5yf/subset_tab_5 pic 0.5 FALSE FALSE /tmp/tmpvzcqs9s8/predicted_counts.txt /tmp/tmpvzcqs9s8/predicted_ci.txt 100\n",
      "\n",
      "Rscript /home/lauro/anaconda3/envs/qiime2-2021.11/lib/python3.8/site-packages/picrust2/Rscripts/castor_hsp.R /tmp/tmpcmz_6ly4/picrust2_out/out.tre /tmp/tmp2zunw5yf/subset_tab_6 pic 0.5 FALSE FALSE /tmp/tmp17suz_of/predicted_counts.txt /tmp/tmp17suz_of/predicted_ci.txt 100\n",
      "\n",
      "Rscript /home/lauro/anaconda3/envs/qiime2-2021.11/lib/python3.8/site-packages/picrust2/Rscripts/castor_hsp.R /tmp/tmpcmz_6ly4/picrust2_out/out.tre /tmp/tmp2zunw5yf/subset_tab_13 pic 0.5 FALSE FALSE /tmp/tmput76rpao/predicted_counts.txt /tmp/tmput76rpao/predicted_ci.txt 100\n",
      "\n",
      "Rscript /home/lauro/anaconda3/envs/qiime2-2021.11/lib/python3.8/site-packages/picrust2/Rscripts/castor_hsp.R /tmp/tmpcmz_6ly4/picrust2_out/out.tre /tmp/tmp2zunw5yf/subset_tab_19 pic 0.5 FALSE FALSE /tmp/tmpuf9g0u0l/predicted_counts.txt /tmp/tmpuf9g0u0l/predicted_ci.txt 100\n",
      "\n",
      "Rscript /home/lauro/anaconda3/envs/qiime2-2021.11/lib/python3.8/site-packages/picrust2/Rscripts/castor_hsp.R /tmp/tmpcmz_6ly4/picrust2_out/out.tre /tmp/tmp2zunw5yf/subset_tab_0 pic 0.5 FALSE FALSE /tmp/tmpn9jdumi5/predicted_counts.txt /tmp/tmpn9jdumi5/predicted_ci.txt 100\n",
      "\n",
      "Rscript /home/lauro/anaconda3/envs/qiime2-2021.11/lib/python3.8/site-packages/picrust2/Rscripts/castor_hsp.R /tmp/tmpcmz_6ly4/picrust2_out/out.tre /tmp/tmp2zunw5yf/subset_tab_8 pic 0.5 FALSE FALSE /tmp/tmps4p84gq4/predicted_counts.txt /tmp/tmps4p84gq4/predicted_ci.txt 100\n",
      "\n",
      "Rscript /home/lauro/anaconda3/envs/qiime2-2021.11/lib/python3.8/site-packages/picrust2/Rscripts/castor_hsp.R /tmp/tmpcmz_6ly4/picrust2_out/out.tre /tmp/tmp2zunw5yf/subset_tab_15 pic 0.5 FALSE FALSE /tmp/tmpydxd8m6_/predicted_counts.txt /tmp/tmpydxd8m6_/predicted_ci.txt 100\n",
      "\n",
      "Rscript /home/lauro/anaconda3/envs/qiime2-2021.11/lib/python3.8/site-packages/picrust2/Rscripts/castor_hsp.R /tmp/tmpcmz_6ly4/picrust2_out/out.tre /tmp/tmp2zunw5yf/subset_tab_21 pic 0.5 FALSE FALSE /tmp/tmpgsu8lue_/predicted_counts.txt /tmp/tmpgsu8lue_/predicted_ci.txt 100\n",
      "\n",
      "Rscript /home/lauro/anaconda3/envs/qiime2-2021.11/lib/python3.8/site-packages/picrust2/Rscripts/castor_hsp.R /tmp/tmpcmz_6ly4/picrust2_out/out.tre /tmp/tmp2zunw5yf/subset_tab_1 pic 0.5 FALSE FALSE /tmp/tmpxbesqgmt/predicted_counts.txt /tmp/tmpxbesqgmt/predicted_ci.txt 100\n",
      "\n",
      "Rscript /home/lauro/anaconda3/envs/qiime2-2021.11/lib/python3.8/site-packages/picrust2/Rscripts/castor_hsp.R /tmp/tmpcmz_6ly4/picrust2_out/out.tre /tmp/tmp2zunw5yf/subset_tab_10 pic 0.5 FALSE FALSE /tmp/tmpmqrgffqu/predicted_counts.txt /tmp/tmpmqrgffqu/predicted_ci.txt 100\n",
      "\n",
      "Rscript /home/lauro/anaconda3/envs/qiime2-2021.11/lib/python3.8/site-packages/picrust2/Rscripts/castor_hsp.R /tmp/tmpcmz_6ly4/picrust2_out/out.tre /tmp/tmp2zunw5yf/subset_tab_17 pic 0.5 FALSE FALSE /tmp/tmphqtberc3/predicted_counts.txt /tmp/tmphqtberc3/predicted_ci.txt 100\n",
      "\n",
      "Rscript /home/lauro/anaconda3/envs/qiime2-2021.11/lib/python3.8/site-packages/picrust2/Rscripts/castor_hsp.R /tmp/tmpcmz_6ly4/picrust2_out/out.tre /tmp/tmp2zunw5yf/subset_tab_3 pic 0.5 FALSE FALSE /tmp/tmpxsnjar85/predicted_counts.txt /tmp/tmpxsnjar85/predicted_ci.txt 100\n",
      "\n",
      "Rscript /home/lauro/anaconda3/envs/qiime2-2021.11/lib/python3.8/site-packages/picrust2/Rscripts/castor_hsp.R /tmp/tmpcmz_6ly4/picrust2_out/out.tre /tmp/tmp2zunw5yf/subset_tab_11 pic 0.5 FALSE FALSE /tmp/tmp9i4x7yyr/predicted_counts.txt /tmp/tmp9i4x7yyr/predicted_ci.txt 100\n",
      "\n",
      "Rscript /home/lauro/anaconda3/envs/qiime2-2021.11/lib/python3.8/site-packages/picrust2/Rscripts/castor_hsp.R /tmp/tmpcmz_6ly4/picrust2_out/out.tre /tmp/tmp2zunw5yf/subset_tab_18 pic 0.5 FALSE FALSE /tmp/tmpg9wz51du/predicted_counts.txt /tmp/tmpg9wz51du/predicted_ci.txt 100\n",
      "\n",
      "Rscript /home/lauro/anaconda3/envs/qiime2-2021.11/lib/python3.8/site-packages/picrust2/Rscripts/castor_hsp.R /tmp/tmpcmz_6ly4/picrust2_out/out.tre /tmp/tmp2zunw5yf/subset_tab_2 pic 0.5 FALSE FALSE /tmp/tmph02b4c_j/predicted_counts.txt /tmp/tmph02b4c_j/predicted_ci.txt 100\n",
      "\n",
      "Rscript /home/lauro/anaconda3/envs/qiime2-2021.11/lib/python3.8/site-packages/picrust2/Rscripts/castor_hsp.R /tmp/tmpcmz_6ly4/picrust2_out/out.tre /tmp/tmp2zunw5yf/subset_tab_7 pic 0.5 FALSE FALSE /tmp/tmpt37lvckt/predicted_counts.txt /tmp/tmpt37lvckt/predicted_ci.txt 100\n",
      "\n",
      "Rscript /home/lauro/anaconda3/envs/qiime2-2021.11/lib/python3.8/site-packages/picrust2/Rscripts/castor_hsp.R /tmp/tmpcmz_6ly4/picrust2_out/out.tre /tmp/tmp2zunw5yf/subset_tab_12 pic 0.5 FALSE FALSE /tmp/tmprqa_mv3w/predicted_counts.txt /tmp/tmprqa_mv3w/predicted_ci.txt 100\n",
      "\n",
      "Rscript /home/lauro/anaconda3/envs/qiime2-2021.11/lib/python3.8/site-packages/picrust2/Rscripts/castor_hsp.R /tmp/tmpcmz_6ly4/picrust2_out/out.tre /tmp/tmp2zunw5yf/subset_tab_16 pic 0.5 FALSE FALSE /tmp/tmp91daryeg/predicted_counts.txt /tmp/tmp91daryeg/predicted_ci.txt 100\n",
      "\n",
      "Rscript /home/lauro/anaconda3/envs/qiime2-2021.11/lib/python3.8/site-packages/picrust2/Rscripts/castor_hsp.R /tmp/tmpcmz_6ly4/picrust2_out/out.tre /tmp/tmp2zunw5yf/subset_tab_20 pic 0.5 FALSE FALSE /tmp/tmp65_kuhj_/predicted_counts.txt /tmp/tmp65_kuhj_/predicted_ci.txt 100\n",
      "\n",
      "\n",
      "Running metagenome pipeline for EC\n",
      "metagenome_pipeline.py --input /tmp/tmpcmz_6ly4/intable.biom --function /tmp/tmpcmz_6ly4/picrust2_out/EC_predicted.tsv.gz --min_reads 1 --min_samples 1 --out_dir /tmp/tmpcmz_6ly4/picrust2_out/EC_metagenome_out --max_nsti 2 --marker /tmp/tmpcmz_6ly4/picrust2_out/marker_predicted_and_nsti.tsv.gz\n"
     ]
    },
    {
     "name": "stdout",
     "output_type": "stream",
     "text": [
      "\n"
     ]
    },
    {
     "name": "stderr",
     "output_type": "stream",
     "text": [
      "1 of 969 ASVs were above the max NSTI cut-off of 2.0 and were removed from the downstream analyses.\n",
      "\n",
      "Running metagenome pipeline for KO\n",
      "metagenome_pipeline.py --input /tmp/tmpcmz_6ly4/intable.biom --function /tmp/tmpcmz_6ly4/picrust2_out/KO_predicted.tsv.gz --min_reads 1 --min_samples 1 --out_dir /tmp/tmpcmz_6ly4/picrust2_out/KO_metagenome_out --max_nsti 2 --marker /tmp/tmpcmz_6ly4/picrust2_out/marker_predicted_and_nsti.tsv.gz\n"
     ]
    },
    {
     "name": "stdout",
     "output_type": "stream",
     "text": [
      "\n",
      "Inferring pathways from predicted EC\n"
     ]
    },
    {
     "name": "stderr",
     "output_type": "stream",
     "text": [
      "1 of 969 ASVs were above the max NSTI cut-off of 2.0 and were removed from the downstream analyses.\n",
      "\n",
      "pathway_pipeline.py --input /tmp/tmpcmz_6ly4/picrust2_out/EC_metagenome_out/pred_metagenome_unstrat.tsv.gz --out_dir /tmp/tmpcmz_6ly4/picrust2_out/pathways_out --map /home/lauro/anaconda3/envs/qiime2-2021.11/lib/python3.8/site-packages/picrust2/default_files/pathway_mapfiles/metacyc_path2rxn_struc_filt_pro.txt --intermediate /tmp/tmpcmz_6ly4/picrust2_out/intermediate/pathways --proc 6 --regroup_map /home/lauro/anaconda3/envs/qiime2-2021.11/lib/python3.8/site-packages/picrust2/default_files/pathway_mapfiles/ec_level4_to_metacyc_rxn.tsv --verbose\n"
     ]
    },
    {
     "name": "stderr",
     "output_type": "stream",
     "text": [
      "\n",
      "Wrote predicted pathway abundances and coverages to /tmp/tmpcmz_6ly4/picrust2_out/pathways_out\n"
     ]
    }
   ],
   "source": [
    "need_pipeline = replace_files\n",
    "need_pipeline |= not (os.path.isfile(ec_path) and os.path.isfile(ko_path) and os.path.isfile(pathway_path))\n",
    "if need_pipeline:\n",
    "    results = picrust2.methods.full_pipeline(\n",
    "        table=tabs, \n",
    "        seq=seqs, \n",
    "        threads=6, \n",
    "        placement_tool='sepp',\n",
    "        hsp_method='pic', \n",
    "        max_nsti=2,\n",
    "        highly_verbose=True\n",
    "    )\n",
    "    ec_metagenome = results.ec_metagenome\n",
    "    ko_metagenome = results.ko_metagenome\n",
    "    pathway_abundance = results.pathway_abundance\n",
    "else:\n",
    "    ec_metagenome = Artifact.load(ec_path)\n",
    "    ko_metagenome = Artifact.load(ko_path)\n",
    "    pathway_abundance = Artifact.load(pathway_path)"
   ]
  },
  {
   "cell_type": "markdown",
   "id": "771308c4",
   "metadata": {
    "papermill": {
     "duration": 0.039288,
     "end_time": "2023-06-07T15:02:50.627389",
     "exception": false,
     "start_time": "2023-06-07T15:02:50.588101",
     "status": "completed"
    },
    "tags": []
   },
   "source": [
    "### Persist created artifacts\n",
    "\n",
    "We will define file paths and persist all artifacts. We start with `.qza` files. We will save the visualization files in sequence as `qzv` files. Finally, we save a `biom`-like file as `tsv` with brief descriptions of all functions."
   ]
  },
  {
   "cell_type": "code",
   "execution_count": 9,
   "id": "c680ab46",
   "metadata": {
    "ExecuteTime": {
     "end_time": "2022-11-09T19:20:47.646444Z",
     "start_time": "2022-11-09T19:20:47.643806Z"
    },
    "execution": {
     "iopub.execute_input": "2023-06-07T15:02:50.712819Z",
     "iopub.status.busy": "2023-06-07T15:02:50.711998Z",
     "iopub.status.idle": "2023-06-07T15:02:50.813355Z",
     "shell.execute_reply": "2023-06-07T15:02:50.813777Z"
    },
    "papermill": {
     "duration": 0.147461,
     "end_time": "2023-06-07T15:02:50.813918",
     "exception": false,
     "start_time": "2023-06-07T15:02:50.666457",
     "status": "completed"
    },
    "tags": []
   },
   "outputs": [],
   "source": [
    "if need_pipeline:\n",
    "    # Export artifact folder\n",
    "    ec_metagenome.export_data(output_dir=ec_path.split('.')[0])\n",
    "    ko_metagenome.export_data(output_dir=ko_path.split('.')[0])\n",
    "    pathway_abundance.export_data(output_dir=pathway_path.split('.')[0])\n",
    "    \n",
    "    # Save artifacts as .qza files\n",
    "    ec_metagenome.save(ec_path)\n",
    "    ko_metagenome.save(ko_path)\n",
    "    pathway_abundance.save(pathway_path)"
   ]
  },
  {
   "cell_type": "code",
   "execution_count": 10,
   "id": "d61ebec3",
   "metadata": {
    "ExecuteTime": {
     "end_time": "2022-11-09T19:20:47.687022Z",
     "start_time": "2022-11-09T19:20:47.647637Z"
    },
    "execution": {
     "iopub.execute_input": "2023-06-07T15:02:50.904593Z",
     "iopub.status.busy": "2023-06-07T15:02:50.903780Z",
     "iopub.status.idle": "2023-06-07T15:02:55.286628Z",
     "shell.execute_reply": "2023-06-07T15:02:55.286995Z"
    },
    "papermill": {
     "duration": 4.428546,
     "end_time": "2023-06-07T15:02:55.287125",
     "exception": false,
     "start_time": "2023-06-07T15:02:50.858579",
     "status": "completed"
    },
    "tags": []
   },
   "outputs": [],
   "source": [
    "need_viz = replace_files\n",
    "need_viz |= not (os.path.isfile(ec_viz_path) and os.path.isfile(ko_viz_path) and os.path.isfile(pathway_viz_path))\n",
    "if need_viz:\n",
    "    # Create visualization artifacts\n",
    "    ec_viz = summarize(table=ec_metagenome, sample_metadata=metadata_qa).visualization\n",
    "    ko_viz = summarize(table=ko_metagenome, sample_metadata=metadata_qa).visualization\n",
    "    path_viz = summarize(table=pathway_abundance, sample_metadata=metadata_qa).visualization\n",
    "\n",
    "    # Save visualization artifacts as .qzv files\n",
    "    ec_viz.save(ec_viz_path)\n",
    "    ko_viz.save(ko_viz_path)\n",
    "    path_viz.save(pathway_viz_path)"
   ]
  },
  {
   "cell_type": "code",
   "execution_count": 11,
   "id": "57f1f4d8",
   "metadata": {
    "ExecuteTime": {
     "end_time": "2022-11-09T19:20:47.704885Z",
     "start_time": "2022-11-09T19:20:47.689312Z"
    },
    "execution": {
     "iopub.execute_input": "2023-06-07T15:02:55.364639Z",
     "iopub.status.busy": "2023-06-07T15:02:55.363926Z",
     "iopub.status.idle": "2023-06-07T15:02:58.163157Z",
     "shell.execute_reply": "2023-06-07T15:02:58.164071Z"
    },
    "papermill": {
     "duration": 2.842662,
     "end_time": "2023-06-07T15:02:58.164359",
     "exception": false,
     "start_time": "2023-06-07T15:02:55.321697",
     "status": "completed"
    },
    "tags": []
   },
   "outputs": [],
   "source": [
    "need_biom = replace_files\n",
    "need_biom |= not (os.path.isfile(ec_fpath) and os.path.isfile(ko_fpath) and os.path.isfile(pathway_fpath))\n",
    "if need_biom:\n",
    "    # Convert artifact to dataframe - transposed\n",
    "    df_pathway = pathway_abundance.view(pd.DataFrame).T\n",
    "    df_ec = ec_metagenome.view(pd.DataFrame).T\n",
    "    df_ko = ko_metagenome.view(pd.DataFrame).T\n",
    "\n",
    "    # Write dataframe to a tsv file\n",
    "    df_pathway.to_csv(pathway_fpath, sep='\\t', index=True)\n",
    "    df_ec.to_csv(ec_fpath, sep='\\t', index=True)\n",
    "    df_ko.to_csv(ko_fpath, sep='\\t', index=True)\n",
    "    \n",
    "    # Put a new column with descriptions of each function's ID\n",
    "    !add_descriptions.py -i {ec_fpath} -m EC -o {ec_desc_fpath}\n",
    "    !add_descriptions.py -i {ko_fpath} -m KO -o {ko_desc_fpath}\n",
    "    !add_descriptions.py -i {pathway_fpath} -m METACYC -o {pathway_desc_fpath}"
   ]
  }
 ],
 "metadata": {
  "celltoolbar": "Edit Metadata",
  "kernelspec": {
   "display_name": "Python 3 (ipykernel)",
   "language": "python",
   "name": "python3"
  },
  "language_info": {
   "codemirror_mode": {
    "name": "ipython",
    "version": 3
   },
   "file_extension": ".py",
   "mimetype": "text/x-python",
   "name": "python",
   "nbconvert_exporter": "python",
   "pygments_lexer": "ipython3",
   "version": "3.8.12"
  },
  "papermill": {
   "default_parameters": {},
   "duration": 435.849569,
   "end_time": "2023-06-07T15:02:59.224555",
   "environment_variables": {},
   "exception": null,
   "input_path": "nb-templates/step-picrust2-analysis.ipynb",
   "output_path": "/home/lauro/nupeb/rede-micro/redemicro-ana-flavia-nutri/experiments/ana-flavia-NRxSTD-NR-trim/nb-executed-steps/step-picrust2-analysis-ana-flavia-NRxSTD-NR-trim.ipynb",
   "parameters": {
    "base_dir": "/home/lauro/nupeb/rede-micro/redemicro-ana-flavia-nutri",
    "class_col": "group-id",
    "classifier_file": "/home/lauro/nupeb/rede-micro/models/silva-138-99-nb-classifier.qza",
    "experiment_name": "ana-flavia-NRxSTD-NR-trim",
    "manifest_file": "/home/lauro/nupeb/rede-micro/redemicro-ana-flavia-nutri/data/raw/manifest/manifest-ana-flavia-NRxSTD-NR.csv",
    "metadata_file": "/home/lauro/nupeb/rede-micro/redemicro-ana-flavia-nutri/data/raw/metadata/metadata-ana-flavia-NRxSTD-NR.tsv",
    "overlap": 12,
    "phred": 20,
    "replace_files": false,
    "threads": 6,
    "top_n": 20,
    "trim": {
     "forward_primer": "CCTACGGGRSGCAGCAG",
     "overlap": 8,
     "reverse_primer": "GGACTACHVGGGTWTCTAAT"
    },
    "trunc_f": 0,
    "trunc_r": 0
   },
   "start_time": "2023-06-07T14:55:43.374986",
   "version": "2.3.4"
  }
 },
 "nbformat": 4,
 "nbformat_minor": 5
}