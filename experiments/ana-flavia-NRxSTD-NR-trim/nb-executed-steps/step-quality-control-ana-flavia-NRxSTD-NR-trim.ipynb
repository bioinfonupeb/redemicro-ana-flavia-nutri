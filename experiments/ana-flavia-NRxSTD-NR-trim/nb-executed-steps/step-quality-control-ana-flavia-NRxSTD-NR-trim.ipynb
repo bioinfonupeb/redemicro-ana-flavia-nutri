{
 "cells": [
  {
   "cell_type": "markdown",
   "id": "3e23bc87",
   "metadata": {
    "papermill": {
     "duration": 0.025527,
     "end_time": "2023-06-07T12:42:03.226279",
     "exception": false,
     "start_time": "2023-06-07T12:42:03.200752",
     "status": "completed"
    },
    "tags": []
   },
   "source": [
    "# Quality Control and ASV table construction with DADA2"
   ]
  },
  {
   "cell_type": "markdown",
   "id": "8846fb73",
   "metadata": {
    "papermill": {
     "duration": 0.032006,
     "end_time": "2023-06-07T12:42:03.274925",
     "exception": false,
     "start_time": "2023-06-07T12:42:03.242919",
     "status": "completed"
    },
    "tags": []
   },
   "source": [
    "## Setup and settings"
   ]
  },
  {
   "cell_type": "code",
   "execution_count": 1,
   "id": "3f58e435",
   "metadata": {
    "ExecuteTime": {
     "end_time": "2022-06-29T18:49:49.974644Z",
     "start_time": "2022-06-29T18:49:30.876897Z"
    },
    "execution": {
     "iopub.execute_input": "2023-06-07T12:42:03.307740Z",
     "iopub.status.busy": "2023-06-07T12:42:03.306912Z",
     "iopub.status.idle": "2023-06-07T12:42:09.924091Z",
     "shell.execute_reply": "2023-06-07T12:42:09.923458Z"
    },
    "papermill": {
     "duration": 6.636857,
     "end_time": "2023-06-07T12:42:09.927271",
     "exception": false,
     "start_time": "2023-06-07T12:42:03.290414",
     "status": "completed"
    },
    "tags": []
   },
   "outputs": [],
   "source": [
    "# Importing packages\n",
    "import os\n",
    "import yaml\n",
    "import logging\n",
    "import pandas as pd\n",
    "from qiime2 import Artifact\n",
    "from qiime2 import Visualization\n",
    "from qiime2 import Metadata\n",
    "import qiime2.plugins.dada2.actions as dada2_actions\n",
    "import qiime2.plugins.metadata.actions as metadata_actions\n",
    "from qiime2.plugins.feature_table.visualizers import tabulate_seqs\n",
    "from qiime2.plugins.feature_table.visualizers import summarize\n",
    "from qiime2.plugins.feature_table.visualizers import core_features\n",
    "from qiime2.plugins.feature_table.methods import filter_samples\n",
    "from qiime2.plugins.feature_table.methods import filter_seqs\n",
    "\n",
    "import matplotlib.pyplot as plt\n",
    "\n",
    "%matplotlib inline"
   ]
  },
  {
   "cell_type": "markdown",
   "id": "675ec53e",
   "metadata": {
    "papermill": {
     "duration": 0.087113,
     "end_time": "2023-06-07T12:42:10.036698",
     "exception": false,
     "start_time": "2023-06-07T12:42:09.949585",
     "status": "completed"
    },
    "tags": []
   },
   "source": [
    "### Receiving the parameters\n",
    "\n",
    "The following cell can receive parameters using the [papermill](https://papermill.readthedocs.io/en/latest/) tool."
   ]
  },
  {
   "cell_type": "code",
   "execution_count": 2,
   "id": "ca1f6c28",
   "metadata": {
    "ExecuteTime": {
     "end_time": "2022-06-29T18:54:01.035034Z",
     "start_time": "2022-06-29T18:54:01.028724Z"
    },
    "execution": {
     "iopub.execute_input": "2023-06-07T12:42:10.094690Z",
     "iopub.status.busy": "2023-06-07T12:42:10.094311Z",
     "iopub.status.idle": "2023-06-07T12:42:10.101636Z",
     "shell.execute_reply": "2023-06-07T12:42:10.100972Z"
    },
    "papermill": {
     "duration": 0.025215,
     "end_time": "2023-06-07T12:42:10.103085",
     "exception": false,
     "start_time": "2023-06-07T12:42:10.077870",
     "status": "completed"
    },
    "tags": [
     "parameters"
    ]
   },
   "outputs": [],
   "source": [
    "experiment_name = 'ana-flavia-superlactacao'\n",
    "base_dir = os.path.join('/', 'home', 'lauro', 'nupeb', 'redemicro')\n",
    "metadata_file = os.path.join(base_dir, 'data', 'raw', 'metadata', 'sample-metadata.tsv')\n",
    "manifest_file = os.path.join(base_dir, 'data', 'raw', 'manifest', 'sample-manifest.csv')\n",
    "replace_files = False\n",
    "phred = 20\n",
    "trunc_f = 0\n",
    "trunc_r = 0\n",
    "overlap = 12\n",
    "threads = 6\n",
    "trim = None"
   ]
  },
  {
   "cell_type": "code",
   "execution_count": 3,
   "id": "d3a159f7",
   "metadata": {
    "execution": {
     "iopub.execute_input": "2023-06-07T12:42:10.226121Z",
     "iopub.status.busy": "2023-06-07T12:42:10.225420Z",
     "iopub.status.idle": "2023-06-07T12:42:10.233194Z",
     "shell.execute_reply": "2023-06-07T12:42:10.232246Z"
    },
    "papermill": {
     "duration": 0.114008,
     "end_time": "2023-06-07T12:42:10.235095",
     "exception": false,
     "start_time": "2023-06-07T12:42:10.121087",
     "status": "completed"
    },
    "tags": [
     "injected-parameters"
    ]
   },
   "outputs": [],
   "source": [
    "# Parameters\n",
    "experiment_name = \"ana-flavia-NRxSTD-NR-trim\"\n",
    "base_dir = \"/home/lauro/nupeb/rede-micro/redemicro-ana-flavia-nutri\"\n",
    "manifest_file = \"/home/lauro/nupeb/rede-micro/redemicro-ana-flavia-nutri/data/raw/manifest/manifest-ana-flavia-NRxSTD-NR.csv\"\n",
    "metadata_file = \"/home/lauro/nupeb/rede-micro/redemicro-ana-flavia-nutri/data/raw/metadata/metadata-ana-flavia-NRxSTD-NR.tsv\"\n",
    "class_col = \"group-id\"\n",
    "classifier_file = \"/home/lauro/nupeb/rede-micro/models/silva-138-99-nb-classifier.qza\"\n",
    "top_n = 20\n",
    "replace_files = False\n",
    "phred = 20\n",
    "trunc_f = 0\n",
    "trunc_r = 0\n",
    "overlap = 12\n",
    "threads = 6\n",
    "trim = {\n",
    "    \"overlap\": 8,\n",
    "    \"forward_primer\": \"CCTACGGGRSGCAGCAG\",\n",
    "    \"reverse_primer\": \"GGACTACHVGGGTWTCTAAT\",\n",
    "}\n"
   ]
  },
  {
   "cell_type": "code",
   "execution_count": 4,
   "id": "093c416d",
   "metadata": {
    "execution": {
     "iopub.execute_input": "2023-06-07T12:42:10.277337Z",
     "iopub.status.busy": "2023-06-07T12:42:10.276996Z",
     "iopub.status.idle": "2023-06-07T12:42:10.286041Z",
     "shell.execute_reply": "2023-06-07T12:42:10.285105Z"
    },
    "papermill": {
     "duration": 0.03291,
     "end_time": "2023-06-07T12:42:10.287757",
     "exception": false,
     "start_time": "2023-06-07T12:42:10.254847",
     "status": "completed"
    },
    "tags": []
   },
   "outputs": [],
   "source": [
    "# Setting hardcoded parameters for development and debbuging\n",
    "production = True\n",
    "if not production:\n",
    "    params_path = os.path.join('..', 'params', 'ana-flavia-superlactacao.yaml')\n",
    "    with open(params_path, 'r') as stream:\n",
    "        params = yaml.safe_load(stream)\n",
    "        experiment_name = params['experiment_name']\n",
    "        base_dir = params['base_dir']\n",
    "        replace_files = params['replace_files']\n",
    "        experiment_folder = os.path.abspath(os.path.join(os.getcwd(), '..', 'experiments', 'thayane-feces-01'))\n",
    "        img_folder = os.path.abspath(os.path.join(experiment_folder, 'imgs'))\n",
    "        replace_files = False\n",
    "        phred = 20\n",
    "        trunc_f = 0\n",
    "        trunc_r = 0\n",
    "        overlap = 12\n",
    "        threads = 6"
   ]
  },
  {
   "cell_type": "code",
   "execution_count": 5,
   "id": "f8563b28",
   "metadata": {
    "ExecuteTime": {
     "end_time": "2022-06-29T18:51:02.089300Z",
     "start_time": "2022-06-29T18:51:02.084922Z"
    },
    "execution": {
     "iopub.execute_input": "2023-06-07T12:42:10.320505Z",
     "iopub.status.busy": "2023-06-07T12:42:10.320151Z",
     "iopub.status.idle": "2023-06-07T12:42:10.325711Z",
     "shell.execute_reply": "2023-06-07T12:42:10.324811Z"
    },
    "papermill": {
     "duration": 0.023869,
     "end_time": "2023-06-07T12:42:10.328406",
     "exception": false,
     "start_time": "2023-06-07T12:42:10.304537",
     "status": "completed"
    },
    "tags": []
   },
   "outputs": [],
   "source": [
    "experiment_folder = os.path.abspath(os.path.join(base_dir, 'experiments', experiment_name))\n",
    "img_folder = os.path.abspath(os.path.join(experiment_folder, 'imgs'))"
   ]
  },
  {
   "cell_type": "markdown",
   "id": "8c56f7c1",
   "metadata": {
    "papermill": {
     "duration": 0.015636,
     "end_time": "2023-06-07T12:42:10.365349",
     "exception": false,
     "start_time": "2023-06-07T12:42:10.349713",
     "status": "completed"
    },
    "tags": []
   },
   "source": [
    "### Defining names and paths"
   ]
  },
  {
   "cell_type": "code",
   "execution_count": 6,
   "id": "63611102",
   "metadata": {
    "ExecuteTime": {
     "end_time": "2022-05-30T19:57:39.064490Z",
     "start_time": "2022-05-30T19:57:39.007809Z"
    },
    "execution": {
     "iopub.execute_input": "2023-06-07T12:42:10.402079Z",
     "iopub.status.busy": "2023-06-07T12:42:10.401732Z",
     "iopub.status.idle": "2023-06-07T12:42:10.410663Z",
     "shell.execute_reply": "2023-06-07T12:42:10.409779Z"
    },
    "papermill": {
     "duration": 0.031505,
     "end_time": "2023-06-07T12:42:10.412466",
     "exception": false,
     "start_time": "2023-06-07T12:42:10.380961",
     "status": "completed"
    },
    "tags": []
   },
   "outputs": [],
   "source": [
    "qiime_folder = os.path.join(experiment_folder, 'qiime-artifacts')\n",
    "\n",
    "if trim:\n",
    "    demux_file = os.path.join(qiime_folder, 'demux-paired-trim.qza')\n",
    "else:\n",
    "    demux_file = os.path.join(qiime_folder, 'demux-paired.qza')\n",
    "\n",
    "dada2_tabs = os.path.join(qiime_folder, 'dada2-tabs.qza')\n",
    "dada2_reps = os.path.join(qiime_folder, 'dada2-reps.qza')\n",
    "dada2_stat = os.path.join(qiime_folder, 'dada2-stat.qza')\n",
    "\n",
    "\n",
    "dada2_tabs_view = dada2_tabs[:-1] + 'v'\n",
    "dada2_reps_view = dada2_reps[:-1] + 'v'\n",
    "dada2_stat_view = dada2_stat[:-1] + 'v'\n",
    "dada2_core_view = os.path.join(qiime_folder, 'dada2-core.qzv')"
   ]
  },
  {
   "cell_type": "markdown",
   "id": "2b8b3cfd",
   "metadata": {
    "papermill": {
     "duration": 0.033186,
     "end_time": "2023-06-07T12:42:10.463981",
     "exception": false,
     "start_time": "2023-06-07T12:42:10.430795",
     "status": "completed"
    },
    "tags": []
   },
   "source": [
    "## Step execution\n",
    "\n",
    "### Load input files\n",
    "\n",
    "This Step import the QIIME2 `SampleData[PairedEndSequencesWithQuality]` Artifact with all demultiplexed sequences and the `Metadata` file."
   ]
  },
  {
   "cell_type": "code",
   "execution_count": 7,
   "id": "f8c9fee3",
   "metadata": {
    "ExecuteTime": {
     "end_time": "2022-05-30T19:57:39.077380Z",
     "start_time": "2022-05-30T19:57:39.066746Z"
    },
    "execution": {
     "iopub.execute_input": "2023-06-07T12:42:10.513267Z",
     "iopub.status.busy": "2023-06-07T12:42:10.512900Z",
     "iopub.status.idle": "2023-06-07T12:42:10.520526Z",
     "shell.execute_reply": "2023-06-07T12:42:10.519075Z"
    },
    "papermill": {
     "duration": 0.036542,
     "end_time": "2023-06-07T12:42:10.524271",
     "exception": false,
     "start_time": "2023-06-07T12:42:10.487729",
     "status": "completed"
    },
    "tags": []
   },
   "outputs": [],
   "source": [
    "need_dada2 = not (os.path.isfile(dada2_tabs) and os.path.isfile(dada2_reps) and os.path.isfile(dada2_stat)) or replace_files\n",
    "need_view = not (os.path.isfile(dada2_tabs_view) and os.path.isfile(dada2_reps_view) and os.path.isfile(dada2_stat_view)) or replace_files"
   ]
  },
  {
   "cell_type": "code",
   "execution_count": 8,
   "id": "3023ed3d",
   "metadata": {
    "ExecuteTime": {
     "end_time": "2022-05-30T19:57:39.089632Z",
     "start_time": "2022-05-30T19:57:39.079347Z"
    },
    "execution": {
     "iopub.execute_input": "2023-06-07T12:42:10.562983Z",
     "iopub.status.busy": "2023-06-07T12:42:10.562778Z",
     "iopub.status.idle": "2023-06-07T12:42:11.476512Z",
     "shell.execute_reply": "2023-06-07T12:42:11.476008Z"
    },
    "papermill": {
     "duration": 0.934089,
     "end_time": "2023-06-07T12:42:11.479406",
     "exception": false,
     "start_time": "2023-06-07T12:42:10.545317",
     "status": "completed"
    },
    "tags": []
   },
   "outputs": [],
   "source": [
    "if need_dada2:\n",
    "    demux = Artifact.load(demux_file)"
   ]
  },
  {
   "cell_type": "code",
   "execution_count": 9,
   "id": "6d49a1d6",
   "metadata": {
    "ExecuteTime": {
     "end_time": "2022-05-30T19:57:39.145879Z",
     "start_time": "2022-05-30T19:57:39.091983Z"
    },
    "execution": {
     "iopub.execute_input": "2023-06-07T12:42:11.514178Z",
     "iopub.status.busy": "2023-06-07T12:42:11.513926Z",
     "iopub.status.idle": "2023-06-07T12:42:11.528625Z",
     "shell.execute_reply": "2023-06-07T12:42:11.528121Z"
    },
    "papermill": {
     "duration": 0.030646,
     "end_time": "2023-06-07T12:42:11.530698",
     "exception": false,
     "start_time": "2023-06-07T12:42:11.500052",
     "status": "completed"
    },
    "tags": []
   },
   "outputs": [],
   "source": [
    "metadata = Metadata.load(metadata_file)"
   ]
  },
  {
   "cell_type": "code",
   "execution_count": 10,
   "id": "625c1fe3",
   "metadata": {
    "execution": {
     "iopub.execute_input": "2023-06-07T12:42:11.561254Z",
     "iopub.status.busy": "2023-06-07T12:42:11.561050Z",
     "iopub.status.idle": "2023-06-07T12:42:11.568238Z",
     "shell.execute_reply": "2023-06-07T12:42:11.567433Z"
    },
    "papermill": {
     "duration": 0.022668,
     "end_time": "2023-06-07T12:42:11.569710",
     "exception": false,
     "start_time": "2023-06-07T12:42:11.547042",
     "status": "completed"
    },
    "tags": []
   },
   "outputs": [],
   "source": [
    "# Determine if is SingleEnd or PairedEnd\n",
    "manifest_df = pd.read_csv(manifest_file)\n",
    "n_directions = len(manifest_df['direction'].unique())"
   ]
  },
  {
   "cell_type": "markdown",
   "id": "795f5acb",
   "metadata": {
    "papermill": {
     "duration": 0.013434,
     "end_time": "2023-06-07T12:42:11.597085",
     "exception": false,
     "start_time": "2023-06-07T12:42:11.583651",
     "status": "completed"
    },
    "tags": []
   },
   "source": [
    "### Execute DADA2 plugin and create Artifacts\n",
    "\n",
    "The DADA2 plugin perform tha quality control and create the ASV table. It will be produced three Artifacts:\n",
    "\n",
    "- tabs (`FeatureTable[Frequency]`) : \n",
    "    The resulting feature table.\n",
    "- reps (`FeatureData[Sequence]`) :\n",
    "    The resulting feature sequences. Each feature in the feature table will\n",
    "    be represented by exactly one sequence, and these sequences will be the\n",
    "    joined paired-end sequences.\n",
    "- denoising_stats (`SampleData[DADA2Stats]`) : the resulting stats. Shows the number and the proportion of filtered reads in each phase of the plugin execution."
   ]
  },
  {
   "cell_type": "code",
   "execution_count": 11,
   "id": "0441c07e",
   "metadata": {
    "ExecuteTime": {
     "end_time": "2022-05-30T19:57:39.171629Z",
     "start_time": "2022-05-30T19:57:39.147370Z"
    },
    "execution": {
     "iopub.execute_input": "2023-06-07T12:42:11.624291Z",
     "iopub.status.busy": "2023-06-07T12:42:11.624041Z",
     "iopub.status.idle": "2023-06-07T13:13:32.302961Z",
     "shell.execute_reply": "2023-06-07T13:13:32.302426Z"
    },
    "papermill": {
     "duration": 1880.694812,
     "end_time": "2023-06-07T13:13:32.304931",
     "exception": false,
     "start_time": "2023-06-07T12:42:11.610119",
     "status": "completed"
    },
    "scrolled": true,
    "tags": []
   },
   "outputs": [
    {
     "name": "stdout",
     "output_type": "stream",
     "text": [
      "Running external command line application(s). This may print messages to stdout and/or stderr.\n",
      "The command(s) being run are below. These commands cannot be manually re-run as they will depend on temporary files that no longer exist.\n",
      "\n",
      "Command: run_dada_paired.R /tmp/tmp5jvt50i4/forward /tmp/tmp5jvt50i4/reverse /tmp/tmp5jvt50i4/output.tsv.biom /tmp/tmp5jvt50i4/track.tsv /tmp/tmp5jvt50i4/filt_f /tmp/tmp5jvt50i4/filt_r 0 0 0 0 2.0 2.0 20 12 independent consensus 1.0 6 1000000\n",
      "\n"
     ]
    },
    {
     "name": "stdout",
     "output_type": "stream",
     "text": [
      "R version 4.1.2 (2021-11-01) \n"
     ]
    },
    {
     "name": "stderr",
     "output_type": "stream",
     "text": [
      "Loading required package: Rcpp\n"
     ]
    },
    {
     "name": "stdout",
     "output_type": "stream",
     "text": [
      "DADA2: 1.22.0 / Rcpp: 1.0.8.2 / RcppParallel: 5.1.5 \n",
      "1) Filtering "
     ]
    },
    {
     "name": "stdout",
     "output_type": "stream",
     "text": [
      "............\n",
      "2) Learning Error Rates\n"
     ]
    },
    {
     "name": "stdout",
     "output_type": "stream",
     "text": [
      "273655308 total bases in 1155804 reads from 6 samples will be used for learning the error rates.\n"
     ]
    },
    {
     "name": "stdout",
     "output_type": "stream",
     "text": [
      "176575140 total bases in 1155804 reads from 6 samples will be used for learning the error rates.\n"
     ]
    },
    {
     "name": "stdout",
     "output_type": "stream",
     "text": [
      "3) Denoise samples "
     ]
    },
    {
     "name": "stdout",
     "output_type": "stream",
     "text": [
      "."
     ]
    },
    {
     "name": "stdout",
     "output_type": "stream",
     "text": [
      "."
     ]
    },
    {
     "name": "stdout",
     "output_type": "stream",
     "text": [
      "."
     ]
    },
    {
     "name": "stdout",
     "output_type": "stream",
     "text": [
      "."
     ]
    },
    {
     "name": "stdout",
     "output_type": "stream",
     "text": [
      "."
     ]
    },
    {
     "name": "stdout",
     "output_type": "stream",
     "text": [
      "."
     ]
    },
    {
     "name": "stdout",
     "output_type": "stream",
     "text": [
      "."
     ]
    },
    {
     "name": "stdout",
     "output_type": "stream",
     "text": [
      "."
     ]
    },
    {
     "name": "stdout",
     "output_type": "stream",
     "text": [
      "."
     ]
    },
    {
     "name": "stdout",
     "output_type": "stream",
     "text": [
      "."
     ]
    },
    {
     "name": "stdout",
     "output_type": "stream",
     "text": [
      "."
     ]
    },
    {
     "name": "stdout",
     "output_type": "stream",
     "text": [
      ".\n"
     ]
    },
    {
     "name": "stderr",
     "output_type": "stream",
     "text": [
      "Duplicate sequences in merged output.\n"
     ]
    },
    {
     "name": "stdout",
     "output_type": "stream",
     "text": [
      "."
     ]
    },
    {
     "name": "stdout",
     "output_type": "stream",
     "text": [
      "."
     ]
    },
    {
     "name": "stderr",
     "output_type": "stream",
     "text": [
      "Duplicate sequences in merged output.\n"
     ]
    },
    {
     "name": "stdout",
     "output_type": "stream",
     "text": [
      "."
     ]
    },
    {
     "name": "stdout",
     "output_type": "stream",
     "text": [
      "."
     ]
    },
    {
     "name": "stderr",
     "output_type": "stream",
     "text": [
      "Duplicate sequences in merged output.\n"
     ]
    },
    {
     "name": "stdout",
     "output_type": "stream",
     "text": [
      "."
     ]
    },
    {
     "name": "stderr",
     "output_type": "stream",
     "text": [
      "Duplicate sequences in merged output.\n"
     ]
    },
    {
     "name": "stdout",
     "output_type": "stream",
     "text": [
      "."
     ]
    },
    {
     "name": "stderr",
     "output_type": "stream",
     "text": [
      "Duplicate sequences in merged output.\n"
     ]
    },
    {
     "name": "stdout",
     "output_type": "stream",
     "text": [
      "."
     ]
    },
    {
     "name": "stdout",
     "output_type": "stream",
     "text": [
      "."
     ]
    },
    {
     "name": "stdout",
     "output_type": "stream",
     "text": [
      ".."
     ]
    },
    {
     "name": "stderr",
     "output_type": "stream",
     "text": [
      "Duplicate sequences in merged output.\n"
     ]
    },
    {
     "name": "stdout",
     "output_type": "stream",
     "text": [
      "."
     ]
    },
    {
     "name": "stderr",
     "output_type": "stream",
     "text": [
      "Duplicate sequences in merged output.\n",
      "Duplicate sequences detected and merged.\n",
      "Duplicate sequences detected and merged.\n",
      "Duplicate sequences detected and merged.\n",
      "Duplicate sequences detected and merged.\n",
      "Duplicate sequences detected and merged.\n",
      "Duplicate sequences detected and merged.\n",
      "Duplicate sequences detected and merged.\n"
     ]
    },
    {
     "name": "stdout",
     "output_type": "stream",
     "text": [
      ".\n",
      "4) Remove chimeras (method = consensus)\n"
     ]
    },
    {
     "name": "stdout",
     "output_type": "stream",
     "text": [
      "6) Write output\n"
     ]
    }
   ],
   "source": [
    "# If some of the DADA2 outputs artifacts do not exist or if the old files will be replaced\n",
    "if need_dada2:\n",
    "    \n",
    "    # Excute the DADA2 plugin\n",
    "    if n_directions == 1: # SingleEnd\n",
    "        tabs, reps, stat = dada2_actions.denoise_single(\n",
    "            demultiplexed_seqs=demux,\n",
    "            trunc_q = phred,\n",
    "            n_threads = threads,\n",
    "            trunc_len = trunc_f,\n",
    "        )\n",
    "    elif n_directions == 2: # PairedEnd\n",
    "        tabs, reps, stat = dada2_actions.denoise_paired(\n",
    "            demultiplexed_seqs=demux,\n",
    "            trunc_q = phred,\n",
    "            min_overlap = overlap,\n",
    "            n_threads = threads,\n",
    "            trunc_len_f = trunc_f,\n",
    "            trunc_len_r = trunc_r,\n",
    "        )\n",
    "    \n",
    "    # Save the artifacts objects\n",
    "    tabs.save(dada2_tabs)\n",
    "    reps.save(dada2_reps)\n",
    "    stat.save(dada2_stat)\n",
    "\n",
    "else:\n",
    "    tabs = Artifact.load(dada2_tabs)\n",
    "    reps = Artifact.load(dada2_reps)\n",
    "    stat = Artifact.load(dada2_stat)"
   ]
  },
  {
   "cell_type": "markdown",
   "id": "d9056761",
   "metadata": {
    "papermill": {
     "duration": 0.021457,
     "end_time": "2023-06-07T13:13:32.355492",
     "exception": false,
     "start_time": "2023-06-07T13:13:32.334035",
     "status": "completed"
    },
    "tags": []
   },
   "source": [
    "### Filter samples"
   ]
  },
  {
   "cell_type": "code",
   "execution_count": 12,
   "id": "fab4f62b",
   "metadata": {
    "execution": {
     "iopub.execute_input": "2023-06-07T13:13:32.399631Z",
     "iopub.status.busy": "2023-06-07T13:13:32.399336Z",
     "iopub.status.idle": "2023-06-07T13:13:32.834855Z",
     "shell.execute_reply": "2023-06-07T13:13:32.834268Z"
    },
    "papermill": {
     "duration": 0.460993,
     "end_time": "2023-06-07T13:13:32.837823",
     "exception": false,
     "start_time": "2023-06-07T13:13:32.376830",
     "status": "completed"
    },
    "tags": []
   },
   "outputs": [],
   "source": [
    "# Filter FeatureTable[Frequency | RelativeFrequency | PresenceAbsence | Composition] based on Metadata sample ID values\n",
    "tabs = filter_samples(\n",
    "    table=tabs,\n",
    "    metadata=metadata,\n",
    ").filtered_table\n",
    "# Filter SampleData[SequencesWithQuality | PairedEndSequencesWithQuality | JoinedSequencesWithQuality] based on Metadata sample ID values; returns FeatureData[Sequence | AlignedSequence]\n",
    "reps = filter_seqs(\n",
    "    data=reps,\n",
    "    table=tabs,\n",
    ").filtered_data"
   ]
  },
  {
   "cell_type": "markdown",
   "id": "c17f63a2",
   "metadata": {
    "papermill": {
     "duration": 0.02194,
     "end_time": "2023-06-07T13:13:32.891032",
     "exception": false,
     "start_time": "2023-06-07T13:13:32.869092",
     "status": "completed"
    },
    "tags": []
   },
   "source": [
    "### Define Visualizations Artifacts"
   ]
  },
  {
   "cell_type": "code",
   "execution_count": 13,
   "id": "9ffb3a00",
   "metadata": {
    "ExecuteTime": {
     "end_time": "2022-05-30T19:57:39.249051Z",
     "start_time": "2022-05-30T19:57:39.173053Z"
    },
    "execution": {
     "iopub.execute_input": "2023-06-07T13:13:32.935651Z",
     "iopub.status.busy": "2023-06-07T13:13:32.935432Z",
     "iopub.status.idle": "2023-06-07T13:13:38.306510Z",
     "shell.execute_reply": "2023-06-07T13:13:38.305993Z"
    },
    "papermill": {
     "duration": 5.397192,
     "end_time": "2023-06-07T13:13:38.310055",
     "exception": false,
     "start_time": "2023-06-07T13:13:32.912863",
     "status": "completed"
    },
    "tags": []
   },
   "outputs": [
    {
     "data": {
      "image/png": "[encoded data removed]",
      "text/plain": [
       "<Figure size 432x288 with 1 Axes>"
      ]
     },
     "metadata": {
      "needs_background": "light"
     },
     "output_type": "display_data"
    }
   ],
   "source": [
    "# If some of the DADA2 Visualization artifacts do not exist or if the old files will be replaced\n",
    "if need_view:\n",
    "    \n",
    "    tabs_view, = metadata_actions.tabulate(input=tabs.view(Metadata))\n",
    "    reps_view, = metadata_actions.tabulate(input=reps.view(Metadata))\n",
    "    stat_view, = metadata_actions.tabulate(input=stat.view(Metadata))\n",
    "    \n",
    "    tabs_view = summarize(table=tabs, sample_metadata=metadata).visualization\n",
    "    reps_view = tabulate_seqs(data=reps).visualization\n",
    "    core_view = core_features(table=tabs, min_fraction=.1, steps=10).visualization\n",
    "    \n",
    "    \n",
    "    # Save the artifacts objects\n",
    "    tabs_view.save(dada2_tabs_view)\n",
    "    reps_view.save(dada2_reps_view)\n",
    "    stat_view.save(dada2_stat_view)\n",
    "    core_view.save(dada2_core_view)\n",
    "\n",
    "else:\n",
    "    tabs_view = Visualization.load(dada2_tabs_view)\n",
    "    reps_view = Visualization.load(dada2_reps_view)\n",
    "    stat_view = Visualization.load(dada2_stat_view)\n",
    "    core_view = Visualization.load(dada2_core_view)"
   ]
  },
  {
   "cell_type": "code",
   "execution_count": 14,
   "id": "d425f691",
   "metadata": {
    "execution": {
     "iopub.execute_input": "2023-06-07T13:13:38.371285Z",
     "iopub.status.busy": "2023-06-07T13:13:38.371048Z",
     "iopub.status.idle": "2023-06-07T13:13:38.376082Z",
     "shell.execute_reply": "2023-06-07T13:13:38.375589Z"
    },
    "papermill": {
     "duration": 0.034158,
     "end_time": "2023-06-07T13:13:38.377570",
     "exception": false,
     "start_time": "2023-06-07T13:13:38.343412",
     "status": "completed"
    },
    "tags": []
   },
   "outputs": [],
   "source": [
    "def plot_stats_box(artifact, fname, total_reads_phases, percent_phases, cols):\n",
    "    import matplotlib.pyplot as plt\n",
    "    from qiime2 import Metadata\n",
    "    \n",
    "    df = artifact.view(Metadata).to_dataframe()\n",
    "    df_vals = df[total_reads_phases]\n",
    "    df_perc = df[percent_phases]\n",
    "    df_perc.columns = cols\n",
    "    \n",
    "    \n",
    "    plt.figure(figsize=(15,5))\n",
    "    plt.subplot(1, 2, 1)\n",
    "    df_vals.boxplot()\n",
    "    plt.xlabel('Fases')\n",
    "    plt.ylabel('# of reads')\n",
    "    \n",
    "    plt.subplot(1, 2, 2)\n",
    "    df_perc.boxplot()\n",
    "    plt.xlabel('Fases')\n",
    "    plt.ylabel('% of input')\n",
    "    \n",
    "    plt.savefig(fname, bbox_inches='tight')\n",
    "\n",
    "    plt.show()"
   ]
  },
  {
   "cell_type": "code",
   "execution_count": 15,
   "id": "b410d6f4",
   "metadata": {
    "execution": {
     "iopub.execute_input": "2023-06-07T13:13:38.433193Z",
     "iopub.status.busy": "2023-06-07T13:13:38.432973Z",
     "iopub.status.idle": "2023-06-07T13:13:38.437050Z",
     "shell.execute_reply": "2023-06-07T13:13:38.436256Z"
    },
    "papermill": {
     "duration": 0.034372,
     "end_time": "2023-06-07T13:13:38.439948",
     "exception": false,
     "start_time": "2023-06-07T13:13:38.405576",
     "status": "completed"
    },
    "tags": []
   },
   "outputs": [],
   "source": [
    "if n_directions == 1: # SingleEnd\n",
    "    total_reads_phases = ['input', 'filtered', 'denoised', 'non-chimeric']\n",
    "    percent_phases = ['percentage of input passed filter', 'percentage of input non-chimeric']\n",
    "    cols = ['filtered', 'non-chimeric']\n",
    "elif n_directions == 2: # PairedEnd\n",
    "    total_reads_phases = ['input', 'filtered', 'denoised', 'merged', 'non-chimeric']\n",
    "    percent_phases = ['percentage of input passed filter', 'percentage of input merged', 'percentage of input non-chimeric']\n",
    "    cols = ['filtered', 'merged', 'non-chimeric']"
   ]
  },
  {
   "cell_type": "code",
   "execution_count": 16,
   "id": "2e07b533",
   "metadata": {
    "ExecuteTime": {
     "end_time": "2022-05-30T19:57:39.901491Z",
     "start_time": "2022-05-30T19:57:39.255220Z"
    },
    "execution": {
     "iopub.execute_input": "2023-06-07T13:13:38.494365Z",
     "iopub.status.busy": "2023-06-07T13:13:38.494158Z",
     "iopub.status.idle": "2023-06-07T13:13:38.972665Z",
     "shell.execute_reply": "2023-06-07T13:13:38.972049Z"
    },
    "papermill": {
     "duration": 0.509492,
     "end_time": "2023-06-07T13:13:38.976307",
     "exception": false,
     "start_time": "2023-06-07T13:13:38.466815",
     "status": "completed"
    },
    "scrolled": true,
    "tags": []
   },
   "outputs": [
    {
     "data": {
      "image/png": "[encoded data removed]",
      "text/plain": [
       "<Figure size 1080x360 with 2 Axes>"
      ]
     },
     "metadata": {
      "needs_background": "light"
     },
     "output_type": "display_data"
    }
   ],
   "source": [
    "plot_stats_box(stat, os.path.join(img_folder, 'step02-stats-boxplot.pdf'), total_reads_phases, percent_phases, cols)"
   ]
  },
  {
   "cell_type": "code",
   "execution_count": 17,
   "id": "4683c67f",
   "metadata": {
    "ExecuteTime": {
     "end_time": "2022-05-31T17:58:47.140114Z",
     "start_time": "2022-05-31T17:58:47.087808Z"
    },
    "execution": {
     "iopub.execute_input": "2023-06-07T13:13:39.040006Z",
     "iopub.status.busy": "2023-06-07T13:13:39.039468Z",
     "iopub.status.idle": "2023-06-07T13:13:39.078461Z",
     "shell.execute_reply": "2023-06-07T13:13:39.077856Z"
    },
    "papermill": {
     "duration": 0.069754,
     "end_time": "2023-06-07T13:13:39.080686",
     "exception": false,
     "start_time": "2023-06-07T13:13:39.010932",
     "status": "completed"
    },
    "tags": []
   },
   "outputs": [
    {
     "data": {
      "text/html": [
       "<div>\n",
       "<style scoped>\n",
       "    .dataframe tbody tr th:only-of-type {\n",
       "        vertical-align: middle;\n",
       "    }\n",
       "\n",
       "    .dataframe tbody tr th {\n",
       "        vertical-align: top;\n",
       "    }\n",
       "\n",
       "    .dataframe thead th {\n",
       "        text-align: right;\n",
       "    }\n",
       "</style>\n",
       "<table border=\"1\" class=\"dataframe\">\n",
       "  <thead>\n",
       "    <tr style=\"text-align: right;\">\n",
       "      <th></th>\n",
       "      <th>percentage of input passed filter</th>\n",
       "      <th>percentage of input merged</th>\n",
       "      <th>percentage of input non-chimeric</th>\n",
       "    </tr>\n",
       "  </thead>\n",
       "  <tbody>\n",
       "    <tr>\n",
       "      <th>count</th>\n",
       "      <td>12.000000</td>\n",
       "      <td>12.000000</td>\n",
       "      <td>12.000000</td>\n",
       "    </tr>\n",
       "    <tr>\n",
       "      <th>mean</th>\n",
       "      <td>85.746667</td>\n",
       "      <td>77.088333</td>\n",
       "      <td>75.302500</td>\n",
       "    </tr>\n",
       "    <tr>\n",
       "      <th>std</th>\n",
       "      <td>0.788489</td>\n",
       "      <td>5.671302</td>\n",
       "      <td>6.114741</td>\n",
       "    </tr>\n",
       "    <tr>\n",
       "      <th>min</th>\n",
       "      <td>83.700000</td>\n",
       "      <td>62.330000</td>\n",
       "      <td>59.360000</td>\n",
       "    </tr>\n",
       "    <tr>\n",
       "      <th>25%</th>\n",
       "      <td>85.402500</td>\n",
       "      <td>77.105000</td>\n",
       "      <td>74.075000</td>\n",
       "    </tr>\n",
       "    <tr>\n",
       "      <th>50%</th>\n",
       "      <td>85.950000</td>\n",
       "      <td>78.525000</td>\n",
       "      <td>77.665000</td>\n",
       "    </tr>\n",
       "    <tr>\n",
       "      <th>75%</th>\n",
       "      <td>86.195000</td>\n",
       "      <td>80.807500</td>\n",
       "      <td>78.492500</td>\n",
       "    </tr>\n",
       "    <tr>\n",
       "      <th>max</th>\n",
       "      <td>86.720000</td>\n",
       "      <td>81.840000</td>\n",
       "      <td>81.500000</td>\n",
       "    </tr>\n",
       "  </tbody>\n",
       "</table>\n",
       "</div>"
      ],
      "text/plain": [
       "       percentage of input passed filter  percentage of input merged  \\\n",
       "count                          12.000000                   12.000000   \n",
       "mean                           85.746667                   77.088333   \n",
       "std                             0.788489                    5.671302   \n",
       "min                            83.700000                   62.330000   \n",
       "25%                            85.402500                   77.105000   \n",
       "50%                            85.950000                   78.525000   \n",
       "75%                            86.195000                   80.807500   \n",
       "max                            86.720000                   81.840000   \n",
       "\n",
       "       percentage of input non-chimeric  \n",
       "count                         12.000000  \n",
       "mean                          75.302500  \n",
       "std                            6.114741  \n",
       "min                           59.360000  \n",
       "25%                           74.075000  \n",
       "50%                           77.665000  \n",
       "75%                           78.492500  \n",
       "max                           81.500000  "
      ]
     },
     "execution_count": 17,
     "metadata": {},
     "output_type": "execute_result"
    }
   ],
   "source": [
    "stat.view(Metadata).to_dataframe().describe()[percent_phases]"
   ]
  },
  {
   "cell_type": "code",
   "execution_count": 18,
   "id": "2c0aa1d7",
   "metadata": {
    "ExecuteTime": {
     "end_time": "2022-05-30T19:57:39.957632Z",
     "start_time": "2022-05-30T19:57:39.953762Z"
    },
    "execution": {
     "iopub.execute_input": "2023-06-07T13:13:39.160599Z",
     "iopub.status.busy": "2023-06-07T13:13:39.160314Z",
     "iopub.status.idle": "2023-06-07T13:13:39.166053Z",
     "shell.execute_reply": "2023-06-07T13:13:39.165378Z"
    },
    "papermill": {
     "duration": 0.053092,
     "end_time": "2023-06-07T13:13:39.167621",
     "exception": false,
     "start_time": "2023-06-07T13:13:39.114529",
     "status": "completed"
    },
    "tags": []
   },
   "outputs": [
    {
     "data": {
      "text/html": [
       "<div><img onload=\"(function(div, url){\n",
       "if (typeof require !== 'undefined') {\n",
       "    var baseURL = require.toUrl('').split('/').slice(0, -2).join('/');\n",
       "} else {\n",
       "    var baseURL = JSON.parse(\n",
       "        document.getElementById('jupyter-config-data').innerHTML\n",
       "    ).baseUrl.slice(0, -1);\n",
       "}\n",
       "url = baseURL + url;\n",
       "fetch(url).then(function(res) {\n",
       "    if (res.status === 404) {\n",
       "        div.innerHTML = 'Install QIIME 2 Jupyter extension with:<br />' +\n",
       "                        '<code>jupyter serverextension enable --py qiime2' +\n",
       "                        ' --sys-prefix</code><br />then restart your server.' +\n",
       "                        '<br /><br />(Interactive output not available on ' +\n",
       "                        'static notebook viewer services like nbviewer.)';\n",
       "    } else if (res.status === 409) {\n",
       "        div.innerHTML = 'Visualization no longer in scope. Re-run this cell' +\n",
       "                        ' to see the visualization.';\n",
       "    } else if (res.ok) {\n",
       "        url = res.url;\n",
       "        div.innerHTML = '<iframe src=\\'' + url + '\\' style=\\'' +\n",
       "                        'width: 100%; height: 700px; border: 0;\\'>' +\n",
       "                        '</iframe><hr />Open in a: <a href=\\'' + url + '\\'' +\n",
       "                        ' target=\\'_blank\\'>new window</a>'\n",
       "    } else {\n",
       "        div.innerHTML = 'Something has gone wrong. Check notebook server for' +\n",
       "                        ' errors.';\n",
       "    }\n",
       "});\n",
       "})(this.parentElement, '/qiime2/redirect?location=/tmp/qiime2-archive-vqlil9nh')\" src=\"data:image/gif;base64,R0lGODlhAQABAIAAAP///wAAACH5BAEAAAAALAAAAAABAAEAAAICRAEAOw==\" /></div>"
      ],
      "text/plain": [
       "<visualization: Visualization uuid: 10ebdd8a-20c3-4563-ba44-dc076d31365f>"
      ]
     },
     "execution_count": 18,
     "metadata": {},
     "output_type": "execute_result"
    }
   ],
   "source": [
    "stat_view"
   ]
  },
  {
   "cell_type": "code",
   "execution_count": 19,
   "id": "8f20a93b",
   "metadata": {
    "ExecuteTime": {
     "end_time": "2022-05-30T19:57:39.967918Z",
     "start_time": "2022-05-30T19:57:39.958955Z"
    },
    "execution": {
     "iopub.execute_input": "2023-06-07T13:13:39.228557Z",
     "iopub.status.busy": "2023-06-07T13:13:39.228167Z",
     "iopub.status.idle": "2023-06-07T13:13:39.232897Z",
     "shell.execute_reply": "2023-06-07T13:13:39.231893Z"
    },
    "papermill": {
     "duration": 0.036577,
     "end_time": "2023-06-07T13:13:39.234572",
     "exception": false,
     "start_time": "2023-06-07T13:13:39.197995",
     "status": "completed"
    },
    "tags": []
   },
   "outputs": [],
   "source": [
    "# new_stat = Artifact.load('/home/lauro/nupeb/redemicro/experiments/thayane-feces-01/qiime-artifacts/dada2-stat.qza')\n",
    "# # new_view, = metadata_actions.tabulate(input=new_stat.view(Metadata))\n",
    "# # plot_stats_box(old_stat)\n",
    "\n",
    "# old_stat = Artifact.load('/home/lauro/nupeb/dados_brutos_rede_genoma/experiments/fezes-phred_20-tf_0-tr_0-lap_4/fezes_dada2_stat.qza')\n",
    "# # old_view, = metadata_actions.tabulate(input=old_stat.view(Metadata))\n",
    "# # plot_stats_box(old_stat)\n",
    "\n",
    "# plot_stats_box_pairs(old_stat, new_stat)"
   ]
  }
 ],
 "metadata": {
  "celltoolbar": "Edit Metadata",
  "kernelspec": {
   "display_name": "Python 3 (ipykernel)",
   "language": "python",
   "name": "python3"
  },
  "language_info": {
   "codemirror_mode": {
    "name": "ipython",
    "version": 3
   },
   "file_extension": ".py",
   "mimetype": "text/x-python",
   "name": "python",
   "nbconvert_exporter": "python",
   "pygments_lexer": "ipython3",
   "version": "3.8.12"
  },
  "papermill": {
   "default_parameters": {},
   "duration": 1898.523827,
   "end_time": "2023-06-07T13:13:40.189150",
   "environment_variables": {},
   "exception": null,
   "input_path": "nb-templates/step-quality-control.ipynb",
   "output_path": "/home/lauro/nupeb/rede-micro/redemicro-ana-flavia-nutri/experiments/ana-flavia-NRxSTD-NR-trim/nb-executed-steps/step-quality-control-ana-flavia-NRxSTD-NR-trim.ipynb",
   "parameters": {
    "base_dir": "/home/lauro/nupeb/rede-micro/redemicro-ana-flavia-nutri",
    "class_col": "group-id",
    "classifier_file": "/home/lauro/nupeb/rede-micro/models/silva-138-99-nb-classifier.qza",
    "experiment_name": "ana-flavia-NRxSTD-NR-trim",
    "manifest_file": "/home/lauro/nupeb/rede-micro/redemicro-ana-flavia-nutri/data/raw/manifest/manifest-ana-flavia-NRxSTD-NR.csv",
    "metadata_file": "/home/lauro/nupeb/rede-micro/redemicro-ana-flavia-nutri/data/raw/metadata/metadata-ana-flavia-NRxSTD-NR.tsv",
    "overlap": 12,
    "phred": 20,
    "replace_files": false,
    "threads": 6,
    "top_n": 20,
    "trim": {
     "forward_primer": "CCTACGGGRSGCAGCAG",
     "overlap": 8,
     "reverse_primer": "GGACTACHVGGGTWTCTAAT"
    },
    "trunc_f": 0,
    "trunc_r": 0
   },
   "start_time": "2023-06-07T12:42:01.665323",
   "version": "2.3.4"
  },
  "toc-autonumbering": false,
  "toc-showcode": false,
  "toc-showmarkdowntxt": false
 },
 "nbformat": 4,
 "nbformat_minor": 5
}