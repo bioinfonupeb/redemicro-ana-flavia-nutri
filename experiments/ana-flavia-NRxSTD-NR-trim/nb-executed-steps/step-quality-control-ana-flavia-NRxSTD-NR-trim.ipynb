{
 "cells": [
  {
   "cell_type": "markdown",
   "id": "b6d5f876",
   "metadata": {
    "papermill": {
     "duration": 0.023211,
     "end_time": "2023-08-23T19:42:55.872894",
     "exception": false,
     "start_time": "2023-08-23T19:42:55.849683",
     "status": "completed"
    },
    "tags": []
   },
   "source": [
    "# Quality Control and ASV table construction with DADA2"
   ]
  },
  {
   "cell_type": "markdown",
   "id": "fec669ff",
   "metadata": {
    "papermill": {
     "duration": 0.033593,
     "end_time": "2023-08-23T19:42:55.995123",
     "exception": false,
     "start_time": "2023-08-23T19:42:55.961530",
     "status": "completed"
    },
    "tags": []
   },
   "source": [
    "## Setup and settings"
   ]
  },
  {
   "cell_type": "code",
   "execution_count": 1,
   "id": "8b6e618c",
   "metadata": {
    "ExecuteTime": {
     "end_time": "2022-06-29T18:49:49.974644Z",
     "start_time": "2022-06-29T18:49:30.876897Z"
    },
    "execution": {
     "iopub.execute_input": "2023-08-23T19:42:56.081442Z",
     "iopub.status.busy": "2023-08-23T19:42:56.080855Z",
     "iopub.status.idle": "2023-08-23T19:43:02.331346Z",
     "shell.execute_reply": "2023-08-23T19:43:02.330653Z"
    },
    "papermill": {
     "duration": 6.289221,
     "end_time": "2023-08-23T19:43:02.334527",
     "exception": false,
     "start_time": "2023-08-23T19:42:56.045306",
     "status": "completed"
    },
    "tags": []
   },
   "outputs": [],
   "source": [
    "# Importing packages\n",
    "import os\n",
    "import yaml\n",
    "import logging\n",
    "import pandas as pd\n",
    "from qiime2 import Artifact\n",
    "from qiime2 import Visualization\n",
    "from qiime2 import Metadata\n",
    "import qiime2.plugins.dada2.actions as dada2_actions\n",
    "import qiime2.plugins.metadata.actions as metadata_actions\n",
    "from qiime2.plugins.feature_table.visualizers import tabulate_seqs\n",
    "from qiime2.plugins.feature_table.visualizers import summarize\n",
    "from qiime2.plugins.feature_table.visualizers import core_features\n",
    "from qiime2.plugins.feature_table.methods import filter_samples\n",
    "from qiime2.plugins.feature_table.methods import filter_seqs\n",
    "\n",
    "import matplotlib.pyplot as plt\n",
    "\n",
    "%matplotlib inline"
   ]
  },
  {
   "cell_type": "markdown",
   "id": "58b9f564",
   "metadata": {
    "papermill": {
     "duration": 0.151586,
     "end_time": "2023-08-23T19:43:02.506266",
     "exception": false,
     "start_time": "2023-08-23T19:43:02.354680",
     "status": "completed"
    },
    "tags": []
   },
   "source": [
    "### Receiving the parameters\n",
    "\n",
    "The following cell can receive parameters using the [papermill](https://papermill.readthedocs.io/en/latest/) tool."
   ]
  },
  {
   "cell_type": "code",
   "execution_count": 2,
   "id": "55efcef9",
   "metadata": {
    "ExecuteTime": {
     "end_time": "2022-06-29T18:54:01.035034Z",
     "start_time": "2022-06-29T18:54:01.028724Z"
    },
    "execution": {
     "iopub.execute_input": "2023-08-23T19:43:02.549646Z",
     "iopub.status.busy": "2023-08-23T19:43:02.549234Z",
     "iopub.status.idle": "2023-08-23T19:43:02.554192Z",
     "shell.execute_reply": "2023-08-23T19:43:02.553524Z"
    },
    "papermill": {
     "duration": 0.022834,
     "end_time": "2023-08-23T19:43:02.557251",
     "exception": false,
     "start_time": "2023-08-23T19:43:02.534417",
     "status": "completed"
    },
    "tags": [
     "parameters"
    ]
   },
   "outputs": [],
   "source": [
    "experiment_name = 'ana-flavia-superlactacao'\n",
    "base_dir = os.path.join('/', 'home', 'lauro', 'nupeb', 'redemicro')\n",
    "metadata_file = os.path.join(base_dir, 'data', 'raw', 'metadata', 'sample-metadata.tsv')\n",
    "manifest_file = os.path.join(base_dir, 'data', 'raw', 'manifest', 'sample-manifest.csv')\n",
    "replace_files = False\n",
    "phred = 20\n",
    "trunc_f = 0\n",
    "trunc_r = 0\n",
    "overlap = 12\n",
    "threads = 6\n",
    "trim = None"
   ]
  },
  {
   "cell_type": "code",
   "execution_count": 3,
   "id": "a3fb8af9",
   "metadata": {
    "execution": {
     "iopub.execute_input": "2023-08-23T19:43:02.593300Z",
     "iopub.status.busy": "2023-08-23T19:43:02.592928Z",
     "iopub.status.idle": "2023-08-23T19:43:02.598623Z",
     "shell.execute_reply": "2023-08-23T19:43:02.597923Z"
    },
    "papermill": {
     "duration": 0.023884,
     "end_time": "2023-08-23T19:43:02.600192",
     "exception": false,
     "start_time": "2023-08-23T19:43:02.576308",
     "status": "completed"
    },
    "tags": [
     "injected-parameters"
    ]
   },
   "outputs": [],
   "source": [
    "# Parameters\n",
    "experiment_name = \"ana-flavia-NRxSTD-NR-trim\"\n",
    "base_dir = \"/home/lauro/nupeb/rede-micro/redemicro-ana-flavia-nutri\"\n",
    "manifest_file = \"/home/lauro/nupeb/rede-micro/redemicro-ana-flavia-nutri/data/raw/manifest/manifest-ana-flavia-NRxSTD-NR.csv\"\n",
    "metadata_file = \"/home/lauro/nupeb/rede-micro/redemicro-ana-flavia-nutri/data/raw/metadata/metadata-ana-flavia-NRxSTD-NR.tsv\"\n",
    "class_col = \"group-id\"\n",
    "classifier_file = \"/home/lauro/nupeb/rede-micro/models/silva-138-99-nb-classifier.qza\"\n",
    "top_n = 20\n",
    "replace_files = False\n",
    "phred = 20\n",
    "trunc_f = 0\n",
    "trunc_r = 0\n",
    "overlap = 12\n",
    "threads = 6\n",
    "trim = {\n",
    "    \"overlap\": 8,\n",
    "    \"forward_primer\": \"CCTACGGGRSGCAGCAG\",\n",
    "    \"reverse_primer\": \"GGACTACHVGGGTWTCTAAT\",\n",
    "}\n"
   ]
  },
  {
   "cell_type": "code",
   "execution_count": 4,
   "id": "3d0b12e2",
   "metadata": {
    "execution": {
     "iopub.execute_input": "2023-08-23T19:43:02.631748Z",
     "iopub.status.busy": "2023-08-23T19:43:02.631376Z",
     "iopub.status.idle": "2023-08-23T19:43:02.639124Z",
     "shell.execute_reply": "2023-08-23T19:43:02.638254Z"
    },
    "papermill": {
     "duration": 0.025037,
     "end_time": "2023-08-23T19:43:02.641154",
     "exception": false,
     "start_time": "2023-08-23T19:43:02.616117",
     "status": "completed"
    },
    "tags": []
   },
   "outputs": [],
   "source": [
    "# Setting hardcoded parameters for development and debbuging\n",
    "production = True\n",
    "if not production:\n",
    "    params_path = os.path.join('..', 'params', 'ana-flavia-superlactacao.yaml')\n",
    "    with open(params_path, 'r') as stream:\n",
    "        params = yaml.safe_load(stream)\n",
    "        experiment_name = params['experiment_name']\n",
    "        base_dir = params['base_dir']\n",
    "        replace_files = params['replace_files']\n",
    "        experiment_folder = os.path.abspath(os.path.join(os.getcwd(), '..', 'experiments', 'thayane-feces-01'))\n",
    "        img_folder = os.path.abspath(os.path.join(experiment_folder, 'imgs'))\n",
    "        replace_files = False\n",
    "        phred = 20\n",
    "        trunc_f = 0\n",
    "        trunc_r = 0\n",
    "        overlap = 12\n",
    "        threads = 6"
   ]
  },
  {
   "cell_type": "code",
   "execution_count": 5,
   "id": "ea9b1e0d",
   "metadata": {
    "ExecuteTime": {
     "end_time": "2022-06-29T18:51:02.089300Z",
     "start_time": "2022-06-29T18:51:02.084922Z"
    },
    "execution": {
     "iopub.execute_input": "2023-08-23T19:43:02.675215Z",
     "iopub.status.busy": "2023-08-23T19:43:02.674769Z",
     "iopub.status.idle": "2023-08-23T19:43:02.681690Z",
     "shell.execute_reply": "2023-08-23T19:43:02.680823Z"
    },
    "papermill": {
     "duration": 0.024155,
     "end_time": "2023-08-23T19:43:02.683323",
     "exception": false,
     "start_time": "2023-08-23T19:43:02.659168",
     "status": "completed"
    },
    "tags": []
   },
   "outputs": [],
   "source": [
    "experiment_folder = os.path.abspath(os.path.join(base_dir, 'experiments', experiment_name))\n",
    "img_folder = os.path.abspath(os.path.join(experiment_folder, 'imgs'))\n",
    "qiime_folder = os.path.join(experiment_folder, 'qiime-artifacts')\n",
    "data_dir =  os.path.abspath(os.path.join(base_dir, 'data'))\n",
    "raw_data_dir =  os.path.abspath(os.path.join(data_dir, 'raw'))\n",
    "interim_data_dir =  os.path.abspath(os.path.join(data_dir, 'interim'))"
   ]
  },
  {
   "cell_type": "markdown",
   "id": "0550eaef",
   "metadata": {
    "papermill": {
     "duration": 0.014706,
     "end_time": "2023-08-23T19:43:02.713087",
     "exception": false,
     "start_time": "2023-08-23T19:43:02.698381",
     "status": "completed"
    },
    "tags": []
   },
   "source": [
    "### Defining names and paths"
   ]
  },
  {
   "cell_type": "code",
   "execution_count": 6,
   "id": "2a9a0142",
   "metadata": {
    "ExecuteTime": {
     "end_time": "2022-05-30T19:57:39.064490Z",
     "start_time": "2022-05-30T19:57:39.007809Z"
    },
    "execution": {
     "iopub.execute_input": "2023-08-23T19:43:02.743426Z",
     "iopub.status.busy": "2023-08-23T19:43:02.742990Z",
     "iopub.status.idle": "2023-08-23T19:43:02.750084Z",
     "shell.execute_reply": "2023-08-23T19:43:02.749183Z"
    },
    "papermill": {
     "duration": 0.024408,
     "end_time": "2023-08-23T19:43:02.751967",
     "exception": false,
     "start_time": "2023-08-23T19:43:02.727559",
     "status": "completed"
    },
    "tags": []
   },
   "outputs": [],
   "source": [
    "if trim:\n",
    "    demux_file = os.path.join(qiime_folder, 'demux-paired-trim.qza')\n",
    "else:\n",
    "    demux_file = os.path.join(qiime_folder, 'demux-paired.qza')\n",
    "\n",
    "dada2_tabs = os.path.join(qiime_folder, 'dada2-tabs.qza')\n",
    "dada2_reps = os.path.join(qiime_folder, 'dada2-reps.qza')\n",
    "dada2_stat = os.path.join(qiime_folder, 'dada2-stat.qza')\n",
    "\n",
    "\n",
    "dada2_tabs_view = dada2_tabs[:-1] + 'v'\n",
    "dada2_reps_view = dada2_reps[:-1] + 'v'\n",
    "dada2_stat_view = dada2_stat[:-1] + 'v'\n",
    "dada2_core_view = os.path.join(qiime_folder, 'dada2-core.qzv')"
   ]
  },
  {
   "cell_type": "markdown",
   "id": "c3e42594",
   "metadata": {
    "papermill": {
     "duration": 0.014156,
     "end_time": "2023-08-23T19:43:02.781651",
     "exception": false,
     "start_time": "2023-08-23T19:43:02.767495",
     "status": "completed"
    },
    "tags": []
   },
   "source": [
    "## Step execution\n",
    "\n",
    "### Load input files\n",
    "\n",
    "This Step import the QIIME2 `SampleData[PairedEndSequencesWithQuality]` Artifact with all demultiplexed sequences and the `Metadata` file."
   ]
  },
  {
   "cell_type": "code",
   "execution_count": 7,
   "id": "e026fda0",
   "metadata": {
    "ExecuteTime": {
     "end_time": "2022-05-30T19:57:39.077380Z",
     "start_time": "2022-05-30T19:57:39.066746Z"
    },
    "execution": {
     "iopub.execute_input": "2023-08-23T19:43:02.812400Z",
     "iopub.status.busy": "2023-08-23T19:43:02.811908Z",
     "iopub.status.idle": "2023-08-23T19:43:02.818076Z",
     "shell.execute_reply": "2023-08-23T19:43:02.817162Z"
    },
    "papermill": {
     "duration": 0.023624,
     "end_time": "2023-08-23T19:43:02.819685",
     "exception": false,
     "start_time": "2023-08-23T19:43:02.796061",
     "status": "completed"
    },
    "tags": []
   },
   "outputs": [],
   "source": [
    "need_dada2 = not (os.path.isfile(dada2_tabs) and os.path.isfile(dada2_reps) and os.path.isfile(dada2_stat)) or replace_files\n",
    "need_view = not (os.path.isfile(dada2_tabs_view) and os.path.isfile(dada2_reps_view) and os.path.isfile(dada2_stat_view)) or replace_files"
   ]
  },
  {
   "cell_type": "code",
   "execution_count": 8,
   "id": "58d4fe15",
   "metadata": {
    "ExecuteTime": {
     "end_time": "2022-05-30T19:57:39.089632Z",
     "start_time": "2022-05-30T19:57:39.079347Z"
    },
    "execution": {
     "iopub.execute_input": "2023-08-23T19:43:02.851870Z",
     "iopub.status.busy": "2023-08-23T19:43:02.851348Z",
     "iopub.status.idle": "2023-08-23T19:43:04.099821Z",
     "shell.execute_reply": "2023-08-23T19:43:04.099113Z"
    },
    "papermill": {
     "duration": 1.266844,
     "end_time": "2023-08-23T19:43:04.102969",
     "exception": false,
     "start_time": "2023-08-23T19:43:02.836125",
     "status": "completed"
    },
    "tags": []
   },
   "outputs": [],
   "source": [
    "if need_dada2:\n",
    "    demux = Artifact.load(demux_file)"
   ]
  },
  {
   "cell_type": "code",
   "execution_count": 9,
   "id": "bd3717cb",
   "metadata": {
    "ExecuteTime": {
     "end_time": "2022-05-30T19:57:39.145879Z",
     "start_time": "2022-05-30T19:57:39.091983Z"
    },
    "execution": {
     "iopub.execute_input": "2023-08-23T19:43:04.141855Z",
     "iopub.status.busy": "2023-08-23T19:43:04.141578Z",
     "iopub.status.idle": "2023-08-23T19:43:04.157145Z",
     "shell.execute_reply": "2023-08-23T19:43:04.156280Z"
    },
    "papermill": {
     "duration": 0.033012,
     "end_time": "2023-08-23T19:43:04.159179",
     "exception": false,
     "start_time": "2023-08-23T19:43:04.126167",
     "status": "completed"
    },
    "tags": []
   },
   "outputs": [],
   "source": [
    "metadata = Metadata.load(metadata_file)"
   ]
  },
  {
   "cell_type": "code",
   "execution_count": 10,
   "id": "921be59a",
   "metadata": {
    "execution": {
     "iopub.execute_input": "2023-08-23T19:43:04.194462Z",
     "iopub.status.busy": "2023-08-23T19:43:04.194082Z",
     "iopub.status.idle": "2023-08-23T19:43:04.202122Z",
     "shell.execute_reply": "2023-08-23T19:43:04.201366Z"
    },
    "papermill": {
     "duration": 0.025797,
     "end_time": "2023-08-23T19:43:04.203868",
     "exception": false,
     "start_time": "2023-08-23T19:43:04.178071",
     "status": "completed"
    },
    "tags": []
   },
   "outputs": [],
   "source": [
    "# Determine if is SingleEnd or PairedEnd\n",
    "manifest_df = pd.read_csv(manifest_file)\n",
    "n_directions = len(manifest_df['direction'].unique())"
   ]
  },
  {
   "cell_type": "markdown",
   "id": "c853e37b",
   "metadata": {
    "papermill": {
     "duration": 0.01486,
     "end_time": "2023-08-23T19:43:04.235181",
     "exception": false,
     "start_time": "2023-08-23T19:43:04.220321",
     "status": "completed"
    },
    "tags": []
   },
   "source": [
    "### Execute DADA2 plugin and create Artifacts\n",
    "\n",
    "The DADA2 plugin perform tha quality control and create the ASV table. It will be produced three Artifacts:\n",
    "\n",
    "- tabs (`FeatureTable[Frequency]`) : \n",
    "    The resulting feature table.\n",
    "- reps (`FeatureData[Sequence]`) :\n",
    "    The resulting feature sequences. Each feature in the feature table will\n",
    "    be represented by exactly one sequence, and these sequences will be the\n",
    "    joined paired-end sequences.\n",
    "- denoising_stats (`SampleData[DADA2Stats]`) : the resulting stats. Shows the number and the proportion of filtered reads in each phase of the plugin execution."
   ]
  },
  {
   "cell_type": "code",
   "execution_count": 11,
   "id": "8ecf0efc",
   "metadata": {
    "execution": {
     "iopub.execute_input": "2023-08-23T19:43:04.266223Z",
     "iopub.status.busy": "2023-08-23T19:43:04.265698Z",
     "iopub.status.idle": "2023-08-23T19:43:04.308317Z",
     "shell.execute_reply": "2023-08-23T19:43:04.307536Z"
    },
    "papermill": {
     "duration": 0.060459,
     "end_time": "2023-08-23T19:43:04.310640",
     "exception": false,
     "start_time": "2023-08-23T19:43:04.250181",
     "status": "completed"
    },
    "tags": []
   },
   "outputs": [
    {
     "name": "stdout",
     "output_type": "stream",
     "text": [
      "Load DADA2 data from shared files\n"
     ]
    }
   ],
   "source": [
    "if not os.path.isfile(dada2_tabs) or replace_files:\n",
    "    interim_tabs_path = os.path.join(interim_data_dir, \"dada2-tabs.qza\")\n",
    "    interim_reps_path = os.path.join(interim_data_dir, \"dada2-reps.qza\")\n",
    "    interim_stat_path = os.path.join(interim_data_dir, \"dada2-stat.qza\")\n",
    "    # Verify if has shared files\n",
    "    if os.path.isfile(interim_tabs_path) and os.path.isfile(interim_reps_path) and os.path.isfile(interim_stat_path):\n",
    "        print(\"Load DADA2 data from shared files\")\n",
    "        tabs = Artifact.load(interim_tabs_path)\n",
    "        reps = Artifact.load(interim_reps_path)\n",
    "        stat = Artifact.load(interim_stat_path)\n",
    "    # Create new DADA2 files\n",
    "    else:\n",
    "        print(\"Create new local DADA2 data\")\n",
    "        if n_directions == 1: # SingleEnd\n",
    "            tabs, reps, stat = dada2_actions.denoise_single(\n",
    "                demultiplexed_seqs=demux,\n",
    "                trunc_q = phred,\n",
    "                n_threads = threads,\n",
    "                trunc_len = trunc_f,\n",
    "            )\n",
    "        elif n_directions == 2: # PairedEnd\n",
    "            tabs, reps, stat = dada2_actions.denoise_paired(\n",
    "                demultiplexed_seqs=demux,\n",
    "                trunc_q = phred,\n",
    "                min_overlap = overlap,\n",
    "                n_threads = threads,\n",
    "                trunc_len_f = trunc_f,\n",
    "                trunc_len_r = trunc_r,\n",
    "            )\n",
    "        tabs.save(dada2_tabs)\n",
    "        reps.save(dada2_reps)\n",
    "        stat.save(dada2_stat)\n",
    "else:\n",
    "    print(\"Load DADA2 data from local files\")\n",
    "    tabs = Artifact.load(dada2_tabs)\n",
    "    reps = Artifact.load(dada2_reps)\n",
    "    stat = Artifact.load(dada2_stat)"
   ]
  },
  {
   "cell_type": "markdown",
   "id": "e7807fea",
   "metadata": {
    "papermill": {
     "duration": 0.015217,
     "end_time": "2023-08-23T19:43:04.346462",
     "exception": false,
     "start_time": "2023-08-23T19:43:04.331245",
     "status": "completed"
    },
    "tags": []
   },
   "source": [
    "### Filter samples"
   ]
  },
  {
   "cell_type": "code",
   "execution_count": 12,
   "id": "bad6970a",
   "metadata": {
    "execution": {
     "iopub.execute_input": "2023-08-23T19:43:04.378425Z",
     "iopub.status.busy": "2023-08-23T19:43:04.377943Z",
     "iopub.status.idle": "2023-08-23T19:43:05.053545Z",
     "shell.execute_reply": "2023-08-23T19:43:05.052842Z"
    },
    "papermill": {
     "duration": 0.694973,
     "end_time": "2023-08-23T19:43:05.056660",
     "exception": false,
     "start_time": "2023-08-23T19:43:04.361687",
     "status": "completed"
    },
    "tags": []
   },
   "outputs": [],
   "source": [
    "# Filter FeatureTable[Frequency | RelativeFrequency | PresenceAbsence | Composition] based on Metadata sample ID values\n",
    "tabs = filter_samples(\n",
    "    table=tabs,\n",
    "    metadata=metadata,\n",
    ").filtered_table\n",
    "# Filter SampleData[SequencesWithQuality | PairedEndSequencesWithQuality | JoinedSequencesWithQuality] based on Metadata sample ID values; returns FeatureData[Sequence | AlignedSequence]\n",
    "reps = filter_seqs(\n",
    "    data=reps,\n",
    "    table=tabs,\n",
    ").filtered_data"
   ]
  },
  {
   "cell_type": "markdown",
   "id": "13d43d7b",
   "metadata": {
    "papermill": {
     "duration": 0.01525,
     "end_time": "2023-08-23T19:43:05.094167",
     "exception": false,
     "start_time": "2023-08-23T19:43:05.078917",
     "status": "completed"
    },
    "tags": []
   },
   "source": [
    "### Define Visualizations Artifacts"
   ]
  },
  {
   "cell_type": "code",
   "execution_count": 13,
   "id": "4daf27c0",
   "metadata": {
    "ExecuteTime": {
     "end_time": "2022-05-30T19:57:39.249051Z",
     "start_time": "2022-05-30T19:57:39.173053Z"
    },
    "execution": {
     "iopub.execute_input": "2023-08-23T19:43:05.126025Z",
     "iopub.status.busy": "2023-08-23T19:43:05.125645Z",
     "iopub.status.idle": "2023-08-23T19:43:11.045072Z",
     "shell.execute_reply": "2023-08-23T19:43:11.044391Z"
    },
    "papermill": {
     "duration": 5.939314,
     "end_time": "2023-08-23T19:43:11.048935",
     "exception": false,
     "start_time": "2023-08-23T19:43:05.109621",
     "status": "completed"
    },
    "tags": []
   },
   "outputs": [
    {
     "data": {
      "image/png": "[encoded data removed]",
      "text/plain": [
       "<Figure size 432x288 with 1 Axes>"
      ]
     },
     "metadata": {
      "needs_background": "light"
     },
     "output_type": "display_data"
    }
   ],
   "source": [
    "# If some of the DADA2 Visualization artifacts do not exist or if the old files will be replaced\n",
    "if need_view:\n",
    "    \n",
    "    tabs_view, = metadata_actions.tabulate(input=tabs.view(Metadata))\n",
    "    reps_view, = metadata_actions.tabulate(input=reps.view(Metadata))\n",
    "    stat_view, = metadata_actions.tabulate(input=stat.view(Metadata))\n",
    "    \n",
    "    tabs_view = summarize(table=tabs, sample_metadata=metadata).visualization\n",
    "    reps_view = tabulate_seqs(data=reps).visualization\n",
    "    core_view = core_features(table=tabs, min_fraction=.1, steps=10).visualization\n",
    "    \n",
    "    \n",
    "    # Save the artifacts objects\n",
    "    tabs_view.save(dada2_tabs_view)\n",
    "    reps_view.save(dada2_reps_view)\n",
    "    stat_view.save(dada2_stat_view)\n",
    "    core_view.save(dada2_core_view)\n",
    "\n",
    "else:\n",
    "    tabs_view = Visualization.load(dada2_tabs_view)\n",
    "    reps_view = Visualization.load(dada2_reps_view)\n",
    "    stat_view = Visualization.load(dada2_stat_view)\n",
    "    core_view = Visualization.load(dada2_core_view)"
   ]
  },
  {
   "cell_type": "code",
   "execution_count": 14,
   "id": "0f279d1d",
   "metadata": {
    "execution": {
     "iopub.execute_input": "2023-08-23T19:43:11.084856Z",
     "iopub.status.busy": "2023-08-23T19:43:11.084624Z",
     "iopub.status.idle": "2023-08-23T19:43:11.089881Z",
     "shell.execute_reply": "2023-08-23T19:43:11.089362Z"
    },
    "papermill": {
     "duration": 0.023737,
     "end_time": "2023-08-23T19:43:11.091362",
     "exception": false,
     "start_time": "2023-08-23T19:43:11.067625",
     "status": "completed"
    },
    "tags": []
   },
   "outputs": [],
   "source": [
    "def plot_stats_box(artifact, fname, total_reads_phases, percent_phases, cols):\n",
    "    import matplotlib.pyplot as plt\n",
    "    from qiime2 import Metadata\n",
    "    \n",
    "    df = artifact.view(Metadata).to_dataframe()\n",
    "    df_vals = df[total_reads_phases]\n",
    "    df_perc = df[percent_phases]\n",
    "    df_perc.columns = cols\n",
    "    \n",
    "    \n",
    "    plt.figure(figsize=(15,5))\n",
    "    plt.subplot(1, 2, 1)\n",
    "    df_vals.boxplot()\n",
    "    plt.xlabel('Fases')\n",
    "    plt.ylabel('# of reads')\n",
    "    \n",
    "    plt.subplot(1, 2, 2)\n",
    "    df_perc.boxplot()\n",
    "    plt.xlabel('Fases')\n",
    "    plt.ylabel('% of input')\n",
    "    \n",
    "    plt.savefig(fname, bbox_inches='tight')\n",
    "\n",
    "    plt.show()"
   ]
  },
  {
   "cell_type": "code",
   "execution_count": 15,
   "id": "1311b96e",
   "metadata": {
    "execution": {
     "iopub.execute_input": "2023-08-23T19:43:11.125682Z",
     "iopub.status.busy": "2023-08-23T19:43:11.125321Z",
     "iopub.status.idle": "2023-08-23T19:43:11.131639Z",
     "shell.execute_reply": "2023-08-23T19:43:11.130835Z"
    },
    "papermill": {
     "duration": 0.025052,
     "end_time": "2023-08-23T19:43:11.133198",
     "exception": false,
     "start_time": "2023-08-23T19:43:11.108146",
     "status": "completed"
    },
    "tags": []
   },
   "outputs": [],
   "source": [
    "if n_directions == 1: # SingleEnd\n",
    "    total_reads_phases = ['input', 'filtered', 'denoised', 'non-chimeric']\n",
    "    percent_phases = ['percentage of input passed filter', 'percentage of input non-chimeric']\n",
    "    cols = ['filtered', 'non-chimeric']\n",
    "elif n_directions == 2: # PairedEnd\n",
    "    total_reads_phases = ['input', 'filtered', 'denoised', 'merged', 'non-chimeric']\n",
    "    percent_phases = ['percentage of input passed filter', 'percentage of input merged', 'percentage of input non-chimeric']\n",
    "    cols = ['filtered', 'merged', 'non-chimeric']"
   ]
  },
  {
   "cell_type": "code",
   "execution_count": 16,
   "id": "cc29ba22",
   "metadata": {
    "ExecuteTime": {
     "end_time": "2022-05-30T19:57:39.901491Z",
     "start_time": "2022-05-30T19:57:39.255220Z"
    },
    "execution": {
     "iopub.execute_input": "2023-08-23T19:43:11.169634Z",
     "iopub.status.busy": "2023-08-23T19:43:11.169242Z",
     "iopub.status.idle": "2023-08-23T19:43:11.728234Z",
     "shell.execute_reply": "2023-08-23T19:43:11.727550Z"
    },
    "papermill": {
     "duration": 0.580256,
     "end_time": "2023-08-23T19:43:11.731570",
     "exception": false,
     "start_time": "2023-08-23T19:43:11.151314",
     "status": "completed"
    },
    "scrolled": false,
    "tags": []
   },
   "outputs": [
    {
     "data": {
      "image/png": "[encoded data removed]",
      "text/plain": [
       "<Figure size 1080x360 with 2 Axes>"
      ]
     },
     "metadata": {
      "needs_background": "light"
     },
     "output_type": "display_data"
    }
   ],
   "source": [
    "plot_stats_box(stat, os.path.join(img_folder, 'step02-stats-boxplot.pdf'), total_reads_phases, percent_phases, cols)"
   ]
  },
  {
   "cell_type": "code",
   "execution_count": 17,
   "id": "5932ead7",
   "metadata": {
    "ExecuteTime": {
     "end_time": "2022-05-31T17:58:47.140114Z",
     "start_time": "2022-05-31T17:58:47.087808Z"
    },
    "execution": {
     "iopub.execute_input": "2023-08-23T19:43:11.772682Z",
     "iopub.status.busy": "2023-08-23T19:43:11.772430Z",
     "iopub.status.idle": "2023-08-23T19:43:11.816451Z",
     "shell.execute_reply": "2023-08-23T19:43:11.815914Z"
    },
    "papermill": {
     "duration": 0.064105,
     "end_time": "2023-08-23T19:43:11.818653",
     "exception": false,
     "start_time": "2023-08-23T19:43:11.754548",
     "status": "completed"
    },
    "tags": []
   },
   "outputs": [
    {
     "data": {
      "text/html": [
       "<div>\n",
       "<style scoped>\n",
       "    .dataframe tbody tr th:only-of-type {\n",
       "        vertical-align: middle;\n",
       "    }\n",
       "\n",
       "    .dataframe tbody tr th {\n",
       "        vertical-align: top;\n",
       "    }\n",
       "\n",
       "    .dataframe thead th {\n",
       "        text-align: right;\n",
       "    }\n",
       "</style>\n",
       "<table border=\"1\" class=\"dataframe\">\n",
       "  <thead>\n",
       "    <tr style=\"text-align: right;\">\n",
       "      <th></th>\n",
       "      <th>percentage of input passed filter</th>\n",
       "      <th>percentage of input merged</th>\n",
       "      <th>percentage of input non-chimeric</th>\n",
       "    </tr>\n",
       "  </thead>\n",
       "  <tbody>\n",
       "    <tr>\n",
       "      <th>count</th>\n",
       "      <td>74.000000</td>\n",
       "      <td>74.000000</td>\n",
       "      <td>74.000000</td>\n",
       "    </tr>\n",
       "    <tr>\n",
       "      <th>mean</th>\n",
       "      <td>85.240946</td>\n",
       "      <td>75.388649</td>\n",
       "      <td>74.583919</td>\n",
       "    </tr>\n",
       "    <tr>\n",
       "      <th>std</th>\n",
       "      <td>0.677259</td>\n",
       "      <td>10.290852</td>\n",
       "      <td>10.194336</td>\n",
       "    </tr>\n",
       "    <tr>\n",
       "      <th>min</th>\n",
       "      <td>83.410000</td>\n",
       "      <td>33.150000</td>\n",
       "      <td>32.760000</td>\n",
       "    </tr>\n",
       "    <tr>\n",
       "      <th>25%</th>\n",
       "      <td>84.822500</td>\n",
       "      <td>76.122500</td>\n",
       "      <td>74.970000</td>\n",
       "    </tr>\n",
       "    <tr>\n",
       "      <th>50%</th>\n",
       "      <td>85.220000</td>\n",
       "      <td>78.405000</td>\n",
       "      <td>77.895000</td>\n",
       "    </tr>\n",
       "    <tr>\n",
       "      <th>75%</th>\n",
       "      <td>85.662500</td>\n",
       "      <td>79.927500</td>\n",
       "      <td>78.760000</td>\n",
       "    </tr>\n",
       "    <tr>\n",
       "      <th>max</th>\n",
       "      <td>86.720000</td>\n",
       "      <td>83.920000</td>\n",
       "      <td>82.320000</td>\n",
       "    </tr>\n",
       "  </tbody>\n",
       "</table>\n",
       "</div>"
      ],
      "text/plain": [
       "       percentage of input passed filter  percentage of input merged  \\\n",
       "count                          74.000000                   74.000000   \n",
       "mean                           85.240946                   75.388649   \n",
       "std                             0.677259                   10.290852   \n",
       "min                            83.410000                   33.150000   \n",
       "25%                            84.822500                   76.122500   \n",
       "50%                            85.220000                   78.405000   \n",
       "75%                            85.662500                   79.927500   \n",
       "max                            86.720000                   83.920000   \n",
       "\n",
       "       percentage of input non-chimeric  \n",
       "count                         74.000000  \n",
       "mean                          74.583919  \n",
       "std                           10.194336  \n",
       "min                           32.760000  \n",
       "25%                           74.970000  \n",
       "50%                           77.895000  \n",
       "75%                           78.760000  \n",
       "max                           82.320000  "
      ]
     },
     "execution_count": 17,
     "metadata": {},
     "output_type": "execute_result"
    }
   ],
   "source": [
    "stat.view(Metadata).to_dataframe().describe()[percent_phases]"
   ]
  },
  {
   "cell_type": "code",
   "execution_count": 18,
   "id": "6f09265a",
   "metadata": {
    "ExecuteTime": {
     "end_time": "2022-05-30T19:57:39.957632Z",
     "start_time": "2022-05-30T19:57:39.953762Z"
    },
    "execution": {
     "iopub.execute_input": "2023-08-23T19:43:11.860122Z",
     "iopub.status.busy": "2023-08-23T19:43:11.859856Z",
     "iopub.status.idle": "2023-08-23T19:43:11.865968Z",
     "shell.execute_reply": "2023-08-23T19:43:11.865211Z"
    },
    "papermill": {
     "duration": 0.025902,
     "end_time": "2023-08-23T19:43:11.867524",
     "exception": false,
     "start_time": "2023-08-23T19:43:11.841622",
     "status": "completed"
    },
    "tags": []
   },
   "outputs": [
    {
     "data": {
      "text/html": [
       "<div><img onload=\"(function(div, url){\n",
       "if (typeof require !== 'undefined') {\n",
       "    var baseURL = require.toUrl('').split('/').slice(0, -2).join('/');\n",
       "} else {\n",
       "    var baseURL = JSON.parse(\n",
       "        document.getElementById('jupyter-config-data').innerHTML\n",
       "    ).baseUrl.slice(0, -1);\n",
       "}\n",
       "url = baseURL + url;\n",
       "fetch(url).then(function(res) {\n",
       "    if (res.status === 404) {\n",
       "        div.innerHTML = 'Install QIIME 2 Jupyter extension with:<br />' +\n",
       "                        '<code>jupyter serverextension enable --py qiime2' +\n",
       "                        ' --sys-prefix</code><br />then restart your server.' +\n",
       "                        '<br /><br />(Interactive output not available on ' +\n",
       "                        'static notebook viewer services like nbviewer.)';\n",
       "    } else if (res.status === 409) {\n",
       "        div.innerHTML = 'Visualization no longer in scope. Re-run this cell' +\n",
       "                        ' to see the visualization.';\n",
       "    } else if (res.ok) {\n",
       "        url = res.url;\n",
       "        div.innerHTML = '<iframe src=\\'' + url + '\\' style=\\'' +\n",
       "                        'width: 100%; height: 700px; border: 0;\\'>' +\n",
       "                        '</iframe><hr />Open in a: <a href=\\'' + url + '\\'' +\n",
       "                        ' target=\\'_blank\\'>new window</a>'\n",
       "    } else {\n",
       "        div.innerHTML = 'Something has gone wrong. Check notebook server for' +\n",
       "                        ' errors.';\n",
       "    }\n",
       "});\n",
       "})(this.parentElement, '/qiime2/redirect?location=/tmp/qiime2-archive-tjgxqr61')\" src=\"data:image/gif;base64,R0lGODlhAQABAIAAAP///wAAACH5BAEAAAAALAAAAAABAAEAAAICRAEAOw==\" /></div>"
      ],
      "text/plain": [
       "<visualization: Visualization uuid: cb2f9d51-04ee-41cb-85b8-8fa31a5ae851>"
      ]
     },
     "execution_count": 18,
     "metadata": {},
     "output_type": "execute_result"
    }
   ],
   "source": [
    "stat_view"
   ]
  }
 ],
 "metadata": {
  "celltoolbar": "Edit Metadata",
  "kernelspec": {
   "display_name": "Python 3 (ipykernel)",
   "language": "python",
   "name": "python3"
  },
  "language_info": {
   "codemirror_mode": {
    "name": "ipython",
    "version": 3
   },
   "file_extension": ".py",
   "mimetype": "text/x-python",
   "name": "python",
   "nbconvert_exporter": "python",
   "pygments_lexer": "ipython3",
   "version": "3.8.12"
  },
  "papermill": {
   "default_parameters": {},
   "duration": 18.875912,
   "end_time": "2023-08-23T19:43:12.805502",
   "environment_variables": {},
   "exception": null,
   "input_path": "nb-templates/step-quality-control.ipynb",
   "output_path": "/home/lauro/nupeb/rede-micro/redemicro-ana-flavia-nutri/experiments/ana-flavia-NRxSTD-NR-trim/nb-executed-steps/step-quality-control-ana-flavia-NRxSTD-NR-trim.ipynb",
   "parameters": {
    "base_dir": "/home/lauro/nupeb/rede-micro/redemicro-ana-flavia-nutri",
    "class_col": "group-id",
    "classifier_file": "/home/lauro/nupeb/rede-micro/models/silva-138-99-nb-classifier.qza",
    "experiment_name": "ana-flavia-NRxSTD-NR-trim",
    "manifest_file": "/home/lauro/nupeb/rede-micro/redemicro-ana-flavia-nutri/data/raw/manifest/manifest-ana-flavia-NRxSTD-NR.csv",
    "metadata_file": "/home/lauro/nupeb/rede-micro/redemicro-ana-flavia-nutri/data/raw/metadata/metadata-ana-flavia-NRxSTD-NR.tsv",
    "overlap": 12,
    "phred": 20,
    "replace_files": false,
    "threads": 6,
    "top_n": 20,
    "trim": {
     "forward_primer": "CCTACGGGRSGCAGCAG",
     "overlap": 8,
     "reverse_primer": "GGACTACHVGGGTWTCTAAT"
    },
    "trunc_f": 0,
    "trunc_r": 0
   },
   "start_time": "2023-08-23T19:42:53.929590",
   "version": "2.3.4"
  },
  "toc-autonumbering": false,
  "toc-showcode": false,
  "toc-showmarkdowntxt": false
 },
 "nbformat": 4,
 "nbformat_minor": 5
}