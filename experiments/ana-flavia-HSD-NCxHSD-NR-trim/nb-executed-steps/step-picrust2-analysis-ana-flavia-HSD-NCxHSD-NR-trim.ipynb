{
 "cells": [
  {
   "cell_type": "markdown",
   "id": "0e7f2330",
   "metadata": {
    "ExecuteTime": {
     "end_time": "2022-09-22T19:36:33.828188Z",
     "start_time": "2022-09-22T19:36:33.817323Z"
    },
    "papermill": {
     "duration": 0.041333,
     "end_time": "2023-06-07T14:34:34.297071",
     "exception": false,
     "start_time": "2023-06-07T14:34:34.255738",
     "status": "completed"
    },
    "tags": []
   },
   "source": [
    "### STEP : PICRUST2 Analysis\n",
    "\n",
    "\n",
    "\n",
    "#### Example\n",
    "\n",
    "- [PICRUST2 tutorial](https://github.com/picrust/picrust2/wiki/q2-picrust2-Tutorial)\n",
    "- [Limitations](https://github.com/picrust/picrust2/wiki/Key-Limitations)\n",
    "\n",
    "\n",
    "#### Methods\n",
    "- [composition](https://docs.qiime2.org/2022.8/plugins/available/composition/)"
   ]
  },
  {
   "cell_type": "markdown",
   "id": "843debbf",
   "metadata": {
    "papermill": {
     "duration": 0.0291,
     "end_time": "2023-06-07T14:34:34.358341",
     "exception": false,
     "start_time": "2023-06-07T14:34:34.329241",
     "status": "completed"
    },
    "tags": []
   },
   "source": [
    "## Setup and settings"
   ]
  },
  {
   "cell_type": "code",
   "execution_count": 1,
   "id": "965e28e5",
   "metadata": {
    "ExecuteTime": {
     "end_time": "2022-11-09T19:20:47.478806Z",
     "start_time": "2022-11-09T19:20:40.457657Z"
    },
    "execution": {
     "iopub.execute_input": "2023-06-07T14:34:34.421751Z",
     "iopub.status.busy": "2023-06-07T14:34:34.421279Z",
     "iopub.status.idle": "2023-06-07T14:34:50.817487Z",
     "shell.execute_reply": "2023-06-07T14:34:50.817856Z"
    },
    "papermill": {
     "duration": 16.431401,
     "end_time": "2023-06-07T14:34:50.818053",
     "exception": false,
     "start_time": "2023-06-07T14:34:34.386652",
     "status": "completed"
    },
    "tags": []
   },
   "outputs": [],
   "source": [
    "# Importing packages\n",
    "import os\n",
    "import biom\n",
    "import pandas as pd\n",
    "from qiime2 import Artifact\n",
    "from qiime2 import Visualization\n",
    "from qiime2 import Metadata\n",
    "\n",
    "from qiime2.plugins.feature_table.visualizers import summarize\n",
    "\n",
    "from picrust2.pipeline import full_pipeline\n",
    "from picrust2.default import (default_ref_dir, default_tables, default_regroup_map, default_pathway_map)\n",
    "from qiime2.plugins import picrust2\n",
    "\n",
    "%matplotlib inline"
   ]
  },
  {
   "cell_type": "markdown",
   "id": "530ceb60",
   "metadata": {
    "papermill": {
     "duration": 0.02391,
     "end_time": "2023-06-07T14:34:50.866524",
     "exception": false,
     "start_time": "2023-06-07T14:34:50.842614",
     "status": "completed"
    },
    "tags": []
   },
   "source": [
    "### Receiving the parameters\n",
    "\n",
    "The following cell can receive parameters using the [papermill](https://papermill.readthedocs.io/en/latest/) tool."
   ]
  },
  {
   "cell_type": "code",
   "execution_count": 2,
   "id": "18d874ea",
   "metadata": {
    "ExecuteTime": {
     "end_time": "2022-11-09T19:20:47.483140Z",
     "start_time": "2022-11-09T19:20:47.480386Z"
    },
    "execution": {
     "iopub.execute_input": "2023-06-07T14:34:50.918411Z",
     "iopub.status.busy": "2023-06-07T14:34:50.917981Z",
     "iopub.status.idle": "2023-06-07T14:34:50.920280Z",
     "shell.execute_reply": "2023-06-07T14:34:50.919844Z"
    },
    "papermill": {
     "duration": 0.029725,
     "end_time": "2023-06-07T14:34:50.920363",
     "exception": false,
     "start_time": "2023-06-07T14:34:50.890638",
     "status": "completed"
    },
    "tags": [
     "parameters"
    ]
   },
   "outputs": [],
   "source": [
    "metadata_file = '/home/lauro/nupeb/rede-micro/redemicro-miliane-nutri/data/raw/metadata/miliane-metadata-CxAC.tsv'\n",
    "base_dir = os.path.join('/', 'home', 'lauro', 'nupeb', 'rede-micro', 'redemicro-miliane-nutri')\n",
    "experiment_name = 'miliane-CxAC-trim'\n",
    "class_col = 'group-id'\n",
    "replace_files = False"
   ]
  },
  {
   "cell_type": "code",
   "execution_count": 3,
   "id": "3b837381",
   "metadata": {
    "execution": {
     "iopub.execute_input": "2023-06-07T14:34:50.988070Z",
     "iopub.status.busy": "2023-06-07T14:34:50.987165Z",
     "iopub.status.idle": "2023-06-07T14:34:50.989709Z",
     "shell.execute_reply": "2023-06-07T14:34:50.989298Z"
    },
    "papermill": {
     "duration": 0.045232,
     "end_time": "2023-06-07T14:34:50.989802",
     "exception": false,
     "start_time": "2023-06-07T14:34:50.944570",
     "status": "completed"
    },
    "tags": [
     "injected-parameters"
    ]
   },
   "outputs": [],
   "source": [
    "# Parameters\n",
    "experiment_name = \"ana-flavia-HSD-NCxHSD-NR-trim\"\n",
    "base_dir = \"/home/lauro/nupeb/rede-micro/redemicro-ana-flavia-nutri\"\n",
    "manifest_file = \"/home/lauro/nupeb/rede-micro/redemicro-ana-flavia-nutri/data/raw/manifest/manifest-ana-flavia-HSD-NCxHSD-NR.csv\"\n",
    "metadata_file = \"/home/lauro/nupeb/rede-micro/redemicro-ana-flavia-nutri/data/raw/metadata/metadata-ana-flavia-HSD-NCxHSD-NR.tsv\"\n",
    "class_col = \"group-id\"\n",
    "classifier_file = \"/home/lauro/nupeb/rede-micro/models/silva-138-99-nb-classifier.qza\"\n",
    "top_n = 20\n",
    "replace_files = False\n",
    "phred = 20\n",
    "trunc_f = 0\n",
    "trunc_r = 0\n",
    "overlap = 12\n",
    "threads = 6\n",
    "trim = {\n",
    "    \"overlap\": 8,\n",
    "    \"forward_primer\": \"CCTACGGGRSGCAGCAG\",\n",
    "    \"reverse_primer\": \"GGACTACHVGGGTWTCTAAT\",\n",
    "}\n"
   ]
  },
  {
   "cell_type": "code",
   "execution_count": 4,
   "id": "f38617d9",
   "metadata": {
    "ExecuteTime": {
     "end_time": "2022-11-09T19:20:47.515942Z",
     "start_time": "2022-11-09T19:20:47.498345Z"
    },
    "execution": {
     "iopub.execute_input": "2023-06-07T14:34:51.042184Z",
     "iopub.status.busy": "2023-06-07T14:34:51.041766Z",
     "iopub.status.idle": "2023-06-07T14:34:51.044050Z",
     "shell.execute_reply": "2023-06-07T14:34:51.043691Z"
    },
    "papermill": {
     "duration": 0.028845,
     "end_time": "2023-06-07T14:34:51.044131",
     "exception": false,
     "start_time": "2023-06-07T14:34:51.015286",
     "status": "completed"
    },
    "tags": []
   },
   "outputs": [],
   "source": [
    "experiment_folder = os.path.abspath(os.path.join(base_dir, 'experiments', experiment_name))\n",
    "img_folder = os.path.abspath(os.path.join(experiment_folder, 'imgs'))"
   ]
  },
  {
   "cell_type": "markdown",
   "id": "ea9b90fb",
   "metadata": {
    "papermill": {
     "duration": 0.024115,
     "end_time": "2023-06-07T14:34:51.092260",
     "exception": false,
     "start_time": "2023-06-07T14:34:51.068145",
     "status": "completed"
    },
    "tags": []
   },
   "source": [
    "### Defining names, paths and flags"
   ]
  },
  {
   "cell_type": "code",
   "execution_count": 5,
   "id": "45727eef",
   "metadata": {
    "ExecuteTime": {
     "end_time": "2022-11-09T19:20:47.527937Z",
     "start_time": "2022-11-09T19:20:47.517696Z"
    },
    "execution": {
     "iopub.execute_input": "2023-06-07T14:34:51.143590Z",
     "iopub.status.busy": "2023-06-07T14:34:51.143113Z",
     "iopub.status.idle": "2023-06-07T14:34:51.146327Z",
     "shell.execute_reply": "2023-06-07T14:34:51.145899Z"
    },
    "papermill": {
     "duration": 0.030222,
     "end_time": "2023-06-07T14:34:51.146407",
     "exception": false,
     "start_time": "2023-06-07T14:34:51.116185",
     "status": "completed"
    },
    "tags": []
   },
   "outputs": [
    {
     "name": "stdout",
     "output_type": "stream",
     "text": [
      "New picrust2-artifacts folder path created: /home/lauro/nupeb/rede-micro/redemicro-ana-flavia-nutri/experiments/ana-flavia-HSD-NCxHSD-NR-trim/picrust2\n"
     ]
    }
   ],
   "source": [
    "# QIIME2 Artifacts folder\n",
    "qiime_folder = os.path.join(experiment_folder, 'qiime-artifacts')\n",
    "\n",
    "# Input - DADA2 Artifacts\n",
    "dada2_tabs_path = os.path.join(qiime_folder, 'dada2-tabs.qza')\n",
    "dada2_reqs_path = os.path.join(qiime_folder, 'dada2-reps.qza')\n",
    "\n",
    "# PICRUST@ folder\n",
    "picrust2_folder = os.path.abspath(os.path.join(experiment_folder, 'picrust2'))\n",
    "\n",
    "# Create path if it not exist\n",
    "if not os.path.isdir(picrust2_folder):\n",
    "    os.makedirs(picrust2_folder)\n",
    "    print(f'New picrust2-artifacts folder path created: {picrust2_folder}')"
   ]
  },
  {
   "cell_type": "code",
   "execution_count": 6,
   "id": "4903e645",
   "metadata": {
    "ExecuteTime": {
     "end_time": "2022-11-09T19:20:47.539993Z",
     "start_time": "2022-11-09T19:20:47.529653Z"
    },
    "execution": {
     "iopub.execute_input": "2023-06-07T14:34:51.200784Z",
     "iopub.status.busy": "2023-06-07T14:34:51.200345Z",
     "iopub.status.idle": "2023-06-07T14:34:51.202767Z",
     "shell.execute_reply": "2023-06-07T14:34:51.202405Z"
    },
    "papermill": {
     "duration": 0.030833,
     "end_time": "2023-06-07T14:34:51.202849",
     "exception": false,
     "start_time": "2023-06-07T14:34:51.172016",
     "status": "completed"
    },
    "tags": []
   },
   "outputs": [],
   "source": [
    "# Define paths for metagenome function artifacts\n",
    "ec_path = os.path.join(picrust2_folder, 'ec-pred-metagen.qza')\n",
    "ko_path = os.path.join(picrust2_folder, 'ko-pred-metagen.qza')\n",
    "pathway_path = os.path.join(picrust2_folder, 'pathway-abundance.qza')\n",
    "\n",
    "# Define paths for metagenome function visualization artifacts\n",
    "ec_viz_path = ec_path[:-1]+'v'\n",
    "ko_viz_path = ko_path[:-1]+'v'\n",
    "pathway_viz_path = pathway_path[:-1]+'v'\n",
    "\n",
    "# Define paths for biom -> tsv files (function X sample)\n",
    "pathway_fpath = os.path.join(picrust2_folder, 'pathway.tsv')\n",
    "ec_fpath = os.path.join(picrust2_folder, 'ec.tsv')\n",
    "ko_fpath = os.path.join(picrust2_folder, 'ko.tsv')\n",
    "\n",
    "# Define paths for biom -> tsv files (function X sample) - with descriptions\n",
    "pathway_desc_fpath = os.path.join(picrust2_folder, 'pathway-desc.tsv')\n",
    "ec_desc_fpath = os.path.join(picrust2_folder, 'ec-desc.tsv')\n",
    "ko_desc_fpath = os.path.join(picrust2_folder, 'ko-desc.tsv')"
   ]
  },
  {
   "cell_type": "markdown",
   "id": "0999a1b2",
   "metadata": {
    "papermill": {
     "duration": 0.024639,
     "end_time": "2023-06-07T14:34:51.252330",
     "exception": false,
     "start_time": "2023-06-07T14:34:51.227691",
     "status": "completed"
    },
    "tags": []
   },
   "source": [
    "## Step execution\n",
    "\n",
    "### Load input files\n",
    "\n",
    "This Step import the QIIME2 `FeatureTable[Frequency]` Artifact and the `Metadata` file."
   ]
  },
  {
   "cell_type": "code",
   "execution_count": 7,
   "id": "8f299d1a",
   "metadata": {
    "ExecuteTime": {
     "end_time": "2022-11-09T19:20:47.610793Z",
     "start_time": "2022-11-09T19:20:47.541540Z"
    },
    "execution": {
     "iopub.execute_input": "2023-06-07T14:34:51.304770Z",
     "iopub.status.busy": "2023-06-07T14:34:51.304328Z",
     "iopub.status.idle": "2023-06-07T14:34:51.401074Z",
     "shell.execute_reply": "2023-06-07T14:34:51.401435Z"
    },
    "papermill": {
     "duration": 0.124234,
     "end_time": "2023-06-07T14:34:51.401552",
     "exception": false,
     "start_time": "2023-06-07T14:34:51.277318",
     "status": "completed"
    },
    "tags": []
   },
   "outputs": [],
   "source": [
    "#Load Metadata\n",
    "metadata_qa = Metadata.load(metadata_file)\n",
    "\n",
    "#Load FeatureTable[Frequency]\n",
    "tabs = Artifact.load(dada2_tabs_path)\n",
    "\n",
    "#Load FeatureTable[Sequence]\n",
    "seqs = Artifact.load(dada2_reqs_path)"
   ]
  },
  {
   "cell_type": "markdown",
   "id": "4f1b06d4",
   "metadata": {
    "papermill": {
     "duration": 0.024604,
     "end_time": "2023-06-07T14:34:51.451031",
     "exception": false,
     "start_time": "2023-06-07T14:34:51.426427",
     "status": "completed"
    },
    "tags": []
   },
   "source": [
    "### Execute full pipelie\n",
    "\n",
    "The entire PICRUSt2 pipeline will be run using a single method, called `picrust2.methods.full_pipeline`. This method will run each of the 4 key steps: \n",
    "\n",
    "1. sequence placement\n",
    "2. hidden-state prediction of genomes\n",
    "3. metagenome prediction\n",
    "4. pathway-level predictions.\n",
    "\n",
    "More information on [Documentation](https://github.com/picrust/picrust2/wiki/Full-pipeline-script)."
   ]
  },
  {
   "cell_type": "code",
   "execution_count": 8,
   "id": "2c4f3874",
   "metadata": {
    "ExecuteTime": {
     "end_time": "2022-11-09T19:20:47.642417Z",
     "start_time": "2022-11-09T19:20:47.612547Z"
    },
    "execution": {
     "iopub.execute_input": "2023-06-07T14:34:51.512946Z",
     "iopub.status.busy": "2023-06-07T14:34:51.512186Z",
     "iopub.status.idle": "2023-06-07T14:41:45.854266Z",
     "shell.execute_reply": "2023-06-07T14:41:45.855200Z"
    },
    "papermill": {
     "duration": 414.375893,
     "end_time": "2023-06-07T14:41:45.855478",
     "exception": false,
     "start_time": "2023-06-07T14:34:51.479585",
     "status": "completed"
    },
    "scrolled": true,
    "tags": []
   },
   "outputs": [
    {
     "name": "stderr",
     "output_type": "stream",
     "text": [
      "904 of 904 sequence ids overlap between input table and FASTA.\n",
      "\n",
      "Placing sequences onto reference tree\n",
      "place_seqs.py --study_fasta /tmp/tmpap2vcpq5/seqs.fna --ref_dir /home/lauro/anaconda3/envs/qiime2-2021.11/lib/python3.8/site-packages/picrust2/default_files/prokaryotic/pro_ref --out_tree /tmp/tmpap2vcpq5/picrust2_out/out.tre --processes 6 --intermediate /tmp/tmpap2vcpq5/picrust2_out/intermediate/place_seqs --min_align 0.8 --chunk_size 5000 --placement_tool sepp --verbose\n"
     ]
    },
    {
     "name": "stdout",
     "output_type": "stream",
     "text": [
      "\n",
      "['run_sepp.py', '--tree', '/home/lauro/anaconda3/envs/qiime2-2021.11/lib/python3.8/site-packages/picrust2/default_files/prokaryotic/pro_ref/pro_ref.tre', '--raxml', '/home/lauro/anaconda3/envs/qiime2-2021.11/lib/python3.8/site-packages/picrust2/default_files/prokaryotic/pro_ref/pro_ref.raxml_info', '--cpu', '6', '--molecule', 'dna', '--outdir', '/tmp/tmpap2vcpq5/picrust2_out/intermediate/place_seqs/sepp_out', '-seed', '297834', '--alignment', '/home/lauro/anaconda3/envs/qiime2-2021.11/lib/python3.8/site-packages/picrust2/default_files/prokaryotic/pro_ref/pro_ref.fna', '--fragment', '/tmp/tmpap2vcpq5/picrust2_out/intermediate/place_seqs/study_seqs_filtered.fasta']\n",
      "\n",
      "                                              ....      ....  \n",
      "                                             '' '||.   .||'   \n",
      "                                                  ||  ||      \n",
      "                                                  '|.|'       \n",
      "     ...'   ....   ... ...  ... ...   ....        .|'|.       \n",
      "    |  ||  '' .||   ||'  ||  ||'  || '' .||      .|'  ||      \n",
      "     |''   .|' ||   ||    |  ||    | .|' ||     .|'|.  ||     \n",
      "    '....  '|..'|'. ||...'   ||...'  '|..'|.    '||'    ||:.  \n",
      "    '....'          ||       ||                               \n",
      "                   ''''     ''''   v0.6.1 (c) 2017-2020\n",
      "                                   by Lucas Czech and Pierre Barbera\n",
      "\n",
      "Invocation:                        gappa examine graft --jplace-path /tmp/tmpap2vcpq5/picrust2_out/intermediate/place_seqs/sepp_out/output_placement.json --fully-resolve --out-dir /tmp/tmpap2vcpq5/picrust2_out/intermediate/place_seqs/sepp_out\n",
      "Command:                           gappa examine graft\n",
      "\n",
      "Input:\n",
      "  --jplace-path                    /tmp/tmpap2vcpq5/picrust2_out/intermediate/place_seqs/sepp_out/output_placement.json\n",
      "\n",
      "Settings:\n",
      "  --fully-resolve                  true\n",
      "  --name-prefix\n",
      "\n",
      "Output:\n",
      "  --out-dir                        /tmp/tmpap2vcpq5/picrust2_out/intermediate/place_seqs/sepp_out\n",
      "  --file-prefix                    \n",
      "  --file-suffix\n",
      "\n",
      "Global Options:\n",
      "  --allow-file-overwriting         false\n",
      "  --verbose                        false\n",
      "  --threads                        4\n",
      "  --log-file\n",
      "\n",
      "Run the following command to get the references that need to be cited:\n",
      "`gappa tools citation Czech2020-genesis-and-gappa`\n",
      "\n",
      "Started 2023-06-07 14:37:48\n",
      "\n",
      "Found 1 jplace file\n",
      "\n",
      "Finished 2023-06-07 14:37:48\n",
      "\n",
      "\n"
     ]
    },
    {
     "name": "stderr",
     "output_type": "stream",
     "text": [
      "hmmalign --trim --dna --mapali /home/lauro/anaconda3/envs/qiime2-2021.11/lib/python3.8/site-packages/picrust2/default_files/prokaryotic/pro_ref/pro_ref.fna --informat FASTA -o /tmp/tmpap2vcpq5/picrust2_out/intermediate/place_seqs/query_align.stockholm /home/lauro/anaconda3/envs/qiime2-2021.11/lib/python3.8/site-packages/picrust2/default_files/prokaryotic/pro_ref/pro_ref.hmm /tmp/tmpap2vcpq5/seqs.fna\n",
      "\n",
      "Warning - 1 input sequences aligned poorly to reference sequences (--min_align option specified a minimum proportion of 0.8 aligning to reference sequences). These input sequences will not be placed and will be excluded from downstream steps.\n",
      "\n",
      "This is the set of poorly aligned input sequences to be excluded: 705cd397834c14ee1aed70139311a6d8\n",
      "\n",
      "Raw input sequences ranged in length from 271 to 430\n",
      "\n",
      "run_sepp.py --tree /home/lauro/anaconda3/envs/qiime2-2021.11/lib/python3.8/site-packages/picrust2/default_files/prokaryotic/pro_ref/pro_ref.tre --raxml /home/lauro/anaconda3/envs/qiime2-2021.11/lib/python3.8/site-packages/picrust2/default_files/prokaryotic/pro_ref/pro_ref.raxml_info --cpu 6 --molecule dna --outdir /tmp/tmpap2vcpq5/picrust2_out/intermediate/place_seqs/sepp_out -seed 297834 --alignment /home/lauro/anaconda3/envs/qiime2-2021.11/lib/python3.8/site-packages/picrust2/default_files/prokaryotic/pro_ref/pro_ref.fna --fragment /tmp/tmpap2vcpq5/picrust2_out/intermediate/place_seqs/study_seqs_filtered.fasta\n",
      "[14:35:30] config.py (line 349):     INFO: Seed number: 297834\n",
      "[14:35:30] algorithm.py (line 258):     INFO: Reading input alignment: <_io.TextIOWrapper name='/home/lauro/anaconda3/envs/qiime2-2021.11/lib/python3.8/site-packages/picrust2/default_files/prokaryotic/pro_ref/pro_ref.fna' mode='r' encoding='UTF-8'>\n",
      "[14:35:30] algorithm.py (line 265):     INFO: Reading input tree: <_io.TextIOWrapper name='/home/lauro/anaconda3/envs/qiime2-2021.11/lib/python3.8/site-packages/picrust2/default_files/prokaryotic/pro_ref/pro_ref.tre' mode='r' encoding='UTF-8'>\n",
      "[14:35:32] algorithm.py (line 238):     INFO: Decomposition Sizes are set to alignment: 2000 placement: 2000\n",
      "[14:35:35] exhaustive.py (line 350):     INFO: Breaking into 16 placement subsets.\n",
      "[14:35:36] exhaustive.py (line 397):     INFO: Breaking into 16 alignment subsets.\n",
      "[14:35:36] filemgr.py (line 129):     INFO: Root temp directory built: /tmp/sepp/output.bupxu1e2\n",
      "[14:35:36] exhaustive.py (line 412):     INFO: Breaking each alignment subset into 3 fragment chunks.\n",
      "[14:35:38] jobs.py (line 131):     INFO: Finished hmmbuild Job with input: /tmp/sepp/output.bupxu1e2/root/P_5/A_5_0/hmmbuild.input.mnpmtgsj.fasta\n",
      "[14:35:38] jobs.py (line 131):     INFO: Finished hmmbuild Job with input: /tmp/sepp/output.bupxu1e2/root/P_3/A_3_0/hmmbuild.input.0ddbsijp.fasta\n",
      "[14:35:38] jobs.py (line 131):     INFO: Finished hmmbuild Job with input: /tmp/sepp/output.bupxu1e2/root/P_4/A_4_0/hmmbuild.input.tkcd_qpi.fasta\n",
      "[14:35:38] jobs.py (line 131):     INFO: Finished hmmbuild Job with input: /tmp/sepp/output.bupxu1e2/root/P_0/A_0_0/hmmbuild.input.rfjgugyp.fasta\n",
      "[14:35:38] jobs.py (line 131):     INFO: Finished hmmbuild Job with input: /tmp/sepp/output.bupxu1e2/root/P_1/A_1_0/hmmbuild.input._olvjjyo.fasta\n",
      "[14:35:38] jobs.py (line 131):     INFO: Finished hmmbuild Job with input: /tmp/sepp/output.bupxu1e2/root/P_2/A_2_0/hmmbuild.input.28isb_wp.fasta\n",
      "[14:35:39] jobs.py (line 131):     INFO: Finished hmmbuild Job with input: /tmp/sepp/output.bupxu1e2/root/P_6/A_6_0/hmmbuild.input.i_ox3uv5.fasta\n",
      "[14:35:39] jobs.py (line 131):     INFO: Finished hmmbuild Job with input: /tmp/sepp/output.bupxu1e2/root/P_10/A_10_0/hmmbuild.input.x6422348.fasta\n",
      "[14:35:39] jobs.py (line 131):     INFO: Finished hmmbuild Job with input: /tmp/sepp/output.bupxu1e2/root/P_7/A_7_0/hmmbuild.input.l2fi_l4e.fasta\n",
      "[14:35:39] jobs.py (line 131):     INFO: Finished hmmbuild Job with input: /tmp/sepp/output.bupxu1e2/root/P_11/A_11_0/hmmbuild.input.zx8ogp89.fasta\n",
      "[14:35:39] jobs.py (line 131):     INFO: Finished hmmbuild Job with input: /tmp/sepp/output.bupxu1e2/root/P_8/A_8_0/hmmbuild.input.lzpb0xsz.fasta\n",
      "[14:35:39] jobs.py (line 131):     INFO: Finished hmmbuild Job with input: /tmp/sepp/output.bupxu1e2/root/P_9/A_9_0/hmmbuild.input.mh31umkc.fasta\n",
      "[14:35:39] jobs.py (line 131):     INFO: Finished hmmbuild Job with input: /tmp/sepp/output.bupxu1e2/root/P_13/A_13_0/hmmbuild.input.3sganvl8.fasta\n",
      "[14:35:39] jobs.py (line 131):     INFO: Finished hmmbuild Job with input: /tmp/sepp/output.bupxu1e2/root/P_14/A_14_0/hmmbuild.input.hpotrvyu.fasta\n",
      "[14:35:40] jobs.py (line 131):     INFO: Finished hmmbuild Job with input: /tmp/sepp/output.bupxu1e2/root/P_12/A_12_0/hmmbuild.input.mx481d2v.fasta\n",
      "[14:35:40] jobs.py (line 131):     INFO: Finished hmmbuild Job with input: /tmp/sepp/output.bupxu1e2/root/P_15/A_15_0/hmmbuild.input.8intdjjw.fasta\n",
      "[14:35:43] jobs.py (line 131):     INFO: Finished hmmsearch Job with input: model:/tmp/sepp/output.bupxu1e2/root/P_5/A_5_0/hmmbuild.model.pubsgqjp, fragments:/tmp/sepp/output.bupxu1e2/fragment_chunks/fragment_chunk_08kc0jsp_.fasta, elim:99999999, filter:False, output:/tmp/sepp/output.bupxu1e2/root/P_5/A_5_0/FC_5_0_0/hmmsearch.results.5lirxn2e\n",
      "[14:35:43] jobs.py (line 131):     INFO: Finished hmmsearch Job with input: model:/tmp/sepp/output.bupxu1e2/root/P_5/A_5_0/hmmbuild.model.pubsgqjp, fragments:/tmp/sepp/output.bupxu1e2/fragment_chunks/fragment_chunk_230uk9pe3.fasta, elim:99999999, filter:False, output:/tmp/sepp/output.bupxu1e2/root/P_5/A_5_0/FC_5_0_2/hmmsearch.results.9chhqqnu\n",
      "[14:35:46] jobs.py (line 131):     INFO: Finished hmmsearch Job with input: model:/tmp/sepp/output.bupxu1e2/root/P_5/A_5_0/hmmbuild.model.pubsgqjp, fragments:/tmp/sepp/output.bupxu1e2/fragment_chunks/fragment_chunk_1xna2l44a.fasta, elim:99999999, filter:False, output:/tmp/sepp/output.bupxu1e2/root/P_5/A_5_0/FC_5_0_1/hmmsearch.results.dape2y99\n",
      "[14:35:46] jobs.py (line 131):     INFO: Finished hmmsearch Job with input: model:/tmp/sepp/output.bupxu1e2/root/P_3/A_3_0/hmmbuild.model.1f1kjj7p, fragments:/tmp/sepp/output.bupxu1e2/fragment_chunks/fragment_chunk_08kc0jsp_.fasta, elim:99999999, filter:False, output:/tmp/sepp/output.bupxu1e2/root/P_3/A_3_0/FC_3_0_0/hmmsearch.results.alkjm1do\n",
      "[14:35:46] jobs.py (line 131):     INFO: Finished hmmsearch Job with input: model:/tmp/sepp/output.bupxu1e2/root/P_3/A_3_0/hmmbuild.model.1f1kjj7p, fragments:/tmp/sepp/output.bupxu1e2/fragment_chunks/fragment_chunk_1xna2l44a.fasta, elim:99999999, filter:False, output:/tmp/sepp/output.bupxu1e2/root/P_3/A_3_0/FC_3_0_1/hmmsearch.results.ev58j5uq\n",
      "[14:35:47] jobs.py (line 131):     INFO: Finished hmmsearch Job with input: model:/tmp/sepp/output.bupxu1e2/root/P_3/A_3_0/hmmbuild.model.1f1kjj7p, fragments:/tmp/sepp/output.bupxu1e2/fragment_chunks/fragment_chunk_230uk9pe3.fasta, elim:99999999, filter:False, output:/tmp/sepp/output.bupxu1e2/root/P_3/A_3_0/FC_3_0_2/hmmsearch.results.e_zz8_yu\n",
      "[14:35:47] jobs.py (line 131):     INFO: Finished hmmsearch Job with input: model:/tmp/sepp/output.bupxu1e2/root/P_4/A_4_0/hmmbuild.model.xfkfq_91, fragments:/tmp/sepp/output.bupxu1e2/fragment_chunks/fragment_chunk_08kc0jsp_.fasta, elim:99999999, filter:False, output:/tmp/sepp/output.bupxu1e2/root/P_4/A_4_0/FC_4_0_0/hmmsearch.results.5enz625b\n",
      "[14:35:48] jobs.py (line 131):     INFO: Finished hmmsearch Job with input: model:/tmp/sepp/output.bupxu1e2/root/P_4/A_4_0/hmmbuild.model.xfkfq_91, fragments:/tmp/sepp/output.bupxu1e2/fragment_chunks/fragment_chunk_1xna2l44a.fasta, elim:99999999, filter:False, output:/tmp/sepp/output.bupxu1e2/root/P_4/A_4_0/FC_4_0_1/hmmsearch.results.97bu150n\n",
      "[14:35:51] jobs.py (line 131):     INFO: Finished hmmsearch Job with input: model:/tmp/sepp/output.bupxu1e2/root/P_0/A_0_0/hmmbuild.model.dzc9lqr5, fragments:/tmp/sepp/output.bupxu1e2/fragment_chunks/fragment_chunk_1xna2l44a.fasta, elim:99999999, filter:False, output:/tmp/sepp/output.bupxu1e2/root/P_0/A_0_0/FC_0_0_1/hmmsearch.results.djq6mxym\n",
      "[14:35:51] jobs.py (line 131):     INFO: Finished hmmsearch Job with input: model:/tmp/sepp/output.bupxu1e2/root/P_0/A_0_0/hmmbuild.model.dzc9lqr5, fragments:/tmp/sepp/output.bupxu1e2/fragment_chunks/fragment_chunk_08kc0jsp_.fasta, elim:99999999, filter:False, output:/tmp/sepp/output.bupxu1e2/root/P_0/A_0_0/FC_0_0_0/hmmsearch.results.q63gqakc\n",
      "[14:35:52] jobs.py (line 131):     INFO: Finished hmmsearch Job with input: model:/tmp/sepp/output.bupxu1e2/root/P_4/A_4_0/hmmbuild.model.xfkfq_91, fragments:/tmp/sepp/output.bupxu1e2/fragment_chunks/fragment_chunk_230uk9pe3.fasta, elim:99999999, filter:False, output:/tmp/sepp/output.bupxu1e2/root/P_4/A_4_0/FC_4_0_2/hmmsearch.results.vkl11q8d\n",
      "[14:35:52] jobs.py (line 131):     INFO: Finished hmmsearch Job with input: model:/tmp/sepp/output.bupxu1e2/root/P_0/A_0_0/hmmbuild.model.dzc9lqr5, fragments:/tmp/sepp/output.bupxu1e2/fragment_chunks/fragment_chunk_230uk9pe3.fasta, elim:99999999, filter:False, output:/tmp/sepp/output.bupxu1e2/root/P_0/A_0_0/FC_0_0_2/hmmsearch.results.te_1u_bk\n",
      "[14:35:53] jobs.py (line 131):     INFO: Finished hmmsearch Job with input: model:/tmp/sepp/output.bupxu1e2/root/P_1/A_1_0/hmmbuild.model.y2pszr0f, fragments:/tmp/sepp/output.bupxu1e2/fragment_chunks/fragment_chunk_08kc0jsp_.fasta, elim:99999999, filter:False, output:/tmp/sepp/output.bupxu1e2/root/P_1/A_1_0/FC_1_0_0/hmmsearch.results.zmk4imx1\n",
      "[14:35:55] jobs.py (line 131):     INFO: Finished hmmsearch Job with input: model:/tmp/sepp/output.bupxu1e2/root/P_1/A_1_0/hmmbuild.model.y2pszr0f, fragments:/tmp/sepp/output.bupxu1e2/fragment_chunks/fragment_chunk_1xna2l44a.fasta, elim:99999999, filter:False, output:/tmp/sepp/output.bupxu1e2/root/P_1/A_1_0/FC_1_0_1/hmmsearch.results.oqlmliu8\n",
      "[14:35:56] jobs.py (line 131):     INFO: Finished hmmsearch Job with input: model:/tmp/sepp/output.bupxu1e2/root/P_1/A_1_0/hmmbuild.model.y2pszr0f, fragments:/tmp/sepp/output.bupxu1e2/fragment_chunks/fragment_chunk_230uk9pe3.fasta, elim:99999999, filter:False, output:/tmp/sepp/output.bupxu1e2/root/P_1/A_1_0/FC_1_0_2/hmmsearch.results.pqq8tba8\n",
      "[14:35:57] jobs.py (line 131):     INFO: Finished hmmsearch Job with input: model:/tmp/sepp/output.bupxu1e2/root/P_2/A_2_0/hmmbuild.model.lzygj8u5, fragments:/tmp/sepp/output.bupxu1e2/fragment_chunks/fragment_chunk_1xna2l44a.fasta, elim:99999999, filter:False, output:/tmp/sepp/output.bupxu1e2/root/P_2/A_2_0/FC_2_0_1/hmmsearch.results.6iik7j42\n",
      "[14:35:57] jobs.py (line 131):     INFO: Finished hmmsearch Job with input: model:/tmp/sepp/output.bupxu1e2/root/P_2/A_2_0/hmmbuild.model.lzygj8u5, fragments:/tmp/sepp/output.bupxu1e2/fragment_chunks/fragment_chunk_08kc0jsp_.fasta, elim:99999999, filter:False, output:/tmp/sepp/output.bupxu1e2/root/P_2/A_2_0/FC_2_0_0/hmmsearch.results.ylgxmewb\n",
      "[14:35:59] jobs.py (line 131):     INFO: Finished hmmsearch Job with input: model:/tmp/sepp/output.bupxu1e2/root/P_2/A_2_0/hmmbuild.model.lzygj8u5, fragments:/tmp/sepp/output.bupxu1e2/fragment_chunks/fragment_chunk_230uk9pe3.fasta, elim:99999999, filter:False, output:/tmp/sepp/output.bupxu1e2/root/P_2/A_2_0/FC_2_0_2/hmmsearch.results.bgt7rbjb\n",
      "[14:36:00] jobs.py (line 131):     INFO: Finished hmmsearch Job with input: model:/tmp/sepp/output.bupxu1e2/root/P_6/A_6_0/hmmbuild.model.2fup_zz4, fragments:/tmp/sepp/output.bupxu1e2/fragment_chunks/fragment_chunk_08kc0jsp_.fasta, elim:99999999, filter:False, output:/tmp/sepp/output.bupxu1e2/root/P_6/A_6_0/FC_6_0_0/hmmsearch.results.xjtn9h3_\n",
      "[14:36:01] jobs.py (line 131):     INFO: Finished hmmsearch Job with input: model:/tmp/sepp/output.bupxu1e2/root/P_6/A_6_0/hmmbuild.model.2fup_zz4, fragments:/tmp/sepp/output.bupxu1e2/fragment_chunks/fragment_chunk_1xna2l44a.fasta, elim:99999999, filter:False, output:/tmp/sepp/output.bupxu1e2/root/P_6/A_6_0/FC_6_0_1/hmmsearch.results.azdd8758\n",
      "[14:36:01] jobs.py (line 131):     INFO: Finished hmmsearch Job with input: model:/tmp/sepp/output.bupxu1e2/root/P_6/A_6_0/hmmbuild.model.2fup_zz4, fragments:/tmp/sepp/output.bupxu1e2/fragment_chunks/fragment_chunk_230uk9pe3.fasta, elim:99999999, filter:False, output:/tmp/sepp/output.bupxu1e2/root/P_6/A_6_0/FC_6_0_2/hmmsearch.results.ryfi1grx\n",
      "[14:36:02] jobs.py (line 131):     INFO: Finished hmmsearch Job with input: model:/tmp/sepp/output.bupxu1e2/root/P_10/A_10_0/hmmbuild.model.i11pizb2, fragments:/tmp/sepp/output.bupxu1e2/fragment_chunks/fragment_chunk_1xna2l44a.fasta, elim:99999999, filter:False, output:/tmp/sepp/output.bupxu1e2/root/P_10/A_10_0/FC_10_0_1/hmmsearch.results.eu8ijz2e\n",
      "[14:36:03] jobs.py (line 131):     INFO: Finished hmmsearch Job with input: model:/tmp/sepp/output.bupxu1e2/root/P_10/A_10_0/hmmbuild.model.i11pizb2, fragments:/tmp/sepp/output.bupxu1e2/fragment_chunks/fragment_chunk_08kc0jsp_.fasta, elim:99999999, filter:False, output:/tmp/sepp/output.bupxu1e2/root/P_10/A_10_0/FC_10_0_0/hmmsearch.results.w147ee6x\n",
      "[14:36:04] jobs.py (line 131):     INFO: Finished hmmsearch Job with input: model:/tmp/sepp/output.bupxu1e2/root/P_10/A_10_0/hmmbuild.model.i11pizb2, fragments:/tmp/sepp/output.bupxu1e2/fragment_chunks/fragment_chunk_230uk9pe3.fasta, elim:99999999, filter:False, output:/tmp/sepp/output.bupxu1e2/root/P_10/A_10_0/FC_10_0_2/hmmsearch.results.tsp8od0v\n",
      "[14:36:05] jobs.py (line 131):     INFO: Finished hmmsearch Job with input: model:/tmp/sepp/output.bupxu1e2/root/P_7/A_7_0/hmmbuild.model.yx9i29z2, fragments:/tmp/sepp/output.bupxu1e2/fragment_chunks/fragment_chunk_08kc0jsp_.fasta, elim:99999999, filter:False, output:/tmp/sepp/output.bupxu1e2/root/P_7/A_7_0/FC_7_0_0/hmmsearch.results.p7q7dlc3\n",
      "[14:36:06] jobs.py (line 131):     INFO: Finished hmmsearch Job with input: model:/tmp/sepp/output.bupxu1e2/root/P_7/A_7_0/hmmbuild.model.yx9i29z2, fragments:/tmp/sepp/output.bupxu1e2/fragment_chunks/fragment_chunk_1xna2l44a.fasta, elim:99999999, filter:False, output:/tmp/sepp/output.bupxu1e2/root/P_7/A_7_0/FC_7_0_1/hmmsearch.results.b6c3bg86\n",
      "[14:36:08] jobs.py (line 131):     INFO: Finished hmmsearch Job with input: model:/tmp/sepp/output.bupxu1e2/root/P_11/A_11_0/hmmbuild.model.5sap14cn, fragments:/tmp/sepp/output.bupxu1e2/fragment_chunks/fragment_chunk_08kc0jsp_.fasta, elim:99999999, filter:False, output:/tmp/sepp/output.bupxu1e2/root/P_11/A_11_0/FC_11_0_0/hmmsearch.results.g2pa3578\n",
      "[14:36:08] jobs.py (line 131):     INFO: Finished hmmsearch Job with input: model:/tmp/sepp/output.bupxu1e2/root/P_7/A_7_0/hmmbuild.model.yx9i29z2, fragments:/tmp/sepp/output.bupxu1e2/fragment_chunks/fragment_chunk_230uk9pe3.fasta, elim:99999999, filter:False, output:/tmp/sepp/output.bupxu1e2/root/P_7/A_7_0/FC_7_0_2/hmmsearch.results.8oo750ae\n",
      "[14:36:09] jobs.py (line 131):     INFO: Finished hmmsearch Job with input: model:/tmp/sepp/output.bupxu1e2/root/P_11/A_11_0/hmmbuild.model.5sap14cn, fragments:/tmp/sepp/output.bupxu1e2/fragment_chunks/fragment_chunk_1xna2l44a.fasta, elim:99999999, filter:False, output:/tmp/sepp/output.bupxu1e2/root/P_11/A_11_0/FC_11_0_1/hmmsearch.results.xb3ex3zf\n",
      "[14:36:10] jobs.py (line 131):     INFO: Finished hmmsearch Job with input: model:/tmp/sepp/output.bupxu1e2/root/P_11/A_11_0/hmmbuild.model.5sap14cn, fragments:/tmp/sepp/output.bupxu1e2/fragment_chunks/fragment_chunk_230uk9pe3.fasta, elim:99999999, filter:False, output:/tmp/sepp/output.bupxu1e2/root/P_11/A_11_0/FC_11_0_2/hmmsearch.results.t3akgy_e\n",
      "[14:36:11] jobs.py (line 131):     INFO: Finished hmmsearch Job with input: model:/tmp/sepp/output.bupxu1e2/root/P_8/A_8_0/hmmbuild.model.qqjh5lke, fragments:/tmp/sepp/output.bupxu1e2/fragment_chunks/fragment_chunk_1xna2l44a.fasta, elim:99999999, filter:False, output:/tmp/sepp/output.bupxu1e2/root/P_8/A_8_0/FC_8_0_1/hmmsearch.results.iwxbi0cx\n",
      "[14:36:11] jobs.py (line 131):     INFO: Finished hmmsearch Job with input: model:/tmp/sepp/output.bupxu1e2/root/P_8/A_8_0/hmmbuild.model.qqjh5lke, fragments:/tmp/sepp/output.bupxu1e2/fragment_chunks/fragment_chunk_08kc0jsp_.fasta, elim:99999999, filter:False, output:/tmp/sepp/output.bupxu1e2/root/P_8/A_8_0/FC_8_0_0/hmmsearch.results.csleel12\n",
      "[14:36:13] jobs.py (line 131):     INFO: Finished hmmsearch Job with input: model:/tmp/sepp/output.bupxu1e2/root/P_9/A_9_0/hmmbuild.model.7d_8b5il, fragments:/tmp/sepp/output.bupxu1e2/fragment_chunks/fragment_chunk_1xna2l44a.fasta, elim:99999999, filter:False, output:/tmp/sepp/output.bupxu1e2/root/P_9/A_9_0/FC_9_0_1/hmmsearch.results.ynocxyn9\n",
      "[14:36:14] jobs.py (line 131):     INFO: Finished hmmsearch Job with input: model:/tmp/sepp/output.bupxu1e2/root/P_8/A_8_0/hmmbuild.model.qqjh5lke, fragments:/tmp/sepp/output.bupxu1e2/fragment_chunks/fragment_chunk_230uk9pe3.fasta, elim:99999999, filter:False, output:/tmp/sepp/output.bupxu1e2/root/P_8/A_8_0/FC_8_0_2/hmmsearch.results.kdv6blr1\n",
      "[14:36:15] jobs.py (line 131):     INFO: Finished hmmsearch Job with input: model:/tmp/sepp/output.bupxu1e2/root/P_9/A_9_0/hmmbuild.model.7d_8b5il, fragments:/tmp/sepp/output.bupxu1e2/fragment_chunks/fragment_chunk_08kc0jsp_.fasta, elim:99999999, filter:False, output:/tmp/sepp/output.bupxu1e2/root/P_9/A_9_0/FC_9_0_0/hmmsearch.results.dq39p8ko\n",
      "[14:36:15] jobs.py (line 131):     INFO: Finished hmmsearch Job with input: model:/tmp/sepp/output.bupxu1e2/root/P_9/A_9_0/hmmbuild.model.7d_8b5il, fragments:/tmp/sepp/output.bupxu1e2/fragment_chunks/fragment_chunk_230uk9pe3.fasta, elim:99999999, filter:False, output:/tmp/sepp/output.bupxu1e2/root/P_9/A_9_0/FC_9_0_2/hmmsearch.results.j9col6di\n",
      "[14:36:17] jobs.py (line 131):     INFO: Finished hmmsearch Job with input: model:/tmp/sepp/output.bupxu1e2/root/P_13/A_13_0/hmmbuild.model.ygkvg_go, fragments:/tmp/sepp/output.bupxu1e2/fragment_chunks/fragment_chunk_08kc0jsp_.fasta, elim:99999999, filter:False, output:/tmp/sepp/output.bupxu1e2/root/P_13/A_13_0/FC_13_0_0/hmmsearch.results.qsjg0430\n",
      "[14:36:18] jobs.py (line 131):     INFO: Finished hmmsearch Job with input: model:/tmp/sepp/output.bupxu1e2/root/P_13/A_13_0/hmmbuild.model.ygkvg_go, fragments:/tmp/sepp/output.bupxu1e2/fragment_chunks/fragment_chunk_1xna2l44a.fasta, elim:99999999, filter:False, output:/tmp/sepp/output.bupxu1e2/root/P_13/A_13_0/FC_13_0_1/hmmsearch.results.7hrx8di0\n",
      "[14:36:19] jobs.py (line 131):     INFO: Finished hmmsearch Job with input: model:/tmp/sepp/output.bupxu1e2/root/P_14/A_14_0/hmmbuild.model.yh27h47b, fragments:/tmp/sepp/output.bupxu1e2/fragment_chunks/fragment_chunk_1xna2l44a.fasta, elim:99999999, filter:False, output:/tmp/sepp/output.bupxu1e2/root/P_14/A_14_0/FC_14_0_1/hmmsearch.results.wmjzt9dl\n",
      "[14:36:19] jobs.py (line 131):     INFO: Finished hmmsearch Job with input: model:/tmp/sepp/output.bupxu1e2/root/P_14/A_14_0/hmmbuild.model.yh27h47b, fragments:/tmp/sepp/output.bupxu1e2/fragment_chunks/fragment_chunk_230uk9pe3.fasta, elim:99999999, filter:False, output:/tmp/sepp/output.bupxu1e2/root/P_14/A_14_0/FC_14_0_2/hmmsearch.results.12cfc38x\n",
      "[14:36:20] jobs.py (line 131):     INFO: Finished hmmsearch Job with input: model:/tmp/sepp/output.bupxu1e2/root/P_13/A_13_0/hmmbuild.model.ygkvg_go, fragments:/tmp/sepp/output.bupxu1e2/fragment_chunks/fragment_chunk_230uk9pe3.fasta, elim:99999999, filter:False, output:/tmp/sepp/output.bupxu1e2/root/P_13/A_13_0/FC_13_0_2/hmmsearch.results.qowf7cj7\n",
      "[14:36:21] jobs.py (line 131):     INFO: Finished hmmsearch Job with input: model:/tmp/sepp/output.bupxu1e2/root/P_14/A_14_0/hmmbuild.model.yh27h47b, fragments:/tmp/sepp/output.bupxu1e2/fragment_chunks/fragment_chunk_08kc0jsp_.fasta, elim:99999999, filter:False, output:/tmp/sepp/output.bupxu1e2/root/P_14/A_14_0/FC_14_0_0/hmmsearch.results.bwv4h2li\n",
      "[14:36:23] jobs.py (line 131):     INFO: Finished hmmsearch Job with input: model:/tmp/sepp/output.bupxu1e2/root/P_12/A_12_0/hmmbuild.model.dr6xzl9x, fragments:/tmp/sepp/output.bupxu1e2/fragment_chunks/fragment_chunk_08kc0jsp_.fasta, elim:99999999, filter:False, output:/tmp/sepp/output.bupxu1e2/root/P_12/A_12_0/FC_12_0_0/hmmsearch.results.rjhh2agi\n",
      "[14:36:24] jobs.py (line 131):     INFO: Finished hmmsearch Job with input: model:/tmp/sepp/output.bupxu1e2/root/P_15/A_15_0/hmmbuild.model.y59aia76, fragments:/tmp/sepp/output.bupxu1e2/fragment_chunks/fragment_chunk_08kc0jsp_.fasta, elim:99999999, filter:False, output:/tmp/sepp/output.bupxu1e2/root/P_15/A_15_0/FC_15_0_0/hmmsearch.results.226ymggf\n",
      "[14:36:24] jobs.py (line 131):     INFO: Finished hmmsearch Job with input: model:/tmp/sepp/output.bupxu1e2/root/P_12/A_12_0/hmmbuild.model.dr6xzl9x, fragments:/tmp/sepp/output.bupxu1e2/fragment_chunks/fragment_chunk_1xna2l44a.fasta, elim:99999999, filter:False, output:/tmp/sepp/output.bupxu1e2/root/P_12/A_12_0/FC_12_0_1/hmmsearch.results.2jw_lndm\n",
      "[14:36:25] jobs.py (line 131):     INFO: Finished hmmsearch Job with input: model:/tmp/sepp/output.bupxu1e2/root/P_15/A_15_0/hmmbuild.model.y59aia76, fragments:/tmp/sepp/output.bupxu1e2/fragment_chunks/fragment_chunk_1xna2l44a.fasta, elim:99999999, filter:False, output:/tmp/sepp/output.bupxu1e2/root/P_15/A_15_0/FC_15_0_1/hmmsearch.results.ph7rk4fa\n",
      "[14:36:25] jobs.py (line 131):     INFO: Finished hmmsearch Job with input: model:/tmp/sepp/output.bupxu1e2/root/P_12/A_12_0/hmmbuild.model.dr6xzl9x, fragments:/tmp/sepp/output.bupxu1e2/fragment_chunks/fragment_chunk_230uk9pe3.fasta, elim:99999999, filter:False, output:/tmp/sepp/output.bupxu1e2/root/P_12/A_12_0/FC_12_0_2/hmmsearch.results.kfnjknqp\n",
      "[14:36:26] jobs.py (line 131):     INFO: Finished hmmsearch Job with input: model:/tmp/sepp/output.bupxu1e2/root/P_15/A_15_0/hmmbuild.model.y59aia76, fragments:/tmp/sepp/output.bupxu1e2/fragment_chunks/fragment_chunk_230uk9pe3.fasta, elim:99999999, filter:False, output:/tmp/sepp/output.bupxu1e2/root/P_15/A_15_0/FC_15_0_2/hmmsearch.results.1cl5vdk4\n",
      "[14:36:26] exhaustive.py (line 80):  WARNING: Fragments [] are not scored against any subset\n",
      "[14:36:26] exhaustive.py (line 151):     INFO: Merging sub-alignments for placement problem : P_0.\n",
      "[14:36:26] jobs.py (line 131):     INFO: Finished hmmalign Job with input: model:/tmp/sepp/output.bupxu1e2/root/P_1/A_1_0/hmmbuild.model.y2pszr0f, fragments:/tmp/sepp/output.bupxu1e2/root/P_1/A_1_0/FC_1_0_2/hmmalign.frag.wooz1wl5.fasta, trim:False, base_alignment:/tmp/sepp/output.bupxu1e2/root/P_1/A_1_0/hmmbuild.input._olvjjyo.fasta\n",
      "[14:36:26] jobs.py (line 131):     INFO: Finished hmmalign Job with input: model:/tmp/sepp/output.bupxu1e2/root/P_1/A_1_0/hmmbuild.model.y2pszr0f, fragments:/tmp/sepp/output.bupxu1e2/root/P_1/A_1_0/FC_1_0_1/hmmalign.frag.agsjqpv6.fasta, trim:False, base_alignment:/tmp/sepp/output.bupxu1e2/root/P_1/A_1_0/hmmbuild.input._olvjjyo.fasta\n",
      "[14:36:26] jobs.py (line 131):     INFO: Finished hmmalign Job with input: model:/tmp/sepp/output.bupxu1e2/root/P_5/A_5_0/hmmbuild.model.pubsgqjp, fragments:/tmp/sepp/output.bupxu1e2/root/P_5/A_5_0/FC_5_0_2/hmmalign.frag.63lkfx_6.fasta, trim:False, base_alignment:/tmp/sepp/output.bupxu1e2/root/P_5/A_5_0/hmmbuild.input.mnpmtgsj.fasta\n",
      "[14:36:26] jobs.py (line 131):     INFO: Finished hmmalign Job with input: model:/tmp/sepp/output.bupxu1e2/root/P_1/A_1_0/hmmbuild.model.y2pszr0f, fragments:/tmp/sepp/output.bupxu1e2/root/P_1/A_1_0/FC_1_0_0/hmmalign.frag.h6m8mpua.fasta, trim:False, base_alignment:/tmp/sepp/output.bupxu1e2/root/P_1/A_1_0/hmmbuild.input._olvjjyo.fasta\n",
      "[14:36:26] jobs.py (line 131):     INFO: Finished hmmalign Job with input: model:/tmp/sepp/output.bupxu1e2/root/P_5/A_5_0/hmmbuild.model.pubsgqjp, fragments:/tmp/sepp/output.bupxu1e2/root/P_5/A_5_0/FC_5_0_1/hmmalign.frag.i0_mhxzx.fasta, trim:False, base_alignment:/tmp/sepp/output.bupxu1e2/root/P_5/A_5_0/hmmbuild.input.mnpmtgsj.fasta\n",
      "[14:36:26] jobs.py (line 131):     INFO: Finished hmmalign Job with input: model:/tmp/sepp/output.bupxu1e2/root/P_5/A_5_0/hmmbuild.model.pubsgqjp, fragments:/tmp/sepp/output.bupxu1e2/root/P_5/A_5_0/FC_5_0_0/hmmalign.frag.92odj2dv.fasta, trim:False, base_alignment:/tmp/sepp/output.bupxu1e2/root/P_5/A_5_0/hmmbuild.input.mnpmtgsj.fasta\n",
      "[14:36:26] exhaustive.py (line 151):     INFO: Merging sub-alignments for placement problem : P_2.\n",
      "[14:36:26] jobs.py (line 131):     INFO: Finished hmmalign Job with input: model:/tmp/sepp/output.bupxu1e2/root/P_6/A_6_0/hmmbuild.model.2fup_zz4, fragments:/tmp/sepp/output.bupxu1e2/root/P_6/A_6_0/FC_6_0_0/hmmalign.frag.jhkzt0ff.fasta, trim:False, base_alignment:/tmp/sepp/output.bupxu1e2/root/P_6/A_6_0/hmmbuild.input.i_ox3uv5.fasta\n",
      "[14:36:26] jobs.py (line 131):     INFO: Finished hmmalign Job with input: model:/tmp/sepp/output.bupxu1e2/root/P_6/A_6_0/hmmbuild.model.2fup_zz4, fragments:/tmp/sepp/output.bupxu1e2/root/P_6/A_6_0/FC_6_0_1/hmmalign.frag.93f_m9bi.fasta, trim:False, base_alignment:/tmp/sepp/output.bupxu1e2/root/P_6/A_6_0/hmmbuild.input.i_ox3uv5.fasta\n",
      "[14:36:26] jobs.py (line 131):     INFO: Finished hmmalign Job with input: model:/tmp/sepp/output.bupxu1e2/root/P_6/A_6_0/hmmbuild.model.2fup_zz4, fragments:/tmp/sepp/output.bupxu1e2/root/P_6/A_6_0/FC_6_0_2/hmmalign.frag.b65cyvmw.fasta, trim:False, base_alignment:/tmp/sepp/output.bupxu1e2/root/P_6/A_6_0/hmmbuild.input.i_ox3uv5.fasta\n",
      "[14:36:26] exhaustive.py (line 151):     INFO: Merging sub-alignments for placement problem : P_3.\n",
      "[14:36:26] jobs.py (line 131):     INFO: Finished hmmalign Job with input: model:/tmp/sepp/output.bupxu1e2/root/P_7/A_7_0/hmmbuild.model.yx9i29z2, fragments:/tmp/sepp/output.bupxu1e2/root/P_7/A_7_0/FC_7_0_2/hmmalign.frag.p6qt6ytb.fasta, trim:False, base_alignment:/tmp/sepp/output.bupxu1e2/root/P_7/A_7_0/hmmbuild.input.l2fi_l4e.fasta\n",
      "[14:36:26] jobs.py (line 131):     INFO: Finished hmmalign Job with input: model:/tmp/sepp/output.bupxu1e2/root/P_7/A_7_0/hmmbuild.model.yx9i29z2, fragments:/tmp/sepp/output.bupxu1e2/root/P_7/A_7_0/FC_7_0_1/hmmalign.frag.12qcxq2s.fasta, trim:False, base_alignment:/tmp/sepp/output.bupxu1e2/root/P_7/A_7_0/hmmbuild.input.l2fi_l4e.fasta\n",
      "[14:36:26] jobs.py (line 131):     INFO: Finished hmmalign Job with input: model:/tmp/sepp/output.bupxu1e2/root/P_8/A_8_0/hmmbuild.model.qqjh5lke, fragments:/tmp/sepp/output.bupxu1e2/root/P_8/A_8_0/FC_8_0_2/hmmalign.frag.yv51syd6.fasta, trim:False, base_alignment:/tmp/sepp/output.bupxu1e2/root/P_8/A_8_0/hmmbuild.input.lzpb0xsz.fasta\n",
      "[14:36:26] jobs.py (line 131):     INFO: Finished hmmalign Job with input: model:/tmp/sepp/output.bupxu1e2/root/P_7/A_7_0/hmmbuild.model.yx9i29z2, fragments:/tmp/sepp/output.bupxu1e2/root/P_7/A_7_0/FC_7_0_0/hmmalign.frag.xdvtgpt_.fasta, trim:False, base_alignment:/tmp/sepp/output.bupxu1e2/root/P_7/A_7_0/hmmbuild.input.l2fi_l4e.fasta\n",
      "[14:36:26] jobs.py (line 131):     INFO: Finished hmmalign Job with input: model:/tmp/sepp/output.bupxu1e2/root/P_8/A_8_0/hmmbuild.model.qqjh5lke, fragments:/tmp/sepp/output.bupxu1e2/root/P_8/A_8_0/FC_8_0_0/hmmalign.frag.xicwi5w6.fasta, trim:False, base_alignment:/tmp/sepp/output.bupxu1e2/root/P_8/A_8_0/hmmbuild.input.lzpb0xsz.fasta\n",
      "[14:36:26] jobs.py (line 131):     INFO: Finished hmmalign Job with input: model:/tmp/sepp/output.bupxu1e2/root/P_8/A_8_0/hmmbuild.model.qqjh5lke, fragments:/tmp/sepp/output.bupxu1e2/root/P_8/A_8_0/FC_8_0_1/hmmalign.frag.9rnpz6y4.fasta, trim:False, base_alignment:/tmp/sepp/output.bupxu1e2/root/P_8/A_8_0/hmmbuild.input.lzpb0xsz.fasta\n",
      "[14:36:26] exhaustive.py (line 151):     INFO: Merging sub-alignments for placement problem : P_4.\n",
      "[14:36:26] exhaustive.py (line 151):     INFO: Merging sub-alignments for placement problem : P_1.\n",
      "[14:36:26] alignment.py (line 556):     INFO: Merging extension sto file (/tmp/sepp/output.bupxu1e2/root/P_1/A_1_0/FC_1_0_0/hmmalign.results._44fhl09) into base alignment (/tmp/sepp/output.bupxu1e2/root/P_1/A_1_0/hmmbuild.input._olvjjyo.fasta).\n",
      "[14:36:26] jobs.py (line 131):     INFO: Finished hmmalign Job with input: model:/tmp/sepp/output.bupxu1e2/root/P_10/A_10_0/hmmbuild.model.i11pizb2, fragments:/tmp/sepp/output.bupxu1e2/root/P_10/A_10_0/FC_10_0_2/hmmalign.frag.1_c_ejpg.fasta, trim:False, base_alignment:/tmp/sepp/output.bupxu1e2/root/P_10/A_10_0/hmmbuild.input.x6422348.fasta\n",
      "[14:36:26] jobs.py (line 131):     INFO: Finished hmmalign Job with input: model:/tmp/sepp/output.bupxu1e2/root/P_10/A_10_0/hmmbuild.model.i11pizb2, fragments:/tmp/sepp/output.bupxu1e2/root/P_10/A_10_0/FC_10_0_0/hmmalign.frag.x1dkmt9x.fasta, trim:False, base_alignment:/tmp/sepp/output.bupxu1e2/root/P_10/A_10_0/hmmbuild.input.x6422348.fasta\n",
      "[14:36:26] jobs.py (line 131):     INFO: Finished hmmalign Job with input: model:/tmp/sepp/output.bupxu1e2/root/P_10/A_10_0/hmmbuild.model.i11pizb2, fragments:/tmp/sepp/output.bupxu1e2/root/P_10/A_10_0/FC_10_0_1/hmmalign.frag.vybq6ob6.fasta, trim:False, base_alignment:/tmp/sepp/output.bupxu1e2/root/P_10/A_10_0/hmmbuild.input.x6422348.fasta\n",
      "[14:36:26] alignment.py (line 556):     INFO: Merging extension sto file (/tmp/sepp/output.bupxu1e2/root/P_1/A_1_0/FC_1_0_1/hmmalign.results.qzjx9g87) into base alignment (/tmp/sepp/output.bupxu1e2/root/P_1/A_1_0/hmmbuild.input._olvjjyo.fasta).\n",
      "[14:36:26] alignment.py (line 556):     INFO: Merging extension sto file (/tmp/sepp/output.bupxu1e2/root/P_1/A_1_0/FC_1_0_2/hmmalign.results.rpwif5gl) into base alignment (/tmp/sepp/output.bupxu1e2/root/P_1/A_1_0/hmmbuild.input._olvjjyo.fasta).\n",
      "[14:36:26] exhaustive.py (line 151):     INFO: Merging sub-alignments for placement problem : P_5.\n",
      "[14:36:27] alignment.py (line 556):     INFO: Merging extension sto file (/tmp/sepp/output.bupxu1e2/root/P_5/A_5_0/FC_5_0_0/hmmalign.results.r9lemni9) into base alignment (/tmp/sepp/output.bupxu1e2/root/P_5/A_5_0/hmmbuild.input.mnpmtgsj.fasta).\n",
      "[14:36:27] alignment.py (line 556):     INFO: Merging extension sto file (/tmp/sepp/output.bupxu1e2/root/P_5/A_5_0/FC_5_0_1/hmmalign.results.rtusct4k) into base alignment (/tmp/sepp/output.bupxu1e2/root/P_5/A_5_0/hmmbuild.input.mnpmtgsj.fasta).\n",
      "[14:36:27] alignment.py (line 556):     INFO: Merging extension sto file (/tmp/sepp/output.bupxu1e2/root/P_5/A_5_0/FC_5_0_2/hmmalign.results.t3ehy8da) into base alignment (/tmp/sepp/output.bupxu1e2/root/P_5/A_5_0/hmmbuild.input.mnpmtgsj.fasta).\n",
      "[14:36:27] exhaustive.py (line 151):     INFO: Merging sub-alignments for placement problem : P_6.\n",
      "[14:36:27] alignment.py (line 556):     INFO: Merging extension sto file (/tmp/sepp/output.bupxu1e2/root/P_6/A_6_0/FC_6_0_0/hmmalign.results.xmd9llfa) into base alignment (/tmp/sepp/output.bupxu1e2/root/P_6/A_6_0/hmmbuild.input.i_ox3uv5.fasta).\n",
      "[14:36:27] alignment.py (line 556):     INFO: Merging extension sto file (/tmp/sepp/output.bupxu1e2/root/P_6/A_6_0/FC_6_0_1/hmmalign.results.od6puycz) into base alignment (/tmp/sepp/output.bupxu1e2/root/P_6/A_6_0/hmmbuild.input.i_ox3uv5.fasta).\n",
      "[14:36:27] jobs.py (line 131):     INFO: Finished hmmalign Job with input: model:/tmp/sepp/output.bupxu1e2/root/P_9/A_9_0/hmmbuild.model.7d_8b5il, fragments:/tmp/sepp/output.bupxu1e2/root/P_9/A_9_0/FC_9_0_2/hmmalign.frag.m9_kauws.fasta, trim:False, base_alignment:/tmp/sepp/output.bupxu1e2/root/P_9/A_9_0/hmmbuild.input.mh31umkc.fasta\n",
      "[14:36:27] alignment.py (line 556):     INFO: Merging extension sto file (/tmp/sepp/output.bupxu1e2/root/P_6/A_6_0/FC_6_0_2/hmmalign.results.pyn6l2d9) into base alignment (/tmp/sepp/output.bupxu1e2/root/P_6/A_6_0/hmmbuild.input.i_ox3uv5.fasta).\n",
      "[14:36:27] jobs.py (line 131):     INFO: Finished hmmalign Job with input: model:/tmp/sepp/output.bupxu1e2/root/P_9/A_9_0/hmmbuild.model.7d_8b5il, fragments:/tmp/sepp/output.bupxu1e2/root/P_9/A_9_0/FC_9_0_1/hmmalign.frag.fy6y8tgd.fasta, trim:False, base_alignment:/tmp/sepp/output.bupxu1e2/root/P_9/A_9_0/hmmbuild.input.mh31umkc.fasta\n",
      "[14:36:27] jobs.py (line 131):     INFO: Finished hmmalign Job with input: model:/tmp/sepp/output.bupxu1e2/root/P_9/A_9_0/hmmbuild.model.7d_8b5il, fragments:/tmp/sepp/output.bupxu1e2/root/P_9/A_9_0/FC_9_0_0/hmmalign.frag.4bc8baj5.fasta, trim:False, base_alignment:/tmp/sepp/output.bupxu1e2/root/P_9/A_9_0/hmmbuild.input.mh31umkc.fasta\n",
      "[14:36:27] exhaustive.py (line 151):     INFO: Merging sub-alignments for placement problem : P_7.\n",
      "[14:36:27] alignment.py (line 556):     INFO: Merging extension sto file (/tmp/sepp/output.bupxu1e2/root/P_7/A_7_0/FC_7_0_0/hmmalign.results.bl_0y5h7) into base alignment (/tmp/sepp/output.bupxu1e2/root/P_7/A_7_0/hmmbuild.input.l2fi_l4e.fasta).\n",
      "[14:36:27] alignment.py (line 556):     INFO: Merging extension sto file (/tmp/sepp/output.bupxu1e2/root/P_7/A_7_0/FC_7_0_1/hmmalign.results.u6hel09_) into base alignment (/tmp/sepp/output.bupxu1e2/root/P_7/A_7_0/hmmbuild.input.l2fi_l4e.fasta).\n",
      "[14:36:27] alignment.py (line 556):     INFO: Merging extension sto file (/tmp/sepp/output.bupxu1e2/root/P_7/A_7_0/FC_7_0_2/hmmalign.results.be8p4zot) into base alignment (/tmp/sepp/output.bupxu1e2/root/P_7/A_7_0/hmmbuild.input.l2fi_l4e.fasta).\n",
      "[14:36:27] exhaustive.py (line 151):     INFO: Merging sub-alignments for placement problem : P_8.\n",
      "[14:36:27] alignment.py (line 556):     INFO: Merging extension sto file (/tmp/sepp/output.bupxu1e2/root/P_8/A_8_0/FC_8_0_0/hmmalign.results.h5g6bfrk) into base alignment (/tmp/sepp/output.bupxu1e2/root/P_8/A_8_0/hmmbuild.input.lzpb0xsz.fasta).\n",
      "[14:36:27] alignment.py (line 556):     INFO: Merging extension sto file (/tmp/sepp/output.bupxu1e2/root/P_8/A_8_0/FC_8_0_1/hmmalign.results.059_qtza) into base alignment (/tmp/sepp/output.bupxu1e2/root/P_8/A_8_0/hmmbuild.input.lzpb0xsz.fasta).\n",
      "[14:36:27] alignment.py (line 556):     INFO: Merging extension sto file (/tmp/sepp/output.bupxu1e2/root/P_8/A_8_0/FC_8_0_2/hmmalign.results.el1vh18h) into base alignment (/tmp/sepp/output.bupxu1e2/root/P_8/A_8_0/hmmbuild.input.lzpb0xsz.fasta).\n",
      "[14:36:27] exhaustive.py (line 151):     INFO: Merging sub-alignments for placement problem : P_10.\n",
      "[14:36:27] alignment.py (line 556):     INFO: Merging extension sto file (/tmp/sepp/output.bupxu1e2/root/P_10/A_10_0/FC_10_0_0/hmmalign.results.0bm_t32b) into base alignment (/tmp/sepp/output.bupxu1e2/root/P_10/A_10_0/hmmbuild.input.x6422348.fasta).\n",
      "[14:36:27] alignment.py (line 556):     INFO: Merging extension sto file (/tmp/sepp/output.bupxu1e2/root/P_10/A_10_0/FC_10_0_1/hmmalign.results.qv9fz2gl) into base alignment (/tmp/sepp/output.bupxu1e2/root/P_10/A_10_0/hmmbuild.input.x6422348.fasta).\n",
      "[14:36:27] alignment.py (line 556):     INFO: Merging extension sto file (/tmp/sepp/output.bupxu1e2/root/P_10/A_10_0/FC_10_0_2/hmmalign.results.o8qajxmy) into base alignment (/tmp/sepp/output.bupxu1e2/root/P_10/A_10_0/hmmbuild.input.x6422348.fasta).\n",
      "[14:36:27] exhaustive.py (line 151):     INFO: Merging sub-alignments for placement problem : P_9.\n",
      "[14:36:27] alignment.py (line 556):     INFO: Merging extension sto file (/tmp/sepp/output.bupxu1e2/root/P_9/A_9_0/FC_9_0_0/hmmalign.results.dwnrjqb_) into base alignment (/tmp/sepp/output.bupxu1e2/root/P_9/A_9_0/hmmbuild.input.mh31umkc.fasta).\n",
      "[14:36:27] alignment.py (line 556):     INFO: Merging extension sto file (/tmp/sepp/output.bupxu1e2/root/P_9/A_9_0/FC_9_0_1/hmmalign.results.w95kytod) into base alignment (/tmp/sepp/output.bupxu1e2/root/P_9/A_9_0/hmmbuild.input.mh31umkc.fasta).\n",
      "[14:36:27] alignment.py (line 556):     INFO: Merging extension sto file (/tmp/sepp/output.bupxu1e2/root/P_9/A_9_0/FC_9_0_2/hmmalign.results.fbuk511m) into base alignment (/tmp/sepp/output.bupxu1e2/root/P_9/A_9_0/hmmbuild.input.mh31umkc.fasta).\n",
      "[14:36:28] jobs.py (line 131):     INFO: Finished hmmalign Job with input: model:/tmp/sepp/output.bupxu1e2/root/P_12/A_12_0/hmmbuild.model.dr6xzl9x, fragments:/tmp/sepp/output.bupxu1e2/root/P_12/A_12_0/FC_12_0_2/hmmalign.frag.u92e2ryg.fasta, trim:False, base_alignment:/tmp/sepp/output.bupxu1e2/root/P_12/A_12_0/hmmbuild.input.mx481d2v.fasta\n",
      "[14:36:28] jobs.py (line 131):     INFO: Finished hmmalign Job with input: model:/tmp/sepp/output.bupxu1e2/root/P_12/A_12_0/hmmbuild.model.dr6xzl9x, fragments:/tmp/sepp/output.bupxu1e2/root/P_12/A_12_0/FC_12_0_0/hmmalign.frag.z8ccvb8k.fasta, trim:False, base_alignment:/tmp/sepp/output.bupxu1e2/root/P_12/A_12_0/hmmbuild.input.mx481d2v.fasta\n",
      "[14:36:28] jobs.py (line 131):     INFO: Finished hmmalign Job with input: model:/tmp/sepp/output.bupxu1e2/root/P_12/A_12_0/hmmbuild.model.dr6xzl9x, fragments:/tmp/sepp/output.bupxu1e2/root/P_12/A_12_0/FC_12_0_1/hmmalign.frag.gykdim42.fasta, trim:False, base_alignment:/tmp/sepp/output.bupxu1e2/root/P_12/A_12_0/hmmbuild.input.mx481d2v.fasta\n",
      "[14:36:28] exhaustive.py (line 151):     INFO: Merging sub-alignments for placement problem : P_12.\n",
      "[14:36:28] alignment.py (line 556):     INFO: Merging extension sto file (/tmp/sepp/output.bupxu1e2/root/P_12/A_12_0/FC_12_0_0/hmmalign.results.lvdnq4q7) into base alignment (/tmp/sepp/output.bupxu1e2/root/P_12/A_12_0/hmmbuild.input.mx481d2v.fasta).\n",
      "[14:36:28] alignment.py (line 556):     INFO: Merging extension sto file (/tmp/sepp/output.bupxu1e2/root/P_12/A_12_0/FC_12_0_1/hmmalign.results.j6k8b4mc) into base alignment (/tmp/sepp/output.bupxu1e2/root/P_12/A_12_0/hmmbuild.input.mx481d2v.fasta).\n",
      "[14:36:28] alignment.py (line 556):     INFO: Merging extension sto file (/tmp/sepp/output.bupxu1e2/root/P_12/A_12_0/FC_12_0_2/hmmalign.results.xu1rpt8x) into base alignment (/tmp/sepp/output.bupxu1e2/root/P_12/A_12_0/hmmbuild.input.mx481d2v.fasta).\n",
      "[14:36:29] jobs.py (line 131):     INFO: Finished hmmalign Job with input: model:/tmp/sepp/output.bupxu1e2/root/P_13/A_13_0/hmmbuild.model.ygkvg_go, fragments:/tmp/sepp/output.bupxu1e2/root/P_13/A_13_0/FC_13_0_1/hmmalign.frag.4gcdly5c.fasta, trim:False, base_alignment:/tmp/sepp/output.bupxu1e2/root/P_13/A_13_0/hmmbuild.input.3sganvl8.fasta\n",
      "[14:36:29] jobs.py (line 131):     INFO: Finished hmmalign Job with input: model:/tmp/sepp/output.bupxu1e2/root/P_13/A_13_0/hmmbuild.model.ygkvg_go, fragments:/tmp/sepp/output.bupxu1e2/root/P_13/A_13_0/FC_13_0_0/hmmalign.frag.dfymjvnp.fasta, trim:False, base_alignment:/tmp/sepp/output.bupxu1e2/root/P_13/A_13_0/hmmbuild.input.3sganvl8.fasta\n",
      "[14:36:29] jobs.py (line 131):     INFO: Finished hmmalign Job with input: model:/tmp/sepp/output.bupxu1e2/root/P_13/A_13_0/hmmbuild.model.ygkvg_go, fragments:/tmp/sepp/output.bupxu1e2/root/P_13/A_13_0/FC_13_0_2/hmmalign.frag.7zo72kb2.fasta, trim:False, base_alignment:/tmp/sepp/output.bupxu1e2/root/P_13/A_13_0/hmmbuild.input.3sganvl8.fasta\n",
      "[14:36:29] exhaustive.py (line 151):     INFO: Merging sub-alignments for placement problem : P_13.\n",
      "[14:36:29] alignment.py (line 556):     INFO: Merging extension sto file (/tmp/sepp/output.bupxu1e2/root/P_13/A_13_0/FC_13_0_0/hmmalign.results.7wjmlirw) into base alignment (/tmp/sepp/output.bupxu1e2/root/P_13/A_13_0/hmmbuild.input.3sganvl8.fasta).\n",
      "[14:36:29] alignment.py (line 556):     INFO: Merging extension sto file (/tmp/sepp/output.bupxu1e2/root/P_13/A_13_0/FC_13_0_1/hmmalign.results.qu3vk3z5) into base alignment (/tmp/sepp/output.bupxu1e2/root/P_13/A_13_0/hmmbuild.input.3sganvl8.fasta).\n",
      "[14:36:29] alignment.py (line 556):     INFO: Merging extension sto file (/tmp/sepp/output.bupxu1e2/root/P_13/A_13_0/FC_13_0_2/hmmalign.results.0bpwzi8d) into base alignment (/tmp/sepp/output.bupxu1e2/root/P_13/A_13_0/hmmbuild.input.3sganvl8.fasta).\n",
      "[14:36:29] jobs.py (line 131):     INFO: Finished hmmalign Job with input: model:/tmp/sepp/output.bupxu1e2/root/P_14/A_14_0/hmmbuild.model.yh27h47b, fragments:/tmp/sepp/output.bupxu1e2/root/P_14/A_14_0/FC_14_0_2/hmmalign.frag.ds2gv18j.fasta, trim:False, base_alignment:/tmp/sepp/output.bupxu1e2/root/P_14/A_14_0/hmmbuild.input.hpotrvyu.fasta\n",
      "[14:36:29] exhaustive.py (line 151):     INFO: Merging sub-alignments for placement problem : P_15.\n",
      "[14:36:29] jobs.py (line 131):     INFO: Finished hmmalign Job with input: model:/tmp/sepp/output.bupxu1e2/root/P_14/A_14_0/hmmbuild.model.yh27h47b, fragments:/tmp/sepp/output.bupxu1e2/root/P_14/A_14_0/FC_14_0_0/hmmalign.frag.g54she_o.fasta, trim:False, base_alignment:/tmp/sepp/output.bupxu1e2/root/P_14/A_14_0/hmmbuild.input.hpotrvyu.fasta\n",
      "[14:36:29] jobs.py (line 131):     INFO: Finished hmmalign Job with input: model:/tmp/sepp/output.bupxu1e2/root/P_14/A_14_0/hmmbuild.model.yh27h47b, fragments:/tmp/sepp/output.bupxu1e2/root/P_14/A_14_0/FC_14_0_1/hmmalign.frag.q2wfwip5.fasta, trim:False, base_alignment:/tmp/sepp/output.bupxu1e2/root/P_14/A_14_0/hmmbuild.input.hpotrvyu.fasta\n",
      "[14:36:29] exhaustive.py (line 151):     INFO: Merging sub-alignments for placement problem : P_14.\n",
      "[14:36:29] alignment.py (line 556):     INFO: Merging extension sto file (/tmp/sepp/output.bupxu1e2/root/P_14/A_14_0/FC_14_0_0/hmmalign.results.jk8qpl4n) into base alignment (/tmp/sepp/output.bupxu1e2/root/P_14/A_14_0/hmmbuild.input.hpotrvyu.fasta).\n",
      "[14:36:29] alignment.py (line 556):     INFO: Merging extension sto file (/tmp/sepp/output.bupxu1e2/root/P_14/A_14_0/FC_14_0_1/hmmalign.results.90cjt1i5) into base alignment (/tmp/sepp/output.bupxu1e2/root/P_14/A_14_0/hmmbuild.input.hpotrvyu.fasta).\n",
      "[14:36:29] alignment.py (line 556):     INFO: Merging extension sto file (/tmp/sepp/output.bupxu1e2/root/P_14/A_14_0/FC_14_0_2/hmmalign.results.zofrmuv0) into base alignment (/tmp/sepp/output.bupxu1e2/root/P_14/A_14_0/hmmbuild.input.hpotrvyu.fasta).\n",
      "[14:36:33] jobs.py (line 131):     INFO: Finished pplacer Job with input: backbone_alignment_file:/tmp/sepp/output.bupxu1e2/root/P_1/pplacer.backbone.qxg99wkm.fasta, tree_file:/tmp/sepp/output.bupxu1e2/root/P_1/pplacer.tree.slgvq5ps.tre, info_file:/home/lauro/anaconda3/envs/qiime2-2021.11/lib/python3.8/site-packages/picrust2/default_files/prokaryotic/pro_ref/pro_ref.raxml_info, extended alignment:/tmp/sepp/output.bupxu1e2/root/P_1/pplacer.extended.1.ydce3w27.fasta, output:/tmp/sepp/output.bupxu1e2/root/P_1/pplacer.extended.1.ydce3w27.jplace\n",
      "[14:36:34] jobs.py (line 131):     INFO: Finished pplacer Job with input: backbone_alignment_file:/tmp/sepp/output.bupxu1e2/root/P_1/pplacer.backbone.digr6diq.fasta, tree_file:/tmp/sepp/output.bupxu1e2/root/P_1/pplacer.tree.79d_y_pn.tre, info_file:/home/lauro/anaconda3/envs/qiime2-2021.11/lib/python3.8/site-packages/picrust2/default_files/prokaryotic/pro_ref/pro_ref.raxml_info, extended alignment:/tmp/sepp/output.bupxu1e2/root/P_1/pplacer.extended.2.lt1q1nus.fasta, output:/tmp/sepp/output.bupxu1e2/root/P_1/pplacer.extended.2.lt1q1nus.jplace\n",
      "[14:36:34] jobs.py (line 131):     INFO: Finished pplacer Job with input: backbone_alignment_file:/tmp/sepp/output.bupxu1e2/root/P_1/pplacer.backbone.suiwoqib.fasta, tree_file:/tmp/sepp/output.bupxu1e2/root/P_1/pplacer.tree.ubt7tpnk.tre, info_file:/home/lauro/anaconda3/envs/qiime2-2021.11/lib/python3.8/site-packages/picrust2/default_files/prokaryotic/pro_ref/pro_ref.raxml_info, extended alignment:/tmp/sepp/output.bupxu1e2/root/P_1/pplacer.extended.0.96t8vgo_.fasta, output:/tmp/sepp/output.bupxu1e2/root/P_1/pplacer.extended.0.96t8vgo_.jplace\n",
      "[14:36:36] jobs.py (line 131):     INFO: Finished hmmalign Job with input: model:/tmp/sepp/output.bupxu1e2/root/P_11/A_11_0/hmmbuild.model.5sap14cn, fragments:/tmp/sepp/output.bupxu1e2/root/P_11/A_11_0/FC_11_0_1/hmmalign.frag.n8kcf1bt.fasta, trim:False, base_alignment:/tmp/sepp/output.bupxu1e2/root/P_11/A_11_0/hmmbuild.input.zx8ogp89.fasta\n",
      "[14:36:37] jobs.py (line 131):     INFO: Finished hmmalign Job with input: model:/tmp/sepp/output.bupxu1e2/root/P_11/A_11_0/hmmbuild.model.5sap14cn, fragments:/tmp/sepp/output.bupxu1e2/root/P_11/A_11_0/FC_11_0_0/hmmalign.frag.lnnfc75k.fasta, trim:False, base_alignment:/tmp/sepp/output.bupxu1e2/root/P_11/A_11_0/hmmbuild.input.zx8ogp89.fasta\n",
      "[14:36:37] jobs.py (line 131):     INFO: Finished hmmalign Job with input: model:/tmp/sepp/output.bupxu1e2/root/P_11/A_11_0/hmmbuild.model.5sap14cn, fragments:/tmp/sepp/output.bupxu1e2/root/P_11/A_11_0/FC_11_0_2/hmmalign.frag.fyqh3h_3.fasta, trim:False, base_alignment:/tmp/sepp/output.bupxu1e2/root/P_11/A_11_0/hmmbuild.input.zx8ogp89.fasta\n",
      "[14:36:37] exhaustive.py (line 151):     INFO: Merging sub-alignments for placement problem : P_11.\n",
      "[14:36:37] alignment.py (line 556):     INFO: Merging extension sto file (/tmp/sepp/output.bupxu1e2/root/P_11/A_11_0/FC_11_0_0/hmmalign.results.axglamea) into base alignment (/tmp/sepp/output.bupxu1e2/root/P_11/A_11_0/hmmbuild.input.zx8ogp89.fasta).\n",
      "[14:36:37] alignment.py (line 556):     INFO: Merging extension sto file (/tmp/sepp/output.bupxu1e2/root/P_11/A_11_0/FC_11_0_1/hmmalign.results.sw3bba30) into base alignment (/tmp/sepp/output.bupxu1e2/root/P_11/A_11_0/hmmbuild.input.zx8ogp89.fasta).\n",
      "[14:36:37] alignment.py (line 556):     INFO: Merging extension sto file (/tmp/sepp/output.bupxu1e2/root/P_11/A_11_0/FC_11_0_2/hmmalign.results.orpaxga2) into base alignment (/tmp/sepp/output.bupxu1e2/root/P_11/A_11_0/hmmbuild.input.zx8ogp89.fasta).\n",
      "[14:36:38] jobs.py (line 131):     INFO: Finished pplacer Job with input: backbone_alignment_file:/tmp/sepp/output.bupxu1e2/root/P_5/pplacer.backbone.xwbz1i57.fasta, tree_file:/tmp/sepp/output.bupxu1e2/root/P_5/pplacer.tree.yh1stz_s.tre, info_file:/home/lauro/anaconda3/envs/qiime2-2021.11/lib/python3.8/site-packages/picrust2/default_files/prokaryotic/pro_ref/pro_ref.raxml_info, extended alignment:/tmp/sepp/output.bupxu1e2/root/P_5/pplacer.extended.0.l9sp5oip.fasta, output:/tmp/sepp/output.bupxu1e2/root/P_5/pplacer.extended.0.l9sp5oip.jplace\n",
      "[14:36:40] jobs.py (line 131):     INFO: Finished pplacer Job with input: backbone_alignment_file:/tmp/sepp/output.bupxu1e2/root/P_5/pplacer.backbone.bysuhs44.fasta, tree_file:/tmp/sepp/output.bupxu1e2/root/P_5/pplacer.tree.7tr2ovog.tre, info_file:/home/lauro/anaconda3/envs/qiime2-2021.11/lib/python3.8/site-packages/picrust2/default_files/prokaryotic/pro_ref/pro_ref.raxml_info, extended alignment:/tmp/sepp/output.bupxu1e2/root/P_5/pplacer.extended.2.rek5qdj_.fasta, output:/tmp/sepp/output.bupxu1e2/root/P_5/pplacer.extended.2.rek5qdj_.jplace\n",
      "[14:36:40] jobs.py (line 131):     INFO: Finished pplacer Job with input: backbone_alignment_file:/tmp/sepp/output.bupxu1e2/root/P_6/pplacer.backbone._m8x2yj1.fasta, tree_file:/tmp/sepp/output.bupxu1e2/root/P_6/pplacer.tree.10t0luia.tre, info_file:/home/lauro/anaconda3/envs/qiime2-2021.11/lib/python3.8/site-packages/picrust2/default_files/prokaryotic/pro_ref/pro_ref.raxml_info, extended alignment:/tmp/sepp/output.bupxu1e2/root/P_6/pplacer.extended.0.q7y0iocp.fasta, output:/tmp/sepp/output.bupxu1e2/root/P_6/pplacer.extended.0.q7y0iocp.jplace\n",
      "[14:36:41] jobs.py (line 131):     INFO: Finished pplacer Job with input: backbone_alignment_file:/tmp/sepp/output.bupxu1e2/root/P_5/pplacer.backbone.xmcob2dg.fasta, tree_file:/tmp/sepp/output.bupxu1e2/root/P_5/pplacer.tree.kkm4ei68.tre, info_file:/home/lauro/anaconda3/envs/qiime2-2021.11/lib/python3.8/site-packages/picrust2/default_files/prokaryotic/pro_ref/pro_ref.raxml_info, extended alignment:/tmp/sepp/output.bupxu1e2/root/P_5/pplacer.extended.1.f863syw_.fasta, output:/tmp/sepp/output.bupxu1e2/root/P_5/pplacer.extended.1.f863syw_.jplace\n",
      "[14:36:43] jobs.py (line 131):     INFO: Finished pplacer Job with input: backbone_alignment_file:/tmp/sepp/output.bupxu1e2/root/P_6/pplacer.backbone.cbymm5dt.fasta, tree_file:/tmp/sepp/output.bupxu1e2/root/P_6/pplacer.tree.4n_54ad_.tre, info_file:/home/lauro/anaconda3/envs/qiime2-2021.11/lib/python3.8/site-packages/picrust2/default_files/prokaryotic/pro_ref/pro_ref.raxml_info, extended alignment:/tmp/sepp/output.bupxu1e2/root/P_6/pplacer.extended.2.ro214ngm.fasta, output:/tmp/sepp/output.bupxu1e2/root/P_6/pplacer.extended.2.ro214ngm.jplace\n",
      "[14:36:43] jobs.py (line 131):     INFO: Finished pplacer Job with input: backbone_alignment_file:/tmp/sepp/output.bupxu1e2/root/P_7/pplacer.backbone.kmndu3xa.fasta, tree_file:/tmp/sepp/output.bupxu1e2/root/P_7/pplacer.tree.qim_7r_0.tre, info_file:/home/lauro/anaconda3/envs/qiime2-2021.11/lib/python3.8/site-packages/picrust2/default_files/prokaryotic/pro_ref/pro_ref.raxml_info, extended alignment:/tmp/sepp/output.bupxu1e2/root/P_7/pplacer.extended.0.mg2z86xb.fasta, output:/tmp/sepp/output.bupxu1e2/root/P_7/pplacer.extended.0.mg2z86xb.jplace\n",
      "[14:36:44] jobs.py (line 131):     INFO: Finished pplacer Job with input: backbone_alignment_file:/tmp/sepp/output.bupxu1e2/root/P_6/pplacer.backbone.dkojuis4.fasta, tree_file:/tmp/sepp/output.bupxu1e2/root/P_6/pplacer.tree.6gbuezti.tre, info_file:/home/lauro/anaconda3/envs/qiime2-2021.11/lib/python3.8/site-packages/picrust2/default_files/prokaryotic/pro_ref/pro_ref.raxml_info, extended alignment:/tmp/sepp/output.bupxu1e2/root/P_6/pplacer.extended.1.q2jeuuil.fasta, output:/tmp/sepp/output.bupxu1e2/root/P_6/pplacer.extended.1.q2jeuuil.jplace\n",
      "[14:36:44] jobs.py (line 131):     INFO: Finished pplacer Job with input: backbone_alignment_file:/tmp/sepp/output.bupxu1e2/root/P_7/pplacer.backbone.oq5ic8y0.fasta, tree_file:/tmp/sepp/output.bupxu1e2/root/P_7/pplacer.tree.3_synhgf.tre, info_file:/home/lauro/anaconda3/envs/qiime2-2021.11/lib/python3.8/site-packages/picrust2/default_files/prokaryotic/pro_ref/pro_ref.raxml_info, extended alignment:/tmp/sepp/output.bupxu1e2/root/P_7/pplacer.extended.2.78hmioaa.fasta, output:/tmp/sepp/output.bupxu1e2/root/P_7/pplacer.extended.2.78hmioaa.jplace\n",
      "[14:36:45] jobs.py (line 131):     INFO: Finished pplacer Job with input: backbone_alignment_file:/tmp/sepp/output.bupxu1e2/root/P_8/pplacer.backbone.8mfp5i52.fasta, tree_file:/tmp/sepp/output.bupxu1e2/root/P_8/pplacer.tree.n6ja03f6.tre, info_file:/home/lauro/anaconda3/envs/qiime2-2021.11/lib/python3.8/site-packages/picrust2/default_files/prokaryotic/pro_ref/pro_ref.raxml_info, extended alignment:/tmp/sepp/output.bupxu1e2/root/P_8/pplacer.extended.0.ujq2o0ba.fasta, output:/tmp/sepp/output.bupxu1e2/root/P_8/pplacer.extended.0.ujq2o0ba.jplace\n",
      "[14:36:46] jobs.py (line 131):     INFO: Finished pplacer Job with input: backbone_alignment_file:/tmp/sepp/output.bupxu1e2/root/P_8/pplacer.backbone.rotmqux1.fasta, tree_file:/tmp/sepp/output.bupxu1e2/root/P_8/pplacer.tree.s_li89o5.tre, info_file:/home/lauro/anaconda3/envs/qiime2-2021.11/lib/python3.8/site-packages/picrust2/default_files/prokaryotic/pro_ref/pro_ref.raxml_info, extended alignment:/tmp/sepp/output.bupxu1e2/root/P_8/pplacer.extended.2.lctb5twk.fasta, output:/tmp/sepp/output.bupxu1e2/root/P_8/pplacer.extended.2.lctb5twk.jplace\n",
      "[14:36:46] jobs.py (line 131):     INFO: Finished pplacer Job with input: backbone_alignment_file:/tmp/sepp/output.bupxu1e2/root/P_7/pplacer.backbone.7x59so62.fasta, tree_file:/tmp/sepp/output.bupxu1e2/root/P_7/pplacer.tree.x99bhihk.tre, info_file:/home/lauro/anaconda3/envs/qiime2-2021.11/lib/python3.8/site-packages/picrust2/default_files/prokaryotic/pro_ref/pro_ref.raxml_info, extended alignment:/tmp/sepp/output.bupxu1e2/root/P_7/pplacer.extended.1.a4m4_a9m.fasta, output:/tmp/sepp/output.bupxu1e2/root/P_7/pplacer.extended.1.a4m4_a9m.jplace\n",
      "[14:36:47] jobs.py (line 131):     INFO: Finished pplacer Job with input: backbone_alignment_file:/tmp/sepp/output.bupxu1e2/root/P_8/pplacer.backbone.0yi8mwud.fasta, tree_file:/tmp/sepp/output.bupxu1e2/root/P_8/pplacer.tree.rmxl6pji.tre, info_file:/home/lauro/anaconda3/envs/qiime2-2021.11/lib/python3.8/site-packages/picrust2/default_files/prokaryotic/pro_ref/pro_ref.raxml_info, extended alignment:/tmp/sepp/output.bupxu1e2/root/P_8/pplacer.extended.1.yn7t1zud.fasta, output:/tmp/sepp/output.bupxu1e2/root/P_8/pplacer.extended.1.yn7t1zud.jplace\n",
      "[14:36:49] jobs.py (line 131):     INFO: Finished pplacer Job with input: backbone_alignment_file:/tmp/sepp/output.bupxu1e2/root/P_10/pplacer.backbone.bl1qeds5.fasta, tree_file:/tmp/sepp/output.bupxu1e2/root/P_10/pplacer.tree.z40xxvjg.tre, info_file:/home/lauro/anaconda3/envs/qiime2-2021.11/lib/python3.8/site-packages/picrust2/default_files/prokaryotic/pro_ref/pro_ref.raxml_info, extended alignment:/tmp/sepp/output.bupxu1e2/root/P_10/pplacer.extended.0.eszudh1g.fasta, output:/tmp/sepp/output.bupxu1e2/root/P_10/pplacer.extended.0.eszudh1g.jplace\n",
      "[14:36:49] jobs.py (line 131):     INFO: Finished pplacer Job with input: backbone_alignment_file:/tmp/sepp/output.bupxu1e2/root/P_10/pplacer.backbone.bi0f0eue.fasta, tree_file:/tmp/sepp/output.bupxu1e2/root/P_10/pplacer.tree.tw1ifi40.tre, info_file:/home/lauro/anaconda3/envs/qiime2-2021.11/lib/python3.8/site-packages/picrust2/default_files/prokaryotic/pro_ref/pro_ref.raxml_info, extended alignment:/tmp/sepp/output.bupxu1e2/root/P_10/pplacer.extended.2.kubrlbbb.fasta, output:/tmp/sepp/output.bupxu1e2/root/P_10/pplacer.extended.2.kubrlbbb.jplace\n",
      "[14:36:50] jobs.py (line 131):     INFO: Finished pplacer Job with input: backbone_alignment_file:/tmp/sepp/output.bupxu1e2/root/P_10/pplacer.backbone.x1p_f39l.fasta, tree_file:/tmp/sepp/output.bupxu1e2/root/P_10/pplacer.tree.so0kjf5e.tre, info_file:/home/lauro/anaconda3/envs/qiime2-2021.11/lib/python3.8/site-packages/picrust2/default_files/prokaryotic/pro_ref/pro_ref.raxml_info, extended alignment:/tmp/sepp/output.bupxu1e2/root/P_10/pplacer.extended.1.9zrqoxcn.fasta, output:/tmp/sepp/output.bupxu1e2/root/P_10/pplacer.extended.1.9zrqoxcn.jplace\n",
      "[14:36:54] jobs.py (line 131):     INFO: Finished pplacer Job with input: backbone_alignment_file:/tmp/sepp/output.bupxu1e2/root/P_9/pplacer.backbone._vqkgx8v.fasta, tree_file:/tmp/sepp/output.bupxu1e2/root/P_9/pplacer.tree.25a6kose.tre, info_file:/home/lauro/anaconda3/envs/qiime2-2021.11/lib/python3.8/site-packages/picrust2/default_files/prokaryotic/pro_ref/pro_ref.raxml_info, extended alignment:/tmp/sepp/output.bupxu1e2/root/P_9/pplacer.extended.2.46ag3q6k.fasta, output:/tmp/sepp/output.bupxu1e2/root/P_9/pplacer.extended.2.46ag3q6k.jplace\n",
      "[14:36:54] jobs.py (line 131):     INFO: Finished pplacer Job with input: backbone_alignment_file:/tmp/sepp/output.bupxu1e2/root/P_9/pplacer.backbone.jukdfvff.fasta, tree_file:/tmp/sepp/output.bupxu1e2/root/P_9/pplacer.tree.9wu0s5m9.tre, info_file:/home/lauro/anaconda3/envs/qiime2-2021.11/lib/python3.8/site-packages/picrust2/default_files/prokaryotic/pro_ref/pro_ref.raxml_info, extended alignment:/tmp/sepp/output.bupxu1e2/root/P_9/pplacer.extended.1.hd5qn2bt.fasta, output:/tmp/sepp/output.bupxu1e2/root/P_9/pplacer.extended.1.hd5qn2bt.jplace\n",
      "[14:36:57] jobs.py (line 131):     INFO: Finished pplacer Job with input: backbone_alignment_file:/tmp/sepp/output.bupxu1e2/root/P_12/pplacer.backbone.60rfx13i.fasta, tree_file:/tmp/sepp/output.bupxu1e2/root/P_12/pplacer.tree.mxcs32jw.tre, info_file:/home/lauro/anaconda3/envs/qiime2-2021.11/lib/python3.8/site-packages/picrust2/default_files/prokaryotic/pro_ref/pro_ref.raxml_info, extended alignment:/tmp/sepp/output.bupxu1e2/root/P_12/pplacer.extended.2.opfnqy76.fasta, output:/tmp/sepp/output.bupxu1e2/root/P_12/pplacer.extended.2.opfnqy76.jplace\n",
      "[14:36:58] jobs.py (line 131):     INFO: Finished pplacer Job with input: backbone_alignment_file:/tmp/sepp/output.bupxu1e2/root/P_12/pplacer.backbone.dudq8zmk.fasta, tree_file:/tmp/sepp/output.bupxu1e2/root/P_12/pplacer.tree.jnn76iik.tre, info_file:/home/lauro/anaconda3/envs/qiime2-2021.11/lib/python3.8/site-packages/picrust2/default_files/prokaryotic/pro_ref/pro_ref.raxml_info, extended alignment:/tmp/sepp/output.bupxu1e2/root/P_12/pplacer.extended.1.uerxh8vl.fasta, output:/tmp/sepp/output.bupxu1e2/root/P_12/pplacer.extended.1.uerxh8vl.jplace\n",
      "[14:36:58] jobs.py (line 131):     INFO: Finished pplacer Job with input: backbone_alignment_file:/tmp/sepp/output.bupxu1e2/root/P_9/pplacer.backbone.h_rbw1qr.fasta, tree_file:/tmp/sepp/output.bupxu1e2/root/P_9/pplacer.tree.jvjvfo7_.tre, info_file:/home/lauro/anaconda3/envs/qiime2-2021.11/lib/python3.8/site-packages/picrust2/default_files/prokaryotic/pro_ref/pro_ref.raxml_info, extended alignment:/tmp/sepp/output.bupxu1e2/root/P_9/pplacer.extended.0.ci8ooqq0.fasta, output:/tmp/sepp/output.bupxu1e2/root/P_9/pplacer.extended.0.ci8ooqq0.jplace\n",
      "[14:37:00] jobs.py (line 131):     INFO: Finished pplacer Job with input: backbone_alignment_file:/tmp/sepp/output.bupxu1e2/root/P_13/pplacer.backbone.6db9litv.fasta, tree_file:/tmp/sepp/output.bupxu1e2/root/P_13/pplacer.tree.sfnc4u7g.tre, info_file:/home/lauro/anaconda3/envs/qiime2-2021.11/lib/python3.8/site-packages/picrust2/default_files/prokaryotic/pro_ref/pro_ref.raxml_info, extended alignment:/tmp/sepp/output.bupxu1e2/root/P_13/pplacer.extended.1.23dsjfdn.fasta, output:/tmp/sepp/output.bupxu1e2/root/P_13/pplacer.extended.1.23dsjfdn.jplace\n",
      "[14:37:00] jobs.py (line 131):     INFO: Finished pplacer Job with input: backbone_alignment_file:/tmp/sepp/output.bupxu1e2/root/P_13/pplacer.backbone.nxd0yyod.fasta, tree_file:/tmp/sepp/output.bupxu1e2/root/P_13/pplacer.tree.pbmnna8q.tre, info_file:/home/lauro/anaconda3/envs/qiime2-2021.11/lib/python3.8/site-packages/picrust2/default_files/prokaryotic/pro_ref/pro_ref.raxml_info, extended alignment:/tmp/sepp/output.bupxu1e2/root/P_13/pplacer.extended.0.3izxkm8b.fasta, output:/tmp/sepp/output.bupxu1e2/root/P_13/pplacer.extended.0.3izxkm8b.jplace\n",
      "[14:37:02] jobs.py (line 131):     INFO: Finished pplacer Job with input: backbone_alignment_file:/tmp/sepp/output.bupxu1e2/root/P_12/pplacer.backbone.tl3bz_sb.fasta, tree_file:/tmp/sepp/output.bupxu1e2/root/P_12/pplacer.tree.8ybtvwsz.tre, info_file:/home/lauro/anaconda3/envs/qiime2-2021.11/lib/python3.8/site-packages/picrust2/default_files/prokaryotic/pro_ref/pro_ref.raxml_info, extended alignment:/tmp/sepp/output.bupxu1e2/root/P_12/pplacer.extended.0.qtck76mq.fasta, output:/tmp/sepp/output.bupxu1e2/root/P_12/pplacer.extended.0.qtck76mq.jplace\n",
      "[14:37:02] jobs.py (line 131):     INFO: Finished pplacer Job with input: backbone_alignment_file:/tmp/sepp/output.bupxu1e2/root/P_14/pplacer.backbone.oib7wjva.fasta, tree_file:/tmp/sepp/output.bupxu1e2/root/P_14/pplacer.tree.pkh89qup.tre, info_file:/home/lauro/anaconda3/envs/qiime2-2021.11/lib/python3.8/site-packages/picrust2/default_files/prokaryotic/pro_ref/pro_ref.raxml_info, extended alignment:/tmp/sepp/output.bupxu1e2/root/P_14/pplacer.extended.1.yixpxnqm.fasta, output:/tmp/sepp/output.bupxu1e2/root/P_14/pplacer.extended.1.yixpxnqm.jplace\n",
      "[14:37:04] jobs.py (line 131):     INFO: Finished pplacer Job with input: backbone_alignment_file:/tmp/sepp/output.bupxu1e2/root/P_13/pplacer.backbone.y_mrhde0.fasta, tree_file:/tmp/sepp/output.bupxu1e2/root/P_13/pplacer.tree.dvj4lrks.tre, info_file:/home/lauro/anaconda3/envs/qiime2-2021.11/lib/python3.8/site-packages/picrust2/default_files/prokaryotic/pro_ref/pro_ref.raxml_info, extended alignment:/tmp/sepp/output.bupxu1e2/root/P_13/pplacer.extended.2.t8y0afh6.fasta, output:/tmp/sepp/output.bupxu1e2/root/P_13/pplacer.extended.2.t8y0afh6.jplace\n",
      "[14:37:05] jobs.py (line 131):     INFO: Finished pplacer Job with input: backbone_alignment_file:/tmp/sepp/output.bupxu1e2/root/P_14/pplacer.backbone.de_es270.fasta, tree_file:/tmp/sepp/output.bupxu1e2/root/P_14/pplacer.tree.1nbylkfl.tre, info_file:/home/lauro/anaconda3/envs/qiime2-2021.11/lib/python3.8/site-packages/picrust2/default_files/prokaryotic/pro_ref/pro_ref.raxml_info, extended alignment:/tmp/sepp/output.bupxu1e2/root/P_14/pplacer.extended.2.1emevgrw.fasta, output:/tmp/sepp/output.bupxu1e2/root/P_14/pplacer.extended.2.1emevgrw.jplace\n",
      "[14:37:06] jobs.py (line 131):     INFO: Finished pplacer Job with input: backbone_alignment_file:/tmp/sepp/output.bupxu1e2/root/P_14/pplacer.backbone.gnmtaboj.fasta, tree_file:/tmp/sepp/output.bupxu1e2/root/P_14/pplacer.tree.jwoumwhq.tre, info_file:/home/lauro/anaconda3/envs/qiime2-2021.11/lib/python3.8/site-packages/picrust2/default_files/prokaryotic/pro_ref/pro_ref.raxml_info, extended alignment:/tmp/sepp/output.bupxu1e2/root/P_14/pplacer.extended.0.zchm6ahw.fasta, output:/tmp/sepp/output.bupxu1e2/root/P_14/pplacer.extended.0.zchm6ahw.jplace\n",
      "[14:37:35] jobs.py (line 131):     INFO: Finished pplacer Job with input: backbone_alignment_file:/tmp/sepp/output.bupxu1e2/root/P_11/pplacer.backbone.12xemweh.fasta, tree_file:/tmp/sepp/output.bupxu1e2/root/P_11/pplacer.tree.h4ps72v6.tre, info_file:/home/lauro/anaconda3/envs/qiime2-2021.11/lib/python3.8/site-packages/picrust2/default_files/prokaryotic/pro_ref/pro_ref.raxml_info, extended alignment:/tmp/sepp/output.bupxu1e2/root/P_11/pplacer.extended.0.y747ga7z.fasta, output:/tmp/sepp/output.bupxu1e2/root/P_11/pplacer.extended.0.y747ga7z.jplace\n",
      "[14:37:36] jobs.py (line 131):     INFO: Finished pplacer Job with input: backbone_alignment_file:/tmp/sepp/output.bupxu1e2/root/P_11/pplacer.backbone.s6bbonq9.fasta, tree_file:/tmp/sepp/output.bupxu1e2/root/P_11/pplacer.tree.vhs9akiw.tre, info_file:/home/lauro/anaconda3/envs/qiime2-2021.11/lib/python3.8/site-packages/picrust2/default_files/prokaryotic/pro_ref/pro_ref.raxml_info, extended alignment:/tmp/sepp/output.bupxu1e2/root/P_11/pplacer.extended.2.pivhujap.fasta, output:/tmp/sepp/output.bupxu1e2/root/P_11/pplacer.extended.2.pivhujap.jplace\n",
      "[14:37:36] jobs.py (line 131):     INFO: Finished pplacer Job with input: backbone_alignment_file:/tmp/sepp/output.bupxu1e2/root/P_11/pplacer.backbone.2_980_ze.fasta, tree_file:/tmp/sepp/output.bupxu1e2/root/P_11/pplacer.tree.2nd36wql.tre, info_file:/home/lauro/anaconda3/envs/qiime2-2021.11/lib/python3.8/site-packages/picrust2/default_files/prokaryotic/pro_ref/pro_ref.raxml_info, extended alignment:/tmp/sepp/output.bupxu1e2/root/P_11/pplacer.extended.1.cia_5pb6.fasta, output:/tmp/sepp/output.bupxu1e2/root/P_11/pplacer.extended.1.cia_5pb6.jplace\n",
      "[14:37:46] jobs.py (line 131):     INFO: Finished jsonmerger Job with input: input:pipe output:/tmp/tmpap2vcpq5/picrust2_out/intermediate/place_seqs/sepp_out/output_placement.json\n",
      "[14:37:47] algorithm.py (line 195):     INFO: Current execution Finished in 136 seconds\n",
      "[14:37:47] algorithm.py (line 197):     INFO: All checkpointed executions Finished in 136 cumulative time\n",
      "\n",
      "gappa examine graft --jplace-path /tmp/tmpap2vcpq5/picrust2_out/intermediate/place_seqs/sepp_out/output_placement.json --fully-resolve --out-dir /tmp/tmpap2vcpq5/picrust2_out/intermediate/place_seqs/sepp_out\n",
      "\n",
      "mv /tmp/tmpap2vcpq5/picrust2_out/intermediate/place_seqs/sepp_out/output_placement.newick /tmp/tmpap2vcpq5/picrust2_out/out.tre\n",
      "\n",
      "Finished placing sequences on output tree: /tmp/tmpap2vcpq5/picrust2_out/out.tre\n",
      "hsp.py --tree /tmp/tmpap2vcpq5/picrust2_out/out.tre --output /tmp/tmpap2vcpq5/picrust2_out/marker_predicted_and_nsti.tsv.gz --observed_trait_table /home/lauro/anaconda3/envs/qiime2-2021.11/lib/python3.8/site-packages/picrust2/default_files/prokaryotic/16S.txt.gz --hsp_method pic --edge_exponent 0.5 --seed 100 --calculate_NSTI --processes 1 --verbose\n"
     ]
    },
    {
     "name": "stdout",
     "output_type": "stream",
     "text": [
      "\n",
      "\n",
      "\n"
     ]
    },
    {
     "name": "stderr",
     "output_type": "stream",
     "text": [
      "Rscript /home/lauro/anaconda3/envs/qiime2-2021.11/lib/python3.8/site-packages/picrust2/Rscripts/castor_nsti.R /tmp/tmpap2vcpq5/picrust2_out/out.tre /tmp/tmp4t3_09h3/known_tips.txt /tmp/tmp4t3_09h3/nsti_out.txt\n",
      "\n",
      "Rscript /home/lauro/anaconda3/envs/qiime2-2021.11/lib/python3.8/site-packages/picrust2/Rscripts/castor_hsp.R /tmp/tmpap2vcpq5/picrust2_out/out.tre /tmp/tmp8fwf_3iu/subset_tab_0 pic 0.5 FALSE FALSE /tmp/tmpgxk8e8st/predicted_counts.txt /tmp/tmpgxk8e8st/predicted_ci.txt 100\n",
      "\n",
      "\n",
      "hsp.py --tree /tmp/tmpap2vcpq5/picrust2_out/out.tre --output /tmp/tmpap2vcpq5/picrust2_out/EC_predicted.tsv.gz --observed_trait_table /home/lauro/anaconda3/envs/qiime2-2021.11/lib/python3.8/site-packages/picrust2/default_files/prokaryotic/ec.txt.gz --hsp_method pic --edge_exponent 0.5 --seed 100 --processes 6 --verbose\n"
     ]
    },
    {
     "name": "stdout",
     "output_type": "stream",
     "text": [
      "\n",
      "\n",
      "\n",
      "\n",
      "\n",
      "\n",
      "\n"
     ]
    },
    {
     "name": "stderr",
     "output_type": "stream",
     "text": [
      "Rscript /home/lauro/anaconda3/envs/qiime2-2021.11/lib/python3.8/site-packages/picrust2/Rscripts/castor_hsp.R /tmp/tmpap2vcpq5/picrust2_out/out.tre /tmp/tmp87fvnbrq/subset_tab_0 pic 0.5 FALSE FALSE /tmp/tmp944gutby/predicted_counts.txt /tmp/tmp944gutby/predicted_ci.txt 100\n",
      "\n",
      "Rscript /home/lauro/anaconda3/envs/qiime2-2021.11/lib/python3.8/site-packages/picrust2/Rscripts/castor_hsp.R /tmp/tmpap2vcpq5/picrust2_out/out.tre /tmp/tmp87fvnbrq/subset_tab_4 pic 0.5 FALSE FALSE /tmp/tmptzrwrrmt/predicted_counts.txt /tmp/tmptzrwrrmt/predicted_ci.txt 100\n",
      "\n",
      "Rscript /home/lauro/anaconda3/envs/qiime2-2021.11/lib/python3.8/site-packages/picrust2/Rscripts/castor_hsp.R /tmp/tmpap2vcpq5/picrust2_out/out.tre /tmp/tmp87fvnbrq/subset_tab_5 pic 0.5 FALSE FALSE /tmp/tmpdnenh88j/predicted_counts.txt /tmp/tmpdnenh88j/predicted_ci.txt 100\n",
      "\n",
      "Rscript /home/lauro/anaconda3/envs/qiime2-2021.11/lib/python3.8/site-packages/picrust2/Rscripts/castor_hsp.R /tmp/tmpap2vcpq5/picrust2_out/out.tre /tmp/tmp87fvnbrq/subset_tab_1 pic 0.5 FALSE FALSE /tmp/tmp724quqn5/predicted_counts.txt /tmp/tmp724quqn5/predicted_ci.txt 100\n",
      "\n",
      "Rscript /home/lauro/anaconda3/envs/qiime2-2021.11/lib/python3.8/site-packages/picrust2/Rscripts/castor_hsp.R /tmp/tmpap2vcpq5/picrust2_out/out.tre /tmp/tmp87fvnbrq/subset_tab_2 pic 0.5 FALSE FALSE /tmp/tmp235gulsw/predicted_counts.txt /tmp/tmp235gulsw/predicted_ci.txt 100\n",
      "\n",
      "Rscript /home/lauro/anaconda3/envs/qiime2-2021.11/lib/python3.8/site-packages/picrust2/Rscripts/castor_hsp.R /tmp/tmpap2vcpq5/picrust2_out/out.tre /tmp/tmp87fvnbrq/subset_tab_3 pic 0.5 FALSE FALSE /tmp/tmp4jdup48b/predicted_counts.txt /tmp/tmp4jdup48b/predicted_ci.txt 100\n",
      "\n",
      "\n",
      "hsp.py --tree /tmp/tmpap2vcpq5/picrust2_out/out.tre --output /tmp/tmpap2vcpq5/picrust2_out/KO_predicted.tsv.gz --observed_trait_table /home/lauro/anaconda3/envs/qiime2-2021.11/lib/python3.8/site-packages/picrust2/default_files/prokaryotic/ko.txt.gz --hsp_method pic --edge_exponent 0.5 --seed 100 --processes 6 --verbose\n"
     ]
    },
    {
     "name": "stdout",
     "output_type": "stream",
     "text": [
      "\n",
      "\n",
      "\n",
      "\n",
      "\n",
      "\n",
      "\n",
      "\n",
      "\n",
      "\n",
      "\n",
      "\n",
      "\n",
      "\n",
      "\n",
      "\n",
      "\n",
      "\n",
      "\n",
      "\n",
      "\n",
      "\n",
      "\n"
     ]
    },
    {
     "name": "stderr",
     "output_type": "stream",
     "text": [
      "Rscript /home/lauro/anaconda3/envs/qiime2-2021.11/lib/python3.8/site-packages/picrust2/Rscripts/castor_hsp.R /tmp/tmpap2vcpq5/picrust2_out/out.tre /tmp/tmpvvlt2rrk/subset_tab_3 pic 0.5 FALSE FALSE /tmp/tmpw68zo0y3/predicted_counts.txt /tmp/tmpw68zo0y3/predicted_ci.txt 100\n",
      "\n",
      "Rscript /home/lauro/anaconda3/envs/qiime2-2021.11/lib/python3.8/site-packages/picrust2/Rscripts/castor_hsp.R /tmp/tmpap2vcpq5/picrust2_out/out.tre /tmp/tmpvvlt2rrk/subset_tab_6 pic 0.5 FALSE FALSE /tmp/tmplzgvl_dl/predicted_counts.txt /tmp/tmplzgvl_dl/predicted_ci.txt 100\n",
      "\n",
      "Rscript /home/lauro/anaconda3/envs/qiime2-2021.11/lib/python3.8/site-packages/picrust2/Rscripts/castor_hsp.R /tmp/tmpap2vcpq5/picrust2_out/out.tre /tmp/tmpvvlt2rrk/subset_tab_13 pic 0.5 FALSE FALSE /tmp/tmpwz1al1gk/predicted_counts.txt /tmp/tmpwz1al1gk/predicted_ci.txt 100\n",
      "\n",
      "Rscript /home/lauro/anaconda3/envs/qiime2-2021.11/lib/python3.8/site-packages/picrust2/Rscripts/castor_hsp.R /tmp/tmpap2vcpq5/picrust2_out/out.tre /tmp/tmpvvlt2rrk/subset_tab_18 pic 0.5 FALSE FALSE /tmp/tmpd43t1t6j/predicted_counts.txt /tmp/tmpd43t1t6j/predicted_ci.txt 100\n",
      "\n",
      "Rscript /home/lauro/anaconda3/envs/qiime2-2021.11/lib/python3.8/site-packages/picrust2/Rscripts/castor_hsp.R /tmp/tmpap2vcpq5/picrust2_out/out.tre /tmp/tmpvvlt2rrk/subset_tab_1 pic 0.5 FALSE FALSE /tmp/tmpv3ta8aek/predicted_counts.txt /tmp/tmpv3ta8aek/predicted_ci.txt 100\n",
      "\n",
      "Rscript /home/lauro/anaconda3/envs/qiime2-2021.11/lib/python3.8/site-packages/picrust2/Rscripts/castor_hsp.R /tmp/tmpap2vcpq5/picrust2_out/out.tre /tmp/tmpvvlt2rrk/subset_tab_9 pic 0.5 FALSE FALSE /tmp/tmphizu1rcn/predicted_counts.txt /tmp/tmphizu1rcn/predicted_ci.txt 100\n",
      "\n",
      "Rscript /home/lauro/anaconda3/envs/qiime2-2021.11/lib/python3.8/site-packages/picrust2/Rscripts/castor_hsp.R /tmp/tmpap2vcpq5/picrust2_out/out.tre /tmp/tmpvvlt2rrk/subset_tab_15 pic 0.5 FALSE FALSE /tmp/tmpbn9cdq26/predicted_counts.txt /tmp/tmpbn9cdq26/predicted_ci.txt 100\n",
      "\n",
      "Rscript /home/lauro/anaconda3/envs/qiime2-2021.11/lib/python3.8/site-packages/picrust2/Rscripts/castor_hsp.R /tmp/tmpap2vcpq5/picrust2_out/out.tre /tmp/tmpvvlt2rrk/subset_tab_21 pic 0.5 FALSE FALSE /tmp/tmpm06wgeqt/predicted_counts.txt /tmp/tmpm06wgeqt/predicted_ci.txt 100\n",
      "\n",
      "Rscript /home/lauro/anaconda3/envs/qiime2-2021.11/lib/python3.8/site-packages/picrust2/Rscripts/castor_hsp.R /tmp/tmpap2vcpq5/picrust2_out/out.tre /tmp/tmpvvlt2rrk/subset_tab_0 pic 0.5 FALSE FALSE /tmp/tmpiyfl9no5/predicted_counts.txt /tmp/tmpiyfl9no5/predicted_ci.txt 100\n",
      "\n",
      "Rscript /home/lauro/anaconda3/envs/qiime2-2021.11/lib/python3.8/site-packages/picrust2/Rscripts/castor_hsp.R /tmp/tmpap2vcpq5/picrust2_out/out.tre /tmp/tmpvvlt2rrk/subset_tab_10 pic 0.5 FALSE FALSE /tmp/tmp0vfvrb5n/predicted_counts.txt /tmp/tmp0vfvrb5n/predicted_ci.txt 100\n",
      "\n",
      "Rscript /home/lauro/anaconda3/envs/qiime2-2021.11/lib/python3.8/site-packages/picrust2/Rscripts/castor_hsp.R /tmp/tmpap2vcpq5/picrust2_out/out.tre /tmp/tmpvvlt2rrk/subset_tab_16 pic 0.5 FALSE FALSE /tmp/tmpc0nwwq41/predicted_counts.txt /tmp/tmpc0nwwq41/predicted_ci.txt 100\n",
      "\n",
      "Rscript /home/lauro/anaconda3/envs/qiime2-2021.11/lib/python3.8/site-packages/picrust2/Rscripts/castor_hsp.R /tmp/tmpap2vcpq5/picrust2_out/out.tre /tmp/tmpvvlt2rrk/subset_tab_5 pic 0.5 FALSE FALSE /tmp/tmp1godkb52/predicted_counts.txt /tmp/tmp1godkb52/predicted_ci.txt 100\n",
      "\n",
      "Rscript /home/lauro/anaconda3/envs/qiime2-2021.11/lib/python3.8/site-packages/picrust2/Rscripts/castor_hsp.R /tmp/tmpap2vcpq5/picrust2_out/out.tre /tmp/tmpvvlt2rrk/subset_tab_11 pic 0.5 FALSE FALSE /tmp/tmply19vhy_/predicted_counts.txt /tmp/tmply19vhy_/predicted_ci.txt 100\n",
      "\n",
      "Rscript /home/lauro/anaconda3/envs/qiime2-2021.11/lib/python3.8/site-packages/picrust2/Rscripts/castor_hsp.R /tmp/tmpap2vcpq5/picrust2_out/out.tre /tmp/tmpvvlt2rrk/subset_tab_17 pic 0.5 FALSE FALSE /tmp/tmpl6bcuw6j/predicted_counts.txt /tmp/tmpl6bcuw6j/predicted_ci.txt 100\n",
      "\n",
      "Rscript /home/lauro/anaconda3/envs/qiime2-2021.11/lib/python3.8/site-packages/picrust2/Rscripts/castor_hsp.R /tmp/tmpap2vcpq5/picrust2_out/out.tre /tmp/tmpvvlt2rrk/subset_tab_2 pic 0.5 FALSE FALSE /tmp/tmp2kmtf65l/predicted_counts.txt /tmp/tmp2kmtf65l/predicted_ci.txt 100\n",
      "\n",
      "Rscript /home/lauro/anaconda3/envs/qiime2-2021.11/lib/python3.8/site-packages/picrust2/Rscripts/castor_hsp.R /tmp/tmpap2vcpq5/picrust2_out/out.tre /tmp/tmpvvlt2rrk/subset_tab_8 pic 0.5 FALSE FALSE /tmp/tmpmhb0104t/predicted_counts.txt /tmp/tmpmhb0104t/predicted_ci.txt 100\n",
      "\n",
      "Rscript /home/lauro/anaconda3/envs/qiime2-2021.11/lib/python3.8/site-packages/picrust2/Rscripts/castor_hsp.R /tmp/tmpap2vcpq5/picrust2_out/out.tre /tmp/tmpvvlt2rrk/subset_tab_14 pic 0.5 FALSE FALSE /tmp/tmptyj076u5/predicted_counts.txt /tmp/tmptyj076u5/predicted_ci.txt 100\n",
      "\n",
      "Rscript /home/lauro/anaconda3/envs/qiime2-2021.11/lib/python3.8/site-packages/picrust2/Rscripts/castor_hsp.R /tmp/tmpap2vcpq5/picrust2_out/out.tre /tmp/tmpvvlt2rrk/subset_tab_19 pic 0.5 FALSE FALSE /tmp/tmpmne_dm7w/predicted_counts.txt /tmp/tmpmne_dm7w/predicted_ci.txt 100\n",
      "\n",
      "Rscript /home/lauro/anaconda3/envs/qiime2-2021.11/lib/python3.8/site-packages/picrust2/Rscripts/castor_hsp.R /tmp/tmpap2vcpq5/picrust2_out/out.tre /tmp/tmpvvlt2rrk/subset_tab_4 pic 0.5 FALSE FALSE /tmp/tmpdlay1x67/predicted_counts.txt /tmp/tmpdlay1x67/predicted_ci.txt 100\n",
      "\n",
      "Rscript /home/lauro/anaconda3/envs/qiime2-2021.11/lib/python3.8/site-packages/picrust2/Rscripts/castor_hsp.R /tmp/tmpap2vcpq5/picrust2_out/out.tre /tmp/tmpvvlt2rrk/subset_tab_7 pic 0.5 FALSE FALSE /tmp/tmpt4ffl7eu/predicted_counts.txt /tmp/tmpt4ffl7eu/predicted_ci.txt 100\n",
      "\n",
      "Rscript /home/lauro/anaconda3/envs/qiime2-2021.11/lib/python3.8/site-packages/picrust2/Rscripts/castor_hsp.R /tmp/tmpap2vcpq5/picrust2_out/out.tre /tmp/tmpvvlt2rrk/subset_tab_12 pic 0.5 FALSE FALSE /tmp/tmpz2kf2pnu/predicted_counts.txt /tmp/tmpz2kf2pnu/predicted_ci.txt 100\n",
      "\n",
      "Rscript /home/lauro/anaconda3/envs/qiime2-2021.11/lib/python3.8/site-packages/picrust2/Rscripts/castor_hsp.R /tmp/tmpap2vcpq5/picrust2_out/out.tre /tmp/tmpvvlt2rrk/subset_tab_20 pic 0.5 FALSE FALSE /tmp/tmpudrjzdfs/predicted_counts.txt /tmp/tmpudrjzdfs/predicted_ci.txt 100\n",
      "\n",
      "\n",
      "Running metagenome pipeline for EC\n",
      "metagenome_pipeline.py --input /tmp/tmpap2vcpq5/intable.biom --function /tmp/tmpap2vcpq5/picrust2_out/EC_predicted.tsv.gz --min_reads 1 --min_samples 1 --out_dir /tmp/tmpap2vcpq5/picrust2_out/EC_metagenome_out --max_nsti 2 --marker /tmp/tmpap2vcpq5/picrust2_out/marker_predicted_and_nsti.tsv.gz\n"
     ]
    },
    {
     "name": "stdout",
     "output_type": "stream",
     "text": [
      "\n"
     ]
    },
    {
     "name": "stderr",
     "output_type": "stream",
     "text": [
      "All ASVs were below the max NSTI cut-off of 2.0 and so all were retained for downstream analyses.\n",
      "\n",
      "Running metagenome pipeline for KO\n",
      "metagenome_pipeline.py --input /tmp/tmpap2vcpq5/intable.biom --function /tmp/tmpap2vcpq5/picrust2_out/KO_predicted.tsv.gz --min_reads 1 --min_samples 1 --out_dir /tmp/tmpap2vcpq5/picrust2_out/KO_metagenome_out --max_nsti 2 --marker /tmp/tmpap2vcpq5/picrust2_out/marker_predicted_and_nsti.tsv.gz\n"
     ]
    },
    {
     "name": "stdout",
     "output_type": "stream",
     "text": [
      "\n",
      "Inferring pathways from predicted EC\n"
     ]
    },
    {
     "name": "stderr",
     "output_type": "stream",
     "text": [
      "All ASVs were below the max NSTI cut-off of 2.0 and so all were retained for downstream analyses.\n",
      "\n",
      "pathway_pipeline.py --input /tmp/tmpap2vcpq5/picrust2_out/EC_metagenome_out/pred_metagenome_unstrat.tsv.gz --out_dir /tmp/tmpap2vcpq5/picrust2_out/pathways_out --map /home/lauro/anaconda3/envs/qiime2-2021.11/lib/python3.8/site-packages/picrust2/default_files/pathway_mapfiles/metacyc_path2rxn_struc_filt_pro.txt --intermediate /tmp/tmpap2vcpq5/picrust2_out/intermediate/pathways --proc 6 --regroup_map /home/lauro/anaconda3/envs/qiime2-2021.11/lib/python3.8/site-packages/picrust2/default_files/pathway_mapfiles/ec_level4_to_metacyc_rxn.tsv --verbose\n"
     ]
    },
    {
     "name": "stderr",
     "output_type": "stream",
     "text": [
      "\n",
      "Wrote predicted pathway abundances and coverages to /tmp/tmpap2vcpq5/picrust2_out/pathways_out\n"
     ]
    }
   ],
   "source": [
    "need_pipeline = replace_files\n",
    "need_pipeline |= not (os.path.isfile(ec_path) and os.path.isfile(ko_path) and os.path.isfile(pathway_path))\n",
    "if need_pipeline:\n",
    "    results = picrust2.methods.full_pipeline(\n",
    "        table=tabs, \n",
    "        seq=seqs, \n",
    "        threads=6, \n",
    "        placement_tool='sepp',\n",
    "        hsp_method='pic', \n",
    "        max_nsti=2,\n",
    "        highly_verbose=True\n",
    "    )\n",
    "    ec_metagenome = results.ec_metagenome\n",
    "    ko_metagenome = results.ko_metagenome\n",
    "    pathway_abundance = results.pathway_abundance\n",
    "else:\n",
    "    ec_metagenome = Artifact.load(ec_path)\n",
    "    ko_metagenome = Artifact.load(ko_path)\n",
    "    pathway_abundance = Artifact.load(pathway_path)"
   ]
  },
  {
   "cell_type": "markdown",
   "id": "771308c4",
   "metadata": {
    "papermill": {
     "duration": 0.040078,
     "end_time": "2023-06-07T14:41:45.943314",
     "exception": false,
     "start_time": "2023-06-07T14:41:45.903236",
     "status": "completed"
    },
    "tags": []
   },
   "source": [
    "### Persist created artifacts\n",
    "\n",
    "We will define file paths and persist all artifacts. We start with `.qza` files. We will save the visualization files in sequence as `qzv` files. Finally, we save a `biom`-like file as `tsv` with brief descriptions of all functions."
   ]
  },
  {
   "cell_type": "code",
   "execution_count": 9,
   "id": "c680ab46",
   "metadata": {
    "ExecuteTime": {
     "end_time": "2022-11-09T19:20:47.646444Z",
     "start_time": "2022-11-09T19:20:47.643806Z"
    },
    "execution": {
     "iopub.execute_input": "2023-06-07T14:41:46.110040Z",
     "iopub.status.busy": "2023-06-07T14:41:46.109086Z",
     "iopub.status.idle": "2023-06-07T14:41:46.228746Z",
     "shell.execute_reply": "2023-06-07T14:41:46.229470Z"
    },
    "papermill": {
     "duration": 0.209,
     "end_time": "2023-06-07T14:41:46.229690",
     "exception": false,
     "start_time": "2023-06-07T14:41:46.020690",
     "status": "completed"
    },
    "tags": []
   },
   "outputs": [],
   "source": [
    "if need_pipeline:\n",
    "    # Export artifact folder\n",
    "    ec_metagenome.export_data(output_dir=ec_path.split('.')[0])\n",
    "    ko_metagenome.export_data(output_dir=ko_path.split('.')[0])\n",
    "    pathway_abundance.export_data(output_dir=pathway_path.split('.')[0])\n",
    "    \n",
    "    # Save artifacts as .qza files\n",
    "    ec_metagenome.save(ec_path)\n",
    "    ko_metagenome.save(ko_path)\n",
    "    pathway_abundance.save(pathway_path)"
   ]
  },
  {
   "cell_type": "code",
   "execution_count": 10,
   "id": "d61ebec3",
   "metadata": {
    "ExecuteTime": {
     "end_time": "2022-11-09T19:20:47.687022Z",
     "start_time": "2022-11-09T19:20:47.647637Z"
    },
    "execution": {
     "iopub.execute_input": "2023-06-07T14:41:46.318178Z",
     "iopub.status.busy": "2023-06-07T14:41:46.317668Z",
     "iopub.status.idle": "2023-06-07T14:41:52.760431Z",
     "shell.execute_reply": "2023-06-07T14:41:52.761365Z"
    },
    "papermill": {
     "duration": 6.487923,
     "end_time": "2023-06-07T14:41:52.761645",
     "exception": false,
     "start_time": "2023-06-07T14:41:46.273722",
     "status": "completed"
    },
    "tags": []
   },
   "outputs": [],
   "source": [
    "need_viz = replace_files\n",
    "need_viz |= not (os.path.isfile(ec_viz_path) and os.path.isfile(ko_viz_path) and os.path.isfile(pathway_viz_path))\n",
    "if need_viz:\n",
    "    # Create visualization artifacts\n",
    "    ec_viz = summarize(table=ec_metagenome, sample_metadata=metadata_qa).visualization\n",
    "    ko_viz = summarize(table=ko_metagenome, sample_metadata=metadata_qa).visualization\n",
    "    path_viz = summarize(table=pathway_abundance, sample_metadata=metadata_qa).visualization\n",
    "\n",
    "    # Save visualization artifacts as .qzv files\n",
    "    ec_viz.save(ec_viz_path)\n",
    "    ko_viz.save(ko_viz_path)\n",
    "    path_viz.save(pathway_viz_path)"
   ]
  },
  {
   "cell_type": "code",
   "execution_count": 11,
   "id": "57f1f4d8",
   "metadata": {
    "ExecuteTime": {
     "end_time": "2022-11-09T19:20:47.704885Z",
     "start_time": "2022-11-09T19:20:47.689312Z"
    },
    "execution": {
     "iopub.execute_input": "2023-06-07T14:41:52.863884Z",
     "iopub.status.busy": "2023-06-07T14:41:52.863167Z",
     "iopub.status.idle": "2023-06-07T14:41:56.342162Z",
     "shell.execute_reply": "2023-06-07T14:41:56.342774Z"
    },
    "papermill": {
     "duration": 3.532381,
     "end_time": "2023-06-07T14:41:56.342964",
     "exception": false,
     "start_time": "2023-06-07T14:41:52.810583",
     "status": "completed"
    },
    "tags": []
   },
   "outputs": [],
   "source": [
    "need_biom = replace_files\n",
    "need_biom |= not (os.path.isfile(ec_fpath) and os.path.isfile(ko_fpath) and os.path.isfile(pathway_fpath))\n",
    "if need_biom:\n",
    "    # Convert artifact to dataframe - transposed\n",
    "    df_pathway = pathway_abundance.view(pd.DataFrame).T\n",
    "    df_ec = ec_metagenome.view(pd.DataFrame).T\n",
    "    df_ko = ko_metagenome.view(pd.DataFrame).T\n",
    "\n",
    "    # Write dataframe to a tsv file\n",
    "    df_pathway.to_csv(pathway_fpath, sep='\\t', index=True)\n",
    "    df_ec.to_csv(ec_fpath, sep='\\t', index=True)\n",
    "    df_ko.to_csv(ko_fpath, sep='\\t', index=True)\n",
    "    \n",
    "    # Put a new column with descriptions of each function's ID\n",
    "    !add_descriptions.py -i {ec_fpath} -m EC -o {ec_desc_fpath}\n",
    "    !add_descriptions.py -i {ko_fpath} -m KO -o {ko_desc_fpath}\n",
    "    !add_descriptions.py -i {pathway_fpath} -m METACYC -o {pathway_desc_fpath}"
   ]
  }
 ],
 "metadata": {
  "celltoolbar": "Edit Metadata",
  "kernelspec": {
   "display_name": "Python 3 (ipykernel)",
   "language": "python",
   "name": "python3"
  },
  "language_info": {
   "codemirror_mode": {
    "name": "ipython",
    "version": 3
   },
   "file_extension": ".py",
   "mimetype": "text/x-python",
   "name": "python",
   "nbconvert_exporter": "python",
   "pygments_lexer": "ipython3",
   "version": "3.8.12"
  },
  "papermill": {
   "default_parameters": {},
   "duration": 445.083241,
   "end_time": "2023-06-07T14:41:57.503550",
   "environment_variables": {},
   "exception": null,
   "input_path": "nb-templates/step-picrust2-analysis.ipynb",
   "output_path": "/home/lauro/nupeb/rede-micro/redemicro-ana-flavia-nutri/experiments/ana-flavia-HSD-NCxHSD-NR-trim/nb-executed-steps/step-picrust2-analysis-ana-flavia-HSD-NCxHSD-NR-trim.ipynb",
   "parameters": {
    "base_dir": "/home/lauro/nupeb/rede-micro/redemicro-ana-flavia-nutri",
    "class_col": "group-id",
    "classifier_file": "/home/lauro/nupeb/rede-micro/models/silva-138-99-nb-classifier.qza",
    "experiment_name": "ana-flavia-HSD-NCxHSD-NR-trim",
    "manifest_file": "/home/lauro/nupeb/rede-micro/redemicro-ana-flavia-nutri/data/raw/manifest/manifest-ana-flavia-HSD-NCxHSD-NR.csv",
    "metadata_file": "/home/lauro/nupeb/rede-micro/redemicro-ana-flavia-nutri/data/raw/metadata/metadata-ana-flavia-HSD-NCxHSD-NR.tsv",
    "overlap": 12,
    "phred": 20,
    "replace_files": false,
    "threads": 6,
    "top_n": 20,
    "trim": {
     "forward_primer": "CCTACGGGRSGCAGCAG",
     "overlap": 8,
     "reverse_primer": "GGACTACHVGGGTWTCTAAT"
    },
    "trunc_f": 0,
    "trunc_r": 0
   },
   "start_time": "2023-06-07T14:34:32.420309",
   "version": "2.3.4"
  }
 },
 "nbformat": 4,
 "nbformat_minor": 5
}