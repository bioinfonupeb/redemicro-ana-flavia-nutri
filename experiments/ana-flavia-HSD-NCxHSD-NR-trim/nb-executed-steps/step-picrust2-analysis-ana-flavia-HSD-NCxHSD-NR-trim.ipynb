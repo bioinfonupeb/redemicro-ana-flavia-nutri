{
 "cells": [
  {
   "cell_type": "markdown",
   "id": "0e7f2330",
   "metadata": {
    "ExecuteTime": {
     "end_time": "2022-09-22T19:36:33.828188Z",
     "start_time": "2022-09-22T19:36:33.817323Z"
    },
    "papermill": {
     "duration": 0.043264,
     "end_time": "2023-09-04T18:45:38.125616",
     "exception": false,
     "start_time": "2023-09-04T18:45:38.082352",
     "status": "completed"
    },
    "tags": []
   },
   "source": [
    "### STEP : PICRUST2 Analysis\n",
    "\n",
    "\n",
    "\n",
    "#### Example\n",
    "\n",
    "- [PICRUST2 tutorial](https://github.com/picrust/picrust2/wiki/q2-picrust2-Tutorial)\n",
    "- [Limitations](https://github.com/picrust/picrust2/wiki/Key-Limitations)\n",
    "\n",
    "\n",
    "#### Methods\n",
    "- [composition](https://docs.qiime2.org/2022.8/plugins/available/composition/)"
   ]
  },
  {
   "cell_type": "markdown",
   "id": "843debbf",
   "metadata": {
    "papermill": {
     "duration": 0.042465,
     "end_time": "2023-09-04T18:45:38.251235",
     "exception": false,
     "start_time": "2023-09-04T18:45:38.208770",
     "status": "completed"
    },
    "tags": []
   },
   "source": [
    "## Setup and settings"
   ]
  },
  {
   "cell_type": "code",
   "execution_count": 1,
   "id": "965e28e5",
   "metadata": {
    "ExecuteTime": {
     "end_time": "2024-01-30T19:52:20.167463Z",
     "start_time": "2024-01-30T19:52:03.047113Z"
    },
    "execution": {
     "iopub.execute_input": "2023-09-04T18:45:38.350337Z",
     "iopub.status.busy": "2023-09-04T18:45:38.349785Z",
     "iopub.status.idle": "2023-09-04T18:45:45.516034Z",
     "shell.execute_reply": "2023-09-04T18:45:45.516993Z"
    },
    "papermill": {
     "duration": 7.209146,
     "end_time": "2023-09-04T18:45:45.517399",
     "exception": false,
     "start_time": "2023-09-04T18:45:38.308253",
     "status": "completed"
    },
    "tags": []
   },
   "outputs": [],
   "source": [
    "# Importing packages\n",
    "import os\n",
    "import biom\n",
    "import pandas as pd\n",
    "from qiime2 import Artifact\n",
    "from qiime2 import Visualization\n",
    "from qiime2 import Metadata\n",
    "\n",
    "from qiime2.plugins.feature_table.visualizers import summarize\n",
    "\n",
    "from picrust2.pipeline import full_pipeline\n",
    "from picrust2.default import (default_ref_dir, default_tables, default_regroup_map, default_pathway_map)\n",
    "from qiime2.plugins import picrust2\n",
    "from qiime2.plugins.feature_table.methods import filter_samples\n",
    "from qiime2.plugins.feature_table.methods import filter_seqs\n",
    "\n",
    "%matplotlib inline"
   ]
  },
  {
   "cell_type": "markdown",
   "id": "530ceb60",
   "metadata": {
    "papermill": {
     "duration": 0.048261,
     "end_time": "2023-09-04T18:45:45.602985",
     "exception": false,
     "start_time": "2023-09-04T18:45:45.554724",
     "status": "completed"
    },
    "tags": []
   },
   "source": [
    "### Receiving the parameters\n",
    "\n",
    "The following cell can receive parameters using the [papermill](https://papermill.readthedocs.io/en/latest/) tool."
   ]
  },
  {
   "cell_type": "code",
   "execution_count": 2,
   "id": "18d874ea",
   "metadata": {
    "ExecuteTime": {
     "end_time": "2024-01-30T19:52:20.173151Z",
     "start_time": "2024-01-30T19:52:20.169785Z"
    },
    "execution": {
     "iopub.execute_input": "2023-09-04T18:45:45.768887Z",
     "iopub.status.busy": "2023-09-04T18:45:45.768196Z",
     "iopub.status.idle": "2023-09-04T18:45:45.770841Z",
     "shell.execute_reply": "2023-09-04T18:45:45.771300Z"
    },
    "papermill": {
     "duration": 0.095742,
     "end_time": "2023-09-04T18:45:45.771429",
     "exception": false,
     "start_time": "2023-09-04T18:45:45.675687",
     "status": "completed"
    },
    "tags": [
     "parameters"
    ]
   },
   "outputs": [],
   "source": [
    "metadata_file = '/home/lauro/nupeb/rede-micro/redemicro-miliane-nutri/data/raw/metadata/miliane-metadata-CxAC.tsv'\n",
    "base_dir = os.path.join('/', 'home', 'lauro', 'nupeb', 'rede-micro', 'redemicro-miliane-nutri')\n",
    "experiment_name = 'miliane-CxAC-trim'\n",
    "class_col = 'group-id'\n",
    "replace_files = False"
   ]
  },
  {
   "cell_type": "code",
   "execution_count": 3,
   "id": "acbe8249",
   "metadata": {
    "ExecuteTime": {
     "end_time": "2024-01-30T19:52:20.201258Z",
     "start_time": "2024-01-30T19:52:20.175181Z"
    },
    "execution": {
     "iopub.execute_input": "2023-09-04T18:45:45.869480Z",
     "iopub.status.busy": "2023-09-04T18:45:45.868968Z",
     "iopub.status.idle": "2023-09-04T18:45:45.871213Z",
     "shell.execute_reply": "2023-09-04T18:45:45.871632Z"
    },
    "papermill": {
     "duration": 0.057788,
     "end_time": "2023-09-04T18:45:45.871747",
     "exception": false,
     "start_time": "2023-09-04T18:45:45.813959",
     "status": "completed"
    },
    "tags": [
     "injected-parameters"
    ]
   },
   "outputs": [],
   "source": [
    "# Parameters\n",
    "experiment_name = \"ana-flavia-HSD-NCxHSD-NR-trim\"\n",
    "base_dir = \"/home/lauro/nupeb/rede-micro/redemicro-ana-flavia-nutri\"\n",
    "manifest_file = \"/home/lauro/nupeb/rede-micro/redemicro-ana-flavia-nutri/data/raw/manifest/manifest-ana-flavia-HSD-NCxHSD-NR.csv\"\n",
    "metadata_file = \"/home/lauro/nupeb/rede-micro/redemicro-ana-flavia-nutri/data/raw/metadata/metadata-ana-flavia-HSD-NCxHSD-NR.tsv\"\n",
    "class_col = \"group-id\"\n",
    "classifier_file = \"/home/lauro/nupeb/rede-micro/models/silva-138-99-nb-classifier.qza\"\n",
    "top_n = 20\n",
    "replace_files = False\n",
    "phred = 20\n",
    "trunc_f = 0\n",
    "trunc_r = 0\n",
    "overlap = 12\n",
    "threads = 6\n",
    "trim = {\n",
    "    \"overlap\": 8,\n",
    "    \"forward_primer\": \"CCTACGGGRSGCAGCAG\",\n",
    "    \"reverse_primer\": \"GGACTACHVGGGTWTCTAAT\",\n",
    "}\n"
   ]
  },
  {
   "cell_type": "code",
   "execution_count": 4,
   "id": "f38617d9",
   "metadata": {
    "ExecuteTime": {
     "end_time": "2024-01-30T19:52:20.246401Z",
     "start_time": "2024-01-30T19:52:20.203466Z"
    },
    "execution": {
     "iopub.execute_input": "2023-09-04T18:45:45.931929Z",
     "iopub.status.busy": "2023-09-04T18:45:45.931472Z",
     "iopub.status.idle": "2023-09-04T18:45:45.933623Z",
     "shell.execute_reply": "2023-09-04T18:45:45.933995Z"
    },
    "papermill": {
     "duration": 0.032462,
     "end_time": "2023-09-04T18:45:45.934098",
     "exception": false,
     "start_time": "2023-09-04T18:45:45.901636",
     "status": "completed"
    },
    "tags": []
   },
   "outputs": [],
   "source": [
    "experiment_folder = os.path.abspath(os.path.join(base_dir, 'experiments', experiment_name))\n",
    "img_folder = os.path.abspath(os.path.join(experiment_folder, 'imgs'))"
   ]
  },
  {
   "cell_type": "markdown",
   "id": "ea9b90fb",
   "metadata": {
    "papermill": {
     "duration": 0.026591,
     "end_time": "2023-09-04T18:45:45.987822",
     "exception": false,
     "start_time": "2023-09-04T18:45:45.961231",
     "status": "completed"
    },
    "tags": []
   },
   "source": [
    "### Defining names, paths and flags"
   ]
  },
  {
   "cell_type": "code",
   "execution_count": 5,
   "id": "45727eef",
   "metadata": {
    "ExecuteTime": {
     "end_time": "2024-01-30T19:52:20.261431Z",
     "start_time": "2024-01-30T19:52:20.248595Z"
    },
    "execution": {
     "iopub.execute_input": "2023-09-04T18:45:46.043590Z",
     "iopub.status.busy": "2023-09-04T18:45:46.043153Z",
     "iopub.status.idle": "2023-09-04T18:45:46.046340Z",
     "shell.execute_reply": "2023-09-04T18:45:46.046685Z"
    },
    "papermill": {
     "duration": 0.032827,
     "end_time": "2023-09-04T18:45:46.046785",
     "exception": false,
     "start_time": "2023-09-04T18:45:46.013958",
     "status": "completed"
    },
    "tags": []
   },
   "outputs": [],
   "source": [
    "# QIIME2 Artifacts folder\n",
    "qiime_folder = os.path.join(experiment_folder, 'qiime-artifacts')\n",
    "\n",
    "# Input - DADA2 Artifacts\n",
    "dada2_tabs_path = os.path.join(qiime_folder, 'dada2-tabs.qza')\n",
    "dada2_reqs_path = os.path.join(qiime_folder, 'dada2-reps.qza')\n",
    "\n",
    "# PICRUST@ folder\n",
    "picrust2_folder = os.path.abspath(os.path.join(experiment_folder, 'picrust2'))\n",
    "\n",
    "# Create path if it not exist\n",
    "if not os.path.isdir(picrust2_folder):\n",
    "    os.makedirs(picrust2_folder)\n",
    "    print(f'New picrust2-artifacts folder path created: {picrust2_folder}')"
   ]
  },
  {
   "cell_type": "code",
   "execution_count": 6,
   "id": "4903e645",
   "metadata": {
    "ExecuteTime": {
     "end_time": "2024-01-30T19:52:20.275792Z",
     "start_time": "2024-01-30T19:52:20.263648Z"
    },
    "execution": {
     "iopub.execute_input": "2023-09-04T18:45:46.110591Z",
     "iopub.status.busy": "2023-09-04T18:45:46.110099Z",
     "iopub.status.idle": "2023-09-04T18:45:46.112195Z",
     "shell.execute_reply": "2023-09-04T18:45:46.112595Z"
    },
    "papermill": {
     "duration": 0.037222,
     "end_time": "2023-09-04T18:45:46.112703",
     "exception": false,
     "start_time": "2023-09-04T18:45:46.075481",
     "status": "completed"
    },
    "tags": []
   },
   "outputs": [],
   "source": [
    "# Define paths for metagenome function artifacts\n",
    "ec_path = os.path.join(picrust2_folder, 'ec-pred-metagen.qza')\n",
    "ko_path = os.path.join(picrust2_folder, 'ko-pred-metagen.qza')\n",
    "pathway_path = os.path.join(picrust2_folder, 'pathway-abundance.qza')\n",
    "\n",
    "# Define paths for metagenome function visualization artifacts\n",
    "ec_viz_path = ec_path[:-1]+'v'\n",
    "ko_viz_path = ko_path[:-1]+'v'\n",
    "pathway_viz_path = pathway_path[:-1]+'v'\n",
    "\n",
    "# Define paths for biom -> tsv files (function X sample)\n",
    "pathway_fpath = os.path.join(picrust2_folder, 'pathway.tsv')\n",
    "ec_fpath = os.path.join(picrust2_folder, 'ec.tsv')\n",
    "ko_fpath = os.path.join(picrust2_folder, 'ko.tsv')\n",
    "\n",
    "# Define paths for biom -> tsv files (function X sample) - with descriptions\n",
    "pathway_desc_fpath = os.path.join(picrust2_folder, 'pathway-desc.tsv')\n",
    "ec_desc_fpath = os.path.join(picrust2_folder, 'ec-desc.tsv')\n",
    "ko_desc_fpath = os.path.join(picrust2_folder, 'ko-desc.tsv')"
   ]
  },
  {
   "cell_type": "markdown",
   "id": "0999a1b2",
   "metadata": {
    "papermill": {
     "duration": 0.026469,
     "end_time": "2023-09-04T18:45:46.168279",
     "exception": false,
     "start_time": "2023-09-04T18:45:46.141810",
     "status": "completed"
    },
    "tags": []
   },
   "source": [
    "## Step execution\n",
    "\n",
    "### Load input files\n",
    "\n",
    "This Step import the QIIME2 `FeatureTable[Frequency]` Artifact and the `Metadata` file."
   ]
  },
  {
   "cell_type": "code",
   "execution_count": 7,
   "id": "8f299d1a",
   "metadata": {
    "ExecuteTime": {
     "end_time": "2024-01-30T19:52:20.474550Z",
     "start_time": "2024-01-30T19:52:20.277970Z"
    },
    "execution": {
     "iopub.execute_input": "2023-09-04T18:45:46.224182Z",
     "iopub.status.busy": "2023-09-04T18:45:46.223752Z",
     "iopub.status.idle": "2023-09-04T18:45:46.270717Z",
     "shell.execute_reply": "2023-09-04T18:45:46.270261Z"
    },
    "papermill": {
     "duration": 0.075903,
     "end_time": "2023-09-04T18:45:46.270817",
     "exception": false,
     "start_time": "2023-09-04T18:45:46.194914",
     "status": "completed"
    },
    "tags": []
   },
   "outputs": [],
   "source": [
    "#Load Metadata\n",
    "metadata_qa = Metadata.load(metadata_file)\n",
    "\n",
    "#Load FeatureTable[Frequency]\n",
    "tabs = Artifact.load(dada2_tabs_path)\n",
    "\n",
    "#Load FeatureTable[Sequence]\n",
    "seqs = Artifact.load(dada2_reqs_path)"
   ]
  },
  {
   "cell_type": "code",
   "execution_count": 8,
   "id": "9b699dee",
   "metadata": {
    "ExecuteTime": {
     "end_time": "2024-01-30T19:52:21.133566Z",
     "start_time": "2024-01-30T19:52:20.476258Z"
    },
    "execution": {
     "iopub.execute_input": "2023-09-04T18:45:46.330240Z",
     "iopub.status.busy": "2023-09-04T18:45:46.329553Z",
     "iopub.status.idle": "2023-09-04T18:45:46.841157Z",
     "shell.execute_reply": "2023-09-04T18:45:46.841563Z"
    },
    "papermill": {
     "duration": 0.541555,
     "end_time": "2023-09-04T18:45:46.841701",
     "exception": false,
     "start_time": "2023-09-04T18:45:46.300146",
     "status": "completed"
    },
    "tags": []
   },
   "outputs": [],
   "source": [
    "# Filter FeatureTable[Frequency | RelativeFrequency | PresenceAbsence | Composition] based on Metadata sample ID values\n",
    "tabs = filter_samples(\n",
    "    table=tabs,\n",
    "    metadata=metadata_qa,\n",
    ").filtered_table\n",
    "# Filter SampleData[SequencesWithQuality | PairedEndSequencesWithQuality | JoinedSequencesWithQuality] based on Metadata sample ID values; returns FeatureData[Sequence | AlignedSequence]\n",
    "seqs = filter_seqs(\n",
    "    data=seqs,\n",
    "    table=tabs,\n",
    ").filtered_data"
   ]
  },
  {
   "cell_type": "markdown",
   "id": "4f1b06d4",
   "metadata": {
    "papermill": {
     "duration": 0.026498,
     "end_time": "2023-09-04T18:45:46.899491",
     "exception": false,
     "start_time": "2023-09-04T18:45:46.872993",
     "status": "completed"
    },
    "tags": []
   },
   "source": [
    "### Execute full pipelie\n",
    "\n",
    "The entire PICRUSt2 pipeline will be run using a single method, called `picrust2.methods.full_pipeline`. This method will run each of the 4 key steps: \n",
    "\n",
    "1. sequence placement\n",
    "2. hidden-state prediction of genomes\n",
    "3. metagenome prediction\n",
    "4. pathway-level predictions.\n",
    "\n",
    "More information on [Documentation](https://github.com/picrust/picrust2/wiki/Full-pipeline-script)."
   ]
  },
  {
   "cell_type": "code",
   "execution_count": 9,
   "id": "2c4f3874",
   "metadata": {
    "ExecuteTime": {
     "end_time": "2024-01-30T19:52:21.260060Z",
     "start_time": "2024-01-30T19:52:21.135777Z"
    },
    "execution": {
     "iopub.execute_input": "2023-09-04T18:45:46.957165Z",
     "iopub.status.busy": "2023-09-04T18:45:46.956455Z",
     "iopub.status.idle": "2023-09-04T18:52:39.062841Z",
     "shell.execute_reply": "2023-09-04T18:52:39.063790Z"
    },
    "papermill": {
     "duration": 412.13796,
     "end_time": "2023-09-04T18:52:39.064072",
     "exception": false,
     "start_time": "2023-09-04T18:45:46.926112",
     "status": "completed"
    },
    "scrolled": true,
    "tags": []
   },
   "outputs": [],
   "source": [
    "need_pipeline = replace_files\n",
    "need_pipeline |= not (os.path.isfile(ec_path) and os.path.isfile(ko_path) and os.path.isfile(pathway_path))\n",
    "if need_pipeline:\n",
    "    results = picrust2.methods.full_pipeline(\n",
    "        table=tabs, \n",
    "        seq=seqs, \n",
    "        threads=6, \n",
    "        placement_tool='sepp',\n",
    "        hsp_method='pic', \n",
    "        max_nsti=2,\n",
    "        highly_verbose=True\n",
    "    )\n",
    "    ec_metagenome = results.ec_metagenome\n",
    "    ko_metagenome = results.ko_metagenome\n",
    "    pathway_abundance = results.pathway_abundance\n",
    "else:\n",
    "    ec_metagenome = Artifact.load(ec_path)\n",
    "    ko_metagenome = Artifact.load(ko_path)\n",
    "    pathway_abundance = Artifact.load(pathway_path)"
   ]
  },
  {
   "cell_type": "markdown",
   "id": "771308c4",
   "metadata": {
    "papermill": {
     "duration": 0.042614,
     "end_time": "2023-09-04T18:52:39.158928",
     "exception": false,
     "start_time": "2023-09-04T18:52:39.116314",
     "status": "completed"
    },
    "tags": []
   },
   "source": [
    "### Persist created artifacts\n",
    "\n",
    "We will define file paths and persist all artifacts. We start with `.qza` files. We will save the visualization files in sequence as `qzv` files. Finally, we save a `biom`-like file as `tsv` with brief descriptions of all functions."
   ]
  },
  {
   "cell_type": "code",
   "execution_count": 10,
   "id": "c680ab46",
   "metadata": {
    "ExecuteTime": {
     "end_time": "2024-01-30T19:52:21.264818Z",
     "start_time": "2024-01-30T19:52:21.261722Z"
    },
    "execution": {
     "iopub.execute_input": "2023-09-04T18:52:39.249611Z",
     "iopub.status.busy": "2023-09-04T18:52:39.249106Z",
     "iopub.status.idle": "2023-09-04T18:52:39.361968Z",
     "shell.execute_reply": "2023-09-04T18:52:39.362394Z"
    },
    "papermill": {
     "duration": 0.161392,
     "end_time": "2023-09-04T18:52:39.362535",
     "exception": false,
     "start_time": "2023-09-04T18:52:39.201143",
     "status": "completed"
    },
    "tags": []
   },
   "outputs": [],
   "source": [
    "if need_pipeline:\n",
    "    # Export artifact folder\n",
    "    ec_metagenome.export_data(output_dir=ec_path.split('.')[0])\n",
    "    ko_metagenome.export_data(output_dir=ko_path.split('.')[0])\n",
    "    pathway_abundance.export_data(output_dir=pathway_path.split('.')[0])\n",
    "    \n",
    "    # Save artifacts as .qza files\n",
    "    ec_metagenome.save(ec_path)\n",
    "    ko_metagenome.save(ko_path)\n",
    "    pathway_abundance.save(pathway_path)"
   ]
  },
  {
   "cell_type": "code",
   "execution_count": 11,
   "id": "d61ebec3",
   "metadata": {
    "ExecuteTime": {
     "end_time": "2024-01-30T19:52:21.293732Z",
     "start_time": "2024-01-30T19:52:21.265917Z"
    },
    "execution": {
     "iopub.execute_input": "2023-09-04T18:52:39.457529Z",
     "iopub.status.busy": "2023-09-04T18:52:39.457027Z",
     "iopub.status.idle": "2023-09-04T18:52:43.758592Z",
     "shell.execute_reply": "2023-09-04T18:52:43.759299Z"
    },
    "papermill": {
     "duration": 4.350454,
     "end_time": "2023-09-04T18:52:43.759512",
     "exception": false,
     "start_time": "2023-09-04T18:52:39.409058",
     "status": "completed"
    },
    "tags": []
   },
   "outputs": [],
   "source": [
    "need_viz = replace_files\n",
    "need_viz |= not (os.path.isfile(ec_viz_path) and os.path.isfile(ko_viz_path) and os.path.isfile(pathway_viz_path))\n",
    "if need_viz:\n",
    "    # Create visualization artifacts\n",
    "    ec_viz = summarize(table=ec_metagenome, sample_metadata=metadata_qa).visualization\n",
    "    ko_viz = summarize(table=ko_metagenome, sample_metadata=metadata_qa).visualization\n",
    "    path_viz = summarize(table=pathway_abundance, sample_metadata=metadata_qa).visualization\n",
    "\n",
    "    # Save visualization artifacts as .qzv files\n",
    "    ec_viz.save(ec_viz_path)\n",
    "    ko_viz.save(ko_viz_path)\n",
    "    path_viz.save(pathway_viz_path)"
   ]
  },
  {
   "cell_type": "code",
   "execution_count": 12,
   "id": "57f1f4d8",
   "metadata": {
    "ExecuteTime": {
     "end_time": "2024-01-30T19:52:21.310269Z",
     "start_time": "2024-01-30T19:52:21.295997Z"
    },
    "execution": {
     "iopub.execute_input": "2023-09-04T18:52:43.866159Z",
     "iopub.status.busy": "2023-09-04T18:52:43.865362Z",
     "iopub.status.idle": "2023-09-04T18:52:46.740361Z",
     "shell.execute_reply": "2023-09-04T18:52:46.741314Z"
    },
    "papermill": {
     "duration": 2.933081,
     "end_time": "2023-09-04T18:52:46.741615",
     "exception": false,
     "start_time": "2023-09-04T18:52:43.808534",
     "status": "completed"
    },
    "tags": []
   },
   "outputs": [],
   "source": [
    "need_biom = replace_files\n",
    "need_biom |= not (os.path.isfile(ec_fpath) and os.path.isfile(ko_fpath) and os.path.isfile(pathway_fpath))\n",
    "if need_biom:\n",
    "    # Convert artifact to dataframe - transposed\n",
    "    df_pathway = pathway_abundance.view(pd.DataFrame).T\n",
    "    df_ec = ec_metagenome.view(pd.DataFrame).T\n",
    "    df_ko = ko_metagenome.view(pd.DataFrame).T\n",
    "\n",
    "    # Write dataframe to a tsv file\n",
    "    df_pathway.to_csv(pathway_fpath, sep='\\t', index=True)\n",
    "    df_ec.to_csv(ec_fpath, sep='\\t', index=True)\n",
    "    df_ko.to_csv(ko_fpath, sep='\\t', index=True)\n",
    "    \n",
    "    # Put a new column with descriptions of each function's ID\n",
    "    !add_descriptions.py -i {ec_fpath} -m EC -o {ec_desc_fpath}\n",
    "    !add_descriptions.py -i {ko_fpath} -m KO -o {ko_desc_fpath}\n",
    "    !add_descriptions.py -i {pathway_fpath} -m METACYC -o {pathway_desc_fpath}"
   ]
  },
  {
   "cell_type": "code",
   "execution_count": 50,
   "id": "8bccdb9a",
   "metadata": {
    "ExecuteTime": {
     "end_time": "2024-01-30T20:10:22.392564Z",
     "start_time": "2024-01-30T20:10:22.191296Z"
    }
   },
   "outputs": [],
   "source": [
    "metadata_df = metadata_qa.to_dataframe()\n",
    "group_ids = metadata_df[class_col].unique()"
   ]
  },
  {
   "cell_type": "code",
   "execution_count": 63,
   "id": "26274d5b",
   "metadata": {
    "ExecuteTime": {
     "end_time": "2024-01-30T20:31:44.374165Z",
     "start_time": "2024-01-30T20:31:44.076250Z"
    }
   },
   "outputs": [],
   "source": [
    "# Iterate over all PICRUST2 files\n",
    "for f in (ec_desc_fpath, ko_desc_fpath, pathway_desc_fpath):\n",
    "    # Create new DataFrame to store new data\n",
    "    df = pd.read_csv(f, sep='\\t')\n",
    "    new_df = pd.DataFrame()\n",
    "    # Iterate over all groups\n",
    "    for g in group_ids:\n",
    "        # Select all IDs from current group\n",
    "        idx = metadata_df[metadata_df[class_col]==g].index\n",
    "        # Sum all values from samples of the current group\n",
    "        tmp = ec_df.loc[:, idx].sum(axis=1)\n",
    "        # Create a new column with the sum\n",
    "        new_df[g] = tmp\n",
    "    # Sum the values of all groups\n",
    "    new_df['Total'] = new_df.sum(axis=1)\n",
    "    # Join new columns into the end of the original DataFrame\n",
    "    new_df = df.join(new_df)\n",
    "    # Write joined DataFrame to file - overwrite\n",
    "    new_df.to_csv(f, index=False, sep='\\t')"
   ]
  },
  {
   "cell_type": "code",
   "execution_count": 64,
   "id": "a983e114",
   "metadata": {
    "ExecuteTime": {
     "end_time": "2024-01-30T20:31:46.760982Z",
     "start_time": "2024-01-30T20:31:46.624732Z"
    }
   },
   "outputs": [
    {
     "name": "stdout",
     "output_type": "stream",
     "text": [
      "Unnamed: 0\tdescription\tS210421121688\tS210421121689\tS210421121690\tS210421121691\tS210421121692\tS210421121693\tS210421121698\tS210421121699\tS210421121700\tS210421121701\tS210421121702\tS210421121707\tS210421121708\tS210421121709\tS210421121710\tHSD-NC\tHSD-NR\tTotal\r\n"
     ]
    }
   ],
   "source": [
    "!head -n 1 {ec_desc_fpath}"
   ]
  }
 ],
 "metadata": {
  "celltoolbar": "Edit Metadata",
  "kernelspec": {
   "display_name": "Python 3",
   "language": "python",
   "name": "python3"
  },
  "language_info": {
   "codemirror_mode": {
    "name": "ipython",
    "version": 3
   },
   "file_extension": ".py",
   "mimetype": "text/x-python",
   "name": "python",
   "nbconvert_exporter": "python",
   "pygments_lexer": "ipython3",
   "version": "3.8.12"
  },
  "papermill": {
   "default_parameters": {},
   "duration": 430.873036,
   "end_time": "2023-09-04T18:52:47.907008",
   "environment_variables": {},
   "exception": null,
   "input_path": "nb-templates/step-picrust2-analysis.ipynb",
   "output_path": "/home/lauro/nupeb/rede-micro/redemicro-ana-flavia-nutri/experiments/ana-flavia-HSD-NCxHSD-NR-trim/nb-executed-steps/step-picrust2-analysis-ana-flavia-HSD-NCxHSD-NR-trim.ipynb",
   "parameters": {
    "base_dir": "/home/lauro/nupeb/rede-micro/redemicro-ana-flavia-nutri",
    "class_col": "group-id",
    "classifier_file": "/home/lauro/nupeb/rede-micro/models/silva-138-99-nb-classifier.qza",
    "experiment_name": "ana-flavia-HSD-NCxHSD-NR-trim",
    "manifest_file": "/home/lauro/nupeb/rede-micro/redemicro-ana-flavia-nutri/data/raw/manifest/manifest-ana-flavia-HSD-NCxHSD-NR.csv",
    "metadata_file": "/home/lauro/nupeb/rede-micro/redemicro-ana-flavia-nutri/data/raw/metadata/metadata-ana-flavia-HSD-NCxHSD-NR.tsv",
    "overlap": 12,
    "phred": 20,
    "replace_files": false,
    "threads": 6,
    "top_n": 20,
    "trim": {
     "forward_primer": "CCTACGGGRSGCAGCAG",
     "overlap": 8,
     "reverse_primer": "GGACTACHVGGGTWTCTAAT"
    },
    "trunc_f": 0,
    "trunc_r": 0
   },
   "start_time": "2023-09-04T18:45:37.033972",
   "version": "2.3.4"
  }
 },
 "nbformat": 4,
 "nbformat_minor": 5
}
