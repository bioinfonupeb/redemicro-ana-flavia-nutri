{
 "cells": [
  {
   "cell_type": "markdown",
   "id": "6b7fea8f",
   "metadata": {
    "papermill": {
     "duration": 0.023104,
     "end_time": "2023-08-23T18:02:43.552504",
     "exception": false,
     "start_time": "2023-08-23T18:02:43.529400",
     "status": "completed"
    },
    "tags": []
   },
   "source": [
    "# Quality Control and ASV table construction with DADA2"
   ]
  },
  {
   "cell_type": "markdown",
   "id": "4d7cd81c",
   "metadata": {
    "papermill": {
     "duration": 0.071735,
     "end_time": "2023-08-23T18:02:43.640491",
     "exception": false,
     "start_time": "2023-08-23T18:02:43.568756",
     "status": "completed"
    },
    "tags": []
   },
   "source": [
    "## Setup and settings"
   ]
  },
  {
   "cell_type": "code",
   "execution_count": 1,
   "id": "4c9bca98",
   "metadata": {
    "ExecuteTime": {
     "end_time": "2022-06-29T18:49:49.974644Z",
     "start_time": "2022-06-29T18:49:30.876897Z"
    },
    "execution": {
     "iopub.execute_input": "2023-08-23T18:02:43.673500Z",
     "iopub.status.busy": "2023-08-23T18:02:43.672992Z",
     "iopub.status.idle": "2023-08-23T18:02:49.945974Z",
     "shell.execute_reply": "2023-08-23T18:02:49.945127Z"
    },
    "papermill": {
     "duration": 6.292831,
     "end_time": "2023-08-23T18:02:49.949129",
     "exception": false,
     "start_time": "2023-08-23T18:02:43.656298",
     "status": "completed"
    },
    "tags": []
   },
   "outputs": [],
   "source": [
    "# Importing packages\n",
    "import os\n",
    "import yaml\n",
    "import logging\n",
    "import pandas as pd\n",
    "from qiime2 import Artifact\n",
    "from qiime2 import Visualization\n",
    "from qiime2 import Metadata\n",
    "import qiime2.plugins.dada2.actions as dada2_actions\n",
    "import qiime2.plugins.metadata.actions as metadata_actions\n",
    "from qiime2.plugins.feature_table.visualizers import tabulate_seqs\n",
    "from qiime2.plugins.feature_table.visualizers import summarize\n",
    "from qiime2.plugins.feature_table.visualizers import core_features\n",
    "from qiime2.plugins.feature_table.methods import filter_samples\n",
    "from qiime2.plugins.feature_table.methods import filter_seqs\n",
    "\n",
    "import matplotlib.pyplot as plt\n",
    "\n",
    "%matplotlib inline"
   ]
  },
  {
   "cell_type": "markdown",
   "id": "b40a8f4c",
   "metadata": {
    "papermill": {
     "duration": 0.013793,
     "end_time": "2023-08-23T18:02:49.983756",
     "exception": false,
     "start_time": "2023-08-23T18:02:49.969963",
     "status": "completed"
    },
    "tags": []
   },
   "source": [
    "### Receiving the parameters\n",
    "\n",
    "The following cell can receive parameters using the [papermill](https://papermill.readthedocs.io/en/latest/) tool."
   ]
  },
  {
   "cell_type": "code",
   "execution_count": 2,
   "id": "0592d9d3",
   "metadata": {
    "ExecuteTime": {
     "end_time": "2022-06-29T18:54:01.035034Z",
     "start_time": "2022-06-29T18:54:01.028724Z"
    },
    "execution": {
     "iopub.execute_input": "2023-08-23T18:02:50.074595Z",
     "iopub.status.busy": "2023-08-23T18:02:50.074140Z",
     "iopub.status.idle": "2023-08-23T18:02:50.080165Z",
     "shell.execute_reply": "2023-08-23T18:02:50.079379Z"
    },
    "papermill": {
     "duration": 0.068188,
     "end_time": "2023-08-23T18:02:50.081756",
     "exception": false,
     "start_time": "2023-08-23T18:02:50.013568",
     "status": "completed"
    },
    "tags": [
     "parameters"
    ]
   },
   "outputs": [],
   "source": [
    "experiment_name = 'ana-flavia-superlactacao'\n",
    "base_dir = os.path.join('/', 'home', 'lauro', 'nupeb', 'redemicro')\n",
    "metadata_file = os.path.join(base_dir, 'data', 'raw', 'metadata', 'sample-metadata.tsv')\n",
    "manifest_file = os.path.join(base_dir, 'data', 'raw', 'manifest', 'sample-manifest.csv')\n",
    "replace_files = False\n",
    "phred = 20\n",
    "trunc_f = 0\n",
    "trunc_r = 0\n",
    "overlap = 12\n",
    "threads = 6\n",
    "trim = None"
   ]
  },
  {
   "cell_type": "code",
   "execution_count": 3,
   "id": "5813f0e9",
   "metadata": {
    "execution": {
     "iopub.execute_input": "2023-08-23T18:02:50.114597Z",
     "iopub.status.busy": "2023-08-23T18:02:50.114240Z",
     "iopub.status.idle": "2023-08-23T18:02:50.120804Z",
     "shell.execute_reply": "2023-08-23T18:02:50.119917Z"
    },
    "papermill": {
     "duration": 0.02384,
     "end_time": "2023-08-23T18:02:50.122575",
     "exception": false,
     "start_time": "2023-08-23T18:02:50.098735",
     "status": "completed"
    },
    "tags": [
     "injected-parameters"
    ]
   },
   "outputs": [],
   "source": [
    "# Parameters\n",
    "experiment_name = \"ana-flavia-HSD-NCxHSD-NR-trim\"\n",
    "base_dir = \"/home/lauro/nupeb/rede-micro/redemicro-ana-flavia-nutri\"\n",
    "manifest_file = \"/home/lauro/nupeb/rede-micro/redemicro-ana-flavia-nutri/data/raw/manifest/manifest-ana-flavia-HSD-NCxHSD-NR.csv\"\n",
    "metadata_file = \"/home/lauro/nupeb/rede-micro/redemicro-ana-flavia-nutri/data/raw/metadata/metadata-ana-flavia-HSD-NCxHSD-NR.tsv\"\n",
    "class_col = \"group-id\"\n",
    "classifier_file = \"/home/lauro/nupeb/rede-micro/models/silva-138-99-nb-classifier.qza\"\n",
    "top_n = 20\n",
    "replace_files = False\n",
    "phred = 20\n",
    "trunc_f = 0\n",
    "trunc_r = 0\n",
    "overlap = 12\n",
    "threads = 6\n",
    "trim = {\n",
    "    \"overlap\": 8,\n",
    "    \"forward_primer\": \"CCTACGGGRSGCAGCAG\",\n",
    "    \"reverse_primer\": \"GGACTACHVGGGTWTCTAAT\",\n",
    "}\n"
   ]
  },
  {
   "cell_type": "code",
   "execution_count": 4,
   "id": "e5e3cfb6",
   "metadata": {
    "execution": {
     "iopub.execute_input": "2023-08-23T18:02:50.154631Z",
     "iopub.status.busy": "2023-08-23T18:02:50.154238Z",
     "iopub.status.idle": "2023-08-23T18:02:50.162536Z",
     "shell.execute_reply": "2023-08-23T18:02:50.161648Z"
    },
    "papermill": {
     "duration": 0.025597,
     "end_time": "2023-08-23T18:02:50.164172",
     "exception": false,
     "start_time": "2023-08-23T18:02:50.138575",
     "status": "completed"
    },
    "tags": []
   },
   "outputs": [],
   "source": [
    "# Setting hardcoded parameters for development and debbuging\n",
    "production = True\n",
    "if not production:\n",
    "    params_path = os.path.join('..', 'params', 'ana-flavia-superlactacao.yaml')\n",
    "    with open(params_path, 'r') as stream:\n",
    "        params = yaml.safe_load(stream)\n",
    "        experiment_name = params['experiment_name']\n",
    "        base_dir = params['base_dir']\n",
    "        replace_files = params['replace_files']\n",
    "        experiment_folder = os.path.abspath(os.path.join(os.getcwd(), '..', 'experiments', 'thayane-feces-01'))\n",
    "        img_folder = os.path.abspath(os.path.join(experiment_folder, 'imgs'))\n",
    "        replace_files = False\n",
    "        phred = 20\n",
    "        trunc_f = 0\n",
    "        trunc_r = 0\n",
    "        overlap = 12\n",
    "        threads = 6"
   ]
  },
  {
   "cell_type": "code",
   "execution_count": 5,
   "id": "2b08870b",
   "metadata": {
    "ExecuteTime": {
     "end_time": "2022-06-29T18:51:02.089300Z",
     "start_time": "2022-06-29T18:51:02.084922Z"
    },
    "execution": {
     "iopub.execute_input": "2023-08-23T18:02:50.196473Z",
     "iopub.status.busy": "2023-08-23T18:02:50.196060Z",
     "iopub.status.idle": "2023-08-23T18:02:50.203601Z",
     "shell.execute_reply": "2023-08-23T18:02:50.202713Z"
    },
    "papermill": {
     "duration": 0.025302,
     "end_time": "2023-08-23T18:02:50.205499",
     "exception": false,
     "start_time": "2023-08-23T18:02:50.180197",
     "status": "completed"
    },
    "tags": []
   },
   "outputs": [],
   "source": [
    "experiment_folder = os.path.abspath(os.path.join(base_dir, 'experiments', experiment_name))\n",
    "img_folder = os.path.abspath(os.path.join(experiment_folder, 'imgs'))\n",
    "qiime_folder = os.path.join(experiment_folder, 'qiime-artifacts')\n",
    "data_dir =  os.path.abspath(os.path.join(base_dir, 'data'))\n",
    "raw_data_dir =  os.path.abspath(os.path.join(data_dir, 'raw'))\n",
    "interim_data_dir =  os.path.abspath(os.path.join(data_dir, 'interim'))"
   ]
  },
  {
   "cell_type": "markdown",
   "id": "f31e0e11",
   "metadata": {
    "papermill": {
     "duration": 0.014801,
     "end_time": "2023-08-23T18:02:50.237558",
     "exception": false,
     "start_time": "2023-08-23T18:02:50.222757",
     "status": "completed"
    },
    "tags": []
   },
   "source": [
    "### Defining names and paths"
   ]
  },
  {
   "cell_type": "code",
   "execution_count": 6,
   "id": "825c1e8e",
   "metadata": {
    "ExecuteTime": {
     "end_time": "2022-05-30T19:57:39.064490Z",
     "start_time": "2022-05-30T19:57:39.007809Z"
    },
    "execution": {
     "iopub.execute_input": "2023-08-23T18:02:50.268320Z",
     "iopub.status.busy": "2023-08-23T18:02:50.267879Z",
     "iopub.status.idle": "2023-08-23T18:02:50.276053Z",
     "shell.execute_reply": "2023-08-23T18:02:50.275148Z"
    },
    "papermill": {
     "duration": 0.02578,
     "end_time": "2023-08-23T18:02:50.277959",
     "exception": false,
     "start_time": "2023-08-23T18:02:50.252179",
     "status": "completed"
    },
    "tags": []
   },
   "outputs": [],
   "source": [
    "if trim:\n",
    "    demux_file = os.path.join(qiime_folder, 'demux-paired-trim.qza')\n",
    "else:\n",
    "    demux_file = os.path.join(qiime_folder, 'demux-paired.qza')\n",
    "\n",
    "dada2_tabs = os.path.join(qiime_folder, 'dada2-tabs.qza')\n",
    "dada2_reps = os.path.join(qiime_folder, 'dada2-reps.qza')\n",
    "dada2_stat = os.path.join(qiime_folder, 'dada2-stat.qza')\n",
    "\n",
    "\n",
    "dada2_tabs_view = dada2_tabs[:-1] + 'v'\n",
    "dada2_reps_view = dada2_reps[:-1] + 'v'\n",
    "dada2_stat_view = dada2_stat[:-1] + 'v'\n",
    "dada2_core_view = os.path.join(qiime_folder, 'dada2-core.qzv')"
   ]
  },
  {
   "cell_type": "markdown",
   "id": "87b25780",
   "metadata": {
    "papermill": {
     "duration": 0.014525,
     "end_time": "2023-08-23T18:02:50.309368",
     "exception": false,
     "start_time": "2023-08-23T18:02:50.294843",
     "status": "completed"
    },
    "tags": []
   },
   "source": [
    "## Step execution\n",
    "\n",
    "### Load input files\n",
    "\n",
    "This Step import the QIIME2 `SampleData[PairedEndSequencesWithQuality]` Artifact with all demultiplexed sequences and the `Metadata` file."
   ]
  },
  {
   "cell_type": "code",
   "execution_count": 7,
   "id": "358eae4f",
   "metadata": {
    "ExecuteTime": {
     "end_time": "2022-05-30T19:57:39.077380Z",
     "start_time": "2022-05-30T19:57:39.066746Z"
    },
    "execution": {
     "iopub.execute_input": "2023-08-23T18:02:50.340625Z",
     "iopub.status.busy": "2023-08-23T18:02:50.340133Z",
     "iopub.status.idle": "2023-08-23T18:02:50.346967Z",
     "shell.execute_reply": "2023-08-23T18:02:50.346020Z"
    },
    "papermill": {
     "duration": 0.024554,
     "end_time": "2023-08-23T18:02:50.348597",
     "exception": false,
     "start_time": "2023-08-23T18:02:50.324043",
     "status": "completed"
    },
    "tags": []
   },
   "outputs": [],
   "source": [
    "need_dada2 = not (os.path.isfile(dada2_tabs) and os.path.isfile(dada2_reps) and os.path.isfile(dada2_stat)) or replace_files\n",
    "need_view = not (os.path.isfile(dada2_tabs_view) and os.path.isfile(dada2_reps_view) and os.path.isfile(dada2_stat_view)) or replace_files"
   ]
  },
  {
   "cell_type": "code",
   "execution_count": 8,
   "id": "0306bbe2",
   "metadata": {
    "ExecuteTime": {
     "end_time": "2022-05-30T19:57:39.089632Z",
     "start_time": "2022-05-30T19:57:39.079347Z"
    },
    "execution": {
     "iopub.execute_input": "2023-08-23T18:02:50.381509Z",
     "iopub.status.busy": "2023-08-23T18:02:50.381039Z",
     "iopub.status.idle": "2023-08-23T18:02:51.108814Z",
     "shell.execute_reply": "2023-08-23T18:02:51.107920Z"
    },
    "papermill": {
     "duration": 0.746558,
     "end_time": "2023-08-23T18:02:51.112063",
     "exception": false,
     "start_time": "2023-08-23T18:02:50.365505",
     "status": "completed"
    },
    "tags": []
   },
   "outputs": [],
   "source": [
    "if need_dada2:\n",
    "    demux = Artifact.load(demux_file)"
   ]
  },
  {
   "cell_type": "code",
   "execution_count": 9,
   "id": "34ecd4ef",
   "metadata": {
    "ExecuteTime": {
     "end_time": "2022-05-30T19:57:39.145879Z",
     "start_time": "2022-05-30T19:57:39.091983Z"
    },
    "execution": {
     "iopub.execute_input": "2023-08-23T18:02:51.152524Z",
     "iopub.status.busy": "2023-08-23T18:02:51.152086Z",
     "iopub.status.idle": "2023-08-23T18:02:51.171613Z",
     "shell.execute_reply": "2023-08-23T18:02:51.170940Z"
    },
    "papermill": {
     "duration": 0.038382,
     "end_time": "2023-08-23T18:02:51.173589",
     "exception": false,
     "start_time": "2023-08-23T18:02:51.135207",
     "status": "completed"
    },
    "tags": []
   },
   "outputs": [],
   "source": [
    "metadata = Metadata.load(metadata_file)"
   ]
  },
  {
   "cell_type": "code",
   "execution_count": 10,
   "id": "96ca0c9e",
   "metadata": {
    "execution": {
     "iopub.execute_input": "2023-08-23T18:02:51.211595Z",
     "iopub.status.busy": "2023-08-23T18:02:51.211319Z",
     "iopub.status.idle": "2023-08-23T18:02:51.219630Z",
     "shell.execute_reply": "2023-08-23T18:02:51.218826Z"
    },
    "papermill": {
     "duration": 0.026465,
     "end_time": "2023-08-23T18:02:51.221260",
     "exception": false,
     "start_time": "2023-08-23T18:02:51.194795",
     "status": "completed"
    },
    "tags": []
   },
   "outputs": [],
   "source": [
    "# Determine if is SingleEnd or PairedEnd\n",
    "manifest_df = pd.read_csv(manifest_file)\n",
    "n_directions = len(manifest_df['direction'].unique())"
   ]
  },
  {
   "cell_type": "markdown",
   "id": "af3e29e4",
   "metadata": {
    "papermill": {
     "duration": 0.015408,
     "end_time": "2023-08-23T18:02:51.254860",
     "exception": false,
     "start_time": "2023-08-23T18:02:51.239452",
     "status": "completed"
    },
    "tags": []
   },
   "source": [
    "### Execute DADA2 plugin and create Artifacts\n",
    "\n",
    "The DADA2 plugin perform tha quality control and create the ASV table. It will be produced three Artifacts:\n",
    "\n",
    "- tabs (`FeatureTable[Frequency]`) : \n",
    "    The resulting feature table.\n",
    "- reps (`FeatureData[Sequence]`) :\n",
    "    The resulting feature sequences. Each feature in the feature table will\n",
    "    be represented by exactly one sequence, and these sequences will be the\n",
    "    joined paired-end sequences.\n",
    "- denoising_stats (`SampleData[DADA2Stats]`) : the resulting stats. Shows the number and the proportion of filtered reads in each phase of the plugin execution."
   ]
  },
  {
   "cell_type": "code",
   "execution_count": 11,
   "id": "3644ea16",
   "metadata": {
    "execution": {
     "iopub.execute_input": "2023-08-23T18:02:51.287062Z",
     "iopub.status.busy": "2023-08-23T18:02:51.286633Z",
     "iopub.status.idle": "2023-08-23T18:02:51.337795Z",
     "shell.execute_reply": "2023-08-23T18:02:51.337021Z"
    },
    "papermill": {
     "duration": 0.069506,
     "end_time": "2023-08-23T18:02:51.339691",
     "exception": false,
     "start_time": "2023-08-23T18:02:51.270185",
     "status": "completed"
    },
    "tags": []
   },
   "outputs": [
    {
     "name": "stdout",
     "output_type": "stream",
     "text": [
      "Load DADA2 data from shared files\n"
     ]
    }
   ],
   "source": [
    "if not os.path.isfile(dada2_tabs) or replace_files:\n",
    "    interim_tabs_path = os.path.join(interim_data_dir, \"dada2-tabs.qza\")\n",
    "    interim_reps_path = os.path.join(interim_data_dir, \"dada2-reps.qza\")\n",
    "    interim_stat_path = os.path.join(interim_data_dir, \"dada2-stat.qza\")\n",
    "    # Verify if has shared files\n",
    "    if os.path.isfile(interim_tabs_path) and os.path.isfile(interim_reps_path) and os.path.isfile(interim_stat_path):\n",
    "        print(\"Load DADA2 data from shared files\")\n",
    "        tabs = Artifact.load(interim_tabs_path)\n",
    "        reps = Artifact.load(interim_reps_path)\n",
    "        stat = Artifact.load(interim_stat_path)\n",
    "    # Create new DADA2 files\n",
    "    else:\n",
    "        print(\"Create new local DADA2 data\")\n",
    "        if n_directions == 1: # SingleEnd\n",
    "            tabs, reps, stat = dada2_actions.denoise_single(\n",
    "                demultiplexed_seqs=demux,\n",
    "                trunc_q = phred,\n",
    "                n_threads = threads,\n",
    "                trunc_len = trunc_f,\n",
    "            )\n",
    "        elif n_directions == 2: # PairedEnd\n",
    "            tabs, reps, stat = dada2_actions.denoise_paired(\n",
    "                demultiplexed_seqs=demux,\n",
    "                trunc_q = phred,\n",
    "                min_overlap = overlap,\n",
    "                n_threads = threads,\n",
    "                trunc_len_f = trunc_f,\n",
    "                trunc_len_r = trunc_r,\n",
    "            )\n",
    "        tabs.save(dada2_tabs)\n",
    "        reps.save(dada2_reps)\n",
    "        stat.save(dada2_stat)\n",
    "else:\n",
    "    print(\"Load DADA2 data from local files\")\n",
    "    tabs = Artifact.load(dada2_tabs)\n",
    "    reps = Artifact.load(dada2_reps)\n",
    "    stat = Artifact.load(dada2_stat)"
   ]
  },
  {
   "cell_type": "markdown",
   "id": "7f4ca283",
   "metadata": {
    "papermill": {
     "duration": 0.015557,
     "end_time": "2023-08-23T18:02:51.374441",
     "exception": false,
     "start_time": "2023-08-23T18:02:51.358884",
     "status": "completed"
    },
    "tags": []
   },
   "source": [
    "### Filter samples"
   ]
  },
  {
   "cell_type": "code",
   "execution_count": 12,
   "id": "5098c270",
   "metadata": {
    "execution": {
     "iopub.execute_input": "2023-08-23T18:02:51.406648Z",
     "iopub.status.busy": "2023-08-23T18:02:51.406218Z",
     "iopub.status.idle": "2023-08-23T18:02:52.192454Z",
     "shell.execute_reply": "2023-08-23T18:02:52.191700Z"
    },
    "papermill": {
     "duration": 0.805804,
     "end_time": "2023-08-23T18:02:52.195650",
     "exception": false,
     "start_time": "2023-08-23T18:02:51.389846",
     "status": "completed"
    },
    "tags": []
   },
   "outputs": [],
   "source": [
    "# Filter FeatureTable[Frequency | RelativeFrequency | PresenceAbsence | Composition] based on Metadata sample ID values\n",
    "tabs = filter_samples(\n",
    "    table=tabs,\n",
    "    metadata=metadata,\n",
    ").filtered_table\n",
    "# Filter SampleData[SequencesWithQuality | PairedEndSequencesWithQuality | JoinedSequencesWithQuality] based on Metadata sample ID values; returns FeatureData[Sequence | AlignedSequence]\n",
    "reps = filter_seqs(\n",
    "    data=reps,\n",
    "    table=tabs,\n",
    ").filtered_data"
   ]
  },
  {
   "cell_type": "markdown",
   "id": "2365f897",
   "metadata": {
    "papermill": {
     "duration": 0.016002,
     "end_time": "2023-08-23T18:02:52.235381",
     "exception": false,
     "start_time": "2023-08-23T18:02:52.219379",
     "status": "completed"
    },
    "tags": []
   },
   "source": [
    "### Define Visualizations Artifacts"
   ]
  },
  {
   "cell_type": "code",
   "execution_count": 13,
   "id": "fe1cfcb6",
   "metadata": {
    "ExecuteTime": {
     "end_time": "2022-05-30T19:57:39.249051Z",
     "start_time": "2022-05-30T19:57:39.173053Z"
    },
    "execution": {
     "iopub.execute_input": "2023-08-23T18:02:52.268315Z",
     "iopub.status.busy": "2023-08-23T18:02:52.267789Z",
     "iopub.status.idle": "2023-08-23T18:02:57.459394Z",
     "shell.execute_reply": "2023-08-23T18:02:57.458784Z"
    },
    "papermill": {
     "duration": 5.212306,
     "end_time": "2023-08-23T18:02:57.463536",
     "exception": false,
     "start_time": "2023-08-23T18:02:52.251230",
     "status": "completed"
    },
    "tags": []
   },
   "outputs": [
    {
     "data": {
      "image/png": "[encoded data removed]",
      "text/plain": [
       "<Figure size 432x288 with 1 Axes>"
      ]
     },
     "metadata": {
      "needs_background": "light"
     },
     "output_type": "display_data"
    }
   ],
   "source": [
    "# If some of the DADA2 Visualization artifacts do not exist or if the old files will be replaced\n",
    "if need_view:\n",
    "    \n",
    "    tabs_view, = metadata_actions.tabulate(input=tabs.view(Metadata))\n",
    "    reps_view, = metadata_actions.tabulate(input=reps.view(Metadata))\n",
    "    stat_view, = metadata_actions.tabulate(input=stat.view(Metadata))\n",
    "    \n",
    "    tabs_view = summarize(table=tabs, sample_metadata=metadata).visualization\n",
    "    reps_view = tabulate_seqs(data=reps).visualization\n",
    "    core_view = core_features(table=tabs, min_fraction=.1, steps=10).visualization\n",
    "    \n",
    "    \n",
    "    # Save the artifacts objects\n",
    "    tabs_view.save(dada2_tabs_view)\n",
    "    reps_view.save(dada2_reps_view)\n",
    "    stat_view.save(dada2_stat_view)\n",
    "    core_view.save(dada2_core_view)\n",
    "\n",
    "else:\n",
    "    tabs_view = Visualization.load(dada2_tabs_view)\n",
    "    reps_view = Visualization.load(dada2_reps_view)\n",
    "    stat_view = Visualization.load(dada2_stat_view)\n",
    "    core_view = Visualization.load(dada2_core_view)"
   ]
  },
  {
   "cell_type": "code",
   "execution_count": 14,
   "id": "70896f48",
   "metadata": {
    "execution": {
     "iopub.execute_input": "2023-08-23T18:02:57.501847Z",
     "iopub.status.busy": "2023-08-23T18:02:57.501586Z",
     "iopub.status.idle": "2023-08-23T18:02:57.506109Z",
     "shell.execute_reply": "2023-08-23T18:02:57.505647Z"
    },
    "papermill": {
     "duration": 0.022441,
     "end_time": "2023-08-23T18:02:57.507437",
     "exception": false,
     "start_time": "2023-08-23T18:02:57.484996",
     "status": "completed"
    },
    "tags": []
   },
   "outputs": [],
   "source": [
    "def plot_stats_box(artifact, fname, total_reads_phases, percent_phases, cols):\n",
    "    import matplotlib.pyplot as plt\n",
    "    from qiime2 import Metadata\n",
    "    \n",
    "    df = artifact.view(Metadata).to_dataframe()\n",
    "    df_vals = df[total_reads_phases]\n",
    "    df_perc = df[percent_phases]\n",
    "    df_perc.columns = cols\n",
    "    \n",
    "    \n",
    "    plt.figure(figsize=(15,5))\n",
    "    plt.subplot(1, 2, 1)\n",
    "    df_vals.boxplot()\n",
    "    plt.xlabel('Fases')\n",
    "    plt.ylabel('# of reads')\n",
    "    \n",
    "    plt.subplot(1, 2, 2)\n",
    "    df_perc.boxplot()\n",
    "    plt.xlabel('Fases')\n",
    "    plt.ylabel('% of input')\n",
    "    \n",
    "    plt.savefig(fname, bbox_inches='tight')\n",
    "\n",
    "    plt.show()"
   ]
  },
  {
   "cell_type": "code",
   "execution_count": 15,
   "id": "4ae9c720",
   "metadata": {
    "execution": {
     "iopub.execute_input": "2023-08-23T18:02:57.540305Z",
     "iopub.status.busy": "2023-08-23T18:02:57.540070Z",
     "iopub.status.idle": "2023-08-23T18:02:57.543470Z",
     "shell.execute_reply": "2023-08-23T18:02:57.542912Z"
    },
    "papermill": {
     "duration": 0.02121,
     "end_time": "2023-08-23T18:02:57.544863",
     "exception": false,
     "start_time": "2023-08-23T18:02:57.523653",
     "status": "completed"
    },
    "tags": []
   },
   "outputs": [],
   "source": [
    "if n_directions == 1: # SingleEnd\n",
    "    total_reads_phases = ['input', 'filtered', 'denoised', 'non-chimeric']\n",
    "    percent_phases = ['percentage of input passed filter', 'percentage of input non-chimeric']\n",
    "    cols = ['filtered', 'non-chimeric']\n",
    "elif n_directions == 2: # PairedEnd\n",
    "    total_reads_phases = ['input', 'filtered', 'denoised', 'merged', 'non-chimeric']\n",
    "    percent_phases = ['percentage of input passed filter', 'percentage of input merged', 'percentage of input non-chimeric']\n",
    "    cols = ['filtered', 'merged', 'non-chimeric']"
   ]
  },
  {
   "cell_type": "code",
   "execution_count": 16,
   "id": "90902789",
   "metadata": {
    "ExecuteTime": {
     "end_time": "2022-05-30T19:57:39.901491Z",
     "start_time": "2022-05-30T19:57:39.255220Z"
    },
    "execution": {
     "iopub.execute_input": "2023-08-23T18:02:57.577219Z",
     "iopub.status.busy": "2023-08-23T18:02:57.577007Z",
     "iopub.status.idle": "2023-08-23T18:02:58.072464Z",
     "shell.execute_reply": "2023-08-23T18:02:58.071823Z"
    },
    "papermill": {
     "duration": 0.513819,
     "end_time": "2023-08-23T18:02:58.074511",
     "exception": false,
     "start_time": "2023-08-23T18:02:57.560692",
     "status": "completed"
    },
    "scrolled": false,
    "tags": []
   },
   "outputs": [
    {
     "data": {
      "image/png": "[encoded data removed]",
      "text/plain": [
       "<Figure size 1080x360 with 2 Axes>"
      ]
     },
     "metadata": {
      "needs_background": "light"
     },
     "output_type": "display_data"
    }
   ],
   "source": [
    "plot_stats_box(stat, os.path.join(img_folder, 'step02-stats-boxplot.pdf'), total_reads_phases, percent_phases, cols)"
   ]
  },
  {
   "cell_type": "code",
   "execution_count": 17,
   "id": "e30919fd",
   "metadata": {
    "ExecuteTime": {
     "end_time": "2022-05-31T17:58:47.140114Z",
     "start_time": "2022-05-31T17:58:47.087808Z"
    },
    "execution": {
     "iopub.execute_input": "2023-08-23T18:02:58.113233Z",
     "iopub.status.busy": "2023-08-23T18:02:58.112914Z",
     "iopub.status.idle": "2023-08-23T18:02:58.150102Z",
     "shell.execute_reply": "2023-08-23T18:02:58.149637Z"
    },
    "papermill": {
     "duration": 0.056645,
     "end_time": "2023-08-23T18:02:58.152170",
     "exception": false,
     "start_time": "2023-08-23T18:02:58.095525",
     "status": "completed"
    },
    "tags": []
   },
   "outputs": [
    {
     "data": {
      "text/html": [
       "<div>\n",
       "<style scoped>\n",
       "    .dataframe tbody tr th:only-of-type {\n",
       "        vertical-align: middle;\n",
       "    }\n",
       "\n",
       "    .dataframe tbody tr th {\n",
       "        vertical-align: top;\n",
       "    }\n",
       "\n",
       "    .dataframe thead th {\n",
       "        text-align: right;\n",
       "    }\n",
       "</style>\n",
       "<table border=\"1\" class=\"dataframe\">\n",
       "  <thead>\n",
       "    <tr style=\"text-align: right;\">\n",
       "      <th></th>\n",
       "      <th>percentage of input passed filter</th>\n",
       "      <th>percentage of input merged</th>\n",
       "      <th>percentage of input non-chimeric</th>\n",
       "    </tr>\n",
       "  </thead>\n",
       "  <tbody>\n",
       "    <tr>\n",
       "      <th>count</th>\n",
       "      <td>74.000000</td>\n",
       "      <td>74.000000</td>\n",
       "      <td>74.000000</td>\n",
       "    </tr>\n",
       "    <tr>\n",
       "      <th>mean</th>\n",
       "      <td>85.240946</td>\n",
       "      <td>75.388649</td>\n",
       "      <td>74.583919</td>\n",
       "    </tr>\n",
       "    <tr>\n",
       "      <th>std</th>\n",
       "      <td>0.677259</td>\n",
       "      <td>10.290852</td>\n",
       "      <td>10.194336</td>\n",
       "    </tr>\n",
       "    <tr>\n",
       "      <th>min</th>\n",
       "      <td>83.410000</td>\n",
       "      <td>33.150000</td>\n",
       "      <td>32.760000</td>\n",
       "    </tr>\n",
       "    <tr>\n",
       "      <th>25%</th>\n",
       "      <td>84.822500</td>\n",
       "      <td>76.122500</td>\n",
       "      <td>74.970000</td>\n",
       "    </tr>\n",
       "    <tr>\n",
       "      <th>50%</th>\n",
       "      <td>85.220000</td>\n",
       "      <td>78.405000</td>\n",
       "      <td>77.895000</td>\n",
       "    </tr>\n",
       "    <tr>\n",
       "      <th>75%</th>\n",
       "      <td>85.662500</td>\n",
       "      <td>79.927500</td>\n",
       "      <td>78.760000</td>\n",
       "    </tr>\n",
       "    <tr>\n",
       "      <th>max</th>\n",
       "      <td>86.720000</td>\n",
       "      <td>83.920000</td>\n",
       "      <td>82.320000</td>\n",
       "    </tr>\n",
       "  </tbody>\n",
       "</table>\n",
       "</div>"
      ],
      "text/plain": [
       "       percentage of input passed filter  percentage of input merged  \\\n",
       "count                          74.000000                   74.000000   \n",
       "mean                           85.240946                   75.388649   \n",
       "std                             0.677259                   10.290852   \n",
       "min                            83.410000                   33.150000   \n",
       "25%                            84.822500                   76.122500   \n",
       "50%                            85.220000                   78.405000   \n",
       "75%                            85.662500                   79.927500   \n",
       "max                            86.720000                   83.920000   \n",
       "\n",
       "       percentage of input non-chimeric  \n",
       "count                         74.000000  \n",
       "mean                          74.583919  \n",
       "std                           10.194336  \n",
       "min                           32.760000  \n",
       "25%                           74.970000  \n",
       "50%                           77.895000  \n",
       "75%                           78.760000  \n",
       "max                           82.320000  "
      ]
     },
     "execution_count": 17,
     "metadata": {},
     "output_type": "execute_result"
    }
   ],
   "source": [
    "stat.view(Metadata).to_dataframe().describe()[percent_phases]"
   ]
  },
  {
   "cell_type": "code",
   "execution_count": 18,
   "id": "f2557ba5",
   "metadata": {
    "ExecuteTime": {
     "end_time": "2022-05-30T19:57:39.957632Z",
     "start_time": "2022-05-30T19:57:39.953762Z"
    },
    "execution": {
     "iopub.execute_input": "2023-08-23T18:02:58.190925Z",
     "iopub.status.busy": "2023-08-23T18:02:58.190687Z",
     "iopub.status.idle": "2023-08-23T18:02:58.195753Z",
     "shell.execute_reply": "2023-08-23T18:02:58.195095Z"
    },
    "papermill": {
     "duration": 0.024422,
     "end_time": "2023-08-23T18:02:58.197214",
     "exception": false,
     "start_time": "2023-08-23T18:02:58.172792",
     "status": "completed"
    },
    "tags": []
   },
   "outputs": [
    {
     "data": {
      "text/html": [
       "<div><img onload=\"(function(div, url){\n",
       "if (typeof require !== 'undefined') {\n",
       "    var baseURL = require.toUrl('').split('/').slice(0, -2).join('/');\n",
       "} else {\n",
       "    var baseURL = JSON.parse(\n",
       "        document.getElementById('jupyter-config-data').innerHTML\n",
       "    ).baseUrl.slice(0, -1);\n",
       "}\n",
       "url = baseURL + url;\n",
       "fetch(url).then(function(res) {\n",
       "    if (res.status === 404) {\n",
       "        div.innerHTML = 'Install QIIME 2 Jupyter extension with:<br />' +\n",
       "                        '<code>jupyter serverextension enable --py qiime2' +\n",
       "                        ' --sys-prefix</code><br />then restart your server.' +\n",
       "                        '<br /><br />(Interactive output not available on ' +\n",
       "                        'static notebook viewer services like nbviewer.)';\n",
       "    } else if (res.status === 409) {\n",
       "        div.innerHTML = 'Visualization no longer in scope. Re-run this cell' +\n",
       "                        ' to see the visualization.';\n",
       "    } else if (res.ok) {\n",
       "        url = res.url;\n",
       "        div.innerHTML = '<iframe src=\\'' + url + '\\' style=\\'' +\n",
       "                        'width: 100%; height: 700px; border: 0;\\'>' +\n",
       "                        '</iframe><hr />Open in a: <a href=\\'' + url + '\\'' +\n",
       "                        ' target=\\'_blank\\'>new window</a>'\n",
       "    } else {\n",
       "        div.innerHTML = 'Something has gone wrong. Check notebook server for' +\n",
       "                        ' errors.';\n",
       "    }\n",
       "});\n",
       "})(this.parentElement, '/qiime2/redirect?location=/tmp/qiime2-archive-nceal6md')\" src=\"data:image/gif;base64,R0lGODlhAQABAIAAAP///wAAACH5BAEAAAAALAAAAAABAAEAAAICRAEAOw==\" /></div>"
      ],
      "text/plain": [
       "<visualization: Visualization uuid: f1a66b75-d023-4652-a89e-3605c3fa13bc>"
      ]
     },
     "execution_count": 18,
     "metadata": {},
     "output_type": "execute_result"
    }
   ],
   "source": [
    "stat_view"
   ]
  }
 ],
 "metadata": {
  "celltoolbar": "Edit Metadata",
  "kernelspec": {
   "display_name": "Python 3 (ipykernel)",
   "language": "python",
   "name": "python3"
  },
  "language_info": {
   "codemirror_mode": {
    "name": "ipython",
    "version": 3
   },
   "file_extension": ".py",
   "mimetype": "text/x-python",
   "name": "python",
   "nbconvert_exporter": "python",
   "pygments_lexer": "ipython3",
   "version": "3.8.12"
  },
  "papermill": {
   "default_parameters": {},
   "duration": 16.787893,
   "end_time": "2023-08-23T18:02:59.035007",
   "environment_variables": {},
   "exception": null,
   "input_path": "nb-templates/step-quality-control.ipynb",
   "output_path": "/home/lauro/nupeb/rede-micro/redemicro-ana-flavia-nutri/experiments/ana-flavia-HSD-NCxHSD-NR-trim/nb-executed-steps/step-quality-control-ana-flavia-HSD-NCxHSD-NR-trim.ipynb",
   "parameters": {
    "base_dir": "/home/lauro/nupeb/rede-micro/redemicro-ana-flavia-nutri",
    "class_col": "group-id",
    "classifier_file": "/home/lauro/nupeb/rede-micro/models/silva-138-99-nb-classifier.qza",
    "experiment_name": "ana-flavia-HSD-NCxHSD-NR-trim",
    "manifest_file": "/home/lauro/nupeb/rede-micro/redemicro-ana-flavia-nutri/data/raw/manifest/manifest-ana-flavia-HSD-NCxHSD-NR.csv",
    "metadata_file": "/home/lauro/nupeb/rede-micro/redemicro-ana-flavia-nutri/data/raw/metadata/metadata-ana-flavia-HSD-NCxHSD-NR.tsv",
    "overlap": 12,
    "phred": 20,
    "replace_files": false,
    "threads": 6,
    "top_n": 20,
    "trim": {
     "forward_primer": "CCTACGGGRSGCAGCAG",
     "overlap": 8,
     "reverse_primer": "GGACTACHVGGGTWTCTAAT"
    },
    "trunc_f": 0,
    "trunc_r": 0
   },
   "start_time": "2023-08-23T18:02:42.247114",
   "version": "2.3.4"
  },
  "toc-autonumbering": false,
  "toc-showcode": false,
  "toc-showmarkdowntxt": false
 },
 "nbformat": 4,
 "nbformat_minor": 5
}