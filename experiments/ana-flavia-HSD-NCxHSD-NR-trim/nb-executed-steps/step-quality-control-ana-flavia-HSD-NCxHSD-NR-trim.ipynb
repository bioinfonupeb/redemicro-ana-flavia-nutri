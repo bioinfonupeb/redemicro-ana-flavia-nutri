{
 "cells": [
  {
   "cell_type": "markdown",
   "id": "3223bb01",
   "metadata": {
    "papermill": {
     "duration": 0.01856,
     "end_time": "2022-10-14T16:57:05.311532",
     "exception": false,
     "start_time": "2022-10-14T16:57:05.292972",
     "status": "completed"
    },
    "tags": []
   },
   "source": [
    "# Quality Control and ASV table construction with DADA2"
   ]
  },
  {
   "cell_type": "markdown",
   "id": "6a805122",
   "metadata": {
    "papermill": {
     "duration": 0.022662,
     "end_time": "2022-10-14T16:57:05.347665",
     "exception": false,
     "start_time": "2022-10-14T16:57:05.325003",
     "status": "completed"
    },
    "tags": []
   },
   "source": [
    "## Setup and settings"
   ]
  },
  {
   "cell_type": "code",
   "execution_count": 1,
   "id": "263ad5e7",
   "metadata": {
    "ExecuteTime": {
     "end_time": "2022-06-29T18:49:49.974644Z",
     "start_time": "2022-06-29T18:49:30.876897Z"
    },
    "execution": {
     "iopub.execute_input": "2022-10-14T16:57:05.373915Z",
     "iopub.status.busy": "2022-10-14T16:57:05.373583Z",
     "iopub.status.idle": "2022-10-14T16:57:11.912517Z",
     "shell.execute_reply": "2022-10-14T16:57:11.911746Z"
    },
    "papermill": {
     "duration": 6.553904,
     "end_time": "2022-10-14T16:57:11.914203",
     "exception": false,
     "start_time": "2022-10-14T16:57:05.360299",
     "status": "completed"
    },
    "tags": []
   },
   "outputs": [],
   "source": [
    "# Importing packages\n",
    "import os\n",
    "import yaml\n",
    "import logging\n",
    "from qiime2 import Artifact\n",
    "from qiime2 import Visualization\n",
    "from qiime2 import Metadata\n",
    "import qiime2.plugins.dada2.actions as dada2_actions\n",
    "import qiime2.plugins.metadata.actions as metadata_actions\n",
    "from qiime2.plugins.feature_table.visualizers import tabulate_seqs\n",
    "from qiime2.plugins.feature_table.visualizers import summarize\n",
    "from qiime2.plugins.feature_table.visualizers import core_features\n",
    "\n",
    "import matplotlib.pyplot as plt\n",
    "\n",
    "%matplotlib inline"
   ]
  },
  {
   "cell_type": "markdown",
   "id": "f6ada8ad",
   "metadata": {
    "papermill": {
     "duration": 0.01061,
     "end_time": "2022-10-14T16:57:11.936960",
     "exception": false,
     "start_time": "2022-10-14T16:57:11.926350",
     "status": "completed"
    },
    "tags": []
   },
   "source": [
    "### Receiving the parameters\n",
    "\n",
    "The following cell can receive parameters using the [papermill](https://papermill.readthedocs.io/en/latest/) tool."
   ]
  },
  {
   "cell_type": "code",
   "execution_count": 2,
   "id": "be7f976b",
   "metadata": {
    "ExecuteTime": {
     "end_time": "2022-06-29T18:54:01.035034Z",
     "start_time": "2022-06-29T18:54:01.028724Z"
    },
    "execution": {
     "iopub.execute_input": "2022-10-14T16:57:11.983830Z",
     "iopub.status.busy": "2022-10-14T16:57:11.983659Z",
     "iopub.status.idle": "2022-10-14T16:57:11.988032Z",
     "shell.execute_reply": "2022-10-14T16:57:11.987364Z"
    },
    "papermill": {
     "duration": 0.016455,
     "end_time": "2022-10-14T16:57:11.989298",
     "exception": false,
     "start_time": "2022-10-14T16:57:11.972843",
     "status": "completed"
    },
    "tags": [
     "parameters"
    ]
   },
   "outputs": [],
   "source": [
    "experiment_name = 'ana-flavia-superlactacao'\n",
    "base_dir = os.path.join('/', 'home', 'lauro', 'nupeb', 'redemicro')\n",
    "metadata_file = os.path.join(base_dir, 'data', 'raw', 'metadata', 'sample-metadata.tsv')\n",
    "replace_files = False\n",
    "phred = 20\n",
    "trunc_f = 0\n",
    "trunc_r = 0\n",
    "overlap = 12\n",
    "threads = 6\n",
    "trim = None"
   ]
  },
  {
   "cell_type": "code",
   "execution_count": 3,
   "id": "1e6f4159",
   "metadata": {
    "execution": {
     "iopub.execute_input": "2022-10-14T16:57:12.028517Z",
     "iopub.status.busy": "2022-10-14T16:57:12.028357Z",
     "iopub.status.idle": "2022-10-14T16:57:12.032192Z",
     "shell.execute_reply": "2022-10-14T16:57:12.031769Z"
    },
    "papermill": {
     "duration": 0.033161,
     "end_time": "2022-10-14T16:57:12.033468",
     "exception": false,
     "start_time": "2022-10-14T16:57:12.000307",
     "status": "completed"
    },
    "tags": [
     "injected-parameters"
    ]
   },
   "outputs": [],
   "source": [
    "# Parameters\n",
    "experiment_name = \"ana-flavia-HSD-NCxHSD-NR-trim\"\n",
    "base_dir = \"/home/lauro/nupeb/rede-micro/redemicro-ana-flavia-nutri\"\n",
    "manifest_file = \"/home/lauro/nupeb/rede-micro/redemicro-ana-flavia-nutri/data/raw/manifest/manifest-ana-flavia-HSD-NCxHSD-NR.csv\"\n",
    "metadata_file = \"/home/lauro/nupeb/rede-micro/redemicro-ana-flavia-nutri/data/raw/metadata/metadata-ana-flavia-HSD-NCxHSD-NR.tsv\"\n",
    "class_col = \"group-id\"\n",
    "classifier_file = \"/home/lauro/nupeb/dados_brutos_rede_genoma/16S_classifiers_qiime2/silva-138-99-nb-classifier.qza\"\n",
    "replace_files = False\n",
    "phred = 20\n",
    "trunc_f = 0\n",
    "trunc_r = 0\n",
    "overlap = 12\n",
    "threads = 6\n",
    "trim = {\n",
    "    \"overlap\": 8,\n",
    "    \"forward_primer\": \"CCTACGGGRSGCAGCAG\",\n",
    "    \"reverse_primer\": \"GGACTACHVGGGTWTCTAAT\",\n",
    "}\n"
   ]
  },
  {
   "cell_type": "code",
   "execution_count": 4,
   "id": "1b21aba6",
   "metadata": {
    "execution": {
     "iopub.execute_input": "2022-10-14T16:57:12.061234Z",
     "iopub.status.busy": "2022-10-14T16:57:12.061072Z",
     "iopub.status.idle": "2022-10-14T16:57:12.065480Z",
     "shell.execute_reply": "2022-10-14T16:57:12.065057Z"
    },
    "papermill": {
     "duration": 0.022032,
     "end_time": "2022-10-14T16:57:12.066765",
     "exception": false,
     "start_time": "2022-10-14T16:57:12.044733",
     "status": "completed"
    },
    "tags": []
   },
   "outputs": [],
   "source": [
    "# Setting hardcoded parameters for development and debbuging\n",
    "production = True\n",
    "if not production:\n",
    "    params_path = os.path.join('..', 'params', 'ana-flavia-superlactacao.yaml')\n",
    "    with open(params_path, 'r') as stream:\n",
    "        params = yaml.safe_load(stream)\n",
    "        experiment_name = params['experiment_name']\n",
    "        base_dir = params['base_dir']\n",
    "        replace_files = params['replace_files']\n",
    "        experiment_folder = os.path.abspath(os.path.join(os.getcwd(), '..', 'experiments', 'thayane-feces-01'))\n",
    "        img_folder = os.path.abspath(os.path.join(experiment_folder, 'imgs'))\n",
    "        replace_files = False\n",
    "        phred = 20\n",
    "        trunc_f = 0\n",
    "        trunc_r = 0\n",
    "        overlap = 12\n",
    "        threads = 6"
   ]
  },
  {
   "cell_type": "code",
   "execution_count": 5,
   "id": "347f3fb1",
   "metadata": {
    "ExecuteTime": {
     "end_time": "2022-06-29T18:51:02.089300Z",
     "start_time": "2022-06-29T18:51:02.084922Z"
    },
    "execution": {
     "iopub.execute_input": "2022-10-14T16:57:12.088107Z",
     "iopub.status.busy": "2022-10-14T16:57:12.087949Z",
     "iopub.status.idle": "2022-10-14T16:57:12.091119Z",
     "shell.execute_reply": "2022-10-14T16:57:12.090696Z"
    },
    "papermill": {
     "duration": 0.015378,
     "end_time": "2022-10-14T16:57:12.092387",
     "exception": false,
     "start_time": "2022-10-14T16:57:12.077009",
     "status": "completed"
    },
    "tags": []
   },
   "outputs": [],
   "source": [
    "experiment_folder = os.path.abspath(os.path.join(base_dir, 'experiments', experiment_name))\n",
    "img_folder = os.path.abspath(os.path.join(experiment_folder, 'imgs'))"
   ]
  },
  {
   "cell_type": "markdown",
   "id": "db3b2ebe",
   "metadata": {
    "papermill": {
     "duration": 0.010391,
     "end_time": "2022-10-14T16:57:12.113258",
     "exception": false,
     "start_time": "2022-10-14T16:57:12.102867",
     "status": "completed"
    },
    "tags": []
   },
   "source": [
    "### Defining names and paths"
   ]
  },
  {
   "cell_type": "code",
   "execution_count": 6,
   "id": "d30f6fca",
   "metadata": {
    "ExecuteTime": {
     "end_time": "2022-05-30T19:57:39.064490Z",
     "start_time": "2022-05-30T19:57:39.007809Z"
    },
    "execution": {
     "iopub.execute_input": "2022-10-14T16:57:12.134723Z",
     "iopub.status.busy": "2022-10-14T16:57:12.134564Z",
     "iopub.status.idle": "2022-10-14T16:57:12.138858Z",
     "shell.execute_reply": "2022-10-14T16:57:12.138436Z"
    },
    "papermill": {
     "duration": 0.016614,
     "end_time": "2022-10-14T16:57:12.140102",
     "exception": false,
     "start_time": "2022-10-14T16:57:12.123488",
     "status": "completed"
    },
    "tags": []
   },
   "outputs": [],
   "source": [
    "qiime_folder = os.path.join(experiment_folder, 'qiime-artifacts')\n",
    "\n",
    "if trim:\n",
    "    demux_file = os.path.join(qiime_folder, 'demux-paired-trim.qza')\n",
    "else:\n",
    "    demux_file = os.path.join(qiime_folder, 'demux-paired.qza')\n",
    "\n",
    "dada2_tabs = os.path.join(qiime_folder, 'dada2-tabs.qza')\n",
    "dada2_reps = os.path.join(qiime_folder, 'dada2-reps.qza')\n",
    "dada2_stat = os.path.join(qiime_folder, 'dada2-stat.qza')\n",
    "\n",
    "\n",
    "dada2_tabs_view = dada2_tabs[:-1] + 'v'\n",
    "dada2_reps_view = dada2_reps[:-1] + 'v'\n",
    "dada2_stat_view = dada2_stat[:-1] + 'v'\n",
    "dada2_core_view = os.path.join(qiime_folder, 'dada2-core.qzv')"
   ]
  },
  {
   "cell_type": "markdown",
   "id": "f6e33326",
   "metadata": {
    "papermill": {
     "duration": 0.010426,
     "end_time": "2022-10-14T16:57:12.161162",
     "exception": false,
     "start_time": "2022-10-14T16:57:12.150736",
     "status": "completed"
    },
    "tags": []
   },
   "source": [
    "## Step execution\n",
    "\n",
    "### Load input files\n",
    "\n",
    "This Step import the QIIME2 `SampleData[PairedEndSequencesWithQuality]` Artifact with all demultiplexed sequences and the `Metadata` file."
   ]
  },
  {
   "cell_type": "code",
   "execution_count": 7,
   "id": "c519c7b1",
   "metadata": {
    "ExecuteTime": {
     "end_time": "2022-05-30T19:57:39.077380Z",
     "start_time": "2022-05-30T19:57:39.066746Z"
    },
    "execution": {
     "iopub.execute_input": "2022-10-14T16:57:12.183777Z",
     "iopub.status.busy": "2022-10-14T16:57:12.183618Z",
     "iopub.status.idle": "2022-10-14T16:57:12.187171Z",
     "shell.execute_reply": "2022-10-14T16:57:12.186750Z"
    },
    "papermill": {
     "duration": 0.015896,
     "end_time": "2022-10-14T16:57:12.188415",
     "exception": false,
     "start_time": "2022-10-14T16:57:12.172519",
     "status": "completed"
    },
    "tags": []
   },
   "outputs": [],
   "source": [
    "need_dada2 = not (os.path.isfile(dada2_tabs) and os.path.isfile(dada2_reps) and os.path.isfile(dada2_stat)) or replace_files\n",
    "need_view = not (os.path.isfile(dada2_tabs_view) and os.path.isfile(dada2_reps_view) and os.path.isfile(dada2_stat_view)) or replace_files"
   ]
  },
  {
   "cell_type": "code",
   "execution_count": 8,
   "id": "9570980e",
   "metadata": {
    "ExecuteTime": {
     "end_time": "2022-05-30T19:57:39.089632Z",
     "start_time": "2022-05-30T19:57:39.079347Z"
    },
    "execution": {
     "iopub.execute_input": "2022-10-14T16:57:12.210214Z",
     "iopub.status.busy": "2022-10-14T16:57:12.209994Z",
     "iopub.status.idle": "2022-10-14T16:57:12.212794Z",
     "shell.execute_reply": "2022-10-14T16:57:12.212365Z"
    },
    "papermill": {
     "duration": 0.015159,
     "end_time": "2022-10-14T16:57:12.214050",
     "exception": false,
     "start_time": "2022-10-14T16:57:12.198891",
     "status": "completed"
    },
    "tags": []
   },
   "outputs": [],
   "source": [
    "if need_dada2:\n",
    "    demux = Artifact.load(demux_file)"
   ]
  },
  {
   "cell_type": "code",
   "execution_count": 9,
   "id": "ca44837b",
   "metadata": {
    "ExecuteTime": {
     "end_time": "2022-05-30T19:57:39.145879Z",
     "start_time": "2022-05-30T19:57:39.091983Z"
    },
    "execution": {
     "iopub.execute_input": "2022-10-14T16:57:12.342259Z",
     "iopub.status.busy": "2022-10-14T16:57:12.342056Z",
     "iopub.status.idle": "2022-10-14T16:57:12.364353Z",
     "shell.execute_reply": "2022-10-14T16:57:12.363753Z"
    },
    "papermill": {
     "duration": 0.142284,
     "end_time": "2022-10-14T16:57:12.367153",
     "exception": false,
     "start_time": "2022-10-14T16:57:12.224869",
     "status": "completed"
    },
    "tags": []
   },
   "outputs": [],
   "source": [
    "metadata = Metadata.load(metadata_file)"
   ]
  },
  {
   "cell_type": "markdown",
   "id": "ea8786c9",
   "metadata": {
    "papermill": {
     "duration": 0.068115,
     "end_time": "2022-10-14T16:57:12.537161",
     "exception": false,
     "start_time": "2022-10-14T16:57:12.469046",
     "status": "completed"
    },
    "tags": []
   },
   "source": [
    "### Execute DADA2 plugin and create Artifacts\n",
    "\n",
    "The DADA2 plugin perform tha quality control and create the ASV table. It will be produced three Artifacts:\n",
    "\n",
    "- tabs (`FeatureTable[Frequency]`) : \n",
    "    The resulting feature table.\n",
    "- reps (`FeatureData[Sequence]`) :\n",
    "    The resulting feature sequences. Each feature in the feature table will\n",
    "    be represented by exactly one sequence, and these sequences will be the\n",
    "    joined paired-end sequences.\n",
    "- denoising_stats (`SampleData[DADA2Stats]`) : the resulting stats. Shows the number and the proportion of filtered reads in each phase of the plugin execution."
   ]
  },
  {
   "cell_type": "code",
   "execution_count": 10,
   "id": "dd0294af",
   "metadata": {
    "ExecuteTime": {
     "end_time": "2022-05-30T19:57:39.171629Z",
     "start_time": "2022-05-30T19:57:39.147370Z"
    },
    "execution": {
     "iopub.execute_input": "2022-10-14T16:57:12.570659Z",
     "iopub.status.busy": "2022-10-14T16:57:12.570323Z",
     "iopub.status.idle": "2022-10-14T16:57:12.641978Z",
     "shell.execute_reply": "2022-10-14T16:57:12.641221Z"
    },
    "papermill": {
     "duration": 0.087598,
     "end_time": "2022-10-14T16:57:12.643836",
     "exception": false,
     "start_time": "2022-10-14T16:57:12.556238",
     "status": "completed"
    },
    "scrolled": true,
    "tags": []
   },
   "outputs": [],
   "source": [
    "# If some of the DADA2 outputs artifacts do not exist or if the old files will be replaced\n",
    "if need_dada2:\n",
    "    \n",
    "    # Excute the DADA2 plugin\n",
    "    tabs, reps, stat = dada2_actions.denoise_paired(\n",
    "        demultiplexed_seqs=demux,\n",
    "        trunc_q = phred,\n",
    "        min_overlap = overlap,\n",
    "        n_threads = threads,\n",
    "        trunc_len_f = trunc_f,\n",
    "        trunc_len_r = trunc_r,\n",
    "    )\n",
    "    \n",
    "    # Save the artifacts objects\n",
    "    tabs.save(dada2_tabs)\n",
    "    reps.save(dada2_reps)\n",
    "    stat.save(dada2_stat)\n",
    "\n",
    "else:\n",
    "    tabs = Artifact.load(dada2_tabs)\n",
    "    reps = Artifact.load(dada2_reps)\n",
    "    stat = Artifact.load(dada2_stat)"
   ]
  },
  {
   "cell_type": "markdown",
   "id": "7d81395a",
   "metadata": {
    "papermill": {
     "duration": 0.024227,
     "end_time": "2022-10-14T16:57:12.683667",
     "exception": false,
     "start_time": "2022-10-14T16:57:12.659440",
     "status": "completed"
    },
    "tags": []
   },
   "source": [
    "### Define Visualizations Artifacts"
   ]
  },
  {
   "cell_type": "code",
   "execution_count": 11,
   "id": "a308adde",
   "metadata": {
    "ExecuteTime": {
     "end_time": "2022-05-30T19:57:39.249051Z",
     "start_time": "2022-05-30T19:57:39.173053Z"
    },
    "execution": {
     "iopub.execute_input": "2022-10-14T16:57:12.718988Z",
     "iopub.status.busy": "2022-10-14T16:57:12.718675Z",
     "iopub.status.idle": "2022-10-14T16:57:12.992141Z",
     "shell.execute_reply": "2022-10-14T16:57:12.991360Z"
    },
    "papermill": {
     "duration": 0.290356,
     "end_time": "2022-10-14T16:57:12.995122",
     "exception": false,
     "start_time": "2022-10-14T16:57:12.704766",
     "status": "completed"
    },
    "tags": []
   },
   "outputs": [],
   "source": [
    "# If some of the DADA2 Visualization artifacts do not exist or if the old files will be replaced\n",
    "if need_view:\n",
    "    \n",
    "    tabs_view, = metadata_actions.tabulate(input=tabs.view(Metadata))\n",
    "    reps_view, = metadata_actions.tabulate(input=reps.view(Metadata))\n",
    "    stat_view, = metadata_actions.tabulate(input=stat.view(Metadata))\n",
    "    \n",
    "    tabs_view = summarize(table=tabs, sample_metadata=metadata).visualization\n",
    "    reps_view = tabulate_seqs(data=reps).visualization\n",
    "    core_view = core_features(table=tabs, min_fraction=.1, steps=10).visualization\n",
    "    \n",
    "    \n",
    "    # Save the artifacts objects\n",
    "    tabs_view.save(dada2_tabs_view)\n",
    "    reps_view.save(dada2_reps_view)\n",
    "    stat_view.save(dada2_stat_view)\n",
    "    core_view.save(dada2_core_view)\n",
    "\n",
    "else:\n",
    "    tabs_view = Visualization.load(dada2_tabs_view)\n",
    "    reps_view = Visualization.load(dada2_reps_view)\n",
    "    stat_view = Visualization.load(dada2_stat_view)\n",
    "    core_view = Visualization.load(dada2_core_view)"
   ]
  },
  {
   "cell_type": "code",
   "execution_count": 12,
   "id": "9eca383d",
   "metadata": {
    "ExecuteTime": {
     "end_time": "2022-05-30T19:57:39.901491Z",
     "start_time": "2022-05-30T19:57:39.255220Z"
    },
    "execution": {
     "iopub.execute_input": "2022-10-14T16:57:13.116360Z",
     "iopub.status.busy": "2022-10-14T16:57:13.116046Z",
     "iopub.status.idle": "2022-10-14T16:57:13.708662Z",
     "shell.execute_reply": "2022-10-14T16:57:13.708052Z"
    },
    "papermill": {
     "duration": 0.698373,
     "end_time": "2022-10-14T16:57:13.712630",
     "exception": false,
     "start_time": "2022-10-14T16:57:13.014257",
     "status": "completed"
    },
    "tags": []
   },
   "outputs": [
    {
     "data": {
      "image/png": "[encoded data removed]",
      "text/plain": [
       "<Figure size 1080x360 with 2 Axes>"
      ]
     },
     "metadata": {
      "needs_background": "light"
     },
     "output_type": "display_data"
    }
   ],
   "source": [
    "def plot_stats_box(artifact, fname):\n",
    "    import matplotlib.pyplot as plt\n",
    "    from qiime2 import Metadata\n",
    "    \n",
    "    values_head = ['input', 'filtered', 'denoised', 'merged', 'non-chimeric']\n",
    "    percent_head = ['percentage of input passed filter', 'percentage of input merged', 'percentage of input non-chimeric']\n",
    "    \n",
    "    df = artifact.view(Metadata).to_dataframe()\n",
    "    df_vals = df[values_head]\n",
    "    df_perc = df[percent_head]\n",
    "    df_perc.columns = ['filtered', 'merged', 'non-chimeric']\n",
    "    \n",
    "    \n",
    "    plt.figure(figsize=(15,5))\n",
    "    plt.subplot(1, 2, 1)\n",
    "    df_vals.boxplot()\n",
    "    plt.xlabel('Fases')\n",
    "    plt.ylabel('# of reads')\n",
    "    \n",
    "    plt.subplot(1, 2, 2)\n",
    "    df_perc.boxplot()\n",
    "    plt.xlabel('Fases')\n",
    "    plt.ylabel('% of input')\n",
    "    \n",
    "    plt.savefig(fname, bbox_inches='tight')\n",
    "\n",
    "    plt.show()\n",
    "\n",
    "plot_stats_box(stat, os.path.join(img_folder, 'step02-stats-boxplot.pdf'))"
   ]
  },
  {
   "cell_type": "code",
   "execution_count": 13,
   "id": "47dcfe10",
   "metadata": {
    "ExecuteTime": {
     "end_time": "2022-05-31T17:58:47.140114Z",
     "start_time": "2022-05-31T17:58:47.087808Z"
    },
    "execution": {
     "iopub.execute_input": "2022-10-14T16:57:13.745889Z",
     "iopub.status.busy": "2022-10-14T16:57:13.745633Z",
     "iopub.status.idle": "2022-10-14T16:57:13.788282Z",
     "shell.execute_reply": "2022-10-14T16:57:13.787669Z"
    },
    "papermill": {
     "duration": 0.059068,
     "end_time": "2022-10-14T16:57:13.790674",
     "exception": false,
     "start_time": "2022-10-14T16:57:13.731606",
     "status": "completed"
    },
    "tags": []
   },
   "outputs": [
    {
     "data": {
      "text/html": [
       "<div>\n",
       "<style scoped>\n",
       "    .dataframe tbody tr th:only-of-type {\n",
       "        vertical-align: middle;\n",
       "    }\n",
       "\n",
       "    .dataframe tbody tr th {\n",
       "        vertical-align: top;\n",
       "    }\n",
       "\n",
       "    .dataframe thead th {\n",
       "        text-align: right;\n",
       "    }\n",
       "</style>\n",
       "<table border=\"1\" class=\"dataframe\">\n",
       "  <thead>\n",
       "    <tr style=\"text-align: right;\">\n",
       "      <th></th>\n",
       "      <th>percentage of input passed filter</th>\n",
       "      <th>percentage of input merged</th>\n",
       "      <th>percentage of input non-chimeric</th>\n",
       "    </tr>\n",
       "  </thead>\n",
       "  <tbody>\n",
       "    <tr>\n",
       "      <th>count</th>\n",
       "      <td>15.000000</td>\n",
       "      <td>15.000000</td>\n",
       "      <td>15.000000</td>\n",
       "    </tr>\n",
       "    <tr>\n",
       "      <th>mean</th>\n",
       "      <td>81.645333</td>\n",
       "      <td>72.050667</td>\n",
       "      <td>71.974667</td>\n",
       "    </tr>\n",
       "    <tr>\n",
       "      <th>std</th>\n",
       "      <td>0.899141</td>\n",
       "      <td>6.883319</td>\n",
       "      <td>6.874845</td>\n",
       "    </tr>\n",
       "    <tr>\n",
       "      <th>min</th>\n",
       "      <td>79.150000</td>\n",
       "      <td>50.860000</td>\n",
       "      <td>50.860000</td>\n",
       "    </tr>\n",
       "    <tr>\n",
       "      <th>25%</th>\n",
       "      <td>81.510000</td>\n",
       "      <td>70.915000</td>\n",
       "      <td>70.720000</td>\n",
       "    </tr>\n",
       "    <tr>\n",
       "      <th>50%</th>\n",
       "      <td>81.710000</td>\n",
       "      <td>74.490000</td>\n",
       "      <td>74.490000</td>\n",
       "    </tr>\n",
       "    <tr>\n",
       "      <th>75%</th>\n",
       "      <td>82.235000</td>\n",
       "      <td>75.825000</td>\n",
       "      <td>75.820000</td>\n",
       "    </tr>\n",
       "    <tr>\n",
       "      <th>max</th>\n",
       "      <td>82.760000</td>\n",
       "      <td>77.900000</td>\n",
       "      <td>77.890000</td>\n",
       "    </tr>\n",
       "  </tbody>\n",
       "</table>\n",
       "</div>"
      ],
      "text/plain": [
       "       percentage of input passed filter  percentage of input merged  \\\n",
       "count                          15.000000                   15.000000   \n",
       "mean                           81.645333                   72.050667   \n",
       "std                             0.899141                    6.883319   \n",
       "min                            79.150000                   50.860000   \n",
       "25%                            81.510000                   70.915000   \n",
       "50%                            81.710000                   74.490000   \n",
       "75%                            82.235000                   75.825000   \n",
       "max                            82.760000                   77.900000   \n",
       "\n",
       "       percentage of input non-chimeric  \n",
       "count                         15.000000  \n",
       "mean                          71.974667  \n",
       "std                            6.874845  \n",
       "min                           50.860000  \n",
       "25%                           70.720000  \n",
       "50%                           74.490000  \n",
       "75%                           75.820000  \n",
       "max                           77.890000  "
      ]
     },
     "execution_count": 13,
     "metadata": {},
     "output_type": "execute_result"
    }
   ],
   "source": [
    "percent_head = ['percentage of input passed filter', 'percentage of input merged', 'percentage of input non-chimeric']\n",
    "stat.view(Metadata).to_dataframe().describe()[percent_head]"
   ]
  },
  {
   "cell_type": "code",
   "execution_count": 14,
   "id": "ddacf9f3",
   "metadata": {
    "ExecuteTime": {
     "end_time": "2022-05-30T19:57:39.957632Z",
     "start_time": "2022-05-30T19:57:39.953762Z"
    },
    "execution": {
     "iopub.execute_input": "2022-10-14T16:57:13.824130Z",
     "iopub.status.busy": "2022-10-14T16:57:13.823906Z",
     "iopub.status.idle": "2022-10-14T16:57:13.830405Z",
     "shell.execute_reply": "2022-10-14T16:57:13.829631Z"
    },
    "papermill": {
     "duration": 0.023268,
     "end_time": "2022-10-14T16:57:13.831960",
     "exception": false,
     "start_time": "2022-10-14T16:57:13.808692",
     "status": "completed"
    },
    "tags": []
   },
   "outputs": [
    {
     "data": {
      "text/html": [
       "<div><img onload=\"(function(div, url){\n",
       "if (typeof require !== 'undefined') {\n",
       "    var baseURL = require.toUrl('').split('/').slice(0, -2).join('/');\n",
       "} else {\n",
       "    var baseURL = JSON.parse(\n",
       "        document.getElementById('jupyter-config-data').innerHTML\n",
       "    ).baseUrl.slice(0, -1);\n",
       "}\n",
       "url = baseURL + url;\n",
       "fetch(url).then(function(res) {\n",
       "    if (res.status === 404) {\n",
       "        div.innerHTML = 'Install QIIME 2 Jupyter extension with:<br />' +\n",
       "                        '<code>jupyter serverextension enable --py qiime2' +\n",
       "                        ' --sys-prefix</code><br />then restart your server.' +\n",
       "                        '<br /><br />(Interactive output not available on ' +\n",
       "                        'static notebook viewer services like nbviewer.)';\n",
       "    } else if (res.status === 409) {\n",
       "        div.innerHTML = 'Visualization no longer in scope. Re-run this cell' +\n",
       "                        ' to see the visualization.';\n",
       "    } else if (res.ok) {\n",
       "        url = res.url;\n",
       "        div.innerHTML = '<iframe src=\\'' + url + '\\' style=\\'' +\n",
       "                        'width: 100%; height: 700px; border: 0;\\'>' +\n",
       "                        '</iframe><hr />Open in a: <a href=\\'' + url + '\\'' +\n",
       "                        ' target=\\'_blank\\'>new window</a>'\n",
       "    } else {\n",
       "        div.innerHTML = 'Something has gone wrong. Check notebook server for' +\n",
       "                        ' errors.';\n",
       "    }\n",
       "});\n",
       "})(this.parentElement, '/qiime2/redirect?location=/tmp/qiime2-archive-cn5gyx6e')\" src=\"data:image/gif;base64,R0lGODlhAQABAIAAAP///wAAACH5BAEAAAAALAAAAAABAAEAAAICRAEAOw==\" /></div>"
      ],
      "text/plain": [
       "<visualization: Visualization uuid: 231493e6-5c28-4ee6-b95c-d14261adfc63>"
      ]
     },
     "execution_count": 14,
     "metadata": {},
     "output_type": "execute_result"
    }
   ],
   "source": [
    "stat_view"
   ]
  },
  {
   "cell_type": "code",
   "execution_count": 15,
   "id": "b2fc791c",
   "metadata": {
    "ExecuteTime": {
     "end_time": "2022-05-30T19:57:39.967918Z",
     "start_time": "2022-05-30T19:57:39.958955Z"
    },
    "execution": {
     "iopub.execute_input": "2022-10-14T16:57:13.865031Z",
     "iopub.status.busy": "2022-10-14T16:57:13.864752Z",
     "iopub.status.idle": "2022-10-14T16:57:13.868974Z",
     "shell.execute_reply": "2022-10-14T16:57:13.868208Z"
    },
    "papermill": {
     "duration": 0.022699,
     "end_time": "2022-10-14T16:57:13.870567",
     "exception": false,
     "start_time": "2022-10-14T16:57:13.847868",
     "status": "completed"
    },
    "tags": []
   },
   "outputs": [],
   "source": [
    "# new_stat = Artifact.load('/home/lauro/nupeb/redemicro/experiments/thayane-feces-01/qiime-artifacts/dada2-stat.qza')\n",
    "# # new_view, = metadata_actions.tabulate(input=new_stat.view(Metadata))\n",
    "# # plot_stats_box(old_stat)\n",
    "\n",
    "# old_stat = Artifact.load('/home/lauro/nupeb/dados_brutos_rede_genoma/experiments/fezes-phred_20-tf_0-tr_0-lap_4/fezes_dada2_stat.qza')\n",
    "# # old_view, = metadata_actions.tabulate(input=old_stat.view(Metadata))\n",
    "# # plot_stats_box(old_stat)\n",
    "\n",
    "# plot_stats_box_pairs(old_stat, new_stat)"
   ]
  }
 ],
 "metadata": {
  "celltoolbar": "Edit Metadata",
  "kernelspec": {
   "display_name": "Python 3 (ipykernel)",
   "language": "python",
   "name": "python3"
  },
  "language_info": {
   "codemirror_mode": {
    "name": "ipython",
    "version": 3
   },
   "file_extension": ".py",
   "mimetype": "text/x-python",
   "name": "python",
   "nbconvert_exporter": "python",
   "pygments_lexer": "ipython3",
   "version": "3.8.12"
  },
  "papermill": {
   "default_parameters": {},
   "duration": 11.284574,
   "end_time": "2022-10-14T16:57:14.706021",
   "environment_variables": {},
   "exception": null,
   "input_path": "nb-templates/step-quality-control.ipynb",
   "output_path": "/home/lauro/nupeb/rede-micro/redemicro-ana-flavia-nutri/experiments/ana-flavia-HSD-NCxHSD-NR-trim/nb-executed-steps/step-quality-control-ana-flavia-HSD-NCxHSD-NR-trim.ipynb",
   "parameters": {
    "base_dir": "/home/lauro/nupeb/rede-micro/redemicro-ana-flavia-nutri",
    "class_col": "group-id",
    "classifier_file": "/home/lauro/nupeb/dados_brutos_rede_genoma/16S_classifiers_qiime2/silva-138-99-nb-classifier.qza",
    "experiment_name": "ana-flavia-HSD-NCxHSD-NR-trim",
    "manifest_file": "/home/lauro/nupeb/rede-micro/redemicro-ana-flavia-nutri/data/raw/manifest/manifest-ana-flavia-HSD-NCxHSD-NR.csv",
    "metadata_file": "/home/lauro/nupeb/rede-micro/redemicro-ana-flavia-nutri/data/raw/metadata/metadata-ana-flavia-HSD-NCxHSD-NR.tsv",
    "overlap": 12,
    "phred": 20,
    "replace_files": false,
    "threads": 6,
    "trim": {
     "forward_primer": "CCTACGGGRSGCAGCAG",
     "overlap": 8,
     "reverse_primer": "GGACTACHVGGGTWTCTAAT"
    },
    "trunc_f": 0,
    "trunc_r": 0
   },
   "start_time": "2022-10-14T16:57:03.421447",
   "version": "2.3.4"
  },
  "toc-autonumbering": false,
  "toc-showcode": false,
  "toc-showmarkdowntxt": false
 },
 "nbformat": 4,
 "nbformat_minor": 5
}