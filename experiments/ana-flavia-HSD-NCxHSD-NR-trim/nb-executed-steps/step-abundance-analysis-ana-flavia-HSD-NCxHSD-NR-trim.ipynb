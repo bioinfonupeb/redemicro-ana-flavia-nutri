{
 "cells": [
  {
   "cell_type": "markdown",
   "id": "0e7f2330",
   "metadata": {
    "ExecuteTime": {
     "end_time": "2022-09-22T19:36:33.828188Z",
     "start_time": "2022-09-22T19:36:33.817323Z"
    },
    "papermill": {
     "duration": 0.002016,
     "end_time": "2024-03-05T23:35:26.629182",
     "exception": false,
     "start_time": "2024-03-05T23:35:26.627166",
     "status": "completed"
    },
    "tags": []
   },
   "source": [
    "### STEP : Diversity Analysis\n",
    "\n",
    "\n",
    "\n",
    "#### Example\n",
    "\n",
    "- [“Moving Pictures” tutorial](https://docs.qiime2.org/2022.8/tutorials/moving-pictures-usage/?highlight=ancom)\n",
    "- [Biostats ANCOM](http://scikit-bio.org/docs/0.4.2/generated/generated/skbio.stats.composition.ancom.html)\n",
    "\n",
    "\n",
    "#### Methods\n",
    "- [composition](https://docs.qiime2.org/2022.8/plugins/available/composition/)\n",
    "- [composition add_pseudocount](https://docs.qiime2.org/2022.8/plugins/available/composition/add-pseudocount/): Increment all counts in table by pseudocount.\n",
    "- [composition ancom](https://docs.qiime2.org/2022.8/plugins/available/composition/ancom/): Apply ANCOM to identify features that differ in abundance."
   ]
  },
  {
   "cell_type": "markdown",
   "id": "843debbf",
   "metadata": {
    "papermill": {
     "duration": 0.001368,
     "end_time": "2024-03-05T23:35:26.632522",
     "exception": false,
     "start_time": "2024-03-05T23:35:26.631154",
     "status": "completed"
    },
    "tags": []
   },
   "source": [
    "## Setup and settings"
   ]
  },
  {
   "cell_type": "code",
   "execution_count": 1,
   "id": "965e28e5",
   "metadata": {
    "ExecuteTime": {
     "end_time": "2022-11-03T20:35:26.198671Z",
     "start_time": "2022-11-03T20:35:06.473173Z"
    },
    "execution": {
     "iopub.execute_input": "2024-03-05T23:35:26.636391Z",
     "iopub.status.busy": "2024-03-05T23:35:26.636165Z",
     "iopub.status.idle": "2024-03-05T23:35:31.276053Z",
     "shell.execute_reply": "2024-03-05T23:35:31.275527Z"
    },
    "papermill": {
     "duration": 4.643418,
     "end_time": "2024-03-05T23:35:31.277323",
     "exception": false,
     "start_time": "2024-03-05T23:35:26.633905",
     "status": "completed"
    },
    "tags": []
   },
   "outputs": [],
   "source": [
    "# Importing packages\n",
    "import os\n",
    "import pandas as pd\n",
    "from qiime2 import Artifact\n",
    "from qiime2 import Visualization\n",
    "from qiime2 import Metadata\n",
    "\n",
    "from qiime2.plugins.composition.visualizers import ancom\n",
    "from qiime2.plugins.composition.methods import add_pseudocount\n",
    "\n",
    "from qiime2.plugins.feature_table.methods import filter_samples\n",
    "from qiime2.plugins.feature_table.methods import filter_seqs\n",
    "\n",
    "%matplotlib inline"
   ]
  },
  {
   "cell_type": "markdown",
   "id": "530ceb60",
   "metadata": {
    "papermill": {
     "duration": 0.001434,
     "end_time": "2024-03-05T23:35:31.280463",
     "exception": false,
     "start_time": "2024-03-05T23:35:31.279029",
     "status": "completed"
    },
    "tags": []
   },
   "source": [
    "### Receiving the parameters\n",
    "\n",
    "The following cell can receive parameters using the [papermill](https://papermill.readthedocs.io/en/latest/) tool."
   ]
  },
  {
   "cell_type": "code",
   "execution_count": 2,
   "id": "18d874ea",
   "metadata": {
    "ExecuteTime": {
     "end_time": "2022-09-29T20:54:14.793270Z",
     "start_time": "2022-09-29T20:54:14.789367Z"
    },
    "execution": {
     "iopub.execute_input": "2024-03-05T23:35:31.284207Z",
     "iopub.status.busy": "2024-03-05T23:35:31.283898Z",
     "iopub.status.idle": "2024-03-05T23:35:31.286769Z",
     "shell.execute_reply": "2024-03-05T23:35:31.286313Z"
    },
    "papermill": {
     "duration": 0.005795,
     "end_time": "2024-03-05T23:35:31.287671",
     "exception": false,
     "start_time": "2024-03-05T23:35:31.281876",
     "status": "completed"
    },
    "tags": [
     "parameters"
    ]
   },
   "outputs": [],
   "source": [
    "metadata_file = '/home/lauro/nupeb/rede-micro/redemicro-miliane-nutri/data/raw/metadata/miliane-metadata-CxAC.tsv'\n",
    "base_dir = os.path.join('/', 'home', 'lauro', 'nupeb', 'rede-micro', 'redemicro-miliane-nutri')\n",
    "experiment_name = 'miliane-CxAC-trim'\n",
    "class_col = 'group-id'\n",
    "replace_files = False"
   ]
  },
  {
   "cell_type": "code",
   "execution_count": 3,
   "id": "bbeab18c",
   "metadata": {
    "execution": {
     "iopub.execute_input": "2024-03-05T23:35:31.291234Z",
     "iopub.status.busy": "2024-03-05T23:35:31.291084Z",
     "iopub.status.idle": "2024-03-05T23:35:31.294051Z",
     "shell.execute_reply": "2024-03-05T23:35:31.293599Z"
    },
    "papermill": {
     "duration": 0.005844,
     "end_time": "2024-03-05T23:35:31.294950",
     "exception": false,
     "start_time": "2024-03-05T23:35:31.289106",
     "status": "completed"
    },
    "tags": [
     "injected-parameters"
    ]
   },
   "outputs": [],
   "source": [
    "# Parameters\n",
    "base_dir = \"/mnt/nupeb/rede-micro/redemicro-ana-flavia-nutri\"\n",
    "class_col = \"group-id\"\n",
    "classifier_file = \"/mnt/nupeb/rede-micro/datasets/16S_classifiers_qiime2/silva-138-99-nb-classifier.qza\"\n",
    "experiment_name = \"ana-flavia-HSD-NCxHSD-NR\"\n",
    "manifest_file = \"/mnt/nupeb/rede-micro/redemicro-ana-flavia-nutri/data/raw/manifest/manifest-ana-flavia-HSD-NCxHSD-NR.csv\"\n",
    "metadata_file = \"/mnt/nupeb/rede-micro/redemicro-ana-flavia-nutri/data/raw/metadata/metadata-ana-flavia-HSD-NCxHSD-NR.tsv\"\n",
    "overlap = 12\n",
    "phred = 20\n",
    "replace_files = False\n",
    "threads = 6\n",
    "top_n = 20\n",
    "trim = {\n",
    "    \"forward_primer\": \"CCTACGGGRSGCAGCAG\",\n",
    "    \"overlap\": 8,\n",
    "    \"reverse_primer\": \"GGACTACHVGGGTWTCTAAT\",\n",
    "}\n",
    "trunc_f = 0\n",
    "trunc_r = 0\n"
   ]
  },
  {
   "cell_type": "code",
   "execution_count": 4,
   "id": "f38617d9",
   "metadata": {
    "ExecuteTime": {
     "end_time": "2022-09-29T20:54:14.804575Z",
     "start_time": "2022-09-29T20:54:14.794927Z"
    },
    "execution": {
     "iopub.execute_input": "2024-03-05T23:35:31.298476Z",
     "iopub.status.busy": "2024-03-05T23:35:31.298327Z",
     "iopub.status.idle": "2024-03-05T23:35:31.300784Z",
     "shell.execute_reply": "2024-03-05T23:35:31.300362Z"
    },
    "papermill": {
     "duration": 0.005301,
     "end_time": "2024-03-05T23:35:31.301721",
     "exception": false,
     "start_time": "2024-03-05T23:35:31.296420",
     "status": "completed"
    },
    "tags": []
   },
   "outputs": [],
   "source": [
    "experiment_folder = os.path.abspath(os.path.join(base_dir, 'experiments', experiment_name))\n",
    "img_folder = os.path.abspath(os.path.join(experiment_folder, 'imgs'))"
   ]
  },
  {
   "cell_type": "markdown",
   "id": "ea9b90fb",
   "metadata": {
    "papermill": {
     "duration": 0.001457,
     "end_time": "2024-03-05T23:35:31.304687",
     "exception": false,
     "start_time": "2024-03-05T23:35:31.303230",
     "status": "completed"
    },
    "tags": []
   },
   "source": [
    "### Defining names, paths and flags"
   ]
  },
  {
   "cell_type": "code",
   "execution_count": 5,
   "id": "45727eef",
   "metadata": {
    "ExecuteTime": {
     "end_time": "2022-09-29T20:54:14.816686Z",
     "start_time": "2022-09-29T20:54:14.806238Z"
    },
    "execution": {
     "iopub.execute_input": "2024-03-05T23:35:31.308339Z",
     "iopub.status.busy": "2024-03-05T23:35:31.308136Z",
     "iopub.status.idle": "2024-03-05T23:35:31.310392Z",
     "shell.execute_reply": "2024-03-05T23:35:31.309933Z"
    },
    "papermill": {
     "duration": 0.005004,
     "end_time": "2024-03-05T23:35:31.311293",
     "exception": false,
     "start_time": "2024-03-05T23:35:31.306289",
     "status": "completed"
    },
    "tags": []
   },
   "outputs": [],
   "source": [
    "# QIIME2 Artifacts folder\n",
    "qiime_folder = os.path.join(experiment_folder, 'qiime-artifacts')\n",
    "\n",
    "# Input - DADA2 Artifacts\n",
    "dada2_tabs_path = os.path.join(qiime_folder, 'dada2-tabs.qza')"
   ]
  },
  {
   "cell_type": "markdown",
   "id": "0999a1b2",
   "metadata": {
    "papermill": {
     "duration": 0.001486,
     "end_time": "2024-03-05T23:35:31.314255",
     "exception": false,
     "start_time": "2024-03-05T23:35:31.312769",
     "status": "completed"
    },
    "tags": []
   },
   "source": [
    "## Step execution\n",
    "\n",
    "### Load input files\n",
    "\n",
    "This Step import the QIIME2 `FeatureTable[Frequency]` Artifact and the `Metadata` file."
   ]
  },
  {
   "cell_type": "code",
   "execution_count": 6,
   "id": "8f299d1a",
   "metadata": {
    "ExecuteTime": {
     "end_time": "2022-09-29T20:54:15.559837Z",
     "start_time": "2022-09-29T20:54:14.830405Z"
    },
    "execution": {
     "iopub.execute_input": "2024-03-05T23:35:31.318335Z",
     "iopub.status.busy": "2024-03-05T23:35:31.317769Z",
     "iopub.status.idle": "2024-03-05T23:35:31.403625Z",
     "shell.execute_reply": "2024-03-05T23:35:31.403188Z"
    },
    "papermill": {
     "duration": 0.089075,
     "end_time": "2024-03-05T23:35:31.404817",
     "exception": false,
     "start_time": "2024-03-05T23:35:31.315742",
     "status": "completed"
    },
    "tags": []
   },
   "outputs": [],
   "source": [
    "#Load Metadata\n",
    "metadata_qa = Metadata.load(metadata_file)\n",
    "\n",
    "#Load FeatureTable[Frequency]\n",
    "tabs = Artifact.load(dada2_tabs_path)\n",
    "\n",
    "# Filter FeatureTable[Frequency | RelativeFrequency | PresenceAbsence | Composition] based on Metadata sample ID values\n",
    "tabs = filter_samples(\n",
    "    table=tabs,\n",
    "    metadata=metadata_qa,\n",
    ").filtered_table"
   ]
  },
  {
   "cell_type": "markdown",
   "id": "a9a446c4",
   "metadata": {
    "papermill": {
     "duration": 0.001546,
     "end_time": "2024-03-05T23:35:31.408168",
     "exception": false,
     "start_time": "2024-03-05T23:35:31.406622",
     "status": "completed"
    },
    "tags": []
   },
   "source": [
    "# ANCOM\n",
    "\n",
    "Apply Analysis of Composition of Microbiomes (ANCOM) to identify features\n",
    "that are differentially abundant across groups.\n",
    "\n",
    "- [composition add_pseudocount](https://docs.qiime2.org/2022.8/plugins/available/composition/add-pseudocount/): Increment all counts in table by pseudocount.\n",
    "- [composition ancom](https://docs.qiime2.org/2022.8/plugins/available/composition/ancom/): Apply ANCOM to identify features that differ in abundance."
   ]
  },
  {
   "cell_type": "code",
   "execution_count": 7,
   "id": "cda81bf5",
   "metadata": {
    "execution": {
     "iopub.execute_input": "2024-03-05T23:35:31.412162Z",
     "iopub.status.busy": "2024-03-05T23:35:31.411762Z",
     "iopub.status.idle": "2024-03-05T23:35:31.415115Z",
     "shell.execute_reply": "2024-03-05T23:35:31.414750Z"
    },
    "papermill": {
     "duration": 0.006336,
     "end_time": "2024-03-05T23:35:31.416012",
     "exception": false,
     "start_time": "2024-03-05T23:35:31.409676",
     "status": "completed"
    },
    "tags": []
   },
   "outputs": [],
   "source": [
    "# Select class column\n",
    "column = metadata_qa.get_column(class_col)"
   ]
  },
  {
   "cell_type": "code",
   "execution_count": 8,
   "id": "2f023bcc",
   "metadata": {
    "execution": {
     "iopub.execute_input": "2024-03-05T23:35:31.420034Z",
     "iopub.status.busy": "2024-03-05T23:35:31.419713Z",
     "iopub.status.idle": "2024-03-05T23:35:31.497008Z",
     "shell.execute_reply": "2024-03-05T23:35:31.496527Z"
    },
    "papermill": {
     "duration": 0.080536,
     "end_time": "2024-03-05T23:35:31.498236",
     "exception": false,
     "start_time": "2024-03-05T23:35:31.417700",
     "status": "completed"
    },
    "tags": []
   },
   "outputs": [],
   "source": [
    "# Create the pseudocount table\n",
    "composition_tab = add_pseudocount(table = tabs).composition_table"
   ]
  },
  {
   "cell_type": "code",
   "execution_count": 9,
   "id": "2999c2f6",
   "metadata": {
    "execution": {
     "iopub.execute_input": "2024-03-05T23:35:31.502525Z",
     "iopub.status.busy": "2024-03-05T23:35:31.502158Z",
     "iopub.status.idle": "2024-03-05T23:40:30.899431Z",
     "shell.execute_reply": "2024-03-05T23:40:30.898974Z"
    },
    "papermill": {
     "duration": 299.400596,
     "end_time": "2024-03-05T23:40:30.900559",
     "exception": false,
     "start_time": "2024-03-05T23:35:31.499963",
     "status": "completed"
    },
    "tags": []
   },
   "outputs": [
    {
     "name": "stdout",
     "output_type": "stream",
     "text": [
      "Calculating ANCOM with: sqrt mean_difference\n"
     ]
    },
    {
     "name": "stderr",
     "output_type": "stream",
     "text": [
      "/home/lauro/anaconda3/envs/qiime2-2023.5/lib/python3.8/site-packages/scipy/stats/_stats_py.py:3659: F_onewayConstantInputWarning: Each of the input arrays is constant;the F statistic is not defined or infinite\n",
      "  warnings.warn(F_onewayConstantInputWarning())\n"
     ]
    },
    {
     "name": "stdout",
     "output_type": "stream",
     "text": [
      "Calculating ANCOM with: sqrt f_statistic\n"
     ]
    },
    {
     "name": "stderr",
     "output_type": "stream",
     "text": [
      "/home/lauro/anaconda3/envs/qiime2-2023.5/lib/python3.8/site-packages/scipy/stats/_stats_py.py:3659: F_onewayConstantInputWarning: Each of the input arrays is constant;the F statistic is not defined or infinite\n",
      "  warnings.warn(F_onewayConstantInputWarning())\n"
     ]
    },
    {
     "name": "stdout",
     "output_type": "stream",
     "text": [
      "Calculating ANCOM with: log mean_difference\n"
     ]
    },
    {
     "name": "stderr",
     "output_type": "stream",
     "text": [
      "/home/lauro/anaconda3/envs/qiime2-2023.5/lib/python3.8/site-packages/scipy/stats/_stats_py.py:3659: F_onewayConstantInputWarning: Each of the input arrays is constant;the F statistic is not defined or infinite\n",
      "  warnings.warn(F_onewayConstantInputWarning())\n"
     ]
    },
    {
     "name": "stdout",
     "output_type": "stream",
     "text": [
      "Calculating ANCOM with: log f_statistic\n"
     ]
    },
    {
     "name": "stderr",
     "output_type": "stream",
     "text": [
      "/home/lauro/anaconda3/envs/qiime2-2023.5/lib/python3.8/site-packages/scipy/stats/_stats_py.py:3659: F_onewayConstantInputWarning: Each of the input arrays is constant;the F statistic is not defined or infinite\n",
      "  warnings.warn(F_onewayConstantInputWarning())\n"
     ]
    },
    {
     "name": "stdout",
     "output_type": "stream",
     "text": [
      "Calculating ANCOM with: clr mean_difference\n"
     ]
    },
    {
     "name": "stderr",
     "output_type": "stream",
     "text": [
      "/home/lauro/anaconda3/envs/qiime2-2023.5/lib/python3.8/site-packages/scipy/stats/_stats_py.py:3659: F_onewayConstantInputWarning: Each of the input arrays is constant;the F statistic is not defined or infinite\n",
      "  warnings.warn(F_onewayConstantInputWarning())\n"
     ]
    },
    {
     "name": "stdout",
     "output_type": "stream",
     "text": [
      "Calculating ANCOM with: clr f_statistic\n"
     ]
    },
    {
     "name": "stderr",
     "output_type": "stream",
     "text": [
      "/home/lauro/anaconda3/envs/qiime2-2023.5/lib/python3.8/site-packages/scipy/stats/_stats_py.py:3659: F_onewayConstantInputWarning: Each of the input arrays is constant;the F statistic is not defined or infinite\n",
      "  warnings.warn(F_onewayConstantInputWarning())\n"
     ]
    }
   ],
   "source": [
    "# Create visualizations for each parameter combination for the ANCOM  method.\n",
    "transform_functions = ('sqrt', 'log', 'clr')\n",
    "difference_functions = ('mean_difference', 'f_statistic')\n",
    "for t in transform_functions:\n",
    "    for d in difference_functions:\n",
    "        print(f\"Calculating ANCOM with: {t} {d}\")\n",
    "        try:\n",
    "            ancom_viz = ancom(\n",
    "                table = composition_tab, \n",
    "                metadata = column, \n",
    "                transform_function = t, \n",
    "                difference_function = d\n",
    "            ).visualization\n",
    "            view_name = os.path.join(qiime_folder, f'ancom-{t}-{d}.qzv')\n",
    "            ancom_viz.save(view_name)\n",
    "        except Exception as e:\n",
    "            print(f\"ERROR: Calculating ANCOM with: {t} {d}\")\n",
    "            print(e)"
   ]
  }
 ],
 "metadata": {
  "celltoolbar": "Edit Metadata",
  "kernelspec": {
   "display_name": "Python 3 (ipykernel)",
   "language": "python",
   "name": "python3"
  },
  "language_info": {
   "codemirror_mode": {
    "name": "ipython",
    "version": 3
   },
   "file_extension": ".py",
   "mimetype": "text/x-python",
   "name": "python",
   "nbconvert_exporter": "python",
   "pygments_lexer": "ipython3",
   "version": "3.8.16"
  },
  "papermill": {
   "default_parameters": {},
   "duration": 305.854615,
   "end_time": "2024-03-05T23:40:31.518087",
   "environment_variables": {},
   "exception": null,
   "input_path": "nb-templates/step-abundance-analysis.ipynb",
   "output_path": "/mnt/nupeb/rede-micro/redemicro-ana-flavia-nutri/experiments/ana-flavia-HSD-NCxHSD-NR-trim/nb-executed-steps/step-abundance-analysis-ana-flavia-HSD-NCxHSD-NR-trim.ipynb",
   "parameters": {
    "base_dir": "/mnt/nupeb/rede-micro/redemicro-ana-flavia-nutri",
    "class_col": "group-id",
    "classifier_file": "/mnt/nupeb/rede-micro/datasets/16S_classifiers_qiime2/silva-138-99-nb-classifier.qza",
    "experiment_name": "ana-flavia-HSD-NCxHSD-NR",
    "manifest_file": "/mnt/nupeb/rede-micro/redemicro-ana-flavia-nutri/data/raw/manifest/manifest-ana-flavia-HSD-NCxHSD-NR.csv",
    "metadata_file": "/mnt/nupeb/rede-micro/redemicro-ana-flavia-nutri/data/raw/metadata/metadata-ana-flavia-HSD-NCxHSD-NR.tsv",
    "overlap": 12,
    "phred": 20,
    "replace_files": false,
    "threads": 6,
    "top_n": 20,
    "trim": {
     "forward_primer": "CCTACGGGRSGCAGCAG",
     "overlap": 8,
     "reverse_primer": "GGACTACHVGGGTWTCTAAT"
    },
    "trunc_f": 0,
    "trunc_r": 0
   },
   "start_time": "2024-03-05T23:35:25.663472",
   "version": "2.4.0"
  }
 },
 "nbformat": 4,
 "nbformat_minor": 5
}