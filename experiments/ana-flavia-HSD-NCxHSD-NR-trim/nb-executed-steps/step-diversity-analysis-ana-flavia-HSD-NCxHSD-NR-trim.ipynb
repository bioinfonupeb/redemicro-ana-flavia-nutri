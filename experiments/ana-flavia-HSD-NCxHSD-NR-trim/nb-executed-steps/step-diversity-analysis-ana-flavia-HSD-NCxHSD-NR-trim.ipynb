{
 "cells": [
  {
   "cell_type": "markdown",
   "id": "15bcfa06",
   "metadata": {
    "papermill": {
     "duration": 0.003578,
     "end_time": "2024-03-05T23:34:37.228937",
     "exception": false,
     "start_time": "2024-03-05T23:34:37.225359",
     "status": "completed"
    },
    "tags": []
   },
   "source": [
    " \n",
    "# Alpha and Beta Diversity\n",
    "\n",
    "Different higher-level measures are often used to describe the microbiome in a sample. These do not provide information on changes in the abundance of specific taxa but allow us to access a broader change or difference in the composition of microorganisms. Alpha and beta diversity are examples of such measures.\n",
    "\n",
    "Different measures exist to estimate diversity within a single sample, jointly called alpha diversity. The different measures reflect the richness (number) or distribution (evenness) of a microbial sample or aim to reflect a combination of both properties.\n",
    "\n",
    "Rarefaction curves are often used when calculating alpha diversity indices because increasing numbers of sequenced taxa allow increasingly accurate estimates of total population diversity. Rarefaction curves can therefore be used to estimate the full sample richness, as compared to the observed sample richness.\n",
    "\n",
    "While alpha diversity is a measure of microbiome diversity applicable to a single sample, beta diversity is a measure of the similarity or dissimilarity of two communities. As for alpha diversity, many indices exist, each reflecting different aspects of community heterogeneity. Key differences relate to how the indices value variation in rare species if they consider presence/absence only or incorporate abundance, and how they interpret shared absence. Bray-Curtis dissimilarity is a popular measure that considers both size (overall abundance per sample) and shape (abundance of each taxon) of the communities (Bray, 1957). Beta diversity is an essential measure for many popular statistical methods in ecology, such as ordination-based methods, and is widely used for studying the association between environmental variables and microbial composition.\n",
    "\n",
    "In summary, alpha diversity measures can be seen as a summary statistic of a single population (within-sample diversity), while beta diversity measures are estimates of similarity or dissimilarity between populations (between samples).\n",
    "\n",
    "**Source**: (https://biomcare.com/info/key-terms-in-microbiome-projects/)"
   ]
  },
  {
   "cell_type": "markdown",
   "id": "0e7f2330",
   "metadata": {
    "ExecuteTime": {
     "end_time": "2022-09-22T19:36:33.828188Z",
     "start_time": "2022-09-22T19:36:33.817323Z"
    },
    "papermill": {
     "duration": 0.002806,
     "end_time": "2024-03-05T23:34:37.234725",
     "exception": false,
     "start_time": "2024-03-05T23:34:37.231919",
     "status": "completed"
    },
    "tags": []
   },
   "source": [
    "### STEP : Diversity Analysis\n",
    "\n",
    "Using QIIME2 to create diversity analisys graphs and calculations.\n",
    "\n",
    "- [QIIME2 Workflow Overview](https://docs.qiime2.org/2022.8/tutorials/overview/)\n",
    "\n",
    "\n",
    "#### Methods\n",
    "- [diversity](https://docs.qiime2.org/2022.8/plugins/available/diversity/)\n",
    "- [diversity alpha](https://docs.qiime2.org/2022.8/plugins/available/diversity/alpha/)\n",
    "- [diversity alpha_phylogenetic](https://docs.qiime2.org/2022.8/plugins/available/diversity/alpha-phylogenetic/)\n",
    "- [diversity beta](https://docs.qiime2.org/2022.8/plugins/available/diversity/beta/)\n",
    "- [diversity core_metrics](https://docs.qiime2.org/2022.8/plugins/available/diversity/core-metrics/)\n",
    "- [diversity alpha_group_significance](https://docs.qiime2.org/2022.8/plugins/available/diversity/alpha-group-significance/)\n",
    "- [diversity beta_group_significance](https://docs.qiime2.org/2022.8/plugins/available/diversity/beta-group-significance/)\n",
    "- [feature_table core_features](https://docs.qiime2.org/2022.8/plugins/available/feature-table/core-features/)\n",
    "- [feature_table summarize](https://docs.qiime2.org/2022.8/plugins/available/feature-table/summarize/)\n",
    "- [taxa filter-table](https://docs.qiime2.org/2022.8/plugins/available/taxa/filter-table/)\n",
    "- [taxa collapse](https://docs.qiime2.org/2022.8/plugins/available/taxa/collapse/)"
   ]
  },
  {
   "cell_type": "markdown",
   "id": "843debbf",
   "metadata": {
    "papermill": {
     "duration": 0.002765,
     "end_time": "2024-03-05T23:34:37.240207",
     "exception": false,
     "start_time": "2024-03-05T23:34:37.237442",
     "status": "completed"
    },
    "tags": []
   },
   "source": [
    "## Setup and settings"
   ]
  },
  {
   "cell_type": "code",
   "execution_count": 1,
   "id": "965e28e5",
   "metadata": {
    "ExecuteTime": {
     "end_time": "2022-11-03T20:35:26.198671Z",
     "start_time": "2022-11-03T20:35:06.473173Z"
    },
    "execution": {
     "iopub.execute_input": "2024-03-05T23:34:37.246758Z",
     "iopub.status.busy": "2024-03-05T23:34:37.246532Z",
     "iopub.status.idle": "2024-03-05T23:34:41.898484Z",
     "shell.execute_reply": "2024-03-05T23:34:41.897905Z"
    },
    "papermill": {
     "duration": 4.656812,
     "end_time": "2024-03-05T23:34:41.899770",
     "exception": false,
     "start_time": "2024-03-05T23:34:37.242958",
     "status": "completed"
    },
    "tags": []
   },
   "outputs": [],
   "source": [
    "# Importing packages\n",
    "import os\n",
    "import pandas as pd\n",
    "from qiime2 import Artifact\n",
    "from qiime2 import Visualization\n",
    "from qiime2 import Metadata\n",
    "\n",
    "from qiime2.plugins.phylogeny.pipelines import align_to_tree_mafft_fasttree\n",
    "\n",
    "from qiime2.plugins.diversity.pipelines import alpha\n",
    "from qiime2.plugins.diversity.pipelines import beta\n",
    "from qiime2.plugins.diversity.pipelines import core_metrics\n",
    "from qiime2.plugins.diversity.pipelines import alpha_phylogenetic\n",
    "\n",
    "from qiime2.plugins.diversity.visualizers import alpha_group_significance\n",
    "from qiime2.plugins.diversity.visualizers import beta_group_significance\n",
    "from qiime2.plugins.diversity.visualizers import alpha_correlation\n",
    "from qiime2.plugins.diversity.visualizers import beta_rarefaction\n",
    "\n",
    "from qiime2.plugins.taxa.methods import filter_table\n",
    "from qiime2.plugins.taxa.methods import collapse\n",
    "\n",
    "from qiime2.plugins.feature_table.visualizers import tabulate_seqs\n",
    "from qiime2.plugins.feature_table.visualizers import summarize\n",
    "from qiime2.plugins.feature_table.visualizers import core_features\n",
    "from qiime2.plugins.diversity.pipelines import core_metrics_phylogenetic\n",
    "\n",
    "from qiime2.plugins.feature_table.methods import filter_samples\n",
    "from qiime2.plugins.feature_table.methods import filter_seqs\n",
    "\n",
    "from qiime2.plugins.alignment.methods import mafft\n",
    "\n",
    "\n",
    "import matplotlib.pyplot as plt\n",
    "\n",
    "%matplotlib inline"
   ]
  },
  {
   "cell_type": "markdown",
   "id": "530ceb60",
   "metadata": {
    "papermill": {
     "duration": 0.003155,
     "end_time": "2024-03-05T23:34:41.906060",
     "exception": false,
     "start_time": "2024-03-05T23:34:41.902905",
     "status": "completed"
    },
    "tags": []
   },
   "source": [
    "### Receiving the parameters\n",
    "\n",
    "The following cell can receive parameters using the [papermill](https://papermill.readthedocs.io/en/latest/) tool."
   ]
  },
  {
   "cell_type": "code",
   "execution_count": 2,
   "id": "18d874ea",
   "metadata": {
    "ExecuteTime": {
     "end_time": "2022-09-29T20:54:14.793270Z",
     "start_time": "2022-09-29T20:54:14.789367Z"
    },
    "execution": {
     "iopub.execute_input": "2024-03-05T23:34:41.912703Z",
     "iopub.status.busy": "2024-03-05T23:34:41.912364Z",
     "iopub.status.idle": "2024-03-05T23:34:41.915460Z",
     "shell.execute_reply": "2024-03-05T23:34:41.915147Z"
    },
    "papermill": {
     "duration": 0.007641,
     "end_time": "2024-03-05T23:34:41.916448",
     "exception": false,
     "start_time": "2024-03-05T23:34:41.908807",
     "status": "completed"
    },
    "tags": [
     "parameters"
    ]
   },
   "outputs": [],
   "source": [
    "base_dir = os.path.join('/', 'home')\n",
    "metadata_file = os.path.abspath(os.path.join(base_dir, 'data', 'metadatada.tsv'))\n",
    "experiment_name = ''\n",
    "class_col = ''\n",
    "replace_files = False"
   ]
  },
  {
   "cell_type": "code",
   "execution_count": 3,
   "id": "b6be20bc",
   "metadata": {
    "execution": {
     "iopub.execute_input": "2024-03-05T23:34:41.923019Z",
     "iopub.status.busy": "2024-03-05T23:34:41.922840Z",
     "iopub.status.idle": "2024-03-05T23:34:41.925760Z",
     "shell.execute_reply": "2024-03-05T23:34:41.925450Z"
    },
    "papermill": {
     "duration": 0.007366,
     "end_time": "2024-03-05T23:34:41.926701",
     "exception": false,
     "start_time": "2024-03-05T23:34:41.919335",
     "status": "completed"
    },
    "tags": [
     "injected-parameters"
    ]
   },
   "outputs": [],
   "source": [
    "# Parameters\n",
    "base_dir = \"/mnt/nupeb/rede-micro/redemicro-ana-flavia-nutri\"\n",
    "class_col = \"group-id\"\n",
    "classifier_file = \"/mnt/nupeb/rede-micro/datasets/16S_classifiers_qiime2/silva-138-99-nb-classifier.qza\"\n",
    "experiment_name = \"ana-flavia-HSD-NCxHSD-NR\"\n",
    "manifest_file = \"/mnt/nupeb/rede-micro/redemicro-ana-flavia-nutri/data/raw/manifest/manifest-ana-flavia-HSD-NCxHSD-NR.csv\"\n",
    "metadata_file = \"/mnt/nupeb/rede-micro/redemicro-ana-flavia-nutri/data/raw/metadata/metadata-ana-flavia-HSD-NCxHSD-NR.tsv\"\n",
    "overlap = 12\n",
    "phred = 20\n",
    "replace_files = False\n",
    "threads = 6\n",
    "top_n = 20\n",
    "trim = {\n",
    "    \"forward_primer\": \"CCTACGGGRSGCAGCAG\",\n",
    "    \"overlap\": 8,\n",
    "    \"reverse_primer\": \"GGACTACHVGGGTWTCTAAT\",\n",
    "}\n",
    "trunc_f = 0\n",
    "trunc_r = 0\n"
   ]
  },
  {
   "cell_type": "code",
   "execution_count": 4,
   "id": "f38617d9",
   "metadata": {
    "ExecuteTime": {
     "end_time": "2022-09-29T20:54:14.804575Z",
     "start_time": "2022-09-29T20:54:14.794927Z"
    },
    "execution": {
     "iopub.execute_input": "2024-03-05T23:34:41.933199Z",
     "iopub.status.busy": "2024-03-05T23:34:41.933036Z",
     "iopub.status.idle": "2024-03-05T23:34:41.935721Z",
     "shell.execute_reply": "2024-03-05T23:34:41.935293Z"
    },
    "papermill": {
     "duration": 0.007102,
     "end_time": "2024-03-05T23:34:41.936704",
     "exception": false,
     "start_time": "2024-03-05T23:34:41.929602",
     "status": "completed"
    },
    "tags": []
   },
   "outputs": [],
   "source": [
    "experiment_folder = os.path.abspath(os.path.join(base_dir, 'experiments', experiment_name))\n",
    "img_folder = os.path.abspath(os.path.join(experiment_folder, 'imgs'))"
   ]
  },
  {
   "cell_type": "markdown",
   "id": "ea9b90fb",
   "metadata": {
    "papermill": {
     "duration": 0.002877,
     "end_time": "2024-03-05T23:34:41.942522",
     "exception": false,
     "start_time": "2024-03-05T23:34:41.939645",
     "status": "completed"
    },
    "tags": []
   },
   "source": [
    "### Defining names, paths and flags"
   ]
  },
  {
   "cell_type": "code",
   "execution_count": 5,
   "id": "45727eef",
   "metadata": {
    "ExecuteTime": {
     "end_time": "2022-09-29T20:54:14.816686Z",
     "start_time": "2022-09-29T20:54:14.806238Z"
    },
    "execution": {
     "iopub.execute_input": "2024-03-05T23:34:41.949276Z",
     "iopub.status.busy": "2024-03-05T23:34:41.949049Z",
     "iopub.status.idle": "2024-03-05T23:34:41.953393Z",
     "shell.execute_reply": "2024-03-05T23:34:41.953065Z"
    },
    "papermill": {
     "duration": 0.008609,
     "end_time": "2024-03-05T23:34:41.954298",
     "exception": false,
     "start_time": "2024-03-05T23:34:41.945689",
     "status": "completed"
    },
    "tags": []
   },
   "outputs": [
    {
     "name": "stdout",
     "output_type": "stream",
     "text": [
      "The new directory is created in /mnt/nupeb/rede-micro/redemicro-ana-flavia-nutri/experiments/ana-flavia-HSD-NCxHSD-NR/qiime-artifacts/alpha-analysis\n",
      "The new directory is created in /mnt/nupeb/rede-micro/redemicro-ana-flavia-nutri/experiments/ana-flavia-HSD-NCxHSD-NR/qiime-artifacts/beta-analysis\n"
     ]
    }
   ],
   "source": [
    "# QIIME2 Artifacts folder\n",
    "qiime_folder = os.path.join(experiment_folder, 'qiime-artifacts')\n",
    "\n",
    "# Input - DADA2 Artifacts\n",
    "dada2_tabs_path = os.path.join(qiime_folder, 'dada2-tabs.qza')\n",
    "dada2_reps_path = os.path.join(qiime_folder, 'dada2-reps.qza')\n",
    "dada2_stat_path = os.path.join(qiime_folder, 'dada2-stat.qza')\n",
    "\n",
    "# Input - Taxonaomic Artifacts\n",
    "taxonomy_path = os.path.join(qiime_folder, 'metatax.qza')\n",
    "\n",
    "# Create folder to store Alpha files\n",
    "alpha_path = os.path.join(qiime_folder, 'alpha-analysis')\n",
    "if not os.path.exists(alpha_path):\n",
    "    os.makedirs(alpha_path)\n",
    "    print(f'The new directory is created in {alpha_path}')\n",
    "    \n",
    "# Create folder to store Beta files\n",
    "beta_path = os.path.join(qiime_folder, 'beta-analysis')\n",
    "if not os.path.exists(beta_path):\n",
    "    os.makedirs(beta_path)\n",
    "    print(f'The new directory is created in {beta_path}')\n",
    "\n",
    "# Output -Diversity Artifacts\n",
    "alpha_diversity_path = os.path.join(alpha_path, 'alpha-diversity.qza')\n",
    "alpha_diversity_view_path = os.path.join(alpha_path, 'alpha-diversity.qzv')\n",
    "beta_diversity_path = os.path.join(beta_path, 'beta-diversity.qza')\n",
    "beta_diversity_view_path = os.path.join(beta_path, 'beta-diversity.qzv')"
   ]
  },
  {
   "cell_type": "code",
   "execution_count": 6,
   "id": "601ae263",
   "metadata": {
    "ExecuteTime": {
     "end_time": "2022-09-29T20:54:14.829117Z",
     "start_time": "2022-09-29T20:54:14.818272Z"
    },
    "execution": {
     "iopub.execute_input": "2024-03-05T23:34:41.961192Z",
     "iopub.status.busy": "2024-03-05T23:34:41.961044Z",
     "iopub.status.idle": "2024-03-05T23:34:41.964910Z",
     "shell.execute_reply": "2024-03-05T23:34:41.964476Z"
    },
    "papermill": {
     "duration": 0.008425,
     "end_time": "2024-03-05T23:34:41.965825",
     "exception": false,
     "start_time": "2024-03-05T23:34:41.957400",
     "status": "completed"
    },
    "tags": []
   },
   "outputs": [],
   "source": [
    "def filter_and_collapse(tab, seqs, tax, meta, lvl, exclude=True, exclude_list='uncultured,unidentified,metagenome'):\n",
    "    from qiime2.plugins.taxa.methods import collapse\n",
    "    from qiime2.plugins.taxa.methods import filter_table\n",
    "    from qiime2.plugins.feature_table.methods import filter_seqs\n",
    "    from qiime2.plugins.feature_table.visualizers import summarize\n",
    "    \n",
    "    to_include = ('d', 'p', 'c', 'o', 'f', 'g', 's')[lvl-1]\n",
    "    to_include += '__'\n",
    "    to_exclude = exclude_list if exclude else None\n",
    "    \n",
    "    filtered_tabs = filter_table(\n",
    "        table=tab, \n",
    "        taxonomy=tax,\n",
    "        include=to_include,\n",
    "        exclude=to_exclude,\n",
    "        mode='contains').filtered_table\n",
    "    \n",
    "    filtered_seqs = filter_seqs(\n",
    "        data = seqs,\n",
    "        table = filtered_tabs,\n",
    "    ).filtered_data\n",
    "    \n",
    "    collapsed_table = collapse(table=filtered_tabs, taxonomy=tax, level=lvl).collapsed_table\n",
    "    collapsed_table_view = summarize(table=collapsed_table, sample_metadata=meta).visualization\n",
    "    \n",
    "    return collapsed_table, collapsed_table_view, filtered_seqs"
   ]
  },
  {
   "cell_type": "markdown",
   "id": "0999a1b2",
   "metadata": {
    "papermill": {
     "duration": 0.002907,
     "end_time": "2024-03-05T23:34:41.971697",
     "exception": false,
     "start_time": "2024-03-05T23:34:41.968790",
     "status": "completed"
    },
    "tags": []
   },
   "source": [
    "## Step execution\n",
    "\n",
    "### Load input files\n",
    "\n",
    "This Step import the QIIME2 `FeatureTable[Frequency]` Artifact and the `Metadata` file."
   ]
  },
  {
   "cell_type": "code",
   "execution_count": 7,
   "id": "8f299d1a",
   "metadata": {
    "ExecuteTime": {
     "end_time": "2022-09-29T20:54:15.559837Z",
     "start_time": "2022-09-29T20:54:14.830405Z"
    },
    "execution": {
     "iopub.execute_input": "2024-03-05T23:34:41.978108Z",
     "iopub.status.busy": "2024-03-05T23:34:41.977982Z",
     "iopub.status.idle": "2024-03-05T23:34:42.429458Z",
     "shell.execute_reply": "2024-03-05T23:34:42.428964Z"
    },
    "papermill": {
     "duration": 0.456009,
     "end_time": "2024-03-05T23:34:42.430660",
     "exception": false,
     "start_time": "2024-03-05T23:34:41.974651",
     "status": "completed"
    },
    "tags": []
   },
   "outputs": [],
   "source": [
    "#Load Metadata\n",
    "metadata_qa = Metadata.load(metadata_file)\n",
    "\n",
    "#Load FeatureTable[Frequency]\n",
    "tabs = Artifact.load(dada2_tabs_path)\n",
    "tabs_df = tabs.view(Metadata).to_dataframe().T\n",
    "\n",
    "# FeatureData[Sequence]\n",
    "reps = Artifact.load(dada2_reps_path)\n",
    "\n",
    "# FeatureData[Taxonomy]\n",
    "tax = Artifact.load(taxonomy_path)"
   ]
  },
  {
   "cell_type": "code",
   "execution_count": 8,
   "id": "c8dfe530",
   "metadata": {
    "ExecuteTime": {
     "end_time": "2022-09-29T20:54:15.564968Z",
     "start_time": "2022-09-29T20:54:15.561875Z"
    },
    "execution": {
     "iopub.execute_input": "2024-03-05T23:34:42.437771Z",
     "iopub.status.busy": "2024-03-05T23:34:42.437500Z",
     "iopub.status.idle": "2024-03-05T23:34:42.733943Z",
     "shell.execute_reply": "2024-03-05T23:34:42.733516Z"
    },
    "papermill": {
     "duration": 0.301018,
     "end_time": "2024-03-05T23:34:42.734916",
     "exception": false,
     "start_time": "2024-03-05T23:34:42.433898",
     "status": "completed"
    },
    "tags": []
   },
   "outputs": [
    {
     "name": "stderr",
     "output_type": "stream",
     "text": [
      "/home/lauro/anaconda3/envs/qiime2-2023.5/lib/python3.8/site-packages/q2_types/feature_data/_transformer.py:258: FutureWarning: iteritems is deprecated and will be removed in a future version. Use .items instead.\n",
      "  for id_, seq in data.iteritems():\n"
     ]
    }
   ],
   "source": [
    "# Filter FeatureTable[Frequency | RelativeFrequency | PresenceAbsence | Composition] based on Metadata sample ID values\n",
    "tabs = filter_samples(\n",
    "    table=tabs,\n",
    "    metadata=metadata_qa,\n",
    ").filtered_table\n",
    "# Filter SampleData[SequencesWithQuality | PairedEndSequencesWithQuality | JoinedSequencesWithQuality] based on Metadata sample ID values; returns FeatureData[Sequence | AlignedSequence]\n",
    "reps = filter_seqs(\n",
    "    data=reps,\n",
    "    table=tabs,\n",
    ").filtered_data"
   ]
  },
  {
   "cell_type": "markdown",
   "id": "9f43843a",
   "metadata": {
    "ExecuteTime": {
     "end_time": "2022-09-22T22:48:07.523952Z",
     "start_time": "2022-09-22T22:48:07.517565Z"
    },
    "papermill": {
     "duration": 0.003005,
     "end_time": "2024-03-05T23:34:42.741230",
     "exception": false,
     "start_time": "2024-03-05T23:34:42.738225",
     "status": "completed"
    },
    "tags": []
   },
   "source": [
    "## Alpha diversity analysis\n",
    "\n",
    "#### Reference\n",
    "- [The Use and Types of Alpha-Diversity Metrics in Microbial NGS](https://www.cd-genomics.com/microbioseq/the-use-and-types-of-alpha-diversity-metrics-in-microbial-ngs.html)\n",
    "- [Alpha diversity metrics](http://scikit-bio.org/docs/0.2.0/generated/skbio.diversity.alpha.html)\n",
    "\n",
    "#### Methods\n",
    "- [diversity alpha](https://docs.qiime2.org/2022.8/plugins/available/diversity/alpha/): Computes a user-specified alpha diversity metric for all samples in a\n",
    "feature table.\n",
    "- [diversity alpha_phylogenetic](https://docs.qiime2.org/2022.8/plugins/available/diversity/alpha-phylogenetic/): Computes a user-specified phylogenetic alpha diversity metric for all\n",
    "samples in a feature table.\n",
    "- [diversity alpha_correlation](https://docs.qiime2.org/2022.8/plugins/available/diversity/alpha-correlation/): Determine whether numeric sample metadata columns are correlated with alpha diversity.\n",
    "- [diversity alpha_group_significance](https://docs.qiime2.org/2022.8/plugins/available/diversity/alpha-group-significance/): Visually and statistically compare groups of alpha diversity values."
   ]
  },
  {
   "cell_type": "markdown",
   "id": "606b9c75",
   "metadata": {
    "papermill": {
     "duration": 0.002949,
     "end_time": "2024-03-05T23:34:42.747242",
     "exception": false,
     "start_time": "2024-03-05T23:34:42.744293",
     "status": "completed"
    },
    "tags": []
   },
   "source": [
    "### Compute Alpha Diversity vectors\n",
    "- [diversity alpha](https://docs.qiime2.org/2022.8/plugins/available/diversity/alpha/): Computes a user-specified alpha diversity metric for all samples in a feature table.\n",
    "- [Alpha diversity metrics](http://scikit-bio.org/docs/0.2.0/generated/skbio.diversity.alpha.html)\n",
    " - Choices: ('ace', 'berger_parker_d', 'brillouin_d', 'chao1', 'chao1_ci', 'dominance', 'doubles', 'enspie', 'esty_ci', 'fisher_alpha', 'gini_index', 'goods_coverage', 'heip_e', 'kempton_taylor_q', 'lladser_pe', 'margalef', 'mcintosh_d', 'mcintosh_e', 'menhinick', 'michaelis_menten_fit', 'observed_features', 'osd', 'pielou_e', 'robbins', 'shannon', 'simpson', 'simpson_e', 'singles', 'strong')"
   ]
  },
  {
   "cell_type": "code",
   "execution_count": 9,
   "id": "556e5264",
   "metadata": {
    "ExecuteTime": {
     "end_time": "2022-09-29T20:54:20.790166Z",
     "start_time": "2022-09-29T20:54:20.451134Z"
    },
    "execution": {
     "iopub.execute_input": "2024-03-05T23:34:42.754639Z",
     "iopub.status.busy": "2024-03-05T23:34:42.754088Z",
     "iopub.status.idle": "2024-03-05T23:34:43.137763Z",
     "shell.execute_reply": "2024-03-05T23:34:43.137302Z"
    },
    "papermill": {
     "duration": 0.388439,
     "end_time": "2024-03-05T23:34:43.138706",
     "exception": false,
     "start_time": "2024-03-05T23:34:42.750267",
     "status": "completed"
    },
    "tags": []
   },
   "outputs": [
    {
     "name": "stdout",
     "output_type": "stream",
     "text": [
      "Calculating alpha diversity: chao1\n",
      "DONE: Calculating alpha diversity: chao1\n",
      "Calculating alpha diversity: chao1_ci\n",
      "DONE: Calculating alpha diversity: chao1_ci\n",
      "Calculating alpha diversity: observed_features\n",
      "DONE: Calculating alpha diversity: observed_features\n",
      "Calculating alpha diversity: shannon\n"
     ]
    },
    {
     "name": "stdout",
     "output_type": "stream",
     "text": [
      "DONE: Calculating alpha diversity: shannon\n",
      "Calculating alpha diversity: simpson\n",
      "DONE: Calculating alpha diversity: simpson\n",
      "Calculating alpha diversity: simpson_e\n",
      "DONE: Calculating alpha diversity: simpson_e\n"
     ]
    }
   ],
   "source": [
    "metrics = ('ace', 'berger_parker_d', 'brillouin_d', 'chao1', 'chao1_ci', 'dominance', 'doubles', 'enspie', 'esty_ci', 'fisher_alpha', 'gini_index', 'goods_coverage', 'heip_e', 'kempton_taylor_q', 'lladser_pe', 'margalef', 'mcintosh_d', 'mcintosh_e', 'menhinick', 'michaelis_menten_fit', 'observed_features', 'osd', 'pielou_e', 'robbins', 'shannon', 'simpson', 'simpson_e', 'singles', 'strong')\n",
    "\n",
    "# Sugestão de valores para Alpha diversity\n",
    "# chao1 e observed_features (riqueza); shannon e simpson (diversidade - que levam em consideração riqueza e equitabilidade).\n",
    "metrics = ('chao1', 'chao1_ci', 'observed_features', 'shannon', 'simpson', 'simpson_e')\n",
    "alpha_diversities = dict()\n",
    "for metric in metrics:\n",
    "    print(f\"Calculating alpha diversity: {metric}\")\n",
    "    try:\n",
    "        alpha_diversity = alpha(table=tabs, metric=metric).alpha_diversity\n",
    "        alpha_diversities[metric] = alpha_diversity\n",
    "        # Save SampleData[AlphaDiversity] Artifact\n",
    "        file_path = os.path.join(alpha_path, f'alpha-values-{metric}.qza')\n",
    "        alpha_diversity.save(file_path)\n",
    "        print(f\"DONE: Calculating alpha diversity: {metric}\")\n",
    "    except Exception as e:\n",
    "        print(f\"ERROR: Calculating alpha diversity: {metric}\")\n",
    "        print(e)"
   ]
  },
  {
   "cell_type": "markdown",
   "id": "184bcb7b",
   "metadata": {
    "papermill": {
     "duration": 0.003117,
     "end_time": "2024-03-05T23:34:43.145250",
     "exception": false,
     "start_time": "2024-03-05T23:34:43.142133",
     "status": "completed"
    },
    "tags": []
   },
   "source": [
    "### Create Phylogenetic inference\n",
    "\n",
    "- [alignment align_to_tree_mafft_fasttree](https://docs.qiime2.org/2022.8/plugins/available/phylogeny/align-to-tree-mafft-fasttree/): Build a phylogenetic tree using fasttree and mafft alignment\n",
    "\n",
    "This pipeline will start by creating a sequence alignment using MAFFT,\n",
    "after which any alignment columns that are phylogenetically uninformative\n",
    "or ambiguously aligned will be removed (masked). The resulting masked\n",
    "alignment will be used to infer a phylogenetic tree and then subsequently\n",
    "rooted at its midpoint. Output files from each step of the pipeline will be\n",
    "saved. This includes both the unmasked and masked MAFFT alignment from\n",
    "q2-alignment methods, and both the rooted and unrooted phylogenies from\n",
    "q2-phylogeny methods.\n",
    "\n",
    "\n",
    "Returns\n",
    "- alignment : FeatureData[AlignedSequence] : The aligned sequences.\n",
    "- masked_alignment : FeatureData[AlignedSequence] : The masked alignment.\n",
    "- tree : Phylogeny[Unrooted] : The unrooted phylogenetic tree.\n",
    "- rooted_tree : Phylogeny[Rooted] : The rooted phylogenetic tree."
   ]
  },
  {
   "cell_type": "code",
   "execution_count": 10,
   "id": "9c8cfe47",
   "metadata": {
    "ExecuteTime": {
     "end_time": "2022-09-29T20:54:35.139531Z",
     "start_time": "2022-09-29T20:54:20.792130Z"
    },
    "execution": {
     "iopub.execute_input": "2024-03-05T23:34:43.152336Z",
     "iopub.status.busy": "2024-03-05T23:34:43.152158Z",
     "iopub.status.idle": "2024-03-05T23:34:49.799616Z",
     "shell.execute_reply": "2024-03-05T23:34:49.799166Z"
    },
    "papermill": {
     "duration": 6.652362,
     "end_time": "2024-03-05T23:34:49.800767",
     "exception": false,
     "start_time": "2024-03-05T23:34:43.148405",
     "status": "completed"
    },
    "tags": []
   },
   "outputs": [
    {
     "name": "stdout",
     "output_type": "stream",
     "text": [
      "Running external command line application. This may print messages to stdout and/or stderr.\n",
      "The command being run is below. This command cannot be manually re-run as it will depend on temporary files that no longer exist.\n",
      "\n",
      "Command: mafft --preservecase --inputorder --thread 6 /tmp/qiime2/lauro/data/f769fcbf-c6ae-4a85-b478-e0c155e6a4e9/data/dna-sequences.fasta\n",
      "\n"
     ]
    },
    {
     "name": "stderr",
     "output_type": "stream",
     "text": [
      "inputfile = orig\n",
      "893 x 430 - 262 d\n",
      "nthread = 6\n",
      "nthreadpair = 6\n",
      "nthreadtb = 6\n",
      "ppenalty_ex = 0\n",
      "stacksize: 8192 kb\n",
      "generating a scoring matrix for nucleotide (dist=200) ... done\n",
      "Gap Penalty = -1.53, +0.00, +0.00\n",
      "\n",
      "\n",
      "\n",
      "Making a distance matrix ..\n",
      "\r",
      "    1 / 893 (thread    0)\r",
      "  101 / 893 (thread    0)\r",
      "  201 / 893 (thread    3)\r",
      "  301 / 893 (thread    3)\r",
      "  401 / 893 (thread    3)\r",
      "  501 / 893 (thread    5)\r",
      "  601 / 893 (thread    0)\r",
      "  701 / 893 (thread    1)\r",
      "  801 / 893 (thread    3)\n",
      "done.\n",
      "\n",
      "Constructing a UPGMA tree (efffree=0) ... \n",
      "\r",
      "    0 / 893\r",
      "   10 / 893\r",
      "   20 / 893\r",
      "   30 / 893\r",
      "   40 / 893\r",
      "   50 / 893\r",
      "   60 / 893\r",
      "   70 / 893\r",
      "   80 / 893\r",
      "   90 / 893\r",
      "  100 / 893\r",
      "  110 / 893\r",
      "  120 / 893\r",
      "  130 / 893\r",
      "  140 / 893\r",
      "  150 / 893\r",
      "  160 / 893\r",
      "  170 / 893\r",
      "  180 / 893\r",
      "  190 / 893\r",
      "  200 / 893\r",
      "  210 / 893\r",
      "  220 / 893\r",
      "  230 / 893\r",
      "  240 / 893\r",
      "  250 / 893\r",
      "  260 / 893\r",
      "  270 / 893\r",
      "  280 / 893\r",
      "  290 / 893\r",
      "  300 / 893\r",
      "  310 / 893\r",
      "  320 / 893\r",
      "  330 / 893\r",
      "  340 / 893\r",
      "  350 / 893\r",
      "  360 / 893\r",
      "  370 / 893\r",
      "  380 / 893\r",
      "  390 / 893\r",
      "  400 / 893\r",
      "  410 / 893\r",
      "  420 / 893\r",
      "  430 / 893\r",
      "  440 / 893\r",
      "  450 / 893\r",
      "  460 / 893\r",
      "  470 / 893\r",
      "  480 / 893\r",
      "  490 / 893\r",
      "  500 / 893\r",
      "  510 / 893\r",
      "  520 / 893\r",
      "  530 / 893\r",
      "  540 / 893\r",
      "  550 / 893\r",
      "  560 / 893\r",
      "  570 / 893\r",
      "  580 / 893\r",
      "  590 / 893\r",
      "  600 / 893\r",
      "  610 / 893\r",
      "  620 / 893\r",
      "  630 / 893\r",
      "  640 / 893\r",
      "  650 / 893\r",
      "  660 / 893\r",
      "  670 / 893\r",
      "  680 / 893\r",
      "  690 / 893\r",
      "  700 / 893\r",
      "  710 / 893\r",
      "  720 / 893\r",
      "  730 / 893\r",
      "  740 / 893\r",
      "  750 / 893\r",
      "  760 / 893\r",
      "  770 / 893\r",
      "  780 / 893\r",
      "  790 / 893\r",
      "  800 / 893\r",
      "  810 / 893\r",
      "  820 / 893\r",
      "  830 / 893\r",
      "  840 / 893\r",
      "  850 / 893\r",
      "  860 / 893\r",
      "  870 / 893\r",
      "  880 / 893\r",
      "  890 / 893\n",
      "done.\n",
      "\n",
      "Progressive alignment 1/2... \n",
      "\r",
      "STEP     1 / 892 (thread    1) f\b\b\r",
      "STEP     2 / 892 (thread    5)\r",
      "STEP     3 / 892 (thread    4) f\b\b f\b\b\r",
      "STEP     5 / 892 (thread    2) f\b\b\r",
      "STEP     4 / 892 (thread    0) f\b\b\r",
      "STEP     6 / 892 (thread    3) f\b\b\r",
      "STEP     7 / 892 (thread    4) f\b\b\r",
      "STEP     8 / 892 (thread    2) f\b\b\r",
      "STEP     9 / 892 (thread    0) f\b\b\r",
      "STEP    10 / 892 (thread    1) f\b\b\r",
      "STEP    11 / 892 (thread    5) f\b\b\r",
      "STEP    12 / 892 (thread    3) f\b\b\r",
      "STEP    13 / 892 (thread    4) f\b\b\r",
      "STEP    14 / 892 (thread    2) f\b\b\r",
      "STEP    15 / 892 (thread    0) f\b\b\r",
      "STEP    16 / 892 (thread    1) f\b\b\r",
      "STEP    17 / 892 (thread    5) f\b\b\r",
      "STEP    18 / 892 (thread    3) f\b\b\r",
      "STEP    19 / 892 (thread    4) f\b\b\r",
      "STEP    20 / 892 (thread    2) f\b\b\r",
      "STEP    21 / 892 (thread    0) f\b\b\r",
      "STEP    22 / 892 (thread    1) f\b\b\r",
      "STEP    23 / 892 (thread    5) f\b\b\r",
      "STEP    24 / 892 (thread    3) f\b\b\r",
      "STEP    25 / 892 (thread    4) f\b\b\r",
      "STEP    26 / 892 (thread    2) f\b\b\r",
      "STEP    27 / 892 (thread    0) f\b\b\r",
      "STEP    28 / 892 (thread    1) f\b\b\r",
      "STEP    29 / 892 (thread    5) f\b\b\r",
      "STEP    30 / 892 (thread    3) f\b\b\r",
      "STEP    31 / 892 (thread    4) f\b\b\r",
      "STEP    32 / 892 (thread    2) f\b\b\r",
      "STEP    33 / 892 (thread    0) f\b\b\r",
      "STEP    34 / 892 (thread    1) f\b\b\r",
      "STEP    35 / 892 (thread    5) f\b\b\r",
      "STEP    36 / 892 (thread    3) f\b\b\r",
      "STEP    37 / 892 (thread    4) f\b\b\r",
      "STEP    38 / 892 (thread    2) f\b\b\r",
      "STEP    39 / 892 (thread    0) f\b\b\r",
      "STEP    40 / 892 (thread    1) f\b\b\r",
      "STEP    41 / 892 (thread    5) f\b\b\r",
      "STEP    42 / 892 (thread    3) f\b\b\r",
      "STEP    43 / 892 (thread    4) f\b\b\r",
      "STEP    44 / 892 (thread    2) f\b\b\r",
      "STEP    45 / 892 (thread    1) f\b\b\r",
      "STEP    46 / 892 (thread    5) f\b\b\r",
      "STEP    47 / 892 (thread    3) f\b\b\r",
      "STEP    48 / 892 (thread    4) f\b\b\r",
      "STEP    49 / 892 (thread    2) f\b\b\r",
      "STEP    50 / 892 (thread    1) f\b\b\r",
      "STEP    51 / 892 (thread    0) f\b\b\r",
      "STEP    52 / 892 (thread    2) f\b\b\r",
      "STEP    53 / 892 (thread    1) f\b\b\r",
      "STEP    54 / 892 (thread    0) f\b\b\r",
      "STEP    55 / 892 (thread    4) f\b\b\r",
      "STEP    56 / 892 (thread    2) f\b\b\r",
      "STEP    57 / 892 (thread    5) f\b\b\r",
      "STEP    58 / 892 (thread    3) f\b\b\r",
      "STEP    59 / 892 (thread    1) f\b\b\r",
      "STEP    60 / 892 (thread    0) f\b\b\r",
      "STEP    61 / 892 (thread    4) f\b\b\r",
      "STEP    62 / 892 (thread    2) f\b\b\r",
      "STEP    63 / 892 (thread    5) f\b\b\r",
      "STEP    64 / 892 (thread    3) f\b\b\r",
      "STEP    65 / 892 (thread    1) f\b\b\r",
      "STEP    66 / 892 (thread    0) f\b\b\r",
      "STEP    67 / 892 (thread    4) f\b\b\r",
      "STEP    68 / 892 (thread    2) f\b\b\r",
      "STEP    69 / 892 (thread    5) f\b\b\r",
      "STEP    70 / 892 (thread    3) f\b\b\r",
      "STEP    71 / 892 (thread    1) f\b\b\r",
      "STEP    72 / 892 (thread    0) f\b\b\r",
      "STEP    73 / 892 (thread    4) f\b\b\r",
      "STEP    74 / 892 (thread    2) f\b\b\r",
      "STEP    75 / 892 (thread    5) f\b\b\r",
      "STEP    76 / 892 (thread    3) f\b\b\r",
      "STEP    77 / 892 (thread    1) f\b\b\r",
      "STEP    78 / 892 (thread    0) f\b\b\r",
      "STEP    79 / 892 (thread    4) f\b\b\r",
      "STEP    80 / 892 (thread    2) f\b\b\r",
      "STEP    81 / 892 (thread    5) f\b\b\r",
      "STEP    82 / 892 (thread    3) f\b\b\r",
      "STEP    83 / 892 (thread    1) f\b\b\r",
      "STEP    84 / 892 (thread    0) f\b\b\r",
      "STEP    85 / 892 (thread    4) f\b\b\r",
      "STEP    86 / 892 (thread    2) f\b\b\r",
      "STEP    87 / 892 (thread    5) f\b\b\r",
      "STEP    88 / 892 (thread    1) f\b\b\r",
      "STEP    89 / 892 (thread    0) f\b\b\r",
      "STEP    90 / 892 (thread    3) f\b\b\r",
      "STEP    91 / 892 (thread    4) f\b\b\r",
      "STEP    92 / 892 (thread    2) f\b\b\r",
      "STEP    93 / 892 (thread    5) f\b\b\r",
      "STEP    94 / 892 (thread    0) f\b\b\r",
      "STEP    95 / 892 (thread    1) f\b\b\r",
      "STEP    96 / 892 (thread    3) f\b\b\r",
      "STEP    97 / 892 (thread    4) f\b\b\r",
      "STEP    98 / 892 (thread    2) f\b\b\r",
      "STEP   102 / 892 (thread    3) f\b\b\r",
      "STEP    99 / 892 (thread    5) f\b\b\r",
      "STEP   103 / 892 (thread    4) f\b\b\r",
      "STEP   101 / 892 (thread    1) f\b\b\r",
      "STEP   100 / 892 (thread    0) f\b\b\r",
      "STEP   106 / 892 (thread    3) f\b\b\r",
      "STEP   107 / 892 (thread    5) f\b\b\r",
      "STEP   104 / 892 (thread    2) f\b\b\r",
      "STEP   108 / 892 (thread    1) f\b\b\r",
      "STEP   105 / 892 (thread    4) f\b\b\r",
      "STEP   110 / 892 (thread    3) f\b\b\r",
      "STEP   111 / 892 (thread    2) f\b\b\r",
      "STEP   109 / 892 (thread    0) f\b\b\r",
      "STEP   112 / 892 (thread    5) f\b\b\r",
      "STEP   113 / 892 (thread    1) f\b\b\r",
      "STEP   114 / 892 (thread    4) f\b\b\r",
      "STEP   115 / 892 (thread    5) f\b\b\r",
      "STEP   116 / 892 (thread    1) f\b\b\r",
      "STEP   117 / 892 (thread    3) f\b\b\r",
      "STEP   118 / 892 (thread    4) f\b\b\r",
      "STEP   119 / 892 (thread    2) f\b\b\r",
      "STEP   120 / 892 (thread    0) f\b\b\r",
      "STEP   121 / 892 (thread    5) f\b\b\r",
      "STEP   122 / 892 (thread    3) f\b\b\r",
      "STEP   123 / 892 (thread    1) f\b\b\r",
      "STEP   124 / 892 (thread    2) f\b\b\r",
      "STEP   125 / 892 (thread    5) f\b\b\r",
      "STEP   126 / 892 (thread    3) f\b\b\r",
      "STEP   127 / 892 (thread    4) f\b\b\r",
      "STEP   128 / 892 (thread    1) f\b\b\r",
      "STEP   129 / 892 (thread    2) f\b\b\r",
      "STEP   130 / 892 (thread    3) f\b\b\r",
      "STEP   131 / 892 (thread    0) f\b\b\r",
      "STEP   132 / 892 (thread    5) f\b\b\r",
      "STEP   133 / 892 (thread    1) f\b\b\r",
      "STEP   134 / 892 (thread    2) f\b\b\r",
      "STEP   135 / 892 (thread    3) f\b\b\r",
      "STEP   136 / 892 (thread    4) f\b\b\r",
      "STEP   137 / 892 (thread    0) f\b\b\r",
      "STEP   138 / 892 (thread    5) f\b\b\r",
      "STEP   139 / 892 (thread    1) f\b\b\r",
      "STEP   140 / 892 (thread    2) f\b\b\r",
      "STEP   141 / 892 (thread    3) f\b\b\r",
      "STEP   142 / 892 (thread    4) f\b\b\r",
      "STEP   143 / 892 (thread    0) f\b\b\r",
      "STEP   144 / 892 (thread    1) f\b\b\r",
      "STEP   145 / 892 (thread    3) f\b\b\r",
      "STEP   146 / 892 (thread    4) f\b\b\r",
      "STEP   147 / 892 (thread    0) f\b\b\r",
      "STEP   148 / 892 (thread    5) f\b\b\r",
      "STEP   149 / 892 (thread    1) f\b\b\r",
      "STEP   150 / 892 (thread    2) f\b\b\r",
      "STEP   151 / 892 (thread    3) f\b\b\r",
      "STEP   152 / 892 (thread    4) f\b\b\r",
      "STEP   153 / 892 (thread    0) f\b\b\r",
      "STEP   154 / 892 (thread    1) f\b\b\r",
      "STEP   155 / 892 (thread    2) f\b\b\r",
      "STEP   156 / 892 (thread    4) f\b\b\r",
      "STEP   157 / 892 (thread    0) f\b\b\r",
      "STEP   158 / 892 (thread    3) f\b\b\r",
      "STEP   159 / 892 (thread    5) f\b\b\r",
      "STEP   160 / 892 (thread    1) f\b\b\r",
      "STEP   161 / 892 (thread    2) f\b\b\r",
      "STEP   162 / 892 (thread    4) f\b\b\r",
      "STEP   163 / 892 (thread    0) f\b\b\r",
      "STEP   164 / 892 (thread    3) f\b\b\r",
      "STEP   165 / 892 (thread    5) f\b\b\r",
      "STEP   166 / 892 (thread    1) f\b\b\r",
      "STEP   167 / 892 (thread    2) f\b\b\r",
      "STEP   168 / 892 (thread    0) f\b\b\r",
      "STEP   169 / 892 (thread    4) f\b\b\r",
      "STEP   170 / 892 (thread    3) f\b\b\r",
      "STEP   171 / 892 (thread    5) f\b\b\r",
      "STEP   172 / 892 (thread    1) f\b\b\r",
      "STEP   173 / 892 (thread    2) f\b\b\r",
      "STEP   174 / 892 (thread    0) f\b\b\r",
      "STEP   175 / 892 (thread    4) f\b\b\r",
      "STEP   176 / 892 (thread    3) f\b\b\r",
      "STEP   177 / 892 (thread    1) f\b\b\r",
      "STEP   178 / 892 (thread    2) f\b\b\r",
      "STEP   179 / 892 (thread    5) f\b\b\r",
      "STEP   180 / 892 (thread    1) f\b\b\r",
      "STEP   181 / 892 (thread    2) f\b\b\r",
      "STEP   183 / 892 (thread    5) f\b\b\r",
      "STEP   184 / 892 (thread    4) f\b\b\r",
      "STEP   182 / 892 (thread    0) f\b\b\r",
      "STEP   186 / 892 (thread    1) f\b\b\r",
      "STEP   187 / 892 (thread    2) f\b\b\r",
      "STEP   188 / 892 (thread    5) f\b\b\r",
      "STEP   189 / 892 (thread    4) f\b\b\r",
      "STEP   190 / 892 (thread    0) f\b\b\r",
      "STEP   185 / 892 (thread    3) f\b\b\r",
      "STEP   191 / 892 (thread    1) f\b\b\r",
      "STEP   192 / 892 (thread    2) f\b\b\r",
      "STEP   193 / 892 (thread    5) f\b\b\r",
      "STEP   194 / 892 (thread    4) f\b\b\r",
      "STEP   195 / 892 (thread    0) f\b\b\r",
      "STEP   196 / 892 (thread    1) f\b\b\r",
      "STEP   197 / 892 (thread    4) f\b\b\r",
      "STEP   198 / 892 (thread    0) f\b\b\r",
      "STEP   199 / 892 (thread    3) f\b\b\r",
      "STEP   200 / 892 (thread    2) f\b\b\r",
      "STEP   201 / 892 (thread    5) f\b\b\r",
      "STEP   202 / 892 (thread    1) f\b\b\r",
      "STEP   203 / 892 (thread    2) f\b\b\r",
      "STEP   204 / 892 (thread    0) f\b\b\r",
      "STEP   205 / 892 (thread    4) f\b\b\r",
      "STEP   206 / 892 (thread    3) f\b\b\r",
      "STEP   207 / 892 (thread    2) f\b\b\r",
      "STEP   208 / 892 (thread    5) f\b\b\r",
      "STEP   209 / 892 (thread    1) f\b\b\r",
      "STEP   210 / 892 (thread    3) f\b\b\r",
      "STEP   211 / 892 (thread    0) f\b\b\r",
      "STEP   212 / 892 (thread    4) f\b\b\r",
      "STEP   213 / 892 (thread    2) f\b\b\r",
      "STEP   214 / 892 (thread    5) f\b\b\r",
      "STEP   215 / 892 (thread    2) f\b\b\r",
      "STEP   216 / 892 (thread    1) f\b\b\r",
      "STEP   217 / 892 (thread    3) f\b\b\r",
      "STEP   218 / 892 (thread    0) f\b\b\r",
      "STEP   219 / 892 (thread    4) f\b\b\r",
      "STEP   220 / 892 (thread    5) f\b\b\r",
      "STEP   221 / 892 (thread    1) f\b\b\r",
      "STEP   222 / 892 (thread    3) f\b\b\r",
      "STEP   223 / 892 (thread    0) f\b\b\r",
      "STEP   224 / 892 (thread    5) f\b\b\r",
      "STEP   225 / 892 (thread    2) f\b\b\r",
      "STEP   226 / 892 (thread    4) f\b\b\r",
      "STEP   227 / 892 (thread    1) f\b\b\r",
      "STEP   228 / 892 (thread    3) f\b\b\r",
      "STEP   229 / 892 (thread    0) f\b\b\r",
      "STEP   230 / 892 (thread    5) f\b\b\r",
      "STEP   231 / 892 (thread    2) f\b\b\r",
      "STEP   232 / 892 (thread    4) f\b\b\r",
      "STEP   233 / 892 (thread    1) f\b\b\r",
      "STEP   234 / 892 (thread    3) f\b\b\r",
      "STEP   235 / 892 (thread    0) f\b\b\r",
      "STEP   236 / 892 (thread    5) f\b\b\r",
      "STEP   237 / 892 (thread    0) f\b\b\r",
      "STEP   238 / 892 (thread    3) f\b\b\r",
      "STEP   239 / 892 (thread    2) f\b\b\r",
      "STEP   240 / 892 (thread    4) f\b\b\r",
      "STEP   242 / 892 (thread    3) f\b\b\r",
      "STEP   243 / 892 (thread    5) f\b\b\r",
      "STEP   244 / 892 (thread    0) f\b\b\r",
      "STEP   245 / 892 (thread    2) f\b\b\r",
      "STEP   241 / 892 (thread    1) f\b\b\r",
      "STEP   246 / 892 (thread    0) f\b\b\r",
      "STEP   247 / 892 (thread    3) f\b\b\r",
      "STEP   248 / 892 (thread    5) f\b\b\r",
      "STEP   249 / 892 (thread    2) f\b\b\r",
      "STEP   250 / 892 (thread    4) f\b\b\r",
      "STEP   251 / 892 (thread    0) f\b\b\r",
      "STEP   252 / 892 (thread    3) f\b\b\r",
      "STEP   253 / 892 (thread    1) f\b\b\r",
      "STEP   255 / 892 (thread    2) f\b\b\r",
      "STEP   256 / 892 (thread    0) f\b\b\r",
      "STEP   257 / 892 (thread    4) f\b\b\r",
      "STEP   254 / 892 (thread    5) f\b\b\r",
      "STEP   259 / 892 (thread    4) f\b\b\r",
      "STEP   260 / 892 (thread    3) f\b\b\r",
      "STEP   261 / 892 (thread    2) f\b\b\r",
      "STEP   258 / 892 (thread    1) f\b\b\r",
      "STEP   262 / 892 (thread    0) f\b\b\r",
      "STEP   263 / 892 (thread    4) f\b\b\r",
      "STEP   264 / 892 (thread    2) f\b\b\r",
      "STEP   265 / 892 (thread    3) f\b\b\r",
      "STEP   266 / 892 (thread    5) f\b\b\r",
      "STEP   267 / 892 (thread    0) f\b\b\r",
      "STEP   268 / 892 (thread    4) f\b\b\r",
      "STEP   269 / 892 (thread    2) f\b\b\r",
      "STEP   271 / 892 (thread    0) f\b\b\r",
      "STEP   270 / 892 (thread    1) f\b\b\r",
      "STEP   272 / 892 (thread    5) f\b\b\r",
      "STEP   273 / 892 (thread    3) f\b\b\r",
      "STEP   274 / 892 (thread    4) f\b\b\r",
      "STEP   275 / 892 (thread    4) f\b\b\r",
      "STEP   276 / 892 (thread    2) f\b\b\r",
      "STEP   277 / 892 (thread    0) f\b\b\r",
      "STEP   278 / 892 (thread    1) f\b\b\r",
      "STEP   279 / 892 (thread    5) f\b\b\r",
      "STEP   280 / 892 (thread    3) f\b\b\r",
      "STEP   281 / 892 (thread    4) f\b\b\r",
      "STEP   282 / 892 (thread    0) f\b\b\r",
      "STEP   283 / 892 (thread    1) f\b\b\r",
      "STEP   284 / 892 (thread    5) f\b\b\r",
      "STEP   285 / 892 (thread    3) f\b\b\r",
      "STEP   286 / 892 (thread    2) f\b\b\r",
      "STEP   287 / 892 (thread    4) f\b\b\r",
      "STEP   288 / 892 (thread    0) f\b\b\r",
      "STEP   289 / 892 (thread    1) f\b\b\r",
      "STEP   290 / 892 (thread    5) f\b\b\r",
      "STEP   291 / 892 (thread    3) f\b\b\r",
      "STEP   292 / 892 (thread    2) f\b\b\r",
      "STEP   293 / 892 (thread    1) f\b\b\r",
      "STEP   294 / 892 (thread    4) f\b\b\r",
      "STEP   295 / 892 (thread    5) f\b\b\r",
      "STEP   296 / 892 (thread    4) f\b\b\r",
      "STEP   297 / 892 (thread    3) f\b\b\r",
      "STEP   300 / 892 (thread    1) f\b\b\r",
      "STEP   301 / 892 (thread    5) f\b\b\r",
      "STEP   299 / 892 (thread    0) f\b\b\r",
      "STEP   302 / 892 (thread    4) f\b\b\r",
      "STEP   298 / 892 (thread    2) f\b\b\r",
      "STEP   303 / 892 (thread    3) f\b\b\r",
      "STEP   304 / 892 (thread    1) f\b\b\r",
      "STEP   305 / 892 (thread    5) f\b\b\r",
      "STEP   306 / 892 (thread    0) f\b\b\r",
      "STEP   307 / 892 (thread    5) f\b\b\r",
      "STEP   308 / 892 (thread    0) f\b\b\r",
      "STEP   309 / 892 (thread    1) f\b\b\r",
      "STEP   310 / 892 (thread    4) f\b\b\r",
      "STEP   311 / 892 (thread    2) f\b\b\r",
      "STEP   312 / 892 (thread    3) f\b\b\r",
      "STEP   314 / 892 (thread    2) f\b\b\r",
      "STEP   315 / 892 (thread    5) f\b\b\r",
      "STEP   313 / 892 (thread    1) f\b\b\r",
      "STEP   316 / 892 (thread    0) f\b\b\r",
      "STEP   317 / 892 (thread    4) f\b\b\r",
      "STEP   318 / 892 (thread    3) f\b\b\r",
      "STEP   319 / 892 (thread    5) f\b\b\r",
      "STEP   320 / 892 (thread    2) f\b\b\r",
      "STEP   321 / 892 (thread    0) f\b\b\r",
      "STEP   322 / 892 (thread    3) f\b\b\r",
      "STEP   323 / 892 (thread    1) f\b\b\r",
      "STEP   324 / 892 (thread    0) f\b\b\r",
      "STEP   325 / 892 (thread    3) f\b\b\r",
      "STEP   326 / 892 (thread    5) f\b\b\r",
      "STEP   327 / 892 (thread    4) f\b\b\r",
      "STEP   328 / 892 (thread    2) f\b\b\r",
      "STEP   329 / 892 (thread    1) f\b\b\r",
      "STEP   330 / 892 (thread    0) f\b\b\r",
      "STEP   331 / 892 (thread    3) f\b\b\r",
      "STEP   332 / 892 (thread    5) f\b\b\r",
      "STEP   333 / 892 (thread    2) f\b\b\r",
      "STEP   334 / 892 (thread    0) f\b\b\r",
      "STEP   335 / 892 (thread    4) f\b\b\r",
      "STEP   336 / 892 (thread    3) f\b\b\r",
      "STEP   337 / 892 (thread    1) f\b\b\r",
      "STEP   338 / 892 (thread    5) f\b\b\r",
      "STEP   339 / 892 (thread    2) f\b\b\r",
      "STEP   340 / 892 (thread    0) f\b\b\r",
      "STEP   341 / 892 (thread    3) f\b\b\r",
      "STEP   342 / 892 (thread    1) f\b\b\r",
      "STEP   343 / 892 (thread    5) f\b\b\r",
      "STEP   344 / 892 (thread    4) f\b\b\r",
      "STEP   345 / 892 (thread    3) f\b\b\r",
      "STEP   346 / 892 (thread    1) f\b\b\r",
      "STEP   347 / 892 (thread    5) f\b\b\r",
      "STEP   348 / 892 (thread    2) f\b\b\r",
      "STEP   350 / 892 (thread    4) f\b\b\r",
      "STEP   351 / 892 (thread    3) f\b\b\r",
      "STEP   352 / 892 (thread    1) f\b\b\r",
      "STEP   349 / 892 (thread    0) f\b\b\r",
      "STEP   353 / 892 (thread    5) f\b\b\r",
      "STEP   354 / 892 (thread    2) f\b\b\r",
      "STEP   355 / 892 (thread    5) f\b\b\r",
      "STEP   356 / 892 (thread    4) f\b\b\r",
      "STEP   357 / 892 (thread    0) f\b\b\r",
      "STEP   358 / 892 (thread    2) f\b\b\r",
      "STEP   359 / 892 (thread    1) f\b\b\r",
      "STEP   360 / 892 (thread    3) f\b\b\r",
      "STEP   361 / 892 (thread    5) f\b\b\r",
      "STEP   362 / 892 (thread    3) f\b\b\r",
      "STEP   363 / 892 (thread    0) f\b\b\r",
      "STEP   364 / 892 (thread    2) f\b\b\r",
      "STEP   365 / 892 (thread    1) f\b\b\r",
      "STEP   366 / 892 (thread    4) f\b\b\r",
      "STEP   367 / 892 (thread    5) f\b\b\r",
      "STEP   368 / 892 (thread    3) f\b\b\r",
      "STEP   369 / 892 (thread    4) f\b\b\r",
      "STEP   370 / 892 (thread    0) f\b\b\r",
      "STEP   371 / 892 (thread    2) f\b\b\r",
      "STEP   372 / 892 (thread    1) f\b\b\r",
      "STEP   373 / 892 (thread    5) f\b\b\r",
      "STEP   374 / 892 (thread    1) f\b\b\r",
      "STEP   375 / 892 (thread    4) f\b\b\r",
      "STEP   376 / 892 (thread    3) f\b\b\r",
      "STEP   377 / 892 (thread    5) f\b\b\r",
      "STEP   378 / 892 (thread    0) f\b\b\r",
      "STEP   380 / 892 (thread    2) f\b\b\r",
      "STEP   379 / 892 (thread    1) f\b\b\r",
      "STEP   381 / 892 (thread    4) f\b\b\r",
      "STEP   382 / 892 (thread    3) f\b\b\r",
      "STEP   383 / 892 (thread    2) f\b\b\r",
      "STEP   384 / 892 (thread    5) f\b\b\r",
      "STEP   385 / 892 (thread    0) f\b\b\r",
      "STEP   386 / 892 (thread    1) f\b\b\r",
      "STEP   387 / 892 (thread    5) f\b\b\r",
      "STEP   388 / 892 (thread    3) f\b\b\r",
      "STEP   390 / 892 (thread    5) f\b\b\r",
      "STEP   391 / 892 (thread    4) f\b\b\r",
      "STEP   392 / 892 (thread    3) f\b\b\r",
      "STEP   393 / 892 (thread    0) f\b\b\r",
      "STEP   394 / 892 (thread    1) f\b\b\r",
      "STEP   389 / 892 (thread    2) f\b\b\r",
      "STEP   395 / 892 (thread    4) f\b\b\r",
      "STEP   396 / 892 (thread    5) f\b\b\r",
      "STEP   398 / 892 (thread    3) f\b\b\r",
      "STEP   399 / 892 (thread    5) f\b\b\r",
      "STEP   397 / 892 (thread    0) f\b\b\r",
      "STEP   400 / 892 (thread    1) f\b\b\r",
      "STEP   401 / 892 (thread    4) f\b\b\r",
      "STEP   402 / 892 (thread    2) f\b\b\r",
      "STEP   403 / 892 (thread    3) f\b\b\r",
      "STEP   404 / 892 (thread    1) f\b\b\r",
      "STEP   405 / 892 (thread    2) f\b\b\r",
      "STEP   406 / 892 (thread    3) f\b\b\r",
      "STEP   407 / 892 (thread    5) f\b\b\r",
      "STEP   408 / 892 (thread    0) f\b\b\r",
      "STEP   409 / 892 (thread    4) f\b\b\r",
      "STEP   410 / 892 (thread    1) f\b\b\r",
      "STEP   411 / 892 (thread    3) f\b\b\r",
      "STEP   412 / 892 (thread    2) f\b\b\r",
      "STEP   413 / 892 (thread    5) f\b\b\r",
      "STEP   414 / 892 (thread    0) f\b\b\r",
      "STEP   415 / 892 (thread    4) f\b\b\r",
      "STEP   416 / 892 (thread    2) f\b\b\r",
      "STEP   417 / 892 (thread    4) f\b\b\r",
      "STEP   418 / 892 (thread    3) f\b\b\r",
      "STEP   419 / 892 (thread    1) f\b\b\r",
      "STEP   420 / 892 (thread    0) f\b\b\r",
      "STEP   421 / 892 (thread    5) f\b\b\r",
      "STEP   422 / 892 (thread    2) f\b\b\r",
      "STEP   423 / 892 (thread    1) f\b\b\r",
      "STEP   424 / 892 (thread    4) f\b\b\r",
      "STEP   425 / 892 (thread    0) f\b\b\r",
      "STEP   426 / 892 (thread    3) f\b\b\r",
      "STEP   427 / 892 (thread    5) f\b\b\r",
      "STEP   428 / 892 (thread    2) f\b\b\r",
      "STEP   429 / 892 (thread    1) f\b\b\r",
      "STEP   430 / 892 (thread    4) f\b\b\r",
      "STEP   431 / 892 (thread    0) f\b\b\r",
      "STEP   432 / 892 (thread    3) f\b\b\r",
      "STEP   433 / 892 (thread    4) f\b\b\r",
      "STEP   434 / 892 (thread    0) f\b\b\r",
      "STEP   435 / 892 (thread    5) f\b\b\r",
      "STEP   436 / 892 (thread    1) f\b\b\r",
      "STEP   437 / 892 (thread    3) f\b\b\r",
      "STEP   438 / 892 (thread    2) f\b\b\r",
      "STEP   439 / 892 (thread    4) f\b\b\r",
      "STEP   440 / 892 (thread    0) f\b\b\r",
      "STEP   441 / 892 (thread    3) f\b\b\r",
      "STEP   442 / 892 (thread    5) f\b\b\r",
      "STEP   443 / 892 (thread    1) f\b\b\r",
      "STEP   444 / 892 (thread    2) f\b\b\r",
      "STEP   445 / 892 (thread    0) f\b\b\r",
      "STEP   446 / 892 (thread    4) f\b\b\r",
      "STEP   447 / 892 (thread    3) f\b\b\r",
      "STEP   448 / 892 (thread    2) f\b\b\r",
      "STEP   449 / 892 (thread    1) f\b\b\r",
      "STEP   450 / 892 (thread    5) f\b\b\r",
      "STEP   451 / 892 (thread    4) f\b\b\r",
      "STEP   452 / 892 (thread    0) f\b\b\r",
      "STEP   453 / 892 (thread    1) f\b\b\r",
      "STEP   454 / 892 (thread    3) f\b\b\r",
      "STEP   455 / 892 (thread    2) f\b\b\r",
      "STEP   456 / 892 (thread    5) f\b\b\r",
      "STEP   457 / 892 (thread    4) f\b\b\r",
      "STEP   458 / 892 (thread    0) f\b\b\r",
      "STEP   459 / 892 (thread    3) f\b\b\r",
      "STEP   460 / 892 (thread    2) f\b\b\r",
      "STEP   461 / 892 (thread    1) f\b\b\r",
      "STEP   462 / 892 (thread    4) f\b\b\r",
      "STEP   463 / 892 (thread    0) f\b\b\r",
      "STEP   465 / 892 (thread    5) f\b\b\r",
      "STEP   466 / 892 (thread    1) f\b\b\r",
      "STEP   467 / 892 (thread    5) f\b\b\r",
      "STEP   468 / 892 (thread    0) f\b\b\r",
      "STEP   469 / 892 (thread    3) f\b\b\r",
      "STEP   470 / 892 (thread    1) f\b\b\r",
      "STEP   471 / 892 (thread    4) f\b\b\r",
      "STEP   464 / 892 (thread    2) f\b\b\r",
      "STEP   472 / 892 (thread    5) f\b\b\r",
      "STEP   473 / 892 (thread    3) f\b\b\r",
      "STEP   475 / 892 (thread    1) f\b\b\r",
      "STEP   476 / 892 (thread    5) f\b\b\r",
      "STEP   477 / 892 (thread    2) f\b\b\r",
      "STEP   478 / 892 (thread    1) f\b\b\r",
      "STEP   479 / 892 (thread    4) f\b\b\r",
      "STEP   474 / 892 (thread    0) f\b\b\r",
      "STEP   481 / 892 (thread    5) f\b\b\r",
      "STEP   480 / 892 (thread    3) f\b\b\r",
      "STEP   482 / 892 (thread    1) f\b\b\r",
      "STEP   483 / 892 (thread    4) f\b\b\r",
      "STEP   484 / 892 (thread    2) f\b\b\r",
      "STEP   485 / 892 (thread    0) f\b\b\r",
      "STEP   486 / 892 (thread    5) f\b\b\r",
      "STEP   488 / 892 (thread    3) f\b\b\r",
      "STEP   489 / 892 (thread    4) f\b\b\r",
      "STEP   490 / 892 (thread    0) f\b\b\r",
      "STEP   487 / 892 (thread    2) f\b\b\r",
      "STEP   491 / 892 (thread    1) f\b\b\r",
      "STEP   492 / 892 (thread    5) f\b\b\r",
      "STEP   493 / 892 (thread    1) f\b\b\r",
      "STEP   495 / 892 (thread    0) f\b\b\r",
      "STEP   496 / 892 (thread    2) f\b\b\r",
      "STEP   497 / 892 (thread    3) f\b\b\r",
      "STEP   494 / 892 (thread    4) f\b\b\r",
      "STEP   498 / 892 (thread    5) f\b\b\r",
      "STEP   499 / 892 (thread    1) f\b\b\r",
      "STEP   500 / 892 (thread    0) f\b\b\r",
      "STEP   501 / 892 (thread    2) f\b\b\r",
      "STEP   601 / 892 (thread    4) f\b\b\r",
      "STEP   701 / 892 (thread    0) f\b\b\n",
      "Reallocating..done. *alloclen = 1862\n"
     ]
    },
    {
     "name": "stderr",
     "output_type": "stream",
     "text": [
      "\r",
      "STEP   801 / 892 (thread    2) f\b\b\n",
      "done.\n",
      "\n",
      "Making a distance matrix from msa.. \n",
      "\r",
      "    0 / 893 (thread    0)\r",
      "  100 / 893 (thread    1)\r",
      "  200 / 893 (thread    3)\r",
      "  300 / 893 (thread    4)\r",
      "  400 / 893 (thread    1)\r",
      "  500 / 893 (thread    2)\r",
      "  600 / 893 (thread    0)\r",
      "  700 / 893 (thread    1)\r",
      "  800 / 893 (thread    5)\n",
      "done.\n",
      "\n",
      "Constructing a UPGMA tree (efffree=1) ... \n",
      "\r",
      "    0 / 893\r",
      "   10 / 893\r",
      "   20 / 893\r",
      "   30 / 893\r",
      "   40 / 893\r",
      "   50 / 893\r",
      "   60 / 893\r",
      "   70 / 893\r",
      "   80 / 893\r",
      "   90 / 893\r",
      "  100 / 893\r",
      "  110 / 893\r",
      "  120 / 893\r",
      "  130 / 893\r",
      "  140 / 893\r",
      "  150 / 893\r",
      "  160 / 893\r",
      "  170 / 893\r",
      "  180 / 893\r",
      "  190 / 893\r",
      "  200 / 893\r",
      "  210 / 893\r",
      "  220 / 893\r",
      "  230 / 893\r",
      "  240 / 893\r",
      "  250 / 893\r",
      "  260 / 893\r",
      "  270 / 893\r",
      "  280 / 893\r",
      "  290 / 893\r",
      "  300 / 893\r",
      "  310 / 893\r",
      "  320 / 893\r",
      "  330 / 893\r",
      "  340 / 893\r",
      "  350 / 893\r",
      "  360 / 893\r",
      "  370 / 893\r",
      "  380 / 893\r",
      "  390 / 893\r",
      "  400 / 893\r",
      "  410 / 893\r",
      "  420 / 893\r",
      "  430 / 893\r",
      "  440 / 893\r",
      "  450 / 893\r",
      "  460 / 893\r",
      "  470 / 893\r",
      "  480 / 893\r",
      "  490 / 893\r",
      "  500 / 893\r",
      "  510 / 893\r",
      "  520 / 893\r",
      "  530 / 893\r",
      "  540 / 893\r",
      "  550 / 893\r",
      "  560 / 893\r",
      "  570 / 893\r",
      "  580 / 893\r",
      "  590 / 893\r",
      "  600 / 893\r",
      "  610 / 893\r",
      "  620 / 893\r",
      "  630 / 893\r",
      "  640 / 893\r",
      "  650 / 893\r",
      "  660 / 893\r",
      "  670 / 893\r",
      "  680 / 893\r",
      "  690 / 893\r",
      "  700 / 893\r",
      "  710 / 893\r",
      "  720 / 893\r",
      "  730 / 893\r",
      "  740 / 893\r",
      "  750 / 893\r",
      "  760 / 893\r",
      "  770 / 893\r",
      "  780 / 893\r",
      "  790 / 893\r",
      "  800 / 893\r",
      "  810 / 893\r",
      "  820 / 893\r",
      "  830 / 893\r",
      "  840 / 893\r",
      "  850 / 893\r",
      "  860 / 893\r",
      "  870 / 893\r",
      "  880 / 893\r",
      "  890 / 893\n",
      "done.\n",
      "\n",
      "Progressive alignment 2/2... \n",
      "\r",
      "STEP     1 / 892 (thread    0) f\b\b\r",
      "STEP     2 / 892 (thread    1) f\b\b\r",
      "STEP     3 / 892 (thread    2) f\b\b\r",
      "STEP     4 / 892 (thread    3) f\b\b\r",
      "STEP     5 / 892 (thread    4) f\b\b\r",
      "STEP     6 / 892 (thread    5) f\b\b\r",
      "STEP     7 / 892 (thread    2) f\b\b\r",
      "STEP     8 / 892 (thread    5) f\b\b\r",
      "STEP     9 / 892 (thread    1) f\b\b\r",
      "STEP    10 / 892 (thread    0) f\b\b\r",
      "STEP    11 / 892 (thread    3) f\b\b\r",
      "STEP    12 / 892 (thread    4) f\b\b\r",
      "STEP    13 / 892 (thread    2) f\b\b\r",
      "STEP    14 / 892 (thread    5) f\b\b\r",
      "STEP    15 / 892 (thread    1) f\b\b\r",
      "STEP    16 / 892 (thread    0) f\b\b\r",
      "STEP    17 / 892 (thread    3) f\b\b\r",
      "STEP    18 / 892 (thread    4) f\b\b\r",
      "STEP    19 / 892 (thread    2) f\b\b\r",
      "STEP    20 / 892 (thread    5) f\b\b\r",
      "STEP    21 / 892 (thread    1) f\b\b\r",
      "STEP    22 / 892 (thread    0) f\b\b\r",
      "STEP    23 / 892 (thread    3) f\b\b\r",
      "STEP    24 / 892 (thread    4) f\b\b\r",
      "STEP    25 / 892 (thread    2) f\b\b\r",
      "STEP    26 / 892 (thread    5) f\b\b\r",
      "STEP    27 / 892 (thread    1) f\b\b\r",
      "STEP    28 / 892 (thread    0) f\b\b\r",
      "STEP    29 / 892 (thread    3) f\b\b\r",
      "STEP    30 / 892 (thread    4) f\b\b\r",
      "STEP    31 / 892 (thread    2) f\b\b\r",
      "STEP    32 / 892 (thread    5) f\b\b\r",
      "STEP    33 / 892 (thread    1) f\b\b\r",
      "STEP    34 / 892 (thread    0) f\b\b\r",
      "STEP    35 / 892 (thread    3) f\b\b\r",
      "STEP    36 / 892 (thread    4) f\b\b\r",
      "STEP    37 / 892 (thread    2) f\b\b\r",
      "STEP    38 / 892 (thread    5) f\b\b\r",
      "STEP    39 / 892 (thread    1) f\b\b\r",
      "STEP    40 / 892 (thread    0) f\b\b\r",
      "STEP    41 / 892 (thread    3) f\b\b\r",
      "STEP    42 / 892 (thread    4) f\b\b\r",
      "STEP    43 / 892 (thread    2) f\b\b\r",
      "STEP    44 / 892 (thread    5) f\b\b\r",
      "STEP    45 / 892 (thread    1) f\b\b\r",
      "STEP    46 / 892 (thread    0) f\b\b\r",
      "STEP    47 / 892 (thread    3) f\b\b\r",
      "STEP    48 / 892 (thread    4) f\b\b\r",
      "STEP    49 / 892 (thread    2) f\b\b\r",
      "STEP    50 / 892 (thread    5) f\b\b\r",
      "STEP    51 / 892 (thread    0) f\b\b\r",
      "STEP    52 / 892 (thread    1) f\b\b\r",
      "STEP    53 / 892 (thread    3) f\b\b\r",
      "STEP    54 / 892 (thread    4) f\b\b\r",
      "STEP    55 / 892 (thread    2) f\b\b\r",
      "STEP    56 / 892 (thread    5) f\b\b\r",
      "STEP    57 / 892 (thread    0) f\b\b\r",
      "STEP    58 / 892 (thread    1) f\b\b\r",
      "STEP    59 / 892 (thread    3) f\b\b\r",
      "STEP    60 / 892 (thread    4) f\b\b\r",
      "STEP    61 / 892 (thread    2) f\b\b\r",
      "STEP    62 / 892 (thread    5) f\b\b\r",
      "STEP    63 / 892 (thread    0) f\b\b\r",
      "STEP    64 / 892 (thread    1) f\b\b\r",
      "STEP    65 / 892 (thread    3) f\b\b\r",
      "STEP    66 / 892 (thread    4) f\b\b\r",
      "STEP    67 / 892 (thread    2) f\b\b\r",
      "STEP    68 / 892 (thread    5) f\b\b\r",
      "STEP    69 / 892 (thread    0) f\b\b\r",
      "STEP    70 / 892 (thread    1) f\b\b\r",
      "STEP    71 / 892 (thread    4) f\b\b\r",
      "STEP    76 / 892 (thread    1) f\b\b\r",
      "STEP    72 / 892 (thread    3) f\b\b\r",
      "STEP    77 / 892 (thread    4) f\b\b\r",
      "STEP    73 / 892 (thread    2) f\b\b\r",
      "STEP    78 / 892 (thread    1) f\b\b\r",
      "STEP    79 / 892 (thread    4) f\b\b\r",
      "STEP    80 / 892 (thread    1) f\b\b\r",
      "STEP    74 / 892 (thread    5) f\b\b\r",
      "STEP    81 / 892 (thread    3) f\b\b\r",
      "STEP    82 / 892 (thread    4) f\b\b\r",
      "STEP    83 / 892 (thread    2) f\b\b\r",
      "STEP    75 / 892 (thread    0) f\b\b\r",
      "STEP    84 / 892 (thread    1) f\b\b\r",
      "STEP    85 / 892 (thread    3) f\b\b\r",
      "STEP    86 / 892 (thread    4) f\b\b\r",
      "STEP    87 / 892 (thread    2) f\b\b\r",
      "STEP    88 / 892 (thread    1) f\b\b\r",
      "STEP    89 / 892 (thread    5) f\b\b\r",
      "STEP    90 / 892 (thread    2) f\b\b\r",
      "STEP    91 / 892 (thread    0) f\b\b\r",
      "STEP    92 / 892 (thread    1) f\b\b\r",
      "STEP    93 / 892 (thread    5) f\b\b\r",
      "STEP    94 / 892 (thread    3) f\b\b\r",
      "STEP    95 / 892 (thread    2) f\b\b\r",
      "STEP    96 / 892 (thread    1) f\b\b\r",
      "STEP    97 / 892 (thread    4) f\b\b\r",
      "STEP    98 / 892 (thread    5) f\b\b\r",
      "STEP    99 / 892 (thread    3) f\b\b\r",
      "STEP   100 / 892 (thread    2) f\b\b\r",
      "STEP   101 / 892 (thread    1) f\b\b\r",
      "STEP   102 / 892 (thread    4) f\b\b\r",
      "STEP   103 / 892 (thread    0) f\b\b\r",
      "STEP   104 / 892 (thread    5) f\b\b\r",
      "STEP   105 / 892 (thread    3) f\b\b\r",
      "STEP   106 / 892 (thread    2) f\b\b\r",
      "STEP   107 / 892 (thread    1) f\b\b\r",
      "STEP   108 / 892 (thread    4) f\b\b\r",
      "STEP   109 / 892 (thread    0) f\b\b\r",
      "STEP   110 / 892 (thread    5) f\b\b\r",
      "STEP   111 / 892 (thread    2) f\b\b\r",
      "STEP   112 / 892 (thread    1) f\b\b\r",
      "STEP   113 / 892 (thread    4) f\b\b\r",
      "STEP   114 / 892 (thread    0) f\b\b\r",
      "STEP   115 / 892 (thread    5) f\b\b\r",
      "STEP   116 / 892 (thread    3) f\b\b\r",
      "STEP   117 / 892 (thread    2) f\b\b\r",
      "STEP   118 / 892 (thread    1) f\b\b\r",
      "STEP   119 / 892 (thread    4) f\b\b\r",
      "STEP   120 / 892 (thread    5) f\b\b\r",
      "STEP   121 / 892 (thread    3) f\b\b\r",
      "STEP   122 / 892 (thread    0) f\b\b\r",
      "STEP   123 / 892 (thread    2) f\b\b\r",
      "STEP   124 / 892 (thread    1) f\b\b\r",
      "STEP   125 / 892 (thread    4) f\b\b\r",
      "STEP   126 / 892 (thread    5) f\b\b\r",
      "STEP   127 / 892 (thread    3) f\b\b\r",
      "STEP   128 / 892 (thread    0) f\b\b\r",
      "STEP   129 / 892 (thread    1) f\b\b\r",
      "STEP   130 / 892 (thread    4) f\b\b\r",
      "STEP   132 / 892 (thread    5) f\b\b\r",
      "STEP   131 / 892 (thread    2) f\b\b\r",
      "STEP   134 / 892 (thread    0) f\b\b\r",
      "STEP   135 / 892 (thread    1) f\b\b\r",
      "STEP   133 / 892 (thread    3) f\b\b\r",
      "STEP   137 / 892 (thread    5) f\b\b\r",
      "STEP   138 / 892 (thread    2) f\b\b\r",
      "STEP   139 / 892 (thread    0) f\b\b\r",
      "STEP   140 / 892 (thread    5) f\b\b\r",
      "STEP   141 / 892 (thread    2) f\b\b\r",
      "STEP   142 / 892 (thread    1) f\b\b\r",
      "STEP   143 / 892 (thread    0) f\b\b\r",
      "STEP   144 / 892 (thread    3) f\b\b\r",
      "STEP   136 / 892 (thread    4) f\b\b\r",
      "STEP   145 / 892 (thread    2) f\b\b\r",
      "STEP   146 / 892 (thread    5) f\b\b\r",
      "STEP   147 / 892 (thread    2) f\b\b\r",
      "STEP   148 / 892 (thread    1) f\b\b\r",
      "STEP   149 / 892 (thread    4) f\b\b\r",
      "STEP   150 / 892 (thread    3) f\b\b\r",
      "STEP   151 / 892 (thread    0) f\b\b\r",
      "STEP   152 / 892 (thread    5) f\b\b\r",
      "STEP   153 / 892 (thread    2) f\b\b\r",
      "STEP   154 / 892 (thread    1) f\b\b\r",
      "STEP   155 / 892 (thread    4) f\b\b\r",
      "STEP   156 / 892 (thread    3) f\b\b\r",
      "STEP   157 / 892 (thread    0) f\b\b\r",
      "STEP   158 / 892 (thread    5) f\b\b\r",
      "STEP   159 / 892 (thread    2) f\b\b\r",
      "STEP   160 / 892 (thread    1) f\b\b\r",
      "STEP   161 / 892 (thread    4) f\b\b\r",
      "STEP   162 / 892 (thread    3) f\b\b\r",
      "STEP   163 / 892 (thread    0) f\b\b\r",
      "STEP   164 / 892 (thread    5) f\b\b\r",
      "STEP   165 / 892 (thread    2) f\b\b\r",
      "STEP   166 / 892 (thread    1) f\b\b\r",
      "STEP   167 / 892 (thread    2) f\b\b\r",
      "STEP   168 / 892 (thread    1) f\b\b\r",
      "STEP   169 / 892 (thread    0) f\b\b\r",
      "STEP   170 / 892 (thread    4) f\b\b\r",
      "STEP   171 / 892 (thread    3) f\b\b\r",
      "STEP   172 / 892 (thread    5) f\b\b\r",
      "STEP   173 / 892 (thread    1) f\b\b\r",
      "STEP   174 / 892 (thread    0) f\b\b\r",
      "STEP   175 / 892 (thread    4) f\b\b\r",
      "STEP   176 / 892 (thread    3) f\b\b\r",
      "STEP   177 / 892 (thread    5) f\b\b\r",
      "STEP   178 / 892 (thread    2) f\b\b\r",
      "STEP   179 / 892 (thread    1) f\b\b\r",
      "STEP   180 / 892 (thread    4) f\b\b\r",
      "STEP   181 / 892 (thread    3) f\b\b\r",
      "STEP   182 / 892 (thread    5) f\b\b\r",
      "STEP   183 / 892 (thread    1) f\b\b\r",
      "STEP   184 / 892 (thread    4) f\b\b\r",
      "STEP   185 / 892 (thread    3) f\b\b\r",
      "STEP   186 / 892 (thread    0) f\b\b\r",
      "STEP   187 / 892 (thread    5) f\b\b\r",
      "STEP   188 / 892 (thread    1) f\b\b\r",
      "STEP   189 / 892 (thread    2) f\b\b\r",
      "STEP   190 / 892 (thread    4) f\b\b\r",
      "STEP   191 / 892 (thread    3) f\b\b\r",
      "STEP   192 / 892 (thread    0) f\b\b\r",
      "STEP   193 / 892 (thread    1) f\b\b\r",
      "STEP   194 / 892 (thread    5) f\b\b\r",
      "STEP   195 / 892 (thread    2) f\b\b\r",
      "STEP   197 / 892 (thread    3) f\b\b\r",
      "STEP   196 / 892 (thread    4) f\b\b\r",
      "STEP   198 / 892 (thread    0) f\b\b\r",
      "STEP   199 / 892 (thread    1) f\b\b\r",
      "STEP   200 / 892 (thread    5) f\b\b\r",
      "STEP   201 / 892 (thread    1) f\b\b\r",
      "STEP   202 / 892 (thread    2) f\b\b\r",
      "STEP   203 / 892 (thread    3) f\b\b\r",
      "STEP   204 / 892 (thread    4) f\b\b\r",
      "STEP   205 / 892 (thread    0) f\b\b\r",
      "STEP   206 / 892 (thread    5) f\b\b\r",
      "STEP   207 / 892 (thread    2) f\b\b\r",
      "STEP   208 / 892 (thread    3) f\b\b\r",
      "STEP   209 / 892 (thread    4) f\b\b\r",
      "STEP   210 / 892 (thread    0) f\b\b\r",
      "STEP   211 / 892 (thread    2) f\b\b\r",
      "STEP   212 / 892 (thread    1) f\b\b\r",
      "STEP   213 / 892 (thread    3) f\b\b\r",
      "STEP   214 / 892 (thread    0) f\b\b\r",
      "STEP   215 / 892 (thread    5) f\b\b\r",
      "STEP   216 / 892 (thread    2) f\b\b\r",
      "STEP   217 / 892 (thread    1) f\b\b\r",
      "STEP   219 / 892 (thread    3) f\b\b\r",
      "STEP   220 / 892 (thread    0) f\b\b\r",
      "STEP   218 / 892 (thread    4) f\b\b\r",
      "STEP   221 / 892 (thread    5) f\b\b\r",
      "STEP   222 / 892 (thread    2) f\b\b\r",
      "STEP   223 / 892 (thread    1) f\b\b\r",
      "STEP   224 / 892 (thread    3) f\b\b\r",
      "STEP   225 / 892 (thread    2) f\b\b\r",
      "STEP   226 / 892 (thread    0) f\b\b\r",
      "STEP   227 / 892 (thread    3) f\b\b\r",
      "STEP   228 / 892 (thread    5) f\b\b\r",
      "STEP   229 / 892 (thread    4) f\b\b\r",
      "STEP   230 / 892 (thread    2) f\b\b\r",
      "STEP   231 / 892 (thread    0) f\b\b\r",
      "STEP   232 / 892 (thread    3) f\b\b\r",
      "STEP   233 / 892 (thread    1) f\b\b\r",
      "STEP   234 / 892 (thread    2) f\b\b\r",
      "STEP   235 / 892 (thread    0) f\b\b\r",
      "STEP   236 / 892 (thread    3) f\b\b\r",
      "STEP   237 / 892 (thread    5) f\b\b\r",
      "STEP   238 / 892 (thread    4) f\b\b\r",
      "STEP   239 / 892 (thread    1) f\b\b\r",
      "STEP   240 / 892 (thread    2) f\b\b\r",
      "STEP   241 / 892 (thread    0) f\b\b\r",
      "STEP   242 / 892 (thread    3) f\b\b\r",
      "STEP   243 / 892 (thread    5) f\b\b\r",
      "STEP   244 / 892 (thread    4) f\b\b\r",
      "STEP   245 / 892 (thread    1) f\b\b\r",
      "STEP   246 / 892 (thread    4) f\b\b\r",
      "STEP   247 / 892 (thread    2) f\b\b\r",
      "STEP   248 / 892 (thread    0) f\b\b\r",
      "STEP   249 / 892 (thread    3) f\b\b\r",
      "STEP   250 / 892 (thread    5) f\b\b\r",
      "STEP   251 / 892 (thread    0) f\b\b\r",
      "STEP   252 / 892 (thread    3) f\b\b\r",
      "STEP   253 / 892 (thread    5) f\b\b\r",
      "STEP   255 / 892 (thread    4) f\b\b\r",
      "STEP   256 / 892 (thread    2) f\b\b\r",
      "STEP   254 / 892 (thread    1) f\b\b\r",
      "STEP   258 / 892 (thread    3) f\b\b\r",
      "STEP   259 / 892 (thread    5) f\b\b\r",
      "STEP   260 / 892 (thread    3) f\b\b\r",
      "STEP   261 / 892 (thread    4) f\b\b\r",
      "STEP   262 / 892 (thread    2) f\b\b\r",
      "STEP   263 / 892 (thread    1) f\b\b\r",
      "STEP   257 / 892 (thread    0) f\b\b\r",
      "STEP   264 / 892 (thread    3) f\b\b\r",
      "STEP   265 / 892 (thread    5) f\b\b\r",
      "STEP   266 / 892 (thread    1) f\b\b\r",
      "STEP   267 / 892 (thread    4) f\b\b\r",
      "STEP   268 / 892 (thread    3) f\b\b\r",
      "STEP   269 / 892 (thread    5) f\b\b\r",
      "STEP   270 / 892 (thread    1) f\b\b\r",
      "STEP   271 / 892 (thread    4) f\b\b\r",
      "STEP   272 / 892 (thread    0) f\b\b\r",
      "STEP   273 / 892 (thread    2) f\b\b\r",
      "STEP   274 / 892 (thread    3) f\b\b\r",
      "STEP   275 / 892 (thread    5) f\b\b\r",
      "STEP   276 / 892 (thread    1) f\b\b\r",
      "STEP   277 / 892 (thread    0) f\b\b\r",
      "STEP   278 / 892 (thread    4) f\b\b\r",
      "STEP   279 / 892 (thread    2) f\b\b\r",
      "STEP   280 / 892 (thread    3) f\b\b\r",
      "STEP   281 / 892 (thread    5) f\b\b\r",
      "STEP   283 / 892 (thread    0) f\b\b\r",
      "STEP   285 / 892 (thread    2) f\b\b\r",
      "STEP   282 / 892 (thread    1) f\b\b\r",
      "STEP   286 / 892 (thread    3) f\b\b\r",
      "STEP   287 / 892 (thread    5) f\b\b\r",
      "STEP   284 / 892 (thread    4) f\b\b\r",
      "STEP   288 / 892 (thread    0) f\b\b\r",
      "STEP   289 / 892 (thread    5) f\b\b\r",
      "STEP   290 / 892 (thread    2) f\b\b\r",
      "STEP   291 / 892 (thread    1) f\b\b\r",
      "STEP   292 / 892 (thread    5) f\b\b\r",
      "STEP   293 / 892 (thread    3) f\b\b\r",
      "STEP   294 / 892 (thread    4) f\b\b\r",
      "STEP   295 / 892 (thread    0) f\b\b\r",
      "STEP   296 / 892 (thread    5) f\b\b\r",
      "STEP   297 / 892 (thread    1) f\b\b\r",
      "STEP   298 / 892 (thread    0) f\b\b\r",
      "STEP   299 / 892 (thread    2) f\b\b\r",
      "STEP   300 / 892 (thread    4) f\b\b\r",
      "STEP   301 / 892 (thread    3) f\b\b\r",
      "STEP   302 / 892 (thread    5) f\b\b\r",
      "STEP   303 / 892 (thread    1) f\b\b\r",
      "STEP   304 / 892 (thread    0) f\b\b\r",
      "STEP   305 / 892 (thread    2) f\b\b"
     ]
    },
    {
     "name": "stderr",
     "output_type": "stream",
     "text": [
      "\r",
      "STEP   307 / 892 (thread    5) f\b\b\r",
      "STEP   306 / 892 (thread    4) f\b\b\r",
      "STEP   308 / 892 (thread    1) f\b\b\r",
      "STEP   309 / 892 (thread    3) f\b\b\r",
      "STEP   310 / 892 (thread    2) f\b\b\r",
      "STEP   311 / 892 (thread    0) f\b\b\r",
      "STEP   312 / 892 (thread    4) f\b\b\r",
      "STEP   313 / 892 (thread    1) f\b\b\r",
      "STEP   315 / 892 (thread    5) f\b\b\r",
      "STEP   316 / 892 (thread    2) f\b\b\r",
      "STEP   317 / 892 (thread    3) f\b\b\r",
      "STEP   318 / 892 (thread    1) f\b\b\r",
      "STEP   314 / 892 (thread    0) f\b\b\r",
      "STEP   319 / 892 (thread    4) f\b\b\r",
      "STEP   320 / 892 (thread    1) f\b\b\r",
      "STEP   321 / 892 (thread    5) f\b\b\r",
      "STEP   322 / 892 (thread    3) f\b\b\r",
      "STEP   323 / 892 (thread    4) f\b\b\r",
      "STEP   324 / 892 (thread    2) f\b\b\r",
      "STEP   325 / 892 (thread    1) f\b\b\r",
      "STEP   326 / 892 (thread    3) f\b\b\r",
      "STEP   327 / 892 (thread    0) f\b\b\r",
      "STEP   328 / 892 (thread    4) f\b\b\r",
      "STEP   329 / 892 (thread    1) f\b\b\r",
      "STEP   330 / 892 (thread    3) f\b\b\r",
      "STEP   331 / 892 (thread    5) f\b\b\r",
      "STEP   332 / 892 (thread    2) f\b\b\r",
      "STEP   333 / 892 (thread    0) f\b\b\r",
      "STEP   334 / 892 (thread    4) f\b\b\r",
      "STEP   335 / 892 (thread    1) f\b\b\r",
      "STEP   336 / 892 (thread    3) f\b\b\r",
      "STEP   337 / 892 (thread    2) f\b\b\r",
      "STEP   338 / 892 (thread    0) f\b\b\r",
      "STEP   339 / 892 (thread    5) f\b\b\r",
      "STEP   340 / 892 (thread    4) f\b\b\r",
      "STEP   341 / 892 (thread    1) f\b\b\r",
      "STEP   342 / 892 (thread    3) f\b\b\r",
      "STEP   343 / 892 (thread    2) f\b\b\r",
      "STEP   344 / 892 (thread    5) f\b\b\r",
      "STEP   345 / 892 (thread    4) f\b\b\r",
      "STEP   346 / 892 (thread    1) f\b\b\r",
      "STEP   347 / 892 (thread    0) f\b\b\r",
      "STEP   348 / 892 (thread    3) f\b\b\r",
      "STEP   349 / 892 (thread    5) f\b\b\r",
      "STEP   350 / 892 (thread    4) f\b\b\r",
      "STEP   351 / 892 (thread    2) f\b\b\r",
      "STEP   352 / 892 (thread    1) f\b\b\r",
      "STEP   353 / 892 (thread    0) f\b\b\r",
      "STEP   354 / 892 (thread    3) f\b\b\r",
      "STEP   355 / 892 (thread    5) f\b\b\r",
      "STEP   356 / 892 (thread    4) f\b\b\r",
      "STEP   357 / 892 (thread    2) f\b\b\r",
      "STEP   358 / 892 (thread    5) f\b\b\r",
      "STEP   359 / 892 (thread    4) f\b\b\r",
      "STEP   360 / 892 (thread    1) f\b\b\r",
      "STEP   361 / 892 (thread    0) f\b\b\r",
      "STEP   362 / 892 (thread    3) f\b\b\r",
      "STEP   363 / 892 (thread    1) f\b\b\r",
      "STEP   364 / 892 (thread    0) f\b\b\r",
      "STEP   365 / 892 (thread    2) f\b\b\r",
      "STEP   366 / 892 (thread    3) f\b\b\r",
      "STEP   367 / 892 (thread    2) f\b\b\r",
      "STEP   368 / 892 (thread    5) f\b\b\r",
      "STEP   369 / 892 (thread    3) f\b\b\r",
      "STEP   370 / 892 (thread    4) f\b\b\r",
      "STEP   371 / 892 (thread    1) f\b\b\r",
      "STEP   372 / 892 (thread    0) f\b\b\r",
      "STEP   373 / 892 (thread    2) f\b\b\r",
      "STEP   374 / 892 (thread    5) f\b\b\r",
      "STEP   375 / 892 (thread    3) f\b\b\r",
      "STEP   376 / 892 (thread    4) f\b\b\r",
      "STEP   377 / 892 (thread    1) f\b\b\r",
      "STEP   378 / 892 (thread    0) f\b\b\r",
      "STEP   379 / 892 (thread    2) f\b\b\r",
      "STEP   380 / 892 (thread    4) f\b\b\r",
      "STEP   381 / 892 (thread    5) f\b\b\r",
      "STEP   382 / 892 (thread    2) f\b\b\r",
      "STEP   383 / 892 (thread    0) f\b\b\r",
      "STEP   384 / 892 (thread    3) f\b\b\r",
      "STEP   385 / 892 (thread    1) f\b\b\r",
      "STEP   386 / 892 (thread    2) f\b\b\r",
      "STEP   387 / 892 (thread    0) f\b\b\r",
      "STEP   388 / 892 (thread    5) f\b\b\r",
      "STEP   390 / 892 (thread    1) f\b\b\r",
      "STEP   389 / 892 (thread    4) f\b\b\r",
      "STEP   391 / 892 (thread    3) f\b\b\r",
      "STEP   393 / 892 (thread    2) f\b\b\r",
      "STEP   394 / 892 (thread    5) f\b\b\r",
      "STEP   392 / 892 (thread    0) f\b\b\r",
      "STEP   395 / 892 (thread    4) f\b\b\r",
      "STEP   396 / 892 (thread    1) f\b\b\r",
      "STEP   397 / 892 (thread    3) f\b\b\r",
      "STEP   398 / 892 (thread    2) f\b\b\r",
      "STEP   399 / 892 (thread    3) f\b\b\r",
      "STEP   400 / 892 (thread    0) f\b\b\r",
      "STEP   401 / 892 (thread    4) f\b\b\r",
      "STEP   402 / 892 (thread    5) f\b\b\r",
      "STEP   403 / 892 (thread    2) f\b\b\r",
      "STEP   404 / 892 (thread    3) f\b\b\r",
      "STEP   405 / 892 (thread    1) f\b\b\r",
      "STEP   406 / 892 (thread    0) f\b\b\r",
      "STEP   407 / 892 (thread    3) f\b\b\r",
      "STEP   408 / 892 (thread    4) f\b\b\r",
      "STEP   409 / 892 (thread    5) f\b\b\r",
      "STEP   410 / 892 (thread    2) f\b\b\r",
      "STEP   411 / 892 (thread    1) f\b\b\r",
      "STEP   412 / 892 (thread    0) f\b\b\r",
      "STEP   413 / 892 (thread    4) f\b\b\r",
      "STEP   414 / 892 (thread    5) f\b\b\r",
      "STEP   415 / 892 (thread    3) f\b\b\r",
      "STEP   416 / 892 (thread    1) f\b\b\r",
      "STEP   417 / 892 (thread    0) f\b\b\r",
      "STEP   418 / 892 (thread    2) f\b\b\r",
      "STEP   419 / 892 (thread    0) f\b\b\r",
      "STEP   420 / 892 (thread    4) f\b\b\r",
      "STEP   421 / 892 (thread    5) f\b\b\r",
      "STEP   422 / 892 (thread    3) f\b\b\r",
      "STEP   423 / 892 (thread    1) f\b\b\r",
      "STEP   424 / 892 (thread    2) f\b\b\r",
      "STEP   425 / 892 (thread    5) f\b\b\r",
      "STEP   426 / 892 (thread    4) f\b\b\r",
      "STEP   427 / 892 (thread    0) f\b\b\r",
      "STEP   428 / 892 (thread    3) f\b\b\r",
      "STEP   430 / 892 (thread    5) f\b\b\r",
      "STEP   429 / 892 (thread    1) f\b\b\r",
      "STEP   431 / 892 (thread    2) f\b\b\r",
      "STEP   432 / 892 (thread    4) f\b\b\r",
      "STEP   433 / 892 (thread    0) f\b\b\r",
      "STEP   434 / 892 (thread    3) f\b\b\r",
      "STEP   435 / 892 (thread    4) f\b\b\r",
      "STEP   436 / 892 (thread    5) f\b\b\r",
      "STEP   437 / 892 (thread    3) f\b\b\r",
      "STEP   438 / 892 (thread    1) f\b\b\r",
      "STEP   439 / 892 (thread    3) f\b\b\r",
      "STEP   440 / 892 (thread    1) f\b\b\r",
      "STEP   441 / 892 (thread    2) f\b\b\r",
      "STEP   442 / 892 (thread    0) f\b\b\r",
      "STEP   443 / 892 (thread    4) f\b\b\r",
      "STEP   444 / 892 (thread    5) f\b\b\r",
      "STEP   445 / 892 (thread    3) f\b\b\r",
      "STEP   446 / 892 (thread    2) f\b\b\r",
      "STEP   447 / 892 (thread    0) f\b\b\r",
      "STEP   448 / 892 (thread    4) f\b\b\r",
      "STEP   449 / 892 (thread    1) f\b\b\r",
      "STEP   450 / 892 (thread    4) f\b\b\r",
      "STEP   451 / 892 (thread    2) f\b\b\r",
      "STEP   452 / 892 (thread    5) f\b\b\r",
      "STEP   453 / 892 (thread    1) f\b\b\r",
      "STEP   454 / 892 (thread    0) f\b\b\r",
      "STEP   455 / 892 (thread    3) f\b\b\r",
      "STEP   456 / 892 (thread    5) f\b\b\r",
      "STEP   457 / 892 (thread    4) f\b\b\r",
      "STEP   458 / 892 (thread    2) f\b\b\r",
      "STEP   459 / 892 (thread    0) f\b\b\r",
      "STEP   460 / 892 (thread    1) f\b\b\r",
      "STEP   461 / 892 (thread    3) f\b\b\r",
      "STEP   462 / 892 (thread    5) f\b\b\r",
      "STEP   463 / 892 (thread    4) f\b\b\r",
      "STEP   464 / 892 (thread    2) f\b\b\r",
      "STEP   465 / 892 (thread    3) f\b\b\r",
      "STEP   466 / 892 (thread    1) f\b\b\r",
      "STEP   467 / 892 (thread    5) f\b\b\r",
      "STEP   468 / 892 (thread    0) f\b\b\r",
      "STEP   469 / 892 (thread    4) f\b\b\r",
      "STEP   470 / 892 (thread    2) f\b\b\r",
      "STEP   471 / 892 (thread    4) f\b\b\r",
      "STEP   472 / 892 (thread    1) f\b\b\r",
      "STEP   473 / 892 (thread    2) f\b\b\r",
      "STEP   474 / 892 (thread    5) f\b\b\r",
      "STEP   475 / 892 (thread    0) f\b\b\r",
      "STEP   476 / 892 (thread    2) f\b\b\r",
      "STEP   477 / 892 (thread    3) f\b\b\r",
      "STEP   478 / 892 (thread    5) f\b\b\r",
      "STEP   479 / 892 (thread    4) f\b\b\r",
      "STEP   480 / 892 (thread    1) f\b\b\r",
      "STEP   481 / 892 (thread    0) f\b\b\r",
      "STEP   482 / 892 (thread    2) f\b\b\r",
      "STEP   483 / 892 (thread    3) f\b\b\r",
      "STEP   484 / 892 (thread    5) f\b\b\r",
      "STEP   485 / 892 (thread    4) f\b\b\r",
      "STEP   486 / 892 (thread    3) f\b\b\r",
      "STEP   487 / 892 (thread    1) f\b\b\r",
      "STEP   488 / 892 (thread    0) f\b\b\r",
      "STEP   489 / 892 (thread    3) f\b\b\r",
      "STEP   490 / 892 (thread    5) f\b\b\r",
      "STEP   491 / 892 (thread    2) f\b\b\r",
      "STEP   492 / 892 (thread    4) f\b\b\r",
      "STEP   493 / 892 (thread    1) f\b\b\r",
      "STEP   494 / 892 (thread    0) f\b\b\r",
      "STEP   495 / 892 (thread    5) f\b\b\r",
      "STEP   496 / 892 (thread    3) f\b\b\r",
      "STEP   497 / 892 (thread    4) f\b\b\r",
      "STEP   498 / 892 (thread    1) f\b\b\r",
      "STEP   499 / 892 (thread    2) f\b\b\r",
      "STEP   500 / 892 (thread    0) f\b\b\r",
      "STEP   501 / 892 (thread    5) f\b\b\r",
      "STEP   601 / 892 (thread    0) f\b\b\r",
      "STEP   701 / 892 (thread    5) f\b\b\n",
      "Reallocating..done. *alloclen = 1864\n",
      "\r",
      "STEP   801 / 892 (thread    5) f\b\b\n",
      "done.\n",
      "\n",
      "disttbfast (nuc) Version 7.520\n",
      "alg=A, model=DNA200 (2), 1.53 (4.59), -0.00 (-0.00), noshift, amax=0.0\n",
      "6 thread(s)\n",
      "\n"
     ]
    },
    {
     "name": "stderr",
     "output_type": "stream",
     "text": [
      "\n",
      "Strategy:\n",
      " FFT-NS-2 (Fast but rough)\n",
      " Progressive method (guide trees were built 2 times.)\n",
      "\n",
      "If unsure which option to use, try 'mafft --auto input > output'.\n",
      "For more information, see 'mafft --help', 'mafft --man' and the mafft page.\n",
      "\n",
      "The default gap scoring scheme has been changed in version 7.110 (2013 Oct).\n",
      "It tends to insert more gaps into gap-rich regions than previous versions.\n",
      "To disable this change, add the --leavegappyregion option.\n",
      "\n"
     ]
    },
    {
     "name": "stdout",
     "output_type": "stream",
     "text": [
      "Running external command line application. This may print messages to stdout and/or stderr.\n",
      "The command being run is below. This command cannot be manually re-run as it will depend on temporary files that no longer exist.\n",
      "\n",
      "Command: FastTreeMP -quote -nt /tmp/qiime2/lauro/data/ef15e3f8-be45-4a44-9195-3ce9ebc4ef66/data/aligned-dna-sequences.fasta\n",
      "\n"
     ]
    },
    {
     "name": "stderr",
     "output_type": "stream",
     "text": [
      "FastTree Version 2.1.11 Double precision (No SSE3), OpenMP (6 threads)\n",
      "Alignment: /tmp/qiime2/lauro/data/ef15e3f8-be45-4a44-9195-3ce9ebc4ef66/data/aligned-dna-sequences.fasta\n",
      "Nucleotide distances: Jukes-Cantor Joins: balanced Support: SH-like 1000\n",
      "Search: Normal +NNI +SPR (2 rounds range 10) +ML-NNI opt-each=1\n",
      "TopHits: 1.00*sqrtN close=default refresh=0.80\n",
      "ML Model: Jukes-Cantor, CAT approximation with 20 rate categories\n",
      "      0.10 seconds: Joined    300 of    857\n"
     ]
    },
    {
     "name": "stderr",
     "output_type": "stream",
     "text": [
      "      0.21 seconds: Joined    600 of    857\n",
      "Initial topology in 0.28 seconds\n",
      "Refining topology: 39 rounds ME-NNIs, 2 rounds ME-SPRs, 19 rounds ML-NNIs\n",
      "      0.31 seconds: ME NNI round 2 of 39, 801 of 858 splits, 75 changes (max delta 0.020)\n"
     ]
    },
    {
     "name": "stderr",
     "output_type": "stream",
     "text": [
      "      0.43 seconds: SPR round   1 of   2, 301 of 1718 nodes\n",
      "      0.56 seconds: SPR round   1 of   2, 601 of 1718 nodes\n"
     ]
    },
    {
     "name": "stderr",
     "output_type": "stream",
     "text": [
      "      0.68 seconds: SPR round   1 of   2, 901 of 1718 nodes\n",
      "      0.78 seconds: SPR round   1 of   2, 1201 of 1718 nodes\n"
     ]
    },
    {
     "name": "stderr",
     "output_type": "stream",
     "text": [
      "      0.89 seconds: SPR round   1 of   2, 1501 of 1718 nodes\n",
      "      0.99 seconds: SPR round   2 of   2, 1 of 1718 nodes\n"
     ]
    },
    {
     "name": "stderr",
     "output_type": "stream",
     "text": [
      "      1.11 seconds: SPR round   2 of   2, 401 of 1718 nodes\n",
      "      1.21 seconds: SPR round   2 of   2, 701 of 1718 nodes\n"
     ]
    },
    {
     "name": "stderr",
     "output_type": "stream",
     "text": [
      "      1.33 seconds: SPR round   2 of   2, 1001 of 1718 nodes\n",
      "      1.45 seconds: SPR round   2 of   2, 1301 of 1718 nodes\n"
     ]
    },
    {
     "name": "stderr",
     "output_type": "stream",
     "text": [
      "      1.55 seconds: SPR round   2 of   2, 1601 of 1718 nodes\n",
      "Total branch-length 19.306 after 1.66 sec\n",
      "      1.66 seconds: ML Lengths 1 of 858 splits\n"
     ]
    },
    {
     "name": "stderr",
     "output_type": "stream",
     "text": [
      "      1.77 seconds: ML Lengths 701 of 858 splits\n",
      "      1.89 seconds: ML NNI round 1 of 19, 401 of 858 splits, 66 changes (max delta 9.848)\n"
     ]
    },
    {
     "name": "stderr",
     "output_type": "stream",
     "text": [
      "      1.99 seconds: ML NNI round 1 of 19, 801 of 858 splits, 128 changes (max delta 11.261)\n",
      "ML-NNI round 1: LogLk = -50510.514 NNIs 133 max delta 11.26 Time 2.01\n",
      "      2.10 seconds: Site likelihoods with rate category 17 of 20\n",
      "Switched to using 20 rate categories (CAT approximation)\n",
      "Rate categories were divided by 1.100 so that average rate = 1.0\n",
      "CAT-based log-likelihoods may not be comparable across runs\n",
      "Use -gamma for approximate but comparable Gamma(20) log-likelihoods\n"
     ]
    },
    {
     "name": "stderr",
     "output_type": "stream",
     "text": [
      "      2.22 seconds: ML NNI round 2 of 19, 401 of 858 splits, 40 changes (max delta 3.612)\n",
      "      2.33 seconds: ML NNI round 2 of 19, 801 of 858 splits, 84 changes (max delta 6.483)\n",
      "ML-NNI round 2: LogLk = -42174.676 NNIs 92 max delta 6.48 Time 2.35\n"
     ]
    },
    {
     "name": "stderr",
     "output_type": "stream",
     "text": [
      "      2.45 seconds: ML NNI round 3 of 19, 401 of 858 splits, 24 changes (max delta 13.206)\n",
      "ML-NNI round 3: LogLk = -42133.149 NNIs 31 max delta 13.21 Time 2.50\n",
      "      2.58 seconds: ML NNI round 4 of 19, 301 of 858 splits, 6 changes (max delta 1.547)\n",
      "ML-NNI round 4: LogLk = -42128.651 NNIs 6 max delta 1.55 Time 2.60\n",
      "ML-NNI round 5: LogLk = -42126.421 NNIs 2 max delta 1.56 Time 2.63\n",
      "ML-NNI round 6: LogLk = -42126.153 NNIs 1 max delta 0.00 Time 2.65\n",
      "Turning off heuristics for final round of ML NNIs (converged)\n"
     ]
    },
    {
     "name": "stderr",
     "output_type": "stream",
     "text": [
      "      2.69 seconds: ML NNI round 7 of 19, 201 of 858 splits, 2 changes (max delta 0.000)\n",
      "      2.80 seconds: ML NNI round 7 of 19, 601 of 858 splits, 8 changes (max delta 1.966)\n",
      "ML-NNI round 7: LogLk = -42117.102 NNIs 8 max delta 1.97 Time 2.87 (final)\n"
     ]
    },
    {
     "name": "stderr",
     "output_type": "stream",
     "text": [
      "      2.90 seconds: ML Lengths 301 of 858 splits\n",
      "Optimize all lengths: LogLk = -42116.315 Time 2.97\n",
      "      3.04 seconds: ML split tests for    100 of    857 internal splits\n"
     ]
    },
    {
     "name": "stderr",
     "output_type": "stream",
     "text": [
      "      3.17 seconds: ML split tests for    300 of    857 internal splits\n",
      "      3.31 seconds: ML split tests for    500 of    857 internal splits\n"
     ]
    },
    {
     "name": "stderr",
     "output_type": "stream",
     "text": [
      "      3.44 seconds: ML split tests for    700 of    857 internal splits\n",
      "Total time: 3.55 seconds Unique: 860/893 Bad splits: 0/857\n"
     ]
    }
   ],
   "source": [
    "mafft_alignment, mafft_masked_alignment, mafft_tree, mafft_rooted_tree = align_to_tree_mafft_fasttree(\n",
    "    sequences=reps, n_threads=6, )"
   ]
  },
  {
   "cell_type": "markdown",
   "id": "0768d598",
   "metadata": {
    "papermill": {
     "duration": 0.004143,
     "end_time": "2024-03-05T23:34:49.809620",
     "exception": false,
     "start_time": "2024-03-05T23:34:49.805477",
     "status": "completed"
    },
    "tags": []
   },
   "source": [
    "### Compute Alpha Diversity (Phylogeny)\n",
    "- [diversity alpha_phylogenetic](https://docs.qiime2.org/2022.8/plugins/available/diversity/alpha-phylogenetic/): Computes a user-specified phylogenetic alpha diversity metric for all samples in a feature table.\n",
    "- Metrics: Choices ('faith_pd')"
   ]
  },
  {
   "cell_type": "code",
   "execution_count": 11,
   "id": "0383aa19",
   "metadata": {
    "ExecuteTime": {
     "end_time": "2022-09-29T20:54:35.310009Z",
     "start_time": "2022-09-29T20:54:35.141333Z"
    },
    "execution": {
     "iopub.execute_input": "2024-03-05T23:34:49.818954Z",
     "iopub.status.busy": "2024-03-05T23:34:49.818753Z",
     "iopub.status.idle": "2024-03-05T23:34:49.917840Z",
     "shell.execute_reply": "2024-03-05T23:34:49.917339Z"
    },
    "papermill": {
     "duration": 0.105131,
     "end_time": "2024-03-05T23:34:49.918907",
     "exception": false,
     "start_time": "2024-03-05T23:34:49.813776",
     "status": "completed"
    },
    "tags": []
   },
   "outputs": [
    {
     "name": "stdout",
     "output_type": "stream",
     "text": [
      "Calculating alpha diversity: faith_pd\n",
      "Running external command line application. This may print messages to stdout and/or stderr.\n",
      "The command being run is below. This command cannot be manually re-run as it will depend on temporary files that no longer exist.\n",
      "\n",
      "Command:\n",
      "\n",
      "faithpd -i /tmp/qiime2/lauro/data/d2f3949a-10ab-47bb-b491-40cc14360ffb/data/feature-table.biom -t /tmp/qiime2/lauro/data/f7f7fb4e-1218-4e6a-919b-00836cc36066/data/tree.nwk -o /tmp/q2-AlphaDiversityFormat-4vfxy66z\n",
      "\n",
      "DONE: Calculating alpha phylogeny: faith_pd\n"
     ]
    }
   ],
   "source": [
    "metrics = ('faith_pd', )\n",
    "alpha_diversities_phylogenetic = dict()\n",
    "for metric in metrics:\n",
    "    print(f\"Calculating alpha diversity: {metric}\")\n",
    "    try:\n",
    "        alpha_diversity = alpha_phylogenetic(table=tabs, phylogeny=mafft_rooted_tree, metric=metric).alpha_diversity\n",
    "        alpha_diversities_phylogenetic[metric] = alpha_diversity\n",
    "        # Save Artifact\n",
    "        file_path = os.path.join(alpha_path, f'alpha-phylogeny-{metric}.qza')\n",
    "        alpha_diversity.save(file_path)\n",
    "        print(f\"DONE: Calculating alpha phylogeny: {metric}\")\n",
    "    except Exception as e:\n",
    "        print(f\"ERROR: Calculating alpha phylogeny: {metric}\")"
   ]
  },
  {
   "cell_type": "markdown",
   "id": "42db1ead",
   "metadata": {
    "papermill": {
     "duration": 0.004258,
     "end_time": "2024-03-05T23:34:49.927733",
     "exception": false,
     "start_time": "2024-03-05T23:34:49.923475",
     "status": "completed"
    },
    "tags": []
   },
   "source": [
    "- [core-metrics-phylogenetic](https://docs.qiime2.org/2023.7/plugins/available/diversity/core-metrics-phylogenetic/)"
   ]
  },
  {
   "cell_type": "code",
   "execution_count": 12,
   "id": "ef726ab7",
   "metadata": {
    "execution": {
     "iopub.execute_input": "2024-03-05T23:34:49.937124Z",
     "iopub.status.busy": "2024-03-05T23:34:49.936923Z",
     "iopub.status.idle": "2024-03-05T23:34:51.716329Z",
     "shell.execute_reply": "2024-03-05T23:34:51.715823Z"
    },
    "papermill": {
     "duration": 1.785565,
     "end_time": "2024-03-05T23:34:51.717486",
     "exception": false,
     "start_time": "2024-03-05T23:34:49.931921",
     "status": "completed"
    },
    "tags": []
   },
   "outputs": [
    {
     "name": "stderr",
     "output_type": "stream",
     "text": [
      "/home/lauro/anaconda3/envs/qiime2-2023.5/lib/python3.8/site-packages/sklearn/metrics/pairwise.py:1761: DataConversionWarning: Data was converted to boolean for metric jaccard\n",
      "  warnings.warn(msg, DataConversionWarning)\n"
     ]
    },
    {
     "name": "stdout",
     "output_type": "stream",
     "text": [
      "Running external command line application. This may print messages to stdout and/or stderr.\n",
      "The command being run is below. This command cannot be manually re-run as it will depend on temporary files that no longer exist.\n",
      "\n",
      "Command:\n",
      "\n",
      "faithpd -i /tmp/qiime2/lauro/data/621e30c3-96a7-4c0e-9454-d150ab4d4738/data/feature-table.biom -t /tmp/qiime2/lauro/data/f7f7fb4e-1218-4e6a-919b-00836cc36066/data/tree.nwk -o /tmp/q2-AlphaDiversityFormat-cqog8r1s\n",
      "\n",
      "Running external command line application. This may print messages to stdout and/or stderr.\n",
      "The command being run is below. This command cannot be manually re-run as it will depend on temporary files that no longer exist.\n",
      "\n",
      "Command:\n",
      "\n",
      "ssu -i /tmp/qiime2/lauro/data/621e30c3-96a7-4c0e-9454-d150ab4d4738/data/feature-table.biom -t /tmp/qiime2/lauro/data/f7f7fb4e-1218-4e6a-919b-00836cc36066/data/tree.nwk -m unweighted -o /tmp/q2-LSMatFormat-spstdd5t\n",
      "\n"
     ]
    },
    {
     "name": "stdout",
     "output_type": "stream",
     "text": [
      "Running external command line application. This may print messages to stdout and/or stderr.\n",
      "The command being run is below. This command cannot be manually re-run as it will depend on temporary files that no longer exist.\n",
      "\n",
      "Command:\n",
      "\n",
      "ssu -i /tmp/qiime2/lauro/data/621e30c3-96a7-4c0e-9454-d150ab4d4738/data/feature-table.biom -t /tmp/qiime2/lauro/data/f7f7fb4e-1218-4e6a-919b-00836cc36066/data/tree.nwk -m weighted_unnormalized -o /tmp/q2-LSMatFormat-jm0btypf\n",
      "\n"
     ]
    },
    {
     "name": "stderr",
     "output_type": "stream",
     "text": [
      "/home/lauro/anaconda3/envs/qiime2-2023.5/lib/python3.8/site-packages/skbio/stats/ordination/_principal_coordinate_analysis.py:143: RuntimeWarning: The result contains negative eigenvalues. Please compare their magnitude with the magnitude of some of the largest positive eigenvalues. If the negative ones are smaller, it's probably safe to ignore them, but if they are large in magnitude, the results won't be useful. See the Notes section for more details. The smallest eigenvalue is -0.005085902929596535 and the largest is 0.42328760312379793.\n",
      "  warn(\n"
     ]
    }
   ],
   "source": [
    "s_depth = int(tabs.view(pd.DataFrame).sum(axis=1).min())\n",
    "results = core_metrics_phylogenetic(\n",
    "    table = tabs,\n",
    "    phylogeny = mafft_rooted_tree,\n",
    "    sampling_depth = s_depth,\n",
    "    metadata = metadata_qa,\n",
    "    n_jobs_or_threads = 6,\n",
    ")"
   ]
  },
  {
   "cell_type": "code",
   "execution_count": 13,
   "id": "19311218",
   "metadata": {
    "execution": {
     "iopub.execute_input": "2024-03-05T23:34:51.727476Z",
     "iopub.status.busy": "2024-03-05T23:34:51.727301Z",
     "iopub.status.idle": "2024-03-05T23:34:51.730789Z",
     "shell.execute_reply": "2024-03-05T23:34:51.730478Z"
    },
    "papermill": {
     "duration": 0.009499,
     "end_time": "2024-03-05T23:34:51.731698",
     "exception": false,
     "start_time": "2024-03-05T23:34:51.722199",
     "status": "completed"
    },
    "tags": []
   },
   "outputs": [],
   "source": [
    "results_info = [(\"rarefied_table\", \"FeatureTable[Frequency]\", \"The resulting rarefied feature table.\"),\n",
    "(\"faith_pd_vector\", \"SampleData[AlphaDiversity]\", \"Vector of Faith PD values by sample.\"),\n",
    "(\"observed_features_vector\", \"SampleData[AlphaDiversity]\", \"Vector of Observed Features values by sample.\"),\n",
    "(\"shannon_vector\", \"SampleData[AlphaDiversity]\", \"Vector of Shannon diversity values by sample.\"),\n",
    "(\"evenness_vector\", \"SampleData[AlphaDiversity]\", \"Vector of Pielou's evenness values by sample.\"),\n",
    "(\"unweighted_unifrac_distance_matrix\", \"DistanceMatrix\", \"Matrix of unweighted UniFrac distances between pairs of samples.\"),\n",
    "(\"weighted_unifrac_distance_matrix\", \"DistanceMatrix\", \"Matrix of weighted UniFrac distances between pairs of samples.\"),\n",
    "(\"jaccard_distance_matrix\", \"DistanceMatrix\", \"Matrix of Jaccard distances between pairs of samples.\"),\n",
    "(\"bray_curtis_distance_matrix\", \"DistanceMatrix\", \"Matrix of Bray-Curtis distances between pairs of samples.\"),\n",
    "(\"unweighted_unifrac_pcoa_results\", \"PCoAResults\", \"PCoA matrix computed from unweighted UniFrac distances between samples.\"),\n",
    "(\"weighted_unifrac_pcoa_results\", \"PCoAResults\", \"PCoA matrix computed from weighted UniFrac distances between samples.\"),\n",
    "(\"jaccard_pcoa_results\", \"PCoAResults\", \"PCoA matrix computed from Jaccard distances between samples.\"),\n",
    "(\"bray_curtis_pcoa_results\", \"PCoAResults\", \"PCoA matrix computed from Bray-Curtis distances between samples.\"),\n",
    "(\"unweighted_unifrac_emperor\", \"Visualization\", \"Emperor plot of the PCoA matrix computed from unweighted UniFrac.\"),\n",
    "(\"weighted_unifrac_emperor\", \"Visualization\", \"Emperor plot of the PCoA matrix computed from weighted UniFrac.\"),\n",
    "(\"jaccard_emperor\", \"Visualization\", \"Emperor plot of the PCoA matrix computed from Jaccard.\"),\n",
    "(\"bray_curtis_emperor\", \"Visualization\", \"Emperor plot of the PCoA matrix computed from Bray-Curtis.\")]"
   ]
  },
  {
   "cell_type": "code",
   "execution_count": 14,
   "id": "2264925a",
   "metadata": {
    "execution": {
     "iopub.execute_input": "2024-03-05T23:34:51.741264Z",
     "iopub.status.busy": "2024-03-05T23:34:51.741125Z",
     "iopub.status.idle": "2024-03-05T23:34:52.032199Z",
     "shell.execute_reply": "2024-03-05T23:34:52.031723Z"
    },
    "papermill": {
     "duration": 0.297055,
     "end_time": "2024-03-05T23:34:52.033204",
     "exception": false,
     "start_time": "2024-03-05T23:34:51.736149",
     "status": "completed"
    },
    "tags": []
   },
   "outputs": [
    {
     "name": "stdout",
     "output_type": "stream",
     "text": [
      "13 unweighted_unifrac_emperor Visualization\n",
      "--- Emperor plot of the PCoA matrix computed from unweighted UniFrac. ---\n",
      "Saving emperor file at: /mnt/nupeb/rede-micro/redemicro-ana-flavia-nutri/experiments/ana-flavia-HSD-NCxHSD-NR/qiime-artifacts/beta-analysis/unweighted_unifrac_emperor.qzv\n",
      "\n",
      "14 weighted_unifrac_emperor Visualization\n",
      "--- Emperor plot of the PCoA matrix computed from weighted UniFrac. ---\n",
      "Saving emperor file at: /mnt/nupeb/rede-micro/redemicro-ana-flavia-nutri/experiments/ana-flavia-HSD-NCxHSD-NR/qiime-artifacts/beta-analysis/weighted_unifrac_emperor.qzv\n",
      "\n",
      "15 jaccard_emperor Visualization\n",
      "--- Emperor plot of the PCoA matrix computed from Jaccard. ---\n",
      "Saving emperor file at: /mnt/nupeb/rede-micro/redemicro-ana-flavia-nutri/experiments/ana-flavia-HSD-NCxHSD-NR/qiime-artifacts/beta-analysis/jaccard_emperor.qzv\n",
      "\n"
     ]
    },
    {
     "name": "stdout",
     "output_type": "stream",
     "text": [
      "16 bray_curtis_emperor Visualization\n",
      "--- Emperor plot of the PCoA matrix computed from Bray-Curtis. ---\n",
      "Saving emperor file at: /mnt/nupeb/rede-micro/redemicro-ana-flavia-nutri/experiments/ana-flavia-HSD-NCxHSD-NR/qiime-artifacts/beta-analysis/bray_curtis_emperor.qzv\n",
      "\n"
     ]
    }
   ],
   "source": [
    "distance_matrix = dict()\n",
    "for i, info in enumerate(results_info):\n",
    "    r_id, r_type, r_desc = info\n",
    "    #print(i, r_id, r_type)\n",
    "    file_name = f\"{r_id}.qzv\"\n",
    "    if r_type == \"FeatureTable[Frequency]\":\n",
    "        pass\n",
    "    elif r_type == \"DistanceMatrix\":\n",
    "        distance_matrix[r_id] = results[i]\n",
    "    elif r_id.endswith('emperor'):\n",
    "        print(i, r_id, r_type)\n",
    "        print(f\"--- {r_desc} ---\")\n",
    "        file_name = os.path.join(beta_path, file_name)\n",
    "        print(f'Saving emperor file at: {file_name}\\n')\n",
    "        results[i].save(filepath=file_name)"
   ]
  },
  {
   "cell_type": "markdown",
   "id": "c7752cfd",
   "metadata": {
    "papermill": {
     "duration": 0.004591,
     "end_time": "2024-03-05T23:34:52.042651",
     "exception": false,
     "start_time": "2024-03-05T23:34:52.038060",
     "status": "completed"
    },
    "tags": []
   },
   "source": [
    "### Alpha diversity correlation\n",
    "\n",
    "This method only process `numeric` columns.\n"
   ]
  },
  {
   "cell_type": "code",
   "execution_count": 15,
   "id": "2814f613",
   "metadata": {
    "ExecuteTime": {
     "end_time": "2022-09-29T20:54:35.317618Z",
     "start_time": "2022-09-29T20:54:35.312094Z"
    },
    "execution": {
     "iopub.execute_input": "2024-03-05T23:34:52.052627Z",
     "iopub.status.busy": "2024-03-05T23:34:52.052429Z",
     "iopub.status.idle": "2024-03-05T23:34:52.056771Z",
     "shell.execute_reply": "2024-03-05T23:34:52.056321Z"
    },
    "papermill": {
     "duration": 0.010584,
     "end_time": "2024-03-05T23:34:52.057695",
     "exception": false,
     "start_time": "2024-03-05T23:34:52.047111",
     "status": "completed"
    },
    "tags": []
   },
   "outputs": [],
   "source": [
    "methods = ('spearman', 'pearson')\n",
    "numerics_cols = metadata_qa.filter_columns(column_type='numeric')\n",
    "if numerics_cols.column_count > 0:\n",
    "    for metric, alpha_values in alpha_diversities.items():\n",
    "        for method in methods:\n",
    "            try:\n",
    "                corr_view = alpha_correlation(alpha_diversity=alpha_values, metadata=numerics_cols, \n",
    "                                          method=method, intersect_ids=True).visualization\n",
    "                view_path = os.path.join(alpha_path, f'alpha-correlation-{metric}-{method}.qzv')\n",
    "                corr_view.save(view_path)\n",
    "                corr_view\n",
    "                print(f\"DONE: Calculating alpha correlation: {metric} {method}\")\n",
    "            except Exception as e:\n",
    "                print(f\"ERROR: Calculating alpha correlation: {metric} {method}\")"
   ]
  },
  {
   "cell_type": "markdown",
   "id": "8ea83c8a",
   "metadata": {
    "papermill": {
     "duration": 0.004584,
     "end_time": "2024-03-05T23:34:52.066894",
     "exception": false,
     "start_time": "2024-03-05T23:34:52.062310",
     "status": "completed"
    },
    "tags": []
   },
   "source": [
    "## Alpha diversity comparisons\n",
    "\n",
    "Visually and statistically compare groups of alpha diversity values.\n",
    "\n",
    "[diversity alpha_group_significance](https://docs.qiime2.org/2022.8/plugins/available/diversity/alpha-group-significance/)"
   ]
  },
  {
   "cell_type": "code",
   "execution_count": 16,
   "id": "276d1c18",
   "metadata": {
    "ExecuteTime": {
     "end_time": "2022-09-29T20:54:36.089290Z",
     "start_time": "2022-09-29T20:54:35.318963Z"
    },
    "execution": {
     "iopub.execute_input": "2024-03-05T23:34:52.076920Z",
     "iopub.status.busy": "2024-03-05T23:34:52.076733Z",
     "iopub.status.idle": "2024-03-05T23:34:52.512412Z",
     "shell.execute_reply": "2024-03-05T23:34:52.511946Z"
    },
    "papermill": {
     "duration": 0.441898,
     "end_time": "2024-03-05T23:34:52.513365",
     "exception": false,
     "start_time": "2024-03-05T23:34:52.071467",
     "status": "completed"
    },
    "tags": []
   },
   "outputs": [
    {
     "name": "stdout",
     "output_type": "stream",
     "text": [
      "Processing alpha_group_significance: chao1\n"
     ]
    },
    {
     "name": "stdout",
     "output_type": "stream",
     "text": [
      "DONE: Calculating alpha group significance: chao1\n",
      "Processing alpha_group_significance: chao1_ci\n",
      "ERROR: Calculating alpha group significance: chao1_ci\n",
      "Processing alpha_group_significance: observed_features\n",
      "DONE: Calculating alpha group significance: observed_features\n",
      "Processing alpha_group_significance: shannon\n"
     ]
    },
    {
     "name": "stdout",
     "output_type": "stream",
     "text": [
      "DONE: Calculating alpha group significance: shannon\n",
      "Processing alpha_group_significance: simpson\n"
     ]
    },
    {
     "name": "stdout",
     "output_type": "stream",
     "text": [
      "DONE: Calculating alpha group significance: simpson\n",
      "Processing alpha_group_significance: simpson_e\n",
      "DONE: Calculating alpha group significance: simpson_e\n"
     ]
    }
   ],
   "source": [
    "for metric, alpha_values in alpha_diversities.items():\n",
    "    print(f\"Processing alpha_group_significance: {metric}\")\n",
    "    try:\n",
    "        significance_view = alpha_group_significance(alpha_diversity=alpha_values, metadata=metadata_qa).visualization\n",
    "        view_path = os.path.join(alpha_path, f'alpha-group-significance-{metric}.qzv')\n",
    "        significance_view.save(view_path)\n",
    "        significance_view\n",
    "        print(f\"DONE: Calculating alpha group significance: {metric}\")\n",
    "    except Exception as e:\n",
    "        print(f\"ERROR: Calculating alpha group significance: {metric}\")"
   ]
  },
  {
   "cell_type": "markdown",
   "id": "4349d357",
   "metadata": {
    "papermill": {
     "duration": 0.004729,
     "end_time": "2024-03-05T23:34:52.523055",
     "exception": false,
     "start_time": "2024-03-05T23:34:52.518326",
     "status": "completed"
    },
    "tags": []
   },
   "source": [
    "## Beta diversity analysis\n",
    "\n",
    "#### Reference\n",
    "- [diversity beta](https://docs.qiime2.org/2022.8/plugins/available/diversity/beta/): Computes a user-specified beta diversity metric for all pairs of samples in a feature table.\n",
    "- [Beta diversity metrics](http://scikit-bio.org/docs/0.2.0/generated/skbio.diversity.beta.html)\n",
    "\n",
    "- Metric Choices('aitchison', 'braycurtis', 'canberra', 'canberra_adkins', 'chebyshev', 'cityblock', 'correlation', 'cosine', 'dice', 'euclidean', 'hamming', 'jaccard', 'jensenshannon', 'kulsinski', 'matching', 'minkowski', 'rogerstanimoto', 'russellrao', 'seuclidean', 'sokalmichener', 'sokalsneath', 'sqeuclidean', 'yule')"
   ]
  },
  {
   "cell_type": "code",
   "execution_count": 17,
   "id": "f6f358dd",
   "metadata": {
    "ExecuteTime": {
     "end_time": "2022-09-29T20:54:36.335038Z",
     "start_time": "2022-09-29T20:54:36.091288Z"
    },
    "execution": {
     "iopub.execute_input": "2024-03-05T23:34:52.533181Z",
     "iopub.status.busy": "2024-03-05T23:34:52.532987Z",
     "iopub.status.idle": "2024-03-05T23:34:52.858101Z",
     "shell.execute_reply": "2024-03-05T23:34:52.857545Z"
    },
    "papermill": {
     "duration": 0.331389,
     "end_time": "2024-03-05T23:34:52.859042",
     "exception": false,
     "start_time": "2024-03-05T23:34:52.527653",
     "status": "completed"
    },
    "tags": []
   },
   "outputs": [
    {
     "name": "stdout",
     "output_type": "stream",
     "text": [
      "Calculating beta diversity: euclidean\n"
     ]
    },
    {
     "name": "stdout",
     "output_type": "stream",
     "text": [
      "DONE: Calculating beta diversity: euclidean\n",
      "Calculating beta diversity: dice\n"
     ]
    },
    {
     "name": "stdout",
     "output_type": "stream",
     "text": [
      "DONE: Calculating beta diversity: dice\n",
      "Calculating beta diversity: braycurtis\n",
      "DONE: Calculating beta diversity: braycurtis\n",
      "Calculating beta diversity: correlation\n",
      "ERROR: Calculating beta diversity: correlation\n",
      "Calculating beta diversity: cosine\n"
     ]
    },
    {
     "name": "stdout",
     "output_type": "stream",
     "text": [
      "ERROR: Calculating beta diversity: cosine\n",
      "Calculating beta diversity: matching\n"
     ]
    },
    {
     "name": "stderr",
     "output_type": "stream",
     "text": [
      "/home/lauro/anaconda3/envs/qiime2-2023.5/lib/python3.8/site-packages/sklearn/metrics/pairwise.py:1761: DataConversionWarning: Data was converted to boolean for metric dice\n",
      "  warnings.warn(msg, DataConversionWarning)\n",
      "/home/lauro/anaconda3/envs/qiime2-2023.5/lib/python3.8/site-packages/sklearn/metrics/pairwise.py:1761: DataConversionWarning: Data was converted to boolean for metric matching\n",
      "  warnings.warn(msg, DataConversionWarning)\n"
     ]
    },
    {
     "name": "stdout",
     "output_type": "stream",
     "text": [
      "DONE: Calculating beta diversity: matching\n",
      "Calculating beta diversity: jaccard\n"
     ]
    },
    {
     "name": "stdout",
     "output_type": "stream",
     "text": [
      "DONE: Calculating beta diversity: jaccard\n"
     ]
    },
    {
     "name": "stderr",
     "output_type": "stream",
     "text": [
      "/home/lauro/anaconda3/envs/qiime2-2023.5/lib/python3.8/site-packages/sklearn/metrics/pairwise.py:1761: DataConversionWarning: Data was converted to boolean for metric jaccard\n",
      "  warnings.warn(msg, DataConversionWarning)\n"
     ]
    }
   ],
   "source": [
    "metrics = ('aitchison', 'braycurtis', 'canberra', 'canberra_adkins', 'chebyshev', 'cityblock', 'correlation', 'cosine', 'dice', 'euclidean', 'hamming', 'jaccard', 'jensenshannon', 'kulsinski', 'matching', 'minkowski', 'rogerstanimoto', 'russellrao', 'seuclidean', 'sokalmichener', 'sokalsneath', 'sqeuclidean', 'yule')\n",
    "metrics = ('euclidean', 'dice', 'braycurtis', 'correlation', 'cosine', 'matching', 'jaccard')\n",
    "beta_diversities = dict()\n",
    "for metric in metrics:\n",
    "    print(f\"Calculating beta diversity: {metric}\")\n",
    "    try:\n",
    "        beta_diversity = beta(table=tabs, metric=metric, n_jobs=6, pseudocount=1).distance_matrix\n",
    "        beta_diversities[metric] = beta_diversity\n",
    "        # Save SampleData[BetaDiversity] Artifact\n",
    "        file_path = os.path.join(beta_path, f'beta-values-{metric}.qza')\n",
    "        beta_diversity.save(file_path)\n",
    "        print(f\"DONE: Calculating beta diversity: {metric}\")\n",
    "    except Exception as e:\n",
    "        print(f\"ERROR: Calculating beta diversity: {metric}\")"
   ]
  },
  {
   "cell_type": "markdown",
   "id": "200a2fa7",
   "metadata": {
    "papermill": {
     "duration": 0.005835,
     "end_time": "2024-03-05T23:34:52.870046",
     "exception": false,
     "start_time": "2024-03-05T23:34:52.864211",
     "status": "completed"
    },
    "tags": []
   },
   "source": [
    "### Beta group significance\n",
    "\n",
    "- [diversity beta_group_significance](https://docs.qiime2.org/2022.8/plugins/available/diversity/beta-group-significance/): Determine whether groups of samples are significantly different from one another using a permutation-based statistical test.\n",
    "- Marti J Anderson. A new method for non-parametric multivariate analysis of variance. Austral ecology, 26(1):32–46, 2001. doi:https://doi.org/10.1111/j.1442-9993.2001.01070.pp.x."
   ]
  },
  {
   "cell_type": "code",
   "execution_count": 18,
   "id": "b8dd42b6",
   "metadata": {
    "ExecuteTime": {
     "end_time": "2022-09-29T20:55:08.313860Z",
     "start_time": "2022-09-29T20:54:36.336993Z"
    },
    "execution": {
     "iopub.execute_input": "2024-03-05T23:34:52.880679Z",
     "iopub.status.busy": "2024-03-05T23:34:52.880518Z",
     "iopub.status.idle": "2024-03-05T23:35:10.357387Z",
     "shell.execute_reply": "2024-03-05T23:35:10.356956Z"
    },
    "papermill": {
     "duration": 17.483441,
     "end_time": "2024-03-05T23:35:10.358337",
     "exception": false,
     "start_time": "2024-03-05T23:34:52.874896",
     "status": "completed"
    },
    "tags": []
   },
   "outputs": [
    {
     "name": "stdout",
     "output_type": "stream",
     "text": [
      "Calculating beta group significance with method permanova and metric euclidean\n"
     ]
    },
    {
     "name": "stdout",
     "output_type": "stream",
     "text": [
      "DONE: Calculating beta group significance: permanova euclidean\n",
      "Calculating beta group significance with method permanova and metric dice\n"
     ]
    },
    {
     "name": "stdout",
     "output_type": "stream",
     "text": [
      "DONE: Calculating beta group significance: permanova dice\n",
      "Calculating beta group significance with method permanova and metric braycurtis\n"
     ]
    },
    {
     "name": "stdout",
     "output_type": "stream",
     "text": [
      "DONE: Calculating beta group significance: permanova braycurtis\n",
      "Calculating beta group significance with method permanova and metric matching\n"
     ]
    },
    {
     "name": "stdout",
     "output_type": "stream",
     "text": [
      "DONE: Calculating beta group significance: permanova matching\n",
      "Calculating beta group significance with method permanova and metric jaccard\n"
     ]
    },
    {
     "name": "stdout",
     "output_type": "stream",
     "text": [
      "DONE: Calculating beta group significance: permanova jaccard\n",
      "Calculating beta group significance with method anosim and metric euclidean\n"
     ]
    },
    {
     "name": "stdout",
     "output_type": "stream",
     "text": [
      "DONE: Calculating beta group significance: anosim euclidean\n",
      "Calculating beta group significance with method anosim and metric dice\n"
     ]
    },
    {
     "name": "stdout",
     "output_type": "stream",
     "text": [
      "DONE: Calculating beta group significance: anosim dice\n",
      "Calculating beta group significance with method anosim and metric braycurtis\n"
     ]
    },
    {
     "name": "stdout",
     "output_type": "stream",
     "text": [
      "DONE: Calculating beta group significance: anosim braycurtis\n",
      "Calculating beta group significance with method anosim and metric matching\n"
     ]
    },
    {
     "name": "stdout",
     "output_type": "stream",
     "text": [
      "DONE: Calculating beta group significance: anosim matching\n",
      "Calculating beta group significance with method anosim and metric jaccard\n"
     ]
    },
    {
     "name": "stdout",
     "output_type": "stream",
     "text": [
      "DONE: Calculating beta group significance: anosim jaccard\n",
      "Calculating beta group significance with method permdisp and metric euclidean\n"
     ]
    },
    {
     "name": "stdout",
     "output_type": "stream",
     "text": [
      "DONE: Calculating beta group significance: permdisp euclidean\n",
      "Calculating beta group significance with method permdisp and metric dice\n"
     ]
    },
    {
     "name": "stdout",
     "output_type": "stream",
     "text": [
      "DONE: Calculating beta group significance: permdisp dice\n",
      "Calculating beta group significance with method permdisp and metric braycurtis\n"
     ]
    },
    {
     "name": "stdout",
     "output_type": "stream",
     "text": [
      "DONE: Calculating beta group significance: permdisp braycurtis\n",
      "Calculating beta group significance with method permdisp and metric matching\n"
     ]
    },
    {
     "name": "stdout",
     "output_type": "stream",
     "text": [
      "DONE: Calculating beta group significance: permdisp matching\n",
      "Calculating beta group significance with method permdisp and metric jaccard\n"
     ]
    },
    {
     "name": "stdout",
     "output_type": "stream",
     "text": [
      "DONE: Calculating beta group significance: permdisp jaccard\n"
     ]
    },
    {
     "data": {
      "text/plain": [
       "<Figure size 640x480 with 0 Axes>"
      ]
     },
     "metadata": {},
     "output_type": "display_data"
    }
   ],
   "source": [
    "methods = ('permanova', 'anosim', 'permdisp')\n",
    "for method in methods:\n",
    "    for metric, beta_diversity in beta_diversities.items():\n",
    "        print(f'Calculating beta group significance with method {method} and metric {metric}')\n",
    "        try:\n",
    "            beta_view = beta_group_significance(distance_matrix=beta_diversity, \n",
    "                                                metadata=metadata_qa.get_column(class_col), \n",
    "                                                pairwise=True, method=method).visualization\n",
    "            view_name = os.path.join(beta_path, f'beta-group-significance-{metric}-{method}.qzv')\n",
    "            beta_view.save(view_name)\n",
    "            print(f\"DONE: Calculating beta group significance: {method} {metric}\")\n",
    "        except Exception as e:\n",
    "            print(f\"ERROR: Calculating beta group significance: {method} {metric}\")"
   ]
  },
  {
   "cell_type": "code",
   "execution_count": 19,
   "id": "6366725e",
   "metadata": {
    "execution": {
     "iopub.execute_input": "2024-03-05T23:35:10.370324Z",
     "iopub.status.busy": "2024-03-05T23:35:10.370128Z",
     "iopub.status.idle": "2024-03-05T23:35:24.305130Z",
     "shell.execute_reply": "2024-03-05T23:35:24.304725Z"
    },
    "papermill": {
     "duration": 13.94204,
     "end_time": "2024-03-05T23:35:24.306162",
     "exception": false,
     "start_time": "2024-03-05T23:35:10.364122",
     "status": "completed"
    },
    "tags": []
   },
   "outputs": [
    {
     "name": "stdout",
     "output_type": "stream",
     "text": [
      "Calculating beta group significance with method permanova and metric unweighted_unifrac_distance_matrix\n"
     ]
    },
    {
     "name": "stdout",
     "output_type": "stream",
     "text": [
      "DONE: Calculating beta group significance: permanova unweighted_unifrac_distance_matrix\n",
      "Calculating beta group significance with method permanova and metric weighted_unifrac_distance_matrix\n"
     ]
    },
    {
     "name": "stdout",
     "output_type": "stream",
     "text": [
      "DONE: Calculating beta group significance: permanova weighted_unifrac_distance_matrix\n",
      "Calculating beta group significance with method permanova and metric jaccard_distance_matrix\n"
     ]
    },
    {
     "name": "stdout",
     "output_type": "stream",
     "text": [
      "DONE: Calculating beta group significance: permanova jaccard_distance_matrix\n",
      "Calculating beta group significance with method permanova and metric bray_curtis_distance_matrix\n"
     ]
    },
    {
     "name": "stdout",
     "output_type": "stream",
     "text": [
      "DONE: Calculating beta group significance: permanova bray_curtis_distance_matrix\n",
      "Calculating beta group significance with method anosim and metric unweighted_unifrac_distance_matrix\n"
     ]
    },
    {
     "name": "stdout",
     "output_type": "stream",
     "text": [
      "DONE: Calculating beta group significance: anosim unweighted_unifrac_distance_matrix\n",
      "Calculating beta group significance with method anosim and metric weighted_unifrac_distance_matrix\n"
     ]
    },
    {
     "name": "stdout",
     "output_type": "stream",
     "text": [
      "DONE: Calculating beta group significance: anosim weighted_unifrac_distance_matrix\n",
      "Calculating beta group significance with method anosim and metric jaccard_distance_matrix\n"
     ]
    },
    {
     "name": "stdout",
     "output_type": "stream",
     "text": [
      "DONE: Calculating beta group significance: anosim jaccard_distance_matrix\n",
      "Calculating beta group significance with method anosim and metric bray_curtis_distance_matrix\n"
     ]
    },
    {
     "name": "stdout",
     "output_type": "stream",
     "text": [
      "DONE: Calculating beta group significance: anosim bray_curtis_distance_matrix\n",
      "Calculating beta group significance with method permdisp and metric unweighted_unifrac_distance_matrix\n"
     ]
    },
    {
     "name": "stdout",
     "output_type": "stream",
     "text": [
      "DONE: Calculating beta group significance: permdisp unweighted_unifrac_distance_matrix\n",
      "Calculating beta group significance with method permdisp and metric weighted_unifrac_distance_matrix\n"
     ]
    },
    {
     "name": "stderr",
     "output_type": "stream",
     "text": [
      "/home/lauro/anaconda3/envs/qiime2-2023.5/lib/python3.8/site-packages/skbio/stats/ordination/_principal_coordinate_analysis.py:143: RuntimeWarning: The result contains negative eigenvalues. Please compare their magnitude with the magnitude of some of the largest positive eigenvalues. If the negative ones are smaller, it's probably safe to ignore them, but if they are large in magnitude, the results won't be useful. See the Notes section for more details. The smallest eigenvalue is -0.0050859029295965245 and the largest is 0.42328760312379776.\n",
      "  warn(\n"
     ]
    },
    {
     "name": "stderr",
     "output_type": "stream",
     "text": [
      "/home/lauro/anaconda3/envs/qiime2-2023.5/lib/python3.8/site-packages/skbio/stats/ordination/_principal_coordinate_analysis.py:143: RuntimeWarning: The result contains negative eigenvalues. Please compare their magnitude with the magnitude of some of the largest positive eigenvalues. If the negative ones are smaller, it's probably safe to ignore them, but if they are large in magnitude, the results won't be useful. See the Notes section for more details. The smallest eigenvalue is -0.0050859029295965245 and the largest is 0.42328760312379776.\n",
      "  warn(\n"
     ]
    },
    {
     "name": "stdout",
     "output_type": "stream",
     "text": [
      "DONE: Calculating beta group significance: permdisp weighted_unifrac_distance_matrix\n",
      "Calculating beta group significance with method permdisp and metric jaccard_distance_matrix\n"
     ]
    },
    {
     "name": "stdout",
     "output_type": "stream",
     "text": [
      "DONE: Calculating beta group significance: permdisp jaccard_distance_matrix\n",
      "Calculating beta group significance with method permdisp and metric bray_curtis_distance_matrix\n"
     ]
    },
    {
     "name": "stdout",
     "output_type": "stream",
     "text": [
      "DONE: Calculating beta group significance: permdisp bray_curtis_distance_matrix\n"
     ]
    },
    {
     "data": {
      "text/plain": [
       "<Figure size 640x480 with 0 Axes>"
      ]
     },
     "metadata": {},
     "output_type": "display_data"
    }
   ],
   "source": [
    "# Expand tests using UNIFRAC metrics\n",
    "methods = ('permanova', 'anosim', 'permdisp')\n",
    "for method in methods:\n",
    "    for metric, beta_diversity in distance_matrix.items():\n",
    "        print(f'Calculating beta group significance with method {method} and metric {metric}')\n",
    "        try:\n",
    "            beta_view = beta_group_significance(distance_matrix=beta_diversity, \n",
    "                                                metadata=metadata_qa.get_column(class_col), \n",
    "                                                pairwise=True, method=method).visualization\n",
    "            view_name = os.path.join(beta_path, f'beta-group-significance-{metric}-{method}.qzv')\n",
    "            beta_view.save(view_name)\n",
    "            print(f\"DONE: Calculating beta group significance: {method} {metric}\")\n",
    "        except Exception as e:\n",
    "            print(f\"ERROR: Calculating beta group significance: {method} {metric}\")"
   ]
  },
  {
   "cell_type": "markdown",
   "id": "c0de85cf",
   "metadata": {
    "papermill": {
     "duration": 0.005861,
     "end_time": "2024-03-05T23:35:24.318233",
     "exception": false,
     "start_time": "2024-03-05T23:35:24.312372",
     "status": "completed"
    },
    "tags": []
   },
   "source": [
    "### Beta group Rarefaction\n",
    "\n",
    "- [diversity beta_rarefaction](https://docs.qiime2.org/2022.8/plugins/available/diversity/beta-rarefaction/): Repeatedly rarefy a feature table to compare beta diversity results within a given rarefaction depth.  For a given beta diversity metric, this visualizer will provide: an Emperor jackknifed PCoA plot, samples clustered by UPGMA or neighbor joining with support calculation, and a heatmap showing the correlation between rarefaction trials of that beta diversity metric."
   ]
  }
 ],
 "metadata": {
  "celltoolbar": "Edit Metadata",
  "kernelspec": {
   "display_name": "Python 3 (ipykernel)",
   "language": "python",
   "name": "python3"
  },
  "language_info": {
   "codemirror_mode": {
    "name": "ipython",
    "version": 3
   },
   "file_extension": ".py",
   "mimetype": "text/x-python",
   "name": "python",
   "nbconvert_exporter": "python",
   "pygments_lexer": "ipython3",
   "version": "3.8.16"
  },
  "papermill": {
   "default_parameters": {},
   "duration": 48.983369,
   "end_time": "2024-03-05T23:35:25.240642",
   "environment_variables": {},
   "exception": null,
   "input_path": "nb-templates/step-diversity-analysis.ipynb",
   "output_path": "/mnt/nupeb/rede-micro/redemicro-ana-flavia-nutri/experiments/ana-flavia-HSD-NCxHSD-NR-trim/nb-executed-steps/step-diversity-analysis-ana-flavia-HSD-NCxHSD-NR-trim.ipynb",
   "parameters": {
    "base_dir": "/mnt/nupeb/rede-micro/redemicro-ana-flavia-nutri",
    "class_col": "group-id",
    "classifier_file": "/mnt/nupeb/rede-micro/datasets/16S_classifiers_qiime2/silva-138-99-nb-classifier.qza",
    "experiment_name": "ana-flavia-HSD-NCxHSD-NR",
    "manifest_file": "/mnt/nupeb/rede-micro/redemicro-ana-flavia-nutri/data/raw/manifest/manifest-ana-flavia-HSD-NCxHSD-NR.csv",
    "metadata_file": "/mnt/nupeb/rede-micro/redemicro-ana-flavia-nutri/data/raw/metadata/metadata-ana-flavia-HSD-NCxHSD-NR.tsv",
    "overlap": 12,
    "phred": 20,
    "replace_files": false,
    "threads": 6,
    "top_n": 20,
    "trim": {
     "forward_primer": "CCTACGGGRSGCAGCAG",
     "overlap": 8,
     "reverse_primer": "GGACTACHVGGGTWTCTAAT"
    },
    "trunc_f": 0,
    "trunc_r": 0
   },
   "start_time": "2024-03-05T23:34:36.257273",
   "version": "2.4.0"
  }
 },
 "nbformat": 4,
 "nbformat_minor": 5
}