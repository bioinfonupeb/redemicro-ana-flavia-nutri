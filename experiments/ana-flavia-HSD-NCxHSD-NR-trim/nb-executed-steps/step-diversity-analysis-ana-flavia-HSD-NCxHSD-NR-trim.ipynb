{
 "cells": [
  {
   "cell_type": "markdown",
   "id": "15bcfa06",
   "metadata": {
    "papermill": {
     "duration": 0.027978,
     "end_time": "2024-02-01T22:59:20.567733",
     "exception": false,
     "start_time": "2024-02-01T22:59:20.539755",
     "status": "completed"
    },
    "tags": []
   },
   "source": [
    " \n",
    "# Alpha and Beta Diversity\n",
    "\n",
    "Different higher-level measures are often used to describe the microbiome in a sample. These do not provide information on changes in the abundance of specific taxa but allow us to access a broader change or difference in the composition of microorganisms. Alpha and beta diversity are examples of such measures.\n",
    "\n",
    "Different measures exist to estimate diversity within a single sample, jointly called alpha diversity. The different measures reflect the richness (number) or distribution (evenness) of a microbial sample or aim to reflect a combination of both properties.\n",
    "\n",
    "Rarefaction curves are often used when calculating alpha diversity indices because increasing numbers of sequenced taxa allow increasingly accurate estimates of total population diversity. Rarefaction curves can therefore be used to estimate the full sample richness, as compared to the observed sample richness.\n",
    "\n",
    "While alpha diversity is a measure of microbiome diversity applicable to a single sample, beta diversity is a measure of the similarity or dissimilarity of two communities. As for alpha diversity, many indices exist, each reflecting different aspects of community heterogeneity. Key differences relate to how the indices value variation in rare species if they consider presence/absence only or incorporate abundance, and how they interpret shared absence. Bray-Curtis dissimilarity is a popular measure that considers both size (overall abundance per sample) and shape (abundance of each taxon) of the communities (Bray, 1957). Beta diversity is an essential measure for many popular statistical methods in ecology, such as ordination-based methods, and is widely used for studying the association between environmental variables and microbial composition.\n",
    "\n",
    "In summary, alpha diversity measures can be seen as a summary statistic of a single population (within-sample diversity), while beta diversity measures are estimates of similarity or dissimilarity between populations (between samples).\n",
    "\n",
    "**Source**: (https://biomcare.com/info/key-terms-in-microbiome-projects/)"
   ]
  },
  {
   "cell_type": "markdown",
   "id": "0e7f2330",
   "metadata": {
    "ExecuteTime": {
     "end_time": "2022-09-22T19:36:33.828188Z",
     "start_time": "2022-09-22T19:36:33.817323Z"
    },
    "papermill": {
     "duration": 0.038976,
     "end_time": "2024-02-01T22:59:20.704423",
     "exception": false,
     "start_time": "2024-02-01T22:59:20.665447",
     "status": "completed"
    },
    "tags": []
   },
   "source": [
    "### STEP : Diversity Analysis\n",
    "\n",
    "Using QIIME2 to create diversity analisys graphs and calculations.\n",
    "\n",
    "- [QIIME2 Workflow Overview](https://docs.qiime2.org/2022.8/tutorials/overview/)\n",
    "\n",
    "\n",
    "#### Methods\n",
    "- [diversity](https://docs.qiime2.org/2022.8/plugins/available/diversity/)\n",
    "- [diversity alpha](https://docs.qiime2.org/2022.8/plugins/available/diversity/alpha/)\n",
    "- [diversity alpha_phylogenetic](https://docs.qiime2.org/2022.8/plugins/available/diversity/alpha-phylogenetic/)\n",
    "- [diversity beta](https://docs.qiime2.org/2022.8/plugins/available/diversity/beta/)\n",
    "- [diversity core_metrics](https://docs.qiime2.org/2022.8/plugins/available/diversity/core-metrics/)\n",
    "- [diversity alpha_group_significance](https://docs.qiime2.org/2022.8/plugins/available/diversity/alpha-group-significance/)\n",
    "- [diversity beta_group_significance](https://docs.qiime2.org/2022.8/plugins/available/diversity/beta-group-significance/)\n",
    "- [feature_table core_features](https://docs.qiime2.org/2022.8/plugins/available/feature-table/core-features/)\n",
    "- [feature_table summarize](https://docs.qiime2.org/2022.8/plugins/available/feature-table/summarize/)\n",
    "- [taxa filter-table](https://docs.qiime2.org/2022.8/plugins/available/taxa/filter-table/)\n",
    "- [taxa collapse](https://docs.qiime2.org/2022.8/plugins/available/taxa/collapse/)"
   ]
  },
  {
   "cell_type": "markdown",
   "id": "843debbf",
   "metadata": {
    "papermill": {
     "duration": 0.030075,
     "end_time": "2024-02-01T22:59:20.778519",
     "exception": false,
     "start_time": "2024-02-01T22:59:20.748444",
     "status": "completed"
    },
    "tags": []
   },
   "source": [
    "## Setup and settings"
   ]
  },
  {
   "cell_type": "code",
   "execution_count": 1,
   "id": "965e28e5",
   "metadata": {
    "ExecuteTime": {
     "end_time": "2022-11-03T20:35:26.198671Z",
     "start_time": "2022-11-03T20:35:06.473173Z"
    },
    "execution": {
     "iopub.execute_input": "2024-02-01T22:59:20.851237Z",
     "iopub.status.busy": "2024-02-01T22:59:20.850656Z",
     "iopub.status.idle": "2024-02-01T22:59:27.021337Z",
     "shell.execute_reply": "2024-02-01T22:59:27.020400Z"
    },
    "papermill": {
     "duration": 6.216519,
     "end_time": "2024-02-01T22:59:27.024718",
     "exception": false,
     "start_time": "2024-02-01T22:59:20.808199",
     "status": "completed"
    },
    "tags": []
   },
   "outputs": [],
   "source": [
    "# Importing packages\n",
    "import os\n",
    "import pandas as pd\n",
    "from qiime2 import Artifact\n",
    "from qiime2 import Visualization\n",
    "from qiime2 import Metadata\n",
    "\n",
    "from qiime2.plugins.phylogeny.pipelines import align_to_tree_mafft_fasttree\n",
    "\n",
    "from qiime2.plugins.diversity.pipelines import alpha\n",
    "from qiime2.plugins.diversity.pipelines import beta\n",
    "from qiime2.plugins.diversity.pipelines import core_metrics\n",
    "from qiime2.plugins.diversity.pipelines import alpha_phylogenetic\n",
    "\n",
    "from qiime2.plugins.diversity.visualizers import alpha_group_significance\n",
    "from qiime2.plugins.diversity.visualizers import beta_group_significance\n",
    "from qiime2.plugins.diversity.visualizers import alpha_correlation\n",
    "from qiime2.plugins.diversity.visualizers import beta_rarefaction\n",
    "\n",
    "from qiime2.plugins.taxa.methods import filter_table\n",
    "from qiime2.plugins.taxa.methods import collapse\n",
    "\n",
    "from qiime2.plugins.feature_table.visualizers import tabulate_seqs\n",
    "from qiime2.plugins.feature_table.visualizers import summarize\n",
    "from qiime2.plugins.feature_table.visualizers import core_features\n",
    "from qiime2.plugins.diversity.pipelines import core_metrics_phylogenetic\n",
    "\n",
    "from qiime2.plugins.feature_table.methods import filter_samples\n",
    "from qiime2.plugins.feature_table.methods import filter_seqs\n",
    "\n",
    "from qiime2.plugins.alignment.methods import mafft\n",
    "\n",
    "\n",
    "import matplotlib.pyplot as plt\n",
    "\n",
    "%matplotlib inline"
   ]
  },
  {
   "cell_type": "markdown",
   "id": "530ceb60",
   "metadata": {
    "papermill": {
     "duration": 0.017621,
     "end_time": "2024-02-01T22:59:27.068481",
     "exception": false,
     "start_time": "2024-02-01T22:59:27.050860",
     "status": "completed"
    },
    "tags": []
   },
   "source": [
    "### Receiving the parameters\n",
    "\n",
    "The following cell can receive parameters using the [papermill](https://papermill.readthedocs.io/en/latest/) tool."
   ]
  },
  {
   "cell_type": "code",
   "execution_count": 2,
   "id": "18d874ea",
   "metadata": {
    "ExecuteTime": {
     "end_time": "2022-09-29T20:54:14.793270Z",
     "start_time": "2022-09-29T20:54:14.789367Z"
    },
    "execution": {
     "iopub.execute_input": "2024-02-01T22:59:27.124277Z",
     "iopub.status.busy": "2024-02-01T22:59:27.123782Z",
     "iopub.status.idle": "2024-02-01T22:59:27.129008Z",
     "shell.execute_reply": "2024-02-01T22:59:27.128297Z"
    },
    "papermill": {
     "duration": 0.025874,
     "end_time": "2024-02-01T22:59:27.130548",
     "exception": false,
     "start_time": "2024-02-01T22:59:27.104674",
     "status": "completed"
    },
    "tags": [
     "parameters"
    ]
   },
   "outputs": [],
   "source": [
    "base_dir = os.path.join('/', 'home')\n",
    "metadata_file = os.path.abspath(os.path.join(base_dir, 'data', 'metadatada.tsv'))\n",
    "experiment_name = ''\n",
    "class_col = ''\n",
    "replace_files = False"
   ]
  },
  {
   "cell_type": "code",
   "execution_count": 3,
   "id": "b6243d8a",
   "metadata": {
    "execution": {
     "iopub.execute_input": "2024-02-01T22:59:27.170189Z",
     "iopub.status.busy": "2024-02-01T22:59:27.169593Z",
     "iopub.status.idle": "2024-02-01T22:59:27.175135Z",
     "shell.execute_reply": "2024-02-01T22:59:27.174227Z"
    },
    "papermill": {
     "duration": 0.027579,
     "end_time": "2024-02-01T22:59:27.177277",
     "exception": false,
     "start_time": "2024-02-01T22:59:27.149698",
     "status": "completed"
    },
    "tags": [
     "injected-parameters"
    ]
   },
   "outputs": [],
   "source": [
    "# Parameters\n",
    "PAPERMILL_INPUT_PATH = \"nb-templates/step-diversity-analysis.ipynb\"\n",
    "PAPERMILL_OUTPUT_PATH = \"/home/lauro/nupeb/rede-micro/redemicro-ana-flavia-nutri/experiments/ana-flavia-HSD-NCxHSD-NR-trim/nb-executed-steps/step-diversity-analysis-ana-flavia-HSD-NCxHSD-NR-trim.ipynb\"\n",
    "experiment_name = \"ana-flavia-HSD-NCxHSD-NR-trim\"\n",
    "base_dir = \"/home/lauro/nupeb/rede-micro/redemicro-ana-flavia-nutri\"\n",
    "manifest_file = \"/home/lauro/nupeb/rede-micro/redemicro-ana-flavia-nutri/data/raw/manifest/manifest-ana-flavia-HSD-NCxHSD-NR.csv\"\n",
    "metadata_file = \"/home/lauro/nupeb/rede-micro/redemicro-ana-flavia-nutri/data/raw/metadata/metadata-ana-flavia-HSD-NCxHSD-NR.tsv\"\n",
    "class_col = \"group-id\"\n",
    "classifier_file = \"/home/lauro/nupeb/rede-micro/models/silva-138-99-nb-classifier.qza\"\n",
    "top_n = 20\n",
    "replace_files = False\n",
    "phred = 20\n",
    "trunc_f = 0\n",
    "trunc_r = 0\n",
    "overlap = 12\n",
    "threads = 6\n",
    "trim = {\n",
    "    \"overlap\": 8,\n",
    "    \"forward_primer\": \"CCTACGGGRSGCAGCAG\",\n",
    "    \"reverse_primer\": \"GGACTACHVGGGTWTCTAAT\",\n",
    "}\n"
   ]
  },
  {
   "cell_type": "code",
   "execution_count": 4,
   "id": "f38617d9",
   "metadata": {
    "ExecuteTime": {
     "end_time": "2022-09-29T20:54:14.804575Z",
     "start_time": "2022-09-29T20:54:14.794927Z"
    },
    "execution": {
     "iopub.execute_input": "2024-02-01T22:59:27.216337Z",
     "iopub.status.busy": "2024-02-01T22:59:27.216122Z",
     "iopub.status.idle": "2024-02-01T22:59:27.219713Z",
     "shell.execute_reply": "2024-02-01T22:59:27.219212Z"
    },
    "papermill": {
     "duration": 0.023891,
     "end_time": "2024-02-01T22:59:27.221115",
     "exception": false,
     "start_time": "2024-02-01T22:59:27.197224",
     "status": "completed"
    },
    "tags": []
   },
   "outputs": [],
   "source": [
    "experiment_folder = os.path.abspath(os.path.join(base_dir, 'experiments', experiment_name))\n",
    "img_folder = os.path.abspath(os.path.join(experiment_folder, 'imgs'))"
   ]
  },
  {
   "cell_type": "markdown",
   "id": "ea9b90fb",
   "metadata": {
    "papermill": {
     "duration": 0.017941,
     "end_time": "2024-02-01T22:59:27.256982",
     "exception": false,
     "start_time": "2024-02-01T22:59:27.239041",
     "status": "completed"
    },
    "tags": []
   },
   "source": [
    "### Defining names, paths and flags"
   ]
  },
  {
   "cell_type": "code",
   "execution_count": 5,
   "id": "45727eef",
   "metadata": {
    "ExecuteTime": {
     "end_time": "2022-09-29T20:54:14.816686Z",
     "start_time": "2022-09-29T20:54:14.806238Z"
    },
    "execution": {
     "iopub.execute_input": "2024-02-01T22:59:27.292953Z",
     "iopub.status.busy": "2024-02-01T22:59:27.292746Z",
     "iopub.status.idle": "2024-02-01T22:59:27.298347Z",
     "shell.execute_reply": "2024-02-01T22:59:27.297826Z"
    },
    "papermill": {
     "duration": 0.0253,
     "end_time": "2024-02-01T22:59:27.299878",
     "exception": false,
     "start_time": "2024-02-01T22:59:27.274578",
     "status": "completed"
    },
    "tags": []
   },
   "outputs": [],
   "source": [
    "# QIIME2 Artifacts folder\n",
    "qiime_folder = os.path.join(experiment_folder, 'qiime-artifacts')\n",
    "\n",
    "# Input - DADA2 Artifacts\n",
    "dada2_tabs_path = os.path.join(qiime_folder, 'dada2-tabs.qza')\n",
    "dada2_reps_path = os.path.join(qiime_folder, 'dada2-reps.qza')\n",
    "dada2_stat_path = os.path.join(qiime_folder, 'dada2-stat.qza')\n",
    "\n",
    "# Input - Taxonaomic Artifacts\n",
    "taxonomy_path = os.path.join(qiime_folder, 'metatax.qza')\n",
    "\n",
    "# Create folder to store Alpha files\n",
    "alpha_path = os.path.join(qiime_folder, 'alpha-analysis')\n",
    "if not os.path.exists(alpha_path):\n",
    "    os.makedirs(alpha_path)\n",
    "    print(f'The new directory is created in {alpha_path}')\n",
    "    \n",
    "# Create folder to store Beta files\n",
    "beta_path = os.path.join(qiime_folder, 'beta-analysis')\n",
    "if not os.path.exists(beta_path):\n",
    "    os.makedirs(beta_path)\n",
    "    print(f'The new directory is created in {beta_path}')\n",
    "\n",
    "# Output -Diversity Artifacts\n",
    "alpha_diversity_path = os.path.join(alpha_path, 'alpha-diversity.qza')\n",
    "alpha_diversity_view_path = os.path.join(alpha_path, 'alpha-diversity.qzv')\n",
    "beta_diversity_path = os.path.join(beta_path, 'beta-diversity.qza')\n",
    "beta_diversity_view_path = os.path.join(beta_path, 'beta-diversity.qzv')"
   ]
  },
  {
   "cell_type": "code",
   "execution_count": 6,
   "id": "601ae263",
   "metadata": {
    "ExecuteTime": {
     "end_time": "2022-09-29T20:54:14.829117Z",
     "start_time": "2022-09-29T20:54:14.818272Z"
    },
    "execution": {
     "iopub.execute_input": "2024-02-01T22:59:27.339062Z",
     "iopub.status.busy": "2024-02-01T22:59:27.338768Z",
     "iopub.status.idle": "2024-02-01T22:59:27.346241Z",
     "shell.execute_reply": "2024-02-01T22:59:27.345551Z"
    },
    "papermill": {
     "duration": 0.029132,
     "end_time": "2024-02-01T22:59:27.347939",
     "exception": false,
     "start_time": "2024-02-01T22:59:27.318807",
     "status": "completed"
    },
    "tags": []
   },
   "outputs": [],
   "source": [
    "def filter_and_collapse(tab, seqs, tax, meta, lvl, exclude=True, exclude_list='uncultured,unidentified,metagenome'):\n",
    "    from qiime2.plugins.taxa.methods import collapse\n",
    "    from qiime2.plugins.taxa.methods import filter_table\n",
    "    from qiime2.plugins.feature_table.methods import filter_seqs\n",
    "    from qiime2.plugins.feature_table.visualizers import summarize\n",
    "    \n",
    "    to_include = ('d', 'p', 'c', 'o', 'f', 'g', 's')[lvl-1]\n",
    "    to_include += '__'\n",
    "    to_exclude = exclude_list if exclude else None\n",
    "    \n",
    "    filtered_tabs = filter_table(\n",
    "        table=tab, \n",
    "        taxonomy=tax,\n",
    "        include=to_include,\n",
    "        exclude=to_exclude,\n",
    "        mode='contains').filtered_table\n",
    "    \n",
    "    filtered_seqs = filter_seqs(\n",
    "        data = seqs,\n",
    "        table = filtered_tabs,\n",
    "    ).filtered_data\n",
    "    \n",
    "    collapsed_table = collapse(table=filtered_tabs, taxonomy=tax, level=lvl).collapsed_table\n",
    "    collapsed_table_view = summarize(table=collapsed_table, sample_metadata=meta).visualization\n",
    "    \n",
    "    return collapsed_table, collapsed_table_view, filtered_seqs"
   ]
  },
  {
   "cell_type": "markdown",
   "id": "0999a1b2",
   "metadata": {
    "papermill": {
     "duration": 0.017769,
     "end_time": "2024-02-01T22:59:27.385491",
     "exception": false,
     "start_time": "2024-02-01T22:59:27.367722",
     "status": "completed"
    },
    "tags": []
   },
   "source": [
    "## Step execution\n",
    "\n",
    "### Load input files\n",
    "\n",
    "This Step import the QIIME2 `FeatureTable[Frequency]` Artifact and the `Metadata` file."
   ]
  },
  {
   "cell_type": "code",
   "execution_count": 7,
   "id": "8f299d1a",
   "metadata": {
    "ExecuteTime": {
     "end_time": "2022-09-29T20:54:15.559837Z",
     "start_time": "2022-09-29T20:54:14.830405Z"
    },
    "execution": {
     "iopub.execute_input": "2024-02-01T22:59:27.422732Z",
     "iopub.status.busy": "2024-02-01T22:59:27.422245Z",
     "iopub.status.idle": "2024-02-01T22:59:28.911111Z",
     "shell.execute_reply": "2024-02-01T22:59:28.910065Z"
    },
    "papermill": {
     "duration": 1.511097,
     "end_time": "2024-02-01T22:59:28.914610",
     "exception": false,
     "start_time": "2024-02-01T22:59:27.403513",
     "status": "completed"
    },
    "tags": []
   },
   "outputs": [],
   "source": [
    "#Load Metadata\n",
    "metadata_qa = Metadata.load(metadata_file)\n",
    "\n",
    "#Load FeatureTable[Frequency]\n",
    "tabs = Artifact.load(dada2_tabs_path)\n",
    "tabs_df = tabs.view(Metadata).to_dataframe().T\n",
    "\n",
    "# FeatureData[Sequence]\n",
    "reps = Artifact.load(dada2_reps_path)\n",
    "\n",
    "# FeatureData[Taxonomy]\n",
    "tax = Artifact.load(taxonomy_path)"
   ]
  },
  {
   "cell_type": "code",
   "execution_count": 8,
   "id": "c8dfe530",
   "metadata": {
    "ExecuteTime": {
     "end_time": "2022-09-29T20:54:15.564968Z",
     "start_time": "2022-09-29T20:54:15.561875Z"
    },
    "execution": {
     "iopub.execute_input": "2024-02-01T22:59:28.963825Z",
     "iopub.status.busy": "2024-02-01T22:59:28.963316Z",
     "iopub.status.idle": "2024-02-01T22:59:30.089573Z",
     "shell.execute_reply": "2024-02-01T22:59:30.088873Z"
    },
    "papermill": {
     "duration": 1.150967,
     "end_time": "2024-02-01T22:59:30.092787",
     "exception": false,
     "start_time": "2024-02-01T22:59:28.941820",
     "status": "completed"
    },
    "tags": []
   },
   "outputs": [
    {
     "name": "stdout",
     "output_type": "stream",
     "text": [
      "{'min_frequency': 0, 'max_frequency': None, 'min_features': 0, 'max_features': None, 'metadata': Metadata\n",
      "--------\n",
      "15 IDs x 3 columns\n",
      "sample-name: ColumnProperties(type='categorical')\n",
      "group-id:    ColumnProperties(type='categorical')\n",
      "group-desc:  ColumnProperties(type='categorical')\n",
      "\n",
      "Call to_dataframe() for a tabular representation., 'where': None, 'exclude_ids': False, 'filter_empty_features': True, 'table': 2732 x 74 <class 'biom.table.Table'> with 12512 nonzero entries (6% dense)}\n",
      "{'min_frequency': 0, 'max_frequency': None, 'min_features': 0, 'max_features': None, 'metadata': Metadata\n",
      "--------\n",
      "15 IDs x 3 columns\n",
      "sample-name: ColumnProperties(type='categorical')\n",
      "group-id:    ColumnProperties(type='categorical')\n",
      "group-desc:  ColumnProperties(type='categorical')\n",
      "\n",
      "Call to_dataframe() for a tabular representation., 'where': None, 'exclude_ids': False, 'filter_empty_features': True, 'table': 2732 x 74 <class 'biom.table.Table'> with 12512 nonzero entries (6% dense)}\n"
     ]
    },
    {
     "name": "stdout",
     "output_type": "stream",
     "text": [
      "{'metadata': None, 'where': None, 'exclude_ids': False, 'data': c688e3b1ada46ed57f5b7e7e0d56664f    (((T)), ((G)), ((A)), ((G)), ((G)), ((A)), ((A...\n",
      "bc798de4a9acd3ff7ba51c244523be14    (((T)), ((G)), ((A)), ((G)), ((G)), ((A)), ((A...\n",
      "fca5b1ccd94b107a3ddf3e99feaafb6f    (((T)), ((G)), ((A)), ((G)), ((G)), ((A)), ((A...\n",
      "5ba9e679e692fcbf933c554317e03c5f    (((T)), ((A)), ((G)), ((G)), ((G)), ((A)), ((A...\n",
      "04581eba9e6fd12787fb5948fcef030f    (((T)), ((G)), ((A)), ((G)), ((G)), ((A)), ((A...\n",
      "                                                          ...                        \n",
      "dbc83a2f59a61f2cc57971a85718406b    (((T)), ((G)), ((G)), ((G)), ((G)), ((A)), ((A...\n",
      "4393f0be1354f7198d1969c44d34d44a    (((T)), ((G)), ((A)), ((G)), ((G)), ((A)), ((A...\n",
      "a86e1aaa4715133f8fa2c0f52e03e6d7    (((T)), ((G)), ((G)), ((G)), ((G)), ((A)), ((A...\n",
      "aa37170c6d59f9077a2644f8c25df05d    (((T)), ((G)), ((G)), ((G)), ((G)), ((A)), ((A...\n",
      "9c3f20cb7568feda60cc7776400d8d64    (((G)), ((A)), ((A)), ((A)), ((T)), ((G)), ((C...\n",
      "Length: 2732, dtype: object, 'table': 909 x 15 <class 'biom.table.Table'> with 1956 nonzero entries (14% dense)}\n"
     ]
    },
    {
     "name": "stdout",
     "output_type": "stream",
     "text": [
      "{'metadata': None, 'where': None, 'exclude_ids': False, 'data': c688e3b1ada46ed57f5b7e7e0d56664f    (((T)), ((G)), ((A)), ((G)), ((G)), ((A)), ((A...\n",
      "bc798de4a9acd3ff7ba51c244523be14    (((T)), ((G)), ((A)), ((G)), ((G)), ((A)), ((A...\n",
      "fca5b1ccd94b107a3ddf3e99feaafb6f    (((T)), ((G)), ((A)), ((G)), ((G)), ((A)), ((A...\n",
      "5ba9e679e692fcbf933c554317e03c5f    (((T)), ((A)), ((G)), ((G)), ((G)), ((A)), ((A...\n",
      "04581eba9e6fd12787fb5948fcef030f    (((T)), ((G)), ((A)), ((G)), ((G)), ((A)), ((A...\n",
      "                                                          ...                        \n",
      "dbc83a2f59a61f2cc57971a85718406b    (((T)), ((G)), ((G)), ((G)), ((G)), ((A)), ((A...\n",
      "4393f0be1354f7198d1969c44d34d44a    (((T)), ((G)), ((A)), ((G)), ((G)), ((A)), ((A...\n",
      "a86e1aaa4715133f8fa2c0f52e03e6d7    (((T)), ((G)), ((G)), ((G)), ((G)), ((A)), ((A...\n",
      "aa37170c6d59f9077a2644f8c25df05d    (((T)), ((G)), ((G)), ((G)), ((G)), ((A)), ((A...\n",
      "9c3f20cb7568feda60cc7776400d8d64    (((G)), ((A)), ((A)), ((A)), ((T)), ((G)), ((C...\n",
      "Length: 2732, dtype: object, 'table': 909 x 15 <class 'biom.table.Table'> with 1956 nonzero entries (14% dense)}\n"
     ]
    }
   ],
   "source": [
    "# Filter FeatureTable[Frequency | RelativeFrequency | PresenceAbsence | Composition] based on Metadata sample ID values\n",
    "tabs = filter_samples(\n",
    "    table=tabs,\n",
    "    metadata=metadata_qa,\n",
    ").filtered_table\n",
    "# Filter SampleData[SequencesWithQuality | PairedEndSequencesWithQuality | JoinedSequencesWithQuality] based on Metadata sample ID values; returns FeatureData[Sequence | AlignedSequence]\n",
    "reps = filter_seqs(\n",
    "    data=reps,\n",
    "    table=tabs,\n",
    ").filtered_data"
   ]
  },
  {
   "cell_type": "markdown",
   "id": "9f43843a",
   "metadata": {
    "ExecuteTime": {
     "end_time": "2022-09-22T22:48:07.523952Z",
     "start_time": "2022-09-22T22:48:07.517565Z"
    },
    "papermill": {
     "duration": 0.019782,
     "end_time": "2024-02-01T22:59:30.141190",
     "exception": false,
     "start_time": "2024-02-01T22:59:30.121408",
     "status": "completed"
    },
    "tags": []
   },
   "source": [
    "## Alpha diversity analysis\n",
    "\n",
    "#### Reference\n",
    "- [The Use and Types of Alpha-Diversity Metrics in Microbial NGS](https://www.cd-genomics.com/microbioseq/the-use-and-types-of-alpha-diversity-metrics-in-microbial-ngs.html)\n",
    "- [Alpha diversity metrics](http://scikit-bio.org/docs/0.2.0/generated/skbio.diversity.alpha.html)\n",
    "\n",
    "#### Methods\n",
    "- [diversity alpha](https://docs.qiime2.org/2022.8/plugins/available/diversity/alpha/): Computes a user-specified alpha diversity metric for all samples in a\n",
    "feature table.\n",
    "- [diversity alpha_phylogenetic](https://docs.qiime2.org/2022.8/plugins/available/diversity/alpha-phylogenetic/): Computes a user-specified phylogenetic alpha diversity metric for all\n",
    "samples in a feature table.\n",
    "- [diversity alpha_correlation](https://docs.qiime2.org/2022.8/plugins/available/diversity/alpha-correlation/): Determine whether numeric sample metadata columns are correlated with alpha diversity.\n",
    "- [diversity alpha_group_significance](https://docs.qiime2.org/2022.8/plugins/available/diversity/alpha-group-significance/): Visually and statistically compare groups of alpha diversity values."
   ]
  },
  {
   "cell_type": "markdown",
   "id": "606b9c75",
   "metadata": {
    "papermill": {
     "duration": 0.034418,
     "end_time": "2024-02-01T22:59:30.195441",
     "exception": false,
     "start_time": "2024-02-01T22:59:30.161023",
     "status": "completed"
    },
    "tags": []
   },
   "source": [
    "### Compute Alpha Diversity vectors\n",
    "- [diversity alpha](https://docs.qiime2.org/2022.8/plugins/available/diversity/alpha/): Computes a user-specified alpha diversity metric for all samples in a feature table.\n",
    "- [Alpha diversity metrics](http://scikit-bio.org/docs/0.2.0/generated/skbio.diversity.alpha.html)\n",
    " - Choices: ('ace', 'berger_parker_d', 'brillouin_d', 'chao1', 'chao1_ci', 'dominance', 'doubles', 'enspie', 'esty_ci', 'fisher_alpha', 'gini_index', 'goods_coverage', 'heip_e', 'kempton_taylor_q', 'lladser_pe', 'margalef', 'mcintosh_d', 'mcintosh_e', 'menhinick', 'michaelis_menten_fit', 'observed_features', 'osd', 'pielou_e', 'robbins', 'shannon', 'simpson', 'simpson_e', 'singles', 'strong')"
   ]
  },
  {
   "cell_type": "code",
   "execution_count": 9,
   "id": "556e5264",
   "metadata": {
    "ExecuteTime": {
     "end_time": "2022-09-29T20:54:20.790166Z",
     "start_time": "2022-09-29T20:54:20.451134Z"
    },
    "execution": {
     "iopub.execute_input": "2024-02-01T22:59:30.289428Z",
     "iopub.status.busy": "2024-02-01T22:59:30.288918Z",
     "iopub.status.idle": "2024-02-01T22:59:30.729488Z",
     "shell.execute_reply": "2024-02-01T22:59:30.728707Z"
    },
    "papermill": {
     "duration": 0.491153,
     "end_time": "2024-02-01T22:59:30.732829",
     "exception": false,
     "start_time": "2024-02-01T22:59:30.241676",
     "status": "completed"
    },
    "tags": []
   },
   "outputs": [
    {
     "name": "stdout",
     "output_type": "stream",
     "text": [
      "Calculating alpha diversity: chao1\n",
      "{'metric': 'chao1', 'table': <artifact: FeatureTable[Frequency] uuid: 401de62e-7dda-472e-be1d-cf3285a80260>}\n",
      "{'metric': 'chao1', 'table': 909 x 15 <class 'biom.table.Table'> with 1956 nonzero entries (14% dense)}\n",
      "{'metric': 'chao1', 'table': 909 x 15 <class 'biom.table.Table'> with 1956 nonzero entries (14% dense)}\n",
      "DONE: Calculating alpha diversity: chao1\n",
      "Calculating alpha diversity: chao1_ci\n",
      "{'metric': 'chao1_ci', 'table': <artifact: FeatureTable[Frequency] uuid: 401de62e-7dda-472e-be1d-cf3285a80260>}\n",
      "{'metric': 'chao1_ci', 'table': 909 x 15 <class 'biom.table.Table'> with 1956 nonzero entries (14% dense)}\n",
      "{'metric': 'chao1_ci', 'table': 909 x 15 <class 'biom.table.Table'> with 1956 nonzero entries (14% dense)}\n",
      "DONE: Calculating alpha diversity: chao1_ci\n",
      "Calculating alpha diversity: observed_features\n",
      "{'metric': 'observed_features', 'table': <artifact: FeatureTable[Frequency] uuid: 401de62e-7dda-472e-be1d-cf3285a80260>}\n",
      "{'table': 909 x 15 <class 'biom.table.Table'> with 1956 nonzero entries (14% dense)}\n",
      "{'table': 909 x 15 <class 'biom.table.Table'> with 1956 nonzero entries (14% dense)}\n"
     ]
    },
    {
     "name": "stdout",
     "output_type": "stream",
     "text": [
      "DONE: Calculating alpha diversity: observed_features\n",
      "Calculating alpha diversity: shannon\n",
      "{'metric': 'shannon', 'table': <artifact: FeatureTable[Frequency] uuid: 401de62e-7dda-472e-be1d-cf3285a80260>}\n",
      "{'drop_undefined_samples': False, 'table': 909 x 15 <class 'biom.table.Table'> with 1956 nonzero entries (14% dense)}\n",
      "{'drop_undefined_samples': False, 'table': 909 x 15 <class 'biom.table.Table'> with 1956 nonzero entries (14% dense)}\n",
      "DONE: Calculating alpha diversity: shannon\n",
      "Calculating alpha diversity: simpson\n",
      "{'metric': 'simpson', 'table': <artifact: FeatureTable[Frequency] uuid: 401de62e-7dda-472e-be1d-cf3285a80260>}\n",
      "{'metric': 'simpson', 'table': 909 x 15 <class 'biom.table.Table'> with 1956 nonzero entries (14% dense)}\n",
      "{'metric': 'simpson', 'table': 909 x 15 <class 'biom.table.Table'> with 1956 nonzero entries (14% dense)}\n",
      "DONE: Calculating alpha diversity: simpson\n",
      "Calculating alpha diversity: simpson_e\n",
      "{'metric': 'simpson_e', 'table': <artifact: FeatureTable[Frequency] uuid: 401de62e-7dda-472e-be1d-cf3285a80260>}\n",
      "{'metric': 'simpson_e', 'table': 909 x 15 <class 'biom.table.Table'> with 1956 nonzero entries (14% dense)}\n",
      "{'metric': 'simpson_e', 'table': 909 x 15 <class 'biom.table.Table'> with 1956 nonzero entries (14% dense)}\n"
     ]
    },
    {
     "name": "stdout",
     "output_type": "stream",
     "text": [
      "DONE: Calculating alpha diversity: simpson_e\n"
     ]
    }
   ],
   "source": [
    "metrics = ('ace', 'berger_parker_d', 'brillouin_d', 'chao1', 'chao1_ci', 'dominance', 'doubles', 'enspie', 'esty_ci', 'fisher_alpha', 'gini_index', 'goods_coverage', 'heip_e', 'kempton_taylor_q', 'lladser_pe', 'margalef', 'mcintosh_d', 'mcintosh_e', 'menhinick', 'michaelis_menten_fit', 'observed_features', 'osd', 'pielou_e', 'robbins', 'shannon', 'simpson', 'simpson_e', 'singles', 'strong')\n",
    "\n",
    "# Sugestão de valores para Alpha diversity\n",
    "# chao1 e observed_features (riqueza); shannon e simpson (diversidade - que levam em consideração riqueza e equitabilidade).\n",
    "metrics = ('chao1', 'chao1_ci', 'observed_features', 'shannon', 'simpson', 'simpson_e')\n",
    "alpha_diversities = dict()\n",
    "for metric in metrics:\n",
    "    print(f\"Calculating alpha diversity: {metric}\")\n",
    "    try:\n",
    "        alpha_diversity = alpha(table=tabs, metric=metric).alpha_diversity\n",
    "        alpha_diversities[metric] = alpha_diversity\n",
    "        # Save SampleData[AlphaDiversity] Artifact\n",
    "        file_path = os.path.join(alpha_path, f'alpha-values-{metric}.qza')\n",
    "        alpha_diversity.save(file_path)\n",
    "        print(f\"DONE: Calculating alpha diversity: {metric}\")\n",
    "    except Exception as e:\n",
    "        print(f\"ERROR: Calculating alpha diversity: {metric}\")\n",
    "        print(e)"
   ]
  },
  {
   "cell_type": "markdown",
   "id": "184bcb7b",
   "metadata": {
    "papermill": {
     "duration": 0.020808,
     "end_time": "2024-02-01T22:59:30.777770",
     "exception": false,
     "start_time": "2024-02-01T22:59:30.756962",
     "status": "completed"
    },
    "tags": []
   },
   "source": [
    "### Create Phylogenetic inference\n",
    "\n",
    "- [alignment align_to_tree_mafft_fasttree](https://docs.qiime2.org/2022.8/plugins/available/phylogeny/align-to-tree-mafft-fasttree/): Build a phylogenetic tree using fasttree and mafft alignment\n",
    "\n",
    "This pipeline will start by creating a sequence alignment using MAFFT,\n",
    "after which any alignment columns that are phylogenetically uninformative\n",
    "or ambiguously aligned will be removed (masked). The resulting masked\n",
    "alignment will be used to infer a phylogenetic tree and then subsequently\n",
    "rooted at its midpoint. Output files from each step of the pipeline will be\n",
    "saved. This includes both the unmasked and masked MAFFT alignment from\n",
    "q2-alignment methods, and both the rooted and unrooted phylogenies from\n",
    "q2-phylogeny methods.\n",
    "\n",
    "\n",
    "Returns\n",
    "- alignment : FeatureData[AlignedSequence] : The aligned sequences.\n",
    "- masked_alignment : FeatureData[AlignedSequence] : The masked alignment.\n",
    "- tree : Phylogeny[Unrooted] : The unrooted phylogenetic tree.\n",
    "- rooted_tree : Phylogeny[Rooted] : The rooted phylogenetic tree."
   ]
  },
  {
   "cell_type": "code",
   "execution_count": 10,
   "id": "9c8cfe47",
   "metadata": {
    "ExecuteTime": {
     "end_time": "2022-09-29T20:54:35.139531Z",
     "start_time": "2022-09-29T20:54:20.792130Z"
    },
    "execution": {
     "iopub.execute_input": "2024-02-01T22:59:30.820717Z",
     "iopub.status.busy": "2024-02-01T22:59:30.820278Z",
     "iopub.status.idle": "2024-02-01T22:59:46.445914Z",
     "shell.execute_reply": "2024-02-01T22:59:46.445133Z"
    },
    "papermill": {
     "duration": 15.649852,
     "end_time": "2024-02-01T22:59:46.448275",
     "exception": false,
     "start_time": "2024-02-01T22:59:30.798423",
     "status": "completed"
    },
    "tags": []
   },
   "outputs": [
    {
     "name": "stdout",
     "output_type": "stream",
     "text": [
      "{'n_threads': 6, 'mask_max_gap_frequency': 1.0, 'mask_min_conservation': 0.4, 'parttree': False, 'sequences': <artifact: FeatureData[Sequence] uuid: e8ef7ef1-217d-4a5d-8ea9-bb1720aefa42>}\n",
      "{'n_threads': 6, 'parttree': False, 'sequences': <q2_types.feature_data._format.DNAFASTAFormat object at 0x7fed43d42a90>}\n",
      "{'n_threads': 6, 'parttree': False, 'sequences': <q2_types.feature_data._format.DNAFASTAFormat object at 0x7fed43d42a90>}\n",
      "Running external command line application. This may print messages to stdout and/or stderr.\n",
      "The command being run is below. This command cannot be manually re-run as it will depend on temporary files that no longer exist.\n",
      "\n",
      "Command: mafft --preservecase --inputorder --thread 6 /tmp/qiime2-archive-ujtzz5pl/e8ef7ef1-217d-4a5d-8ea9-bb1720aefa42/data/dna-sequences.fasta\n",
      "\n"
     ]
    },
    {
     "name": "stderr",
     "output_type": "stream",
     "text": [
      "inputfile = orig\n",
      "909 x 430 - 262 d\n",
      "nthread = 6\n",
      "nthreadpair = 6\n",
      "nthreadtb = 6\n",
      "ppenalty_ex = 0\n",
      "stacksize: 8192 kb\n",
      "generating a scoring matrix for nucleotide (dist=200) ... done\n",
      "Gap Penalty = -1.53, +0.00, +0.00\n",
      "\n",
      "\n",
      "\n",
      "Making a distance matrix ..\n",
      "\r",
      "    1 / 909 (thread    0)\r",
      "  101 / 909 (thread    0)\r",
      "  201 / 909 (thread    2)\r",
      "  301 / 909 (thread    5)\r",
      "  401 / 909 (thread    2)\r",
      "  501 / 909 (thread    4)\r",
      "  601 / 909 (thread    3)\r",
      "  701 / 909 (thread    5)"
     ]
    },
    {
     "name": "stderr",
     "output_type": "stream",
     "text": [
      "\r",
      "  801 / 909 (thread    0)\r",
      "  901 / 909 (thread    2)\n",
      "done.\n",
      "\n",
      "Constructing a UPGMA tree (efffree=0) ... \n",
      "\r",
      "    0 / 909\r",
      "   10 / 909\r",
      "   20 / 909\r",
      "   30 / 909\r",
      "   40 / 909\r",
      "   50 / 909\r",
      "   60 / 909\r",
      "   70 / 909\r",
      "   80 / 909\r",
      "   90 / 909\r",
      "  100 / 909\r",
      "  110 / 909\r",
      "  120 / 909\r",
      "  130 / 909\r",
      "  140 / 909\r",
      "  150 / 909\r",
      "  160 / 909\r",
      "  170 / 909\r",
      "  180 / 909\r",
      "  190 / 909\r",
      "  200 / 909\r",
      "  210 / 909\r",
      "  220 / 909\r",
      "  230 / 909\r",
      "  240 / 909\r",
      "  250 / 909\r",
      "  260 / 909\r",
      "  270 / 909\r",
      "  280 / 909\r",
      "  290 / 909\r",
      "  300 / 909\r",
      "  310 / 909\r",
      "  320 / 909\r",
      "  330 / 909\r",
      "  340 / 909\r",
      "  350 / 909\r",
      "  360 / 909\r",
      "  370 / 909\r",
      "  380 / 909\r",
      "  390 / 909\r",
      "  400 / 909\r",
      "  410 / 909\r",
      "  420 / 909\r",
      "  430 / 909\r",
      "  440 / 909\r",
      "  450 / 909\r",
      "  460 / 909\r",
      "  470 / 909\r",
      "  480 / 909\r",
      "  490 / 909\r",
      "  500 / 909\r",
      "  510 / 909\r",
      "  520 / 909\r",
      "  530 / 909\r",
      "  540 / 909\r",
      "  550 / 909\r",
      "  560 / 909\r",
      "  570 / 909\r",
      "  580 / 909\r",
      "  590 / 909\r",
      "  600 / 909\r",
      "  610 / 909\r",
      "  620 / 909\r",
      "  630 / 909\r",
      "  640 / 909\r",
      "  650 / 909\r",
      "  660 / 909\r",
      "  670 / 909\r",
      "  680 / 909\r",
      "  690 / 909\r",
      "  700 / 909\r",
      "  710 / 909\r",
      "  720 / 909\r",
      "  730 / 909\r",
      "  740 / 909\r",
      "  750 / 909\r",
      "  760 / 909\r",
      "  770 / 909\r",
      "  780 / 909\r",
      "  790 / 909\r",
      "  800 / 909\r",
      "  810 / 909\r",
      "  820 / 909\r",
      "  830 / 909\r",
      "  840 / 909\r",
      "  850 / 909\r",
      "  860 / 909\r",
      "  870 / 909\r",
      "  880 / 909\r",
      "  890 / 909\r",
      "  900 / 909\n",
      "done.\n",
      "\n",
      "Progressive alignment 1/2... \n",
      "\r",
      "STEP     1 / 908 (thread    0) f\b\b\r",
      "STEP     2 / 908 (thread    1) f\b\b\r",
      "STEP     3 / 908 (thread    2) f\b\b\r",
      "STEP     4 / 908 (thread    3) f\b\b\r",
      "STEP     5 / 908 (thread    4) f\b\b\r",
      "STEP     6 / 908 (thread    5) f\b\b\r",
      "STEP     7 / 908 (thread    4) f\b\b\r",
      "STEP     8 / 908 (thread    2) f\b\b\r",
      "STEP     9 / 908 (thread    4) f\b\b\r",
      "STEP    10 / 908 (thread    2) f\b\b\r",
      "STEP    11 / 908 (thread    3) f\b\b\r",
      "STEP    12 / 908 (thread    5) f\b\b\r",
      "STEP    13 / 908 (thread    0) f\b\b\r",
      "STEP    14 / 908 (thread    4) f\b\b\r",
      "STEP    15 / 908 (thread    2) f\b\b\r",
      "STEP    16 / 908 (thread    5) f\b\b\r",
      "STEP    17 / 908 (thread    0) f\b\b\r",
      "STEP    18 / 908 (thread    4) f\b\b\r",
      "STEP    19 / 908 (thread    1) f\b\b\r",
      "STEP    20 / 908 (thread    3) f\b\b\r",
      "STEP    21 / 908 (thread    2) f\b\b\r",
      "STEP    22 / 908 (thread    5) f\b\b\r",
      "STEP    23 / 908 (thread    4) f\b\b\r",
      "STEP    24 / 908 (thread    0) f\b\b\r",
      "STEP    25 / 908 (thread    2) f\b\b\r",
      "STEP    26 / 908 (thread    5) f\b\b\r",
      "STEP    27 / 908 (thread    2) f\b\b\r",
      "STEP    28 / 908 (thread    4) f\b\b\r",
      "STEP    29 / 908 (thread    3) f\b\b\r",
      "STEP    30 / 908 (thread    1) f\b\b\r",
      "STEP    31 / 908 (thread    0) f\b\b\r",
      "STEP    32 / 908 (thread    5) f\b\b\r",
      "STEP    33 / 908 (thread    2) f\b\b\r",
      "STEP    34 / 908 (thread    4) f\b\b\r",
      "STEP    35 / 908 (thread    2) f\b\b\r",
      "STEP    36 / 908 (thread    3) f\b\b\r",
      "STEP    37 / 908 (thread    1) f\b\b\r",
      "STEP    38 / 908 (thread    5) f\b\b\r",
      "STEP    39 / 908 (thread    2) f\b\b\r",
      "STEP    40 / 908 (thread    0) f\b\b\r",
      "STEP    41 / 908 (thread    4) f\b\b\r",
      "STEP    42 / 908 (thread    3) f\b\b\r",
      "STEP    43 / 908 (thread    2) f\b\b\r",
      "STEP    44 / 908 (thread    1) f\b\b\r",
      "STEP    45 / 908 (thread    5) f\b\b\r",
      "STEP    46 / 908 (thread    4) f\b\b\r",
      "STEP    47 / 908 (thread    0) f\b\b\r",
      "STEP    48 / 908 (thread    3) f\b\b\r",
      "STEP    49 / 908 (thread    5) f\b\b\r",
      "STEP    50 / 908 (thread    1) f\b\b\r",
      "STEP    51 / 908 (thread    2) f\b\b\r",
      "STEP    52 / 908 (thread    4) f\b\b\r",
      "STEP    53 / 908 (thread    3) f\b\b\r",
      "STEP    54 / 908 (thread    0) f\b\b\r",
      "STEP    55 / 908 (thread    2) f\b\b\r",
      "STEP    56 / 908 (thread    5) f\b\b\r",
      "STEP    57 / 908 (thread    1) f\b\b\r",
      "STEP    58 / 908 (thread    2) f\b\b\r",
      "STEP    59 / 908 (thread    5) f\b\b\r",
      "STEP    60 / 908 (thread    0) f\b\b\r",
      "STEP    61 / 908 (thread    2) f\b\b\r",
      "STEP    62 / 908 (thread    1) f\b\b\r",
      "STEP    63 / 908 (thread    2) f\b\b\r",
      "STEP    64 / 908 (thread    0) f\b\b\r",
      "STEP    65 / 908 (thread    4) f\b\b\r",
      "STEP    66 / 908 (thread    5) f\b\b\r",
      "STEP    67 / 908 (thread    3) f\b\b\r",
      "STEP    68 / 908 (thread    2) f\b\b\r",
      "STEP    69 / 908 (thread    1) f\b\b\r",
      "STEP    70 / 908 (thread    0) f\b\b\r",
      "STEP    71 / 908 (thread    2) f\b\b\r",
      "STEP    72 / 908 (thread    4) f\b\b\r",
      "STEP    73 / 908 (thread    5) f\b\b\r",
      "STEP    74 / 908 (thread    3) f\b\b\r",
      "STEP    75 / 908 (thread    0) f\b\b\r",
      "STEP    76 / 908 (thread    2) f\b\b\r",
      "STEP    77 / 908 (thread    1) f\b\b\r",
      "STEP    78 / 908 (thread    4) f\b\b\r",
      "STEP    79 / 908 (thread    5) f\b\b\r",
      "STEP    80 / 908 (thread    0) f\b\b\r",
      "STEP    81 / 908 (thread    3) f\b\b\r",
      "STEP    82 / 908 (thread    2) f\b\b\r",
      "STEP    83 / 908 (thread    0) f\b\b\r",
      "STEP    84 / 908 (thread    2) f\b\b\r",
      "STEP    85 / 908 (thread    1) f\b\b\r",
      "STEP    86 / 908 (thread    4) f\b\b\r",
      "STEP    87 / 908 (thread    5) f\b\b\r",
      "STEP    88 / 908 (thread    3) f\b\b\r",
      "STEP    89 / 908 (thread    0) f\b\b\r",
      "STEP    90 / 908 (thread    2) f\b\b\r",
      "STEP    91 / 908 (thread    1) f\b\b\r",
      "STEP    92 / 908 (thread    5) f\b\b\r",
      "STEP    93 / 908 (thread    2) f\b\b\r",
      "STEP    94 / 908 (thread    4) f\b\b\r",
      "STEP    95 / 908 (thread    3) f\b\b\r",
      "STEP    96 / 908 (thread    0) f\b\b\r",
      "STEP    97 / 908 (thread    2) f\b\b\r",
      "STEP    98 / 908 (thread    5) f\b\b\r",
      "STEP    99 / 908 (thread    1) f\b\b\r",
      "STEP   100 / 908 (thread    2) f\b\b\r",
      "STEP   101 / 908 (thread    0) f\b\b\r",
      "STEP   102 / 908 (thread    3) f\b\b\r",
      "STEP   103 / 908 (thread    4) f\b\b\r",
      "STEP   104 / 908 (thread    2) f\b\b\r",
      "STEP   105 / 908 (thread    0) f\b\b\r",
      "STEP   107 / 908 (thread    1) f\b\b\r",
      "STEP   109 / 908 (thread    3) f\b\b\r",
      "STEP   110 / 908 (thread    2) f\b\b\r",
      "STEP   106 / 908 (thread    5) f\b\b\r",
      "STEP   111 / 908 (thread    0) f\b\b\r",
      "STEP   108 / 908 (thread    4) f\b\b\r",
      "STEP   112 / 908 (thread    2) f\b\b\r",
      "STEP   113 / 908 (thread    0) f\b\b\r",
      "STEP   115 / 908 (thread    3) f\b\b\r",
      "STEP   116 / 908 (thread    5) f\b\b\r",
      "STEP   117 / 908 (thread    2) f\b\b\r",
      "STEP   114 / 908 (thread    1) f\b\b\r",
      "STEP   119 / 908 (thread    3) f\b\b\r",
      "STEP   118 / 908 (thread    4) f\b\b\r",
      "STEP   121 / 908 (thread    2) f\b\b\r",
      "STEP   122 / 908 (thread    5) f\b\b\r",
      "STEP   123 / 908 (thread    1) f\b\b\r",
      "STEP   124 / 908 (thread    2) f\b\b\r",
      "STEP   125 / 908 (thread    5) f\b\b\r",
      "STEP   126 / 908 (thread    4) f\b\b\r",
      "STEP   120 / 908 (thread    0) f\b\b\r",
      "STEP   127 / 908 (thread    1) f\b\b\r",
      "STEP   128 / 908 (thread    3) f\b\b\r",
      "STEP   129 / 908 (thread    2) f\b\b\r",
      "STEP   130 / 908 (thread    5) f\b\b\r",
      "STEP   131 / 908 (thread    0) f\b\b\r",
      "STEP   132 / 908 (thread    1) f\b\b\r",
      "STEP   133 / 908 (thread    2) f\b\b\r",
      "STEP   134 / 908 (thread    4) f\b\b\r",
      "STEP   135 / 908 (thread    2) f\b\b\r",
      "STEP   136 / 908 (thread    0) f\b\b\r",
      "STEP   137 / 908 (thread    3) f\b\b\r",
      "STEP   138 / 908 (thread    1) f\b\b\r",
      "STEP   139 / 908 (thread    2) f\b\b\r",
      "STEP   140 / 908 (thread    4) f\b\b\r",
      "STEP   141 / 908 (thread    0) f\b\b\r",
      "STEP   142 / 908 (thread    2) f\b\b\r",
      "STEP   143 / 908 (thread    3) f\b\b\r",
      "STEP   144 / 908 (thread    0) f\b\b\r",
      "STEP   145 / 908 (thread    5) f\b\b\r",
      "STEP   146 / 908 (thread    4) f\b\b\r",
      "STEP   147 / 908 (thread    2) f\b\b\r",
      "STEP   148 / 908 (thread    1) f\b\b\r",
      "STEP   149 / 908 (thread    0) f\b\b\r",
      "STEP   150 / 908 (thread    3) f\b\b\r",
      "STEP   151 / 908 (thread    2) f\b\b\r",
      "STEP   152 / 908 (thread    5) f\b\b\r",
      "STEP   153 / 908 (thread    4) f\b\b\r",
      "STEP   154 / 908 (thread    2) f\b\b\r",
      "STEP   155 / 908 (thread    1) f\b\b\r",
      "STEP   156 / 908 (thread    3) f\b\b\r",
      "STEP   157 / 908 (thread    0) f\b\b\r",
      "STEP   158 / 908 (thread    4) f\b\b\r",
      "STEP   159 / 908 (thread    2) f\b\b\r",
      "STEP   160 / 908 (thread    1) f\b\b\r",
      "STEP   161 / 908 (thread    0) f\b\b\r",
      "STEP   162 / 908 (thread    3) f\b\b\r",
      "STEP   163 / 908 (thread    4) f\b\b\r",
      "STEP   164 / 908 (thread    5) f\b\b\r",
      "STEP   165 / 908 (thread    1) f\b\b\r",
      "STEP   166 / 908 (thread    2) f\b\b\r",
      "STEP   167 / 908 (thread    3) f\b\b\r",
      "STEP   168 / 908 (thread    0) f\b\b\r",
      "STEP   169 / 908 (thread    4) f\b\b\r",
      "STEP   170 / 908 (thread    5) f\b\b\r",
      "STEP   171 / 908 (thread    2) f\b\b\r",
      "STEP   172 / 908 (thread    1) f\b\b\r",
      "STEP   173 / 908 (thread    0) f\b\b\r",
      "STEP   174 / 908 (thread    3) f\b\b\r",
      "STEP   175 / 908 (thread    2) f\b\b\r",
      "STEP   176 / 908 (thread    4) f\b\b\r",
      "STEP   177 / 908 (thread    5) f\b\b\r",
      "STEP   178 / 908 (thread    0) f\b\b\r",
      "STEP   179 / 908 (thread    1) f\b\b\r",
      "STEP   180 / 908 (thread    3) f\b\b\r",
      "STEP   181 / 908 (thread    2) f\b\b\r",
      "STEP   182 / 908 (thread    0) f\b\b\r",
      "STEP   183 / 908 (thread    5) f\b\b\r",
      "STEP   184 / 908 (thread    4) f\b\b\r",
      "STEP   185 / 908 (thread    2) f\b\b\r",
      "STEP   186 / 908 (thread    3) f\b\b\r",
      "STEP   187 / 908 (thread    1) f\b\b\r",
      "STEP   188 / 908 (thread    0) f\b\b\r",
      "STEP   189 / 908 (thread    2) f\b\b\r",
      "STEP   190 / 908 (thread    5) f\b\b\r",
      "STEP   191 / 908 (thread    0) f\b\b\r",
      "STEP   192 / 908 (thread    3) f\b\b\r",
      "STEP   193 / 908 (thread    0) f\b\b\r",
      "STEP   194 / 908 (thread    1) f\b\b\r",
      "STEP   195 / 908 (thread    4) f\b\b\r",
      "STEP   197 / 908 (thread    0) f\b\b\r",
      "STEP   198 / 908 (thread    3) f\b\b\r",
      "STEP   196 / 908 (thread    2) f\b\b\r",
      "STEP   200 / 908 (thread    4) f\b\b\r",
      "STEP   201 / 908 (thread    0) f\b\b\r",
      "STEP   202 / 908 (thread    1) f\b\b\r",
      "STEP   203 / 908 (thread    4) f\b\b\r",
      "STEP   204 / 908 (thread    2) f\b\b\r",
      "STEP   199 / 908 (thread    5) f\b\b\r",
      "STEP   205 / 908 (thread    0) f\b\b\r",
      "STEP   206 / 908 (thread    3) f\b\b\r",
      "STEP   207 / 908 (thread    1) f\b\b\r",
      "STEP   208 / 908 (thread    4) f\b\b\r",
      "STEP   209 / 908 (thread    0) f\b\b\r",
      "STEP   210 / 908 (thread    2) f\b\b\r",
      "STEP   211 / 908 (thread    4) f\b\b\r",
      "STEP   212 / 908 (thread    0) f\b\b\r",
      "STEP   213 / 908 (thread    5) f\b\b\r",
      "STEP   214 / 908 (thread    3) f\b\b\r",
      "STEP   215 / 908 (thread    4) f\b\b\r",
      "STEP   216 / 908 (thread    1) f\b\b\r",
      "STEP   217 / 908 (thread    0) f\b\b\r",
      "STEP   218 / 908 (thread    2) f\b\b\r",
      "STEP   219 / 908 (thread    4) f\b\b\r",
      "STEP   220 / 908 (thread    0) f\b\b\r",
      "STEP   221 / 908 (thread    0) f\b\b\r",
      "STEP   222 / 908 (thread    5) f\b\b\r",
      "STEP   223 / 908 (thread    4) f\b\b\r",
      "STEP   224 / 908 (thread    3) f\b\b\r",
      "STEP   225 / 908 (thread    1) f\b\b\r",
      "STEP   226 / 908 (thread    2) f\b\b\r",
      "STEP   227 / 908 (thread    0) f\b\b\r",
      "STEP   228 / 908 (thread    4) f\b\b\r",
      "STEP   229 / 908 (thread    0) f\b\b\r",
      "STEP   230 / 908 (thread    2) f\b\b\r",
      "STEP   231 / 908 (thread    5) f\b\b\r",
      "STEP   232 / 908 (thread    0) f\b\b\r",
      "STEP   233 / 908 (thread    3) f\b\b\r",
      "STEP   234 / 908 (thread    1) f\b\b\r",
      "STEP   235 / 908 (thread    2) f\b\b\r",
      "STEP   236 / 908 (thread    4) f\b\b\r",
      "STEP   237 / 908 (thread    5) f\b\b\r",
      "STEP   238 / 908 (thread    0) f\b\b\r",
      "STEP   239 / 908 (thread    3) f\b\b\r",
      "STEP   240 / 908 (thread    4) f\b\b\r",
      "STEP   241 / 908 (thread    1) f\b\b\r",
      "STEP   242 / 908 (thread    2) f\b\b\r",
      "STEP   243 / 908 (thread    5) f\b\b\r",
      "STEP   244 / 908 (thread    0) f\b\b\r",
      "STEP   246 / 908 (thread    3) f\b\b\r",
      "STEP   245 / 908 (thread    4) f\b\b\r",
      "STEP   247 / 908 (thread    0) f\b\b\r",
      "STEP   248 / 908 (thread    1) f\b\b\r",
      "STEP   249 / 908 (thread    2) f\b\b\r",
      "STEP   250 / 908 (thread    5) f\b\b\r",
      "STEP   251 / 908 (thread    0) f\b\b\r",
      "STEP   252 / 908 (thread    1) f\b\b\r",
      "STEP   253 / 908 (thread    4) f\b\b\r",
      "STEP   254 / 908 (thread    0) f\b\b\r",
      "STEP   256 / 908 (thread    2) f\b\b\r",
      "STEP   257 / 908 (thread    0) f\b\b\r",
      "STEP   258 / 908 (thread    5) f\b\b\r",
      "STEP   259 / 908 (thread    1)\r",
      "STEP   255 / 908 (thread    3) f\b\b f\b\b\r",
      "STEP   260 / 908 (thread    4) f\b\b\r",
      "STEP   261 / 908 (thread    0) f\b\b\r",
      "STEP   262 / 908 (thread    5) f\b\b\r",
      "STEP   263 / 908 (thread    1) f\b\b\r",
      "STEP   264 / 908 (thread    4) f\b\b\r",
      "STEP   265 / 908 (thread    0) f\b\b\r",
      "STEP   266 / 908 (thread    2) f\b\b\r",
      "STEP   268 / 908 (thread    3) f\b\b\r",
      "STEP   269 / 908 (thread    0) f\b\b\r",
      "STEP   271 / 908 (thread    2) f\b\b\r",
      "STEP   267 / 908 (thread    4) f\b\b\r",
      "STEP   272 / 908 (thread    0) f\b\b\r",
      "STEP   273 / 908 (thread    2) f\b\b\r",
      "STEP   274 / 908 (thread    1) f\b\b\r",
      "STEP   275 / 908 (thread    0) f\b\b\r",
      "STEP   276 / 908 (thread    2) f\b\b\r",
      "STEP   277 / 908 (thread    4) f\b\b\r",
      "STEP   278 / 908 (thread    0) f\b\b\r",
      "STEP   279 / 908 (thread    3) f\b\b\r",
      "STEP   270 / 908 (thread    5) f\b\b\r",
      "STEP   280 / 908 (thread    1) f\b\b\r",
      "STEP   281 / 908 (thread    2) f\b\b\r",
      "STEP   282 / 908 (thread    0) f\b\b\r",
      "STEP   283 / 908 (thread    4) f\b\b\r",
      "STEP   284 / 908 (thread    3) f\b\b\r",
      "STEP   285 / 908 (thread    1) f\b\b\r",
      "STEP   286 / 908 (thread    0) f\b\b\r",
      "STEP   287 / 908 (thread    4) f\b\b\r",
      "STEP   288 / 908 (thread    5) f\b\b\r",
      "STEP   289 / 908 (thread    0) f\b\b\r",
      "STEP   290 / 908 (thread    2) f\b\b\r",
      "STEP   291 / 908 (thread    4) f\b\b\r",
      "STEP   292 / 908 (thread    0) f\b\b\r",
      "STEP   293 / 908 (thread    3) f\b\b\r",
      "STEP   294 / 908 (thread    1) f\b\b\r",
      "STEP   295 / 908 (thread    4) f\b\b\r",
      "STEP   296 / 908 (thread    2) f\b\b\r",
      "STEP   297 / 908 (thread    0) f\b\b\r",
      "STEP   298 / 908 (thread    5) f\b\b\r",
      "STEP   299 / 908 (thread    4) f\b\b\r",
      "STEP   300 / 908 (thread    0) f\b\b\r",
      "STEP   301 / 908 (thread    3) f\b\b\r",
      "STEP   302 / 908 (thread    1) f\b\b\r",
      "STEP   303 / 908 (thread    2) f\b\b\r",
      "STEP   304 / 908 (thread    0) f\b\b\r",
      "STEP   305 / 908 (thread    4) f\b\b\r",
      "STEP   306 / 908 (thread    1) f\b\b\r",
      "STEP   307 / 908 (thread    5) f\b\b\r",
      "STEP   308 / 908 (thread    1) f\b\b\r",
      "STEP   309 / 908 (thread    0) f\b\b\r",
      "STEP   312 / 908 (thread    3) f\b\b\r",
      "STEP   313 / 908 (thread    5) f\b\b\r",
      "STEP   311 / 908 (thread    4) f\b\b\r",
      "STEP   314 / 908 (thread    0) f\b\b\r",
      "STEP   315 / 908 (thread    5) f\b\b\r",
      "STEP   316 / 908 (thread    4) f\b\b\r",
      "STEP   317 / 908 (thread    3) f\b\b\r",
      "STEP   318 / 908 (thread    1) f\b\b\r",
      "STEP   310 / 908 (thread    2) f\b\b\r",
      "STEP   319 / 908 (thread    0) f\b\b\r",
      "STEP   320 / 908 (thread    3) f\b\b\r",
      "STEP   321 / 908 (thread    1) f\b\b\r",
      "STEP   322 / 908 (thread    5) f\b\b\r",
      "STEP   323 / 908 (thread    4) f\b\b\r",
      "STEP   324 / 908 (thread    1) f\b\b\r",
      "STEP   325 / 908 (thread    0) f\b\b\r",
      "STEP   326 / 908 (thread    5) f\b\b\r",
      "STEP   327 / 908 (thread    4) f\b\b\r",
      "STEP   328 / 908 (thread    3) f\b\b\r",
      "STEP   329 / 908 (thread    2) f\b\b\r",
      "STEP   330 / 908 (thread    0) f\b\b\r",
      "STEP   331 / 908 (thread    5) f\b\b\r",
      "STEP   332 / 908 (thread    4) f\b\b\r",
      "STEP   333 / 908 (thread    0) f\b\b\r",
      "STEP   334 / 908 (thread    1) f\b\b\r",
      "STEP   335 / 908 (thread    0) f\b\b\r",
      "STEP   336 / 908 (thread    3) f\b\b\r",
      "STEP   337 / 908 (thread    5) f\b\b\r",
      "STEP   338 / 908 (thread    1) f\b\b\r",
      "STEP   339 / 908 (thread    0) f\b\b\r",
      "STEP   340 / 908 (thread    4) f\b\b\r",
      "STEP   341 / 908 (thread    2) f\b\b\r",
      "STEP   342 / 908 (thread    5) f\b\b\r",
      "STEP   343 / 908 (thread    3) f\b\b\r",
      "STEP   344 / 908 (thread    2) f\b\b\r",
      "STEP   345 / 908 (thread    1) f\b\b\r",
      "STEP   346 / 908 (thread    0) f\b\b\r",
      "STEP   347 / 908 (thread    5) f\b\b\r",
      "STEP   348 / 908 (thread    3) f\b\b\r",
      "STEP   349 / 908 (thread    4) f\b\b\r",
      "STEP   350 / 908 (thread    1) f\b\b\r",
      "STEP   351 / 908 (thread    2) f\b\b\r",
      "STEP   352 / 908 (thread    0) f\b\b\r",
      "STEP   353 / 908 (thread    5) f\b\b\r",
      "STEP   354 / 908 (thread    0) f\b\b\r",
      "STEP   355 / 908 (thread    4) f\b\b\r",
      "STEP   356 / 908 (thread    5) f\b\b\r",
      "STEP   357 / 908 (thread    0) f\b\b\r",
      "STEP   358 / 908 (thread    3) f\b\b\r",
      "STEP   359 / 908 (thread    2) f\b\b\r",
      "STEP   360 / 908 (thread    1) f\b\b\r",
      "STEP   361 / 908 (thread    4) f\b\b\r",
      "STEP   363 / 908 (thread    0) f\b\b\r",
      "STEP   364 / 908 (thread    3) f\b\b\r",
      "STEP   365 / 908 (thread    2) f\b\b\r",
      "STEP   362 / 908 (thread    5) f\b\b\r",
      "STEP   366 / 908 (thread    1) f\b\b\r",
      "STEP   367 / 908 (thread    4) f\b\b\r",
      "STEP   368 / 908 (thread    0) f\b\b\r",
      "STEP   369 / 908 (thread    1) f\b\b\r",
      "STEP   370 / 908 (thread    5) f\b\b\r",
      "STEP   371 / 908 (thread    0) f\b\b\r",
      "STEP   372 / 908 (thread    2) f\b\b\r",
      "STEP   373 / 908 (thread    4) f\b\b\r",
      "STEP   374 / 908 (thread    3) f\b\b\r",
      "STEP   375 / 908 (thread    5) f\b\b\r",
      "STEP   376 / 908 (thread    4) f\b\b\r",
      "STEP   377 / 908 (thread    0) f\b\b\r",
      "STEP   378 / 908 (thread    5) f\b\b\r",
      "STEP   379 / 908 (thread    1) f\b\b\r",
      "STEP   380 / 908 (thread    2) f\b\b\r",
      "STEP   381 / 908 (thread    3) f\b\b\r",
      "STEP   382 / 908 (thread    0) f\b\b\r",
      "STEP   383 / 908 (thread    1) f\b\b\r",
      "STEP   384 / 908 (thread    5) f\b\b\r",
      "STEP   385 / 908 (thread    4) f\b\b\r",
      "STEP   386 / 908 (thread    0) f\b\b\r",
      "STEP   387 / 908 (thread    4) f\b\b\r",
      "STEP   388 / 908 (thread    2) f\b\b\r",
      "STEP   389 / 908 (thread    0) f\b\b\r",
      "STEP   390 / 908 (thread    3) f\b\b\r",
      "STEP   391 / 908 (thread    5) f\b\b\r",
      "STEP   392 / 908 (thread    4) f\b\b\r",
      "STEP   393 / 908 (thread    1) f\b\b\r",
      "STEP   394 / 908 (thread    0) f\b\b\r",
      "STEP   395 / 908 (thread    2) f\b\b\r",
      "STEP   396 / 908 (thread    1) f\b\b\r",
      "STEP   397 / 908 (thread    3) f\b\b\r",
      "STEP   398 / 908 (thread    5) f\b\b\r",
      "STEP   399 / 908 (thread    0) f\b\b\r",
      "STEP   400 / 908 (thread    4) f\b\b\r",
      "STEP   401 / 908 (thread    3) f\b\b\r",
      "STEP   403 / 908 (thread    4) f\b\b\r",
      "STEP   404 / 908 (thread    1) f\b\b\r",
      "STEP   405 / 908 (thread    5) f\b\b\r",
      "STEP   406 / 908 (thread    3) f\b\b\r",
      "STEP   407 / 908 (thread    0) f\b\b\r",
      "STEP   402 / 908 (thread    2) f\b\b\r",
      "STEP   408 / 908 (thread    3) f\b\b\r",
      "STEP   409 / 908 (thread    4) f\b\b\r",
      "STEP   411 / 908 (thread    1) f\b\b\r",
      "STEP   412 / 908 (thread    0) f\b\b\r",
      "STEP   413 / 908 (thread    0) f\b\b\r",
      "STEP   414 / 908 (thread    4) f\b\b\r",
      "STEP   410 / 908 (thread    5) f\b\b\r",
      "STEP   415 / 908 (thread    2) f\b\b\r",
      "STEP   416 / 908 (thread    1) f\b\b\r",
      "STEP   417 / 908 (thread    3) f\b\b\r",
      "STEP   418 / 908 (thread    0) f\b\b\r",
      "STEP   419 / 908 (thread    2) f\b\b\r",
      "STEP   420 / 908 (thread    1) f\b\b\r",
      "STEP   421 / 908 (thread    4) f\b\b\r",
      "STEP   422 / 908 (thread    5) f\b\b\r",
      "STEP   423 / 908 (thread    3) f\b\b\r",
      "STEP   424 / 908 (thread    2) f\b\b\r",
      "STEP   425 / 908 (thread    0) f\b\b\r",
      "STEP   426 / 908 (thread    5) f\b\b\r",
      "STEP   427 / 908 (thread    0) f\b\b\r",
      "STEP   428 / 908 (thread    1) f\b\b\r",
      "STEP   429 / 908 (thread    4) f\b\b\r",
      "STEP   430 / 908 (thread    2) f\b\b\r",
      "STEP   431 / 908 (thread    3) f\b\b\r",
      "STEP   432 / 908 (thread    1) f\b\b\r",
      "STEP   433 / 908 (thread    5) f\b\b\r",
      "STEP   434 / 908 (thread    0) f\b\b\r",
      "STEP   435 / 908 (thread    1) f\b\b\r",
      "STEP   436 / 908 (thread    4) f\b\b\r",
      "STEP   437 / 908 (thread    2) f\b\b\r",
      "STEP   438 / 908 (thread    5) f\b\b\r",
      "STEP   439 / 908 (thread    3) f\b\b\r",
      "STEP   440 / 908 (thread    0) f\b\b\r",
      "STEP   441 / 908 (thread    1) f\b\b\r",
      "STEP   442 / 908 (thread    2) f\b\b\r",
      "STEP   443 / 908 (thread    4) f\b\b\r",
      "STEP   444 / 908 (thread    5) f\b\b\r",
      "STEP   445 / 908 (thread    3) f\b\b\r",
      "STEP   446 / 908 (thread    4) f\b\b\r",
      "STEP   447 / 908 (thread    5) f\b\b\r",
      "STEP   448 / 908 (thread    0) f\b\b\r",
      "STEP   449 / 908 (thread    2) f\b\b\r",
      "STEP   450 / 908 (thread    1) f\b\b\r",
      "STEP   451 / 908 (thread    3) f\b\b\r",
      "STEP   452 / 908 (thread    4) f\b\b\r",
      "STEP   453 / 908 (thread    5) f\b\b\r",
      "STEP   454 / 908 (thread    1) f\b\b\r",
      "STEP   455 / 908 (thread    0) f\b\b\r",
      "STEP   456 / 908 (thread    2) f\b\b\r",
      "STEP   457 / 908 (thread    4) f\b\b\r",
      "STEP   458 / 908 (thread    3) f\b\b\r",
      "STEP   459 / 908 (thread    5) f\b\b\r",
      "STEP   460 / 908 (thread    1) f\b\b\r",
      "STEP   461 / 908 (thread    4) f\b\b\r",
      "STEP   462 / 908 (thread    2) f\b\b\r",
      "STEP   463 / 908 (thread    0) f\b\b\r",
      "STEP   464 / 908 (thread    2) f\b\b\r",
      "STEP   465 / 908 (thread    5) f\b\b\r",
      "STEP   466 / 908 (thread    3) f\b\b\r",
      "STEP   467 / 908 (thread    1) f\b\b\r",
      "STEP   468 / 908 (thread    4) f\b\b\r",
      "STEP   469 / 908 (thread    0) f\b\b\r",
      "STEP   470 / 908 (thread    2) f\b\b\r",
      "STEP   471 / 908 (thread    5) f\b\b\r",
      "STEP   472 / 908 (thread    3) f\b\b\r",
      "STEP   473 / 908 (thread    1) f\b\b\r",
      "STEP   474 / 908 (thread    2)\r",
      "STEP   475 / 908 (thread    4) f\b\b f\b\b\r",
      "STEP   477 / 908 (thread    0) f\b\b\r",
      "STEP   478 / 908 (thread    0) f\b\b\r",
      "STEP   479 / 908 (thread    1) f\b\b\r",
      "STEP   480 / 908 (thread    4) f\b\b\r",
      "STEP   481 / 908 (thread    0) f\b\b\r",
      "STEP   482 / 908 (thread    1) f\b\b\r",
      "STEP   483 / 908 (thread    0) f\b\b\r",
      "STEP   484 / 908 (thread    3) f\b\b\r",
      "STEP   476 / 908 (thread    5) f\b\b\r",
      "STEP   485 / 908 (thread    2) f\b\b\r",
      "STEP   487 / 908 (thread    4) f\b\b\r",
      "STEP   488 / 908 (thread    3) f\b\b\r",
      "STEP   489 / 908 (thread    2) f\b\b\r",
      "STEP   490 / 908 (thread    5) f\b\b\r",
      "STEP   491 / 908 (thread    4) f\b\b\r",
      "STEP   486 / 908 (thread    1) f\b\b\r",
      "STEP   493 / 908 (thread    3) f\b\b\r",
      "STEP   492 / 908 (thread    0) f\b\b\r",
      "STEP   494 / 908 (thread    5) f\b\b\r",
      "STEP   495 / 908 (thread    2) f\b\b\r",
      "STEP   496 / 908 (thread    4) f\b\b\r",
      "STEP   497 / 908 (thread    1) f\b\b\r",
      "STEP   498 / 908 (thread    3) f\b\b\r",
      "STEP   499 / 908 (thread    0) f\b\b\r",
      "STEP   501 / 908 (thread    4) f\b\b\r",
      "STEP   500 / 908 (thread    5) f\b\b"
     ]
    },
    {
     "name": "stderr",
     "output_type": "stream",
     "text": [
      "\r",
      "STEP   601 / 908 (thread    1) f\b\b\r",
      "STEP   701 / 908 (thread    0) f\b\b\r",
      "STEP   801 / 908 (thread    2) f\b\b"
     ]
    },
    {
     "name": "stderr",
     "output_type": "stream",
     "text": [
      "\n",
      "Reallocating..done. *alloclen = 1868\n",
      "\r",
      "STEP   901 / 908 (thread    3) d\b\b h\n",
      "done.\n",
      "\n",
      "Making a distance matrix from msa.. \n",
      "\r",
      "    0 / 909 (thread    1)"
     ]
    },
    {
     "name": "stderr",
     "output_type": "stream",
     "text": [
      "\r",
      "  100 / 909 (thread    5)\r",
      "  200 / 909 (thread    1)\r",
      "  300 / 909 (thread    0)\r",
      "  400 / 909 (thread    4)\r",
      "  500 / 909 (thread    0)\r",
      "  600 / 909 (thread    1)\r",
      "  700 / 909 (thread    4)\r",
      "  800 / 909 (thread    5)\r",
      "  900 / 909 (thread    3)\n",
      "done.\n",
      "\n",
      "Constructing a UPGMA tree (efffree=1) ... \n",
      "\r",
      "    0 / 909\r",
      "   10 / 909\r",
      "   20 / 909\r",
      "   30 / 909\r",
      "   40 / 909\r",
      "   50 / 909\r",
      "   60 / 909\r",
      "   70 / 909\r",
      "   80 / 909\r",
      "   90 / 909\r",
      "  100 / 909\r",
      "  110 / 909\r",
      "  120 / 909\r",
      "  130 / 909\r",
      "  140 / 909\r",
      "  150 / 909\r",
      "  160 / 909\r",
      "  170 / 909\r",
      "  180 / 909\r",
      "  190 / 909\r",
      "  200 / 909\r",
      "  210 / 909\r",
      "  220 / 909\r",
      "  230 / 909\r",
      "  240 / 909\r",
      "  250 / 909\r",
      "  260 / 909\r",
      "  270 / 909\r",
      "  280 / 909\r",
      "  290 / 909\r",
      "  300 / 909\r",
      "  310 / 909\r",
      "  320 / 909\r",
      "  330 / 909\r",
      "  340 / 909\r",
      "  350 / 909\r",
      "  360 / 909\r",
      "  370 / 909\r",
      "  380 / 909\r",
      "  390 / 909\r",
      "  400 / 909\r",
      "  410 / 909\r",
      "  420 / 909\r",
      "  430 / 909\r",
      "  440 / 909\r",
      "  450 / 909\r",
      "  460 / 909\r",
      "  470 / 909\r",
      "  480 / 909\r",
      "  490 / 909\r",
      "  500 / 909\r",
      "  510 / 909\r",
      "  520 / 909\r",
      "  530 / 909\r",
      "  540 / 909\r",
      "  550 / 909\r",
      "  560 / 909\r",
      "  570 / 909\r",
      "  580 / 909\r",
      "  590 / 909\r",
      "  600 / 909\r",
      "  610 / 909\r",
      "  620 / 909\r",
      "  630 / 909\r",
      "  640 / 909\r",
      "  650 / 909\r",
      "  660 / 909\r",
      "  670 / 909\r",
      "  680 / 909\r",
      "  690 / 909\r",
      "  700 / 909\r",
      "  710 / 909\r",
      "  720 / 909\r",
      "  730 / 909\r",
      "  740 / 909\r",
      "  750 / 909\r",
      "  760 / 909\r",
      "  770 / 909\r",
      "  780 / 909\r",
      "  790 / 909\r",
      "  800 / 909\r",
      "  810 / 909\r",
      "  820 / 909\r",
      "  830 / 909\r",
      "  840 / 909\r",
      "  850 / 909\r",
      "  860 / 909\r",
      "  870 / 909\r",
      "  880 / 909\r",
      "  890 / 909\r",
      "  900 / 909\n",
      "done.\n",
      "\n",
      "Progressive alignment 2/2... \n",
      "\r",
      "STEP     1 / 908 (thread    0) f\b\b\r",
      "STEP     2 / 908 (thread    1) f\b\b\r",
      "STEP     3 / 908 (thread    3) f\b\b\r",
      "STEP     4 / 908 (thread    2) f\b\b\r",
      "STEP     5 / 908 (thread    4) f\b\b\r",
      "STEP     6 / 908 (thread    5) f\b\b\r",
      "STEP     7 / 908 (thread    1) f\b\b\r",
      "STEP     8 / 908 (thread    1) f\b\b\r",
      "STEP     9 / 908 (thread    1) f\b\b\r",
      "STEP    10 / 908 (thread    2) f\b\b\r",
      "STEP    11 / 908 (thread    1) f\b\b\r",
      "STEP    12 / 908 (thread    2) f\b\b\r",
      "STEP    13 / 908 (thread    1) f\b\b\r",
      "STEP    14 / 908 (thread    1) f\b\b\r",
      "STEP    15 / 908 (thread    2) f\b\b\r",
      "STEP    16 / 908 (thread    4) f\b\b\r",
      "STEP    17 / 908 (thread    5) f\b\b\r",
      "STEP    18 / 908 (thread    1) f\b\b\r",
      "STEP    19 / 908 (thread    2) f\b\b\r",
      "STEP    20 / 908 (thread    0) f\b\b\r",
      "STEP    21 / 908 (thread    3) f\b\b\r",
      "STEP    22 / 908 (thread    4) f\b\b\r",
      "STEP    23 / 908 (thread    5) f\b\b\r",
      "STEP    24 / 908 (thread    1) f\b\b\r",
      "STEP    25 / 908 (thread    2) f\b\b\r",
      "STEP    26 / 908 (thread    0) f\b\b\r",
      "STEP    27 / 908 (thread    3) f\b\b\r",
      "STEP    28 / 908 (thread    2) f\b\b\r",
      "STEP    29 / 908 (thread    4) f\b\b\r",
      "STEP    30 / 908 (thread    5) f\b\b\r",
      "STEP    31 / 908 (thread    2) f\b\b\r",
      "STEP    32 / 908 (thread    0) f\b\b\r",
      "STEP    33 / 908 (thread    3) f\b\b\r",
      "STEP    34 / 908 (thread    1) f\b\b\r",
      "STEP    35 / 908 (thread    4) f\b\b\r",
      "STEP    36 / 908 (thread    5) f\b\b\r",
      "STEP    37 / 908 (thread    2) f\b\b\r",
      "STEP    38 / 908 (thread    1) f\b\b\r",
      "STEP    39 / 908 (thread    0) f\b\b\r",
      "STEP    40 / 908 (thread    3) f\b\b\r",
      "STEP    41 / 908 (thread    2) f\b\b\r",
      "STEP    42 / 908 (thread    1) f\b\b\r",
      "STEP    43 / 908 (thread    4) f\b\b\r",
      "STEP    44 / 908 (thread    5) f\b\b\r",
      "STEP    45 / 908 (thread    2) f\b\b\r",
      "STEP    46 / 908 (thread    0) f\b\b\r",
      "STEP    47 / 908 (thread    3) f\b\b\r",
      "STEP    48 / 908 (thread    1) f\b\b\r",
      "STEP    49 / 908 (thread    5) f\b\b\r",
      "STEP    50 / 908 (thread    4) f\b\b\r",
      "STEP    51 / 908 (thread    1) f\b\b\r",
      "STEP    52 / 908 (thread    2) f\b\b\r",
      "STEP    53 / 908 (thread    0) f\b\b\r",
      "STEP    54 / 908 (thread    3) f\b\b\r",
      "STEP    55 / 908 (thread    1) f\b\b\r",
      "STEP    56 / 908 (thread    2) f\b\b\r",
      "STEP    57 / 908 (thread    4)\r",
      "STEP    58 / 908 (thread    5) f\b\b f\b\b\r",
      "STEP    59 / 908 (thread    1) f\b\b\r",
      "STEP    60 / 908 (thread    2) f\b\b\r",
      "STEP    61 / 908 (thread    0) f\b\b\r",
      "STEP    62 / 908 (thread    3) f\b\b\r",
      "STEP    63 / 908 (thread    5)\r",
      "STEP    64 / 908 (thread    4) f\b\b f\b\b\r",
      "STEP    65 / 908 (thread    1) f\b\b\r",
      "STEP    66 / 908 (thread    2) f\b\b\r",
      "STEP    67 / 908 (thread    0) f\b\b\r",
      "STEP    68 / 908 (thread    3) f\b\b\r",
      "STEP    69 / 908 (thread    1) f\b\b\r",
      "STEP    70 / 908 (thread    2) f\b\b\r",
      "STEP    71 / 908 (thread    4) f\b\b\r",
      "STEP    72 / 908 (thread    5) f\b\b\r",
      "STEP    73 / 908 (thread    1) f\b\b\r",
      "STEP    74 / 908 (thread    2) f\b\b\r",
      "STEP    75 / 908 (thread    0) f\b\b\r",
      "STEP    76 / 908 (thread    3) f\b\b\r",
      "STEP    77 / 908 (thread    4) f\b\b\r",
      "STEP    78 / 908 (thread    1) f\b\b\r",
      "STEP    80 / 908 (thread    5) f\b\b\r",
      "STEP    84 / 908 (thread    4) f\b\b\r",
      "STEP    79 / 908 (thread    2) f\b\b\r",
      "STEP    85 / 908 (thread    4) f\b\b\r",
      "STEP    81 / 908 (thread    1) f\b\b\r",
      "STEP    86 / 908 (thread    2) f\b\b\r",
      "STEP    87 / 908 (thread    5) f\b\b\r",
      "STEP    82 / 908 (thread    3) f\b\b\r",
      "STEP    88 / 908 (thread    2) f\b\b\r",
      "STEP    89 / 908 (thread    4) f\b\b\r",
      "STEP    90 / 908 (thread    1) f\b\b\r",
      "STEP    83 / 908 (thread    0) f\b\b\r",
      "STEP    91 / 908 (thread    2) f\b\b\r",
      "STEP    92 / 908 (thread    5) f\b\b\r",
      "STEP    93 / 908 (thread    1) f\b\b\r",
      "STEP    94 / 908 (thread    4) f\b\b\r",
      "STEP    95 / 908 (thread    3) f\b\b\r",
      "STEP    96 / 908 (thread    2) f\b\b\r",
      "STEP    97 / 908 (thread    1) f\b\b\r",
      "STEP    98 / 908 (thread    5) f\b\b\r",
      "STEP    99 / 908 (thread    1) f\b\b\r",
      "STEP   100 / 908 (thread    0) f\b\b\r",
      "STEP   101 / 908 (thread    2) f\b\b\r",
      "STEP   102 / 908 (thread    5) f\b\b\r",
      "STEP   103 / 908 (thread    1) f\b\b\r",
      "STEP   104 / 908 (thread    4) f\b\b\r",
      "STEP   105 / 908 (thread    3) f\b\b\r",
      "STEP   106 / 908 (thread    0) f\b\b\r",
      "STEP   107 / 908 (thread    1) f\b\b\r",
      "STEP   108 / 908 (thread    5) f\b\b\r",
      "STEP   109 / 908 (thread    2) f\b\b\r",
      "STEP   110 / 908 (thread    4) f\b\b\r",
      "STEP   111 / 908 (thread    1) f\b\b\r",
      "STEP   112 / 908 (thread    0) f\b\b\r",
      "STEP   113 / 908 (thread    3) f\b\b\r",
      "STEP   114 / 908 (thread    5) f\b\b\r",
      "STEP   115 / 908 (thread    2) f\b\b\r",
      "STEP   116 / 908 (thread    1) f\b\b\r",
      "STEP   117 / 908 (thread    4) f\b\b\r",
      "STEP   118 / 908 (thread    3) f\b\b\r",
      "STEP   119 / 908 (thread    0) f\b\b\r",
      "STEP   120 / 908 (thread    1) f\b\b\r",
      "STEP   121 / 908 (thread    5) f\b\b\r",
      "STEP   122 / 908 (thread    1) f\b\b\r",
      "STEP   123 / 908 (thread    4) f\b\b\r",
      "STEP   124 / 908 (thread    2) f\b\b\r",
      "STEP   125 / 908 (thread    0)\r",
      "STEP   126 / 908 (thread    3) f\b\b f\b\b\r",
      "STEP   127 / 908 (thread    5) f\b\b\r",
      "STEP   128 / 908 (thread    1) f\b\b\r",
      "STEP   129 / 908 (thread    2) f\b\b\r",
      "STEP   130 / 908 (thread    4) f\b\b\r",
      "STEP   131 / 908 (thread    3) f\b\b\r",
      "STEP   132 / 908 (thread    5) f\b\b\r",
      "STEP   133 / 908 (thread    1) f\b\b\r",
      "STEP   134 / 908 (thread    2) f\b\b\r",
      "STEP   135 / 908 (thread    0) f\b\b\r",
      "STEP   136 / 908 (thread    4) f\b\b\r",
      "STEP   137 / 908 (thread    1) f\b\b\r",
      "STEP   138 / 908 (thread    3) f\b\b\r",
      "STEP   139 / 908 (thread    2) f\b\b\r",
      "STEP   140 / 908 (thread    5) f\b\b\r",
      "STEP   141 / 908 (thread    0) f\b\b\r",
      "STEP   142 / 908 (thread    1) f\b\b\r",
      "STEP   143 / 908 (thread    2) f\b\b\r",
      "STEP   145 / 908 (thread    3) f\b\b\r",
      "STEP   146 / 908 (thread    5) f\b\b\r",
      "STEP   147 / 908 (thread    1) f\b\b\r",
      "STEP   149 / 908 (thread    0) f\b\b\r",
      "STEP   144 / 908 (thread    4) f\b\b\r",
      "STEP   150 / 908 (thread    5) f\b\b\r",
      "STEP   151 / 908 (thread    1) f\b\b\r",
      "STEP   152 / 908 (thread    3) f\b\b\r",
      "STEP   153 / 908 (thread    0) f\b\b\r",
      "STEP   154 / 908 (thread    1) f\b\b\r",
      "STEP   155 / 908 (thread    5) f\b\b\r",
      "STEP   156 / 908 (thread    3) f\b\b\r",
      "STEP   157 / 908 (thread    4) f\b\b\r",
      "STEP   148 / 908 (thread    2) f\b\b\r",
      "STEP   158 / 908 (thread    0) f\b\b\r",
      "STEP   159 / 908 (thread    1) f\b\b\r",
      "STEP   160 / 908 (thread    4) f\b\b\r",
      "STEP   161 / 908 (thread    0) f\b\b\r",
      "STEP   162 / 908 (thread    1) f\b\b\r",
      "STEP   163 / 908 (thread    2) f\b\b\r",
      "STEP   164 / 908 (thread    5) f\b\b\r",
      "STEP   165 / 908 (thread    4) f\b\b\r",
      "STEP   166 / 908 (thread    1) f\b\b\r",
      "STEP   167 / 908 (thread    2) f\b\b\r",
      "STEP   168 / 908 (thread    3) f\b\b\r",
      "STEP   169 / 908 (thread    0) f\b\b\r",
      "STEP   170 / 908 (thread    5) f\b\b\r",
      "STEP   171 / 908 (thread    2) f\b\b\r",
      "STEP   172 / 908 (thread    1) f\b\b\r",
      "STEP   173 / 908 (thread    4) f\b\b\r",
      "STEP   174 / 908 (thread    3) f\b\b\r",
      "STEP   175 / 908 (thread    0) f\b\b\r",
      "STEP   176 / 908 (thread    2) f\b\b"
     ]
    },
    {
     "name": "stderr",
     "output_type": "stream",
     "text": [
      "\r",
      "STEP   177 / 908 (thread    1) f\b\b\r",
      "STEP   178 / 908 (thread    5) f\b\b\r",
      "STEP   179 / 908 (thread    1) f\b\b\r",
      "STEP   180 / 908 (thread    5) f\b\b\r",
      "STEP   181 / 908 (thread    4) f\b\b\r",
      "STEP   182 / 908 (thread    3) f\b\b\r",
      "STEP   183 / 908 (thread    0) f\b\b\r",
      "STEP   184 / 908 (thread    2) f\b\b\r",
      "STEP   185 / 908 (thread    1) f\b\b\r",
      "STEP   186 / 908 (thread    5) f\b\b\r",
      "STEP   187 / 908 (thread    4) f\b\b\r",
      "STEP   188 / 908 (thread    1) f\b\b\r",
      "STEP   189 / 908 (thread    2) f\b\b\r",
      "STEP   190 / 908 (thread    0) f\b\b\r",
      "STEP   191 / 908 (thread    3) f\b\b\r",
      "STEP   192 / 908 (thread    1) f\b\b\r",
      "STEP   193 / 908 (thread    2) f\b\b\r",
      "STEP   194 / 908 (thread    4) f\b\b\r",
      "STEP   195 / 908 (thread    3) f\b\b\r",
      "STEP   196 / 908 (thread    2) f\b\b\r",
      "STEP   197 / 908 (thread    1) f\b\b\r",
      "STEP   198 / 908 (thread    5) f\b\b\r",
      "STEP   199 / 908 (thread    4) f\b\b\r",
      "STEP   200 / 908 (thread    2) f\b\b\r",
      "STEP   201 / 908 (thread    0) f\b\b\r",
      "STEP   203 / 908 (thread    3) f\b\b\r",
      "STEP   202 / 908 (thread    1) f\b\b\r",
      "STEP   204 / 908 (thread    5) f\b\b\r",
      "STEP   205 / 908 (thread    2) f\b\b\r",
      "STEP   206 / 908 (thread    1) f\b\b\r",
      "STEP   207 / 908 (thread    2) f\b\b\r",
      "STEP   208 / 908 (thread    4) f\b\b\r",
      "STEP   209 / 908 (thread    3) f\b\b\r",
      "STEP   210 / 908 (thread    0) f\b\b\r",
      "STEP   211 / 908 (thread    1) f\b\b\r",
      "STEP   212 / 908 (thread    5) f\b\b\r",
      "STEP   213 / 908 (thread    2) f\b\b\r",
      "STEP   214 / 908 (thread    2) f\b\b\r",
      "STEP   215 / 908 (thread    4) f\b\b\r",
      "STEP   216 / 908 (thread    1) f\b\b\r",
      "STEP   217 / 908 (thread    5) f\b\b\r",
      "STEP   218 / 908 (thread    3) f\b\b\r",
      "STEP   219 / 908 (thread    0) f\b\b\r",
      "STEP   220 / 908 (thread    1) f\b\b\r",
      "STEP   221 / 908 (thread    4) f\b\b\r",
      "STEP   222 / 908 (thread    5) f\b\b\r",
      "STEP   223 / 908 (thread    1) f\b\b\r",
      "STEP   224 / 908 (thread    2) f\b\b\r",
      "STEP   225 / 908 (thread    3) f\b\b\r",
      "STEP   226 / 908 (thread    4) f\b\b\r",
      "STEP   227 / 908 (thread    1) f\b\b\r",
      "STEP   228 / 908 (thread    2) f\b\b\r",
      "STEP   229 / 908 (thread    3) f\b\b\r",
      "STEP   231 / 908 (thread    1) f\b\b\r",
      "STEP   232 / 908 (thread    5) f\b\b\r",
      "STEP   233 / 908 (thread    2) f\b\b\r",
      "STEP   234 / 908 (thread    3) f\b\b\r",
      "STEP   235 / 908 (thread    1) f\b\b\r",
      "STEP   236 / 908 (thread    4) f\b\b\r",
      "STEP   230 / 908 (thread    0) f\b\b\r",
      "STEP   237 / 908 (thread    2) f\b\b\r",
      "STEP   238 / 908 (thread    3) f\b\b\r",
      "STEP   239 / 908 (thread    5) f\b\b\r",
      "STEP   240 / 908 (thread    4) f\b\b\r",
      "STEP   241 / 908 (thread    2) f\b\b\r",
      "STEP   242 / 908 (thread    1) f\b\b\r",
      "STEP   243 / 908 (thread    3) f\b\b\r",
      "STEP   244 / 908 (thread    5) f\b\b\r",
      "STEP   245 / 908 (thread    1) f\b\b\r",
      "STEP   246 / 908 (thread    0) f\b\b\r",
      "STEP   247 / 908 (thread    2) f\b\b\r",
      "STEP   248 / 908 (thread    3) f\b\b\r",
      "STEP   249 / 908 (thread    5) f\b\b\r",
      "STEP   250 / 908 (thread    4) f\b\b\r",
      "STEP   251 / 908 (thread    1) f\b\b\r",
      "STEP   252 / 908 (thread    2) f\b\b\r",
      "STEP   253 / 908 (thread    0) f\b\b\r",
      "STEP   254 / 908 (thread    1) f\b\b\r",
      "STEP   255 / 908 (thread    3) f\b\b\r",
      "STEP   256 / 908 (thread    2) f\b\b\r",
      "STEP   257 / 908 (thread    5) f\b\b\r",
      "STEP   258 / 908 (thread    4) f\b\b\r",
      "STEP   259 / 908 (thread    2) f\b\b\r",
      "STEP   260 / 908 (thread    1) f\b\b\r",
      "STEP   261 / 908 (thread    0) f\b\b\r",
      "STEP   262 / 908 (thread    1) f\b\b\r",
      "STEP   263 / 908 (thread    3) f\b\b\r",
      "STEP   264 / 908 (thread    0) f\b\b\r",
      "STEP   265 / 908 (thread    1) f\b\b\r",
      "STEP   266 / 908 (thread    2) f\b\b\r",
      "STEP   267 / 908 (thread    3) f\b\b\r",
      "STEP   269 / 908 (thread    5) f\b\b\r",
      "STEP   270 / 908 (thread    1) f\b\b\r",
      "STEP   272 / 908 (thread    0)\r",
      "STEP   268 / 908 (thread    4) f\b\b f\b\b\r",
      "STEP   273 / 908 (thread    5) f\b\b\r",
      "STEP   274 / 908 (thread    1) f\b\b\r",
      "STEP   275 / 908 (thread    3) f\b\b\r",
      "STEP   276 / 908 (thread    0) f\b\b\r",
      "STEP   277 / 908 (thread    1) f\b\b\r",
      "STEP   278 / 908 (thread    1) f\b\b\r",
      "STEP   279 / 908 (thread    4) f\b\b\r",
      "STEP   271 / 908 (thread    2) f\b\b\r",
      "STEP   280 / 908 (thread    5) f\b\b\r",
      "STEP   281 / 908 (thread    3) f\b\b\r",
      "STEP   282 / 908 (thread    1) f\b\b\r",
      "STEP   283 / 908 (thread    4) f\b\b\r",
      "STEP   284 / 908 (thread    5) f\b\b\r",
      "STEP   285 / 908 (thread    3) f\b\b\r",
      "STEP   286 / 908 (thread    1) f\b\b\r",
      "STEP   287 / 908 (thread    0) f\b\b\r",
      "STEP   288 / 908 (thread    4) f\b\b\r",
      "STEP   289 / 908 (thread    2) f\b\b\r",
      "STEP   290 / 908 (thread    5) f\b\b\r",
      "STEP   291 / 908 (thread    1) f\b\b\r",
      "STEP   292 / 908 (thread    3) f\b\b\r",
      "STEP   293 / 908 (thread    0) f\b\b\r",
      "STEP   294 / 908 (thread    4) f\b\b\r",
      "STEP   296 / 908 (thread    5) f\b\b\r",
      "STEP   295 / 908 (thread    2) f\b\b\r",
      "STEP   298 / 908 (thread    5) f\b\b\r",
      "STEP   299 / 908 (thread    3) f\b\b\r",
      "STEP   300 / 908 (thread    4) f\b\b\r",
      "STEP   297 / 908 (thread    1) f\b\b\r",
      "STEP   301 / 908 (thread    0) f\b\b\r",
      "STEP   302 / 908 (thread    2) f\b\b\r",
      "STEP   303 / 908 (thread    4) f\b\b\r",
      "STEP   304 / 908 (thread    5) f\b\b\r",
      "STEP   305 / 908 (thread    3) f\b\b\r",
      "STEP   306 / 908 (thread    1) f\b\b\r",
      "STEP   307 / 908 (thread    0) f\b\b\r",
      "STEP   308 / 908 (thread    2) f\b\b\r",
      "STEP   309 / 908 (thread    4) f\b\b\r",
      "STEP   310 / 908 (thread    5) f\b\b\r",
      "STEP   311 / 908 (thread    0) f\b\b\r",
      "STEP   312 / 908 (thread    2) f\b\b\r",
      "STEP   313 / 908 (thread    4) f\b\b\r",
      "STEP   314 / 908 (thread    5) f\b\b\r",
      "STEP   315 / 908 (thread    3) f\b\b\r",
      "STEP   316 / 908 (thread    1) f\b\b\r",
      "STEP   317 / 908 (thread    0) f\b\b\r",
      "STEP   319 / 908 (thread    4) f\b\b\r",
      "STEP   320 / 908 (thread    5) f\b\b\r",
      "STEP   318 / 908 (thread    2) f\b\b\r",
      "STEP   321 / 908 (thread    1) f\b\b\r",
      "STEP   322 / 908 (thread    3) f\b\b\r",
      "STEP   323 / 908 (thread    0) f\b\b\r",
      "STEP   324 / 908 (thread    4) f\b\b\r",
      "STEP   325 / 908 (thread    2) f\b\b\r",
      "STEP   326 / 908 (thread    5) f\b\b\r",
      "STEP   328 / 908 (thread    3) f\b\b\r",
      "STEP   329 / 908 (thread    0) f\b\b\r",
      "STEP   330 / 908 (thread    2) f\b\b\r",
      "STEP   327 / 908 (thread    1) f\b\b\r",
      "STEP   331 / 908 (thread    2) f\b\b\r",
      "STEP   332 / 908 (thread    4) f\b\b\r",
      "STEP   333 / 908 (thread    3) f\b\b\r",
      "STEP   334 / 908 (thread    5) f\b\b\r",
      "STEP   335 / 908 (thread    2) f\b\b\r",
      "STEP   336 / 908 (thread    4) f\b\b\r",
      "STEP   337 / 908 (thread    2) f\b\b\r",
      "STEP   338 / 908 (thread    1) f\b\b\r",
      "STEP   339 / 908 (thread    5) f\b\b\r",
      "STEP   340 / 908 (thread    0) f\b\b\r",
      "STEP   341 / 908 (thread    2) f\b\b\r",
      "STEP   342 / 908 (thread    3) f\b\b\r",
      "STEP   343 / 908 (thread    1) f\b\b\r",
      "STEP   344 / 908 (thread    2) f\b\b\r",
      "STEP   345 / 908 (thread    4) f\b\b\r",
      "STEP   346 / 908 (thread    5) f\b\b\r",
      "STEP   347 / 908 (thread    0) f\b\b\r",
      "STEP   348 / 908 (thread    3) f\b\b\r",
      "STEP   349 / 908 (thread    2) f\b\b\r",
      "STEP   350 / 908 (thread    4) f\b\b\r",
      "STEP   351 / 908 (thread    5) f\b\b\r",
      "STEP   352 / 908 (thread    1) f\b\b\r",
      "STEP   353 / 908 (thread    0) f\b\b\r",
      "STEP   354 / 908 (thread    2) f\b\b\r",
      "STEP   355 / 908 (thread    3) f\b\b\r",
      "STEP   356 / 908 (thread    1) f\b\b\r",
      "STEP   357 / 908 (thread    2) f\b\b\r",
      "STEP   358 / 908 (thread    5) f\b\b\r",
      "STEP   359 / 908 (thread    4) f\b\b\r",
      "STEP   360 / 908 (thread    0) f\b\b\r",
      "STEP   361 / 908 (thread    2) f\b\b\r",
      "STEP   362 / 908 (thread    3) f\b\b\r",
      "STEP   363 / 908 (thread    5) f\b\b\r",
      "STEP   364 / 908 (thread    1) f\b\b\r",
      "STEP   365 / 908 (thread    2) f\b\b\r",
      "STEP   366 / 908 (thread    4) f\b\b\r",
      "STEP   367 / 908 (thread    0) f\b\b\r",
      "STEP   368 / 908 (thread    3) f\b\b\r",
      "STEP   369 / 908 (thread    5) f\b\b\r",
      "STEP   370 / 908 (thread    2) f\b\b\r",
      "STEP   371 / 908 (thread    1) f\b\b\r",
      "STEP   372 / 908 (thread    3) f\b\b\r",
      "STEP   373 / 908 (thread    4) f\b\b\r",
      "STEP   374 / 908 (thread    5) f\b\b\r",
      "STEP   375 / 908 (thread    2) f\b\b\r",
      "STEP   376 / 908 (thread    0) f\b\b\r",
      "STEP   377 / 908 (thread    4) f\b\b\r",
      "STEP   378 / 908 (thread    1) f\b\b\r",
      "STEP   379 / 908 (thread    2) f\b\b\r",
      "STEP   380 / 908 (thread    5) f\b\b\r",
      "STEP   381 / 908 (thread    1) f\b\b\r",
      "STEP   382 / 908 (thread    2) f\b\b\r",
      "STEP   383 / 908 (thread    3) f\b\b\r",
      "STEP   384 / 908 (thread    0) f\b\b\r",
      "STEP   385 / 908 (thread    4) f\b\b\r",
      "STEP   386 / 908 (thread    1) f\b\b\r",
      "STEP   387 / 908 (thread    2) f\b\b\r",
      "STEP   388 / 908 (thread    5) f\b\b\r",
      "STEP   389 / 908 (thread    1) f\b\b\r",
      "STEP   390 / 908 (thread    2) f\b\b\r",
      "STEP   392 / 908 (thread    0) f\b\b\r",
      "STEP   393 / 908 (thread    3) f\b\b\r",
      "STEP   394 / 908 (thread    4) f\b\b\r",
      "STEP   391 / 908 (thread    1) f\b\b\r",
      "STEP   395 / 908 (thread    5) f\b\b\r",
      "STEP   396 / 908 (thread    2) f\b\b\r",
      "STEP   397 / 908 (thread    0) f\b\b\r",
      "STEP   398 / 908 (thread    4) f\b\b\r",
      "STEP   399 / 908 (thread    1) f\b\b\r",
      "STEP   400 / 908 (thread    5) f\b\b\r",
      "STEP   401 / 908 (thread    3) f\b\b\r",
      "STEP   403 / 908 (thread    4) f\b\b\r",
      "STEP   402 / 908 (thread    2) f\b\b\r",
      "STEP   404 / 908 (thread    0) f\b\b\r",
      "STEP   405 / 908 (thread    1) f\b\b\r",
      "STEP   406 / 908 (thread    5) f\b\b\r",
      "STEP   407 / 908 (thread    3) f\b\b\r",
      "STEP   408 / 908 (thread    2) f\b\b\r",
      "STEP   409 / 908 (thread    4) f\b\b\r",
      "STEP   410 / 908 (thread    0) f\b\b\r",
      "STEP   411 / 908 (thread    1) f\b\b\r",
      "STEP   412 / 908 (thread    5) f\b\b\r",
      "STEP   413 / 908 (thread    2) f\b\b\r",
      "STEP   414 / 908 (thread    4) f\b\b\r",
      "STEP   415 / 908 (thread    3) f\b\b\r",
      "STEP   416 / 908 (thread    1) f\b\b\r",
      "STEP   417 / 908 (thread    5) f\b\b\r",
      "STEP   418 / 908 (thread    2) f\b\b\r",
      "STEP   419 / 908 (thread    4) f\b\b\r",
      "STEP   420 / 908 (thread    2) f\b\b\r",
      "STEP   421 / 908 (thread    0) f\b\b\r",
      "STEP   422 / 908 (thread    3) f\b\b\r",
      "STEP   423 / 908 (thread    1) f\b\b\r",
      "STEP   424 / 908 (thread    4) f\b\b\r",
      "STEP   425 / 908 (thread    5) f\b\b\r",
      "STEP   426 / 908 (thread    2) f\b\b\r",
      "STEP   428 / 908 (thread    0)\r",
      "STEP   427 / 908 (thread    3) f\b\b f\b\b\r",
      "STEP   429 / 908 (thread    4) f\b\b\r",
      "STEP   430 / 908 (thread    1) f\b\b\r",
      "STEP   431 / 908 (thread    5) f\b\b\r",
      "STEP   432 / 908 (thread    1) f\b\b\r",
      "STEP   433 / 908 (thread    2) f\b\b\r",
      "STEP   434 / 908 (thread    3) f\b\b\r",
      "STEP   435 / 908 (thread    0) f\b\b\r",
      "STEP   436 / 908 (thread    4) f\b\b\r",
      "STEP   437 / 908 (thread    5) f\b\b\r",
      "STEP   438 / 908 (thread    0) f\b\b\r",
      "STEP   439 / 908 (thread    2) f\b\b\r",
      "STEP   440 / 908 (thread    1) f\b\b\r",
      "STEP   441 / 908 (thread    3) f\b\b\r",
      "STEP   442 / 908 (thread    4) f\b\b\r",
      "STEP   444 / 908 (thread    2) f\b\b\r",
      "STEP   445 / 908 (thread    4) f\b\b\r",
      "STEP   446 / 908 (thread    1) f\b\b\r",
      "STEP   443 / 908 (thread    5) f\b\b\r",
      "STEP   447 / 908 (thread    0) f\b\b\r",
      "STEP   448 / 908 (thread    3) f\b\b\r",
      "STEP   449 / 908 (thread    1) f\b\b\r",
      "STEP   450 / 908 (thread    3) f\b\b\r",
      "STEP   451 / 908 (thread    2) f\b\b\r",
      "STEP   452 / 908 (thread    5) f\b\b\r",
      "STEP   453 / 908 (thread    2) f\b\b\r",
      "STEP   454 / 908 (thread    4) f\b\b\r",
      "STEP   455 / 908 (thread    0) f\b\b\r",
      "STEP   456 / 908 (thread    1) f\b\b\r",
      "STEP   457 / 908 (thread    5) f\b\b\r",
      "STEP   458 / 908 (thread    3) f\b\b\r",
      "STEP   459 / 908 (thread    2) f\b\b\r",
      "STEP   460 / 908 (thread    0) f\b\b\r",
      "STEP   461 / 908 (thread    1) f\b\b\r",
      "STEP   462 / 908 (thread    5) f\b\b\r",
      "STEP   463 / 908 (thread    4) f\b\b\r",
      "STEP   464 / 908 (thread    5) f\b\b\r",
      "STEP   465 / 908 (thread    3) f\b\b\r",
      "STEP   466 / 908 (thread    2) f\b\b\r",
      "STEP   467 / 908 (thread    0) f\b\b\r",
      "STEP   468 / 908 (thread    1) f\b\b\r",
      "STEP   469 / 908 (thread    4) f\b\b\r",
      "STEP   470 / 908 (thread    2) f\b\b\r",
      "STEP   471 / 908 (thread    5) f\b\b\r",
      "STEP   472 / 908 (thread    3) f\b\b\r",
      "STEP   473 / 908 (thread    0) f\b\b\r",
      "STEP   474 / 908 (thread    1) f\b\b\r",
      "STEP   475 / 908 (thread    4) f\b\b\r",
      "STEP   476 / 908 (thread    2) f\b\b\r",
      "STEP   477 / 908 (thread    5) f\b\b\r",
      "STEP   478 / 908 (thread    3) f\b\b\r",
      "STEP   479 / 908 (thread    1) f\b\b\r",
      "STEP   480 / 908 (thread    4) f\b\b\r",
      "STEP   481 / 908 (thread    5) f\b\b\r",
      "STEP   482 / 908 (thread    2) f\b\b\r",
      "STEP   483 / 908 (thread    0) f\b\b\r",
      "STEP   484 / 908 (thread    5) f\b\b\r",
      "STEP   485 / 908 (thread    3) f\b\b\r",
      "STEP   486 / 908 (thread    1) f\b\b\r",
      "STEP   487 / 908 (thread    5) f\b\b\r",
      "STEP   488 / 908 (thread    0) f\b\b\r",
      "STEP   489 / 908 (thread    3) f\b\b\r",
      "STEP   490 / 908 (thread    2) f\b\b\r",
      "STEP   491 / 908 (thread    4) f\b\b\r",
      "STEP   492 / 908 (thread    5) f\b\b\r",
      "STEP   493 / 908 (thread    0) f\b\b\r",
      "STEP   494 / 908 (thread    1) f\b\b\r",
      "STEP   495 / 908 (thread    3) f\b\b\r",
      "STEP   496 / 908 (thread    5) f\b\b\r",
      "STEP   497 / 908 (thread    2) f\b\b\r",
      "STEP   498 / 908 (thread    4) f\b\b\r",
      "STEP   499 / 908 (thread    1) f\b\b\r",
      "STEP   500 / 908 (thread    5) f\b\b\r",
      "STEP   501 / 908 (thread    0) f\b\b\r",
      "STEP   601 / 908 (thread    2) f\b\b"
     ]
    },
    {
     "name": "stderr",
     "output_type": "stream",
     "text": [
      "\r",
      "STEP   701 / 908 (thread    3) f\b\b\r",
      "STEP   801 / 908 (thread    5) f\b\b\n",
      "Reallocating..done. *alloclen = 1879\n",
      "\r",
      "STEP   901 / 908 (thread    0) d\b\b h"
     ]
    },
    {
     "name": "stderr",
     "output_type": "stream",
     "text": [
      "\n",
      "done.\n",
      "\n",
      "disttbfast (nuc) Version 7.490\n",
      "alg=A, model=DNA200 (2), 1.53 (4.59), -0.00 (-0.00), noshift, amax=0.0\n",
      "6 thread(s)\n",
      "\n",
      "\n",
      "Strategy:\n",
      " FFT-NS-2 (Fast but rough)\n",
      " Progressive method (guide trees were built 2 times.)\n",
      "\n",
      "If unsure which option to use, try 'mafft --auto input > output'.\n",
      "For more information, see 'mafft --help', 'mafft --man' and the mafft page.\n",
      "\n",
      "The default gap scoring scheme has been changed in version 7.110 (2013 Oct).\n",
      "It tends to insert more gaps into gap-rich regions than previous versions.\n",
      "To disable this change, add the --leavegappyregion option.\n",
      "\n"
     ]
    },
    {
     "name": "stdout",
     "output_type": "stream",
     "text": [
      "{'max_gap_frequency': 1.0, 'min_conservation': 0.4, 'alignment': TabularMSA[DNA]\n",
      "-----------------------------------------------------------------------\n",
      "Stats:\n",
      "    sequence count: 909\n",
      "    position count: 494\n",
      "-----------------------------------------------------------------------\n",
      "TGAGGAATATTGGTCAATGGAGGCAACTCTGAA ... GGTATCGAACAGG--------------------\n",
      "TGAGGAATATTGGTCAATGGCCGGAAGGCTGAA ... GGGATCAAACAGG--------------------\n",
      "...\n",
      "TGAGGAATATTGGTCAATGGGCGGAAGCCTGAA ... GGGATCGAACAGG--------------------\n",
      "TGGGGAATTTTGGACAATGGGCGCAAGCCTGAT ... GGGAGCAAACAGG--------------------}\n",
      "{'max_gap_frequency': 1.0, 'min_conservation': 0.4, 'alignment': TabularMSA[DNA]\n",
      "-----------------------------------------------------------------------\n",
      "Stats:\n",
      "    sequence count: 909\n",
      "    position count: 494\n",
      "-----------------------------------------------------------------------\n",
      "TGAGGAATATTGGTCAATGGAGGCAACTCTGAA ... GGTATCGAACAGG--------------------\n",
      "TGAGGAATATTGGTCAATGGCCGGAAGGCTGAA ... GGGATCAAACAGG--------------------\n",
      "...\n",
      "TGAGGAATATTGGTCAATGGGCGGAAGCCTGAA ... GGGATCGAACAGG--------------------\n",
      "TGGGGAATTTTGGACAATGGGCGCAAGCCTGAT ... GGGAGCAAACAGG--------------------}\n"
     ]
    },
    {
     "name": "stdout",
     "output_type": "stream",
     "text": [
      "{'n_threads': 6, 'alignment': <q2_types.feature_data._format.AlignedDNAFASTAFormat object at 0x7fed43b6a850>}\n",
      "{'n_threads': 6, 'alignment': <q2_types.feature_data._format.AlignedDNAFASTAFormat object at 0x7fed43b6a850>}\n",
      "Running external command line application. This may print messages to stdout and/or stderr.\n",
      "The command being run is below. This command cannot be manually re-run as it will depend on temporary files that no longer exist.\n",
      "\n",
      "Command: FastTreeMP -quote -nt /tmp/qiime2-archive-bal74776/1ecd2282-3e7e-4473-b959-5c6466f7d824/data/aligned-dna-sequences.fasta\n",
      "\n"
     ]
    },
    {
     "name": "stderr",
     "output_type": "stream",
     "text": [
      "FastTree Version 2.1.10 Double precision (No SSE3), OpenMP (6 threads)\n",
      "Alignment: /tmp/qiime2-archive-bal74776/1ecd2282-3e7e-4473-b959-5c6466f7d824/data/aligned-dna-sequences.fasta\n",
      "Nucleotide distances: Jukes-Cantor Joins: balanced Support: SH-like 1000\n",
      "Search: Normal +NNI +SPR (2 rounds range 10) +ML-NNI opt-each=1\n",
      "TopHits: 1.00*sqrtN close=default refresh=0.80\n",
      "ML Model: Jukes-Cantor, CAT approximation with 20 rate categories\n",
      "      0.11 seconds: Joined    100 of    863\n"
     ]
    },
    {
     "name": "stderr",
     "output_type": "stream",
     "text": [
      "      0.22 seconds: Joined    200 of    863\n",
      "      0.39 seconds: Joined    400 of    863\n"
     ]
    },
    {
     "name": "stderr",
     "output_type": "stream",
     "text": [
      "      0.56 seconds: Joined    600 of    863\n",
      "      0.69 seconds: Joined    800 of    863\n",
      "Initial topology in 0.72 seconds\n",
      "Refining topology: 39 rounds ME-NNIs, 2 rounds ME-SPRs, 20 rounds ML-NNIs\n"
     ]
    },
    {
     "name": "stderr",
     "output_type": "stream",
     "text": [
      "      0.79 seconds: ME NNI round 2 of 39, 401 of 864 splits, 30 changes (max delta 0.023)\n",
      "      0.89 seconds: ME NNI round 6 of 39, 101 of 864 splits, 0 changes\n"
     ]
    },
    {
     "name": "stderr",
     "output_type": "stream",
     "text": [
      "      1.05 seconds: SPR round   1 of   2, 201 of 1730 nodes\n",
      "      1.18 seconds: SPR round   1 of   2, 401 of 1730 nodes\n"
     ]
    },
    {
     "name": "stderr",
     "output_type": "stream",
     "text": [
      "      1.32 seconds: SPR round   1 of   2, 601 of 1730 nodes\n",
      "      1.45 seconds: SPR round   1 of   2, 801 of 1730 nodes\n"
     ]
    },
    {
     "name": "stderr",
     "output_type": "stream",
     "text": [
      "      1.59 seconds: SPR round   1 of   2, 1001 of 1730 nodes\n",
      "      1.71 seconds: SPR round   1 of   2, 1201 of 1730 nodes\n"
     ]
    },
    {
     "name": "stderr",
     "output_type": "stream",
     "text": [
      "      1.84 seconds: SPR round   1 of   2, 1401 of 1730 nodes\n",
      "      1.97 seconds: SPR round   1 of   2, 1601 of 1730 nodes\n"
     ]
    },
    {
     "name": "stderr",
     "output_type": "stream",
     "text": [
      "      2.07 seconds: ME NNI round 15 of 39, 1 of 864 splits\n",
      "      2.21 seconds: SPR round   2 of   2, 201 of 1730 nodes\n"
     ]
    },
    {
     "name": "stderr",
     "output_type": "stream",
     "text": [
      "      2.34 seconds: SPR round   2 of   2, 401 of 1730 nodes\n",
      "      2.47 seconds: SPR round   2 of   2, 601 of 1730 nodes\n"
     ]
    },
    {
     "name": "stderr",
     "output_type": "stream",
     "text": [
      "      2.61 seconds: SPR round   2 of   2, 801 of 1730 nodes\n",
      "      2.74 seconds: SPR round   2 of   2, 1001 of 1730 nodes\n"
     ]
    },
    {
     "name": "stderr",
     "output_type": "stream",
     "text": [
      "      2.87 seconds: SPR round   2 of   2, 1201 of 1730 nodes\n",
      "      2.99 seconds: SPR round   2 of   2, 1401 of 1730 nodes\n"
     ]
    },
    {
     "name": "stderr",
     "output_type": "stream",
     "text": [
      "      3.12 seconds: SPR round   2 of   2, 1601 of 1730 nodes\n",
      "      3.22 seconds: ME NNI round 28 of 39, 701 of 864 splits, 0 changes\n",
      "Total branch-length 18.935 after 3.26 sec\n"
     ]
    },
    {
     "name": "stderr",
     "output_type": "stream",
     "text": [
      "      3.33 seconds: ML Lengths 301 of 864 splits\n",
      "      3.43 seconds: ML Lengths 701 of 864 splits\n"
     ]
    },
    {
     "name": "stderr",
     "output_type": "stream",
     "text": [
      "      3.58 seconds: ML NNI round 1 of 20, 101 of 864 splits, 16 changes (max delta 6.168)\n"
     ]
    },
    {
     "name": "stderr",
     "output_type": "stream",
     "text": [
      "      3.78 seconds: ML NNI round 1 of 20, 301 of 864 splits, 41 changes (max delta 6.168)\n",
      "      3.89 seconds: ML NNI round 1 of 20, 401 of 864 splits, 50 changes (max delta 6.168)\n"
     ]
    },
    {
     "name": "stderr",
     "output_type": "stream",
     "text": [
      "      4.00 seconds: ML NNI round 1 of 20, 501 of 864 splits, 60 changes (max delta 7.021)\n",
      "      4.18 seconds: ML NNI round 1 of 20, 701 of 864 splits, 94 changes (max delta 10.836)\n"
     ]
    },
    {
     "name": "stderr",
     "output_type": "stream",
     "text": [
      "ML-NNI round 1: LogLk = -49250.510 NNIs 128 max delta 10.84 Time 4.32\n",
      "      4.32 seconds: Site likelihoods with rate category 1 of 20\n",
      "      4.43 seconds: Site likelihoods with rate category 13 of 20\n",
      "Switched to using 20 rate categories (CAT approximation)\n",
      "Rate categories were divided by 1.062 so that average rate = 1.0\n",
      "CAT-based log-likelihoods may not be comparable across runs\n",
      "Use -gamma for approximate but comparable Gamma(20) log-likelihoods\n"
     ]
    },
    {
     "name": "stderr",
     "output_type": "stream",
     "text": [
      "      4.59 seconds: ML NNI round 2 of 20, 101 of 864 splits, 8 changes (max delta 2.434)\n",
      "      4.77 seconds: ML NNI round 2 of 20, 301 of 864 splits, 31 changes (max delta 2.434)\n"
     ]
    },
    {
     "name": "stderr",
     "output_type": "stream",
     "text": [
      "      4.95 seconds: ML NNI round 2 of 20, 501 of 864 splits, 55 changes (max delta 6.139)\n",
      "      5.13 seconds: ML NNI round 2 of 20, 701 of 864 splits, 74 changes (max delta 6.139)\n"
     ]
    },
    {
     "name": "stderr",
     "output_type": "stream",
     "text": [
      "ML-NNI round 2: LogLk = -41265.053 NNIs 89 max delta 6.14 Time 5.28\n",
      "      5.27 seconds: ML NNI round 3 of 20, 1 of 864 splits\n",
      "      5.42 seconds: ML NNI round 3 of 20, 201 of 864 splits, 8 changes (max delta 4.635)\n"
     ]
    },
    {
     "name": "stderr",
     "output_type": "stream",
     "text": [
      "      5.58 seconds: ML NNI round 3 of 20, 401 of 864 splits, 22 changes (max delta 4.669)\n",
      "ML-NNI round 3: LogLk = -41231.479 NNIs 27 max delta 4.67 Time 5.71\n",
      "      5.70 seconds: ML NNI round 4 of 20, 1 of 864 splits\n"
     ]
    },
    {
     "name": "stderr",
     "output_type": "stream",
     "text": [
      "      5.86 seconds: ML NNI round 4 of 20, 201 of 864 splits, 8 changes (max delta 2.332)\n",
      "ML-NNI round 4: LogLk = -41222.895 NNIs 10 max delta 2.33 Time 5.93\n",
      "      6.01 seconds: ML NNI round 5 of 20, 101 of 864 splits, 4 changes (max delta 3.409)\n",
      "ML-NNI round 5: LogLk = -41217.584 NNIs 6 max delta 3.41 Time 6.03\n"
     ]
    },
    {
     "name": "stderr",
     "output_type": "stream",
     "text": [
      "ML-NNI round 6: LogLk = -41217.350 NNIs 1 max delta 0.00 Time 6.09\n",
      "Turning off heuristics for final round of ML NNIs (converged)\n",
      "      6.16 seconds: ML NNI round 7 of 20, 101 of 864 splits, 0 changes\n"
     ]
    },
    {
     "name": "stderr",
     "output_type": "stream",
     "text": [
      "      6.31 seconds: ML NNI round 7 of 20, 301 of 864 splits, 2 changes (max delta 0.786)\n",
      "      6.46 seconds: ML NNI round 7 of 20, 501 of 864 splits, 7 changes (max delta 4.654)\n"
     ]
    },
    {
     "name": "stderr",
     "output_type": "stream",
     "text": [
      "      6.62 seconds: ML NNI round 7 of 20, 701 of 864 splits, 12 changes (max delta 4.654)\n",
      "ML-NNI round 7: LogLk = -41197.459 NNIs 12 max delta 4.65 Time 6.75 (final)\n",
      "      6.74 seconds: ML Lengths 1 of 864 splits\n"
     ]
    },
    {
     "name": "stderr",
     "output_type": "stream",
     "text": [
      "      6.85 seconds: ML Lengths 501 of 864 splits\n",
      "Optimize all lengths: LogLk = -41194.759 Time 6.93\n"
     ]
    },
    {
     "name": "stderr",
     "output_type": "stream",
     "text": [
      "      7.06 seconds: ML split tests for    100 of    863 internal splits\n",
      "      7.18 seconds: ML split tests for    200 of    863 internal splits\n"
     ]
    },
    {
     "name": "stderr",
     "output_type": "stream",
     "text": [
      "      7.31 seconds: ML split tests for    300 of    863 internal splits\n",
      "      7.44 seconds: ML split tests for    400 of    863 internal splits\n"
     ]
    },
    {
     "name": "stderr",
     "output_type": "stream",
     "text": [
      "      7.58 seconds: ML split tests for    500 of    863 internal splits\n",
      "      7.70 seconds: ML split tests for    600 of    863 internal splits\n"
     ]
    },
    {
     "name": "stderr",
     "output_type": "stream",
     "text": [
      "      7.84 seconds: ML split tests for    700 of    863 internal splits\n",
      "      7.97 seconds: ML split tests for    800 of    863 internal splits\n"
     ]
    },
    {
     "name": "stderr",
     "output_type": "stream",
     "text": [
      "Total time: 8.05 seconds Unique: 866/909 Bad splits: 2/863 Worst delta-LogLk 2.375\n"
     ]
    },
    {
     "name": "stdout",
     "output_type": "stream",
     "text": [
      "{'tree': <TreeNode, name: unnamed, internal node count: 902, tips count: 909>}\n",
      "{'tree': <TreeNode, name: unnamed, internal node count: 902, tips count: 909>}\n"
     ]
    }
   ],
   "source": [
    "mafft_alignment, mafft_masked_alignment, mafft_tree, mafft_rooted_tree = align_to_tree_mafft_fasttree(\n",
    "    sequences=reps, n_threads=6, )"
   ]
  },
  {
   "cell_type": "markdown",
   "id": "0768d598",
   "metadata": {
    "papermill": {
     "duration": 0.029404,
     "end_time": "2024-02-01T22:59:46.512351",
     "exception": false,
     "start_time": "2024-02-01T22:59:46.482947",
     "status": "completed"
    },
    "tags": []
   },
   "source": [
    "### Compute Alpha Diversity (Phylogeny)\n",
    "- [diversity alpha_phylogenetic](https://docs.qiime2.org/2022.8/plugins/available/diversity/alpha-phylogenetic/): Computes a user-specified phylogenetic alpha diversity metric for all samples in a feature table.\n",
    "- Metrics: Choices ('faith_pd')"
   ]
  },
  {
   "cell_type": "code",
   "execution_count": 11,
   "id": "0383aa19",
   "metadata": {
    "ExecuteTime": {
     "end_time": "2022-09-29T20:54:35.310009Z",
     "start_time": "2022-09-29T20:54:35.141333Z"
    },
    "execution": {
     "iopub.execute_input": "2024-02-01T22:59:46.569408Z",
     "iopub.status.busy": "2024-02-01T22:59:46.569040Z",
     "iopub.status.idle": "2024-02-01T22:59:46.706415Z",
     "shell.execute_reply": "2024-02-01T22:59:46.705532Z"
    },
    "papermill": {
     "duration": 0.167493,
     "end_time": "2024-02-01T22:59:46.707897",
     "exception": false,
     "start_time": "2024-02-01T22:59:46.540404",
     "status": "completed"
    },
    "tags": []
   },
   "outputs": [
    {
     "name": "stdout",
     "output_type": "stream",
     "text": [
      "Calculating alpha diversity: faith_pd\n",
      "{'metric': 'faith_pd', 'table': <artifact: FeatureTable[Frequency] uuid: 401de62e-7dda-472e-be1d-cf3285a80260>, 'phylogeny': <artifact: Phylogeny[Rooted] uuid: 96217d6b-4df4-449b-a6e6-28732ae1714b>}\n",
      "{'table': <q2_types.feature_table._format.BIOMV210Format object at 0x7fed4356b430>, 'phylogeny': <q2_types.tree._format.NewickFormat object at 0x7fed4356b550>}\n",
      "{'table': <q2_types.feature_table._format.BIOMV210Format object at 0x7fed4356b430>, 'phylogeny': <q2_types.tree._format.NewickFormat object at 0x7fed4356b550>}\n",
      "DONE: Calculating alpha phylogeny: faith_pd\n"
     ]
    }
   ],
   "source": [
    "metrics = ('faith_pd', )\n",
    "alpha_diversities_phylogenetic = dict()\n",
    "for metric in metrics:\n",
    "    print(f\"Calculating alpha diversity: {metric}\")\n",
    "    try:\n",
    "        alpha_diversity = alpha_phylogenetic(table=tabs, phylogeny=mafft_rooted_tree, metric=metric).alpha_diversity\n",
    "        alpha_diversities_phylogenetic[metric] = alpha_diversity\n",
    "        # Save Artifact\n",
    "        file_path = os.path.join(alpha_path, f'alpha-phylogeny-{metric}.qza')\n",
    "        alpha_diversity.save(file_path)\n",
    "        print(f\"DONE: Calculating alpha phylogeny: {metric}\")\n",
    "    except Exception as e:\n",
    "        print(f\"ERROR: Calculating alpha phylogeny: {metric}\")"
   ]
  },
  {
   "cell_type": "markdown",
   "id": "42db1ead",
   "metadata": {
    "papermill": {
     "duration": 0.032183,
     "end_time": "2024-02-01T22:59:46.772631",
     "exception": false,
     "start_time": "2024-02-01T22:59:46.740448",
     "status": "completed"
    },
    "tags": []
   },
   "source": [
    "- [core-metrics-phylogenetic](https://docs.qiime2.org/2023.7/plugins/available/diversity/core-metrics-phylogenetic/)"
   ]
  },
  {
   "cell_type": "code",
   "execution_count": 12,
   "id": "ef726ab7",
   "metadata": {
    "execution": {
     "iopub.execute_input": "2024-02-01T22:59:46.839019Z",
     "iopub.status.busy": "2024-02-01T22:59:46.838612Z",
     "iopub.status.idle": "2024-02-01T22:59:48.959230Z",
     "shell.execute_reply": "2024-02-01T22:59:48.958643Z"
    },
    "papermill": {
     "duration": 2.157418,
     "end_time": "2024-02-01T22:59:48.962275",
     "exception": false,
     "start_time": "2024-02-01T22:59:46.804857",
     "status": "completed"
    },
    "tags": []
   },
   "outputs": [
    {
     "name": "stdout",
     "output_type": "stream",
     "text": [
      "{'sampling_depth': 2854, 'metadata': Metadata\n",
      "--------\n",
      "15 IDs x 3 columns\n",
      "sample-name: ColumnProperties(type='categorical')\n",
      "group-id:    ColumnProperties(type='categorical')\n",
      "group-desc:  ColumnProperties(type='categorical')\n",
      "\n",
      "Call to_dataframe() for a tabular representation., 'n_jobs_or_threads': 6, 'table': <artifact: FeatureTable[Frequency] uuid: 401de62e-7dda-472e-be1d-cf3285a80260>, 'phylogeny': <artifact: Phylogeny[Rooted] uuid: 96217d6b-4df4-449b-a6e6-28732ae1714b>}\n",
      "{'sampling_depth': 2854, 'metadata': Metadata\n",
      "--------\n",
      "15 IDs x 3 columns\n",
      "sample-name: ColumnProperties(type='categorical')\n",
      "group-id:    ColumnProperties(type='categorical')\n",
      "group-desc:  ColumnProperties(type='categorical')\n",
      "\n",
      "Call to_dataframe() for a tabular representation., 'with_replacement': False, 'n_jobs': 6, 'table': <artifact: FeatureTable[Frequency] uuid: 401de62e-7dda-472e-be1d-cf3285a80260>}\n",
      "{'sampling_depth': 2854, 'with_replacement': False, 'table': 909 x 15 <class 'biom.table.Table'> with 1956 nonzero entries (14% dense)}\n",
      "{'sampling_depth': 2854, 'with_replacement': False, 'table': 909 x 15 <class 'biom.table.Table'> with 1956 nonzero entries (14% dense)}\n",
      "{'table': 742 x 15 <class 'biom.table.Table'> with 1628 nonzero entries (14% dense)}\n",
      "{'table': 742 x 15 <class 'biom.table.Table'> with 1628 nonzero entries (14% dense)}\n",
      "{'drop_undefined_samples': False, 'table': 742 x 15 <class 'biom.table.Table'> with 1628 nonzero entries (14% dense)}\n",
      "{'drop_undefined_samples': False, 'table': 742 x 15 <class 'biom.table.Table'> with 1628 nonzero entries (14% dense)}\n",
      "{'drop_undefined_samples': False, 'table': 742 x 15 <class 'biom.table.Table'> with 1628 nonzero entries (14% dense)}\n",
      "{'drop_undefined_samples': False, 'table': 742 x 15 <class 'biom.table.Table'> with 1628 nonzero entries (14% dense)}\n"
     ]
    },
    {
     "name": "stdout",
     "output_type": "stream",
     "text": [
      "{'n_jobs': 6, 'table': 742 x 15 <class 'biom.table.Table'> with 1628 nonzero entries (14% dense)}\n",
      "{'n_jobs': 6, 'table': 742 x 15 <class 'biom.table.Table'> with 1628 nonzero entries (14% dense)}\n",
      "{'n_jobs': 6, 'table': 742 x 15 <class 'biom.table.Table'> with 1628 nonzero entries (14% dense)}\n",
      "{'n_jobs': 6, 'table': 742 x 15 <class 'biom.table.Table'> with 1628 nonzero entries (14% dense)}\n",
      "{'number_of_dimensions': None, 'distance_matrix': <skbio.stats.distance._base.DistanceMatrix object at 0x7fed4358e670>}\n",
      "{'number_of_dimensions': None, 'distance_matrix': <skbio.stats.distance._base.DistanceMatrix object at 0x7fed4358e670>}\n",
      "{'number_of_dimensions': None, 'distance_matrix': <skbio.stats.distance._base.DistanceMatrix object at 0x7fed4358ee80>}\n",
      "{'number_of_dimensions': None, 'distance_matrix': <skbio.stats.distance._base.DistanceMatrix object at 0x7fed4358ee80>}\n"
     ]
    },
    {
     "name": "stderr",
     "output_type": "stream",
     "text": [
      "/home/lauro/anaconda3/envs/qiime2-2022.2/lib/python3.8/site-packages/sklearn/metrics/pairwise.py:1761: DataConversionWarning: Data was converted to boolean for metric jaccard\n",
      "  warnings.warn(msg, DataConversionWarning)\n"
     ]
    },
    {
     "name": "stdout",
     "output_type": "stream",
     "text": [
      "{'metadata': Metadata\n",
      "--------\n",
      "15 IDs x 3 columns\n",
      "sample-name: ColumnProperties(type='categorical')\n",
      "group-id:    ColumnProperties(type='categorical')\n",
      "group-desc:  ColumnProperties(type='categorical')\n",
      "\n",
      "Call to_dataframe() for a tabular representation., 'custom_axes': None, 'ignore_missing_samples': False, 'ignore_pcoa_features': False, 'pcoa': <skbio.stats.ordination._ordination_results.OrdinationResults object at 0x7fed404e9610>}\n"
     ]
    },
    {
     "name": "stdout",
     "output_type": "stream",
     "text": [
      "{'metadata': Metadata\n",
      "--------\n",
      "15 IDs x 3 columns\n",
      "sample-name: ColumnProperties(type='categorical')\n",
      "group-id:    ColumnProperties(type='categorical')\n",
      "group-desc:  ColumnProperties(type='categorical')\n",
      "\n",
      "Call to_dataframe() for a tabular representation., 'custom_axes': None, 'ignore_missing_samples': False, 'ignore_pcoa_features': False, 'pcoa': <skbio.stats.ordination._ordination_results.OrdinationResults object at 0x7fed404ec5b0>}\n"
     ]
    },
    {
     "name": "stdout",
     "output_type": "stream",
     "text": [
      "{'table': <q2_types.feature_table._format.BIOMV210Format object at 0x7fed435cd400>, 'phylogeny': <q2_types.tree._format.NewickFormat object at 0x7fed435cdd00>}\n",
      "{'table': <q2_types.feature_table._format.BIOMV210Format object at 0x7fed435cd400>, 'phylogeny': <q2_types.tree._format.NewickFormat object at 0x7fed435cdd00>}\n",
      "{'threads': 6, 'bypass_tips': False, 'table': <q2_types.feature_table._format.BIOMV210Format object at 0x7fed4357ea90>, 'phylogeny': <q2_types.tree._format.NewickFormat object at 0x7fed43b6a250>}\n",
      "{'threads': 6, 'bypass_tips': False, 'table': <q2_types.feature_table._format.BIOMV210Format object at 0x7fed4357ea90>, 'phylogeny': <q2_types.tree._format.NewickFormat object at 0x7fed43b6a250>}\n",
      "{'threads': 6, 'bypass_tips': False, 'table': <q2_types.feature_table._format.BIOMV210Format object at 0x7fed404e1d60>, 'phylogeny': <q2_types.tree._format.NewickFormat object at 0x7fed404e19d0>}\n",
      "{'threads': 6, 'bypass_tips': False, 'table': <q2_types.feature_table._format.BIOMV210Format object at 0x7fed404e1d60>, 'phylogeny': <q2_types.tree._format.NewickFormat object at 0x7fed404e19d0>}\n"
     ]
    },
    {
     "name": "stdout",
     "output_type": "stream",
     "text": [
      "{'number_of_dimensions': None, 'distance_matrix': <skbio.stats.distance._base.DistanceMatrix object at 0x7fed435cd5e0>}\n",
      "{'number_of_dimensions': None, 'distance_matrix': <skbio.stats.distance._base.DistanceMatrix object at 0x7fed435cd5e0>}\n",
      "{'number_of_dimensions': None, 'distance_matrix': <skbio.stats.distance._base.DistanceMatrix object at 0x7fed404e1160>}\n",
      "{'number_of_dimensions': None, 'distance_matrix': <skbio.stats.distance._base.DistanceMatrix object at 0x7fed404e1160>}\n",
      "{'metadata': Metadata\n",
      "--------\n",
      "15 IDs x 3 columns\n",
      "sample-name: ColumnProperties(type='categorical')\n",
      "group-id:    ColumnProperties(type='categorical')\n",
      "group-desc:  ColumnProperties(type='categorical')\n",
      "\n",
      "Call to_dataframe() for a tabular representation., 'custom_axes': None, 'ignore_missing_samples': False, 'ignore_pcoa_features': False, 'pcoa': <skbio.stats.ordination._ordination_results.OrdinationResults object at 0x7fed404ecaf0>}\n",
      "{'metadata': Metadata\n",
      "--------\n",
      "15 IDs x 3 columns\n",
      "sample-name: ColumnProperties(type='categorical')\n",
      "group-id:    ColumnProperties(type='categorical')\n",
      "group-desc:  ColumnProperties(type='categorical')\n",
      "\n",
      "Call to_dataframe() for a tabular representation., 'custom_axes': None, 'ignore_missing_samples': False, 'ignore_pcoa_features': False, 'pcoa': <skbio.stats.ordination._ordination_results.OrdinationResults object at 0x7fed404ec910>}\n"
     ]
    },
    {
     "name": "stderr",
     "output_type": "stream",
     "text": [
      "/home/lauro/anaconda3/envs/qiime2-2022.2/lib/python3.8/site-packages/skbio/stats/ordination/_principal_coordinate_analysis.py:143: RuntimeWarning: The result contains negative eigenvalues. Please compare their magnitude with the magnitude of some of the largest positive eigenvalues. If the negative ones are smaller, it's probably safe to ignore them, but if they are large in magnitude, the results won't be useful. See the Notes section for more details. The smallest eigenvalue is -0.006277381972199161 and the largest is 0.4128586770037782.\n",
      "  warn(\n"
     ]
    }
   ],
   "source": [
    "s_depth = int(tabs.view(pd.DataFrame).sum(axis=1).min())\n",
    "results = core_metrics_phylogenetic(\n",
    "    table = tabs,\n",
    "    phylogeny = mafft_rooted_tree,\n",
    "    sampling_depth = s_depth,\n",
    "    metadata = metadata_qa,\n",
    "    n_jobs_or_threads = 6,\n",
    ")"
   ]
  },
  {
   "cell_type": "code",
   "execution_count": 13,
   "id": "19311218",
   "metadata": {
    "execution": {
     "iopub.execute_input": "2024-02-01T22:59:49.039568Z",
     "iopub.status.busy": "2024-02-01T22:59:49.039268Z",
     "iopub.status.idle": "2024-02-01T22:59:49.045710Z",
     "shell.execute_reply": "2024-02-01T22:59:49.045015Z"
    },
    "papermill": {
     "duration": 0.043428,
     "end_time": "2024-02-01T22:59:49.047394",
     "exception": false,
     "start_time": "2024-02-01T22:59:49.003966",
     "status": "completed"
    },
    "tags": []
   },
   "outputs": [],
   "source": [
    "results_info = [(\"rarefied_table\", \"FeatureTable[Frequency]\", \"The resulting rarefied feature table.\"),\n",
    "(\"faith_pd_vector\", \"SampleData[AlphaDiversity]\", \"Vector of Faith PD values by sample.\"),\n",
    "(\"observed_features_vector\", \"SampleData[AlphaDiversity]\", \"Vector of Observed Features values by sample.\"),\n",
    "(\"shannon_vector\", \"SampleData[AlphaDiversity]\", \"Vector of Shannon diversity values by sample.\"),\n",
    "(\"evenness_vector\", \"SampleData[AlphaDiversity]\", \"Vector of Pielou's evenness values by sample.\"),\n",
    "(\"unweighted_unifrac_distance_matrix\", \"DistanceMatrix\", \"Matrix of unweighted UniFrac distances between pairs of samples.\"),\n",
    "(\"weighted_unifrac_distance_matrix\", \"DistanceMatrix\", \"Matrix of weighted UniFrac distances between pairs of samples.\"),\n",
    "(\"jaccard_distance_matrix\", \"DistanceMatrix\", \"Matrix of Jaccard distances between pairs of samples.\"),\n",
    "(\"bray_curtis_distance_matrix\", \"DistanceMatrix\", \"Matrix of Bray-Curtis distances between pairs of samples.\"),\n",
    "(\"unweighted_unifrac_pcoa_results\", \"PCoAResults\", \"PCoA matrix computed from unweighted UniFrac distances between samples.\"),\n",
    "(\"weighted_unifrac_pcoa_results\", \"PCoAResults\", \"PCoA matrix computed from weighted UniFrac distances between samples.\"),\n",
    "(\"jaccard_pcoa_results\", \"PCoAResults\", \"PCoA matrix computed from Jaccard distances between samples.\"),\n",
    "(\"bray_curtis_pcoa_results\", \"PCoAResults\", \"PCoA matrix computed from Bray-Curtis distances between samples.\"),\n",
    "(\"unweighted_unifrac_emperor\", \"Visualization\", \"Emperor plot of the PCoA matrix computed from unweighted UniFrac.\"),\n",
    "(\"weighted_unifrac_emperor\", \"Visualization\", \"Emperor plot of the PCoA matrix computed from weighted UniFrac.\"),\n",
    "(\"jaccard_emperor\", \"Visualization\", \"Emperor plot of the PCoA matrix computed from Jaccard.\"),\n",
    "(\"bray_curtis_emperor\", \"Visualization\", \"Emperor plot of the PCoA matrix computed from Bray-Curtis.\")]"
   ]
  },
  {
   "cell_type": "code",
   "execution_count": 14,
   "id": "2264925a",
   "metadata": {
    "execution": {
     "iopub.execute_input": "2024-02-01T22:59:49.120240Z",
     "iopub.status.busy": "2024-02-01T22:59:49.119888Z",
     "iopub.status.idle": "2024-02-01T22:59:49.593692Z",
     "shell.execute_reply": "2024-02-01T22:59:49.593070Z"
    },
    "papermill": {
     "duration": 0.512308,
     "end_time": "2024-02-01T22:59:49.596641",
     "exception": false,
     "start_time": "2024-02-01T22:59:49.084333",
     "status": "completed"
    },
    "tags": []
   },
   "outputs": [
    {
     "name": "stdout",
     "output_type": "stream",
     "text": [
      "13 unweighted_unifrac_emperor Visualization\n",
      "--- Emperor plot of the PCoA matrix computed from unweighted UniFrac. ---\n",
      "Saving emperor file at: /home/lauro/nupeb/rede-micro/redemicro-ana-flavia-nutri/experiments/ana-flavia-HSD-NCxHSD-NR-trim/qiime-artifacts/beta-analysis/unweighted_unifrac_emperor.qzv\n",
      "\n",
      "14 weighted_unifrac_emperor Visualization\n",
      "--- Emperor plot of the PCoA matrix computed from weighted UniFrac. ---\n",
      "Saving emperor file at: /home/lauro/nupeb/rede-micro/redemicro-ana-flavia-nutri/experiments/ana-flavia-HSD-NCxHSD-NR-trim/qiime-artifacts/beta-analysis/weighted_unifrac_emperor.qzv\n",
      "\n"
     ]
    },
    {
     "name": "stdout",
     "output_type": "stream",
     "text": [
      "15 jaccard_emperor Visualization\n",
      "--- Emperor plot of the PCoA matrix computed from Jaccard. ---\n",
      "Saving emperor file at: /home/lauro/nupeb/rede-micro/redemicro-ana-flavia-nutri/experiments/ana-flavia-HSD-NCxHSD-NR-trim/qiime-artifacts/beta-analysis/jaccard_emperor.qzv\n",
      "\n",
      "16 bray_curtis_emperor Visualization\n",
      "--- Emperor plot of the PCoA matrix computed from Bray-Curtis. ---\n",
      "Saving emperor file at: /home/lauro/nupeb/rede-micro/redemicro-ana-flavia-nutri/experiments/ana-flavia-HSD-NCxHSD-NR-trim/qiime-artifacts/beta-analysis/bray_curtis_emperor.qzv\n",
      "\n"
     ]
    }
   ],
   "source": [
    "distance_matrix = dict()\n",
    "for i, info in enumerate(results_info):\n",
    "    r_id, r_type, r_desc = info\n",
    "    #print(i, r_id, r_type)\n",
    "    file_name = f\"{r_id}.qzv\"\n",
    "    if r_type == \"FeatureTable[Frequency]\":\n",
    "        pass\n",
    "    elif r_type == \"DistanceMatrix\":\n",
    "        distance_matrix[r_id] = results[i]\n",
    "    elif r_id.endswith('emperor'):\n",
    "        print(i, r_id, r_type)\n",
    "        print(f\"--- {r_desc} ---\")\n",
    "        file_name = os.path.join(beta_path, file_name)\n",
    "        print(f'Saving emperor file at: {file_name}\\n')\n",
    "        results[i].save(filepath=file_name)"
   ]
  },
  {
   "cell_type": "markdown",
   "id": "c7752cfd",
   "metadata": {
    "papermill": {
     "duration": 0.047933,
     "end_time": "2024-02-01T22:59:49.689943",
     "exception": false,
     "start_time": "2024-02-01T22:59:49.642010",
     "status": "completed"
    },
    "tags": []
   },
   "source": [
    "### Alpha diversity correlation\n",
    "\n",
    "This method only process `numeric` columns.\n"
   ]
  },
  {
   "cell_type": "code",
   "execution_count": 15,
   "id": "2814f613",
   "metadata": {
    "ExecuteTime": {
     "end_time": "2022-09-29T20:54:35.317618Z",
     "start_time": "2022-09-29T20:54:35.312094Z"
    },
    "execution": {
     "iopub.execute_input": "2024-02-01T22:59:49.862127Z",
     "iopub.status.busy": "2024-02-01T22:59:49.861769Z",
     "iopub.status.idle": "2024-02-01T22:59:49.869142Z",
     "shell.execute_reply": "2024-02-01T22:59:49.868399Z"
    },
    "papermill": {
     "duration": 0.096419,
     "end_time": "2024-02-01T22:59:49.872275",
     "exception": false,
     "start_time": "2024-02-01T22:59:49.775856",
     "status": "completed"
    },
    "tags": []
   },
   "outputs": [],
   "source": [
    "methods = ('spearman', 'pearson')\n",
    "numerics_cols = metadata_qa.filter_columns(column_type='numeric')\n",
    "if numerics_cols.column_count > 0:\n",
    "    for metric, alpha_values in alpha_diversities.items():\n",
    "        for method in methods:\n",
    "            try:\n",
    "                corr_view = alpha_correlation(alpha_diversity=alpha_values, metadata=numerics_cols, \n",
    "                                          method=method, intersect_ids=True).visualization\n",
    "                view_path = os.path.join(alpha_path, f'alpha-correlation-{metric}-{method}.qzv')\n",
    "                corr_view.save(view_path)\n",
    "                corr_view\n",
    "                print(f\"DONE: Calculating alpha correlation: {metric} {method}\")\n",
    "            except Exception as e:\n",
    "                print(f\"ERROR: Calculating alpha correlation: {metric} {method}\")"
   ]
  },
  {
   "cell_type": "markdown",
   "id": "8ea83c8a",
   "metadata": {
    "papermill": {
     "duration": 0.038219,
     "end_time": "2024-02-01T22:59:49.954162",
     "exception": false,
     "start_time": "2024-02-01T22:59:49.915943",
     "status": "completed"
    },
    "tags": []
   },
   "source": [
    "## Alpha diversity comparisons\n",
    "\n",
    "Visually and statistically compare groups of alpha diversity values.\n",
    "\n",
    "[diversity alpha_group_significance](https://docs.qiime2.org/2022.8/plugins/available/diversity/alpha-group-significance/)"
   ]
  },
  {
   "cell_type": "code",
   "execution_count": 16,
   "id": "276d1c18",
   "metadata": {
    "ExecuteTime": {
     "end_time": "2022-09-29T20:54:36.089290Z",
     "start_time": "2022-09-29T20:54:35.318963Z"
    },
    "execution": {
     "iopub.execute_input": "2024-02-01T22:59:50.028807Z",
     "iopub.status.busy": "2024-02-01T22:59:50.028403Z",
     "iopub.status.idle": "2024-02-01T22:59:50.768331Z",
     "shell.execute_reply": "2024-02-01T22:59:50.767716Z"
    },
    "papermill": {
     "duration": 0.779974,
     "end_time": "2024-02-01T22:59:50.770971",
     "exception": false,
     "start_time": "2024-02-01T22:59:49.990997",
     "status": "completed"
    },
    "tags": []
   },
   "outputs": [
    {
     "name": "stdout",
     "output_type": "stream",
     "text": [
      "Processing alpha_group_significance: chao1\n",
      "{'metadata': Metadata\n",
      "--------\n",
      "15 IDs x 3 columns\n",
      "sample-name: ColumnProperties(type='categorical')\n",
      "group-id:    ColumnProperties(type='categorical')\n",
      "group-desc:  ColumnProperties(type='categorical')\n",
      "\n",
      "Call to_dataframe() for a tabular representation., 'alpha_diversity': S210421121688    185.0\n",
      "S210421121689    160.0\n",
      "S210421121690    147.0\n",
      "S210421121691    285.0\n",
      "S210421121692    137.0\n",
      "S210421121693    172.0\n",
      "S210421121698     52.0\n",
      "S210421121699    113.0\n",
      "S210421121700     90.0\n",
      "S210421121701     92.0\n",
      "S210421121702     44.0\n",
      "S210421121707    219.0\n",
      "S210421121708    119.0\n",
      "S210421121709    105.0\n",
      "S210421121710     36.0\n",
      "Name: chao1, dtype: float64}\n",
      "DONE: Calculating alpha group significance: chao1\n",
      "Processing alpha_group_significance: chao1_ci\n",
      "ERROR: Calculating alpha group significance: chao1_ci\n",
      "Processing alpha_group_significance: observed_features\n",
      "{'metadata': Metadata\n",
      "--------\n",
      "15 IDs x 3 columns\n",
      "sample-name: ColumnProperties(type='categorical')\n",
      "group-id:    ColumnProperties(type='categorical')\n",
      "group-desc:  ColumnProperties(type='categorical')\n",
      "\n",
      "Call to_dataframe() for a tabular representation., 'alpha_diversity': S210421121688    185\n",
      "S210421121689    160\n",
      "S210421121690    147\n",
      "S210421121691    285\n",
      "S210421121692    137\n",
      "S210421121693    172\n",
      "S210421121698     52\n",
      "S210421121699    113\n",
      "S210421121700     90\n",
      "S210421121701     92\n",
      "S210421121702     44\n",
      "S210421121707    219\n",
      "S210421121708    119\n",
      "S210421121709    105\n",
      "S210421121710     36\n",
      "Name: observed_features, dtype: int64}\n"
     ]
    },
    {
     "name": "stdout",
     "output_type": "stream",
     "text": [
      "DONE: Calculating alpha group significance: observed_features\n",
      "Processing alpha_group_significance: shannon\n",
      "{'metadata': Metadata\n",
      "--------\n",
      "15 IDs x 3 columns\n",
      "sample-name: ColumnProperties(type='categorical')\n",
      "group-id:    ColumnProperties(type='categorical')\n",
      "group-desc:  ColumnProperties(type='categorical')\n",
      "\n",
      "Call to_dataframe() for a tabular representation., 'alpha_diversity': S210421121688    5.383905\n",
      "S210421121689    3.637362\n",
      "S210421121690    4.348517\n",
      "S210421121691    6.398281\n",
      "S210421121692    4.840741\n",
      "S210421121693    4.319901\n",
      "S210421121698    3.397345\n",
      "S210421121699    5.865433\n",
      "S210421121700    5.496901\n",
      "S210421121701    2.705817\n",
      "S210421121702    4.395961\n",
      "S210421121707    5.519281\n",
      "S210421121708    5.520796\n",
      "S210421121709    4.826476\n",
      "S210421121710    3.903198\n",
      "Name: shannon_entropy, dtype: float64}\n",
      "DONE: Calculating alpha group significance: shannon\n",
      "Processing alpha_group_significance: simpson\n",
      "{'metadata': Metadata\n",
      "--------\n",
      "15 IDs x 3 columns\n",
      "sample-name: ColumnProperties(type='categorical')\n",
      "group-id:    ColumnProperties(type='categorical')\n",
      "group-desc:  ColumnProperties(type='categorical')\n",
      "\n",
      "Call to_dataframe() for a tabular representation., 'alpha_diversity': S210421121688    0.960381\n",
      "S210421121689    0.793962\n",
      "S210421121690    0.894339\n",
      "S210421121691    0.976475\n",
      "S210421121692    0.924892\n",
      "S210421121693    0.876379\n",
      "S210421121698    0.792733\n",
      "S210421121699    0.972133\n",
      "S210421121700    0.965448\n",
      "S210421121701    0.604572\n",
      "S210421121702    0.912672\n",
      "S210421121707    0.936488\n",
      "S210421121708    0.946668\n",
      "S210421121709    0.924440\n",
      "S210421121710    0.884766\n",
      "Name: simpson, dtype: float64}\n"
     ]
    },
    {
     "name": "stdout",
     "output_type": "stream",
     "text": [
      "DONE: Calculating alpha group significance: simpson\n",
      "Processing alpha_group_significance: simpson_e\n",
      "{'metadata': Metadata\n",
      "--------\n",
      "15 IDs x 3 columns\n",
      "sample-name: ColumnProperties(type='categorical')\n",
      "group-id:    ColumnProperties(type='categorical')\n",
      "group-desc:  ColumnProperties(type='categorical')\n",
      "\n",
      "Call to_dataframe() for a tabular representation., 'alpha_diversity': S210421121688    0.136436\n",
      "S210421121689    0.030334\n",
      "S210421121690    0.064383\n",
      "S210421121691    0.149151\n",
      "S210421121692    0.097184\n",
      "S210421121693    0.047030\n",
      "S210421121698    0.092782\n",
      "S210421121699    0.317560\n",
      "S210421121700    0.321580\n",
      "S210421121701    0.027488\n",
      "S210421121702    0.260251\n",
      "S210421121707    0.071896\n",
      "S210421121708    0.157567\n",
      "S210421121709    0.126044\n",
      "S210421121710    0.241056\n",
      "Name: simpson_e, dtype: float64}\n",
      "DONE: Calculating alpha group significance: simpson_e\n"
     ]
    }
   ],
   "source": [
    "for metric, alpha_values in alpha_diversities.items():\n",
    "    print(f\"Processing alpha_group_significance: {metric}\")\n",
    "    try:\n",
    "        significance_view = alpha_group_significance(alpha_diversity=alpha_values, metadata=metadata_qa).visualization\n",
    "        view_path = os.path.join(alpha_path, f'alpha-group-significance-{metric}.qzv')\n",
    "        significance_view.save(view_path)\n",
    "        significance_view\n",
    "        print(f\"DONE: Calculating alpha group significance: {metric}\")\n",
    "    except Exception as e:\n",
    "        print(f\"ERROR: Calculating alpha group significance: {metric}\")"
   ]
  },
  {
   "cell_type": "markdown",
   "id": "4349d357",
   "metadata": {
    "papermill": {
     "duration": 0.037267,
     "end_time": "2024-02-01T22:59:50.852069",
     "exception": false,
     "start_time": "2024-02-01T22:59:50.814802",
     "status": "completed"
    },
    "tags": []
   },
   "source": [
    "## Beta diversity analysis\n",
    "\n",
    "#### Reference\n",
    "- [diversity beta](https://docs.qiime2.org/2022.8/plugins/available/diversity/beta/): Computes a user-specified beta diversity metric for all pairs of samples in a feature table.\n",
    "- [Beta diversity metrics](http://scikit-bio.org/docs/0.2.0/generated/skbio.diversity.beta.html)\n",
    "\n",
    "- Metric Choices('aitchison', 'braycurtis', 'canberra', 'canberra_adkins', 'chebyshev', 'cityblock', 'correlation', 'cosine', 'dice', 'euclidean', 'hamming', 'jaccard', 'jensenshannon', 'kulsinski', 'matching', 'minkowski', 'rogerstanimoto', 'russellrao', 'seuclidean', 'sokalmichener', 'sokalsneath', 'sqeuclidean', 'yule')"
   ]
  },
  {
   "cell_type": "code",
   "execution_count": 17,
   "id": "f6f358dd",
   "metadata": {
    "ExecuteTime": {
     "end_time": "2022-09-29T20:54:36.335038Z",
     "start_time": "2022-09-29T20:54:36.091288Z"
    },
    "execution": {
     "iopub.execute_input": "2024-02-01T22:59:50.928763Z",
     "iopub.status.busy": "2024-02-01T22:59:50.928368Z",
     "iopub.status.idle": "2024-02-01T22:59:51.479096Z",
     "shell.execute_reply": "2024-02-01T22:59:51.478416Z"
    },
    "papermill": {
     "duration": 0.593605,
     "end_time": "2024-02-01T22:59:51.483227",
     "exception": false,
     "start_time": "2024-02-01T22:59:50.889622",
     "status": "completed"
    },
    "tags": []
   },
   "outputs": [
    {
     "name": "stdout",
     "output_type": "stream",
     "text": [
      "Calculating beta diversity: euclidean\n",
      "{'metric': 'euclidean', 'pseudocount': 1, 'n_jobs': 6, 'table': <artifact: FeatureTable[Frequency] uuid: 401de62e-7dda-472e-be1d-cf3285a80260>}\n",
      "{'metric': 'euclidean', 'pseudocount': 1, 'n_jobs': 6, 'table': 909 x 15 <class 'biom.table.Table'> with 1956 nonzero entries (14% dense)}\n",
      "{'metric': 'euclidean', 'pseudocount': 1, 'n_jobs': 6, 'table': 909 x 15 <class 'biom.table.Table'> with 1956 nonzero entries (14% dense)}\n",
      "DONE: Calculating beta diversity: euclidean\n",
      "Calculating beta diversity: dice\n",
      "{'metric': 'dice', 'pseudocount': 1, 'n_jobs': 6, 'table': <artifact: FeatureTable[Frequency] uuid: 401de62e-7dda-472e-be1d-cf3285a80260>}\n",
      "{'metric': 'dice', 'pseudocount': 1, 'n_jobs': 6, 'table': 909 x 15 <class 'biom.table.Table'> with 1956 nonzero entries (14% dense)}\n",
      "{'metric': 'dice', 'pseudocount': 1, 'n_jobs': 6, 'table': 909 x 15 <class 'biom.table.Table'> with 1956 nonzero entries (14% dense)}\n",
      "DONE: Calculating beta diversity: dice\n",
      "Calculating beta diversity: braycurtis\n",
      "{'metric': 'braycurtis', 'pseudocount': 1, 'n_jobs': 6, 'table': <artifact: FeatureTable[Frequency] uuid: 401de62e-7dda-472e-be1d-cf3285a80260>}\n",
      "{'n_jobs': 6, 'table': 909 x 15 <class 'biom.table.Table'> with 1956 nonzero entries (14% dense)}\n",
      "{'n_jobs': 6, 'table': 909 x 15 <class 'biom.table.Table'> with 1956 nonzero entries (14% dense)}\n"
     ]
    },
    {
     "name": "stderr",
     "output_type": "stream",
     "text": [
      "/home/lauro/anaconda3/envs/qiime2-2022.2/lib/python3.8/site-packages/sklearn/metrics/pairwise.py:1761: DataConversionWarning: Data was converted to boolean for metric dice\n",
      "  warnings.warn(msg, DataConversionWarning)\n"
     ]
    },
    {
     "name": "stdout",
     "output_type": "stream",
     "text": [
      "DONE: Calculating beta diversity: braycurtis\n",
      "Calculating beta diversity: correlation\n",
      "{'metric': 'correlation', 'pseudocount': 1, 'n_jobs': 6, 'table': <artifact: FeatureTable[Frequency] uuid: 401de62e-7dda-472e-be1d-cf3285a80260>}\n",
      "{'metric': 'correlation', 'pseudocount': 1, 'n_jobs': 6, 'table': 909 x 15 <class 'biom.table.Table'> with 1956 nonzero entries (14% dense)}\n",
      "{'metric': 'correlation', 'pseudocount': 1, 'n_jobs': 6, 'table': 909 x 15 <class 'biom.table.Table'> with 1956 nonzero entries (14% dense)}\n",
      "ERROR: Calculating beta diversity: correlation\n",
      "Calculating beta diversity: cosine\n",
      "{'metric': 'cosine', 'pseudocount': 1, 'n_jobs': 6, 'table': <artifact: FeatureTable[Frequency] uuid: 401de62e-7dda-472e-be1d-cf3285a80260>}\n",
      "{'metric': 'cosine', 'pseudocount': 1, 'n_jobs': 6, 'table': 909 x 15 <class 'biom.table.Table'> with 1956 nonzero entries (14% dense)}\n",
      "{'metric': 'cosine', 'pseudocount': 1, 'n_jobs': 6, 'table': 909 x 15 <class 'biom.table.Table'> with 1956 nonzero entries (14% dense)}\n",
      "ERROR: Calculating beta diversity: cosine\n",
      "Calculating beta diversity: matching\n",
      "{'metric': 'matching', 'pseudocount': 1, 'n_jobs': 6, 'table': <artifact: FeatureTable[Frequency] uuid: 401de62e-7dda-472e-be1d-cf3285a80260>}\n",
      "{'metric': 'matching', 'pseudocount': 1, 'n_jobs': 6, 'table': 909 x 15 <class 'biom.table.Table'> with 1956 nonzero entries (14% dense)}\n",
      "{'metric': 'matching', 'pseudocount': 1, 'n_jobs': 6, 'table': 909 x 15 <class 'biom.table.Table'> with 1956 nonzero entries (14% dense)}\n",
      "DONE: Calculating beta diversity: matching\n",
      "Calculating beta diversity: jaccard\n",
      "{'metric': 'jaccard', 'pseudocount': 1, 'n_jobs': 6, 'table': <artifact: FeatureTable[Frequency] uuid: 401de62e-7dda-472e-be1d-cf3285a80260>}\n",
      "{'n_jobs': 6, 'table': 909 x 15 <class 'biom.table.Table'> with 1956 nonzero entries (14% dense)}\n",
      "{'n_jobs': 6, 'table': 909 x 15 <class 'biom.table.Table'> with 1956 nonzero entries (14% dense)}\n"
     ]
    },
    {
     "name": "stdout",
     "output_type": "stream",
     "text": [
      "DONE: Calculating beta diversity: jaccard\n"
     ]
    },
    {
     "name": "stderr",
     "output_type": "stream",
     "text": [
      "/home/lauro/anaconda3/envs/qiime2-2022.2/lib/python3.8/site-packages/sklearn/metrics/pairwise.py:1761: DataConversionWarning: Data was converted to boolean for metric matching\n",
      "  warnings.warn(msg, DataConversionWarning)\n",
      "/home/lauro/anaconda3/envs/qiime2-2022.2/lib/python3.8/site-packages/sklearn/metrics/pairwise.py:1761: DataConversionWarning: Data was converted to boolean for metric jaccard\n",
      "  warnings.warn(msg, DataConversionWarning)\n"
     ]
    }
   ],
   "source": [
    "metrics = ('aitchison', 'braycurtis', 'canberra', 'canberra_adkins', 'chebyshev', 'cityblock', 'correlation', 'cosine', 'dice', 'euclidean', 'hamming', 'jaccard', 'jensenshannon', 'kulsinski', 'matching', 'minkowski', 'rogerstanimoto', 'russellrao', 'seuclidean', 'sokalmichener', 'sokalsneath', 'sqeuclidean', 'yule')\n",
    "metrics = ('euclidean', 'dice', 'braycurtis', 'correlation', 'cosine', 'matching', 'jaccard')\n",
    "beta_diversities = dict()\n",
    "for metric in metrics:\n",
    "    print(f\"Calculating beta diversity: {metric}\")\n",
    "    try:\n",
    "        beta_diversity = beta(table=tabs, metric=metric, n_jobs=6, pseudocount=1).distance_matrix\n",
    "        beta_diversities[metric] = beta_diversity\n",
    "        # Save SampleData[BetaDiversity] Artifact\n",
    "        file_path = os.path.join(beta_path, f'beta-values-{metric}.qza')\n",
    "        beta_diversity.save(file_path)\n",
    "        print(f\"DONE: Calculating beta diversity: {metric}\")\n",
    "    except Exception as e:\n",
    "        print(f\"ERROR: Calculating beta diversity: {metric}\")"
   ]
  },
  {
   "cell_type": "markdown",
   "id": "200a2fa7",
   "metadata": {
    "papermill": {
     "duration": 0.038975,
     "end_time": "2024-02-01T22:59:51.568162",
     "exception": false,
     "start_time": "2024-02-01T22:59:51.529187",
     "status": "completed"
    },
    "tags": []
   },
   "source": [
    "### Beta group significance\n",
    "\n",
    "- [diversity beta_group_significance](https://docs.qiime2.org/2022.8/plugins/available/diversity/beta-group-significance/): Determine whether groups of samples are significantly different from one another using a permutation-based statistical test.\n",
    "- Marti J Anderson. A new method for non-parametric multivariate analysis of variance. Austral ecology, 26(1):32–46, 2001. doi:https://doi.org/10.1111/j.1442-9993.2001.01070.pp.x."
   ]
  },
  {
   "cell_type": "code",
   "execution_count": 18,
   "id": "b8dd42b6",
   "metadata": {
    "ExecuteTime": {
     "end_time": "2022-09-29T20:55:08.313860Z",
     "start_time": "2022-09-29T20:54:36.336993Z"
    },
    "execution": {
     "iopub.execute_input": "2024-02-01T22:59:51.648166Z",
     "iopub.status.busy": "2024-02-01T22:59:51.647799Z",
     "iopub.status.idle": "2024-02-01T23:00:32.162749Z",
     "shell.execute_reply": "2024-02-01T23:00:32.162041Z"
    },
    "papermill": {
     "duration": 40.559561,
     "end_time": "2024-02-01T23:00:32.166753",
     "exception": false,
     "start_time": "2024-02-01T22:59:51.607192",
     "status": "completed"
    },
    "tags": []
   },
   "outputs": [
    {
     "name": "stdout",
     "output_type": "stream",
     "text": [
      "Calculating beta group significance with method permanova and metric euclidean\n",
      "{'metadata': <CategoricalMetadataColumn name='group-id' id_count=15>, 'method': 'permanova', 'pairwise': True, 'permutations': 999, 'distance_matrix': <skbio.stats.distance._base.DistanceMatrix object at 0x7fed43b6a730>}\n"
     ]
    },
    {
     "name": "stdout",
     "output_type": "stream",
     "text": [
      "DONE: Calculating beta group significance: permanova euclidean\n",
      "Calculating beta group significance with method permanova and metric dice\n",
      "{'metadata': <CategoricalMetadataColumn name='group-id' id_count=15>, 'method': 'permanova', 'pairwise': True, 'permutations': 999, 'distance_matrix': <skbio.stats.distance._base.DistanceMatrix object at 0x7fed309fcc10>}\n"
     ]
    },
    {
     "name": "stdout",
     "output_type": "stream",
     "text": [
      "DONE: Calculating beta group significance: permanova dice\n",
      "Calculating beta group significance with method permanova and metric braycurtis\n",
      "{'metadata': <CategoricalMetadataColumn name='group-id' id_count=15>, 'method': 'permanova', 'pairwise': True, 'permutations': 999, 'distance_matrix': <skbio.stats.distance._base.DistanceMatrix object at 0x7fed309bc340>}\n"
     ]
    },
    {
     "name": "stdout",
     "output_type": "stream",
     "text": [
      "DONE: Calculating beta group significance: permanova braycurtis\n",
      "Calculating beta group significance with method permanova and metric matching\n",
      "{'metadata': <CategoricalMetadataColumn name='group-id' id_count=15>, 'method': 'permanova', 'pairwise': True, 'permutations': 999, 'distance_matrix': <skbio.stats.distance._base.DistanceMatrix object at 0x7fed309fc3d0>}\n"
     ]
    },
    {
     "name": "stdout",
     "output_type": "stream",
     "text": [
      "DONE: Calculating beta group significance: permanova matching\n",
      "Calculating beta group significance with method permanova and metric jaccard\n",
      "{'metadata': <CategoricalMetadataColumn name='group-id' id_count=15>, 'method': 'permanova', 'pairwise': True, 'permutations': 999, 'distance_matrix': <skbio.stats.distance._base.DistanceMatrix object at 0x7fed43893040>}\n"
     ]
    },
    {
     "name": "stdout",
     "output_type": "stream",
     "text": [
      "DONE: Calculating beta group significance: permanova jaccard\n",
      "Calculating beta group significance with method anosim and metric euclidean\n",
      "{'metadata': <CategoricalMetadataColumn name='group-id' id_count=15>, 'method': 'anosim', 'pairwise': True, 'permutations': 999, 'distance_matrix': <skbio.stats.distance._base.DistanceMatrix object at 0x7fed44297c40>}\n"
     ]
    },
    {
     "name": "stdout",
     "output_type": "stream",
     "text": [
      "DONE: Calculating beta group significance: anosim euclidean\n",
      "Calculating beta group significance with method anosim and metric dice\n",
      "{'metadata': <CategoricalMetadataColumn name='group-id' id_count=15>, 'method': 'anosim', 'pairwise': True, 'permutations': 999, 'distance_matrix': <skbio.stats.distance._base.DistanceMatrix object at 0x7fed43fb4040>}\n"
     ]
    },
    {
     "name": "stdout",
     "output_type": "stream",
     "text": [
      "DONE: Calculating beta group significance: anosim dice\n",
      "Calculating beta group significance with method anosim and metric braycurtis\n",
      "{'metadata': <CategoricalMetadataColumn name='group-id' id_count=15>, 'method': 'anosim', 'pairwise': True, 'permutations': 999, 'distance_matrix': <skbio.stats.distance._base.DistanceMatrix object at 0x7fed443d5ac0>}\n"
     ]
    },
    {
     "name": "stdout",
     "output_type": "stream",
     "text": [
      "DONE: Calculating beta group significance: anosim braycurtis\n",
      "Calculating beta group significance with method anosim and metric matching\n",
      "{'metadata': <CategoricalMetadataColumn name='group-id' id_count=15>, 'method': 'anosim', 'pairwise': True, 'permutations': 999, 'distance_matrix': <skbio.stats.distance._base.DistanceMatrix object at 0x7fed43ecb1f0>}\n"
     ]
    },
    {
     "name": "stdout",
     "output_type": "stream",
     "text": [
      "DONE: Calculating beta group significance: anosim matching\n",
      "Calculating beta group significance with method anosim and metric jaccard\n",
      "{'metadata': <CategoricalMetadataColumn name='group-id' id_count=15>, 'method': 'anosim', 'pairwise': True, 'permutations': 999, 'distance_matrix': <skbio.stats.distance._base.DistanceMatrix object at 0x7fed43d40b80>}\n"
     ]
    },
    {
     "name": "stdout",
     "output_type": "stream",
     "text": [
      "DONE: Calculating beta group significance: anosim jaccard\n",
      "Calculating beta group significance with method permdisp and metric euclidean\n",
      "{'metadata': <CategoricalMetadataColumn name='group-id' id_count=15>, 'method': 'permdisp', 'pairwise': True, 'permutations': 999, 'distance_matrix': <skbio.stats.distance._base.DistanceMatrix object at 0x7fed43ecb940>}\n"
     ]
    },
    {
     "name": "stdout",
     "output_type": "stream",
     "text": [
      "DONE: Calculating beta group significance: permdisp euclidean\n",
      "Calculating beta group significance with method permdisp and metric dice\n",
      "{'metadata': <CategoricalMetadataColumn name='group-id' id_count=15>, 'method': 'permdisp', 'pairwise': True, 'permutations': 999, 'distance_matrix': <skbio.stats.distance._base.DistanceMatrix object at 0x7fed30a6ac10>}\n"
     ]
    },
    {
     "name": "stdout",
     "output_type": "stream",
     "text": [
      "DONE: Calculating beta group significance: permdisp dice\n",
      "Calculating beta group significance with method permdisp and metric braycurtis\n",
      "{'metadata': <CategoricalMetadataColumn name='group-id' id_count=15>, 'method': 'permdisp', 'pairwise': True, 'permutations': 999, 'distance_matrix': <skbio.stats.distance._base.DistanceMatrix object at 0x7fed43d3e640>}\n"
     ]
    },
    {
     "name": "stdout",
     "output_type": "stream",
     "text": [
      "DONE: Calculating beta group significance: permdisp braycurtis\n",
      "Calculating beta group significance with method permdisp and metric matching\n",
      "{'metadata': <CategoricalMetadataColumn name='group-id' id_count=15>, 'method': 'permdisp', 'pairwise': True, 'permutations': 999, 'distance_matrix': <skbio.stats.distance._base.DistanceMatrix object at 0x7fed4380e0d0>}\n"
     ]
    },
    {
     "name": "stdout",
     "output_type": "stream",
     "text": [
      "DONE: Calculating beta group significance: permdisp matching\n",
      "Calculating beta group significance with method permdisp and metric jaccard\n",
      "{'metadata': <CategoricalMetadataColumn name='group-id' id_count=15>, 'method': 'permdisp', 'pairwise': True, 'permutations': 999, 'distance_matrix': <skbio.stats.distance._base.DistanceMatrix object at 0x7fed437fc850>}\n"
     ]
    },
    {
     "name": "stdout",
     "output_type": "stream",
     "text": [
      "DONE: Calculating beta group significance: permdisp jaccard\n"
     ]
    },
    {
     "data": {
      "text/plain": [
       "<Figure size 432x288 with 0 Axes>"
      ]
     },
     "metadata": {},
     "output_type": "display_data"
    }
   ],
   "source": [
    "methods = ('permanova', 'anosim', 'permdisp')\n",
    "for method in methods:\n",
    "    for metric, beta_diversity in beta_diversities.items():\n",
    "        print(f'Calculating beta group significance with method {method} and metric {metric}')\n",
    "        try:\n",
    "            beta_view = beta_group_significance(distance_matrix=beta_diversity, \n",
    "                                                metadata=metadata_qa.get_column(class_col), \n",
    "                                                pairwise=True, method=method).visualization\n",
    "            view_name = os.path.join(beta_path, f'beta-group-significance-{metric}-{method}.qzv')\n",
    "            beta_view.save(view_name)\n",
    "            print(f\"DONE: Calculating beta group significance: {method} {metric}\")\n",
    "        except Exception as e:\n",
    "            print(f\"ERROR: Calculating beta group significance: {method} {metric}\")"
   ]
  },
  {
   "cell_type": "code",
   "execution_count": 19,
   "id": "6366725e",
   "metadata": {
    "execution": {
     "iopub.execute_input": "2024-02-01T23:00:32.258480Z",
     "iopub.status.busy": "2024-02-01T23:00:32.258065Z",
     "iopub.status.idle": "2024-02-01T23:01:03.602646Z",
     "shell.execute_reply": "2024-02-01T23:01:03.601968Z"
    },
    "papermill": {
     "duration": 31.444393,
     "end_time": "2024-02-01T23:01:03.658401",
     "exception": false,
     "start_time": "2024-02-01T23:00:32.214008",
     "status": "completed"
    },
    "tags": []
   },
   "outputs": [
    {
     "name": "stdout",
     "output_type": "stream",
     "text": [
      "Calculating beta group significance with method permanova and metric unweighted_unifrac_distance_matrix\n",
      "{'metadata': <CategoricalMetadataColumn name='group-id' id_count=15>, 'method': 'permanova', 'pairwise': True, 'permutations': 999, 'distance_matrix': <skbio.stats.distance._base.DistanceMatrix object at 0x7fedbb73be80>}\n"
     ]
    },
    {
     "name": "stdout",
     "output_type": "stream",
     "text": [
      "DONE: Calculating beta group significance: permanova unweighted_unifrac_distance_matrix\n",
      "Calculating beta group significance with method permanova and metric weighted_unifrac_distance_matrix\n",
      "{'metadata': <CategoricalMetadataColumn name='group-id' id_count=15>, 'method': 'permanova', 'pairwise': True, 'permutations': 999, 'distance_matrix': <skbio.stats.distance._base.DistanceMatrix object at 0x7fed437a4700>}\n"
     ]
    },
    {
     "name": "stdout",
     "output_type": "stream",
     "text": [
      "DONE: Calculating beta group significance: permanova weighted_unifrac_distance_matrix\n",
      "Calculating beta group significance with method permanova and metric jaccard_distance_matrix\n",
      "{'metadata': <CategoricalMetadataColumn name='group-id' id_count=15>, 'method': 'permanova', 'pairwise': True, 'permutations': 999, 'distance_matrix': <skbio.stats.distance._base.DistanceMatrix object at 0x7fed43d0f9a0>}\n"
     ]
    },
    {
     "name": "stdout",
     "output_type": "stream",
     "text": [
      "DONE: Calculating beta group significance: permanova jaccard_distance_matrix\n",
      "Calculating beta group significance with method permanova and metric bray_curtis_distance_matrix\n",
      "{'metadata': <CategoricalMetadataColumn name='group-id' id_count=15>, 'method': 'permanova', 'pairwise': True, 'permutations': 999, 'distance_matrix': <skbio.stats.distance._base.DistanceMatrix object at 0x7fed43650df0>}\n"
     ]
    },
    {
     "name": "stdout",
     "output_type": "stream",
     "text": [
      "DONE: Calculating beta group significance: permanova bray_curtis_distance_matrix\n",
      "Calculating beta group significance with method anosim and metric unweighted_unifrac_distance_matrix\n",
      "{'metadata': <CategoricalMetadataColumn name='group-id' id_count=15>, 'method': 'anosim', 'pairwise': True, 'permutations': 999, 'distance_matrix': <skbio.stats.distance._base.DistanceMatrix object at 0x7fed439590a0>}\n"
     ]
    },
    {
     "name": "stdout",
     "output_type": "stream",
     "text": [
      "DONE: Calculating beta group significance: anosim unweighted_unifrac_distance_matrix\n",
      "Calculating beta group significance with method anosim and metric weighted_unifrac_distance_matrix\n",
      "{'metadata': <CategoricalMetadataColumn name='group-id' id_count=15>, 'method': 'anosim', 'pairwise': True, 'permutations': 999, 'distance_matrix': <skbio.stats.distance._base.DistanceMatrix object at 0x7fed438ff970>}\n"
     ]
    },
    {
     "name": "stdout",
     "output_type": "stream",
     "text": [
      "DONE: Calculating beta group significance: anosim weighted_unifrac_distance_matrix\n",
      "Calculating beta group significance with method anosim and metric jaccard_distance_matrix\n",
      "{'metadata': <CategoricalMetadataColumn name='group-id' id_count=15>, 'method': 'anosim', 'pairwise': True, 'permutations': 999, 'distance_matrix': <skbio.stats.distance._base.DistanceMatrix object at 0x7fed43b92790>}\n"
     ]
    },
    {
     "name": "stdout",
     "output_type": "stream",
     "text": [
      "DONE: Calculating beta group significance: anosim jaccard_distance_matrix\n",
      "Calculating beta group significance with method anosim and metric bray_curtis_distance_matrix\n",
      "{'metadata': <CategoricalMetadataColumn name='group-id' id_count=15>, 'method': 'anosim', 'pairwise': True, 'permutations': 999, 'distance_matrix': <skbio.stats.distance._base.DistanceMatrix object at 0x7fed436f4e80>}\n"
     ]
    },
    {
     "name": "stdout",
     "output_type": "stream",
     "text": [
      "DONE: Calculating beta group significance: anosim bray_curtis_distance_matrix\n",
      "Calculating beta group significance with method permdisp and metric unweighted_unifrac_distance_matrix\n",
      "{'metadata': <CategoricalMetadataColumn name='group-id' id_count=15>, 'method': 'permdisp', 'pairwise': True, 'permutations': 999, 'distance_matrix': <skbio.stats.distance._base.DistanceMatrix object at 0x7fed4369baf0>}\n"
     ]
    },
    {
     "name": "stdout",
     "output_type": "stream",
     "text": [
      "DONE: Calculating beta group significance: permdisp unweighted_unifrac_distance_matrix\n",
      "Calculating beta group significance with method permdisp and metric weighted_unifrac_distance_matrix\n",
      "{'metadata': <CategoricalMetadataColumn name='group-id' id_count=15>, 'method': 'permdisp', 'pairwise': True, 'permutations': 999, 'distance_matrix': <skbio.stats.distance._base.DistanceMatrix object at 0x7fed436c6100>}\n"
     ]
    },
    {
     "name": "stderr",
     "output_type": "stream",
     "text": [
      "/home/lauro/anaconda3/envs/qiime2-2022.2/lib/python3.8/site-packages/skbio/stats/ordination/_principal_coordinate_analysis.py:143: RuntimeWarning: The result contains negative eigenvalues. Please compare their magnitude with the magnitude of some of the largest positive eigenvalues. If the negative ones are smaller, it's probably safe to ignore them, but if they are large in magnitude, the results won't be useful. See the Notes section for more details. The smallest eigenvalue is -0.006277381972199147 and the largest is 0.41285867700377826.\n",
      "  warn(\n"
     ]
    },
    {
     "name": "stderr",
     "output_type": "stream",
     "text": [
      "/home/lauro/anaconda3/envs/qiime2-2022.2/lib/python3.8/site-packages/skbio/stats/ordination/_principal_coordinate_analysis.py:143: RuntimeWarning: The result contains negative eigenvalues. Please compare their magnitude with the magnitude of some of the largest positive eigenvalues. If the negative ones are smaller, it's probably safe to ignore them, but if they are large in magnitude, the results won't be useful. See the Notes section for more details. The smallest eigenvalue is -0.006277381972199147 and the largest is 0.41285867700377826.\n",
      "  warn(\n"
     ]
    },
    {
     "name": "stdout",
     "output_type": "stream",
     "text": [
      "DONE: Calculating beta group significance: permdisp weighted_unifrac_distance_matrix\n",
      "Calculating beta group significance with method permdisp and metric jaccard_distance_matrix\n",
      "{'metadata': <CategoricalMetadataColumn name='group-id' id_count=15>, 'method': 'permdisp', 'pairwise': True, 'permutations': 999, 'distance_matrix': <skbio.stats.distance._base.DistanceMatrix object at 0x7fed403248e0>}\n"
     ]
    },
    {
     "name": "stdout",
     "output_type": "stream",
     "text": [
      "DONE: Calculating beta group significance: permdisp jaccard_distance_matrix\n",
      "Calculating beta group significance with method permdisp and metric bray_curtis_distance_matrix\n",
      "{'metadata': <CategoricalMetadataColumn name='group-id' id_count=15>, 'method': 'permdisp', 'pairwise': True, 'permutations': 999, 'distance_matrix': <skbio.stats.distance._base.DistanceMatrix object at 0x7fed309412b0>}\n"
     ]
    },
    {
     "name": "stdout",
     "output_type": "stream",
     "text": [
      "DONE: Calculating beta group significance: permdisp bray_curtis_distance_matrix\n"
     ]
    },
    {
     "data": {
      "text/plain": [
       "<Figure size 432x288 with 0 Axes>"
      ]
     },
     "metadata": {},
     "output_type": "display_data"
    }
   ],
   "source": [
    "# Expand tests using UNIFRAC metrics\n",
    "methods = ('permanova', 'anosim', 'permdisp')\n",
    "for method in methods:\n",
    "    for metric, beta_diversity in distance_matrix.items():\n",
    "        print(f'Calculating beta group significance with method {method} and metric {metric}')\n",
    "        try:\n",
    "            beta_view = beta_group_significance(distance_matrix=beta_diversity, \n",
    "                                                metadata=metadata_qa.get_column(class_col), \n",
    "                                                pairwise=True, method=method).visualization\n",
    "            view_name = os.path.join(beta_path, f'beta-group-significance-{metric}-{method}.qzv')\n",
    "            beta_view.save(view_name)\n",
    "            print(f\"DONE: Calculating beta group significance: {method} {metric}\")\n",
    "        except Exception as e:\n",
    "            print(f\"ERROR: Calculating beta group significance: {method} {metric}\")"
   ]
  },
  {
   "cell_type": "markdown",
   "id": "c0de85cf",
   "metadata": {
    "papermill": {
     "duration": 0.115759,
     "end_time": "2024-02-01T23:01:03.868611",
     "exception": false,
     "start_time": "2024-02-01T23:01:03.752852",
     "status": "completed"
    },
    "tags": []
   },
   "source": [
    "### Beta group Rarefaction\n",
    "\n",
    "- [diversity beta_rarefaction](https://docs.qiime2.org/2022.8/plugins/available/diversity/beta-rarefaction/): Repeatedly rarefy a feature table to compare beta diversity results within a given rarefaction depth.  For a given beta diversity metric, this visualizer will provide: an Emperor jackknifed PCoA plot, samples clustered by UPGMA or neighbor joining with support calculation, and a heatmap showing the correlation between rarefaction trials of that beta diversity metric."
   ]
  }
 ],
 "metadata": {
  "celltoolbar": "Edit Metadata",
  "kernelspec": {
   "display_name": "Python 3 (ipykernel)",
   "language": "python",
   "name": "python3"
  },
  "language_info": {
   "codemirror_mode": {
    "name": "ipython",
    "version": 3
   },
   "file_extension": ".py",
   "mimetype": "text/x-python",
   "name": "python",
   "nbconvert_exporter": "python",
   "pygments_lexer": "ipython3",
   "version": "3.8.12"
  },
  "papermill": {
   "default_parameters": {},
   "duration": 106.348281,
   "end_time": "2024-02-01T23:01:04.982904",
   "environment_variables": {},
   "exception": null,
   "input_path": "nb-templates/step-diversity-analysis.ipynb",
   "output_path": "/home/lauro/nupeb/rede-micro/redemicro-ana-flavia-nutri/experiments/ana-flavia-HSD-NCxHSD-NR-trim/nb-executed-steps/step-diversity-analysis-ana-flavia-HSD-NCxHSD-NR-trim.ipynb",
   "parameters": {
    "PAPERMILL_INPUT_PATH": "nb-templates/step-diversity-analysis.ipynb",
    "PAPERMILL_OUTPUT_PATH": "/home/lauro/nupeb/rede-micro/redemicro-ana-flavia-nutri/experiments/ana-flavia-HSD-NCxHSD-NR-trim/nb-executed-steps/step-diversity-analysis-ana-flavia-HSD-NCxHSD-NR-trim.ipynb",
    "base_dir": "/home/lauro/nupeb/rede-micro/redemicro-ana-flavia-nutri",
    "class_col": "group-id",
    "classifier_file": "/home/lauro/nupeb/rede-micro/models/silva-138-99-nb-classifier.qza",
    "experiment_name": "ana-flavia-HSD-NCxHSD-NR-trim",
    "manifest_file": "/home/lauro/nupeb/rede-micro/redemicro-ana-flavia-nutri/data/raw/manifest/manifest-ana-flavia-HSD-NCxHSD-NR.csv",
    "metadata_file": "/home/lauro/nupeb/rede-micro/redemicro-ana-flavia-nutri/data/raw/metadata/metadata-ana-flavia-HSD-NCxHSD-NR.tsv",
    "overlap": 12,
    "phred": 20,
    "replace_files": false,
    "threads": 6,
    "top_n": 20,
    "trim": {
     "forward_primer": "CCTACGGGRSGCAGCAG",
     "overlap": 8,
     "reverse_primer": "GGACTACHVGGGTWTCTAAT"
    },
    "trunc_f": 0,
    "trunc_r": 0
   },
   "start_time": "2024-02-01T22:59:18.634623",
   "version": "2.3.4"
  }
 },
 "nbformat": 4,
 "nbformat_minor": 5
}