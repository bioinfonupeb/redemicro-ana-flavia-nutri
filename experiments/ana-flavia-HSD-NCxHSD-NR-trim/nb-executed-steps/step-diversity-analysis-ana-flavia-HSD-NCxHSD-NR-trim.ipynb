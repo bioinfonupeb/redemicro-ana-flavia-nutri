{
 "cells": [
  {
   "cell_type": "markdown",
   "id": "15bcfa06",
   "metadata": {
    "papermill": {
     "duration": 0.027085,
     "end_time": "2022-09-29T22:18:31.290069",
     "exception": false,
     "start_time": "2022-09-29T22:18:31.262984",
     "status": "completed"
    },
    "tags": []
   },
   "source": [
    " \n",
    "# Alpha and Beta Diversity\n",
    "\n",
    "Different higher-level measures are often used to describe the microbiome in a sample. These do not provide information on changes in the abundance of specific taxa but allow us to access a broader change or difference in the composition of microorganisms. Alpha and beta diversity are examples of such measures.\n",
    "\n",
    "Different measures exist to estimate diversity within a single sample, jointly called alpha diversity. The different measures reflect the richness (number) or distribution (evenness) of a microbial sample or aim to reflect a combination of both properties.\n",
    "\n",
    "Rarefaction curves are often used when calculating alpha diversity indices because increasing numbers of sequenced taxa allow increasingly accurate estimates of total population diversity. Rarefaction curves can therefore be used to estimate the full sample richness, as compared to the observed sample richness.\n",
    "\n",
    "While alpha diversity is a measure of microbiome diversity applicable to a single sample, beta diversity is a measure of the similarity or dissimilarity of two communities. As for alpha diversity, many indices exist, each reflecting different aspects of community heterogeneity. Key differences relate to how the indices value variation in rare species if they consider presence/absence only or incorporate abundance, and how they interpret shared absence. Bray-Curtis dissimilarity is a popular measure that considers both size (overall abundance per sample) and shape (abundance of each taxon) of the communities (Bray, 1957). Beta diversity is an essential measure for many popular statistical methods in ecology, such as ordination-based methods, and is widely used for studying the association between environmental variables and microbial composition.\n",
    "\n",
    "In summary, alpha diversity measures can be seen as a summary statistic of a single population (within-sample diversity), while beta diversity measures are estimates of similarity or dissimilarity between populations (between samples).\n",
    "\n",
    "**Source**: (https://biomcare.com/info/key-terms-in-microbiome-projects/)"
   ]
  },
  {
   "cell_type": "markdown",
   "id": "0e7f2330",
   "metadata": {
    "ExecuteTime": {
     "end_time": "2022-09-22T19:36:33.828188Z",
     "start_time": "2022-09-22T19:36:33.817323Z"
    },
    "papermill": {
     "duration": 0.018096,
     "end_time": "2022-09-29T22:18:31.327041",
     "exception": false,
     "start_time": "2022-09-29T22:18:31.308945",
     "status": "completed"
    },
    "tags": []
   },
   "source": [
    "### STEP : Diversity Analysis\n",
    "\n",
    "Using QIIME2 to create diversity analisys graphs and calculations.\n",
    "\n",
    "- [QIIME2 Workflow Overview](https://docs.qiime2.org/2022.8/tutorials/overview/)\n",
    "\n",
    "\n",
    "#### Methods\n",
    "- [diversity](https://docs.qiime2.org/2022.8/plugins/available/diversity/)\n",
    "- [diversity alpha](https://docs.qiime2.org/2022.8/plugins/available/diversity/alpha/)\n",
    "- [diversity alpha_phylogenetic](https://docs.qiime2.org/2022.8/plugins/available/diversity/alpha-phylogenetic/)\n",
    "- [diversity beta](https://docs.qiime2.org/2022.8/plugins/available/diversity/beta/)\n",
    "- [diversity core_metrics](https://docs.qiime2.org/2022.8/plugins/available/diversity/core-metrics/)\n",
    "- [diversity alpha_group_significance](https://docs.qiime2.org/2022.8/plugins/available/diversity/alpha-group-significance/)\n",
    "- [diversity beta_group_significance](https://docs.qiime2.org/2022.8/plugins/available/diversity/beta-group-significance/)\n",
    "- [feature_table core_features](https://docs.qiime2.org/2022.8/plugins/available/feature-table/core-features/)\n",
    "- [feature_table summarize](https://docs.qiime2.org/2022.8/plugins/available/feature-table/summarize/)\n",
    "- [taxa filter-table](https://docs.qiime2.org/2022.8/plugins/available/taxa/filter-table/)\n",
    "- [taxa collapse](https://docs.qiime2.org/2022.8/plugins/available/taxa/collapse/)"
   ]
  },
  {
   "cell_type": "markdown",
   "id": "843debbf",
   "metadata": {
    "papermill": {
     "duration": 0.017691,
     "end_time": "2022-09-29T22:18:31.362521",
     "exception": false,
     "start_time": "2022-09-29T22:18:31.344830",
     "status": "completed"
    },
    "tags": []
   },
   "source": [
    "## Setup and settings"
   ]
  },
  {
   "cell_type": "code",
   "execution_count": 1,
   "id": "965e28e5",
   "metadata": {
    "ExecuteTime": {
     "end_time": "2022-09-29T20:54:14.786765Z",
     "start_time": "2022-09-29T20:54:08.286473Z"
    },
    "execution": {
     "iopub.execute_input": "2022-09-29T22:18:31.397800Z",
     "iopub.status.busy": "2022-09-29T22:18:31.397601Z",
     "iopub.status.idle": "2022-09-29T22:18:37.796672Z",
     "shell.execute_reply": "2022-09-29T22:18:37.796078Z"
    },
    "papermill": {
     "duration": 6.420164,
     "end_time": "2022-09-29T22:18:37.799905",
     "exception": false,
     "start_time": "2022-09-29T22:18:31.379741",
     "status": "completed"
    },
    "tags": []
   },
   "outputs": [],
   "source": [
    "# Importing packages\n",
    "import os\n",
    "import pandas as pd\n",
    "from qiime2 import Artifact\n",
    "from qiime2 import Visualization\n",
    "from qiime2 import Metadata\n",
    "\n",
    "from qiime2.plugins.phylogeny.pipelines import align_to_tree_mafft_fasttree\n",
    "\n",
    "from qiime2.plugins.diversity.pipelines import alpha\n",
    "from qiime2.plugins.diversity.pipelines import beta\n",
    "from qiime2.plugins.diversity.pipelines import core_metrics\n",
    "from qiime2.plugins.diversity.pipelines import alpha_phylogenetic\n",
    "\n",
    "from qiime2.plugins.diversity.visualizers import alpha_group_significance\n",
    "from qiime2.plugins.diversity.visualizers import beta_group_significance\n",
    "from qiime2.plugins.diversity.visualizers import alpha_correlation\n",
    "from qiime2.plugins.diversity.visualizers import beta_rarefaction\n",
    "\n",
    "from qiime2.plugins.taxa.methods import filter_table\n",
    "from qiime2.plugins.taxa.methods import collapse\n",
    "\n",
    "from qiime2.plugins.feature_table.visualizers import tabulate_seqs\n",
    "from qiime2.plugins.feature_table.visualizers import summarize\n",
    "from qiime2.plugins.feature_table.visualizers import core_features\n",
    "\n",
    "from qiime2.plugins.alignment.methods import mafft\n",
    "\n",
    "\n",
    "import matplotlib.pyplot as plt\n",
    "\n",
    "from utils import *\n",
    "\n",
    "%matplotlib inline"
   ]
  },
  {
   "cell_type": "markdown",
   "id": "530ceb60",
   "metadata": {
    "papermill": {
     "duration": 0.01656,
     "end_time": "2022-09-29T22:18:37.840067",
     "exception": false,
     "start_time": "2022-09-29T22:18:37.823507",
     "status": "completed"
    },
    "tags": []
   },
   "source": [
    "### Receiving the parameters\n",
    "\n",
    "The following cell can receive parameters using the [papermill](https://papermill.readthedocs.io/en/latest/) tool."
   ]
  },
  {
   "cell_type": "code",
   "execution_count": 2,
   "id": "18d874ea",
   "metadata": {
    "ExecuteTime": {
     "end_time": "2022-09-29T20:54:14.793270Z",
     "start_time": "2022-09-29T20:54:14.789367Z"
    },
    "execution": {
     "iopub.execute_input": "2022-09-29T22:18:37.895635Z",
     "iopub.status.busy": "2022-09-29T22:18:37.895453Z",
     "iopub.status.idle": "2022-09-29T22:18:37.898778Z",
     "shell.execute_reply": "2022-09-29T22:18:37.898130Z"
    },
    "papermill": {
     "duration": 0.022334,
     "end_time": "2022-09-29T22:18:37.900257",
     "exception": false,
     "start_time": "2022-09-29T22:18:37.877923",
     "status": "completed"
    },
    "tags": [
     "parameters"
    ]
   },
   "outputs": [],
   "source": [
    "metadata_file = '/home/lauro/nupeb/rede-micro/redemicro-miliane-nutri/data/raw/metadata/miliane-metadata-CxAC.tsv'\n",
    "base_dir = os.path.join('/', 'home', 'lauro', 'nupeb', 'rede-micro', 'redemicro-miliane-nutri')\n",
    "experiment_name = 'miliane-CxAC-trim'\n",
    "class_col = 'group-id'\n",
    "replace_files = False"
   ]
  },
  {
   "cell_type": "code",
   "execution_count": 3,
   "id": "2b6c87dc",
   "metadata": {
    "execution": {
     "iopub.execute_input": "2022-09-29T22:18:37.934679Z",
     "iopub.status.busy": "2022-09-29T22:18:37.934432Z",
     "iopub.status.idle": "2022-09-29T22:18:37.939383Z",
     "shell.execute_reply": "2022-09-29T22:18:37.938381Z"
    },
    "papermill": {
     "duration": 0.023754,
     "end_time": "2022-09-29T22:18:37.940800",
     "exception": false,
     "start_time": "2022-09-29T22:18:37.917046",
     "status": "completed"
    },
    "tags": [
     "injected-parameters"
    ]
   },
   "outputs": [],
   "source": [
    "# Parameters\n",
    "experiment_name = \"ana-flavia-HSD-NCxHSD-NR-trim\"\n",
    "base_dir = \"/home/lauro/nupeb/rede-micro/redemicro-ana-flavia-nutri\"\n",
    "manifest_file = \"/home/lauro/nupeb/rede-micro/redemicro-ana-flavia-nutri/data/raw/manifest/manifest-ana-flavia-HSD-NCxHSD-NR.csv\"\n",
    "metadata_file = \"/home/lauro/nupeb/rede-micro/redemicro-ana-flavia-nutri/data/raw/metadata/metadata-ana-flavia-HSD-NCxHSD-NR.tsv\"\n",
    "class_col = \"sample-group\"\n",
    "classifier_file = \"/home/lauro/nupeb/dados_brutos_rede_genoma/16S_classifiers_qiime2/silva-138-99-nb-classifier.qza\"\n",
    "replace_files = False\n",
    "phred = 20\n",
    "trunc_f = 0\n",
    "trunc_r = 0\n",
    "overlap = 12\n",
    "threads = 6\n",
    "trim = {\n",
    "    \"overlap\": 8,\n",
    "    \"forward_primer\": \"CCTACGGGRSGCAGCAG\",\n",
    "    \"reverse_primer\": \"GGACTACHVGGGTWTCTAAT\",\n",
    "}\n"
   ]
  },
  {
   "cell_type": "code",
   "execution_count": 4,
   "id": "f38617d9",
   "metadata": {
    "ExecuteTime": {
     "end_time": "2022-09-29T20:54:14.804575Z",
     "start_time": "2022-09-29T20:54:14.794927Z"
    },
    "execution": {
     "iopub.execute_input": "2022-09-29T22:18:37.975365Z",
     "iopub.status.busy": "2022-09-29T22:18:37.975169Z",
     "iopub.status.idle": "2022-09-29T22:18:37.978215Z",
     "shell.execute_reply": "2022-09-29T22:18:37.977733Z"
    },
    "papermill": {
     "duration": 0.02202,
     "end_time": "2022-09-29T22:18:37.979632",
     "exception": false,
     "start_time": "2022-09-29T22:18:37.957612",
     "status": "completed"
    },
    "tags": []
   },
   "outputs": [],
   "source": [
    "experiment_folder = os.path.abspath(os.path.join(base_dir, 'experiments', experiment_name))\n",
    "img_folder = os.path.abspath(os.path.join(experiment_folder, 'imgs'))"
   ]
  },
  {
   "cell_type": "markdown",
   "id": "ea9b90fb",
   "metadata": {
    "papermill": {
     "duration": 0.016702,
     "end_time": "2022-09-29T22:18:38.013256",
     "exception": false,
     "start_time": "2022-09-29T22:18:37.996554",
     "status": "completed"
    },
    "tags": []
   },
   "source": [
    "### Defining names, paths and flags"
   ]
  },
  {
   "cell_type": "code",
   "execution_count": 5,
   "id": "45727eef",
   "metadata": {
    "ExecuteTime": {
     "end_time": "2022-09-29T20:54:14.816686Z",
     "start_time": "2022-09-29T20:54:14.806238Z"
    },
    "execution": {
     "iopub.execute_input": "2022-09-29T22:18:38.048084Z",
     "iopub.status.busy": "2022-09-29T22:18:38.047833Z",
     "iopub.status.idle": "2022-09-29T22:18:38.054601Z",
     "shell.execute_reply": "2022-09-29T22:18:38.053938Z"
    },
    "papermill": {
     "duration": 0.026012,
     "end_time": "2022-09-29T22:18:38.056127",
     "exception": false,
     "start_time": "2022-09-29T22:18:38.030115",
     "status": "completed"
    },
    "tags": []
   },
   "outputs": [],
   "source": [
    "# QIIME2 Artifacts folder\n",
    "qiime_folder = os.path.join(experiment_folder, 'qiime-artifacts')\n",
    "\n",
    "# Input - DADA2 Artifacts\n",
    "dada2_tabs_path = os.path.join(qiime_folder, 'dada2-tabs.qza')\n",
    "dada2_reps_path = os.path.join(qiime_folder, 'dada2-reps.qza')\n",
    "dada2_stat_path = os.path.join(qiime_folder, 'dada2-stat.qza')\n",
    "\n",
    "# Input - Taxonaomic Artifacts\n",
    "taxonomy_path = os.path.join(qiime_folder, 'metatax.qza')\n",
    "\n",
    "# Output -Diversity Artifacts\n",
    "alpha_diversity_path = os.path.join(qiime_folder, 'alpha-diversity.qza')\n",
    "alpha_diversity_view_path = os.path.join(qiime_folder, 'alpha-diversity.qzv')\n",
    "beta_diversity_path = os.path.join(qiime_folder, 'beta-diversity.qza')\n",
    "beta_diversity_view_path = os.path.join(qiime_folder, 'beta-diversity.qzv')\n",
    "\n",
    "dada2_tabs_view = os.path.join(qiime_folder, 'dada2-tabs.qzv')\n",
    "dada2_reps_view = os.path.join(qiime_folder, 'dada2-reps.qzv')\n",
    "dada2_core_view = os.path.join(qiime_folder, 'dada2-core.qzv')\n",
    "\n",
    "# Flag - Load or create files\n",
    "need_tax = not (os.path.isfile(alpha_diversity_path)) or replace_files\n",
    "need_view = not (os.path.isfile(alpha_diversity_view_path)) or replace_files"
   ]
  },
  {
   "cell_type": "code",
   "execution_count": 6,
   "id": "601ae263",
   "metadata": {
    "ExecuteTime": {
     "end_time": "2022-09-29T20:54:14.829117Z",
     "start_time": "2022-09-29T20:54:14.818272Z"
    },
    "execution": {
     "iopub.execute_input": "2022-09-29T22:18:38.093360Z",
     "iopub.status.busy": "2022-09-29T22:18:38.093085Z",
     "iopub.status.idle": "2022-09-29T22:18:38.101932Z",
     "shell.execute_reply": "2022-09-29T22:18:38.101047Z"
    },
    "papermill": {
     "duration": 0.028224,
     "end_time": "2022-09-29T22:18:38.103600",
     "exception": false,
     "start_time": "2022-09-29T22:18:38.075376",
     "status": "completed"
    },
    "tags": []
   },
   "outputs": [],
   "source": [
    "def filter_and_collapse(tab, seqs, tax, meta, lvl, exclude=True, exclude_list='uncultured,unidentified,metagenome'):\n",
    "    from qiime2.plugins.taxa.methods import collapse\n",
    "    from qiime2.plugins.taxa.methods import filter_table\n",
    "    from qiime2.plugins.feature_table.methods import filter_seqs\n",
    "    from qiime2.plugins.feature_table.visualizers import summarize\n",
    "    \n",
    "    to_include = ('d', 'p', 'c', 'o', 'f', 'g', 's')[lvl-1]\n",
    "    to_include += '__'\n",
    "    to_exclude = exclude_list if exclude else None\n",
    "    \n",
    "    filtered_tabs = filter_table(\n",
    "        table=tab, \n",
    "        taxonomy=tax,\n",
    "        include=to_include,\n",
    "        exclude=to_exclude,\n",
    "        mode='contains').filtered_table\n",
    "    \n",
    "    filtered_seqs = filter_seqs(\n",
    "        data = seqs,\n",
    "        table = filtered_tabs,\n",
    "    ).filtered_data\n",
    "    \n",
    "    collapsed_table = collapse(table=filtered_tabs, taxonomy=tax, level=lvl).collapsed_table\n",
    "    collapsed_table_view = summarize(table=collapsed_table, sample_metadata=meta).visualization\n",
    "    \n",
    "    return collapsed_table, collapsed_table_view, filtered_seqs"
   ]
  },
  {
   "cell_type": "markdown",
   "id": "0999a1b2",
   "metadata": {
    "papermill": {
     "duration": 0.016853,
     "end_time": "2022-09-29T22:18:38.139942",
     "exception": false,
     "start_time": "2022-09-29T22:18:38.123089",
     "status": "completed"
    },
    "tags": []
   },
   "source": [
    "## Step execution\n",
    "\n",
    "### Load input files\n",
    "\n",
    "This Step import the QIIME2 `FeatureTable[Frequency]` Artifact and the `Metadata` file."
   ]
  },
  {
   "cell_type": "code",
   "execution_count": 7,
   "id": "8f299d1a",
   "metadata": {
    "ExecuteTime": {
     "end_time": "2022-09-29T20:54:15.559837Z",
     "start_time": "2022-09-29T20:54:14.830405Z"
    },
    "execution": {
     "iopub.execute_input": "2022-09-29T22:18:38.175348Z",
     "iopub.status.busy": "2022-09-29T22:18:38.175016Z",
     "iopub.status.idle": "2022-09-29T22:18:38.575637Z",
     "shell.execute_reply": "2022-09-29T22:18:38.575104Z"
    },
    "papermill": {
     "duration": 0.421129,
     "end_time": "2022-09-29T22:18:38.578119",
     "exception": false,
     "start_time": "2022-09-29T22:18:38.156990",
     "status": "completed"
    },
    "tags": []
   },
   "outputs": [],
   "source": [
    "#Load Metadata\n",
    "metadata_qa = Metadata.load(metadata_file)\n",
    "\n",
    "#Load FeatureTable[Frequency]\n",
    "tabs = Artifact.load(dada2_tabs_path)\n",
    "tabs_df = tabs.view(Metadata).to_dataframe().T\n",
    "\n",
    "# FeatureData[Sequence]\n",
    "reps = Artifact.load(dada2_reps_path)\n",
    "\n",
    "# FeatureData[Taxonomy]\n",
    "tax = Artifact.load(taxonomy_path)"
   ]
  },
  {
   "cell_type": "code",
   "execution_count": 8,
   "id": "c8dfe530",
   "metadata": {
    "ExecuteTime": {
     "end_time": "2022-09-29T20:54:15.564968Z",
     "start_time": "2022-09-29T20:54:15.561875Z"
    },
    "execution": {
     "iopub.execute_input": "2022-09-29T22:18:38.619337Z",
     "iopub.status.busy": "2022-09-29T22:18:38.619168Z",
     "iopub.status.idle": "2022-09-29T22:18:38.621810Z",
     "shell.execute_reply": "2022-09-29T22:18:38.621259Z"
    },
    "papermill": {
     "duration": 0.021941,
     "end_time": "2022-09-29T22:18:38.623251",
     "exception": false,
     "start_time": "2022-09-29T22:18:38.601310",
     "status": "completed"
    },
    "tags": []
   },
   "outputs": [],
   "source": [
    "# lvl = 7\n",
    "# exclude = True\n",
    "# tabs, collapsed_table_view, reps = filter_and_collapse(\n",
    "#                     tabs, reps, tax, metadata_qa, \n",
    "#                     lvl=lvl,\n",
    "#                     exclude=exclude, \n",
    "#                     exclude_list='uncultured,unidentified,metagenome')\n",
    "# collapsed_table_view"
   ]
  },
  {
   "cell_type": "code",
   "execution_count": 9,
   "id": "8b66a6e5",
   "metadata": {
    "ExecuteTime": {
     "end_time": "2022-09-29T20:54:20.434382Z",
     "start_time": "2022-09-29T20:54:15.567722Z"
    },
    "execution": {
     "iopub.execute_input": "2022-09-29T22:18:38.657676Z",
     "iopub.status.busy": "2022-09-29T22:18:38.657524Z",
     "iopub.status.idle": "2022-09-29T22:18:42.385825Z",
     "shell.execute_reply": "2022-09-29T22:18:42.385273Z"
    },
    "papermill": {
     "duration": 3.748783,
     "end_time": "2022-09-29T22:18:42.388885",
     "exception": false,
     "start_time": "2022-09-29T22:18:38.640102",
     "status": "completed"
    },
    "tags": []
   },
   "outputs": [
    {
     "data": {
      "text/plain": [
       "'/home/lauro/nupeb/rede-micro/redemicro-ana-flavia-nutri/experiments/ana-flavia-HSD-NCxHSD-NR-trim/qiime-artifacts/dada2-core.qzv'"
      ]
     },
     "execution_count": 9,
     "metadata": {},
     "output_type": "execute_result"
    },
    {
     "data": {
      "image/png": "[encoded data removed]",
      "text/plain": [
       "<Figure size 432x288 with 1 Axes>"
      ]
     },
     "metadata": {
      "needs_background": "light"
     },
     "output_type": "display_data"
    }
   ],
   "source": [
    "tabs_view = summarize(table=tabs, sample_metadata=metadata_qa).visualization\n",
    "tabs_view.save(dada2_tabs_view)\n",
    "reps_view = tabulate_seqs(data=reps).visualization\n",
    "reps_view.save(dada2_reps_view)\n",
    "core_view = core_features(table=tabs, min_fraction=.1, steps=10).visualization\n",
    "core_view.save(dada2_core_view)"
   ]
  },
  {
   "cell_type": "code",
   "execution_count": 10,
   "id": "b2bf36b8",
   "metadata": {
    "ExecuteTime": {
     "end_time": "2022-09-29T20:54:20.449299Z",
     "start_time": "2022-09-29T20:54:20.435814Z"
    },
    "execution": {
     "iopub.execute_input": "2022-09-29T22:18:42.432885Z",
     "iopub.status.busy": "2022-09-29T22:18:42.432667Z",
     "iopub.status.idle": "2022-09-29T22:18:42.445559Z",
     "shell.execute_reply": "2022-09-29T22:18:42.445006Z"
    },
    "papermill": {
     "duration": 0.034527,
     "end_time": "2022-09-29T22:18:42.448013",
     "exception": false,
     "start_time": "2022-09-29T22:18:42.413486",
     "status": "completed"
    },
    "tags": []
   },
   "outputs": [
    {
     "name": "stdout",
     "output_type": "stream",
     "text": [
      "['0c00487f-9dc1-461f-91aa-5241c9e42c27/data/core-features-1.000.tsv']\n",
      "                         Feature ID     2%     9%    25%    50%     75%  \\\n",
      "0  4149e7afc413d557b531ca78d17d8fe3  14.08  23.04  123.0  734.0  4710.5   \n",
      "1  dd5ce8d0b040693d540cb5aaf1b9fb3b  21.20  54.62  235.5  453.0  2573.5   \n",
      "2  2f4a2b08eec8d8d5f66dc0d20552881f  80.80  97.88  220.5  335.0   418.5   \n",
      "\n",
      "       91%       98%  \n",
      "0  9992.80  12605.36  \n",
      "1  3588.66   5486.32  \n",
      "2   758.40    820.04  \n"
     ]
    }
   ],
   "source": [
    "import zipfile\n",
    "from io import StringIO\n",
    "import pandas as pd\n",
    "with zipfile.ZipFile(dada2_core_view, 'r') as zip_ref:\n",
    "    names = [x for x in zip_ref.namelist() if x.endswith('1.000.tsv')]\n",
    "    print(names)\n",
    "    with zip_ref.open(names[0]) as myfile:\n",
    "        txt = str(myfile.read(), 'utf-8')\n",
    "        txt = StringIO(txt)\n",
    "        df = pd.read_csv(txt, sep='\\t')\n",
    "        print(df)   "
   ]
  },
  {
   "cell_type": "markdown",
   "id": "9f43843a",
   "metadata": {
    "ExecuteTime": {
     "end_time": "2022-09-22T22:48:07.523952Z",
     "start_time": "2022-09-22T22:48:07.517565Z"
    },
    "papermill": {
     "duration": 0.018717,
     "end_time": "2022-09-29T22:18:42.490522",
     "exception": false,
     "start_time": "2022-09-29T22:18:42.471805",
     "status": "completed"
    },
    "tags": []
   },
   "source": [
    "## Alpha diversity analysis\n",
    "\n",
    "#### Reference\n",
    "- [The Use and Types of Alpha-Diversity Metrics in Microbial NGS](https://www.cd-genomics.com/microbioseq/the-use-and-types-of-alpha-diversity-metrics-in-microbial-ngs.html)\n",
    "- [Alpha diversity metrics](http://scikit-bio.org/docs/0.2.0/generated/skbio.diversity.alpha.html)\n",
    "\n",
    "#### Methods\n",
    "- [diversity alpha](https://docs.qiime2.org/2022.8/plugins/available/diversity/alpha/): Computes a user-specified alpha diversity metric for all samples in a\n",
    "feature table.\n",
    "- [diversity alpha_phylogenetic](https://docs.qiime2.org/2022.8/plugins/available/diversity/alpha-phylogenetic/): Computes a user-specified phylogenetic alpha diversity metric for all\n",
    "samples in a feature table.\n",
    "- [diversity alpha_correlation](https://docs.qiime2.org/2022.8/plugins/available/diversity/alpha-correlation/): Determine whether numeric sample metadata columns are correlated with alpha diversity.\n",
    "- [diversity alpha_group_significance](https://docs.qiime2.org/2022.8/plugins/available/diversity/alpha-group-significance/): Visually and statistically compare groups of alpha diversity values."
   ]
  },
  {
   "cell_type": "markdown",
   "id": "606b9c75",
   "metadata": {
    "papermill": {
     "duration": 0.019326,
     "end_time": "2022-09-29T22:18:42.529789",
     "exception": false,
     "start_time": "2022-09-29T22:18:42.510463",
     "status": "completed"
    },
    "tags": []
   },
   "source": [
    "### Compute Alpha Diversity vectors\n",
    "- [diversity alpha](https://docs.qiime2.org/2022.8/plugins/available/diversity/alpha/): Computes a user-specified alpha diversity metric for all samples in a feature table.\n",
    "- [Alpha diversity metrics](http://scikit-bio.org/docs/0.2.0/generated/skbio.diversity.alpha.html)\n",
    " - Choices: ('ace', 'berger_parker_d', 'brillouin_d', 'chao1', 'chao1_ci', 'dominance', 'doubles', 'enspie', 'esty_ci', 'fisher_alpha', 'gini_index', 'goods_coverage', 'heip_e', 'kempton_taylor_q', 'lladser_pe', 'margalef', 'mcintosh_d', 'mcintosh_e', 'menhinick', 'michaelis_menten_fit', 'observed_features', 'osd', 'pielou_e', 'robbins', 'shannon', 'simpson', 'simpson_e', 'singles', 'strong')"
   ]
  },
  {
   "cell_type": "code",
   "execution_count": 11,
   "id": "556e5264",
   "metadata": {
    "ExecuteTime": {
     "end_time": "2022-09-29T20:54:20.790166Z",
     "start_time": "2022-09-29T20:54:20.451134Z"
    },
    "execution": {
     "iopub.execute_input": "2022-09-29T22:18:42.570159Z",
     "iopub.status.busy": "2022-09-29T22:18:42.569883Z",
     "iopub.status.idle": "2022-09-29T22:18:42.853844Z",
     "shell.execute_reply": "2022-09-29T22:18:42.853393Z"
    },
    "papermill": {
     "duration": 0.307251,
     "end_time": "2022-09-29T22:18:42.856632",
     "exception": false,
     "start_time": "2022-09-29T22:18:42.549381",
     "status": "completed"
    },
    "tags": []
   },
   "outputs": [
    {
     "name": "stdout",
     "output_type": "stream",
     "text": [
      "Calculating alpha diversty: chao1\n"
     ]
    },
    {
     "name": "stdout",
     "output_type": "stream",
     "text": [
      "Calculating alpha diversty: simpson\n",
      "Calculating alpha diversty: shannon\n",
      "Calculating alpha diversty: ace\n"
     ]
    },
    {
     "name": "stdout",
     "output_type": "stream",
     "text": [
      "Calculating alpha diversty: observed_features\n"
     ]
    }
   ],
   "source": [
    "metrics = ('chao1', 'simpson', 'shannon', 'ace', 'observed_features')\n",
    "alpha_diversities = dict()\n",
    "for metric in metrics:\n",
    "    print(f\"Calculating alpha diversty: {metric}\")\n",
    "    alpha_diversity = alpha(table=tabs, metric=metric).alpha_diversity\n",
    "    alpha_diversities[metric] = alpha_diversity"
   ]
  },
  {
   "cell_type": "markdown",
   "id": "184bcb7b",
   "metadata": {
    "papermill": {
     "duration": 0.019365,
     "end_time": "2022-09-29T22:18:42.902049",
     "exception": false,
     "start_time": "2022-09-29T22:18:42.882684",
     "status": "completed"
    },
    "tags": []
   },
   "source": [
    "### Create Phylogenetic inference\n",
    "\n",
    "- [alignment align_to_tree_mafft_fasttree](https://docs.qiime2.org/2022.8/plugins/available/phylogeny/align-to-tree-mafft-fasttree/): Build a phylogenetic tree using fasttree and mafft alignment\n",
    "\n",
    "This pipeline will start by creating a sequence alignment using MAFFT,\n",
    "after which any alignment columns that are phylogenetically uninformative\n",
    "or ambiguously aligned will be removed (masked). The resulting masked\n",
    "alignment will be used to infer a phylogenetic tree and then subsequently\n",
    "rooted at its midpoint. Output files from each step of the pipeline will be\n",
    "saved. This includes both the unmasked and masked MAFFT alignment from\n",
    "q2-alignment methods, and both the rooted and unrooted phylogenies from\n",
    "q2-phylogeny methods.\n",
    "\n",
    "\n",
    "Returns\n",
    "- alignment : FeatureData[AlignedSequence] : The aligned sequences.\n",
    "- masked_alignment : FeatureData[AlignedSequence] : The masked alignment.\n",
    "- tree : Phylogeny[Unrooted] : The unrooted phylogenetic tree.\n",
    "- rooted_tree : Phylogeny[Rooted] : The rooted phylogenetic tree."
   ]
  },
  {
   "cell_type": "code",
   "execution_count": 12,
   "id": "9c8cfe47",
   "metadata": {
    "ExecuteTime": {
     "end_time": "2022-09-29T20:54:35.139531Z",
     "start_time": "2022-09-29T20:54:20.792130Z"
    },
    "execution": {
     "iopub.execute_input": "2022-09-29T22:18:42.945296Z",
     "iopub.status.busy": "2022-09-29T22:18:42.945107Z",
     "iopub.status.idle": "2022-09-29T22:18:57.679022Z",
     "shell.execute_reply": "2022-09-29T22:18:57.678310Z"
    },
    "papermill": {
     "duration": 14.759402,
     "end_time": "2022-09-29T22:18:57.681514",
     "exception": false,
     "start_time": "2022-09-29T22:18:42.922112",
     "status": "completed"
    },
    "tags": []
   },
   "outputs": [
    {
     "name": "stdout",
     "output_type": "stream",
     "text": [
      "Running external command line application. This may print messages to stdout and/or stderr.\n",
      "The command being run is below. This command cannot be manually re-run as it will depend on temporary files that no longer exist.\n",
      "\n",
      "Command: mafft --preservecase --inputorder --thread 6 /tmp/qiime2-archive-5x3auamz/9e3f9aa8-438a-4bbb-a222-4a7ff817fcaa/data/dna-sequences.fasta\n",
      "\n"
     ]
    },
    {
     "name": "stderr",
     "output_type": "stream",
     "text": [
      "inputfile = orig\n",
      "904 x 430 - 271 d\n",
      "nthread = 6\n",
      "nthreadpair = 6\n",
      "nthreadtb = 6\n",
      "ppenalty_ex = 0\n",
      "stacksize: 8192 kb\n",
      "generating a scoring matrix for nucleotide (dist=200) ... done\n",
      "Gap Penalty = -1.53, +0.00, +0.00\n",
      "\n",
      "\n",
      "\n",
      "Making a distance matrix ..\n",
      "\r",
      "    1 / 904 (thread    1)\r",
      "  101 / 904 (thread    1)\r",
      "  201 / 904 (thread    4)\r",
      "  301 / 904 (thread    4)\r",
      "  401 / 904 (thread    5)\r",
      "  501 / 904 (thread    4)\r",
      "  601 / 904 (thread    5)\r",
      "  701 / 904 (thread    2)\r",
      "  801 / 904 (thread    4)\r",
      "  901 / 904 (thread    0)\n",
      "done.\n",
      "\n",
      "Constructing a UPGMA tree (efffree=0) ... \n",
      "\r",
      "    0 / 904\r",
      "   10 / 904\r",
      "   20 / 904\r",
      "   30 / 904\r",
      "   40 / 904\r",
      "   50 / 904\r",
      "   60 / 904\r",
      "   70 / 904\r",
      "   80 / 904\r",
      "   90 / 904\r",
      "  100 / 904\r",
      "  110 / 904\r",
      "  120 / 904\r",
      "  130 / 904\r",
      "  140 / 904\r",
      "  150 / 904\r",
      "  160 / 904\r",
      "  170 / 904\r",
      "  180 / 904\r",
      "  190 / 904\r",
      "  200 / 904\r",
      "  210 / 904\r",
      "  220 / 904\r",
      "  230 / 904\r",
      "  240 / 904\r",
      "  250 / 904\r",
      "  260 / 904\r",
      "  270 / 904\r",
      "  280 / 904\r",
      "  290 / 904\r",
      "  300 / 904\r",
      "  310 / 904\r",
      "  320 / 904\r",
      "  330 / 904\r",
      "  340 / 904\r",
      "  350 / 904\r",
      "  360 / 904\r",
      "  370 / 904\r",
      "  380 / 904\r",
      "  390 / 904\r",
      "  400 / 904\r",
      "  410 / 904\r",
      "  420 / 904\r",
      "  430 / 904\r",
      "  440 / 904\r",
      "  450 / 904\r",
      "  460 / 904\r",
      "  470 / 904\r",
      "  480 / 904\r",
      "  490 / 904\r",
      "  500 / 904\r",
      "  510 / 904\r",
      "  520 / 904\r",
      "  530 / 904\r",
      "  540 / 904\r",
      "  550 / 904\r",
      "  560 / 904\r",
      "  570 / 904\r",
      "  580 / 904\r",
      "  590 / 904\r",
      "  600 / 904\r",
      "  610 / 904\r",
      "  620 / 904\r",
      "  630 / 904\r",
      "  640 / 904\r",
      "  650 / 904\r",
      "  660 / 904\r",
      "  670 / 904\r",
      "  680 / 904\r",
      "  690 / 904\r",
      "  700 / 904\r",
      "  710 / 904\r",
      "  720 / 904\r",
      "  730 / 904\r",
      "  740 / 904\r",
      "  750 / 904\r",
      "  760 / 904\r",
      "  770 / 904\r",
      "  780 / 904\r",
      "  790 / 904\r",
      "  800 / 904\r",
      "  810 / 904\r",
      "  820 / 904\r",
      "  830 / 904\r",
      "  840 / 904\r",
      "  850 / 904\r",
      "  860 / 904\r",
      "  870 / 904\r",
      "  880 / 904\r",
      "  890 / 904\r",
      "  900 / 904\n",
      "done.\n",
      "\n",
      "Progressive alignment 1/2... \n",
      "\r",
      "STEP     1 / 903 (thread    0) f\b\b\r",
      "STEP     2 / 903 (thread    1) f\b\b\r",
      "STEP     4 / 903 (thread    3)\r",
      "STEP     3 / 903 (thread    2) f\b\b f\b\b\r",
      "STEP     5 / 903 (thread    4) f\b\b\r",
      "STEP     6 / 903 (thread    5) f\b\b\r",
      "STEP     7 / 903 (thread    1) f\b\b\r",
      "STEP     8 / 903 (thread    2) f\b\b\r",
      "STEP     9 / 903 (thread    4) f\b\b\r",
      "STEP    10 / 903 (thread    0) f\b\b\r",
      "STEP    11 / 903 (thread    3) f\b\b\r",
      "STEP    12 / 903 (thread    5) f\b\b\r",
      "STEP    13 / 903 (thread    2) f\b\b\r",
      "STEP    14 / 903 (thread    1) f\b\b\r",
      "STEP    15 / 903 (thread    4) f\b\b\r",
      "STEP    16 / 903 (thread    1) f\b\b\r",
      "STEP    17 / 903 (thread    2) f\b\b\r",
      "STEP    18 / 903 (thread    3) f\b\b\r",
      "STEP    19 / 903 (thread    0) f\b\b\r",
      "STEP    20 / 903 (thread    5) f\b\b\r",
      "STEP    21 / 903 (thread    4) f\b\b\r",
      "STEP    22 / 903 (thread    1)\r",
      "STEP    23 / 903 (thread    2) f\b\b f\b\b\r",
      "STEP    24 / 903 (thread    3) f\b\b\r",
      "STEP    25 / 903 (thread    0) f\b\b\r",
      "STEP    26 / 903 (thread    5) f\b\b\r",
      "STEP    27 / 903 (thread    4) f\b\b\r",
      "STEP    28 / 903 (thread    1) f\b\b\r",
      "STEP    29 / 903 (thread    2) f\b\b\r",
      "STEP    30 / 903 (thread    3) f\b\b\r",
      "STEP    31 / 903 (thread    4) f\b\b\r",
      "STEP    32 / 903 (thread    0) f\b\b\r",
      "STEP    33 / 903 (thread    5) f\b\b\r",
      "STEP    34 / 903 (thread    2) f\b\b\r",
      "STEP    35 / 903 (thread    1) f\b\b\r",
      "STEP    36 / 903 (thread    4) f\b\b\r",
      "STEP    37 / 903 (thread    3) f\b\b\r",
      "STEP    38 / 903 (thread    0) f\b\b\r",
      "STEP    39 / 903 (thread    2) f\b\b\r",
      "STEP    40 / 903 (thread    1) f\b\b\r",
      "STEP    41 / 903 (thread    5) f\b\b\r",
      "STEP    42 / 903 (thread    4) f\b\b\r",
      "STEP    43 / 903 (thread    4) f\b\b\r",
      "STEP    44 / 903 (thread    3) f\b\b\r",
      "STEP    45 / 903 (thread    1) f\b\b\r",
      "STEP    46 / 903 (thread    2) f\b\b\r",
      "STEP    47 / 903 (thread    5) f\b\b\r",
      "STEP    48 / 903 (thread    4) f\b\b\r",
      "STEP    49 / 903 (thread    3) f\b\b\r",
      "STEP    50 / 903 (thread    4) f\b\b\r",
      "STEP    51 / 903 (thread    0) f\b\b\r",
      "STEP    52 / 903 (thread    4) f\b\b\r",
      "STEP    53 / 903 (thread    5) f\b\b\r",
      "STEP    54 / 903 (thread    3) f\b\b\r",
      "STEP    55 / 903 (thread    0) f\b\b\r",
      "STEP    56 / 903 (thread    2) f\b\b\r",
      "STEP    57 / 903 (thread    4) f\b\b\r",
      "STEP    58 / 903 (thread    1) f\b\b\r",
      "STEP    59 / 903 (thread    5) f\b\b\r",
      "STEP    60 / 903 (thread    4) f\b\b\r",
      "STEP    61 / 903 (thread    0) f\b\b\r",
      "STEP    62 / 903 (thread    2) f\b\b\r",
      "STEP    63 / 903 (thread    3) f\b\b\r",
      "STEP    64 / 903 (thread    1) f\b\b\r",
      "STEP    65 / 903 (thread    4) f\b\b\r",
      "STEP    66 / 903 (thread    5) f\b\b\r",
      "STEP    67 / 903 (thread    2) f\b\b\r",
      "STEP    68 / 903 (thread    0) f\b\b\r",
      "STEP    69 / 903 (thread    1) f\b\b\r",
      "STEP    70 / 903 (thread    4) f\b\b\r",
      "STEP    71 / 903 (thread    3) f\b\b\r",
      "STEP    72 / 903 (thread    5) f\b\b\r",
      "STEP    73 / 903 (thread    3) f\b\b\r",
      "STEP    74 / 903 (thread    4) f\b\b\r",
      "STEP    75 / 903 (thread    2) f\b\b\r",
      "STEP    76 / 903 (thread    1) f\b\b\r",
      "STEP    77 / 903 (thread    0) f\b\b\r",
      "STEP    78 / 903 (thread    3) f\b\b\r",
      "STEP    79 / 903 (thread    4) f\b\b\r",
      "STEP    80 / 903 (thread    5) f\b\b\r",
      "STEP    81 / 903 (thread    2) f\b\b\r",
      "STEP    82 / 903 (thread    1) f\b\b\r",
      "STEP    83 / 903 (thread    0) f\b\b\r",
      "STEP    84 / 903 (thread    3) f\b\b\r",
      "STEP    85 / 903 (thread    4) f\b\b\r",
      "STEP    86 / 903 (thread    2) f\b\b\r",
      "STEP    87 / 903 (thread    3) f\b\b\r",
      "STEP    88 / 903 (thread    1) f\b\b\r",
      "STEP    89 / 903 (thread    0) f\b\b\r",
      "STEP    90 / 903 (thread    5) f\b\b\r",
      "STEP    91 / 903 (thread    4) f\b\b\r",
      "STEP    92 / 903 (thread    3) f\b\b\r",
      "STEP    93 / 903 (thread    2) f\b\b\r",
      "STEP    94 / 903 (thread    1) f\b\b\r",
      "STEP    95 / 903 (thread    0) f\b\b\r",
      "STEP    96 / 903 (thread    4) f\b\b\r",
      "STEP    97 / 903 (thread    5) f\b\b\r",
      "STEP    99 / 903 (thread    4) f\b\b\r",
      "STEP    98 / 903 (thread    3) f\b\b\r",
      "STEP   101 / 903 (thread    2) f\b\b\r",
      "STEP   100 / 903 (thread    1) f\b\b\r",
      "STEP   104 / 903 (thread    4) f\b\b\r",
      "STEP   103 / 903 (thread    5) f\b\b\r",
      "STEP   105 / 903 (thread    2) f\b\b"
     ]
    },
    {
     "name": "stderr",
     "output_type": "stream",
     "text": [
      "\r",
      "STEP   106 / 903 (thread    4) f\b\b\r",
      "STEP   102 / 903 (thread    0) f\b\b\r",
      "STEP   108 / 903 (thread    5) f\b\b\r",
      "STEP   109 / 903 (thread    1) f\b\b\r",
      "STEP   110 / 903 (thread    4) f\b\b\r",
      "STEP   111 / 903 (thread    2) f\b\b\r",
      "STEP   112 / 903 (thread    0) f\b\b\r",
      "STEP   107 / 903 (thread    3) f\b\b\r",
      "STEP   113 / 903 (thread    4) f\b\b\r",
      "STEP   114 / 903 (thread    5) f\b\b\r",
      "STEP   115 / 903 (thread    2) f\b\b\r",
      "STEP   116 / 903 (thread    0) f\b\b\r",
      "STEP   117 / 903 (thread    3) f\b\b\r",
      "STEP   118 / 903 (thread    4) f\b\b\r",
      "STEP   119 / 903 (thread    1) f\b\b\r",
      "STEP   120 / 903 (thread    0) f\b\b\r",
      "STEP   121 / 903 (thread    5) f\b\b\r",
      "STEP   122 / 903 (thread    4) f\b\b\r",
      "STEP   123 / 903 (thread    3) f\b\b\r",
      "STEP   124 / 903 (thread    2) f\b\b\r",
      "STEP   125 / 903 (thread    4) f\b\b\r",
      "STEP   126 / 903 (thread    3) f\b\b\r",
      "STEP   127 / 903 (thread    5) f\b\b\r",
      "STEP   128 / 903 (thread    1) f\b\b\r",
      "STEP   129 / 903 (thread    4) f\b\b\r",
      "STEP   130 / 903 (thread    0) f\b\b\r",
      "STEP   131 / 903 (thread    5) f\b\b\r",
      "STEP   132 / 903 (thread    4) f\b\b\r",
      "STEP   133 / 903 (thread    1) f\b\b\r",
      "STEP   134 / 903 (thread    2) f\b\b\r",
      "STEP   135 / 903 (thread    3) f\b\b\r",
      "STEP   136 / 903 (thread    4) f\b\b\r",
      "STEP   137 / 903 (thread    0) f\b\b\r",
      "STEP   138 / 903 (thread    5)\r",
      "STEP   139 / 903 (thread    3) f\b\b f\b\b\r",
      "STEP   140 / 903 (thread    1) f\b\b\r",
      "STEP   141 / 903 (thread    2) f\b\b\r",
      "STEP   142 / 903 (thread    4) f\b\b\r",
      "STEP   143 / 903 (thread    4) f\b\b\r",
      "STEP   144 / 903 (thread    5) f\b\b\r",
      "STEP   145 / 903 (thread    1) f\b\b\r",
      "STEP   146 / 903 (thread    2) f\b\b\r",
      "STEP   147 / 903 (thread    3) f\b\b\r",
      "STEP   148 / 903 (thread    4) f\b\b\r",
      "STEP   149 / 903 (thread    0) f\b\b\r",
      "STEP   150 / 903 (thread    5) f\b\b\r",
      "STEP   151 / 903 (thread    3) f\b\b\r",
      "STEP   152 / 903 (thread    4) f\b\b\r",
      "STEP   153 / 903 (thread    1) f\b\b\r",
      "STEP   154 / 903 (thread    2) f\b\b\r",
      "STEP   155 / 903 (thread    0) f\b\b\r",
      "STEP   156 / 903 (thread    4) f\b\b\r",
      "STEP   157 / 903 (thread    3) f\b\b\r",
      "STEP   158 / 903 (thread    5) f\b\b\r",
      "STEP   159 / 903 (thread    1) f\b\b\r",
      "STEP   160 / 903 (thread    2) f\b\b\r",
      "STEP   161 / 903 (thread    4) f\b\b\r",
      "STEP   162 / 903 (thread    3) f\b\b\r",
      "STEP   163 / 903 (thread    0) f\b\b\r",
      "STEP   164 / 903 (thread    5) f\b\b\r",
      "STEP   165 / 903 (thread    4) f\b\b\r",
      "STEP   166 / 903 (thread    1) f\b\b\r",
      "STEP   167 / 903 (thread    2) f\b\b\r",
      "STEP   168 / 903 (thread    3) f\b\b\r",
      "STEP   169 / 903 (thread    4) f\b\b\r",
      "STEP   170 / 903 (thread    3) f\b\b\r",
      "STEP   171 / 903 (thread    0) f\b\b\r",
      "STEP   172 / 903 (thread    5) f\b\b\r",
      "STEP   173 / 903 (thread    1) f\b\b\r",
      "STEP   174 / 903 (thread    4) f\b\b\r",
      "STEP   175 / 903 (thread    2) f\b\b\r",
      "STEP   176 / 903 (thread    3) f\b\b\r",
      "STEP   177 / 903 (thread    4) f\b\b\r",
      "STEP   178 / 903 (thread    3) f\b\b\r",
      "STEP   179 / 903 (thread    5) f\b\b\r",
      "STEP   180 / 903 (thread    4) f\b\b\r",
      "STEP   181 / 903 (thread    1) f\b\b\r",
      "STEP   182 / 903 (thread    2) f\b\b\r",
      "STEP   183 / 903 (thread    0) f\b\b\r",
      "STEP   184 / 903 (thread    3) f\b\b\r",
      "STEP   186 / 903 (thread    4) f\b\b\r",
      "STEP   187 / 903 (thread    4) f\b\b\r",
      "STEP   188 / 903 (thread    0) f\b\b\r",
      "STEP   189 / 903 (thread    3) f\b\b\r",
      "STEP   190 / 903 (thread    1) f\b\b\r",
      "STEP   191 / 903 (thread    0) f\b\b\r",
      "STEP   192 / 903 (thread    4) f\b\b\r",
      "STEP   193 / 903 (thread    2) f\b\b\r",
      "STEP   185 / 903 (thread    5) f\b\b\r",
      "STEP   194 / 903 (thread    3) f\b\b\r",
      "STEP   195 / 903 (thread    1) f\b\b\r",
      "STEP   196 / 903 (thread    3) f\b\b\r",
      "STEP   197 / 903 (thread    0) f\b\b\r",
      "STEP   198 / 903 (thread    4) f\b\b\r",
      "STEP   199 / 903 (thread    1) f\b\b\r",
      "STEP   200 / 903 (thread    2) f\b\b\r",
      "STEP   201 / 903 (thread    5) f\b\b\r",
      "STEP   202 / 903 (thread    3) f\b\b\r",
      "STEP   203 / 903 (thread    4) f\b\b\r",
      "STEP   204 / 903 (thread    2) f\b\b\r",
      "STEP   205 / 903 (thread    0) f\b\b\r",
      "STEP   206 / 903 (thread    4) f\b\b\r",
      "STEP   207 / 903 (thread    3) f\b\b\r",
      "STEP   208 / 903 (thread    1) f\b\b\r",
      "STEP   209 / 903 (thread    5) f\b\b\r",
      "STEP   210 / 903 (thread    0) f\b\b\r",
      "STEP   211 / 903 (thread    3) f\b\b\r",
      "STEP   212 / 903 (thread    4) f\b\b\r",
      "STEP   213 / 903 (thread    2) f\b\b\r",
      "STEP   214 / 903 (thread    5) f\b\b\r",
      "STEP   215 / 903 (thread    1) f\b\b\r",
      "STEP   216 / 903 (thread    3) f\b\b\r",
      "STEP   217 / 903 (thread    4) f\b\b\r",
      "STEP   218 / 903 (thread    1) f\b\b\r",
      "STEP   219 / 903 (thread    0) f\b\b\r",
      "STEP   220 / 903 (thread    3) f\b\b\r",
      "STEP   221 / 903 (thread    2) f\b\b\r",
      "STEP   222 / 903 (thread    4) f\b\b\r",
      "STEP   223 / 903 (thread    3) f\b\b\r",
      "STEP   224 / 903 (thread    5) f\b\b\r",
      "STEP   225 / 903 (thread    1) f\b\b\r",
      "STEP   226 / 903 (thread    0) f\b\b\r",
      "STEP   227 / 903 (thread    4) f\b\b\r",
      "STEP   228 / 903 (thread    3) f\b\b\r",
      "STEP   229 / 903 (thread    5) f\b\b\r",
      "STEP   230 / 903 (thread    1) f\b\b\r",
      "STEP   231 / 903 (thread    2) f\b\b\r",
      "STEP   232 / 903 (thread    4) f\b\b\r",
      "STEP   233 / 903 (thread    3) f\b\b\r",
      "STEP   234 / 903 (thread    0) f\b\b\r",
      "STEP   235 / 903 (thread    4) f\b\b\r",
      "STEP   236 / 903 (thread    5) f\b\b\r",
      "STEP   237 / 903 (thread    1) f\b\b\r",
      "STEP   238 / 903 (thread    2) f\b\b\r",
      "STEP   239 / 903 (thread    3) f\b\b\r",
      "STEP   240 / 903 (thread    1) f\b\b\r",
      "STEP   241 / 903 (thread    5) f\b\b\r",
      "STEP   242 / 903 (thread    0) f\b\b\r",
      "STEP   244 / 903 (thread    3) f\b\b\r",
      "STEP   245 / 903 (thread    1) f\b\b\r",
      "STEP   246 / 903 (thread    2) f\b\b\r",
      "STEP   247 / 903 (thread    3) f\b\b\r",
      "STEP   248 / 903 (thread    5) f\b\b\r",
      "STEP   243 / 903 (thread    4) f\b\b\r",
      "STEP   249 / 903 (thread    2) f\b\b\r",
      "STEP   250 / 903 (thread    3) f\b\b\r",
      "STEP   251 / 903 (thread    0) f\b\b\r",
      "STEP   252 / 903 (thread    1) f\b\b\r",
      "STEP   253 / 903 (thread    5) f\b\b\r",
      "STEP   254 / 903 (thread    3) f\b\b\r",
      "STEP   255 / 903 (thread    4) f\b\b\r",
      "STEP   257 / 903 (thread    4) f\b\b\r",
      "STEP   258 / 903 (thread    0) f\b\b\r",
      "STEP   256 / 903 (thread    2) f\b\b\r",
      "STEP   259 / 903 (thread    5) f\b\b\r",
      "STEP   261 / 903 (thread    1) f\b\b\r",
      "STEP   262 / 903 (thread    4) f\b\b\r",
      "STEP   260 / 903 (thread    3) f\b\b\r",
      "STEP   263 / 903 (thread    5) f\b\b\r",
      "STEP   264 / 903 (thread    4) f\b\b\r",
      "STEP   265 / 903 (thread    1) f\b\b\r",
      "STEP   266 / 903 (thread    0) f\b\b\r",
      "STEP   267 / 903 (thread    2) f\b\b\r",
      "STEP   268 / 903 (thread    5) f\b\b\r",
      "STEP   269 / 903 (thread    4) f\b\b\r",
      "STEP   270 / 903 (thread    3) f\b\b\r",
      "STEP   271 / 903 (thread    1) f\b\b\r",
      "STEP   273 / 903 (thread    5) f\b\b\r",
      "STEP   272 / 903 (thread    2) f\b\b\r",
      "STEP   274 / 903 (thread    3) f\b\b\r",
      "STEP   275 / 903 (thread    0) f\b\b\r",
      "STEP   276 / 903 (thread    4) f\b\b\r",
      "STEP   277 / 903 (thread    4) f\b\b\r",
      "STEP   278 / 903 (thread    0) f\b\b\r",
      "STEP   279 / 903 (thread    1) f\b\b\r",
      "STEP   280 / 903 (thread    3) f\b\b\r",
      "STEP   281 / 903 (thread    5) f\b\b\r",
      "STEP   282 / 903 (thread    2) f\b\b\r",
      "STEP   283 / 903 (thread    0) f\b\b\r",
      "STEP   284 / 903 (thread    3) f\b\b\r",
      "STEP   285 / 903 (thread    4) f\b\b\r",
      "STEP   286 / 903 (thread    1) f\b\b\r",
      "STEP   287 / 903 (thread    5) f\b\b\r",
      "STEP   288 / 903 (thread    4) f\b\b\r",
      "STEP   289 / 903 (thread    3) f\b\b\r",
      "STEP   290 / 903 (thread    2) f\b\b\r",
      "STEP   291 / 903 (thread    0) f\b\b\r",
      "STEP   292 / 903 (thread    1) f\b\b\r",
      "STEP   293 / 903 (thread    4) f\b\b\r",
      "STEP   294 / 903 (thread    5) f\b\b\r",
      "STEP   295 / 903 (thread    2) f\b\b\r",
      "STEP   296 / 903 (thread    3) f\b\b\r",
      "STEP   297 / 903 (thread    0) f\b\b\r",
      "STEP   298 / 903 (thread    4) f\b\b\r",
      "STEP   299 / 903 (thread    3) f\b\b\r",
      "STEP   301 / 903 (thread    2) f\b\b\r",
      "STEP   303 / 903 (thread    4) f\b\b\r",
      "STEP   300 / 903 (thread    1) f\b\b\r",
      "STEP   302 / 903 (thread    5) f\b\b\r",
      "STEP   304 / 903 (thread    0) f\b\b\r",
      "STEP   305 / 903 (thread    2) f\b\b\r",
      "STEP   306 / 903 (thread    3) f\b\b\r",
      "STEP   307 / 903 (thread    4) f\b\b\r",
      "STEP   308 / 903 (thread    3) f\b\b\r",
      "STEP   309 / 903 (thread    4) f\b\b\r",
      "STEP   310 / 903 (thread    5) f\b\b\r",
      "STEP   311 / 903 (thread    3) f\b\b\r",
      "STEP   312 / 903 (thread    2) f\b\b\r",
      "STEP   313 / 903 (thread    1) f\b\b\r",
      "STEP   314 / 903 (thread    0) f\b\b\r",
      "STEP   315 / 903 (thread    4) f\b\b\r",
      "STEP   316 / 903 (thread    3) f\b\b\r",
      "STEP   317 / 903 (thread    1) f\b\b\r",
      "STEP   318 / 903 (thread    2) f\b\b\r",
      "STEP   319 / 903 (thread    5) f\b\b\r",
      "STEP   320 / 903 (thread    4) f\b\b\r",
      "STEP   321 / 903 (thread    1) f\b\b\r",
      "STEP   322 / 903 (thread    0) f\b\b\r",
      "STEP   323 / 903 (thread    3) f\b\b\r",
      "STEP   324 / 903 (thread    1) f\b\b\r",
      "STEP   325 / 903 (thread    2) f\b\b\r",
      "STEP   326 / 903 (thread    4) f\b\b\r",
      "STEP   327 / 903 (thread    5) f\b\b\r",
      "STEP   328 / 903 (thread    1) f\b\b\r",
      "STEP   329 / 903 (thread    2) f\b\b\r",
      "STEP   330 / 903 (thread    0) f\b\b\r",
      "STEP   331 / 903 (thread    4) f\b\b\r",
      "STEP   332 / 903 (thread    3) f\b\b\r",
      "STEP   333 / 903 (thread    1) f\b\b\r",
      "STEP   334 / 903 (thread    2) f\b\b\r",
      "STEP   335 / 903 (thread    5) f\b\b\r",
      "STEP   336 / 903 (thread    4) f\b\b\r",
      "STEP   337 / 903 (thread    2) f\b\b\r",
      "STEP   338 / 903 (thread    1) f\b\b\r",
      "STEP   339 / 903 (thread    3) f\b\b\r",
      "STEP   340 / 903 (thread    5) f\b\b\r",
      "STEP   341 / 903 (thread    0) f\b\b\r",
      "STEP   342 / 903 (thread    4) f\b\b\r",
      "STEP   343 / 903 (thread    4) f\b\b\r",
      "STEP   344 / 903 (thread    2) f\b\b\r",
      "STEP   345 / 903 (thread    3) f\b\b\r",
      "STEP   346 / 903 (thread    5) f\b\b\r",
      "STEP   347 / 903 (thread    1) f\b\b\r",
      "STEP   348 / 903 (thread    0) f\b\b\r",
      "STEP   349 / 903 (thread    2) f\b\b\r",
      "STEP   350 / 903 (thread    3) f\b\b\r",
      "STEP   351 / 903 (thread    4) f\b\b\r",
      "STEP   353 / 903 (thread    0) f\b\b\r",
      "STEP   354 / 903 (thread    1) f\b\b\r",
      "STEP   355 / 903 (thread    2) f\b\b\r",
      "STEP   352 / 903 (thread    5) f\b\b\r",
      "STEP   356 / 903 (thread    4) f\b\b\r",
      "STEP   357 / 903 (thread    3) f\b\b\r",
      "STEP   358 / 903 (thread    4) f\b\b\r",
      "STEP   359 / 903 (thread    0) f\b\b\r",
      "STEP   360 / 903 (thread    4) f\b\b\r",
      "STEP   361 / 903 (thread    3) f\b\b\r",
      "STEP   362 / 903 (thread    2) f\b\b\r",
      "STEP   363 / 903 (thread    5) f\b\b\r",
      "STEP   364 / 903 (thread    1) f\b\b\r",
      "STEP   365 / 903 (thread    5) f\b\b\r",
      "STEP   366 / 903 (thread    4) f\b\b\r",
      "STEP   367 / 903 (thread    2) f\b\b\r",
      "STEP   368 / 903 (thread    0) f\b\b\r",
      "STEP   369 / 903 (thread    1) f\b\b\r",
      "STEP   370 / 903 (thread    3) f\b\b\r",
      "STEP   371 / 903 (thread    4) f\b\b\r",
      "STEP   372 / 903 (thread    1) f\b\b\r",
      "STEP   373 / 903 (thread    5) f\b\b\r",
      "STEP   374 / 903 (thread    2) f\b\b\r",
      "STEP   375 / 903 (thread    4) f\b\b\r",
      "STEP   376 / 903 (thread    0) f\b\b\r",
      "STEP   377 / 903 (thread    3) f\b\b\r",
      "STEP   378 / 903 (thread    4) f\b\b\r",
      "STEP   379 / 903 (thread    1) f\b\b\r",
      "STEP   380 / 903 (thread    0) f\b\b\r",
      "STEP   381 / 903 (thread    5) f\b\b\r",
      "STEP   383 / 903 (thread    4) f\b\b\r",
      "STEP   384 / 903 (thread    2) f\b\b\r",
      "STEP   382 / 903 (thread    3) f\b\b\r",
      "STEP   385 / 903 (thread    4) f\b\b\r",
      "STEP   386 / 903 (thread    1) f\b\b\r",
      "STEP   387 / 903 (thread    0) f\b\b\r",
      "STEP   389 / 903 (thread    1) f\b\b\r",
      "STEP   390 / 903 (thread    4) f\b\b\r",
      "STEP   388 / 903 (thread    2) f\b\b\r",
      "STEP   392 / 903 (thread    5) f\b\b\r",
      "STEP   393 / 903 (thread    4) f\b\b\r",
      "STEP   394 / 903 (thread    3) f\b\b\r",
      "STEP   395 / 903 (thread    0) f\b\b\r",
      "STEP   396 / 903 (thread    4) f\b\b\r",
      "STEP   391 / 903 (thread    1) f\b\b\r",
      "STEP   397 / 903 (thread    2) f\b\b\r",
      "STEP   398 / 903 (thread    5) f\b\b\r",
      "STEP   400 / 903 (thread    3) f\b\b\r",
      "STEP   401 / 903 (thread    4) f\b\b\r",
      "STEP   402 / 903 (thread    5) f\b\b\r",
      "STEP   399 / 903 (thread    0) f\b\b\r",
      "STEP   403 / 903 (thread    2) f\b\b\r",
      "STEP   404 / 903 (thread    1) f\b\b\r",
      "STEP   405 / 903 (thread    5) f\b\b\r",
      "STEP   406 / 903 (thread    4) f\b\b\r",
      "STEP   407 / 903 (thread    3) f\b\b\r",
      "STEP   408 / 903 (thread    1) f\b\b\r",
      "STEP   409 / 903 (thread    5) f\b\b\r",
      "STEP   410 / 903 (thread    0) f\b\b\r",
      "STEP   411 / 903 (thread    4) f\b\b\r",
      "STEP   412 / 903 (thread    2) f\b\b\r",
      "STEP   413 / 903 (thread    1) f\b\b\r",
      "STEP   414 / 903 (thread    4) f\b\b\r",
      "STEP   415 / 903 (thread    4) f\b\b\r",
      "STEP   416 / 903 (thread    5)\r",
      "STEP   417 / 903 (thread    0) f\b\b f\b\b\r",
      "STEP   418 / 903 (thread    3) f\b\b\r",
      "STEP   419 / 903 (thread    2) f\b\b\r",
      "STEP   420 / 903 (thread    0) f\b\b\r",
      "STEP   421 / 903 (thread    1) f\b\b\r",
      "STEP   422 / 903 (thread    4) f\b\b\r",
      "STEP   423 / 903 (thread    5) f\b\b\r",
      "STEP   424 / 903 (thread    4) f\b\b\r",
      "STEP   425 / 903 (thread    3) f\b\b\r",
      "STEP   426 / 903 (thread    2) f\b\b\r",
      "STEP   427 / 903 (thread    5) f\b\b\r",
      "STEP   428 / 903 (thread    0) f\b\b\r",
      "STEP   429 / 903 (thread    1) f\b\b\r",
      "STEP   430 / 903 (thread    4) f\b\b\r",
      "STEP   431 / 903 (thread    3) f\b\b\r",
      "STEP   432 / 903 (thread    2) f\b\b\r",
      "STEP   433 / 903 (thread    4) f\b\b\r",
      "STEP   434 / 903 (thread    5) f\b\b\r",
      "STEP   435 / 903 (thread    0) f\b\b\r",
      "STEP   436 / 903 (thread    4) f\b\b\r",
      "STEP   437 / 903 (thread    5) f\b\b\r",
      "STEP   438 / 903 (thread    1) f\b\b\r",
      "STEP   439 / 903 (thread    3) f\b\b\r",
      "STEP   440 / 903 (thread    2) f\b\b\r",
      "STEP   441 / 903 (thread    4) f\b\b\r",
      "STEP   442 / 903 (thread    0) f\b\b\r",
      "STEP   443 / 903 (thread    2) f\b\b\r",
      "STEP   444 / 903 (thread    1) f\b\b\r",
      "STEP   445 / 903 (thread    5) f\b\b\r",
      "STEP   446 / 903 (thread    4) f\b\b\r",
      "STEP   447 / 903 (thread    3) f\b\b\r",
      "STEP   448 / 903 (thread    4) f\b\b\r",
      "STEP   449 / 903 (thread    0) f\b\b\r",
      "STEP   450 / 903 (thread    1) f\b\b\r",
      "STEP   451 / 903 (thread    2) f\b\b\r",
      "STEP   452 / 903 (thread    4) f\b\b\r",
      "STEP   453 / 903 (thread    5) f\b\b\r",
      "STEP   454 / 903 (thread    4) f\b\b\r",
      "STEP   455 / 903 (thread    3) f\b\b\r",
      "STEP   456 / 903 (thread    0) f\b\b\r",
      "STEP   457 / 903 (thread    2) f\b\b\r",
      "STEP   458 / 903 (thread    1) f\b\b\r",
      "STEP   459 / 903 (thread    4) f\b\b\r",
      "STEP   460 / 903 (thread    5) f\b\b\r",
      "STEP   461 / 903 (thread    3) f\b\b\r",
      "STEP   462 / 903 (thread    0)\r",
      "STEP   463 / 903 (thread    2) f\b\b f\b\b\r",
      "STEP   464 / 903 (thread    1) f\b\b\r",
      "STEP   465 / 903 (thread    5) f\b\b\r",
      "STEP   466 / 903 (thread    4) f\b\b\r",
      "STEP   468 / 903 (thread    3) f\b\b\r",
      "STEP   469 / 903 (thread    4) f\b\b\r",
      "STEP   470 / 903 (thread    3) f\b\b\r",
      "STEP   471 / 903 (thread    2) f\b\b\r",
      "STEP   467 / 903 (thread    1) f\b\b\r",
      "STEP   472 / 903 (thread    5) f\b\b\r",
      "STEP   473 / 903 (thread    4) f\b\b\r",
      "STEP   474 / 903 (thread    0) f\b\b\r",
      "STEP   475 / 903 (thread    3) f\b\b\r",
      "STEP   476 / 903 (thread    5) f\b\b\r",
      "STEP   477 / 903 (thread    4) f\b\b\r",
      "STEP   479 / 903 (thread    1) f\b\b\r",
      "STEP   480 / 903 (thread    1) f\b\b\r",
      "STEP   481 / 903 (thread    4) f\b\b\r",
      "STEP   482 / 903 (thread    3) f\b\b\r",
      "STEP   483 / 903 (thread    0) f\b\b\r",
      "STEP   478 / 903 (thread    2) f\b\b\r",
      "STEP   484 / 903 (thread    5) f\b\b\r",
      "STEP   486 / 903 (thread    1) f\b\b\r",
      "STEP   485 / 903 (thread    4) f\b\b\r",
      "STEP   487 / 903 (thread    0) f\b\b\r",
      "STEP   488 / 903 (thread    5) f\b\b\r",
      "STEP   489 / 903 (thread    2) f\b\b\r",
      "STEP   490 / 903 (thread    3) f\b\b\r",
      "STEP   491 / 903 (thread    1) f\b\b\r",
      "STEP   492 / 903 (thread    4) f\b\b\r",
      "STEP   493 / 903 (thread    5) f\b\b\r",
      "STEP   494 / 903 (thread    2) f\b\b\r",
      "STEP   495 / 903 (thread    3) f\b\b\r",
      "STEP   496 / 903 (thread    0) f\b\b\r",
      "STEP   497 / 903 (thread    4) f\b\b\r",
      "STEP   498 / 903 (thread    5) f\b\b\r",
      "STEP   499 / 903 (thread    1) f\b\b\r",
      "STEP   500 / 903 (thread    4) f\b\b\r",
      "STEP   501 / 903 (thread    2) f\b\b\r",
      "STEP   601 / 903 (thread    3) f\b\b"
     ]
    },
    {
     "name": "stderr",
     "output_type": "stream",
     "text": [
      "\r",
      "STEP   701 / 903 (thread    2) f\b\b\r",
      "STEP   801 / 903 (thread    5) f\b\b\n",
      "Reallocating..done. *alloclen = 1861\n"
     ]
    },
    {
     "name": "stderr",
     "output_type": "stream",
     "text": [
      "\r",
      "STEP   901 / 903 (thread    4) d\b\b h\n",
      "done.\n",
      "\n",
      "Making a distance matrix from msa.. \n",
      "\r",
      "    0 / 904 (thread    0)\r",
      "  100 / 904 (thread    0)\r",
      "  200 / 904 (thread    5)\r",
      "  300 / 904 (thread    1)\r",
      "  400 / 904 (thread    4)\r",
      "  500 / 904 (thread    5)\r",
      "  600 / 904 (thread    3)"
     ]
    },
    {
     "name": "stderr",
     "output_type": "stream",
     "text": [
      "\r",
      "  700 / 904 (thread    1)\r",
      "  800 / 904 (thread    4)\r",
      "  900 / 904 (thread    1)\n",
      "done.\n",
      "\n",
      "Constructing a UPGMA tree (efffree=1) ... \n",
      "\r",
      "    0 / 904\r",
      "   10 / 904\r",
      "   20 / 904\r",
      "   30 / 904\r",
      "   40 / 904\r",
      "   50 / 904\r",
      "   60 / 904\r",
      "   70 / 904\r",
      "   80 / 904\r",
      "   90 / 904\r",
      "  100 / 904\r",
      "  110 / 904\r",
      "  120 / 904\r",
      "  130 / 904\r",
      "  140 / 904\r",
      "  150 / 904\r",
      "  160 / 904\r",
      "  170 / 904\r",
      "  180 / 904\r",
      "  190 / 904\r",
      "  200 / 904\r",
      "  210 / 904\r",
      "  220 / 904\r",
      "  230 / 904\r",
      "  240 / 904\r",
      "  250 / 904\r",
      "  260 / 904\r",
      "  270 / 904\r",
      "  280 / 904\r",
      "  290 / 904\r",
      "  300 / 904\r",
      "  310 / 904\r",
      "  320 / 904\r",
      "  330 / 904\r",
      "  340 / 904\r",
      "  350 / 904\r",
      "  360 / 904\r",
      "  370 / 904\r",
      "  380 / 904\r",
      "  390 / 904\r",
      "  400 / 904\r",
      "  410 / 904\r",
      "  420 / 904\r",
      "  430 / 904\r",
      "  440 / 904\r",
      "  450 / 904\r",
      "  460 / 904\r",
      "  470 / 904\r",
      "  480 / 904\r",
      "  490 / 904\r",
      "  500 / 904\r",
      "  510 / 904\r",
      "  520 / 904\r",
      "  530 / 904\r",
      "  540 / 904\r",
      "  550 / 904\r",
      "  560 / 904\r",
      "  570 / 904\r",
      "  580 / 904\r",
      "  590 / 904\r",
      "  600 / 904\r",
      "  610 / 904\r",
      "  620 / 904\r",
      "  630 / 904\r",
      "  640 / 904\r",
      "  650 / 904\r",
      "  660 / 904\r",
      "  670 / 904\r",
      "  680 / 904\r",
      "  690 / 904\r",
      "  700 / 904\r",
      "  710 / 904\r",
      "  720 / 904\r",
      "  730 / 904\r",
      "  740 / 904\r",
      "  750 / 904\r",
      "  760 / 904\r",
      "  770 / 904\r",
      "  780 / 904\r",
      "  790 / 904\r",
      "  800 / 904\r",
      "  810 / 904\r",
      "  820 / 904\r",
      "  830 / 904\r",
      "  840 / 904\r",
      "  850 / 904\r",
      "  860 / 904\r",
      "  870 / 904\r",
      "  880 / 904\r",
      "  890 / 904\r",
      "  900 / 904\n",
      "done.\n",
      "\n",
      "Progressive alignment 2/2... \n",
      "\r",
      "STEP     1 / 903 (thread    0) f\b\b\r",
      "STEP     2 / 903 (thread    1) f\b\b\r",
      "STEP     3 / 903 (thread    2)\r",
      "STEP     4 / 903 (thread    3) f\b\b f\b\b\r",
      "STEP     5 / 903 (thread    4) f\b\b\r",
      "STEP     6 / 903 (thread    5) f\b\b\r",
      "STEP     7 / 903 (thread    2) f\b\b\r",
      "STEP     8 / 903 (thread    2) f\b\b\r",
      "STEP     9 / 903 (thread    1) f\b\b\r",
      "STEP    10 / 903 (thread    2) f\b\b\r",
      "STEP    11 / 903 (thread    1) f\b\b\r",
      "STEP    12 / 903 (thread    2) f\b\b\r",
      "STEP    13 / 903 (thread    2) f\b\b\r",
      "STEP    14 / 903 (thread    1) f\b\b\r",
      "STEP    15 / 903 (thread    3) f\b\b\r",
      "STEP    16 / 903 (thread    5) f\b\b\r",
      "STEP    17 / 903 (thread    2) f\b\b\r",
      "STEP    18 / 903 (thread    1) f\b\b\r",
      "STEP    19 / 903 (thread    3) f\b\b\r",
      "STEP    20 / 903 (thread    5) f\b\b\r",
      "STEP    21 / 903 (thread    2) f\b\b\r",
      "STEP    22 / 903 (thread    1) f\b\b\r",
      "STEP    23 / 903 (thread    0) f\b\b\r",
      "STEP    24 / 903 (thread    4) f\b\b\r",
      "STEP    25 / 903 (thread    2) f\b\b\r",
      "STEP    26 / 903 (thread    3) f\b\b\r",
      "STEP    27 / 903 (thread    5) f\b\b\r",
      "STEP    28 / 903 (thread    1) f\b\b\r",
      "STEP    29 / 903 (thread    4) f\b\b\r",
      "STEP    30 / 903 (thread    0) f\b\b\r",
      "STEP    31 / 903 (thread    2) f\b\b\r",
      "STEP    32 / 903 (thread    1) f\b\b\r",
      "STEP    33 / 903 (thread    3) f\b\b\r",
      "STEP    34 / 903 (thread    5) f\b\b\r",
      "STEP    35 / 903 (thread    2) f\b\b\r",
      "STEP    36 / 903 (thread    0) f\b\b\r",
      "STEP    38 / 903 (thread    1) f\b\b\r",
      "STEP    37 / 903 (thread    4) f\b\b\r",
      "STEP    40 / 903 (thread    2) f\b\b\r",
      "STEP    39 / 903 (thread    3) f\b\b\r",
      "STEP    41 / 903 (thread    5) f\b\b\r",
      "STEP    42 / 903 (thread    1) f\b\b\r",
      "STEP    43 / 903 (thread    0) f\b\b\r",
      "STEP    44 / 903 (thread    4) f\b\b\r",
      "STEP    45 / 903 (thread    2) f\b\b\r",
      "STEP    46 / 903 (thread    1) f\b\b\r",
      "STEP    47 / 903 (thread    5) f\b\b\r",
      "STEP    48 / 903 (thread    3) f\b\b\r",
      "STEP    49 / 903 (thread    2) f\b\b\r",
      "STEP    50 / 903 (thread    4) f\b\b\r",
      "STEP    51 / 903 (thread    0) f\b\b\r",
      "STEP    52 / 903 (thread    1) f\b\b\r",
      "STEP    53 / 903 (thread    5) f\b\b\r",
      "STEP    54 / 903 (thread    3) f\b\b\r",
      "STEP    55 / 903 (thread    2) f\b\b\r",
      "STEP    56 / 903 (thread    1) f\b\b\r",
      "STEP    57 / 903 (thread    0) f\b\b\r",
      "STEP    58 / 903 (thread    4) f\b\b\r",
      "STEP    59 / 903 (thread    2) f\b\b\r",
      "STEP    60 / 903 (thread    5)\r",
      "STEP    62 / 903 (thread    3) f\b\b f\b\b\r",
      "STEP    61 / 903 (thread    1) f\b\b\r",
      "STEP    63 / 903 (thread    2) f\b\b\r",
      "STEP    64 / 903 (thread    4) f\b\b\r",
      "STEP    65 / 903 (thread    0) f\b\b\r",
      "STEP    66 / 903 (thread    1) f\b\b\r",
      "STEP    67 / 903 (thread    3) f\b\b\r",
      "STEP    68 / 903 (thread    5) f\b\b\r",
      "STEP    69 / 903 (thread    2) f\b\b\r",
      "STEP    70 / 903 (thread    0) f\b\b\r",
      "STEP    71 / 903 (thread    4) f\b\b\r",
      "STEP    72 / 903 (thread    1) f\b\b\r",
      "STEP    73 / 903 (thread    2) f\b\b\r",
      "STEP    74 / 903 (thread    5) f\b\b\r",
      "STEP    75 / 903 (thread    3) f\b\b\r",
      "STEP    78 / 903 (thread    4) f\b\b\r",
      "STEP    79 / 903 (thread    0) f\b\b\r",
      "STEP    80 / 903 (thread    4) f\b\b\r",
      "STEP    81 / 903 (thread    0) f\b\b\r",
      "STEP    82 / 903 (thread    5) f\b\b\r",
      "STEP    76 / 903 (thread    1) f\b\b\r",
      "STEP    83 / 903 (thread    3) f\b\b\r",
      "STEP    77 / 903 (thread    2) f\b\b\r",
      "STEP    84 / 903 (thread    0) f\b\b\r",
      "STEP    85 / 903 (thread    4) f\b\b\r",
      "STEP    86 / 903 (thread    5) f\b\b\r",
      "STEP    87 / 903 (thread    1) f\b\b\r",
      "STEP    88 / 903 (thread    3) f\b\b\r",
      "STEP    89 / 903 (thread    0) f\b\b\r",
      "STEP    90 / 903 (thread    4) f\b\b\r",
      "STEP    91 / 903 (thread    2) f\b\b\r",
      "STEP    92 / 903 (thread    5) f\b\b\r",
      "STEP    93 / 903 (thread    2) f\b\b\r",
      "STEP    94 / 903 (thread    0) f\b\b\r",
      "STEP    95 / 903 (thread    4) f\b\b\r",
      "STEP    96 / 903 (thread    1) f\b\b\r",
      "STEP    97 / 903 (thread    2) f\b\b\r",
      "STEP    98 / 903 (thread    1) f\b\b\r",
      "STEP    99 / 903 (thread    0) f\b\b\r",
      "STEP   100 / 903 (thread    4) f\b\b\r",
      "STEP   101 / 903 (thread    3) f\b\b\r",
      "STEP   102 / 903 (thread    2) f\b\b\r",
      "STEP   103 / 903 (thread    1) f\b\b\r",
      "STEP   104 / 903 (thread    5) f\b\b\r",
      "STEP   105 / 903 (thread    2) f\b\b\r",
      "STEP   106 / 903 (thread    0) f\b\b\r",
      "STEP   107 / 903 (thread    4) f\b\b\r",
      "STEP   108 / 903 (thread    3) f\b\b\r",
      "STEP   109 / 903 (thread    1) f\b\b\r",
      "STEP   110 / 903 (thread    5) f\b\b\r",
      "STEP   111 / 903 (thread    2) f\b\b\r",
      "STEP   112 / 903 (thread    1) f\b\b\r",
      "STEP   113 / 903 (thread    4) f\b\b\r",
      "STEP   114 / 903 (thread    0) f\b\b\r",
      "STEP   115 / 903 (thread    2) f\b\b\r",
      "STEP   116 / 903 (thread    5) f\b\b\r",
      "STEP   117 / 903 (thread    1) f\b\b\r",
      "STEP   118 / 903 (thread    2) f\b\b\r",
      "STEP   119 / 903 (thread    4) f\b\b\r",
      "STEP   120 / 903 (thread    3) f\b\b\r",
      "STEP   121 / 903 (thread    0) f\b\b\r",
      "STEP   122 / 903 (thread    5) f\b\b\r",
      "STEP   123 / 903 (thread    2) f\b\b\r",
      "STEP   124 / 903 (thread    1) f\b\b\r",
      "STEP   125 / 903 (thread    4) f\b\b\r",
      "STEP   126 / 903 (thread    0) f\b\b\r",
      "STEP   127 / 903 (thread    3) f\b\b\r",
      "STEP   128 / 903 (thread    2) f\b\b\r",
      "STEP   129 / 903 (thread    1) f\b\b\r",
      "STEP   130 / 903 (thread    5) f\b\b\r",
      "STEP   132 / 903 (thread    2) f\b\b\r",
      "STEP   133 / 903 (thread    1) f\b\b\r",
      "STEP   134 / 903 (thread    0) f\b\b\r",
      "STEP   131 / 903 (thread    4) f\b\b\r",
      "STEP   136 / 903 (thread    5) f\b\b\r",
      "STEP   137 / 903 (thread    2) f\b\b\r",
      "STEP   138 / 903 (thread    1) f\b\b\r",
      "STEP   135 / 903 (thread    3) f\b\b\r",
      "STEP   139 / 903 (thread    2) f\b\b\r",
      "STEP   140 / 903 (thread    1) f\b\b\r",
      "STEP   141 / 903 (thread    0) f\b\b\r",
      "STEP   142 / 903 (thread    4) f\b\b\r",
      "STEP   143 / 903 (thread    5) f\b\b\r",
      "STEP   144 / 903 (thread    2) f\b\b\r",
      "STEP   145 / 903 (thread    0) f\b\b\r",
      "STEP   146 / 903 (thread    3) f\b\b\r",
      "STEP   147 / 903 (thread    1) f\b\b\r",
      "STEP   148 / 903 (thread    2) f\b\b\r",
      "STEP   149 / 903 (thread    1) f\b\b\r",
      "STEP   150 / 903 (thread    0) f\b\b\r",
      "STEP   151 / 903 (thread    3) f\b\b\r",
      "STEP   152 / 903 (thread    4) f\b\b\r",
      "STEP   153 / 903 (thread    5) f\b\b\r",
      "STEP   154 / 903 (thread    2) f\b\b\r",
      "STEP   155 / 903 (thread    1) f\b\b\r",
      "STEP   156 / 903 (thread    0) f\b\b\r",
      "STEP   157 / 903 (thread    3) f\b\b\r",
      "STEP   158 / 903 (thread    4) f\b\b\r",
      "STEP   159 / 903 (thread    2) f\b\b\r",
      "STEP   160 / 903 (thread    5) f\b\b\r",
      "STEP   161 / 903 (thread    1) f\b\b\r",
      "STEP   162 / 903 (thread    2) f\b\b\r",
      "STEP   163 / 903 (thread    1) f\b\b\r",
      "STEP   164 / 903 (thread    3) f\b\b\r",
      "STEP   165 / 903 (thread    0) f\b\b\r",
      "STEP   166 / 903 (thread    4) f\b\b\r",
      "STEP   167 / 903 (thread    5) f\b\b\r",
      "STEP   168 / 903 (thread    4) f\b\b\r",
      "STEP   169 / 903 (thread    1) f\b\b\r",
      "STEP   170 / 903 (thread    2) f\b\b\r",
      "STEP   171 / 903 (thread    5) f\b\b\r",
      "STEP   172 / 903 (thread    2) f\b\b\r",
      "STEP   173 / 903 (thread    3) f\b\b\r",
      "STEP   174 / 903 (thread    0) f\b\b\r",
      "STEP   175 / 903 (thread    4) f\b\b\r",
      "STEP   176 / 903 (thread    5) f\b\b\r",
      "STEP   177 / 903 (thread    2) f\b\b\r",
      "STEP   178 / 903 (thread    1) f\b\b\r",
      "STEP   179 / 903 (thread    3) f\b\b\r",
      "STEP   180 / 903 (thread    0) f\b\b\r",
      "STEP   181 / 903 (thread    4) f\b\b\r",
      "STEP   182 / 903 (thread    2) f\b\b\r",
      "STEP   183 / 903 (thread    1) f\b\b\r",
      "STEP   184 / 903 (thread    3) f\b\b\r",
      "STEP   185 / 903 (thread    2) f\b\b\r",
      "STEP   186 / 903 (thread    1) f\b\b\r",
      "STEP   187 / 903 (thread    4) f\b\b\r",
      "STEP   188 / 903 (thread    5) f\b\b\r",
      "STEP   189 / 903 (thread    2) f\b\b\r",
      "STEP   190 / 903 (thread    1) f\b\b\r",
      "STEP   191 / 903 (thread    3) f\b\b\r",
      "STEP   192 / 903 (thread    0) f\b\b\r",
      "STEP   193 / 903 (thread    4) f\b\b\r",
      "STEP   194 / 903 (thread    5) f\b\b\r",
      "STEP   195 / 903 (thread    1) f\b\b\r",
      "STEP   196 / 903 (thread    2) f\b\b\r",
      "STEP   197 / 903 (thread    1) f\b\b\r",
      "STEP   198 / 903 (thread    3) f\b\b\r",
      "STEP   200 / 903 (thread    4) f\b\b\r",
      "STEP   201 / 903 (thread    5) f\b\b\r",
      "STEP   199 / 903 (thread    0) f\b\b\r",
      "STEP   202 / 903 (thread    2) f\b\b\r",
      "STEP   203 / 903 (thread    1) f\b\b\r",
      "STEP   204 / 903 (thread    2) f\b\b\r",
      "STEP   205 / 903 (thread    4) f\b\b\r",
      "STEP   206 / 903 (thread    3) f\b\b\r",
      "STEP   207 / 903 (thread    5) f\b\b\r",
      "STEP   208 / 903 (thread    0) f\b\b\r",
      "STEP   209 / 903 (thread    1) f\b\b\r",
      "STEP   210 / 903 (thread    2) f\b\b\r",
      "STEP   212 / 903 (thread    3) f\b\b\r",
      "STEP   211 / 903 (thread    4) f\b\b\r",
      "STEP   213 / 903 (thread    1) f\b\b\r",
      "STEP   214 / 903 (thread    2) f\b\b\r",
      "STEP   215 / 903 (thread    5) f\b\b\r",
      "STEP   216 / 903 (thread    0) f\b\b\r",
      "STEP   217 / 903 (thread    2) f\b\b\r",
      "STEP   218 / 903 (thread    3) f\b\b\r",
      "STEP   219 / 903 (thread    5) f\b\b\r",
      "STEP   220 / 903 (thread    1) f\b\b\r",
      "STEP   222 / 903 (thread    2) f\b\b\r",
      "STEP   223 / 903 (thread    0) f\b\b\r",
      "STEP   221 / 903 (thread    4) f\b\b\r",
      "STEP   224 / 903 (thread    1) f\b\b\r",
      "STEP   225 / 903 (thread    2) f\b\b\r",
      "STEP   226 / 903 (thread    3) f\b\b\r",
      "STEP   227 / 903 (thread    0) f\b\b\r",
      "STEP   228 / 903 (thread    5) f\b\b\r",
      "STEP   229 / 903 (thread    2) f\b\b\r",
      "STEP   230 / 903 (thread    1) f\b\b\r",
      "STEP   231 / 903 (thread    2)\r",
      "STEP   232 / 903 (thread    4) f\b\b f\b\b\r",
      "STEP   233 / 903 (thread    0) f\b\b\r",
      "STEP   234 / 903 (thread    5) f\b\b\r",
      "STEP   235 / 903 (thread    1) f\b\b\r",
      "STEP   236 / 903 (thread    1) f\b\b\r",
      "STEP   237 / 903 (thread    0) f\b\b\r",
      "STEP   238 / 903 (thread    5) f\b\b\r",
      "STEP   239 / 903 (thread    3) f\b\b\r",
      "STEP   240 / 903 (thread    2) f\b\b\r",
      "STEP   241 / 903 (thread    4) f\b\b\r",
      "STEP   242 / 903 (thread    1) f\b\b\r",
      "STEP   243 / 903 (thread    2) f\b\b\r",
      "STEP   244 / 903 (thread    0) f\b\b\r",
      "STEP   245 / 903 (thread    5) f\b\b\r",
      "STEP   246 / 903 (thread    3) f\b\b\r",
      "STEP   247 / 903 (thread    1) f\b\b\r",
      "STEP   248 / 903 (thread    4) f\b\b\r",
      "STEP   249 / 903 (thread    2) f\b\b\r",
      "STEP   250 / 903 (thread    1) f\b\b\r",
      "STEP   251 / 903 (thread    0) f\b\b\r",
      "STEP   252 / 903 (thread    5) f\b\b\r",
      "STEP   253 / 903 (thread    3) f\b\b\r",
      "STEP   254 / 903 (thread    2) f\b\b\r",
      "STEP   255 / 903 (thread    5) f\b\b\r",
      "STEP   256 / 903 (thread    0) f\b\b\r",
      "STEP   259 / 903 (thread    4) f\b\b\r",
      "STEP   258 / 903 (thread    3) f\b\b\r",
      "STEP   257 / 903 (thread    1) f\b\b\r",
      "STEP   261 / 903 (thread    5) f\b\b\r",
      "STEP   262 / 903 (thread    0) f\b\b\r",
      "STEP   263 / 903 (thread    1) f\b\b\r",
      "STEP   260 / 903 (thread    2) f\b\b\r",
      "STEP   264 / 903 (thread    3) f\b\b\r",
      "STEP   265 / 903 (thread    4) f\b\b\r",
      "STEP   266 / 903 (thread    5) f\b\b\r",
      "STEP   267 / 903 (thread    1) f\b\b\r",
      "STEP   268 / 903 (thread    2) f\b\b\r",
      "STEP   269 / 903 (thread    5) f\b\b\r",
      "STEP   270 / 903 (thread    1) f\b\b\r",
      "STEP   271 / 903 (thread    0) f\b\b\r",
      "STEP   272 / 903 (thread    3)\r",
      "STEP   273 / 903 (thread    2) f\b\b f\b\b\r",
      "STEP   274 / 903 (thread    1) f\b\b\r",
      "STEP   275 / 903 (thread    5) f\b\b\r",
      "STEP   276 / 903 (thread    0) f\b\b\r",
      "STEP   277 / 903 (thread    2) f\b\b\r",
      "STEP   278 / 903 (thread    4) f\b\b\r",
      "STEP   279 / 903 (thread    3) f\b\b\r",
      "STEP   280 / 903 (thread    1) f\b\b\r",
      "STEP   281 / 903 (thread    2) f\b\b\r",
      "STEP   282 / 903 (thread    5) f\b\b\r",
      "STEP   283 / 903 (thread    0) f\b\b\r",
      "STEP   284 / 903 (thread    4) f\b\b\r",
      "STEP   286 / 903 (thread    1) f\b\b\r",
      "STEP   285 / 903 (thread    3) f\b\b\r",
      "STEP   288 / 903 (thread    1) f\b\b\r",
      "STEP   289 / 903 (thread    5) f\b\b\r",
      "STEP   290 / 903 (thread    0) f\b\b\r",
      "STEP   291 / 903 (thread    4) f\b\b\r",
      "STEP   287 / 903 (thread    2) f\b\b\r",
      "STEP   292 / 903 (thread    1) f\b\b\r",
      "STEP   293 / 903 (thread    3) f\b\b\r",
      "STEP   294 / 903 (thread    0) f\b\b\r",
      "STEP   295 / 903 (thread    1) f\b\b\r",
      "STEP   296 / 903 (thread    5) f\b\b\r",
      "STEP   297 / 903 (thread    2) f\b\b\r",
      "STEP   298 / 903 (thread    1) f\b\b\r",
      "STEP   299 / 903 (thread    4) f\b\b\r",
      "STEP   300 / 903 (thread    0) f\b\b\r",
      "STEP   301 / 903 (thread    1) f\b\b\r",
      "STEP   302 / 903 (thread    3) f\b\b\r",
      "STEP   303 / 903 (thread    2) f\b\b\r",
      "STEP   304 / 903 (thread    1) f\b\b\r",
      "STEP   305 / 903 (thread    4) f\b\b\r",
      "STEP   306 / 903 (thread    0) f\b\b\r",
      "STEP   307 / 903 (thread    5) f\b\b\r",
      "STEP   309 / 903 (thread    1) f\b\b\r",
      "STEP   308 / 903 (thread    2) f\b\b\r",
      "STEP   310 / 903 (thread    3) f\b\b\r",
      "STEP   311 / 903 (thread    0) f\b\b\r",
      "STEP   312 / 903 (thread    4) f\b\b\r",
      "STEP   313 / 903 (thread    2) f\b\b\r",
      "STEP   314 / 903 (thread    1) f\b\b\r",
      "STEP   315 / 903 (thread    5) f\b\b\r",
      "STEP   316 / 903 (thread    2) f\b\b\r",
      "STEP   318 / 903 (thread    5) f\b\b\r",
      "STEP   317 / 903 (thread    1) f\b\b\r",
      "STEP   319 / 903 (thread    3) f\b\b\r",
      "STEP   320 / 903 (thread    0) f\b\b\r",
      "STEP   321 / 903 (thread    4) f\b\b\r",
      "STEP   322 / 903 (thread    2) f\b\b\r",
      "STEP   323 / 903 (thread    2) f\b\b\r",
      "STEP   324 / 903 (thread    4) f\b\b\r",
      "STEP   325 / 903 (thread    1) f\b\b\r",
      "STEP   326 / 903 (thread    5) f\b\b\r",
      "STEP   327 / 903 (thread    2) f\b\b\r",
      "STEP   328 / 903 (thread    1) f\b\b\r",
      "STEP   329 / 903 (thread    0) f\b\b\r",
      "STEP   330 / 903 (thread    5) f\b\b\r",
      "STEP   331 / 903 (thread    3) f\b\b\r",
      "STEP   332 / 903 (thread    1) f\b\b\r",
      "STEP   333 / 903 (thread    2) f\b\b\r",
      "STEP   334 / 903 (thread    0) f\b\b\r",
      "STEP   335 / 903 (thread    4) f\b\b\r",
      "STEP   336 / 903 (thread    1) f\b\b\r",
      "STEP   337 / 903 (thread    5) f\b\b\r",
      "STEP   338 / 903 (thread    2) f\b\b\r",
      "STEP   339 / 903 (thread    3) f\b\b\r",
      "STEP   340 / 903 (thread    1) f\b\b\r",
      "STEP   341 / 903 (thread    4) f\b\b\r",
      "STEP   342 / 903 (thread    2) f\b\b\r",
      "STEP   343 / 903 (thread    0) f\b\b\r",
      "STEP   344 / 903 (thread    5) f\b\b\r",
      "STEP   345 / 903 (thread    3) f\b\b\r",
      "STEP   346 / 903 (thread    1) f\b\b\r",
      "STEP   347 / 903 (thread    2) f\b\b\r",
      "STEP   348 / 903 (thread    2) f\b\b\r",
      "STEP   349 / 903 (thread    1) f\b\b\r",
      "STEP   350 / 903 (thread    0) f\b\b\r",
      "STEP   351 / 903 (thread    4) f\b\b\r",
      "STEP   352 / 903 (thread    5) f\b\b\r",
      "STEP   353 / 903 (thread    2) f\b\b\r",
      "STEP   354 / 903 (thread    3) f\b\b\r",
      "STEP   355 / 903 (thread    1) f\b\b\r",
      "STEP   356 / 903 (thread    2) f\b\b\r",
      "STEP   357 / 903 (thread    0) f\b\b\r",
      "STEP   358 / 903 (thread    5) f\b\b\r",
      "STEP   359 / 903 (thread    4) f\b\b\r",
      "STEP   360 / 903 (thread    1) f\b\b\r",
      "STEP   361 / 903 (thread    3) f\b\b\r",
      "STEP   362 / 903 (thread    2) f\b\b\r",
      "STEP   363 / 903 (thread    5) f\b\b\r",
      "STEP   364 / 903 (thread    4) f\b\b\r",
      "STEP   365 / 903 (thread    0) f\b\b\r",
      "STEP   366 / 903 (thread    1) f\b\b\r",
      "STEP   367 / 903 (thread    5) f\b\b\r",
      "STEP   368 / 903 (thread    4) f\b\b\r",
      "STEP   369 / 903 (thread    2) f\b\b\r",
      "STEP   370 / 903 (thread    0) f\b\b\r",
      "STEP   371 / 903 (thread    5) f\b\b\r",
      "STEP   372 / 903 (thread    1) f\b\b\r",
      "STEP   373 / 903 (thread    2) f\b\b\r",
      "STEP   374 / 903 (thread    3) f\b\b\r",
      "STEP   375 / 903 (thread    0) f\b\b\r",
      "STEP   376 / 903 (thread    4) f\b\b\r",
      "STEP   377 / 903 (thread    1) f\b\b\r",
      "STEP   378 / 903 (thread    2) f\b\b\r",
      "STEP   379 / 903 (thread    5) f\b\b\r",
      "STEP   380 / 903 (thread    1) f\b\b\r",
      "STEP   381 / 903 (thread    3) f\b\b\r",
      "STEP   382 / 903 (thread    0) f\b\b\r",
      "STEP   383 / 903 (thread    1) f\b\b\r",
      "STEP   384 / 903 (thread    2) f\b\b\r",
      "STEP   385 / 903 (thread    4) f\b\b\r",
      "STEP   386 / 903 (thread    2) f\b\b\r",
      "STEP   387 / 903 (thread    4) f\b\b\r",
      "STEP   388 / 903 (thread    1) f\b\b\r",
      "STEP   389 / 903 (thread    1) f\b\b\r",
      "STEP   390 / 903 (thread    3) f\b\b\r",
      "STEP   391 / 903 (thread    2) f\b\b\r",
      "STEP   392 / 903 (thread    5) f\b\b\r",
      "STEP   393 / 903 (thread    0) f\b\b\r",
      "STEP   394 / 903 (thread    1) f\b\b\r",
      "STEP   395 / 903 (thread    4) f\b\b\r",
      "STEP   396 / 903 (thread    2) f\b\b\r",
      "STEP   398 / 903 (thread    5) f\b\b\r",
      "STEP   399 / 903 (thread    1) f\b\b\r",
      "STEP   397 / 903 (thread    3) f\b\b\r",
      "STEP   400 / 903 (thread    2) f\b\b\r",
      "STEP   401 / 903 (thread    0) f\b\b\r",
      "STEP   402 / 903 (thread    4) f\b\b\r",
      "STEP   403 / 903 (thread    2) f\b\b\r",
      "STEP   404 / 903 (thread    0) f\b\b\r",
      "STEP   405 / 903 (thread    2) f\b\b\r",
      "STEP   406 / 903 (thread    5) f\b\b\r",
      "STEP   407 / 903 (thread    4) f\b\b\r",
      "STEP   408 / 903 (thread    1) f\b\b\r",
      "STEP   409 / 903 (thread    3) f\b\b\r",
      "STEP   410 / 903 (thread    2) f\b\b\r",
      "STEP   411 / 903 (thread    1) f\b\b\r",
      "STEP   412 / 903 (thread    0) f\b\b\r",
      "STEP   413 / 903 (thread    4) f\b\b\r",
      "STEP   414 / 903 (thread    5) f\b\b\r",
      "STEP   415 / 903 (thread    3) f\b\b\r",
      "STEP   416 / 903 (thread    1) f\b\b\r",
      "STEP   417 / 903 (thread    2) f\b\b\r",
      "STEP   418 / 903 (thread    0) f\b\b\r",
      "STEP   419 / 903 (thread    4) f\b\b\r",
      "STEP   420 / 903 (thread    1) f\b\b\r",
      "STEP   421 / 903 (thread    3) f\b\b\r",
      "STEP   422 / 903 (thread    2) f\b\b\r",
      "STEP   423 / 903 (thread    5) f\b\b\r",
      "STEP   424 / 903 (thread    1) f\b\b\r",
      "STEP   425 / 903 (thread    1) f\b\b\r",
      "STEP   426 / 903 (thread    0) f\b\b\r",
      "STEP   427 / 903 (thread    2) f\b\b\r",
      "STEP   428 / 903 (thread    4) f\b\b\r",
      "STEP   429 / 903 (thread    1) f\b\b\r",
      "STEP   430 / 903 (thread    5) f\b\b\r",
      "STEP   431 / 903 (thread    3) f\b\b\r",
      "STEP   433 / 903 (thread    1) f\b\b\r",
      "STEP   434 / 903 (thread    0) f\b\b\r",
      "STEP   435 / 903 (thread    4) f\b\b\r",
      "STEP   432 / 903 (thread    2) f\b\b\r",
      "STEP   436 / 903 (thread    5) f\b\b\r",
      "STEP   437 / 903 (thread    3) f\b\b\r",
      "STEP   438 / 903 (thread    1) f\b\b\r",
      "STEP   439 / 903 (thread    2) f\b\b\r",
      "STEP   440 / 903 (thread    1) f\b\b\r",
      "STEP   441 / 903 (thread    5) f\b\b\r",
      "STEP   442 / 903 (thread    0) f\b\b\r",
      "STEP   443 / 903 (thread    5) f\b\b\r",
      "STEP   444 / 903 (thread    2) f\b\b\r",
      "STEP   445 / 903 (thread    1) f\b\b\r",
      "STEP   446 / 903 (thread    4) f\b\b\r",
      "STEP   447 / 903 (thread    0) f\b\b\r",
      "STEP   448 / 903 (thread    3) f\b\b\r",
      "STEP   449 / 903 (thread    2) f\b\b\r",
      "STEP   450 / 903 (thread    1) f\b\b\r",
      "STEP   451 / 903 (thread    5) f\b\b\r",
      "STEP   452 / 903 (thread    4) f\b\b\r",
      "STEP   453 / 903 (thread    0) f\b\b\r",
      "STEP   454 / 903 (thread    3) f\b\b\r",
      "STEP   455 / 903 (thread    2) f\b\b\r",
      "STEP   456 / 903 (thread    3) f\b\b\r",
      "STEP   457 / 903 (thread    1) f\b\b\r",
      "STEP   458 / 903 (thread    2) f\b\b\r",
      "STEP   459 / 903 (thread    4) f\b\b\r",
      "STEP   460 / 903 (thread    2) f\b\b\r",
      "STEP   461 / 903 (thread    5) f\b\b\r",
      "STEP   462 / 903 (thread    1) f\b\b\r",
      "STEP   463 / 903 (thread    0) f\b\b\r",
      "STEP   464 / 903 (thread    3) f\b\b\r",
      "STEP   465 / 903 (thread    2) f\b\b\r",
      "STEP   466 / 903 (thread    1) f\b\b\r",
      "STEP   467 / 903 (thread    4) f\b\b\r",
      "STEP   468 / 903 (thread    5) f\b\b\r",
      "STEP   469 / 903 (thread    2) f\b\b\r",
      "STEP   470 / 903 (thread    0) f\b\b\r",
      "STEP   471 / 903 (thread    3) f\b\b\r",
      "STEP   472 / 903 (thread    1) f\b\b\r",
      "STEP   473 / 903 (thread    2) f\b\b\r",
      "STEP   474 / 903 (thread    4) f\b\b\r",
      "STEP   475 / 903 (thread    5) f\b\b\r",
      "STEP   476 / 903 (thread    0) f\b\b\r",
      "STEP   477 / 903 (thread    1) f\b\b\r",
      "STEP   478 / 903 (thread    5) f\b\b\r",
      "STEP   479 / 903 (thread    2) f\b\b\r",
      "STEP   480 / 903 (thread    3) f\b\b\r",
      "STEP   481 / 903 (thread    0) f\b\b\r",
      "STEP   482 / 903 (thread    2) f\b\b\r",
      "STEP   483 / 903 (thread    1) f\b\b\r",
      "STEP   484 / 903 (thread    4) f\b\b\r",
      "STEP   485 / 903 (thread    3) f\b\b\r",
      "STEP   486 / 903 (thread    5) f\b\b\r",
      "STEP   487 / 903 (thread    2) f\b\b\r",
      "STEP   488 / 903 (thread    1) f\b\b\r",
      "STEP   489 / 903 (thread    0) f\b\b\r",
      "STEP   490 / 903 (thread    4) f\b\b\r",
      "STEP   491 / 903 (thread    2) f\b\b\r",
      "STEP   492 / 903 (thread    3) f\b\b\r",
      "STEP   493 / 903 (thread    0) f\b\b\r",
      "STEP   494 / 903 (thread    1) f\b\b\r",
      "STEP   495 / 903 (thread    5) f\b\b\r",
      "STEP   496 / 903 (thread    3) f\b\b\r",
      "STEP   497 / 903 (thread    2) f\b\b\r",
      "STEP   498 / 903 (thread    4) f\b\b\r",
      "STEP   499 / 903 (thread    1) f\b\b\r",
      "STEP   500 / 903 (thread    0) f\b\b\r",
      "STEP   501 / 903 (thread    1) f\b\b\r",
      "STEP   601 / 903 (thread    0) f\b\b"
     ]
    },
    {
     "name": "stderr",
     "output_type": "stream",
     "text": [
      "\r",
      "STEP   701 / 903 (thread    4) f\b\b\n",
      "Reallocating..done. *alloclen = 1864\n",
      "\r",
      "STEP   801 / 903 (thread    3) f\b\b"
     ]
    },
    {
     "name": "stderr",
     "output_type": "stream",
     "text": [
      "\r",
      "STEP   901 / 903 (thread    4) d\b\b h\n",
      "done.\n",
      "\n",
      "disttbfast (nuc) Version 7.490\n",
      "alg=A, model=DNA200 (2), 1.53 (4.59), -0.00 (-0.00), noshift, amax=0.0\n",
      "6 thread(s)\n",
      "\n",
      "\n",
      "Strategy:\n",
      " FFT-NS-2 (Fast but rough)\n",
      " Progressive method (guide trees were built 2 times.)\n",
      "\n",
      "If unsure which option to use, try 'mafft --auto input > output'.\n",
      "For more information, see 'mafft --help', 'mafft --man' and the mafft page.\n",
      "\n",
      "The default gap scoring scheme has been changed in version 7.110 (2013 Oct).\n",
      "It tends to insert more gaps into gap-rich regions than previous versions.\n",
      "To disable this change, add the --leavegappyregion option.\n",
      "\n"
     ]
    },
    {
     "name": "stdout",
     "output_type": "stream",
     "text": [
      "Running external command line application. This may print messages to stdout and/or stderr.\n",
      "The command being run is below. This command cannot be manually re-run as it will depend on temporary files that no longer exist.\n",
      "\n",
      "Command: FastTreeMP -quote -nt /tmp/qiime2-archive-d9ubowh8/0d52d2c7-a6ab-4fd0-b984-e4490976d527/data/aligned-dna-sequences.fasta\n",
      "\n"
     ]
    },
    {
     "name": "stderr",
     "output_type": "stream",
     "text": [
      "FastTree Version 2.1.10 Double precision (No SSE3), OpenMP (6 threads)\n",
      "Alignment: /tmp/qiime2-archive-d9ubowh8/0d52d2c7-a6ab-4fd0-b984-e4490976d527/data/aligned-dna-sequences.fasta\n",
      "Nucleotide distances: Jukes-Cantor Joins: balanced Support: SH-like 1000\n",
      "Search: Normal +NNI +SPR (2 rounds range 10) +ML-NNI opt-each=1\n",
      "TopHits: 1.00*sqrtN close=default refresh=0.80\n",
      "ML Model: Jukes-Cantor, CAT approximation with 20 rate categories\n",
      "      0.16 seconds: Joined    200 of    866\n"
     ]
    },
    {
     "name": "stderr",
     "output_type": "stream",
     "text": [
      "      0.27 seconds: Joined    400 of    866\n",
      "      0.40 seconds: Joined    600 of    866\n"
     ]
    },
    {
     "name": "stderr",
     "output_type": "stream",
     "text": [
      "      0.50 seconds: Joined    800 of    866\n",
      "Initial topology in 0.54 seconds\n",
      "Refining topology: 39 rounds ME-NNIs, 2 rounds ME-SPRs, 20 rounds ML-NNIs\n",
      "      0.61 seconds: ME NNI round 3 of 39, 301 of 867 splits, 20 changes (max delta 0.013)\n"
     ]
    },
    {
     "name": "stderr",
     "output_type": "stream",
     "text": [
      "      0.77 seconds: SPR round   1 of   2, 201 of 1736 nodes\n",
      "      0.88 seconds: SPR round   1 of   2, 401 of 1736 nodes\n"
     ]
    },
    {
     "name": "stderr",
     "output_type": "stream",
     "text": [
      "      1.00 seconds: SPR round   1 of   2, 601 of 1736 nodes\n",
      "      1.15 seconds: SPR round   1 of   2, 801 of 1736 nodes\n"
     ]
    },
    {
     "name": "stderr",
     "output_type": "stream",
     "text": [
      "      1.29 seconds: SPR round   1 of   2, 1001 of 1736 nodes\n",
      "      1.42 seconds: SPR round   1 of   2, 1201 of 1736 nodes\n"
     ]
    },
    {
     "name": "stderr",
     "output_type": "stream",
     "text": [
      "      1.58 seconds: SPR round   1 of   2, 1401 of 1736 nodes\n",
      "      1.71 seconds: SPR round   1 of   2, 1601 of 1736 nodes\n"
     ]
    },
    {
     "name": "stderr",
     "output_type": "stream",
     "text": [
      "      1.82 seconds: ME NNI round 14 of 39, 701 of 867 splits, 8 changes (max delta 0.012)\n",
      "      1.98 seconds: SPR round   2 of   2, 201 of 1736 nodes\n"
     ]
    },
    {
     "name": "stderr",
     "output_type": "stream",
     "text": [
      "      2.10 seconds: SPR round   2 of   2, 401 of 1736 nodes\n",
      "      2.22 seconds: SPR round   2 of   2, 601 of 1736 nodes\n"
     ]
    },
    {
     "name": "stderr",
     "output_type": "stream",
     "text": [
      "      2.35 seconds: SPR round   2 of   2, 801 of 1736 nodes\n",
      "      2.47 seconds: SPR round   2 of   2, 1001 of 1736 nodes\n"
     ]
    },
    {
     "name": "stderr",
     "output_type": "stream",
     "text": [
      "      2.59 seconds: SPR round   2 of   2, 1201 of 1736 nodes\n",
      "      2.72 seconds: SPR round   2 of   2, 1401 of 1736 nodes\n"
     ]
    },
    {
     "name": "stderr",
     "output_type": "stream",
     "text": [
      "      2.83 seconds: SPR round   2 of   2, 1601 of 1736 nodes\n",
      "      2.93 seconds: ME NNI round 28 of 39, 201 of 867 splits, 0 changes\n",
      "Total branch-length 19.475 after 2.99 sec\n"
     ]
    },
    {
     "name": "stderr",
     "output_type": "stream",
     "text": [
      "      3.05 seconds: ML Lengths 201 of 867 splits\n",
      "      3.16 seconds: ML Lengths 601 of 867 splits\n"
     ]
    },
    {
     "name": "stderr",
     "output_type": "stream",
     "text": [
      "      3.33 seconds: ML NNI round 1 of 20, 101 of 867 splits, 16 changes (max delta 10.118)\n",
      "      3.50 seconds: ML NNI round 1 of 20, 301 of 867 splits, 53 changes (max delta 10.946)\n"
     ]
    },
    {
     "name": "stderr",
     "output_type": "stream",
     "text": [
      "      3.68 seconds: ML NNI round 1 of 20, 501 of 867 splits, 83 changes (max delta 10.946)\n",
      "      3.86 seconds: ML NNI round 1 of 20, 701 of 867 splits, 113 changes (max delta 10.946)\n"
     ]
    },
    {
     "name": "stderr",
     "output_type": "stream",
     "text": [
      "ML-NNI round 1: LogLk = -49959.754 NNIs 143 max delta 11.28 Time 4.01\n",
      "      4.01 seconds: Site likelihoods with rate category 1 of 20\n",
      "      4.11 seconds: Site likelihoods with rate category 12 of 20\n",
      "Switched to using 20 rate categories (CAT approximation)\n",
      "Rate categories were divided by 1.050 so that average rate = 1.0\n",
      "CAT-based log-likelihoods may not be comparable across runs\n",
      "Use -gamma for approximate but comparable Gamma(20) log-likelihoods\n"
     ]
    },
    {
     "name": "stderr",
     "output_type": "stream",
     "text": [
      "      4.29 seconds: ML NNI round 2 of 20, 101 of 867 splits, 12 changes (max delta 3.773)\n",
      "      4.46 seconds: ML NNI round 2 of 20, 301 of 867 splits, 25 changes (max delta 4.027)\n"
     ]
    },
    {
     "name": "stderr",
     "output_type": "stream",
     "text": [
      "      4.65 seconds: ML NNI round 2 of 20, 501 of 867 splits, 35 changes (max delta 4.027)\n",
      "      4.84 seconds: ML NNI round 2 of 20, 701 of 867 splits, 65 changes (max delta 6.919)\n"
     ]
    },
    {
     "name": "stderr",
     "output_type": "stream",
     "text": [
      "ML-NNI round 2: LogLk = -41965.836 NNIs 77 max delta 8.55 Time 4.99\n",
      "      4.98 seconds: ML NNI round 3 of 20, 1 of 867 splits\n",
      "      5.15 seconds: ML NNI round 3 of 20, 201 of 867 splits, 8 changes (max delta 0.000)\n"
     ]
    },
    {
     "name": "stderr",
     "output_type": "stream",
     "text": [
      "      5.33 seconds: ML NNI round 3 of 20, 401 of 867 splits, 18 changes (max delta 4.273)\n",
      "ML-NNI round 3: LogLk = -41934.424 NNIs 26 max delta 4.93 Time 5.45\n",
      "      5.45 seconds: ML NNI round 4 of 20, 1 of 867 splits\n"
     ]
    },
    {
     "name": "stderr",
     "output_type": "stream",
     "text": [
      "      5.62 seconds: ML NNI round 4 of 20, 201 of 867 splits, 8 changes (max delta 2.040)\n",
      "ML-NNI round 4: LogLk = -41925.331 NNIs 10 max delta 2.04 Time 5.70\n",
      "      5.78 seconds: ML NNI round 5 of 20, 101 of 867 splits, 2 changes (max delta 2.286)\n",
      "ML-NNI round 5: LogLk = -41922.789 NNIs 2 max delta 2.29 Time 5.79\n"
     ]
    },
    {
     "name": "stderr",
     "output_type": "stream",
     "text": [
      "ML-NNI round 6: LogLk = -41922.745 NNIs 0 max delta 0.00 Time 5.85\n",
      "Turning off heuristics for final round of ML NNIs (converged)\n",
      "      5.92 seconds: ML NNI round 7 of 20, 101 of 867 splits, 0 changes\n"
     ]
    },
    {
     "name": "stderr",
     "output_type": "stream",
     "text": [
      "      6.07 seconds: ML NNI round 7 of 20, 301 of 867 splits, 3 changes (max delta 0.000)\n",
      "      6.23 seconds: ML NNI round 7 of 20, 501 of 867 splits, 10 changes (max delta 1.219)\n"
     ]
    },
    {
     "name": "stderr",
     "output_type": "stream",
     "text": [
      "      6.39 seconds: ML NNI round 7 of 20, 701 of 867 splits, 10 changes (max delta 1.219)\n",
      "ML-NNI round 7: LogLk = -41914.668 NNIs 11 max delta 1.22 Time 6.52 (final)\n",
      "      6.52 seconds: ML Lengths 1 of 867 splits\n"
     ]
    },
    {
     "name": "stderr",
     "output_type": "stream",
     "text": [
      "      6.63 seconds: ML Lengths 501 of 867 splits\n",
      "Optimize all lengths: LogLk = -41912.899 Time 6.73\n"
     ]
    },
    {
     "name": "stderr",
     "output_type": "stream",
     "text": [
      "      6.87 seconds: ML split tests for    100 of    866 internal splits\n",
      "      7.00 seconds: ML split tests for    200 of    866 internal splits\n"
     ]
    },
    {
     "name": "stderr",
     "output_type": "stream",
     "text": [
      "      7.14 seconds: ML split tests for    300 of    866 internal splits\n",
      "      7.28 seconds: ML split tests for    400 of    866 internal splits\n"
     ]
    },
    {
     "name": "stderr",
     "output_type": "stream",
     "text": [
      "      7.42 seconds: ML split tests for    500 of    866 internal splits\n",
      "      7.55 seconds: ML split tests for    600 of    866 internal splits\n"
     ]
    },
    {
     "name": "stderr",
     "output_type": "stream",
     "text": [
      "      7.69 seconds: ML split tests for    700 of    866 internal splits\n",
      "      7.83 seconds: ML split tests for    800 of    866 internal splits\n"
     ]
    },
    {
     "name": "stderr",
     "output_type": "stream",
     "text": [
      "Total time: 7.92 seconds Unique: 869/904 Bad splits: 2/866 Worst delta-LogLk 2.329\n"
     ]
    }
   ],
   "source": [
    "mafft_alignment, mafft_masked_alignment, mafft_tree, mafft_rooted_tree = align_to_tree_mafft_fasttree(\n",
    "    sequences=reps, n_threads=6, )"
   ]
  },
  {
   "cell_type": "markdown",
   "id": "0768d598",
   "metadata": {
    "papermill": {
     "duration": 0.02658,
     "end_time": "2022-09-29T22:18:57.743216",
     "exception": false,
     "start_time": "2022-09-29T22:18:57.716636",
     "status": "completed"
    },
    "tags": []
   },
   "source": [
    "### Compute Alpha Diversity (Phylogeny)\n",
    "- [diversity alpha_phylogenetic](https://docs.qiime2.org/2022.8/plugins/available/diversity/alpha-phylogenetic/): Computes a user-specified phylogenetic alpha diversity metric for all samples in a feature table.\n",
    "- Metrics: Choices ('faith_pd')"
   ]
  },
  {
   "cell_type": "code",
   "execution_count": 13,
   "id": "0383aa19",
   "metadata": {
    "ExecuteTime": {
     "end_time": "2022-09-29T20:54:35.310009Z",
     "start_time": "2022-09-29T20:54:35.141333Z"
    },
    "execution": {
     "iopub.execute_input": "2022-09-29T22:18:57.819223Z",
     "iopub.status.busy": "2022-09-29T22:18:57.818853Z",
     "iopub.status.idle": "2022-09-29T22:18:57.931423Z",
     "shell.execute_reply": "2022-09-29T22:18:57.930853Z"
    },
    "papermill": {
     "duration": 0.164049,
     "end_time": "2022-09-29T22:18:57.934023",
     "exception": false,
     "start_time": "2022-09-29T22:18:57.769974",
     "status": "completed"
    },
    "tags": []
   },
   "outputs": [
    {
     "name": "stdout",
     "output_type": "stream",
     "text": [
      "Calculating alpha diversity: faith_pd\n"
     ]
    }
   ],
   "source": [
    "metrics = ('faith_pd', )\n",
    "alpha_diversities_phylogenetic = dict()\n",
    "for metric in metrics:\n",
    "    print(f\"Calculating alpha diversity: {metric}\")\n",
    "    alpha_diversity = alpha_phylogenetic(table=tabs, phylogeny=mafft_rooted_tree, metric=metric).alpha_diversity\n",
    "    alpha_diversities_phylogenetic[metric] = alpha_diversity"
   ]
  },
  {
   "cell_type": "markdown",
   "id": "c7752cfd",
   "metadata": {
    "papermill": {
     "duration": 0.028461,
     "end_time": "2022-09-29T22:18:57.997060",
     "exception": false,
     "start_time": "2022-09-29T22:18:57.968599",
     "status": "completed"
    },
    "tags": []
   },
   "source": [
    "### Alpha diversity correlation\n",
    "\n",
    "This method only process `numeric` columns.\n"
   ]
  },
  {
   "cell_type": "code",
   "execution_count": 14,
   "id": "2814f613",
   "metadata": {
    "ExecuteTime": {
     "end_time": "2022-09-29T20:54:35.317618Z",
     "start_time": "2022-09-29T20:54:35.312094Z"
    },
    "execution": {
     "iopub.execute_input": "2022-09-29T22:18:58.052182Z",
     "iopub.status.busy": "2022-09-29T22:18:58.051959Z",
     "iopub.status.idle": "2022-09-29T22:18:58.058768Z",
     "shell.execute_reply": "2022-09-29T22:18:58.058260Z"
    },
    "papermill": {
     "duration": 0.036154,
     "end_time": "2022-09-29T22:18:58.060082",
     "exception": false,
     "start_time": "2022-09-29T22:18:58.023928",
     "status": "completed"
    },
    "tags": []
   },
   "outputs": [],
   "source": [
    "methods = ('spearman', 'pearson')\n",
    "numerics_cols = metadata_qa.filter_columns(column_type='numeric')\n",
    "if numerics_cols.column_count > 0:\n",
    "    for metric, alpha_values in alpha_diversities.items():\n",
    "        for method in methods:\n",
    "            corr_view = alpha_correlation(alpha_diversity=alpha_values, metadata=numerics_cols, \n",
    "                                      method=method, intersect_ids=True).visualization\n",
    "            view_path = os.path.join(qiime_folder, f'alpha-correlation-{metric}-{method}.qzv')\n",
    "            corr_view.save(view_path)\n",
    "            corr_view"
   ]
  },
  {
   "cell_type": "markdown",
   "id": "8ea83c8a",
   "metadata": {
    "papermill": {
     "duration": 0.027046,
     "end_time": "2022-09-29T22:18:58.114583",
     "exception": false,
     "start_time": "2022-09-29T22:18:58.087537",
     "status": "completed"
    },
    "tags": []
   },
   "source": [
    "## Alpha diversity comparisons\n",
    "\n",
    "Visually and statistically compare groups of alpha diversity values.\n",
    "\n",
    "[diversity alpha_group_significance](https://docs.qiime2.org/2022.8/plugins/available/diversity/alpha-group-significance/)"
   ]
  },
  {
   "cell_type": "code",
   "execution_count": 15,
   "id": "276d1c18",
   "metadata": {
    "ExecuteTime": {
     "end_time": "2022-09-29T20:54:36.089290Z",
     "start_time": "2022-09-29T20:54:35.318963Z"
    },
    "execution": {
     "iopub.execute_input": "2022-09-29T22:18:58.169972Z",
     "iopub.status.busy": "2022-09-29T22:18:58.169706Z",
     "iopub.status.idle": "2022-09-29T22:18:58.818485Z",
     "shell.execute_reply": "2022-09-29T22:18:58.817863Z"
    },
    "papermill": {
     "duration": 0.679731,
     "end_time": "2022-09-29T22:18:58.821588",
     "exception": false,
     "start_time": "2022-09-29T22:18:58.141857",
     "status": "completed"
    },
    "tags": []
   },
   "outputs": [
    {
     "name": "stdout",
     "output_type": "stream",
     "text": [
      "Processing alpha_group_significance: chao1\n",
      "Processing alpha_group_significance: simpson\n"
     ]
    },
    {
     "name": "stdout",
     "output_type": "stream",
     "text": [
      "Processing alpha_group_significance: shannon\n",
      "Processing alpha_group_significance: ace\n"
     ]
    },
    {
     "name": "stdout",
     "output_type": "stream",
     "text": [
      "Processing alpha_group_significance: observed_features\n"
     ]
    }
   ],
   "source": [
    "for metric, alpha_values in alpha_diversities.items():\n",
    "    print(f\"Processing alpha_group_significance: {metric}\")\n",
    "    significance_view = alpha_group_significance(alpha_diversity=alpha_values, metadata=metadata_qa).visualization\n",
    "    view_path = os.path.join(qiime_folder, f'alpha-group-significance-{metric}.qzv')\n",
    "    significance_view.save(view_path)\n",
    "    significance_view"
   ]
  },
  {
   "cell_type": "markdown",
   "id": "4349d357",
   "metadata": {
    "papermill": {
     "duration": 0.032213,
     "end_time": "2022-09-29T22:18:58.892214",
     "exception": false,
     "start_time": "2022-09-29T22:18:58.860001",
     "status": "completed"
    },
    "tags": []
   },
   "source": [
    "## Beta diversity analysis\n",
    "\n",
    "#### Reference\n",
    "- [diversity beta](https://docs.qiime2.org/2022.8/plugins/available/diversity/beta/): Computes a user-specified beta diversity metric for all pairs of samples in a feature table.\n",
    "- [Beta diversity metrics](http://scikit-bio.org/docs/0.2.0/generated/skbio.diversity.beta.html)\n",
    "\n",
    "- Metric Choices('aitchison', 'braycurtis', 'canberra', 'canberra_adkins', 'chebyshev', 'cityblock', 'correlation', 'cosine', 'dice', 'euclidean', 'hamming', 'jaccard', 'jensenshannon', 'kulsinski', 'matching', 'minkowski', 'rogerstanimoto', 'russellrao', 'seuclidean', 'sokalmichener', 'sokalsneath', 'sqeuclidean', 'yule')"
   ]
  },
  {
   "cell_type": "code",
   "execution_count": 16,
   "id": "f6f358dd",
   "metadata": {
    "ExecuteTime": {
     "end_time": "2022-09-29T20:54:36.335038Z",
     "start_time": "2022-09-29T20:54:36.091288Z"
    },
    "execution": {
     "iopub.execute_input": "2022-09-29T22:18:58.976720Z",
     "iopub.status.busy": "2022-09-29T22:18:58.976459Z",
     "iopub.status.idle": "2022-09-29T22:18:59.241294Z",
     "shell.execute_reply": "2022-09-29T22:18:59.240624Z"
    },
    "papermill": {
     "duration": 0.31868,
     "end_time": "2022-09-29T22:18:59.242771",
     "exception": false,
     "start_time": "2022-09-29T22:18:58.924091",
     "status": "completed"
    },
    "tags": []
   },
   "outputs": [
    {
     "name": "stdout",
     "output_type": "stream",
     "text": [
      "Calculating beta diversity: dice\n",
      "Calculating beta diversity: braycurtis\n",
      "Calculating beta diversity: chebyshev\n"
     ]
    },
    {
     "name": "stderr",
     "output_type": "stream",
     "text": [
      "/home/lauro/anaconda3/envs/qiime2-2022.2/lib/python3.8/site-packages/sklearn/metrics/pairwise.py:1761: DataConversionWarning: Data was converted to boolean for metric dice\n",
      "  warnings.warn(msg, DataConversionWarning)\n",
      "/home/lauro/anaconda3/envs/qiime2-2022.2/lib/python3.8/site-packages/sklearn/metrics/pairwise.py:1761: DataConversionWarning: Data was converted to boolean for metric jaccard\n",
      "  warnings.warn(msg, DataConversionWarning)\n"
     ]
    },
    {
     "name": "stdout",
     "output_type": "stream",
     "text": [
      "Calculating beta diversity: jaccard\n"
     ]
    }
   ],
   "source": [
    "metrics = ('dice', 'braycurtis', 'chebyshev', 'jaccard')\n",
    "beta_diversities = dict()\n",
    "for metric in metrics:\n",
    "    print(f\"Calculating beta diversity: {metric}\")\n",
    "    beta_diversity = beta(table=tabs, metric=metric, n_jobs=6, pseudocount=1).distance_matrix\n",
    "    beta_diversities[metric] = beta_diversity"
   ]
  },
  {
   "cell_type": "markdown",
   "id": "200a2fa7",
   "metadata": {
    "papermill": {
     "duration": 0.028717,
     "end_time": "2022-09-29T22:18:59.302133",
     "exception": false,
     "start_time": "2022-09-29T22:18:59.273416",
     "status": "completed"
    },
    "tags": []
   },
   "source": [
    "### Beta group significance\n",
    "\n",
    "- [diversity beta_group_significance](https://docs.qiime2.org/2022.8/plugins/available/diversity/beta-group-significance/): Determine whether groups of samples are significantly different from one another using a permutation-based statistical test.\n",
    "- Marti J Anderson. A new method for non-parametric multivariate analysis of variance. Austral ecology, 26(1):32–46, 2001. doi:https://doi.org/10.1111/j.1442-9993.2001.01070.pp.x."
   ]
  },
  {
   "cell_type": "code",
   "execution_count": 17,
   "id": "b8dd42b6",
   "metadata": {
    "ExecuteTime": {
     "end_time": "2022-09-29T20:55:08.313860Z",
     "start_time": "2022-09-29T20:54:36.336993Z"
    },
    "execution": {
     "iopub.execute_input": "2022-09-29T22:18:59.360268Z",
     "iopub.status.busy": "2022-09-29T22:18:59.360114Z",
     "iopub.status.idle": "2022-09-29T22:19:31.118467Z",
     "shell.execute_reply": "2022-09-29T22:19:31.117626Z"
    },
    "papermill": {
     "duration": 31.820952,
     "end_time": "2022-09-29T22:19:31.151724",
     "exception": false,
     "start_time": "2022-09-29T22:18:59.330772",
     "status": "completed"
    },
    "tags": []
   },
   "outputs": [
    {
     "name": "stdout",
     "output_type": "stream",
     "text": [
      "Calculating beta group significance with method permanova and metric dice\n"
     ]
    },
    {
     "name": "stdout",
     "output_type": "stream",
     "text": [
      "Calculating beta group significance with method permanova and metric braycurtis\n"
     ]
    },
    {
     "name": "stdout",
     "output_type": "stream",
     "text": [
      "Calculating beta group significance with method permanova and metric chebyshev\n"
     ]
    },
    {
     "name": "stdout",
     "output_type": "stream",
     "text": [
      "Calculating beta group significance with method permanova and metric jaccard\n"
     ]
    },
    {
     "name": "stdout",
     "output_type": "stream",
     "text": [
      "Calculating beta group significance with method anosim and metric dice\n"
     ]
    },
    {
     "name": "stdout",
     "output_type": "stream",
     "text": [
      "Calculating beta group significance with method anosim and metric braycurtis\n"
     ]
    },
    {
     "name": "stdout",
     "output_type": "stream",
     "text": [
      "Calculating beta group significance with method anosim and metric chebyshev\n"
     ]
    },
    {
     "name": "stdout",
     "output_type": "stream",
     "text": [
      "Calculating beta group significance with method anosim and metric jaccard\n"
     ]
    },
    {
     "name": "stdout",
     "output_type": "stream",
     "text": [
      "Calculating beta group significance with method permdisp and metric dice\n"
     ]
    },
    {
     "name": "stdout",
     "output_type": "stream",
     "text": [
      "Calculating beta group significance with method permdisp and metric braycurtis\n"
     ]
    },
    {
     "name": "stdout",
     "output_type": "stream",
     "text": [
      "Calculating beta group significance with method permdisp and metric chebyshev\n"
     ]
    },
    {
     "name": "stderr",
     "output_type": "stream",
     "text": [
      "/home/lauro/anaconda3/envs/qiime2-2022.2/lib/python3.8/site-packages/skbio/stats/ordination/_principal_coordinate_analysis.py:143: RuntimeWarning: The result contains negative eigenvalues. Please compare their magnitude with the magnitude of some of the largest positive eigenvalues. If the negative ones are smaller, it's probably safe to ignore them, but if they are large in magnitude, the results won't be useful. See the Notes section for more details. The smallest eigenvalue is -137834270.26223645 and the largest is 3983635047.9727664.\n",
      "  warn(\n"
     ]
    },
    {
     "name": "stderr",
     "output_type": "stream",
     "text": [
      "/home/lauro/anaconda3/envs/qiime2-2022.2/lib/python3.8/site-packages/skbio/stats/ordination/_principal_coordinate_analysis.py:143: RuntimeWarning: The result contains negative eigenvalues. Please compare their magnitude with the magnitude of some of the largest positive eigenvalues. If the negative ones are smaller, it's probably safe to ignore them, but if they are large in magnitude, the results won't be useful. See the Notes section for more details. The smallest eigenvalue is -137834270.26223645 and the largest is 3983635047.9727664.\n",
      "  warn(\n"
     ]
    },
    {
     "name": "stdout",
     "output_type": "stream",
     "text": [
      "Calculating beta group significance with method permdisp and metric jaccard\n"
     ]
    },
    {
     "data": {
      "text/plain": [
       "<Figure size 432x288 with 0 Axes>"
      ]
     },
     "metadata": {},
     "output_type": "display_data"
    }
   ],
   "source": [
    "methods = ('permanova', 'anosim', 'permdisp')\n",
    "for method in methods:\n",
    "    for metric, beta_diversity in beta_diversities.items():\n",
    "        print(f'Calculating beta group significance with method {method} and metric {metric}')\n",
    "        beta_view = beta_group_significance(distance_matrix=beta_diversity, \n",
    "                                            metadata=metadata_qa.get_column('group-id'), \n",
    "                                            pairwise=True, method=method).visualization\n",
    "        view_name = os.path.join(qiime_folder, f'beta-group-significance-{metric}-{method}.qzv')\n",
    "        beta_view.save(view_name)"
   ]
  },
  {
   "cell_type": "markdown",
   "id": "c0de85cf",
   "metadata": {
    "papermill": {
     "duration": 0.031997,
     "end_time": "2022-09-29T22:19:31.215875",
     "exception": false,
     "start_time": "2022-09-29T22:19:31.183878",
     "status": "completed"
    },
    "tags": []
   },
   "source": [
    "### Beta group Rarefaction\n",
    "\n",
    "- [diversity beta_rarefaction](https://docs.qiime2.org/2022.8/plugins/available/diversity/beta-rarefaction/): Repeatedly rarefy a feature table to compare beta diversity results within a given rarefaction depth.  For a given beta diversity metric, this visualizer will provide: an Emperor jackknifed PCoA plot, samples clustered by UPGMA or neighbor joining with support calculation, and a heatmap showing the correlation between rarefaction trials of that beta diversity metric."
   ]
  },
  {
   "cell_type": "code",
   "execution_count": null,
   "id": "a8e37df4",
   "metadata": {
    "papermill": {
     "duration": 0.032117,
     "end_time": "2022-09-29T22:19:31.280088",
     "exception": false,
     "start_time": "2022-09-29T22:19:31.247971",
     "status": "completed"
    },
    "tags": []
   },
   "outputs": [],
   "source": []
  }
 ],
 "metadata": {
  "celltoolbar": "Edit Metadata",
  "kernelspec": {
   "display_name": "Python 3 (ipykernel)",
   "language": "python",
   "name": "python3"
  },
  "language_info": {
   "codemirror_mode": {
    "name": "ipython",
    "version": 3
   },
   "file_extension": ".py",
   "mimetype": "text/x-python",
   "name": "python",
   "nbconvert_exporter": "python",
   "pygments_lexer": "ipython3",
   "version": "3.8.12"
  },
  "papermill": {
   "default_parameters": {},
   "duration": 62.270463,
   "end_time": "2022-09-29T22:19:32.133471",
   "environment_variables": {},
   "exception": null,
   "input_path": "nb-steps/step-diversity-analysis.ipynb",
   "output_path": "/home/lauro/nupeb/rede-micro/redemicro-ana-flavia-nutri/experiments/ana-flavia-HSD-NCxHSD-NR-trim/nb-executed-steps/step-diversity-analysis-ana-flavia-HSD-NCxHSD-NR-trim.ipynb",
   "parameters": {
    "base_dir": "/home/lauro/nupeb/rede-micro/redemicro-ana-flavia-nutri",
    "class_col": "sample-group",
    "classifier_file": "/home/lauro/nupeb/dados_brutos_rede_genoma/16S_classifiers_qiime2/silva-138-99-nb-classifier.qza",
    "experiment_name": "ana-flavia-HSD-NCxHSD-NR-trim",
    "manifest_file": "/home/lauro/nupeb/rede-micro/redemicro-ana-flavia-nutri/data/raw/manifest/manifest-ana-flavia-HSD-NCxHSD-NR.csv",
    "metadata_file": "/home/lauro/nupeb/rede-micro/redemicro-ana-flavia-nutri/data/raw/metadata/metadata-ana-flavia-HSD-NCxHSD-NR.tsv",
    "overlap": 12,
    "phred": 20,
    "replace_files": false,
    "threads": 6,
    "trim": {
     "forward_primer": "CCTACGGGRSGCAGCAG",
     "overlap": 8,
     "reverse_primer": "GGACTACHVGGGTWTCTAAT"
    },
    "trunc_f": 0,
    "trunc_r": 0
   },
   "start_time": "2022-09-29T22:18:29.863008",
   "version": "2.3.4"
  }
 },
 "nbformat": 4,
 "nbformat_minor": 5
}