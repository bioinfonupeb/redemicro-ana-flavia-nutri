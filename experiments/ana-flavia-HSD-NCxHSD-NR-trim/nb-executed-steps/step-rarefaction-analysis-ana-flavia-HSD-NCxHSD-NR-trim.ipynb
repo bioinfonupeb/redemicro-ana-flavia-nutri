{
 "cells": [
  {
   "cell_type": "markdown",
   "id": "bc78ccef",
   "metadata": {
    "papermill": {
     "duration": 0.021003,
     "end_time": "2023-08-23T18:03:00.871747",
     "exception": false,
     "start_time": "2023-08-23T18:03:00.850744",
     "status": "completed"
    },
    "tags": []
   },
   "source": [
    "# STEP : Rarefaction Analysis\n",
    "\n",
    "Using QIIME2 to create rarefaction graphs.\n",
    "\n",
    "\n",
    "## Methods\n",
    "[qiime alpha_rarefaction](https://docs.qiime2.org/2023.2/plugins/available/diversity/alpha-rarefaction/)\n",
    "```\n",
    "Generate interactive alpha rarefaction curves by computing rarefactions\n",
    "between `min_depth` and `max_depth`. The number of intermediate depths to\n",
    "compute is controlled by the `steps` parameter, with n `iterations` being\n",
    "computed at each rarefaction depth. If sample metadata is provided, samples\n",
    "may be grouped based on distinct values within a metadata column.\n",
    "```\n"
   ]
  },
  {
   "cell_type": "markdown",
   "id": "06036e1a",
   "metadata": {
    "papermill": {
     "duration": 0.039309,
     "end_time": "2023-08-23T18:03:00.999479",
     "exception": false,
     "start_time": "2023-08-23T18:03:00.960170",
     "status": "completed"
    },
    "tags": []
   },
   "source": [
    "## Setup and settings"
   ]
  },
  {
   "cell_type": "code",
   "execution_count": 1,
   "id": "1ec0b92a",
   "metadata": {
    "ExecuteTime": {
     "end_time": "2022-09-22T21:43:54.326002Z",
     "start_time": "2022-09-22T21:43:47.911891Z"
    },
    "execution": {
     "iopub.execute_input": "2023-08-23T18:03:01.027664Z",
     "iopub.status.busy": "2023-08-23T18:03:01.027084Z",
     "iopub.status.idle": "2023-08-23T18:03:07.577969Z",
     "shell.execute_reply": "2023-08-23T18:03:07.577208Z"
    },
    "papermill": {
     "duration": 6.568536,
     "end_time": "2023-08-23T18:03:07.581239",
     "exception": false,
     "start_time": "2023-08-23T18:03:01.012703",
     "status": "completed"
    },
    "tags": []
   },
   "outputs": [],
   "source": [
    "# Importing packages\n",
    "import os\n",
    "import pandas as pd\n",
    "from qiime2 import Artifact\n",
    "from qiime2 import Visualization\n",
    "from qiime2 import Metadata\n",
    "from qiime2.plugins.diversity.visualizers import alpha_rarefaction\n",
    "from qiime2.plugins.diversity.visualizers import beta_rarefaction\n",
    "\n",
    "from qiime2.plugins.feature_table.methods import filter_samples\n",
    "from qiime2.plugins.feature_table.methods import filter_seqs\n",
    "\n",
    "import matplotlib.pyplot as plt\n",
    "\n",
    "%matplotlib inline"
   ]
  },
  {
   "cell_type": "code",
   "execution_count": 2,
   "id": "0a38b43d",
   "metadata": {
    "ExecuteTime": {
     "end_time": "2022-09-22T21:43:54.330790Z",
     "start_time": "2022-09-22T21:43:54.328358Z"
    },
    "execution": {
     "iopub.execute_input": "2023-08-23T18:03:07.708857Z",
     "iopub.status.busy": "2023-08-23T18:03:07.708250Z",
     "iopub.status.idle": "2023-08-23T18:03:07.713216Z",
     "shell.execute_reply": "2023-08-23T18:03:07.712231Z"
    },
    "papermill": {
     "duration": 0.113675,
     "end_time": "2023-08-23T18:03:07.714976",
     "exception": false,
     "start_time": "2023-08-23T18:03:07.601301",
     "status": "completed"
    },
    "tags": []
   },
   "outputs": [],
   "source": [
    "# from qiime2.plugins import demux, deblur, quality_filter, \\\n",
    "#                            metadata, feature_table, alignment, \\\n",
    "#                            phylogeny, diversity, emperor, feature_classifier, \\\n",
    "#                            taxa, composition"
   ]
  },
  {
   "cell_type": "markdown",
   "id": "72a1b577",
   "metadata": {
    "papermill": {
     "duration": 0.016842,
     "end_time": "2023-08-23T18:03:07.816649",
     "exception": false,
     "start_time": "2023-08-23T18:03:07.799807",
     "status": "completed"
    },
    "tags": []
   },
   "source": [
    "### Receiving the parameters\n",
    "\n",
    "The following cell can receive parameters using the [papermill](https://papermill.readthedocs.io/en/latest/) tool."
   ]
  },
  {
   "cell_type": "code",
   "execution_count": 3,
   "id": "0389a385",
   "metadata": {
    "ExecuteTime": {
     "end_time": "2022-09-22T21:43:54.344271Z",
     "start_time": "2022-09-22T21:43:54.332262Z"
    },
    "execution": {
     "iopub.execute_input": "2023-08-23T18:03:07.846770Z",
     "iopub.status.busy": "2023-08-23T18:03:07.846030Z",
     "iopub.status.idle": "2023-08-23T18:03:07.852282Z",
     "shell.execute_reply": "2023-08-23T18:03:07.851125Z"
    },
    "papermill": {
     "duration": 0.023316,
     "end_time": "2023-08-23T18:03:07.854251",
     "exception": false,
     "start_time": "2023-08-23T18:03:07.830935",
     "status": "completed"
    },
    "tags": [
     "parameters"
    ]
   },
   "outputs": [],
   "source": [
    "metadata_file = '/home/lauro/nupeb/rede-micro/redemicro-miliane-nutri/data/raw/metadata/miliane-metadata-CxAC.tsv'\n",
    "base_dir = os.path.join('/', 'home', 'lauro', 'nupeb', 'rede-micro', 'redemicro-miliane-nutri')\n",
    "experiment_name = 'miliane-CxAC-trim'\n",
    "replace_files = False"
   ]
  },
  {
   "cell_type": "code",
   "execution_count": 4,
   "id": "d1ee48b5",
   "metadata": {
    "execution": {
     "iopub.execute_input": "2023-08-23T18:03:07.884178Z",
     "iopub.status.busy": "2023-08-23T18:03:07.883739Z",
     "iopub.status.idle": "2023-08-23T18:03:07.891110Z",
     "shell.execute_reply": "2023-08-23T18:03:07.890154Z"
    },
    "papermill": {
     "duration": 0.023873,
     "end_time": "2023-08-23T18:03:07.893020",
     "exception": false,
     "start_time": "2023-08-23T18:03:07.869147",
     "status": "completed"
    },
    "tags": [
     "injected-parameters"
    ]
   },
   "outputs": [],
   "source": [
    "# Parameters\n",
    "experiment_name = \"ana-flavia-HSD-NCxHSD-NR-trim\"\n",
    "base_dir = \"/home/lauro/nupeb/rede-micro/redemicro-ana-flavia-nutri\"\n",
    "manifest_file = \"/home/lauro/nupeb/rede-micro/redemicro-ana-flavia-nutri/data/raw/manifest/manifest-ana-flavia-HSD-NCxHSD-NR.csv\"\n",
    "metadata_file = \"/home/lauro/nupeb/rede-micro/redemicro-ana-flavia-nutri/data/raw/metadata/metadata-ana-flavia-HSD-NCxHSD-NR.tsv\"\n",
    "class_col = \"group-id\"\n",
    "classifier_file = \"/home/lauro/nupeb/rede-micro/models/silva-138-99-nb-classifier.qza\"\n",
    "top_n = 20\n",
    "replace_files = False\n",
    "phred = 20\n",
    "trunc_f = 0\n",
    "trunc_r = 0\n",
    "overlap = 12\n",
    "threads = 6\n",
    "trim = {\n",
    "    \"overlap\": 8,\n",
    "    \"forward_primer\": \"CCTACGGGRSGCAGCAG\",\n",
    "    \"reverse_primer\": \"GGACTACHVGGGTWTCTAAT\",\n",
    "}\n"
   ]
  },
  {
   "cell_type": "markdown",
   "id": "020368f7",
   "metadata": {
    "papermill": {
     "duration": 0.013413,
     "end_time": "2023-08-23T18:03:07.921132",
     "exception": false,
     "start_time": "2023-08-23T18:03:07.907719",
     "status": "completed"
    },
    "tags": []
   },
   "source": [
    "### Defining names, paths and flags"
   ]
  },
  {
   "cell_type": "code",
   "execution_count": 5,
   "id": "6f54e332",
   "metadata": {
    "ExecuteTime": {
     "end_time": "2022-09-22T21:43:54.362004Z",
     "start_time": "2022-09-22T21:43:54.346365Z"
    },
    "execution": {
     "iopub.execute_input": "2023-08-23T18:03:07.972120Z",
     "iopub.status.busy": "2023-08-23T18:03:07.971644Z",
     "iopub.status.idle": "2023-08-23T18:03:08.424119Z",
     "shell.execute_reply": "2023-08-23T18:03:08.421796Z"
    },
    "papermill": {
     "duration": 0.482888,
     "end_time": "2023-08-23T18:03:08.427848",
     "exception": false,
     "start_time": "2023-08-23T18:03:07.944960",
     "status": "completed"
    },
    "tags": []
   },
   "outputs": [],
   "source": [
    "# Experiments\n",
    "experiment_folder = os.path.abspath(os.path.join(base_dir, 'experiments', experiment_name))\n",
    "!mkdir -p {experiment_folder}\n",
    "\n",
    "# Imgs folder\n",
    "img_folder = os.path.abspath(os.path.join(experiment_folder, 'imgs'))\n",
    "!mkdir -p {img_folder}\n",
    "\n",
    "# QIIME2 Artifacts folder\n",
    "qiime_folder = os.path.join(experiment_folder, 'qiime-artifacts')\n",
    "!mkdir -p {qiime_folder}"
   ]
  },
  {
   "cell_type": "code",
   "execution_count": 6,
   "id": "5a4c1bc0",
   "metadata": {
    "ExecuteTime": {
     "end_time": "2022-09-22T21:43:54.373657Z",
     "start_time": "2022-09-22T21:43:54.363586Z"
    },
    "execution": {
     "iopub.execute_input": "2023-08-23T18:03:08.467142Z",
     "iopub.status.busy": "2023-08-23T18:03:08.466568Z",
     "iopub.status.idle": "2023-08-23T18:03:08.476010Z",
     "shell.execute_reply": "2023-08-23T18:03:08.475117Z"
    },
    "papermill": {
     "duration": 0.028198,
     "end_time": "2023-08-23T18:03:08.478167",
     "exception": false,
     "start_time": "2023-08-23T18:03:08.449969",
     "status": "completed"
    },
    "tags": []
   },
   "outputs": [],
   "source": [
    "# Input - DADA2 Artifacts\n",
    "dada2_tabs_path = os.path.join(qiime_folder, 'dada2-tabs.qza')\n",
    "dada2_reps_path = os.path.join(qiime_folder, 'dada2-reps.qza')\n",
    "dada2_stat_path = os.path.join(qiime_folder, 'dada2-stat.qza')\n",
    "\n",
    "# Output -Rarefaction Artifacts\n",
    "alpha_rarefaction_path = os.path.join(qiime_folder, 'alpha-rarefaction.qza')\n",
    "alpha_rarefaction_view_path = os.path.join(qiime_folder, 'alpha-rarefaction.qzv')\n",
    "\n",
    "# Flag - Load or create files\n",
    "need_tax = not (os.path.isfile(alpha_rarefaction_path)) or replace_files\n",
    "need_view = not (os.path.isfile(alpha_rarefaction_view_path)) or replace_files"
   ]
  },
  {
   "cell_type": "markdown",
   "id": "a02512ee",
   "metadata": {
    "papermill": {
     "duration": 0.014296,
     "end_time": "2023-08-23T18:03:08.510253",
     "exception": false,
     "start_time": "2023-08-23T18:03:08.495957",
     "status": "completed"
    },
    "tags": []
   },
   "source": [
    "## Step execution\n",
    "\n",
    "### Load input files\n",
    "\n",
    "This Step import the QIIME2 `SampleData[PairedEndSequencesWithQuality]` Artifact with all demultiplexed sequences and the `Metadata` file."
   ]
  },
  {
   "cell_type": "code",
   "execution_count": 7,
   "id": "9872b279",
   "metadata": {
    "ExecuteTime": {
     "end_time": "2022-09-22T21:43:54.398034Z",
     "start_time": "2022-09-22T21:43:54.375240Z"
    },
    "execution": {
     "iopub.execute_input": "2023-08-23T18:03:08.539738Z",
     "iopub.status.busy": "2023-08-23T18:03:08.539386Z",
     "iopub.status.idle": "2023-08-23T18:03:08.559931Z",
     "shell.execute_reply": "2023-08-23T18:03:08.559367Z"
    },
    "papermill": {
     "duration": 0.037677,
     "end_time": "2023-08-23T18:03:08.562035",
     "exception": false,
     "start_time": "2023-08-23T18:03:08.524358",
     "status": "completed"
    },
    "tags": []
   },
   "outputs": [],
   "source": [
    "#Load Metadata\n",
    "metadata_qa = Metadata.load(metadata_file)"
   ]
  },
  {
   "cell_type": "code",
   "execution_count": 8,
   "id": "d89004a1",
   "metadata": {
    "execution": {
     "iopub.execute_input": "2023-08-23T18:03:08.598243Z",
     "iopub.status.busy": "2023-08-23T18:03:08.597845Z",
     "iopub.status.idle": "2023-08-23T18:03:08.603443Z",
     "shell.execute_reply": "2023-08-23T18:03:08.602640Z"
    },
    "papermill": {
     "duration": 0.022353,
     "end_time": "2023-08-23T18:03:08.605034",
     "exception": false,
     "start_time": "2023-08-23T18:03:08.582681",
     "status": "completed"
    },
    "tags": []
   },
   "outputs": [],
   "source": [
    "alt_tab_path = os.path.join(base_dir, 'data', 'interim', 'dada2-tabs.qza')\n",
    "# Verify if table file exists and if it is shared\n",
    "if not os.path.isfile(dada2_tabs_path) and os.path.isfile(alt_tab_path):\n",
    "    # If it is shared, create a local symbolic link\n",
    "    os.symlink(alt_tab_path, dada2_tabs_path)"
   ]
  },
  {
   "cell_type": "code",
   "execution_count": 9,
   "id": "df270a51",
   "metadata": {
    "ExecuteTime": {
     "end_time": "2022-09-22T21:43:54.827295Z",
     "start_time": "2022-09-22T21:43:54.399431Z"
    },
    "execution": {
     "iopub.execute_input": "2023-08-23T18:03:08.634126Z",
     "iopub.status.busy": "2023-08-23T18:03:08.633761Z",
     "iopub.status.idle": "2023-08-23T18:03:09.156814Z",
     "shell.execute_reply": "2023-08-23T18:03:09.156067Z"
    },
    "papermill": {
     "duration": 0.54028,
     "end_time": "2023-08-23T18:03:09.159343",
     "exception": false,
     "start_time": "2023-08-23T18:03:08.619063",
     "status": "completed"
    },
    "tags": []
   },
   "outputs": [],
   "source": [
    "# Load Table artifact\n",
    "tabs = Artifact.load(dada2_tabs_path)\n",
    "# Filter samples using Metadata IDs\n",
    "tabs = filter_samples(\n",
    "    table=tabs,\n",
    "    metadata=metadata_qa,\n",
    ").filtered_table\n",
    "tabs_df = tabs.view(Metadata).to_dataframe().T"
   ]
  },
  {
   "cell_type": "code",
   "execution_count": null,
   "id": "10af5988",
   "metadata": {
    "papermill": {
     "duration": 0.013437,
     "end_time": "2023-08-23T18:03:09.194074",
     "exception": false,
     "start_time": "2023-08-23T18:03:09.180637",
     "status": "completed"
    },
    "tags": []
   },
   "outputs": [],
   "source": []
  },
  {
   "cell_type": "markdown",
   "id": "148624b3",
   "metadata": {
    "papermill": {
     "duration": 0.013421,
     "end_time": "2023-08-23T18:03:09.222173",
     "exception": false,
     "start_time": "2023-08-23T18:03:09.208752",
     "status": "completed"
    },
    "tags": []
   },
   "source": [
    "## Alpha Rarefaction"
   ]
  },
  {
   "cell_type": "code",
   "execution_count": 10,
   "id": "06d2edb3",
   "metadata": {
    "ExecuteTime": {
     "end_time": "2022-09-22T21:55:53.328300Z",
     "start_time": "2022-09-22T21:55:53.318166Z"
    },
    "execution": {
     "iopub.execute_input": "2023-08-23T18:03:09.249994Z",
     "iopub.status.busy": "2023-08-23T18:03:09.249756Z",
     "iopub.status.idle": "2023-08-23T18:03:09.254895Z",
     "shell.execute_reply": "2023-08-23T18:03:09.254374Z"
    },
    "papermill": {
     "duration": 0.020766,
     "end_time": "2023-08-23T18:03:09.256433",
     "exception": false,
     "start_time": "2023-08-23T18:03:09.235667",
     "status": "completed"
    },
    "tags": []
   },
   "outputs": [],
   "source": [
    "# Get min and maximum feature counts to set sampling depth\n",
    "rank_df = tabs_df.sum().sort_values()\n",
    "min_feature_count = int(rank_df.min())\n",
    "max_feature_count = int(rank_df.max())"
   ]
  },
  {
   "cell_type": "code",
   "execution_count": 11,
   "id": "b768619e",
   "metadata": {
    "execution": {
     "iopub.execute_input": "2023-08-23T18:03:09.285547Z",
     "iopub.status.busy": "2023-08-23T18:03:09.285323Z",
     "iopub.status.idle": "2023-08-23T18:03:09.292811Z",
     "shell.execute_reply": "2023-08-23T18:03:09.292271Z"
    },
    "papermill": {
     "duration": 0.023351,
     "end_time": "2023-08-23T18:03:09.294404",
     "exception": false,
     "start_time": "2023-08-23T18:03:09.271053",
     "status": "completed"
    },
    "tags": []
   },
   "outputs": [],
   "source": [
    "# Add new columns with samples IDs to rarefaction\n",
    "meta_df = metadata_qa.to_dataframe()\n",
    "meta_df['samples'] = meta_df.index.to_list()\n",
    "metadata_qa = Metadata(meta_df)"
   ]
  },
  {
   "cell_type": "code",
   "execution_count": 12,
   "id": "29016761",
   "metadata": {
    "ExecuteTime": {
     "end_time": "2022-09-22T21:56:13.586159Z",
     "start_time": "2022-09-22T21:55:55.117935Z"
    },
    "execution": {
     "iopub.execute_input": "2023-08-23T18:03:09.324795Z",
     "iopub.status.busy": "2023-08-23T18:03:09.324520Z",
     "iopub.status.idle": "2023-08-23T18:03:28.461168Z",
     "shell.execute_reply": "2023-08-23T18:03:28.459809Z"
    },
    "papermill": {
     "duration": 19.154632,
     "end_time": "2023-08-23T18:03:28.464760",
     "exception": false,
     "start_time": "2023-08-23T18:03:09.310128",
     "status": "completed"
    },
    "tags": []
   },
   "outputs": [],
   "source": [
    "alpha_rar = alpha_rarefaction(\n",
    "    table = tabs,\n",
    "    max_depth = max_feature_count,\n",
    "    min_depth = 1,\n",
    "    metadata = metadata_qa,\n",
    ")"
   ]
  },
  {
   "cell_type": "code",
   "execution_count": 13,
   "id": "404765db",
   "metadata": {
    "ExecuteTime": {
     "end_time": "2022-09-22T21:56:13.632468Z",
     "start_time": "2022-09-22T21:56:13.589032Z"
    },
    "execution": {
     "iopub.execute_input": "2023-08-23T18:03:28.503335Z",
     "iopub.status.busy": "2023-08-23T18:03:28.502974Z",
     "iopub.status.idle": "2023-08-23T18:03:28.550002Z",
     "shell.execute_reply": "2023-08-23T18:03:28.549324Z"
    },
    "papermill": {
     "duration": 0.06523,
     "end_time": "2023-08-23T18:03:28.552085",
     "exception": false,
     "start_time": "2023-08-23T18:03:28.486855",
     "status": "completed"
    },
    "scrolled": true,
    "tags": []
   },
   "outputs": [
    {
     "data": {
      "text/html": [
       "<div><img onload=\"(function(div, url){\n",
       "if (typeof require !== 'undefined') {\n",
       "    var baseURL = require.toUrl('').split('/').slice(0, -2).join('/');\n",
       "} else {\n",
       "    var baseURL = JSON.parse(\n",
       "        document.getElementById('jupyter-config-data').innerHTML\n",
       "    ).baseUrl.slice(0, -1);\n",
       "}\n",
       "url = baseURL + url;\n",
       "fetch(url).then(function(res) {\n",
       "    if (res.status === 404) {\n",
       "        div.innerHTML = 'Install QIIME 2 Jupyter extension with:<br />' +\n",
       "                        '<code>jupyter serverextension enable --py qiime2' +\n",
       "                        ' --sys-prefix</code><br />then restart your server.' +\n",
       "                        '<br /><br />(Interactive output not available on ' +\n",
       "                        'static notebook viewer services like nbviewer.)';\n",
       "    } else if (res.status === 409) {\n",
       "        div.innerHTML = 'Visualization no longer in scope. Re-run this cell' +\n",
       "                        ' to see the visualization.';\n",
       "    } else if (res.ok) {\n",
       "        url = res.url;\n",
       "        div.innerHTML = '<iframe src=\\'' + url + '\\' style=\\'' +\n",
       "                        'width: 100%; height: 700px; border: 0;\\'>' +\n",
       "                        '</iframe><hr />Open in a: <a href=\\'' + url + '\\'' +\n",
       "                        ' target=\\'_blank\\'>new window</a>'\n",
       "    } else {\n",
       "        div.innerHTML = 'Something has gone wrong. Check notebook server for' +\n",
       "                        ' errors.';\n",
       "    }\n",
       "});\n",
       "})(this.parentElement, '/qiime2/redirect?location=/tmp/qiime2-archive-rocnv9t6')\" src=\"data:image/gif;base64,R0lGODlhAQABAIAAAP///wAAACH5BAEAAAAALAAAAAABAAEAAAICRAEAOw==\" /></div>"
      ],
      "text/plain": [
       "<visualization: Visualization uuid: f029edcd-51f0-458f-af5a-f5a66f35b3dd>"
      ]
     },
     "execution_count": 13,
     "metadata": {},
     "output_type": "execute_result"
    }
   ],
   "source": [
    "alpha_rar.visualization.save(alpha_rarefaction_view_path)\n",
    "alpha_rar.visualization"
   ]
  },
  {
   "cell_type": "markdown",
   "id": "0eca5151",
   "metadata": {
    "papermill": {
     "duration": 0.014706,
     "end_time": "2023-08-23T18:03:28.587765",
     "exception": false,
     "start_time": "2023-08-23T18:03:28.573059",
     "status": "completed"
    },
    "tags": []
   },
   "source": [
    "## Beta Rarefaction"
   ]
  },
  {
   "cell_type": "code",
   "execution_count": 14,
   "id": "31a46319",
   "metadata": {
    "ExecuteTime": {
     "end_time": "2022-09-22T21:56:19.645438Z",
     "start_time": "2022-09-22T21:56:17.687848Z"
    },
    "execution": {
     "iopub.execute_input": "2023-08-23T18:03:28.618167Z",
     "iopub.status.busy": "2023-08-23T18:03:28.617859Z",
     "iopub.status.idle": "2023-08-23T18:03:30.408368Z",
     "shell.execute_reply": "2023-08-23T18:03:30.407663Z"
    },
    "papermill": {
     "duration": 1.807136,
     "end_time": "2023-08-23T18:03:30.409702",
     "exception": false,
     "start_time": "2023-08-23T18:03:28.602566",
     "status": "completed"
    },
    "tags": []
   },
   "outputs": [
    {
     "name": "stderr",
     "output_type": "stream",
     "text": [
      "/home/lauro/anaconda3/envs/qiime2-2022.2/lib/python3.8/site-packages/skbio/stats/ordination/_principal_coordinate_analysis.py:143: RuntimeWarning: The result contains negative eigenvalues. Please compare their magnitude with the magnitude of some of the largest positive eigenvalues. If the negative ones are smaller, it's probably safe to ignore them, but if they are large in magnitude, the results won't be useful. See the Notes section for more details. The smallest eigenvalue is -0.00164388708335781 and the largest is 1.5159325502585768.\n",
      "  warn(\n",
      "/home/lauro/anaconda3/envs/qiime2-2022.2/lib/python3.8/site-packages/skbio/stats/ordination/_principal_coordinate_analysis.py:143: RuntimeWarning: The result contains negative eigenvalues. Please compare their magnitude with the magnitude of some of the largest positive eigenvalues. If the negative ones are smaller, it's probably safe to ignore them, but if they are large in magnitude, the results won't be useful. See the Notes section for more details. The smallest eigenvalue is -0.0014117100538377483 and the largest is 1.5258097071653216.\n",
      "  warn(\n",
      "/home/lauro/anaconda3/envs/qiime2-2022.2/lib/python3.8/site-packages/skbio/stats/ordination/_principal_coordinate_analysis.py:143: RuntimeWarning: The result contains negative eigenvalues. Please compare their magnitude with the magnitude of some of the largest positive eigenvalues. If the negative ones are smaller, it's probably safe to ignore them, but if they are large in magnitude, the results won't be useful. See the Notes section for more details. The smallest eigenvalue is -0.0008157046685358176 and the largest is 1.5179033887992617.\n",
      "  warn(\n",
      "/home/lauro/anaconda3/envs/qiime2-2022.2/lib/python3.8/site-packages/skbio/stats/ordination/_principal_coordinate_analysis.py:143: RuntimeWarning: The result contains negative eigenvalues. Please compare their magnitude with the magnitude of some of the largest positive eigenvalues. If the negative ones are smaller, it's probably safe to ignore them, but if they are large in magnitude, the results won't be useful. See the Notes section for more details. The smallest eigenvalue is -0.0013019133635453733 and the largest is 1.5004629181365559.\n",
      "  warn(\n",
      "/home/lauro/anaconda3/envs/qiime2-2022.2/lib/python3.8/site-packages/skbio/stats/ordination/_principal_coordinate_analysis.py:143: RuntimeWarning: The result contains negative eigenvalues. Please compare their magnitude with the magnitude of some of the largest positive eigenvalues. If the negative ones are smaller, it's probably safe to ignore them, but if they are large in magnitude, the results won't be useful. See the Notes section for more details. The smallest eigenvalue is -4.2413504827569256e-05 and the largest is 1.5089897628336115.\n",
      "  warn(\n",
      "/home/lauro/anaconda3/envs/qiime2-2022.2/lib/python3.8/site-packages/skbio/stats/ordination/_principal_coordinate_analysis.py:143: RuntimeWarning: The result contains negative eigenvalues. Please compare their magnitude with the magnitude of some of the largest positive eigenvalues. If the negative ones are smaller, it's probably safe to ignore them, but if they are large in magnitude, the results won't be useful. See the Notes section for more details. The smallest eigenvalue is -0.0013661550397336855 and the largest is 1.5144634348321337.\n",
      "  warn(\n",
      "/home/lauro/anaconda3/envs/qiime2-2022.2/lib/python3.8/site-packages/skbio/stats/ordination/_principal_coordinate_analysis.py:143: RuntimeWarning: The result contains negative eigenvalues. Please compare their magnitude with the magnitude of some of the largest positive eigenvalues. If the negative ones are smaller, it's probably safe to ignore them, but if they are large in magnitude, the results won't be useful. See the Notes section for more details. The smallest eigenvalue is -0.00012833987050904494 and the largest is 1.51337242434161.\n",
      "  warn(\n",
      "/home/lauro/anaconda3/envs/qiime2-2022.2/lib/python3.8/site-packages/skbio/stats/ordination/_principal_coordinate_analysis.py:143: RuntimeWarning: The result contains negative eigenvalues. Please compare their magnitude with the magnitude of some of the largest positive eigenvalues. If the negative ones are smaller, it's probably safe to ignore them, but if they are large in magnitude, the results won't be useful. See the Notes section for more details. The smallest eigenvalue is -0.002628235711938242 and the largest is 1.5152365190103494.\n",
      "  warn(\n"
     ]
    },
    {
     "data": {
      "image/png": "[encoded data removed]",
      "text/plain": [
       "<Figure size 432x288 with 2 Axes>"
      ]
     },
     "metadata": {
      "needs_background": "light"
     },
     "output_type": "display_data"
    }
   ],
   "source": [
    "choices = ('matching', 'aitchison', 'euclidean', 'generalized_unifrac', 'canberra', 'russellrao', 'braycurtis', 'cosine', 'jensenshannon', 'yule', 'weighted_normalized_unifrac', 'unweighted_unifrac', 'hamming', 'weighted_unifrac', 'cityblock', 'sokalmichener', 'seuclidean', 'rogerstanimoto', 'correlation', 'minkowski', 'kulsinski', 'chebyshev', 'sqeuclidean', 'sokalsneath', 'jaccard', 'dice', 'canberra_adkins')\n",
    "clustering_methods = ('nj', 'upgma')\n",
    "correlation_methods = ('pearson', 'spearman')\n",
    "\n",
    "sampling_depth = max(min_feature_count, 1)\n",
    "metric = 'braycurtis'\n",
    "clustering_method = clustering_methods[0]\n",
    "correlation_method = correlation_methods[1]\n",
    "\n",
    "beta_rar = beta_rarefaction(\n",
    "    table = tabs,\n",
    "    sampling_depth  = sampling_depth,\n",
    "    metadata = metadata_qa,\n",
    "    metric = metric,\n",
    "    clustering_method = clustering_method,\n",
    "    correlation_method = correlation_method,\n",
    ")"
   ]
  },
  {
   "cell_type": "markdown",
   "id": "d278c9a1",
   "metadata": {
    "papermill": {
     "duration": 0.015165,
     "end_time": "2023-08-23T18:03:30.439225",
     "exception": false,
     "start_time": "2023-08-23T18:03:30.424060",
     "status": "completed"
    },
    "tags": []
   },
   "source": [
    " ## Beta diversity PCoA\n",
    " Ellipses represent 95% confidence intervals."
   ]
  },
  {
   "cell_type": "code",
   "execution_count": 15,
   "id": "7a213353",
   "metadata": {
    "ExecuteTime": {
     "end_time": "2022-09-22T21:56:22.170995Z",
     "start_time": "2022-09-22T21:56:22.048827Z"
    },
    "execution": {
     "iopub.execute_input": "2023-08-23T18:03:30.471216Z",
     "iopub.status.busy": "2023-08-23T18:03:30.470757Z",
     "iopub.status.idle": "2023-08-23T18:03:30.574941Z",
     "shell.execute_reply": "2023-08-23T18:03:30.574504Z"
    },
    "papermill": {
     "duration": 0.122416,
     "end_time": "2023-08-23T18:03:30.577104",
     "exception": false,
     "start_time": "2023-08-23T18:03:30.454688",
     "status": "completed"
    },
    "tags": []
   },
   "outputs": [
    {
     "data": {
      "text/html": [
       "<div><img onload=\"(function(div, url){\n",
       "if (typeof require !== 'undefined') {\n",
       "    var baseURL = require.toUrl('').split('/').slice(0, -2).join('/');\n",
       "} else {\n",
       "    var baseURL = JSON.parse(\n",
       "        document.getElementById('jupyter-config-data').innerHTML\n",
       "    ).baseUrl.slice(0, -1);\n",
       "}\n",
       "url = baseURL + url;\n",
       "fetch(url).then(function(res) {\n",
       "    if (res.status === 404) {\n",
       "        div.innerHTML = 'Install QIIME 2 Jupyter extension with:<br />' +\n",
       "                        '<code>jupyter serverextension enable --py qiime2' +\n",
       "                        ' --sys-prefix</code><br />then restart your server.' +\n",
       "                        '<br /><br />(Interactive output not available on ' +\n",
       "                        'static notebook viewer services like nbviewer.)';\n",
       "    } else if (res.status === 409) {\n",
       "        div.innerHTML = 'Visualization no longer in scope. Re-run this cell' +\n",
       "                        ' to see the visualization.';\n",
       "    } else if (res.ok) {\n",
       "        url = res.url;\n",
       "        div.innerHTML = '<iframe src=\\'' + url + '\\' style=\\'' +\n",
       "                        'width: 100%; height: 700px; border: 0;\\'>' +\n",
       "                        '</iframe><hr />Open in a: <a href=\\'' + url + '\\'' +\n",
       "                        ' target=\\'_blank\\'>new window</a>'\n",
       "    } else {\n",
       "        div.innerHTML = 'Something has gone wrong. Check notebook server for' +\n",
       "                        ' errors.';\n",
       "    }\n",
       "});\n",
       "})(this.parentElement, '/qiime2/redirect?location=/tmp/qiime2-archive-x5_c69qv')\" src=\"data:image/gif;base64,R0lGODlhAQABAIAAAP///wAAACH5BAEAAAAALAAAAAABAAEAAAICRAEAOw==\" /></div>"
      ],
      "text/plain": [
       "<visualization: Visualization uuid: a8d6f4e6-dafd-454f-9917-3ca6976cfa4f>"
      ]
     },
     "execution_count": 15,
     "metadata": {},
     "output_type": "execute_result"
    }
   ],
   "source": [
    "plot_tmp = f'{metric}-{clustering_method}-{correlation_method}-{sampling_depth}'\n",
    "beta_rarefaction_view_path = os.path.join(qiime_folder, f'beta-rarefaction-{plot_tmp}.qzv')\n",
    "beta_rar.visualization.save(beta_rarefaction_view_path)\n",
    "\n",
    "beta_rar.visualization"
   ]
  }
 ],
 "metadata": {
  "celltoolbar": "Edit Metadata",
  "kernelspec": {
   "display_name": "Python 3 (ipykernel)",
   "language": "python",
   "name": "python3"
  },
  "language_info": {
   "codemirror_mode": {
    "name": "ipython",
    "version": 3
   },
   "file_extension": ".py",
   "mimetype": "text/x-python",
   "name": "python",
   "nbconvert_exporter": "python",
   "pygments_lexer": "ipython3",
   "version": "3.8.12"
  },
  "papermill": {
   "default_parameters": {},
   "duration": 31.688855,
   "end_time": "2023-08-23T18:03:31.315336",
   "environment_variables": {},
   "exception": null,
   "input_path": "nb-templates/step-rarefaction-analysis.ipynb",
   "output_path": "/home/lauro/nupeb/rede-micro/redemicro-ana-flavia-nutri/experiments/ana-flavia-HSD-NCxHSD-NR-trim/nb-executed-steps/step-rarefaction-analysis-ana-flavia-HSD-NCxHSD-NR-trim.ipynb",
   "parameters": {
    "base_dir": "/home/lauro/nupeb/rede-micro/redemicro-ana-flavia-nutri",
    "class_col": "group-id",
    "classifier_file": "/home/lauro/nupeb/rede-micro/models/silva-138-99-nb-classifier.qza",
    "experiment_name": "ana-flavia-HSD-NCxHSD-NR-trim",
    "manifest_file": "/home/lauro/nupeb/rede-micro/redemicro-ana-flavia-nutri/data/raw/manifest/manifest-ana-flavia-HSD-NCxHSD-NR.csv",
    "metadata_file": "/home/lauro/nupeb/rede-micro/redemicro-ana-flavia-nutri/data/raw/metadata/metadata-ana-flavia-HSD-NCxHSD-NR.tsv",
    "overlap": 12,
    "phred": 20,
    "replace_files": false,
    "threads": 6,
    "top_n": 20,
    "trim": {
     "forward_primer": "CCTACGGGRSGCAGCAG",
     "overlap": 8,
     "reverse_primer": "GGACTACHVGGGTWTCTAAT"
    },
    "trunc_f": 0,
    "trunc_r": 0
   },
   "start_time": "2023-08-23T18:02:59.626481",
   "version": "2.3.4"
  },
  "toc-autonumbering": false,
  "toc-showcode": false,
  "toc-showmarkdowntxt": false
 },
 "nbformat": 4,
 "nbformat_minor": 5
}