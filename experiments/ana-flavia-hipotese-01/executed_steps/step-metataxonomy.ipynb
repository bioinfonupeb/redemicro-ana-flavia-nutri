{
 "cells": [
  {
   "cell_type": "markdown",
   "id": "bcb74c6b",
   "metadata": {
    "papermill": {
     "duration": 0.017198,
     "end_time": "2022-07-07T17:36:59.852469",
     "exception": false,
     "start_time": "2022-07-07T17:36:59.835271",
     "status": "completed"
    },
    "tags": []
   },
   "source": [
    "### STEP : Taxonomic assignment\n",
    "#### Taxonomic assignment with Silva 16S\n",
    "\n",
    "Using Silva 16S classifier for Qiime2. List with all [classifiers](https://docs.qiime2.org/2020.6/data-resources/). \n",
    "\n",
    "#### Versions \n",
    "- [Silva 138 99% OTUs full-length sequences](https://data.qiime2.org/2020.6/common/silva-138-99-nb-classifier.qza)\n",
    "- [Silva 138 99% OTUs from 515F/806R region of sequences](https://data.qiime2.org/2020.6/common/silva-138-99-515-806-nb-classifier.qza)\n",
    "- [Greengenes 13_8 99% OTUs full-length sequences](https://data.qiime2.org/2020.6/common/gg-13-8-99-nb-classifier.qza)\n",
    "- [Greengenes 13_8 99% OTUs from 515F/806R region of sequences](https://data.qiime2.org/2020.6/common/gg-13-8-99-515-806-nb-classifier.qza)\n",
    "\n",
    "#### Methods\n",
    "- [qiime feature-classifier](https://docs.qiime2.org/2022.2/plugins/available/feature-classifier/)\n",
    "- [qiime feature-classifier classify-sklearn](https://docs.qiime2.org/2021.8/plugins/available/feature-classifier/classify-sklearn)\n",
    "- [qiime metadata](https://docs.qiime2.org/2022.2/plugins/available/metadata/)\n",
    "- [classify-hybrid-vsearch-sklearn](https://docs.qiime2.org/2022.2/plugins/available/feature-classifier/classify-hybrid-vsearch-sklearn/)\n",
    "- [qiime metadata tabulate](https://docs.qiime2.org/2022.2/plugins/available/metadata/tabulate/)\n",
    "- [qiime taxa](https://docs.qiime2.org/2022.2/plugins/available/taxa/)\n",
    "- [qiime taxa barplot](https://docs.qiime2.org/2022.2/plugins/available/taxa/barplot/)"
   ]
  },
  {
   "cell_type": "markdown",
   "id": "f83c2cac",
   "metadata": {
    "papermill": {
     "duration": 0.039075,
     "end_time": "2022-07-07T17:36:59.902442",
     "exception": false,
     "start_time": "2022-07-07T17:36:59.863367",
     "status": "completed"
    },
    "tags": []
   },
   "source": [
    "## Setup and settings"
   ]
  },
  {
   "cell_type": "code",
   "execution_count": 1,
   "id": "5e5d6d68",
   "metadata": {
    "ExecuteTime": {
     "end_time": "2022-07-07T16:42:59.634683Z",
     "start_time": "2022-07-07T16:42:53.180558Z"
    },
    "execution": {
     "iopub.execute_input": "2022-07-07T17:36:59.924931Z",
     "iopub.status.busy": "2022-07-07T17:36:59.924661Z",
     "iopub.status.idle": "2022-07-07T17:37:06.756873Z",
     "shell.execute_reply": "2022-07-07T17:37:06.756128Z"
    },
    "papermill": {
     "duration": 6.846964,
     "end_time": "2022-07-07T17:37:06.760108",
     "exception": false,
     "start_time": "2022-07-07T17:36:59.913144",
     "status": "completed"
    },
    "tags": []
   },
   "outputs": [],
   "source": [
    "# Importing packages\n",
    "import os\n",
    "from qiime2 import Artifact\n",
    "from qiime2 import Visualization\n",
    "from qiime2 import Metadata\n",
    "import qiime2.plugins.metadata.actions as metadata_actions\n",
    "\n",
    "from qiime2.plugins import feature_classifier\n",
    "from qiime2.plugins import metadata\n",
    "from qiime2.plugins import taxa\n",
    "\n",
    "import matplotlib.pyplot as plt\n",
    "\n",
    "from utils import *\n",
    "\n",
    "%matplotlib inline"
   ]
  },
  {
   "cell_type": "code",
   "execution_count": 2,
   "id": "392e2eba",
   "metadata": {
    "ExecuteTime": {
     "end_time": "2022-06-01T18:53:42.633668Z",
     "start_time": "2022-06-01T18:53:37.822470Z"
    },
    "execution": {
     "iopub.execute_input": "2022-07-07T17:37:06.787997Z",
     "iopub.status.busy": "2022-07-07T17:37:06.787771Z",
     "iopub.status.idle": "2022-07-07T17:37:08.368586Z",
     "shell.execute_reply": "2022-07-07T17:37:08.367296Z"
    },
    "papermill": {
     "duration": 1.594543,
     "end_time": "2022-07-07T17:37:08.371818",
     "exception": false,
     "start_time": "2022-07-07T17:37:06.777275",
     "status": "completed"
    },
    "tags": []
   },
   "outputs": [
    {
     "name": "stdout",
     "output_type": "stream",
     "text": [
      "Requirement already satisfied: scikit-learn==0.23.1 in /home/lauro/anaconda3/envs/qiime2-2022.2/lib/python3.8/site-packages (0.23.1)\r\n",
      "Requirement already satisfied: threadpoolctl>=2.0.0 in /home/lauro/anaconda3/envs/qiime2-2022.2/lib/python3.8/site-packages (from scikit-learn==0.23.1) (3.1.0)\r\n",
      "Requirement already satisfied: scipy>=0.19.1 in /home/lauro/anaconda3/envs/qiime2-2022.2/lib/python3.8/site-packages (from scikit-learn==0.23.1) (1.8.0)\r\n",
      "Requirement already satisfied: numpy>=1.13.3 in /home/lauro/anaconda3/envs/qiime2-2022.2/lib/python3.8/site-packages (from scikit-learn==0.23.1) (1.22.2)\r\n",
      "Requirement already satisfied: joblib>=0.11 in /home/lauro/anaconda3/envs/qiime2-2022.2/lib/python3.8/site-packages (from scikit-learn==0.23.1) (1.1.0)\r\n"
     ]
    },
    {
     "name": "stdout",
     "output_type": "stream",
     "text": [
      "Note: you may need to restart the kernel to use updated packages.\n"
     ]
    }
   ],
   "source": [
    "%pip install --user 'scikit-learn==0.23.1'"
   ]
  },
  {
   "cell_type": "code",
   "execution_count": 3,
   "id": "3a6d07ce",
   "metadata": {
    "ExecuteTime": {
     "end_time": "2022-06-01T18:53:42.641562Z",
     "start_time": "2022-06-01T18:53:42.637484Z"
    },
    "execution": {
     "iopub.execute_input": "2022-07-07T17:37:08.398849Z",
     "iopub.status.busy": "2022-07-07T17:37:08.398470Z",
     "iopub.status.idle": "2022-07-07T17:37:08.403417Z",
     "shell.execute_reply": "2022-07-07T17:37:08.402484Z"
    },
    "papermill": {
     "duration": 0.018187,
     "end_time": "2022-07-07T17:37:08.405401",
     "exception": false,
     "start_time": "2022-07-07T17:37:08.387214",
     "status": "completed"
    },
    "tags": []
   },
   "outputs": [],
   "source": [
    "# from qiime2.plugins import demux, deblur, quality_filter, \\\n",
    "#                            metadata, feature_table, alignment, \\\n",
    "#                            phylogeny, diversity, emperor, feature_classifier, \\\n",
    "#                            taxa, composition"
   ]
  },
  {
   "cell_type": "markdown",
   "id": "86c642cd",
   "metadata": {
    "papermill": {
     "duration": 0.009632,
     "end_time": "2022-07-07T17:37:08.426818",
     "exception": false,
     "start_time": "2022-07-07T17:37:08.417186",
     "status": "completed"
    },
    "tags": []
   },
   "source": [
    "### Receiving the parameters\n",
    "\n",
    "The following cell can receive parameters using the [papermill](https://papermill.readthedocs.io/en/latest/) tool."
   ]
  },
  {
   "cell_type": "code",
   "execution_count": 4,
   "id": "7e365357",
   "metadata": {
    "ExecuteTime": {
     "end_time": "2022-07-07T16:42:59.640401Z",
     "start_time": "2022-07-07T16:42:59.636746Z"
    },
    "execution": {
     "iopub.execute_input": "2022-07-07T17:37:08.447853Z",
     "iopub.status.busy": "2022-07-07T17:37:08.447255Z",
     "iopub.status.idle": "2022-07-07T17:37:08.454490Z",
     "shell.execute_reply": "2022-07-07T17:37:08.453560Z"
    },
    "papermill": {
     "duration": 0.019761,
     "end_time": "2022-07-07T17:37:08.456292",
     "exception": false,
     "start_time": "2022-07-07T17:37:08.436531",
     "status": "completed"
    },
    "tags": [
     "parameters"
    ]
   },
   "outputs": [],
   "source": [
    "metadata_file = os.path.abspath(os.path.join(os.getcwd(), '..', 'data', 'raw', 'metadata', 'not-hist-feces-metadata.tsv'))\n",
    "base_dir = os.path.join('/', 'home', 'lauro', 'nupeb', 'redemicro')\n",
    "experiment_name = 'ana-flavia-superlactacao'\n",
    "threads = 6\n",
    "replace_files = False"
   ]
  },
  {
   "cell_type": "code",
   "execution_count": 5,
   "id": "1cf577f0",
   "metadata": {
    "execution": {
     "iopub.execute_input": "2022-07-07T17:37:08.477872Z",
     "iopub.status.busy": "2022-07-07T17:37:08.477545Z",
     "iopub.status.idle": "2022-07-07T17:37:08.483943Z",
     "shell.execute_reply": "2022-07-07T17:37:08.483051Z"
    },
    "papermill": {
     "duration": 0.018426,
     "end_time": "2022-07-07T17:37:08.485539",
     "exception": false,
     "start_time": "2022-07-07T17:37:08.467113",
     "status": "completed"
    },
    "tags": [
     "injected-parameters"
    ]
   },
   "outputs": [],
   "source": [
    "# Parameters\n",
    "experiment_name = \"ana-flavia-hipotese-01\"\n",
    "base_dir = \"/home/lauro/nupeb/redemicro\"\n",
    "manifest_file = \"/home/lauro/nupeb/redemicro/experiments/ana-flavia-superlactacao/manifest-02-ana-flavia-study-01.tsv\"\n",
    "metadata_file = \"/home/lauro/nupeb/redemicro/experiments/ana-flavia-superlactacao/metadata-ana-flavia-hipotese-01.tsv\"\n",
    "classifier_file = \"/home/lauro/nupeb/dados_brutos_rede_genoma/16S_classifiers_qiime2/silva-138-99-nb-classifier.qza\"\n",
    "replace_files = False\n",
    "phred = 20\n",
    "trunc_f = 0\n",
    "trunc_r = 0\n",
    "overlap = 12\n",
    "threads = 6\n"
   ]
  },
  {
   "cell_type": "code",
   "execution_count": 6,
   "id": "5f722f08",
   "metadata": {
    "execution": {
     "iopub.execute_input": "2022-07-07T17:37:08.508707Z",
     "iopub.status.busy": "2022-07-07T17:37:08.508387Z",
     "iopub.status.idle": "2022-07-07T17:37:08.513822Z",
     "shell.execute_reply": "2022-07-07T17:37:08.512868Z"
    },
    "papermill": {
     "duration": 0.019323,
     "end_time": "2022-07-07T17:37:08.516318",
     "exception": false,
     "start_time": "2022-07-07T17:37:08.496995",
     "status": "completed"
    },
    "tags": []
   },
   "outputs": [],
   "source": [
    "experiment_folder = os.path.abspath(os.path.join(base_dir, 'experiments', experiment_name))\n",
    "img_folder = os.path.abspath(os.path.join(experiment_folder, 'imgs'))"
   ]
  },
  {
   "cell_type": "markdown",
   "id": "411eee01",
   "metadata": {
    "papermill": {
     "duration": 0.010443,
     "end_time": "2022-07-07T17:37:08.541688",
     "exception": false,
     "start_time": "2022-07-07T17:37:08.531245",
     "status": "completed"
    },
    "tags": []
   },
   "source": [
    "### Defining names, paths and flags"
   ]
  },
  {
   "cell_type": "code",
   "execution_count": 7,
   "id": "fc3be6e3",
   "metadata": {
    "ExecuteTime": {
     "end_time": "2022-07-07T16:43:01.373756Z",
     "start_time": "2022-07-07T16:43:01.364331Z"
    },
    "execution": {
     "iopub.execute_input": "2022-07-07T17:37:08.566696Z",
     "iopub.status.busy": "2022-07-07T17:37:08.566334Z",
     "iopub.status.idle": "2022-07-07T17:37:08.576660Z",
     "shell.execute_reply": "2022-07-07T17:37:08.575776Z"
    },
    "papermill": {
     "duration": 0.02676,
     "end_time": "2022-07-07T17:37:08.578846",
     "exception": false,
     "start_time": "2022-07-07T17:37:08.552086",
     "status": "completed"
    },
    "tags": []
   },
   "outputs": [],
   "source": [
    "# QIIME2 Artifacts folder\n",
    "qiime_folder = os.path.join(experiment_folder, 'qiime-artifacts')\n",
    "\n",
    "# Input - DADA2 Artifacts\n",
    "dada2_tabs_path = os.path.join(qiime_folder, 'dada2-tabs.qza')\n",
    "dada2_reps_path = os.path.join(qiime_folder, 'dada2-reps.qza')\n",
    "dada2_stat_path = os.path.join(qiime_folder, 'dada2-stat.qza')\n",
    "\n",
    "# Input - DADA2 Artifacts\n",
    "classifier_path = os.path.abspath(os.path.join(os.getcwd(), '..', 'models', 'silva-138-99-nb-classifier.qza'))\n",
    "# 'silva-138-99-nb-classifier.qza'\n",
    "\n",
    "# Output - Metataxonomy Artifact\n",
    "metatax_path = os.path.join(qiime_folder, 'metatax.qza')\n",
    "metatax_view_path = os.path.join(qiime_folder, 'metatax.qzv')\n",
    "metatax_bar_path = os.path.join(qiime_folder, 'metatax-bar.qzv')\n",
    "\n",
    "# Flag - Load or create files\n",
    "need_tax = not (os.path.isfile(metatax_path)) or replace_files\n",
    "need_view = not (os.path.isfile(metatax_view_path) or os.path.isfile(metatax_bar_path)) or replace_files"
   ]
  },
  {
   "cell_type": "markdown",
   "id": "b3260155",
   "metadata": {
    "papermill": {
     "duration": 0.010486,
     "end_time": "2022-07-07T17:37:08.601924",
     "exception": false,
     "start_time": "2022-07-07T17:37:08.591438",
     "status": "completed"
    },
    "tags": []
   },
   "source": [
    "## Step execution\n",
    "\n",
    "### Load input files\n",
    "\n",
    "This Step import the QIIME2 `SampleData[PairedEndSequencesWithQuality]` Artifact with all demultiplexed sequences and the `Metadata` file."
   ]
  },
  {
   "cell_type": "code",
   "execution_count": 8,
   "id": "103d1fd9",
   "metadata": {
    "ExecuteTime": {
     "end_time": "2022-06-01T18:53:42.788111Z",
     "start_time": "2022-06-01T18:53:42.695110Z"
    },
    "execution": {
     "iopub.execute_input": "2022-07-07T17:37:08.624284Z",
     "iopub.status.busy": "2022-07-07T17:37:08.623961Z",
     "iopub.status.idle": "2022-07-07T17:37:08.640762Z",
     "shell.execute_reply": "2022-07-07T17:37:08.640163Z"
    },
    "papermill": {
     "duration": 0.030062,
     "end_time": "2022-07-07T17:37:08.642607",
     "exception": false,
     "start_time": "2022-07-07T17:37:08.612545",
     "status": "completed"
    },
    "tags": []
   },
   "outputs": [],
   "source": [
    "metadata_qa = Metadata.load(metadata_file)"
   ]
  },
  {
   "cell_type": "code",
   "execution_count": 9,
   "id": "9b40a80f",
   "metadata": {
    "ExecuteTime": {
     "end_time": "2022-06-01T18:53:42.920863Z",
     "start_time": "2022-06-01T18:53:42.790999Z"
    },
    "execution": {
     "iopub.execute_input": "2022-07-07T17:37:08.670681Z",
     "iopub.status.busy": "2022-07-07T17:37:08.670480Z",
     "iopub.status.idle": "2022-07-07T17:42:06.756747Z",
     "shell.execute_reply": "2022-07-07T17:42:06.755842Z"
    },
    "papermill": {
     "duration": 298.100454,
     "end_time": "2022-07-07T17:42:06.759811",
     "exception": false,
     "start_time": "2022-07-07T17:37:08.659357",
     "status": "completed"
    },
    "scrolled": true,
    "tags": []
   },
   "outputs": [],
   "source": [
    "if not need_tax:\n",
    "    \n",
    "    # Load FeatureData[Taxonomy]\n",
    "    metatax = Artifact.load(metatax_path)\n",
    "    \n",
    "else:\n",
    "    \n",
    "    # Load TaxonomicClassifier Artifact\n",
    "    classifier = Artifact.load(classifier_path)\n",
    "    \n",
    "    # Load FeatureData[Sequence] Artifact\n",
    "    reps = Artifact.load(dada2_reps_path)\n",
    "    \n",
    "    # Classify ASV features and create a new FeatureData[Taxonomy]\n",
    "    metatax_qa = feature_classifier.methods.classify_sklearn(reads=reps, classifier=classifier, n_jobs=threads)\n",
    "\n",
    "    # Save FeatureData[Taxonomy] Artifact\n",
    "    metatax_qa.classification.save(metatax_path)"
   ]
  },
  {
   "cell_type": "code",
   "execution_count": 10,
   "id": "7899c671",
   "metadata": {
    "ExecuteTime": {
     "end_time": "2022-06-01T18:58:53.489795Z",
     "start_time": "2022-06-01T18:58:53.395394Z"
    },
    "execution": {
     "iopub.execute_input": "2022-07-07T17:42:06.839983Z",
     "iopub.status.busy": "2022-07-07T17:42:06.839718Z",
     "iopub.status.idle": "2022-07-07T17:42:08.560245Z",
     "shell.execute_reply": "2022-07-07T17:42:08.559593Z"
    },
    "papermill": {
     "duration": 1.786382,
     "end_time": "2022-07-07T17:42:08.563755",
     "exception": false,
     "start_time": "2022-07-07T17:42:06.777373",
     "status": "completed"
    },
    "tags": []
   },
   "outputs": [],
   "source": [
    "if not need_view:\n",
    "    \n",
    "    # Load Metatax\n",
    "    metatax_qv = Visualization.load(metatax_view_path)\n",
    "    metatax_bar_qv = Visualization.load(metatax_bar_path)\n",
    "    \n",
    "else:\n",
    "    \n",
    "    # Metataxonomy Table Visualization\n",
    "    metatax_qv = metadata.visualizers.tabulate(metatax_qa.classification.view(Metadata))\n",
    "    metatax_qv.visualization.save(metatax_view_path)\n",
    "    \n",
    "    # Load TableData[Sequence] Artifact\n",
    "    tabs = Artifact.load(dada2_tabs_path)\n",
    "    \n",
    "    # Barplot Visualization\n",
    "    # Next, we can view the taxonomic composition of our samples with interactive bar plots. \n",
    "    # Generate those plots with the following command and then open the visualization.\n",
    "    metatax_bar_qv = taxa.visualizers.barplot(tabs, metatax_qa.classification, metadata_qa)\n",
    "    metatax_bar_qv.visualization.save(metatax_bar_path)"
   ]
  },
  {
   "cell_type": "code",
   "execution_count": 11,
   "id": "ac779a2c",
   "metadata": {
    "ExecuteTime": {
     "end_time": "2022-06-01T18:58:22.804508Z",
     "start_time": "2022-06-01T18:58:22.793768Z"
    },
    "execution": {
     "iopub.execute_input": "2022-07-07T17:42:08.592829Z",
     "iopub.status.busy": "2022-07-07T17:42:08.592517Z",
     "iopub.status.idle": "2022-07-07T17:42:08.600811Z",
     "shell.execute_reply": "2022-07-07T17:42:08.600143Z"
    },
    "papermill": {
     "duration": 0.023274,
     "end_time": "2022-07-07T17:42:08.603568",
     "exception": false,
     "start_time": "2022-07-07T17:42:08.580294",
     "status": "completed"
    },
    "tags": []
   },
   "outputs": [
    {
     "data": {
      "text/plain": [
       "Results (name = value)\n",
       "-----------------------------------------------------------------------------------------\n",
       "visualization = <visualization: Visualization uuid: 689f8624-f93d-43b8-9f15-8c22e682493f>"
      ]
     },
     "execution_count": 11,
     "metadata": {},
     "output_type": "execute_result"
    }
   ],
   "source": [
    "metatax_qv"
   ]
  },
  {
   "cell_type": "code",
   "execution_count": 12,
   "id": "4606ca5e",
   "metadata": {
    "ExecuteTime": {
     "end_time": "2022-06-01T18:58:56.294932Z",
     "start_time": "2022-06-01T18:58:56.288474Z"
    },
    "execution": {
     "iopub.execute_input": "2022-07-07T17:42:08.628423Z",
     "iopub.status.busy": "2022-07-07T17:42:08.628124Z",
     "iopub.status.idle": "2022-07-07T17:42:08.633011Z",
     "shell.execute_reply": "2022-07-07T17:42:08.632264Z"
    },
    "papermill": {
     "duration": 0.01998,
     "end_time": "2022-07-07T17:42:08.634555",
     "exception": false,
     "start_time": "2022-07-07T17:42:08.614575",
     "status": "completed"
    },
    "tags": []
   },
   "outputs": [
    {
     "data": {
      "text/plain": [
       "Results (name = value)\n",
       "-----------------------------------------------------------------------------------------\n",
       "visualization = <visualization: Visualization uuid: a91f7609-0b3c-46ac-aa98-2acbc5f8b4d9>"
      ]
     },
     "execution_count": 12,
     "metadata": {},
     "output_type": "execute_result"
    }
   ],
   "source": [
    "metatax_bar_qv"
   ]
  }
 ],
 "metadata": {
  "celltoolbar": "Edit Metadata",
  "kernelspec": {
   "display_name": "Python 3 (ipykernel)",
   "language": "python",
   "name": "python3"
  },
  "language_info": {
   "codemirror_mode": {
    "name": "ipython",
    "version": 3
   },
   "file_extension": ".py",
   "mimetype": "text/x-python",
   "name": "python",
   "nbconvert_exporter": "python",
   "pygments_lexer": "ipython3",
   "version": "3.8.12"
  },
  "papermill": {
   "default_parameters": {},
   "duration": 312.413087,
   "end_time": "2022-07-07T17:42:10.472254",
   "environment_variables": {},
   "exception": null,
   "input_path": "step-metataxonomy.ipynb",
   "output_path": "../experiments/ana-flavia-hipotese-01/executed_steps/step-metataxonomy.ipynb",
   "parameters": {
    "base_dir": "/home/lauro/nupeb/redemicro",
    "classifier_file": "/home/lauro/nupeb/dados_brutos_rede_genoma/16S_classifiers_qiime2/silva-138-99-nb-classifier.qza",
    "experiment_name": "ana-flavia-hipotese-01",
    "manifest_file": "/home/lauro/nupeb/redemicro/experiments/ana-flavia-superlactacao/manifest-02-ana-flavia-study-01.tsv",
    "metadata_file": "/home/lauro/nupeb/redemicro/experiments/ana-flavia-superlactacao/metadata-ana-flavia-hipotese-01.tsv",
    "overlap": 12,
    "phred": 20,
    "replace_files": false,
    "threads": 6,
    "trunc_f": 0,
    "trunc_r": 0
   },
   "start_time": "2022-07-07T17:36:58.059167",
   "version": "2.3.4"
  },
  "toc-autonumbering": false,
  "toc-showcode": false,
  "toc-showmarkdowntxt": false
 },
 "nbformat": 4,
 "nbformat_minor": 5
}