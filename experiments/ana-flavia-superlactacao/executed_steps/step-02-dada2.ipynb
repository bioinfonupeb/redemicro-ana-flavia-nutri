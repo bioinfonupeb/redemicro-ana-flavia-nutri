{
 "cells": [
  {
   "cell_type": "markdown",
   "id": "da052015",
   "metadata": {
    "papermill": {
     "duration": 0.020062,
     "end_time": "2022-07-07T16:34:21.772842",
     "exception": false,
     "start_time": "2022-07-07T16:34:21.752780",
     "status": "completed"
    },
    "tags": []
   },
   "source": [
    "# Quality Control and ASV table construction with DADA2"
   ]
  },
  {
   "cell_type": "markdown",
   "id": "004dbbbb",
   "metadata": {
    "papermill": {
     "duration": 0.012049,
     "end_time": "2022-07-07T16:34:21.797557",
     "exception": false,
     "start_time": "2022-07-07T16:34:21.785508",
     "status": "completed"
    },
    "tags": []
   },
   "source": [
    "## Setup and settings"
   ]
  },
  {
   "cell_type": "code",
   "execution_count": 1,
   "id": "9c106c9f",
   "metadata": {
    "ExecuteTime": {
     "end_time": "2022-06-29T18:49:49.974644Z",
     "start_time": "2022-06-29T18:49:30.876897Z"
    },
    "execution": {
     "iopub.execute_input": "2022-07-07T16:34:21.822861Z",
     "iopub.status.busy": "2022-07-07T16:34:21.822286Z",
     "iopub.status.idle": "2022-07-07T16:34:29.207313Z",
     "shell.execute_reply": "2022-07-07T16:34:29.206650Z"
    },
    "papermill": {
     "duration": 7.401248,
     "end_time": "2022-07-07T16:34:29.210576",
     "exception": false,
     "start_time": "2022-07-07T16:34:21.809328",
     "status": "completed"
    },
    "tags": []
   },
   "outputs": [],
   "source": [
    "# Importing packages\n",
    "import os\n",
    "import yaml\n",
    "from qiime2 import Artifact\n",
    "from qiime2 import Visualization\n",
    "from qiime2 import Metadata\n",
    "import qiime2.plugins.dada2.actions as dada2_actions\n",
    "import qiime2.plugins.metadata.actions as metadata_actions\n",
    "\n",
    "import matplotlib.pyplot as plt\n",
    "\n",
    "from utils import *\n",
    "\n",
    "%matplotlib inline"
   ]
  },
  {
   "cell_type": "markdown",
   "id": "829d7a3f",
   "metadata": {
    "papermill": {
     "duration": 0.011988,
     "end_time": "2022-07-07T16:34:29.240982",
     "exception": false,
     "start_time": "2022-07-07T16:34:29.228994",
     "status": "completed"
    },
    "tags": []
   },
   "source": [
    "### Receiving the parameters\n",
    "\n",
    "The following cell can receive parameters using the [papermill](https://papermill.readthedocs.io/en/latest/) tool."
   ]
  },
  {
   "cell_type": "code",
   "execution_count": 2,
   "id": "86a49ba6",
   "metadata": {
    "ExecuteTime": {
     "end_time": "2022-06-29T18:54:01.035034Z",
     "start_time": "2022-06-29T18:54:01.028724Z"
    },
    "execution": {
     "iopub.execute_input": "2022-07-07T16:34:29.341394Z",
     "iopub.status.busy": "2022-07-07T16:34:29.341062Z",
     "iopub.status.idle": "2022-07-07T16:34:29.347642Z",
     "shell.execute_reply": "2022-07-07T16:34:29.346803Z"
    },
    "papermill": {
     "duration": 0.02226,
     "end_time": "2022-07-07T16:34:29.349356",
     "exception": false,
     "start_time": "2022-07-07T16:34:29.327096",
     "status": "completed"
    },
    "tags": [
     "parameters"
    ]
   },
   "outputs": [],
   "source": [
    "experiment_name = 'ana-flavia-superlactacao'\n",
    "base_dir = os.path.join('/', 'home', 'lauro', 'nupeb', 'redemicro')\n",
    "metadata_file = os.path.join(base_dir, 'data', 'raw', 'metadata', 'sample-metadata.tsv')\n",
    "replace_files = False\n",
    "phred = 20\n",
    "trunc_f = 0\n",
    "trunc_r = 0\n",
    "overlap = 12\n",
    "threads = 6"
   ]
  },
  {
   "cell_type": "code",
   "execution_count": 3,
   "id": "c7572993",
   "metadata": {
    "execution": {
     "iopub.execute_input": "2022-07-07T16:34:29.378450Z",
     "iopub.status.busy": "2022-07-07T16:34:29.378067Z",
     "iopub.status.idle": "2022-07-07T16:34:29.384258Z",
     "shell.execute_reply": "2022-07-07T16:34:29.383389Z"
    },
    "papermill": {
     "duration": 0.021607,
     "end_time": "2022-07-07T16:34:29.386023",
     "exception": false,
     "start_time": "2022-07-07T16:34:29.364416",
     "status": "completed"
    },
    "tags": [
     "injected-parameters"
    ]
   },
   "outputs": [],
   "source": [
    "# Parameters\n",
    "experiment_name = \"ana-flavia-hipotese-01\"\n",
    "base_dir = \"/home/lauro/nupeb/redemicro\"\n",
    "manifest_file = \"/home/lauro/nupeb/redemicro/experiments/ana-flavia-superlactacao/manifest-02-ana-flavia-study-01.tsv\"\n",
    "metadata_file = \"/home/lauro/nupeb/redemicro/experiments/ana-flavia-superlactacao/metadata-ana-flavia-study-01.tsv\"\n",
    "classifier_file = \"/home/lauro/nupeb/dados_brutos_rede_genoma/16S_classifiers_qiime2/silva-138-99-nb-classifier.qza\"\n",
    "replace_files = False\n",
    "phred = 20\n",
    "trunc_f = 0\n",
    "trunc_r = 0\n",
    "overlap = 12\n",
    "threads = 6\n"
   ]
  },
  {
   "cell_type": "code",
   "execution_count": 4,
   "id": "14534433",
   "metadata": {
    "execution": {
     "iopub.execute_input": "2022-07-07T16:34:29.415035Z",
     "iopub.status.busy": "2022-07-07T16:34:29.414700Z",
     "iopub.status.idle": "2022-07-07T16:34:29.423849Z",
     "shell.execute_reply": "2022-07-07T16:34:29.422935Z"
    },
    "papermill": {
     "duration": 0.025618,
     "end_time": "2022-07-07T16:34:29.426051",
     "exception": false,
     "start_time": "2022-07-07T16:34:29.400433",
     "status": "completed"
    },
    "tags": []
   },
   "outputs": [],
   "source": [
    "# Setting hardcoded parameters for development and debbuging\n",
    "production = True\n",
    "if not production:\n",
    "    params_path = os.path.join('..', 'params', 'ana-flavia-superlactacao.yaml')\n",
    "    with open(params_path, 'r') as stream:\n",
    "        params = yaml.safe_load(stream)\n",
    "        experiment_name = params['experiment_name']\n",
    "        base_dir = params['base_dir']\n",
    "        replace_files = params['replace_files']\n",
    "        experiment_folder = os.path.abspath(os.path.join(os.getcwd(), '..', 'experiments', 'thayane-feces-01'))\n",
    "        img_folder = os.path.abspath(os.path.join(experiment_folder, 'imgs'))\n",
    "        replace_files = False\n",
    "        phred = 20\n",
    "        trunc_f = 0\n",
    "        trunc_r = 0\n",
    "        overlap = 12\n",
    "        threads = 6"
   ]
  },
  {
   "cell_type": "code",
   "execution_count": 5,
   "id": "0d4ac7eb",
   "metadata": {
    "ExecuteTime": {
     "end_time": "2022-06-29T18:51:02.089300Z",
     "start_time": "2022-06-29T18:51:02.084922Z"
    },
    "execution": {
     "iopub.execute_input": "2022-07-07T16:34:29.455318Z",
     "iopub.status.busy": "2022-07-07T16:34:29.455103Z",
     "iopub.status.idle": "2022-07-07T16:34:29.459419Z",
     "shell.execute_reply": "2022-07-07T16:34:29.458652Z"
    },
    "papermill": {
     "duration": 0.019433,
     "end_time": "2022-07-07T16:34:29.461072",
     "exception": false,
     "start_time": "2022-07-07T16:34:29.441639",
     "status": "completed"
    },
    "tags": []
   },
   "outputs": [],
   "source": [
    "experiment_folder = os.path.abspath(os.path.join(base_dir, 'experiments', experiment_name))\n",
    "img_folder = os.path.abspath(os.path.join(experiment_folder, 'imgs'))"
   ]
  },
  {
   "cell_type": "markdown",
   "id": "1a510002",
   "metadata": {
    "papermill": {
     "duration": 0.01248,
     "end_time": "2022-07-07T16:34:29.486274",
     "exception": false,
     "start_time": "2022-07-07T16:34:29.473794",
     "status": "completed"
    },
    "tags": []
   },
   "source": [
    "### Defining names and paths"
   ]
  },
  {
   "cell_type": "code",
   "execution_count": 6,
   "id": "3eff2c82",
   "metadata": {
    "ExecuteTime": {
     "end_time": "2022-05-30T19:57:39.064490Z",
     "start_time": "2022-05-30T19:57:39.007809Z"
    },
    "execution": {
     "iopub.execute_input": "2022-07-07T16:34:29.512414Z",
     "iopub.status.busy": "2022-07-07T16:34:29.512140Z",
     "iopub.status.idle": "2022-07-07T16:34:29.519070Z",
     "shell.execute_reply": "2022-07-07T16:34:29.518254Z"
    },
    "papermill": {
     "duration": 0.021655,
     "end_time": "2022-07-07T16:34:29.520717",
     "exception": false,
     "start_time": "2022-07-07T16:34:29.499062",
     "status": "completed"
    },
    "tags": []
   },
   "outputs": [],
   "source": [
    "qiime_folder = os.path.join(experiment_folder, 'qiime-artifacts')\n",
    "\n",
    "demux_file = os.path.join(qiime_folder, 'demux-paired.qza')\n",
    "\n",
    "dada2_tabs = os.path.join(qiime_folder, 'dada2-tabs.qza')\n",
    "dada2_reps = os.path.join(qiime_folder, 'dada2-reps.qza')\n",
    "dada2_stat = os.path.join(qiime_folder, 'dada2-stat.qza')\n",
    "\n",
    "dada2_tabs_view = dada2_tabs[:-1] + 'v'\n",
    "dada2_reps_view = dada2_reps[:-1] + 'v'\n",
    "dada2_stat_view = dada2_stat[:-1] + 'v'"
   ]
  },
  {
   "cell_type": "markdown",
   "id": "70f6176b",
   "metadata": {
    "papermill": {
     "duration": 0.017644,
     "end_time": "2022-07-07T16:34:29.552050",
     "exception": false,
     "start_time": "2022-07-07T16:34:29.534406",
     "status": "completed"
    },
    "tags": []
   },
   "source": [
    "## Step execution\n",
    "\n",
    "### Load input files\n",
    "\n",
    "This Step import the QIIME2 `SampleData[PairedEndSequencesWithQuality]` Artifact with all demultiplexed sequences and the `Metadata` file."
   ]
  },
  {
   "cell_type": "code",
   "execution_count": 7,
   "id": "1f64bda8",
   "metadata": {
    "ExecuteTime": {
     "end_time": "2022-05-30T19:57:39.077380Z",
     "start_time": "2022-05-30T19:57:39.066746Z"
    },
    "execution": {
     "iopub.execute_input": "2022-07-07T16:34:29.589913Z",
     "iopub.status.busy": "2022-07-07T16:34:29.589647Z",
     "iopub.status.idle": "2022-07-07T16:34:29.595070Z",
     "shell.execute_reply": "2022-07-07T16:34:29.594189Z"
    },
    "papermill": {
     "duration": 0.026758,
     "end_time": "2022-07-07T16:34:29.596912",
     "exception": false,
     "start_time": "2022-07-07T16:34:29.570154",
     "status": "completed"
    },
    "tags": []
   },
   "outputs": [],
   "source": [
    "need_dada2 = not (os.path.isfile(dada2_tabs) and os.path.isfile(dada2_reps) and os.path.isfile(dada2_stat)) or replace_files\n",
    "need_view = not (os.path.isfile(dada2_tabs_view) and os.path.isfile(dada2_reps_view) and os.path.isfile(dada2_stat_view)) or replace_files"
   ]
  },
  {
   "cell_type": "code",
   "execution_count": 8,
   "id": "dd4ef3c9",
   "metadata": {
    "ExecuteTime": {
     "end_time": "2022-05-30T19:57:39.089632Z",
     "start_time": "2022-05-30T19:57:39.079347Z"
    },
    "execution": {
     "iopub.execute_input": "2022-07-07T16:34:29.626574Z",
     "iopub.status.busy": "2022-07-07T16:34:29.626256Z",
     "iopub.status.idle": "2022-07-07T16:34:29.630759Z",
     "shell.execute_reply": "2022-07-07T16:34:29.629869Z"
    },
    "papermill": {
     "duration": 0.020774,
     "end_time": "2022-07-07T16:34:29.632603",
     "exception": false,
     "start_time": "2022-07-07T16:34:29.611829",
     "status": "completed"
    },
    "tags": []
   },
   "outputs": [],
   "source": [
    "if need_dada2:\n",
    "    demux = Artifact.load(demux_file)"
   ]
  },
  {
   "cell_type": "code",
   "execution_count": 9,
   "id": "ba7c5701",
   "metadata": {
    "ExecuteTime": {
     "end_time": "2022-05-30T19:57:39.145879Z",
     "start_time": "2022-05-30T19:57:39.091983Z"
    },
    "execution": {
     "iopub.execute_input": "2022-07-07T16:34:29.662060Z",
     "iopub.status.busy": "2022-07-07T16:34:29.661682Z",
     "iopub.status.idle": "2022-07-07T16:34:29.680155Z",
     "shell.execute_reply": "2022-07-07T16:34:29.679550Z"
    },
    "papermill": {
     "duration": 0.034863,
     "end_time": "2022-07-07T16:34:29.681989",
     "exception": false,
     "start_time": "2022-07-07T16:34:29.647126",
     "status": "completed"
    },
    "tags": []
   },
   "outputs": [],
   "source": [
    "metadata = Metadata.load(metadata_file)"
   ]
  },
  {
   "cell_type": "markdown",
   "id": "36616a3c",
   "metadata": {
    "papermill": {
     "duration": 0.01318,
     "end_time": "2022-07-07T16:34:29.711626",
     "exception": false,
     "start_time": "2022-07-07T16:34:29.698446",
     "status": "completed"
    },
    "tags": []
   },
   "source": [
    "### Execute DADA2 plugin and create Artifacts\n",
    "\n",
    "The DADA2 plugin perform tha quality control and create the ASV table. It will be produced three Artifacts:\n",
    "\n",
    "- tabs (`FeatureTable[Frequency]`) : \n",
    "    The resulting feature table.\n",
    "- reps (`FeatureData[Sequence]`) :\n",
    "    The resulting feature sequences. Each feature in the feature table will\n",
    "    be represented by exactly one sequence, and these sequences will be the\n",
    "    joined paired-end sequences.\n",
    "- denoising_stats (`SampleData[DADA2Stats]`) : the resulting stats. Shows the number and the proportion of filtered reads in each phase of the plugin execution."
   ]
  },
  {
   "cell_type": "code",
   "execution_count": 10,
   "id": "0a0f67a5",
   "metadata": {
    "ExecuteTime": {
     "end_time": "2022-05-30T19:57:39.171629Z",
     "start_time": "2022-05-30T19:57:39.147370Z"
    },
    "execution": {
     "iopub.execute_input": "2022-07-07T16:34:29.738830Z",
     "iopub.status.busy": "2022-07-07T16:34:29.738596Z",
     "iopub.status.idle": "2022-07-07T16:34:29.760534Z",
     "shell.execute_reply": "2022-07-07T16:34:29.760027Z"
    },
    "papermill": {
     "duration": 0.037663,
     "end_time": "2022-07-07T16:34:29.762497",
     "exception": false,
     "start_time": "2022-07-07T16:34:29.724834",
     "status": "completed"
    },
    "scrolled": true,
    "tags": []
   },
   "outputs": [],
   "source": [
    "# If some of the DADA2 outputs artifacts do not exist or if the old files will be replaced\n",
    "if need_dada2:\n",
    "    \n",
    "    # Excute the DADA2 plugin\n",
    "    tabs, reps, stat = dada2_actions.denoise_paired(\n",
    "        demultiplexed_seqs=demux,\n",
    "        trunc_q = phred,\n",
    "        min_overlap = overlap,\n",
    "        n_threads = threads,\n",
    "        trunc_len_f = trunc_f,\n",
    "        trunc_len_r = trunc_r,\n",
    "    )\n",
    "    \n",
    "    # Save the artifacts objects\n",
    "    tabs.save(dada2_tabs)\n",
    "    reps.save(dada2_reps)\n",
    "    stat.save(dada2_stat)\n",
    "\n",
    "else:\n",
    "    tabs = Artifact.load(dada2_tabs)\n",
    "    reps = Artifact.load(dada2_reps)\n",
    "    stat = Artifact.load(dada2_stat)"
   ]
  },
  {
   "cell_type": "markdown",
   "id": "9c836c23",
   "metadata": {
    "papermill": {
     "duration": 0.013293,
     "end_time": "2022-07-07T16:34:29.795144",
     "exception": false,
     "start_time": "2022-07-07T16:34:29.781851",
     "status": "completed"
    },
    "tags": []
   },
   "source": [
    "### Define Visualizations Artifacts"
   ]
  },
  {
   "cell_type": "code",
   "execution_count": 11,
   "id": "f567c9a2",
   "metadata": {
    "ExecuteTime": {
     "end_time": "2022-05-30T19:57:39.249051Z",
     "start_time": "2022-05-30T19:57:39.173053Z"
    },
    "execution": {
     "iopub.execute_input": "2022-07-07T16:34:29.822886Z",
     "iopub.status.busy": "2022-07-07T16:34:29.822526Z",
     "iopub.status.idle": "2022-07-07T16:34:31.385778Z",
     "shell.execute_reply": "2022-07-07T16:34:31.385051Z"
    },
    "papermill": {
     "duration": 1.580315,
     "end_time": "2022-07-07T16:34:31.388880",
     "exception": false,
     "start_time": "2022-07-07T16:34:29.808565",
     "status": "completed"
    },
    "tags": []
   },
   "outputs": [],
   "source": [
    "# If some of the DADA2 Visualization artifacts do not exist or if the old files will be replaced\n",
    "if not need_view:\n",
    "    \n",
    "    tabs_view, = metadata_actions.tabulate(input=tabs.view(Metadata))\n",
    "    reps_view, = metadata_actions.tabulate(input=reps.view(Metadata))\n",
    "    stat_view, = metadata_actions.tabulate(input=stat.view(Metadata))\n",
    "    \n",
    "    # Save the artifacts objects\n",
    "    tabs_view.save(dada2_tabs_view)\n",
    "    reps_view.save(dada2_reps_view)\n",
    "    stat_view.save(dada2_stat_view)\n",
    "\n",
    "else:\n",
    "    tabs_view = Visualization.load(dada2_tabs_view)\n",
    "    reps_view = Visualization.load(dada2_reps_view)\n",
    "    stat_view = Visualization.load(dada2_stat_view)"
   ]
  },
  {
   "cell_type": "code",
   "execution_count": 12,
   "id": "3dea0c36",
   "metadata": {
    "ExecuteTime": {
     "end_time": "2022-05-30T19:57:39.901491Z",
     "start_time": "2022-05-30T19:57:39.255220Z"
    },
    "execution": {
     "iopub.execute_input": "2022-07-07T16:34:31.425926Z",
     "iopub.status.busy": "2022-07-07T16:34:31.425622Z",
     "iopub.status.idle": "2022-07-07T16:34:32.074046Z",
     "shell.execute_reply": "2022-07-07T16:34:32.073434Z"
    },
    "papermill": {
     "duration": 0.66734,
     "end_time": "2022-07-07T16:34:32.076285",
     "exception": false,
     "start_time": "2022-07-07T16:34:31.408945",
     "status": "completed"
    },
    "tags": []
   },
   "outputs": [
    {
     "data": {
      "image/png": "[encoded data removed]",
      "text/plain": [
       "<Figure size 1080x360 with 2 Axes>"
      ]
     },
     "metadata": {
      "needs_background": "light"
     },
     "output_type": "display_data"
    }
   ],
   "source": [
    "plot_stats_box(stat, os.path.join(img_folder, 'step02-stats-boxplot.pdf'))"
   ]
  },
  {
   "cell_type": "code",
   "execution_count": 13,
   "id": "160df650",
   "metadata": {
    "ExecuteTime": {
     "end_time": "2022-05-31T17:58:47.140114Z",
     "start_time": "2022-05-31T17:58:47.087808Z"
    },
    "execution": {
     "iopub.execute_input": "2022-07-07T16:34:32.111381Z",
     "iopub.status.busy": "2022-07-07T16:34:32.111210Z",
     "iopub.status.idle": "2022-07-07T16:34:32.154932Z",
     "shell.execute_reply": "2022-07-07T16:34:32.154473Z"
    },
    "papermill": {
     "duration": 0.06058,
     "end_time": "2022-07-07T16:34:32.157113",
     "exception": false,
     "start_time": "2022-07-07T16:34:32.096533",
     "status": "completed"
    },
    "tags": []
   },
   "outputs": [
    {
     "data": {
      "text/html": [
       "<div>\n",
       "<style scoped>\n",
       "    .dataframe tbody tr th:only-of-type {\n",
       "        vertical-align: middle;\n",
       "    }\n",
       "\n",
       "    .dataframe tbody tr th {\n",
       "        vertical-align: top;\n",
       "    }\n",
       "\n",
       "    .dataframe thead th {\n",
       "        text-align: right;\n",
       "    }\n",
       "</style>\n",
       "<table border=\"1\" class=\"dataframe\">\n",
       "  <thead>\n",
       "    <tr style=\"text-align: right;\">\n",
       "      <th></th>\n",
       "      <th>percentage of input passed filter</th>\n",
       "      <th>percentage of input merged</th>\n",
       "      <th>percentage of input non-chimeric</th>\n",
       "    </tr>\n",
       "  </thead>\n",
       "  <tbody>\n",
       "    <tr>\n",
       "      <th>count</th>\n",
       "      <td>9.000000</td>\n",
       "      <td>9.000000</td>\n",
       "      <td>9.000000</td>\n",
       "    </tr>\n",
       "    <tr>\n",
       "      <th>mean</th>\n",
       "      <td>82.213333</td>\n",
       "      <td>65.753333</td>\n",
       "      <td>17.755556</td>\n",
       "    </tr>\n",
       "    <tr>\n",
       "      <th>std</th>\n",
       "      <td>0.441135</td>\n",
       "      <td>3.285080</td>\n",
       "      <td>6.290078</td>\n",
       "    </tr>\n",
       "    <tr>\n",
       "      <th>min</th>\n",
       "      <td>81.660000</td>\n",
       "      <td>61.520000</td>\n",
       "      <td>10.440000</td>\n",
       "    </tr>\n",
       "    <tr>\n",
       "      <th>25%</th>\n",
       "      <td>81.810000</td>\n",
       "      <td>63.670000</td>\n",
       "      <td>15.030000</td>\n",
       "    </tr>\n",
       "    <tr>\n",
       "      <th>50%</th>\n",
       "      <td>82.320000</td>\n",
       "      <td>65.470000</td>\n",
       "      <td>15.660000</td>\n",
       "    </tr>\n",
       "    <tr>\n",
       "      <th>75%</th>\n",
       "      <td>82.350000</td>\n",
       "      <td>68.070000</td>\n",
       "      <td>18.850000</td>\n",
       "    </tr>\n",
       "    <tr>\n",
       "      <th>max</th>\n",
       "      <td>83.060000</td>\n",
       "      <td>70.920000</td>\n",
       "      <td>28.120000</td>\n",
       "    </tr>\n",
       "  </tbody>\n",
       "</table>\n",
       "</div>"
      ],
      "text/plain": [
       "       percentage of input passed filter  percentage of input merged  \\\n",
       "count                           9.000000                    9.000000   \n",
       "mean                           82.213333                   65.753333   \n",
       "std                             0.441135                    3.285080   \n",
       "min                            81.660000                   61.520000   \n",
       "25%                            81.810000                   63.670000   \n",
       "50%                            82.320000                   65.470000   \n",
       "75%                            82.350000                   68.070000   \n",
       "max                            83.060000                   70.920000   \n",
       "\n",
       "       percentage of input non-chimeric  \n",
       "count                          9.000000  \n",
       "mean                          17.755556  \n",
       "std                            6.290078  \n",
       "min                           10.440000  \n",
       "25%                           15.030000  \n",
       "50%                           15.660000  \n",
       "75%                           18.850000  \n",
       "max                           28.120000  "
      ]
     },
     "execution_count": 13,
     "metadata": {},
     "output_type": "execute_result"
    }
   ],
   "source": [
    "percent_head = ['percentage of input passed filter', 'percentage of input merged', 'percentage of input non-chimeric']\n",
    "stat.view(Metadata).to_dataframe().describe()[percent_head]"
   ]
  },
  {
   "cell_type": "code",
   "execution_count": 14,
   "id": "3d4c5d52",
   "metadata": {
    "ExecuteTime": {
     "end_time": "2022-05-30T19:57:39.957632Z",
     "start_time": "2022-05-30T19:57:39.953762Z"
    },
    "execution": {
     "iopub.execute_input": "2022-07-07T16:34:32.192521Z",
     "iopub.status.busy": "2022-07-07T16:34:32.192276Z",
     "iopub.status.idle": "2022-07-07T16:34:32.198156Z",
     "shell.execute_reply": "2022-07-07T16:34:32.197454Z"
    },
    "papermill": {
     "duration": 0.022836,
     "end_time": "2022-07-07T16:34:32.199677",
     "exception": false,
     "start_time": "2022-07-07T16:34:32.176841",
     "status": "completed"
    },
    "tags": []
   },
   "outputs": [
    {
     "data": {
      "text/html": [
       "<div><img onload=\"(function(div, url){\n",
       "if (typeof require !== 'undefined') {\n",
       "    var baseURL = require.toUrl('').split('/').slice(0, -2).join('/');\n",
       "} else {\n",
       "    var baseURL = JSON.parse(\n",
       "        document.getElementById('jupyter-config-data').innerHTML\n",
       "    ).baseUrl.slice(0, -1);\n",
       "}\n",
       "url = baseURL + url;\n",
       "fetch(url).then(function(res) {\n",
       "    if (res.status === 404) {\n",
       "        div.innerHTML = 'Install QIIME 2 Jupyter extension with:<br />' +\n",
       "                        '<code>jupyter serverextension enable --py qiime2' +\n",
       "                        ' --sys-prefix</code><br />then restart your server.' +\n",
       "                        '<br /><br />(Interactive output not available on ' +\n",
       "                        'static notebook viewer services like nbviewer.)';\n",
       "    } else if (res.status === 409) {\n",
       "        div.innerHTML = 'Visualization no longer in scope. Re-run this cell' +\n",
       "                        ' to see the visualization.';\n",
       "    } else if (res.ok) {\n",
       "        url = res.url;\n",
       "        div.innerHTML = '<iframe src=\\'' + url + '\\' style=\\'' +\n",
       "                        'width: 100%; height: 700px; border: 0;\\'>' +\n",
       "                        '</iframe><hr />Open in a: <a href=\\'' + url + '\\'' +\n",
       "                        ' target=\\'_blank\\'>new window</a>'\n",
       "    } else {\n",
       "        div.innerHTML = 'Something has gone wrong. Check notebook server for' +\n",
       "                        ' errors.';\n",
       "    }\n",
       "});\n",
       "})(this.parentElement, '/qiime2/redirect?location=/tmp/qiime2-archive-5uj_k_m0')\" src=\"data:image/gif;base64,R0lGODlhAQABAIAAAP///wAAACH5BAEAAAAALAAAAAABAAEAAAICRAEAOw==\" /></div>"
      ],
      "text/plain": [
       "<visualization: Visualization uuid: e69d89cb-18fb-45bc-aa40-90542c1616a6>"
      ]
     },
     "execution_count": 14,
     "metadata": {},
     "output_type": "execute_result"
    }
   ],
   "source": [
    "stat_view"
   ]
  },
  {
   "cell_type": "code",
   "execution_count": 15,
   "id": "4850447a",
   "metadata": {
    "ExecuteTime": {
     "end_time": "2022-05-30T19:57:39.967918Z",
     "start_time": "2022-05-30T19:57:39.958955Z"
    },
    "execution": {
     "iopub.execute_input": "2022-07-07T16:34:32.231866Z",
     "iopub.status.busy": "2022-07-07T16:34:32.231355Z",
     "iopub.status.idle": "2022-07-07T16:34:32.235167Z",
     "shell.execute_reply": "2022-07-07T16:34:32.234364Z"
    },
    "papermill": {
     "duration": 0.021172,
     "end_time": "2022-07-07T16:34:32.236692",
     "exception": false,
     "start_time": "2022-07-07T16:34:32.215520",
     "status": "completed"
    },
    "tags": []
   },
   "outputs": [],
   "source": [
    "# new_stat = Artifact.load('/home/lauro/nupeb/redemicro/experiments/thayane-feces-01/qiime-artifacts/dada2-stat.qza')\n",
    "# # new_view, = metadata_actions.tabulate(input=new_stat.view(Metadata))\n",
    "# # plot_stats_box(old_stat)\n",
    "\n",
    "# old_stat = Artifact.load('/home/lauro/nupeb/dados_brutos_rede_genoma/experiments/fezes-phred_20-tf_0-tr_0-lap_4/fezes_dada2_stat.qza')\n",
    "# # old_view, = metadata_actions.tabulate(input=old_stat.view(Metadata))\n",
    "# # plot_stats_box(old_stat)\n",
    "\n",
    "# plot_stats_box_pairs(old_stat, new_stat)"
   ]
  }
 ],
 "metadata": {
  "celltoolbar": "Edit Metadata",
  "kernelspec": {
   "display_name": "Python 3 (ipykernel)",
   "language": "python",
   "name": "python3"
  },
  "language_info": {
   "codemirror_mode": {
    "name": "ipython",
    "version": 3
   },
   "file_extension": ".py",
   "mimetype": "text/x-python",
   "name": "python",
   "nbconvert_exporter": "python",
   "pygments_lexer": "ipython3",
   "version": "3.8.12"
  },
  "papermill": {
   "default_parameters": {},
   "duration": 13.308295,
   "end_time": "2022-07-07T16:34:33.273003",
   "environment_variables": {},
   "exception": null,
   "input_path": "step-02-dada2.ipynb",
   "output_path": "../experiments/ana-flavia-superlactacao/executed_steps/step-02-dada2.ipynb",
   "parameters": {
    "base_dir": "/home/lauro/nupeb/redemicro",
    "classifier_file": "/home/lauro/nupeb/dados_brutos_rede_genoma/16S_classifiers_qiime2/silva-138-99-nb-classifier.qza",
    "experiment_name": "ana-flavia-hipotese-01",
    "manifest_file": "/home/lauro/nupeb/redemicro/experiments/ana-flavia-superlactacao/manifest-02-ana-flavia-study-01.tsv",
    "metadata_file": "/home/lauro/nupeb/redemicro/experiments/ana-flavia-superlactacao/metadata-ana-flavia-study-01.tsv",
    "overlap": 12,
    "phred": 20,
    "replace_files": false,
    "threads": 6,
    "trunc_f": 0,
    "trunc_r": 0
   },
   "start_time": "2022-07-07T16:34:19.964708",
   "version": "2.3.4"
  },
  "toc-autonumbering": false,
  "toc-showcode": false,
  "toc-showmarkdowntxt": false
 },
 "nbformat": 4,
 "nbformat_minor": 5
}