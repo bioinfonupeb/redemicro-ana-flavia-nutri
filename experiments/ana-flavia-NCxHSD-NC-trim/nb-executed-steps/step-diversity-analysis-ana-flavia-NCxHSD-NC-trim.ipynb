{
 "cells": [
  {
   "cell_type": "markdown",
   "id": "15bcfa06",
   "metadata": {
    "papermill": {
     "duration": 0.003642,
     "end_time": "2024-03-05T23:45:18.265405",
     "exception": false,
     "start_time": "2024-03-05T23:45:18.261763",
     "status": "completed"
    },
    "tags": []
   },
   "source": [
    " \n",
    "# Alpha and Beta Diversity\n",
    "\n",
    "Different higher-level measures are often used to describe the microbiome in a sample. These do not provide information on changes in the abundance of specific taxa but allow us to access a broader change or difference in the composition of microorganisms. Alpha and beta diversity are examples of such measures.\n",
    "\n",
    "Different measures exist to estimate diversity within a single sample, jointly called alpha diversity. The different measures reflect the richness (number) or distribution (evenness) of a microbial sample or aim to reflect a combination of both properties.\n",
    "\n",
    "Rarefaction curves are often used when calculating alpha diversity indices because increasing numbers of sequenced taxa allow increasingly accurate estimates of total population diversity. Rarefaction curves can therefore be used to estimate the full sample richness, as compared to the observed sample richness.\n",
    "\n",
    "While alpha diversity is a measure of microbiome diversity applicable to a single sample, beta diversity is a measure of the similarity or dissimilarity of two communities. As for alpha diversity, many indices exist, each reflecting different aspects of community heterogeneity. Key differences relate to how the indices value variation in rare species if they consider presence/absence only or incorporate abundance, and how they interpret shared absence. Bray-Curtis dissimilarity is a popular measure that considers both size (overall abundance per sample) and shape (abundance of each taxon) of the communities (Bray, 1957). Beta diversity is an essential measure for many popular statistical methods in ecology, such as ordination-based methods, and is widely used for studying the association between environmental variables and microbial composition.\n",
    "\n",
    "In summary, alpha diversity measures can be seen as a summary statistic of a single population (within-sample diversity), while beta diversity measures are estimates of similarity or dissimilarity between populations (between samples).\n",
    "\n",
    "**Source**: (https://biomcare.com/info/key-terms-in-microbiome-projects/)"
   ]
  },
  {
   "cell_type": "markdown",
   "id": "0e7f2330",
   "metadata": {
    "ExecuteTime": {
     "end_time": "2022-09-22T19:36:33.828188Z",
     "start_time": "2022-09-22T19:36:33.817323Z"
    },
    "papermill": {
     "duration": 0.00295,
     "end_time": "2024-03-05T23:45:18.271545",
     "exception": false,
     "start_time": "2024-03-05T23:45:18.268595",
     "status": "completed"
    },
    "tags": []
   },
   "source": [
    "### STEP : Diversity Analysis\n",
    "\n",
    "Using QIIME2 to create diversity analisys graphs and calculations.\n",
    "\n",
    "- [QIIME2 Workflow Overview](https://docs.qiime2.org/2022.8/tutorials/overview/)\n",
    "\n",
    "\n",
    "#### Methods\n",
    "- [diversity](https://docs.qiime2.org/2022.8/plugins/available/diversity/)\n",
    "- [diversity alpha](https://docs.qiime2.org/2022.8/plugins/available/diversity/alpha/)\n",
    "- [diversity alpha_phylogenetic](https://docs.qiime2.org/2022.8/plugins/available/diversity/alpha-phylogenetic/)\n",
    "- [diversity beta](https://docs.qiime2.org/2022.8/plugins/available/diversity/beta/)\n",
    "- [diversity core_metrics](https://docs.qiime2.org/2022.8/plugins/available/diversity/core-metrics/)\n",
    "- [diversity alpha_group_significance](https://docs.qiime2.org/2022.8/plugins/available/diversity/alpha-group-significance/)\n",
    "- [diversity beta_group_significance](https://docs.qiime2.org/2022.8/plugins/available/diversity/beta-group-significance/)\n",
    "- [feature_table core_features](https://docs.qiime2.org/2022.8/plugins/available/feature-table/core-features/)\n",
    "- [feature_table summarize](https://docs.qiime2.org/2022.8/plugins/available/feature-table/summarize/)\n",
    "- [taxa filter-table](https://docs.qiime2.org/2022.8/plugins/available/taxa/filter-table/)\n",
    "- [taxa collapse](https://docs.qiime2.org/2022.8/plugins/available/taxa/collapse/)"
   ]
  },
  {
   "cell_type": "markdown",
   "id": "843debbf",
   "metadata": {
    "papermill": {
     "duration": 0.002926,
     "end_time": "2024-03-05T23:45:18.277406",
     "exception": false,
     "start_time": "2024-03-05T23:45:18.274480",
     "status": "completed"
    },
    "tags": []
   },
   "source": [
    "## Setup and settings"
   ]
  },
  {
   "cell_type": "code",
   "execution_count": 1,
   "id": "965e28e5",
   "metadata": {
    "ExecuteTime": {
     "end_time": "2022-11-03T20:35:26.198671Z",
     "start_time": "2022-11-03T20:35:06.473173Z"
    },
    "execution": {
     "iopub.execute_input": "2024-03-05T23:45:18.284158Z",
     "iopub.status.busy": "2024-03-05T23:45:18.283957Z",
     "iopub.status.idle": "2024-03-05T23:45:23.102632Z",
     "shell.execute_reply": "2024-03-05T23:45:23.102043Z"
    },
    "papermill": {
     "duration": 4.823676,
     "end_time": "2024-03-05T23:45:23.103938",
     "exception": false,
     "start_time": "2024-03-05T23:45:18.280262",
     "status": "completed"
    },
    "tags": []
   },
   "outputs": [],
   "source": [
    "# Importing packages\n",
    "import os\n",
    "import pandas as pd\n",
    "from qiime2 import Artifact\n",
    "from qiime2 import Visualization\n",
    "from qiime2 import Metadata\n",
    "\n",
    "from qiime2.plugins.phylogeny.pipelines import align_to_tree_mafft_fasttree\n",
    "\n",
    "from qiime2.plugins.diversity.pipelines import alpha\n",
    "from qiime2.plugins.diversity.pipelines import beta\n",
    "from qiime2.plugins.diversity.pipelines import core_metrics\n",
    "from qiime2.plugins.diversity.pipelines import alpha_phylogenetic\n",
    "\n",
    "from qiime2.plugins.diversity.visualizers import alpha_group_significance\n",
    "from qiime2.plugins.diversity.visualizers import beta_group_significance\n",
    "from qiime2.plugins.diversity.visualizers import alpha_correlation\n",
    "from qiime2.plugins.diversity.visualizers import beta_rarefaction\n",
    "\n",
    "from qiime2.plugins.taxa.methods import filter_table\n",
    "from qiime2.plugins.taxa.methods import collapse\n",
    "\n",
    "from qiime2.plugins.feature_table.visualizers import tabulate_seqs\n",
    "from qiime2.plugins.feature_table.visualizers import summarize\n",
    "from qiime2.plugins.feature_table.visualizers import core_features\n",
    "from qiime2.plugins.diversity.pipelines import core_metrics_phylogenetic\n",
    "\n",
    "from qiime2.plugins.feature_table.methods import filter_samples\n",
    "from qiime2.plugins.feature_table.methods import filter_seqs\n",
    "\n",
    "from qiime2.plugins.alignment.methods import mafft\n",
    "\n",
    "\n",
    "import matplotlib.pyplot as plt\n",
    "\n",
    "%matplotlib inline"
   ]
  },
  {
   "cell_type": "markdown",
   "id": "530ceb60",
   "metadata": {
    "papermill": {
     "duration": 0.005506,
     "end_time": "2024-03-05T23:45:23.112671",
     "exception": false,
     "start_time": "2024-03-05T23:45:23.107165",
     "status": "completed"
    },
    "tags": []
   },
   "source": [
    "### Receiving the parameters\n",
    "\n",
    "The following cell can receive parameters using the [papermill](https://papermill.readthedocs.io/en/latest/) tool."
   ]
  },
  {
   "cell_type": "code",
   "execution_count": 2,
   "id": "18d874ea",
   "metadata": {
    "ExecuteTime": {
     "end_time": "2022-09-29T20:54:14.793270Z",
     "start_time": "2022-09-29T20:54:14.789367Z"
    },
    "execution": {
     "iopub.execute_input": "2024-03-05T23:45:23.119431Z",
     "iopub.status.busy": "2024-03-05T23:45:23.119127Z",
     "iopub.status.idle": "2024-03-05T23:45:23.122267Z",
     "shell.execute_reply": "2024-03-05T23:45:23.121814Z"
    },
    "papermill": {
     "duration": 0.007564,
     "end_time": "2024-03-05T23:45:23.123148",
     "exception": false,
     "start_time": "2024-03-05T23:45:23.115584",
     "status": "completed"
    },
    "tags": [
     "parameters"
    ]
   },
   "outputs": [],
   "source": [
    "base_dir = os.path.join('/', 'home')\n",
    "metadata_file = os.path.abspath(os.path.join(base_dir, 'data', 'metadatada.tsv'))\n",
    "experiment_name = ''\n",
    "class_col = ''\n",
    "replace_files = False"
   ]
  },
  {
   "cell_type": "code",
   "execution_count": 3,
   "id": "589836cd",
   "metadata": {
    "execution": {
     "iopub.execute_input": "2024-03-05T23:45:23.129650Z",
     "iopub.status.busy": "2024-03-05T23:45:23.129502Z",
     "iopub.status.idle": "2024-03-05T23:45:23.132470Z",
     "shell.execute_reply": "2024-03-05T23:45:23.132065Z"
    },
    "papermill": {
     "duration": 0.007315,
     "end_time": "2024-03-05T23:45:23.133390",
     "exception": false,
     "start_time": "2024-03-05T23:45:23.126075",
     "status": "completed"
    },
    "tags": [
     "injected-parameters"
    ]
   },
   "outputs": [],
   "source": [
    "# Parameters\n",
    "base_dir = \"/mnt/nupeb/rede-micro/redemicro-ana-flavia-nutri\"\n",
    "class_col = \"group-id\"\n",
    "classifier_file = \"/mnt/nupeb/rede-micro/datasets/16S_classifiers_qiime2/silva-138-99-nb-classifier.qza\"\n",
    "experiment_name = \"ana-flavia-NCxHSD-NC-trim\"\n",
    "manifest_file = \"/mnt/nupeb/rede-micro/redemicro-ana-flavia-nutri/data/raw/manifest/manifest-ana-flavia-NCxHSD-NC.csv\"\n",
    "metadata_file = \"/mnt/nupeb/rede-micro/redemicro-ana-flavia-nutri/data/raw/metadata/metadata-ana-flavia-NCxHSD-NC.tsv\"\n",
    "overlap = 12\n",
    "phred = 20\n",
    "replace_files = False\n",
    "threads = 6\n",
    "top_n = 20\n",
    "trim = {\n",
    "    \"forward_primer\": \"CCTACGGGRSGCAGCAG\",\n",
    "    \"overlap\": 8,\n",
    "    \"reverse_primer\": \"GGACTACHVGGGTWTCTAAT\",\n",
    "}\n",
    "trunc_f = 0\n",
    "trunc_r = 0\n"
   ]
  },
  {
   "cell_type": "code",
   "execution_count": 4,
   "id": "f38617d9",
   "metadata": {
    "ExecuteTime": {
     "end_time": "2022-09-29T20:54:14.804575Z",
     "start_time": "2022-09-29T20:54:14.794927Z"
    },
    "execution": {
     "iopub.execute_input": "2024-03-05T23:45:23.139927Z",
     "iopub.status.busy": "2024-03-05T23:45:23.139765Z",
     "iopub.status.idle": "2024-03-05T23:45:23.142333Z",
     "shell.execute_reply": "2024-03-05T23:45:23.141887Z"
    },
    "papermill": {
     "duration": 0.006877,
     "end_time": "2024-03-05T23:45:23.143224",
     "exception": false,
     "start_time": "2024-03-05T23:45:23.136347",
     "status": "completed"
    },
    "tags": []
   },
   "outputs": [],
   "source": [
    "experiment_folder = os.path.abspath(os.path.join(base_dir, 'experiments', experiment_name))\n",
    "img_folder = os.path.abspath(os.path.join(experiment_folder, 'imgs'))"
   ]
  },
  {
   "cell_type": "markdown",
   "id": "ea9b90fb",
   "metadata": {
    "papermill": {
     "duration": 0.00292,
     "end_time": "2024-03-05T23:45:23.149101",
     "exception": false,
     "start_time": "2024-03-05T23:45:23.146181",
     "status": "completed"
    },
    "tags": []
   },
   "source": [
    "### Defining names, paths and flags"
   ]
  },
  {
   "cell_type": "code",
   "execution_count": 5,
   "id": "45727eef",
   "metadata": {
    "ExecuteTime": {
     "end_time": "2022-09-29T20:54:14.816686Z",
     "start_time": "2022-09-29T20:54:14.806238Z"
    },
    "execution": {
     "iopub.execute_input": "2024-03-05T23:45:23.155884Z",
     "iopub.status.busy": "2024-03-05T23:45:23.155759Z",
     "iopub.status.idle": "2024-03-05T23:45:23.160070Z",
     "shell.execute_reply": "2024-03-05T23:45:23.159765Z"
    },
    "papermill": {
     "duration": 0.008564,
     "end_time": "2024-03-05T23:45:23.160956",
     "exception": false,
     "start_time": "2024-03-05T23:45:23.152392",
     "status": "completed"
    },
    "tags": []
   },
   "outputs": [
    {
     "name": "stdout",
     "output_type": "stream",
     "text": [
      "The new directory is created in /mnt/nupeb/rede-micro/redemicro-ana-flavia-nutri/experiments/ana-flavia-NCxHSD-NC-trim/qiime-artifacts/alpha-analysis\n",
      "The new directory is created in /mnt/nupeb/rede-micro/redemicro-ana-flavia-nutri/experiments/ana-flavia-NCxHSD-NC-trim/qiime-artifacts/beta-analysis\n"
     ]
    }
   ],
   "source": [
    "# QIIME2 Artifacts folder\n",
    "qiime_folder = os.path.join(experiment_folder, 'qiime-artifacts')\n",
    "\n",
    "# Input - DADA2 Artifacts\n",
    "dada2_tabs_path = os.path.join(qiime_folder, 'dada2-tabs.qza')\n",
    "dada2_reps_path = os.path.join(qiime_folder, 'dada2-reps.qza')\n",
    "dada2_stat_path = os.path.join(qiime_folder, 'dada2-stat.qza')\n",
    "\n",
    "# Input - Taxonaomic Artifacts\n",
    "taxonomy_path = os.path.join(qiime_folder, 'metatax.qza')\n",
    "\n",
    "# Create folder to store Alpha files\n",
    "alpha_path = os.path.join(qiime_folder, 'alpha-analysis')\n",
    "if not os.path.exists(alpha_path):\n",
    "    os.makedirs(alpha_path)\n",
    "    print(f'The new directory is created in {alpha_path}')\n",
    "    \n",
    "# Create folder to store Beta files\n",
    "beta_path = os.path.join(qiime_folder, 'beta-analysis')\n",
    "if not os.path.exists(beta_path):\n",
    "    os.makedirs(beta_path)\n",
    "    print(f'The new directory is created in {beta_path}')\n",
    "\n",
    "# Output -Diversity Artifacts\n",
    "alpha_diversity_path = os.path.join(alpha_path, 'alpha-diversity.qza')\n",
    "alpha_diversity_view_path = os.path.join(alpha_path, 'alpha-diversity.qzv')\n",
    "beta_diversity_path = os.path.join(beta_path, 'beta-diversity.qza')\n",
    "beta_diversity_view_path = os.path.join(beta_path, 'beta-diversity.qzv')"
   ]
  },
  {
   "cell_type": "code",
   "execution_count": 6,
   "id": "601ae263",
   "metadata": {
    "ExecuteTime": {
     "end_time": "2022-09-29T20:54:14.829117Z",
     "start_time": "2022-09-29T20:54:14.818272Z"
    },
    "execution": {
     "iopub.execute_input": "2024-03-05T23:45:23.167665Z",
     "iopub.status.busy": "2024-03-05T23:45:23.167486Z",
     "iopub.status.idle": "2024-03-05T23:45:23.171046Z",
     "shell.execute_reply": "2024-03-05T23:45:23.170628Z"
    },
    "papermill": {
     "duration": 0.007928,
     "end_time": "2024-03-05T23:45:23.171934",
     "exception": false,
     "start_time": "2024-03-05T23:45:23.164006",
     "status": "completed"
    },
    "tags": []
   },
   "outputs": [],
   "source": [
    "def filter_and_collapse(tab, seqs, tax, meta, lvl, exclude=True, exclude_list='uncultured,unidentified,metagenome'):\n",
    "    from qiime2.plugins.taxa.methods import collapse\n",
    "    from qiime2.plugins.taxa.methods import filter_table\n",
    "    from qiime2.plugins.feature_table.methods import filter_seqs\n",
    "    from qiime2.plugins.feature_table.visualizers import summarize\n",
    "    \n",
    "    to_include = ('d', 'p', 'c', 'o', 'f', 'g', 's')[lvl-1]\n",
    "    to_include += '__'\n",
    "    to_exclude = exclude_list if exclude else None\n",
    "    \n",
    "    filtered_tabs = filter_table(\n",
    "        table=tab, \n",
    "        taxonomy=tax,\n",
    "        include=to_include,\n",
    "        exclude=to_exclude,\n",
    "        mode='contains').filtered_table\n",
    "    \n",
    "    filtered_seqs = filter_seqs(\n",
    "        data = seqs,\n",
    "        table = filtered_tabs,\n",
    "    ).filtered_data\n",
    "    \n",
    "    collapsed_table = collapse(table=filtered_tabs, taxonomy=tax, level=lvl).collapsed_table\n",
    "    collapsed_table_view = summarize(table=collapsed_table, sample_metadata=meta).visualization\n",
    "    \n",
    "    return collapsed_table, collapsed_table_view, filtered_seqs"
   ]
  },
  {
   "cell_type": "markdown",
   "id": "0999a1b2",
   "metadata": {
    "papermill": {
     "duration": 0.003047,
     "end_time": "2024-03-05T23:45:23.178004",
     "exception": false,
     "start_time": "2024-03-05T23:45:23.174957",
     "status": "completed"
    },
    "tags": []
   },
   "source": [
    "## Step execution\n",
    "\n",
    "### Load input files\n",
    "\n",
    "This Step import the QIIME2 `FeatureTable[Frequency]` Artifact and the `Metadata` file."
   ]
  },
  {
   "cell_type": "code",
   "execution_count": 7,
   "id": "8f299d1a",
   "metadata": {
    "ExecuteTime": {
     "end_time": "2022-09-29T20:54:15.559837Z",
     "start_time": "2022-09-29T20:54:14.830405Z"
    },
    "execution": {
     "iopub.execute_input": "2024-03-05T23:45:23.184635Z",
     "iopub.status.busy": "2024-03-05T23:45:23.184510Z",
     "iopub.status.idle": "2024-03-05T23:45:23.652215Z",
     "shell.execute_reply": "2024-03-05T23:45:23.651780Z"
    },
    "papermill": {
     "duration": 0.472399,
     "end_time": "2024-03-05T23:45:23.653469",
     "exception": false,
     "start_time": "2024-03-05T23:45:23.181070",
     "status": "completed"
    },
    "tags": []
   },
   "outputs": [],
   "source": [
    "#Load Metadata\n",
    "metadata_qa = Metadata.load(metadata_file)\n",
    "\n",
    "#Load FeatureTable[Frequency]\n",
    "tabs = Artifact.load(dada2_tabs_path)\n",
    "tabs_df = tabs.view(Metadata).to_dataframe().T\n",
    "\n",
    "# FeatureData[Sequence]\n",
    "reps = Artifact.load(dada2_reps_path)\n",
    "\n",
    "# FeatureData[Taxonomy]\n",
    "tax = Artifact.load(taxonomy_path)"
   ]
  },
  {
   "cell_type": "code",
   "execution_count": 8,
   "id": "c8dfe530",
   "metadata": {
    "ExecuteTime": {
     "end_time": "2022-09-29T20:54:15.564968Z",
     "start_time": "2022-09-29T20:54:15.561875Z"
    },
    "execution": {
     "iopub.execute_input": "2024-03-05T23:45:23.660753Z",
     "iopub.status.busy": "2024-03-05T23:45:23.660570Z",
     "iopub.status.idle": "2024-03-05T23:45:23.974213Z",
     "shell.execute_reply": "2024-03-05T23:45:23.973740Z"
    },
    "papermill": {
     "duration": 0.31834,
     "end_time": "2024-03-05T23:45:23.975169",
     "exception": false,
     "start_time": "2024-03-05T23:45:23.656829",
     "status": "completed"
    },
    "tags": []
   },
   "outputs": [
    {
     "name": "stderr",
     "output_type": "stream",
     "text": [
      "/home/lauro/anaconda3/envs/qiime2-2023.5/lib/python3.8/site-packages/q2_types/feature_data/_transformer.py:258: FutureWarning: iteritems is deprecated and will be removed in a future version. Use .items instead.\n",
      "  for id_, seq in data.iteritems():\n"
     ]
    }
   ],
   "source": [
    "# Filter FeatureTable[Frequency | RelativeFrequency | PresenceAbsence | Composition] based on Metadata sample ID values\n",
    "tabs = filter_samples(\n",
    "    table=tabs,\n",
    "    metadata=metadata_qa,\n",
    ").filtered_table\n",
    "# Filter SampleData[SequencesWithQuality | PairedEndSequencesWithQuality | JoinedSequencesWithQuality] based on Metadata sample ID values; returns FeatureData[Sequence | AlignedSequence]\n",
    "reps = filter_seqs(\n",
    "    data=reps,\n",
    "    table=tabs,\n",
    ").filtered_data"
   ]
  },
  {
   "cell_type": "markdown",
   "id": "9f43843a",
   "metadata": {
    "ExecuteTime": {
     "end_time": "2022-09-22T22:48:07.523952Z",
     "start_time": "2022-09-22T22:48:07.517565Z"
    },
    "papermill": {
     "duration": 0.003138,
     "end_time": "2024-03-05T23:45:23.981784",
     "exception": false,
     "start_time": "2024-03-05T23:45:23.978646",
     "status": "completed"
    },
    "tags": []
   },
   "source": [
    "## Alpha diversity analysis\n",
    "\n",
    "#### Reference\n",
    "- [The Use and Types of Alpha-Diversity Metrics in Microbial NGS](https://www.cd-genomics.com/microbioseq/the-use-and-types-of-alpha-diversity-metrics-in-microbial-ngs.html)\n",
    "- [Alpha diversity metrics](http://scikit-bio.org/docs/0.2.0/generated/skbio.diversity.alpha.html)\n",
    "\n",
    "#### Methods\n",
    "- [diversity alpha](https://docs.qiime2.org/2022.8/plugins/available/diversity/alpha/): Computes a user-specified alpha diversity metric for all samples in a\n",
    "feature table.\n",
    "- [diversity alpha_phylogenetic](https://docs.qiime2.org/2022.8/plugins/available/diversity/alpha-phylogenetic/): Computes a user-specified phylogenetic alpha diversity metric for all\n",
    "samples in a feature table.\n",
    "- [diversity alpha_correlation](https://docs.qiime2.org/2022.8/plugins/available/diversity/alpha-correlation/): Determine whether numeric sample metadata columns are correlated with alpha diversity.\n",
    "- [diversity alpha_group_significance](https://docs.qiime2.org/2022.8/plugins/available/diversity/alpha-group-significance/): Visually and statistically compare groups of alpha diversity values."
   ]
  },
  {
   "cell_type": "markdown",
   "id": "606b9c75",
   "metadata": {
    "papermill": {
     "duration": 0.003153,
     "end_time": "2024-03-05T23:45:23.988135",
     "exception": false,
     "start_time": "2024-03-05T23:45:23.984982",
     "status": "completed"
    },
    "tags": []
   },
   "source": [
    "### Compute Alpha Diversity vectors\n",
    "- [diversity alpha](https://docs.qiime2.org/2022.8/plugins/available/diversity/alpha/): Computes a user-specified alpha diversity metric for all samples in a feature table.\n",
    "- [Alpha diversity metrics](http://scikit-bio.org/docs/0.2.0/generated/skbio.diversity.alpha.html)\n",
    " - Choices: ('ace', 'berger_parker_d', 'brillouin_d', 'chao1', 'chao1_ci', 'dominance', 'doubles', 'enspie', 'esty_ci', 'fisher_alpha', 'gini_index', 'goods_coverage', 'heip_e', 'kempton_taylor_q', 'lladser_pe', 'margalef', 'mcintosh_d', 'mcintosh_e', 'menhinick', 'michaelis_menten_fit', 'observed_features', 'osd', 'pielou_e', 'robbins', 'shannon', 'simpson', 'simpson_e', 'singles', 'strong')"
   ]
  },
  {
   "cell_type": "code",
   "execution_count": 9,
   "id": "556e5264",
   "metadata": {
    "ExecuteTime": {
     "end_time": "2022-09-29T20:54:20.790166Z",
     "start_time": "2022-09-29T20:54:20.451134Z"
    },
    "execution": {
     "iopub.execute_input": "2024-03-05T23:45:23.995741Z",
     "iopub.status.busy": "2024-03-05T23:45:23.995573Z",
     "iopub.status.idle": "2024-03-05T23:45:24.384613Z",
     "shell.execute_reply": "2024-03-05T23:45:24.384117Z"
    },
    "papermill": {
     "duration": 0.394417,
     "end_time": "2024-03-05T23:45:24.385659",
     "exception": false,
     "start_time": "2024-03-05T23:45:23.991242",
     "status": "completed"
    },
    "tags": []
   },
   "outputs": [
    {
     "name": "stdout",
     "output_type": "stream",
     "text": [
      "Calculating alpha diversity: chao1\n",
      "DONE: Calculating alpha diversity: chao1\n",
      "Calculating alpha diversity: chao1_ci\n",
      "DONE: Calculating alpha diversity: chao1_ci\n",
      "Calculating alpha diversity: observed_features\n",
      "DONE: Calculating alpha diversity: observed_features\n",
      "Calculating alpha diversity: shannon\n"
     ]
    },
    {
     "name": "stdout",
     "output_type": "stream",
     "text": [
      "DONE: Calculating alpha diversity: shannon\n",
      "Calculating alpha diversity: simpson\n",
      "DONE: Calculating alpha diversity: simpson\n",
      "Calculating alpha diversity: simpson_e\n",
      "DONE: Calculating alpha diversity: simpson_e\n"
     ]
    }
   ],
   "source": [
    "metrics = ('ace', 'berger_parker_d', 'brillouin_d', 'chao1', 'chao1_ci', 'dominance', 'doubles', 'enspie', 'esty_ci', 'fisher_alpha', 'gini_index', 'goods_coverage', 'heip_e', 'kempton_taylor_q', 'lladser_pe', 'margalef', 'mcintosh_d', 'mcintosh_e', 'menhinick', 'michaelis_menten_fit', 'observed_features', 'osd', 'pielou_e', 'robbins', 'shannon', 'simpson', 'simpson_e', 'singles', 'strong')\n",
    "\n",
    "# Sugestão de valores para Alpha diversity\n",
    "# chao1 e observed_features (riqueza); shannon e simpson (diversidade - que levam em consideração riqueza e equitabilidade).\n",
    "metrics = ('chao1', 'chao1_ci', 'observed_features', 'shannon', 'simpson', 'simpson_e')\n",
    "alpha_diversities = dict()\n",
    "for metric in metrics:\n",
    "    print(f\"Calculating alpha diversity: {metric}\")\n",
    "    try:\n",
    "        alpha_diversity = alpha(table=tabs, metric=metric).alpha_diversity\n",
    "        alpha_diversities[metric] = alpha_diversity\n",
    "        # Save SampleData[AlphaDiversity] Artifact\n",
    "        file_path = os.path.join(alpha_path, f'alpha-values-{metric}.qza')\n",
    "        alpha_diversity.save(file_path)\n",
    "        print(f\"DONE: Calculating alpha diversity: {metric}\")\n",
    "    except Exception as e:\n",
    "        print(f\"ERROR: Calculating alpha diversity: {metric}\")\n",
    "        print(e)"
   ]
  },
  {
   "cell_type": "markdown",
   "id": "184bcb7b",
   "metadata": {
    "papermill": {
     "duration": 0.003257,
     "end_time": "2024-03-05T23:45:24.392425",
     "exception": false,
     "start_time": "2024-03-05T23:45:24.389168",
     "status": "completed"
    },
    "tags": []
   },
   "source": [
    "### Create Phylogenetic inference\n",
    "\n",
    "- [alignment align_to_tree_mafft_fasttree](https://docs.qiime2.org/2022.8/plugins/available/phylogeny/align-to-tree-mafft-fasttree/): Build a phylogenetic tree using fasttree and mafft alignment\n",
    "\n",
    "This pipeline will start by creating a sequence alignment using MAFFT,\n",
    "after which any alignment columns that are phylogenetically uninformative\n",
    "or ambiguously aligned will be removed (masked). The resulting masked\n",
    "alignment will be used to infer a phylogenetic tree and then subsequently\n",
    "rooted at its midpoint. Output files from each step of the pipeline will be\n",
    "saved. This includes both the unmasked and masked MAFFT alignment from\n",
    "q2-alignment methods, and both the rooted and unrooted phylogenies from\n",
    "q2-phylogeny methods.\n",
    "\n",
    "\n",
    "Returns\n",
    "- alignment : FeatureData[AlignedSequence] : The aligned sequences.\n",
    "- masked_alignment : FeatureData[AlignedSequence] : The masked alignment.\n",
    "- tree : Phylogeny[Unrooted] : The unrooted phylogenetic tree.\n",
    "- rooted_tree : Phylogeny[Rooted] : The rooted phylogenetic tree."
   ]
  },
  {
   "cell_type": "code",
   "execution_count": 10,
   "id": "9c8cfe47",
   "metadata": {
    "ExecuteTime": {
     "end_time": "2022-09-29T20:54:35.139531Z",
     "start_time": "2022-09-29T20:54:20.792130Z"
    },
    "execution": {
     "iopub.execute_input": "2024-03-05T23:45:24.400491Z",
     "iopub.status.busy": "2024-03-05T23:45:24.400218Z",
     "iopub.status.idle": "2024-03-05T23:45:31.027680Z",
     "shell.execute_reply": "2024-03-05T23:45:31.027187Z"
    },
    "papermill": {
     "duration": 6.633023,
     "end_time": "2024-03-05T23:45:31.028719",
     "exception": false,
     "start_time": "2024-03-05T23:45:24.395696",
     "status": "completed"
    },
    "tags": []
   },
   "outputs": [
    {
     "name": "stdout",
     "output_type": "stream",
     "text": [
      "Running external command line application. This may print messages to stdout and/or stderr.\n",
      "The command being run is below. This command cannot be manually re-run as it will depend on temporary files that no longer exist.\n",
      "\n",
      "Command: mafft --preservecase --inputorder --thread 6 /tmp/qiime2/lauro/data/4f83c6e1-b657-4180-a2fe-2a3b16150e60/data/dna-sequences.fasta\n",
      "\n"
     ]
    },
    {
     "name": "stderr",
     "output_type": "stream",
     "text": [
      "inputfile = orig\n",
      "872 x 430 - 403 d\n",
      "nthread = 6\n",
      "nthreadpair = 6\n",
      "nthreadtb = 6\n",
      "ppenalty_ex = 0\n",
      "stacksize: 8192 kb\n",
      "generating a scoring matrix for nucleotide (dist=200) ... done\n",
      "Gap Penalty = -1.53, +0.00, +0.00\n",
      "\n",
      "\n",
      "\n",
      "Making a distance matrix ..\n",
      "\r",
      "    1 / 872 (thread    0)\r",
      "  101 / 872 (thread    2)\r",
      "  201 / 872 (thread    4)\r",
      "  301 / 872 (thread    4)\r",
      "  401 / 872 (thread    0)\r",
      "  501 / 872 (thread    1)\r",
      "  601 / 872 (thread    2)\r",
      "  701 / 872 (thread    4)\r",
      "  801 / 872 (thread    3)\n",
      "done.\n",
      "\n",
      "Constructing a UPGMA tree (efffree=0) ... \n",
      "\r",
      "    0 / 872\r",
      "   10 / 872\r",
      "   20 / 872\r",
      "   30 / 872\r",
      "   40 / 872\r",
      "   50 / 872\r",
      "   60 / 872\r",
      "   70 / 872\r",
      "   80 / 872\r",
      "   90 / 872\r",
      "  100 / 872\r",
      "  110 / 872\r",
      "  120 / 872\r",
      "  130 / 872\r",
      "  140 / 872\r",
      "  150 / 872\r",
      "  160 / 872\r",
      "  170 / 872\r",
      "  180 / 872\r",
      "  190 / 872\r",
      "  200 / 872\r",
      "  210 / 872\r",
      "  220 / 872\r",
      "  230 / 872\r",
      "  240 / 872\r",
      "  250 / 872\r",
      "  260 / 872\r",
      "  270 / 872\r",
      "  280 / 872\r",
      "  290 / 872\r",
      "  300 / 872\r",
      "  310 / 872\r",
      "  320 / 872\r",
      "  330 / 872\r",
      "  340 / 872\r",
      "  350 / 872\r",
      "  360 / 872\r",
      "  370 / 872\r",
      "  380 / 872\r",
      "  390 / 872\r",
      "  400 / 872\r",
      "  410 / 872\r",
      "  420 / 872\r",
      "  430 / 872\r",
      "  440 / 872\r",
      "  450 / 872\r",
      "  460 / 872\r",
      "  470 / 872\r",
      "  480 / 872\r",
      "  490 / 872\r",
      "  500 / 872\r",
      "  510 / 872\r",
      "  520 / 872\r",
      "  530 / 872\r",
      "  540 / 872\r",
      "  550 / 872\r",
      "  560 / 872\r",
      "  570 / 872\r",
      "  580 / 872\r",
      "  590 / 872\r",
      "  600 / 872\r",
      "  610 / 872\r",
      "  620 / 872\r",
      "  630 / 872\r",
      "  640 / 872\r",
      "  650 / 872\r",
      "  660 / 872\r",
      "  670 / 872\r",
      "  680 / 872\r",
      "  690 / 872\r",
      "  700 / 872\r",
      "  710 / 872\r",
      "  720 / 872\r",
      "  730 / 872\r",
      "  740 / 872\r",
      "  750 / 872\r",
      "  760 / 872\r",
      "  770 / 872\r",
      "  780 / 872\r",
      "  790 / 872\r",
      "  800 / 872\r",
      "  810 / 872\r",
      "  820 / 872\r",
      "  830 / 872\r",
      "  840 / 872\r",
      "  850 / 872\r",
      "  860 / 872\r",
      "  870 / 872\n",
      "done.\n",
      "\n",
      "Progressive alignment 1/2... \n",
      "\r",
      "STEP     1 / 871 (thread    1)\r",
      "STEP     2 / 871 (thread    2) f\b\b f\b\b\r",
      "STEP     3 / 871 (thread    4) f\b\b\r",
      "STEP     4 / 871 (thread    3) f\b\b\r",
      "STEP     5 / 871 (thread    5) f\b\b\r",
      "STEP     6 / 871 (thread    0) f\b\b\r",
      "STEP     7 / 871 (thread    4) f\b\b\r",
      "STEP     8 / 871 (thread    0) f\b\b\r",
      "STEP     9 / 871 (thread    2) f\b\b\r",
      "STEP    10 / 871 (thread    5) f\b\b\r",
      "STEP    11 / 871 (thread    3) f\b\b\r",
      "STEP    12 / 871 (thread    1) f\b\b\r",
      "STEP    13 / 871 (thread    4) f\b\b\r",
      "STEP    14 / 871 (thread    0) f\b\b\r",
      "STEP    15 / 871 (thread    2) f\b\b\r",
      "STEP    16 / 871 (thread    5) f\b\b\r",
      "STEP    17 / 871 (thread    3) f\b\b\r",
      "STEP    18 / 871 (thread    1) f\b\b\r",
      "STEP    19 / 871 (thread    4) f\b\b\r",
      "STEP    20 / 871 (thread    0) f\b\b\r",
      "STEP    21 / 871 (thread    2) f\b\b\r",
      "STEP    22 / 871 (thread    5) f\b\b\r",
      "STEP    23 / 871 (thread    3) f\b\b\r",
      "STEP    24 / 871 (thread    1) f\b\b\r",
      "STEP    25 / 871 (thread    4) f\b\b\r",
      "STEP    26 / 871 (thread    0) f\b\b\r",
      "STEP    27 / 871 (thread    2) f\b\b\r",
      "STEP    28 / 871 (thread    5) f\b\b\r",
      "STEP    29 / 871 (thread    3) f\b\b\r",
      "STEP    30 / 871 (thread    1) f\b\b\r",
      "STEP    31 / 871 (thread    4) f\b\b\r",
      "STEP    32 / 871 (thread    0) f\b\b\r",
      "STEP    33 / 871 (thread    2) f\b\b\r",
      "STEP    34 / 871 (thread    5) f\b\b\r",
      "STEP    35 / 871 (thread    3) f\b\b\r",
      "STEP    36 / 871 (thread    1) f\b\b\r",
      "STEP    37 / 871 (thread    4) f\b\b\r",
      "STEP    38 / 871 (thread    0) f\b\b\r",
      "STEP    39 / 871 (thread    2) f\b\b\r",
      "STEP    40 / 871 (thread    5) f\b\b\r",
      "STEP    41 / 871 (thread    3) f\b\b\r",
      "STEP    42 / 871 (thread    1) f\b\b\r",
      "STEP    43 / 871 (thread    4) f\b\b\r",
      "STEP    44 / 871 (thread    0) f\b\b\r",
      "STEP    45 / 871 (thread    2) f\b\b\r",
      "STEP    46 / 871 (thread    3) f\b\b\r",
      "STEP    47 / 871 (thread    1) f\b\b\r",
      "STEP    48 / 871 (thread    4) f\b\b\r",
      "STEP    49 / 871 (thread    2) f\b\b\r",
      "STEP    50 / 871 (thread    3) f\b\b\r",
      "STEP    51 / 871 (thread    5) f\b\b\r",
      "STEP    52 / 871 (thread    1) f\b\b\r",
      "STEP    53 / 871 (thread    4) f\b\b\r",
      "STEP    54 / 871 (thread    2) f\b\b\r",
      "STEP    55 / 871 (thread    3) f\b\b\r",
      "STEP    56 / 871 (thread    5) f\b\b\r",
      "STEP    57 / 871 (thread    0) f\b\b\r",
      "STEP    58 / 871 (thread    1) f\b\b\r",
      "STEP    59 / 871 (thread    4) f\b\b\r",
      "STEP    60 / 871 (thread    2) f\b\b\r",
      "STEP    61 / 871 (thread    3) f\b\b\r",
      "STEP    62 / 871 (thread    5) f\b\b\r",
      "STEP    63 / 871 (thread    0) f\b\b\r",
      "STEP    64 / 871 (thread    1) f\b\b\r",
      "STEP    65 / 871 (thread    4) f\b\b\r",
      "STEP    66 / 871 (thread    2) f\b\b\r",
      "STEP    67 / 871 (thread    3) f\b\b\r",
      "STEP    68 / 871 (thread    5) f\b\b\r",
      "STEP    69 / 871 (thread    0) f\b\b\r",
      "STEP    70 / 871 (thread    1) f\b\b\r",
      "STEP    71 / 871 (thread    4) f\b\b\r",
      "STEP    72 / 871 (thread    2) f\b\b\r",
      "STEP    73 / 871 (thread    3) f\b\b\r",
      "STEP    74 / 871 (thread    5) f\b\b\r",
      "STEP    75 / 871 (thread    0) f\b\b\r",
      "STEP    76 / 871 (thread    1) f\b\b\r",
      "STEP    77 / 871 (thread    4) f\b\b\r",
      "STEP    78 / 871 (thread    2) f\b\b\r",
      "STEP    79 / 871 (thread    3) f\b\b\r",
      "STEP    80 / 871 (thread    0) f\b\b\r",
      "STEP    81 / 871 (thread    1) f\b\b\r",
      "STEP    82 / 871 (thread    4) f\b\b\r",
      "STEP    83 / 871 (thread    5) f\b\b\r",
      "STEP    84 / 871 (thread    2) f\b\b\r",
      "STEP    85 / 871 (thread    3) f\b\b\r",
      "STEP    87 / 871 (thread    1) f\b\b\r",
      "STEP    88 / 871 (thread    4) f\b\b\r",
      "STEP    90 / 871 (thread    2) f\b\b\r",
      "STEP    86 / 871 (thread    0) f\b\b\r",
      "STEP    92 / 871 (thread    1) f\b\b\r",
      "STEP    89 / 871 (thread    5) f\b\b\r",
      "STEP    93 / 871 (thread    4) f\b\b\r",
      "STEP    94 / 871 (thread    2) f\b\b\r",
      "STEP    95 / 871 (thread    4) f\b\b\r",
      "STEP    96 / 871 (thread    0) f\b\b\r",
      "STEP    91 / 871 (thread    3) f\b\b\r",
      "STEP    97 / 871 (thread    5) f\b\b\r",
      "STEP    98 / 871 (thread    1) f\b\b\r",
      "STEP    99 / 871 (thread    4) f\b\b\r",
      "STEP   101 / 871 (thread    0) f\b\b\r",
      "STEP   102 / 871 (thread    3) f\b\b\r",
      "STEP   103 / 871 (thread    1) f\b\b\r",
      "STEP   100 / 871 (thread    2) f\b\b\r",
      "STEP   104 / 871 (thread    0)\r",
      "STEP   105 / 871 (thread    3) f\b\b f\b\b\r",
      "STEP   108 / 871 (thread    1) f\b\b\r",
      "STEP   109 / 871 (thread    3) f\b\b\r",
      "STEP   110 / 871 (thread    2) f\b\b\r",
      "STEP   106 / 871 (thread    4) f\b\b\r",
      "STEP   111 / 871 (thread    1) f\b\b\r",
      "STEP   112 / 871 (thread    0) f\b\b\r",
      "STEP   113 / 871 (thread    3) f\b\b\r",
      "STEP   114 / 871 (thread    1) f\b\b\r",
      "STEP   115 / 871 (thread    0) f\b\b\r",
      "STEP   116 / 871 (thread    3) f\b\b\r",
      "STEP   117 / 871 (thread    4) f\b\b\r",
      "STEP   107 / 871 (thread    5) f\b\b\r",
      "STEP   118 / 871 (thread    0) f\b\b\r",
      "STEP   119 / 871 (thread    1) f\b\b\r",
      "STEP   120 / 871 (thread    2) f\b\b\r",
      "STEP   121 / 871 (thread    3) f\b\b\r",
      "STEP   122 / 871 (thread    1) f\b\b\r",
      "STEP   123 / 871 (thread    4) f\b\b\r",
      "STEP   124 / 871 (thread    2) f\b\b\r",
      "STEP   125 / 871 (thread    3) f\b\b\r",
      "STEP   126 / 871 (thread    5) f\b\b\r",
      "STEP   127 / 871 (thread    0) f\b\b\r",
      "STEP   128 / 871 (thread    1) f\b\b\r",
      "STEP   129 / 871 (thread    2) f\b\b\r",
      "STEP   130 / 871 (thread    3) f\b\b\r",
      "STEP   131 / 871 (thread    3) f\b\b\r",
      "STEP   132 / 871 (thread    4) f\b\b\r",
      "STEP   133 / 871 (thread    5) f\b\b\r",
      "STEP   134 / 871 (thread    0) f\b\b\r",
      "STEP   135 / 871 (thread    1) f\b\b\r",
      "STEP   136 / 871 (thread    3) f\b\b\r",
      "STEP   137 / 871 (thread    4) f\b\b\r",
      "STEP   138 / 871 (thread    2) f\b\b\r",
      "STEP   139 / 871 (thread    5) f\b\b\r",
      "STEP   140 / 871 (thread    0) f\b\b\r",
      "STEP   141 / 871 (thread    1) f\b\b\r",
      "STEP   142 / 871 (thread    3) f\b\b\r",
      "STEP   143 / 871 (thread    4) f\b\b\r",
      "STEP   144 / 871 (thread    2) f\b\b\r",
      "STEP   145 / 871 (thread    5) f\b\b\r",
      "STEP   146 / 871 (thread    0) f\b\b\r",
      "STEP   147 / 871 (thread    3) f\b\b\r",
      "STEP   148 / 871 (thread    1) f\b\b\r",
      "STEP   149 / 871 (thread    4) f\b\b\r",
      "STEP   150 / 871 (thread    2) f\b\b\r",
      "STEP   151 / 871 (thread    5) f\b\b\r",
      "STEP   152 / 871 (thread    0) f\b\b\r",
      "STEP   153 / 871 (thread    3) f\b\b\r",
      "STEP   154 / 871 (thread    1) f\b\b\r",
      "STEP   155 / 871 (thread    4) f\b\b\r",
      "STEP   156 / 871 (thread    2) f\b\b\r",
      "STEP   157 / 871 (thread    5) f\b\b\r",
      "STEP   159 / 871 (thread    3) f\b\b\r",
      "STEP   160 / 871 (thread    1) f\b\b\r",
      "STEP   158 / 871 (thread    0) f\b\b\r",
      "STEP   161 / 871 (thread    2) f\b\b\r",
      "STEP   162 / 871 (thread    5) f\b\b\r",
      "STEP   163 / 871 (thread    1) f\b\b\r",
      "STEP   164 / 871 (thread    2) f\b\b\r",
      "STEP   166 / 871 (thread    5) f\b\b\r",
      "STEP   167 / 871 (thread    1) f\b\b\r",
      "STEP   168 / 871 (thread    3) f\b\b\r",
      "STEP   165 / 871 (thread    4) f\b\b\r",
      "STEP   169 / 871 (thread    0) f\b\b\r",
      "STEP   170 / 871 (thread    2) f\b\b\r",
      "STEP   171 / 871 (thread    3) f\b\b\r",
      "STEP   172 / 871 (thread    0) f\b\b\r",
      "STEP   173 / 871 (thread    2) f\b\b\r",
      "STEP   174 / 871 (thread    5) f\b\b\r",
      "STEP   175 / 871 (thread    3) f\b\b\r",
      "STEP   176 / 871 (thread    4) f\b\b\r",
      "STEP   177 / 871 (thread    1) f\b\b\r",
      "STEP   178 / 871 (thread    0) f\b\b\r",
      "STEP   180 / 871 (thread    5) f\b\b\r",
      "STEP   181 / 871 (thread    3) f\b\b\r",
      "STEP   182 / 871 (thread    0) f\b\b\r",
      "STEP   183 / 871 (thread    1) f\b\b\r",
      "STEP   184 / 871 (thread    4) f\b\b\r",
      "STEP   179 / 871 (thread    2) f\b\b\r",
      "STEP   185 / 871 (thread    3) f\b\b\r",
      "STEP   186 / 871 (thread    0) f\b\b\r",
      "STEP   187 / 871 (thread    5) f\b\b\r",
      "STEP   188 / 871 (thread    1) f\b\b\r",
      "STEP   189 / 871 (thread    3) f\b\b\r",
      "STEP   190 / 871 (thread    2) f\b\b\r",
      "STEP   191 / 871 (thread    4) f\b\b\r",
      "STEP   192 / 871 (thread    0) f\b\b\r",
      "STEP   193 / 871 (thread    1) f\b\b\r",
      "STEP   194 / 871 (thread    2) f\b\b\r",
      "STEP   195 / 871 (thread    5) f\b\b\r",
      "STEP   196 / 871 (thread    3) f\b\b\r",
      "STEP   197 / 871 (thread    4) f\b\b\r",
      "STEP   198 / 871 (thread    0) f\b\b\r",
      "STEP   199 / 871 (thread    3) f\b\b\r",
      "STEP   200 / 871 (thread    1) f\b\b\r",
      "STEP   201 / 871 (thread    2) f\b\b\r",
      "STEP   202 / 871 (thread    5) f\b\b\r",
      "STEP   203 / 871 (thread    0) f\b\b\r",
      "STEP   204 / 871 (thread    3) f\b\b\r",
      "STEP   205 / 871 (thread    1) f\b\b\r",
      "STEP   206 / 871 (thread    2) f\b\b\r",
      "STEP   207 / 871 (thread    5) f\b\b\r",
      "STEP   208 / 871 (thread    0) f\b\b\r",
      "STEP   209 / 871 (thread    4) f\b\b\r",
      "STEP   210 / 871 (thread    3) f\b\b\r",
      "STEP   211 / 871 (thread    1) f\b\b\r",
      "STEP   212 / 871 (thread    2) f\b\b\r",
      "STEP   213 / 871 (thread    5) f\b\b\r",
      "STEP   214 / 871 (thread    0) f\b\b\r",
      "STEP   215 / 871 (thread    3) f\b\b\r",
      "STEP   216 / 871 (thread    1) f\b\b\r",
      "STEP   217 / 871 (thread    2) f\b\b\r",
      "STEP   218 / 871 (thread    5) f\b\b\r",
      "STEP   219 / 871 (thread    4) f\b\b\r",
      "STEP   220 / 871 (thread    0) f\b\b\r",
      "STEP   221 / 871 (thread    1) f\b\b\r",
      "STEP   222 / 871 (thread    5) f\b\b\r",
      "STEP   223 / 871 (thread    0) f\b\b\r",
      "STEP   224 / 871 (thread    1) f\b\b\r",
      "STEP   225 / 871 (thread    2) f\b\b\r",
      "STEP   226 / 871 (thread    3) f\b\b\r",
      "STEP   227 / 871 (thread    4) f\b\b\r",
      "STEP   228 / 871 (thread    2) f\b\b\r",
      "STEP   229 / 871 (thread    5) f\b\b\r",
      "STEP   230 / 871 (thread    3) f\b\b\r",
      "STEP   231 / 871 (thread    4) f\b\b\r",
      "STEP   232 / 871 (thread    0) f\b\b\r",
      "STEP   233 / 871 (thread    1) f\b\b\r",
      "STEP   234 / 871 (thread    2) f\b\b\r",
      "STEP   235 / 871 (thread    5) f\b\b\r",
      "STEP   236 / 871 (thread    3) f\b\b\r",
      "STEP   237 / 871 (thread    4) f\b\b\r",
      "STEP   238 / 871 (thread    1) f\b\b\r",
      "STEP   239 / 871 (thread    2) f\b\b\r",
      "STEP   240 / 871 (thread    5) f\b\b\r",
      "STEP   241 / 871 (thread    3) f\b\b\r",
      "STEP   242 / 871 (thread    0) f\b\b\r",
      "STEP   243 / 871 (thread    1) f\b\b\r",
      "STEP   244 / 871 (thread    2) f\b\b\r",
      "STEP   245 / 871 (thread    1) f\b\b\r",
      "STEP   246 / 871 (thread    4) f\b\b\r",
      "STEP   247 / 871 (thread    2) f\b\b\r",
      "STEP   248 / 871 (thread    5) f\b\b\r",
      "STEP   249 / 871 (thread    3) f\b\b\r",
      "STEP   250 / 871 (thread    1) f\b\b\r",
      "STEP   251 / 871 (thread    4) f\b\b\r",
      "STEP   252 / 871 (thread    0) f\b\b\r",
      "STEP   253 / 871 (thread    3) f\b\b\r",
      "STEP   254 / 871 (thread    2) f\b\b\r",
      "STEP   255 / 871 (thread    5) f\b\b\r",
      "STEP   256 / 871 (thread    4) f\b\b\r",
      "STEP   257 / 871 (thread    0) f\b\b\r",
      "STEP   258 / 871 (thread    1) f\b\b\r",
      "STEP   259 / 871 (thread    5) f\b\b\r",
      "STEP   260 / 871 (thread    3) f\b\b\r",
      "STEP   261 / 871 (thread    4) f\b\b\r",
      "STEP   262 / 871 (thread    0) f\b\b\r",
      "STEP   263 / 871 (thread    2) f\b\b\r",
      "STEP   264 / 871 (thread    5) f\b\b\r",
      "STEP   265 / 871 (thread    1) f\b\b\r",
      "STEP   266 / 871 (thread    3) f\b\b\r",
      "STEP   267 / 871 (thread    0) f\b\b\r",
      "STEP   268 / 871 (thread    2) f\b\b\r",
      "STEP   269 / 871 (thread    4) f\b\b\r",
      "STEP   270 / 871 (thread    5) f\b\b\r",
      "STEP   271 / 871 (thread    3) f\b\b\r",
      "STEP   272 / 871 (thread    1) f\b\b\r",
      "STEP   273 / 871 (thread    0) f\b\b\r",
      "STEP   274 / 871 (thread    2) f\b\b\r",
      "STEP   275 / 871 (thread    4) f\b\b\r",
      "STEP   276 / 871 (thread    5) f\b\b\r",
      "STEP   277 / 871 (thread    0) f\b\b\r",
      "STEP   278 / 871 (thread    3) f\b\b\r",
      "STEP   279 / 871 (thread    2) f\b\b\r",
      "STEP   280 / 871 (thread    4) f\b\b\r",
      "STEP   281 / 871 (thread    1) f\b\b\r",
      "STEP   282 / 871 (thread    5) f\b\b\r",
      "STEP   284 / 871 (thread    3) f\b\b\r",
      "STEP   285 / 871 (thread    2) f\b\b\r",
      "STEP   286 / 871 (thread    5) f\b\b\r",
      "STEP   287 / 871 (thread    1) f\b\b\r",
      "STEP   288 / 871 (thread    2) f\b\b\r",
      "STEP   283 / 871 (thread    0) f\b\b\r",
      "STEP   290 / 871 (thread    5) f\b\b\r",
      "STEP   291 / 871 (thread    3) f\b\b\r",
      "STEP   289 / 871 (thread    4) f\b\b\r",
      "STEP   292 / 871 (thread    1) f\b\b\r",
      "STEP   293 / 871 (thread    5) f\b\b\r",
      "STEP   294 / 871 (thread    2) f\b\b\r",
      "STEP   295 / 871 (thread    0) f\b\b\r",
      "STEP   296 / 871 (thread    3) f\b\b\r",
      "STEP   297 / 871 (thread    4) f\b\b\r",
      "STEP   298 / 871 (thread    5) f\b\b\r",
      "STEP   299 / 871 (thread    4) f\b\b\r",
      "STEP   300 / 871 (thread    5) f\b\b\r",
      "STEP   301 / 871 (thread    1) f\b\b\r",
      "STEP   302 / 871 (thread    2) f\b\b\r",
      "STEP   303 / 871 (thread    0) f\b\b\r",
      "STEP   304 / 871 (thread    3) f\b\b\r",
      "STEP   305 / 871 (thread    2) f\b\b\r",
      "STEP   306 / 871 (thread    0) f\b\b\r",
      "STEP   307 / 871 (thread    3) f\b\b\r",
      "STEP   308 / 871 (thread    0) f\b\b\r",
      "STEP   309 / 871 (thread    5) f\b\b\r",
      "STEP   310 / 871 (thread    1) f\b\b\r",
      "STEP   311 / 871 (thread    4) f\b\b\r",
      "STEP   312 / 871 (thread    2) f\b\b\r",
      "STEP   313 / 871 (thread    3) f\b\b\r",
      "STEP   314 / 871 (thread    2) f\b\b\r",
      "STEP   315 / 871 (thread    0) f\b\b\r",
      "STEP   316 / 871 (thread    1) f\b\b\r",
      "STEP   317 / 871 (thread    5) f\b\b\r",
      "STEP   318 / 871 (thread    4) f\b\b\r",
      "STEP   319 / 871 (thread    3) f\b\b\r",
      "STEP   320 / 871 (thread    1) f\b\b\r",
      "STEP   321 / 871 (thread    5) f\b\b\r",
      "STEP   322 / 871 (thread    0) f\b\b\r",
      "STEP   323 / 871 (thread    2) f\b\b\r",
      "STEP   324 / 871 (thread    1) f\b\b\r",
      "STEP   325 / 871 (thread    5) f\b\b\r",
      "STEP   326 / 871 (thread    4) f\b\b\r",
      "STEP   327 / 871 (thread    3) f\b\b\r",
      "STEP   328 / 871 (thread    2) f\b\b\r",
      "STEP   329 / 871 (thread    1) f\b\b\r",
      "STEP   330 / 871 (thread    5) f\b\b\r",
      "STEP   331 / 871 (thread    4) f\b\b\r",
      "STEP   332 / 871 (thread    0) f\b\b\r",
      "STEP   333 / 871 (thread    0) f\b\b\r",
      "STEP   334 / 871 (thread    2) f\b\b\r",
      "STEP   335 / 871 (thread    1) f\b\b\r",
      "STEP   336 / 871 (thread    5) f\b\b\r",
      "STEP   337 / 871 (thread    0) f\b\b\r",
      "STEP   338 / 871 (thread    3) f\b\b\r",
      "STEP   339 / 871 (thread    4) f\b\b\r",
      "STEP   340 / 871 (thread    2) f\b\b\r",
      "STEP   341 / 871 (thread    1) f\b\b\r",
      "STEP   342 / 871 (thread    5) f\b\b\r",
      "STEP   343 / 871 (thread    0) f\b\b\r",
      "STEP   344 / 871 (thread    4) f\b\b\r",
      "STEP   345 / 871 (thread    5) f\b\b\r",
      "STEP   346 / 871 (thread    3) f\b\b\r",
      "STEP   347 / 871 (thread    2) f\b\b\r",
      "STEP   348 / 871 (thread    1) f\b\b\r",
      "STEP   349 / 871 (thread    0) f\b\b\r",
      "STEP   350 / 871 (thread    4) f\b\b\r",
      "STEP   351 / 871 (thread    5) f\b\b\r",
      "STEP   353 / 871 (thread    2) f\b\b\r",
      "STEP   354 / 871 (thread    1) f\b\b\r",
      "STEP   355 / 871 (thread    0) f\b\b\r",
      "STEP   356 / 871 (thread    4) f\b\b\r",
      "STEP   352 / 871 (thread    3) f\b\b\r",
      "STEP   357 / 871 (thread    5) f\b\b\r",
      "STEP   358 / 871 (thread    4) f\b\b\r",
      "STEP   359 / 871 (thread    5) f\b\b\r",
      "STEP   360 / 871 (thread    1) f\b\b\r",
      "STEP   361 / 871 (thread    2) f\b\b\r",
      "STEP   362 / 871 (thread    0) f\b\b\r",
      "STEP   364 / 871 (thread    4) f\b\b\r",
      "STEP   365 / 871 (thread    2) f\b\b\r",
      "STEP   366 / 871 (thread    5) f\b\b\r",
      "STEP   363 / 871 (thread    3) f\b\b\r",
      "STEP   367 / 871 (thread    0) f\b\b\r",
      "STEP   368 / 871 (thread    1) f\b\b\r",
      "STEP   369 / 871 (thread    4) f\b\b\r",
      "STEP   370 / 871 (thread    2) f\b\b\r",
      "STEP   371 / 871 (thread    0) f\b\b\r",
      "STEP   372 / 871 (thread    5) f\b\b\r",
      "STEP   373 / 871 (thread    3) f\b\b\r",
      "STEP   374 / 871 (thread    1) f\b\b\r",
      "STEP   375 / 871 (thread    3) f\b\b\r",
      "STEP   376 / 871 (thread    2) f\b\b\r",
      "STEP   377 / 871 (thread    4) f\b\b\r",
      "STEP   378 / 871 (thread    1) f\b\b\r",
      "STEP   379 / 871 (thread    0) f\b\b\r",
      "STEP   380 / 871 (thread    5) f\b\b\r",
      "STEP   381 / 871 (thread    2) f\b\b\r",
      "STEP   382 / 871 (thread    4) f\b\b\r",
      "STEP   383 / 871 (thread    3) f\b\b\r",
      "STEP   384 / 871 (thread    1) f\b\b\r",
      "STEP   385 / 871 (thread    3) f\b\b\r",
      "STEP   386 / 871 (thread    0) f\b\b\r",
      "STEP   387 / 871 (thread    3) f\b\b\r",
      "STEP   388 / 871 (thread    2) f\b\b\r",
      "STEP   389 / 871 (thread    5) f\b\b\r",
      "STEP   390 / 871 (thread    4) f\b\b\r",
      "STEP   391 / 871 (thread    4) f\b\b\r",
      "STEP   392 / 871 (thread    1) f\b\b\r",
      "STEP   393 / 871 (thread    3) f\b\b\r",
      "STEP   394 / 871 (thread    5) f\b\b\r",
      "STEP   395 / 871 (thread    2) f\b\b\r",
      "STEP   396 / 871 (thread    4) f\b\b\r",
      "STEP   397 / 871 (thread    0) f\b\b\r",
      "STEP   398 / 871 (thread    1) f\b\b\r",
      "STEP   399 / 871 (thread    2) f\b\b\r",
      "STEP   400 / 871 (thread    4) f\b\b\r",
      "STEP   401 / 871 (thread    0) f\b\b\r",
      "STEP   402 / 871 (thread    3) f\b\b\r",
      "STEP   403 / 871 (thread    1) f\b\b\r",
      "STEP   404 / 871 (thread    5) f\b\b\r",
      "STEP   405 / 871 (thread    4) f\b\b\r",
      "STEP   406 / 871 (thread    0) f\b\b\r",
      "STEP   407 / 871 (thread    2) f\b\b\r",
      "STEP   408 / 871 (thread    3) f\b\b\r",
      "STEP   409 / 871 (thread    1) f\b\b\r",
      "STEP   410 / 871 (thread    5) f\b\b\r",
      "STEP   411 / 871 (thread    0) f\b\b\r",
      "STEP   413 / 871 (thread    4) f\b\b\r",
      "STEP   412 / 871 (thread    1) f\b\b\r",
      "STEP   414 / 871 (thread    5) f\b\b\r",
      "STEP   415 / 871 (thread    0) f\b\b\r",
      "STEP   416 / 871 (thread    3) f\b\b\r",
      "STEP   417 / 871 (thread    2) f\b\b\r",
      "STEP   418 / 871 (thread    1) f\b\b\r",
      "STEP   419 / 871 (thread    4) f\b\b\r",
      "STEP   420 / 871 (thread    1) f\b\b\r",
      "STEP   421 / 871 (thread    5) f\b\b\r",
      "STEP   422 / 871 (thread    0) f\b\b\r",
      "STEP   423 / 871 (thread    1) f\b\b\r",
      "STEP   424 / 871 (thread    4) f\b\b\r",
      "STEP   425 / 871 (thread    2) f\b\b\r",
      "STEP   426 / 871 (thread    3) f\b\b\r",
      "STEP   427 / 871 (thread    2) f\b\b\r",
      "STEP   428 / 871 (thread    0) f\b\b\r",
      "STEP   429 / 871 (thread    2) f\b\b\r",
      "STEP   430 / 871 (thread    5) f\b\b\r",
      "STEP   431 / 871 (thread    1) f\b\b\r",
      "STEP   432 / 871 (thread    3) f\b\b\r",
      "STEP   433 / 871 (thread    4) f\b\b\r",
      "STEP   434 / 871 (thread    0) f\b\b\r",
      "STEP   435 / 871 (thread    3) f\b\b\r",
      "STEP   436 / 871 (thread    2) f\b\b\r",
      "STEP   437 / 871 (thread    5) f\b\b\r",
      "STEP   438 / 871 (thread    1) f\b\b\r",
      "STEP   439 / 871 (thread    4) f\b\b\r",
      "STEP   440 / 871 (thread    3) f\b\b\r",
      "STEP   441 / 871 (thread    0) f\b\b\r",
      "STEP   443 / 871 (thread    2) f\b\b\r",
      "STEP   444 / 871 (thread    4) f\b\b\r",
      "STEP   445 / 871 (thread    5) f\b\b\r",
      "STEP   442 / 871 (thread    1) f\b\b\r",
      "STEP   446 / 871 (thread    3) f\b\b\r",
      "STEP   447 / 871 (thread    0) f\b\b\r",
      "STEP   448 / 871 (thread    5) f\b\b\r",
      "STEP   449 / 871 (thread    2) f\b\b\r",
      "STEP   451 / 871 (thread    1) f\b\b\r",
      "STEP   452 / 871 (thread    5) f\b\b\r",
      "STEP   455 / 871 (thread    1) f\b\b\r",
      "STEP   456 / 871 (thread    4) f\b\b\r",
      "STEP   450 / 871 (thread    0) f\b\b\r",
      "STEP   457 / 871 (thread    3) f\b\b\r",
      "STEP   453 / 871 (thread    2) f\b\b\r",
      "STEP   458 / 871 (thread    1) f\b\b\r",
      "STEP   459 / 871 (thread    4) f\b\b\r",
      "STEP   460 / 871 (thread    1) f\b\b\r",
      "STEP   461 / 871 (thread    3) f\b\b\r",
      "STEP   462 / 871 (thread    4) f\b\b\r",
      "STEP   463 / 871 (thread    1) f\b\b\r",
      "STEP   464 / 871 (thread    3) f\b\b\r",
      "STEP   465 / 871 (thread    4) f\b\b\r",
      "STEP   466 / 871 (thread    0) f\b\b\r",
      "STEP   467 / 871 (thread    2) f\b\b\r",
      "STEP   454 / 871 (thread    5) f\b\b\r",
      "STEP   468 / 871 (thread    3) f\b\b\r",
      "STEP   469 / 871 (thread    2) f\b\b\r",
      "STEP   470 / 871 (thread    1) f\b\b\r",
      "STEP   471 / 871 (thread    0) f\b\b\r",
      "STEP   472 / 871 (thread    4) f\b\b\r",
      "STEP   473 / 871 (thread    3) f\b\b\r",
      "STEP   475 / 871 (thread    2) f\b\b\r",
      "STEP   476 / 871 (thread    3) f\b\b\r",
      "STEP   477 / 871 (thread    0) f\b\b\r",
      "STEP   478 / 871 (thread    4) f\b\b\r",
      "STEP   479 / 871 (thread    5) f\b\b\r",
      "STEP   474 / 871 (thread    1) f\b\b\r",
      "STEP   480 / 871 (thread    2) f\b\b\r",
      "STEP   482 / 871 (thread    5) f\b\b\r",
      "STEP   483 / 871 (thread    3) f\b\b\r",
      "STEP   484 / 871 (thread    4) f\b\b\r",
      "STEP   485 / 871 (thread    2) f\b\b\r",
      "STEP   486 / 871 (thread    3) f\b\b\r",
      "STEP   481 / 871 (thread    0) f\b\b\r",
      "STEP   488 / 871 (thread    4) f\b\b\r",
      "STEP   489 / 871 (thread    2) f\b\b\r",
      "STEP   490 / 871 (thread    5) f\b\b\r",
      "STEP   491 / 871 (thread    3) f\b\b\r",
      "STEP   492 / 871 (thread    5) f\b\b\r",
      "STEP   493 / 871 (thread    3) f\b\b\r",
      "STEP   495 / 871 (thread    2) f\b\b\r",
      "STEP   496 / 871 (thread    0) f\b\b\r",
      "STEP   487 / 871 (thread    1) f\b\b\r",
      "STEP   497 / 871 (thread    5) f\b\b\r",
      "STEP   498 / 871 (thread    3) f\b\b\r",
      "STEP   499 / 871 (thread    0) f\b\b\r",
      "STEP   500 / 871 (thread    2) f\b\b\r",
      "STEP   501 / 871 (thread    5) f\b\b\r",
      "STEP   494 / 871 (thread    4) f\b\b\r",
      "STEP   601 / 871 (thread    1) f\b\b\r",
      "STEP   701 / 871 (thread    2) f\b\b\n",
      "Reallocating..done. *alloclen = 1862\n"
     ]
    },
    {
     "name": "stderr",
     "output_type": "stream",
     "text": [
      "\r",
      "STEP   801 / 871 (thread    2) f\b\b\n",
      "done.\n",
      "\n",
      "Making a distance matrix from msa.. \n",
      "\r",
      "    0 / 872 (thread    0)\r",
      "  100 / 872 (thread    1)\r",
      "  200 / 872 (thread    2)\r",
      "  300 / 872 (thread    2)\r",
      "  400 / 872 (thread    3)\r",
      "  500 / 872 (thread    1)\r",
      "  600 / 872 (thread    4)\r",
      "  700 / 872 (thread    0)\r",
      "  800 / 872 (thread    2)\n",
      "done.\n",
      "\n",
      "Constructing a UPGMA tree (efffree=1) ... \n",
      "\r",
      "    0 / 872\r",
      "   10 / 872\r",
      "   20 / 872\r",
      "   30 / 872\r",
      "   40 / 872\r",
      "   50 / 872\r",
      "   60 / 872\r",
      "   70 / 872\r",
      "   80 / 872\r",
      "   90 / 872\r",
      "  100 / 872\r",
      "  110 / 872\r",
      "  120 / 872\r",
      "  130 / 872\r",
      "  140 / 872\r",
      "  150 / 872\r",
      "  160 / 872\r",
      "  170 / 872\r",
      "  180 / 872\r",
      "  190 / 872\r",
      "  200 / 872\r",
      "  210 / 872\r",
      "  220 / 872\r",
      "  230 / 872\r",
      "  240 / 872\r",
      "  250 / 872\r",
      "  260 / 872\r",
      "  270 / 872\r",
      "  280 / 872\r",
      "  290 / 872\r",
      "  300 / 872\r",
      "  310 / 872\r",
      "  320 / 872\r",
      "  330 / 872\r",
      "  340 / 872\r",
      "  350 / 872\r",
      "  360 / 872\r",
      "  370 / 872\r",
      "  380 / 872\r",
      "  390 / 872\r",
      "  400 / 872\r",
      "  410 / 872\r",
      "  420 / 872\r",
      "  430 / 872\r",
      "  440 / 872\r",
      "  450 / 872\r",
      "  460 / 872\r",
      "  470 / 872\r",
      "  480 / 872\r",
      "  490 / 872\r",
      "  500 / 872\r",
      "  510 / 872\r",
      "  520 / 872\r",
      "  530 / 872\r",
      "  540 / 872\r",
      "  550 / 872\r",
      "  560 / 872\r",
      "  570 / 872\r",
      "  580 / 872\r",
      "  590 / 872\r",
      "  600 / 872\r",
      "  610 / 872\r",
      "  620 / 872\r",
      "  630 / 872\r",
      "  640 / 872\r",
      "  650 / 872\r",
      "  660 / 872\r",
      "  670 / 872\r",
      "  680 / 872\r",
      "  690 / 872\r",
      "  700 / 872\r",
      "  710 / 872\r",
      "  720 / 872\r",
      "  730 / 872\r",
      "  740 / 872\r",
      "  750 / 872\r",
      "  760 / 872\r",
      "  770 / 872\r",
      "  780 / 872\r",
      "  790 / 872\r",
      "  800 / 872\r",
      "  810 / 872\r",
      "  820 / 872\r",
      "  830 / 872\r",
      "  840 / 872\r",
      "  850 / 872\r",
      "  860 / 872\r",
      "  870 / 872\n",
      "done.\n",
      "\n",
      "Progressive alignment 2/2... \n",
      "\r",
      "STEP     1 / 871 (thread    0) f\b\b\r",
      "STEP     2 / 871 (thread    2) f\b\b\r",
      "STEP     4 / 871 (thread    1) f\b\b\r",
      "STEP     3 / 871 (thread    3) f\b\b\r",
      "STEP     5 / 871 (thread    4) f\b\b\r",
      "STEP     6 / 871 (thread    5) f\b\b\r",
      "STEP     7 / 871 (thread    3) f\b\b\r",
      "STEP     8 / 871 (thread    0) f\b\b\r",
      "STEP     9 / 871 (thread    5) f\b\b\r",
      "STEP    10 / 871 (thread    2) f\b\b\r",
      "STEP    11 / 871 (thread    1) f\b\b\r",
      "STEP    12 / 871 (thread    4) f\b\b\r",
      "STEP    13 / 871 (thread    3) f\b\b\r",
      "STEP    14 / 871 (thread    0) f\b\b\r",
      "STEP    15 / 871 (thread    5) f\b\b\r",
      "STEP    16 / 871 (thread    2) f\b\b\r",
      "STEP    17 / 871 (thread    1) f\b\b\r",
      "STEP    18 / 871 (thread    4) f\b\b\r",
      "STEP    19 / 871 (thread    3) f\b\b\r",
      "STEP    20 / 871 (thread    0) f\b\b\r",
      "STEP    21 / 871 (thread    5) f\b\b\r",
      "STEP    22 / 871 (thread    2) f\b\b\r",
      "STEP    23 / 871 (thread    1) f\b\b\r",
      "STEP    24 / 871 (thread    4) f\b\b\r",
      "STEP    25 / 871 (thread    3) f\b\b\r",
      "STEP    26 / 871 (thread    0) f\b\b\r",
      "STEP    27 / 871 (thread    5) f\b\b\r",
      "STEP    28 / 871 (thread    2) f\b\b\r",
      "STEP    29 / 871 (thread    1) f\b\b\r",
      "STEP    30 / 871 (thread    4) f\b\b\r",
      "STEP    31 / 871 (thread    3) f\b\b\r",
      "STEP    32 / 871 (thread    0) f\b\b\r",
      "STEP    33 / 871 (thread    5) f\b\b\r",
      "STEP    34 / 871 (thread    2) f\b\b\r",
      "STEP    35 / 871 (thread    1) f\b\b\r",
      "STEP    36 / 871 (thread    4) f\b\b\r",
      "STEP    37 / 871 (thread    3) f\b\b\r",
      "STEP    38 / 871 (thread    0) f\b\b\r",
      "STEP    39 / 871 (thread    5) f\b\b\r",
      "STEP    40 / 871 (thread    2) f\b\b\r",
      "STEP    41 / 871 (thread    1) f\b\b\r",
      "STEP    42 / 871 (thread    4) f\b\b\r",
      "STEP    43 / 871 (thread    3) f\b\b\r",
      "STEP    44 / 871 (thread    0) f\b\b\r",
      "STEP    45 / 871 (thread    5) f\b\b\r",
      "STEP    46 / 871 (thread    2) f\b\b\r",
      "STEP    47 / 871 (thread    1) f\b\b\r",
      "STEP    48 / 871 (thread    4) f\b\b\r",
      "STEP    49 / 871 (thread    3) f\b\b\r",
      "STEP    50 / 871 (thread    0) f\b\b\r",
      "STEP    51 / 871 (thread    5) f\b\b\r",
      "STEP    52 / 871 (thread    2) f\b\b\r",
      "STEP    53 / 871 (thread    1) f\b\b\r",
      "STEP    54 / 871 (thread    4) f\b\b\r",
      "STEP    55 / 871 (thread    3) f\b\b\r",
      "STEP    56 / 871 (thread    0) f\b\b\r",
      "STEP    57 / 871 (thread    5) f\b\b\r",
      "STEP    58 / 871 (thread    2) f\b\b\r",
      "STEP    59 / 871 (thread    1) f\b\b\r",
      "STEP    60 / 871 (thread    4) f\b\b\r",
      "STEP    61 / 871 (thread    3) f\b\b\r",
      "STEP    62 / 871 (thread    0) f\b\b\r",
      "STEP    63 / 871 (thread    5) f\b\b\r",
      "STEP    64 / 871 (thread    2) f\b\b\r",
      "STEP    65 / 871 (thread    1) f\b\b\r",
      "STEP    66 / 871 (thread    4) f\b\b\r",
      "STEP    67 / 871 (thread    3) f\b\b\r",
      "STEP    68 / 871 (thread    0) f\b\b\r",
      "STEP    69 / 871 (thread    5) f\b\b\r",
      "STEP    72 / 871 (thread    1) f\b\b\r",
      "STEP    70 / 871 (thread    3) f\b\b\r",
      "STEP    77 / 871 (thread    3) f\b\b\r",
      "STEP    71 / 871 (thread    4) f\b\b\r",
      "STEP    73 / 871 (thread    2) f\b\b\r",
      "STEP    78 / 871 (thread    3) f\b\b\r",
      "STEP    79 / 871 (thread    4) f\b\b\r",
      "STEP    80 / 871 (thread    3) f\b\b\r",
      "STEP    81 / 871 (thread    2) f\b\b\r",
      "STEP    74 / 871 (thread    0) f\b\b\r",
      "STEP    82 / 871 (thread    4) f\b\b\r",
      "STEP    83 / 871 (thread    3) f\b\b\r",
      "STEP    84 / 871 (thread    2) f\b\b\r",
      "STEP    85 / 871 (thread    4) f\b\b\r",
      "STEP    86 / 871 (thread    0) f\b\b\r",
      "STEP    75 / 871 (thread    5) f\b\b\r",
      "STEP    87 / 871 (thread    2) f\b\b\r",
      "STEP    88 / 871 (thread    0) f\b\b\r",
      "STEP    89 / 871 (thread    2) f\b\b\r",
      "STEP    90 / 871 (thread    3) f\b\b\r",
      "STEP    91 / 871 (thread    0) f\b\b\r",
      "STEP    92 / 871 (thread    4) f\b\b\r",
      "STEP    93 / 871 (thread    5) f\b\b\r",
      "STEP    76 / 871 (thread    1) f\b\b\r",
      "STEP    94 / 871 (thread    2) f\b\b\r",
      "STEP    95 / 871 (thread    3) f\b\b\r",
      "STEP    96 / 871 (thread    0) f\b\b\r",
      "STEP    97 / 871 (thread    2) f\b\b\r",
      "STEP    98 / 871 (thread    3) f\b\b\r",
      "STEP    99 / 871 (thread    0) f\b\b\r",
      "STEP   100 / 871 (thread    2) f\b\b\r",
      "STEP   101 / 871 (thread    3) f\b\b\r",
      "STEP   102 / 871 (thread    1) f\b\b\r",
      "STEP   103 / 871 (thread    4) f\b\b\r",
      "STEP   104 / 871 (thread    5) f\b\b\r",
      "STEP   105 / 871 (thread    0) f\b\b\r",
      "STEP   106 / 871 (thread    2) f\b\b\r",
      "STEP   107 / 871 (thread    3) f\b\b\r",
      "STEP   108 / 871 (thread    1) f\b\b\r",
      "STEP   109 / 871 (thread    4) f\b\b\r",
      "STEP   110 / 871 (thread    0) f\b\b\r",
      "STEP   111 / 871 (thread    2) f\b\b\r",
      "STEP   112 / 871 (thread    3) f\b\b\r",
      "STEP   113 / 871 (thread    1) f\b\b\r",
      "STEP   114 / 871 (thread    4) f\b\b\r",
      "STEP   115 / 871 (thread    5) f\b\b\r",
      "STEP   116 / 871 (thread    2) f\b\b\r",
      "STEP   117 / 871 (thread    3) f\b\b\r",
      "STEP   118 / 871 (thread    1) f\b\b\r",
      "STEP   119 / 871 (thread    4) f\b\b\r",
      "STEP   120 / 871 (thread    0) f\b\b\r",
      "STEP   121 / 871 (thread    5) f\b\b\r",
      "STEP   122 / 871 (thread    2) f\b\b\r",
      "STEP   123 / 871 (thread    3) f\b\b\r",
      "STEP   124 / 871 (thread    1) f\b\b\r",
      "STEP   125 / 871 (thread    4) f\b\b\r",
      "STEP   126 / 871 (thread    0) f\b\b\r",
      "STEP   127 / 871 (thread    3) f\b\b\r",
      "STEP   128 / 871 (thread    1) f\b\b\r",
      "STEP   129 / 871 (thread    5) f\b\b\r",
      "STEP   130 / 871 (thread    0) f\b\b\r",
      "STEP   131 / 871 (thread    3) f\b\b\r",
      "STEP   132 / 871 (thread    2) f\b\b\r",
      "STEP   133 / 871 (thread    1) f\b\b\r",
      "STEP   134 / 871 (thread    5) f\b\b\r",
      "STEP   135 / 871 (thread    4) f\b\b\r",
      "STEP   136 / 871 (thread    0) f\b\b\r",
      "STEP   137 / 871 (thread    3) f\b\b\r",
      "STEP   138 / 871 (thread    2) f\b\b\r",
      "STEP   139 / 871 (thread    1) f\b\b\r",
      "STEP   140 / 871 (thread    5) f\b\b\r",
      "STEP   141 / 871 (thread    4) f\b\b\r",
      "STEP   142 / 871 (thread    0) f\b\b\r",
      "STEP   143 / 871 (thread    3) f\b\b\r",
      "STEP   144 / 871 (thread    2) f\b\b\r",
      "STEP   145 / 871 (thread    1) f\b\b\r",
      "STEP   146 / 871 (thread    5) f\b\b\r",
      "STEP   147 / 871 (thread    4) f\b\b\r",
      "STEP   148 / 871 (thread    0) f\b\b\r",
      "STEP   149 / 871 (thread    3) f\b\b\r",
      "STEP   150 / 871 (thread    2) f\b\b\r",
      "STEP   151 / 871 (thread    1) f\b\b\r",
      "STEP   152 / 871 (thread    5) f\b\b\r",
      "STEP   153 / 871 (thread    4) f\b\b\r",
      "STEP   154 / 871 (thread    3) f\b\b\r",
      "STEP   155 / 871 (thread    1) f\b\b\r",
      "STEP   156 / 871 (thread    5) f\b\b\r",
      "STEP   157 / 871 (thread    4) f\b\b\r",
      "STEP   158 / 871 (thread    0) f\b\b\r",
      "STEP   159 / 871 (thread    1) f\b\b\r",
      "STEP   160 / 871 (thread    3) f\b\b\r",
      "STEP   161 / 871 (thread    2) f\b\b\r",
      "STEP   162 / 871 (thread    5) f\b\b\r",
      "STEP   163 / 871 (thread    4) f\b\b\r",
      "STEP   164 / 871 (thread    0) f\b\b\r",
      "STEP   165 / 871 (thread    3) f\b\b\r",
      "STEP   166 / 871 (thread    1) f\b\b\r",
      "STEP   167 / 871 (thread    2) f\b\b\r",
      "STEP   168 / 871 (thread    4) f\b\b\r",
      "STEP   169 / 871 (thread    0) f\b\b\r",
      "STEP   170 / 871 (thread    1) f\b\b\r",
      "STEP   171 / 871 (thread    3) f\b\b\r",
      "STEP   172 / 871 (thread    2) f\b\b\r",
      "STEP   173 / 871 (thread    5) f\b\b\r",
      "STEP   174 / 871 (thread    4) f\b\b\r",
      "STEP   175 / 871 (thread    0) f\b\b\r",
      "STEP   176 / 871 (thread    3) f\b\b\r",
      "STEP   177 / 871 (thread    2) f\b\b\r",
      "STEP   178 / 871 (thread    0) f\b\b\r",
      "STEP   179 / 871 (thread    1) f\b\b\r",
      "STEP   180 / 871 (thread    5) f\b\b\r",
      "STEP   181 / 871 (thread    4) f\b\b\r",
      "STEP   182 / 871 (thread    3) f\b\b\r",
      "STEP   183 / 871 (thread    2) f\b\b\r",
      "STEP   184 / 871 (thread    0) f\b\b\r",
      "STEP   185 / 871 (thread    1) f\b\b\r",
      "STEP   186 / 871 (thread    5) f\b\b\r",
      "STEP   187 / 871 (thread    4) f\b\b\r",
      "STEP   188 / 871 (thread    3) f\b\b\r",
      "STEP   189 / 871 (thread    2) f\b\b\r",
      "STEP   190 / 871 (thread    5) f\b\b\r",
      "STEP   191 / 871 (thread    4) f\b\b\r",
      "STEP   192 / 871 (thread    0) f\b\b\r",
      "STEP   193 / 871 (thread    1) f\b\b\r",
      "STEP   194 / 871 (thread    5) f\b\b\r",
      "STEP   195 / 871 (thread    4) f\b\b\r",
      "STEP   196 / 871 (thread    0) f\b\b\r",
      "STEP   197 / 871 (thread    1) f\b\b\r",
      "STEP   198 / 871 (thread    3) f\b\b\r",
      "STEP   199 / 871 (thread    2) f\b\b\r",
      "STEP   200 / 871 (thread    5) f\b\b\r",
      "STEP   201 / 871 (thread    4) f\b\b\r",
      "STEP   202 / 871 (thread    1) f\b\b\r",
      "STEP   203 / 871 (thread    3) f\b\b\r",
      "STEP   205 / 871 (thread    2) f\b\b\r",
      "STEP   206 / 871 (thread    5) f\b\b\r",
      "STEP   207 / 871 (thread    4) f\b\b\r",
      "STEP   204 / 871 (thread    0) f\b\b\r",
      "STEP   208 / 871 (thread    1) f\b\b\r",
      "STEP   209 / 871 (thread    3) f\b\b\r",
      "STEP   210 / 871 (thread    2) f\b\b\r",
      "STEP   211 / 871 (thread    4) f\b\b\r",
      "STEP   212 / 871 (thread    3) f\b\b\r",
      "STEP   213 / 871 (thread    1) f\b\b\r",
      "STEP   214 / 871 (thread    2) f\b\b\r",
      "STEP   215 / 871 (thread    0) f\b\b\r",
      "STEP   216 / 871 (thread    5) f\b\b\r",
      "STEP   217 / 871 (thread    3) f\b\b\r",
      "STEP   218 / 871 (thread    0) f\b\b\r",
      "STEP   219 / 871 (thread    4) f\b\b\r",
      "STEP   220 / 871 (thread    3) f\b\b\r",
      "STEP   221 / 871 (thread    1) f\b\b\r",
      "STEP   222 / 871 (thread    2) f\b\b\r",
      "STEP   223 / 871 (thread    5) f\b\b\r",
      "STEP   224 / 871 (thread    0) f\b\b\r",
      "STEP   225 / 871 (thread    3) f\b\b\r",
      "STEP   226 / 871 (thread    1) f\b\b\r",
      "STEP   227 / 871 (thread    2) f\b\b\r",
      "STEP   228 / 871 (thread    4) f\b\b\r",
      "STEP   229 / 871 (thread    5) f\b\b\r",
      "STEP   230 / 871 (thread    2) f\b\b\r",
      "STEP   231 / 871 (thread    0) f\b\b\r",
      "STEP   232 / 871 (thread    3) f\b\b\r",
      "STEP   233 / 871 (thread    1) f\b\b\r",
      "STEP   234 / 871 (thread    4) f\b\b\r",
      "STEP   235 / 871 (thread    3) f\b\b\r",
      "STEP   236 / 871 (thread    1) f\b\b\r",
      "STEP   237 / 871 (thread    2) f\b\b\r",
      "STEP   238 / 871 (thread    0) f\b\b\r",
      "STEP   239 / 871 (thread    4) f\b\b\r",
      "STEP   240 / 871 (thread    5) f\b\b\r",
      "STEP   241 / 871 (thread    3) f\b\b\r",
      "STEP   242 / 871 (thread    4) f\b\b\r",
      "STEP   243 / 871 (thread    1) f\b\b\r",
      "STEP   244 / 871 (thread    2) f\b\b\r",
      "STEP   245 / 871 (thread    0) f\b\b\r",
      "STEP   246 / 871 (thread    5) f\b\b\r",
      "STEP   247 / 871 (thread    4) f\b\b\r",
      "STEP   248 / 871 (thread    1) f\b\b\r",
      "STEP   249 / 871 (thread    4) f\b\b\r",
      "STEP   250 / 871 (thread    3) f\b\b\r",
      "STEP   251 / 871 (thread    2) f\b\b\r",
      "STEP   252 / 871 (thread    4) f\b\b\r",
      "STEP   253 / 871 (thread    5) f\b\b\r",
      "STEP   254 / 871 (thread    0) f\b\b\r",
      "STEP   255 / 871 (thread    3) f\b\b\r",
      "STEP   256 / 871 (thread    1) f\b\b\r",
      "STEP   258 / 871 (thread    5) f\b\b\r",
      "STEP   259 / 871 (thread    4) f\b\b\r",
      "STEP   260 / 871 (thread    0) f\b\b\r",
      "STEP   261 / 871 (thread    3) f\b\b\r",
      "STEP   257 / 871 (thread    2) f\b\b\r",
      "STEP   263 / 871 (thread    5) f\b\b\r",
      "STEP   264 / 871 (thread    4) f\b\b\r",
      "STEP   265 / 871 (thread    0) f\b\b\r",
      "STEP   266 / 871 (thread    3) f\b\b\r",
      "STEP   267 / 871 (thread    2) f\b\b\r",
      "STEP   262 / 871 (thread    1) f\b\b\r",
      "STEP   268 / 871 (thread    5) f\b\b\r",
      "STEP   269 / 871 (thread    4) f\b\b\r",
      "STEP   270 / 871 (thread    5) f\b\b\r",
      "STEP   271 / 871 (thread    0) f\b\b\r",
      "STEP   272 / 871 (thread    3) f\b\b\r",
      "STEP   274 / 871 (thread    1) f\b\b\r",
      "STEP   273 / 871 (thread    2) f\b\b\r",
      "STEP   275 / 871 (thread    5) f\b\b\r",
      "STEP   276 / 871 (thread    0) f\b\b\r",
      "STEP   277 / 871 (thread    3) f\b\b\r",
      "STEP   278 / 871 (thread    4) f\b\b\r",
      "STEP   279 / 871 (thread    1) f\b\b\r",
      "STEP   280 / 871 (thread    5) f\b\b\r",
      "STEP   281 / 871 (thread    2) f\b\b\r",
      "STEP   282 / 871 (thread    0) f\b\b\r",
      "STEP   283 / 871 (thread    3) f\b\b\r",
      "STEP   284 / 871 (thread    1) f\b\b\r",
      "STEP   285 / 871 (thread    2) f\b\b\r",
      "STEP   286 / 871 (thread    0) f\b\b\r",
      "STEP   287 / 871 (thread    3) f\b\b\r",
      "STEP   288 / 871 (thread    4) f\b\b\r",
      "STEP   289 / 871 (thread    5) f\b\b\r",
      "STEP   290 / 871 (thread    1) f\b\b\r",
      "STEP   291 / 871 (thread    0) f\b\b\r",
      "STEP   292 / 871 (thread    2) f\b\b\r",
      "STEP   293 / 871 (thread    3) f\b\b\r",
      "STEP   294 / 871 (thread    4) f\b\b\r",
      "STEP   295 / 871 (thread    5) f\b\b\r",
      "STEP   296 / 871 (thread    4) f\b\b\r",
      "STEP   297 / 871 (thread    1) f\b\b\r",
      "STEP   298 / 871 (thread    2) f\b\b\r",
      "STEP   299 / 871 (thread    3) f\b\b\r",
      "STEP   300 / 871 (thread    0) f\b\b\r",
      "STEP   301 / 871 (thread    3) f\b\b\r",
      "STEP   302 / 871 (thread    5) f\b\b\r",
      "STEP   303 / 871 (thread    0) f\b\b\r",
      "STEP   304 / 871 (thread    1) f\b\b\r",
      "STEP   305 / 871 (thread    4) f\b\b\r",
      "STEP   306 / 871 (thread    3) f\b\b\r",
      "STEP   307 / 871 (thread    2) f\b\b\r",
      "STEP   308 / 871 (thread    1) f\b\b\r",
      "STEP   309 / 871 (thread    3) f\b\b\r",
      "STEP   310 / 871 (thread    2) f\b\b\r",
      "STEP   311 / 871 (thread    5) f\b\b\r",
      "STEP   312 / 871 (thread    1) f\b\b\r",
      "STEP   313 / 871 (thread    3) f\b\b\r",
      "STEP   314 / 871 (thread    2) f\b\b\r",
      "STEP   315 / 871 (thread    4) f\b\b\r",
      "STEP   316 / 871 (thread    0) f\b\b\r",
      "STEP   317 / 871 (thread    3) f\b\b\r",
      "STEP   318 / 871 (thread    2) f\b\b\r",
      "STEP   319 / 871 (thread    5) f\b\b\r",
      "STEP   320 / 871 (thread    1) f\b\b\r",
      "STEP   321 / 871 (thread    2) f\b\b\r",
      "STEP   322 / 871 (thread    4) f\b\b\r",
      "STEP   323 / 871 (thread    0) f\b\b\r",
      "STEP   324 / 871 (thread    3) f\b\b\r",
      "STEP   325 / 871 (thread    0) f\b\b\r",
      "STEP   326 / 871 (thread    5) f\b\b\r",
      "STEP   327 / 871 (thread    1) f\b\b\r",
      "STEP   328 / 871 (thread    3) f\b\b\r",
      "STEP   329 / 871 (thread    0) f\b\b\r",
      "STEP   330 / 871 (thread    5) f\b\b\r",
      "STEP   331 / 871 (thread    4) f\b\b\r",
      "STEP   332 / 871 (thread    2) f\b\b\r",
      "STEP   333 / 871 (thread    1) f\b\b\r",
      "STEP   334 / 871 (thread    3) f\b\b\r",
      "STEP   335 / 871 (thread    0) f\b\b\r",
      "STEP   336 / 871 (thread    5) f\b\b\r",
      "STEP   337 / 871 (thread    2) f\b\b\r",
      "STEP   338 / 871 (thread    4) f\b\b\r",
      "STEP   339 / 871 (thread    1) f\b\b\r",
      "STEP   340 / 871 (thread    4) f\b\b\r",
      "STEP   341 / 871 (thread    3) f\b\b\r",
      "STEP   342 / 871 (thread    0) f\b\b\r",
      "STEP   343 / 871 (thread    4) f\b\b\r",
      "STEP   344 / 871 (thread    5) f\b\b\r",
      "STEP   345 / 871 (thread    1) f\b\b\r",
      "STEP   346 / 871 (thread    3) f\b\b\r",
      "STEP   347 / 871 (thread    4) f\b\b\r",
      "STEP   348 / 871 (thread    2) f\b\b\r",
      "STEP   349 / 871 (thread    1) f\b\b\r",
      "STEP   350 / 871 (thread    0) f\b\b\r",
      "STEP   351 / 871 (thread    5) f\b\b\r",
      "STEP   352 / 871 (thread    4) f\b\b\r",
      "STEP   353 / 871 (thread    2) f\b\b\r",
      "STEP   354 / 871 (thread    3) f\b\b\r",
      "STEP   355 / 871 (thread    1) f\b\b\r",
      "STEP   356 / 871 (thread    0) f\b\b\r",
      "STEP   357 / 871 (thread    2) f\b\b\r",
      "STEP   358 / 871 (thread    5) f\b\b\r",
      "STEP   359 / 871 (thread    1) f\b\b\r",
      "STEP   360 / 871 (thread    4) f\b\b\r",
      "STEP   361 / 871 (thread    1) f\b\b\r",
      "STEP   362 / 871 (thread    2) f\b\b\r",
      "STEP   363 / 871 (thread    3) f\b\b\r",
      "STEP   364 / 871 (thread    5) f\b\b\r",
      "STEP   365 / 871 (thread    0) f\b\b\r",
      "STEP   366 / 871 (thread    4) f\b\b\r",
      "STEP   367 / 871 (thread    2) f\b\b\r",
      "STEP   368 / 871 (thread    1) f\b\b\r",
      "STEP   369 / 871 (thread    0) f\b\b\r",
      "STEP   370 / 871 (thread    3) f\b\b\r",
      "STEP   371 / 871 (thread    4) f\b\b\r",
      "STEP   372 / 871 (thread    5) f\b\b\r",
      "STEP   373 / 871 (thread    2) f\b\b\r",
      "STEP   374 / 871 (thread    1) f\b\b\r",
      "STEP   375 / 871 (thread    0) f\b\b\r",
      "STEP   376 / 871 (thread    3) f\b\b\r",
      "STEP   377 / 871 (thread    5) f\b\b\r",
      "STEP   378 / 871 (thread    1) f\b\b\r",
      "STEP   379 / 871 (thread    4) f\b\b\r",
      "STEP   380 / 871 (thread    3) f\b\b\r",
      "STEP   381 / 871 (thread    2) f\b\b\r",
      "STEP   382 / 871 (thread    4) f\b\b\r",
      "STEP   383 / 871 (thread    0) f\b\b\r",
      "STEP   384 / 871 (thread    2) f\b\b\r",
      "STEP   385 / 871 (thread    5) f\b\b\r",
      "STEP   388 / 871 (thread    3) f\b\b\r",
      "STEP   389 / 871 (thread    0) f\b\b\r",
      "STEP   390 / 871 (thread    2) f\b\b\r",
      "STEP   391 / 871 (thread    5) f\b\b\r",
      "STEP   387 / 871 (thread    4) f\b\b\r",
      "STEP   386 / 871 (thread    1) f\b\b\r",
      "STEP   392 / 871 (thread    3) f\b\b\r",
      "STEP   393 / 871 (thread    2) f\b\b\r",
      "STEP   394 / 871 (thread    5) f\b\b\r",
      "STEP   395 / 871 (thread    4) f\b\b\r",
      "STEP   396 / 871 (thread    1) f\b\b\r",
      "STEP   397 / 871 (thread    0) f\b\b\r",
      "STEP   398 / 871 (thread    3) f\b\b\r",
      "STEP   400 / 871 (thread    5) f\b\b\r",
      "STEP   401 / 871 (thread    4) f\b\b\r",
      "STEP   402 / 871 (thread    1) f\b\b\r",
      "STEP   399 / 871 (thread    2) f\b\b\r",
      "STEP   403 / 871 (thread    0) f\b\b\r",
      "STEP   404 / 871 (thread    5) f\b\b\r",
      "STEP   405 / 871 (thread    4) f\b\b\r",
      "STEP   406 / 871 (thread    1) f\b\b\r",
      "STEP   407 / 871 (thread    3) f\b\b\r",
      "STEP   408 / 871 (thread    5) f\b\b\r",
      "STEP   410 / 871 (thread    2) f\b\b\r",
      "STEP   409 / 871 (thread    1) f\b\b\r",
      "STEP   411 / 871 (thread    0) f\b\b\r",
      "STEP   412 / 871 (thread    3) f\b\b\r",
      "STEP   413 / 871 (thread    4) f\b\b\r",
      "STEP   414 / 871 (thread    5) f\b\b\r",
      "STEP   415 / 871 (thread    1) f\b\b\r",
      "STEP   416 / 871 (thread    3) f\b\b\r",
      "STEP   417 / 871 (thread    2) f\b\b\r",
      "STEP   418 / 871 (thread    4) f\b\b\r",
      "STEP   419 / 871 (thread    0) f\b\b\r",
      "STEP   420 / 871 (thread    1) f\b\b\r",
      "STEP   421 / 871 (thread    4) f\b\b\r",
      "STEP   422 / 871 (thread    1) f\b\b\r",
      "STEP   423 / 871 (thread    5) f\b\b\r",
      "STEP   424 / 871 (thread    3) f\b\b\r",
      "STEP   425 / 871 (thread    4) f\b\b\r",
      "STEP   426 / 871 (thread    2) f\b\b\r",
      "STEP   427 / 871 (thread    0) f\b\b\r",
      "STEP   428 / 871 (thread    5) f\b\b\r",
      "STEP   429 / 871 (thread    1) f\b\b\r",
      "STEP   430 / 871 (thread    4) f\b\b\r",
      "STEP   431 / 871 (thread    2) f\b\b\r",
      "STEP   432 / 871 (thread    0) f\b\b\r",
      "STEP   433 / 871 (thread    3) f\b\b\r",
      "STEP   434 / 871 (thread    1) f\b\b\r",
      "STEP   435 / 871 (thread    4) f\b\b\r",
      "STEP   436 / 871 (thread    2) f\b\b\r",
      "STEP   437 / 871 (thread    0) f\b\b\r",
      "STEP   438 / 871 (thread    3) f\b\b\r",
      "STEP   439 / 871 (thread    5) f\b\b\r",
      "STEP   440 / 871 (thread    0) f\b\b\r",
      "STEP   441 / 871 (thread    2) f\b\b\r",
      "STEP   442 / 871 (thread    4) f\b\b\r",
      "STEP   443 / 871 (thread    3) f\b\b\r",
      "STEP   444 / 871 (thread    1) f\b\b\r",
      "STEP   445 / 871 (thread    5) f\b\b\r",
      "STEP   446 / 871 (thread    2) f\b\b\r",
      "STEP   447 / 871 (thread    4) f\b\b\r",
      "STEP   448 / 871 (thread    0) f\b\b\r",
      "STEP   449 / 871 (thread    3) f\b\b\r",
      "STEP   450 / 871 (thread    5) f\b\b\r",
      "STEP   451 / 871 (thread    1) f\b\b\r",
      "STEP   452 / 871 (thread    2) f\b\b\r",
      "STEP   453 / 871 (thread    0) f\b\b\r",
      "STEP   454 / 871 (thread    4) f\b\b\r",
      "STEP   455 / 871 (thread    3) f\b\b\r",
      "STEP   456 / 871 (thread    5) f\b\b\r",
      "STEP   457 / 871 (thread    1) f\b\b\r",
      "STEP   458 / 871 (thread    0) f\b\b\r",
      "STEP   459 / 871 (thread    2) f\b\b\r",
      "STEP   460 / 871 (thread    4) f\b\b"
     ]
    },
    {
     "name": "stderr",
     "output_type": "stream",
     "text": [
      "\r",
      "STEP   461 / 871 (thread    3) f\b\b\r",
      "STEP   462 / 871 (thread    5) f\b\b\r",
      "STEP   463 / 871 (thread    1) f\b\b\r",
      "STEP   464 / 871 (thread    3) f\b\b\r",
      "STEP   466 / 871 (thread    4) f\b\b\r",
      "STEP   467 / 871 (thread    2) f\b\b\r",
      "STEP   468 / 871 (thread    1) f\b\b\r",
      "STEP   469 / 871 (thread    5) f\b\b\r",
      "STEP   470 / 871 (thread    4) f\b\b\r",
      "STEP   465 / 871 (thread    0) f\b\b\r",
      "STEP   471 / 871 (thread    2) f\b\b\r",
      "STEP   472 / 871 (thread    3) f\b\b\r",
      "STEP   473 / 871 (thread    2) f\b\b\r",
      "STEP   474 / 871 (thread    4) f\b\b\r",
      "STEP   475 / 871 (thread    2) f\b\b\r",
      "STEP   476 / 871 (thread    1) f\b\b\r",
      "STEP   477 / 871 (thread    5) f\b\b\r",
      "STEP   478 / 871 (thread    3) f\b\b\r",
      "STEP   479 / 871 (thread    0) f\b\b\r",
      "STEP   480 / 871 (thread    4) f\b\b\r",
      "STEP   481 / 871 (thread    0) f\b\b\r",
      "STEP   482 / 871 (thread    2) f\b\b\r",
      "STEP   484 / 871 (thread    4) f\b\b\r",
      "STEP   485 / 871 (thread    3) f\b\b\r",
      "STEP   486 / 871 (thread    0) f\b\b\r",
      "STEP   487 / 871 (thread    3) f\b\b\r",
      "STEP   489 / 871 (thread    3) f\b\b\r",
      "STEP   490 / 871 (thread    0) f\b\b\r",
      "STEP   491 / 871 (thread    4) f\b\b\r",
      "STEP   492 / 871 (thread    1) f\b\b\r",
      "STEP   483 / 871 (thread    5) f\b\b\r",
      "STEP   493 / 871 (thread    0) f\b\b\r",
      "STEP   495 / 871 (thread    3) f\b\b\r",
      "STEP   496 / 871 (thread    4) f\b\b\r",
      "STEP   494 / 871 (thread    1) f\b\b\r",
      "STEP   498 / 871 (thread    4) f\b\b\r",
      "STEP   499 / 871 (thread    3) f\b\b\r",
      "STEP   500 / 871 (thread    1) f\b\b\r",
      "STEP   488 / 871 (thread    2) f\b\b\r",
      "STEP   501 / 871 (thread    5) f\b\b\r",
      "STEP   497 / 871 (thread    0) f\b\b\r",
      "STEP   601 / 871 (thread    5) f\b\b\r",
      "STEP   701 / 871 (thread    1) f\b\b\r",
      "STEP   801 / 871 (thread    4) f\b\b\n",
      "Reallocating..done. *alloclen = 1861\n",
      "\n",
      "done.\n",
      "\n",
      "disttbfast (nuc) Version 7.520\n",
      "alg=A, model=DNA200 (2), 1.53 (4.59), -0.00 (-0.00), noshift, amax=0.0\n",
      "6 thread(s)\n",
      "\n",
      "\n",
      "Strategy:\n",
      " FFT-NS-2 (Fast but rough)\n",
      " Progressive method (guide trees were built 2 times.)\n",
      "\n",
      "If unsure which option to use, try 'mafft --auto input > output'.\n",
      "For more information, see 'mafft --help', 'mafft --man' and the mafft page.\n",
      "\n",
      "The default gap scoring scheme has been changed in version 7.110 (2013 Oct).\n",
      "It tends to insert more gaps into gap-rich regions than previous versions.\n",
      "To disable this change, add the --leavegappyregion option.\n",
      "\n"
     ]
    },
    {
     "name": "stdout",
     "output_type": "stream",
     "text": [
      "Running external command line application. This may print messages to stdout and/or stderr.\n",
      "The command being run is below. This command cannot be manually re-run as it will depend on temporary files that no longer exist.\n",
      "\n",
      "Command: FastTreeMP -quote -nt /tmp/qiime2/lauro/data/d5d87366-6152-4402-b20c-ded97090f873/data/aligned-dna-sequences.fasta\n",
      "\n"
     ]
    },
    {
     "name": "stderr",
     "output_type": "stream",
     "text": [
      "FastTree Version 2.1.11 Double precision (No SSE3), OpenMP (6 threads)\n",
      "Alignment: /tmp/qiime2/lauro/data/d5d87366-6152-4402-b20c-ded97090f873/data/aligned-dna-sequences.fasta\n",
      "Nucleotide distances: Jukes-Cantor Joins: balanced Support: SH-like 1000\n",
      "Search: Normal +NNI +SPR (2 rounds range 10) +ML-NNI opt-each=1\n",
      "TopHits: 1.00*sqrtN close=default refresh=0.80\n",
      "ML Model: Jukes-Cantor, CAT approximation with 20 rate categories\n",
      "      0.11 seconds: Joined    300 of    842\n"
     ]
    },
    {
     "name": "stderr",
     "output_type": "stream",
     "text": [
      "      0.21 seconds: Joined    600 of    842\n",
      "Initial topology in 0.27 seconds\n",
      "Refining topology: 39 rounds ME-NNIs, 2 rounds ME-SPRs, 19 rounds ML-NNIs\n",
      "      0.31 seconds: ME NNI round 3 of 39, 201 of 843 splits, 14 changes (max delta 0.011)\n"
     ]
    },
    {
     "name": "stderr",
     "output_type": "stream",
     "text": [
      "      0.44 seconds: SPR round   1 of   2, 301 of 1688 nodes\n",
      "      0.55 seconds: SPR round   1 of   2, 601 of 1688 nodes\n"
     ]
    },
    {
     "name": "stderr",
     "output_type": "stream",
     "text": [
      "      0.67 seconds: SPR round   1 of   2, 901 of 1688 nodes\n",
      "      0.77 seconds: SPR round   1 of   2, 1201 of 1688 nodes\n"
     ]
    },
    {
     "name": "stderr",
     "output_type": "stream",
     "text": [
      "      0.89 seconds: SPR round   1 of   2, 1501 of 1688 nodes\n",
      "      1.00 seconds: SPR round   2 of   2, 1 of 1688 nodes\n"
     ]
    },
    {
     "name": "stderr",
     "output_type": "stream",
     "text": [
      "      1.13 seconds: SPR round   2 of   2, 401 of 1688 nodes\n",
      "      1.24 seconds: SPR round   2 of   2, 701 of 1688 nodes\n"
     ]
    },
    {
     "name": "stderr",
     "output_type": "stream",
     "text": [
      "      1.35 seconds: SPR round   2 of   2, 1001 of 1688 nodes\n",
      "      1.45 seconds: SPR round   2 of   2, 1301 of 1688 nodes\n"
     ]
    },
    {
     "name": "stderr",
     "output_type": "stream",
     "text": [
      "      1.57 seconds: SPR round   2 of   2, 1601 of 1688 nodes\n",
      "Total branch-length 18.934 after 1.64 sec\n",
      "      1.68 seconds: ML Lengths 301 of 843 splits\n"
     ]
    },
    {
     "name": "stderr",
     "output_type": "stream",
     "text": [
      "      1.78 seconds: ML NNI round 1 of 19, 101 of 843 splits, 21 changes (max delta 4.384)\n",
      "      1.89 seconds: ML NNI round 1 of 19, 501 of 843 splits, 67 changes (max delta 15.563)\n",
      "ML-NNI round 1: LogLk = -49937.636 NNIs 117 max delta 15.56 Time 1.97\n"
     ]
    },
    {
     "name": "stderr",
     "output_type": "stream",
     "text": [
      "      1.99 seconds: Site likelihoods with rate category 4 of 20\n",
      "Switched to using 20 rate categories (CAT approximation)\n",
      "Rate categories were divided by 1.117 so that average rate = 1.0\n",
      "CAT-based log-likelihoods may not be comparable across runs\n",
      "Use -gamma for approximate but comparable Gamma(20) log-likelihoods\n",
      "      2.10 seconds: ML NNI round 2 of 19, 101 of 843 splits, 10 changes (max delta 0.722)\n"
     ]
    },
    {
     "name": "stderr",
     "output_type": "stream",
     "text": [
      "      2.21 seconds: ML NNI round 2 of 19, 501 of 843 splits, 43 changes (max delta 6.218)\n",
      "ML-NNI round 2: LogLk = -41529.445 NNIs 67 max delta 6.22 Time 2.31\n",
      "      2.33 seconds: ML NNI round 3 of 19, 101 of 843 splits, 4 changes (max delta 1.818)\n"
     ]
    },
    {
     "name": "stderr",
     "output_type": "stream",
     "text": [
      "      2.44 seconds: ML NNI round 3 of 19, 501 of 843 splits, 20 changes (max delta 2.831)\n",
      "ML-NNI round 3: LogLk = -41508.477 NNIs 20 max delta 2.83 Time 2.45\n",
      "ML-NNI round 4: LogLk = -41501.554 NNIs 5 max delta 3.16 Time 2.53\n",
      "      2.55 seconds: ML NNI round 5 of 19, 101 of 843 splits, 2 changes (max delta 3.172)\n",
      "ML-NNI round 5: LogLk = -41498.137 NNIs 2 max delta 3.17 Time 2.56\n",
      "ML-NNI round 6: LogLk = -41498.137 NNIs 1 max delta 0.00 Time 2.58\n",
      "Turning off heuristics for final round of ML NNIs (converged)\n"
     ]
    },
    {
     "name": "stderr",
     "output_type": "stream",
     "text": [
      "      2.67 seconds: ML NNI round 7 of 19, 401 of 843 splits, 4 changes (max delta 1.882)\n",
      "      2.78 seconds: ML NNI round 7 of 19, 801 of 843 splits, 6 changes (max delta 1.882)\n",
      "ML-NNI round 7: LogLk = -41493.987 NNIs 6 max delta 1.88 Time 2.80 (final)\n"
     ]
    },
    {
     "name": "stderr",
     "output_type": "stream",
     "text": [
      "      2.89 seconds: ML Lengths 801 of 843 splits\n",
      "Optimize all lengths: LogLk = -41493.461 Time 2.90\n",
      "      3.03 seconds: ML split tests for    200 of    842 internal splits\n"
     ]
    },
    {
     "name": "stderr",
     "output_type": "stream",
     "text": [
      "      3.16 seconds: ML split tests for    400 of    842 internal splits\n",
      "      3.29 seconds: ML split tests for    600 of    842 internal splits\n"
     ]
    },
    {
     "name": "stderr",
     "output_type": "stream",
     "text": [
      "      3.42 seconds: ML split tests for    800 of    842 internal splits\n",
      "Total time: 3.46 seconds Unique: 845/872 Bad splits: 0/842\n"
     ]
    }
   ],
   "source": [
    "mafft_alignment, mafft_masked_alignment, mafft_tree, mafft_rooted_tree = align_to_tree_mafft_fasttree(\n",
    "    sequences=reps, n_threads=6, )"
   ]
  },
  {
   "cell_type": "markdown",
   "id": "0768d598",
   "metadata": {
    "papermill": {
     "duration": 0.004292,
     "end_time": "2024-03-05T23:45:31.037814",
     "exception": false,
     "start_time": "2024-03-05T23:45:31.033522",
     "status": "completed"
    },
    "tags": []
   },
   "source": [
    "### Compute Alpha Diversity (Phylogeny)\n",
    "- [diversity alpha_phylogenetic](https://docs.qiime2.org/2022.8/plugins/available/diversity/alpha-phylogenetic/): Computes a user-specified phylogenetic alpha diversity metric for all samples in a feature table.\n",
    "- Metrics: Choices ('faith_pd')"
   ]
  },
  {
   "cell_type": "code",
   "execution_count": 11,
   "id": "0383aa19",
   "metadata": {
    "ExecuteTime": {
     "end_time": "2022-09-29T20:54:35.310009Z",
     "start_time": "2022-09-29T20:54:35.141333Z"
    },
    "execution": {
     "iopub.execute_input": "2024-03-05T23:45:31.047327Z",
     "iopub.status.busy": "2024-03-05T23:45:31.047141Z",
     "iopub.status.idle": "2024-03-05T23:45:31.145098Z",
     "shell.execute_reply": "2024-03-05T23:45:31.144558Z"
    },
    "papermill": {
     "duration": 0.104025,
     "end_time": "2024-03-05T23:45:31.146198",
     "exception": false,
     "start_time": "2024-03-05T23:45:31.042173",
     "status": "completed"
    },
    "tags": []
   },
   "outputs": [
    {
     "name": "stdout",
     "output_type": "stream",
     "text": [
      "Calculating alpha diversity: faith_pd\n",
      "Running external command line application. This may print messages to stdout and/or stderr.\n",
      "The command being run is below. This command cannot be manually re-run as it will depend on temporary files that no longer exist.\n",
      "\n",
      "Command:\n",
      "\n",
      "faithpd -i /tmp/qiime2/lauro/data/a4c9fa95-34c4-46a0-bd3c-154b8c52b589/data/feature-table.biom -t /tmp/qiime2/lauro/data/6b37e57d-6c12-4783-8939-d593ad4f393d/data/tree.nwk -o /tmp/q2-AlphaDiversityFormat-x32w5e8l\n",
      "\n",
      "DONE: Calculating alpha phylogeny: faith_pd\n"
     ]
    }
   ],
   "source": [
    "metrics = ('faith_pd', )\n",
    "alpha_diversities_phylogenetic = dict()\n",
    "for metric in metrics:\n",
    "    print(f\"Calculating alpha diversity: {metric}\")\n",
    "    try:\n",
    "        alpha_diversity = alpha_phylogenetic(table=tabs, phylogeny=mafft_rooted_tree, metric=metric).alpha_diversity\n",
    "        alpha_diversities_phylogenetic[metric] = alpha_diversity\n",
    "        # Save Artifact\n",
    "        file_path = os.path.join(alpha_path, f'alpha-phylogeny-{metric}.qza')\n",
    "        alpha_diversity.save(file_path)\n",
    "        print(f\"DONE: Calculating alpha phylogeny: {metric}\")\n",
    "    except Exception as e:\n",
    "        print(f\"ERROR: Calculating alpha phylogeny: {metric}\")"
   ]
  },
  {
   "cell_type": "markdown",
   "id": "42db1ead",
   "metadata": {
    "papermill": {
     "duration": 0.004432,
     "end_time": "2024-03-05T23:45:31.155262",
     "exception": false,
     "start_time": "2024-03-05T23:45:31.150830",
     "status": "completed"
    },
    "tags": []
   },
   "source": [
    "- [core-metrics-phylogenetic](https://docs.qiime2.org/2023.7/plugins/available/diversity/core-metrics-phylogenetic/)"
   ]
  },
  {
   "cell_type": "code",
   "execution_count": 12,
   "id": "ef726ab7",
   "metadata": {
    "execution": {
     "iopub.execute_input": "2024-03-05T23:45:31.164690Z",
     "iopub.status.busy": "2024-03-05T23:45:31.164506Z",
     "iopub.status.idle": "2024-03-05T23:45:32.934339Z",
     "shell.execute_reply": "2024-03-05T23:45:32.933785Z"
    },
    "papermill": {
     "duration": 1.77605,
     "end_time": "2024-03-05T23:45:32.935575",
     "exception": false,
     "start_time": "2024-03-05T23:45:31.159525",
     "status": "completed"
    },
    "tags": []
   },
   "outputs": [
    {
     "name": "stderr",
     "output_type": "stream",
     "text": [
      "/home/lauro/anaconda3/envs/qiime2-2023.5/lib/python3.8/site-packages/sklearn/metrics/pairwise.py:1761: DataConversionWarning: Data was converted to boolean for metric jaccard\n",
      "  warnings.warn(msg, DataConversionWarning)\n"
     ]
    },
    {
     "name": "stdout",
     "output_type": "stream",
     "text": [
      "Running external command line application. This may print messages to stdout and/or stderr.\n",
      "The command being run is below. This command cannot be manually re-run as it will depend on temporary files that no longer exist.\n",
      "\n",
      "Command:\n",
      "\n",
      "faithpd -i /tmp/qiime2/lauro/data/468b6cb4-700c-4de4-bf46-297d7ffa4cd8/data/feature-table.biom -t /tmp/qiime2/lauro/data/6b37e57d-6c12-4783-8939-d593ad4f393d/data/tree.nwk -o /tmp/q2-AlphaDiversityFormat-865lbogw\n",
      "\n",
      "Running external command line application. This may print messages to stdout and/or stderr.\n",
      "The command being run is below. This command cannot be manually re-run as it will depend on temporary files that no longer exist.\n",
      "\n",
      "Command:\n",
      "\n",
      "ssu -i /tmp/qiime2/lauro/data/468b6cb4-700c-4de4-bf46-297d7ffa4cd8/data/feature-table.biom -t /tmp/qiime2/lauro/data/6b37e57d-6c12-4783-8939-d593ad4f393d/data/tree.nwk -m unweighted -o /tmp/q2-LSMatFormat-fr17d7wu\n",
      "\n"
     ]
    },
    {
     "name": "stdout",
     "output_type": "stream",
     "text": [
      "Running external command line application. This may print messages to stdout and/or stderr.\n",
      "The command being run is below. This command cannot be manually re-run as it will depend on temporary files that no longer exist.\n",
      "\n",
      "Command:\n",
      "\n",
      "ssu -i /tmp/qiime2/lauro/data/468b6cb4-700c-4de4-bf46-297d7ffa4cd8/data/feature-table.biom -t /tmp/qiime2/lauro/data/6b37e57d-6c12-4783-8939-d593ad4f393d/data/tree.nwk -m weighted_unnormalized -o /tmp/q2-LSMatFormat-2u7f_f8n\n",
      "\n"
     ]
    },
    {
     "name": "stderr",
     "output_type": "stream",
     "text": [
      "/home/lauro/anaconda3/envs/qiime2-2023.5/lib/python3.8/site-packages/skbio/stats/ordination/_principal_coordinate_analysis.py:143: RuntimeWarning: The result contains negative eigenvalues. Please compare their magnitude with the magnitude of some of the largest positive eigenvalues. If the negative ones are smaller, it's probably safe to ignore them, but if they are large in magnitude, the results won't be useful. See the Notes section for more details. The smallest eigenvalue is -0.0026223942374972264 and the largest is 0.7250288703282047.\n",
      "  warn(\n"
     ]
    }
   ],
   "source": [
    "s_depth = int(tabs.view(pd.DataFrame).sum(axis=1).min())\n",
    "results = core_metrics_phylogenetic(\n",
    "    table = tabs,\n",
    "    phylogeny = mafft_rooted_tree,\n",
    "    sampling_depth = s_depth,\n",
    "    metadata = metadata_qa,\n",
    "    n_jobs_or_threads = 6,\n",
    ")"
   ]
  },
  {
   "cell_type": "code",
   "execution_count": 13,
   "id": "19311218",
   "metadata": {
    "execution": {
     "iopub.execute_input": "2024-03-05T23:45:32.946436Z",
     "iopub.status.busy": "2024-03-05T23:45:32.946260Z",
     "iopub.status.idle": "2024-03-05T23:45:32.949882Z",
     "shell.execute_reply": "2024-03-05T23:45:32.949542Z"
    },
    "papermill": {
     "duration": 0.010313,
     "end_time": "2024-03-05T23:45:32.950757",
     "exception": false,
     "start_time": "2024-03-05T23:45:32.940444",
     "status": "completed"
    },
    "tags": []
   },
   "outputs": [],
   "source": [
    "results_info = [(\"rarefied_table\", \"FeatureTable[Frequency]\", \"The resulting rarefied feature table.\"),\n",
    "(\"faith_pd_vector\", \"SampleData[AlphaDiversity]\", \"Vector of Faith PD values by sample.\"),\n",
    "(\"observed_features_vector\", \"SampleData[AlphaDiversity]\", \"Vector of Observed Features values by sample.\"),\n",
    "(\"shannon_vector\", \"SampleData[AlphaDiversity]\", \"Vector of Shannon diversity values by sample.\"),\n",
    "(\"evenness_vector\", \"SampleData[AlphaDiversity]\", \"Vector of Pielou's evenness values by sample.\"),\n",
    "(\"unweighted_unifrac_distance_matrix\", \"DistanceMatrix\", \"Matrix of unweighted UniFrac distances between pairs of samples.\"),\n",
    "(\"weighted_unifrac_distance_matrix\", \"DistanceMatrix\", \"Matrix of weighted UniFrac distances between pairs of samples.\"),\n",
    "(\"jaccard_distance_matrix\", \"DistanceMatrix\", \"Matrix of Jaccard distances between pairs of samples.\"),\n",
    "(\"bray_curtis_distance_matrix\", \"DistanceMatrix\", \"Matrix of Bray-Curtis distances between pairs of samples.\"),\n",
    "(\"unweighted_unifrac_pcoa_results\", \"PCoAResults\", \"PCoA matrix computed from unweighted UniFrac distances between samples.\"),\n",
    "(\"weighted_unifrac_pcoa_results\", \"PCoAResults\", \"PCoA matrix computed from weighted UniFrac distances between samples.\"),\n",
    "(\"jaccard_pcoa_results\", \"PCoAResults\", \"PCoA matrix computed from Jaccard distances between samples.\"),\n",
    "(\"bray_curtis_pcoa_results\", \"PCoAResults\", \"PCoA matrix computed from Bray-Curtis distances between samples.\"),\n",
    "(\"unweighted_unifrac_emperor\", \"Visualization\", \"Emperor plot of the PCoA matrix computed from unweighted UniFrac.\"),\n",
    "(\"weighted_unifrac_emperor\", \"Visualization\", \"Emperor plot of the PCoA matrix computed from weighted UniFrac.\"),\n",
    "(\"jaccard_emperor\", \"Visualization\", \"Emperor plot of the PCoA matrix computed from Jaccard.\"),\n",
    "(\"bray_curtis_emperor\", \"Visualization\", \"Emperor plot of the PCoA matrix computed from Bray-Curtis.\")]"
   ]
  },
  {
   "cell_type": "code",
   "execution_count": 14,
   "id": "2264925a",
   "metadata": {
    "execution": {
     "iopub.execute_input": "2024-03-05T23:45:32.961176Z",
     "iopub.status.busy": "2024-03-05T23:45:32.961050Z",
     "iopub.status.idle": "2024-03-05T23:45:33.247360Z",
     "shell.execute_reply": "2024-03-05T23:45:33.246907Z"
    },
    "papermill": {
     "duration": 0.29297,
     "end_time": "2024-03-05T23:45:33.248372",
     "exception": false,
     "start_time": "2024-03-05T23:45:32.955402",
     "status": "completed"
    },
    "tags": []
   },
   "outputs": [
    {
     "name": "stdout",
     "output_type": "stream",
     "text": [
      "13 unweighted_unifrac_emperor Visualization\n",
      "--- Emperor plot of the PCoA matrix computed from unweighted UniFrac. ---\n",
      "Saving emperor file at: /mnt/nupeb/rede-micro/redemicro-ana-flavia-nutri/experiments/ana-flavia-NCxHSD-NC-trim/qiime-artifacts/beta-analysis/unweighted_unifrac_emperor.qzv\n",
      "\n",
      "14 weighted_unifrac_emperor Visualization\n",
      "--- Emperor plot of the PCoA matrix computed from weighted UniFrac. ---\n",
      "Saving emperor file at: /mnt/nupeb/rede-micro/redemicro-ana-flavia-nutri/experiments/ana-flavia-NCxHSD-NC-trim/qiime-artifacts/beta-analysis/weighted_unifrac_emperor.qzv\n",
      "\n",
      "15 jaccard_emperor Visualization\n",
      "--- Emperor plot of the PCoA matrix computed from Jaccard. ---\n",
      "Saving emperor file at: /mnt/nupeb/rede-micro/redemicro-ana-flavia-nutri/experiments/ana-flavia-NCxHSD-NC-trim/qiime-artifacts/beta-analysis/jaccard_emperor.qzv\n",
      "\n"
     ]
    },
    {
     "name": "stdout",
     "output_type": "stream",
     "text": [
      "16 bray_curtis_emperor Visualization\n",
      "--- Emperor plot of the PCoA matrix computed from Bray-Curtis. ---\n",
      "Saving emperor file at: /mnt/nupeb/rede-micro/redemicro-ana-flavia-nutri/experiments/ana-flavia-NCxHSD-NC-trim/qiime-artifacts/beta-analysis/bray_curtis_emperor.qzv\n",
      "\n"
     ]
    }
   ],
   "source": [
    "distance_matrix = dict()\n",
    "for i, info in enumerate(results_info):\n",
    "    r_id, r_type, r_desc = info\n",
    "    #print(i, r_id, r_type)\n",
    "    file_name = f\"{r_id}.qzv\"\n",
    "    if r_type == \"FeatureTable[Frequency]\":\n",
    "        pass\n",
    "    elif r_type == \"DistanceMatrix\":\n",
    "        distance_matrix[r_id] = results[i]\n",
    "    elif r_id.endswith('emperor'):\n",
    "        print(i, r_id, r_type)\n",
    "        print(f\"--- {r_desc} ---\")\n",
    "        file_name = os.path.join(beta_path, file_name)\n",
    "        print(f'Saving emperor file at: {file_name}\\n')\n",
    "        results[i].save(filepath=file_name)"
   ]
  },
  {
   "cell_type": "markdown",
   "id": "c7752cfd",
   "metadata": {
    "papermill": {
     "duration": 0.004557,
     "end_time": "2024-03-05T23:45:33.257824",
     "exception": false,
     "start_time": "2024-03-05T23:45:33.253267",
     "status": "completed"
    },
    "tags": []
   },
   "source": [
    "### Alpha diversity correlation\n",
    "\n",
    "This method only process `numeric` columns.\n"
   ]
  },
  {
   "cell_type": "code",
   "execution_count": 15,
   "id": "2814f613",
   "metadata": {
    "ExecuteTime": {
     "end_time": "2022-09-29T20:54:35.317618Z",
     "start_time": "2022-09-29T20:54:35.312094Z"
    },
    "execution": {
     "iopub.execute_input": "2024-03-05T23:45:33.267812Z",
     "iopub.status.busy": "2024-03-05T23:45:33.267537Z",
     "iopub.status.idle": "2024-03-05T23:45:33.271816Z",
     "shell.execute_reply": "2024-03-05T23:45:33.271385Z"
    },
    "papermill": {
     "duration": 0.010301,
     "end_time": "2024-03-05T23:45:33.272730",
     "exception": false,
     "start_time": "2024-03-05T23:45:33.262429",
     "status": "completed"
    },
    "tags": []
   },
   "outputs": [],
   "source": [
    "methods = ('spearman', 'pearson')\n",
    "numerics_cols = metadata_qa.filter_columns(column_type='numeric')\n",
    "if numerics_cols.column_count > 0:\n",
    "    for metric, alpha_values in alpha_diversities.items():\n",
    "        for method in methods:\n",
    "            try:\n",
    "                corr_view = alpha_correlation(alpha_diversity=alpha_values, metadata=numerics_cols, \n",
    "                                          method=method, intersect_ids=True).visualization\n",
    "                view_path = os.path.join(alpha_path, f'alpha-correlation-{metric}-{method}.qzv')\n",
    "                corr_view.save(view_path)\n",
    "                corr_view\n",
    "                print(f\"DONE: Calculating alpha correlation: {metric} {method}\")\n",
    "            except Exception as e:\n",
    "                print(f\"ERROR: Calculating alpha correlation: {metric} {method}\")"
   ]
  },
  {
   "cell_type": "markdown",
   "id": "8ea83c8a",
   "metadata": {
    "papermill": {
     "duration": 0.004559,
     "end_time": "2024-03-05T23:45:33.281964",
     "exception": false,
     "start_time": "2024-03-05T23:45:33.277405",
     "status": "completed"
    },
    "tags": []
   },
   "source": [
    "## Alpha diversity comparisons\n",
    "\n",
    "Visually and statistically compare groups of alpha diversity values.\n",
    "\n",
    "[diversity alpha_group_significance](https://docs.qiime2.org/2022.8/plugins/available/diversity/alpha-group-significance/)"
   ]
  },
  {
   "cell_type": "code",
   "execution_count": 16,
   "id": "276d1c18",
   "metadata": {
    "ExecuteTime": {
     "end_time": "2022-09-29T20:54:36.089290Z",
     "start_time": "2022-09-29T20:54:35.318963Z"
    },
    "execution": {
     "iopub.execute_input": "2024-03-05T23:45:33.291663Z",
     "iopub.status.busy": "2024-03-05T23:45:33.291501Z",
     "iopub.status.idle": "2024-03-05T23:45:33.756656Z",
     "shell.execute_reply": "2024-03-05T23:45:33.756201Z"
    },
    "papermill": {
     "duration": 0.471077,
     "end_time": "2024-03-05T23:45:33.757591",
     "exception": false,
     "start_time": "2024-03-05T23:45:33.286514",
     "status": "completed"
    },
    "tags": []
   },
   "outputs": [
    {
     "name": "stdout",
     "output_type": "stream",
     "text": [
      "Processing alpha_group_significance: chao1\n"
     ]
    },
    {
     "name": "stdout",
     "output_type": "stream",
     "text": [
      "DONE: Calculating alpha group significance: chao1\n",
      "Processing alpha_group_significance: chao1_ci\n",
      "ERROR: Calculating alpha group significance: chao1_ci\n",
      "Processing alpha_group_significance: observed_features\n",
      "DONE: Calculating alpha group significance: observed_features\n",
      "Processing alpha_group_significance: shannon\n"
     ]
    },
    {
     "name": "stdout",
     "output_type": "stream",
     "text": [
      "DONE: Calculating alpha group significance: shannon\n",
      "Processing alpha_group_significance: simpson\n"
     ]
    },
    {
     "name": "stdout",
     "output_type": "stream",
     "text": [
      "DONE: Calculating alpha group significance: simpson\n",
      "Processing alpha_group_significance: simpson_e\n",
      "DONE: Calculating alpha group significance: simpson_e\n"
     ]
    }
   ],
   "source": [
    "for metric, alpha_values in alpha_diversities.items():\n",
    "    print(f\"Processing alpha_group_significance: {metric}\")\n",
    "    try:\n",
    "        significance_view = alpha_group_significance(alpha_diversity=alpha_values, metadata=metadata_qa).visualization\n",
    "        view_path = os.path.join(alpha_path, f'alpha-group-significance-{metric}.qzv')\n",
    "        significance_view.save(view_path)\n",
    "        significance_view\n",
    "        print(f\"DONE: Calculating alpha group significance: {metric}\")\n",
    "    except Exception as e:\n",
    "        print(f\"ERROR: Calculating alpha group significance: {metric}\")"
   ]
  },
  {
   "cell_type": "markdown",
   "id": "4349d357",
   "metadata": {
    "papermill": {
     "duration": 0.00476,
     "end_time": "2024-03-05T23:45:33.767391",
     "exception": false,
     "start_time": "2024-03-05T23:45:33.762631",
     "status": "completed"
    },
    "tags": []
   },
   "source": [
    "## Beta diversity analysis\n",
    "\n",
    "#### Reference\n",
    "- [diversity beta](https://docs.qiime2.org/2022.8/plugins/available/diversity/beta/): Computes a user-specified beta diversity metric for all pairs of samples in a feature table.\n",
    "- [Beta diversity metrics](http://scikit-bio.org/docs/0.2.0/generated/skbio.diversity.beta.html)\n",
    "\n",
    "- Metric Choices('aitchison', 'braycurtis', 'canberra', 'canberra_adkins', 'chebyshev', 'cityblock', 'correlation', 'cosine', 'dice', 'euclidean', 'hamming', 'jaccard', 'jensenshannon', 'kulsinski', 'matching', 'minkowski', 'rogerstanimoto', 'russellrao', 'seuclidean', 'sokalmichener', 'sokalsneath', 'sqeuclidean', 'yule')"
   ]
  },
  {
   "cell_type": "code",
   "execution_count": 17,
   "id": "f6f358dd",
   "metadata": {
    "ExecuteTime": {
     "end_time": "2022-09-29T20:54:36.335038Z",
     "start_time": "2022-09-29T20:54:36.091288Z"
    },
    "execution": {
     "iopub.execute_input": "2024-03-05T23:45:33.777571Z",
     "iopub.status.busy": "2024-03-05T23:45:33.777391Z",
     "iopub.status.idle": "2024-03-05T23:45:34.092988Z",
     "shell.execute_reply": "2024-03-05T23:45:34.092542Z"
    },
    "papermill": {
     "duration": 0.321859,
     "end_time": "2024-03-05T23:45:34.093941",
     "exception": false,
     "start_time": "2024-03-05T23:45:33.772082",
     "status": "completed"
    },
    "tags": []
   },
   "outputs": [
    {
     "name": "stdout",
     "output_type": "stream",
     "text": [
      "Calculating beta diversity: euclidean\n",
      "DONE: Calculating beta diversity: euclidean\n",
      "Calculating beta diversity: dice\n"
     ]
    },
    {
     "name": "stdout",
     "output_type": "stream",
     "text": [
      "DONE: Calculating beta diversity: dice\n",
      "Calculating beta diversity: braycurtis\n",
      "DONE: Calculating beta diversity: braycurtis\n",
      "Calculating beta diversity: correlation\n",
      "ERROR: Calculating beta diversity: correlation\n",
      "Calculating beta diversity: cosine\n"
     ]
    },
    {
     "name": "stderr",
     "output_type": "stream",
     "text": [
      "/home/lauro/anaconda3/envs/qiime2-2023.5/lib/python3.8/site-packages/sklearn/metrics/pairwise.py:1761: DataConversionWarning: Data was converted to boolean for metric dice\n",
      "  warnings.warn(msg, DataConversionWarning)\n",
      "/home/lauro/anaconda3/envs/qiime2-2023.5/lib/python3.8/site-packages/sklearn/metrics/pairwise.py:1761: DataConversionWarning: Data was converted to boolean for metric matching\n",
      "  warnings.warn(msg, DataConversionWarning)\n"
     ]
    },
    {
     "name": "stdout",
     "output_type": "stream",
     "text": [
      "ERROR: Calculating beta diversity: cosine\n",
      "Calculating beta diversity: matching\n",
      "DONE: Calculating beta diversity: matching\n",
      "Calculating beta diversity: jaccard\n"
     ]
    },
    {
     "name": "stdout",
     "output_type": "stream",
     "text": [
      "DONE: Calculating beta diversity: jaccard\n"
     ]
    },
    {
     "name": "stderr",
     "output_type": "stream",
     "text": [
      "/home/lauro/anaconda3/envs/qiime2-2023.5/lib/python3.8/site-packages/sklearn/metrics/pairwise.py:1761: DataConversionWarning: Data was converted to boolean for metric jaccard\n",
      "  warnings.warn(msg, DataConversionWarning)\n"
     ]
    }
   ],
   "source": [
    "metrics = ('aitchison', 'braycurtis', 'canberra', 'canberra_adkins', 'chebyshev', 'cityblock', 'correlation', 'cosine', 'dice', 'euclidean', 'hamming', 'jaccard', 'jensenshannon', 'kulsinski', 'matching', 'minkowski', 'rogerstanimoto', 'russellrao', 'seuclidean', 'sokalmichener', 'sokalsneath', 'sqeuclidean', 'yule')\n",
    "metrics = ('euclidean', 'dice', 'braycurtis', 'correlation', 'cosine', 'matching', 'jaccard')\n",
    "beta_diversities = dict()\n",
    "for metric in metrics:\n",
    "    print(f\"Calculating beta diversity: {metric}\")\n",
    "    try:\n",
    "        beta_diversity = beta(table=tabs, metric=metric, n_jobs=6, pseudocount=1).distance_matrix\n",
    "        beta_diversities[metric] = beta_diversity\n",
    "        # Save SampleData[BetaDiversity] Artifact\n",
    "        file_path = os.path.join(beta_path, f'beta-values-{metric}.qza')\n",
    "        beta_diversity.save(file_path)\n",
    "        print(f\"DONE: Calculating beta diversity: {metric}\")\n",
    "    except Exception as e:\n",
    "        print(f\"ERROR: Calculating beta diversity: {metric}\")"
   ]
  },
  {
   "cell_type": "markdown",
   "id": "200a2fa7",
   "metadata": {
    "papermill": {
     "duration": 0.005043,
     "end_time": "2024-03-05T23:45:34.104390",
     "exception": false,
     "start_time": "2024-03-05T23:45:34.099347",
     "status": "completed"
    },
    "tags": []
   },
   "source": [
    "### Beta group significance\n",
    "\n",
    "- [diversity beta_group_significance](https://docs.qiime2.org/2022.8/plugins/available/diversity/beta-group-significance/): Determine whether groups of samples are significantly different from one another using a permutation-based statistical test.\n",
    "- Marti J Anderson. A new method for non-parametric multivariate analysis of variance. Austral ecology, 26(1):32–46, 2001. doi:https://doi.org/10.1111/j.1442-9993.2001.01070.pp.x."
   ]
  },
  {
   "cell_type": "code",
   "execution_count": 18,
   "id": "b8dd42b6",
   "metadata": {
    "ExecuteTime": {
     "end_time": "2022-09-29T20:55:08.313860Z",
     "start_time": "2022-09-29T20:54:36.336993Z"
    },
    "execution": {
     "iopub.execute_input": "2024-03-05T23:45:34.115315Z",
     "iopub.status.busy": "2024-03-05T23:45:34.114990Z",
     "iopub.status.idle": "2024-03-05T23:45:51.622780Z",
     "shell.execute_reply": "2024-03-05T23:45:51.622441Z"
    },
    "papermill": {
     "duration": 17.514333,
     "end_time": "2024-03-05T23:45:51.623728",
     "exception": false,
     "start_time": "2024-03-05T23:45:34.109395",
     "status": "completed"
    },
    "tags": []
   },
   "outputs": [
    {
     "name": "stdout",
     "output_type": "stream",
     "text": [
      "Calculating beta group significance with method permanova and metric euclidean\n"
     ]
    },
    {
     "name": "stdout",
     "output_type": "stream",
     "text": [
      "DONE: Calculating beta group significance: permanova euclidean\n",
      "Calculating beta group significance with method permanova and metric dice\n"
     ]
    },
    {
     "name": "stdout",
     "output_type": "stream",
     "text": [
      "DONE: Calculating beta group significance: permanova dice\n",
      "Calculating beta group significance with method permanova and metric braycurtis\n"
     ]
    },
    {
     "name": "stdout",
     "output_type": "stream",
     "text": [
      "DONE: Calculating beta group significance: permanova braycurtis\n",
      "Calculating beta group significance with method permanova and metric matching\n"
     ]
    },
    {
     "name": "stdout",
     "output_type": "stream",
     "text": [
      "DONE: Calculating beta group significance: permanova matching\n",
      "Calculating beta group significance with method permanova and metric jaccard\n"
     ]
    },
    {
     "name": "stdout",
     "output_type": "stream",
     "text": [
      "DONE: Calculating beta group significance: permanova jaccard\n",
      "Calculating beta group significance with method anosim and metric euclidean\n"
     ]
    },
    {
     "name": "stdout",
     "output_type": "stream",
     "text": [
      "DONE: Calculating beta group significance: anosim euclidean\n",
      "Calculating beta group significance with method anosim and metric dice\n"
     ]
    },
    {
     "name": "stdout",
     "output_type": "stream",
     "text": [
      "DONE: Calculating beta group significance: anosim dice\n",
      "Calculating beta group significance with method anosim and metric braycurtis\n"
     ]
    },
    {
     "name": "stdout",
     "output_type": "stream",
     "text": [
      "DONE: Calculating beta group significance: anosim braycurtis\n",
      "Calculating beta group significance with method anosim and metric matching\n"
     ]
    },
    {
     "name": "stdout",
     "output_type": "stream",
     "text": [
      "DONE: Calculating beta group significance: anosim matching\n",
      "Calculating beta group significance with method anosim and metric jaccard\n"
     ]
    },
    {
     "name": "stdout",
     "output_type": "stream",
     "text": [
      "DONE: Calculating beta group significance: anosim jaccard\n",
      "Calculating beta group significance with method permdisp and metric euclidean\n"
     ]
    },
    {
     "name": "stdout",
     "output_type": "stream",
     "text": [
      "DONE: Calculating beta group significance: permdisp euclidean\n",
      "Calculating beta group significance with method permdisp and metric dice\n"
     ]
    },
    {
     "name": "stdout",
     "output_type": "stream",
     "text": [
      "DONE: Calculating beta group significance: permdisp dice\n",
      "Calculating beta group significance with method permdisp and metric braycurtis\n"
     ]
    },
    {
     "name": "stdout",
     "output_type": "stream",
     "text": [
      "DONE: Calculating beta group significance: permdisp braycurtis\n",
      "Calculating beta group significance with method permdisp and metric matching\n"
     ]
    },
    {
     "name": "stdout",
     "output_type": "stream",
     "text": [
      "DONE: Calculating beta group significance: permdisp matching\n",
      "Calculating beta group significance with method permdisp and metric jaccard\n"
     ]
    },
    {
     "name": "stdout",
     "output_type": "stream",
     "text": [
      "DONE: Calculating beta group significance: permdisp jaccard\n"
     ]
    },
    {
     "data": {
      "text/plain": [
       "<Figure size 640x480 with 0 Axes>"
      ]
     },
     "metadata": {},
     "output_type": "display_data"
    }
   ],
   "source": [
    "methods = ('permanova', 'anosim', 'permdisp')\n",
    "for method in methods:\n",
    "    for metric, beta_diversity in beta_diversities.items():\n",
    "        print(f'Calculating beta group significance with method {method} and metric {metric}')\n",
    "        try:\n",
    "            beta_view = beta_group_significance(distance_matrix=beta_diversity, \n",
    "                                                metadata=metadata_qa.get_column(class_col), \n",
    "                                                pairwise=True, method=method).visualization\n",
    "            view_name = os.path.join(beta_path, f'beta-group-significance-{metric}-{method}.qzv')\n",
    "            beta_view.save(view_name)\n",
    "            print(f\"DONE: Calculating beta group significance: {method} {metric}\")\n",
    "        except Exception as e:\n",
    "            print(f\"ERROR: Calculating beta group significance: {method} {metric}\")"
   ]
  },
  {
   "cell_type": "code",
   "execution_count": 19,
   "id": "6366725e",
   "metadata": {
    "execution": {
     "iopub.execute_input": "2024-03-05T23:45:51.635668Z",
     "iopub.status.busy": "2024-03-05T23:45:51.635491Z",
     "iopub.status.idle": "2024-03-05T23:46:05.523736Z",
     "shell.execute_reply": "2024-03-05T23:46:05.523259Z"
    },
    "papermill": {
     "duration": 13.895233,
     "end_time": "2024-03-05T23:46:05.524694",
     "exception": false,
     "start_time": "2024-03-05T23:45:51.629461",
     "status": "completed"
    },
    "tags": []
   },
   "outputs": [
    {
     "name": "stdout",
     "output_type": "stream",
     "text": [
      "Calculating beta group significance with method permanova and metric unweighted_unifrac_distance_matrix\n"
     ]
    },
    {
     "name": "stdout",
     "output_type": "stream",
     "text": [
      "DONE: Calculating beta group significance: permanova unweighted_unifrac_distance_matrix\n",
      "Calculating beta group significance with method permanova and metric weighted_unifrac_distance_matrix\n"
     ]
    },
    {
     "name": "stdout",
     "output_type": "stream",
     "text": [
      "DONE: Calculating beta group significance: permanova weighted_unifrac_distance_matrix\n",
      "Calculating beta group significance with method permanova and metric jaccard_distance_matrix\n"
     ]
    },
    {
     "name": "stdout",
     "output_type": "stream",
     "text": [
      "DONE: Calculating beta group significance: permanova jaccard_distance_matrix\n",
      "Calculating beta group significance with method permanova and metric bray_curtis_distance_matrix\n"
     ]
    },
    {
     "name": "stdout",
     "output_type": "stream",
     "text": [
      "DONE: Calculating beta group significance: permanova bray_curtis_distance_matrix\n",
      "Calculating beta group significance with method anosim and metric unweighted_unifrac_distance_matrix\n"
     ]
    },
    {
     "name": "stdout",
     "output_type": "stream",
     "text": [
      "DONE: Calculating beta group significance: anosim unweighted_unifrac_distance_matrix\n",
      "Calculating beta group significance with method anosim and metric weighted_unifrac_distance_matrix\n"
     ]
    },
    {
     "name": "stdout",
     "output_type": "stream",
     "text": [
      "DONE: Calculating beta group significance: anosim weighted_unifrac_distance_matrix\n",
      "Calculating beta group significance with method anosim and metric jaccard_distance_matrix\n"
     ]
    },
    {
     "name": "stdout",
     "output_type": "stream",
     "text": [
      "DONE: Calculating beta group significance: anosim jaccard_distance_matrix\n",
      "Calculating beta group significance with method anosim and metric bray_curtis_distance_matrix\n"
     ]
    },
    {
     "name": "stdout",
     "output_type": "stream",
     "text": [
      "DONE: Calculating beta group significance: anosim bray_curtis_distance_matrix\n",
      "Calculating beta group significance with method permdisp and metric unweighted_unifrac_distance_matrix\n"
     ]
    },
    {
     "name": "stdout",
     "output_type": "stream",
     "text": [
      "DONE: Calculating beta group significance: permdisp unweighted_unifrac_distance_matrix\n",
      "Calculating beta group significance with method permdisp and metric weighted_unifrac_distance_matrix\n"
     ]
    },
    {
     "name": "stderr",
     "output_type": "stream",
     "text": [
      "/home/lauro/anaconda3/envs/qiime2-2023.5/lib/python3.8/site-packages/skbio/stats/ordination/_principal_coordinate_analysis.py:143: RuntimeWarning: The result contains negative eigenvalues. Please compare their magnitude with the magnitude of some of the largest positive eigenvalues. If the negative ones are smaller, it's probably safe to ignore them, but if they are large in magnitude, the results won't be useful. See the Notes section for more details. The smallest eigenvalue is -0.0026223942374972264 and the largest is 0.7250288703282047.\n",
      "  warn(\n"
     ]
    },
    {
     "name": "stderr",
     "output_type": "stream",
     "text": [
      "/home/lauro/anaconda3/envs/qiime2-2023.5/lib/python3.8/site-packages/skbio/stats/ordination/_principal_coordinate_analysis.py:143: RuntimeWarning: The result contains negative eigenvalues. Please compare their magnitude with the magnitude of some of the largest positive eigenvalues. If the negative ones are smaller, it's probably safe to ignore them, but if they are large in magnitude, the results won't be useful. See the Notes section for more details. The smallest eigenvalue is -0.0026223942374972264 and the largest is 0.725028870328204.\n",
      "  warn(\n"
     ]
    },
    {
     "name": "stdout",
     "output_type": "stream",
     "text": [
      "DONE: Calculating beta group significance: permdisp weighted_unifrac_distance_matrix\n",
      "Calculating beta group significance with method permdisp and metric jaccard_distance_matrix\n"
     ]
    },
    {
     "name": "stdout",
     "output_type": "stream",
     "text": [
      "DONE: Calculating beta group significance: permdisp jaccard_distance_matrix\n",
      "Calculating beta group significance with method permdisp and metric bray_curtis_distance_matrix\n"
     ]
    },
    {
     "name": "stdout",
     "output_type": "stream",
     "text": [
      "DONE: Calculating beta group significance: permdisp bray_curtis_distance_matrix\n"
     ]
    },
    {
     "data": {
      "text/plain": [
       "<Figure size 640x480 with 0 Axes>"
      ]
     },
     "metadata": {},
     "output_type": "display_data"
    }
   ],
   "source": [
    "# Expand tests using UNIFRAC metrics\n",
    "methods = ('permanova', 'anosim', 'permdisp')\n",
    "for method in methods:\n",
    "    for metric, beta_diversity in distance_matrix.items():\n",
    "        print(f'Calculating beta group significance with method {method} and metric {metric}')\n",
    "        try:\n",
    "            beta_view = beta_group_significance(distance_matrix=beta_diversity, \n",
    "                                                metadata=metadata_qa.get_column(class_col), \n",
    "                                                pairwise=True, method=method).visualization\n",
    "            view_name = os.path.join(beta_path, f'beta-group-significance-{metric}-{method}.qzv')\n",
    "            beta_view.save(view_name)\n",
    "            print(f\"DONE: Calculating beta group significance: {method} {metric}\")\n",
    "        except Exception as e:\n",
    "            print(f\"ERROR: Calculating beta group significance: {method} {metric}\")"
   ]
  },
  {
   "cell_type": "markdown",
   "id": "c0de85cf",
   "metadata": {
    "papermill": {
     "duration": 0.005862,
     "end_time": "2024-03-05T23:46:05.536812",
     "exception": false,
     "start_time": "2024-03-05T23:46:05.530950",
     "status": "completed"
    },
    "tags": []
   },
   "source": [
    "### Beta group Rarefaction\n",
    "\n",
    "- [diversity beta_rarefaction](https://docs.qiime2.org/2022.8/plugins/available/diversity/beta-rarefaction/): Repeatedly rarefy a feature table to compare beta diversity results within a given rarefaction depth.  For a given beta diversity metric, this visualizer will provide: an Emperor jackknifed PCoA plot, samples clustered by UPGMA or neighbor joining with support calculation, and a heatmap showing the correlation between rarefaction trials of that beta diversity metric."
   ]
  }
 ],
 "metadata": {
  "celltoolbar": "Edit Metadata",
  "kernelspec": {
   "display_name": "Python 3 (ipykernel)",
   "language": "python",
   "name": "python3"
  },
  "language_info": {
   "codemirror_mode": {
    "name": "ipython",
    "version": 3
   },
   "file_extension": ".py",
   "mimetype": "text/x-python",
   "name": "python",
   "nbconvert_exporter": "python",
   "pygments_lexer": "ipython3",
   "version": "3.8.16"
  },
  "papermill": {
   "default_parameters": {},
   "duration": 49.227188,
   "end_time": "2024-03-05T23:46:06.459136",
   "environment_variables": {},
   "exception": null,
   "input_path": "nb-templates/step-diversity-analysis.ipynb",
   "output_path": "/mnt/nupeb/rede-micro/redemicro-ana-flavia-nutri/experiments/ana-flavia-NCxHSD-NC-trim/nb-executed-steps/step-diversity-analysis-ana-flavia-NCxHSD-NC-trim.ipynb",
   "parameters": {
    "base_dir": "/mnt/nupeb/rede-micro/redemicro-ana-flavia-nutri",
    "class_col": "group-id",
    "classifier_file": "/mnt/nupeb/rede-micro/datasets/16S_classifiers_qiime2/silva-138-99-nb-classifier.qza",
    "experiment_name": "ana-flavia-NCxHSD-NC-trim",
    "manifest_file": "/mnt/nupeb/rede-micro/redemicro-ana-flavia-nutri/data/raw/manifest/manifest-ana-flavia-NCxHSD-NC.csv",
    "metadata_file": "/mnt/nupeb/rede-micro/redemicro-ana-flavia-nutri/data/raw/metadata/metadata-ana-flavia-NCxHSD-NC.tsv",
    "overlap": 12,
    "phred": 20,
    "replace_files": false,
    "threads": 6,
    "top_n": 20,
    "trim": {
     "forward_primer": "CCTACGGGRSGCAGCAG",
     "overlap": 8,
     "reverse_primer": "GGACTACHVGGGTWTCTAAT"
    },
    "trunc_f": 0,
    "trunc_r": 0
   },
   "start_time": "2024-03-05T23:45:17.231948",
   "version": "2.4.0"
  }
 },
 "nbformat": 4,
 "nbformat_minor": 5
}