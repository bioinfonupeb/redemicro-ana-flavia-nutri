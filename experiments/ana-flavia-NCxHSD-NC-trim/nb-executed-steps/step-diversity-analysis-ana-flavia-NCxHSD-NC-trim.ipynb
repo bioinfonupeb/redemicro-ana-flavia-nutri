{
 "cells": [
  {
   "cell_type": "markdown",
   "id": "15bcfa06",
   "metadata": {
    "papermill": {
     "duration": 0.028172,
     "end_time": "2024-02-01T23:01:11.503763",
     "exception": false,
     "start_time": "2024-02-01T23:01:11.475591",
     "status": "completed"
    },
    "tags": []
   },
   "source": [
    " \n",
    "# Alpha and Beta Diversity\n",
    "\n",
    "Different higher-level measures are often used to describe the microbiome in a sample. These do not provide information on changes in the abundance of specific taxa but allow us to access a broader change or difference in the composition of microorganisms. Alpha and beta diversity are examples of such measures.\n",
    "\n",
    "Different measures exist to estimate diversity within a single sample, jointly called alpha diversity. The different measures reflect the richness (number) or distribution (evenness) of a microbial sample or aim to reflect a combination of both properties.\n",
    "\n",
    "Rarefaction curves are often used when calculating alpha diversity indices because increasing numbers of sequenced taxa allow increasingly accurate estimates of total population diversity. Rarefaction curves can therefore be used to estimate the full sample richness, as compared to the observed sample richness.\n",
    "\n",
    "While alpha diversity is a measure of microbiome diversity applicable to a single sample, beta diversity is a measure of the similarity or dissimilarity of two communities. As for alpha diversity, many indices exist, each reflecting different aspects of community heterogeneity. Key differences relate to how the indices value variation in rare species if they consider presence/absence only or incorporate abundance, and how they interpret shared absence. Bray-Curtis dissimilarity is a popular measure that considers both size (overall abundance per sample) and shape (abundance of each taxon) of the communities (Bray, 1957). Beta diversity is an essential measure for many popular statistical methods in ecology, such as ordination-based methods, and is widely used for studying the association between environmental variables and microbial composition.\n",
    "\n",
    "In summary, alpha diversity measures can be seen as a summary statistic of a single population (within-sample diversity), while beta diversity measures are estimates of similarity or dissimilarity between populations (between samples).\n",
    "\n",
    "**Source**: (https://biomcare.com/info/key-terms-in-microbiome-projects/)"
   ]
  },
  {
   "cell_type": "markdown",
   "id": "0e7f2330",
   "metadata": {
    "ExecuteTime": {
     "end_time": "2022-09-22T19:36:33.828188Z",
     "start_time": "2022-09-22T19:36:33.817323Z"
    },
    "papermill": {
     "duration": 0.041709,
     "end_time": "2024-02-01T23:01:11.601690",
     "exception": false,
     "start_time": "2024-02-01T23:01:11.559981",
     "status": "completed"
    },
    "tags": []
   },
   "source": [
    "### STEP : Diversity Analysis\n",
    "\n",
    "Using QIIME2 to create diversity analisys graphs and calculations.\n",
    "\n",
    "- [QIIME2 Workflow Overview](https://docs.qiime2.org/2022.8/tutorials/overview/)\n",
    "\n",
    "\n",
    "#### Methods\n",
    "- [diversity](https://docs.qiime2.org/2022.8/plugins/available/diversity/)\n",
    "- [diversity alpha](https://docs.qiime2.org/2022.8/plugins/available/diversity/alpha/)\n",
    "- [diversity alpha_phylogenetic](https://docs.qiime2.org/2022.8/plugins/available/diversity/alpha-phylogenetic/)\n",
    "- [diversity beta](https://docs.qiime2.org/2022.8/plugins/available/diversity/beta/)\n",
    "- [diversity core_metrics](https://docs.qiime2.org/2022.8/plugins/available/diversity/core-metrics/)\n",
    "- [diversity alpha_group_significance](https://docs.qiime2.org/2022.8/plugins/available/diversity/alpha-group-significance/)\n",
    "- [diversity beta_group_significance](https://docs.qiime2.org/2022.8/plugins/available/diversity/beta-group-significance/)\n",
    "- [feature_table core_features](https://docs.qiime2.org/2022.8/plugins/available/feature-table/core-features/)\n",
    "- [feature_table summarize](https://docs.qiime2.org/2022.8/plugins/available/feature-table/summarize/)\n",
    "- [taxa filter-table](https://docs.qiime2.org/2022.8/plugins/available/taxa/filter-table/)\n",
    "- [taxa collapse](https://docs.qiime2.org/2022.8/plugins/available/taxa/collapse/)"
   ]
  },
  {
   "cell_type": "markdown",
   "id": "843debbf",
   "metadata": {
    "papermill": {
     "duration": 0.019788,
     "end_time": "2024-02-01T23:01:11.641951",
     "exception": false,
     "start_time": "2024-02-01T23:01:11.622163",
     "status": "completed"
    },
    "tags": []
   },
   "source": [
    "## Setup and settings"
   ]
  },
  {
   "cell_type": "code",
   "execution_count": 1,
   "id": "965e28e5",
   "metadata": {
    "ExecuteTime": {
     "end_time": "2022-11-03T20:35:26.198671Z",
     "start_time": "2022-11-03T20:35:06.473173Z"
    },
    "execution": {
     "iopub.execute_input": "2024-02-01T23:01:11.691378Z",
     "iopub.status.busy": "2024-02-01T23:01:11.690766Z",
     "iopub.status.idle": "2024-02-01T23:01:18.197366Z",
     "shell.execute_reply": "2024-02-01T23:01:18.196590Z"
    },
    "papermill": {
     "duration": 6.539141,
     "end_time": "2024-02-01T23:01:18.200539",
     "exception": false,
     "start_time": "2024-02-01T23:01:11.661398",
     "status": "completed"
    },
    "tags": []
   },
   "outputs": [],
   "source": [
    "# Importing packages\n",
    "import os\n",
    "import pandas as pd\n",
    "from qiime2 import Artifact\n",
    "from qiime2 import Visualization\n",
    "from qiime2 import Metadata\n",
    "\n",
    "from qiime2.plugins.phylogeny.pipelines import align_to_tree_mafft_fasttree\n",
    "\n",
    "from qiime2.plugins.diversity.pipelines import alpha\n",
    "from qiime2.plugins.diversity.pipelines import beta\n",
    "from qiime2.plugins.diversity.pipelines import core_metrics\n",
    "from qiime2.plugins.diversity.pipelines import alpha_phylogenetic\n",
    "\n",
    "from qiime2.plugins.diversity.visualizers import alpha_group_significance\n",
    "from qiime2.plugins.diversity.visualizers import beta_group_significance\n",
    "from qiime2.plugins.diversity.visualizers import alpha_correlation\n",
    "from qiime2.plugins.diversity.visualizers import beta_rarefaction\n",
    "\n",
    "from qiime2.plugins.taxa.methods import filter_table\n",
    "from qiime2.plugins.taxa.methods import collapse\n",
    "\n",
    "from qiime2.plugins.feature_table.visualizers import tabulate_seqs\n",
    "from qiime2.plugins.feature_table.visualizers import summarize\n",
    "from qiime2.plugins.feature_table.visualizers import core_features\n",
    "from qiime2.plugins.diversity.pipelines import core_metrics_phylogenetic\n",
    "\n",
    "from qiime2.plugins.feature_table.methods import filter_samples\n",
    "from qiime2.plugins.feature_table.methods import filter_seqs\n",
    "\n",
    "from qiime2.plugins.alignment.methods import mafft\n",
    "\n",
    "\n",
    "import matplotlib.pyplot as plt\n",
    "\n",
    "%matplotlib inline"
   ]
  },
  {
   "cell_type": "markdown",
   "id": "530ceb60",
   "metadata": {
    "papermill": {
     "duration": 0.017691,
     "end_time": "2024-02-01T23:01:18.241991",
     "exception": false,
     "start_time": "2024-02-01T23:01:18.224300",
     "status": "completed"
    },
    "tags": []
   },
   "source": [
    "### Receiving the parameters\n",
    "\n",
    "The following cell can receive parameters using the [papermill](https://papermill.readthedocs.io/en/latest/) tool."
   ]
  },
  {
   "cell_type": "code",
   "execution_count": 2,
   "id": "18d874ea",
   "metadata": {
    "ExecuteTime": {
     "end_time": "2022-09-29T20:54:14.793270Z",
     "start_time": "2022-09-29T20:54:14.789367Z"
    },
    "execution": {
     "iopub.execute_input": "2024-02-01T23:01:18.287362Z",
     "iopub.status.busy": "2024-02-01T23:01:18.286913Z",
     "iopub.status.idle": "2024-02-01T23:01:18.291838Z",
     "shell.execute_reply": "2024-02-01T23:01:18.291094Z"
    },
    "papermill": {
     "duration": 0.025583,
     "end_time": "2024-02-01T23:01:18.293386",
     "exception": false,
     "start_time": "2024-02-01T23:01:18.267803",
     "status": "completed"
    },
    "tags": [
     "parameters"
    ]
   },
   "outputs": [],
   "source": [
    "base_dir = os.path.join('/', 'home')\n",
    "metadata_file = os.path.abspath(os.path.join(base_dir, 'data', 'metadatada.tsv'))\n",
    "experiment_name = ''\n",
    "class_col = ''\n",
    "replace_files = False"
   ]
  },
  {
   "cell_type": "code",
   "execution_count": 3,
   "id": "109a775d",
   "metadata": {
    "execution": {
     "iopub.execute_input": "2024-02-01T23:01:18.331587Z",
     "iopub.status.busy": "2024-02-01T23:01:18.331219Z",
     "iopub.status.idle": "2024-02-01T23:01:18.337589Z",
     "shell.execute_reply": "2024-02-01T23:01:18.336750Z"
    },
    "papermill": {
     "duration": 0.027259,
     "end_time": "2024-02-01T23:01:18.339311",
     "exception": false,
     "start_time": "2024-02-01T23:01:18.312052",
     "status": "completed"
    },
    "tags": [
     "injected-parameters"
    ]
   },
   "outputs": [],
   "source": [
    "# Parameters\n",
    "PAPERMILL_INPUT_PATH = \"nb-templates/step-diversity-analysis.ipynb\"\n",
    "PAPERMILL_OUTPUT_PATH = \"/home/lauro/nupeb/rede-micro/redemicro-ana-flavia-nutri/experiments/ana-flavia-NCxHSD-NC-trim/nb-executed-steps/step-diversity-analysis-ana-flavia-NCxHSD-NC-trim.ipynb\"\n",
    "experiment_name = \"ana-flavia-NCxHSD-NC-trim\"\n",
    "base_dir = \"/home/lauro/nupeb/rede-micro/redemicro-ana-flavia-nutri\"\n",
    "manifest_file = \"/home/lauro/nupeb/rede-micro/redemicro-ana-flavia-nutri/data/raw/manifest/manifest-ana-flavia-NCxHSD-NC.csv\"\n",
    "metadata_file = \"/home/lauro/nupeb/rede-micro/redemicro-ana-flavia-nutri/data/raw/metadata/metadata-ana-flavia-NCxHSD-NC.tsv\"\n",
    "class_col = \"group-id\"\n",
    "classifier_file = \"/home/lauro/nupeb/rede-micro/models/silva-138-99-nb-classifier.qza\"\n",
    "top_n = 20\n",
    "replace_files = False\n",
    "phred = 20\n",
    "trunc_f = 0\n",
    "trunc_r = 0\n",
    "overlap = 12\n",
    "threads = 6\n",
    "trim = {\n",
    "    \"overlap\": 8,\n",
    "    \"forward_primer\": \"CCTACGGGRSGCAGCAG\",\n",
    "    \"reverse_primer\": \"GGACTACHVGGGTWTCTAAT\",\n",
    "}\n"
   ]
  },
  {
   "cell_type": "code",
   "execution_count": 4,
   "id": "f38617d9",
   "metadata": {
    "ExecuteTime": {
     "end_time": "2022-09-29T20:54:14.804575Z",
     "start_time": "2022-09-29T20:54:14.794927Z"
    },
    "execution": {
     "iopub.execute_input": "2024-02-01T23:01:18.378676Z",
     "iopub.status.busy": "2024-02-01T23:01:18.378209Z",
     "iopub.status.idle": "2024-02-01T23:01:18.383737Z",
     "shell.execute_reply": "2024-02-01T23:01:18.382830Z"
    },
    "papermill": {
     "duration": 0.026438,
     "end_time": "2024-02-01T23:01:18.385501",
     "exception": false,
     "start_time": "2024-02-01T23:01:18.359063",
     "status": "completed"
    },
    "tags": []
   },
   "outputs": [],
   "source": [
    "experiment_folder = os.path.abspath(os.path.join(base_dir, 'experiments', experiment_name))\n",
    "img_folder = os.path.abspath(os.path.join(experiment_folder, 'imgs'))"
   ]
  },
  {
   "cell_type": "markdown",
   "id": "ea9b90fb",
   "metadata": {
    "papermill": {
     "duration": 0.018174,
     "end_time": "2024-02-01T23:01:18.424192",
     "exception": false,
     "start_time": "2024-02-01T23:01:18.406018",
     "status": "completed"
    },
    "tags": []
   },
   "source": [
    "### Defining names, paths and flags"
   ]
  },
  {
   "cell_type": "code",
   "execution_count": 5,
   "id": "45727eef",
   "metadata": {
    "ExecuteTime": {
     "end_time": "2022-09-29T20:54:14.816686Z",
     "start_time": "2022-09-29T20:54:14.806238Z"
    },
    "execution": {
     "iopub.execute_input": "2024-02-01T23:01:18.461483Z",
     "iopub.status.busy": "2024-02-01T23:01:18.460943Z",
     "iopub.status.idle": "2024-02-01T23:01:18.472616Z",
     "shell.execute_reply": "2024-02-01T23:01:18.471974Z"
    },
    "papermill": {
     "duration": 0.032154,
     "end_time": "2024-02-01T23:01:18.474340",
     "exception": false,
     "start_time": "2024-02-01T23:01:18.442186",
     "status": "completed"
    },
    "tags": []
   },
   "outputs": [],
   "source": [
    "# QIIME2 Artifacts folder\n",
    "qiime_folder = os.path.join(experiment_folder, 'qiime-artifacts')\n",
    "\n",
    "# Input - DADA2 Artifacts\n",
    "dada2_tabs_path = os.path.join(qiime_folder, 'dada2-tabs.qza')\n",
    "dada2_reps_path = os.path.join(qiime_folder, 'dada2-reps.qza')\n",
    "dada2_stat_path = os.path.join(qiime_folder, 'dada2-stat.qza')\n",
    "\n",
    "# Input - Taxonaomic Artifacts\n",
    "taxonomy_path = os.path.join(qiime_folder, 'metatax.qza')\n",
    "\n",
    "# Create folder to store Alpha files\n",
    "alpha_path = os.path.join(qiime_folder, 'alpha-analysis')\n",
    "if not os.path.exists(alpha_path):\n",
    "    os.makedirs(alpha_path)\n",
    "    print(f'The new directory is created in {alpha_path}')\n",
    "    \n",
    "# Create folder to store Beta files\n",
    "beta_path = os.path.join(qiime_folder, 'beta-analysis')\n",
    "if not os.path.exists(beta_path):\n",
    "    os.makedirs(beta_path)\n",
    "    print(f'The new directory is created in {beta_path}')\n",
    "\n",
    "# Output -Diversity Artifacts\n",
    "alpha_diversity_path = os.path.join(alpha_path, 'alpha-diversity.qza')\n",
    "alpha_diversity_view_path = os.path.join(alpha_path, 'alpha-diversity.qzv')\n",
    "beta_diversity_path = os.path.join(beta_path, 'beta-diversity.qza')\n",
    "beta_diversity_view_path = os.path.join(beta_path, 'beta-diversity.qzv')"
   ]
  },
  {
   "cell_type": "code",
   "execution_count": 6,
   "id": "601ae263",
   "metadata": {
    "ExecuteTime": {
     "end_time": "2022-09-29T20:54:14.829117Z",
     "start_time": "2022-09-29T20:54:14.818272Z"
    },
    "execution": {
     "iopub.execute_input": "2024-02-01T23:01:18.513232Z",
     "iopub.status.busy": "2024-02-01T23:01:18.512996Z",
     "iopub.status.idle": "2024-02-01T23:01:18.519145Z",
     "shell.execute_reply": "2024-02-01T23:01:18.518443Z"
    },
    "papermill": {
     "duration": 0.026196,
     "end_time": "2024-02-01T23:01:18.520692",
     "exception": false,
     "start_time": "2024-02-01T23:01:18.494496",
     "status": "completed"
    },
    "tags": []
   },
   "outputs": [],
   "source": [
    "def filter_and_collapse(tab, seqs, tax, meta, lvl, exclude=True, exclude_list='uncultured,unidentified,metagenome'):\n",
    "    from qiime2.plugins.taxa.methods import collapse\n",
    "    from qiime2.plugins.taxa.methods import filter_table\n",
    "    from qiime2.plugins.feature_table.methods import filter_seqs\n",
    "    from qiime2.plugins.feature_table.visualizers import summarize\n",
    "    \n",
    "    to_include = ('d', 'p', 'c', 'o', 'f', 'g', 's')[lvl-1]\n",
    "    to_include += '__'\n",
    "    to_exclude = exclude_list if exclude else None\n",
    "    \n",
    "    filtered_tabs = filter_table(\n",
    "        table=tab, \n",
    "        taxonomy=tax,\n",
    "        include=to_include,\n",
    "        exclude=to_exclude,\n",
    "        mode='contains').filtered_table\n",
    "    \n",
    "    filtered_seqs = filter_seqs(\n",
    "        data = seqs,\n",
    "        table = filtered_tabs,\n",
    "    ).filtered_data\n",
    "    \n",
    "    collapsed_table = collapse(table=filtered_tabs, taxonomy=tax, level=lvl).collapsed_table\n",
    "    collapsed_table_view = summarize(table=collapsed_table, sample_metadata=meta).visualization\n",
    "    \n",
    "    return collapsed_table, collapsed_table_view, filtered_seqs"
   ]
  },
  {
   "cell_type": "markdown",
   "id": "0999a1b2",
   "metadata": {
    "papermill": {
     "duration": 0.017787,
     "end_time": "2024-02-01T23:01:18.557337",
     "exception": false,
     "start_time": "2024-02-01T23:01:18.539550",
     "status": "completed"
    },
    "tags": []
   },
   "source": [
    "## Step execution\n",
    "\n",
    "### Load input files\n",
    "\n",
    "This Step import the QIIME2 `FeatureTable[Frequency]` Artifact and the `Metadata` file."
   ]
  },
  {
   "cell_type": "code",
   "execution_count": 7,
   "id": "8f299d1a",
   "metadata": {
    "ExecuteTime": {
     "end_time": "2022-09-29T20:54:15.559837Z",
     "start_time": "2022-09-29T20:54:14.830405Z"
    },
    "execution": {
     "iopub.execute_input": "2024-02-01T23:01:18.595811Z",
     "iopub.status.busy": "2024-02-01T23:01:18.595465Z",
     "iopub.status.idle": "2024-02-01T23:01:20.779102Z",
     "shell.execute_reply": "2024-02-01T23:01:20.778038Z"
    },
    "papermill": {
     "duration": 2.207339,
     "end_time": "2024-02-01T23:01:20.782498",
     "exception": false,
     "start_time": "2024-02-01T23:01:18.575159",
     "status": "completed"
    },
    "tags": []
   },
   "outputs": [],
   "source": [
    "#Load Metadata\n",
    "metadata_qa = Metadata.load(metadata_file)\n",
    "\n",
    "#Load FeatureTable[Frequency]\n",
    "tabs = Artifact.load(dada2_tabs_path)\n",
    "tabs_df = tabs.view(Metadata).to_dataframe().T\n",
    "\n",
    "# FeatureData[Sequence]\n",
    "reps = Artifact.load(dada2_reps_path)\n",
    "\n",
    "# FeatureData[Taxonomy]\n",
    "tax = Artifact.load(taxonomy_path)"
   ]
  },
  {
   "cell_type": "code",
   "execution_count": 8,
   "id": "c8dfe530",
   "metadata": {
    "ExecuteTime": {
     "end_time": "2022-09-29T20:54:15.564968Z",
     "start_time": "2022-09-29T20:54:15.561875Z"
    },
    "execution": {
     "iopub.execute_input": "2024-02-01T23:01:20.832199Z",
     "iopub.status.busy": "2024-02-01T23:01:20.831928Z",
     "iopub.status.idle": "2024-02-01T23:01:21.850780Z",
     "shell.execute_reply": "2024-02-01T23:01:21.850151Z"
    },
    "papermill": {
     "duration": 1.043166,
     "end_time": "2024-02-01T23:01:21.853747",
     "exception": false,
     "start_time": "2024-02-01T23:01:20.810581",
     "status": "completed"
    },
    "tags": []
   },
   "outputs": [
    {
     "name": "stdout",
     "output_type": "stream",
     "text": [
      "{'min_frequency': 0, 'max_frequency': None, 'min_features': 0, 'max_features': None, 'metadata': Metadata\n",
      "--------\n",
      "12 IDs x 3 columns\n",
      "sample-name: ColumnProperties(type='categorical')\n",
      "group-id:    ColumnProperties(type='categorical')\n",
      "group-desc:  ColumnProperties(type='categorical')\n",
      "\n",
      "Call to_dataframe() for a tabular representation., 'where': None, 'exclude_ids': False, 'filter_empty_features': True, 'table': 2732 x 74 <class 'biom.table.Table'> with 12512 nonzero entries (6% dense)}\n",
      "{'min_frequency': 0, 'max_frequency': None, 'min_features': 0, 'max_features': None, 'metadata': Metadata\n",
      "--------\n",
      "12 IDs x 3 columns\n",
      "sample-name: ColumnProperties(type='categorical')\n",
      "group-id:    ColumnProperties(type='categorical')\n",
      "group-desc:  ColumnProperties(type='categorical')\n",
      "\n",
      "Call to_dataframe() for a tabular representation., 'where': None, 'exclude_ids': False, 'filter_empty_features': True, 'table': 2732 x 74 <class 'biom.table.Table'> with 12512 nonzero entries (6% dense)}\n"
     ]
    },
    {
     "name": "stdout",
     "output_type": "stream",
     "text": [
      "{'metadata': None, 'where': None, 'exclude_ids': False, 'data': c688e3b1ada46ed57f5b7e7e0d56664f    (((T)), ((G)), ((A)), ((G)), ((G)), ((A)), ((A...\n",
      "bc798de4a9acd3ff7ba51c244523be14    (((T)), ((G)), ((A)), ((G)), ((G)), ((A)), ((A...\n",
      "fca5b1ccd94b107a3ddf3e99feaafb6f    (((T)), ((G)), ((A)), ((G)), ((G)), ((A)), ((A...\n",
      "5ba9e679e692fcbf933c554317e03c5f    (((T)), ((A)), ((G)), ((G)), ((G)), ((A)), ((A...\n",
      "04581eba9e6fd12787fb5948fcef030f    (((T)), ((G)), ((A)), ((G)), ((G)), ((A)), ((A...\n",
      "                                                          ...                        \n",
      "dbc83a2f59a61f2cc57971a85718406b    (((T)), ((G)), ((G)), ((G)), ((G)), ((A)), ((A...\n",
      "4393f0be1354f7198d1969c44d34d44a    (((T)), ((G)), ((A)), ((G)), ((G)), ((A)), ((A...\n",
      "a86e1aaa4715133f8fa2c0f52e03e6d7    (((T)), ((G)), ((G)), ((G)), ((G)), ((A)), ((A...\n",
      "aa37170c6d59f9077a2644f8c25df05d    (((T)), ((G)), ((G)), ((G)), ((G)), ((A)), ((A...\n",
      "9c3f20cb7568feda60cc7776400d8d64    (((G)), ((A)), ((A)), ((A)), ((T)), ((G)), ((C...\n",
      "Length: 2732, dtype: object, 'table': 876 x 12 <class 'biom.table.Table'> with 1655 nonzero entries (15% dense)}\n"
     ]
    },
    {
     "name": "stdout",
     "output_type": "stream",
     "text": [
      "{'metadata': None, 'where': None, 'exclude_ids': False, 'data': c688e3b1ada46ed57f5b7e7e0d56664f    (((T)), ((G)), ((A)), ((G)), ((G)), ((A)), ((A...\n",
      "bc798de4a9acd3ff7ba51c244523be14    (((T)), ((G)), ((A)), ((G)), ((G)), ((A)), ((A...\n",
      "fca5b1ccd94b107a3ddf3e99feaafb6f    (((T)), ((G)), ((A)), ((G)), ((G)), ((A)), ((A...\n",
      "5ba9e679e692fcbf933c554317e03c5f    (((T)), ((A)), ((G)), ((G)), ((G)), ((A)), ((A...\n",
      "04581eba9e6fd12787fb5948fcef030f    (((T)), ((G)), ((A)), ((G)), ((G)), ((A)), ((A...\n",
      "                                                          ...                        \n",
      "dbc83a2f59a61f2cc57971a85718406b    (((T)), ((G)), ((G)), ((G)), ((G)), ((A)), ((A...\n",
      "4393f0be1354f7198d1969c44d34d44a    (((T)), ((G)), ((A)), ((G)), ((G)), ((A)), ((A...\n",
      "a86e1aaa4715133f8fa2c0f52e03e6d7    (((T)), ((G)), ((G)), ((G)), ((G)), ((A)), ((A...\n",
      "aa37170c6d59f9077a2644f8c25df05d    (((T)), ((G)), ((G)), ((G)), ((G)), ((A)), ((A...\n",
      "9c3f20cb7568feda60cc7776400d8d64    (((G)), ((A)), ((A)), ((A)), ((T)), ((G)), ((C...\n",
      "Length: 2732, dtype: object, 'table': 876 x 12 <class 'biom.table.Table'> with 1655 nonzero entries (15% dense)}\n"
     ]
    }
   ],
   "source": [
    "# Filter FeatureTable[Frequency | RelativeFrequency | PresenceAbsence | Composition] based on Metadata sample ID values\n",
    "tabs = filter_samples(\n",
    "    table=tabs,\n",
    "    metadata=metadata_qa,\n",
    ").filtered_table\n",
    "# Filter SampleData[SequencesWithQuality | PairedEndSequencesWithQuality | JoinedSequencesWithQuality] based on Metadata sample ID values; returns FeatureData[Sequence | AlignedSequence]\n",
    "reps = filter_seqs(\n",
    "    data=reps,\n",
    "    table=tabs,\n",
    ").filtered_data"
   ]
  },
  {
   "cell_type": "markdown",
   "id": "9f43843a",
   "metadata": {
    "ExecuteTime": {
     "end_time": "2022-09-22T22:48:07.523952Z",
     "start_time": "2022-09-22T22:48:07.517565Z"
    },
    "papermill": {
     "duration": 0.019945,
     "end_time": "2024-02-01T23:01:21.901596",
     "exception": false,
     "start_time": "2024-02-01T23:01:21.881651",
     "status": "completed"
    },
    "tags": []
   },
   "source": [
    "## Alpha diversity analysis\n",
    "\n",
    "#### Reference\n",
    "- [The Use and Types of Alpha-Diversity Metrics in Microbial NGS](https://www.cd-genomics.com/microbioseq/the-use-and-types-of-alpha-diversity-metrics-in-microbial-ngs.html)\n",
    "- [Alpha diversity metrics](http://scikit-bio.org/docs/0.2.0/generated/skbio.diversity.alpha.html)\n",
    "\n",
    "#### Methods\n",
    "- [diversity alpha](https://docs.qiime2.org/2022.8/plugins/available/diversity/alpha/): Computes a user-specified alpha diversity metric for all samples in a\n",
    "feature table.\n",
    "- [diversity alpha_phylogenetic](https://docs.qiime2.org/2022.8/plugins/available/diversity/alpha-phylogenetic/): Computes a user-specified phylogenetic alpha diversity metric for all\n",
    "samples in a feature table.\n",
    "- [diversity alpha_correlation](https://docs.qiime2.org/2022.8/plugins/available/diversity/alpha-correlation/): Determine whether numeric sample metadata columns are correlated with alpha diversity.\n",
    "- [diversity alpha_group_significance](https://docs.qiime2.org/2022.8/plugins/available/diversity/alpha-group-significance/): Visually and statistically compare groups of alpha diversity values."
   ]
  },
  {
   "cell_type": "markdown",
   "id": "606b9c75",
   "metadata": {
    "papermill": {
     "duration": 0.019753,
     "end_time": "2024-02-01T23:01:21.941296",
     "exception": false,
     "start_time": "2024-02-01T23:01:21.921543",
     "status": "completed"
    },
    "tags": []
   },
   "source": [
    "### Compute Alpha Diversity vectors\n",
    "- [diversity alpha](https://docs.qiime2.org/2022.8/plugins/available/diversity/alpha/): Computes a user-specified alpha diversity metric for all samples in a feature table.\n",
    "- [Alpha diversity metrics](http://scikit-bio.org/docs/0.2.0/generated/skbio.diversity.alpha.html)\n",
    " - Choices: ('ace', 'berger_parker_d', 'brillouin_d', 'chao1', 'chao1_ci', 'dominance', 'doubles', 'enspie', 'esty_ci', 'fisher_alpha', 'gini_index', 'goods_coverage', 'heip_e', 'kempton_taylor_q', 'lladser_pe', 'margalef', 'mcintosh_d', 'mcintosh_e', 'menhinick', 'michaelis_menten_fit', 'observed_features', 'osd', 'pielou_e', 'robbins', 'shannon', 'simpson', 'simpson_e', 'singles', 'strong')"
   ]
  },
  {
   "cell_type": "code",
   "execution_count": 9,
   "id": "556e5264",
   "metadata": {
    "ExecuteTime": {
     "end_time": "2022-09-29T20:54:20.790166Z",
     "start_time": "2022-09-29T20:54:20.451134Z"
    },
    "execution": {
     "iopub.execute_input": "2024-02-01T23:01:21.984839Z",
     "iopub.status.busy": "2024-02-01T23:01:21.984471Z",
     "iopub.status.idle": "2024-02-01T23:01:22.414150Z",
     "shell.execute_reply": "2024-02-01T23:01:22.413477Z"
    },
    "papermill": {
     "duration": 0.455685,
     "end_time": "2024-02-01T23:01:22.416788",
     "exception": false,
     "start_time": "2024-02-01T23:01:21.961103",
     "status": "completed"
    },
    "tags": []
   },
   "outputs": [
    {
     "name": "stdout",
     "output_type": "stream",
     "text": [
      "Calculating alpha diversity: chao1\n",
      "{'metric': 'chao1', 'table': <artifact: FeatureTable[Frequency] uuid: 78d81b64-5063-407a-a6cb-2001f2a00e71>}\n",
      "{'metric': 'chao1', 'table': 876 x 12 <class 'biom.table.Table'> with 1655 nonzero entries (15% dense)}\n",
      "{'metric': 'chao1', 'table': 876 x 12 <class 'biom.table.Table'> with 1655 nonzero entries (15% dense)}\n",
      "DONE: Calculating alpha diversity: chao1\n",
      "Calculating alpha diversity: chao1_ci\n",
      "{'metric': 'chao1_ci', 'table': <artifact: FeatureTable[Frequency] uuid: 78d81b64-5063-407a-a6cb-2001f2a00e71>}\n",
      "{'metric': 'chao1_ci', 'table': 876 x 12 <class 'biom.table.Table'> with 1655 nonzero entries (15% dense)}\n",
      "{'metric': 'chao1_ci', 'table': 876 x 12 <class 'biom.table.Table'> with 1655 nonzero entries (15% dense)}\n",
      "DONE: Calculating alpha diversity: chao1_ci\n",
      "Calculating alpha diversity: observed_features\n",
      "{'metric': 'observed_features', 'table': <artifact: FeatureTable[Frequency] uuid: 78d81b64-5063-407a-a6cb-2001f2a00e71>}\n",
      "{'table': 876 x 12 <class 'biom.table.Table'> with 1655 nonzero entries (15% dense)}\n",
      "{'table': 876 x 12 <class 'biom.table.Table'> with 1655 nonzero entries (15% dense)}\n"
     ]
    },
    {
     "name": "stdout",
     "output_type": "stream",
     "text": [
      "DONE: Calculating alpha diversity: observed_features\n",
      "Calculating alpha diversity: shannon\n",
      "{'metric': 'shannon', 'table': <artifact: FeatureTable[Frequency] uuid: 78d81b64-5063-407a-a6cb-2001f2a00e71>}\n",
      "{'drop_undefined_samples': False, 'table': 876 x 12 <class 'biom.table.Table'> with 1655 nonzero entries (15% dense)}\n",
      "{'drop_undefined_samples': False, 'table': 876 x 12 <class 'biom.table.Table'> with 1655 nonzero entries (15% dense)}\n",
      "DONE: Calculating alpha diversity: shannon\n",
      "Calculating alpha diversity: simpson\n",
      "{'metric': 'simpson', 'table': <artifact: FeatureTable[Frequency] uuid: 78d81b64-5063-407a-a6cb-2001f2a00e71>}\n",
      "{'metric': 'simpson', 'table': 876 x 12 <class 'biom.table.Table'> with 1655 nonzero entries (15% dense)}\n",
      "{'metric': 'simpson', 'table': 876 x 12 <class 'biom.table.Table'> with 1655 nonzero entries (15% dense)}\n",
      "DONE: Calculating alpha diversity: simpson\n",
      "Calculating alpha diversity: simpson_e\n",
      "{'metric': 'simpson_e', 'table': <artifact: FeatureTable[Frequency] uuid: 78d81b64-5063-407a-a6cb-2001f2a00e71>}\n",
      "{'metric': 'simpson_e', 'table': 876 x 12 <class 'biom.table.Table'> with 1655 nonzero entries (15% dense)}\n",
      "{'metric': 'simpson_e', 'table': 876 x 12 <class 'biom.table.Table'> with 1655 nonzero entries (15% dense)}\n"
     ]
    },
    {
     "name": "stdout",
     "output_type": "stream",
     "text": [
      "DONE: Calculating alpha diversity: simpson_e\n"
     ]
    }
   ],
   "source": [
    "metrics = ('ace', 'berger_parker_d', 'brillouin_d', 'chao1', 'chao1_ci', 'dominance', 'doubles', 'enspie', 'esty_ci', 'fisher_alpha', 'gini_index', 'goods_coverage', 'heip_e', 'kempton_taylor_q', 'lladser_pe', 'margalef', 'mcintosh_d', 'mcintosh_e', 'menhinick', 'michaelis_menten_fit', 'observed_features', 'osd', 'pielou_e', 'robbins', 'shannon', 'simpson', 'simpson_e', 'singles', 'strong')\n",
    "\n",
    "# Sugestão de valores para Alpha diversity\n",
    "# chao1 e observed_features (riqueza); shannon e simpson (diversidade - que levam em consideração riqueza e equitabilidade).\n",
    "metrics = ('chao1', 'chao1_ci', 'observed_features', 'shannon', 'simpson', 'simpson_e')\n",
    "alpha_diversities = dict()\n",
    "for metric in metrics:\n",
    "    print(f\"Calculating alpha diversity: {metric}\")\n",
    "    try:\n",
    "        alpha_diversity = alpha(table=tabs, metric=metric).alpha_diversity\n",
    "        alpha_diversities[metric] = alpha_diversity\n",
    "        # Save SampleData[AlphaDiversity] Artifact\n",
    "        file_path = os.path.join(alpha_path, f'alpha-values-{metric}.qza')\n",
    "        alpha_diversity.save(file_path)\n",
    "        print(f\"DONE: Calculating alpha diversity: {metric}\")\n",
    "    except Exception as e:\n",
    "        print(f\"ERROR: Calculating alpha diversity: {metric}\")\n",
    "        print(e)"
   ]
  },
  {
   "cell_type": "markdown",
   "id": "184bcb7b",
   "metadata": {
    "papermill": {
     "duration": 0.020615,
     "end_time": "2024-02-01T23:01:22.462190",
     "exception": false,
     "start_time": "2024-02-01T23:01:22.441575",
     "status": "completed"
    },
    "tags": []
   },
   "source": [
    "### Create Phylogenetic inference\n",
    "\n",
    "- [alignment align_to_tree_mafft_fasttree](https://docs.qiime2.org/2022.8/plugins/available/phylogeny/align-to-tree-mafft-fasttree/): Build a phylogenetic tree using fasttree and mafft alignment\n",
    "\n",
    "This pipeline will start by creating a sequence alignment using MAFFT,\n",
    "after which any alignment columns that are phylogenetically uninformative\n",
    "or ambiguously aligned will be removed (masked). The resulting masked\n",
    "alignment will be used to infer a phylogenetic tree and then subsequently\n",
    "rooted at its midpoint. Output files from each step of the pipeline will be\n",
    "saved. This includes both the unmasked and masked MAFFT alignment from\n",
    "q2-alignment methods, and both the rooted and unrooted phylogenies from\n",
    "q2-phylogeny methods.\n",
    "\n",
    "\n",
    "Returns\n",
    "- alignment : FeatureData[AlignedSequence] : The aligned sequences.\n",
    "- masked_alignment : FeatureData[AlignedSequence] : The masked alignment.\n",
    "- tree : Phylogeny[Unrooted] : The unrooted phylogenetic tree.\n",
    "- rooted_tree : Phylogeny[Rooted] : The rooted phylogenetic tree."
   ]
  },
  {
   "cell_type": "code",
   "execution_count": 10,
   "id": "9c8cfe47",
   "metadata": {
    "ExecuteTime": {
     "end_time": "2022-09-29T20:54:35.139531Z",
     "start_time": "2022-09-29T20:54:20.792130Z"
    },
    "execution": {
     "iopub.execute_input": "2024-02-01T23:01:22.508826Z",
     "iopub.status.busy": "2024-02-01T23:01:22.508488Z",
     "iopub.status.idle": "2024-02-01T23:01:36.320072Z",
     "shell.execute_reply": "2024-02-01T23:01:36.319137Z"
    },
    "papermill": {
     "duration": 13.836871,
     "end_time": "2024-02-01T23:01:36.321768",
     "exception": false,
     "start_time": "2024-02-01T23:01:22.484897",
     "status": "completed"
    },
    "tags": []
   },
   "outputs": [
    {
     "name": "stdout",
     "output_type": "stream",
     "text": [
      "{'n_threads': 6, 'mask_max_gap_frequency': 1.0, 'mask_min_conservation': 0.4, 'parttree': False, 'sequences': <artifact: FeatureData[Sequence] uuid: f1557e81-0910-4664-9438-e5a08f75771a>}\n",
      "{'n_threads': 6, 'parttree': False, 'sequences': <q2_types.feature_data._format.DNAFASTAFormat object at 0x7f916a6f7430>}\n",
      "{'n_threads': 6, 'parttree': False, 'sequences': <q2_types.feature_data._format.DNAFASTAFormat object at 0x7f916a6f7430>}\n",
      "Running external command line application. This may print messages to stdout and/or stderr.\n",
      "The command being run is below. This command cannot be manually re-run as it will depend on temporary files that no longer exist.\n",
      "\n",
      "Command: mafft --preservecase --inputorder --thread 6 /tmp/qiime2-archive-8xk15i6p/f1557e81-0910-4664-9438-e5a08f75771a/data/dna-sequences.fasta\n",
      "\n"
     ]
    },
    {
     "name": "stderr",
     "output_type": "stream",
     "text": [
      "inputfile = orig\n",
      "876 x 430 - 403 d\n",
      "nthread = 6\n",
      "nthreadpair = 6\n",
      "nthreadtb = 6\n",
      "ppenalty_ex = 0\n",
      "stacksize: 8192 kb\n",
      "generating a scoring matrix for nucleotide (dist=200) ... done\n",
      "Gap Penalty = -1.53, +0.00, +0.00\n",
      "\n",
      "\n",
      "\n",
      "Making a distance matrix ..\n",
      "\r",
      "    1 / 876 (thread    0)\r",
      "  101 / 876 (thread    4)\r",
      "  201 / 876 (thread    1)\r",
      "  301 / 876 (thread    0)\r",
      "  401 / 876 (thread    4)\r",
      "  501 / 876 (thread    4)\r",
      "  601 / 876 (thread    4)\r",
      "  701 / 876 (thread    2)\r",
      "  801 / 876 (thread    1)\n",
      "done.\n",
      "\n",
      "Constructing a UPGMA tree (efffree=0) ... \n",
      "\r",
      "    0 / 876\r",
      "   10 / 876\r",
      "   20 / 876\r",
      "   30 / 876\r",
      "   40 / 876\r",
      "   50 / 876\r",
      "   60 / 876\r",
      "   70 / 876\r",
      "   80 / 876\r",
      "   90 / 876\r",
      "  100 / 876\r",
      "  110 / 876\r",
      "  120 / 876\r",
      "  130 / 876\r",
      "  140 / 876\r",
      "  150 / 876\r",
      "  160 / 876\r",
      "  170 / 876\r",
      "  180 / 876\r",
      "  190 / 876\r",
      "  200 / 876\r",
      "  210 / 876\r",
      "  220 / 876\r",
      "  230 / 876\r",
      "  240 / 876\r",
      "  250 / 876\r",
      "  260 / 876\r",
      "  270 / 876\r",
      "  280 / 876\r",
      "  290 / 876\r",
      "  300 / 876\r",
      "  310 / 876\r",
      "  320 / 876\r",
      "  330 / 876\r",
      "  340 / 876\r",
      "  350 / 876\r",
      "  360 / 876\r",
      "  370 / 876\r",
      "  380 / 876\r",
      "  390 / 876\r",
      "  400 / 876\r",
      "  410 / 876\r",
      "  420 / 876\r",
      "  430 / 876\r",
      "  440 / 876\r",
      "  450 / 876\r",
      "  460 / 876\r",
      "  470 / 876\r",
      "  480 / 876\r",
      "  490 / 876\r",
      "  500 / 876\r",
      "  510 / 876\r",
      "  520 / 876\r",
      "  530 / 876\r",
      "  540 / 876\r",
      "  550 / 876\r",
      "  560 / 876\r",
      "  570 / 876\r",
      "  580 / 876\r",
      "  590 / 876\r",
      "  600 / 876\r",
      "  610 / 876\r",
      "  620 / 876\r",
      "  630 / 876\r",
      "  640 / 876\r",
      "  650 / 876\r",
      "  660 / 876\r",
      "  670 / 876\r",
      "  680 / 876\r",
      "  690 / 876\r",
      "  700 / 876\r",
      "  710 / 876\r",
      "  720 / 876\r",
      "  730 / 876\r",
      "  740 / 876\r",
      "  750 / 876\r",
      "  760 / 876\r",
      "  770 / 876\r",
      "  780 / 876\r",
      "  790 / 876\r",
      "  800 / 876\r",
      "  810 / 876\r",
      "  820 / 876\r",
      "  830 / 876\r",
      "  840 / 876\r",
      "  850 / 876\r",
      "  860 / 876\r",
      "  870 / 876\n",
      "done.\n",
      "\n",
      "Progressive alignment 1/2... \n",
      "\r",
      "STEP     1 / 875 (thread    0) f\b\b\r",
      "STEP     2 / 875 (thread    1)\r",
      "STEP     3 / 875 (thread    3) f\b\b f\b\b\r",
      "STEP     4 / 875 (thread    2) f\b\b\r",
      "STEP     5 / 875 (thread    4) f\b\b\r",
      "STEP     6 / 875 (thread    5) f\b\b\r",
      "STEP     7 / 875 (thread    4) f\b\b\r",
      "STEP     8 / 875 (thread    3) f\b\b\r",
      "STEP     9 / 875 (thread    2) f\b\b\r",
      "STEP    10 / 875 (thread    1) f\b\b\r",
      "STEP    11 / 875 (thread    5) f\b\b\r",
      "STEP    12 / 875 (thread    0) f\b\b\r",
      "STEP    13 / 875 (thread    4) f\b\b\r",
      "STEP    14 / 875 (thread    3) f\b\b\r",
      "STEP    15 / 875 (thread    5) f\b\b\r",
      "STEP    16 / 875 (thread    0) f\b\b\r",
      "STEP    17 / 875 (thread    4) f\b\b\r",
      "STEP    18 / 875 (thread    3) f\b\b\r",
      "STEP    19 / 875 (thread    2) f\b\b\r",
      "STEP    20 / 875 (thread    1) f\b\b\r",
      "STEP    21 / 875 (thread    5) f\b\b\r",
      "STEP    22 / 875 (thread    0) f\b\b\r",
      "STEP    23 / 875 (thread    4) f\b\b\r",
      "STEP    24 / 875 (thread    3) f\b\b\r",
      "STEP    25 / 875 (thread    2) f\b\b\r",
      "STEP    26 / 875 (thread    1) f\b\b\r",
      "STEP    27 / 875 (thread    0) f\b\b\r",
      "STEP    28 / 875 (thread    5) f\b\b\r",
      "STEP    29 / 875 (thread    4) f\b\b\r",
      "STEP    30 / 875 (thread    3) f\b\b\r",
      "STEP    31 / 875 (thread    0) f\b\b\r",
      "STEP    32 / 875 (thread    4) f\b\b\r",
      "STEP    33 / 875 (thread    5) f\b\b\r",
      "STEP    34 / 875 (thread    3) f\b\b\r",
      "STEP    35 / 875 (thread    1) f\b\b\r",
      "STEP    36 / 875 (thread    2) f\b\b\r",
      "STEP    37 / 875 (thread    0) f\b\b\r",
      "STEP    38 / 875 (thread    4) f\b\b\r",
      "STEP    39 / 875 (thread    5)\r",
      "STEP    40 / 875 (thread    3) f\b\b f\b\b\r",
      "STEP    41 / 875 (thread    1) f\b\b\r",
      "STEP    42 / 875 (thread    2) f\b\b\r",
      "STEP    43 / 875 (thread    4) f\b\b\r",
      "STEP    44 / 875 (thread    0) f\b\b\r",
      "STEP    45 / 875 (thread    3) f\b\b\r",
      "STEP    46 / 875 (thread    5) f\b\b\r",
      "STEP    47 / 875 (thread    2) f\b\b\r",
      "STEP    48 / 875 (thread    1) f\b\b\r",
      "STEP    49 / 875 (thread    4) f\b\b\r",
      "STEP    50 / 875 (thread    0) f\b\b\r",
      "STEP    51 / 875 (thread    5) f\b\b\r",
      "STEP    52 / 875 (thread    2) f\b\b\r",
      "STEP    53 / 875 (thread    1) f\b\b\r",
      "STEP    54 / 875 (thread    0) f\b\b\r",
      "STEP    55 / 875 (thread    3) f\b\b\r",
      "STEP    56 / 875 (thread    5) f\b\b\r",
      "STEP    57 / 875 (thread    1) f\b\b\r",
      "STEP    58 / 875 (thread    2) f\b\b\r",
      "STEP    59 / 875 (thread    0) f\b\b\r",
      "STEP    60 / 875 (thread    4) f\b\b\r",
      "STEP    61 / 875 (thread    3) f\b\b\r",
      "STEP    62 / 875 (thread    5) f\b\b\r",
      "STEP    63 / 875 (thread    2) f\b\b\r",
      "STEP    64 / 875 (thread    1) f\b\b\r",
      "STEP    65 / 875 (thread    0) f\b\b\r",
      "STEP    66 / 875 (thread    4) f\b\b\r",
      "STEP    67 / 875 (thread    3) f\b\b\r",
      "STEP    68 / 875 (thread    1)\r",
      "STEP    70 / 875 (thread    2) f\b\b f\b\b\r",
      "STEP    69 / 875 (thread    5) f\b\b\r",
      "STEP    71 / 875 (thread    0) f\b\b\r",
      "STEP    72 / 875 (thread    4) f\b\b\r",
      "STEP    73 / 875 (thread    3) f\b\b\r",
      "STEP    74 / 875 (thread    2) f\b\b\r",
      "STEP    75 / 875 (thread    1) f\b\b\r",
      "STEP    76 / 875 (thread    5) f\b\b\r",
      "STEP    77 / 875 (thread    0) f\b\b\r",
      "STEP    78 / 875 (thread    4) f\b\b\r",
      "STEP    79 / 875 (thread    3) f\b\b\r",
      "STEP    80 / 875 (thread    1) f\b\b\r",
      "STEP    81 / 875 (thread    2) f\b\b\r",
      "STEP    82 / 875 (thread    5) f\b\b\r",
      "STEP    83 / 875 (thread    0) f\b\b\r",
      "STEP    84 / 875 (thread    3) f\b\b\r",
      "STEP    86 / 875 (thread    1) f\b\b\r",
      "STEP    87 / 875 (thread    4) f\b\b\r",
      "STEP    88 / 875 (thread    5) f\b\b\r",
      "STEP    89 / 875 (thread    1) f\b\b\r",
      "STEP    90 / 875 (thread    0) f\b\b\r",
      "STEP    91 / 875 (thread    3) f\b\b\r",
      "STEP    85 / 875 (thread    2) f\b\b\r",
      "STEP    93 / 875 (thread    5) f\b\b\r",
      "STEP    94 / 875 (thread    1) f\b\b\r",
      "STEP    95 / 875 (thread    5) f\b\b\r",
      "STEP    96 / 875 (thread    0) f\b\b\r",
      "STEP    92 / 875 (thread    4) f\b\b\r",
      "STEP    98 / 875 (thread    2) f\b\b\r",
      "STEP    99 / 875 (thread    0) f\b\b\r",
      "STEP   100 / 875 (thread    5) f\b\b\r",
      "STEP   101 / 875 (thread    1) f\b\b\r",
      "STEP   102 / 875 (thread    4) f\b\b\r",
      "STEP    97 / 875 (thread    3) f\b\b\r",
      "STEP   103 / 875 (thread    2) f\b\b\r",
      "STEP   104 / 875 (thread    5) f\b\b\r",
      "STEP   105 / 875 (thread    0) f\b\b\r",
      "STEP   107 / 875 (thread    4) f\b\b\r",
      "STEP   108 / 875 (thread    1) f\b\b\r",
      "STEP   109 / 875 (thread    3) f\b\b\r",
      "STEP   110 / 875 (thread    2) f\b\b\r",
      "STEP   106 / 875 (thread    5) f\b\b\r",
      "STEP   111 / 875 (thread    4) f\b\b"
     ]
    },
    {
     "name": "stderr",
     "output_type": "stream",
     "text": [
      "\r",
      "STEP   114 / 875 (thread    0) f\b\b\r",
      "STEP   115 / 875 (thread    5) f\b\b\r",
      "STEP   112 / 875 (thread    4) f\b\b\r",
      "STEP   116 / 875 (thread    2) f\b\b\r",
      "STEP   117 / 875 (thread    0) f\b\b\r",
      "STEP   118 / 875 (thread    5) f\b\b\r",
      "STEP   119 / 875 (thread    3) f\b\b\r",
      "STEP   120 / 875 (thread    5) f\b\b\r",
      "STEP   121 / 875 (thread    4) f\b\b\r",
      "STEP   113 / 875 (thread    1) f\b\b\r",
      "STEP   122 / 875 (thread    0) f\b\b\r",
      "STEP   123 / 875 (thread    3) f\b\b\r",
      "STEP   124 / 875 (thread    4) f\b\b\r",
      "STEP   125 / 875 (thread    2) f\b\b\r",
      "STEP   126 / 875 (thread    5) f\b\b\r",
      "STEP   127 / 875 (thread    0) f\b\b\r",
      "STEP   128 / 875 (thread    4) f\b\b\r",
      "STEP   129 / 875 (thread    5) f\b\b\r",
      "STEP   130 / 875 (thread    2) f\b\b\r",
      "STEP   131 / 875 (thread    1) f\b\b\r",
      "STEP   132 / 875 (thread    0) f\b\b\r",
      "STEP   133 / 875 (thread    3) f\b\b\r",
      "STEP   134 / 875 (thread    5) f\b\b\r",
      "STEP   135 / 875 (thread    4) f\b\b\r",
      "STEP   136 / 875 (thread    2) f\b\b\r",
      "STEP   137 / 875 (thread    4) f\b\b\r",
      "STEP   138 / 875 (thread    5) f\b\b\r",
      "STEP   139 / 875 (thread    4) f\b\b\r",
      "STEP   140 / 875 (thread    2) f\b\b\r",
      "STEP   141 / 875 (thread    1) f\b\b\r",
      "STEP   142 / 875 (thread    0) f\b\b\r",
      "STEP   143 / 875 (thread    3) f\b\b\r",
      "STEP   144 / 875 (thread    4) f\b\b\r",
      "STEP   145 / 875 (thread    5) f\b\b\r",
      "STEP   146 / 875 (thread    2) f\b\b\r",
      "STEP   147 / 875 (thread    4) f\b\b\r",
      "STEP   148 / 875 (thread    1) f\b\b\r",
      "STEP   149 / 875 (thread    5) f\b\b\r",
      "STEP   150 / 875 (thread    3) f\b\b\r",
      "STEP   151 / 875 (thread    0) f\b\b\r",
      "STEP   152 / 875 (thread    4) f\b\b\r",
      "STEP   153 / 875 (thread    5) f\b\b\r",
      "STEP   154 / 875 (thread    1) f\b\b\r",
      "STEP   155 / 875 (thread    4) f\b\b\r",
      "STEP   156 / 875 (thread    3) f\b\b\r",
      "STEP   157 / 875 (thread    0) f\b\b\r",
      "STEP   158 / 875 (thread    2) f\b\b\r",
      "STEP   159 / 875 (thread    5) f\b\b\r",
      "STEP   160 / 875 (thread    4) f\b\b\r",
      "STEP   161 / 875 (thread    1) f\b\b\r",
      "STEP   162 / 875 (thread    3) f\b\b\r",
      "STEP   164 / 875 (thread    2) f\b\b\r",
      "STEP   163 / 875 (thread    0) f\b\b\r",
      "STEP   165 / 875 (thread    4) f\b\b\r",
      "STEP   166 / 875 (thread    5) f\b\b\r",
      "STEP   167 / 875 (thread    4) f\b\b\r",
      "STEP   168 / 875 (thread    1) f\b\b\r",
      "STEP   169 / 875 (thread    3) f\b\b\r",
      "STEP   171 / 875 (thread    5) f\b\b\r",
      "STEP   172 / 875 (thread    1) f\b\b\r",
      "STEP   173 / 875 (thread    3) f\b\b\r",
      "STEP   174 / 875 (thread    0) f\b\b\r",
      "STEP   175 / 875 (thread    2) f\b\b\r",
      "STEP   170 / 875 (thread    4) f\b\b\r",
      "STEP   176 / 875 (thread    5) f\b\b\r",
      "STEP   177 / 875 (thread    3) f\b\b\r",
      "STEP   178 / 875 (thread    0) f\b\b\r",
      "STEP   179 / 875 (thread    2) f\b\b\r",
      "STEP   180 / 875 (thread    4) f\b\b\r",
      "STEP   181 / 875 (thread    5) f\b\b\r",
      "STEP   182 / 875 (thread    4) f\b\b\r",
      "STEP   183 / 875 (thread    1) f\b\b\r",
      "STEP   184 / 875 (thread    5) f\b\b\r",
      "STEP   185 / 875 (thread    3) f\b\b\r",
      "STEP   186 / 875 (thread    0) f\b\b\r",
      "STEP   187 / 875 (thread    2) f\b\b\r",
      "STEP   188 / 875 (thread    4) f\b\b\r",
      "STEP   189 / 875 (thread    1) f\b\b\r",
      "STEP   190 / 875 (thread    0) f\b\b\r",
      "STEP   191 / 875 (thread    3) f\b\b\r",
      "STEP   192 / 875 (thread    5) f\b\b\r",
      "STEP   193 / 875 (thread    4) f\b\b\r",
      "STEP   194 / 875 (thread    5) f\b\b\r",
      "STEP   195 / 875 (thread    0) f\b\b\r",
      "STEP   196 / 875 (thread    2) f\b\b\r",
      "STEP   197 / 875 (thread    4) f\b\b\r",
      "STEP   198 / 875 (thread    1) f\b\b\r",
      "STEP   199 / 875 (thread    3) f\b\b\r",
      "STEP   200 / 875 (thread    0) f\b\b\r",
      "STEP   201 / 875 (thread    5) f\b\b\r",
      "STEP   202 / 875 (thread    4) f\b\b\r",
      "STEP   203 / 875 (thread    4) f\b\b\r",
      "STEP   204 / 875 (thread    2) f\b\b\r",
      "STEP   205 / 875 (thread    1) f\b\b\r",
      "STEP   206 / 875 (thread    3) f\b\b\r",
      "STEP   207 / 875 (thread    5) f\b\b\r",
      "STEP   208 / 875 (thread    4) f\b\b\r",
      "STEP   209 / 875 (thread    2) f\b\b\r",
      "STEP   210 / 875 (thread    0) f\b\b\r",
      "STEP   211 / 875 (thread    5) f\b\b\r",
      "STEP   212 / 875 (thread    4) f\b\b\r",
      "STEP   213 / 875 (thread    3) f\b\b\r",
      "STEP   214 / 875 (thread    1) f\b\b\r",
      "STEP   215 / 875 (thread    5) f\b\b\r",
      "STEP   216 / 875 (thread    4) f\b\b\r",
      "STEP   217 / 875 (thread    2) f\b\b\r",
      "STEP   218 / 875 (thread    0) f\b\b\r",
      "STEP   219 / 875 (thread    3) f\b\b\r",
      "STEP   220 / 875 (thread    5) f\b\b\r",
      "STEP   221 / 875 (thread    4) f\b\b\r",
      "STEP   222 / 875 (thread    5) f\b\b\r",
      "STEP   223 / 875 (thread    0) f\b\b\r",
      "STEP   224 / 875 (thread    2) f\b\b\r",
      "STEP   225 / 875 (thread    1) f\b\b\r",
      "STEP   226 / 875 (thread    4) f\b\b\r",
      "STEP   227 / 875 (thread    5) f\b\b\r",
      "STEP   228 / 875 (thread    4) f\b\b\r",
      "STEP   230 / 875 (thread    1) f\b\b\r",
      "STEP   231 / 875 (thread    5) f\b\b\r",
      "STEP   232 / 875 (thread    0) f\b\b\r",
      "STEP   229 / 875 (thread    3) f\b\b\r",
      "STEP   233 / 875 (thread    4) f\b\b\r",
      "STEP   234 / 875 (thread    5) f\b\b\r",
      "STEP   235 / 875 (thread    2) f\b\b\r",
      "STEP   236 / 875 (thread    1) f\b\b\r",
      "STEP   237 / 875 (thread    0) f\b\b\r",
      "STEP   238 / 875 (thread    4) f\b\b\r",
      "STEP   239 / 875 (thread    5) f\b\b\r",
      "STEP   240 / 875 (thread    3) f\b\b\r",
      "STEP   241 / 875 (thread    4) f\b\b\r",
      "STEP   242 / 875 (thread    2) f\b\b\r",
      "STEP   243 / 875 (thread    4) f\b\b\r",
      "STEP   244 / 875 (thread    1) f\b\b\r",
      "STEP   245 / 875 (thread    5) f\b\b\r",
      "STEP   246 / 875 (thread    0) f\b\b\r",
      "STEP   247 / 875 (thread    2) f\b\b\r",
      "STEP   248 / 875 (thread    1) f\b\b\r",
      "STEP   249 / 875 (thread    3) f\b\b\r",
      "STEP   250 / 875 (thread    4) f\b\b\r",
      "STEP   251 / 875 (thread    5) f\b\b\r",
      "STEP   252 / 875 (thread    4) f\b\b\r",
      "STEP   253 / 875 (thread    2) f\b\b\r",
      "STEP   254 / 875 (thread    1) f\b\b\r",
      "STEP   255 / 875 (thread    3) f\b\b\r",
      "STEP   256 / 875 (thread    5) f\b\b\r",
      "STEP   257 / 875 (thread    4) f\b\b\r",
      "STEP   259 / 875 (thread    0) f\b\b\r",
      "STEP   258 / 875 (thread    2) f\b\b\r",
      "STEP   260 / 875 (thread    5) f\b\b\r",
      "STEP   261 / 875 (thread    3) f\b\b\r",
      "STEP   262 / 875 (thread    0) f\b\b\r",
      "STEP   263 / 875 (thread    5) f\b\b\r",
      "STEP   264 / 875 (thread    4) f\b\b\r",
      "STEP   265 / 875 (thread    1) f\b\b\r",
      "STEP   266 / 875 (thread    3) f\b\b\r",
      "STEP   267 / 875 (thread    5) f\b\b\r",
      "STEP   268 / 875 (thread    4) f\b\b\r",
      "STEP   269 / 875 (thread    2) f\b\b\r",
      "STEP   270 / 875 (thread    0) f\b\b\r",
      "STEP   271 / 875 (thread    5) f\b\b\r",
      "STEP   272 / 875 (thread    1) f\b\b\r",
      "STEP   273 / 875 (thread    4) f\b\b\r",
      "STEP   274 / 875 (thread    3) f\b\b\r",
      "STEP   275 / 875 (thread    5) f\b\b\r",
      "STEP   276 / 875 (thread    2) f\b\b\r",
      "STEP   277 / 875 (thread    0) f\b\b\r",
      "STEP   279 / 875 (thread    1) f\b\b\r",
      "STEP   278 / 875 (thread    4) f\b\b\r",
      "STEP   280 / 875 (thread    5) f\b\b\r",
      "STEP   281 / 875 (thread    2) f\b\b\r",
      "STEP   282 / 875 (thread    3) f\b\b\r",
      "STEP   283 / 875 (thread    4) f\b\b\r",
      "STEP   284 / 875 (thread    0) f\b\b\r",
      "STEP   285 / 875 (thread    5) f\b\b\r",
      "STEP   287 / 875 (thread    4) f\b\b\r",
      "STEP   286 / 875 (thread    1) f\b\b\r",
      "STEP   288 / 875 (thread    2) f\b\b\r",
      "STEP   289 / 875 (thread    3) f\b\b\r",
      "STEP   290 / 875 (thread    5) f\b\b\r",
      "STEP   292 / 875 (thread    4) f\b\b\r",
      "STEP   293 / 875 (thread    3) f\b\b\r",
      "STEP   294 / 875 (thread    5) f\b\b\r",
      "STEP   295 / 875 (thread    0) f\b\b\r",
      "STEP   291 / 875 (thread    2) f\b\b\r",
      "STEP   296 / 875 (thread    1) f\b\b\r",
      "STEP   297 / 875 (thread    4) f\b\b\r",
      "STEP   298 / 875 (thread    5) f\b\b\r",
      "STEP   299 / 875 (thread    1) f\b\b\r",
      "STEP   300 / 875 (thread    3) f\b\b\r",
      "STEP   301 / 875 (thread    4) f\b\b\r",
      "STEP   302 / 875 (thread    5) f\b\b\r",
      "STEP   303 / 875 (thread    2) f\b\b\r",
      "STEP   304 / 875 (thread    4) f\b\b\r",
      "STEP   305 / 875 (thread    0) f\b\b\r",
      "STEP   306 / 875 (thread    3) f\b\b\r",
      "STEP   307 / 875 (thread    1) f\b\b\r",
      "STEP   308 / 875 (thread    0) f\b\b\r",
      "STEP   309 / 875 (thread    3) f\b\b\r",
      "STEP   310 / 875 (thread    5) f\b\b\r",
      "STEP   311 / 875 (thread    4) f\b\b\r",
      "STEP   312 / 875 (thread    1) f\b\b\r",
      "STEP   313 / 875 (thread    3) f\b\b\r",
      "STEP   314 / 875 (thread    2) f\b\b\r",
      "STEP   315 / 875 (thread    5) f\b\b\r",
      "STEP   316 / 875 (thread    4) f\b\b\r",
      "STEP   317 / 875 (thread    0) f\b\b\r",
      "STEP   318 / 875 (thread    1) f\b\b\r",
      "STEP   319 / 875 (thread    5) f\b\b\r",
      "STEP   320 / 875 (thread    4) f\b\b\r",
      "STEP   321 / 875 (thread    2) f\b\b\r",
      "STEP   322 / 875 (thread    3) f\b\b\r",
      "STEP   323 / 875 (thread    5) f\b\b\r",
      "STEP   324 / 875 (thread    4) f\b\b\r",
      "STEP   325 / 875 (thread    0) f\b\b\r",
      "STEP   326 / 875 (thread    1) f\b\b\r",
      "STEP   327 / 875 (thread    5) f\b\b\r",
      "STEP   328 / 875 (thread    4) f\b\b\r",
      "STEP   329 / 875 (thread    5) f\b\b\r",
      "STEP   330 / 875 (thread    4) f\b\b\r",
      "STEP   331 / 875 (thread    2) f\b\b\r",
      "STEP   332 / 875 (thread    3) f\b\b\r",
      "STEP   333 / 875 (thread    5) f\b\b\r",
      "STEP   334 / 875 (thread    1) f\b\b\r",
      "STEP   335 / 875 (thread    0) f\b\b\r",
      "STEP   336 / 875 (thread    4) f\b\b\r",
      "STEP   337 / 875 (thread    5) f\b\b\r",
      "STEP   338 / 875 (thread    1) f\b\b\r",
      "STEP   339 / 875 (thread    4) f\b\b\r",
      "STEP   340 / 875 (thread    2) f\b\b\r",
      "STEP   341 / 875 (thread    3) f\b\b\r",
      "STEP   342 / 875 (thread    5) f\b\b\r",
      "STEP   343 / 875 (thread    4) f\b\b\r",
      "STEP   344 / 875 (thread    0) f\b\b\r",
      "STEP   345 / 875 (thread    1) f\b\b\r",
      "STEP   346 / 875 (thread    2) f\b\b\r",
      "STEP   347 / 875 (thread    4) f\b\b\r",
      "STEP   348 / 875 (thread    5) f\b\b\r",
      "STEP   350 / 875 (thread    3) f\b\b\r",
      "STEP   349 / 875 (thread    1) f\b\b\r",
      "STEP   352 / 875 (thread    4) f\b\b\r",
      "STEP   351 / 875 (thread    0) f\b\b\r",
      "STEP   353 / 875 (thread    5) f\b\b\r",
      "STEP   354 / 875 (thread    2) f\b\b\r",
      "STEP   355 / 875 (thread    4) f\b\b\r",
      "STEP   357 / 875 (thread    0) f\b\b\r",
      "STEP   358 / 875 (thread    3) f\b\b\r",
      "STEP   359 / 875 (thread    1) f\b\b\r",
      "STEP   356 / 875 (thread    5) f\b\b\r",
      "STEP   360 / 875 (thread    2) f\b\b\r",
      "STEP   361 / 875 (thread    4) f\b\b\r",
      "STEP   362 / 875 (thread    1) f\b\b\r",
      "STEP   363 / 875 (thread    2) f\b\b\r",
      "STEP   364 / 875 (thread    5) f\b\b\r",
      "STEP   365 / 875 (thread    0) f\b\b\r",
      "STEP   366 / 875 (thread    3) f\b\b\r",
      "STEP   367 / 875 (thread    4) f\b\b\r",
      "STEP   368 / 875 (thread    5) f\b\b\r",
      "STEP   369 / 875 (thread    0) f\b\b\r",
      "STEP   370 / 875 (thread    3) f\b\b\r",
      "STEP   371 / 875 (thread    2) f\b\b\r",
      "STEP   372 / 875 (thread    4) f\b\b\r",
      "STEP   373 / 875 (thread    5) f\b\b\r",
      "STEP   374 / 875 (thread    1) f\b\b\r",
      "STEP   375 / 875 (thread    4) f\b\b\r",
      "STEP   376 / 875 (thread    1) f\b\b\r",
      "STEP   377 / 875 (thread    5) f\b\b\r",
      "STEP   378 / 875 (thread    0) f\b\b\r",
      "STEP   379 / 875 (thread    2) f\b\b\r",
      "STEP   380 / 875 (thread    4) f\b\b\r",
      "STEP   381 / 875 (thread    3) f\b\b\r",
      "STEP   382 / 875 (thread    5) f\b\b\r",
      "STEP   383 / 875 (thread    1) f\b\b\r",
      "STEP   384 / 875 (thread    0) f\b\b\r",
      "STEP   385 / 875 (thread    2) f\b\b\r",
      "STEP   386 / 875 (thread    4) f\b\b\r",
      "STEP   387 / 875 (thread    5) f\b\b\r",
      "STEP   388 / 875 (thread    2) f\b\b\r",
      "STEP   389 / 875 (thread    3) f\b\b\r",
      "STEP   390 / 875 (thread    5) f\b\b\r",
      "STEP   391 / 875 (thread    1) f\b\b\r",
      "STEP   392 / 875 (thread    4) f\b\b\r",
      "STEP   393 / 875 (thread    0) f\b\b\r",
      "STEP   394 / 875 (thread    4) f\b\b\r",
      "STEP   395 / 875 (thread    5) f\b\b\r",
      "STEP   396 / 875 (thread    0) f\b\b\r",
      "STEP   397 / 875 (thread    3) f\b\b\r",
      "STEP   398 / 875 (thread    2) f\b\b\r",
      "STEP   399 / 875 (thread    1) f\b\b\r",
      "STEP   400 / 875 (thread    4) f\b\b\r",
      "STEP   401 / 875 (thread    4) f\b\b\r",
      "STEP   402 / 875 (thread    5) f\b\b\r",
      "STEP   403 / 875 (thread    5) f\b\b\r",
      "STEP   404 / 875 (thread    3) f\b\b\r",
      "STEP   405 / 875 (thread    5) f\b\b\r",
      "STEP   406 / 875 (thread    2) f\b\b\r",
      "STEP   407 / 875 (thread    4) f\b\b\r",
      "STEP   408 / 875 (thread    1) f\b\b\r",
      "STEP   409 / 875 (thread    0) f\b\b\r",
      "STEP   410 / 875 (thread    5) f\b\b\r",
      "STEP   411 / 875 (thread    4) f\b\b\r",
      "STEP   412 / 875 (thread    3) f\b\b\r",
      "STEP   413 / 875 (thread    2) f\b\b\r",
      "STEP   414 / 875 (thread    1) f\b\b\r",
      "STEP   415 / 875 (thread    4) f\b\b\r",
      "STEP   416 / 875 (thread    5) f\b\b\r",
      "STEP   417 / 875 (thread    4) f\b\b\r",
      "STEP   418 / 875 (thread    0) f\b\b\r",
      "STEP   419 / 875 (thread    3) f\b\b\r",
      "STEP   420 / 875 (thread    2) f\b\b\r",
      "STEP   421 / 875 (thread    1) f\b\b\r",
      "STEP   422 / 875 (thread    5) f\b\b\r",
      "STEP   423 / 875 (thread    3) f\b\b\r",
      "STEP   424 / 875 (thread    1) f\b\b\r",
      "STEP   425 / 875 (thread    4) f\b\b\r",
      "STEP   426 / 875 (thread    2) f\b\b\r",
      "STEP   427 / 875 (thread    5) f\b\b\r",
      "STEP   428 / 875 (thread    0) f\b\b\r",
      "STEP   429 / 875 (thread    5) f\b\b\r",
      "STEP   430 / 875 (thread    3) f\b\b\r",
      "STEP   431 / 875 (thread    4) f\b\b\r",
      "STEP   432 / 875 (thread    5) f\b\b\r",
      "STEP   433 / 875 (thread    1) f\b\b\r",
      "STEP   434 / 875 (thread    4) f\b\b\r",
      "STEP   435 / 875 (thread    5) f\b\b\r",
      "STEP   436 / 875 (thread    0) f\b\b\r",
      "STEP   437 / 875 (thread    2) f\b\b\r",
      "STEP   438 / 875 (thread    3) f\b\b\r",
      "STEP   439 / 875 (thread    5) f\b\b\r",
      "STEP   440 / 875 (thread    4) f\b\b\r",
      "STEP   441 / 875 (thread    1) f\b\b\r",
      "STEP   442 / 875 (thread    0) f\b\b\r",
      "STEP   443 / 875 (thread    5) f\b\b\r",
      "STEP   444 / 875 (thread    3) f\b\b\r",
      "STEP   445 / 875 (thread    4) f\b\b\r",
      "STEP   446 / 875 (thread    2) f\b\b\r",
      "STEP   447 / 875 (thread    1) f\b\b\r",
      "STEP   448 / 875 (thread    5) f\b\b\r",
      "STEP   449 / 875 (thread    5) f\b\b\r",
      "STEP   450 / 875 (thread    0) f\b\b\r",
      "STEP   451 / 875 (thread    4) f\b\b\r",
      "STEP   452 / 875 (thread    3) f\b\b\r",
      "STEP   454 / 875 (thread    4) f\b\b\r",
      "STEP   457 / 875 (thread    3) f\b\b\r",
      "STEP   453 / 875 (thread    2) f\b\b\r",
      "STEP   458 / 875 (thread    1) f\b\b\r",
      "STEP   459 / 875 (thread    3) f\b\b\r",
      "STEP   460 / 875 (thread    5) f\b\b\r",
      "STEP   455 / 875 (thread    0) f\b\b\r",
      "STEP   461 / 875 (thread    5) f\b\b\r",
      "STEP   462 / 875 (thread    5) f\b\b\r",
      "STEP   463 / 875 (thread    1) f\b\b\r",
      "STEP   464 / 875 (thread    3) f\b\b\r",
      "STEP   465 / 875 (thread    5) f\b\b\r",
      "STEP   466 / 875 (thread    1) f\b\b\r",
      "STEP   467 / 875 (thread    5) f\b\b\r",
      "STEP   468 / 875 (thread    3) f\b\b\r",
      "STEP   456 / 875 (thread    4) f\b\b\r",
      "STEP   469 / 875 (thread    2) f\b\b\r",
      "STEP   470 / 875 (thread    0) f\b\b\r",
      "STEP   471 / 875 (thread    5) f\b\b\r",
      "STEP   472 / 875 (thread    1) f\b\b\r",
      "STEP   473 / 875 (thread    2) f\b\b\r",
      "STEP   474 / 875 (thread    3) f\b\b\r",
      "STEP   475 / 875 (thread    5) f\b\b\r",
      "STEP   476 / 875 (thread    0) f\b\b\r",
      "STEP   478 / 875 (thread    2) f\b\b\r",
      "STEP   479 / 875 (thread    5) f\b\b\r",
      "STEP   480 / 875 (thread    4) f\b\b\r",
      "STEP   477 / 875 (thread    1) f\b\b\r",
      "STEP   481 / 875 (thread    0) f\b\b\r",
      "STEP   482 / 875 (thread    3) f\b\b\r",
      "STEP   484 / 875 (thread    2) f\b\b\r",
      "STEP   485 / 875 (thread    5) f\b\b\r",
      "STEP   486 / 875 (thread    0) f\b\b\r",
      "STEP   487 / 875 (thread    3) f\b\b\r",
      "STEP   488 / 875 (thread    5) f\b\b\r",
      "STEP   489 / 875 (thread    2) f\b\b\r",
      "STEP   490 / 875 (thread    0) f\b\b\r",
      "STEP   492 / 875 (thread    3) f\b\b\r",
      "STEP   493 / 875 (thread    1) f\b\b\r",
      "STEP   483 / 875 (thread    4) f\b\b\r",
      "STEP   494 / 875 (thread    0) f\b\b\r",
      "STEP   495 / 875 (thread    2) f\b\b\r",
      "STEP   496 / 875 (thread    0) f\b\b\r",
      "STEP   497 / 875 (thread    1) f\b\b\r",
      "STEP   499 / 875 (thread    2) f\b\b\r",
      "STEP   491 / 875 (thread    5) f\b\b\r",
      "STEP   500 / 875 (thread    4) f\b\b\r",
      "STEP   501 / 875 (thread    0) f\b\b\r",
      "STEP   498 / 875 (thread    3) f\b\b\r",
      "STEP   601 / 875 (thread    5) f\b\b"
     ]
    },
    {
     "name": "stderr",
     "output_type": "stream",
     "text": [
      "\r",
      "STEP   701 / 875 (thread    1) f\b\b\n",
      "Reallocating..done. *alloclen = 1862\n",
      "\r",
      "STEP   801 / 875 (thread    2) f\b\b"
     ]
    },
    {
     "name": "stderr",
     "output_type": "stream",
     "text": [
      "\n",
      "done.\n",
      "\n",
      "Making a distance matrix from msa.. \n",
      "\r",
      "    0 / 876 (thread    0)\r",
      "  100 / 876 (thread    3)\r",
      "  200 / 876 (thread    0)\r",
      "  300 / 876 (thread    2)\r",
      "  400 / 876 (thread    2)\r",
      "  500 / 876 (thread    4)\r",
      "  600 / 876 (thread    3)\r",
      "  700 / 876 (thread    5)\r",
      "  800 / 876 (thread    3)\n",
      "done.\n",
      "\n",
      "Constructing a UPGMA tree (efffree=1) ... \n",
      "\r",
      "    0 / 876\r",
      "   10 / 876\r",
      "   20 / 876\r",
      "   30 / 876\r",
      "   40 / 876\r",
      "   50 / 876\r",
      "   60 / 876\r",
      "   70 / 876\r",
      "   80 / 876\r",
      "   90 / 876\r",
      "  100 / 876\r",
      "  110 / 876\r",
      "  120 / 876\r",
      "  130 / 876\r",
      "  140 / 876\r",
      "  150 / 876\r",
      "  160 / 876\r",
      "  170 / 876\r",
      "  180 / 876\r",
      "  190 / 876\r",
      "  200 / 876\r",
      "  210 / 876\r",
      "  220 / 876\r",
      "  230 / 876\r",
      "  240 / 876\r",
      "  250 / 876\r",
      "  260 / 876\r",
      "  270 / 876\r",
      "  280 / 876\r",
      "  290 / 876\r",
      "  300 / 876\r",
      "  310 / 876\r",
      "  320 / 876\r",
      "  330 / 876\r",
      "  340 / 876\r",
      "  350 / 876\r",
      "  360 / 876\r",
      "  370 / 876\r",
      "  380 / 876\r",
      "  390 / 876\r",
      "  400 / 876\r",
      "  410 / 876\r",
      "  420 / 876\r",
      "  430 / 876\r",
      "  440 / 876\r",
      "  450 / 876\r",
      "  460 / 876\r",
      "  470 / 876\r",
      "  480 / 876\r",
      "  490 / 876\r",
      "  500 / 876\r",
      "  510 / 876\r",
      "  520 / 876\r",
      "  530 / 876\r",
      "  540 / 876\r",
      "  550 / 876\r",
      "  560 / 876\r",
      "  570 / 876\r",
      "  580 / 876\r",
      "  590 / 876\r",
      "  600 / 876\r",
      "  610 / 876\r",
      "  620 / 876\r",
      "  630 / 876\r",
      "  640 / 876\r",
      "  650 / 876\r",
      "  660 / 876\r",
      "  670 / 876\r",
      "  680 / 876\r",
      "  690 / 876\r",
      "  700 / 876\r",
      "  710 / 876\r",
      "  720 / 876\r",
      "  730 / 876\r",
      "  740 / 876\r",
      "  750 / 876\r",
      "  760 / 876\r",
      "  770 / 876\r",
      "  780 / 876\r",
      "  790 / 876\r",
      "  800 / 876\r",
      "  810 / 876\r",
      "  820 / 876\r",
      "  830 / 876\r",
      "  840 / 876\r",
      "  850 / 876\r",
      "  860 / 876\r",
      "  870 / 876\n",
      "done.\n",
      "\n",
      "Progressive alignment 2/2... \n",
      "\r",
      "STEP     1 / 875 (thread    0) f\b\b\r",
      "STEP     2 / 875 (thread    1) f\b\b\r",
      "STEP     3 / 875 (thread    2) f\b\b\r",
      "STEP     4 / 875 (thread    3) f\b\b\r",
      "STEP     5 / 875 (thread    4) f\b\b\r",
      "STEP     6 / 875 (thread    5) f\b\b\r",
      "STEP     7 / 875 (thread    0) f\b\b\r",
      "STEP     8 / 875 (thread    1) f\b\b\r",
      "STEP     9 / 875 (thread    0) f\b\b\r",
      "STEP    10 / 875 (thread    1) f\b\b\r",
      "STEP    11 / 875 (thread    0) f\b\b\r",
      "STEP    12 / 875 (thread    2) f\b\b\r",
      "STEP    13 / 875 (thread    4) f\b\b\r",
      "STEP    14 / 875 (thread    0) f\b\b\r",
      "STEP    15 / 875 (thread    1) f\b\b\r",
      "STEP    16 / 875 (thread    5) f\b\b\r",
      "STEP    17 / 875 (thread    3) f\b\b\r",
      "STEP    18 / 875 (thread    2) f\b\b\r",
      "STEP    19 / 875 (thread    4) f\b\b\r",
      "STEP    20 / 875 (thread    0) f\b\b\r",
      "STEP    21 / 875 (thread    1) f\b\b\r",
      "STEP    22 / 875 (thread    0) f\b\b\r",
      "STEP    23 / 875 (thread    5) f\b\b\r",
      "STEP    24 / 875 (thread    3) f\b\b\r",
      "STEP    25 / 875 (thread    4) f\b\b\r",
      "STEP    26 / 875 (thread    2) f\b\b\r",
      "STEP    27 / 875 (thread    1) f\b\b\r",
      "STEP    28 / 875 (thread    0) f\b\b\r",
      "STEP    29 / 875 (thread    5) f\b\b\r",
      "STEP    30 / 875 (thread    1) f\b\b\r",
      "STEP    31 / 875 (thread    2) f\b\b\r",
      "STEP    32 / 875 (thread    4) f\b\b\r",
      "STEP    33 / 875 (thread    3) f\b\b"
     ]
    },
    {
     "name": "stderr",
     "output_type": "stream",
     "text": [
      "\r",
      "STEP    34 / 875 (thread    0) f\b\b\r",
      "STEP    35 / 875 (thread    1) f\b\b\r",
      "STEP    36 / 875 (thread    0) f\b\b\r",
      "STEP    37 / 875 (thread    5) f\b\b\r",
      "STEP    38 / 875 (thread    4) f\b\b\r",
      "STEP    39 / 875 (thread    2) f\b\b\r",
      "STEP    40 / 875 (thread    3) f\b\b\r",
      "STEP    41 / 875 (thread    0) f\b\b\r",
      "STEP    42 / 875 (thread    1) f\b\b\r",
      "STEP    43 / 875 (thread    4) f\b\b\r",
      "STEP    44 / 875 (thread    5) f\b\b\r",
      "STEP    45 / 875 (thread    2) f\b\b\r",
      "STEP    46 / 875 (thread    0) f\b\b\r",
      "STEP    47 / 875 (thread    3) f\b\b\r",
      "STEP    48 / 875 (thread    1) f\b\b\r",
      "STEP    49 / 875 (thread    0) f\b\b\r",
      "STEP    50 / 875 (thread    4) f\b\b\r",
      "STEP    51 / 875 (thread    2) f\b\b\r",
      "STEP    52 / 875 (thread    5) f\b\b\r",
      "STEP    53 / 875 (thread    3) f\b\b\r",
      "STEP    54 / 875 (thread    1) f\b\b\r",
      "STEP    55 / 875 (thread    0) f\b\b\r",
      "STEP    56 / 875 (thread    4) f\b\b\r",
      "STEP    57 / 875 (thread    2) f\b\b\r",
      "STEP    58 / 875 (thread    5) f\b\b\r",
      "STEP    59 / 875 (thread    1) f\b\b\r",
      "STEP    60 / 875 (thread    3) f\b\b\r",
      "STEP    61 / 875 (thread    0) f\b\b\r",
      "STEP    62 / 875 (thread    1) f\b\b\r",
      "STEP    63 / 875 (thread    4) f\b\b\r",
      "STEP    64 / 875 (thread    2) f\b\b\r",
      "STEP    65 / 875 (thread    0) f\b\b\r",
      "STEP    66 / 875 (thread    5) f\b\b\r",
      "STEP    67 / 875 (thread    3) f\b\b\r",
      "STEP    68 / 875 (thread    1) f\b\b\r",
      "STEP    70 / 875 (thread    2) f\b\b\r",
      "STEP    71 / 875 (thread    4) f\b\b\r",
      "STEP    72 / 875 (thread    5) f\b\b\r",
      "STEP    73 / 875 (thread    3) f\b\b\r",
      "STEP    69 / 875 (thread    0) f\b\b\r",
      "STEP    74 / 875 (thread    1) f\b\b\r",
      "STEP    75 / 875 (thread    4) f\b\b\r",
      "STEP    78 / 875 (thread    3) f\b\b\r",
      "STEP    76 / 875 (thread    2) f\b\b\r",
      "STEP    82 / 875 (thread    4) f\b\b\r",
      "STEP    77 / 875 (thread    5) f\b\b\r",
      "STEP    83 / 875 (thread    4) f\b\b\r",
      "STEP    84 / 875 (thread    2) f\b\b\r",
      "STEP    85 / 875 (thread    5) f\b\b\r",
      "STEP    79 / 875 (thread    0) f\b\b\r",
      "STEP    86 / 875 (thread    5) f\b\b\r",
      "STEP    87 / 875 (thread    4) f\b\b\r",
      "STEP    88 / 875 (thread    2) f\b\b\r",
      "STEP    89 / 875 (thread    0) f\b\b\r",
      "STEP    80 / 875 (thread    1) f\b\b\r",
      "STEP    90 / 875 (thread    5) f\b\b\r",
      "STEP    91 / 875 (thread    4) f\b\b\r",
      "STEP    92 / 875 (thread    0) f\b\b\r",
      "STEP    93 / 875 (thread    4) f\b\b\r",
      "STEP    94 / 875 (thread    5) f\b\b\r",
      "STEP    95 / 875 (thread    2) f\b\b\r",
      "STEP    96 / 875 (thread    1) f\b\b\r",
      "STEP    81 / 875 (thread    3) f\b\b\r",
      "STEP    97 / 875 (thread    0) f\b\b\r",
      "STEP    98 / 875 (thread    5) f\b\b\r",
      "STEP    99 / 875 (thread    4) f\b\b\r",
      "STEP   100 / 875 (thread    2) f\b\b\r",
      "STEP   101 / 875 (thread    1) f\b\b\r",
      "STEP   102 / 875 (thread    4) f\b\b\r",
      "STEP   103 / 875 (thread    2) f\b\b\r",
      "STEP   104 / 875 (thread    5) f\b\b\r",
      "STEP   105 / 875 (thread    3) f\b\b\r",
      "STEP   106 / 875 (thread    1) f\b\b\r",
      "STEP   107 / 875 (thread    5) f\b\b\r",
      "STEP   108 / 875 (thread    0) f\b\b\r",
      "STEP   109 / 875 (thread    4) f\b\b\r",
      "STEP   110 / 875 (thread    3) f\b\b\r",
      "STEP   111 / 875 (thread    2) f\b\b\r",
      "STEP   112 / 875 (thread    5) f\b\b\r",
      "STEP   113 / 875 (thread    3) f\b\b\r",
      "STEP   114 / 875 (thread    1) f\b\b\r",
      "STEP   115 / 875 (thread    0) f\b\b\r",
      "STEP   116 / 875 (thread    2) f\b\b\r",
      "STEP   117 / 875 (thread    5) f\b\b\r",
      "STEP   118 / 875 (thread    3) f\b\b\r",
      "STEP   119 / 875 (thread    1) f\b\b\r",
      "STEP   120 / 875 (thread    4) f\b\b\r",
      "STEP   121 / 875 (thread    5) f\b\b\r",
      "STEP   122 / 875 (thread    2) f\b\b\r",
      "STEP   123 / 875 (thread    3) f\b\b\r",
      "STEP   124 / 875 (thread    1) f\b\b\r",
      "STEP   125 / 875 (thread    0) f\b\b\r",
      "STEP   126 / 875 (thread    5) f\b\b\r",
      "STEP   127 / 875 (thread    3) f\b\b\r",
      "STEP   128 / 875 (thread    4) f\b\b\r",
      "STEP   129 / 875 (thread    2) f\b\b\r",
      "STEP   130 / 875 (thread    5) f\b\b\r",
      "STEP   131 / 875 (thread    4) f\b\b\r",
      "STEP   132 / 875 (thread    2) f\b\b\r",
      "STEP   133 / 875 (thread    0) f\b\b\r",
      "STEP   134 / 875 (thread    1) f\b\b\r",
      "STEP   135 / 875 (thread    3) f\b\b\r",
      "STEP   136 / 875 (thread    4) f\b\b\r",
      "STEP   137 / 875 (thread    2) f\b\b\r",
      "STEP   138 / 875 (thread    5) f\b\b\r",
      "STEP   139 / 875 (thread    0) f\b\b\r",
      "STEP   140 / 875 (thread    3) f\b\b\r",
      "STEP   141 / 875 (thread    1) f\b\b\r",
      "STEP   142 / 875 (thread    5) f\b\b\r",
      "STEP   143 / 875 (thread    4) f\b\b\r",
      "STEP   144 / 875 (thread    2) f\b\b\r",
      "STEP   145 / 875 (thread    3) f\b\b\r",
      "STEP   146 / 875 (thread    0) f\b\b\r",
      "STEP   147 / 875 (thread    1) f\b\b\r",
      "STEP   148 / 875 (thread    5) f\b\b\r",
      "STEP   149 / 875 (thread    2) f\b\b\r",
      "STEP   150 / 875 (thread    4) f\b\b\r",
      "STEP   151 / 875 (thread    3) f\b\b\r",
      "STEP   152 / 875 (thread    5) f\b\b\r",
      "STEP   153 / 875 (thread    0) f\b\b\r",
      "STEP   154 / 875 (thread    5) f\b\b\r",
      "STEP   155 / 875 (thread    1) f\b\b\r",
      "STEP   156 / 875 (thread    3) f\b\b\r",
      "STEP   157 / 875 (thread    2) f\b\b\r",
      "STEP   158 / 875 (thread    4) f\b\b\r",
      "STEP   159 / 875 (thread    5) f\b\b\r",
      "STEP   160 / 875 (thread    3) f\b\b\r",
      "STEP   161 / 875 (thread    4) f\b\b\r",
      "STEP   162 / 875 (thread    2) f\b\b\r",
      "STEP   163 / 875 (thread    5) f\b\b\r",
      "STEP   164 / 875 (thread    3) f\b\b\r",
      "STEP   165 / 875 (thread    5) f\b\b\r",
      "STEP   166 / 875 (thread    2) f\b\b\r",
      "STEP   167 / 875 (thread    4) f\b\b\r",
      "STEP   168 / 875 (thread    0) f\b\b\r",
      "STEP   169 / 875 (thread    1) f\b\b\r",
      "STEP   170 / 875 (thread    3) f\b\b\r",
      "STEP   171 / 875 (thread    5) f\b\b\r",
      "STEP   172 / 875 (thread    2) f\b\b\r",
      "STEP   173 / 875 (thread    3) f\b\b\r",
      "STEP   174 / 875 (thread    0) f\b\b\r",
      "STEP   175 / 875 (thread    1) f\b\b\r",
      "STEP   176 / 875 (thread    5) f\b\b\r",
      "STEP   177 / 875 (thread    3) f\b\b\r",
      "STEP   178 / 875 (thread    2) f\b\b\r",
      "STEP   179 / 875 (thread    4) f\b\b\r",
      "STEP   180 / 875 (thread    5) f\b\b\r",
      "STEP   181 / 875 (thread    0) f\b\b\r",
      "STEP   182 / 875 (thread    3) f\b\b\r",
      "STEP   183 / 875 (thread    5) f\b\b\r",
      "STEP   184 / 875 (thread    1) f\b\b\r",
      "STEP   185 / 875 (thread    2) f\b\b\r",
      "STEP   186 / 875 (thread    4) f\b\b\r",
      "STEP   187 / 875 (thread    3) f\b\b\r",
      "STEP   188 / 875 (thread    5) f\b\b\r",
      "STEP   189 / 875 (thread    0) f\b\b\r",
      "STEP   190 / 875 (thread    3) f\b\b\r",
      "STEP   191 / 875 (thread    5) f\b\b\r",
      "STEP   192 / 875 (thread    1) f\b\b\r",
      "STEP   193 / 875 (thread    4) f\b\b\r",
      "STEP   194 / 875 (thread    2) f\b\b\r",
      "STEP   195 / 875 (thread    5) f\b\b\r",
      "STEP   196 / 875 (thread    0) f\b\b\r",
      "STEP   197 / 875 (thread    3)\r",
      "STEP   198 / 875 (thread    1) f\b\b f\b\b\r",
      "STEP   199 / 875 (thread    5) f\b\b\r",
      "STEP   200 / 875 (thread    0) f\b\b\r",
      "STEP   201 / 875 (thread    3) f\b\b\r",
      "STEP   202 / 875 (thread    5) f\b\b\r",
      "STEP   203 / 875 (thread    2) f\b\b\r",
      "STEP   204 / 875 (thread    4) f\b\b\r",
      "STEP   205 / 875 (thread    1) f\b\b\r",
      "STEP   206 / 875 (thread    5) f\b\b\r",
      "STEP   207 / 875 (thread    0) f\b\b\r",
      "STEP   208 / 875 (thread    2) f\b\b\r",
      "STEP   210 / 875 (thread    5) f\b\b\r",
      "STEP   211 / 875 (thread    4) f\b\b\r",
      "STEP   212 / 875 (thread    1) f\b\b\r",
      "STEP   209 / 875 (thread    3) f\b\b\r",
      "STEP   213 / 875 (thread    5) f\b\b\r",
      "STEP   214 / 875 (thread    0) f\b\b\r",
      "STEP   215 / 875 (thread    2) f\b\b\r",
      "STEP   216 / 875 (thread    5) f\b\b\r",
      "STEP   217 / 875 (thread    1) f\b\b\r",
      "STEP   218 / 875 (thread    3) f\b\b\r",
      "STEP   219 / 875 (thread    0) f\b\b\r",
      "STEP   220 / 875 (thread    2) f\b\b\r",
      "STEP   221 / 875 (thread    4) f\b\b\r",
      "STEP   222 / 875 (thread    5) f\b\b\r",
      "STEP   223 / 875 (thread    1) f\b\b\r",
      "STEP   224 / 875 (thread    3) f\b\b\r",
      "STEP   225 / 875 (thread    2) f\b\b\r",
      "STEP   226 / 875 (thread    5) f\b\b\r",
      "STEP   227 / 875 (thread    0) f\b\b\r",
      "STEP   228 / 875 (thread    4) f\b\b\r",
      "STEP   229 / 875 (thread    5) f\b\b\r",
      "STEP   230 / 875 (thread    3) f\b\b\r",
      "STEP   231 / 875 (thread    1) f\b\b\r",
      "STEP   232 / 875 (thread    2) f\b\b\r",
      "STEP   234 / 875 (thread    3) f\b\b\r",
      "STEP   235 / 875 (thread    4) f\b\b\r",
      "STEP   236 / 875 (thread    0) f\b\b\r",
      "STEP   233 / 875 (thread    5) f\b\b\r",
      "STEP   237 / 875 (thread    2) f\b\b\r",
      "STEP   238 / 875 (thread    1) f\b\b\r",
      "STEP   239 / 875 (thread    2) f\b\b\r",
      "STEP   240 / 875 (thread    5) f\b\b\r",
      "STEP   241 / 875 (thread    3) f\b\b\r",
      "STEP   242 / 875 (thread    4) f\b\b\r",
      "STEP   243 / 875 (thread    5) f\b\b\r",
      "STEP   244 / 875 (thread    0) f\b\b\r",
      "STEP   245 / 875 (thread    1) f\b\b\r",
      "STEP   246 / 875 (thread    2) f\b\b\r",
      "STEP   247 / 875 (thread    3) f\b\b\r",
      "STEP   248 / 875 (thread    5) f\b\b\r",
      "STEP   249 / 875 (thread    2) f\b\b\r",
      "STEP   250 / 875 (thread    3) f\b\b\r",
      "STEP   251 / 875 (thread    4) f\b\b\r",
      "STEP   252 / 875 (thread    0) f\b\b\r",
      "STEP   253 / 875 (thread    5) f\b\b\r",
      "STEP   254 / 875 (thread    3) f\b\b\r",
      "STEP   255 / 875 (thread    4) f\b\b\r",
      "STEP   256 / 875 (thread    5) f\b\b\r",
      "STEP   257 / 875 (thread    1) f\b\b\r",
      "STEP   258 / 875 (thread    3) f\b\b\r",
      "STEP   259 / 875 (thread    4) f\b\b\r",
      "STEP   260 / 875 (thread    2) f\b\b\r",
      "STEP   262 / 875 (thread    5) f\b\b\r",
      "STEP   263 / 875 (thread    0) f\b\b\r",
      "STEP   264 / 875 (thread    3) f\b\b\r",
      "STEP   261 / 875 (thread    1) f\b\b\r",
      "STEP   265 / 875 (thread    5) f\b\b\r",
      "STEP   267 / 875 (thread    4) f\b\b\r",
      "STEP   268 / 875 (thread    2) f\b\b\r",
      "STEP   269 / 875 (thread    0) f\b\b\r",
      "STEP   270 / 875 (thread    5) f\b\b\r",
      "STEP   266 / 875 (thread    3) f\b\b\r",
      "STEP   271 / 875 (thread    1) f\b\b\r",
      "STEP   272 / 875 (thread    0) f\b\b\r",
      "STEP   273 / 875 (thread    5) f\b\b\r",
      "STEP   274 / 875 (thread    4) f\b\b\r",
      "STEP   275 / 875 (thread    2) f\b\b\r",
      "STEP   276 / 875 (thread    3) f\b\b\r",
      "STEP   277 / 875 (thread    0) f\b\b\r",
      "STEP   278 / 875 (thread    1) f\b\b\r",
      "STEP   279 / 875 (thread    5) f\b\b\r",
      "STEP   280 / 875 (thread    2) f\b\b\r",
      "STEP   281 / 875 (thread    4) f\b\b\r",
      "STEP   282 / 875 (thread    3) f\b\b\r",
      "STEP   283 / 875 (thread    5) f\b\b\r",
      "STEP   284 / 875 (thread    1) f\b\b\r",
      "STEP   285 / 875 (thread    5)\r",
      "STEP   286 / 875 (thread    3) f\b\b f\b\b\r",
      "STEP   287 / 875 (thread    2) f\b\b\r",
      "STEP   288 / 875 (thread    0) f\b\b\r",
      "STEP   289 / 875 (thread    1) f\b\b\r",
      "STEP   290 / 875 (thread    3) f\b\b\r",
      "STEP   291 / 875 (thread    4) f\b\b\r",
      "STEP   292 / 875 (thread    5) f\b\b\r",
      "STEP   293 / 875 (thread    3) f\b\b\r",
      "STEP   294 / 875 (thread    2) f\b\b\r",
      "STEP   295 / 875 (thread    0) f\b\b\r",
      "STEP   296 / 875 (thread    5) f\b\b\r",
      "STEP   297 / 875 (thread    1) f\b\b\r",
      "STEP   298 / 875 (thread    4) f\b\b\r",
      "STEP   299 / 875 (thread    3) f\b\b\r",
      "STEP   300 / 875 (thread    5) f\b\b\r",
      "STEP   301 / 875 (thread    1) f\b\b\r",
      "STEP   302 / 875 (thread    0) f\b\b\r",
      "STEP   303 / 875 (thread    3) f\b\b\r",
      "STEP   304 / 875 (thread    2) f\b\b\r",
      "STEP   305 / 875 (thread    1) f\b\b\r",
      "STEP   306 / 875 (thread    5) f\b\b\r",
      "STEP   307 / 875 (thread    4) f\b\b\r",
      "STEP   308 / 875 (thread    3) f\b\b\r",
      "STEP   309 / 875 (thread    0) f\b\b\r",
      "STEP   310 / 875 (thread    5) f\b\b\r",
      "STEP   311 / 875 (thread    3) f\b\b\r",
      "STEP   312 / 875 (thread    5) f\b\b\r",
      "STEP   313 / 875 (thread    0) f\b\b\r",
      "STEP   314 / 875 (thread    3) f\b\b\r",
      "STEP   315 / 875 (thread    2) f\b\b\r",
      "STEP   316 / 875 (thread    5) f\b\b\r",
      "STEP   317 / 875 (thread    4) f\b\b\r",
      "STEP   318 / 875 (thread    2) f\b\b\r",
      "STEP   319 / 875 (thread    5) f\b\b\r",
      "STEP   320 / 875 (thread    1) f\b\b\r",
      "STEP   321 / 875 (thread    3) f\b\b\r",
      "STEP   322 / 875 (thread    0) f\b\b\r",
      "STEP   323 / 875 (thread    1) f\b\b\r",
      "STEP   324 / 875 (thread    5) f\b\b\r",
      "STEP   325 / 875 (thread    3) f\b\b\r",
      "STEP   326 / 875 (thread    4) f\b\b\r",
      "STEP   327 / 875 (thread    2) f\b\b\r",
      "STEP   328 / 875 (thread    1) f\b\b\r",
      "STEP   329 / 875 (thread    5) f\b\b\r",
      "STEP   330 / 875 (thread    3) f\b\b\r",
      "STEP   331 / 875 (thread    2) f\b\b\r",
      "STEP   332 / 875 (thread    5) f\b\b\r",
      "STEP   333 / 875 (thread    1) f\b\b\r",
      "STEP   334 / 875 (thread    3) f\b\b\r",
      "STEP   335 / 875 (thread    4) f\b\b\r",
      "STEP   336 / 875 (thread    0) f\b\b\r",
      "STEP   337 / 875 (thread    5) f\b\b\r",
      "STEP   338 / 875 (thread    3) f\b\b\r",
      "STEP   339 / 875 (thread    2) f\b\b\r",
      "STEP   340 / 875 (thread    0) f\b\b\r",
      "STEP   341 / 875 (thread    1) f\b\b\r",
      "STEP   342 / 875 (thread    5) f\b\b\r",
      "STEP   343 / 875 (thread    4) f\b\b\r",
      "STEP   344 / 875 (thread    3) f\b\b\r",
      "STEP   345 / 875 (thread    1) f\b\b\r",
      "STEP   346 / 875 (thread    3) f\b\b\r",
      "STEP   347 / 875 (thread    5) f\b\b\r",
      "STEP   348 / 875 (thread    2) f\b\b\r",
      "STEP   349 / 875 (thread    4) f\b\b\r",
      "STEP   350 / 875 (thread    3) f\b\b\r",
      "STEP   351 / 875 (thread    2) f\b\b\r",
      "STEP   352 / 875 (thread    0) f\b\b\r",
      "STEP   353 / 875 (thread    5) f\b\b\r",
      "STEP   354 / 875 (thread    3) f\b\b\r",
      "STEP   355 / 875 (thread    1) f\b\b\r",
      "STEP   356 / 875 (thread    5) f\b\b\r",
      "STEP   357 / 875 (thread    2) f\b\b\r",
      "STEP   358 / 875 (thread    3) f\b\b\r",
      "STEP   359 / 875 (thread    4) f\b\b\r",
      "STEP   360 / 875 (thread    0) f\b\b\r",
      "STEP   361 / 875 (thread    5) f\b\b\r",
      "STEP   362 / 875 (thread    3) f\b\b\r",
      "STEP   363 / 875 (thread    5) f\b\b\r",
      "STEP   364 / 875 (thread    1) f\b\b\r",
      "STEP   365 / 875 (thread    2) f\b\b\r",
      "STEP   366 / 875 (thread    3) f\b\b\r",
      "STEP   367 / 875 (thread    5) f\b\b\r",
      "STEP   368 / 875 (thread    4) f\b\b\r",
      "STEP   369 / 875 (thread    2) f\b\b\r",
      "STEP   370 / 875 (thread    0) f\b\b\r",
      "STEP   371 / 875 (thread    3) f\b\b\r",
      "STEP   372 / 875 (thread    1) f\b\b\r",
      "STEP   373 / 875 (thread    5) f\b\b\r",
      "STEP   374 / 875 (thread    4) f\b\b\r",
      "STEP   375 / 875 (thread    3) f\b\b\r",
      "STEP   376 / 875 (thread    5) f\b\b\r",
      "STEP   377 / 875 (thread    2) f\b\b\r",
      "STEP   378 / 875 (thread    3) f\b\b\r",
      "STEP   379 / 875 (thread    1)\r",
      "STEP   380 / 875 (thread    0) f\b\b f\b\b\r",
      "STEP   381 / 875 (thread    4) f\b\b\r",
      "STEP   382 / 875 (thread    5) f\b\b\r",
      "STEP   383 / 875 (thread    0) f\b\b\r",
      "STEP   384 / 875 (thread    3) f\b\b\r",
      "STEP   385 / 875 (thread    5) f\b\b\r",
      "STEP   386 / 875 (thread    2) f\b\b\r",
      "STEP   387 / 875 (thread    1) f\b\b\r",
      "STEP   388 / 875 (thread    0) f\b\b\r",
      "STEP   389 / 875 (thread    3) f\b\b\r",
      "STEP   390 / 875 (thread    4) f\b\b\r",
      "STEP   391 / 875 (thread    3) f\b\b\r",
      "STEP   392 / 875 (thread    5) f\b\b\r",
      "STEP   393 / 875 (thread    1) f\b\b\r",
      "STEP   395 / 875 (thread    2) f\b\b\r",
      "STEP   396 / 875 (thread    3) f\b\b\r",
      "STEP   397 / 875 (thread    5) f\b\b\r",
      "STEP   398 / 875 (thread    0) f\b\b\r",
      "STEP   399 / 875 (thread    3) f\b\b\r",
      "STEP   400 / 875 (thread    1) f\b\b\r",
      "STEP   394 / 875 (thread    4) f\b\b\r",
      "STEP   401 / 875 (thread    5) f\b\b\r",
      "STEP   402 / 875 (thread    2) f\b\b\r",
      "STEP   403 / 875 (thread    0) f\b\b\r",
      "STEP   404 / 875 (thread    3) f\b\b\r",
      "STEP   407 / 875 (thread    1) f\b\b\r",
      "STEP   405 / 875 (thread    5) f\b\b\r",
      "STEP   408 / 875 (thread    2) f\b\b\r",
      "STEP   409 / 875 (thread    3) f\b\b\r",
      "STEP   406 / 875 (thread    4) f\b\b\r",
      "STEP   410 / 875 (thread    2) f\b\b\r",
      "STEP   411 / 875 (thread    0) f\b\b\r",
      "STEP   412 / 875 (thread    1) f\b\b\r",
      "STEP   413 / 875 (thread    2) f\b\b\r",
      "STEP   414 / 875 (thread    5) f\b\b\r",
      "STEP   415 / 875 (thread    1) f\b\b\r",
      "STEP   416 / 875 (thread    2) f\b\b\r",
      "STEP   417 / 875 (thread    5) f\b\b\r",
      "STEP   418 / 875 (thread    3) f\b\b\r",
      "STEP   419 / 875 (thread    0) f\b\b\r",
      "STEP   420 / 875 (thread    4) f\b\b\r",
      "STEP   421 / 875 (thread    5) f\b\b\r",
      "STEP   422 / 875 (thread    2) f\b\b\r",
      "STEP   423 / 875 (thread    0) f\b\b\r",
      "STEP   424 / 875 (thread    2) f\b\b\r",
      "STEP   425 / 875 (thread    5) f\b\b\r",
      "STEP   426 / 875 (thread    1) f\b\b\r",
      "STEP   427 / 875 (thread    3) f\b\b\r",
      "STEP   428 / 875 (thread    2) f\b\b\r",
      "STEP   429 / 875 (thread    4) f\b\b\r",
      "STEP   430 / 875 (thread    5) f\b\b\r",
      "STEP   431 / 875 (thread    2) f\b\b\r",
      "STEP   432 / 875 (thread    0) f\b\b\r",
      "STEP   433 / 875 (thread    5) f\b\b\r",
      "STEP   435 / 875 (thread    3) f\b\b\r",
      "STEP   434 / 875 (thread    1) f\b\b\r",
      "STEP   436 / 875 (thread    2) f\b\b\r",
      "STEP   437 / 875 (thread    5) f\b\b\r",
      "STEP   438 / 875 (thread    4) f\b\b\r",
      "STEP   439 / 875 (thread    2) f\b\b\r",
      "STEP   440 / 875 (thread    3) f\b\b\r",
      "STEP   441 / 875 (thread    1) f\b\b\r",
      "STEP   442 / 875 (thread    5) f\b\b\r",
      "STEP   443 / 875 (thread    0) f\b\b\r",
      "STEP   444 / 875 (thread    2) f\b\b\r",
      "STEP   445 / 875 (thread    4) f\b\b\r",
      "STEP   446 / 875 (thread    5) f\b\b\r",
      "STEP   447 / 875 (thread    2) f\b\b\r",
      "STEP   448 / 875 (thread    3) f\b\b\r",
      "STEP   449 / 875 (thread    4) f\b\b\r",
      "STEP   450 / 875 (thread    1) f\b\b\r",
      "STEP   451 / 875 (thread    5) f\b\b\r",
      "STEP   452 / 875 (thread    0) f\b\b\r",
      "STEP   453 / 875 (thread    2) f\b\b\r",
      "STEP   454 / 875 (thread    5) f\b\b\r",
      "STEP   455 / 875 (thread    3) f\b\b\r",
      "STEP   456 / 875 (thread    2) f\b\b\r",
      "STEP   457 / 875 (thread    4) f\b\b\r",
      "STEP   458 / 875 (thread    1) f\b\b\r",
      "STEP   459 / 875 (thread    0) f\b\b\r",
      "STEP   460 / 875 (thread    2) f\b\b\r",
      "STEP   461 / 875 (thread    5) f\b\b\r",
      "STEP   462 / 875 (thread    4) f\b\b\r",
      "STEP   463 / 875 (thread    2) f\b\b\r",
      "STEP   464 / 875 (thread    3) f\b\b\r",
      "STEP   465 / 875 (thread    5) f\b\b\r",
      "STEP   466 / 875 (thread    0) f\b\b\r",
      "STEP   467 / 875 (thread    1) f\b\b\r",
      "STEP   468 / 875 (thread    2) f\b\b\r",
      "STEP   469 / 875 (thread    5) f\b\b\r",
      "STEP   470 / 875 (thread    3) f\b\b\r",
      "STEP   471 / 875 (thread    4) f\b\b\r",
      "STEP   472 / 875 (thread    0) f\b\b\r",
      "STEP   473 / 875 (thread    5) f\b\b\r",
      "STEP   474 / 875 (thread    2) f\b\b\r",
      "STEP   476 / 875 (thread    5) f\b\b\r",
      "STEP   477 / 875 (thread    3) f\b\b\r",
      "STEP   478 / 875 (thread    2) f\b\b\r",
      "STEP   479 / 875 (thread    5) f\b\b\r",
      "STEP   480 / 875 (thread    4) f\b\b\r",
      "STEP   481 / 875 (thread    1) f\b\b\r",
      "STEP   475 / 875 (thread    0) f\b\b\r",
      "STEP   482 / 875 (thread    5) f\b\b\r",
      "STEP   483 / 875 (thread    2) f\b\b\r",
      "STEP   485 / 875 (thread    4) f\b\b\r",
      "STEP   486 / 875 (thread    5) f\b\b\r",
      "STEP   487 / 875 (thread    1) f\b\b\r",
      "STEP   488 / 875 (thread    4) f\b\b\r",
      "STEP   489 / 875 (thread    2) f\b\b\r",
      "STEP   490 / 875 (thread    5) f\b\b\r",
      "STEP   491 / 875 (thread    4) f\b\b\r",
      "STEP   492 / 875 (thread    1) f\b\b\r",
      "STEP   493 / 875 (thread    5) f\b\b\r",
      "STEP   494 / 875 (thread    2) f\b\b\r",
      "STEP   496 / 875 (thread    4) f\b\b\r",
      "STEP   497 / 875 (thread    5) f\b\b\r",
      "STEP   484 / 875 (thread    3) f\b\b\r",
      "STEP   498 / 875 (thread    0) f\b\b\r",
      "STEP   499 / 875 (thread    4) f\b\b\r",
      "STEP   500 / 875 (thread    2) f\b\b\r",
      "STEP   501 / 875 (thread    4) f\b\b\r",
      "STEP   495 / 875 (thread    1) f\b\b\r",
      "STEP   601 / 875 (thread    0) f\b\b"
     ]
    },
    {
     "name": "stderr",
     "output_type": "stream",
     "text": [
      "\r",
      "STEP   701 / 875 (thread    2) f\b\b\r",
      "STEP   801 / 875 (thread    3) f\b\b\n",
      "Reallocating..done. *alloclen = 1861\n"
     ]
    },
    {
     "name": "stderr",
     "output_type": "stream",
     "text": [
      "\n",
      "done.\n",
      "\n",
      "disttbfast (nuc) Version 7.490\n",
      "alg=A, model=DNA200 (2), 1.53 (4.59), -0.00 (-0.00), noshift, amax=0.0\n",
      "6 thread(s)\n",
      "\n",
      "\n",
      "Strategy:\n",
      " FFT-NS-2 (Fast but rough)\n",
      " Progressive method (guide trees were built 2 times.)\n",
      "\n",
      "If unsure which option to use, try 'mafft --auto input > output'.\n",
      "For more information, see 'mafft --help', 'mafft --man' and the mafft page.\n",
      "\n",
      "The default gap scoring scheme has been changed in version 7.110 (2013 Oct).\n",
      "It tends to insert more gaps into gap-rich regions than previous versions.\n",
      "To disable this change, add the --leavegappyregion option.\n",
      "\n"
     ]
    },
    {
     "name": "stdout",
     "output_type": "stream",
     "text": [
      "{'max_gap_frequency': 1.0, 'min_conservation': 0.4, 'alignment': TabularMSA[DNA]\n",
      "-----------------------------------------------------------------------\n",
      "Stats:\n",
      "    sequence count: 876\n",
      "    position count: 467\n",
      "-----------------------------------------------------------------------\n",
      "TGAGGAATATTGGTCAATGGAGGCAACTCTGAA ... CGCTGAGGCTCGAAGGTGCGGGTATCGAACAGG\n",
      "TGAGGAATATTGGTCAATGGCCGGAAGGCTGAA ... CGCTGAGGCACGAAAGTGCGGGGATCAAACAGG\n",
      "...\n",
      "TGAGGAATATTGGTCAATGGGCGGAAGCCTGAA ... CGCTGAGGCACGAAAGCGCGGGGATCGAACAGG\n",
      "TGGGGAATTTTGGACAATGGGCGCAAGCCTGAT ... CGCTCATGCACGAAAGCGTGGGGAGCAAACAGG}\n",
      "{'max_gap_frequency': 1.0, 'min_conservation': 0.4, 'alignment': TabularMSA[DNA]\n",
      "-----------------------------------------------------------------------\n",
      "Stats:\n",
      "    sequence count: 876\n",
      "    position count: 467\n",
      "-----------------------------------------------------------------------\n",
      "TGAGGAATATTGGTCAATGGAGGCAACTCTGAA ... CGCTGAGGCTCGAAGGTGCGGGTATCGAACAGG\n",
      "TGAGGAATATTGGTCAATGGCCGGAAGGCTGAA ... CGCTGAGGCACGAAAGTGCGGGGATCAAACAGG\n",
      "...\n",
      "TGAGGAATATTGGTCAATGGGCGGAAGCCTGAA ... CGCTGAGGCACGAAAGCGCGGGGATCGAACAGG\n",
      "TGGGGAATTTTGGACAATGGGCGCAAGCCTGAT ... CGCTCATGCACGAAAGCGTGGGGAGCAAACAGG}\n"
     ]
    },
    {
     "name": "stdout",
     "output_type": "stream",
     "text": [
      "{'n_threads': 6, 'alignment': <q2_types.feature_data._format.AlignedDNAFASTAFormat object at 0x7f916a4832b0>}\n",
      "{'n_threads': 6, 'alignment': <q2_types.feature_data._format.AlignedDNAFASTAFormat object at 0x7f916a4832b0>}\n",
      "Running external command line application. This may print messages to stdout and/or stderr.\n",
      "The command being run is below. This command cannot be manually re-run as it will depend on temporary files that no longer exist.\n",
      "\n",
      "Command: FastTreeMP -quote -nt /tmp/qiime2-archive-wxc3rnb6/201539fc-b105-4ed1-8c5a-113350fb2550/data/aligned-dna-sequences.fasta\n",
      "\n"
     ]
    },
    {
     "name": "stderr",
     "output_type": "stream",
     "text": [
      "FastTree Version 2.1.10 Double precision (No SSE3), OpenMP (6 threads)\n",
      "Alignment: /tmp/qiime2-archive-wxc3rnb6/201539fc-b105-4ed1-8c5a-113350fb2550/data/aligned-dna-sequences.fasta\n",
      "Nucleotide distances: Jukes-Cantor Joins: balanced Support: SH-like 1000\n",
      "Search: Normal +NNI +SPR (2 rounds range 10) +ML-NNI opt-each=1\n",
      "TopHits: 1.00*sqrtN close=default refresh=0.80\n",
      "ML Model: Jukes-Cantor, CAT approximation with 20 rate categories\n",
      "      0.10 seconds: Joined    100 of    848\n"
     ]
    },
    {
     "name": "stderr",
     "output_type": "stream",
     "text": [
      "      0.23 seconds: Joined    300 of    848\n",
      "      0.34 seconds: Joined    500 of    848\n"
     ]
    },
    {
     "name": "stderr",
     "output_type": "stream",
     "text": [
      "      0.46 seconds: Joined    700 of    848\n",
      "Initial topology in 0.53 seconds\n",
      "Refining topology: 39 rounds ME-NNIs, 2 rounds ME-SPRs, 19 rounds ML-NNIs\n",
      "      0.56 seconds: ME NNI round 2 of 39, 101 of 849 splits, 1 changes (max delta 0.001)\n"
     ]
    },
    {
     "name": "stderr",
     "output_type": "stream",
     "text": [
      "      0.70 seconds: SPR round   1 of   2, 101 of 1700 nodes\n",
      "      0.81 seconds: SPR round   1 of   2, 301 of 1700 nodes\n"
     ]
    },
    {
     "name": "stderr",
     "output_type": "stream",
     "text": [
      "      0.93 seconds: SPR round   1 of   2, 501 of 1700 nodes\n",
      "      1.03 seconds: SPR round   1 of   2, 701 of 1700 nodes\n"
     ]
    },
    {
     "name": "stderr",
     "output_type": "stream",
     "text": [
      "      1.17 seconds: SPR round   1 of   2, 901 of 1700 nodes\n",
      "      1.30 seconds: SPR round   1 of   2, 1101 of 1700 nodes\n"
     ]
    },
    {
     "name": "stderr",
     "output_type": "stream",
     "text": [
      "      1.43 seconds: SPR round   1 of   2, 1301 of 1700 nodes\n",
      "      1.56 seconds: SPR round   1 of   2, 1501 of 1700 nodes\n"
     ]
    },
    {
     "name": "stderr",
     "output_type": "stream",
     "text": [
      "      1.70 seconds: ME NNI round 14 of 39, 1 of 849 splits\n",
      "      1.82 seconds: SPR round   2 of   2, 101 of 1700 nodes\n"
     ]
    },
    {
     "name": "stderr",
     "output_type": "stream",
     "text": [
      "      1.93 seconds: SPR round   2 of   2, 301 of 1700 nodes\n",
      "      2.04 seconds: SPR round   2 of   2, 501 of 1700 nodes\n"
     ]
    },
    {
     "name": "stderr",
     "output_type": "stream",
     "text": [
      "      2.15 seconds: SPR round   2 of   2, 701 of 1700 nodes\n",
      "      2.26 seconds: SPR round   2 of   2, 901 of 1700 nodes\n"
     ]
    },
    {
     "name": "stderr",
     "output_type": "stream",
     "text": [
      "      2.38 seconds: SPR round   2 of   2, 1101 of 1700 nodes\n",
      "      2.52 seconds: SPR round   2 of   2, 1401 of 1700 nodes\n"
     ]
    },
    {
     "name": "stderr",
     "output_type": "stream",
     "text": [
      "      2.64 seconds: SPR round   2 of   2, 1601 of 1700 nodes\n",
      "Total branch-length 19.053 after 2.77 sec\n",
      "      2.77 seconds: ML Lengths 1 of 849 splits\n"
     ]
    },
    {
     "name": "stderr",
     "output_type": "stream",
     "text": [
      "      2.88 seconds: ML Lengths 401 of 849 splits\n",
      "      2.98 seconds: ML Lengths 801 of 849 splits\n"
     ]
    },
    {
     "name": "stderr",
     "output_type": "stream",
     "text": [
      "      3.08 seconds: ML NNI round 1 of 19, 101 of 849 splits, 20 changes (max delta 3.664)\n",
      "      3.26 seconds: ML NNI round 1 of 19, 301 of 849 splits, 45 changes (max delta 7.528)\n"
     ]
    },
    {
     "name": "stderr",
     "output_type": "stream",
     "text": [
      "      3.46 seconds: ML NNI round 1 of 19, 501 of 849 splits, 79 changes (max delta 9.368)\n",
      "      3.62 seconds: ML NNI round 1 of 19, 701 of 849 splits, 108 changes (max delta 11.971)\n"
     ]
    },
    {
     "name": "stderr",
     "output_type": "stream",
     "text": [
      "ML-NNI round 1: LogLk = -50343.006 NNIs 128 max delta 11.97 Time 3.75\n",
      "      3.75 seconds: Site likelihoods with rate category 1 of 20\n",
      "      3.85 seconds: Site likelihoods with rate category 13 of 20\n",
      "Switched to using 20 rate categories (CAT approximation)\n",
      "Rate categories were divided by 1.123 so that average rate = 1.0\n",
      "CAT-based log-likelihoods may not be comparable across runs\n",
      "Use -gamma for approximate but comparable Gamma(20) log-likelihoods\n"
     ]
    },
    {
     "name": "stderr",
     "output_type": "stream",
     "text": [
      "      4.01 seconds: ML NNI round 2 of 19, 101 of 849 splits, 4 changes (max delta 14.875)\n",
      "      4.18 seconds: ML NNI round 2 of 19, 301 of 849 splits, 15 changes (max delta 14.875)\n"
     ]
    },
    {
     "name": "stderr",
     "output_type": "stream",
     "text": [
      "      4.37 seconds: ML NNI round 2 of 19, 501 of 849 splits, 25 changes (max delta 14.875)\n",
      "      4.56 seconds: ML NNI round 2 of 19, 701 of 849 splits, 49 changes (max delta 14.875)\n"
     ]
    },
    {
     "name": "stderr",
     "output_type": "stream",
     "text": [
      "ML-NNI round 2: LogLk = -41855.137 NNIs 67 max delta 14.88 Time 4.69\n",
      "      4.69 seconds: ML NNI round 3 of 19, 1 of 849 splits\n",
      "      4.85 seconds: ML NNI round 3 of 19, 201 of 849 splits, 9 changes (max delta 2.859)\n"
     ]
    },
    {
     "name": "stderr",
     "output_type": "stream",
     "text": [
      "      5.03 seconds: ML NNI round 3 of 19, 401 of 849 splits, 18 changes (max delta 4.603)\n",
      "ML-NNI round 3: LogLk = -41831.252 NNIs 25 max delta 4.60 Time 5.15\n",
      "      5.14 seconds: ML NNI round 4 of 19, 1 of 849 splits\n"
     ]
    },
    {
     "name": "stderr",
     "output_type": "stream",
     "text": [
      "      5.32 seconds: ML NNI round 4 of 19, 201 of 849 splits, 1 changes (max delta 1.907)\n",
      "ML-NNI round 4: LogLk = -41825.934 NNIs 4 max delta 2.26 Time 5.42\n",
      "      5.50 seconds: ML NNI round 5 of 19, 101 of 849 splits, 0 changes\n"
     ]
    },
    {
     "name": "stderr",
     "output_type": "stream",
     "text": [
      "ML-NNI round 5: LogLk = -41825.913 NNIs 0 max delta 0.00 Time 5.53\n",
      "Turning off heuristics for final round of ML NNIs (converged)\n",
      "      5.60 seconds: ML NNI round 6 of 19, 101 of 849 splits, 0 changes\n"
     ]
    },
    {
     "name": "stderr",
     "output_type": "stream",
     "text": [
      "      5.76 seconds: ML NNI round 6 of 19, 301 of 849 splits, 0 changes\n",
      "      5.93 seconds: ML NNI round 6 of 19, 501 of 849 splits, 0 changes\n"
     ]
    },
    {
     "name": "stderr",
     "output_type": "stream",
     "text": [
      "      6.08 seconds: ML NNI round 6 of 19, 701 of 849 splits, 3 changes (max delta 0.778)\n",
      "ML-NNI round 6: LogLk = -41824.415 NNIs 4 max delta 0.78 Time 6.19 (final)\n",
      "      6.18 seconds: ML Lengths 1 of 849 splits\n"
     ]
    },
    {
     "name": "stderr",
     "output_type": "stream",
     "text": [
      "      6.29 seconds: ML Lengths 501 of 849 splits\n",
      "Optimize all lengths: LogLk = -41824.217 Time 6.37\n"
     ]
    },
    {
     "name": "stderr",
     "output_type": "stream",
     "text": [
      "      6.50 seconds: ML split tests for    100 of    848 internal splits\n",
      "      6.62 seconds: ML split tests for    200 of    848 internal splits\n"
     ]
    },
    {
     "name": "stderr",
     "output_type": "stream",
     "text": [
      "      6.74 seconds: ML split tests for    300 of    848 internal splits\n",
      "      6.87 seconds: ML split tests for    400 of    848 internal splits\n"
     ]
    },
    {
     "name": "stderr",
     "output_type": "stream",
     "text": [
      "      7.00 seconds: ML split tests for    500 of    848 internal splits\n",
      "      7.13 seconds: ML split tests for    600 of    848 internal splits\n"
     ]
    },
    {
     "name": "stderr",
     "output_type": "stream",
     "text": [
      "      7.26 seconds: ML split tests for    700 of    848 internal splits\n",
      "      7.39 seconds: ML split tests for    800 of    848 internal splits\n",
      "Total time: 7.45 seconds Unique: 851/876 Bad splits: 0/848\n"
     ]
    },
    {
     "name": "stdout",
     "output_type": "stream",
     "text": [
      "{'tree': <TreeNode, name: unnamed, internal node count: 870, tips count: 876>}\n",
      "{'tree': <TreeNode, name: unnamed, internal node count: 870, tips count: 876>}\n"
     ]
    }
   ],
   "source": [
    "mafft_alignment, mafft_masked_alignment, mafft_tree, mafft_rooted_tree = align_to_tree_mafft_fasttree(\n",
    "    sequences=reps, n_threads=6, )"
   ]
  },
  {
   "cell_type": "markdown",
   "id": "0768d598",
   "metadata": {
    "papermill": {
     "duration": 0.032574,
     "end_time": "2024-02-01T23:01:36.387351",
     "exception": false,
     "start_time": "2024-02-01T23:01:36.354777",
     "status": "completed"
    },
    "tags": []
   },
   "source": [
    "### Compute Alpha Diversity (Phylogeny)\n",
    "- [diversity alpha_phylogenetic](https://docs.qiime2.org/2022.8/plugins/available/diversity/alpha-phylogenetic/): Computes a user-specified phylogenetic alpha diversity metric for all samples in a feature table.\n",
    "- Metrics: Choices ('faith_pd')"
   ]
  },
  {
   "cell_type": "code",
   "execution_count": 11,
   "id": "0383aa19",
   "metadata": {
    "ExecuteTime": {
     "end_time": "2022-09-29T20:54:35.310009Z",
     "start_time": "2022-09-29T20:54:35.141333Z"
    },
    "execution": {
     "iopub.execute_input": "2024-02-01T23:01:36.457589Z",
     "iopub.status.busy": "2024-02-01T23:01:36.457328Z",
     "iopub.status.idle": "2024-02-01T23:01:36.594707Z",
     "shell.execute_reply": "2024-02-01T23:01:36.593885Z"
    },
    "papermill": {
     "duration": 0.172942,
     "end_time": "2024-02-01T23:01:36.596260",
     "exception": false,
     "start_time": "2024-02-01T23:01:36.423318",
     "status": "completed"
    },
    "tags": []
   },
   "outputs": [
    {
     "name": "stdout",
     "output_type": "stream",
     "text": [
      "Calculating alpha diversity: faith_pd\n",
      "{'metric': 'faith_pd', 'table': <artifact: FeatureTable[Frequency] uuid: 78d81b64-5063-407a-a6cb-2001f2a00e71>, 'phylogeny': <artifact: Phylogeny[Rooted] uuid: c346f41e-db6a-4f8f-8b8d-72b1406b33f1>}\n",
      "{'table': <q2_types.feature_table._format.BIOMV210Format object at 0x7f9169ebf100>, 'phylogeny': <q2_types.tree._format.NewickFormat object at 0x7f9169ebf340>}\n",
      "{'table': <q2_types.feature_table._format.BIOMV210Format object at 0x7f9169ebf100>, 'phylogeny': <q2_types.tree._format.NewickFormat object at 0x7f9169ebf340>}\n",
      "DONE: Calculating alpha phylogeny: faith_pd\n"
     ]
    }
   ],
   "source": [
    "metrics = ('faith_pd', )\n",
    "alpha_diversities_phylogenetic = dict()\n",
    "for metric in metrics:\n",
    "    print(f\"Calculating alpha diversity: {metric}\")\n",
    "    try:\n",
    "        alpha_diversity = alpha_phylogenetic(table=tabs, phylogeny=mafft_rooted_tree, metric=metric).alpha_diversity\n",
    "        alpha_diversities_phylogenetic[metric] = alpha_diversity\n",
    "        # Save Artifact\n",
    "        file_path = os.path.join(alpha_path, f'alpha-phylogeny-{metric}.qza')\n",
    "        alpha_diversity.save(file_path)\n",
    "        print(f\"DONE: Calculating alpha phylogeny: {metric}\")\n",
    "    except Exception as e:\n",
    "        print(f\"ERROR: Calculating alpha phylogeny: {metric}\")"
   ]
  },
  {
   "cell_type": "markdown",
   "id": "42db1ead",
   "metadata": {
    "papermill": {
     "duration": 0.035925,
     "end_time": "2024-02-01T23:01:36.667874",
     "exception": false,
     "start_time": "2024-02-01T23:01:36.631949",
     "status": "completed"
    },
    "tags": []
   },
   "source": [
    "- [core-metrics-phylogenetic](https://docs.qiime2.org/2023.7/plugins/available/diversity/core-metrics-phylogenetic/)"
   ]
  },
  {
   "cell_type": "code",
   "execution_count": 12,
   "id": "ef726ab7",
   "metadata": {
    "execution": {
     "iopub.execute_input": "2024-02-01T23:01:36.740245Z",
     "iopub.status.busy": "2024-02-01T23:01:36.739977Z",
     "iopub.status.idle": "2024-02-01T23:01:38.827873Z",
     "shell.execute_reply": "2024-02-01T23:01:38.827181Z"
    },
    "papermill": {
     "duration": 2.127528,
     "end_time": "2024-02-01T23:01:38.830999",
     "exception": false,
     "start_time": "2024-02-01T23:01:36.703471",
     "status": "completed"
    },
    "tags": []
   },
   "outputs": [
    {
     "name": "stdout",
     "output_type": "stream",
     "text": [
      "{'sampling_depth': 3910, 'metadata': Metadata\n",
      "--------\n",
      "12 IDs x 3 columns\n",
      "sample-name: ColumnProperties(type='categorical')\n",
      "group-id:    ColumnProperties(type='categorical')\n",
      "group-desc:  ColumnProperties(type='categorical')\n",
      "\n",
      "Call to_dataframe() for a tabular representation., 'n_jobs_or_threads': 6, 'table': <artifact: FeatureTable[Frequency] uuid: 78d81b64-5063-407a-a6cb-2001f2a00e71>, 'phylogeny': <artifact: Phylogeny[Rooted] uuid: c346f41e-db6a-4f8f-8b8d-72b1406b33f1>}\n",
      "{'sampling_depth': 3910, 'metadata': Metadata\n",
      "--------\n",
      "12 IDs x 3 columns\n",
      "sample-name: ColumnProperties(type='categorical')\n",
      "group-id:    ColumnProperties(type='categorical')\n",
      "group-desc:  ColumnProperties(type='categorical')\n",
      "\n",
      "Call to_dataframe() for a tabular representation., 'with_replacement': False, 'n_jobs': 6, 'table': <artifact: FeatureTable[Frequency] uuid: 78d81b64-5063-407a-a6cb-2001f2a00e71>}\n",
      "{'sampling_depth': 3910, 'with_replacement': False, 'table': 876 x 12 <class 'biom.table.Table'> with 1655 nonzero entries (15% dense)}\n",
      "{'sampling_depth': 3910, 'with_replacement': False, 'table': 876 x 12 <class 'biom.table.Table'> with 1655 nonzero entries (15% dense)}\n",
      "{'table': 692 x 12 <class 'biom.table.Table'> with 1293 nonzero entries (15% dense)}\n",
      "{'table': 692 x 12 <class 'biom.table.Table'> with 1293 nonzero entries (15% dense)}\n",
      "{'drop_undefined_samples': False, 'table': 692 x 12 <class 'biom.table.Table'> with 1293 nonzero entries (15% dense)}\n",
      "{'drop_undefined_samples': False, 'table': 692 x 12 <class 'biom.table.Table'> with 1293 nonzero entries (15% dense)}\n",
      "{'drop_undefined_samples': False, 'table': 692 x 12 <class 'biom.table.Table'> with 1293 nonzero entries (15% dense)}\n",
      "{'drop_undefined_samples': False, 'table': 692 x 12 <class 'biom.table.Table'> with 1293 nonzero entries (15% dense)}\n"
     ]
    },
    {
     "name": "stdout",
     "output_type": "stream",
     "text": [
      "{'n_jobs': 6, 'table': 692 x 12 <class 'biom.table.Table'> with 1293 nonzero entries (15% dense)}\n",
      "{'n_jobs': 6, 'table': 692 x 12 <class 'biom.table.Table'> with 1293 nonzero entries (15% dense)}\n",
      "{'n_jobs': 6, 'table': 692 x 12 <class 'biom.table.Table'> with 1293 nonzero entries (15% dense)}\n",
      "{'n_jobs': 6, 'table': 692 x 12 <class 'biom.table.Table'> with 1293 nonzero entries (15% dense)}\n",
      "{'number_of_dimensions': None, 'distance_matrix': <skbio.stats.distance._base.DistanceMatrix object at 0x7f9168624f40>}\n",
      "{'number_of_dimensions': None, 'distance_matrix': <skbio.stats.distance._base.DistanceMatrix object at 0x7f9168624f40>}\n",
      "{'number_of_dimensions': None, 'distance_matrix': <skbio.stats.distance._base.DistanceMatrix object at 0x7f9168624820>}\n",
      "{'number_of_dimensions': None, 'distance_matrix': <skbio.stats.distance._base.DistanceMatrix object at 0x7f9168624820>}\n",
      "{'metadata': Metadata\n",
      "--------\n",
      "12 IDs x 3 columns\n",
      "sample-name: ColumnProperties(type='categorical')\n",
      "group-id:    ColumnProperties(type='categorical')\n",
      "group-desc:  ColumnProperties(type='categorical')\n",
      "\n",
      "Call to_dataframe() for a tabular representation., 'custom_axes': None, 'ignore_missing_samples': False, 'ignore_pcoa_features': False, 'pcoa': <skbio.stats.ordination._ordination_results.OrdinationResults object at 0x7f9169e72490>}\n"
     ]
    },
    {
     "name": "stderr",
     "output_type": "stream",
     "text": [
      "/home/lauro/anaconda3/envs/qiime2-2022.2/lib/python3.8/site-packages/sklearn/metrics/pairwise.py:1761: DataConversionWarning: Data was converted to boolean for metric jaccard\n",
      "  warnings.warn(msg, DataConversionWarning)\n"
     ]
    },
    {
     "name": "stdout",
     "output_type": "stream",
     "text": [
      "{'metadata': Metadata\n",
      "--------\n",
      "12 IDs x 3 columns\n",
      "sample-name: ColumnProperties(type='categorical')\n",
      "group-id:    ColumnProperties(type='categorical')\n",
      "group-desc:  ColumnProperties(type='categorical')\n",
      "\n",
      "Call to_dataframe() for a tabular representation., 'custom_axes': None, 'ignore_missing_samples': False, 'ignore_pcoa_features': False, 'pcoa': <skbio.stats.ordination._ordination_results.OrdinationResults object at 0x7f9169e7a940>}\n"
     ]
    },
    {
     "name": "stdout",
     "output_type": "stream",
     "text": [
      "{'table': <q2_types.feature_table._format.BIOMV210Format object at 0x7f9169ef1e50>, 'phylogeny': <q2_types.tree._format.NewickFormat object at 0x7f9169ef1cd0>}\n",
      "{'table': <q2_types.feature_table._format.BIOMV210Format object at 0x7f9169ef1e50>, 'phylogeny': <q2_types.tree._format.NewickFormat object at 0x7f9169ef1cd0>}\n",
      "{'threads': 6, 'bypass_tips': False, 'table': <q2_types.feature_table._format.BIOMV210Format object at 0x7f9165dc7820>, 'phylogeny': <q2_types.tree._format.NewickFormat object at 0x7f9165dc73a0>}\n",
      "{'threads': 6, 'bypass_tips': False, 'table': <q2_types.feature_table._format.BIOMV210Format object at 0x7f9165dc7820>, 'phylogeny': <q2_types.tree._format.NewickFormat object at 0x7f9165dc73a0>}\n",
      "{'threads': 6, 'bypass_tips': False, 'table': <q2_types.feature_table._format.BIOMV210Format object at 0x7f9169e72400>, 'phylogeny': <q2_types.tree._format.NewickFormat object at 0x7f9169e722e0>}\n",
      "{'threads': 6, 'bypass_tips': False, 'table': <q2_types.feature_table._format.BIOMV210Format object at 0x7f9169e72400>, 'phylogeny': <q2_types.tree._format.NewickFormat object at 0x7f9169e722e0>}\n"
     ]
    },
    {
     "name": "stdout",
     "output_type": "stream",
     "text": [
      "{'number_of_dimensions': None, 'distance_matrix': <skbio.stats.distance._base.DistanceMatrix object at 0x7f9169e721f0>}\n",
      "{'number_of_dimensions': None, 'distance_matrix': <skbio.stats.distance._base.DistanceMatrix object at 0x7f9169e721f0>}\n",
      "{'number_of_dimensions': None, 'distance_matrix': <skbio.stats.distance._base.DistanceMatrix object at 0x7f9169e56460>}\n",
      "{'number_of_dimensions': None, 'distance_matrix': <skbio.stats.distance._base.DistanceMatrix object at 0x7f9169e56460>}\n",
      "{'metadata': Metadata\n",
      "--------\n",
      "12 IDs x 3 columns\n",
      "sample-name: ColumnProperties(type='categorical')\n",
      "group-id:    ColumnProperties(type='categorical')\n",
      "group-desc:  ColumnProperties(type='categorical')\n",
      "\n",
      "Call to_dataframe() for a tabular representation., 'custom_axes': None, 'ignore_missing_samples': False, 'ignore_pcoa_features': False, 'pcoa': <skbio.stats.ordination._ordination_results.OrdinationResults object at 0x7f9165cc36a0>}\n",
      "{'metadata': Metadata\n",
      "--------\n",
      "12 IDs x 3 columns\n",
      "sample-name: ColumnProperties(type='categorical')\n",
      "group-id:    ColumnProperties(type='categorical')\n",
      "group-desc:  ColumnProperties(type='categorical')\n",
      "\n",
      "Call to_dataframe() for a tabular representation., 'custom_axes': None, 'ignore_missing_samples': False, 'ignore_pcoa_features': False, 'pcoa': <skbio.stats.ordination._ordination_results.OrdinationResults object at 0x7f9165c1ffd0>}\n"
     ]
    },
    {
     "name": "stderr",
     "output_type": "stream",
     "text": [
      "/home/lauro/anaconda3/envs/qiime2-2022.2/lib/python3.8/site-packages/skbio/stats/ordination/_principal_coordinate_analysis.py:143: RuntimeWarning: The result contains negative eigenvalues. Please compare their magnitude with the magnitude of some of the largest positive eigenvalues. If the negative ones are smaller, it's probably safe to ignore them, but if they are large in magnitude, the results won't be useful. See the Notes section for more details. The smallest eigenvalue is -0.0016601301154993214 and the largest is 0.6719550739370673.\n",
      "  warn(\n"
     ]
    }
   ],
   "source": [
    "s_depth = int(tabs.view(pd.DataFrame).sum(axis=1).min())\n",
    "results = core_metrics_phylogenetic(\n",
    "    table = tabs,\n",
    "    phylogeny = mafft_rooted_tree,\n",
    "    sampling_depth = s_depth,\n",
    "    metadata = metadata_qa,\n",
    "    n_jobs_or_threads = 6,\n",
    ")"
   ]
  },
  {
   "cell_type": "code",
   "execution_count": 13,
   "id": "19311218",
   "metadata": {
    "execution": {
     "iopub.execute_input": "2024-02-01T23:01:38.907960Z",
     "iopub.status.busy": "2024-02-01T23:01:38.907647Z",
     "iopub.status.idle": "2024-02-01T23:01:38.914607Z",
     "shell.execute_reply": "2024-02-01T23:01:38.913829Z"
    },
    "papermill": {
     "duration": 0.044478,
     "end_time": "2024-02-01T23:01:38.916340",
     "exception": false,
     "start_time": "2024-02-01T23:01:38.871862",
     "status": "completed"
    },
    "tags": []
   },
   "outputs": [],
   "source": [
    "results_info = [(\"rarefied_table\", \"FeatureTable[Frequency]\", \"The resulting rarefied feature table.\"),\n",
    "(\"faith_pd_vector\", \"SampleData[AlphaDiversity]\", \"Vector of Faith PD values by sample.\"),\n",
    "(\"observed_features_vector\", \"SampleData[AlphaDiversity]\", \"Vector of Observed Features values by sample.\"),\n",
    "(\"shannon_vector\", \"SampleData[AlphaDiversity]\", \"Vector of Shannon diversity values by sample.\"),\n",
    "(\"evenness_vector\", \"SampleData[AlphaDiversity]\", \"Vector of Pielou's evenness values by sample.\"),\n",
    "(\"unweighted_unifrac_distance_matrix\", \"DistanceMatrix\", \"Matrix of unweighted UniFrac distances between pairs of samples.\"),\n",
    "(\"weighted_unifrac_distance_matrix\", \"DistanceMatrix\", \"Matrix of weighted UniFrac distances between pairs of samples.\"),\n",
    "(\"jaccard_distance_matrix\", \"DistanceMatrix\", \"Matrix of Jaccard distances between pairs of samples.\"),\n",
    "(\"bray_curtis_distance_matrix\", \"DistanceMatrix\", \"Matrix of Bray-Curtis distances between pairs of samples.\"),\n",
    "(\"unweighted_unifrac_pcoa_results\", \"PCoAResults\", \"PCoA matrix computed from unweighted UniFrac distances between samples.\"),\n",
    "(\"weighted_unifrac_pcoa_results\", \"PCoAResults\", \"PCoA matrix computed from weighted UniFrac distances between samples.\"),\n",
    "(\"jaccard_pcoa_results\", \"PCoAResults\", \"PCoA matrix computed from Jaccard distances between samples.\"),\n",
    "(\"bray_curtis_pcoa_results\", \"PCoAResults\", \"PCoA matrix computed from Bray-Curtis distances between samples.\"),\n",
    "(\"unweighted_unifrac_emperor\", \"Visualization\", \"Emperor plot of the PCoA matrix computed from unweighted UniFrac.\"),\n",
    "(\"weighted_unifrac_emperor\", \"Visualization\", \"Emperor plot of the PCoA matrix computed from weighted UniFrac.\"),\n",
    "(\"jaccard_emperor\", \"Visualization\", \"Emperor plot of the PCoA matrix computed from Jaccard.\"),\n",
    "(\"bray_curtis_emperor\", \"Visualization\", \"Emperor plot of the PCoA matrix computed from Bray-Curtis.\")]"
   ]
  },
  {
   "cell_type": "code",
   "execution_count": 14,
   "id": "2264925a",
   "metadata": {
    "execution": {
     "iopub.execute_input": "2024-02-01T23:01:38.988293Z",
     "iopub.status.busy": "2024-02-01T23:01:38.987987Z",
     "iopub.status.idle": "2024-02-01T23:01:39.443698Z",
     "shell.execute_reply": "2024-02-01T23:01:39.442913Z"
    },
    "papermill": {
     "duration": 0.493575,
     "end_time": "2024-02-01T23:01:39.446364",
     "exception": false,
     "start_time": "2024-02-01T23:01:38.952789",
     "status": "completed"
    },
    "tags": []
   },
   "outputs": [
    {
     "name": "stdout",
     "output_type": "stream",
     "text": [
      "13 unweighted_unifrac_emperor Visualization\n",
      "--- Emperor plot of the PCoA matrix computed from unweighted UniFrac. ---\n",
      "Saving emperor file at: /home/lauro/nupeb/rede-micro/redemicro-ana-flavia-nutri/experiments/ana-flavia-NCxHSD-NC-trim/qiime-artifacts/beta-analysis/unweighted_unifrac_emperor.qzv\n",
      "\n",
      "14 weighted_unifrac_emperor Visualization\n",
      "--- Emperor plot of the PCoA matrix computed from weighted UniFrac. ---\n",
      "Saving emperor file at: /home/lauro/nupeb/rede-micro/redemicro-ana-flavia-nutri/experiments/ana-flavia-NCxHSD-NC-trim/qiime-artifacts/beta-analysis/weighted_unifrac_emperor.qzv\n",
      "\n"
     ]
    },
    {
     "name": "stdout",
     "output_type": "stream",
     "text": [
      "15 jaccard_emperor Visualization\n",
      "--- Emperor plot of the PCoA matrix computed from Jaccard. ---\n",
      "Saving emperor file at: /home/lauro/nupeb/rede-micro/redemicro-ana-flavia-nutri/experiments/ana-flavia-NCxHSD-NC-trim/qiime-artifacts/beta-analysis/jaccard_emperor.qzv\n",
      "\n",
      "16 bray_curtis_emperor Visualization\n",
      "--- Emperor plot of the PCoA matrix computed from Bray-Curtis. ---\n",
      "Saving emperor file at: /home/lauro/nupeb/rede-micro/redemicro-ana-flavia-nutri/experiments/ana-flavia-NCxHSD-NC-trim/qiime-artifacts/beta-analysis/bray_curtis_emperor.qzv\n",
      "\n"
     ]
    }
   ],
   "source": [
    "distance_matrix = dict()\n",
    "for i, info in enumerate(results_info):\n",
    "    r_id, r_type, r_desc = info\n",
    "    #print(i, r_id, r_type)\n",
    "    file_name = f\"{r_id}.qzv\"\n",
    "    if r_type == \"FeatureTable[Frequency]\":\n",
    "        pass\n",
    "    elif r_type == \"DistanceMatrix\":\n",
    "        distance_matrix[r_id] = results[i]\n",
    "    elif r_id.endswith('emperor'):\n",
    "        print(i, r_id, r_type)\n",
    "        print(f\"--- {r_desc} ---\")\n",
    "        file_name = os.path.join(beta_path, file_name)\n",
    "        print(f'Saving emperor file at: {file_name}\\n')\n",
    "        results[i].save(filepath=file_name)"
   ]
  },
  {
   "cell_type": "markdown",
   "id": "c7752cfd",
   "metadata": {
    "papermill": {
     "duration": 0.034839,
     "end_time": "2024-02-01T23:01:39.520892",
     "exception": false,
     "start_time": "2024-02-01T23:01:39.486053",
     "status": "completed"
    },
    "tags": []
   },
   "source": [
    "### Alpha diversity correlation\n",
    "\n",
    "This method only process `numeric` columns.\n"
   ]
  },
  {
   "cell_type": "code",
   "execution_count": 15,
   "id": "2814f613",
   "metadata": {
    "ExecuteTime": {
     "end_time": "2022-09-29T20:54:35.317618Z",
     "start_time": "2022-09-29T20:54:35.312094Z"
    },
    "execution": {
     "iopub.execute_input": "2024-02-01T23:01:39.597514Z",
     "iopub.status.busy": "2024-02-01T23:01:39.597120Z",
     "iopub.status.idle": "2024-02-01T23:01:39.607729Z",
     "shell.execute_reply": "2024-02-01T23:01:39.606778Z"
    },
    "papermill": {
     "duration": 0.0528,
     "end_time": "2024-02-01T23:01:39.609499",
     "exception": false,
     "start_time": "2024-02-01T23:01:39.556699",
     "status": "completed"
    },
    "tags": []
   },
   "outputs": [],
   "source": [
    "methods = ('spearman', 'pearson')\n",
    "numerics_cols = metadata_qa.filter_columns(column_type='numeric')\n",
    "if numerics_cols.column_count > 0:\n",
    "    for metric, alpha_values in alpha_diversities.items():\n",
    "        for method in methods:\n",
    "            try:\n",
    "                corr_view = alpha_correlation(alpha_diversity=alpha_values, metadata=numerics_cols, \n",
    "                                          method=method, intersect_ids=True).visualization\n",
    "                view_path = os.path.join(alpha_path, f'alpha-correlation-{metric}-{method}.qzv')\n",
    "                corr_view.save(view_path)\n",
    "                corr_view\n",
    "                print(f\"DONE: Calculating alpha correlation: {metric} {method}\")\n",
    "            except Exception as e:\n",
    "                print(f\"ERROR: Calculating alpha correlation: {metric} {method}\")"
   ]
  },
  {
   "cell_type": "markdown",
   "id": "8ea83c8a",
   "metadata": {
    "papermill": {
     "duration": 0.039138,
     "end_time": "2024-02-01T23:01:39.687885",
     "exception": false,
     "start_time": "2024-02-01T23:01:39.648747",
     "status": "completed"
    },
    "tags": []
   },
   "source": [
    "## Alpha diversity comparisons\n",
    "\n",
    "Visually and statistically compare groups of alpha diversity values.\n",
    "\n",
    "[diversity alpha_group_significance](https://docs.qiime2.org/2022.8/plugins/available/diversity/alpha-group-significance/)"
   ]
  },
  {
   "cell_type": "code",
   "execution_count": 16,
   "id": "276d1c18",
   "metadata": {
    "ExecuteTime": {
     "end_time": "2022-09-29T20:54:36.089290Z",
     "start_time": "2022-09-29T20:54:35.318963Z"
    },
    "execution": {
     "iopub.execute_input": "2024-02-01T23:01:39.782315Z",
     "iopub.status.busy": "2024-02-01T23:01:39.782094Z",
     "iopub.status.idle": "2024-02-01T23:01:40.426666Z",
     "shell.execute_reply": "2024-02-01T23:01:40.425975Z"
    },
    "papermill": {
     "duration": 0.697132,
     "end_time": "2024-02-01T23:01:40.429823",
     "exception": false,
     "start_time": "2024-02-01T23:01:39.732691",
     "status": "completed"
    },
    "tags": []
   },
   "outputs": [
    {
     "name": "stdout",
     "output_type": "stream",
     "text": [
      "Processing alpha_group_significance: chao1\n",
      "{'metadata': Metadata\n",
      "--------\n",
      "12 IDs x 3 columns\n",
      "sample-name: ColumnProperties(type='categorical')\n",
      "group-id:    ColumnProperties(type='categorical')\n",
      "group-desc:  ColumnProperties(type='categorical')\n",
      "\n",
      "Call to_dataframe() for a tabular representation., 'alpha_diversity': S210421121673    262.0\n",
      "S210421121674    131.0\n",
      "S210421121675    124.0\n",
      "S210421121676    255.0\n",
      "S210421121688    185.0\n",
      "S210421121689    160.0\n",
      "S210421121690    147.0\n",
      "S210421121698     52.0\n",
      "S210421121699    113.0\n",
      "S210421121700     90.0\n",
      "S210421121701     92.0\n",
      "S210421121702     44.0\n",
      "Name: chao1, dtype: float64}\n",
      "DONE: Calculating alpha group significance: chao1\n",
      "Processing alpha_group_significance: chao1_ci\n",
      "ERROR: Calculating alpha group significance: chao1_ci\n",
      "Processing alpha_group_significance: observed_features\n",
      "{'metadata': Metadata\n",
      "--------\n",
      "12 IDs x 3 columns\n",
      "sample-name: ColumnProperties(type='categorical')\n",
      "group-id:    ColumnProperties(type='categorical')\n",
      "group-desc:  ColumnProperties(type='categorical')\n",
      "\n",
      "Call to_dataframe() for a tabular representation., 'alpha_diversity': S210421121673    262\n",
      "S210421121674    131\n",
      "S210421121675    124\n",
      "S210421121676    255\n",
      "S210421121688    185\n",
      "S210421121689    160\n",
      "S210421121690    147\n",
      "S210421121698     52\n",
      "S210421121699    113\n",
      "S210421121700     90\n",
      "S210421121701     92\n",
      "S210421121702     44\n",
      "Name: observed_features, dtype: int64}\n"
     ]
    },
    {
     "name": "stdout",
     "output_type": "stream",
     "text": [
      "DONE: Calculating alpha group significance: observed_features\n",
      "Processing alpha_group_significance: shannon\n",
      "{'metadata': Metadata\n",
      "--------\n",
      "12 IDs x 3 columns\n",
      "sample-name: ColumnProperties(type='categorical')\n",
      "group-id:    ColumnProperties(type='categorical')\n",
      "group-desc:  ColumnProperties(type='categorical')\n",
      "\n",
      "Call to_dataframe() for a tabular representation., 'alpha_diversity': S210421121673    5.860846\n",
      "S210421121674    4.435387\n",
      "S210421121675    4.729984\n",
      "S210421121676    4.772633\n",
      "S210421121688    5.383905\n",
      "S210421121689    3.637362\n",
      "S210421121690    4.348517\n",
      "S210421121698    3.397345\n",
      "S210421121699    5.865433\n",
      "S210421121700    5.496901\n",
      "S210421121701    2.705817\n",
      "S210421121702    4.395961\n",
      "Name: shannon_entropy, dtype: float64}\n",
      "DONE: Calculating alpha group significance: shannon\n",
      "Processing alpha_group_significance: simpson\n",
      "{'metadata': Metadata\n",
      "--------\n",
      "12 IDs x 3 columns\n",
      "sample-name: ColumnProperties(type='categorical')\n",
      "group-id:    ColumnProperties(type='categorical')\n",
      "group-desc:  ColumnProperties(type='categorical')\n",
      "\n",
      "Call to_dataframe() for a tabular representation., 'alpha_diversity': S210421121673    0.968772\n",
      "S210421121674    0.920051\n",
      "S210421121675    0.932399\n",
      "S210421121676    0.914619\n",
      "S210421121688    0.960381\n",
      "S210421121689    0.793962\n",
      "S210421121690    0.894339\n",
      "S210421121698    0.792733\n",
      "S210421121699    0.972133\n",
      "S210421121700    0.965448\n",
      "S210421121701    0.604572\n",
      "S210421121702    0.912672\n",
      "Name: simpson, dtype: float64}\n"
     ]
    },
    {
     "name": "stdout",
     "output_type": "stream",
     "text": [
      "DONE: Calculating alpha group significance: simpson\n",
      "Processing alpha_group_significance: simpson_e\n",
      "{'metadata': Metadata\n",
      "--------\n",
      "12 IDs x 3 columns\n",
      "sample-name: ColumnProperties(type='categorical')\n",
      "group-id:    ColumnProperties(type='categorical')\n",
      "group-desc:  ColumnProperties(type='categorical')\n",
      "\n",
      "Call to_dataframe() for a tabular representation., 'alpha_diversity': S210421121673    0.122225\n",
      "S210421121674    0.095480\n",
      "S210421121675    0.119296\n",
      "S210421121676    0.045930\n",
      "S210421121688    0.136436\n",
      "S210421121689    0.030334\n",
      "S210421121690    0.064383\n",
      "S210421121698    0.092782\n",
      "S210421121699    0.317560\n",
      "S210421121700    0.321580\n",
      "S210421121701    0.027488\n",
      "S210421121702    0.260251\n",
      "Name: simpson_e, dtype: float64}\n",
      "DONE: Calculating alpha group significance: simpson_e\n"
     ]
    }
   ],
   "source": [
    "for metric, alpha_values in alpha_diversities.items():\n",
    "    print(f\"Processing alpha_group_significance: {metric}\")\n",
    "    try:\n",
    "        significance_view = alpha_group_significance(alpha_diversity=alpha_values, metadata=metadata_qa).visualization\n",
    "        view_path = os.path.join(alpha_path, f'alpha-group-significance-{metric}.qzv')\n",
    "        significance_view.save(view_path)\n",
    "        significance_view\n",
    "        print(f\"DONE: Calculating alpha group significance: {metric}\")\n",
    "    except Exception as e:\n",
    "        print(f\"ERROR: Calculating alpha group significance: {metric}\")"
   ]
  },
  {
   "cell_type": "markdown",
   "id": "4349d357",
   "metadata": {
    "papermill": {
     "duration": 0.036889,
     "end_time": "2024-02-01T23:01:40.508767",
     "exception": false,
     "start_time": "2024-02-01T23:01:40.471878",
     "status": "completed"
    },
    "tags": []
   },
   "source": [
    "## Beta diversity analysis\n",
    "\n",
    "#### Reference\n",
    "- [diversity beta](https://docs.qiime2.org/2022.8/plugins/available/diversity/beta/): Computes a user-specified beta diversity metric for all pairs of samples in a feature table.\n",
    "- [Beta diversity metrics](http://scikit-bio.org/docs/0.2.0/generated/skbio.diversity.beta.html)\n",
    "\n",
    "- Metric Choices('aitchison', 'braycurtis', 'canberra', 'canberra_adkins', 'chebyshev', 'cityblock', 'correlation', 'cosine', 'dice', 'euclidean', 'hamming', 'jaccard', 'jensenshannon', 'kulsinski', 'matching', 'minkowski', 'rogerstanimoto', 'russellrao', 'seuclidean', 'sokalmichener', 'sokalsneath', 'sqeuclidean', 'yule')"
   ]
  },
  {
   "cell_type": "code",
   "execution_count": 17,
   "id": "f6f358dd",
   "metadata": {
    "ExecuteTime": {
     "end_time": "2022-09-29T20:54:36.335038Z",
     "start_time": "2022-09-29T20:54:36.091288Z"
    },
    "execution": {
     "iopub.execute_input": "2024-02-01T23:01:40.587604Z",
     "iopub.status.busy": "2024-02-01T23:01:40.587128Z",
     "iopub.status.idle": "2024-02-01T23:01:41.118828Z",
     "shell.execute_reply": "2024-02-01T23:01:41.118142Z"
    },
    "papermill": {
     "duration": 0.577345,
     "end_time": "2024-02-01T23:01:41.123037",
     "exception": false,
     "start_time": "2024-02-01T23:01:40.545692",
     "status": "completed"
    },
    "tags": []
   },
   "outputs": [
    {
     "name": "stdout",
     "output_type": "stream",
     "text": [
      "Calculating beta diversity: euclidean\n",
      "{'metric': 'euclidean', 'pseudocount': 1, 'n_jobs': 6, 'table': <artifact: FeatureTable[Frequency] uuid: 78d81b64-5063-407a-a6cb-2001f2a00e71>}\n",
      "{'metric': 'euclidean', 'pseudocount': 1, 'n_jobs': 6, 'table': 876 x 12 <class 'biom.table.Table'> with 1655 nonzero entries (15% dense)}\n",
      "{'metric': 'euclidean', 'pseudocount': 1, 'n_jobs': 6, 'table': 876 x 12 <class 'biom.table.Table'> with 1655 nonzero entries (15% dense)}\n",
      "DONE: Calculating beta diversity: euclidean\n",
      "Calculating beta diversity: dice\n",
      "{'metric': 'dice', 'pseudocount': 1, 'n_jobs': 6, 'table': <artifact: FeatureTable[Frequency] uuid: 78d81b64-5063-407a-a6cb-2001f2a00e71>}\n",
      "{'metric': 'dice', 'pseudocount': 1, 'n_jobs': 6, 'table': 876 x 12 <class 'biom.table.Table'> with 1655 nonzero entries (15% dense)}\n",
      "{'metric': 'dice', 'pseudocount': 1, 'n_jobs': 6, 'table': 876 x 12 <class 'biom.table.Table'> with 1655 nonzero entries (15% dense)}\n",
      "DONE: Calculating beta diversity: dice\n",
      "Calculating beta diversity: braycurtis\n",
      "{'metric': 'braycurtis', 'pseudocount': 1, 'n_jobs': 6, 'table': <artifact: FeatureTable[Frequency] uuid: 78d81b64-5063-407a-a6cb-2001f2a00e71>}\n"
     ]
    },
    {
     "name": "stderr",
     "output_type": "stream",
     "text": [
      "/home/lauro/anaconda3/envs/qiime2-2022.2/lib/python3.8/site-packages/sklearn/metrics/pairwise.py:1761: DataConversionWarning: Data was converted to boolean for metric dice\n",
      "  warnings.warn(msg, DataConversionWarning)\n"
     ]
    },
    {
     "name": "stdout",
     "output_type": "stream",
     "text": [
      "{'n_jobs': 6, 'table': 876 x 12 <class 'biom.table.Table'> with 1655 nonzero entries (15% dense)}\n",
      "{'n_jobs': 6, 'table': 876 x 12 <class 'biom.table.Table'> with 1655 nonzero entries (15% dense)}\n",
      "DONE: Calculating beta diversity: braycurtis\n",
      "Calculating beta diversity: correlation\n",
      "{'metric': 'correlation', 'pseudocount': 1, 'n_jobs': 6, 'table': <artifact: FeatureTable[Frequency] uuid: 78d81b64-5063-407a-a6cb-2001f2a00e71>}\n",
      "{'metric': 'correlation', 'pseudocount': 1, 'n_jobs': 6, 'table': 876 x 12 <class 'biom.table.Table'> with 1655 nonzero entries (15% dense)}\n",
      "{'metric': 'correlation', 'pseudocount': 1, 'n_jobs': 6, 'table': 876 x 12 <class 'biom.table.Table'> with 1655 nonzero entries (15% dense)}\n",
      "ERROR: Calculating beta diversity: correlation\n",
      "Calculating beta diversity: cosine\n",
      "{'metric': 'cosine', 'pseudocount': 1, 'n_jobs': 6, 'table': <artifact: FeatureTable[Frequency] uuid: 78d81b64-5063-407a-a6cb-2001f2a00e71>}\n",
      "{'metric': 'cosine', 'pseudocount': 1, 'n_jobs': 6, 'table': 876 x 12 <class 'biom.table.Table'> with 1655 nonzero entries (15% dense)}\n",
      "{'metric': 'cosine', 'pseudocount': 1, 'n_jobs': 6, 'table': 876 x 12 <class 'biom.table.Table'> with 1655 nonzero entries (15% dense)}\n",
      "ERROR: Calculating beta diversity: cosine\n",
      "Calculating beta diversity: matching\n",
      "{'metric': 'matching', 'pseudocount': 1, 'n_jobs': 6, 'table': <artifact: FeatureTable[Frequency] uuid: 78d81b64-5063-407a-a6cb-2001f2a00e71>}\n",
      "{'metric': 'matching', 'pseudocount': 1, 'n_jobs': 6, 'table': 876 x 12 <class 'biom.table.Table'> with 1655 nonzero entries (15% dense)}\n",
      "{'metric': 'matching', 'pseudocount': 1, 'n_jobs': 6, 'table': 876 x 12 <class 'biom.table.Table'> with 1655 nonzero entries (15% dense)}\n"
     ]
    },
    {
     "name": "stdout",
     "output_type": "stream",
     "text": [
      "DONE: Calculating beta diversity: matching\n",
      "Calculating beta diversity: jaccard\n",
      "{'metric': 'jaccard', 'pseudocount': 1, 'n_jobs': 6, 'table': <artifact: FeatureTable[Frequency] uuid: 78d81b64-5063-407a-a6cb-2001f2a00e71>}\n",
      "{'n_jobs': 6, 'table': 876 x 12 <class 'biom.table.Table'> with 1655 nonzero entries (15% dense)}\n",
      "{'n_jobs': 6, 'table': 876 x 12 <class 'biom.table.Table'> with 1655 nonzero entries (15% dense)}\n",
      "DONE: Calculating beta diversity: jaccard\n"
     ]
    },
    {
     "name": "stderr",
     "output_type": "stream",
     "text": [
      "/home/lauro/anaconda3/envs/qiime2-2022.2/lib/python3.8/site-packages/sklearn/metrics/pairwise.py:1761: DataConversionWarning: Data was converted to boolean for metric matching\n",
      "  warnings.warn(msg, DataConversionWarning)\n",
      "/home/lauro/anaconda3/envs/qiime2-2022.2/lib/python3.8/site-packages/sklearn/metrics/pairwise.py:1761: DataConversionWarning: Data was converted to boolean for metric jaccard\n",
      "  warnings.warn(msg, DataConversionWarning)\n"
     ]
    }
   ],
   "source": [
    "metrics = ('aitchison', 'braycurtis', 'canberra', 'canberra_adkins', 'chebyshev', 'cityblock', 'correlation', 'cosine', 'dice', 'euclidean', 'hamming', 'jaccard', 'jensenshannon', 'kulsinski', 'matching', 'minkowski', 'rogerstanimoto', 'russellrao', 'seuclidean', 'sokalmichener', 'sokalsneath', 'sqeuclidean', 'yule')\n",
    "metrics = ('euclidean', 'dice', 'braycurtis', 'correlation', 'cosine', 'matching', 'jaccard')\n",
    "beta_diversities = dict()\n",
    "for metric in metrics:\n",
    "    print(f\"Calculating beta diversity: {metric}\")\n",
    "    try:\n",
    "        beta_diversity = beta(table=tabs, metric=metric, n_jobs=6, pseudocount=1).distance_matrix\n",
    "        beta_diversities[metric] = beta_diversity\n",
    "        # Save SampleData[BetaDiversity] Artifact\n",
    "        file_path = os.path.join(beta_path, f'beta-values-{metric}.qza')\n",
    "        beta_diversity.save(file_path)\n",
    "        print(f\"DONE: Calculating beta diversity: {metric}\")\n",
    "    except Exception as e:\n",
    "        print(f\"ERROR: Calculating beta diversity: {metric}\")"
   ]
  },
  {
   "cell_type": "markdown",
   "id": "200a2fa7",
   "metadata": {
    "papermill": {
     "duration": 0.084121,
     "end_time": "2024-02-01T23:01:41.250915",
     "exception": false,
     "start_time": "2024-02-01T23:01:41.166794",
     "status": "completed"
    },
    "tags": []
   },
   "source": [
    "### Beta group significance\n",
    "\n",
    "- [diversity beta_group_significance](https://docs.qiime2.org/2022.8/plugins/available/diversity/beta-group-significance/): Determine whether groups of samples are significantly different from one another using a permutation-based statistical test.\n",
    "- Marti J Anderson. A new method for non-parametric multivariate analysis of variance. Austral ecology, 26(1):32–46, 2001. doi:https://doi.org/10.1111/j.1442-9993.2001.01070.pp.x."
   ]
  },
  {
   "cell_type": "code",
   "execution_count": 18,
   "id": "b8dd42b6",
   "metadata": {
    "ExecuteTime": {
     "end_time": "2022-09-29T20:55:08.313860Z",
     "start_time": "2022-09-29T20:54:36.336993Z"
    },
    "execution": {
     "iopub.execute_input": "2024-02-01T23:01:41.373815Z",
     "iopub.status.busy": "2024-02-01T23:01:41.373262Z",
     "iopub.status.idle": "2024-02-01T23:02:21.707122Z",
     "shell.execute_reply": "2024-02-01T23:02:21.706477Z"
    },
    "papermill": {
     "duration": 40.3973,
     "end_time": "2024-02-01T23:02:21.711395",
     "exception": false,
     "start_time": "2024-02-01T23:01:41.314095",
     "status": "completed"
    },
    "tags": []
   },
   "outputs": [
    {
     "name": "stdout",
     "output_type": "stream",
     "text": [
      "Calculating beta group significance with method permanova and metric euclidean\n",
      "{'metadata': <CategoricalMetadataColumn name='group-id' id_count=12>, 'method': 'permanova', 'pairwise': True, 'permutations': 999, 'distance_matrix': <skbio.stats.distance._base.DistanceMatrix object at 0x7f9165dc7d90>}\n"
     ]
    },
    {
     "name": "stdout",
     "output_type": "stream",
     "text": [
      "DONE: Calculating beta group significance: permanova euclidean\n",
      "Calculating beta group significance with method permanova and metric dice\n",
      "{'metadata': <CategoricalMetadataColumn name='group-id' id_count=12>, 'method': 'permanova', 'pairwise': True, 'permutations': 999, 'distance_matrix': <skbio.stats.distance._base.DistanceMatrix object at 0x7f9146b7adc0>}\n"
     ]
    },
    {
     "name": "stdout",
     "output_type": "stream",
     "text": [
      "DONE: Calculating beta group significance: permanova dice\n",
      "Calculating beta group significance with method permanova and metric braycurtis\n",
      "{'metadata': <CategoricalMetadataColumn name='group-id' id_count=12>, 'method': 'permanova', 'pairwise': True, 'permutations': 999, 'distance_matrix': <skbio.stats.distance._base.DistanceMatrix object at 0x7f9146c000d0>}\n"
     ]
    },
    {
     "name": "stdout",
     "output_type": "stream",
     "text": [
      "DONE: Calculating beta group significance: permanova braycurtis\n",
      "Calculating beta group significance with method permanova and metric matching\n",
      "{'metadata': <CategoricalMetadataColumn name='group-id' id_count=12>, 'method': 'permanova', 'pairwise': True, 'permutations': 999, 'distance_matrix': <skbio.stats.distance._base.DistanceMatrix object at 0x7f9146aff490>}\n"
     ]
    },
    {
     "name": "stdout",
     "output_type": "stream",
     "text": [
      "DONE: Calculating beta group significance: permanova matching\n",
      "Calculating beta group significance with method permanova and metric jaccard\n",
      "{'metadata': <CategoricalMetadataColumn name='group-id' id_count=12>, 'method': 'permanova', 'pairwise': True, 'permutations': 999, 'distance_matrix': <skbio.stats.distance._base.DistanceMatrix object at 0x7f9146b647f0>}\n"
     ]
    },
    {
     "name": "stdout",
     "output_type": "stream",
     "text": [
      "DONE: Calculating beta group significance: permanova jaccard\n",
      "Calculating beta group significance with method anosim and metric euclidean\n",
      "{'metadata': <CategoricalMetadataColumn name='group-id' id_count=12>, 'method': 'anosim', 'pairwise': True, 'permutations': 999, 'distance_matrix': <skbio.stats.distance._base.DistanceMatrix object at 0x7f916a109fa0>}\n"
     ]
    },
    {
     "name": "stdout",
     "output_type": "stream",
     "text": [
      "DONE: Calculating beta group significance: anosim euclidean\n",
      "Calculating beta group significance with method anosim and metric dice\n",
      "{'metadata': <CategoricalMetadataColumn name='group-id' id_count=12>, 'method': 'anosim', 'pairwise': True, 'permutations': 999, 'distance_matrix': <skbio.stats.distance._base.DistanceMatrix object at 0x7f916a483f40>}\n"
     ]
    },
    {
     "name": "stdout",
     "output_type": "stream",
     "text": [
      "DONE: Calculating beta group significance: anosim dice\n",
      "Calculating beta group significance with method anosim and metric braycurtis\n",
      "{'metadata': <CategoricalMetadataColumn name='group-id' id_count=12>, 'method': 'anosim', 'pairwise': True, 'permutations': 999, 'distance_matrix': <skbio.stats.distance._base.DistanceMatrix object at 0x7f916ad885b0>}\n"
     ]
    },
    {
     "name": "stdout",
     "output_type": "stream",
     "text": [
      "DONE: Calculating beta group significance: anosim braycurtis\n",
      "Calculating beta group significance with method anosim and metric matching\n",
      "{'metadata': <CategoricalMetadataColumn name='group-id' id_count=12>, 'method': 'anosim', 'pairwise': True, 'permutations': 999, 'distance_matrix': <skbio.stats.distance._base.DistanceMatrix object at 0x7f916ac4a8b0>}\n"
     ]
    },
    {
     "name": "stdout",
     "output_type": "stream",
     "text": [
      "DONE: Calculating beta group significance: anosim matching\n",
      "Calculating beta group significance with method anosim and metric jaccard\n",
      "{'metadata': <CategoricalMetadataColumn name='group-id' id_count=12>, 'method': 'anosim', 'pairwise': True, 'permutations': 999, 'distance_matrix': <skbio.stats.distance._base.DistanceMatrix object at 0x7f916ac3f9d0>}\n"
     ]
    },
    {
     "name": "stdout",
     "output_type": "stream",
     "text": [
      "DONE: Calculating beta group significance: anosim jaccard\n",
      "Calculating beta group significance with method permdisp and metric euclidean\n",
      "{'metadata': <CategoricalMetadataColumn name='group-id' id_count=12>, 'method': 'permdisp', 'pairwise': True, 'permutations': 999, 'distance_matrix': <skbio.stats.distance._base.DistanceMatrix object at 0x7f916a880550>}\n"
     ]
    },
    {
     "name": "stderr",
     "output_type": "stream",
     "text": [
      "/home/lauro/anaconda3/envs/qiime2-2022.2/lib/python3.8/site-packages/skbio/stats/ordination/_principal_coordinate_analysis.py:143: RuntimeWarning: The result contains negative eigenvalues. Please compare their magnitude with the magnitude of some of the largest positive eigenvalues. If the negative ones are smaller, it's probably safe to ignore them, but if they are large in magnitude, the results won't be useful. See the Notes section for more details. The smallest eigenvalue is -4.126937089478735e-06 and the largest is 17620253460.73865.\n",
      "  warn(\n"
     ]
    },
    {
     "name": "stderr",
     "output_type": "stream",
     "text": [
      "/home/lauro/anaconda3/envs/qiime2-2022.2/lib/python3.8/site-packages/skbio/stats/ordination/_principal_coordinate_analysis.py:143: RuntimeWarning: The result contains negative eigenvalues. Please compare their magnitude with the magnitude of some of the largest positive eigenvalues. If the negative ones are smaller, it's probably safe to ignore them, but if they are large in magnitude, the results won't be useful. See the Notes section for more details. The smallest eigenvalue is -1.1763143675230134e-06 and the largest is 17620253460.73862.\n",
      "  warn(\n"
     ]
    },
    {
     "name": "stdout",
     "output_type": "stream",
     "text": [
      "DONE: Calculating beta group significance: permdisp euclidean\n",
      "Calculating beta group significance with method permdisp and metric dice\n",
      "{'metadata': <CategoricalMetadataColumn name='group-id' id_count=12>, 'method': 'permdisp', 'pairwise': True, 'permutations': 999, 'distance_matrix': <skbio.stats.distance._base.DistanceMatrix object at 0x7f916a880700>}\n"
     ]
    },
    {
     "name": "stdout",
     "output_type": "stream",
     "text": [
      "DONE: Calculating beta group significance: permdisp dice\n",
      "Calculating beta group significance with method permdisp and metric braycurtis\n",
      "{'metadata': <CategoricalMetadataColumn name='group-id' id_count=12>, 'method': 'permdisp', 'pairwise': True, 'permutations': 999, 'distance_matrix': <skbio.stats.distance._base.DistanceMatrix object at 0x7f9146c00cd0>}\n"
     ]
    },
    {
     "name": "stdout",
     "output_type": "stream",
     "text": [
      "DONE: Calculating beta group significance: permdisp braycurtis\n",
      "Calculating beta group significance with method permdisp and metric matching\n",
      "{'metadata': <CategoricalMetadataColumn name='group-id' id_count=12>, 'method': 'permdisp', 'pairwise': True, 'permutations': 999, 'distance_matrix': <skbio.stats.distance._base.DistanceMatrix object at 0x7f916a5b14c0>}\n"
     ]
    },
    {
     "name": "stdout",
     "output_type": "stream",
     "text": [
      "DONE: Calculating beta group significance: permdisp matching\n",
      "Calculating beta group significance with method permdisp and metric jaccard\n",
      "{'metadata': <CategoricalMetadataColumn name='group-id' id_count=12>, 'method': 'permdisp', 'pairwise': True, 'permutations': 999, 'distance_matrix': <skbio.stats.distance._base.DistanceMatrix object at 0x7f91469cd640>}\n"
     ]
    },
    {
     "name": "stdout",
     "output_type": "stream",
     "text": [
      "DONE: Calculating beta group significance: permdisp jaccard\n"
     ]
    },
    {
     "data": {
      "text/plain": [
       "<Figure size 432x288 with 0 Axes>"
      ]
     },
     "metadata": {},
     "output_type": "display_data"
    }
   ],
   "source": [
    "methods = ('permanova', 'anosim', 'permdisp')\n",
    "for method in methods:\n",
    "    for metric, beta_diversity in beta_diversities.items():\n",
    "        print(f'Calculating beta group significance with method {method} and metric {metric}')\n",
    "        try:\n",
    "            beta_view = beta_group_significance(distance_matrix=beta_diversity, \n",
    "                                                metadata=metadata_qa.get_column(class_col), \n",
    "                                                pairwise=True, method=method).visualization\n",
    "            view_name = os.path.join(beta_path, f'beta-group-significance-{metric}-{method}.qzv')\n",
    "            beta_view.save(view_name)\n",
    "            print(f\"DONE: Calculating beta group significance: {method} {metric}\")\n",
    "        except Exception as e:\n",
    "            print(f\"ERROR: Calculating beta group significance: {method} {metric}\")"
   ]
  },
  {
   "cell_type": "code",
   "execution_count": 19,
   "id": "6366725e",
   "metadata": {
    "execution": {
     "iopub.execute_input": "2024-02-01T23:02:21.802660Z",
     "iopub.status.busy": "2024-02-01T23:02:21.802269Z",
     "iopub.status.idle": "2024-02-01T23:02:53.533970Z",
     "shell.execute_reply": "2024-02-01T23:02:53.532935Z"
    },
    "papermill": {
     "duration": 31.828277,
     "end_time": "2024-02-01T23:02:53.586743",
     "exception": false,
     "start_time": "2024-02-01T23:02:21.758466",
     "status": "completed"
    },
    "tags": []
   },
   "outputs": [
    {
     "name": "stdout",
     "output_type": "stream",
     "text": [
      "Calculating beta group significance with method permanova and metric unweighted_unifrac_distance_matrix\n",
      "{'metadata': <CategoricalMetadataColumn name='group-id' id_count=12>, 'method': 'permanova', 'pairwise': True, 'permutations': 999, 'distance_matrix': <skbio.stats.distance._base.DistanceMatrix object at 0x7f9169e72c10>}\n"
     ]
    },
    {
     "name": "stdout",
     "output_type": "stream",
     "text": [
      "DONE: Calculating beta group significance: permanova unweighted_unifrac_distance_matrix\n",
      "Calculating beta group significance with method permanova and metric weighted_unifrac_distance_matrix\n",
      "{'metadata': <CategoricalMetadataColumn name='group-id' id_count=12>, 'method': 'permanova', 'pairwise': True, 'permutations': 999, 'distance_matrix': <skbio.stats.distance._base.DistanceMatrix object at 0x7f916a04cd60>}\n"
     ]
    },
    {
     "name": "stdout",
     "output_type": "stream",
     "text": [
      "DONE: Calculating beta group significance: permanova weighted_unifrac_distance_matrix\n",
      "Calculating beta group significance with method permanova and metric jaccard_distance_matrix\n",
      "{'metadata': <CategoricalMetadataColumn name='group-id' id_count=12>, 'method': 'permanova', 'pairwise': True, 'permutations': 999, 'distance_matrix': <skbio.stats.distance._base.DistanceMatrix object at 0x7f916a0655e0>}\n"
     ]
    },
    {
     "name": "stdout",
     "output_type": "stream",
     "text": [
      "DONE: Calculating beta group significance: permanova jaccard_distance_matrix\n",
      "Calculating beta group significance with method permanova and metric bray_curtis_distance_matrix\n",
      "{'metadata': <CategoricalMetadataColumn name='group-id' id_count=12>, 'method': 'permanova', 'pairwise': True, 'permutations': 999, 'distance_matrix': <skbio.stats.distance._base.DistanceMatrix object at 0x7f916a08ec70>}\n"
     ]
    },
    {
     "name": "stdout",
     "output_type": "stream",
     "text": [
      "DONE: Calculating beta group significance: permanova bray_curtis_distance_matrix\n",
      "Calculating beta group significance with method anosim and metric unweighted_unifrac_distance_matrix\n",
      "{'metadata': <CategoricalMetadataColumn name='group-id' id_count=12>, 'method': 'anosim', 'pairwise': True, 'permutations': 999, 'distance_matrix': <skbio.stats.distance._base.DistanceMatrix object at 0x7f916a08e520>}\n"
     ]
    },
    {
     "name": "stdout",
     "output_type": "stream",
     "text": [
      "DONE: Calculating beta group significance: anosim unweighted_unifrac_distance_matrix\n",
      "Calculating beta group significance with method anosim and metric weighted_unifrac_distance_matrix\n",
      "{'metadata': <CategoricalMetadataColumn name='group-id' id_count=12>, 'method': 'anosim', 'pairwise': True, 'permutations': 999, 'distance_matrix': <skbio.stats.distance._base.DistanceMatrix object at 0x7f9169fc0b80>}\n"
     ]
    },
    {
     "name": "stdout",
     "output_type": "stream",
     "text": [
      "DONE: Calculating beta group significance: anosim weighted_unifrac_distance_matrix\n",
      "Calculating beta group significance with method anosim and metric jaccard_distance_matrix\n",
      "{'metadata': <CategoricalMetadataColumn name='group-id' id_count=12>, 'method': 'anosim', 'pairwise': True, 'permutations': 999, 'distance_matrix': <skbio.stats.distance._base.DistanceMatrix object at 0x7f916a5d5d90>}\n"
     ]
    },
    {
     "name": "stdout",
     "output_type": "stream",
     "text": [
      "DONE: Calculating beta group significance: anosim jaccard_distance_matrix\n",
      "Calculating beta group significance with method anosim and metric bray_curtis_distance_matrix\n",
      "{'metadata': <CategoricalMetadataColumn name='group-id' id_count=12>, 'method': 'anosim', 'pairwise': True, 'permutations': 999, 'distance_matrix': <skbio.stats.distance._base.DistanceMatrix object at 0x7f9169fe3ee0>}\n"
     ]
    },
    {
     "name": "stdout",
     "output_type": "stream",
     "text": [
      "DONE: Calculating beta group significance: anosim bray_curtis_distance_matrix\n",
      "Calculating beta group significance with method permdisp and metric unweighted_unifrac_distance_matrix\n",
      "{'metadata': <CategoricalMetadataColumn name='group-id' id_count=12>, 'method': 'permdisp', 'pairwise': True, 'permutations': 999, 'distance_matrix': <skbio.stats.distance._base.DistanceMatrix object at 0x7f916a45d850>}\n"
     ]
    },
    {
     "name": "stdout",
     "output_type": "stream",
     "text": [
      "DONE: Calculating beta group significance: permdisp unweighted_unifrac_distance_matrix\n",
      "Calculating beta group significance with method permdisp and metric weighted_unifrac_distance_matrix\n",
      "{'metadata': <CategoricalMetadataColumn name='group-id' id_count=12>, 'method': 'permdisp', 'pairwise': True, 'permutations': 999, 'distance_matrix': <skbio.stats.distance._base.DistanceMatrix object at 0x7f916a0a7df0>}\n"
     ]
    },
    {
     "name": "stderr",
     "output_type": "stream",
     "text": [
      "/home/lauro/anaconda3/envs/qiime2-2022.2/lib/python3.8/site-packages/skbio/stats/ordination/_principal_coordinate_analysis.py:143: RuntimeWarning: The result contains negative eigenvalues. Please compare their magnitude with the magnitude of some of the largest positive eigenvalues. If the negative ones are smaller, it's probably safe to ignore them, but if they are large in magnitude, the results won't be useful. See the Notes section for more details. The smallest eigenvalue is -0.0016601301154992932 and the largest is 0.671955073937067.\n",
      "  warn(\n"
     ]
    },
    {
     "name": "stderr",
     "output_type": "stream",
     "text": [
      "/home/lauro/anaconda3/envs/qiime2-2022.2/lib/python3.8/site-packages/skbio/stats/ordination/_principal_coordinate_analysis.py:143: RuntimeWarning: The result contains negative eigenvalues. Please compare their magnitude with the magnitude of some of the largest positive eigenvalues. If the negative ones are smaller, it's probably safe to ignore them, but if they are large in magnitude, the results won't be useful. See the Notes section for more details. The smallest eigenvalue is -0.0016601301154992852 and the largest is 0.6719550739370668.\n",
      "  warn(\n"
     ]
    },
    {
     "name": "stdout",
     "output_type": "stream",
     "text": [
      "DONE: Calculating beta group significance: permdisp weighted_unifrac_distance_matrix\n",
      "Calculating beta group significance with method permdisp and metric jaccard_distance_matrix\n",
      "{'metadata': <CategoricalMetadataColumn name='group-id' id_count=12>, 'method': 'permdisp', 'pairwise': True, 'permutations': 999, 'distance_matrix': <skbio.stats.distance._base.DistanceMatrix object at 0x7f916a723460>}\n"
     ]
    },
    {
     "name": "stdout",
     "output_type": "stream",
     "text": [
      "DONE: Calculating beta group significance: permdisp jaccard_distance_matrix\n",
      "Calculating beta group significance with method permdisp and metric bray_curtis_distance_matrix\n",
      "{'metadata': <CategoricalMetadataColumn name='group-id' id_count=12>, 'method': 'permdisp', 'pairwise': True, 'permutations': 999, 'distance_matrix': <skbio.stats.distance._base.DistanceMatrix object at 0x7f916b07ff40>}\n"
     ]
    },
    {
     "name": "stdout",
     "output_type": "stream",
     "text": [
      "DONE: Calculating beta group significance: permdisp bray_curtis_distance_matrix\n"
     ]
    },
    {
     "data": {
      "text/plain": [
       "<Figure size 432x288 with 0 Axes>"
      ]
     },
     "metadata": {},
     "output_type": "display_data"
    }
   ],
   "source": [
    "# Expand tests using UNIFRAC metrics\n",
    "methods = ('permanova', 'anosim', 'permdisp')\n",
    "for method in methods:\n",
    "    for metric, beta_diversity in distance_matrix.items():\n",
    "        print(f'Calculating beta group significance with method {method} and metric {metric}')\n",
    "        try:\n",
    "            beta_view = beta_group_significance(distance_matrix=beta_diversity, \n",
    "                                                metadata=metadata_qa.get_column(class_col), \n",
    "                                                pairwise=True, method=method).visualization\n",
    "            view_name = os.path.join(beta_path, f'beta-group-significance-{metric}-{method}.qzv')\n",
    "            beta_view.save(view_name)\n",
    "            print(f\"DONE: Calculating beta group significance: {method} {metric}\")\n",
    "        except Exception as e:\n",
    "            print(f\"ERROR: Calculating beta group significance: {method} {metric}\")"
   ]
  },
  {
   "cell_type": "markdown",
   "id": "c0de85cf",
   "metadata": {
    "papermill": {
     "duration": 0.054084,
     "end_time": "2024-02-01T23:02:53.689071",
     "exception": false,
     "start_time": "2024-02-01T23:02:53.634987",
     "status": "completed"
    },
    "tags": []
   },
   "source": [
    "### Beta group Rarefaction\n",
    "\n",
    "- [diversity beta_rarefaction](https://docs.qiime2.org/2022.8/plugins/available/diversity/beta-rarefaction/): Repeatedly rarefy a feature table to compare beta diversity results within a given rarefaction depth.  For a given beta diversity metric, this visualizer will provide: an Emperor jackknifed PCoA plot, samples clustered by UPGMA or neighbor joining with support calculation, and a heatmap showing the correlation between rarefaction trials of that beta diversity metric."
   ]
  }
 ],
 "metadata": {
  "celltoolbar": "Edit Metadata",
  "kernelspec": {
   "display_name": "Python 3 (ipykernel)",
   "language": "python",
   "name": "python3"
  },
  "language_info": {
   "codemirror_mode": {
    "name": "ipython",
    "version": 3
   },
   "file_extension": ".py",
   "mimetype": "text/x-python",
   "name": "python",
   "nbconvert_exporter": "python",
   "pygments_lexer": "ipython3",
   "version": "3.8.12"
  },
  "papermill": {
   "default_parameters": {},
   "duration": 104.993574,
   "end_time": "2024-02-01T23:02:54.682606",
   "environment_variables": {},
   "exception": null,
   "input_path": "nb-templates/step-diversity-analysis.ipynb",
   "output_path": "/home/lauro/nupeb/rede-micro/redemicro-ana-flavia-nutri/experiments/ana-flavia-NCxHSD-NC-trim/nb-executed-steps/step-diversity-analysis-ana-flavia-NCxHSD-NC-trim.ipynb",
   "parameters": {
    "PAPERMILL_INPUT_PATH": "nb-templates/step-diversity-analysis.ipynb",
    "PAPERMILL_OUTPUT_PATH": "/home/lauro/nupeb/rede-micro/redemicro-ana-flavia-nutri/experiments/ana-flavia-NCxHSD-NC-trim/nb-executed-steps/step-diversity-analysis-ana-flavia-NCxHSD-NC-trim.ipynb",
    "base_dir": "/home/lauro/nupeb/rede-micro/redemicro-ana-flavia-nutri",
    "class_col": "group-id",
    "classifier_file": "/home/lauro/nupeb/rede-micro/models/silva-138-99-nb-classifier.qza",
    "experiment_name": "ana-flavia-NCxHSD-NC-trim",
    "manifest_file": "/home/lauro/nupeb/rede-micro/redemicro-ana-flavia-nutri/data/raw/manifest/manifest-ana-flavia-NCxHSD-NC.csv",
    "metadata_file": "/home/lauro/nupeb/rede-micro/redemicro-ana-flavia-nutri/data/raw/metadata/metadata-ana-flavia-NCxHSD-NC.tsv",
    "overlap": 12,
    "phred": 20,
    "replace_files": false,
    "threads": 6,
    "top_n": 20,
    "trim": {
     "forward_primer": "CCTACGGGRSGCAGCAG",
     "overlap": 8,
     "reverse_primer": "GGACTACHVGGGTWTCTAAT"
    },
    "trunc_f": 0,
    "trunc_r": 0
   },
   "start_time": "2024-02-01T23:01:09.689032",
   "version": "2.3.4"
  }
 },
 "nbformat": 4,
 "nbformat_minor": 5
}