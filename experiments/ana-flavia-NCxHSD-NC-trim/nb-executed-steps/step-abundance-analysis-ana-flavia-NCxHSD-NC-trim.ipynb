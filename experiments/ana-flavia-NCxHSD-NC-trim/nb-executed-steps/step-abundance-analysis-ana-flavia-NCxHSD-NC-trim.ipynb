{
 "cells": [
  {
   "cell_type": "markdown",
   "id": "0e7f2330",
   "metadata": {
    "ExecuteTime": {
     "end_time": "2022-09-22T19:36:33.828188Z",
     "start_time": "2022-09-22T19:36:33.817323Z"
    },
    "papermill": {
     "duration": 0.017287,
     "end_time": "2023-08-23T17:50:14.923552",
     "exception": false,
     "start_time": "2023-08-23T17:50:14.906265",
     "status": "completed"
    },
    "tags": []
   },
   "source": [
    "### STEP : Diversity Analysis\n",
    "\n",
    "\n",
    "\n",
    "#### Example\n",
    "\n",
    "- [“Moving Pictures” tutorial](https://docs.qiime2.org/2022.8/tutorials/moving-pictures-usage/?highlight=ancom)\n",
    "- [Biostats ANCOM](http://scikit-bio.org/docs/0.4.2/generated/generated/skbio.stats.composition.ancom.html)\n",
    "\n",
    "\n",
    "#### Methods\n",
    "- [composition](https://docs.qiime2.org/2022.8/plugins/available/composition/)\n",
    "- [composition add_pseudocount](https://docs.qiime2.org/2022.8/plugins/available/composition/add-pseudocount/): Increment all counts in table by pseudocount.\n",
    "- [composition ancom](https://docs.qiime2.org/2022.8/plugins/available/composition/ancom/): Apply ANCOM to identify features that differ in abundance."
   ]
  },
  {
   "cell_type": "markdown",
   "id": "843debbf",
   "metadata": {
    "papermill": {
     "duration": 0.027049,
     "end_time": "2023-08-23T17:50:14.964589",
     "exception": false,
     "start_time": "2023-08-23T17:50:14.937540",
     "status": "completed"
    },
    "tags": []
   },
   "source": [
    "## Setup and settings"
   ]
  },
  {
   "cell_type": "code",
   "execution_count": 1,
   "id": "965e28e5",
   "metadata": {
    "ExecuteTime": {
     "end_time": "2022-11-03T20:35:26.198671Z",
     "start_time": "2022-11-03T20:35:06.473173Z"
    },
    "execution": {
     "iopub.execute_input": "2023-08-23T17:50:15.001327Z",
     "iopub.status.busy": "2023-08-23T17:50:15.000929Z",
     "iopub.status.idle": "2023-08-23T17:50:21.897340Z",
     "shell.execute_reply": "2023-08-23T17:50:21.896659Z"
    },
    "papermill": {
     "duration": 6.917218,
     "end_time": "2023-08-23T17:50:21.900449",
     "exception": false,
     "start_time": "2023-08-23T17:50:14.983231",
     "status": "completed"
    },
    "tags": []
   },
   "outputs": [],
   "source": [
    "# Importing packages\n",
    "import os\n",
    "import pandas as pd\n",
    "from qiime2 import Artifact\n",
    "from qiime2 import Visualization\n",
    "from qiime2 import Metadata\n",
    "\n",
    "from qiime2.plugins.composition.visualizers import ancom\n",
    "from qiime2.plugins.composition.methods import add_pseudocount\n",
    "\n",
    "%matplotlib inline"
   ]
  },
  {
   "cell_type": "markdown",
   "id": "530ceb60",
   "metadata": {
    "papermill": {
     "duration": 0.014027,
     "end_time": "2023-08-23T17:50:21.930348",
     "exception": false,
     "start_time": "2023-08-23T17:50:21.916321",
     "status": "completed"
    },
    "tags": []
   },
   "source": [
    "### Receiving the parameters\n",
    "\n",
    "The following cell can receive parameters using the [papermill](https://papermill.readthedocs.io/en/latest/) tool."
   ]
  },
  {
   "cell_type": "code",
   "execution_count": 2,
   "id": "18d874ea",
   "metadata": {
    "ExecuteTime": {
     "end_time": "2022-09-29T20:54:14.793270Z",
     "start_time": "2022-09-29T20:54:14.789367Z"
    },
    "execution": {
     "iopub.execute_input": "2023-08-23T17:50:21.981737Z",
     "iopub.status.busy": "2023-08-23T17:50:21.981168Z",
     "iopub.status.idle": "2023-08-23T17:50:21.986759Z",
     "shell.execute_reply": "2023-08-23T17:50:21.985926Z"
    },
    "papermill": {
     "duration": 0.02768,
     "end_time": "2023-08-23T17:50:21.988340",
     "exception": false,
     "start_time": "2023-08-23T17:50:21.960660",
     "status": "completed"
    },
    "tags": [
     "parameters"
    ]
   },
   "outputs": [],
   "source": [
    "metadata_file = '/home/lauro/nupeb/rede-micro/redemicro-miliane-nutri/data/raw/metadata/miliane-metadata-CxAC.tsv'\n",
    "base_dir = os.path.join('/', 'home', 'lauro', 'nupeb', 'rede-micro', 'redemicro-miliane-nutri')\n",
    "experiment_name = 'miliane-CxAC-trim'\n",
    "class_col = 'group-id'\n",
    "replace_files = False"
   ]
  },
  {
   "cell_type": "code",
   "execution_count": 3,
   "id": "4de4675e",
   "metadata": {
    "execution": {
     "iopub.execute_input": "2023-08-23T17:50:22.090889Z",
     "iopub.status.busy": "2023-08-23T17:50:22.090404Z",
     "iopub.status.idle": "2023-08-23T17:50:22.096364Z",
     "shell.execute_reply": "2023-08-23T17:50:22.095562Z"
    },
    "papermill": {
     "duration": 0.016473,
     "end_time": "2023-08-23T17:50:22.097839",
     "exception": false,
     "start_time": "2023-08-23T17:50:22.081366",
     "status": "completed"
    },
    "tags": [
     "injected-parameters"
    ]
   },
   "outputs": [],
   "source": [
    "# Parameters\n",
    "experiment_name = \"ana-flavia-NCxHSD-NC-trim\"\n",
    "base_dir = \"/home/lauro/nupeb/rede-micro/redemicro-ana-flavia-nutri\"\n",
    "manifest_file = \"/home/lauro/nupeb/rede-micro/redemicro-ana-flavia-nutri/data/raw/manifest/manifest-ana-flavia-NCxHSD-NC.csv\"\n",
    "metadata_file = \"/home/lauro/nupeb/rede-micro/redemicro-ana-flavia-nutri/data/raw/metadata/metadata-ana-flavia-NCxHSD-NC.tsv\"\n",
    "class_col = \"group-id\"\n",
    "classifier_file = \"/home/lauro/nupeb/rede-micro/models/silva-138-99-nb-classifier.qza\"\n",
    "top_n = 20\n",
    "replace_files = False\n",
    "phred = 20\n",
    "trunc_f = 0\n",
    "trunc_r = 0\n",
    "overlap = 12\n",
    "threads = 6\n",
    "trim = {\n",
    "    \"overlap\": 8,\n",
    "    \"forward_primer\": \"CCTACGGGRSGCAGCAG\",\n",
    "    \"reverse_primer\": \"GGACTACHVGGGTWTCTAAT\",\n",
    "}\n"
   ]
  },
  {
   "cell_type": "code",
   "execution_count": 4,
   "id": "f38617d9",
   "metadata": {
    "ExecuteTime": {
     "end_time": "2022-09-29T20:54:14.804575Z",
     "start_time": "2022-09-29T20:54:14.794927Z"
    },
    "execution": {
     "iopub.execute_input": "2023-08-23T17:50:22.115444Z",
     "iopub.status.busy": "2023-08-23T17:50:22.115101Z",
     "iopub.status.idle": "2023-08-23T17:50:22.119838Z",
     "shell.execute_reply": "2023-08-23T17:50:22.119046Z"
    },
    "papermill": {
     "duration": 0.015269,
     "end_time": "2023-08-23T17:50:22.121323",
     "exception": false,
     "start_time": "2023-08-23T17:50:22.106054",
     "status": "completed"
    },
    "tags": []
   },
   "outputs": [],
   "source": [
    "experiment_folder = os.path.abspath(os.path.join(base_dir, 'experiments', experiment_name))\n",
    "img_folder = os.path.abspath(os.path.join(experiment_folder, 'imgs'))"
   ]
  },
  {
   "cell_type": "markdown",
   "id": "ea9b90fb",
   "metadata": {
    "papermill": {
     "duration": 0.008375,
     "end_time": "2023-08-23T17:50:22.138086",
     "exception": false,
     "start_time": "2023-08-23T17:50:22.129711",
     "status": "completed"
    },
    "tags": []
   },
   "source": [
    "### Defining names, paths and flags"
   ]
  },
  {
   "cell_type": "code",
   "execution_count": 5,
   "id": "45727eef",
   "metadata": {
    "ExecuteTime": {
     "end_time": "2022-09-29T20:54:14.816686Z",
     "start_time": "2022-09-29T20:54:14.806238Z"
    },
    "execution": {
     "iopub.execute_input": "2023-08-23T17:50:22.156022Z",
     "iopub.status.busy": "2023-08-23T17:50:22.155541Z",
     "iopub.status.idle": "2023-08-23T17:50:22.159906Z",
     "shell.execute_reply": "2023-08-23T17:50:22.159127Z"
    },
    "papermill": {
     "duration": 0.015058,
     "end_time": "2023-08-23T17:50:22.161452",
     "exception": false,
     "start_time": "2023-08-23T17:50:22.146394",
     "status": "completed"
    },
    "tags": []
   },
   "outputs": [],
   "source": [
    "# QIIME2 Artifacts folder\n",
    "qiime_folder = os.path.join(experiment_folder, 'qiime-artifacts')\n",
    "\n",
    "# Input - DADA2 Artifacts\n",
    "dada2_tabs_path = os.path.join(qiime_folder, 'dada2-tabs.qza')"
   ]
  },
  {
   "cell_type": "markdown",
   "id": "0999a1b2",
   "metadata": {
    "papermill": {
     "duration": 0.00863,
     "end_time": "2023-08-23T17:50:22.178808",
     "exception": false,
     "start_time": "2023-08-23T17:50:22.170178",
     "status": "completed"
    },
    "tags": []
   },
   "source": [
    "## Step execution\n",
    "\n",
    "### Load input files\n",
    "\n",
    "This Step import the QIIME2 `FeatureTable[Frequency]` Artifact and the `Metadata` file."
   ]
  },
  {
   "cell_type": "code",
   "execution_count": 6,
   "id": "8f299d1a",
   "metadata": {
    "ExecuteTime": {
     "end_time": "2022-09-29T20:54:15.559837Z",
     "start_time": "2022-09-29T20:54:14.830405Z"
    },
    "execution": {
     "iopub.execute_input": "2023-08-23T17:50:22.197860Z",
     "iopub.status.busy": "2023-08-23T17:50:22.197515Z",
     "iopub.status.idle": "2023-08-23T17:50:23.552429Z",
     "shell.execute_reply": "2023-08-23T17:50:23.551681Z"
    },
    "papermill": {
     "duration": 1.368197,
     "end_time": "2023-08-23T17:50:23.555478",
     "exception": false,
     "start_time": "2023-08-23T17:50:22.187281",
     "status": "completed"
    },
    "tags": []
   },
   "outputs": [],
   "source": [
    "#Load Metadata\n",
    "metadata_qa = Metadata.load(metadata_file)\n",
    "\n",
    "#Load FeatureTable[Frequency]\n",
    "tabs = Artifact.load(dada2_tabs_path)\n",
    "tabs_df = tabs.view(Metadata).to_dataframe().T"
   ]
  },
  {
   "cell_type": "markdown",
   "id": "a9a446c4",
   "metadata": {
    "papermill": {
     "duration": 0.008965,
     "end_time": "2023-08-23T17:50:23.581249",
     "exception": false,
     "start_time": "2023-08-23T17:50:23.572284",
     "status": "completed"
    },
    "tags": []
   },
   "source": [
    "# ANCOM\n",
    "\n",
    "Apply Analysis of Composition of Microbiomes (ANCOM) to identify features\n",
    "that are differentially abundant across groups.\n",
    "\n",
    "- [composition add_pseudocount](https://docs.qiime2.org/2022.8/plugins/available/composition/add-pseudocount/): Increment all counts in table by pseudocount.\n",
    "- [composition ancom](https://docs.qiime2.org/2022.8/plugins/available/composition/ancom/): Apply ANCOM to identify features that differ in abundance."
   ]
  },
  {
   "cell_type": "code",
   "execution_count": 7,
   "id": "cda81bf5",
   "metadata": {
    "execution": {
     "iopub.execute_input": "2023-08-23T17:50:23.599819Z",
     "iopub.status.busy": "2023-08-23T17:50:23.599585Z",
     "iopub.status.idle": "2023-08-23T17:50:23.604176Z",
     "shell.execute_reply": "2023-08-23T17:50:23.603426Z"
    },
    "papermill": {
     "duration": 0.015643,
     "end_time": "2023-08-23T17:50:23.605720",
     "exception": false,
     "start_time": "2023-08-23T17:50:23.590077",
     "status": "completed"
    },
    "tags": []
   },
   "outputs": [],
   "source": [
    "# Select class column\n",
    "column = metadata_qa.get_column(class_col)"
   ]
  },
  {
   "cell_type": "code",
   "execution_count": 8,
   "id": "2f023bcc",
   "metadata": {
    "execution": {
     "iopub.execute_input": "2023-08-23T17:50:23.625038Z",
     "iopub.status.busy": "2023-08-23T17:50:23.624727Z",
     "iopub.status.idle": "2023-08-23T17:50:23.949481Z",
     "shell.execute_reply": "2023-08-23T17:50:23.948780Z"
    },
    "papermill": {
     "duration": 0.337688,
     "end_time": "2023-08-23T17:50:23.952592",
     "exception": false,
     "start_time": "2023-08-23T17:50:23.614904",
     "status": "completed"
    },
    "tags": []
   },
   "outputs": [],
   "source": [
    "# Create the pseudocount table\n",
    "composition_tab = add_pseudocount(table = tabs).composition_table"
   ]
  },
  {
   "cell_type": "code",
   "execution_count": 9,
   "id": "2999c2f6",
   "metadata": {
    "execution": {
     "iopub.execute_input": "2023-08-23T17:50:23.978775Z",
     "iopub.status.busy": "2023-08-23T17:50:23.978455Z",
     "iopub.status.idle": "2023-08-23T17:50:24.204538Z",
     "shell.execute_reply": "2023-08-23T17:50:24.203808Z"
    },
    "papermill": {
     "duration": 0.238403,
     "end_time": "2023-08-23T17:50:24.207002",
     "exception": false,
     "start_time": "2023-08-23T17:50:23.968599",
     "status": "completed"
    },
    "tags": []
   },
   "outputs": [
    {
     "name": "stdout",
     "output_type": "stream",
     "text": [
      "Calculating ANCOM with: sqrt mean_difference\n",
      "ERROR: Calculating ANCOM with: sqrt mean_difference\n",
      "The following IDs are not present in the metadata: 'S210421121677', 'S210421121678', 'S210421121679', 'S210421121680', 'S210421121681', 'S210421121682', 'S210421121683', 'S210421121684', 'S210421121685', 'S210421121686', 'S210421121687', 'S210421121691', 'S210421121692', 'S210421121693', 'S210421121694', 'S210421121695', 'S210421121696', 'S210421121697', 'S210421121703', 'S210421121704', 'S210421121705', 'S210421121706', 'S210421121707', 'S210421121708', 'S210421121709', 'S210421121710', 'S210421121711', 'S210421121712', 'S210421121713', 'S210421121714', 'S210421121715', 'S210421121716', 'S210421121717', 'S210421121718', 'S210421121719', 'S210421121720', 'S210421121721', 'S210421121722', 'S210421121723', 'S210421121724', 'S210421121725', 'S210421121726', 'S210421121727', 'S210421121728', 'S210421121729', 'S210421121730', 'S210421121731', 'S210421121732', 'S210421121733', 'S210421121734', 'S210707163906', 'S210707163907', 'S210707163908', 'S210707163909', 'S210707163910', 'S210707163911', 'S210707163912', 'S210707163913', 'S210707163914', 'S210707163915', 'S210707163916', 'S210707163917'\n",
      "Calculating ANCOM with: sqrt f_statistic\n",
      "ERROR: Calculating ANCOM with: sqrt f_statistic\n",
      "The following IDs are not present in the metadata: 'S210421121677', 'S210421121678', 'S210421121679', 'S210421121680', 'S210421121681', 'S210421121682', 'S210421121683', 'S210421121684', 'S210421121685', 'S210421121686', 'S210421121687', 'S210421121691', 'S210421121692', 'S210421121693', 'S210421121694', 'S210421121695', 'S210421121696', 'S210421121697', 'S210421121703', 'S210421121704', 'S210421121705', 'S210421121706', 'S210421121707', 'S210421121708', 'S210421121709', 'S210421121710', 'S210421121711', 'S210421121712', 'S210421121713', 'S210421121714', 'S210421121715', 'S210421121716', 'S210421121717', 'S210421121718', 'S210421121719', 'S210421121720', 'S210421121721', 'S210421121722', 'S210421121723', 'S210421121724', 'S210421121725', 'S210421121726', 'S210421121727', 'S210421121728', 'S210421121729', 'S210421121730', 'S210421121731', 'S210421121732', 'S210421121733', 'S210421121734', 'S210707163906', 'S210707163907', 'S210707163908', 'S210707163909', 'S210707163910', 'S210707163911', 'S210707163912', 'S210707163913', 'S210707163914', 'S210707163915', 'S210707163916', 'S210707163917'\n",
      "Calculating ANCOM with: log mean_difference\n",
      "ERROR: Calculating ANCOM with: log mean_difference\n",
      "The following IDs are not present in the metadata: 'S210421121677', 'S210421121678', 'S210421121679', 'S210421121680', 'S210421121681', 'S210421121682', 'S210421121683', 'S210421121684', 'S210421121685', 'S210421121686', 'S210421121687', 'S210421121691', 'S210421121692', 'S210421121693', 'S210421121694', 'S210421121695', 'S210421121696', 'S210421121697', 'S210421121703', 'S210421121704', 'S210421121705', 'S210421121706', 'S210421121707', 'S210421121708', 'S210421121709', 'S210421121710', 'S210421121711', 'S210421121712', 'S210421121713', 'S210421121714', 'S210421121715', 'S210421121716', 'S210421121717', 'S210421121718', 'S210421121719', 'S210421121720', 'S210421121721', 'S210421121722', 'S210421121723', 'S210421121724', 'S210421121725', 'S210421121726', 'S210421121727', 'S210421121728', 'S210421121729', 'S210421121730', 'S210421121731', 'S210421121732', 'S210421121733', 'S210421121734', 'S210707163906', 'S210707163907', 'S210707163908', 'S210707163909', 'S210707163910', 'S210707163911', 'S210707163912', 'S210707163913', 'S210707163914', 'S210707163915', 'S210707163916', 'S210707163917'\n",
      "Calculating ANCOM with: log f_statistic\n",
      "ERROR: Calculating ANCOM with: log f_statistic\n",
      "The following IDs are not present in the metadata: 'S210421121677', 'S210421121678', 'S210421121679', 'S210421121680', 'S210421121681', 'S210421121682', 'S210421121683', 'S210421121684', 'S210421121685', 'S210421121686', 'S210421121687', 'S210421121691', 'S210421121692', 'S210421121693', 'S210421121694', 'S210421121695', 'S210421121696', 'S210421121697', 'S210421121703', 'S210421121704', 'S210421121705', 'S210421121706', 'S210421121707', 'S210421121708', 'S210421121709', 'S210421121710', 'S210421121711', 'S210421121712', 'S210421121713', 'S210421121714', 'S210421121715', 'S210421121716', 'S210421121717', 'S210421121718', 'S210421121719', 'S210421121720', 'S210421121721', 'S210421121722', 'S210421121723', 'S210421121724', 'S210421121725', 'S210421121726', 'S210421121727', 'S210421121728', 'S210421121729', 'S210421121730', 'S210421121731', 'S210421121732', 'S210421121733', 'S210421121734', 'S210707163906', 'S210707163907', 'S210707163908', 'S210707163909', 'S210707163910', 'S210707163911', 'S210707163912', 'S210707163913', 'S210707163914', 'S210707163915', 'S210707163916', 'S210707163917'\n",
      "Calculating ANCOM with: clr mean_difference\n",
      "ERROR: Calculating ANCOM with: clr mean_difference\n",
      "The following IDs are not present in the metadata: 'S210421121677', 'S210421121678', 'S210421121679', 'S210421121680', 'S210421121681', 'S210421121682', 'S210421121683', 'S210421121684', 'S210421121685', 'S210421121686', 'S210421121687', 'S210421121691', 'S210421121692', 'S210421121693', 'S210421121694', 'S210421121695', 'S210421121696', 'S210421121697', 'S210421121703', 'S210421121704', 'S210421121705', 'S210421121706', 'S210421121707', 'S210421121708', 'S210421121709', 'S210421121710', 'S210421121711', 'S210421121712', 'S210421121713', 'S210421121714', 'S210421121715', 'S210421121716', 'S210421121717', 'S210421121718', 'S210421121719', 'S210421121720', 'S210421121721', 'S210421121722', 'S210421121723', 'S210421121724', 'S210421121725', 'S210421121726', 'S210421121727', 'S210421121728', 'S210421121729', 'S210421121730', 'S210421121731', 'S210421121732', 'S210421121733', 'S210421121734', 'S210707163906', 'S210707163907', 'S210707163908', 'S210707163909', 'S210707163910', 'S210707163911', 'S210707163912', 'S210707163913', 'S210707163914', 'S210707163915', 'S210707163916', 'S210707163917'\n",
      "Calculating ANCOM with: clr f_statistic\n"
     ]
    },
    {
     "name": "stdout",
     "output_type": "stream",
     "text": [
      "ERROR: Calculating ANCOM with: clr f_statistic\n",
      "The following IDs are not present in the metadata: 'S210421121677', 'S210421121678', 'S210421121679', 'S210421121680', 'S210421121681', 'S210421121682', 'S210421121683', 'S210421121684', 'S210421121685', 'S210421121686', 'S210421121687', 'S210421121691', 'S210421121692', 'S210421121693', 'S210421121694', 'S210421121695', 'S210421121696', 'S210421121697', 'S210421121703', 'S210421121704', 'S210421121705', 'S210421121706', 'S210421121707', 'S210421121708', 'S210421121709', 'S210421121710', 'S210421121711', 'S210421121712', 'S210421121713', 'S210421121714', 'S210421121715', 'S210421121716', 'S210421121717', 'S210421121718', 'S210421121719', 'S210421121720', 'S210421121721', 'S210421121722', 'S210421121723', 'S210421121724', 'S210421121725', 'S210421121726', 'S210421121727', 'S210421121728', 'S210421121729', 'S210421121730', 'S210421121731', 'S210421121732', 'S210421121733', 'S210421121734', 'S210707163906', 'S210707163907', 'S210707163908', 'S210707163909', 'S210707163910', 'S210707163911', 'S210707163912', 'S210707163913', 'S210707163914', 'S210707163915', 'S210707163916', 'S210707163917'\n"
     ]
    }
   ],
   "source": [
    "# Create visualizations for each parameter combination for the ANCOM  method.\n",
    "transform_functions = ('sqrt', 'log', 'clr')\n",
    "difference_functions = ('mean_difference', 'f_statistic')\n",
    "for t in transform_functions:\n",
    "    for d in difference_functions:\n",
    "        print(f\"Calculating ANCOM with: {t} {d}\")\n",
    "        try:\n",
    "            ancom_viz = ancom(\n",
    "                table = composition_tab, \n",
    "                metadata = column, \n",
    "                transform_function = t, \n",
    "                difference_function = d\n",
    "            ).visualization\n",
    "            view_name = os.path.join(qiime_folder, f'ancom-{t}-{d}.qzv')\n",
    "            ancom_viz.save(view_name)\n",
    "        except Exception as e:\n",
    "            print(f\"ERROR: Calculating ANCOM with: {t} {d}\")\n",
    "            print(e)"
   ]
  }
 ],
 "metadata": {
  "celltoolbar": "Edit Metadata",
  "kernelspec": {
   "display_name": "Python 3 (ipykernel)",
   "language": "python",
   "name": "python3"
  },
  "language_info": {
   "codemirror_mode": {
    "name": "ipython",
    "version": 3
   },
   "file_extension": ".py",
   "mimetype": "text/x-python",
   "name": "python",
   "nbconvert_exporter": "python",
   "pygments_lexer": "ipython3",
   "version": "3.8.12"
  },
  "papermill": {
   "default_parameters": {},
   "duration": 11.694299,
   "end_time": "2023-08-23T17:50:25.143652",
   "environment_variables": {},
   "exception": null,
   "input_path": "nb-templates/step-abundance-analysis.ipynb",
   "output_path": "/home/lauro/nupeb/rede-micro/redemicro-ana-flavia-nutri/experiments/ana-flavia-NCxHSD-NC-trim/nb-executed-steps/step-abundance-analysis-ana-flavia-NCxHSD-NC-trim.ipynb",
   "parameters": {
    "base_dir": "/home/lauro/nupeb/rede-micro/redemicro-ana-flavia-nutri",
    "class_col": "group-id",
    "classifier_file": "/home/lauro/nupeb/rede-micro/models/silva-138-99-nb-classifier.qza",
    "experiment_name": "ana-flavia-NCxHSD-NC-trim",
    "manifest_file": "/home/lauro/nupeb/rede-micro/redemicro-ana-flavia-nutri/data/raw/manifest/manifest-ana-flavia-NCxHSD-NC.csv",
    "metadata_file": "/home/lauro/nupeb/rede-micro/redemicro-ana-flavia-nutri/data/raw/metadata/metadata-ana-flavia-NCxHSD-NC.tsv",
    "overlap": 12,
    "phred": 20,
    "replace_files": false,
    "threads": 6,
    "top_n": 20,
    "trim": {
     "forward_primer": "CCTACGGGRSGCAGCAG",
     "overlap": 8,
     "reverse_primer": "GGACTACHVGGGTWTCTAAT"
    },
    "trunc_f": 0,
    "trunc_r": 0
   },
   "start_time": "2023-08-23T17:50:13.449353",
   "version": "2.3.4"
  }
 },
 "nbformat": 4,
 "nbformat_minor": 5
}