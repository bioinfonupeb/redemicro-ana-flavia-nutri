{
 "cells": [
  {
   "cell_type": "markdown",
   "id": "44135a7b",
   "metadata": {
    "papermill": {
     "duration": 0.022717,
     "end_time": "2023-06-07T11:19:13.793839",
     "exception": false,
     "start_time": "2023-06-07T11:19:13.771122",
     "status": "completed"
    },
    "tags": []
   },
   "source": [
    "# Quality Control and ASV table construction with DADA2"
   ]
  },
  {
   "cell_type": "markdown",
   "id": "a681af80",
   "metadata": {
    "papermill": {
     "duration": 0.015912,
     "end_time": "2023-06-07T11:19:13.905102",
     "exception": false,
     "start_time": "2023-06-07T11:19:13.889190",
     "status": "completed"
    },
    "tags": []
   },
   "source": [
    "## Setup and settings"
   ]
  },
  {
   "cell_type": "code",
   "execution_count": 1,
   "id": "1fcd941c",
   "metadata": {
    "ExecuteTime": {
     "end_time": "2022-06-29T18:49:49.974644Z",
     "start_time": "2022-06-29T18:49:30.876897Z"
    },
    "execution": {
     "iopub.execute_input": "2023-06-07T11:19:13.975633Z",
     "iopub.status.busy": "2023-06-07T11:19:13.975127Z",
     "iopub.status.idle": "2023-06-07T11:19:20.538113Z",
     "shell.execute_reply": "2023-06-07T11:19:20.537474Z"
    },
    "papermill": {
     "duration": 6.603328,
     "end_time": "2023-06-07T11:19:20.541327",
     "exception": false,
     "start_time": "2023-06-07T11:19:13.937999",
     "status": "completed"
    },
    "tags": []
   },
   "outputs": [],
   "source": [
    "# Importing packages\n",
    "import os\n",
    "import yaml\n",
    "import logging\n",
    "import pandas as pd\n",
    "from qiime2 import Artifact\n",
    "from qiime2 import Visualization\n",
    "from qiime2 import Metadata\n",
    "import qiime2.plugins.dada2.actions as dada2_actions\n",
    "import qiime2.plugins.metadata.actions as metadata_actions\n",
    "from qiime2.plugins.feature_table.visualizers import tabulate_seqs\n",
    "from qiime2.plugins.feature_table.visualizers import summarize\n",
    "from qiime2.plugins.feature_table.visualizers import core_features\n",
    "from qiime2.plugins.feature_table.methods import filter_samples\n",
    "from qiime2.plugins.feature_table.methods import filter_seqs\n",
    "\n",
    "import matplotlib.pyplot as plt\n",
    "\n",
    "%matplotlib inline"
   ]
  },
  {
   "cell_type": "markdown",
   "id": "53db5496",
   "metadata": {
    "papermill": {
     "duration": 0.125685,
     "end_time": "2023-06-07T11:19:20.687964",
     "exception": false,
     "start_time": "2023-06-07T11:19:20.562279",
     "status": "completed"
    },
    "tags": []
   },
   "source": [
    "### Receiving the parameters\n",
    "\n",
    "The following cell can receive parameters using the [papermill](https://papermill.readthedocs.io/en/latest/) tool."
   ]
  },
  {
   "cell_type": "code",
   "execution_count": 2,
   "id": "d70a9db6",
   "metadata": {
    "ExecuteTime": {
     "end_time": "2022-06-29T18:54:01.035034Z",
     "start_time": "2022-06-29T18:54:01.028724Z"
    },
    "execution": {
     "iopub.execute_input": "2023-06-07T11:19:20.735453Z",
     "iopub.status.busy": "2023-06-07T11:19:20.735128Z",
     "iopub.status.idle": "2023-06-07T11:19:20.742651Z",
     "shell.execute_reply": "2023-06-07T11:19:20.741772Z"
    },
    "papermill": {
     "duration": 0.02553,
     "end_time": "2023-06-07T11:19:20.744633",
     "exception": false,
     "start_time": "2023-06-07T11:19:20.719103",
     "status": "completed"
    },
    "tags": [
     "parameters"
    ]
   },
   "outputs": [],
   "source": [
    "experiment_name = 'ana-flavia-superlactacao'\n",
    "base_dir = os.path.join('/', 'home', 'lauro', 'nupeb', 'redemicro')\n",
    "metadata_file = os.path.join(base_dir, 'data', 'raw', 'metadata', 'sample-metadata.tsv')\n",
    "manifest_file = os.path.join(base_dir, 'data', 'raw', 'manifest', 'sample-manifest.csv')\n",
    "replace_files = False\n",
    "phred = 20\n",
    "trunc_f = 0\n",
    "trunc_r = 0\n",
    "overlap = 12\n",
    "threads = 6\n",
    "trim = None"
   ]
  },
  {
   "cell_type": "code",
   "execution_count": 3,
   "id": "7d10eb6c",
   "metadata": {
    "execution": {
     "iopub.execute_input": "2023-06-07T11:19:20.777800Z",
     "iopub.status.busy": "2023-06-07T11:19:20.777471Z",
     "iopub.status.idle": "2023-06-07T11:19:20.784875Z",
     "shell.execute_reply": "2023-06-07T11:19:20.783976Z"
    },
    "papermill": {
     "duration": 0.024733,
     "end_time": "2023-06-07T11:19:20.786576",
     "exception": false,
     "start_time": "2023-06-07T11:19:20.761843",
     "status": "completed"
    },
    "tags": [
     "injected-parameters"
    ]
   },
   "outputs": [],
   "source": [
    "# Parameters\n",
    "experiment_name = \"ana-flavia-NCxHSD-NC-trim\"\n",
    "base_dir = \"/home/lauro/nupeb/rede-micro/redemicro-ana-flavia-nutri\"\n",
    "manifest_file = \"/home/lauro/nupeb/rede-micro/redemicro-ana-flavia-nutri/data/raw/manifest/manifest-ana-flavia-NCxHSD-NC.csv\"\n",
    "metadata_file = \"/home/lauro/nupeb/rede-micro/redemicro-ana-flavia-nutri/data/raw/metadata/metadata-ana-flavia-NCxHSD-NC.tsv\"\n",
    "class_col = \"group-id\"\n",
    "classifier_file = \"/home/lauro/nupeb/rede-micro/models/silva-138-99-nb-classifier.qza\"\n",
    "top_n = 20\n",
    "replace_files = False\n",
    "phred = 20\n",
    "trunc_f = 0\n",
    "trunc_r = 0\n",
    "overlap = 12\n",
    "threads = 6\n",
    "trim = {\n",
    "    \"overlap\": 8,\n",
    "    \"forward_primer\": \"CCTACGGGRSGCAGCAG\",\n",
    "    \"reverse_primer\": \"GGACTACHVGGGTWTCTAAT\",\n",
    "}\n"
   ]
  },
  {
   "cell_type": "code",
   "execution_count": 4,
   "id": "b4b3b677",
   "metadata": {
    "execution": {
     "iopub.execute_input": "2023-06-07T11:19:20.818199Z",
     "iopub.status.busy": "2023-06-07T11:19:20.817845Z",
     "iopub.status.idle": "2023-06-07T11:19:20.827128Z",
     "shell.execute_reply": "2023-06-07T11:19:20.826216Z"
    },
    "papermill": {
     "duration": 0.027325,
     "end_time": "2023-06-07T11:19:20.829271",
     "exception": false,
     "start_time": "2023-06-07T11:19:20.801946",
     "status": "completed"
    },
    "tags": []
   },
   "outputs": [],
   "source": [
    "# Setting hardcoded parameters for development and debbuging\n",
    "production = True\n",
    "if not production:\n",
    "    params_path = os.path.join('..', 'params', 'ana-flavia-superlactacao.yaml')\n",
    "    with open(params_path, 'r') as stream:\n",
    "        params = yaml.safe_load(stream)\n",
    "        experiment_name = params['experiment_name']\n",
    "        base_dir = params['base_dir']\n",
    "        replace_files = params['replace_files']\n",
    "        experiment_folder = os.path.abspath(os.path.join(os.getcwd(), '..', 'experiments', 'thayane-feces-01'))\n",
    "        img_folder = os.path.abspath(os.path.join(experiment_folder, 'imgs'))\n",
    "        replace_files = False\n",
    "        phred = 20\n",
    "        trunc_f = 0\n",
    "        trunc_r = 0\n",
    "        overlap = 12\n",
    "        threads = 6"
   ]
  },
  {
   "cell_type": "code",
   "execution_count": 5,
   "id": "5e3e5ce9",
   "metadata": {
    "ExecuteTime": {
     "end_time": "2022-06-29T18:51:02.089300Z",
     "start_time": "2022-06-29T18:51:02.084922Z"
    },
    "execution": {
     "iopub.execute_input": "2023-06-07T11:19:20.863988Z",
     "iopub.status.busy": "2023-06-07T11:19:20.863790Z",
     "iopub.status.idle": "2023-06-07T11:19:20.867755Z",
     "shell.execute_reply": "2023-06-07T11:19:20.866923Z"
    },
    "papermill": {
     "duration": 0.022313,
     "end_time": "2023-06-07T11:19:20.869562",
     "exception": false,
     "start_time": "2023-06-07T11:19:20.847249",
     "status": "completed"
    },
    "tags": []
   },
   "outputs": [],
   "source": [
    "experiment_folder = os.path.abspath(os.path.join(base_dir, 'experiments', experiment_name))\n",
    "img_folder = os.path.abspath(os.path.join(experiment_folder, 'imgs'))"
   ]
  },
  {
   "cell_type": "markdown",
   "id": "1f10e195",
   "metadata": {
    "papermill": {
     "duration": 0.014806,
     "end_time": "2023-06-07T11:19:20.899201",
     "exception": false,
     "start_time": "2023-06-07T11:19:20.884395",
     "status": "completed"
    },
    "tags": []
   },
   "source": [
    "### Defining names and paths"
   ]
  },
  {
   "cell_type": "code",
   "execution_count": 6,
   "id": "2b4a93b6",
   "metadata": {
    "ExecuteTime": {
     "end_time": "2022-05-30T19:57:39.064490Z",
     "start_time": "2022-05-30T19:57:39.007809Z"
    },
    "execution": {
     "iopub.execute_input": "2023-06-07T11:19:20.939978Z",
     "iopub.status.busy": "2023-06-07T11:19:20.939718Z",
     "iopub.status.idle": "2023-06-07T11:19:20.946775Z",
     "shell.execute_reply": "2023-06-07T11:19:20.946008Z"
    },
    "papermill": {
     "duration": 0.031418,
     "end_time": "2023-06-07T11:19:20.948849",
     "exception": false,
     "start_time": "2023-06-07T11:19:20.917431",
     "status": "completed"
    },
    "tags": []
   },
   "outputs": [],
   "source": [
    "qiime_folder = os.path.join(experiment_folder, 'qiime-artifacts')\n",
    "\n",
    "if trim:\n",
    "    demux_file = os.path.join(qiime_folder, 'demux-paired-trim.qza')\n",
    "else:\n",
    "    demux_file = os.path.join(qiime_folder, 'demux-paired.qza')\n",
    "\n",
    "dada2_tabs = os.path.join(qiime_folder, 'dada2-tabs.qza')\n",
    "dada2_reps = os.path.join(qiime_folder, 'dada2-reps.qza')\n",
    "dada2_stat = os.path.join(qiime_folder, 'dada2-stat.qza')\n",
    "\n",
    "\n",
    "dada2_tabs_view = dada2_tabs[:-1] + 'v'\n",
    "dada2_reps_view = dada2_reps[:-1] + 'v'\n",
    "dada2_stat_view = dada2_stat[:-1] + 'v'\n",
    "dada2_core_view = os.path.join(qiime_folder, 'dada2-core.qzv')"
   ]
  },
  {
   "cell_type": "markdown",
   "id": "792e29c4",
   "metadata": {
    "papermill": {
     "duration": 0.015089,
     "end_time": "2023-06-07T11:19:20.982230",
     "exception": false,
     "start_time": "2023-06-07T11:19:20.967141",
     "status": "completed"
    },
    "tags": []
   },
   "source": [
    "## Step execution\n",
    "\n",
    "### Load input files\n",
    "\n",
    "This Step import the QIIME2 `SampleData[PairedEndSequencesWithQuality]` Artifact with all demultiplexed sequences and the `Metadata` file."
   ]
  },
  {
   "cell_type": "code",
   "execution_count": 7,
   "id": "c6bd3612",
   "metadata": {
    "ExecuteTime": {
     "end_time": "2022-05-30T19:57:39.077380Z",
     "start_time": "2022-05-30T19:57:39.066746Z"
    },
    "execution": {
     "iopub.execute_input": "2023-06-07T11:19:21.013253Z",
     "iopub.status.busy": "2023-06-07T11:19:21.012996Z",
     "iopub.status.idle": "2023-06-07T11:19:21.018362Z",
     "shell.execute_reply": "2023-06-07T11:19:21.017473Z"
    },
    "papermill": {
     "duration": 0.022834,
     "end_time": "2023-06-07T11:19:21.020049",
     "exception": false,
     "start_time": "2023-06-07T11:19:20.997215",
     "status": "completed"
    },
    "tags": []
   },
   "outputs": [],
   "source": [
    "need_dada2 = not (os.path.isfile(dada2_tabs) and os.path.isfile(dada2_reps) and os.path.isfile(dada2_stat)) or replace_files\n",
    "need_view = not (os.path.isfile(dada2_tabs_view) and os.path.isfile(dada2_reps_view) and os.path.isfile(dada2_stat_view)) or replace_files"
   ]
  },
  {
   "cell_type": "code",
   "execution_count": 8,
   "id": "2f261c1d",
   "metadata": {
    "ExecuteTime": {
     "end_time": "2022-05-30T19:57:39.089632Z",
     "start_time": "2022-05-30T19:57:39.079347Z"
    },
    "execution": {
     "iopub.execute_input": "2023-06-07T11:19:21.051969Z",
     "iopub.status.busy": "2023-06-07T11:19:21.051641Z",
     "iopub.status.idle": "2023-06-07T11:19:22.006209Z",
     "shell.execute_reply": "2023-06-07T11:19:22.005544Z"
    },
    "papermill": {
     "duration": 0.973277,
     "end_time": "2023-06-07T11:19:22.009332",
     "exception": false,
     "start_time": "2023-06-07T11:19:21.036055",
     "status": "completed"
    },
    "tags": []
   },
   "outputs": [],
   "source": [
    "if need_dada2:\n",
    "    demux = Artifact.load(demux_file)"
   ]
  },
  {
   "cell_type": "code",
   "execution_count": 9,
   "id": "a9fe6f00",
   "metadata": {
    "ExecuteTime": {
     "end_time": "2022-05-30T19:57:39.145879Z",
     "start_time": "2022-05-30T19:57:39.091983Z"
    },
    "execution": {
     "iopub.execute_input": "2023-06-07T11:19:22.044800Z",
     "iopub.status.busy": "2023-06-07T11:19:22.044564Z",
     "iopub.status.idle": "2023-06-07T11:19:22.063688Z",
     "shell.execute_reply": "2023-06-07T11:19:22.062896Z"
    },
    "papermill": {
     "duration": 0.037258,
     "end_time": "2023-06-07T11:19:22.065660",
     "exception": false,
     "start_time": "2023-06-07T11:19:22.028402",
     "status": "completed"
    },
    "tags": []
   },
   "outputs": [],
   "source": [
    "metadata = Metadata.load(metadata_file)"
   ]
  },
  {
   "cell_type": "code",
   "execution_count": 10,
   "id": "f6b400dd",
   "metadata": {
    "execution": {
     "iopub.execute_input": "2023-06-07T11:19:22.102382Z",
     "iopub.status.busy": "2023-06-07T11:19:22.102213Z",
     "iopub.status.idle": "2023-06-07T11:19:22.109914Z",
     "shell.execute_reply": "2023-06-07T11:19:22.108919Z"
    },
    "papermill": {
     "duration": 0.025406,
     "end_time": "2023-06-07T11:19:22.111560",
     "exception": false,
     "start_time": "2023-06-07T11:19:22.086154",
     "status": "completed"
    },
    "tags": []
   },
   "outputs": [],
   "source": [
    "# Determine if is SingleEnd or PairedEnd\n",
    "manifest_df = pd.read_csv(manifest_file)\n",
    "n_directions = len(manifest_df['direction'].unique())"
   ]
  },
  {
   "cell_type": "markdown",
   "id": "e9de5af9",
   "metadata": {
    "papermill": {
     "duration": 0.015394,
     "end_time": "2023-06-07T11:19:22.144548",
     "exception": false,
     "start_time": "2023-06-07T11:19:22.129154",
     "status": "completed"
    },
    "tags": []
   },
   "source": [
    "### Execute DADA2 plugin and create Artifacts\n",
    "\n",
    "The DADA2 plugin perform tha quality control and create the ASV table. It will be produced three Artifacts:\n",
    "\n",
    "- tabs (`FeatureTable[Frequency]`) : \n",
    "    The resulting feature table.\n",
    "- reps (`FeatureData[Sequence]`) :\n",
    "    The resulting feature sequences. Each feature in the feature table will\n",
    "    be represented by exactly one sequence, and these sequences will be the\n",
    "    joined paired-end sequences.\n",
    "- denoising_stats (`SampleData[DADA2Stats]`) : the resulting stats. Shows the number and the proportion of filtered reads in each phase of the plugin execution."
   ]
  },
  {
   "cell_type": "code",
   "execution_count": 11,
   "id": "d17c20a6",
   "metadata": {
    "ExecuteTime": {
     "end_time": "2022-05-30T19:57:39.171629Z",
     "start_time": "2022-05-30T19:57:39.147370Z"
    },
    "execution": {
     "iopub.execute_input": "2023-06-07T11:19:22.176745Z",
     "iopub.status.busy": "2023-06-07T11:19:22.176432Z",
     "iopub.status.idle": "2023-06-07T11:59:10.656152Z",
     "shell.execute_reply": "2023-06-07T11:59:10.655535Z"
    },
    "papermill": {
     "duration": 2388.499076,
     "end_time": "2023-06-07T11:59:10.658986",
     "exception": false,
     "start_time": "2023-06-07T11:19:22.159910",
     "status": "completed"
    },
    "scrolled": true,
    "tags": []
   },
   "outputs": [
    {
     "name": "stdout",
     "output_type": "stream",
     "text": [
      "Running external command line application(s). This may print messages to stdout and/or stderr.\n",
      "The command(s) being run are below. These commands cannot be manually re-run as they will depend on temporary files that no longer exist.\n",
      "\n",
      "Command: run_dada_paired.R /tmp/tmpgsou7rbh/forward /tmp/tmpgsou7rbh/reverse /tmp/tmpgsou7rbh/output.tsv.biom /tmp/tmpgsou7rbh/track.tsv /tmp/tmpgsou7rbh/filt_f /tmp/tmpgsou7rbh/filt_r 0 0 0 0 2.0 2.0 20 12 independent consensus 1.0 6 1000000\n",
      "\n"
     ]
    },
    {
     "name": "stdout",
     "output_type": "stream",
     "text": [
      "R version 4.1.2 (2021-11-01) \n"
     ]
    },
    {
     "name": "stderr",
     "output_type": "stream",
     "text": [
      "Loading required package: Rcpp\n"
     ]
    },
    {
     "name": "stdout",
     "output_type": "stream",
     "text": [
      "DADA2: 1.22.0 / Rcpp: 1.0.8.2 / RcppParallel: 5.1.5 \n",
      "1) Filtering "
     ]
    },
    {
     "name": "stdout",
     "output_type": "stream",
     "text": [
      "............\n",
      "2) Learning Error Rates\n"
     ]
    },
    {
     "name": "stdout",
     "output_type": "stream",
     "text": [
      "365445471 total bases in 1554035 reads from 4 samples will be used for learning the error rates.\n"
     ]
    },
    {
     "name": "stdout",
     "output_type": "stream",
     "text": [
      "239863949 total bases in 1554035 reads from 4 samples will be used for learning the error rates.\n"
     ]
    },
    {
     "name": "stdout",
     "output_type": "stream",
     "text": [
      "3) Denoise samples "
     ]
    },
    {
     "name": "stdout",
     "output_type": "stream",
     "text": [
      "."
     ]
    },
    {
     "name": "stdout",
     "output_type": "stream",
     "text": [
      "."
     ]
    },
    {
     "name": "stdout",
     "output_type": "stream",
     "text": [
      "."
     ]
    },
    {
     "name": "stdout",
     "output_type": "stream",
     "text": [
      "."
     ]
    },
    {
     "name": "stdout",
     "output_type": "stream",
     "text": [
      "."
     ]
    },
    {
     "name": "stdout",
     "output_type": "stream",
     "text": [
      "."
     ]
    },
    {
     "name": "stdout",
     "output_type": "stream",
     "text": [
      "."
     ]
    },
    {
     "name": "stdout",
     "output_type": "stream",
     "text": [
      "."
     ]
    },
    {
     "name": "stdout",
     "output_type": "stream",
     "text": [
      "."
     ]
    },
    {
     "name": "stdout",
     "output_type": "stream",
     "text": [
      "."
     ]
    },
    {
     "name": "stdout",
     "output_type": "stream",
     "text": [
      "."
     ]
    },
    {
     "name": "stdout",
     "output_type": "stream",
     "text": [
      ".\n"
     ]
    },
    {
     "name": "stdout",
     "output_type": "stream",
     "text": [
      "."
     ]
    },
    {
     "name": "stderr",
     "output_type": "stream",
     "text": [
      "Duplicate sequences in merged output.\n"
     ]
    },
    {
     "name": "stdout",
     "output_type": "stream",
     "text": [
      "."
     ]
    },
    {
     "name": "stderr",
     "output_type": "stream",
     "text": [
      "Duplicate sequences in merged output.\n"
     ]
    },
    {
     "name": "stdout",
     "output_type": "stream",
     "text": [
      "."
     ]
    },
    {
     "name": "stderr",
     "output_type": "stream",
     "text": [
      "Duplicate sequences in merged output.\n"
     ]
    },
    {
     "name": "stdout",
     "output_type": "stream",
     "text": [
      "."
     ]
    },
    {
     "name": "stderr",
     "output_type": "stream",
     "text": [
      "Duplicate sequences in merged output.\n"
     ]
    },
    {
     "name": "stdout",
     "output_type": "stream",
     "text": [
      "."
     ]
    },
    {
     "name": "stdout",
     "output_type": "stream",
     "text": [
      "."
     ]
    },
    {
     "name": "stderr",
     "output_type": "stream",
     "text": [
      "Duplicate sequences in merged output.\n"
     ]
    },
    {
     "name": "stdout",
     "output_type": "stream",
     "text": [
      "."
     ]
    },
    {
     "name": "stdout",
     "output_type": "stream",
     "text": [
      "."
     ]
    },
    {
     "name": "stderr",
     "output_type": "stream",
     "text": [
      "Duplicate sequences in merged output.\n"
     ]
    },
    {
     "name": "stdout",
     "output_type": "stream",
     "text": [
      "."
     ]
    },
    {
     "name": "stdout",
     "output_type": "stream",
     "text": [
      "."
     ]
    },
    {
     "name": "stdout",
     "output_type": "stream",
     "text": [
      "."
     ]
    },
    {
     "name": "stdout",
     "output_type": "stream",
     "text": [
      ".\n",
      "4) Remove chimeras (method = consensus)\n"
     ]
    },
    {
     "name": "stderr",
     "output_type": "stream",
     "text": [
      "Duplicate sequences detected and merged.\n",
      "Duplicate sequences detected and merged.\n",
      "Duplicate sequences detected and merged.\n",
      "Duplicate sequences detected and merged.\n",
      "Duplicate sequences detected and merged.\n",
      "Duplicate sequences detected and merged.\n"
     ]
    },
    {
     "name": "stdout",
     "output_type": "stream",
     "text": [
      "6) Write output\n"
     ]
    }
   ],
   "source": [
    "# If some of the DADA2 outputs artifacts do not exist or if the old files will be replaced\n",
    "if need_dada2:\n",
    "    \n",
    "    # Excute the DADA2 plugin\n",
    "    if n_directions == 1: # SingleEnd\n",
    "        tabs, reps, stat = dada2_actions.denoise_single(\n",
    "            demultiplexed_seqs=demux,\n",
    "            trunc_q = phred,\n",
    "            n_threads = threads,\n",
    "            trunc_len = trunc_f,\n",
    "        )\n",
    "    elif n_directions == 2: # PairedEnd\n",
    "        tabs, reps, stat = dada2_actions.denoise_paired(\n",
    "            demultiplexed_seqs=demux,\n",
    "            trunc_q = phred,\n",
    "            min_overlap = overlap,\n",
    "            n_threads = threads,\n",
    "            trunc_len_f = trunc_f,\n",
    "            trunc_len_r = trunc_r,\n",
    "        )\n",
    "    \n",
    "    # Save the artifacts objects\n",
    "    tabs.save(dada2_tabs)\n",
    "    reps.save(dada2_reps)\n",
    "    stat.save(dada2_stat)\n",
    "\n",
    "else:\n",
    "    tabs = Artifact.load(dada2_tabs)\n",
    "    reps = Artifact.load(dada2_reps)\n",
    "    stat = Artifact.load(dada2_stat)"
   ]
  },
  {
   "cell_type": "markdown",
   "id": "568f54da",
   "metadata": {
    "papermill": {
     "duration": 0.021696,
     "end_time": "2023-06-07T11:59:10.710356",
     "exception": false,
     "start_time": "2023-06-07T11:59:10.688660",
     "status": "completed"
    },
    "tags": []
   },
   "source": [
    "### Filter samples"
   ]
  },
  {
   "cell_type": "code",
   "execution_count": 12,
   "id": "fe8af6b8",
   "metadata": {
    "execution": {
     "iopub.execute_input": "2023-06-07T11:59:10.754683Z",
     "iopub.status.busy": "2023-06-07T11:59:10.754469Z",
     "iopub.status.idle": "2023-06-07T11:59:11.162951Z",
     "shell.execute_reply": "2023-06-07T11:59:11.162347Z"
    },
    "papermill": {
     "duration": 0.434115,
     "end_time": "2023-06-07T11:59:11.165961",
     "exception": false,
     "start_time": "2023-06-07T11:59:10.731846",
     "status": "completed"
    },
    "tags": []
   },
   "outputs": [],
   "source": [
    "# Filter FeatureTable[Frequency | RelativeFrequency | PresenceAbsence | Composition] based on Metadata sample ID values\n",
    "tabs = filter_samples(\n",
    "    table=tabs,\n",
    "    metadata=metadata,\n",
    ").filtered_table\n",
    "# Filter SampleData[SequencesWithQuality | PairedEndSequencesWithQuality | JoinedSequencesWithQuality] based on Metadata sample ID values; returns FeatureData[Sequence | AlignedSequence]\n",
    "reps = filter_seqs(\n",
    "    data=reps,\n",
    "    table=tabs,\n",
    ").filtered_data"
   ]
  },
  {
   "cell_type": "markdown",
   "id": "c9a4ac70",
   "metadata": {
    "papermill": {
     "duration": 0.022315,
     "end_time": "2023-06-07T11:59:11.219443",
     "exception": false,
     "start_time": "2023-06-07T11:59:11.197128",
     "status": "completed"
    },
    "tags": []
   },
   "source": [
    "### Define Visualizations Artifacts"
   ]
  },
  {
   "cell_type": "code",
   "execution_count": 13,
   "id": "8ee00b20",
   "metadata": {
    "ExecuteTime": {
     "end_time": "2022-05-30T19:57:39.249051Z",
     "start_time": "2022-05-30T19:57:39.173053Z"
    },
    "execution": {
     "iopub.execute_input": "2023-06-07T11:59:11.263877Z",
     "iopub.status.busy": "2023-06-07T11:59:11.263665Z",
     "iopub.status.idle": "2023-06-07T11:59:17.824990Z",
     "shell.execute_reply": "2023-06-07T11:59:17.824095Z"
    },
    "papermill": {
     "duration": 6.585641,
     "end_time": "2023-06-07T11:59:17.826770",
     "exception": false,
     "start_time": "2023-06-07T11:59:11.241129",
     "status": "completed"
    },
    "tags": []
   },
   "outputs": [
    {
     "data": {
      "image/png": "[encoded data removed]",
      "text/plain": [
       "<Figure size 432x288 with 1 Axes>"
      ]
     },
     "metadata": {
      "needs_background": "light"
     },
     "output_type": "display_data"
    }
   ],
   "source": [
    "# If some of the DADA2 Visualization artifacts do not exist or if the old files will be replaced\n",
    "if need_view:\n",
    "    \n",
    "    tabs_view, = metadata_actions.tabulate(input=tabs.view(Metadata))\n",
    "    reps_view, = metadata_actions.tabulate(input=reps.view(Metadata))\n",
    "    stat_view, = metadata_actions.tabulate(input=stat.view(Metadata))\n",
    "    \n",
    "    tabs_view = summarize(table=tabs, sample_metadata=metadata).visualization\n",
    "    reps_view = tabulate_seqs(data=reps).visualization\n",
    "    core_view = core_features(table=tabs, min_fraction=.1, steps=10).visualization\n",
    "    \n",
    "    \n",
    "    # Save the artifacts objects\n",
    "    tabs_view.save(dada2_tabs_view)\n",
    "    reps_view.save(dada2_reps_view)\n",
    "    stat_view.save(dada2_stat_view)\n",
    "    core_view.save(dada2_core_view)\n",
    "\n",
    "else:\n",
    "    tabs_view = Visualization.load(dada2_tabs_view)\n",
    "    reps_view = Visualization.load(dada2_reps_view)\n",
    "    stat_view = Visualization.load(dada2_stat_view)\n",
    "    core_view = Visualization.load(dada2_core_view)"
   ]
  },
  {
   "cell_type": "code",
   "execution_count": 14,
   "id": "6c697d6c",
   "metadata": {
    "execution": {
     "iopub.execute_input": "2023-06-07T11:59:17.882380Z",
     "iopub.status.busy": "2023-06-07T11:59:17.882205Z",
     "iopub.status.idle": "2023-06-07T11:59:17.887537Z",
     "shell.execute_reply": "2023-06-07T11:59:17.886931Z"
    },
    "papermill": {
     "duration": 0.034322,
     "end_time": "2023-06-07T11:59:17.889120",
     "exception": false,
     "start_time": "2023-06-07T11:59:17.854798",
     "status": "completed"
    },
    "tags": []
   },
   "outputs": [],
   "source": [
    "def plot_stats_box(artifact, fname, total_reads_phases, percent_phases, cols):\n",
    "    import matplotlib.pyplot as plt\n",
    "    from qiime2 import Metadata\n",
    "    \n",
    "    df = artifact.view(Metadata).to_dataframe()\n",
    "    df_vals = df[total_reads_phases]\n",
    "    df_perc = df[percent_phases]\n",
    "    df_perc.columns = cols\n",
    "    \n",
    "    \n",
    "    plt.figure(figsize=(15,5))\n",
    "    plt.subplot(1, 2, 1)\n",
    "    df_vals.boxplot()\n",
    "    plt.xlabel('Fases')\n",
    "    plt.ylabel('# of reads')\n",
    "    \n",
    "    plt.subplot(1, 2, 2)\n",
    "    df_perc.boxplot()\n",
    "    plt.xlabel('Fases')\n",
    "    plt.ylabel('% of input')\n",
    "    \n",
    "    plt.savefig(fname, bbox_inches='tight')\n",
    "\n",
    "    plt.show()"
   ]
  },
  {
   "cell_type": "code",
   "execution_count": 15,
   "id": "bb5380c8",
   "metadata": {
    "execution": {
     "iopub.execute_input": "2023-06-07T11:59:17.944847Z",
     "iopub.status.busy": "2023-06-07T11:59:17.944639Z",
     "iopub.status.idle": "2023-06-07T11:59:17.949187Z",
     "shell.execute_reply": "2023-06-07T11:59:17.948678Z"
    },
    "papermill": {
     "duration": 0.034424,
     "end_time": "2023-06-07T11:59:17.950758",
     "exception": false,
     "start_time": "2023-06-07T11:59:17.916334",
     "status": "completed"
    },
    "tags": []
   },
   "outputs": [],
   "source": [
    "if n_directions == 1: # SingleEnd\n",
    "    total_reads_phases = ['input', 'filtered', 'denoised', 'non-chimeric']\n",
    "    percent_phases = ['percentage of input passed filter', 'percentage of input non-chimeric']\n",
    "    cols = ['filtered', 'non-chimeric']\n",
    "elif n_directions == 2: # PairedEnd\n",
    "    total_reads_phases = ['input', 'filtered', 'denoised', 'merged', 'non-chimeric']\n",
    "    percent_phases = ['percentage of input passed filter', 'percentage of input merged', 'percentage of input non-chimeric']\n",
    "    cols = ['filtered', 'merged', 'non-chimeric']"
   ]
  },
  {
   "cell_type": "code",
   "execution_count": 16,
   "id": "d298f1bd",
   "metadata": {
    "ExecuteTime": {
     "end_time": "2022-05-30T19:57:39.901491Z",
     "start_time": "2022-05-30T19:57:39.255220Z"
    },
    "execution": {
     "iopub.execute_input": "2023-06-07T11:59:18.005832Z",
     "iopub.status.busy": "2023-06-07T11:59:18.005665Z",
     "iopub.status.idle": "2023-06-07T11:59:18.576630Z",
     "shell.execute_reply": "2023-06-07T11:59:18.575808Z"
    },
    "papermill": {
     "duration": 0.600043,
     "end_time": "2023-06-07T11:59:18.578279",
     "exception": false,
     "start_time": "2023-06-07T11:59:17.978236",
     "status": "completed"
    },
    "scrolled": true,
    "tags": []
   },
   "outputs": [
    {
     "data": {
      "image/png": "[encoded data removed]",
      "text/plain": [
       "<Figure size 1080x360 with 2 Axes>"
      ]
     },
     "metadata": {
      "needs_background": "light"
     },
     "output_type": "display_data"
    }
   ],
   "source": [
    "plot_stats_box(stat, os.path.join(img_folder, 'step02-stats-boxplot.pdf'), total_reads_phases, percent_phases, cols)"
   ]
  },
  {
   "cell_type": "code",
   "execution_count": 17,
   "id": "4a5fd41d",
   "metadata": {
    "ExecuteTime": {
     "end_time": "2022-05-31T17:58:47.140114Z",
     "start_time": "2022-05-31T17:58:47.087808Z"
    },
    "execution": {
     "iopub.execute_input": "2023-06-07T11:59:18.634616Z",
     "iopub.status.busy": "2023-06-07T11:59:18.634433Z",
     "iopub.status.idle": "2023-06-07T11:59:18.674295Z",
     "shell.execute_reply": "2023-06-07T11:59:18.673773Z"
    },
    "papermill": {
     "duration": 0.069838,
     "end_time": "2023-06-07T11:59:18.675877",
     "exception": false,
     "start_time": "2023-06-07T11:59:18.606039",
     "status": "completed"
    },
    "tags": []
   },
   "outputs": [
    {
     "data": {
      "text/html": [
       "<div>\n",
       "<style scoped>\n",
       "    .dataframe tbody tr th:only-of-type {\n",
       "        vertical-align: middle;\n",
       "    }\n",
       "\n",
       "    .dataframe tbody tr th {\n",
       "        vertical-align: top;\n",
       "    }\n",
       "\n",
       "    .dataframe thead th {\n",
       "        text-align: right;\n",
       "    }\n",
       "</style>\n",
       "<table border=\"1\" class=\"dataframe\">\n",
       "  <thead>\n",
       "    <tr style=\"text-align: right;\">\n",
       "      <th></th>\n",
       "      <th>percentage of input passed filter</th>\n",
       "      <th>percentage of input merged</th>\n",
       "      <th>percentage of input non-chimeric</th>\n",
       "    </tr>\n",
       "  </thead>\n",
       "  <tbody>\n",
       "    <tr>\n",
       "      <th>count</th>\n",
       "      <td>12.0000</td>\n",
       "      <td>12.000000</td>\n",
       "      <td>12.000000</td>\n",
       "    </tr>\n",
       "    <tr>\n",
       "      <th>mean</th>\n",
       "      <td>85.4250</td>\n",
       "      <td>76.195833</td>\n",
       "      <td>73.948333</td>\n",
       "    </tr>\n",
       "    <tr>\n",
       "      <th>std</th>\n",
       "      <td>0.7300</td>\n",
       "      <td>7.848019</td>\n",
       "      <td>7.483717</td>\n",
       "    </tr>\n",
       "    <tr>\n",
       "      <th>min</th>\n",
       "      <td>84.1700</td>\n",
       "      <td>53.650000</td>\n",
       "      <td>53.650000</td>\n",
       "    </tr>\n",
       "    <tr>\n",
       "      <th>25%</th>\n",
       "      <td>84.9650</td>\n",
       "      <td>76.235000</td>\n",
       "      <td>71.212500</td>\n",
       "    </tr>\n",
       "    <tr>\n",
       "      <th>50%</th>\n",
       "      <td>85.3200</td>\n",
       "      <td>79.465000</td>\n",
       "      <td>75.435000</td>\n",
       "    </tr>\n",
       "    <tr>\n",
       "      <th>75%</th>\n",
       "      <td>85.8425</td>\n",
       "      <td>80.095000</td>\n",
       "      <td>78.740000</td>\n",
       "    </tr>\n",
       "    <tr>\n",
       "      <th>max</th>\n",
       "      <td>86.6600</td>\n",
       "      <td>81.330000</td>\n",
       "      <td>81.320000</td>\n",
       "    </tr>\n",
       "  </tbody>\n",
       "</table>\n",
       "</div>"
      ],
      "text/plain": [
       "       percentage of input passed filter  percentage of input merged  \\\n",
       "count                            12.0000                   12.000000   \n",
       "mean                             85.4250                   76.195833   \n",
       "std                               0.7300                    7.848019   \n",
       "min                              84.1700                   53.650000   \n",
       "25%                              84.9650                   76.235000   \n",
       "50%                              85.3200                   79.465000   \n",
       "75%                              85.8425                   80.095000   \n",
       "max                              86.6600                   81.330000   \n",
       "\n",
       "       percentage of input non-chimeric  \n",
       "count                         12.000000  \n",
       "mean                          73.948333  \n",
       "std                            7.483717  \n",
       "min                           53.650000  \n",
       "25%                           71.212500  \n",
       "50%                           75.435000  \n",
       "75%                           78.740000  \n",
       "max                           81.320000  "
      ]
     },
     "execution_count": 17,
     "metadata": {},
     "output_type": "execute_result"
    }
   ],
   "source": [
    "stat.view(Metadata).to_dataframe().describe()[percent_phases]"
   ]
  },
  {
   "cell_type": "code",
   "execution_count": 18,
   "id": "e1614816",
   "metadata": {
    "ExecuteTime": {
     "end_time": "2022-05-30T19:57:39.957632Z",
     "start_time": "2022-05-30T19:57:39.953762Z"
    },
    "execution": {
     "iopub.execute_input": "2023-06-07T11:59:18.734348Z",
     "iopub.status.busy": "2023-06-07T11:59:18.734123Z",
     "iopub.status.idle": "2023-06-07T11:59:18.739557Z",
     "shell.execute_reply": "2023-06-07T11:59:18.738913Z"
    },
    "papermill": {
     "duration": 0.035734,
     "end_time": "2023-06-07T11:59:18.741137",
     "exception": false,
     "start_time": "2023-06-07T11:59:18.705403",
     "status": "completed"
    },
    "tags": []
   },
   "outputs": [
    {
     "data": {
      "text/html": [
       "<div><img onload=\"(function(div, url){\n",
       "if (typeof require !== 'undefined') {\n",
       "    var baseURL = require.toUrl('').split('/').slice(0, -2).join('/');\n",
       "} else {\n",
       "    var baseURL = JSON.parse(\n",
       "        document.getElementById('jupyter-config-data').innerHTML\n",
       "    ).baseUrl.slice(0, -1);\n",
       "}\n",
       "url = baseURL + url;\n",
       "fetch(url).then(function(res) {\n",
       "    if (res.status === 404) {\n",
       "        div.innerHTML = 'Install QIIME 2 Jupyter extension with:<br />' +\n",
       "                        '<code>jupyter serverextension enable --py qiime2' +\n",
       "                        ' --sys-prefix</code><br />then restart your server.' +\n",
       "                        '<br /><br />(Interactive output not available on ' +\n",
       "                        'static notebook viewer services like nbviewer.)';\n",
       "    } else if (res.status === 409) {\n",
       "        div.innerHTML = 'Visualization no longer in scope. Re-run this cell' +\n",
       "                        ' to see the visualization.';\n",
       "    } else if (res.ok) {\n",
       "        url = res.url;\n",
       "        div.innerHTML = '<iframe src=\\'' + url + '\\' style=\\'' +\n",
       "                        'width: 100%; height: 700px; border: 0;\\'>' +\n",
       "                        '</iframe><hr />Open in a: <a href=\\'' + url + '\\'' +\n",
       "                        ' target=\\'_blank\\'>new window</a>'\n",
       "    } else {\n",
       "        div.innerHTML = 'Something has gone wrong. Check notebook server for' +\n",
       "                        ' errors.';\n",
       "    }\n",
       "});\n",
       "})(this.parentElement, '/qiime2/redirect?location=/tmp/qiime2-archive-6bkf2vbw')\" src=\"data:image/gif;base64,R0lGODlhAQABAIAAAP///wAAACH5BAEAAAAALAAAAAABAAEAAAICRAEAOw==\" /></div>"
      ],
      "text/plain": [
       "<visualization: Visualization uuid: 7d9dc499-185d-47e5-bf95-6714be8065ab>"
      ]
     },
     "execution_count": 18,
     "metadata": {},
     "output_type": "execute_result"
    }
   ],
   "source": [
    "stat_view"
   ]
  },
  {
   "cell_type": "code",
   "execution_count": 19,
   "id": "5302c07d",
   "metadata": {
    "ExecuteTime": {
     "end_time": "2022-05-30T19:57:39.967918Z",
     "start_time": "2022-05-30T19:57:39.958955Z"
    },
    "execution": {
     "iopub.execute_input": "2023-06-07T11:59:18.798768Z",
     "iopub.status.busy": "2023-06-07T11:59:18.798601Z",
     "iopub.status.idle": "2023-06-07T11:59:18.801744Z",
     "shell.execute_reply": "2023-06-07T11:59:18.801255Z"
    },
    "papermill": {
     "duration": 0.033803,
     "end_time": "2023-06-07T11:59:18.803274",
     "exception": false,
     "start_time": "2023-06-07T11:59:18.769471",
     "status": "completed"
    },
    "tags": []
   },
   "outputs": [],
   "source": [
    "# new_stat = Artifact.load('/home/lauro/nupeb/redemicro/experiments/thayane-feces-01/qiime-artifacts/dada2-stat.qza')\n",
    "# # new_view, = metadata_actions.tabulate(input=new_stat.view(Metadata))\n",
    "# # plot_stats_box(old_stat)\n",
    "\n",
    "# old_stat = Artifact.load('/home/lauro/nupeb/dados_brutos_rede_genoma/experiments/fezes-phred_20-tf_0-tr_0-lap_4/fezes_dada2_stat.qza')\n",
    "# # old_view, = metadata_actions.tabulate(input=old_stat.view(Metadata))\n",
    "# # plot_stats_box(old_stat)\n",
    "\n",
    "# plot_stats_box_pairs(old_stat, new_stat)"
   ]
  }
 ],
 "metadata": {
  "celltoolbar": "Edit Metadata",
  "kernelspec": {
   "display_name": "Python 3 (ipykernel)",
   "language": "python",
   "name": "python3"
  },
  "language_info": {
   "codemirror_mode": {
    "name": "ipython",
    "version": 3
   },
   "file_extension": ".py",
   "mimetype": "text/x-python",
   "name": "python",
   "nbconvert_exporter": "python",
   "pygments_lexer": "ipython3",
   "version": "3.8.12"
  },
  "papermill": {
   "default_parameters": {},
   "duration": 2407.453655,
   "end_time": "2023-06-07T11:59:19.757070",
   "environment_variables": {},
   "exception": null,
   "input_path": "nb-templates/step-quality-control.ipynb",
   "output_path": "/home/lauro/nupeb/rede-micro/redemicro-ana-flavia-nutri/experiments/ana-flavia-NCxHSD-NC-trim/nb-executed-steps/step-quality-control-ana-flavia-NCxHSD-NC-trim.ipynb",
   "parameters": {
    "base_dir": "/home/lauro/nupeb/rede-micro/redemicro-ana-flavia-nutri",
    "class_col": "group-id",
    "classifier_file": "/home/lauro/nupeb/rede-micro/models/silva-138-99-nb-classifier.qza",
    "experiment_name": "ana-flavia-NCxHSD-NC-trim",
    "manifest_file": "/home/lauro/nupeb/rede-micro/redemicro-ana-flavia-nutri/data/raw/manifest/manifest-ana-flavia-NCxHSD-NC.csv",
    "metadata_file": "/home/lauro/nupeb/rede-micro/redemicro-ana-flavia-nutri/data/raw/metadata/metadata-ana-flavia-NCxHSD-NC.tsv",
    "overlap": 12,
    "phred": 20,
    "replace_files": false,
    "threads": 6,
    "top_n": 20,
    "trim": {
     "forward_primer": "CCTACGGGRSGCAGCAG",
     "overlap": 8,
     "reverse_primer": "GGACTACHVGGGTWTCTAAT"
    },
    "trunc_f": 0,
    "trunc_r": 0
   },
   "start_time": "2023-06-07T11:19:12.303415",
   "version": "2.3.4"
  },
  "toc-autonumbering": false,
  "toc-showcode": false,
  "toc-showmarkdowntxt": false
 },
 "nbformat": 4,
 "nbformat_minor": 5
}