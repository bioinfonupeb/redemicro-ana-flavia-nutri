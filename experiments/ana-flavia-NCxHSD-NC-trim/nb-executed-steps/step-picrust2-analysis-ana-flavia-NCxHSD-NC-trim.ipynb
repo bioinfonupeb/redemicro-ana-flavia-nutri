{
 "cells": [
  {
   "cell_type": "markdown",
   "id": "0e7f2330",
   "metadata": {
    "ExecuteTime": {
     "end_time": "2022-09-22T19:36:33.828188Z",
     "start_time": "2022-09-22T19:36:33.817323Z"
    },
    "papermill": {
     "duration": 0.038725,
     "end_time": "2023-06-07T14:42:02.860626",
     "exception": false,
     "start_time": "2023-06-07T14:42:02.821901",
     "status": "completed"
    },
    "tags": []
   },
   "source": [
    "### STEP : PICRUST2 Analysis\n",
    "\n",
    "\n",
    "\n",
    "#### Example\n",
    "\n",
    "- [PICRUST2 tutorial](https://github.com/picrust/picrust2/wiki/q2-picrust2-Tutorial)\n",
    "- [Limitations](https://github.com/picrust/picrust2/wiki/Key-Limitations)\n",
    "\n",
    "\n",
    "#### Methods\n",
    "- [composition](https://docs.qiime2.org/2022.8/plugins/available/composition/)"
   ]
  },
  {
   "cell_type": "markdown",
   "id": "843debbf",
   "metadata": {
    "papermill": {
     "duration": 0.035492,
     "end_time": "2023-06-07T14:42:02.965953",
     "exception": false,
     "start_time": "2023-06-07T14:42:02.930461",
     "status": "completed"
    },
    "tags": []
   },
   "source": [
    "## Setup and settings"
   ]
  },
  {
   "cell_type": "code",
   "execution_count": 1,
   "id": "965e28e5",
   "metadata": {
    "ExecuteTime": {
     "end_time": "2022-11-09T19:20:47.478806Z",
     "start_time": "2022-11-09T19:20:40.457657Z"
    },
    "execution": {
     "iopub.execute_input": "2023-06-07T14:42:03.114532Z",
     "iopub.status.busy": "2023-06-07T14:42:03.113663Z",
     "iopub.status.idle": "2023-06-07T14:42:10.451883Z",
     "shell.execute_reply": "2023-06-07T14:42:10.452754Z"
    },
    "papermill": {
     "duration": 7.418252,
     "end_time": "2023-06-07T14:42:10.453171",
     "exception": false,
     "start_time": "2023-06-07T14:42:03.034919",
     "status": "completed"
    },
    "tags": []
   },
   "outputs": [],
   "source": [
    "# Importing packages\n",
    "import os\n",
    "import biom\n",
    "import pandas as pd\n",
    "from qiime2 import Artifact\n",
    "from qiime2 import Visualization\n",
    "from qiime2 import Metadata\n",
    "\n",
    "from qiime2.plugins.feature_table.visualizers import summarize\n",
    "\n",
    "from picrust2.pipeline import full_pipeline\n",
    "from picrust2.default import (default_ref_dir, default_tables, default_regroup_map, default_pathway_map)\n",
    "from qiime2.plugins import picrust2\n",
    "\n",
    "%matplotlib inline"
   ]
  },
  {
   "cell_type": "markdown",
   "id": "530ceb60",
   "metadata": {
    "papermill": {
     "duration": 0.089803,
     "end_time": "2023-06-07T14:42:10.577527",
     "exception": false,
     "start_time": "2023-06-07T14:42:10.487724",
     "status": "completed"
    },
    "tags": []
   },
   "source": [
    "### Receiving the parameters\n",
    "\n",
    "The following cell can receive parameters using the [papermill](https://papermill.readthedocs.io/en/latest/) tool."
   ]
  },
  {
   "cell_type": "code",
   "execution_count": 2,
   "id": "18d874ea",
   "metadata": {
    "ExecuteTime": {
     "end_time": "2022-11-09T19:20:47.483140Z",
     "start_time": "2022-11-09T19:20:47.480386Z"
    },
    "execution": {
     "iopub.execute_input": "2023-06-07T14:42:10.668494Z",
     "iopub.status.busy": "2023-06-07T14:42:10.668023Z",
     "iopub.status.idle": "2023-06-07T14:42:10.670493Z",
     "shell.execute_reply": "2023-06-07T14:42:10.670044Z"
    },
    "papermill": {
     "duration": 0.046352,
     "end_time": "2023-06-07T14:42:10.670584",
     "exception": false,
     "start_time": "2023-06-07T14:42:10.624232",
     "status": "completed"
    },
    "tags": [
     "parameters"
    ]
   },
   "outputs": [],
   "source": [
    "metadata_file = '/home/lauro/nupeb/rede-micro/redemicro-miliane-nutri/data/raw/metadata/miliane-metadata-CxAC.tsv'\n",
    "base_dir = os.path.join('/', 'home', 'lauro', 'nupeb', 'rede-micro', 'redemicro-miliane-nutri')\n",
    "experiment_name = 'miliane-CxAC-trim'\n",
    "class_col = 'group-id'\n",
    "replace_files = False"
   ]
  },
  {
   "cell_type": "code",
   "execution_count": 3,
   "id": "4c8705d5",
   "metadata": {
    "execution": {
     "iopub.execute_input": "2023-06-07T14:42:10.723719Z",
     "iopub.status.busy": "2023-06-07T14:42:10.723265Z",
     "iopub.status.idle": "2023-06-07T14:42:10.725643Z",
     "shell.execute_reply": "2023-06-07T14:42:10.725203Z"
    },
    "papermill": {
     "duration": 0.030119,
     "end_time": "2023-06-07T14:42:10.725728",
     "exception": false,
     "start_time": "2023-06-07T14:42:10.695609",
     "status": "completed"
    },
    "tags": [
     "injected-parameters"
    ]
   },
   "outputs": [],
   "source": [
    "# Parameters\n",
    "experiment_name = \"ana-flavia-NCxHSD-NC-trim\"\n",
    "base_dir = \"/home/lauro/nupeb/rede-micro/redemicro-ana-flavia-nutri\"\n",
    "manifest_file = \"/home/lauro/nupeb/rede-micro/redemicro-ana-flavia-nutri/data/raw/manifest/manifest-ana-flavia-NCxHSD-NC.csv\"\n",
    "metadata_file = \"/home/lauro/nupeb/rede-micro/redemicro-ana-flavia-nutri/data/raw/metadata/metadata-ana-flavia-NCxHSD-NC.tsv\"\n",
    "class_col = \"group-id\"\n",
    "classifier_file = \"/home/lauro/nupeb/rede-micro/models/silva-138-99-nb-classifier.qza\"\n",
    "top_n = 20\n",
    "replace_files = False\n",
    "phred = 20\n",
    "trunc_f = 0\n",
    "trunc_r = 0\n",
    "overlap = 12\n",
    "threads = 6\n",
    "trim = {\n",
    "    \"overlap\": 8,\n",
    "    \"forward_primer\": \"CCTACGGGRSGCAGCAG\",\n",
    "    \"reverse_primer\": \"GGACTACHVGGGTWTCTAAT\",\n",
    "}\n"
   ]
  },
  {
   "cell_type": "code",
   "execution_count": 4,
   "id": "f38617d9",
   "metadata": {
    "ExecuteTime": {
     "end_time": "2022-11-09T19:20:47.515942Z",
     "start_time": "2022-11-09T19:20:47.498345Z"
    },
    "execution": {
     "iopub.execute_input": "2023-06-07T14:42:10.784183Z",
     "iopub.status.busy": "2023-06-07T14:42:10.783745Z",
     "iopub.status.idle": "2023-06-07T14:42:10.786477Z",
     "shell.execute_reply": "2023-06-07T14:42:10.786123Z"
    },
    "papermill": {
     "duration": 0.036003,
     "end_time": "2023-06-07T14:42:10.786567",
     "exception": false,
     "start_time": "2023-06-07T14:42:10.750564",
     "status": "completed"
    },
    "tags": []
   },
   "outputs": [],
   "source": [
    "experiment_folder = os.path.abspath(os.path.join(base_dir, 'experiments', experiment_name))\n",
    "img_folder = os.path.abspath(os.path.join(experiment_folder, 'imgs'))"
   ]
  },
  {
   "cell_type": "markdown",
   "id": "ea9b90fb",
   "metadata": {
    "papermill": {
     "duration": 0.040832,
     "end_time": "2023-06-07T14:42:10.985536",
     "exception": false,
     "start_time": "2023-06-07T14:42:10.944704",
     "status": "completed"
    },
    "tags": []
   },
   "source": [
    "### Defining names, paths and flags"
   ]
  },
  {
   "cell_type": "code",
   "execution_count": 5,
   "id": "45727eef",
   "metadata": {
    "ExecuteTime": {
     "end_time": "2022-11-09T19:20:47.527937Z",
     "start_time": "2022-11-09T19:20:47.517696Z"
    },
    "execution": {
     "iopub.execute_input": "2023-06-07T14:42:11.081212Z",
     "iopub.status.busy": "2023-06-07T14:42:11.080324Z",
     "iopub.status.idle": "2023-06-07T14:42:11.085139Z",
     "shell.execute_reply": "2023-06-07T14:42:11.085826Z"
    },
    "papermill": {
     "duration": 0.051899,
     "end_time": "2023-06-07T14:42:11.086035",
     "exception": false,
     "start_time": "2023-06-07T14:42:11.034136",
     "status": "completed"
    },
    "tags": []
   },
   "outputs": [
    {
     "name": "stdout",
     "output_type": "stream",
     "text": [
      "New picrust2-artifacts folder path created: /home/lauro/nupeb/rede-micro/redemicro-ana-flavia-nutri/experiments/ana-flavia-NCxHSD-NC-trim/picrust2\n"
     ]
    }
   ],
   "source": [
    "# QIIME2 Artifacts folder\n",
    "qiime_folder = os.path.join(experiment_folder, 'qiime-artifacts')\n",
    "\n",
    "# Input - DADA2 Artifacts\n",
    "dada2_tabs_path = os.path.join(qiime_folder, 'dada2-tabs.qza')\n",
    "dada2_reqs_path = os.path.join(qiime_folder, 'dada2-reps.qza')\n",
    "\n",
    "# PICRUST@ folder\n",
    "picrust2_folder = os.path.abspath(os.path.join(experiment_folder, 'picrust2'))\n",
    "\n",
    "# Create path if it not exist\n",
    "if not os.path.isdir(picrust2_folder):\n",
    "    os.makedirs(picrust2_folder)\n",
    "    print(f'New picrust2-artifacts folder path created: {picrust2_folder}')"
   ]
  },
  {
   "cell_type": "code",
   "execution_count": 6,
   "id": "4903e645",
   "metadata": {
    "ExecuteTime": {
     "end_time": "2022-11-09T19:20:47.539993Z",
     "start_time": "2022-11-09T19:20:47.529653Z"
    },
    "execution": {
     "iopub.execute_input": "2023-06-07T14:42:11.160539Z",
     "iopub.status.busy": "2023-06-07T14:42:11.160030Z",
     "iopub.status.idle": "2023-06-07T14:42:11.163339Z",
     "shell.execute_reply": "2023-06-07T14:42:11.163856Z"
    },
    "papermill": {
     "duration": 0.04281,
     "end_time": "2023-06-07T14:42:11.164002",
     "exception": false,
     "start_time": "2023-06-07T14:42:11.121192",
     "status": "completed"
    },
    "tags": []
   },
   "outputs": [],
   "source": [
    "# Define paths for metagenome function artifacts\n",
    "ec_path = os.path.join(picrust2_folder, 'ec-pred-metagen.qza')\n",
    "ko_path = os.path.join(picrust2_folder, 'ko-pred-metagen.qza')\n",
    "pathway_path = os.path.join(picrust2_folder, 'pathway-abundance.qza')\n",
    "\n",
    "# Define paths for metagenome function visualization artifacts\n",
    "ec_viz_path = ec_path[:-1]+'v'\n",
    "ko_viz_path = ko_path[:-1]+'v'\n",
    "pathway_viz_path = pathway_path[:-1]+'v'\n",
    "\n",
    "# Define paths for biom -> tsv files (function X sample)\n",
    "pathway_fpath = os.path.join(picrust2_folder, 'pathway.tsv')\n",
    "ec_fpath = os.path.join(picrust2_folder, 'ec.tsv')\n",
    "ko_fpath = os.path.join(picrust2_folder, 'ko.tsv')\n",
    "\n",
    "# Define paths for biom -> tsv files (function X sample) - with descriptions\n",
    "pathway_desc_fpath = os.path.join(picrust2_folder, 'pathway-desc.tsv')\n",
    "ec_desc_fpath = os.path.join(picrust2_folder, 'ec-desc.tsv')\n",
    "ko_desc_fpath = os.path.join(picrust2_folder, 'ko-desc.tsv')"
   ]
  },
  {
   "cell_type": "markdown",
   "id": "0999a1b2",
   "metadata": {
    "papermill": {
     "duration": 0.029107,
     "end_time": "2023-06-07T14:42:11.224507",
     "exception": false,
     "start_time": "2023-06-07T14:42:11.195400",
     "status": "completed"
    },
    "tags": []
   },
   "source": [
    "## Step execution\n",
    "\n",
    "### Load input files\n",
    "\n",
    "This Step import the QIIME2 `FeatureTable[Frequency]` Artifact and the `Metadata` file."
   ]
  },
  {
   "cell_type": "code",
   "execution_count": 7,
   "id": "8f299d1a",
   "metadata": {
    "ExecuteTime": {
     "end_time": "2022-11-09T19:20:47.610793Z",
     "start_time": "2022-11-09T19:20:47.541540Z"
    },
    "execution": {
     "iopub.execute_input": "2023-06-07T14:42:11.286524Z",
     "iopub.status.busy": "2023-06-07T14:42:11.286050Z",
     "iopub.status.idle": "2023-06-07T14:42:11.313211Z",
     "shell.execute_reply": "2023-06-07T14:42:11.312434Z"
    },
    "papermill": {
     "duration": 0.059875,
     "end_time": "2023-06-07T14:42:11.313385",
     "exception": false,
     "start_time": "2023-06-07T14:42:11.253510",
     "status": "completed"
    },
    "tags": []
   },
   "outputs": [],
   "source": [
    "#Load Metadata\n",
    "metadata_qa = Metadata.load(metadata_file)\n",
    "\n",
    "#Load FeatureTable[Frequency]\n",
    "tabs = Artifact.load(dada2_tabs_path)\n",
    "\n",
    "#Load FeatureTable[Sequence]\n",
    "seqs = Artifact.load(dada2_reqs_path)"
   ]
  },
  {
   "cell_type": "markdown",
   "id": "4f1b06d4",
   "metadata": {
    "papermill": {
     "duration": 0.028852,
     "end_time": "2023-06-07T14:42:11.374662",
     "exception": false,
     "start_time": "2023-06-07T14:42:11.345810",
     "status": "completed"
    },
    "tags": []
   },
   "source": [
    "### Execute full pipelie\n",
    "\n",
    "The entire PICRUSt2 pipeline will be run using a single method, called `picrust2.methods.full_pipeline`. This method will run each of the 4 key steps: \n",
    "\n",
    "1. sequence placement\n",
    "2. hidden-state prediction of genomes\n",
    "3. metagenome prediction\n",
    "4. pathway-level predictions.\n",
    "\n",
    "More information on [Documentation](https://github.com/picrust/picrust2/wiki/Full-pipeline-script)."
   ]
  },
  {
   "cell_type": "code",
   "execution_count": 8,
   "id": "2c4f3874",
   "metadata": {
    "ExecuteTime": {
     "end_time": "2022-11-09T19:20:47.642417Z",
     "start_time": "2022-11-09T19:20:47.612547Z"
    },
    "execution": {
     "iopub.execute_input": "2023-06-07T14:42:11.442131Z",
     "iopub.status.busy": "2023-06-07T14:42:11.441507Z",
     "iopub.status.idle": "2023-06-07T14:48:47.071142Z",
     "shell.execute_reply": "2023-06-07T14:48:47.071656Z"
    },
    "papermill": {
     "duration": 395.667997,
     "end_time": "2023-06-07T14:48:47.071823",
     "exception": false,
     "start_time": "2023-06-07T14:42:11.403826",
     "status": "completed"
    },
    "scrolled": true,
    "tags": []
   },
   "outputs": [
    {
     "name": "stderr",
     "output_type": "stream",
     "text": [
      "872 of 872 sequence ids overlap between input table and FASTA.\n",
      "\n",
      "Placing sequences onto reference tree\n",
      "place_seqs.py --study_fasta /tmp/tmpb_ry_e46/seqs.fna --ref_dir /home/lauro/anaconda3/envs/qiime2-2021.11/lib/python3.8/site-packages/picrust2/default_files/prokaryotic/pro_ref --out_tree /tmp/tmpb_ry_e46/picrust2_out/out.tre --processes 6 --intermediate /tmp/tmpb_ry_e46/picrust2_out/intermediate/place_seqs --min_align 0.8 --chunk_size 5000 --placement_tool sepp --verbose\n"
     ]
    },
    {
     "name": "stdout",
     "output_type": "stream",
     "text": [
      "\n",
      "['run_sepp.py', '--tree', '/home/lauro/anaconda3/envs/qiime2-2021.11/lib/python3.8/site-packages/picrust2/default_files/prokaryotic/pro_ref/pro_ref.tre', '--raxml', '/home/lauro/anaconda3/envs/qiime2-2021.11/lib/python3.8/site-packages/picrust2/default_files/prokaryotic/pro_ref/pro_ref.raxml_info', '--cpu', '6', '--molecule', 'dna', '--outdir', '/tmp/tmpb_ry_e46/picrust2_out/intermediate/place_seqs/sepp_out', '-seed', '297834', '--alignment', '/home/lauro/anaconda3/envs/qiime2-2021.11/lib/python3.8/site-packages/picrust2/default_files/prokaryotic/pro_ref/pro_ref.fna', '--fragment', '/tmp/tmpb_ry_e46/picrust2_out/intermediate/place_seqs/study_seqs_filtered.fasta']\n",
      "\n",
      "                                              ....      ....  \n",
      "                                             '' '||.   .||'   \n",
      "                                                  ||  ||      \n",
      "                                                  '|.|'       \n",
      "     ...'   ....   ... ...  ... ...   ....        .|'|.       \n",
      "    |  ||  '' .||   ||'  ||  ||'  || '' .||      .|'  ||      \n",
      "     |''   .|' ||   ||    |  ||    | .|' ||     .|'|.  ||     \n",
      "    '....  '|..'|'. ||...'   ||...'  '|..'|.    '||'    ||:.  \n",
      "    '....'          ||       ||                               \n",
      "                   ''''     ''''   v0.6.1 (c) 2017-2020\n",
      "                                   by Lucas Czech and Pierre Barbera\n",
      "\n",
      "Invocation:                        gappa examine graft --jplace-path /tmp/tmpb_ry_e46/picrust2_out/intermediate/place_seqs/sepp_out/output_placement.json --fully-resolve --out-dir /tmp/tmpb_ry_e46/picrust2_out/intermediate/place_seqs/sepp_out\n",
      "Command:                           gappa examine graft\n",
      "\n",
      "Input:\n",
      "  --jplace-path                    /tmp/tmpb_ry_e46/picrust2_out/intermediate/place_seqs/sepp_out/output_placement.json\n",
      "\n",
      "Settings:\n",
      "  --fully-resolve                  true\n",
      "  --name-prefix\n",
      "\n",
      "Output:\n",
      "  --out-dir                        /tmp/tmpb_ry_e46/picrust2_out/intermediate/place_seqs/sepp_out\n",
      "  --file-prefix                    \n",
      "  --file-suffix\n",
      "\n",
      "Global Options:\n",
      "  --allow-file-overwriting         false\n",
      "  --verbose                        false\n",
      "  --threads                        4\n",
      "  --log-file\n",
      "\n",
      "Run the following command to get the references that need to be cited:\n",
      "`gappa tools citation Czech2020-genesis-and-gappa`\n",
      "\n",
      "Started 2023-06-07 14:44:59\n",
      "\n",
      "Found 1 jplace file\n",
      "\n",
      "Finished 2023-06-07 14:44:59\n",
      "\n",
      "\n"
     ]
    },
    {
     "name": "stderr",
     "output_type": "stream",
     "text": [
      "hmmalign --trim --dna --mapali /home/lauro/anaconda3/envs/qiime2-2021.11/lib/python3.8/site-packages/picrust2/default_files/prokaryotic/pro_ref/pro_ref.fna --informat FASTA -o /tmp/tmpb_ry_e46/picrust2_out/intermediate/place_seqs/query_align.stockholm /home/lauro/anaconda3/envs/qiime2-2021.11/lib/python3.8/site-packages/picrust2/default_files/prokaryotic/pro_ref/pro_ref.hmm /tmp/tmpb_ry_e46/seqs.fna\n",
      "\n",
      "Raw input sequences ranged in length from 403 to 430\n",
      "\n",
      "run_sepp.py --tree /home/lauro/anaconda3/envs/qiime2-2021.11/lib/python3.8/site-packages/picrust2/default_files/prokaryotic/pro_ref/pro_ref.tre --raxml /home/lauro/anaconda3/envs/qiime2-2021.11/lib/python3.8/site-packages/picrust2/default_files/prokaryotic/pro_ref/pro_ref.raxml_info --cpu 6 --molecule dna --outdir /tmp/tmpb_ry_e46/picrust2_out/intermediate/place_seqs/sepp_out -seed 297834 --alignment /home/lauro/anaconda3/envs/qiime2-2021.11/lib/python3.8/site-packages/picrust2/default_files/prokaryotic/pro_ref/pro_ref.fna --fragment /tmp/tmpb_ry_e46/picrust2_out/intermediate/place_seqs/study_seqs_filtered.fasta\n",
      "[14:42:48] config.py (line 349):     INFO: Seed number: 297834\n",
      "[14:42:48] algorithm.py (line 258):     INFO: Reading input alignment: <_io.TextIOWrapper name='/home/lauro/anaconda3/envs/qiime2-2021.11/lib/python3.8/site-packages/picrust2/default_files/prokaryotic/pro_ref/pro_ref.fna' mode='r' encoding='UTF-8'>\n",
      "[14:42:48] algorithm.py (line 265):     INFO: Reading input tree: <_io.TextIOWrapper name='/home/lauro/anaconda3/envs/qiime2-2021.11/lib/python3.8/site-packages/picrust2/default_files/prokaryotic/pro_ref/pro_ref.tre' mode='r' encoding='UTF-8'>\n",
      "[14:42:49] algorithm.py (line 238):     INFO: Decomposition Sizes are set to alignment: 2000 placement: 2000\n",
      "[14:42:51] exhaustive.py (line 350):     INFO: Breaking into 16 placement subsets.\n",
      "[14:42:53] exhaustive.py (line 397):     INFO: Breaking into 16 alignment subsets.\n",
      "[14:42:53] filemgr.py (line 129):     INFO: Root temp directory built: /tmp/sepp/output.0vc5g4e6\n",
      "[14:42:53] exhaustive.py (line 412):     INFO: Breaking each alignment subset into 3 fragment chunks.\n",
      "[14:42:54] jobs.py (line 131):     INFO: Finished hmmbuild Job with input: /tmp/sepp/output.0vc5g4e6/root/P_4/A_4_0/hmmbuild.input._r0t_e9i.fasta\n",
      "[14:42:54] jobs.py (line 131):     INFO: Finished hmmbuild Job with input: /tmp/sepp/output.0vc5g4e6/root/P_3/A_3_0/hmmbuild.input.s5gwfo0m.fasta\n",
      "[14:42:55] jobs.py (line 131):     INFO: Finished hmmbuild Job with input: /tmp/sepp/output.0vc5g4e6/root/P_1/A_1_0/hmmbuild.input.1l1lokpp.fasta\n",
      "[14:42:55] jobs.py (line 131):     INFO: Finished hmmbuild Job with input: /tmp/sepp/output.0vc5g4e6/root/P_0/A_0_0/hmmbuild.input.1lpds67u.fasta\n",
      "[14:42:55] jobs.py (line 131):     INFO: Finished hmmbuild Job with input: /tmp/sepp/output.0vc5g4e6/root/P_5/A_5_0/hmmbuild.input.pcsv7zfs.fasta\n",
      "[14:42:55] jobs.py (line 131):     INFO: Finished hmmbuild Job with input: /tmp/sepp/output.0vc5g4e6/root/P_2/A_2_0/hmmbuild.input.5hv2sh7x.fasta\n",
      "[14:42:55] jobs.py (line 131):     INFO: Finished hmmbuild Job with input: /tmp/sepp/output.0vc5g4e6/root/P_6/A_6_0/hmmbuild.input.39sztys6.fasta\n",
      "[14:42:55] jobs.py (line 131):     INFO: Finished hmmbuild Job with input: /tmp/sepp/output.0vc5g4e6/root/P_8/A_8_0/hmmbuild.input.mleszs0r.fasta\n",
      "[14:42:55] jobs.py (line 131):     INFO: Finished hmmbuild Job with input: /tmp/sepp/output.0vc5g4e6/root/P_7/A_7_0/hmmbuild.input.8ls3kmto.fasta\n",
      "[14:42:55] jobs.py (line 131):     INFO: Finished hmmbuild Job with input: /tmp/sepp/output.0vc5g4e6/root/P_11/A_11_0/hmmbuild.input.2xlj6wjj.fasta\n",
      "[14:42:55] jobs.py (line 131):     INFO: Finished hmmbuild Job with input: /tmp/sepp/output.0vc5g4e6/root/P_9/A_9_0/hmmbuild.input.m0scdrcj.fasta\n",
      "[14:42:55] jobs.py (line 131):     INFO: Finished hmmbuild Job with input: /tmp/sepp/output.0vc5g4e6/root/P_10/A_10_0/hmmbuild.input.i08so224.fasta\n",
      "[14:42:56] jobs.py (line 131):     INFO: Finished hmmbuild Job with input: /tmp/sepp/output.0vc5g4e6/root/P_12/A_12_0/hmmbuild.input.16vcszz2.fasta\n",
      "[14:42:56] jobs.py (line 131):     INFO: Finished hmmbuild Job with input: /tmp/sepp/output.0vc5g4e6/root/P_13/A_13_0/hmmbuild.input.l5w_ygui.fasta\n",
      "[14:42:56] jobs.py (line 131):     INFO: Finished hmmbuild Job with input: /tmp/sepp/output.0vc5g4e6/root/P_14/A_14_0/hmmbuild.input.1akoeaxj.fasta\n",
      "[14:42:56] jobs.py (line 131):     INFO: Finished hmmbuild Job with input: /tmp/sepp/output.0vc5g4e6/root/P_15/A_15_0/hmmbuild.input.23oct_1q.fasta\n",
      "[14:43:00] jobs.py (line 131):     INFO: Finished hmmsearch Job with input: model:/tmp/sepp/output.0vc5g4e6/root/P_4/A_4_0/hmmbuild.model.ine01dzm, fragments:/tmp/sepp/output.0vc5g4e6/fragment_chunks/fragment_chunk_0mfhxafqg.fasta, elim:99999999, filter:False, output:/tmp/sepp/output.0vc5g4e6/root/P_4/A_4_0/FC_4_0_0/hmmsearch.results.0_qoc8mc\n",
      "[14:43:01] jobs.py (line 131):     INFO: Finished hmmsearch Job with input: model:/tmp/sepp/output.0vc5g4e6/root/P_3/A_3_0/hmmbuild.model.fs_ort72, fragments:/tmp/sepp/output.0vc5g4e6/fragment_chunks/fragment_chunk_1xaretc2t.fasta, elim:99999999, filter:False, output:/tmp/sepp/output.0vc5g4e6/root/P_3/A_3_0/FC_3_0_1/hmmsearch.results.09gxsenh\n",
      "[14:43:01] jobs.py (line 131):     INFO: Finished hmmsearch Job with input: model:/tmp/sepp/output.0vc5g4e6/root/P_4/A_4_0/hmmbuild.model.ine01dzm, fragments:/tmp/sepp/output.0vc5g4e6/fragment_chunks/fragment_chunk_20_ib3y3m.fasta, elim:99999999, filter:False, output:/tmp/sepp/output.0vc5g4e6/root/P_4/A_4_0/FC_4_0_2/hmmsearch.results.7vb7i4l5\n",
      "[14:43:01] jobs.py (line 131):     INFO: Finished hmmsearch Job with input: model:/tmp/sepp/output.0vc5g4e6/root/P_4/A_4_0/hmmbuild.model.ine01dzm, fragments:/tmp/sepp/output.0vc5g4e6/fragment_chunks/fragment_chunk_1xaretc2t.fasta, elim:99999999, filter:False, output:/tmp/sepp/output.0vc5g4e6/root/P_4/A_4_0/FC_4_0_1/hmmsearch.results.458fo1v9\n",
      "[14:43:02] jobs.py (line 131):     INFO: Finished hmmsearch Job with input: model:/tmp/sepp/output.0vc5g4e6/root/P_3/A_3_0/hmmbuild.model.fs_ort72, fragments:/tmp/sepp/output.0vc5g4e6/fragment_chunks/fragment_chunk_20_ib3y3m.fasta, elim:99999999, filter:False, output:/tmp/sepp/output.0vc5g4e6/root/P_3/A_3_0/FC_3_0_2/hmmsearch.results.yb_tm8w8\n",
      "[14:43:02] jobs.py (line 131):     INFO: Finished hmmsearch Job with input: model:/tmp/sepp/output.0vc5g4e6/root/P_3/A_3_0/hmmbuild.model.fs_ort72, fragments:/tmp/sepp/output.0vc5g4e6/fragment_chunks/fragment_chunk_0mfhxafqg.fasta, elim:99999999, filter:False, output:/tmp/sepp/output.0vc5g4e6/root/P_3/A_3_0/FC_3_0_0/hmmsearch.results.4vdg_6ts\n",
      "[14:43:05] jobs.py (line 131):     INFO: Finished hmmsearch Job with input: model:/tmp/sepp/output.0vc5g4e6/root/P_1/A_1_0/hmmbuild.model.efk5n8mi, fragments:/tmp/sepp/output.0vc5g4e6/fragment_chunks/fragment_chunk_0mfhxafqg.fasta, elim:99999999, filter:False, output:/tmp/sepp/output.0vc5g4e6/root/P_1/A_1_0/FC_1_0_0/hmmsearch.results.1s7zg61i\n",
      "[14:43:05] jobs.py (line 131):     INFO: Finished hmmsearch Job with input: model:/tmp/sepp/output.0vc5g4e6/root/P_1/A_1_0/hmmbuild.model.efk5n8mi, fragments:/tmp/sepp/output.0vc5g4e6/fragment_chunks/fragment_chunk_20_ib3y3m.fasta, elim:99999999, filter:False, output:/tmp/sepp/output.0vc5g4e6/root/P_1/A_1_0/FC_1_0_2/hmmsearch.results.0ac1mtw4\n",
      "[14:43:07] jobs.py (line 131):     INFO: Finished hmmsearch Job with input: model:/tmp/sepp/output.0vc5g4e6/root/P_1/A_1_0/hmmbuild.model.efk5n8mi, fragments:/tmp/sepp/output.0vc5g4e6/fragment_chunks/fragment_chunk_1xaretc2t.fasta, elim:99999999, filter:False, output:/tmp/sepp/output.0vc5g4e6/root/P_1/A_1_0/FC_1_0_1/hmmsearch.results.pvdb8x48\n",
      "[14:43:08] jobs.py (line 131):     INFO: Finished hmmsearch Job with input: model:/tmp/sepp/output.0vc5g4e6/root/P_0/A_0_0/hmmbuild.model.7nphl1qw, fragments:/tmp/sepp/output.0vc5g4e6/fragment_chunks/fragment_chunk_0mfhxafqg.fasta, elim:99999999, filter:False, output:/tmp/sepp/output.0vc5g4e6/root/P_0/A_0_0/FC_0_0_0/hmmsearch.results.syr4wca8\n",
      "[14:43:08] jobs.py (line 131):     INFO: Finished hmmsearch Job with input: model:/tmp/sepp/output.0vc5g4e6/root/P_0/A_0_0/hmmbuild.model.7nphl1qw, fragments:/tmp/sepp/output.0vc5g4e6/fragment_chunks/fragment_chunk_1xaretc2t.fasta, elim:99999999, filter:False, output:/tmp/sepp/output.0vc5g4e6/root/P_0/A_0_0/FC_0_0_1/hmmsearch.results.xek6joke\n",
      "[14:43:09] jobs.py (line 131):     INFO: Finished hmmsearch Job with input: model:/tmp/sepp/output.0vc5g4e6/root/P_0/A_0_0/hmmbuild.model.7nphl1qw, fragments:/tmp/sepp/output.0vc5g4e6/fragment_chunks/fragment_chunk_20_ib3y3m.fasta, elim:99999999, filter:False, output:/tmp/sepp/output.0vc5g4e6/root/P_0/A_0_0/FC_0_0_2/hmmsearch.results.6oshe2wr\n",
      "[14:43:09] jobs.py (line 131):     INFO: Finished hmmsearch Job with input: model:/tmp/sepp/output.0vc5g4e6/root/P_5/A_5_0/hmmbuild.model.xch5ujn8, fragments:/tmp/sepp/output.0vc5g4e6/fragment_chunks/fragment_chunk_0mfhxafqg.fasta, elim:99999999, filter:False, output:/tmp/sepp/output.0vc5g4e6/root/P_5/A_5_0/FC_5_0_0/hmmsearch.results.wxa6icke\n",
      "[14:43:10] jobs.py (line 131):     INFO: Finished hmmsearch Job with input: model:/tmp/sepp/output.0vc5g4e6/root/P_5/A_5_0/hmmbuild.model.xch5ujn8, fragments:/tmp/sepp/output.0vc5g4e6/fragment_chunks/fragment_chunk_1xaretc2t.fasta, elim:99999999, filter:False, output:/tmp/sepp/output.0vc5g4e6/root/P_5/A_5_0/FC_5_0_1/hmmsearch.results.lkzan1ee\n",
      "[14:43:12] jobs.py (line 131):     INFO: Finished hmmsearch Job with input: model:/tmp/sepp/output.0vc5g4e6/root/P_2/A_2_0/hmmbuild.model.hth95z2_, fragments:/tmp/sepp/output.0vc5g4e6/fragment_chunks/fragment_chunk_0mfhxafqg.fasta, elim:99999999, filter:False, output:/tmp/sepp/output.0vc5g4e6/root/P_2/A_2_0/FC_2_0_0/hmmsearch.results.9t54ks8o\n",
      "[14:43:13] jobs.py (line 131):     INFO: Finished hmmsearch Job with input: model:/tmp/sepp/output.0vc5g4e6/root/P_5/A_5_0/hmmbuild.model.xch5ujn8, fragments:/tmp/sepp/output.0vc5g4e6/fragment_chunks/fragment_chunk_20_ib3y3m.fasta, elim:99999999, filter:False, output:/tmp/sepp/output.0vc5g4e6/root/P_5/A_5_0/FC_5_0_2/hmmsearch.results.axi28kso\n",
      "[14:43:14] jobs.py (line 131):     INFO: Finished hmmsearch Job with input: model:/tmp/sepp/output.0vc5g4e6/root/P_2/A_2_0/hmmbuild.model.hth95z2_, fragments:/tmp/sepp/output.0vc5g4e6/fragment_chunks/fragment_chunk_20_ib3y3m.fasta, elim:99999999, filter:False, output:/tmp/sepp/output.0vc5g4e6/root/P_2/A_2_0/FC_2_0_2/hmmsearch.results.7lmqcpbr\n",
      "[14:43:14] jobs.py (line 131):     INFO: Finished hmmsearch Job with input: model:/tmp/sepp/output.0vc5g4e6/root/P_2/A_2_0/hmmbuild.model.hth95z2_, fragments:/tmp/sepp/output.0vc5g4e6/fragment_chunks/fragment_chunk_1xaretc2t.fasta, elim:99999999, filter:False, output:/tmp/sepp/output.0vc5g4e6/root/P_2/A_2_0/FC_2_0_1/hmmsearch.results.wonbqotl\n",
      "[14:43:15] jobs.py (line 131):     INFO: Finished hmmsearch Job with input: model:/tmp/sepp/output.0vc5g4e6/root/P_6/A_6_0/hmmbuild.model.yg1lb6ke, fragments:/tmp/sepp/output.0vc5g4e6/fragment_chunks/fragment_chunk_0mfhxafqg.fasta, elim:99999999, filter:False, output:/tmp/sepp/output.0vc5g4e6/root/P_6/A_6_0/FC_6_0_0/hmmsearch.results.c_ijxtdb\n",
      "[14:43:16] jobs.py (line 131):     INFO: Finished hmmsearch Job with input: model:/tmp/sepp/output.0vc5g4e6/root/P_6/A_6_0/hmmbuild.model.yg1lb6ke, fragments:/tmp/sepp/output.0vc5g4e6/fragment_chunks/fragment_chunk_1xaretc2t.fasta, elim:99999999, filter:False, output:/tmp/sepp/output.0vc5g4e6/root/P_6/A_6_0/FC_6_0_1/hmmsearch.results.mii8bazs\n",
      "[14:43:17] jobs.py (line 131):     INFO: Finished hmmsearch Job with input: model:/tmp/sepp/output.0vc5g4e6/root/P_6/A_6_0/hmmbuild.model.yg1lb6ke, fragments:/tmp/sepp/output.0vc5g4e6/fragment_chunks/fragment_chunk_20_ib3y3m.fasta, elim:99999999, filter:False, output:/tmp/sepp/output.0vc5g4e6/root/P_6/A_6_0/FC_6_0_2/hmmsearch.results.dzcqnjk1\n",
      "[14:43:18] jobs.py (line 131):     INFO: Finished hmmsearch Job with input: model:/tmp/sepp/output.0vc5g4e6/root/P_8/A_8_0/hmmbuild.model.cq0nt9g6, fragments:/tmp/sepp/output.0vc5g4e6/fragment_chunks/fragment_chunk_0mfhxafqg.fasta, elim:99999999, filter:False, output:/tmp/sepp/output.0vc5g4e6/root/P_8/A_8_0/FC_8_0_0/hmmsearch.results.pi42uwrf\n",
      "[14:43:19] jobs.py (line 131):     INFO: Finished hmmsearch Job with input: model:/tmp/sepp/output.0vc5g4e6/root/P_8/A_8_0/hmmbuild.model.cq0nt9g6, fragments:/tmp/sepp/output.0vc5g4e6/fragment_chunks/fragment_chunk_20_ib3y3m.fasta, elim:99999999, filter:False, output:/tmp/sepp/output.0vc5g4e6/root/P_8/A_8_0/FC_8_0_2/hmmsearch.results.ivsslx78\n",
      "[14:43:19] jobs.py (line 131):     INFO: Finished hmmsearch Job with input: model:/tmp/sepp/output.0vc5g4e6/root/P_8/A_8_0/hmmbuild.model.cq0nt9g6, fragments:/tmp/sepp/output.0vc5g4e6/fragment_chunks/fragment_chunk_1xaretc2t.fasta, elim:99999999, filter:False, output:/tmp/sepp/output.0vc5g4e6/root/P_8/A_8_0/FC_8_0_1/hmmsearch.results.ixj5l7cn\n",
      "[14:43:20] jobs.py (line 131):     INFO: Finished hmmsearch Job with input: model:/tmp/sepp/output.0vc5g4e6/root/P_7/A_7_0/hmmbuild.model.6xwtnroh, fragments:/tmp/sepp/output.0vc5g4e6/fragment_chunks/fragment_chunk_0mfhxafqg.fasta, elim:99999999, filter:False, output:/tmp/sepp/output.0vc5g4e6/root/P_7/A_7_0/FC_7_0_0/hmmsearch.results.4i3_bkyi\n",
      "[14:43:23] jobs.py (line 131):     INFO: Finished hmmsearch Job with input: model:/tmp/sepp/output.0vc5g4e6/root/P_11/A_11_0/hmmbuild.model.wqlcb_7d, fragments:/tmp/sepp/output.0vc5g4e6/fragment_chunks/fragment_chunk_1xaretc2t.fasta, elim:99999999, filter:False, output:/tmp/sepp/output.0vc5g4e6/root/P_11/A_11_0/FC_11_0_1/hmmsearch.results.kwcs5djn\n",
      "[14:43:23] jobs.py (line 131):     INFO: Finished hmmsearch Job with input: model:/tmp/sepp/output.0vc5g4e6/root/P_7/A_7_0/hmmbuild.model.6xwtnroh, fragments:/tmp/sepp/output.0vc5g4e6/fragment_chunks/fragment_chunk_1xaretc2t.fasta, elim:99999999, filter:False, output:/tmp/sepp/output.0vc5g4e6/root/P_7/A_7_0/FC_7_0_1/hmmsearch.results.zfx6re7d\n",
      "[14:43:23] jobs.py (line 131):     INFO: Finished hmmsearch Job with input: model:/tmp/sepp/output.0vc5g4e6/root/P_7/A_7_0/hmmbuild.model.6xwtnroh, fragments:/tmp/sepp/output.0vc5g4e6/fragment_chunks/fragment_chunk_20_ib3y3m.fasta, elim:99999999, filter:False, output:/tmp/sepp/output.0vc5g4e6/root/P_7/A_7_0/FC_7_0_2/hmmsearch.results.x0o_v6v9\n",
      "[14:43:24] jobs.py (line 131):     INFO: Finished hmmsearch Job with input: model:/tmp/sepp/output.0vc5g4e6/root/P_11/A_11_0/hmmbuild.model.wqlcb_7d, fragments:/tmp/sepp/output.0vc5g4e6/fragment_chunks/fragment_chunk_0mfhxafqg.fasta, elim:99999999, filter:False, output:/tmp/sepp/output.0vc5g4e6/root/P_11/A_11_0/FC_11_0_0/hmmsearch.results.hh1dv2k6\n",
      "[14:43:25] jobs.py (line 131):     INFO: Finished hmmsearch Job with input: model:/tmp/sepp/output.0vc5g4e6/root/P_9/A_9_0/hmmbuild.model.j8lwtwzp, fragments:/tmp/sepp/output.0vc5g4e6/fragment_chunks/fragment_chunk_0mfhxafqg.fasta, elim:99999999, filter:False, output:/tmp/sepp/output.0vc5g4e6/root/P_9/A_9_0/FC_9_0_0/hmmsearch.results.8ju0s68e\n",
      "[14:43:25] jobs.py (line 131):     INFO: Finished hmmsearch Job with input: model:/tmp/sepp/output.0vc5g4e6/root/P_11/A_11_0/hmmbuild.model.wqlcb_7d, fragments:/tmp/sepp/output.0vc5g4e6/fragment_chunks/fragment_chunk_20_ib3y3m.fasta, elim:99999999, filter:False, output:/tmp/sepp/output.0vc5g4e6/root/P_11/A_11_0/FC_11_0_2/hmmsearch.results.bps6qpvn\n",
      "[14:43:28] jobs.py (line 131):     INFO: Finished hmmsearch Job with input: model:/tmp/sepp/output.0vc5g4e6/root/P_9/A_9_0/hmmbuild.model.j8lwtwzp, fragments:/tmp/sepp/output.0vc5g4e6/fragment_chunks/fragment_chunk_20_ib3y3m.fasta, elim:99999999, filter:False, output:/tmp/sepp/output.0vc5g4e6/root/P_9/A_9_0/FC_9_0_2/hmmsearch.results.jdd_1uwg\n",
      "[14:43:29] jobs.py (line 131):     INFO: Finished hmmsearch Job with input: model:/tmp/sepp/output.0vc5g4e6/root/P_10/A_10_0/hmmbuild.model.nd6igfhl, fragments:/tmp/sepp/output.0vc5g4e6/fragment_chunks/fragment_chunk_0mfhxafqg.fasta, elim:99999999, filter:False, output:/tmp/sepp/output.0vc5g4e6/root/P_10/A_10_0/FC_10_0_0/hmmsearch.results.u_vjtkxy\n",
      "[14:43:29] jobs.py (line 131):     INFO: Finished hmmsearch Job with input: model:/tmp/sepp/output.0vc5g4e6/root/P_10/A_10_0/hmmbuild.model.nd6igfhl, fragments:/tmp/sepp/output.0vc5g4e6/fragment_chunks/fragment_chunk_1xaretc2t.fasta, elim:99999999, filter:False, output:/tmp/sepp/output.0vc5g4e6/root/P_10/A_10_0/FC_10_0_1/hmmsearch.results.ejootrs0\n",
      "[14:43:30] jobs.py (line 131):     INFO: Finished hmmsearch Job with input: model:/tmp/sepp/output.0vc5g4e6/root/P_9/A_9_0/hmmbuild.model.j8lwtwzp, fragments:/tmp/sepp/output.0vc5g4e6/fragment_chunks/fragment_chunk_1xaretc2t.fasta, elim:99999999, filter:False, output:/tmp/sepp/output.0vc5g4e6/root/P_9/A_9_0/FC_9_0_1/hmmsearch.results.r5t12mar\n",
      "[14:43:30] jobs.py (line 131):     INFO: Finished hmmsearch Job with input: model:/tmp/sepp/output.0vc5g4e6/root/P_10/A_10_0/hmmbuild.model.nd6igfhl, fragments:/tmp/sepp/output.0vc5g4e6/fragment_chunks/fragment_chunk_20_ib3y3m.fasta, elim:99999999, filter:False, output:/tmp/sepp/output.0vc5g4e6/root/P_10/A_10_0/FC_10_0_2/hmmsearch.results.rrs8c8jg\n",
      "[14:43:31] jobs.py (line 131):     INFO: Finished hmmsearch Job with input: model:/tmp/sepp/output.0vc5g4e6/root/P_12/A_12_0/hmmbuild.model.rb_jpt_7, fragments:/tmp/sepp/output.0vc5g4e6/fragment_chunks/fragment_chunk_0mfhxafqg.fasta, elim:99999999, filter:False, output:/tmp/sepp/output.0vc5g4e6/root/P_12/A_12_0/FC_12_0_0/hmmsearch.results.itvqwkpo\n",
      "[14:43:33] jobs.py (line 131):     INFO: Finished hmmsearch Job with input: model:/tmp/sepp/output.0vc5g4e6/root/P_12/A_12_0/hmmbuild.model.rb_jpt_7, fragments:/tmp/sepp/output.0vc5g4e6/fragment_chunks/fragment_chunk_20_ib3y3m.fasta, elim:99999999, filter:False, output:/tmp/sepp/output.0vc5g4e6/root/P_12/A_12_0/FC_12_0_2/hmmsearch.results.gw0glzus\n",
      "[14:43:34] jobs.py (line 131):     INFO: Finished hmmsearch Job with input: model:/tmp/sepp/output.0vc5g4e6/root/P_12/A_12_0/hmmbuild.model.rb_jpt_7, fragments:/tmp/sepp/output.0vc5g4e6/fragment_chunks/fragment_chunk_1xaretc2t.fasta, elim:99999999, filter:False, output:/tmp/sepp/output.0vc5g4e6/root/P_12/A_12_0/FC_12_0_1/hmmsearch.results.p0s3kmbh\n",
      "[14:43:34] jobs.py (line 131):     INFO: Finished hmmsearch Job with input: model:/tmp/sepp/output.0vc5g4e6/root/P_13/A_13_0/hmmbuild.model.ufair6n0, fragments:/tmp/sepp/output.0vc5g4e6/fragment_chunks/fragment_chunk_0mfhxafqg.fasta, elim:99999999, filter:False, output:/tmp/sepp/output.0vc5g4e6/root/P_13/A_13_0/FC_13_0_0/hmmsearch.results.sjkusero\n",
      "[14:43:35] jobs.py (line 131):     INFO: Finished hmmsearch Job with input: model:/tmp/sepp/output.0vc5g4e6/root/P_13/A_13_0/hmmbuild.model.ufair6n0, fragments:/tmp/sepp/output.0vc5g4e6/fragment_chunks/fragment_chunk_1xaretc2t.fasta, elim:99999999, filter:False, output:/tmp/sepp/output.0vc5g4e6/root/P_13/A_13_0/FC_13_0_1/hmmsearch.results.x2k2kcka\n",
      "[14:43:36] jobs.py (line 131):     INFO: Finished hmmsearch Job with input: model:/tmp/sepp/output.0vc5g4e6/root/P_13/A_13_0/hmmbuild.model.ufair6n0, fragments:/tmp/sepp/output.0vc5g4e6/fragment_chunks/fragment_chunk_20_ib3y3m.fasta, elim:99999999, filter:False, output:/tmp/sepp/output.0vc5g4e6/root/P_13/A_13_0/FC_13_0_2/hmmsearch.results.9uwigjej\n",
      "[14:43:37] jobs.py (line 131):     INFO: Finished hmmsearch Job with input: model:/tmp/sepp/output.0vc5g4e6/root/P_14/A_14_0/hmmbuild.model.nruh4iel, fragments:/tmp/sepp/output.0vc5g4e6/fragment_chunks/fragment_chunk_0mfhxafqg.fasta, elim:99999999, filter:False, output:/tmp/sepp/output.0vc5g4e6/root/P_14/A_14_0/FC_14_0_0/hmmsearch.results.tvahoamf\n",
      "[14:43:39] jobs.py (line 131):     INFO: Finished hmmsearch Job with input: model:/tmp/sepp/output.0vc5g4e6/root/P_15/A_15_0/hmmbuild.model.vo8pojxb, fragments:/tmp/sepp/output.0vc5g4e6/fragment_chunks/fragment_chunk_1xaretc2t.fasta, elim:99999999, filter:False, output:/tmp/sepp/output.0vc5g4e6/root/P_15/A_15_0/FC_15_0_1/hmmsearch.results.h9bcxwbn\n",
      "[14:43:39] jobs.py (line 131):     INFO: Finished hmmsearch Job with input: model:/tmp/sepp/output.0vc5g4e6/root/P_15/A_15_0/hmmbuild.model.vo8pojxb, fragments:/tmp/sepp/output.0vc5g4e6/fragment_chunks/fragment_chunk_0mfhxafqg.fasta, elim:99999999, filter:False, output:/tmp/sepp/output.0vc5g4e6/root/P_15/A_15_0/FC_15_0_0/hmmsearch.results.tjcsls41\n",
      "[14:43:40] jobs.py (line 131):     INFO: Finished hmmsearch Job with input: model:/tmp/sepp/output.0vc5g4e6/root/P_14/A_14_0/hmmbuild.model.nruh4iel, fragments:/tmp/sepp/output.0vc5g4e6/fragment_chunks/fragment_chunk_1xaretc2t.fasta, elim:99999999, filter:False, output:/tmp/sepp/output.0vc5g4e6/root/P_14/A_14_0/FC_14_0_1/hmmsearch.results.apn6j20b\n",
      "[14:43:40] jobs.py (line 131):     INFO: Finished hmmsearch Job with input: model:/tmp/sepp/output.0vc5g4e6/root/P_15/A_15_0/hmmbuild.model.vo8pojxb, fragments:/tmp/sepp/output.0vc5g4e6/fragment_chunks/fragment_chunk_20_ib3y3m.fasta, elim:99999999, filter:False, output:/tmp/sepp/output.0vc5g4e6/root/P_15/A_15_0/FC_15_0_2/hmmsearch.results.wx3weepd\n",
      "[14:43:40] jobs.py (line 131):     INFO: Finished hmmsearch Job with input: model:/tmp/sepp/output.0vc5g4e6/root/P_14/A_14_0/hmmbuild.model.nruh4iel, fragments:/tmp/sepp/output.0vc5g4e6/fragment_chunks/fragment_chunk_20_ib3y3m.fasta, elim:99999999, filter:False, output:/tmp/sepp/output.0vc5g4e6/root/P_14/A_14_0/FC_14_0_2/hmmsearch.results.xgrssh71\n",
      "[14:43:40] exhaustive.py (line 80):  WARNING: Fragments [] are not scored against any subset\n",
      "[14:43:40] exhaustive.py (line 151):     INFO: Merging sub-alignments for placement problem : P_0.\n",
      "[14:43:40] jobs.py (line 131):     INFO: Finished hmmalign Job with input: model:/tmp/sepp/output.0vc5g4e6/root/P_1/A_1_0/hmmbuild.model.efk5n8mi, fragments:/tmp/sepp/output.0vc5g4e6/root/P_1/A_1_0/FC_1_0_2/hmmalign.frag.v2q3tjyw.fasta, trim:False, base_alignment:/tmp/sepp/output.0vc5g4e6/root/P_1/A_1_0/hmmbuild.input.1l1lokpp.fasta\n",
      "[14:43:40] jobs.py (line 131):     INFO: Finished hmmalign Job with input: model:/tmp/sepp/output.0vc5g4e6/root/P_5/A_5_0/hmmbuild.model.xch5ujn8, fragments:/tmp/sepp/output.0vc5g4e6/root/P_5/A_5_0/FC_5_0_0/hmmalign.frag.crtyvx4_.fasta, trim:False, base_alignment:/tmp/sepp/output.0vc5g4e6/root/P_5/A_5_0/hmmbuild.input.pcsv7zfs.fasta\n",
      "[14:43:40] jobs.py (line 131):     INFO: Finished hmmalign Job with input: model:/tmp/sepp/output.0vc5g4e6/root/P_5/A_5_0/hmmbuild.model.xch5ujn8, fragments:/tmp/sepp/output.0vc5g4e6/root/P_5/A_5_0/FC_5_0_2/hmmalign.frag.bi5n44rj.fasta, trim:False, base_alignment:/tmp/sepp/output.0vc5g4e6/root/P_5/A_5_0/hmmbuild.input.pcsv7zfs.fasta\n",
      "[14:43:40] jobs.py (line 131):     INFO: Finished hmmalign Job with input: model:/tmp/sepp/output.0vc5g4e6/root/P_5/A_5_0/hmmbuild.model.xch5ujn8, fragments:/tmp/sepp/output.0vc5g4e6/root/P_5/A_5_0/FC_5_0_1/hmmalign.frag.6zbx8_22.fasta, trim:False, base_alignment:/tmp/sepp/output.0vc5g4e6/root/P_5/A_5_0/hmmbuild.input.pcsv7zfs.fasta\n",
      "[14:43:40] jobs.py (line 131):     INFO: Finished hmmalign Job with input: model:/tmp/sepp/output.0vc5g4e6/root/P_1/A_1_0/hmmbuild.model.efk5n8mi, fragments:/tmp/sepp/output.0vc5g4e6/root/P_1/A_1_0/FC_1_0_1/hmmalign.frag.quchy3h8.fasta, trim:False, base_alignment:/tmp/sepp/output.0vc5g4e6/root/P_1/A_1_0/hmmbuild.input.1l1lokpp.fasta\n",
      "[14:43:40] jobs.py (line 131):     INFO: Finished hmmalign Job with input: model:/tmp/sepp/output.0vc5g4e6/root/P_1/A_1_0/hmmbuild.model.efk5n8mi, fragments:/tmp/sepp/output.0vc5g4e6/root/P_1/A_1_0/FC_1_0_0/hmmalign.frag.io3d0p8i.fasta, trim:False, base_alignment:/tmp/sepp/output.0vc5g4e6/root/P_1/A_1_0/hmmbuild.input.1l1lokpp.fasta\n",
      "[14:43:40] exhaustive.py (line 151):     INFO: Merging sub-alignments for placement problem : P_2.\n",
      "[14:43:40] jobs.py (line 131):     INFO: Finished hmmalign Job with input: model:/tmp/sepp/output.0vc5g4e6/root/P_6/A_6_0/hmmbuild.model.yg1lb6ke, fragments:/tmp/sepp/output.0vc5g4e6/root/P_6/A_6_0/FC_6_0_2/hmmalign.frag.4145khzj.fasta, trim:False, base_alignment:/tmp/sepp/output.0vc5g4e6/root/P_6/A_6_0/hmmbuild.input.39sztys6.fasta\n",
      "[14:43:40] jobs.py (line 131):     INFO: Finished hmmalign Job with input: model:/tmp/sepp/output.0vc5g4e6/root/P_6/A_6_0/hmmbuild.model.yg1lb6ke, fragments:/tmp/sepp/output.0vc5g4e6/root/P_6/A_6_0/FC_6_0_1/hmmalign.frag.xbuz27js.fasta, trim:False, base_alignment:/tmp/sepp/output.0vc5g4e6/root/P_6/A_6_0/hmmbuild.input.39sztys6.fasta\n",
      "[14:43:40] jobs.py (line 131):     INFO: Finished hmmalign Job with input: model:/tmp/sepp/output.0vc5g4e6/root/P_6/A_6_0/hmmbuild.model.yg1lb6ke, fragments:/tmp/sepp/output.0vc5g4e6/root/P_6/A_6_0/FC_6_0_0/hmmalign.frag.7xw89pti.fasta, trim:False, base_alignment:/tmp/sepp/output.0vc5g4e6/root/P_6/A_6_0/hmmbuild.input.39sztys6.fasta\n",
      "[14:43:40] jobs.py (line 131):     INFO: Finished hmmalign Job with input: model:/tmp/sepp/output.0vc5g4e6/root/P_7/A_7_0/hmmbuild.model.6xwtnroh, fragments:/tmp/sepp/output.0vc5g4e6/root/P_7/A_7_0/FC_7_0_2/hmmalign.frag._7moizoq.fasta, trim:False, base_alignment:/tmp/sepp/output.0vc5g4e6/root/P_7/A_7_0/hmmbuild.input.8ls3kmto.fasta\n",
      "[14:43:40] jobs.py (line 131):     INFO: Finished hmmalign Job with input: model:/tmp/sepp/output.0vc5g4e6/root/P_7/A_7_0/hmmbuild.model.6xwtnroh, fragments:/tmp/sepp/output.0vc5g4e6/root/P_7/A_7_0/FC_7_0_0/hmmalign.frag.zh78odaa.fasta, trim:False, base_alignment:/tmp/sepp/output.0vc5g4e6/root/P_7/A_7_0/hmmbuild.input.8ls3kmto.fasta\n",
      "[14:43:40] exhaustive.py (line 151):     INFO: Merging sub-alignments for placement problem : P_3.\n",
      "[14:43:40] jobs.py (line 131):     INFO: Finished hmmalign Job with input: model:/tmp/sepp/output.0vc5g4e6/root/P_7/A_7_0/hmmbuild.model.6xwtnroh, fragments:/tmp/sepp/output.0vc5g4e6/root/P_7/A_7_0/FC_7_0_1/hmmalign.frag.21sodhu2.fasta, trim:False, base_alignment:/tmp/sepp/output.0vc5g4e6/root/P_7/A_7_0/hmmbuild.input.8ls3kmto.fasta\n",
      "[14:43:41] jobs.py (line 131):     INFO: Finished hmmalign Job with input: model:/tmp/sepp/output.0vc5g4e6/root/P_8/A_8_0/hmmbuild.model.cq0nt9g6, fragments:/tmp/sepp/output.0vc5g4e6/root/P_8/A_8_0/FC_8_0_1/hmmalign.frag.lo_qpk4s.fasta, trim:False, base_alignment:/tmp/sepp/output.0vc5g4e6/root/P_8/A_8_0/hmmbuild.input.mleszs0r.fasta\n",
      "[14:43:41] jobs.py (line 131):     INFO: Finished hmmalign Job with input: model:/tmp/sepp/output.0vc5g4e6/root/P_8/A_8_0/hmmbuild.model.cq0nt9g6, fragments:/tmp/sepp/output.0vc5g4e6/root/P_8/A_8_0/FC_8_0_2/hmmalign.frag.qcfmx27l.fasta, trim:False, base_alignment:/tmp/sepp/output.0vc5g4e6/root/P_8/A_8_0/hmmbuild.input.mleszs0r.fasta\n",
      "[14:43:41] jobs.py (line 131):     INFO: Finished hmmalign Job with input: model:/tmp/sepp/output.0vc5g4e6/root/P_8/A_8_0/hmmbuild.model.cq0nt9g6, fragments:/tmp/sepp/output.0vc5g4e6/root/P_8/A_8_0/FC_8_0_0/hmmalign.frag.3dhq9p65.fasta, trim:False, base_alignment:/tmp/sepp/output.0vc5g4e6/root/P_8/A_8_0/hmmbuild.input.mleszs0r.fasta\n",
      "[14:43:41] exhaustive.py (line 151):     INFO: Merging sub-alignments for placement problem : P_4.\n",
      "[14:43:41] jobs.py (line 131):     INFO: Finished hmmalign Job with input: model:/tmp/sepp/output.0vc5g4e6/root/P_10/A_10_0/hmmbuild.model.nd6igfhl, fragments:/tmp/sepp/output.0vc5g4e6/root/P_10/A_10_0/FC_10_0_0/hmmalign.frag.t39iuf5p.fasta, trim:False, base_alignment:/tmp/sepp/output.0vc5g4e6/root/P_10/A_10_0/hmmbuild.input.i08so224.fasta\n",
      "[14:43:41] jobs.py (line 131):     INFO: Finished hmmalign Job with input: model:/tmp/sepp/output.0vc5g4e6/root/P_10/A_10_0/hmmbuild.model.nd6igfhl, fragments:/tmp/sepp/output.0vc5g4e6/root/P_10/A_10_0/FC_10_0_2/hmmalign.frag.7uv1lump.fasta, trim:False, base_alignment:/tmp/sepp/output.0vc5g4e6/root/P_10/A_10_0/hmmbuild.input.i08so224.fasta\n",
      "[14:43:41] jobs.py (line 131):     INFO: Finished hmmalign Job with input: model:/tmp/sepp/output.0vc5g4e6/root/P_10/A_10_0/hmmbuild.model.nd6igfhl, fragments:/tmp/sepp/output.0vc5g4e6/root/P_10/A_10_0/FC_10_0_1/hmmalign.frag.sygyv7jo.fasta, trim:False, base_alignment:/tmp/sepp/output.0vc5g4e6/root/P_10/A_10_0/hmmbuild.input.i08so224.fasta\n",
      "[14:43:41] exhaustive.py (line 151):     INFO: Merging sub-alignments for placement problem : P_5.\n",
      "[14:43:41] alignment.py (line 556):     INFO: Merging extension sto file (/tmp/sepp/output.0vc5g4e6/root/P_5/A_5_0/FC_5_0_0/hmmalign.results.ekmp7fj4) into base alignment (/tmp/sepp/output.0vc5g4e6/root/P_5/A_5_0/hmmbuild.input.pcsv7zfs.fasta).\n",
      "[14:43:41] alignment.py (line 556):     INFO: Merging extension sto file (/tmp/sepp/output.0vc5g4e6/root/P_5/A_5_0/FC_5_0_1/hmmalign.results.gwax269r) into base alignment (/tmp/sepp/output.0vc5g4e6/root/P_5/A_5_0/hmmbuild.input.pcsv7zfs.fasta).\n",
      "[14:43:41] alignment.py (line 556):     INFO: Merging extension sto file (/tmp/sepp/output.0vc5g4e6/root/P_5/A_5_0/FC_5_0_2/hmmalign.results.o3_mt0yi) into base alignment (/tmp/sepp/output.0vc5g4e6/root/P_5/A_5_0/hmmbuild.input.pcsv7zfs.fasta).\n",
      "[14:43:41] exhaustive.py (line 151):     INFO: Merging sub-alignments for placement problem : P_1.\n",
      "[14:43:41] alignment.py (line 556):     INFO: Merging extension sto file (/tmp/sepp/output.0vc5g4e6/root/P_1/A_1_0/FC_1_0_0/hmmalign.results.kjcalnaz) into base alignment (/tmp/sepp/output.0vc5g4e6/root/P_1/A_1_0/hmmbuild.input.1l1lokpp.fasta).\n",
      "[14:43:41] alignment.py (line 556):     INFO: Merging extension sto file (/tmp/sepp/output.0vc5g4e6/root/P_1/A_1_0/FC_1_0_1/hmmalign.results.gn4ua847) into base alignment (/tmp/sepp/output.0vc5g4e6/root/P_1/A_1_0/hmmbuild.input.1l1lokpp.fasta).\n",
      "[14:43:41] alignment.py (line 556):     INFO: Merging extension sto file (/tmp/sepp/output.0vc5g4e6/root/P_1/A_1_0/FC_1_0_2/hmmalign.results.r537g2zo) into base alignment (/tmp/sepp/output.0vc5g4e6/root/P_1/A_1_0/hmmbuild.input.1l1lokpp.fasta).\n",
      "[14:43:41] jobs.py (line 131):     INFO: Finished hmmalign Job with input: model:/tmp/sepp/output.0vc5g4e6/root/P_9/A_9_0/hmmbuild.model.j8lwtwzp, fragments:/tmp/sepp/output.0vc5g4e6/root/P_9/A_9_0/FC_9_0_1/hmmalign.frag.delc39aw.fasta, trim:False, base_alignment:/tmp/sepp/output.0vc5g4e6/root/P_9/A_9_0/hmmbuild.input.m0scdrcj.fasta\n",
      "[14:43:41] jobs.py (line 131):     INFO: Finished hmmalign Job with input: model:/tmp/sepp/output.0vc5g4e6/root/P_9/A_9_0/hmmbuild.model.j8lwtwzp, fragments:/tmp/sepp/output.0vc5g4e6/root/P_9/A_9_0/FC_9_0_2/hmmalign.frag.sutgd6c5.fasta, trim:False, base_alignment:/tmp/sepp/output.0vc5g4e6/root/P_9/A_9_0/hmmbuild.input.m0scdrcj.fasta\n",
      "[14:43:41] exhaustive.py (line 151):     INFO: Merging sub-alignments for placement problem : P_6.\n",
      "[14:43:41] alignment.py (line 556):     INFO: Merging extension sto file (/tmp/sepp/output.0vc5g4e6/root/P_6/A_6_0/FC_6_0_0/hmmalign.results.b1qa9elz) into base alignment (/tmp/sepp/output.0vc5g4e6/root/P_6/A_6_0/hmmbuild.input.39sztys6.fasta).\n",
      "[14:43:41] jobs.py (line 131):     INFO: Finished hmmalign Job with input: model:/tmp/sepp/output.0vc5g4e6/root/P_9/A_9_0/hmmbuild.model.j8lwtwzp, fragments:/tmp/sepp/output.0vc5g4e6/root/P_9/A_9_0/FC_9_0_0/hmmalign.frag.jbke9soq.fasta, trim:False, base_alignment:/tmp/sepp/output.0vc5g4e6/root/P_9/A_9_0/hmmbuild.input.m0scdrcj.fasta\n",
      "[14:43:41] alignment.py (line 556):     INFO: Merging extension sto file (/tmp/sepp/output.0vc5g4e6/root/P_6/A_6_0/FC_6_0_1/hmmalign.results.to8eo9yi) into base alignment (/tmp/sepp/output.0vc5g4e6/root/P_6/A_6_0/hmmbuild.input.39sztys6.fasta).\n",
      "[14:43:41] alignment.py (line 556):     INFO: Merging extension sto file (/tmp/sepp/output.0vc5g4e6/root/P_6/A_6_0/FC_6_0_2/hmmalign.results.arqkj_nd) into base alignment (/tmp/sepp/output.0vc5g4e6/root/P_6/A_6_0/hmmbuild.input.39sztys6.fasta).\n",
      "[14:43:41] exhaustive.py (line 151):     INFO: Merging sub-alignments for placement problem : P_7.\n",
      "[14:43:41] alignment.py (line 556):     INFO: Merging extension sto file (/tmp/sepp/output.0vc5g4e6/root/P_7/A_7_0/FC_7_0_0/hmmalign.results.w3mb_1bg) into base alignment (/tmp/sepp/output.0vc5g4e6/root/P_7/A_7_0/hmmbuild.input.8ls3kmto.fasta).\n",
      "[14:43:41] alignment.py (line 556):     INFO: Merging extension sto file (/tmp/sepp/output.0vc5g4e6/root/P_7/A_7_0/FC_7_0_1/hmmalign.results.nh_9gkhb) into base alignment (/tmp/sepp/output.0vc5g4e6/root/P_7/A_7_0/hmmbuild.input.8ls3kmto.fasta).\n",
      "[14:43:41] alignment.py (line 556):     INFO: Merging extension sto file (/tmp/sepp/output.0vc5g4e6/root/P_7/A_7_0/FC_7_0_2/hmmalign.results.lemhgrfg) into base alignment (/tmp/sepp/output.0vc5g4e6/root/P_7/A_7_0/hmmbuild.input.8ls3kmto.fasta).\n",
      "[14:43:41] exhaustive.py (line 151):     INFO: Merging sub-alignments for placement problem : P_8.\n",
      "[14:43:41] alignment.py (line 556):     INFO: Merging extension sto file (/tmp/sepp/output.0vc5g4e6/root/P_8/A_8_0/FC_8_0_0/hmmalign.results.zvnz0yub) into base alignment (/tmp/sepp/output.0vc5g4e6/root/P_8/A_8_0/hmmbuild.input.mleszs0r.fasta).\n",
      "[14:43:41] alignment.py (line 556):     INFO: Merging extension sto file (/tmp/sepp/output.0vc5g4e6/root/P_8/A_8_0/FC_8_0_1/hmmalign.results.iu5l1rcl) into base alignment (/tmp/sepp/output.0vc5g4e6/root/P_8/A_8_0/hmmbuild.input.mleszs0r.fasta).\n",
      "[14:43:42] alignment.py (line 556):     INFO: Merging extension sto file (/tmp/sepp/output.0vc5g4e6/root/P_8/A_8_0/FC_8_0_2/hmmalign.results.6a6x5n3b) into base alignment (/tmp/sepp/output.0vc5g4e6/root/P_8/A_8_0/hmmbuild.input.mleszs0r.fasta).\n",
      "[14:43:42] exhaustive.py (line 151):     INFO: Merging sub-alignments for placement problem : P_10.\n",
      "[14:43:42] alignment.py (line 556):     INFO: Merging extension sto file (/tmp/sepp/output.0vc5g4e6/root/P_10/A_10_0/FC_10_0_0/hmmalign.results.23ak67f6) into base alignment (/tmp/sepp/output.0vc5g4e6/root/P_10/A_10_0/hmmbuild.input.i08so224.fasta).\n",
      "[14:43:42] alignment.py (line 556):     INFO: Merging extension sto file (/tmp/sepp/output.0vc5g4e6/root/P_10/A_10_0/FC_10_0_1/hmmalign.results.a0eoji3o) into base alignment (/tmp/sepp/output.0vc5g4e6/root/P_10/A_10_0/hmmbuild.input.i08so224.fasta).\n",
      "[14:43:42] alignment.py (line 556):     INFO: Merging extension sto file (/tmp/sepp/output.0vc5g4e6/root/P_10/A_10_0/FC_10_0_2/hmmalign.results.je63fw4q) into base alignment (/tmp/sepp/output.0vc5g4e6/root/P_10/A_10_0/hmmbuild.input.i08so224.fasta).\n",
      "[14:43:42] exhaustive.py (line 151):     INFO: Merging sub-alignments for placement problem : P_9.\n",
      "[14:43:42] alignment.py (line 556):     INFO: Merging extension sto file (/tmp/sepp/output.0vc5g4e6/root/P_9/A_9_0/FC_9_0_0/hmmalign.results.b2dg8gp_) into base alignment (/tmp/sepp/output.0vc5g4e6/root/P_9/A_9_0/hmmbuild.input.m0scdrcj.fasta).\n",
      "[14:43:42] alignment.py (line 556):     INFO: Merging extension sto file (/tmp/sepp/output.0vc5g4e6/root/P_9/A_9_0/FC_9_0_1/hmmalign.results.8_wvdsvy) into base alignment (/tmp/sepp/output.0vc5g4e6/root/P_9/A_9_0/hmmbuild.input.m0scdrcj.fasta).\n",
      "[14:43:42] alignment.py (line 556):     INFO: Merging extension sto file (/tmp/sepp/output.0vc5g4e6/root/P_9/A_9_0/FC_9_0_2/hmmalign.results.ma3453pi) into base alignment (/tmp/sepp/output.0vc5g4e6/root/P_9/A_9_0/hmmbuild.input.m0scdrcj.fasta).\n",
      "[14:43:43] jobs.py (line 131):     INFO: Finished hmmalign Job with input: model:/tmp/sepp/output.0vc5g4e6/root/P_12/A_12_0/hmmbuild.model.rb_jpt_7, fragments:/tmp/sepp/output.0vc5g4e6/root/P_12/A_12_0/FC_12_0_1/hmmalign.frag.nox2khxn.fasta, trim:False, base_alignment:/tmp/sepp/output.0vc5g4e6/root/P_12/A_12_0/hmmbuild.input.16vcszz2.fasta\n",
      "[14:43:43] jobs.py (line 131):     INFO: Finished hmmalign Job with input: model:/tmp/sepp/output.0vc5g4e6/root/P_12/A_12_0/hmmbuild.model.rb_jpt_7, fragments:/tmp/sepp/output.0vc5g4e6/root/P_12/A_12_0/FC_12_0_0/hmmalign.frag.wiks1pul.fasta, trim:False, base_alignment:/tmp/sepp/output.0vc5g4e6/root/P_12/A_12_0/hmmbuild.input.16vcszz2.fasta\n",
      "[14:43:43] jobs.py (line 131):     INFO: Finished hmmalign Job with input: model:/tmp/sepp/output.0vc5g4e6/root/P_13/A_13_0/hmmbuild.model.ufair6n0, fragments:/tmp/sepp/output.0vc5g4e6/root/P_13/A_13_0/FC_13_0_0/hmmalign.frag.b_mdjgyl.fasta, trim:False, base_alignment:/tmp/sepp/output.0vc5g4e6/root/P_13/A_13_0/hmmbuild.input.l5w_ygui.fasta\n",
      "[14:43:43] jobs.py (line 131):     INFO: Finished hmmalign Job with input: model:/tmp/sepp/output.0vc5g4e6/root/P_12/A_12_0/hmmbuild.model.rb_jpt_7, fragments:/tmp/sepp/output.0vc5g4e6/root/P_12/A_12_0/FC_12_0_2/hmmalign.frag.h2h140_9.fasta, trim:False, base_alignment:/tmp/sepp/output.0vc5g4e6/root/P_12/A_12_0/hmmbuild.input.16vcszz2.fasta\n",
      "[14:43:43] exhaustive.py (line 151):     INFO: Merging sub-alignments for placement problem : P_12.\n",
      "[14:43:43] alignment.py (line 556):     INFO: Merging extension sto file (/tmp/sepp/output.0vc5g4e6/root/P_12/A_12_0/FC_12_0_0/hmmalign.results.lggj83ya) into base alignment (/tmp/sepp/output.0vc5g4e6/root/P_12/A_12_0/hmmbuild.input.16vcszz2.fasta).\n",
      "[14:43:43] alignment.py (line 556):     INFO: Merging extension sto file (/tmp/sepp/output.0vc5g4e6/root/P_12/A_12_0/FC_12_0_1/hmmalign.results.q21rg_73) into base alignment (/tmp/sepp/output.0vc5g4e6/root/P_12/A_12_0/hmmbuild.input.16vcszz2.fasta).\n",
      "[14:43:43] alignment.py (line 556):     INFO: Merging extension sto file (/tmp/sepp/output.0vc5g4e6/root/P_12/A_12_0/FC_12_0_2/hmmalign.results.kn9xtpin) into base alignment (/tmp/sepp/output.0vc5g4e6/root/P_12/A_12_0/hmmbuild.input.16vcszz2.fasta).\n",
      "[14:43:43] jobs.py (line 131):     INFO: Finished hmmalign Job with input: model:/tmp/sepp/output.0vc5g4e6/root/P_13/A_13_0/hmmbuild.model.ufair6n0, fragments:/tmp/sepp/output.0vc5g4e6/root/P_13/A_13_0/FC_13_0_1/hmmalign.frag.h3j254hc.fasta, trim:False, base_alignment:/tmp/sepp/output.0vc5g4e6/root/P_13/A_13_0/hmmbuild.input.l5w_ygui.fasta\n",
      "[14:43:43] jobs.py (line 131):     INFO: Finished hmmalign Job with input: model:/tmp/sepp/output.0vc5g4e6/root/P_14/A_14_0/hmmbuild.model.nruh4iel, fragments:/tmp/sepp/output.0vc5g4e6/root/P_14/A_14_0/FC_14_0_0/hmmalign.frag.rj7dblhb.fasta, trim:False, base_alignment:/tmp/sepp/output.0vc5g4e6/root/P_14/A_14_0/hmmbuild.input.1akoeaxj.fasta\n",
      "[14:43:43] jobs.py (line 131):     INFO: Finished hmmalign Job with input: model:/tmp/sepp/output.0vc5g4e6/root/P_13/A_13_0/hmmbuild.model.ufair6n0, fragments:/tmp/sepp/output.0vc5g4e6/root/P_13/A_13_0/FC_13_0_2/hmmalign.frag.9ygssxyh.fasta, trim:False, base_alignment:/tmp/sepp/output.0vc5g4e6/root/P_13/A_13_0/hmmbuild.input.l5w_ygui.fasta\n",
      "[14:43:43] exhaustive.py (line 151):     INFO: Merging sub-alignments for placement problem : P_13.\n",
      "[14:43:43] jobs.py (line 131):     INFO: Finished hmmalign Job with input: model:/tmp/sepp/output.0vc5g4e6/root/P_14/A_14_0/hmmbuild.model.nruh4iel, fragments:/tmp/sepp/output.0vc5g4e6/root/P_14/A_14_0/FC_14_0_1/hmmalign.frag.22raadlh.fasta, trim:False, base_alignment:/tmp/sepp/output.0vc5g4e6/root/P_14/A_14_0/hmmbuild.input.1akoeaxj.fasta\n",
      "[14:43:43] alignment.py (line 556):     INFO: Merging extension sto file (/tmp/sepp/output.0vc5g4e6/root/P_13/A_13_0/FC_13_0_0/hmmalign.results.d_mwzlaa) into base alignment (/tmp/sepp/output.0vc5g4e6/root/P_13/A_13_0/hmmbuild.input.l5w_ygui.fasta).\n",
      "[14:43:43] jobs.py (line 131):     INFO: Finished hmmalign Job with input: model:/tmp/sepp/output.0vc5g4e6/root/P_14/A_14_0/hmmbuild.model.nruh4iel, fragments:/tmp/sepp/output.0vc5g4e6/root/P_14/A_14_0/FC_14_0_2/hmmalign.frag.jdy7ll7g.fasta, trim:False, base_alignment:/tmp/sepp/output.0vc5g4e6/root/P_14/A_14_0/hmmbuild.input.1akoeaxj.fasta\n",
      "[14:43:43] alignment.py (line 556):     INFO: Merging extension sto file (/tmp/sepp/output.0vc5g4e6/root/P_13/A_13_0/FC_13_0_1/hmmalign.results.zwbsf27c) into base alignment (/tmp/sepp/output.0vc5g4e6/root/P_13/A_13_0/hmmbuild.input.l5w_ygui.fasta).\n",
      "[14:43:43] alignment.py (line 556):     INFO: Merging extension sto file (/tmp/sepp/output.0vc5g4e6/root/P_13/A_13_0/FC_13_0_2/hmmalign.results.vrjb6359) into base alignment (/tmp/sepp/output.0vc5g4e6/root/P_13/A_13_0/hmmbuild.input.l5w_ygui.fasta).\n",
      "[14:43:43] exhaustive.py (line 151):     INFO: Merging sub-alignments for placement problem : P_15.\n",
      "[14:43:43] exhaustive.py (line 151):     INFO: Merging sub-alignments for placement problem : P_14.\n",
      "[14:43:43] alignment.py (line 556):     INFO: Merging extension sto file (/tmp/sepp/output.0vc5g4e6/root/P_14/A_14_0/FC_14_0_0/hmmalign.results.0b5lezjv) into base alignment (/tmp/sepp/output.0vc5g4e6/root/P_14/A_14_0/hmmbuild.input.1akoeaxj.fasta).\n",
      "[14:43:43] alignment.py (line 556):     INFO: Merging extension sto file (/tmp/sepp/output.0vc5g4e6/root/P_14/A_14_0/FC_14_0_1/hmmalign.results.nzdl0jjz) into base alignment (/tmp/sepp/output.0vc5g4e6/root/P_14/A_14_0/hmmbuild.input.1akoeaxj.fasta).\n",
      "[14:43:43] alignment.py (line 556):     INFO: Merging extension sto file (/tmp/sepp/output.0vc5g4e6/root/P_14/A_14_0/FC_14_0_2/hmmalign.results.h7ep4mj9) into base alignment (/tmp/sepp/output.0vc5g4e6/root/P_14/A_14_0/hmmbuild.input.1akoeaxj.fasta).\n",
      "[14:43:47] jobs.py (line 131):     INFO: Finished pplacer Job with input: backbone_alignment_file:/tmp/sepp/output.0vc5g4e6/root/P_5/pplacer.backbone.4s11hxkf.fasta, tree_file:/tmp/sepp/output.0vc5g4e6/root/P_5/pplacer.tree.zsz3exez.tre, info_file:/home/lauro/anaconda3/envs/qiime2-2021.11/lib/python3.8/site-packages/picrust2/default_files/prokaryotic/pro_ref/pro_ref.raxml_info, extended alignment:/tmp/sepp/output.0vc5g4e6/root/P_5/pplacer.extended.1.lo2v30s1.fasta, output:/tmp/sepp/output.0vc5g4e6/root/P_5/pplacer.extended.1.lo2v30s1.jplace\n",
      "[14:43:47] jobs.py (line 131):     INFO: Finished pplacer Job with input: backbone_alignment_file:/tmp/sepp/output.0vc5g4e6/root/P_5/pplacer.backbone.k0_dootm.fasta, tree_file:/tmp/sepp/output.0vc5g4e6/root/P_5/pplacer.tree.64s42_2u.tre, info_file:/home/lauro/anaconda3/envs/qiime2-2021.11/lib/python3.8/site-packages/picrust2/default_files/prokaryotic/pro_ref/pro_ref.raxml_info, extended alignment:/tmp/sepp/output.0vc5g4e6/root/P_5/pplacer.extended.2.h1qczpkl.fasta, output:/tmp/sepp/output.0vc5g4e6/root/P_5/pplacer.extended.2.h1qczpkl.jplace\n",
      "[14:43:49] jobs.py (line 131):     INFO: Finished pplacer Job with input: backbone_alignment_file:/tmp/sepp/output.0vc5g4e6/root/P_5/pplacer.backbone.2ajqvoew.fasta, tree_file:/tmp/sepp/output.0vc5g4e6/root/P_5/pplacer.tree.s__ga1ay.tre, info_file:/home/lauro/anaconda3/envs/qiime2-2021.11/lib/python3.8/site-packages/picrust2/default_files/prokaryotic/pro_ref/pro_ref.raxml_info, extended alignment:/tmp/sepp/output.0vc5g4e6/root/P_5/pplacer.extended.0.cei0l11f.fasta, output:/tmp/sepp/output.0vc5g4e6/root/P_5/pplacer.extended.0.cei0l11f.jplace\n",
      "[14:43:50] jobs.py (line 131):     INFO: Finished pplacer Job with input: backbone_alignment_file:/tmp/sepp/output.0vc5g4e6/root/P_1/pplacer.backbone.fa6699_g.fasta, tree_file:/tmp/sepp/output.0vc5g4e6/root/P_1/pplacer.tree.zqegjliq.tre, info_file:/home/lauro/anaconda3/envs/qiime2-2021.11/lib/python3.8/site-packages/picrust2/default_files/prokaryotic/pro_ref/pro_ref.raxml_info, extended alignment:/tmp/sepp/output.0vc5g4e6/root/P_1/pplacer.extended.0.ec7v8xxt.fasta, output:/tmp/sepp/output.0vc5g4e6/root/P_1/pplacer.extended.0.ec7v8xxt.jplace\n",
      "[14:43:50] jobs.py (line 131):     INFO: Finished pplacer Job with input: backbone_alignment_file:/tmp/sepp/output.0vc5g4e6/root/P_1/pplacer.backbone.hys2r6mg.fasta, tree_file:/tmp/sepp/output.0vc5g4e6/root/P_1/pplacer.tree.vqvvi867.tre, info_file:/home/lauro/anaconda3/envs/qiime2-2021.11/lib/python3.8/site-packages/picrust2/default_files/prokaryotic/pro_ref/pro_ref.raxml_info, extended alignment:/tmp/sepp/output.0vc5g4e6/root/P_1/pplacer.extended.1.60ztpxme.fasta, output:/tmp/sepp/output.0vc5g4e6/root/P_1/pplacer.extended.1.60ztpxme.jplace\n",
      "[14:43:51] jobs.py (line 131):     INFO: Finished hmmalign Job with input: model:/tmp/sepp/output.0vc5g4e6/root/P_11/A_11_0/hmmbuild.model.wqlcb_7d, fragments:/tmp/sepp/output.0vc5g4e6/root/P_11/A_11_0/FC_11_0_2/hmmalign.frag.1u2jqlx9.fasta, trim:False, base_alignment:/tmp/sepp/output.0vc5g4e6/root/P_11/A_11_0/hmmbuild.input.2xlj6wjj.fasta\n",
      "[14:43:51] jobs.py (line 131):     INFO: Finished hmmalign Job with input: model:/tmp/sepp/output.0vc5g4e6/root/P_11/A_11_0/hmmbuild.model.wqlcb_7d, fragments:/tmp/sepp/output.0vc5g4e6/root/P_11/A_11_0/FC_11_0_0/hmmalign.frag.rdcchc1t.fasta, trim:False, base_alignment:/tmp/sepp/output.0vc5g4e6/root/P_11/A_11_0/hmmbuild.input.2xlj6wjj.fasta\n",
      "[14:43:51] jobs.py (line 131):     INFO: Finished hmmalign Job with input: model:/tmp/sepp/output.0vc5g4e6/root/P_11/A_11_0/hmmbuild.model.wqlcb_7d, fragments:/tmp/sepp/output.0vc5g4e6/root/P_11/A_11_0/FC_11_0_1/hmmalign.frag.aw8pa_78.fasta, trim:False, base_alignment:/tmp/sepp/output.0vc5g4e6/root/P_11/A_11_0/hmmbuild.input.2xlj6wjj.fasta\n",
      "[14:43:51] exhaustive.py (line 151):     INFO: Merging sub-alignments for placement problem : P_11.\n",
      "[14:43:51] alignment.py (line 556):     INFO: Merging extension sto file (/tmp/sepp/output.0vc5g4e6/root/P_11/A_11_0/FC_11_0_0/hmmalign.results.ig_a7j43) into base alignment (/tmp/sepp/output.0vc5g4e6/root/P_11/A_11_0/hmmbuild.input.2xlj6wjj.fasta).\n",
      "[14:43:51] alignment.py (line 556):     INFO: Merging extension sto file (/tmp/sepp/output.0vc5g4e6/root/P_11/A_11_0/FC_11_0_1/hmmalign.results.s_7tl4o4) into base alignment (/tmp/sepp/output.0vc5g4e6/root/P_11/A_11_0/hmmbuild.input.2xlj6wjj.fasta).\n",
      "[14:43:51] alignment.py (line 556):     INFO: Merging extension sto file (/tmp/sepp/output.0vc5g4e6/root/P_11/A_11_0/FC_11_0_2/hmmalign.results.4ck044qj) into base alignment (/tmp/sepp/output.0vc5g4e6/root/P_11/A_11_0/hmmbuild.input.2xlj6wjj.fasta).\n",
      "[14:43:54] jobs.py (line 131):     INFO: Finished pplacer Job with input: backbone_alignment_file:/tmp/sepp/output.0vc5g4e6/root/P_1/pplacer.backbone.woqrief6.fasta, tree_file:/tmp/sepp/output.0vc5g4e6/root/P_1/pplacer.tree.g1tr0m2g.tre, info_file:/home/lauro/anaconda3/envs/qiime2-2021.11/lib/python3.8/site-packages/picrust2/default_files/prokaryotic/pro_ref/pro_ref.raxml_info, extended alignment:/tmp/sepp/output.0vc5g4e6/root/P_1/pplacer.extended.2.jt7g9elw.fasta, output:/tmp/sepp/output.0vc5g4e6/root/P_1/pplacer.extended.2.jt7g9elw.jplace\n",
      "[14:43:55] jobs.py (line 131):     INFO: Finished pplacer Job with input: backbone_alignment_file:/tmp/sepp/output.0vc5g4e6/root/P_6/pplacer.backbone.y4yrkp_0.fasta, tree_file:/tmp/sepp/output.0vc5g4e6/root/P_6/pplacer.tree.ilinjhzb.tre, info_file:/home/lauro/anaconda3/envs/qiime2-2021.11/lib/python3.8/site-packages/picrust2/default_files/prokaryotic/pro_ref/pro_ref.raxml_info, extended alignment:/tmp/sepp/output.0vc5g4e6/root/P_6/pplacer.extended.2.__wsuwhk.fasta, output:/tmp/sepp/output.0vc5g4e6/root/P_6/pplacer.extended.2.__wsuwhk.jplace\n",
      "[14:43:57] jobs.py (line 131):     INFO: Finished pplacer Job with input: backbone_alignment_file:/tmp/sepp/output.0vc5g4e6/root/P_7/pplacer.backbone.5mo9a5dm.fasta, tree_file:/tmp/sepp/output.0vc5g4e6/root/P_7/pplacer.tree._i2xq42m.tre, info_file:/home/lauro/anaconda3/envs/qiime2-2021.11/lib/python3.8/site-packages/picrust2/default_files/prokaryotic/pro_ref/pro_ref.raxml_info, extended alignment:/tmp/sepp/output.0vc5g4e6/root/P_7/pplacer.extended.0.6w10j89o.fasta, output:/tmp/sepp/output.0vc5g4e6/root/P_7/pplacer.extended.0.6w10j89o.jplace\n",
      "[14:43:58] jobs.py (line 131):     INFO: Finished pplacer Job with input: backbone_alignment_file:/tmp/sepp/output.0vc5g4e6/root/P_7/pplacer.backbone.ntl_3qak.fasta, tree_file:/tmp/sepp/output.0vc5g4e6/root/P_7/pplacer.tree.o7wb9b5h.tre, info_file:/home/lauro/anaconda3/envs/qiime2-2021.11/lib/python3.8/site-packages/picrust2/default_files/prokaryotic/pro_ref/pro_ref.raxml_info, extended alignment:/tmp/sepp/output.0vc5g4e6/root/P_7/pplacer.extended.1.xrjue9h8.fasta, output:/tmp/sepp/output.0vc5g4e6/root/P_7/pplacer.extended.1.xrjue9h8.jplace\n",
      "[14:43:58] jobs.py (line 131):     INFO: Finished pplacer Job with input: backbone_alignment_file:/tmp/sepp/output.0vc5g4e6/root/P_6/pplacer.backbone.z4zzdt8k.fasta, tree_file:/tmp/sepp/output.0vc5g4e6/root/P_6/pplacer.tree.x3aievnh.tre, info_file:/home/lauro/anaconda3/envs/qiime2-2021.11/lib/python3.8/site-packages/picrust2/default_files/prokaryotic/pro_ref/pro_ref.raxml_info, extended alignment:/tmp/sepp/output.0vc5g4e6/root/P_6/pplacer.extended.1.xcoki6s7.fasta, output:/tmp/sepp/output.0vc5g4e6/root/P_6/pplacer.extended.1.xcoki6s7.jplace\n",
      "[14:43:59] jobs.py (line 131):     INFO: Finished pplacer Job with input: backbone_alignment_file:/tmp/sepp/output.0vc5g4e6/root/P_8/pplacer.backbone.v0uk9wyo.fasta, tree_file:/tmp/sepp/output.0vc5g4e6/root/P_8/pplacer.tree.fywqjq2w.tre, info_file:/home/lauro/anaconda3/envs/qiime2-2021.11/lib/python3.8/site-packages/picrust2/default_files/prokaryotic/pro_ref/pro_ref.raxml_info, extended alignment:/tmp/sepp/output.0vc5g4e6/root/P_8/pplacer.extended.0.fdmjsvw1.fasta, output:/tmp/sepp/output.0vc5g4e6/root/P_8/pplacer.extended.0.fdmjsvw1.jplace\n",
      "[14:44:00] jobs.py (line 131):     INFO: Finished pplacer Job with input: backbone_alignment_file:/tmp/sepp/output.0vc5g4e6/root/P_7/pplacer.backbone.d377yoce.fasta, tree_file:/tmp/sepp/output.0vc5g4e6/root/P_7/pplacer.tree.ggp272xu.tre, info_file:/home/lauro/anaconda3/envs/qiime2-2021.11/lib/python3.8/site-packages/picrust2/default_files/prokaryotic/pro_ref/pro_ref.raxml_info, extended alignment:/tmp/sepp/output.0vc5g4e6/root/P_7/pplacer.extended.2.p39j0q2z.fasta, output:/tmp/sepp/output.0vc5g4e6/root/P_7/pplacer.extended.2.p39j0q2z.jplace\n",
      "[14:44:01] jobs.py (line 131):     INFO: Finished pplacer Job with input: backbone_alignment_file:/tmp/sepp/output.0vc5g4e6/root/P_10/pplacer.backbone.glbcugsf.fasta, tree_file:/tmp/sepp/output.0vc5g4e6/root/P_10/pplacer.tree.tvm502e5.tre, info_file:/home/lauro/anaconda3/envs/qiime2-2021.11/lib/python3.8/site-packages/picrust2/default_files/prokaryotic/pro_ref/pro_ref.raxml_info, extended alignment:/tmp/sepp/output.0vc5g4e6/root/P_10/pplacer.extended.0.ilmt7c2s.fasta, output:/tmp/sepp/output.0vc5g4e6/root/P_10/pplacer.extended.0.ilmt7c2s.jplace\n",
      "[14:44:02] jobs.py (line 131):     INFO: Finished pplacer Job with input: backbone_alignment_file:/tmp/sepp/output.0vc5g4e6/root/P_10/pplacer.backbone.5l1br8j8.fasta, tree_file:/tmp/sepp/output.0vc5g4e6/root/P_10/pplacer.tree.8_efa76h.tre, info_file:/home/lauro/anaconda3/envs/qiime2-2021.11/lib/python3.8/site-packages/picrust2/default_files/prokaryotic/pro_ref/pro_ref.raxml_info, extended alignment:/tmp/sepp/output.0vc5g4e6/root/P_10/pplacer.extended.1.qe8vezd7.fasta, output:/tmp/sepp/output.0vc5g4e6/root/P_10/pplacer.extended.1.qe8vezd7.jplace\n",
      "[14:44:02] jobs.py (line 131):     INFO: Finished pplacer Job with input: backbone_alignment_file:/tmp/sepp/output.0vc5g4e6/root/P_8/pplacer.backbone.51kte7ci.fasta, tree_file:/tmp/sepp/output.0vc5g4e6/root/P_8/pplacer.tree.ali3vw3w.tre, info_file:/home/lauro/anaconda3/envs/qiime2-2021.11/lib/python3.8/site-packages/picrust2/default_files/prokaryotic/pro_ref/pro_ref.raxml_info, extended alignment:/tmp/sepp/output.0vc5g4e6/root/P_8/pplacer.extended.1.sck12rk4.fasta, output:/tmp/sepp/output.0vc5g4e6/root/P_8/pplacer.extended.1.sck12rk4.jplace\n",
      "[14:44:03] jobs.py (line 131):     INFO: Finished pplacer Job with input: backbone_alignment_file:/tmp/sepp/output.0vc5g4e6/root/P_8/pplacer.backbone.4bsg27ue.fasta, tree_file:/tmp/sepp/output.0vc5g4e6/root/P_8/pplacer.tree.q94_120j.tre, info_file:/home/lauro/anaconda3/envs/qiime2-2021.11/lib/python3.8/site-packages/picrust2/default_files/prokaryotic/pro_ref/pro_ref.raxml_info, extended alignment:/tmp/sepp/output.0vc5g4e6/root/P_8/pplacer.extended.2.iaii8tt8.fasta, output:/tmp/sepp/output.0vc5g4e6/root/P_8/pplacer.extended.2.iaii8tt8.jplace\n",
      "[14:44:04] jobs.py (line 131):     INFO: Finished pplacer Job with input: backbone_alignment_file:/tmp/sepp/output.0vc5g4e6/root/P_6/pplacer.backbone.gmr9cvn6.fasta, tree_file:/tmp/sepp/output.0vc5g4e6/root/P_6/pplacer.tree.7v5172z4.tre, info_file:/home/lauro/anaconda3/envs/qiime2-2021.11/lib/python3.8/site-packages/picrust2/default_files/prokaryotic/pro_ref/pro_ref.raxml_info, extended alignment:/tmp/sepp/output.0vc5g4e6/root/P_6/pplacer.extended.0.dokmj_li.fasta, output:/tmp/sepp/output.0vc5g4e6/root/P_6/pplacer.extended.0.dokmj_li.jplace\n",
      "[14:44:04] jobs.py (line 131):     INFO: Finished pplacer Job with input: backbone_alignment_file:/tmp/sepp/output.0vc5g4e6/root/P_10/pplacer.backbone.mc0dxw37.fasta, tree_file:/tmp/sepp/output.0vc5g4e6/root/P_10/pplacer.tree.2rg726ul.tre, info_file:/home/lauro/anaconda3/envs/qiime2-2021.11/lib/python3.8/site-packages/picrust2/default_files/prokaryotic/pro_ref/pro_ref.raxml_info, extended alignment:/tmp/sepp/output.0vc5g4e6/root/P_10/pplacer.extended.2.7ghy0xgn.fasta, output:/tmp/sepp/output.0vc5g4e6/root/P_10/pplacer.extended.2.7ghy0xgn.jplace\n",
      "[14:44:06] jobs.py (line 131):     INFO: Finished pplacer Job with input: backbone_alignment_file:/tmp/sepp/output.0vc5g4e6/root/P_9/pplacer.backbone.d50893bv.fasta, tree_file:/tmp/sepp/output.0vc5g4e6/root/P_9/pplacer.tree.el6wvg4k.tre, info_file:/home/lauro/anaconda3/envs/qiime2-2021.11/lib/python3.8/site-packages/picrust2/default_files/prokaryotic/pro_ref/pro_ref.raxml_info, extended alignment:/tmp/sepp/output.0vc5g4e6/root/P_9/pplacer.extended.0.tl6pibbi.fasta, output:/tmp/sepp/output.0vc5g4e6/root/P_9/pplacer.extended.0.tl6pibbi.jplace\n",
      "[14:44:07] jobs.py (line 131):     INFO: Finished pplacer Job with input: backbone_alignment_file:/tmp/sepp/output.0vc5g4e6/root/P_9/pplacer.backbone.gcqoxmc2.fasta, tree_file:/tmp/sepp/output.0vc5g4e6/root/P_9/pplacer.tree.0230dvn6.tre, info_file:/home/lauro/anaconda3/envs/qiime2-2021.11/lib/python3.8/site-packages/picrust2/default_files/prokaryotic/pro_ref/pro_ref.raxml_info, extended alignment:/tmp/sepp/output.0vc5g4e6/root/P_9/pplacer.extended.2._is31od1.fasta, output:/tmp/sepp/output.0vc5g4e6/root/P_9/pplacer.extended.2._is31od1.jplace\n",
      "[14:44:11] jobs.py (line 131):     INFO: Finished pplacer Job with input: backbone_alignment_file:/tmp/sepp/output.0vc5g4e6/root/P_13/pplacer.backbone.h54hzkcg.fasta, tree_file:/tmp/sepp/output.0vc5g4e6/root/P_13/pplacer.tree.ssqjmjj0.tre, info_file:/home/lauro/anaconda3/envs/qiime2-2021.11/lib/python3.8/site-packages/picrust2/default_files/prokaryotic/pro_ref/pro_ref.raxml_info, extended alignment:/tmp/sepp/output.0vc5g4e6/root/P_13/pplacer.extended.0.8hymgghp.fasta, output:/tmp/sepp/output.0vc5g4e6/root/P_13/pplacer.extended.0.8hymgghp.jplace\n",
      "[14:44:12] jobs.py (line 131):     INFO: Finished pplacer Job with input: backbone_alignment_file:/tmp/sepp/output.0vc5g4e6/root/P_12/pplacer.backbone.pvg8jc1p.fasta, tree_file:/tmp/sepp/output.0vc5g4e6/root/P_12/pplacer.tree._ptz0r1a.tre, info_file:/home/lauro/anaconda3/envs/qiime2-2021.11/lib/python3.8/site-packages/picrust2/default_files/prokaryotic/pro_ref/pro_ref.raxml_info, extended alignment:/tmp/sepp/output.0vc5g4e6/root/P_12/pplacer.extended.0.sdpi36gv.fasta, output:/tmp/sepp/output.0vc5g4e6/root/P_12/pplacer.extended.0.sdpi36gv.jplace\n",
      "[14:44:13] jobs.py (line 131):     INFO: Finished pplacer Job with input: backbone_alignment_file:/tmp/sepp/output.0vc5g4e6/root/P_13/pplacer.backbone.lewmbigo.fasta, tree_file:/tmp/sepp/output.0vc5g4e6/root/P_13/pplacer.tree.1mmerl3u.tre, info_file:/home/lauro/anaconda3/envs/qiime2-2021.11/lib/python3.8/site-packages/picrust2/default_files/prokaryotic/pro_ref/pro_ref.raxml_info, extended alignment:/tmp/sepp/output.0vc5g4e6/root/P_13/pplacer.extended.1.l02dse7f.fasta, output:/tmp/sepp/output.0vc5g4e6/root/P_13/pplacer.extended.1.l02dse7f.jplace\n",
      "[14:44:14] jobs.py (line 131):     INFO: Finished pplacer Job with input: backbone_alignment_file:/tmp/sepp/output.0vc5g4e6/root/P_13/pplacer.backbone.rh0nwdlw.fasta, tree_file:/tmp/sepp/output.0vc5g4e6/root/P_13/pplacer.tree.eksvdd0c.tre, info_file:/home/lauro/anaconda3/envs/qiime2-2021.11/lib/python3.8/site-packages/picrust2/default_files/prokaryotic/pro_ref/pro_ref.raxml_info, extended alignment:/tmp/sepp/output.0vc5g4e6/root/P_13/pplacer.extended.2.rlp4mjlf.fasta, output:/tmp/sepp/output.0vc5g4e6/root/P_13/pplacer.extended.2.rlp4mjlf.jplace\n",
      "[14:44:14] jobs.py (line 131):     INFO: Finished pplacer Job with input: backbone_alignment_file:/tmp/sepp/output.0vc5g4e6/root/P_12/pplacer.backbone.wf311moh.fasta, tree_file:/tmp/sepp/output.0vc5g4e6/root/P_12/pplacer.tree.tg3jdrdc.tre, info_file:/home/lauro/anaconda3/envs/qiime2-2021.11/lib/python3.8/site-packages/picrust2/default_files/prokaryotic/pro_ref/pro_ref.raxml_info, extended alignment:/tmp/sepp/output.0vc5g4e6/root/P_12/pplacer.extended.1.93d4cbcx.fasta, output:/tmp/sepp/output.0vc5g4e6/root/P_12/pplacer.extended.1.93d4cbcx.jplace\n",
      "[14:44:14] jobs.py (line 131):     INFO: Finished pplacer Job with input: backbone_alignment_file:/tmp/sepp/output.0vc5g4e6/root/P_12/pplacer.backbone.5n2erbm8.fasta, tree_file:/tmp/sepp/output.0vc5g4e6/root/P_12/pplacer.tree.z44_qibg.tre, info_file:/home/lauro/anaconda3/envs/qiime2-2021.11/lib/python3.8/site-packages/picrust2/default_files/prokaryotic/pro_ref/pro_ref.raxml_info, extended alignment:/tmp/sepp/output.0vc5g4e6/root/P_12/pplacer.extended.2.sc85hiz1.fasta, output:/tmp/sepp/output.0vc5g4e6/root/P_12/pplacer.extended.2.sc85hiz1.jplace\n",
      "[14:44:15] jobs.py (line 131):     INFO: Finished pplacer Job with input: backbone_alignment_file:/tmp/sepp/output.0vc5g4e6/root/P_9/pplacer.backbone.xe84aly0.fasta, tree_file:/tmp/sepp/output.0vc5g4e6/root/P_9/pplacer.tree.l8bomwpx.tre, info_file:/home/lauro/anaconda3/envs/qiime2-2021.11/lib/python3.8/site-packages/picrust2/default_files/prokaryotic/pro_ref/pro_ref.raxml_info, extended alignment:/tmp/sepp/output.0vc5g4e6/root/P_9/pplacer.extended.1.5qcrx82d.fasta, output:/tmp/sepp/output.0vc5g4e6/root/P_9/pplacer.extended.1.5qcrx82d.jplace\n",
      "[14:44:16] jobs.py (line 131):     INFO: Finished pplacer Job with input: backbone_alignment_file:/tmp/sepp/output.0vc5g4e6/root/P_14/pplacer.backbone.5y0_mu4t.fasta, tree_file:/tmp/sepp/output.0vc5g4e6/root/P_14/pplacer.tree.74k98k3b.tre, info_file:/home/lauro/anaconda3/envs/qiime2-2021.11/lib/python3.8/site-packages/picrust2/default_files/prokaryotic/pro_ref/pro_ref.raxml_info, extended alignment:/tmp/sepp/output.0vc5g4e6/root/P_14/pplacer.extended.0.fq3wc_nl.fasta, output:/tmp/sepp/output.0vc5g4e6/root/P_14/pplacer.extended.0.fq3wc_nl.jplace\n",
      "[14:44:18] jobs.py (line 131):     INFO: Finished pplacer Job with input: backbone_alignment_file:/tmp/sepp/output.0vc5g4e6/root/P_14/pplacer.backbone.uk6jsod0.fasta, tree_file:/tmp/sepp/output.0vc5g4e6/root/P_14/pplacer.tree.2htpu0qt.tre, info_file:/home/lauro/anaconda3/envs/qiime2-2021.11/lib/python3.8/site-packages/picrust2/default_files/prokaryotic/pro_ref/pro_ref.raxml_info, extended alignment:/tmp/sepp/output.0vc5g4e6/root/P_14/pplacer.extended.1.4m4pbpn2.fasta, output:/tmp/sepp/output.0vc5g4e6/root/P_14/pplacer.extended.1.4m4pbpn2.jplace\n",
      "[14:44:19] jobs.py (line 131):     INFO: Finished pplacer Job with input: backbone_alignment_file:/tmp/sepp/output.0vc5g4e6/root/P_14/pplacer.backbone.55ppmezi.fasta, tree_file:/tmp/sepp/output.0vc5g4e6/root/P_14/pplacer.tree.qid82if5.tre, info_file:/home/lauro/anaconda3/envs/qiime2-2021.11/lib/python3.8/site-packages/picrust2/default_files/prokaryotic/pro_ref/pro_ref.raxml_info, extended alignment:/tmp/sepp/output.0vc5g4e6/root/P_14/pplacer.extended.2.2_qu13wn.fasta, output:/tmp/sepp/output.0vc5g4e6/root/P_14/pplacer.extended.2.2_qu13wn.jplace\n",
      "[14:44:47] jobs.py (line 131):     INFO: Finished pplacer Job with input: backbone_alignment_file:/tmp/sepp/output.0vc5g4e6/root/P_11/pplacer.backbone.tcd6bm80.fasta, tree_file:/tmp/sepp/output.0vc5g4e6/root/P_11/pplacer.tree.h4ll99a8.tre, info_file:/home/lauro/anaconda3/envs/qiime2-2021.11/lib/python3.8/site-packages/picrust2/default_files/prokaryotic/pro_ref/pro_ref.raxml_info, extended alignment:/tmp/sepp/output.0vc5g4e6/root/P_11/pplacer.extended.0.w1z2nlji.fasta, output:/tmp/sepp/output.0vc5g4e6/root/P_11/pplacer.extended.0.w1z2nlji.jplace\n",
      "[14:44:47] jobs.py (line 131):     INFO: Finished pplacer Job with input: backbone_alignment_file:/tmp/sepp/output.0vc5g4e6/root/P_11/pplacer.backbone.xr619yam.fasta, tree_file:/tmp/sepp/output.0vc5g4e6/root/P_11/pplacer.tree.zlpwbl58.tre, info_file:/home/lauro/anaconda3/envs/qiime2-2021.11/lib/python3.8/site-packages/picrust2/default_files/prokaryotic/pro_ref/pro_ref.raxml_info, extended alignment:/tmp/sepp/output.0vc5g4e6/root/P_11/pplacer.extended.2.hjdqkgld.fasta, output:/tmp/sepp/output.0vc5g4e6/root/P_11/pplacer.extended.2.hjdqkgld.jplace\n",
      "[14:44:49] jobs.py (line 131):     INFO: Finished pplacer Job with input: backbone_alignment_file:/tmp/sepp/output.0vc5g4e6/root/P_11/pplacer.backbone.27vnoed9.fasta, tree_file:/tmp/sepp/output.0vc5g4e6/root/P_11/pplacer.tree.xocwpp9l.tre, info_file:/home/lauro/anaconda3/envs/qiime2-2021.11/lib/python3.8/site-packages/picrust2/default_files/prokaryotic/pro_ref/pro_ref.raxml_info, extended alignment:/tmp/sepp/output.0vc5g4e6/root/P_11/pplacer.extended.1.a6txknel.fasta, output:/tmp/sepp/output.0vc5g4e6/root/P_11/pplacer.extended.1.a6txknel.jplace\n",
      "[14:44:57] jobs.py (line 131):     INFO: Finished jsonmerger Job with input: input:pipe output:/tmp/tmpb_ry_e46/picrust2_out/intermediate/place_seqs/sepp_out/output_placement.json\n",
      "[14:44:58] algorithm.py (line 195):     INFO: Current execution Finished in 129 seconds\n",
      "[14:44:58] algorithm.py (line 197):     INFO: All checkpointed executions Finished in 129 cumulative time\n",
      "\n",
      "gappa examine graft --jplace-path /tmp/tmpb_ry_e46/picrust2_out/intermediate/place_seqs/sepp_out/output_placement.json --fully-resolve --out-dir /tmp/tmpb_ry_e46/picrust2_out/intermediate/place_seqs/sepp_out\n",
      "\n",
      "mv /tmp/tmpb_ry_e46/picrust2_out/intermediate/place_seqs/sepp_out/output_placement.newick /tmp/tmpb_ry_e46/picrust2_out/out.tre\n",
      "\n",
      "Finished placing sequences on output tree: /tmp/tmpb_ry_e46/picrust2_out/out.tre\n",
      "hsp.py --tree /tmp/tmpb_ry_e46/picrust2_out/out.tre --output /tmp/tmpb_ry_e46/picrust2_out/marker_predicted_and_nsti.tsv.gz --observed_trait_table /home/lauro/anaconda3/envs/qiime2-2021.11/lib/python3.8/site-packages/picrust2/default_files/prokaryotic/16S.txt.gz --hsp_method pic --edge_exponent 0.5 --seed 100 --calculate_NSTI --processes 1 --verbose\n"
     ]
    },
    {
     "name": "stdout",
     "output_type": "stream",
     "text": [
      "\n",
      "\n",
      "\n"
     ]
    },
    {
     "name": "stderr",
     "output_type": "stream",
     "text": [
      "Rscript /home/lauro/anaconda3/envs/qiime2-2021.11/lib/python3.8/site-packages/picrust2/Rscripts/castor_nsti.R /tmp/tmpb_ry_e46/picrust2_out/out.tre /tmp/tmp19wpwj8d/known_tips.txt /tmp/tmp19wpwj8d/nsti_out.txt\n",
      "\n",
      "Rscript /home/lauro/anaconda3/envs/qiime2-2021.11/lib/python3.8/site-packages/picrust2/Rscripts/castor_hsp.R /tmp/tmpb_ry_e46/picrust2_out/out.tre /tmp/tmp84m8rktm/subset_tab_0 pic 0.5 FALSE FALSE /tmp/tmpm7aski7i/predicted_counts.txt /tmp/tmpm7aski7i/predicted_ci.txt 100\n",
      "\n",
      "\n",
      "hsp.py --tree /tmp/tmpb_ry_e46/picrust2_out/out.tre --output /tmp/tmpb_ry_e46/picrust2_out/EC_predicted.tsv.gz --observed_trait_table /home/lauro/anaconda3/envs/qiime2-2021.11/lib/python3.8/site-packages/picrust2/default_files/prokaryotic/ec.txt.gz --hsp_method pic --edge_exponent 0.5 --seed 100 --processes 6 --verbose\n"
     ]
    },
    {
     "name": "stdout",
     "output_type": "stream",
     "text": [
      "\n",
      "\n",
      "\n",
      "\n",
      "\n",
      "\n",
      "\n"
     ]
    },
    {
     "name": "stderr",
     "output_type": "stream",
     "text": [
      "Rscript /home/lauro/anaconda3/envs/qiime2-2021.11/lib/python3.8/site-packages/picrust2/Rscripts/castor_hsp.R /tmp/tmpb_ry_e46/picrust2_out/out.tre /tmp/tmptv9ewe3o/subset_tab_5 pic 0.5 FALSE FALSE /tmp/tmpex0zkq47/predicted_counts.txt /tmp/tmpex0zkq47/predicted_ci.txt 100\n",
      "\n",
      "Rscript /home/lauro/anaconda3/envs/qiime2-2021.11/lib/python3.8/site-packages/picrust2/Rscripts/castor_hsp.R /tmp/tmpb_ry_e46/picrust2_out/out.tre /tmp/tmptv9ewe3o/subset_tab_4 pic 0.5 FALSE FALSE /tmp/tmppwb4j7ji/predicted_counts.txt /tmp/tmppwb4j7ji/predicted_ci.txt 100\n",
      "\n",
      "Rscript /home/lauro/anaconda3/envs/qiime2-2021.11/lib/python3.8/site-packages/picrust2/Rscripts/castor_hsp.R /tmp/tmpb_ry_e46/picrust2_out/out.tre /tmp/tmptv9ewe3o/subset_tab_3 pic 0.5 FALSE FALSE /tmp/tmph2cbqru4/predicted_counts.txt /tmp/tmph2cbqru4/predicted_ci.txt 100\n",
      "\n",
      "Rscript /home/lauro/anaconda3/envs/qiime2-2021.11/lib/python3.8/site-packages/picrust2/Rscripts/castor_hsp.R /tmp/tmpb_ry_e46/picrust2_out/out.tre /tmp/tmptv9ewe3o/subset_tab_2 pic 0.5 FALSE FALSE /tmp/tmp7rspd0s7/predicted_counts.txt /tmp/tmp7rspd0s7/predicted_ci.txt 100\n",
      "\n",
      "Rscript /home/lauro/anaconda3/envs/qiime2-2021.11/lib/python3.8/site-packages/picrust2/Rscripts/castor_hsp.R /tmp/tmpb_ry_e46/picrust2_out/out.tre /tmp/tmptv9ewe3o/subset_tab_0 pic 0.5 FALSE FALSE /tmp/tmpr9nfku9w/predicted_counts.txt /tmp/tmpr9nfku9w/predicted_ci.txt 100\n",
      "\n",
      "Rscript /home/lauro/anaconda3/envs/qiime2-2021.11/lib/python3.8/site-packages/picrust2/Rscripts/castor_hsp.R /tmp/tmpb_ry_e46/picrust2_out/out.tre /tmp/tmptv9ewe3o/subset_tab_1 pic 0.5 FALSE FALSE /tmp/tmpmlph7n1z/predicted_counts.txt /tmp/tmpmlph7n1z/predicted_ci.txt 100\n",
      "\n",
      "\n",
      "hsp.py --tree /tmp/tmpb_ry_e46/picrust2_out/out.tre --output /tmp/tmpb_ry_e46/picrust2_out/KO_predicted.tsv.gz --observed_trait_table /home/lauro/anaconda3/envs/qiime2-2021.11/lib/python3.8/site-packages/picrust2/default_files/prokaryotic/ko.txt.gz --hsp_method pic --edge_exponent 0.5 --seed 100 --processes 6 --verbose\n"
     ]
    },
    {
     "name": "stdout",
     "output_type": "stream",
     "text": [
      "\n",
      "\n",
      "\n",
      "\n",
      "\n",
      "\n",
      "\n",
      "\n",
      "\n",
      "\n",
      "\n",
      "\n",
      "\n",
      "\n",
      "\n",
      "\n",
      "\n",
      "\n",
      "\n",
      "\n",
      "\n",
      "\n",
      "\n"
     ]
    },
    {
     "name": "stderr",
     "output_type": "stream",
     "text": [
      "Rscript /home/lauro/anaconda3/envs/qiime2-2021.11/lib/python3.8/site-packages/picrust2/Rscripts/castor_hsp.R /tmp/tmpb_ry_e46/picrust2_out/out.tre /tmp/tmp00_fz4fu/subset_tab_0 pic 0.5 FALSE FALSE /tmp/tmpksp79mgf/predicted_counts.txt /tmp/tmpksp79mgf/predicted_ci.txt 100\n",
      "\n",
      "Rscript /home/lauro/anaconda3/envs/qiime2-2021.11/lib/python3.8/site-packages/picrust2/Rscripts/castor_hsp.R /tmp/tmpb_ry_e46/picrust2_out/out.tre /tmp/tmp00_fz4fu/subset_tab_10 pic 0.5 FALSE FALSE /tmp/tmpdklxn673/predicted_counts.txt /tmp/tmpdklxn673/predicted_ci.txt 100\n",
      "\n",
      "Rscript /home/lauro/anaconda3/envs/qiime2-2021.11/lib/python3.8/site-packages/picrust2/Rscripts/castor_hsp.R /tmp/tmpb_ry_e46/picrust2_out/out.tre /tmp/tmp00_fz4fu/subset_tab_14 pic 0.5 FALSE FALSE /tmp/tmp9ath7m35/predicted_counts.txt /tmp/tmp9ath7m35/predicted_ci.txt 100\n",
      "\n",
      "Rscript /home/lauro/anaconda3/envs/qiime2-2021.11/lib/python3.8/site-packages/picrust2/Rscripts/castor_hsp.R /tmp/tmpb_ry_e46/picrust2_out/out.tre /tmp/tmp00_fz4fu/subset_tab_21 pic 0.5 FALSE FALSE /tmp/tmpdt_cxn_u/predicted_counts.txt /tmp/tmpdt_cxn_u/predicted_ci.txt 100\n",
      "\n",
      "Rscript /home/lauro/anaconda3/envs/qiime2-2021.11/lib/python3.8/site-packages/picrust2/Rscripts/castor_hsp.R /tmp/tmpb_ry_e46/picrust2_out/out.tre /tmp/tmp00_fz4fu/subset_tab_4 pic 0.5 FALSE FALSE /tmp/tmpqpp8n2yj/predicted_counts.txt /tmp/tmpqpp8n2yj/predicted_ci.txt 100\n",
      "\n",
      "Rscript /home/lauro/anaconda3/envs/qiime2-2021.11/lib/python3.8/site-packages/picrust2/Rscripts/castor_hsp.R /tmp/tmpb_ry_e46/picrust2_out/out.tre /tmp/tmp00_fz4fu/subset_tab_11 pic 0.5 FALSE FALSE /tmp/tmpjz5ievrt/predicted_counts.txt /tmp/tmpjz5ievrt/predicted_ci.txt 100\n",
      "\n",
      "Rscript /home/lauro/anaconda3/envs/qiime2-2021.11/lib/python3.8/site-packages/picrust2/Rscripts/castor_hsp.R /tmp/tmpb_ry_e46/picrust2_out/out.tre /tmp/tmp00_fz4fu/subset_tab_16 pic 0.5 FALSE FALSE /tmp/tmpsiu07ht9/predicted_counts.txt /tmp/tmpsiu07ht9/predicted_ci.txt 100\n",
      "\n",
      "Rscript /home/lauro/anaconda3/envs/qiime2-2021.11/lib/python3.8/site-packages/picrust2/Rscripts/castor_hsp.R /tmp/tmpb_ry_e46/picrust2_out/out.tre /tmp/tmp00_fz4fu/subset_tab_2 pic 0.5 FALSE FALSE /tmp/tmpm56djtmp/predicted_counts.txt /tmp/tmpm56djtmp/predicted_ci.txt 100\n",
      "\n",
      "Rscript /home/lauro/anaconda3/envs/qiime2-2021.11/lib/python3.8/site-packages/picrust2/Rscripts/castor_hsp.R /tmp/tmpb_ry_e46/picrust2_out/out.tre /tmp/tmp00_fz4fu/subset_tab_9 pic 0.5 FALSE FALSE /tmp/tmpa8xduei8/predicted_counts.txt /tmp/tmpa8xduei8/predicted_ci.txt 100\n",
      "\n",
      "Rscript /home/lauro/anaconda3/envs/qiime2-2021.11/lib/python3.8/site-packages/picrust2/Rscripts/castor_hsp.R /tmp/tmpb_ry_e46/picrust2_out/out.tre /tmp/tmp00_fz4fu/subset_tab_17 pic 0.5 FALSE FALSE /tmp/tmpbxvw353p/predicted_counts.txt /tmp/tmpbxvw353p/predicted_ci.txt 100\n",
      "\n",
      "Rscript /home/lauro/anaconda3/envs/qiime2-2021.11/lib/python3.8/site-packages/picrust2/Rscripts/castor_hsp.R /tmp/tmpb_ry_e46/picrust2_out/out.tre /tmp/tmp00_fz4fu/subset_tab_3 pic 0.5 FALSE FALSE /tmp/tmpbqkxp__u/predicted_counts.txt /tmp/tmpbqkxp__u/predicted_ci.txt 100\n",
      "\n",
      "Rscript /home/lauro/anaconda3/envs/qiime2-2021.11/lib/python3.8/site-packages/picrust2/Rscripts/castor_hsp.R /tmp/tmpb_ry_e46/picrust2_out/out.tre /tmp/tmp00_fz4fu/subset_tab_6 pic 0.5 FALSE FALSE /tmp/tmprkye6kz4/predicted_counts.txt /tmp/tmprkye6kz4/predicted_ci.txt 100\n",
      "\n",
      "Rscript /home/lauro/anaconda3/envs/qiime2-2021.11/lib/python3.8/site-packages/picrust2/Rscripts/castor_hsp.R /tmp/tmpb_ry_e46/picrust2_out/out.tre /tmp/tmp00_fz4fu/subset_tab_13 pic 0.5 FALSE FALSE /tmp/tmpp9pjsr87/predicted_counts.txt /tmp/tmpp9pjsr87/predicted_ci.txt 100\n",
      "\n",
      "Rscript /home/lauro/anaconda3/envs/qiime2-2021.11/lib/python3.8/site-packages/picrust2/Rscripts/castor_hsp.R /tmp/tmpb_ry_e46/picrust2_out/out.tre /tmp/tmp00_fz4fu/subset_tab_18 pic 0.5 FALSE FALSE /tmp/tmpipeqt4f4/predicted_counts.txt /tmp/tmpipeqt4f4/predicted_ci.txt 100\n",
      "\n",
      "Rscript /home/lauro/anaconda3/envs/qiime2-2021.11/lib/python3.8/site-packages/picrust2/Rscripts/castor_hsp.R /tmp/tmpb_ry_e46/picrust2_out/out.tre /tmp/tmp00_fz4fu/subset_tab_1 pic 0.5 FALSE FALSE /tmp/tmppthvz0fv/predicted_counts.txt /tmp/tmppthvz0fv/predicted_ci.txt 100\n",
      "\n",
      "Rscript /home/lauro/anaconda3/envs/qiime2-2021.11/lib/python3.8/site-packages/picrust2/Rscripts/castor_hsp.R /tmp/tmpb_ry_e46/picrust2_out/out.tre /tmp/tmp00_fz4fu/subset_tab_7 pic 0.5 FALSE FALSE /tmp/tmp_6qd_8di/predicted_counts.txt /tmp/tmp_6qd_8di/predicted_ci.txt 100\n",
      "\n",
      "Rscript /home/lauro/anaconda3/envs/qiime2-2021.11/lib/python3.8/site-packages/picrust2/Rscripts/castor_hsp.R /tmp/tmpb_ry_e46/picrust2_out/out.tre /tmp/tmp00_fz4fu/subset_tab_12 pic 0.5 FALSE FALSE /tmp/tmpsz2f5vfj/predicted_counts.txt /tmp/tmpsz2f5vfj/predicted_ci.txt 100\n",
      "\n",
      "Rscript /home/lauro/anaconda3/envs/qiime2-2021.11/lib/python3.8/site-packages/picrust2/Rscripts/castor_hsp.R /tmp/tmpb_ry_e46/picrust2_out/out.tre /tmp/tmp00_fz4fu/subset_tab_19 pic 0.5 FALSE FALSE /tmp/tmp_8n3fcoa/predicted_counts.txt /tmp/tmp_8n3fcoa/predicted_ci.txt 100\n",
      "\n",
      "Rscript /home/lauro/anaconda3/envs/qiime2-2021.11/lib/python3.8/site-packages/picrust2/Rscripts/castor_hsp.R /tmp/tmpb_ry_e46/picrust2_out/out.tre /tmp/tmp00_fz4fu/subset_tab_5 pic 0.5 FALSE FALSE /tmp/tmpun540xa0/predicted_counts.txt /tmp/tmpun540xa0/predicted_ci.txt 100\n",
      "\n",
      "Rscript /home/lauro/anaconda3/envs/qiime2-2021.11/lib/python3.8/site-packages/picrust2/Rscripts/castor_hsp.R /tmp/tmpb_ry_e46/picrust2_out/out.tre /tmp/tmp00_fz4fu/subset_tab_8 pic 0.5 FALSE FALSE /tmp/tmpxkpnbtb9/predicted_counts.txt /tmp/tmpxkpnbtb9/predicted_ci.txt 100\n",
      "\n",
      "Rscript /home/lauro/anaconda3/envs/qiime2-2021.11/lib/python3.8/site-packages/picrust2/Rscripts/castor_hsp.R /tmp/tmpb_ry_e46/picrust2_out/out.tre /tmp/tmp00_fz4fu/subset_tab_15 pic 0.5 FALSE FALSE /tmp/tmpg3ora646/predicted_counts.txt /tmp/tmpg3ora646/predicted_ci.txt 100\n",
      "\n",
      "Rscript /home/lauro/anaconda3/envs/qiime2-2021.11/lib/python3.8/site-packages/picrust2/Rscripts/castor_hsp.R /tmp/tmpb_ry_e46/picrust2_out/out.tre /tmp/tmp00_fz4fu/subset_tab_20 pic 0.5 FALSE FALSE /tmp/tmp0k2__drs/predicted_counts.txt /tmp/tmp0k2__drs/predicted_ci.txt 100\n",
      "\n",
      "\n",
      "Running metagenome pipeline for EC\n",
      "metagenome_pipeline.py --input /tmp/tmpb_ry_e46/intable.biom --function /tmp/tmpb_ry_e46/picrust2_out/EC_predicted.tsv.gz --min_reads 1 --min_samples 1 --out_dir /tmp/tmpb_ry_e46/picrust2_out/EC_metagenome_out --max_nsti 2 --marker /tmp/tmpb_ry_e46/picrust2_out/marker_predicted_and_nsti.tsv.gz\n"
     ]
    },
    {
     "name": "stdout",
     "output_type": "stream",
     "text": [
      "\n"
     ]
    },
    {
     "name": "stderr",
     "output_type": "stream",
     "text": [
      "All ASVs were below the max NSTI cut-off of 2.0 and so all were retained for downstream analyses.\n",
      "\n",
      "Running metagenome pipeline for KO\n",
      "metagenome_pipeline.py --input /tmp/tmpb_ry_e46/intable.biom --function /tmp/tmpb_ry_e46/picrust2_out/KO_predicted.tsv.gz --min_reads 1 --min_samples 1 --out_dir /tmp/tmpb_ry_e46/picrust2_out/KO_metagenome_out --max_nsti 2 --marker /tmp/tmpb_ry_e46/picrust2_out/marker_predicted_and_nsti.tsv.gz\n"
     ]
    },
    {
     "name": "stdout",
     "output_type": "stream",
     "text": [
      "\n",
      "Inferring pathways from predicted EC\n"
     ]
    },
    {
     "name": "stderr",
     "output_type": "stream",
     "text": [
      "All ASVs were below the max NSTI cut-off of 2.0 and so all were retained for downstream analyses.\n",
      "\n",
      "pathway_pipeline.py --input /tmp/tmpb_ry_e46/picrust2_out/EC_metagenome_out/pred_metagenome_unstrat.tsv.gz --out_dir /tmp/tmpb_ry_e46/picrust2_out/pathways_out --map /home/lauro/anaconda3/envs/qiime2-2021.11/lib/python3.8/site-packages/picrust2/default_files/pathway_mapfiles/metacyc_path2rxn_struc_filt_pro.txt --intermediate /tmp/tmpb_ry_e46/picrust2_out/intermediate/pathways --proc 6 --regroup_map /home/lauro/anaconda3/envs/qiime2-2021.11/lib/python3.8/site-packages/picrust2/default_files/pathway_mapfiles/ec_level4_to_metacyc_rxn.tsv --verbose\n"
     ]
    },
    {
     "name": "stderr",
     "output_type": "stream",
     "text": [
      "\n",
      "Wrote predicted pathway abundances and coverages to /tmp/tmpb_ry_e46/picrust2_out/pathways_out\n"
     ]
    }
   ],
   "source": [
    "need_pipeline = replace_files\n",
    "need_pipeline |= not (os.path.isfile(ec_path) and os.path.isfile(ko_path) and os.path.isfile(pathway_path))\n",
    "if need_pipeline:\n",
    "    results = picrust2.methods.full_pipeline(\n",
    "        table=tabs, \n",
    "        seq=seqs, \n",
    "        threads=6, \n",
    "        placement_tool='sepp',\n",
    "        hsp_method='pic', \n",
    "        max_nsti=2,\n",
    "        highly_verbose=True\n",
    "    )\n",
    "    ec_metagenome = results.ec_metagenome\n",
    "    ko_metagenome = results.ko_metagenome\n",
    "    pathway_abundance = results.pathway_abundance\n",
    "else:\n",
    "    ec_metagenome = Artifact.load(ec_path)\n",
    "    ko_metagenome = Artifact.load(ko_path)\n",
    "    pathway_abundance = Artifact.load(pathway_path)"
   ]
  },
  {
   "cell_type": "markdown",
   "id": "771308c4",
   "metadata": {
    "papermill": {
     "duration": 0.046746,
     "end_time": "2023-06-07T14:48:47.165380",
     "exception": false,
     "start_time": "2023-06-07T14:48:47.118634",
     "status": "completed"
    },
    "tags": []
   },
   "source": [
    "### Persist created artifacts\n",
    "\n",
    "We will define file paths and persist all artifacts. We start with `.qza` files. We will save the visualization files in sequence as `qzv` files. Finally, we save a `biom`-like file as `tsv` with brief descriptions of all functions."
   ]
  },
  {
   "cell_type": "code",
   "execution_count": 9,
   "id": "c680ab46",
   "metadata": {
    "ExecuteTime": {
     "end_time": "2022-11-09T19:20:47.646444Z",
     "start_time": "2022-11-09T19:20:47.643806Z"
    },
    "execution": {
     "iopub.execute_input": "2023-06-07T14:48:47.267996Z",
     "iopub.status.busy": "2023-06-07T14:48:47.267462Z",
     "iopub.status.idle": "2023-06-07T14:48:47.385068Z",
     "shell.execute_reply": "2023-06-07T14:48:47.384219Z"
    },
    "papermill": {
     "duration": 0.172987,
     "end_time": "2023-06-07T14:48:47.385258",
     "exception": false,
     "start_time": "2023-06-07T14:48:47.212271",
     "status": "completed"
    },
    "tags": []
   },
   "outputs": [],
   "source": [
    "if need_pipeline:\n",
    "    # Export artifact folder\n",
    "    ec_metagenome.export_data(output_dir=ec_path.split('.')[0])\n",
    "    ko_metagenome.export_data(output_dir=ko_path.split('.')[0])\n",
    "    pathway_abundance.export_data(output_dir=pathway_path.split('.')[0])\n",
    "    \n",
    "    # Save artifacts as .qza files\n",
    "    ec_metagenome.save(ec_path)\n",
    "    ko_metagenome.save(ko_path)\n",
    "    pathway_abundance.save(pathway_path)"
   ]
  },
  {
   "cell_type": "code",
   "execution_count": 10,
   "id": "d61ebec3",
   "metadata": {
    "ExecuteTime": {
     "end_time": "2022-11-09T19:20:47.687022Z",
     "start_time": "2022-11-09T19:20:47.647637Z"
    },
    "execution": {
     "iopub.execute_input": "2023-06-07T14:48:47.498381Z",
     "iopub.status.busy": "2023-06-07T14:48:47.497818Z",
     "iopub.status.idle": "2023-06-07T14:48:51.655196Z",
     "shell.execute_reply": "2023-06-07T14:48:51.654214Z"
    },
    "papermill": {
     "duration": 4.222535,
     "end_time": "2023-06-07T14:48:51.655420",
     "exception": false,
     "start_time": "2023-06-07T14:48:47.432885",
     "status": "completed"
    },
    "tags": []
   },
   "outputs": [],
   "source": [
    "need_viz = replace_files\n",
    "need_viz |= not (os.path.isfile(ec_viz_path) and os.path.isfile(ko_viz_path) and os.path.isfile(pathway_viz_path))\n",
    "if need_viz:\n",
    "    # Create visualization artifacts\n",
    "    ec_viz = summarize(table=ec_metagenome, sample_metadata=metadata_qa).visualization\n",
    "    ko_viz = summarize(table=ko_metagenome, sample_metadata=metadata_qa).visualization\n",
    "    path_viz = summarize(table=pathway_abundance, sample_metadata=metadata_qa).visualization\n",
    "\n",
    "    # Save visualization artifacts as .qzv files\n",
    "    ec_viz.save(ec_viz_path)\n",
    "    ko_viz.save(ko_viz_path)\n",
    "    path_viz.save(pathway_viz_path)"
   ]
  },
  {
   "cell_type": "code",
   "execution_count": 11,
   "id": "57f1f4d8",
   "metadata": {
    "ExecuteTime": {
     "end_time": "2022-11-09T19:20:47.704885Z",
     "start_time": "2022-11-09T19:20:47.689312Z"
    },
    "execution": {
     "iopub.execute_input": "2023-06-07T14:48:51.757878Z",
     "iopub.status.busy": "2023-06-07T14:48:51.757182Z",
     "iopub.status.idle": "2023-06-07T14:48:54.924246Z",
     "shell.execute_reply": "2023-06-07T14:48:54.925120Z"
    },
    "papermill": {
     "duration": 3.22278,
     "end_time": "2023-06-07T14:48:54.925391",
     "exception": false,
     "start_time": "2023-06-07T14:48:51.702611",
     "status": "completed"
    },
    "tags": []
   },
   "outputs": [],
   "source": [
    "need_biom = replace_files\n",
    "need_biom |= not (os.path.isfile(ec_fpath) and os.path.isfile(ko_fpath) and os.path.isfile(pathway_fpath))\n",
    "if need_biom:\n",
    "    # Convert artifact to dataframe - transposed\n",
    "    df_pathway = pathway_abundance.view(pd.DataFrame).T\n",
    "    df_ec = ec_metagenome.view(pd.DataFrame).T\n",
    "    df_ko = ko_metagenome.view(pd.DataFrame).T\n",
    "\n",
    "    # Write dataframe to a tsv file\n",
    "    df_pathway.to_csv(pathway_fpath, sep='\\t', index=True)\n",
    "    df_ec.to_csv(ec_fpath, sep='\\t', index=True)\n",
    "    df_ko.to_csv(ko_fpath, sep='\\t', index=True)\n",
    "    \n",
    "    # Put a new column with descriptions of each function's ID\n",
    "    !add_descriptions.py -i {ec_fpath} -m EC -o {ec_desc_fpath}\n",
    "    !add_descriptions.py -i {ko_fpath} -m KO -o {ko_desc_fpath}\n",
    "    !add_descriptions.py -i {pathway_fpath} -m METACYC -o {pathway_desc_fpath}"
   ]
  }
 ],
 "metadata": {
  "celltoolbar": "Edit Metadata",
  "kernelspec": {
   "display_name": "Python 3 (ipykernel)",
   "language": "python",
   "name": "python3"
  },
  "language_info": {
   "codemirror_mode": {
    "name": "ipython",
    "version": 3
   },
   "file_extension": ".py",
   "mimetype": "text/x-python",
   "name": "python",
   "nbconvert_exporter": "python",
   "pygments_lexer": "ipython3",
   "version": "3.8.12"
  },
  "papermill": {
   "default_parameters": {},
   "duration": 413.946558,
   "end_time": "2023-06-07T14:48:55.902788",
   "environment_variables": {},
   "exception": null,
   "input_path": "nb-templates/step-picrust2-analysis.ipynb",
   "output_path": "/home/lauro/nupeb/rede-micro/redemicro-ana-flavia-nutri/experiments/ana-flavia-NCxHSD-NC-trim/nb-executed-steps/step-picrust2-analysis-ana-flavia-NCxHSD-NC-trim.ipynb",
   "parameters": {
    "base_dir": "/home/lauro/nupeb/rede-micro/redemicro-ana-flavia-nutri",
    "class_col": "group-id",
    "classifier_file": "/home/lauro/nupeb/rede-micro/models/silva-138-99-nb-classifier.qza",
    "experiment_name": "ana-flavia-NCxHSD-NC-trim",
    "manifest_file": "/home/lauro/nupeb/rede-micro/redemicro-ana-flavia-nutri/data/raw/manifest/manifest-ana-flavia-NCxHSD-NC.csv",
    "metadata_file": "/home/lauro/nupeb/rede-micro/redemicro-ana-flavia-nutri/data/raw/metadata/metadata-ana-flavia-NCxHSD-NC.tsv",
    "overlap": 12,
    "phred": 20,
    "replace_files": false,
    "threads": 6,
    "top_n": 20,
    "trim": {
     "forward_primer": "CCTACGGGRSGCAGCAG",
     "overlap": 8,
     "reverse_primer": "GGACTACHVGGGTWTCTAAT"
    },
    "trunc_f": 0,
    "trunc_r": 0
   },
   "start_time": "2023-06-07T14:42:01.956230",
   "version": "2.3.4"
  }
 },
 "nbformat": 4,
 "nbformat_minor": 5
}