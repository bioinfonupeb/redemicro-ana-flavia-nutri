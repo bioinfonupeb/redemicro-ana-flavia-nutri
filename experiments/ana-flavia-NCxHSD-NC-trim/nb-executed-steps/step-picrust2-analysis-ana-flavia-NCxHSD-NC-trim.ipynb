{
 "cells": [
  {
   "cell_type": "markdown",
   "id": "0e7f2330",
   "metadata": {
    "ExecuteTime": {
     "end_time": "2022-09-22T19:36:33.828188Z",
     "start_time": "2022-09-22T19:36:33.817323Z"
    },
    "papermill": {
     "duration": 0.042684,
     "end_time": "2023-09-04T18:52:53.695004",
     "exception": false,
     "start_time": "2023-09-04T18:52:53.652320",
     "status": "completed"
    },
    "tags": []
   },
   "source": [
    "### STEP : PICRUST2 Analysis\n",
    "\n",
    "\n",
    "\n",
    "#### Example\n",
    "\n",
    "- [PICRUST2 tutorial](https://github.com/picrust/picrust2/wiki/q2-picrust2-Tutorial)\n",
    "- [Limitations](https://github.com/picrust/picrust2/wiki/Key-Limitations)\n",
    "\n",
    "\n",
    "#### Methods\n",
    "- [composition](https://docs.qiime2.org/2022.8/plugins/available/composition/)"
   ]
  },
  {
   "cell_type": "markdown",
   "id": "843debbf",
   "metadata": {
    "papermill": {
     "duration": 0.039812,
     "end_time": "2023-09-04T18:52:53.805466",
     "exception": false,
     "start_time": "2023-09-04T18:52:53.765654",
     "status": "completed"
    },
    "tags": []
   },
   "source": [
    "## Setup and settings"
   ]
  },
  {
   "cell_type": "code",
   "execution_count": 1,
   "id": "965e28e5",
   "metadata": {
    "ExecuteTime": {
     "end_time": "2022-11-09T19:20:47.478806Z",
     "start_time": "2022-11-09T19:20:40.457657Z"
    },
    "execution": {
     "iopub.execute_input": "2023-09-04T18:52:53.895301Z",
     "iopub.status.busy": "2023-09-04T18:52:53.894783Z",
     "iopub.status.idle": "2023-09-04T18:53:00.753865Z",
     "shell.execute_reply": "2023-09-04T18:53:00.752753Z"
    },
    "papermill": {
     "duration": 6.9003,
     "end_time": "2023-09-04T18:53:00.754106",
     "exception": false,
     "start_time": "2023-09-04T18:52:53.853806",
     "status": "completed"
    },
    "tags": []
   },
   "outputs": [],
   "source": [
    "# Importing packages\n",
    "import os\n",
    "import biom\n",
    "import pandas as pd\n",
    "from qiime2 import Artifact\n",
    "from qiime2 import Visualization\n",
    "from qiime2 import Metadata\n",
    "\n",
    "from qiime2.plugins.feature_table.visualizers import summarize\n",
    "\n",
    "from picrust2.pipeline import full_pipeline\n",
    "from picrust2.default import (default_ref_dir, default_tables, default_regroup_map, default_pathway_map)\n",
    "from qiime2.plugins import picrust2\n",
    "from qiime2.plugins.feature_table.methods import filter_samples\n",
    "from qiime2.plugins.feature_table.methods import filter_seqs\n",
    "\n",
    "%matplotlib inline"
   ]
  },
  {
   "cell_type": "markdown",
   "id": "530ceb60",
   "metadata": {
    "papermill": {
     "duration": 0.029903,
     "end_time": "2023-09-04T18:53:00.820316",
     "exception": false,
     "start_time": "2023-09-04T18:53:00.790413",
     "status": "completed"
    },
    "tags": []
   },
   "source": [
    "### Receiving the parameters\n",
    "\n",
    "The following cell can receive parameters using the [papermill](https://papermill.readthedocs.io/en/latest/) tool."
   ]
  },
  {
   "cell_type": "code",
   "execution_count": 2,
   "id": "18d874ea",
   "metadata": {
    "ExecuteTime": {
     "end_time": "2022-11-09T19:20:47.483140Z",
     "start_time": "2022-11-09T19:20:47.480386Z"
    },
    "execution": {
     "iopub.execute_input": "2023-09-04T18:53:00.885913Z",
     "iopub.status.busy": "2023-09-04T18:53:00.885401Z",
     "iopub.status.idle": "2023-09-04T18:53:00.887766Z",
     "shell.execute_reply": "2023-09-04T18:53:00.887329Z"
    },
    "papermill": {
     "duration": 0.037548,
     "end_time": "2023-09-04T18:53:00.887866",
     "exception": false,
     "start_time": "2023-09-04T18:53:00.850318",
     "status": "completed"
    },
    "tags": [
     "parameters"
    ]
   },
   "outputs": [],
   "source": [
    "metadata_file = '/home/lauro/nupeb/rede-micro/redemicro-miliane-nutri/data/raw/metadata/miliane-metadata-CxAC.tsv'\n",
    "base_dir = os.path.join('/', 'home', 'lauro', 'nupeb', 'rede-micro', 'redemicro-miliane-nutri')\n",
    "experiment_name = 'miliane-CxAC-trim'\n",
    "class_col = 'group-id'\n",
    "replace_files = False"
   ]
  },
  {
   "cell_type": "code",
   "execution_count": 3,
   "id": "bf2b1946",
   "metadata": {
    "execution": {
     "iopub.execute_input": "2023-09-04T18:53:00.954910Z",
     "iopub.status.busy": "2023-09-04T18:53:00.954411Z",
     "iopub.status.idle": "2023-09-04T18:53:00.956459Z",
     "shell.execute_reply": "2023-09-04T18:53:00.956865Z"
    },
    "papermill": {
     "duration": 0.037918,
     "end_time": "2023-09-04T18:53:00.956973",
     "exception": false,
     "start_time": "2023-09-04T18:53:00.919055",
     "status": "completed"
    },
    "tags": [
     "injected-parameters"
    ]
   },
   "outputs": [],
   "source": [
    "# Parameters\n",
    "experiment_name = \"ana-flavia-NCxHSD-NC-trim\"\n",
    "base_dir = \"/home/lauro/nupeb/rede-micro/redemicro-ana-flavia-nutri\"\n",
    "manifest_file = \"/home/lauro/nupeb/rede-micro/redemicro-ana-flavia-nutri/data/raw/manifest/manifest-ana-flavia-NCxHSD-NC.csv\"\n",
    "metadata_file = \"/home/lauro/nupeb/rede-micro/redemicro-ana-flavia-nutri/data/raw/metadata/metadata-ana-flavia-NCxHSD-NC.tsv\"\n",
    "class_col = \"group-id\"\n",
    "classifier_file = \"/home/lauro/nupeb/rede-micro/models/silva-138-99-nb-classifier.qza\"\n",
    "top_n = 20\n",
    "replace_files = False\n",
    "phred = 20\n",
    "trunc_f = 0\n",
    "trunc_r = 0\n",
    "overlap = 12\n",
    "threads = 6\n",
    "trim = {\n",
    "    \"overlap\": 8,\n",
    "    \"forward_primer\": \"CCTACGGGRSGCAGCAG\",\n",
    "    \"reverse_primer\": \"GGACTACHVGGGTWTCTAAT\",\n",
    "}\n"
   ]
  },
  {
   "cell_type": "code",
   "execution_count": 4,
   "id": "f38617d9",
   "metadata": {
    "ExecuteTime": {
     "end_time": "2022-11-09T19:20:47.515942Z",
     "start_time": "2022-11-09T19:20:47.498345Z"
    },
    "execution": {
     "iopub.execute_input": "2023-09-04T18:53:01.021565Z",
     "iopub.status.busy": "2023-09-04T18:53:01.021152Z",
     "iopub.status.idle": "2023-09-04T18:53:01.023787Z",
     "shell.execute_reply": "2023-09-04T18:53:01.023415Z"
    },
    "papermill": {
     "duration": 0.036977,
     "end_time": "2023-09-04T18:53:01.023867",
     "exception": false,
     "start_time": "2023-09-04T18:53:00.986890",
     "status": "completed"
    },
    "tags": []
   },
   "outputs": [],
   "source": [
    "experiment_folder = os.path.abspath(os.path.join(base_dir, 'experiments', experiment_name))\n",
    "img_folder = os.path.abspath(os.path.join(experiment_folder, 'imgs'))"
   ]
  },
  {
   "cell_type": "markdown",
   "id": "ea9b90fb",
   "metadata": {
    "papermill": {
     "duration": 0.027486,
     "end_time": "2023-09-04T18:53:01.079879",
     "exception": false,
     "start_time": "2023-09-04T18:53:01.052393",
     "status": "completed"
    },
    "tags": []
   },
   "source": [
    "### Defining names, paths and flags"
   ]
  },
  {
   "cell_type": "code",
   "execution_count": 5,
   "id": "45727eef",
   "metadata": {
    "ExecuteTime": {
     "end_time": "2022-11-09T19:20:47.527937Z",
     "start_time": "2022-11-09T19:20:47.517696Z"
    },
    "execution": {
     "iopub.execute_input": "2023-09-04T18:53:01.143673Z",
     "iopub.status.busy": "2023-09-04T18:53:01.143199Z",
     "iopub.status.idle": "2023-09-04T18:53:01.151407Z",
     "shell.execute_reply": "2023-09-04T18:53:01.151793Z"
    },
    "papermill": {
     "duration": 0.042313,
     "end_time": "2023-09-04T18:53:01.151899",
     "exception": false,
     "start_time": "2023-09-04T18:53:01.109586",
     "status": "completed"
    },
    "tags": []
   },
   "outputs": [
    {
     "name": "stdout",
     "output_type": "stream",
     "text": [
      "New picrust2-artifacts folder path created: /home/lauro/nupeb/rede-micro/redemicro-ana-flavia-nutri/experiments/ana-flavia-NCxHSD-NC-trim/picrust2\n"
     ]
    }
   ],
   "source": [
    "# QIIME2 Artifacts folder\n",
    "qiime_folder = os.path.join(experiment_folder, 'qiime-artifacts')\n",
    "\n",
    "# Input - DADA2 Artifacts\n",
    "dada2_tabs_path = os.path.join(qiime_folder, 'dada2-tabs.qza')\n",
    "dada2_reqs_path = os.path.join(qiime_folder, 'dada2-reps.qza')\n",
    "\n",
    "# PICRUST@ folder\n",
    "picrust2_folder = os.path.abspath(os.path.join(experiment_folder, 'picrust2'))\n",
    "\n",
    "# Create path if it not exist\n",
    "if not os.path.isdir(picrust2_folder):\n",
    "    os.makedirs(picrust2_folder)\n",
    "    print(f'New picrust2-artifacts folder path created: {picrust2_folder}')"
   ]
  },
  {
   "cell_type": "code",
   "execution_count": 6,
   "id": "4903e645",
   "metadata": {
    "ExecuteTime": {
     "end_time": "2022-11-09T19:20:47.539993Z",
     "start_time": "2022-11-09T19:20:47.529653Z"
    },
    "execution": {
     "iopub.execute_input": "2023-09-04T18:53:01.222594Z",
     "iopub.status.busy": "2023-09-04T18:53:01.222090Z",
     "iopub.status.idle": "2023-09-04T18:53:01.223761Z",
     "shell.execute_reply": "2023-09-04T18:53:01.224154Z"
    },
    "papermill": {
     "duration": 0.040744,
     "end_time": "2023-09-04T18:53:01.224261",
     "exception": false,
     "start_time": "2023-09-04T18:53:01.183517",
     "status": "completed"
    },
    "tags": []
   },
   "outputs": [],
   "source": [
    "# Define paths for metagenome function artifacts\n",
    "ec_path = os.path.join(picrust2_folder, 'ec-pred-metagen.qza')\n",
    "ko_path = os.path.join(picrust2_folder, 'ko-pred-metagen.qza')\n",
    "pathway_path = os.path.join(picrust2_folder, 'pathway-abundance.qza')\n",
    "\n",
    "# Define paths for metagenome function visualization artifacts\n",
    "ec_viz_path = ec_path[:-1]+'v'\n",
    "ko_viz_path = ko_path[:-1]+'v'\n",
    "pathway_viz_path = pathway_path[:-1]+'v'\n",
    "\n",
    "# Define paths for biom -> tsv files (function X sample)\n",
    "pathway_fpath = os.path.join(picrust2_folder, 'pathway.tsv')\n",
    "ec_fpath = os.path.join(picrust2_folder, 'ec.tsv')\n",
    "ko_fpath = os.path.join(picrust2_folder, 'ko.tsv')\n",
    "\n",
    "# Define paths for biom -> tsv files (function X sample) - with descriptions\n",
    "pathway_desc_fpath = os.path.join(picrust2_folder, 'pathway-desc.tsv')\n",
    "ec_desc_fpath = os.path.join(picrust2_folder, 'ec-desc.tsv')\n",
    "ko_desc_fpath = os.path.join(picrust2_folder, 'ko-desc.tsv')"
   ]
  },
  {
   "cell_type": "markdown",
   "id": "0999a1b2",
   "metadata": {
    "papermill": {
     "duration": 0.031112,
     "end_time": "2023-09-04T18:53:01.287537",
     "exception": false,
     "start_time": "2023-09-04T18:53:01.256425",
     "status": "completed"
    },
    "tags": []
   },
   "source": [
    "## Step execution\n",
    "\n",
    "### Load input files\n",
    "\n",
    "This Step import the QIIME2 `FeatureTable[Frequency]` Artifact and the `Metadata` file."
   ]
  },
  {
   "cell_type": "code",
   "execution_count": 7,
   "id": "8f299d1a",
   "metadata": {
    "ExecuteTime": {
     "end_time": "2022-11-09T19:20:47.610793Z",
     "start_time": "2022-11-09T19:20:47.541540Z"
    },
    "execution": {
     "iopub.execute_input": "2023-09-04T18:53:01.354970Z",
     "iopub.status.busy": "2023-09-04T18:53:01.354467Z",
     "iopub.status.idle": "2023-09-04T18:53:01.397741Z",
     "shell.execute_reply": "2023-09-04T18:53:01.397141Z"
    },
    "papermill": {
     "duration": 0.078911,
     "end_time": "2023-09-04T18:53:01.397890",
     "exception": false,
     "start_time": "2023-09-04T18:53:01.318979",
     "status": "completed"
    },
    "tags": []
   },
   "outputs": [],
   "source": [
    "#Load Metadata\n",
    "metadata_qa = Metadata.load(metadata_file)\n",
    "\n",
    "#Load FeatureTable[Frequency]\n",
    "tabs = Artifact.load(dada2_tabs_path)\n",
    "\n",
    "#Load FeatureTable[Sequence]\n",
    "seqs = Artifact.load(dada2_reqs_path)"
   ]
  },
  {
   "cell_type": "code",
   "execution_count": 8,
   "id": "9b699dee",
   "metadata": {
    "execution": {
     "iopub.execute_input": "2023-09-04T18:53:01.469870Z",
     "iopub.status.busy": "2023-09-04T18:53:01.469366Z",
     "iopub.status.idle": "2023-09-04T18:53:02.352256Z",
     "shell.execute_reply": "2023-09-04T18:53:02.351306Z"
    },
    "papermill": {
     "duration": 0.920629,
     "end_time": "2023-09-04T18:53:02.352466",
     "exception": false,
     "start_time": "2023-09-04T18:53:01.431837",
     "status": "completed"
    },
    "tags": []
   },
   "outputs": [],
   "source": [
    "# Filter FeatureTable[Frequency | RelativeFrequency | PresenceAbsence | Composition] based on Metadata sample ID values\n",
    "tabs = filter_samples(\n",
    "    table=tabs,\n",
    "    metadata=metadata_qa,\n",
    ").filtered_table\n",
    "# Filter SampleData[SequencesWithQuality | PairedEndSequencesWithQuality | JoinedSequencesWithQuality] based on Metadata sample ID values; returns FeatureData[Sequence | AlignedSequence]\n",
    "seqs = filter_seqs(\n",
    "    data=seqs,\n",
    "    table=tabs,\n",
    ").filtered_data"
   ]
  },
  {
   "cell_type": "markdown",
   "id": "4f1b06d4",
   "metadata": {
    "papermill": {
     "duration": 0.032599,
     "end_time": "2023-09-04T18:53:02.424962",
     "exception": false,
     "start_time": "2023-09-04T18:53:02.392363",
     "status": "completed"
    },
    "tags": []
   },
   "source": [
    "### Execute full pipelie\n",
    "\n",
    "The entire PICRUSt2 pipeline will be run using a single method, called `picrust2.methods.full_pipeline`. This method will run each of the 4 key steps: \n",
    "\n",
    "1. sequence placement\n",
    "2. hidden-state prediction of genomes\n",
    "3. metagenome prediction\n",
    "4. pathway-level predictions.\n",
    "\n",
    "More information on [Documentation](https://github.com/picrust/picrust2/wiki/Full-pipeline-script)."
   ]
  },
  {
   "cell_type": "code",
   "execution_count": 9,
   "id": "2c4f3874",
   "metadata": {
    "ExecuteTime": {
     "end_time": "2022-11-09T19:20:47.642417Z",
     "start_time": "2022-11-09T19:20:47.612547Z"
    },
    "execution": {
     "iopub.execute_input": "2023-09-04T18:53:02.494543Z",
     "iopub.status.busy": "2023-09-04T18:53:02.494035Z",
     "iopub.status.idle": "2023-09-04T18:59:40.999863Z",
     "shell.execute_reply": "2023-09-04T18:59:41.000760Z"
    },
    "papermill": {
     "duration": 398.544389,
     "end_time": "2023-09-04T18:59:41.001033",
     "exception": false,
     "start_time": "2023-09-04T18:53:02.456644",
     "status": "completed"
    },
    "scrolled": true,
    "tags": []
   },
   "outputs": [
    {
     "name": "stderr",
     "output_type": "stream",
     "text": [
      "876 of 876 sequence ids overlap between input table and FASTA.\n",
      "\n",
      "Placing sequences onto reference tree\n",
      "place_seqs.py --study_fasta /tmp/tmpgqnfzc7i/seqs.fna --ref_dir /home/lauro/anaconda3/envs/qiime2-2021.11/lib/python3.8/site-packages/picrust2/default_files/prokaryotic/pro_ref --out_tree /tmp/tmpgqnfzc7i/picrust2_out/out.tre --processes 6 --intermediate /tmp/tmpgqnfzc7i/picrust2_out/intermediate/place_seqs --min_align 0.8 --chunk_size 5000 --placement_tool sepp --verbose\n"
     ]
    },
    {
     "name": "stdout",
     "output_type": "stream",
     "text": [
      "\n",
      "['run_sepp.py', '--tree', '/home/lauro/anaconda3/envs/qiime2-2021.11/lib/python3.8/site-packages/picrust2/default_files/prokaryotic/pro_ref/pro_ref.tre', '--raxml', '/home/lauro/anaconda3/envs/qiime2-2021.11/lib/python3.8/site-packages/picrust2/default_files/prokaryotic/pro_ref/pro_ref.raxml_info', '--cpu', '6', '--molecule', 'dna', '--outdir', '/tmp/tmpgqnfzc7i/picrust2_out/intermediate/place_seqs/sepp_out', '-seed', '297834', '--alignment', '/home/lauro/anaconda3/envs/qiime2-2021.11/lib/python3.8/site-packages/picrust2/default_files/prokaryotic/pro_ref/pro_ref.fna', '--fragment', '/tmp/tmpgqnfzc7i/picrust2_out/intermediate/place_seqs/study_seqs_filtered.fasta']\n",
      "\n",
      "                                              ....      ....  \n",
      "                                             '' '||.   .||'   \n",
      "                                                  ||  ||      \n",
      "                                                  '|.|'       \n",
      "     ...'   ....   ... ...  ... ...   ....        .|'|.       \n",
      "    |  ||  '' .||   ||'  ||  ||'  || '' .||      .|'  ||      \n",
      "     |''   .|' ||   ||    |  ||    | .|' ||     .|'|.  ||     \n",
      "    '....  '|..'|'. ||...'   ||...'  '|..'|.    '||'    ||:.  \n",
      "    '....'          ||       ||                               \n",
      "                   ''''     ''''   v0.6.1 (c) 2017-2020\n",
      "                                   by Lucas Czech and Pierre Barbera\n",
      "\n",
      "Invocation:                        gappa examine graft --jplace-path /tmp/tmpgqnfzc7i/picrust2_out/intermediate/place_seqs/sepp_out/output_placement.json --fully-resolve --out-dir /tmp/tmpgqnfzc7i/picrust2_out/intermediate/place_seqs/sepp_out\n",
      "Command:                           gappa examine graft\n",
      "\n",
      "Input:\n",
      "  --jplace-path                    /tmp/tmpgqnfzc7i/picrust2_out/intermediate/place_seqs/sepp_out/output_placement.json\n",
      "\n",
      "Settings:\n",
      "  --fully-resolve                  true\n",
      "  --name-prefix\n",
      "\n",
      "Output:\n",
      "  --out-dir                        /tmp/tmpgqnfzc7i/picrust2_out/intermediate/place_seqs/sepp_out\n",
      "  --file-prefix                    \n",
      "  --file-suffix\n",
      "\n",
      "Global Options:\n",
      "  --allow-file-overwriting         false\n",
      "  --verbose                        false\n",
      "  --threads                        4\n",
      "  --log-file\n",
      "\n",
      "Run the following command to get the references that need to be cited:\n",
      "`gappa tools citation Czech2020-genesis-and-gappa`\n",
      "\n",
      "Started 2023-09-04 18:55:52\n",
      "\n",
      "Found 1 jplace file\n",
      "\n",
      "Finished 2023-09-04 18:55:53\n",
      "\n",
      "\n"
     ]
    },
    {
     "name": "stderr",
     "output_type": "stream",
     "text": [
      "hmmalign --trim --dna --mapali /home/lauro/anaconda3/envs/qiime2-2021.11/lib/python3.8/site-packages/picrust2/default_files/prokaryotic/pro_ref/pro_ref.fna --informat FASTA -o /tmp/tmpgqnfzc7i/picrust2_out/intermediate/place_seqs/query_align.stockholm /home/lauro/anaconda3/envs/qiime2-2021.11/lib/python3.8/site-packages/picrust2/default_files/prokaryotic/pro_ref/pro_ref.hmm /tmp/tmpgqnfzc7i/seqs.fna\n",
      "\n",
      "Raw input sequences ranged in length from 403 to 430\n",
      "\n",
      "run_sepp.py --tree /home/lauro/anaconda3/envs/qiime2-2021.11/lib/python3.8/site-packages/picrust2/default_files/prokaryotic/pro_ref/pro_ref.tre --raxml /home/lauro/anaconda3/envs/qiime2-2021.11/lib/python3.8/site-packages/picrust2/default_files/prokaryotic/pro_ref/pro_ref.raxml_info --cpu 6 --molecule dna --outdir /tmp/tmpgqnfzc7i/picrust2_out/intermediate/place_seqs/sepp_out -seed 297834 --alignment /home/lauro/anaconda3/envs/qiime2-2021.11/lib/python3.8/site-packages/picrust2/default_files/prokaryotic/pro_ref/pro_ref.fna --fragment /tmp/tmpgqnfzc7i/picrust2_out/intermediate/place_seqs/study_seqs_filtered.fasta\n",
      "[18:53:39] config.py (line 349):     INFO: Seed number: 297834\n",
      "[18:53:39] algorithm.py (line 258):     INFO: Reading input alignment: <_io.TextIOWrapper name='/home/lauro/anaconda3/envs/qiime2-2021.11/lib/python3.8/site-packages/picrust2/default_files/prokaryotic/pro_ref/pro_ref.fna' mode='r' encoding='UTF-8'>\n",
      "[18:53:39] algorithm.py (line 265):     INFO: Reading input tree: <_io.TextIOWrapper name='/home/lauro/anaconda3/envs/qiime2-2021.11/lib/python3.8/site-packages/picrust2/default_files/prokaryotic/pro_ref/pro_ref.tre' mode='r' encoding='UTF-8'>\n",
      "[18:53:41] algorithm.py (line 238):     INFO: Decomposition Sizes are set to alignment: 2000 placement: 2000\n",
      "[18:53:43] exhaustive.py (line 350):     INFO: Breaking into 16 placement subsets.\n",
      "[18:53:45] exhaustive.py (line 397):     INFO: Breaking into 16 alignment subsets.\n",
      "[18:53:45] filemgr.py (line 129):     INFO: Root temp directory built: /tmp/sepp/output.vc27tasf\n",
      "[18:53:45] exhaustive.py (line 412):     INFO: Breaking each alignment subset into 3 fragment chunks.\n",
      "[18:53:46] jobs.py (line 131):     INFO: Finished hmmbuild Job with input: /tmp/sepp/output.vc27tasf/root/P_4/A_4_0/hmmbuild.input.a3bhpzj5.fasta\n",
      "[18:53:46] jobs.py (line 131):     INFO: Finished hmmbuild Job with input: /tmp/sepp/output.vc27tasf/root/P_5/A_5_0/hmmbuild.input.mnoar61s.fasta\n",
      "[18:53:46] jobs.py (line 131):     INFO: Finished hmmbuild Job with input: /tmp/sepp/output.vc27tasf/root/P_2/A_2_0/hmmbuild.input.zm_wr21e.fasta\n",
      "[18:53:46] jobs.py (line 131):     INFO: Finished hmmbuild Job with input: /tmp/sepp/output.vc27tasf/root/P_1/A_1_0/hmmbuild.input.dzc4j942.fasta\n",
      "[18:53:46] jobs.py (line 131):     INFO: Finished hmmbuild Job with input: /tmp/sepp/output.vc27tasf/root/P_3/A_3_0/hmmbuild.input.3y0fzz8t.fasta\n",
      "[18:53:46] jobs.py (line 131):     INFO: Finished hmmbuild Job with input: /tmp/sepp/output.vc27tasf/root/P_0/A_0_0/hmmbuild.input.rrk4bufd.fasta\n",
      "[18:53:47] jobs.py (line 131):     INFO: Finished hmmbuild Job with input: /tmp/sepp/output.vc27tasf/root/P_10/A_10_0/hmmbuild.input.f2y43ze9.fasta\n",
      "[18:53:47] jobs.py (line 131):     INFO: Finished hmmbuild Job with input: /tmp/sepp/output.vc27tasf/root/P_7/A_7_0/hmmbuild.input.8eoma4ed.fasta\n",
      "[18:53:47] jobs.py (line 131):     INFO: Finished hmmbuild Job with input: /tmp/sepp/output.vc27tasf/root/P_9/A_9_0/hmmbuild.input.jflbr5gt.fasta\n",
      "[18:53:47] jobs.py (line 131):     INFO: Finished hmmbuild Job with input: /tmp/sepp/output.vc27tasf/root/P_11/A_11_0/hmmbuild.input.0zrt_loi.fasta\n",
      "[18:53:47] jobs.py (line 131):     INFO: Finished hmmbuild Job with input: /tmp/sepp/output.vc27tasf/root/P_8/A_8_0/hmmbuild.input.wwjuhp06.fasta\n",
      "[18:53:47] jobs.py (line 131):     INFO: Finished hmmbuild Job with input: /tmp/sepp/output.vc27tasf/root/P_6/A_6_0/hmmbuild.input.r6c5fif8.fasta\n",
      "[18:53:48] jobs.py (line 131):     INFO: Finished hmmbuild Job with input: /tmp/sepp/output.vc27tasf/root/P_12/A_12_0/hmmbuild.input.htp_uaob.fasta\n",
      "[18:53:48] jobs.py (line 131):     INFO: Finished hmmbuild Job with input: /tmp/sepp/output.vc27tasf/root/P_13/A_13_0/hmmbuild.input.75472x4y.fasta\n",
      "[18:53:48] jobs.py (line 131):     INFO: Finished hmmbuild Job with input: /tmp/sepp/output.vc27tasf/root/P_14/A_14_0/hmmbuild.input.js77knce.fasta\n",
      "[18:53:48] jobs.py (line 131):     INFO: Finished hmmbuild Job with input: /tmp/sepp/output.vc27tasf/root/P_15/A_15_0/hmmbuild.input.97ai_2si.fasta\n",
      "[18:53:51] jobs.py (line 131):     INFO: Finished hmmsearch Job with input: model:/tmp/sepp/output.vc27tasf/root/P_4/A_4_0/hmmbuild.model.nj_3en3l, fragments:/tmp/sepp/output.vc27tasf/fragment_chunks/fragment_chunk_0mxeo3yqn.fasta, elim:99999999, filter:False, output:/tmp/sepp/output.vc27tasf/root/P_4/A_4_0/FC_4_0_0/hmmsearch.results.nxq0cpof\n",
      "[18:53:52] jobs.py (line 131):     INFO: Finished hmmsearch Job with input: model:/tmp/sepp/output.vc27tasf/root/P_4/A_4_0/hmmbuild.model.nj_3en3l, fragments:/tmp/sepp/output.vc27tasf/fragment_chunks/fragment_chunk_2uqt9r32d.fasta, elim:99999999, filter:False, output:/tmp/sepp/output.vc27tasf/root/P_4/A_4_0/FC_4_0_2/hmmsearch.results.ts4jp2e4\n",
      "[18:53:53] jobs.py (line 131):     INFO: Finished hmmsearch Job with input: model:/tmp/sepp/output.vc27tasf/root/P_4/A_4_0/hmmbuild.model.nj_3en3l, fragments:/tmp/sepp/output.vc27tasf/fragment_chunks/fragment_chunk_17j6lvfgw.fasta, elim:99999999, filter:False, output:/tmp/sepp/output.vc27tasf/root/P_4/A_4_0/FC_4_0_1/hmmsearch.results.c2024fba\n",
      "[18:53:54] jobs.py (line 131):     INFO: Finished hmmsearch Job with input: model:/tmp/sepp/output.vc27tasf/root/P_5/A_5_0/hmmbuild.model.upvj_1pe, fragments:/tmp/sepp/output.vc27tasf/fragment_chunks/fragment_chunk_2uqt9r32d.fasta, elim:99999999, filter:False, output:/tmp/sepp/output.vc27tasf/root/P_5/A_5_0/FC_5_0_2/hmmsearch.results.atj6zex2\n",
      "[18:53:55] jobs.py (line 131):     INFO: Finished hmmsearch Job with input: model:/tmp/sepp/output.vc27tasf/root/P_5/A_5_0/hmmbuild.model.upvj_1pe, fragments:/tmp/sepp/output.vc27tasf/fragment_chunks/fragment_chunk_0mxeo3yqn.fasta, elim:99999999, filter:False, output:/tmp/sepp/output.vc27tasf/root/P_5/A_5_0/FC_5_0_0/hmmsearch.results.nkavhop5\n",
      "[18:53:55] jobs.py (line 131):     INFO: Finished hmmsearch Job with input: model:/tmp/sepp/output.vc27tasf/root/P_5/A_5_0/hmmbuild.model.upvj_1pe, fragments:/tmp/sepp/output.vc27tasf/fragment_chunks/fragment_chunk_17j6lvfgw.fasta, elim:99999999, filter:False, output:/tmp/sepp/output.vc27tasf/root/P_5/A_5_0/FC_5_0_1/hmmsearch.results.l1cc31wv\n",
      "[18:53:56] jobs.py (line 131):     INFO: Finished hmmsearch Job with input: model:/tmp/sepp/output.vc27tasf/root/P_2/A_2_0/hmmbuild.model.t63kbafm, fragments:/tmp/sepp/output.vc27tasf/fragment_chunks/fragment_chunk_0mxeo3yqn.fasta, elim:99999999, filter:False, output:/tmp/sepp/output.vc27tasf/root/P_2/A_2_0/FC_2_0_0/hmmsearch.results.wrfyz_9w\n",
      "[18:53:56] jobs.py (line 131):     INFO: Finished hmmsearch Job with input: model:/tmp/sepp/output.vc27tasf/root/P_2/A_2_0/hmmbuild.model.t63kbafm, fragments:/tmp/sepp/output.vc27tasf/fragment_chunks/fragment_chunk_17j6lvfgw.fasta, elim:99999999, filter:False, output:/tmp/sepp/output.vc27tasf/root/P_2/A_2_0/FC_2_0_1/hmmsearch.results.b3c_zv7p\n",
      "[18:53:58] jobs.py (line 131):     INFO: Finished hmmsearch Job with input: model:/tmp/sepp/output.vc27tasf/root/P_2/A_2_0/hmmbuild.model.t63kbafm, fragments:/tmp/sepp/output.vc27tasf/fragment_chunks/fragment_chunk_2uqt9r32d.fasta, elim:99999999, filter:False, output:/tmp/sepp/output.vc27tasf/root/P_2/A_2_0/FC_2_0_2/hmmsearch.results.etzp2gg5\n",
      "[18:54:00] jobs.py (line 131):     INFO: Finished hmmsearch Job with input: model:/tmp/sepp/output.vc27tasf/root/P_1/A_1_0/hmmbuild.model.vro2sk7k, fragments:/tmp/sepp/output.vc27tasf/fragment_chunks/fragment_chunk_2uqt9r32d.fasta, elim:99999999, filter:False, output:/tmp/sepp/output.vc27tasf/root/P_1/A_1_0/FC_1_0_2/hmmsearch.results.bhsyyybq\n",
      "[18:54:00] jobs.py (line 131):     INFO: Finished hmmsearch Job with input: model:/tmp/sepp/output.vc27tasf/root/P_1/A_1_0/hmmbuild.model.vro2sk7k, fragments:/tmp/sepp/output.vc27tasf/fragment_chunks/fragment_chunk_0mxeo3yqn.fasta, elim:99999999, filter:False, output:/tmp/sepp/output.vc27tasf/root/P_1/A_1_0/FC_1_0_0/hmmsearch.results.apiid7sc\n",
      "[18:54:01] jobs.py (line 131):     INFO: Finished hmmsearch Job with input: model:/tmp/sepp/output.vc27tasf/root/P_1/A_1_0/hmmbuild.model.vro2sk7k, fragments:/tmp/sepp/output.vc27tasf/fragment_chunks/fragment_chunk_17j6lvfgw.fasta, elim:99999999, filter:False, output:/tmp/sepp/output.vc27tasf/root/P_1/A_1_0/FC_1_0_1/hmmsearch.results.hb9w4wm2\n",
      "[18:54:03] jobs.py (line 131):     INFO: Finished hmmsearch Job with input: model:/tmp/sepp/output.vc27tasf/root/P_3/A_3_0/hmmbuild.model.f1abcvci, fragments:/tmp/sepp/output.vc27tasf/fragment_chunks/fragment_chunk_0mxeo3yqn.fasta, elim:99999999, filter:False, output:/tmp/sepp/output.vc27tasf/root/P_3/A_3_0/FC_3_0_0/hmmsearch.results.v66d8xom\n",
      "[18:54:03] jobs.py (line 131):     INFO: Finished hmmsearch Job with input: model:/tmp/sepp/output.vc27tasf/root/P_3/A_3_0/hmmbuild.model.f1abcvci, fragments:/tmp/sepp/output.vc27tasf/fragment_chunks/fragment_chunk_17j6lvfgw.fasta, elim:99999999, filter:False, output:/tmp/sepp/output.vc27tasf/root/P_3/A_3_0/FC_3_0_1/hmmsearch.results.aj312m2d\n",
      "[18:54:03] jobs.py (line 131):     INFO: Finished hmmsearch Job with input: model:/tmp/sepp/output.vc27tasf/root/P_3/A_3_0/hmmbuild.model.f1abcvci, fragments:/tmp/sepp/output.vc27tasf/fragment_chunks/fragment_chunk_2uqt9r32d.fasta, elim:99999999, filter:False, output:/tmp/sepp/output.vc27tasf/root/P_3/A_3_0/FC_3_0_2/hmmsearch.results._jcfigrl\n",
      "[18:54:04] jobs.py (line 131):     INFO: Finished hmmsearch Job with input: model:/tmp/sepp/output.vc27tasf/root/P_0/A_0_0/hmmbuild.model.xcrn8d5j, fragments:/tmp/sepp/output.vc27tasf/fragment_chunks/fragment_chunk_0mxeo3yqn.fasta, elim:99999999, filter:False, output:/tmp/sepp/output.vc27tasf/root/P_0/A_0_0/FC_0_0_0/hmmsearch.results.1ep2jx3g\n",
      "[18:54:06] jobs.py (line 131):     INFO: Finished hmmsearch Job with input: model:/tmp/sepp/output.vc27tasf/root/P_0/A_0_0/hmmbuild.model.xcrn8d5j, fragments:/tmp/sepp/output.vc27tasf/fragment_chunks/fragment_chunk_17j6lvfgw.fasta, elim:99999999, filter:False, output:/tmp/sepp/output.vc27tasf/root/P_0/A_0_0/FC_0_0_1/hmmsearch.results.v4l830am\n",
      "[18:54:06] jobs.py (line 131):     INFO: Finished hmmsearch Job with input: model:/tmp/sepp/output.vc27tasf/root/P_0/A_0_0/hmmbuild.model.xcrn8d5j, fragments:/tmp/sepp/output.vc27tasf/fragment_chunks/fragment_chunk_2uqt9r32d.fasta, elim:99999999, filter:False, output:/tmp/sepp/output.vc27tasf/root/P_0/A_0_0/FC_0_0_2/hmmsearch.results.s4ozy1rw\n",
      "[18:54:08] jobs.py (line 131):     INFO: Finished hmmsearch Job with input: model:/tmp/sepp/output.vc27tasf/root/P_10/A_10_0/hmmbuild.model.t0zcdopo, fragments:/tmp/sepp/output.vc27tasf/fragment_chunks/fragment_chunk_2uqt9r32d.fasta, elim:99999999, filter:False, output:/tmp/sepp/output.vc27tasf/root/P_10/A_10_0/FC_10_0_2/hmmsearch.results.a4up2piq\n",
      "[18:54:08] jobs.py (line 131):     INFO: Finished hmmsearch Job with input: model:/tmp/sepp/output.vc27tasf/root/P_10/A_10_0/hmmbuild.model.t0zcdopo, fragments:/tmp/sepp/output.vc27tasf/fragment_chunks/fragment_chunk_17j6lvfgw.fasta, elim:99999999, filter:False, output:/tmp/sepp/output.vc27tasf/root/P_10/A_10_0/FC_10_0_1/hmmsearch.results.ssqvdham\n",
      "[18:54:09] jobs.py (line 131):     INFO: Finished hmmsearch Job with input: model:/tmp/sepp/output.vc27tasf/root/P_10/A_10_0/hmmbuild.model.t0zcdopo, fragments:/tmp/sepp/output.vc27tasf/fragment_chunks/fragment_chunk_0mxeo3yqn.fasta, elim:99999999, filter:False, output:/tmp/sepp/output.vc27tasf/root/P_10/A_10_0/FC_10_0_0/hmmsearch.results.oqcwlr7w\n",
      "[18:54:09] jobs.py (line 131):     INFO: Finished hmmsearch Job with input: model:/tmp/sepp/output.vc27tasf/root/P_7/A_7_0/hmmbuild.model.n08ooxns, fragments:/tmp/sepp/output.vc27tasf/fragment_chunks/fragment_chunk_0mxeo3yqn.fasta, elim:99999999, filter:False, output:/tmp/sepp/output.vc27tasf/root/P_7/A_7_0/FC_7_0_0/hmmsearch.results.rup3c3n9\n",
      "[18:54:11] jobs.py (line 131):     INFO: Finished hmmsearch Job with input: model:/tmp/sepp/output.vc27tasf/root/P_7/A_7_0/hmmbuild.model.n08ooxns, fragments:/tmp/sepp/output.vc27tasf/fragment_chunks/fragment_chunk_2uqt9r32d.fasta, elim:99999999, filter:False, output:/tmp/sepp/output.vc27tasf/root/P_7/A_7_0/FC_7_0_2/hmmsearch.results.3ew53zpt\n",
      "[18:54:12] jobs.py (line 131):     INFO: Finished hmmsearch Job with input: model:/tmp/sepp/output.vc27tasf/root/P_7/A_7_0/hmmbuild.model.n08ooxns, fragments:/tmp/sepp/output.vc27tasf/fragment_chunks/fragment_chunk_17j6lvfgw.fasta, elim:99999999, filter:False, output:/tmp/sepp/output.vc27tasf/root/P_7/A_7_0/FC_7_0_1/hmmsearch.results.i9l8qtal\n",
      "[18:54:13] jobs.py (line 131):     INFO: Finished hmmsearch Job with input: model:/tmp/sepp/output.vc27tasf/root/P_9/A_9_0/hmmbuild.model.beqfd10_, fragments:/tmp/sepp/output.vc27tasf/fragment_chunks/fragment_chunk_2uqt9r32d.fasta, elim:99999999, filter:False, output:/tmp/sepp/output.vc27tasf/root/P_9/A_9_0/FC_9_0_2/hmmsearch.results.jd8mqef0\n",
      "[18:54:15] jobs.py (line 131):     INFO: Finished hmmsearch Job with input: model:/tmp/sepp/output.vc27tasf/root/P_9/A_9_0/hmmbuild.model.beqfd10_, fragments:/tmp/sepp/output.vc27tasf/fragment_chunks/fragment_chunk_0mxeo3yqn.fasta, elim:99999999, filter:False, output:/tmp/sepp/output.vc27tasf/root/P_9/A_9_0/FC_9_0_0/hmmsearch.results.jvid0pkl\n",
      "[18:54:15] jobs.py (line 131):     INFO: Finished hmmsearch Job with input: model:/tmp/sepp/output.vc27tasf/root/P_9/A_9_0/hmmbuild.model.beqfd10_, fragments:/tmp/sepp/output.vc27tasf/fragment_chunks/fragment_chunk_17j6lvfgw.fasta, elim:99999999, filter:False, output:/tmp/sepp/output.vc27tasf/root/P_9/A_9_0/FC_9_0_1/hmmsearch.results.dnvk_3cf\n",
      "[18:54:15] jobs.py (line 131):     INFO: Finished hmmsearch Job with input: model:/tmp/sepp/output.vc27tasf/root/P_11/A_11_0/hmmbuild.model.ccxw3_hm, fragments:/tmp/sepp/output.vc27tasf/fragment_chunks/fragment_chunk_0mxeo3yqn.fasta, elim:99999999, filter:False, output:/tmp/sepp/output.vc27tasf/root/P_11/A_11_0/FC_11_0_0/hmmsearch.results.x_rzuio7\n",
      "[18:54:16] jobs.py (line 131):     INFO: Finished hmmsearch Job with input: model:/tmp/sepp/output.vc27tasf/root/P_11/A_11_0/hmmbuild.model.ccxw3_hm, fragments:/tmp/sepp/output.vc27tasf/fragment_chunks/fragment_chunk_17j6lvfgw.fasta, elim:99999999, filter:False, output:/tmp/sepp/output.vc27tasf/root/P_11/A_11_0/FC_11_0_1/hmmsearch.results.jgk27y34\n",
      "[18:54:17] jobs.py (line 131):     INFO: Finished hmmsearch Job with input: model:/tmp/sepp/output.vc27tasf/root/P_11/A_11_0/hmmbuild.model.ccxw3_hm, fragments:/tmp/sepp/output.vc27tasf/fragment_chunks/fragment_chunk_2uqt9r32d.fasta, elim:99999999, filter:False, output:/tmp/sepp/output.vc27tasf/root/P_11/A_11_0/FC_11_0_2/hmmsearch.results.0pm5hhl1\n",
      "[18:54:18] jobs.py (line 131):     INFO: Finished hmmsearch Job with input: model:/tmp/sepp/output.vc27tasf/root/P_8/A_8_0/hmmbuild.model.8i1yj9uz, fragments:/tmp/sepp/output.vc27tasf/fragment_chunks/fragment_chunk_0mxeo3yqn.fasta, elim:99999999, filter:False, output:/tmp/sepp/output.vc27tasf/root/P_8/A_8_0/FC_8_0_0/hmmsearch.results.03ecpezy\n",
      "[18:54:20] jobs.py (line 131):     INFO: Finished hmmsearch Job with input: model:/tmp/sepp/output.vc27tasf/root/P_8/A_8_0/hmmbuild.model.8i1yj9uz, fragments:/tmp/sepp/output.vc27tasf/fragment_chunks/fragment_chunk_17j6lvfgw.fasta, elim:99999999, filter:False, output:/tmp/sepp/output.vc27tasf/root/P_8/A_8_0/FC_8_0_1/hmmsearch.results.dvaj1gz4\n",
      "[18:54:20] jobs.py (line 131):     INFO: Finished hmmsearch Job with input: model:/tmp/sepp/output.vc27tasf/root/P_8/A_8_0/hmmbuild.model.8i1yj9uz, fragments:/tmp/sepp/output.vc27tasf/fragment_chunks/fragment_chunk_2uqt9r32d.fasta, elim:99999999, filter:False, output:/tmp/sepp/output.vc27tasf/root/P_8/A_8_0/FC_8_0_2/hmmsearch.results._pqc4z74\n",
      "[18:54:21] jobs.py (line 131):     INFO: Finished hmmsearch Job with input: model:/tmp/sepp/output.vc27tasf/root/P_6/A_6_0/hmmbuild.model.ae5qzjvl, fragments:/tmp/sepp/output.vc27tasf/fragment_chunks/fragment_chunk_17j6lvfgw.fasta, elim:99999999, filter:False, output:/tmp/sepp/output.vc27tasf/root/P_6/A_6_0/FC_6_0_1/hmmsearch.results.2hd_bs1o\n",
      "[18:54:22] jobs.py (line 131):     INFO: Finished hmmsearch Job with input: model:/tmp/sepp/output.vc27tasf/root/P_6/A_6_0/hmmbuild.model.ae5qzjvl, fragments:/tmp/sepp/output.vc27tasf/fragment_chunks/fragment_chunk_0mxeo3yqn.fasta, elim:99999999, filter:False, output:/tmp/sepp/output.vc27tasf/root/P_6/A_6_0/FC_6_0_0/hmmsearch.results.icc9tt4n\n",
      "[18:54:23] jobs.py (line 131):     INFO: Finished hmmsearch Job with input: model:/tmp/sepp/output.vc27tasf/root/P_12/A_12_0/hmmbuild.model.jpun33uw, fragments:/tmp/sepp/output.vc27tasf/fragment_chunks/fragment_chunk_0mxeo3yqn.fasta, elim:99999999, filter:False, output:/tmp/sepp/output.vc27tasf/root/P_12/A_12_0/FC_12_0_0/hmmsearch.results.g3fau6j3\n",
      "[18:54:23] jobs.py (line 131):     INFO: Finished hmmsearch Job with input: model:/tmp/sepp/output.vc27tasf/root/P_6/A_6_0/hmmbuild.model.ae5qzjvl, fragments:/tmp/sepp/output.vc27tasf/fragment_chunks/fragment_chunk_2uqt9r32d.fasta, elim:99999999, filter:False, output:/tmp/sepp/output.vc27tasf/root/P_6/A_6_0/FC_6_0_2/hmmsearch.results.4e9kp2km\n",
      "[18:54:25] jobs.py (line 131):     INFO: Finished hmmsearch Job with input: model:/tmp/sepp/output.vc27tasf/root/P_12/A_12_0/hmmbuild.model.jpun33uw, fragments:/tmp/sepp/output.vc27tasf/fragment_chunks/fragment_chunk_17j6lvfgw.fasta, elim:99999999, filter:False, output:/tmp/sepp/output.vc27tasf/root/P_12/A_12_0/FC_12_0_1/hmmsearch.results.ntpxn447\n",
      "[18:54:26] jobs.py (line 131):     INFO: Finished hmmsearch Job with input: model:/tmp/sepp/output.vc27tasf/root/P_13/A_13_0/hmmbuild.model.1s00p4q7, fragments:/tmp/sepp/output.vc27tasf/fragment_chunks/fragment_chunk_17j6lvfgw.fasta, elim:99999999, filter:False, output:/tmp/sepp/output.vc27tasf/root/P_13/A_13_0/FC_13_0_1/hmmsearch.results.jxmclu_i\n",
      "[18:54:27] jobs.py (line 131):     INFO: Finished hmmsearch Job with input: model:/tmp/sepp/output.vc27tasf/root/P_12/A_12_0/hmmbuild.model.jpun33uw, fragments:/tmp/sepp/output.vc27tasf/fragment_chunks/fragment_chunk_2uqt9r32d.fasta, elim:99999999, filter:False, output:/tmp/sepp/output.vc27tasf/root/P_12/A_12_0/FC_12_0_2/hmmsearch.results.z7e24tri\n",
      "[18:54:27] jobs.py (line 131):     INFO: Finished hmmsearch Job with input: model:/tmp/sepp/output.vc27tasf/root/P_13/A_13_0/hmmbuild.model.1s00p4q7, fragments:/tmp/sepp/output.vc27tasf/fragment_chunks/fragment_chunk_0mxeo3yqn.fasta, elim:99999999, filter:False, output:/tmp/sepp/output.vc27tasf/root/P_13/A_13_0/FC_13_0_0/hmmsearch.results.g7u11nov\n",
      "[18:54:28] jobs.py (line 131):     INFO: Finished hmmsearch Job with input: model:/tmp/sepp/output.vc27tasf/root/P_13/A_13_0/hmmbuild.model.1s00p4q7, fragments:/tmp/sepp/output.vc27tasf/fragment_chunks/fragment_chunk_2uqt9r32d.fasta, elim:99999999, filter:False, output:/tmp/sepp/output.vc27tasf/root/P_13/A_13_0/FC_13_0_2/hmmsearch.results.dbam99fz\n",
      "[18:54:29] jobs.py (line 131):     INFO: Finished hmmsearch Job with input: model:/tmp/sepp/output.vc27tasf/root/P_14/A_14_0/hmmbuild.model.jkb9_64v, fragments:/tmp/sepp/output.vc27tasf/fragment_chunks/fragment_chunk_0mxeo3yqn.fasta, elim:99999999, filter:False, output:/tmp/sepp/output.vc27tasf/root/P_14/A_14_0/FC_14_0_0/hmmsearch.results.m6_2w4ws\n",
      "[18:54:30] jobs.py (line 131):     INFO: Finished hmmsearch Job with input: model:/tmp/sepp/output.vc27tasf/root/P_14/A_14_0/hmmbuild.model.jkb9_64v, fragments:/tmp/sepp/output.vc27tasf/fragment_chunks/fragment_chunk_17j6lvfgw.fasta, elim:99999999, filter:False, output:/tmp/sepp/output.vc27tasf/root/P_14/A_14_0/FC_14_0_1/hmmsearch.results.ziukgumz\n",
      "[18:54:32] jobs.py (line 131):     INFO: Finished hmmsearch Job with input: model:/tmp/sepp/output.vc27tasf/root/P_14/A_14_0/hmmbuild.model.jkb9_64v, fragments:/tmp/sepp/output.vc27tasf/fragment_chunks/fragment_chunk_2uqt9r32d.fasta, elim:99999999, filter:False, output:/tmp/sepp/output.vc27tasf/root/P_14/A_14_0/FC_14_0_2/hmmsearch.results.y8rs3tps\n",
      "[18:54:32] jobs.py (line 131):     INFO: Finished hmmsearch Job with input: model:/tmp/sepp/output.vc27tasf/root/P_15/A_15_0/hmmbuild.model.alsrtpnz, fragments:/tmp/sepp/output.vc27tasf/fragment_chunks/fragment_chunk_17j6lvfgw.fasta, elim:99999999, filter:False, output:/tmp/sepp/output.vc27tasf/root/P_15/A_15_0/FC_15_0_1/hmmsearch.results.4swb6kb1\n",
      "[18:54:32] jobs.py (line 131):     INFO: Finished hmmsearch Job with input: model:/tmp/sepp/output.vc27tasf/root/P_15/A_15_0/hmmbuild.model.alsrtpnz, fragments:/tmp/sepp/output.vc27tasf/fragment_chunks/fragment_chunk_0mxeo3yqn.fasta, elim:99999999, filter:False, output:/tmp/sepp/output.vc27tasf/root/P_15/A_15_0/FC_15_0_0/hmmsearch.results.cnhwslch\n",
      "[18:54:33] jobs.py (line 131):     INFO: Finished hmmsearch Job with input: model:/tmp/sepp/output.vc27tasf/root/P_15/A_15_0/hmmbuild.model.alsrtpnz, fragments:/tmp/sepp/output.vc27tasf/fragment_chunks/fragment_chunk_2uqt9r32d.fasta, elim:99999999, filter:False, output:/tmp/sepp/output.vc27tasf/root/P_15/A_15_0/FC_15_0_2/hmmsearch.results.cm8w8j8z\n",
      "[18:54:33] exhaustive.py (line 80):  WARNING: Fragments [] are not scored against any subset\n",
      "[18:54:33] exhaustive.py (line 151):     INFO: Merging sub-alignments for placement problem : P_0.\n",
      "[18:54:33] jobs.py (line 131):     INFO: Finished hmmalign Job with input: model:/tmp/sepp/output.vc27tasf/root/P_5/A_5_0/hmmbuild.model.upvj_1pe, fragments:/tmp/sepp/output.vc27tasf/root/P_5/A_5_0/FC_5_0_2/hmmalign.frag.is4at70v.fasta, trim:False, base_alignment:/tmp/sepp/output.vc27tasf/root/P_5/A_5_0/hmmbuild.input.mnoar61s.fasta\n",
      "[18:54:33] jobs.py (line 131):     INFO: Finished hmmalign Job with input: model:/tmp/sepp/output.vc27tasf/root/P_5/A_5_0/hmmbuild.model.upvj_1pe, fragments:/tmp/sepp/output.vc27tasf/root/P_5/A_5_0/FC_5_0_0/hmmalign.frag.bkwsvf41.fasta, trim:False, base_alignment:/tmp/sepp/output.vc27tasf/root/P_5/A_5_0/hmmbuild.input.mnoar61s.fasta\n",
      "[18:54:33] jobs.py (line 131):     INFO: Finished hmmalign Job with input: model:/tmp/sepp/output.vc27tasf/root/P_1/A_1_0/hmmbuild.model.vro2sk7k, fragments:/tmp/sepp/output.vc27tasf/root/P_1/A_1_0/FC_1_0_2/hmmalign.frag.xa21ispd.fasta, trim:False, base_alignment:/tmp/sepp/output.vc27tasf/root/P_1/A_1_0/hmmbuild.input.dzc4j942.fasta\n",
      "[18:54:33] jobs.py (line 131):     INFO: Finished hmmalign Job with input: model:/tmp/sepp/output.vc27tasf/root/P_5/A_5_0/hmmbuild.model.upvj_1pe, fragments:/tmp/sepp/output.vc27tasf/root/P_5/A_5_0/FC_5_0_1/hmmalign.frag.lsw7xty2.fasta, trim:False, base_alignment:/tmp/sepp/output.vc27tasf/root/P_5/A_5_0/hmmbuild.input.mnoar61s.fasta\n",
      "[18:54:33] jobs.py (line 131):     INFO: Finished hmmalign Job with input: model:/tmp/sepp/output.vc27tasf/root/P_1/A_1_0/hmmbuild.model.vro2sk7k, fragments:/tmp/sepp/output.vc27tasf/root/P_1/A_1_0/FC_1_0_1/hmmalign.frag.p55z_t3f.fasta, trim:False, base_alignment:/tmp/sepp/output.vc27tasf/root/P_1/A_1_0/hmmbuild.input.dzc4j942.fasta\n",
      "[18:54:33] jobs.py (line 131):     INFO: Finished hmmalign Job with input: model:/tmp/sepp/output.vc27tasf/root/P_1/A_1_0/hmmbuild.model.vro2sk7k, fragments:/tmp/sepp/output.vc27tasf/root/P_1/A_1_0/FC_1_0_0/hmmalign.frag.oavmow08.fasta, trim:False, base_alignment:/tmp/sepp/output.vc27tasf/root/P_1/A_1_0/hmmbuild.input.dzc4j942.fasta\n",
      "[18:54:33] exhaustive.py (line 151):     INFO: Merging sub-alignments for placement problem : P_2.\n",
      "[18:54:33] jobs.py (line 131):     INFO: Finished hmmalign Job with input: model:/tmp/sepp/output.vc27tasf/root/P_6/A_6_0/hmmbuild.model.ae5qzjvl, fragments:/tmp/sepp/output.vc27tasf/root/P_6/A_6_0/FC_6_0_1/hmmalign.frag.mvferm9e.fasta, trim:False, base_alignment:/tmp/sepp/output.vc27tasf/root/P_6/A_6_0/hmmbuild.input.r6c5fif8.fasta\n",
      "[18:54:33] jobs.py (line 131):     INFO: Finished hmmalign Job with input: model:/tmp/sepp/output.vc27tasf/root/P_6/A_6_0/hmmbuild.model.ae5qzjvl, fragments:/tmp/sepp/output.vc27tasf/root/P_6/A_6_0/FC_6_0_2/hmmalign.frag.om51jtf6.fasta, trim:False, base_alignment:/tmp/sepp/output.vc27tasf/root/P_6/A_6_0/hmmbuild.input.r6c5fif8.fasta\n",
      "[18:54:33] jobs.py (line 131):     INFO: Finished hmmalign Job with input: model:/tmp/sepp/output.vc27tasf/root/P_6/A_6_0/hmmbuild.model.ae5qzjvl, fragments:/tmp/sepp/output.vc27tasf/root/P_6/A_6_0/FC_6_0_0/hmmalign.frag.ig58xl9j.fasta, trim:False, base_alignment:/tmp/sepp/output.vc27tasf/root/P_6/A_6_0/hmmbuild.input.r6c5fif8.fasta\n",
      "[18:54:33] exhaustive.py (line 151):     INFO: Merging sub-alignments for placement problem : P_3.\n",
      "[18:54:33] jobs.py (line 131):     INFO: Finished hmmalign Job with input: model:/tmp/sepp/output.vc27tasf/root/P_7/A_7_0/hmmbuild.model.n08ooxns, fragments:/tmp/sepp/output.vc27tasf/root/P_7/A_7_0/FC_7_0_0/hmmalign.frag.ul5mk0d8.fasta, trim:False, base_alignment:/tmp/sepp/output.vc27tasf/root/P_7/A_7_0/hmmbuild.input.8eoma4ed.fasta\n",
      "[18:54:33] jobs.py (line 131):     INFO: Finished hmmalign Job with input: model:/tmp/sepp/output.vc27tasf/root/P_7/A_7_0/hmmbuild.model.n08ooxns, fragments:/tmp/sepp/output.vc27tasf/root/P_7/A_7_0/FC_7_0_2/hmmalign.frag.eqyq0u_i.fasta, trim:False, base_alignment:/tmp/sepp/output.vc27tasf/root/P_7/A_7_0/hmmbuild.input.8eoma4ed.fasta\n",
      "[18:54:33] jobs.py (line 131):     INFO: Finished hmmalign Job with input: model:/tmp/sepp/output.vc27tasf/root/P_7/A_7_0/hmmbuild.model.n08ooxns, fragments:/tmp/sepp/output.vc27tasf/root/P_7/A_7_0/FC_7_0_1/hmmalign.frag.23artgso.fasta, trim:False, base_alignment:/tmp/sepp/output.vc27tasf/root/P_7/A_7_0/hmmbuild.input.8eoma4ed.fasta\n",
      "[18:54:33] jobs.py (line 131):     INFO: Finished hmmalign Job with input: model:/tmp/sepp/output.vc27tasf/root/P_8/A_8_0/hmmbuild.model.8i1yj9uz, fragments:/tmp/sepp/output.vc27tasf/root/P_8/A_8_0/FC_8_0_1/hmmalign.frag.3m_9zaer.fasta, trim:False, base_alignment:/tmp/sepp/output.vc27tasf/root/P_8/A_8_0/hmmbuild.input.wwjuhp06.fasta\n",
      "[18:54:33] exhaustive.py (line 151):     INFO: Merging sub-alignments for placement problem : P_4.\n",
      "[18:54:33] jobs.py (line 131):     INFO: Finished hmmalign Job with input: model:/tmp/sepp/output.vc27tasf/root/P_8/A_8_0/hmmbuild.model.8i1yj9uz, fragments:/tmp/sepp/output.vc27tasf/root/P_8/A_8_0/FC_8_0_0/hmmalign.frag.ntep1vq5.fasta, trim:False, base_alignment:/tmp/sepp/output.vc27tasf/root/P_8/A_8_0/hmmbuild.input.wwjuhp06.fasta\n",
      "[18:54:33] jobs.py (line 131):     INFO: Finished hmmalign Job with input: model:/tmp/sepp/output.vc27tasf/root/P_8/A_8_0/hmmbuild.model.8i1yj9uz, fragments:/tmp/sepp/output.vc27tasf/root/P_8/A_8_0/FC_8_0_2/hmmalign.frag.tuwzepyc.fasta, trim:False, base_alignment:/tmp/sepp/output.vc27tasf/root/P_8/A_8_0/hmmbuild.input.wwjuhp06.fasta\n",
      "[18:54:33] jobs.py (line 131):     INFO: Finished hmmalign Job with input: model:/tmp/sepp/output.vc27tasf/root/P_10/A_10_0/hmmbuild.model.t0zcdopo, fragments:/tmp/sepp/output.vc27tasf/root/P_10/A_10_0/FC_10_0_0/hmmalign.frag.sbmc5tia.fasta, trim:False, base_alignment:/tmp/sepp/output.vc27tasf/root/P_10/A_10_0/hmmbuild.input.f2y43ze9.fasta\n",
      "[18:54:33] jobs.py (line 131):     INFO: Finished hmmalign Job with input: model:/tmp/sepp/output.vc27tasf/root/P_10/A_10_0/hmmbuild.model.t0zcdopo, fragments:/tmp/sepp/output.vc27tasf/root/P_10/A_10_0/FC_10_0_2/hmmalign.frag.a0qq4_81.fasta, trim:False, base_alignment:/tmp/sepp/output.vc27tasf/root/P_10/A_10_0/hmmbuild.input.f2y43ze9.fasta\n",
      "[18:54:33] exhaustive.py (line 151):     INFO: Merging sub-alignments for placement problem : P_5.\n",
      "[18:54:33] jobs.py (line 131):     INFO: Finished hmmalign Job with input: model:/tmp/sepp/output.vc27tasf/root/P_10/A_10_0/hmmbuild.model.t0zcdopo, fragments:/tmp/sepp/output.vc27tasf/root/P_10/A_10_0/FC_10_0_1/hmmalign.frag.dpzixn_p.fasta, trim:False, base_alignment:/tmp/sepp/output.vc27tasf/root/P_10/A_10_0/hmmbuild.input.f2y43ze9.fasta\n",
      "[18:54:33] alignment.py (line 556):     INFO: Merging extension sto file (/tmp/sepp/output.vc27tasf/root/P_5/A_5_0/FC_5_0_0/hmmalign.results.fs3bqndp) into base alignment (/tmp/sepp/output.vc27tasf/root/P_5/A_5_0/hmmbuild.input.mnoar61s.fasta).\n",
      "[18:54:33] alignment.py (line 556):     INFO: Merging extension sto file (/tmp/sepp/output.vc27tasf/root/P_5/A_5_0/FC_5_0_1/hmmalign.results.n5hywr8z) into base alignment (/tmp/sepp/output.vc27tasf/root/P_5/A_5_0/hmmbuild.input.mnoar61s.fasta).\n",
      "[18:54:33] alignment.py (line 556):     INFO: Merging extension sto file (/tmp/sepp/output.vc27tasf/root/P_5/A_5_0/FC_5_0_2/hmmalign.results.06bbgfvt) into base alignment (/tmp/sepp/output.vc27tasf/root/P_5/A_5_0/hmmbuild.input.mnoar61s.fasta).\n",
      "[18:54:33] exhaustive.py (line 151):     INFO: Merging sub-alignments for placement problem : P_1.\n",
      "[18:54:33] alignment.py (line 556):     INFO: Merging extension sto file (/tmp/sepp/output.vc27tasf/root/P_1/A_1_0/FC_1_0_0/hmmalign.results.8soh9gwe) into base alignment (/tmp/sepp/output.vc27tasf/root/P_1/A_1_0/hmmbuild.input.dzc4j942.fasta).\n",
      "[18:54:33] alignment.py (line 556):     INFO: Merging extension sto file (/tmp/sepp/output.vc27tasf/root/P_1/A_1_0/FC_1_0_1/hmmalign.results.jsxxedsl) into base alignment (/tmp/sepp/output.vc27tasf/root/P_1/A_1_0/hmmbuild.input.dzc4j942.fasta).\n",
      "[18:54:33] alignment.py (line 556):     INFO: Merging extension sto file (/tmp/sepp/output.vc27tasf/root/P_1/A_1_0/FC_1_0_2/hmmalign.results.mce9w9el) into base alignment (/tmp/sepp/output.vc27tasf/root/P_1/A_1_0/hmmbuild.input.dzc4j942.fasta).\n",
      "[18:54:34] exhaustive.py (line 151):     INFO: Merging sub-alignments for placement problem : P_6.\n",
      "[18:54:34] alignment.py (line 556):     INFO: Merging extension sto file (/tmp/sepp/output.vc27tasf/root/P_6/A_6_0/FC_6_0_0/hmmalign.results.sjq0p9ei) into base alignment (/tmp/sepp/output.vc27tasf/root/P_6/A_6_0/hmmbuild.input.r6c5fif8.fasta).\n",
      "[18:54:34] alignment.py (line 556):     INFO: Merging extension sto file (/tmp/sepp/output.vc27tasf/root/P_6/A_6_0/FC_6_0_1/hmmalign.results.f1j1q__w) into base alignment (/tmp/sepp/output.vc27tasf/root/P_6/A_6_0/hmmbuild.input.r6c5fif8.fasta).\n",
      "[18:54:34] alignment.py (line 556):     INFO: Merging extension sto file (/tmp/sepp/output.vc27tasf/root/P_6/A_6_0/FC_6_0_2/hmmalign.results.6b0es2ib) into base alignment (/tmp/sepp/output.vc27tasf/root/P_6/A_6_0/hmmbuild.input.r6c5fif8.fasta).\n",
      "[18:54:34] jobs.py (line 131):     INFO: Finished hmmalign Job with input: model:/tmp/sepp/output.vc27tasf/root/P_9/A_9_0/hmmbuild.model.beqfd10_, fragments:/tmp/sepp/output.vc27tasf/root/P_9/A_9_0/FC_9_0_1/hmmalign.frag.946akaiu.fasta, trim:False, base_alignment:/tmp/sepp/output.vc27tasf/root/P_9/A_9_0/hmmbuild.input.jflbr5gt.fasta\n",
      "[18:54:34] exhaustive.py (line 151):     INFO: Merging sub-alignments for placement problem : P_7.\n",
      "[18:54:34] jobs.py (line 131):     INFO: Finished hmmalign Job with input: model:/tmp/sepp/output.vc27tasf/root/P_9/A_9_0/hmmbuild.model.beqfd10_, fragments:/tmp/sepp/output.vc27tasf/root/P_9/A_9_0/FC_9_0_0/hmmalign.frag.p4jb6pc0.fasta, trim:False, base_alignment:/tmp/sepp/output.vc27tasf/root/P_9/A_9_0/hmmbuild.input.jflbr5gt.fasta\n",
      "[18:54:34] alignment.py (line 556):     INFO: Merging extension sto file (/tmp/sepp/output.vc27tasf/root/P_7/A_7_0/FC_7_0_0/hmmalign.results.h8__ffr9) into base alignment (/tmp/sepp/output.vc27tasf/root/P_7/A_7_0/hmmbuild.input.8eoma4ed.fasta).\n",
      "[18:54:34] jobs.py (line 131):     INFO: Finished hmmalign Job with input: model:/tmp/sepp/output.vc27tasf/root/P_9/A_9_0/hmmbuild.model.beqfd10_, fragments:/tmp/sepp/output.vc27tasf/root/P_9/A_9_0/FC_9_0_2/hmmalign.frag.87iez89k.fasta, trim:False, base_alignment:/tmp/sepp/output.vc27tasf/root/P_9/A_9_0/hmmbuild.input.jflbr5gt.fasta\n",
      "[18:54:34] alignment.py (line 556):     INFO: Merging extension sto file (/tmp/sepp/output.vc27tasf/root/P_7/A_7_0/FC_7_0_1/hmmalign.results.llby6j50) into base alignment (/tmp/sepp/output.vc27tasf/root/P_7/A_7_0/hmmbuild.input.8eoma4ed.fasta).\n",
      "[18:54:34] alignment.py (line 556):     INFO: Merging extension sto file (/tmp/sepp/output.vc27tasf/root/P_7/A_7_0/FC_7_0_2/hmmalign.results.otzzjuaa) into base alignment (/tmp/sepp/output.vc27tasf/root/P_7/A_7_0/hmmbuild.input.8eoma4ed.fasta).\n",
      "[18:54:34] exhaustive.py (line 151):     INFO: Merging sub-alignments for placement problem : P_8.\n",
      "[18:54:34] alignment.py (line 556):     INFO: Merging extension sto file (/tmp/sepp/output.vc27tasf/root/P_8/A_8_0/FC_8_0_0/hmmalign.results.c6xdl18p) into base alignment (/tmp/sepp/output.vc27tasf/root/P_8/A_8_0/hmmbuild.input.wwjuhp06.fasta).\n",
      "[18:54:34] alignment.py (line 556):     INFO: Merging extension sto file (/tmp/sepp/output.vc27tasf/root/P_8/A_8_0/FC_8_0_1/hmmalign.results.sta30mhh) into base alignment (/tmp/sepp/output.vc27tasf/root/P_8/A_8_0/hmmbuild.input.wwjuhp06.fasta).\n",
      "[18:54:34] alignment.py (line 556):     INFO: Merging extension sto file (/tmp/sepp/output.vc27tasf/root/P_8/A_8_0/FC_8_0_2/hmmalign.results.v3q4hu6x) into base alignment (/tmp/sepp/output.vc27tasf/root/P_8/A_8_0/hmmbuild.input.wwjuhp06.fasta).\n",
      "[18:54:34] exhaustive.py (line 151):     INFO: Merging sub-alignments for placement problem : P_10.\n",
      "[18:54:34] alignment.py (line 556):     INFO: Merging extension sto file (/tmp/sepp/output.vc27tasf/root/P_10/A_10_0/FC_10_0_0/hmmalign.results.j64yd1j6) into base alignment (/tmp/sepp/output.vc27tasf/root/P_10/A_10_0/hmmbuild.input.f2y43ze9.fasta).\n",
      "[18:54:34] alignment.py (line 556):     INFO: Merging extension sto file (/tmp/sepp/output.vc27tasf/root/P_10/A_10_0/FC_10_0_1/hmmalign.results.r1fgsi10) into base alignment (/tmp/sepp/output.vc27tasf/root/P_10/A_10_0/hmmbuild.input.f2y43ze9.fasta).\n",
      "[18:54:34] alignment.py (line 556):     INFO: Merging extension sto file (/tmp/sepp/output.vc27tasf/root/P_10/A_10_0/FC_10_0_2/hmmalign.results.u23rnmf1) into base alignment (/tmp/sepp/output.vc27tasf/root/P_10/A_10_0/hmmbuild.input.f2y43ze9.fasta).\n",
      "[18:54:34] exhaustive.py (line 151):     INFO: Merging sub-alignments for placement problem : P_9.\n",
      "[18:54:34] alignment.py (line 556):     INFO: Merging extension sto file (/tmp/sepp/output.vc27tasf/root/P_9/A_9_0/FC_9_0_0/hmmalign.results.95oheif8) into base alignment (/tmp/sepp/output.vc27tasf/root/P_9/A_9_0/hmmbuild.input.jflbr5gt.fasta).\n",
      "[18:54:34] alignment.py (line 556):     INFO: Merging extension sto file (/tmp/sepp/output.vc27tasf/root/P_9/A_9_0/FC_9_0_1/hmmalign.results.tkk7tkcp) into base alignment (/tmp/sepp/output.vc27tasf/root/P_9/A_9_0/hmmbuild.input.jflbr5gt.fasta).\n",
      "[18:54:34] alignment.py (line 556):     INFO: Merging extension sto file (/tmp/sepp/output.vc27tasf/root/P_9/A_9_0/FC_9_0_2/hmmalign.results.r6piavad) into base alignment (/tmp/sepp/output.vc27tasf/root/P_9/A_9_0/hmmbuild.input.jflbr5gt.fasta).\n",
      "[18:54:35] jobs.py (line 131):     INFO: Finished hmmalign Job with input: model:/tmp/sepp/output.vc27tasf/root/P_12/A_12_0/hmmbuild.model.jpun33uw, fragments:/tmp/sepp/output.vc27tasf/root/P_12/A_12_0/FC_12_0_2/hmmalign.frag.1vhw_k3h.fasta, trim:False, base_alignment:/tmp/sepp/output.vc27tasf/root/P_12/A_12_0/hmmbuild.input.htp_uaob.fasta\n",
      "[18:54:35] jobs.py (line 131):     INFO: Finished hmmalign Job with input: model:/tmp/sepp/output.vc27tasf/root/P_12/A_12_0/hmmbuild.model.jpun33uw, fragments:/tmp/sepp/output.vc27tasf/root/P_12/A_12_0/FC_12_0_0/hmmalign.frag.__zt709p.fasta, trim:False, base_alignment:/tmp/sepp/output.vc27tasf/root/P_12/A_12_0/hmmbuild.input.htp_uaob.fasta\n",
      "[18:54:35] jobs.py (line 131):     INFO: Finished hmmalign Job with input: model:/tmp/sepp/output.vc27tasf/root/P_12/A_12_0/hmmbuild.model.jpun33uw, fragments:/tmp/sepp/output.vc27tasf/root/P_12/A_12_0/FC_12_0_1/hmmalign.frag.22e0j0kb.fasta, trim:False, base_alignment:/tmp/sepp/output.vc27tasf/root/P_12/A_12_0/hmmbuild.input.htp_uaob.fasta\n",
      "[18:54:35] exhaustive.py (line 151):     INFO: Merging sub-alignments for placement problem : P_12.\n",
      "[18:54:35] jobs.py (line 131):     INFO: Finished hmmalign Job with input: model:/tmp/sepp/output.vc27tasf/root/P_13/A_13_0/hmmbuild.model.1s00p4q7, fragments:/tmp/sepp/output.vc27tasf/root/P_13/A_13_0/FC_13_0_0/hmmalign.frag.u2rfaqv7.fasta, trim:False, base_alignment:/tmp/sepp/output.vc27tasf/root/P_13/A_13_0/hmmbuild.input.75472x4y.fasta\n",
      "[18:54:35] alignment.py (line 556):     INFO: Merging extension sto file (/tmp/sepp/output.vc27tasf/root/P_12/A_12_0/FC_12_0_0/hmmalign.results.i0r_qwa4) into base alignment (/tmp/sepp/output.vc27tasf/root/P_12/A_12_0/hmmbuild.input.htp_uaob.fasta).\n",
      "[18:54:36] alignment.py (line 556):     INFO: Merging extension sto file (/tmp/sepp/output.vc27tasf/root/P_12/A_12_0/FC_12_0_1/hmmalign.results.ce2xz00e) into base alignment (/tmp/sepp/output.vc27tasf/root/P_12/A_12_0/hmmbuild.input.htp_uaob.fasta).\n",
      "[18:54:36] jobs.py (line 131):     INFO: Finished hmmalign Job with input: model:/tmp/sepp/output.vc27tasf/root/P_13/A_13_0/hmmbuild.model.1s00p4q7, fragments:/tmp/sepp/output.vc27tasf/root/P_13/A_13_0/FC_13_0_1/hmmalign.frag.j1hhtgxs.fasta, trim:False, base_alignment:/tmp/sepp/output.vc27tasf/root/P_13/A_13_0/hmmbuild.input.75472x4y.fasta\n",
      "[18:54:36] alignment.py (line 556):     INFO: Merging extension sto file (/tmp/sepp/output.vc27tasf/root/P_12/A_12_0/FC_12_0_2/hmmalign.results._9qkar2a) into base alignment (/tmp/sepp/output.vc27tasf/root/P_12/A_12_0/hmmbuild.input.htp_uaob.fasta).\n",
      "[18:54:36] jobs.py (line 131):     INFO: Finished hmmalign Job with input: model:/tmp/sepp/output.vc27tasf/root/P_14/A_14_0/hmmbuild.model.jkb9_64v, fragments:/tmp/sepp/output.vc27tasf/root/P_14/A_14_0/FC_14_0_0/hmmalign.frag.enat2twz.fasta, trim:False, base_alignment:/tmp/sepp/output.vc27tasf/root/P_14/A_14_0/hmmbuild.input.js77knce.fasta\n",
      "[18:54:36] jobs.py (line 131):     INFO: Finished hmmalign Job with input: model:/tmp/sepp/output.vc27tasf/root/P_13/A_13_0/hmmbuild.model.1s00p4q7, fragments:/tmp/sepp/output.vc27tasf/root/P_13/A_13_0/FC_13_0_2/hmmalign.frag._88izfpp.fasta, trim:False, base_alignment:/tmp/sepp/output.vc27tasf/root/P_13/A_13_0/hmmbuild.input.75472x4y.fasta\n",
      "[18:54:36] exhaustive.py (line 151):     INFO: Merging sub-alignments for placement problem : P_13.\n",
      "[18:54:36] jobs.py (line 131):     INFO: Finished hmmalign Job with input: model:/tmp/sepp/output.vc27tasf/root/P_14/A_14_0/hmmbuild.model.jkb9_64v, fragments:/tmp/sepp/output.vc27tasf/root/P_14/A_14_0/FC_14_0_1/hmmalign.frag.6hx4ak3d.fasta, trim:False, base_alignment:/tmp/sepp/output.vc27tasf/root/P_14/A_14_0/hmmbuild.input.js77knce.fasta\n",
      "[18:54:36] jobs.py (line 131):     INFO: Finished hmmalign Job with input: model:/tmp/sepp/output.vc27tasf/root/P_14/A_14_0/hmmbuild.model.jkb9_64v, fragments:/tmp/sepp/output.vc27tasf/root/P_14/A_14_0/FC_14_0_2/hmmalign.frag.3070o0kt.fasta, trim:False, base_alignment:/tmp/sepp/output.vc27tasf/root/P_14/A_14_0/hmmbuild.input.js77knce.fasta\n",
      "[18:54:36] alignment.py (line 556):     INFO: Merging extension sto file (/tmp/sepp/output.vc27tasf/root/P_13/A_13_0/FC_13_0_0/hmmalign.results.l8rv5wfc) into base alignment (/tmp/sepp/output.vc27tasf/root/P_13/A_13_0/hmmbuild.input.75472x4y.fasta).\n",
      "[18:54:36] alignment.py (line 556):     INFO: Merging extension sto file (/tmp/sepp/output.vc27tasf/root/P_13/A_13_0/FC_13_0_1/hmmalign.results.ptb5qsvi) into base alignment (/tmp/sepp/output.vc27tasf/root/P_13/A_13_0/hmmbuild.input.75472x4y.fasta).\n",
      "[18:54:36] alignment.py (line 556):     INFO: Merging extension sto file (/tmp/sepp/output.vc27tasf/root/P_13/A_13_0/FC_13_0_2/hmmalign.results._r0ka4fl) into base alignment (/tmp/sepp/output.vc27tasf/root/P_13/A_13_0/hmmbuild.input.75472x4y.fasta).\n",
      "[18:54:36] exhaustive.py (line 151):     INFO: Merging sub-alignments for placement problem : P_15.\n",
      "[18:54:36] exhaustive.py (line 151):     INFO: Merging sub-alignments for placement problem : P_14.\n",
      "[18:54:36] alignment.py (line 556):     INFO: Merging extension sto file (/tmp/sepp/output.vc27tasf/root/P_14/A_14_0/FC_14_0_0/hmmalign.results.isfhwbfh) into base alignment (/tmp/sepp/output.vc27tasf/root/P_14/A_14_0/hmmbuild.input.js77knce.fasta).\n",
      "[18:54:36] alignment.py (line 556):     INFO: Merging extension sto file (/tmp/sepp/output.vc27tasf/root/P_14/A_14_0/FC_14_0_1/hmmalign.results.6oiklyal) into base alignment (/tmp/sepp/output.vc27tasf/root/P_14/A_14_0/hmmbuild.input.js77knce.fasta).\n",
      "[18:54:36] alignment.py (line 556):     INFO: Merging extension sto file (/tmp/sepp/output.vc27tasf/root/P_14/A_14_0/FC_14_0_2/hmmalign.results.uql6ozig) into base alignment (/tmp/sepp/output.vc27tasf/root/P_14/A_14_0/hmmbuild.input.js77knce.fasta).\n",
      "[18:54:39] jobs.py (line 131):     INFO: Finished pplacer Job with input: backbone_alignment_file:/tmp/sepp/output.vc27tasf/root/P_5/pplacer.backbone.8_bfmqar.fasta, tree_file:/tmp/sepp/output.vc27tasf/root/P_5/pplacer.tree.vynah10s.tre, info_file:/home/lauro/anaconda3/envs/qiime2-2021.11/lib/python3.8/site-packages/picrust2/default_files/prokaryotic/pro_ref/pro_ref.raxml_info, extended alignment:/tmp/sepp/output.vc27tasf/root/P_5/pplacer.extended.1.w8mnb4oo.fasta, output:/tmp/sepp/output.vc27tasf/root/P_5/pplacer.extended.1.w8mnb4oo.jplace\n",
      "[18:54:39] jobs.py (line 131):     INFO: Finished pplacer Job with input: backbone_alignment_file:/tmp/sepp/output.vc27tasf/root/P_5/pplacer.backbone.3d2ptzux.fasta, tree_file:/tmp/sepp/output.vc27tasf/root/P_5/pplacer.tree.ylx34xad.tre, info_file:/home/lauro/anaconda3/envs/qiime2-2021.11/lib/python3.8/site-packages/picrust2/default_files/prokaryotic/pro_ref/pro_ref.raxml_info, extended alignment:/tmp/sepp/output.vc27tasf/root/P_5/pplacer.extended.0.2jjnx9i4.fasta, output:/tmp/sepp/output.vc27tasf/root/P_5/pplacer.extended.0.2jjnx9i4.jplace\n",
      "[18:54:41] jobs.py (line 131):     INFO: Finished pplacer Job with input: backbone_alignment_file:/tmp/sepp/output.vc27tasf/root/P_5/pplacer.backbone.vock1go2.fasta, tree_file:/tmp/sepp/output.vc27tasf/root/P_5/pplacer.tree.m67hduv8.tre, info_file:/home/lauro/anaconda3/envs/qiime2-2021.11/lib/python3.8/site-packages/picrust2/default_files/prokaryotic/pro_ref/pro_ref.raxml_info, extended alignment:/tmp/sepp/output.vc27tasf/root/P_5/pplacer.extended.2.mdv0zzty.fasta, output:/tmp/sepp/output.vc27tasf/root/P_5/pplacer.extended.2.mdv0zzty.jplace\n",
      "[18:54:43] jobs.py (line 131):     INFO: Finished pplacer Job with input: backbone_alignment_file:/tmp/sepp/output.vc27tasf/root/P_1/pplacer.backbone.46tx5oq8.fasta, tree_file:/tmp/sepp/output.vc27tasf/root/P_1/pplacer.tree.xixmnfjp.tre, info_file:/home/lauro/anaconda3/envs/qiime2-2021.11/lib/python3.8/site-packages/picrust2/default_files/prokaryotic/pro_ref/pro_ref.raxml_info, extended alignment:/tmp/sepp/output.vc27tasf/root/P_1/pplacer.extended.0.87yjb6_r.fasta, output:/tmp/sepp/output.vc27tasf/root/P_1/pplacer.extended.0.87yjb6_r.jplace\n",
      "[18:54:43] jobs.py (line 131):     INFO: Finished pplacer Job with input: backbone_alignment_file:/tmp/sepp/output.vc27tasf/root/P_1/pplacer.backbone.ff3gz_fj.fasta, tree_file:/tmp/sepp/output.vc27tasf/root/P_1/pplacer.tree.o81i3bu6.tre, info_file:/home/lauro/anaconda3/envs/qiime2-2021.11/lib/python3.8/site-packages/picrust2/default_files/prokaryotic/pro_ref/pro_ref.raxml_info, extended alignment:/tmp/sepp/output.vc27tasf/root/P_1/pplacer.extended.1.rq7ahlqa.fasta, output:/tmp/sepp/output.vc27tasf/root/P_1/pplacer.extended.1.rq7ahlqa.jplace\n",
      "[18:54:43] jobs.py (line 131):     INFO: Finished hmmalign Job with input: model:/tmp/sepp/output.vc27tasf/root/P_11/A_11_0/hmmbuild.model.ccxw3_hm, fragments:/tmp/sepp/output.vc27tasf/root/P_11/A_11_0/FC_11_0_2/hmmalign.frag._ckink1n.fasta, trim:False, base_alignment:/tmp/sepp/output.vc27tasf/root/P_11/A_11_0/hmmbuild.input.0zrt_loi.fasta\n",
      "[18:54:43] jobs.py (line 131):     INFO: Finished hmmalign Job with input: model:/tmp/sepp/output.vc27tasf/root/P_11/A_11_0/hmmbuild.model.ccxw3_hm, fragments:/tmp/sepp/output.vc27tasf/root/P_11/A_11_0/FC_11_0_1/hmmalign.frag.omuxwsim.fasta, trim:False, base_alignment:/tmp/sepp/output.vc27tasf/root/P_11/A_11_0/hmmbuild.input.0zrt_loi.fasta\n",
      "[18:54:44] jobs.py (line 131):     INFO: Finished hmmalign Job with input: model:/tmp/sepp/output.vc27tasf/root/P_11/A_11_0/hmmbuild.model.ccxw3_hm, fragments:/tmp/sepp/output.vc27tasf/root/P_11/A_11_0/FC_11_0_0/hmmalign.frag.63bjqvvf.fasta, trim:False, base_alignment:/tmp/sepp/output.vc27tasf/root/P_11/A_11_0/hmmbuild.input.0zrt_loi.fasta\n",
      "[18:54:44] exhaustive.py (line 151):     INFO: Merging sub-alignments for placement problem : P_11.\n",
      "[18:54:44] alignment.py (line 556):     INFO: Merging extension sto file (/tmp/sepp/output.vc27tasf/root/P_11/A_11_0/FC_11_0_0/hmmalign.results.3r2adaxd) into base alignment (/tmp/sepp/output.vc27tasf/root/P_11/A_11_0/hmmbuild.input.0zrt_loi.fasta).\n",
      "[18:54:44] alignment.py (line 556):     INFO: Merging extension sto file (/tmp/sepp/output.vc27tasf/root/P_11/A_11_0/FC_11_0_1/hmmalign.results.so5yuh6l) into base alignment (/tmp/sepp/output.vc27tasf/root/P_11/A_11_0/hmmbuild.input.0zrt_loi.fasta).\n",
      "[18:54:44] alignment.py (line 556):     INFO: Merging extension sto file (/tmp/sepp/output.vc27tasf/root/P_11/A_11_0/FC_11_0_2/hmmalign.results.bxsqdsf5) into base alignment (/tmp/sepp/output.vc27tasf/root/P_11/A_11_0/hmmbuild.input.0zrt_loi.fasta).\n",
      "[18:54:47] jobs.py (line 131):     INFO: Finished pplacer Job with input: backbone_alignment_file:/tmp/sepp/output.vc27tasf/root/P_1/pplacer.backbone.q_r2206u.fasta, tree_file:/tmp/sepp/output.vc27tasf/root/P_1/pplacer.tree.jpf_aj5l.tre, info_file:/home/lauro/anaconda3/envs/qiime2-2021.11/lib/python3.8/site-packages/picrust2/default_files/prokaryotic/pro_ref/pro_ref.raxml_info, extended alignment:/tmp/sepp/output.vc27tasf/root/P_1/pplacer.extended.2.k1g1k8k0.fasta, output:/tmp/sepp/output.vc27tasf/root/P_1/pplacer.extended.2.k1g1k8k0.jplace\n",
      "[18:54:47] jobs.py (line 131):     INFO: Finished pplacer Job with input: backbone_alignment_file:/tmp/sepp/output.vc27tasf/root/P_7/pplacer.backbone._2dn1r3v.fasta, tree_file:/tmp/sepp/output.vc27tasf/root/P_7/pplacer.tree.vj_fj4l7.tre, info_file:/home/lauro/anaconda3/envs/qiime2-2021.11/lib/python3.8/site-packages/picrust2/default_files/prokaryotic/pro_ref/pro_ref.raxml_info, extended alignment:/tmp/sepp/output.vc27tasf/root/P_7/pplacer.extended.0.iovwzre_.fasta, output:/tmp/sepp/output.vc27tasf/root/P_7/pplacer.extended.0.iovwzre_.jplace\n",
      "[18:54:49] jobs.py (line 131):     INFO: Finished pplacer Job with input: backbone_alignment_file:/tmp/sepp/output.vc27tasf/root/P_6/pplacer.backbone.03gjeav3.fasta, tree_file:/tmp/sepp/output.vc27tasf/root/P_6/pplacer.tree.4pltb9je.tre, info_file:/home/lauro/anaconda3/envs/qiime2-2021.11/lib/python3.8/site-packages/picrust2/default_files/prokaryotic/pro_ref/pro_ref.raxml_info, extended alignment:/tmp/sepp/output.vc27tasf/root/P_6/pplacer.extended.1.f63h_glz.fasta, output:/tmp/sepp/output.vc27tasf/root/P_6/pplacer.extended.1.f63h_glz.jplace\n",
      "[18:54:50] jobs.py (line 131):     INFO: Finished pplacer Job with input: backbone_alignment_file:/tmp/sepp/output.vc27tasf/root/P_7/pplacer.backbone.bjsl4jxj.fasta, tree_file:/tmp/sepp/output.vc27tasf/root/P_7/pplacer.tree.t7pnr0j1.tre, info_file:/home/lauro/anaconda3/envs/qiime2-2021.11/lib/python3.8/site-packages/picrust2/default_files/prokaryotic/pro_ref/pro_ref.raxml_info, extended alignment:/tmp/sepp/output.vc27tasf/root/P_7/pplacer.extended.1.e4ymjj85.fasta, output:/tmp/sepp/output.vc27tasf/root/P_7/pplacer.extended.1.e4ymjj85.jplace\n",
      "[18:54:51] jobs.py (line 131):     INFO: Finished pplacer Job with input: backbone_alignment_file:/tmp/sepp/output.vc27tasf/root/P_7/pplacer.backbone.e0uzgswt.fasta, tree_file:/tmp/sepp/output.vc27tasf/root/P_7/pplacer.tree.kxkf50ej.tre, info_file:/home/lauro/anaconda3/envs/qiime2-2021.11/lib/python3.8/site-packages/picrust2/default_files/prokaryotic/pro_ref/pro_ref.raxml_info, extended alignment:/tmp/sepp/output.vc27tasf/root/P_7/pplacer.extended.2.eooiejc4.fasta, output:/tmp/sepp/output.vc27tasf/root/P_7/pplacer.extended.2.eooiejc4.jplace\n",
      "[18:54:51] jobs.py (line 131):     INFO: Finished pplacer Job with input: backbone_alignment_file:/tmp/sepp/output.vc27tasf/root/P_8/pplacer.backbone.fzh4sfyj.fasta, tree_file:/tmp/sepp/output.vc27tasf/root/P_8/pplacer.tree.33eubmaw.tre, info_file:/home/lauro/anaconda3/envs/qiime2-2021.11/lib/python3.8/site-packages/picrust2/default_files/prokaryotic/pro_ref/pro_ref.raxml_info, extended alignment:/tmp/sepp/output.vc27tasf/root/P_8/pplacer.extended.0.7xd0tuya.fasta, output:/tmp/sepp/output.vc27tasf/root/P_8/pplacer.extended.0.7xd0tuya.jplace\n",
      "[18:54:52] jobs.py (line 131):     INFO: Finished pplacer Job with input: backbone_alignment_file:/tmp/sepp/output.vc27tasf/root/P_8/pplacer.backbone.fhvdb78y.fasta, tree_file:/tmp/sepp/output.vc27tasf/root/P_8/pplacer.tree.j73lsu24.tre, info_file:/home/lauro/anaconda3/envs/qiime2-2021.11/lib/python3.8/site-packages/picrust2/default_files/prokaryotic/pro_ref/pro_ref.raxml_info, extended alignment:/tmp/sepp/output.vc27tasf/root/P_8/pplacer.extended.1.ywp7yfrm.fasta, output:/tmp/sepp/output.vc27tasf/root/P_8/pplacer.extended.1.ywp7yfrm.jplace\n",
      "[18:54:54] jobs.py (line 131):     INFO: Finished pplacer Job with input: backbone_alignment_file:/tmp/sepp/output.vc27tasf/root/P_6/pplacer.backbone.9ixoi2yk.fasta, tree_file:/tmp/sepp/output.vc27tasf/root/P_6/pplacer.tree.if6p_w1s.tre, info_file:/home/lauro/anaconda3/envs/qiime2-2021.11/lib/python3.8/site-packages/picrust2/default_files/prokaryotic/pro_ref/pro_ref.raxml_info, extended alignment:/tmp/sepp/output.vc27tasf/root/P_6/pplacer.extended.0.kqmb7fr4.fasta, output:/tmp/sepp/output.vc27tasf/root/P_6/pplacer.extended.0.kqmb7fr4.jplace\n",
      "[18:54:54] jobs.py (line 131):     INFO: Finished pplacer Job with input: backbone_alignment_file:/tmp/sepp/output.vc27tasf/root/P_10/pplacer.backbone.rhf6q_iw.fasta, tree_file:/tmp/sepp/output.vc27tasf/root/P_10/pplacer.tree.30jzgqvb.tre, info_file:/home/lauro/anaconda3/envs/qiime2-2021.11/lib/python3.8/site-packages/picrust2/default_files/prokaryotic/pro_ref/pro_ref.raxml_info, extended alignment:/tmp/sepp/output.vc27tasf/root/P_10/pplacer.extended.1.89dr9i3k.fasta, output:/tmp/sepp/output.vc27tasf/root/P_10/pplacer.extended.1.89dr9i3k.jplace\n",
      "[18:54:55] jobs.py (line 131):     INFO: Finished pplacer Job with input: backbone_alignment_file:/tmp/sepp/output.vc27tasf/root/P_10/pplacer.backbone.bzrma08i.fasta, tree_file:/tmp/sepp/output.vc27tasf/root/P_10/pplacer.tree.d72u_y51.tre, info_file:/home/lauro/anaconda3/envs/qiime2-2021.11/lib/python3.8/site-packages/picrust2/default_files/prokaryotic/pro_ref/pro_ref.raxml_info, extended alignment:/tmp/sepp/output.vc27tasf/root/P_10/pplacer.extended.2.djae17ju.fasta, output:/tmp/sepp/output.vc27tasf/root/P_10/pplacer.extended.2.djae17ju.jplace\n",
      "[18:54:55] jobs.py (line 131):     INFO: Finished pplacer Job with input: backbone_alignment_file:/tmp/sepp/output.vc27tasf/root/P_8/pplacer.backbone.2mgoj52_.fasta, tree_file:/tmp/sepp/output.vc27tasf/root/P_8/pplacer.tree.g6jsp46c.tre, info_file:/home/lauro/anaconda3/envs/qiime2-2021.11/lib/python3.8/site-packages/picrust2/default_files/prokaryotic/pro_ref/pro_ref.raxml_info, extended alignment:/tmp/sepp/output.vc27tasf/root/P_8/pplacer.extended.2.zbtp7_9p.fasta, output:/tmp/sepp/output.vc27tasf/root/P_8/pplacer.extended.2.zbtp7_9p.jplace\n",
      "[18:54:56] jobs.py (line 131):     INFO: Finished pplacer Job with input: backbone_alignment_file:/tmp/sepp/output.vc27tasf/root/P_10/pplacer.backbone.tl5n_wb1.fasta, tree_file:/tmp/sepp/output.vc27tasf/root/P_10/pplacer.tree.k13ceg60.tre, info_file:/home/lauro/anaconda3/envs/qiime2-2021.11/lib/python3.8/site-packages/picrust2/default_files/prokaryotic/pro_ref/pro_ref.raxml_info, extended alignment:/tmp/sepp/output.vc27tasf/root/P_10/pplacer.extended.0.gp3uqcom.fasta, output:/tmp/sepp/output.vc27tasf/root/P_10/pplacer.extended.0.gp3uqcom.jplace\n",
      "[18:54:57] jobs.py (line 131):     INFO: Finished pplacer Job with input: backbone_alignment_file:/tmp/sepp/output.vc27tasf/root/P_6/pplacer.backbone.h3sg7b2j.fasta, tree_file:/tmp/sepp/output.vc27tasf/root/P_6/pplacer.tree.m7y309pm.tre, info_file:/home/lauro/anaconda3/envs/qiime2-2021.11/lib/python3.8/site-packages/picrust2/default_files/prokaryotic/pro_ref/pro_ref.raxml_info, extended alignment:/tmp/sepp/output.vc27tasf/root/P_6/pplacer.extended.2.h2o_i3lm.fasta, output:/tmp/sepp/output.vc27tasf/root/P_6/pplacer.extended.2.h2o_i3lm.jplace\n",
      "[18:55:00] jobs.py (line 131):     INFO: Finished pplacer Job with input: backbone_alignment_file:/tmp/sepp/output.vc27tasf/root/P_9/pplacer.backbone.jp3mfvzt.fasta, tree_file:/tmp/sepp/output.vc27tasf/root/P_9/pplacer.tree.nxeft7ym.tre, info_file:/home/lauro/anaconda3/envs/qiime2-2021.11/lib/python3.8/site-packages/picrust2/default_files/prokaryotic/pro_ref/pro_ref.raxml_info, extended alignment:/tmp/sepp/output.vc27tasf/root/P_9/pplacer.extended.1.prbl98ck.fasta, output:/tmp/sepp/output.vc27tasf/root/P_9/pplacer.extended.1.prbl98ck.jplace\n",
      "[18:55:02] jobs.py (line 131):     INFO: Finished pplacer Job with input: backbone_alignment_file:/tmp/sepp/output.vc27tasf/root/P_9/pplacer.backbone.b13w1ny9.fasta, tree_file:/tmp/sepp/output.vc27tasf/root/P_9/pplacer.tree.3lkw0_jx.tre, info_file:/home/lauro/anaconda3/envs/qiime2-2021.11/lib/python3.8/site-packages/picrust2/default_files/prokaryotic/pro_ref/pro_ref.raxml_info, extended alignment:/tmp/sepp/output.vc27tasf/root/P_9/pplacer.extended.0.e9_36o53.fasta, output:/tmp/sepp/output.vc27tasf/root/P_9/pplacer.extended.0.e9_36o53.jplace\n",
      "[18:55:03] jobs.py (line 131):     INFO: Finished pplacer Job with input: backbone_alignment_file:/tmp/sepp/output.vc27tasf/root/P_9/pplacer.backbone.i300ipvp.fasta, tree_file:/tmp/sepp/output.vc27tasf/root/P_9/pplacer.tree.6yuklymn.tre, info_file:/home/lauro/anaconda3/envs/qiime2-2021.11/lib/python3.8/site-packages/picrust2/default_files/prokaryotic/pro_ref/pro_ref.raxml_info, extended alignment:/tmp/sepp/output.vc27tasf/root/P_9/pplacer.extended.2.nsgv_up_.fasta, output:/tmp/sepp/output.vc27tasf/root/P_9/pplacer.extended.2.nsgv_up_.jplace\n",
      "[18:55:05] jobs.py (line 131):     INFO: Finished pplacer Job with input: backbone_alignment_file:/tmp/sepp/output.vc27tasf/root/P_13/pplacer.backbone.s9r55cna.fasta, tree_file:/tmp/sepp/output.vc27tasf/root/P_13/pplacer.tree.3wybei1p.tre, info_file:/home/lauro/anaconda3/envs/qiime2-2021.11/lib/python3.8/site-packages/picrust2/default_files/prokaryotic/pro_ref/pro_ref.raxml_info, extended alignment:/tmp/sepp/output.vc27tasf/root/P_13/pplacer.extended.1.d4yne6p1.fasta, output:/tmp/sepp/output.vc27tasf/root/P_13/pplacer.extended.1.d4yne6p1.jplace\n",
      "[18:55:05] jobs.py (line 131):     INFO: Finished pplacer Job with input: backbone_alignment_file:/tmp/sepp/output.vc27tasf/root/P_13/pplacer.backbone.tc4x7ls3.fasta, tree_file:/tmp/sepp/output.vc27tasf/root/P_13/pplacer.tree.23ixjbl1.tre, info_file:/home/lauro/anaconda3/envs/qiime2-2021.11/lib/python3.8/site-packages/picrust2/default_files/prokaryotic/pro_ref/pro_ref.raxml_info, extended alignment:/tmp/sepp/output.vc27tasf/root/P_13/pplacer.extended.0.cgji6qmv.fasta, output:/tmp/sepp/output.vc27tasf/root/P_13/pplacer.extended.0.cgji6qmv.jplace\n",
      "[18:55:06] jobs.py (line 131):     INFO: Finished pplacer Job with input: backbone_alignment_file:/tmp/sepp/output.vc27tasf/root/P_12/pplacer.backbone.endawrb5.fasta, tree_file:/tmp/sepp/output.vc27tasf/root/P_12/pplacer.tree.wto3uh2_.tre, info_file:/home/lauro/anaconda3/envs/qiime2-2021.11/lib/python3.8/site-packages/picrust2/default_files/prokaryotic/pro_ref/pro_ref.raxml_info, extended alignment:/tmp/sepp/output.vc27tasf/root/P_12/pplacer.extended.0.s_w384gd.fasta, output:/tmp/sepp/output.vc27tasf/root/P_12/pplacer.extended.0.s_w384gd.jplace\n",
      "[18:55:07] jobs.py (line 131):     INFO: Finished pplacer Job with input: backbone_alignment_file:/tmp/sepp/output.vc27tasf/root/P_13/pplacer.backbone.97elpcq7.fasta, tree_file:/tmp/sepp/output.vc27tasf/root/P_13/pplacer.tree.8v1thjxz.tre, info_file:/home/lauro/anaconda3/envs/qiime2-2021.11/lib/python3.8/site-packages/picrust2/default_files/prokaryotic/pro_ref/pro_ref.raxml_info, extended alignment:/tmp/sepp/output.vc27tasf/root/P_13/pplacer.extended.2.eisj5fxk.fasta, output:/tmp/sepp/output.vc27tasf/root/P_13/pplacer.extended.2.eisj5fxk.jplace\n",
      "[18:55:07] jobs.py (line 131):     INFO: Finished pplacer Job with input: backbone_alignment_file:/tmp/sepp/output.vc27tasf/root/P_12/pplacer.backbone.840wfy_x.fasta, tree_file:/tmp/sepp/output.vc27tasf/root/P_12/pplacer.tree.4fphaeii.tre, info_file:/home/lauro/anaconda3/envs/qiime2-2021.11/lib/python3.8/site-packages/picrust2/default_files/prokaryotic/pro_ref/pro_ref.raxml_info, extended alignment:/tmp/sepp/output.vc27tasf/root/P_12/pplacer.extended.1.gjhokca8.fasta, output:/tmp/sepp/output.vc27tasf/root/P_12/pplacer.extended.1.gjhokca8.jplace\n",
      "[18:55:08] jobs.py (line 131):     INFO: Finished pplacer Job with input: backbone_alignment_file:/tmp/sepp/output.vc27tasf/root/P_12/pplacer.backbone.w7m4nmp1.fasta, tree_file:/tmp/sepp/output.vc27tasf/root/P_12/pplacer.tree.i1b0z38a.tre, info_file:/home/lauro/anaconda3/envs/qiime2-2021.11/lib/python3.8/site-packages/picrust2/default_files/prokaryotic/pro_ref/pro_ref.raxml_info, extended alignment:/tmp/sepp/output.vc27tasf/root/P_12/pplacer.extended.2.uvt6j_2t.fasta, output:/tmp/sepp/output.vc27tasf/root/P_12/pplacer.extended.2.uvt6j_2t.jplace\n",
      "[18:55:11] jobs.py (line 131):     INFO: Finished pplacer Job with input: backbone_alignment_file:/tmp/sepp/output.vc27tasf/root/P_14/pplacer.backbone.mu8n1ncm.fasta, tree_file:/tmp/sepp/output.vc27tasf/root/P_14/pplacer.tree.gudr59yf.tre, info_file:/home/lauro/anaconda3/envs/qiime2-2021.11/lib/python3.8/site-packages/picrust2/default_files/prokaryotic/pro_ref/pro_ref.raxml_info, extended alignment:/tmp/sepp/output.vc27tasf/root/P_14/pplacer.extended.0.dhi4uhxd.fasta, output:/tmp/sepp/output.vc27tasf/root/P_14/pplacer.extended.0.dhi4uhxd.jplace\n",
      "[18:55:11] jobs.py (line 131):     INFO: Finished pplacer Job with input: backbone_alignment_file:/tmp/sepp/output.vc27tasf/root/P_14/pplacer.backbone.orp2flha.fasta, tree_file:/tmp/sepp/output.vc27tasf/root/P_14/pplacer.tree.01tjg9ym.tre, info_file:/home/lauro/anaconda3/envs/qiime2-2021.11/lib/python3.8/site-packages/picrust2/default_files/prokaryotic/pro_ref/pro_ref.raxml_info, extended alignment:/tmp/sepp/output.vc27tasf/root/P_14/pplacer.extended.1.odv0g1_8.fasta, output:/tmp/sepp/output.vc27tasf/root/P_14/pplacer.extended.1.odv0g1_8.jplace\n",
      "[18:55:11] jobs.py (line 131):     INFO: Finished pplacer Job with input: backbone_alignment_file:/tmp/sepp/output.vc27tasf/root/P_14/pplacer.backbone.rfqw1lgi.fasta, tree_file:/tmp/sepp/output.vc27tasf/root/P_14/pplacer.tree.qidqmfox.tre, info_file:/home/lauro/anaconda3/envs/qiime2-2021.11/lib/python3.8/site-packages/picrust2/default_files/prokaryotic/pro_ref/pro_ref.raxml_info, extended alignment:/tmp/sepp/output.vc27tasf/root/P_14/pplacer.extended.2.ufovv9uz.fasta, output:/tmp/sepp/output.vc27tasf/root/P_14/pplacer.extended.2.ufovv9uz.jplace\n",
      "[18:55:40] jobs.py (line 131):     INFO: Finished pplacer Job with input: backbone_alignment_file:/tmp/sepp/output.vc27tasf/root/P_11/pplacer.backbone.b27e4cea.fasta, tree_file:/tmp/sepp/output.vc27tasf/root/P_11/pplacer.tree.nw7ifwe_.tre, info_file:/home/lauro/anaconda3/envs/qiime2-2021.11/lib/python3.8/site-packages/picrust2/default_files/prokaryotic/pro_ref/pro_ref.raxml_info, extended alignment:/tmp/sepp/output.vc27tasf/root/P_11/pplacer.extended.2.z0544jdm.fasta, output:/tmp/sepp/output.vc27tasf/root/P_11/pplacer.extended.2.z0544jdm.jplace\n",
      "[18:55:41] jobs.py (line 131):     INFO: Finished pplacer Job with input: backbone_alignment_file:/tmp/sepp/output.vc27tasf/root/P_11/pplacer.backbone.duxzzs0r.fasta, tree_file:/tmp/sepp/output.vc27tasf/root/P_11/pplacer.tree.bqi_o0wv.tre, info_file:/home/lauro/anaconda3/envs/qiime2-2021.11/lib/python3.8/site-packages/picrust2/default_files/prokaryotic/pro_ref/pro_ref.raxml_info, extended alignment:/tmp/sepp/output.vc27tasf/root/P_11/pplacer.extended.0.w39e62ke.fasta, output:/tmp/sepp/output.vc27tasf/root/P_11/pplacer.extended.0.w39e62ke.jplace\n",
      "[18:55:41] jobs.py (line 131):     INFO: Finished pplacer Job with input: backbone_alignment_file:/tmp/sepp/output.vc27tasf/root/P_11/pplacer.backbone.m35uph9j.fasta, tree_file:/tmp/sepp/output.vc27tasf/root/P_11/pplacer.tree.ztk_a0fk.tre, info_file:/home/lauro/anaconda3/envs/qiime2-2021.11/lib/python3.8/site-packages/picrust2/default_files/prokaryotic/pro_ref/pro_ref.raxml_info, extended alignment:/tmp/sepp/output.vc27tasf/root/P_11/pplacer.extended.1.5kil7rep.fasta, output:/tmp/sepp/output.vc27tasf/root/P_11/pplacer.extended.1.5kil7rep.jplace\n",
      "[18:55:50] jobs.py (line 131):     INFO: Finished jsonmerger Job with input: input:pipe output:/tmp/tmpgqnfzc7i/picrust2_out/intermediate/place_seqs/sepp_out/output_placement.json\n",
      "[18:55:51] algorithm.py (line 195):     INFO: Current execution Finished in 132 seconds\n",
      "[18:55:51] algorithm.py (line 197):     INFO: All checkpointed executions Finished in 132 cumulative time\n",
      "\n",
      "gappa examine graft --jplace-path /tmp/tmpgqnfzc7i/picrust2_out/intermediate/place_seqs/sepp_out/output_placement.json --fully-resolve --out-dir /tmp/tmpgqnfzc7i/picrust2_out/intermediate/place_seqs/sepp_out\n",
      "\n",
      "mv /tmp/tmpgqnfzc7i/picrust2_out/intermediate/place_seqs/sepp_out/output_placement.newick /tmp/tmpgqnfzc7i/picrust2_out/out.tre\n",
      "\n",
      "Finished placing sequences on output tree: /tmp/tmpgqnfzc7i/picrust2_out/out.tre\n",
      "hsp.py --tree /tmp/tmpgqnfzc7i/picrust2_out/out.tre --output /tmp/tmpgqnfzc7i/picrust2_out/marker_predicted_and_nsti.tsv.gz --observed_trait_table /home/lauro/anaconda3/envs/qiime2-2021.11/lib/python3.8/site-packages/picrust2/default_files/prokaryotic/16S.txt.gz --hsp_method pic --edge_exponent 0.5 --seed 100 --calculate_NSTI --processes 1 --verbose\n"
     ]
    },
    {
     "name": "stdout",
     "output_type": "stream",
     "text": [
      "\n",
      "\n",
      "\n"
     ]
    },
    {
     "name": "stderr",
     "output_type": "stream",
     "text": [
      "Rscript /home/lauro/anaconda3/envs/qiime2-2021.11/lib/python3.8/site-packages/picrust2/Rscripts/castor_nsti.R /tmp/tmpgqnfzc7i/picrust2_out/out.tre /tmp/tmpjoaft9fp/known_tips.txt /tmp/tmpjoaft9fp/nsti_out.txt\n",
      "\n",
      "Rscript /home/lauro/anaconda3/envs/qiime2-2021.11/lib/python3.8/site-packages/picrust2/Rscripts/castor_hsp.R /tmp/tmpgqnfzc7i/picrust2_out/out.tre /tmp/tmptxyqttav/subset_tab_0 pic 0.5 FALSE FALSE /tmp/tmpja_4c59w/predicted_counts.txt /tmp/tmpja_4c59w/predicted_ci.txt 100\n",
      "\n",
      "\n",
      "hsp.py --tree /tmp/tmpgqnfzc7i/picrust2_out/out.tre --output /tmp/tmpgqnfzc7i/picrust2_out/EC_predicted.tsv.gz --observed_trait_table /home/lauro/anaconda3/envs/qiime2-2021.11/lib/python3.8/site-packages/picrust2/default_files/prokaryotic/ec.txt.gz --hsp_method pic --edge_exponent 0.5 --seed 100 --processes 6 --verbose\n"
     ]
    },
    {
     "name": "stdout",
     "output_type": "stream",
     "text": [
      "\n",
      "\n",
      "\n",
      "\n",
      "\n",
      "\n",
      "\n"
     ]
    },
    {
     "name": "stderr",
     "output_type": "stream",
     "text": [
      "Rscript /home/lauro/anaconda3/envs/qiime2-2021.11/lib/python3.8/site-packages/picrust2/Rscripts/castor_hsp.R /tmp/tmpgqnfzc7i/picrust2_out/out.tre /tmp/tmpizpysiwg/subset_tab_5 pic 0.5 FALSE FALSE /tmp/tmpmf5dv47o/predicted_counts.txt /tmp/tmpmf5dv47o/predicted_ci.txt 100\n",
      "\n",
      "Rscript /home/lauro/anaconda3/envs/qiime2-2021.11/lib/python3.8/site-packages/picrust2/Rscripts/castor_hsp.R /tmp/tmpgqnfzc7i/picrust2_out/out.tre /tmp/tmpizpysiwg/subset_tab_0 pic 0.5 FALSE FALSE /tmp/tmpv3tjj1l1/predicted_counts.txt /tmp/tmpv3tjj1l1/predicted_ci.txt 100\n",
      "\n",
      "Rscript /home/lauro/anaconda3/envs/qiime2-2021.11/lib/python3.8/site-packages/picrust2/Rscripts/castor_hsp.R /tmp/tmpgqnfzc7i/picrust2_out/out.tre /tmp/tmpizpysiwg/subset_tab_4 pic 0.5 FALSE FALSE /tmp/tmp9ac3oelf/predicted_counts.txt /tmp/tmp9ac3oelf/predicted_ci.txt 100\n",
      "\n",
      "Rscript /home/lauro/anaconda3/envs/qiime2-2021.11/lib/python3.8/site-packages/picrust2/Rscripts/castor_hsp.R /tmp/tmpgqnfzc7i/picrust2_out/out.tre /tmp/tmpizpysiwg/subset_tab_1 pic 0.5 FALSE FALSE /tmp/tmpg7nucwj2/predicted_counts.txt /tmp/tmpg7nucwj2/predicted_ci.txt 100\n",
      "\n",
      "Rscript /home/lauro/anaconda3/envs/qiime2-2021.11/lib/python3.8/site-packages/picrust2/Rscripts/castor_hsp.R /tmp/tmpgqnfzc7i/picrust2_out/out.tre /tmp/tmpizpysiwg/subset_tab_2 pic 0.5 FALSE FALSE /tmp/tmpngdm7j91/predicted_counts.txt /tmp/tmpngdm7j91/predicted_ci.txt 100\n",
      "\n",
      "Rscript /home/lauro/anaconda3/envs/qiime2-2021.11/lib/python3.8/site-packages/picrust2/Rscripts/castor_hsp.R /tmp/tmpgqnfzc7i/picrust2_out/out.tre /tmp/tmpizpysiwg/subset_tab_3 pic 0.5 FALSE FALSE /tmp/tmp38sb8j96/predicted_counts.txt /tmp/tmp38sb8j96/predicted_ci.txt 100\n",
      "\n",
      "\n",
      "hsp.py --tree /tmp/tmpgqnfzc7i/picrust2_out/out.tre --output /tmp/tmpgqnfzc7i/picrust2_out/KO_predicted.tsv.gz --observed_trait_table /home/lauro/anaconda3/envs/qiime2-2021.11/lib/python3.8/site-packages/picrust2/default_files/prokaryotic/ko.txt.gz --hsp_method pic --edge_exponent 0.5 --seed 100 --processes 6 --verbose\n"
     ]
    },
    {
     "name": "stdout",
     "output_type": "stream",
     "text": [
      "\n",
      "\n",
      "\n",
      "\n",
      "\n",
      "\n",
      "\n",
      "\n",
      "\n",
      "\n",
      "\n",
      "\n",
      "\n",
      "\n",
      "\n",
      "\n",
      "\n",
      "\n",
      "\n",
      "\n",
      "\n",
      "\n",
      "\n"
     ]
    },
    {
     "name": "stderr",
     "output_type": "stream",
     "text": [
      "Rscript /home/lauro/anaconda3/envs/qiime2-2021.11/lib/python3.8/site-packages/picrust2/Rscripts/castor_hsp.R /tmp/tmpgqnfzc7i/picrust2_out/out.tre /tmp/tmpst5sg2ya/subset_tab_4 pic 0.5 FALSE FALSE /tmp/tmpsqsvgl4u/predicted_counts.txt /tmp/tmpsqsvgl4u/predicted_ci.txt 100\n",
      "\n",
      "Rscript /home/lauro/anaconda3/envs/qiime2-2021.11/lib/python3.8/site-packages/picrust2/Rscripts/castor_hsp.R /tmp/tmpgqnfzc7i/picrust2_out/out.tre /tmp/tmpst5sg2ya/subset_tab_10 pic 0.5 FALSE FALSE /tmp/tmp8x7syl4e/predicted_counts.txt /tmp/tmp8x7syl4e/predicted_ci.txt 100\n",
      "\n",
      "Rscript /home/lauro/anaconda3/envs/qiime2-2021.11/lib/python3.8/site-packages/picrust2/Rscripts/castor_hsp.R /tmp/tmpgqnfzc7i/picrust2_out/out.tre /tmp/tmpst5sg2ya/subset_tab_17 pic 0.5 FALSE FALSE /tmp/tmpkrmefx0i/predicted_counts.txt /tmp/tmpkrmefx0i/predicted_ci.txt 100\n",
      "\n",
      "Rscript /home/lauro/anaconda3/envs/qiime2-2021.11/lib/python3.8/site-packages/picrust2/Rscripts/castor_hsp.R /tmp/tmpgqnfzc7i/picrust2_out/out.tre /tmp/tmpst5sg2ya/subset_tab_5 pic 0.5 FALSE FALSE /tmp/tmp0pfyealc/predicted_counts.txt /tmp/tmp0pfyealc/predicted_ci.txt 100\n",
      "\n",
      "Rscript /home/lauro/anaconda3/envs/qiime2-2021.11/lib/python3.8/site-packages/picrust2/Rscripts/castor_hsp.R /tmp/tmpgqnfzc7i/picrust2_out/out.tre /tmp/tmpst5sg2ya/subset_tab_11 pic 0.5 FALSE FALSE /tmp/tmp5c2xudpx/predicted_counts.txt /tmp/tmp5c2xudpx/predicted_ci.txt 100\n",
      "\n",
      "Rscript /home/lauro/anaconda3/envs/qiime2-2021.11/lib/python3.8/site-packages/picrust2/Rscripts/castor_hsp.R /tmp/tmpgqnfzc7i/picrust2_out/out.tre /tmp/tmpst5sg2ya/subset_tab_15 pic 0.5 FALSE FALSE /tmp/tmpb8htvq8t/predicted_counts.txt /tmp/tmpb8htvq8t/predicted_ci.txt 100\n",
      "\n",
      "Rscript /home/lauro/anaconda3/envs/qiime2-2021.11/lib/python3.8/site-packages/picrust2/Rscripts/castor_hsp.R /tmp/tmpgqnfzc7i/picrust2_out/out.tre /tmp/tmpst5sg2ya/subset_tab_21 pic 0.5 FALSE FALSE /tmp/tmplcf1pcjm/predicted_counts.txt /tmp/tmplcf1pcjm/predicted_ci.txt 100\n",
      "\n",
      "Rscript /home/lauro/anaconda3/envs/qiime2-2021.11/lib/python3.8/site-packages/picrust2/Rscripts/castor_hsp.R /tmp/tmpgqnfzc7i/picrust2_out/out.tre /tmp/tmpst5sg2ya/subset_tab_2 pic 0.5 FALSE FALSE /tmp/tmp0fu_k8zm/predicted_counts.txt /tmp/tmp0fu_k8zm/predicted_ci.txt 100\n",
      "\n",
      "Rscript /home/lauro/anaconda3/envs/qiime2-2021.11/lib/python3.8/site-packages/picrust2/Rscripts/castor_hsp.R /tmp/tmpgqnfzc7i/picrust2_out/out.tre /tmp/tmpst5sg2ya/subset_tab_6 pic 0.5 FALSE FALSE /tmp/tmpi1gc_sjt/predicted_counts.txt /tmp/tmpi1gc_sjt/predicted_ci.txt 100\n",
      "\n",
      "Rscript /home/lauro/anaconda3/envs/qiime2-2021.11/lib/python3.8/site-packages/picrust2/Rscripts/castor_hsp.R /tmp/tmpgqnfzc7i/picrust2_out/out.tre /tmp/tmpst5sg2ya/subset_tab_12 pic 0.5 FALSE FALSE /tmp/tmp_jmgkf1h/predicted_counts.txt /tmp/tmp_jmgkf1h/predicted_ci.txt 100\n",
      "\n",
      "Rscript /home/lauro/anaconda3/envs/qiime2-2021.11/lib/python3.8/site-packages/picrust2/Rscripts/castor_hsp.R /tmp/tmpgqnfzc7i/picrust2_out/out.tre /tmp/tmpst5sg2ya/subset_tab_16 pic 0.5 FALSE FALSE /tmp/tmpc47xn73c/predicted_counts.txt /tmp/tmpc47xn73c/predicted_ci.txt 100\n",
      "\n",
      "Rscript /home/lauro/anaconda3/envs/qiime2-2021.11/lib/python3.8/site-packages/picrust2/Rscripts/castor_hsp.R /tmp/tmpgqnfzc7i/picrust2_out/out.tre /tmp/tmpst5sg2ya/subset_tab_1 pic 0.5 FALSE FALSE /tmp/tmpqcbgrmh9/predicted_counts.txt /tmp/tmpqcbgrmh9/predicted_ci.txt 100\n",
      "\n",
      "Rscript /home/lauro/anaconda3/envs/qiime2-2021.11/lib/python3.8/site-packages/picrust2/Rscripts/castor_hsp.R /tmp/tmpgqnfzc7i/picrust2_out/out.tre /tmp/tmpst5sg2ya/subset_tab_7 pic 0.5 FALSE FALSE /tmp/tmpx29nxoxz/predicted_counts.txt /tmp/tmpx29nxoxz/predicted_ci.txt 100\n",
      "\n",
      "Rscript /home/lauro/anaconda3/envs/qiime2-2021.11/lib/python3.8/site-packages/picrust2/Rscripts/castor_hsp.R /tmp/tmpgqnfzc7i/picrust2_out/out.tre /tmp/tmpst5sg2ya/subset_tab_13 pic 0.5 FALSE FALSE /tmp/tmpe5amr4ba/predicted_counts.txt /tmp/tmpe5amr4ba/predicted_ci.txt 100\n",
      "\n",
      "Rscript /home/lauro/anaconda3/envs/qiime2-2021.11/lib/python3.8/site-packages/picrust2/Rscripts/castor_hsp.R /tmp/tmpgqnfzc7i/picrust2_out/out.tre /tmp/tmpst5sg2ya/subset_tab_19 pic 0.5 FALSE FALSE /tmp/tmpipat_q6f/predicted_counts.txt /tmp/tmpipat_q6f/predicted_ci.txt 100\n",
      "\n",
      "Rscript /home/lauro/anaconda3/envs/qiime2-2021.11/lib/python3.8/site-packages/picrust2/Rscripts/castor_hsp.R /tmp/tmpgqnfzc7i/picrust2_out/out.tre /tmp/tmpst5sg2ya/subset_tab_3 pic 0.5 FALSE FALSE /tmp/tmpclizdx18/predicted_counts.txt /tmp/tmpclizdx18/predicted_ci.txt 100\n",
      "\n",
      "Rscript /home/lauro/anaconda3/envs/qiime2-2021.11/lib/python3.8/site-packages/picrust2/Rscripts/castor_hsp.R /tmp/tmpgqnfzc7i/picrust2_out/out.tre /tmp/tmpst5sg2ya/subset_tab_9 pic 0.5 FALSE FALSE /tmp/tmp75b_pz7i/predicted_counts.txt /tmp/tmp75b_pz7i/predicted_ci.txt 100\n",
      "\n",
      "Rscript /home/lauro/anaconda3/envs/qiime2-2021.11/lib/python3.8/site-packages/picrust2/Rscripts/castor_hsp.R /tmp/tmpgqnfzc7i/picrust2_out/out.tre /tmp/tmpst5sg2ya/subset_tab_18 pic 0.5 FALSE FALSE /tmp/tmppzes_zoo/predicted_counts.txt /tmp/tmppzes_zoo/predicted_ci.txt 100\n",
      "\n",
      "Rscript /home/lauro/anaconda3/envs/qiime2-2021.11/lib/python3.8/site-packages/picrust2/Rscripts/castor_hsp.R /tmp/tmpgqnfzc7i/picrust2_out/out.tre /tmp/tmpst5sg2ya/subset_tab_0 pic 0.5 FALSE FALSE /tmp/tmpew4hec5e/predicted_counts.txt /tmp/tmpew4hec5e/predicted_ci.txt 100\n",
      "\n",
      "Rscript /home/lauro/anaconda3/envs/qiime2-2021.11/lib/python3.8/site-packages/picrust2/Rscripts/castor_hsp.R /tmp/tmpgqnfzc7i/picrust2_out/out.tre /tmp/tmpst5sg2ya/subset_tab_8 pic 0.5 FALSE FALSE /tmp/tmpnyxfxuv1/predicted_counts.txt /tmp/tmpnyxfxuv1/predicted_ci.txt 100\n",
      "\n",
      "Rscript /home/lauro/anaconda3/envs/qiime2-2021.11/lib/python3.8/site-packages/picrust2/Rscripts/castor_hsp.R /tmp/tmpgqnfzc7i/picrust2_out/out.tre /tmp/tmpst5sg2ya/subset_tab_14 pic 0.5 FALSE FALSE /tmp/tmpxhjhbenp/predicted_counts.txt /tmp/tmpxhjhbenp/predicted_ci.txt 100\n",
      "\n",
      "Rscript /home/lauro/anaconda3/envs/qiime2-2021.11/lib/python3.8/site-packages/picrust2/Rscripts/castor_hsp.R /tmp/tmpgqnfzc7i/picrust2_out/out.tre /tmp/tmpst5sg2ya/subset_tab_20 pic 0.5 FALSE FALSE /tmp/tmp_0tsfyr8/predicted_counts.txt /tmp/tmp_0tsfyr8/predicted_ci.txt 100\n",
      "\n",
      "\n",
      "Running metagenome pipeline for EC\n",
      "metagenome_pipeline.py --input /tmp/tmpgqnfzc7i/intable.biom --function /tmp/tmpgqnfzc7i/picrust2_out/EC_predicted.tsv.gz --min_reads 1 --min_samples 1 --out_dir /tmp/tmpgqnfzc7i/picrust2_out/EC_metagenome_out --max_nsti 2 --marker /tmp/tmpgqnfzc7i/picrust2_out/marker_predicted_and_nsti.tsv.gz\n"
     ]
    },
    {
     "name": "stdout",
     "output_type": "stream",
     "text": [
      "\n"
     ]
    },
    {
     "name": "stderr",
     "output_type": "stream",
     "text": [
      "All ASVs were below the max NSTI cut-off of 2.0 and so all were retained for downstream analyses.\n",
      "\n",
      "Running metagenome pipeline for KO\n",
      "metagenome_pipeline.py --input /tmp/tmpgqnfzc7i/intable.biom --function /tmp/tmpgqnfzc7i/picrust2_out/KO_predicted.tsv.gz --min_reads 1 --min_samples 1 --out_dir /tmp/tmpgqnfzc7i/picrust2_out/KO_metagenome_out --max_nsti 2 --marker /tmp/tmpgqnfzc7i/picrust2_out/marker_predicted_and_nsti.tsv.gz\n"
     ]
    },
    {
     "name": "stdout",
     "output_type": "stream",
     "text": [
      "\n",
      "Inferring pathways from predicted EC\n"
     ]
    },
    {
     "name": "stderr",
     "output_type": "stream",
     "text": [
      "All ASVs were below the max NSTI cut-off of 2.0 and so all were retained for downstream analyses.\n",
      "\n",
      "pathway_pipeline.py --input /tmp/tmpgqnfzc7i/picrust2_out/EC_metagenome_out/pred_metagenome_unstrat.tsv.gz --out_dir /tmp/tmpgqnfzc7i/picrust2_out/pathways_out --map /home/lauro/anaconda3/envs/qiime2-2021.11/lib/python3.8/site-packages/picrust2/default_files/pathway_mapfiles/metacyc_path2rxn_struc_filt_pro.txt --intermediate /tmp/tmpgqnfzc7i/picrust2_out/intermediate/pathways --proc 6 --regroup_map /home/lauro/anaconda3/envs/qiime2-2021.11/lib/python3.8/site-packages/picrust2/default_files/pathway_mapfiles/ec_level4_to_metacyc_rxn.tsv --verbose\n"
     ]
    },
    {
     "name": "stderr",
     "output_type": "stream",
     "text": [
      "\n",
      "Wrote predicted pathway abundances and coverages to /tmp/tmpgqnfzc7i/picrust2_out/pathways_out\n"
     ]
    }
   ],
   "source": [
    "need_pipeline = replace_files\n",
    "need_pipeline |= not (os.path.isfile(ec_path) and os.path.isfile(ko_path) and os.path.isfile(pathway_path))\n",
    "if need_pipeline:\n",
    "    results = picrust2.methods.full_pipeline(\n",
    "        table=tabs, \n",
    "        seq=seqs, \n",
    "        threads=6, \n",
    "        placement_tool='sepp',\n",
    "        hsp_method='pic', \n",
    "        max_nsti=2,\n",
    "        highly_verbose=True\n",
    "    )\n",
    "    ec_metagenome = results.ec_metagenome\n",
    "    ko_metagenome = results.ko_metagenome\n",
    "    pathway_abundance = results.pathway_abundance\n",
    "else:\n",
    "    ec_metagenome = Artifact.load(ec_path)\n",
    "    ko_metagenome = Artifact.load(ko_path)\n",
    "    pathway_abundance = Artifact.load(pathway_path)"
   ]
  },
  {
   "cell_type": "markdown",
   "id": "771308c4",
   "metadata": {
    "papermill": {
     "duration": 0.053464,
     "end_time": "2023-09-04T18:59:41.100908",
     "exception": false,
     "start_time": "2023-09-04T18:59:41.047444",
     "status": "completed"
    },
    "tags": []
   },
   "source": [
    "### Persist created artifacts\n",
    "\n",
    "We will define file paths and persist all artifacts. We start with `.qza` files. We will save the visualization files in sequence as `qzv` files. Finally, we save a `biom`-like file as `tsv` with brief descriptions of all functions."
   ]
  },
  {
   "cell_type": "code",
   "execution_count": 10,
   "id": "c680ab46",
   "metadata": {
    "ExecuteTime": {
     "end_time": "2022-11-09T19:20:47.646444Z",
     "start_time": "2022-11-09T19:20:47.643806Z"
    },
    "execution": {
     "iopub.execute_input": "2023-09-04T18:59:41.251767Z",
     "iopub.status.busy": "2023-09-04T18:59:41.250584Z",
     "iopub.status.idle": "2023-09-04T18:59:41.368294Z",
     "shell.execute_reply": "2023-09-04T18:59:41.369273Z"
    },
    "papermill": {
     "duration": 0.203596,
     "end_time": "2023-09-04T18:59:41.369547",
     "exception": false,
     "start_time": "2023-09-04T18:59:41.165951",
     "status": "completed"
    },
    "tags": []
   },
   "outputs": [],
   "source": [
    "if need_pipeline:\n",
    "    # Export artifact folder\n",
    "    ec_metagenome.export_data(output_dir=ec_path.split('.')[0])\n",
    "    ko_metagenome.export_data(output_dir=ko_path.split('.')[0])\n",
    "    pathway_abundance.export_data(output_dir=pathway_path.split('.')[0])\n",
    "    \n",
    "    # Save artifacts as .qza files\n",
    "    ec_metagenome.save(ec_path)\n",
    "    ko_metagenome.save(ko_path)\n",
    "    pathway_abundance.save(pathway_path)"
   ]
  },
  {
   "cell_type": "code",
   "execution_count": 11,
   "id": "d61ebec3",
   "metadata": {
    "ExecuteTime": {
     "end_time": "2022-11-09T19:20:47.687022Z",
     "start_time": "2022-11-09T19:20:47.647637Z"
    },
    "execution": {
     "iopub.execute_input": "2023-09-04T18:59:41.467236Z",
     "iopub.status.busy": "2023-09-04T18:59:41.466728Z",
     "iopub.status.idle": "2023-09-04T18:59:46.134873Z",
     "shell.execute_reply": "2023-09-04T18:59:46.133853Z"
    },
    "papermill": {
     "duration": 4.716126,
     "end_time": "2023-09-04T18:59:46.135094",
     "exception": false,
     "start_time": "2023-09-04T18:59:41.418968",
     "status": "completed"
    },
    "tags": []
   },
   "outputs": [],
   "source": [
    "need_viz = replace_files\n",
    "need_viz |= not (os.path.isfile(ec_viz_path) and os.path.isfile(ko_viz_path) and os.path.isfile(pathway_viz_path))\n",
    "if need_viz:\n",
    "    # Create visualization artifacts\n",
    "    ec_viz = summarize(table=ec_metagenome, sample_metadata=metadata_qa).visualization\n",
    "    ko_viz = summarize(table=ko_metagenome, sample_metadata=metadata_qa).visualization\n",
    "    path_viz = summarize(table=pathway_abundance, sample_metadata=metadata_qa).visualization\n",
    "\n",
    "    # Save visualization artifacts as .qzv files\n",
    "    ec_viz.save(ec_viz_path)\n",
    "    ko_viz.save(ko_viz_path)\n",
    "    path_viz.save(pathway_viz_path)"
   ]
  },
  {
   "cell_type": "code",
   "execution_count": 12,
   "id": "57f1f4d8",
   "metadata": {
    "ExecuteTime": {
     "end_time": "2022-11-09T19:20:47.704885Z",
     "start_time": "2022-11-09T19:20:47.689312Z"
    },
    "execution": {
     "iopub.execute_input": "2023-09-04T18:59:46.236538Z",
     "iopub.status.busy": "2023-09-04T18:59:46.236001Z",
     "iopub.status.idle": "2023-09-04T18:59:49.090292Z",
     "shell.execute_reply": "2023-09-04T18:59:49.091279Z"
    },
    "papermill": {
     "duration": 2.906067,
     "end_time": "2023-09-04T18:59:49.091577",
     "exception": false,
     "start_time": "2023-09-04T18:59:46.185510",
     "status": "completed"
    },
    "tags": []
   },
   "outputs": [],
   "source": [
    "need_biom = replace_files\n",
    "need_biom |= not (os.path.isfile(ec_fpath) and os.path.isfile(ko_fpath) and os.path.isfile(pathway_fpath))\n",
    "if need_biom:\n",
    "    # Convert artifact to dataframe - transposed\n",
    "    df_pathway = pathway_abundance.view(pd.DataFrame).T\n",
    "    df_ec = ec_metagenome.view(pd.DataFrame).T\n",
    "    df_ko = ko_metagenome.view(pd.DataFrame).T\n",
    "\n",
    "    # Write dataframe to a tsv file\n",
    "    df_pathway.to_csv(pathway_fpath, sep='\\t', index=True)\n",
    "    df_ec.to_csv(ec_fpath, sep='\\t', index=True)\n",
    "    df_ko.to_csv(ko_fpath, sep='\\t', index=True)\n",
    "    \n",
    "    # Put a new column with descriptions of each function's ID\n",
    "    !add_descriptions.py -i {ec_fpath} -m EC -o {ec_desc_fpath}\n",
    "    !add_descriptions.py -i {ko_fpath} -m KO -o {ko_desc_fpath}\n",
    "    !add_descriptions.py -i {pathway_fpath} -m METACYC -o {pathway_desc_fpath}"
   ]
  }
 ],
 "metadata": {
  "celltoolbar": "Edit Metadata",
  "kernelspec": {
   "display_name": "Python 3 (ipykernel)",
   "language": "python",
   "name": "python3"
  },
  "language_info": {
   "codemirror_mode": {
    "name": "ipython",
    "version": 3
   },
   "file_extension": ".py",
   "mimetype": "text/x-python",
   "name": "python",
   "nbconvert_exporter": "python",
   "pygments_lexer": "ipython3",
   "version": "3.8.12"
  },
  "papermill": {
   "default_parameters": {},
   "duration": 417.664049,
   "end_time": "2023-09-04T18:59:50.255354",
   "environment_variables": {},
   "exception": null,
   "input_path": "nb-templates/step-picrust2-analysis.ipynb",
   "output_path": "/home/lauro/nupeb/rede-micro/redemicro-ana-flavia-nutri/experiments/ana-flavia-NCxHSD-NC-trim/nb-executed-steps/step-picrust2-analysis-ana-flavia-NCxHSD-NC-trim.ipynb",
   "parameters": {
    "base_dir": "/home/lauro/nupeb/rede-micro/redemicro-ana-flavia-nutri",
    "class_col": "group-id",
    "classifier_file": "/home/lauro/nupeb/rede-micro/models/silva-138-99-nb-classifier.qza",
    "experiment_name": "ana-flavia-NCxHSD-NC-trim",
    "manifest_file": "/home/lauro/nupeb/rede-micro/redemicro-ana-flavia-nutri/data/raw/manifest/manifest-ana-flavia-NCxHSD-NC.csv",
    "metadata_file": "/home/lauro/nupeb/rede-micro/redemicro-ana-flavia-nutri/data/raw/metadata/metadata-ana-flavia-NCxHSD-NC.tsv",
    "overlap": 12,
    "phred": 20,
    "replace_files": false,
    "threads": 6,
    "top_n": 20,
    "trim": {
     "forward_primer": "CCTACGGGRSGCAGCAG",
     "overlap": 8,
     "reverse_primer": "GGACTACHVGGGTWTCTAAT"
    },
    "trunc_f": 0,
    "trunc_r": 0
   },
   "start_time": "2023-09-04T18:52:52.591305",
   "version": "2.3.4"
  }
 },
 "nbformat": 4,
 "nbformat_minor": 5
}