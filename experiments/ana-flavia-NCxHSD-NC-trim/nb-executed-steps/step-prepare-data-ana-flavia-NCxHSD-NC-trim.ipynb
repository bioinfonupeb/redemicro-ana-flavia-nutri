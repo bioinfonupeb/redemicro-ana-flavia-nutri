{
 "cells": [
  {
   "cell_type": "markdown",
   "id": "3536d26e",
   "metadata": {
    "papermill": {
     "duration": 0.016985,
     "end_time": "2023-06-07T11:06:30.862821",
     "exception": false,
     "start_time": "2023-06-07T11:06:30.845836",
     "status": "completed"
    },
    "tags": []
   },
   "source": [
    "# Prepare data for Pipeline"
   ]
  },
  {
   "cell_type": "markdown",
   "id": "05724ced",
   "metadata": {
    "papermill": {
     "duration": 0.022468,
     "end_time": "2023-06-07T11:06:30.972748",
     "exception": false,
     "start_time": "2023-06-07T11:06:30.950280",
     "status": "completed"
    },
    "tags": []
   },
   "source": [
    "## Setup and settings"
   ]
  },
  {
   "cell_type": "code",
   "execution_count": 1,
   "id": "ed95f2c8",
   "metadata": {
    "ExecuteTime": {
     "end_time": "2022-10-14T14:33:37.863523Z",
     "start_time": "2022-10-14T14:33:14.145712Z"
    },
    "execution": {
     "iopub.execute_input": "2023-06-07T11:06:31.020053Z",
     "iopub.status.busy": "2023-06-07T11:06:31.019603Z",
     "iopub.status.idle": "2023-06-07T11:06:37.603771Z",
     "shell.execute_reply": "2023-06-07T11:06:37.602889Z"
    },
    "papermill": {
     "duration": 6.611734,
     "end_time": "2023-06-07T11:06:37.606974",
     "exception": false,
     "start_time": "2023-06-07T11:06:30.995240",
     "status": "completed"
    },
    "tags": []
   },
   "outputs": [],
   "source": [
    "# Importing packages\n",
    "import os\n",
    "import yaml\n",
    "import logging\n",
    "import pandas as pd\n",
    "from Bio.Seq import Seq\n",
    "from qiime2 import Artifact, Visualization\n",
    "from qiime2.plugins import demux\n",
    "from qiime2.plugins.cutadapt.methods import trim_paired"
   ]
  },
  {
   "cell_type": "markdown",
   "id": "0905201a",
   "metadata": {
    "papermill": {
     "duration": 0.009067,
     "end_time": "2023-06-07T11:06:37.633163",
     "exception": false,
     "start_time": "2023-06-07T11:06:37.624096",
     "status": "completed"
    },
    "tags": []
   },
   "source": [
    "### Receiving the parameters\n",
    "\n",
    "The following cell can receive parameters using the [papermill](https://papermill.readthedocs.io/en/latest/) tool."
   ]
  },
  {
   "cell_type": "code",
   "execution_count": 2,
   "id": "607e7468",
   "metadata": {
    "ExecuteTime": {
     "end_time": "2022-06-28T18:50:41.594341Z",
     "start_time": "2022-06-28T18:50:41.591544Z"
    },
    "execution": {
     "iopub.execute_input": "2023-06-07T11:06:37.652927Z",
     "iopub.status.busy": "2023-06-07T11:06:37.652669Z",
     "iopub.status.idle": "2023-06-07T11:06:37.658631Z",
     "shell.execute_reply": "2023-06-07T11:06:37.657862Z"
    },
    "papermill": {
     "duration": 0.01791,
     "end_time": "2023-06-07T11:06:37.660204",
     "exception": false,
     "start_time": "2023-06-07T11:06:37.642294",
     "status": "completed"
    },
    "tags": [
     "parameters"
    ]
   },
   "outputs": [],
   "source": [
    "params_path = os.path.join('..', 'params', 'ana-flavia-superlactacao.yaml')\n",
    "experiment_name = 'jenneffer-vs-01'\n",
    "base_dir = os.path.join('/', 'home', 'lauro', 'nupeb', 'redemicro')\n",
    "manifest_file = os.path.join(base_dir, 'data', 'raw', 'manifest', 'not-hist-vs-manifest.csv')\n",
    "img_folder = os.path.abspath(os.path.join(base_dir, 'imgs'))\n",
    "replace_files = False\n",
    "trim = None"
   ]
  },
  {
   "cell_type": "code",
   "execution_count": 3,
   "id": "826bd2c5",
   "metadata": {
    "execution": {
     "iopub.execute_input": "2023-06-07T11:06:37.722299Z",
     "iopub.status.busy": "2023-06-07T11:06:37.722014Z",
     "iopub.status.idle": "2023-06-07T11:06:37.728865Z",
     "shell.execute_reply": "2023-06-07T11:06:37.728027Z"
    },
    "papermill": {
     "duration": 0.018892,
     "end_time": "2023-06-07T11:06:37.730761",
     "exception": false,
     "start_time": "2023-06-07T11:06:37.711869",
     "status": "completed"
    },
    "tags": [
     "injected-parameters"
    ]
   },
   "outputs": [],
   "source": [
    "# Parameters\n",
    "experiment_name = \"ana-flavia-NCxHSD-NC-trim\"\n",
    "base_dir = \"/home/lauro/nupeb/rede-micro/redemicro-ana-flavia-nutri\"\n",
    "manifest_file = \"/home/lauro/nupeb/rede-micro/redemicro-ana-flavia-nutri/data/raw/manifest/manifest-ana-flavia-NCxHSD-NC.csv\"\n",
    "metadata_file = \"/home/lauro/nupeb/rede-micro/redemicro-ana-flavia-nutri/data/raw/metadata/metadata-ana-flavia-NCxHSD-NC.tsv\"\n",
    "class_col = \"group-id\"\n",
    "classifier_file = \"/home/lauro/nupeb/rede-micro/models/silva-138-99-nb-classifier.qza\"\n",
    "top_n = 20\n",
    "replace_files = False\n",
    "phred = 20\n",
    "trunc_f = 0\n",
    "trunc_r = 0\n",
    "overlap = 12\n",
    "threads = 6\n",
    "trim = {\n",
    "    \"overlap\": 8,\n",
    "    \"forward_primer\": \"CCTACGGGRSGCAGCAG\",\n",
    "    \"reverse_primer\": \"GGACTACHVGGGTWTCTAAT\",\n",
    "}\n"
   ]
  },
  {
   "cell_type": "markdown",
   "id": "837b23dc",
   "metadata": {
    "papermill": {
     "duration": 0.010107,
     "end_time": "2023-06-07T11:06:37.750827",
     "exception": false,
     "start_time": "2023-06-07T11:06:37.740720",
     "status": "completed"
    },
    "tags": []
   },
   "source": [
    "### Defining names and paths"
   ]
  },
  {
   "cell_type": "code",
   "execution_count": 4,
   "id": "78bda9bd",
   "metadata": {
    "ExecuteTime": {
     "end_time": "2022-06-28T18:50:41.632125Z",
     "start_time": "2022-06-28T18:50:41.619710Z"
    },
    "execution": {
     "iopub.execute_input": "2023-06-07T11:06:37.771143Z",
     "iopub.status.busy": "2023-06-07T11:06:37.770820Z",
     "iopub.status.idle": "2023-06-07T11:06:37.781725Z",
     "shell.execute_reply": "2023-06-07T11:06:37.780809Z"
    },
    "papermill": {
     "duration": 0.023503,
     "end_time": "2023-06-07T11:06:37.783755",
     "exception": false,
     "start_time": "2023-06-07T11:06:37.760252",
     "status": "completed"
    },
    "tags": []
   },
   "outputs": [
    {
     "name": "stdout",
     "output_type": "stream",
     "text": [
      "New img folder path created: /home/lauro/nupeb/rede-micro/redemicro-ana-flavia-nutri/experiments/ana-flavia-NCxHSD-NC-trim/imgs\n"
     ]
    }
   ],
   "source": [
    "# Define the output folder path\n",
    "out_dir = os.path.join(base_dir, 'experiments', experiment_name, 'qiime-artifacts')\n",
    "img_folder = os.path.abspath(os.path.join(base_dir, 'experiments', experiment_name, 'imgs'))\n",
    "\n",
    "# Create path if it not exists\n",
    "if not os.path.isdir(out_dir):\n",
    "    os.makedirs(out_dir)\n",
    "    print(f'New qiime-artifacts folder path created: {out_dir}')\n",
    "\n",
    "# Create path if it not exists\n",
    "if not os.path.isdir(img_folder):\n",
    "    os.makedirs(img_folder)\n",
    "    print(f'New img folder path created: {img_folder}')\n",
    "\n",
    "# Define the output artifact full path\n",
    "demux_file = os.path.join(out_dir, 'demux-paired.qza')\n",
    "demux_view = os.path.join(out_dir, 'demux-paired.qzv')\n",
    "demux_file_trim = os.path.join(out_dir, 'demux-paired-trim.qza')\n",
    "demux_view_trim = os.path.join(out_dir, 'demux-paired-trim.qzv')"
   ]
  },
  {
   "cell_type": "markdown",
   "id": "f33516f6",
   "metadata": {
    "papermill": {
     "duration": 0.009608,
     "end_time": "2023-06-07T11:06:37.806011",
     "exception": false,
     "start_time": "2023-06-07T11:06:37.796403",
     "status": "completed"
    },
    "tags": []
   },
   "source": [
    "## Step execution\n",
    "\n",
    "This Step import all `fastq` files in a **QIIME2 Artifact** object and save it to a new `qza` file of `SampleData[PairedEndSequencesWithQuality]`"
   ]
  },
  {
   "cell_type": "code",
   "execution_count": 5,
   "id": "a1e3c0a2",
   "metadata": {
    "execution": {
     "iopub.execute_input": "2023-06-07T11:06:37.826666Z",
     "iopub.status.busy": "2023-06-07T11:06:37.826317Z",
     "iopub.status.idle": "2023-06-07T11:06:37.849669Z",
     "shell.execute_reply": "2023-06-07T11:06:37.848875Z"
    },
    "papermill": {
     "duration": 0.035917,
     "end_time": "2023-06-07T11:06:37.851579",
     "exception": false,
     "start_time": "2023-06-07T11:06:37.815662",
     "status": "completed"
    },
    "tags": []
   },
   "outputs": [],
   "source": [
    "manifest_df = pd.read_csv(manifest_file)\n",
    "n_directions = len(manifest_df['direction'].unique())\n",
    "if n_directions == 1:\n",
    "    d_type = 'SampleData[SequencesWithQuality]'\n",
    "    v_type = 'SingleEndFastqManifestPhred33'\n",
    "elif n_directions == 2:\n",
    "    d_type = 'SampleData[PairedEndSequencesWithQuality]'\n",
    "    v_type = 'PairedEndFastqManifestPhred33'\n",
    "else:\n",
    "    print(f'ERROR: invalid number of directions {n_directions}')"
   ]
  },
  {
   "cell_type": "code",
   "execution_count": null,
   "id": "73e85d0a",
   "metadata": {
    "ExecuteTime": {
     "end_time": "2022-06-28T19:44:58.640338Z",
     "start_time": "2022-06-28T18:50:41.633657Z"
    },
    "papermill": {
     "duration": null,
     "end_time": null,
     "exception": false,
     "start_time": "2023-06-07T11:06:37.867179",
     "status": "running"
    },
    "tags": []
   },
   "outputs": [],
   "source": [
    "# If the demux file does not exist or if the old file will be replaced\n",
    "if not os.path.isfile(demux_file) or replace_files:\n",
    "    \n",
    "    # Import data and create an artifact object\n",
    "    artifact = Artifact.import_data(\n",
    "        d_type, \n",
    "        manifest_file, \n",
    "        view_type=v_type)\n",
    "    \n",
    "    # Save the artifact object to a new qza file\n",
    "    artifact.save(demux_file)\n",
    "\n",
    "else:\n",
    "    artifact = Artifact.load(demux_file)"
   ]
  },
  {
   "cell_type": "code",
   "execution_count": null,
   "id": "a9574190",
   "metadata": {
    "ExecuteTime": {
     "end_time": "2022-06-28T19:47:56.602855Z",
     "start_time": "2022-06-28T19:44:58.642520Z"
    },
    "papermill": {
     "duration": null,
     "end_time": null,
     "exception": null,
     "start_time": null,
     "status": "pending"
    },
    "tags": []
   },
   "outputs": [],
   "source": [
    "if not os.path.isfile(demux_view) or replace_files: \n",
    "    # Generate e visualization of the Artifact\n",
    "    demux_summary = demux.visualizers.summarize(artifact)\n",
    "\n",
    "    # Save a new visualization file based on the qza file\n",
    "    Visualization.save(demux_summary.visualization, filepath=demux_view)\n",
    "    \n",
    "    demux_view_obj = demux_summary.visualization\n",
    "else:\n",
    "    demux_view_obj = Visualization.load(demux_view)"
   ]
  },
  {
   "cell_type": "markdown",
   "id": "4df64776",
   "metadata": {
    "papermill": {
     "duration": null,
     "end_time": null,
     "exception": null,
     "start_time": null,
     "status": "pending"
    },
    "tags": []
   },
   "source": [
    "## Step report\n"
   ]
  },
  {
   "cell_type": "code",
   "execution_count": null,
   "id": "b76d7284",
   "metadata": {
    "ExecuteTime": {
     "end_time": "2022-06-28T19:47:56.609737Z",
     "start_time": "2022-06-28T19:47:56.604820Z"
    },
    "papermill": {
     "duration": null,
     "end_time": null,
     "exception": null,
     "start_time": null,
     "status": "pending"
    },
    "tags": []
   },
   "outputs": [],
   "source": [
    "print(demux_view_obj)"
   ]
  },
  {
   "cell_type": "code",
   "execution_count": null,
   "id": "974a2a34",
   "metadata": {
    "ExecuteTime": {
     "end_time": "2022-06-28T19:47:56.704841Z",
     "start_time": "2022-06-28T19:47:56.611846Z"
    },
    "papermill": {
     "duration": null,
     "end_time": null,
     "exception": null,
     "start_time": null,
     "status": "pending"
    },
    "tags": []
   },
   "outputs": [],
   "source": [
    "# Render Visualization\n",
    "demux_view_obj"
   ]
  },
  {
   "cell_type": "markdown",
   "id": "0d0aede2",
   "metadata": {
    "papermill": {
     "duration": null,
     "end_time": null,
     "exception": null,
     "start_time": null,
     "status": "pending"
    },
    "tags": []
   },
   "source": [
    "[cutadapt](https://docs.qiime2.org/2022.2/plugins/available/cutadapt/trim-paired/)\n",
    "\n",
    "We trim the forward primer and the reverse complement of the reverse primer from the forward reads. We trim the reverse primer and reverse complement of the forward primer from the reverse reads."
   ]
  },
  {
   "cell_type": "code",
   "execution_count": null,
   "id": "a0032b97",
   "metadata": {
    "papermill": {
     "duration": null,
     "end_time": null,
     "exception": null,
     "start_time": null,
     "status": "pending"
    },
    "tags": []
   },
   "outputs": [],
   "source": [
    "demux_file_trim = os.path.join(out_dir, 'demux-paired-trim.qza')\n",
    "demux_view_trim = os.path.join(out_dir, 'demux-paired-trim.qzv')\n",
    "\n",
    "if trim and (not os.path.isfile(demux_file_trim) or replace_files):\n",
    "    forward_primer = [trim['forward_primer']] # ['CCTACGGGRSGCAGCAG']\n",
    "    reverse_primer = [trim['reverse_primer']] # ['GGACTACHVGGGTWTCTAAT']\n",
    "    forward_reverse_complement = [str(Seq(forward_primer[0]).reverse_complement())]\n",
    "    reverse_reverse_complement = [str(Seq(reverse_primer[0]).reverse_complement())]\n",
    "\n",
    "    res = trim_paired(\n",
    "        demultiplexed_sequences=artifact,\n",
    "        front_f=forward_primer,\n",
    "        front_r=reverse_primer,\n",
    "#         adapter_f=reverse_reverse_complement,\n",
    "#         adapter_r=forward_reverse_complement,\n",
    "        cores=threads,\n",
    "        overlap=trim['overlap'],\n",
    "        indels=False,\n",
    "        match_read_wildcards=True,\n",
    "        match_adapter_wildcards=True,\n",
    "        error_rate=0.01,\n",
    "        discard_untrimmed=True,\n",
    "    ).trimmed_sequences\n",
    "\n",
    "    demux.visualizers.summarize(res).visualization\n",
    "    res.save(demux_file_trim)\n",
    "    Visualization.save(demux.visualizers.summarize(res).visualization, filepath=demux_view_trim)"
   ]
  }
 ],
 "metadata": {
  "celltoolbar": "Edit Metadata",
  "kernelspec": {
   "display_name": "Python 3 (ipykernel)",
   "language": "python",
   "name": "python3"
  },
  "language_info": {
   "codemirror_mode": {
    "name": "ipython",
    "version": 3
   },
   "file_extension": ".py",
   "mimetype": "text/x-python",
   "name": "python",
   "nbconvert_exporter": "python",
   "pygments_lexer": "ipython3",
   "version": "3.8.12"
  },
  "papermill": {
   "default_parameters": {},
   "duration": null,
   "end_time": null,
   "environment_variables": {},
   "exception": null,
   "input_path": "nb-templates/step-prepare-data.ipynb",
   "output_path": "/home/lauro/nupeb/rede-micro/redemicro-ana-flavia-nutri/experiments/ana-flavia-NCxHSD-NC-trim/nb-executed-steps/step-prepare-data-ana-flavia-NCxHSD-NC-trim.ipynb",
   "parameters": {
    "base_dir": "/home/lauro/nupeb/rede-micro/redemicro-ana-flavia-nutri",
    "class_col": "group-id",
    "classifier_file": "/home/lauro/nupeb/rede-micro/models/silva-138-99-nb-classifier.qza",
    "experiment_name": "ana-flavia-NCxHSD-NC-trim",
    "manifest_file": "/home/lauro/nupeb/rede-micro/redemicro-ana-flavia-nutri/data/raw/manifest/manifest-ana-flavia-NCxHSD-NC.csv",
    "metadata_file": "/home/lauro/nupeb/rede-micro/redemicro-ana-flavia-nutri/data/raw/metadata/metadata-ana-flavia-NCxHSD-NC.tsv",
    "overlap": 12,
    "phred": 20,
    "replace_files": false,
    "threads": 6,
    "top_n": 20,
    "trim": {
     "forward_primer": "CCTACGGGRSGCAGCAG",
     "overlap": 8,
     "reverse_primer": "GGACTACHVGGGTWTCTAAT"
    },
    "trunc_f": 0,
    "trunc_r": 0
   },
   "start_time": "2023-06-07T11:06:29.428417",
   "version": "2.3.4"
  },
  "toc-autonumbering": false,
  "toc-showcode": false,
  "toc-showmarkdowntxt": false
 },
 "nbformat": 4,
 "nbformat_minor": 5
}