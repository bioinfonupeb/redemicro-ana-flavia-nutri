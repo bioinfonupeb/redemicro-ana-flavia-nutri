{
 "cells": [
  {
   "cell_type": "markdown",
   "id": "0e7f2330",
   "metadata": {
    "ExecuteTime": {
     "end_time": "2022-09-22T19:36:33.828188Z",
     "start_time": "2022-09-22T19:36:33.817323Z"
    },
    "papermill": {
     "duration": 0.043508,
     "end_time": "2023-09-04T18:15:55.359957",
     "exception": false,
     "start_time": "2023-09-04T18:15:55.316449",
     "status": "completed"
    },
    "tags": []
   },
   "source": [
    "### STEP : PICRUST2 Analysis\n",
    "\n",
    "\n",
    "\n",
    "#### Example\n",
    "\n",
    "- [PICRUST2 tutorial](https://github.com/picrust/picrust2/wiki/q2-picrust2-Tutorial)\n",
    "- [Limitations](https://github.com/picrust/picrust2/wiki/Key-Limitations)\n",
    "\n",
    "\n",
    "#### Methods\n",
    "- [composition](https://docs.qiime2.org/2022.8/plugins/available/composition/)"
   ]
  },
  {
   "cell_type": "markdown",
   "id": "843debbf",
   "metadata": {
    "papermill": {
     "duration": 0.052421,
     "end_time": "2023-09-04T18:15:55.655417",
     "exception": false,
     "start_time": "2023-09-04T18:15:55.602996",
     "status": "completed"
    },
    "tags": []
   },
   "source": [
    "## Setup and settings"
   ]
  },
  {
   "cell_type": "code",
   "execution_count": 1,
   "id": "965e28e5",
   "metadata": {
    "ExecuteTime": {
     "end_time": "2022-11-09T19:20:47.478806Z",
     "start_time": "2022-11-09T19:20:40.457657Z"
    },
    "execution": {
     "iopub.execute_input": "2023-09-04T18:15:55.729214Z",
     "iopub.status.busy": "2023-09-04T18:15:55.728533Z",
     "iopub.status.idle": "2023-09-04T18:16:02.772014Z",
     "shell.execute_reply": "2023-09-04T18:16:02.770890Z"
    },
    "papermill": {
     "duration": 7.084878,
     "end_time": "2023-09-04T18:16:02.772270",
     "exception": false,
     "start_time": "2023-09-04T18:15:55.687392",
     "status": "completed"
    },
    "tags": []
   },
   "outputs": [],
   "source": [
    "# Importing packages\n",
    "import os\n",
    "import biom\n",
    "import pandas as pd\n",
    "from qiime2 import Artifact\n",
    "from qiime2 import Visualization\n",
    "from qiime2 import Metadata\n",
    "\n",
    "from qiime2.plugins.feature_table.visualizers import summarize\n",
    "\n",
    "from picrust2.pipeline import full_pipeline\n",
    "from picrust2.default import (default_ref_dir, default_tables, default_regroup_map, default_pathway_map)\n",
    "from qiime2.plugins import picrust2\n",
    "from qiime2.plugins.feature_table.methods import filter_samples\n",
    "from qiime2.plugins.feature_table.methods import filter_seqs\n",
    "\n",
    "%matplotlib inline"
   ]
  },
  {
   "cell_type": "markdown",
   "id": "530ceb60",
   "metadata": {
    "papermill": {
     "duration": 0.029709,
     "end_time": "2023-09-04T18:16:02.839294",
     "exception": false,
     "start_time": "2023-09-04T18:16:02.809585",
     "status": "completed"
    },
    "tags": []
   },
   "source": [
    "### Receiving the parameters\n",
    "\n",
    "The following cell can receive parameters using the [papermill](https://papermill.readthedocs.io/en/latest/) tool."
   ]
  },
  {
   "cell_type": "code",
   "execution_count": 2,
   "id": "18d874ea",
   "metadata": {
    "ExecuteTime": {
     "end_time": "2022-11-09T19:20:47.483140Z",
     "start_time": "2022-11-09T19:20:47.480386Z"
    },
    "execution": {
     "iopub.execute_input": "2023-09-04T18:16:02.904659Z",
     "iopub.status.busy": "2023-09-04T18:16:02.904123Z",
     "iopub.status.idle": "2023-09-04T18:16:02.905972Z",
     "shell.execute_reply": "2023-09-04T18:16:02.906395Z"
    },
    "papermill": {
     "duration": 0.037285,
     "end_time": "2023-09-04T18:16:02.906512",
     "exception": false,
     "start_time": "2023-09-04T18:16:02.869227",
     "status": "completed"
    },
    "tags": [
     "parameters"
    ]
   },
   "outputs": [],
   "source": [
    "metadata_file = '/home/lauro/nupeb/rede-micro/redemicro-miliane-nutri/data/raw/metadata/miliane-metadata-CxAC.tsv'\n",
    "base_dir = os.path.join('/', 'home', 'lauro', 'nupeb', 'rede-micro', 'redemicro-miliane-nutri')\n",
    "experiment_name = 'miliane-CxAC-trim'\n",
    "class_col = 'group-id'\n",
    "replace_files = False"
   ]
  },
  {
   "cell_type": "code",
   "execution_count": 3,
   "id": "b51b3a15",
   "metadata": {
    "execution": {
     "iopub.execute_input": "2023-09-04T18:16:02.964901Z",
     "iopub.status.busy": "2023-09-04T18:16:02.964311Z",
     "iopub.status.idle": "2023-09-04T18:16:02.965905Z",
     "shell.execute_reply": "2023-09-04T18:16:02.966260Z"
    },
    "papermill": {
     "duration": 0.0315,
     "end_time": "2023-09-04T18:16:02.966356",
     "exception": false,
     "start_time": "2023-09-04T18:16:02.934856",
     "status": "completed"
    },
    "tags": [
     "injected-parameters"
    ]
   },
   "outputs": [],
   "source": [
    "# Parameters\n",
    "experiment_name = \"ana-flavia-STD-NCxSTD-NR-trim\"\n",
    "base_dir = \"/home/lauro/nupeb/rede-micro/redemicro-ana-flavia-nutri\"\n",
    "manifest_file = \"/home/lauro/nupeb/rede-micro/redemicro-ana-flavia-nutri/data/raw/manifest/manifest-ana-flavia-STD-NCxSTD-NR.csv\"\n",
    "metadata_file = \"/home/lauro/nupeb/rede-micro/redemicro-ana-flavia-nutri/data/raw/metadata/metadata-ana-flavia-STD-NCxSTD-NR.tsv\"\n",
    "class_col = \"group-id\"\n",
    "classifier_file = \"/home/lauro/nupeb/rede-micro/models/silva-138-99-nb-classifier.qza\"\n",
    "top_n = 20\n",
    "replace_files = False\n",
    "phred = 20\n",
    "trunc_f = 0\n",
    "trunc_r = 0\n",
    "overlap = 12\n",
    "threads = 6\n",
    "trim = {\n",
    "    \"overlap\": 8,\n",
    "    \"forward_primer\": \"CCTACGGGRSGCAGCAG\",\n",
    "    \"reverse_primer\": \"GGACTACHVGGGTWTCTAAT\",\n",
    "}\n"
   ]
  },
  {
   "cell_type": "code",
   "execution_count": 4,
   "id": "f38617d9",
   "metadata": {
    "ExecuteTime": {
     "end_time": "2022-11-09T19:20:47.515942Z",
     "start_time": "2022-11-09T19:20:47.498345Z"
    },
    "execution": {
     "iopub.execute_input": "2023-09-04T18:16:03.022019Z",
     "iopub.status.busy": "2023-09-04T18:16:03.021543Z",
     "iopub.status.idle": "2023-09-04T18:16:03.023788Z",
     "shell.execute_reply": "2023-09-04T18:16:03.023423Z"
    },
    "papermill": {
     "duration": 0.031509,
     "end_time": "2023-09-04T18:16:03.023871",
     "exception": false,
     "start_time": "2023-09-04T18:16:02.992362",
     "status": "completed"
    },
    "tags": []
   },
   "outputs": [],
   "source": [
    "experiment_folder = os.path.abspath(os.path.join(base_dir, 'experiments', experiment_name))\n",
    "img_folder = os.path.abspath(os.path.join(experiment_folder, 'imgs'))"
   ]
  },
  {
   "cell_type": "markdown",
   "id": "ea9b90fb",
   "metadata": {
    "papermill": {
     "duration": 0.028504,
     "end_time": "2023-09-04T18:16:03.078342",
     "exception": false,
     "start_time": "2023-09-04T18:16:03.049838",
     "status": "completed"
    },
    "tags": []
   },
   "source": [
    "### Defining names, paths and flags"
   ]
  },
  {
   "cell_type": "code",
   "execution_count": 5,
   "id": "45727eef",
   "metadata": {
    "ExecuteTime": {
     "end_time": "2022-11-09T19:20:47.527937Z",
     "start_time": "2022-11-09T19:20:47.517696Z"
    },
    "execution": {
     "iopub.execute_input": "2023-09-04T18:16:03.141951Z",
     "iopub.status.busy": "2023-09-04T18:16:03.141257Z",
     "iopub.status.idle": "2023-09-04T18:16:03.143906Z",
     "shell.execute_reply": "2023-09-04T18:16:03.144291Z"
    },
    "papermill": {
     "duration": 0.036498,
     "end_time": "2023-09-04T18:16:03.144388",
     "exception": false,
     "start_time": "2023-09-04T18:16:03.107890",
     "status": "completed"
    },
    "tags": []
   },
   "outputs": [
    {
     "name": "stdout",
     "output_type": "stream",
     "text": [
      "New picrust2-artifacts folder path created: /home/lauro/nupeb/rede-micro/redemicro-ana-flavia-nutri/experiments/ana-flavia-STD-NCxSTD-NR-trim/picrust2\n"
     ]
    }
   ],
   "source": [
    "# QIIME2 Artifacts folder\n",
    "qiime_folder = os.path.join(experiment_folder, 'qiime-artifacts')\n",
    "\n",
    "# Input - DADA2 Artifacts\n",
    "dada2_tabs_path = os.path.join(qiime_folder, 'dada2-tabs.qza')\n",
    "dada2_reqs_path = os.path.join(qiime_folder, 'dada2-reps.qza')\n",
    "\n",
    "# PICRUST@ folder\n",
    "picrust2_folder = os.path.abspath(os.path.join(experiment_folder, 'picrust2'))\n",
    "\n",
    "# Create path if it not exist\n",
    "if not os.path.isdir(picrust2_folder):\n",
    "    os.makedirs(picrust2_folder)\n",
    "    print(f'New picrust2-artifacts folder path created: {picrust2_folder}')"
   ]
  },
  {
   "cell_type": "code",
   "execution_count": 6,
   "id": "4903e645",
   "metadata": {
    "ExecuteTime": {
     "end_time": "2022-11-09T19:20:47.539993Z",
     "start_time": "2022-11-09T19:20:47.529653Z"
    },
    "execution": {
     "iopub.execute_input": "2023-09-04T18:16:03.203452Z",
     "iopub.status.busy": "2023-09-04T18:16:03.203017Z",
     "iopub.status.idle": "2023-09-04T18:16:03.204748Z",
     "shell.execute_reply": "2023-09-04T18:16:03.205145Z"
    },
    "papermill": {
     "duration": 0.033433,
     "end_time": "2023-09-04T18:16:03.205252",
     "exception": false,
     "start_time": "2023-09-04T18:16:03.171819",
     "status": "completed"
    },
    "tags": []
   },
   "outputs": [],
   "source": [
    "# Define paths for metagenome function artifacts\n",
    "ec_path = os.path.join(picrust2_folder, 'ec-pred-metagen.qza')\n",
    "ko_path = os.path.join(picrust2_folder, 'ko-pred-metagen.qza')\n",
    "pathway_path = os.path.join(picrust2_folder, 'pathway-abundance.qza')\n",
    "\n",
    "# Define paths for metagenome function visualization artifacts\n",
    "ec_viz_path = ec_path[:-1]+'v'\n",
    "ko_viz_path = ko_path[:-1]+'v'\n",
    "pathway_viz_path = pathway_path[:-1]+'v'\n",
    "\n",
    "# Define paths for biom -> tsv files (function X sample)\n",
    "pathway_fpath = os.path.join(picrust2_folder, 'pathway.tsv')\n",
    "ec_fpath = os.path.join(picrust2_folder, 'ec.tsv')\n",
    "ko_fpath = os.path.join(picrust2_folder, 'ko.tsv')\n",
    "\n",
    "# Define paths for biom -> tsv files (function X sample) - with descriptions\n",
    "pathway_desc_fpath = os.path.join(picrust2_folder, 'pathway-desc.tsv')\n",
    "ec_desc_fpath = os.path.join(picrust2_folder, 'ec-desc.tsv')\n",
    "ko_desc_fpath = os.path.join(picrust2_folder, 'ko-desc.tsv')"
   ]
  },
  {
   "cell_type": "markdown",
   "id": "0999a1b2",
   "metadata": {
    "papermill": {
     "duration": 0.026561,
     "end_time": "2023-09-04T18:16:03.259676",
     "exception": false,
     "start_time": "2023-09-04T18:16:03.233115",
     "status": "completed"
    },
    "tags": []
   },
   "source": [
    "## Step execution\n",
    "\n",
    "### Load input files\n",
    "\n",
    "This Step import the QIIME2 `FeatureTable[Frequency]` Artifact and the `Metadata` file."
   ]
  },
  {
   "cell_type": "code",
   "execution_count": 7,
   "id": "8f299d1a",
   "metadata": {
    "ExecuteTime": {
     "end_time": "2022-11-09T19:20:47.610793Z",
     "start_time": "2022-11-09T19:20:47.541540Z"
    },
    "execution": {
     "iopub.execute_input": "2023-09-04T18:16:03.316310Z",
     "iopub.status.busy": "2023-09-04T18:16:03.315881Z",
     "iopub.status.idle": "2023-09-04T18:16:03.376010Z",
     "shell.execute_reply": "2023-09-04T18:16:03.376843Z"
    },
    "papermill": {
     "duration": 0.090734,
     "end_time": "2023-09-04T18:16:03.377083",
     "exception": false,
     "start_time": "2023-09-04T18:16:03.286349",
     "status": "completed"
    },
    "tags": []
   },
   "outputs": [],
   "source": [
    "#Load Metadata\n",
    "metadata_qa = Metadata.load(metadata_file)\n",
    "\n",
    "#Load FeatureTable[Frequency]\n",
    "tabs = Artifact.load(dada2_tabs_path)\n",
    "\n",
    "#Load FeatureTable[Sequence]\n",
    "seqs = Artifact.load(dada2_reqs_path)"
   ]
  },
  {
   "cell_type": "code",
   "execution_count": 8,
   "id": "9b699dee",
   "metadata": {
    "execution": {
     "iopub.execute_input": "2023-09-04T18:16:03.438585Z",
     "iopub.status.busy": "2023-09-04T18:16:03.438145Z",
     "iopub.status.idle": "2023-09-04T18:16:04.376734Z",
     "shell.execute_reply": "2023-09-04T18:16:04.377717Z"
    },
    "papermill": {
     "duration": 0.969702,
     "end_time": "2023-09-04T18:16:04.378001",
     "exception": false,
     "start_time": "2023-09-04T18:16:03.408299",
     "status": "completed"
    },
    "tags": []
   },
   "outputs": [],
   "source": [
    "# Filter FeatureTable[Frequency | RelativeFrequency | PresenceAbsence | Composition] based on Metadata sample ID values\n",
    "tabs = filter_samples(\n",
    "    table=tabs,\n",
    "    metadata=metadata_qa,\n",
    ").filtered_table\n",
    "# Filter SampleData[SequencesWithQuality | PairedEndSequencesWithQuality | JoinedSequencesWithQuality] based on Metadata sample ID values; returns FeatureData[Sequence | AlignedSequence]\n",
    "seqs = filter_seqs(\n",
    "    data=seqs,\n",
    "    table=tabs,\n",
    ").filtered_data"
   ]
  },
  {
   "cell_type": "markdown",
   "id": "4f1b06d4",
   "metadata": {
    "papermill": {
     "duration": 0.028121,
     "end_time": "2023-09-04T18:16:04.441393",
     "exception": false,
     "start_time": "2023-09-04T18:16:04.413272",
     "status": "completed"
    },
    "tags": []
   },
   "source": [
    "### Execute full pipelie\n",
    "\n",
    "The entire PICRUSt2 pipeline will be run using a single method, called `picrust2.methods.full_pipeline`. This method will run each of the 4 key steps: \n",
    "\n",
    "1. sequence placement\n",
    "2. hidden-state prediction of genomes\n",
    "3. metagenome prediction\n",
    "4. pathway-level predictions.\n",
    "\n",
    "More information on [Documentation](https://github.com/picrust/picrust2/wiki/Full-pipeline-script)."
   ]
  },
  {
   "cell_type": "code",
   "execution_count": 9,
   "id": "2c4f3874",
   "metadata": {
    "ExecuteTime": {
     "end_time": "2022-11-09T19:20:47.642417Z",
     "start_time": "2022-11-09T19:20:47.612547Z"
    },
    "execution": {
     "iopub.execute_input": "2023-09-04T18:16:04.501760Z",
     "iopub.status.busy": "2023-09-04T18:16:04.501308Z",
     "iopub.status.idle": "2023-09-04T18:24:03.489024Z",
     "shell.execute_reply": "2023-09-04T18:24:03.488532Z"
    },
    "papermill": {
     "duration": 479.020636,
     "end_time": "2023-09-04T18:24:03.489145",
     "exception": false,
     "start_time": "2023-09-04T18:16:04.468509",
     "status": "completed"
    },
    "scrolled": true,
    "tags": []
   },
   "outputs": [
    {
     "name": "stderr",
     "output_type": "stream",
     "text": [
      "1263 of 1263 sequence ids overlap between input table and FASTA.\n",
      "\n",
      "Placing sequences onto reference tree\n",
      "place_seqs.py --study_fasta /tmp/tmptu34fqoc/seqs.fna --ref_dir /home/lauro/anaconda3/envs/qiime2-2021.11/lib/python3.8/site-packages/picrust2/default_files/prokaryotic/pro_ref --out_tree /tmp/tmptu34fqoc/picrust2_out/out.tre --processes 6 --intermediate /tmp/tmptu34fqoc/picrust2_out/intermediate/place_seqs --min_align 0.8 --chunk_size 5000 --placement_tool sepp --verbose\n"
     ]
    },
    {
     "name": "stdout",
     "output_type": "stream",
     "text": [
      "\n",
      "['run_sepp.py', '--tree', '/home/lauro/anaconda3/envs/qiime2-2021.11/lib/python3.8/site-packages/picrust2/default_files/prokaryotic/pro_ref/pro_ref.tre', '--raxml', '/home/lauro/anaconda3/envs/qiime2-2021.11/lib/python3.8/site-packages/picrust2/default_files/prokaryotic/pro_ref/pro_ref.raxml_info', '--cpu', '6', '--molecule', 'dna', '--outdir', '/tmp/tmptu34fqoc/picrust2_out/intermediate/place_seqs/sepp_out', '-seed', '297834', '--alignment', '/home/lauro/anaconda3/envs/qiime2-2021.11/lib/python3.8/site-packages/picrust2/default_files/prokaryotic/pro_ref/pro_ref.fna', '--fragment', '/tmp/tmptu34fqoc/picrust2_out/intermediate/place_seqs/study_seqs_filtered.fasta']\n",
      "\n",
      "                                              ....      ....  \n",
      "                                             '' '||.   .||'   \n",
      "                                                  ||  ||      \n",
      "                                                  '|.|'       \n",
      "     ...'   ....   ... ...  ... ...   ....        .|'|.       \n",
      "    |  ||  '' .||   ||'  ||  ||'  || '' .||      .|'  ||      \n",
      "     |''   .|' ||   ||    |  ||    | .|' ||     .|'|.  ||     \n",
      "    '....  '|..'|'. ||...'   ||...'  '|..'|.    '||'    ||:.  \n",
      "    '....'          ||       ||                               \n",
      "                   ''''     ''''   v0.6.1 (c) 2017-2020\n",
      "                                   by Lucas Czech and Pierre Barbera\n",
      "\n",
      "Invocation:                        gappa examine graft --jplace-path /tmp/tmptu34fqoc/picrust2_out/intermediate/place_seqs/sepp_out/output_placement.json --fully-resolve --out-dir /tmp/tmptu34fqoc/picrust2_out/intermediate/place_seqs/sepp_out\n",
      "Command:                           gappa examine graft\n",
      "\n",
      "Input:\n",
      "  --jplace-path                    /tmp/tmptu34fqoc/picrust2_out/intermediate/place_seqs/sepp_out/output_placement.json\n",
      "\n",
      "Settings:\n",
      "  --fully-resolve                  true\n",
      "  --name-prefix\n",
      "\n",
      "Output:\n",
      "  --out-dir                        /tmp/tmptu34fqoc/picrust2_out/intermediate/place_seqs/sepp_out\n",
      "  --file-prefix                    \n",
      "  --file-suffix\n",
      "\n",
      "Global Options:\n",
      "  --allow-file-overwriting         false\n",
      "  --verbose                        false\n",
      "  --threads                        4\n",
      "  --log-file\n",
      "\n",
      "Run the following command to get the references that need to be cited:\n",
      "`gappa tools citation Czech2020-genesis-and-gappa`\n",
      "\n",
      "Started 2023-09-04 18:19:49\n",
      "\n",
      "Found 1 jplace file\n",
      "\n",
      "Finished 2023-09-04 18:19:49\n",
      "\n",
      "\n"
     ]
    },
    {
     "name": "stderr",
     "output_type": "stream",
     "text": [
      "hmmalign --trim --dna --mapali /home/lauro/anaconda3/envs/qiime2-2021.11/lib/python3.8/site-packages/picrust2/default_files/prokaryotic/pro_ref/pro_ref.fna --informat FASTA -o /tmp/tmptu34fqoc/picrust2_out/intermediate/place_seqs/query_align.stockholm /home/lauro/anaconda3/envs/qiime2-2021.11/lib/python3.8/site-packages/picrust2/default_files/prokaryotic/pro_ref/pro_ref.hmm /tmp/tmptu34fqoc/seqs.fna\n",
      "\n",
      "Warning - 1 input sequences aligned poorly to reference sequences (--min_align option specified a minimum proportion of 0.8 aligning to reference sequences). These input sequences will not be placed and will be excluded from downstream steps.\n",
      "\n",
      "This is the set of poorly aligned input sequences to be excluded: 6fed430d2c42021ed5fa531745f38fba\n",
      "\n",
      "Raw input sequences ranged in length from 253 to 430\n",
      "\n",
      "run_sepp.py --tree /home/lauro/anaconda3/envs/qiime2-2021.11/lib/python3.8/site-packages/picrust2/default_files/prokaryotic/pro_ref/pro_ref.tre --raxml /home/lauro/anaconda3/envs/qiime2-2021.11/lib/python3.8/site-packages/picrust2/default_files/prokaryotic/pro_ref/pro_ref.raxml_info --cpu 6 --molecule dna --outdir /tmp/tmptu34fqoc/picrust2_out/intermediate/place_seqs/sepp_out -seed 297834 --alignment /home/lauro/anaconda3/envs/qiime2-2021.11/lib/python3.8/site-packages/picrust2/default_files/prokaryotic/pro_ref/pro_ref.fna --fragment /tmp/tmptu34fqoc/picrust2_out/intermediate/place_seqs/study_seqs_filtered.fasta\n",
      "[18:16:56] config.py (line 349):     INFO: Seed number: 297834\n",
      "[18:16:56] algorithm.py (line 258):     INFO: Reading input alignment: <_io.TextIOWrapper name='/home/lauro/anaconda3/envs/qiime2-2021.11/lib/python3.8/site-packages/picrust2/default_files/prokaryotic/pro_ref/pro_ref.fna' mode='r' encoding='UTF-8'>\n",
      "[18:16:56] algorithm.py (line 265):     INFO: Reading input tree: <_io.TextIOWrapper name='/home/lauro/anaconda3/envs/qiime2-2021.11/lib/python3.8/site-packages/picrust2/default_files/prokaryotic/pro_ref/pro_ref.tre' mode='r' encoding='UTF-8'>\n",
      "[18:16:58] algorithm.py (line 238):     INFO: Decomposition Sizes are set to alignment: 2000 placement: 2000\n",
      "[18:17:00] exhaustive.py (line 350):     INFO: Breaking into 16 placement subsets.\n",
      "[18:17:02] exhaustive.py (line 397):     INFO: Breaking into 16 alignment subsets.\n",
      "[18:17:02] filemgr.py (line 129):     INFO: Root temp directory built: /tmp/sepp/output.pstnd7g_\n",
      "[18:17:02] exhaustive.py (line 412):     INFO: Breaking each alignment subset into 3 fragment chunks.\n",
      "[18:17:03] jobs.py (line 131):     INFO: Finished hmmbuild Job with input: /tmp/sepp/output.pstnd7g_/root/P_0/A_0_0/hmmbuild.input.x3yzilbe.fasta\n",
      "[18:17:03] jobs.py (line 131):     INFO: Finished hmmbuild Job with input: /tmp/sepp/output.pstnd7g_/root/P_5/A_5_0/hmmbuild.input.rds00zxm.fasta\n",
      "[18:17:03] jobs.py (line 131):     INFO: Finished hmmbuild Job with input: /tmp/sepp/output.pstnd7g_/root/P_4/A_4_0/hmmbuild.input.wb79qjyz.fasta\n",
      "[18:17:03] jobs.py (line 131):     INFO: Finished hmmbuild Job with input: /tmp/sepp/output.pstnd7g_/root/P_1/A_1_0/hmmbuild.input.0c2yzn_m.fasta\n",
      "[18:17:03] jobs.py (line 131):     INFO: Finished hmmbuild Job with input: /tmp/sepp/output.pstnd7g_/root/P_3/A_3_0/hmmbuild.input._9zr7fg3.fasta\n",
      "[18:17:03] jobs.py (line 131):     INFO: Finished hmmbuild Job with input: /tmp/sepp/output.pstnd7g_/root/P_2/A_2_0/hmmbuild.input.ak0ch0az.fasta\n",
      "[18:17:04] jobs.py (line 131):     INFO: Finished hmmbuild Job with input: /tmp/sepp/output.pstnd7g_/root/P_6/A_6_0/hmmbuild.input.0f8q_5l0.fasta\n",
      "[18:17:04] jobs.py (line 131):     INFO: Finished hmmbuild Job with input: /tmp/sepp/output.pstnd7g_/root/P_8/A_8_0/hmmbuild.input.33ifcs7b.fasta\n",
      "[18:17:04] jobs.py (line 131):     INFO: Finished hmmbuild Job with input: /tmp/sepp/output.pstnd7g_/root/P_7/A_7_0/hmmbuild.input.azj7q0fh.fasta\n",
      "[18:17:04] jobs.py (line 131):     INFO: Finished hmmbuild Job with input: /tmp/sepp/output.pstnd7g_/root/P_9/A_9_0/hmmbuild.input._rx9pkj5.fasta\n",
      "[18:17:04] jobs.py (line 131):     INFO: Finished hmmbuild Job with input: /tmp/sepp/output.pstnd7g_/root/P_12/A_12_0/hmmbuild.input.edhov9sm.fasta\n",
      "[18:17:04] jobs.py (line 131):     INFO: Finished hmmbuild Job with input: /tmp/sepp/output.pstnd7g_/root/P_11/A_11_0/hmmbuild.input.bgejs7gx.fasta\n",
      "[18:17:04] jobs.py (line 131):     INFO: Finished hmmbuild Job with input: /tmp/sepp/output.pstnd7g_/root/P_10/A_10_0/hmmbuild.input.v6uscju_.fasta\n",
      "[18:17:05] jobs.py (line 131):     INFO: Finished hmmbuild Job with input: /tmp/sepp/output.pstnd7g_/root/P_13/A_13_0/hmmbuild.input.n8fhx5ho.fasta\n",
      "[18:17:05] jobs.py (line 131):     INFO: Finished hmmbuild Job with input: /tmp/sepp/output.pstnd7g_/root/P_14/A_14_0/hmmbuild.input.fioadazr.fasta\n",
      "[18:17:05] jobs.py (line 131):     INFO: Finished hmmbuild Job with input: /tmp/sepp/output.pstnd7g_/root/P_15/A_15_0/hmmbuild.input.7w0hrhox.fasta\n",
      "[18:17:10] jobs.py (line 131):     INFO: Finished hmmsearch Job with input: model:/tmp/sepp/output.pstnd7g_/root/P_0/A_0_0/hmmbuild.model.4uoz4sp5, fragments:/tmp/sepp/output.pstnd7g_/fragment_chunks/fragment_chunk_2dyw3lbur.fasta, elim:99999999, filter:False, output:/tmp/sepp/output.pstnd7g_/root/P_0/A_0_0/FC_0_0_2/hmmsearch.results.sc8d4d18\n",
      "[18:17:11] jobs.py (line 131):     INFO: Finished hmmsearch Job with input: model:/tmp/sepp/output.pstnd7g_/root/P_5/A_5_0/hmmbuild.model.18gv9zj0, fragments:/tmp/sepp/output.pstnd7g_/fragment_chunks/fragment_chunk_2dyw3lbur.fasta, elim:99999999, filter:False, output:/tmp/sepp/output.pstnd7g_/root/P_5/A_5_0/FC_5_0_2/hmmsearch.results.b58_2a8t\n",
      "[18:17:14] jobs.py (line 131):     INFO: Finished hmmsearch Job with input: model:/tmp/sepp/output.pstnd7g_/root/P_0/A_0_0/hmmbuild.model.4uoz4sp5, fragments:/tmp/sepp/output.pstnd7g_/fragment_chunks/fragment_chunk_0dms713cj.fasta, elim:99999999, filter:False, output:/tmp/sepp/output.pstnd7g_/root/P_0/A_0_0/FC_0_0_0/hmmsearch.results.jpbrzv_p\n",
      "[18:17:14] jobs.py (line 131):     INFO: Finished hmmsearch Job with input: model:/tmp/sepp/output.pstnd7g_/root/P_0/A_0_0/hmmbuild.model.4uoz4sp5, fragments:/tmp/sepp/output.pstnd7g_/fragment_chunks/fragment_chunk_1sbcqdiqx.fasta, elim:99999999, filter:False, output:/tmp/sepp/output.pstnd7g_/root/P_0/A_0_0/FC_0_0_1/hmmsearch.results._hxdmcbs\n",
      "[18:17:14] jobs.py (line 131):     INFO: Finished hmmsearch Job with input: model:/tmp/sepp/output.pstnd7g_/root/P_5/A_5_0/hmmbuild.model.18gv9zj0, fragments:/tmp/sepp/output.pstnd7g_/fragment_chunks/fragment_chunk_0dms713cj.fasta, elim:99999999, filter:False, output:/tmp/sepp/output.pstnd7g_/root/P_5/A_5_0/FC_5_0_0/hmmsearch.results.kkjxl35n\n",
      "[18:17:14] jobs.py (line 131):     INFO: Finished hmmsearch Job with input: model:/tmp/sepp/output.pstnd7g_/root/P_5/A_5_0/hmmbuild.model.18gv9zj0, fragments:/tmp/sepp/output.pstnd7g_/fragment_chunks/fragment_chunk_1sbcqdiqx.fasta, elim:99999999, filter:False, output:/tmp/sepp/output.pstnd7g_/root/P_5/A_5_0/FC_5_0_1/hmmsearch.results.7j7jgxdm\n",
      "[18:17:16] jobs.py (line 131):     INFO: Finished hmmsearch Job with input: model:/tmp/sepp/output.pstnd7g_/root/P_4/A_4_0/hmmbuild.model.4l8nd58m, fragments:/tmp/sepp/output.pstnd7g_/fragment_chunks/fragment_chunk_0dms713cj.fasta, elim:99999999, filter:False, output:/tmp/sepp/output.pstnd7g_/root/P_4/A_4_0/FC_4_0_0/hmmsearch.results.nm2mnjxn\n",
      "[18:17:19] jobs.py (line 131):     INFO: Finished hmmsearch Job with input: model:/tmp/sepp/output.pstnd7g_/root/P_4/A_4_0/hmmbuild.model.4l8nd58m, fragments:/tmp/sepp/output.pstnd7g_/fragment_chunks/fragment_chunk_1sbcqdiqx.fasta, elim:99999999, filter:False, output:/tmp/sepp/output.pstnd7g_/root/P_4/A_4_0/FC_4_0_1/hmmsearch.results.95uhnsgz\n",
      "[18:17:21] jobs.py (line 131):     INFO: Finished hmmsearch Job with input: model:/tmp/sepp/output.pstnd7g_/root/P_1/A_1_0/hmmbuild.model.p87wkzc2, fragments:/tmp/sepp/output.pstnd7g_/fragment_chunks/fragment_chunk_0dms713cj.fasta, elim:99999999, filter:False, output:/tmp/sepp/output.pstnd7g_/root/P_1/A_1_0/FC_1_0_0/hmmsearch.results.idh7kf6a\n",
      "[18:17:21] jobs.py (line 131):     INFO: Finished hmmsearch Job with input: model:/tmp/sepp/output.pstnd7g_/root/P_1/A_1_0/hmmbuild.model.p87wkzc2, fragments:/tmp/sepp/output.pstnd7g_/fragment_chunks/fragment_chunk_2dyw3lbur.fasta, elim:99999999, filter:False, output:/tmp/sepp/output.pstnd7g_/root/P_1/A_1_0/FC_1_0_2/hmmsearch.results.u_v6ynzb\n",
      "[18:17:22] jobs.py (line 131):     INFO: Finished hmmsearch Job with input: model:/tmp/sepp/output.pstnd7g_/root/P_4/A_4_0/hmmbuild.model.4l8nd58m, fragments:/tmp/sepp/output.pstnd7g_/fragment_chunks/fragment_chunk_2dyw3lbur.fasta, elim:99999999, filter:False, output:/tmp/sepp/output.pstnd7g_/root/P_4/A_4_0/FC_4_0_2/hmmsearch.results.2ycolwt0\n",
      "[18:17:22] jobs.py (line 131):     INFO: Finished hmmsearch Job with input: model:/tmp/sepp/output.pstnd7g_/root/P_1/A_1_0/hmmbuild.model.p87wkzc2, fragments:/tmp/sepp/output.pstnd7g_/fragment_chunks/fragment_chunk_1sbcqdiqx.fasta, elim:99999999, filter:False, output:/tmp/sepp/output.pstnd7g_/root/P_1/A_1_0/FC_1_0_1/hmmsearch.results.3tvd76g3\n",
      "[18:17:26] jobs.py (line 131):     INFO: Finished hmmsearch Job with input: model:/tmp/sepp/output.pstnd7g_/root/P_3/A_3_0/hmmbuild.model.70dw02io, fragments:/tmp/sepp/output.pstnd7g_/fragment_chunks/fragment_chunk_0dms713cj.fasta, elim:99999999, filter:False, output:/tmp/sepp/output.pstnd7g_/root/P_3/A_3_0/FC_3_0_0/hmmsearch.results.xy3u8uwb\n",
      "[18:17:27] jobs.py (line 131):     INFO: Finished hmmsearch Job with input: model:/tmp/sepp/output.pstnd7g_/root/P_3/A_3_0/hmmbuild.model.70dw02io, fragments:/tmp/sepp/output.pstnd7g_/fragment_chunks/fragment_chunk_2dyw3lbur.fasta, elim:99999999, filter:False, output:/tmp/sepp/output.pstnd7g_/root/P_3/A_3_0/FC_3_0_2/hmmsearch.results.ng6tdhq7\n",
      "[18:17:28] jobs.py (line 131):     INFO: Finished hmmsearch Job with input: model:/tmp/sepp/output.pstnd7g_/root/P_3/A_3_0/hmmbuild.model.70dw02io, fragments:/tmp/sepp/output.pstnd7g_/fragment_chunks/fragment_chunk_1sbcqdiqx.fasta, elim:99999999, filter:False, output:/tmp/sepp/output.pstnd7g_/root/P_3/A_3_0/FC_3_0_1/hmmsearch.results.cq3p06r_\n",
      "[18:17:28] jobs.py (line 131):     INFO: Finished hmmsearch Job with input: model:/tmp/sepp/output.pstnd7g_/root/P_2/A_2_0/hmmbuild.model.w43r9uri, fragments:/tmp/sepp/output.pstnd7g_/fragment_chunks/fragment_chunk_0dms713cj.fasta, elim:99999999, filter:False, output:/tmp/sepp/output.pstnd7g_/root/P_2/A_2_0/FC_2_0_0/hmmsearch.results.xhfdum77\n",
      "[18:17:30] jobs.py (line 131):     INFO: Finished hmmsearch Job with input: model:/tmp/sepp/output.pstnd7g_/root/P_2/A_2_0/hmmbuild.model.w43r9uri, fragments:/tmp/sepp/output.pstnd7g_/fragment_chunks/fragment_chunk_1sbcqdiqx.fasta, elim:99999999, filter:False, output:/tmp/sepp/output.pstnd7g_/root/P_2/A_2_0/FC_2_0_1/hmmsearch.results.mcp1fr3t\n",
      "[18:17:31] jobs.py (line 131):     INFO: Finished hmmsearch Job with input: model:/tmp/sepp/output.pstnd7g_/root/P_2/A_2_0/hmmbuild.model.w43r9uri, fragments:/tmp/sepp/output.pstnd7g_/fragment_chunks/fragment_chunk_2dyw3lbur.fasta, elim:99999999, filter:False, output:/tmp/sepp/output.pstnd7g_/root/P_2/A_2_0/FC_2_0_2/hmmsearch.results.hr_k_qjj\n",
      "[18:17:33] jobs.py (line 131):     INFO: Finished hmmsearch Job with input: model:/tmp/sepp/output.pstnd7g_/root/P_6/A_6_0/hmmbuild.model.p3sdihyp, fragments:/tmp/sepp/output.pstnd7g_/fragment_chunks/fragment_chunk_1sbcqdiqx.fasta, elim:99999999, filter:False, output:/tmp/sepp/output.pstnd7g_/root/P_6/A_6_0/FC_6_0_1/hmmsearch.results.06g1oowc\n",
      "[18:17:34] jobs.py (line 131):     INFO: Finished hmmsearch Job with input: model:/tmp/sepp/output.pstnd7g_/root/P_6/A_6_0/hmmbuild.model.p3sdihyp, fragments:/tmp/sepp/output.pstnd7g_/fragment_chunks/fragment_chunk_0dms713cj.fasta, elim:99999999, filter:False, output:/tmp/sepp/output.pstnd7g_/root/P_6/A_6_0/FC_6_0_0/hmmsearch.results.6anrj5wq\n",
      "[18:17:36] jobs.py (line 131):     INFO: Finished hmmsearch Job with input: model:/tmp/sepp/output.pstnd7g_/root/P_8/A_8_0/hmmbuild.model.f3_e08fn, fragments:/tmp/sepp/output.pstnd7g_/fragment_chunks/fragment_chunk_0dms713cj.fasta, elim:99999999, filter:False, output:/tmp/sepp/output.pstnd7g_/root/P_8/A_8_0/FC_8_0_0/hmmsearch.results.o5bh7st4\n",
      "[18:17:37] jobs.py (line 131):     INFO: Finished hmmsearch Job with input: model:/tmp/sepp/output.pstnd7g_/root/P_6/A_6_0/hmmbuild.model.p3sdihyp, fragments:/tmp/sepp/output.pstnd7g_/fragment_chunks/fragment_chunk_2dyw3lbur.fasta, elim:99999999, filter:False, output:/tmp/sepp/output.pstnd7g_/root/P_6/A_6_0/FC_6_0_2/hmmsearch.results.kl3iadq5\n",
      "[18:17:37] jobs.py (line 131):     INFO: Finished hmmsearch Job with input: model:/tmp/sepp/output.pstnd7g_/root/P_8/A_8_0/hmmbuild.model.f3_e08fn, fragments:/tmp/sepp/output.pstnd7g_/fragment_chunks/fragment_chunk_1sbcqdiqx.fasta, elim:99999999, filter:False, output:/tmp/sepp/output.pstnd7g_/root/P_8/A_8_0/FC_8_0_1/hmmsearch.results.fzsxdt1g\n",
      "[18:17:40] jobs.py (line 131):     INFO: Finished hmmsearch Job with input: model:/tmp/sepp/output.pstnd7g_/root/P_7/A_7_0/hmmbuild.model.rupjcq6z, fragments:/tmp/sepp/output.pstnd7g_/fragment_chunks/fragment_chunk_0dms713cj.fasta, elim:99999999, filter:False, output:/tmp/sepp/output.pstnd7g_/root/P_7/A_7_0/FC_7_0_0/hmmsearch.results.2fjkn685\n",
      "[18:17:40] jobs.py (line 131):     INFO: Finished hmmsearch Job with input: model:/tmp/sepp/output.pstnd7g_/root/P_8/A_8_0/hmmbuild.model.f3_e08fn, fragments:/tmp/sepp/output.pstnd7g_/fragment_chunks/fragment_chunk_2dyw3lbur.fasta, elim:99999999, filter:False, output:/tmp/sepp/output.pstnd7g_/root/P_8/A_8_0/FC_8_0_2/hmmsearch.results.cs33hf_y\n",
      "[18:17:42] jobs.py (line 131):     INFO: Finished hmmsearch Job with input: model:/tmp/sepp/output.pstnd7g_/root/P_7/A_7_0/hmmbuild.model.rupjcq6z, fragments:/tmp/sepp/output.pstnd7g_/fragment_chunks/fragment_chunk_1sbcqdiqx.fasta, elim:99999999, filter:False, output:/tmp/sepp/output.pstnd7g_/root/P_7/A_7_0/FC_7_0_1/hmmsearch.results.2w2jaoo0\n",
      "[18:17:44] jobs.py (line 131):     INFO: Finished hmmsearch Job with input: model:/tmp/sepp/output.pstnd7g_/root/P_7/A_7_0/hmmbuild.model.rupjcq6z, fragments:/tmp/sepp/output.pstnd7g_/fragment_chunks/fragment_chunk_2dyw3lbur.fasta, elim:99999999, filter:False, output:/tmp/sepp/output.pstnd7g_/root/P_7/A_7_0/FC_7_0_2/hmmsearch.results.4pi05u_i\n",
      "[18:17:44] jobs.py (line 131):     INFO: Finished hmmsearch Job with input: model:/tmp/sepp/output.pstnd7g_/root/P_9/A_9_0/hmmbuild.model.q4jz8voq, fragments:/tmp/sepp/output.pstnd7g_/fragment_chunks/fragment_chunk_0dms713cj.fasta, elim:99999999, filter:False, output:/tmp/sepp/output.pstnd7g_/root/P_9/A_9_0/FC_9_0_0/hmmsearch.results.jwn85aca\n",
      "[18:17:45] jobs.py (line 131):     INFO: Finished hmmsearch Job with input: model:/tmp/sepp/output.pstnd7g_/root/P_9/A_9_0/hmmbuild.model.q4jz8voq, fragments:/tmp/sepp/output.pstnd7g_/fragment_chunks/fragment_chunk_1sbcqdiqx.fasta, elim:99999999, filter:False, output:/tmp/sepp/output.pstnd7g_/root/P_9/A_9_0/FC_9_0_1/hmmsearch.results.bzwtj63h\n",
      "[18:17:48] jobs.py (line 131):     INFO: Finished hmmsearch Job with input: model:/tmp/sepp/output.pstnd7g_/root/P_12/A_12_0/hmmbuild.model.luy3y49j, fragments:/tmp/sepp/output.pstnd7g_/fragment_chunks/fragment_chunk_0dms713cj.fasta, elim:99999999, filter:False, output:/tmp/sepp/output.pstnd7g_/root/P_12/A_12_0/FC_12_0_0/hmmsearch.results.by_kjze5\n",
      "[18:17:48] jobs.py (line 131):     INFO: Finished hmmsearch Job with input: model:/tmp/sepp/output.pstnd7g_/root/P_9/A_9_0/hmmbuild.model.q4jz8voq, fragments:/tmp/sepp/output.pstnd7g_/fragment_chunks/fragment_chunk_2dyw3lbur.fasta, elim:99999999, filter:False, output:/tmp/sepp/output.pstnd7g_/root/P_9/A_9_0/FC_9_0_2/hmmsearch.results.cc0xw669\n",
      "[18:17:51] jobs.py (line 131):     INFO: Finished hmmsearch Job with input: model:/tmp/sepp/output.pstnd7g_/root/P_12/A_12_0/hmmbuild.model.luy3y49j, fragments:/tmp/sepp/output.pstnd7g_/fragment_chunks/fragment_chunk_1sbcqdiqx.fasta, elim:99999999, filter:False, output:/tmp/sepp/output.pstnd7g_/root/P_12/A_12_0/FC_12_0_1/hmmsearch.results.cpw30pdp\n",
      "[18:17:51] jobs.py (line 131):     INFO: Finished hmmsearch Job with input: model:/tmp/sepp/output.pstnd7g_/root/P_12/A_12_0/hmmbuild.model.luy3y49j, fragments:/tmp/sepp/output.pstnd7g_/fragment_chunks/fragment_chunk_2dyw3lbur.fasta, elim:99999999, filter:False, output:/tmp/sepp/output.pstnd7g_/root/P_12/A_12_0/FC_12_0_2/hmmsearch.results.bnv0l24l\n",
      "[18:17:52] jobs.py (line 131):     INFO: Finished hmmsearch Job with input: model:/tmp/sepp/output.pstnd7g_/root/P_11/A_11_0/hmmbuild.model.j9mqnabq, fragments:/tmp/sepp/output.pstnd7g_/fragment_chunks/fragment_chunk_0dms713cj.fasta, elim:99999999, filter:False, output:/tmp/sepp/output.pstnd7g_/root/P_11/A_11_0/FC_11_0_0/hmmsearch.results.fdpmcago\n",
      "[18:17:54] jobs.py (line 131):     INFO: Finished hmmsearch Job with input: model:/tmp/sepp/output.pstnd7g_/root/P_11/A_11_0/hmmbuild.model.j9mqnabq, fragments:/tmp/sepp/output.pstnd7g_/fragment_chunks/fragment_chunk_1sbcqdiqx.fasta, elim:99999999, filter:False, output:/tmp/sepp/output.pstnd7g_/root/P_11/A_11_0/FC_11_0_1/hmmsearch.results.g_mehipy\n",
      "[18:17:56] jobs.py (line 131):     INFO: Finished hmmsearch Job with input: model:/tmp/sepp/output.pstnd7g_/root/P_10/A_10_0/hmmbuild.model.6ab2w80j, fragments:/tmp/sepp/output.pstnd7g_/fragment_chunks/fragment_chunk_0dms713cj.fasta, elim:99999999, filter:False, output:/tmp/sepp/output.pstnd7g_/root/P_10/A_10_0/FC_10_0_0/hmmsearch.results.1j9tr9fw\n",
      "[18:17:57] jobs.py (line 131):     INFO: Finished hmmsearch Job with input: model:/tmp/sepp/output.pstnd7g_/root/P_11/A_11_0/hmmbuild.model.j9mqnabq, fragments:/tmp/sepp/output.pstnd7g_/fragment_chunks/fragment_chunk_2dyw3lbur.fasta, elim:99999999, filter:False, output:/tmp/sepp/output.pstnd7g_/root/P_11/A_11_0/FC_11_0_2/hmmsearch.results.qu978b0s\n",
      "[18:17:57] jobs.py (line 131):     INFO: Finished hmmsearch Job with input: model:/tmp/sepp/output.pstnd7g_/root/P_10/A_10_0/hmmbuild.model.6ab2w80j, fragments:/tmp/sepp/output.pstnd7g_/fragment_chunks/fragment_chunk_2dyw3lbur.fasta, elim:99999999, filter:False, output:/tmp/sepp/output.pstnd7g_/root/P_10/A_10_0/FC_10_0_2/hmmsearch.results.w4a657jv\n",
      "[18:17:58] jobs.py (line 131):     INFO: Finished hmmsearch Job with input: model:/tmp/sepp/output.pstnd7g_/root/P_10/A_10_0/hmmbuild.model.6ab2w80j, fragments:/tmp/sepp/output.pstnd7g_/fragment_chunks/fragment_chunk_1sbcqdiqx.fasta, elim:99999999, filter:False, output:/tmp/sepp/output.pstnd7g_/root/P_10/A_10_0/FC_10_0_1/hmmsearch.results.ybf8m74x\n",
      "[18:18:01] jobs.py (line 131):     INFO: Finished hmmsearch Job with input: model:/tmp/sepp/output.pstnd7g_/root/P_13/A_13_0/hmmbuild.model.uemftkyi, fragments:/tmp/sepp/output.pstnd7g_/fragment_chunks/fragment_chunk_1sbcqdiqx.fasta, elim:99999999, filter:False, output:/tmp/sepp/output.pstnd7g_/root/P_13/A_13_0/FC_13_0_1/hmmsearch.results.ibnit44w\n",
      "[18:18:01] jobs.py (line 131):     INFO: Finished hmmsearch Job with input: model:/tmp/sepp/output.pstnd7g_/root/P_13/A_13_0/hmmbuild.model.uemftkyi, fragments:/tmp/sepp/output.pstnd7g_/fragment_chunks/fragment_chunk_0dms713cj.fasta, elim:99999999, filter:False, output:/tmp/sepp/output.pstnd7g_/root/P_13/A_13_0/FC_13_0_0/hmmsearch.results._d6372r3\n",
      "[18:18:03] jobs.py (line 131):     INFO: Finished hmmsearch Job with input: model:/tmp/sepp/output.pstnd7g_/root/P_13/A_13_0/hmmbuild.model.uemftkyi, fragments:/tmp/sepp/output.pstnd7g_/fragment_chunks/fragment_chunk_2dyw3lbur.fasta, elim:99999999, filter:False, output:/tmp/sepp/output.pstnd7g_/root/P_13/A_13_0/FC_13_0_2/hmmsearch.results.hsp0v4qp\n",
      "[18:18:05] jobs.py (line 131):     INFO: Finished hmmsearch Job with input: model:/tmp/sepp/output.pstnd7g_/root/P_14/A_14_0/hmmbuild.model.1548hf8n, fragments:/tmp/sepp/output.pstnd7g_/fragment_chunks/fragment_chunk_1sbcqdiqx.fasta, elim:99999999, filter:False, output:/tmp/sepp/output.pstnd7g_/root/P_14/A_14_0/FC_14_0_1/hmmsearch.results.av71hfoq\n",
      "[18:18:07] jobs.py (line 131):     INFO: Finished hmmsearch Job with input: model:/tmp/sepp/output.pstnd7g_/root/P_14/A_14_0/hmmbuild.model.1548hf8n, fragments:/tmp/sepp/output.pstnd7g_/fragment_chunks/fragment_chunk_0dms713cj.fasta, elim:99999999, filter:False, output:/tmp/sepp/output.pstnd7g_/root/P_14/A_14_0/FC_14_0_0/hmmsearch.results.gw2j8k74\n",
      "[18:18:07] jobs.py (line 131):     INFO: Finished hmmsearch Job with input: model:/tmp/sepp/output.pstnd7g_/root/P_14/A_14_0/hmmbuild.model.1548hf8n, fragments:/tmp/sepp/output.pstnd7g_/fragment_chunks/fragment_chunk_2dyw3lbur.fasta, elim:99999999, filter:False, output:/tmp/sepp/output.pstnd7g_/root/P_14/A_14_0/FC_14_0_2/hmmsearch.results.qbz6siz4\n",
      "[18:18:08] jobs.py (line 131):     INFO: Finished hmmsearch Job with input: model:/tmp/sepp/output.pstnd7g_/root/P_15/A_15_0/hmmbuild.model.d_cldl1h, fragments:/tmp/sepp/output.pstnd7g_/fragment_chunks/fragment_chunk_1sbcqdiqx.fasta, elim:99999999, filter:False, output:/tmp/sepp/output.pstnd7g_/root/P_15/A_15_0/FC_15_0_1/hmmsearch.results.r8y6ojco\n",
      "[18:18:08] jobs.py (line 131):     INFO: Finished hmmsearch Job with input: model:/tmp/sepp/output.pstnd7g_/root/P_15/A_15_0/hmmbuild.model.d_cldl1h, fragments:/tmp/sepp/output.pstnd7g_/fragment_chunks/fragment_chunk_0dms713cj.fasta, elim:99999999, filter:False, output:/tmp/sepp/output.pstnd7g_/root/P_15/A_15_0/FC_15_0_0/hmmsearch.results.yaonqmvn\n",
      "[18:18:09] jobs.py (line 131):     INFO: Finished hmmsearch Job with input: model:/tmp/sepp/output.pstnd7g_/root/P_15/A_15_0/hmmbuild.model.d_cldl1h, fragments:/tmp/sepp/output.pstnd7g_/fragment_chunks/fragment_chunk_2dyw3lbur.fasta, elim:99999999, filter:False, output:/tmp/sepp/output.pstnd7g_/root/P_15/A_15_0/FC_15_0_2/hmmsearch.results.5izzyiky\n",
      "[18:18:09] exhaustive.py (line 80):  WARNING: Fragments [] are not scored against any subset\n",
      "[18:18:09] exhaustive.py (line 151):     INFO: Merging sub-alignments for placement problem : P_0.\n",
      "[18:18:09] jobs.py (line 131):     INFO: Finished hmmalign Job with input: model:/tmp/sepp/output.pstnd7g_/root/P_5/A_5_0/hmmbuild.model.18gv9zj0, fragments:/tmp/sepp/output.pstnd7g_/root/P_5/A_5_0/FC_5_0_2/hmmalign.frag.vxw0a0v0.fasta, trim:False, base_alignment:/tmp/sepp/output.pstnd7g_/root/P_5/A_5_0/hmmbuild.input.rds00zxm.fasta\n",
      "[18:18:09] jobs.py (line 131):     INFO: Finished hmmalign Job with input: model:/tmp/sepp/output.pstnd7g_/root/P_1/A_1_0/hmmbuild.model.p87wkzc2, fragments:/tmp/sepp/output.pstnd7g_/root/P_1/A_1_0/FC_1_0_2/hmmalign.frag.u0r8sr_u.fasta, trim:False, base_alignment:/tmp/sepp/output.pstnd7g_/root/P_1/A_1_0/hmmbuild.input.0c2yzn_m.fasta\n",
      "[18:18:09] jobs.py (line 131):     INFO: Finished hmmalign Job with input: model:/tmp/sepp/output.pstnd7g_/root/P_5/A_5_0/hmmbuild.model.18gv9zj0, fragments:/tmp/sepp/output.pstnd7g_/root/P_5/A_5_0/FC_5_0_1/hmmalign.frag.aw6o_g9k.fasta, trim:False, base_alignment:/tmp/sepp/output.pstnd7g_/root/P_5/A_5_0/hmmbuild.input.rds00zxm.fasta\n",
      "[18:18:09] jobs.py (line 131):     INFO: Finished hmmalign Job with input: model:/tmp/sepp/output.pstnd7g_/root/P_5/A_5_0/hmmbuild.model.18gv9zj0, fragments:/tmp/sepp/output.pstnd7g_/root/P_5/A_5_0/FC_5_0_0/hmmalign.frag.uy7fwd9u.fasta, trim:False, base_alignment:/tmp/sepp/output.pstnd7g_/root/P_5/A_5_0/hmmbuild.input.rds00zxm.fasta\n",
      "[18:18:09] jobs.py (line 131):     INFO: Finished hmmalign Job with input: model:/tmp/sepp/output.pstnd7g_/root/P_1/A_1_0/hmmbuild.model.p87wkzc2, fragments:/tmp/sepp/output.pstnd7g_/root/P_1/A_1_0/FC_1_0_1/hmmalign.frag.a8ofnhj4.fasta, trim:False, base_alignment:/tmp/sepp/output.pstnd7g_/root/P_1/A_1_0/hmmbuild.input.0c2yzn_m.fasta\n",
      "[18:18:09] jobs.py (line 131):     INFO: Finished hmmalign Job with input: model:/tmp/sepp/output.pstnd7g_/root/P_1/A_1_0/hmmbuild.model.p87wkzc2, fragments:/tmp/sepp/output.pstnd7g_/root/P_1/A_1_0/FC_1_0_0/hmmalign.frag.idqe1m62.fasta, trim:False, base_alignment:/tmp/sepp/output.pstnd7g_/root/P_1/A_1_0/hmmbuild.input.0c2yzn_m.fasta\n",
      "[18:18:09] exhaustive.py (line 151):     INFO: Merging sub-alignments for placement problem : P_2.\n",
      "[18:18:10] exhaustive.py (line 151):     INFO: Merging sub-alignments for placement problem : P_3.\n",
      "[18:18:10] jobs.py (line 131):     INFO: Finished hmmalign Job with input: model:/tmp/sepp/output.pstnd7g_/root/P_6/A_6_0/hmmbuild.model.p3sdihyp, fragments:/tmp/sepp/output.pstnd7g_/root/P_6/A_6_0/FC_6_0_1/hmmalign.frag.sq1co38q.fasta, trim:False, base_alignment:/tmp/sepp/output.pstnd7g_/root/P_6/A_6_0/hmmbuild.input.0f8q_5l0.fasta\n",
      "[18:18:10] jobs.py (line 131):     INFO: Finished hmmalign Job with input: model:/tmp/sepp/output.pstnd7g_/root/P_6/A_6_0/hmmbuild.model.p3sdihyp, fragments:/tmp/sepp/output.pstnd7g_/root/P_6/A_6_0/FC_6_0_0/hmmalign.frag.fbr2wdsc.fasta, trim:False, base_alignment:/tmp/sepp/output.pstnd7g_/root/P_6/A_6_0/hmmbuild.input.0f8q_5l0.fasta\n",
      "[18:18:10] jobs.py (line 131):     INFO: Finished hmmalign Job with input: model:/tmp/sepp/output.pstnd7g_/root/P_6/A_6_0/hmmbuild.model.p3sdihyp, fragments:/tmp/sepp/output.pstnd7g_/root/P_6/A_6_0/FC_6_0_2/hmmalign.frag._5vsix4s.fasta, trim:False, base_alignment:/tmp/sepp/output.pstnd7g_/root/P_6/A_6_0/hmmbuild.input.0f8q_5l0.fasta\n",
      "[18:18:10] jobs.py (line 131):     INFO: Finished hmmalign Job with input: model:/tmp/sepp/output.pstnd7g_/root/P_7/A_7_0/hmmbuild.model.rupjcq6z, fragments:/tmp/sepp/output.pstnd7g_/root/P_7/A_7_0/FC_7_0_1/hmmalign.frag.zk__4xmf.fasta, trim:False, base_alignment:/tmp/sepp/output.pstnd7g_/root/P_7/A_7_0/hmmbuild.input.azj7q0fh.fasta\n",
      "[18:18:10] jobs.py (line 131):     INFO: Finished hmmalign Job with input: model:/tmp/sepp/output.pstnd7g_/root/P_7/A_7_0/hmmbuild.model.rupjcq6z, fragments:/tmp/sepp/output.pstnd7g_/root/P_7/A_7_0/FC_7_0_2/hmmalign.frag.cg680hcj.fasta, trim:False, base_alignment:/tmp/sepp/output.pstnd7g_/root/P_7/A_7_0/hmmbuild.input.azj7q0fh.fasta\n",
      "[18:18:10] jobs.py (line 131):     INFO: Finished hmmalign Job with input: model:/tmp/sepp/output.pstnd7g_/root/P_7/A_7_0/hmmbuild.model.rupjcq6z, fragments:/tmp/sepp/output.pstnd7g_/root/P_7/A_7_0/FC_7_0_0/hmmalign.frag.btmxn_43.fasta, trim:False, base_alignment:/tmp/sepp/output.pstnd7g_/root/P_7/A_7_0/hmmbuild.input.azj7q0fh.fasta\n",
      "[18:18:10] jobs.py (line 131):     INFO: Finished hmmalign Job with input: model:/tmp/sepp/output.pstnd7g_/root/P_8/A_8_0/hmmbuild.model.f3_e08fn, fragments:/tmp/sepp/output.pstnd7g_/root/P_8/A_8_0/FC_8_0_1/hmmalign.frag.y3ri9lxo.fasta, trim:False, base_alignment:/tmp/sepp/output.pstnd7g_/root/P_8/A_8_0/hmmbuild.input.33ifcs7b.fasta\n",
      "[18:18:10] exhaustive.py (line 151):     INFO: Merging sub-alignments for placement problem : P_4.\n",
      "[18:18:10] jobs.py (line 131):     INFO: Finished hmmalign Job with input: model:/tmp/sepp/output.pstnd7g_/root/P_8/A_8_0/hmmbuild.model.f3_e08fn, fragments:/tmp/sepp/output.pstnd7g_/root/P_8/A_8_0/FC_8_0_2/hmmalign.frag._f6i8oxd.fasta, trim:False, base_alignment:/tmp/sepp/output.pstnd7g_/root/P_8/A_8_0/hmmbuild.input.33ifcs7b.fasta\n",
      "[18:18:10] jobs.py (line 131):     INFO: Finished hmmalign Job with input: model:/tmp/sepp/output.pstnd7g_/root/P_8/A_8_0/hmmbuild.model.f3_e08fn, fragments:/tmp/sepp/output.pstnd7g_/root/P_8/A_8_0/FC_8_0_0/hmmalign.frag.3i2hp1i9.fasta, trim:False, base_alignment:/tmp/sepp/output.pstnd7g_/root/P_8/A_8_0/hmmbuild.input.33ifcs7b.fasta\n",
      "[18:18:10] exhaustive.py (line 151):     INFO: Merging sub-alignments for placement problem : P_5.\n",
      "[18:18:10] alignment.py (line 556):     INFO: Merging extension sto file (/tmp/sepp/output.pstnd7g_/root/P_5/A_5_0/FC_5_0_0/hmmalign.results.eu305z_g) into base alignment (/tmp/sepp/output.pstnd7g_/root/P_5/A_5_0/hmmbuild.input.rds00zxm.fasta).\n",
      "[18:18:10] alignment.py (line 556):     INFO: Merging extension sto file (/tmp/sepp/output.pstnd7g_/root/P_5/A_5_0/FC_5_0_1/hmmalign.results._zk63u64) into base alignment (/tmp/sepp/output.pstnd7g_/root/P_5/A_5_0/hmmbuild.input.rds00zxm.fasta).\n",
      "[18:18:10] alignment.py (line 556):     INFO: Merging extension sto file (/tmp/sepp/output.pstnd7g_/root/P_5/A_5_0/FC_5_0_2/hmmalign.results.ai4kc8ez) into base alignment (/tmp/sepp/output.pstnd7g_/root/P_5/A_5_0/hmmbuild.input.rds00zxm.fasta).\n",
      "[18:18:10] exhaustive.py (line 151):     INFO: Merging sub-alignments for placement problem : P_1.\n",
      "[18:18:10] jobs.py (line 131):     INFO: Finished hmmalign Job with input: model:/tmp/sepp/output.pstnd7g_/root/P_10/A_10_0/hmmbuild.model.6ab2w80j, fragments:/tmp/sepp/output.pstnd7g_/root/P_10/A_10_0/FC_10_0_1/hmmalign.frag.aq8wyuv_.fasta, trim:False, base_alignment:/tmp/sepp/output.pstnd7g_/root/P_10/A_10_0/hmmbuild.input.v6uscju_.fasta\n",
      "[18:18:10] alignment.py (line 556):     INFO: Merging extension sto file (/tmp/sepp/output.pstnd7g_/root/P_1/A_1_0/FC_1_0_0/hmmalign.results.l0bwd8xf) into base alignment (/tmp/sepp/output.pstnd7g_/root/P_1/A_1_0/hmmbuild.input.0c2yzn_m.fasta).\n",
      "[18:18:10] jobs.py (line 131):     INFO: Finished hmmalign Job with input: model:/tmp/sepp/output.pstnd7g_/root/P_10/A_10_0/hmmbuild.model.6ab2w80j, fragments:/tmp/sepp/output.pstnd7g_/root/P_10/A_10_0/FC_10_0_0/hmmalign.frag.dfo8m138.fasta, trim:False, base_alignment:/tmp/sepp/output.pstnd7g_/root/P_10/A_10_0/hmmbuild.input.v6uscju_.fasta\n",
      "[18:18:10] alignment.py (line 556):     INFO: Merging extension sto file (/tmp/sepp/output.pstnd7g_/root/P_1/A_1_0/FC_1_0_1/hmmalign.results.f498bi2f) into base alignment (/tmp/sepp/output.pstnd7g_/root/P_1/A_1_0/hmmbuild.input.0c2yzn_m.fasta).\n",
      "[18:18:10] jobs.py (line 131):     INFO: Finished hmmalign Job with input: model:/tmp/sepp/output.pstnd7g_/root/P_10/A_10_0/hmmbuild.model.6ab2w80j, fragments:/tmp/sepp/output.pstnd7g_/root/P_10/A_10_0/FC_10_0_2/hmmalign.frag.o9gwxw67.fasta, trim:False, base_alignment:/tmp/sepp/output.pstnd7g_/root/P_10/A_10_0/hmmbuild.input.v6uscju_.fasta\n",
      "[18:18:10] alignment.py (line 556):     INFO: Merging extension sto file (/tmp/sepp/output.pstnd7g_/root/P_1/A_1_0/FC_1_0_2/hmmalign.results._aezqx9c) into base alignment (/tmp/sepp/output.pstnd7g_/root/P_1/A_1_0/hmmbuild.input.0c2yzn_m.fasta).\n",
      "[18:18:10] exhaustive.py (line 151):     INFO: Merging sub-alignments for placement problem : P_6.\n",
      "[18:18:10] alignment.py (line 556):     INFO: Merging extension sto file (/tmp/sepp/output.pstnd7g_/root/P_6/A_6_0/FC_6_0_0/hmmalign.results.a2zmzy45) into base alignment (/tmp/sepp/output.pstnd7g_/root/P_6/A_6_0/hmmbuild.input.0f8q_5l0.fasta).\n",
      "[18:18:10] alignment.py (line 556):     INFO: Merging extension sto file (/tmp/sepp/output.pstnd7g_/root/P_6/A_6_0/FC_6_0_1/hmmalign.results.77xkr3ge) into base alignment (/tmp/sepp/output.pstnd7g_/root/P_6/A_6_0/hmmbuild.input.0f8q_5l0.fasta).\n",
      "[18:18:10] alignment.py (line 556):     INFO: Merging extension sto file (/tmp/sepp/output.pstnd7g_/root/P_6/A_6_0/FC_6_0_2/hmmalign.results.lvb54tk7) into base alignment (/tmp/sepp/output.pstnd7g_/root/P_6/A_6_0/hmmbuild.input.0f8q_5l0.fasta).\n",
      "[18:18:10] exhaustive.py (line 151):     INFO: Merging sub-alignments for placement problem : P_7.\n",
      "[18:18:10] jobs.py (line 131):     INFO: Finished hmmalign Job with input: model:/tmp/sepp/output.pstnd7g_/root/P_9/A_9_0/hmmbuild.model.q4jz8voq, fragments:/tmp/sepp/output.pstnd7g_/root/P_9/A_9_0/FC_9_0_0/hmmalign.frag.v4dms_xz.fasta, trim:False, base_alignment:/tmp/sepp/output.pstnd7g_/root/P_9/A_9_0/hmmbuild.input._rx9pkj5.fasta\n",
      "[18:18:10] jobs.py (line 131):     INFO: Finished hmmalign Job with input: model:/tmp/sepp/output.pstnd7g_/root/P_9/A_9_0/hmmbuild.model.q4jz8voq, fragments:/tmp/sepp/output.pstnd7g_/root/P_9/A_9_0/FC_9_0_1/hmmalign.frag.nzxns1fj.fasta, trim:False, base_alignment:/tmp/sepp/output.pstnd7g_/root/P_9/A_9_0/hmmbuild.input._rx9pkj5.fasta\n",
      "[18:18:10] alignment.py (line 556):     INFO: Merging extension sto file (/tmp/sepp/output.pstnd7g_/root/P_7/A_7_0/FC_7_0_0/hmmalign.results.7x2qfs1b) into base alignment (/tmp/sepp/output.pstnd7g_/root/P_7/A_7_0/hmmbuild.input.azj7q0fh.fasta).\n",
      "[18:18:10] jobs.py (line 131):     INFO: Finished hmmalign Job with input: model:/tmp/sepp/output.pstnd7g_/root/P_9/A_9_0/hmmbuild.model.q4jz8voq, fragments:/tmp/sepp/output.pstnd7g_/root/P_9/A_9_0/FC_9_0_2/hmmalign.frag.lcrg06qe.fasta, trim:False, base_alignment:/tmp/sepp/output.pstnd7g_/root/P_9/A_9_0/hmmbuild.input._rx9pkj5.fasta\n",
      "[18:18:10] alignment.py (line 556):     INFO: Merging extension sto file (/tmp/sepp/output.pstnd7g_/root/P_7/A_7_0/FC_7_0_1/hmmalign.results.f5dtcr9q) into base alignment (/tmp/sepp/output.pstnd7g_/root/P_7/A_7_0/hmmbuild.input.azj7q0fh.fasta).\n",
      "[18:18:10] alignment.py (line 556):     INFO: Merging extension sto file (/tmp/sepp/output.pstnd7g_/root/P_7/A_7_0/FC_7_0_2/hmmalign.results.bay87p3j) into base alignment (/tmp/sepp/output.pstnd7g_/root/P_7/A_7_0/hmmbuild.input.azj7q0fh.fasta).\n",
      "[18:18:11] exhaustive.py (line 151):     INFO: Merging sub-alignments for placement problem : P_8.\n",
      "[18:18:11] alignment.py (line 556):     INFO: Merging extension sto file (/tmp/sepp/output.pstnd7g_/root/P_8/A_8_0/FC_8_0_0/hmmalign.results.lrwzvb02) into base alignment (/tmp/sepp/output.pstnd7g_/root/P_8/A_8_0/hmmbuild.input.33ifcs7b.fasta).\n",
      "[18:18:11] alignment.py (line 556):     INFO: Merging extension sto file (/tmp/sepp/output.pstnd7g_/root/P_8/A_8_0/FC_8_0_1/hmmalign.results.ncmzdnjo) into base alignment (/tmp/sepp/output.pstnd7g_/root/P_8/A_8_0/hmmbuild.input.33ifcs7b.fasta).\n",
      "[18:18:11] alignment.py (line 556):     INFO: Merging extension sto file (/tmp/sepp/output.pstnd7g_/root/P_8/A_8_0/FC_8_0_2/hmmalign.results.qg1uisou) into base alignment (/tmp/sepp/output.pstnd7g_/root/P_8/A_8_0/hmmbuild.input.33ifcs7b.fasta).\n",
      "[18:18:11] exhaustive.py (line 151):     INFO: Merging sub-alignments for placement problem : P_10.\n",
      "[18:18:11] alignment.py (line 556):     INFO: Merging extension sto file (/tmp/sepp/output.pstnd7g_/root/P_10/A_10_0/FC_10_0_0/hmmalign.results.97o4iypo) into base alignment (/tmp/sepp/output.pstnd7g_/root/P_10/A_10_0/hmmbuild.input.v6uscju_.fasta).\n",
      "[18:18:11] alignment.py (line 556):     INFO: Merging extension sto file (/tmp/sepp/output.pstnd7g_/root/P_10/A_10_0/FC_10_0_1/hmmalign.results.48pcjioy) into base alignment (/tmp/sepp/output.pstnd7g_/root/P_10/A_10_0/hmmbuild.input.v6uscju_.fasta).\n",
      "[18:18:11] alignment.py (line 556):     INFO: Merging extension sto file (/tmp/sepp/output.pstnd7g_/root/P_10/A_10_0/FC_10_0_2/hmmalign.results._rbldym0) into base alignment (/tmp/sepp/output.pstnd7g_/root/P_10/A_10_0/hmmbuild.input.v6uscju_.fasta).\n",
      "[18:18:11] exhaustive.py (line 151):     INFO: Merging sub-alignments for placement problem : P_9.\n",
      "[18:18:11] alignment.py (line 556):     INFO: Merging extension sto file (/tmp/sepp/output.pstnd7g_/root/P_9/A_9_0/FC_9_0_0/hmmalign.results.yheuhqc2) into base alignment (/tmp/sepp/output.pstnd7g_/root/P_9/A_9_0/hmmbuild.input._rx9pkj5.fasta).\n",
      "[18:18:11] alignment.py (line 556):     INFO: Merging extension sto file (/tmp/sepp/output.pstnd7g_/root/P_9/A_9_0/FC_9_0_1/hmmalign.results.m5db3sxj) into base alignment (/tmp/sepp/output.pstnd7g_/root/P_9/A_9_0/hmmbuild.input._rx9pkj5.fasta).\n",
      "[18:18:11] alignment.py (line 556):     INFO: Merging extension sto file (/tmp/sepp/output.pstnd7g_/root/P_9/A_9_0/FC_9_0_2/hmmalign.results.lgr93ovi) into base alignment (/tmp/sepp/output.pstnd7g_/root/P_9/A_9_0/hmmbuild.input._rx9pkj5.fasta).\n",
      "[18:18:14] jobs.py (line 131):     INFO: Finished hmmalign Job with input: model:/tmp/sepp/output.pstnd7g_/root/P_12/A_12_0/hmmbuild.model.luy3y49j, fragments:/tmp/sepp/output.pstnd7g_/root/P_12/A_12_0/FC_12_0_1/hmmalign.frag.xi2xacn4.fasta, trim:False, base_alignment:/tmp/sepp/output.pstnd7g_/root/P_12/A_12_0/hmmbuild.input.edhov9sm.fasta\n",
      "[18:18:14] jobs.py (line 131):     INFO: Finished hmmalign Job with input: model:/tmp/sepp/output.pstnd7g_/root/P_13/A_13_0/hmmbuild.model.uemftkyi, fragments:/tmp/sepp/output.pstnd7g_/root/P_13/A_13_0/FC_13_0_0/hmmalign.frag.kd93ed2u.fasta, trim:False, base_alignment:/tmp/sepp/output.pstnd7g_/root/P_13/A_13_0/hmmbuild.input.n8fhx5ho.fasta\n",
      "[18:18:14] jobs.py (line 131):     INFO: Finished hmmalign Job with input: model:/tmp/sepp/output.pstnd7g_/root/P_12/A_12_0/hmmbuild.model.luy3y49j, fragments:/tmp/sepp/output.pstnd7g_/root/P_12/A_12_0/FC_12_0_2/hmmalign.frag.m_28tfzo.fasta, trim:False, base_alignment:/tmp/sepp/output.pstnd7g_/root/P_12/A_12_0/hmmbuild.input.edhov9sm.fasta\n",
      "[18:18:14] jobs.py (line 131):     INFO: Finished hmmalign Job with input: model:/tmp/sepp/output.pstnd7g_/root/P_12/A_12_0/hmmbuild.model.luy3y49j, fragments:/tmp/sepp/output.pstnd7g_/root/P_12/A_12_0/FC_12_0_0/hmmalign.frag.plprecuz.fasta, trim:False, base_alignment:/tmp/sepp/output.pstnd7g_/root/P_12/A_12_0/hmmbuild.input.edhov9sm.fasta\n",
      "[18:18:14] exhaustive.py (line 151):     INFO: Merging sub-alignments for placement problem : P_12.\n",
      "[18:18:14] alignment.py (line 556):     INFO: Merging extension sto file (/tmp/sepp/output.pstnd7g_/root/P_12/A_12_0/FC_12_0_0/hmmalign.results.xl2y0_op) into base alignment (/tmp/sepp/output.pstnd7g_/root/P_12/A_12_0/hmmbuild.input.edhov9sm.fasta).\n",
      "[18:18:14] alignment.py (line 556):     INFO: Merging extension sto file (/tmp/sepp/output.pstnd7g_/root/P_12/A_12_0/FC_12_0_1/hmmalign.results.ja75ns_2) into base alignment (/tmp/sepp/output.pstnd7g_/root/P_12/A_12_0/hmmbuild.input.edhov9sm.fasta).\n",
      "[18:18:14] jobs.py (line 131):     INFO: Finished hmmalign Job with input: model:/tmp/sepp/output.pstnd7g_/root/P_13/A_13_0/hmmbuild.model.uemftkyi, fragments:/tmp/sepp/output.pstnd7g_/root/P_13/A_13_0/FC_13_0_1/hmmalign.frag.tjm1pwgx.fasta, trim:False, base_alignment:/tmp/sepp/output.pstnd7g_/root/P_13/A_13_0/hmmbuild.input.n8fhx5ho.fasta\n",
      "[18:18:14] alignment.py (line 556):     INFO: Merging extension sto file (/tmp/sepp/output.pstnd7g_/root/P_12/A_12_0/FC_12_0_2/hmmalign.results.p85_bzkf) into base alignment (/tmp/sepp/output.pstnd7g_/root/P_12/A_12_0/hmmbuild.input.edhov9sm.fasta).\n",
      "[18:18:14] jobs.py (line 131):     INFO: Finished hmmalign Job with input: model:/tmp/sepp/output.pstnd7g_/root/P_14/A_14_0/hmmbuild.model.1548hf8n, fragments:/tmp/sepp/output.pstnd7g_/root/P_14/A_14_0/FC_14_0_0/hmmalign.frag.amttccfm.fasta, trim:False, base_alignment:/tmp/sepp/output.pstnd7g_/root/P_14/A_14_0/hmmbuild.input.fioadazr.fasta\n",
      "[18:18:14] jobs.py (line 131):     INFO: Finished hmmalign Job with input: model:/tmp/sepp/output.pstnd7g_/root/P_14/A_14_0/hmmbuild.model.1548hf8n, fragments:/tmp/sepp/output.pstnd7g_/root/P_14/A_14_0/FC_14_0_1/hmmalign.frag.ldiu451e.fasta, trim:False, base_alignment:/tmp/sepp/output.pstnd7g_/root/P_14/A_14_0/hmmbuild.input.fioadazr.fasta\n",
      "[18:18:14] jobs.py (line 131):     INFO: Finished hmmalign Job with input: model:/tmp/sepp/output.pstnd7g_/root/P_14/A_14_0/hmmbuild.model.1548hf8n, fragments:/tmp/sepp/output.pstnd7g_/root/P_14/A_14_0/FC_14_0_2/hmmalign.frag.efn4plo5.fasta, trim:False, base_alignment:/tmp/sepp/output.pstnd7g_/root/P_14/A_14_0/hmmbuild.input.fioadazr.fasta\n",
      "[18:18:14] exhaustive.py (line 151):     INFO: Merging sub-alignments for placement problem : P_14.\n",
      "[18:18:14] jobs.py (line 131):     INFO: Finished hmmalign Job with input: model:/tmp/sepp/output.pstnd7g_/root/P_15/A_15_0/hmmbuild.model.d_cldl1h, fragments:/tmp/sepp/output.pstnd7g_/root/P_15/A_15_0/FC_15_0_0/hmmalign.frag.dr0bx3zx.fasta, trim:False, base_alignment:/tmp/sepp/output.pstnd7g_/root/P_15/A_15_0/hmmbuild.input.7w0hrhox.fasta\n",
      "[18:18:15] alignment.py (line 556):     INFO: Merging extension sto file (/tmp/sepp/output.pstnd7g_/root/P_14/A_14_0/FC_14_0_0/hmmalign.results.c15q2qwa) into base alignment (/tmp/sepp/output.pstnd7g_/root/P_14/A_14_0/hmmbuild.input.fioadazr.fasta).\n",
      "[18:18:15] jobs.py (line 131):     INFO: Finished hmmalign Job with input: model:/tmp/sepp/output.pstnd7g_/root/P_13/A_13_0/hmmbuild.model.uemftkyi, fragments:/tmp/sepp/output.pstnd7g_/root/P_13/A_13_0/FC_13_0_2/hmmalign.frag.n06don13.fasta, trim:False, base_alignment:/tmp/sepp/output.pstnd7g_/root/P_13/A_13_0/hmmbuild.input.n8fhx5ho.fasta\n",
      "[18:18:15] alignment.py (line 556):     INFO: Merging extension sto file (/tmp/sepp/output.pstnd7g_/root/P_14/A_14_0/FC_14_0_1/hmmalign.results.pd7ds65i) into base alignment (/tmp/sepp/output.pstnd7g_/root/P_14/A_14_0/hmmbuild.input.fioadazr.fasta).\n",
      "[18:18:15] alignment.py (line 556):     INFO: Merging extension sto file (/tmp/sepp/output.pstnd7g_/root/P_14/A_14_0/FC_14_0_2/hmmalign.results.ndpos725) into base alignment (/tmp/sepp/output.pstnd7g_/root/P_14/A_14_0/hmmbuild.input.fioadazr.fasta).\n",
      "[18:18:15] exhaustive.py (line 151):     INFO: Merging sub-alignments for placement problem : P_15.\n",
      "[18:18:15] alignment.py (line 556):     INFO: Merging extension sto file (/tmp/sepp/output.pstnd7g_/root/P_15/A_15_0/FC_15_0_0/hmmalign.results.0hmkbbhg) into base alignment (/tmp/sepp/output.pstnd7g_/root/P_15/A_15_0/hmmbuild.input.7w0hrhox.fasta).\n",
      "[18:18:15] exhaustive.py (line 151):     INFO: Merging sub-alignments for placement problem : P_13.\n",
      "[18:18:15] alignment.py (line 556):     INFO: Merging extension sto file (/tmp/sepp/output.pstnd7g_/root/P_13/A_13_0/FC_13_0_0/hmmalign.results.08obim9t) into base alignment (/tmp/sepp/output.pstnd7g_/root/P_13/A_13_0/hmmbuild.input.n8fhx5ho.fasta).\n",
      "[18:18:15] alignment.py (line 556):     INFO: Merging extension sto file (/tmp/sepp/output.pstnd7g_/root/P_13/A_13_0/FC_13_0_1/hmmalign.results.yk6sclvp) into base alignment (/tmp/sepp/output.pstnd7g_/root/P_13/A_13_0/hmmbuild.input.n8fhx5ho.fasta).\n",
      "[18:18:15] alignment.py (line 556):     INFO: Merging extension sto file (/tmp/sepp/output.pstnd7g_/root/P_13/A_13_0/FC_13_0_2/hmmalign.results.ut3qvt5k) into base alignment (/tmp/sepp/output.pstnd7g_/root/P_13/A_13_0/hmmbuild.input.n8fhx5ho.fasta).\n",
      "[18:18:18] jobs.py (line 131):     INFO: Finished pplacer Job with input: backbone_alignment_file:/tmp/sepp/output.pstnd7g_/root/P_5/pplacer.backbone.vmcqc4zb.fasta, tree_file:/tmp/sepp/output.pstnd7g_/root/P_5/pplacer.tree.bqvy4crb.tre, info_file:/home/lauro/anaconda3/envs/qiime2-2021.11/lib/python3.8/site-packages/picrust2/default_files/prokaryotic/pro_ref/pro_ref.raxml_info, extended alignment:/tmp/sepp/output.pstnd7g_/root/P_5/pplacer.extended.0.k5vjvul6.fasta, output:/tmp/sepp/output.pstnd7g_/root/P_5/pplacer.extended.0.k5vjvul6.jplace\n",
      "[18:18:20] jobs.py (line 131):     INFO: Finished pplacer Job with input: backbone_alignment_file:/tmp/sepp/output.pstnd7g_/root/P_5/pplacer.backbone.1pdqyhl6.fasta, tree_file:/tmp/sepp/output.pstnd7g_/root/P_5/pplacer.tree.2nk7pg2l.tre, info_file:/home/lauro/anaconda3/envs/qiime2-2021.11/lib/python3.8/site-packages/picrust2/default_files/prokaryotic/pro_ref/pro_ref.raxml_info, extended alignment:/tmp/sepp/output.pstnd7g_/root/P_5/pplacer.extended.2.si2un7hf.fasta, output:/tmp/sepp/output.pstnd7g_/root/P_5/pplacer.extended.2.si2un7hf.jplace\n",
      "[18:18:20] jobs.py (line 131):     INFO: Finished pplacer Job with input: backbone_alignment_file:/tmp/sepp/output.pstnd7g_/root/P_5/pplacer.backbone.4dgjl566.fasta, tree_file:/tmp/sepp/output.pstnd7g_/root/P_5/pplacer.tree.7gcr7pub.tre, info_file:/home/lauro/anaconda3/envs/qiime2-2021.11/lib/python3.8/site-packages/picrust2/default_files/prokaryotic/pro_ref/pro_ref.raxml_info, extended alignment:/tmp/sepp/output.pstnd7g_/root/P_5/pplacer.extended.1.gy8s0quy.fasta, output:/tmp/sepp/output.pstnd7g_/root/P_5/pplacer.extended.1.gy8s0quy.jplace\n",
      "[18:18:23] jobs.py (line 131):     INFO: Finished hmmalign Job with input: model:/tmp/sepp/output.pstnd7g_/root/P_11/A_11_0/hmmbuild.model.j9mqnabq, fragments:/tmp/sepp/output.pstnd7g_/root/P_11/A_11_0/FC_11_0_1/hmmalign.frag.u80jy33n.fasta, trim:False, base_alignment:/tmp/sepp/output.pstnd7g_/root/P_11/A_11_0/hmmbuild.input.bgejs7gx.fasta\n",
      "[18:18:23] jobs.py (line 131):     INFO: Finished pplacer Job with input: backbone_alignment_file:/tmp/sepp/output.pstnd7g_/root/P_1/pplacer.backbone.nl9nl3x4.fasta, tree_file:/tmp/sepp/output.pstnd7g_/root/P_1/pplacer.tree.3g_lguxb.tre, info_file:/home/lauro/anaconda3/envs/qiime2-2021.11/lib/python3.8/site-packages/picrust2/default_files/prokaryotic/pro_ref/pro_ref.raxml_info, extended alignment:/tmp/sepp/output.pstnd7g_/root/P_1/pplacer.extended.0.10lc3oil.fasta, output:/tmp/sepp/output.pstnd7g_/root/P_1/pplacer.extended.0.10lc3oil.jplace\n",
      "[18:18:23] jobs.py (line 131):     INFO: Finished hmmalign Job with input: model:/tmp/sepp/output.pstnd7g_/root/P_11/A_11_0/hmmbuild.model.j9mqnabq, fragments:/tmp/sepp/output.pstnd7g_/root/P_11/A_11_0/FC_11_0_2/hmmalign.frag.o5weh5ag.fasta, trim:False, base_alignment:/tmp/sepp/output.pstnd7g_/root/P_11/A_11_0/hmmbuild.input.bgejs7gx.fasta\n",
      "[18:18:24] jobs.py (line 131):     INFO: Finished hmmalign Job with input: model:/tmp/sepp/output.pstnd7g_/root/P_11/A_11_0/hmmbuild.model.j9mqnabq, fragments:/tmp/sepp/output.pstnd7g_/root/P_11/A_11_0/FC_11_0_0/hmmalign.frag.7o40bzrs.fasta, trim:False, base_alignment:/tmp/sepp/output.pstnd7g_/root/P_11/A_11_0/hmmbuild.input.bgejs7gx.fasta\n",
      "[18:18:24] exhaustive.py (line 151):     INFO: Merging sub-alignments for placement problem : P_11.\n",
      "[18:18:24] alignment.py (line 556):     INFO: Merging extension sto file (/tmp/sepp/output.pstnd7g_/root/P_11/A_11_0/FC_11_0_0/hmmalign.results.8mjw33ai) into base alignment (/tmp/sepp/output.pstnd7g_/root/P_11/A_11_0/hmmbuild.input.bgejs7gx.fasta).\n",
      "[18:18:24] alignment.py (line 556):     INFO: Merging extension sto file (/tmp/sepp/output.pstnd7g_/root/P_11/A_11_0/FC_11_0_1/hmmalign.results.fjhnjes_) into base alignment (/tmp/sepp/output.pstnd7g_/root/P_11/A_11_0/hmmbuild.input.bgejs7gx.fasta).\n",
      "[18:18:24] alignment.py (line 556):     INFO: Merging extension sto file (/tmp/sepp/output.pstnd7g_/root/P_11/A_11_0/FC_11_0_2/hmmalign.results.q_vdeeof) into base alignment (/tmp/sepp/output.pstnd7g_/root/P_11/A_11_0/hmmbuild.input.bgejs7gx.fasta).\n",
      "[18:18:25] jobs.py (line 131):     INFO: Finished pplacer Job with input: backbone_alignment_file:/tmp/sepp/output.pstnd7g_/root/P_1/pplacer.backbone.6nas1ocr.fasta, tree_file:/tmp/sepp/output.pstnd7g_/root/P_1/pplacer.tree.4v67yvlo.tre, info_file:/home/lauro/anaconda3/envs/qiime2-2021.11/lib/python3.8/site-packages/picrust2/default_files/prokaryotic/pro_ref/pro_ref.raxml_info, extended alignment:/tmp/sepp/output.pstnd7g_/root/P_1/pplacer.extended.1.ilc1erp9.fasta, output:/tmp/sepp/output.pstnd7g_/root/P_1/pplacer.extended.1.ilc1erp9.jplace\n",
      "[18:18:26] jobs.py (line 131):     INFO: Finished pplacer Job with input: backbone_alignment_file:/tmp/sepp/output.pstnd7g_/root/P_1/pplacer.backbone.0jkjbxx8.fasta, tree_file:/tmp/sepp/output.pstnd7g_/root/P_1/pplacer.tree.97g0t4xo.tre, info_file:/home/lauro/anaconda3/envs/qiime2-2021.11/lib/python3.8/site-packages/picrust2/default_files/prokaryotic/pro_ref/pro_ref.raxml_info, extended alignment:/tmp/sepp/output.pstnd7g_/root/P_1/pplacer.extended.2.5l87zeg_.fasta, output:/tmp/sepp/output.pstnd7g_/root/P_1/pplacer.extended.2.5l87zeg_.jplace\n",
      "[18:18:29] jobs.py (line 131):     INFO: Finished pplacer Job with input: backbone_alignment_file:/tmp/sepp/output.pstnd7g_/root/P_7/pplacer.backbone.gj8hspd1.fasta, tree_file:/tmp/sepp/output.pstnd7g_/root/P_7/pplacer.tree.egz7tl3e.tre, info_file:/home/lauro/anaconda3/envs/qiime2-2021.11/lib/python3.8/site-packages/picrust2/default_files/prokaryotic/pro_ref/pro_ref.raxml_info, extended alignment:/tmp/sepp/output.pstnd7g_/root/P_7/pplacer.extended.1.e22mco3e.fasta, output:/tmp/sepp/output.pstnd7g_/root/P_7/pplacer.extended.1.e22mco3e.jplace\n",
      "[18:18:30] jobs.py (line 131):     INFO: Finished pplacer Job with input: backbone_alignment_file:/tmp/sepp/output.pstnd7g_/root/P_6/pplacer.backbone.nm269l2c.fasta, tree_file:/tmp/sepp/output.pstnd7g_/root/P_6/pplacer.tree.uhhpyv5q.tre, info_file:/home/lauro/anaconda3/envs/qiime2-2021.11/lib/python3.8/site-packages/picrust2/default_files/prokaryotic/pro_ref/pro_ref.raxml_info, extended alignment:/tmp/sepp/output.pstnd7g_/root/P_6/pplacer.extended.1.drlm2kfp.fasta, output:/tmp/sepp/output.pstnd7g_/root/P_6/pplacer.extended.1.drlm2kfp.jplace\n",
      "[18:18:30] jobs.py (line 131):     INFO: Finished pplacer Job with input: backbone_alignment_file:/tmp/sepp/output.pstnd7g_/root/P_7/pplacer.backbone.93mostg4.fasta, tree_file:/tmp/sepp/output.pstnd7g_/root/P_7/pplacer.tree.q6q5jp9o.tre, info_file:/home/lauro/anaconda3/envs/qiime2-2021.11/lib/python3.8/site-packages/picrust2/default_files/prokaryotic/pro_ref/pro_ref.raxml_info, extended alignment:/tmp/sepp/output.pstnd7g_/root/P_7/pplacer.extended.0.ax1rs076.fasta, output:/tmp/sepp/output.pstnd7g_/root/P_7/pplacer.extended.0.ax1rs076.jplace\n",
      "[18:18:31] jobs.py (line 131):     INFO: Finished pplacer Job with input: backbone_alignment_file:/tmp/sepp/output.pstnd7g_/root/P_7/pplacer.backbone.lk7k2j64.fasta, tree_file:/tmp/sepp/output.pstnd7g_/root/P_7/pplacer.tree.t90ngwf3.tre, info_file:/home/lauro/anaconda3/envs/qiime2-2021.11/lib/python3.8/site-packages/picrust2/default_files/prokaryotic/pro_ref/pro_ref.raxml_info, extended alignment:/tmp/sepp/output.pstnd7g_/root/P_7/pplacer.extended.2.4hn531t1.fasta, output:/tmp/sepp/output.pstnd7g_/root/P_7/pplacer.extended.2.4hn531t1.jplace\n",
      "[18:18:33] jobs.py (line 131):     INFO: Finished pplacer Job with input: backbone_alignment_file:/tmp/sepp/output.pstnd7g_/root/P_8/pplacer.backbone._qknee9s.fasta, tree_file:/tmp/sepp/output.pstnd7g_/root/P_8/pplacer.tree.y3ka57gt.tre, info_file:/home/lauro/anaconda3/envs/qiime2-2021.11/lib/python3.8/site-packages/picrust2/default_files/prokaryotic/pro_ref/pro_ref.raxml_info, extended alignment:/tmp/sepp/output.pstnd7g_/root/P_8/pplacer.extended.1.no4b90sv.fasta, output:/tmp/sepp/output.pstnd7g_/root/P_8/pplacer.extended.1.no4b90sv.jplace\n",
      "[18:18:34] jobs.py (line 131):     INFO: Finished pplacer Job with input: backbone_alignment_file:/tmp/sepp/output.pstnd7g_/root/P_8/pplacer.backbone.d6k231_6.fasta, tree_file:/tmp/sepp/output.pstnd7g_/root/P_8/pplacer.tree.urk68sci.tre, info_file:/home/lauro/anaconda3/envs/qiime2-2021.11/lib/python3.8/site-packages/picrust2/default_files/prokaryotic/pro_ref/pro_ref.raxml_info, extended alignment:/tmp/sepp/output.pstnd7g_/root/P_8/pplacer.extended.0.ucovdjle.fasta, output:/tmp/sepp/output.pstnd7g_/root/P_8/pplacer.extended.0.ucovdjle.jplace\n",
      "[18:18:34] jobs.py (line 131):     INFO: Finished pplacer Job with input: backbone_alignment_file:/tmp/sepp/output.pstnd7g_/root/P_10/pplacer.backbone.j12tlk53.fasta, tree_file:/tmp/sepp/output.pstnd7g_/root/P_10/pplacer.tree.y6o97b0_.tre, info_file:/home/lauro/anaconda3/envs/qiime2-2021.11/lib/python3.8/site-packages/picrust2/default_files/prokaryotic/pro_ref/pro_ref.raxml_info, extended alignment:/tmp/sepp/output.pstnd7g_/root/P_10/pplacer.extended.0.eru8_5ru.fasta, output:/tmp/sepp/output.pstnd7g_/root/P_10/pplacer.extended.0.eru8_5ru.jplace\n",
      "[18:18:34] jobs.py (line 131):     INFO: Finished pplacer Job with input: backbone_alignment_file:/tmp/sepp/output.pstnd7g_/root/P_6/pplacer.backbone.l9zhh5qc.fasta, tree_file:/tmp/sepp/output.pstnd7g_/root/P_6/pplacer.tree.34k71ra9.tre, info_file:/home/lauro/anaconda3/envs/qiime2-2021.11/lib/python3.8/site-packages/picrust2/default_files/prokaryotic/pro_ref/pro_ref.raxml_info, extended alignment:/tmp/sepp/output.pstnd7g_/root/P_6/pplacer.extended.0.m3hbsdti.fasta, output:/tmp/sepp/output.pstnd7g_/root/P_6/pplacer.extended.0.m3hbsdti.jplace\n",
      "[18:18:35] jobs.py (line 131):     INFO: Finished pplacer Job with input: backbone_alignment_file:/tmp/sepp/output.pstnd7g_/root/P_8/pplacer.backbone.wky_9l5s.fasta, tree_file:/tmp/sepp/output.pstnd7g_/root/P_8/pplacer.tree.cieo3jjw.tre, info_file:/home/lauro/anaconda3/envs/qiime2-2021.11/lib/python3.8/site-packages/picrust2/default_files/prokaryotic/pro_ref/pro_ref.raxml_info, extended alignment:/tmp/sepp/output.pstnd7g_/root/P_8/pplacer.extended.2.9ved7rsv.fasta, output:/tmp/sepp/output.pstnd7g_/root/P_8/pplacer.extended.2.9ved7rsv.jplace\n",
      "[18:18:39] jobs.py (line 131):     INFO: Finished pplacer Job with input: backbone_alignment_file:/tmp/sepp/output.pstnd7g_/root/P_6/pplacer.backbone.4gsh_wvv.fasta, tree_file:/tmp/sepp/output.pstnd7g_/root/P_6/pplacer.tree.0tqafz04.tre, info_file:/home/lauro/anaconda3/envs/qiime2-2021.11/lib/python3.8/site-packages/picrust2/default_files/prokaryotic/pro_ref/pro_ref.raxml_info, extended alignment:/tmp/sepp/output.pstnd7g_/root/P_6/pplacer.extended.2.lsxdqt4q.fasta, output:/tmp/sepp/output.pstnd7g_/root/P_6/pplacer.extended.2.lsxdqt4q.jplace\n",
      "[18:18:40] jobs.py (line 131):     INFO: Finished pplacer Job with input: backbone_alignment_file:/tmp/sepp/output.pstnd7g_/root/P_9/pplacer.backbone.a0yroejx.fasta, tree_file:/tmp/sepp/output.pstnd7g_/root/P_9/pplacer.tree.gvndcezu.tre, info_file:/home/lauro/anaconda3/envs/qiime2-2021.11/lib/python3.8/site-packages/picrust2/default_files/prokaryotic/pro_ref/pro_ref.raxml_info, extended alignment:/tmp/sepp/output.pstnd7g_/root/P_9/pplacer.extended.1.jxb3_fem.fasta, output:/tmp/sepp/output.pstnd7g_/root/P_9/pplacer.extended.1.jxb3_fem.jplace\n",
      "[18:18:41] jobs.py (line 131):     INFO: Finished pplacer Job with input: backbone_alignment_file:/tmp/sepp/output.pstnd7g_/root/P_10/pplacer.backbone.3e2y2jq2.fasta, tree_file:/tmp/sepp/output.pstnd7g_/root/P_10/pplacer.tree.jv1z4kum.tre, info_file:/home/lauro/anaconda3/envs/qiime2-2021.11/lib/python3.8/site-packages/picrust2/default_files/prokaryotic/pro_ref/pro_ref.raxml_info, extended alignment:/tmp/sepp/output.pstnd7g_/root/P_10/pplacer.extended.1.xyv75xxm.fasta, output:/tmp/sepp/output.pstnd7g_/root/P_10/pplacer.extended.1.xyv75xxm.jplace\n",
      "[18:18:42] jobs.py (line 131):     INFO: Finished pplacer Job with input: backbone_alignment_file:/tmp/sepp/output.pstnd7g_/root/P_10/pplacer.backbone.8s04lxk6.fasta, tree_file:/tmp/sepp/output.pstnd7g_/root/P_10/pplacer.tree.l4j1d_r2.tre, info_file:/home/lauro/anaconda3/envs/qiime2-2021.11/lib/python3.8/site-packages/picrust2/default_files/prokaryotic/pro_ref/pro_ref.raxml_info, extended alignment:/tmp/sepp/output.pstnd7g_/root/P_10/pplacer.extended.2.5x8vffgy.fasta, output:/tmp/sepp/output.pstnd7g_/root/P_10/pplacer.extended.2.5x8vffgy.jplace\n",
      "[18:18:43] jobs.py (line 131):     INFO: Finished pplacer Job with input: backbone_alignment_file:/tmp/sepp/output.pstnd7g_/root/P_9/pplacer.backbone.8eyp_7bo.fasta, tree_file:/tmp/sepp/output.pstnd7g_/root/P_9/pplacer.tree._3ii1jfy.tre, info_file:/home/lauro/anaconda3/envs/qiime2-2021.11/lib/python3.8/site-packages/picrust2/default_files/prokaryotic/pro_ref/pro_ref.raxml_info, extended alignment:/tmp/sepp/output.pstnd7g_/root/P_9/pplacer.extended.2.o8bht1yg.fasta, output:/tmp/sepp/output.pstnd7g_/root/P_9/pplacer.extended.2.o8bht1yg.jplace\n",
      "[18:18:45] jobs.py (line 131):     INFO: Finished pplacer Job with input: backbone_alignment_file:/tmp/sepp/output.pstnd7g_/root/P_14/pplacer.backbone.my7a7rkt.fasta, tree_file:/tmp/sepp/output.pstnd7g_/root/P_14/pplacer.tree.mxn0fh2y.tre, info_file:/home/lauro/anaconda3/envs/qiime2-2021.11/lib/python3.8/site-packages/picrust2/default_files/prokaryotic/pro_ref/pro_ref.raxml_info, extended alignment:/tmp/sepp/output.pstnd7g_/root/P_14/pplacer.extended.0.vn6lbdev.fasta, output:/tmp/sepp/output.pstnd7g_/root/P_14/pplacer.extended.0.vn6lbdev.jplace\n",
      "[18:18:46] jobs.py (line 131):     INFO: Finished pplacer Job with input: backbone_alignment_file:/tmp/sepp/output.pstnd7g_/root/P_9/pplacer.backbone.p9nkj05n.fasta, tree_file:/tmp/sepp/output.pstnd7g_/root/P_9/pplacer.tree.adm7itut.tre, info_file:/home/lauro/anaconda3/envs/qiime2-2021.11/lib/python3.8/site-packages/picrust2/default_files/prokaryotic/pro_ref/pro_ref.raxml_info, extended alignment:/tmp/sepp/output.pstnd7g_/root/P_9/pplacer.extended.0.n28ha06n.fasta, output:/tmp/sepp/output.pstnd7g_/root/P_9/pplacer.extended.0.n28ha06n.jplace\n",
      "[18:18:48] jobs.py (line 131):     INFO: Finished pplacer Job with input: backbone_alignment_file:/tmp/sepp/output.pstnd7g_/root/P_14/pplacer.backbone.1hg9rtxp.fasta, tree_file:/tmp/sepp/output.pstnd7g_/root/P_14/pplacer.tree.nz24fcv5.tre, info_file:/home/lauro/anaconda3/envs/qiime2-2021.11/lib/python3.8/site-packages/picrust2/default_files/prokaryotic/pro_ref/pro_ref.raxml_info, extended alignment:/tmp/sepp/output.pstnd7g_/root/P_14/pplacer.extended.1.a2xjexp4.fasta, output:/tmp/sepp/output.pstnd7g_/root/P_14/pplacer.extended.1.a2xjexp4.jplace\n",
      "[18:18:49] jobs.py (line 131):     INFO: Finished pplacer Job with input: backbone_alignment_file:/tmp/sepp/output.pstnd7g_/root/P_14/pplacer.backbone.bz5u1z15.fasta, tree_file:/tmp/sepp/output.pstnd7g_/root/P_14/pplacer.tree.zfbt7muk.tre, info_file:/home/lauro/anaconda3/envs/qiime2-2021.11/lib/python3.8/site-packages/picrust2/default_files/prokaryotic/pro_ref/pro_ref.raxml_info, extended alignment:/tmp/sepp/output.pstnd7g_/root/P_14/pplacer.extended.2.cbcy_y7s.fasta, output:/tmp/sepp/output.pstnd7g_/root/P_14/pplacer.extended.2.cbcy_y7s.jplace\n",
      "[18:18:52] jobs.py (line 131):     INFO: Finished pplacer Job with input: backbone_alignment_file:/tmp/sepp/output.pstnd7g_/root/P_15/pplacer.backbone.1lsu6egh.fasta, tree_file:/tmp/sepp/output.pstnd7g_/root/P_15/pplacer.tree.3tb57s62.tre, info_file:/home/lauro/anaconda3/envs/qiime2-2021.11/lib/python3.8/site-packages/picrust2/default_files/prokaryotic/pro_ref/pro_ref.raxml_info, extended alignment:/tmp/sepp/output.pstnd7g_/root/P_15/pplacer.extended.0.jo7xtiv2.fasta, output:/tmp/sepp/output.pstnd7g_/root/P_15/pplacer.extended.0.jo7xtiv2.jplace\n",
      "[18:18:53] jobs.py (line 131):     INFO: Finished pplacer Job with input: backbone_alignment_file:/tmp/sepp/output.pstnd7g_/root/P_13/pplacer.backbone.x5i2samo.fasta, tree_file:/tmp/sepp/output.pstnd7g_/root/P_13/pplacer.tree.u5mgvby5.tre, info_file:/home/lauro/anaconda3/envs/qiime2-2021.11/lib/python3.8/site-packages/picrust2/default_files/prokaryotic/pro_ref/pro_ref.raxml_info, extended alignment:/tmp/sepp/output.pstnd7g_/root/P_13/pplacer.extended.1.o_tloe3y.fasta, output:/tmp/sepp/output.pstnd7g_/root/P_13/pplacer.extended.1.o_tloe3y.jplace\n",
      "[18:18:56] jobs.py (line 131):     INFO: Finished pplacer Job with input: backbone_alignment_file:/tmp/sepp/output.pstnd7g_/root/P_12/pplacer.backbone.nw6exk__.fasta, tree_file:/tmp/sepp/output.pstnd7g_/root/P_12/pplacer.tree.1p3n_328.tre, info_file:/home/lauro/anaconda3/envs/qiime2-2021.11/lib/python3.8/site-packages/picrust2/default_files/prokaryotic/pro_ref/pro_ref.raxml_info, extended alignment:/tmp/sepp/output.pstnd7g_/root/P_12/pplacer.extended.0.y_balk_a.fasta, output:/tmp/sepp/output.pstnd7g_/root/P_12/pplacer.extended.0.y_balk_a.jplace\n",
      "[18:18:56] jobs.py (line 131):     INFO: Finished pplacer Job with input: backbone_alignment_file:/tmp/sepp/output.pstnd7g_/root/P_12/pplacer.backbone.4tf4qluu.fasta, tree_file:/tmp/sepp/output.pstnd7g_/root/P_12/pplacer.tree._432e4yc.tre, info_file:/home/lauro/anaconda3/envs/qiime2-2021.11/lib/python3.8/site-packages/picrust2/default_files/prokaryotic/pro_ref/pro_ref.raxml_info, extended alignment:/tmp/sepp/output.pstnd7g_/root/P_12/pplacer.extended.1.xbec51a_.fasta, output:/tmp/sepp/output.pstnd7g_/root/P_12/pplacer.extended.1.xbec51a_.jplace\n",
      "[18:18:56] jobs.py (line 131):     INFO: Finished pplacer Job with input: backbone_alignment_file:/tmp/sepp/output.pstnd7g_/root/P_13/pplacer.backbone.7n1r6wxc.fasta, tree_file:/tmp/sepp/output.pstnd7g_/root/P_13/pplacer.tree.gxv283jh.tre, info_file:/home/lauro/anaconda3/envs/qiime2-2021.11/lib/python3.8/site-packages/picrust2/default_files/prokaryotic/pro_ref/pro_ref.raxml_info, extended alignment:/tmp/sepp/output.pstnd7g_/root/P_13/pplacer.extended.0.gswbh35h.fasta, output:/tmp/sepp/output.pstnd7g_/root/P_13/pplacer.extended.0.gswbh35h.jplace\n",
      "[18:18:57] jobs.py (line 131):     INFO: Finished pplacer Job with input: backbone_alignment_file:/tmp/sepp/output.pstnd7g_/root/P_12/pplacer.backbone.0w9qws9o.fasta, tree_file:/tmp/sepp/output.pstnd7g_/root/P_12/pplacer.tree.4xgojfwj.tre, info_file:/home/lauro/anaconda3/envs/qiime2-2021.11/lib/python3.8/site-packages/picrust2/default_files/prokaryotic/pro_ref/pro_ref.raxml_info, extended alignment:/tmp/sepp/output.pstnd7g_/root/P_12/pplacer.extended.2.pb7qmj0a.fasta, output:/tmp/sepp/output.pstnd7g_/root/P_12/pplacer.extended.2.pb7qmj0a.jplace\n",
      "[18:18:58] jobs.py (line 131):     INFO: Finished pplacer Job with input: backbone_alignment_file:/tmp/sepp/output.pstnd7g_/root/P_13/pplacer.backbone.uj82fhxb.fasta, tree_file:/tmp/sepp/output.pstnd7g_/root/P_13/pplacer.tree.ex_ig1mt.tre, info_file:/home/lauro/anaconda3/envs/qiime2-2021.11/lib/python3.8/site-packages/picrust2/default_files/prokaryotic/pro_ref/pro_ref.raxml_info, extended alignment:/tmp/sepp/output.pstnd7g_/root/P_13/pplacer.extended.2.i1he6hd3.fasta, output:/tmp/sepp/output.pstnd7g_/root/P_13/pplacer.extended.2.i1he6hd3.jplace\n",
      "[18:19:35] jobs.py (line 131):     INFO: Finished pplacer Job with input: backbone_alignment_file:/tmp/sepp/output.pstnd7g_/root/P_11/pplacer.backbone.wvzvme6r.fasta, tree_file:/tmp/sepp/output.pstnd7g_/root/P_11/pplacer.tree.1c19406r.tre, info_file:/home/lauro/anaconda3/envs/qiime2-2021.11/lib/python3.8/site-packages/picrust2/default_files/prokaryotic/pro_ref/pro_ref.raxml_info, extended alignment:/tmp/sepp/output.pstnd7g_/root/P_11/pplacer.extended.0._r4ajoqx.fasta, output:/tmp/sepp/output.pstnd7g_/root/P_11/pplacer.extended.0._r4ajoqx.jplace\n",
      "[18:19:38] jobs.py (line 131):     INFO: Finished pplacer Job with input: backbone_alignment_file:/tmp/sepp/output.pstnd7g_/root/P_11/pplacer.backbone.6ccy0xdc.fasta, tree_file:/tmp/sepp/output.pstnd7g_/root/P_11/pplacer.tree.8p63cvtg.tre, info_file:/home/lauro/anaconda3/envs/qiime2-2021.11/lib/python3.8/site-packages/picrust2/default_files/prokaryotic/pro_ref/pro_ref.raxml_info, extended alignment:/tmp/sepp/output.pstnd7g_/root/P_11/pplacer.extended.2.d2sppuqb.fasta, output:/tmp/sepp/output.pstnd7g_/root/P_11/pplacer.extended.2.d2sppuqb.jplace\n",
      "[18:19:38] jobs.py (line 131):     INFO: Finished pplacer Job with input: backbone_alignment_file:/tmp/sepp/output.pstnd7g_/root/P_11/pplacer.backbone.9fduriyf.fasta, tree_file:/tmp/sepp/output.pstnd7g_/root/P_11/pplacer.tree.boq7q6mz.tre, info_file:/home/lauro/anaconda3/envs/qiime2-2021.11/lib/python3.8/site-packages/picrust2/default_files/prokaryotic/pro_ref/pro_ref.raxml_info, extended alignment:/tmp/sepp/output.pstnd7g_/root/P_11/pplacer.extended.1.98i58kjh.fasta, output:/tmp/sepp/output.pstnd7g_/root/P_11/pplacer.extended.1.98i58kjh.jplace\n",
      "[18:19:47] jobs.py (line 131):     INFO: Finished jsonmerger Job with input: input:pipe output:/tmp/tmptu34fqoc/picrust2_out/intermediate/place_seqs/sepp_out/output_placement.json\n",
      "[18:19:48] algorithm.py (line 195):     INFO: Current execution Finished in 171 seconds\n",
      "[18:19:48] algorithm.py (line 197):     INFO: All checkpointed executions Finished in 171 cumulative time\n",
      "\n",
      "gappa examine graft --jplace-path /tmp/tmptu34fqoc/picrust2_out/intermediate/place_seqs/sepp_out/output_placement.json --fully-resolve --out-dir /tmp/tmptu34fqoc/picrust2_out/intermediate/place_seqs/sepp_out\n",
      "\n",
      "mv /tmp/tmptu34fqoc/picrust2_out/intermediate/place_seqs/sepp_out/output_placement.newick /tmp/tmptu34fqoc/picrust2_out/out.tre\n",
      "\n",
      "Finished placing sequences on output tree: /tmp/tmptu34fqoc/picrust2_out/out.tre\n",
      "hsp.py --tree /tmp/tmptu34fqoc/picrust2_out/out.tre --output /tmp/tmptu34fqoc/picrust2_out/marker_predicted_and_nsti.tsv.gz --observed_trait_table /home/lauro/anaconda3/envs/qiime2-2021.11/lib/python3.8/site-packages/picrust2/default_files/prokaryotic/16S.txt.gz --hsp_method pic --edge_exponent 0.5 --seed 100 --calculate_NSTI --processes 1 --verbose\n"
     ]
    },
    {
     "name": "stdout",
     "output_type": "stream",
     "text": [
      "\n",
      "\n",
      "\n"
     ]
    },
    {
     "name": "stderr",
     "output_type": "stream",
     "text": [
      "Rscript /home/lauro/anaconda3/envs/qiime2-2021.11/lib/python3.8/site-packages/picrust2/Rscripts/castor_nsti.R /tmp/tmptu34fqoc/picrust2_out/out.tre /tmp/tmp2mye3z_g/known_tips.txt /tmp/tmp2mye3z_g/nsti_out.txt\n",
      "\n",
      "Rscript /home/lauro/anaconda3/envs/qiime2-2021.11/lib/python3.8/site-packages/picrust2/Rscripts/castor_hsp.R /tmp/tmptu34fqoc/picrust2_out/out.tre /tmp/tmpnh1m4jzk/subset_tab_0 pic 0.5 FALSE FALSE /tmp/tmpcbztaen6/predicted_counts.txt /tmp/tmpcbztaen6/predicted_ci.txt 100\n",
      "\n",
      "\n",
      "hsp.py --tree /tmp/tmptu34fqoc/picrust2_out/out.tre --output /tmp/tmptu34fqoc/picrust2_out/EC_predicted.tsv.gz --observed_trait_table /home/lauro/anaconda3/envs/qiime2-2021.11/lib/python3.8/site-packages/picrust2/default_files/prokaryotic/ec.txt.gz --hsp_method pic --edge_exponent 0.5 --seed 100 --processes 6 --verbose\n"
     ]
    },
    {
     "name": "stdout",
     "output_type": "stream",
     "text": [
      "\n",
      "\n",
      "\n",
      "\n",
      "\n",
      "\n",
      "\n"
     ]
    },
    {
     "name": "stderr",
     "output_type": "stream",
     "text": [
      "Rscript /home/lauro/anaconda3/envs/qiime2-2021.11/lib/python3.8/site-packages/picrust2/Rscripts/castor_hsp.R /tmp/tmptu34fqoc/picrust2_out/out.tre /tmp/tmp20usvk75/subset_tab_0 pic 0.5 FALSE FALSE /tmp/tmpjapjpaw8/predicted_counts.txt /tmp/tmpjapjpaw8/predicted_ci.txt 100\n",
      "\n",
      "Rscript /home/lauro/anaconda3/envs/qiime2-2021.11/lib/python3.8/site-packages/picrust2/Rscripts/castor_hsp.R /tmp/tmptu34fqoc/picrust2_out/out.tre /tmp/tmp20usvk75/subset_tab_3 pic 0.5 FALSE FALSE /tmp/tmpug5zlz_w/predicted_counts.txt /tmp/tmpug5zlz_w/predicted_ci.txt 100\n",
      "\n",
      "Rscript /home/lauro/anaconda3/envs/qiime2-2021.11/lib/python3.8/site-packages/picrust2/Rscripts/castor_hsp.R /tmp/tmptu34fqoc/picrust2_out/out.tre /tmp/tmp20usvk75/subset_tab_5 pic 0.5 FALSE FALSE /tmp/tmpm6ksuh7z/predicted_counts.txt /tmp/tmpm6ksuh7z/predicted_ci.txt 100\n",
      "\n",
      "Rscript /home/lauro/anaconda3/envs/qiime2-2021.11/lib/python3.8/site-packages/picrust2/Rscripts/castor_hsp.R /tmp/tmptu34fqoc/picrust2_out/out.tre /tmp/tmp20usvk75/subset_tab_2 pic 0.5 FALSE FALSE /tmp/tmpovm1iww1/predicted_counts.txt /tmp/tmpovm1iww1/predicted_ci.txt 100\n",
      "\n",
      "Rscript /home/lauro/anaconda3/envs/qiime2-2021.11/lib/python3.8/site-packages/picrust2/Rscripts/castor_hsp.R /tmp/tmptu34fqoc/picrust2_out/out.tre /tmp/tmp20usvk75/subset_tab_1 pic 0.5 FALSE FALSE /tmp/tmpq0s8cr81/predicted_counts.txt /tmp/tmpq0s8cr81/predicted_ci.txt 100\n",
      "\n",
      "Rscript /home/lauro/anaconda3/envs/qiime2-2021.11/lib/python3.8/site-packages/picrust2/Rscripts/castor_hsp.R /tmp/tmptu34fqoc/picrust2_out/out.tre /tmp/tmp20usvk75/subset_tab_4 pic 0.5 FALSE FALSE /tmp/tmpojz_didq/predicted_counts.txt /tmp/tmpojz_didq/predicted_ci.txt 100\n",
      "\n",
      "\n",
      "hsp.py --tree /tmp/tmptu34fqoc/picrust2_out/out.tre --output /tmp/tmptu34fqoc/picrust2_out/KO_predicted.tsv.gz --observed_trait_table /home/lauro/anaconda3/envs/qiime2-2021.11/lib/python3.8/site-packages/picrust2/default_files/prokaryotic/ko.txt.gz --hsp_method pic --edge_exponent 0.5 --seed 100 --processes 6 --verbose\n"
     ]
    },
    {
     "name": "stdout",
     "output_type": "stream",
     "text": [
      "\n",
      "\n",
      "\n",
      "\n",
      "\n",
      "\n",
      "\n",
      "\n",
      "\n",
      "\n",
      "\n",
      "\n",
      "\n",
      "\n",
      "\n",
      "\n",
      "\n",
      "\n",
      "\n",
      "\n",
      "\n",
      "\n",
      "\n"
     ]
    },
    {
     "name": "stderr",
     "output_type": "stream",
     "text": [
      "Rscript /home/lauro/anaconda3/envs/qiime2-2021.11/lib/python3.8/site-packages/picrust2/Rscripts/castor_hsp.R /tmp/tmptu34fqoc/picrust2_out/out.tre /tmp/tmphy7y7456/subset_tab_3 pic 0.5 FALSE FALSE /tmp/tmpcxbsydyz/predicted_counts.txt /tmp/tmpcxbsydyz/predicted_ci.txt 100\n",
      "\n",
      "Rscript /home/lauro/anaconda3/envs/qiime2-2021.11/lib/python3.8/site-packages/picrust2/Rscripts/castor_hsp.R /tmp/tmptu34fqoc/picrust2_out/out.tre /tmp/tmphy7y7456/subset_tab_11 pic 0.5 FALSE FALSE /tmp/tmp0vowweio/predicted_counts.txt /tmp/tmp0vowweio/predicted_ci.txt 100\n",
      "\n",
      "Rscript /home/lauro/anaconda3/envs/qiime2-2021.11/lib/python3.8/site-packages/picrust2/Rscripts/castor_hsp.R /tmp/tmptu34fqoc/picrust2_out/out.tre /tmp/tmphy7y7456/subset_tab_17 pic 0.5 FALSE FALSE /tmp/tmpj44qqbna/predicted_counts.txt /tmp/tmpj44qqbna/predicted_ci.txt 100\n",
      "\n",
      "Rscript /home/lauro/anaconda3/envs/qiime2-2021.11/lib/python3.8/site-packages/picrust2/Rscripts/castor_hsp.R /tmp/tmptu34fqoc/picrust2_out/out.tre /tmp/tmphy7y7456/subset_tab_5 pic 0.5 FALSE FALSE /tmp/tmpewyozdwm/predicted_counts.txt /tmp/tmpewyozdwm/predicted_ci.txt 100\n",
      "\n",
      "Rscript /home/lauro/anaconda3/envs/qiime2-2021.11/lib/python3.8/site-packages/picrust2/Rscripts/castor_hsp.R /tmp/tmptu34fqoc/picrust2_out/out.tre /tmp/tmphy7y7456/subset_tab_10 pic 0.5 FALSE FALSE /tmp/tmpb672nrgg/predicted_counts.txt /tmp/tmpb672nrgg/predicted_ci.txt 100\n",
      "\n",
      "Rscript /home/lauro/anaconda3/envs/qiime2-2021.11/lib/python3.8/site-packages/picrust2/Rscripts/castor_hsp.R /tmp/tmptu34fqoc/picrust2_out/out.tre /tmp/tmphy7y7456/subset_tab_15 pic 0.5 FALSE FALSE /tmp/tmppcf796fp/predicted_counts.txt /tmp/tmppcf796fp/predicted_ci.txt 100\n",
      "\n",
      "Rscript /home/lauro/anaconda3/envs/qiime2-2021.11/lib/python3.8/site-packages/picrust2/Rscripts/castor_hsp.R /tmp/tmptu34fqoc/picrust2_out/out.tre /tmp/tmphy7y7456/subset_tab_21 pic 0.5 FALSE FALSE /tmp/tmpuvzh2ap2/predicted_counts.txt /tmp/tmpuvzh2ap2/predicted_ci.txt 100\n",
      "\n",
      "Rscript /home/lauro/anaconda3/envs/qiime2-2021.11/lib/python3.8/site-packages/picrust2/Rscripts/castor_hsp.R /tmp/tmptu34fqoc/picrust2_out/out.tre /tmp/tmphy7y7456/subset_tab_4 pic 0.5 FALSE FALSE /tmp/tmp9cyxfe6t/predicted_counts.txt /tmp/tmp9cyxfe6t/predicted_ci.txt 100\n",
      "\n",
      "Rscript /home/lauro/anaconda3/envs/qiime2-2021.11/lib/python3.8/site-packages/picrust2/Rscripts/castor_hsp.R /tmp/tmptu34fqoc/picrust2_out/out.tre /tmp/tmphy7y7456/subset_tab_9 pic 0.5 FALSE FALSE /tmp/tmptj4s5uph/predicted_counts.txt /tmp/tmptj4s5uph/predicted_ci.txt 100\n",
      "\n",
      "Rscript /home/lauro/anaconda3/envs/qiime2-2021.11/lib/python3.8/site-packages/picrust2/Rscripts/castor_hsp.R /tmp/tmptu34fqoc/picrust2_out/out.tre /tmp/tmphy7y7456/subset_tab_16 pic 0.5 FALSE FALSE /tmp/tmpefh34xv0/predicted_counts.txt /tmp/tmpefh34xv0/predicted_ci.txt 100\n",
      "\n",
      "Rscript /home/lauro/anaconda3/envs/qiime2-2021.11/lib/python3.8/site-packages/picrust2/Rscripts/castor_hsp.R /tmp/tmptu34fqoc/picrust2_out/out.tre /tmp/tmphy7y7456/subset_tab_1 pic 0.5 FALSE FALSE /tmp/tmpplolfqn4/predicted_counts.txt /tmp/tmpplolfqn4/predicted_ci.txt 100\n",
      "\n",
      "Rscript /home/lauro/anaconda3/envs/qiime2-2021.11/lib/python3.8/site-packages/picrust2/Rscripts/castor_hsp.R /tmp/tmptu34fqoc/picrust2_out/out.tre /tmp/tmphy7y7456/subset_tab_6 pic 0.5 FALSE FALSE /tmp/tmpvmflcm3l/predicted_counts.txt /tmp/tmpvmflcm3l/predicted_ci.txt 100\n",
      "\n",
      "Rscript /home/lauro/anaconda3/envs/qiime2-2021.11/lib/python3.8/site-packages/picrust2/Rscripts/castor_hsp.R /tmp/tmptu34fqoc/picrust2_out/out.tre /tmp/tmphy7y7456/subset_tab_12 pic 0.5 FALSE FALSE /tmp/tmp76an9wp9/predicted_counts.txt /tmp/tmp76an9wp9/predicted_ci.txt 100\n",
      "\n",
      "Rscript /home/lauro/anaconda3/envs/qiime2-2021.11/lib/python3.8/site-packages/picrust2/Rscripts/castor_hsp.R /tmp/tmptu34fqoc/picrust2_out/out.tre /tmp/tmphy7y7456/subset_tab_18 pic 0.5 FALSE FALSE /tmp/tmpu4btuhcx/predicted_counts.txt /tmp/tmpu4btuhcx/predicted_ci.txt 100\n",
      "\n",
      "Rscript /home/lauro/anaconda3/envs/qiime2-2021.11/lib/python3.8/site-packages/picrust2/Rscripts/castor_hsp.R /tmp/tmptu34fqoc/picrust2_out/out.tre /tmp/tmphy7y7456/subset_tab_2 pic 0.5 FALSE FALSE /tmp/tmpn20xktwr/predicted_counts.txt /tmp/tmpn20xktwr/predicted_ci.txt 100\n",
      "\n",
      "Rscript /home/lauro/anaconda3/envs/qiime2-2021.11/lib/python3.8/site-packages/picrust2/Rscripts/castor_hsp.R /tmp/tmptu34fqoc/picrust2_out/out.tre /tmp/tmphy7y7456/subset_tab_7 pic 0.5 FALSE FALSE /tmp/tmpk_vyu4o2/predicted_counts.txt /tmp/tmpk_vyu4o2/predicted_ci.txt 100\n",
      "\n",
      "Rscript /home/lauro/anaconda3/envs/qiime2-2021.11/lib/python3.8/site-packages/picrust2/Rscripts/castor_hsp.R /tmp/tmptu34fqoc/picrust2_out/out.tre /tmp/tmphy7y7456/subset_tab_14 pic 0.5 FALSE FALSE /tmp/tmpirpt3n1c/predicted_counts.txt /tmp/tmpirpt3n1c/predicted_ci.txt 100\n",
      "\n",
      "Rscript /home/lauro/anaconda3/envs/qiime2-2021.11/lib/python3.8/site-packages/picrust2/Rscripts/castor_hsp.R /tmp/tmptu34fqoc/picrust2_out/out.tre /tmp/tmphy7y7456/subset_tab_19 pic 0.5 FALSE FALSE /tmp/tmppdby_y44/predicted_counts.txt /tmp/tmppdby_y44/predicted_ci.txt 100\n",
      "\n",
      "Rscript /home/lauro/anaconda3/envs/qiime2-2021.11/lib/python3.8/site-packages/picrust2/Rscripts/castor_hsp.R /tmp/tmptu34fqoc/picrust2_out/out.tre /tmp/tmphy7y7456/subset_tab_0 pic 0.5 FALSE FALSE /tmp/tmpnq_fku8d/predicted_counts.txt /tmp/tmpnq_fku8d/predicted_ci.txt 100\n",
      "\n",
      "Rscript /home/lauro/anaconda3/envs/qiime2-2021.11/lib/python3.8/site-packages/picrust2/Rscripts/castor_hsp.R /tmp/tmptu34fqoc/picrust2_out/out.tre /tmp/tmphy7y7456/subset_tab_8 pic 0.5 FALSE FALSE /tmp/tmpwl_vl68q/predicted_counts.txt /tmp/tmpwl_vl68q/predicted_ci.txt 100\n",
      "\n",
      "Rscript /home/lauro/anaconda3/envs/qiime2-2021.11/lib/python3.8/site-packages/picrust2/Rscripts/castor_hsp.R /tmp/tmptu34fqoc/picrust2_out/out.tre /tmp/tmphy7y7456/subset_tab_13 pic 0.5 FALSE FALSE /tmp/tmpx_3ao5i3/predicted_counts.txt /tmp/tmpx_3ao5i3/predicted_ci.txt 100\n",
      "\n",
      "Rscript /home/lauro/anaconda3/envs/qiime2-2021.11/lib/python3.8/site-packages/picrust2/Rscripts/castor_hsp.R /tmp/tmptu34fqoc/picrust2_out/out.tre /tmp/tmphy7y7456/subset_tab_20 pic 0.5 FALSE FALSE /tmp/tmppsmlyy_b/predicted_counts.txt /tmp/tmppsmlyy_b/predicted_ci.txt 100\n",
      "\n",
      "\n",
      "Running metagenome pipeline for EC\n",
      "metagenome_pipeline.py --input /tmp/tmptu34fqoc/intable.biom --function /tmp/tmptu34fqoc/picrust2_out/EC_predicted.tsv.gz --min_reads 1 --min_samples 1 --out_dir /tmp/tmptu34fqoc/picrust2_out/EC_metagenome_out --max_nsti 2 --marker /tmp/tmptu34fqoc/picrust2_out/marker_predicted_and_nsti.tsv.gz\n"
     ]
    },
    {
     "name": "stdout",
     "output_type": "stream",
     "text": [
      "\n"
     ]
    },
    {
     "name": "stderr",
     "output_type": "stream",
     "text": [
      "1 of 1262 ASVs were above the max NSTI cut-off of 2.0 and were removed from the downstream analyses.\n",
      "\n",
      "Running metagenome pipeline for KO\n",
      "metagenome_pipeline.py --input /tmp/tmptu34fqoc/intable.biom --function /tmp/tmptu34fqoc/picrust2_out/KO_predicted.tsv.gz --min_reads 1 --min_samples 1 --out_dir /tmp/tmptu34fqoc/picrust2_out/KO_metagenome_out --max_nsti 2 --marker /tmp/tmptu34fqoc/picrust2_out/marker_predicted_and_nsti.tsv.gz\n"
     ]
    },
    {
     "name": "stdout",
     "output_type": "stream",
     "text": [
      "\n",
      "Inferring pathways from predicted EC\n"
     ]
    },
    {
     "name": "stderr",
     "output_type": "stream",
     "text": [
      "1 of 1262 ASVs were above the max NSTI cut-off of 2.0 and were removed from the downstream analyses.\n",
      "\n",
      "pathway_pipeline.py --input /tmp/tmptu34fqoc/picrust2_out/EC_metagenome_out/pred_metagenome_unstrat.tsv.gz --out_dir /tmp/tmptu34fqoc/picrust2_out/pathways_out --map /home/lauro/anaconda3/envs/qiime2-2021.11/lib/python3.8/site-packages/picrust2/default_files/pathway_mapfiles/metacyc_path2rxn_struc_filt_pro.txt --intermediate /tmp/tmptu34fqoc/picrust2_out/intermediate/pathways --proc 6 --regroup_map /home/lauro/anaconda3/envs/qiime2-2021.11/lib/python3.8/site-packages/picrust2/default_files/pathway_mapfiles/ec_level4_to_metacyc_rxn.tsv --verbose\n"
     ]
    },
    {
     "name": "stderr",
     "output_type": "stream",
     "text": [
      "\n",
      "Wrote predicted pathway abundances and coverages to /tmp/tmptu34fqoc/picrust2_out/pathways_out\n"
     ]
    }
   ],
   "source": [
    "need_pipeline = replace_files\n",
    "need_pipeline |= not (os.path.isfile(ec_path) and os.path.isfile(ko_path) and os.path.isfile(pathway_path))\n",
    "if need_pipeline:\n",
    "    results = picrust2.methods.full_pipeline(\n",
    "        table=tabs, \n",
    "        seq=seqs, \n",
    "        threads=6, \n",
    "        placement_tool='sepp',\n",
    "        hsp_method='pic', \n",
    "        max_nsti=2,\n",
    "        highly_verbose=True\n",
    "    )\n",
    "    ec_metagenome = results.ec_metagenome\n",
    "    ko_metagenome = results.ko_metagenome\n",
    "    pathway_abundance = results.pathway_abundance\n",
    "else:\n",
    "    ec_metagenome = Artifact.load(ec_path)\n",
    "    ko_metagenome = Artifact.load(ko_path)\n",
    "    pathway_abundance = Artifact.load(pathway_path)"
   ]
  },
  {
   "cell_type": "markdown",
   "id": "771308c4",
   "metadata": {
    "papermill": {
     "duration": 0.056285,
     "end_time": "2023-09-04T18:24:03.588233",
     "exception": false,
     "start_time": "2023-09-04T18:24:03.531948",
     "status": "completed"
    },
    "tags": []
   },
   "source": [
    "### Persist created artifacts\n",
    "\n",
    "We will define file paths and persist all artifacts. We start with `.qza` files. We will save the visualization files in sequence as `qzv` files. Finally, we save a `biom`-like file as `tsv` with brief descriptions of all functions."
   ]
  },
  {
   "cell_type": "code",
   "execution_count": 10,
   "id": "c680ab46",
   "metadata": {
    "ExecuteTime": {
     "end_time": "2022-11-09T19:20:47.646444Z",
     "start_time": "2022-11-09T19:20:47.643806Z"
    },
    "execution": {
     "iopub.execute_input": "2023-09-04T18:24:03.771770Z",
     "iopub.status.busy": "2023-09-04T18:24:03.769825Z",
     "iopub.status.idle": "2023-09-04T18:24:03.895415Z",
     "shell.execute_reply": "2023-09-04T18:24:03.894947Z"
    },
    "papermill": {
     "duration": 0.222617,
     "end_time": "2023-09-04T18:24:03.895534",
     "exception": false,
     "start_time": "2023-09-04T18:24:03.672917",
     "status": "completed"
    },
    "tags": []
   },
   "outputs": [],
   "source": [
    "if need_pipeline:\n",
    "    # Export artifact folder\n",
    "    ec_metagenome.export_data(output_dir=ec_path.split('.')[0])\n",
    "    ko_metagenome.export_data(output_dir=ko_path.split('.')[0])\n",
    "    pathway_abundance.export_data(output_dir=pathway_path.split('.')[0])\n",
    "    \n",
    "    # Save artifacts as .qza files\n",
    "    ec_metagenome.save(ec_path)\n",
    "    ko_metagenome.save(ko_path)\n",
    "    pathway_abundance.save(pathway_path)"
   ]
  },
  {
   "cell_type": "code",
   "execution_count": 11,
   "id": "d61ebec3",
   "metadata": {
    "ExecuteTime": {
     "end_time": "2022-11-09T19:20:47.687022Z",
     "start_time": "2022-11-09T19:20:47.647637Z"
    },
    "execution": {
     "iopub.execute_input": "2023-09-04T18:24:03.986523Z",
     "iopub.status.busy": "2023-09-04T18:24:03.985692Z",
     "iopub.status.idle": "2023-09-04T18:24:08.674515Z",
     "shell.execute_reply": "2023-09-04T18:24:08.675069Z"
    },
    "papermill": {
     "duration": 4.736113,
     "end_time": "2023-09-04T18:24:08.675264",
     "exception": false,
     "start_time": "2023-09-04T18:24:03.939151",
     "status": "completed"
    },
    "tags": []
   },
   "outputs": [],
   "source": [
    "need_viz = replace_files\n",
    "need_viz |= not (os.path.isfile(ec_viz_path) and os.path.isfile(ko_viz_path) and os.path.isfile(pathway_viz_path))\n",
    "if need_viz:\n",
    "    # Create visualization artifacts\n",
    "    ec_viz = summarize(table=ec_metagenome, sample_metadata=metadata_qa).visualization\n",
    "    ko_viz = summarize(table=ko_metagenome, sample_metadata=metadata_qa).visualization\n",
    "    path_viz = summarize(table=pathway_abundance, sample_metadata=metadata_qa).visualization\n",
    "\n",
    "    # Save visualization artifacts as .qzv files\n",
    "    ec_viz.save(ec_viz_path)\n",
    "    ko_viz.save(ko_viz_path)\n",
    "    path_viz.save(pathway_viz_path)"
   ]
  },
  {
   "cell_type": "code",
   "execution_count": 12,
   "id": "57f1f4d8",
   "metadata": {
    "ExecuteTime": {
     "end_time": "2022-11-09T19:20:47.704885Z",
     "start_time": "2022-11-09T19:20:47.689312Z"
    },
    "execution": {
     "iopub.execute_input": "2023-09-04T18:24:08.773019Z",
     "iopub.status.busy": "2023-09-04T18:24:08.772450Z",
     "iopub.status.idle": "2023-09-04T18:24:11.845820Z",
     "shell.execute_reply": "2023-09-04T18:24:11.846722Z"
    },
    "papermill": {
     "duration": 3.127605,
     "end_time": "2023-09-04T18:24:11.847001",
     "exception": false,
     "start_time": "2023-09-04T18:24:08.719396",
     "status": "completed"
    },
    "tags": []
   },
   "outputs": [],
   "source": [
    "need_biom = replace_files\n",
    "need_biom |= not (os.path.isfile(ec_fpath) and os.path.isfile(ko_fpath) and os.path.isfile(pathway_fpath))\n",
    "if need_biom:\n",
    "    # Convert artifact to dataframe - transposed\n",
    "    df_pathway = pathway_abundance.view(pd.DataFrame).T\n",
    "    df_ec = ec_metagenome.view(pd.DataFrame).T\n",
    "    df_ko = ko_metagenome.view(pd.DataFrame).T\n",
    "\n",
    "    # Write dataframe to a tsv file\n",
    "    df_pathway.to_csv(pathway_fpath, sep='\\t', index=True)\n",
    "    df_ec.to_csv(ec_fpath, sep='\\t', index=True)\n",
    "    df_ko.to_csv(ko_fpath, sep='\\t', index=True)\n",
    "    \n",
    "    # Put a new column with descriptions of each function's ID\n",
    "    !add_descriptions.py -i {ec_fpath} -m EC -o {ec_desc_fpath}\n",
    "    !add_descriptions.py -i {ko_fpath} -m KO -o {ko_desc_fpath}\n",
    "    !add_descriptions.py -i {pathway_fpath} -m METACYC -o {pathway_desc_fpath}"
   ]
  }
 ],
 "metadata": {
  "celltoolbar": "Edit Metadata",
  "kernelspec": {
   "display_name": "Python 3 (ipykernel)",
   "language": "python",
   "name": "python3"
  },
  "language_info": {
   "codemirror_mode": {
    "name": "ipython",
    "version": 3
   },
   "file_extension": ".py",
   "mimetype": "text/x-python",
   "name": "python",
   "nbconvert_exporter": "python",
   "pygments_lexer": "ipython3",
   "version": "3.8.12"
  },
  "papermill": {
   "default_parameters": {},
   "duration": 498.692086,
   "end_time": "2023-09-04T18:24:13.112609",
   "environment_variables": {},
   "exception": null,
   "input_path": "nb-templates/step-picrust2-analysis.ipynb",
   "output_path": "/home/lauro/nupeb/rede-micro/redemicro-ana-flavia-nutri/experiments/ana-flavia-STD-NCxSTD-NR-trim/nb-executed-steps/step-picrust2-analysis-ana-flavia-STD-NCxSTD-NR-trim.ipynb",
   "parameters": {
    "base_dir": "/home/lauro/nupeb/rede-micro/redemicro-ana-flavia-nutri",
    "class_col": "group-id",
    "classifier_file": "/home/lauro/nupeb/rede-micro/models/silva-138-99-nb-classifier.qza",
    "experiment_name": "ana-flavia-STD-NCxSTD-NR-trim",
    "manifest_file": "/home/lauro/nupeb/rede-micro/redemicro-ana-flavia-nutri/data/raw/manifest/manifest-ana-flavia-STD-NCxSTD-NR.csv",
    "metadata_file": "/home/lauro/nupeb/rede-micro/redemicro-ana-flavia-nutri/data/raw/metadata/metadata-ana-flavia-STD-NCxSTD-NR.tsv",
    "overlap": 12,
    "phred": 20,
    "replace_files": false,
    "threads": 6,
    "top_n": 20,
    "trim": {
     "forward_primer": "CCTACGGGRSGCAGCAG",
     "overlap": 8,
     "reverse_primer": "GGACTACHVGGGTWTCTAAT"
    },
    "trunc_f": 0,
    "trunc_r": 0
   },
   "start_time": "2023-09-04T18:15:54.420523",
   "version": "2.3.4"
  }
 },
 "nbformat": 4,
 "nbformat_minor": 5
}