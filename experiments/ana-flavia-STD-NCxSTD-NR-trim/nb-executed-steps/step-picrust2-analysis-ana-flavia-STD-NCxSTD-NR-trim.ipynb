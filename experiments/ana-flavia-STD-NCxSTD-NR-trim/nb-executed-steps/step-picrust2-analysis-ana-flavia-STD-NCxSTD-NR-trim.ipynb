{
 "cells": [
  {
   "cell_type": "markdown",
   "id": "0e7f2330",
   "metadata": {
    "ExecuteTime": {
     "end_time": "2022-09-22T19:36:33.828188Z",
     "start_time": "2022-09-22T19:36:33.817323Z"
    },
    "papermill": {
     "duration": 0.049928,
     "end_time": "2023-06-07T15:10:42.479935",
     "exception": false,
     "start_time": "2023-06-07T15:10:42.430007",
     "status": "completed"
    },
    "tags": []
   },
   "source": [
    "### STEP : PICRUST2 Analysis\n",
    "\n",
    "\n",
    "\n",
    "#### Example\n",
    "\n",
    "- [PICRUST2 tutorial](https://github.com/picrust/picrust2/wiki/q2-picrust2-Tutorial)\n",
    "- [Limitations](https://github.com/picrust/picrust2/wiki/Key-Limitations)\n",
    "\n",
    "\n",
    "#### Methods\n",
    "- [composition](https://docs.qiime2.org/2022.8/plugins/available/composition/)"
   ]
  },
  {
   "cell_type": "markdown",
   "id": "843debbf",
   "metadata": {
    "papermill": {
     "duration": 0.053968,
     "end_time": "2023-06-07T15:10:42.594442",
     "exception": false,
     "start_time": "2023-06-07T15:10:42.540474",
     "status": "completed"
    },
    "tags": []
   },
   "source": [
    "## Setup and settings"
   ]
  },
  {
   "cell_type": "code",
   "execution_count": 1,
   "id": "965e28e5",
   "metadata": {
    "ExecuteTime": {
     "end_time": "2022-11-09T19:20:47.478806Z",
     "start_time": "2022-11-09T19:20:40.457657Z"
    },
    "execution": {
     "iopub.execute_input": "2023-06-07T15:10:42.740037Z",
     "iopub.status.busy": "2023-06-07T15:10:42.738919Z",
     "iopub.status.idle": "2023-06-07T15:10:50.048415Z",
     "shell.execute_reply": "2023-06-07T15:10:50.047274Z"
    },
    "papermill": {
     "duration": 7.384494,
     "end_time": "2023-06-07T15:10:50.048663",
     "exception": false,
     "start_time": "2023-06-07T15:10:42.664169",
     "status": "completed"
    },
    "tags": []
   },
   "outputs": [],
   "source": [
    "# Importing packages\n",
    "import os\n",
    "import biom\n",
    "import pandas as pd\n",
    "from qiime2 import Artifact\n",
    "from qiime2 import Visualization\n",
    "from qiime2 import Metadata\n",
    "\n",
    "from qiime2.plugins.feature_table.visualizers import summarize\n",
    "\n",
    "from picrust2.pipeline import full_pipeline\n",
    "from picrust2.default import (default_ref_dir, default_tables, default_regroup_map, default_pathway_map)\n",
    "from qiime2.plugins import picrust2\n",
    "\n",
    "%matplotlib inline"
   ]
  },
  {
   "cell_type": "markdown",
   "id": "530ceb60",
   "metadata": {
    "papermill": {
     "duration": 0.028358,
     "end_time": "2023-06-07T15:10:50.111838",
     "exception": false,
     "start_time": "2023-06-07T15:10:50.083480",
     "status": "completed"
    },
    "tags": []
   },
   "source": [
    "### Receiving the parameters\n",
    "\n",
    "The following cell can receive parameters using the [papermill](https://papermill.readthedocs.io/en/latest/) tool."
   ]
  },
  {
   "cell_type": "code",
   "execution_count": 2,
   "id": "18d874ea",
   "metadata": {
    "ExecuteTime": {
     "end_time": "2022-11-09T19:20:47.483140Z",
     "start_time": "2022-11-09T19:20:47.480386Z"
    },
    "execution": {
     "iopub.execute_input": "2023-06-07T15:10:50.174384Z",
     "iopub.status.busy": "2023-06-07T15:10:50.173841Z",
     "iopub.status.idle": "2023-06-07T15:10:50.177131Z",
     "shell.execute_reply": "2023-06-07T15:10:50.176710Z"
    },
    "papermill": {
     "duration": 0.036901,
     "end_time": "2023-06-07T15:10:50.177232",
     "exception": false,
     "start_time": "2023-06-07T15:10:50.140331",
     "status": "completed"
    },
    "tags": [
     "parameters"
    ]
   },
   "outputs": [],
   "source": [
    "metadata_file = '/home/lauro/nupeb/rede-micro/redemicro-miliane-nutri/data/raw/metadata/miliane-metadata-CxAC.tsv'\n",
    "base_dir = os.path.join('/', 'home', 'lauro', 'nupeb', 'rede-micro', 'redemicro-miliane-nutri')\n",
    "experiment_name = 'miliane-CxAC-trim'\n",
    "class_col = 'group-id'\n",
    "replace_files = False"
   ]
  },
  {
   "cell_type": "code",
   "execution_count": 3,
   "id": "6b585fce",
   "metadata": {
    "execution": {
     "iopub.execute_input": "2023-06-07T15:10:50.242376Z",
     "iopub.status.busy": "2023-06-07T15:10:50.241877Z",
     "iopub.status.idle": "2023-06-07T15:10:50.244773Z",
     "shell.execute_reply": "2023-06-07T15:10:50.245144Z"
    },
    "papermill": {
     "duration": 0.037707,
     "end_time": "2023-06-07T15:10:50.245254",
     "exception": false,
     "start_time": "2023-06-07T15:10:50.207547",
     "status": "completed"
    },
    "tags": [
     "injected-parameters"
    ]
   },
   "outputs": [],
   "source": [
    "# Parameters\n",
    "experiment_name = \"ana-flavia-STD-NCxSTD-NR-trim\"\n",
    "base_dir = \"/home/lauro/nupeb/rede-micro/redemicro-ana-flavia-nutri\"\n",
    "manifest_file = \"/home/lauro/nupeb/rede-micro/redemicro-ana-flavia-nutri/data/raw/manifest/manifest-ana-flavia-STD-NCxSTD-NR.csv\"\n",
    "metadata_file = \"/home/lauro/nupeb/rede-micro/redemicro-ana-flavia-nutri/data/raw/metadata/metadata-ana-flavia-STD-NCxSTD-NR.tsv\"\n",
    "class_col = \"group-id\"\n",
    "classifier_file = \"/home/lauro/nupeb/rede-micro/models/silva-138-99-nb-classifier.qza\"\n",
    "top_n = 20\n",
    "replace_files = False\n",
    "phred = 20\n",
    "trunc_f = 0\n",
    "trunc_r = 0\n",
    "overlap = 12\n",
    "threads = 6\n",
    "trim = {\n",
    "    \"overlap\": 8,\n",
    "    \"forward_primer\": \"CCTACGGGRSGCAGCAG\",\n",
    "    \"reverse_primer\": \"GGACTACHVGGGTWTCTAAT\",\n",
    "}\n"
   ]
  },
  {
   "cell_type": "code",
   "execution_count": 4,
   "id": "f38617d9",
   "metadata": {
    "ExecuteTime": {
     "end_time": "2022-11-09T19:20:47.515942Z",
     "start_time": "2022-11-09T19:20:47.498345Z"
    },
    "execution": {
     "iopub.execute_input": "2023-06-07T15:10:50.367303Z",
     "iopub.status.busy": "2023-06-07T15:10:50.366799Z",
     "iopub.status.idle": "2023-06-07T15:10:50.369781Z",
     "shell.execute_reply": "2023-06-07T15:10:50.369281Z"
    },
    "papermill": {
     "duration": 0.043965,
     "end_time": "2023-06-07T15:10:50.369878",
     "exception": false,
     "start_time": "2023-06-07T15:10:50.325913",
     "status": "completed"
    },
    "tags": []
   },
   "outputs": [],
   "source": [
    "experiment_folder = os.path.abspath(os.path.join(base_dir, 'experiments', experiment_name))\n",
    "img_folder = os.path.abspath(os.path.join(experiment_folder, 'imgs'))"
   ]
  },
  {
   "cell_type": "markdown",
   "id": "ea9b90fb",
   "metadata": {
    "papermill": {
     "duration": 0.028445,
     "end_time": "2023-06-07T15:10:50.428114",
     "exception": false,
     "start_time": "2023-06-07T15:10:50.399669",
     "status": "completed"
    },
    "tags": []
   },
   "source": [
    "### Defining names, paths and flags"
   ]
  },
  {
   "cell_type": "code",
   "execution_count": 5,
   "id": "45727eef",
   "metadata": {
    "ExecuteTime": {
     "end_time": "2022-11-09T19:20:47.527937Z",
     "start_time": "2022-11-09T19:20:47.517696Z"
    },
    "execution": {
     "iopub.execute_input": "2023-06-07T15:10:50.521764Z",
     "iopub.status.busy": "2023-06-07T15:10:50.521218Z",
     "iopub.status.idle": "2023-06-07T15:10:50.525598Z",
     "shell.execute_reply": "2023-06-07T15:10:50.526037Z"
    },
    "papermill": {
     "duration": 0.069775,
     "end_time": "2023-06-07T15:10:50.526159",
     "exception": false,
     "start_time": "2023-06-07T15:10:50.456384",
     "status": "completed"
    },
    "tags": []
   },
   "outputs": [
    {
     "name": "stdout",
     "output_type": "stream",
     "text": [
      "New picrust2-artifacts folder path created: /home/lauro/nupeb/rede-micro/redemicro-ana-flavia-nutri/experiments/ana-flavia-STD-NCxSTD-NR-trim/picrust2\n"
     ]
    }
   ],
   "source": [
    "# QIIME2 Artifacts folder\n",
    "qiime_folder = os.path.join(experiment_folder, 'qiime-artifacts')\n",
    "\n",
    "# Input - DADA2 Artifacts\n",
    "dada2_tabs_path = os.path.join(qiime_folder, 'dada2-tabs.qza')\n",
    "dada2_reqs_path = os.path.join(qiime_folder, 'dada2-reps.qza')\n",
    "\n",
    "# PICRUST@ folder\n",
    "picrust2_folder = os.path.abspath(os.path.join(experiment_folder, 'picrust2'))\n",
    "\n",
    "# Create path if it not exist\n",
    "if not os.path.isdir(picrust2_folder):\n",
    "    os.makedirs(picrust2_folder)\n",
    "    print(f'New picrust2-artifacts folder path created: {picrust2_folder}')"
   ]
  },
  {
   "cell_type": "code",
   "execution_count": 6,
   "id": "4903e645",
   "metadata": {
    "ExecuteTime": {
     "end_time": "2022-11-09T19:20:47.539993Z",
     "start_time": "2022-11-09T19:20:47.529653Z"
    },
    "execution": {
     "iopub.execute_input": "2023-06-07T15:10:50.594743Z",
     "iopub.status.busy": "2023-06-07T15:10:50.594187Z",
     "iopub.status.idle": "2023-06-07T15:10:50.597184Z",
     "shell.execute_reply": "2023-06-07T15:10:50.596642Z"
    },
    "papermill": {
     "duration": 0.040427,
     "end_time": "2023-06-07T15:10:50.597288",
     "exception": false,
     "start_time": "2023-06-07T15:10:50.556861",
     "status": "completed"
    },
    "tags": []
   },
   "outputs": [],
   "source": [
    "# Define paths for metagenome function artifacts\n",
    "ec_path = os.path.join(picrust2_folder, 'ec-pred-metagen.qza')\n",
    "ko_path = os.path.join(picrust2_folder, 'ko-pred-metagen.qza')\n",
    "pathway_path = os.path.join(picrust2_folder, 'pathway-abundance.qza')\n",
    "\n",
    "# Define paths for metagenome function visualization artifacts\n",
    "ec_viz_path = ec_path[:-1]+'v'\n",
    "ko_viz_path = ko_path[:-1]+'v'\n",
    "pathway_viz_path = pathway_path[:-1]+'v'\n",
    "\n",
    "# Define paths for biom -> tsv files (function X sample)\n",
    "pathway_fpath = os.path.join(picrust2_folder, 'pathway.tsv')\n",
    "ec_fpath = os.path.join(picrust2_folder, 'ec.tsv')\n",
    "ko_fpath = os.path.join(picrust2_folder, 'ko.tsv')\n",
    "\n",
    "# Define paths for biom -> tsv files (function X sample) - with descriptions\n",
    "pathway_desc_fpath = os.path.join(picrust2_folder, 'pathway-desc.tsv')\n",
    "ec_desc_fpath = os.path.join(picrust2_folder, 'ec-desc.tsv')\n",
    "ko_desc_fpath = os.path.join(picrust2_folder, 'ko-desc.tsv')"
   ]
  },
  {
   "cell_type": "markdown",
   "id": "0999a1b2",
   "metadata": {
    "papermill": {
     "duration": 0.028528,
     "end_time": "2023-06-07T15:10:50.655407",
     "exception": false,
     "start_time": "2023-06-07T15:10:50.626879",
     "status": "completed"
    },
    "tags": []
   },
   "source": [
    "## Step execution\n",
    "\n",
    "### Load input files\n",
    "\n",
    "This Step import the QIIME2 `FeatureTable[Frequency]` Artifact and the `Metadata` file."
   ]
  },
  {
   "cell_type": "code",
   "execution_count": 7,
   "id": "8f299d1a",
   "metadata": {
    "ExecuteTime": {
     "end_time": "2022-11-09T19:20:47.610793Z",
     "start_time": "2022-11-09T19:20:47.541540Z"
    },
    "execution": {
     "iopub.execute_input": "2023-06-07T15:10:50.717936Z",
     "iopub.status.busy": "2023-06-07T15:10:50.717426Z",
     "iopub.status.idle": "2023-06-07T15:10:50.745861Z",
     "shell.execute_reply": "2023-06-07T15:10:50.745174Z"
    },
    "papermill": {
     "duration": 0.061678,
     "end_time": "2023-06-07T15:10:50.746000",
     "exception": false,
     "start_time": "2023-06-07T15:10:50.684322",
     "status": "completed"
    },
    "tags": []
   },
   "outputs": [],
   "source": [
    "#Load Metadata\n",
    "metadata_qa = Metadata.load(metadata_file)\n",
    "\n",
    "#Load FeatureTable[Frequency]\n",
    "tabs = Artifact.load(dada2_tabs_path)\n",
    "\n",
    "#Load FeatureTable[Sequence]\n",
    "seqs = Artifact.load(dada2_reqs_path)"
   ]
  },
  {
   "cell_type": "markdown",
   "id": "4f1b06d4",
   "metadata": {
    "papermill": {
     "duration": 0.029456,
     "end_time": "2023-06-07T15:10:50.808778",
     "exception": false,
     "start_time": "2023-06-07T15:10:50.779322",
     "status": "completed"
    },
    "tags": []
   },
   "source": [
    "### Execute full pipelie\n",
    "\n",
    "The entire PICRUSt2 pipeline will be run using a single method, called `picrust2.methods.full_pipeline`. This method will run each of the 4 key steps: \n",
    "\n",
    "1. sequence placement\n",
    "2. hidden-state prediction of genomes\n",
    "3. metagenome prediction\n",
    "4. pathway-level predictions.\n",
    "\n",
    "More information on [Documentation](https://github.com/picrust/picrust2/wiki/Full-pipeline-script)."
   ]
  },
  {
   "cell_type": "code",
   "execution_count": 8,
   "id": "2c4f3874",
   "metadata": {
    "ExecuteTime": {
     "end_time": "2022-11-09T19:20:47.642417Z",
     "start_time": "2022-11-09T19:20:47.612547Z"
    },
    "execution": {
     "iopub.execute_input": "2023-06-07T15:10:50.874414Z",
     "iopub.status.busy": "2023-06-07T15:10:50.873887Z",
     "iopub.status.idle": "2023-06-07T15:18:44.947813Z",
     "shell.execute_reply": "2023-06-07T15:18:44.948747Z"
    },
    "papermill": {
     "duration": 474.110884,
     "end_time": "2023-06-07T15:18:44.949027",
     "exception": false,
     "start_time": "2023-06-07T15:10:50.838143",
     "status": "completed"
    },
    "scrolled": true,
    "tags": []
   },
   "outputs": [
    {
     "name": "stderr",
     "output_type": "stream",
     "text": [
      "1252 of 1252 sequence ids overlap between input table and FASTA.\n",
      "\n",
      "Placing sequences onto reference tree\n",
      "place_seqs.py --study_fasta /tmp/tmphunbq5jc/seqs.fna --ref_dir /home/lauro/anaconda3/envs/qiime2-2021.11/lib/python3.8/site-packages/picrust2/default_files/prokaryotic/pro_ref --out_tree /tmp/tmphunbq5jc/picrust2_out/out.tre --processes 6 --intermediate /tmp/tmphunbq5jc/picrust2_out/intermediate/place_seqs --min_align 0.8 --chunk_size 5000 --placement_tool sepp --verbose\n"
     ]
    },
    {
     "name": "stdout",
     "output_type": "stream",
     "text": [
      "\n",
      "['run_sepp.py', '--tree', '/home/lauro/anaconda3/envs/qiime2-2021.11/lib/python3.8/site-packages/picrust2/default_files/prokaryotic/pro_ref/pro_ref.tre', '--raxml', '/home/lauro/anaconda3/envs/qiime2-2021.11/lib/python3.8/site-packages/picrust2/default_files/prokaryotic/pro_ref/pro_ref.raxml_info', '--cpu', '6', '--molecule', 'dna', '--outdir', '/tmp/tmphunbq5jc/picrust2_out/intermediate/place_seqs/sepp_out', '-seed', '297834', '--alignment', '/home/lauro/anaconda3/envs/qiime2-2021.11/lib/python3.8/site-packages/picrust2/default_files/prokaryotic/pro_ref/pro_ref.fna', '--fragment', '/tmp/tmphunbq5jc/picrust2_out/intermediate/place_seqs/study_seqs_filtered.fasta']\n",
      "\n",
      "                                              ....      ....  \n",
      "                                             '' '||.   .||'   \n",
      "                                                  ||  ||      \n",
      "                                                  '|.|'       \n",
      "     ...'   ....   ... ...  ... ...   ....        .|'|.       \n",
      "    |  ||  '' .||   ||'  ||  ||'  || '' .||      .|'  ||      \n",
      "     |''   .|' ||   ||    |  ||    | .|' ||     .|'|.  ||     \n",
      "    '....  '|..'|'. ||...'   ||...'  '|..'|.    '||'    ||:.  \n",
      "    '....'          ||       ||                               \n",
      "                   ''''     ''''   v0.6.1 (c) 2017-2020\n",
      "                                   by Lucas Czech and Pierre Barbera\n",
      "\n",
      "Invocation:                        gappa examine graft --jplace-path /tmp/tmphunbq5jc/picrust2_out/intermediate/place_seqs/sepp_out/output_placement.json --fully-resolve --out-dir /tmp/tmphunbq5jc/picrust2_out/intermediate/place_seqs/sepp_out\n",
      "Command:                           gappa examine graft\n",
      "\n",
      "Input:\n",
      "  --jplace-path                    /tmp/tmphunbq5jc/picrust2_out/intermediate/place_seqs/sepp_out/output_placement.json\n",
      "\n",
      "Settings:\n",
      "  --fully-resolve                  true\n",
      "  --name-prefix\n",
      "\n",
      "Output:\n",
      "  --out-dir                        /tmp/tmphunbq5jc/picrust2_out/intermediate/place_seqs/sepp_out\n",
      "  --file-prefix                    \n",
      "  --file-suffix\n",
      "\n",
      "Global Options:\n",
      "  --allow-file-overwriting         false\n",
      "  --verbose                        false\n",
      "  --threads                        4\n",
      "  --log-file\n",
      "\n",
      "Run the following command to get the references that need to be cited:\n",
      "`gappa tools citation Czech2020-genesis-and-gappa`\n",
      "\n",
      "Started 2023-06-07 15:14:35\n",
      "\n",
      "Found 1 jplace file\n",
      "\n",
      "Finished 2023-06-07 15:14:35\n",
      "\n",
      "\n"
     ]
    },
    {
     "name": "stderr",
     "output_type": "stream",
     "text": [
      "hmmalign --trim --dna --mapali /home/lauro/anaconda3/envs/qiime2-2021.11/lib/python3.8/site-packages/picrust2/default_files/prokaryotic/pro_ref/pro_ref.fna --informat FASTA -o /tmp/tmphunbq5jc/picrust2_out/intermediate/place_seqs/query_align.stockholm /home/lauro/anaconda3/envs/qiime2-2021.11/lib/python3.8/site-packages/picrust2/default_files/prokaryotic/pro_ref/pro_ref.hmm /tmp/tmphunbq5jc/seqs.fna\n",
      "\n",
      "Warning - 3 input sequences aligned poorly to reference sequences (--min_align option specified a minimum proportion of 0.8 aligning to reference sequences). These input sequences will not be placed and will be excluded from downstream steps.\n",
      "\n",
      "This is the set of poorly aligned input sequences to be excluded: 2f93c747e48e2a77075225b4f420cacc, 0351a9e9c325faa949b54108f611f8fc, 3295734e2436b08a302c83b4ebec6d28\n",
      "\n",
      "Raw input sequences ranged in length from 271 to 430\n",
      "\n",
      "run_sepp.py --tree /home/lauro/anaconda3/envs/qiime2-2021.11/lib/python3.8/site-packages/picrust2/default_files/prokaryotic/pro_ref/pro_ref.tre --raxml /home/lauro/anaconda3/envs/qiime2-2021.11/lib/python3.8/site-packages/picrust2/default_files/prokaryotic/pro_ref/pro_ref.raxml_info --cpu 6 --molecule dna --outdir /tmp/tmphunbq5jc/picrust2_out/intermediate/place_seqs/sepp_out -seed 297834 --alignment /home/lauro/anaconda3/envs/qiime2-2021.11/lib/python3.8/site-packages/picrust2/default_files/prokaryotic/pro_ref/pro_ref.fna --fragment /tmp/tmphunbq5jc/picrust2_out/intermediate/place_seqs/study_seqs_filtered.fasta\n",
      "[15:11:42] config.py (line 349):     INFO: Seed number: 297834\n",
      "[15:11:42] algorithm.py (line 258):     INFO: Reading input alignment: <_io.TextIOWrapper name='/home/lauro/anaconda3/envs/qiime2-2021.11/lib/python3.8/site-packages/picrust2/default_files/prokaryotic/pro_ref/pro_ref.fna' mode='r' encoding='UTF-8'>\n",
      "[15:11:42] algorithm.py (line 265):     INFO: Reading input tree: <_io.TextIOWrapper name='/home/lauro/anaconda3/envs/qiime2-2021.11/lib/python3.8/site-packages/picrust2/default_files/prokaryotic/pro_ref/pro_ref.tre' mode='r' encoding='UTF-8'>\n",
      "[15:11:44] algorithm.py (line 238):     INFO: Decomposition Sizes are set to alignment: 2000 placement: 2000\n",
      "[15:11:46] exhaustive.py (line 350):     INFO: Breaking into 16 placement subsets.\n",
      "[15:11:48] exhaustive.py (line 397):     INFO: Breaking into 16 alignment subsets.\n",
      "[15:11:48] filemgr.py (line 129):     INFO: Root temp directory built: /tmp/sepp/output.y5qg84lx\n",
      "[15:11:48] exhaustive.py (line 412):     INFO: Breaking each alignment subset into 3 fragment chunks.\n",
      "[15:11:49] jobs.py (line 131):     INFO: Finished hmmbuild Job with input: /tmp/sepp/output.y5qg84lx/root/P_1/A_1_0/hmmbuild.input.hxo0b4ym.fasta\n",
      "[15:11:49] jobs.py (line 131):     INFO: Finished hmmbuild Job with input: /tmp/sepp/output.y5qg84lx/root/P_2/A_2_0/hmmbuild.input.3_cr4dp8.fasta\n",
      "[15:11:49] jobs.py (line 131):     INFO: Finished hmmbuild Job with input: /tmp/sepp/output.y5qg84lx/root/P_4/A_4_0/hmmbuild.input.huie23r5.fasta\n",
      "[15:11:49] jobs.py (line 131):     INFO: Finished hmmbuild Job with input: /tmp/sepp/output.y5qg84lx/root/P_0/A_0_0/hmmbuild.input.j_gl5vt3.fasta\n",
      "[15:11:49] jobs.py (line 131):     INFO: Finished hmmbuild Job with input: /tmp/sepp/output.y5qg84lx/root/P_3/A_3_0/hmmbuild.input.3i9r4b_f.fasta\n",
      "[15:11:50] jobs.py (line 131):     INFO: Finished hmmbuild Job with input: /tmp/sepp/output.y5qg84lx/root/P_5/A_5_0/hmmbuild.input.34knfm2k.fasta\n",
      "[15:11:50] jobs.py (line 131):     INFO: Finished hmmbuild Job with input: /tmp/sepp/output.y5qg84lx/root/P_6/A_6_0/hmmbuild.input.u49t6r04.fasta\n",
      "[15:11:50] jobs.py (line 131):     INFO: Finished hmmbuild Job with input: /tmp/sepp/output.y5qg84lx/root/P_7/A_7_0/hmmbuild.input.7srgb5ad.fasta\n",
      "[15:11:50] jobs.py (line 131):     INFO: Finished hmmbuild Job with input: /tmp/sepp/output.y5qg84lx/root/P_10/A_10_0/hmmbuild.input.8vrr9noq.fasta\n",
      "[15:11:50] jobs.py (line 131):     INFO: Finished hmmbuild Job with input: /tmp/sepp/output.y5qg84lx/root/P_9/A_9_0/hmmbuild.input.a8yrdvma.fasta\n",
      "[15:11:50] jobs.py (line 131):     INFO: Finished hmmbuild Job with input: /tmp/sepp/output.y5qg84lx/root/P_8/A_8_0/hmmbuild.input.80pknq90.fasta\n",
      "[15:11:50] jobs.py (line 131):     INFO: Finished hmmbuild Job with input: /tmp/sepp/output.y5qg84lx/root/P_11/A_11_0/hmmbuild.input.k46kf4ck.fasta\n",
      "[15:11:51] jobs.py (line 131):     INFO: Finished hmmbuild Job with input: /tmp/sepp/output.y5qg84lx/root/P_12/A_12_0/hmmbuild.input.cudeb50i.fasta\n",
      "[15:11:51] jobs.py (line 131):     INFO: Finished hmmbuild Job with input: /tmp/sepp/output.y5qg84lx/root/P_15/A_15_0/hmmbuild.input.vozqd3v6.fasta\n",
      "[15:11:51] jobs.py (line 131):     INFO: Finished hmmbuild Job with input: /tmp/sepp/output.y5qg84lx/root/P_13/A_13_0/hmmbuild.input.3lkhem5f.fasta\n",
      "[15:11:51] jobs.py (line 131):     INFO: Finished hmmbuild Job with input: /tmp/sepp/output.y5qg84lx/root/P_14/A_14_0/hmmbuild.input.708zab1o.fasta\n",
      "[15:11:56] jobs.py (line 131):     INFO: Finished hmmsearch Job with input: model:/tmp/sepp/output.y5qg84lx/root/P_1/A_1_0/hmmbuild.model.fc6zdtrk, fragments:/tmp/sepp/output.y5qg84lx/fragment_chunks/fragment_chunk_1_sdxlg17.fasta, elim:99999999, filter:False, output:/tmp/sepp/output.y5qg84lx/root/P_1/A_1_0/FC_1_0_1/hmmsearch.results.8gstng_0\n",
      "[15:11:57] jobs.py (line 131):     INFO: Finished hmmsearch Job with input: model:/tmp/sepp/output.y5qg84lx/root/P_1/A_1_0/hmmbuild.model.fc6zdtrk, fragments:/tmp/sepp/output.y5qg84lx/fragment_chunks/fragment_chunk_2fzq6lprm.fasta, elim:99999999, filter:False, output:/tmp/sepp/output.y5qg84lx/root/P_1/A_1_0/FC_1_0_2/hmmsearch.results.i9qohdhm\n",
      "[15:11:59] jobs.py (line 131):     INFO: Finished hmmsearch Job with input: model:/tmp/sepp/output.y5qg84lx/root/P_2/A_2_0/hmmbuild.model.lu9kvdc0, fragments:/tmp/sepp/output.y5qg84lx/fragment_chunks/fragment_chunk_0n0kw_1ml.fasta, elim:99999999, filter:False, output:/tmp/sepp/output.y5qg84lx/root/P_2/A_2_0/FC_2_0_0/hmmsearch.results.ujmcenkx\n",
      "[15:12:00] jobs.py (line 131):     INFO: Finished hmmsearch Job with input: model:/tmp/sepp/output.y5qg84lx/root/P_1/A_1_0/hmmbuild.model.fc6zdtrk, fragments:/tmp/sepp/output.y5qg84lx/fragment_chunks/fragment_chunk_0n0kw_1ml.fasta, elim:99999999, filter:False, output:/tmp/sepp/output.y5qg84lx/root/P_1/A_1_0/FC_1_0_0/hmmsearch.results.y4_vsot9\n",
      "[15:12:00] jobs.py (line 131):     INFO: Finished hmmsearch Job with input: model:/tmp/sepp/output.y5qg84lx/root/P_2/A_2_0/hmmbuild.model.lu9kvdc0, fragments:/tmp/sepp/output.y5qg84lx/fragment_chunks/fragment_chunk_1_sdxlg17.fasta, elim:99999999, filter:False, output:/tmp/sepp/output.y5qg84lx/root/P_2/A_2_0/FC_2_0_1/hmmsearch.results.66dd8xo3\n",
      "[15:12:01] jobs.py (line 131):     INFO: Finished hmmsearch Job with input: model:/tmp/sepp/output.y5qg84lx/root/P_2/A_2_0/hmmbuild.model.lu9kvdc0, fragments:/tmp/sepp/output.y5qg84lx/fragment_chunks/fragment_chunk_2fzq6lprm.fasta, elim:99999999, filter:False, output:/tmp/sepp/output.y5qg84lx/root/P_2/A_2_0/FC_2_0_2/hmmsearch.results.a9_0h7pf\n",
      "[15:12:03] jobs.py (line 131):     INFO: Finished hmmsearch Job with input: model:/tmp/sepp/output.y5qg84lx/root/P_4/A_4_0/hmmbuild.model.p9zwckb9, fragments:/tmp/sepp/output.y5qg84lx/fragment_chunks/fragment_chunk_0n0kw_1ml.fasta, elim:99999999, filter:False, output:/tmp/sepp/output.y5qg84lx/root/P_4/A_4_0/FC_4_0_0/hmmsearch.results.m_9wagfk\n",
      "[15:12:05] jobs.py (line 131):     INFO: Finished hmmsearch Job with input: model:/tmp/sepp/output.y5qg84lx/root/P_4/A_4_0/hmmbuild.model.p9zwckb9, fragments:/tmp/sepp/output.y5qg84lx/fragment_chunks/fragment_chunk_1_sdxlg17.fasta, elim:99999999, filter:False, output:/tmp/sepp/output.y5qg84lx/root/P_4/A_4_0/FC_4_0_1/hmmsearch.results.ahn32jpz\n",
      "[15:12:06] jobs.py (line 131):     INFO: Finished hmmsearch Job with input: model:/tmp/sepp/output.y5qg84lx/root/P_0/A_0_0/hmmbuild.model.ym9pgy7a, fragments:/tmp/sepp/output.y5qg84lx/fragment_chunks/fragment_chunk_1_sdxlg17.fasta, elim:99999999, filter:False, output:/tmp/sepp/output.y5qg84lx/root/P_0/A_0_0/FC_0_0_1/hmmsearch.results.l3u476uj\n",
      "[15:12:08] jobs.py (line 131):     INFO: Finished hmmsearch Job with input: model:/tmp/sepp/output.y5qg84lx/root/P_4/A_4_0/hmmbuild.model.p9zwckb9, fragments:/tmp/sepp/output.y5qg84lx/fragment_chunks/fragment_chunk_2fzq6lprm.fasta, elim:99999999, filter:False, output:/tmp/sepp/output.y5qg84lx/root/P_4/A_4_0/FC_4_0_2/hmmsearch.results.z9q5poh1\n",
      "[15:12:08] jobs.py (line 131):     INFO: Finished hmmsearch Job with input: model:/tmp/sepp/output.y5qg84lx/root/P_0/A_0_0/hmmbuild.model.ym9pgy7a, fragments:/tmp/sepp/output.y5qg84lx/fragment_chunks/fragment_chunk_2fzq6lprm.fasta, elim:99999999, filter:False, output:/tmp/sepp/output.y5qg84lx/root/P_0/A_0_0/FC_0_0_2/hmmsearch.results.acajy1ah\n",
      "[15:12:09] jobs.py (line 131):     INFO: Finished hmmsearch Job with input: model:/tmp/sepp/output.y5qg84lx/root/P_0/A_0_0/hmmbuild.model.ym9pgy7a, fragments:/tmp/sepp/output.y5qg84lx/fragment_chunks/fragment_chunk_0n0kw_1ml.fasta, elim:99999999, filter:False, output:/tmp/sepp/output.y5qg84lx/root/P_0/A_0_0/FC_0_0_0/hmmsearch.results.ebgvqyhc\n",
      "[15:12:10] jobs.py (line 131):     INFO: Finished hmmsearch Job with input: model:/tmp/sepp/output.y5qg84lx/root/P_3/A_3_0/hmmbuild.model.7u68gvnk, fragments:/tmp/sepp/output.y5qg84lx/fragment_chunks/fragment_chunk_0n0kw_1ml.fasta, elim:99999999, filter:False, output:/tmp/sepp/output.y5qg84lx/root/P_3/A_3_0/FC_3_0_0/hmmsearch.results.w65lh9on\n",
      "[15:12:13] jobs.py (line 131):     INFO: Finished hmmsearch Job with input: model:/tmp/sepp/output.y5qg84lx/root/P_3/A_3_0/hmmbuild.model.7u68gvnk, fragments:/tmp/sepp/output.y5qg84lx/fragment_chunks/fragment_chunk_2fzq6lprm.fasta, elim:99999999, filter:False, output:/tmp/sepp/output.y5qg84lx/root/P_3/A_3_0/FC_3_0_2/hmmsearch.results.k9mebaoj\n",
      "[15:12:13] jobs.py (line 131):     INFO: Finished hmmsearch Job with input: model:/tmp/sepp/output.y5qg84lx/root/P_3/A_3_0/hmmbuild.model.7u68gvnk, fragments:/tmp/sepp/output.y5qg84lx/fragment_chunks/fragment_chunk_1_sdxlg17.fasta, elim:99999999, filter:False, output:/tmp/sepp/output.y5qg84lx/root/P_3/A_3_0/FC_3_0_1/hmmsearch.results.tcgnwo0q\n",
      "[15:12:16] jobs.py (line 131):     INFO: Finished hmmsearch Job with input: model:/tmp/sepp/output.y5qg84lx/root/P_5/A_5_0/hmmbuild.model.jnf9zhfe, fragments:/tmp/sepp/output.y5qg84lx/fragment_chunks/fragment_chunk_0n0kw_1ml.fasta, elim:99999999, filter:False, output:/tmp/sepp/output.y5qg84lx/root/P_5/A_5_0/FC_5_0_0/hmmsearch.results.h1w3d0i0\n",
      "[15:12:16] jobs.py (line 131):     INFO: Finished hmmsearch Job with input: model:/tmp/sepp/output.y5qg84lx/root/P_6/A_6_0/hmmbuild.model.x28om72g, fragments:/tmp/sepp/output.y5qg84lx/fragment_chunks/fragment_chunk_0n0kw_1ml.fasta, elim:99999999, filter:False, output:/tmp/sepp/output.y5qg84lx/root/P_6/A_6_0/FC_6_0_0/hmmsearch.results.vdm4jy6u\n",
      "[15:12:17] jobs.py (line 131):     INFO: Finished hmmsearch Job with input: model:/tmp/sepp/output.y5qg84lx/root/P_5/A_5_0/hmmbuild.model.jnf9zhfe, fragments:/tmp/sepp/output.y5qg84lx/fragment_chunks/fragment_chunk_1_sdxlg17.fasta, elim:99999999, filter:False, output:/tmp/sepp/output.y5qg84lx/root/P_5/A_5_0/FC_5_0_1/hmmsearch.results.373fra8a\n",
      "[15:12:18] jobs.py (line 131):     INFO: Finished hmmsearch Job with input: model:/tmp/sepp/output.y5qg84lx/root/P_5/A_5_0/hmmbuild.model.jnf9zhfe, fragments:/tmp/sepp/output.y5qg84lx/fragment_chunks/fragment_chunk_2fzq6lprm.fasta, elim:99999999, filter:False, output:/tmp/sepp/output.y5qg84lx/root/P_5/A_5_0/FC_5_0_2/hmmsearch.results.oof79upz\n",
      "[15:12:20] jobs.py (line 131):     INFO: Finished hmmsearch Job with input: model:/tmp/sepp/output.y5qg84lx/root/P_6/A_6_0/hmmbuild.model.x28om72g, fragments:/tmp/sepp/output.y5qg84lx/fragment_chunks/fragment_chunk_1_sdxlg17.fasta, elim:99999999, filter:False, output:/tmp/sepp/output.y5qg84lx/root/P_6/A_6_0/FC_6_0_1/hmmsearch.results.2hh74kh7\n",
      "[15:12:20] jobs.py (line 131):     INFO: Finished hmmsearch Job with input: model:/tmp/sepp/output.y5qg84lx/root/P_6/A_6_0/hmmbuild.model.x28om72g, fragments:/tmp/sepp/output.y5qg84lx/fragment_chunks/fragment_chunk_2fzq6lprm.fasta, elim:99999999, filter:False, output:/tmp/sepp/output.y5qg84lx/root/P_6/A_6_0/FC_6_0_2/hmmsearch.results.k51h22dr\n",
      "[15:12:25] jobs.py (line 131):     INFO: Finished hmmsearch Job with input: model:/tmp/sepp/output.y5qg84lx/root/P_10/A_10_0/hmmbuild.model.8vl4lr3d, fragments:/tmp/sepp/output.y5qg84lx/fragment_chunks/fragment_chunk_0n0kw_1ml.fasta, elim:99999999, filter:False, output:/tmp/sepp/output.y5qg84lx/root/P_10/A_10_0/FC_10_0_0/hmmsearch.results.lf5fx70d\n",
      "[15:12:25] jobs.py (line 131):     INFO: Finished hmmsearch Job with input: model:/tmp/sepp/output.y5qg84lx/root/P_7/A_7_0/hmmbuild.model.5r2o6pkb, fragments:/tmp/sepp/output.y5qg84lx/fragment_chunks/fragment_chunk_0n0kw_1ml.fasta, elim:99999999, filter:False, output:/tmp/sepp/output.y5qg84lx/root/P_7/A_7_0/FC_7_0_0/hmmsearch.results.w1hndcjx\n",
      "[15:12:25] jobs.py (line 131):     INFO: Finished hmmsearch Job with input: model:/tmp/sepp/output.y5qg84lx/root/P_7/A_7_0/hmmbuild.model.5r2o6pkb, fragments:/tmp/sepp/output.y5qg84lx/fragment_chunks/fragment_chunk_1_sdxlg17.fasta, elim:99999999, filter:False, output:/tmp/sepp/output.y5qg84lx/root/P_7/A_7_0/FC_7_0_1/hmmsearch.results.0xpengu0\n",
      "[15:12:25] jobs.py (line 131):     INFO: Finished hmmsearch Job with input: model:/tmp/sepp/output.y5qg84lx/root/P_7/A_7_0/hmmbuild.model.5r2o6pkb, fragments:/tmp/sepp/output.y5qg84lx/fragment_chunks/fragment_chunk_2fzq6lprm.fasta, elim:99999999, filter:False, output:/tmp/sepp/output.y5qg84lx/root/P_7/A_7_0/FC_7_0_2/hmmsearch.results.ffcf6szo\n",
      "[15:12:26] jobs.py (line 131):     INFO: Finished hmmsearch Job with input: model:/tmp/sepp/output.y5qg84lx/root/P_10/A_10_0/hmmbuild.model.8vl4lr3d, fragments:/tmp/sepp/output.y5qg84lx/fragment_chunks/fragment_chunk_1_sdxlg17.fasta, elim:99999999, filter:False, output:/tmp/sepp/output.y5qg84lx/root/P_10/A_10_0/FC_10_0_1/hmmsearch.results.fn7lcwnf\n",
      "[15:12:30] jobs.py (line 131):     INFO: Finished hmmsearch Job with input: model:/tmp/sepp/output.y5qg84lx/root/P_10/A_10_0/hmmbuild.model.8vl4lr3d, fragments:/tmp/sepp/output.y5qg84lx/fragment_chunks/fragment_chunk_2fzq6lprm.fasta, elim:99999999, filter:False, output:/tmp/sepp/output.y5qg84lx/root/P_10/A_10_0/FC_10_0_2/hmmsearch.results.h078i3x3\n",
      "[15:12:31] jobs.py (line 131):     INFO: Finished hmmsearch Job with input: model:/tmp/sepp/output.y5qg84lx/root/P_9/A_9_0/hmmbuild.model.1lce43d8, fragments:/tmp/sepp/output.y5qg84lx/fragment_chunks/fragment_chunk_0n0kw_1ml.fasta, elim:99999999, filter:False, output:/tmp/sepp/output.y5qg84lx/root/P_9/A_9_0/FC_9_0_0/hmmsearch.results.k03eaj4z\n",
      "[15:12:33] jobs.py (line 131):     INFO: Finished hmmsearch Job with input: model:/tmp/sepp/output.y5qg84lx/root/P_9/A_9_0/hmmbuild.model.1lce43d8, fragments:/tmp/sepp/output.y5qg84lx/fragment_chunks/fragment_chunk_2fzq6lprm.fasta, elim:99999999, filter:False, output:/tmp/sepp/output.y5qg84lx/root/P_9/A_9_0/FC_9_0_2/hmmsearch.results.1u7m4zjy\n",
      "[15:12:33] jobs.py (line 131):     INFO: Finished hmmsearch Job with input: model:/tmp/sepp/output.y5qg84lx/root/P_8/A_8_0/hmmbuild.model.wlknn0qh, fragments:/tmp/sepp/output.y5qg84lx/fragment_chunks/fragment_chunk_0n0kw_1ml.fasta, elim:99999999, filter:False, output:/tmp/sepp/output.y5qg84lx/root/P_8/A_8_0/FC_8_0_0/hmmsearch.results.b68et78z\n",
      "[15:12:34] jobs.py (line 131):     INFO: Finished hmmsearch Job with input: model:/tmp/sepp/output.y5qg84lx/root/P_9/A_9_0/hmmbuild.model.1lce43d8, fragments:/tmp/sepp/output.y5qg84lx/fragment_chunks/fragment_chunk_1_sdxlg17.fasta, elim:99999999, filter:False, output:/tmp/sepp/output.y5qg84lx/root/P_9/A_9_0/FC_9_0_1/hmmsearch.results.ye8aumsu\n",
      "[15:12:35] jobs.py (line 131):     INFO: Finished hmmsearch Job with input: model:/tmp/sepp/output.y5qg84lx/root/P_8/A_8_0/hmmbuild.model.wlknn0qh, fragments:/tmp/sepp/output.y5qg84lx/fragment_chunks/fragment_chunk_1_sdxlg17.fasta, elim:99999999, filter:False, output:/tmp/sepp/output.y5qg84lx/root/P_8/A_8_0/FC_8_0_1/hmmsearch.results._tc7ydti\n",
      "[15:12:37] jobs.py (line 131):     INFO: Finished hmmsearch Job with input: model:/tmp/sepp/output.y5qg84lx/root/P_8/A_8_0/hmmbuild.model.wlknn0qh, fragments:/tmp/sepp/output.y5qg84lx/fragment_chunks/fragment_chunk_2fzq6lprm.fasta, elim:99999999, filter:False, output:/tmp/sepp/output.y5qg84lx/root/P_8/A_8_0/FC_8_0_2/hmmsearch.results.y2l973p_\n",
      "[15:12:38] jobs.py (line 131):     INFO: Finished hmmsearch Job with input: model:/tmp/sepp/output.y5qg84lx/root/P_11/A_11_0/hmmbuild.model.le66j94q, fragments:/tmp/sepp/output.y5qg84lx/fragment_chunks/fragment_chunk_0n0kw_1ml.fasta, elim:99999999, filter:False, output:/tmp/sepp/output.y5qg84lx/root/P_11/A_11_0/FC_11_0_0/hmmsearch.results.l4ibr0qg\n",
      "[15:12:40] jobs.py (line 131):     INFO: Finished hmmsearch Job with input: model:/tmp/sepp/output.y5qg84lx/root/P_11/A_11_0/hmmbuild.model.le66j94q, fragments:/tmp/sepp/output.y5qg84lx/fragment_chunks/fragment_chunk_2fzq6lprm.fasta, elim:99999999, filter:False, output:/tmp/sepp/output.y5qg84lx/root/P_11/A_11_0/FC_11_0_2/hmmsearch.results.a6mbdcq0\n",
      "[15:12:41] jobs.py (line 131):     INFO: Finished hmmsearch Job with input: model:/tmp/sepp/output.y5qg84lx/root/P_11/A_11_0/hmmbuild.model.le66j94q, fragments:/tmp/sepp/output.y5qg84lx/fragment_chunks/fragment_chunk_1_sdxlg17.fasta, elim:99999999, filter:False, output:/tmp/sepp/output.y5qg84lx/root/P_11/A_11_0/FC_11_0_1/hmmsearch.results.xecnjxty\n",
      "[15:12:43] jobs.py (line 131):     INFO: Finished hmmsearch Job with input: model:/tmp/sepp/output.y5qg84lx/root/P_12/A_12_0/hmmbuild.model.5cmb51fa, fragments:/tmp/sepp/output.y5qg84lx/fragment_chunks/fragment_chunk_1_sdxlg17.fasta, elim:99999999, filter:False, output:/tmp/sepp/output.y5qg84lx/root/P_12/A_12_0/FC_12_0_1/hmmsearch.results.yfob_ror\n",
      "[15:12:43] jobs.py (line 131):     INFO: Finished hmmsearch Job with input: model:/tmp/sepp/output.y5qg84lx/root/P_12/A_12_0/hmmbuild.model.5cmb51fa, fragments:/tmp/sepp/output.y5qg84lx/fragment_chunks/fragment_chunk_0n0kw_1ml.fasta, elim:99999999, filter:False, output:/tmp/sepp/output.y5qg84lx/root/P_12/A_12_0/FC_12_0_0/hmmsearch.results.bpklwll6\n",
      "[15:12:45] jobs.py (line 131):     INFO: Finished hmmsearch Job with input: model:/tmp/sepp/output.y5qg84lx/root/P_12/A_12_0/hmmbuild.model.5cmb51fa, fragments:/tmp/sepp/output.y5qg84lx/fragment_chunks/fragment_chunk_2fzq6lprm.fasta, elim:99999999, filter:False, output:/tmp/sepp/output.y5qg84lx/root/P_12/A_12_0/FC_12_0_2/hmmsearch.results.jviyyyvc\n",
      "[15:12:46] jobs.py (line 131):     INFO: Finished hmmsearch Job with input: model:/tmp/sepp/output.y5qg84lx/root/P_15/A_15_0/hmmbuild.model._o483n5o, fragments:/tmp/sepp/output.y5qg84lx/fragment_chunks/fragment_chunk_0n0kw_1ml.fasta, elim:99999999, filter:False, output:/tmp/sepp/output.y5qg84lx/root/P_15/A_15_0/FC_15_0_0/hmmsearch.results.fhphxrw4\n",
      "[15:12:48] jobs.py (line 131):     INFO: Finished hmmsearch Job with input: model:/tmp/sepp/output.y5qg84lx/root/P_15/A_15_0/hmmbuild.model._o483n5o, fragments:/tmp/sepp/output.y5qg84lx/fragment_chunks/fragment_chunk_1_sdxlg17.fasta, elim:99999999, filter:False, output:/tmp/sepp/output.y5qg84lx/root/P_15/A_15_0/FC_15_0_1/hmmsearch.results.43m8rocz\n",
      "[15:12:49] jobs.py (line 131):     INFO: Finished hmmsearch Job with input: model:/tmp/sepp/output.y5qg84lx/root/P_15/A_15_0/hmmbuild.model._o483n5o, fragments:/tmp/sepp/output.y5qg84lx/fragment_chunks/fragment_chunk_2fzq6lprm.fasta, elim:99999999, filter:False, output:/tmp/sepp/output.y5qg84lx/root/P_15/A_15_0/FC_15_0_2/hmmsearch.results.l086bbv_\n",
      "[15:12:50] jobs.py (line 131):     INFO: Finished hmmsearch Job with input: model:/tmp/sepp/output.y5qg84lx/root/P_13/A_13_0/hmmbuild.model.6wyh5t6j, fragments:/tmp/sepp/output.y5qg84lx/fragment_chunks/fragment_chunk_0n0kw_1ml.fasta, elim:99999999, filter:False, output:/tmp/sepp/output.y5qg84lx/root/P_13/A_13_0/FC_13_0_0/hmmsearch.results.eesc6llv\n",
      "[15:12:50] jobs.py (line 131):     INFO: Finished hmmsearch Job with input: model:/tmp/sepp/output.y5qg84lx/root/P_13/A_13_0/hmmbuild.model.6wyh5t6j, fragments:/tmp/sepp/output.y5qg84lx/fragment_chunks/fragment_chunk_1_sdxlg17.fasta, elim:99999999, filter:False, output:/tmp/sepp/output.y5qg84lx/root/P_13/A_13_0/FC_13_0_1/hmmsearch.results.yfy0bci7\n",
      "[15:12:53] jobs.py (line 131):     INFO: Finished hmmsearch Job with input: model:/tmp/sepp/output.y5qg84lx/root/P_13/A_13_0/hmmbuild.model.6wyh5t6j, fragments:/tmp/sepp/output.y5qg84lx/fragment_chunks/fragment_chunk_2fzq6lprm.fasta, elim:99999999, filter:False, output:/tmp/sepp/output.y5qg84lx/root/P_13/A_13_0/FC_13_0_2/hmmsearch.results.xhw3ftsn\n",
      "[15:12:54] jobs.py (line 131):     INFO: Finished hmmsearch Job with input: model:/tmp/sepp/output.y5qg84lx/root/P_14/A_14_0/hmmbuild.model.s6rz3a49, fragments:/tmp/sepp/output.y5qg84lx/fragment_chunks/fragment_chunk_0n0kw_1ml.fasta, elim:99999999, filter:False, output:/tmp/sepp/output.y5qg84lx/root/P_14/A_14_0/FC_14_0_0/hmmsearch.results.2warufw5\n",
      "[15:12:54] jobs.py (line 131):     INFO: Finished hmmsearch Job with input: model:/tmp/sepp/output.y5qg84lx/root/P_14/A_14_0/hmmbuild.model.s6rz3a49, fragments:/tmp/sepp/output.y5qg84lx/fragment_chunks/fragment_chunk_1_sdxlg17.fasta, elim:99999999, filter:False, output:/tmp/sepp/output.y5qg84lx/root/P_14/A_14_0/FC_14_0_1/hmmsearch.results.t27jqvw9\n",
      "[15:12:55] jobs.py (line 131):     INFO: Finished hmmsearch Job with input: model:/tmp/sepp/output.y5qg84lx/root/P_14/A_14_0/hmmbuild.model.s6rz3a49, fragments:/tmp/sepp/output.y5qg84lx/fragment_chunks/fragment_chunk_2fzq6lprm.fasta, elim:99999999, filter:False, output:/tmp/sepp/output.y5qg84lx/root/P_14/A_14_0/FC_14_0_2/hmmsearch.results.s_2iijko\n",
      "[15:12:55] exhaustive.py (line 80):  WARNING: Fragments [] are not scored against any subset\n",
      "[15:12:55] exhaustive.py (line 151):     INFO: Merging sub-alignments for placement problem : P_0.\n",
      "[15:12:55] jobs.py (line 131):     INFO: Finished hmmalign Job with input: model:/tmp/sepp/output.y5qg84lx/root/P_5/A_5_0/hmmbuild.model.jnf9zhfe, fragments:/tmp/sepp/output.y5qg84lx/root/P_5/A_5_0/FC_5_0_2/hmmalign.frag.jqte0kuw.fasta, trim:False, base_alignment:/tmp/sepp/output.y5qg84lx/root/P_5/A_5_0/hmmbuild.input.34knfm2k.fasta\n",
      "[15:12:55] jobs.py (line 131):     INFO: Finished hmmalign Job with input: model:/tmp/sepp/output.y5qg84lx/root/P_1/A_1_0/hmmbuild.model.fc6zdtrk, fragments:/tmp/sepp/output.y5qg84lx/root/P_1/A_1_0/FC_1_0_1/hmmalign.frag.7ltf69e6.fasta, trim:False, base_alignment:/tmp/sepp/output.y5qg84lx/root/P_1/A_1_0/hmmbuild.input.hxo0b4ym.fasta\n",
      "[15:12:55] exhaustive.py (line 151):     INFO: Merging sub-alignments for placement problem : P_2.\n",
      "[15:12:55] jobs.py (line 131):     INFO: Finished hmmalign Job with input: model:/tmp/sepp/output.y5qg84lx/root/P_1/A_1_0/hmmbuild.model.fc6zdtrk, fragments:/tmp/sepp/output.y5qg84lx/root/P_1/A_1_0/FC_1_0_2/hmmalign.frag.0xuaoub_.fasta, trim:False, base_alignment:/tmp/sepp/output.y5qg84lx/root/P_1/A_1_0/hmmbuild.input.hxo0b4ym.fasta\n",
      "[15:12:55] jobs.py (line 131):     INFO: Finished hmmalign Job with input: model:/tmp/sepp/output.y5qg84lx/root/P_5/A_5_0/hmmbuild.model.jnf9zhfe, fragments:/tmp/sepp/output.y5qg84lx/root/P_5/A_5_0/FC_5_0_0/hmmalign.frag.fcx_6323.fasta, trim:False, base_alignment:/tmp/sepp/output.y5qg84lx/root/P_5/A_5_0/hmmbuild.input.34knfm2k.fasta\n",
      "[15:12:55] jobs.py (line 131):     INFO: Finished hmmalign Job with input: model:/tmp/sepp/output.y5qg84lx/root/P_5/A_5_0/hmmbuild.model.jnf9zhfe, fragments:/tmp/sepp/output.y5qg84lx/root/P_5/A_5_0/FC_5_0_1/hmmalign.frag.02d2ul9t.fasta, trim:False, base_alignment:/tmp/sepp/output.y5qg84lx/root/P_5/A_5_0/hmmbuild.input.34knfm2k.fasta\n",
      "[15:12:55] jobs.py (line 131):     INFO: Finished hmmalign Job with input: model:/tmp/sepp/output.y5qg84lx/root/P_1/A_1_0/hmmbuild.model.fc6zdtrk, fragments:/tmp/sepp/output.y5qg84lx/root/P_1/A_1_0/FC_1_0_0/hmmalign.frag.713ye6ad.fasta, trim:False, base_alignment:/tmp/sepp/output.y5qg84lx/root/P_1/A_1_0/hmmbuild.input.hxo0b4ym.fasta\n",
      "[15:12:55] exhaustive.py (line 151):     INFO: Merging sub-alignments for placement problem : P_3.\n",
      "[15:12:55] jobs.py (line 131):     INFO: Finished hmmalign Job with input: model:/tmp/sepp/output.y5qg84lx/root/P_6/A_6_0/hmmbuild.model.x28om72g, fragments:/tmp/sepp/output.y5qg84lx/root/P_6/A_6_0/FC_6_0_1/hmmalign.frag.8qtlagnz.fasta, trim:False, base_alignment:/tmp/sepp/output.y5qg84lx/root/P_6/A_6_0/hmmbuild.input.u49t6r04.fasta\n",
      "[15:12:55] jobs.py (line 131):     INFO: Finished hmmalign Job with input: model:/tmp/sepp/output.y5qg84lx/root/P_6/A_6_0/hmmbuild.model.x28om72g, fragments:/tmp/sepp/output.y5qg84lx/root/P_6/A_6_0/FC_6_0_2/hmmalign.frag.ks_tiy95.fasta, trim:False, base_alignment:/tmp/sepp/output.y5qg84lx/root/P_6/A_6_0/hmmbuild.input.u49t6r04.fasta\n",
      "[15:12:55] jobs.py (line 131):     INFO: Finished hmmalign Job with input: model:/tmp/sepp/output.y5qg84lx/root/P_6/A_6_0/hmmbuild.model.x28om72g, fragments:/tmp/sepp/output.y5qg84lx/root/P_6/A_6_0/FC_6_0_0/hmmalign.frag.uyyry0qa.fasta, trim:False, base_alignment:/tmp/sepp/output.y5qg84lx/root/P_6/A_6_0/hmmbuild.input.u49t6r04.fasta\n",
      "[15:12:55] jobs.py (line 131):     INFO: Finished hmmalign Job with input: model:/tmp/sepp/output.y5qg84lx/root/P_7/A_7_0/hmmbuild.model.5r2o6pkb, fragments:/tmp/sepp/output.y5qg84lx/root/P_7/A_7_0/FC_7_0_1/hmmalign.frag.yy868pys.fasta, trim:False, base_alignment:/tmp/sepp/output.y5qg84lx/root/P_7/A_7_0/hmmbuild.input.7srgb5ad.fasta\n",
      "[15:12:55] jobs.py (line 131):     INFO: Finished hmmalign Job with input: model:/tmp/sepp/output.y5qg84lx/root/P_7/A_7_0/hmmbuild.model.5r2o6pkb, fragments:/tmp/sepp/output.y5qg84lx/root/P_7/A_7_0/FC_7_0_2/hmmalign.frag.x8tyfz__.fasta, trim:False, base_alignment:/tmp/sepp/output.y5qg84lx/root/P_7/A_7_0/hmmbuild.input.7srgb5ad.fasta\n",
      "[15:12:55] jobs.py (line 131):     INFO: Finished hmmalign Job with input: model:/tmp/sepp/output.y5qg84lx/root/P_7/A_7_0/hmmbuild.model.5r2o6pkb, fragments:/tmp/sepp/output.y5qg84lx/root/P_7/A_7_0/FC_7_0_0/hmmalign.frag.uqlwx90m.fasta, trim:False, base_alignment:/tmp/sepp/output.y5qg84lx/root/P_7/A_7_0/hmmbuild.input.7srgb5ad.fasta\n",
      "[15:12:55] exhaustive.py (line 151):     INFO: Merging sub-alignments for placement problem : P_4.\n",
      "[15:12:55] jobs.py (line 131):     INFO: Finished hmmalign Job with input: model:/tmp/sepp/output.y5qg84lx/root/P_8/A_8_0/hmmbuild.model.wlknn0qh, fragments:/tmp/sepp/output.y5qg84lx/root/P_8/A_8_0/FC_8_0_0/hmmalign.frag.jiab3qhh.fasta, trim:False, base_alignment:/tmp/sepp/output.y5qg84lx/root/P_8/A_8_0/hmmbuild.input.80pknq90.fasta\n",
      "[15:12:55] jobs.py (line 131):     INFO: Finished hmmalign Job with input: model:/tmp/sepp/output.y5qg84lx/root/P_8/A_8_0/hmmbuild.model.wlknn0qh, fragments:/tmp/sepp/output.y5qg84lx/root/P_8/A_8_0/FC_8_0_1/hmmalign.frag.m8i_6wig.fasta, trim:False, base_alignment:/tmp/sepp/output.y5qg84lx/root/P_8/A_8_0/hmmbuild.input.80pknq90.fasta\n",
      "[15:12:55] jobs.py (line 131):     INFO: Finished hmmalign Job with input: model:/tmp/sepp/output.y5qg84lx/root/P_8/A_8_0/hmmbuild.model.wlknn0qh, fragments:/tmp/sepp/output.y5qg84lx/root/P_8/A_8_0/FC_8_0_2/hmmalign.frag.5gm5f6pb.fasta, trim:False, base_alignment:/tmp/sepp/output.y5qg84lx/root/P_8/A_8_0/hmmbuild.input.80pknq90.fasta\n",
      "[15:12:55] exhaustive.py (line 151):     INFO: Merging sub-alignments for placement problem : P_5.\n",
      "[15:12:55] alignment.py (line 556):     INFO: Merging extension sto file (/tmp/sepp/output.y5qg84lx/root/P_5/A_5_0/FC_5_0_0/hmmalign.results.h8e9pvti) into base alignment (/tmp/sepp/output.y5qg84lx/root/P_5/A_5_0/hmmbuild.input.34knfm2k.fasta).\n",
      "[15:12:55] alignment.py (line 556):     INFO: Merging extension sto file (/tmp/sepp/output.y5qg84lx/root/P_5/A_5_0/FC_5_0_1/hmmalign.results.nbblpicj) into base alignment (/tmp/sepp/output.y5qg84lx/root/P_5/A_5_0/hmmbuild.input.34knfm2k.fasta).\n",
      "[15:12:55] alignment.py (line 556):     INFO: Merging extension sto file (/tmp/sepp/output.y5qg84lx/root/P_5/A_5_0/FC_5_0_2/hmmalign.results.f3j2c0o6) into base alignment (/tmp/sepp/output.y5qg84lx/root/P_5/A_5_0/hmmbuild.input.34knfm2k.fasta).\n",
      "[15:12:56] exhaustive.py (line 151):     INFO: Merging sub-alignments for placement problem : P_1.\n",
      "[15:12:56] alignment.py (line 556):     INFO: Merging extension sto file (/tmp/sepp/output.y5qg84lx/root/P_1/A_1_0/FC_1_0_0/hmmalign.results.z__x4qoy) into base alignment (/tmp/sepp/output.y5qg84lx/root/P_1/A_1_0/hmmbuild.input.hxo0b4ym.fasta).\n",
      "[15:12:56] jobs.py (line 131):     INFO: Finished hmmalign Job with input: model:/tmp/sepp/output.y5qg84lx/root/P_10/A_10_0/hmmbuild.model.8vl4lr3d, fragments:/tmp/sepp/output.y5qg84lx/root/P_10/A_10_0/FC_10_0_0/hmmalign.frag.o2hjf0ky.fasta, trim:False, base_alignment:/tmp/sepp/output.y5qg84lx/root/P_10/A_10_0/hmmbuild.input.8vrr9noq.fasta\n",
      "[15:12:56] jobs.py (line 131):     INFO: Finished hmmalign Job with input: model:/tmp/sepp/output.y5qg84lx/root/P_10/A_10_0/hmmbuild.model.8vl4lr3d, fragments:/tmp/sepp/output.y5qg84lx/root/P_10/A_10_0/FC_10_0_1/hmmalign.frag.fe_up13h.fasta, trim:False, base_alignment:/tmp/sepp/output.y5qg84lx/root/P_10/A_10_0/hmmbuild.input.8vrr9noq.fasta\n",
      "[15:12:56] alignment.py (line 556):     INFO: Merging extension sto file (/tmp/sepp/output.y5qg84lx/root/P_1/A_1_0/FC_1_0_1/hmmalign.results.durhtihb) into base alignment (/tmp/sepp/output.y5qg84lx/root/P_1/A_1_0/hmmbuild.input.hxo0b4ym.fasta).\n",
      "[15:12:56] jobs.py (line 131):     INFO: Finished hmmalign Job with input: model:/tmp/sepp/output.y5qg84lx/root/P_10/A_10_0/hmmbuild.model.8vl4lr3d, fragments:/tmp/sepp/output.y5qg84lx/root/P_10/A_10_0/FC_10_0_2/hmmalign.frag.s8ji9krt.fasta, trim:False, base_alignment:/tmp/sepp/output.y5qg84lx/root/P_10/A_10_0/hmmbuild.input.8vrr9noq.fasta\n",
      "[15:12:56] alignment.py (line 556):     INFO: Merging extension sto file (/tmp/sepp/output.y5qg84lx/root/P_1/A_1_0/FC_1_0_2/hmmalign.results.3weuok2e) into base alignment (/tmp/sepp/output.y5qg84lx/root/P_1/A_1_0/hmmbuild.input.hxo0b4ym.fasta).\n",
      "[15:12:56] exhaustive.py (line 151):     INFO: Merging sub-alignments for placement problem : P_6.\n",
      "[15:12:56] alignment.py (line 556):     INFO: Merging extension sto file (/tmp/sepp/output.y5qg84lx/root/P_6/A_6_0/FC_6_0_0/hmmalign.results.2q0ikphq) into base alignment (/tmp/sepp/output.y5qg84lx/root/P_6/A_6_0/hmmbuild.input.u49t6r04.fasta).\n",
      "[15:12:56] alignment.py (line 556):     INFO: Merging extension sto file (/tmp/sepp/output.y5qg84lx/root/P_6/A_6_0/FC_6_0_1/hmmalign.results.cf7su4ci) into base alignment (/tmp/sepp/output.y5qg84lx/root/P_6/A_6_0/hmmbuild.input.u49t6r04.fasta).\n",
      "[15:12:56] alignment.py (line 556):     INFO: Merging extension sto file (/tmp/sepp/output.y5qg84lx/root/P_6/A_6_0/FC_6_0_2/hmmalign.results.4v0_oo9s) into base alignment (/tmp/sepp/output.y5qg84lx/root/P_6/A_6_0/hmmbuild.input.u49t6r04.fasta).\n",
      "[15:12:56] jobs.py (line 131):     INFO: Finished hmmalign Job with input: model:/tmp/sepp/output.y5qg84lx/root/P_9/A_9_0/hmmbuild.model.1lce43d8, fragments:/tmp/sepp/output.y5qg84lx/root/P_9/A_9_0/FC_9_0_0/hmmalign.frag.s19sl8r9.fasta, trim:False, base_alignment:/tmp/sepp/output.y5qg84lx/root/P_9/A_9_0/hmmbuild.input.a8yrdvma.fasta\n",
      "[15:12:56] exhaustive.py (line 151):     INFO: Merging sub-alignments for placement problem : P_7.\n",
      "[15:12:56] alignment.py (line 556):     INFO: Merging extension sto file (/tmp/sepp/output.y5qg84lx/root/P_7/A_7_0/FC_7_0_0/hmmalign.results.bw_uigr1) into base alignment (/tmp/sepp/output.y5qg84lx/root/P_7/A_7_0/hmmbuild.input.7srgb5ad.fasta).\n",
      "[15:12:56] jobs.py (line 131):     INFO: Finished hmmalign Job with input: model:/tmp/sepp/output.y5qg84lx/root/P_9/A_9_0/hmmbuild.model.1lce43d8, fragments:/tmp/sepp/output.y5qg84lx/root/P_9/A_9_0/FC_9_0_1/hmmalign.frag.kklohyza.fasta, trim:False, base_alignment:/tmp/sepp/output.y5qg84lx/root/P_9/A_9_0/hmmbuild.input.a8yrdvma.fasta\n",
      "[15:12:56] alignment.py (line 556):     INFO: Merging extension sto file (/tmp/sepp/output.y5qg84lx/root/P_7/A_7_0/FC_7_0_1/hmmalign.results.d9mmt5f9) into base alignment (/tmp/sepp/output.y5qg84lx/root/P_7/A_7_0/hmmbuild.input.7srgb5ad.fasta).\n",
      "[15:12:56] alignment.py (line 556):     INFO: Merging extension sto file (/tmp/sepp/output.y5qg84lx/root/P_7/A_7_0/FC_7_0_2/hmmalign.results.djvo21lx) into base alignment (/tmp/sepp/output.y5qg84lx/root/P_7/A_7_0/hmmbuild.input.7srgb5ad.fasta).\n",
      "[15:12:56] jobs.py (line 131):     INFO: Finished hmmalign Job with input: model:/tmp/sepp/output.y5qg84lx/root/P_9/A_9_0/hmmbuild.model.1lce43d8, fragments:/tmp/sepp/output.y5qg84lx/root/P_9/A_9_0/FC_9_0_2/hmmalign.frag.a2_3gvpf.fasta, trim:False, base_alignment:/tmp/sepp/output.y5qg84lx/root/P_9/A_9_0/hmmbuild.input.a8yrdvma.fasta\n",
      "[15:12:56] exhaustive.py (line 151):     INFO: Merging sub-alignments for placement problem : P_8.\n",
      "[15:12:56] alignment.py (line 556):     INFO: Merging extension sto file (/tmp/sepp/output.y5qg84lx/root/P_8/A_8_0/FC_8_0_0/hmmalign.results.e29mbhh6) into base alignment (/tmp/sepp/output.y5qg84lx/root/P_8/A_8_0/hmmbuild.input.80pknq90.fasta).\n",
      "[15:12:56] alignment.py (line 556):     INFO: Merging extension sto file (/tmp/sepp/output.y5qg84lx/root/P_8/A_8_0/FC_8_0_1/hmmalign.results.6_ukzp05) into base alignment (/tmp/sepp/output.y5qg84lx/root/P_8/A_8_0/hmmbuild.input.80pknq90.fasta).\n",
      "[15:12:56] alignment.py (line 556):     INFO: Merging extension sto file (/tmp/sepp/output.y5qg84lx/root/P_8/A_8_0/FC_8_0_2/hmmalign.results.sroooijd) into base alignment (/tmp/sepp/output.y5qg84lx/root/P_8/A_8_0/hmmbuild.input.80pknq90.fasta).\n",
      "[15:12:56] exhaustive.py (line 151):     INFO: Merging sub-alignments for placement problem : P_10.\n",
      "[15:12:56] alignment.py (line 556):     INFO: Merging extension sto file (/tmp/sepp/output.y5qg84lx/root/P_10/A_10_0/FC_10_0_0/hmmalign.results.q8_vfvoa) into base alignment (/tmp/sepp/output.y5qg84lx/root/P_10/A_10_0/hmmbuild.input.8vrr9noq.fasta).\n",
      "[15:12:56] alignment.py (line 556):     INFO: Merging extension sto file (/tmp/sepp/output.y5qg84lx/root/P_10/A_10_0/FC_10_0_1/hmmalign.results.rx2hxzuh) into base alignment (/tmp/sepp/output.y5qg84lx/root/P_10/A_10_0/hmmbuild.input.8vrr9noq.fasta).\n",
      "[15:12:56] alignment.py (line 556):     INFO: Merging extension sto file (/tmp/sepp/output.y5qg84lx/root/P_10/A_10_0/FC_10_0_2/hmmalign.results.883t3yke) into base alignment (/tmp/sepp/output.y5qg84lx/root/P_10/A_10_0/hmmbuild.input.8vrr9noq.fasta).\n",
      "[15:12:56] exhaustive.py (line 151):     INFO: Merging sub-alignments for placement problem : P_9.\n",
      "[15:12:56] alignment.py (line 556):     INFO: Merging extension sto file (/tmp/sepp/output.y5qg84lx/root/P_9/A_9_0/FC_9_0_0/hmmalign.results.he3yk6_o) into base alignment (/tmp/sepp/output.y5qg84lx/root/P_9/A_9_0/hmmbuild.input.a8yrdvma.fasta).\n",
      "[15:12:56] alignment.py (line 556):     INFO: Merging extension sto file (/tmp/sepp/output.y5qg84lx/root/P_9/A_9_0/FC_9_0_1/hmmalign.results.ccwgc4n8) into base alignment (/tmp/sepp/output.y5qg84lx/root/P_9/A_9_0/hmmbuild.input.a8yrdvma.fasta).\n",
      "[15:12:56] alignment.py (line 556):     INFO: Merging extension sto file (/tmp/sepp/output.y5qg84lx/root/P_9/A_9_0/FC_9_0_2/hmmalign.results.vl328ypr) into base alignment (/tmp/sepp/output.y5qg84lx/root/P_9/A_9_0/hmmbuild.input.a8yrdvma.fasta).\n",
      "[15:12:59] jobs.py (line 131):     INFO: Finished hmmalign Job with input: model:/tmp/sepp/output.y5qg84lx/root/P_12/A_12_0/hmmbuild.model.5cmb51fa, fragments:/tmp/sepp/output.y5qg84lx/root/P_12/A_12_0/FC_12_0_2/hmmalign.frag.ofj7n9la.fasta, trim:False, base_alignment:/tmp/sepp/output.y5qg84lx/root/P_12/A_12_0/hmmbuild.input.cudeb50i.fasta\n",
      "[15:13:00] jobs.py (line 131):     INFO: Finished hmmalign Job with input: model:/tmp/sepp/output.y5qg84lx/root/P_12/A_12_0/hmmbuild.model.5cmb51fa, fragments:/tmp/sepp/output.y5qg84lx/root/P_12/A_12_0/FC_12_0_0/hmmalign.frag.yzksn5y5.fasta, trim:False, base_alignment:/tmp/sepp/output.y5qg84lx/root/P_12/A_12_0/hmmbuild.input.cudeb50i.fasta\n",
      "[15:13:00] jobs.py (line 131):     INFO: Finished hmmalign Job with input: model:/tmp/sepp/output.y5qg84lx/root/P_12/A_12_0/hmmbuild.model.5cmb51fa, fragments:/tmp/sepp/output.y5qg84lx/root/P_12/A_12_0/FC_12_0_1/hmmalign.frag.ls023fbc.fasta, trim:False, base_alignment:/tmp/sepp/output.y5qg84lx/root/P_12/A_12_0/hmmbuild.input.cudeb50i.fasta\n",
      "[15:13:00] exhaustive.py (line 151):     INFO: Merging sub-alignments for placement problem : P_12.\n",
      "[15:13:00] alignment.py (line 556):     INFO: Merging extension sto file (/tmp/sepp/output.y5qg84lx/root/P_12/A_12_0/FC_12_0_0/hmmalign.results.qx3pirv1) into base alignment (/tmp/sepp/output.y5qg84lx/root/P_12/A_12_0/hmmbuild.input.cudeb50i.fasta).\n",
      "[15:13:00] jobs.py (line 131):     INFO: Finished hmmalign Job with input: model:/tmp/sepp/output.y5qg84lx/root/P_13/A_13_0/hmmbuild.model.6wyh5t6j, fragments:/tmp/sepp/output.y5qg84lx/root/P_13/A_13_0/FC_13_0_0/hmmalign.frag.87pfllee.fasta, trim:False, base_alignment:/tmp/sepp/output.y5qg84lx/root/P_13/A_13_0/hmmbuild.input.3lkhem5f.fasta\n",
      "[15:13:00] alignment.py (line 556):     INFO: Merging extension sto file (/tmp/sepp/output.y5qg84lx/root/P_12/A_12_0/FC_12_0_1/hmmalign.results.h70bpw2s) into base alignment (/tmp/sepp/output.y5qg84lx/root/P_12/A_12_0/hmmbuild.input.cudeb50i.fasta).\n",
      "[15:13:00] alignment.py (line 556):     INFO: Merging extension sto file (/tmp/sepp/output.y5qg84lx/root/P_12/A_12_0/FC_12_0_2/hmmalign.results.rw6dwvk6) into base alignment (/tmp/sepp/output.y5qg84lx/root/P_12/A_12_0/hmmbuild.input.cudeb50i.fasta).\n",
      "[15:13:00] jobs.py (line 131):     INFO: Finished hmmalign Job with input: model:/tmp/sepp/output.y5qg84lx/root/P_14/A_14_0/hmmbuild.model.s6rz3a49, fragments:/tmp/sepp/output.y5qg84lx/root/P_14/A_14_0/FC_14_0_0/hmmalign.frag.4q_h1trx.fasta, trim:False, base_alignment:/tmp/sepp/output.y5qg84lx/root/P_14/A_14_0/hmmbuild.input.708zab1o.fasta\n",
      "[15:13:00] jobs.py (line 131):     INFO: Finished hmmalign Job with input: model:/tmp/sepp/output.y5qg84lx/root/P_14/A_14_0/hmmbuild.model.s6rz3a49, fragments:/tmp/sepp/output.y5qg84lx/root/P_14/A_14_0/FC_14_0_1/hmmalign.frag.h9epkego.fasta, trim:False, base_alignment:/tmp/sepp/output.y5qg84lx/root/P_14/A_14_0/hmmbuild.input.708zab1o.fasta\n",
      "[15:13:00] jobs.py (line 131):     INFO: Finished hmmalign Job with input: model:/tmp/sepp/output.y5qg84lx/root/P_13/A_13_0/hmmbuild.model.6wyh5t6j, fragments:/tmp/sepp/output.y5qg84lx/root/P_13/A_13_0/FC_13_0_2/hmmalign.frag.ixi9ftcv.fasta, trim:False, base_alignment:/tmp/sepp/output.y5qg84lx/root/P_13/A_13_0/hmmbuild.input.3lkhem5f.fasta\n",
      "[15:13:00] jobs.py (line 131):     INFO: Finished hmmalign Job with input: model:/tmp/sepp/output.y5qg84lx/root/P_14/A_14_0/hmmbuild.model.s6rz3a49, fragments:/tmp/sepp/output.y5qg84lx/root/P_14/A_14_0/FC_14_0_2/hmmalign.frag.pfnhgvts.fasta, trim:False, base_alignment:/tmp/sepp/output.y5qg84lx/root/P_14/A_14_0/hmmbuild.input.708zab1o.fasta\n",
      "[15:13:00] exhaustive.py (line 151):     INFO: Merging sub-alignments for placement problem : P_14.\n",
      "[15:13:00] jobs.py (line 131):     INFO: Finished hmmalign Job with input: model:/tmp/sepp/output.y5qg84lx/root/P_13/A_13_0/hmmbuild.model.6wyh5t6j, fragments:/tmp/sepp/output.y5qg84lx/root/P_13/A_13_0/FC_13_0_1/hmmalign.frag.pnfnz5ig.fasta, trim:False, base_alignment:/tmp/sepp/output.y5qg84lx/root/P_13/A_13_0/hmmbuild.input.3lkhem5f.fasta\n",
      "[15:13:00] alignment.py (line 556):     INFO: Merging extension sto file (/tmp/sepp/output.y5qg84lx/root/P_14/A_14_0/FC_14_0_0/hmmalign.results.q9koccei) into base alignment (/tmp/sepp/output.y5qg84lx/root/P_14/A_14_0/hmmbuild.input.708zab1o.fasta).\n",
      "[15:13:00] jobs.py (line 131):     INFO: Finished hmmalign Job with input: model:/tmp/sepp/output.y5qg84lx/root/P_15/A_15_0/hmmbuild.model._o483n5o, fragments:/tmp/sepp/output.y5qg84lx/root/P_15/A_15_0/FC_15_0_0/hmmalign.frag.q4utmtj7.fasta, trim:False, base_alignment:/tmp/sepp/output.y5qg84lx/root/P_15/A_15_0/hmmbuild.input.vozqd3v6.fasta\n",
      "[15:13:00] alignment.py (line 556):     INFO: Merging extension sto file (/tmp/sepp/output.y5qg84lx/root/P_14/A_14_0/FC_14_0_1/hmmalign.results.qwr559fy) into base alignment (/tmp/sepp/output.y5qg84lx/root/P_14/A_14_0/hmmbuild.input.708zab1o.fasta).\n",
      "[15:13:00] alignment.py (line 556):     INFO: Merging extension sto file (/tmp/sepp/output.y5qg84lx/root/P_14/A_14_0/FC_14_0_2/hmmalign.results.lq7vvleu) into base alignment (/tmp/sepp/output.y5qg84lx/root/P_14/A_14_0/hmmbuild.input.708zab1o.fasta).\n",
      "[15:13:00] exhaustive.py (line 151):     INFO: Merging sub-alignments for placement problem : P_13.\n",
      "[15:13:00] alignment.py (line 556):     INFO: Merging extension sto file (/tmp/sepp/output.y5qg84lx/root/P_13/A_13_0/FC_13_0_0/hmmalign.results.nntap8xn) into base alignment (/tmp/sepp/output.y5qg84lx/root/P_13/A_13_0/hmmbuild.input.3lkhem5f.fasta).\n",
      "[15:13:00] alignment.py (line 556):     INFO: Merging extension sto file (/tmp/sepp/output.y5qg84lx/root/P_13/A_13_0/FC_13_0_1/hmmalign.results.lmszeb0r) into base alignment (/tmp/sepp/output.y5qg84lx/root/P_13/A_13_0/hmmbuild.input.3lkhem5f.fasta).\n",
      "[15:13:00] alignment.py (line 556):     INFO: Merging extension sto file (/tmp/sepp/output.y5qg84lx/root/P_13/A_13_0/FC_13_0_2/hmmalign.results.nx72ab1b) into base alignment (/tmp/sepp/output.y5qg84lx/root/P_13/A_13_0/hmmbuild.input.3lkhem5f.fasta).\n",
      "[15:13:00] exhaustive.py (line 151):     INFO: Merging sub-alignments for placement problem : P_15.\n",
      "[15:13:00] alignment.py (line 556):     INFO: Merging extension sto file (/tmp/sepp/output.y5qg84lx/root/P_15/A_15_0/FC_15_0_0/hmmalign.results.h6l4ph17) into base alignment (/tmp/sepp/output.y5qg84lx/root/P_15/A_15_0/hmmbuild.input.vozqd3v6.fasta).\n",
      "[15:13:04] jobs.py (line 131):     INFO: Finished pplacer Job with input: backbone_alignment_file:/tmp/sepp/output.y5qg84lx/root/P_5/pplacer.backbone.w88uodcf.fasta, tree_file:/tmp/sepp/output.y5qg84lx/root/P_5/pplacer.tree.b1b_lacx.tre, info_file:/home/lauro/anaconda3/envs/qiime2-2021.11/lib/python3.8/site-packages/picrust2/default_files/prokaryotic/pro_ref/pro_ref.raxml_info, extended alignment:/tmp/sepp/output.y5qg84lx/root/P_5/pplacer.extended.0.bim5970u.fasta, output:/tmp/sepp/output.y5qg84lx/root/P_5/pplacer.extended.0.bim5970u.jplace\n",
      "[15:13:06] jobs.py (line 131):     INFO: Finished pplacer Job with input: backbone_alignment_file:/tmp/sepp/output.y5qg84lx/root/P_5/pplacer.backbone.r5wv32sa.fasta, tree_file:/tmp/sepp/output.y5qg84lx/root/P_5/pplacer.tree.h_j07pbg.tre, info_file:/home/lauro/anaconda3/envs/qiime2-2021.11/lib/python3.8/site-packages/picrust2/default_files/prokaryotic/pro_ref/pro_ref.raxml_info, extended alignment:/tmp/sepp/output.y5qg84lx/root/P_5/pplacer.extended.2.qg2errzq.fasta, output:/tmp/sepp/output.y5qg84lx/root/P_5/pplacer.extended.2.qg2errzq.jplace\n",
      "[15:13:06] jobs.py (line 131):     INFO: Finished pplacer Job with input: backbone_alignment_file:/tmp/sepp/output.y5qg84lx/root/P_5/pplacer.backbone.y1l4g9lm.fasta, tree_file:/tmp/sepp/output.y5qg84lx/root/P_5/pplacer.tree.xszf7jg4.tre, info_file:/home/lauro/anaconda3/envs/qiime2-2021.11/lib/python3.8/site-packages/picrust2/default_files/prokaryotic/pro_ref/pro_ref.raxml_info, extended alignment:/tmp/sepp/output.y5qg84lx/root/P_5/pplacer.extended.1.cdjayn6x.fasta, output:/tmp/sepp/output.y5qg84lx/root/P_5/pplacer.extended.1.cdjayn6x.jplace\n",
      "[15:13:08] jobs.py (line 131):     INFO: Finished hmmalign Job with input: model:/tmp/sepp/output.y5qg84lx/root/P_11/A_11_0/hmmbuild.model.le66j94q, fragments:/tmp/sepp/output.y5qg84lx/root/P_11/A_11_0/FC_11_0_2/hmmalign.frag.lvbljj5c.fasta, trim:False, base_alignment:/tmp/sepp/output.y5qg84lx/root/P_11/A_11_0/hmmbuild.input.k46kf4ck.fasta\n",
      "[15:13:08] jobs.py (line 131):     INFO: Finished pplacer Job with input: backbone_alignment_file:/tmp/sepp/output.y5qg84lx/root/P_1/pplacer.backbone.qr093shk.fasta, tree_file:/tmp/sepp/output.y5qg84lx/root/P_1/pplacer.tree.qmt3ygxx.tre, info_file:/home/lauro/anaconda3/envs/qiime2-2021.11/lib/python3.8/site-packages/picrust2/default_files/prokaryotic/pro_ref/pro_ref.raxml_info, extended alignment:/tmp/sepp/output.y5qg84lx/root/P_1/pplacer.extended.0.deq29m2c.fasta, output:/tmp/sepp/output.y5qg84lx/root/P_1/pplacer.extended.0.deq29m2c.jplace\n",
      "[15:13:09] jobs.py (line 131):     INFO: Finished hmmalign Job with input: model:/tmp/sepp/output.y5qg84lx/root/P_11/A_11_0/hmmbuild.model.le66j94q, fragments:/tmp/sepp/output.y5qg84lx/root/P_11/A_11_0/FC_11_0_0/hmmalign.frag.xqcegf_5.fasta, trim:False, base_alignment:/tmp/sepp/output.y5qg84lx/root/P_11/A_11_0/hmmbuild.input.k46kf4ck.fasta\n",
      "[15:13:09] jobs.py (line 131):     INFO: Finished hmmalign Job with input: model:/tmp/sepp/output.y5qg84lx/root/P_11/A_11_0/hmmbuild.model.le66j94q, fragments:/tmp/sepp/output.y5qg84lx/root/P_11/A_11_0/FC_11_0_1/hmmalign.frag.6579j3rk.fasta, trim:False, base_alignment:/tmp/sepp/output.y5qg84lx/root/P_11/A_11_0/hmmbuild.input.k46kf4ck.fasta\n",
      "[15:13:09] exhaustive.py (line 151):     INFO: Merging sub-alignments for placement problem : P_11.\n",
      "[15:13:09] alignment.py (line 556):     INFO: Merging extension sto file (/tmp/sepp/output.y5qg84lx/root/P_11/A_11_0/FC_11_0_0/hmmalign.results.90a30qg3) into base alignment (/tmp/sepp/output.y5qg84lx/root/P_11/A_11_0/hmmbuild.input.k46kf4ck.fasta).\n",
      "[15:13:09] alignment.py (line 556):     INFO: Merging extension sto file (/tmp/sepp/output.y5qg84lx/root/P_11/A_11_0/FC_11_0_1/hmmalign.results.0e5vhbty) into base alignment (/tmp/sepp/output.y5qg84lx/root/P_11/A_11_0/hmmbuild.input.k46kf4ck.fasta).\n",
      "[15:13:10] alignment.py (line 556):     INFO: Merging extension sto file (/tmp/sepp/output.y5qg84lx/root/P_11/A_11_0/FC_11_0_2/hmmalign.results.92k4kn7e) into base alignment (/tmp/sepp/output.y5qg84lx/root/P_11/A_11_0/hmmbuild.input.k46kf4ck.fasta).\n",
      "[15:13:10] jobs.py (line 131):     INFO: Finished pplacer Job with input: backbone_alignment_file:/tmp/sepp/output.y5qg84lx/root/P_1/pplacer.backbone.0ebkzxzh.fasta, tree_file:/tmp/sepp/output.y5qg84lx/root/P_1/pplacer.tree.pm0n656x.tre, info_file:/home/lauro/anaconda3/envs/qiime2-2021.11/lib/python3.8/site-packages/picrust2/default_files/prokaryotic/pro_ref/pro_ref.raxml_info, extended alignment:/tmp/sepp/output.y5qg84lx/root/P_1/pplacer.extended.1.3zqgqx0v.fasta, output:/tmp/sepp/output.y5qg84lx/root/P_1/pplacer.extended.1.3zqgqx0v.jplace\n",
      "[15:13:11] jobs.py (line 131):     INFO: Finished pplacer Job with input: backbone_alignment_file:/tmp/sepp/output.y5qg84lx/root/P_1/pplacer.backbone.r51i5y1r.fasta, tree_file:/tmp/sepp/output.y5qg84lx/root/P_1/pplacer.tree.jf1b9wvc.tre, info_file:/home/lauro/anaconda3/envs/qiime2-2021.11/lib/python3.8/site-packages/picrust2/default_files/prokaryotic/pro_ref/pro_ref.raxml_info, extended alignment:/tmp/sepp/output.y5qg84lx/root/P_1/pplacer.extended.2.buhhdw98.fasta, output:/tmp/sepp/output.y5qg84lx/root/P_1/pplacer.extended.2.buhhdw98.jplace\n",
      "[15:13:14] jobs.py (line 131):     INFO: Finished pplacer Job with input: backbone_alignment_file:/tmp/sepp/output.y5qg84lx/root/P_7/pplacer.backbone.r5cknuis.fasta, tree_file:/tmp/sepp/output.y5qg84lx/root/P_7/pplacer.tree.yd8llkef.tre, info_file:/home/lauro/anaconda3/envs/qiime2-2021.11/lib/python3.8/site-packages/picrust2/default_files/prokaryotic/pro_ref/pro_ref.raxml_info, extended alignment:/tmp/sepp/output.y5qg84lx/root/P_7/pplacer.extended.0.c2pqjgbx.fasta, output:/tmp/sepp/output.y5qg84lx/root/P_7/pplacer.extended.0.c2pqjgbx.jplace\n",
      "[15:13:17] jobs.py (line 131):     INFO: Finished pplacer Job with input: backbone_alignment_file:/tmp/sepp/output.y5qg84lx/root/P_7/pplacer.backbone.79hwsle8.fasta, tree_file:/tmp/sepp/output.y5qg84lx/root/P_7/pplacer.tree.i378ro6b.tre, info_file:/home/lauro/anaconda3/envs/qiime2-2021.11/lib/python3.8/site-packages/picrust2/default_files/prokaryotic/pro_ref/pro_ref.raxml_info, extended alignment:/tmp/sepp/output.y5qg84lx/root/P_7/pplacer.extended.1.ii0hdbmg.fasta, output:/tmp/sepp/output.y5qg84lx/root/P_7/pplacer.extended.1.ii0hdbmg.jplace\n",
      "[15:13:17] jobs.py (line 131):     INFO: Finished pplacer Job with input: backbone_alignment_file:/tmp/sepp/output.y5qg84lx/root/P_8/pplacer.backbone.jeazj5p6.fasta, tree_file:/tmp/sepp/output.y5qg84lx/root/P_8/pplacer.tree.v11fnqfe.tre, info_file:/home/lauro/anaconda3/envs/qiime2-2021.11/lib/python3.8/site-packages/picrust2/default_files/prokaryotic/pro_ref/pro_ref.raxml_info, extended alignment:/tmp/sepp/output.y5qg84lx/root/P_8/pplacer.extended.0.xnyky7yp.fasta, output:/tmp/sepp/output.y5qg84lx/root/P_8/pplacer.extended.0.xnyky7yp.jplace\n",
      "[15:13:17] jobs.py (line 131):     INFO: Finished pplacer Job with input: backbone_alignment_file:/tmp/sepp/output.y5qg84lx/root/P_7/pplacer.backbone.mf4ao0eb.fasta, tree_file:/tmp/sepp/output.y5qg84lx/root/P_7/pplacer.tree.j4_fr931.tre, info_file:/home/lauro/anaconda3/envs/qiime2-2021.11/lib/python3.8/site-packages/picrust2/default_files/prokaryotic/pro_ref/pro_ref.raxml_info, extended alignment:/tmp/sepp/output.y5qg84lx/root/P_7/pplacer.extended.2.o7wenq7r.fasta, output:/tmp/sepp/output.y5qg84lx/root/P_7/pplacer.extended.2.o7wenq7r.jplace\n",
      "[15:13:18] jobs.py (line 131):     INFO: Finished pplacer Job with input: backbone_alignment_file:/tmp/sepp/output.y5qg84lx/root/P_6/pplacer.backbone.6g1l01_h.fasta, tree_file:/tmp/sepp/output.y5qg84lx/root/P_6/pplacer.tree.saw3aq0w.tre, info_file:/home/lauro/anaconda3/envs/qiime2-2021.11/lib/python3.8/site-packages/picrust2/default_files/prokaryotic/pro_ref/pro_ref.raxml_info, extended alignment:/tmp/sepp/output.y5qg84lx/root/P_6/pplacer.extended.2.uy5hx_wh.fasta, output:/tmp/sepp/output.y5qg84lx/root/P_6/pplacer.extended.2.uy5hx_wh.jplace\n",
      "[15:13:20] jobs.py (line 131):     INFO: Finished pplacer Job with input: backbone_alignment_file:/tmp/sepp/output.y5qg84lx/root/P_10/pplacer.backbone.kmvmunfi.fasta, tree_file:/tmp/sepp/output.y5qg84lx/root/P_10/pplacer.tree.pqnuclex.tre, info_file:/home/lauro/anaconda3/envs/qiime2-2021.11/lib/python3.8/site-packages/picrust2/default_files/prokaryotic/pro_ref/pro_ref.raxml_info, extended alignment:/tmp/sepp/output.y5qg84lx/root/P_10/pplacer.extended.0.336c920i.fasta, output:/tmp/sepp/output.y5qg84lx/root/P_10/pplacer.extended.0.336c920i.jplace\n",
      "[15:13:22] jobs.py (line 131):     INFO: Finished pplacer Job with input: backbone_alignment_file:/tmp/sepp/output.y5qg84lx/root/P_6/pplacer.backbone.fm5ew4bg.fasta, tree_file:/tmp/sepp/output.y5qg84lx/root/P_6/pplacer.tree.zh3d3x5w.tre, info_file:/home/lauro/anaconda3/envs/qiime2-2021.11/lib/python3.8/site-packages/picrust2/default_files/prokaryotic/pro_ref/pro_ref.raxml_info, extended alignment:/tmp/sepp/output.y5qg84lx/root/P_6/pplacer.extended.1.n537bblw.fasta, output:/tmp/sepp/output.y5qg84lx/root/P_6/pplacer.extended.1.n537bblw.jplace\n",
      "[15:13:22] jobs.py (line 131):     INFO: Finished pplacer Job with input: backbone_alignment_file:/tmp/sepp/output.y5qg84lx/root/P_8/pplacer.backbone.0lsgqdo1.fasta, tree_file:/tmp/sepp/output.y5qg84lx/root/P_8/pplacer.tree.yqg2d8_a.tre, info_file:/home/lauro/anaconda3/envs/qiime2-2021.11/lib/python3.8/site-packages/picrust2/default_files/prokaryotic/pro_ref/pro_ref.raxml_info, extended alignment:/tmp/sepp/output.y5qg84lx/root/P_8/pplacer.extended.1.97pyfurg.fasta, output:/tmp/sepp/output.y5qg84lx/root/P_8/pplacer.extended.1.97pyfurg.jplace\n",
      "[15:13:22] jobs.py (line 131):     INFO: Finished pplacer Job with input: backbone_alignment_file:/tmp/sepp/output.y5qg84lx/root/P_8/pplacer.backbone.e35_0vhp.fasta, tree_file:/tmp/sepp/output.y5qg84lx/root/P_8/pplacer.tree.giyqw1x8.tre, info_file:/home/lauro/anaconda3/envs/qiime2-2021.11/lib/python3.8/site-packages/picrust2/default_files/prokaryotic/pro_ref/pro_ref.raxml_info, extended alignment:/tmp/sepp/output.y5qg84lx/root/P_8/pplacer.extended.2.ac20drjf.fasta, output:/tmp/sepp/output.y5qg84lx/root/P_8/pplacer.extended.2.ac20drjf.jplace\n",
      "[15:13:24] jobs.py (line 131):     INFO: Finished pplacer Job with input: backbone_alignment_file:/tmp/sepp/output.y5qg84lx/root/P_6/pplacer.backbone.ct7ar3ht.fasta, tree_file:/tmp/sepp/output.y5qg84lx/root/P_6/pplacer.tree.oen7gfm2.tre, info_file:/home/lauro/anaconda3/envs/qiime2-2021.11/lib/python3.8/site-packages/picrust2/default_files/prokaryotic/pro_ref/pro_ref.raxml_info, extended alignment:/tmp/sepp/output.y5qg84lx/root/P_6/pplacer.extended.0.gu0_vhaf.fasta, output:/tmp/sepp/output.y5qg84lx/root/P_6/pplacer.extended.0.gu0_vhaf.jplace\n",
      "[15:13:24] jobs.py (line 131):     INFO: Finished pplacer Job with input: backbone_alignment_file:/tmp/sepp/output.y5qg84lx/root/P_10/pplacer.backbone.3n5zle5v.fasta, tree_file:/tmp/sepp/output.y5qg84lx/root/P_10/pplacer.tree.q1mdtpm4.tre, info_file:/home/lauro/anaconda3/envs/qiime2-2021.11/lib/python3.8/site-packages/picrust2/default_files/prokaryotic/pro_ref/pro_ref.raxml_info, extended alignment:/tmp/sepp/output.y5qg84lx/root/P_10/pplacer.extended.2.tk45h_h5.fasta, output:/tmp/sepp/output.y5qg84lx/root/P_10/pplacer.extended.2.tk45h_h5.jplace\n",
      "[15:13:25] jobs.py (line 131):     INFO: Finished pplacer Job with input: backbone_alignment_file:/tmp/sepp/output.y5qg84lx/root/P_10/pplacer.backbone.bmt_7bn5.fasta, tree_file:/tmp/sepp/output.y5qg84lx/root/P_10/pplacer.tree.onl8rpno.tre, info_file:/home/lauro/anaconda3/envs/qiime2-2021.11/lib/python3.8/site-packages/picrust2/default_files/prokaryotic/pro_ref/pro_ref.raxml_info, extended alignment:/tmp/sepp/output.y5qg84lx/root/P_10/pplacer.extended.1.yyiborsc.fasta, output:/tmp/sepp/output.y5qg84lx/root/P_10/pplacer.extended.1.yyiborsc.jplace\n",
      "[15:13:29] jobs.py (line 131):     INFO: Finished pplacer Job with input: backbone_alignment_file:/tmp/sepp/output.y5qg84lx/root/P_9/pplacer.backbone.z55_jc2c.fasta, tree_file:/tmp/sepp/output.y5qg84lx/root/P_9/pplacer.tree.gpb8biej.tre, info_file:/home/lauro/anaconda3/envs/qiime2-2021.11/lib/python3.8/site-packages/picrust2/default_files/prokaryotic/pro_ref/pro_ref.raxml_info, extended alignment:/tmp/sepp/output.y5qg84lx/root/P_9/pplacer.extended.0.xu2395i7.fasta, output:/tmp/sepp/output.y5qg84lx/root/P_9/pplacer.extended.0.xu2395i7.jplace\n",
      "[15:13:30] jobs.py (line 131):     INFO: Finished pplacer Job with input: backbone_alignment_file:/tmp/sepp/output.y5qg84lx/root/P_9/pplacer.backbone.1ngl5_uw.fasta, tree_file:/tmp/sepp/output.y5qg84lx/root/P_9/pplacer.tree.tz_og4_w.tre, info_file:/home/lauro/anaconda3/envs/qiime2-2021.11/lib/python3.8/site-packages/picrust2/default_files/prokaryotic/pro_ref/pro_ref.raxml_info, extended alignment:/tmp/sepp/output.y5qg84lx/root/P_9/pplacer.extended.2.qjq210qs.fasta, output:/tmp/sepp/output.y5qg84lx/root/P_9/pplacer.extended.2.qjq210qs.jplace\n",
      "[15:13:35] jobs.py (line 131):     INFO: Finished pplacer Job with input: backbone_alignment_file:/tmp/sepp/output.y5qg84lx/root/P_14/pplacer.backbone.guid6v4b.fasta, tree_file:/tmp/sepp/output.y5qg84lx/root/P_14/pplacer.tree.wwmllx5o.tre, info_file:/home/lauro/anaconda3/envs/qiime2-2021.11/lib/python3.8/site-packages/picrust2/default_files/prokaryotic/pro_ref/pro_ref.raxml_info, extended alignment:/tmp/sepp/output.y5qg84lx/root/P_14/pplacer.extended.0.3pgy3p23.fasta, output:/tmp/sepp/output.y5qg84lx/root/P_14/pplacer.extended.0.3pgy3p23.jplace\n",
      "[15:13:35] jobs.py (line 131):     INFO: Finished pplacer Job with input: backbone_alignment_file:/tmp/sepp/output.y5qg84lx/root/P_9/pplacer.backbone.6esw8ucs.fasta, tree_file:/tmp/sepp/output.y5qg84lx/root/P_9/pplacer.tree.r0l3xtvt.tre, info_file:/home/lauro/anaconda3/envs/qiime2-2021.11/lib/python3.8/site-packages/picrust2/default_files/prokaryotic/pro_ref/pro_ref.raxml_info, extended alignment:/tmp/sepp/output.y5qg84lx/root/P_9/pplacer.extended.1.uho814um.fasta, output:/tmp/sepp/output.y5qg84lx/root/P_9/pplacer.extended.1.uho814um.jplace\n",
      "[15:13:36] jobs.py (line 131):     INFO: Finished pplacer Job with input: backbone_alignment_file:/tmp/sepp/output.y5qg84lx/root/P_14/pplacer.backbone._nyzl_uu.fasta, tree_file:/tmp/sepp/output.y5qg84lx/root/P_14/pplacer.tree.vmlyxgdx.tre, info_file:/home/lauro/anaconda3/envs/qiime2-2021.11/lib/python3.8/site-packages/picrust2/default_files/prokaryotic/pro_ref/pro_ref.raxml_info, extended alignment:/tmp/sepp/output.y5qg84lx/root/P_14/pplacer.extended.1.tztccyko.fasta, output:/tmp/sepp/output.y5qg84lx/root/P_14/pplacer.extended.1.tztccyko.jplace\n",
      "[15:13:37] jobs.py (line 131):     INFO: Finished pplacer Job with input: backbone_alignment_file:/tmp/sepp/output.y5qg84lx/root/P_12/pplacer.backbone.a0w_tiaj.fasta, tree_file:/tmp/sepp/output.y5qg84lx/root/P_12/pplacer.tree.qdrgla54.tre, info_file:/home/lauro/anaconda3/envs/qiime2-2021.11/lib/python3.8/site-packages/picrust2/default_files/prokaryotic/pro_ref/pro_ref.raxml_info, extended alignment:/tmp/sepp/output.y5qg84lx/root/P_12/pplacer.extended.0.q1i6zodr.fasta, output:/tmp/sepp/output.y5qg84lx/root/P_12/pplacer.extended.0.q1i6zodr.jplace\n",
      "[15:13:38] jobs.py (line 131):     INFO: Finished pplacer Job with input: backbone_alignment_file:/tmp/sepp/output.y5qg84lx/root/P_12/pplacer.backbone.467tfcqb.fasta, tree_file:/tmp/sepp/output.y5qg84lx/root/P_12/pplacer.tree.szv10u73.tre, info_file:/home/lauro/anaconda3/envs/qiime2-2021.11/lib/python3.8/site-packages/picrust2/default_files/prokaryotic/pro_ref/pro_ref.raxml_info, extended alignment:/tmp/sepp/output.y5qg84lx/root/P_12/pplacer.extended.2.lsh9hthe.fasta, output:/tmp/sepp/output.y5qg84lx/root/P_12/pplacer.extended.2.lsh9hthe.jplace\n",
      "[15:13:38] jobs.py (line 131):     INFO: Finished pplacer Job with input: backbone_alignment_file:/tmp/sepp/output.y5qg84lx/root/P_14/pplacer.backbone._u4din2j.fasta, tree_file:/tmp/sepp/output.y5qg84lx/root/P_14/pplacer.tree.ts6lz21_.tre, info_file:/home/lauro/anaconda3/envs/qiime2-2021.11/lib/python3.8/site-packages/picrust2/default_files/prokaryotic/pro_ref/pro_ref.raxml_info, extended alignment:/tmp/sepp/output.y5qg84lx/root/P_14/pplacer.extended.2.61l28x13.fasta, output:/tmp/sepp/output.y5qg84lx/root/P_14/pplacer.extended.2.61l28x13.jplace\n",
      "[15:13:40] jobs.py (line 131):     INFO: Finished pplacer Job with input: backbone_alignment_file:/tmp/sepp/output.y5qg84lx/root/P_12/pplacer.backbone.84bmn379.fasta, tree_file:/tmp/sepp/output.y5qg84lx/root/P_12/pplacer.tree.ix4vd2rg.tre, info_file:/home/lauro/anaconda3/envs/qiime2-2021.11/lib/python3.8/site-packages/picrust2/default_files/prokaryotic/pro_ref/pro_ref.raxml_info, extended alignment:/tmp/sepp/output.y5qg84lx/root/P_12/pplacer.extended.1.x1b8c55g.fasta, output:/tmp/sepp/output.y5qg84lx/root/P_12/pplacer.extended.1.x1b8c55g.jplace\n",
      "[15:13:42] jobs.py (line 131):     INFO: Finished pplacer Job with input: backbone_alignment_file:/tmp/sepp/output.y5qg84lx/root/P_13/pplacer.backbone.rye6lw3f.fasta, tree_file:/tmp/sepp/output.y5qg84lx/root/P_13/pplacer.tree._trpgqg0.tre, info_file:/home/lauro/anaconda3/envs/qiime2-2021.11/lib/python3.8/site-packages/picrust2/default_files/prokaryotic/pro_ref/pro_ref.raxml_info, extended alignment:/tmp/sepp/output.y5qg84lx/root/P_13/pplacer.extended.0.4i6qvbp_.fasta, output:/tmp/sepp/output.y5qg84lx/root/P_13/pplacer.extended.0.4i6qvbp_.jplace\n",
      "[15:13:42] jobs.py (line 131):     INFO: Finished pplacer Job with input: backbone_alignment_file:/tmp/sepp/output.y5qg84lx/root/P_15/pplacer.backbone.xt9333z4.fasta, tree_file:/tmp/sepp/output.y5qg84lx/root/P_15/pplacer.tree.9msxzrc2.tre, info_file:/home/lauro/anaconda3/envs/qiime2-2021.11/lib/python3.8/site-packages/picrust2/default_files/prokaryotic/pro_ref/pro_ref.raxml_info, extended alignment:/tmp/sepp/output.y5qg84lx/root/P_15/pplacer.extended.0.xuvcpnpe.fasta, output:/tmp/sepp/output.y5qg84lx/root/P_15/pplacer.extended.0.xuvcpnpe.jplace\n",
      "[15:13:43] jobs.py (line 131):     INFO: Finished pplacer Job with input: backbone_alignment_file:/tmp/sepp/output.y5qg84lx/root/P_13/pplacer.backbone.w6zyeqn3.fasta, tree_file:/tmp/sepp/output.y5qg84lx/root/P_13/pplacer.tree.yq0zchwl.tre, info_file:/home/lauro/anaconda3/envs/qiime2-2021.11/lib/python3.8/site-packages/picrust2/default_files/prokaryotic/pro_ref/pro_ref.raxml_info, extended alignment:/tmp/sepp/output.y5qg84lx/root/P_13/pplacer.extended.2.3i7xgq6b.fasta, output:/tmp/sepp/output.y5qg84lx/root/P_13/pplacer.extended.2.3i7xgq6b.jplace\n",
      "[15:13:45] jobs.py (line 131):     INFO: Finished pplacer Job with input: backbone_alignment_file:/tmp/sepp/output.y5qg84lx/root/P_13/pplacer.backbone.px0wzsb1.fasta, tree_file:/tmp/sepp/output.y5qg84lx/root/P_13/pplacer.tree.m5pphpwv.tre, info_file:/home/lauro/anaconda3/envs/qiime2-2021.11/lib/python3.8/site-packages/picrust2/default_files/prokaryotic/pro_ref/pro_ref.raxml_info, extended alignment:/tmp/sepp/output.y5qg84lx/root/P_13/pplacer.extended.1.6ia458rm.fasta, output:/tmp/sepp/output.y5qg84lx/root/P_13/pplacer.extended.1.6ia458rm.jplace\n",
      "[15:14:20] jobs.py (line 131):     INFO: Finished pplacer Job with input: backbone_alignment_file:/tmp/sepp/output.y5qg84lx/root/P_11/pplacer.backbone.c31keb6b.fasta, tree_file:/tmp/sepp/output.y5qg84lx/root/P_11/pplacer.tree.sbtkr92f.tre, info_file:/home/lauro/anaconda3/envs/qiime2-2021.11/lib/python3.8/site-packages/picrust2/default_files/prokaryotic/pro_ref/pro_ref.raxml_info, extended alignment:/tmp/sepp/output.y5qg84lx/root/P_11/pplacer.extended.0.cbxjh8fr.fasta, output:/tmp/sepp/output.y5qg84lx/root/P_11/pplacer.extended.0.cbxjh8fr.jplace\n",
      "[15:14:22] jobs.py (line 131):     INFO: Finished pplacer Job with input: backbone_alignment_file:/tmp/sepp/output.y5qg84lx/root/P_11/pplacer.backbone.1xe5ms44.fasta, tree_file:/tmp/sepp/output.y5qg84lx/root/P_11/pplacer.tree.tjnshfyb.tre, info_file:/home/lauro/anaconda3/envs/qiime2-2021.11/lib/python3.8/site-packages/picrust2/default_files/prokaryotic/pro_ref/pro_ref.raxml_info, extended alignment:/tmp/sepp/output.y5qg84lx/root/P_11/pplacer.extended.1.50kebz0a.fasta, output:/tmp/sepp/output.y5qg84lx/root/P_11/pplacer.extended.1.50kebz0a.jplace\n",
      "[15:14:24] jobs.py (line 131):     INFO: Finished pplacer Job with input: backbone_alignment_file:/tmp/sepp/output.y5qg84lx/root/P_11/pplacer.backbone.5yqptf9w.fasta, tree_file:/tmp/sepp/output.y5qg84lx/root/P_11/pplacer.tree.xr1b6y82.tre, info_file:/home/lauro/anaconda3/envs/qiime2-2021.11/lib/python3.8/site-packages/picrust2/default_files/prokaryotic/pro_ref/pro_ref.raxml_info, extended alignment:/tmp/sepp/output.y5qg84lx/root/P_11/pplacer.extended.2.fykhwx9v.fasta, output:/tmp/sepp/output.y5qg84lx/root/P_11/pplacer.extended.2.fykhwx9v.jplace\n",
      "[15:14:33] jobs.py (line 131):     INFO: Finished jsonmerger Job with input: input:pipe output:/tmp/tmphunbq5jc/picrust2_out/intermediate/place_seqs/sepp_out/output_placement.json\n",
      "[15:14:33] algorithm.py (line 195):     INFO: Current execution Finished in 171 seconds\n",
      "[15:14:33] algorithm.py (line 197):     INFO: All checkpointed executions Finished in 171 cumulative time\n",
      "\n",
      "gappa examine graft --jplace-path /tmp/tmphunbq5jc/picrust2_out/intermediate/place_seqs/sepp_out/output_placement.json --fully-resolve --out-dir /tmp/tmphunbq5jc/picrust2_out/intermediate/place_seqs/sepp_out\n",
      "\n",
      "mv /tmp/tmphunbq5jc/picrust2_out/intermediate/place_seqs/sepp_out/output_placement.newick /tmp/tmphunbq5jc/picrust2_out/out.tre\n",
      "\n",
      "Finished placing sequences on output tree: /tmp/tmphunbq5jc/picrust2_out/out.tre\n",
      "hsp.py --tree /tmp/tmphunbq5jc/picrust2_out/out.tre --output /tmp/tmphunbq5jc/picrust2_out/marker_predicted_and_nsti.tsv.gz --observed_trait_table /home/lauro/anaconda3/envs/qiime2-2021.11/lib/python3.8/site-packages/picrust2/default_files/prokaryotic/16S.txt.gz --hsp_method pic --edge_exponent 0.5 --seed 100 --calculate_NSTI --processes 1 --verbose\n"
     ]
    },
    {
     "name": "stdout",
     "output_type": "stream",
     "text": [
      "\n",
      "\n",
      "\n"
     ]
    },
    {
     "name": "stderr",
     "output_type": "stream",
     "text": [
      "Rscript /home/lauro/anaconda3/envs/qiime2-2021.11/lib/python3.8/site-packages/picrust2/Rscripts/castor_nsti.R /tmp/tmphunbq5jc/picrust2_out/out.tre /tmp/tmp_tsk73dj/known_tips.txt /tmp/tmp_tsk73dj/nsti_out.txt\n",
      "\n",
      "Rscript /home/lauro/anaconda3/envs/qiime2-2021.11/lib/python3.8/site-packages/picrust2/Rscripts/castor_hsp.R /tmp/tmphunbq5jc/picrust2_out/out.tre /tmp/tmpl02493ml/subset_tab_0 pic 0.5 FALSE FALSE /tmp/tmpkm5qle84/predicted_counts.txt /tmp/tmpkm5qle84/predicted_ci.txt 100\n",
      "\n",
      "\n",
      "hsp.py --tree /tmp/tmphunbq5jc/picrust2_out/out.tre --output /tmp/tmphunbq5jc/picrust2_out/EC_predicted.tsv.gz --observed_trait_table /home/lauro/anaconda3/envs/qiime2-2021.11/lib/python3.8/site-packages/picrust2/default_files/prokaryotic/ec.txt.gz --hsp_method pic --edge_exponent 0.5 --seed 100 --processes 6 --verbose\n"
     ]
    },
    {
     "name": "stdout",
     "output_type": "stream",
     "text": [
      "\n",
      "\n",
      "\n",
      "\n",
      "\n",
      "\n",
      "\n"
     ]
    },
    {
     "name": "stderr",
     "output_type": "stream",
     "text": [
      "Rscript /home/lauro/anaconda3/envs/qiime2-2021.11/lib/python3.8/site-packages/picrust2/Rscripts/castor_hsp.R /tmp/tmphunbq5jc/picrust2_out/out.tre /tmp/tmpt7ef3pcj/subset_tab_2 pic 0.5 FALSE FALSE /tmp/tmp6m3oa6x9/predicted_counts.txt /tmp/tmp6m3oa6x9/predicted_ci.txt 100\n",
      "\n",
      "Rscript /home/lauro/anaconda3/envs/qiime2-2021.11/lib/python3.8/site-packages/picrust2/Rscripts/castor_hsp.R /tmp/tmphunbq5jc/picrust2_out/out.tre /tmp/tmpt7ef3pcj/subset_tab_4 pic 0.5 FALSE FALSE /tmp/tmpe3apt0xg/predicted_counts.txt /tmp/tmpe3apt0xg/predicted_ci.txt 100\n",
      "\n",
      "Rscript /home/lauro/anaconda3/envs/qiime2-2021.11/lib/python3.8/site-packages/picrust2/Rscripts/castor_hsp.R /tmp/tmphunbq5jc/picrust2_out/out.tre /tmp/tmpt7ef3pcj/subset_tab_5 pic 0.5 FALSE FALSE /tmp/tmpsfryv1nq/predicted_counts.txt /tmp/tmpsfryv1nq/predicted_ci.txt 100\n",
      "\n",
      "Rscript /home/lauro/anaconda3/envs/qiime2-2021.11/lib/python3.8/site-packages/picrust2/Rscripts/castor_hsp.R /tmp/tmphunbq5jc/picrust2_out/out.tre /tmp/tmpt7ef3pcj/subset_tab_0 pic 0.5 FALSE FALSE /tmp/tmpqnokm6y3/predicted_counts.txt /tmp/tmpqnokm6y3/predicted_ci.txt 100\n",
      "\n",
      "Rscript /home/lauro/anaconda3/envs/qiime2-2021.11/lib/python3.8/site-packages/picrust2/Rscripts/castor_hsp.R /tmp/tmphunbq5jc/picrust2_out/out.tre /tmp/tmpt7ef3pcj/subset_tab_1 pic 0.5 FALSE FALSE /tmp/tmpmk0hdkpq/predicted_counts.txt /tmp/tmpmk0hdkpq/predicted_ci.txt 100\n",
      "\n",
      "Rscript /home/lauro/anaconda3/envs/qiime2-2021.11/lib/python3.8/site-packages/picrust2/Rscripts/castor_hsp.R /tmp/tmphunbq5jc/picrust2_out/out.tre /tmp/tmpt7ef3pcj/subset_tab_3 pic 0.5 FALSE FALSE /tmp/tmprx2ddmvh/predicted_counts.txt /tmp/tmprx2ddmvh/predicted_ci.txt 100\n",
      "\n",
      "\n",
      "hsp.py --tree /tmp/tmphunbq5jc/picrust2_out/out.tre --output /tmp/tmphunbq5jc/picrust2_out/KO_predicted.tsv.gz --observed_trait_table /home/lauro/anaconda3/envs/qiime2-2021.11/lib/python3.8/site-packages/picrust2/default_files/prokaryotic/ko.txt.gz --hsp_method pic --edge_exponent 0.5 --seed 100 --processes 6 --verbose\n"
     ]
    },
    {
     "name": "stdout",
     "output_type": "stream",
     "text": [
      "\n",
      "\n",
      "\n",
      "\n",
      "\n",
      "\n",
      "\n",
      "\n",
      "\n",
      "\n",
      "\n",
      "\n",
      "\n",
      "\n",
      "\n",
      "\n",
      "\n",
      "\n",
      "\n",
      "\n",
      "\n",
      "\n",
      "\n"
     ]
    },
    {
     "name": "stderr",
     "output_type": "stream",
     "text": [
      "Rscript /home/lauro/anaconda3/envs/qiime2-2021.11/lib/python3.8/site-packages/picrust2/Rscripts/castor_hsp.R /tmp/tmphunbq5jc/picrust2_out/out.tre /tmp/tmpxfy8eobo/subset_tab_3 pic 0.5 FALSE FALSE /tmp/tmpwkdd2c3a/predicted_counts.txt /tmp/tmpwkdd2c3a/predicted_ci.txt 100\n",
      "\n",
      "Rscript /home/lauro/anaconda3/envs/qiime2-2021.11/lib/python3.8/site-packages/picrust2/Rscripts/castor_hsp.R /tmp/tmphunbq5jc/picrust2_out/out.tre /tmp/tmpxfy8eobo/subset_tab_10 pic 0.5 FALSE FALSE /tmp/tmpk04xitdm/predicted_counts.txt /tmp/tmpk04xitdm/predicted_ci.txt 100\n",
      "\n",
      "Rscript /home/lauro/anaconda3/envs/qiime2-2021.11/lib/python3.8/site-packages/picrust2/Rscripts/castor_hsp.R /tmp/tmphunbq5jc/picrust2_out/out.tre /tmp/tmpxfy8eobo/subset_tab_14 pic 0.5 FALSE FALSE /tmp/tmptximojj6/predicted_counts.txt /tmp/tmptximojj6/predicted_ci.txt 100\n",
      "\n",
      "Rscript /home/lauro/anaconda3/envs/qiime2-2021.11/lib/python3.8/site-packages/picrust2/Rscripts/castor_hsp.R /tmp/tmphunbq5jc/picrust2_out/out.tre /tmp/tmpxfy8eobo/subset_tab_2 pic 0.5 FALSE FALSE /tmp/tmpcyzrf65t/predicted_counts.txt /tmp/tmpcyzrf65t/predicted_ci.txt 100\n",
      "\n",
      "Rscript /home/lauro/anaconda3/envs/qiime2-2021.11/lib/python3.8/site-packages/picrust2/Rscripts/castor_hsp.R /tmp/tmphunbq5jc/picrust2_out/out.tre /tmp/tmpxfy8eobo/subset_tab_8 pic 0.5 FALSE FALSE /tmp/tmpy4xknkfi/predicted_counts.txt /tmp/tmpy4xknkfi/predicted_ci.txt 100\n",
      "\n",
      "Rscript /home/lauro/anaconda3/envs/qiime2-2021.11/lib/python3.8/site-packages/picrust2/Rscripts/castor_hsp.R /tmp/tmphunbq5jc/picrust2_out/out.tre /tmp/tmpxfy8eobo/subset_tab_15 pic 0.5 FALSE FALSE /tmp/tmpq3tzvm9s/predicted_counts.txt /tmp/tmpq3tzvm9s/predicted_ci.txt 100\n",
      "\n",
      "Rscript /home/lauro/anaconda3/envs/qiime2-2021.11/lib/python3.8/site-packages/picrust2/Rscripts/castor_hsp.R /tmp/tmphunbq5jc/picrust2_out/out.tre /tmp/tmpxfy8eobo/subset_tab_21 pic 0.5 FALSE FALSE /tmp/tmp4qrawgde/predicted_counts.txt /tmp/tmp4qrawgde/predicted_ci.txt 100\n",
      "\n",
      "Rscript /home/lauro/anaconda3/envs/qiime2-2021.11/lib/python3.8/site-packages/picrust2/Rscripts/castor_hsp.R /tmp/tmphunbq5jc/picrust2_out/out.tre /tmp/tmpxfy8eobo/subset_tab_4 pic 0.5 FALSE FALSE /tmp/tmpmwjxvvwv/predicted_counts.txt /tmp/tmpmwjxvvwv/predicted_ci.txt 100\n",
      "\n",
      "Rscript /home/lauro/anaconda3/envs/qiime2-2021.11/lib/python3.8/site-packages/picrust2/Rscripts/castor_hsp.R /tmp/tmphunbq5jc/picrust2_out/out.tre /tmp/tmpxfy8eobo/subset_tab_11 pic 0.5 FALSE FALSE /tmp/tmp8uzp4nsm/predicted_counts.txt /tmp/tmp8uzp4nsm/predicted_ci.txt 100\n",
      "\n",
      "Rscript /home/lauro/anaconda3/envs/qiime2-2021.11/lib/python3.8/site-packages/picrust2/Rscripts/castor_hsp.R /tmp/tmphunbq5jc/picrust2_out/out.tre /tmp/tmpxfy8eobo/subset_tab_17 pic 0.5 FALSE FALSE /tmp/tmp5ly5pf07/predicted_counts.txt /tmp/tmp5ly5pf07/predicted_ci.txt 100\n",
      "\n",
      "Rscript /home/lauro/anaconda3/envs/qiime2-2021.11/lib/python3.8/site-packages/picrust2/Rscripts/castor_hsp.R /tmp/tmphunbq5jc/picrust2_out/out.tre /tmp/tmpxfy8eobo/subset_tab_5 pic 0.5 FALSE FALSE /tmp/tmpbqw7qmhx/predicted_counts.txt /tmp/tmpbqw7qmhx/predicted_ci.txt 100\n",
      "\n",
      "Rscript /home/lauro/anaconda3/envs/qiime2-2021.11/lib/python3.8/site-packages/picrust2/Rscripts/castor_hsp.R /tmp/tmphunbq5jc/picrust2_out/out.tre /tmp/tmpxfy8eobo/subset_tab_7 pic 0.5 FALSE FALSE /tmp/tmpqmt4ji6g/predicted_counts.txt /tmp/tmpqmt4ji6g/predicted_ci.txt 100\n",
      "\n",
      "Rscript /home/lauro/anaconda3/envs/qiime2-2021.11/lib/python3.8/site-packages/picrust2/Rscripts/castor_hsp.R /tmp/tmphunbq5jc/picrust2_out/out.tre /tmp/tmpxfy8eobo/subset_tab_13 pic 0.5 FALSE FALSE /tmp/tmpb147hccp/predicted_counts.txt /tmp/tmpb147hccp/predicted_ci.txt 100\n",
      "\n",
      "Rscript /home/lauro/anaconda3/envs/qiime2-2021.11/lib/python3.8/site-packages/picrust2/Rscripts/castor_hsp.R /tmp/tmphunbq5jc/picrust2_out/out.tre /tmp/tmpxfy8eobo/subset_tab_18 pic 0.5 FALSE FALSE /tmp/tmptmplruk1/predicted_counts.txt /tmp/tmptmplruk1/predicted_ci.txt 100\n",
      "\n",
      "Rscript /home/lauro/anaconda3/envs/qiime2-2021.11/lib/python3.8/site-packages/picrust2/Rscripts/castor_hsp.R /tmp/tmphunbq5jc/picrust2_out/out.tre /tmp/tmpxfy8eobo/subset_tab_0 pic 0.5 FALSE FALSE /tmp/tmpkh9gqqo_/predicted_counts.txt /tmp/tmpkh9gqqo_/predicted_ci.txt 100\n",
      "\n",
      "Rscript /home/lauro/anaconda3/envs/qiime2-2021.11/lib/python3.8/site-packages/picrust2/Rscripts/castor_hsp.R /tmp/tmphunbq5jc/picrust2_out/out.tre /tmp/tmpxfy8eobo/subset_tab_6 pic 0.5 FALSE FALSE /tmp/tmpgidif6pf/predicted_counts.txt /tmp/tmpgidif6pf/predicted_ci.txt 100\n",
      "\n",
      "Rscript /home/lauro/anaconda3/envs/qiime2-2021.11/lib/python3.8/site-packages/picrust2/Rscripts/castor_hsp.R /tmp/tmphunbq5jc/picrust2_out/out.tre /tmp/tmpxfy8eobo/subset_tab_12 pic 0.5 FALSE FALSE /tmp/tmpyhjt4b8u/predicted_counts.txt /tmp/tmpyhjt4b8u/predicted_ci.txt 100\n",
      "\n",
      "Rscript /home/lauro/anaconda3/envs/qiime2-2021.11/lib/python3.8/site-packages/picrust2/Rscripts/castor_hsp.R /tmp/tmphunbq5jc/picrust2_out/out.tre /tmp/tmpxfy8eobo/subset_tab_19 pic 0.5 FALSE FALSE /tmp/tmph6muxoqk/predicted_counts.txt /tmp/tmph6muxoqk/predicted_ci.txt 100\n",
      "\n",
      "Rscript /home/lauro/anaconda3/envs/qiime2-2021.11/lib/python3.8/site-packages/picrust2/Rscripts/castor_hsp.R /tmp/tmphunbq5jc/picrust2_out/out.tre /tmp/tmpxfy8eobo/subset_tab_1 pic 0.5 FALSE FALSE /tmp/tmpeiv1hz1a/predicted_counts.txt /tmp/tmpeiv1hz1a/predicted_ci.txt 100\n",
      "\n",
      "Rscript /home/lauro/anaconda3/envs/qiime2-2021.11/lib/python3.8/site-packages/picrust2/Rscripts/castor_hsp.R /tmp/tmphunbq5jc/picrust2_out/out.tre /tmp/tmpxfy8eobo/subset_tab_9 pic 0.5 FALSE FALSE /tmp/tmp3zystmv0/predicted_counts.txt /tmp/tmp3zystmv0/predicted_ci.txt 100\n",
      "\n",
      "Rscript /home/lauro/anaconda3/envs/qiime2-2021.11/lib/python3.8/site-packages/picrust2/Rscripts/castor_hsp.R /tmp/tmphunbq5jc/picrust2_out/out.tre /tmp/tmpxfy8eobo/subset_tab_16 pic 0.5 FALSE FALSE /tmp/tmp1l8ek5dk/predicted_counts.txt /tmp/tmp1l8ek5dk/predicted_ci.txt 100\n",
      "\n",
      "Rscript /home/lauro/anaconda3/envs/qiime2-2021.11/lib/python3.8/site-packages/picrust2/Rscripts/castor_hsp.R /tmp/tmphunbq5jc/picrust2_out/out.tre /tmp/tmpxfy8eobo/subset_tab_20 pic 0.5 FALSE FALSE /tmp/tmpit0_qxhe/predicted_counts.txt /tmp/tmpit0_qxhe/predicted_ci.txt 100\n",
      "\n",
      "\n",
      "Running metagenome pipeline for EC\n",
      "metagenome_pipeline.py --input /tmp/tmphunbq5jc/intable.biom --function /tmp/tmphunbq5jc/picrust2_out/EC_predicted.tsv.gz --min_reads 1 --min_samples 1 --out_dir /tmp/tmphunbq5jc/picrust2_out/EC_metagenome_out --max_nsti 2 --marker /tmp/tmphunbq5jc/picrust2_out/marker_predicted_and_nsti.tsv.gz\n"
     ]
    },
    {
     "name": "stdout",
     "output_type": "stream",
     "text": [
      "\n"
     ]
    },
    {
     "name": "stderr",
     "output_type": "stream",
     "text": [
      "1 of 1249 ASVs were above the max NSTI cut-off of 2.0 and were removed from the downstream analyses.\n",
      "\n",
      "Running metagenome pipeline for KO\n",
      "metagenome_pipeline.py --input /tmp/tmphunbq5jc/intable.biom --function /tmp/tmphunbq5jc/picrust2_out/KO_predicted.tsv.gz --min_reads 1 --min_samples 1 --out_dir /tmp/tmphunbq5jc/picrust2_out/KO_metagenome_out --max_nsti 2 --marker /tmp/tmphunbq5jc/picrust2_out/marker_predicted_and_nsti.tsv.gz\n"
     ]
    },
    {
     "name": "stdout",
     "output_type": "stream",
     "text": [
      "\n",
      "Inferring pathways from predicted EC\n"
     ]
    },
    {
     "name": "stderr",
     "output_type": "stream",
     "text": [
      "1 of 1249 ASVs were above the max NSTI cut-off of 2.0 and were removed from the downstream analyses.\n",
      "\n",
      "pathway_pipeline.py --input /tmp/tmphunbq5jc/picrust2_out/EC_metagenome_out/pred_metagenome_unstrat.tsv.gz --out_dir /tmp/tmphunbq5jc/picrust2_out/pathways_out --map /home/lauro/anaconda3/envs/qiime2-2021.11/lib/python3.8/site-packages/picrust2/default_files/pathway_mapfiles/metacyc_path2rxn_struc_filt_pro.txt --intermediate /tmp/tmphunbq5jc/picrust2_out/intermediate/pathways --proc 6 --regroup_map /home/lauro/anaconda3/envs/qiime2-2021.11/lib/python3.8/site-packages/picrust2/default_files/pathway_mapfiles/ec_level4_to_metacyc_rxn.tsv --verbose\n"
     ]
    },
    {
     "name": "stderr",
     "output_type": "stream",
     "text": [
      "\n",
      "Wrote predicted pathway abundances and coverages to /tmp/tmphunbq5jc/picrust2_out/pathways_out\n"
     ]
    }
   ],
   "source": [
    "need_pipeline = replace_files\n",
    "need_pipeline |= not (os.path.isfile(ec_path) and os.path.isfile(ko_path) and os.path.isfile(pathway_path))\n",
    "if need_pipeline:\n",
    "    results = picrust2.methods.full_pipeline(\n",
    "        table=tabs, \n",
    "        seq=seqs, \n",
    "        threads=6, \n",
    "        placement_tool='sepp',\n",
    "        hsp_method='pic', \n",
    "        max_nsti=2,\n",
    "        highly_verbose=True\n",
    "    )\n",
    "    ec_metagenome = results.ec_metagenome\n",
    "    ko_metagenome = results.ko_metagenome\n",
    "    pathway_abundance = results.pathway_abundance\n",
    "else:\n",
    "    ec_metagenome = Artifact.load(ec_path)\n",
    "    ko_metagenome = Artifact.load(ko_path)\n",
    "    pathway_abundance = Artifact.load(pathway_path)"
   ]
  },
  {
   "cell_type": "markdown",
   "id": "771308c4",
   "metadata": {
    "papermill": {
     "duration": 0.098643,
     "end_time": "2023-06-07T15:18:45.133859",
     "exception": false,
     "start_time": "2023-06-07T15:18:45.035216",
     "status": "completed"
    },
    "tags": []
   },
   "source": [
    "### Persist created artifacts\n",
    "\n",
    "We will define file paths and persist all artifacts. We start with `.qza` files. We will save the visualization files in sequence as `qzv` files. Finally, we save a `biom`-like file as `tsv` with brief descriptions of all functions."
   ]
  },
  {
   "cell_type": "code",
   "execution_count": 9,
   "id": "c680ab46",
   "metadata": {
    "ExecuteTime": {
     "end_time": "2022-11-09T19:20:47.646444Z",
     "start_time": "2022-11-09T19:20:47.643806Z"
    },
    "execution": {
     "iopub.execute_input": "2023-06-07T15:18:45.338619Z",
     "iopub.status.busy": "2023-06-07T15:18:45.337426Z",
     "iopub.status.idle": "2023-06-07T15:18:45.455680Z",
     "shell.execute_reply": "2023-06-07T15:18:45.454616Z"
    },
    "papermill": {
     "duration": 0.222837,
     "end_time": "2023-06-07T15:18:45.455911",
     "exception": false,
     "start_time": "2023-06-07T15:18:45.233074",
     "status": "completed"
    },
    "tags": []
   },
   "outputs": [],
   "source": [
    "if need_pipeline:\n",
    "    # Export artifact folder\n",
    "    ec_metagenome.export_data(output_dir=ec_path.split('.')[0])\n",
    "    ko_metagenome.export_data(output_dir=ko_path.split('.')[0])\n",
    "    pathway_abundance.export_data(output_dir=pathway_path.split('.')[0])\n",
    "    \n",
    "    # Save artifacts as .qza files\n",
    "    ec_metagenome.save(ec_path)\n",
    "    ko_metagenome.save(ko_path)\n",
    "    pathway_abundance.save(pathway_path)"
   ]
  },
  {
   "cell_type": "code",
   "execution_count": 10,
   "id": "d61ebec3",
   "metadata": {
    "ExecuteTime": {
     "end_time": "2022-11-09T19:20:47.687022Z",
     "start_time": "2022-11-09T19:20:47.647637Z"
    },
    "execution": {
     "iopub.execute_input": "2023-06-07T15:18:45.550253Z",
     "iopub.status.busy": "2023-06-07T15:18:45.549774Z",
     "iopub.status.idle": "2023-06-07T15:18:49.983117Z",
     "shell.execute_reply": "2023-06-07T15:18:49.982143Z"
    },
    "papermill": {
     "duration": 4.479915,
     "end_time": "2023-06-07T15:18:49.983338",
     "exception": false,
     "start_time": "2023-06-07T15:18:45.503423",
     "status": "completed"
    },
    "tags": []
   },
   "outputs": [],
   "source": [
    "need_viz = replace_files\n",
    "need_viz |= not (os.path.isfile(ec_viz_path) and os.path.isfile(ko_viz_path) and os.path.isfile(pathway_viz_path))\n",
    "if need_viz:\n",
    "    # Create visualization artifacts\n",
    "    ec_viz = summarize(table=ec_metagenome, sample_metadata=metadata_qa).visualization\n",
    "    ko_viz = summarize(table=ko_metagenome, sample_metadata=metadata_qa).visualization\n",
    "    path_viz = summarize(table=pathway_abundance, sample_metadata=metadata_qa).visualization\n",
    "\n",
    "    # Save visualization artifacts as .qzv files\n",
    "    ec_viz.save(ec_viz_path)\n",
    "    ko_viz.save(ko_viz_path)\n",
    "    path_viz.save(pathway_viz_path)"
   ]
  },
  {
   "cell_type": "code",
   "execution_count": 11,
   "id": "57f1f4d8",
   "metadata": {
    "ExecuteTime": {
     "end_time": "2022-11-09T19:20:47.704885Z",
     "start_time": "2022-11-09T19:20:47.689312Z"
    },
    "execution": {
     "iopub.execute_input": "2023-06-07T15:18:50.131723Z",
     "iopub.status.busy": "2023-06-07T15:18:50.129856Z",
     "iopub.status.idle": "2023-06-07T15:18:53.478270Z",
     "shell.execute_reply": "2023-06-07T15:18:53.479213Z"
    },
    "papermill": {
     "duration": 3.451062,
     "end_time": "2023-06-07T15:18:53.479493",
     "exception": false,
     "start_time": "2023-06-07T15:18:50.028431",
     "status": "completed"
    },
    "tags": []
   },
   "outputs": [],
   "source": [
    "need_biom = replace_files\n",
    "need_biom |= not (os.path.isfile(ec_fpath) and os.path.isfile(ko_fpath) and os.path.isfile(pathway_fpath))\n",
    "if need_biom:\n",
    "    # Convert artifact to dataframe - transposed\n",
    "    df_pathway = pathway_abundance.view(pd.DataFrame).T\n",
    "    df_ec = ec_metagenome.view(pd.DataFrame).T\n",
    "    df_ko = ko_metagenome.view(pd.DataFrame).T\n",
    "\n",
    "    # Write dataframe to a tsv file\n",
    "    df_pathway.to_csv(pathway_fpath, sep='\\t', index=True)\n",
    "    df_ec.to_csv(ec_fpath, sep='\\t', index=True)\n",
    "    df_ko.to_csv(ko_fpath, sep='\\t', index=True)\n",
    "    \n",
    "    # Put a new column with descriptions of each function's ID\n",
    "    !add_descriptions.py -i {ec_fpath} -m EC -o {ec_desc_fpath}\n",
    "    !add_descriptions.py -i {ko_fpath} -m KO -o {ko_desc_fpath}\n",
    "    !add_descriptions.py -i {pathway_fpath} -m METACYC -o {pathway_desc_fpath}"
   ]
  }
 ],
 "metadata": {
  "celltoolbar": "Edit Metadata",
  "kernelspec": {
   "display_name": "Python 3 (ipykernel)",
   "language": "python",
   "name": "python3"
  },
  "language_info": {
   "codemirror_mode": {
    "name": "ipython",
    "version": 3
   },
   "file_extension": ".py",
   "mimetype": "text/x-python",
   "name": "python",
   "nbconvert_exporter": "python",
   "pygments_lexer": "ipython3",
   "version": "3.8.12"
  },
  "papermill": {
   "default_parameters": {},
   "duration": 493.14253,
   "end_time": "2023-06-07T15:18:54.640626",
   "environment_variables": {},
   "exception": null,
   "input_path": "nb-templates/step-picrust2-analysis.ipynb",
   "output_path": "/home/lauro/nupeb/rede-micro/redemicro-ana-flavia-nutri/experiments/ana-flavia-STD-NCxSTD-NR-trim/nb-executed-steps/step-picrust2-analysis-ana-flavia-STD-NCxSTD-NR-trim.ipynb",
   "parameters": {
    "base_dir": "/home/lauro/nupeb/rede-micro/redemicro-ana-flavia-nutri",
    "class_col": "group-id",
    "classifier_file": "/home/lauro/nupeb/rede-micro/models/silva-138-99-nb-classifier.qza",
    "experiment_name": "ana-flavia-STD-NCxSTD-NR-trim",
    "manifest_file": "/home/lauro/nupeb/rede-micro/redemicro-ana-flavia-nutri/data/raw/manifest/manifest-ana-flavia-STD-NCxSTD-NR.csv",
    "metadata_file": "/home/lauro/nupeb/rede-micro/redemicro-ana-flavia-nutri/data/raw/metadata/metadata-ana-flavia-STD-NCxSTD-NR.tsv",
    "overlap": 12,
    "phred": 20,
    "replace_files": false,
    "threads": 6,
    "top_n": 20,
    "trim": {
     "forward_primer": "CCTACGGGRSGCAGCAG",
     "overlap": 8,
     "reverse_primer": "GGACTACHVGGGTWTCTAAT"
    },
    "trunc_f": 0,
    "trunc_r": 0
   },
   "start_time": "2023-06-07T15:10:41.498096",
   "version": "2.3.4"
  }
 },
 "nbformat": 4,
 "nbformat_minor": 5
}