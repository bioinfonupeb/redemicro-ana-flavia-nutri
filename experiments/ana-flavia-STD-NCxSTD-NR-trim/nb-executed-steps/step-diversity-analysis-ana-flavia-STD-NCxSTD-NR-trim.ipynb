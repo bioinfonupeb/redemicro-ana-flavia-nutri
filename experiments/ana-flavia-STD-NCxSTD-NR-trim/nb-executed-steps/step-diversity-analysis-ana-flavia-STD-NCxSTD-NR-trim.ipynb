{
 "cells": [
  {
   "cell_type": "markdown",
   "id": "15bcfa06",
   "metadata": {
    "papermill": {
     "duration": 0.027266,
     "end_time": "2024-02-01T22:51:52.001703",
     "exception": false,
     "start_time": "2024-02-01T22:51:51.974437",
     "status": "completed"
    },
    "tags": []
   },
   "source": [
    " \n",
    "# Alpha and Beta Diversity\n",
    "\n",
    "Different higher-level measures are often used to describe the microbiome in a sample. These do not provide information on changes in the abundance of specific taxa but allow us to access a broader change or difference in the composition of microorganisms. Alpha and beta diversity are examples of such measures.\n",
    "\n",
    "Different measures exist to estimate diversity within a single sample, jointly called alpha diversity. The different measures reflect the richness (number) or distribution (evenness) of a microbial sample or aim to reflect a combination of both properties.\n",
    "\n",
    "Rarefaction curves are often used when calculating alpha diversity indices because increasing numbers of sequenced taxa allow increasingly accurate estimates of total population diversity. Rarefaction curves can therefore be used to estimate the full sample richness, as compared to the observed sample richness.\n",
    "\n",
    "While alpha diversity is a measure of microbiome diversity applicable to a single sample, beta diversity is a measure of the similarity or dissimilarity of two communities. As for alpha diversity, many indices exist, each reflecting different aspects of community heterogeneity. Key differences relate to how the indices value variation in rare species if they consider presence/absence only or incorporate abundance, and how they interpret shared absence. Bray-Curtis dissimilarity is a popular measure that considers both size (overall abundance per sample) and shape (abundance of each taxon) of the communities (Bray, 1957). Beta diversity is an essential measure for many popular statistical methods in ecology, such as ordination-based methods, and is widely used for studying the association between environmental variables and microbial composition.\n",
    "\n",
    "In summary, alpha diversity measures can be seen as a summary statistic of a single population (within-sample diversity), while beta diversity measures are estimates of similarity or dissimilarity between populations (between samples).\n",
    "\n",
    "**Source**: (https://biomcare.com/info/key-terms-in-microbiome-projects/)"
   ]
  },
  {
   "cell_type": "markdown",
   "id": "0e7f2330",
   "metadata": {
    "ExecuteTime": {
     "end_time": "2022-09-22T19:36:33.828188Z",
     "start_time": "2022-09-22T19:36:33.817323Z"
    },
    "papermill": {
     "duration": 0.016965,
     "end_time": "2024-02-01T22:51:52.060424",
     "exception": false,
     "start_time": "2024-02-01T22:51:52.043459",
     "status": "completed"
    },
    "tags": []
   },
   "source": [
    "### STEP : Diversity Analysis\n",
    "\n",
    "Using QIIME2 to create diversity analisys graphs and calculations.\n",
    "\n",
    "- [QIIME2 Workflow Overview](https://docs.qiime2.org/2022.8/tutorials/overview/)\n",
    "\n",
    "\n",
    "#### Methods\n",
    "- [diversity](https://docs.qiime2.org/2022.8/plugins/available/diversity/)\n",
    "- [diversity alpha](https://docs.qiime2.org/2022.8/plugins/available/diversity/alpha/)\n",
    "- [diversity alpha_phylogenetic](https://docs.qiime2.org/2022.8/plugins/available/diversity/alpha-phylogenetic/)\n",
    "- [diversity beta](https://docs.qiime2.org/2022.8/plugins/available/diversity/beta/)\n",
    "- [diversity core_metrics](https://docs.qiime2.org/2022.8/plugins/available/diversity/core-metrics/)\n",
    "- [diversity alpha_group_significance](https://docs.qiime2.org/2022.8/plugins/available/diversity/alpha-group-significance/)\n",
    "- [diversity beta_group_significance](https://docs.qiime2.org/2022.8/plugins/available/diversity/beta-group-significance/)\n",
    "- [feature_table core_features](https://docs.qiime2.org/2022.8/plugins/available/feature-table/core-features/)\n",
    "- [feature_table summarize](https://docs.qiime2.org/2022.8/plugins/available/feature-table/summarize/)\n",
    "- [taxa filter-table](https://docs.qiime2.org/2022.8/plugins/available/taxa/filter-table/)\n",
    "- [taxa collapse](https://docs.qiime2.org/2022.8/plugins/available/taxa/collapse/)"
   ]
  },
  {
   "cell_type": "markdown",
   "id": "843debbf",
   "metadata": {
    "papermill": {
     "duration": 0.016287,
     "end_time": "2024-02-01T22:51:52.093166",
     "exception": false,
     "start_time": "2024-02-01T22:51:52.076879",
     "status": "completed"
    },
    "tags": []
   },
   "source": [
    "## Setup and settings"
   ]
  },
  {
   "cell_type": "code",
   "execution_count": 1,
   "id": "965e28e5",
   "metadata": {
    "ExecuteTime": {
     "end_time": "2022-11-03T20:35:26.198671Z",
     "start_time": "2022-11-03T20:35:06.473173Z"
    },
    "execution": {
     "iopub.execute_input": "2024-02-01T22:51:52.127160Z",
     "iopub.status.busy": "2024-02-01T22:51:52.126607Z",
     "iopub.status.idle": "2024-02-01T22:51:58.648985Z",
     "shell.execute_reply": "2024-02-01T22:51:58.648281Z"
    },
    "papermill": {
     "duration": 6.542935,
     "end_time": "2024-02-01T22:51:58.652203",
     "exception": false,
     "start_time": "2024-02-01T22:51:52.109268",
     "status": "completed"
    },
    "tags": []
   },
   "outputs": [],
   "source": [
    "# Importing packages\n",
    "import os\n",
    "import pandas as pd\n",
    "from qiime2 import Artifact\n",
    "from qiime2 import Visualization\n",
    "from qiime2 import Metadata\n",
    "\n",
    "from qiime2.plugins.phylogeny.pipelines import align_to_tree_mafft_fasttree\n",
    "\n",
    "from qiime2.plugins.diversity.pipelines import alpha\n",
    "from qiime2.plugins.diversity.pipelines import beta\n",
    "from qiime2.plugins.diversity.pipelines import core_metrics\n",
    "from qiime2.plugins.diversity.pipelines import alpha_phylogenetic\n",
    "\n",
    "from qiime2.plugins.diversity.visualizers import alpha_group_significance\n",
    "from qiime2.plugins.diversity.visualizers import beta_group_significance\n",
    "from qiime2.plugins.diversity.visualizers import alpha_correlation\n",
    "from qiime2.plugins.diversity.visualizers import beta_rarefaction\n",
    "\n",
    "from qiime2.plugins.taxa.methods import filter_table\n",
    "from qiime2.plugins.taxa.methods import collapse\n",
    "\n",
    "from qiime2.plugins.feature_table.visualizers import tabulate_seqs\n",
    "from qiime2.plugins.feature_table.visualizers import summarize\n",
    "from qiime2.plugins.feature_table.visualizers import core_features\n",
    "from qiime2.plugins.diversity.pipelines import core_metrics_phylogenetic\n",
    "\n",
    "from qiime2.plugins.feature_table.methods import filter_samples\n",
    "from qiime2.plugins.feature_table.methods import filter_seqs\n",
    "\n",
    "from qiime2.plugins.alignment.methods import mafft\n",
    "\n",
    "\n",
    "import matplotlib.pyplot as plt\n",
    "\n",
    "%matplotlib inline"
   ]
  },
  {
   "cell_type": "markdown",
   "id": "530ceb60",
   "metadata": {
    "papermill": {
     "duration": 0.042278,
     "end_time": "2024-02-01T22:51:58.737735",
     "exception": false,
     "start_time": "2024-02-01T22:51:58.695457",
     "status": "completed"
    },
    "tags": []
   },
   "source": [
    "### Receiving the parameters\n",
    "\n",
    "The following cell can receive parameters using the [papermill](https://papermill.readthedocs.io/en/latest/) tool."
   ]
  },
  {
   "cell_type": "code",
   "execution_count": 2,
   "id": "18d874ea",
   "metadata": {
    "ExecuteTime": {
     "end_time": "2022-09-29T20:54:14.793270Z",
     "start_time": "2022-09-29T20:54:14.789367Z"
    },
    "execution": {
     "iopub.execute_input": "2024-02-01T22:51:58.824825Z",
     "iopub.status.busy": "2024-02-01T22:51:58.824360Z",
     "iopub.status.idle": "2024-02-01T22:51:58.829346Z",
     "shell.execute_reply": "2024-02-01T22:51:58.828488Z"
    },
    "papermill": {
     "duration": 0.051191,
     "end_time": "2024-02-01T22:51:58.831088",
     "exception": false,
     "start_time": "2024-02-01T22:51:58.779897",
     "status": "completed"
    },
    "tags": [
     "parameters"
    ]
   },
   "outputs": [],
   "source": [
    "base_dir = os.path.join('/', 'home')\n",
    "metadata_file = os.path.abspath(os.path.join(base_dir, 'data', 'metadatada.tsv'))\n",
    "experiment_name = ''\n",
    "class_col = ''\n",
    "replace_files = False"
   ]
  },
  {
   "cell_type": "code",
   "execution_count": 3,
   "id": "caf92d30",
   "metadata": {
    "execution": {
     "iopub.execute_input": "2024-02-01T22:51:58.872770Z",
     "iopub.status.busy": "2024-02-01T22:51:58.872433Z",
     "iopub.status.idle": "2024-02-01T22:51:58.879148Z",
     "shell.execute_reply": "2024-02-01T22:51:58.878204Z"
    },
    "papermill": {
     "duration": 0.030077,
     "end_time": "2024-02-01T22:51:58.880833",
     "exception": false,
     "start_time": "2024-02-01T22:51:58.850756",
     "status": "completed"
    },
    "tags": [
     "injected-parameters"
    ]
   },
   "outputs": [],
   "source": [
    "# Parameters\n",
    "PAPERMILL_INPUT_PATH = \"nb-templates/step-diversity-analysis.ipynb\"\n",
    "PAPERMILL_OUTPUT_PATH = \"/home/lauro/nupeb/rede-micro/redemicro-ana-flavia-nutri/experiments/ana-flavia-STD-NCxSTD-NR-trim/nb-executed-steps/step-diversity-analysis-ana-flavia-STD-NCxSTD-NR-trim.ipynb\"\n",
    "experiment_name = \"ana-flavia-STD-NCxSTD-NR-trim\"\n",
    "base_dir = \"/home/lauro/nupeb/rede-micro/redemicro-ana-flavia-nutri\"\n",
    "manifest_file = \"/home/lauro/nupeb/rede-micro/redemicro-ana-flavia-nutri/data/raw/manifest/manifest-ana-flavia-STD-NCxSTD-NR.csv\"\n",
    "metadata_file = \"/home/lauro/nupeb/rede-micro/redemicro-ana-flavia-nutri/data/raw/metadata/metadata-ana-flavia-STD-NCxSTD-NR.tsv\"\n",
    "class_col = \"group-id\"\n",
    "classifier_file = \"/home/lauro/nupeb/rede-micro/models/silva-138-99-nb-classifier.qza\"\n",
    "top_n = 20\n",
    "replace_files = False\n",
    "phred = 20\n",
    "trunc_f = 0\n",
    "trunc_r = 0\n",
    "overlap = 12\n",
    "threads = 6\n",
    "trim = {\n",
    "    \"overlap\": 8,\n",
    "    \"forward_primer\": \"CCTACGGGRSGCAGCAG\",\n",
    "    \"reverse_primer\": \"GGACTACHVGGGTWTCTAAT\",\n",
    "}\n"
   ]
  },
  {
   "cell_type": "code",
   "execution_count": 4,
   "id": "f38617d9",
   "metadata": {
    "ExecuteTime": {
     "end_time": "2022-09-29T20:54:14.804575Z",
     "start_time": "2022-09-29T20:54:14.794927Z"
    },
    "execution": {
     "iopub.execute_input": "2024-02-01T22:51:58.920676Z",
     "iopub.status.busy": "2024-02-01T22:51:58.920221Z",
     "iopub.status.idle": "2024-02-01T22:51:58.926463Z",
     "shell.execute_reply": "2024-02-01T22:51:58.925139Z"
    },
    "papermill": {
     "duration": 0.029137,
     "end_time": "2024-02-01T22:51:58.929403",
     "exception": false,
     "start_time": "2024-02-01T22:51:58.900266",
     "status": "completed"
    },
    "tags": []
   },
   "outputs": [],
   "source": [
    "experiment_folder = os.path.abspath(os.path.join(base_dir, 'experiments', experiment_name))\n",
    "img_folder = os.path.abspath(os.path.join(experiment_folder, 'imgs'))"
   ]
  },
  {
   "cell_type": "markdown",
   "id": "ea9b90fb",
   "metadata": {
    "papermill": {
     "duration": 0.019603,
     "end_time": "2024-02-01T22:51:58.970902",
     "exception": false,
     "start_time": "2024-02-01T22:51:58.951299",
     "status": "completed"
    },
    "tags": []
   },
   "source": [
    "### Defining names, paths and flags"
   ]
  },
  {
   "cell_type": "code",
   "execution_count": 5,
   "id": "45727eef",
   "metadata": {
    "ExecuteTime": {
     "end_time": "2022-09-29T20:54:14.816686Z",
     "start_time": "2022-09-29T20:54:14.806238Z"
    },
    "execution": {
     "iopub.execute_input": "2024-02-01T22:51:59.014098Z",
     "iopub.status.busy": "2024-02-01T22:51:59.013859Z",
     "iopub.status.idle": "2024-02-01T22:51:59.020052Z",
     "shell.execute_reply": "2024-02-01T22:51:59.018893Z"
    },
    "papermill": {
     "duration": 0.026988,
     "end_time": "2024-02-01T22:51:59.023690",
     "exception": false,
     "start_time": "2024-02-01T22:51:58.996702",
     "status": "completed"
    },
    "tags": []
   },
   "outputs": [],
   "source": [
    "# QIIME2 Artifacts folder\n",
    "qiime_folder = os.path.join(experiment_folder, 'qiime-artifacts')\n",
    "\n",
    "# Input - DADA2 Artifacts\n",
    "dada2_tabs_path = os.path.join(qiime_folder, 'dada2-tabs.qza')\n",
    "dada2_reps_path = os.path.join(qiime_folder, 'dada2-reps.qza')\n",
    "dada2_stat_path = os.path.join(qiime_folder, 'dada2-stat.qza')\n",
    "\n",
    "# Input - Taxonaomic Artifacts\n",
    "taxonomy_path = os.path.join(qiime_folder, 'metatax.qza')\n",
    "\n",
    "# Create folder to store Alpha files\n",
    "alpha_path = os.path.join(qiime_folder, 'alpha-analysis')\n",
    "if not os.path.exists(alpha_path):\n",
    "    os.makedirs(alpha_path)\n",
    "    print(f'The new directory is created in {alpha_path}')\n",
    "    \n",
    "# Create folder to store Beta files\n",
    "beta_path = os.path.join(qiime_folder, 'beta-analysis')\n",
    "if not os.path.exists(beta_path):\n",
    "    os.makedirs(beta_path)\n",
    "    print(f'The new directory is created in {beta_path}')\n",
    "\n",
    "# Output -Diversity Artifacts\n",
    "alpha_diversity_path = os.path.join(alpha_path, 'alpha-diversity.qza')\n",
    "alpha_diversity_view_path = os.path.join(alpha_path, 'alpha-diversity.qzv')\n",
    "beta_diversity_path = os.path.join(beta_path, 'beta-diversity.qza')\n",
    "beta_diversity_view_path = os.path.join(beta_path, 'beta-diversity.qzv')"
   ]
  },
  {
   "cell_type": "code",
   "execution_count": 6,
   "id": "601ae263",
   "metadata": {
    "ExecuteTime": {
     "end_time": "2022-09-29T20:54:14.829117Z",
     "start_time": "2022-09-29T20:54:14.818272Z"
    },
    "execution": {
     "iopub.execute_input": "2024-02-01T22:51:59.063372Z",
     "iopub.status.busy": "2024-02-01T22:51:59.063004Z",
     "iopub.status.idle": "2024-02-01T22:51:59.071332Z",
     "shell.execute_reply": "2024-02-01T22:51:59.070665Z"
    },
    "papermill": {
     "duration": 0.028756,
     "end_time": "2024-02-01T22:51:59.072802",
     "exception": false,
     "start_time": "2024-02-01T22:51:59.044046",
     "status": "completed"
    },
    "tags": []
   },
   "outputs": [],
   "source": [
    "def filter_and_collapse(tab, seqs, tax, meta, lvl, exclude=True, exclude_list='uncultured,unidentified,metagenome'):\n",
    "    from qiime2.plugins.taxa.methods import collapse\n",
    "    from qiime2.plugins.taxa.methods import filter_table\n",
    "    from qiime2.plugins.feature_table.methods import filter_seqs\n",
    "    from qiime2.plugins.feature_table.visualizers import summarize\n",
    "    \n",
    "    to_include = ('d', 'p', 'c', 'o', 'f', 'g', 's')[lvl-1]\n",
    "    to_include += '__'\n",
    "    to_exclude = exclude_list if exclude else None\n",
    "    \n",
    "    filtered_tabs = filter_table(\n",
    "        table=tab, \n",
    "        taxonomy=tax,\n",
    "        include=to_include,\n",
    "        exclude=to_exclude,\n",
    "        mode='contains').filtered_table\n",
    "    \n",
    "    filtered_seqs = filter_seqs(\n",
    "        data = seqs,\n",
    "        table = filtered_tabs,\n",
    "    ).filtered_data\n",
    "    \n",
    "    collapsed_table = collapse(table=filtered_tabs, taxonomy=tax, level=lvl).collapsed_table\n",
    "    collapsed_table_view = summarize(table=collapsed_table, sample_metadata=meta).visualization\n",
    "    \n",
    "    return collapsed_table, collapsed_table_view, filtered_seqs"
   ]
  },
  {
   "cell_type": "markdown",
   "id": "0999a1b2",
   "metadata": {
    "papermill": {
     "duration": 0.01786,
     "end_time": "2024-02-01T22:51:59.111857",
     "exception": false,
     "start_time": "2024-02-01T22:51:59.093997",
     "status": "completed"
    },
    "tags": []
   },
   "source": [
    "## Step execution\n",
    "\n",
    "### Load input files\n",
    "\n",
    "This Step import the QIIME2 `FeatureTable[Frequency]` Artifact and the `Metadata` file."
   ]
  },
  {
   "cell_type": "code",
   "execution_count": 7,
   "id": "8f299d1a",
   "metadata": {
    "ExecuteTime": {
     "end_time": "2022-09-29T20:54:15.559837Z",
     "start_time": "2022-09-29T20:54:14.830405Z"
    },
    "execution": {
     "iopub.execute_input": "2024-02-01T22:51:59.150414Z",
     "iopub.status.busy": "2024-02-01T22:51:59.150034Z",
     "iopub.status.idle": "2024-02-01T22:52:01.450560Z",
     "shell.execute_reply": "2024-02-01T22:52:01.449503Z"
    },
    "papermill": {
     "duration": 2.324342,
     "end_time": "2024-02-01T22:52:01.454020",
     "exception": false,
     "start_time": "2024-02-01T22:51:59.129678",
     "status": "completed"
    },
    "tags": []
   },
   "outputs": [],
   "source": [
    "#Load Metadata\n",
    "metadata_qa = Metadata.load(metadata_file)\n",
    "\n",
    "#Load FeatureTable[Frequency]\n",
    "tabs = Artifact.load(dada2_tabs_path)\n",
    "tabs_df = tabs.view(Metadata).to_dataframe().T\n",
    "\n",
    "# FeatureData[Sequence]\n",
    "reps = Artifact.load(dada2_reps_path)\n",
    "\n",
    "# FeatureData[Taxonomy]\n",
    "tax = Artifact.load(taxonomy_path)"
   ]
  },
  {
   "cell_type": "code",
   "execution_count": 8,
   "id": "c8dfe530",
   "metadata": {
    "ExecuteTime": {
     "end_time": "2022-09-29T20:54:15.564968Z",
     "start_time": "2022-09-29T20:54:15.561875Z"
    },
    "execution": {
     "iopub.execute_input": "2024-02-01T22:52:01.504714Z",
     "iopub.status.busy": "2024-02-01T22:52:01.504193Z",
     "iopub.status.idle": "2024-02-01T22:52:02.941855Z",
     "shell.execute_reply": "2024-02-01T22:52:02.941114Z"
    },
    "papermill": {
     "duration": 1.462812,
     "end_time": "2024-02-01T22:52:02.945172",
     "exception": false,
     "start_time": "2024-02-01T22:52:01.482360",
     "status": "completed"
    },
    "tags": []
   },
   "outputs": [
    {
     "name": "stdout",
     "output_type": "stream",
     "text": [
      "{'min_frequency': 0, 'max_frequency': None, 'min_features': 0, 'max_features': None, 'metadata': Metadata\n",
      "--------\n",
      "14 IDs x 3 columns\n",
      "sample-name: ColumnProperties(type='categorical')\n",
      "group-id:    ColumnProperties(type='categorical')\n",
      "group-desc:  ColumnProperties(type='categorical')\n",
      "\n",
      "Call to_dataframe() for a tabular representation., 'where': None, 'exclude_ids': False, 'filter_empty_features': True, 'table': 2732 x 74 <class 'biom.table.Table'> with 12512 nonzero entries (6% dense)}\n",
      "{'min_frequency': 0, 'max_frequency': None, 'min_features': 0, 'max_features': None, 'metadata': Metadata\n",
      "--------\n",
      "14 IDs x 3 columns\n",
      "sample-name: ColumnProperties(type='categorical')\n",
      "group-id:    ColumnProperties(type='categorical')\n",
      "group-desc:  ColumnProperties(type='categorical')\n",
      "\n",
      "Call to_dataframe() for a tabular representation., 'where': None, 'exclude_ids': False, 'filter_empty_features': True, 'table': 2732 x 74 <class 'biom.table.Table'> with 12512 nonzero entries (6% dense)}\n"
     ]
    },
    {
     "name": "stdout",
     "output_type": "stream",
     "text": [
      "{'metadata': None, 'where': None, 'exclude_ids': False, 'data': c688e3b1ada46ed57f5b7e7e0d56664f    (((T)), ((G)), ((A)), ((G)), ((G)), ((A)), ((A...\n",
      "bc798de4a9acd3ff7ba51c244523be14    (((T)), ((G)), ((A)), ((G)), ((G)), ((A)), ((A...\n",
      "fca5b1ccd94b107a3ddf3e99feaafb6f    (((T)), ((G)), ((A)), ((G)), ((G)), ((A)), ((A...\n",
      "5ba9e679e692fcbf933c554317e03c5f    (((T)), ((A)), ((G)), ((G)), ((G)), ((A)), ((A...\n",
      "04581eba9e6fd12787fb5948fcef030f    (((T)), ((G)), ((A)), ((G)), ((G)), ((A)), ((A...\n",
      "                                                          ...                        \n",
      "dbc83a2f59a61f2cc57971a85718406b    (((T)), ((G)), ((G)), ((G)), ((G)), ((A)), ((A...\n",
      "4393f0be1354f7198d1969c44d34d44a    (((T)), ((G)), ((A)), ((G)), ((G)), ((A)), ((A...\n",
      "a86e1aaa4715133f8fa2c0f52e03e6d7    (((T)), ((G)), ((G)), ((G)), ((G)), ((A)), ((A...\n",
      "aa37170c6d59f9077a2644f8c25df05d    (((T)), ((G)), ((G)), ((G)), ((G)), ((A)), ((A...\n",
      "9c3f20cb7568feda60cc7776400d8d64    (((G)), ((A)), ((A)), ((A)), ((T)), ((G)), ((C...\n",
      "Length: 2732, dtype: object, 'table': 1263 x 14 <class 'biom.table.Table'> with 2817 nonzero entries (15% dense)}\n"
     ]
    },
    {
     "name": "stdout",
     "output_type": "stream",
     "text": [
      "{'metadata': None, 'where': None, 'exclude_ids': False, 'data': c688e3b1ada46ed57f5b7e7e0d56664f    (((T)), ((G)), ((A)), ((G)), ((G)), ((A)), ((A...\n",
      "bc798de4a9acd3ff7ba51c244523be14    (((T)), ((G)), ((A)), ((G)), ((G)), ((A)), ((A...\n",
      "fca5b1ccd94b107a3ddf3e99feaafb6f    (((T)), ((G)), ((A)), ((G)), ((G)), ((A)), ((A...\n",
      "5ba9e679e692fcbf933c554317e03c5f    (((T)), ((A)), ((G)), ((G)), ((G)), ((A)), ((A...\n",
      "04581eba9e6fd12787fb5948fcef030f    (((T)), ((G)), ((A)), ((G)), ((G)), ((A)), ((A...\n",
      "                                                          ...                        \n",
      "dbc83a2f59a61f2cc57971a85718406b    (((T)), ((G)), ((G)), ((G)), ((G)), ((A)), ((A...\n",
      "4393f0be1354f7198d1969c44d34d44a    (((T)), ((G)), ((A)), ((G)), ((G)), ((A)), ((A...\n",
      "a86e1aaa4715133f8fa2c0f52e03e6d7    (((T)), ((G)), ((G)), ((G)), ((G)), ((A)), ((A...\n",
      "aa37170c6d59f9077a2644f8c25df05d    (((T)), ((G)), ((G)), ((G)), ((G)), ((A)), ((A...\n",
      "9c3f20cb7568feda60cc7776400d8d64    (((G)), ((A)), ((A)), ((A)), ((T)), ((G)), ((C...\n",
      "Length: 2732, dtype: object, 'table': 1263 x 14 <class 'biom.table.Table'> with 2817 nonzero entries (15% dense)}\n"
     ]
    }
   ],
   "source": [
    "# Filter FeatureTable[Frequency | RelativeFrequency | PresenceAbsence | Composition] based on Metadata sample ID values\n",
    "tabs = filter_samples(\n",
    "    table=tabs,\n",
    "    metadata=metadata_qa,\n",
    ").filtered_table\n",
    "# Filter SampleData[SequencesWithQuality | PairedEndSequencesWithQuality | JoinedSequencesWithQuality] based on Metadata sample ID values; returns FeatureData[Sequence | AlignedSequence]\n",
    "reps = filter_seqs(\n",
    "    data=reps,\n",
    "    table=tabs,\n",
    ").filtered_data"
   ]
  },
  {
   "cell_type": "markdown",
   "id": "9f43843a",
   "metadata": {
    "ExecuteTime": {
     "end_time": "2022-09-22T22:48:07.523952Z",
     "start_time": "2022-09-22T22:48:07.517565Z"
    },
    "papermill": {
     "duration": 0.028706,
     "end_time": "2024-02-01T22:52:03.002016",
     "exception": false,
     "start_time": "2024-02-01T22:52:02.973310",
     "status": "completed"
    },
    "tags": []
   },
   "source": [
    "## Alpha diversity analysis\n",
    "\n",
    "#### Reference\n",
    "- [The Use and Types of Alpha-Diversity Metrics in Microbial NGS](https://www.cd-genomics.com/microbioseq/the-use-and-types-of-alpha-diversity-metrics-in-microbial-ngs.html)\n",
    "- [Alpha diversity metrics](http://scikit-bio.org/docs/0.2.0/generated/skbio.diversity.alpha.html)\n",
    "\n",
    "#### Methods\n",
    "- [diversity alpha](https://docs.qiime2.org/2022.8/plugins/available/diversity/alpha/): Computes a user-specified alpha diversity metric for all samples in a\n",
    "feature table.\n",
    "- [diversity alpha_phylogenetic](https://docs.qiime2.org/2022.8/plugins/available/diversity/alpha-phylogenetic/): Computes a user-specified phylogenetic alpha diversity metric for all\n",
    "samples in a feature table.\n",
    "- [diversity alpha_correlation](https://docs.qiime2.org/2022.8/plugins/available/diversity/alpha-correlation/): Determine whether numeric sample metadata columns are correlated with alpha diversity.\n",
    "- [diversity alpha_group_significance](https://docs.qiime2.org/2022.8/plugins/available/diversity/alpha-group-significance/): Visually and statistically compare groups of alpha diversity values."
   ]
  },
  {
   "cell_type": "markdown",
   "id": "606b9c75",
   "metadata": {
    "papermill": {
     "duration": 0.020581,
     "end_time": "2024-02-01T22:52:03.074797",
     "exception": false,
     "start_time": "2024-02-01T22:52:03.054216",
     "status": "completed"
    },
    "tags": []
   },
   "source": [
    "### Compute Alpha Diversity vectors\n",
    "- [diversity alpha](https://docs.qiime2.org/2022.8/plugins/available/diversity/alpha/): Computes a user-specified alpha diversity metric for all samples in a feature table.\n",
    "- [Alpha diversity metrics](http://scikit-bio.org/docs/0.2.0/generated/skbio.diversity.alpha.html)\n",
    " - Choices: ('ace', 'berger_parker_d', 'brillouin_d', 'chao1', 'chao1_ci', 'dominance', 'doubles', 'enspie', 'esty_ci', 'fisher_alpha', 'gini_index', 'goods_coverage', 'heip_e', 'kempton_taylor_q', 'lladser_pe', 'margalef', 'mcintosh_d', 'mcintosh_e', 'menhinick', 'michaelis_menten_fit', 'observed_features', 'osd', 'pielou_e', 'robbins', 'shannon', 'simpson', 'simpson_e', 'singles', 'strong')"
   ]
  },
  {
   "cell_type": "code",
   "execution_count": 9,
   "id": "556e5264",
   "metadata": {
    "ExecuteTime": {
     "end_time": "2022-09-29T20:54:20.790166Z",
     "start_time": "2022-09-29T20:54:20.451134Z"
    },
    "execution": {
     "iopub.execute_input": "2024-02-01T22:52:03.116825Z",
     "iopub.status.busy": "2024-02-01T22:52:03.116458Z",
     "iopub.status.idle": "2024-02-01T22:52:03.556765Z",
     "shell.execute_reply": "2024-02-01T22:52:03.555983Z"
    },
    "papermill": {
     "duration": 0.465104,
     "end_time": "2024-02-01T22:52:03.560106",
     "exception": false,
     "start_time": "2024-02-01T22:52:03.095002",
     "status": "completed"
    },
    "tags": []
   },
   "outputs": [
    {
     "name": "stdout",
     "output_type": "stream",
     "text": [
      "Calculating alpha diversity: chao1\n",
      "{'metric': 'chao1', 'table': <artifact: FeatureTable[Frequency] uuid: 58f5ac0d-b5f1-476a-b73a-80b954569b0c>}\n",
      "{'metric': 'chao1', 'table': 1263 x 14 <class 'biom.table.Table'> with 2817 nonzero entries (15% dense)}\n",
      "{'metric': 'chao1', 'table': 1263 x 14 <class 'biom.table.Table'> with 2817 nonzero entries (15% dense)}\n",
      "DONE: Calculating alpha diversity: chao1\n",
      "Calculating alpha diversity: chao1_ci\n",
      "{'metric': 'chao1_ci', 'table': <artifact: FeatureTable[Frequency] uuid: 58f5ac0d-b5f1-476a-b73a-80b954569b0c>}\n",
      "{'metric': 'chao1_ci', 'table': 1263 x 14 <class 'biom.table.Table'> with 2817 nonzero entries (15% dense)}\n",
      "{'metric': 'chao1_ci', 'table': 1263 x 14 <class 'biom.table.Table'> with 2817 nonzero entries (15% dense)}\n",
      "DONE: Calculating alpha diversity: chao1_ci\n",
      "Calculating alpha diversity: observed_features\n",
      "{'metric': 'observed_features', 'table': <artifact: FeatureTable[Frequency] uuid: 58f5ac0d-b5f1-476a-b73a-80b954569b0c>}\n",
      "{'table': 1263 x 14 <class 'biom.table.Table'> with 2817 nonzero entries (15% dense)}\n",
      "{'table': 1263 x 14 <class 'biom.table.Table'> with 2817 nonzero entries (15% dense)}\n"
     ]
    },
    {
     "name": "stdout",
     "output_type": "stream",
     "text": [
      "DONE: Calculating alpha diversity: observed_features\n",
      "Calculating alpha diversity: shannon\n",
      "{'metric': 'shannon', 'table': <artifact: FeatureTable[Frequency] uuid: 58f5ac0d-b5f1-476a-b73a-80b954569b0c>}\n",
      "{'drop_undefined_samples': False, 'table': 1263 x 14 <class 'biom.table.Table'> with 2817 nonzero entries (15% dense)}\n",
      "{'drop_undefined_samples': False, 'table': 1263 x 14 <class 'biom.table.Table'> with 2817 nonzero entries (15% dense)}\n",
      "DONE: Calculating alpha diversity: shannon\n",
      "Calculating alpha diversity: simpson\n",
      "{'metric': 'simpson', 'table': <artifact: FeatureTable[Frequency] uuid: 58f5ac0d-b5f1-476a-b73a-80b954569b0c>}\n",
      "{'metric': 'simpson', 'table': 1263 x 14 <class 'biom.table.Table'> with 2817 nonzero entries (15% dense)}\n",
      "{'metric': 'simpson', 'table': 1263 x 14 <class 'biom.table.Table'> with 2817 nonzero entries (15% dense)}\n",
      "DONE: Calculating alpha diversity: simpson\n",
      "Calculating alpha diversity: simpson_e\n",
      "{'metric': 'simpson_e', 'table': <artifact: FeatureTable[Frequency] uuid: 58f5ac0d-b5f1-476a-b73a-80b954569b0c>}\n",
      "{'metric': 'simpson_e', 'table': 1263 x 14 <class 'biom.table.Table'> with 2817 nonzero entries (15% dense)}\n",
      "{'metric': 'simpson_e', 'table': 1263 x 14 <class 'biom.table.Table'> with 2817 nonzero entries (15% dense)}\n"
     ]
    },
    {
     "name": "stdout",
     "output_type": "stream",
     "text": [
      "DONE: Calculating alpha diversity: simpson_e\n"
     ]
    }
   ],
   "source": [
    "metrics = ('ace', 'berger_parker_d', 'brillouin_d', 'chao1', 'chao1_ci', 'dominance', 'doubles', 'enspie', 'esty_ci', 'fisher_alpha', 'gini_index', 'goods_coverage', 'heip_e', 'kempton_taylor_q', 'lladser_pe', 'margalef', 'mcintosh_d', 'mcintosh_e', 'menhinick', 'michaelis_menten_fit', 'observed_features', 'osd', 'pielou_e', 'robbins', 'shannon', 'simpson', 'simpson_e', 'singles', 'strong')\n",
    "\n",
    "# Sugestão de valores para Alpha diversity\n",
    "# chao1 e observed_features (riqueza); shannon e simpson (diversidade - que levam em consideração riqueza e equitabilidade).\n",
    "metrics = ('chao1', 'chao1_ci', 'observed_features', 'shannon', 'simpson', 'simpson_e')\n",
    "alpha_diversities = dict()\n",
    "for metric in metrics:\n",
    "    print(f\"Calculating alpha diversity: {metric}\")\n",
    "    try:\n",
    "        alpha_diversity = alpha(table=tabs, metric=metric).alpha_diversity\n",
    "        alpha_diversities[metric] = alpha_diversity\n",
    "        # Save SampleData[AlphaDiversity] Artifact\n",
    "        file_path = os.path.join(alpha_path, f'alpha-values-{metric}.qza')\n",
    "        alpha_diversity.save(file_path)\n",
    "        print(f\"DONE: Calculating alpha diversity: {metric}\")\n",
    "    except Exception as e:\n",
    "        print(f\"ERROR: Calculating alpha diversity: {metric}\")\n",
    "        print(e)"
   ]
  },
  {
   "cell_type": "markdown",
   "id": "184bcb7b",
   "metadata": {
    "papermill": {
     "duration": 0.020773,
     "end_time": "2024-02-01T22:52:03.607959",
     "exception": false,
     "start_time": "2024-02-01T22:52:03.587186",
     "status": "completed"
    },
    "tags": []
   },
   "source": [
    "### Create Phylogenetic inference\n",
    "\n",
    "- [alignment align_to_tree_mafft_fasttree](https://docs.qiime2.org/2022.8/plugins/available/phylogeny/align-to-tree-mafft-fasttree/): Build a phylogenetic tree using fasttree and mafft alignment\n",
    "\n",
    "This pipeline will start by creating a sequence alignment using MAFFT,\n",
    "after which any alignment columns that are phylogenetically uninformative\n",
    "or ambiguously aligned will be removed (masked). The resulting masked\n",
    "alignment will be used to infer a phylogenetic tree and then subsequently\n",
    "rooted at its midpoint. Output files from each step of the pipeline will be\n",
    "saved. This includes both the unmasked and masked MAFFT alignment from\n",
    "q2-alignment methods, and both the rooted and unrooted phylogenies from\n",
    "q2-phylogeny methods.\n",
    "\n",
    "\n",
    "Returns\n",
    "- alignment : FeatureData[AlignedSequence] : The aligned sequences.\n",
    "- masked_alignment : FeatureData[AlignedSequence] : The masked alignment.\n",
    "- tree : Phylogeny[Unrooted] : The unrooted phylogenetic tree.\n",
    "- rooted_tree : Phylogeny[Rooted] : The rooted phylogenetic tree."
   ]
  },
  {
   "cell_type": "code",
   "execution_count": 10,
   "id": "9c8cfe47",
   "metadata": {
    "ExecuteTime": {
     "end_time": "2022-09-29T20:54:35.139531Z",
     "start_time": "2022-09-29T20:54:20.792130Z"
    },
    "execution": {
     "iopub.execute_input": "2024-02-01T22:52:03.650521Z",
     "iopub.status.busy": "2024-02-01T22:52:03.650186Z",
     "iopub.status.idle": "2024-02-01T22:52:25.231987Z",
     "shell.execute_reply": "2024-02-01T22:52:25.231367Z"
    },
    "papermill": {
     "duration": 21.605877,
     "end_time": "2024-02-01T22:52:25.234467",
     "exception": false,
     "start_time": "2024-02-01T22:52:03.628590",
     "status": "completed"
    },
    "tags": []
   },
   "outputs": [
    {
     "name": "stdout",
     "output_type": "stream",
     "text": [
      "{'n_threads': 6, 'mask_max_gap_frequency': 1.0, 'mask_min_conservation': 0.4, 'parttree': False, 'sequences': <artifact: FeatureData[Sequence] uuid: 01b41415-fd85-460b-9ebd-61f1f4fa7246>}\n",
      "{'n_threads': 6, 'parttree': False, 'sequences': <q2_types.feature_data._format.DNAFASTAFormat object at 0x7fdc84164070>}\n",
      "{'n_threads': 6, 'parttree': False, 'sequences': <q2_types.feature_data._format.DNAFASTAFormat object at 0x7fdc84164070>}\n",
      "Running external command line application. This may print messages to stdout and/or stderr.\n",
      "The command being run is below. This command cannot be manually re-run as it will depend on temporary files that no longer exist.\n",
      "\n",
      "Command: mafft --preservecase --inputorder --thread 6 /tmp/qiime2-archive-he6qwmt9/01b41415-fd85-460b-9ebd-61f1f4fa7246/data/dna-sequences.fasta\n",
      "\n"
     ]
    },
    {
     "name": "stderr",
     "output_type": "stream",
     "text": [
      "inputfile = orig\n",
      "1263 x 430 - 253 d\n",
      "nthread = 6\n",
      "nthreadpair = 6\n",
      "nthreadtb = 6\n",
      "ppenalty_ex = 0\n",
      "stacksize: 8192 kb\n",
      "generating a scoring matrix for nucleotide (dist=200) ... done\n",
      "Gap Penalty = -1.53, +0.00, +0.00\n",
      "\n",
      "\n",
      "\n",
      "Making a distance matrix ..\n",
      "\r",
      "    1 / 1263 (thread    0)\r",
      "  101 / 1263 (thread    2)\r",
      "  201 / 1263 (thread    2)\r",
      "  301 / 1263 (thread    0)\r",
      "  401 / 1263 (thread    5)"
     ]
    },
    {
     "name": "stderr",
     "output_type": "stream",
     "text": [
      "\r",
      "  501 / 1263 (thread    1)\r",
      "  601 / 1263 (thread    3)\r",
      "  701 / 1263 (thread    3)\r",
      "  801 / 1263 (thread    0)\r",
      "  901 / 1263 (thread    5)\r",
      " 1001 / 1263 (thread    5)\r",
      " 1101 / 1263 (thread    1)\r",
      " 1201 / 1263 (thread    3)\n",
      "done.\n",
      "\n",
      "Constructing a UPGMA tree (efffree=0) ... \n",
      "\r",
      "    0 / 1263\r",
      "   10 / 1263\r",
      "   20 / 1263\r",
      "   30 / 1263\r",
      "   40 / 1263\r",
      "   50 / 1263\r",
      "   60 / 1263\r",
      "   70 / 1263\r",
      "   80 / 1263\r",
      "   90 / 1263\r",
      "  100 / 1263\r",
      "  110 / 1263\r",
      "  120 / 1263\r",
      "  130 / 1263\r",
      "  140 / 1263\r",
      "  150 / 1263\r",
      "  160 / 1263\r",
      "  170 / 1263\r",
      "  180 / 1263\r",
      "  190 / 1263\r",
      "  200 / 1263\r",
      "  210 / 1263\r",
      "  220 / 1263\r",
      "  230 / 1263\r",
      "  240 / 1263\r",
      "  250 / 1263\r",
      "  260 / 1263\r",
      "  270 / 1263\r",
      "  280 / 1263\r",
      "  290 / 1263\r",
      "  300 / 1263\r",
      "  310 / 1263\r",
      "  320 / 1263\r",
      "  330 / 1263\r",
      "  340 / 1263\r",
      "  350 / 1263\r",
      "  360 / 1263\r",
      "  370 / 1263\r",
      "  380 / 1263\r",
      "  390 / 1263\r",
      "  400 / 1263\r",
      "  410 / 1263\r",
      "  420 / 1263\r",
      "  430 / 1263\r",
      "  440 / 1263\r",
      "  450 / 1263\r",
      "  460 / 1263\r",
      "  470 / 1263\r",
      "  480 / 1263\r",
      "  490 / 1263\r",
      "  500 / 1263\r",
      "  510 / 1263\r",
      "  520 / 1263\r",
      "  530 / 1263\r",
      "  540 / 1263\r",
      "  550 / 1263\r",
      "  560 / 1263\r",
      "  570 / 1263\r",
      "  580 / 1263\r",
      "  590 / 1263\r",
      "  600 / 1263\r",
      "  610 / 1263\r",
      "  620 / 1263\r",
      "  630 / 1263\r",
      "  640 / 1263\r",
      "  650 / 1263\r",
      "  660 / 1263\r",
      "  670 / 1263\r",
      "  680 / 1263\r",
      "  690 / 1263\r",
      "  700 / 1263\r",
      "  710 / 1263\r",
      "  720 / 1263\r",
      "  730 / 1263\r",
      "  740 / 1263\r",
      "  750 / 1263\r",
      "  760 / 1263\r",
      "  770 / 1263\r",
      "  780 / 1263\r",
      "  790 / 1263\r",
      "  800 / 1263\r",
      "  810 / 1263\r",
      "  820 / 1263\r",
      "  830 / 1263\r",
      "  840 / 1263\r",
      "  850 / 1263\r",
      "  860 / 1263\r",
      "  870 / 1263\r",
      "  880 / 1263\r",
      "  890 / 1263\r",
      "  900 / 1263\r",
      "  910 / 1263\r",
      "  920 / 1263\r",
      "  930 / 1263\r",
      "  940 / 1263\r",
      "  950 / 1263\r",
      "  960 / 1263\r",
      "  970 / 1263\r",
      "  980 / 1263\r",
      "  990 / 1263\r",
      " 1000 / 1263\r",
      " 1010 / 1263\r",
      " 1020 / 1263\r",
      " 1030 / 1263\r",
      " 1040 / 1263\r",
      " 1050 / 1263\r",
      " 1060 / 1263\r",
      " 1070 / 1263\r",
      " 1080 / 1263\r",
      " 1090 / 1263\r",
      " 1100 / 1263\r",
      " 1110 / 1263\r",
      " 1120 / 1263\r",
      " 1130 / 1263\r",
      " 1140 / 1263\r",
      " 1150 / 1263\r",
      " 1160 / 1263\r",
      " 1170 / 1263\r",
      " 1180 / 1263\r",
      " 1190 / 1263\r",
      " 1200 / 1263\r",
      " 1210 / 1263\r",
      " 1220 / 1263\r",
      " 1230 / 1263\r",
      " 1240 / 1263\r",
      " 1250 / 1263\r",
      " 1260 / 1263\n",
      "done.\n",
      "\n",
      "Progressive alignment 1/2... \n",
      "\r",
      "STEP     1 / 1262 (thread    0) f\b\b\r",
      "STEP     2 / 1262 (thread    3)\r",
      "STEP     4 / 1262 (thread    2) f\b\b\r",
      "STEP     3 / 1262 (thread    1) f\b\b f\b\b\r",
      "STEP     5 / 1262 (thread    4) f\b\b\r",
      "STEP     6 / 1262 (thread    5) f\b\b\r",
      "STEP     7 / 1262 (thread    1) f\b\b\r",
      "STEP     8 / 1262 (thread    4) f\b\b\r",
      "STEP     9 / 1262 (thread    1) f\b\b\r",
      "STEP    10 / 1262 (thread    2) f\b\b\r",
      "STEP    11 / 1262 (thread    3) f\b\b\r",
      "STEP    12 / 1262 (thread    1) f\b\b\r",
      "STEP    13 / 1262 (thread    4) f\b\b\r",
      "STEP    14 / 1262 (thread    2) f\b\b\r",
      "STEP    15 / 1262 (thread    1) f\b\b\r",
      "STEP    16 / 1262 (thread    0) f\b\b\r",
      "STEP    17 / 1262 (thread    3) f\b\b\r",
      "STEP    18 / 1262 (thread    5) f\b\b\r",
      "STEP    19 / 1262 (thread    4) f\b\b\r",
      "STEP    20 / 1262 (thread    2) f\b\b\r",
      "STEP    21 / 1262 (thread    1) f\b\b\r",
      "STEP    22 / 1262 (thread    0) f\b\b\r",
      "STEP    23 / 1262 (thread    5) f\b\b\r",
      "STEP    24 / 1262 (thread    3) f\b\b\r",
      "STEP    25 / 1262 (thread    2) f\b\b\r",
      "STEP    26 / 1262 (thread    1) f\b\b\r",
      "STEP    27 / 1262 (thread    5) f\b\b\r",
      "STEP    28 / 1262 (thread    0) f\b\b\r",
      "STEP    29 / 1262 (thread    4) f\b\b\r",
      "STEP    30 / 1262 (thread    3) f\b\b\r",
      "STEP    31 / 1262 (thread    2) f\b\b\r",
      "STEP    32 / 1262 (thread    1) f\b\b\r",
      "STEP    33 / 1262 (thread    0) f\b\b\r",
      "STEP    34 / 1262 (thread    5) f\b\b\r",
      "STEP    35 / 1262 (thread    3) f\b\b\r",
      "STEP    36 / 1262 (thread    4) f\b\b\r",
      "STEP    37 / 1262 (thread    2) f\b\b\r",
      "STEP    38 / 1262 (thread    1) f\b\b\r",
      "STEP    39 / 1262 (thread    5) f\b\b\r",
      "STEP    40 / 1262 (thread    0) f\b\b\r",
      "STEP    41 / 1262 (thread    3) f\b\b\r",
      "STEP    42 / 1262 (thread    4) f\b\b\r",
      "STEP    43 / 1262 (thread    2) f\b\b\r",
      "STEP    44 / 1262 (thread    1) f\b\b\r",
      "STEP    45 / 1262 (thread    4) f\b\b\r",
      "STEP    46 / 1262 (thread    0) f\b\b\r",
      "STEP    47 / 1262 (thread    5) f\b\b\r",
      "STEP    48 / 1262 (thread    3) f\b\b\r",
      "STEP    49 / 1262 (thread    2) f\b\b\r",
      "STEP    50 / 1262 (thread    4) f\b\b\r",
      "STEP    51 / 1262 (thread    1) f\b\b\r",
      "STEP    52 / 1262 (thread    0) f\b\b\r",
      "STEP    53 / 1262 (thread    5) f\b\b\r",
      "STEP    54 / 1262 (thread    4) f\b\b\r",
      "STEP    55 / 1262 (thread    2) f\b\b\r",
      "STEP    56 / 1262 (thread    1) f\b\b\r",
      "STEP    57 / 1262 (thread    4) f\b\b\r",
      "STEP    58 / 1262 (thread    3) f\b\b\r",
      "STEP    59 / 1262 (thread    0) f\b\b\r",
      "STEP    60 / 1262 (thread    5) f\b\b\r",
      "STEP    61 / 1262 (thread    4) f\b\b\r",
      "STEP    62 / 1262 (thread    2) f\b\b\r",
      "STEP    63 / 1262 (thread    1) f\b\b\r",
      "STEP    64 / 1262 (thread    3) f\b\b\r",
      "STEP    65 / 1262 (thread    5) f\b\b\r",
      "STEP    66 / 1262 (thread    0) f\b\b\r",
      "STEP    67 / 1262 (thread    4) f\b\b\r",
      "STEP    68 / 1262 (thread    3) f\b\b\r",
      "STEP    69 / 1262 (thread    2) f\b\b\r",
      "STEP    70 / 1262 (thread    1) f\b\b\r",
      "STEP    71 / 1262 (thread    0) f\b\b\r",
      "STEP    72 / 1262 (thread    5) f\b\b\r",
      "STEP    73 / 1262 (thread    2) f\b\b\r",
      "STEP    74 / 1262 (thread    4) f\b\b\r",
      "STEP    75 / 1262 (thread    1) f\b\b\r",
      "STEP    76 / 1262 (thread    0) f\b\b\r",
      "STEP    77 / 1262 (thread    5) f\b\b\r",
      "STEP    78 / 1262 (thread    3) f\b\b\r",
      "STEP    79 / 1262 (thread    4) f\b\b\r",
      "STEP    80 / 1262 (thread    2) f\b\b\r",
      "STEP    81 / 1262 (thread    1) f\b\b\r",
      "STEP    82 / 1262 (thread    3) f\b\b\r",
      "STEP    83 / 1262 (thread    4) f\b\b\r",
      "STEP    84 / 1262 (thread    5) f\b\b\r",
      "STEP    85 / 1262 (thread    0) f\b\b\r",
      "STEP    86 / 1262 (thread    3) f\b\b\r",
      "STEP    87 / 1262 (thread    2) f\b\b\r",
      "STEP    88 / 1262 (thread    4) f\b\b\r",
      "STEP    89 / 1262 (thread    1) f\b\b\r",
      "STEP    90 / 1262 (thread    0)\r",
      "STEP    91 / 1262 (thread    5) f\b\b f\b\b\r",
      "STEP    92 / 1262 (thread    4)\r",
      "STEP    93 / 1262 (thread    3) f\b\b f\b\b\r",
      "STEP    94 / 1262 (thread    2) f\b\b\r",
      "STEP    95 / 1262 (thread    1) f\b\b\r",
      "STEP    96 / 1262 (thread    3) f\b\b\r",
      "STEP    97 / 1262 (thread    5) f\b\b\r",
      "STEP    98 / 1262 (thread    0) f\b\b\r",
      "STEP    99 / 1262 (thread    2) f\b\b\r",
      "STEP   100 / 1262 (thread    3) f\b\b\r",
      "STEP   101 / 1262 (thread    4) f\b\b\r",
      "STEP   102 / 1262 (thread    1) f\b\b\r",
      "STEP   103 / 1262 (thread    5) f\b\b\r",
      "STEP   104 / 1262 (thread    0) f\b\b\r",
      "STEP   105 / 1262 (thread    3) f\b\b\r",
      "STEP   106 / 1262 (thread    2) f\b\b\r",
      "STEP   107 / 1262 (thread    3) f\b\b\r",
      "STEP   108 / 1262 (thread    4) f\b\b\r",
      "STEP   109 / 1262 (thread    3) f\b\b\r",
      "STEP   110 / 1262 (thread    2) f\b\b\r",
      "STEP   111 / 1262 (thread    5) f\b\b\r",
      "STEP   112 / 1262 (thread    0) f\b\b\r",
      "STEP   113 / 1262 (thread    4) f\b\b\r",
      "STEP   114 / 1262 (thread    1) f\b\b\r",
      "STEP   115 / 1262 (thread    3) f\b\b\r",
      "STEP   116 / 1262 (thread    4) f\b\b\r",
      "STEP   117 / 1262 (thread    2) f\b\b\r",
      "STEP   118 / 1262 (thread    0) f\b\b\r",
      "STEP   119 / 1262 (thread    5) f\b\b\r",
      "STEP   120 / 1262 (thread    3) f\b\b\r",
      "STEP   121 / 1262 (thread    1) f\b\b\r",
      "STEP   122 / 1262 (thread    4) f\b\b\r",
      "STEP   123 / 1262 (thread    3) f\b\b\r",
      "STEP   124 / 1262 (thread    2) f\b\b\r",
      "STEP   125 / 1262 (thread    5) f\b\b\r",
      "STEP   126 / 1262 (thread    0) f\b\b\r",
      "STEP   127 / 1262 (thread    4) f\b\b\r",
      "STEP   128 / 1262 (thread    1) f\b\b\r",
      "STEP   129 / 1262 (thread    2) f\b\b\r",
      "STEP   130 / 1262 (thread    4) f\b\b\r",
      "STEP   131 / 1262 (thread    0) f\b\b\r",
      "STEP   132 / 1262 (thread    5) f\b\b\r",
      "STEP   133 / 1262 (thread    3) f\b\b\r",
      "STEP   134 / 1262 (thread    1) f\b\b\r",
      "STEP   135 / 1262 (thread    4) f\b\b\r",
      "STEP   136 / 1262 (thread    3) f\b\b\r",
      "STEP   137 / 1262 (thread    2) f\b\b\r",
      "STEP   138 / 1262 (thread    0)\r",
      "STEP   139 / 1262 (thread    5) f\b\b f\b\b\r",
      "STEP   140 / 1262 (thread    4) f\b\b\r",
      "STEP   141 / 1262 (thread    1) f\b\b\r",
      "STEP   142 / 1262 (thread    3) f\b\b\r",
      "STEP   143 / 1262 (thread    2) f\b\b\r",
      "STEP   144 / 1262 (thread    4) f\b\b\r",
      "STEP   145 / 1262 (thread    5)\r",
      "STEP   146 / 1262 (thread    0) f\b\b f\b\b\r",
      "STEP   147 / 1262 (thread    3) f\b\b\r",
      "STEP   148 / 1262 (thread    1) f\b\b\r",
      "STEP   149 / 1262 (thread    4) f\b\b\r",
      "STEP   150 / 1262 (thread    2) f\b\b\r",
      "STEP   151 / 1262 (thread    3) f\b\b\r",
      "STEP   152 / 1262 (thread    5) f\b\b\r",
      "STEP   153 / 1262 (thread    0) f\b\b\r",
      "STEP   154 / 1262 (thread    4) f\b\b\r",
      "STEP   156 / 1262 (thread    3) f\b\b\r",
      "STEP   157 / 1262 (thread    2) f\b\b\r",
      "STEP   158 / 1262 (thread    4) f\b\b\r",
      "STEP   155 / 1262 (thread    1) f\b\b\r",
      "STEP   159 / 1262 (thread    3) f\b\b\r",
      "STEP   160 / 1262 (thread    2) f\b\b\r",
      "STEP   161 / 1262 (thread    5) f\b\b\r",
      "STEP   162 / 1262 (thread    0) f\b\b\r",
      "STEP   163 / 1262 (thread    4) f\b\b\r",
      "STEP   164 / 1262 (thread    3) f\b\b\r",
      "STEP   165 / 1262 (thread    1) f\b\b\r",
      "STEP   167 / 1262 (thread    3) f\b\b\r",
      "STEP   168 / 1262 (thread    2) f\b\b\r",
      "STEP   169 / 1262 (thread    0) f\b\b\r",
      "STEP   170 / 1262 (thread    5) f\b\b\r",
      "STEP   166 / 1262 (thread    4) f\b\b\r",
      "STEP   171 / 1262 (thread    1) f\b\b\r",
      "STEP   173 / 1262 (thread    4) f\b\b\r",
      "STEP   172 / 1262 (thread    3) f\b\b\r",
      "STEP   174 / 1262 (thread    2) f\b\b\r",
      "STEP   175 / 1262 (thread    0) f\b\b\r",
      "STEP   176 / 1262 (thread    5) f\b\b\r",
      "STEP   177 / 1262 (thread    4) f\b\b\r",
      "STEP   178 / 1262 (thread    2) f\b\b\r",
      "STEP   179 / 1262 (thread    5) f\b\b\r",
      "STEP   180 / 1262 (thread    0) f\b\b\r",
      "STEP   181 / 1262 (thread    3) f\b\b\r",
      "STEP   182 / 1262 (thread    1) f\b\b\r",
      "STEP   184 / 1262 (thread    5) f\b\b\r",
      "STEP   185 / 1262 (thread    3) f\b\b\r",
      "STEP   186 / 1262 (thread    0) f\b\b\r",
      "STEP   183 / 1262 (thread    4) f\b\b\r",
      "STEP   187 / 1262 (thread    5) f\b\b\r",
      "STEP   188 / 1262 (thread    2) f\b\b\r",
      "STEP   189 / 1262 (thread    1) f\b\b\r",
      "STEP   190 / 1262 (thread    3) f\b\b\r",
      "STEP   191 / 1262 (thread    0) f\b\b\r",
      "STEP   192 / 1262 (thread    5) f\b\b\r",
      "STEP   193 / 1262 (thread    1) f\b\b\r",
      "STEP   194 / 1262 (thread    4) f\b\b\r",
      "STEP   195 / 1262 (thread    2) f\b\b\r",
      "STEP   196 / 1262 (thread    0) f\b\b\r",
      "STEP   197 / 1262 (thread    5) f\b\b\r",
      "STEP   198 / 1262 (thread    2) f\b\b\r",
      "STEP   199 / 1262 (thread    0) f\b\b\r",
      "STEP   200 / 1262 (thread    5) f\b\b\r",
      "STEP   201 / 1262 (thread    3) f\b\b\r",
      "STEP   202 / 1262 (thread    4) f\b\b\r",
      "STEP   203 / 1262 (thread    1) f\b\b\r",
      "STEP   204 / 1262 (thread    5) f\b\b\r",
      "STEP   205 / 1262 (thread    4) f\b\b\r",
      "STEP   206 / 1262 (thread    2) f\b\b\r",
      "STEP   207 / 1262 (thread    0) f\b\b\r",
      "STEP   208 / 1262 (thread    1) f\b\b\r",
      "STEP   209 / 1262 (thread    5) f\b\b\r",
      "STEP   210 / 1262 (thread    4) f\b\b\r",
      "STEP   211 / 1262 (thread    3) f\b\b\r",
      "STEP   212 / 1262 (thread    2) f\b\b\r",
      "STEP   213 / 1262 (thread    0) f\b\b\r",
      "STEP   214 / 1262 (thread    3) f\b\b\r",
      "STEP   215 / 1262 (thread    2) f\b\b\r",
      "STEP   216 / 1262 (thread    1) f\b\b\r",
      "STEP   217 / 1262 (thread    5) f\b\b\r",
      "STEP   218 / 1262 (thread    0) f\b\b\r",
      "STEP   219 / 1262 (thread    4) f\b\b\r",
      "STEP   220 / 1262 (thread    3) f\b\b\r",
      "STEP   221 / 1262 (thread    2) f\b\b\r",
      "STEP   222 / 1262 (thread    1) f\b\b\r",
      "STEP   223 / 1262 (thread    5) f\b\b\r",
      "STEP   224 / 1262 (thread    0) f\b\b\r",
      "STEP   225 / 1262 (thread    4) f\b\b\r",
      "STEP   226 / 1262 (thread    3) f\b\b\r",
      "STEP   227 / 1262 (thread    1) f\b\b\r",
      "STEP   228 / 1262 (thread    0) f\b\b\r",
      "STEP   229 / 1262 (thread    2) f\b\b\r",
      "STEP   230 / 1262 (thread    5) f\b\b\r",
      "STEP   231 / 1262 (thread    4) f\b\b\r",
      "STEP   232 / 1262 (thread    3) f\b\b\r",
      "STEP   233 / 1262 (thread    1) f\b\b\r",
      "STEP   234 / 1262 (thread    0) f\b\b\r",
      "STEP   235 / 1262 (thread    4) f\b\b\r",
      "STEP   236 / 1262 (thread    3) f\b\b\r",
      "STEP   237 / 1262 (thread    2) f\b\b\r",
      "STEP   238 / 1262 (thread    5) f\b\b\r",
      "STEP   239 / 1262 (thread    0) f\b\b\r",
      "STEP   240 / 1262 (thread    1) f\b\b\r",
      "STEP   241 / 1262 (thread    4) f\b\b\r",
      "STEP   242 / 1262 (thread    3) f\b\b\r",
      "STEP   243 / 1262 (thread    2) f\b\b\r",
      "STEP   244 / 1262 (thread    5) f\b\b\r",
      "STEP   245 / 1262 (thread    0) f\b\b\r",
      "STEP   246 / 1262 (thread    4) f\b\b\r",
      "STEP   247 / 1262 (thread    1) f\b\b\r",
      "STEP   248 / 1262 (thread    3) f\b\b\r",
      "STEP   249 / 1262 (thread    2) f\b\b\r",
      "STEP   250 / 1262 (thread    5) f\b\b\r",
      "STEP   251 / 1262 (thread    0) f\b\b\r",
      "STEP   252 / 1262 (thread    4) f\b\b\r",
      "STEP   253 / 1262 (thread    1) f\b\b\r",
      "STEP   254 / 1262 (thread    3) f\b\b\r",
      "STEP   255 / 1262 (thread    2) f\b\b\r",
      "STEP   256 / 1262 (thread    5) f\b\b\r",
      "STEP   257 / 1262 (thread    0) f\b\b\r",
      "STEP   258 / 1262 (thread    4) f\b\b\r",
      "STEP   259 / 1262 (thread    1) f\b\b\r",
      "STEP   260 / 1262 (thread    2) f\b\b\r",
      "STEP   261 / 1262 (thread    5) f\b\b\r",
      "STEP   262 / 1262 (thread    3) f\b\b\r",
      "STEP   263 / 1262 (thread    0) f\b\b\r",
      "STEP   264 / 1262 (thread    4) f\b\b\r",
      "STEP   265 / 1262 (thread    1) f\b\b\r",
      "STEP   266 / 1262 (thread    2) f\b\b\r",
      "STEP   267 / 1262 (thread    0) f\b\b\r",
      "STEP   268 / 1262 (thread    5) f\b\b\r",
      "STEP   269 / 1262 (thread    3) f\b\b\r",
      "STEP   270 / 1262 (thread    4) f\b\b\r",
      "STEP   271 / 1262 (thread    2) f\b\b\r",
      "STEP   272 / 1262 (thread    5) f\b\b\r",
      "STEP   273 / 1262 (thread    0) f\b\b"
     ]
    },
    {
     "name": "stderr",
     "output_type": "stream",
     "text": [
      "\r",
      "STEP   274 / 1262 (thread    1) f\b\b\r",
      "STEP   275 / 1262 (thread    2) f\b\b\r",
      "STEP   276 / 1262 (thread    3) f\b\b\r",
      "STEP   277 / 1262 (thread    4) f\b\b\r",
      "STEP   278 / 1262 (thread    5) f\b\b\r",
      "STEP   279 / 1262 (thread    0) f\b\b\r",
      "STEP   280 / 1262 (thread    1) f\b\b\r",
      "STEP   281 / 1262 (thread    2) f\b\b\r",
      "STEP   282 / 1262 (thread    3) f\b\b\r",
      "STEP   283 / 1262 (thread    4) f\b\b\r",
      "STEP   284 / 1262 (thread    0) f\b\b\r",
      "STEP   285 / 1262 (thread    5) f\b\b\r",
      "STEP   286 / 1262 (thread    1) f\b\b\r",
      "STEP   287 / 1262 (thread    2) f\b\b\r",
      "STEP   288 / 1262 (thread    3) f\b\b\r",
      "STEP   289 / 1262 (thread    4) f\b\b\r",
      "STEP   290 / 1262 (thread    0) f\b\b\r",
      "STEP   291 / 1262 (thread    3) f\b\b\r",
      "STEP   292 / 1262 (thread    4) f\b\b\r",
      "STEP   293 / 1262 (thread    2) f\b\b\r",
      "STEP   294 / 1262 (thread    0) f\b\b\r",
      "STEP   295 / 1262 (thread    5) f\b\b\r",
      "STEP   296 / 1262 (thread    1) f\b\b\r",
      "STEP   297 / 1262 (thread    3) f\b\b\r",
      "STEP   298 / 1262 (thread    4) f\b\b\r",
      "STEP   299 / 1262 (thread    3) f\b\b\r",
      "STEP   300 / 1262 (thread    0) f\b\b\r",
      "STEP   301 / 1262 (thread    2) f\b\b\r",
      "STEP   302 / 1262 (thread    5) f\b\b\r",
      "STEP   303 / 1262 (thread    1) f\b\b\r",
      "STEP   304 / 1262 (thread    3) f\b\b\r",
      "STEP   305 / 1262 (thread    0) f\b\b\r",
      "STEP   306 / 1262 (thread    4) f\b\b\r",
      "STEP   307 / 1262 (thread    5) f\b\b\r",
      "STEP   308 / 1262 (thread    2) f\b\b\r",
      "STEP   309 / 1262 (thread    3) f\b\b\r",
      "STEP   310 / 1262 (thread    1) f\b\b\r",
      "STEP   311 / 1262 (thread    0) f\b\b\r",
      "STEP   312 / 1262 (thread    4) f\b\b\r",
      "STEP   313 / 1262 (thread    3) f\b\b\r",
      "STEP   314 / 1262 (thread    1) f\b\b\r",
      "STEP   315 / 1262 (thread    0) f\b\b\r",
      "STEP   316 / 1262 (thread    5) f\b\b\r",
      "STEP   317 / 1262 (thread    4) f\b\b\r",
      "STEP   318 / 1262 (thread    2) f\b\b\r",
      "STEP   319 / 1262 (thread    3) f\b\b\r",
      "STEP   320 / 1262 (thread    1) f\b\b\r",
      "STEP   321 / 1262 (thread    4) f\b\b\r",
      "STEP   322 / 1262 (thread    2) f\b\b\r",
      "STEP   323 / 1262 (thread    1) f\b\b\r",
      "STEP   324 / 1262 (thread    0) f\b\b\r",
      "STEP   325 / 1262 (thread    5) f\b\b\r",
      "STEP   326 / 1262 (thread    3) f\b\b\r",
      "STEP   327 / 1262 (thread    4) f\b\b\r",
      "STEP   328 / 1262 (thread    5) f\b\b\r",
      "STEP   329 / 1262 (thread    2) f\b\b\r",
      "STEP   330 / 1262 (thread    3) f\b\b\r",
      "STEP   331 / 1262 (thread    1) f\b\b\r",
      "STEP   332 / 1262 (thread    4) f\b\b\r",
      "STEP   333 / 1262 (thread    0) f\b\b\r",
      "STEP   334 / 1262 (thread    5) f\b\b\r",
      "STEP   335 / 1262 (thread    3) f\b\b\r",
      "STEP   336 / 1262 (thread    4) f\b\b\r",
      "STEP   337 / 1262 (thread    5) f\b\b\r",
      "STEP   338 / 1262 (thread    0) f\b\b\r",
      "STEP   339 / 1262 (thread    3) f\b\b\r",
      "STEP   340 / 1262 (thread    4)\r",
      "STEP   341 / 1262 (thread    1) f\b\b f\b\b\r",
      "STEP   342 / 1262 (thread    5) f\b\b\r",
      "STEP   343 / 1262 (thread    2) f\b\b\r",
      "STEP   344 / 1262 (thread    5) f\b\b\r",
      "STEP   345 / 1262 (thread    2) f\b\b\r",
      "STEP   346 / 1262 (thread    0) f\b\b\r",
      "STEP   347 / 1262 (thread    3) f\b\b\r",
      "STEP   348 / 1262 (thread    1) f\b\b\r",
      "STEP   349 / 1262 (thread    4) f\b\b\r",
      "STEP   350 / 1262 (thread    5) f\b\b\r",
      "STEP   351 / 1262 (thread    2) f\b\b\r",
      "STEP   352 / 1262 (thread    0) f\b\b\r",
      "STEP   353 / 1262 (thread    3) f\b\b\r",
      "STEP   354 / 1262 (thread    1) f\b\b\r",
      "STEP   355 / 1262 (thread    5) f\b\b\r",
      "STEP   356 / 1262 (thread    2) f\b\b\r",
      "STEP   357 / 1262 (thread    1) f\b\b\r",
      "STEP   358 / 1262 (thread    4) f\b\b\r",
      "STEP   359 / 1262 (thread    0) f\b\b\r",
      "STEP   360 / 1262 (thread    3) f\b\b\r",
      "STEP   361 / 1262 (thread    5) f\b\b\r",
      "STEP   362 / 1262 (thread    2) f\b\b\r",
      "STEP   363 / 1262 (thread    0) f\b\b\r",
      "STEP   364 / 1262 (thread    4) f\b\b\r",
      "STEP   365 / 1262 (thread    1) f\b\b\r",
      "STEP   366 / 1262 (thread    5) f\b\b\r",
      "STEP   367 / 1262 (thread    2) f\b\b\r",
      "STEP   368 / 1262 (thread    3) f\b\b\r",
      "STEP   369 / 1262 (thread    4) f\b\b\r",
      "STEP   370 / 1262 (thread    0) f\b\b\r",
      "STEP   371 / 1262 (thread    2) f\b\b\r",
      "STEP   373 / 1262 (thread    1)\r",
      "STEP   372 / 1262 (thread    0) f\b\b f\b\b\r",
      "STEP   374 / 1262 (thread    5) f\b\b\r",
      "STEP   375 / 1262 (thread    2) f\b\b\r",
      "STEP   376 / 1262 (thread    3) f\b\b\r",
      "STEP   377 / 1262 (thread    4) f\b\b\r",
      "STEP   378 / 1262 (thread    2) f\b\b\r",
      "STEP   379 / 1262 (thread    1) f\b\b\r",
      "STEP   380 / 1262 (thread    5) f\b\b\r",
      "STEP   381 / 1262 (thread    4) f\b\b\r",
      "STEP   382 / 1262 (thread    0) f\b\b\r",
      "STEP   383 / 1262 (thread    3) f\b\b\r",
      "STEP   384 / 1262 (thread    2) f\b\b\r",
      "STEP   385 / 1262 (thread    4) f\b\b\r",
      "STEP   386 / 1262 (thread    0) f\b\b\r",
      "STEP   387 / 1262 (thread    1) f\b\b\r",
      "STEP   389 / 1262 (thread    5) f\b\b\r",
      "STEP   388 / 1262 (thread    2) f\b\b\r",
      "STEP   390 / 1262 (thread    3) f\b\b\r",
      "STEP   391 / 1262 (thread    4) f\b\b\r",
      "STEP   392 / 1262 (thread    0) f\b\b\r",
      "STEP   393 / 1262 (thread    3) f\b\b\r",
      "STEP   394 / 1262 (thread    1) f\b\b\r",
      "STEP   395 / 1262 (thread    2) f\b\b\r",
      "STEP   396 / 1262 (thread    5) f\b\b\r",
      "STEP   397 / 1262 (thread    4) f\b\b\r",
      "STEP   398 / 1262 (thread    1) f\b\b\r",
      "STEP   399 / 1262 (thread    0) f\b\b\r",
      "STEP   400 / 1262 (thread    5) f\b\b\r",
      "STEP   401 / 1262 (thread    3) f\b\b\r",
      "STEP   402 / 1262 (thread    1) f\b\b\r",
      "STEP   403 / 1262 (thread    2) f\b\b\r",
      "STEP   404 / 1262 (thread    4) f\b\b\r",
      "STEP   405 / 1262 (thread    1) f\b\b\r",
      "STEP   406 / 1262 (thread    3) f\b\b\r",
      "STEP   407 / 1262 (thread    0) f\b\b\r",
      "STEP   408 / 1262 (thread    2) f\b\b\r",
      "STEP   409 / 1262 (thread    5) f\b\b\r",
      "STEP   410 / 1262 (thread    4) f\b\b\r",
      "STEP   411 / 1262 (thread    1) f\b\b\r",
      "STEP   412 / 1262 (thread    0) f\b\b\r",
      "STEP   414 / 1262 (thread    2) f\b\b\r",
      "STEP   413 / 1262 (thread    3) f\b\b\r",
      "STEP   415 / 1262 (thread    5) f\b\b\r",
      "STEP   416 / 1262 (thread    1) f\b\b\r",
      "STEP   417 / 1262 (thread    4) f\b\b\r",
      "STEP   418 / 1262 (thread    0) f\b\b\r",
      "STEP   419 / 1262 (thread    2) f\b\b\r",
      "STEP   420 / 1262 (thread    5) f\b\b\r",
      "STEP   421 / 1262 (thread    3) f\b\b\r",
      "STEP   422 / 1262 (thread    4) f\b\b\r",
      "STEP   423 / 1262 (thread    1) f\b\b\r",
      "STEP   424 / 1262 (thread    0) f\b\b\r",
      "STEP   425 / 1262 (thread    0) f\b\b\r",
      "STEP   426 / 1262 (thread    1) f\b\b\r",
      "STEP   427 / 1262 (thread    5) f\b\b\r",
      "STEP   428 / 1262 (thread    4) f\b\b\r",
      "STEP   429 / 1262 (thread    0) f\b\b\r",
      "STEP   431 / 1262 (thread    3) f\b\b\r",
      "STEP   432 / 1262 (thread    1) f\b\b\r",
      "STEP   433 / 1262 (thread    4) f\b\b\r",
      "STEP   430 / 1262 (thread    2) f\b\b\r",
      "STEP   434 / 1262 (thread    0) f\b\b\r",
      "STEP   435 / 1262 (thread    3) f\b\b\r",
      "STEP   436 / 1262 (thread    5) f\b\b\r",
      "STEP   437 / 1262 (thread    2) f\b\b\r",
      "STEP   438 / 1262 (thread    1) f\b\b\r",
      "STEP   439 / 1262 (thread    4) f\b\b\r",
      "STEP   440 / 1262 (thread    0) f\b\b\r",
      "STEP   441 / 1262 (thread    3) f\b\b\r",
      "STEP   442 / 1262 (thread    4) f\b\b\r",
      "STEP   443 / 1262 (thread    3) f\b\b\r",
      "STEP   444 / 1262 (thread    5) f\b\b\r",
      "STEP   445 / 1262 (thread    4) f\b\b\r",
      "STEP   446 / 1262 (thread    1) f\b\b\r",
      "STEP   447 / 1262 (thread    2) f\b\b\r",
      "STEP   448 / 1262 (thread    0) f\b\b\r",
      "STEP   449 / 1262 (thread    5) f\b\b\r",
      "STEP   450 / 1262 (thread    3) f\b\b\r",
      "STEP   451 / 1262 (thread    2) f\b\b\r",
      "STEP   452 / 1262 (thread    4) f\b\b\r",
      "STEP   453 / 1262 (thread    1) f\b\b\r",
      "STEP   454 / 1262 (thread    0) f\b\b\r",
      "STEP   455 / 1262 (thread    3) f\b\b\r",
      "STEP   456 / 1262 (thread    5) f\b\b\r",
      "STEP   457 / 1262 (thread    2) f\b\b\r",
      "STEP   458 / 1262 (thread    4) f\b\b\r",
      "STEP   459 / 1262 (thread    1) f\b\b\r",
      "STEP   460 / 1262 (thread    5) f\b\b\r",
      "STEP   461 / 1262 (thread    0) f\b\b\r",
      "STEP   462 / 1262 (thread    3) f\b\b\r",
      "STEP   463 / 1262 (thread    5) f\b\b\r",
      "STEP   464 / 1262 (thread    2) f\b\b\r",
      "STEP   465 / 1262 (thread    4) f\b\b\r",
      "STEP   466 / 1262 (thread    1) f\b\b\r",
      "STEP   467 / 1262 (thread    2) f\b\b\r",
      "STEP   468 / 1262 (thread    3) f\b\b\r",
      "STEP   469 / 1262 (thread    0) f\b\b\r",
      "STEP   470 / 1262 (thread    5) f\b\b\r",
      "STEP   471 / 1262 (thread    1) f\b\b\r",
      "STEP   472 / 1262 (thread    4) f\b\b\r",
      "STEP   473 / 1262 (thread    0) f\b\b\r",
      "STEP   474 / 1262 (thread    2) f\b\b\r",
      "STEP   475 / 1262 (thread    3) f\b\b\r",
      "STEP   476 / 1262 (thread    5) f\b\b\r",
      "STEP   477 / 1262 (thread    0) f\b\b\r",
      "STEP   478 / 1262 (thread    2) f\b\b\r",
      "STEP   479 / 1262 (thread    3) f\b\b\r",
      "STEP   480 / 1262 (thread    4) f\b\b\r",
      "STEP   481 / 1262 (thread    1) f\b\b\r",
      "STEP   482 / 1262 (thread    5) f\b\b\r",
      "STEP   483 / 1262 (thread    0) f\b\b\r",
      "STEP   484 / 1262 (thread    2) f\b\b\r",
      "STEP   485 / 1262 (thread    4) f\b\b\r",
      "STEP   486 / 1262 (thread    3) f\b\b\r",
      "STEP   487 / 1262 (thread    2) f\b\b\r",
      "STEP   488 / 1262 (thread    1) f\b\b\r",
      "STEP   489 / 1262 (thread    5) f\b\b\r",
      "STEP   490 / 1262 (thread    2) f\b\b\r",
      "STEP   491 / 1262 (thread    0) f\b\b\r",
      "STEP   492 / 1262 (thread    4) f\b\b\r",
      "STEP   493 / 1262 (thread    2) f\b\b\r",
      "STEP   494 / 1262 (thread    1) f\b\b\r",
      "STEP   495 / 1262 (thread    3) f\b\b\r",
      "STEP   496 / 1262 (thread    5) f\b\b\r",
      "STEP   497 / 1262 (thread    2) f\b\b\r",
      "STEP   498 / 1262 (thread    1) f\b\b\r",
      "STEP   499 / 1262 (thread    0) f\b\b\r",
      "STEP   500 / 1262 (thread    4) f\b\b\r",
      "STEP   501 / 1262 (thread    5) f\b\b\r",
      "STEP   601 / 1262 (thread    3) f\b\b\r",
      "STEP   701 / 1262 (thread    2) f\b\b\r",
      "STEP   801 / 1262 (thread    0) f\b\b"
     ]
    },
    {
     "name": "stderr",
     "output_type": "stream",
     "text": [
      "\r",
      "STEP   901 / 1262 (thread    2) f\b\b\n",
      "Reallocating..done. *alloclen = 1861\n",
      "\r",
      "STEP  1001 / 1262 (thread    4) f\b\b\r",
      "STEP  1101 / 1262 (thread    0) f\b\b"
     ]
    },
    {
     "name": "stderr",
     "output_type": "stream",
     "text": [
      "\r",
      "STEP  1201 / 1262 (thread    1) f\b\b"
     ]
    },
    {
     "name": "stderr",
     "output_type": "stream",
     "text": [
      "\n",
      "done.\n",
      "\n",
      "Making a distance matrix from msa.. \n",
      "\r",
      "    0 / 1263 (thread    1)\r",
      "  100 / 1263 (thread    0)\r",
      "  200 / 1263 (thread    0)\r",
      "  300 / 1263 (thread    4)\r",
      "  400 / 1263 (thread    2)"
     ]
    },
    {
     "name": "stderr",
     "output_type": "stream",
     "text": [
      "\r",
      "  500 / 1263 (thread    0)\r",
      "  600 / 1263 (thread    1)\r",
      "  700 / 1263 (thread    3)\r",
      "  800 / 1263 (thread    0)\r",
      "  900 / 1263 (thread    5)\r",
      " 1000 / 1263 (thread    4)\r",
      " 1100 / 1263 (thread    1)\r",
      " 1200 / 1263 (thread    1)\n",
      "done.\n",
      "\n",
      "Constructing a UPGMA tree (efffree=1) ... \n",
      "\r",
      "    0 / 1263\r",
      "   10 / 1263\r",
      "   20 / 1263\r",
      "   30 / 1263\r",
      "   40 / 1263\r",
      "   50 / 1263\r",
      "   60 / 1263\r",
      "   70 / 1263\r",
      "   80 / 1263\r",
      "   90 / 1263\r",
      "  100 / 1263\r",
      "  110 / 1263\r",
      "  120 / 1263\r",
      "  130 / 1263\r",
      "  140 / 1263\r",
      "  150 / 1263\r",
      "  160 / 1263\r",
      "  170 / 1263\r",
      "  180 / 1263\r",
      "  190 / 1263\r",
      "  200 / 1263\r",
      "  210 / 1263\r",
      "  220 / 1263\r",
      "  230 / 1263\r",
      "  240 / 1263\r",
      "  250 / 1263\r",
      "  260 / 1263\r",
      "  270 / 1263\r",
      "  280 / 1263\r",
      "  290 / 1263\r",
      "  300 / 1263\r",
      "  310 / 1263\r",
      "  320 / 1263\r",
      "  330 / 1263\r",
      "  340 / 1263\r",
      "  350 / 1263\r",
      "  360 / 1263\r",
      "  370 / 1263\r",
      "  380 / 1263\r",
      "  390 / 1263\r",
      "  400 / 1263\r",
      "  410 / 1263\r",
      "  420 / 1263\r",
      "  430 / 1263\r",
      "  440 / 1263\r",
      "  450 / 1263\r",
      "  460 / 1263\r",
      "  470 / 1263\r",
      "  480 / 1263\r",
      "  490 / 1263\r",
      "  500 / 1263\r",
      "  510 / 1263\r",
      "  520 / 1263\r",
      "  530 / 1263\r",
      "  540 / 1263\r",
      "  550 / 1263\r",
      "  560 / 1263\r",
      "  570 / 1263\r",
      "  580 / 1263\r",
      "  590 / 1263\r",
      "  600 / 1263\r",
      "  610 / 1263\r",
      "  620 / 1263\r",
      "  630 / 1263\r",
      "  640 / 1263\r",
      "  650 / 1263\r",
      "  660 / 1263\r",
      "  670 / 1263\r",
      "  680 / 1263\r",
      "  690 / 1263\r",
      "  700 / 1263\r",
      "  710 / 1263\r",
      "  720 / 1263\r",
      "  730 / 1263\r",
      "  740 / 1263\r",
      "  750 / 1263\r",
      "  760 / 1263\r",
      "  770 / 1263\r",
      "  780 / 1263\r",
      "  790 / 1263\r",
      "  800 / 1263\r",
      "  810 / 1263\r",
      "  820 / 1263\r",
      "  830 / 1263\r",
      "  840 / 1263\r",
      "  850 / 1263\r",
      "  860 / 1263\r",
      "  870 / 1263\r",
      "  880 / 1263\r",
      "  890 / 1263\r",
      "  900 / 1263\r",
      "  910 / 1263\r",
      "  920 / 1263\r",
      "  930 / 1263\r",
      "  940 / 1263\r",
      "  950 / 1263\r",
      "  960 / 1263\r",
      "  970 / 1263\r",
      "  980 / 1263\r",
      "  990 / 1263\r",
      " 1000 / 1263\r",
      " 1010 / 1263\r",
      " 1020 / 1263\r",
      " 1030 / 1263\r",
      " 1040 / 1263\r",
      " 1050 / 1263\r",
      " 1060 / 1263\r",
      " 1070 / 1263\r",
      " 1080 / 1263\r",
      " 1090 / 1263\r",
      " 1100 / 1263\r",
      " 1110 / 1263\r",
      " 1120 / 1263\r",
      " 1130 / 1263\r",
      " 1140 / 1263\r",
      " 1150 / 1263\r",
      " 1160 / 1263\r",
      " 1170 / 1263\r",
      " 1180 / 1263\r",
      " 1190 / 1263\r",
      " 1200 / 1263\r",
      " 1210 / 1263\r",
      " 1220 / 1263\r",
      " 1230 / 1263\r",
      " 1240 / 1263\r",
      " 1250 / 1263\r",
      " 1260 / 1263\n",
      "done.\n",
      "\n",
      "Progressive alignment 2/2... \n",
      "\r",
      "STEP     1 / 1262 (thread    0) f\b\b\r",
      "STEP     2 / 1262 (thread    1) f\b\b\r",
      "STEP     3 / 1262 (thread    2) f\b\b\r",
      "STEP     4 / 1262 (thread    3) f\b\b\r",
      "STEP     6 / 1262 (thread    5) f\b\b\r",
      "STEP     5 / 1262 (thread    4) f\b\b\r",
      "STEP     7 / 1262 (thread    2) f\b\b\r",
      "STEP     8 / 1262 (thread    3) f\b\b\r",
      "STEP     9 / 1262 (thread    5) f\b\b\r",
      "STEP    10 / 1262 (thread    2) f\b\b\r",
      "STEP    11 / 1262 (thread    4) f\b\b\r",
      "STEP    12 / 1262 (thread    3) f\b\b\r",
      "STEP    13 / 1262 (thread    5) f\b\b\r",
      "STEP    14 / 1262 (thread    2) f\b\b\r",
      "STEP    15 / 1262 (thread    4) f\b\b\r",
      "STEP    16 / 1262 (thread    2) f\b\b\r",
      "STEP    17 / 1262 (thread    5) f\b\b\r",
      "STEP    18 / 1262 (thread    3) f\b\b\r",
      "STEP    19 / 1262 (thread    4) f\b\b\r",
      "STEP    20 / 1262 (thread    2) f\b\b\r",
      "STEP    21 / 1262 (thread    0) f\b\b\r",
      "STEP    22 / 1262 (thread    1) f\b\b\r",
      "STEP    23 / 1262 (thread    2) f\b\b\r",
      "STEP    24 / 1262 (thread    4) f\b\b\r",
      "STEP    25 / 1262 (thread    5) f\b\b\r",
      "STEP    26 / 1262 (thread    3) f\b\b\r",
      "STEP    27 / 1262 (thread    2) f\b\b\r",
      "STEP    28 / 1262 (thread    4) f\b\b\r",
      "STEP    29 / 1262 (thread    1) f\b\b\r",
      "STEP    30 / 1262 (thread    0) f\b\b\r",
      "STEP    31 / 1262 (thread    5) f\b\b\r",
      "STEP    32 / 1262 (thread    3) f\b\b\r",
      "STEP    33 / 1262 (thread    2) f\b\b\r",
      "STEP    34 / 1262 (thread    4) f\b\b\r",
      "STEP    35 / 1262 (thread    1) f\b\b\r",
      "STEP    36 / 1262 (thread    0) f\b\b\r",
      "STEP    37 / 1262 (thread    2) f\b\b\r",
      "STEP    38 / 1262 (thread    5) f\b\b\r",
      "STEP    39 / 1262 (thread    3) f\b\b\r",
      "STEP    40 / 1262 (thread    4) f\b\b\r",
      "STEP    41 / 1262 (thread    2) f\b\b\r",
      "STEP    42 / 1262 (thread    4) f\b\b\r",
      "STEP    43 / 1262 (thread    1) f\b\b\r",
      "STEP    44 / 1262 (thread    0) f\b\b\r",
      "STEP    45 / 1262 (thread    5) f\b\b\r",
      "STEP    46 / 1262 (thread    3) f\b\b\r",
      "STEP    47 / 1262 (thread    2) f\b\b\r",
      "STEP    48 / 1262 (thread    4) f\b\b\r",
      "STEP    49 / 1262 (thread    2) f\b\b\r",
      "STEP    50 / 1262 (thread    0) f\b\b\r",
      "STEP    51 / 1262 (thread    1) f\b\b\r",
      "STEP    52 / 1262 (thread    3) f\b\b\r",
      "STEP    53 / 1262 (thread    5) f\b\b\r",
      "STEP    54 / 1262 (thread    4) f\b\b\r",
      "STEP    55 / 1262 (thread    2) f\b\b\r",
      "STEP    56 / 1262 (thread    0) f\b\b\r",
      "STEP    57 / 1262 (thread    1) f\b\b\r",
      "STEP    58 / 1262 (thread    3) f\b\b\r",
      "STEP    59 / 1262 (thread    4) f\b\b\r",
      "STEP    60 / 1262 (thread    0) f\b\b\r",
      "STEP    61 / 1262 (thread    1) f\b\b\r",
      "STEP    62 / 1262 (thread    2) f\b\b\r",
      "STEP    63 / 1262 (thread    3) f\b\b\r",
      "STEP    64 / 1262 (thread    4)\r",
      "STEP    65 / 1262 (thread    5) f\b\b f\b\b\r",
      "STEP    66 / 1262 (thread    2) f\b\b\r",
      "STEP    67 / 1262 (thread    1) f\b\b\r",
      "STEP    68 / 1262 (thread    0) f\b\b\r",
      "STEP    69 / 1262 (thread    4) f\b\b\r",
      "STEP    70 / 1262 (thread    3) f\b\b\r",
      "STEP    71 / 1262 (thread    2) f\b\b\r",
      "STEP    72 / 1262 (thread    5) f\b\b\r",
      "STEP    73 / 1262 (thread    4) f\b\b\r",
      "STEP    74 / 1262 (thread    2) f\b\b\r",
      "STEP    75 / 1262 (thread    1) f\b\b\r",
      "STEP    76 / 1262 (thread    0) f\b\b\r",
      "STEP    77 / 1262 (thread    3) f\b\b\r",
      "STEP    78 / 1262 (thread    5) f\b\b\r",
      "STEP    79 / 1262 (thread    4) f\b\b\r",
      "STEP    80 / 1262 (thread    2) f\b\b\r",
      "STEP    81 / 1262 (thread    0) f\b\b\r",
      "STEP    82 / 1262 (thread    1) f\b\b\r",
      "STEP    83 / 1262 (thread    3) f\b\b\r",
      "STEP    84 / 1262 (thread    2) f\b\b\r",
      "STEP    85 / 1262 (thread    4) f\b\b\r",
      "STEP    86 / 1262 (thread    5) f\b\b\r",
      "STEP    87 / 1262 (thread    2) f\b\b\r",
      "STEP    88 / 1262 (thread    4) f\b\b\r",
      "STEP    89 / 1262 (thread    1) f\b\b\r",
      "STEP    90 / 1262 (thread    0) f\b\b\r",
      "STEP    91 / 1262 (thread    3) f\b\b\r",
      "STEP    92 / 1262 (thread    5) f\b\b\r",
      "STEP    93 / 1262 (thread    2) f\b\b\r",
      "STEP    94 / 1262 (thread    4) f\b\b\r",
      "STEP    95 / 1262 (thread    1) f\b\b\r",
      "STEP    96 / 1262 (thread    0) f\b\b\r",
      "STEP    97 / 1262 (thread    2) f\b\b\r",
      "STEP    98 / 1262 (thread    3) f\b\b\r",
      "STEP    99 / 1262 (thread    4) f\b\b\r",
      "STEP   100 / 1262 (thread    5) f\b\b\r",
      "STEP   101 / 1262 (thread    2) f\b\b\r",
      "STEP   102 / 1262 (thread    1) f\b\b\r",
      "STEP   103 / 1262 (thread    0) f\b\b\r",
      "STEP   104 / 1262 (thread    4) f\b\b\r",
      "STEP   105 / 1262 (thread    3) f\b\b"
     ]
    },
    {
     "name": "stderr",
     "output_type": "stream",
     "text": [
      "\r",
      "STEP   106 / 1262 (thread    5) f\b\b\r",
      "STEP   107 / 1262 (thread    2) f\b\b\r",
      "STEP   108 / 1262 (thread    4) f\b\b\r",
      "STEP   109 / 1262 (thread    1) f\b\b\r",
      "STEP   110 / 1262 (thread    0) f\b\b\r",
      "STEP   111 / 1262 (thread    3) f\b\b\r",
      "STEP   112 / 1262 (thread    2) f\b\b\r",
      "STEP   113 / 1262 (thread    4) f\b\b\r",
      "STEP   114 / 1262 (thread    5) f\b\b\r",
      "STEP   115 / 1262 (thread    4) f\b\b\r",
      "STEP   116 / 1262 (thread    1) f\b\b\r",
      "STEP   117 / 1262 (thread    0) f\b\b\r",
      "STEP   118 / 1262 (thread    3) f\b\b\r",
      "STEP   119 / 1262 (thread    2) f\b\b\r",
      "STEP   120 / 1262 (thread    5) f\b\b\r",
      "STEP   122 / 1262 (thread    1) f\b\b\r",
      "STEP   123 / 1262 (thread    2) f\b\b\r",
      "STEP   124 / 1262 (thread    3) f\b\b\r",
      "STEP   125 / 1262 (thread    4) f\b\b\r",
      "STEP   126 / 1262 (thread    1) f\b\b\r",
      "STEP   127 / 1262 (thread    2) f\b\b\r",
      "STEP   128 / 1262 (thread    5) f\b\b\r",
      "STEP   121 / 1262 (thread    0) f\b\b\r",
      "STEP   130 / 1262 (thread    3) f\b\b\r",
      "STEP   131 / 1262 (thread    2) f\b\b\r",
      "STEP   132 / 1262 (thread    1) f\b\b\r",
      "STEP   133 / 1262 (thread    2) f\b\b\r",
      "STEP   134 / 1262 (thread    3) f\b\b\r",
      "STEP   135 / 1262 (thread    5) f\b\b\r",
      "STEP   136 / 1262 (thread    0) f\b\b\r",
      "STEP   129 / 1262 (thread    4) f\b\b\r",
      "STEP   137 / 1262 (thread    2) f\b\b\r",
      "STEP   138 / 1262 (thread    1) f\b\b\r",
      "STEP   139 / 1262 (thread    3) f\b\b\r",
      "STEP   140 / 1262 (thread    2) f\b\b\r",
      "STEP   141 / 1262 (thread    5) f\b\b\r",
      "STEP   142 / 1262 (thread    0) f\b\b\r",
      "STEP   143 / 1262 (thread    4) f\b\b\r",
      "STEP   144 / 1262 (thread    2) f\b\b\r",
      "STEP   145 / 1262 (thread    1) f\b\b\r",
      "STEP   146 / 1262 (thread    3) f\b\b\r",
      "STEP   147 / 1262 (thread    4) f\b\b\r",
      "STEP   148 / 1262 (thread    0) f\b\b\r",
      "STEP   149 / 1262 (thread    2) f\b\b\r",
      "STEP   150 / 1262 (thread    1) f\b\b\r",
      "STEP   151 / 1262 (thread    3) f\b\b\r",
      "STEP   152 / 1262 (thread    5) f\b\b\r",
      "STEP   153 / 1262 (thread    4) f\b\b\r",
      "STEP   154 / 1262 (thread    2) f\b\b\r",
      "STEP   155 / 1262 (thread    3) f\b\b\r",
      "STEP   156 / 1262 (thread    5) f\b\b\r",
      "STEP   157 / 1262 (thread    4) f\b\b\r",
      "STEP   158 / 1262 (thread    2) f\b\b\r",
      "STEP   159 / 1262 (thread    0) f\b\b\r",
      "STEP   160 / 1262 (thread    4) f\b\b\r",
      "STEP   161 / 1262 (thread    3) f\b\b\r",
      "STEP   162 / 1262 (thread    1) f\b\b\r",
      "STEP   163 / 1262 (thread    5) f\b\b\r",
      "STEP   164 / 1262 (thread    2) f\b\b\r",
      "STEP   165 / 1262 (thread    4) f\b\b\r",
      "STEP   166 / 1262 (thread    0) f\b\b\r",
      "STEP   167 / 1262 (thread    2) f\b\b\r",
      "STEP   168 / 1262 (thread    4) f\b\b\r",
      "STEP   169 / 1262 (thread    5) f\b\b\r",
      "STEP   170 / 1262 (thread    1) f\b\b\r",
      "STEP   171 / 1262 (thread    4) f\b\b\r",
      "STEP   172 / 1262 (thread    3) f\b\b\r",
      "STEP   173 / 1262 (thread    5) f\b\b\r",
      "STEP   174 / 1262 (thread    4) f\b\b\r",
      "STEP   175 / 1262 (thread    1) f\b\b\r",
      "STEP   176 / 1262 (thread    2) f\b\b\r",
      "STEP   177 / 1262 (thread    4) f\b\b\r",
      "STEP   178 / 1262 (thread    3) f\b\b\r",
      "STEP   179 / 1262 (thread    0) f\b\b\r",
      "STEP   180 / 1262 (thread    2) f\b\b\r",
      "STEP   181 / 1262 (thread    5) f\b\b\r",
      "STEP   182 / 1262 (thread    1) f\b\b\r",
      "STEP   183 / 1262 (thread    4) f\b\b\r",
      "STEP   184 / 1262 (thread    2) f\b\b\r",
      "STEP   185 / 1262 (thread    3) f\b\b\r",
      "STEP   186 / 1262 (thread    5) f\b\b\r",
      "STEP   187 / 1262 (thread    0) f\b\b\r",
      "STEP   188 / 1262 (thread    4) f\b\b\r",
      "STEP   189 / 1262 (thread    2) f\b\b\r",
      "STEP   190 / 1262 (thread    1) f\b\b\r",
      "STEP   191 / 1262 (thread    3) f\b\b\r",
      "STEP   192 / 1262 (thread    4) f\b\b\r",
      "STEP   193 / 1262 (thread    2) f\b\b\r",
      "STEP   194 / 1262 (thread    5) f\b\b\r",
      "STEP   195 / 1262 (thread    0) f\b\b\r",
      "STEP   196 / 1262 (thread    4) f\b\b\r",
      "STEP   197 / 1262 (thread    1) f\b\b\r",
      "STEP   198 / 1262 (thread    2) f\b\b\r",
      "STEP   199 / 1262 (thread    3) f\b\b\r",
      "STEP   200 / 1262 (thread    4) f\b\b\r",
      "STEP   201 / 1262 (thread    2) f\b\b\r",
      "STEP   202 / 1262 (thread    5) f\b\b\r",
      "STEP   203 / 1262 (thread    0) f\b\b\r",
      "STEP   204 / 1262 (thread    3) f\b\b\r",
      "STEP   205 / 1262 (thread    1) f\b\b\r",
      "STEP   206 / 1262 (thread    4) f\b\b\r",
      "STEP   207 / 1262 (thread    2) f\b\b\r",
      "STEP   208 / 1262 (thread    5) f\b\b\r",
      "STEP   209 / 1262 (thread    0) f\b\b\r",
      "STEP   210 / 1262 (thread    4) f\b\b\r",
      "STEP   211 / 1262 (thread    2) f\b\b\r",
      "STEP   212 / 1262 (thread    3) f\b\b\r",
      "STEP   213 / 1262 (thread    2) f\b\b\r",
      "STEP   214 / 1262 (thread    1) f\b\b\r",
      "STEP   215 / 1262 (thread    4) f\b\b\r",
      "STEP   216 / 1262 (thread    4) f\b\b\r",
      "STEP   217 / 1262 (thread    3) f\b\b\r",
      "STEP   218 / 1262 (thread    5) f\b\b\r",
      "STEP   219 / 1262 (thread    1) f\b\b\r",
      "STEP   220 / 1262 (thread    0) f\b\b\r",
      "STEP   221 / 1262 (thread    4) f\b\b\r",
      "STEP   222 / 1262 (thread    2) f\b\b\r",
      "STEP   223 / 1262 (thread    3) f\b\b\r",
      "STEP   224 / 1262 (thread    4) f\b\b\r",
      "STEP   225 / 1262 (thread    1) f\b\b\r",
      "STEP   226 / 1262 (thread    0) f\b\b\r",
      "STEP   227 / 1262 (thread    5) f\b\b\r",
      "STEP   228 / 1262 (thread    4) f\b\b\r",
      "STEP   229 / 1262 (thread    2) f\b\b\r",
      "STEP   230 / 1262 (thread    3) f\b\b\r",
      "STEP   231 / 1262 (thread    0) f\b\b\r",
      "STEP   232 / 1262 (thread    1) f\b\b\r",
      "STEP   233 / 1262 (thread    5) f\b\b\r",
      "STEP   234 / 1262 (thread    4) f\b\b\r",
      "STEP   235 / 1262 (thread    2) f\b\b\r",
      "STEP   236 / 1262 (thread    3) f\b\b\r",
      "STEP   237 / 1262 (thread    4) f\b\b\r",
      "STEP   238 / 1262 (thread    5) f\b\b\r",
      "STEP   239 / 1262 (thread    4) f\b\b\r",
      "STEP   240 / 1262 (thread    3) f\b\b\r",
      "STEP   241 / 1262 (thread    2) f\b\b\r",
      "STEP   242 / 1262 (thread    0) f\b\b\r",
      "STEP   243 / 1262 (thread    1) f\b\b\r",
      "STEP   244 / 1262 (thread    5) f\b\b\r",
      "STEP   245 / 1262 (thread    2) f\b\b\r",
      "STEP   247 / 1262 (thread    0) f\b\b\r",
      "STEP   248 / 1262 (thread    2) f\b\b\r",
      "STEP   249 / 1262 (thread    3) f\b\b\r",
      "STEP   250 / 1262 (thread    1) f\b\b\r",
      "STEP   251 / 1262 (thread    5) f\b\b\r",
      "STEP   246 / 1262 (thread    4) f\b\b\r",
      "STEP   252 / 1262 (thread    2) f\b\b\r",
      "STEP   253 / 1262 (thread    0) f\b\b\r",
      "STEP   254 / 1262 (thread    3) f\b\b\r",
      "STEP   256 / 1262 (thread    2) f\b\b\r",
      "STEP   255 / 1262 (thread    4) f\b\b\r",
      "STEP   258 / 1262 (thread    5) f\b\b\r",
      "STEP   259 / 1262 (thread    0) f\b\b\r",
      "STEP   257 / 1262 (thread    1) f\b\b\r",
      "STEP   260 / 1262 (thread    4) f\b\b\r",
      "STEP   261 / 1262 (thread    2) f\b\b\r",
      "STEP   262 / 1262 (thread    5) f\b\b\r",
      "STEP   263 / 1262 (thread    3) f\b\b\r",
      "STEP   264 / 1262 (thread    0) f\b\b\r",
      "STEP   265 / 1262 (thread    4) f\b\b\r",
      "STEP   266 / 1262 (thread    2) f\b\b\r",
      "STEP   267 / 1262 (thread    5) f\b\b\r",
      "STEP   268 / 1262 (thread    2) f\b\b\r",
      "STEP   269 / 1262 (thread    1) f\b\b\r",
      "STEP   270 / 1262 (thread    4) f\b\b\r",
      "STEP   271 / 1262 (thread    2) f\b\b\r",
      "STEP   272 / 1262 (thread    5) f\b\b\r",
      "STEP   273 / 1262 (thread    3) f\b\b\r",
      "STEP   274 / 1262 (thread    0) f\b\b\r",
      "STEP   275 / 1262 (thread    4) f\b\b\r",
      "STEP   276 / 1262 (thread    2) f\b\b\r",
      "STEP   277 / 1262 (thread    5) f\b\b\r",
      "STEP   278 / 1262 (thread    3) f\b\b\r",
      "STEP   279 / 1262 (thread    0) f\b\b\r",
      "STEP   280 / 1262 (thread    1) f\b\b\r",
      "STEP   281 / 1262 (thread    4) f\b\b\r",
      "STEP   282 / 1262 (thread    2) f\b\b\r",
      "STEP   283 / 1262 (thread    5) f\b\b\r",
      "STEP   284 / 1262 (thread    3) f\b\b\r",
      "STEP   285 / 1262 (thread    4) f\b\b\r",
      "STEP   286 / 1262 (thread    2) f\b\b\r",
      "STEP   287 / 1262 (thread    1) f\b\b\r",
      "STEP   288 / 1262 (thread    4) f\b\b\r",
      "STEP   289 / 1262 (thread    5) f\b\b\r",
      "STEP   290 / 1262 (thread    4) f\b\b\r",
      "STEP   291 / 1262 (thread    1) f\b\b\r",
      "STEP   292 / 1262 (thread    0) f\b\b\r",
      "STEP   293 / 1262 (thread    2) f\b\b\r",
      "STEP   294 / 1262 (thread    4) f\b\b\r",
      "STEP   295 / 1262 (thread    3) f\b\b\r",
      "STEP   296 / 1262 (thread    2) f\b\b\r",
      "STEP   297 / 1262 (thread    4) f\b\b\r",
      "STEP   298 / 1262 (thread    0) f\b\b\r",
      "STEP   299 / 1262 (thread    2) f\b\b\r",
      "STEP   300 / 1262 (thread    5) f\b\b\r",
      "STEP   301 / 1262 (thread    3) f\b\b\r",
      "STEP   302 / 1262 (thread    1) f\b\b\r",
      "STEP   303 / 1262 (thread    4) f\b\b\r",
      "STEP   304 / 1262 (thread    2) f\b\b\r",
      "STEP   305 / 1262 (thread    5) f\b\b\r",
      "STEP   306 / 1262 (thread    3) f\b\b\r",
      "STEP   307 / 1262 (thread    0) f\b\b\r",
      "STEP   308 / 1262 (thread    4) f\b\b\r",
      "STEP   309 / 1262 (thread    2) f\b\b\r",
      "STEP   310 / 1262 (thread    1) f\b\b\r",
      "STEP   311 / 1262 (thread    4) f\b\b\r",
      "STEP   312 / 1262 (thread    5) f\b\b\r",
      "STEP   313 / 1262 (thread    3) f\b\b\r",
      "STEP   314 / 1262 (thread    2) f\b\b\r",
      "STEP   315 / 1262 (thread    0) f\b\b\r",
      "STEP   316 / 1262 (thread    4) f\b\b\r",
      "STEP   317 / 1262 (thread    2) f\b\b\r",
      "STEP   318 / 1262 (thread    1) f\b\b\r",
      "STEP   319 / 1262 (thread    5) f\b\b\r",
      "STEP   320 / 1262 (thread    3) f\b\b\r",
      "STEP   321 / 1262 (thread    4) f\b\b\r",
      "STEP   322 / 1262 (thread    2) f\b\b\r",
      "STEP   323 / 1262 (thread    0) f\b\b\r",
      "STEP   324 / 1262 (thread    4) f\b\b\r",
      "STEP   325 / 1262 (thread    1) f\b\b\r",
      "STEP   326 / 1262 (thread    5) f\b\b\r",
      "STEP   327 / 1262 (thread    3) f\b\b\r",
      "STEP   328 / 1262 (thread    4) f\b\b\r",
      "STEP   329 / 1262 (thread    0) f\b\b\r",
      "STEP   330 / 1262 (thread    2) f\b\b\r",
      "STEP   331 / 1262 (thread    5) f\b\b\r",
      "STEP   332 / 1262 (thread    1) f\b\b\r",
      "STEP   333 / 1262 (thread    4) f\b\b\r",
      "STEP   334 / 1262 (thread    0)\r",
      "STEP   335 / 1262 (thread    4) f\b\b f\b\b\r",
      "STEP   336 / 1262 (thread    5) f\b\b\r",
      "STEP   337 / 1262 (thread    2) f\b\b\r",
      "STEP   338 / 1262 (thread    3) f\b\b\r",
      "STEP   339 / 1262 (thread    4) f\b\b\r",
      "STEP   340 / 1262 (thread    0) f\b\b\r",
      "STEP   341 / 1262 (thread    1) f\b\b\r",
      "STEP   342 / 1262 (thread    2) f\b\b\r",
      "STEP   343 / 1262 (thread    4) f\b\b\r",
      "STEP   344 / 1262 (thread    5) f\b\b\r",
      "STEP   345 / 1262 (thread    3) f\b\b\r",
      "STEP   346 / 1262 (thread    2) f\b\b\r",
      "STEP   347 / 1262 (thread    0) f\b\b\r",
      "STEP   348 / 1262 (thread    1) f\b\b\r",
      "STEP   349 / 1262 (thread    4) f\b\b\r",
      "STEP   350 / 1262 (thread    2) f\b\b\r",
      "STEP   351 / 1262 (thread    4) f\b\b\r",
      "STEP   352 / 1262 (thread    0) f\b\b\r",
      "STEP   353 / 1262 (thread    5) f\b\b\r",
      "STEP   354 / 1262 (thread    3) f\b\b\r",
      "STEP   355 / 1262 (thread    4) f\b\b\r",
      "STEP   356 / 1262 (thread    2) f\b\b\r",
      "STEP   357 / 1262 (thread    1) f\b\b\r",
      "STEP   358 / 1262 (thread    4) f\b\b\r",
      "STEP   359 / 1262 (thread    1) f\b\b\r",
      "STEP   360 / 1262 (thread    2) f\b\b\r",
      "STEP   361 / 1262 (thread    5) f\b\b\r",
      "STEP   362 / 1262 (thread    3) f\b\b\r",
      "STEP   363 / 1262 (thread    0) f\b\b\r",
      "STEP   364 / 1262 (thread    2) f\b\b\r",
      "STEP   365 / 1262 (thread    2) f\b\b\r",
      "STEP   366 / 1262 (thread    5) f\b\b\r",
      "STEP   367 / 1262 (thread    4) f\b\b\r",
      "STEP   368 / 1262 (thread    0) f\b\b\r",
      "STEP   369 / 1262 (thread    3) f\b\b\r",
      "STEP   370 / 1262 (thread    1) f\b\b\r",
      "STEP   371 / 1262 (thread    2) f\b\b\r",
      "STEP   372 / 1262 (thread    5) f\b\b\r",
      "STEP   373 / 1262 (thread    4) f\b\b\r",
      "STEP   374 / 1262 (thread    2) f\b\b\r",
      "STEP   375 / 1262 (thread    5) f\b\b\r",
      "STEP   376 / 1262 (thread    0) f\b\b\r",
      "STEP   377 / 1262 (thread    3) f\b\b\r",
      "STEP   378 / 1262 (thread    1) f\b\b\r",
      "STEP   379 / 1262 (thread    4) f\b\b\r",
      "STEP   380 / 1262 (thread    2) f\b\b\r",
      "STEP   381 / 1262 (thread    4) f\b\b\r",
      "STEP   382 / 1262 (thread    0) f\b\b\r",
      "STEP   383 / 1262 (thread    2) f\b\b\r",
      "STEP   384 / 1262 (thread    5) f\b\b\r",
      "STEP   385 / 1262 (thread    3) f\b\b\r",
      "STEP   386 / 1262 (thread    1) f\b\b\r",
      "STEP   387 / 1262 (thread    4) f\b\b\r",
      "STEP   388 / 1262 (thread    2) f\b\b\r",
      "STEP   389 / 1262 (thread    0) f\b\b\r",
      "STEP   390 / 1262 (thread    5) f\b\b\r",
      "STEP   391 / 1262 (thread    4) f\b\b\r",
      "STEP   392 / 1262 (thread    3) f\b\b\r",
      "STEP   393 / 1262 (thread    1) f\b\b\r",
      "STEP   394 / 1262 (thread    2) f\b\b\r",
      "STEP   395 / 1262 (thread    4) f\b\b\r",
      "STEP   396 / 1262 (thread    5) f\b\b\r",
      "STEP   397 / 1262 (thread    2) f\b\b\r",
      "STEP   398 / 1262 (thread    3) f\b\b\r",
      "STEP   399 / 1262 (thread    1) f\b\b\r",
      "STEP   400 / 1262 (thread    0) f\b\b\r",
      "STEP   401 / 1262 (thread    2) f\b\b\r",
      "STEP   402 / 1262 (thread    2) f\b\b\r",
      "STEP   403 / 1262 (thread    4) f\b\b\r",
      "STEP   404 / 1262 (thread    0) f\b\b\r",
      "STEP   405 / 1262 (thread    5) f\b\b\r",
      "STEP   406 / 1262 (thread    4) f\b\b\r",
      "STEP   407 / 1262 (thread    3) f\b\b\r",
      "STEP   408 / 1262 (thread    0) f\b\b\r",
      "STEP   409 / 1262 (thread    1) f\b\b\r",
      "STEP   410 / 1262 (thread    2) f\b\b\r",
      "STEP   411 / 1262 (thread    5) f\b\b\r",
      "STEP   412 / 1262 (thread    2) f\b\b\r",
      "STEP   413 / 1262 (thread    4) f\b\b\r",
      "STEP   414 / 1262 (thread    3) f\b\b\r",
      "STEP   415 / 1262 (thread    1) f\b\b\r",
      "STEP   416 / 1262 (thread    2) f\b\b\r",
      "STEP   417 / 1262 (thread    0) f\b\b\r",
      "STEP   418 / 1262 (thread    3) f\b\b\r",
      "STEP   419 / 1262 (thread    1) f\b\b\r",
      "STEP   420 / 1262 (thread    4) f\b\b\r",
      "STEP   421 / 1262 (thread    5) f\b\b\r",
      "STEP   422 / 1262 (thread    2) f\b\b\r",
      "STEP   423 / 1262 (thread    0) f\b\b\r",
      "STEP   424 / 1262 (thread    4) f\b\b\r",
      "STEP   425 / 1262 (thread    2) f\b\b\r",
      "STEP   426 / 1262 (thread    5) f\b\b\r",
      "STEP   427 / 1262 (thread    3) f\b\b\r",
      "STEP   428 / 1262 (thread    1) f\b\b\r",
      "STEP   429 / 1262 (thread    2) f\b\b\r",
      "STEP   430 / 1262 (thread    4) f\b\b\r",
      "STEP   431 / 1262 (thread    0) f\b\b\r",
      "STEP   432 / 1262 (thread    4) f\b\b\r",
      "STEP   433 / 1262 (thread    1) f\b\b\r",
      "STEP   434 / 1262 (thread    0) f\b\b\r",
      "STEP   435 / 1262 (thread    4) f\b\b\r",
      "STEP   436 / 1262 (thread    2) f\b\b\r",
      "STEP   437 / 1262 (thread    5) f\b\b\r",
      "STEP   438 / 1262 (thread    3) f\b\b\r",
      "STEP   439 / 1262 (thread    1) f\b\b\r",
      "STEP   440 / 1262 (thread    0) f\b\b\r",
      "STEP   441 / 1262 (thread    2) f\b\b\r",
      "STEP   442 / 1262 (thread    3) f\b\b\r",
      "STEP   443 / 1262 (thread    4) f\b\b\r",
      "STEP   444 / 1262 (thread    2) f\b\b\r",
      "STEP   445 / 1262 (thread    2) f\b\b\r",
      "STEP   446 / 1262 (thread    5) f\b\b\r",
      "STEP   447 / 1262 (thread    3) f\b\b\r",
      "STEP   448 / 1262 (thread    1) f\b\b\r",
      "STEP   449 / 1262 (thread    4) f\b\b\r",
      "STEP   450 / 1262 (thread    2) f\b\b\r",
      "STEP   451 / 1262 (thread    0) f\b\b\r",
      "STEP   452 / 1262 (thread    4) f\b\b\r",
      "STEP   453 / 1262 (thread    2) f\b\b\r",
      "STEP   454 / 1262 (thread    5) f\b\b\r",
      "STEP   455 / 1262 (thread    3) f\b\b\r",
      "STEP   456 / 1262 (thread    1) f\b\b\r",
      "STEP   457 / 1262 (thread    2) f\b\b\r",
      "STEP   458 / 1262 (thread    0) f\b\b\r",
      "STEP   459 / 1262 (thread    4) f\b\b\r",
      "STEP   460 / 1262 (thread    5) f\b\b\r",
      "STEP   461 / 1262 (thread    2) f\b\b\r",
      "STEP   462 / 1262 (thread    3) f\b\b\r",
      "STEP   463 / 1262 (thread    1) f\b\b\r",
      "STEP   464 / 1262 (thread    4) f\b\b\r",
      "STEP   465 / 1262 (thread    0) f\b\b\r",
      "STEP   466 / 1262 (thread    2) f\b\b\r",
      "STEP   467 / 1262 (thread    4) f\b\b\r",
      "STEP   468 / 1262 (thread    1) f\b\b\r",
      "STEP   469 / 1262 (thread    3) f\b\b\r",
      "STEP   470 / 1262 (thread    5) f\b\b\r",
      "STEP   471 / 1262 (thread    1) f\b\b\r",
      "STEP   472 / 1262 (thread    2) f\b\b\r",
      "STEP   473 / 1262 (thread    3) f\b\b\r",
      "STEP   474 / 1262 (thread    4) f\b\b\r",
      "STEP   475 / 1262 (thread    5) f\b\b\r",
      "STEP   476 / 1262 (thread    0) f\b\b\r",
      "STEP   477 / 1262 (thread    2) f\b\b\r",
      "STEP   478 / 1262 (thread    4) f\b\b\r",
      "STEP   479 / 1262 (thread    1) f\b\b\r",
      "STEP   480 / 1262 (thread    3) f\b\b\r",
      "STEP   481 / 1262 (thread    5) f\b\b\r",
      "STEP   482 / 1262 (thread    2) f\b\b\r",
      "STEP   483 / 1262 (thread    0) f\b\b\r",
      "STEP   484 / 1262 (thread    4) f\b\b\r",
      "STEP   485 / 1262 (thread    5) f\b\b\r",
      "STEP   486 / 1262 (thread    0) f\b\b\r",
      "STEP   487 / 1262 (thread    2) f\b\b\r",
      "STEP   488 / 1262 (thread    4) f\b\b\r",
      "STEP   489 / 1262 (thread    3) f\b\b\r",
      "STEP   490 / 1262 (thread    1) f\b\b\r",
      "STEP   491 / 1262 (thread    0) f\b\b\r",
      "STEP   492 / 1262 (thread    1) f\b\b\r",
      "STEP   493 / 1262 (thread    2) f\b\b\r",
      "STEP   494 / 1262 (thread    4) f\b\b\r",
      "STEP   495 / 1262 (thread    5) f\b\b\r",
      "STEP   496 / 1262 (thread    3) f\b\b\r",
      "STEP   497 / 1262 (thread    2) f\b\b\r",
      "STEP   498 / 1262 (thread    0) f\b\b\r",
      "STEP   499 / 1262 (thread    4) f\b\b\r",
      "STEP   500 / 1262 (thread    1) f\b\b\r",
      "STEP   501 / 1262 (thread    2) f\b\b\r",
      "STEP   601 / 1262 (thread    4) f\b\b\r",
      "STEP   701 / 1262 (thread    5) f\b\b\r",
      "STEP   801 / 1262 (thread    1) f\b\b"
     ]
    },
    {
     "name": "stderr",
     "output_type": "stream",
     "text": [
      "\r",
      "STEP   901 / 1262 (thread    2) f\b\b\r",
      "STEP  1001 / 1262 (thread    0) f\b\b\n",
      "Reallocating..done. *alloclen = 1870\n",
      "\r",
      "STEP  1101 / 1262 (thread    2) f\b\b\r",
      "STEP  1201 / 1262 (thread    2) f\b\b"
     ]
    },
    {
     "name": "stderr",
     "output_type": "stream",
     "text": [
      "\n",
      "done.\n",
      "\n",
      "disttbfast (nuc) Version 7.490\n",
      "alg=A, model=DNA200 (2), 1.53 (4.59), -0.00 (-0.00), noshift, amax=0.0\n",
      "6 thread(s)\n",
      "\n",
      "\n",
      "Strategy:\n",
      " FFT-NS-2 (Fast but rough)\n",
      " Progressive method (guide trees were built 2 times.)\n",
      "\n",
      "If unsure which option to use, try 'mafft --auto input > output'.\n",
      "For more information, see 'mafft --help', 'mafft --man' and the mafft page.\n",
      "\n",
      "The default gap scoring scheme has been changed in version 7.110 (2013 Oct).\n",
      "It tends to insert more gaps into gap-rich regions than previous versions.\n",
      "To disable this change, add the --leavegappyregion option.\n",
      "\n"
     ]
    },
    {
     "name": "stdout",
     "output_type": "stream",
     "text": [
      "{'max_gap_frequency': 1.0, 'min_conservation': 0.4, 'alignment': TabularMSA[DNA]\n",
      "-----------------------------------------------------------------------\n",
      "Stats:\n",
      "    sequence count: 1263\n",
      "    position count: 522\n",
      "-----------------------------------------------------------------------\n",
      "TGAGGAATATTGGTCAATGGAGGCAACTCTGAA ... GCTGAGGCTCGAAGGTGCGGGTATCGAACAGG-\n",
      "TGAGGAATATTGGTCAATGGCCGGAAGGCTGAA ... GCTGAGGCACGAAAGTGCGGGGATCAAACAGG-\n",
      "...\n",
      "TGAGGAATATTGGTCAATGGGCGGAAGCCTGAA ... GCTGAGGCTCGAAAGCGTGGGGAGCAAACAGG-\n",
      "TCGGGAATATTGCGCAATGGAGGAAACTCTGAC ... GTTGAGGCACGAAAGTGTGGGGAGCAAACAGG-}\n",
      "{'max_gap_frequency': 1.0, 'min_conservation': 0.4, 'alignment': TabularMSA[DNA]\n",
      "-----------------------------------------------------------------------\n",
      "Stats:\n",
      "    sequence count: 1263\n",
      "    position count: 522\n",
      "-----------------------------------------------------------------------\n",
      "TGAGGAATATTGGTCAATGGAGGCAACTCTGAA ... GCTGAGGCTCGAAGGTGCGGGTATCGAACAGG-\n",
      "TGAGGAATATTGGTCAATGGCCGGAAGGCTGAA ... GCTGAGGCACGAAAGTGCGGGGATCAAACAGG-\n",
      "...\n",
      "TGAGGAATATTGGTCAATGGGCGGAAGCCTGAA ... GCTGAGGCTCGAAAGCGTGGGGAGCAAACAGG-\n",
      "TCGGGAATATTGCGCAATGGAGGAAACTCTGAC ... GTTGAGGCACGAAAGTGTGGGGAGCAAACAGG-}\n"
     ]
    },
    {
     "name": "stdout",
     "output_type": "stream",
     "text": [
      "{'n_threads': 6, 'alignment': <q2_types.feature_data._format.AlignedDNAFASTAFormat object at 0x7fdc83ff5fd0>}\n",
      "{'n_threads': 6, 'alignment': <q2_types.feature_data._format.AlignedDNAFASTAFormat object at 0x7fdc83ff5fd0>}\n",
      "Running external command line application. This may print messages to stdout and/or stderr.\n",
      "The command being run is below. This command cannot be manually re-run as it will depend on temporary files that no longer exist.\n",
      "\n",
      "Command: FastTreeMP -quote -nt /tmp/qiime2-archive-ji88t32h/80694e9d-fe44-4ef9-9611-b5d827b15b1b/data/aligned-dna-sequences.fasta\n",
      "\n"
     ]
    },
    {
     "name": "stderr",
     "output_type": "stream",
     "text": [
      "FastTree Version 2.1.10 Double precision (No SSE3), OpenMP (6 threads)\n",
      "Alignment: /tmp/qiime2-archive-ji88t32h/80694e9d-fe44-4ef9-9611-b5d827b15b1b/data/aligned-dna-sequences.fasta\n",
      "Nucleotide distances: Jukes-Cantor Joins: balanced Support: SH-like 1000\n",
      "Search: Normal +NNI +SPR (2 rounds range 10) +ML-NNI opt-each=1\n",
      "TopHits: 1.00*sqrtN close=default refresh=0.80\n",
      "ML Model: Jukes-Cantor, CAT approximation with 20 rate categories\n",
      "      0.14 seconds: Joined    100 of   1229\n"
     ]
    },
    {
     "name": "stderr",
     "output_type": "stream",
     "text": [
      "      0.33 seconds: Joined    300 of   1229\n",
      "      0.44 seconds: Joined    400 of   1229\n"
     ]
    },
    {
     "name": "stderr",
     "output_type": "stream",
     "text": [
      "      0.57 seconds: Joined    600 of   1229\n",
      "      0.74 seconds: Joined    800 of   1229\n"
     ]
    },
    {
     "name": "stderr",
     "output_type": "stream",
     "text": [
      "      0.89 seconds: Joined   1000 of   1229\n",
      "      1.03 seconds: Joined   1200 of   1229\n",
      "Initial topology in 1.04 seconds\n",
      "Refining topology: 41 rounds ME-NNIs, 2 rounds ME-SPRs, 21 rounds ML-NNIs\n"
     ]
    },
    {
     "name": "stderr",
     "output_type": "stream",
     "text": [
      "      1.13 seconds: ME NNI round 3 of 41, 101 of 1230 splits, 1 changes (max delta 0.000)\n",
      "      1.27 seconds: SPR round   1 of   2, 101 of 2462 nodes\n"
     ]
    },
    {
     "name": "stderr",
     "output_type": "stream",
     "text": [
      "      1.38 seconds: SPR round   1 of   2, 301 of 2462 nodes\n",
      "      1.50 seconds: SPR round   1 of   2, 501 of 2462 nodes\n"
     ]
    },
    {
     "name": "stderr",
     "output_type": "stream",
     "text": [
      "      1.62 seconds: SPR round   1 of   2, 701 of 2462 nodes\n",
      "      1.77 seconds: SPR round   1 of   2, 901 of 2462 nodes\n"
     ]
    },
    {
     "name": "stderr",
     "output_type": "stream",
     "text": [
      "      1.90 seconds: SPR round   1 of   2, 1101 of 2462 nodes\n",
      "      2.04 seconds: SPR round   1 of   2, 1301 of 2462 nodes\n"
     ]
    },
    {
     "name": "stderr",
     "output_type": "stream",
     "text": [
      "      2.19 seconds: SPR round   1 of   2, 1501 of 2462 nodes\n",
      "      2.34 seconds: SPR round   1 of   2, 1701 of 2462 nodes\n"
     ]
    },
    {
     "name": "stderr",
     "output_type": "stream",
     "text": [
      "      2.47 seconds: SPR round   1 of   2, 1901 of 2462 nodes\n",
      "      2.59 seconds: SPR round   1 of   2, 2101 of 2462 nodes\n"
     ]
    },
    {
     "name": "stderr",
     "output_type": "stream",
     "text": [
      "      2.71 seconds: SPR round   1 of   2, 2301 of 2462 nodes\n",
      "      2.81 seconds: ME NNI round 14 of 41, 801 of 1230 splits, 11 changes (max delta 0.005)\n"
     ]
    },
    {
     "name": "stderr",
     "output_type": "stream",
     "text": [
      "      2.96 seconds: SPR round   2 of   2, 201 of 2462 nodes\n",
      "      3.12 seconds: SPR round   2 of   2, 501 of 2462 nodes\n"
     ]
    },
    {
     "name": "stderr",
     "output_type": "stream",
     "text": [
      "      3.24 seconds: SPR round   2 of   2, 701 of 2462 nodes\n",
      "      3.36 seconds: SPR round   2 of   2, 901 of 2462 nodes\n"
     ]
    },
    {
     "name": "stderr",
     "output_type": "stream",
     "text": [
      "      3.47 seconds: SPR round   2 of   2, 1101 of 2462 nodes\n",
      "      3.60 seconds: SPR round   2 of   2, 1301 of 2462 nodes\n"
     ]
    },
    {
     "name": "stderr",
     "output_type": "stream",
     "text": [
      "      3.73 seconds: SPR round   2 of   2, 1501 of 2462 nodes\n",
      "      3.84 seconds: SPR round   2 of   2, 1701 of 2462 nodes\n"
     ]
    },
    {
     "name": "stderr",
     "output_type": "stream",
     "text": [
      "      3.94 seconds: SPR round   2 of   2, 1901 of 2462 nodes\n",
      "      4.06 seconds: SPR round   2 of   2, 2101 of 2462 nodes\n"
     ]
    },
    {
     "name": "stderr",
     "output_type": "stream",
     "text": [
      "      4.20 seconds: SPR round   2 of   2, 2401 of 2462 nodes\n",
      "      4.31 seconds: ME NNI round 28 of 41, 1101 of 1230 splits, 0 changes\n",
      "Total branch-length 26.951 after 4.36 sec\n"
     ]
    },
    {
     "name": "stderr",
     "output_type": "stream",
     "text": [
      "      4.42 seconds: ML Lengths 201 of 1230 splits\n",
      "      4.54 seconds: ML Lengths 601 of 1230 splits\n"
     ]
    },
    {
     "name": "stderr",
     "output_type": "stream",
     "text": [
      "      4.65 seconds: ML Lengths 1001 of 1230 splits\n",
      "      4.80 seconds: ML NNI round 1 of 21, 101 of 1230 splits, 15 changes (max delta 1.486)\n"
     ]
    },
    {
     "name": "stderr",
     "output_type": "stream",
     "text": [
      "      4.96 seconds: ML NNI round 1 of 21, 301 of 1230 splits, 48 changes (max delta 8.254)\n",
      "      5.11 seconds: ML NNI round 1 of 21, 501 of 1230 splits, 78 changes (max delta 13.854)\n"
     ]
    },
    {
     "name": "stderr",
     "output_type": "stream",
     "text": [
      "      5.28 seconds: ML NNI round 1 of 21, 701 of 1230 splits, 109 changes (max delta 13.854)\n",
      "      5.45 seconds: ML NNI round 1 of 21, 901 of 1230 splits, 143 changes (max delta 13.854)\n"
     ]
    },
    {
     "name": "stderr",
     "output_type": "stream",
     "text": [
      "      5.61 seconds: ML NNI round 1 of 21, 1101 of 1230 splits, 176 changes (max delta 13.854)\n",
      "ML-NNI round 1: LogLk = -70379.306 NNIs 199 max delta 13.85 Time 5.73\n",
      "      5.75 seconds: Site likelihoods with rate category 1 of 20\n"
     ]
    },
    {
     "name": "stderr",
     "output_type": "stream",
     "text": [
      "      5.85 seconds: Site likelihoods with rate category 7 of 20\n",
      "      5.96 seconds: Site likelihoods with rate category 13 of 20\n"
     ]
    },
    {
     "name": "stderr",
     "output_type": "stream",
     "text": [
      "      6.06 seconds: Site likelihoods with rate category 19 of 20\n",
      "Switched to using 20 rate categories (CAT approximation)\n",
      "Rate categories were divided by 1.163 so that average rate = 1.0\n",
      "CAT-based log-likelihoods may not be comparable across runs\n",
      "Use -gamma for approximate but comparable Gamma(20) log-likelihoods\n",
      "      6.19 seconds: ML NNI round 2 of 21, 101 of 1230 splits, 8 changes (max delta 0.902)\n"
     ]
    },
    {
     "name": "stderr",
     "output_type": "stream",
     "text": [
      "      6.37 seconds: ML NNI round 2 of 21, 301 of 1230 splits, 27 changes (max delta 1.705)\n",
      "      6.55 seconds: ML NNI round 2 of 21, 501 of 1230 splits, 36 changes (max delta 3.134)\n"
     ]
    },
    {
     "name": "stderr",
     "output_type": "stream",
     "text": [
      "      6.75 seconds: ML NNI round 2 of 21, 701 of 1230 splits, 64 changes (max delta 6.660)\n",
      "      6.94 seconds: ML NNI round 2 of 21, 901 of 1230 splits, 86 changes (max delta 6.660)\n"
     ]
    },
    {
     "name": "stderr",
     "output_type": "stream",
     "text": [
      "      7.13 seconds: ML NNI round 2 of 21, 1101 of 1230 splits, 97 changes (max delta 6.660)\n",
      "ML-NNI round 2: LogLk = -58430.970 NNIs 108 max delta 6.66 Time 7.27\n",
      "      7.26 seconds: ML NNI round 3 of 21, 1 of 1230 splits\n"
     ]
    },
    {
     "name": "stderr",
     "output_type": "stream",
     "text": [
      "      7.44 seconds: ML NNI round 3 of 21, 201 of 1230 splits, 10 changes (max delta 1.542)\n",
      "      7.62 seconds: ML NNI round 3 of 21, 401 of 1230 splits, 17 changes (max delta 3.596)\n"
     ]
    },
    {
     "name": "stderr",
     "output_type": "stream",
     "text": [
      "      7.81 seconds: ML NNI round 3 of 21, 601 of 1230 splits, 30 changes (max delta 3.596)\n",
      "      8.00 seconds: ML NNI round 3 of 21, 801 of 1230 splits, 39 changes (max delta 13.883)\n"
     ]
    },
    {
     "name": "stderr",
     "output_type": "stream",
     "text": [
      "ML-NNI round 3: LogLk = -58383.141 NNIs 39 max delta 13.88 Time 8.02\n",
      "      8.10 seconds: ML NNI round 4 of 21, 101 of 1230 splits, 2 changes (max delta 2.105)\n"
     ]
    },
    {
     "name": "stderr",
     "output_type": "stream",
     "text": [
      "      8.29 seconds: ML NNI round 4 of 21, 301 of 1230 splits, 4 changes (max delta 2.105)\n",
      "      8.48 seconds: ML NNI round 4 of 21, 501 of 1230 splits, 11 changes (max delta 2.105)\n"
     ]
    },
    {
     "name": "stderr",
     "output_type": "stream",
     "text": [
      "ML-NNI round 4: LogLk = -58375.601 NNIs 11 max delta 2.11 Time 8.50\n",
      "      8.59 seconds: ML NNI round 5 of 21, 101 of 1230 splits, 0 changes\n"
     ]
    },
    {
     "name": "stderr",
     "output_type": "stream",
     "text": [
      "ML-NNI round 5: LogLk = -58361.931 NNIs 7 max delta 4.71 Time 8.73\n",
      "      8.73 seconds: ML NNI round 6 of 21, 1 of 1230 splits\n",
      "ML-NNI round 6: LogLk = -58359.787 NNIs 1 max delta 0.00 Time 8.85\n",
      "Turning off heuristics for final round of ML NNIs (converged)\n",
      "      8.84 seconds: ML NNI round 7 of 21, 1 of 1230 splits\n"
     ]
    },
    {
     "name": "stderr",
     "output_type": "stream",
     "text": [
      "      9.02 seconds: ML NNI round 7 of 21, 201 of 1230 splits, 1 changes (max delta 0.000)\n",
      "      9.19 seconds: ML NNI round 7 of 21, 401 of 1230 splits, 1 changes (max delta 0.000)\n"
     ]
    },
    {
     "name": "stderr",
     "output_type": "stream",
     "text": [
      "      9.36 seconds: ML NNI round 7 of 21, 601 of 1230 splits, 1 changes (max delta 0.000)\n",
      "      9.55 seconds: ML NNI round 7 of 21, 801 of 1230 splits, 5 changes (max delta 0.674)\n"
     ]
    },
    {
     "name": "stderr",
     "output_type": "stream",
     "text": [
      "      9.73 seconds: ML NNI round 7 of 21, 1001 of 1230 splits, 6 changes (max delta 0.674)\n",
      "      9.91 seconds: ML NNI round 7 of 21, 1201 of 1230 splits, 6 changes (max delta 0.674)\n"
     ]
    },
    {
     "name": "stderr",
     "output_type": "stream",
     "text": [
      "ML-NNI round 7: LogLk = -58355.983 NNIs 6 max delta 0.67 Time 9.95 (final)\n",
      "     10.01 seconds: ML Lengths 301 of 1230 splits\n",
      "     10.13 seconds: ML Lengths 801 of 1230 splits\n"
     ]
    },
    {
     "name": "stderr",
     "output_type": "stream",
     "text": [
      "Optimize all lengths: LogLk = -58355.571 Time 10.24\n",
      "     10.39 seconds: ML split tests for    100 of   1229 internal splits\n"
     ]
    },
    {
     "name": "stderr",
     "output_type": "stream",
     "text": [
      "     10.53 seconds: ML split tests for    200 of   1229 internal splits\n",
      "     10.67 seconds: ML split tests for    300 of   1229 internal splits\n"
     ]
    },
    {
     "name": "stderr",
     "output_type": "stream",
     "text": [
      "     10.81 seconds: ML split tests for    400 of   1229 internal splits\n",
      "     10.95 seconds: ML split tests for    500 of   1229 internal splits\n"
     ]
    },
    {
     "name": "stderr",
     "output_type": "stream",
     "text": [
      "     11.10 seconds: ML split tests for    600 of   1229 internal splits\n",
      "     11.24 seconds: ML split tests for    700 of   1229 internal splits\n"
     ]
    },
    {
     "name": "stderr",
     "output_type": "stream",
     "text": [
      "     11.38 seconds: ML split tests for    800 of   1229 internal splits\n",
      "     11.52 seconds: ML split tests for    900 of   1229 internal splits\n"
     ]
    },
    {
     "name": "stderr",
     "output_type": "stream",
     "text": [
      "     11.66 seconds: ML split tests for   1000 of   1229 internal splits\n",
      "     11.79 seconds: ML split tests for   1100 of   1229 internal splits\n"
     ]
    },
    {
     "name": "stderr",
     "output_type": "stream",
     "text": [
      "     11.93 seconds: ML split tests for   1200 of   1229 internal splits\n",
      "Total time: 11.98 seconds Unique: 1232/1263 Bad splits: 0/1229\n"
     ]
    },
    {
     "name": "stdout",
     "output_type": "stream",
     "text": [
      "{'tree': <TreeNode, name: unnamed, internal node count: 1258, tips count: 1263>}\n",
      "{'tree': <TreeNode, name: unnamed, internal node count: 1258, tips count: 1263>}\n"
     ]
    }
   ],
   "source": [
    "mafft_alignment, mafft_masked_alignment, mafft_tree, mafft_rooted_tree = align_to_tree_mafft_fasttree(\n",
    "    sequences=reps, n_threads=6, )"
   ]
  },
  {
   "cell_type": "markdown",
   "id": "0768d598",
   "metadata": {
    "papermill": {
     "duration": 0.031193,
     "end_time": "2024-02-01T22:52:25.302061",
     "exception": false,
     "start_time": "2024-02-01T22:52:25.270868",
     "status": "completed"
    },
    "tags": []
   },
   "source": [
    "### Compute Alpha Diversity (Phylogeny)\n",
    "- [diversity alpha_phylogenetic](https://docs.qiime2.org/2022.8/plugins/available/diversity/alpha-phylogenetic/): Computes a user-specified phylogenetic alpha diversity metric for all samples in a feature table.\n",
    "- Metrics: Choices ('faith_pd')"
   ]
  },
  {
   "cell_type": "code",
   "execution_count": 11,
   "id": "0383aa19",
   "metadata": {
    "ExecuteTime": {
     "end_time": "2022-09-29T20:54:35.310009Z",
     "start_time": "2022-09-29T20:54:35.141333Z"
    },
    "execution": {
     "iopub.execute_input": "2024-02-01T22:52:25.368222Z",
     "iopub.status.busy": "2024-02-01T22:52:25.367812Z",
     "iopub.status.idle": "2024-02-01T22:52:25.513339Z",
     "shell.execute_reply": "2024-02-01T22:52:25.512697Z"
    },
    "papermill": {
     "duration": 0.1796,
     "end_time": "2024-02-01T22:52:25.515099",
     "exception": false,
     "start_time": "2024-02-01T22:52:25.335499",
     "status": "completed"
    },
    "tags": []
   },
   "outputs": [
    {
     "name": "stdout",
     "output_type": "stream",
     "text": [
      "Calculating alpha diversity: faith_pd\n",
      "{'metric': 'faith_pd', 'table': <artifact: FeatureTable[Frequency] uuid: 58f5ac0d-b5f1-476a-b73a-80b954569b0c>, 'phylogeny': <artifact: Phylogeny[Rooted] uuid: 78c63eca-a413-45c9-a27c-195b681547e0>}\n",
      "{'table': <q2_types.feature_table._format.BIOMV210Format object at 0x7fdc8429aa30>, 'phylogeny': <q2_types.tree._format.NewickFormat object at 0x7fdc8363bf70>}\n",
      "{'table': <q2_types.feature_table._format.BIOMV210Format object at 0x7fdc8429aa30>, 'phylogeny': <q2_types.tree._format.NewickFormat object at 0x7fdc8363bf70>}\n",
      "DONE: Calculating alpha phylogeny: faith_pd\n"
     ]
    }
   ],
   "source": [
    "metrics = ('faith_pd', )\n",
    "alpha_diversities_phylogenetic = dict()\n",
    "for metric in metrics:\n",
    "    print(f\"Calculating alpha diversity: {metric}\")\n",
    "    try:\n",
    "        alpha_diversity = alpha_phylogenetic(table=tabs, phylogeny=mafft_rooted_tree, metric=metric).alpha_diversity\n",
    "        alpha_diversities_phylogenetic[metric] = alpha_diversity\n",
    "        # Save Artifact\n",
    "        file_path = os.path.join(alpha_path, f'alpha-phylogeny-{metric}.qza')\n",
    "        alpha_diversity.save(file_path)\n",
    "        print(f\"DONE: Calculating alpha phylogeny: {metric}\")\n",
    "    except Exception as e:\n",
    "        print(f\"ERROR: Calculating alpha phylogeny: {metric}\")"
   ]
  },
  {
   "cell_type": "markdown",
   "id": "42db1ead",
   "metadata": {
    "papermill": {
     "duration": 0.032305,
     "end_time": "2024-02-01T22:52:25.584601",
     "exception": false,
     "start_time": "2024-02-01T22:52:25.552296",
     "status": "completed"
    },
    "tags": []
   },
   "source": [
    "- [core-metrics-phylogenetic](https://docs.qiime2.org/2023.7/plugins/available/diversity/core-metrics-phylogenetic/)"
   ]
  },
  {
   "cell_type": "code",
   "execution_count": 12,
   "id": "ef726ab7",
   "metadata": {
    "execution": {
     "iopub.execute_input": "2024-02-01T22:52:25.649293Z",
     "iopub.status.busy": "2024-02-01T22:52:25.648855Z",
     "iopub.status.idle": "2024-02-01T22:52:27.566552Z",
     "shell.execute_reply": "2024-02-01T22:52:27.565895Z"
    },
    "papermill": {
     "duration": 1.952767,
     "end_time": "2024-02-01T22:52:27.569165",
     "exception": false,
     "start_time": "2024-02-01T22:52:25.616398",
     "status": "completed"
    },
    "tags": []
   },
   "outputs": [
    {
     "name": "stdout",
     "output_type": "stream",
     "text": [
      "{'sampling_depth': 3381, 'metadata': Metadata\n",
      "--------\n",
      "14 IDs x 3 columns\n",
      "sample-name: ColumnProperties(type='categorical')\n",
      "group-id:    ColumnProperties(type='categorical')\n",
      "group-desc:  ColumnProperties(type='categorical')\n",
      "\n",
      "Call to_dataframe() for a tabular representation., 'n_jobs_or_threads': 6, 'table': <artifact: FeatureTable[Frequency] uuid: 58f5ac0d-b5f1-476a-b73a-80b954569b0c>, 'phylogeny': <artifact: Phylogeny[Rooted] uuid: 78c63eca-a413-45c9-a27c-195b681547e0>}\n",
      "{'sampling_depth': 3381, 'metadata': Metadata\n",
      "--------\n",
      "14 IDs x 3 columns\n",
      "sample-name: ColumnProperties(type='categorical')\n",
      "group-id:    ColumnProperties(type='categorical')\n",
      "group-desc:  ColumnProperties(type='categorical')\n",
      "\n",
      "Call to_dataframe() for a tabular representation., 'with_replacement': False, 'n_jobs': 6, 'table': <artifact: FeatureTable[Frequency] uuid: 58f5ac0d-b5f1-476a-b73a-80b954569b0c>}\n",
      "{'sampling_depth': 3381, 'with_replacement': False, 'table': 1263 x 14 <class 'biom.table.Table'> with 2817 nonzero entries (15% dense)}\n",
      "{'sampling_depth': 3381, 'with_replacement': False, 'table': 1263 x 14 <class 'biom.table.Table'> with 2817 nonzero entries (15% dense)}\n",
      "{'table': 1029 x 14 <class 'biom.table.Table'> with 2269 nonzero entries (15% dense)}\n",
      "{'table': 1029 x 14 <class 'biom.table.Table'> with 2269 nonzero entries (15% dense)}\n",
      "{'drop_undefined_samples': False, 'table': 1029 x 14 <class 'biom.table.Table'> with 2269 nonzero entries (15% dense)}\n",
      "{'drop_undefined_samples': False, 'table': 1029 x 14 <class 'biom.table.Table'> with 2269 nonzero entries (15% dense)}\n",
      "{'drop_undefined_samples': False, 'table': 1029 x 14 <class 'biom.table.Table'> with 2269 nonzero entries (15% dense)}\n",
      "{'drop_undefined_samples': False, 'table': 1029 x 14 <class 'biom.table.Table'> with 2269 nonzero entries (15% dense)}\n",
      "{'n_jobs': 6, 'table': 1029 x 14 <class 'biom.table.Table'> with 2269 nonzero entries (15% dense)}\n",
      "{'n_jobs': 6, 'table': 1029 x 14 <class 'biom.table.Table'> with 2269 nonzero entries (15% dense)}\n"
     ]
    },
    {
     "name": "stderr",
     "output_type": "stream",
     "text": [
      "/home/lauro/anaconda3/envs/qiime2-2022.2/lib/python3.8/site-packages/sklearn/metrics/pairwise.py:1761: DataConversionWarning: Data was converted to boolean for metric jaccard\n",
      "  warnings.warn(msg, DataConversionWarning)\n"
     ]
    },
    {
     "name": "stdout",
     "output_type": "stream",
     "text": [
      "{'n_jobs': 6, 'table': 1029 x 14 <class 'biom.table.Table'> with 2269 nonzero entries (15% dense)}\n",
      "{'n_jobs': 6, 'table': 1029 x 14 <class 'biom.table.Table'> with 2269 nonzero entries (15% dense)}\n",
      "{'number_of_dimensions': None, 'distance_matrix': <skbio.stats.distance._base.DistanceMatrix object at 0x7fdc81dbafa0>}\n",
      "{'number_of_dimensions': None, 'distance_matrix': <skbio.stats.distance._base.DistanceMatrix object at 0x7fdc81dbafa0>}\n",
      "{'number_of_dimensions': None, 'distance_matrix': <skbio.stats.distance._base.DistanceMatrix object at 0x7fdc83668820>}\n",
      "{'number_of_dimensions': None, 'distance_matrix': <skbio.stats.distance._base.DistanceMatrix object at 0x7fdc83668820>}\n",
      "{'metadata': Metadata\n",
      "--------\n",
      "14 IDs x 3 columns\n",
      "sample-name: ColumnProperties(type='categorical')\n",
      "group-id:    ColumnProperties(type='categorical')\n",
      "group-desc:  ColumnProperties(type='categorical')\n",
      "\n",
      "Call to_dataframe() for a tabular representation., 'custom_axes': None, 'ignore_missing_samples': False, 'ignore_pcoa_features': False, 'pcoa': <skbio.stats.ordination._ordination_results.OrdinationResults object at 0x7fdc83654340>}\n"
     ]
    },
    {
     "name": "stdout",
     "output_type": "stream",
     "text": [
      "{'metadata': Metadata\n",
      "--------\n",
      "14 IDs x 3 columns\n",
      "sample-name: ColumnProperties(type='categorical')\n",
      "group-id:    ColumnProperties(type='categorical')\n",
      "group-desc:  ColumnProperties(type='categorical')\n",
      "\n",
      "Call to_dataframe() for a tabular representation., 'custom_axes': None, 'ignore_missing_samples': False, 'ignore_pcoa_features': False, 'pcoa': <skbio.stats.ordination._ordination_results.OrdinationResults object at 0x7fdc81dd6580>}\n"
     ]
    },
    {
     "name": "stdout",
     "output_type": "stream",
     "text": [
      "{'table': <q2_types.feature_table._format.BIOMV210Format object at 0x7fdc8366bd90>, 'phylogeny': <q2_types.tree._format.NewickFormat object at 0x7fdc8366bdc0>}\n",
      "{'table': <q2_types.feature_table._format.BIOMV210Format object at 0x7fdc8366bd90>, 'phylogeny': <q2_types.tree._format.NewickFormat object at 0x7fdc8366bdc0>}\n",
      "{'threads': 6, 'bypass_tips': False, 'table': <q2_types.feature_table._format.BIOMV210Format object at 0x7fdc836561f0>, 'phylogeny': <q2_types.tree._format.NewickFormat object at 0x7fdc8366b9d0>}\n",
      "{'threads': 6, 'bypass_tips': False, 'table': <q2_types.feature_table._format.BIOMV210Format object at 0x7fdc836561f0>, 'phylogeny': <q2_types.tree._format.NewickFormat object at 0x7fdc8366b9d0>}\n",
      "{'threads': 6, 'bypass_tips': False, 'table': <q2_types.feature_table._format.BIOMV210Format object at 0x7fdc81dba4f0>, 'phylogeny': <q2_types.tree._format.NewickFormat object at 0x7fdc81dbaeb0>}\n",
      "{'threads': 6, 'bypass_tips': False, 'table': <q2_types.feature_table._format.BIOMV210Format object at 0x7fdc81dba4f0>, 'phylogeny': <q2_types.tree._format.NewickFormat object at 0x7fdc81dbaeb0>}\n"
     ]
    },
    {
     "name": "stdout",
     "output_type": "stream",
     "text": [
      "{'number_of_dimensions': None, 'distance_matrix': <skbio.stats.distance._base.DistanceMatrix object at 0x7fdc8366b670>}\n",
      "{'number_of_dimensions': None, 'distance_matrix': <skbio.stats.distance._base.DistanceMatrix object at 0x7fdc8366b670>}\n",
      "{'number_of_dimensions': None, 'distance_matrix': <skbio.stats.distance._base.DistanceMatrix object at 0x7fdc81dd60a0>}\n",
      "{'number_of_dimensions': None, 'distance_matrix': <skbio.stats.distance._base.DistanceMatrix object at 0x7fdc81dd60a0>}\n",
      "{'metadata': Metadata\n",
      "--------\n",
      "14 IDs x 3 columns\n",
      "sample-name: ColumnProperties(type='categorical')\n",
      "group-id:    ColumnProperties(type='categorical')\n",
      "group-desc:  ColumnProperties(type='categorical')\n",
      "\n",
      "Call to_dataframe() for a tabular representation., 'custom_axes': None, 'ignore_missing_samples': False, 'ignore_pcoa_features': False, 'pcoa': <skbio.stats.ordination._ordination_results.OrdinationResults object at 0x7fdc83619b80>}\n",
      "{'metadata': Metadata\n",
      "--------\n",
      "14 IDs x 3 columns\n",
      "sample-name: ColumnProperties(type='categorical')\n",
      "group-id:    ColumnProperties(type='categorical')\n",
      "group-desc:  ColumnProperties(type='categorical')\n",
      "\n",
      "Call to_dataframe() for a tabular representation., 'custom_axes': None, 'ignore_missing_samples': False, 'ignore_pcoa_features': False, 'pcoa': <skbio.stats.ordination._ordination_results.OrdinationResults object at 0x7fdc83619d00>}\n"
     ]
    },
    {
     "name": "stderr",
     "output_type": "stream",
     "text": [
      "/home/lauro/anaconda3/envs/qiime2-2022.2/lib/python3.8/site-packages/skbio/stats/ordination/_principal_coordinate_analysis.py:143: RuntimeWarning: The result contains negative eigenvalues. Please compare their magnitude with the magnitude of some of the largest positive eigenvalues. If the negative ones are smaller, it's probably safe to ignore them, but if they are large in magnitude, the results won't be useful. See the Notes section for more details. The smallest eigenvalue is -0.0031450557944761146 and the largest is 0.5055875139531784.\n",
      "  warn(\n"
     ]
    }
   ],
   "source": [
    "s_depth = int(tabs.view(pd.DataFrame).sum(axis=1).min())\n",
    "results = core_metrics_phylogenetic(\n",
    "    table = tabs,\n",
    "    phylogeny = mafft_rooted_tree,\n",
    "    sampling_depth = s_depth,\n",
    "    metadata = metadata_qa,\n",
    "    n_jobs_or_threads = 6,\n",
    ")"
   ]
  },
  {
   "cell_type": "code",
   "execution_count": 13,
   "id": "19311218",
   "metadata": {
    "execution": {
     "iopub.execute_input": "2024-02-01T22:52:27.650892Z",
     "iopub.status.busy": "2024-02-01T22:52:27.650281Z",
     "iopub.status.idle": "2024-02-01T22:52:27.658030Z",
     "shell.execute_reply": "2024-02-01T22:52:27.657142Z"
    },
    "papermill": {
     "duration": 0.047803,
     "end_time": "2024-02-01T22:52:27.659552",
     "exception": false,
     "start_time": "2024-02-01T22:52:27.611749",
     "status": "completed"
    },
    "tags": []
   },
   "outputs": [],
   "source": [
    "results_info = [(\"rarefied_table\", \"FeatureTable[Frequency]\", \"The resulting rarefied feature table.\"),\n",
    "(\"faith_pd_vector\", \"SampleData[AlphaDiversity]\", \"Vector of Faith PD values by sample.\"),\n",
    "(\"observed_features_vector\", \"SampleData[AlphaDiversity]\", \"Vector of Observed Features values by sample.\"),\n",
    "(\"shannon_vector\", \"SampleData[AlphaDiversity]\", \"Vector of Shannon diversity values by sample.\"),\n",
    "(\"evenness_vector\", \"SampleData[AlphaDiversity]\", \"Vector of Pielou's evenness values by sample.\"),\n",
    "(\"unweighted_unifrac_distance_matrix\", \"DistanceMatrix\", \"Matrix of unweighted UniFrac distances between pairs of samples.\"),\n",
    "(\"weighted_unifrac_distance_matrix\", \"DistanceMatrix\", \"Matrix of weighted UniFrac distances between pairs of samples.\"),\n",
    "(\"jaccard_distance_matrix\", \"DistanceMatrix\", \"Matrix of Jaccard distances between pairs of samples.\"),\n",
    "(\"bray_curtis_distance_matrix\", \"DistanceMatrix\", \"Matrix of Bray-Curtis distances between pairs of samples.\"),\n",
    "(\"unweighted_unifrac_pcoa_results\", \"PCoAResults\", \"PCoA matrix computed from unweighted UniFrac distances between samples.\"),\n",
    "(\"weighted_unifrac_pcoa_results\", \"PCoAResults\", \"PCoA matrix computed from weighted UniFrac distances between samples.\"),\n",
    "(\"jaccard_pcoa_results\", \"PCoAResults\", \"PCoA matrix computed from Jaccard distances between samples.\"),\n",
    "(\"bray_curtis_pcoa_results\", \"PCoAResults\", \"PCoA matrix computed from Bray-Curtis distances between samples.\"),\n",
    "(\"unweighted_unifrac_emperor\", \"Visualization\", \"Emperor plot of the PCoA matrix computed from unweighted UniFrac.\"),\n",
    "(\"weighted_unifrac_emperor\", \"Visualization\", \"Emperor plot of the PCoA matrix computed from weighted UniFrac.\"),\n",
    "(\"jaccard_emperor\", \"Visualization\", \"Emperor plot of the PCoA matrix computed from Jaccard.\"),\n",
    "(\"bray_curtis_emperor\", \"Visualization\", \"Emperor plot of the PCoA matrix computed from Bray-Curtis.\")]"
   ]
  },
  {
   "cell_type": "code",
   "execution_count": 14,
   "id": "2264925a",
   "metadata": {
    "execution": {
     "iopub.execute_input": "2024-02-01T22:52:27.743909Z",
     "iopub.status.busy": "2024-02-01T22:52:27.743644Z",
     "iopub.status.idle": "2024-02-01T22:52:28.154470Z",
     "shell.execute_reply": "2024-02-01T22:52:28.153718Z"
    },
    "papermill": {
     "duration": 0.451903,
     "end_time": "2024-02-01T22:52:28.156852",
     "exception": false,
     "start_time": "2024-02-01T22:52:27.704949",
     "status": "completed"
    },
    "tags": []
   },
   "outputs": [
    {
     "name": "stdout",
     "output_type": "stream",
     "text": [
      "13 unweighted_unifrac_emperor Visualization\n",
      "--- Emperor plot of the PCoA matrix computed from unweighted UniFrac. ---\n",
      "Saving emperor file at: /home/lauro/nupeb/rede-micro/redemicro-ana-flavia-nutri/experiments/ana-flavia-STD-NCxSTD-NR-trim/qiime-artifacts/beta-analysis/unweighted_unifrac_emperor.qzv\n",
      "\n",
      "14 weighted_unifrac_emperor Visualization\n",
      "--- Emperor plot of the PCoA matrix computed from weighted UniFrac. ---\n",
      "Saving emperor file at: /home/lauro/nupeb/rede-micro/redemicro-ana-flavia-nutri/experiments/ana-flavia-STD-NCxSTD-NR-trim/qiime-artifacts/beta-analysis/weighted_unifrac_emperor.qzv\n",
      "\n"
     ]
    },
    {
     "name": "stdout",
     "output_type": "stream",
     "text": [
      "15 jaccard_emperor Visualization\n",
      "--- Emperor plot of the PCoA matrix computed from Jaccard. ---\n",
      "Saving emperor file at: /home/lauro/nupeb/rede-micro/redemicro-ana-flavia-nutri/experiments/ana-flavia-STD-NCxSTD-NR-trim/qiime-artifacts/beta-analysis/jaccard_emperor.qzv\n",
      "\n",
      "16 bray_curtis_emperor Visualization\n",
      "--- Emperor plot of the PCoA matrix computed from Bray-Curtis. ---\n",
      "Saving emperor file at: /home/lauro/nupeb/rede-micro/redemicro-ana-flavia-nutri/experiments/ana-flavia-STD-NCxSTD-NR-trim/qiime-artifacts/beta-analysis/bray_curtis_emperor.qzv\n",
      "\n"
     ]
    }
   ],
   "source": [
    "distance_matrix = dict()\n",
    "for i, info in enumerate(results_info):\n",
    "    r_id, r_type, r_desc = info\n",
    "    #print(i, r_id, r_type)\n",
    "    file_name = f\"{r_id}.qzv\"\n",
    "    if r_type == \"FeatureTable[Frequency]\":\n",
    "        pass\n",
    "    elif r_type == \"DistanceMatrix\":\n",
    "        distance_matrix[r_id] = results[i]\n",
    "    elif r_id.endswith('emperor'):\n",
    "        print(i, r_id, r_type)\n",
    "        print(f\"--- {r_desc} ---\")\n",
    "        file_name = os.path.join(beta_path, file_name)\n",
    "        print(f'Saving emperor file at: {file_name}\\n')\n",
    "        results[i].save(filepath=file_name)"
   ]
  },
  {
   "cell_type": "markdown",
   "id": "c7752cfd",
   "metadata": {
    "papermill": {
     "duration": 0.039521,
     "end_time": "2024-02-01T22:52:28.240884",
     "exception": false,
     "start_time": "2024-02-01T22:52:28.201363",
     "status": "completed"
    },
    "tags": []
   },
   "source": [
    "### Alpha diversity correlation\n",
    "\n",
    "This method only process `numeric` columns.\n"
   ]
  },
  {
   "cell_type": "code",
   "execution_count": 15,
   "id": "2814f613",
   "metadata": {
    "ExecuteTime": {
     "end_time": "2022-09-29T20:54:35.317618Z",
     "start_time": "2022-09-29T20:54:35.312094Z"
    },
    "execution": {
     "iopub.execute_input": "2024-02-01T22:52:28.326525Z",
     "iopub.status.busy": "2024-02-01T22:52:28.326083Z",
     "iopub.status.idle": "2024-02-01T22:52:28.335066Z",
     "shell.execute_reply": "2024-02-01T22:52:28.334198Z"
    },
    "papermill": {
     "duration": 0.055791,
     "end_time": "2024-02-01T22:52:28.336989",
     "exception": false,
     "start_time": "2024-02-01T22:52:28.281198",
     "status": "completed"
    },
    "tags": []
   },
   "outputs": [],
   "source": [
    "methods = ('spearman', 'pearson')\n",
    "numerics_cols = metadata_qa.filter_columns(column_type='numeric')\n",
    "if numerics_cols.column_count > 0:\n",
    "    for metric, alpha_values in alpha_diversities.items():\n",
    "        for method in methods:\n",
    "            try:\n",
    "                corr_view = alpha_correlation(alpha_diversity=alpha_values, metadata=numerics_cols, \n",
    "                                          method=method, intersect_ids=True).visualization\n",
    "                view_path = os.path.join(alpha_path, f'alpha-correlation-{metric}-{method}.qzv')\n",
    "                corr_view.save(view_path)\n",
    "                corr_view\n",
    "                print(f\"DONE: Calculating alpha correlation: {metric} {method}\")\n",
    "            except Exception as e:\n",
    "                print(f\"ERROR: Calculating alpha correlation: {metric} {method}\")"
   ]
  },
  {
   "cell_type": "markdown",
   "id": "8ea83c8a",
   "metadata": {
    "papermill": {
     "duration": 0.039471,
     "end_time": "2024-02-01T22:52:28.418997",
     "exception": false,
     "start_time": "2024-02-01T22:52:28.379526",
     "status": "completed"
    },
    "tags": []
   },
   "source": [
    "## Alpha diversity comparisons\n",
    "\n",
    "Visually and statistically compare groups of alpha diversity values.\n",
    "\n",
    "[diversity alpha_group_significance](https://docs.qiime2.org/2022.8/plugins/available/diversity/alpha-group-significance/)"
   ]
  },
  {
   "cell_type": "code",
   "execution_count": 16,
   "id": "276d1c18",
   "metadata": {
    "ExecuteTime": {
     "end_time": "2022-09-29T20:54:36.089290Z",
     "start_time": "2022-09-29T20:54:35.318963Z"
    },
    "execution": {
     "iopub.execute_input": "2024-02-01T22:52:28.492374Z",
     "iopub.status.busy": "2024-02-01T22:52:28.491911Z",
     "iopub.status.idle": "2024-02-01T22:52:29.311948Z",
     "shell.execute_reply": "2024-02-01T22:52:29.311196Z"
    },
    "papermill": {
     "duration": 0.8579,
     "end_time": "2024-02-01T22:52:29.314683",
     "exception": false,
     "start_time": "2024-02-01T22:52:28.456783",
     "status": "completed"
    },
    "tags": []
   },
   "outputs": [
    {
     "name": "stdout",
     "output_type": "stream",
     "text": [
      "Processing alpha_group_significance: chao1\n",
      "{'metadata': Metadata\n",
      "--------\n",
      "14 IDs x 3 columns\n",
      "sample-name: ColumnProperties(type='categorical')\n",
      "group-id:    ColumnProperties(type='categorical')\n",
      "group-desc:  ColumnProperties(type='categorical')\n",
      "\n",
      "Call to_dataframe() for a tabular representation., 'alpha_diversity': S210421121682    291.0\n",
      "S210421121683    242.0\n",
      "S210421121684    207.0\n",
      "S210421121685    314.0\n",
      "S210421121686    121.0\n",
      "S210421121687    137.0\n",
      "S210421121694    149.0\n",
      "S210421121695    320.0\n",
      "S210421121696    187.0\n",
      "S210421121697    133.0\n",
      "S210421121703     97.0\n",
      "S210421121704     34.0\n",
      "S210421121705    211.0\n",
      "S210421121706    374.0\n",
      "Name: chao1, dtype: float64}\n",
      "DONE: Calculating alpha group significance: chao1\n",
      "Processing alpha_group_significance: chao1_ci\n",
      "ERROR: Calculating alpha group significance: chao1_ci\n",
      "Processing alpha_group_significance: observed_features\n",
      "{'metadata': Metadata\n",
      "--------\n",
      "14 IDs x 3 columns\n",
      "sample-name: ColumnProperties(type='categorical')\n",
      "group-id:    ColumnProperties(type='categorical')\n",
      "group-desc:  ColumnProperties(type='categorical')\n",
      "\n",
      "Call to_dataframe() for a tabular representation., 'alpha_diversity': S210421121682    291\n",
      "S210421121683    242\n",
      "S210421121684    207\n",
      "S210421121685    314\n",
      "S210421121686    121\n",
      "S210421121687    137\n",
      "S210421121694    149\n",
      "S210421121695    320\n",
      "S210421121696    187\n",
      "S210421121697    133\n",
      "S210421121703     97\n",
      "S210421121704     34\n",
      "S210421121705    211\n",
      "S210421121706    374\n",
      "Name: observed_features, dtype: int64}\n"
     ]
    },
    {
     "name": "stdout",
     "output_type": "stream",
     "text": [
      "DONE: Calculating alpha group significance: observed_features\n",
      "Processing alpha_group_significance: shannon\n",
      "{'metadata': Metadata\n",
      "--------\n",
      "14 IDs x 3 columns\n",
      "sample-name: ColumnProperties(type='categorical')\n",
      "group-id:    ColumnProperties(type='categorical')\n",
      "group-desc:  ColumnProperties(type='categorical')\n",
      "\n",
      "Call to_dataframe() for a tabular representation., 'alpha_diversity': S210421121682    6.126624\n",
      "S210421121683    6.103749\n",
      "S210421121684    4.956948\n",
      "S210421121685    6.145411\n",
      "S210421121686    5.516588\n",
      "S210421121687    5.179013\n",
      "S210421121694    5.689236\n",
      "S210421121695    6.177949\n",
      "S210421121696    5.394384\n",
      "S210421121697    5.432786\n",
      "S210421121703    5.200061\n",
      "S210421121704    3.786450\n",
      "S210421121705    5.919258\n",
      "S210421121706    6.381630\n",
      "Name: shannon_entropy, dtype: float64}\n",
      "DONE: Calculating alpha group significance: shannon\n",
      "Processing alpha_group_significance: simpson\n",
      "{'metadata': Metadata\n",
      "--------\n",
      "14 IDs x 3 columns\n",
      "sample-name: ColumnProperties(type='categorical')\n",
      "group-id:    ColumnProperties(type='categorical')\n",
      "group-desc:  ColumnProperties(type='categorical')\n",
      "\n",
      "Call to_dataframe() for a tabular representation., 'alpha_diversity': S210421121682    0.970384\n",
      "S210421121683    0.973045\n",
      "S210421121684    0.923226\n",
      "S210421121685    0.967199\n",
      "S210421121686    0.960541\n",
      "S210421121687    0.935590\n",
      "S210421121694    0.955916\n",
      "S210421121695    0.969588\n",
      "S210421121696    0.949858\n",
      "S210421121697    0.958294\n",
      "S210421121703    0.945950\n",
      "S210421121704    0.859716\n",
      "S210421121705    0.967740\n",
      "S210421121706    0.969687\n",
      "Name: simpson, dtype: float64}\n"
     ]
    },
    {
     "name": "stdout",
     "output_type": "stream",
     "text": [
      "DONE: Calculating alpha group significance: simpson\n",
      "Processing alpha_group_significance: simpson_e\n",
      "{'metadata': Metadata\n",
      "--------\n",
      "14 IDs x 3 columns\n",
      "sample-name: ColumnProperties(type='categorical')\n",
      "group-id:    ColumnProperties(type='categorical')\n",
      "group-desc:  ColumnProperties(type='categorical')\n",
      "\n",
      "Call to_dataframe() for a tabular representation., 'alpha_diversity': S210421121682    0.116034\n",
      "S210421121683    0.153302\n",
      "S210421121684    0.062924\n",
      "S210421121685    0.097092\n",
      "S210421121686    0.209445\n",
      "S210421121687    0.113325\n",
      "S210421121694    0.152243\n",
      "S210421121695    0.102757\n",
      "S210421121696    0.106649\n",
      "S210421121697    0.180282\n",
      "S210421121703    0.190735\n",
      "S210421121704    0.209658\n",
      "S210421121705    0.146909\n",
      "S210421121706    0.088207\n",
      "Name: simpson_e, dtype: float64}\n",
      "DONE: Calculating alpha group significance: simpson_e\n"
     ]
    }
   ],
   "source": [
    "for metric, alpha_values in alpha_diversities.items():\n",
    "    print(f\"Processing alpha_group_significance: {metric}\")\n",
    "    try:\n",
    "        significance_view = alpha_group_significance(alpha_diversity=alpha_values, metadata=metadata_qa).visualization\n",
    "        view_path = os.path.join(alpha_path, f'alpha-group-significance-{metric}.qzv')\n",
    "        significance_view.save(view_path)\n",
    "        significance_view\n",
    "        print(f\"DONE: Calculating alpha group significance: {metric}\")\n",
    "    except Exception as e:\n",
    "        print(f\"ERROR: Calculating alpha group significance: {metric}\")"
   ]
  },
  {
   "cell_type": "markdown",
   "id": "4349d357",
   "metadata": {
    "papermill": {
     "duration": 0.036318,
     "end_time": "2024-02-01T22:52:29.393386",
     "exception": false,
     "start_time": "2024-02-01T22:52:29.357068",
     "status": "completed"
    },
    "tags": []
   },
   "source": [
    "## Beta diversity analysis\n",
    "\n",
    "#### Reference\n",
    "- [diversity beta](https://docs.qiime2.org/2022.8/plugins/available/diversity/beta/): Computes a user-specified beta diversity metric for all pairs of samples in a feature table.\n",
    "- [Beta diversity metrics](http://scikit-bio.org/docs/0.2.0/generated/skbio.diversity.beta.html)\n",
    "\n",
    "- Metric Choices('aitchison', 'braycurtis', 'canberra', 'canberra_adkins', 'chebyshev', 'cityblock', 'correlation', 'cosine', 'dice', 'euclidean', 'hamming', 'jaccard', 'jensenshannon', 'kulsinski', 'matching', 'minkowski', 'rogerstanimoto', 'russellrao', 'seuclidean', 'sokalmichener', 'sokalsneath', 'sqeuclidean', 'yule')"
   ]
  },
  {
   "cell_type": "code",
   "execution_count": 17,
   "id": "f6f358dd",
   "metadata": {
    "ExecuteTime": {
     "end_time": "2022-09-29T20:54:36.335038Z",
     "start_time": "2022-09-29T20:54:36.091288Z"
    },
    "execution": {
     "iopub.execute_input": "2024-02-01T22:52:29.465680Z",
     "iopub.status.busy": "2024-02-01T22:52:29.465153Z",
     "iopub.status.idle": "2024-02-01T22:52:29.971985Z",
     "shell.execute_reply": "2024-02-01T22:52:29.971190Z"
    },
    "papermill": {
     "duration": 0.546984,
     "end_time": "2024-02-01T22:52:29.976461",
     "exception": false,
     "start_time": "2024-02-01T22:52:29.429477",
     "status": "completed"
    },
    "tags": []
   },
   "outputs": [
    {
     "name": "stdout",
     "output_type": "stream",
     "text": [
      "Calculating beta diversity: euclidean\n",
      "{'metric': 'euclidean', 'pseudocount': 1, 'n_jobs': 6, 'table': <artifact: FeatureTable[Frequency] uuid: 58f5ac0d-b5f1-476a-b73a-80b954569b0c>}\n",
      "{'metric': 'euclidean', 'pseudocount': 1, 'n_jobs': 6, 'table': 1263 x 14 <class 'biom.table.Table'> with 2817 nonzero entries (15% dense)}\n",
      "{'metric': 'euclidean', 'pseudocount': 1, 'n_jobs': 6, 'table': 1263 x 14 <class 'biom.table.Table'> with 2817 nonzero entries (15% dense)}\n",
      "DONE: Calculating beta diversity: euclidean\n",
      "Calculating beta diversity: dice\n",
      "{'metric': 'dice', 'pseudocount': 1, 'n_jobs': 6, 'table': <artifact: FeatureTable[Frequency] uuid: 58f5ac0d-b5f1-476a-b73a-80b954569b0c>}\n",
      "{'metric': 'dice', 'pseudocount': 1, 'n_jobs': 6, 'table': 1263 x 14 <class 'biom.table.Table'> with 2817 nonzero entries (15% dense)}\n",
      "{'metric': 'dice', 'pseudocount': 1, 'n_jobs': 6, 'table': 1263 x 14 <class 'biom.table.Table'> with 2817 nonzero entries (15% dense)}\n",
      "DONE: Calculating beta diversity: dice\n",
      "Calculating beta diversity: braycurtis\n",
      "{'metric': 'braycurtis', 'pseudocount': 1, 'n_jobs': 6, 'table': <artifact: FeatureTable[Frequency] uuid: 58f5ac0d-b5f1-476a-b73a-80b954569b0c>}\n",
      "{'n_jobs': 6, 'table': 1263 x 14 <class 'biom.table.Table'> with 2817 nonzero entries (15% dense)}\n",
      "{'n_jobs': 6, 'table': 1263 x 14 <class 'biom.table.Table'> with 2817 nonzero entries (15% dense)}\n"
     ]
    },
    {
     "name": "stderr",
     "output_type": "stream",
     "text": [
      "/home/lauro/anaconda3/envs/qiime2-2022.2/lib/python3.8/site-packages/sklearn/metrics/pairwise.py:1761: DataConversionWarning: Data was converted to boolean for metric dice\n",
      "  warnings.warn(msg, DataConversionWarning)\n"
     ]
    },
    {
     "name": "stdout",
     "output_type": "stream",
     "text": [
      "DONE: Calculating beta diversity: braycurtis\n",
      "Calculating beta diversity: correlation\n",
      "{'metric': 'correlation', 'pseudocount': 1, 'n_jobs': 6, 'table': <artifact: FeatureTable[Frequency] uuid: 58f5ac0d-b5f1-476a-b73a-80b954569b0c>}\n",
      "{'metric': 'correlation', 'pseudocount': 1, 'n_jobs': 6, 'table': 1263 x 14 <class 'biom.table.Table'> with 2817 nonzero entries (15% dense)}\n",
      "{'metric': 'correlation', 'pseudocount': 1, 'n_jobs': 6, 'table': 1263 x 14 <class 'biom.table.Table'> with 2817 nonzero entries (15% dense)}\n",
      "ERROR: Calculating beta diversity: correlation\n",
      "Calculating beta diversity: cosine\n",
      "{'metric': 'cosine', 'pseudocount': 1, 'n_jobs': 6, 'table': <artifact: FeatureTable[Frequency] uuid: 58f5ac0d-b5f1-476a-b73a-80b954569b0c>}\n",
      "{'metric': 'cosine', 'pseudocount': 1, 'n_jobs': 6, 'table': 1263 x 14 <class 'biom.table.Table'> with 2817 nonzero entries (15% dense)}\n",
      "{'metric': 'cosine', 'pseudocount': 1, 'n_jobs': 6, 'table': 1263 x 14 <class 'biom.table.Table'> with 2817 nonzero entries (15% dense)}\n",
      "ERROR: Calculating beta diversity: cosine\n",
      "Calculating beta diversity: matching\n",
      "{'metric': 'matching', 'pseudocount': 1, 'n_jobs': 6, 'table': <artifact: FeatureTable[Frequency] uuid: 58f5ac0d-b5f1-476a-b73a-80b954569b0c>}\n",
      "{'metric': 'matching', 'pseudocount': 1, 'n_jobs': 6, 'table': 1263 x 14 <class 'biom.table.Table'> with 2817 nonzero entries (15% dense)}\n",
      "{'metric': 'matching', 'pseudocount': 1, 'n_jobs': 6, 'table': 1263 x 14 <class 'biom.table.Table'> with 2817 nonzero entries (15% dense)}\n",
      "DONE: Calculating beta diversity: matching\n",
      "Calculating beta diversity: jaccard\n",
      "{'metric': 'jaccard', 'pseudocount': 1, 'n_jobs': 6, 'table': <artifact: FeatureTable[Frequency] uuid: 58f5ac0d-b5f1-476a-b73a-80b954569b0c>}\n",
      "{'n_jobs': 6, 'table': 1263 x 14 <class 'biom.table.Table'> with 2817 nonzero entries (15% dense)}\n",
      "{'n_jobs': 6, 'table': 1263 x 14 <class 'biom.table.Table'> with 2817 nonzero entries (15% dense)}\n"
     ]
    },
    {
     "name": "stdout",
     "output_type": "stream",
     "text": [
      "DONE: Calculating beta diversity: jaccard\n"
     ]
    },
    {
     "name": "stderr",
     "output_type": "stream",
     "text": [
      "/home/lauro/anaconda3/envs/qiime2-2022.2/lib/python3.8/site-packages/sklearn/metrics/pairwise.py:1761: DataConversionWarning: Data was converted to boolean for metric matching\n",
      "  warnings.warn(msg, DataConversionWarning)\n",
      "/home/lauro/anaconda3/envs/qiime2-2022.2/lib/python3.8/site-packages/sklearn/metrics/pairwise.py:1761: DataConversionWarning: Data was converted to boolean for metric jaccard\n",
      "  warnings.warn(msg, DataConversionWarning)\n"
     ]
    }
   ],
   "source": [
    "metrics = ('aitchison', 'braycurtis', 'canberra', 'canberra_adkins', 'chebyshev', 'cityblock', 'correlation', 'cosine', 'dice', 'euclidean', 'hamming', 'jaccard', 'jensenshannon', 'kulsinski', 'matching', 'minkowski', 'rogerstanimoto', 'russellrao', 'seuclidean', 'sokalmichener', 'sokalsneath', 'sqeuclidean', 'yule')\n",
    "metrics = ('euclidean', 'dice', 'braycurtis', 'correlation', 'cosine', 'matching', 'jaccard')\n",
    "beta_diversities = dict()\n",
    "for metric in metrics:\n",
    "    print(f\"Calculating beta diversity: {metric}\")\n",
    "    try:\n",
    "        beta_diversity = beta(table=tabs, metric=metric, n_jobs=6, pseudocount=1).distance_matrix\n",
    "        beta_diversities[metric] = beta_diversity\n",
    "        # Save SampleData[BetaDiversity] Artifact\n",
    "        file_path = os.path.join(beta_path, f'beta-values-{metric}.qza')\n",
    "        beta_diversity.save(file_path)\n",
    "        print(f\"DONE: Calculating beta diversity: {metric}\")\n",
    "    except Exception as e:\n",
    "        print(f\"ERROR: Calculating beta diversity: {metric}\")"
   ]
  },
  {
   "cell_type": "markdown",
   "id": "200a2fa7",
   "metadata": {
    "papermill": {
     "duration": 0.038217,
     "end_time": "2024-02-01T22:52:30.056804",
     "exception": false,
     "start_time": "2024-02-01T22:52:30.018587",
     "status": "completed"
    },
    "tags": []
   },
   "source": [
    "### Beta group significance\n",
    "\n",
    "- [diversity beta_group_significance](https://docs.qiime2.org/2022.8/plugins/available/diversity/beta-group-significance/): Determine whether groups of samples are significantly different from one another using a permutation-based statistical test.\n",
    "- Marti J Anderson. A new method for non-parametric multivariate analysis of variance. Austral ecology, 26(1):32–46, 2001. doi:https://doi.org/10.1111/j.1442-9993.2001.01070.pp.x."
   ]
  },
  {
   "cell_type": "code",
   "execution_count": 18,
   "id": "b8dd42b6",
   "metadata": {
    "ExecuteTime": {
     "end_time": "2022-09-29T20:55:08.313860Z",
     "start_time": "2022-09-29T20:54:36.336993Z"
    },
    "execution": {
     "iopub.execute_input": "2024-02-01T22:52:30.130380Z",
     "iopub.status.busy": "2024-02-01T22:52:30.129993Z",
     "iopub.status.idle": "2024-02-01T22:53:10.640740Z",
     "shell.execute_reply": "2024-02-01T22:53:10.639947Z"
    },
    "papermill": {
     "duration": 40.551174,
     "end_time": "2024-02-01T22:53:10.644166",
     "exception": false,
     "start_time": "2024-02-01T22:52:30.092992",
     "status": "completed"
    },
    "tags": []
   },
   "outputs": [
    {
     "name": "stdout",
     "output_type": "stream",
     "text": [
      "Calculating beta group significance with method permanova and metric euclidean\n",
      "{'metadata': <CategoricalMetadataColumn name='group-id' id_count=14>, 'method': 'permanova', 'pairwise': True, 'permutations': 999, 'distance_matrix': <skbio.stats.distance._base.DistanceMatrix object at 0x7fdc804026d0>}\n"
     ]
    },
    {
     "name": "stdout",
     "output_type": "stream",
     "text": [
      "DONE: Calculating beta group significance: permanova euclidean\n",
      "Calculating beta group significance with method permanova and metric dice\n",
      "{'metadata': <CategoricalMetadataColumn name='group-id' id_count=14>, 'method': 'permanova', 'pairwise': True, 'permutations': 999, 'distance_matrix': <skbio.stats.distance._base.DistanceMatrix object at 0x7fdc84098ac0>}\n"
     ]
    },
    {
     "name": "stdout",
     "output_type": "stream",
     "text": [
      "DONE: Calculating beta group significance: permanova dice\n",
      "Calculating beta group significance with method permanova and metric braycurtis\n",
      "{'metadata': <CategoricalMetadataColumn name='group-id' id_count=14>, 'method': 'permanova', 'pairwise': True, 'permutations': 999, 'distance_matrix': <skbio.stats.distance._base.DistanceMatrix object at 0x7fdc83a5a400>}\n"
     ]
    },
    {
     "name": "stdout",
     "output_type": "stream",
     "text": [
      "DONE: Calculating beta group significance: permanova braycurtis\n",
      "Calculating beta group significance with method permanova and metric matching\n",
      "{'metadata': <CategoricalMetadataColumn name='group-id' id_count=14>, 'method': 'permanova', 'pairwise': True, 'permutations': 999, 'distance_matrix': <skbio.stats.distance._base.DistanceMatrix object at 0x7fdc83a592e0>}\n"
     ]
    },
    {
     "name": "stdout",
     "output_type": "stream",
     "text": [
      "DONE: Calculating beta group significance: permanova matching\n",
      "Calculating beta group significance with method permanova and metric jaccard\n",
      "{'metadata': <CategoricalMetadataColumn name='group-id' id_count=14>, 'method': 'permanova', 'pairwise': True, 'permutations': 999, 'distance_matrix': <skbio.stats.distance._base.DistanceMatrix object at 0x7fdc84149d60>}\n"
     ]
    },
    {
     "name": "stdout",
     "output_type": "stream",
     "text": [
      "DONE: Calculating beta group significance: permanova jaccard\n",
      "Calculating beta group significance with method anosim and metric euclidean\n",
      "{'metadata': <CategoricalMetadataColumn name='group-id' id_count=14>, 'method': 'anosim', 'pairwise': True, 'permutations': 999, 'distance_matrix': <skbio.stats.distance._base.DistanceMatrix object at 0x7fdc84149820>}\n"
     ]
    },
    {
     "name": "stdout",
     "output_type": "stream",
     "text": [
      "DONE: Calculating beta group significance: anosim euclidean\n",
      "Calculating beta group significance with method anosim and metric dice\n",
      "{'metadata': <CategoricalMetadataColumn name='group-id' id_count=14>, 'method': 'anosim', 'pairwise': True, 'permutations': 999, 'distance_matrix': <skbio.stats.distance._base.DistanceMatrix object at 0x7fdc83921bb0>}\n"
     ]
    },
    {
     "name": "stdout",
     "output_type": "stream",
     "text": [
      "DONE: Calculating beta group significance: anosim dice\n",
      "Calculating beta group significance with method anosim and metric braycurtis\n",
      "{'metadata': <CategoricalMetadataColumn name='group-id' id_count=14>, 'method': 'anosim', 'pairwise': True, 'permutations': 999, 'distance_matrix': <skbio.stats.distance._base.DistanceMatrix object at 0x7fdc83fa0640>}\n"
     ]
    },
    {
     "name": "stdout",
     "output_type": "stream",
     "text": [
      "DONE: Calculating beta group significance: anosim braycurtis\n",
      "Calculating beta group significance with method anosim and metric matching\n",
      "{'metadata': <CategoricalMetadataColumn name='group-id' id_count=14>, 'method': 'anosim', 'pairwise': True, 'permutations': 999, 'distance_matrix': <skbio.stats.distance._base.DistanceMatrix object at 0x7fdc83776ee0>}\n"
     ]
    },
    {
     "name": "stdout",
     "output_type": "stream",
     "text": [
      "DONE: Calculating beta group significance: anosim matching\n",
      "Calculating beta group significance with method anosim and metric jaccard\n",
      "{'metadata': <CategoricalMetadataColumn name='group-id' id_count=14>, 'method': 'anosim', 'pairwise': True, 'permutations': 999, 'distance_matrix': <skbio.stats.distance._base.DistanceMatrix object at 0x7fdc849624f0>}\n"
     ]
    },
    {
     "name": "stdout",
     "output_type": "stream",
     "text": [
      "DONE: Calculating beta group significance: anosim jaccard\n",
      "Calculating beta group significance with method permdisp and metric euclidean\n",
      "{'metadata': <CategoricalMetadataColumn name='group-id' id_count=14>, 'method': 'permdisp', 'pairwise': True, 'permutations': 999, 'distance_matrix': <skbio.stats.distance._base.DistanceMatrix object at 0x7fdc83971c40>}\n"
     ]
    },
    {
     "name": "stderr",
     "output_type": "stream",
     "text": [
      "/home/lauro/anaconda3/envs/qiime2-2022.2/lib/python3.8/site-packages/skbio/stats/ordination/_principal_coordinate_analysis.py:143: RuntimeWarning: The result contains negative eigenvalues. Please compare their magnitude with the magnitude of some of the largest positive eigenvalues. If the negative ones are smaller, it's probably safe to ignore them, but if they are large in magnitude, the results won't be useful. See the Notes section for more details. The smallest eigenvalue is -2.3643273890129085e-07 and the largest is 3980223403.410832.\n",
      "  warn(\n"
     ]
    },
    {
     "name": "stderr",
     "output_type": "stream",
     "text": [
      "/home/lauro/anaconda3/envs/qiime2-2022.2/lib/python3.8/site-packages/skbio/stats/ordination/_principal_coordinate_analysis.py:143: RuntimeWarning: The result contains negative eigenvalues. Please compare their magnitude with the magnitude of some of the largest positive eigenvalues. If the negative ones are smaller, it's probably safe to ignore them, but if they are large in magnitude, the results won't be useful. See the Notes section for more details. The smallest eigenvalue is -2.3643273890129085e-07 and the largest is 3980223403.410832.\n",
      "  warn(\n"
     ]
    },
    {
     "name": "stdout",
     "output_type": "stream",
     "text": [
      "DONE: Calculating beta group significance: permdisp euclidean\n",
      "Calculating beta group significance with method permdisp and metric dice\n",
      "{'metadata': <CategoricalMetadataColumn name='group-id' id_count=14>, 'method': 'permdisp', 'pairwise': True, 'permutations': 999, 'distance_matrix': <skbio.stats.distance._base.DistanceMatrix object at 0x7fdc83ca84c0>}\n"
     ]
    },
    {
     "name": "stdout",
     "output_type": "stream",
     "text": [
      "DONE: Calculating beta group significance: permdisp dice\n",
      "Calculating beta group significance with method permdisp and metric braycurtis\n",
      "{'metadata': <CategoricalMetadataColumn name='group-id' id_count=14>, 'method': 'permdisp', 'pairwise': True, 'permutations': 999, 'distance_matrix': <skbio.stats.distance._base.DistanceMatrix object at 0x7fdc837a0d60>}\n"
     ]
    },
    {
     "name": "stdout",
     "output_type": "stream",
     "text": [
      "DONE: Calculating beta group significance: permdisp braycurtis\n",
      "Calculating beta group significance with method permdisp and metric matching\n",
      "{'metadata': <CategoricalMetadataColumn name='group-id' id_count=14>, 'method': 'permdisp', 'pairwise': True, 'permutations': 999, 'distance_matrix': <skbio.stats.distance._base.DistanceMatrix object at 0x7fdc83e260a0>}\n"
     ]
    },
    {
     "name": "stderr",
     "output_type": "stream",
     "text": [
      "/home/lauro/anaconda3/envs/qiime2-2022.2/lib/python3.8/site-packages/skbio/stats/ordination/_principal_coordinate_analysis.py:143: RuntimeWarning: The result contains negative eigenvalues. Please compare their magnitude with the magnitude of some of the largest positive eigenvalues. If the negative ones are smaller, it's probably safe to ignore them, but if they are large in magnitude, the results won't be useful. See the Notes section for more details. The smallest eigenvalue is -0.0012090318022418473 and the largest is 0.1280774680018034.\n",
      "  warn(\n"
     ]
    },
    {
     "name": "stderr",
     "output_type": "stream",
     "text": [
      "/home/lauro/anaconda3/envs/qiime2-2022.2/lib/python3.8/site-packages/skbio/stats/ordination/_principal_coordinate_analysis.py:143: RuntimeWarning: The result contains negative eigenvalues. Please compare their magnitude with the magnitude of some of the largest positive eigenvalues. If the negative ones are smaller, it's probably safe to ignore them, but if they are large in magnitude, the results won't be useful. See the Notes section for more details. The smallest eigenvalue is -0.0012090318022418473 and the largest is 0.1280774680018034.\n",
      "  warn(\n"
     ]
    },
    {
     "name": "stdout",
     "output_type": "stream",
     "text": [
      "DONE: Calculating beta group significance: permdisp matching\n",
      "Calculating beta group significance with method permdisp and metric jaccard\n",
      "{'metadata': <CategoricalMetadataColumn name='group-id' id_count=14>, 'method': 'permdisp', 'pairwise': True, 'permutations': 999, 'distance_matrix': <skbio.stats.distance._base.DistanceMatrix object at 0x7fdc83c5b910>}\n"
     ]
    },
    {
     "name": "stdout",
     "output_type": "stream",
     "text": [
      "DONE: Calculating beta group significance: permdisp jaccard\n"
     ]
    },
    {
     "data": {
      "text/plain": [
       "<Figure size 432x288 with 0 Axes>"
      ]
     },
     "metadata": {},
     "output_type": "display_data"
    }
   ],
   "source": [
    "methods = ('permanova', 'anosim', 'permdisp')\n",
    "for method in methods:\n",
    "    for metric, beta_diversity in beta_diversities.items():\n",
    "        print(f'Calculating beta group significance with method {method} and metric {metric}')\n",
    "        try:\n",
    "            beta_view = beta_group_significance(distance_matrix=beta_diversity, \n",
    "                                                metadata=metadata_qa.get_column(class_col), \n",
    "                                                pairwise=True, method=method).visualization\n",
    "            view_name = os.path.join(beta_path, f'beta-group-significance-{metric}-{method}.qzv')\n",
    "            beta_view.save(view_name)\n",
    "            print(f\"DONE: Calculating beta group significance: {method} {metric}\")\n",
    "        except Exception as e:\n",
    "            print(f\"ERROR: Calculating beta group significance: {method} {metric}\")"
   ]
  },
  {
   "cell_type": "code",
   "execution_count": 19,
   "id": "6366725e",
   "metadata": {
    "execution": {
     "iopub.execute_input": "2024-02-01T22:53:10.857287Z",
     "iopub.status.busy": "2024-02-01T22:53:10.856847Z",
     "iopub.status.idle": "2024-02-01T22:53:42.774057Z",
     "shell.execute_reply": "2024-02-01T22:53:42.773482Z"
    },
    "papermill": {
     "duration": 32.095022,
     "end_time": "2024-02-01T22:53:42.833275",
     "exception": false,
     "start_time": "2024-02-01T22:53:10.738253",
     "status": "completed"
    },
    "tags": []
   },
   "outputs": [
    {
     "name": "stdout",
     "output_type": "stream",
     "text": [
      "Calculating beta group significance with method permanova and metric unweighted_unifrac_distance_matrix\n",
      "{'metadata': <CategoricalMetadataColumn name='group-id' id_count=14>, 'method': 'permanova', 'pairwise': True, 'permutations': 999, 'distance_matrix': <skbio.stats.distance._base.DistanceMatrix object at 0x7fdc83b68d90>}\n"
     ]
    },
    {
     "name": "stdout",
     "output_type": "stream",
     "text": [
      "DONE: Calculating beta group significance: permanova unweighted_unifrac_distance_matrix\n",
      "Calculating beta group significance with method permanova and metric weighted_unifrac_distance_matrix\n",
      "{'metadata': <CategoricalMetadataColumn name='group-id' id_count=14>, 'method': 'permanova', 'pairwise': True, 'permutations': 999, 'distance_matrix': <skbio.stats.distance._base.DistanceMatrix object at 0x7fdc83ff5d60>}\n"
     ]
    },
    {
     "name": "stdout",
     "output_type": "stream",
     "text": [
      "DONE: Calculating beta group significance: permanova weighted_unifrac_distance_matrix\n",
      "Calculating beta group significance with method permanova and metric jaccard_distance_matrix\n",
      "{'metadata': <CategoricalMetadataColumn name='group-id' id_count=14>, 'method': 'permanova', 'pairwise': True, 'permutations': 999, 'distance_matrix': <skbio.stats.distance._base.DistanceMatrix object at 0x7fdc83b3dbe0>}\n"
     ]
    },
    {
     "name": "stdout",
     "output_type": "stream",
     "text": [
      "DONE: Calculating beta group significance: permanova jaccard_distance_matrix\n",
      "Calculating beta group significance with method permanova and metric bray_curtis_distance_matrix\n",
      "{'metadata': <CategoricalMetadataColumn name='group-id' id_count=14>, 'method': 'permanova', 'pairwise': True, 'permutations': 999, 'distance_matrix': <skbio.stats.distance._base.DistanceMatrix object at 0x7fdc83abcca0>}\n"
     ]
    },
    {
     "name": "stdout",
     "output_type": "stream",
     "text": [
      "DONE: Calculating beta group significance: permanova bray_curtis_distance_matrix\n",
      "Calculating beta group significance with method anosim and metric unweighted_unifrac_distance_matrix\n",
      "{'metadata': <CategoricalMetadataColumn name='group-id' id_count=14>, 'method': 'anosim', 'pairwise': True, 'permutations': 999, 'distance_matrix': <skbio.stats.distance._base.DistanceMatrix object at 0x7fdc8006b910>}\n"
     ]
    },
    {
     "name": "stdout",
     "output_type": "stream",
     "text": [
      "DONE: Calculating beta group significance: anosim unweighted_unifrac_distance_matrix\n",
      "Calculating beta group significance with method anosim and metric weighted_unifrac_distance_matrix\n",
      "{'metadata': <CategoricalMetadataColumn name='group-id' id_count=14>, 'method': 'anosim', 'pairwise': True, 'permutations': 999, 'distance_matrix': <skbio.stats.distance._base.DistanceMatrix object at 0x7fdc8420ae80>}\n"
     ]
    },
    {
     "name": "stdout",
     "output_type": "stream",
     "text": [
      "DONE: Calculating beta group significance: anosim weighted_unifrac_distance_matrix\n",
      "Calculating beta group significance with method anosim and metric jaccard_distance_matrix\n",
      "{'metadata': <CategoricalMetadataColumn name='group-id' id_count=14>, 'method': 'anosim', 'pairwise': True, 'permutations': 999, 'distance_matrix': <skbio.stats.distance._base.DistanceMatrix object at 0x7fdc8004cc40>}\n"
     ]
    },
    {
     "name": "stdout",
     "output_type": "stream",
     "text": [
      "DONE: Calculating beta group significance: anosim jaccard_distance_matrix\n",
      "Calculating beta group significance with method anosim and metric bray_curtis_distance_matrix\n",
      "{'metadata': <CategoricalMetadataColumn name='group-id' id_count=14>, 'method': 'anosim', 'pairwise': True, 'permutations': 999, 'distance_matrix': <skbio.stats.distance._base.DistanceMatrix object at 0x7fdc83ad3550>}\n"
     ]
    },
    {
     "name": "stdout",
     "output_type": "stream",
     "text": [
      "DONE: Calculating beta group significance: anosim bray_curtis_distance_matrix\n",
      "Calculating beta group significance with method permdisp and metric unweighted_unifrac_distance_matrix\n",
      "{'metadata': <CategoricalMetadataColumn name='group-id' id_count=14>, 'method': 'permdisp', 'pairwise': True, 'permutations': 999, 'distance_matrix': <skbio.stats.distance._base.DistanceMatrix object at 0x7fdc840cba30>}\n"
     ]
    },
    {
     "name": "stdout",
     "output_type": "stream",
     "text": [
      "DONE: Calculating beta group significance: permdisp unweighted_unifrac_distance_matrix\n",
      "Calculating beta group significance with method permdisp and metric weighted_unifrac_distance_matrix\n",
      "{'metadata': <CategoricalMetadataColumn name='group-id' id_count=14>, 'method': 'permdisp', 'pairwise': True, 'permutations': 999, 'distance_matrix': <skbio.stats.distance._base.DistanceMatrix object at 0x7fdc846e8fd0>}\n"
     ]
    },
    {
     "name": "stderr",
     "output_type": "stream",
     "text": [
      "/home/lauro/anaconda3/envs/qiime2-2022.2/lib/python3.8/site-packages/skbio/stats/ordination/_principal_coordinate_analysis.py:143: RuntimeWarning: The result contains negative eigenvalues. Please compare their magnitude with the magnitude of some of the largest positive eigenvalues. If the negative ones are smaller, it's probably safe to ignore them, but if they are large in magnitude, the results won't be useful. See the Notes section for more details. The smallest eigenvalue is -0.0031450557944761367 and the largest is 0.5055875139531785.\n",
      "  warn(\n"
     ]
    },
    {
     "name": "stderr",
     "output_type": "stream",
     "text": [
      "/home/lauro/anaconda3/envs/qiime2-2022.2/lib/python3.8/site-packages/skbio/stats/ordination/_principal_coordinate_analysis.py:143: RuntimeWarning: The result contains negative eigenvalues. Please compare their magnitude with the magnitude of some of the largest positive eigenvalues. If the negative ones are smaller, it's probably safe to ignore them, but if they are large in magnitude, the results won't be useful. See the Notes section for more details. The smallest eigenvalue is -0.0031450557944761367 and the largest is 0.5055875139531785.\n",
      "  warn(\n"
     ]
    },
    {
     "name": "stdout",
     "output_type": "stream",
     "text": [
      "DONE: Calculating beta group significance: permdisp weighted_unifrac_distance_matrix\n",
      "Calculating beta group significance with method permdisp and metric jaccard_distance_matrix\n",
      "{'metadata': <CategoricalMetadataColumn name='group-id' id_count=14>, 'method': 'permdisp', 'pairwise': True, 'permutations': 999, 'distance_matrix': <skbio.stats.distance._base.DistanceMatrix object at 0x7fdc83654b80>}\n"
     ]
    },
    {
     "name": "stdout",
     "output_type": "stream",
     "text": [
      "DONE: Calculating beta group significance: permdisp jaccard_distance_matrix\n",
      "Calculating beta group significance with method permdisp and metric bray_curtis_distance_matrix\n",
      "{'metadata': <CategoricalMetadataColumn name='group-id' id_count=14>, 'method': 'permdisp', 'pairwise': True, 'permutations': 999, 'distance_matrix': <skbio.stats.distance._base.DistanceMatrix object at 0x7fdc83b3d7f0>}\n"
     ]
    },
    {
     "name": "stdout",
     "output_type": "stream",
     "text": [
      "DONE: Calculating beta group significance: permdisp bray_curtis_distance_matrix\n"
     ]
    },
    {
     "data": {
      "text/plain": [
       "<Figure size 432x288 with 0 Axes>"
      ]
     },
     "metadata": {},
     "output_type": "display_data"
    }
   ],
   "source": [
    "# Expand tests using UNIFRAC metrics\n",
    "methods = ('permanova', 'anosim', 'permdisp')\n",
    "for method in methods:\n",
    "    for metric, beta_diversity in distance_matrix.items():\n",
    "        print(f'Calculating beta group significance with method {method} and metric {metric}')\n",
    "        try:\n",
    "            beta_view = beta_group_significance(distance_matrix=beta_diversity, \n",
    "                                                metadata=metadata_qa.get_column(class_col), \n",
    "                                                pairwise=True, method=method).visualization\n",
    "            view_name = os.path.join(beta_path, f'beta-group-significance-{metric}-{method}.qzv')\n",
    "            beta_view.save(view_name)\n",
    "            print(f\"DONE: Calculating beta group significance: {method} {metric}\")\n",
    "        except Exception as e:\n",
    "            print(f\"ERROR: Calculating beta group significance: {method} {metric}\")"
   ]
  },
  {
   "cell_type": "markdown",
   "id": "c0de85cf",
   "metadata": {
    "papermill": {
     "duration": 0.050039,
     "end_time": "2024-02-01T22:53:42.934176",
     "exception": false,
     "start_time": "2024-02-01T22:53:42.884137",
     "status": "completed"
    },
    "tags": []
   },
   "source": [
    "### Beta group Rarefaction\n",
    "\n",
    "- [diversity beta_rarefaction](https://docs.qiime2.org/2022.8/plugins/available/diversity/beta-rarefaction/): Repeatedly rarefy a feature table to compare beta diversity results within a given rarefaction depth.  For a given beta diversity metric, this visualizer will provide: an Emperor jackknifed PCoA plot, samples clustered by UPGMA or neighbor joining with support calculation, and a heatmap showing the correlation between rarefaction trials of that beta diversity metric."
   ]
  }
 ],
 "metadata": {
  "celltoolbar": "Edit Metadata",
  "kernelspec": {
   "display_name": "Python 3 (ipykernel)",
   "language": "python",
   "name": "python3"
  },
  "language_info": {
   "codemirror_mode": {
    "name": "ipython",
    "version": 3
   },
   "file_extension": ".py",
   "mimetype": "text/x-python",
   "name": "python",
   "nbconvert_exporter": "python",
   "pygments_lexer": "ipython3",
   "version": "3.8.12"
  },
  "papermill": {
   "default_parameters": {},
   "duration": 113.309525,
   "end_time": "2024-02-01T22:53:43.900331",
   "environment_variables": {},
   "exception": null,
   "input_path": "nb-templates/step-diversity-analysis.ipynb",
   "output_path": "/home/lauro/nupeb/rede-micro/redemicro-ana-flavia-nutri/experiments/ana-flavia-STD-NCxSTD-NR-trim/nb-executed-steps/step-diversity-analysis-ana-flavia-STD-NCxSTD-NR-trim.ipynb",
   "parameters": {
    "PAPERMILL_INPUT_PATH": "nb-templates/step-diversity-analysis.ipynb",
    "PAPERMILL_OUTPUT_PATH": "/home/lauro/nupeb/rede-micro/redemicro-ana-flavia-nutri/experiments/ana-flavia-STD-NCxSTD-NR-trim/nb-executed-steps/step-diversity-analysis-ana-flavia-STD-NCxSTD-NR-trim.ipynb",
    "base_dir": "/home/lauro/nupeb/rede-micro/redemicro-ana-flavia-nutri",
    "class_col": "group-id",
    "classifier_file": "/home/lauro/nupeb/rede-micro/models/silva-138-99-nb-classifier.qza",
    "experiment_name": "ana-flavia-STD-NCxSTD-NR-trim",
    "manifest_file": "/home/lauro/nupeb/rede-micro/redemicro-ana-flavia-nutri/data/raw/manifest/manifest-ana-flavia-STD-NCxSTD-NR.csv",
    "metadata_file": "/home/lauro/nupeb/rede-micro/redemicro-ana-flavia-nutri/data/raw/metadata/metadata-ana-flavia-STD-NCxSTD-NR.tsv",
    "overlap": 12,
    "phred": 20,
    "replace_files": false,
    "threads": 6,
    "top_n": 20,
    "trim": {
     "forward_primer": "CCTACGGGRSGCAGCAG",
     "overlap": 8,
     "reverse_primer": "GGACTACHVGGGTWTCTAAT"
    },
    "trunc_f": 0,
    "trunc_r": 0
   },
   "start_time": "2024-02-01T22:51:50.590806",
   "version": "2.3.4"
  }
 },
 "nbformat": 4,
 "nbformat_minor": 5
}