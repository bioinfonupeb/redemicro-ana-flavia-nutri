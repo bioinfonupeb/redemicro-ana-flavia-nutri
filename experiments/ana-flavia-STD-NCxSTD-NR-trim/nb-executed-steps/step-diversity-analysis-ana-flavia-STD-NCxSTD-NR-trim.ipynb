{
 "cells": [
  {
   "cell_type": "markdown",
   "id": "15bcfa06",
   "metadata": {
    "papermill": {
     "duration": 0.027593,
     "end_time": "2022-10-14T18:15:34.646208",
     "exception": false,
     "start_time": "2022-10-14T18:15:34.618615",
     "status": "completed"
    },
    "tags": []
   },
   "source": [
    " \n",
    "# Alpha and Beta Diversity\n",
    "\n",
    "Different higher-level measures are often used to describe the microbiome in a sample. These do not provide information on changes in the abundance of specific taxa but allow us to access a broader change or difference in the composition of microorganisms. Alpha and beta diversity are examples of such measures.\n",
    "\n",
    "Different measures exist to estimate diversity within a single sample, jointly called alpha diversity. The different measures reflect the richness (number) or distribution (evenness) of a microbial sample or aim to reflect a combination of both properties.\n",
    "\n",
    "Rarefaction curves are often used when calculating alpha diversity indices because increasing numbers of sequenced taxa allow increasingly accurate estimates of total population diversity. Rarefaction curves can therefore be used to estimate the full sample richness, as compared to the observed sample richness.\n",
    "\n",
    "While alpha diversity is a measure of microbiome diversity applicable to a single sample, beta diversity is a measure of the similarity or dissimilarity of two communities. As for alpha diversity, many indices exist, each reflecting different aspects of community heterogeneity. Key differences relate to how the indices value variation in rare species if they consider presence/absence only or incorporate abundance, and how they interpret shared absence. Bray-Curtis dissimilarity is a popular measure that considers both size (overall abundance per sample) and shape (abundance of each taxon) of the communities (Bray, 1957). Beta diversity is an essential measure for many popular statistical methods in ecology, such as ordination-based methods, and is widely used for studying the association between environmental variables and microbial composition.\n",
    "\n",
    "In summary, alpha diversity measures can be seen as a summary statistic of a single population (within-sample diversity), while beta diversity measures are estimates of similarity or dissimilarity between populations (between samples).\n",
    "\n",
    "**Source**: (https://biomcare.com/info/key-terms-in-microbiome-projects/)"
   ]
  },
  {
   "cell_type": "markdown",
   "id": "0e7f2330",
   "metadata": {
    "ExecuteTime": {
     "end_time": "2022-09-22T19:36:33.828188Z",
     "start_time": "2022-09-22T19:36:33.817323Z"
    },
    "papermill": {
     "duration": 0.026188,
     "end_time": "2022-10-14T18:15:34.699092",
     "exception": false,
     "start_time": "2022-10-14T18:15:34.672904",
     "status": "completed"
    },
    "tags": []
   },
   "source": [
    "### STEP : Diversity Analysis\n",
    "\n",
    "Using QIIME2 to create diversity analisys graphs and calculations.\n",
    "\n",
    "- [QIIME2 Workflow Overview](https://docs.qiime2.org/2022.8/tutorials/overview/)\n",
    "\n",
    "\n",
    "#### Methods\n",
    "- [diversity](https://docs.qiime2.org/2022.8/plugins/available/diversity/)\n",
    "- [diversity alpha](https://docs.qiime2.org/2022.8/plugins/available/diversity/alpha/)\n",
    "- [diversity alpha_phylogenetic](https://docs.qiime2.org/2022.8/plugins/available/diversity/alpha-phylogenetic/)\n",
    "- [diversity beta](https://docs.qiime2.org/2022.8/plugins/available/diversity/beta/)\n",
    "- [diversity core_metrics](https://docs.qiime2.org/2022.8/plugins/available/diversity/core-metrics/)\n",
    "- [diversity alpha_group_significance](https://docs.qiime2.org/2022.8/plugins/available/diversity/alpha-group-significance/)\n",
    "- [diversity beta_group_significance](https://docs.qiime2.org/2022.8/plugins/available/diversity/beta-group-significance/)\n",
    "- [feature_table core_features](https://docs.qiime2.org/2022.8/plugins/available/feature-table/core-features/)\n",
    "- [feature_table summarize](https://docs.qiime2.org/2022.8/plugins/available/feature-table/summarize/)\n",
    "- [taxa filter-table](https://docs.qiime2.org/2022.8/plugins/available/taxa/filter-table/)\n",
    "- [taxa collapse](https://docs.qiime2.org/2022.8/plugins/available/taxa/collapse/)"
   ]
  },
  {
   "cell_type": "markdown",
   "id": "843debbf",
   "metadata": {
    "papermill": {
     "duration": 0.026083,
     "end_time": "2022-10-14T18:15:34.751315",
     "exception": false,
     "start_time": "2022-10-14T18:15:34.725232",
     "status": "completed"
    },
    "tags": []
   },
   "source": [
    "## Setup and settings"
   ]
  },
  {
   "cell_type": "code",
   "execution_count": 1,
   "id": "965e28e5",
   "metadata": {
    "ExecuteTime": {
     "end_time": "2022-09-29T20:54:14.786765Z",
     "start_time": "2022-09-29T20:54:08.286473Z"
    },
    "execution": {
     "iopub.execute_input": "2022-10-14T18:15:34.806024Z",
     "iopub.status.busy": "2022-10-14T18:15:34.805512Z",
     "iopub.status.idle": "2022-10-14T18:15:43.572515Z",
     "shell.execute_reply": "2022-10-14T18:15:43.571803Z"
    },
    "papermill": {
     "duration": 8.796809,
     "end_time": "2022-10-14T18:15:43.574789",
     "exception": false,
     "start_time": "2022-10-14T18:15:34.777980",
     "status": "completed"
    },
    "tags": []
   },
   "outputs": [],
   "source": [
    "# Importing packages\n",
    "import os\n",
    "import pandas as pd\n",
    "from qiime2 import Artifact\n",
    "from qiime2 import Visualization\n",
    "from qiime2 import Metadata\n",
    "\n",
    "from qiime2.plugins.phylogeny.pipelines import align_to_tree_mafft_fasttree\n",
    "\n",
    "from qiime2.plugins.diversity.pipelines import alpha\n",
    "from qiime2.plugins.diversity.pipelines import beta\n",
    "from qiime2.plugins.diversity.pipelines import core_metrics\n",
    "from qiime2.plugins.diversity.pipelines import alpha_phylogenetic\n",
    "\n",
    "from qiime2.plugins.diversity.visualizers import alpha_group_significance\n",
    "from qiime2.plugins.diversity.visualizers import beta_group_significance\n",
    "from qiime2.plugins.diversity.visualizers import alpha_correlation\n",
    "from qiime2.plugins.diversity.visualizers import beta_rarefaction\n",
    "\n",
    "from qiime2.plugins.taxa.methods import filter_table\n",
    "from qiime2.plugins.taxa.methods import collapse\n",
    "\n",
    "from qiime2.plugins.feature_table.visualizers import tabulate_seqs\n",
    "from qiime2.plugins.feature_table.visualizers import summarize\n",
    "from qiime2.plugins.feature_table.visualizers import core_features\n",
    "\n",
    "from qiime2.plugins.alignment.methods import mafft\n",
    "\n",
    "\n",
    "import matplotlib.pyplot as plt\n",
    "\n",
    "%matplotlib inline"
   ]
  },
  {
   "cell_type": "markdown",
   "id": "530ceb60",
   "metadata": {
    "papermill": {
     "duration": 0.078763,
     "end_time": "2022-10-14T18:15:43.680232",
     "exception": false,
     "start_time": "2022-10-14T18:15:43.601469",
     "status": "completed"
    },
    "tags": []
   },
   "source": [
    "### Receiving the parameters\n",
    "\n",
    "The following cell can receive parameters using the [papermill](https://papermill.readthedocs.io/en/latest/) tool."
   ]
  },
  {
   "cell_type": "code",
   "execution_count": 2,
   "id": "18d874ea",
   "metadata": {
    "ExecuteTime": {
     "end_time": "2022-09-29T20:54:14.793270Z",
     "start_time": "2022-09-29T20:54:14.789367Z"
    },
    "execution": {
     "iopub.execute_input": "2022-10-14T18:15:43.797719Z",
     "iopub.status.busy": "2022-10-14T18:15:43.796998Z",
     "iopub.status.idle": "2022-10-14T18:15:43.801344Z",
     "shell.execute_reply": "2022-10-14T18:15:43.800752Z"
    },
    "papermill": {
     "duration": 0.034838,
     "end_time": "2022-10-14T18:15:43.803190",
     "exception": false,
     "start_time": "2022-10-14T18:15:43.768352",
     "status": "completed"
    },
    "tags": [
     "parameters"
    ]
   },
   "outputs": [],
   "source": [
    "metadata_file = '/home/lauro/nupeb/rede-micro/redemicro-miliane-nutri/data/raw/metadata/miliane-metadata-CxAC.tsv'\n",
    "base_dir = os.path.join('/', 'home', 'lauro', 'nupeb', 'rede-micro', 'redemicro-miliane-nutri')\n",
    "experiment_name = 'miliane-CxAC-trim'\n",
    "class_col = 'group-id'\n",
    "replace_files = False"
   ]
  },
  {
   "cell_type": "code",
   "execution_count": 3,
   "id": "d96c2fb4",
   "metadata": {
    "execution": {
     "iopub.execute_input": "2022-10-14T18:15:43.858946Z",
     "iopub.status.busy": "2022-10-14T18:15:43.858633Z",
     "iopub.status.idle": "2022-10-14T18:15:43.863869Z",
     "shell.execute_reply": "2022-10-14T18:15:43.863258Z"
    },
    "papermill": {
     "duration": 0.034815,
     "end_time": "2022-10-14T18:15:43.865572",
     "exception": false,
     "start_time": "2022-10-14T18:15:43.830757",
     "status": "completed"
    },
    "tags": [
     "injected-parameters"
    ]
   },
   "outputs": [],
   "source": [
    "# Parameters\n",
    "experiment_name = \"ana-flavia-STD-NCxSTD-NR-trim\"\n",
    "base_dir = \"/home/lauro/nupeb/rede-micro/redemicro-ana-flavia-nutri\"\n",
    "manifest_file = \"/home/lauro/nupeb/rede-micro/redemicro-ana-flavia-nutri/data/raw/manifest/manifest-ana-flavia-STD-NCxSTD-NR.csv\"\n",
    "metadata_file = \"/home/lauro/nupeb/rede-micro/redemicro-ana-flavia-nutri/data/raw/metadata/metadata-ana-flavia-STD-NCxSTD-NR.tsv\"\n",
    "class_col = \"group-id\"\n",
    "classifier_file = \"/home/lauro/nupeb/dados_brutos_rede_genoma/16S_classifiers_qiime2/silva-138-99-nb-classifier.qza\"\n",
    "replace_files = False\n",
    "phred = 20\n",
    "trunc_f = 0\n",
    "trunc_r = 0\n",
    "overlap = 12\n",
    "threads = 6\n",
    "trim = {\n",
    "    \"overlap\": 8,\n",
    "    \"forward_primer\": \"CCTACGGGRSGCAGCAG\",\n",
    "    \"reverse_primer\": \"GGACTACHVGGGTWTCTAAT\",\n",
    "}\n"
   ]
  },
  {
   "cell_type": "code",
   "execution_count": 4,
   "id": "f38617d9",
   "metadata": {
    "ExecuteTime": {
     "end_time": "2022-09-29T20:54:14.804575Z",
     "start_time": "2022-09-29T20:54:14.794927Z"
    },
    "execution": {
     "iopub.execute_input": "2022-10-14T18:15:43.921346Z",
     "iopub.status.busy": "2022-10-14T18:15:43.921037Z",
     "iopub.status.idle": "2022-10-14T18:15:43.925128Z",
     "shell.execute_reply": "2022-10-14T18:15:43.924542Z"
    },
    "papermill": {
     "duration": 0.034426,
     "end_time": "2022-10-14T18:15:43.926948",
     "exception": false,
     "start_time": "2022-10-14T18:15:43.892522",
     "status": "completed"
    },
    "tags": []
   },
   "outputs": [],
   "source": [
    "experiment_folder = os.path.abspath(os.path.join(base_dir, 'experiments', experiment_name))\n",
    "img_folder = os.path.abspath(os.path.join(experiment_folder, 'imgs'))"
   ]
  },
  {
   "cell_type": "markdown",
   "id": "ea9b90fb",
   "metadata": {
    "papermill": {
     "duration": 0.026724,
     "end_time": "2022-10-14T18:15:43.981494",
     "exception": false,
     "start_time": "2022-10-14T18:15:43.954770",
     "status": "completed"
    },
    "tags": []
   },
   "source": [
    "### Defining names, paths and flags"
   ]
  },
  {
   "cell_type": "code",
   "execution_count": 5,
   "id": "45727eef",
   "metadata": {
    "ExecuteTime": {
     "end_time": "2022-09-29T20:54:14.816686Z",
     "start_time": "2022-09-29T20:54:14.806238Z"
    },
    "execution": {
     "iopub.execute_input": "2022-10-14T18:15:44.038404Z",
     "iopub.status.busy": "2022-10-14T18:15:44.038082Z",
     "iopub.status.idle": "2022-10-14T18:15:44.045893Z",
     "shell.execute_reply": "2022-10-14T18:15:44.045215Z"
    },
    "papermill": {
     "duration": 0.038224,
     "end_time": "2022-10-14T18:15:44.047793",
     "exception": false,
     "start_time": "2022-10-14T18:15:44.009569",
     "status": "completed"
    },
    "tags": []
   },
   "outputs": [],
   "source": [
    "# QIIME2 Artifacts folder\n",
    "qiime_folder = os.path.join(experiment_folder, 'qiime-artifacts')\n",
    "\n",
    "# Input - DADA2 Artifacts\n",
    "dada2_tabs_path = os.path.join(qiime_folder, 'dada2-tabs.qza')\n",
    "dada2_reps_path = os.path.join(qiime_folder, 'dada2-reps.qza')\n",
    "dada2_stat_path = os.path.join(qiime_folder, 'dada2-stat.qza')\n",
    "\n",
    "# Input - Taxonaomic Artifacts\n",
    "taxonomy_path = os.path.join(qiime_folder, 'metatax.qza')\n",
    "\n",
    "# Output -Diversity Artifacts\n",
    "alpha_diversity_path = os.path.join(qiime_folder, 'alpha-diversity.qza')\n",
    "alpha_diversity_view_path = os.path.join(qiime_folder, 'alpha-diversity.qzv')\n",
    "beta_diversity_path = os.path.join(qiime_folder, 'beta-diversity.qza')\n",
    "beta_diversity_view_path = os.path.join(qiime_folder, 'beta-diversity.qzv')\n",
    "\n",
    "dada2_tabs_view = os.path.join(qiime_folder, 'dada2-tabs.qzv')\n",
    "dada2_reps_view = os.path.join(qiime_folder, 'dada2-reps.qzv')\n",
    "dada2_core_view = os.path.join(qiime_folder, 'dada2-core.qzv')\n",
    "\n",
    "# Flag - Load or create files\n",
    "need_tax = not (os.path.isfile(alpha_diversity_path)) or replace_files\n",
    "need_view = not (os.path.isfile(alpha_diversity_view_path)) or replace_files"
   ]
  },
  {
   "cell_type": "code",
   "execution_count": 6,
   "id": "601ae263",
   "metadata": {
    "ExecuteTime": {
     "end_time": "2022-09-29T20:54:14.829117Z",
     "start_time": "2022-09-29T20:54:14.818272Z"
    },
    "execution": {
     "iopub.execute_input": "2022-10-14T18:15:44.104384Z",
     "iopub.status.busy": "2022-10-14T18:15:44.104044Z",
     "iopub.status.idle": "2022-10-14T18:15:44.111339Z",
     "shell.execute_reply": "2022-10-14T18:15:44.110728Z"
    },
    "papermill": {
     "duration": 0.03765,
     "end_time": "2022-10-14T18:15:44.113047",
     "exception": false,
     "start_time": "2022-10-14T18:15:44.075397",
     "status": "completed"
    },
    "tags": []
   },
   "outputs": [],
   "source": [
    "def filter_and_collapse(tab, seqs, tax, meta, lvl, exclude=True, exclude_list='uncultured,unidentified,metagenome'):\n",
    "    from qiime2.plugins.taxa.methods import collapse\n",
    "    from qiime2.plugins.taxa.methods import filter_table\n",
    "    from qiime2.plugins.feature_table.methods import filter_seqs\n",
    "    from qiime2.plugins.feature_table.visualizers import summarize\n",
    "    \n",
    "    to_include = ('d', 'p', 'c', 'o', 'f', 'g', 's')[lvl-1]\n",
    "    to_include += '__'\n",
    "    to_exclude = exclude_list if exclude else None\n",
    "    \n",
    "    filtered_tabs = filter_table(\n",
    "        table=tab, \n",
    "        taxonomy=tax,\n",
    "        include=to_include,\n",
    "        exclude=to_exclude,\n",
    "        mode='contains').filtered_table\n",
    "    \n",
    "    filtered_seqs = filter_seqs(\n",
    "        data = seqs,\n",
    "        table = filtered_tabs,\n",
    "    ).filtered_data\n",
    "    \n",
    "    collapsed_table = collapse(table=filtered_tabs, taxonomy=tax, level=lvl).collapsed_table\n",
    "    collapsed_table_view = summarize(table=collapsed_table, sample_metadata=meta).visualization\n",
    "    \n",
    "    return collapsed_table, collapsed_table_view, filtered_seqs"
   ]
  },
  {
   "cell_type": "markdown",
   "id": "0999a1b2",
   "metadata": {
    "papermill": {
     "duration": 0.027033,
     "end_time": "2022-10-14T18:15:44.168539",
     "exception": false,
     "start_time": "2022-10-14T18:15:44.141506",
     "status": "completed"
    },
    "tags": []
   },
   "source": [
    "## Step execution\n",
    "\n",
    "### Load input files\n",
    "\n",
    "This Step import the QIIME2 `FeatureTable[Frequency]` Artifact and the `Metadata` file."
   ]
  },
  {
   "cell_type": "code",
   "execution_count": 7,
   "id": "8f299d1a",
   "metadata": {
    "ExecuteTime": {
     "end_time": "2022-09-29T20:54:15.559837Z",
     "start_time": "2022-09-29T20:54:14.830405Z"
    },
    "execution": {
     "iopub.execute_input": "2022-10-14T18:15:44.226576Z",
     "iopub.status.busy": "2022-10-14T18:15:44.226264Z",
     "iopub.status.idle": "2022-10-14T18:15:45.004363Z",
     "shell.execute_reply": "2022-10-14T18:15:45.003702Z"
    },
    "papermill": {
     "duration": 0.809222,
     "end_time": "2022-10-14T18:15:45.006173",
     "exception": false,
     "start_time": "2022-10-14T18:15:44.196951",
     "status": "completed"
    },
    "tags": []
   },
   "outputs": [],
   "source": [
    "#Load Metadata\n",
    "metadata_qa = Metadata.load(metadata_file)\n",
    "\n",
    "#Load FeatureTable[Frequency]\n",
    "tabs = Artifact.load(dada2_tabs_path)\n",
    "tabs_df = tabs.view(Metadata).to_dataframe().T\n",
    "\n",
    "# FeatureData[Sequence]\n",
    "reps = Artifact.load(dada2_reps_path)\n",
    "\n",
    "# FeatureData[Taxonomy]\n",
    "tax = Artifact.load(taxonomy_path)"
   ]
  },
  {
   "cell_type": "code",
   "execution_count": 8,
   "id": "c8dfe530",
   "metadata": {
    "ExecuteTime": {
     "end_time": "2022-09-29T20:54:15.564968Z",
     "start_time": "2022-09-29T20:54:15.561875Z"
    },
    "execution": {
     "iopub.execute_input": "2022-10-14T18:15:45.040033Z",
     "iopub.status.busy": "2022-10-14T18:15:45.039745Z",
     "iopub.status.idle": "2022-10-14T18:15:45.042594Z",
     "shell.execute_reply": "2022-10-14T18:15:45.041926Z"
    },
    "papermill": {
     "duration": 0.021506,
     "end_time": "2022-10-14T18:15:45.043980",
     "exception": false,
     "start_time": "2022-10-14T18:15:45.022474",
     "status": "completed"
    },
    "tags": []
   },
   "outputs": [],
   "source": [
    "# lvl = 7\n",
    "# exclude = True\n",
    "# tabs, collapsed_table_view, reps = filter_and_collapse(\n",
    "#                     tabs, reps, tax, metadata_qa, \n",
    "#                     lvl=lvl,\n",
    "#                     exclude=exclude, \n",
    "#                     exclude_list='uncultured,unidentified,metagenome')\n",
    "# collapsed_table_view"
   ]
  },
  {
   "cell_type": "code",
   "execution_count": 9,
   "id": "8b66a6e5",
   "metadata": {
    "ExecuteTime": {
     "end_time": "2022-09-29T20:54:20.434382Z",
     "start_time": "2022-09-29T20:54:15.567722Z"
    },
    "execution": {
     "iopub.execute_input": "2022-10-14T18:15:45.102008Z",
     "iopub.status.busy": "2022-10-14T18:15:45.101731Z",
     "iopub.status.idle": "2022-10-14T18:15:50.542266Z",
     "shell.execute_reply": "2022-10-14T18:15:50.541548Z"
    },
    "papermill": {
     "duration": 5.47241,
     "end_time": "2022-10-14T18:15:50.544317",
     "exception": false,
     "start_time": "2022-10-14T18:15:45.071907",
     "status": "completed"
    },
    "tags": []
   },
   "outputs": [
    {
     "data": {
      "text/plain": [
       "'/home/lauro/nupeb/rede-micro/redemicro-ana-flavia-nutri/experiments/ana-flavia-STD-NCxSTD-NR-trim/qiime-artifacts/dada2-core.qzv'"
      ]
     },
     "execution_count": 9,
     "metadata": {},
     "output_type": "execute_result"
    },
    {
     "data": {
      "image/png": "[encoded data removed]",
      "text/plain": [
       "<Figure size 432x288 with 1 Axes>"
      ]
     },
     "metadata": {
      "needs_background": "light"
     },
     "output_type": "display_data"
    }
   ],
   "source": [
    "tabs_view = summarize(table=tabs, sample_metadata=metadata_qa).visualization\n",
    "tabs_view.save(dada2_tabs_view)\n",
    "reps_view = tabulate_seqs(data=reps).visualization\n",
    "reps_view.save(dada2_reps_view)\n",
    "core_view = core_features(table=tabs, min_fraction=.1, steps=10).visualization\n",
    "core_view.save(dada2_core_view)"
   ]
  },
  {
   "cell_type": "code",
   "execution_count": 10,
   "id": "b2bf36b8",
   "metadata": {
    "ExecuteTime": {
     "end_time": "2022-09-29T20:54:20.449299Z",
     "start_time": "2022-09-29T20:54:20.435814Z"
    },
    "execution": {
     "iopub.execute_input": "2022-10-14T18:15:50.604609Z",
     "iopub.status.busy": "2022-10-14T18:15:50.604281Z",
     "iopub.status.idle": "2022-10-14T18:15:50.621888Z",
     "shell.execute_reply": "2022-10-14T18:15:50.621197Z"
    },
    "papermill": {
     "duration": 0.049679,
     "end_time": "2022-10-14T18:15:50.623858",
     "exception": false,
     "start_time": "2022-10-14T18:15:50.574179",
     "status": "completed"
    },
    "tags": []
   },
   "outputs": [
    {
     "name": "stdout",
     "output_type": "stream",
     "text": [
      "['5be4b0fd-e6b3-4958-91af-bb2aeba344d3/data/core-features-1.000.tsv']\n",
      "                         Feature ID      2%      9%     25%     50%      75%  \\\n",
      "0  bc798de4a9acd3ff7ba51c244523be14   54.30   80.61  327.25  1701.0  5491.75   \n",
      "1  2e398b8d21dc0766b2cf014de5f215f9  108.30  169.74  458.75  1224.0  3634.00   \n",
      "2  b803764a3bf4c19193100cbe10778b1b   79.94  144.43  295.25   823.0  1041.25   \n",
      "3  34272e5acf8bda74002ed691482dd980   19.98   47.54  167.25   444.0   686.50   \n",
      "\n",
      "        91%       98%  \n",
      "0  19192.04  23146.04  \n",
      "1   8682.14  11370.70  \n",
      "2   3217.66   5188.86  \n",
      "3   1187.62   2792.76  \n"
     ]
    }
   ],
   "source": [
    "import zipfile\n",
    "from io import StringIO\n",
    "import pandas as pd\n",
    "with zipfile.ZipFile(dada2_core_view, 'r') as zip_ref:\n",
    "    names = [x for x in zip_ref.namelist() if x.endswith('1.000.tsv')]\n",
    "    print(names)\n",
    "    with zip_ref.open(names[0]) as myfile:\n",
    "        txt = str(myfile.read(), 'utf-8')\n",
    "        txt = StringIO(txt)\n",
    "        df = pd.read_csv(txt, sep='\\t')\n",
    "        print(df)   "
   ]
  },
  {
   "cell_type": "markdown",
   "id": "9f43843a",
   "metadata": {
    "ExecuteTime": {
     "end_time": "2022-09-22T22:48:07.523952Z",
     "start_time": "2022-09-22T22:48:07.517565Z"
    },
    "papermill": {
     "duration": 0.033751,
     "end_time": "2022-10-14T18:15:50.691103",
     "exception": false,
     "start_time": "2022-10-14T18:15:50.657352",
     "status": "completed"
    },
    "tags": []
   },
   "source": [
    "## Alpha diversity analysis\n",
    "\n",
    "#### Reference\n",
    "- [The Use and Types of Alpha-Diversity Metrics in Microbial NGS](https://www.cd-genomics.com/microbioseq/the-use-and-types-of-alpha-diversity-metrics-in-microbial-ngs.html)\n",
    "- [Alpha diversity metrics](http://scikit-bio.org/docs/0.2.0/generated/skbio.diversity.alpha.html)\n",
    "\n",
    "#### Methods\n",
    "- [diversity alpha](https://docs.qiime2.org/2022.8/plugins/available/diversity/alpha/): Computes a user-specified alpha diversity metric for all samples in a\n",
    "feature table.\n",
    "- [diversity alpha_phylogenetic](https://docs.qiime2.org/2022.8/plugins/available/diversity/alpha-phylogenetic/): Computes a user-specified phylogenetic alpha diversity metric for all\n",
    "samples in a feature table.\n",
    "- [diversity alpha_correlation](https://docs.qiime2.org/2022.8/plugins/available/diversity/alpha-correlation/): Determine whether numeric sample metadata columns are correlated with alpha diversity.\n",
    "- [diversity alpha_group_significance](https://docs.qiime2.org/2022.8/plugins/available/diversity/alpha-group-significance/): Visually and statistically compare groups of alpha diversity values."
   ]
  },
  {
   "cell_type": "markdown",
   "id": "606b9c75",
   "metadata": {
    "papermill": {
     "duration": 0.033127,
     "end_time": "2022-10-14T18:15:50.757791",
     "exception": false,
     "start_time": "2022-10-14T18:15:50.724664",
     "status": "completed"
    },
    "tags": []
   },
   "source": [
    "### Compute Alpha Diversity vectors\n",
    "- [diversity alpha](https://docs.qiime2.org/2022.8/plugins/available/diversity/alpha/): Computes a user-specified alpha diversity metric for all samples in a feature table.\n",
    "- [Alpha diversity metrics](http://scikit-bio.org/docs/0.2.0/generated/skbio.diversity.alpha.html)\n",
    " - Choices: ('ace', 'berger_parker_d', 'brillouin_d', 'chao1', 'chao1_ci', 'dominance', 'doubles', 'enspie', 'esty_ci', 'fisher_alpha', 'gini_index', 'goods_coverage', 'heip_e', 'kempton_taylor_q', 'lladser_pe', 'margalef', 'mcintosh_d', 'mcintosh_e', 'menhinick', 'michaelis_menten_fit', 'observed_features', 'osd', 'pielou_e', 'robbins', 'shannon', 'simpson', 'simpson_e', 'singles', 'strong')"
   ]
  },
  {
   "cell_type": "code",
   "execution_count": 11,
   "id": "556e5264",
   "metadata": {
    "ExecuteTime": {
     "end_time": "2022-09-29T20:54:20.790166Z",
     "start_time": "2022-09-29T20:54:20.451134Z"
    },
    "execution": {
     "iopub.execute_input": "2022-10-14T18:15:50.825627Z",
     "iopub.status.busy": "2022-10-14T18:15:50.824964Z",
     "iopub.status.idle": "2022-10-14T18:15:51.305741Z",
     "shell.execute_reply": "2022-10-14T18:15:51.305056Z"
    },
    "papermill": {
     "duration": 0.516748,
     "end_time": "2022-10-14T18:15:51.307844",
     "exception": false,
     "start_time": "2022-10-14T18:15:50.791096",
     "status": "completed"
    },
    "tags": []
   },
   "outputs": [
    {
     "name": "stdout",
     "output_type": "stream",
     "text": [
      "Calculating alpha diversty: chao1\n",
      "Calculating alpha diversty: simpson\n"
     ]
    },
    {
     "name": "stdout",
     "output_type": "stream",
     "text": [
      "Calculating alpha diversty: shannon\n",
      "Calculating alpha diversty: ace\n",
      "Calculating alpha diversty: observed_features\n"
     ]
    }
   ],
   "source": [
    "metrics = ('chao1', 'simpson', 'shannon', 'ace', 'observed_features')\n",
    "alpha_diversities = dict()\n",
    "for metric in metrics:\n",
    "    print(f\"Calculating alpha diversty: {metric}\")\n",
    "    alpha_diversity = alpha(table=tabs, metric=metric).alpha_diversity\n",
    "    alpha_diversities[metric] = alpha_diversity"
   ]
  },
  {
   "cell_type": "markdown",
   "id": "184bcb7b",
   "metadata": {
    "papermill": {
     "duration": 0.01837,
     "end_time": "2022-10-14T18:15:51.344900",
     "exception": false,
     "start_time": "2022-10-14T18:15:51.326530",
     "status": "completed"
    },
    "tags": []
   },
   "source": [
    "### Create Phylogenetic inference\n",
    "\n",
    "- [alignment align_to_tree_mafft_fasttree](https://docs.qiime2.org/2022.8/plugins/available/phylogeny/align-to-tree-mafft-fasttree/): Build a phylogenetic tree using fasttree and mafft alignment\n",
    "\n",
    "This pipeline will start by creating a sequence alignment using MAFFT,\n",
    "after which any alignment columns that are phylogenetically uninformative\n",
    "or ambiguously aligned will be removed (masked). The resulting masked\n",
    "alignment will be used to infer a phylogenetic tree and then subsequently\n",
    "rooted at its midpoint. Output files from each step of the pipeline will be\n",
    "saved. This includes both the unmasked and masked MAFFT alignment from\n",
    "q2-alignment methods, and both the rooted and unrooted phylogenies from\n",
    "q2-phylogeny methods.\n",
    "\n",
    "\n",
    "Returns\n",
    "- alignment : FeatureData[AlignedSequence] : The aligned sequences.\n",
    "- masked_alignment : FeatureData[AlignedSequence] : The masked alignment.\n",
    "- tree : Phylogeny[Unrooted] : The unrooted phylogenetic tree.\n",
    "- rooted_tree : Phylogeny[Rooted] : The rooted phylogenetic tree."
   ]
  },
  {
   "cell_type": "code",
   "execution_count": 12,
   "id": "9c8cfe47",
   "metadata": {
    "ExecuteTime": {
     "end_time": "2022-09-29T20:54:35.139531Z",
     "start_time": "2022-09-29T20:54:20.792130Z"
    },
    "execution": {
     "iopub.execute_input": "2022-10-14T18:15:51.383048Z",
     "iopub.status.busy": "2022-10-14T18:15:51.382756Z",
     "iopub.status.idle": "2022-10-14T18:17:43.013396Z",
     "shell.execute_reply": "2022-10-14T18:17:43.012705Z"
    },
    "papermill": {
     "duration": 111.652297,
     "end_time": "2022-10-14T18:17:43.015578",
     "exception": false,
     "start_time": "2022-10-14T18:15:51.363281",
     "status": "completed"
    },
    "tags": []
   },
   "outputs": [
    {
     "name": "stdout",
     "output_type": "stream",
     "text": [
      "Running external command line application. This may print messages to stdout and/or stderr.\n",
      "The command being run is below. This command cannot be manually re-run as it will depend on temporary files that no longer exist.\n",
      "\n",
      "Command: mafft --preservecase --inputorder --thread 6 /tmp/qiime2-archive-65lglgd8/b7134006-fc57-4587-bcce-da19eb5f2f32/data/dna-sequences.fasta\n",
      "\n"
     ]
    },
    {
     "name": "stderr",
     "output_type": "stream",
     "text": [
      "inputfile = orig\n",
      "1252 x 430 - 271 d\n",
      "nthread = 6\n",
      "nthreadpair = 6\n",
      "nthreadtb = 6\n",
      "ppenalty_ex = 0\n",
      "stacksize: 8192 kb\n",
      "generating a scoring matrix for nucleotide (dist=200) ... done\n",
      "Gap Penalty = -1.53, +0.00, +0.00\n",
      "\n",
      "\n",
      "\n",
      "Making a distance matrix ..\n",
      "\r",
      "    1 / 1252 (thread    0)\r",
      "  101 / 1252 (thread    2)\r",
      "  201 / 1252 (thread    2)"
     ]
    },
    {
     "name": "stderr",
     "output_type": "stream",
     "text": [
      "\r",
      "  301 / 1252 (thread    2)\r",
      "  401 / 1252 (thread    3)\r",
      "  501 / 1252 (thread    0)\r",
      "  601 / 1252 (thread    4)\r",
      "  701 / 1252 (thread    5)\r",
      "  801 / 1252 (thread    0)\r",
      "  901 / 1252 (thread    1)\r",
      " 1001 / 1252 (thread    2)\r",
      " 1101 / 1252 (thread    1)\r",
      " 1201 / 1252 (thread    5)\n",
      "done.\n",
      "\n"
     ]
    },
    {
     "name": "stderr",
     "output_type": "stream",
     "text": [
      "Constructing a UPGMA tree (efffree=0) ... \n",
      "\r",
      "    0 / 1252\r",
      "   10 / 1252\r",
      "   20 / 1252\r",
      "   30 / 1252\r",
      "   40 / 1252\r",
      "   50 / 1252\r",
      "   60 / 1252\r",
      "   70 / 1252\r",
      "   80 / 1252\r",
      "   90 / 1252\r",
      "  100 / 1252\r",
      "  110 / 1252\r",
      "  120 / 1252\r",
      "  130 / 1252\r",
      "  140 / 1252\r",
      "  150 / 1252\r",
      "  160 / 1252\r",
      "  170 / 1252\r",
      "  180 / 1252\r",
      "  190 / 1252\r",
      "  200 / 1252\r",
      "  210 / 1252\r",
      "  220 / 1252\r",
      "  230 / 1252\r",
      "  240 / 1252\r",
      "  250 / 1252\r",
      "  260 / 1252\r",
      "  270 / 1252\r",
      "  280 / 1252\r",
      "  290 / 1252\r",
      "  300 / 1252\r",
      "  310 / 1252\r",
      "  320 / 1252\r",
      "  330 / 1252\r",
      "  340 / 1252\r",
      "  350 / 1252\r",
      "  360 / 1252\r",
      "  370 / 1252\r",
      "  380 / 1252\r",
      "  390 / 1252\r",
      "  400 / 1252\r",
      "  410 / 1252\r",
      "  420 / 1252\r",
      "  430 / 1252\r",
      "  440 / 1252\r",
      "  450 / 1252\r",
      "  460 / 1252\r",
      "  470 / 1252\r",
      "  480 / 1252\r",
      "  490 / 1252\r",
      "  500 / 1252\r",
      "  510 / 1252\r",
      "  520 / 1252\r",
      "  530 / 1252\r",
      "  540 / 1252\r",
      "  550 / 1252\r",
      "  560 / 1252\r",
      "  570 / 1252\r",
      "  580 / 1252\r",
      "  590 / 1252\r",
      "  600 / 1252\r",
      "  610 / 1252\r",
      "  620 / 1252\r",
      "  630 / 1252\r",
      "  640 / 1252\r",
      "  650 / 1252\r",
      "  660 / 1252\r",
      "  670 / 1252\r",
      "  680 / 1252\r",
      "  690 / 1252\r",
      "  700 / 1252\r",
      "  710 / 1252\r",
      "  720 / 1252\r",
      "  730 / 1252\r",
      "  740 / 1252\r",
      "  750 / 1252\r",
      "  760 / 1252\r",
      "  770 / 1252\r",
      "  780 / 1252\r",
      "  790 / 1252\r",
      "  800 / 1252\r",
      "  810 / 1252\r",
      "  820 / 1252\r",
      "  830 / 1252\r",
      "  840 / 1252\r",
      "  850 / 1252\r",
      "  860 / 1252\r",
      "  870 / 1252\r",
      "  880 / 1252\r",
      "  890 / 1252\r",
      "  900 / 1252\r",
      "  910 / 1252\r",
      "  920 / 1252\r",
      "  930 / 1252\r",
      "  940 / 1252\r",
      "  950 / 1252\r",
      "  960 / 1252\r",
      "  970 / 1252\r",
      "  980 / 1252\r",
      "  990 / 1252\r",
      " 1000 / 1252\r",
      " 1010 / 1252\r",
      " 1020 / 1252\r",
      " 1030 / 1252\r",
      " 1040 / 1252\r",
      " 1050 / 1252\r",
      " 1060 / 1252\r",
      " 1070 / 1252\r",
      " 1080 / 1252\r",
      " 1090 / 1252\r",
      " 1100 / 1252\r",
      " 1110 / 1252\r",
      " 1120 / 1252\r",
      " 1130 / 1252\r",
      " 1140 / 1252\r",
      " 1150 / 1252\r",
      " 1160 / 1252\r",
      " 1170 / 1252\r",
      " 1180 / 1252\r",
      " 1190 / 1252\r",
      " 1200 / 1252\r",
      " 1210 / 1252\r",
      " 1220 / 1252\r",
      " 1230 / 1252\r",
      " 1240 / 1252\r",
      " 1250 / 1252\n",
      "done.\n",
      "\n",
      "Progressive alignment 1/2... \n",
      "\r",
      "STEP     1 / 1251 (thread    1) f\b\b\r",
      "STEP     3 / 1251 (thread    1) f\b\b\r",
      "STEP     2 / 1251 (thread    0) f\b\b\r",
      "STEP     4 / 1251 (thread    1) f\b\b\r",
      "STEP     5 / 1251 (thread    0) f\b\b\r",
      "STEP     6 / 1251 (thread    1) f\b\b\r",
      "STEP     7 / 1251 (thread    1) f\b\b\r",
      "STEP     8 / 1251 (thread    0) f\b\b\r",
      "STEP     9 / 1251 (thread    1) f\b\b\r",
      "STEP    10 / 1251 (thread    1) f\b\b\r",
      "STEP    11 / 1251 (thread    2) f\b\b\r",
      "STEP    12 / 1251 (thread    3) f\b\b\r",
      "STEP    13 / 1251 (thread    1) f\b\b\r",
      "STEP    14 / 1251 (thread    0) f\b\b\r",
      "STEP    15 / 1251 (thread    1) f\b\b\r",
      "STEP    16 / 1251 (thread    1) f\b\b\r",
      "STEP    17 / 1251 (thread    1) f\b\b\r",
      "STEP    18 / 1251 (thread    1) f\b\b\r",
      "STEP    19 / 1251 (thread    1) f\b\b\r",
      "STEP    20 / 1251 (thread    1) f\b\b\r",
      "STEP    21 / 1251 (thread    1) f\b\b\r",
      "STEP    22 / 1251 (thread    1) f\b\b\r",
      "STEP    23 / 1251 (thread    1) f\b\b\r",
      "STEP    24 / 1251 (thread    1) f\b\b\r",
      "STEP    25 / 1251 (thread    1) f\b\b\r",
      "STEP    26 / 1251 (thread    1) f\b\b\r",
      "STEP    27 / 1251 (thread    1) f\b\b\r",
      "STEP    28 / 1251 (thread    1) f\b\b\r",
      "STEP    29 / 1251 (thread    1) f\b\b\r",
      "STEP    30 / 1251 (thread    1) f\b\b\r",
      "STEP    31 / 1251 (thread    1) f\b\b\r",
      "STEP    32 / 1251 (thread    1) f\b\b\r",
      "STEP    33 / 1251 (thread    1) f\b\b\r",
      "STEP    34 / 1251 (thread    1) f\b\b\r",
      "STEP    35 / 1251 (thread    1) f\b\b\r",
      "STEP    36 / 1251 (thread    1) f\b\b\r",
      "STEP    37 / 1251 (thread    1) f\b\b\r",
      "STEP    38 / 1251 (thread    1) f\b\b\r",
      "STEP    39 / 1251 (thread    1) f\b\b\r",
      "STEP    40 / 1251 (thread    1) f\b\b\r",
      "STEP    41 / 1251 (thread    1) f\b\b\r",
      "STEP    42 / 1251 (thread    1) f\b\b\r",
      "STEP    43 / 1251 (thread    1) f\b\b\r",
      "STEP    44 / 1251 (thread    1) f\b\b\r",
      "STEP    45 / 1251 (thread    5) f\b\b\r",
      "STEP    46 / 1251 (thread    4) f\b\b\r",
      "STEP    47 / 1251 (thread    1) f\b\b\r",
      "STEP    48 / 1251 (thread    1) f\b\b\r",
      "STEP    49 / 1251 (thread    1) f\b\b\r",
      "STEP    50 / 1251 (thread    1) f\b\b\r",
      "STEP    51 / 1251 (thread    0) f\b\b\r",
      "STEP    52 / 1251 (thread    1) f\b\b\r",
      "STEP    53 / 1251 (thread    1) f\b\b\r",
      "STEP    54 / 1251 (thread    2) f\b\b\r",
      "STEP    55 / 1251 (thread    3) f\b\b\r",
      "STEP    56 / 1251 (thread    5) f\b\b\r",
      "STEP    57 / 1251 (thread    4) f\b\b\r",
      "STEP    58 / 1251 (thread    0) f\b\b\r",
      "STEP    59 / 1251 (thread    1) f\b\b\r",
      "STEP    60 / 1251 (thread    2) f\b\b\r",
      "STEP    61 / 1251 (thread    3) f\b\b\r",
      "STEP    62 / 1251 (thread    5) f\b\b\r",
      "STEP    63 / 1251 (thread    4) f\b\b\r",
      "STEP    64 / 1251 (thread    1) f\b\b\r",
      "STEP    65 / 1251 (thread    2) f\b\b\r",
      "STEP    66 / 1251 (thread    5) f\b\b\r",
      "STEP    67 / 1251 (thread    0) f\b\b\r",
      "STEP    68 / 1251 (thread    4) f\b\b\r",
      "STEP    69 / 1251 (thread    3) f\b\b\r",
      "STEP    70 / 1251 (thread    1) f\b\b\r",
      "STEP    71 / 1251 (thread    5) f\b\b\r",
      "STEP    72 / 1251 (thread    2) f\b\b\r",
      "STEP    73 / 1251 (thread    4) f\b\b\r",
      "STEP    74 / 1251 (thread    0) f\b\b\r",
      "STEP    75 / 1251 (thread    5) f\b\b\r",
      "STEP    76 / 1251 (thread    3) f\b\b\r",
      "STEP    77 / 1251 (thread    1) f\b\b\r",
      "STEP    78 / 1251 (thread    2) f\b\b\r",
      "STEP    79 / 1251 (thread    5) f\b\b\r",
      "STEP    80 / 1251 (thread    4) f\b\b\r",
      "STEP    81 / 1251 (thread    3) f\b\b\r",
      "STEP    82 / 1251 (thread    0) f\b\b\r",
      "STEP    83 / 1251 (thread    1) f\b\b\r",
      "STEP    84 / 1251 (thread    2) f\b\b\r",
      "STEP    85 / 1251 (thread    5) f\b\b\r",
      "STEP    86 / 1251 (thread    3) f\b\b\r",
      "STEP    87 / 1251 (thread    4) f\b\b\r",
      "STEP    88 / 1251 (thread    0) f\b\b\r",
      "STEP    89 / 1251 (thread    1) f\b\b\r",
      "STEP    90 / 1251 (thread    2) f\b\b\r",
      "STEP    91 / 1251 (thread    3) f\b\b\r",
      "STEP    92 / 1251 (thread    4) f\b\b\r",
      "STEP    93 / 1251 (thread    0) f\b\b\r",
      "STEP    94 / 1251 (thread    3) f\b\b\r",
      "STEP    95 / 1251 (thread    5) f\b\b\r",
      "STEP    96 / 1251 (thread    1) f\b\b\r",
      "STEP    97 / 1251 (thread    2) f\b\b\r",
      "STEP    98 / 1251 (thread    4) f\b\b\r",
      "STEP    99 / 1251 (thread    0) f\b\b\r",
      "STEP   100 / 1251 (thread    3) f\b\b\r",
      "STEP   101 / 1251 (thread    5) f\b\b\r",
      "STEP   102 / 1251 (thread    2) f\b\b\r",
      "STEP   103 / 1251 (thread    3) f\b\b\r",
      "STEP   104 / 1251 (thread    4) f\b\b\r",
      "STEP   105 / 1251 (thread    5) f\b\b\r",
      "STEP   106 / 1251 (thread    1) f\b\b\r",
      "STEP   107 / 1251 (thread    0) f\b\b\r",
      "STEP   108 / 1251 (thread    3) f\b\b\r",
      "STEP   109 / 1251 (thread    2) f\b\b\r",
      "STEP   110 / 1251 (thread    5) f\b\b\r",
      "STEP   111 / 1251 (thread    4) f\b\b\r",
      "STEP   112 / 1251 (thread    1) f\b\b\r",
      "STEP   113 / 1251 (thread    3) f\b\b\r",
      "STEP   114 / 1251 (thread    0) f\b\b\r",
      "STEP   115 / 1251 (thread    2) f\b\b\r",
      "STEP   116 / 1251 (thread    5) f\b\b\r",
      "STEP   117 / 1251 (thread    4) f\b\b\r",
      "STEP   118 / 1251 (thread    3) f\b\b\r",
      "STEP   119 / 1251 (thread    1) f\b\b\r",
      "STEP   120 / 1251 (thread    0) f\b\b\r",
      "STEP   121 / 1251 (thread    5) f\b\b\r",
      "STEP   122 / 1251 (thread    3) f\b\b\r",
      "STEP   123 / 1251 (thread    2) f\b\b\r",
      "STEP   124 / 1251 (thread    1) f\b\b\r",
      "STEP   125 / 1251 (thread    5) f\b\b\r",
      "STEP   126 / 1251 (thread    3) f\b\b\r",
      "STEP   127 / 1251 (thread    0) f\b\b\r",
      "STEP   128 / 1251 (thread    2) f\b\b\r",
      "STEP   129 / 1251 (thread    1) f\b\b\r",
      "STEP   130 / 1251 (thread    3) f\b\b\r",
      "STEP   131 / 1251 (thread    4) f\b\b\r",
      "STEP   132 / 1251 (thread    5) f\b\b\r",
      "STEP   133 / 1251 (thread    2) f\b\b\r",
      "STEP   134 / 1251 (thread    3) f\b\b\r",
      "STEP   135 / 1251 (thread    1) f\b\b\r",
      "STEP   136 / 1251 (thread    4) f\b\b\r",
      "STEP   137 / 1251 (thread    5) f\b\b\r",
      "STEP   138 / 1251 (thread    2) f\b\b\r",
      "STEP   139 / 1251 (thread    5)\r",
      "STEP   141 / 1251 (thread    1) f\b\b f\b\b\r",
      "STEP   142 / 1251 (thread    4) f\b\b\r",
      "STEP   143 / 1251 (thread    5) f\b\b\r",
      "STEP   145 / 1251 (thread    4) f\b\b\r",
      "STEP   146 / 1251 (thread    1) f\b\b\r",
      "STEP   144 / 1251 (thread    2) f\b\b\r",
      "STEP   147 / 1251 (thread    5) f\b\b\r",
      "STEP   148 / 1251 (thread    2) f\b\b\r",
      "STEP   149 / 1251 (thread    1) f\b\b\r",
      "STEP   150 / 1251 (thread    4) f\b\b\r",
      "STEP   151 / 1251 (thread    5) f\b\b\r",
      "STEP   152 / 1251 (thread    0) f\b\b\r",
      "STEP   153 / 1251 (thread    2) f\b\b\r",
      "STEP   140 / 1251 (thread    3) f\b\b\r",
      "STEP   154 / 1251 (thread    1) f\b\b\r",
      "STEP   155 / 1251 (thread    4) f\b\b\r",
      "STEP   157 / 1251 (thread    5) f\b\b\r",
      "STEP   158 / 1251 (thread    0) f\b\b\r",
      "STEP   156 / 1251 (thread    3) f\b\b\r",
      "STEP   159 / 1251 (thread    1) f\b\b\r",
      "STEP   161 / 1251 (thread    2) f\b\b\r",
      "STEP   162 / 1251 (thread    5) f\b\b\r",
      "STEP   163 / 1251 (thread    1) f\b\b\r",
      "STEP   164 / 1251 (thread    3) f\b\b\r",
      "STEP   165 / 1251 (thread    2) f\b\b\r",
      "STEP   160 / 1251 (thread    4) f\b\b\r",
      "STEP   166 / 1251 (thread    0) f\b\b\r",
      "STEP   167 / 1251 (thread    5) f\b\b\r",
      "STEP   168 / 1251 (thread    3) f\b\b\r",
      "STEP   169 / 1251 (thread    1) f\b\b\r",
      "STEP   170 / 1251 (thread    0) f\b\b\r",
      "STEP   171 / 1251 (thread    2) f\b\b\r",
      "STEP   173 / 1251 (thread    1) f\b\b\r",
      "STEP   174 / 1251 (thread    5) f\b\b\r",
      "STEP   175 / 1251 (thread    0) f\b\b\r",
      "STEP   176 / 1251 (thread    2) f\b\b\r",
      "STEP   177 / 1251 (thread    1) f\b\b\r",
      "STEP   178 / 1251 (thread    5) f\b\b\r",
      "STEP   179 / 1251 (thread    0) f\b\b\r",
      "STEP   180 / 1251 (thread    1) f\b\b\r",
      "STEP   181 / 1251 (thread    0) f\b\b\r",
      "STEP   182 / 1251 (thread    2) f\b\b\r",
      "STEP   183 / 1251 (thread    5) f\b\b\r",
      "STEP   184 / 1251 (thread    1) f\b\b\r",
      "STEP   185 / 1251 (thread    0) f\b\b\r",
      "STEP   186 / 1251 (thread    4) f\b\b\r",
      "STEP   187 / 1251 (thread    0) f\b\b\r",
      "STEP   188 / 1251 (thread    1) f\b\b\r",
      "STEP   189 / 1251 (thread    5) f\b\b\r",
      "STEP   190 / 1251 (thread    5) f\b\b\r",
      "STEP   191 / 1251 (thread    1) f\b\b\r",
      "STEP   192 / 1251 (thread    4) f\b\b\r",
      "STEP   193 / 1251 (thread    2) f\b\b\r",
      "STEP   194 / 1251 (thread    1) f\b\b\r",
      "STEP   196 / 1251 (thread    2) f\b\b\r",
      "STEP   197 / 1251 (thread    1) f\b\b\r",
      "STEP   198 / 1251 (thread    4) f\b\b\r",
      "STEP   199 / 1251 (thread    2) f\b\b\r",
      "STEP   200 / 1251 (thread    1) f\b\b\r",
      "STEP   201 / 1251 (thread    2) f\b\b\r",
      "STEP   202 / 1251 (thread    1) f\b\b\r",
      "STEP   203 / 1251 (thread    4) f\b\b\r",
      "STEP   204 / 1251 (thread    1) f\b\b\r",
      "STEP   205 / 1251 (thread    2) f\b\b\r",
      "STEP   206 / 1251 (thread    2) f\b\b\r",
      "STEP   207 / 1251 (thread    1) f\b\b\r",
      "STEP   208 / 1251 (thread    1) f\b\b\r",
      "STEP   209 / 1251 (thread    2) f\b\b\r",
      "STEP   210 / 1251 (thread    4) f\b\b\r",
      "STEP   211 / 1251 (thread    1) f\b\b\r",
      "STEP   212 / 1251 (thread    2) f\b\b\r",
      "STEP   213 / 1251 (thread    2) f\b\b\r",
      "STEP   172 / 1251 (thread    3) f\b\b\r",
      "STEP   214 / 1251 (thread    4) f\b\b\r",
      "STEP   215 / 1251 (thread    2) f\b\b\r",
      "STEP   216 / 1251 (thread    2) f\b\b\r",
      "STEP   217 / 1251 (thread    3) f\b\b\r",
      "STEP   218 / 1251 (thread    3) f\b\b\r",
      "STEP   219 / 1251 (thread    2) f\b\b\r",
      "STEP   220 / 1251 (thread    4) f\b\b\r",
      "STEP   195 / 1251 (thread    5) f\b\b\r",
      "STEP   222 / 1251 (thread    2) f\b\b\r",
      "STEP   223 / 1251 (thread    2) f\b\b\r",
      "STEP   224 / 1251 (thread    4) f\b\b\r",
      "STEP   225 / 1251 (thread    5) f\b\b\r",
      "STEP   226 / 1251 (thread    5) f\b\b\r",
      "STEP   227 / 1251 (thread    2) f\b\b\r",
      "STEP   228 / 1251 (thread    5) f\b\b\r",
      "STEP   229 / 1251 (thread    4) f\b\b\r",
      "STEP   230 / 1251 (thread    2) f\b\b\r",
      "STEP   231 / 1251 (thread    5) f\b\b\r",
      "STEP   232 / 1251 (thread    2) f\b\b\r",
      "STEP   233 / 1251 (thread    5) f\b\b\r",
      "STEP   234 / 1251 (thread    2) f\b\b\r",
      "STEP   235 / 1251 (thread    4) f\b\b\r",
      "STEP   236 / 1251 (thread    5) f\b\b\r",
      "STEP   237 / 1251 (thread    2) f\b\b\r",
      "STEP   238 / 1251 (thread    5) f\b\b\r",
      "STEP   239 / 1251 (thread    4) f\b\b\r",
      "STEP   240 / 1251 (thread    5) f\b\b\r",
      "STEP   241 / 1251 (thread    5) f\b\b\r",
      "STEP   242 / 1251 (thread    2) f\b\b\r",
      "STEP   243 / 1251 (thread    5) f\b\b\r",
      "STEP   244 / 1251 (thread    2) f\b\b\r",
      "STEP   245 / 1251 (thread    3) f\b\b\r",
      "STEP   246 / 1251 (thread    2) f\b\b\r",
      "STEP   248 / 1251 (thread    4) f\b\b\r",
      "STEP   249 / 1251 (thread    1) f\b\b\r",
      "STEP   221 / 1251 (thread    0) f\b\b\r",
      "STEP   250 / 1251 (thread    4) f\b\b\r",
      "STEP   251 / 1251 (thread    1) f\b\b\r",
      "STEP   252 / 1251 (thread    0) f\b\b\r",
      "STEP   253 / 1251 (thread    1) f\b\b\r",
      "STEP   254 / 1251 (thread    0) f\b\b\r",
      "STEP   255 / 1251 (thread    1) f\b\b\r",
      "STEP   256 / 1251 (thread    0) f\b\b\r",
      "STEP   257 / 1251 (thread    1) f\b\b\r",
      "STEP   247 / 1251 (thread    3) f\b\b\r",
      "STEP   258 / 1251 (thread    0) f\b\b\r",
      "STEP   259 / 1251 (thread    3) f\b\b\r",
      "STEP   260 / 1251 (thread    0) f\b\b\r",
      "STEP   262 / 1251 (thread    5) f\b\b\r",
      "STEP   263 / 1251 (thread    0) f\b\b\r",
      "STEP   264 / 1251 (thread    2) f\b\b\r",
      "STEP   265 / 1251 (thread    5) f\b\b\r",
      "STEP   266 / 1251 (thread    2) f\b\b\r",
      "STEP   267 / 1251 (thread    0) f\b\b\r",
      "STEP   268 / 1251 (thread    5) f\b\b\r",
      "STEP   269 / 1251 (thread    2) f\b\b\r",
      "STEP   270 / 1251 (thread    0) f\b\b\r",
      "STEP   271 / 1251 (thread    5) f\b\b\r",
      "STEP   273 / 1251 (thread    0) f\b\b\r",
      "STEP   274 / 1251 (thread    0) f\b\b\r",
      "STEP   275 / 1251 (thread    1) f\b\b\r",
      "STEP   276 / 1251 (thread    4) f\b\b\r",
      "STEP   277 / 1251 (thread    0) f\b\b\r",
      "STEP   278 / 1251 (thread    1) f\b\b\r",
      "STEP   279 / 1251 (thread    4) f\b\b\r",
      "STEP   280 / 1251 (thread    0) f\b\b\r",
      "STEP   261 / 1251 (thread    3) f\b\b\r",
      "STEP   283 / 1251 (thread    4) f\b\b\r",
      "STEP   284 / 1251 (thread    0) f\b\b\r",
      "STEP   281 / 1251 (thread    5)\r",
      "STEP   285 / 1251 (thread    3) f\b\b\r",
      "STEP   286 / 1251 (thread    0) f\b\b\r",
      "STEP   287 / 1251 (thread    4) f\b\b\r",
      "STEP   288 / 1251 (thread    3) f\b\b\r",
      "STEP   289 / 1251 (thread    0) f\b\b\r",
      "STEP   291 / 1251 (thread    3) f\b\b\r",
      "STEP   292 / 1251 (thread    3) f\b\b\r",
      "STEP   293 / 1251 (thread    0) f\b\b\r",
      "STEP   294 / 1251 (thread    0) f\b\b f\b\b\r",
      "STEP   272 / 1251 (thread    2) f\b\b\r",
      "STEP   295 / 1251 (thread    5) f\b\b\r",
      "STEP   296 / 1251 (thread    0) f\b\b\r",
      "STEP   297 / 1251 (thread    3) f\b\b\r",
      "STEP   298 / 1251 (thread    2) f\b\b\r",
      "STEP   299 / 1251 (thread    3) f\b\b\r",
      "STEP   300 / 1251 (thread    0) f\b\b\r",
      "STEP   301 / 1251 (thread    2) f\b\b\r",
      "STEP   290 / 1251 (thread    4) f\b\b\r",
      "STEP   302 / 1251 (thread    0) f\b\b\r",
      "STEP   282 / 1251 (thread    1) f\b\b\r",
      "STEP   303 / 1251 (thread    2) f\b\b\r",
      "STEP   304 / 1251 (thread    4) f\b\b\r",
      "STEP   305 / 1251 (thread    0) f\b\b\r",
      "STEP   306 / 1251 (thread    2) f\b\b\r",
      "STEP   307 / 1251 (thread    4) f\b\b\r",
      "STEP   308 / 1251 (thread    2) f\b\b\r",
      "STEP   309 / 1251 (thread    5) f\b\b\r",
      "STEP   310 / 1251 (thread    1) f\b\b\r",
      "STEP   311 / 1251 (thread    4) f\b\b\r",
      "STEP   312 / 1251 (thread    0) f\b\b\r",
      "STEP   313 / 1251 (thread    2) f\b\b\r",
      "STEP   314 / 1251 (thread    4) f\b\b\r",
      "STEP   315 / 1251 (thread    0) f\b\b\r",
      "STEP   316 / 1251 (thread    5) f\b\b\r",
      "STEP   317 / 1251 (thread    2) f\b\b\r",
      "STEP   318 / 1251 (thread    3) f\b\b\r",
      "STEP   319 / 1251 (thread    4) f\b\b\r",
      "STEP   320 / 1251 (thread    4) f\b\b\r",
      "STEP   321 / 1251 (thread    0) f\b\b\r",
      "STEP   322 / 1251 (thread    2) f\b\b\r",
      "STEP   323 / 1251 (thread    4) f\b\b\r",
      "STEP   324 / 1251 (thread    0) f\b\b\r",
      "STEP   325 / 1251 (thread    4) f\b\b\r",
      "STEP   326 / 1251 (thread    3) f\b\b\r",
      "STEP   327 / 1251 (thread    1) f\b\b\r",
      "STEP   328 / 1251 (thread    2) f\b\b\r",
      "STEP   329 / 1251 (thread    0) f\b\b\r",
      "STEP   330 / 1251 (thread    4) f\b\b\r",
      "STEP   331 / 1251 (thread    2) f\b\b\r",
      "STEP   332 / 1251 (thread    0) f\b\b\r",
      "STEP   333 / 1251 (thread    4) f\b\b\r",
      "STEP   334 / 1251 (thread    1) f\b\b\r",
      "STEP   335 / 1251 (thread    5) f\b\b\r",
      "STEP   336 / 1251 (thread    4) f\b\b\r",
      "STEP   337 / 1251 (thread    0) f\b\b\r",
      "STEP   338 / 1251 (thread    3) f\b\b\r",
      "STEP   339 / 1251 (thread    4) f\b\b\r",
      "STEP   340 / 1251 (thread    0) f\b\b\r",
      "STEP   341 / 1251 (thread    4) f\b\b\r",
      "STEP   342 / 1251 (thread    0) f\b\b\r",
      "STEP   344 / 1251 (thread    0) f\b\b\r",
      "STEP   343 / 1251 (thread    3) f\b\b\r",
      "STEP   345 / 1251 (thread    3) f\b\b"
     ]
    },
    {
     "name": "stderr",
     "output_type": "stream",
     "text": [
      "\r",
      "STEP   348 / 1251 (thread    4) f\b\b\r",
      "STEP   352 / 1251 (thread    4) f\b\b\r",
      "STEP   349 / 1251 (thread    5) f\b\b\r",
      "STEP   346 / 1251 (thread    1) f\b\b\r",
      "STEP   350 / 1251 (thread    3) f\b\b\r",
      "STEP   353 / 1251 (thread    1) f\b\b\r",
      "STEP   351 / 1251 (thread    2) f\b\b\r",
      "STEP   347 / 1251 (thread    0) f\b\b\r",
      "STEP   354 / 1251 (thread    0) f\b\b\r",
      "STEP   355 / 1251 (thread    5) f\b\b\r",
      "STEP   359 / 1251 (thread    2) f\b\b\r",
      "STEP   360 / 1251 (thread    5) f\b\b\r",
      "STEP   357 / 1251 (thread    1) f\b\b\r",
      "STEP   358 / 1251 (thread    4) f\b\b\r",
      "STEP   356 / 1251 (thread    0) f\b\b\r",
      "STEP   361 / 1251 (thread    4) f\b\b\r",
      "STEP   362 / 1251 (thread    0) f\b\b\r",
      "STEP   363 / 1251 (thread    0) f\b\b\r",
      "STEP   364 / 1251 (thread    0) f\b\b\r",
      "STEP   365 / 1251 (thread    2) f\b\b\r",
      "STEP   366 / 1251 (thread    1) f\b\b\r",
      "STEP   367 / 1251 (thread    4) f\b\b\r",
      "STEP   368 / 1251 (thread    2) f\b\b\r",
      "STEP   371 / 1251 (thread    5) f\b\b\r",
      "STEP   372 / 1251 (thread    4) f\b\b\r",
      "STEP   373 / 1251 (thread    3) f\b\b\r",
      "STEP   374 / 1251 (thread    2) f\b\b\r",
      "STEP   375 / 1251 (thread    3) f\b\b\r",
      "STEP   369 / 1251 (thread    1) f\b\b\r",
      "STEP   370 / 1251 (thread    0) f\b\b\r",
      "STEP   376 / 1251 (thread    1) f\b\b\r",
      "STEP   377 / 1251 (thread    3) f\b\b\r",
      "STEP   378 / 1251 (thread    0) f\b\b\r",
      "STEP   379 / 1251 (thread    5) f\b\b\r",
      "STEP   380 / 1251 (thread    0) f\b\b\r",
      "STEP   381 / 1251 (thread    3) f\b\b\r",
      "STEP   382 / 1251 (thread    3) f\b\b\r",
      "STEP   383 / 1251 (thread    2) f\b\b\r",
      "STEP   384 / 1251 (thread    4) f\b\b\r",
      "STEP   385 / 1251 (thread    5) f\b\b\r",
      "STEP   386 / 1251 (thread    3) f\b\b\r",
      "STEP   388 / 1251 (thread    0) f\b\b\r",
      "STEP   389 / 1251 (thread    3) f\b\b\r",
      "STEP   390 / 1251 (thread    0) f\b\b\r",
      "STEP   391 / 1251 (thread    3) f\b\b\r",
      "STEP   392 / 1251 (thread    5) f\b\b\r",
      "STEP   387 / 1251 (thread    2) f\b\b\r",
      "STEP   396 / 1251 (thread    2) f\b\b\r",
      "STEP   398 / 1251 (thread    1) f\b\b\r",
      "STEP   393 / 1251 (thread    0) f\b\b\r",
      "STEP   399 / 1251 (thread    1) f\b\b\r",
      "STEP   395 / 1251 (thread    3) f\b\b\r",
      "STEP   397 / 1251 (thread    5) f\b\b\r",
      "STEP   394 / 1251 (thread    4) f\b\b\r",
      "STEP   400 / 1251 (thread    2) f\b\b\r",
      "STEP   401 / 1251 (thread    0) f\b\b\r",
      "STEP   402 / 1251 (thread    2) f\b\b\r",
      "STEP   403 / 1251 (thread    0) f\b\b\r",
      "STEP   404 / 1251 (thread    1) f\b\b\r",
      "STEP   405 / 1251 (thread    5) f\b\b\r",
      "STEP   406 / 1251 (thread    3) f\b\b\r",
      "STEP   407 / 1251 (thread    4) f\b\b\r",
      "STEP   408 / 1251 (thread    0) f\b\b\r",
      "STEP   409 / 1251 (thread    5) f\b\b\r",
      "STEP   410 / 1251 (thread    1) f\b\b\r",
      "STEP   411 / 1251 (thread    2) f\b\b\r",
      "STEP   412 / 1251 (thread    0) f\b\b\r",
      "STEP   413 / 1251 (thread    3) f\b\b\r",
      "STEP   414 / 1251 (thread    5) f\b\b\r",
      "STEP   415 / 1251 (thread    1) f\b\b\r",
      "STEP   416 / 1251 (thread    0) f\b\b\r",
      "STEP   417 / 1251 (thread    3) f\b\b\r",
      "STEP   419 / 1251 (thread    0) f\b\b\r",
      "STEP   418 / 1251 (thread    2) f\b\b\r",
      "STEP   420 / 1251 (thread    3) f\b\b\r",
      "STEP   421 / 1251 (thread    5) f\b\b\r",
      "STEP   422 / 1251 (thread    4) f\b\b\r",
      "STEP   423 / 1251 (thread    0) f\b\b\r",
      "STEP   424 / 1251 (thread    1) f\b\b\r",
      "STEP   425 / 1251 (thread    2) f\b\b\r",
      "STEP   426 / 1251 (thread    5) f\b\b\r",
      "STEP   427 / 1251 (thread    3) f\b\b\r",
      "STEP   428 / 1251 (thread    0) f\b\b\r",
      "STEP   429 / 1251 (thread    3) f\b\b\r",
      "STEP   430 / 1251 (thread    1) f\b\b\r",
      "STEP   431 / 1251 (thread    2) f\b\b\r",
      "STEP   432 / 1251 (thread    4) f\b\b\r",
      "STEP   433 / 1251 (thread    0) f\b\b\r",
      "STEP   434 / 1251 (thread    5) f\b\b\r",
      "STEP   435 / 1251 (thread    1) f\b\b\r",
      "STEP   436 / 1251 (thread    3) f\b\b\r",
      "STEP   437 / 1251 (thread    2) f\b\b\r",
      "STEP   438 / 1251 (thread    0) f\b\b\r",
      "STEP   439 / 1251 (thread    5) f\b\b\r",
      "STEP   440 / 1251 (thread    1) f\b\b\r",
      "STEP   441 / 1251 (thread    4) f\b\b\r",
      "STEP   442 / 1251 (thread    3) f\b\b\r",
      "STEP   443 / 1251 (thread    5) f\b\b\r",
      "STEP   444 / 1251 (thread    0) f\b\b\r",
      "STEP   445 / 1251 (thread    2) f\b\b\r",
      "STEP   446 / 1251 (thread    1) f\b\b\r",
      "STEP   447 / 1251 (thread    2) f\b\b\r",
      "STEP   449 / 1251 (thread    5) f\b\b\r",
      "STEP   450 / 1251 (thread    0) f\b\b\r",
      "STEP   451 / 1251 (thread    1) f\b\b\r",
      "STEP   452 / 1251 (thread    5) f\b\b\r",
      "STEP   453 / 1251 (thread    4) f\b\b\r",
      "STEP   454 / 1251 (thread    2) f\b\b\r",
      "STEP   455 / 1251 (thread    0) f\b\b\r",
      "STEP   456 / 1251 (thread    1) f\b\b\r",
      "STEP   457 / 1251 (thread    2) f\b\b\r",
      "STEP   458 / 1251 (thread    4) f\b\b\r",
      "STEP   459 / 1251 (thread    1) f\b\b\r",
      "STEP   460 / 1251 (thread    2) f\b\b\r",
      "STEP   461 / 1251 (thread    0) f\b\b\r",
      "STEP   462 / 1251 (thread    2) f\b\b\r",
      "STEP   463 / 1251 (thread    4) f\b\b\r",
      "STEP   464 / 1251 (thread    0) f\b\b\r",
      "STEP   465 / 1251 (thread    1) f\b\b\r",
      "STEP   466 / 1251 (thread    2) f\b\b\r",
      "STEP   467 / 1251 (thread    4) f\b\b\r",
      "STEP   468 / 1251 (thread    0) f\b\b\r",
      "STEP   469 / 1251 (thread    1) f\b\b\r",
      "STEP   470 / 1251 (thread    2) f\b\b\r",
      "STEP   471 / 1251 (thread    4) f\b\b\r",
      "STEP   472 / 1251 (thread    2) f\b\b\r",
      "STEP   473 / 1251 (thread    0) f\b\b\r",
      "STEP   474 / 1251 (thread    1) f\b\b\r",
      "STEP   475 / 1251 (thread    4) f\b\b\r",
      "STEP   476 / 1251 (thread    2) f\b\b\r",
      "STEP   477 / 1251 (thread    1) f\b\b\r",
      "STEP   478 / 1251 (thread    0) f\b\b\r",
      "STEP   479 / 1251 (thread    4) f\b\b\r",
      "STEP   480 / 1251 (thread    4) f\b\b\r",
      "STEP   481 / 1251 (thread    0) f\b\b\r",
      "STEP   482 / 1251 (thread    2) f\b\b\r",
      "STEP   483 / 1251 (thread    4) f\b\b\r",
      "STEP   484 / 1251 (thread    1) f\b\b\r",
      "STEP   485 / 1251 (thread    0) f\b\b\r",
      "STEP   486 / 1251 (thread    1) f\b\b\r",
      "STEP   487 / 1251 (thread    4) f\b\b\r",
      "STEP   488 / 1251 (thread    2) f\b\b\r",
      "STEP   489 / 1251 (thread    5) f\b\b\r",
      "STEP   490 / 1251 (thread    0) f\b\b\r",
      "STEP   491 / 1251 (thread    2) f\b\b\r",
      "STEP   492 / 1251 (thread    1) f\b\b\r",
      "STEP   493 / 1251 (thread    4) f\b\b\r",
      "STEP   494 / 1251 (thread    2) f\b\b\r",
      "STEP   495 / 1251 (thread    5) f\b\b\r",
      "STEP   496 / 1251 (thread    0) f\b\b\r",
      "STEP   497 / 1251 (thread    4) f\b\b\r",
      "STEP   498 / 1251 (thread    5) f\b\b\r",
      "STEP   499 / 1251 (thread    1) f\b\b\r",
      "STEP   500 / 1251 (thread    2) f\b\b\r",
      "STEP   501 / 1251 (thread    0) f\b\b\r",
      "STEP   448 / 1251 (thread    3) f\b\b\r",
      "STEP   601 / 1251 (thread    5) f\b\b\r",
      "STEP   701 / 1251 (thread    5) f\b\b"
     ]
    },
    {
     "name": "stderr",
     "output_type": "stream",
     "text": [
      "\r",
      "STEP   801 / 1251 (thread    1) f\b\b\r",
      "STEP   901 / 1251 (thread    2) f\b\b\n",
      "Reallocating..done. *alloclen = 1861\n"
     ]
    },
    {
     "name": "stderr",
     "output_type": "stream",
     "text": [
      "\r",
      "STEP  1001 / 1251 (thread    0) f\b\b\r",
      "STEP  1101 / 1251 (thread    4) f\b\b"
     ]
    },
    {
     "name": "stderr",
     "output_type": "stream",
     "text": [
      "\r",
      "STEP  1201 / 1251 (thread    3) f\b\b"
     ]
    },
    {
     "name": "stderr",
     "output_type": "stream",
     "text": [
      "\n",
      "done.\n",
      "\n",
      "Making a distance matrix from msa.. \n",
      "\r",
      "    0 / 1252 (thread    0)\r",
      "  100 / 1252 (thread    0)\r",
      "  200 / 1252 (thread    2)"
     ]
    },
    {
     "name": "stderr",
     "output_type": "stream",
     "text": [
      "\r",
      "  300 / 1252 (thread    1)\r",
      "  400 / 1252 (thread    0)\r",
      "  500 / 1252 (thread    2)\r",
      "  600 / 1252 (thread    4)\r",
      "  700 / 1252 (thread    4)"
     ]
    },
    {
     "name": "stderr",
     "output_type": "stream",
     "text": [
      "\r",
      "  800 / 1252 (thread    0)\r",
      "  900 / 1252 (thread    2)\r",
      " 1000 / 1252 (thread    0)\r",
      " 1100 / 1252 (thread    2)\r",
      " 1200 / 1252 (thread    3)\n",
      "done.\n",
      "\n",
      "Constructing a UPGMA tree (efffree=1) ... \n",
      "\r",
      "    0 / 1252\r",
      "   10 / 1252\r",
      "   20 / 1252\r",
      "   30 / 1252\r",
      "   40 / 1252\r",
      "   50 / 1252\r",
      "   60 / 1252\r",
      "   70 / 1252\r",
      "   80 / 1252\r",
      "   90 / 1252\r",
      "  100 / 1252\r",
      "  110 / 1252\r",
      "  120 / 1252\r",
      "  130 / 1252\r",
      "  140 / 1252\r",
      "  150 / 1252\r",
      "  160 / 1252\r",
      "  170 / 1252\r",
      "  180 / 1252\r",
      "  190 / 1252\r",
      "  200 / 1252\r",
      "  210 / 1252\r",
      "  220 / 1252\r",
      "  230 / 1252\r",
      "  240 / 1252\r",
      "  250 / 1252\r",
      "  260 / 1252\r",
      "  270 / 1252\r",
      "  280 / 1252\r",
      "  290 / 1252\r",
      "  300 / 1252\r",
      "  310 / 1252\r",
      "  320 / 1252\r",
      "  330 / 1252\r",
      "  340 / 1252\r",
      "  350 / 1252\r",
      "  360 / 1252\r",
      "  370 / 1252\r",
      "  380 / 1252\r",
      "  390 / 1252\r",
      "  400 / 1252\r",
      "  410 / 1252\r",
      "  420 / 1252\r",
      "  430 / 1252\r",
      "  440 / 1252\r",
      "  450 / 1252\r",
      "  460 / 1252\r",
      "  470 / 1252\r",
      "  480 / 1252\r",
      "  490 / 1252\r",
      "  500 / 1252\r",
      "  510 / 1252\r",
      "  520 / 1252\r",
      "  530 / 1252\r",
      "  540 / 1252\r",
      "  550 / 1252\r",
      "  560 / 1252\r",
      "  570 / 1252\r",
      "  580 / 1252\r",
      "  590 / 1252\r",
      "  600 / 1252\r",
      "  610 / 1252\r",
      "  620 / 1252\r",
      "  630 / 1252\r",
      "  640 / 1252\r",
      "  650 / 1252\r",
      "  660 / 1252\r",
      "  670 / 1252\r",
      "  680 / 1252\r",
      "  690 / 1252\r",
      "  700 / 1252\r",
      "  710 / 1252\r",
      "  720 / 1252\r",
      "  730 / 1252\r",
      "  740 / 1252\r",
      "  750 / 1252\r",
      "  760 / 1252\r",
      "  770 / 1252\r",
      "  780 / 1252\r",
      "  790 / 1252\r",
      "  800 / 1252\r",
      "  810 / 1252\r",
      "  820 / 1252\r",
      "  830 / 1252\r",
      "  840 / 1252\r",
      "  850 / 1252\r",
      "  860 / 1252\r",
      "  870 / 1252\r",
      "  880 / 1252\r",
      "  890 / 1252\r",
      "  900 / 1252\r",
      "  910 / 1252\r",
      "  920 / 1252\r",
      "  930 / 1252\r",
      "  940 / 1252\r",
      "  950 / 1252\r",
      "  960 / 1252\r",
      "  970 / 1252\r",
      "  980 / 1252\r",
      "  990 / 1252\r",
      " 1000 / 1252\r",
      " 1010 / 1252\r",
      " 1020 / 1252\r",
      " 1030 / 1252\r",
      " 1040 / 1252\r",
      " 1050 / 1252\r",
      " 1060 / 1252\r",
      " 1070 / 1252\r",
      " 1080 / 1252\r",
      " 1090 / 1252\r",
      " 1100 / 1252\r",
      " 1110 / 1252\r",
      " 1120 / 1252\r",
      " 1130 / 1252\r",
      " 1140 / 1252\r",
      " 1150 / 1252\r",
      " 1160 / 1252\r",
      " 1170 / 1252\r",
      " 1180 / 1252\r",
      " 1190 / 1252\r",
      " 1200 / 1252\r",
      " 1210 / 1252\r",
      " 1220 / 1252\r",
      " 1230 / 1252\r",
      " 1240 / 1252\r",
      " 1250 / 1252\n",
      "done.\n",
      "\n",
      "Progressive alignment 2/2... \n",
      "\r",
      "STEP     1 / 1251 (thread    1) f\b\b\r",
      "STEP     2 / 1251 (thread    0) f\b\b\r",
      "STEP     3 / 1251 (thread    2) f\b\b\r",
      "STEP     4 / 1251 (thread    1) f\b\b\r",
      "STEP     5 / 1251 (thread    1) f\b\b\r",
      "STEP     6 / 1251 (thread    0) f\b\b\r",
      "STEP     7 / 1251 (thread    1) f\b\b\r",
      "STEP     8 / 1251 (thread    4) f\b\b\r",
      "STEP     9 / 1251 (thread    1) f\b\b\r",
      "STEP    10 / 1251 (thread    0) f\b\b\r",
      "STEP    11 / 1251 (thread    1) f\b\b\r",
      "STEP    12 / 1251 (thread    0) f\b\b\r",
      "STEP    13 / 1251 (thread    1) f\b\b\r",
      "STEP    14 / 1251 (thread    1) f\b\b\r",
      "STEP    15 / 1251 (thread    0) f\b\b\r",
      "STEP    16 / 1251 (thread    1) f\b\b\r",
      "STEP    17 / 1251 (thread    5) f\b\b\r",
      "STEP    18 / 1251 (thread    1) f\b\b\r",
      "STEP    19 / 1251 (thread    0) f\b\b\r",
      "STEP    20 / 1251 (thread    1) f\b\b\r",
      "STEP    21 / 1251 (thread    0) f\b\b\r",
      "STEP    22 / 1251 (thread    1) f\b\b\r",
      "STEP    23 / 1251 (thread    1) f\b\b\r",
      "STEP    24 / 1251 (thread    2) f\b\b\r",
      "STEP    25 / 1251 (thread    0) f\b\b\r",
      "STEP    26 / 1251 (thread    3) f\b\b\r",
      "STEP    27 / 1251 (thread    1) f\b\b\r",
      "STEP    28 / 1251 (thread    2) f\b\b\r",
      "STEP    29 / 1251 (thread    0) f\b\b\r",
      "STEP    30 / 1251 (thread    1) f\b\b\r",
      "STEP    32 / 1251 (thread    1) f\b\b\r",
      "STEP    33 / 1251 (thread    0) f\b\b\r",
      "STEP    34 / 1251 (thread    1) f\b\b\r",
      "STEP    35 / 1251 (thread    4) f\b\b\r",
      "STEP    36 / 1251 (thread    0) f\b\b\r",
      "STEP    37 / 1251 (thread    4) f\b\b\r",
      "STEP    38 / 1251 (thread    1) f\b\b\r",
      "STEP    39 / 1251 (thread    4) f\b\b\r",
      "STEP    40 / 1251 (thread    1) f\b\b\r",
      "STEP    41 / 1251 (thread    0) f\b\b\r",
      "STEP    42 / 1251 (thread    4) f\b\b\r",
      "STEP    43 / 1251 (thread    1) f\b\b\r",
      "STEP    44 / 1251 (thread    4) f\b\b\r",
      "STEP    45 / 1251 (thread    5) f\b\b\r",
      "STEP    46 / 1251 (thread    0) f\b\b\r",
      "STEP    47 / 1251 (thread    1) f\b\b\r",
      "STEP    48 / 1251 (thread    4) f\b\b\r",
      "STEP    49 / 1251 (thread    5) f\b\b\r",
      "STEP    50 / 1251 (thread    0) f\b\b\r",
      "STEP    51 / 1251 (thread    1) f\b\b\r",
      "STEP    52 / 1251 (thread    5) f\b\b\r",
      "STEP    53 / 1251 (thread    5) f\b\b\r",
      "STEP    54 / 1251 (thread    1) f\b\b\r",
      "STEP    55 / 1251 (thread    3) f\b\b\r",
      "STEP    56 / 1251 (thread    5) f\b\b\r",
      "STEP    57 / 1251 (thread    1) f\b\b\r",
      "STEP    58 / 1251 (thread    0) f\b\b\r",
      "STEP    60 / 1251 (thread    5) f\b\b\r",
      "STEP    61 / 1251 (thread    1) f\b\b\r",
      "STEP    62 / 1251 (thread    5) f\b\b\r",
      "STEP    63 / 1251 (thread    1) f\b\b\r",
      "STEP    64 / 1251 (thread    0) f\b\b\r",
      "STEP    65 / 1251 (thread    5) f\b\b\r",
      "STEP    66 / 1251 (thread    1) f\b\b\r",
      "STEP    67 / 1251 (thread    0) f\b\b\r",
      "STEP    31 / 1251 (thread    2) f\b\b\r",
      "STEP    68 / 1251 (thread    5) f\b\b\r",
      "STEP    69 / 1251 (thread    1) f\b\b\r",
      "STEP    70 / 1251 (thread    1) f\b\b\r",
      "STEP    71 / 1251 (thread    0) f\b\b\r",
      "STEP    72 / 1251 (thread    1) f\b\b\r",
      "STEP    73 / 1251 (thread    5) f\b\b\r",
      "STEP    74 / 1251 (thread    0) f\b\b\r",
      "STEP    75 / 1251 (thread    2) f\b\b\r",
      "STEP    76 / 1251 (thread    1) f\b\b\r",
      "STEP    77 / 1251 (thread    0) f\b\b\r",
      "STEP    78 / 1251 (thread    1) f\b\b\r",
      "STEP    79 / 1251 (thread    5) f\b\b\r",
      "STEP    80 / 1251 (thread    0) f\b\b\r",
      "STEP    81 / 1251 (thread    2) f\b\b\r",
      "STEP    82 / 1251 (thread    1) f\b\b\r",
      "STEP    83 / 1251 (thread    0) f\b\b\r",
      "STEP    84 / 1251 (thread    1) f\b\b\r",
      "STEP    85 / 1251 (thread    5) f\b\b\r",
      "STEP    86 / 1251 (thread    0) f\b\b\r",
      "STEP    87 / 1251 (thread    1) f\b\b\r",
      "STEP    88 / 1251 (thread    1) f\b\b\r",
      "STEP    89 / 1251 (thread    0) f\b\b\r",
      "STEP    90 / 1251 (thread    2) f\b\b\r",
      "STEP    91 / 1251 (thread    1) f\b\b\r",
      "STEP    92 / 1251 (thread    0) f\b\b\r",
      "STEP    93 / 1251 (thread    2) f\b\b\r",
      "STEP    94 / 1251 (thread    5) f\b\b\r",
      "STEP    59 / 1251 (thread    3) f\b\b\r",
      "STEP    95 / 1251 (thread    1) f\b\b\r",
      "STEP    96 / 1251 (thread    0) f\b\b\r",
      "STEP    97 / 1251 (thread    3) f\b\b\r",
      "STEP    98 / 1251 (thread    1) f\b\b\r",
      "STEP    99 / 1251 (thread    4) f\b\b\r",
      "STEP   100 / 1251 (thread    5) f\b\b\r",
      "STEP   101 / 1251 (thread    3) f\b\b\r",
      "STEP   102 / 1251 (thread    0) f\b\b\r",
      "STEP   103 / 1251 (thread    4) f\b\b\r",
      "STEP   104 / 1251 (thread    2) f\b\b\r",
      "STEP   105 / 1251 (thread    1) f\b\b\r",
      "STEP   106 / 1251 (thread    3) f\b\b\r",
      "STEP   107 / 1251 (thread    4) f\b\b\r",
      "STEP   108 / 1251 (thread    0) f\b\b\r",
      "STEP   109 / 1251 (thread    3) f\b\b\r",
      "STEP   110 / 1251 (thread    4) f\b\b\r",
      "STEP   111 / 1251 (thread    1) f\b\b\r",
      "STEP   112 / 1251 (thread    0) f\b\b\r",
      "STEP   113 / 1251 (thread    5) f\b\b\r",
      "STEP   114 / 1251 (thread    3) f\b\b\r",
      "STEP   115 / 1251 (thread    2) f\b\b\r",
      "STEP   116 / 1251 (thread    0) f\b\b\r",
      "STEP   117 / 1251 (thread    3) f\b\b\r",
      "STEP   118 / 1251 (thread    4) f\b\b\r",
      "STEP   119 / 1251 (thread    1) f\b\b\r",
      "STEP   120 / 1251 (thread    5) f\b\b\r",
      "STEP   121 / 1251 (thread    0) f\b\b\r",
      "STEP   122 / 1251 (thread    4) f\b\b\r",
      "STEP   123 / 1251 (thread    3) f\b\b\r",
      "STEP   124 / 1251 (thread    1) f\b\b\r",
      "STEP   125 / 1251 (thread    4) f\b\b\r",
      "STEP   126 / 1251 (thread    3) f\b\b\r",
      "STEP   127 / 1251 (thread    0) f\b\b\r",
      "STEP   128 / 1251 (thread    4) f\b\b\r",
      "STEP   129 / 1251 (thread    1) f\b\b\r",
      "STEP   130 / 1251 (thread    3) f\b\b\r",
      "STEP   131 / 1251 (thread    4) f\b\b\r",
      "STEP   132 / 1251 (thread    0) f\b\b\r",
      "STEP   133 / 1251 (thread    3) f\b\b\r",
      "STEP   134 / 1251 (thread    5) f\b\b\r",
      "STEP   135 / 1251 (thread    4) f\b\b\r",
      "STEP   136 / 1251 (thread    2) f\b\b\r",
      "STEP   137 / 1251 (thread    0) f\b\b\r",
      "STEP   138 / 1251 (thread    1) f\b\b\r",
      "STEP   139 / 1251 (thread    4) f\b\b\r",
      "STEP   140 / 1251 (thread    0) f\b\b\r",
      "STEP   141 / 1251 (thread    1) f\b\b\r",
      "STEP   142 / 1251 (thread    3) f\b\b\r",
      "STEP   143 / 1251 (thread    2) f\b\b\r",
      "STEP   144 / 1251 (thread    4) f\b\b\r",
      "STEP   145 / 1251 (thread    0) f\b\b\r",
      "STEP   146 / 1251 (thread    4) f\b\b\r",
      "STEP   147 / 1251 (thread    5) f\b\b\r",
      "STEP   148 / 1251 (thread    3) f\b\b\r",
      "STEP   149 / 1251 (thread    4) f\b\b\r",
      "STEP   150 / 1251 (thread    0) f\b\b\r",
      "STEP   151 / 1251 (thread    1) f\b\b\r",
      "STEP   153 / 1251 (thread    4) f\b\b\r",
      "STEP   154 / 1251 (thread    0) f\b\b\r",
      "STEP   155 / 1251 (thread    1) f\b\b\r",
      "STEP   156 / 1251 (thread    5) f\b\b\r",
      "STEP   157 / 1251 (thread    1) f\b\b\r",
      "STEP   158 / 1251 (thread    0) f\b\b\r",
      "STEP   159 / 1251 (thread    2) f\b\b\r",
      "STEP   160 / 1251 (thread    0) f\b\b\r",
      "STEP   161 / 1251 (thread    5) f\b\b\r",
      "STEP   162 / 1251 (thread    1) f\b\b\r",
      "STEP   163 / 1251 (thread    0) f\b\b\r",
      "STEP   164 / 1251 (thread    1) f\b\b\r",
      "STEP   165 / 1251 (thread    5) f\b\b\r",
      "STEP   166 / 1251 (thread    0) f\b\b\r",
      "STEP   167 / 1251 (thread    1) f\b\b\r",
      "STEP   168 / 1251 (thread    0) f\b\b\r",
      "STEP   169 / 1251 (thread    5) f\b\b\r",
      "STEP   170 / 1251 (thread    1) f\b\b\r",
      "STEP   171 / 1251 (thread    0) f\b\b\r",
      "STEP   172 / 1251 (thread    2) f\b\b\r",
      "STEP   173 / 1251 (thread    0) f\b\b\r",
      "STEP   174 / 1251 (thread    1) f\b\b\r",
      "STEP   175 / 1251 (thread    0) f\b\b\r",
      "STEP   176 / 1251 (thread    1) f\b\b\r",
      "STEP   177 / 1251 (thread    2) f\b\b\r",
      "STEP   178 / 1251 (thread    5) f\b\b\r",
      "STEP   179 / 1251 (thread    0) f\b\b\r",
      "STEP   180 / 1251 (thread    1) f\b\b\r",
      "STEP   181 / 1251 (thread    0) f\b\b\r",
      "STEP   182 / 1251 (thread    1) f\b\b\r",
      "STEP   183 / 1251 (thread    0) f\b\b\r",
      "STEP   184 / 1251 (thread    2) f\b\b\r",
      "STEP   152 / 1251 (thread    3) f\b\b\r",
      "STEP   185 / 1251 (thread    0) f\b\b\r",
      "STEP   186 / 1251 (thread    3) f\b\b\r",
      "STEP   187 / 1251 (thread    5) f\b\b\r",
      "STEP   188 / 1251 (thread    1) f\b\b\r",
      "STEP   189 / 1251 (thread    0) f\b\b\r",
      "STEP   190 / 1251 (thread    3) f\b\b\r",
      "STEP   191 / 1251 (thread    1) f\b\b\r",
      "STEP   192 / 1251 (thread    0) f\b\b\r",
      "STEP   193 / 1251 (thread    3) f\b\b\r",
      "STEP   194 / 1251 (thread    2) f\b\b\r",
      "STEP   195 / 1251 (thread    0) f\b\b\r",
      "STEP   197 / 1251 (thread    3) f\b\b\r",
      "STEP   198 / 1251 (thread    5) f\b\b\r",
      "STEP   196 / 1251 (thread    1) f\b\b\r",
      "STEP   199 / 1251 (thread    3) f\b\b\r",
      "STEP   200 / 1251 (thread    0) f\b\b\r",
      "STEP   201 / 1251 (thread    3) f\b\b\r",
      "STEP   202 / 1251 (thread    4) f\b\b\r",
      "STEP   203 / 1251 (thread    0) f\b\b\r",
      "STEP   204 / 1251 (thread    1) f\b\b\r",
      "STEP   205 / 1251 (thread    4) f\b\b\r",
      "STEP   206 / 1251 (thread    0) f\b\b\r",
      "STEP   207 / 1251 (thread    5) f\b\b\r",
      "STEP   208 / 1251 (thread    4) f\b\b\r",
      "STEP   209 / 1251 (thread    3) f\b\b\r",
      "STEP   210 / 1251 (thread    1) f\b\b\r",
      "STEP   211 / 1251 (thread    0) f\b\b\r",
      "STEP   212 / 1251 (thread    4) f\b\b\r",
      "STEP   213 / 1251 (thread    3) f\b\b\r",
      "STEP   214 / 1251 (thread    4) f\b\b\r",
      "STEP   215 / 1251 (thread    1) f\b\b\r",
      "STEP   216 / 1251 (thread    4) f\b\b\r",
      "STEP   217 / 1251 (thread    3) f\b\b\r",
      "STEP   218 / 1251 (thread    0) f\b\b\r",
      "STEP   219 / 1251 (thread    2) f\b\b\r",
      "STEP   220 / 1251 (thread    4) f\b\b\r",
      "STEP   221 / 1251 (thread    3) f\b\b\r",
      "STEP   222 / 1251 (thread    1) f\b\b\r",
      "STEP   223 / 1251 (thread    0) f\b\b\r",
      "STEP   224 / 1251 (thread    3) f\b\b\r",
      "STEP   225 / 1251 (thread    0) f\b\b\r",
      "STEP   226 / 1251 (thread    4) f\b\b\r",
      "STEP   227 / 1251 (thread    1) f\b\b\r",
      "STEP   228 / 1251 (thread    5) f\b\b\r",
      "STEP   229 / 1251 (thread    3) f\b\b\r",
      "STEP   230 / 1251 (thread    4) f\b\b\r",
      "STEP   231 / 1251 (thread    1) f\b\b\r",
      "STEP   232 / 1251 (thread    0) f\b\b\r",
      "STEP   233 / 1251 (thread    4) f\b\b\r",
      "STEP   234 / 1251 (thread    1) f\b\b\r",
      "STEP   235 / 1251 (thread    0) f\b\b\r",
      "STEP   236 / 1251 (thread    2) f\b\b\r",
      "STEP   237 / 1251 (thread    4) f\b\b\r",
      "STEP   239 / 1251 (thread    0) f\b\b\r",
      "STEP   240 / 1251 (thread    1) f\b\b\r",
      "STEP   241 / 1251 (thread    4) f\b\b\r",
      "STEP   242 / 1251 (thread    0) f\b\b\r",
      "STEP   243 / 1251 (thread    1) f\b\b"
     ]
    },
    {
     "name": "stderr",
     "output_type": "stream",
     "text": [
      "\r",
      "STEP   245 / 1251 (thread    2) f\b\b\r",
      "STEP   238 / 1251 (thread    5) f\b\b\r",
      "STEP   246 / 1251 (thread    0) f\b\b\r",
      "STEP   247 / 1251 (thread    1) f\b\b\r",
      "STEP   248 / 1251 (thread    5) f\b\b\r",
      "STEP   250 / 1251 (thread    2) f\b\b\r",
      "STEP   249 / 1251 (thread    1) f\b\b\r",
      "STEP   251 / 1251 (thread    2) f\b\b\r",
      "STEP   252 / 1251 (thread    3) f\b\b\r",
      "STEP   253 / 1251 (thread    0) f\b\b\r",
      "STEP   244 / 1251 (thread    4) f\b\b\r",
      "STEP   256 / 1251 (thread    2) f\b\b\r",
      "STEP   254 / 1251 (thread    0) f\b\b\r",
      "STEP   257 / 1251 (thread    0) f\b\b\r",
      "STEP   258 / 1251 (thread    4) f\b\b\r",
      "STEP   260 / 1251 (thread    4) f\b\b\r",
      "STEP   261 / 1251 (thread    2) f\b\b\r",
      "STEP   259 / 1251 (thread    1) f\b\b\r",
      "STEP   262 / 1251 (thread    0) f\b\b\r",
      "STEP   255 / 1251 (thread    3) f\b\b\r",
      "STEP   263 / 1251 (thread    2) f\b\b\r",
      "STEP   264 / 1251 (thread    3) f\b\b\r",
      "STEP   266 / 1251 (thread    5) f\b\b\r",
      "STEP   265 / 1251 (thread    1) f\b\b\r",
      "STEP   267 / 1251 (thread    5) f\b\b\r",
      "STEP   268 / 1251 (thread    0) f\b\b\r",
      "STEP   269 / 1251 (thread    1) f\b\b\r",
      "STEP   270 / 1251 (thread    5) f\b\b\r",
      "STEP   271 / 1251 (thread    1) f\b\b\r",
      "STEP   276 / 1251 (thread    0) f\b\b\r",
      "STEP   273 / 1251 (thread    2) f\b\b\r",
      "STEP   277 / 1251 (thread    2) f\b\b\r",
      "STEP   274 / 1251 (thread    3) f\b\b\r",
      "STEP   272 / 1251 (thread    5) f\b\b\r",
      "STEP   275 / 1251 (thread    4) f\b\b\r",
      "STEP   278 / 1251 (thread    5) f\b\b\r",
      "STEP   279 / 1251 (thread    4) f\b\b\r",
      "STEP   280 / 1251 (thread    2) f\b\b\r",
      "STEP   281 / 1251 (thread    5) f\b\b\r",
      "STEP   282 / 1251 (thread    4) f\b\b\r",
      "STEP   285 / 1251 (thread    0) f\b\b\r",
      "STEP   286 / 1251 (thread    3) f\b\b\r",
      "STEP   287 / 1251 (thread    0) f\b\b\r",
      "STEP   288 / 1251 (thread    2) f\b\b\r",
      "STEP   289 / 1251 (thread    4) f\b\b\r",
      "STEP   291 / 1251 (thread    2) f\b\b\r",
      "STEP   290 / 1251 (thread    3) f\b\b\r",
      "STEP   283 / 1251 (thread    5) f\b\b\r",
      "STEP   292 / 1251 (thread    5) f\b\b\r",
      "STEP   293 / 1251 (thread    3) f\b\b\r",
      "STEP   294 / 1251 (thread    0) f\b\b\r",
      "STEP   295 / 1251 (thread    2) f\b\b\r",
      "STEP   284 / 1251 (thread    1) f\b\b\r",
      "STEP   296 / 1251 (thread    5) f\b\b\r",
      "STEP   297 / 1251 (thread    1) f\b\b\r",
      "STEP   298 / 1251 (thread    4) f\b\b\r",
      "STEP   300 / 1251 (thread    5) f\b\b\r",
      "STEP   303 / 1251 (thread    5) f\b\b\r",
      "STEP   304 / 1251 (thread    4) f\b\b\r",
      "STEP   305 / 1251 (thread    0) f\b\b\r",
      "STEP   306 / 1251 (thread    5) f\b\b\r",
      "STEP   307 / 1251 (thread    4) f\b\b\r",
      "STEP   308 / 1251 (thread    0) f\b\b\r",
      "STEP   309 / 1251 (thread    0) f\b\b\r",
      "STEP   310 / 1251 (thread    5) f\b\b\r",
      "STEP   311 / 1251 (thread    0) f\b\b\r",
      "STEP   302 / 1251 (thread    3) f\b\b\r",
      "STEP   299 / 1251 (thread    2) f\b\b\r",
      "STEP   313 / 1251 (thread    5) f\b\b\r",
      "STEP   314 / 1251 (thread    0) f\b\b\r",
      "STEP   315 / 1251 (thread    3) f\b\b\r",
      "STEP   316 / 1251 (thread    5) f\b\b\r",
      "STEP   317 / 1251 (thread    0) f\b\b\r",
      "STEP   318 / 1251 (thread    3) f\b\b\r",
      "STEP   319 / 1251 (thread    3) f\b\b\r",
      "STEP   320 / 1251 (thread    5) f\b\b\r",
      "STEP   321 / 1251 (thread    0) f\b\b\r",
      "STEP   322 / 1251 (thread    2) f\b\b\r",
      "STEP   312 / 1251 (thread    4) f\b\b\r",
      "STEP   325 / 1251 (thread    2) f\b\b\r",
      "STEP   326 / 1251 (thread    2) f\b\b\r",
      "STEP   327 / 1251 (thread    4) f\b\b\r",
      "STEP   323 / 1251 (thread    3) f\b\b\r",
      "STEP   328 / 1251 (thread    2) f\b\b\r",
      "STEP   301 / 1251 (thread    1) f\b\b\r",
      "STEP   329 / 1251 (thread    3) f\b\b\r",
      "STEP   330 / 1251 (thread    1) f\b\b\r",
      "STEP   331 / 1251 (thread    2) f\b\b\r",
      "STEP   332 / 1251 (thread    1) f\b\b\r",
      "STEP   324 / 1251 (thread    5) f\b\b\r",
      "STEP   333 / 1251 (thread    3) f\b\b\r",
      "STEP   334 / 1251 (thread    2) f\b\b\r",
      "STEP   335 / 1251 (thread    5) f\b\b\r",
      "STEP   336 / 1251 (thread    1) f\b\b\r",
      "STEP   337 / 1251 (thread    4) f\b\b\r",
      "STEP   338 / 1251 (thread    5) f\b\b\r",
      "STEP   339 / 1251 (thread    1) f\b\b\r",
      "STEP   340 / 1251 (thread    2) f\b\b\r",
      "STEP   341 / 1251 (thread    4) f\b\b\r",
      "STEP   342 / 1251 (thread    3) f\b\b\r",
      "STEP   343 / 1251 (thread    5) f\b\b\r",
      "STEP   344 / 1251 (thread    2) f\b\b\r",
      "STEP   345 / 1251 (thread    1) f\b\b\r",
      "STEP   346 / 1251 (thread    4) f\b\b\r",
      "STEP   347 / 1251 (thread    1) f\b\b\r",
      "STEP   348 / 1251 (thread    5) f\b\b\r",
      "STEP   349 / 1251 (thread    3) f\b\b\r",
      "STEP   350 / 1251 (thread    2) f\b\b\r",
      "STEP   351 / 1251 (thread    1) f\b\b\r",
      "STEP   352 / 1251 (thread    3) f\b\b\r",
      "STEP   353 / 1251 (thread    1) f\b\b\r",
      "STEP   354 / 1251 (thread    5) f\b\b\r",
      "STEP   355 / 1251 (thread    2) f\b\b\r",
      "STEP   357 / 1251 (thread    5) f\b\b\r",
      "STEP   358 / 1251 (thread    0) f\b\b\r",
      "STEP   359 / 1251 (thread    5) f\b\b\r",
      "STEP   360 / 1251 (thread    4) f\b\b\r",
      "STEP   361 / 1251 (thread    3) f\b\b\r",
      "STEP   362 / 1251 (thread    2) f\b\b\r",
      "STEP   363 / 1251 (thread    0) f\b\b\r",
      "STEP   364 / 1251 (thread    5) f\b\b\r",
      "STEP   365 / 1251 (thread    0) f\b\b\r",
      "STEP   366 / 1251 (thread    5) f\b\b\r",
      "STEP   367 / 1251 (thread    2) f\b\b\r",
      "STEP   368 / 1251 (thread    0) f\b\b\r",
      "STEP   369 / 1251 (thread    3) f\b\b\r",
      "STEP   370 / 1251 (thread    4) f\b\b\r",
      "STEP   371 / 1251 (thread    5) f\b\b\r",
      "STEP   372 / 1251 (thread    0) f\b\b\r",
      "STEP   373 / 1251 (thread    2) f\b\b\r",
      "STEP   374 / 1251 (thread    0) f\b\b\r",
      "STEP   375 / 1251 (thread    3) f\b\b\r",
      "STEP   376 / 1251 (thread    2) f\b\b\r",
      "STEP   356 / 1251 (thread    1) f\b\b\r",
      "STEP   377 / 1251 (thread    4) f\b\b\r",
      "STEP   378 / 1251 (thread    0) f\b\b\r",
      "STEP   379 / 1251 (thread    1) f\b\b\r",
      "STEP   380 / 1251 (thread    1) f\b\b\r",
      "STEP   381 / 1251 (thread    0) f\b\b\r",
      "STEP   382 / 1251 (thread    1) f\b\b\r",
      "STEP   383 / 1251 (thread    2) f\b\b\r",
      "STEP   385 / 1251 (thread    0) f\b\b\r",
      "STEP   384 / 1251 (thread    3) f\b\b\r",
      "STEP   386 / 1251 (thread    1) f\b\b\r",
      "STEP   387 / 1251 (thread    4) f\b\b\r",
      "STEP   388 / 1251 (thread    1) f\b\b\r",
      "STEP   389 / 1251 (thread    2) f\b\b\r",
      "STEP   390 / 1251 (thread    1) f\b\b\r",
      "STEP   391 / 1251 (thread    1) f\b\b\r",
      "STEP   392 / 1251 (thread    2) f\b\b\r",
      "STEP   393 / 1251 (thread    1) f\b\b\r",
      "STEP   394 / 1251 (thread    2) f\b\b\r",
      "STEP   395 / 1251 (thread    4) f\b\b\r",
      "STEP   396 / 1251 (thread    1) f\b\b\r",
      "STEP   397 / 1251 (thread    3) f\b\b\r",
      "STEP   398 / 1251 (thread    2) f\b\b\r",
      "STEP   399 / 1251 (thread    1) f\b\b\r",
      "STEP   400 / 1251 (thread    4) f\b\b\r",
      "STEP   401 / 1251 (thread    4) f\b\b\r",
      "STEP   402 / 1251 (thread    3) f\b\b\r",
      "STEP   403 / 1251 (thread    2) f\b\b\r",
      "STEP   405 / 1251 (thread    3) f\b\b\r",
      "STEP   406 / 1251 (thread    2) f\b\b\r",
      "STEP   407 / 1251 (thread    4) f\b\b\r",
      "STEP   408 / 1251 (thread    2) f\b\b\r",
      "STEP   409 / 1251 (thread    4) f\b\b\r",
      "STEP   410 / 1251 (thread    2) f\b\b\r",
      "STEP   411 / 1251 (thread    3) f\b\b\r",
      "STEP   412 / 1251 (thread    2) f\b\b\r",
      "STEP   413 / 1251 (thread    4) f\b\b\r",
      "STEP   414 / 1251 (thread    3) f\b\b\r",
      "STEP   415 / 1251 (thread    0) f\b\b\r",
      "STEP   416 / 1251 (thread    2) f\b\b\r",
      "STEP   417 / 1251 (thread    3) f\b\b\r",
      "STEP   418 / 1251 (thread    2) f\b\b\r",
      "STEP   419 / 1251 (thread    0) f\b\b\r",
      "STEP   420 / 1251 (thread    0) f\b\b\r",
      "STEP   404 / 1251 (thread    1) f\b\b\r",
      "STEP   421 / 1251 (thread    0) f\b\b\r",
      "STEP   422 / 1251 (thread    5) f\b\b\r",
      "STEP   423 / 1251 (thread    4) f\b\b\r",
      "STEP   424 / 1251 (thread    1) f\b\b\r",
      "STEP   425 / 1251 (thread    0) f\b\b\r",
      "STEP   427 / 1251 (thread    2) f\b\b\r",
      "STEP   428 / 1251 (thread    0) f\b\b\r",
      "STEP   429 / 1251 (thread    1) f\b\b\r",
      "STEP   430 / 1251 (thread    4) f\b\b\r",
      "STEP   431 / 1251 (thread    3) f\b\b\r",
      "STEP   426 / 1251 (thread    5) f\b\b\r",
      "STEP   432 / 1251 (thread    2) f\b\b\r",
      "STEP   433 / 1251 (thread    1) f\b\b\r",
      "STEP   434 / 1251 (thread    2) f\b\b\r",
      "STEP   435 / 1251 (thread    0) f\b\b\r",
      "STEP   436 / 1251 (thread    5) f\b\b\r",
      "STEP   437 / 1251 (thread    3) f\b\b\r",
      "STEP   438 / 1251 (thread    2) f\b\b\r",
      "STEP   439 / 1251 (thread    0) f\b\b\r",
      "STEP   440 / 1251 (thread    1) f\b\b\r",
      "STEP   441 / 1251 (thread    5) f\b\b\r",
      "STEP   442 / 1251 (thread    3) f\b\b\r",
      "STEP   443 / 1251 (thread    1) f\b\b\r",
      "STEP   444 / 1251 (thread    2) f\b\b\r",
      "STEP   445 / 1251 (thread    0) f\b\b\r",
      "STEP   446 / 1251 (thread    5) f\b\b\r",
      "STEP   447 / 1251 (thread    4) f\b\b\r",
      "STEP   448 / 1251 (thread    5) f\b\b\r",
      "STEP   449 / 1251 (thread    1) f\b\b\r",
      "STEP   450 / 1251 (thread    0) f\b\b\r",
      "STEP   451 / 1251 (thread    5) f\b\b\r",
      "STEP   452 / 1251 (thread    1) f\b\b\r",
      "STEP   453 / 1251 (thread    4) f\b\b\r",
      "STEP   454 / 1251 (thread    2) f\b\b\r",
      "STEP   455 / 1251 (thread    0) f\b\b\r",
      "STEP   456 / 1251 (thread    5) f\b\b\r",
      "STEP   457 / 1251 (thread    1) f\b\b\r",
      "STEP   458 / 1251 (thread    3) f\b\b\r",
      "STEP   459 / 1251 (thread    0) f\b\b\r",
      "STEP   460 / 1251 (thread    1) f\b\b\r",
      "STEP   461 / 1251 (thread    2) f\b\b\r",
      "STEP   467 / 1251 (thread    2) f\b\b\r",
      "STEP   468 / 1251 (thread    2) f\b\b\r",
      "STEP   469 / 1251 (thread    2) f\b\b\r",
      "STEP   470 / 1251 (thread    2) f\b\b\r",
      "STEP   471 / 1251 (thread    2) f\b\b\r",
      "STEP   472 / 1251 (thread    2) f\b\b\r",
      "STEP   473 / 1251 (thread    2) f\b\b\r",
      "STEP   474 / 1251 (thread    2) f\b\b\r",
      "STEP   463 / 1251 (thread    5) f\b\b\r",
      "STEP   464 / 1251 (thread    4) f\b\b\r",
      "STEP   466 / 1251 (thread    0) f\b\b\r",
      "STEP   462 / 1251 (thread    3) f\b\b\r",
      "STEP   465 / 1251 (thread    1) f\b\b\r",
      "STEP   475 / 1251 (thread    5) f\b\b\r",
      "STEP   476 / 1251 (thread    0) f\b\b\r",
      "STEP   477 / 1251 (thread    1) f\b\b\r",
      "STEP   478 / 1251 (thread    0) f\b\b\r",
      "STEP   479 / 1251 (thread    5) f\b\b\r",
      "STEP   480 / 1251 (thread    0) f\b\b\r",
      "STEP   481 / 1251 (thread    0) f\b\b\r",
      "STEP   482 / 1251 (thread    1) f\b\b\r",
      "STEP   483 / 1251 (thread    5) f\b\b\r",
      "STEP   484 / 1251 (thread    4) f\b\b\r",
      "STEP   488 / 1251 (thread    4) f\b\b\r",
      "STEP   487 / 1251 (thread    1) f\b\b\r",
      "STEP   489 / 1251 (thread    5) f\b\b\r",
      "STEP   486 / 1251 (thread    3) f\b\b\r",
      "STEP   485 / 1251 (thread    0) f\b\b\r",
      "STEP   490 / 1251 (thread    1) f\b\b\r",
      "STEP   491 / 1251 (thread    5) f\b\b\r",
      "STEP   492 / 1251 (thread    0) f\b\b\r",
      "STEP   493 / 1251 (thread    5) f\b\b\r",
      "STEP   494 / 1251 (thread    3) f\b\b\r",
      "STEP   496 / 1251 (thread    0) f\b\b\r",
      "STEP   497 / 1251 (thread    5) f\b\b\r",
      "STEP   500 / 1251 (thread    5) f\b\b\r",
      "STEP   501 / 1251 (thread    0) f\b\b\r",
      "STEP   498 / 1251 (thread    2) f\b\b\r",
      "STEP   499 / 1251 (thread    4) f\b\b\r",
      "STEP   495 / 1251 (thread    1) f\b\b"
     ]
    },
    {
     "name": "stderr",
     "output_type": "stream",
     "text": [
      "\r",
      "STEP   601 / 1251 (thread    5) f\b\b\r",
      "STEP   701 / 1251 (thread    4) f\b\b\r",
      "STEP   801 / 1251 (thread    2) f\b\b"
     ]
    },
    {
     "name": "stderr",
     "output_type": "stream",
     "text": [
      "\r",
      "STEP   901 / 1251 (thread    3) f\b\b\n",
      "Reallocating..done. *alloclen = 1866\n",
      "\r",
      "STEP  1001 / 1251 (thread    4) f\b\b"
     ]
    },
    {
     "name": "stderr",
     "output_type": "stream",
     "text": [
      "\r",
      "STEP  1101 / 1251 (thread    1) f\b\b"
     ]
    },
    {
     "name": "stderr",
     "output_type": "stream",
     "text": [
      "\r",
      "STEP  1201 / 1251 (thread    0) f\b\b"
     ]
    },
    {
     "name": "stderr",
     "output_type": "stream",
     "text": [
      "\n",
      "done.\n",
      "\n",
      "disttbfast (nuc) Version 7.490\n",
      "alg=A, model=DNA200 (2), 1.53 (4.59), -0.00 (-0.00), noshift, amax=0.0\n",
      "6 thread(s)\n",
      "\n",
      "\n",
      "Strategy:\n",
      " FFT-NS-2 (Fast but rough)\n",
      " Progressive method (guide trees were built 2 times.)\n",
      "\n",
      "If unsure which option to use, try 'mafft --auto input > output'.\n",
      "For more information, see 'mafft --help', 'mafft --man' and the mafft page.\n",
      "\n",
      "The default gap scoring scheme has been changed in version 7.110 (2013 Oct).\n",
      "It tends to insert more gaps into gap-rich regions than previous versions.\n",
      "To disable this change, add the --leavegappyregion option.\n",
      "\n"
     ]
    },
    {
     "name": "stdout",
     "output_type": "stream",
     "text": [
      "Running external command line application. This may print messages to stdout and/or stderr.\n",
      "The command being run is below. This command cannot be manually re-run as it will depend on temporary files that no longer exist.\n",
      "\n",
      "Command: FastTreeMP -quote -nt /tmp/qiime2-archive-7guqxa2y/2cc95415-6cfa-4a25-b4c4-444f064b0f45/data/aligned-dna-sequences.fasta\n",
      "\n"
     ]
    },
    {
     "name": "stderr",
     "output_type": "stream",
     "text": [
      "FastTree Version 2.1.10 Double precision (No SSE3), OpenMP (6 threads)\n",
      "Alignment: /tmp/qiime2-archive-7guqxa2y/2cc95415-6cfa-4a25-b4c4-444f064b0f45/data/aligned-dna-sequences.fasta\n",
      "Nucleotide distances: Jukes-Cantor Joins: balanced Support: SH-like 1000\n",
      "Search: Normal +NNI +SPR (2 rounds range 10) +ML-NNI opt-each=1\n",
      "TopHits: 1.00*sqrtN close=default refresh=0.80\n",
      "ML Model: Jukes-Cantor, CAT approximation with 20 rate categories\n",
      "      0.11 seconds: Top hits for   1029 of   1219 seqs (at seed    800)\n"
     ]
    },
    {
     "name": "stderr",
     "output_type": "stream",
     "text": [
      "      1.06 seconds: Joined    100 of   1216\n"
     ]
    },
    {
     "name": "stderr",
     "output_type": "stream",
     "text": [
      "      3.14 seconds: Joined    300 of   1216\n"
     ]
    },
    {
     "name": "stderr",
     "output_type": "stream",
     "text": [
      "      5.04 seconds: Joined    500 of   1216\n"
     ]
    },
    {
     "name": "stderr",
     "output_type": "stream",
     "text": [
      "      6.99 seconds: Joined    700 of   1216\n"
     ]
    },
    {
     "name": "stderr",
     "output_type": "stream",
     "text": [
      "      9.03 seconds: Joined    900 of   1216\n"
     ]
    },
    {
     "name": "stderr",
     "output_type": "stream",
     "text": [
      "      9.95 seconds: Joined   1000 of   1216\n"
     ]
    },
    {
     "name": "stderr",
     "output_type": "stream",
     "text": [
      "     10.82 seconds: Joined   1100 of   1216\n"
     ]
    },
    {
     "name": "stderr",
     "output_type": "stream",
     "text": [
      "     11.68 seconds: Joined   1200 of   1216\n",
      "Initial topology in 11.81 seconds\n",
      "Refining topology: 41 rounds ME-NNIs, 2 rounds ME-SPRs, 21 rounds ML-NNIs\n",
      "     11.80 seconds: ME NNI round 1 of 41, 1 of 1217 splits\n"
     ]
    },
    {
     "name": "stderr",
     "output_type": "stream",
     "text": [
      "     11.91 seconds: ME NNI round 2 of 41, 901 of 1217 splits, 66 changes (max delta 0.016)\n",
      "     12.01 seconds: ME NNI round 7 of 41, 1 of 1217 splits\n"
     ]
    },
    {
     "name": "stderr",
     "output_type": "stream",
     "text": [
      "     12.19 seconds: SPR round   1 of   2, 201 of 2436 nodes\n",
      "     12.35 seconds: SPR round   1 of   2, 401 of 2436 nodes\n"
     ]
    },
    {
     "name": "stderr",
     "output_type": "stream",
     "text": [
      "     12.52 seconds: SPR round   1 of   2, 601 of 2436 nodes\n",
      "     12.72 seconds: SPR round   1 of   2, 801 of 2436 nodes\n"
     ]
    },
    {
     "name": "stderr",
     "output_type": "stream",
     "text": [
      "     12.90 seconds: SPR round   1 of   2, 1001 of 2436 nodes\n",
      "     13.08 seconds: SPR round   1 of   2, 1201 of 2436 nodes\n"
     ]
    },
    {
     "name": "stderr",
     "output_type": "stream",
     "text": [
      "     13.18 seconds: SPR round   1 of   2, 1301 of 2436 nodes\n",
      "     13.37 seconds: SPR round   1 of   2, 1501 of 2436 nodes\n"
     ]
    },
    {
     "name": "stderr",
     "output_type": "stream",
     "text": [
      "     13.53 seconds: SPR round   1 of   2, 1701 of 2436 nodes\n",
      "     13.70 seconds: SPR round   1 of   2, 1901 of 2436 nodes\n"
     ]
    },
    {
     "name": "stderr",
     "output_type": "stream",
     "text": [
      "     13.86 seconds: SPR round   1 of   2, 2101 of 2436 nodes\n",
      "     14.03 seconds: SPR round   1 of   2, 2301 of 2436 nodes\n"
     ]
    },
    {
     "name": "stderr",
     "output_type": "stream",
     "text": [
      "     14.15 seconds: ME NNI round 14 of 41, 1 of 1217 splits\n",
      "     14.25 seconds: ME NNI round 15 of 41, 1001 of 1217 splits, 2 changes (max delta 0.004)\n"
     ]
    },
    {
     "name": "stderr",
     "output_type": "stream",
     "text": [
      "     14.36 seconds: SPR round   2 of   2, 101 of 2436 nodes\n",
      "     14.51 seconds: SPR round   2 of   2, 301 of 2436 nodes\n"
     ]
    },
    {
     "name": "stderr",
     "output_type": "stream",
     "text": [
      "     14.67 seconds: SPR round   2 of   2, 501 of 2436 nodes\n",
      "     14.82 seconds: SPR round   2 of   2, 701 of 2436 nodes\n"
     ]
    },
    {
     "name": "stderr",
     "output_type": "stream",
     "text": [
      "     15.00 seconds: SPR round   2 of   2, 901 of 2436 nodes\n"
     ]
    },
    {
     "name": "stderr",
     "output_type": "stream",
     "text": [
      "     15.21 seconds: SPR round   2 of   2, 1101 of 2436 nodes\n",
      "     15.39 seconds: SPR round   2 of   2, 1301 of 2436 nodes\n"
     ]
    },
    {
     "name": "stderr",
     "output_type": "stream",
     "text": [
      "     15.57 seconds: SPR round   2 of   2, 1501 of 2436 nodes\n",
      "     15.76 seconds: SPR round   2 of   2, 1701 of 2436 nodes\n"
     ]
    },
    {
     "name": "stderr",
     "output_type": "stream",
     "text": [
      "     15.92 seconds: SPR round   2 of   2, 1901 of 2436 nodes\n",
      "     16.08 seconds: SPR round   2 of   2, 2101 of 2436 nodes\n"
     ]
    },
    {
     "name": "stderr",
     "output_type": "stream",
     "text": [
      "     16.24 seconds: SPR round   2 of   2, 2301 of 2436 nodes\n",
      "     16.38 seconds: ME NNI round 27 of 41, 1 of 1217 splits\n"
     ]
    },
    {
     "name": "stderr",
     "output_type": "stream",
     "text": [
      "     16.48 seconds: ME NNI round 28 of 41, 1001 of 1217 splits, 3 changes (max delta 0.001)\n",
      "Total branch-length 26.433 after 16.57 sec\n",
      "     16.62 seconds: ML Lengths 101 of 1217 splits\n"
     ]
    },
    {
     "name": "stderr",
     "output_type": "stream",
     "text": [
      "     16.77 seconds: ML Lengths 401 of 1217 splits\n",
      "     16.91 seconds: ML Lengths 701 of 1217 splits\n"
     ]
    },
    {
     "name": "stderr",
     "output_type": "stream",
     "text": [
      "     17.05 seconds: ML Lengths 1001 of 1217 splits\n",
      "     17.15 seconds: ML NNI round 1 of 21, 1 of 1217 splits\n"
     ]
    },
    {
     "name": "stderr",
     "output_type": "stream",
     "text": [
      "     18.00 seconds: ML NNI round 1 of 21, 201 of 1217 splits, 31 changes (max delta 5.152)\n"
     ]
    },
    {
     "name": "stderr",
     "output_type": "stream",
     "text": [
      "     19.43 seconds: ML NNI round 1 of 21, 301 of 1217 splits, 51 changes (max delta 5.152)\n"
     ]
    },
    {
     "name": "stderr",
     "output_type": "stream",
     "text": [
      "     20.90 seconds: ML NNI round 1 of 21, 401 of 1217 splits, 69 changes (max delta 5.152)\n"
     ]
    },
    {
     "name": "stderr",
     "output_type": "stream",
     "text": [
      "     22.42 seconds: ML NNI round 1 of 21, 501 of 1217 splits, 84 changes (max delta 7.014)\n"
     ]
    },
    {
     "name": "stderr",
     "output_type": "stream",
     "text": [
      "     23.88 seconds: ML NNI round 1 of 21, 601 of 1217 splits, 101 changes (max delta 11.311)\n"
     ]
    },
    {
     "name": "stderr",
     "output_type": "stream",
     "text": [
      "     25.34 seconds: ML NNI round 1 of 21, 701 of 1217 splits, 114 changes (max delta 11.311)\n"
     ]
    },
    {
     "name": "stderr",
     "output_type": "stream",
     "text": [
      "     26.00 seconds: ML NNI round 1 of 21, 801 of 1217 splits, 126 changes (max delta 11.311)\n"
     ]
    },
    {
     "name": "stderr",
     "output_type": "stream",
     "text": [
      "     26.61 seconds: ML NNI round 1 of 21, 901 of 1217 splits, 143 changes (max delta 11.311)\n"
     ]
    },
    {
     "name": "stderr",
     "output_type": "stream",
     "text": [
      "     28.10 seconds: ML NNI round 1 of 21, 1001 of 1217 splits, 166 changes (max delta 11.311)\n"
     ]
    },
    {
     "name": "stderr",
     "output_type": "stream",
     "text": [
      "     29.53 seconds: ML NNI round 1 of 21, 1101 of 1217 splits, 180 changes (max delta 11.311)\n"
     ]
    },
    {
     "name": "stderr",
     "output_type": "stream",
     "text": [
      "     31.00 seconds: ML NNI round 1 of 21, 1201 of 1217 splits, 199 changes (max delta 11.311)\n",
      "ML-NNI round 1: LogLk = -68579.171 NNIs 204 max delta 11.31 Time 31.03\n",
      "     31.10 seconds: Site likelihoods with rate category 4 of 20\n"
     ]
    },
    {
     "name": "stderr",
     "output_type": "stream",
     "text": [
      "     31.22 seconds: Site likelihoods with rate category 10 of 20\n",
      "     31.33 seconds: Site likelihoods with rate category 16 of 20\n"
     ]
    },
    {
     "name": "stderr",
     "output_type": "stream",
     "text": [
      "Switched to using 20 rate categories (CAT approximation)\n",
      "Rate categories were divided by 1.100 so that average rate = 1.0\n",
      "CAT-based log-likelihoods may not be comparable across runs\n",
      "Use -gamma for approximate but comparable Gamma(20) log-likelihoods\n",
      "     31.52 seconds: ML NNI round 2 of 21, 101 of 1217 splits, 9 changes (max delta 2.251)\n"
     ]
    },
    {
     "name": "stderr",
     "output_type": "stream",
     "text": [
      "     32.11 seconds: ML NNI round 2 of 21, 201 of 1217 splits, 24 changes (max delta 13.348)\n"
     ]
    },
    {
     "name": "stderr",
     "output_type": "stream",
     "text": [
      "     33.59 seconds: ML NNI round 2 of 21, 301 of 1217 splits, 36 changes (max delta 13.348)\n"
     ]
    },
    {
     "name": "stderr",
     "output_type": "stream",
     "text": [
      "     35.15 seconds: ML NNI round 2 of 21, 401 of 1217 splits, 44 changes (max delta 13.348)\n"
     ]
    },
    {
     "name": "stderr",
     "output_type": "stream",
     "text": [
      "     36.65 seconds: ML NNI round 2 of 21, 501 of 1217 splits, 54 changes (max delta 13.348)\n"
     ]
    },
    {
     "name": "stderr",
     "output_type": "stream",
     "text": [
      "     38.14 seconds: ML NNI round 2 of 21, 601 of 1217 splits, 70 changes (max delta 13.348)\n"
     ]
    },
    {
     "name": "stderr",
     "output_type": "stream",
     "text": [
      "     39.73 seconds: ML NNI round 2 of 21, 701 of 1217 splits, 90 changes (max delta 13.348)\n"
     ]
    },
    {
     "name": "stderr",
     "output_type": "stream",
     "text": [
      "     41.23 seconds: ML NNI round 2 of 21, 801 of 1217 splits, 96 changes (max delta 13.348)\n"
     ]
    },
    {
     "name": "stderr",
     "output_type": "stream",
     "text": [
      "     42.60 seconds: ML NNI round 2 of 21, 901 of 1217 splits, 104 changes (max delta 13.348)\n"
     ]
    },
    {
     "name": "stderr",
     "output_type": "stream",
     "text": [
      "     44.14 seconds: ML NNI round 2 of 21, 1001 of 1217 splits, 116 changes (max delta 13.348)\n"
     ]
    },
    {
     "name": "stderr",
     "output_type": "stream",
     "text": [
      "     45.62 seconds: ML NNI round 2 of 21, 1101 of 1217 splits, 125 changes (max delta 13.348)\n"
     ]
    },
    {
     "name": "stderr",
     "output_type": "stream",
     "text": [
      "     47.09 seconds: ML NNI round 2 of 21, 1201 of 1217 splits, 133 changes (max delta 13.348)\n"
     ]
    },
    {
     "name": "stderr",
     "output_type": "stream",
     "text": [
      "ML-NNI round 2: LogLk = -56967.110 NNIs 135 max delta 13.35 Time 47.35\n",
      "     47.34 seconds: ML NNI round 3 of 21, 1 of 1217 splits\n"
     ]
    },
    {
     "name": "stderr",
     "output_type": "stream",
     "text": [
      "     48.74 seconds: ML NNI round 3 of 21, 101 of 1217 splits, 3 changes (max delta 1.723)\n"
     ]
    },
    {
     "name": "stderr",
     "output_type": "stream",
     "text": [
      "     50.23 seconds: ML NNI round 3 of 21, 201 of 1217 splits, 10 changes (max delta 4.199)\n"
     ]
    },
    {
     "name": "stderr",
     "output_type": "stream",
     "text": [
      "     51.80 seconds: ML NNI round 3 of 21, 301 of 1217 splits, 17 changes (max delta 4.199)\n"
     ]
    },
    {
     "name": "stderr",
     "output_type": "stream",
     "text": [
      "     53.33 seconds: ML NNI round 3 of 21, 401 of 1217 splits, 26 changes (max delta 4.983)\n"
     ]
    },
    {
     "name": "stderr",
     "output_type": "stream",
     "text": [
      "     54.86 seconds: ML NNI round 3 of 21, 501 of 1217 splits, 29 changes (max delta 8.087)\n"
     ]
    },
    {
     "name": "stderr",
     "output_type": "stream",
     "text": [
      "     56.30 seconds: ML NNI round 3 of 21, 601 of 1217 splits, 35 changes (max delta 8.087)\n"
     ]
    },
    {
     "name": "stderr",
     "output_type": "stream",
     "text": [
      "     56.56 seconds: ML NNI round 3 of 21, 701 of 1217 splits, 43 changes (max delta 8.087)\n"
     ]
    },
    {
     "name": "stderr",
     "output_type": "stream",
     "text": [
      "     57.72 seconds: ML NNI round 3 of 21, 801 of 1217 splits, 49 changes (max delta 8.087)\n",
      "ML-NNI round 3: LogLk = -56911.663 NNIs 52 max delta 8.09 Time 57.77\n",
      "     57.84 seconds: ML NNI round 4 of 21, 101 of 1217 splits, 2 changes (max delta 0.369)\n"
     ]
    },
    {
     "name": "stderr",
     "output_type": "stream",
     "text": [
      "     58.01 seconds: ML NNI round 4 of 21, 301 of 1217 splits, 12 changes (max delta 1.803)\n"
     ]
    },
    {
     "name": "stderr",
     "output_type": "stream",
     "text": [
      "     58.95 seconds: ML NNI round 4 of 21, 401 of 1217 splits, 12 changes (max delta 1.803)\n"
     ]
    },
    {
     "name": "stderr",
     "output_type": "stream",
     "text": [
      "ML-NNI round 4: LogLk = -56895.510 NNIs 15 max delta 2.66 Time 60.61\n",
      "     60.60 seconds: ML NNI round 5 of 21, 1 of 1217 splits\n"
     ]
    },
    {
     "name": "stderr",
     "output_type": "stream",
     "text": [
      "     62.15 seconds: ML NNI round 5 of 21, 101 of 1217 splits, 4 changes (max delta 6.531)\n"
     ]
    },
    {
     "name": "stderr",
     "output_type": "stream",
     "text": [
      "     63.65 seconds: ML NNI round 5 of 21, 201 of 1217 splits, 4 changes (max delta 6.531)\n"
     ]
    },
    {
     "name": "stderr",
     "output_type": "stream",
     "text": [
      "ML-NNI round 5: LogLk = -56887.834 NNIs 4 max delta 6.53 Time 64.69\n"
     ]
    },
    {
     "name": "stderr",
     "output_type": "stream",
     "text": [
      "     66.22 seconds: ML NNI round 6 of 21, 101 of 1217 splits, 1 changes (max delta 0.000)\n",
      "ML-NNI round 6: LogLk = -56886.523 NNIs 1 max delta 0.00 Time 66.31\n",
      "Turning off heuristics for final round of ML NNIs (converged)\n"
     ]
    },
    {
     "name": "stderr",
     "output_type": "stream",
     "text": [
      "     66.54 seconds: ML NNI round 7 of 21, 101 of 1217 splits, 2 changes (max delta 0.353)\n"
     ]
    },
    {
     "name": "stderr",
     "output_type": "stream",
     "text": [
      "     69.01 seconds: ML NNI round 7 of 21, 301 of 1217 splits, 6 changes (max delta 0.353)\n"
     ]
    },
    {
     "name": "stderr",
     "output_type": "stream",
     "text": [
      "     70.33 seconds: ML NNI round 7 of 21, 401 of 1217 splits, 6 changes (max delta 0.353)\n"
     ]
    },
    {
     "name": "stderr",
     "output_type": "stream",
     "text": [
      "     71.71 seconds: ML NNI round 7 of 21, 501 of 1217 splits, 7 changes (max delta 0.353)\n"
     ]
    },
    {
     "name": "stderr",
     "output_type": "stream",
     "text": [
      "     73.19 seconds: ML NNI round 7 of 21, 601 of 1217 splits, 7 changes (max delta 0.353)\n"
     ]
    },
    {
     "name": "stderr",
     "output_type": "stream",
     "text": [
      "     74.63 seconds: ML NNI round 7 of 21, 701 of 1217 splits, 11 changes (max delta 2.209)\n"
     ]
    },
    {
     "name": "stderr",
     "output_type": "stream",
     "text": [
      "     76.02 seconds: ML NNI round 7 of 21, 801 of 1217 splits, 11 changes (max delta 2.209)\n"
     ]
    },
    {
     "name": "stderr",
     "output_type": "stream",
     "text": [
      "     76.45 seconds: ML NNI round 7 of 21, 901 of 1217 splits, 11 changes (max delta 2.209)\n"
     ]
    },
    {
     "name": "stderr",
     "output_type": "stream",
     "text": [
      "     77.85 seconds: ML NNI round 7 of 21, 1001 of 1217 splits, 12 changes (max delta 2.209)\n"
     ]
    },
    {
     "name": "stderr",
     "output_type": "stream",
     "text": [
      "     79.20 seconds: ML NNI round 7 of 21, 1101 of 1217 splits, 13 changes (max delta 2.209)\n"
     ]
    },
    {
     "name": "stderr",
     "output_type": "stream",
     "text": [
      "     80.56 seconds: ML NNI round 7 of 21, 1201 of 1217 splits, 13 changes (max delta 2.209)\n"
     ]
    },
    {
     "name": "stderr",
     "output_type": "stream",
     "text": [
      "ML-NNI round 7: LogLk = -56877.000 NNIs 13 max delta 2.21 Time 80.81 (final)\n",
      "     80.81 seconds: ML Lengths 1 of 1217 splits\n",
      "     80.92 seconds: ML Lengths 301 of 1217 splits\n"
     ]
    },
    {
     "name": "stderr",
     "output_type": "stream",
     "text": [
      "     81.05 seconds: ML Lengths 601 of 1217 splits\n",
      "     81.17 seconds: ML Lengths 901 of 1217 splits\n"
     ]
    },
    {
     "name": "stderr",
     "output_type": "stream",
     "text": [
      "     81.29 seconds: ML Lengths 1201 of 1217 splits\n",
      "Optimize all lengths: LogLk = -56874.666 Time 81.31\n"
     ]
    },
    {
     "name": "stderr",
     "output_type": "stream",
     "text": [
      "     82.47 seconds: ML split tests for    100 of   1216 internal splits\n"
     ]
    },
    {
     "name": "stderr",
     "output_type": "stream",
     "text": [
      "     83.65 seconds: ML split tests for    200 of   1216 internal splits\n"
     ]
    },
    {
     "name": "stderr",
     "output_type": "stream",
     "text": [
      "     84.84 seconds: ML split tests for    300 of   1216 internal splits\n"
     ]
    },
    {
     "name": "stderr",
     "output_type": "stream",
     "text": [
      "     86.02 seconds: ML split tests for    400 of   1216 internal splits\n"
     ]
    },
    {
     "name": "stderr",
     "output_type": "stream",
     "text": [
      "     87.21 seconds: ML split tests for    500 of   1216 internal splits\n"
     ]
    },
    {
     "name": "stderr",
     "output_type": "stream",
     "text": [
      "     88.39 seconds: ML split tests for    600 of   1216 internal splits\n"
     ]
    },
    {
     "name": "stderr",
     "output_type": "stream",
     "text": [
      "     89.58 seconds: ML split tests for    700 of   1216 internal splits\n"
     ]
    },
    {
     "name": "stderr",
     "output_type": "stream",
     "text": [
      "     89.93 seconds: ML split tests for    800 of   1216 internal splits\n"
     ]
    },
    {
     "name": "stderr",
     "output_type": "stream",
     "text": [
      "     90.61 seconds: ML split tests for    900 of   1216 internal splits\n"
     ]
    },
    {
     "name": "stderr",
     "output_type": "stream",
     "text": [
      "     91.54 seconds: ML split tests for   1000 of   1216 internal splits\n"
     ]
    },
    {
     "name": "stderr",
     "output_type": "stream",
     "text": [
      "     92.72 seconds: ML split tests for   1100 of   1216 internal splits\n"
     ]
    },
    {
     "name": "stderr",
     "output_type": "stream",
     "text": [
      "     93.90 seconds: ML split tests for   1200 of   1216 internal splits\n",
      "Total time: 94.10 seconds Unique: 1219/1252 Bad splits: 1/1216 Worst delta-LogLk 0.393\n"
     ]
    }
   ],
   "source": [
    "mafft_alignment, mafft_masked_alignment, mafft_tree, mafft_rooted_tree = align_to_tree_mafft_fasttree(\n",
    "    sequences=reps, n_threads=6, )"
   ]
  },
  {
   "cell_type": "markdown",
   "id": "0768d598",
   "metadata": {
    "papermill": {
     "duration": 0.045994,
     "end_time": "2022-10-14T18:17:43.107733",
     "exception": false,
     "start_time": "2022-10-14T18:17:43.061739",
     "status": "completed"
    },
    "tags": []
   },
   "source": [
    "### Compute Alpha Diversity (Phylogeny)\n",
    "- [diversity alpha_phylogenetic](https://docs.qiime2.org/2022.8/plugins/available/diversity/alpha-phylogenetic/): Computes a user-specified phylogenetic alpha diversity metric for all samples in a feature table.\n",
    "- Metrics: Choices ('faith_pd')"
   ]
  },
  {
   "cell_type": "code",
   "execution_count": 13,
   "id": "0383aa19",
   "metadata": {
    "ExecuteTime": {
     "end_time": "2022-09-29T20:54:35.310009Z",
     "start_time": "2022-09-29T20:54:35.141333Z"
    },
    "execution": {
     "iopub.execute_input": "2022-10-14T18:17:43.201267Z",
     "iopub.status.busy": "2022-10-14T18:17:43.200967Z",
     "iopub.status.idle": "2022-10-14T18:18:10.463263Z",
     "shell.execute_reply": "2022-10-14T18:18:10.462597Z"
    },
    "papermill": {
     "duration": 27.31175,
     "end_time": "2022-10-14T18:18:10.465387",
     "exception": false,
     "start_time": "2022-10-14T18:17:43.153637",
     "status": "completed"
    },
    "tags": []
   },
   "outputs": [
    {
     "name": "stdout",
     "output_type": "stream",
     "text": [
      "Calculating alpha diversity: faith_pd\n"
     ]
    }
   ],
   "source": [
    "metrics = ('faith_pd', )\n",
    "alpha_diversities_phylogenetic = dict()\n",
    "for metric in metrics:\n",
    "    print(f\"Calculating alpha diversity: {metric}\")\n",
    "    alpha_diversity = alpha_phylogenetic(table=tabs, phylogeny=mafft_rooted_tree, metric=metric).alpha_diversity\n",
    "    alpha_diversities_phylogenetic[metric] = alpha_diversity"
   ]
  },
  {
   "cell_type": "markdown",
   "id": "c7752cfd",
   "metadata": {
    "papermill": {
     "duration": 0.101444,
     "end_time": "2022-10-14T18:18:10.613203",
     "exception": false,
     "start_time": "2022-10-14T18:18:10.511759",
     "status": "completed"
    },
    "tags": []
   },
   "source": [
    "### Alpha diversity correlation\n",
    "\n",
    "This method only process `numeric` columns.\n"
   ]
  },
  {
   "cell_type": "code",
   "execution_count": 14,
   "id": "2814f613",
   "metadata": {
    "ExecuteTime": {
     "end_time": "2022-09-29T20:54:35.317618Z",
     "start_time": "2022-09-29T20:54:35.312094Z"
    },
    "execution": {
     "iopub.execute_input": "2022-10-14T18:18:10.771439Z",
     "iopub.status.busy": "2022-10-14T18:18:10.771154Z",
     "iopub.status.idle": "2022-10-14T18:18:10.778271Z",
     "shell.execute_reply": "2022-10-14T18:18:10.777656Z"
    },
    "papermill": {
     "duration": 0.088095,
     "end_time": "2022-10-14T18:18:10.780008",
     "exception": false,
     "start_time": "2022-10-14T18:18:10.691913",
     "status": "completed"
    },
    "tags": []
   },
   "outputs": [],
   "source": [
    "methods = ('spearman', 'pearson')\n",
    "numerics_cols = metadata_qa.filter_columns(column_type='numeric')\n",
    "if numerics_cols.column_count > 0:\n",
    "    for metric, alpha_values in alpha_diversities.items():\n",
    "        for method in methods:\n",
    "            corr_view = alpha_correlation(alpha_diversity=alpha_values, metadata=numerics_cols, \n",
    "                                      method=method, intersect_ids=True).visualization\n",
    "            view_path = os.path.join(qiime_folder, f'alpha-correlation-{metric}-{method}.qzv')\n",
    "            corr_view.save(view_path)\n",
    "            corr_view"
   ]
  },
  {
   "cell_type": "markdown",
   "id": "8ea83c8a",
   "metadata": {
    "papermill": {
     "duration": 0.078198,
     "end_time": "2022-10-14T18:18:10.936360",
     "exception": false,
     "start_time": "2022-10-14T18:18:10.858162",
     "status": "completed"
    },
    "tags": []
   },
   "source": [
    "## Alpha diversity comparisons\n",
    "\n",
    "Visually and statistically compare groups of alpha diversity values.\n",
    "\n",
    "[diversity alpha_group_significance](https://docs.qiime2.org/2022.8/plugins/available/diversity/alpha-group-significance/)"
   ]
  },
  {
   "cell_type": "code",
   "execution_count": 15,
   "id": "276d1c18",
   "metadata": {
    "ExecuteTime": {
     "end_time": "2022-09-29T20:54:36.089290Z",
     "start_time": "2022-09-29T20:54:35.318963Z"
    },
    "execution": {
     "iopub.execute_input": "2022-10-14T18:18:11.095363Z",
     "iopub.status.busy": "2022-10-14T18:18:11.095109Z",
     "iopub.status.idle": "2022-10-14T18:18:12.092602Z",
     "shell.execute_reply": "2022-10-14T18:18:12.091943Z"
    },
    "papermill": {
     "duration": 1.078772,
     "end_time": "2022-10-14T18:18:12.094738",
     "exception": false,
     "start_time": "2022-10-14T18:18:11.015966",
     "status": "completed"
    },
    "tags": []
   },
   "outputs": [
    {
     "name": "stdout",
     "output_type": "stream",
     "text": [
      "Processing alpha_group_significance: chao1\n"
     ]
    },
    {
     "name": "stdout",
     "output_type": "stream",
     "text": [
      "Processing alpha_group_significance: simpson\n",
      "Processing alpha_group_significance: shannon\n"
     ]
    },
    {
     "name": "stdout",
     "output_type": "stream",
     "text": [
      "Processing alpha_group_significance: ace\n",
      "Processing alpha_group_significance: observed_features\n"
     ]
    }
   ],
   "source": [
    "for metric, alpha_values in alpha_diversities.items():\n",
    "    print(f\"Processing alpha_group_significance: {metric}\")\n",
    "    significance_view = alpha_group_significance(alpha_diversity=alpha_values, metadata=metadata_qa).visualization\n",
    "    view_path = os.path.join(qiime_folder, f'alpha-group-significance-{metric}.qzv')\n",
    "    significance_view.save(view_path)\n",
    "    significance_view"
   ]
  },
  {
   "cell_type": "markdown",
   "id": "4349d357",
   "metadata": {
    "papermill": {
     "duration": 0.081418,
     "end_time": "2022-10-14T18:18:12.256644",
     "exception": false,
     "start_time": "2022-10-14T18:18:12.175226",
     "status": "completed"
    },
    "tags": []
   },
   "source": [
    "## Beta diversity analysis\n",
    "\n",
    "#### Reference\n",
    "- [diversity beta](https://docs.qiime2.org/2022.8/plugins/available/diversity/beta/): Computes a user-specified beta diversity metric for all pairs of samples in a feature table.\n",
    "- [Beta diversity metrics](http://scikit-bio.org/docs/0.2.0/generated/skbio.diversity.beta.html)\n",
    "\n",
    "- Metric Choices('aitchison', 'braycurtis', 'canberra', 'canberra_adkins', 'chebyshev', 'cityblock', 'correlation', 'cosine', 'dice', 'euclidean', 'hamming', 'jaccard', 'jensenshannon', 'kulsinski', 'matching', 'minkowski', 'rogerstanimoto', 'russellrao', 'seuclidean', 'sokalmichener', 'sokalsneath', 'sqeuclidean', 'yule')"
   ]
  },
  {
   "cell_type": "code",
   "execution_count": 16,
   "id": "f6f358dd",
   "metadata": {
    "ExecuteTime": {
     "end_time": "2022-09-29T20:54:36.335038Z",
     "start_time": "2022-09-29T20:54:36.091288Z"
    },
    "execution": {
     "iopub.execute_input": "2022-10-14T18:18:12.419169Z",
     "iopub.status.busy": "2022-10-14T18:18:12.418916Z",
     "iopub.status.idle": "2022-10-14T18:18:12.911300Z",
     "shell.execute_reply": "2022-10-14T18:18:12.910687Z"
    },
    "papermill": {
     "duration": 0.57535,
     "end_time": "2022-10-14T18:18:12.913118",
     "exception": false,
     "start_time": "2022-10-14T18:18:12.337768",
     "status": "completed"
    },
    "tags": []
   },
   "outputs": [
    {
     "name": "stdout",
     "output_type": "stream",
     "text": [
      "Calculating beta diversity: dice\n",
      "Calculating beta diversity: braycurtis\n"
     ]
    },
    {
     "name": "stderr",
     "output_type": "stream",
     "text": [
      "/home/lauro/anaconda3/envs/qiime2-2022.2/lib/python3.8/site-packages/sklearn/metrics/pairwise.py:1761: DataConversionWarning: Data was converted to boolean for metric dice\n",
      "  warnings.warn(msg, DataConversionWarning)\n"
     ]
    },
    {
     "name": "stdout",
     "output_type": "stream",
     "text": [
      "Calculating beta diversity: chebyshev\n",
      "Calculating beta diversity: jaccard\n"
     ]
    },
    {
     "name": "stderr",
     "output_type": "stream",
     "text": [
      "/home/lauro/anaconda3/envs/qiime2-2022.2/lib/python3.8/site-packages/sklearn/metrics/pairwise.py:1761: DataConversionWarning: Data was converted to boolean for metric jaccard\n",
      "  warnings.warn(msg, DataConversionWarning)\n"
     ]
    }
   ],
   "source": [
    "metrics = ('dice', 'braycurtis', 'chebyshev', 'jaccard')\n",
    "beta_diversities = dict()\n",
    "for metric in metrics:\n",
    "    print(f\"Calculating beta diversity: {metric}\")\n",
    "    beta_diversity = beta(table=tabs, metric=metric, n_jobs=6, pseudocount=1).distance_matrix\n",
    "    beta_diversities[metric] = beta_diversity"
   ]
  },
  {
   "cell_type": "markdown",
   "id": "200a2fa7",
   "metadata": {
    "papermill": {
     "duration": 0.082564,
     "end_time": "2022-10-14T18:18:13.077239",
     "exception": false,
     "start_time": "2022-10-14T18:18:12.994675",
     "status": "completed"
    },
    "tags": []
   },
   "source": [
    "### Beta group significance\n",
    "\n",
    "- [diversity beta_group_significance](https://docs.qiime2.org/2022.8/plugins/available/diversity/beta-group-significance/): Determine whether groups of samples are significantly different from one another using a permutation-based statistical test.\n",
    "- Marti J Anderson. A new method for non-parametric multivariate analysis of variance. Austral ecology, 26(1):32–46, 2001. doi:https://doi.org/10.1111/j.1442-9993.2001.01070.pp.x."
   ]
  },
  {
   "cell_type": "code",
   "execution_count": 17,
   "id": "b8dd42b6",
   "metadata": {
    "ExecuteTime": {
     "end_time": "2022-09-29T20:55:08.313860Z",
     "start_time": "2022-09-29T20:54:36.336993Z"
    },
    "execution": {
     "iopub.execute_input": "2022-10-14T18:18:13.243944Z",
     "iopub.status.busy": "2022-10-14T18:18:13.243471Z",
     "iopub.status.idle": "2022-10-14T18:19:04.208871Z",
     "shell.execute_reply": "2022-10-14T18:19:04.208185Z"
    },
    "papermill": {
     "duration": 51.050371,
     "end_time": "2022-10-14T18:19:04.210939",
     "exception": false,
     "start_time": "2022-10-14T18:18:13.160568",
     "status": "completed"
    },
    "tags": []
   },
   "outputs": [
    {
     "name": "stdout",
     "output_type": "stream",
     "text": [
      "Calculating beta group significance with method permanova and metric dice\n"
     ]
    },
    {
     "name": "stdout",
     "output_type": "stream",
     "text": [
      "Calculating beta group significance with method permanova and metric braycurtis\n"
     ]
    },
    {
     "name": "stdout",
     "output_type": "stream",
     "text": [
      "Calculating beta group significance with method permanova and metric chebyshev\n"
     ]
    },
    {
     "name": "stdout",
     "output_type": "stream",
     "text": [
      "Calculating beta group significance with method permanova and metric jaccard\n"
     ]
    },
    {
     "name": "stdout",
     "output_type": "stream",
     "text": [
      "Calculating beta group significance with method anosim and metric dice\n"
     ]
    },
    {
     "name": "stdout",
     "output_type": "stream",
     "text": [
      "Calculating beta group significance with method anosim and metric braycurtis\n"
     ]
    },
    {
     "name": "stdout",
     "output_type": "stream",
     "text": [
      "Calculating beta group significance with method anosim and metric chebyshev\n"
     ]
    },
    {
     "name": "stdout",
     "output_type": "stream",
     "text": [
      "Calculating beta group significance with method anosim and metric jaccard\n"
     ]
    },
    {
     "name": "stdout",
     "output_type": "stream",
     "text": [
      "Calculating beta group significance with method permdisp and metric dice\n"
     ]
    },
    {
     "name": "stdout",
     "output_type": "stream",
     "text": [
      "Calculating beta group significance with method permdisp and metric braycurtis\n"
     ]
    },
    {
     "name": "stdout",
     "output_type": "stream",
     "text": [
      "Calculating beta group significance with method permdisp and metric chebyshev\n"
     ]
    },
    {
     "name": "stderr",
     "output_type": "stream",
     "text": [
      "/home/lauro/anaconda3/envs/qiime2-2022.2/lib/python3.8/site-packages/skbio/stats/ordination/_principal_coordinate_analysis.py:143: RuntimeWarning: The result contains negative eigenvalues. Please compare their magnitude with the magnitude of some of the largest positive eigenvalues. If the negative ones are smaller, it's probably safe to ignore them, but if they are large in magnitude, the results won't be useful. See the Notes section for more details. The smallest eigenvalue is -122757513.94196318 and the largest is 2474181328.8748775.\n",
      "  warn(\n"
     ]
    },
    {
     "name": "stderr",
     "output_type": "stream",
     "text": [
      "/home/lauro/anaconda3/envs/qiime2-2022.2/lib/python3.8/site-packages/skbio/stats/ordination/_principal_coordinate_analysis.py:143: RuntimeWarning: The result contains negative eigenvalues. Please compare their magnitude with the magnitude of some of the largest positive eigenvalues. If the negative ones are smaller, it's probably safe to ignore them, but if they are large in magnitude, the results won't be useful. See the Notes section for more details. The smallest eigenvalue is -122757513.94196318 and the largest is 2474181328.8748775.\n",
      "  warn(\n"
     ]
    },
    {
     "name": "stdout",
     "output_type": "stream",
     "text": [
      "Calculating beta group significance with method permdisp and metric jaccard\n"
     ]
    },
    {
     "data": {
      "text/plain": [
       "<Figure size 432x288 with 0 Axes>"
      ]
     },
     "metadata": {},
     "output_type": "display_data"
    }
   ],
   "source": [
    "methods = ('permanova', 'anosim', 'permdisp')\n",
    "for method in methods:\n",
    "    for metric, beta_diversity in beta_diversities.items():\n",
    "        print(f'Calculating beta group significance with method {method} and metric {metric}')\n",
    "        beta_view = beta_group_significance(distance_matrix=beta_diversity, \n",
    "                                            metadata=metadata_qa.get_column(class_col), \n",
    "                                            pairwise=True, method=method).visualization\n",
    "        view_name = os.path.join(qiime_folder, f'beta-group-significance-{metric}-{method}.qzv')\n",
    "        beta_view.save(view_name)"
   ]
  },
  {
   "cell_type": "markdown",
   "id": "c0de85cf",
   "metadata": {
    "papermill": {
     "duration": 0.090007,
     "end_time": "2022-10-14T18:19:04.391348",
     "exception": false,
     "start_time": "2022-10-14T18:19:04.301341",
     "status": "completed"
    },
    "tags": []
   },
   "source": [
    "### Beta group Rarefaction\n",
    "\n",
    "- [diversity beta_rarefaction](https://docs.qiime2.org/2022.8/plugins/available/diversity/beta-rarefaction/): Repeatedly rarefy a feature table to compare beta diversity results within a given rarefaction depth.  For a given beta diversity metric, this visualizer will provide: an Emperor jackknifed PCoA plot, samples clustered by UPGMA or neighbor joining with support calculation, and a heatmap showing the correlation between rarefaction trials of that beta diversity metric."
   ]
  }
 ],
 "metadata": {
  "celltoolbar": "Edit Metadata",
  "kernelspec": {
   "display_name": "Python 3 (ipykernel)",
   "language": "python",
   "name": "python3"
  },
  "language_info": {
   "codemirror_mode": {
    "name": "ipython",
    "version": 3
   },
   "file_extension": ".py",
   "mimetype": "text/x-python",
   "name": "python",
   "nbconvert_exporter": "python",
   "pygments_lexer": "ipython3",
   "version": "3.8.12"
  },
  "papermill": {
   "default_parameters": {},
   "duration": 212.71716,
   "end_time": "2022-10-14T18:19:05.625960",
   "environment_variables": {},
   "exception": null,
   "input_path": "nb-templates/step-diversity-analysis.ipynb",
   "output_path": "/home/lauro/nupeb/rede-micro/redemicro-ana-flavia-nutri/experiments/ana-flavia-STD-NCxSTD-NR-trim/nb-executed-steps/step-diversity-analysis-ana-flavia-STD-NCxSTD-NR-trim.ipynb",
   "parameters": {
    "base_dir": "/home/lauro/nupeb/rede-micro/redemicro-ana-flavia-nutri",
    "class_col": "group-id",
    "classifier_file": "/home/lauro/nupeb/dados_brutos_rede_genoma/16S_classifiers_qiime2/silva-138-99-nb-classifier.qza",
    "experiment_name": "ana-flavia-STD-NCxSTD-NR-trim",
    "manifest_file": "/home/lauro/nupeb/rede-micro/redemicro-ana-flavia-nutri/data/raw/manifest/manifest-ana-flavia-STD-NCxSTD-NR.csv",
    "metadata_file": "/home/lauro/nupeb/rede-micro/redemicro-ana-flavia-nutri/data/raw/metadata/metadata-ana-flavia-STD-NCxSTD-NR.tsv",
    "overlap": 12,
    "phred": 20,
    "replace_files": false,
    "threads": 6,
    "trim": {
     "forward_primer": "CCTACGGGRSGCAGCAG",
     "overlap": 8,
     "reverse_primer": "GGACTACHVGGGTWTCTAAT"
    },
    "trunc_f": 0,
    "trunc_r": 0
   },
   "start_time": "2022-10-14T18:15:32.908800",
   "version": "2.3.4"
  }
 },
 "nbformat": 4,
 "nbformat_minor": 5
}