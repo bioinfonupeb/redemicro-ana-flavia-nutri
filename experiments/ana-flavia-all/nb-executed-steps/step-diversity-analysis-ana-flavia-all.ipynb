{
 "cells": [
  {
   "cell_type": "markdown",
   "id": "15bcfa06",
   "metadata": {
    "papermill": {
     "duration": 0.028322,
     "end_time": "2024-01-29T20:13:06.626265",
     "exception": false,
     "start_time": "2024-01-29T20:13:06.597943",
     "status": "completed"
    },
    "tags": []
   },
   "source": [
    " \n",
    "# Alpha and Beta Diversity\n",
    "\n",
    "Different higher-level measures are often used to describe the microbiome in a sample. These do not provide information on changes in the abundance of specific taxa but allow us to access a broader change or difference in the composition of microorganisms. Alpha and beta diversity are examples of such measures.\n",
    "\n",
    "Different measures exist to estimate diversity within a single sample, jointly called alpha diversity. The different measures reflect the richness (number) or distribution (evenness) of a microbial sample or aim to reflect a combination of both properties.\n",
    "\n",
    "Rarefaction curves are often used when calculating alpha diversity indices because increasing numbers of sequenced taxa allow increasingly accurate estimates of total population diversity. Rarefaction curves can therefore be used to estimate the full sample richness, as compared to the observed sample richness.\n",
    "\n",
    "While alpha diversity is a measure of microbiome diversity applicable to a single sample, beta diversity is a measure of the similarity or dissimilarity of two communities. As for alpha diversity, many indices exist, each reflecting different aspects of community heterogeneity. Key differences relate to how the indices value variation in rare species if they consider presence/absence only or incorporate abundance, and how they interpret shared absence. Bray-Curtis dissimilarity is a popular measure that considers both size (overall abundance per sample) and shape (abundance of each taxon) of the communities (Bray, 1957). Beta diversity is an essential measure for many popular statistical methods in ecology, such as ordination-based methods, and is widely used for studying the association between environmental variables and microbial composition.\n",
    "\n",
    "In summary, alpha diversity measures can be seen as a summary statistic of a single population (within-sample diversity), while beta diversity measures are estimates of similarity or dissimilarity between populations (between samples).\n",
    "\n",
    "**Source**: (https://biomcare.com/info/key-terms-in-microbiome-projects/)"
   ]
  },
  {
   "cell_type": "markdown",
   "id": "0e7f2330",
   "metadata": {
    "ExecuteTime": {
     "end_time": "2022-09-22T19:36:33.828188Z",
     "start_time": "2022-09-22T19:36:33.817323Z"
    },
    "papermill": {
     "duration": 0.030247,
     "end_time": "2024-01-29T20:13:06.844986",
     "exception": false,
     "start_time": "2024-01-29T20:13:06.814739",
     "status": "completed"
    },
    "tags": []
   },
   "source": [
    "### STEP : Diversity Analysis\n",
    "\n",
    "Using QIIME2 to create diversity analisys graphs and calculations.\n",
    "\n",
    "- [QIIME2 Workflow Overview](https://docs.qiime2.org/2022.8/tutorials/overview/)\n",
    "\n",
    "\n",
    "#### Methods\n",
    "- [diversity](https://docs.qiime2.org/2022.8/plugins/available/diversity/)\n",
    "- [diversity alpha](https://docs.qiime2.org/2022.8/plugins/available/diversity/alpha/)\n",
    "- [diversity alpha_phylogenetic](https://docs.qiime2.org/2022.8/plugins/available/diversity/alpha-phylogenetic/)\n",
    "- [diversity beta](https://docs.qiime2.org/2022.8/plugins/available/diversity/beta/)\n",
    "- [diversity core_metrics](https://docs.qiime2.org/2022.8/plugins/available/diversity/core-metrics/)\n",
    "- [diversity alpha_group_significance](https://docs.qiime2.org/2022.8/plugins/available/diversity/alpha-group-significance/)\n",
    "- [diversity beta_group_significance](https://docs.qiime2.org/2022.8/plugins/available/diversity/beta-group-significance/)\n",
    "- [feature_table core_features](https://docs.qiime2.org/2022.8/plugins/available/feature-table/core-features/)\n",
    "- [feature_table summarize](https://docs.qiime2.org/2022.8/plugins/available/feature-table/summarize/)\n",
    "- [taxa filter-table](https://docs.qiime2.org/2022.8/plugins/available/taxa/filter-table/)\n",
    "- [taxa collapse](https://docs.qiime2.org/2022.8/plugins/available/taxa/collapse/)"
   ]
  },
  {
   "cell_type": "markdown",
   "id": "843debbf",
   "metadata": {
    "papermill": {
     "duration": 0.029655,
     "end_time": "2024-01-29T20:13:06.904478",
     "exception": false,
     "start_time": "2024-01-29T20:13:06.874823",
     "status": "completed"
    },
    "tags": []
   },
   "source": [
    "## Setup and settings"
   ]
  },
  {
   "cell_type": "code",
   "execution_count": 1,
   "id": "965e28e5",
   "metadata": {
    "ExecuteTime": {
     "end_time": "2024-01-31T18:24:08.427604Z",
     "start_time": "2024-01-31T18:24:01.677387Z"
    },
    "execution": {
     "iopub.execute_input": "2024-01-29T20:13:06.966623Z",
     "iopub.status.busy": "2024-01-29T20:13:06.965922Z",
     "iopub.status.idle": "2024-01-29T20:13:19.031304Z",
     "shell.execute_reply": "2024-01-29T20:13:19.030525Z"
    },
    "papermill": {
     "duration": 12.099392,
     "end_time": "2024-01-29T20:13:19.033962",
     "exception": false,
     "start_time": "2024-01-29T20:13:06.934570",
     "status": "completed"
    },
    "tags": []
   },
   "outputs": [],
   "source": [
    "# Importing packages\n",
    "import os\n",
    "import pandas as pd\n",
    "from qiime2 import Artifact\n",
    "from qiime2 import Visualization\n",
    "from qiime2 import Metadata\n",
    "\n",
    "from qiime2.plugins.phylogeny.pipelines import align_to_tree_mafft_fasttree\n",
    "\n",
    "from qiime2.plugins.diversity.pipelines import alpha\n",
    "from qiime2.plugins.diversity.pipelines import beta\n",
    "from qiime2.plugins.diversity.pipelines import core_metrics\n",
    "from qiime2.plugins.diversity.pipelines import alpha_phylogenetic\n",
    "\n",
    "from qiime2.plugins.diversity.visualizers import alpha_group_significance\n",
    "from qiime2.plugins.diversity.visualizers import beta_group_significance\n",
    "from qiime2.plugins.diversity.visualizers import alpha_correlation\n",
    "from qiime2.plugins.diversity.visualizers import beta_rarefaction\n",
    "\n",
    "from qiime2.plugins.taxa.methods import filter_table\n",
    "from qiime2.plugins.taxa.methods import collapse\n",
    "\n",
    "from qiime2.plugins.feature_table.visualizers import tabulate_seqs\n",
    "from qiime2.plugins.feature_table.visualizers import summarize\n",
    "from qiime2.plugins.feature_table.visualizers import core_features\n",
    "from qiime2.plugins.diversity.pipelines import core_metrics_phylogenetic\n",
    "\n",
    "from qiime2.plugins.feature_table.methods import filter_samples\n",
    "from qiime2.plugins.feature_table.methods import filter_seqs\n",
    "\n",
    "from qiime2.plugins.alignment.methods import mafft\n",
    "\n",
    "\n",
    "import matplotlib.pyplot as plt\n",
    "\n",
    "import unifrac\n",
    "\n",
    "%matplotlib inline"
   ]
  },
  {
   "cell_type": "markdown",
   "id": "530ceb60",
   "metadata": {
    "papermill": {
     "duration": 0.018623,
     "end_time": "2024-01-29T20:13:19.078274",
     "exception": false,
     "start_time": "2024-01-29T20:13:19.059651",
     "status": "completed"
    },
    "tags": []
   },
   "source": [
    "### Receiving the parameters\n",
    "\n",
    "The following cell can receive parameters using the [papermill](https://papermill.readthedocs.io/en/latest/) tool."
   ]
  },
  {
   "cell_type": "code",
   "execution_count": 2,
   "id": "18d874ea",
   "metadata": {
    "ExecuteTime": {
     "end_time": "2024-01-31T18:24:08.433282Z",
     "start_time": "2024-01-31T18:24:08.430227Z"
    },
    "execution": {
     "iopub.execute_input": "2024-01-29T20:13:19.116071Z",
     "iopub.status.busy": "2024-01-29T20:13:19.115610Z",
     "iopub.status.idle": "2024-01-29T20:13:19.120623Z",
     "shell.execute_reply": "2024-01-29T20:13:19.119846Z"
    },
    "papermill": {
     "duration": 0.025663,
     "end_time": "2024-01-29T20:13:19.122170",
     "exception": false,
     "start_time": "2024-01-29T20:13:19.096507",
     "status": "completed"
    },
    "tags": [
     "parameters"
    ]
   },
   "outputs": [],
   "source": [
    "base_dir = os.path.join('/', 'home')\n",
    "metadata_file = os.path.abspath(os.path.join(base_dir, 'data', 'metadatada.tsv'))\n",
    "experiment_name = ''\n",
    "class_col = ''\n",
    "replace_files = False"
   ]
  },
  {
   "cell_type": "code",
   "execution_count": 3,
   "id": "202f47c9",
   "metadata": {
    "ExecuteTime": {
     "end_time": "2024-01-31T18:24:08.446055Z",
     "start_time": "2024-01-31T18:24:08.434653Z"
    },
    "execution": {
     "iopub.execute_input": "2024-01-29T20:13:19.158924Z",
     "iopub.status.busy": "2024-01-29T20:13:19.158526Z",
     "iopub.status.idle": "2024-01-29T20:13:19.165726Z",
     "shell.execute_reply": "2024-01-29T20:13:19.164850Z"
    },
    "papermill": {
     "duration": 0.029031,
     "end_time": "2024-01-29T20:13:19.168954",
     "exception": false,
     "start_time": "2024-01-29T20:13:19.139923",
     "status": "completed"
    },
    "tags": [
     "injected-parameters"
    ]
   },
   "outputs": [],
   "source": [
    "# Parameters\n",
    "PAPERMILL_INPUT_PATH = \"nb-templates/step-diversity-analysis2.ipynb\"\n",
    "PAPERMILL_OUTPUT_PATH = \"/home/lauro/nupeb/rede-micro/redemicro-ana-flavia-nutri/experiments/ana-flavia-all/nb-executed-steps/step-diversity-analysis-ana-flavia-all.ipynb\"\n",
    "experiment_name = \"ana-flavia-all\"\n",
    "base_dir = \"/home/lauro/nupeb/rede-micro/redemicro-ana-flavia-nutri\"\n",
    "manifest_file = \"/home/lauro/nupeb/rede-micro/redemicro-ana-flavia-nutri/data/raw/manifest-all-ana.csv\"\n",
    "metadata_file = \"/home/lauro/nupeb/rede-micro/redemicro-ana-flavia-nutri/data/raw/metadata-all-ana.tsv\"\n",
    "class_col = \"group-id\"\n",
    "classifier_file = \"/home/lauro/nupeb/rede-micro/models/silva-138-99-nb-classifier.qza\"\n",
    "top_n = 20\n",
    "replace_files = False\n",
    "phred = 20\n",
    "trunc_f = 0\n",
    "trunc_r = 0\n",
    "overlap = 12\n",
    "threads = 6\n",
    "trim = {\n",
    "    \"overlap\": 8,\n",
    "    \"forward_primer\": \"CCTACGGGRSGCAGCAG\",\n",
    "    \"reverse_primer\": \"GGACTACHVGGGTWTCTAAT\",\n",
    "}\n"
   ]
  },
  {
   "cell_type": "code",
   "execution_count": 4,
   "id": "f38617d9",
   "metadata": {
    "ExecuteTime": {
     "end_time": "2024-01-31T18:24:08.458084Z",
     "start_time": "2024-01-31T18:24:08.447874Z"
    },
    "execution": {
     "iopub.execute_input": "2024-01-29T20:13:19.212346Z",
     "iopub.status.busy": "2024-01-29T20:13:19.211860Z",
     "iopub.status.idle": "2024-01-29T20:13:19.217853Z",
     "shell.execute_reply": "2024-01-29T20:13:19.216996Z"
    },
    "papermill": {
     "duration": 0.026972,
     "end_time": "2024-01-29T20:13:19.219596",
     "exception": false,
     "start_time": "2024-01-29T20:13:19.192624",
     "status": "completed"
    },
    "tags": []
   },
   "outputs": [],
   "source": [
    "experiment_folder = os.path.abspath(os.path.join(base_dir, 'experiments', experiment_name))\n",
    "img_folder = os.path.abspath(os.path.join(experiment_folder, 'imgs'))"
   ]
  },
  {
   "cell_type": "markdown",
   "id": "ea9b90fb",
   "metadata": {
    "papermill": {
     "duration": 0.017988,
     "end_time": "2024-01-29T20:13:19.255528",
     "exception": false,
     "start_time": "2024-01-29T20:13:19.237540",
     "status": "completed"
    },
    "tags": []
   },
   "source": [
    "### Defining names, paths and flags"
   ]
  },
  {
   "cell_type": "code",
   "execution_count": 5,
   "id": "45727eef",
   "metadata": {
    "ExecuteTime": {
     "end_time": "2024-01-31T18:24:08.477075Z",
     "start_time": "2024-01-31T18:24:08.459351Z"
    },
    "execution": {
     "iopub.execute_input": "2024-01-29T20:13:19.292858Z",
     "iopub.status.busy": "2024-01-29T20:13:19.292368Z",
     "iopub.status.idle": "2024-01-29T20:13:19.305197Z",
     "shell.execute_reply": "2024-01-29T20:13:19.304477Z"
    },
    "papermill": {
     "duration": 0.033509,
     "end_time": "2024-01-29T20:13:19.306882",
     "exception": false,
     "start_time": "2024-01-29T20:13:19.273373",
     "status": "completed"
    },
    "tags": []
   },
   "outputs": [],
   "source": [
    "# QIIME2 Artifacts folder\n",
    "qiime_folder = os.path.join(experiment_folder, 'qiime-artifacts')\n",
    "\n",
    "# Input - DADA2 Artifacts\n",
    "dada2_tabs_path = os.path.join(qiime_folder, 'dada2-tabs.qza')\n",
    "dada2_reps_path = os.path.join(qiime_folder, 'dada2-reps.qza')\n",
    "dada2_stat_path = os.path.join(qiime_folder, 'dada2-stat.qza')\n",
    "\n",
    "# Input - Taxonaomic Artifacts\n",
    "taxonomy_path = os.path.join(qiime_folder, 'metatax.qza')\n",
    "\n",
    "# Create folder to store Alpha files\n",
    "alpha_path = os.path.join(qiime_folder, 'alpha-analysis')\n",
    "if not os.path.exists(alpha_path):\n",
    "    os.makedirs(alpha_path)\n",
    "    print(f'The new directory is created in {alpha_path}')\n",
    "    \n",
    "# Create folder to store Beta files\n",
    "beta_path = os.path.join(qiime_folder, 'beta-analysis')\n",
    "if not os.path.exists(beta_path):\n",
    "    os.makedirs(beta_path)\n",
    "    print(f'The new directory is created in {beta_path}')\n",
    "\n",
    "# Output -Diversity Artifacts\n",
    "alpha_diversity_path = os.path.join(alpha_path, 'alpha-diversity.qza')\n",
    "alpha_diversity_view_path = os.path.join(alpha_path, 'alpha-diversity.qzv')\n",
    "beta_diversity_path = os.path.join(beta_path, 'beta-diversity.qza')\n",
    "beta_diversity_view_path = os.path.join(beta_path, 'beta-diversity.qzv')"
   ]
  },
  {
   "cell_type": "code",
   "execution_count": 6,
   "id": "601ae263",
   "metadata": {
    "ExecuteTime": {
     "end_time": "2024-01-31T18:24:08.490085Z",
     "start_time": "2024-01-31T18:24:08.478747Z"
    },
    "execution": {
     "iopub.execute_input": "2024-01-29T20:13:19.347340Z",
     "iopub.status.busy": "2024-01-29T20:13:19.347010Z",
     "iopub.status.idle": "2024-01-29T20:13:19.355157Z",
     "shell.execute_reply": "2024-01-29T20:13:19.354147Z"
    },
    "papermill": {
     "duration": 0.029256,
     "end_time": "2024-01-29T20:13:19.356812",
     "exception": false,
     "start_time": "2024-01-29T20:13:19.327556",
     "status": "completed"
    },
    "tags": []
   },
   "outputs": [],
   "source": [
    "def filter_and_collapse(tab, seqs, tax, meta, lvl, exclude=True, exclude_list='uncultured,unidentified,metagenome'):\n",
    "    from qiime2.plugins.taxa.methods import collapse\n",
    "    from qiime2.plugins.taxa.methods import filter_table\n",
    "    from qiime2.plugins.feature_table.methods import filter_seqs\n",
    "    from qiime2.plugins.feature_table.visualizers import summarize\n",
    "    \n",
    "    to_include = ('d', 'p', 'c', 'o', 'f', 'g', 's')[lvl-1]\n",
    "    to_include += '__'\n",
    "    to_exclude = exclude_list if exclude else None\n",
    "    \n",
    "    filtered_tabs = filter_table(\n",
    "        table=tab, \n",
    "        taxonomy=tax,\n",
    "        include=to_include,\n",
    "        exclude=to_exclude,\n",
    "        mode='contains').filtered_table\n",
    "    \n",
    "    filtered_seqs = filter_seqs(\n",
    "        data = seqs,\n",
    "        table = filtered_tabs,\n",
    "    ).filtered_data\n",
    "    \n",
    "    collapsed_table = collapse(table=filtered_tabs, taxonomy=tax, level=lvl).collapsed_table\n",
    "    collapsed_table_view = summarize(table=collapsed_table, sample_metadata=meta).visualization\n",
    "    \n",
    "    return collapsed_table, collapsed_table_view, filtered_seqs"
   ]
  },
  {
   "cell_type": "markdown",
   "id": "0999a1b2",
   "metadata": {
    "papermill": {
     "duration": 0.01866,
     "end_time": "2024-01-29T20:13:19.397284",
     "exception": false,
     "start_time": "2024-01-29T20:13:19.378624",
     "status": "completed"
    },
    "tags": []
   },
   "source": [
    "## Step execution\n",
    "\n",
    "### Load input files\n",
    "\n",
    "This Step import the QIIME2 `FeatureTable[Frequency]` Artifact and the `Metadata` file."
   ]
  },
  {
   "cell_type": "code",
   "execution_count": 7,
   "id": "8f299d1a",
   "metadata": {
    "ExecuteTime": {
     "end_time": "2024-01-31T18:24:09.806970Z",
     "start_time": "2024-01-31T18:24:08.491776Z"
    },
    "execution": {
     "iopub.execute_input": "2024-01-29T20:13:19.443913Z",
     "iopub.status.busy": "2024-01-29T20:13:19.443437Z",
     "iopub.status.idle": "2024-01-29T20:13:21.138608Z",
     "shell.execute_reply": "2024-01-29T20:13:21.137853Z"
    },
    "papermill": {
     "duration": 1.72584,
     "end_time": "2024-01-29T20:13:21.141720",
     "exception": false,
     "start_time": "2024-01-29T20:13:19.415880",
     "status": "completed"
    },
    "tags": []
   },
   "outputs": [],
   "source": [
    "#Load Metadata\n",
    "metadata_qa = Metadata.load(metadata_file)\n",
    "\n",
    "#Load FeatureTable[Frequency]\n",
    "tabs = Artifact.load(dada2_tabs_path)\n",
    "tabs_df = tabs.view(Metadata).to_dataframe().T\n",
    "\n",
    "# FeatureData[Sequence]\n",
    "reps = Artifact.load(dada2_reps_path)\n",
    "\n",
    "# FeatureData[Taxonomy]\n",
    "tax = Artifact.load(taxonomy_path)"
   ]
  },
  {
   "cell_type": "code",
   "execution_count": 8,
   "id": "c8dfe530",
   "metadata": {
    "ExecuteTime": {
     "end_time": "2024-01-31T18:24:11.052590Z",
     "start_time": "2024-01-31T18:24:09.809420Z"
    },
    "execution": {
     "iopub.execute_input": "2024-01-29T20:13:21.215715Z",
     "iopub.status.busy": "2024-01-29T20:13:21.215455Z",
     "iopub.status.idle": "2024-01-29T20:13:22.709642Z",
     "shell.execute_reply": "2024-01-29T20:13:22.708924Z"
    },
    "papermill": {
     "duration": 1.54191,
     "end_time": "2024-01-29T20:13:22.712762",
     "exception": false,
     "start_time": "2024-01-29T20:13:21.170852",
     "status": "completed"
    },
    "tags": []
   },
   "outputs": [
    {
     "name": "stdout",
     "output_type": "stream",
     "text": [
      "{'min_frequency': 0, 'max_frequency': None, 'min_features': 0, 'max_features': None, 'metadata': Metadata\n",
      "--------\n",
      "41 IDs x 3 columns\n",
      "sample-name: ColumnProperties(type='categorical')\n",
      "group-id:    ColumnProperties(type='categorical')\n",
      "group-desc:  ColumnProperties(type='categorical')\n",
      "\n",
      "Call to_dataframe() for a tabular representation., 'where': None, 'exclude_ids': False, 'filter_empty_features': True, 'table': 2732 x 74 <class 'biom.table.Table'> with 12512 nonzero entries (6% dense)}\n",
      "{'min_frequency': 0, 'max_frequency': None, 'min_features': 0, 'max_features': None, 'metadata': Metadata\n",
      "--------\n",
      "41 IDs x 3 columns\n",
      "sample-name: ColumnProperties(type='categorical')\n",
      "group-id:    ColumnProperties(type='categorical')\n",
      "group-desc:  ColumnProperties(type='categorical')\n",
      "\n",
      "Call to_dataframe() for a tabular representation., 'where': None, 'exclude_ids': False, 'filter_empty_features': True, 'table': 2732 x 74 <class 'biom.table.Table'> with 12512 nonzero entries (6% dense)}\n",
      "{'metadata': None, 'where': None, 'exclude_ids': False, 'data': c688e3b1ada46ed57f5b7e7e0d56664f    (((T)), ((G)), ((A)), ((G)), ((G)), ((A)), ((A...\n",
      "bc798de4a9acd3ff7ba51c244523be14    (((T)), ((G)), ((A)), ((G)), ((G)), ((A)), ((A...\n",
      "fca5b1ccd94b107a3ddf3e99feaafb6f    (((T)), ((G)), ((A)), ((G)), ((G)), ((A)), ((A...\n",
      "5ba9e679e692fcbf933c554317e03c5f    (((T)), ((A)), ((G)), ((G)), ((G)), ((A)), ((A...\n",
      "04581eba9e6fd12787fb5948fcef030f    (((T)), ((G)), ((A)), ((G)), ((G)), ((A)), ((A...\n",
      "                                                          ...                        \n",
      "dbc83a2f59a61f2cc57971a85718406b    (((T)), ((G)), ((G)), ((G)), ((G)), ((A)), ((A...\n",
      "4393f0be1354f7198d1969c44d34d44a    (((T)), ((G)), ((A)), ((G)), ((G)), ((A)), ((A...\n",
      "a86e1aaa4715133f8fa2c0f52e03e6d7    (((T)), ((G)), ((G)), ((G)), ((G)), ((A)), ((A...\n",
      "aa37170c6d59f9077a2644f8c25df05d    (((T)), ((G)), ((G)), ((G)), ((G)), ((A)), ((A...\n",
      "9c3f20cb7568feda60cc7776400d8d64    (((G)), ((A)), ((A)), ((A)), ((T)), ((G)), ((C...\n",
      "Length: 2732, dtype: object, 'table': 1967 x 41 <class 'biom.table.Table'> with 6690 nonzero entries (8% dense)}\n",
      "{'metadata': None, 'where': None, 'exclude_ids': False, 'data': c688e3b1ada46ed57f5b7e7e0d56664f    (((T)), ((G)), ((A)), ((G)), ((G)), ((A)), ((A...\n",
      "bc798de4a9acd3ff7ba51c244523be14    (((T)), ((G)), ((A)), ((G)), ((G)), ((A)), ((A...\n",
      "fca5b1ccd94b107a3ddf3e99feaafb6f    (((T)), ((G)), ((A)), ((G)), ((G)), ((A)), ((A...\n",
      "5ba9e679e692fcbf933c554317e03c5f    (((T)), ((A)), ((G)), ((G)), ((G)), ((A)), ((A...\n",
      "04581eba9e6fd12787fb5948fcef030f    (((T)), ((G)), ((A)), ((G)), ((G)), ((A)), ((A...\n",
      "                                                          ...                        \n",
      "dbc83a2f59a61f2cc57971a85718406b    (((T)), ((G)), ((G)), ((G)), ((G)), ((A)), ((A...\n",
      "4393f0be1354f7198d1969c44d34d44a    (((T)), ((G)), ((A)), ((G)), ((G)), ((A)), ((A...\n",
      "a86e1aaa4715133f8fa2c0f52e03e6d7    (((T)), ((G)), ((G)), ((G)), ((G)), ((A)), ((A...\n",
      "aa37170c6d59f9077a2644f8c25df05d    (((T)), ((G)), ((G)), ((G)), ((G)), ((A)), ((A...\n",
      "9c3f20cb7568feda60cc7776400d8d64    (((G)), ((A)), ((A)), ((A)), ((T)), ((G)), ((C...\n",
      "Length: 2732, dtype: object, 'table': 1967 x 41 <class 'biom.table.Table'> with 6690 nonzero entries (8% dense)}\n"
     ]
    }
   ],
   "source": [
    "# Filter FeatureTable[Frequency | RelativeFrequency | PresenceAbsence | Composition] based on Metadata sample ID values\n",
    "tabs = filter_samples(\n",
    "    table=tabs,\n",
    "    metadata=metadata_qa,\n",
    ").filtered_table\n",
    "# Filter SampleData[SequencesWithQuality | PairedEndSequencesWithQuality | JoinedSequencesWithQuality] based on Metadata sample ID values; returns FeatureData[Sequence | AlignedSequence]\n",
    "reps = filter_seqs(\n",
    "    data=reps,\n",
    "    table=tabs,\n",
    ").filtered_data"
   ]
  },
  {
   "cell_type": "markdown",
   "id": "9f43843a",
   "metadata": {
    "ExecuteTime": {
     "end_time": "2022-09-22T22:48:07.523952Z",
     "start_time": "2022-09-22T22:48:07.517565Z"
    },
    "papermill": {
     "duration": 0.073209,
     "end_time": "2024-01-29T20:13:22.813361",
     "exception": false,
     "start_time": "2024-01-29T20:13:22.740152",
     "status": "completed"
    },
    "tags": []
   },
   "source": [
    "## Alpha diversity analysis\n",
    "\n",
    "#### Reference\n",
    "- [The Use and Types of Alpha-Diversity Metrics in Microbial NGS](https://www.cd-genomics.com/microbioseq/the-use-and-types-of-alpha-diversity-metrics-in-microbial-ngs.html)\n",
    "- [Alpha diversity metrics](http://scikit-bio.org/docs/0.2.0/generated/skbio.diversity.alpha.html)\n",
    "\n",
    "#### Methods\n",
    "- [diversity alpha](https://docs.qiime2.org/2022.8/plugins/available/diversity/alpha/): Computes a user-specified alpha diversity metric for all samples in a\n",
    "feature table.\n",
    "- [diversity alpha_phylogenetic](https://docs.qiime2.org/2022.8/plugins/available/diversity/alpha-phylogenetic/): Computes a user-specified phylogenetic alpha diversity metric for all\n",
    "samples in a feature table.\n",
    "- [diversity alpha_correlation](https://docs.qiime2.org/2022.8/plugins/available/diversity/alpha-correlation/): Determine whether numeric sample metadata columns are correlated with alpha diversity.\n",
    "- [diversity alpha_group_significance](https://docs.qiime2.org/2022.8/plugins/available/diversity/alpha-group-significance/): Visually and statistically compare groups of alpha diversity values."
   ]
  },
  {
   "cell_type": "markdown",
   "id": "606b9c75",
   "metadata": {
    "papermill": {
     "duration": 0.020001,
     "end_time": "2024-01-29T20:13:22.857422",
     "exception": false,
     "start_time": "2024-01-29T20:13:22.837421",
     "status": "completed"
    },
    "tags": []
   },
   "source": [
    "### Compute Alpha Diversity vectors\n",
    "- [diversity alpha](https://docs.qiime2.org/2022.8/plugins/available/diversity/alpha/): Computes a user-specified alpha diversity metric for all samples in a feature table.\n",
    "- [Alpha diversity metrics](http://scikit-bio.org/docs/0.2.0/generated/skbio.diversity.alpha.html)\n",
    " - Choices: ('ace', 'berger_parker_d', 'brillouin_d', 'chao1', 'chao1_ci', 'dominance', 'doubles', 'enspie', 'esty_ci', 'fisher_alpha', 'gini_index', 'goods_coverage', 'heip_e', 'kempton_taylor_q', 'lladser_pe', 'margalef', 'mcintosh_d', 'mcintosh_e', 'menhinick', 'michaelis_menten_fit', 'observed_features', 'osd', 'pielou_e', 'robbins', 'shannon', 'simpson', 'simpson_e', 'singles', 'strong')"
   ]
  },
  {
   "cell_type": "code",
   "execution_count": 9,
   "id": "556e5264",
   "metadata": {
    "ExecuteTime": {
     "end_time": "2024-01-31T18:24:11.795443Z",
     "start_time": "2024-01-31T18:24:11.054893Z"
    },
    "execution": {
     "iopub.execute_input": "2024-01-29T20:13:22.897927Z",
     "iopub.status.busy": "2024-01-29T20:13:22.897603Z",
     "iopub.status.idle": "2024-01-29T20:13:23.359776Z",
     "shell.execute_reply": "2024-01-29T20:13:23.359100Z"
    },
    "papermill": {
     "duration": 0.48566,
     "end_time": "2024-01-29T20:13:23.362535",
     "exception": false,
     "start_time": "2024-01-29T20:13:22.876875",
     "status": "completed"
    },
    "tags": []
   },
   "outputs": [
    {
     "name": "stdout",
     "output_type": "stream",
     "text": [
      "Calculating alpha diversity: chao1\n",
      "{'metric': 'chao1', 'table': <artifact: FeatureTable[Frequency] uuid: d48fcd0e-63b8-4236-b0b9-cbd25b64f8d8>}\n",
      "{'metric': 'chao1', 'table': 1967 x 41 <class 'biom.table.Table'> with 6690 nonzero entries (8% dense)}\n",
      "{'metric': 'chao1', 'table': 1967 x 41 <class 'biom.table.Table'> with 6690 nonzero entries (8% dense)}\n",
      "DONE: Calculating alpha diversity: chao1\n",
      "Calculating alpha diversity: chao1_ci\n",
      "{'metric': 'chao1_ci', 'table': <artifact: FeatureTable[Frequency] uuid: d48fcd0e-63b8-4236-b0b9-cbd25b64f8d8>}\n",
      "{'metric': 'chao1_ci', 'table': 1967 x 41 <class 'biom.table.Table'> with 6690 nonzero entries (8% dense)}\n",
      "{'metric': 'chao1_ci', 'table': 1967 x 41 <class 'biom.table.Table'> with 6690 nonzero entries (8% dense)}\n",
      "DONE: Calculating alpha diversity: chao1_ci\n",
      "Calculating alpha diversity: observed_features\n",
      "{'metric': 'observed_features', 'table': <artifact: FeatureTable[Frequency] uuid: d48fcd0e-63b8-4236-b0b9-cbd25b64f8d8>}\n",
      "{'table': 1967 x 41 <class 'biom.table.Table'> with 6690 nonzero entries (8% dense)}\n",
      "{'table': 1967 x 41 <class 'biom.table.Table'> with 6690 nonzero entries (8% dense)}\n",
      "DONE: Calculating alpha diversity: observed_features\n",
      "Calculating alpha diversity: shannon\n",
      "{'metric': 'shannon', 'table': <artifact: FeatureTable[Frequency] uuid: d48fcd0e-63b8-4236-b0b9-cbd25b64f8d8>}\n",
      "{'drop_undefined_samples': False, 'table': 1967 x 41 <class 'biom.table.Table'> with 6690 nonzero entries (8% dense)}\n",
      "{'drop_undefined_samples': False, 'table': 1967 x 41 <class 'biom.table.Table'> with 6690 nonzero entries (8% dense)}\n",
      "DONE: Calculating alpha diversity: shannon\n",
      "Calculating alpha diversity: simpson\n",
      "{'metric': 'simpson', 'table': <artifact: FeatureTable[Frequency] uuid: d48fcd0e-63b8-4236-b0b9-cbd25b64f8d8>}\n",
      "{'metric': 'simpson', 'table': 1967 x 41 <class 'biom.table.Table'> with 6690 nonzero entries (8% dense)}\n",
      "{'metric': 'simpson', 'table': 1967 x 41 <class 'biom.table.Table'> with 6690 nonzero entries (8% dense)}\n",
      "DONE: Calculating alpha diversity: simpson\n",
      "Calculating alpha diversity: simpson_e\n",
      "{'metric': 'simpson_e', 'table': <artifact: FeatureTable[Frequency] uuid: d48fcd0e-63b8-4236-b0b9-cbd25b64f8d8>}\n",
      "{'metric': 'simpson_e', 'table': 1967 x 41 <class 'biom.table.Table'> with 6690 nonzero entries (8% dense)}\n",
      "{'metric': 'simpson_e', 'table': 1967 x 41 <class 'biom.table.Table'> with 6690 nonzero entries (8% dense)}\n",
      "DONE: Calculating alpha diversity: simpson_e\n"
     ]
    }
   ],
   "source": [
    "metrics = ('ace', 'berger_parker_d', 'brillouin_d', 'chao1', 'chao1_ci', 'dominance', 'doubles', 'enspie', 'esty_ci', 'fisher_alpha', 'gini_index', 'goods_coverage', 'heip_e', 'kempton_taylor_q', 'lladser_pe', 'margalef', 'mcintosh_d', 'mcintosh_e', 'menhinick', 'michaelis_menten_fit', 'observed_features', 'osd', 'pielou_e', 'robbins', 'shannon', 'simpson', 'simpson_e', 'singles', 'strong')\n",
    "\n",
    "# Sugestão de valores para Alpha diversity\n",
    "# chao1 e observed_features (riqueza); shannon e simpson (diversidade - que levam em consideração riqueza e equitabilidade).\n",
    "metrics = ('chao1', 'chao1_ci', 'observed_features', 'shannon', 'simpson', 'simpson_e')\n",
    "alpha_diversities = dict()\n",
    "for metric in metrics:\n",
    "    print(f\"Calculating alpha diversity: {metric}\")\n",
    "    try:\n",
    "        alpha_diversity = alpha(table=tabs, metric=metric).alpha_diversity\n",
    "        alpha_diversities[metric] = alpha_diversity\n",
    "        # Save SampleData[AlphaDiversity] Artifact\n",
    "        file_path = os.path.join(alpha_path, f'alpha-values-{metric}.qza')\n",
    "        alpha_diversity.save(file_path)\n",
    "        print(f\"DONE: Calculating alpha diversity: {metric}\")\n",
    "    except Exception as e:\n",
    "        print(f\"ERROR: Calculating alpha diversity: {metric}\")\n",
    "        print(e)"
   ]
  },
  {
   "cell_type": "markdown",
   "id": "184bcb7b",
   "metadata": {
    "papermill": {
     "duration": 0.022101,
     "end_time": "2024-01-29T20:13:23.409917",
     "exception": false,
     "start_time": "2024-01-29T20:13:23.387816",
     "status": "completed"
    },
    "tags": []
   },
   "source": [
    "### Create Phylogenetic inference\n",
    "\n",
    "- [alignment align_to_tree_mafft_fasttree](https://docs.qiime2.org/2022.8/plugins/available/phylogeny/align-to-tree-mafft-fasttree/): Build a phylogenetic tree using fasttree and mafft alignment\n",
    "\n",
    "This pipeline will start by creating a sequence alignment using MAFFT,\n",
    "after which any alignment columns that are phylogenetically uninformative\n",
    "or ambiguously aligned will be removed (masked). The resulting masked\n",
    "alignment will be used to infer a phylogenetic tree and then subsequently\n",
    "rooted at its midpoint. Output files from each step of the pipeline will be\n",
    "saved. This includes both the unmasked and masked MAFFT alignment from\n",
    "q2-alignment methods, and both the rooted and unrooted phylogenies from\n",
    "q2-phylogeny methods.\n",
    "\n",
    "\n",
    "Returns\n",
    "- alignment : FeatureData[AlignedSequence] : The aligned sequences.\n",
    "- masked_alignment : FeatureData[AlignedSequence] : The masked alignment.\n",
    "- tree : Phylogeny[Unrooted] : The unrooted phylogenetic tree.\n",
    "- rooted_tree : Phylogeny[Rooted] : The rooted phylogenetic tree."
   ]
  },
  {
   "cell_type": "code",
   "execution_count": 10,
   "id": "9c8cfe47",
   "metadata": {
    "ExecuteTime": {
     "end_time": "2024-01-31T18:24:45.086447Z",
     "start_time": "2024-01-31T18:24:11.803810Z"
    },
    "execution": {
     "iopub.execute_input": "2024-01-29T20:13:23.455885Z",
     "iopub.status.busy": "2024-01-29T20:13:23.455350Z",
     "iopub.status.idle": "2024-01-29T20:13:57.717103Z",
     "shell.execute_reply": "2024-01-29T20:13:57.716486Z"
    },
    "papermill": {
     "duration": 34.287782,
     "end_time": "2024-01-29T20:13:57.719406",
     "exception": false,
     "start_time": "2024-01-29T20:13:23.431624",
     "status": "completed"
    },
    "tags": []
   },
   "outputs": [
    {
     "name": "stdout",
     "output_type": "stream",
     "text": [
      "{'n_threads': 6, 'mask_max_gap_frequency': 1.0, 'mask_min_conservation': 0.4, 'parttree': False, 'sequences': <artifact: FeatureData[Sequence] uuid: efcde79f-618e-45ac-801f-cd8bbc3b342e>}\n",
      "{'n_threads': 6, 'parttree': False, 'sequences': <q2_types.feature_data._format.DNAFASTAFormat object at 0x7f50368e2550>}\n",
      "{'n_threads': 6, 'parttree': False, 'sequences': <q2_types.feature_data._format.DNAFASTAFormat object at 0x7f50368e2550>}\n",
      "Running external command line application. This may print messages to stdout and/or stderr.\n",
      "The command being run is below. This command cannot be manually re-run as it will depend on temporary files that no longer exist.\n",
      "\n",
      "Command: mafft --preservecase --inputorder --thread 6 /tmp/qiime2-archive-4fc4p3rb/efcde79f-618e-45ac-801f-cd8bbc3b342e/data/dna-sequences.fasta\n",
      "\n"
     ]
    },
    {
     "name": "stderr",
     "output_type": "stream",
     "text": [
      "inputfile = orig\n",
      "1967 x 430 - 181 d\n",
      "nthread = 6\n",
      "nthreadpair = 6\n",
      "nthreadtb = 6\n",
      "ppenalty_ex = 0\n",
      "stacksize: 8192 kb\n",
      "generating a scoring matrix for nucleotide (dist=200) ... done\n",
      "Gap Penalty = -1.53, +0.00, +0.00\n",
      "\n",
      "\n",
      "\n",
      "Making a distance matrix ..\n",
      " 1901 / 1967 (thread    4)\n",
      "done.\n",
      "\n",
      "Constructing a UPGMA tree (efffree=0) ... \n",
      " 1960 / 1967\n",
      "done.\n",
      "\n",
      "Progressive alignment 1/2... \n",
      "STEP  1001 / 1966 (thread    5)\n",
      "Reallocating..done. *alloclen = 1868\n",
      "STEP  1901 / 1966 (thread    4) h\n",
      "done.\n",
      "\n",
      "Making a distance matrix from msa.. \n",
      " 1900 / 1967 (thread    0)\n",
      "done.\n",
      "\n",
      "Constructing a UPGMA tree (efffree=1) ... \n",
      " 1960 / 1967\n",
      "done.\n",
      "\n",
      "Progressive alignment 2/2... \n",
      "STEP  1501 / 1966 (thread    3)\n",
      "Reallocating..done. *alloclen = 1862\n",
      "STEP  1901 / 1966 (thread    5) h\n",
      "done.\n",
      "\n",
      "disttbfast (nuc) Version 7.490\n",
      "alg=A, model=DNA200 (2), 1.53 (4.59), -0.00 (-0.00), noshift, amax=0.0\n",
      "6 thread(s)\n",
      "\n",
      "\n",
      "Strategy:\n",
      " FFT-NS-2 (Fast but rough)\n",
      " Progressive method (guide trees were built 2 times.)\n",
      "\n",
      "If unsure which option to use, try 'mafft --auto input > output'.\n",
      "For more information, see 'mafft --help', 'mafft --man' and the mafft page.\n",
      "\n",
      "The default gap scoring scheme has been changed in version 7.110 (2013 Oct).\n",
      "It tends to insert more gaps into gap-rich regions than previous versions.\n",
      "To disable this change, add the --leavegappyregion option.\n",
      "\n"
     ]
    },
    {
     "name": "stdout",
     "output_type": "stream",
     "text": [
      "{'max_gap_frequency': 1.0, 'min_conservation': 0.4, 'alignment': TabularMSA[DNA]\n",
      "-----------------------------------------------------------------------\n",
      "Stats:\n",
      "    sequence count: 1967\n",
      "    position count: 537\n",
      "-----------------------------------------------------------------------\n",
      "TGAGGAATATTGGTCAATGGAGGCAACTCTGAA ... GGTATCGAACAGG--------------------\n",
      "TGAGGAATATTGGTCAATGGCCGGAAGGCTGAA ... GGGATCAAACAGG--------------------\n",
      "...\n",
      "TGGGGAATTTTGGACAATGGGCGCAAGCCTGAT ... GGGAGCAAACAGG--------------------\n",
      "--------------------------------- ... GGTATCGAACAGG--------------------}\n",
      "{'max_gap_frequency': 1.0, 'min_conservation': 0.4, 'alignment': TabularMSA[DNA]\n",
      "-----------------------------------------------------------------------\n",
      "Stats:\n",
      "    sequence count: 1967\n",
      "    position count: 537\n",
      "-----------------------------------------------------------------------\n",
      "TGAGGAATATTGGTCAATGGAGGCAACTCTGAA ... GGTATCGAACAGG--------------------\n",
      "TGAGGAATATTGGTCAATGGCCGGAAGGCTGAA ... GGGATCAAACAGG--------------------\n",
      "...\n",
      "TGGGGAATTTTGGACAATGGGCGCAAGCCTGAT ... GGGAGCAAACAGG--------------------\n",
      "--------------------------------- ... GGTATCGAACAGG--------------------}\n",
      "{'n_threads': 6, 'alignment': <q2_types.feature_data._format.AlignedDNAFASTAFormat object at 0x7f50363886a0>}\n",
      "{'n_threads': 6, 'alignment': <q2_types.feature_data._format.AlignedDNAFASTAFormat object at 0x7f50363886a0>}\n",
      "Running external command line application. This may print messages to stdout and/or stderr.\n",
      "The command being run is below. This command cannot be manually re-run as it will depend on temporary files that no longer exist.\n",
      "\n",
      "Command: FastTreeMP -quote -nt /tmp/qiime2-archive-ynmf7f1e/151c280b-dc9b-4474-80e8-f30b1070380d/data/aligned-dna-sequences.fasta\n",
      "\n"
     ]
    },
    {
     "name": "stderr",
     "output_type": "stream",
     "text": [
      "FastTree Version 2.1.10 Double precision (No SSE3), OpenMP (6 threads)\n",
      "Alignment: /tmp/qiime2-archive-ynmf7f1e/151c280b-dc9b-4474-80e8-f30b1070380d/data/aligned-dna-sequences.fasta\n",
      "Nucleotide distances: Jukes-Cantor Joins: balanced Support: SH-like 1000\n",
      "Search: Normal +NNI +SPR (2 rounds range 10) +ML-NNI opt-each=1\n",
      "TopHits: 1.00*sqrtN close=default refresh=0.80\n",
      "ML Model: Jukes-Cantor, CAT approximation with 20 rate categories\n",
      "      0.10 seconds: Top hits for   1825 of   1845 seqs (at seed   1600)\n",
      "      0.21 seconds: Joined    100 of   1842\n",
      "      0.36 seconds: Joined    200 of   1842\n",
      "      0.48 seconds: Joined    300 of   1842\n",
      "      0.61 seconds: Joined    400 of   1842\n",
      "      0.71 seconds: Joined    500 of   1842\n",
      "      0.83 seconds: Joined    600 of   1842\n",
      "      1.02 seconds: Joined    800 of   1842\n",
      "      1.16 seconds: Joined    900 of   1842\n",
      "      1.35 seconds: Joined   1100 of   1842\n",
      "      1.50 seconds: Joined   1200 of   1842\n",
      "      1.63 seconds: Joined   1300 of   1842\n",
      "      1.79 seconds: Joined   1500 of   1842\n",
      "      1.89 seconds: Joined   1600 of   1842\n",
      "      2.08 seconds: Joined   1800 of   1842\n",
      "Initial topology in 2.10 seconds\n",
      "Refining topology: 43 rounds ME-NNIs, 2 rounds ME-SPRs, 22 rounds ML-NNIs\n",
      "      2.18 seconds: ME NNI round 2 of 43, 501 of 1843 splits, 38 changes (max delta 0.004)\n",
      "      2.28 seconds: ME NNI round 4 of 43, 1 of 1843 splits\n",
      "      2.43 seconds: SPR round   1 of   2, 101 of 3688 nodes\n",
      "      2.55 seconds: SPR round   1 of   2, 301 of 3688 nodes\n",
      "      2.68 seconds: SPR round   1 of   2, 501 of 3688 nodes\n",
      "      2.82 seconds: SPR round   1 of   2, 701 of 3688 nodes\n",
      "      2.96 seconds: SPR round   1 of   2, 901 of 3688 nodes\n",
      "      3.10 seconds: SPR round   1 of   2, 1101 of 3688 nodes\n",
      "      3.25 seconds: SPR round   1 of   2, 1301 of 3688 nodes\n",
      "      3.38 seconds: SPR round   1 of   2, 1501 of 3688 nodes\n",
      "      3.52 seconds: SPR round   1 of   2, 1701 of 3688 nodes\n",
      "      3.66 seconds: SPR round   1 of   2, 1901 of 3688 nodes\n",
      "      3.79 seconds: SPR round   1 of   2, 2101 of 3688 nodes\n",
      "      3.92 seconds: SPR round   1 of   2, 2301 of 3688 nodes\n",
      "      4.03 seconds: SPR round   1 of   2, 2501 of 3688 nodes\n",
      "      4.14 seconds: SPR round   1 of   2, 2701 of 3688 nodes\n",
      "      4.26 seconds: SPR round   1 of   2, 2901 of 3688 nodes\n",
      "      4.41 seconds: SPR round   1 of   2, 3201 of 3688 nodes\n",
      "      4.53 seconds: SPR round   1 of   2, 3401 of 3688 nodes\n",
      "      4.63 seconds: SPR round   1 of   2, 3601 of 3688 nodes\n",
      "      4.73 seconds: ME NNI round 15 of 43, 1401 of 1843 splits, 20 changes (max delta 0.006)\n",
      "      4.87 seconds: SPR round   2 of   2, 101 of 3688 nodes\n",
      "      4.98 seconds: SPR round   2 of   2, 301 of 3688 nodes\n",
      "      5.08 seconds: SPR round   2 of   2, 501 of 3688 nodes\n",
      "      5.24 seconds: SPR round   2 of   2, 801 of 3688 nodes\n",
      "      5.36 seconds: SPR round   2 of   2, 1001 of 3688 nodes\n",
      "      5.47 seconds: SPR round   2 of   2, 1201 of 3688 nodes\n",
      "      5.60 seconds: SPR round   2 of   2, 1401 of 3688 nodes\n",
      "      5.71 seconds: SPR round   2 of   2, 1601 of 3688 nodes\n",
      "      5.84 seconds: SPR round   2 of   2, 1801 of 3688 nodes\n",
      "      5.96 seconds: SPR round   2 of   2, 2001 of 3688 nodes\n",
      "      6.08 seconds: SPR round   2 of   2, 2201 of 3688 nodes\n",
      "      6.19 seconds: SPR round   2 of   2, 2401 of 3688 nodes\n",
      "      6.30 seconds: SPR round   2 of   2, 2601 of 3688 nodes\n",
      "      6.45 seconds: SPR round   2 of   2, 2901 of 3688 nodes\n",
      "      6.56 seconds: SPR round   2 of   2, 3101 of 3688 nodes\n",
      "      6.68 seconds: SPR round   2 of   2, 3301 of 3688 nodes\n",
      "      6.84 seconds: SPR round   2 of   2, 3601 of 3688 nodes\n",
      "      6.94 seconds: ME NNI round 30 of 43, 101 of 1843 splits, 0 changes\n",
      "Total branch-length 31.911 after 7.07 sec\n",
      "      7.08 seconds: ML Lengths 1 of 1843 splits\n",
      "      7.20 seconds: ML Lengths 401 of 1843 splits\n",
      "      7.32 seconds: ML Lengths 801 of 1843 splits\n",
      "      7.44 seconds: ML Lengths 1201 of 1843 splits\n",
      "      7.57 seconds: ML Lengths 1601 of 1843 splits\n",
      "      7.73 seconds: ML NNI round 1 of 22, 101 of 1843 splits, 18 changes (max delta 3.887)\n",
      "      7.88 seconds: ML NNI round 1 of 22, 301 of 1843 splits, 47 changes (max delta 6.182)\n",
      "      8.04 seconds: ML NNI round 1 of 22, 501 of 1843 splits, 77 changes (max delta 6.182)\n",
      "      8.20 seconds: ML NNI round 1 of 22, 701 of 1843 splits, 97 changes (max delta 6.182)\n",
      "      8.37 seconds: ML NNI round 1 of 22, 901 of 1843 splits, 129 changes (max delta 8.728)\n",
      "      8.53 seconds: ML NNI round 1 of 22, 1101 of 1843 splits, 166 changes (max delta 11.149)\n",
      "      8.69 seconds: ML NNI round 1 of 22, 1301 of 1843 splits, 198 changes (max delta 11.149)\n",
      "      8.85 seconds: ML NNI round 1 of 22, 1501 of 1843 splits, 236 changes (max delta 11.149)\n",
      "      9.01 seconds: ML NNI round 1 of 22, 1701 of 1843 splits, 275 changes (max delta 11.149)\n",
      "ML-NNI round 1: LogLk = -84455.350 NNIs 299 max delta 11.15 Time 9.14\n",
      "      9.17 seconds: Site likelihoods with rate category 1 of 20\n",
      "      9.28 seconds: Site likelihoods with rate category 5 of 20\n",
      "      9.40 seconds: Site likelihoods with rate category 9 of 20\n",
      "      9.51 seconds: Site likelihoods with rate category 13 of 20\n",
      "      9.62 seconds: Site likelihoods with rate category 17 of 20\n",
      "Switched to using 20 rate categories (CAT approximation)\n",
      "Rate categories were divided by 1.145 so that average rate = 1.0\n",
      "CAT-based log-likelihoods may not be comparable across runs\n",
      "Use -gamma for approximate but comparable Gamma(20) log-likelihoods\n",
      "      9.74 seconds: ML NNI round 2 of 22, 1 of 1843 splits\n",
      "      9.93 seconds: ML NNI round 2 of 22, 201 of 1843 splits, 21 changes (max delta 3.997)\n",
      "     10.12 seconds: ML NNI round 2 of 22, 401 of 1843 splits, 41 changes (max delta 4.107)\n",
      "     10.22 seconds: ML NNI round 2 of 22, 501 of 1843 splits, 54 changes (max delta 4.766)\n",
      "     10.40 seconds: ML NNI round 2 of 22, 701 of 1843 splits, 76 changes (max delta 8.809)\n",
      "     10.60 seconds: ML NNI round 2 of 22, 901 of 1843 splits, 93 changes (max delta 8.809)\n",
      "     10.79 seconds: ML NNI round 2 of 22, 1101 of 1843 splits, 114 changes (max delta 8.809)\n",
      "     10.97 seconds: ML NNI round 2 of 22, 1301 of 1843 splits, 138 changes (max delta 8.809)\n",
      "     11.14 seconds: ML NNI round 2 of 22, 1501 of 1843 splits, 161 changes (max delta 8.809)\n",
      "     11.32 seconds: ML NNI round 2 of 22, 1701 of 1843 splits, 178 changes (max delta 8.809)\n",
      "ML-NNI round 2: LogLk = -70349.511 NNIs 192 max delta 8.81 Time 11.46\n",
      "     11.46 seconds: ML NNI round 3 of 22, 1 of 1843 splits\n",
      "     11.62 seconds: ML NNI round 3 of 22, 201 of 1843 splits, 12 changes (max delta 2.959)\n",
      "     11.80 seconds: ML NNI round 3 of 22, 401 of 1843 splits, 22 changes (max delta 5.961)\n",
      "     11.98 seconds: ML NNI round 3 of 22, 601 of 1843 splits, 34 changes (max delta 5.961)\n",
      "     12.15 seconds: ML NNI round 3 of 22, 801 of 1843 splits, 39 changes (max delta 5.961)\n",
      "     12.31 seconds: ML NNI round 3 of 22, 1001 of 1843 splits, 42 changes (max delta 5.961)\n",
      "ML-NNI round 3: LogLk = -70295.420 NNIs 47 max delta 5.96 Time 12.45\n",
      "     12.45 seconds: ML NNI round 4 of 22, 1 of 1843 splits\n",
      "     12.62 seconds: ML NNI round 4 of 22, 201 of 1843 splits, 9 changes (max delta 2.744)\n",
      "     12.81 seconds: ML NNI round 4 of 22, 401 of 1843 splits, 15 changes (max delta 2.744)\n",
      "     12.97 seconds: ML NNI round 4 of 22, 601 of 1843 splits, 16 changes (max delta 2.744)\n",
      "ML-NNI round 4: LogLk = -70286.205 NNIs 20 max delta 2.74 Time 13.05\n",
      "     13.13 seconds: ML NNI round 5 of 22, 101 of 1843 splits, 4 changes (max delta 1.535)\n",
      "ML-NNI round 5: LogLk = -70281.945 NNIs 5 max delta 1.53 Time 13.29\n",
      "     13.29 seconds: ML NNI round 6 of 22, 1 of 1843 splits\n",
      "ML-NNI round 6: LogLk = -70281.178 NNIs 1 max delta 0.46 Time 13.39\n",
      "ML-NNI round 7: LogLk = -70281.178 NNIs 2 max delta 0.00 Time 13.45\n",
      "Turning off heuristics for final round of ML NNIs (converged)\n",
      "     13.44 seconds: ML NNI round 8 of 22, 1 of 1843 splits\n",
      "     13.60 seconds: ML NNI round 8 of 22, 201 of 1843 splits, 0 changes\n",
      "     13.76 seconds: ML NNI round 8 of 22, 401 of 1843 splits, 1 changes (max delta 0.052)\n",
      "     13.94 seconds: ML NNI round 8 of 22, 601 of 1843 splits, 1 changes (max delta 0.052)\n",
      "     14.11 seconds: ML NNI round 8 of 22, 801 of 1843 splits, 1 changes (max delta 0.052)\n",
      "     14.30 seconds: ML NNI round 8 of 22, 1001 of 1843 splits, 1 changes (max delta 0.052)\n",
      "     14.47 seconds: ML NNI round 8 of 22, 1201 of 1843 splits, 1 changes (max delta 0.052)\n"
     ]
    },
    {
     "name": "stderr",
     "output_type": "stream",
     "text": [
      "     14.64 seconds: ML NNI round 8 of 22, 1401 of 1843 splits, 2 changes (max delta 0.052)\n",
      "     14.79 seconds: ML NNI round 8 of 22, 1601 of 1843 splits, 3 changes (max delta 0.052)\n",
      "     14.95 seconds: ML NNI round 8 of 22, 1801 of 1843 splits, 5 changes (max delta 0.052)\n",
      "ML-NNI round 8: LogLk = -70271.248 NNIs 8 max delta 1.82 Time 15.00 (final)\n",
      "     15.07 seconds: ML Lengths 301 of 1843 splits\n",
      "     15.19 seconds: ML Lengths 801 of 1843 splits\n",
      "     15.31 seconds: ML Lengths 1301 of 1843 splits\n",
      "     15.42 seconds: ML Lengths 1801 of 1843 splits\n",
      "Optimize all lengths: LogLk = -70270.726 Time 15.45\n",
      "     15.59 seconds: ML split tests for    100 of   1842 internal splits\n",
      "     15.73 seconds: ML split tests for    200 of   1842 internal splits\n",
      "     15.87 seconds: ML split tests for    300 of   1842 internal splits\n",
      "     16.01 seconds: ML split tests for    400 of   1842 internal splits\n",
      "     16.16 seconds: ML split tests for    500 of   1842 internal splits\n",
      "     16.30 seconds: ML split tests for    600 of   1842 internal splits\n",
      "     16.44 seconds: ML split tests for    700 of   1842 internal splits\n",
      "     16.59 seconds: ML split tests for    800 of   1842 internal splits\n",
      "     16.73 seconds: ML split tests for    900 of   1842 internal splits\n",
      "     16.87 seconds: ML split tests for   1000 of   1842 internal splits\n",
      "     17.00 seconds: ML split tests for   1100 of   1842 internal splits\n",
      "     17.14 seconds: ML split tests for   1200 of   1842 internal splits\n",
      "     17.28 seconds: ML split tests for   1300 of   1842 internal splits\n",
      "     17.42 seconds: ML split tests for   1400 of   1842 internal splits\n",
      "     17.56 seconds: ML split tests for   1500 of   1842 internal splits\n",
      "     17.70 seconds: ML split tests for   1600 of   1842 internal splits\n",
      "     17.84 seconds: ML split tests for   1700 of   1842 internal splits\n",
      "     17.98 seconds: ML split tests for   1800 of   1842 internal splits\n",
      "Total time: 18.04 seconds Unique: 1845/1967 Bad splits: 1/1842 Worst delta-LogLk 0.199\n"
     ]
    },
    {
     "name": "stdout",
     "output_type": "stream",
     "text": [
      "{'tree': <TreeNode, name: unnamed, internal node count: 1947, tips count: 1967>}\n",
      "{'tree': <TreeNode, name: unnamed, internal node count: 1947, tips count: 1967>}\n"
     ]
    }
   ],
   "source": [
    "mafft_alignment, mafft_masked_alignment, mafft_tree, mafft_rooted_tree = align_to_tree_mafft_fasttree(\n",
    "    sequences=reps, n_threads=6, )"
   ]
  },
  {
   "cell_type": "markdown",
   "id": "0768d598",
   "metadata": {
    "papermill": {
     "duration": 0.037129,
     "end_time": "2024-01-29T20:13:57.802886",
     "exception": false,
     "start_time": "2024-01-29T20:13:57.765757",
     "status": "completed"
    },
    "tags": []
   },
   "source": [
    "### Compute Alpha Diversity (Phylogeny)\n",
    "- [diversity alpha_phylogenetic](https://docs.qiime2.org/2022.8/plugins/available/diversity/alpha-phylogenetic/): Computes a user-specified phylogenetic alpha diversity metric for all samples in a feature table.\n",
    "- Metrics: Choices ('faith_pd')"
   ]
  },
  {
   "cell_type": "code",
   "execution_count": 11,
   "id": "0383aa19",
   "metadata": {
    "ExecuteTime": {
     "end_time": "2024-01-31T18:24:45.296099Z",
     "start_time": "2024-01-31T18:24:45.088212Z"
    },
    "execution": {
     "iopub.execute_input": "2024-01-29T20:13:57.879267Z",
     "iopub.status.busy": "2024-01-29T20:13:57.878769Z",
     "iopub.status.idle": "2024-01-29T20:13:58.033631Z",
     "shell.execute_reply": "2024-01-29T20:13:58.033084Z"
    },
    "papermill": {
     "duration": 0.194848,
     "end_time": "2024-01-29T20:13:58.034969",
     "exception": false,
     "start_time": "2024-01-29T20:13:57.840121",
     "status": "completed"
    },
    "tags": []
   },
   "outputs": [
    {
     "name": "stdout",
     "output_type": "stream",
     "text": [
      "Calculating alpha diversity: faith_pd\n",
      "{'metric': 'faith_pd', 'table': <artifact: FeatureTable[Frequency] uuid: d48fcd0e-63b8-4236-b0b9-cbd25b64f8d8>, 'phylogeny': <artifact: Phylogeny[Rooted] uuid: 5cb739dc-dfa8-448e-9f98-542280d5cd99>}\n",
      "{'table': <q2_types.feature_table._format.BIOMV210Format object at 0x7f5037386730>, 'phylogeny': <q2_types.tree._format.NewickFormat object at 0x7f50373864f0>}\n",
      "{'table': <q2_types.feature_table._format.BIOMV210Format object at 0x7f5037386730>, 'phylogeny': <q2_types.tree._format.NewickFormat object at 0x7f50373864f0>}\n",
      "DONE: Calculating alpha phylogeny: faith_pd\n"
     ]
    }
   ],
   "source": [
    "metrics = ('faith_pd', )\n",
    "alpha_diversities_phylogenetic = dict()\n",
    "for metric in metrics:\n",
    "    print(f\"Calculating alpha diversity: {metric}\")\n",
    "    try:\n",
    "        alpha_diversity = alpha_phylogenetic(table=tabs, phylogeny=mafft_rooted_tree, metric=metric).alpha_diversity\n",
    "        alpha_diversities_phylogenetic[metric] = alpha_diversity\n",
    "        # Save Artifact\n",
    "        file_path = os.path.join(alpha_path, f'alpha-phylogeny-{metric}.qza')\n",
    "        alpha_diversity.save(file_path)\n",
    "        print(f\"DONE: Calculating alpha phylogeny: {metric}\")\n",
    "    except Exception as e:\n",
    "        print(f\"ERROR: Calculating alpha phylogeny: {metric}\")"
   ]
  },
  {
   "cell_type": "markdown",
   "id": "42db1ead",
   "metadata": {
    "papermill": {
     "duration": 0.037987,
     "end_time": "2024-01-29T20:13:58.111630",
     "exception": false,
     "start_time": "2024-01-29T20:13:58.073643",
     "status": "completed"
    },
    "tags": []
   },
   "source": [
    "- [core-metrics-phylogenetic](https://docs.qiime2.org/2023.7/plugins/available/diversity/core-metrics-phylogenetic/)"
   ]
  },
  {
   "cell_type": "code",
   "execution_count": 12,
   "id": "ef726ab7",
   "metadata": {
    "ExecuteTime": {
     "end_time": "2024-01-31T18:24:48.003417Z",
     "start_time": "2024-01-31T18:24:45.298131Z"
    },
    "execution": {
     "iopub.execute_input": "2024-01-29T20:13:58.191741Z",
     "iopub.status.busy": "2024-01-29T20:13:58.191455Z",
     "iopub.status.idle": "2024-01-29T20:14:00.559255Z",
     "shell.execute_reply": "2024-01-29T20:14:00.558680Z"
    },
    "papermill": {
     "duration": 2.412559,
     "end_time": "2024-01-29T20:14:00.562070",
     "exception": false,
     "start_time": "2024-01-29T20:13:58.149511",
     "status": "completed"
    },
    "tags": []
   },
   "outputs": [
    {
     "name": "stdout",
     "output_type": "stream",
     "text": [
      "{'sampling_depth': 2854, 'metadata': Metadata\n",
      "--------\n",
      "41 IDs x 3 columns\n",
      "sample-name: ColumnProperties(type='categorical')\n",
      "group-id:    ColumnProperties(type='categorical')\n",
      "group-desc:  ColumnProperties(type='categorical')\n",
      "\n",
      "Call to_dataframe() for a tabular representation., 'n_jobs_or_threads': 6, 'table': <artifact: FeatureTable[Frequency] uuid: d48fcd0e-63b8-4236-b0b9-cbd25b64f8d8>, 'phylogeny': <artifact: Phylogeny[Rooted] uuid: 5cb739dc-dfa8-448e-9f98-542280d5cd99>}\n",
      "{'sampling_depth': 2854, 'metadata': Metadata\n",
      "--------\n",
      "41 IDs x 3 columns\n",
      "sample-name: ColumnProperties(type='categorical')\n",
      "group-id:    ColumnProperties(type='categorical')\n",
      "group-desc:  ColumnProperties(type='categorical')\n",
      "\n",
      "Call to_dataframe() for a tabular representation., 'with_replacement': False, 'n_jobs': 6, 'table': <artifact: FeatureTable[Frequency] uuid: d48fcd0e-63b8-4236-b0b9-cbd25b64f8d8>}\n",
      "{'sampling_depth': 2854, 'with_replacement': False, 'table': 1967 x 41 <class 'biom.table.Table'> with 6690 nonzero entries (8% dense)}\n",
      "{'sampling_depth': 2854, 'with_replacement': False, 'table': 1967 x 41 <class 'biom.table.Table'> with 6690 nonzero entries (8% dense)}\n",
      "{'table': 1569 x 41 <class 'biom.table.Table'> with 5169 nonzero entries (8% dense)}\n",
      "{'table': 1569 x 41 <class 'biom.table.Table'> with 5169 nonzero entries (8% dense)}\n",
      "{'drop_undefined_samples': False, 'table': 1569 x 41 <class 'biom.table.Table'> with 5169 nonzero entries (8% dense)}\n",
      "{'drop_undefined_samples': False, 'table': 1569 x 41 <class 'biom.table.Table'> with 5169 nonzero entries (8% dense)}\n",
      "{'drop_undefined_samples': False, 'table': 1569 x 41 <class 'biom.table.Table'> with 5169 nonzero entries (8% dense)}\n",
      "{'drop_undefined_samples': False, 'table': 1569 x 41 <class 'biom.table.Table'> with 5169 nonzero entries (8% dense)}\n",
      "{'n_jobs': 6, 'table': 1569 x 41 <class 'biom.table.Table'> with 5169 nonzero entries (8% dense)}\n",
      "{'n_jobs': 6, 'table': 1569 x 41 <class 'biom.table.Table'> with 5169 nonzero entries (8% dense)}\n",
      "{'n_jobs': 6, 'table': 1569 x 41 <class 'biom.table.Table'> with 5169 nonzero entries (8% dense)}\n",
      "{'n_jobs': 6, 'table': 1569 x 41 <class 'biom.table.Table'> with 5169 nonzero entries (8% dense)}\n"
     ]
    },
    {
     "name": "stderr",
     "output_type": "stream",
     "text": [
      "/home/lauro/anaconda3/envs/qiime2-2022.2/lib/python3.8/site-packages/sklearn/metrics/pairwise.py:1761: DataConversionWarning: Data was converted to boolean for metric jaccard\n",
      "  warnings.warn(msg, DataConversionWarning)\n",
      "/home/lauro/anaconda3/envs/qiime2-2022.2/lib/python3.8/site-packages/skbio/stats/ordination/_principal_coordinate_analysis.py:143: RuntimeWarning: The result contains negative eigenvalues. Please compare their magnitude with the magnitude of some of the largest positive eigenvalues. If the negative ones are smaller, it's probably safe to ignore them, but if they are large in magnitude, the results won't be useful. See the Notes section for more details. The smallest eigenvalue is -0.012745619670497794 and the largest is 2.989832033050619.\n",
      "  warn(\n"
     ]
    },
    {
     "name": "stdout",
     "output_type": "stream",
     "text": [
      "{'number_of_dimensions': None, 'distance_matrix': <skbio.stats.distance._base.DistanceMatrix object at 0x7f50884971c0>}\n",
      "{'number_of_dimensions': None, 'distance_matrix': <skbio.stats.distance._base.DistanceMatrix object at 0x7f50884971c0>}\n",
      "{'number_of_dimensions': None, 'distance_matrix': <skbio.stats.distance._base.DistanceMatrix object at 0x7f5088497400>}\n",
      "{'number_of_dimensions': None, 'distance_matrix': <skbio.stats.distance._base.DistanceMatrix object at 0x7f5088497400>}\n",
      "{'metadata': Metadata\n",
      "--------\n",
      "41 IDs x 3 columns\n",
      "sample-name: ColumnProperties(type='categorical')\n",
      "group-id:    ColumnProperties(type='categorical')\n",
      "group-desc:  ColumnProperties(type='categorical')\n",
      "\n",
      "Call to_dataframe() for a tabular representation., 'custom_axes': None, 'ignore_missing_samples': False, 'ignore_pcoa_features': False, 'pcoa': <skbio.stats.ordination._ordination_results.OrdinationResults object at 0x7f5036984b50>}\n",
      "{'metadata': Metadata\n",
      "--------\n",
      "41 IDs x 3 columns\n",
      "sample-name: ColumnProperties(type='categorical')\n",
      "group-id:    ColumnProperties(type='categorical')\n",
      "group-desc:  ColumnProperties(type='categorical')\n",
      "\n",
      "Call to_dataframe() for a tabular representation., 'custom_axes': None, 'ignore_missing_samples': False, 'ignore_pcoa_features': False, 'pcoa': <skbio.stats.ordination._ordination_results.OrdinationResults object at 0x7f50369d5400>}\n",
      "{'table': <q2_types.feature_table._format.BIOMV210Format object at 0x7f5035b4ef70>, 'phylogeny': <q2_types.tree._format.NewickFormat object at 0x7f50b02fd4f0>}\n",
      "{'table': <q2_types.feature_table._format.BIOMV210Format object at 0x7f5035b4ef70>, 'phylogeny': <q2_types.tree._format.NewickFormat object at 0x7f50b02fd4f0>}\n",
      "{'threads': 6, 'bypass_tips': False, 'table': <q2_types.feature_table._format.BIOMV210Format object at 0x7f5088497100>, 'phylogeny': <q2_types.tree._format.NewickFormat object at 0x7f50884970a0>}\n",
      "{'threads': 6, 'bypass_tips': False, 'table': <q2_types.feature_table._format.BIOMV210Format object at 0x7f5088497100>, 'phylogeny': <q2_types.tree._format.NewickFormat object at 0x7f50884970a0>}\n",
      "{'threads': 6, 'bypass_tips': False, 'table': <q2_types.feature_table._format.BIOMV210Format object at 0x7f50b2b7e370>, 'phylogeny': <q2_types.tree._format.NewickFormat object at 0x7f50368ee400>}\n",
      "{'threads': 6, 'bypass_tips': False, 'table': <q2_types.feature_table._format.BIOMV210Format object at 0x7f50b2b7e370>, 'phylogeny': <q2_types.tree._format.NewickFormat object at 0x7f50368ee400>}\n",
      "{'number_of_dimensions': None, 'distance_matrix': <skbio.stats.distance._base.DistanceMatrix object at 0x7f50368e2760>}\n",
      "{'number_of_dimensions': None, 'distance_matrix': <skbio.stats.distance._base.DistanceMatrix object at 0x7f50368e2760>}\n",
      "{'number_of_dimensions': None, 'distance_matrix': <skbio.stats.distance._base.DistanceMatrix object at 0x7f50368eedc0>}\n",
      "{'number_of_dimensions': None, 'distance_matrix': <skbio.stats.distance._base.DistanceMatrix object at 0x7f50368eedc0>}\n"
     ]
    },
    {
     "name": "stderr",
     "output_type": "stream",
     "text": [
      "/home/lauro/anaconda3/envs/qiime2-2022.2/lib/python3.8/site-packages/skbio/stats/ordination/_principal_coordinate_analysis.py:143: RuntimeWarning: The result contains negative eigenvalues. Please compare their magnitude with the magnitude of some of the largest positive eigenvalues. If the negative ones are smaller, it's probably safe to ignore them, but if they are large in magnitude, the results won't be useful. See the Notes section for more details. The smallest eigenvalue is -0.0019158655240151484 and the largest is 0.9737333202078238.\n",
      "  warn(\n",
      "/home/lauro/anaconda3/envs/qiime2-2022.2/lib/python3.8/site-packages/skbio/stats/ordination/_principal_coordinate_analysis.py:143: RuntimeWarning: The result contains negative eigenvalues. Please compare their magnitude with the magnitude of some of the largest positive eigenvalues. If the negative ones are smaller, it's probably safe to ignore them, but if they are large in magnitude, the results won't be useful. See the Notes section for more details. The smallest eigenvalue is -0.057924360879821266 and the largest is 2.7517670161493593.\n",
      "  warn(\n"
     ]
    },
    {
     "name": "stdout",
     "output_type": "stream",
     "text": [
      "{'metadata': Metadata\n",
      "--------\n",
      "41 IDs x 3 columns\n",
      "sample-name: ColumnProperties(type='categorical')\n",
      "group-id:    ColumnProperties(type='categorical')\n",
      "group-desc:  ColumnProperties(type='categorical')\n",
      "\n",
      "Call to_dataframe() for a tabular representation., 'custom_axes': None, 'ignore_missing_samples': False, 'ignore_pcoa_features': False, 'pcoa': <skbio.stats.ordination._ordination_results.OrdinationResults object at 0x7f50369d2220>}\n",
      "{'metadata': Metadata\n",
      "--------\n",
      "41 IDs x 3 columns\n",
      "sample-name: ColumnProperties(type='categorical')\n",
      "group-id:    ColumnProperties(type='categorical')\n",
      "group-desc:  ColumnProperties(type='categorical')\n",
      "\n",
      "Call to_dataframe() for a tabular representation., 'custom_axes': None, 'ignore_missing_samples': False, 'ignore_pcoa_features': False, 'pcoa': <skbio.stats.ordination._ordination_results.OrdinationResults object at 0x7f5088497df0>}\n"
     ]
    }
   ],
   "source": [
    "s_depth = int(tabs.view(pd.DataFrame).sum(axis=1).min())\n",
    "results = core_metrics_phylogenetic(\n",
    "    table = tabs,\n",
    "    phylogeny = mafft_rooted_tree,\n",
    "    sampling_depth = s_depth,\n",
    "    metadata = metadata_qa,\n",
    "    n_jobs_or_threads = 6,\n",
    ")"
   ]
  },
  {
   "cell_type": "code",
   "execution_count": 13,
   "id": "19311218",
   "metadata": {
    "ExecuteTime": {
     "end_time": "2024-01-31T18:24:48.010542Z",
     "start_time": "2024-01-31T18:24:48.005401Z"
    },
    "execution": {
     "iopub.execute_input": "2024-01-29T20:14:00.664294Z",
     "iopub.status.busy": "2024-01-29T20:14:00.663907Z",
     "iopub.status.idle": "2024-01-29T20:14:00.670626Z",
     "shell.execute_reply": "2024-01-29T20:14:00.670014Z"
    },
    "papermill": {
     "duration": 0.057061,
     "end_time": "2024-01-29T20:14:00.672354",
     "exception": false,
     "start_time": "2024-01-29T20:14:00.615293",
     "status": "completed"
    },
    "tags": []
   },
   "outputs": [],
   "source": [
    "results_info = [(\"rarefied_table\", \"FeatureTable[Frequency]\", \"The resulting rarefied feature table.\"),\n",
    "(\"faith_pd_vector\", \"SampleData[AlphaDiversity]\", \"Vector of Faith PD values by sample.\"),\n",
    "(\"observed_features_vector\", \"SampleData[AlphaDiversity]\", \"Vector of Observed Features values by sample.\"),\n",
    "(\"shannon_vector\", \"SampleData[AlphaDiversity]\", \"Vector of Shannon diversity values by sample.\"),\n",
    "(\"evenness_vector\", \"SampleData[AlphaDiversity]\", \"Vector of Pielou's evenness values by sample.\"),\n",
    "(\"unweighted_unifrac_distance_matrix\", \"DistanceMatrix\", \"Matrix of unweighted UniFrac distances between pairs of samples.\"),\n",
    "(\"weighted_unifrac_distance_matrix\", \"DistanceMatrix\", \"Matrix of weighted UniFrac distances between pairs of samples.\"),\n",
    "(\"jaccard_distance_matrix\", \"DistanceMatrix\", \"Matrix of Jaccard distances between pairs of samples.\"),\n",
    "(\"bray_curtis_distance_matrix\", \"DistanceMatrix\", \"Matrix of Bray-Curtis distances between pairs of samples.\"),\n",
    "(\"unweighted_unifrac_pcoa_results\", \"PCoAResults\", \"PCoA matrix computed from unweighted UniFrac distances between samples.\"),\n",
    "(\"weighted_unifrac_pcoa_results\", \"PCoAResults\", \"PCoA matrix computed from weighted UniFrac distances between samples.\"),\n",
    "(\"jaccard_pcoa_results\", \"PCoAResults\", \"PCoA matrix computed from Jaccard distances between samples.\"),\n",
    "(\"bray_curtis_pcoa_results\", \"PCoAResults\", \"PCoA matrix computed from Bray-Curtis distances between samples.\"),\n",
    "(\"unweighted_unifrac_emperor\", \"Visualization\", \"Emperor plot of the PCoA matrix computed from unweighted UniFrac.\"),\n",
    "(\"weighted_unifrac_emperor\", \"Visualization\", \"Emperor plot of the PCoA matrix computed from weighted UniFrac.\"),\n",
    "(\"jaccard_emperor\", \"Visualization\", \"Emperor plot of the PCoA matrix computed from Jaccard.\"),\n",
    "(\"bray_curtis_emperor\", \"Visualization\", \"Emperor plot of the PCoA matrix computed from Bray-Curtis.\")]"
   ]
  },
  {
   "cell_type": "code",
   "execution_count": 24,
   "id": "57dcd8e3",
   "metadata": {
    "ExecuteTime": {
     "end_time": "2024-01-31T20:50:08.064986Z",
     "start_time": "2024-01-31T20:50:07.623579Z"
    },
    "execution": {
     "iopub.execute_input": "2024-01-29T20:14:00.770448Z",
     "iopub.status.busy": "2024-01-29T20:14:00.769987Z",
     "iopub.status.idle": "2024-01-29T20:14:01.193333Z",
     "shell.execute_reply": "2024-01-29T20:14:01.192755Z"
    },
    "papermill": {
     "duration": 0.474736,
     "end_time": "2024-01-29T20:14:01.196170",
     "exception": false,
     "start_time": "2024-01-29T20:14:00.721434",
     "status": "completed"
    },
    "tags": []
   },
   "outputs": [
    {
     "name": "stdout",
     "output_type": "stream",
     "text": [
      "13 unweighted_unifrac_emperor Visualization\n",
      "--- Emperor plot of the PCoA matrix computed from unweighted UniFrac. ---\n",
      "Saving emperor file at: /home/lauro/nupeb/rede-micro/redemicro-ana-flavia-nutri/experiments/ana-flavia-all/qiime-artifacts/beta-analysis/unweighted_unifrac_emperor.qzv\n",
      "\n",
      "14 weighted_unifrac_emperor Visualization\n",
      "--- Emperor plot of the PCoA matrix computed from weighted UniFrac. ---\n",
      "Saving emperor file at: /home/lauro/nupeb/rede-micro/redemicro-ana-flavia-nutri/experiments/ana-flavia-all/qiime-artifacts/beta-analysis/weighted_unifrac_emperor.qzv\n",
      "\n",
      "15 jaccard_emperor Visualization\n",
      "--- Emperor plot of the PCoA matrix computed from Jaccard. ---\n",
      "Saving emperor file at: /home/lauro/nupeb/rede-micro/redemicro-ana-flavia-nutri/experiments/ana-flavia-all/qiime-artifacts/beta-analysis/jaccard_emperor.qzv\n",
      "\n",
      "16 bray_curtis_emperor Visualization\n",
      "--- Emperor plot of the PCoA matrix computed from Bray-Curtis. ---\n",
      "Saving emperor file at: /home/lauro/nupeb/rede-micro/redemicro-ana-flavia-nutri/experiments/ana-flavia-all/qiime-artifacts/beta-analysis/bray_curtis_emperor.qzv\n",
      "\n"
     ]
    }
   ],
   "source": [
    "distance_matrix = dict()\n",
    "for i, info in enumerate(results_info):\n",
    "    r_id, r_type, r_desc = info\n",
    "    #print(i, r_id, r_type)\n",
    "    file_name = f\"{r_id}.qzv\"\n",
    "    if r_type == \"FeatureTable[Frequency]\":\n",
    "        pass\n",
    "    elif r_type == \"DistanceMatrix\":\n",
    "        distance_matrix[r_id] = results[i]\n",
    "    elif r_id.endswith('emperor'):\n",
    "        print(i, r_id, r_type)\n",
    "        print(f\"--- {r_desc} ---\")\n",
    "        file_name = os.path.join(beta_path, file_name)\n",
    "        print(f'Saving emperor file at: {file_name}\\n')\n",
    "        results[i].save(filepath=file_name)"
   ]
  },
  {
   "cell_type": "markdown",
   "id": "c7752cfd",
   "metadata": {
    "papermill": {
     "duration": 0.046419,
     "end_time": "2024-01-29T20:14:01.295601",
     "exception": false,
     "start_time": "2024-01-29T20:14:01.249182",
     "status": "completed"
    },
    "tags": []
   },
   "source": [
    "### Alpha diversity correlation\n",
    "\n",
    "This method only process `numeric` columns.\n"
   ]
  },
  {
   "cell_type": "code",
   "execution_count": 15,
   "id": "2814f613",
   "metadata": {
    "ExecuteTime": {
     "end_time": "2024-01-31T18:24:48.567462Z",
     "start_time": "2024-01-31T18:24:48.561388Z"
    },
    "execution": {
     "iopub.execute_input": "2024-01-29T20:14:01.391627Z",
     "iopub.status.busy": "2024-01-29T20:14:01.391376Z",
     "iopub.status.idle": "2024-01-29T20:14:01.397718Z",
     "shell.execute_reply": "2024-01-29T20:14:01.396969Z"
    },
    "papermill": {
     "duration": 0.052468,
     "end_time": "2024-01-29T20:14:01.399302",
     "exception": false,
     "start_time": "2024-01-29T20:14:01.346834",
     "status": "completed"
    },
    "tags": []
   },
   "outputs": [],
   "source": [
    "methods = ('spearman', 'pearson')\n",
    "numerics_cols = metadata_qa.filter_columns(column_type='numeric')\n",
    "if numerics_cols.column_count > 0:\n",
    "    for metric, alpha_values in alpha_diversities.items():\n",
    "        for method in methods:\n",
    "            try:\n",
    "                corr_view = alpha_correlation(alpha_diversity=alpha_values, metadata=numerics_cols, \n",
    "                                          method=method, intersect_ids=True).visualization\n",
    "                view_path = os.path.join(alpha_path, f'alpha-correlation-{metric}-{method}.qzv')\n",
    "                corr_view.save(view_path)\n",
    "                corr_view\n",
    "                print(f\"DONE: Calculating alpha correlation: {metric} {method}\")\n",
    "            except Exception as e:\n",
    "                print(f\"ERROR: Calculating alpha correlation: {metric} {method}\")"
   ]
  },
  {
   "cell_type": "markdown",
   "id": "8ea83c8a",
   "metadata": {
    "papermill": {
     "duration": 0.042925,
     "end_time": "2024-01-29T20:14:01.487000",
     "exception": false,
     "start_time": "2024-01-29T20:14:01.444075",
     "status": "completed"
    },
    "tags": []
   },
   "source": [
    "## Alpha diversity comparisons\n",
    "\n",
    "Visually and statistically compare groups of alpha diversity values.\n",
    "\n",
    "[diversity alpha_group_significance](https://docs.qiime2.org/2022.8/plugins/available/diversity/alpha-group-significance/)"
   ]
  },
  {
   "cell_type": "code",
   "execution_count": 16,
   "id": "276d1c18",
   "metadata": {
    "ExecuteTime": {
     "end_time": "2024-01-31T18:24:52.122883Z",
     "start_time": "2024-01-31T18:24:48.569300Z"
    },
    "execution": {
     "iopub.execute_input": "2024-01-29T20:14:01.578379Z",
     "iopub.status.busy": "2024-01-29T20:14:01.577978Z",
     "iopub.status.idle": "2024-01-29T20:14:06.619653Z",
     "shell.execute_reply": "2024-01-29T20:14:06.619111Z"
    },
    "papermill": {
     "duration": 5.092921,
     "end_time": "2024-01-29T20:14:06.622750",
     "exception": false,
     "start_time": "2024-01-29T20:14:01.529829",
     "status": "completed"
    },
    "tags": []
   },
   "outputs": [
    {
     "name": "stdout",
     "output_type": "stream",
     "text": [
      "Processing alpha_group_significance: chao1\n",
      "{'metadata': Metadata\n",
      "--------\n",
      "41 IDs x 3 columns\n",
      "sample-name: ColumnProperties(type='categorical')\n",
      "group-id:    ColumnProperties(type='categorical')\n",
      "group-desc:  ColumnProperties(type='categorical')\n",
      "\n",
      "Call to_dataframe() for a tabular representation., 'alpha_diversity': S210421121673    262.0\n",
      "S210421121674    131.0\n",
      "S210421121675    124.0\n",
      "S210421121676    255.0\n",
      "S210421121677    112.0\n",
      "S210421121678     83.0\n",
      "S210421121679    150.0\n",
      "S210421121680    209.0\n",
      "S210421121681    127.0\n",
      "S210421121682    291.0\n",
      "S210421121683    242.0\n",
      "S210421121684    207.0\n",
      "S210421121685    314.0\n",
      "S210421121686    121.0\n",
      "S210421121687    137.0\n",
      "S210421121688    185.0\n",
      "S210421121689    160.0\n",
      "S210421121690    147.0\n",
      "S210421121691    285.0\n",
      "S210421121692    137.0\n",
      "S210421121693    172.0\n",
      "S210421121694    149.0\n",
      "S210421121695    320.0\n",
      "S210421121696    187.0\n",
      "S210421121697    133.0\n",
      "S210421121698     52.0\n",
      "S210421121699    113.0\n",
      "S210421121700     90.0\n",
      "S210421121701     92.0\n",
      "S210421121702     44.0\n",
      "S210421121703     97.0\n",
      "S210421121704     34.0\n",
      "S210421121705    211.0\n",
      "S210421121706    374.0\n",
      "S210421121707    219.0\n",
      "S210421121708    119.0\n",
      "S210421121709    105.0\n",
      "S210421121710     36.0\n",
      "S210421121711    149.0\n",
      "S210421121713    250.0\n",
      "S210421121714     65.0\n",
      "Name: chao1, dtype: float64}\n",
      "DONE: Calculating alpha group significance: chao1\n",
      "Processing alpha_group_significance: chao1_ci\n",
      "ERROR: Calculating alpha group significance: chao1_ci\n",
      "Processing alpha_group_significance: observed_features\n",
      "{'metadata': Metadata\n",
      "--------\n",
      "41 IDs x 3 columns\n",
      "sample-name: ColumnProperties(type='categorical')\n",
      "group-id:    ColumnProperties(type='categorical')\n",
      "group-desc:  ColumnProperties(type='categorical')\n",
      "\n",
      "Call to_dataframe() for a tabular representation., 'alpha_diversity': S210421121673    262\n",
      "S210421121674    131\n",
      "S210421121675    124\n",
      "S210421121676    255\n",
      "S210421121677    112\n",
      "S210421121678     83\n",
      "S210421121679    150\n",
      "S210421121680    209\n",
      "S210421121681    127\n",
      "S210421121682    291\n",
      "S210421121683    242\n",
      "S210421121684    207\n",
      "S210421121685    314\n",
      "S210421121686    121\n",
      "S210421121687    137\n",
      "S210421121688    185\n",
      "S210421121689    160\n",
      "S210421121690    147\n",
      "S210421121691    285\n",
      "S210421121692    137\n",
      "S210421121693    172\n",
      "S210421121694    149\n",
      "S210421121695    320\n",
      "S210421121696    187\n",
      "S210421121697    133\n",
      "S210421121698     52\n",
      "S210421121699    113\n",
      "S210421121700     90\n",
      "S210421121701     92\n",
      "S210421121702     44\n",
      "S210421121703     97\n",
      "S210421121704     34\n",
      "S210421121705    211\n",
      "S210421121706    374\n",
      "S210421121707    219\n",
      "S210421121708    119\n",
      "S210421121709    105\n",
      "S210421121710     36\n",
      "S210421121711    149\n",
      "S210421121713    250\n",
      "S210421121714     65\n",
      "Name: observed_features, dtype: int64}\n",
      "DONE: Calculating alpha group significance: observed_features\n",
      "Processing alpha_group_significance: shannon\n",
      "{'metadata': Metadata\n",
      "--------\n",
      "41 IDs x 3 columns\n",
      "sample-name: ColumnProperties(type='categorical')\n",
      "group-id:    ColumnProperties(type='categorical')\n",
      "group-desc:  ColumnProperties(type='categorical')\n",
      "\n",
      "Call to_dataframe() for a tabular representation., 'alpha_diversity': S210421121673    5.860846\n",
      "S210421121674    4.435387\n",
      "S210421121675    4.729984\n",
      "S210421121676    4.772633\n",
      "S210421121677    4.736594\n",
      "S210421121678    4.528187\n",
      "S210421121679    4.478963\n",
      "S210421121680    5.580541\n",
      "S210421121681    4.457096\n",
      "S210421121682    6.126624\n",
      "S210421121683    6.103749\n",
      "S210421121684    4.956948\n",
      "S210421121685    6.145411\n",
      "S210421121686    5.516588\n",
      "S210421121687    5.179013\n",
      "S210421121688    5.383905\n",
      "S210421121689    3.637362\n",
      "S210421121690    4.348517\n",
      "S210421121691    6.398281\n",
      "S210421121692    4.840741\n",
      "S210421121693    4.319901\n",
      "S210421121694    5.689236\n",
      "S210421121695    6.177949\n",
      "S210421121696    5.394384\n",
      "S210421121697    5.432786\n",
      "S210421121698    3.397345\n",
      "S210421121699    5.865433\n",
      "S210421121700    5.496901\n",
      "S210421121701    2.705817\n",
      "S210421121702    4.395961\n",
      "S210421121703    5.200061\n",
      "S210421121704    3.786450\n",
      "S210421121705    5.919258\n",
      "S210421121706    6.381630\n",
      "S210421121707    5.519281\n",
      "S210421121708    5.520796\n",
      "S210421121709    4.826476\n",
      "S210421121710    3.903198\n",
      "S210421121711    5.658239\n",
      "S210421121713    5.616998\n",
      "S210421121714    4.046924\n",
      "Name: shannon_entropy, dtype: float64}\n",
      "DONE: Calculating alpha group significance: shannon\n",
      "Processing alpha_group_significance: simpson\n",
      "{'metadata': Metadata\n",
      "--------\n",
      "41 IDs x 3 columns\n",
      "sample-name: ColumnProperties(type='categorical')\n",
      "group-id:    ColumnProperties(type='categorical')\n",
      "group-desc:  ColumnProperties(type='categorical')\n",
      "\n",
      "Call to_dataframe() for a tabular representation., 'alpha_diversity': S210421121673    0.968772\n",
      "S210421121674    0.920051\n",
      "S210421121675    0.932399\n",
      "S210421121676    0.914619\n",
      "S210421121677    0.936476\n",
      "S210421121678    0.935171\n",
      "S210421121679    0.913495\n",
      "S210421121680    0.960297\n",
      "S210421121681    0.915034\n",
      "S210421121682    0.970384\n",
      "S210421121683    0.973045\n",
      "S210421121684    0.923226\n",
      "S210421121685    0.967199\n",
      "S210421121686    0.960541\n",
      "S210421121687    0.935590\n",
      "S210421121688    0.960381\n",
      "S210421121689    0.793962\n",
      "S210421121690    0.894339\n",
      "S210421121691    0.976475\n",
      "S210421121692    0.924892\n",
      "S210421121693    0.876379\n",
      "S210421121694    0.955916\n",
      "S210421121695    0.969588\n",
      "S210421121696    0.949858\n",
      "S210421121697    0.958294\n",
      "S210421121698    0.792733\n",
      "S210421121699    0.972133\n",
      "S210421121700    0.965448\n",
      "S210421121701    0.604572\n",
      "S210421121702    0.912672\n",
      "S210421121703    0.945950\n",
      "S210421121704    0.859716\n",
      "S210421121705    0.967740\n",
      "S210421121706    0.969687\n",
      "S210421121707    0.936488\n",
      "S210421121708    0.946668\n",
      "S210421121709    0.924440\n",
      "S210421121710    0.884766\n",
      "S210421121711    0.955677\n",
      "S210421121713    0.934010\n",
      "S210421121714    0.868498\n",
      "Name: simpson, dtype: float64}\n",
      "DONE: Calculating alpha group significance: simpson\n",
      "Processing alpha_group_significance: simpson_e\n",
      "{'metadata': Metadata\n",
      "--------\n",
      "41 IDs x 3 columns\n",
      "sample-name: ColumnProperties(type='categorical')\n",
      "group-id:    ColumnProperties(type='categorical')\n",
      "group-desc:  ColumnProperties(type='categorical')\n",
      "\n",
      "Call to_dataframe() for a tabular representation., 'alpha_diversity': S210421121673    0.122225\n",
      "S210421121674    0.095480\n",
      "S210421121675    0.119296\n",
      "S210421121676    0.045930\n",
      "S210421121677    0.140554\n",
      "S210421121678    0.185847\n",
      "S210421121679    0.077067\n",
      "S210421121680    0.120513\n",
      "S210421121681    0.092673\n",
      "S210421121682    0.116034\n",
      "S210421121683    0.153302\n",
      "S210421121684    0.062924\n",
      "S210421121685    0.097092\n",
      "S210421121686    0.209445\n",
      "S210421121687    0.113325\n",
      "S210421121688    0.136436\n",
      "S210421121689    0.030334\n",
      "S210421121690    0.064383\n",
      "S210421121691    0.149151\n",
      "S210421121692    0.097184\n",
      "S210421121693    0.047030\n",
      "S210421121694    0.152243\n",
      "S210421121695    0.102757\n",
      "S210421121696    0.106649\n",
      "S210421121697    0.180282\n",
      "S210421121698    0.092782\n",
      "S210421121699    0.317560\n",
      "S210421121700    0.321580\n",
      "S210421121701    0.027488\n",
      "S210421121702    0.260251\n",
      "S210421121703    0.190735\n",
      "S210421121704    0.209658\n",
      "S210421121705    0.146909\n",
      "S210421121706    0.088207\n",
      "S210421121707    0.071896\n",
      "S210421121708    0.157567\n",
      "S210421121709    0.126044\n",
      "S210421121710    0.241056\n",
      "S210421121711    0.151422\n",
      "S210421121713    0.060615\n",
      "S210421121714    0.116991\n",
      "Name: simpson_e, dtype: float64}\n",
      "DONE: Calculating alpha group significance: simpson_e\n"
     ]
    }
   ],
   "source": [
    "for metric, alpha_values in alpha_diversities.items():\n",
    "    print(f\"Processing alpha_group_significance: {metric}\")\n",
    "    try:\n",
    "        significance_view = alpha_group_significance(alpha_diversity=alpha_values, metadata=metadata_qa).visualization\n",
    "        view_path = os.path.join(alpha_path, f'alpha-group-significance-{metric}.qzv')\n",
    "        significance_view.save(view_path)\n",
    "        significance_view\n",
    "        print(f\"DONE: Calculating alpha group significance: {metric}\")\n",
    "    except Exception as e:\n",
    "        print(f\"ERROR: Calculating alpha group significance: {metric}\")"
   ]
  },
  {
   "cell_type": "markdown",
   "id": "4349d357",
   "metadata": {
    "papermill": {
     "duration": 0.108069,
     "end_time": "2024-01-29T20:14:06.803051",
     "exception": false,
     "start_time": "2024-01-29T20:14:06.694982",
     "status": "completed"
    },
    "tags": []
   },
   "source": [
    "## Beta diversity analysis\n",
    "\n",
    "#### Reference\n",
    "- [diversity beta](https://docs.qiime2.org/2022.8/plugins/available/diversity/beta/): Computes a user-specified beta diversity metric for all pairs of samples in a feature table.\n",
    "- [Beta diversity metrics](http://scikit-bio.org/docs/0.2.0/generated/skbio.diversity.beta.html)\n",
    "\n",
    "- Metric Choices('aitchison', 'braycurtis', 'canberra', 'canberra_adkins', 'chebyshev', 'cityblock', 'correlation', 'cosine', 'dice', 'euclidean', 'hamming', 'jaccard', 'jensenshannon', 'kulsinski', 'matching', 'minkowski', 'rogerstanimoto', 'russellrao', 'seuclidean', 'sokalmichener', 'sokalsneath', 'sqeuclidean', 'yule')"
   ]
  },
  {
   "cell_type": "code",
   "execution_count": 17,
   "id": "f6f358dd",
   "metadata": {
    "ExecuteTime": {
     "end_time": "2024-01-31T18:24:52.731935Z",
     "start_time": "2024-01-31T18:24:52.124609Z"
    },
    "execution": {
     "iopub.execute_input": "2024-01-29T20:14:07.049523Z",
     "iopub.status.busy": "2024-01-29T20:14:07.049038Z",
     "iopub.status.idle": "2024-01-29T20:14:07.655007Z",
     "shell.execute_reply": "2024-01-29T20:14:07.653925Z"
    },
    "papermill": {
     "duration": 0.731176,
     "end_time": "2024-01-29T20:14:07.656708",
     "exception": false,
     "start_time": "2024-01-29T20:14:06.925532",
     "status": "completed"
    },
    "tags": []
   },
   "outputs": [
    {
     "name": "stdout",
     "output_type": "stream",
     "text": [
      "Calculating beta diversity: euclidean\n",
      "{'metric': 'euclidean', 'pseudocount': 1, 'n_jobs': 6, 'table': <artifact: FeatureTable[Frequency] uuid: d48fcd0e-63b8-4236-b0b9-cbd25b64f8d8>}\n",
      "{'metric': 'euclidean', 'pseudocount': 1, 'n_jobs': 6, 'table': 1967 x 41 <class 'biom.table.Table'> with 6690 nonzero entries (8% dense)}\n",
      "{'metric': 'euclidean', 'pseudocount': 1, 'n_jobs': 6, 'table': 1967 x 41 <class 'biom.table.Table'> with 6690 nonzero entries (8% dense)}\n",
      "DONE: Calculating beta diversity: euclidean\n",
      "Calculating beta diversity: dice\n",
      "{'metric': 'dice', 'pseudocount': 1, 'n_jobs': 6, 'table': <artifact: FeatureTable[Frequency] uuid: d48fcd0e-63b8-4236-b0b9-cbd25b64f8d8>}\n",
      "{'metric': 'dice', 'pseudocount': 1, 'n_jobs': 6, 'table': 1967 x 41 <class 'biom.table.Table'> with 6690 nonzero entries (8% dense)}\n",
      "{'metric': 'dice', 'pseudocount': 1, 'n_jobs': 6, 'table': 1967 x 41 <class 'biom.table.Table'> with 6690 nonzero entries (8% dense)}\n"
     ]
    },
    {
     "name": "stderr",
     "output_type": "stream",
     "text": [
      "/home/lauro/anaconda3/envs/qiime2-2022.2/lib/python3.8/site-packages/sklearn/metrics/pairwise.py:1761: DataConversionWarning: Data was converted to boolean for metric dice\n",
      "  warnings.warn(msg, DataConversionWarning)\n"
     ]
    },
    {
     "name": "stdout",
     "output_type": "stream",
     "text": [
      "DONE: Calculating beta diversity: dice\n",
      "Calculating beta diversity: braycurtis\n",
      "{'metric': 'braycurtis', 'pseudocount': 1, 'n_jobs': 6, 'table': <artifact: FeatureTable[Frequency] uuid: d48fcd0e-63b8-4236-b0b9-cbd25b64f8d8>}\n",
      "{'n_jobs': 6, 'table': 1967 x 41 <class 'biom.table.Table'> with 6690 nonzero entries (8% dense)}\n",
      "{'n_jobs': 6, 'table': 1967 x 41 <class 'biom.table.Table'> with 6690 nonzero entries (8% dense)}\n",
      "DONE: Calculating beta diversity: braycurtis\n",
      "Calculating beta diversity: correlation\n",
      "{'metric': 'correlation', 'pseudocount': 1, 'n_jobs': 6, 'table': <artifact: FeatureTable[Frequency] uuid: d48fcd0e-63b8-4236-b0b9-cbd25b64f8d8>}\n",
      "{'metric': 'correlation', 'pseudocount': 1, 'n_jobs': 6, 'table': 1967 x 41 <class 'biom.table.Table'> with 6690 nonzero entries (8% dense)}\n",
      "{'metric': 'correlation', 'pseudocount': 1, 'n_jobs': 6, 'table': 1967 x 41 <class 'biom.table.Table'> with 6690 nonzero entries (8% dense)}\n",
      "ERROR: Calculating beta diversity: correlation\n",
      "Calculating beta diversity: cosine\n",
      "{'metric': 'cosine', 'pseudocount': 1, 'n_jobs': 6, 'table': <artifact: FeatureTable[Frequency] uuid: d48fcd0e-63b8-4236-b0b9-cbd25b64f8d8>}\n",
      "{'metric': 'cosine', 'pseudocount': 1, 'n_jobs': 6, 'table': 1967 x 41 <class 'biom.table.Table'> with 6690 nonzero entries (8% dense)}\n",
      "{'metric': 'cosine', 'pseudocount': 1, 'n_jobs': 6, 'table': 1967 x 41 <class 'biom.table.Table'> with 6690 nonzero entries (8% dense)}\n",
      "ERROR: Calculating beta diversity: cosine\n",
      "Calculating beta diversity: matching\n",
      "{'metric': 'matching', 'pseudocount': 1, 'n_jobs': 6, 'table': <artifact: FeatureTable[Frequency] uuid: d48fcd0e-63b8-4236-b0b9-cbd25b64f8d8>}\n",
      "{'metric': 'matching', 'pseudocount': 1, 'n_jobs': 6, 'table': 1967 x 41 <class 'biom.table.Table'> with 6690 nonzero entries (8% dense)}\n",
      "{'metric': 'matching', 'pseudocount': 1, 'n_jobs': 6, 'table': 1967 x 41 <class 'biom.table.Table'> with 6690 nonzero entries (8% dense)}\n",
      "DONE: Calculating beta diversity: matching\n",
      "Calculating beta diversity: jaccard\n",
      "{'metric': 'jaccard', 'pseudocount': 1, 'n_jobs': 6, 'table': <artifact: FeatureTable[Frequency] uuid: d48fcd0e-63b8-4236-b0b9-cbd25b64f8d8>}\n",
      "{'n_jobs': 6, 'table': 1967 x 41 <class 'biom.table.Table'> with 6690 nonzero entries (8% dense)}\n",
      "{'n_jobs': 6, 'table': 1967 x 41 <class 'biom.table.Table'> with 6690 nonzero entries (8% dense)}\n",
      "DONE: Calculating beta diversity: jaccard\n"
     ]
    },
    {
     "name": "stderr",
     "output_type": "stream",
     "text": [
      "/home/lauro/anaconda3/envs/qiime2-2022.2/lib/python3.8/site-packages/sklearn/metrics/pairwise.py:1761: DataConversionWarning: Data was converted to boolean for metric matching\n",
      "  warnings.warn(msg, DataConversionWarning)\n",
      "/home/lauro/anaconda3/envs/qiime2-2022.2/lib/python3.8/site-packages/sklearn/metrics/pairwise.py:1761: DataConversionWarning: Data was converted to boolean for metric jaccard\n",
      "  warnings.warn(msg, DataConversionWarning)\n"
     ]
    }
   ],
   "source": [
    "metrics = ('aitchison', 'braycurtis', 'canberra', 'canberra_adkins', 'chebyshev', 'cityblock', 'correlation', 'cosine', 'dice', 'euclidean', 'hamming', 'jaccard', 'jensenshannon', 'kulsinski', 'matching', 'minkowski', 'rogerstanimoto', 'russellrao', 'seuclidean', 'sokalmichener', 'sokalsneath', 'sqeuclidean', 'yule')\n",
    "metrics = ('euclidean', 'dice', 'braycurtis', 'correlation', 'cosine', 'matching', 'jaccard')\n",
    "beta_diversities = dict()\n",
    "for metric in metrics:\n",
    "    print(f\"Calculating beta diversity: {metric}\")\n",
    "    try:\n",
    "        beta_diversity = beta(table=tabs, metric=metric, n_jobs=6, pseudocount=1).distance_matrix\n",
    "        beta_diversities[metric] = beta_diversity\n",
    "        # Save SampleData[BetaDiversity] Artifact\n",
    "        file_path = os.path.join(beta_path, f'beta-values-{metric}.qza')\n",
    "        beta_diversity.save(file_path)\n",
    "        print(f\"DONE: Calculating beta diversity: {metric}\")\n",
    "    except Exception as e:\n",
    "        print(f\"ERROR: Calculating beta diversity: {metric}\")"
   ]
  },
  {
   "cell_type": "markdown",
   "id": "200a2fa7",
   "metadata": {
    "papermill": {
     "duration": 0.081143,
     "end_time": "2024-01-29T20:14:07.815460",
     "exception": false,
     "start_time": "2024-01-29T20:14:07.734317",
     "status": "completed"
    },
    "tags": []
   },
   "source": [
    "### Beta group significance\n",
    "\n",
    "- [diversity beta_group_significance](https://docs.qiime2.org/2022.8/plugins/available/diversity/beta-group-significance/): Determine whether groups of samples are significantly different from one another using a permutation-based statistical test.\n",
    "- Marti J Anderson. A new method for non-parametric multivariate analysis of variance. Austral ecology, 26(1):32–46, 2001. doi:https://doi.org/10.1111/j.1442-9993.2001.01070.pp.x."
   ]
  },
  {
   "cell_type": "code",
   "execution_count": 25,
   "id": "2b07b9a7",
   "metadata": {
    "ExecuteTime": {
     "end_time": "2024-01-31T20:54:18.223224Z",
     "start_time": "2024-01-31T20:50:17.129055Z"
    }
   },
   "outputs": [
    {
     "name": "stdout",
     "output_type": "stream",
     "text": [
      "Calculating beta group significance with method permanova and metric unweighted_unifrac_distance_matrix\n",
      "{'metadata': <CategoricalMetadataColumn name='group-id' id_count=41>, 'method': 'permanova', 'pairwise': True, 'permutations': 999, 'distance_matrix': <skbio.stats.distance._base.DistanceMatrix object at 0x7f50338bd790>}\n",
      "DONE: Calculating beta group significance: permanova unweighted_unifrac_distance_matrix\n",
      "Calculating beta group significance with method permanova and metric weighted_unifrac_distance_matrix\n",
      "{'metadata': <CategoricalMetadataColumn name='group-id' id_count=41>, 'method': 'permanova', 'pairwise': True, 'permutations': 999, 'distance_matrix': <skbio.stats.distance._base.DistanceMatrix object at 0x7f5035f2c370>}\n",
      "DONE: Calculating beta group significance: permanova weighted_unifrac_distance_matrix\n",
      "Calculating beta group significance with method permanova and metric jaccard_distance_matrix\n",
      "{'metadata': <CategoricalMetadataColumn name='group-id' id_count=41>, 'method': 'permanova', 'pairwise': True, 'permutations': 999, 'distance_matrix': <skbio.stats.distance._base.DistanceMatrix object at 0x7f50338124f0>}\n",
      "DONE: Calculating beta group significance: permanova jaccard_distance_matrix\n",
      "Calculating beta group significance with method permanova and metric bray_curtis_distance_matrix\n",
      "{'metadata': <CategoricalMetadataColumn name='group-id' id_count=41>, 'method': 'permanova', 'pairwise': True, 'permutations': 999, 'distance_matrix': <skbio.stats.distance._base.DistanceMatrix object at 0x7f5036437ca0>}\n",
      "DONE: Calculating beta group significance: permanova bray_curtis_distance_matrix\n",
      "Calculating beta group significance with method anosim and metric unweighted_unifrac_distance_matrix\n",
      "{'metadata': <CategoricalMetadataColumn name='group-id' id_count=41>, 'method': 'anosim', 'pairwise': True, 'permutations': 999, 'distance_matrix': <skbio.stats.distance._base.DistanceMatrix object at 0x7f5036b43b80>}\n",
      "DONE: Calculating beta group significance: anosim unweighted_unifrac_distance_matrix\n",
      "Calculating beta group significance with method anosim and metric weighted_unifrac_distance_matrix\n",
      "{'metadata': <CategoricalMetadataColumn name='group-id' id_count=41>, 'method': 'anosim', 'pairwise': True, 'permutations': 999, 'distance_matrix': <skbio.stats.distance._base.DistanceMatrix object at 0x7f50339991c0>}\n",
      "DONE: Calculating beta group significance: anosim weighted_unifrac_distance_matrix\n",
      "Calculating beta group significance with method anosim and metric jaccard_distance_matrix\n",
      "{'metadata': <CategoricalMetadataColumn name='group-id' id_count=41>, 'method': 'anosim', 'pairwise': True, 'permutations': 999, 'distance_matrix': <skbio.stats.distance._base.DistanceMatrix object at 0x7f5033788f70>}\n",
      "DONE: Calculating beta group significance: anosim jaccard_distance_matrix\n",
      "Calculating beta group significance with method anosim and metric bray_curtis_distance_matrix\n",
      "{'metadata': <CategoricalMetadataColumn name='group-id' id_count=41>, 'method': 'anosim', 'pairwise': True, 'permutations': 999, 'distance_matrix': <skbio.stats.distance._base.DistanceMatrix object at 0x7f50132808e0>}\n",
      "DONE: Calculating beta group significance: anosim bray_curtis_distance_matrix\n",
      "Calculating beta group significance with method permdisp and metric unweighted_unifrac_distance_matrix\n",
      "{'metadata': <CategoricalMetadataColumn name='group-id' id_count=41>, 'method': 'permdisp', 'pairwise': True, 'permutations': 999, 'distance_matrix': <skbio.stats.distance._base.DistanceMatrix object at 0x7f50339afe20>}\n"
     ]
    },
    {
     "name": "stderr",
     "output_type": "stream",
     "text": [
      "/home/lauro/anaconda3/envs/qiime2-2022.2/lib/python3.8/site-packages/skbio/stats/ordination/_principal_coordinate_analysis.py:143: RuntimeWarning: The result contains negative eigenvalues. Please compare their magnitude with the magnitude of some of the largest positive eigenvalues. If the negative ones are smaller, it's probably safe to ignore them, but if they are large in magnitude, the results won't be useful. See the Notes section for more details. The smallest eigenvalue is -0.001915865524015054 and the largest is 0.973733320207824.\n",
      "  warn(\n"
     ]
    },
    {
     "name": "stdout",
     "output_type": "stream",
     "text": [
      "DONE: Calculating beta group significance: permdisp unweighted_unifrac_distance_matrix\n",
      "Calculating beta group significance with method permdisp and metric weighted_unifrac_distance_matrix\n",
      "{'metadata': <CategoricalMetadataColumn name='group-id' id_count=41>, 'method': 'permdisp', 'pairwise': True, 'permutations': 999, 'distance_matrix': <skbio.stats.distance._base.DistanceMatrix object at 0x7f5033543160>}\n"
     ]
    },
    {
     "name": "stderr",
     "output_type": "stream",
     "text": [
      "/home/lauro/anaconda3/envs/qiime2-2022.2/lib/python3.8/site-packages/skbio/stats/ordination/_principal_coordinate_analysis.py:143: RuntimeWarning: The result contains negative eigenvalues. Please compare their magnitude with the magnitude of some of the largest positive eigenvalues. If the negative ones are smaller, it's probably safe to ignore them, but if they are large in magnitude, the results won't be useful. See the Notes section for more details. The smallest eigenvalue is -0.05792436087982132 and the largest is 2.75176701614936.\n",
      "  warn(\n",
      "/home/lauro/anaconda3/envs/qiime2-2022.2/lib/python3.8/site-packages/skbio/stats/ordination/_principal_coordinate_analysis.py:143: RuntimeWarning: The result contains negative eigenvalues. Please compare their magnitude with the magnitude of some of the largest positive eigenvalues. If the negative ones are smaller, it's probably safe to ignore them, but if they are large in magnitude, the results won't be useful. See the Notes section for more details. The smallest eigenvalue is -0.006508929325945792 and the largest is 0.5229890490675552.\n",
      "  warn(\n",
      "/home/lauro/anaconda3/envs/qiime2-2022.2/lib/python3.8/site-packages/skbio/stats/ordination/_principal_coordinate_analysis.py:143: RuntimeWarning: The result contains negative eigenvalues. Please compare their magnitude with the magnitude of some of the largest positive eigenvalues. If the negative ones are smaller, it's probably safe to ignore them, but if they are large in magnitude, the results won't be useful. See the Notes section for more details. The smallest eigenvalue is -0.0040884528957685915 and the largest is 0.9499953545756613.\n",
      "  warn(\n",
      "/home/lauro/anaconda3/envs/qiime2-2022.2/lib/python3.8/site-packages/skbio/stats/ordination/_principal_coordinate_analysis.py:143: RuntimeWarning: The result contains negative eigenvalues. Please compare their magnitude with the magnitude of some of the largest positive eigenvalues. If the negative ones are smaller, it's probably safe to ignore them, but if they are large in magnitude, the results won't be useful. See the Notes section for more details. The smallest eigenvalue is -0.004883126683355381 and the largest is 1.1169180956234805.\n",
      "  warn(\n",
      "/home/lauro/anaconda3/envs/qiime2-2022.2/lib/python3.8/site-packages/skbio/stats/ordination/_principal_coordinate_analysis.py:143: RuntimeWarning: The result contains negative eigenvalues. Please compare their magnitude with the magnitude of some of the largest positive eigenvalues. If the negative ones are smaller, it's probably safe to ignore them, but if they are large in magnitude, the results won't be useful. See the Notes section for more details. The smallest eigenvalue is -0.003993109862369782 and the largest is 0.7968973430702253.\n",
      "  warn(\n",
      "/home/lauro/anaconda3/envs/qiime2-2022.2/lib/python3.8/site-packages/skbio/stats/ordination/_principal_coordinate_analysis.py:143: RuntimeWarning: The result contains negative eigenvalues. Please compare their magnitude with the magnitude of some of the largest positive eigenvalues. If the negative ones are smaller, it's probably safe to ignore them, but if they are large in magnitude, the results won't be useful. See the Notes section for more details. The smallest eigenvalue is -0.008187606602829215 and the largest is 1.084065729758323.\n",
      "  warn(\n",
      "/home/lauro/anaconda3/envs/qiime2-2022.2/lib/python3.8/site-packages/skbio/stats/ordination/_principal_coordinate_analysis.py:143: RuntimeWarning: The result contains negative eigenvalues. Please compare their magnitude with the magnitude of some of the largest positive eigenvalues. If the negative ones are smaller, it's probably safe to ignore them, but if they are large in magnitude, the results won't be useful. See the Notes section for more details. The smallest eigenvalue is -0.026373160094135845 and the largest is 0.8806247970142012.\n",
      "  warn(\n",
      "/home/lauro/anaconda3/envs/qiime2-2022.2/lib/python3.8/site-packages/skbio/stats/ordination/_principal_coordinate_analysis.py:143: RuntimeWarning: The result contains negative eigenvalues. Please compare their magnitude with the magnitude of some of the largest positive eigenvalues. If the negative ones are smaller, it's probably safe to ignore them, but if they are large in magnitude, the results won't be useful. See the Notes section for more details. The smallest eigenvalue is -0.022241029295800865 and the largest is 1.0598792366639098.\n",
      "  warn(\n",
      "/home/lauro/anaconda3/envs/qiime2-2022.2/lib/python3.8/site-packages/skbio/stats/ordination/_principal_coordinate_analysis.py:143: RuntimeWarning: The result contains negative eigenvalues. Please compare their magnitude with the magnitude of some of the largest positive eigenvalues. If the negative ones are smaller, it's probably safe to ignore them, but if they are large in magnitude, the results won't be useful. See the Notes section for more details. The smallest eigenvalue is -0.010135179140818887 and the largest is 0.6738534968266541.\n",
      "  warn(\n",
      "/home/lauro/anaconda3/envs/qiime2-2022.2/lib/python3.8/site-packages/skbio/stats/ordination/_principal_coordinate_analysis.py:143: RuntimeWarning: The result contains negative eigenvalues. Please compare their magnitude with the magnitude of some of the largest positive eigenvalues. If the negative ones are smaller, it's probably safe to ignore them, but if they are large in magnitude, the results won't be useful. See the Notes section for more details. The smallest eigenvalue is -0.008437272265073376 and the largest is 1.008485096455367.\n",
      "  warn(\n",
      "/home/lauro/anaconda3/envs/qiime2-2022.2/lib/python3.8/site-packages/skbio/stats/ordination/_principal_coordinate_analysis.py:143: RuntimeWarning: The result contains negative eigenvalues. Please compare their magnitude with the magnitude of some of the largest positive eigenvalues. If the negative ones are smaller, it's probably safe to ignore them, but if they are large in magnitude, the results won't be useful. See the Notes section for more details. The smallest eigenvalue is -6.541458250621135e-05 and the largest is 0.09865252732919857.\n",
      "  warn(\n",
      "/home/lauro/anaconda3/envs/qiime2-2022.2/lib/python3.8/site-packages/skbio/stats/ordination/_principal_coordinate_analysis.py:143: RuntimeWarning: The result contains negative eigenvalues. Please compare their magnitude with the magnitude of some of the largest positive eigenvalues. If the negative ones are smaller, it's probably safe to ignore them, but if they are large in magnitude, the results won't be useful. See the Notes section for more details. The smallest eigenvalue is -0.003295360636961282 and the largest is 0.46453388406711205.\n",
      "  warn(\n",
      "/home/lauro/anaconda3/envs/qiime2-2022.2/lib/python3.8/site-packages/skbio/stats/ordination/_principal_coordinate_analysis.py:143: RuntimeWarning: The result contains negative eigenvalues. Please compare their magnitude with the magnitude of some of the largest positive eigenvalues. If the negative ones are smaller, it's probably safe to ignore them, but if they are large in magnitude, the results won't be useful. See the Notes section for more details. The smallest eigenvalue is -0.0031976003388741172 and the largest is 0.7878072098274822.\n",
      "  warn(\n",
      "/home/lauro/anaconda3/envs/qiime2-2022.2/lib/python3.8/site-packages/skbio/stats/ordination/_principal_coordinate_analysis.py:143: RuntimeWarning: The result contains negative eigenvalues. Please compare their magnitude with the magnitude of some of the largest positive eigenvalues. If the negative ones are smaller, it's probably safe to ignore them, but if they are large in magnitude, the results won't be useful. See the Notes section for more details. The smallest eigenvalue is -0.004352548998247786 and the largest is 0.5073699588259788.\n",
      "  warn(\n",
      "/home/lauro/anaconda3/envs/qiime2-2022.2/lib/python3.8/site-packages/skbio/stats/ordination/_principal_coordinate_analysis.py:143: RuntimeWarning: The result contains negative eigenvalues. Please compare their magnitude with the magnitude of some of the largest positive eigenvalues. If the negative ones are smaller, it's probably safe to ignore them, but if they are large in magnitude, the results won't be useful. See the Notes section for more details. The smallest eigenvalue is -0.004827997054923751 and the largest is 0.8283643625521274.\n",
      "  warn(\n"
     ]
    },
    {
     "name": "stderr",
     "output_type": "stream",
     "text": [
      "/home/lauro/anaconda3/envs/qiime2-2022.2/lib/python3.8/site-packages/skbio/stats/ordination/_principal_coordinate_analysis.py:143: RuntimeWarning: The result contains negative eigenvalues. Please compare their magnitude with the magnitude of some of the largest positive eigenvalues. If the negative ones are smaller, it's probably safe to ignore them, but if they are large in magnitude, the results won't be useful. See the Notes section for more details. The smallest eigenvalue is -0.004300520767647491 and the largest is 0.807943292272403.\n",
      "  warn(\n"
     ]
    },
    {
     "name": "stdout",
     "output_type": "stream",
     "text": [
      "DONE: Calculating beta group significance: permdisp weighted_unifrac_distance_matrix\n",
      "Calculating beta group significance with method permdisp and metric jaccard_distance_matrix\n",
      "{'metadata': <CategoricalMetadataColumn name='group-id' id_count=41>, 'method': 'permdisp', 'pairwise': True, 'permutations': 999, 'distance_matrix': <skbio.stats.distance._base.DistanceMatrix object at 0x7f50365a1ee0>}\n",
      "DONE: Calculating beta group significance: permdisp jaccard_distance_matrix\n",
      "Calculating beta group significance with method permdisp and metric bray_curtis_distance_matrix\n",
      "{'metadata': <CategoricalMetadataColumn name='group-id' id_count=41>, 'method': 'permdisp', 'pairwise': True, 'permutations': 999, 'distance_matrix': <skbio.stats.distance._base.DistanceMatrix object at 0x7f50300bd5e0>}\n"
     ]
    },
    {
     "name": "stderr",
     "output_type": "stream",
     "text": [
      "/home/lauro/anaconda3/envs/qiime2-2022.2/lib/python3.8/site-packages/skbio/stats/ordination/_principal_coordinate_analysis.py:143: RuntimeWarning: The result contains negative eigenvalues. Please compare their magnitude with the magnitude of some of the largest positive eigenvalues. If the negative ones are smaller, it's probably safe to ignore them, but if they are large in magnitude, the results won't be useful. See the Notes section for more details. The smallest eigenvalue is -0.012745619670497739 and the largest is 2.9898320330506203.\n",
      "  warn(\n"
     ]
    },
    {
     "name": "stdout",
     "output_type": "stream",
     "text": [
      "DONE: Calculating beta group significance: permdisp bray_curtis_distance_matrix\n"
     ]
    },
    {
     "data": {
      "text/plain": [
       "<Figure size 432x288 with 0 Axes>"
      ]
     },
     "metadata": {},
     "output_type": "display_data"
    }
   ],
   "source": [
    "methods = ('permanova', 'anosim', 'permdisp')\n",
    "for method in methods:\n",
    "    for metric, beta_diversity in distance_matrix.items():\n",
    "        print(f'Calculating beta group significance with method {method} and metric {metric}')\n",
    "        try:\n",
    "            beta_view = beta_group_significance(distance_matrix=beta_diversity, \n",
    "                                                metadata=metadata_qa.get_column(class_col), \n",
    "                                                pairwise=True, method=method).visualization\n",
    "            view_name = os.path.join(beta_path, f'beta-group-significance-{metric}-{method}.qzv')\n",
    "            beta_view.save(view_name)\n",
    "            print(f\"DONE: Calculating beta group significance: {method} {metric}\")\n",
    "        except Exception as e:\n",
    "            print(f\"ERROR: Calculating beta group significance: {method} {metric}\")"
   ]
  },
  {
   "cell_type": "code",
   "execution_count": 18,
   "id": "b8dd42b6",
   "metadata": {
    "ExecuteTime": {
     "end_time": "2024-01-31T18:29:51.432621Z",
     "start_time": "2024-01-31T18:24:52.734279Z"
    },
    "execution": {
     "iopub.execute_input": "2024-01-29T20:14:07.985778Z",
     "iopub.status.busy": "2024-01-29T20:14:07.985173Z",
     "iopub.status.idle": "2024-01-29T20:19:13.072041Z",
     "shell.execute_reply": "2024-01-29T20:19:13.071520Z"
    },
    "papermill": {
     "duration": 305.243234,
     "end_time": "2024-01-29T20:19:13.140289",
     "exception": false,
     "start_time": "2024-01-29T20:14:07.897055",
     "status": "completed"
    },
    "tags": []
   },
   "outputs": [
    {
     "name": "stdout",
     "output_type": "stream",
     "text": [
      "Calculating beta group significance with method permanova and metric euclidean\n",
      "{'metadata': <CategoricalMetadataColumn name='group-id' id_count=41>, 'method': 'permanova', 'pairwise': True, 'permutations': 999, 'distance_matrix': <skbio.stats.distance._base.DistanceMatrix object at 0x7f503654b4f0>}\n",
      "DONE: Calculating beta group significance: permanova euclidean\n",
      "Calculating beta group significance with method permanova and metric dice\n",
      "{'metadata': <CategoricalMetadataColumn name='group-id' id_count=41>, 'method': 'permanova', 'pairwise': True, 'permutations': 999, 'distance_matrix': <skbio.stats.distance._base.DistanceMatrix object at 0x7f5013433ca0>}\n",
      "DONE: Calculating beta group significance: permanova dice\n",
      "Calculating beta group significance with method permanova and metric braycurtis\n",
      "{'metadata': <CategoricalMetadataColumn name='group-id' id_count=41>, 'method': 'permanova', 'pairwise': True, 'permutations': 999, 'distance_matrix': <skbio.stats.distance._base.DistanceMatrix object at 0x7f5013407550>}\n",
      "DONE: Calculating beta group significance: permanova braycurtis\n",
      "Calculating beta group significance with method permanova and metric matching\n",
      "{'metadata': <CategoricalMetadataColumn name='group-id' id_count=41>, 'method': 'permanova', 'pairwise': True, 'permutations': 999, 'distance_matrix': <skbio.stats.distance._base.DistanceMatrix object at 0x7f5037a34a30>}\n",
      "DONE: Calculating beta group significance: permanova matching\n",
      "Calculating beta group significance with method permanova and metric jaccard\n",
      "{'metadata': <CategoricalMetadataColumn name='group-id' id_count=41>, 'method': 'permanova', 'pairwise': True, 'permutations': 999, 'distance_matrix': <skbio.stats.distance._base.DistanceMatrix object at 0x7f5035d5dca0>}\n",
      "DONE: Calculating beta group significance: permanova jaccard\n",
      "Calculating beta group significance with method anosim and metric euclidean\n",
      "{'metadata': <CategoricalMetadataColumn name='group-id' id_count=41>, 'method': 'anosim', 'pairwise': True, 'permutations': 999, 'distance_matrix': <skbio.stats.distance._base.DistanceMatrix object at 0x7f5036af7e20>}\n",
      "DONE: Calculating beta group significance: anosim euclidean\n",
      "Calculating beta group significance with method anosim and metric dice\n",
      "{'metadata': <CategoricalMetadataColumn name='group-id' id_count=41>, 'method': 'anosim', 'pairwise': True, 'permutations': 999, 'distance_matrix': <skbio.stats.distance._base.DistanceMatrix object at 0x7f5036eebdf0>}\n",
      "DONE: Calculating beta group significance: anosim dice\n",
      "Calculating beta group significance with method anosim and metric braycurtis\n",
      "{'metadata': <CategoricalMetadataColumn name='group-id' id_count=41>, 'method': 'anosim', 'pairwise': True, 'permutations': 999, 'distance_matrix': <skbio.stats.distance._base.DistanceMatrix object at 0x7f5013421130>}\n",
      "DONE: Calculating beta group significance: anosim braycurtis\n",
      "Calculating beta group significance with method anosim and metric matching\n",
      "{'metadata': <CategoricalMetadataColumn name='group-id' id_count=41>, 'method': 'anosim', 'pairwise': True, 'permutations': 999, 'distance_matrix': <skbio.stats.distance._base.DistanceMatrix object at 0x7f50130c2520>}\n",
      "DONE: Calculating beta group significance: anosim matching\n",
      "Calculating beta group significance with method anosim and metric jaccard\n",
      "{'metadata': <CategoricalMetadataColumn name='group-id' id_count=41>, 'method': 'anosim', 'pairwise': True, 'permutations': 999, 'distance_matrix': <skbio.stats.distance._base.DistanceMatrix object at 0x7f5036b6d1f0>}\n",
      "DONE: Calculating beta group significance: anosim jaccard\n",
      "Calculating beta group significance with method permdisp and metric euclidean\n",
      "{'metadata': <CategoricalMetadataColumn name='group-id' id_count=41>, 'method': 'permdisp', 'pairwise': True, 'permutations': 999, 'distance_matrix': <skbio.stats.distance._base.DistanceMatrix object at 0x7f5037a5a040>}\n"
     ]
    },
    {
     "name": "stderr",
     "output_type": "stream",
     "text": [
      "/home/lauro/anaconda3/envs/qiime2-2022.2/lib/python3.8/site-packages/skbio/stats/ordination/_principal_coordinate_analysis.py:143: RuntimeWarning: The result contains negative eigenvalues. Please compare their magnitude with the magnitude of some of the largest positive eigenvalues. If the negative ones are smaller, it's probably safe to ignore them, but if they are large in magnitude, the results won't be useful. See the Notes section for more details. The smallest eigenvalue is -1.2706625899824126e-07 and the largest is 4823340233.875997.\n",
      "  warn(\n",
      "/home/lauro/anaconda3/envs/qiime2-2022.2/lib/python3.8/site-packages/skbio/stats/ordination/_principal_coordinate_analysis.py:143: RuntimeWarning: The result contains negative eigenvalues. Please compare their magnitude with the magnitude of some of the largest positive eigenvalues. If the negative ones are smaller, it's probably safe to ignore them, but if they are large in magnitude, the results won't be useful. See the Notes section for more details. The smallest eigenvalue is -5.017591443397136e-07 and the largest is 6116075369.093403.\n",
      "  warn(\n",
      "/home/lauro/anaconda3/envs/qiime2-2022.2/lib/python3.8/site-packages/skbio/stats/ordination/_principal_coordinate_analysis.py:143: RuntimeWarning: The result contains negative eigenvalues. Please compare their magnitude with the magnitude of some of the largest positive eigenvalues. If the negative ones are smaller, it's probably safe to ignore them, but if they are large in magnitude, the results won't be useful. See the Notes section for more details. The smallest eigenvalue is -3.67664859385901e-07 and the largest is 4412509243.871736.\n",
      "  warn(\n",
      "/home/lauro/anaconda3/envs/qiime2-2022.2/lib/python3.8/site-packages/skbio/stats/ordination/_principal_coordinate_analysis.py:143: RuntimeWarning: The result contains negative eigenvalues. Please compare their magnitude with the magnitude of some of the largest positive eigenvalues. If the negative ones are smaller, it's probably safe to ignore them, but if they are large in magnitude, the results won't be useful. See the Notes section for more details. The smallest eigenvalue is -9.625054346753662e-07 and the largest is 16798218976.896502.\n",
      "  warn(\n",
      "/home/lauro/anaconda3/envs/qiime2-2022.2/lib/python3.8/site-packages/skbio/stats/ordination/_principal_coordinate_analysis.py:143: RuntimeWarning: The result contains negative eigenvalues. Please compare their magnitude with the magnitude of some of the largest positive eigenvalues. If the negative ones are smaller, it's probably safe to ignore them, but if they are large in magnitude, the results won't be useful. See the Notes section for more details. The smallest eigenvalue is -9.048478039253514e-07 and the largest is 4970731799.316669.\n",
      "  warn(\n",
      "/home/lauro/anaconda3/envs/qiime2-2022.2/lib/python3.8/site-packages/skbio/stats/ordination/_principal_coordinate_analysis.py:143: RuntimeWarning: The result contains negative eigenvalues. Please compare their magnitude with the magnitude of some of the largest positive eigenvalues. If the negative ones are smaller, it's probably safe to ignore them, but if they are large in magnitude, the results won't be useful. See the Notes section for more details. The smallest eigenvalue is -3.575729085632246e-07 and the largest is 14217364774.69676.\n",
      "  warn(\n",
      "/home/lauro/anaconda3/envs/qiime2-2022.2/lib/python3.8/site-packages/skbio/stats/ordination/_principal_coordinate_analysis.py:143: RuntimeWarning: The result contains negative eigenvalues. Please compare their magnitude with the magnitude of some of the largest positive eigenvalues. If the negative ones are smaller, it's probably safe to ignore them, but if they are large in magnitude, the results won't be useful. See the Notes section for more details. The smallest eigenvalue is -2.578150772509455e-06 and the largest is 16336235801.562513.\n",
      "  warn(\n",
      "/home/lauro/anaconda3/envs/qiime2-2022.2/lib/python3.8/site-packages/skbio/stats/ordination/_principal_coordinate_analysis.py:143: RuntimeWarning: The result contains negative eigenvalues. Please compare their magnitude with the magnitude of some of the largest positive eigenvalues. If the negative ones are smaller, it's probably safe to ignore them, but if they are large in magnitude, the results won't be useful. See the Notes section for more details. The smallest eigenvalue is -5.2407740713069973e-08 and the largest is 4980180747.351652.\n",
      "  warn(\n"
     ]
    },
    {
     "name": "stdout",
     "output_type": "stream",
     "text": [
      "DONE: Calculating beta group significance: permdisp euclidean\n",
      "Calculating beta group significance with method permdisp and metric dice\n",
      "{'metadata': <CategoricalMetadataColumn name='group-id' id_count=41>, 'method': 'permdisp', 'pairwise': True, 'permutations': 999, 'distance_matrix': <skbio.stats.distance._base.DistanceMatrix object at 0x7f5037a5afa0>}\n",
      "DONE: Calculating beta group significance: permdisp dice\n",
      "Calculating beta group significance with method permdisp and metric braycurtis\n",
      "{'metadata': <CategoricalMetadataColumn name='group-id' id_count=41>, 'method': 'permdisp', 'pairwise': True, 'permutations': 999, 'distance_matrix': <skbio.stats.distance._base.DistanceMatrix object at 0x7f5036b65370>}\n",
      "DONE: Calculating beta group significance: permdisp braycurtis\n",
      "Calculating beta group significance with method permdisp and metric matching\n",
      "{'metadata': <CategoricalMetadataColumn name='group-id' id_count=41>, 'method': 'permdisp', 'pairwise': True, 'permutations': 999, 'distance_matrix': <skbio.stats.distance._base.DistanceMatrix object at 0x7f5035b4b340>}\n"
     ]
    },
    {
     "name": "stderr",
     "output_type": "stream",
     "text": [
      "/home/lauro/anaconda3/envs/qiime2-2022.2/lib/python3.8/site-packages/skbio/stats/ordination/_principal_coordinate_analysis.py:143: RuntimeWarning: The result contains negative eigenvalues. Please compare their magnitude with the magnitude of some of the largest positive eigenvalues. If the negative ones are smaller, it's probably safe to ignore them, but if they are large in magnitude, the results won't be useful. See the Notes section for more details. The smallest eigenvalue is -0.004545948524536718 and the largest is 0.06753059824484642.\n",
      "  warn(\n",
      "/home/lauro/anaconda3/envs/qiime2-2022.2/lib/python3.8/site-packages/skbio/stats/ordination/_principal_coordinate_analysis.py:143: RuntimeWarning: The result contains negative eigenvalues. Please compare their magnitude with the magnitude of some of the largest positive eigenvalues. If the negative ones are smaller, it's probably safe to ignore them, but if they are large in magnitude, the results won't be useful. See the Notes section for more details. The smallest eigenvalue is -0.00013199632628331927 and the largest is 0.02481902813106348.\n",
      "  warn(\n",
      "/home/lauro/anaconda3/envs/qiime2-2022.2/lib/python3.8/site-packages/skbio/stats/ordination/_principal_coordinate_analysis.py:143: RuntimeWarning: The result contains negative eigenvalues. Please compare their magnitude with the magnitude of some of the largest positive eigenvalues. If the negative ones are smaller, it's probably safe to ignore them, but if they are large in magnitude, the results won't be useful. See the Notes section for more details. The smallest eigenvalue is -0.0009809883637852397 and the largest is 0.04631019268379754.\n",
      "  warn(\n",
      "/home/lauro/anaconda3/envs/qiime2-2022.2/lib/python3.8/site-packages/skbio/stats/ordination/_principal_coordinate_analysis.py:143: RuntimeWarning: The result contains negative eigenvalues. Please compare their magnitude with the magnitude of some of the largest positive eigenvalues. If the negative ones are smaller, it's probably safe to ignore them, but if they are large in magnitude, the results won't be useful. See the Notes section for more details. The smallest eigenvalue is -0.0012694010132377476 and the largest is 0.04954318260667485.\n",
      "  warn(\n",
      "/home/lauro/anaconda3/envs/qiime2-2022.2/lib/python3.8/site-packages/skbio/stats/ordination/_principal_coordinate_analysis.py:143: RuntimeWarning: The result contains negative eigenvalues. Please compare their magnitude with the magnitude of some of the largest positive eigenvalues. If the negative ones are smaller, it's probably safe to ignore them, but if they are large in magnitude, the results won't be useful. See the Notes section for more details. The smallest eigenvalue is -0.0008518473795838298 and the largest is 0.05206099896423094.\n",
      "  warn(\n",
      "/home/lauro/anaconda3/envs/qiime2-2022.2/lib/python3.8/site-packages/skbio/stats/ordination/_principal_coordinate_analysis.py:143: RuntimeWarning: The result contains negative eigenvalues. Please compare their magnitude with the magnitude of some of the largest positive eigenvalues. If the negative ones are smaller, it's probably safe to ignore them, but if they are large in magnitude, the results won't be useful. See the Notes section for more details. The smallest eigenvalue is -0.0005827986026664819 and the largest is 0.048288201072597195.\n",
      "  warn(\n",
      "/home/lauro/anaconda3/envs/qiime2-2022.2/lib/python3.8/site-packages/skbio/stats/ordination/_principal_coordinate_analysis.py:143: RuntimeWarning: The result contains negative eigenvalues. Please compare their magnitude with the magnitude of some of the largest positive eigenvalues. If the negative ones are smaller, it's probably safe to ignore them, but if they are large in magnitude, the results won't be useful. See the Notes section for more details. The smallest eigenvalue is -0.0010385748290584343 and the largest is 0.05312509060725153.\n",
      "  warn(\n"
     ]
    },
    {
     "name": "stdout",
     "output_type": "stream",
     "text": [
      "DONE: Calculating beta group significance: permdisp matching\n",
      "Calculating beta group significance with method permdisp and metric jaccard\n",
      "{'metadata': <CategoricalMetadataColumn name='group-id' id_count=41>, 'method': 'permdisp', 'pairwise': True, 'permutations': 999, 'distance_matrix': <skbio.stats.distance._base.DistanceMatrix object at 0x7f50365a1280>}\n",
      "DONE: Calculating beta group significance: permdisp jaccard\n"
     ]
    },
    {
     "data": {
      "text/plain": [
       "<Figure size 432x288 with 0 Axes>"
      ]
     },
     "metadata": {},
     "output_type": "display_data"
    }
   ],
   "source": [
    "methods = ('permanova', 'anosim', 'permdisp')\n",
    "for method in methods:\n",
    "    for metric, beta_diversity in beta_diversities.items():\n",
    "        print(f'Calculating beta group significance with method {method} and metric {metric}')\n",
    "        try:\n",
    "            beta_view = beta_group_significance(distance_matrix=beta_diversity, \n",
    "                                                metadata=metadata_qa.get_column(class_col), \n",
    "                                                pairwise=True, method=method).visualization\n",
    "            view_name = os.path.join(beta_path, f'beta-group-significance-{metric}-{method}.qzv')\n",
    "            beta_view.save(view_name)\n",
    "            print(f\"DONE: Calculating beta group significance: {method} {metric}\")\n",
    "        except Exception as e:\n",
    "            print(f\"ERROR: Calculating beta group significance: {method} {metric}\")"
   ]
  },
  {
   "cell_type": "markdown",
   "id": "c0de85cf",
   "metadata": {
    "papermill": {
     "duration": 0.13948,
     "end_time": "2024-01-29T20:19:13.380974",
     "exception": false,
     "start_time": "2024-01-29T20:19:13.241494",
     "status": "completed"
    },
    "tags": []
   },
   "source": [
    "### Beta group Rarefaction\n",
    "\n",
    "- [diversity beta_rarefaction](https://docs.qiime2.org/2022.8/plugins/available/diversity/beta-rarefaction/): Repeatedly rarefy a feature table to compare beta diversity results within a given rarefaction depth.  For a given beta diversity metric, this visualizer will provide: an Emperor jackknifed PCoA plot, samples clustered by UPGMA or neighbor joining with support calculation, and a heatmap showing the correlation between rarefaction trials of that beta diversity metric."
   ]
  },
  {
   "cell_type": "code",
   "execution_count": 19,
   "id": "c2263750",
   "metadata": {
    "ExecuteTime": {
     "end_time": "2024-01-31T18:29:51.437296Z",
     "start_time": "2024-01-31T18:29:51.434254Z"
    }
   },
   "outputs": [],
   "source": [
    "from qiime2.plugins.diversity.visualizers import beta_rarefaction\n",
    "from qiime2.plugins.beta_rarefaction"
   ]
  },
  {
   "cell_type": "code",
   "execution_count": 20,
   "id": "1986f290",
   "metadata": {
    "ExecuteTime": {
     "end_time": "2024-01-31T18:35:44.259688Z",
     "start_time": "2024-01-31T18:35:43.389216Z"
    }
   },
   "outputs": [
    {
     "name": "stdout",
     "output_type": "stream",
     "text": [
      "Usage: \u001b[94mqiime diversity beta-phylogenetic\u001b[0m [OPTIONS]\r\n",
      "\r\n",
      "  Computes a user-specified phylogenetic beta diversity metric for all pairs\r\n",
      "  of samples in a feature table.\r\n",
      "\r\n",
      "\u001b[1mInputs\u001b[0m:\r\n",
      "  \u001b[94m\u001b[4m--i-table\u001b[0m ARTIFACT \u001b[32mFeatureTable[Frequency | RelativeFrequency |\u001b[0m\r\n",
      "    \u001b[32mPresenceAbsence]\u001b[0m      The feature table containing the samples over which\r\n",
      "                          beta diversity should be computed.        \u001b[35m[required]\u001b[0m\r\n",
      "  \u001b[94m\u001b[4m--i-phylogeny\u001b[0m ARTIFACT  Phylogenetic tree containing tip identifiers that\r\n",
      "    \u001b[32mPhylogeny[Rooted]\u001b[0m     correspond to the feature identifiers in the table.\r\n",
      "                          This tree can contain tip ids that are not present\r\n",
      "                          in the table, but all feature ids in the table must\r\n",
      "                          be present in this tree.                  \u001b[35m[required]\u001b[0m\r\n",
      "\u001b[1mParameters\u001b[0m:\r\n",
      "  \u001b[94m\u001b[4m--p-metric\u001b[0m TEXT \u001b[32mChoices('weighted_unifrac',\u001b[0m\r\n",
      "    \u001b[32m'weighted_normalized_unifrac', 'generalized_unifrac',\u001b[0m\r\n",
      "    \u001b[32m'unweighted_unifrac')\u001b[0m The beta diversity metric to be computed. \u001b[35m[required]\u001b[0m\r\n",
      "  \u001b[94m--p-threads\u001b[0m VALUE \u001b[32mInt % Range(1, None) | Str % Choices('auto')\u001b[0m\r\n",
      "                          The number of CPU threads to use in performing this\r\n",
      "                          calculation. May not exceed the number of available\r\n",
      "                          physical cores. If threads = 'auto', one thread will\r\n",
      "                          be created for each identified CPU core on the host.\r\n",
      "                                                                  \u001b[35m[default: 1]\u001b[0m\r\n",
      "  \u001b[94m--p-variance-adjusted\u001b[0m / \u001b[94m--p-no-variance-adjusted\u001b[0m\r\n",
      "                          Perform variance adjustment based on Chang et al.\r\n",
      "                          BMC Bioinformatics 2011. Weights distances based on\r\n",
      "                          the proportion of the relative abundance represented\r\n",
      "                          between the samples at a given node under\r\n",
      "                          evaluation.                         \u001b[35m[default: False]\u001b[0m\r\n",
      "  \u001b[94m--p-alpha\u001b[0m PROPORTION \u001b[32mRange(0, 1, inclusive_end=True)\u001b[0m\r\n",
      "                          This parameter is only used when the choice of\r\n",
      "                          metric is generalized_unifrac. The value of alpha\r\n",
      "                          controls importance of sample proportions. 1.0 is\r\n",
      "                          weighted normalized UniFrac. 0.0 is close to\r\n",
      "                          unweighted UniFrac, but only if the sample\r\n",
      "                          proportions are dichotomized.             \u001b[35m[optional]\u001b[0m\r\n",
      "  \u001b[94m--p-bypass-tips\u001b[0m / \u001b[94m--p-no-bypass-tips\u001b[0m\r\n",
      "                          In a bifurcating tree, the tips make up about 50%\r\n",
      "                          of the nodes in a tree. By ignoring them,\r\n",
      "                          specificity can be traded for reduced compute time.\r\n",
      "                          This has the effect of collapsing the phylogeny, and\r\n",
      "                          is analogous (in concept) to moving from 99% to 97%\r\n",
      "                          OTUs                                \u001b[35m[default: False]\u001b[0m\r\n",
      "\u001b[1mOutputs\u001b[0m:\r\n",
      "  \u001b[94m\u001b[4m--o-distance-matrix\u001b[0m ARTIFACT\r\n",
      "    \u001b[32mDistanceMatrix\u001b[0m        The resulting distance matrix.            \u001b[35m[required]\u001b[0m\r\n",
      "\u001b[1mMiscellaneous\u001b[0m:\r\n",
      "  \u001b[94m--output-dir\u001b[0m PATH       Output unspecified results to a directory\r\n",
      "  \u001b[94m--verbose\u001b[0m / \u001b[94m--quiet\u001b[0m     Display verbose output to stdout and/or stderr\r\n",
      "                          during execution of this action. Or silence output\r\n",
      "                          if execution is successful (silence is golden).\r\n",
      "  \u001b[94m--example-data\u001b[0m PATH     Write example data and exit.\r\n",
      "  \u001b[94m--citations\u001b[0m             Show citations and exit.\r\n",
      "  \u001b[94m--help\u001b[0m                  Show this message and exit.\r\n",
      "\r\n",
      "\u001b[33m                  There were some problems with the command:                  \u001b[0m\r\n",
      "\u001b[31m\u001b[1m (1/4) Missing option '--i-table'.\u001b[0m\r\n",
      "\u001b[31m\u001b[1m (2/4) Missing option '--i-phylogeny'.\u001b[0m\r\n",
      "\u001b[31m\u001b[1m (3/4) Missing option '--p-metric'.\u001b[0m\r\n",
      "\u001b[31m\u001b[1m (4/4) Missing option '--o-distance-matrix'.  (\"--output-dir\" may also be\r\n",
      "  used)\u001b[0m\r\n"
     ]
    }
   ],
   "source": [
    "unifrac.unweighted_to_file()"
   ]
  }
 ],
 "metadata": {
  "celltoolbar": "Edit Metadata",
  "kernelspec": {
   "display_name": "Python 3 (ipykernel)",
   "language": "python",
   "name": "python3"
  },
  "language_info": {
   "codemirror_mode": {
    "name": "ipython",
    "version": 3
   },
   "file_extension": ".py",
   "mimetype": "text/x-python",
   "name": "python",
   "nbconvert_exporter": "python",
   "pygments_lexer": "ipython3",
   "version": "3.8.12"
  },
  "papermill": {
   "default_parameters": {},
   "duration": 370.035741,
   "end_time": "2024-01-29T20:19:14.755270",
   "environment_variables": {},
   "exception": null,
   "input_path": "nb-templates/step-diversity-analysis2.ipynb",
   "output_path": "/home/lauro/nupeb/rede-micro/redemicro-ana-flavia-nutri/experiments/ana-flavia-all/nb-executed-steps/step-diversity-analysis-ana-flavia-all.ipynb",
   "parameters": {
    "PAPERMILL_INPUT_PATH": "nb-templates/step-diversity-analysis2.ipynb",
    "PAPERMILL_OUTPUT_PATH": "/home/lauro/nupeb/rede-micro/redemicro-ana-flavia-nutri/experiments/ana-flavia-all/nb-executed-steps/step-diversity-analysis-ana-flavia-all.ipynb",
    "base_dir": "/home/lauro/nupeb/rede-micro/redemicro-ana-flavia-nutri",
    "class_col": "group-id",
    "classifier_file": "/home/lauro/nupeb/rede-micro/models/silva-138-99-nb-classifier.qza",
    "experiment_name": "ana-flavia-all",
    "manifest_file": "/home/lauro/nupeb/rede-micro/redemicro-ana-flavia-nutri/data/raw/manifest-all-ana.csv",
    "metadata_file": "/home/lauro/nupeb/rede-micro/redemicro-ana-flavia-nutri/data/raw/metadata-all-ana.tsv",
    "overlap": 12,
    "phred": 20,
    "replace_files": false,
    "threads": 6,
    "top_n": 20,
    "trim": {
     "forward_primer": "CCTACGGGRSGCAGCAG",
     "overlap": 8,
     "reverse_primer": "GGACTACHVGGGTWTCTAAT"
    },
    "trunc_f": 0,
    "trunc_r": 0
   },
   "start_time": "2024-01-29T20:13:04.719529",
   "version": "2.3.4"
  }
 },
 "nbformat": 4,
 "nbformat_minor": 5
}
