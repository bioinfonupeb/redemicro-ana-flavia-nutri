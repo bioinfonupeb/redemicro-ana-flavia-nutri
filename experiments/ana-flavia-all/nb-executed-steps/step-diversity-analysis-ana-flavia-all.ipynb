{
 "cells": [
  {
   "cell_type": "markdown",
   "id": "15bcfa06",
   "metadata": {
    "papermill": {
     "duration": 0.019972,
     "end_time": "2024-03-06T13:19:43.816301",
     "exception": false,
     "start_time": "2024-03-06T13:19:43.796329",
     "status": "completed"
    },
    "tags": []
   },
   "source": [
    " \n",
    "# Alpha and Beta Diversity\n",
    "\n",
    "Different higher-level measures are often used to describe the microbiome in a sample. These do not provide information on changes in the abundance of specific taxa but allow us to access a broader change or difference in the composition of microorganisms. Alpha and beta diversity are examples of such measures.\n",
    "\n",
    "Different measures exist to estimate diversity within a single sample, jointly called alpha diversity. The different measures reflect the richness (number) or distribution (evenness) of a microbial sample or aim to reflect a combination of both properties.\n",
    "\n",
    "Rarefaction curves are often used when calculating alpha diversity indices because increasing numbers of sequenced taxa allow increasingly accurate estimates of total population diversity. Rarefaction curves can therefore be used to estimate the full sample richness, as compared to the observed sample richness.\n",
    "\n",
    "While alpha diversity is a measure of microbiome diversity applicable to a single sample, beta diversity is a measure of the similarity or dissimilarity of two communities. As for alpha diversity, many indices exist, each reflecting different aspects of community heterogeneity. Key differences relate to how the indices value variation in rare species if they consider presence/absence only or incorporate abundance, and how they interpret shared absence. Bray-Curtis dissimilarity is a popular measure that considers both size (overall abundance per sample) and shape (abundance of each taxon) of the communities (Bray, 1957). Beta diversity is an essential measure for many popular statistical methods in ecology, such as ordination-based methods, and is widely used for studying the association between environmental variables and microbial composition.\n",
    "\n",
    "In summary, alpha diversity measures can be seen as a summary statistic of a single population (within-sample diversity), while beta diversity measures are estimates of similarity or dissimilarity between populations (between samples).\n",
    "\n",
    "**Source**: (https://biomcare.com/info/key-terms-in-microbiome-projects/)"
   ]
  },
  {
   "cell_type": "markdown",
   "id": "0e7f2330",
   "metadata": {
    "ExecuteTime": {
     "end_time": "2022-09-22T19:36:33.828188Z",
     "start_time": "2022-09-22T19:36:33.817323Z"
    },
    "papermill": {
     "duration": 0.007907,
     "end_time": "2024-03-06T13:19:43.840083",
     "exception": false,
     "start_time": "2024-03-06T13:19:43.832176",
     "status": "completed"
    },
    "tags": []
   },
   "source": [
    "### STEP : Diversity Analysis\n",
    "\n",
    "Using QIIME2 to create diversity analisys graphs and calculations.\n",
    "\n",
    "- [QIIME2 Workflow Overview](https://docs.qiime2.org/2022.8/tutorials/overview/)\n",
    "\n",
    "\n",
    "#### Methods\n",
    "- [diversity](https://docs.qiime2.org/2022.8/plugins/available/diversity/)\n",
    "- [diversity alpha](https://docs.qiime2.org/2022.8/plugins/available/diversity/alpha/)\n",
    "- [diversity alpha_phylogenetic](https://docs.qiime2.org/2022.8/plugins/available/diversity/alpha-phylogenetic/)\n",
    "- [diversity beta](https://docs.qiime2.org/2022.8/plugins/available/diversity/beta/)\n",
    "- [diversity core_metrics](https://docs.qiime2.org/2022.8/plugins/available/diversity/core-metrics/)\n",
    "- [diversity alpha_group_significance](https://docs.qiime2.org/2022.8/plugins/available/diversity/alpha-group-significance/)\n",
    "- [diversity beta_group_significance](https://docs.qiime2.org/2022.8/plugins/available/diversity/beta-group-significance/)\n",
    "- [feature_table core_features](https://docs.qiime2.org/2022.8/plugins/available/feature-table/core-features/)\n",
    "- [feature_table summarize](https://docs.qiime2.org/2022.8/plugins/available/feature-table/summarize/)\n",
    "- [taxa filter-table](https://docs.qiime2.org/2022.8/plugins/available/taxa/filter-table/)\n",
    "- [taxa collapse](https://docs.qiime2.org/2022.8/plugins/available/taxa/collapse/)"
   ]
  },
  {
   "cell_type": "markdown",
   "id": "843debbf",
   "metadata": {
    "papermill": {
     "duration": 0.005018,
     "end_time": "2024-03-06T13:19:43.851165",
     "exception": false,
     "start_time": "2024-03-06T13:19:43.846147",
     "status": "completed"
    },
    "tags": []
   },
   "source": [
    "## Setup and settings"
   ]
  },
  {
   "cell_type": "code",
   "execution_count": 1,
   "id": "965e28e5",
   "metadata": {
    "ExecuteTime": {
     "end_time": "2022-11-03T20:35:26.198671Z",
     "start_time": "2022-11-03T20:35:06.473173Z"
    },
    "execution": {
     "iopub.execute_input": "2024-03-06T13:19:43.860290Z",
     "iopub.status.busy": "2024-03-06T13:19:43.860130Z",
     "iopub.status.idle": "2024-03-06T13:19:48.336368Z",
     "shell.execute_reply": "2024-03-06T13:19:48.335872Z"
    },
    "papermill": {
     "duration": 4.481992,
     "end_time": "2024-03-06T13:19:48.337546",
     "exception": false,
     "start_time": "2024-03-06T13:19:43.855554",
     "status": "completed"
    },
    "tags": []
   },
   "outputs": [],
   "source": [
    "# Importing packages\n",
    "import os\n",
    "import pandas as pd\n",
    "from qiime2 import Artifact\n",
    "from qiime2 import Visualization\n",
    "from qiime2 import Metadata\n",
    "\n",
    "from qiime2.plugins.phylogeny.pipelines import align_to_tree_mafft_fasttree\n",
    "\n",
    "from qiime2.plugins.diversity.pipelines import alpha\n",
    "from qiime2.plugins.diversity.pipelines import beta\n",
    "from qiime2.plugins.diversity.pipelines import core_metrics\n",
    "from qiime2.plugins.diversity.pipelines import alpha_phylogenetic\n",
    "\n",
    "from qiime2.plugins.diversity.visualizers import alpha_group_significance\n",
    "from qiime2.plugins.diversity.visualizers import beta_group_significance\n",
    "from qiime2.plugins.diversity.visualizers import alpha_correlation\n",
    "from qiime2.plugins.diversity.visualizers import beta_rarefaction\n",
    "\n",
    "from qiime2.plugins.taxa.methods import filter_table\n",
    "from qiime2.plugins.taxa.methods import collapse\n",
    "\n",
    "from qiime2.plugins.feature_table.visualizers import tabulate_seqs\n",
    "from qiime2.plugins.feature_table.visualizers import summarize\n",
    "from qiime2.plugins.feature_table.visualizers import core_features\n",
    "from qiime2.plugins.diversity.pipelines import core_metrics_phylogenetic\n",
    "\n",
    "from qiime2.plugins.feature_table.methods import filter_samples\n",
    "from qiime2.plugins.feature_table.methods import filter_seqs\n",
    "\n",
    "from qiime2.plugins.alignment.methods import mafft\n",
    "\n",
    "\n",
    "import matplotlib.pyplot as plt\n",
    "\n",
    "%matplotlib inline"
   ]
  },
  {
   "cell_type": "markdown",
   "id": "530ceb60",
   "metadata": {
    "papermill": {
     "duration": 0.003044,
     "end_time": "2024-03-06T13:19:48.343657",
     "exception": false,
     "start_time": "2024-03-06T13:19:48.340613",
     "status": "completed"
    },
    "tags": []
   },
   "source": [
    "### Receiving the parameters\n",
    "\n",
    "The following cell can receive parameters using the [papermill](https://papermill.readthedocs.io/en/latest/) tool."
   ]
  },
  {
   "cell_type": "code",
   "execution_count": 2,
   "id": "18d874ea",
   "metadata": {
    "ExecuteTime": {
     "end_time": "2022-09-29T20:54:14.793270Z",
     "start_time": "2022-09-29T20:54:14.789367Z"
    },
    "execution": {
     "iopub.execute_input": "2024-03-06T13:19:48.350226Z",
     "iopub.status.busy": "2024-03-06T13:19:48.349879Z",
     "iopub.status.idle": "2024-03-06T13:19:48.352678Z",
     "shell.execute_reply": "2024-03-06T13:19:48.352392Z"
    },
    "papermill": {
     "duration": 0.007024,
     "end_time": "2024-03-06T13:19:48.353516",
     "exception": false,
     "start_time": "2024-03-06T13:19:48.346492",
     "status": "completed"
    },
    "tags": [
     "parameters"
    ]
   },
   "outputs": [],
   "source": [
    "base_dir = os.path.join('/', 'home')\n",
    "metadata_file = os.path.abspath(os.path.join(base_dir, 'data', 'metadatada.tsv'))\n",
    "experiment_name = ''\n",
    "class_col = ''\n",
    "replace_files = False"
   ]
  },
  {
   "cell_type": "code",
   "execution_count": 3,
   "id": "c6a7c620",
   "metadata": {
    "execution": {
     "iopub.execute_input": "2024-03-06T13:19:48.359923Z",
     "iopub.status.busy": "2024-03-06T13:19:48.359804Z",
     "iopub.status.idle": "2024-03-06T13:19:48.362605Z",
     "shell.execute_reply": "2024-03-06T13:19:48.362314Z"
    },
    "papermill": {
     "duration": 0.007065,
     "end_time": "2024-03-06T13:19:48.363442",
     "exception": false,
     "start_time": "2024-03-06T13:19:48.356377",
     "status": "completed"
    },
    "tags": [
     "injected-parameters"
    ]
   },
   "outputs": [],
   "source": [
    "# Parameters\n",
    "experiment_name = \"ana-flavia-all\"\n",
    "base_dir = \"/mnt/nupeb/rede-micro/redemicro-ana-flavia-nutri\"\n",
    "manifest_file = (\n",
    "    \"/mnt/nupeb/rede-micro/redemicro-ana-flavia-nutri/data/raw/manifest-all-ana.csv\"\n",
    ")\n",
    "metadata_file = (\n",
    "    \"/mnt/nupeb/rede-micro/redemicro-ana-flavia-nutri/data/raw/metadata-all-ana.tsv\"\n",
    ")\n",
    "class_col = \"group-id\"\n",
    "classifier_file = \"/mnt/nupeb/rede-micro/datasets/16S_classifiers_qiime2/silva-138-99-nb-classifier.qza\"\n",
    "top_n = 20\n",
    "replace_files = False\n",
    "phred = 20\n",
    "trunc_f = 0\n",
    "trunc_r = 0\n",
    "overlap = 12\n",
    "threads = 6\n",
    "trim = {\n",
    "    \"overlap\": 8,\n",
    "    \"forward_primer\": \"CCTACGGGRSGCAGCAG\",\n",
    "    \"reverse_primer\": \"GGACTACHVGGGTWTCTAAT\",\n",
    "}\n"
   ]
  },
  {
   "cell_type": "code",
   "execution_count": 4,
   "id": "f38617d9",
   "metadata": {
    "ExecuteTime": {
     "end_time": "2022-09-29T20:54:14.804575Z",
     "start_time": "2022-09-29T20:54:14.794927Z"
    },
    "execution": {
     "iopub.execute_input": "2024-03-06T13:19:48.369853Z",
     "iopub.status.busy": "2024-03-06T13:19:48.369620Z",
     "iopub.status.idle": "2024-03-06T13:19:48.371905Z",
     "shell.execute_reply": "2024-03-06T13:19:48.371613Z"
    },
    "papermill": {
     "duration": 0.006403,
     "end_time": "2024-03-06T13:19:48.372752",
     "exception": false,
     "start_time": "2024-03-06T13:19:48.366349",
     "status": "completed"
    },
    "tags": []
   },
   "outputs": [],
   "source": [
    "experiment_folder = os.path.abspath(os.path.join(base_dir, 'experiments', experiment_name))\n",
    "img_folder = os.path.abspath(os.path.join(experiment_folder, 'imgs'))"
   ]
  },
  {
   "cell_type": "markdown",
   "id": "ea9b90fb",
   "metadata": {
    "papermill": {
     "duration": 0.002935,
     "end_time": "2024-03-06T13:19:48.378737",
     "exception": false,
     "start_time": "2024-03-06T13:19:48.375802",
     "status": "completed"
    },
    "tags": []
   },
   "source": [
    "### Defining names, paths and flags"
   ]
  },
  {
   "cell_type": "code",
   "execution_count": 5,
   "id": "45727eef",
   "metadata": {
    "ExecuteTime": {
     "end_time": "2022-09-29T20:54:14.816686Z",
     "start_time": "2022-09-29T20:54:14.806238Z"
    },
    "execution": {
     "iopub.execute_input": "2024-03-06T13:19:48.385352Z",
     "iopub.status.busy": "2024-03-06T13:19:48.385204Z",
     "iopub.status.idle": "2024-03-06T13:19:48.389048Z",
     "shell.execute_reply": "2024-03-06T13:19:48.388653Z"
    },
    "papermill": {
     "duration": 0.008067,
     "end_time": "2024-03-06T13:19:48.389959",
     "exception": false,
     "start_time": "2024-03-06T13:19:48.381892",
     "status": "completed"
    },
    "tags": []
   },
   "outputs": [],
   "source": [
    "# QIIME2 Artifacts folder\n",
    "qiime_folder = os.path.join(experiment_folder, 'qiime-artifacts')\n",
    "\n",
    "# Input - DADA2 Artifacts\n",
    "dada2_tabs_path = os.path.join(qiime_folder, 'dada2-tabs.qza')\n",
    "dada2_reps_path = os.path.join(qiime_folder, 'dada2-reps.qza')\n",
    "dada2_stat_path = os.path.join(qiime_folder, 'dada2-stat.qza')\n",
    "\n",
    "# Input - Taxonaomic Artifacts\n",
    "taxonomy_path = os.path.join(qiime_folder, 'metatax.qza')\n",
    "\n",
    "# Create folder to store Alpha files\n",
    "alpha_path = os.path.join(qiime_folder, 'alpha-analysis')\n",
    "if not os.path.exists(alpha_path):\n",
    "    os.makedirs(alpha_path)\n",
    "    print(f'The new directory is created in {alpha_path}')\n",
    "    \n",
    "# Create folder to store Beta files\n",
    "beta_path = os.path.join(qiime_folder, 'beta-analysis')\n",
    "if not os.path.exists(beta_path):\n",
    "    os.makedirs(beta_path)\n",
    "    print(f'The new directory is created in {beta_path}')\n",
    "\n",
    "# Output -Diversity Artifacts\n",
    "alpha_diversity_path = os.path.join(alpha_path, 'alpha-diversity.qza')\n",
    "alpha_diversity_view_path = os.path.join(alpha_path, 'alpha-diversity.qzv')\n",
    "beta_diversity_path = os.path.join(beta_path, 'beta-diversity.qza')\n",
    "beta_diversity_view_path = os.path.join(beta_path, 'beta-diversity.qzv')"
   ]
  },
  {
   "cell_type": "code",
   "execution_count": 6,
   "id": "601ae263",
   "metadata": {
    "ExecuteTime": {
     "end_time": "2022-09-29T20:54:14.829117Z",
     "start_time": "2022-09-29T20:54:14.818272Z"
    },
    "execution": {
     "iopub.execute_input": "2024-03-06T13:19:48.396267Z",
     "iopub.status.busy": "2024-03-06T13:19:48.396150Z",
     "iopub.status.idle": "2024-03-06T13:19:48.399718Z",
     "shell.execute_reply": "2024-03-06T13:19:48.399316Z"
    },
    "papermill": {
     "duration": 0.007817,
     "end_time": "2024-03-06T13:19:48.400612",
     "exception": false,
     "start_time": "2024-03-06T13:19:48.392795",
     "status": "completed"
    },
    "tags": []
   },
   "outputs": [],
   "source": [
    "def filter_and_collapse(tab, seqs, tax, meta, lvl, exclude=True, exclude_list='uncultured,unidentified,metagenome'):\n",
    "    from qiime2.plugins.taxa.methods import collapse\n",
    "    from qiime2.plugins.taxa.methods import filter_table\n",
    "    from qiime2.plugins.feature_table.methods import filter_seqs\n",
    "    from qiime2.plugins.feature_table.visualizers import summarize\n",
    "    \n",
    "    to_include = ('d', 'p', 'c', 'o', 'f', 'g', 's')[lvl-1]\n",
    "    to_include += '__'\n",
    "    to_exclude = exclude_list if exclude else None\n",
    "    \n",
    "    filtered_tabs = filter_table(\n",
    "        table=tab, \n",
    "        taxonomy=tax,\n",
    "        include=to_include,\n",
    "        exclude=to_exclude,\n",
    "        mode='contains').filtered_table\n",
    "    \n",
    "    filtered_seqs = filter_seqs(\n",
    "        data = seqs,\n",
    "        table = filtered_tabs,\n",
    "    ).filtered_data\n",
    "    \n",
    "    collapsed_table = collapse(table=filtered_tabs, taxonomy=tax, level=lvl).collapsed_table\n",
    "    collapsed_table_view = summarize(table=collapsed_table, sample_metadata=meta).visualization\n",
    "    \n",
    "    return collapsed_table, collapsed_table_view, filtered_seqs"
   ]
  },
  {
   "cell_type": "markdown",
   "id": "0999a1b2",
   "metadata": {
    "papermill": {
     "duration": 0.002968,
     "end_time": "2024-03-06T13:19:48.406539",
     "exception": false,
     "start_time": "2024-03-06T13:19:48.403571",
     "status": "completed"
    },
    "tags": []
   },
   "source": [
    "## Step execution\n",
    "\n",
    "### Load input files\n",
    "\n",
    "This Step import the QIIME2 `FeatureTable[Frequency]` Artifact and the `Metadata` file."
   ]
  },
  {
   "cell_type": "code",
   "execution_count": 7,
   "id": "8f299d1a",
   "metadata": {
    "ExecuteTime": {
     "end_time": "2022-09-29T20:54:15.559837Z",
     "start_time": "2022-09-29T20:54:14.830405Z"
    },
    "execution": {
     "iopub.execute_input": "2024-03-06T13:19:48.412944Z",
     "iopub.status.busy": "2024-03-06T13:19:48.412823Z",
     "iopub.status.idle": "2024-03-06T13:19:49.372151Z",
     "shell.execute_reply": "2024-03-06T13:19:49.371668Z"
    },
    "papermill": {
     "duration": 0.963769,
     "end_time": "2024-03-06T13:19:49.373243",
     "exception": false,
     "start_time": "2024-03-06T13:19:48.409474",
     "status": "completed"
    },
    "tags": []
   },
   "outputs": [],
   "source": [
    "#Load Metadata\n",
    "metadata_qa = Metadata.load(metadata_file)\n",
    "\n",
    "#Load FeatureTable[Frequency]\n",
    "tabs = Artifact.load(dada2_tabs_path)\n",
    "tabs_df = tabs.view(Metadata).to_dataframe().T\n",
    "\n",
    "# FeatureData[Sequence]\n",
    "reps = Artifact.load(dada2_reps_path)\n",
    "\n",
    "# FeatureData[Taxonomy]\n",
    "tax = Artifact.load(taxonomy_path)"
   ]
  },
  {
   "cell_type": "code",
   "execution_count": 8,
   "id": "c8dfe530",
   "metadata": {
    "ExecuteTime": {
     "end_time": "2022-09-29T20:54:15.564968Z",
     "start_time": "2022-09-29T20:54:15.561875Z"
    },
    "execution": {
     "iopub.execute_input": "2024-03-06T13:19:49.380597Z",
     "iopub.status.busy": "2024-03-06T13:19:49.380240Z",
     "iopub.status.idle": "2024-03-06T13:19:49.902945Z",
     "shell.execute_reply": "2024-03-06T13:19:49.902478Z"
    },
    "papermill": {
     "duration": 0.52739,
     "end_time": "2024-03-06T13:19:49.903958",
     "exception": false,
     "start_time": "2024-03-06T13:19:49.376568",
     "status": "completed"
    },
    "tags": []
   },
   "outputs": [
    {
     "name": "stderr",
     "output_type": "stream",
     "text": [
      "/home/lauro/anaconda3/envs/qiime2-2023.5/lib/python3.8/site-packages/q2_types/feature_data/_transformer.py:258: FutureWarning: iteritems is deprecated and will be removed in a future version. Use .items instead.\n",
      "  for id_, seq in data.iteritems():\n"
     ]
    }
   ],
   "source": [
    "# Filter FeatureTable[Frequency | RelativeFrequency | PresenceAbsence | Composition] based on Metadata sample ID values\n",
    "tabs = filter_samples(\n",
    "    table=tabs,\n",
    "    metadata=metadata_qa,\n",
    ").filtered_table\n",
    "# Filter SampleData[SequencesWithQuality | PairedEndSequencesWithQuality | JoinedSequencesWithQuality] based on Metadata sample ID values; returns FeatureData[Sequence | AlignedSequence]\n",
    "reps = filter_seqs(\n",
    "    data=reps,\n",
    "    table=tabs,\n",
    ").filtered_data"
   ]
  },
  {
   "cell_type": "markdown",
   "id": "9f43843a",
   "metadata": {
    "ExecuteTime": {
     "end_time": "2022-09-22T22:48:07.523952Z",
     "start_time": "2022-09-22T22:48:07.517565Z"
    },
    "papermill": {
     "duration": 0.003138,
     "end_time": "2024-03-06T13:19:49.910393",
     "exception": false,
     "start_time": "2024-03-06T13:19:49.907255",
     "status": "completed"
    },
    "tags": []
   },
   "source": [
    "## Alpha diversity analysis\n",
    "\n",
    "#### Reference\n",
    "- [The Use and Types of Alpha-Diversity Metrics in Microbial NGS](https://www.cd-genomics.com/microbioseq/the-use-and-types-of-alpha-diversity-metrics-in-microbial-ngs.html)\n",
    "- [Alpha diversity metrics](http://scikit-bio.org/docs/0.2.0/generated/skbio.diversity.alpha.html)\n",
    "\n",
    "#### Methods\n",
    "- [diversity alpha](https://docs.qiime2.org/2022.8/plugins/available/diversity/alpha/): Computes a user-specified alpha diversity metric for all samples in a\n",
    "feature table.\n",
    "- [diversity alpha_phylogenetic](https://docs.qiime2.org/2022.8/plugins/available/diversity/alpha-phylogenetic/): Computes a user-specified phylogenetic alpha diversity metric for all\n",
    "samples in a feature table.\n",
    "- [diversity alpha_correlation](https://docs.qiime2.org/2022.8/plugins/available/diversity/alpha-correlation/): Determine whether numeric sample metadata columns are correlated with alpha diversity.\n",
    "- [diversity alpha_group_significance](https://docs.qiime2.org/2022.8/plugins/available/diversity/alpha-group-significance/): Visually and statistically compare groups of alpha diversity values."
   ]
  },
  {
   "cell_type": "markdown",
   "id": "606b9c75",
   "metadata": {
    "papermill": {
     "duration": 0.002955,
     "end_time": "2024-03-06T13:19:49.916374",
     "exception": false,
     "start_time": "2024-03-06T13:19:49.913419",
     "status": "completed"
    },
    "tags": []
   },
   "source": [
    "### Compute Alpha Diversity vectors\n",
    "- [diversity alpha](https://docs.qiime2.org/2022.8/plugins/available/diversity/alpha/): Computes a user-specified alpha diversity metric for all samples in a feature table.\n",
    "- [Alpha diversity metrics](http://scikit-bio.org/docs/0.2.0/generated/skbio.diversity.alpha.html)\n",
    " - Choices: ('ace', 'berger_parker_d', 'brillouin_d', 'chao1', 'chao1_ci', 'dominance', 'doubles', 'enspie', 'esty_ci', 'fisher_alpha', 'gini_index', 'goods_coverage', 'heip_e', 'kempton_taylor_q', 'lladser_pe', 'margalef', 'mcintosh_d', 'mcintosh_e', 'menhinick', 'michaelis_menten_fit', 'observed_features', 'osd', 'pielou_e', 'robbins', 'shannon', 'simpson', 'simpson_e', 'singles', 'strong')"
   ]
  },
  {
   "cell_type": "code",
   "execution_count": 9,
   "id": "556e5264",
   "metadata": {
    "ExecuteTime": {
     "end_time": "2022-09-29T20:54:20.790166Z",
     "start_time": "2022-09-29T20:54:20.451134Z"
    },
    "execution": {
     "iopub.execute_input": "2024-03-06T13:19:49.923323Z",
     "iopub.status.busy": "2024-03-06T13:19:49.923075Z",
     "iopub.status.idle": "2024-03-06T13:19:50.327064Z",
     "shell.execute_reply": "2024-03-06T13:19:50.326707Z"
    },
    "papermill": {
     "duration": 0.40859,
     "end_time": "2024-03-06T13:19:50.327980",
     "exception": false,
     "start_time": "2024-03-06T13:19:49.919390",
     "status": "completed"
    },
    "tags": []
   },
   "outputs": [
    {
     "name": "stdout",
     "output_type": "stream",
     "text": [
      "Calculating alpha diversity: chao1\n",
      "DONE: Calculating alpha diversity: chao1\n",
      "Calculating alpha diversity: chao1_ci\n",
      "DONE: Calculating alpha diversity: chao1_ci\n",
      "Calculating alpha diversity: observed_features\n",
      "DONE: Calculating alpha diversity: observed_features\n",
      "Calculating alpha diversity: shannon\n"
     ]
    },
    {
     "name": "stdout",
     "output_type": "stream",
     "text": [
      "DONE: Calculating alpha diversity: shannon\n",
      "Calculating alpha diversity: simpson\n",
      "DONE: Calculating alpha diversity: simpson\n",
      "Calculating alpha diversity: simpson_e\n",
      "DONE: Calculating alpha diversity: simpson_e\n"
     ]
    }
   ],
   "source": [
    "metrics = ('ace', 'berger_parker_d', 'brillouin_d', 'chao1', 'chao1_ci', 'dominance', 'doubles', 'enspie', 'esty_ci', 'fisher_alpha', 'gini_index', 'goods_coverage', 'heip_e', 'kempton_taylor_q', 'lladser_pe', 'margalef', 'mcintosh_d', 'mcintosh_e', 'menhinick', 'michaelis_menten_fit', 'observed_features', 'osd', 'pielou_e', 'robbins', 'shannon', 'simpson', 'simpson_e', 'singles', 'strong')\n",
    "\n",
    "# Sugestão de valores para Alpha diversity\n",
    "# chao1 e observed_features (riqueza); shannon e simpson (diversidade - que levam em consideração riqueza e equitabilidade).\n",
    "metrics = ('chao1', 'chao1_ci', 'observed_features', 'shannon', 'simpson', 'simpson_e')\n",
    "alpha_diversities = dict()\n",
    "for metric in metrics:\n",
    "    print(f\"Calculating alpha diversity: {metric}\")\n",
    "    try:\n",
    "        alpha_diversity = alpha(table=tabs, metric=metric).alpha_diversity\n",
    "        alpha_diversities[metric] = alpha_diversity\n",
    "        # Save SampleData[AlphaDiversity] Artifact\n",
    "        file_path = os.path.join(alpha_path, f'alpha-values-{metric}.qza')\n",
    "        alpha_diversity.save(file_path)\n",
    "        print(f\"DONE: Calculating alpha diversity: {metric}\")\n",
    "    except Exception as e:\n",
    "        print(f\"ERROR: Calculating alpha diversity: {metric}\")\n",
    "        print(e)"
   ]
  },
  {
   "cell_type": "markdown",
   "id": "184bcb7b",
   "metadata": {
    "papermill": {
     "duration": 0.003227,
     "end_time": "2024-03-06T13:19:50.334564",
     "exception": false,
     "start_time": "2024-03-06T13:19:50.331337",
     "status": "completed"
    },
    "tags": []
   },
   "source": [
    "### Create Phylogenetic inference\n",
    "\n",
    "- [alignment align_to_tree_mafft_fasttree](https://docs.qiime2.org/2022.8/plugins/available/phylogeny/align-to-tree-mafft-fasttree/): Build a phylogenetic tree using fasttree and mafft alignment\n",
    "\n",
    "This pipeline will start by creating a sequence alignment using MAFFT,\n",
    "after which any alignment columns that are phylogenetically uninformative\n",
    "or ambiguously aligned will be removed (masked). The resulting masked\n",
    "alignment will be used to infer a phylogenetic tree and then subsequently\n",
    "rooted at its midpoint. Output files from each step of the pipeline will be\n",
    "saved. This includes both the unmasked and masked MAFFT alignment from\n",
    "q2-alignment methods, and both the rooted and unrooted phylogenies from\n",
    "q2-phylogeny methods.\n",
    "\n",
    "\n",
    "Returns\n",
    "- alignment : FeatureData[AlignedSequence] : The aligned sequences.\n",
    "- masked_alignment : FeatureData[AlignedSequence] : The masked alignment.\n",
    "- tree : Phylogeny[Unrooted] : The unrooted phylogenetic tree.\n",
    "- rooted_tree : Phylogeny[Rooted] : The rooted phylogenetic tree."
   ]
  },
  {
   "cell_type": "code",
   "execution_count": 10,
   "id": "9c8cfe47",
   "metadata": {
    "ExecuteTime": {
     "end_time": "2022-09-29T20:54:35.139531Z",
     "start_time": "2022-09-29T20:54:20.792130Z"
    },
    "execution": {
     "iopub.execute_input": "2024-03-06T13:19:50.341610Z",
     "iopub.status.busy": "2024-03-06T13:19:50.341418Z",
     "iopub.status.idle": "2024-03-06T13:20:05.915746Z",
     "shell.execute_reply": "2024-03-06T13:20:05.915359Z"
    },
    "papermill": {
     "duration": 15.579004,
     "end_time": "2024-03-06T13:20:05.916686",
     "exception": false,
     "start_time": "2024-03-06T13:19:50.337682",
     "status": "completed"
    },
    "tags": []
   },
   "outputs": [
    {
     "name": "stdout",
     "output_type": "stream",
     "text": [
      "Running external command line application. This may print messages to stdout and/or stderr.\n",
      "The command being run is below. This command cannot be manually re-run as it will depend on temporary files that no longer exist.\n",
      "\n",
      "Command: mafft --preservecase --inputorder --thread 6 /tmp/qiime2/lauro/data/17794bea-7a56-46ca-9953-e7db06e91fb7/data/dna-sequences.fasta\n",
      "\n"
     ]
    },
    {
     "name": "stderr",
     "output_type": "stream",
     "text": [
      "inputfile = orig\n",
      "1885 x 430 - 253 d\n",
      "nthread = 6\n",
      "nthreadpair = 6\n",
      "nthreadtb = 6\n",
      "ppenalty_ex = 0\n",
      "stacksize: 8192 kb\n",
      "generating a scoring matrix for nucleotide (dist=200) ... done\n",
      "Gap Penalty = -1.53, +0.00, +0.00\n",
      "\n",
      "\n",
      "\n",
      "Making a distance matrix ..\n",
      "\r",
      "    1 / 1885 (thread    0)\r",
      "  101 / 1885 (thread    0)\r",
      "  201 / 1885 (thread    1)\r",
      "  301 / 1885 (thread    1)\r",
      "  401 / 1885 (thread    1)\r",
      "  501 / 1885 (thread    1)\r",
      "  601 / 1885 (thread    2)\r",
      "  701 / 1885 (thread    2)\r",
      "  801 / 1885 (thread    0)\r",
      "  901 / 1885 (thread    4)\r",
      " 1001 / 1885 (thread    4)\r",
      " 1101 / 1885 (thread    0)\r",
      " 1201 / 1885 (thread    2)"
     ]
    },
    {
     "name": "stderr",
     "output_type": "stream",
     "text": [
      "\r",
      " 1301 / 1885 (thread    1)\r",
      " 1401 / 1885 (thread    2)\r",
      " 1501 / 1885 (thread    2)\r",
      " 1601 / 1885 (thread    3)\r",
      " 1701 / 1885 (thread    2)\r",
      " 1801 / 1885 (thread    0)\n",
      "done.\n",
      "\n",
      "Constructing a UPGMA tree (efffree=0) ... \n",
      "\r",
      "    0 / 1885\r",
      "   10 / 1885\r",
      "   20 / 1885\r",
      "   30 / 1885\r",
      "   40 / 1885\r",
      "   50 / 1885\r",
      "   60 / 1885\r",
      "   70 / 1885\r",
      "   80 / 1885\r",
      "   90 / 1885\r",
      "  100 / 1885\r",
      "  110 / 1885\r",
      "  120 / 1885\r",
      "  130 / 1885\r",
      "  140 / 1885\r",
      "  150 / 1885\r",
      "  160 / 1885\r",
      "  170 / 1885\r",
      "  180 / 1885\r",
      "  190 / 1885\r",
      "  200 / 1885\r",
      "  210 / 1885\r",
      "  220 / 1885\r",
      "  230 / 1885\r",
      "  240 / 1885\r",
      "  250 / 1885\r",
      "  260 / 1885\r",
      "  270 / 1885\r",
      "  280 / 1885\r",
      "  290 / 1885\r",
      "  300 / 1885\r",
      "  310 / 1885\r",
      "  320 / 1885\r",
      "  330 / 1885\r",
      "  340 / 1885\r",
      "  350 / 1885\r",
      "  360 / 1885\r",
      "  370 / 1885\r",
      "  380 / 1885\r",
      "  390 / 1885\r",
      "  400 / 1885\r",
      "  410 / 1885\r",
      "  420 / 1885\r",
      "  430 / 1885\r",
      "  440 / 1885\r",
      "  450 / 1885\r",
      "  460 / 1885\r",
      "  470 / 1885\r",
      "  480 / 1885\r",
      "  490 / 1885\r",
      "  500 / 1885\r",
      "  510 / 1885\r",
      "  520 / 1885\r",
      "  530 / 1885\r",
      "  540 / 1885\r",
      "  550 / 1885\r",
      "  560 / 1885\r",
      "  570 / 1885\r",
      "  580 / 1885\r",
      "  590 / 1885\r",
      "  600 / 1885\r",
      "  610 / 1885\r",
      "  620 / 1885\r",
      "  630 / 1885\r",
      "  640 / 1885\r",
      "  650 / 1885\r",
      "  660 / 1885\r",
      "  670 / 1885\r",
      "  680 / 1885\r",
      "  690 / 1885\r",
      "  700 / 1885\r",
      "  710 / 1885\r",
      "  720 / 1885\r",
      "  730 / 1885\r",
      "  740 / 1885\r",
      "  750 / 1885\r",
      "  760 / 1885\r",
      "  770 / 1885\r",
      "  780 / 1885\r",
      "  790 / 1885\r",
      "  800 / 1885\r",
      "  810 / 1885\r",
      "  820 / 1885\r",
      "  830 / 1885\r",
      "  840 / 1885\r",
      "  850 / 1885\r",
      "  860 / 1885\r",
      "  870 / 1885\r",
      "  880 / 1885\r",
      "  890 / 1885\r",
      "  900 / 1885\r",
      "  910 / 1885\r",
      "  920 / 1885\r",
      "  930 / 1885\r",
      "  940 / 1885\r",
      "  950 / 1885\r",
      "  960 / 1885\r",
      "  970 / 1885\r",
      "  980 / 1885\r",
      "  990 / 1885\r",
      " 1000 / 1885\r",
      " 1010 / 1885\r",
      " 1020 / 1885\r",
      " 1030 / 1885\r",
      " 1040 / 1885\r",
      " 1050 / 1885\r",
      " 1060 / 1885\r",
      " 1070 / 1885\r",
      " 1080 / 1885\r",
      " 1090 / 1885\r",
      " 1100 / 1885\r",
      " 1110 / 1885\r",
      " 1120 / 1885\r",
      " 1130 / 1885\r",
      " 1140 / 1885\r",
      " 1150 / 1885\r",
      " 1160 / 1885\r",
      " 1170 / 1885\r",
      " 1180 / 1885\r",
      " 1190 / 1885\r",
      " 1200 / 1885\r",
      " 1210 / 1885\r",
      " 1220 / 1885\r",
      " 1230 / 1885\r",
      " 1240 / 1885\r",
      " 1250 / 1885\r",
      " 1260 / 1885\r",
      " 1270 / 1885\r",
      " 1280 / 1885\r",
      " 1290 / 1885\r",
      " 1300 / 1885\r",
      " 1310 / 1885\r",
      " 1320 / 1885\r",
      " 1330 / 1885\r",
      " 1340 / 1885\r",
      " 1350 / 1885\r",
      " 1360 / 1885\r",
      " 1370 / 1885\r",
      " 1380 / 1885\r",
      " 1390 / 1885\r",
      " 1400 / 1885\r",
      " 1410 / 1885\r",
      " 1420 / 1885\r",
      " 1430 / 1885\r",
      " 1440 / 1885\r",
      " 1450 / 1885\r",
      " 1460 / 1885\r",
      " 1470 / 1885\r",
      " 1480 / 1885\r",
      " 1490 / 1885\r",
      " 1500 / 1885\r",
      " 1510 / 1885\r",
      " 1520 / 1885\r",
      " 1530 / 1885\r",
      " 1540 / 1885\r",
      " 1550 / 1885\r",
      " 1560 / 1885\r",
      " 1570 / 1885\r",
      " 1580 / 1885\r",
      " 1590 / 1885\r",
      " 1600 / 1885\r",
      " 1610 / 1885\r",
      " 1620 / 1885\r",
      " 1630 / 1885\r",
      " 1640 / 1885\r",
      " 1650 / 1885\r",
      " 1660 / 1885\r",
      " 1670 / 1885\r",
      " 1680 / 1885\r",
      " 1690 / 1885\r",
      " 1700 / 1885\r",
      " 1710 / 1885\r",
      " 1720 / 1885\r",
      " 1730 / 1885\r",
      " 1740 / 1885\r",
      " 1750 / 1885\r",
      " 1760 / 1885\r",
      " 1770 / 1885\r",
      " 1780 / 1885\r",
      " 1790 / 1885\r",
      " 1800 / 1885\r",
      " 1810 / 1885\r",
      " 1820 / 1885\r",
      " 1830 / 1885\r",
      " 1840 / 1885\r",
      " 1850 / 1885\r",
      " 1860 / 1885\r",
      " 1870 / 1885\r",
      " 1880 / 1885\n",
      "done.\n",
      "\n",
      "Progressive alignment 1/2... \n",
      "\r",
      "STEP     1 / 1884 (thread    1) f\b\b\r",
      "STEP     2 / 1884 (thread    2) f\b\b\r",
      "STEP     4 / 1884 (thread    3) f\b\b\r",
      "STEP     3 / 1884 (thread    0) f\b\b\r",
      "STEP     5 / 1884 (thread    5) f\b\b\r",
      "STEP     6 / 1884 (thread    4) f\b\b\r",
      "STEP     7 / 1884 (thread    1) f\b\b\r",
      "STEP     8 / 1884 (thread    0) f\b\b\r",
      "STEP     9 / 1884 (thread    3) f\b\b\r",
      "STEP    10 / 1884 (thread    4) f\b\b\r",
      "STEP    11 / 1884 (thread    2) f\b\b\r",
      "STEP    12 / 1884 (thread    5) f\b\b\r",
      "STEP    13 / 1884 (thread    1) f\b\b\r",
      "STEP    14 / 1884 (thread    0) f\b\b\r",
      "STEP    15 / 1884 (thread    4) f\b\b\r",
      "STEP    16 / 1884 (thread    2) f\b\b\r",
      "STEP    17 / 1884 (thread    5) f\b\b\r",
      "STEP    18 / 1884 (thread    3) f\b\b\r",
      "STEP    19 / 1884 (thread    1) f\b\b\r",
      "STEP    20 / 1884 (thread    0) f\b\b\r",
      "STEP    21 / 1884 (thread    4) f\b\b\r",
      "STEP    22 / 1884 (thread    5) f\b\b\r",
      "STEP    23 / 1884 (thread    3) f\b\b\r",
      "STEP    24 / 1884 (thread    2) f\b\b\r",
      "STEP    25 / 1884 (thread    1) f\b\b\r",
      "STEP    26 / 1884 (thread    0) f\b\b\r",
      "STEP    27 / 1884 (thread    3) f\b\b\r",
      "STEP    28 / 1884 (thread    4) f\b\b\r",
      "STEP    29 / 1884 (thread    5) f\b\b\r",
      "STEP    30 / 1884 (thread    1) f\b\b\r",
      "STEP    31 / 1884 (thread    2) f\b\b\r",
      "STEP    32 / 1884 (thread    0) f\b\b\r",
      "STEP    33 / 1884 (thread    3) f\b\b\r",
      "STEP    34 / 1884 (thread    4) f\b\b\r",
      "STEP    35 / 1884 (thread    5) f\b\b\r",
      "STEP    36 / 1884 (thread    1) f\b\b\r",
      "STEP    37 / 1884 (thread    2) f\b\b\r",
      "STEP    38 / 1884 (thread    0) f\b\b\r",
      "STEP    39 / 1884 (thread    3) f\b\b\r",
      "STEP    40 / 1884 (thread    4) f\b\b\r",
      "STEP    41 / 1884 (thread    5) f\b\b\r",
      "STEP    42 / 1884 (thread    1) f\b\b\r",
      "STEP    43 / 1884 (thread    2) f\b\b\r",
      "STEP    44 / 1884 (thread    0) f\b\b\r",
      "STEP    45 / 1884 (thread    3) f\b\b\r",
      "STEP    46 / 1884 (thread    4) f\b\b\r",
      "STEP    47 / 1884 (thread    5) f\b\b\r",
      "STEP    48 / 1884 (thread    1) f\b\b\r",
      "STEP    49 / 1884 (thread    2) f\b\b\r",
      "STEP    50 / 1884 (thread    0) f\b\b\r",
      "STEP    51 / 1884 (thread    3) f\b\b\r",
      "STEP    52 / 1884 (thread    4) f\b\b\r",
      "STEP    53 / 1884 (thread    5) f\b\b\r",
      "STEP    54 / 1884 (thread    1) f\b\b\r",
      "STEP    55 / 1884 (thread    2) f\b\b\r",
      "STEP    56 / 1884 (thread    0) f\b\b\r",
      "STEP    57 / 1884 (thread    3) f\b\b\r",
      "STEP    58 / 1884 (thread    4) f\b\b\r",
      "STEP    59 / 1884 (thread    5) f\b\b\r",
      "STEP    60 / 1884 (thread    1) f\b\b\r",
      "STEP    61 / 1884 (thread    2) f\b\b\r",
      "STEP    62 / 1884 (thread    0) f\b\b\r",
      "STEP    63 / 1884 (thread    3) f\b\b\r",
      "STEP    64 / 1884 (thread    4) f\b\b\r",
      "STEP    65 / 1884 (thread    5) f\b\b\r",
      "STEP    66 / 1884 (thread    1) f\b\b\r",
      "STEP    67 / 1884 (thread    2) f\b\b\r",
      "STEP    68 / 1884 (thread    0) f\b\b\r",
      "STEP    69 / 1884 (thread    3) f\b\b\r",
      "STEP    70 / 1884 (thread    4) f\b\b\r",
      "STEP    71 / 1884 (thread    5) f\b\b\r",
      "STEP    72 / 1884 (thread    1) f\b\b\r",
      "STEP    73 / 1884 (thread    2) f\b\b\r",
      "STEP    74 / 1884 (thread    0) f\b\b\r",
      "STEP    75 / 1884 (thread    3) f\b\b\r",
      "STEP    76 / 1884 (thread    4) f\b\b\r",
      "STEP    77 / 1884 (thread    5) f\b\b\r",
      "STEP    78 / 1884 (thread    1) f\b\b\r",
      "STEP    79 / 1884 (thread    2) f\b\b\r",
      "STEP    80 / 1884 (thread    0) f\b\b\r",
      "STEP    81 / 1884 (thread    3) f\b\b\r",
      "STEP    82 / 1884 (thread    4) f\b\b\r",
      "STEP    83 / 1884 (thread    5) f\b\b\r",
      "STEP    84 / 1884 (thread    1) f\b\b\r",
      "STEP    85 / 1884 (thread    2) f\b\b\r",
      "STEP    86 / 1884 (thread    0) f\b\b\r",
      "STEP    87 / 1884 (thread    3) f\b\b\r",
      "STEP    88 / 1884 (thread    4) f\b\b\r",
      "STEP    89 / 1884 (thread    5) f\b\b\r",
      "STEP    90 / 1884 (thread    1) f\b\b\r",
      "STEP    91 / 1884 (thread    2) f\b\b\r",
      "STEP    92 / 1884 (thread    0) f\b\b\r",
      "STEP    93 / 1884 (thread    3) f\b\b\r",
      "STEP    94 / 1884 (thread    4) f\b\b\r",
      "STEP    95 / 1884 (thread    5) f\b\b\r",
      "STEP    96 / 1884 (thread    1) f\b\b\r",
      "STEP    97 / 1884 (thread    2) f\b\b\r",
      "STEP    98 / 1884 (thread    0) f\b\b\r",
      "STEP   100 / 1884 (thread    4) f\b\b\r",
      "STEP   101 / 1884 (thread    5) f\b\b\r",
      "STEP   102 / 1884 (thread    1) f\b\b\r",
      "STEP    99 / 1884 (thread    3) f\b\b\r",
      "STEP   103 / 1884 (thread    2) f\b\b\r",
      "STEP   104 / 1884 (thread    0) f\b\b\r",
      "STEP   105 / 1884 (thread    1) f\b\b\r",
      "STEP   106 / 1884 (thread    2) f\b\b\r",
      "STEP   107 / 1884 (thread    0) f\b\b\r",
      "STEP   108 / 1884 (thread    1) f\b\b\r",
      "STEP   109 / 1884 (thread    2) f\b\b\r",
      "STEP   110 / 1884 (thread    0) f\b\b\r",
      "STEP   111 / 1884 (thread    4) f\b\b\r",
      "STEP   112 / 1884 (thread    5) f\b\b\r",
      "STEP   113 / 1884 (thread    3) f\b\b\r",
      "STEP   114 / 1884 (thread    1) f\b\b\r",
      "STEP   115 / 1884 (thread    2) f\b\b\r",
      "STEP   116 / 1884 (thread    0) f\b\b\r",
      "STEP   117 / 1884 (thread    4) f\b\b\r",
      "STEP   118 / 1884 (thread    3) f\b\b\r",
      "STEP   119 / 1884 (thread    5) f\b\b\r",
      "STEP   120 / 1884 (thread    1) f\b\b\r",
      "STEP   121 / 1884 (thread    2) f\b\b\r",
      "STEP   122 / 1884 (thread    0) f\b\b\r",
      "STEP   123 / 1884 (thread    4) f\b\b\r",
      "STEP   124 / 1884 (thread    3) f\b\b\r",
      "STEP   125 / 1884 (thread    5) f\b\b\r",
      "STEP   126 / 1884 (thread    1) f\b\b\r",
      "STEP   127 / 1884 (thread    2) f\b\b\r",
      "STEP   128 / 1884 (thread    0) f\b\b\r",
      "STEP   129 / 1884 (thread    4) f\b\b\r",
      "STEP   130 / 1884 (thread    3) f\b\b\r",
      "STEP   131 / 1884 (thread    5) f\b\b\r",
      "STEP   132 / 1884 (thread    1) f\b\b\r",
      "STEP   133 / 1884 (thread    2) f\b\b\r",
      "STEP   134 / 1884 (thread    0) f\b\b\r",
      "STEP   135 / 1884 (thread    4) f\b\b\r",
      "STEP   136 / 1884 (thread    3) f\b\b\r",
      "STEP   137 / 1884 (thread    5) f\b\b\r",
      "STEP   138 / 1884 (thread    1) f\b\b\r",
      "STEP   139 / 1884 (thread    2) f\b\b\r",
      "STEP   140 / 1884 (thread    0) f\b\b\r",
      "STEP   141 / 1884 (thread    4) f\b\b\r",
      "STEP   142 / 1884 (thread    3) f\b\b\r",
      "STEP   143 / 1884 (thread    5) f\b\b\r",
      "STEP   144 / 1884 (thread    4) f\b\b\r",
      "STEP   145 / 1884 (thread    3) f\b\b\r",
      "STEP   146 / 1884 (thread    5) f\b\b\r",
      "STEP   147 / 1884 (thread    1) f\b\b\r",
      "STEP   148 / 1884 (thread    4) f\b\b\r",
      "STEP   149 / 1884 (thread    3) f\b\b\r",
      "STEP   150 / 1884 (thread    5) f\b\b\r",
      "STEP   151 / 1884 (thread    2) f\b\b\r",
      "STEP   152 / 1884 (thread    0) f\b\b\r",
      "STEP   153 / 1884 (thread    1) f\b\b\r",
      "STEP   154 / 1884 (thread    4) f\b\b\r",
      "STEP   155 / 1884 (thread    5) f\b\b\r",
      "STEP   156 / 1884 (thread    3) f\b\b\r",
      "STEP   157 / 1884 (thread    2) f\b\b\r",
      "STEP   158 / 1884 (thread    0) f\b\b\r",
      "STEP   159 / 1884 (thread    1) f\b\b\r",
      "STEP   160 / 1884 (thread    4) f\b\b\r",
      "STEP   161 / 1884 (thread    3) f\b\b\r",
      "STEP   162 / 1884 (thread    5) f\b\b\r",
      "STEP   163 / 1884 (thread    2) f\b\b\r",
      "STEP   164 / 1884 (thread    0) f\b\b\r",
      "STEP   165 / 1884 (thread    1) f\b\b\r",
      "STEP   166 / 1884 (thread    0) f\b\b\r",
      "STEP   167 / 1884 (thread    1) f\b\b\r",
      "STEP   168 / 1884 (thread    4) f\b\b\r",
      "STEP   169 / 1884 (thread    5) f\b\b\r",
      "STEP   170 / 1884 (thread    3) f\b\b\r",
      "STEP   171 / 1884 (thread    2) f\b\b\r",
      "STEP   172 / 1884 (thread    0) f\b\b\r",
      "STEP   173 / 1884 (thread    1) f\b\b\r",
      "STEP   174 / 1884 (thread    4) f\b\b\r",
      "STEP   175 / 1884 (thread    5) f\b\b\r",
      "STEP   176 / 1884 (thread    3) f\b\b\r",
      "STEP   177 / 1884 (thread    2) f\b\b\r",
      "STEP   178 / 1884 (thread    0) f\b\b\r",
      "STEP   179 / 1884 (thread    1) f\b\b\r",
      "STEP   180 / 1884 (thread    4) f\b\b\r",
      "STEP   181 / 1884 (thread    5) f\b\b\r",
      "STEP   182 / 1884 (thread    3) f\b\b\r",
      "STEP   183 / 1884 (thread    2) f\b\b\r",
      "STEP   184 / 1884 (thread    0) f\b\b\r",
      "STEP   185 / 1884 (thread    1) f\b\b\r",
      "STEP   186 / 1884 (thread    4) f\b\b\r",
      "STEP   187 / 1884 (thread    5) f\b\b\r",
      "STEP   188 / 1884 (thread    3) f\b\b\r",
      "STEP   189 / 1884 (thread    2) f\b\b\r",
      "STEP   190 / 1884 (thread    0) f\b\b\r",
      "STEP   191 / 1884 (thread    1) f\b\b\r",
      "STEP   192 / 1884 (thread    4) f\b\b\r",
      "STEP   193 / 1884 (thread    5) f\b\b\r",
      "STEP   194 / 1884 (thread    3) f\b\b\r",
      "STEP   195 / 1884 (thread    2) f\b\b\r",
      "STEP   196 / 1884 (thread    0) f\b\b\r",
      "STEP   197 / 1884 (thread    1) f\b\b\r",
      "STEP   198 / 1884 (thread    4) f\b\b\r",
      "STEP   199 / 1884 (thread    5) f\b\b\r",
      "STEP   200 / 1884 (thread    3) f\b\b\r",
      "STEP   201 / 1884 (thread    2) f\b\b\r",
      "STEP   202 / 1884 (thread    0) f\b\b\r",
      "STEP   203 / 1884 (thread    1) f\b\b\r",
      "STEP   204 / 1884 (thread    4) f\b\b\r",
      "STEP   205 / 1884 (thread    5) f\b\b\r",
      "STEP   206 / 1884 (thread    3) f\b\b\r",
      "STEP   207 / 1884 (thread    2) f\b\b\r",
      "STEP   208 / 1884 (thread    0) f\b\b\r",
      "STEP   209 / 1884 (thread    1) f\b\b\r",
      "STEP   210 / 1884 (thread    3) f\b\b\r",
      "STEP   211 / 1884 (thread    2) f\b\b\r",
      "STEP   212 / 1884 (thread    0) f\b\b\r",
      "STEP   213 / 1884 (thread    5) f\b\b\r",
      "STEP   214 / 1884 (thread    1) f\b\b\r",
      "STEP   215 / 1884 (thread    3) f\b\b\r",
      "STEP   216 / 1884 (thread    4) f\b\b\r",
      "STEP   218 / 1884 (thread    0) f\b\b\r",
      "STEP   219 / 1884 (thread    5) f\b\b\r",
      "STEP   220 / 1884 (thread    1) f\b\b\r",
      "STEP   221 / 1884 (thread    3) f\b\b\r",
      "STEP   222 / 1884 (thread    4) f\b\b\r",
      "STEP   217 / 1884 (thread    2) f\b\b\r",
      "STEP   223 / 1884 (thread    0) f\b\b\r",
      "STEP   224 / 1884 (thread    5) f\b\b\r",
      "STEP   225 / 1884 (thread    1) f\b\b\r",
      "STEP   226 / 1884 (thread    3) f\b\b\r",
      "STEP   227 / 1884 (thread    4) f\b\b\r",
      "STEP   228 / 1884 (thread    0) f\b\b\r",
      "STEP   229 / 1884 (thread    5) f\b\b\r",
      "STEP   230 / 1884 (thread    1) f\b\b\r",
      "STEP   231 / 1884 (thread    3) f\b\b\r",
      "STEP   232 / 1884 (thread    4) f\b\b\r",
      "STEP   233 / 1884 (thread    2) f\b\b\r",
      "STEP   234 / 1884 (thread    0) f\b\b\r",
      "STEP   235 / 1884 (thread    5) f\b\b\r",
      "STEP   236 / 1884 (thread    1) f\b\b\r",
      "STEP   237 / 1884 (thread    3) f\b\b\r",
      "STEP   238 / 1884 (thread    4) f\b\b\r",
      "STEP   239 / 1884 (thread    2) f\b\b\r",
      "STEP   240 / 1884 (thread    5) f\b\b\r",
      "STEP   241 / 1884 (thread    0) f\b\b\r",
      "STEP   242 / 1884 (thread    1) f\b\b\r",
      "STEP   243 / 1884 (thread    3) f\b\b\r",
      "STEP   244 / 1884 (thread    4) f\b\b\r",
      "STEP   245 / 1884 (thread    2) f\b\b\r",
      "STEP   246 / 1884 (thread    5) f\b\b\r",
      "STEP   247 / 1884 (thread    0) f\b\b\r",
      "STEP   248 / 1884 (thread    1) f\b\b\r",
      "STEP   249 / 1884 (thread    3) f\b\b\r",
      "STEP   250 / 1884 (thread    4) f\b\b\r",
      "STEP   251 / 1884 (thread    2) f\b\b\r",
      "STEP   252 / 1884 (thread    5) f\b\b\r",
      "STEP   253 / 1884 (thread    0) f\b\b\r",
      "STEP   254 / 1884 (thread    1) f\b\b\r",
      "STEP   255 / 1884 (thread    3) f\b\b\r",
      "STEP   256 / 1884 (thread    4) f\b\b\r",
      "STEP   257 / 1884 (thread    2) f\b\b\r",
      "STEP   258 / 1884 (thread    5) f\b\b\r",
      "STEP   259 / 1884 (thread    0) f\b\b\r",
      "STEP   260 / 1884 (thread    1) f\b\b\r",
      "STEP   261 / 1884 (thread    3) f\b\b\r",
      "STEP   262 / 1884 (thread    4) f\b\b\r",
      "STEP   263 / 1884 (thread    2) f\b\b\r",
      "STEP   264 / 1884 (thread    5) f\b\b\r",
      "STEP   265 / 1884 (thread    0) f\b\b\r",
      "STEP   266 / 1884 (thread    1) f\b\b\r",
      "STEP   267 / 1884 (thread    3) f\b\b\r",
      "STEP   268 / 1884 (thread    4) f\b\b\r",
      "STEP   269 / 1884 (thread    2) f\b\b\r",
      "STEP   270 / 1884 (thread    5) f\b\b\r",
      "STEP   271 / 1884 (thread    0) f\b\b\r",
      "STEP   272 / 1884 (thread    1) f\b\b\r",
      "STEP   273 / 1884 (thread    3) f\b\b\r",
      "STEP   274 / 1884 (thread    5) f\b\b\r",
      "STEP   275 / 1884 (thread    4) f\b\b\r",
      "STEP   276 / 1884 (thread    0) f\b\b\r",
      "STEP   277 / 1884 (thread    1) f\b\b\r",
      "STEP   278 / 1884 (thread    3) f\b\b\r",
      "STEP   279 / 1884 (thread    2) f\b\b\r",
      "STEP   280 / 1884 (thread    5) f\b\b\r",
      "STEP   281 / 1884 (thread    4) f\b\b\r",
      "STEP   282 / 1884 (thread    0) f\b\b\r",
      "STEP   283 / 1884 (thread    1) f\b\b\r",
      "STEP   284 / 1884 (thread    2) f\b\b\r",
      "STEP   285 / 1884 (thread    5) f\b\b\r",
      "STEP   286 / 1884 (thread    4) f\b\b\r",
      "STEP   287 / 1884 (thread    3) f\b\b\r",
      "STEP   288 / 1884 (thread    1) f\b\b\r",
      "STEP   289 / 1884 (thread    0) f\b\b\r",
      "STEP   290 / 1884 (thread    2) f\b\b\r",
      "STEP   291 / 1884 (thread    4) f\b\b\r",
      "STEP   292 / 1884 (thread    5) f\b\b\r",
      "STEP   293 / 1884 (thread    3) f\b\b\r",
      "STEP   294 / 1884 (thread    0) f\b\b\r",
      "STEP   295 / 1884 (thread    1) f\b\b\r",
      "STEP   296 / 1884 (thread    2) f\b\b\r",
      "STEP   297 / 1884 (thread    4) f\b\b\r",
      "STEP   298 / 1884 (thread    5) f\b\b\r",
      "STEP   299 / 1884 (thread    3) f\b\b\r",
      "STEP   300 / 1884 (thread    0) f\b\b\r",
      "STEP   301 / 1884 (thread    1) f\b\b\r",
      "STEP   302 / 1884 (thread    2) f\b\b\r",
      "STEP   303 / 1884 (thread    4) f\b\b\r",
      "STEP   304 / 1884 (thread    5) f\b\b\r",
      "STEP   305 / 1884 (thread    3) f\b\b\r",
      "STEP   306 / 1884 (thread    1) f\b\b\r",
      "STEP   307 / 1884 (thread    0) f\b\b\r",
      "STEP   308 / 1884 (thread    2) f\b\b\r",
      "STEP   309 / 1884 (thread    4) f\b\b\r",
      "STEP   310 / 1884 (thread    5) f\b\b\r",
      "STEP   311 / 1884 (thread    3) f\b\b\r",
      "STEP   312 / 1884 (thread    1) f\b\b\r",
      "STEP   313 / 1884 (thread    0) f\b\b\r",
      "STEP   314 / 1884 (thread    2) f\b\b\r",
      "STEP   315 / 1884 (thread    5) f\b\b\r",
      "STEP   316 / 1884 (thread    4) f\b\b\r",
      "STEP   317 / 1884 (thread    3) f\b\b\r",
      "STEP   318 / 1884 (thread    1) f\b\b\r",
      "STEP   319 / 1884 (thread    0) f\b\b\r",
      "STEP   320 / 1884 (thread    2) f\b\b\r",
      "STEP   321 / 1884 (thread    5) f\b\b\r",
      "STEP   322 / 1884 (thread    4) f\b\b\r",
      "STEP   323 / 1884 (thread    3) f\b\b\r",
      "STEP   324 / 1884 (thread    1) f\b\b\r",
      "STEP   325 / 1884 (thread    0) f\b\b\r",
      "STEP   326 / 1884 (thread    2) f\b\b\r",
      "STEP   327 / 1884 (thread    4) f\b\b\r",
      "STEP   329 / 1884 (thread    3) f\b\b\r",
      "STEP   330 / 1884 (thread    1) f\b\b\r",
      "STEP   331 / 1884 (thread    2) f\b\b\r",
      "STEP   332 / 1884 (thread    4) f\b\b\r",
      "STEP   333 / 1884 (thread    0) f\b\b\r",
      "STEP   328 / 1884 (thread    5) f\b\b\r",
      "STEP   334 / 1884 (thread    1) f\b\b\r",
      "STEP   335 / 1884 (thread    3) f\b\b\r",
      "STEP   336 / 1884 (thread    2) f\b\b\r",
      "STEP   337 / 1884 (thread    4) f\b\b\r",
      "STEP   338 / 1884 (thread    0) f\b\b\r",
      "STEP   339 / 1884 (thread    1) f\b\b\r",
      "STEP   340 / 1884 (thread    3) f\b\b\r",
      "STEP   341 / 1884 (thread    5) f\b\b\r",
      "STEP   342 / 1884 (thread    5) f\b\b\r",
      "STEP   343 / 1884 (thread    0)\r",
      "STEP   344 / 1884 (thread    4) f\b\b f\b\b\r",
      "STEP   345 / 1884 (thread    1) f\b\b\r",
      "STEP   346 / 1884 (thread    2) f\b\b\r",
      "STEP   347 / 1884 (thread    3) f\b\b\r",
      "STEP   348 / 1884 (thread    5) f\b\b\r",
      "STEP   349 / 1884 (thread    0) f\b\b\r",
      "STEP   350 / 1884 (thread    1) f\b\b\r",
      "STEP   351 / 1884 (thread    4) f\b\b\r",
      "STEP   352 / 1884 (thread    3) f\b\b\r",
      "STEP   353 / 1884 (thread    5) f\b\b\r",
      "STEP   354 / 1884 (thread    2) f\b\b\r",
      "STEP   355 / 1884 (thread    0) f\b\b\r",
      "STEP   356 / 1884 (thread    1) f\b\b\r",
      "STEP   357 / 1884 (thread    4) f\b\b\r",
      "STEP   358 / 1884 (thread    3) f\b\b\r",
      "STEP   359 / 1884 (thread    5) f\b\b\r",
      "STEP   360 / 1884 (thread    2) f\b\b\r",
      "STEP   361 / 1884 (thread    0) f\b\b\r",
      "STEP   363 / 1884 (thread    4) f\b\b\r",
      "STEP   362 / 1884 (thread    1) f\b\b\r",
      "STEP   365 / 1884 (thread    5) f\b\b\r",
      "STEP   364 / 1884 (thread    3) f\b\b\r",
      "STEP   366 / 1884 (thread    2) f\b\b\r",
      "STEP   367 / 1884 (thread    4) f\b\b\r",
      "STEP   368 / 1884 (thread    0) f\b\b\r",
      "STEP   369 / 1884 (thread    1) f\b\b\r",
      "STEP   370 / 1884 (thread    3) f\b\b\r",
      "STEP   371 / 1884 (thread    2) f\b\b\r",
      "STEP   372 / 1884 (thread    1) f\b\b\r",
      "STEP   373 / 1884 (thread    5) f\b\b\r",
      "STEP   374 / 1884 (thread    3) f\b\b\r",
      "STEP   375 / 1884 (thread    2) f\b\b\r",
      "STEP   376 / 1884 (thread    0) f\b\b\r",
      "STEP   377 / 1884 (thread    4) f\b\b\r",
      "STEP   378 / 1884 (thread    5) f\b\b\r",
      "STEP   379 / 1884 (thread    3) f\b\b\r",
      "STEP   381 / 1884 (thread    2) f\b\b\r",
      "STEP   382 / 1884 (thread    5) f\b\b\r",
      "STEP   383 / 1884 (thread    4) f\b\b\r",
      "STEP   384 / 1884 (thread    2) f\b\b\r",
      "STEP   385 / 1884 (thread    0) f\b\b\r",
      "STEP   386 / 1884 (thread    3) f\b\b\r",
      "STEP   380 / 1884 (thread    1) f\b\b\r",
      "STEP   387 / 1884 (thread    5) f\b\b\r",
      "STEP   388 / 1884 (thread    0) f\b\b\r",
      "STEP   389 / 1884 (thread    4) f\b\b\r",
      "STEP   390 / 1884 (thread    3) f\b\b\r",
      "STEP   391 / 1884 (thread    2) f\b\b\r",
      "STEP   392 / 1884 (thread    3) f\b\b\r",
      "STEP   393 / 1884 (thread    1) f\b\b\r",
      "STEP   394 / 1884 (thread    5) f\b\b\r",
      "STEP   395 / 1884 (thread    2) f\b\b\r",
      "STEP   396 / 1884 (thread    0) f\b\b\r",
      "STEP   397 / 1884 (thread    1) f\b\b\r",
      "STEP   398 / 1884 (thread    4) f\b\b\r",
      "STEP   399 / 1884 (thread    5) f\b\b\r",
      "STEP   400 / 1884 (thread    2) f\b\b\r",
      "STEP   401 / 1884 (thread    0) f\b\b\r",
      "STEP   402 / 1884 (thread    3) f\b\b\r",
      "STEP   403 / 1884 (thread    1) f\b\b\r",
      "STEP   404 / 1884 (thread    0) f\b\b\r",
      "STEP   405 / 1884 (thread    5) f\b\b\r",
      "STEP   406 / 1884 (thread    4) f\b\b\r",
      "STEP   407 / 1884 (thread    3) f\b\b\r",
      "STEP   408 / 1884 (thread    1) f\b\b\r",
      "STEP   409 / 1884 (thread    2) f\b\b\r",
      "STEP   410 / 1884 (thread    5) f\b\b\r",
      "STEP   411 / 1884 (thread    4) f\b\b\r",
      "STEP   412 / 1884 (thread    3) f\b\b\r",
      "STEP   413 / 1884 (thread    1) f\b\b\r",
      "STEP   414 / 1884 (thread    0) f\b\b\r",
      "STEP   415 / 1884 (thread    2) f\b\b\r",
      "STEP   416 / 1884 (thread    1) f\b\b\r",
      "STEP   417 / 1884 (thread    0) f\b\b\r",
      "STEP   418 / 1884 (thread    2) f\b\b\r",
      "STEP   419 / 1884 (thread    5) f\b\b\r",
      "STEP   420 / 1884 (thread    4) f\b\b\r",
      "STEP   421 / 1884 (thread    3) f\b\b\r",
      "STEP   422 / 1884 (thread    1) f\b\b\r",
      "STEP   423 / 1884 (thread    2) f\b\b\r",
      "STEP   424 / 1884 (thread    0) f\b\b\r",
      "STEP   425 / 1884 (thread    5) f\b\b\r",
      "STEP   426 / 1884 (thread    4) f\b\b\r",
      "STEP   427 / 1884 (thread    3) f\b\b\r",
      "STEP   428 / 1884 (thread    1) f\b\b\r",
      "STEP   429 / 1884 (thread    2) f\b\b\r",
      "STEP   430 / 1884 (thread    5) f\b\b\r",
      "STEP   431 / 1884 (thread    4) f\b\b\r",
      "STEP   432 / 1884 (thread    1) f\b\b\r",
      "STEP   433 / 1884 (thread    0) f\b\b\r",
      "STEP   434 / 1884 (thread    5) f\b\b\r",
      "STEP   435 / 1884 (thread    3) f\b\b\r",
      "STEP   436 / 1884 (thread    2) f\b\b\r",
      "STEP   437 / 1884 (thread    4) f\b\b\r",
      "STEP   438 / 1884 (thread    1) f\b\b\r",
      "STEP   439 / 1884 (thread    0) f\b\b\r",
      "STEP   440 / 1884 (thread    5) f\b\b\r",
      "STEP   441 / 1884 (thread    3) f\b\b\r",
      "STEP   442 / 1884 (thread    2) f\b\b\r",
      "STEP   443 / 1884 (thread    3) f\b\b\r",
      "STEP   444 / 1884 (thread    4) f\b\b\r",
      "STEP   445 / 1884 (thread    1) f\b\b\r",
      "STEP   446 / 1884 (thread    2) f\b\b\r",
      "STEP   447 / 1884 (thread    0) f\b\b\r",
      "STEP   448 / 1884 (thread    5) f\b\b\r",
      "STEP   449 / 1884 (thread    3) f\b\b\r",
      "STEP   450 / 1884 (thread    4) f\b\b\r",
      "STEP   451 / 1884 (thread    1) f\b\b\r",
      "STEP   452 / 1884 (thread    2) f\b\b\r",
      "STEP   453 / 1884 (thread    5) f\b\b\r",
      "STEP   454 / 1884 (thread    3) f\b\b\r",
      "STEP   455 / 1884 (thread    2) f\b\b\r",
      "STEP   456 / 1884 (thread    0) f\b\b\r",
      "STEP   457 / 1884 (thread    5) f\b\b\r",
      "STEP   458 / 1884 (thread    3) f\b\b\r",
      "STEP   459 / 1884 (thread    1) f\b\b\r",
      "STEP   460 / 1884 (thread    2) f\b\b\r",
      "STEP   461 / 1884 (thread    4) f\b\b\r",
      "STEP   462 / 1884 (thread    5) f\b\b\r",
      "STEP   463 / 1884 (thread    3) f\b\b\r",
      "STEP   464 / 1884 (thread    2) f\b\b\r",
      "STEP   465 / 1884 (thread    4) f\b\b\r",
      "STEP   466 / 1884 (thread    5) f\b\b\r",
      "STEP   467 / 1884 (thread    3) f\b\b\r",
      "STEP   468 / 1884 (thread    0) f\b\b\r",
      "STEP   469 / 1884 (thread    4) f\b\b\r",
      "STEP   470 / 1884 (thread    1) f\b\b\r",
      "STEP   471 / 1884 (thread    2) f\b\b\r",
      "STEP   472 / 1884 (thread    5) f\b\b\r",
      "STEP   473 / 1884 (thread    3) f\b\b\r",
      "STEP   474 / 1884 (thread    0) f\b\b\r",
      "STEP   475 / 1884 (thread    4) f\b\b\r",
      "STEP   476 / 1884 (thread    1) f\b\b\r",
      "STEP   477 / 1884 (thread    2) f\b\b\r",
      "STEP   478 / 1884 (thread    5) f\b\b\r",
      "STEP   479 / 1884 (thread    3) f\b\b\r",
      "STEP   480 / 1884 (thread    0) f\b\b\r",
      "STEP   481 / 1884 (thread    4) f\b\b\r",
      "STEP   482 / 1884 (thread    1) f\b\b\r",
      "STEP   483 / 1884 (thread    2) f\b\b\r",
      "STEP   484 / 1884 (thread    5) f\b\b\r",
      "STEP   485 / 1884 (thread    3) f\b\b\r",
      "STEP   486 / 1884 (thread    0) f\b\b\r",
      "STEP   487 / 1884 (thread    4) f\b\b\r",
      "STEP   488 / 1884 (thread    1) f\b\b\r",
      "STEP   489 / 1884 (thread    2) f\b\b\r",
      "STEP   490 / 1884 (thread    5) f\b\b\r",
      "STEP   491 / 1884 (thread    2) f\b\b\r",
      "STEP   492 / 1884 (thread    3) f\b\b\r",
      "STEP   493 / 1884 (thread    0) f\b\b\r",
      "STEP   494 / 1884 (thread    4) f\b\b\r",
      "STEP   495 / 1884 (thread    1) f\b\b\r",
      "STEP   496 / 1884 (thread    5) f\b\b\r",
      "STEP   497 / 1884 (thread    2) f\b\b\r",
      "STEP   498 / 1884 (thread    3) f\b\b\r",
      "STEP   499 / 1884 (thread    4) f\b\b\r",
      "STEP   500 / 1884 (thread    0) f\b\b\r",
      "STEP   501 / 1884 (thread    1) f\b\b\r",
      "STEP   601 / 1884 (thread    1) f\b\b\r",
      "STEP   701 / 1884 (thread    3) f\b\b\r",
      "STEP   801 / 1884 (thread    5) f\b\b\r",
      "STEP   901 / 1884 (thread    0) f\b\b\n",
      "Reallocating..done. *alloclen = 1868\n",
      "\r",
      "STEP  1001 / 1884 (thread    5) f\b\b\r",
      "STEP  1101 / 1884 (thread    1) f\b\b\r",
      "STEP  1201 / 1884 (thread    4) f\b\b"
     ]
    },
    {
     "name": "stderr",
     "output_type": "stream",
     "text": [
      "\r",
      "STEP  1301 / 1884 (thread    5) f\b\b\r",
      "STEP  1401 / 1884 (thread    5) f\b\b\r",
      "STEP  1501 / 1884 (thread    2) f\b\b\r",
      "STEP  1601 / 1884 (thread    0) f\b\b\r",
      "STEP  1701 / 1884 (thread    1) f\b\b\r",
      "STEP  1801 / 1884 (thread    3) f\b\b"
     ]
    },
    {
     "name": "stderr",
     "output_type": "stream",
     "text": [
      "\n",
      "done.\n",
      "\n",
      "Making a distance matrix from msa.. \n",
      "\r",
      "    0 / 1885 (thread    0)\r",
      "  100 / 1885 (thread    5)\r",
      "  200 / 1885 (thread    2)\r",
      "  300 / 1885 (thread    1)\r",
      "  400 / 1885 (thread    5)\r",
      "  500 / 1885 (thread    0)\r",
      "  600 / 1885 (thread    1)\r",
      "  700 / 1885 (thread    3)"
     ]
    },
    {
     "name": "stderr",
     "output_type": "stream",
     "text": [
      "\r",
      "  800 / 1885 (thread    0)\r",
      "  900 / 1885 (thread    4)\r",
      " 1000 / 1885 (thread    1)\r",
      " 1100 / 1885 (thread    2)\r",
      " 1200 / 1885 (thread    4)\r",
      " 1300 / 1885 (thread    3)\r",
      " 1400 / 1885 (thread    5)\r",
      " 1500 / 1885 (thread    2)\r",
      " 1600 / 1885 (thread    5)\r",
      " 1700 / 1885 (thread    2)\r",
      " 1800 / 1885 (thread    3)\n",
      "done.\n",
      "\n",
      "Constructing a UPGMA tree (efffree=1) ... \n",
      "\r",
      "    0 / 1885\r",
      "   10 / 1885\r",
      "   20 / 1885\r",
      "   30 / 1885\r",
      "   40 / 1885\r",
      "   50 / 1885\r",
      "   60 / 1885\r",
      "   70 / 1885\r",
      "   80 / 1885\r",
      "   90 / 1885\r",
      "  100 / 1885\r",
      "  110 / 1885\r",
      "  120 / 1885\r",
      "  130 / 1885\r",
      "  140 / 1885\r",
      "  150 / 1885\r",
      "  160 / 1885\r",
      "  170 / 1885\r",
      "  180 / 1885\r",
      "  190 / 1885\r",
      "  200 / 1885\r",
      "  210 / 1885\r",
      "  220 / 1885\r",
      "  230 / 1885\r",
      "  240 / 1885\r",
      "  250 / 1885\r",
      "  260 / 1885\r",
      "  270 / 1885\r",
      "  280 / 1885\r",
      "  290 / 1885\r",
      "  300 / 1885\r",
      "  310 / 1885\r",
      "  320 / 1885\r",
      "  330 / 1885\r",
      "  340 / 1885\r",
      "  350 / 1885\r",
      "  360 / 1885\r",
      "  370 / 1885\r",
      "  380 / 1885\r",
      "  390 / 1885\r",
      "  400 / 1885\r",
      "  410 / 1885\r",
      "  420 / 1885\r",
      "  430 / 1885\r",
      "  440 / 1885\r",
      "  450 / 1885\r",
      "  460 / 1885\r",
      "  470 / 1885\r",
      "  480 / 1885\r",
      "  490 / 1885\r",
      "  500 / 1885\r",
      "  510 / 1885\r",
      "  520 / 1885\r",
      "  530 / 1885\r",
      "  540 / 1885\r",
      "  550 / 1885\r",
      "  560 / 1885\r",
      "  570 / 1885\r",
      "  580 / 1885\r",
      "  590 / 1885\r",
      "  600 / 1885\r",
      "  610 / 1885\r",
      "  620 / 1885\r",
      "  630 / 1885\r",
      "  640 / 1885\r",
      "  650 / 1885\r",
      "  660 / 1885\r",
      "  670 / 1885\r",
      "  680 / 1885\r",
      "  690 / 1885\r",
      "  700 / 1885\r",
      "  710 / 1885\r",
      "  720 / 1885\r",
      "  730 / 1885\r",
      "  740 / 1885\r",
      "  750 / 1885\r",
      "  760 / 1885\r",
      "  770 / 1885\r",
      "  780 / 1885\r",
      "  790 / 1885\r",
      "  800 / 1885\r",
      "  810 / 1885\r",
      "  820 / 1885\r",
      "  830 / 1885\r",
      "  840 / 1885\r",
      "  850 / 1885\r",
      "  860 / 1885\r",
      "  870 / 1885\r",
      "  880 / 1885\r",
      "  890 / 1885\r",
      "  900 / 1885\r",
      "  910 / 1885\r",
      "  920 / 1885\r",
      "  930 / 1885\r",
      "  940 / 1885\r",
      "  950 / 1885\r",
      "  960 / 1885\r",
      "  970 / 1885\r",
      "  980 / 1885\r",
      "  990 / 1885\r",
      " 1000 / 1885\r",
      " 1010 / 1885\r",
      " 1020 / 1885\r",
      " 1030 / 1885\r",
      " 1040 / 1885\r",
      " 1050 / 1885\r",
      " 1060 / 1885\r",
      " 1070 / 1885\r",
      " 1080 / 1885\r",
      " 1090 / 1885\r",
      " 1100 / 1885\r",
      " 1110 / 1885\r",
      " 1120 / 1885\r",
      " 1130 / 1885\r",
      " 1140 / 1885\r",
      " 1150 / 1885\r",
      " 1160 / 1885\r",
      " 1170 / 1885\r",
      " 1180 / 1885\r",
      " 1190 / 1885\r",
      " 1200 / 1885\r",
      " 1210 / 1885\r",
      " 1220 / 1885\r",
      " 1230 / 1885\r",
      " 1240 / 1885\r",
      " 1250 / 1885\r",
      " 1260 / 1885\r",
      " 1270 / 1885\r",
      " 1280 / 1885\r",
      " 1290 / 1885\r",
      " 1300 / 1885\r",
      " 1310 / 1885\r",
      " 1320 / 1885\r",
      " 1330 / 1885\r",
      " 1340 / 1885\r",
      " 1350 / 1885\r",
      " 1360 / 1885\r",
      " 1370 / 1885\r",
      " 1380 / 1885\r",
      " 1390 / 1885\r",
      " 1400 / 1885\r",
      " 1410 / 1885\r",
      " 1420 / 1885\r",
      " 1430 / 1885\r",
      " 1440 / 1885\r",
      " 1450 / 1885\r",
      " 1460 / 1885\r",
      " 1470 / 1885\r",
      " 1480 / 1885\r",
      " 1490 / 1885\r",
      " 1500 / 1885\r",
      " 1510 / 1885\r",
      " 1520 / 1885\r",
      " 1530 / 1885\r",
      " 1540 / 1885\r",
      " 1550 / 1885\r",
      " 1560 / 1885\r",
      " 1570 / 1885\r",
      " 1580 / 1885\r",
      " 1590 / 1885\r",
      " 1600 / 1885\r",
      " 1610 / 1885\r",
      " 1620 / 1885\r",
      " 1630 / 1885\r",
      " 1640 / 1885\r",
      " 1650 / 1885\r",
      " 1660 / 1885\r",
      " 1670 / 1885\r",
      " 1680 / 1885\r",
      " 1690 / 1885\r",
      " 1700 / 1885\r",
      " 1710 / 1885\r",
      " 1720 / 1885\r",
      " 1730 / 1885\r",
      " 1740 / 1885\r",
      " 1750 / 1885\r",
      " 1760 / 1885\r",
      " 1770 / 1885\r",
      " 1780 / 1885\r",
      " 1790 / 1885\r",
      " 1800 / 1885\r",
      " 1810 / 1885\r",
      " 1820 / 1885\r",
      " 1830 / 1885\r",
      " 1840 / 1885\r",
      " 1850 / 1885\r",
      " 1860 / 1885\r",
      " 1870 / 1885\r",
      " 1880 / 1885\n",
      "done.\n",
      "\n",
      "Progressive alignment 2/2... \n",
      "\r",
      "STEP     1 / 1884 (thread    0) f\b\b\r",
      "STEP     2 / 1884 (thread    1) f\b\b\r",
      "STEP     3 / 1884 (thread    3) f\b\b\r",
      "STEP     4 / 1884 (thread    2) f\b\b\r",
      "STEP     5 / 1884 (thread    4) f\b\b\r",
      "STEP     6 / 1884 (thread    5) f\b\b\r",
      "STEP     7 / 1884 (thread    0) f\b\b\r",
      "STEP     8 / 1884 (thread    4) f\b\b\r",
      "STEP     9 / 1884 (thread    1) f\b\b\r",
      "STEP    10 / 1884 (thread    5) f\b\b\r",
      "STEP    11 / 1884 (thread    2) f\b\b\r",
      "STEP    12 / 1884 (thread    3) f\b\b\r",
      "STEP    13 / 1884 (thread    0) f\b\b\r",
      "STEP    14 / 1884 (thread    4) f\b\b\r",
      "STEP    15 / 1884 (thread    1) f\b\b\r",
      "STEP    16 / 1884 (thread    5) f\b\b\r",
      "STEP    17 / 1884 (thread    3) f\b\b\r",
      "STEP    18 / 1884 (thread    2) f\b\b\r",
      "STEP    19 / 1884 (thread    0) f\b\b\r",
      "STEP    20 / 1884 (thread    4) f\b\b\r",
      "STEP    21 / 1884 (thread    1) f\b\b\r",
      "STEP    22 / 1884 (thread    5) f\b\b\r",
      "STEP    23 / 1884 (thread    3) f\b\b\r",
      "STEP    24 / 1884 (thread    2) f\b\b\r",
      "STEP    25 / 1884 (thread    0) f\b\b\r",
      "STEP    26 / 1884 (thread    4) f\b\b\r",
      "STEP    27 / 1884 (thread    1) f\b\b\r",
      "STEP    28 / 1884 (thread    5) f\b\b\r",
      "STEP    29 / 1884 (thread    3) f\b\b\r",
      "STEP    30 / 1884 (thread    2) f\b\b\r",
      "STEP    31 / 1884 (thread    0) f\b\b\r",
      "STEP    32 / 1884 (thread    4) f\b\b\r",
      "STEP    33 / 1884 (thread    1) f\b\b\r",
      "STEP    34 / 1884 (thread    5) f\b\b\r",
      "STEP    35 / 1884 (thread    3) f\b\b\r",
      "STEP    36 / 1884 (thread    2) f\b\b\r",
      "STEP    37 / 1884 (thread    4) f\b\b\r",
      "STEP    38 / 1884 (thread    0) f\b\b\r",
      "STEP    39 / 1884 (thread    1) f\b\b\r",
      "STEP    40 / 1884 (thread    5) f\b\b\r",
      "STEP    41 / 1884 (thread    3) f\b\b\r",
      "STEP    42 / 1884 (thread    2) f\b\b\r",
      "STEP    43 / 1884 (thread    4) f\b\b\r",
      "STEP    44 / 1884 (thread    0) f\b\b\r",
      "STEP    45 / 1884 (thread    1) f\b\b\r",
      "STEP    46 / 1884 (thread    5) f\b\b\r",
      "STEP    47 / 1884 (thread    3) f\b\b\r",
      "STEP    48 / 1884 (thread    2) f\b\b\r",
      "STEP    49 / 1884 (thread    4) f\b\b\r",
      "STEP    50 / 1884 (thread    0) f\b\b\r",
      "STEP    51 / 1884 (thread    1) f\b\b\r",
      "STEP    52 / 1884 (thread    5) f\b\b\r",
      "STEP    53 / 1884 (thread    3) f\b\b\r",
      "STEP    54 / 1884 (thread    2) f\b\b\r",
      "STEP    55 / 1884 (thread    4) f\b\b\r",
      "STEP    56 / 1884 (thread    0) f\b\b\r",
      "STEP    57 / 1884 (thread    1) f\b\b\r",
      "STEP    58 / 1884 (thread    5) f\b\b\r",
      "STEP    59 / 1884 (thread    3) f\b\b\r",
      "STEP    60 / 1884 (thread    2) f\b\b\r",
      "STEP    61 / 1884 (thread    4) f\b\b\r",
      "STEP    62 / 1884 (thread    0) f\b\b\r",
      "STEP    63 / 1884 (thread    1) f\b\b\r",
      "STEP    64 / 1884 (thread    5) f\b\b\r",
      "STEP    65 / 1884 (thread    3) f\b\b\r",
      "STEP    66 / 1884 (thread    2) f\b\b\r",
      "STEP    67 / 1884 (thread    4) f\b\b\r",
      "STEP    68 / 1884 (thread    0) f\b\b\r",
      "STEP    69 / 1884 (thread    1) f\b\b\r",
      "STEP    70 / 1884 (thread    5) f\b\b\r",
      "STEP    71 / 1884 (thread    3) f\b\b\r",
      "STEP    72 / 1884 (thread    5) f\b\b\r",
      "STEP    73 / 1884 (thread    3) f\b\b\r",
      "STEP    74 / 1884 (thread    5) f\b\b\r",
      "STEP    75 / 1884 (thread    3) f\b\b\r",
      "STEP    76 / 1884 (thread    4) f\b\b\r",
      "STEP    77 / 1884 (thread    0) f\b\b\r",
      "STEP    78 / 1884 (thread    2) f\b\b\r",
      "STEP    79 / 1884 (thread    1) f\b\b\r",
      "STEP    80 / 1884 (thread    5) f\b\b\r",
      "STEP    81 / 1884 (thread    3) f\b\b\r",
      "STEP    82 / 1884 (thread    4) f\b\b\r",
      "STEP    83 / 1884 (thread    0) f\b\b\r",
      "STEP    84 / 1884 (thread    1) f\b\b\r",
      "STEP    85 / 1884 (thread    2) f\b\b\r",
      "STEP    86 / 1884 (thread    5) f\b\b\r",
      "STEP    87 / 1884 (thread    3)\r",
      "STEP    88 / 1884 (thread    4) f\b\b f\b\b\r",
      "STEP    89 / 1884 (thread    0) f\b\b\r",
      "STEP    90 / 1884 (thread    1) f\b\b\r",
      "STEP    91 / 1884 (thread    2) f\b\b\r",
      "STEP    92 / 1884 (thread    5) f\b\b\r",
      "STEP    93 / 1884 (thread    4) f\b\b\r",
      "STEP    94 / 1884 (thread    3) f\b\b\r",
      "STEP    95 / 1884 (thread    0) f\b\b\r",
      "STEP    96 / 1884 (thread    1) f\b\b\r",
      "STEP    97 / 1884 (thread    2) f\b\b\r",
      "STEP    98 / 1884 (thread    5) f\b\b\r",
      "STEP    99 / 1884 (thread    4) f\b\b\r",
      "STEP   100 / 1884 (thread    3) f\b\b\r",
      "STEP   101 / 1884 (thread    0) f\b\b\r",
      "STEP   102 / 1884 (thread    1) f\b\b\r",
      "STEP   103 / 1884 (thread    2) f\b\b\r",
      "STEP   104 / 1884 (thread    5) f\b\b\r",
      "STEP   105 / 1884 (thread    4) f\b\b\r",
      "STEP   106 / 1884 (thread    3) f\b\b\r",
      "STEP   107 / 1884 (thread    0) f\b\b\r",
      "STEP   108 / 1884 (thread    1) f\b\b\r",
      "STEP   109 / 1884 (thread    2) f\b\b\r",
      "STEP   110 / 1884 (thread    5) f\b\b\r",
      "STEP   111 / 1884 (thread    4) f\b\b\r",
      "STEP   112 / 1884 (thread    3) f\b\b\r",
      "STEP   113 / 1884 (thread    0) f\b\b\r",
      "STEP   114 / 1884 (thread    1) f\b\b\r",
      "STEP   115 / 1884 (thread    2) f\b\b\r",
      "STEP   116 / 1884 (thread    5) f\b\b\r",
      "STEP   117 / 1884 (thread    4) f\b\b\r",
      "STEP   118 / 1884 (thread    3) f\b\b\r",
      "STEP   119 / 1884 (thread    0) f\b\b\r",
      "STEP   120 / 1884 (thread    1) f\b\b\r",
      "STEP   121 / 1884 (thread    5) f\b\b\r",
      "STEP   122 / 1884 (thread    2) f\b\b\r",
      "STEP   123 / 1884 (thread    4) f\b\b\r",
      "STEP   124 / 1884 (thread    3) f\b\b\r",
      "STEP   125 / 1884 (thread    0) f\b\b\r",
      "STEP   126 / 1884 (thread    1) f\b\b\r",
      "STEP   127 / 1884 (thread    5) f\b\b\r",
      "STEP   128 / 1884 (thread    2) f\b\b\r",
      "STEP   129 / 1884 (thread    4) f\b\b\r",
      "STEP   130 / 1884 (thread    0)\r",
      "STEP   131 / 1884 (thread    3) f\b\b f\b\b\r",
      "STEP   132 / 1884 (thread    1) f\b\b\r",
      "STEP   133 / 1884 (thread    5) f\b\b\r",
      "STEP   134 / 1884 (thread    4) f\b\b\r",
      "STEP   135 / 1884 (thread    2) f\b\b\r",
      "STEP   136 / 1884 (thread    0) f\b\b\r",
      "STEP   137 / 1884 (thread    3) f\b\b\r",
      "STEP   138 / 1884 (thread    1) f\b\b\r",
      "STEP   139 / 1884 (thread    5) f\b\b\r",
      "STEP   140 / 1884 (thread    4) f\b\b\r",
      "STEP   141 / 1884 (thread    2) f\b\b\r",
      "STEP   142 / 1884 (thread    0) f\b\b\r",
      "STEP   143 / 1884 (thread    3) f\b\b\r",
      "STEP   144 / 1884 (thread    1) f\b\b\r",
      "STEP   145 / 1884 (thread    5) f\b\b\r",
      "STEP   146 / 1884 (thread    4) f\b\b\r",
      "STEP   147 / 1884 (thread    0) f\b\b\r",
      "STEP   148 / 1884 (thread    1) f\b\b\r",
      "STEP   149 / 1884 (thread    3) f\b\b\r",
      "STEP   150 / 1884 (thread    2) f\b\b\r",
      "STEP   151 / 1884 (thread    5) f\b\b\r",
      "STEP   152 / 1884 (thread    4) f\b\b\r",
      "STEP   153 / 1884 (thread    0) f\b\b\r",
      "STEP   154 / 1884 (thread    1) f\b\b\r",
      "STEP   155 / 1884 (thread    3) f\b\b\r",
      "STEP   156 / 1884 (thread    2) f\b\b\r",
      "STEP   157 / 1884 (thread    5) f\b\b\r",
      "STEP   158 / 1884 (thread    4) f\b\b\r",
      "STEP   159 / 1884 (thread    0) f\b\b\r",
      "STEP   160 / 1884 (thread    1) f\b\b\r",
      "STEP   161 / 1884 (thread    3) f\b\b\r",
      "STEP   162 / 1884 (thread    2) f\b\b\r",
      "STEP   163 / 1884 (thread    5) f\b\b\r",
      "STEP   164 / 1884 (thread    4) f\b\b\r",
      "STEP   165 / 1884 (thread    0) f\b\b\r",
      "STEP   166 / 1884 (thread    1) f\b\b\r",
      "STEP   167 / 1884 (thread    3) f\b\b\r",
      "STEP   168 / 1884 (thread    2) f\b\b\r",
      "STEP   169 / 1884 (thread    5) f\b\b\r",
      "STEP   170 / 1884 (thread    4) f\b\b\r",
      "STEP   171 / 1884 (thread    0) f\b\b\r",
      "STEP   172 / 1884 (thread    1) f\b\b\r",
      "STEP   173 / 1884 (thread    3) f\b\b\r",
      "STEP   174 / 1884 (thread    2) f\b\b\r",
      "STEP   175 / 1884 (thread    5) f\b\b\r",
      "STEP   176 / 1884 (thread    4) f\b\b\r",
      "STEP   177 / 1884 (thread    0) f\b\b\r",
      "STEP   178 / 1884 (thread    1) f\b\b\r",
      "STEP   179 / 1884 (thread    3) f\b\b\r",
      "STEP   180 / 1884 (thread    2) f\b\b\r",
      "STEP   181 / 1884 (thread    5) f\b\b\r",
      "STEP   182 / 1884 (thread    4) f\b\b\r",
      "STEP   183 / 1884 (thread    0) f\b\b\r",
      "STEP   184 / 1884 (thread    1) f\b\b\r",
      "STEP   185 / 1884 (thread    3) f\b\b\r",
      "STEP   186 / 1884 (thread    5) f\b\b\r",
      "STEP   187 / 1884 (thread    2) f\b\b\r",
      "STEP   188 / 1884 (thread    4) f\b\b\r",
      "STEP   189 / 1884 (thread    0) f\b\b\r",
      "STEP   190 / 1884 (thread    1) f\b\b\r",
      "STEP   191 / 1884 (thread    3) f\b\b\r",
      "STEP   192 / 1884 (thread    5) f\b\b\r",
      "STEP   193 / 1884 (thread    2) f\b\b\r",
      "STEP   194 / 1884 (thread    4) f\b\b\r",
      "STEP   195 / 1884 (thread    0) f\b\b\r",
      "STEP   196 / 1884 (thread    1) f\b\b\r",
      "STEP   197 / 1884 (thread    3) f\b\b\r",
      "STEP   198 / 1884 (thread    5) f\b\b\r",
      "STEP   199 / 1884 (thread    2) f\b\b\r",
      "STEP   200 / 1884 (thread    4) f\b\b\r",
      "STEP   201 / 1884 (thread    0) f\b\b\r",
      "STEP   202 / 1884 (thread    1) f\b\b\r",
      "STEP   203 / 1884 (thread    3) f\b\b\r",
      "STEP   204 / 1884 (thread    5) f\b\b\r",
      "STEP   205 / 1884 (thread    4) f\b\b\r",
      "STEP   206 / 1884 (thread    2) f\b\b\r",
      "STEP   207 / 1884 (thread    0) f\b\b\r",
      "STEP   208 / 1884 (thread    1) f\b\b\r",
      "STEP   209 / 1884 (thread    3) f\b\b\r",
      "STEP   210 / 1884 (thread    5) f\b\b\r",
      "STEP   211 / 1884 (thread    4) f\b\b\r",
      "STEP   212 / 1884 (thread    0) f\b\b\r",
      "STEP   213 / 1884 (thread    1) f\b\b\r",
      "STEP   214 / 1884 (thread    2) f\b\b\r",
      "STEP   215 / 1884 (thread    3) f\b\b\r",
      "STEP   216 / 1884 (thread    5) f\b\b\r",
      "STEP   217 / 1884 (thread    4) f\b\b\r",
      "STEP   218 / 1884 (thread    0) f\b\b\r",
      "STEP   219 / 1884 (thread    2) f\b\b\r",
      "STEP   220 / 1884 (thread    3) f\b\b\r",
      "STEP   221 / 1884 (thread    5) f\b\b\r",
      "STEP   222 / 1884 (thread    4) f\b\b\r",
      "STEP   223 / 1884 (thread    0) f\b\b\r",
      "STEP   224 / 1884 (thread    3) f\b\b\r",
      "STEP   225 / 1884 (thread    2) f\b\b\r",
      "STEP   226 / 1884 (thread    1) f\b\b\r",
      "STEP   227 / 1884 (thread    5) f\b\b\r",
      "STEP   228 / 1884 (thread    4) f\b\b\r",
      "STEP   229 / 1884 (thread    0) f\b\b\r",
      "STEP   230 / 1884 (thread    2) f\b\b\r",
      "STEP   231 / 1884 (thread    1) f\b\b\r",
      "STEP   232 / 1884 (thread    3) f\b\b\r",
      "STEP   233 / 1884 (thread    5) f\b\b\r",
      "STEP   234 / 1884 (thread    4) f\b\b\r",
      "STEP   235 / 1884 (thread    0) f\b\b\r",
      "STEP   236 / 1884 (thread    2) f\b\b\r",
      "STEP   237 / 1884 (thread    3) f\b\b\r",
      "STEP   238 / 1884 (thread    1) f\b\b\r",
      "STEP   239 / 1884 (thread    5) f\b\b\r",
      "STEP   240 / 1884 (thread    4) f\b\b\r",
      "STEP   241 / 1884 (thread    0) f\b\b\r",
      "STEP   242 / 1884 (thread    3) f\b\b\r",
      "STEP   243 / 1884 (thread    1) f\b\b\r",
      "STEP   244 / 1884 (thread    2) f\b\b\r",
      "STEP   245 / 1884 (thread    5) f\b\b\r",
      "STEP   246 / 1884 (thread    4) f\b\b\r",
      "STEP   247 / 1884 (thread    0) f\b\b\r",
      "STEP   248 / 1884 (thread    3) f\b\b\r",
      "STEP   249 / 1884 (thread    1) f\b\b\r",
      "STEP   250 / 1884 (thread    2) f\b\b\r",
      "STEP   251 / 1884 (thread    5) f\b\b\r",
      "STEP   253 / 1884 (thread    0) f\b\b\r",
      "STEP   252 / 1884 (thread    4) f\b\b\r",
      "STEP   254 / 1884 (thread    3) f\b\b\r",
      "STEP   258 / 1884 (thread    0) f\b\b\r",
      "STEP   255 / 1884 (thread    1) f\b\b\r",
      "STEP   256 / 1884 (thread    2) f\b\b\r",
      "STEP   261 / 1884 (thread    0) f\b\b\r",
      "STEP   262 / 1884 (thread    1) f\b\b\r",
      "STEP   257 / 1884 (thread    5) f\b\b\r",
      "STEP   263 / 1884 (thread    2) f\b\b\r",
      "STEP   264 / 1884 (thread    0) f\b\b\r",
      "STEP   265 / 1884 (thread    1) f\b\b\r",
      "STEP   266 / 1884 (thread    2) f\b\b\r",
      "STEP   267 / 1884 (thread    0) f\b\b\r",
      "STEP   268 / 1884 (thread    1) f\b\b\r",
      "STEP   269 / 1884 (thread    5) f\b\b\r",
      "STEP   259 / 1884 (thread    4) f\b\b\r",
      "STEP   270 / 1884 (thread    2) f\b\b\r",
      "STEP   271 / 1884 (thread    0) f\b\b\r",
      "STEP   272 / 1884 (thread    1) f\b\b\r",
      "STEP   273 / 1884 (thread    5) f\b\b\r",
      "STEP   274 / 1884 (thread    2) f\b\b\r",
      "STEP   275 / 1884 (thread    0) f\b\b\r",
      "STEP   276 / 1884 (thread    1) f\b\b\r",
      "STEP   277 / 1884 (thread    5) f\b\b\r",
      "STEP   278 / 1884 (thread    4) f\b\b\r",
      "STEP   260 / 1884 (thread    3) f\b\b\r",
      "STEP   279 / 1884 (thread    2) f\b\b\r",
      "STEP   280 / 1884 (thread    0) f\b\b\r",
      "STEP   281 / 1884 (thread    1) f\b\b\r",
      "STEP   282 / 1884 (thread    5) f\b\b\r",
      "STEP   283 / 1884 (thread    2) f\b\b\r",
      "STEP   284 / 1884 (thread    0) f\b\b\r",
      "STEP   285 / 1884 (thread    1) f\b\b\r",
      "STEP   286 / 1884 (thread    5) f\b\b\r",
      "STEP   287 / 1884 (thread    3) f\b\b\r",
      "STEP   288 / 1884 (thread    4) f\b\b\r",
      "STEP   289 / 1884 (thread    2) f\b\b\r",
      "STEP   290 / 1884 (thread    0) f\b\b\r",
      "STEP   291 / 1884 (thread    1) f\b\b\r",
      "STEP   292 / 1884 (thread    5) f\b\b\r",
      "STEP   293 / 1884 (thread    3) f\b\b\r",
      "STEP   294 / 1884 (thread    4) f\b\b\r",
      "STEP   295 / 1884 (thread    2) f\b\b\r",
      "STEP   297 / 1884 (thread    1) f\b\b\r",
      "STEP   298 / 1884 (thread    4) f\b\b\r",
      "STEP   299 / 1884 (thread    2) f\b\b\r",
      "STEP   296 / 1884 (thread    0) f\b\b\r",
      "STEP   300 / 1884 (thread    1) f\b\b\r",
      "STEP   301 / 1884 (thread    4) f\b\b\r",
      "STEP   302 / 1884 (thread    5) f\b\b\r",
      "STEP   303 / 1884 (thread    3) f\b\b\r",
      "STEP   304 / 1884 (thread    2) f\b\b\r",
      "STEP   305 / 1884 (thread    1) f\b\b\r",
      "STEP   306 / 1884 (thread    4) f\b\b\r",
      "STEP   307 / 1884 (thread    5) f\b\b\r",
      "STEP   308 / 1884 (thread    3) f\b\b\r",
      "STEP   309 / 1884 (thread    0) f\b\b\r",
      "STEP   310 / 1884 (thread    2) f\b\b\r",
      "STEP   311 / 1884 (thread    1) f\b\b\r",
      "STEP   312 / 1884 (thread    4) f\b\b\r",
      "STEP   313 / 1884 (thread    5) f\b\b\r",
      "STEP   314 / 1884 (thread    3) f\b\b\r",
      "STEP   315 / 1884 (thread    0) f\b\b\r",
      "STEP   316 / 1884 (thread    2) f\b\b\r",
      "STEP   317 / 1884 (thread    1) f\b\b\r",
      "STEP   318 / 1884 (thread    4) f\b\b\r",
      "STEP   319 / 1884 (thread    0) f\b\b\r",
      "STEP   320 / 1884 (thread    1) f\b\b\r",
      "STEP   321 / 1884 (thread    2) f\b\b\r",
      "STEP   322 / 1884 (thread    4) f\b\b\r",
      "STEP   323 / 1884 (thread    5) f\b\b\r",
      "STEP   324 / 1884 (thread    3) f\b\b\r",
      "STEP   325 / 1884 (thread    0) f\b\b\r",
      "STEP   326 / 1884 (thread    1) f\b\b\r",
      "STEP   327 / 1884 (thread    4) f\b\b\r",
      "STEP   328 / 1884 (thread    2) f\b\b\r",
      "STEP   329 / 1884 (thread    5) f\b\b\r",
      "STEP   330 / 1884 (thread    3) f\b\b\r",
      "STEP   331 / 1884 (thread    0) f\b\b\r",
      "STEP   332 / 1884 (thread    1) f\b\b\r",
      "STEP   333 / 1884 (thread    5) f\b\b\r",
      "STEP   334 / 1884 (thread    3) f\b\b\r",
      "STEP   335 / 1884 (thread    0) f\b\b\r",
      "STEP   336 / 1884 (thread    1) f\b\b\r",
      "STEP   337 / 1884 (thread    4) f\b\b\r",
      "STEP   338 / 1884 (thread    5) f\b\b\r",
      "STEP   339 / 1884 (thread    3) f\b\b\r",
      "STEP   340 / 1884 (thread    2) f\b\b\r",
      "STEP   341 / 1884 (thread    0) f\b\b\r",
      "STEP   342 / 1884 (thread    1) f\b\b\r",
      "STEP   343 / 1884 (thread    4) f\b\b\r",
      "STEP   344 / 1884 (thread    5) f\b\b\r",
      "STEP   345 / 1884 (thread    3) f\b\b\r",
      "STEP   346 / 1884 (thread    2) f\b\b\r",
      "STEP   347 / 1884 (thread    0) f\b\b\r",
      "STEP   348 / 1884 (thread    1) f\b\b\r",
      "STEP   349 / 1884 (thread    4) f\b\b\r",
      "STEP   350 / 1884 (thread    5) f\b\b\r",
      "STEP   351 / 1884 (thread    3) f\b\b\r",
      "STEP   352 / 1884 (thread    0) f\b\b\r",
      "STEP   353 / 1884 (thread    1) f\b\b\r",
      "STEP   354 / 1884 (thread    4) f\b\b\r",
      "STEP   355 / 1884 (thread    5) f\b\b\r",
      "STEP   356 / 1884 (thread    3) f\b\b\r",
      "STEP   357 / 1884 (thread    0) f\b\b\r",
      "STEP   358 / 1884 (thread    2) f\b\b\r",
      "STEP   359 / 1884 (thread    1) f\b\b\r",
      "STEP   360 / 1884 (thread    4) f\b\b\r",
      "STEP   361 / 1884 (thread    5) f\b\b\r",
      "STEP   362 / 1884 (thread    3) f\b\b\r",
      "STEP   363 / 1884 (thread    0) f\b\b\r",
      "STEP   364 / 1884 (thread    1) f\b\b\r",
      "STEP   365 / 1884 (thread    2) f\b\b\r",
      "STEP   366 / 1884 (thread    0) f\b\b\r",
      "STEP   367 / 1884 (thread    1) f\b\b\r",
      "STEP   368 / 1884 (thread    2) f\b\b\r",
      "STEP   369 / 1884 (thread    4) f\b\b\r",
      "STEP   370 / 1884 (thread    5) f\b\b\r",
      "STEP   371 / 1884 (thread    3) f\b\b\r",
      "STEP   372 / 1884 (thread    0) f\b\b\r",
      "STEP   373 / 1884 (thread    1) f\b\b\r",
      "STEP   374 / 1884 (thread    4) f\b\b\r",
      "STEP   375 / 1884 (thread    2) f\b\b\r",
      "STEP   376 / 1884 (thread    5) f\b\b\r",
      "STEP   377 / 1884 (thread    3) f\b\b\r",
      "STEP   378 / 1884 (thread    0) f\b\b\r",
      "STEP   379 / 1884 (thread    1) f\b\b\r",
      "STEP   380 / 1884 (thread    4) f\b\b\r",
      "STEP   381 / 1884 (thread    5) f\b\b\r",
      "STEP   382 / 1884 (thread    2) f\b\b\r",
      "STEP   383 / 1884 (thread    3) f\b\b\r",
      "STEP   384 / 1884 (thread    0) f\b\b\r",
      "STEP   385 / 1884 (thread    1) f\b\b\r",
      "STEP   386 / 1884 (thread    4) f\b\b\r",
      "STEP   387 / 1884 (thread    5) f\b\b\r",
      "STEP   388 / 1884 (thread    3) f\b\b\r",
      "STEP   389 / 1884 (thread    2) f\b\b\r",
      "STEP   390 / 1884 (thread    0) f\b\b\r",
      "STEP   391 / 1884 (thread    1) f\b\b\r",
      "STEP   392 / 1884 (thread    4) f\b\b\r",
      "STEP   393 / 1884 (thread    5) f\b\b\r",
      "STEP   394 / 1884 (thread    3) f\b\b\r",
      "STEP   395 / 1884 (thread    0) f\b\b\r",
      "STEP   396 / 1884 (thread    2) f\b\b\r",
      "STEP   397 / 1884 (thread    1) f\b\b\r",
      "STEP   398 / 1884 (thread    4) f\b\b\r",
      "STEP   399 / 1884 (thread    5) f\b\b\r",
      "STEP   400 / 1884 (thread    3) f\b\b\r",
      "STEP   401 / 1884 (thread    0) f\b\b\r",
      "STEP   402 / 1884 (thread    1) f\b\b\r",
      "STEP   403 / 1884 (thread    2) f\b\b\r",
      "STEP   404 / 1884 (thread    4) f\b\b\r",
      "STEP   405 / 1884 (thread    5) f\b\b\r",
      "STEP   406 / 1884 (thread    3) f\b\b\r",
      "STEP   407 / 1884 (thread    0) f\b\b\r",
      "STEP   408 / 1884 (thread    1) f\b\b\r",
      "STEP   409 / 1884 (thread    2) f\b\b\r",
      "STEP   410 / 1884 (thread    4) f\b\b\r",
      "STEP   411 / 1884 (thread    5) f\b\b\r",
      "STEP   412 / 1884 (thread    3) f\b\b\r",
      "STEP   413 / 1884 (thread    1) f\b\b\r",
      "STEP   414 / 1884 (thread    0) f\b\b\r",
      "STEP   415 / 1884 (thread    2) f\b\b\r",
      "STEP   417 / 1884 (thread    5) f\b\b\r",
      "STEP   418 / 1884 (thread    3) f\b\b\r",
      "STEP   419 / 1884 (thread    1) f\b\b\r",
      "STEP   420 / 1884 (thread    0) f\b\b\r",
      "STEP   416 / 1884 (thread    4) f\b\b\r",
      "STEP   421 / 1884 (thread    2) f\b\b\r",
      "STEP   422 / 1884 (thread    1) f\b\b\r",
      "STEP   423 / 1884 (thread    0) f\b\b\r",
      "STEP   424 / 1884 (thread    5) f\b\b\r",
      "STEP   425 / 1884 (thread    2) f\b\b\r",
      "STEP   426 / 1884 (thread    3) f\b\b\r",
      "STEP   427 / 1884 (thread    1) f\b\b\r",
      "STEP   428 / 1884 (thread    0) f\b\b\r",
      "STEP   429 / 1884 (thread    4) f\b\b\r",
      "STEP   430 / 1884 (thread    5) f\b\b\r",
      "STEP   431 / 1884 (thread    2) f\b\b\r",
      "STEP   432 / 1884 (thread    3) f\b\b\r",
      "STEP   433 / 1884 (thread    1) f\b\b\r",
      "STEP   434 / 1884 (thread    0) f\b\b\r",
      "STEP   435 / 1884 (thread    4) f\b\b\r",
      "STEP   436 / 1884 (thread    1) f\b\b\r",
      "STEP   437 / 1884 (thread    4) f\b\b\r",
      "STEP   438 / 1884 (thread    0) f\b\b\r",
      "STEP   439 / 1884 (thread    5) f\b\b\r",
      "STEP   440 / 1884 (thread    2) f\b\b\r",
      "STEP   441 / 1884 (thread    3) f\b\b\r",
      "STEP   442 / 1884 (thread    1) f\b\b\r",
      "STEP   443 / 1884 (thread    0) f\b\b\r",
      "STEP   444 / 1884 (thread    4) f\b\b\r",
      "STEP   445 / 1884 (thread    3) f\b\b\r",
      "STEP   446 / 1884 (thread    0) f\b\b\r",
      "STEP   447 / 1884 (thread    4) f\b\b\r",
      "STEP   448 / 1884 (thread    5) f\b\b\r",
      "STEP   449 / 1884 (thread    2) f\b\b\r",
      "STEP   450 / 1884 (thread    4) f\b\b\r",
      "STEP   451 / 1884 (thread    1) f\b\b\r",
      "STEP   452 / 1884 (thread    5) f\b\b\r",
      "STEP   453 / 1884 (thread    3) f\b\b\r",
      "STEP   454 / 1884 (thread    4) f\b\b\r",
      "STEP   455 / 1884 (thread    1) f\b\b\r",
      "STEP   456 / 1884 (thread    2) f\b\b\r",
      "STEP   457 / 1884 (thread    0) f\b\b\r",
      "STEP   458 / 1884 (thread    5) f\b\b\r",
      "STEP   459 / 1884 (thread    3) f\b\b\r",
      "STEP   460 / 1884 (thread    4) f\b\b\r",
      "STEP   461 / 1884 (thread    0) f\b\b\r",
      "STEP   462 / 1884 (thread    2) f\b\b\r",
      "STEP   463 / 1884 (thread    5) f\b\b\r",
      "STEP   464 / 1884 (thread    3) f\b\b\r",
      "STEP   465 / 1884 (thread    4) f\b\b\r",
      "STEP   466 / 1884 (thread    0) f\b\b\r",
      "STEP   467 / 1884 (thread    2) f\b\b\r",
      "STEP   468 / 1884 (thread    1) f\b\b\r",
      "STEP   469 / 1884 (thread    2) f\b\b\r",
      "STEP   470 / 1884 (thread    1) f\b\b\r",
      "STEP   471 / 1884 (thread    5) f\b\b\r",
      "STEP   472 / 1884 (thread    4) f\b\b\r",
      "STEP   473 / 1884 (thread    3) f\b\b\r",
      "STEP   474 / 1884 (thread    0) f\b\b\r",
      "STEP   475 / 1884 (thread    1) f\b\b\r",
      "STEP   476 / 1884 (thread    2) f\b\b\r",
      "STEP   477 / 1884 (thread    5) f\b\b\r",
      "STEP   478 / 1884 (thread    4) f\b\b\r",
      "STEP   479 / 1884 (thread    3) f\b\b\r",
      "STEP   480 / 1884 (thread    0) f\b\b\r",
      "STEP   481 / 1884 (thread    1) f\b\b\r",
      "STEP   482 / 1884 (thread    5) f\b\b\r",
      "STEP   483 / 1884 (thread    2) f\b\b\r",
      "STEP   484 / 1884 (thread    4) f\b\b\r",
      "STEP   485 / 1884 (thread    3) f\b\b\r",
      "STEP   486 / 1884 (thread    0) f\b\b\r",
      "STEP   487 / 1884 (thread    1) f\b\b\r",
      "STEP   488 / 1884 (thread    5) f\b\b\r",
      "STEP   489 / 1884 (thread    2) f\b\b\r",
      "STEP   490 / 1884 (thread    4) f\b\b\r",
      "STEP   491 / 1884 (thread    3) f\b\b\r",
      "STEP   492 / 1884 (thread    0) f\b\b\r",
      "STEP   493 / 1884 (thread    5) f\b\b\r",
      "STEP   494 / 1884 (thread    1) f\b\b\r",
      "STEP   495 / 1884 (thread    2) f\b\b\r",
      "STEP   496 / 1884 (thread    4) f\b\b\r",
      "STEP   497 / 1884 (thread    3) f\b\b\r",
      "STEP   498 / 1884 (thread    0) f\b\b\r",
      "STEP   499 / 1884 (thread    5) f\b\b\r",
      "STEP   500 / 1884 (thread    1) f\b\b\r",
      "STEP   501 / 1884 (thread    2) f\b\b"
     ]
    },
    {
     "name": "stderr",
     "output_type": "stream",
     "text": [
      "\r",
      "STEP   601 / 1884 (thread    1) f\b\b\r",
      "STEP   701 / 1884 (thread    0) f\b\b\r",
      "STEP   801 / 1884 (thread    5) f\b\b\r",
      "STEP   901 / 1884 (thread    1) f\b\b\r",
      "STEP  1001 / 1884 (thread    0) f\b\b\r",
      "STEP  1101 / 1884 (thread    4) f\b\b\r",
      "STEP  1201 / 1884 (thread    1) f\b\b\r",
      "STEP  1301 / 1884 (thread    1) f\b\b\r",
      "STEP  1401 / 1884 (thread    5) f\b\b\r",
      "STEP  1501 / 1884 (thread    0) f\b\b\n",
      "Reallocating..done. *alloclen = 1871\n",
      "\r",
      "STEP  1601 / 1884 (thread    2) f\b\b\r",
      "STEP  1701 / 1884 (thread    4) f\b\b"
     ]
    },
    {
     "name": "stderr",
     "output_type": "stream",
     "text": [
      "\r",
      "STEP  1801 / 1884 (thread    2) f\b\b\n",
      "done.\n",
      "\n",
      "disttbfast (nuc) Version 7.520\n",
      "alg=A, model=DNA200 (2), 1.53 (4.59), -0.00 (-0.00), noshift, amax=0.0\n",
      "6 thread(s)\n",
      "\n"
     ]
    },
    {
     "name": "stderr",
     "output_type": "stream",
     "text": [
      "\n",
      "Strategy:\n",
      " FFT-NS-2 (Fast but rough)\n",
      " Progressive method (guide trees were built 2 times.)\n",
      "\n",
      "If unsure which option to use, try 'mafft --auto input > output'.\n",
      "For more information, see 'mafft --help', 'mafft --man' and the mafft page.\n",
      "\n",
      "The default gap scoring scheme has been changed in version 7.110 (2013 Oct).\n",
      "It tends to insert more gaps into gap-rich regions than previous versions.\n",
      "To disable this change, add the --leavegappyregion option.\n",
      "\n"
     ]
    },
    {
     "name": "stdout",
     "output_type": "stream",
     "text": [
      "Running external command line application. This may print messages to stdout and/or stderr.\n",
      "The command being run is below. This command cannot be manually re-run as it will depend on temporary files that no longer exist.\n",
      "\n",
      "Command: FastTreeMP -quote -nt /tmp/qiime2/lauro/data/964c0c1f-7ced-49a4-a5fa-4c6b510e6616/data/aligned-dna-sequences.fasta\n",
      "\n"
     ]
    },
    {
     "name": "stderr",
     "output_type": "stream",
     "text": [
      "FastTree Version 2.1.11 Double precision (No SSE3), OpenMP (6 threads)\n",
      "Alignment: /tmp/qiime2/lauro/data/964c0c1f-7ced-49a4-a5fa-4c6b510e6616/data/aligned-dna-sequences.fasta\n",
      "Nucleotide distances: Jukes-Cantor Joins: balanced Support: SH-like 1000\n",
      "Search: Normal +NNI +SPR (2 rounds range 10) +ML-NNI opt-each=1\n",
      "TopHits: 1.00*sqrtN close=default refresh=0.80\n",
      "ML Model: Jukes-Cantor, CAT approximation with 20 rate categories\n",
      "      0.15 seconds: Joined    200 of   1778\n"
     ]
    },
    {
     "name": "stderr",
     "output_type": "stream",
     "text": [
      "      0.27 seconds: Joined    400 of   1778\n",
      "      0.38 seconds: Joined    600 of   1778\n"
     ]
    },
    {
     "name": "stderr",
     "output_type": "stream",
     "text": [
      "      0.51 seconds: Joined    900 of   1778\n",
      "      0.62 seconds: Joined   1100 of   1778\n"
     ]
    },
    {
     "name": "stderr",
     "output_type": "stream",
     "text": [
      "      0.72 seconds: Joined   1300 of   1778\n",
      "      0.85 seconds: Joined   1600 of   1778\n",
      "Initial topology in 0.92 seconds\n",
      "Refining topology: 43 rounds ME-NNIs, 2 rounds ME-SPRs, 22 rounds ML-NNIs\n"
     ]
    },
    {
     "name": "stderr",
     "output_type": "stream",
     "text": [
      "      0.95 seconds: ME NNI round 1 of 43, 1301 of 1779 splits, 264 changes (max delta 0.023)\n",
      "      1.05 seconds: ME NNI round 5 of 43, 1 of 1779 splits\n"
     ]
    },
    {
     "name": "stderr",
     "output_type": "stream",
     "text": [
      "      1.18 seconds: SPR round   1 of   2, 301 of 3560 nodes\n",
      "      1.29 seconds: SPR round   1 of   2, 601 of 3560 nodes\n"
     ]
    },
    {
     "name": "stderr",
     "output_type": "stream",
     "text": [
      "      1.40 seconds: SPR round   1 of   2, 901 of 3560 nodes\n",
      "      1.51 seconds: SPR round   1 of   2, 1201 of 3560 nodes\n"
     ]
    },
    {
     "name": "stderr",
     "output_type": "stream",
     "text": [
      "      1.64 seconds: SPR round   1 of   2, 1501 of 3560 nodes\n",
      "      1.76 seconds: SPR round   1 of   2, 1801 of 3560 nodes\n"
     ]
    },
    {
     "name": "stderr",
     "output_type": "stream",
     "text": [
      "      1.89 seconds: SPR round   1 of   2, 2101 of 3560 nodes\n",
      "      2.01 seconds: SPR round   1 of   2, 2401 of 3560 nodes\n"
     ]
    },
    {
     "name": "stderr",
     "output_type": "stream",
     "text": [
      "      2.13 seconds: SPR round   1 of   2, 2701 of 3560 nodes\n",
      "      2.24 seconds: SPR round   1 of   2, 3001 of 3560 nodes\n"
     ]
    },
    {
     "name": "stderr",
     "output_type": "stream",
     "text": [
      "      2.35 seconds: SPR round   1 of   2, 3301 of 3560 nodes\n",
      "      2.46 seconds: ME NNI round 15 of 43, 1 of 1779 splits\n"
     ]
    },
    {
     "name": "stderr",
     "output_type": "stream",
     "text": [
      "      2.58 seconds: SPR round   2 of   2, 101 of 3560 nodes\n",
      "      2.68 seconds: SPR round   2 of   2, 401 of 3560 nodes\n"
     ]
    },
    {
     "name": "stderr",
     "output_type": "stream",
     "text": [
      "      2.78 seconds: SPR round   2 of   2, 701 of 3560 nodes\n",
      "      2.90 seconds: SPR round   2 of   2, 1001 of 3560 nodes\n"
     ]
    },
    {
     "name": "stderr",
     "output_type": "stream",
     "text": [
      "      3.01 seconds: SPR round   2 of   2, 1301 of 3560 nodes\n",
      "      3.13 seconds: SPR round   2 of   2, 1601 of 3560 nodes\n"
     ]
    },
    {
     "name": "stderr",
     "output_type": "stream",
     "text": [
      "      3.25 seconds: SPR round   2 of   2, 1901 of 3560 nodes\n",
      "      3.37 seconds: SPR round   2 of   2, 2201 of 3560 nodes\n"
     ]
    },
    {
     "name": "stderr",
     "output_type": "stream",
     "text": [
      "      3.50 seconds: SPR round   2 of   2, 2501 of 3560 nodes\n",
      "      3.62 seconds: SPR round   2 of   2, 2801 of 3560 nodes\n"
     ]
    },
    {
     "name": "stderr",
     "output_type": "stream",
     "text": [
      "      3.75 seconds: SPR round   2 of   2, 3201 of 3560 nodes\n",
      "      3.88 seconds: SPR round   2 of   2, 3501 of 3560 nodes\n"
     ]
    },
    {
     "name": "stderr",
     "output_type": "stream",
     "text": [
      "Total branch-length 31.558 after 3.98 sec\n",
      "      3.99 seconds: ML Lengths 1 of 1779 splits\n",
      "      4.09 seconds: ML Lengths 601 of 1779 splits\n"
     ]
    },
    {
     "name": "stderr",
     "output_type": "stream",
     "text": [
      "      4.19 seconds: ML Lengths 1201 of 1779 splits\n",
      "      4.32 seconds: ML NNI round 1 of 22, 101 of 1779 splits, 20 changes (max delta 8.675)\n"
     ]
    },
    {
     "name": "stderr",
     "output_type": "stream",
     "text": [
      "      4.43 seconds: ML NNI round 1 of 22, 501 of 1779 splits, 81 changes (max delta 8.675)\n",
      "      4.54 seconds: ML NNI round 1 of 22, 901 of 1779 splits, 132 changes (max delta 10.572)\n"
     ]
    },
    {
     "name": "stderr",
     "output_type": "stream",
     "text": [
      "      4.66 seconds: ML NNI round 1 of 22, 1301 of 1779 splits, 180 changes (max delta 10.572)\n",
      "      4.77 seconds: ML NNI round 1 of 22, 1701 of 1779 splits, 258 changes (max delta 10.572)\n",
      "ML-NNI round 1: LogLk = -83328.558 NNIs 273 max delta 10.57 Time 4.81\n"
     ]
    },
    {
     "name": "stderr",
     "output_type": "stream",
     "text": [
      "      4.87 seconds: Site likelihoods with rate category 5 of 20\n",
      "      4.99 seconds: Site likelihoods with rate category 13 of 20\n"
     ]
    },
    {
     "name": "stderr",
     "output_type": "stream",
     "text": [
      "Switched to using 20 rate categories (CAT approximation)\n",
      "Rate categories were divided by 1.134 so that average rate = 1.0\n",
      "CAT-based log-likelihoods may not be comparable across runs\n",
      "Use -gamma for approximate but comparable Gamma(20) log-likelihoods\n",
      "      5.10 seconds: ML NNI round 2 of 22, 1 of 1779 splits\n",
      "      5.22 seconds: ML NNI round 2 of 22, 401 of 1779 splits, 47 changes (max delta 6.351)\n"
     ]
    },
    {
     "name": "stderr",
     "output_type": "stream",
     "text": [
      "      5.35 seconds: ML NNI round 2 of 22, 801 of 1779 splits, 86 changes (max delta 7.275)\n",
      "      5.47 seconds: ML NNI round 2 of 22, 1201 of 1779 splits, 123 changes (max delta 7.874)\n"
     ]
    },
    {
     "name": "stderr",
     "output_type": "stream",
     "text": [
      "      5.58 seconds: ML NNI round 2 of 22, 1601 of 1779 splits, 176 changes (max delta 7.874)\n",
      "ML-NNI round 2: LogLk = -69461.058 NNIs 189 max delta 7.87 Time 5.64\n",
      "      5.69 seconds: ML NNI round 3 of 22, 201 of 1779 splits, 9 changes (max delta 4.072)\n"
     ]
    },
    {
     "name": "stderr",
     "output_type": "stream",
     "text": [
      "      5.82 seconds: ML NNI round 3 of 22, 601 of 1779 splits, 26 changes (max delta 5.343)\n",
      "      5.94 seconds: ML NNI round 3 of 22, 1001 of 1779 splits, 51 changes (max delta 5.699)\n",
      "ML-NNI round 3: LogLk = -69379.938 NNIs 56 max delta 5.70 Time 5.98\n"
     ]
    },
    {
     "name": "stderr",
     "output_type": "stream",
     "text": [
      "      6.06 seconds: ML NNI round 4 of 22, 301 of 1779 splits, 8 changes (max delta 3.272)\n",
      "ML-NNI round 4: LogLk = -69366.251 NNIs 23 max delta 3.27 Time 6.20\n",
      "      6.19 seconds: ML NNI round 5 of 22, 1 of 1779 splits\n"
     ]
    },
    {
     "name": "stderr",
     "output_type": "stream",
     "text": [
      "ML-NNI round 5: LogLk = -69364.089 NNIs 3 max delta 0.18 Time 6.29\n",
      "ML-NNI round 6: LogLk = -69364.053 NNIs 0 max delta 0.00 Time 6.32\n",
      "Turning off heuristics for final round of ML NNIs (converged)\n",
      "      6.32 seconds: ML NNI round 7 of 22, 1 of 1779 splits\n",
      "      6.42 seconds: ML NNI round 7 of 22, 401 of 1779 splits, 0 changes\n"
     ]
    },
    {
     "name": "stderr",
     "output_type": "stream",
     "text": [
      "      6.54 seconds: ML NNI round 7 of 22, 801 of 1779 splits, 4 changes (max delta 0.854)\n",
      "      6.66 seconds: ML NNI round 7 of 22, 1201 of 1779 splits, 8 changes (max delta 0.854)\n"
     ]
    },
    {
     "name": "stderr",
     "output_type": "stream",
     "text": [
      "      6.78 seconds: ML NNI round 7 of 22, 1601 of 1779 splits, 10 changes (max delta 0.854)\n",
      "ML-NNI round 7: LogLk = -69353.446 NNIs 11 max delta 0.85 Time 6.84 (final)\n",
      "      6.89 seconds: ML Lengths 401 of 1779 splits\n"
     ]
    },
    {
     "name": "stderr",
     "output_type": "stream",
     "text": [
      "      7.00 seconds: ML Lengths 1201 of 1779 splits\n",
      "Optimize all lengths: LogLk = -69352.810 Time 7.09\n",
      "      7.16 seconds: ML split tests for    100 of   1778 internal splits\n"
     ]
    },
    {
     "name": "stderr",
     "output_type": "stream",
     "text": [
      "      7.31 seconds: ML split tests for    300 of   1778 internal splits\n",
      "      7.46 seconds: ML split tests for    500 of   1778 internal splits\n"
     ]
    },
    {
     "name": "stderr",
     "output_type": "stream",
     "text": [
      "      7.61 seconds: ML split tests for    700 of   1778 internal splits\n",
      "      7.77 seconds: ML split tests for    900 of   1778 internal splits\n"
     ]
    },
    {
     "name": "stderr",
     "output_type": "stream",
     "text": [
      "      7.92 seconds: ML split tests for   1100 of   1778 internal splits\n",
      "      8.08 seconds: ML split tests for   1300 of   1778 internal splits\n"
     ]
    },
    {
     "name": "stderr",
     "output_type": "stream",
     "text": [
      "      8.23 seconds: ML split tests for   1500 of   1778 internal splits\n",
      "      8.38 seconds: ML split tests for   1700 of   1778 internal splits\n"
     ]
    },
    {
     "name": "stderr",
     "output_type": "stream",
     "text": [
      "Total time: 8.45 seconds Unique: 1781/1885 Bad splits: 1/1778 Worst delta-LogLk 5.116\n"
     ]
    }
   ],
   "source": [
    "mafft_alignment, mafft_masked_alignment, mafft_tree, mafft_rooted_tree = align_to_tree_mafft_fasttree(\n",
    "    sequences=reps, n_threads=6, )"
   ]
  },
  {
   "cell_type": "markdown",
   "id": "0768d598",
   "metadata": {
    "papermill": {
     "duration": 0.004849,
     "end_time": "2024-03-06T13:20:05.926874",
     "exception": false,
     "start_time": "2024-03-06T13:20:05.922025",
     "status": "completed"
    },
    "tags": []
   },
   "source": [
    "### Compute Alpha Diversity (Phylogeny)\n",
    "- [diversity alpha_phylogenetic](https://docs.qiime2.org/2022.8/plugins/available/diversity/alpha-phylogenetic/): Computes a user-specified phylogenetic alpha diversity metric for all samples in a feature table.\n",
    "- Metrics: Choices ('faith_pd')"
   ]
  },
  {
   "cell_type": "code",
   "execution_count": 11,
   "id": "0383aa19",
   "metadata": {
    "ExecuteTime": {
     "end_time": "2022-09-29T20:54:35.310009Z",
     "start_time": "2022-09-29T20:54:35.141333Z"
    },
    "execution": {
     "iopub.execute_input": "2024-03-06T13:20:05.937317Z",
     "iopub.status.busy": "2024-03-06T13:20:05.937176Z",
     "iopub.status.idle": "2024-03-06T13:20:06.046832Z",
     "shell.execute_reply": "2024-03-06T13:20:06.046338Z"
    },
    "papermill": {
     "duration": 0.116005,
     "end_time": "2024-03-06T13:20:06.047824",
     "exception": false,
     "start_time": "2024-03-06T13:20:05.931819",
     "status": "completed"
    },
    "tags": []
   },
   "outputs": [
    {
     "name": "stdout",
     "output_type": "stream",
     "text": [
      "Calculating alpha diversity: faith_pd\n",
      "Running external command line application. This may print messages to stdout and/or stderr.\n",
      "The command being run is below. This command cannot be manually re-run as it will depend on temporary files that no longer exist.\n",
      "\n",
      "Command:\n",
      "\n",
      "faithpd -i /tmp/qiime2/lauro/data/080648f5-c55b-4b13-aab6-60c8165d1723/data/feature-table.biom -t /tmp/qiime2/lauro/data/6fe20ac4-95fd-44ae-af83-f3ddbe6ddb88/data/tree.nwk -o /tmp/q2-AlphaDiversityFormat-k3yh1hu1\n",
      "\n",
      "DONE: Calculating alpha phylogeny: faith_pd\n"
     ]
    }
   ],
   "source": [
    "metrics = ('faith_pd', )\n",
    "alpha_diversities_phylogenetic = dict()\n",
    "for metric in metrics:\n",
    "    print(f\"Calculating alpha diversity: {metric}\")\n",
    "    try:\n",
    "        alpha_diversity = alpha_phylogenetic(table=tabs, phylogeny=mafft_rooted_tree, metric=metric).alpha_diversity\n",
    "        alpha_diversities_phylogenetic[metric] = alpha_diversity\n",
    "        # Save Artifact\n",
    "        file_path = os.path.join(alpha_path, f'alpha-phylogeny-{metric}.qza')\n",
    "        alpha_diversity.save(file_path)\n",
    "        print(f\"DONE: Calculating alpha phylogeny: {metric}\")\n",
    "    except Exception as e:\n",
    "        print(f\"ERROR: Calculating alpha phylogeny: {metric}\")"
   ]
  },
  {
   "cell_type": "markdown",
   "id": "42db1ead",
   "metadata": {
    "papermill": {
     "duration": 0.004924,
     "end_time": "2024-03-06T13:20:06.057960",
     "exception": false,
     "start_time": "2024-03-06T13:20:06.053036",
     "status": "completed"
    },
    "tags": []
   },
   "source": [
    "- [core-metrics-phylogenetic](https://docs.qiime2.org/2023.7/plugins/available/diversity/core-metrics-phylogenetic/)"
   ]
  },
  {
   "cell_type": "code",
   "execution_count": 12,
   "id": "ef726ab7",
   "metadata": {
    "execution": {
     "iopub.execute_input": "2024-03-06T13:20:06.068583Z",
     "iopub.status.busy": "2024-03-06T13:20:06.068442Z",
     "iopub.status.idle": "2024-03-06T13:20:07.912070Z",
     "shell.execute_reply": "2024-03-06T13:20:07.911582Z"
    },
    "papermill": {
     "duration": 1.850273,
     "end_time": "2024-03-06T13:20:07.913223",
     "exception": false,
     "start_time": "2024-03-06T13:20:06.062950",
     "status": "completed"
    },
    "tags": []
   },
   "outputs": [
    {
     "name": "stderr",
     "output_type": "stream",
     "text": [
      "/home/lauro/anaconda3/envs/qiime2-2023.5/lib/python3.8/site-packages/sklearn/metrics/pairwise.py:1761: DataConversionWarning: Data was converted to boolean for metric jaccard\n",
      "  warnings.warn(msg, DataConversionWarning)\n",
      "/home/lauro/anaconda3/envs/qiime2-2023.5/lib/python3.8/site-packages/skbio/stats/ordination/_principal_coordinate_analysis.py:143: RuntimeWarning: The result contains negative eigenvalues. Please compare their magnitude with the magnitude of some of the largest positive eigenvalues. If the negative ones are smaller, it's probably safe to ignore them, but if they are large in magnitude, the results won't be useful. See the Notes section for more details. The smallest eigenvalue is -0.006820929442559131 and the largest is 2.78967879790114.\n",
      "  warn(\n"
     ]
    },
    {
     "name": "stdout",
     "output_type": "stream",
     "text": [
      "Running external command line application. This may print messages to stdout and/or stderr.\n",
      "The command being run is below. This command cannot be manually re-run as it will depend on temporary files that no longer exist.\n",
      "\n",
      "Command:\n",
      "\n",
      "faithpd -i /tmp/qiime2/lauro/data/b538f161-b836-4452-8278-2580b52da9cf/data/feature-table.biom -t /tmp/qiime2/lauro/data/6fe20ac4-95fd-44ae-af83-f3ddbe6ddb88/data/tree.nwk -o /tmp/q2-AlphaDiversityFormat-5v1kgqxu\n",
      "\n",
      "Running external command line application. This may print messages to stdout and/or stderr.\n",
      "The command being run is below. This command cannot be manually re-run as it will depend on temporary files that no longer exist.\n",
      "\n",
      "Command:\n",
      "\n",
      "ssu -i /tmp/qiime2/lauro/data/b538f161-b836-4452-8278-2580b52da9cf/data/feature-table.biom -t /tmp/qiime2/lauro/data/6fe20ac4-95fd-44ae-af83-f3ddbe6ddb88/data/tree.nwk -m unweighted -o /tmp/q2-LSMatFormat-dav_a65i\n",
      "\n"
     ]
    },
    {
     "name": "stdout",
     "output_type": "stream",
     "text": [
      "Running external command line application. This may print messages to stdout and/or stderr.\n",
      "The command being run is below. This command cannot be manually re-run as it will depend on temporary files that no longer exist.\n",
      "\n",
      "Command:\n",
      "\n",
      "ssu -i /tmp/qiime2/lauro/data/b538f161-b836-4452-8278-2580b52da9cf/data/feature-table.biom -t /tmp/qiime2/lauro/data/6fe20ac4-95fd-44ae-af83-f3ddbe6ddb88/data/tree.nwk -m weighted_unnormalized -o /tmp/q2-LSMatFormat-_arq1fbb\n",
      "\n"
     ]
    },
    {
     "name": "stderr",
     "output_type": "stream",
     "text": [
      "/home/lauro/anaconda3/envs/qiime2-2023.5/lib/python3.8/site-packages/skbio/stats/ordination/_principal_coordinate_analysis.py:143: RuntimeWarning: The result contains negative eigenvalues. Please compare their magnitude with the magnitude of some of the largest positive eigenvalues. If the negative ones are smaller, it's probably safe to ignore them, but if they are large in magnitude, the results won't be useful. See the Notes section for more details. The smallest eigenvalue is -0.0026987566208391462 and the largest is 1.007032592868233.\n",
      "  warn(\n",
      "/home/lauro/anaconda3/envs/qiime2-2023.5/lib/python3.8/site-packages/skbio/stats/ordination/_principal_coordinate_analysis.py:143: RuntimeWarning: The result contains negative eigenvalues. Please compare their magnitude with the magnitude of some of the largest positive eigenvalues. If the negative ones are smaller, it's probably safe to ignore them, but if they are large in magnitude, the results won't be useful. See the Notes section for more details. The smallest eigenvalue is -0.05235096303058128 and the largest is 2.878711805237623.\n",
      "  warn(\n"
     ]
    }
   ],
   "source": [
    "s_depth = int(tabs.view(pd.DataFrame).sum(axis=1).min())\n",
    "results = core_metrics_phylogenetic(\n",
    "    table = tabs,\n",
    "    phylogeny = mafft_rooted_tree,\n",
    "    sampling_depth = s_depth,\n",
    "    metadata = metadata_qa,\n",
    "    n_jobs_or_threads = 6,\n",
    ")"
   ]
  },
  {
   "cell_type": "code",
   "execution_count": 13,
   "id": "19311218",
   "metadata": {
    "execution": {
     "iopub.execute_input": "2024-03-06T13:20:07.924451Z",
     "iopub.status.busy": "2024-03-06T13:20:07.924313Z",
     "iopub.status.idle": "2024-03-06T13:20:07.927975Z",
     "shell.execute_reply": "2024-03-06T13:20:07.927563Z"
    },
    "papermill": {
     "duration": 0.010285,
     "end_time": "2024-03-06T13:20:07.928930",
     "exception": false,
     "start_time": "2024-03-06T13:20:07.918645",
     "status": "completed"
    },
    "tags": []
   },
   "outputs": [],
   "source": [
    "results_info = [(\"rarefied_table\", \"FeatureTable[Frequency]\", \"The resulting rarefied feature table.\"),\n",
    "(\"faith_pd_vector\", \"SampleData[AlphaDiversity]\", \"Vector of Faith PD values by sample.\"),\n",
    "(\"observed_features_vector\", \"SampleData[AlphaDiversity]\", \"Vector of Observed Features values by sample.\"),\n",
    "(\"shannon_vector\", \"SampleData[AlphaDiversity]\", \"Vector of Shannon diversity values by sample.\"),\n",
    "(\"evenness_vector\", \"SampleData[AlphaDiversity]\", \"Vector of Pielou's evenness values by sample.\"),\n",
    "(\"unweighted_unifrac_distance_matrix\", \"DistanceMatrix\", \"Matrix of unweighted UniFrac distances between pairs of samples.\"),\n",
    "(\"weighted_unifrac_distance_matrix\", \"DistanceMatrix\", \"Matrix of weighted UniFrac distances between pairs of samples.\"),\n",
    "(\"jaccard_distance_matrix\", \"DistanceMatrix\", \"Matrix of Jaccard distances between pairs of samples.\"),\n",
    "(\"bray_curtis_distance_matrix\", \"DistanceMatrix\", \"Matrix of Bray-Curtis distances between pairs of samples.\"),\n",
    "(\"unweighted_unifrac_pcoa_results\", \"PCoAResults\", \"PCoA matrix computed from unweighted UniFrac distances between samples.\"),\n",
    "(\"weighted_unifrac_pcoa_results\", \"PCoAResults\", \"PCoA matrix computed from weighted UniFrac distances between samples.\"),\n",
    "(\"jaccard_pcoa_results\", \"PCoAResults\", \"PCoA matrix computed from Jaccard distances between samples.\"),\n",
    "(\"bray_curtis_pcoa_results\", \"PCoAResults\", \"PCoA matrix computed from Bray-Curtis distances between samples.\"),\n",
    "(\"unweighted_unifrac_emperor\", \"Visualization\", \"Emperor plot of the PCoA matrix computed from unweighted UniFrac.\"),\n",
    "(\"weighted_unifrac_emperor\", \"Visualization\", \"Emperor plot of the PCoA matrix computed from weighted UniFrac.\"),\n",
    "(\"jaccard_emperor\", \"Visualization\", \"Emperor plot of the PCoA matrix computed from Jaccard.\"),\n",
    "(\"bray_curtis_emperor\", \"Visualization\", \"Emperor plot of the PCoA matrix computed from Bray-Curtis.\")]"
   ]
  },
  {
   "cell_type": "code",
   "execution_count": 14,
   "id": "2264925a",
   "metadata": {
    "execution": {
     "iopub.execute_input": "2024-03-06T13:20:07.939693Z",
     "iopub.status.busy": "2024-03-06T13:20:07.939567Z",
     "iopub.status.idle": "2024-03-06T13:20:08.221658Z",
     "shell.execute_reply": "2024-03-06T13:20:08.221234Z"
    },
    "papermill": {
     "duration": 0.288483,
     "end_time": "2024-03-06T13:20:08.222584",
     "exception": false,
     "start_time": "2024-03-06T13:20:07.934101",
     "status": "completed"
    },
    "tags": []
   },
   "outputs": [
    {
     "name": "stdout",
     "output_type": "stream",
     "text": [
      "13 unweighted_unifrac_emperor Visualization\n",
      "--- Emperor plot of the PCoA matrix computed from unweighted UniFrac. ---\n",
      "Saving emperor file at: /mnt/nupeb/rede-micro/redemicro-ana-flavia-nutri/experiments/ana-flavia-all/qiime-artifacts/beta-analysis/unweighted_unifrac_emperor.qzv\n",
      "\n",
      "14 weighted_unifrac_emperor Visualization\n",
      "--- Emperor plot of the PCoA matrix computed from weighted UniFrac. ---\n",
      "Saving emperor file at: /mnt/nupeb/rede-micro/redemicro-ana-flavia-nutri/experiments/ana-flavia-all/qiime-artifacts/beta-analysis/weighted_unifrac_emperor.qzv\n",
      "\n",
      "15 jaccard_emperor Visualization\n",
      "--- Emperor plot of the PCoA matrix computed from Jaccard. ---\n",
      "Saving emperor file at: /mnt/nupeb/rede-micro/redemicro-ana-flavia-nutri/experiments/ana-flavia-all/qiime-artifacts/beta-analysis/jaccard_emperor.qzv\n",
      "\n"
     ]
    },
    {
     "name": "stdout",
     "output_type": "stream",
     "text": [
      "16 bray_curtis_emperor Visualization\n",
      "--- Emperor plot of the PCoA matrix computed from Bray-Curtis. ---\n",
      "Saving emperor file at: /mnt/nupeb/rede-micro/redemicro-ana-flavia-nutri/experiments/ana-flavia-all/qiime-artifacts/beta-analysis/bray_curtis_emperor.qzv\n",
      "\n"
     ]
    }
   ],
   "source": [
    "distance_matrix = dict()\n",
    "for i, info in enumerate(results_info):\n",
    "    r_id, r_type, r_desc = info\n",
    "    #print(i, r_id, r_type)\n",
    "    file_name = f\"{r_id}.qzv\"\n",
    "    if r_type == \"FeatureTable[Frequency]\":\n",
    "        pass\n",
    "    elif r_type == \"DistanceMatrix\":\n",
    "        distance_matrix[r_id] = results[i]\n",
    "    elif r_id.endswith('emperor'):\n",
    "        print(i, r_id, r_type)\n",
    "        print(f\"--- {r_desc} ---\")\n",
    "        file_name = os.path.join(beta_path, file_name)\n",
    "        print(f'Saving emperor file at: {file_name}\\n')\n",
    "        results[i].save(filepath=file_name)"
   ]
  },
  {
   "cell_type": "markdown",
   "id": "c7752cfd",
   "metadata": {
    "papermill": {
     "duration": 0.005241,
     "end_time": "2024-03-06T13:20:08.233177",
     "exception": false,
     "start_time": "2024-03-06T13:20:08.227936",
     "status": "completed"
    },
    "tags": []
   },
   "source": [
    "### Alpha diversity correlation\n",
    "\n",
    "This method only process `numeric` columns.\n"
   ]
  },
  {
   "cell_type": "code",
   "execution_count": 15,
   "id": "2814f613",
   "metadata": {
    "ExecuteTime": {
     "end_time": "2022-09-29T20:54:35.317618Z",
     "start_time": "2022-09-29T20:54:35.312094Z"
    },
    "execution": {
     "iopub.execute_input": "2024-03-06T13:20:08.244008Z",
     "iopub.status.busy": "2024-03-06T13:20:08.243878Z",
     "iopub.status.idle": "2024-03-06T13:20:08.247815Z",
     "shell.execute_reply": "2024-03-06T13:20:08.247390Z"
    },
    "papermill": {
     "duration": 0.010436,
     "end_time": "2024-03-06T13:20:08.248722",
     "exception": false,
     "start_time": "2024-03-06T13:20:08.238286",
     "status": "completed"
    },
    "tags": []
   },
   "outputs": [],
   "source": [
    "methods = ('spearman', 'pearson')\n",
    "numerics_cols = metadata_qa.filter_columns(column_type='numeric')\n",
    "if numerics_cols.column_count > 0:\n",
    "    for metric, alpha_values in alpha_diversities.items():\n",
    "        for method in methods:\n",
    "            try:\n",
    "                corr_view = alpha_correlation(alpha_diversity=alpha_values, metadata=numerics_cols, \n",
    "                                          method=method, intersect_ids=True).visualization\n",
    "                view_path = os.path.join(alpha_path, f'alpha-correlation-{metric}-{method}.qzv')\n",
    "                corr_view.save(view_path)\n",
    "                corr_view\n",
    "                print(f\"DONE: Calculating alpha correlation: {metric} {method}\")\n",
    "            except Exception as e:\n",
    "                print(f\"ERROR: Calculating alpha correlation: {metric} {method}\")"
   ]
  },
  {
   "cell_type": "markdown",
   "id": "8ea83c8a",
   "metadata": {
    "papermill": {
     "duration": 0.005164,
     "end_time": "2024-03-06T13:20:08.259124",
     "exception": false,
     "start_time": "2024-03-06T13:20:08.253960",
     "status": "completed"
    },
    "tags": []
   },
   "source": [
    "## Alpha diversity comparisons\n",
    "\n",
    "Visually and statistically compare groups of alpha diversity values.\n",
    "\n",
    "[diversity alpha_group_significance](https://docs.qiime2.org/2022.8/plugins/available/diversity/alpha-group-significance/)"
   ]
  },
  {
   "cell_type": "code",
   "execution_count": 16,
   "id": "276d1c18",
   "metadata": {
    "ExecuteTime": {
     "end_time": "2022-09-29T20:54:36.089290Z",
     "start_time": "2022-09-29T20:54:35.318963Z"
    },
    "execution": {
     "iopub.execute_input": "2024-03-06T13:20:08.270083Z",
     "iopub.status.busy": "2024-03-06T13:20:08.269936Z",
     "iopub.status.idle": "2024-03-06T13:20:08.774804Z",
     "shell.execute_reply": "2024-03-06T13:20:08.774361Z"
    },
    "papermill": {
     "duration": 0.511423,
     "end_time": "2024-03-06T13:20:08.775758",
     "exception": false,
     "start_time": "2024-03-06T13:20:08.264335",
     "status": "completed"
    },
    "tags": []
   },
   "outputs": [
    {
     "name": "stdout",
     "output_type": "stream",
     "text": [
      "Processing alpha_group_significance: chao1\n"
     ]
    },
    {
     "name": "stdout",
     "output_type": "stream",
     "text": [
      "DONE: Calculating alpha group significance: chao1\n",
      "Processing alpha_group_significance: chao1_ci\n",
      "ERROR: Calculating alpha group significance: chao1_ci\n",
      "Processing alpha_group_significance: observed_features\n"
     ]
    },
    {
     "name": "stdout",
     "output_type": "stream",
     "text": [
      "DONE: Calculating alpha group significance: observed_features\n",
      "Processing alpha_group_significance: shannon\n"
     ]
    },
    {
     "name": "stdout",
     "output_type": "stream",
     "text": [
      "DONE: Calculating alpha group significance: shannon\n",
      "Processing alpha_group_significance: simpson\n",
      "DONE: Calculating alpha group significance: simpson\n",
      "Processing alpha_group_significance: simpson_e\n"
     ]
    },
    {
     "name": "stdout",
     "output_type": "stream",
     "text": [
      "DONE: Calculating alpha group significance: simpson_e\n"
     ]
    }
   ],
   "source": [
    "for metric, alpha_values in alpha_diversities.items():\n",
    "    print(f\"Processing alpha_group_significance: {metric}\")\n",
    "    try:\n",
    "        significance_view = alpha_group_significance(alpha_diversity=alpha_values, metadata=metadata_qa).visualization\n",
    "        view_path = os.path.join(alpha_path, f'alpha-group-significance-{metric}.qzv')\n",
    "        significance_view.save(view_path)\n",
    "        significance_view\n",
    "        print(f\"DONE: Calculating alpha group significance: {metric}\")\n",
    "    except Exception as e:\n",
    "        print(f\"ERROR: Calculating alpha group significance: {metric}\")"
   ]
  },
  {
   "cell_type": "markdown",
   "id": "4349d357",
   "metadata": {
    "papermill": {
     "duration": 0.005328,
     "end_time": "2024-03-06T13:20:08.786675",
     "exception": false,
     "start_time": "2024-03-06T13:20:08.781347",
     "status": "completed"
    },
    "tags": []
   },
   "source": [
    "## Beta diversity analysis\n",
    "\n",
    "#### Reference\n",
    "- [diversity beta](https://docs.qiime2.org/2022.8/plugins/available/diversity/beta/): Computes a user-specified beta diversity metric for all pairs of samples in a feature table.\n",
    "- [Beta diversity metrics](http://scikit-bio.org/docs/0.2.0/generated/skbio.diversity.beta.html)\n",
    "\n",
    "- Metric Choices('aitchison', 'braycurtis', 'canberra', 'canberra_adkins', 'chebyshev', 'cityblock', 'correlation', 'cosine', 'dice', 'euclidean', 'hamming', 'jaccard', 'jensenshannon', 'kulsinski', 'matching', 'minkowski', 'rogerstanimoto', 'russellrao', 'seuclidean', 'sokalmichener', 'sokalsneath', 'sqeuclidean', 'yule')"
   ]
  },
  {
   "cell_type": "code",
   "execution_count": 17,
   "id": "f6f358dd",
   "metadata": {
    "ExecuteTime": {
     "end_time": "2022-09-29T20:54:36.335038Z",
     "start_time": "2022-09-29T20:54:36.091288Z"
    },
    "execution": {
     "iopub.execute_input": "2024-03-06T13:20:08.798206Z",
     "iopub.status.busy": "2024-03-06T13:20:08.798068Z",
     "iopub.status.idle": "2024-03-06T13:20:09.211877Z",
     "shell.execute_reply": "2024-03-06T13:20:09.211439Z"
    },
    "papermill": {
     "duration": 0.420864,
     "end_time": "2024-03-06T13:20:09.212831",
     "exception": false,
     "start_time": "2024-03-06T13:20:08.791967",
     "status": "completed"
    },
    "tags": []
   },
   "outputs": [
    {
     "name": "stdout",
     "output_type": "stream",
     "text": [
      "Calculating beta diversity: euclidean\n",
      "DONE: Calculating beta diversity: euclidean\n",
      "Calculating beta diversity: dice\n",
      "DONE: Calculating beta diversity: dice\n",
      "Calculating beta diversity: braycurtis\n"
     ]
    },
    {
     "name": "stderr",
     "output_type": "stream",
     "text": [
      "/home/lauro/anaconda3/envs/qiime2-2023.5/lib/python3.8/site-packages/sklearn/metrics/pairwise.py:1761: DataConversionWarning: Data was converted to boolean for metric dice\n",
      "  warnings.warn(msg, DataConversionWarning)\n",
      "/home/lauro/anaconda3/envs/qiime2-2023.5/lib/python3.8/site-packages/sklearn/metrics/pairwise.py:1761: DataConversionWarning: Data was converted to boolean for metric matching\n",
      "  warnings.warn(msg, DataConversionWarning)\n"
     ]
    },
    {
     "name": "stdout",
     "output_type": "stream",
     "text": [
      "DONE: Calculating beta diversity: braycurtis\n",
      "Calculating beta diversity: correlation\n",
      "ERROR: Calculating beta diversity: correlation\n",
      "Calculating beta diversity: cosine\n",
      "ERROR: Calculating beta diversity: cosine\n",
      "Calculating beta diversity: matching\n",
      "DONE: Calculating beta diversity: matching\n",
      "Calculating beta diversity: jaccard\n"
     ]
    },
    {
     "name": "stdout",
     "output_type": "stream",
     "text": [
      "DONE: Calculating beta diversity: jaccard\n"
     ]
    },
    {
     "name": "stderr",
     "output_type": "stream",
     "text": [
      "/home/lauro/anaconda3/envs/qiime2-2023.5/lib/python3.8/site-packages/sklearn/metrics/pairwise.py:1761: DataConversionWarning: Data was converted to boolean for metric jaccard\n",
      "  warnings.warn(msg, DataConversionWarning)\n"
     ]
    }
   ],
   "source": [
    "metrics = ('aitchison', 'braycurtis', 'canberra', 'canberra_adkins', 'chebyshev', 'cityblock', 'correlation', 'cosine', 'dice', 'euclidean', 'hamming', 'jaccard', 'jensenshannon', 'kulsinski', 'matching', 'minkowski', 'rogerstanimoto', 'russellrao', 'seuclidean', 'sokalmichener', 'sokalsneath', 'sqeuclidean', 'yule')\n",
    "metrics = ('euclidean', 'dice', 'braycurtis', 'correlation', 'cosine', 'matching', 'jaccard')\n",
    "beta_diversities = dict()\n",
    "for metric in metrics:\n",
    "    print(f\"Calculating beta diversity: {metric}\")\n",
    "    try:\n",
    "        beta_diversity = beta(table=tabs, metric=metric, n_jobs=6, pseudocount=1).distance_matrix\n",
    "        beta_diversities[metric] = beta_diversity\n",
    "        # Save SampleData[BetaDiversity] Artifact\n",
    "        file_path = os.path.join(beta_path, f'beta-values-{metric}.qza')\n",
    "        beta_diversity.save(file_path)\n",
    "        print(f\"DONE: Calculating beta diversity: {metric}\")\n",
    "    except Exception as e:\n",
    "        print(f\"ERROR: Calculating beta diversity: {metric}\")"
   ]
  },
  {
   "cell_type": "markdown",
   "id": "200a2fa7",
   "metadata": {
    "papermill": {
     "duration": 0.005436,
     "end_time": "2024-03-06T13:20:09.224023",
     "exception": false,
     "start_time": "2024-03-06T13:20:09.218587",
     "status": "completed"
    },
    "tags": []
   },
   "source": [
    "### Beta group significance\n",
    "\n",
    "- [diversity beta_group_significance](https://docs.qiime2.org/2022.8/plugins/available/diversity/beta-group-significance/): Determine whether groups of samples are significantly different from one another using a permutation-based statistical test.\n",
    "- Marti J Anderson. A new method for non-parametric multivariate analysis of variance. Austral ecology, 26(1):32–46, 2001. doi:https://doi.org/10.1111/j.1442-9993.2001.01070.pp.x."
   ]
  },
  {
   "cell_type": "code",
   "execution_count": 18,
   "id": "b8dd42b6",
   "metadata": {
    "ExecuteTime": {
     "end_time": "2022-09-29T20:55:08.313860Z",
     "start_time": "2022-09-29T20:54:36.336993Z"
    },
    "execution": {
     "iopub.execute_input": "2024-03-06T13:20:09.235541Z",
     "iopub.status.busy": "2024-03-06T13:20:09.235403Z",
     "iopub.status.idle": "2024-03-06T13:22:20.078289Z",
     "shell.execute_reply": "2024-03-06T13:22:20.077978Z"
    },
    "papermill": {
     "duration": 130.855965,
     "end_time": "2024-03-06T13:22:20.085391",
     "exception": false,
     "start_time": "2024-03-06T13:20:09.229426",
     "status": "completed"
    },
    "tags": []
   },
   "outputs": [
    {
     "name": "stdout",
     "output_type": "stream",
     "text": [
      "Calculating beta group significance with method permanova and metric euclidean\n"
     ]
    },
    {
     "name": "stdout",
     "output_type": "stream",
     "text": [
      "DONE: Calculating beta group significance: permanova euclidean\n",
      "Calculating beta group significance with method permanova and metric dice\n"
     ]
    },
    {
     "name": "stdout",
     "output_type": "stream",
     "text": [
      "DONE: Calculating beta group significance: permanova dice\n",
      "Calculating beta group significance with method permanova and metric braycurtis\n"
     ]
    },
    {
     "name": "stdout",
     "output_type": "stream",
     "text": [
      "DONE: Calculating beta group significance: permanova braycurtis\n",
      "Calculating beta group significance with method permanova and metric matching\n"
     ]
    },
    {
     "name": "stdout",
     "output_type": "stream",
     "text": [
      "DONE: Calculating beta group significance: permanova matching\n",
      "Calculating beta group significance with method permanova and metric jaccard\n"
     ]
    },
    {
     "name": "stdout",
     "output_type": "stream",
     "text": [
      "DONE: Calculating beta group significance: permanova jaccard\n",
      "Calculating beta group significance with method anosim and metric euclidean\n"
     ]
    },
    {
     "name": "stdout",
     "output_type": "stream",
     "text": [
      "DONE: Calculating beta group significance: anosim euclidean\n",
      "Calculating beta group significance with method anosim and metric dice\n"
     ]
    },
    {
     "name": "stdout",
     "output_type": "stream",
     "text": [
      "DONE: Calculating beta group significance: anosim dice\n",
      "Calculating beta group significance with method anosim and metric braycurtis\n"
     ]
    },
    {
     "name": "stdout",
     "output_type": "stream",
     "text": [
      "DONE: Calculating beta group significance: anosim braycurtis\n",
      "Calculating beta group significance with method anosim and metric matching\n"
     ]
    },
    {
     "name": "stdout",
     "output_type": "stream",
     "text": [
      "DONE: Calculating beta group significance: anosim matching\n",
      "Calculating beta group significance with method anosim and metric jaccard\n"
     ]
    },
    {
     "name": "stdout",
     "output_type": "stream",
     "text": [
      "DONE: Calculating beta group significance: anosim jaccard\n",
      "Calculating beta group significance with method permdisp and metric euclidean\n"
     ]
    },
    {
     "name": "stderr",
     "output_type": "stream",
     "text": [
      "/home/lauro/anaconda3/envs/qiime2-2023.5/lib/python3.8/site-packages/skbio/stats/ordination/_principal_coordinate_analysis.py:143: RuntimeWarning: The result contains negative eigenvalues. Please compare their magnitude with the magnitude of some of the largest positive eigenvalues. If the negative ones are smaller, it's probably safe to ignore them, but if they are large in magnitude, the results won't be useful. See the Notes section for more details. The smallest eigenvalue is -7.102771409929464e-06 and the largest is 23952231086.187664.\n",
      "  warn(\n"
     ]
    },
    {
     "name": "stderr",
     "output_type": "stream",
     "text": [
      "/home/lauro/anaconda3/envs/qiime2-2023.5/lib/python3.8/site-packages/skbio/stats/ordination/_principal_coordinate_analysis.py:143: RuntimeWarning: The result contains negative eigenvalues. Please compare their magnitude with the magnitude of some of the largest positive eigenvalues. If the negative ones are smaller, it's probably safe to ignore them, but if they are large in magnitude, the results won't be useful. See the Notes section for more details. The smallest eigenvalue is -3.237135136401511e-07 and the largest is 4994730724.869204.\n",
      "  warn(\n"
     ]
    },
    {
     "name": "stderr",
     "output_type": "stream",
     "text": [
      "/home/lauro/anaconda3/envs/qiime2-2023.5/lib/python3.8/site-packages/skbio/stats/ordination/_principal_coordinate_analysis.py:143: RuntimeWarning: The result contains negative eigenvalues. Please compare their magnitude with the magnitude of some of the largest positive eigenvalues. If the negative ones are smaller, it's probably safe to ignore them, but if they are large in magnitude, the results won't be useful. See the Notes section for more details. The smallest eigenvalue is -5.432939780832705e-07 and the largest is 4173370532.3060417.\n",
      "  warn(\n"
     ]
    },
    {
     "name": "stderr",
     "output_type": "stream",
     "text": [
      "/home/lauro/anaconda3/envs/qiime2-2023.5/lib/python3.8/site-packages/skbio/stats/ordination/_principal_coordinate_analysis.py:143: RuntimeWarning: The result contains negative eigenvalues. Please compare their magnitude with the magnitude of some of the largest positive eigenvalues. If the negative ones are smaller, it's probably safe to ignore them, but if they are large in magnitude, the results won't be useful. See the Notes section for more details. The smallest eigenvalue is -2.8178774202025954e-07 and the largest is 3985980129.8841343.\n",
      "  warn(\n"
     ]
    },
    {
     "name": "stderr",
     "output_type": "stream",
     "text": [
      "/home/lauro/anaconda3/envs/qiime2-2023.5/lib/python3.8/site-packages/skbio/stats/ordination/_principal_coordinate_analysis.py:143: RuntimeWarning: The result contains negative eigenvalues. Please compare their magnitude with the magnitude of some of the largest positive eigenvalues. If the negative ones are smaller, it's probably safe to ignore them, but if they are large in magnitude, the results won't be useful. See the Notes section for more details. The smallest eigenvalue is -4.79555750707803e-06 and the largest is 16285235890.84718.\n",
      "  warn(\n"
     ]
    },
    {
     "name": "stderr",
     "output_type": "stream",
     "text": [
      "/home/lauro/anaconda3/envs/qiime2-2023.5/lib/python3.8/site-packages/skbio/stats/ordination/_principal_coordinate_analysis.py:143: RuntimeWarning: The result contains negative eigenvalues. Please compare their magnitude with the magnitude of some of the largest positive eigenvalues. If the negative ones are smaller, it's probably safe to ignore them, but if they are large in magnitude, the results won't be useful. See the Notes section for more details. The smallest eigenvalue is -1.570682266420671e-06 and the largest is 4929502081.570566.\n",
      "  warn(\n"
     ]
    },
    {
     "name": "stderr",
     "output_type": "stream",
     "text": [
      "/home/lauro/anaconda3/envs/qiime2-2023.5/lib/python3.8/site-packages/skbio/stats/ordination/_principal_coordinate_analysis.py:143: RuntimeWarning: The result contains negative eigenvalues. Please compare their magnitude with the magnitude of some of the largest positive eigenvalues. If the negative ones are smaller, it's probably safe to ignore them, but if they are large in magnitude, the results won't be useful. See the Notes section for more details. The smallest eigenvalue is -2.580633633812184e-07 and the largest is 3980223459.110548.\n",
      "  warn(\n"
     ]
    },
    {
     "name": "stdout",
     "output_type": "stream",
     "text": [
      "DONE: Calculating beta group significance: permdisp euclidean\n",
      "Calculating beta group significance with method permdisp and metric dice\n"
     ]
    },
    {
     "name": "stdout",
     "output_type": "stream",
     "text": [
      "DONE: Calculating beta group significance: permdisp dice\n",
      "Calculating beta group significance with method permdisp and metric braycurtis\n"
     ]
    },
    {
     "name": "stdout",
     "output_type": "stream",
     "text": [
      "DONE: Calculating beta group significance: permdisp braycurtis\n",
      "Calculating beta group significance with method permdisp and metric matching\n"
     ]
    },
    {
     "name": "stderr",
     "output_type": "stream",
     "text": [
      "/home/lauro/anaconda3/envs/qiime2-2023.5/lib/python3.8/site-packages/skbio/stats/ordination/_principal_coordinate_analysis.py:143: RuntimeWarning: The result contains negative eigenvalues. Please compare their magnitude with the magnitude of some of the largest positive eigenvalues. If the negative ones are smaller, it's probably safe to ignore them, but if they are large in magnitude, the results won't be useful. See the Notes section for more details. The smallest eigenvalue is -0.004193408959440382 and the largest is 0.072363726644921.\n",
      "  warn(\n"
     ]
    },
    {
     "name": "stderr",
     "output_type": "stream",
     "text": [
      "/home/lauro/anaconda3/envs/qiime2-2023.5/lib/python3.8/site-packages/skbio/stats/ordination/_principal_coordinate_analysis.py:143: RuntimeWarning: The result contains negative eigenvalues. Please compare their magnitude with the magnitude of some of the largest positive eigenvalues. If the negative ones are smaller, it's probably safe to ignore them, but if they are large in magnitude, the results won't be useful. See the Notes section for more details. The smallest eigenvalue is -0.00048304562083963934 and the largest is 0.04799493430649696.\n",
      "  warn(\n"
     ]
    },
    {
     "name": "stderr",
     "output_type": "stream",
     "text": [
      "/home/lauro/anaconda3/envs/qiime2-2023.5/lib/python3.8/site-packages/skbio/stats/ordination/_principal_coordinate_analysis.py:143: RuntimeWarning: The result contains negative eigenvalues. Please compare their magnitude with the magnitude of some of the largest positive eigenvalues. If the negative ones are smaller, it's probably safe to ignore them, but if they are large in magnitude, the results won't be useful. See the Notes section for more details. The smallest eigenvalue is -0.000868243685073863 and the largest is 0.05272482067263532.\n",
      "  warn(\n"
     ]
    },
    {
     "name": "stderr",
     "output_type": "stream",
     "text": [
      "/home/lauro/anaconda3/envs/qiime2-2023.5/lib/python3.8/site-packages/skbio/stats/ordination/_principal_coordinate_analysis.py:143: RuntimeWarning: The result contains negative eigenvalues. Please compare their magnitude with the magnitude of some of the largest positive eigenvalues. If the negative ones are smaller, it's probably safe to ignore them, but if they are large in magnitude, the results won't be useful. See the Notes section for more details. The smallest eigenvalue is -0.0004362496359606208 and the largest is 0.05604757310760887.\n",
      "  warn(\n"
     ]
    },
    {
     "name": "stderr",
     "output_type": "stream",
     "text": [
      "/home/lauro/anaconda3/envs/qiime2-2023.5/lib/python3.8/site-packages/skbio/stats/ordination/_principal_coordinate_analysis.py:143: RuntimeWarning: The result contains negative eigenvalues. Please compare their magnitude with the magnitude of some of the largest positive eigenvalues. If the negative ones are smaller, it's probably safe to ignore them, but if they are large in magnitude, the results won't be useful. See the Notes section for more details. The smallest eigenvalue is -0.00023349125759555917 and the largest is 0.0515805407413021.\n",
      "  warn(\n"
     ]
    },
    {
     "name": "stderr",
     "output_type": "stream",
     "text": [
      "/home/lauro/anaconda3/envs/qiime2-2023.5/lib/python3.8/site-packages/skbio/stats/ordination/_principal_coordinate_analysis.py:143: RuntimeWarning: The result contains negative eigenvalues. Please compare their magnitude with the magnitude of some of the largest positive eigenvalues. If the negative ones are smaller, it's probably safe to ignore them, but if they are large in magnitude, the results won't be useful. See the Notes section for more details. The smallest eigenvalue is -0.00055607419128069 and the largest is 0.05728829674929205.\n",
      "  warn(\n"
     ]
    },
    {
     "name": "stdout",
     "output_type": "stream",
     "text": [
      "DONE: Calculating beta group significance: permdisp matching\n",
      "Calculating beta group significance with method permdisp and metric jaccard\n"
     ]
    },
    {
     "name": "stdout",
     "output_type": "stream",
     "text": [
      "DONE: Calculating beta group significance: permdisp jaccard\n"
     ]
    },
    {
     "data": {
      "text/plain": [
       "<Figure size 640x480 with 0 Axes>"
      ]
     },
     "metadata": {},
     "output_type": "display_data"
    }
   ],
   "source": [
    "methods = ('permanova', 'anosim', 'permdisp')\n",
    "for method in methods:\n",
    "    for metric, beta_diversity in beta_diversities.items():\n",
    "        print(f'Calculating beta group significance with method {method} and metric {metric}')\n",
    "        try:\n",
    "            beta_view = beta_group_significance(distance_matrix=beta_diversity, \n",
    "                                                metadata=metadata_qa.get_column(class_col), \n",
    "                                                pairwise=True, method=method).visualization\n",
    "            view_name = os.path.join(beta_path, f'beta-group-significance-{metric}-{method}.qzv')\n",
    "            beta_view.save(view_name)\n",
    "            print(f\"DONE: Calculating beta group significance: {method} {metric}\")\n",
    "        except Exception as e:\n",
    "            print(f\"ERROR: Calculating beta group significance: {method} {metric}\")"
   ]
  },
  {
   "cell_type": "code",
   "execution_count": 19,
   "id": "6366725e",
   "metadata": {
    "execution": {
     "iopub.execute_input": "2024-03-06T13:22:20.098776Z",
     "iopub.status.busy": "2024-03-06T13:22:20.098637Z",
     "iopub.status.idle": "2024-03-06T13:24:04.698152Z",
     "shell.execute_reply": "2024-03-06T13:24:04.697799Z"
    },
    "papermill": {
     "duration": 104.607293,
     "end_time": "2024-03-06T13:24:04.699073",
     "exception": false,
     "start_time": "2024-03-06T13:22:20.091780",
     "status": "completed"
    },
    "tags": []
   },
   "outputs": [
    {
     "name": "stdout",
     "output_type": "stream",
     "text": [
      "Calculating beta group significance with method permanova and metric unweighted_unifrac_distance_matrix\n"
     ]
    },
    {
     "name": "stdout",
     "output_type": "stream",
     "text": [
      "DONE: Calculating beta group significance: permanova unweighted_unifrac_distance_matrix\n",
      "Calculating beta group significance with method permanova and metric weighted_unifrac_distance_matrix\n"
     ]
    },
    {
     "name": "stdout",
     "output_type": "stream",
     "text": [
      "DONE: Calculating beta group significance: permanova weighted_unifrac_distance_matrix\n",
      "Calculating beta group significance with method permanova and metric jaccard_distance_matrix\n"
     ]
    },
    {
     "name": "stdout",
     "output_type": "stream",
     "text": [
      "DONE: Calculating beta group significance: permanova jaccard_distance_matrix\n",
      "Calculating beta group significance with method permanova and metric bray_curtis_distance_matrix\n"
     ]
    },
    {
     "name": "stdout",
     "output_type": "stream",
     "text": [
      "DONE: Calculating beta group significance: permanova bray_curtis_distance_matrix\n",
      "Calculating beta group significance with method anosim and metric unweighted_unifrac_distance_matrix\n"
     ]
    },
    {
     "name": "stdout",
     "output_type": "stream",
     "text": [
      "DONE: Calculating beta group significance: anosim unweighted_unifrac_distance_matrix\n",
      "Calculating beta group significance with method anosim and metric weighted_unifrac_distance_matrix\n"
     ]
    },
    {
     "name": "stdout",
     "output_type": "stream",
     "text": [
      "DONE: Calculating beta group significance: anosim weighted_unifrac_distance_matrix\n",
      "Calculating beta group significance with method anosim and metric jaccard_distance_matrix\n"
     ]
    },
    {
     "name": "stdout",
     "output_type": "stream",
     "text": [
      "DONE: Calculating beta group significance: anosim jaccard_distance_matrix\n",
      "Calculating beta group significance with method anosim and metric bray_curtis_distance_matrix\n"
     ]
    },
    {
     "name": "stdout",
     "output_type": "stream",
     "text": [
      "DONE: Calculating beta group significance: anosim bray_curtis_distance_matrix\n",
      "Calculating beta group significance with method permdisp and metric unweighted_unifrac_distance_matrix\n"
     ]
    },
    {
     "name": "stderr",
     "output_type": "stream",
     "text": [
      "/home/lauro/anaconda3/envs/qiime2-2023.5/lib/python3.8/site-packages/skbio/stats/ordination/_principal_coordinate_analysis.py:143: RuntimeWarning: The result contains negative eigenvalues. Please compare their magnitude with the magnitude of some of the largest positive eigenvalues. If the negative ones are smaller, it's probably safe to ignore them, but if they are large in magnitude, the results won't be useful. See the Notes section for more details. The smallest eigenvalue is -0.0026987566208391462 and the largest is 1.007032592868233.\n",
      "  warn(\n"
     ]
    },
    {
     "name": "stdout",
     "output_type": "stream",
     "text": [
      "DONE: Calculating beta group significance: permdisp unweighted_unifrac_distance_matrix\n",
      "Calculating beta group significance with method permdisp and metric weighted_unifrac_distance_matrix\n"
     ]
    },
    {
     "name": "stderr",
     "output_type": "stream",
     "text": [
      "/home/lauro/anaconda3/envs/qiime2-2023.5/lib/python3.8/site-packages/skbio/stats/ordination/_principal_coordinate_analysis.py:143: RuntimeWarning: The result contains negative eigenvalues. Please compare their magnitude with the magnitude of some of the largest positive eigenvalues. If the negative ones are smaller, it's probably safe to ignore them, but if they are large in magnitude, the results won't be useful. See the Notes section for more details. The smallest eigenvalue is -0.05235096303058128 and the largest is 2.878711805237623.\n",
      "  warn(\n"
     ]
    },
    {
     "name": "stderr",
     "output_type": "stream",
     "text": [
      "/home/lauro/anaconda3/envs/qiime2-2023.5/lib/python3.8/site-packages/skbio/stats/ordination/_principal_coordinate_analysis.py:143: RuntimeWarning: The result contains negative eigenvalues. Please compare their magnitude with the magnitude of some of the largest positive eigenvalues. If the negative ones are smaller, it's probably safe to ignore them, but if they are large in magnitude, the results won't be useful. See the Notes section for more details. The smallest eigenvalue is -0.004872205681923302 and the largest is 0.5532697420437561.\n",
      "  warn(\n"
     ]
    },
    {
     "name": "stderr",
     "output_type": "stream",
     "text": [
      "/home/lauro/anaconda3/envs/qiime2-2023.5/lib/python3.8/site-packages/skbio/stats/ordination/_principal_coordinate_analysis.py:143: RuntimeWarning: The result contains negative eigenvalues. Please compare their magnitude with the magnitude of some of the largest positive eigenvalues. If the negative ones are smaller, it's probably safe to ignore them, but if they are large in magnitude, the results won't be useful. See the Notes section for more details. The smallest eigenvalue is -0.002820377215525707 and the largest is 1.0424458928987335.\n",
      "  warn(\n"
     ]
    },
    {
     "name": "stderr",
     "output_type": "stream",
     "text": [
      "/home/lauro/anaconda3/envs/qiime2-2023.5/lib/python3.8/site-packages/skbio/stats/ordination/_principal_coordinate_analysis.py:143: RuntimeWarning: The result contains negative eigenvalues. Please compare their magnitude with the magnitude of some of the largest positive eigenvalues. If the negative ones are smaller, it's probably safe to ignore them, but if they are large in magnitude, the results won't be useful. See the Notes section for more details. The smallest eigenvalue is -0.00502133284855123 and the largest is 1.2459498844774168.\n",
      "  warn(\n"
     ]
    },
    {
     "name": "stderr",
     "output_type": "stream",
     "text": [
      "/home/lauro/anaconda3/envs/qiime2-2023.5/lib/python3.8/site-packages/skbio/stats/ordination/_principal_coordinate_analysis.py:143: RuntimeWarning: The result contains negative eigenvalues. Please compare their magnitude with the magnitude of some of the largest positive eigenvalues. If the negative ones are smaller, it's probably safe to ignore them, but if they are large in magnitude, the results won't be useful. See the Notes section for more details. The smallest eigenvalue is -0.0062538088664544555 and the largest is 0.8897475625379496.\n",
      "  warn(\n"
     ]
    },
    {
     "name": "stderr",
     "output_type": "stream",
     "text": [
      "/home/lauro/anaconda3/envs/qiime2-2023.5/lib/python3.8/site-packages/skbio/stats/ordination/_principal_coordinate_analysis.py:143: RuntimeWarning: The result contains negative eigenvalues. Please compare their magnitude with the magnitude of some of the largest positive eigenvalues. If the negative ones are smaller, it's probably safe to ignore them, but if they are large in magnitude, the results won't be useful. See the Notes section for more details. The smallest eigenvalue is -0.008047667651979139 and the largest is 0.9289150966794892.\n",
      "  warn(\n"
     ]
    },
    {
     "name": "stderr",
     "output_type": "stream",
     "text": [
      "/home/lauro/anaconda3/envs/qiime2-2023.5/lib/python3.8/site-packages/skbio/stats/ordination/_principal_coordinate_analysis.py:143: RuntimeWarning: The result contains negative eigenvalues. Please compare their magnitude with the magnitude of some of the largest positive eigenvalues. If the negative ones are smaller, it's probably safe to ignore them, but if they are large in magnitude, the results won't be useful. See the Notes section for more details. The smallest eigenvalue is -0.020478014412128116 and the largest is 0.9640042689309862.\n",
      "  warn(\n"
     ]
    },
    {
     "name": "stderr",
     "output_type": "stream",
     "text": [
      "/home/lauro/anaconda3/envs/qiime2-2023.5/lib/python3.8/site-packages/skbio/stats/ordination/_principal_coordinate_analysis.py:143: RuntimeWarning: The result contains negative eigenvalues. Please compare their magnitude with the magnitude of some of the largest positive eigenvalues. If the negative ones are smaller, it's probably safe to ignore them, but if they are large in magnitude, the results won't be useful. See the Notes section for more details. The smallest eigenvalue is -0.020090484356967607 and the largest is 1.179938804668477.\n",
      "  warn(\n"
     ]
    },
    {
     "name": "stderr",
     "output_type": "stream",
     "text": [
      "/home/lauro/anaconda3/envs/qiime2-2023.5/lib/python3.8/site-packages/skbio/stats/ordination/_principal_coordinate_analysis.py:143: RuntimeWarning: The result contains negative eigenvalues. Please compare their magnitude with the magnitude of some of the largest positive eigenvalues. If the negative ones are smaller, it's probably safe to ignore them, but if they are large in magnitude, the results won't be useful. See the Notes section for more details. The smallest eigenvalue is -0.011543384417013284 and the largest is 0.7408063711257986.\n",
      "  warn(\n"
     ]
    },
    {
     "name": "stderr",
     "output_type": "stream",
     "text": [
      "/home/lauro/anaconda3/envs/qiime2-2023.5/lib/python3.8/site-packages/skbio/stats/ordination/_principal_coordinate_analysis.py:143: RuntimeWarning: The result contains negative eigenvalues. Please compare their magnitude with the magnitude of some of the largest positive eigenvalues. If the negative ones are smaller, it's probably safe to ignore them, but if they are large in magnitude, the results won't be useful. See the Notes section for more details. The smallest eigenvalue is -0.011602466388875974 and the largest is 0.8010322913135917.\n",
      "  warn(\n"
     ]
    },
    {
     "name": "stderr",
     "output_type": "stream",
     "text": [
      "/home/lauro/anaconda3/envs/qiime2-2023.5/lib/python3.8/site-packages/skbio/stats/ordination/_principal_coordinate_analysis.py:143: RuntimeWarning: The result contains negative eigenvalues. Please compare their magnitude with the magnitude of some of the largest positive eigenvalues. If the negative ones are smaller, it's probably safe to ignore them, but if they are large in magnitude, the results won't be useful. See the Notes section for more details. The smallest eigenvalue is -0.00032407348181055665 and the largest is 0.11003488401060249.\n",
      "  warn(\n"
     ]
    },
    {
     "name": "stderr",
     "output_type": "stream",
     "text": [
      "/home/lauro/anaconda3/envs/qiime2-2023.5/lib/python3.8/site-packages/skbio/stats/ordination/_principal_coordinate_analysis.py:143: RuntimeWarning: The result contains negative eigenvalues. Please compare their magnitude with the magnitude of some of the largest positive eigenvalues. If the negative ones are smaller, it's probably safe to ignore them, but if they are large in magnitude, the results won't be useful. See the Notes section for more details. The smallest eigenvalue is -0.006198135796185426 and the largest is 0.5167141098369769.\n",
      "  warn(\n"
     ]
    },
    {
     "name": "stderr",
     "output_type": "stream",
     "text": [
      "/home/lauro/anaconda3/envs/qiime2-2023.5/lib/python3.8/site-packages/skbio/stats/ordination/_principal_coordinate_analysis.py:143: RuntimeWarning: The result contains negative eigenvalues. Please compare their magnitude with the magnitude of some of the largest positive eigenvalues. If the negative ones are smaller, it's probably safe to ignore them, but if they are large in magnitude, the results won't be useful. See the Notes section for more details. The smallest eigenvalue is -0.004672694311896258 and the largest is 0.7760622169839763.\n",
      "  warn(\n"
     ]
    },
    {
     "name": "stderr",
     "output_type": "stream",
     "text": [
      "/home/lauro/anaconda3/envs/qiime2-2023.5/lib/python3.8/site-packages/skbio/stats/ordination/_principal_coordinate_analysis.py:143: RuntimeWarning: The result contains negative eigenvalues. Please compare their magnitude with the magnitude of some of the largest positive eigenvalues. If the negative ones are smaller, it's probably safe to ignore them, but if they are large in magnitude, the results won't be useful. See the Notes section for more details. The smallest eigenvalue is -0.005202960017756026 and the largest is 0.5690767308182862.\n",
      "  warn(\n"
     ]
    },
    {
     "name": "stderr",
     "output_type": "stream",
     "text": [
      "/home/lauro/anaconda3/envs/qiime2-2023.5/lib/python3.8/site-packages/skbio/stats/ordination/_principal_coordinate_analysis.py:143: RuntimeWarning: The result contains negative eigenvalues. Please compare their magnitude with the magnitude of some of the largest positive eigenvalues. If the negative ones are smaller, it's probably safe to ignore them, but if they are large in magnitude, the results won't be useful. See the Notes section for more details. The smallest eigenvalue is -0.004188035732431485 and the largest is 0.8413373743499895.\n",
      "  warn(\n"
     ]
    },
    {
     "name": "stderr",
     "output_type": "stream",
     "text": [
      "/home/lauro/anaconda3/envs/qiime2-2023.5/lib/python3.8/site-packages/skbio/stats/ordination/_principal_coordinate_analysis.py:143: RuntimeWarning: The result contains negative eigenvalues. Please compare their magnitude with the magnitude of some of the largest positive eigenvalues. If the negative ones are smaller, it's probably safe to ignore them, but if they are large in magnitude, the results won't be useful. See the Notes section for more details. The smallest eigenvalue is -0.004936316077021913 and the largest is 0.7500690646682979.\n",
      "  warn(\n"
     ]
    },
    {
     "name": "stdout",
     "output_type": "stream",
     "text": [
      "DONE: Calculating beta group significance: permdisp weighted_unifrac_distance_matrix\n",
      "Calculating beta group significance with method permdisp and metric jaccard_distance_matrix\n"
     ]
    },
    {
     "name": "stdout",
     "output_type": "stream",
     "text": [
      "DONE: Calculating beta group significance: permdisp jaccard_distance_matrix\n",
      "Calculating beta group significance with method permdisp and metric bray_curtis_distance_matrix\n"
     ]
    },
    {
     "name": "stderr",
     "output_type": "stream",
     "text": [
      "/home/lauro/anaconda3/envs/qiime2-2023.5/lib/python3.8/site-packages/skbio/stats/ordination/_principal_coordinate_analysis.py:143: RuntimeWarning: The result contains negative eigenvalues. Please compare their magnitude with the magnitude of some of the largest positive eigenvalues. If the negative ones are smaller, it's probably safe to ignore them, but if they are large in magnitude, the results won't be useful. See the Notes section for more details. The smallest eigenvalue is -0.006820929442559131 and the largest is 2.78967879790114.\n",
      "  warn(\n"
     ]
    },
    {
     "name": "stdout",
     "output_type": "stream",
     "text": [
      "DONE: Calculating beta group significance: permdisp bray_curtis_distance_matrix\n"
     ]
    },
    {
     "data": {
      "text/plain": [
       "<Figure size 640x480 with 0 Axes>"
      ]
     },
     "metadata": {},
     "output_type": "display_data"
    }
   ],
   "source": [
    "# Expand tests using UNIFRAC metrics\n",
    "methods = ('permanova', 'anosim', 'permdisp')\n",
    "for method in methods:\n",
    "    for metric, beta_diversity in distance_matrix.items():\n",
    "        print(f'Calculating beta group significance with method {method} and metric {metric}')\n",
    "        try:\n",
    "            beta_view = beta_group_significance(distance_matrix=beta_diversity, \n",
    "                                                metadata=metadata_qa.get_column(class_col), \n",
    "                                                pairwise=True, method=method).visualization\n",
    "            view_name = os.path.join(beta_path, f'beta-group-significance-{metric}-{method}.qzv')\n",
    "            beta_view.save(view_name)\n",
    "            print(f\"DONE: Calculating beta group significance: {method} {metric}\")\n",
    "        except Exception as e:\n",
    "            print(f\"ERROR: Calculating beta group significance: {method} {metric}\")"
   ]
  },
  {
   "cell_type": "markdown",
   "id": "c0de85cf",
   "metadata": {
    "papermill": {
     "duration": 0.007373,
     "end_time": "2024-03-06T13:24:04.714017",
     "exception": false,
     "start_time": "2024-03-06T13:24:04.706644",
     "status": "completed"
    },
    "tags": []
   },
   "source": [
    "### Beta group Rarefaction\n",
    "\n",
    "- [diversity beta_rarefaction](https://docs.qiime2.org/2022.8/plugins/available/diversity/beta-rarefaction/): Repeatedly rarefy a feature table to compare beta diversity results within a given rarefaction depth.  For a given beta diversity metric, this visualizer will provide: an Emperor jackknifed PCoA plot, samples clustered by UPGMA or neighbor joining with support calculation, and a heatmap showing the correlation between rarefaction trials of that beta diversity metric."
   ]
  }
 ],
 "metadata": {
  "celltoolbar": "Edit Metadata",
  "kernelspec": {
   "display_name": "Python 3 (ipykernel)",
   "language": "python",
   "name": "python3"
  },
  "language_info": {
   "codemirror_mode": {
    "name": "ipython",
    "version": 3
   },
   "file_extension": ".py",
   "mimetype": "text/x-python",
   "name": "python",
   "nbconvert_exporter": "python",
   "pygments_lexer": "ipython3",
   "version": "3.8.16"
  },
  "papermill": {
   "default_parameters": {},
   "duration": 262.861816,
   "end_time": "2024-03-06T13:24:05.641753",
   "environment_variables": {},
   "exception": null,
   "input_path": "nb-templates/step-diversity-analysis.ipynb",
   "output_path": "/mnt/nupeb/rede-micro/redemicro-ana-flavia-nutri/experiments/ana-flavia-all/nb-executed-steps/step-diversity-analysis-ana-flavia-all.ipynb",
   "parameters": {
    "base_dir": "/mnt/nupeb/rede-micro/redemicro-ana-flavia-nutri",
    "class_col": "group-id",
    "classifier_file": "/mnt/nupeb/rede-micro/datasets/16S_classifiers_qiime2/silva-138-99-nb-classifier.qza",
    "experiment_name": "ana-flavia-all",
    "manifest_file": "/mnt/nupeb/rede-micro/redemicro-ana-flavia-nutri/data/raw/manifest-all-ana.csv",
    "metadata_file": "/mnt/nupeb/rede-micro/redemicro-ana-flavia-nutri/data/raw/metadata-all-ana.tsv",
    "overlap": 12,
    "phred": 20,
    "replace_files": false,
    "threads": 6,
    "top_n": 20,
    "trim": {
     "forward_primer": "CCTACGGGRSGCAGCAG",
     "overlap": 8,
     "reverse_primer": "GGACTACHVGGGTWTCTAAT"
    },
    "trunc_f": 0,
    "trunc_r": 0
   },
   "start_time": "2024-03-06T13:19:42.779937",
   "version": "2.4.0"
  }
 },
 "nbformat": 4,
 "nbformat_minor": 5
}