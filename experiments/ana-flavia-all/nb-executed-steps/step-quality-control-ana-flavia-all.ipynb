{
 "cells": [
  {
   "cell_type": "markdown",
   "id": "5927e1aa",
   "metadata": {
    "tags": [
     "papermill-error-cell-tag"
    ]
   },
   "source": [
    "<span style=\"color:red; font-family:Helvetica Neue, Helvetica, Arial, sans-serif; font-size:2em;\">An Exception was encountered at '<a href=\"#papermill-error-cell\">In [13]</a>'.</span>"
   ]
  },
  {
   "cell_type": "markdown",
   "id": "bce0f9bb",
   "metadata": {
    "papermill": {
     "duration": 0.023661,
     "end_time": "2023-08-23T15:46:11.993855",
     "exception": false,
     "start_time": "2023-08-23T15:46:11.970194",
     "status": "completed"
    },
    "tags": []
   },
   "source": [
    "# Quality Control and ASV table construction with DADA2"
   ]
  },
  {
   "cell_type": "markdown",
   "id": "ac4a9a97",
   "metadata": {
    "papermill": {
     "duration": 0.070863,
     "end_time": "2023-08-23T15:46:12.081384",
     "exception": false,
     "start_time": "2023-08-23T15:46:12.010521",
     "status": "completed"
    },
    "tags": []
   },
   "source": [
    "## Setup and settings"
   ]
  },
  {
   "cell_type": "code",
   "execution_count": 1,
   "id": "8b9fbc43",
   "metadata": {
    "ExecuteTime": {
     "end_time": "2023-08-23T15:52:13.030054Z",
     "start_time": "2023-08-23T15:52:06.508730Z"
    },
    "execution": {
     "iopub.execute_input": "2023-08-23T15:46:12.116280Z",
     "iopub.status.busy": "2023-08-23T15:46:12.115805Z",
     "iopub.status.idle": "2023-08-23T15:46:19.316752Z",
     "shell.execute_reply": "2023-08-23T15:46:19.315663Z"
    },
    "papermill": {
     "duration": 7.221882,
     "end_time": "2023-08-23T15:46:19.319876",
     "exception": false,
     "start_time": "2023-08-23T15:46:12.097994",
     "status": "completed"
    },
    "tags": []
   },
   "outputs": [],
   "source": [
    "# Importing packages\n",
    "import os\n",
    "import yaml\n",
    "import logging\n",
    "import pandas as pd\n",
    "from qiime2 import Artifact\n",
    "from qiime2 import Visualization\n",
    "from qiime2 import Metadata\n",
    "import qiime2.plugins.dada2.actions as dada2_actions\n",
    "import qiime2.plugins.metadata.actions as metadata_actions\n",
    "from qiime2.plugins.feature_table.visualizers import tabulate_seqs\n",
    "from qiime2.plugins.feature_table.visualizers import summarize\n",
    "from qiime2.plugins.feature_table.visualizers import core_features\n",
    "from qiime2.plugins.feature_table.methods import filter_samples\n",
    "from qiime2.plugins.feature_table.methods import filter_seqs\n",
    "\n",
    "import matplotlib.pyplot as plt\n",
    "\n",
    "%matplotlib inline"
   ]
  },
  {
   "cell_type": "markdown",
   "id": "8a573b8a",
   "metadata": {
    "papermill": {
     "duration": 0.016575,
     "end_time": "2023-08-23T15:46:19.360891",
     "exception": false,
     "start_time": "2023-08-23T15:46:19.344316",
     "status": "completed"
    },
    "tags": []
   },
   "source": [
    "### Receiving the parameters\n",
    "\n",
    "The following cell can receive parameters using the [papermill](https://papermill.readthedocs.io/en/latest/) tool."
   ]
  },
  {
   "cell_type": "code",
   "execution_count": 2,
   "id": "2650c34d",
   "metadata": {
    "ExecuteTime": {
     "end_time": "2023-08-23T15:52:13.036373Z",
     "start_time": "2023-08-23T15:52:13.032471Z"
    },
    "execution": {
     "iopub.execute_input": "2023-08-23T15:46:19.394711Z",
     "iopub.status.busy": "2023-08-23T15:46:19.394251Z",
     "iopub.status.idle": "2023-08-23T15:46:19.401889Z",
     "shell.execute_reply": "2023-08-23T15:46:19.400993Z"
    },
    "papermill": {
     "duration": 0.027623,
     "end_time": "2023-08-23T15:46:19.404849",
     "exception": false,
     "start_time": "2023-08-23T15:46:19.377226",
     "status": "completed"
    },
    "tags": [
     "parameters"
    ]
   },
   "outputs": [],
   "source": [
    "experiment_name = 'ana-flavia-superlactacao'\n",
    "base_dir = os.path.join('/', 'home', 'lauro', 'nupeb', 'redemicro')\n",
    "metadata_file = os.path.join(base_dir, 'data', 'raw', 'metadata', 'sample-metadata.tsv')\n",
    "manifest_file = os.path.join(base_dir, 'data', 'raw', 'manifest', 'sample-manifest.csv')\n",
    "replace_files = False\n",
    "phred = 20\n",
    "trunc_f = 0\n",
    "trunc_r = 0\n",
    "overlap = 12\n",
    "threads = 6\n",
    "trim = None"
   ]
  },
  {
   "cell_type": "code",
   "execution_count": 3,
   "id": "de1a9567",
   "metadata": {
    "ExecuteTime": {
     "end_time": "2023-08-23T15:52:13.090248Z",
     "start_time": "2023-08-23T15:52:13.037870Z"
    },
    "execution": {
     "iopub.execute_input": "2023-08-23T15:46:19.440979Z",
     "iopub.status.busy": "2023-08-23T15:46:19.440399Z",
     "iopub.status.idle": "2023-08-23T15:46:19.447917Z",
     "shell.execute_reply": "2023-08-23T15:46:19.446813Z"
    },
    "papermill": {
     "duration": 0.026232,
     "end_time": "2023-08-23T15:46:19.449898",
     "exception": false,
     "start_time": "2023-08-23T15:46:19.423666",
     "status": "completed"
    },
    "tags": [
     "injected-parameters"
    ]
   },
   "outputs": [],
   "source": [
    "# Parameters\n",
    "experiment_name = \"ana-flavia-all\"\n",
    "base_dir = \"/home/lauro/nupeb/rede-micro/redemicro-ana-flavia-nutri\"\n",
    "manifest_file = \"/home/lauro/nupeb/rede-micro/redemicro-ana-flavia-nutri/data/raw/manifest-all-ana.csv\"\n",
    "metadata_file = \"/home/lauro/nupeb/rede-micro/redemicro-ana-flavia-nutri/data/raw/metadata-all-ana.tsv\"\n",
    "class_col = \"group-id\"\n",
    "classifier_file = \"/home/lauro/nupeb/rede-micro/models/silva-138-99-nb-classifier.qza\"\n",
    "top_n = 20\n",
    "replace_files = False\n",
    "phred = 20\n",
    "trunc_f = 0\n",
    "trunc_r = 0\n",
    "overlap = 12\n",
    "threads = 6\n",
    "trim = {\n",
    "    \"overlap\": 8,\n",
    "    \"forward_primer\": \"CCTACGGGRSGCAGCAG\",\n",
    "    \"reverse_primer\": \"GGACTACHVGGGTWTCTAAT\",\n",
    "}\n"
   ]
  },
  {
   "cell_type": "code",
   "execution_count": 4,
   "id": "024bb6dc",
   "metadata": {
    "ExecuteTime": {
     "end_time": "2023-08-23T15:52:13.156405Z",
     "start_time": "2023-08-23T15:52:13.093348Z"
    },
    "execution": {
     "iopub.execute_input": "2023-08-23T15:46:19.485741Z",
     "iopub.status.busy": "2023-08-23T15:46:19.485292Z",
     "iopub.status.idle": "2023-08-23T15:46:19.494576Z",
     "shell.execute_reply": "2023-08-23T15:46:19.493567Z"
    },
    "papermill": {
     "duration": 0.027933,
     "end_time": "2023-08-23T15:46:19.496353",
     "exception": false,
     "start_time": "2023-08-23T15:46:19.468420",
     "status": "completed"
    },
    "tags": []
   },
   "outputs": [],
   "source": [
    "# Setting hardcoded parameters for development and debbuging\n",
    "production = True\n",
    "if not production:\n",
    "    params_path = os.path.join('..', 'params', 'ana-flavia-superlactacao.yaml')\n",
    "    with open(params_path, 'r') as stream:\n",
    "        params = yaml.safe_load(stream)\n",
    "        experiment_name = params['experiment_name']\n",
    "        base_dir = params['base_dir']\n",
    "        replace_files = params['replace_files']\n",
    "        experiment_folder = os.path.abspath(os.path.join(os.getcwd(), '..', 'experiments', 'thayane-feces-01'))\n",
    "        img_folder = os.path.abspath(os.path.join(experiment_folder, 'imgs'))\n",
    "        replace_files = False\n",
    "        phred = 20\n",
    "        trunc_f = 0\n",
    "        trunc_r = 0\n",
    "        overlap = 12\n",
    "        threads = 6"
   ]
  },
  {
   "cell_type": "code",
   "execution_count": 5,
   "id": "dd949dbc",
   "metadata": {
    "ExecuteTime": {
     "end_time": "2023-08-23T15:52:13.224061Z",
     "start_time": "2023-08-23T15:52:13.159401Z"
    },
    "execution": {
     "iopub.execute_input": "2023-08-23T15:46:19.531008Z",
     "iopub.status.busy": "2023-08-23T15:46:19.530523Z",
     "iopub.status.idle": "2023-08-23T15:46:19.539128Z",
     "shell.execute_reply": "2023-08-23T15:46:19.538106Z"
    },
    "papermill": {
     "duration": 0.027135,
     "end_time": "2023-08-23T15:46:19.541113",
     "exception": false,
     "start_time": "2023-08-23T15:46:19.513978",
     "status": "completed"
    },
    "tags": []
   },
   "outputs": [],
   "source": [
    "experiment_folder = os.path.abspath(os.path.join(base_dir, 'experiments', experiment_name))\n",
    "img_folder = os.path.abspath(os.path.join(experiment_folder, 'imgs'))\n",
    "qiime_folder = os.path.join(experiment_folder, 'qiime-artifacts')\n",
    "data_dir =  os.path.abspath(os.path.join(base_dir, 'data'))\n",
    "raw_data_dir =  os.path.abspath(os.path.join(data_dir, 'raw'))\n",
    "interim_data_dir =  os.path.abspath(os.path.join(data_dir, 'interim'))"
   ]
  },
  {
   "cell_type": "markdown",
   "id": "9a14f16b",
   "metadata": {
    "papermill": {
     "duration": 0.015965,
     "end_time": "2023-08-23T15:46:19.574413",
     "exception": false,
     "start_time": "2023-08-23T15:46:19.558448",
     "status": "completed"
    },
    "tags": []
   },
   "source": [
    "### Defining names and paths"
   ]
  },
  {
   "cell_type": "code",
   "execution_count": 6,
   "id": "ca9a3758",
   "metadata": {
    "ExecuteTime": {
     "end_time": "2023-08-23T15:52:13.242841Z",
     "start_time": "2023-08-23T15:52:13.226910Z"
    },
    "execution": {
     "iopub.execute_input": "2023-08-23T15:46:19.607124Z",
     "iopub.status.busy": "2023-08-23T15:46:19.606747Z",
     "iopub.status.idle": "2023-08-23T15:46:19.614403Z",
     "shell.execute_reply": "2023-08-23T15:46:19.613662Z"
    },
    "papermill": {
     "duration": 0.025713,
     "end_time": "2023-08-23T15:46:19.615923",
     "exception": false,
     "start_time": "2023-08-23T15:46:19.590210",
     "status": "completed"
    },
    "tags": []
   },
   "outputs": [],
   "source": [
    "if trim:\n",
    "    demux_file = os.path.join(qiime_folder, 'demux-paired-trim.qza')\n",
    "else:\n",
    "    demux_file = os.path.join(qiime_folder, 'demux-paired.qza')\n",
    "\n",
    "dada2_tabs = os.path.join(qiime_folder, 'dada2-tabs.qza')\n",
    "dada2_reps = os.path.join(qiime_folder, 'dada2-reps.qza')\n",
    "dada2_stat = os.path.join(qiime_folder, 'dada2-stat.qza')\n",
    "\n",
    "\n",
    "dada2_tabs_view = dada2_tabs[:-1] + 'v'\n",
    "dada2_reps_view = dada2_reps[:-1] + 'v'\n",
    "dada2_stat_view = dada2_stat[:-1] + 'v'\n",
    "dada2_core_view = os.path.join(qiime_folder, 'dada2-core.qzv')"
   ]
  },
  {
   "cell_type": "markdown",
   "id": "bceef4ca",
   "metadata": {
    "papermill": {
     "duration": 0.015731,
     "end_time": "2023-08-23T15:46:19.648715",
     "exception": false,
     "start_time": "2023-08-23T15:46:19.632984",
     "status": "completed"
    },
    "tags": []
   },
   "source": [
    "## Step execution\n",
    "\n",
    "### Load input files\n",
    "\n",
    "This Step import the QIIME2 `SampleData[PairedEndSequencesWithQuality]` Artifact with all demultiplexed sequences and the `Metadata` file."
   ]
  },
  {
   "cell_type": "code",
   "execution_count": 7,
   "id": "ecc6c28a",
   "metadata": {
    "ExecuteTime": {
     "end_time": "2023-08-23T15:52:13.258051Z",
     "start_time": "2023-08-23T15:52:13.245321Z"
    },
    "execution": {
     "iopub.execute_input": "2023-08-23T15:46:19.682038Z",
     "iopub.status.busy": "2023-08-23T15:46:19.681755Z",
     "iopub.status.idle": "2023-08-23T15:46:19.686622Z",
     "shell.execute_reply": "2023-08-23T15:46:19.685785Z"
    },
    "papermill": {
     "duration": 0.022496,
     "end_time": "2023-08-23T15:46:19.688163",
     "exception": false,
     "start_time": "2023-08-23T15:46:19.665667",
     "status": "completed"
    },
    "tags": []
   },
   "outputs": [],
   "source": [
    "need_dada2 = not (os.path.isfile(dada2_tabs) and os.path.isfile(dada2_reps) and os.path.isfile(dada2_stat)) or replace_files\n",
    "need_view = not (os.path.isfile(dada2_tabs_view) and os.path.isfile(dada2_reps_view) and os.path.isfile(dada2_stat_view)) or replace_files"
   ]
  },
  {
   "cell_type": "code",
   "execution_count": 8,
   "id": "44c798cc",
   "metadata": {
    "ExecuteTime": {
     "end_time": "2023-08-23T15:52:18.197360Z",
     "start_time": "2023-08-23T15:52:13.259828Z"
    },
    "execution": {
     "iopub.execute_input": "2023-08-23T15:46:19.722204Z",
     "iopub.status.busy": "2023-08-23T15:46:19.721547Z",
     "iopub.status.idle": "2023-08-23T15:46:25.113405Z",
     "shell.execute_reply": "2023-08-23T15:46:25.112586Z"
    },
    "papermill": {
     "duration": 5.411459,
     "end_time": "2023-08-23T15:46:25.116412",
     "exception": false,
     "start_time": "2023-08-23T15:46:19.704953",
     "status": "completed"
    },
    "tags": []
   },
   "outputs": [],
   "source": [
    "if need_dada2:\n",
    "    demux = Artifact.load(demux_file)"
   ]
  },
  {
   "cell_type": "code",
   "execution_count": 9,
   "id": "7259fa2c",
   "metadata": {
    "ExecuteTime": {
     "end_time": "2023-08-23T15:52:18.213026Z",
     "start_time": "2023-08-23T15:52:18.199031Z"
    },
    "execution": {
     "iopub.execute_input": "2023-08-23T15:46:25.155762Z",
     "iopub.status.busy": "2023-08-23T15:46:25.155548Z",
     "iopub.status.idle": "2023-08-23T15:46:25.239889Z",
     "shell.execute_reply": "2023-08-23T15:46:25.239299Z"
    },
    "papermill": {
     "duration": 0.103425,
     "end_time": "2023-08-23T15:46:25.242742",
     "exception": false,
     "start_time": "2023-08-23T15:46:25.139317",
     "status": "completed"
    },
    "tags": []
   },
   "outputs": [
    {
     "data": {
      "text/plain": [
       "Index(['S210421121673', 'S210421121674', 'S210421121675', 'S210421121676',\n",
       "       'S210421121677', 'S210421121678', 'S210421121679', 'S210421121680',\n",
       "       'S210421121681', 'S210421121682', 'S210421121683', 'S210421121684',\n",
       "       'S210421121685', 'S210421121686', 'S210421121687', 'S210421121688',\n",
       "       'S210421121689', 'S210421121690', 'S210421121691', 'S210421121692',\n",
       "       'S210421121693', 'S210421121694', 'S210421121695', 'S210421121696',\n",
       "       'S210421121697', 'S210421121698', 'S210421121711', 'S210421121699',\n",
       "       'S210421121700', 'S210421121701', 'S210421121702', 'S210421121703',\n",
       "       'S210421121704', 'S210421121713', 'S210421121705', 'S210421121714',\n",
       "       'S210421121706', 'S210421121707', 'S210421121708', 'S210421121709',\n",
       "       'S210421121710'],\n",
       "      dtype='object', name='sample-id')"
      ]
     },
     "execution_count": 9,
     "metadata": {},
     "output_type": "execute_result"
    }
   ],
   "source": [
    "metadata = Metadata.load(metadata_file)\n",
    "metadata.to_dataframe().index"
   ]
  },
  {
   "cell_type": "code",
   "execution_count": 10,
   "id": "a7488228",
   "metadata": {
    "ExecuteTime": {
     "end_time": "2023-08-23T15:52:18.230134Z",
     "start_time": "2023-08-23T15:52:18.215022Z"
    },
    "execution": {
     "iopub.execute_input": "2023-08-23T15:46:25.281750Z",
     "iopub.status.busy": "2023-08-23T15:46:25.281370Z",
     "iopub.status.idle": "2023-08-23T15:46:25.289838Z",
     "shell.execute_reply": "2023-08-23T15:46:25.289047Z"
    },
    "papermill": {
     "duration": 0.027118,
     "end_time": "2023-08-23T15:46:25.291568",
     "exception": false,
     "start_time": "2023-08-23T15:46:25.264450",
     "status": "completed"
    },
    "tags": []
   },
   "outputs": [],
   "source": [
    "# Determine if is SingleEnd or PairedEnd\n",
    "manifest_df = pd.read_csv(manifest_file)\n",
    "n_directions = len(manifest_df['direction'].unique())"
   ]
  },
  {
   "cell_type": "markdown",
   "id": "fcf0e90c",
   "metadata": {
    "papermill": {
     "duration": 0.016074,
     "end_time": "2023-08-23T15:46:25.325318",
     "exception": false,
     "start_time": "2023-08-23T15:46:25.309244",
     "status": "completed"
    },
    "tags": []
   },
   "source": [
    "### Execute DADA2 plugin and create Artifacts\n",
    "\n",
    "The DADA2 plugin perform tha quality control and create the ASV table. It will be produced three Artifacts:\n",
    "\n",
    "- tabs (`FeatureTable[Frequency]`) : \n",
    "    The resulting feature table.\n",
    "- reps (`FeatureData[Sequence]`) :\n",
    "    The resulting feature sequences. Each feature in the feature table will\n",
    "    be represented by exactly one sequence, and these sequences will be the\n",
    "    joined paired-end sequences.\n",
    "- denoising_stats (`SampleData[DADA2Stats]`) : the resulting stats. Shows the number and the proportion of filtered reads in each phase of the plugin execution."
   ]
  },
  {
   "cell_type": "code",
   "execution_count": 11,
   "id": "56189e7a",
   "metadata": {
    "ExecuteTime": {
     "end_time": "2023-08-23T17:07:44.139296Z",
     "start_time": "2023-08-23T15:52:21.362514Z"
    },
    "execution": {
     "iopub.execute_input": "2023-08-23T15:46:25.361882Z",
     "iopub.status.busy": "2023-08-23T15:46:25.361398Z",
     "iopub.status.idle": "2023-08-23T15:46:25.466822Z",
     "shell.execute_reply": "2023-08-23T15:46:25.466200Z"
    },
    "papermill": {
     "duration": 0.12708,
     "end_time": "2023-08-23T15:46:25.469807",
     "exception": false,
     "start_time": "2023-08-23T15:46:25.342727",
     "status": "completed"
    },
    "tags": []
   },
   "outputs": [
    {
     "name": "stdout",
     "output_type": "stream",
     "text": [
      "Create new local data\n",
      "Running external command line application(s). This may print messages to stdout and/or stderr.\n",
      "The command(s) being run are below. These commands cannot be manually re-run as they will depend on temporary files that no longer exist.\n",
      "\n",
      "Command: run_dada_paired.R /tmp/tmpi062y7ru/forward /tmp/tmpi062y7ru/reverse /tmp/tmpi062y7ru/output.tsv.biom /tmp/tmpi062y7ru/track.tsv /tmp/tmpi062y7ru/filt_f /tmp/tmpi062y7ru/filt_r 0 0 0 0 2.0 2.0 20 12 independent consensus 1.0 6 1000000\n",
      "\n",
      "R version 4.1.2 (2021-11-01) \n"
     ]
    },
    {
     "name": "stderr",
     "output_type": "stream",
     "text": [
      "Loading required package: Rcpp\n"
     ]
    },
    {
     "name": "stdout",
     "output_type": "stream",
     "text": [
      "DADA2: 1.22.0 / Rcpp: 1.0.8.2 / RcppParallel: 5.1.5 \n",
      "1) Filtering ..........................................................................\n",
      "2) Learning Error Rates\n",
      "365445471 total bases in 1554035 reads from 4 samples will be used for learning the error rates.\n",
      "239863949 total bases in 1554035 reads from 4 samples will be used for learning the error rates.\n",
      "3) Denoise samples ..........................................................................\n",
      "."
     ]
    },
    {
     "name": "stderr",
     "output_type": "stream",
     "text": [
      "Duplicate sequences in merged output.\n"
     ]
    },
    {
     "name": "stdout",
     "output_type": "stream",
     "text": [
      "."
     ]
    },
    {
     "name": "stderr",
     "output_type": "stream",
     "text": [
      "Duplicate sequences in merged output.\n"
     ]
    },
    {
     "name": "stdout",
     "output_type": "stream",
     "text": [
      "."
     ]
    },
    {
     "name": "stderr",
     "output_type": "stream",
     "text": [
      "Duplicate sequences in merged output.\n"
     ]
    },
    {
     "name": "stdout",
     "output_type": "stream",
     "text": [
      "."
     ]
    },
    {
     "name": "stderr",
     "output_type": "stream",
     "text": [
      "Duplicate sequences in merged output.\n"
     ]
    },
    {
     "name": "stdout",
     "output_type": "stream",
     "text": [
      ".."
     ]
    },
    {
     "name": "stderr",
     "output_type": "stream",
     "text": [
      "Duplicate sequences in merged output.\n"
     ]
    },
    {
     "name": "stdout",
     "output_type": "stream",
     "text": [
      ".."
     ]
    },
    {
     "name": "stderr",
     "output_type": "stream",
     "text": [
      "Duplicate sequences in merged output.\n"
     ]
    },
    {
     "name": "stdout",
     "output_type": "stream",
     "text": [
      "."
     ]
    },
    {
     "name": "stderr",
     "output_type": "stream",
     "text": [
      "Duplicate sequences in merged output.\n"
     ]
    },
    {
     "name": "stdout",
     "output_type": "stream",
     "text": [
      "."
     ]
    },
    {
     "name": "stderr",
     "output_type": "stream",
     "text": [
      "Duplicate sequences in merged output.\n"
     ]
    },
    {
     "name": "stdout",
     "output_type": "stream",
     "text": [
      "."
     ]
    },
    {
     "name": "stderr",
     "output_type": "stream",
     "text": [
      "Duplicate sequences in merged output.\n"
     ]
    },
    {
     "name": "stdout",
     "output_type": "stream",
     "text": [
      "."
     ]
    },
    {
     "name": "stderr",
     "output_type": "stream",
     "text": [
      "Duplicate sequences in merged output.\n"
     ]
    },
    {
     "name": "stdout",
     "output_type": "stream",
     "text": [
      "."
     ]
    },
    {
     "name": "stderr",
     "output_type": "stream",
     "text": [
      "Duplicate sequences in merged output.\n"
     ]
    },
    {
     "name": "stdout",
     "output_type": "stream",
     "text": [
      ".."
     ]
    },
    {
     "name": "stderr",
     "output_type": "stream",
     "text": [
      "Duplicate sequences in merged output.\n"
     ]
    },
    {
     "name": "stdout",
     "output_type": "stream",
     "text": [
      ".."
     ]
    },
    {
     "name": "stderr",
     "output_type": "stream",
     "text": [
      "Duplicate sequences in merged output.\n"
     ]
    },
    {
     "name": "stdout",
     "output_type": "stream",
     "text": [
      "."
     ]
    },
    {
     "name": "stderr",
     "output_type": "stream",
     "text": [
      "Duplicate sequences in merged output.\n"
     ]
    },
    {
     "name": "stdout",
     "output_type": "stream",
     "text": [
      "."
     ]
    },
    {
     "name": "stderr",
     "output_type": "stream",
     "text": [
      "Duplicate sequences in merged output.\n"
     ]
    },
    {
     "name": "stdout",
     "output_type": "stream",
     "text": [
      "."
     ]
    },
    {
     "name": "stderr",
     "output_type": "stream",
     "text": [
      "Duplicate sequences in merged output.\n"
     ]
    },
    {
     "name": "stdout",
     "output_type": "stream",
     "text": [
      "."
     ]
    },
    {
     "name": "stderr",
     "output_type": "stream",
     "text": [
      "Duplicate sequences in merged output.\n"
     ]
    },
    {
     "name": "stdout",
     "output_type": "stream",
     "text": [
      ".."
     ]
    },
    {
     "name": "stderr",
     "output_type": "stream",
     "text": [
      "Duplicate sequences in merged output.\n"
     ]
    },
    {
     "name": "stdout",
     "output_type": "stream",
     "text": [
      "..."
     ]
    },
    {
     "name": "stderr",
     "output_type": "stream",
     "text": [
      "Duplicate sequences in merged output.\n"
     ]
    },
    {
     "name": "stdout",
     "output_type": "stream",
     "text": [
      "......"
     ]
    },
    {
     "name": "stderr",
     "output_type": "stream",
     "text": [
      "Duplicate sequences in merged output.\n"
     ]
    },
    {
     "name": "stdout",
     "output_type": "stream",
     "text": [
      "."
     ]
    },
    {
     "name": "stderr",
     "output_type": "stream",
     "text": [
      "Duplicate sequences in merged output.\n"
     ]
    },
    {
     "name": "stdout",
     "output_type": "stream",
     "text": [
      "."
     ]
    },
    {
     "name": "stderr",
     "output_type": "stream",
     "text": [
      "Duplicate sequences in merged output.\n"
     ]
    },
    {
     "name": "stdout",
     "output_type": "stream",
     "text": [
      "."
     ]
    },
    {
     "name": "stderr",
     "output_type": "stream",
     "text": [
      "Duplicate sequences in merged output.\n"
     ]
    },
    {
     "name": "stdout",
     "output_type": "stream",
     "text": [
      "...."
     ]
    },
    {
     "name": "stderr",
     "output_type": "stream",
     "text": [
      "Duplicate sequences in merged output.\n"
     ]
    },
    {
     "name": "stdout",
     "output_type": "stream",
     "text": [
      "...."
     ]
    },
    {
     "name": "stderr",
     "output_type": "stream",
     "text": [
      "Duplicate sequences in merged output.\n"
     ]
    },
    {
     "name": "stdout",
     "output_type": "stream",
     "text": [
      "."
     ]
    },
    {
     "name": "stderr",
     "output_type": "stream",
     "text": [
      "Duplicate sequences in merged output.\n"
     ]
    },
    {
     "name": "stdout",
     "output_type": "stream",
     "text": [
      "."
     ]
    },
    {
     "name": "stderr",
     "output_type": "stream",
     "text": [
      "Duplicate sequences in merged output.\n"
     ]
    },
    {
     "name": "stdout",
     "output_type": "stream",
     "text": [
      "...."
     ]
    },
    {
     "name": "stderr",
     "output_type": "stream",
     "text": [
      "Duplicate sequences in merged output.\n"
     ]
    },
    {
     "name": "stdout",
     "output_type": "stream",
     "text": [
      "."
     ]
    },
    {
     "name": "stderr",
     "output_type": "stream",
     "text": [
      "Duplicate sequences in merged output.\n"
     ]
    },
    {
     "name": "stdout",
     "output_type": "stream",
     "text": [
      "."
     ]
    },
    {
     "name": "stderr",
     "output_type": "stream",
     "text": [
      "Duplicate sequences in merged output.\n"
     ]
    },
    {
     "name": "stdout",
     "output_type": "stream",
     "text": [
      "."
     ]
    },
    {
     "name": "stderr",
     "output_type": "stream",
     "text": [
      "Duplicate sequences in merged output.\n"
     ]
    },
    {
     "name": "stdout",
     "output_type": "stream",
     "text": [
      "."
     ]
    },
    {
     "name": "stderr",
     "output_type": "stream",
     "text": [
      "Duplicate sequences in merged output.\n"
     ]
    },
    {
     "name": "stdout",
     "output_type": "stream",
     "text": [
      "...."
     ]
    },
    {
     "name": "stderr",
     "output_type": "stream",
     "text": [
      "Duplicate sequences in merged output.\n"
     ]
    },
    {
     "name": "stdout",
     "output_type": "stream",
     "text": [
      "..."
     ]
    },
    {
     "name": "stderr",
     "output_type": "stream",
     "text": [
      "Duplicate sequences in merged output.\n"
     ]
    },
    {
     "name": "stdout",
     "output_type": "stream",
     "text": [
      "..."
     ]
    },
    {
     "name": "stderr",
     "output_type": "stream",
     "text": [
      "Duplicate sequences in merged output.\n"
     ]
    },
    {
     "name": "stdout",
     "output_type": "stream",
     "text": [
      "."
     ]
    },
    {
     "name": "stderr",
     "output_type": "stream",
     "text": [
      "Duplicate sequences in merged output.\n"
     ]
    },
    {
     "name": "stdout",
     "output_type": "stream",
     "text": [
      "."
     ]
    },
    {
     "name": "stderr",
     "output_type": "stream",
     "text": [
      "Duplicate sequences in merged output.\n"
     ]
    },
    {
     "name": "stdout",
     "output_type": "stream",
     "text": [
      "..."
     ]
    },
    {
     "name": "stderr",
     "output_type": "stream",
     "text": [
      "Duplicate sequences in merged output.\n"
     ]
    },
    {
     "name": "stdout",
     "output_type": "stream",
     "text": [
      "..."
     ]
    },
    {
     "name": "stderr",
     "output_type": "stream",
     "text": [
      "Duplicate sequences in merged output.\n"
     ]
    },
    {
     "name": "stdout",
     "output_type": "stream",
     "text": [
      "."
     ]
    },
    {
     "name": "stderr",
     "output_type": "stream",
     "text": [
      "Duplicate sequences in merged output.\n"
     ]
    },
    {
     "name": "stdout",
     "output_type": "stream",
     "text": [
      "..\n",
      "4) Remove chimeras (method = consensus)\n"
     ]
    },
    {
     "name": "stderr",
     "output_type": "stream",
     "text": [
      "Duplicate sequences detected and merged.\n",
      "Duplicate sequences detected and merged.\n",
      "Duplicate sequences detected and merged.\n",
      "Duplicate sequences detected and merged.\n",
      "Duplicate sequences detected and merged.\n",
      "Duplicate sequences detected and merged.\n",
      "Duplicate sequences detected and merged.\n",
      "Duplicate sequences detected and merged.\n",
      "Duplicate sequences detected and merged.\n",
      "Duplicate sequences detected and merged.\n",
      "Duplicate sequences detected and merged.\n",
      "Duplicate sequences detected and merged.\n",
      "Duplicate sequences detected and merged.\n",
      "Duplicate sequences detected and merged.\n",
      "Duplicate sequences detected and merged.\n",
      "Duplicate sequences detected and merged.\n",
      "Duplicate sequences detected and merged.\n",
      "Duplicate sequences detected and merged.\n",
      "Duplicate sequences detected and merged.\n",
      "Duplicate sequences detected and merged.\n",
      "Duplicate sequences detected and merged.\n",
      "Duplicate sequences detected and merged.\n",
      "Duplicate sequences detected and merged.\n",
      "Duplicate sequences detected and merged.\n",
      "Duplicate sequences detected and merged.\n",
      "Duplicate sequences detected and merged.\n",
      "Duplicate sequences detected and merged.\n",
      "Duplicate sequences detected and merged.\n",
      "Duplicate sequences detected and merged.\n",
      "Duplicate sequences detected and merged.\n",
      "Duplicate sequences detected and merged.\n",
      "Duplicate sequences detected and merged.\n",
      "Duplicate sequences detected and merged.\n",
      "Duplicate sequences detected and merged.\n",
      "Duplicate sequences detected and merged.\n",
      "Duplicate sequences detected and merged.\n",
      "Duplicate sequences detected and merged.\n",
      "Duplicate sequences detected and merged.\n",
      "Duplicate sequences detected and merged.\n",
      "Duplicate sequences detected and merged.\n"
     ]
    },
    {
     "name": "stdout",
     "output_type": "stream",
     "text": [
      "6) Write output\n"
     ]
    }
   ],
   "source": [
    "if not os.path.isfile(dada2_tabs) or replace_files:\n",
    "    interim_tabs_path = os.path.join(interim_data_dir, \"dada2-tabs.qza\")\n",
    "    interim_reps_path = os.path.join(interim_data_dir, \"dada2-reps.qza\")\n",
    "    interim_stat_path = os.path.join(interim_data_dir, \"dada2-stat.qza\")\n",
    "    # Verify if has shared files\n",
    "    if os.path.isfile(interim_tabs_path) and os.path.isfile(interim_reps_path) and os.path.isfile(interim_stat_path):\n",
    "        print(\"Load from shared data\")\n",
    "        tabs = Artifact.load(interim_tabs_path)\n",
    "        reps = Artifact.load(interim_reps_path)\n",
    "        stat = Artifact.load(interim_stat_path)\n",
    "    # Create new DADA2 files\n",
    "    else:\n",
    "        print(\"Create new local data\")\n",
    "        if n_directions == 1: # SingleEnd\n",
    "            tabs, reps, stat = dada2_actions.denoise_single(\n",
    "                demultiplexed_seqs=demux,\n",
    "                trunc_q = phred,\n",
    "                n_threads = threads,\n",
    "                trunc_len = trunc_f,\n",
    "            )\n",
    "        elif n_directions == 2: # PairedEnd\n",
    "            tabs, reps, stat = dada2_actions.denoise_paired(\n",
    "                demultiplexed_seqs=demux,\n",
    "                trunc_q = phred,\n",
    "                min_overlap = overlap,\n",
    "                n_threads = threads,\n",
    "                trunc_len_f = trunc_f,\n",
    "                trunc_len_r = trunc_r,\n",
    "            )\n",
    "else:\n",
    "    print(\"Load from local data\")\n",
    "    tabs = Artifact.load(dada2_tabs)\n",
    "    reps = Artifact.load(dada2_reps)\n",
    "    stat = Artifact.load(dada2_stat)"
   ]
  },
  {
   "cell_type": "code",
   "execution_count": 21,
   "id": "d3effbcb",
   "metadata": {
    "ExecuteTime": {
     "end_time": "2023-08-23T17:29:37.469454Z",
     "start_time": "2023-08-23T17:29:37.443947Z"
    }
   },
   "outputs": [
    {
     "data": {
      "text/plain": [
       "74"
      ]
     },
     "execution_count": 21,
     "metadata": {},
     "output_type": "execute_result"
    }
   ],
   "source": [
    "A = set(metadata.to_dataframe().index)\n",
    "B = set(tabs.view(pd.DataFrame).index)\n",
    "len(B)"
   ]
  },
  {
   "cell_type": "code",
   "execution_count": 23,
   "id": "1a0128fe",
   "metadata": {
    "ExecuteTime": {
     "end_time": "2023-08-23T17:31:04.538626Z",
     "start_time": "2023-08-23T17:31:04.380182Z"
    }
   },
   "outputs": [
    {
     "name": "stdout",
     "output_type": "stream",
     "text": [
      "ls: cannot access '/home/lauro/nupeb/rede-micro/redemicro-ana-flavia-nutri/experiments/ana-flavia-all/qiime-artifacts/dada2-tabs.qza': No such file or directory\r\n"
     ]
    }
   ],
   "source": [
    "!ls -lah {dada2_tabs}"
   ]
  },
  {
   "cell_type": "code",
   "execution_count": 24,
   "id": "2f5e522e",
   "metadata": {
    "ExecuteTime": {
     "end_time": "2023-08-23T17:31:21.529666Z",
     "start_time": "2023-08-23T17:31:21.373614Z"
    }
   },
   "outputs": [
    {
     "data": {
      "text/plain": [
       "'/home/lauro/nupeb/rede-micro/redemicro-ana-flavia-nutri/experiments/ana-flavia-all/qiime-artifacts/dada2-stat.qza'"
      ]
     },
     "execution_count": 24,
     "metadata": {},
     "output_type": "execute_result"
    }
   ],
   "source": [
    "tabs.save(dada2_tabs)\n",
    "reps.save(dada2_reps)\n",
    "stat.save(dada2_stat)"
   ]
  },
  {
   "cell_type": "code",
   "execution_count": null,
   "id": "7e09d2aa",
   "metadata": {
    "ExecuteTime": {
     "end_time": "2022-05-30T19:57:39.171629Z",
     "start_time": "2022-05-30T19:57:39.147370Z"
    },
    "execution": {
     "iopub.execute_input": "2023-08-23T15:46:25.512042Z",
     "iopub.status.busy": "2023-08-23T15:46:25.511595Z",
     "iopub.status.idle": "2023-08-23T15:46:25.516859Z",
     "shell.execute_reply": "2023-08-23T15:46:25.515917Z"
    },
    "papermill": {
     "duration": 0.025399,
     "end_time": "2023-08-23T15:46:25.518592",
     "exception": false,
     "start_time": "2023-08-23T15:46:25.493193",
     "status": "completed"
    },
    "scrolled": true,
    "tags": []
   },
   "outputs": [],
   "source": [
    "# # If some of the DADA2 outputs artifacts do not exist or if the old files will be replaced\n",
    "# if need_dada2:\n",
    "    \n",
    "#     # Excute the DADA2 plugin\n",
    "#     if n_directions == 1: # SingleEnd\n",
    "#         tabs, reps, stat = dada2_actions.denoise_single(\n",
    "#             demultiplexed_seqs=demux,\n",
    "#             trunc_q = phred,\n",
    "#             n_threads = threads,\n",
    "#             trunc_len = trunc_f,\n",
    "#         )\n",
    "#     elif n_directions == 2: # PairedEnd\n",
    "#         tabs, reps, stat = dada2_actions.denoise_paired(\n",
    "#             demultiplexed_seqs=demux,\n",
    "#             trunc_q = phred,\n",
    "#             min_overlap = overlap,\n",
    "#             n_threads = threads,\n",
    "#             trunc_len_f = trunc_f,\n",
    "#             trunc_len_r = trunc_r,\n",
    "#         )\n",
    "    \n",
    "#     # Save the artifacts objects\n",
    "#     tabs.save(dada2_tabs)\n",
    "#     reps.save(dada2_reps)\n",
    "#     stat.save(dada2_stat)\n",
    "\n",
    "# else:\n",
    "#     tabs = Artifact.load(dada2_tabs)\n",
    "#     reps = Artifact.load(dada2_reps)\n",
    "#     stat = Artifact.load(dada2_stat)"
   ]
  },
  {
   "cell_type": "markdown",
   "id": "8b7825ec",
   "metadata": {
    "papermill": {
     "duration": 0.016497,
     "end_time": "2023-08-23T15:46:25.552142",
     "exception": false,
     "start_time": "2023-08-23T15:46:25.535645",
     "status": "completed"
    },
    "tags": []
   },
   "source": [
    "### Filter samples"
   ]
  },
  {
   "cell_type": "code",
   "execution_count": null,
   "id": "0c3458cb",
   "metadata": {
    "execution": {
     "iopub.execute_input": "2023-08-23T15:46:25.586324Z",
     "iopub.status.busy": "2023-08-23T15:46:25.585837Z",
     "iopub.status.idle": "2023-08-23T15:46:26.604227Z",
     "shell.execute_reply": "2023-08-23T15:46:26.603340Z"
    },
    "papermill": {
     "duration": 1.03935,
     "end_time": "2023-08-23T15:46:26.607825",
     "exception": true,
     "start_time": "2023-08-23T15:46:25.568475",
     "status": "failed"
    },
    "tags": []
   },
   "outputs": [],
   "source": [
    "# Filter FeatureTable[Frequency | RelativeFrequency | PresenceAbsence | Composition] based on Metadata sample ID values\n",
    "tabs = filter_samples(\n",
    "    table=tabs,\n",
    "    metadata=metadata,\n",
    ").filtered_table\n",
    "# Filter SampleData[SequencesWithQuality | PairedEndSequencesWithQuality | JoinedSequencesWithQuality] based on Metadata sample ID values; returns FeatureData[Sequence | AlignedSequence]\n",
    "reps = filter_seqs(\n",
    "    data=reps,\n",
    "    table=tabs,\n",
    ").filtered_data"
   ]
  },
  {
   "cell_type": "markdown",
   "id": "127c5a7e",
   "metadata": {
    "papermill": {
     "duration": null,
     "end_time": null,
     "exception": null,
     "start_time": null,
     "status": "pending"
    },
    "tags": []
   },
   "source": [
    "### Define Visualizations Artifacts"
   ]
  },
  {
   "cell_type": "code",
   "execution_count": 14,
   "id": "4aae64c8",
   "metadata": {
    "ExecuteTime": {
     "end_time": "2023-08-23T17:28:15.272981Z",
     "start_time": "2023-08-23T17:28:07.401061Z"
    },
    "papermill": {
     "duration": null,
     "end_time": null,
     "exception": null,
     "start_time": null,
     "status": "pending"
    },
    "tags": []
   },
   "outputs": [
    {
     "ename": "ValueError",
     "evalue": "The following IDs are not present in the metadata: 'S210421121712', 'S210421121715', 'S210421121716', 'S210421121717', 'S210421121718', 'S210421121719', 'S210421121720', 'S210421121721', 'S210421121722', 'S210421121723', 'S210421121724', 'S210421121725', 'S210421121726', 'S210421121727', 'S210421121728', 'S210421121729', 'S210421121730', 'S210421121731', 'S210421121732', 'S210421121733', 'S210421121734', 'S210707163906', 'S210707163907', 'S210707163908', 'S210707163909', 'S210707163910', 'S210707163911', 'S210707163912', 'S210707163913', 'S210707163914', 'S210707163915', 'S210707163916', 'S210707163917'",
     "output_type": "error",
     "traceback": [
      "\u001b[0;31m---------------------------------------------------------------------------\u001b[0m",
      "\u001b[0;31mValueError\u001b[0m                                Traceback (most recent call last)",
      "Input \u001b[0;32mIn [14]\u001b[0m, in \u001b[0;36m<module>\u001b[0;34m\u001b[0m\n\u001b[1;32m      5\u001b[0m reps_view, \u001b[38;5;241m=\u001b[39m metadata_actions\u001b[38;5;241m.\u001b[39mtabulate(\u001b[38;5;28minput\u001b[39m\u001b[38;5;241m=\u001b[39mreps\u001b[38;5;241m.\u001b[39mview(Metadata))\n\u001b[1;32m      6\u001b[0m stat_view, \u001b[38;5;241m=\u001b[39m metadata_actions\u001b[38;5;241m.\u001b[39mtabulate(\u001b[38;5;28minput\u001b[39m\u001b[38;5;241m=\u001b[39mstat\u001b[38;5;241m.\u001b[39mview(Metadata))\n\u001b[0;32m----> 8\u001b[0m tabs_view \u001b[38;5;241m=\u001b[39m \u001b[43msummarize\u001b[49m\u001b[43m(\u001b[49m\u001b[43mtable\u001b[49m\u001b[38;5;241;43m=\u001b[39;49m\u001b[43mtabs\u001b[49m\u001b[43m,\u001b[49m\u001b[43m \u001b[49m\u001b[43msample_metadata\u001b[49m\u001b[38;5;241;43m=\u001b[39;49m\u001b[43mmetadata\u001b[49m\u001b[43m)\u001b[49m\u001b[38;5;241m.\u001b[39mvisualization\n\u001b[1;32m      9\u001b[0m reps_view \u001b[38;5;241m=\u001b[39m tabulate_seqs(data\u001b[38;5;241m=\u001b[39mreps)\u001b[38;5;241m.\u001b[39mvisualization\n\u001b[1;32m     10\u001b[0m core_view \u001b[38;5;241m=\u001b[39m core_features(table\u001b[38;5;241m=\u001b[39mtabs, min_fraction\u001b[38;5;241m=\u001b[39m\u001b[38;5;241m.1\u001b[39m, steps\u001b[38;5;241m=\u001b[39m\u001b[38;5;241m10\u001b[39m)\u001b[38;5;241m.\u001b[39mvisualization\n",
      "File \u001b[0;32m<decorator-gen-433>:2\u001b[0m, in \u001b[0;36msummarize\u001b[0;34m(table, sample_metadata)\u001b[0m\n",
      "File \u001b[0;32m~/anaconda3/envs/qiime2-2022.2/lib/python3.8/site-packages/qiime2/sdk/action.py:245\u001b[0m, in \u001b[0;36mAction._bind.<locals>.bound_callable\u001b[0;34m(*args, **kwargs)\u001b[0m\n\u001b[1;32m    241\u001b[0m         warn(\u001b[38;5;28mself\u001b[39m\u001b[38;5;241m.\u001b[39m_build_deprecation_message(),\n\u001b[1;32m    242\u001b[0m              \u001b[38;5;167;01mFutureWarning\u001b[39;00m)\n\u001b[1;32m    244\u001b[0m \u001b[38;5;66;03m# Execute\u001b[39;00m\n\u001b[0;32m--> 245\u001b[0m outputs \u001b[38;5;241m=\u001b[39m \u001b[38;5;28;43mself\u001b[39;49m\u001b[38;5;241;43m.\u001b[39;49m\u001b[43m_callable_executor_\u001b[49m\u001b[43m(\u001b[49m\u001b[43mscope\u001b[49m\u001b[43m,\u001b[49m\u001b[43m \u001b[49m\u001b[43mcallable_args\u001b[49m\u001b[43m,\u001b[49m\n\u001b[1;32m    246\u001b[0m \u001b[43m                                   \u001b[49m\u001b[43moutput_types\u001b[49m\u001b[43m,\u001b[49m\u001b[43m \u001b[49m\u001b[43mprovenance\u001b[49m\u001b[43m)\u001b[49m\n\u001b[1;32m    248\u001b[0m \u001b[38;5;28;01mif\u001b[39;00m \u001b[38;5;28mlen\u001b[39m(outputs) \u001b[38;5;241m!=\u001b[39m \u001b[38;5;28mlen\u001b[39m(\u001b[38;5;28mself\u001b[39m\u001b[38;5;241m.\u001b[39msignature\u001b[38;5;241m.\u001b[39moutputs):\n\u001b[1;32m    249\u001b[0m     \u001b[38;5;28;01mraise\u001b[39;00m \u001b[38;5;167;01mValueError\u001b[39;00m(\n\u001b[1;32m    250\u001b[0m         \u001b[38;5;124m\"\u001b[39m\u001b[38;5;124mNumber of callable outputs must match number of \u001b[39m\u001b[38;5;124m\"\u001b[39m\n\u001b[1;32m    251\u001b[0m         \u001b[38;5;124m\"\u001b[39m\u001b[38;5;124moutputs defined in signature: \u001b[39m\u001b[38;5;132;01m%d\u001b[39;00m\u001b[38;5;124m != \u001b[39m\u001b[38;5;132;01m%d\u001b[39;00m\u001b[38;5;124m\"\u001b[39m \u001b[38;5;241m%\u001b[39m\n\u001b[1;32m    252\u001b[0m         (\u001b[38;5;28mlen\u001b[39m(outputs), \u001b[38;5;28mlen\u001b[39m(\u001b[38;5;28mself\u001b[39m\u001b[38;5;241m.\u001b[39msignature\u001b[38;5;241m.\u001b[39moutputs)))\n",
      "File \u001b[0;32m~/anaconda3/envs/qiime2-2022.2/lib/python3.8/site-packages/qiime2/sdk/action.py:453\u001b[0m, in \u001b[0;36mVisualizer._callable_executor_\u001b[0;34m(self, scope, view_args, output_types, provenance)\u001b[0m\n\u001b[1;32m    448\u001b[0m \u001b[38;5;28;01mdef\u001b[39;00m \u001b[38;5;21m_callable_executor_\u001b[39m(\u001b[38;5;28mself\u001b[39m, scope, view_args, output_types, provenance):\n\u001b[1;32m    449\u001b[0m     \u001b[38;5;66;03m# TODO use qiime2.plugin.OutPath when it exists, and update visualizers\u001b[39;00m\n\u001b[1;32m    450\u001b[0m     \u001b[38;5;66;03m# to work with OutPath instead of str. Visualization._from_data_dir\u001b[39;00m\n\u001b[1;32m    451\u001b[0m     \u001b[38;5;66;03m# will also need to be updated to support OutPath instead of str.\u001b[39;00m\n\u001b[1;32m    452\u001b[0m     \u001b[38;5;28;01mwith\u001b[39;00m tempfile\u001b[38;5;241m.\u001b[39mTemporaryDirectory(prefix\u001b[38;5;241m=\u001b[39m\u001b[38;5;124m'\u001b[39m\u001b[38;5;124mqiime2-temp-\u001b[39m\u001b[38;5;124m'\u001b[39m) \u001b[38;5;28;01mas\u001b[39;00m temp_dir:\n\u001b[0;32m--> 453\u001b[0m         ret_val \u001b[38;5;241m=\u001b[39m \u001b[38;5;28;43mself\u001b[39;49m\u001b[38;5;241;43m.\u001b[39;49m\u001b[43m_callable\u001b[49m\u001b[43m(\u001b[49m\u001b[43moutput_dir\u001b[49m\u001b[38;5;241;43m=\u001b[39;49m\u001b[43mtemp_dir\u001b[49m\u001b[43m,\u001b[49m\u001b[43m \u001b[49m\u001b[38;5;241;43m*\u001b[39;49m\u001b[38;5;241;43m*\u001b[39;49m\u001b[43mview_args\u001b[49m\u001b[43m)\u001b[49m\n\u001b[1;32m    454\u001b[0m         \u001b[38;5;28;01mif\u001b[39;00m ret_val \u001b[38;5;129;01mis\u001b[39;00m \u001b[38;5;129;01mnot\u001b[39;00m \u001b[38;5;28;01mNone\u001b[39;00m:\n\u001b[1;32m    455\u001b[0m             \u001b[38;5;28;01mraise\u001b[39;00m \u001b[38;5;167;01mTypeError\u001b[39;00m(\n\u001b[1;32m    456\u001b[0m                 \u001b[38;5;124m\"\u001b[39m\u001b[38;5;124mVisualizer \u001b[39m\u001b[38;5;132;01m%r\u001b[39;00m\u001b[38;5;124m should not return anything. \u001b[39m\u001b[38;5;124m\"\u001b[39m\n\u001b[1;32m    457\u001b[0m                 \u001b[38;5;124m\"\u001b[39m\u001b[38;5;124mReceived \u001b[39m\u001b[38;5;132;01m%r\u001b[39;00m\u001b[38;5;124m as a return value.\u001b[39m\u001b[38;5;124m\"\u001b[39m \u001b[38;5;241m%\u001b[39m (\u001b[38;5;28mself\u001b[39m, ret_val))\n",
      "File \u001b[0;32m~/anaconda3/envs/qiime2-2022.2/lib/python3.8/site-packages/q2_feature_table/_summarize/_visualizer.py:170\u001b[0m, in \u001b[0;36msummarize\u001b[0;34m(output_dir, table, sample_metadata)\u001b[0m\n\u001b[1;32m    166\u001b[0m context\u001b[38;5;241m.\u001b[39mupdate({\u001b[38;5;124m'\u001b[39m\u001b[38;5;124mfrequencies_list\u001b[39m\u001b[38;5;124m'\u001b[39m:\n\u001b[1;32m    167\u001b[0m                 json\u001b[38;5;241m.\u001b[39mdumps(\u001b[38;5;28msorted\u001b[39m(sample_frequencies\u001b[38;5;241m.\u001b[39mvalues\u001b[38;5;241m.\u001b[39mtolist()))})\n\u001b[1;32m    168\u001b[0m \u001b[38;5;28;01mif\u001b[39;00m sample_metadata \u001b[38;5;129;01mis\u001b[39;00m \u001b[38;5;129;01mnot\u001b[39;00m \u001b[38;5;28;01mNone\u001b[39;00m:\n\u001b[1;32m    169\u001b[0m     context\u001b[38;5;241m.\u001b[39mupdate({\u001b[38;5;124m'\u001b[39m\u001b[38;5;124mvega_spec\u001b[39m\u001b[38;5;124m'\u001b[39m:\n\u001b[0;32m--> 170\u001b[0m                     json\u001b[38;5;241m.\u001b[39mdumps(\u001b[43mvega_spec\u001b[49m\u001b[43m(\u001b[49m\u001b[43msample_metadata\u001b[49m\u001b[43m,\u001b[49m\n\u001b[1;32m    171\u001b[0m \u001b[43m                                         \u001b[49m\u001b[43msample_frequencies\u001b[49m\n\u001b[1;32m    172\u001b[0m \u001b[43m                                         \u001b[49m\u001b[43m)\u001b[49m)\n\u001b[1;32m    173\u001b[0m                     })\n\u001b[1;32m    174\u001b[0m context\u001b[38;5;241m.\u001b[39mupdate({\u001b[38;5;124m'\u001b[39m\u001b[38;5;124msample_frequencies_json\u001b[39m\u001b[38;5;124m'\u001b[39m: sample_frequencies_json})\n\u001b[1;32m    175\u001b[0m q2templates\u001b[38;5;241m.\u001b[39mutil\u001b[38;5;241m.\u001b[39mcopy_assets(os\u001b[38;5;241m.\u001b[39mpath\u001b[38;5;241m.\u001b[39mjoin(TEMPLATES,\n\u001b[1;32m    176\u001b[0m                                           \u001b[38;5;124m'\u001b[39m\u001b[38;5;124msummarize_assets\u001b[39m\u001b[38;5;124m'\u001b[39m,\n\u001b[1;32m    177\u001b[0m                                           \u001b[38;5;124m'\u001b[39m\u001b[38;5;124mvega\u001b[39m\u001b[38;5;124m'\u001b[39m),\n\u001b[1;32m    178\u001b[0m                              output_dir)\n",
      "File \u001b[0;32m~/anaconda3/envs/qiime2-2022.2/lib/python3.8/site-packages/q2_feature_table/_summarize/_vega_spec.py:15\u001b[0m, in \u001b[0;36mvega_spec\u001b[0;34m(sample_metadata, sample_frequencies)\u001b[0m\n\u001b[1;32m     12\u001b[0m \u001b[38;5;28;01mdef\u001b[39;00m \u001b[38;5;21mvega_spec\u001b[39m(sample_metadata, sample_frequencies):\n\u001b[1;32m     13\u001b[0m     values \u001b[38;5;241m=\u001b[39m []\n\u001b[0;32m---> 15\u001b[0m     sample_metadata \u001b[38;5;241m=\u001b[39m \u001b[43msample_metadata\u001b[49m\u001b[38;5;241;43m.\u001b[39;49m\u001b[43mfilter_ids\u001b[49m\u001b[43m(\u001b[49m\n\u001b[1;32m     16\u001b[0m \u001b[43m        \u001b[49m\u001b[43msample_frequencies\u001b[49m\u001b[38;5;241;43m.\u001b[39;49m\u001b[43mindex\u001b[49m\u001b[43m)\u001b[49m\n\u001b[1;32m     17\u001b[0m     df \u001b[38;5;241m=\u001b[39m sample_metadata\u001b[38;5;241m.\u001b[39mto_dataframe()\n\u001b[1;32m     18\u001b[0m     df \u001b[38;5;241m=\u001b[39m df\u001b[38;5;241m.\u001b[39mwhere(pd\u001b[38;5;241m.\u001b[39mnotnull(df), \u001b[38;5;28;01mNone\u001b[39;00m)\n",
      "File \u001b[0;32m~/anaconda3/envs/qiime2-2022.2/lib/python3.8/site-packages/qiime2/metadata/metadata.py:753\u001b[0m, in \u001b[0;36mMetadata.filter_ids\u001b[0;34m(self, ids_to_keep)\u001b[0m\n\u001b[1;32m    728\u001b[0m \u001b[38;5;28;01mdef\u001b[39;00m \u001b[38;5;21mfilter_ids\u001b[39m(\u001b[38;5;28mself\u001b[39m, ids_to_keep):\n\u001b[1;32m    729\u001b[0m     \u001b[38;5;124;03m\"\"\"Filter metadata by IDs.\u001b[39;00m\n\u001b[1;32m    730\u001b[0m \n\u001b[1;32m    731\u001b[0m \u001b[38;5;124;03m    Parameters\u001b[39;00m\n\u001b[0;32m   (...)\u001b[0m\n\u001b[1;32m    751\u001b[0m \n\u001b[1;32m    752\u001b[0m \u001b[38;5;124;03m    \"\"\"\u001b[39;00m\n\u001b[0;32m--> 753\u001b[0m     filtered_df \u001b[38;5;241m=\u001b[39m \u001b[38;5;28;43mself\u001b[39;49m\u001b[38;5;241;43m.\u001b[39;49m\u001b[43m_filter_ids_helper\u001b[49m\u001b[43m(\u001b[49m\u001b[38;5;28;43mself\u001b[39;49m\u001b[38;5;241;43m.\u001b[39;49m\u001b[43m_dataframe\u001b[49m\u001b[43m,\u001b[49m\u001b[43m \u001b[49m\u001b[38;5;28;43mself\u001b[39;49m\u001b[38;5;241;43m.\u001b[39;49m\u001b[43mget_ids\u001b[49m\u001b[43m(\u001b[49m\u001b[43m)\u001b[49m\u001b[43m,\u001b[49m\n\u001b[1;32m    754\u001b[0m \u001b[43m                                          \u001b[49m\u001b[43mids_to_keep\u001b[49m\u001b[43m)\u001b[49m\n\u001b[1;32m    755\u001b[0m     filtered_md \u001b[38;5;241m=\u001b[39m \u001b[38;5;28mself\u001b[39m\u001b[38;5;241m.\u001b[39m\u001b[38;5;18m__class__\u001b[39m(filtered_df)\n\u001b[1;32m    756\u001b[0m     filtered_md\u001b[38;5;241m.\u001b[39m_add_artifacts(\u001b[38;5;28mself\u001b[39m\u001b[38;5;241m.\u001b[39martifacts)\n",
      "File \u001b[0;32m~/anaconda3/envs/qiime2-2022.2/lib/python3.8/site-packages/qiime2/metadata/metadata.py:196\u001b[0m, in \u001b[0;36m_MetadataBase._filter_ids_helper\u001b[0;34m(cls, df_or_series, ids, ids_to_keep)\u001b[0m\n\u001b[1;32m    194\u001b[0m missing_ids \u001b[38;5;241m=\u001b[39m ids_to_keep \u001b[38;5;241m-\u001b[39m ids\n\u001b[1;32m    195\u001b[0m \u001b[38;5;28;01mif\u001b[39;00m missing_ids:\n\u001b[0;32m--> 196\u001b[0m     \u001b[38;5;28;01mraise\u001b[39;00m \u001b[38;5;167;01mValueError\u001b[39;00m(\n\u001b[1;32m    197\u001b[0m         \u001b[38;5;124m\"\u001b[39m\u001b[38;5;124mThe following IDs are not present in the metadata: \u001b[39m\u001b[38;5;132;01m%s\u001b[39;00m\u001b[38;5;124m\"\u001b[39m\n\u001b[1;32m    198\u001b[0m         \u001b[38;5;241m%\u001b[39m (\u001b[38;5;124m'\u001b[39m\u001b[38;5;124m, \u001b[39m\u001b[38;5;124m'\u001b[39m\u001b[38;5;241m.\u001b[39mjoin(\u001b[38;5;28mrepr\u001b[39m(e) \u001b[38;5;28;01mfor\u001b[39;00m e \u001b[38;5;129;01min\u001b[39;00m \u001b[38;5;28msorted\u001b[39m(missing_ids))))\n\u001b[1;32m    200\u001b[0m \u001b[38;5;66;03m# While preserving order, get rid of any IDs not contained in\u001b[39;00m\n\u001b[1;32m    201\u001b[0m \u001b[38;5;66;03m# `ids_to_keep`.\u001b[39;00m\n\u001b[1;32m    202\u001b[0m ids_to_discard \u001b[38;5;241m=\u001b[39m ids \u001b[38;5;241m-\u001b[39m ids_to_keep\n",
      "\u001b[0;31mValueError\u001b[0m: The following IDs are not present in the metadata: 'S210421121712', 'S210421121715', 'S210421121716', 'S210421121717', 'S210421121718', 'S210421121719', 'S210421121720', 'S210421121721', 'S210421121722', 'S210421121723', 'S210421121724', 'S210421121725', 'S210421121726', 'S210421121727', 'S210421121728', 'S210421121729', 'S210421121730', 'S210421121731', 'S210421121732', 'S210421121733', 'S210421121734', 'S210707163906', 'S210707163907', 'S210707163908', 'S210707163909', 'S210707163910', 'S210707163911', 'S210707163912', 'S210707163913', 'S210707163914', 'S210707163915', 'S210707163916', 'S210707163917'"
     ]
    },
    {
     "data": {
      "image/png": "[encoded data removed]",
      "text/plain": [
       "<Figure size 432x288 with 1 Axes>"
      ]
     },
     "metadata": {
      "needs_background": "light"
     },
     "output_type": "display_data"
    }
   ],
   "source": [
    "# If some of the DADA2 Visualization artifacts do not exist or if the old files will be replaced\n",
    "if need_view:\n",
    "    \n",
    "    tabs_view, = metadata_actions.tabulate(input=tabs.view(Metadata))\n",
    "    reps_view, = metadata_actions.tabulate(input=reps.view(Metadata))\n",
    "    stat_view, = metadata_actions.tabulate(input=stat.view(Metadata))\n",
    "    \n",
    "    tabs_view = summarize(table=tabs, sample_metadata=metadata).visualization\n",
    "    reps_view = tabulate_seqs(data=reps).visualization\n",
    "    core_view = core_features(table=tabs, min_fraction=.1, steps=10).visualization\n",
    "    \n",
    "    \n",
    "    # Save the artifacts objects\n",
    "    tabs_view.save(dada2_tabs_view)\n",
    "    reps_view.save(dada2_reps_view)\n",
    "    stat_view.save(dada2_stat_view)\n",
    "    core_view.save(dada2_core_view)\n",
    "\n",
    "else:\n",
    "    tabs_view = Visualization.load(dada2_tabs_view)\n",
    "    reps_view = Visualization.load(dada2_reps_view)\n",
    "    stat_view = Visualization.load(dada2_stat_view)\n",
    "    core_view = Visualization.load(dada2_core_view)"
   ]
  },
  {
   "cell_type": "code",
   "execution_count": null,
   "id": "4463dbe9",
   "metadata": {
    "papermill": {
     "duration": null,
     "end_time": null,
     "exception": null,
     "start_time": null,
     "status": "pending"
    },
    "tags": []
   },
   "outputs": [],
   "source": [
    "def plot_stats_box(artifact, fname, total_reads_phases, percent_phases, cols):\n",
    "    import matplotlib.pyplot as plt\n",
    "    from qiime2 import Metadata\n",
    "    \n",
    "    df = artifact.view(Metadata).to_dataframe()\n",
    "    df_vals = df[total_reads_phases]\n",
    "    df_perc = df[percent_phases]\n",
    "    df_perc.columns = cols\n",
    "    \n",
    "    \n",
    "    plt.figure(figsize=(15,5))\n",
    "    plt.subplot(1, 2, 1)\n",
    "    df_vals.boxplot()\n",
    "    plt.xlabel('Fases')\n",
    "    plt.ylabel('# of reads')\n",
    "    \n",
    "    plt.subplot(1, 2, 2)\n",
    "    df_perc.boxplot()\n",
    "    plt.xlabel('Fases')\n",
    "    plt.ylabel('% of input')\n",
    "    \n",
    "    plt.savefig(fname, bbox_inches='tight')\n",
    "\n",
    "    plt.show()"
   ]
  },
  {
   "cell_type": "code",
   "execution_count": null,
   "id": "78a8c771",
   "metadata": {
    "papermill": {
     "duration": null,
     "end_time": null,
     "exception": null,
     "start_time": null,
     "status": "pending"
    },
    "tags": []
   },
   "outputs": [],
   "source": [
    "if n_directions == 1: # SingleEnd\n",
    "    total_reads_phases = ['input', 'filtered', 'denoised', 'non-chimeric']\n",
    "    percent_phases = ['percentage of input passed filter', 'percentage of input non-chimeric']\n",
    "    cols = ['filtered', 'non-chimeric']\n",
    "elif n_directions == 2: # PairedEnd\n",
    "    total_reads_phases = ['input', 'filtered', 'denoised', 'merged', 'non-chimeric']\n",
    "    percent_phases = ['percentage of input passed filter', 'percentage of input merged', 'percentage of input non-chimeric']\n",
    "    cols = ['filtered', 'merged', 'non-chimeric']"
   ]
  },
  {
   "cell_type": "code",
   "execution_count": null,
   "id": "8ce42248",
   "metadata": {
    "ExecuteTime": {
     "end_time": "2022-05-30T19:57:39.901491Z",
     "start_time": "2022-05-30T19:57:39.255220Z"
    },
    "papermill": {
     "duration": null,
     "end_time": null,
     "exception": null,
     "start_time": null,
     "status": "pending"
    },
    "scrolled": false,
    "tags": []
   },
   "outputs": [],
   "source": [
    "plot_stats_box(stat, os.path.join(img_folder, 'step02-stats-boxplot.pdf'), total_reads_phases, percent_phases, cols)"
   ]
  },
  {
   "cell_type": "code",
   "execution_count": null,
   "id": "01834400",
   "metadata": {
    "ExecuteTime": {
     "end_time": "2022-05-31T17:58:47.140114Z",
     "start_time": "2022-05-31T17:58:47.087808Z"
    },
    "papermill": {
     "duration": null,
     "end_time": null,
     "exception": null,
     "start_time": null,
     "status": "pending"
    },
    "tags": []
   },
   "outputs": [],
   "source": [
    "stat.view(Metadata).to_dataframe().describe()[percent_phases]"
   ]
  },
  {
   "cell_type": "code",
   "execution_count": null,
   "id": "3febcfdb",
   "metadata": {
    "ExecuteTime": {
     "end_time": "2022-05-30T19:57:39.957632Z",
     "start_time": "2022-05-30T19:57:39.953762Z"
    },
    "papermill": {
     "duration": null,
     "end_time": null,
     "exception": null,
     "start_time": null,
     "status": "pending"
    },
    "tags": []
   },
   "outputs": [],
   "source": [
    "stat_view"
   ]
  },
  {
   "cell_type": "code",
   "execution_count": null,
   "id": "e72e9f3f",
   "metadata": {
    "ExecuteTime": {
     "end_time": "2022-05-30T19:57:39.967918Z",
     "start_time": "2022-05-30T19:57:39.958955Z"
    },
    "papermill": {
     "duration": null,
     "end_time": null,
     "exception": null,
     "start_time": null,
     "status": "pending"
    },
    "tags": []
   },
   "outputs": [],
   "source": [
    "# new_stat = Artifact.load('/home/lauro/nupeb/redemicro/experiments/thayane-feces-01/qiime-artifacts/dada2-stat.qza')\n",
    "# # new_view, = metadata_actions.tabulate(input=new_stat.view(Metadata))\n",
    "# # plot_stats_box(old_stat)\n",
    "\n",
    "# old_stat = Artifact.load('/home/lauro/nupeb/dados_brutos_rede_genoma/experiments/fezes-phred_20-tf_0-tr_0-lap_4/fezes_dada2_stat.qza')\n",
    "# # old_view, = metadata_actions.tabulate(input=old_stat.view(Metadata))\n",
    "# # plot_stats_box(old_stat)\n",
    "\n",
    "# plot_stats_box_pairs(old_stat, new_stat)"
   ]
  }
 ],
 "metadata": {
  "celltoolbar": "Edit Metadata",
  "kernelspec": {
   "display_name": "Python 3 (ipykernel)",
   "language": "python",
   "name": "python3"
  },
  "language_info": {
   "codemirror_mode": {
    "name": "ipython",
    "version": 3
   },
   "file_extension": ".py",
   "mimetype": "text/x-python",
   "name": "python",
   "nbconvert_exporter": "python",
   "pygments_lexer": "ipython3",
   "version": "3.8.12"
  },
  "papermill": {
   "default_parameters": {},
   "duration": 18.770363,
   "end_time": "2023-08-23T15:46:29.141754",
   "environment_variables": {},
   "exception": true,
   "input_path": "nb-templates/step-quality-control.ipynb",
   "output_path": "/home/lauro/nupeb/rede-micro/redemicro-ana-flavia-nutri/experiments/ana-flavia-all/nb-executed-steps/step-quality-control-ana-flavia-all.ipynb",
   "parameters": {
    "base_dir": "/home/lauro/nupeb/rede-micro/redemicro-ana-flavia-nutri",
    "class_col": "group-id",
    "classifier_file": "/home/lauro/nupeb/rede-micro/models/silva-138-99-nb-classifier.qza",
    "experiment_name": "ana-flavia-all",
    "manifest_file": "/home/lauro/nupeb/rede-micro/redemicro-ana-flavia-nutri/data/raw/manifest-all-ana.csv",
    "metadata_file": "/home/lauro/nupeb/rede-micro/redemicro-ana-flavia-nutri/data/raw/metadata-all-ana.tsv",
    "overlap": 12,
    "phred": 20,
    "replace_files": false,
    "threads": 6,
    "top_n": 20,
    "trim": {
     "forward_primer": "CCTACGGGRSGCAGCAG",
     "overlap": 8,
     "reverse_primer": "GGACTACHVGGGTWTCTAAT"
    },
    "trunc_f": 0,
    "trunc_r": 0
   },
   "start_time": "2023-08-23T15:46:10.371391",
   "version": "2.3.4"
  },
  "toc-autonumbering": false,
  "toc-showcode": false,
  "toc-showmarkdowntxt": false
 },
 "nbformat": 4,
 "nbformat_minor": 5
}
