{
 "cells": [
  {
   "cell_type": "markdown",
   "id": "0e7f2330",
   "metadata": {
    "ExecuteTime": {
     "end_time": "2022-09-22T19:36:33.828188Z",
     "start_time": "2022-09-22T19:36:33.817323Z"
    },
    "papermill": {
     "duration": 0.005522,
     "end_time": "2024-08-08T17:53:07.012264",
     "exception": false,
     "start_time": "2024-08-08T17:53:07.006742",
     "status": "completed"
    },
    "tags": []
   },
   "source": [
    "### STEP : LEfSe Analysis\n",
    "\n",
    "\n",
    "\n",
    "LEfSe (Linear discriminant analysis Effect Size) determines the features (organisms, clades, operational taxonomic units, genes, or functions) most likely to explain differences between classes by coupling standard tests for statistical significance with additional tests encoding biological consistency and effect relevance.\n",
    "\n",
    "- https://huttenhower.sph.harvard.edu/lefse/\n",
    "- https://github.com/statonlab/BiGG2020_CrackNAg/wiki/qiime2-to-lefse\n",
    "- https://github.com/biobakery/biobakery/wiki/lefse#2-lefse--conda-docker-vm-\n",
    "\n",
    "**OBS.: Using docker to run LEfSe**"
   ]
  },
  {
   "cell_type": "markdown",
   "id": "843debbf",
   "metadata": {
    "papermill": {
     "duration": 0.004363,
     "end_time": "2024-08-08T17:53:07.018463",
     "exception": false,
     "start_time": "2024-08-08T17:53:07.014100",
     "status": "completed"
    },
    "tags": []
   },
   "source": [
    "## Setup and settings"
   ]
  },
  {
   "cell_type": "code",
   "execution_count": 1,
   "id": "965e28e5",
   "metadata": {
    "ExecuteTime": {
     "end_time": "2022-11-03T20:35:26.198671Z",
     "start_time": "2022-11-03T20:35:06.473173Z"
    },
    "execution": {
     "iopub.execute_input": "2024-08-08T17:53:07.022538Z",
     "iopub.status.busy": "2024-08-08T17:53:07.022416Z",
     "iopub.status.idle": "2024-08-08T17:53:11.421195Z",
     "shell.execute_reply": "2024-08-08T17:53:11.420708Z"
    },
    "papermill": {
     "duration": 4.402157,
     "end_time": "2024-08-08T17:53:11.422377",
     "exception": false,
     "start_time": "2024-08-08T17:53:07.020220",
     "status": "completed"
    },
    "tags": []
   },
   "outputs": [],
   "source": [
    "import os\n",
    "import pandas as pd\n",
    "from qiime2 import Artifact\n",
    "from qiime2 import Visualization\n",
    "from qiime2 import Metadata\n",
    "\n",
    "from qiime2.plugins.feature_table.methods import filter_samples\n",
    "from qiime2.plugins.feature_table.methods import relative_frequency\n",
    "from qiime2.plugins.taxa.methods import collapse\n",
    "\n",
    "import biom\n",
    "import re\n",
    "\n",
    "%matplotlib inline"
   ]
  },
  {
   "cell_type": "markdown",
   "id": "530ceb60",
   "metadata": {
    "papermill": {
     "duration": 0.001766,
     "end_time": "2024-08-08T17:53:11.426078",
     "exception": false,
     "start_time": "2024-08-08T17:53:11.424312",
     "status": "completed"
    },
    "tags": []
   },
   "source": [
    "### Receiving the parameters\n",
    "\n",
    "The following cell can receive parameters using the [papermill](https://papermill.readthedocs.io/en/latest/) tool."
   ]
  },
  {
   "cell_type": "code",
   "execution_count": 2,
   "id": "18d874ea",
   "metadata": {
    "ExecuteTime": {
     "end_time": "2022-09-29T20:54:14.793270Z",
     "start_time": "2022-09-29T20:54:14.789367Z"
    },
    "execution": {
     "iopub.execute_input": "2024-08-08T17:53:11.431000Z",
     "iopub.status.busy": "2024-08-08T17:53:11.430759Z",
     "iopub.status.idle": "2024-08-08T17:53:11.433244Z",
     "shell.execute_reply": "2024-08-08T17:53:11.432833Z"
    },
    "papermill": {
     "duration": 0.006366,
     "end_time": "2024-08-08T17:53:11.434143",
     "exception": false,
     "start_time": "2024-08-08T17:53:11.427777",
     "status": "completed"
    },
    "tags": [
     "parameters"
    ]
   },
   "outputs": [],
   "source": [
    "metadata_file = ''\n",
    "base_dir = ''\n",
    "experiment_name = ''\n",
    "class_col = 'group-id'\n",
    "replace_files = False"
   ]
  },
  {
   "cell_type": "code",
   "execution_count": 3,
   "id": "6d1b22ce",
   "metadata": {
    "execution": {
     "iopub.execute_input": "2024-08-08T17:53:11.438086Z",
     "iopub.status.busy": "2024-08-08T17:53:11.437964Z",
     "iopub.status.idle": "2024-08-08T17:53:11.440530Z",
     "shell.execute_reply": "2024-08-08T17:53:11.440238Z"
    },
    "papermill": {
     "duration": 0.005578,
     "end_time": "2024-08-08T17:53:11.441386",
     "exception": false,
     "start_time": "2024-08-08T17:53:11.435808",
     "status": "completed"
    },
    "tags": [
     "injected-parameters"
    ]
   },
   "outputs": [],
   "source": [
    "# Parameters\n",
    "experiment_name = \"ana-flavia-all\"\n",
    "base_dir = \"/mnt/nupeb/rede-micro/redemicro-ana-flavia-nutri\"\n",
    "manifest_file = \"/mnt/nupeb/rede-micro/redemicro-ana-flavia-nutri/data/raw/manifest-all-ana.csv\"\n",
    "metadata_file = \"/mnt/nupeb/rede-micro/redemicro-ana-flavia-nutri/data/raw/metadata-all-ana.tsv\"\n",
    "class_col = \"group-id\"\n",
    "classifier_file = \"/mnt/nupeb/rede-micro/datasets/16S_classifiers_qiime2/silva-138-99-nb-classifier.qza\"\n",
    "top_n = 20\n",
    "replace_files = False\n",
    "phred = 20\n",
    "trunc_f = 0\n",
    "trunc_r = 0\n",
    "overlap = 12\n",
    "threads = 6\n",
    "trim = {\"overlap\": 8, \"forward_primer\": \"CCTACGGGRSGCAGCAG\", \"reverse_primer\": \"GGACTACHVGGGTWTCTAAT\"}\n"
   ]
  },
  {
   "cell_type": "code",
   "execution_count": 4,
   "id": "f38617d9",
   "metadata": {
    "ExecuteTime": {
     "end_time": "2022-09-29T20:54:14.804575Z",
     "start_time": "2022-09-29T20:54:14.794927Z"
    },
    "execution": {
     "iopub.execute_input": "2024-08-08T17:53:11.462202Z",
     "iopub.status.busy": "2024-08-08T17:53:11.462037Z",
     "iopub.status.idle": "2024-08-08T17:53:11.464730Z",
     "shell.execute_reply": "2024-08-08T17:53:11.464274Z"
    },
    "papermill": {
     "duration": 0.022453,
     "end_time": "2024-08-08T17:53:11.465614",
     "exception": false,
     "start_time": "2024-08-08T17:53:11.443161",
     "status": "completed"
    },
    "tags": []
   },
   "outputs": [],
   "source": [
    "experiment_folder = os.path.abspath(os.path.join(base_dir, 'experiments', experiment_name))\n",
    "img_folder = os.path.abspath(os.path.join(experiment_folder, 'imgs'))\n",
    "lefse_folder = os.path.join(experiment_folder, 'lefse')"
   ]
  },
  {
   "cell_type": "code",
   "execution_count": 5,
   "id": "c1e35d20",
   "metadata": {
    "execution": {
     "iopub.execute_input": "2024-08-08T17:53:11.469686Z",
     "iopub.status.busy": "2024-08-08T17:53:11.469490Z",
     "iopub.status.idle": "2024-08-08T17:53:11.586660Z",
     "shell.execute_reply": "2024-08-08T17:53:11.583915Z"
    },
    "papermill": {
     "duration": 0.12432,
     "end_time": "2024-08-08T17:53:11.591650",
     "exception": false,
     "start_time": "2024-08-08T17:53:11.467330",
     "status": "completed"
    },
    "tags": []
   },
   "outputs": [],
   "source": [
    "# Create LEfSe folder, if it not exists\n",
    "!mkdir -p {lefse_folder}"
   ]
  },
  {
   "cell_type": "markdown",
   "id": "ea9b90fb",
   "metadata": {
    "papermill": {
     "duration": 0.010364,
     "end_time": "2024-08-08T17:53:11.613384",
     "exception": false,
     "start_time": "2024-08-08T17:53:11.603020",
     "status": "completed"
    },
    "tags": []
   },
   "source": [
    "### Defining names, paths and flags"
   ]
  },
  {
   "cell_type": "code",
   "execution_count": 6,
   "id": "45727eef",
   "metadata": {
    "ExecuteTime": {
     "end_time": "2022-09-29T20:54:14.816686Z",
     "start_time": "2022-09-29T20:54:14.806238Z"
    },
    "execution": {
     "iopub.execute_input": "2024-08-08T17:53:11.631897Z",
     "iopub.status.busy": "2024-08-08T17:53:11.631492Z",
     "iopub.status.idle": "2024-08-08T17:53:11.636864Z",
     "shell.execute_reply": "2024-08-08T17:53:11.635943Z"
    },
    "papermill": {
     "duration": 0.015155,
     "end_time": "2024-08-08T17:53:11.638713",
     "exception": false,
     "start_time": "2024-08-08T17:53:11.623558",
     "status": "completed"
    },
    "tags": []
   },
   "outputs": [],
   "source": [
    "# QIIME2 Artifacts folder\n",
    "qiime_folder = os.path.join(experiment_folder, 'qiime-artifacts')\n",
    "\n",
    "# Input - DADA2 Artifacts\n",
    "dada2_tabs_path = os.path.join(qiime_folder, 'dada2-tabs.qza')\n",
    "\n",
    "# Input - Taxonomy\n",
    "taxonomy_path = os.path.join(qiime_folder, 'metatax.qza')"
   ]
  },
  {
   "cell_type": "markdown",
   "id": "0999a1b2",
   "metadata": {
    "papermill": {
     "duration": 0.003084,
     "end_time": "2024-08-08T17:53:11.645453",
     "exception": false,
     "start_time": "2024-08-08T17:53:11.642369",
     "status": "completed"
    },
    "tags": []
   },
   "source": [
    "## Step execution\n",
    "\n",
    "### Load input files\n",
    "\n",
    "This Step import the QIIME2 `FeatureTable[Frequency]` Artifact and the `Metadata` file."
   ]
  },
  {
   "cell_type": "code",
   "execution_count": 7,
   "id": "8f299d1a",
   "metadata": {
    "ExecuteTime": {
     "end_time": "2022-09-29T20:54:15.559837Z",
     "start_time": "2022-09-29T20:54:14.830405Z"
    },
    "execution": {
     "iopub.execute_input": "2024-08-08T17:53:11.651870Z",
     "iopub.status.busy": "2024-08-08T17:53:11.651687Z",
     "iopub.status.idle": "2024-08-08T17:53:11.761757Z",
     "shell.execute_reply": "2024-08-08T17:53:11.761266Z"
    },
    "papermill": {
     "duration": 0.114488,
     "end_time": "2024-08-08T17:53:11.762924",
     "exception": false,
     "start_time": "2024-08-08T17:53:11.648436",
     "status": "completed"
    },
    "tags": []
   },
   "outputs": [],
   "source": [
    "#Load Metadata\n",
    "metadata_qa = Metadata.load(metadata_file)\n",
    "\n",
    "#Load FeatureTable[Frequency]\n",
    "tabs = Artifact.load(dada2_tabs_path)\n",
    "\n",
    "# Filter FeatureTable[Frequency | RelativeFrequency | PresenceAbsence | Composition] based on Metadata sample ID values\n",
    "tabs = filter_samples(\n",
    "    table=tabs,\n",
    "    metadata=metadata_qa,\n",
    ").filtered_table\n",
    "\n",
    "# Load Taxonomy\n",
    "taxonomy = Artifact.load(taxonomy_path)"
   ]
  },
  {
   "cell_type": "markdown",
   "id": "be41be7b",
   "metadata": {
    "papermill": {
     "duration": 0.001841,
     "end_time": "2024-08-08T17:53:11.766817",
     "exception": false,
     "start_time": "2024-08-08T17:53:11.764976",
     "status": "completed"
    },
    "tags": []
   },
   "source": [
    "# Collapse and calculate relative frequency"
   ]
  },
  {
   "cell_type": "markdown",
   "id": "d7a798ef",
   "metadata": {
    "papermill": {
     "duration": 0.001795,
     "end_time": "2024-08-08T17:53:11.770393",
     "exception": false,
     "start_time": "2024-08-08T17:53:11.768598",
     "status": "completed"
    },
    "tags": []
   },
   "source": [
    "## Define functions"
   ]
  },
  {
   "cell_type": "code",
   "execution_count": 8,
   "id": "256d557c",
   "metadata": {
    "execution": {
     "iopub.execute_input": "2024-08-08T17:53:11.774819Z",
     "iopub.status.busy": "2024-08-08T17:53:11.774637Z",
     "iopub.status.idle": "2024-08-08T17:53:11.778345Z",
     "shell.execute_reply": "2024-08-08T17:53:11.778022Z"
    },
    "papermill": {
     "duration": 0.007049,
     "end_time": "2024-08-08T17:53:11.779250",
     "exception": false,
     "start_time": "2024-08-08T17:53:11.772201",
     "status": "completed"
    },
    "tags": []
   },
   "outputs": [],
   "source": [
    "def process_biom_file(relative_frequency_tab, metadata_tab, class_id, out_csv):\n",
    "    # Create DataFrames\n",
    "    relative_frequency_df = relative_frequency_tab.view(pd.DataFrame).T\n",
    "    metadata_df = metadata_tab.to_dataframe()\n",
    "    \n",
    "    # Process IDs\n",
    "    idx = relative_frequency_df.index\n",
    "    new_idx = ['|'.join([y[3:] for y in x.split(';') if len(y)>2]) for x in idx]\n",
    "    \n",
    "    # Process headers\n",
    "    group_header = list(metadata_df[class_id].values)\n",
    "    sample_header = list(relative_frequency_df.columns)\n",
    "    headers = pd.MultiIndex.from_arrays([group_header, sample_header], names=['group-id', 'subject_id'])\n",
    "    \n",
    "    # Create new DataFrame\n",
    "    new_relative_frequency_df = relative_frequency_df.copy()\n",
    "    new_relative_frequency_df.columns = headers\n",
    "    new_relative_frequency_df.index = new_idx\n",
    "    new_relative_frequency_df.to_csv(out_csv, sep='\\t')"
   ]
  },
  {
   "cell_type": "code",
   "execution_count": 9,
   "id": "d421e193",
   "metadata": {
    "execution": {
     "iopub.execute_input": "2024-08-08T17:53:11.783543Z",
     "iopub.status.busy": "2024-08-08T17:53:11.783349Z",
     "iopub.status.idle": "2024-08-08T17:53:11.786763Z",
     "shell.execute_reply": "2024-08-08T17:53:11.786394Z"
    },
    "papermill": {
     "duration": 0.006593,
     "end_time": "2024-08-08T17:53:11.787649",
     "exception": false,
     "start_time": "2024-08-08T17:53:11.781056",
     "status": "completed"
    },
    "tags": []
   },
   "outputs": [],
   "source": [
    "def process_res(res_file):\n",
    "    df = pd.read_csv(res_file, sep='\\t', index_col=0, header=None)\n",
    "    idx = df.index\n",
    "    new_idx = [re.sub(r\"[a-z]__\", \"|\", x) for x in idx]\n",
    "    print(1, len(idx), len(new_idx))\n",
    "    new_idx = [x[1:] for x in new_idx if x.startswith('|')]\n",
    "    print(2, len(idx), len(new_idx))\n",
    "#     new_idx = [x[:-1] for x in new_idx if x.endswith('|')]\n",
    "#     print(3, len(idx), len(new_idx))\n",
    "    new_idx = [re.sub(r\"\\|\\|\", \"|\", x) for x in new_idx]\n",
    "    print(4, len(idx), len(new_idx))\n",
    "    print\n",
    "    print(idx)\n",
    "    print(new_idx)\n",
    "    df.index = new_idx\n",
    "    \n",
    "#     print(df)\n",
    "    df.to_csv(res_file, index=False, na_rep='-', header=None)"
   ]
  },
  {
   "cell_type": "code",
   "execution_count": 14,
   "id": "df65d39f",
   "metadata": {
    "execution": {
     "iopub.execute_input": "2024-08-08T17:53:11.792125Z",
     "iopub.status.busy": "2024-08-08T17:53:11.791891Z",
     "iopub.status.idle": "2024-08-08T17:53:11.801636Z",
     "shell.execute_reply": "2024-08-08T17:53:11.801243Z"
    },
    "papermill": {
     "duration": 0.012959,
     "end_time": "2024-08-08T17:53:11.802534",
     "exception": false,
     "start_time": "2024-08-08T17:53:11.789575",
     "status": "completed"
    },
    "tags": []
   },
   "outputs": [],
   "source": [
    "def process_lefse(raw_csv, tax_lvl, _format='pdf'):\n",
    "    \n",
    "    # Get file name without extension\n",
    "    base_name = os.path.splitext(os.path.basename(raw_csv))[0]\n",
    "    in_file = os.path.join(lefse_folder, f'{base_name}.in')\n",
    "    res_file = os.path.join(lefse_folder, f'{base_name}.res')\n",
    "    lefse_figs = os.path.join(lefse_folder, 'lefse_plots')\n",
    "    !mkdir -p {lefse_figs}\n",
    "    fig_path = os.path.join(lefse_figs, f'{base_name}_metabar.{_format}')\n",
    "    clad_path = os.path.join(lefse_figs, f'{base_name}_cladogram.{_format}')\n",
    "    \n",
    "    \n",
    "    # Prepare file to LEfSe\n",
    "    !docker run --rm --workdir /data -v /:/data biobakery/lefse format_input.py {raw_csv[1:]} {in_file[1:]} -c 1 -u 2 -o 1000000\n",
    "\n",
    "    # Execute LEfSe\n",
    "    !docker run --rm --workdir /data -v /:/data biobakery/lefse run_lefse.py  {in_file[1:]} {res_file[1:]}\n",
    "        \n",
    "    # Plot figure\n",
    "    !docker run --rm --workdir /data -v /:/data biobakery/lefse plot_res.py {res_file[1:]} {fig_path[1:]} --format {_format} --max_feature_len 256 --left_space 0.6\n",
    "    \n",
    "    # Plot cladogram\n",
    "    !docker run --rm --workdir /data -v /:/data biobakery/lefse plot_cladogram.py {res_file[1:]} {clad_path[1:]} --format {_format} --colored_labels 1"
   ]
  },
  {
   "cell_type": "code",
   "execution_count": 11,
   "id": "17cbace5",
   "metadata": {},
   "outputs": [
    {
     "name": "stdout",
     "output_type": "stream",
     "text": [
      "/home/linuxbrew/.linuxbrew/Cellar/lefse/1.0.0-dev-e3cabe9/libexec/lib/python2.7/site-packages/matplotlib/font_manager.py:273: UserWarning: Matplotlib is building the font cache using fc-list. This may take a moment.\n",
      "  warnings.warn('Matplotlib is building the font cache using fc-list. This may take a moment.')\n",
      "usage: plot_res.py [-h] [--feature_font_size FEATURE_FONT_SIZE]\n",
      "                   [--format {png,svg,pdf}] [--dpi DPI] [--title TITLE]\n",
      "                   [--title_font_size TITLE_FONT_SIZE]\n",
      "                   [--class_legend_font_size CLASS_LEGEND_FONT_SIZE]\n",
      "                   [--width WIDTH] [--height HEIGHT] [--left_space LS]\n",
      "                   [--right_space RS] [--orientation {h,v}]\n",
      "                   [--autoscale {0,1}] [--background_color {k,w}]\n",
      "                   [--subclades N_SCL] [--max_feature_len MAX_FEATURE_LEN]\n",
      "                   [--all_feats ALL_FEATS] [--otu_only] [--report_features]\n",
      "                   INPUT_FILE OUTPUT_FILE\n",
      "\n",
      "Plot results\n",
      "\n",
      "positional arguments:\n",
      "  INPUT_FILE            tab delimited input file\n",
      "  OUTPUT_FILE           the file for the output image\n",
      "\n",
      "optional arguments:\n",
      "  -h, --help            show this help message and exit\n",
      "  --feature_font_size FEATURE_FONT_SIZE\n",
      "                        the file for the output image\n",
      "  --format {png,svg,pdf}\n",
      "                        the format for the output file\n",
      "  --dpi DPI\n",
      "  --title TITLE\n",
      "  --title_font_size TITLE_FONT_SIZE\n",
      "  --class_legend_font_size CLASS_LEGEND_FONT_SIZE\n",
      "  --width WIDTH\n",
      "  --height HEIGHT       only for vertical histograms\n",
      "  --left_space LS\n",
      "  --right_space RS\n",
      "  --orientation {h,v}\n",
      "  --autoscale {0,1}\n",
      "  --background_color {k,w}\n",
      "                        set the color of the background\n",
      "  --subclades N_SCL     number of label levels to be dislayed (starting from\n",
      "                        the leaves, -1 means all the levels, 1 is default )\n",
      "  --max_feature_len MAX_FEATURE_LEN\n",
      "                        Maximum length of feature strings (def 60)\n",
      "  --all_feats ALL_FEATS\n",
      "  --otu_only            Plot only species resolved OTUs (as opposed to all\n",
      "                        levels)\n",
      "  --report_features     Report important features to STDOUT\n"
     ]
    }
   ],
   "source": [
    "!docker run --rm --workdir /data -v /:/data biobakery/lefse plot_res.py --help"
   ]
  },
  {
   "cell_type": "code",
   "execution_count": 12,
   "id": "62028e41",
   "metadata": {
    "execution": {
     "iopub.execute_input": "2024-08-08T17:53:11.806829Z",
     "iopub.status.busy": "2024-08-08T17:53:11.806679Z",
     "iopub.status.idle": "2024-08-08T17:53:11.809896Z",
     "shell.execute_reply": "2024-08-08T17:53:11.809518Z"
    },
    "papermill": {
     "duration": 0.006415,
     "end_time": "2024-08-08T17:53:11.810792",
     "exception": false,
     "start_time": "2024-08-08T17:53:11.804377",
     "status": "completed"
    },
    "tags": []
   },
   "outputs": [],
   "source": [
    "def process_tax_level(tax_lvl, tax_tab, abs_tab, metadata_tab, class_id):\n",
    "    \n",
    "    # Collapse the table to the tax_lvl level\n",
    "    collapsed_table = collapse(\n",
    "        table=tabs,\n",
    "        taxonomy=taxonomy,\n",
    "        level=tax_lvl\n",
    "    ).collapsed_table\n",
    "    \n",
    "    # Calculate the relative frequency\n",
    "    relative_frequency_tab = relative_frequency(\n",
    "        table = collapsed_table,\n",
    "    ).relative_frequency_table\n",
    "    \n",
    "    # Persist qza file\n",
    "    relative_frequency_path = os.path.join(qiime_folder, f'collapsed_{tax_lvl}_relative_frequency_table.qza')\n",
    "    relative_frequency_tab.save(filepath=relative_frequency_path)\n",
    "    \n",
    "    # Create a new table with metaheader\n",
    "    out_csv = os.path.join(lefse_folder, f'collapsed_{tax_lvl}_relative_frequency_table_with_metaheader.tsv')\n",
    "    process_biom_file(relative_frequency_tab, metadata_tab, class_id, out_csv)\n",
    "    process_lefse(out_csv, tax_lvl)    "
   ]
  },
  {
   "cell_type": "markdown",
   "id": "f4afe726",
   "metadata": {
    "papermill": {
     "duration": 0.001829,
     "end_time": "2024-08-08T17:53:11.814514",
     "exception": false,
     "start_time": "2024-08-08T17:53:11.812685",
     "status": "completed"
    },
    "tags": []
   },
   "source": [
    "## Perform LEfSe analysis"
   ]
  },
  {
   "cell_type": "code",
   "execution_count": 15,
   "id": "6dd3ee96",
   "metadata": {
    "execution": {
     "iopub.execute_input": "2024-08-08T17:53:11.821533Z",
     "iopub.status.busy": "2024-08-08T17:53:11.821380Z",
     "iopub.status.idle": "2024-08-08T17:54:09.376608Z",
     "shell.execute_reply": "2024-08-08T17:54:09.375089Z"
    },
    "papermill": {
     "duration": 57.563156,
     "end_time": "2024-08-08T17:54:09.379514",
     "exception": false,
     "start_time": "2024-08-08T17:53:11.816358",
     "status": "completed"
    },
    "scrolled": false,
    "tags": []
   },
   "outputs": [
    {
     "name": "stdout",
     "output_type": "stream",
     "text": [
      "Processing level: 1\n",
      "Number of significantly discriminative features: 0 ( 0 ) before internal wilcoxon\n",
      "No features with significant differences between the two classes\n",
      "Number of discriminative features with abs LDA score > 2.0 : 0\n",
      "/home/linuxbrew/.linuxbrew/Cellar/lefse/1.0.0-dev-e3cabe9/libexec/lib/python2.7/site-packages/matplotlib/font_manager.py:273: UserWarning: Matplotlib is building the font cache using fc-list. This may take a moment.\n",
      "  warnings.warn('Matplotlib is building the font cache using fc-list. This may take a moment.')\n",
      "No differentially abundant features found in mnt/nupeb/rede-micro/redemicro-ana-flavia-nutri/experiments/ana-flavia-all/lefse/collapsed_1_relative_frequency_table_with_metaheader.res\n",
      "/home/linuxbrew/.linuxbrew/Cellar/lefse/1.0.0-dev-e3cabe9/libexec/lib/python2.7/site-packages/matplotlib/font_manager.py:273: UserWarning: Matplotlib is building the font cache using fc-list. This may take a moment.\n",
      "  warnings.warn('Matplotlib is building the font cache using fc-list. This may take a moment.')\n",
      "Processing level: 2\n",
      "Number of significantly discriminative features: 5 ( 5 ) before internal wilcoxon\n",
      "Number of discriminative features with abs LDA score > 2.0 : 5\n",
      "/home/linuxbrew/.linuxbrew/Cellar/lefse/1.0.0-dev-e3cabe9/libexec/lib/python2.7/site-packages/matplotlib/font_manager.py:273: UserWarning: Matplotlib is building the font cache using fc-list. This may take a moment.\n",
      "  warnings.warn('Matplotlib is building the font cache using fc-list. This may take a moment.')\n",
      "/home/linuxbrew/.linuxbrew/Cellar/lefse/1.0.0-dev-e3cabe9/libexec/lib/python2.7/site-packages/matplotlib/font_manager.py:273: UserWarning: Matplotlib is building the font cache using fc-list. This may take a moment.\n",
      "  warnings.warn('Matplotlib is building the font cache using fc-list. This may take a moment.')\n",
      "Processing level: 3\n",
      "Number of significantly discriminative features: 9 ( 9 ) before internal wilcoxon\n",
      "Number of discriminative features with abs LDA score > 2.0 : 9\n",
      "/home/linuxbrew/.linuxbrew/Cellar/lefse/1.0.0-dev-e3cabe9/libexec/lib/python2.7/site-packages/matplotlib/font_manager.py:273: UserWarning: Matplotlib is building the font cache using fc-list. This may take a moment.\n",
      "  warnings.warn('Matplotlib is building the font cache using fc-list. This may take a moment.')\n",
      "/home/linuxbrew/.linuxbrew/Cellar/lefse/1.0.0-dev-e3cabe9/libexec/lib/python2.7/site-packages/matplotlib/font_manager.py:273: UserWarning: Matplotlib is building the font cache using fc-list. This may take a moment.\n",
      "  warnings.warn('Matplotlib is building the font cache using fc-list. This may take a moment.')\n",
      "clade_sep parameter too large, lowered to 0.266967773438\n",
      "Processing level: 4\n",
      "Number of significantly discriminative features: 26 ( 26 ) before internal wilcoxon\n",
      "Number of discriminative features with abs LDA score > 2.0 : 26\n",
      "/home/linuxbrew/.linuxbrew/Cellar/lefse/1.0.0-dev-e3cabe9/libexec/lib/python2.7/site-packages/matplotlib/font_manager.py:273: UserWarning: Matplotlib is building the font cache using fc-list. This may take a moment.\n",
      "  warnings.warn('Matplotlib is building the font cache using fc-list. This may take a moment.')\n",
      "/home/linuxbrew/.linuxbrew/Cellar/lefse/1.0.0-dev-e3cabe9/libexec/lib/python2.7/site-packages/matplotlib/font_manager.py:273: UserWarning: Matplotlib is building the font cache using fc-list. This may take a moment.\n",
      "  warnings.warn('Matplotlib is building the font cache using fc-list. This may take a moment.')\n",
      "Processing level: 5\n",
      "Number of significantly discriminative features: 45 ( 45 ) before internal wilcoxon\n",
      "Number of discriminative features with abs LDA score > 2.0 : 45\n",
      "/home/linuxbrew/.linuxbrew/Cellar/lefse/1.0.0-dev-e3cabe9/libexec/lib/python2.7/site-packages/matplotlib/font_manager.py:273: UserWarning: Matplotlib is building the font cache using fc-list. This may take a moment.\n",
      "  warnings.warn('Matplotlib is building the font cache using fc-list. This may take a moment.')\n",
      "/home/linuxbrew/.linuxbrew/Cellar/lefse/1.0.0-dev-e3cabe9/libexec/lib/python2.7/site-packages/matplotlib/font_manager.py:273: UserWarning: Matplotlib is building the font cache using fc-list. This may take a moment.\n",
      "  warnings.warn('Matplotlib is building the font cache using fc-list. This may take a moment.')\n",
      "clade_sep parameter too large, lowered to 0.266967773438\n",
      "Processing level: 6\n",
      "Number of significantly discriminative features: 72 ( 72 ) before internal wilcoxon\n",
      "Number of discriminative features with abs LDA score > 2.0 : 72\n",
      "/home/linuxbrew/.linuxbrew/Cellar/lefse/1.0.0-dev-e3cabe9/libexec/lib/python2.7/site-packages/matplotlib/font_manager.py:273: UserWarning: Matplotlib is building the font cache using fc-list. This may take a moment.\n",
      "  warnings.warn('Matplotlib is building the font cache using fc-list. This may take a moment.')\n",
      "/home/linuxbrew/.linuxbrew/Cellar/lefse/1.0.0-dev-e3cabe9/libexec/lib/python2.7/site-packages/matplotlib/font_manager.py:273: UserWarning: Matplotlib is building the font cache using fc-list. This may take a moment.\n",
      "  warnings.warn('Matplotlib is building the font cache using fc-list. This may take a moment.')\n",
      "clade_sep parameter too large, lowered to 0.266967773438\n",
      "Processing level: 7\n",
      "Number of significantly discriminative features: 98 ( 98 ) before internal wilcoxon\n",
      "Number of discriminative features with abs LDA score > 2.0 : 98\n",
      "/home/linuxbrew/.linuxbrew/Cellar/lefse/1.0.0-dev-e3cabe9/libexec/lib/python2.7/site-packages/matplotlib/font_manager.py:273: UserWarning: Matplotlib is building the font cache using fc-list. This may take a moment.\n",
      "  warnings.warn('Matplotlib is building the font cache using fc-list. This may take a moment.')\n",
      "/home/linuxbrew/.linuxbrew/Cellar/lefse/1.0.0-dev-e3cabe9/libexec/lib/python2.7/site-packages/matplotlib/font_manager.py:273: UserWarning: Matplotlib is building the font cache using fc-list. This may take a moment.\n",
      "  warnings.warn('Matplotlib is building the font cache using fc-list. This may take a moment.')\n",
      "clade_sep parameter too large, lowered to 0.200225830078\n"
     ]
    }
   ],
   "source": [
    "for tax_lvl in range(1,8):\n",
    "    print(f'Processing level: {tax_lvl}')\n",
    "    process_tax_level(tax_lvl, taxonomy, tabs, metadata_qa, class_col)"
   ]
  }
 ],
 "metadata": {
  "celltoolbar": "Edit Metadata",
  "kernelspec": {
   "display_name": "Python 3 (ipykernel)",
   "language": "python",
   "name": "python3"
  },
  "language_info": {
   "codemirror_mode": {
    "name": "ipython",
    "version": 3
   },
   "file_extension": ".py",
   "mimetype": "text/x-python",
   "name": "python",
   "nbconvert_exporter": "python",
   "pygments_lexer": "ipython3",
   "version": "3.8.15"
  },
  "papermill": {
   "default_parameters": {},
   "duration": 63.732614,
   "end_time": "2024-08-08T17:54:10.000841",
   "environment_variables": {},
   "exception": null,
   "input_path": "nb-templates/step-lefse-analysis.ipynb",
   "output_path": "/mnt/nupeb/rede-micro/redemicro-ana-flavia-nutri/experiments/ana-flavia-all/nb-executed-steps/step-lefse-analysis-ana-flavia-all.ipynb",
   "parameters": {
    "base_dir": "/mnt/nupeb/rede-micro/redemicro-ana-flavia-nutri",
    "class_col": "group-id",
    "classifier_file": "/mnt/nupeb/rede-micro/datasets/16S_classifiers_qiime2/silva-138-99-nb-classifier.qza",
    "experiment_name": "ana-flavia-all",
    "manifest_file": "/mnt/nupeb/rede-micro/redemicro-ana-flavia-nutri/data/raw/manifest-all-ana.csv",
    "metadata_file": "/mnt/nupeb/rede-micro/redemicro-ana-flavia-nutri/data/raw/metadata-all-ana.tsv",
    "overlap": 12,
    "phred": 20,
    "replace_files": false,
    "threads": 6,
    "top_n": 20,
    "trim": {
     "forward_primer": "CCTACGGGRSGCAGCAG",
     "overlap": 8,
     "reverse_primer": "GGACTACHVGGGTWTCTAAT"
    },
    "trunc_f": 0,
    "trunc_r": 0
   },
   "start_time": "2024-08-08T17:53:06.268227",
   "version": "2.6.0"
  }
 },
 "nbformat": 4,
 "nbformat_minor": 5
}
