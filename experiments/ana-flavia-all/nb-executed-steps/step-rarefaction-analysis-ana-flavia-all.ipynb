{
 "cells": [
  {
   "cell_type": "markdown",
   "id": "49b792f4",
   "metadata": {
    "papermill": {
     "duration": 0.02209,
     "end_time": "2024-01-29T19:02:23.533829",
     "exception": false,
     "start_time": "2024-01-29T19:02:23.511739",
     "status": "completed"
    },
    "tags": []
   },
   "source": [
    "# STEP : Rarefaction Analysis\n",
    "\n",
    "Using QIIME2 to create rarefaction graphs.\n",
    "\n",
    "\n",
    "## Methods\n",
    "[qiime alpha_rarefaction](https://docs.qiime2.org/2023.2/plugins/available/diversity/alpha-rarefaction/)\n",
    "```\n",
    "Generate interactive alpha rarefaction curves by computing rarefactions\n",
    "between `min_depth` and `max_depth`. The number of intermediate depths to\n",
    "compute is controlled by the `steps` parameter, with n `iterations` being\n",
    "computed at each rarefaction depth. If sample metadata is provided, samples\n",
    "may be grouped based on distinct values within a metadata column.\n",
    "```\n"
   ]
  },
  {
   "cell_type": "markdown",
   "id": "53665bfb",
   "metadata": {
    "papermill": {
     "duration": 0.038809,
     "end_time": "2024-01-29T19:02:23.587666",
     "exception": false,
     "start_time": "2024-01-29T19:02:23.548857",
     "status": "completed"
    },
    "tags": []
   },
   "source": [
    "## Setup and settings"
   ]
  },
  {
   "cell_type": "code",
   "execution_count": 1,
   "id": "6bea56bc",
   "metadata": {
    "ExecuteTime": {
     "end_time": "2022-09-22T21:43:54.326002Z",
     "start_time": "2022-09-22T21:43:47.911891Z"
    },
    "execution": {
     "iopub.execute_input": "2024-01-29T19:02:23.616823Z",
     "iopub.status.busy": "2024-01-29T19:02:23.616374Z",
     "iopub.status.idle": "2024-01-29T19:02:30.232564Z",
     "shell.execute_reply": "2024-01-29T19:02:30.231859Z"
    },
    "papermill": {
     "duration": 6.633999,
     "end_time": "2024-01-29T19:02:30.235644",
     "exception": false,
     "start_time": "2024-01-29T19:02:23.601645",
     "status": "completed"
    },
    "tags": []
   },
   "outputs": [],
   "source": [
    "# Importing packages\n",
    "import os\n",
    "import pandas as pd\n",
    "from qiime2 import Artifact\n",
    "from qiime2 import Visualization\n",
    "from qiime2 import Metadata\n",
    "from qiime2.plugins.diversity.visualizers import alpha_rarefaction\n",
    "from qiime2.plugins.diversity.visualizers import beta_rarefaction\n",
    "\n",
    "from qiime2.plugins.feature_table.methods import filter_samples\n",
    "from qiime2.plugins.feature_table.methods import filter_seqs\n",
    "\n",
    "import matplotlib.pyplot as plt\n",
    "\n",
    "%matplotlib inline"
   ]
  },
  {
   "cell_type": "code",
   "execution_count": 2,
   "id": "365d38de",
   "metadata": {
    "ExecuteTime": {
     "end_time": "2022-09-22T21:43:54.330790Z",
     "start_time": "2022-09-22T21:43:54.328358Z"
    },
    "execution": {
     "iopub.execute_input": "2024-01-29T19:02:30.269036Z",
     "iopub.status.busy": "2024-01-29T19:02:30.268669Z",
     "iopub.status.idle": "2024-01-29T19:02:30.272507Z",
     "shell.execute_reply": "2024-01-29T19:02:30.271681Z"
    },
    "papermill": {
     "duration": 0.018793,
     "end_time": "2024-01-29T19:02:30.273975",
     "exception": false,
     "start_time": "2024-01-29T19:02:30.255182",
     "status": "completed"
    },
    "tags": []
   },
   "outputs": [],
   "source": [
    "# from qiime2.plugins import demux, deblur, quality_filter, \\\n",
    "#                            metadata, feature_table, alignment, \\\n",
    "#                            phylogeny, diversity, emperor, feature_classifier, \\\n",
    "#                            taxa, composition"
   ]
  },
  {
   "cell_type": "markdown",
   "id": "b9accc2a",
   "metadata": {
    "papermill": {
     "duration": 0.012808,
     "end_time": "2024-01-29T19:02:30.325213",
     "exception": false,
     "start_time": "2024-01-29T19:02:30.312405",
     "status": "completed"
    },
    "tags": []
   },
   "source": [
    "### Receiving the parameters\n",
    "\n",
    "The following cell can receive parameters using the [papermill](https://papermill.readthedocs.io/en/latest/) tool."
   ]
  },
  {
   "cell_type": "code",
   "execution_count": 3,
   "id": "345140b2",
   "metadata": {
    "ExecuteTime": {
     "end_time": "2022-09-22T21:43:54.344271Z",
     "start_time": "2022-09-22T21:43:54.332262Z"
    },
    "execution": {
     "iopub.execute_input": "2024-01-29T19:02:30.431676Z",
     "iopub.status.busy": "2024-01-29T19:02:30.431063Z",
     "iopub.status.idle": "2024-01-29T19:02:30.435946Z",
     "shell.execute_reply": "2024-01-29T19:02:30.434949Z"
    },
    "papermill": {
     "duration": 0.020142,
     "end_time": "2024-01-29T19:02:30.437487",
     "exception": false,
     "start_time": "2024-01-29T19:02:30.417345",
     "status": "completed"
    },
    "tags": [
     "parameters"
    ]
   },
   "outputs": [],
   "source": [
    "metadata_file = '/home/lauro/nupeb/rede-micro/redemicro-miliane-nutri/data/raw/metadata/miliane-metadata-CxAC.tsv'\n",
    "base_dir = os.path.join('/', 'home', 'lauro', 'nupeb', 'rede-micro', 'redemicro-miliane-nutri')\n",
    "experiment_name = 'miliane-CxAC-trim'\n",
    "replace_files = False"
   ]
  },
  {
   "cell_type": "code",
   "execution_count": 4,
   "id": "e927a503",
   "metadata": {
    "execution": {
     "iopub.execute_input": "2024-01-29T19:02:30.468241Z",
     "iopub.status.busy": "2024-01-29T19:02:30.467883Z",
     "iopub.status.idle": "2024-01-29T19:02:30.474942Z",
     "shell.execute_reply": "2024-01-29T19:02:30.474050Z"
    },
    "papermill": {
     "duration": 0.025204,
     "end_time": "2024-01-29T19:02:30.476486",
     "exception": false,
     "start_time": "2024-01-29T19:02:30.451282",
     "status": "completed"
    },
    "tags": [
     "injected-parameters"
    ]
   },
   "outputs": [],
   "source": [
    "# Parameters\n",
    "PAPERMILL_INPUT_PATH = \"nb-templates/step-rarefaction-analysis2.ipynb\"\n",
    "PAPERMILL_OUTPUT_PATH = \"/home/lauro/nupeb/rede-micro/redemicro-ana-flavia-nutri/experiments/ana-flavia-all/nb-executed-steps/step-rarefaction-analysis-ana-flavia-all.ipynb\"\n",
    "experiment_name = \"ana-flavia-all\"\n",
    "base_dir = \"/home/lauro/nupeb/rede-micro/redemicro-ana-flavia-nutri\"\n",
    "manifest_file = \"/home/lauro/nupeb/rede-micro/redemicro-ana-flavia-nutri/data/raw/manifest-all-ana.csv\"\n",
    "metadata_file = \"/home/lauro/nupeb/rede-micro/redemicro-ana-flavia-nutri/data/raw/metadata-all-ana.tsv\"\n",
    "class_col = \"group-id\"\n",
    "classifier_file = \"/home/lauro/nupeb/rede-micro/models/silva-138-99-nb-classifier.qza\"\n",
    "top_n = 20\n",
    "replace_files = False\n",
    "phred = 20\n",
    "trunc_f = 0\n",
    "trunc_r = 0\n",
    "overlap = 12\n",
    "threads = 6\n",
    "trim = {\n",
    "    \"overlap\": 8,\n",
    "    \"forward_primer\": \"CCTACGGGRSGCAGCAG\",\n",
    "    \"reverse_primer\": \"GGACTACHVGGGTWTCTAAT\",\n",
    "}\n"
   ]
  },
  {
   "cell_type": "markdown",
   "id": "d3d36095",
   "metadata": {
    "papermill": {
     "duration": 0.013017,
     "end_time": "2024-01-29T19:02:30.505129",
     "exception": false,
     "start_time": "2024-01-29T19:02:30.492112",
     "status": "completed"
    },
    "tags": []
   },
   "source": [
    "### Defining names, paths and flags"
   ]
  },
  {
   "cell_type": "code",
   "execution_count": 5,
   "id": "3ef77901",
   "metadata": {
    "ExecuteTime": {
     "end_time": "2022-09-22T21:43:54.362004Z",
     "start_time": "2022-09-22T21:43:54.346365Z"
    },
    "execution": {
     "iopub.execute_input": "2024-01-29T19:02:30.532500Z",
     "iopub.status.busy": "2024-01-29T19:02:30.532037Z",
     "iopub.status.idle": "2024-01-29T19:02:30.911304Z",
     "shell.execute_reply": "2024-01-29T19:02:30.909382Z"
    },
    "papermill": {
     "duration": 0.396793,
     "end_time": "2024-01-29T19:02:30.915000",
     "exception": false,
     "start_time": "2024-01-29T19:02:30.518207",
     "status": "completed"
    },
    "tags": []
   },
   "outputs": [],
   "source": [
    "# Experiments\n",
    "experiment_folder = os.path.abspath(os.path.join(base_dir, 'experiments', experiment_name))\n",
    "!mkdir -p {experiment_folder}\n",
    "\n",
    "# Imgs folder\n",
    "img_folder = os.path.abspath(os.path.join(experiment_folder, 'imgs'))\n",
    "!mkdir -p {img_folder}\n",
    "\n",
    "# QIIME2 Artifacts folder\n",
    "qiime_folder = os.path.join(experiment_folder, 'qiime-artifacts')\n",
    "!mkdir -p {qiime_folder}"
   ]
  },
  {
   "cell_type": "code",
   "execution_count": 6,
   "id": "7c399093",
   "metadata": {
    "ExecuteTime": {
     "end_time": "2022-09-22T21:43:54.373657Z",
     "start_time": "2022-09-22T21:43:54.363586Z"
    },
    "execution": {
     "iopub.execute_input": "2024-01-29T19:02:30.954278Z",
     "iopub.status.busy": "2024-01-29T19:02:30.953596Z",
     "iopub.status.idle": "2024-01-29T19:02:30.964027Z",
     "shell.execute_reply": "2024-01-29T19:02:30.962817Z"
    },
    "papermill": {
     "duration": 0.029755,
     "end_time": "2024-01-29T19:02:30.966438",
     "exception": false,
     "start_time": "2024-01-29T19:02:30.936683",
     "status": "completed"
    },
    "tags": []
   },
   "outputs": [],
   "source": [
    "# Input - DADA2 Artifacts\n",
    "dada2_tabs_path = os.path.join(qiime_folder, 'dada2-tabs.qza')\n",
    "dada2_reps_path = os.path.join(qiime_folder, 'dada2-reps.qza')\n",
    "dada2_stat_path = os.path.join(qiime_folder, 'dada2-stat.qza')\n",
    "\n",
    "# Output -Rarefaction Artifacts\n",
    "alpha_rarefaction_path = os.path.join(qiime_folder, 'alpha-rarefaction.qza')\n",
    "alpha_rarefaction_view_path = os.path.join(qiime_folder, 'alpha-rarefaction.qzv')\n",
    "\n",
    "# Flag - Load or create files\n",
    "need_tax = not (os.path.isfile(alpha_rarefaction_path)) or replace_files\n",
    "need_view = not (os.path.isfile(alpha_rarefaction_view_path)) or replace_files"
   ]
  },
  {
   "cell_type": "markdown",
   "id": "b2833d33",
   "metadata": {
    "papermill": {
     "duration": 0.014395,
     "end_time": "2024-01-29T19:02:30.998048",
     "exception": false,
     "start_time": "2024-01-29T19:02:30.983653",
     "status": "completed"
    },
    "tags": []
   },
   "source": [
    "## Step execution\n",
    "\n",
    "### Load input files\n",
    "\n",
    "This Step import the QIIME2 `SampleData[PairedEndSequencesWithQuality]` Artifact with all demultiplexed sequences and the `Metadata` file."
   ]
  },
  {
   "cell_type": "code",
   "execution_count": 7,
   "id": "bb21cebd",
   "metadata": {
    "ExecuteTime": {
     "end_time": "2022-09-22T21:43:54.398034Z",
     "start_time": "2022-09-22T21:43:54.375240Z"
    },
    "execution": {
     "iopub.execute_input": "2024-01-29T19:02:31.028046Z",
     "iopub.status.busy": "2024-01-29T19:02:31.027450Z",
     "iopub.status.idle": "2024-01-29T19:02:31.048167Z",
     "shell.execute_reply": "2024-01-29T19:02:31.047336Z"
    },
    "papermill": {
     "duration": 0.037594,
     "end_time": "2024-01-29T19:02:31.049894",
     "exception": false,
     "start_time": "2024-01-29T19:02:31.012300",
     "status": "completed"
    },
    "tags": []
   },
   "outputs": [],
   "source": [
    "#Load Metadata\n",
    "metadata_qa = Metadata.load(metadata_file)"
   ]
  },
  {
   "cell_type": "code",
   "execution_count": 8,
   "id": "41821987",
   "metadata": {
    "execution": {
     "iopub.execute_input": "2024-01-29T19:02:31.083980Z",
     "iopub.status.busy": "2024-01-29T19:02:31.083547Z",
     "iopub.status.idle": "2024-01-29T19:02:31.089734Z",
     "shell.execute_reply": "2024-01-29T19:02:31.088667Z"
    },
    "papermill": {
     "duration": 0.022989,
     "end_time": "2024-01-29T19:02:31.091479",
     "exception": false,
     "start_time": "2024-01-29T19:02:31.068490",
     "status": "completed"
    },
    "tags": []
   },
   "outputs": [],
   "source": [
    "alt_tab_path = os.path.join(base_dir, 'data', 'interim', 'dada2-tabs.qza')\n",
    "# Verify if table file exists and if it is shared\n",
    "if not os.path.isfile(dada2_tabs_path) and os.path.isfile(alt_tab_path):\n",
    "    # If it is shared, create a local symbolic link\n",
    "    os.symlink(alt_tab_path, dada2_tabs_path)"
   ]
  },
  {
   "cell_type": "code",
   "execution_count": 9,
   "id": "abc87b4a",
   "metadata": {
    "ExecuteTime": {
     "end_time": "2022-09-22T21:43:54.827295Z",
     "start_time": "2022-09-22T21:43:54.399431Z"
    },
    "execution": {
     "iopub.execute_input": "2024-01-29T19:02:31.121793Z",
     "iopub.status.busy": "2024-01-29T19:02:31.121206Z",
     "iopub.status.idle": "2024-01-29T19:02:32.216284Z",
     "shell.execute_reply": "2024-01-29T19:02:32.215543Z"
    },
    "papermill": {
     "duration": 1.112172,
     "end_time": "2024-01-29T19:02:32.218054",
     "exception": false,
     "start_time": "2024-01-29T19:02:31.105882",
     "status": "completed"
    },
    "tags": []
   },
   "outputs": [
    {
     "name": "stdout",
     "output_type": "stream",
     "text": [
      "{'min_frequency': 0, 'max_frequency': None, 'min_features': 0, 'max_features': None, 'metadata': Metadata\n",
      "--------\n",
      "41 IDs x 3 columns\n",
      "sample-name: ColumnProperties(type='categorical')\n",
      "group-id:    ColumnProperties(type='categorical')\n",
      "group-desc:  ColumnProperties(type='categorical')\n",
      "\n",
      "Call to_dataframe() for a tabular representation., 'where': None, 'exclude_ids': False, 'filter_empty_features': True, 'table': 2732 x 74 <class 'biom.table.Table'> with 12512 nonzero entries (6% dense)}\n",
      "{'min_frequency': 0, 'max_frequency': None, 'min_features': 0, 'max_features': None, 'metadata': Metadata\n",
      "--------\n",
      "41 IDs x 3 columns\n",
      "sample-name: ColumnProperties(type='categorical')\n",
      "group-id:    ColumnProperties(type='categorical')\n",
      "group-desc:  ColumnProperties(type='categorical')\n",
      "\n",
      "Call to_dataframe() for a tabular representation., 'where': None, 'exclude_ids': False, 'filter_empty_features': True, 'table': 2732 x 74 <class 'biom.table.Table'> with 12512 nonzero entries (6% dense)}\n"
     ]
    }
   ],
   "source": [
    "# Load Table artifact\n",
    "tabs = Artifact.load(dada2_tabs_path)\n",
    "# Filter samples using Metadata IDs\n",
    "tabs = filter_samples(\n",
    "    table=tabs,\n",
    "    metadata=metadata_qa,\n",
    ").filtered_table\n",
    "tabs_df = tabs.view(Metadata).to_dataframe().T"
   ]
  },
  {
   "cell_type": "code",
   "execution_count": null,
   "id": "1a9a6980",
   "metadata": {
    "papermill": {
     "duration": 0.014219,
     "end_time": "2024-01-29T19:02:32.247097",
     "exception": false,
     "start_time": "2024-01-29T19:02:32.232878",
     "status": "completed"
    },
    "tags": []
   },
   "outputs": [],
   "source": []
  },
  {
   "cell_type": "markdown",
   "id": "128c14ab",
   "metadata": {
    "papermill": {
     "duration": 0.014281,
     "end_time": "2024-01-29T19:02:32.275883",
     "exception": false,
     "start_time": "2024-01-29T19:02:32.261602",
     "status": "completed"
    },
    "tags": []
   },
   "source": [
    "## Alpha Rarefaction"
   ]
  },
  {
   "cell_type": "code",
   "execution_count": 10,
   "id": "9d35f4aa",
   "metadata": {
    "ExecuteTime": {
     "end_time": "2022-09-22T21:55:53.328300Z",
     "start_time": "2022-09-22T21:55:53.318166Z"
    },
    "execution": {
     "iopub.execute_input": "2024-01-29T19:02:32.305713Z",
     "iopub.status.busy": "2024-01-29T19:02:32.305468Z",
     "iopub.status.idle": "2024-01-29T19:02:32.311633Z",
     "shell.execute_reply": "2024-01-29T19:02:32.311010Z"
    },
    "papermill": {
     "duration": 0.022671,
     "end_time": "2024-01-29T19:02:32.313197",
     "exception": false,
     "start_time": "2024-01-29T19:02:32.290526",
     "status": "completed"
    },
    "tags": []
   },
   "outputs": [],
   "source": [
    "# Get min and maximum feature counts to set sampling depth\n",
    "rank_df = tabs_df.sum().sort_values()\n",
    "min_feature_count = int(rank_df.min())\n",
    "max_feature_count = int(rank_df.max())"
   ]
  },
  {
   "cell_type": "code",
   "execution_count": 11,
   "id": "3e0cd161",
   "metadata": {
    "execution": {
     "iopub.execute_input": "2024-01-29T19:02:32.344237Z",
     "iopub.status.busy": "2024-01-29T19:02:32.344009Z",
     "iopub.status.idle": "2024-01-29T19:02:32.352603Z",
     "shell.execute_reply": "2024-01-29T19:02:32.351715Z"
    },
    "papermill": {
     "duration": 0.025506,
     "end_time": "2024-01-29T19:02:32.354457",
     "exception": false,
     "start_time": "2024-01-29T19:02:32.328951",
     "status": "completed"
    },
    "tags": []
   },
   "outputs": [],
   "source": [
    "# Add new columns with samples IDs to rarefaction\n",
    "meta_df = metadata_qa.to_dataframe()\n",
    "meta_df['samples'] = meta_df.index.to_list()\n",
    "metadata_qa = Metadata(meta_df)"
   ]
  },
  {
   "cell_type": "code",
   "execution_count": 12,
   "id": "5817cb89",
   "metadata": {
    "ExecuteTime": {
     "end_time": "2022-09-22T21:56:13.586159Z",
     "start_time": "2022-09-22T21:55:55.117935Z"
    },
    "execution": {
     "iopub.execute_input": "2024-01-29T19:02:32.385937Z",
     "iopub.status.busy": "2024-01-29T19:02:32.385706Z",
     "iopub.status.idle": "2024-01-29T19:02:56.264724Z",
     "shell.execute_reply": "2024-01-29T19:02:56.263844Z"
    },
    "papermill": {
     "duration": 23.896045,
     "end_time": "2024-01-29T19:02:56.266497",
     "exception": false,
     "start_time": "2024-01-29T19:02:32.370452",
     "status": "completed"
    },
    "tags": []
   },
   "outputs": [
    {
     "name": "stdout",
     "output_type": "stream",
     "text": [
      "{'max_depth': 465656, 'metrics': None, 'metadata': Metadata\n",
      "--------\n",
      "41 IDs x 4 columns\n",
      "sample-name: ColumnProperties(type='categorical')\n",
      "group-id:    ColumnProperties(type='categorical')\n",
      "group-desc:  ColumnProperties(type='categorical')\n",
      "samples:     ColumnProperties(type='categorical')\n",
      "\n",
      "Call to_dataframe() for a tabular representation., 'min_depth': 1, 'steps': 10, 'iterations': 10, 'table': 1967 x 41 <class 'biom.table.Table'> with 6690 nonzero entries (8% dense), 'phylogeny': None}\n",
      "{'sampling_depth': 1, 'with_replacement': False, 'table': 1967 x 41 <class 'biom.table.Table'> with 6690 nonzero entries (8% dense)}\n",
      "{'sampling_depth': 1, 'with_replacement': False, 'table': 1967 x 41 <class 'biom.table.Table'> with 6690 nonzero entries (8% dense)}\n"
     ]
    },
    {
     "name": "stdout",
     "output_type": "stream",
     "text": [
      "{'metric': 'observed_features', 'table': <artifact: FeatureTable[Frequency] uuid: 039d0984-f726-49da-a82b-0b9fe8f4513f>}\n",
      "{'table': 31 x 41 <class 'biom.table.Table'> with 41 nonzero entries (3% dense)}\n",
      "{'table': 31 x 41 <class 'biom.table.Table'> with 41 nonzero entries (3% dense)}\n",
      "{'metric': 'shannon', 'table': <artifact: FeatureTable[Frequency] uuid: 039d0984-f726-49da-a82b-0b9fe8f4513f>}\n",
      "{'drop_undefined_samples': False, 'table': 31 x 41 <class 'biom.table.Table'> with 41 nonzero entries (3% dense)}\n",
      "{'drop_undefined_samples': False, 'table': 31 x 41 <class 'biom.table.Table'> with 41 nonzero entries (3% dense)}\n",
      "{'sampling_depth': 1, 'with_replacement': False, 'table': 1967 x 41 <class 'biom.table.Table'> with 6690 nonzero entries (8% dense)}\n",
      "{'sampling_depth': 1, 'with_replacement': False, 'table': 1967 x 41 <class 'biom.table.Table'> with 6690 nonzero entries (8% dense)}\n"
     ]
    },
    {
     "name": "stdout",
     "output_type": "stream",
     "text": [
      "{'metric': 'observed_features', 'table': <artifact: FeatureTable[Frequency] uuid: 90989c6f-b1db-41cc-bb62-a8d6d51352a0>}\n",
      "{'table': 34 x 41 <class 'biom.table.Table'> with 41 nonzero entries (2% dense)}\n",
      "{'table': 34 x 41 <class 'biom.table.Table'> with 41 nonzero entries (2% dense)}\n",
      "{'metric': 'shannon', 'table': <artifact: FeatureTable[Frequency] uuid: 90989c6f-b1db-41cc-bb62-a8d6d51352a0>}\n",
      "{'drop_undefined_samples': False, 'table': 34 x 41 <class 'biom.table.Table'> with 41 nonzero entries (2% dense)}\n",
      "{'drop_undefined_samples': False, 'table': 34 x 41 <class 'biom.table.Table'> with 41 nonzero entries (2% dense)}\n",
      "{'sampling_depth': 1, 'with_replacement': False, 'table': 1967 x 41 <class 'biom.table.Table'> with 6690 nonzero entries (8% dense)}\n",
      "{'sampling_depth': 1, 'with_replacement': False, 'table': 1967 x 41 <class 'biom.table.Table'> with 6690 nonzero entries (8% dense)}\n"
     ]
    },
    {
     "name": "stdout",
     "output_type": "stream",
     "text": [
      "{'metric': 'observed_features', 'table': <artifact: FeatureTable[Frequency] uuid: 40f31034-ae5d-443b-a8a9-bcb6575ad018>}\n",
      "{'table': 34 x 41 <class 'biom.table.Table'> with 41 nonzero entries (2% dense)}\n",
      "{'table': 34 x 41 <class 'biom.table.Table'> with 41 nonzero entries (2% dense)}\n",
      "{'metric': 'shannon', 'table': <artifact: FeatureTable[Frequency] uuid: 40f31034-ae5d-443b-a8a9-bcb6575ad018>}\n",
      "{'drop_undefined_samples': False, 'table': 34 x 41 <class 'biom.table.Table'> with 41 nonzero entries (2% dense)}\n",
      "{'drop_undefined_samples': False, 'table': 34 x 41 <class 'biom.table.Table'> with 41 nonzero entries (2% dense)}\n",
      "{'sampling_depth': 1, 'with_replacement': False, 'table': 1967 x 41 <class 'biom.table.Table'> with 6690 nonzero entries (8% dense)}\n",
      "{'sampling_depth': 1, 'with_replacement': False, 'table': 1967 x 41 <class 'biom.table.Table'> with 6690 nonzero entries (8% dense)}\n"
     ]
    },
    {
     "name": "stdout",
     "output_type": "stream",
     "text": [
      "{'metric': 'observed_features', 'table': <artifact: FeatureTable[Frequency] uuid: 0073c8ab-9de2-4ba0-b693-327785035722>}\n",
      "{'table': 31 x 41 <class 'biom.table.Table'> with 41 nonzero entries (3% dense)}\n",
      "{'table': 31 x 41 <class 'biom.table.Table'> with 41 nonzero entries (3% dense)}\n",
      "{'metric': 'shannon', 'table': <artifact: FeatureTable[Frequency] uuid: 0073c8ab-9de2-4ba0-b693-327785035722>}\n",
      "{'drop_undefined_samples': False, 'table': 31 x 41 <class 'biom.table.Table'> with 41 nonzero entries (3% dense)}\n",
      "{'drop_undefined_samples': False, 'table': 31 x 41 <class 'biom.table.Table'> with 41 nonzero entries (3% dense)}\n",
      "{'sampling_depth': 1, 'with_replacement': False, 'table': 1967 x 41 <class 'biom.table.Table'> with 6690 nonzero entries (8% dense)}\n",
      "{'sampling_depth': 1, 'with_replacement': False, 'table': 1967 x 41 <class 'biom.table.Table'> with 6690 nonzero entries (8% dense)}\n"
     ]
    },
    {
     "name": "stdout",
     "output_type": "stream",
     "text": [
      "{'metric': 'observed_features', 'table': <artifact: FeatureTable[Frequency] uuid: d0708e7a-af21-48f4-918e-42c9ed048efb>}\n",
      "{'table': 35 x 41 <class 'biom.table.Table'> with 41 nonzero entries (2% dense)}\n",
      "{'table': 35 x 41 <class 'biom.table.Table'> with 41 nonzero entries (2% dense)}\n",
      "{'metric': 'shannon', 'table': <artifact: FeatureTable[Frequency] uuid: d0708e7a-af21-48f4-918e-42c9ed048efb>}\n",
      "{'drop_undefined_samples': False, 'table': 35 x 41 <class 'biom.table.Table'> with 41 nonzero entries (2% dense)}\n",
      "{'drop_undefined_samples': False, 'table': 35 x 41 <class 'biom.table.Table'> with 41 nonzero entries (2% dense)}\n",
      "{'sampling_depth': 1, 'with_replacement': False, 'table': 1967 x 41 <class 'biom.table.Table'> with 6690 nonzero entries (8% dense)}\n",
      "{'sampling_depth': 1, 'with_replacement': False, 'table': 1967 x 41 <class 'biom.table.Table'> with 6690 nonzero entries (8% dense)}\n"
     ]
    },
    {
     "name": "stdout",
     "output_type": "stream",
     "text": [
      "{'metric': 'observed_features', 'table': <artifact: FeatureTable[Frequency] uuid: 954d019c-af77-4892-9ff7-2e5419c2f448>}\n",
      "{'table': 37 x 41 <class 'biom.table.Table'> with 41 nonzero entries (2% dense)}\n",
      "{'table': 37 x 41 <class 'biom.table.Table'> with 41 nonzero entries (2% dense)}\n",
      "{'metric': 'shannon', 'table': <artifact: FeatureTable[Frequency] uuid: 954d019c-af77-4892-9ff7-2e5419c2f448>}\n",
      "{'drop_undefined_samples': False, 'table': 37 x 41 <class 'biom.table.Table'> with 41 nonzero entries (2% dense)}\n",
      "{'drop_undefined_samples': False, 'table': 37 x 41 <class 'biom.table.Table'> with 41 nonzero entries (2% dense)}\n",
      "{'sampling_depth': 1, 'with_replacement': False, 'table': 1967 x 41 <class 'biom.table.Table'> with 6690 nonzero entries (8% dense)}\n",
      "{'sampling_depth': 1, 'with_replacement': False, 'table': 1967 x 41 <class 'biom.table.Table'> with 6690 nonzero entries (8% dense)}\n"
     ]
    },
    {
     "name": "stdout",
     "output_type": "stream",
     "text": [
      "{'metric': 'observed_features', 'table': <artifact: FeatureTable[Frequency] uuid: c75a1496-95ae-435d-b917-8cf12d77bda3>}\n",
      "{'table': 34 x 41 <class 'biom.table.Table'> with 41 nonzero entries (2% dense)}\n",
      "{'table': 34 x 41 <class 'biom.table.Table'> with 41 nonzero entries (2% dense)}\n",
      "{'metric': 'shannon', 'table': <artifact: FeatureTable[Frequency] uuid: c75a1496-95ae-435d-b917-8cf12d77bda3>}\n",
      "{'drop_undefined_samples': False, 'table': 34 x 41 <class 'biom.table.Table'> with 41 nonzero entries (2% dense)}\n",
      "{'drop_undefined_samples': False, 'table': 34 x 41 <class 'biom.table.Table'> with 41 nonzero entries (2% dense)}\n",
      "{'sampling_depth': 1, 'with_replacement': False, 'table': 1967 x 41 <class 'biom.table.Table'> with 6690 nonzero entries (8% dense)}\n",
      "{'sampling_depth': 1, 'with_replacement': False, 'table': 1967 x 41 <class 'biom.table.Table'> with 6690 nonzero entries (8% dense)}\n"
     ]
    },
    {
     "name": "stdout",
     "output_type": "stream",
     "text": [
      "{'metric': 'observed_features', 'table': <artifact: FeatureTable[Frequency] uuid: 7145f0e1-d054-4cad-a857-3790a02f4733>}\n",
      "{'table': 35 x 41 <class 'biom.table.Table'> with 41 nonzero entries (2% dense)}\n",
      "{'table': 35 x 41 <class 'biom.table.Table'> with 41 nonzero entries (2% dense)}\n",
      "{'metric': 'shannon', 'table': <artifact: FeatureTable[Frequency] uuid: 7145f0e1-d054-4cad-a857-3790a02f4733>}\n",
      "{'drop_undefined_samples': False, 'table': 35 x 41 <class 'biom.table.Table'> with 41 nonzero entries (2% dense)}\n",
      "{'drop_undefined_samples': False, 'table': 35 x 41 <class 'biom.table.Table'> with 41 nonzero entries (2% dense)}\n",
      "{'sampling_depth': 1, 'with_replacement': False, 'table': 1967 x 41 <class 'biom.table.Table'> with 6690 nonzero entries (8% dense)}\n",
      "{'sampling_depth': 1, 'with_replacement': False, 'table': 1967 x 41 <class 'biom.table.Table'> with 6690 nonzero entries (8% dense)}\n"
     ]
    },
    {
     "name": "stdout",
     "output_type": "stream",
     "text": [
      "{'metric': 'observed_features', 'table': <artifact: FeatureTable[Frequency] uuid: bad37b75-e9e7-418e-a30e-16c6b51f0ad1>}\n",
      "{'table': 29 x 41 <class 'biom.table.Table'> with 41 nonzero entries (3% dense)}\n",
      "{'table': 29 x 41 <class 'biom.table.Table'> with 41 nonzero entries (3% dense)}\n",
      "{'metric': 'shannon', 'table': <artifact: FeatureTable[Frequency] uuid: bad37b75-e9e7-418e-a30e-16c6b51f0ad1>}\n",
      "{'drop_undefined_samples': False, 'table': 29 x 41 <class 'biom.table.Table'> with 41 nonzero entries (3% dense)}\n",
      "{'drop_undefined_samples': False, 'table': 29 x 41 <class 'biom.table.Table'> with 41 nonzero entries (3% dense)}\n",
      "{'sampling_depth': 1, 'with_replacement': False, 'table': 1967 x 41 <class 'biom.table.Table'> with 6690 nonzero entries (8% dense)}\n",
      "{'sampling_depth': 1, 'with_replacement': False, 'table': 1967 x 41 <class 'biom.table.Table'> with 6690 nonzero entries (8% dense)}\n"
     ]
    },
    {
     "name": "stdout",
     "output_type": "stream",
     "text": [
      "{'metric': 'observed_features', 'table': <artifact: FeatureTable[Frequency] uuid: ec6a6d1f-1587-4c61-8f3d-1784e2471abe>}\n",
      "{'table': 30 x 41 <class 'biom.table.Table'> with 41 nonzero entries (3% dense)}\n",
      "{'table': 30 x 41 <class 'biom.table.Table'> with 41 nonzero entries (3% dense)}\n",
      "{'metric': 'shannon', 'table': <artifact: FeatureTable[Frequency] uuid: ec6a6d1f-1587-4c61-8f3d-1784e2471abe>}\n",
      "{'drop_undefined_samples': False, 'table': 30 x 41 <class 'biom.table.Table'> with 41 nonzero entries (3% dense)}\n",
      "{'drop_undefined_samples': False, 'table': 30 x 41 <class 'biom.table.Table'> with 41 nonzero entries (3% dense)}\n",
      "{'sampling_depth': 51740, 'with_replacement': False, 'table': 1967 x 41 <class 'biom.table.Table'> with 6690 nonzero entries (8% dense)}\n",
      "{'sampling_depth': 51740, 'with_replacement': False, 'table': 1967 x 41 <class 'biom.table.Table'> with 6690 nonzero entries (8% dense)}\n"
     ]
    },
    {
     "name": "stdout",
     "output_type": "stream",
     "text": [
      "{'metric': 'observed_features', 'table': <artifact: FeatureTable[Frequency] uuid: 9d0ee7bf-8a92-4226-8fd2-471e133e7ae6>}\n",
      "{'table': 1762 x 27 <class 'biom.table.Table'> with 5308 nonzero entries (11% dense)}\n",
      "{'table': 1762 x 27 <class 'biom.table.Table'> with 5308 nonzero entries (11% dense)}\n",
      "{'metric': 'shannon', 'table': <artifact: FeatureTable[Frequency] uuid: 9d0ee7bf-8a92-4226-8fd2-471e133e7ae6>}\n",
      "{'drop_undefined_samples': False, 'table': 1762 x 27 <class 'biom.table.Table'> with 5308 nonzero entries (11% dense)}\n",
      "{'drop_undefined_samples': False, 'table': 1762 x 27 <class 'biom.table.Table'> with 5308 nonzero entries (11% dense)}\n",
      "{'sampling_depth': 51740, 'with_replacement': False, 'table': 1967 x 41 <class 'biom.table.Table'> with 6690 nonzero entries (8% dense)}\n",
      "{'sampling_depth': 51740, 'with_replacement': False, 'table': 1967 x 41 <class 'biom.table.Table'> with 6690 nonzero entries (8% dense)}\n"
     ]
    },
    {
     "name": "stdout",
     "output_type": "stream",
     "text": [
      "{'metric': 'observed_features', 'table': <artifact: FeatureTable[Frequency] uuid: befd4a58-7250-40e9-9cbe-a162c18e071c>}\n",
      "{'table': 1760 x 27 <class 'biom.table.Table'> with 5302 nonzero entries (11% dense)}\n",
      "{'table': 1760 x 27 <class 'biom.table.Table'> with 5302 nonzero entries (11% dense)}\n",
      "{'metric': 'shannon', 'table': <artifact: FeatureTable[Frequency] uuid: befd4a58-7250-40e9-9cbe-a162c18e071c>}\n",
      "{'drop_undefined_samples': False, 'table': 1760 x 27 <class 'biom.table.Table'> with 5302 nonzero entries (11% dense)}\n",
      "{'drop_undefined_samples': False, 'table': 1760 x 27 <class 'biom.table.Table'> with 5302 nonzero entries (11% dense)}\n",
      "{'sampling_depth': 51740, 'with_replacement': False, 'table': 1967 x 41 <class 'biom.table.Table'> with 6690 nonzero entries (8% dense)}\n",
      "{'sampling_depth': 51740, 'with_replacement': False, 'table': 1967 x 41 <class 'biom.table.Table'> with 6690 nonzero entries (8% dense)}\n"
     ]
    },
    {
     "name": "stdout",
     "output_type": "stream",
     "text": [
      "{'metric': 'observed_features', 'table': <artifact: FeatureTable[Frequency] uuid: 211f871f-5a8e-487a-bd91-402c1cf91e04>}\n",
      "{'table': 1758 x 27 <class 'biom.table.Table'> with 5302 nonzero entries (11% dense)}\n",
      "{'table': 1758 x 27 <class 'biom.table.Table'> with 5302 nonzero entries (11% dense)}\n",
      "{'metric': 'shannon', 'table': <artifact: FeatureTable[Frequency] uuid: 211f871f-5a8e-487a-bd91-402c1cf91e04>}\n",
      "{'drop_undefined_samples': False, 'table': 1758 x 27 <class 'biom.table.Table'> with 5302 nonzero entries (11% dense)}\n",
      "{'drop_undefined_samples': False, 'table': 1758 x 27 <class 'biom.table.Table'> with 5302 nonzero entries (11% dense)}\n",
      "{'sampling_depth': 51740, 'with_replacement': False, 'table': 1967 x 41 <class 'biom.table.Table'> with 6690 nonzero entries (8% dense)}\n",
      "{'sampling_depth': 51740, 'with_replacement': False, 'table': 1967 x 41 <class 'biom.table.Table'> with 6690 nonzero entries (8% dense)}\n"
     ]
    },
    {
     "name": "stdout",
     "output_type": "stream",
     "text": [
      "{'metric': 'observed_features', 'table': <artifact: FeatureTable[Frequency] uuid: 263b551c-dd03-4b32-9ec6-44805067cc47>}\n",
      "{'table': 1756 x 27 <class 'biom.table.Table'> with 5297 nonzero entries (11% dense)}\n",
      "{'table': 1756 x 27 <class 'biom.table.Table'> with 5297 nonzero entries (11% dense)}\n",
      "{'metric': 'shannon', 'table': <artifact: FeatureTable[Frequency] uuid: 263b551c-dd03-4b32-9ec6-44805067cc47>}\n",
      "{'drop_undefined_samples': False, 'table': 1756 x 27 <class 'biom.table.Table'> with 5297 nonzero entries (11% dense)}\n",
      "{'drop_undefined_samples': False, 'table': 1756 x 27 <class 'biom.table.Table'> with 5297 nonzero entries (11% dense)}\n",
      "{'sampling_depth': 51740, 'with_replacement': False, 'table': 1967 x 41 <class 'biom.table.Table'> with 6690 nonzero entries (8% dense)}\n",
      "{'sampling_depth': 51740, 'with_replacement': False, 'table': 1967 x 41 <class 'biom.table.Table'> with 6690 nonzero entries (8% dense)}\n"
     ]
    },
    {
     "name": "stdout",
     "output_type": "stream",
     "text": [
      "{'metric': 'observed_features', 'table': <artifact: FeatureTable[Frequency] uuid: d8716ad5-552c-4d86-b592-761cb79f47e7>}\n",
      "{'table': 1763 x 27 <class 'biom.table.Table'> with 5310 nonzero entries (11% dense)}\n",
      "{'table': 1763 x 27 <class 'biom.table.Table'> with 5310 nonzero entries (11% dense)}\n",
      "{'metric': 'shannon', 'table': <artifact: FeatureTable[Frequency] uuid: d8716ad5-552c-4d86-b592-761cb79f47e7>}\n",
      "{'drop_undefined_samples': False, 'table': 1763 x 27 <class 'biom.table.Table'> with 5310 nonzero entries (11% dense)}\n",
      "{'drop_undefined_samples': False, 'table': 1763 x 27 <class 'biom.table.Table'> with 5310 nonzero entries (11% dense)}\n",
      "{'sampling_depth': 51740, 'with_replacement': False, 'table': 1967 x 41 <class 'biom.table.Table'> with 6690 nonzero entries (8% dense)}\n",
      "{'sampling_depth': 51740, 'with_replacement': False, 'table': 1967 x 41 <class 'biom.table.Table'> with 6690 nonzero entries (8% dense)}\n"
     ]
    },
    {
     "name": "stdout",
     "output_type": "stream",
     "text": [
      "{'metric': 'observed_features', 'table': <artifact: FeatureTable[Frequency] uuid: ba9dbd7a-edf3-484f-b05a-3a85af35b7bf>}\n",
      "{'table': 1760 x 27 <class 'biom.table.Table'> with 5308 nonzero entries (11% dense)}\n",
      "{'table': 1760 x 27 <class 'biom.table.Table'> with 5308 nonzero entries (11% dense)}\n",
      "{'metric': 'shannon', 'table': <artifact: FeatureTable[Frequency] uuid: ba9dbd7a-edf3-484f-b05a-3a85af35b7bf>}\n",
      "{'drop_undefined_samples': False, 'table': 1760 x 27 <class 'biom.table.Table'> with 5308 nonzero entries (11% dense)}\n",
      "{'drop_undefined_samples': False, 'table': 1760 x 27 <class 'biom.table.Table'> with 5308 nonzero entries (11% dense)}\n",
      "{'sampling_depth': 51740, 'with_replacement': False, 'table': 1967 x 41 <class 'biom.table.Table'> with 6690 nonzero entries (8% dense)}\n",
      "{'sampling_depth': 51740, 'with_replacement': False, 'table': 1967 x 41 <class 'biom.table.Table'> with 6690 nonzero entries (8% dense)}\n"
     ]
    },
    {
     "name": "stdout",
     "output_type": "stream",
     "text": [
      "{'metric': 'observed_features', 'table': <artifact: FeatureTable[Frequency] uuid: 1ceb40bc-9d6c-418e-b8b4-f428691c8e06>}\n",
      "{'table': 1764 x 27 <class 'biom.table.Table'> with 5311 nonzero entries (11% dense)}\n",
      "{'table': 1764 x 27 <class 'biom.table.Table'> with 5311 nonzero entries (11% dense)}\n",
      "{'metric': 'shannon', 'table': <artifact: FeatureTable[Frequency] uuid: 1ceb40bc-9d6c-418e-b8b4-f428691c8e06>}\n",
      "{'drop_undefined_samples': False, 'table': 1764 x 27 <class 'biom.table.Table'> with 5311 nonzero entries (11% dense)}\n",
      "{'drop_undefined_samples': False, 'table': 1764 x 27 <class 'biom.table.Table'> with 5311 nonzero entries (11% dense)}\n",
      "{'sampling_depth': 51740, 'with_replacement': False, 'table': 1967 x 41 <class 'biom.table.Table'> with 6690 nonzero entries (8% dense)}\n",
      "{'sampling_depth': 51740, 'with_replacement': False, 'table': 1967 x 41 <class 'biom.table.Table'> with 6690 nonzero entries (8% dense)}\n"
     ]
    },
    {
     "name": "stdout",
     "output_type": "stream",
     "text": [
      "{'metric': 'observed_features', 'table': <artifact: FeatureTable[Frequency] uuid: 783fe055-0146-4d95-9027-926b97c648f4>}\n",
      "{'table': 1755 x 27 <class 'biom.table.Table'> with 5294 nonzero entries (11% dense)}\n",
      "{'table': 1755 x 27 <class 'biom.table.Table'> with 5294 nonzero entries (11% dense)}\n",
      "{'metric': 'shannon', 'table': <artifact: FeatureTable[Frequency] uuid: 783fe055-0146-4d95-9027-926b97c648f4>}\n",
      "{'drop_undefined_samples': False, 'table': 1755 x 27 <class 'biom.table.Table'> with 5294 nonzero entries (11% dense)}\n",
      "{'drop_undefined_samples': False, 'table': 1755 x 27 <class 'biom.table.Table'> with 5294 nonzero entries (11% dense)}\n",
      "{'sampling_depth': 51740, 'with_replacement': False, 'table': 1967 x 41 <class 'biom.table.Table'> with 6690 nonzero entries (8% dense)}\n",
      "{'sampling_depth': 51740, 'with_replacement': False, 'table': 1967 x 41 <class 'biom.table.Table'> with 6690 nonzero entries (8% dense)}\n"
     ]
    },
    {
     "name": "stdout",
     "output_type": "stream",
     "text": [
      "{'metric': 'observed_features', 'table': <artifact: FeatureTable[Frequency] uuid: 8353815a-aae4-4d43-bdcc-bc8ee521e705>}\n",
      "{'table': 1757 x 27 <class 'biom.table.Table'> with 5294 nonzero entries (11% dense)}\n",
      "{'table': 1757 x 27 <class 'biom.table.Table'> with 5294 nonzero entries (11% dense)}\n",
      "{'metric': 'shannon', 'table': <artifact: FeatureTable[Frequency] uuid: 8353815a-aae4-4d43-bdcc-bc8ee521e705>}\n",
      "{'drop_undefined_samples': False, 'table': 1757 x 27 <class 'biom.table.Table'> with 5294 nonzero entries (11% dense)}\n",
      "{'drop_undefined_samples': False, 'table': 1757 x 27 <class 'biom.table.Table'> with 5294 nonzero entries (11% dense)}\n",
      "{'sampling_depth': 51740, 'with_replacement': False, 'table': 1967 x 41 <class 'biom.table.Table'> with 6690 nonzero entries (8% dense)}\n",
      "{'sampling_depth': 51740, 'with_replacement': False, 'table': 1967 x 41 <class 'biom.table.Table'> with 6690 nonzero entries (8% dense)}\n"
     ]
    },
    {
     "name": "stdout",
     "output_type": "stream",
     "text": [
      "{'metric': 'observed_features', 'table': <artifact: FeatureTable[Frequency] uuid: 2b6ce1b0-f2be-40c1-941e-6f5e26724bd4>}\n",
      "{'table': 1761 x 27 <class 'biom.table.Table'> with 5303 nonzero entries (11% dense)}\n",
      "{'table': 1761 x 27 <class 'biom.table.Table'> with 5303 nonzero entries (11% dense)}\n",
      "{'metric': 'shannon', 'table': <artifact: FeatureTable[Frequency] uuid: 2b6ce1b0-f2be-40c1-941e-6f5e26724bd4>}\n",
      "{'drop_undefined_samples': False, 'table': 1761 x 27 <class 'biom.table.Table'> with 5303 nonzero entries (11% dense)}\n",
      "{'drop_undefined_samples': False, 'table': 1761 x 27 <class 'biom.table.Table'> with 5303 nonzero entries (11% dense)}\n",
      "{'sampling_depth': 103479, 'with_replacement': False, 'table': 1967 x 41 <class 'biom.table.Table'> with 6690 nonzero entries (8% dense)}\n",
      "{'sampling_depth': 103479, 'with_replacement': False, 'table': 1967 x 41 <class 'biom.table.Table'> with 6690 nonzero entries (8% dense)}\n"
     ]
    },
    {
     "name": "stdout",
     "output_type": "stream",
     "text": [
      "{'metric': 'observed_features', 'table': <artifact: FeatureTable[Frequency] uuid: e445f205-dea1-411b-8f7c-2b16a989063f>}\n",
      "{'table': 1612 x 19 <class 'biom.table.Table'> with 4188 nonzero entries (13% dense)}\n",
      "{'table': 1612 x 19 <class 'biom.table.Table'> with 4188 nonzero entries (13% dense)}\n",
      "{'metric': 'shannon', 'table': <artifact: FeatureTable[Frequency] uuid: e445f205-dea1-411b-8f7c-2b16a989063f>}\n",
      "{'drop_undefined_samples': False, 'table': 1612 x 19 <class 'biom.table.Table'> with 4188 nonzero entries (13% dense)}\n",
      "{'drop_undefined_samples': False, 'table': 1612 x 19 <class 'biom.table.Table'> with 4188 nonzero entries (13% dense)}\n",
      "{'sampling_depth': 103479, 'with_replacement': False, 'table': 1967 x 41 <class 'biom.table.Table'> with 6690 nonzero entries (8% dense)}\n",
      "{'sampling_depth': 103479, 'with_replacement': False, 'table': 1967 x 41 <class 'biom.table.Table'> with 6690 nonzero entries (8% dense)}\n"
     ]
    },
    {
     "name": "stdout",
     "output_type": "stream",
     "text": [
      "{'metric': 'observed_features', 'table': <artifact: FeatureTable[Frequency] uuid: 2bc2c126-bdbc-4dce-9a34-0cc47d4cbc0d>}\n",
      "{'table': 1613 x 19 <class 'biom.table.Table'> with 4190 nonzero entries (13% dense)}\n",
      "{'table': 1613 x 19 <class 'biom.table.Table'> with 4190 nonzero entries (13% dense)}\n",
      "{'metric': 'shannon', 'table': <artifact: FeatureTable[Frequency] uuid: 2bc2c126-bdbc-4dce-9a34-0cc47d4cbc0d>}\n",
      "{'drop_undefined_samples': False, 'table': 1613 x 19 <class 'biom.table.Table'> with 4190 nonzero entries (13% dense)}\n",
      "{'drop_undefined_samples': False, 'table': 1613 x 19 <class 'biom.table.Table'> with 4190 nonzero entries (13% dense)}\n",
      "{'sampling_depth': 103479, 'with_replacement': False, 'table': 1967 x 41 <class 'biom.table.Table'> with 6690 nonzero entries (8% dense)}\n",
      "{'sampling_depth': 103479, 'with_replacement': False, 'table': 1967 x 41 <class 'biom.table.Table'> with 6690 nonzero entries (8% dense)}\n"
     ]
    },
    {
     "name": "stdout",
     "output_type": "stream",
     "text": [
      "{'metric': 'observed_features', 'table': <artifact: FeatureTable[Frequency] uuid: b66831d7-04b9-4f87-a4d1-599b240e072b>}\n",
      "{'table': 1613 x 19 <class 'biom.table.Table'> with 4189 nonzero entries (13% dense)}\n",
      "{'table': 1613 x 19 <class 'biom.table.Table'> with 4189 nonzero entries (13% dense)}\n",
      "{'metric': 'shannon', 'table': <artifact: FeatureTable[Frequency] uuid: b66831d7-04b9-4f87-a4d1-599b240e072b>}\n",
      "{'drop_undefined_samples': False, 'table': 1613 x 19 <class 'biom.table.Table'> with 4189 nonzero entries (13% dense)}\n",
      "{'drop_undefined_samples': False, 'table': 1613 x 19 <class 'biom.table.Table'> with 4189 nonzero entries (13% dense)}\n",
      "{'sampling_depth': 103479, 'with_replacement': False, 'table': 1967 x 41 <class 'biom.table.Table'> with 6690 nonzero entries (8% dense)}\n",
      "{'sampling_depth': 103479, 'with_replacement': False, 'table': 1967 x 41 <class 'biom.table.Table'> with 6690 nonzero entries (8% dense)}\n"
     ]
    },
    {
     "name": "stdout",
     "output_type": "stream",
     "text": [
      "{'metric': 'observed_features', 'table': <artifact: FeatureTable[Frequency] uuid: 3b7f160e-47eb-4a92-b3ae-1b71d3ea0594>}\n",
      "{'table': 1613 x 19 <class 'biom.table.Table'> with 4186 nonzero entries (13% dense)}\n",
      "{'table': 1613 x 19 <class 'biom.table.Table'> with 4186 nonzero entries (13% dense)}\n",
      "{'metric': 'shannon', 'table': <artifact: FeatureTable[Frequency] uuid: 3b7f160e-47eb-4a92-b3ae-1b71d3ea0594>}\n",
      "{'drop_undefined_samples': False, 'table': 1613 x 19 <class 'biom.table.Table'> with 4186 nonzero entries (13% dense)}\n",
      "{'drop_undefined_samples': False, 'table': 1613 x 19 <class 'biom.table.Table'> with 4186 nonzero entries (13% dense)}\n",
      "{'sampling_depth': 103479, 'with_replacement': False, 'table': 1967 x 41 <class 'biom.table.Table'> with 6690 nonzero entries (8% dense)}\n",
      "{'sampling_depth': 103479, 'with_replacement': False, 'table': 1967 x 41 <class 'biom.table.Table'> with 6690 nonzero entries (8% dense)}\n"
     ]
    },
    {
     "name": "stdout",
     "output_type": "stream",
     "text": [
      "{'metric': 'observed_features', 'table': <artifact: FeatureTable[Frequency] uuid: 3ca43e18-dcf2-4e5e-9f90-c5ba12853e35>}\n",
      "{'table': 1611 x 19 <class 'biom.table.Table'> with 4189 nonzero entries (13% dense)}\n",
      "{'table': 1611 x 19 <class 'biom.table.Table'> with 4189 nonzero entries (13% dense)}\n",
      "{'metric': 'shannon', 'table': <artifact: FeatureTable[Frequency] uuid: 3ca43e18-dcf2-4e5e-9f90-c5ba12853e35>}\n",
      "{'drop_undefined_samples': False, 'table': 1611 x 19 <class 'biom.table.Table'> with 4189 nonzero entries (13% dense)}\n",
      "{'drop_undefined_samples': False, 'table': 1611 x 19 <class 'biom.table.Table'> with 4189 nonzero entries (13% dense)}\n",
      "{'sampling_depth': 103479, 'with_replacement': False, 'table': 1967 x 41 <class 'biom.table.Table'> with 6690 nonzero entries (8% dense)}\n",
      "{'sampling_depth': 103479, 'with_replacement': False, 'table': 1967 x 41 <class 'biom.table.Table'> with 6690 nonzero entries (8% dense)}\n"
     ]
    },
    {
     "name": "stdout",
     "output_type": "stream",
     "text": [
      "{'metric': 'observed_features', 'table': <artifact: FeatureTable[Frequency] uuid: 33e7a525-8323-48dc-8266-07adee833224>}\n",
      "{'table': 1613 x 19 <class 'biom.table.Table'> with 4186 nonzero entries (13% dense)}\n",
      "{'table': 1613 x 19 <class 'biom.table.Table'> with 4186 nonzero entries (13% dense)}\n",
      "{'metric': 'shannon', 'table': <artifact: FeatureTable[Frequency] uuid: 33e7a525-8323-48dc-8266-07adee833224>}\n",
      "{'drop_undefined_samples': False, 'table': 1613 x 19 <class 'biom.table.Table'> with 4186 nonzero entries (13% dense)}\n",
      "{'drop_undefined_samples': False, 'table': 1613 x 19 <class 'biom.table.Table'> with 4186 nonzero entries (13% dense)}\n",
      "{'sampling_depth': 103479, 'with_replacement': False, 'table': 1967 x 41 <class 'biom.table.Table'> with 6690 nonzero entries (8% dense)}\n",
      "{'sampling_depth': 103479, 'with_replacement': False, 'table': 1967 x 41 <class 'biom.table.Table'> with 6690 nonzero entries (8% dense)}\n"
     ]
    },
    {
     "name": "stdout",
     "output_type": "stream",
     "text": [
      "{'metric': 'observed_features', 'table': <artifact: FeatureTable[Frequency] uuid: 7a7fa058-272f-4e17-b075-5dca90ad24ef>}\n",
      "{'table': 1612 x 19 <class 'biom.table.Table'> with 4184 nonzero entries (13% dense)}\n",
      "{'table': 1612 x 19 <class 'biom.table.Table'> with 4184 nonzero entries (13% dense)}\n",
      "{'metric': 'shannon', 'table': <artifact: FeatureTable[Frequency] uuid: 7a7fa058-272f-4e17-b075-5dca90ad24ef>}\n"
     ]
    },
    {
     "name": "stdout",
     "output_type": "stream",
     "text": [
      "{'drop_undefined_samples': False, 'table': 1612 x 19 <class 'biom.table.Table'> with 4184 nonzero entries (13% dense)}\n",
      "{'drop_undefined_samples': False, 'table': 1612 x 19 <class 'biom.table.Table'> with 4184 nonzero entries (13% dense)}\n",
      "{'sampling_depth': 103479, 'with_replacement': False, 'table': 1967 x 41 <class 'biom.table.Table'> with 6690 nonzero entries (8% dense)}\n",
      "{'sampling_depth': 103479, 'with_replacement': False, 'table': 1967 x 41 <class 'biom.table.Table'> with 6690 nonzero entries (8% dense)}\n",
      "{'metric': 'observed_features', 'table': <artifact: FeatureTable[Frequency] uuid: e57c9a02-5c1a-4cb9-b494-81835e3b85b9>}\n",
      "{'table': 1612 x 19 <class 'biom.table.Table'> with 4188 nonzero entries (13% dense)}\n",
      "{'table': 1612 x 19 <class 'biom.table.Table'> with 4188 nonzero entries (13% dense)}\n"
     ]
    },
    {
     "name": "stdout",
     "output_type": "stream",
     "text": [
      "{'metric': 'shannon', 'table': <artifact: FeatureTable[Frequency] uuid: e57c9a02-5c1a-4cb9-b494-81835e3b85b9>}\n",
      "{'drop_undefined_samples': False, 'table': 1612 x 19 <class 'biom.table.Table'> with 4188 nonzero entries (13% dense)}\n",
      "{'drop_undefined_samples': False, 'table': 1612 x 19 <class 'biom.table.Table'> with 4188 nonzero entries (13% dense)}\n",
      "{'sampling_depth': 103479, 'with_replacement': False, 'table': 1967 x 41 <class 'biom.table.Table'> with 6690 nonzero entries (8% dense)}\n",
      "{'sampling_depth': 103479, 'with_replacement': False, 'table': 1967 x 41 <class 'biom.table.Table'> with 6690 nonzero entries (8% dense)}\n",
      "{'metric': 'observed_features', 'table': <artifact: FeatureTable[Frequency] uuid: 15b2032b-0974-468a-b6d8-fc40affd5062>}\n"
     ]
    },
    {
     "name": "stdout",
     "output_type": "stream",
     "text": [
      "{'table': 1611 x 19 <class 'biom.table.Table'> with 4186 nonzero entries (13% dense)}\n",
      "{'table': 1611 x 19 <class 'biom.table.Table'> with 4186 nonzero entries (13% dense)}\n",
      "{'metric': 'shannon', 'table': <artifact: FeatureTable[Frequency] uuid: 15b2032b-0974-468a-b6d8-fc40affd5062>}\n",
      "{'drop_undefined_samples': False, 'table': 1611 x 19 <class 'biom.table.Table'> with 4186 nonzero entries (13% dense)}\n",
      "{'drop_undefined_samples': False, 'table': 1611 x 19 <class 'biom.table.Table'> with 4186 nonzero entries (13% dense)}\n",
      "{'sampling_depth': 103479, 'with_replacement': False, 'table': 1967 x 41 <class 'biom.table.Table'> with 6690 nonzero entries (8% dense)}\n",
      "{'sampling_depth': 103479, 'with_replacement': False, 'table': 1967 x 41 <class 'biom.table.Table'> with 6690 nonzero entries (8% dense)}\n"
     ]
    },
    {
     "name": "stdout",
     "output_type": "stream",
     "text": [
      "{'metric': 'observed_features', 'table': <artifact: FeatureTable[Frequency] uuid: a80ad967-a384-4159-8b0b-fc4c9fbda5e3>}\n",
      "{'table': 1613 x 19 <class 'biom.table.Table'> with 4193 nonzero entries (13% dense)}\n",
      "{'table': 1613 x 19 <class 'biom.table.Table'> with 4193 nonzero entries (13% dense)}\n",
      "{'metric': 'shannon', 'table': <artifact: FeatureTable[Frequency] uuid: a80ad967-a384-4159-8b0b-fc4c9fbda5e3>}\n",
      "{'drop_undefined_samples': False, 'table': 1613 x 19 <class 'biom.table.Table'> with 4193 nonzero entries (13% dense)}\n",
      "{'drop_undefined_samples': False, 'table': 1613 x 19 <class 'biom.table.Table'> with 4193 nonzero entries (13% dense)}\n",
      "{'sampling_depth': 155219, 'with_replacement': False, 'table': 1967 x 41 <class 'biom.table.Table'> with 6690 nonzero entries (8% dense)}\n",
      "{'sampling_depth': 155219, 'with_replacement': False, 'table': 1967 x 41 <class 'biom.table.Table'> with 6690 nonzero entries (8% dense)}\n"
     ]
    },
    {
     "name": "stdout",
     "output_type": "stream",
     "text": [
      "{'metric': 'observed_features', 'table': <artifact: FeatureTable[Frequency] uuid: 207c2438-70e6-4449-b2ca-84d12fee7dff>}\n",
      "{'table': 1366 x 13 <class 'biom.table.Table'> with 2950 nonzero entries (16% dense)}\n",
      "{'table': 1366 x 13 <class 'biom.table.Table'> with 2950 nonzero entries (16% dense)}\n",
      "{'metric': 'shannon', 'table': <artifact: FeatureTable[Frequency] uuid: 207c2438-70e6-4449-b2ca-84d12fee7dff>}\n",
      "{'drop_undefined_samples': False, 'table': 1366 x 13 <class 'biom.table.Table'> with 2950 nonzero entries (16% dense)}\n",
      "{'drop_undefined_samples': False, 'table': 1366 x 13 <class 'biom.table.Table'> with 2950 nonzero entries (16% dense)}\n",
      "{'sampling_depth': 155219, 'with_replacement': False, 'table': 1967 x 41 <class 'biom.table.Table'> with 6690 nonzero entries (8% dense)}\n",
      "{'sampling_depth': 155219, 'with_replacement': False, 'table': 1967 x 41 <class 'biom.table.Table'> with 6690 nonzero entries (8% dense)}\n"
     ]
    },
    {
     "name": "stdout",
     "output_type": "stream",
     "text": [
      "{'metric': 'observed_features', 'table': <artifact: FeatureTable[Frequency] uuid: bce659a7-3610-42d9-86fa-7e41146cdeea>}\n",
      "{'table': 1366 x 13 <class 'biom.table.Table'> with 2950 nonzero entries (16% dense)}\n",
      "{'table': 1366 x 13 <class 'biom.table.Table'> with 2950 nonzero entries (16% dense)}\n",
      "{'metric': 'shannon', 'table': <artifact: FeatureTable[Frequency] uuid: bce659a7-3610-42d9-86fa-7e41146cdeea>}\n",
      "{'drop_undefined_samples': False, 'table': 1366 x 13 <class 'biom.table.Table'> with 2950 nonzero entries (16% dense)}\n",
      "{'drop_undefined_samples': False, 'table': 1366 x 13 <class 'biom.table.Table'> with 2950 nonzero entries (16% dense)}\n",
      "{'sampling_depth': 155219, 'with_replacement': False, 'table': 1967 x 41 <class 'biom.table.Table'> with 6690 nonzero entries (8% dense)}\n",
      "{'sampling_depth': 155219, 'with_replacement': False, 'table': 1967 x 41 <class 'biom.table.Table'> with 6690 nonzero entries (8% dense)}\n"
     ]
    },
    {
     "name": "stdout",
     "output_type": "stream",
     "text": [
      "{'metric': 'observed_features', 'table': <artifact: FeatureTable[Frequency] uuid: d4a69f57-04ac-46f5-88e3-97a93f9da00e>}\n",
      "{'table': 1366 x 13 <class 'biom.table.Table'> with 2951 nonzero entries (16% dense)}\n",
      "{'table': 1366 x 13 <class 'biom.table.Table'> with 2951 nonzero entries (16% dense)}\n",
      "{'metric': 'shannon', 'table': <artifact: FeatureTable[Frequency] uuid: d4a69f57-04ac-46f5-88e3-97a93f9da00e>}\n",
      "{'drop_undefined_samples': False, 'table': 1366 x 13 <class 'biom.table.Table'> with 2951 nonzero entries (16% dense)}\n",
      "{'drop_undefined_samples': False, 'table': 1366 x 13 <class 'biom.table.Table'> with 2951 nonzero entries (16% dense)}\n",
      "{'sampling_depth': 155219, 'with_replacement': False, 'table': 1967 x 41 <class 'biom.table.Table'> with 6690 nonzero entries (8% dense)}\n",
      "{'sampling_depth': 155219, 'with_replacement': False, 'table': 1967 x 41 <class 'biom.table.Table'> with 6690 nonzero entries (8% dense)}\n"
     ]
    },
    {
     "name": "stdout",
     "output_type": "stream",
     "text": [
      "{'metric': 'observed_features', 'table': <artifact: FeatureTable[Frequency] uuid: 7e98ce67-65c1-4589-8a7a-b445a5ccea14>}\n",
      "{'table': 1366 x 13 <class 'biom.table.Table'> with 2949 nonzero entries (16% dense)}\n",
      "{'table': 1366 x 13 <class 'biom.table.Table'> with 2949 nonzero entries (16% dense)}\n",
      "{'metric': 'shannon', 'table': <artifact: FeatureTable[Frequency] uuid: 7e98ce67-65c1-4589-8a7a-b445a5ccea14>}\n",
      "{'drop_undefined_samples': False, 'table': 1366 x 13 <class 'biom.table.Table'> with 2949 nonzero entries (16% dense)}\n",
      "{'drop_undefined_samples': False, 'table': 1366 x 13 <class 'biom.table.Table'> with 2949 nonzero entries (16% dense)}\n",
      "{'sampling_depth': 155219, 'with_replacement': False, 'table': 1967 x 41 <class 'biom.table.Table'> with 6690 nonzero entries (8% dense)}\n",
      "{'sampling_depth': 155219, 'with_replacement': False, 'table': 1967 x 41 <class 'biom.table.Table'> with 6690 nonzero entries (8% dense)}\n"
     ]
    },
    {
     "name": "stdout",
     "output_type": "stream",
     "text": [
      "{'metric': 'observed_features', 'table': <artifact: FeatureTable[Frequency] uuid: 3fa0494a-7600-44ff-b1c4-67a10d28df69>}\n",
      "{'table': 1366 x 13 <class 'biom.table.Table'> with 2952 nonzero entries (16% dense)}\n",
      "{'table': 1366 x 13 <class 'biom.table.Table'> with 2952 nonzero entries (16% dense)}\n",
      "{'metric': 'shannon', 'table': <artifact: FeatureTable[Frequency] uuid: 3fa0494a-7600-44ff-b1c4-67a10d28df69>}\n",
      "{'drop_undefined_samples': False, 'table': 1366 x 13 <class 'biom.table.Table'> with 2952 nonzero entries (16% dense)}\n",
      "{'drop_undefined_samples': False, 'table': 1366 x 13 <class 'biom.table.Table'> with 2952 nonzero entries (16% dense)}\n",
      "{'sampling_depth': 155219, 'with_replacement': False, 'table': 1967 x 41 <class 'biom.table.Table'> with 6690 nonzero entries (8% dense)}\n",
      "{'sampling_depth': 155219, 'with_replacement': False, 'table': 1967 x 41 <class 'biom.table.Table'> with 6690 nonzero entries (8% dense)}\n"
     ]
    },
    {
     "name": "stdout",
     "output_type": "stream",
     "text": [
      "{'metric': 'observed_features', 'table': <artifact: FeatureTable[Frequency] uuid: 98e7a9e2-aec3-40f3-a8dc-56ae13d4fd3e>}\n",
      "{'table': 1366 x 13 <class 'biom.table.Table'> with 2951 nonzero entries (16% dense)}\n",
      "{'table': 1366 x 13 <class 'biom.table.Table'> with 2951 nonzero entries (16% dense)}\n",
      "{'metric': 'shannon', 'table': <artifact: FeatureTable[Frequency] uuid: 98e7a9e2-aec3-40f3-a8dc-56ae13d4fd3e>}\n",
      "{'drop_undefined_samples': False, 'table': 1366 x 13 <class 'biom.table.Table'> with 2951 nonzero entries (16% dense)}\n",
      "{'drop_undefined_samples': False, 'table': 1366 x 13 <class 'biom.table.Table'> with 2951 nonzero entries (16% dense)}\n",
      "{'sampling_depth': 155219, 'with_replacement': False, 'table': 1967 x 41 <class 'biom.table.Table'> with 6690 nonzero entries (8% dense)}\n",
      "{'sampling_depth': 155219, 'with_replacement': False, 'table': 1967 x 41 <class 'biom.table.Table'> with 6690 nonzero entries (8% dense)}\n"
     ]
    },
    {
     "name": "stdout",
     "output_type": "stream",
     "text": [
      "{'metric': 'observed_features', 'table': <artifact: FeatureTable[Frequency] uuid: a5a5cf69-2b18-42fd-adb8-b44e6c41b7aa>}\n",
      "{'table': 1365 x 13 <class 'biom.table.Table'> with 2951 nonzero entries (16% dense)}\n",
      "{'table': 1365 x 13 <class 'biom.table.Table'> with 2951 nonzero entries (16% dense)}\n",
      "{'metric': 'shannon', 'table': <artifact: FeatureTable[Frequency] uuid: a5a5cf69-2b18-42fd-adb8-b44e6c41b7aa>}\n",
      "{'drop_undefined_samples': False, 'table': 1365 x 13 <class 'biom.table.Table'> with 2951 nonzero entries (16% dense)}\n",
      "{'drop_undefined_samples': False, 'table': 1365 x 13 <class 'biom.table.Table'> with 2951 nonzero entries (16% dense)}\n",
      "{'sampling_depth': 155219, 'with_replacement': False, 'table': 1967 x 41 <class 'biom.table.Table'> with 6690 nonzero entries (8% dense)}\n",
      "{'sampling_depth': 155219, 'with_replacement': False, 'table': 1967 x 41 <class 'biom.table.Table'> with 6690 nonzero entries (8% dense)}\n"
     ]
    },
    {
     "name": "stdout",
     "output_type": "stream",
     "text": [
      "{'metric': 'observed_features', 'table': <artifact: FeatureTable[Frequency] uuid: 832a4801-72ab-4643-a44f-ee421feb8f59>}\n",
      "{'table': 1366 x 13 <class 'biom.table.Table'> with 2953 nonzero entries (16% dense)}\n",
      "{'table': 1366 x 13 <class 'biom.table.Table'> with 2953 nonzero entries (16% dense)}\n",
      "{'metric': 'shannon', 'table': <artifact: FeatureTable[Frequency] uuid: 832a4801-72ab-4643-a44f-ee421feb8f59>}\n",
      "{'drop_undefined_samples': False, 'table': 1366 x 13 <class 'biom.table.Table'> with 2953 nonzero entries (16% dense)}\n",
      "{'drop_undefined_samples': False, 'table': 1366 x 13 <class 'biom.table.Table'> with 2953 nonzero entries (16% dense)}\n",
      "{'sampling_depth': 155219, 'with_replacement': False, 'table': 1967 x 41 <class 'biom.table.Table'> with 6690 nonzero entries (8% dense)}\n",
      "{'sampling_depth': 155219, 'with_replacement': False, 'table': 1967 x 41 <class 'biom.table.Table'> with 6690 nonzero entries (8% dense)}\n"
     ]
    },
    {
     "name": "stdout",
     "output_type": "stream",
     "text": [
      "{'metric': 'observed_features', 'table': <artifact: FeatureTable[Frequency] uuid: 38d9b5e4-4d55-48d8-b813-b04510f19218>}\n",
      "{'table': 1366 x 13 <class 'biom.table.Table'> with 2953 nonzero entries (16% dense)}\n",
      "{'table': 1366 x 13 <class 'biom.table.Table'> with 2953 nonzero entries (16% dense)}\n",
      "{'metric': 'shannon', 'table': <artifact: FeatureTable[Frequency] uuid: 38d9b5e4-4d55-48d8-b813-b04510f19218>}\n",
      "{'drop_undefined_samples': False, 'table': 1366 x 13 <class 'biom.table.Table'> with 2953 nonzero entries (16% dense)}\n",
      "{'drop_undefined_samples': False, 'table': 1366 x 13 <class 'biom.table.Table'> with 2953 nonzero entries (16% dense)}\n",
      "{'sampling_depth': 155219, 'with_replacement': False, 'table': 1967 x 41 <class 'biom.table.Table'> with 6690 nonzero entries (8% dense)}\n",
      "{'sampling_depth': 155219, 'with_replacement': False, 'table': 1967 x 41 <class 'biom.table.Table'> with 6690 nonzero entries (8% dense)}\n"
     ]
    },
    {
     "name": "stdout",
     "output_type": "stream",
     "text": [
      "{'metric': 'observed_features', 'table': <artifact: FeatureTable[Frequency] uuid: c1f51ca6-843e-4000-92b2-31f8e21c7d68>}\n",
      "{'table': 1365 x 13 <class 'biom.table.Table'> with 2950 nonzero entries (16% dense)}\n",
      "{'table': 1365 x 13 <class 'biom.table.Table'> with 2950 nonzero entries (16% dense)}\n",
      "{'metric': 'shannon', 'table': <artifact: FeatureTable[Frequency] uuid: c1f51ca6-843e-4000-92b2-31f8e21c7d68>}\n",
      "{'drop_undefined_samples': False, 'table': 1365 x 13 <class 'biom.table.Table'> with 2950 nonzero entries (16% dense)}\n",
      "{'drop_undefined_samples': False, 'table': 1365 x 13 <class 'biom.table.Table'> with 2950 nonzero entries (16% dense)}\n",
      "{'sampling_depth': 206958, 'with_replacement': False, 'table': 1967 x 41 <class 'biom.table.Table'> with 6690 nonzero entries (8% dense)}\n",
      "{'sampling_depth': 206958, 'with_replacement': False, 'table': 1967 x 41 <class 'biom.table.Table'> with 6690 nonzero entries (8% dense)}\n"
     ]
    },
    {
     "name": "stdout",
     "output_type": "stream",
     "text": [
      "{'metric': 'observed_features', 'table': <artifact: FeatureTable[Frequency] uuid: b7f810e1-9726-4534-b131-4067d3e890d2>}\n",
      "{'table': 990 x 9 <class 'biom.table.Table'> with 1823 nonzero entries (20% dense)}\n",
      "{'table': 990 x 9 <class 'biom.table.Table'> with 1823 nonzero entries (20% dense)}\n",
      "{'metric': 'shannon', 'table': <artifact: FeatureTable[Frequency] uuid: b7f810e1-9726-4534-b131-4067d3e890d2>}\n",
      "{'drop_undefined_samples': False, 'table': 990 x 9 <class 'biom.table.Table'> with 1823 nonzero entries (20% dense)}\n",
      "{'drop_undefined_samples': False, 'table': 990 x 9 <class 'biom.table.Table'> with 1823 nonzero entries (20% dense)}\n",
      "{'sampling_depth': 206958, 'with_replacement': False, 'table': 1967 x 41 <class 'biom.table.Table'> with 6690 nonzero entries (8% dense)}\n",
      "{'sampling_depth': 206958, 'with_replacement': False, 'table': 1967 x 41 <class 'biom.table.Table'> with 6690 nonzero entries (8% dense)}\n"
     ]
    },
    {
     "name": "stdout",
     "output_type": "stream",
     "text": [
      "{'metric': 'observed_features', 'table': <artifact: FeatureTable[Frequency] uuid: 76289309-bb51-4b77-bbd2-3541ebe01728>}\n",
      "{'table': 990 x 9 <class 'biom.table.Table'> with 1824 nonzero entries (20% dense)}\n",
      "{'table': 990 x 9 <class 'biom.table.Table'> with 1824 nonzero entries (20% dense)}\n",
      "{'metric': 'shannon', 'table': <artifact: FeatureTable[Frequency] uuid: 76289309-bb51-4b77-bbd2-3541ebe01728>}\n",
      "{'drop_undefined_samples': False, 'table': 990 x 9 <class 'biom.table.Table'> with 1824 nonzero entries (20% dense)}\n",
      "{'drop_undefined_samples': False, 'table': 990 x 9 <class 'biom.table.Table'> with 1824 nonzero entries (20% dense)}\n",
      "{'sampling_depth': 206958, 'with_replacement': False, 'table': 1967 x 41 <class 'biom.table.Table'> with 6690 nonzero entries (8% dense)}\n",
      "{'sampling_depth': 206958, 'with_replacement': False, 'table': 1967 x 41 <class 'biom.table.Table'> with 6690 nonzero entries (8% dense)}\n"
     ]
    },
    {
     "name": "stdout",
     "output_type": "stream",
     "text": [
      "{'metric': 'observed_features', 'table': <artifact: FeatureTable[Frequency] uuid: 65484238-77e9-4fb6-a95f-703468e75e2e>}\n",
      "{'table': 990 x 9 <class 'biom.table.Table'> with 1824 nonzero entries (20% dense)}\n",
      "{'table': 990 x 9 <class 'biom.table.Table'> with 1824 nonzero entries (20% dense)}\n",
      "{'metric': 'shannon', 'table': <artifact: FeatureTable[Frequency] uuid: 65484238-77e9-4fb6-a95f-703468e75e2e>}\n",
      "{'drop_undefined_samples': False, 'table': 990 x 9 <class 'biom.table.Table'> with 1824 nonzero entries (20% dense)}\n",
      "{'drop_undefined_samples': False, 'table': 990 x 9 <class 'biom.table.Table'> with 1824 nonzero entries (20% dense)}\n",
      "{'sampling_depth': 206958, 'with_replacement': False, 'table': 1967 x 41 <class 'biom.table.Table'> with 6690 nonzero entries (8% dense)}\n",
      "{'sampling_depth': 206958, 'with_replacement': False, 'table': 1967 x 41 <class 'biom.table.Table'> with 6690 nonzero entries (8% dense)}\n"
     ]
    },
    {
     "name": "stdout",
     "output_type": "stream",
     "text": [
      "{'metric': 'observed_features', 'table': <artifact: FeatureTable[Frequency] uuid: 515fed20-5e42-4415-8143-97810610fe8d>}\n",
      "{'table': 990 x 9 <class 'biom.table.Table'> with 1825 nonzero entries (20% dense)}\n",
      "{'table': 990 x 9 <class 'biom.table.Table'> with 1825 nonzero entries (20% dense)}\n",
      "{'metric': 'shannon', 'table': <artifact: FeatureTable[Frequency] uuid: 515fed20-5e42-4415-8143-97810610fe8d>}\n",
      "{'drop_undefined_samples': False, 'table': 990 x 9 <class 'biom.table.Table'> with 1825 nonzero entries (20% dense)}\n",
      "{'drop_undefined_samples': False, 'table': 990 x 9 <class 'biom.table.Table'> with 1825 nonzero entries (20% dense)}\n",
      "{'sampling_depth': 206958, 'with_replacement': False, 'table': 1967 x 41 <class 'biom.table.Table'> with 6690 nonzero entries (8% dense)}\n",
      "{'sampling_depth': 206958, 'with_replacement': False, 'table': 1967 x 41 <class 'biom.table.Table'> with 6690 nonzero entries (8% dense)}\n"
     ]
    },
    {
     "name": "stdout",
     "output_type": "stream",
     "text": [
      "{'metric': 'observed_features', 'table': <artifact: FeatureTable[Frequency] uuid: 6f3b9bad-165b-4da6-a048-5deb30a17f50>}\n",
      "{'table': 990 x 9 <class 'biom.table.Table'> with 1825 nonzero entries (20% dense)}\n",
      "{'table': 990 x 9 <class 'biom.table.Table'> with 1825 nonzero entries (20% dense)}\n",
      "{'metric': 'shannon', 'table': <artifact: FeatureTable[Frequency] uuid: 6f3b9bad-165b-4da6-a048-5deb30a17f50>}\n",
      "{'drop_undefined_samples': False, 'table': 990 x 9 <class 'biom.table.Table'> with 1825 nonzero entries (20% dense)}\n",
      "{'drop_undefined_samples': False, 'table': 990 x 9 <class 'biom.table.Table'> with 1825 nonzero entries (20% dense)}\n",
      "{'sampling_depth': 206958, 'with_replacement': False, 'table': 1967 x 41 <class 'biom.table.Table'> with 6690 nonzero entries (8% dense)}\n",
      "{'sampling_depth': 206958, 'with_replacement': False, 'table': 1967 x 41 <class 'biom.table.Table'> with 6690 nonzero entries (8% dense)}\n"
     ]
    },
    {
     "name": "stdout",
     "output_type": "stream",
     "text": [
      "{'metric': 'observed_features', 'table': <artifact: FeatureTable[Frequency] uuid: 8a7c2a0e-f4f7-4504-b079-3cc63af417fe>}\n",
      "{'table': 990 x 9 <class 'biom.table.Table'> with 1825 nonzero entries (20% dense)}\n",
      "{'table': 990 x 9 <class 'biom.table.Table'> with 1825 nonzero entries (20% dense)}\n",
      "{'metric': 'shannon', 'table': <artifact: FeatureTable[Frequency] uuid: 8a7c2a0e-f4f7-4504-b079-3cc63af417fe>}\n",
      "{'drop_undefined_samples': False, 'table': 990 x 9 <class 'biom.table.Table'> with 1825 nonzero entries (20% dense)}\n",
      "{'drop_undefined_samples': False, 'table': 990 x 9 <class 'biom.table.Table'> with 1825 nonzero entries (20% dense)}\n",
      "{'sampling_depth': 206958, 'with_replacement': False, 'table': 1967 x 41 <class 'biom.table.Table'> with 6690 nonzero entries (8% dense)}\n",
      "{'sampling_depth': 206958, 'with_replacement': False, 'table': 1967 x 41 <class 'biom.table.Table'> with 6690 nonzero entries (8% dense)}\n"
     ]
    },
    {
     "name": "stdout",
     "output_type": "stream",
     "text": [
      "{'metric': 'observed_features', 'table': <artifact: FeatureTable[Frequency] uuid: 96859860-7401-4966-981f-61d3e1395935>}\n",
      "{'table': 990 x 9 <class 'biom.table.Table'> with 1825 nonzero entries (20% dense)}\n",
      "{'table': 990 x 9 <class 'biom.table.Table'> with 1825 nonzero entries (20% dense)}\n",
      "{'metric': 'shannon', 'table': <artifact: FeatureTable[Frequency] uuid: 96859860-7401-4966-981f-61d3e1395935>}\n",
      "{'drop_undefined_samples': False, 'table': 990 x 9 <class 'biom.table.Table'> with 1825 nonzero entries (20% dense)}\n",
      "{'drop_undefined_samples': False, 'table': 990 x 9 <class 'biom.table.Table'> with 1825 nonzero entries (20% dense)}\n",
      "{'sampling_depth': 206958, 'with_replacement': False, 'table': 1967 x 41 <class 'biom.table.Table'> with 6690 nonzero entries (8% dense)}\n",
      "{'sampling_depth': 206958, 'with_replacement': False, 'table': 1967 x 41 <class 'biom.table.Table'> with 6690 nonzero entries (8% dense)}\n"
     ]
    },
    {
     "name": "stdout",
     "output_type": "stream",
     "text": [
      "{'metric': 'observed_features', 'table': <artifact: FeatureTable[Frequency] uuid: eae19c19-3e27-4012-91e8-11296ba48144>}\n",
      "{'table': 990 x 9 <class 'biom.table.Table'> with 1824 nonzero entries (20% dense)}\n",
      "{'table': 990 x 9 <class 'biom.table.Table'> with 1824 nonzero entries (20% dense)}\n",
      "{'metric': 'shannon', 'table': <artifact: FeatureTable[Frequency] uuid: eae19c19-3e27-4012-91e8-11296ba48144>}\n",
      "{'drop_undefined_samples': False, 'table': 990 x 9 <class 'biom.table.Table'> with 1824 nonzero entries (20% dense)}\n",
      "{'drop_undefined_samples': False, 'table': 990 x 9 <class 'biom.table.Table'> with 1824 nonzero entries (20% dense)}\n",
      "{'sampling_depth': 206958, 'with_replacement': False, 'table': 1967 x 41 <class 'biom.table.Table'> with 6690 nonzero entries (8% dense)}\n",
      "{'sampling_depth': 206958, 'with_replacement': False, 'table': 1967 x 41 <class 'biom.table.Table'> with 6690 nonzero entries (8% dense)}\n"
     ]
    },
    {
     "name": "stdout",
     "output_type": "stream",
     "text": [
      "{'metric': 'observed_features', 'table': <artifact: FeatureTable[Frequency] uuid: 3770d590-e1a3-4077-b4ce-e86ec6c8e1a6>}\n",
      "{'table': 989 x 9 <class 'biom.table.Table'> with 1823 nonzero entries (20% dense)}\n",
      "{'table': 989 x 9 <class 'biom.table.Table'> with 1823 nonzero entries (20% dense)}\n",
      "{'metric': 'shannon', 'table': <artifact: FeatureTable[Frequency] uuid: 3770d590-e1a3-4077-b4ce-e86ec6c8e1a6>}\n",
      "{'drop_undefined_samples': False, 'table': 989 x 9 <class 'biom.table.Table'> with 1823 nonzero entries (20% dense)}\n",
      "{'drop_undefined_samples': False, 'table': 989 x 9 <class 'biom.table.Table'> with 1823 nonzero entries (20% dense)}\n",
      "{'sampling_depth': 206958, 'with_replacement': False, 'table': 1967 x 41 <class 'biom.table.Table'> with 6690 nonzero entries (8% dense)}\n",
      "{'sampling_depth': 206958, 'with_replacement': False, 'table': 1967 x 41 <class 'biom.table.Table'> with 6690 nonzero entries (8% dense)}\n"
     ]
    },
    {
     "name": "stdout",
     "output_type": "stream",
     "text": [
      "{'metric': 'observed_features', 'table': <artifact: FeatureTable[Frequency] uuid: c3143609-9c68-407d-a080-d594823cf5e9>}\n",
      "{'table': 990 x 9 <class 'biom.table.Table'> with 1824 nonzero entries (20% dense)}\n",
      "{'table': 990 x 9 <class 'biom.table.Table'> with 1824 nonzero entries (20% dense)}\n",
      "{'metric': 'shannon', 'table': <artifact: FeatureTable[Frequency] uuid: c3143609-9c68-407d-a080-d594823cf5e9>}\n",
      "{'drop_undefined_samples': False, 'table': 990 x 9 <class 'biom.table.Table'> with 1824 nonzero entries (20% dense)}\n",
      "{'drop_undefined_samples': False, 'table': 990 x 9 <class 'biom.table.Table'> with 1824 nonzero entries (20% dense)}\n",
      "{'sampling_depth': 258698, 'with_replacement': False, 'table': 1967 x 41 <class 'biom.table.Table'> with 6690 nonzero entries (8% dense)}\n",
      "{'sampling_depth': 258698, 'with_replacement': False, 'table': 1967 x 41 <class 'biom.table.Table'> with 6690 nonzero entries (8% dense)}\n",
      "{'metric': 'observed_features', 'table': <artifact: FeatureTable[Frequency] uuid: eec6bf11-9813-44c8-9105-6496921ab828>}\n",
      "{'table': 763 x 4 <class 'biom.table.Table'> with 1022 nonzero entries (33% dense)}\n",
      "{'table': 763 x 4 <class 'biom.table.Table'> with 1022 nonzero entries (33% dense)}\n"
     ]
    },
    {
     "name": "stdout",
     "output_type": "stream",
     "text": [
      "{'metric': 'shannon', 'table': <artifact: FeatureTable[Frequency] uuid: eec6bf11-9813-44c8-9105-6496921ab828>}\n",
      "{'drop_undefined_samples': False, 'table': 763 x 4 <class 'biom.table.Table'> with 1022 nonzero entries (33% dense)}\n",
      "{'drop_undefined_samples': False, 'table': 763 x 4 <class 'biom.table.Table'> with 1022 nonzero entries (33% dense)}\n",
      "{'sampling_depth': 258698, 'with_replacement': False, 'table': 1967 x 41 <class 'biom.table.Table'> with 6690 nonzero entries (8% dense)}\n",
      "{'sampling_depth': 258698, 'with_replacement': False, 'table': 1967 x 41 <class 'biom.table.Table'> with 6690 nonzero entries (8% dense)}\n",
      "{'metric': 'observed_features', 'table': <artifact: FeatureTable[Frequency] uuid: 59122543-0367-4f9e-ac78-92b4cd635d3e>}\n",
      "{'table': 763 x 4 <class 'biom.table.Table'> with 1021 nonzero entries (33% dense)}\n",
      "{'table': 763 x 4 <class 'biom.table.Table'> with 1021 nonzero entries (33% dense)}\n",
      "{'metric': 'shannon', 'table': <artifact: FeatureTable[Frequency] uuid: 59122543-0367-4f9e-ac78-92b4cd635d3e>}\n",
      "{'drop_undefined_samples': False, 'table': 763 x 4 <class 'biom.table.Table'> with 1021 nonzero entries (33% dense)}\n",
      "{'drop_undefined_samples': False, 'table': 763 x 4 <class 'biom.table.Table'> with 1021 nonzero entries (33% dense)}\n"
     ]
    },
    {
     "name": "stdout",
     "output_type": "stream",
     "text": [
      "{'sampling_depth': 258698, 'with_replacement': False, 'table': 1967 x 41 <class 'biom.table.Table'> with 6690 nonzero entries (8% dense)}\n",
      "{'sampling_depth': 258698, 'with_replacement': False, 'table': 1967 x 41 <class 'biom.table.Table'> with 6690 nonzero entries (8% dense)}\n",
      "{'metric': 'observed_features', 'table': <artifact: FeatureTable[Frequency] uuid: 09be7a62-50d1-4080-94b4-ec3b9f944450>}\n",
      "{'table': 763 x 4 <class 'biom.table.Table'> with 1022 nonzero entries (33% dense)}\n",
      "{'table': 763 x 4 <class 'biom.table.Table'> with 1022 nonzero entries (33% dense)}\n",
      "{'metric': 'shannon', 'table': <artifact: FeatureTable[Frequency] uuid: 09be7a62-50d1-4080-94b4-ec3b9f944450>}\n",
      "{'drop_undefined_samples': False, 'table': 763 x 4 <class 'biom.table.Table'> with 1022 nonzero entries (33% dense)}\n",
      "{'drop_undefined_samples': False, 'table': 763 x 4 <class 'biom.table.Table'> with 1022 nonzero entries (33% dense)}\n",
      "{'sampling_depth': 258698, 'with_replacement': False, 'table': 1967 x 41 <class 'biom.table.Table'> with 6690 nonzero entries (8% dense)}\n",
      "{'sampling_depth': 258698, 'with_replacement': False, 'table': 1967 x 41 <class 'biom.table.Table'> with 6690 nonzero entries (8% dense)}\n"
     ]
    },
    {
     "name": "stdout",
     "output_type": "stream",
     "text": [
      "{'metric': 'observed_features', 'table': <artifact: FeatureTable[Frequency] uuid: 01201d44-b8f7-41ee-8dc8-bde83fab3cf8>}\n",
      "{'table': 763 x 4 <class 'biom.table.Table'> with 1022 nonzero entries (33% dense)}\n",
      "{'table': 763 x 4 <class 'biom.table.Table'> with 1022 nonzero entries (33% dense)}\n",
      "{'metric': 'shannon', 'table': <artifact: FeatureTable[Frequency] uuid: 01201d44-b8f7-41ee-8dc8-bde83fab3cf8>}\n",
      "{'drop_undefined_samples': False, 'table': 763 x 4 <class 'biom.table.Table'> with 1022 nonzero entries (33% dense)}\n",
      "{'drop_undefined_samples': False, 'table': 763 x 4 <class 'biom.table.Table'> with 1022 nonzero entries (33% dense)}\n",
      "{'sampling_depth': 258698, 'with_replacement': False, 'table': 1967 x 41 <class 'biom.table.Table'> with 6690 nonzero entries (8% dense)}\n",
      "{'sampling_depth': 258698, 'with_replacement': False, 'table': 1967 x 41 <class 'biom.table.Table'> with 6690 nonzero entries (8% dense)}\n",
      "{'metric': 'observed_features', 'table': <artifact: FeatureTable[Frequency] uuid: 119ff7f5-2f36-4a56-ac76-2fde031bc38f>}\n",
      "{'table': 763 x 4 <class 'biom.table.Table'> with 1021 nonzero entries (33% dense)}\n",
      "{'table': 763 x 4 <class 'biom.table.Table'> with 1021 nonzero entries (33% dense)}\n"
     ]
    },
    {
     "name": "stdout",
     "output_type": "stream",
     "text": [
      "{'metric': 'shannon', 'table': <artifact: FeatureTable[Frequency] uuid: 119ff7f5-2f36-4a56-ac76-2fde031bc38f>}\n",
      "{'drop_undefined_samples': False, 'table': 763 x 4 <class 'biom.table.Table'> with 1021 nonzero entries (33% dense)}\n",
      "{'drop_undefined_samples': False, 'table': 763 x 4 <class 'biom.table.Table'> with 1021 nonzero entries (33% dense)}\n",
      "{'sampling_depth': 258698, 'with_replacement': False, 'table': 1967 x 41 <class 'biom.table.Table'> with 6690 nonzero entries (8% dense)}\n",
      "{'sampling_depth': 258698, 'with_replacement': False, 'table': 1967 x 41 <class 'biom.table.Table'> with 6690 nonzero entries (8% dense)}\n",
      "{'metric': 'observed_features', 'table': <artifact: FeatureTable[Frequency] uuid: c3f9ed2f-42c5-49e7-81d3-bfdf33f54997>}\n",
      "{'table': 763 x 4 <class 'biom.table.Table'> with 1021 nonzero entries (33% dense)}\n",
      "{'table': 763 x 4 <class 'biom.table.Table'> with 1021 nonzero entries (33% dense)}\n",
      "{'metric': 'shannon', 'table': <artifact: FeatureTable[Frequency] uuid: c3f9ed2f-42c5-49e7-81d3-bfdf33f54997>}\n",
      "{'drop_undefined_samples': False, 'table': 763 x 4 <class 'biom.table.Table'> with 1021 nonzero entries (33% dense)}\n",
      "{'drop_undefined_samples': False, 'table': 763 x 4 <class 'biom.table.Table'> with 1021 nonzero entries (33% dense)}\n"
     ]
    },
    {
     "name": "stdout",
     "output_type": "stream",
     "text": [
      "{'sampling_depth': 258698, 'with_replacement': False, 'table': 1967 x 41 <class 'biom.table.Table'> with 6690 nonzero entries (8% dense)}\n",
      "{'sampling_depth': 258698, 'with_replacement': False, 'table': 1967 x 41 <class 'biom.table.Table'> with 6690 nonzero entries (8% dense)}\n",
      "{'metric': 'observed_features', 'table': <artifact: FeatureTable[Frequency] uuid: db7f8a18-6a0c-48a8-ac76-102221828e6b>}\n",
      "{'table': 763 x 4 <class 'biom.table.Table'> with 1022 nonzero entries (33% dense)}\n",
      "{'table': 763 x 4 <class 'biom.table.Table'> with 1022 nonzero entries (33% dense)}\n",
      "{'metric': 'shannon', 'table': <artifact: FeatureTable[Frequency] uuid: db7f8a18-6a0c-48a8-ac76-102221828e6b>}\n",
      "{'drop_undefined_samples': False, 'table': 763 x 4 <class 'biom.table.Table'> with 1022 nonzero entries (33% dense)}\n",
      "{'drop_undefined_samples': False, 'table': 763 x 4 <class 'biom.table.Table'> with 1022 nonzero entries (33% dense)}\n",
      "{'sampling_depth': 258698, 'with_replacement': False, 'table': 1967 x 41 <class 'biom.table.Table'> with 6690 nonzero entries (8% dense)}\n",
      "{'sampling_depth': 258698, 'with_replacement': False, 'table': 1967 x 41 <class 'biom.table.Table'> with 6690 nonzero entries (8% dense)}\n"
     ]
    },
    {
     "name": "stdout",
     "output_type": "stream",
     "text": [
      "{'metric': 'observed_features', 'table': <artifact: FeatureTable[Frequency] uuid: 1331e472-89fd-4a1e-86f6-a5e7b5153e55>}\n",
      "{'table': 763 x 4 <class 'biom.table.Table'> with 1021 nonzero entries (33% dense)}\n",
      "{'table': 763 x 4 <class 'biom.table.Table'> with 1021 nonzero entries (33% dense)}\n",
      "{'metric': 'shannon', 'table': <artifact: FeatureTable[Frequency] uuid: 1331e472-89fd-4a1e-86f6-a5e7b5153e55>}\n",
      "{'drop_undefined_samples': False, 'table': 763 x 4 <class 'biom.table.Table'> with 1021 nonzero entries (33% dense)}\n",
      "{'drop_undefined_samples': False, 'table': 763 x 4 <class 'biom.table.Table'> with 1021 nonzero entries (33% dense)}\n",
      "{'sampling_depth': 258698, 'with_replacement': False, 'table': 1967 x 41 <class 'biom.table.Table'> with 6690 nonzero entries (8% dense)}\n",
      "{'sampling_depth': 258698, 'with_replacement': False, 'table': 1967 x 41 <class 'biom.table.Table'> with 6690 nonzero entries (8% dense)}\n"
     ]
    },
    {
     "name": "stdout",
     "output_type": "stream",
     "text": [
      "{'metric': 'observed_features', 'table': <artifact: FeatureTable[Frequency] uuid: 289ce267-eda8-4fb3-a5f2-edb3ff4ea283>}\n",
      "{'table': 763 x 4 <class 'biom.table.Table'> with 1021 nonzero entries (33% dense)}\n",
      "{'table': 763 x 4 <class 'biom.table.Table'> with 1021 nonzero entries (33% dense)}\n",
      "{'metric': 'shannon', 'table': <artifact: FeatureTable[Frequency] uuid: 289ce267-eda8-4fb3-a5f2-edb3ff4ea283>}\n",
      "{'drop_undefined_samples': False, 'table': 763 x 4 <class 'biom.table.Table'> with 1021 nonzero entries (33% dense)}\n",
      "{'drop_undefined_samples': False, 'table': 763 x 4 <class 'biom.table.Table'> with 1021 nonzero entries (33% dense)}\n",
      "{'sampling_depth': 258698, 'with_replacement': False, 'table': 1967 x 41 <class 'biom.table.Table'> with 6690 nonzero entries (8% dense)}\n",
      "{'sampling_depth': 258698, 'with_replacement': False, 'table': 1967 x 41 <class 'biom.table.Table'> with 6690 nonzero entries (8% dense)}\n"
     ]
    },
    {
     "name": "stdout",
     "output_type": "stream",
     "text": [
      "{'metric': 'observed_features', 'table': <artifact: FeatureTable[Frequency] uuid: 20716869-d547-4501-8094-173f5608f339>}\n",
      "{'table': 763 x 4 <class 'biom.table.Table'> with 1022 nonzero entries (33% dense)}\n",
      "{'table': 763 x 4 <class 'biom.table.Table'> with 1022 nonzero entries (33% dense)}\n",
      "{'metric': 'shannon', 'table': <artifact: FeatureTable[Frequency] uuid: 20716869-d547-4501-8094-173f5608f339>}\n",
      "{'drop_undefined_samples': False, 'table': 763 x 4 <class 'biom.table.Table'> with 1022 nonzero entries (33% dense)}\n",
      "{'drop_undefined_samples': False, 'table': 763 x 4 <class 'biom.table.Table'> with 1022 nonzero entries (33% dense)}\n",
      "{'sampling_depth': 310437, 'with_replacement': False, 'table': 1967 x 41 <class 'biom.table.Table'> with 6690 nonzero entries (8% dense)}\n",
      "{'sampling_depth': 310437, 'with_replacement': False, 'table': 1967 x 41 <class 'biom.table.Table'> with 6690 nonzero entries (8% dense)}\n",
      "{'metric': 'observed_features', 'table': <artifact: FeatureTable[Frequency] uuid: 3a267bb9-2ffa-40da-82ae-28935861ea11>}\n"
     ]
    },
    {
     "name": "stdout",
     "output_type": "stream",
     "text": [
      "{'table': 314 x 2 <class 'biom.table.Table'> with 386 nonzero entries (61% dense)}\n",
      "{'table': 314 x 2 <class 'biom.table.Table'> with 386 nonzero entries (61% dense)}\n",
      "{'metric': 'shannon', 'table': <artifact: FeatureTable[Frequency] uuid: 3a267bb9-2ffa-40da-82ae-28935861ea11>}\n",
      "{'drop_undefined_samples': False, 'table': 314 x 2 <class 'biom.table.Table'> with 386 nonzero entries (61% dense)}\n",
      "{'drop_undefined_samples': False, 'table': 314 x 2 <class 'biom.table.Table'> with 386 nonzero entries (61% dense)}\n",
      "{'sampling_depth': 310437, 'with_replacement': False, 'table': 1967 x 41 <class 'biom.table.Table'> with 6690 nonzero entries (8% dense)}\n",
      "{'sampling_depth': 310437, 'with_replacement': False, 'table': 1967 x 41 <class 'biom.table.Table'> with 6690 nonzero entries (8% dense)}\n",
      "{'metric': 'observed_features', 'table': <artifact: FeatureTable[Frequency] uuid: 2c52aed8-6487-43bf-9e44-0a19270cf2d6>}\n",
      "{'table': 314 x 2 <class 'biom.table.Table'> with 385 nonzero entries (61% dense)}\n",
      "{'table': 314 x 2 <class 'biom.table.Table'> with 385 nonzero entries (61% dense)}\n"
     ]
    },
    {
     "name": "stdout",
     "output_type": "stream",
     "text": [
      "{'metric': 'shannon', 'table': <artifact: FeatureTable[Frequency] uuid: 2c52aed8-6487-43bf-9e44-0a19270cf2d6>}\n",
      "{'drop_undefined_samples': False, 'table': 314 x 2 <class 'biom.table.Table'> with 385 nonzero entries (61% dense)}\n",
      "{'drop_undefined_samples': False, 'table': 314 x 2 <class 'biom.table.Table'> with 385 nonzero entries (61% dense)}\n",
      "{'sampling_depth': 310437, 'with_replacement': False, 'table': 1967 x 41 <class 'biom.table.Table'> with 6690 nonzero entries (8% dense)}\n",
      "{'sampling_depth': 310437, 'with_replacement': False, 'table': 1967 x 41 <class 'biom.table.Table'> with 6690 nonzero entries (8% dense)}\n",
      "{'metric': 'observed_features', 'table': <artifact: FeatureTable[Frequency] uuid: f0aa6799-09c2-4114-93b9-2e1317566fc6>}\n",
      "{'table': 314 x 2 <class 'biom.table.Table'> with 386 nonzero entries (61% dense)}\n",
      "{'table': 314 x 2 <class 'biom.table.Table'> with 386 nonzero entries (61% dense)}\n",
      "{'metric': 'shannon', 'table': <artifact: FeatureTable[Frequency] uuid: f0aa6799-09c2-4114-93b9-2e1317566fc6>}\n"
     ]
    },
    {
     "name": "stdout",
     "output_type": "stream",
     "text": [
      "{'drop_undefined_samples': False, 'table': 314 x 2 <class 'biom.table.Table'> with 386 nonzero entries (61% dense)}\n",
      "{'drop_undefined_samples': False, 'table': 314 x 2 <class 'biom.table.Table'> with 386 nonzero entries (61% dense)}\n",
      "{'sampling_depth': 310437, 'with_replacement': False, 'table': 1967 x 41 <class 'biom.table.Table'> with 6690 nonzero entries (8% dense)}\n",
      "{'sampling_depth': 310437, 'with_replacement': False, 'table': 1967 x 41 <class 'biom.table.Table'> with 6690 nonzero entries (8% dense)}\n",
      "{'metric': 'observed_features', 'table': <artifact: FeatureTable[Frequency] uuid: 7e0ad335-95fb-463e-a8ba-9ad101e49e9d>}\n",
      "{'table': 314 x 2 <class 'biom.table.Table'> with 386 nonzero entries (61% dense)}\n",
      "{'table': 314 x 2 <class 'biom.table.Table'> with 386 nonzero entries (61% dense)}\n",
      "{'metric': 'shannon', 'table': <artifact: FeatureTable[Frequency] uuid: 7e0ad335-95fb-463e-a8ba-9ad101e49e9d>}\n",
      "{'drop_undefined_samples': False, 'table': 314 x 2 <class 'biom.table.Table'> with 386 nonzero entries (61% dense)}\n",
      "{'drop_undefined_samples': False, 'table': 314 x 2 <class 'biom.table.Table'> with 386 nonzero entries (61% dense)}\n"
     ]
    },
    {
     "name": "stdout",
     "output_type": "stream",
     "text": [
      "{'sampling_depth': 310437, 'with_replacement': False, 'table': 1967 x 41 <class 'biom.table.Table'> with 6690 nonzero entries (8% dense)}\n",
      "{'sampling_depth': 310437, 'with_replacement': False, 'table': 1967 x 41 <class 'biom.table.Table'> with 6690 nonzero entries (8% dense)}\n",
      "{'metric': 'observed_features', 'table': <artifact: FeatureTable[Frequency] uuid: da5d0d36-8c24-458a-a365-be4d7ed075f4>}\n",
      "{'table': 314 x 2 <class 'biom.table.Table'> with 386 nonzero entries (61% dense)}\n",
      "{'table': 314 x 2 <class 'biom.table.Table'> with 386 nonzero entries (61% dense)}\n",
      "{'metric': 'shannon', 'table': <artifact: FeatureTable[Frequency] uuid: da5d0d36-8c24-458a-a365-be4d7ed075f4>}\n",
      "{'drop_undefined_samples': False, 'table': 314 x 2 <class 'biom.table.Table'> with 386 nonzero entries (61% dense)}\n",
      "{'drop_undefined_samples': False, 'table': 314 x 2 <class 'biom.table.Table'> with 386 nonzero entries (61% dense)}\n",
      "{'sampling_depth': 310437, 'with_replacement': False, 'table': 1967 x 41 <class 'biom.table.Table'> with 6690 nonzero entries (8% dense)}\n",
      "{'sampling_depth': 310437, 'with_replacement': False, 'table': 1967 x 41 <class 'biom.table.Table'> with 6690 nonzero entries (8% dense)}\n"
     ]
    },
    {
     "name": "stdout",
     "output_type": "stream",
     "text": [
      "{'metric': 'observed_features', 'table': <artifact: FeatureTable[Frequency] uuid: de2856d3-4975-482a-9067-40323c41a077>}\n",
      "{'table': 314 x 2 <class 'biom.table.Table'> with 386 nonzero entries (61% dense)}\n",
      "{'table': 314 x 2 <class 'biom.table.Table'> with 386 nonzero entries (61% dense)}\n",
      "{'metric': 'shannon', 'table': <artifact: FeatureTable[Frequency] uuid: de2856d3-4975-482a-9067-40323c41a077>}\n",
      "{'drop_undefined_samples': False, 'table': 314 x 2 <class 'biom.table.Table'> with 386 nonzero entries (61% dense)}\n",
      "{'drop_undefined_samples': False, 'table': 314 x 2 <class 'biom.table.Table'> with 386 nonzero entries (61% dense)}\n",
      "{'sampling_depth': 310437, 'with_replacement': False, 'table': 1967 x 41 <class 'biom.table.Table'> with 6690 nonzero entries (8% dense)}\n",
      "{'sampling_depth': 310437, 'with_replacement': False, 'table': 1967 x 41 <class 'biom.table.Table'> with 6690 nonzero entries (8% dense)}\n",
      "{'metric': 'observed_features', 'table': <artifact: FeatureTable[Frequency] uuid: ea2daa8b-c0c1-4273-b62d-cdbc505f7db9>}\n"
     ]
    },
    {
     "name": "stdout",
     "output_type": "stream",
     "text": [
      "{'table': 314 x 2 <class 'biom.table.Table'> with 385 nonzero entries (61% dense)}\n",
      "{'table': 314 x 2 <class 'biom.table.Table'> with 385 nonzero entries (61% dense)}\n",
      "{'metric': 'shannon', 'table': <artifact: FeatureTable[Frequency] uuid: ea2daa8b-c0c1-4273-b62d-cdbc505f7db9>}\n",
      "{'drop_undefined_samples': False, 'table': 314 x 2 <class 'biom.table.Table'> with 385 nonzero entries (61% dense)}\n",
      "{'drop_undefined_samples': False, 'table': 314 x 2 <class 'biom.table.Table'> with 385 nonzero entries (61% dense)}\n",
      "{'sampling_depth': 310437, 'with_replacement': False, 'table': 1967 x 41 <class 'biom.table.Table'> with 6690 nonzero entries (8% dense)}\n",
      "{'sampling_depth': 310437, 'with_replacement': False, 'table': 1967 x 41 <class 'biom.table.Table'> with 6690 nonzero entries (8% dense)}\n",
      "{'metric': 'observed_features', 'table': <artifact: FeatureTable[Frequency] uuid: 9b7b7e6c-fcbe-4de1-9d78-db10da0a1097>}\n",
      "{'table': 314 x 2 <class 'biom.table.Table'> with 386 nonzero entries (61% dense)}\n",
      "{'table': 314 x 2 <class 'biom.table.Table'> with 386 nonzero entries (61% dense)}\n"
     ]
    },
    {
     "name": "stdout",
     "output_type": "stream",
     "text": [
      "{'metric': 'shannon', 'table': <artifact: FeatureTable[Frequency] uuid: 9b7b7e6c-fcbe-4de1-9d78-db10da0a1097>}\n",
      "{'drop_undefined_samples': False, 'table': 314 x 2 <class 'biom.table.Table'> with 386 nonzero entries (61% dense)}\n",
      "{'drop_undefined_samples': False, 'table': 314 x 2 <class 'biom.table.Table'> with 386 nonzero entries (61% dense)}\n",
      "{'sampling_depth': 310437, 'with_replacement': False, 'table': 1967 x 41 <class 'biom.table.Table'> with 6690 nonzero entries (8% dense)}\n",
      "{'sampling_depth': 310437, 'with_replacement': False, 'table': 1967 x 41 <class 'biom.table.Table'> with 6690 nonzero entries (8% dense)}\n",
      "{'metric': 'observed_features', 'table': <artifact: FeatureTable[Frequency] uuid: c6d2a59d-5124-477a-95e0-6f43909b7ba9>}\n",
      "{'table': 314 x 2 <class 'biom.table.Table'> with 386 nonzero entries (61% dense)}\n",
      "{'table': 314 x 2 <class 'biom.table.Table'> with 386 nonzero entries (61% dense)}\n",
      "{'metric': 'shannon', 'table': <artifact: FeatureTable[Frequency] uuid: c6d2a59d-5124-477a-95e0-6f43909b7ba9>}\n",
      "{'drop_undefined_samples': False, 'table': 314 x 2 <class 'biom.table.Table'> with 386 nonzero entries (61% dense)}\n",
      "{'drop_undefined_samples': False, 'table': 314 x 2 <class 'biom.table.Table'> with 386 nonzero entries (61% dense)}\n"
     ]
    },
    {
     "name": "stdout",
     "output_type": "stream",
     "text": [
      "{'sampling_depth': 310437, 'with_replacement': False, 'table': 1967 x 41 <class 'biom.table.Table'> with 6690 nonzero entries (8% dense)}\n",
      "{'sampling_depth': 310437, 'with_replacement': False, 'table': 1967 x 41 <class 'biom.table.Table'> with 6690 nonzero entries (8% dense)}\n",
      "{'metric': 'observed_features', 'table': <artifact: FeatureTable[Frequency] uuid: 161e1696-0a8a-445d-9633-dc7195717b1e>}\n",
      "{'table': 314 x 2 <class 'biom.table.Table'> with 386 nonzero entries (61% dense)}\n",
      "{'table': 314 x 2 <class 'biom.table.Table'> with 386 nonzero entries (61% dense)}\n",
      "{'metric': 'shannon', 'table': <artifact: FeatureTable[Frequency] uuid: 161e1696-0a8a-445d-9633-dc7195717b1e>}\n",
      "{'drop_undefined_samples': False, 'table': 314 x 2 <class 'biom.table.Table'> with 386 nonzero entries (61% dense)}\n",
      "{'drop_undefined_samples': False, 'table': 314 x 2 <class 'biom.table.Table'> with 386 nonzero entries (61% dense)}\n",
      "{'sampling_depth': 362177, 'with_replacement': False, 'table': 1967 x 41 <class 'biom.table.Table'> with 6690 nonzero entries (8% dense)}\n",
      "{'sampling_depth': 362177, 'with_replacement': False, 'table': 1967 x 41 <class 'biom.table.Table'> with 6690 nonzero entries (8% dense)}\n"
     ]
    },
    {
     "name": "stdout",
     "output_type": "stream",
     "text": [
      "{'metric': 'observed_features', 'table': <artifact: FeatureTable[Frequency] uuid: bc8038a3-3720-4be7-978e-fe674e66b06c>}\n",
      "{'table': 314 x 2 <class 'biom.table.Table'> with 386 nonzero entries (61% dense)}\n",
      "{'table': 314 x 2 <class 'biom.table.Table'> with 386 nonzero entries (61% dense)}\n",
      "{'metric': 'shannon', 'table': <artifact: FeatureTable[Frequency] uuid: bc8038a3-3720-4be7-978e-fe674e66b06c>}\n",
      "{'drop_undefined_samples': False, 'table': 314 x 2 <class 'biom.table.Table'> with 386 nonzero entries (61% dense)}\n",
      "{'drop_undefined_samples': False, 'table': 314 x 2 <class 'biom.table.Table'> with 386 nonzero entries (61% dense)}\n",
      "{'sampling_depth': 362177, 'with_replacement': False, 'table': 1967 x 41 <class 'biom.table.Table'> with 6690 nonzero entries (8% dense)}\n",
      "{'sampling_depth': 362177, 'with_replacement': False, 'table': 1967 x 41 <class 'biom.table.Table'> with 6690 nonzero entries (8% dense)}\n",
      "{'metric': 'observed_features', 'table': <artifact: FeatureTable[Frequency] uuid: 85540d48-1638-47fb-87d2-ccbb40bb4b2c>}\n",
      "{'table': 314 x 2 <class 'biom.table.Table'> with 386 nonzero entries (61% dense)}\n",
      "{'table': 314 x 2 <class 'biom.table.Table'> with 386 nonzero entries (61% dense)}\n"
     ]
    },
    {
     "name": "stdout",
     "output_type": "stream",
     "text": [
      "{'metric': 'shannon', 'table': <artifact: FeatureTable[Frequency] uuid: 85540d48-1638-47fb-87d2-ccbb40bb4b2c>}\n",
      "{'drop_undefined_samples': False, 'table': 314 x 2 <class 'biom.table.Table'> with 386 nonzero entries (61% dense)}\n",
      "{'drop_undefined_samples': False, 'table': 314 x 2 <class 'biom.table.Table'> with 386 nonzero entries (61% dense)}\n",
      "{'sampling_depth': 362177, 'with_replacement': False, 'table': 1967 x 41 <class 'biom.table.Table'> with 6690 nonzero entries (8% dense)}\n",
      "{'sampling_depth': 362177, 'with_replacement': False, 'table': 1967 x 41 <class 'biom.table.Table'> with 6690 nonzero entries (8% dense)}\n",
      "{'metric': 'observed_features', 'table': <artifact: FeatureTable[Frequency] uuid: 36f36426-5718-4b36-99bf-543e3b7fb6f8>}\n",
      "{'table': 314 x 2 <class 'biom.table.Table'> with 386 nonzero entries (61% dense)}\n",
      "{'table': 314 x 2 <class 'biom.table.Table'> with 386 nonzero entries (61% dense)}\n",
      "{'metric': 'shannon', 'table': <artifact: FeatureTable[Frequency] uuid: 36f36426-5718-4b36-99bf-543e3b7fb6f8>}\n",
      "{'drop_undefined_samples': False, 'table': 314 x 2 <class 'biom.table.Table'> with 386 nonzero entries (61% dense)}\n",
      "{'drop_undefined_samples': False, 'table': 314 x 2 <class 'biom.table.Table'> with 386 nonzero entries (61% dense)}\n"
     ]
    },
    {
     "name": "stdout",
     "output_type": "stream",
     "text": [
      "{'sampling_depth': 362177, 'with_replacement': False, 'table': 1967 x 41 <class 'biom.table.Table'> with 6690 nonzero entries (8% dense)}\n",
      "{'sampling_depth': 362177, 'with_replacement': False, 'table': 1967 x 41 <class 'biom.table.Table'> with 6690 nonzero entries (8% dense)}\n",
      "{'metric': 'observed_features', 'table': <artifact: FeatureTable[Frequency] uuid: ee6cb883-e3db-414a-9ad3-d0fd6b3526d2>}\n",
      "{'table': 314 x 2 <class 'biom.table.Table'> with 386 nonzero entries (61% dense)}\n",
      "{'table': 314 x 2 <class 'biom.table.Table'> with 386 nonzero entries (61% dense)}\n",
      "{'metric': 'shannon', 'table': <artifact: FeatureTable[Frequency] uuid: ee6cb883-e3db-414a-9ad3-d0fd6b3526d2>}\n",
      "{'drop_undefined_samples': False, 'table': 314 x 2 <class 'biom.table.Table'> with 386 nonzero entries (61% dense)}\n",
      "{'drop_undefined_samples': False, 'table': 314 x 2 <class 'biom.table.Table'> with 386 nonzero entries (61% dense)}\n",
      "{'sampling_depth': 362177, 'with_replacement': False, 'table': 1967 x 41 <class 'biom.table.Table'> with 6690 nonzero entries (8% dense)}\n",
      "{'sampling_depth': 362177, 'with_replacement': False, 'table': 1967 x 41 <class 'biom.table.Table'> with 6690 nonzero entries (8% dense)}\n"
     ]
    },
    {
     "name": "stdout",
     "output_type": "stream",
     "text": [
      "{'metric': 'observed_features', 'table': <artifact: FeatureTable[Frequency] uuid: c50c506c-c81b-49d0-a130-3019583c8688>}\n",
      "{'table': 314 x 2 <class 'biom.table.Table'> with 385 nonzero entries (61% dense)}\n",
      "{'table': 314 x 2 <class 'biom.table.Table'> with 385 nonzero entries (61% dense)}\n",
      "{'metric': 'shannon', 'table': <artifact: FeatureTable[Frequency] uuid: c50c506c-c81b-49d0-a130-3019583c8688>}\n",
      "{'drop_undefined_samples': False, 'table': 314 x 2 <class 'biom.table.Table'> with 385 nonzero entries (61% dense)}\n",
      "{'drop_undefined_samples': False, 'table': 314 x 2 <class 'biom.table.Table'> with 385 nonzero entries (61% dense)}\n",
      "{'sampling_depth': 362177, 'with_replacement': False, 'table': 1967 x 41 <class 'biom.table.Table'> with 6690 nonzero entries (8% dense)}\n",
      "{'sampling_depth': 362177, 'with_replacement': False, 'table': 1967 x 41 <class 'biom.table.Table'> with 6690 nonzero entries (8% dense)}\n",
      "{'metric': 'observed_features', 'table': <artifact: FeatureTable[Frequency] uuid: bc3a26fd-2c58-476d-8d0d-e0db74fd84c2>}\n",
      "{'table': 314 x 2 <class 'biom.table.Table'> with 386 nonzero entries (61% dense)}\n",
      "{'table': 314 x 2 <class 'biom.table.Table'> with 386 nonzero entries (61% dense)}\n"
     ]
    },
    {
     "name": "stdout",
     "output_type": "stream",
     "text": [
      "{'metric': 'shannon', 'table': <artifact: FeatureTable[Frequency] uuid: bc3a26fd-2c58-476d-8d0d-e0db74fd84c2>}\n",
      "{'drop_undefined_samples': False, 'table': 314 x 2 <class 'biom.table.Table'> with 386 nonzero entries (61% dense)}\n",
      "{'drop_undefined_samples': False, 'table': 314 x 2 <class 'biom.table.Table'> with 386 nonzero entries (61% dense)}\n",
      "{'sampling_depth': 362177, 'with_replacement': False, 'table': 1967 x 41 <class 'biom.table.Table'> with 6690 nonzero entries (8% dense)}\n",
      "{'sampling_depth': 362177, 'with_replacement': False, 'table': 1967 x 41 <class 'biom.table.Table'> with 6690 nonzero entries (8% dense)}\n",
      "{'metric': 'observed_features', 'table': <artifact: FeatureTable[Frequency] uuid: 113325dd-4bc8-4f76-8a35-788b1ab2f925>}\n",
      "{'table': 314 x 2 <class 'biom.table.Table'> with 386 nonzero entries (61% dense)}\n",
      "{'table': 314 x 2 <class 'biom.table.Table'> with 386 nonzero entries (61% dense)}\n",
      "{'metric': 'shannon', 'table': <artifact: FeatureTable[Frequency] uuid: 113325dd-4bc8-4f76-8a35-788b1ab2f925>}\n",
      "{'drop_undefined_samples': False, 'table': 314 x 2 <class 'biom.table.Table'> with 386 nonzero entries (61% dense)}\n",
      "{'drop_undefined_samples': False, 'table': 314 x 2 <class 'biom.table.Table'> with 386 nonzero entries (61% dense)}\n"
     ]
    },
    {
     "name": "stdout",
     "output_type": "stream",
     "text": [
      "{'sampling_depth': 362177, 'with_replacement': False, 'table': 1967 x 41 <class 'biom.table.Table'> with 6690 nonzero entries (8% dense)}\n",
      "{'sampling_depth': 362177, 'with_replacement': False, 'table': 1967 x 41 <class 'biom.table.Table'> with 6690 nonzero entries (8% dense)}\n",
      "{'metric': 'observed_features', 'table': <artifact: FeatureTable[Frequency] uuid: 9de06884-5ef0-4d8b-8196-c33ba0a43a56>}\n",
      "{'table': 314 x 2 <class 'biom.table.Table'> with 386 nonzero entries (61% dense)}\n",
      "{'table': 314 x 2 <class 'biom.table.Table'> with 386 nonzero entries (61% dense)}\n",
      "{'metric': 'shannon', 'table': <artifact: FeatureTable[Frequency] uuid: 9de06884-5ef0-4d8b-8196-c33ba0a43a56>}\n",
      "{'drop_undefined_samples': False, 'table': 314 x 2 <class 'biom.table.Table'> with 386 nonzero entries (61% dense)}\n",
      "{'drop_undefined_samples': False, 'table': 314 x 2 <class 'biom.table.Table'> with 386 nonzero entries (61% dense)}\n",
      "{'sampling_depth': 362177, 'with_replacement': False, 'table': 1967 x 41 <class 'biom.table.Table'> with 6690 nonzero entries (8% dense)}\n",
      "{'sampling_depth': 362177, 'with_replacement': False, 'table': 1967 x 41 <class 'biom.table.Table'> with 6690 nonzero entries (8% dense)}\n"
     ]
    },
    {
     "name": "stdout",
     "output_type": "stream",
     "text": [
      "{'metric': 'observed_features', 'table': <artifact: FeatureTable[Frequency] uuid: bad9e1b7-70e3-463b-968f-5f17747c4df7>}\n",
      "{'table': 314 x 2 <class 'biom.table.Table'> with 386 nonzero entries (61% dense)}\n",
      "{'table': 314 x 2 <class 'biom.table.Table'> with 386 nonzero entries (61% dense)}\n",
      "{'metric': 'shannon', 'table': <artifact: FeatureTable[Frequency] uuid: bad9e1b7-70e3-463b-968f-5f17747c4df7>}\n",
      "{'drop_undefined_samples': False, 'table': 314 x 2 <class 'biom.table.Table'> with 386 nonzero entries (61% dense)}\n",
      "{'drop_undefined_samples': False, 'table': 314 x 2 <class 'biom.table.Table'> with 386 nonzero entries (61% dense)}\n",
      "{'sampling_depth': 362177, 'with_replacement': False, 'table': 1967 x 41 <class 'biom.table.Table'> with 6690 nonzero entries (8% dense)}\n",
      "{'sampling_depth': 362177, 'with_replacement': False, 'table': 1967 x 41 <class 'biom.table.Table'> with 6690 nonzero entries (8% dense)}\n",
      "{'metric': 'observed_features', 'table': <artifact: FeatureTable[Frequency] uuid: 26835cbd-9c27-4ced-955f-53d39df008c8>}\n",
      "{'table': 314 x 2 <class 'biom.table.Table'> with 386 nonzero entries (61% dense)}\n",
      "{'table': 314 x 2 <class 'biom.table.Table'> with 386 nonzero entries (61% dense)}\n"
     ]
    },
    {
     "name": "stdout",
     "output_type": "stream",
     "text": [
      "{'metric': 'shannon', 'table': <artifact: FeatureTable[Frequency] uuid: 26835cbd-9c27-4ced-955f-53d39df008c8>}\n",
      "{'drop_undefined_samples': False, 'table': 314 x 2 <class 'biom.table.Table'> with 386 nonzero entries (61% dense)}\n",
      "{'drop_undefined_samples': False, 'table': 314 x 2 <class 'biom.table.Table'> with 386 nonzero entries (61% dense)}\n",
      "{'sampling_depth': 413916, 'with_replacement': False, 'table': 1967 x 41 <class 'biom.table.Table'> with 6690 nonzero entries (8% dense)}\n",
      "{'sampling_depth': 413916, 'with_replacement': False, 'table': 1967 x 41 <class 'biom.table.Table'> with 6690 nonzero entries (8% dense)}\n",
      "{'metric': 'observed_features', 'table': <artifact: FeatureTable[Frequency] uuid: 5c53c21c-6989-4ef9-83da-81bf835b5fc0>}\n",
      "{'table': 255 x 1 <class 'biom.table.Table'> with 255 nonzero entries (100% dense)}\n",
      "{'table': 255 x 1 <class 'biom.table.Table'> with 255 nonzero entries (100% dense)}\n",
      "{'metric': 'shannon', 'table': <artifact: FeatureTable[Frequency] uuid: 5c53c21c-6989-4ef9-83da-81bf835b5fc0>}\n",
      "{'drop_undefined_samples': False, 'table': 255 x 1 <class 'biom.table.Table'> with 255 nonzero entries (100% dense)}\n",
      "{'drop_undefined_samples': False, 'table': 255 x 1 <class 'biom.table.Table'> with 255 nonzero entries (100% dense)}\n"
     ]
    },
    {
     "name": "stdout",
     "output_type": "stream",
     "text": [
      "{'sampling_depth': 413916, 'with_replacement': False, 'table': 1967 x 41 <class 'biom.table.Table'> with 6690 nonzero entries (8% dense)}\n",
      "{'sampling_depth': 413916, 'with_replacement': False, 'table': 1967 x 41 <class 'biom.table.Table'> with 6690 nonzero entries (8% dense)}\n",
      "{'metric': 'observed_features', 'table': <artifact: FeatureTable[Frequency] uuid: f3f8bd98-e748-4f26-8a41-4e679e9f6ba3>}\n",
      "{'table': 255 x 1 <class 'biom.table.Table'> with 255 nonzero entries (100% dense)}\n",
      "{'table': 255 x 1 <class 'biom.table.Table'> with 255 nonzero entries (100% dense)}\n",
      "{'metric': 'shannon', 'table': <artifact: FeatureTable[Frequency] uuid: f3f8bd98-e748-4f26-8a41-4e679e9f6ba3>}\n",
      "{'drop_undefined_samples': False, 'table': 255 x 1 <class 'biom.table.Table'> with 255 nonzero entries (100% dense)}\n",
      "{'drop_undefined_samples': False, 'table': 255 x 1 <class 'biom.table.Table'> with 255 nonzero entries (100% dense)}\n",
      "{'sampling_depth': 413916, 'with_replacement': False, 'table': 1967 x 41 <class 'biom.table.Table'> with 6690 nonzero entries (8% dense)}\n",
      "{'sampling_depth': 413916, 'with_replacement': False, 'table': 1967 x 41 <class 'biom.table.Table'> with 6690 nonzero entries (8% dense)}\n",
      "{'metric': 'observed_features', 'table': <artifact: FeatureTable[Frequency] uuid: 55ed421e-d80f-4da0-83ee-5e227a52137f>}\n"
     ]
    },
    {
     "name": "stdout",
     "output_type": "stream",
     "text": [
      "{'table': 255 x 1 <class 'biom.table.Table'> with 255 nonzero entries (100% dense)}\n",
      "{'table': 255 x 1 <class 'biom.table.Table'> with 255 nonzero entries (100% dense)}\n",
      "{'metric': 'shannon', 'table': <artifact: FeatureTable[Frequency] uuid: 55ed421e-d80f-4da0-83ee-5e227a52137f>}\n",
      "{'drop_undefined_samples': False, 'table': 255 x 1 <class 'biom.table.Table'> with 255 nonzero entries (100% dense)}\n",
      "{'drop_undefined_samples': False, 'table': 255 x 1 <class 'biom.table.Table'> with 255 nonzero entries (100% dense)}\n",
      "{'sampling_depth': 413916, 'with_replacement': False, 'table': 1967 x 41 <class 'biom.table.Table'> with 6690 nonzero entries (8% dense)}\n",
      "{'sampling_depth': 413916, 'with_replacement': False, 'table': 1967 x 41 <class 'biom.table.Table'> with 6690 nonzero entries (8% dense)}\n",
      "{'metric': 'observed_features', 'table': <artifact: FeatureTable[Frequency] uuid: 532f8b71-75a4-4d57-af6c-bf7f7701398c>}\n",
      "{'table': 255 x 1 <class 'biom.table.Table'> with 255 nonzero entries (100% dense)}\n",
      "{'table': 255 x 1 <class 'biom.table.Table'> with 255 nonzero entries (100% dense)}\n"
     ]
    },
    {
     "name": "stdout",
     "output_type": "stream",
     "text": [
      "{'metric': 'shannon', 'table': <artifact: FeatureTable[Frequency] uuid: 532f8b71-75a4-4d57-af6c-bf7f7701398c>}\n",
      "{'drop_undefined_samples': False, 'table': 255 x 1 <class 'biom.table.Table'> with 255 nonzero entries (100% dense)}\n",
      "{'drop_undefined_samples': False, 'table': 255 x 1 <class 'biom.table.Table'> with 255 nonzero entries (100% dense)}\n",
      "{'sampling_depth': 413916, 'with_replacement': False, 'table': 1967 x 41 <class 'biom.table.Table'> with 6690 nonzero entries (8% dense)}\n",
      "{'sampling_depth': 413916, 'with_replacement': False, 'table': 1967 x 41 <class 'biom.table.Table'> with 6690 nonzero entries (8% dense)}\n",
      "{'metric': 'observed_features', 'table': <artifact: FeatureTable[Frequency] uuid: dbdeee55-690a-4afc-9a45-e073d43537d0>}\n",
      "{'table': 255 x 1 <class 'biom.table.Table'> with 255 nonzero entries (100% dense)}\n",
      "{'table': 255 x 1 <class 'biom.table.Table'> with 255 nonzero entries (100% dense)}\n",
      "{'metric': 'shannon', 'table': <artifact: FeatureTable[Frequency] uuid: dbdeee55-690a-4afc-9a45-e073d43537d0>}\n",
      "{'drop_undefined_samples': False, 'table': 255 x 1 <class 'biom.table.Table'> with 255 nonzero entries (100% dense)}\n",
      "{'drop_undefined_samples': False, 'table': 255 x 1 <class 'biom.table.Table'> with 255 nonzero entries (100% dense)}\n"
     ]
    },
    {
     "name": "stdout",
     "output_type": "stream",
     "text": [
      "{'sampling_depth': 413916, 'with_replacement': False, 'table': 1967 x 41 <class 'biom.table.Table'> with 6690 nonzero entries (8% dense)}\n",
      "{'sampling_depth': 413916, 'with_replacement': False, 'table': 1967 x 41 <class 'biom.table.Table'> with 6690 nonzero entries (8% dense)}\n",
      "{'metric': 'observed_features', 'table': <artifact: FeatureTable[Frequency] uuid: 84938bb8-2593-4468-9f0c-e4a16368ce5b>}\n",
      "{'table': 255 x 1 <class 'biom.table.Table'> with 255 nonzero entries (100% dense)}\n",
      "{'table': 255 x 1 <class 'biom.table.Table'> with 255 nonzero entries (100% dense)}\n",
      "{'metric': 'shannon', 'table': <artifact: FeatureTable[Frequency] uuid: 84938bb8-2593-4468-9f0c-e4a16368ce5b>}\n",
      "{'drop_undefined_samples': False, 'table': 255 x 1 <class 'biom.table.Table'> with 255 nonzero entries (100% dense)}\n",
      "{'drop_undefined_samples': False, 'table': 255 x 1 <class 'biom.table.Table'> with 255 nonzero entries (100% dense)}\n"
     ]
    },
    {
     "name": "stdout",
     "output_type": "stream",
     "text": [
      "{'sampling_depth': 413916, 'with_replacement': False, 'table': 1967 x 41 <class 'biom.table.Table'> with 6690 nonzero entries (8% dense)}\n",
      "{'sampling_depth': 413916, 'with_replacement': False, 'table': 1967 x 41 <class 'biom.table.Table'> with 6690 nonzero entries (8% dense)}\n",
      "{'metric': 'observed_features', 'table': <artifact: FeatureTable[Frequency] uuid: 33c9f458-3a2a-491a-9cd2-34e1bd3b6977>}\n",
      "{'table': 255 x 1 <class 'biom.table.Table'> with 255 nonzero entries (100% dense)}\n",
      "{'table': 255 x 1 <class 'biom.table.Table'> with 255 nonzero entries (100% dense)}\n",
      "{'metric': 'shannon', 'table': <artifact: FeatureTable[Frequency] uuid: 33c9f458-3a2a-491a-9cd2-34e1bd3b6977>}\n",
      "{'drop_undefined_samples': False, 'table': 255 x 1 <class 'biom.table.Table'> with 255 nonzero entries (100% dense)}\n",
      "{'drop_undefined_samples': False, 'table': 255 x 1 <class 'biom.table.Table'> with 255 nonzero entries (100% dense)}\n"
     ]
    },
    {
     "name": "stdout",
     "output_type": "stream",
     "text": [
      "{'sampling_depth': 413916, 'with_replacement': False, 'table': 1967 x 41 <class 'biom.table.Table'> with 6690 nonzero entries (8% dense)}\n",
      "{'sampling_depth': 413916, 'with_replacement': False, 'table': 1967 x 41 <class 'biom.table.Table'> with 6690 nonzero entries (8% dense)}\n",
      "{'metric': 'observed_features', 'table': <artifact: FeatureTable[Frequency] uuid: 734b3f0c-d7e3-44b8-9a97-b3f044bfb806>}\n",
      "{'table': 255 x 1 <class 'biom.table.Table'> with 255 nonzero entries (100% dense)}\n",
      "{'table': 255 x 1 <class 'biom.table.Table'> with 255 nonzero entries (100% dense)}\n",
      "{'metric': 'shannon', 'table': <artifact: FeatureTable[Frequency] uuid: 734b3f0c-d7e3-44b8-9a97-b3f044bfb806>}\n",
      "{'drop_undefined_samples': False, 'table': 255 x 1 <class 'biom.table.Table'> with 255 nonzero entries (100% dense)}\n",
      "{'drop_undefined_samples': False, 'table': 255 x 1 <class 'biom.table.Table'> with 255 nonzero entries (100% dense)}\n",
      "{'sampling_depth': 413916, 'with_replacement': False, 'table': 1967 x 41 <class 'biom.table.Table'> with 6690 nonzero entries (8% dense)}\n",
      "{'sampling_depth': 413916, 'with_replacement': False, 'table': 1967 x 41 <class 'biom.table.Table'> with 6690 nonzero entries (8% dense)}\n"
     ]
    },
    {
     "name": "stdout",
     "output_type": "stream",
     "text": [
      "{'metric': 'observed_features', 'table': <artifact: FeatureTable[Frequency] uuid: 6357a29d-8f21-46a1-af7f-83d2588bcc71>}\n",
      "{'table': 255 x 1 <class 'biom.table.Table'> with 255 nonzero entries (100% dense)}\n",
      "{'table': 255 x 1 <class 'biom.table.Table'> with 255 nonzero entries (100% dense)}\n",
      "{'metric': 'shannon', 'table': <artifact: FeatureTable[Frequency] uuid: 6357a29d-8f21-46a1-af7f-83d2588bcc71>}\n",
      "{'drop_undefined_samples': False, 'table': 255 x 1 <class 'biom.table.Table'> with 255 nonzero entries (100% dense)}\n",
      "{'drop_undefined_samples': False, 'table': 255 x 1 <class 'biom.table.Table'> with 255 nonzero entries (100% dense)}\n",
      "{'sampling_depth': 413916, 'with_replacement': False, 'table': 1967 x 41 <class 'biom.table.Table'> with 6690 nonzero entries (8% dense)}\n",
      "{'sampling_depth': 413916, 'with_replacement': False, 'table': 1967 x 41 <class 'biom.table.Table'> with 6690 nonzero entries (8% dense)}\n",
      "{'metric': 'observed_features', 'table': <artifact: FeatureTable[Frequency] uuid: 68a4eced-59da-4344-8a00-00efee596903>}\n",
      "{'table': 255 x 1 <class 'biom.table.Table'> with 255 nonzero entries (100% dense)}\n",
      "{'table': 255 x 1 <class 'biom.table.Table'> with 255 nonzero entries (100% dense)}\n"
     ]
    },
    {
     "name": "stdout",
     "output_type": "stream",
     "text": [
      "{'metric': 'shannon', 'table': <artifact: FeatureTable[Frequency] uuid: 68a4eced-59da-4344-8a00-00efee596903>}\n",
      "{'drop_undefined_samples': False, 'table': 255 x 1 <class 'biom.table.Table'> with 255 nonzero entries (100% dense)}\n",
      "{'drop_undefined_samples': False, 'table': 255 x 1 <class 'biom.table.Table'> with 255 nonzero entries (100% dense)}\n",
      "{'sampling_depth': 465656, 'with_replacement': False, 'table': 1967 x 41 <class 'biom.table.Table'> with 6690 nonzero entries (8% dense)}\n",
      "{'sampling_depth': 465656, 'with_replacement': False, 'table': 1967 x 41 <class 'biom.table.Table'> with 6690 nonzero entries (8% dense)}\n",
      "{'metric': 'observed_features', 'table': <artifact: FeatureTable[Frequency] uuid: 7acb63dd-5d13-4b9d-a5fb-9955f29b2651>}\n",
      "{'table': 255 x 1 <class 'biom.table.Table'> with 255 nonzero entries (100% dense)}\n",
      "{'table': 255 x 1 <class 'biom.table.Table'> with 255 nonzero entries (100% dense)}\n",
      "{'metric': 'shannon', 'table': <artifact: FeatureTable[Frequency] uuid: 7acb63dd-5d13-4b9d-a5fb-9955f29b2651>}\n",
      "{'drop_undefined_samples': False, 'table': 255 x 1 <class 'biom.table.Table'> with 255 nonzero entries (100% dense)}\n",
      "{'drop_undefined_samples': False, 'table': 255 x 1 <class 'biom.table.Table'> with 255 nonzero entries (100% dense)}\n"
     ]
    },
    {
     "name": "stdout",
     "output_type": "stream",
     "text": [
      "{'sampling_depth': 465656, 'with_replacement': False, 'table': 1967 x 41 <class 'biom.table.Table'> with 6690 nonzero entries (8% dense)}\n",
      "{'sampling_depth': 465656, 'with_replacement': False, 'table': 1967 x 41 <class 'biom.table.Table'> with 6690 nonzero entries (8% dense)}\n",
      "{'metric': 'observed_features', 'table': <artifact: FeatureTable[Frequency] uuid: d96c3165-ce80-4f2c-8247-2709edc4416f>}\n",
      "{'table': 255 x 1 <class 'biom.table.Table'> with 255 nonzero entries (100% dense)}\n",
      "{'table': 255 x 1 <class 'biom.table.Table'> with 255 nonzero entries (100% dense)}\n",
      "{'metric': 'shannon', 'table': <artifact: FeatureTable[Frequency] uuid: d96c3165-ce80-4f2c-8247-2709edc4416f>}\n",
      "{'drop_undefined_samples': False, 'table': 255 x 1 <class 'biom.table.Table'> with 255 nonzero entries (100% dense)}\n",
      "{'drop_undefined_samples': False, 'table': 255 x 1 <class 'biom.table.Table'> with 255 nonzero entries (100% dense)}\n",
      "{'sampling_depth': 465656, 'with_replacement': False, 'table': 1967 x 41 <class 'biom.table.Table'> with 6690 nonzero entries (8% dense)}\n",
      "{'sampling_depth': 465656, 'with_replacement': False, 'table': 1967 x 41 <class 'biom.table.Table'> with 6690 nonzero entries (8% dense)}\n"
     ]
    },
    {
     "name": "stdout",
     "output_type": "stream",
     "text": [
      "{'metric': 'observed_features', 'table': <artifact: FeatureTable[Frequency] uuid: eafa1cf0-b2f8-4756-9f89-c601dda3f3f7>}\n",
      "{'table': 255 x 1 <class 'biom.table.Table'> with 255 nonzero entries (100% dense)}\n",
      "{'table': 255 x 1 <class 'biom.table.Table'> with 255 nonzero entries (100% dense)}\n",
      "{'metric': 'shannon', 'table': <artifact: FeatureTable[Frequency] uuid: eafa1cf0-b2f8-4756-9f89-c601dda3f3f7>}\n",
      "{'drop_undefined_samples': False, 'table': 255 x 1 <class 'biom.table.Table'> with 255 nonzero entries (100% dense)}\n",
      "{'drop_undefined_samples': False, 'table': 255 x 1 <class 'biom.table.Table'> with 255 nonzero entries (100% dense)}\n",
      "{'sampling_depth': 465656, 'with_replacement': False, 'table': 1967 x 41 <class 'biom.table.Table'> with 6690 nonzero entries (8% dense)}\n",
      "{'sampling_depth': 465656, 'with_replacement': False, 'table': 1967 x 41 <class 'biom.table.Table'> with 6690 nonzero entries (8% dense)}\n",
      "{'metric': 'observed_features', 'table': <artifact: FeatureTable[Frequency] uuid: c483b2ab-8317-4d84-b975-5c0417df87c8>}\n",
      "{'table': 255 x 1 <class 'biom.table.Table'> with 255 nonzero entries (100% dense)}\n",
      "{'table': 255 x 1 <class 'biom.table.Table'> with 255 nonzero entries (100% dense)}\n"
     ]
    },
    {
     "name": "stdout",
     "output_type": "stream",
     "text": [
      "{'metric': 'shannon', 'table': <artifact: FeatureTable[Frequency] uuid: c483b2ab-8317-4d84-b975-5c0417df87c8>}\n",
      "{'drop_undefined_samples': False, 'table': 255 x 1 <class 'biom.table.Table'> with 255 nonzero entries (100% dense)}\n",
      "{'drop_undefined_samples': False, 'table': 255 x 1 <class 'biom.table.Table'> with 255 nonzero entries (100% dense)}\n",
      "{'sampling_depth': 465656, 'with_replacement': False, 'table': 1967 x 41 <class 'biom.table.Table'> with 6690 nonzero entries (8% dense)}\n",
      "{'sampling_depth': 465656, 'with_replacement': False, 'table': 1967 x 41 <class 'biom.table.Table'> with 6690 nonzero entries (8% dense)}\n",
      "{'metric': 'observed_features', 'table': <artifact: FeatureTable[Frequency] uuid: 1ae0b3f6-9de6-498e-9354-5152302c3a5f>}\n",
      "{'table': 255 x 1 <class 'biom.table.Table'> with 255 nonzero entries (100% dense)}\n",
      "{'table': 255 x 1 <class 'biom.table.Table'> with 255 nonzero entries (100% dense)}\n",
      "{'metric': 'shannon', 'table': <artifact: FeatureTable[Frequency] uuid: 1ae0b3f6-9de6-498e-9354-5152302c3a5f>}\n",
      "{'drop_undefined_samples': False, 'table': 255 x 1 <class 'biom.table.Table'> with 255 nonzero entries (100% dense)}\n",
      "{'drop_undefined_samples': False, 'table': 255 x 1 <class 'biom.table.Table'> with 255 nonzero entries (100% dense)}\n"
     ]
    },
    {
     "name": "stdout",
     "output_type": "stream",
     "text": [
      "{'sampling_depth': 465656, 'with_replacement': False, 'table': 1967 x 41 <class 'biom.table.Table'> with 6690 nonzero entries (8% dense)}\n",
      "{'sampling_depth': 465656, 'with_replacement': False, 'table': 1967 x 41 <class 'biom.table.Table'> with 6690 nonzero entries (8% dense)}\n",
      "{'metric': 'observed_features', 'table': <artifact: FeatureTable[Frequency] uuid: 5c368c52-c993-445e-a7a9-ef408ba50037>}\n",
      "{'table': 255 x 1 <class 'biom.table.Table'> with 255 nonzero entries (100% dense)}\n",
      "{'table': 255 x 1 <class 'biom.table.Table'> with 255 nonzero entries (100% dense)}\n",
      "{'metric': 'shannon', 'table': <artifact: FeatureTable[Frequency] uuid: 5c368c52-c993-445e-a7a9-ef408ba50037>}\n",
      "{'drop_undefined_samples': False, 'table': 255 x 1 <class 'biom.table.Table'> with 255 nonzero entries (100% dense)}\n",
      "{'drop_undefined_samples': False, 'table': 255 x 1 <class 'biom.table.Table'> with 255 nonzero entries (100% dense)}\n",
      "{'sampling_depth': 465656, 'with_replacement': False, 'table': 1967 x 41 <class 'biom.table.Table'> with 6690 nonzero entries (8% dense)}\n",
      "{'sampling_depth': 465656, 'with_replacement': False, 'table': 1967 x 41 <class 'biom.table.Table'> with 6690 nonzero entries (8% dense)}\n"
     ]
    },
    {
     "name": "stdout",
     "output_type": "stream",
     "text": [
      "{'metric': 'observed_features', 'table': <artifact: FeatureTable[Frequency] uuid: 8af7f2be-8784-4690-ac8c-dbb476612da6>}\n",
      "{'table': 255 x 1 <class 'biom.table.Table'> with 255 nonzero entries (100% dense)}\n",
      "{'table': 255 x 1 <class 'biom.table.Table'> with 255 nonzero entries (100% dense)}\n",
      "{'metric': 'shannon', 'table': <artifact: FeatureTable[Frequency] uuid: 8af7f2be-8784-4690-ac8c-dbb476612da6>}\n",
      "{'drop_undefined_samples': False, 'table': 255 x 1 <class 'biom.table.Table'> with 255 nonzero entries (100% dense)}\n",
      "{'drop_undefined_samples': False, 'table': 255 x 1 <class 'biom.table.Table'> with 255 nonzero entries (100% dense)}\n",
      "{'sampling_depth': 465656, 'with_replacement': False, 'table': 1967 x 41 <class 'biom.table.Table'> with 6690 nonzero entries (8% dense)}\n",
      "{'sampling_depth': 465656, 'with_replacement': False, 'table': 1967 x 41 <class 'biom.table.Table'> with 6690 nonzero entries (8% dense)}\n",
      "{'metric': 'observed_features', 'table': <artifact: FeatureTable[Frequency] uuid: e1767eab-80e7-4b40-b904-5c6f0ad9fc3b>}\n",
      "{'table': 255 x 1 <class 'biom.table.Table'> with 255 nonzero entries (100% dense)}\n",
      "{'table': 255 x 1 <class 'biom.table.Table'> with 255 nonzero entries (100% dense)}\n",
      "{'metric': 'shannon', 'table': <artifact: FeatureTable[Frequency] uuid: e1767eab-80e7-4b40-b904-5c6f0ad9fc3b>}\n"
     ]
    },
    {
     "name": "stdout",
     "output_type": "stream",
     "text": [
      "{'drop_undefined_samples': False, 'table': 255 x 1 <class 'biom.table.Table'> with 255 nonzero entries (100% dense)}\n",
      "{'drop_undefined_samples': False, 'table': 255 x 1 <class 'biom.table.Table'> with 255 nonzero entries (100% dense)}\n",
      "{'sampling_depth': 465656, 'with_replacement': False, 'table': 1967 x 41 <class 'biom.table.Table'> with 6690 nonzero entries (8% dense)}\n",
      "{'sampling_depth': 465656, 'with_replacement': False, 'table': 1967 x 41 <class 'biom.table.Table'> with 6690 nonzero entries (8% dense)}\n",
      "{'metric': 'observed_features', 'table': <artifact: FeatureTable[Frequency] uuid: dd94e8aa-a357-426c-a456-587806b4ac79>}\n",
      "{'table': 255 x 1 <class 'biom.table.Table'> with 255 nonzero entries (100% dense)}\n",
      "{'table': 255 x 1 <class 'biom.table.Table'> with 255 nonzero entries (100% dense)}\n",
      "{'metric': 'shannon', 'table': <artifact: FeatureTable[Frequency] uuid: dd94e8aa-a357-426c-a456-587806b4ac79>}\n",
      "{'drop_undefined_samples': False, 'table': 255 x 1 <class 'biom.table.Table'> with 255 nonzero entries (100% dense)}\n",
      "{'drop_undefined_samples': False, 'table': 255 x 1 <class 'biom.table.Table'> with 255 nonzero entries (100% dense)}\n"
     ]
    },
    {
     "name": "stdout",
     "output_type": "stream",
     "text": [
      "{'sampling_depth': 465656, 'with_replacement': False, 'table': 1967 x 41 <class 'biom.table.Table'> with 6690 nonzero entries (8% dense)}\n",
      "{'sampling_depth': 465656, 'with_replacement': False, 'table': 1967 x 41 <class 'biom.table.Table'> with 6690 nonzero entries (8% dense)}\n",
      "{'metric': 'observed_features', 'table': <artifact: FeatureTable[Frequency] uuid: b557011d-5359-4eb4-899b-65040ac0b902>}\n",
      "{'table': 255 x 1 <class 'biom.table.Table'> with 255 nonzero entries (100% dense)}\n",
      "{'table': 255 x 1 <class 'biom.table.Table'> with 255 nonzero entries (100% dense)}\n",
      "{'metric': 'shannon', 'table': <artifact: FeatureTable[Frequency] uuid: b557011d-5359-4eb4-899b-65040ac0b902>}\n",
      "{'drop_undefined_samples': False, 'table': 255 x 1 <class 'biom.table.Table'> with 255 nonzero entries (100% dense)}\n",
      "{'drop_undefined_samples': False, 'table': 255 x 1 <class 'biom.table.Table'> with 255 nonzero entries (100% dense)}\n"
     ]
    }
   ],
   "source": [
    "alpha_rar = alpha_rarefaction(\n",
    "    table = tabs,\n",
    "    max_depth = max_feature_count,\n",
    "    min_depth = 1,\n",
    "    metadata = metadata_qa,\n",
    ")"
   ]
  },
  {
   "cell_type": "code",
   "execution_count": 13,
   "id": "76e447bc",
   "metadata": {
    "ExecuteTime": {
     "end_time": "2022-09-22T21:56:13.632468Z",
     "start_time": "2022-09-22T21:56:13.589032Z"
    },
    "execution": {
     "iopub.execute_input": "2024-01-29T19:02:56.335618Z",
     "iopub.status.busy": "2024-01-29T19:02:56.335388Z",
     "iopub.status.idle": "2024-01-29T19:02:56.376910Z",
     "shell.execute_reply": "2024-01-29T19:02:56.376205Z"
    },
    "papermill": {
     "duration": 0.077534,
     "end_time": "2024-01-29T19:02:56.378303",
     "exception": false,
     "start_time": "2024-01-29T19:02:56.300769",
     "status": "completed"
    },
    "scrolled": true,
    "tags": []
   },
   "outputs": [
    {
     "data": {
      "text/html": [
       "<div><img onload=\"(function(div, url){\n",
       "if (typeof require !== 'undefined') {\n",
       "    var baseURL = require.toUrl('').split('/').slice(0, -2).join('/');\n",
       "} else {\n",
       "    var baseURL = JSON.parse(\n",
       "        document.getElementById('jupyter-config-data').innerHTML\n",
       "    ).baseUrl.slice(0, -1);\n",
       "}\n",
       "url = baseURL + url;\n",
       "fetch(url).then(function(res) {\n",
       "    if (res.status === 404) {\n",
       "        div.innerHTML = 'Install QIIME 2 Jupyter extension with:<br />' +\n",
       "                        '<code>jupyter serverextension enable --py qiime2' +\n",
       "                        ' --sys-prefix</code><br />then restart your server.' +\n",
       "                        '<br /><br />(Interactive output not available on ' +\n",
       "                        'static notebook viewer services like nbviewer.)';\n",
       "    } else if (res.status === 409) {\n",
       "        div.innerHTML = 'Visualization no longer in scope. Re-run this cell' +\n",
       "                        ' to see the visualization.';\n",
       "    } else if (res.ok) {\n",
       "        url = res.url;\n",
       "        div.innerHTML = '<iframe src=\\'' + url + '\\' style=\\'' +\n",
       "                        'width: 100%; height: 700px; border: 0;\\'>' +\n",
       "                        '</iframe><hr />Open in a: <a href=\\'' + url + '\\'' +\n",
       "                        ' target=\\'_blank\\'>new window</a>'\n",
       "    } else {\n",
       "        div.innerHTML = 'Something has gone wrong. Check notebook server for' +\n",
       "                        ' errors.';\n",
       "    }\n",
       "});\n",
       "})(this.parentElement, '/qiime2/redirect?location=/tmp/qiime2-archive-aebmsje0')\" src=\"data:image/gif;base64,R0lGODlhAQABAIAAAP///wAAACH5BAEAAAAALAAAAAABAAEAAAICRAEAOw==\" /></div>"
      ],
      "text/plain": [
       "<visualization: Visualization uuid: 4b44d561-208b-460c-a9a0-703aa519aa2a>"
      ]
     },
     "execution_count": 13,
     "metadata": {},
     "output_type": "execute_result"
    }
   ],
   "source": [
    "alpha_rar.visualization.save(alpha_rarefaction_view_path)\n",
    "alpha_rar.visualization"
   ]
  },
  {
   "cell_type": "markdown",
   "id": "3181eccc",
   "metadata": {
    "papermill": {
     "duration": 0.034428,
     "end_time": "2024-01-29T19:02:56.451901",
     "exception": false,
     "start_time": "2024-01-29T19:02:56.417473",
     "status": "completed"
    },
    "tags": []
   },
   "source": [
    "## Beta Rarefaction"
   ]
  },
  {
   "cell_type": "code",
   "execution_count": 14,
   "id": "cfd1b4f8",
   "metadata": {
    "ExecuteTime": {
     "end_time": "2022-09-22T21:56:19.645438Z",
     "start_time": "2022-09-22T21:56:17.687848Z"
    },
    "execution": {
     "iopub.execute_input": "2024-01-29T19:02:56.522516Z",
     "iopub.status.busy": "2024-01-29T19:02:56.522165Z",
     "iopub.status.idle": "2024-01-29T19:02:59.561748Z",
     "shell.execute_reply": "2024-01-29T19:02:59.561092Z"
    },
    "papermill": {
     "duration": 3.076396,
     "end_time": "2024-01-29T19:02:59.563613",
     "exception": false,
     "start_time": "2024-01-29T19:02:56.487217",
     "status": "completed"
    },
    "tags": []
   },
   "outputs": [
    {
     "name": "stdout",
     "output_type": "stream",
     "text": [
      "{'metric': 'braycurtis', 'clustering_method': 'nj', 'metadata': Metadata\n",
      "--------\n",
      "41 IDs x 4 columns\n",
      "sample-name: ColumnProperties(type='categorical')\n",
      "group-id:    ColumnProperties(type='categorical')\n",
      "group-desc:  ColumnProperties(type='categorical')\n",
      "samples:     ColumnProperties(type='categorical')\n",
      "\n",
      "Call to_dataframe() for a tabular representation., 'sampling_depth': 2854, 'iterations': 10, 'correlation_method': 'spearman', 'color_scheme': 'BrBG', 'table': 1967 x 41 <class 'biom.table.Table'> with 6690 nonzero entries (8% dense), 'phylogeny': None}\n",
      "{'sampling_depth': 2854, 'with_replacement': False, 'table': 1967 x 41 <class 'biom.table.Table'> with 6690 nonzero entries (8% dense)}\n",
      "{'sampling_depth': 2854, 'with_replacement': False, 'table': 1967 x 41 <class 'biom.table.Table'> with 6690 nonzero entries (8% dense)}\n"
     ]
    },
    {
     "name": "stdout",
     "output_type": "stream",
     "text": [
      "{'metric': 'braycurtis', 'pseudocount': 1, 'n_jobs': 1, 'table': <artifact: FeatureTable[Frequency] uuid: 67b43c5b-20b8-42af-a7ba-ad4d0de60f45>}\n",
      "{'n_jobs': 1, 'table': 1587 x 41 <class 'biom.table.Table'> with 5191 nonzero entries (7% dense)}\n",
      "{'n_jobs': 1, 'table': 1587 x 41 <class 'biom.table.Table'> with 5191 nonzero entries (7% dense)}\n",
      "{'sampling_depth': 2854, 'with_replacement': False, 'table': 1967 x 41 <class 'biom.table.Table'> with 6690 nonzero entries (8% dense)}\n",
      "{'sampling_depth': 2854, 'with_replacement': False, 'table': 1967 x 41 <class 'biom.table.Table'> with 6690 nonzero entries (8% dense)}\n"
     ]
    },
    {
     "name": "stdout",
     "output_type": "stream",
     "text": [
      "{'metric': 'braycurtis', 'pseudocount': 1, 'n_jobs': 1, 'table': <artifact: FeatureTable[Frequency] uuid: 615e049b-9b7b-43d1-954a-8740fda26659>}\n",
      "{'n_jobs': 1, 'table': 1549 x 41 <class 'biom.table.Table'> with 5148 nonzero entries (8% dense)}\n",
      "{'n_jobs': 1, 'table': 1549 x 41 <class 'biom.table.Table'> with 5148 nonzero entries (8% dense)}\n",
      "{'sampling_depth': 2854, 'with_replacement': False, 'table': 1967 x 41 <class 'biom.table.Table'> with 6690 nonzero entries (8% dense)}\n",
      "{'sampling_depth': 2854, 'with_replacement': False, 'table': 1967 x 41 <class 'biom.table.Table'> with 6690 nonzero entries (8% dense)}\n"
     ]
    },
    {
     "name": "stdout",
     "output_type": "stream",
     "text": [
      "{'metric': 'braycurtis', 'pseudocount': 1, 'n_jobs': 1, 'table': <artifact: FeatureTable[Frequency] uuid: 917c20ae-033f-446f-a0a0-7c239c69aca4>}\n",
      "{'n_jobs': 1, 'table': 1588 x 41 <class 'biom.table.Table'> with 5178 nonzero entries (7% dense)}\n",
      "{'n_jobs': 1, 'table': 1588 x 41 <class 'biom.table.Table'> with 5178 nonzero entries (7% dense)}\n",
      "{'sampling_depth': 2854, 'with_replacement': False, 'table': 1967 x 41 <class 'biom.table.Table'> with 6690 nonzero entries (8% dense)}\n",
      "{'sampling_depth': 2854, 'with_replacement': False, 'table': 1967 x 41 <class 'biom.table.Table'> with 6690 nonzero entries (8% dense)}\n"
     ]
    },
    {
     "name": "stdout",
     "output_type": "stream",
     "text": [
      "{'metric': 'braycurtis', 'pseudocount': 1, 'n_jobs': 1, 'table': <artifact: FeatureTable[Frequency] uuid: 17055cda-21c1-4b7a-8a6e-7fcdc5ee5475>}\n",
      "{'n_jobs': 1, 'table': 1551 x 41 <class 'biom.table.Table'> with 5180 nonzero entries (8% dense)}\n",
      "{'n_jobs': 1, 'table': 1551 x 41 <class 'biom.table.Table'> with 5180 nonzero entries (8% dense)}\n",
      "{'sampling_depth': 2854, 'with_replacement': False, 'table': 1967 x 41 <class 'biom.table.Table'> with 6690 nonzero entries (8% dense)}\n",
      "{'sampling_depth': 2854, 'with_replacement': False, 'table': 1967 x 41 <class 'biom.table.Table'> with 6690 nonzero entries (8% dense)}\n"
     ]
    },
    {
     "name": "stdout",
     "output_type": "stream",
     "text": [
      "{'metric': 'braycurtis', 'pseudocount': 1, 'n_jobs': 1, 'table': <artifact: FeatureTable[Frequency] uuid: 3395b2ad-062b-4dfa-861a-f1b6083c48bf>}\n",
      "{'n_jobs': 1, 'table': 1580 x 41 <class 'biom.table.Table'> with 5194 nonzero entries (8% dense)}\n",
      "{'n_jobs': 1, 'table': 1580 x 41 <class 'biom.table.Table'> with 5194 nonzero entries (8% dense)}\n",
      "{'sampling_depth': 2854, 'with_replacement': False, 'table': 1967 x 41 <class 'biom.table.Table'> with 6690 nonzero entries (8% dense)}\n",
      "{'sampling_depth': 2854, 'with_replacement': False, 'table': 1967 x 41 <class 'biom.table.Table'> with 6690 nonzero entries (8% dense)}\n"
     ]
    },
    {
     "name": "stdout",
     "output_type": "stream",
     "text": [
      "{'metric': 'braycurtis', 'pseudocount': 1, 'n_jobs': 1, 'table': <artifact: FeatureTable[Frequency] uuid: f31deaac-fd41-4c13-86ad-4fff40e0f61b>}\n",
      "{'n_jobs': 1, 'table': 1572 x 41 <class 'biom.table.Table'> with 5193 nonzero entries (8% dense)}\n",
      "{'n_jobs': 1, 'table': 1572 x 41 <class 'biom.table.Table'> with 5193 nonzero entries (8% dense)}\n",
      "{'sampling_depth': 2854, 'with_replacement': False, 'table': 1967 x 41 <class 'biom.table.Table'> with 6690 nonzero entries (8% dense)}\n",
      "{'sampling_depth': 2854, 'with_replacement': False, 'table': 1967 x 41 <class 'biom.table.Table'> with 6690 nonzero entries (8% dense)}\n"
     ]
    },
    {
     "name": "stdout",
     "output_type": "stream",
     "text": [
      "{'metric': 'braycurtis', 'pseudocount': 1, 'n_jobs': 1, 'table': <artifact: FeatureTable[Frequency] uuid: fc607577-e6de-4cb1-8d9d-c1149be031de>}\n",
      "{'n_jobs': 1, 'table': 1560 x 41 <class 'biom.table.Table'> with 5156 nonzero entries (8% dense)}\n",
      "{'n_jobs': 1, 'table': 1560 x 41 <class 'biom.table.Table'> with 5156 nonzero entries (8% dense)}\n",
      "{'sampling_depth': 2854, 'with_replacement': False, 'table': 1967 x 41 <class 'biom.table.Table'> with 6690 nonzero entries (8% dense)}\n",
      "{'sampling_depth': 2854, 'with_replacement': False, 'table': 1967 x 41 <class 'biom.table.Table'> with 6690 nonzero entries (8% dense)}\n"
     ]
    },
    {
     "name": "stdout",
     "output_type": "stream",
     "text": [
      "{'metric': 'braycurtis', 'pseudocount': 1, 'n_jobs': 1, 'table': <artifact: FeatureTable[Frequency] uuid: 114dd05f-b8ff-42c9-889b-16f9b5ec6132>}\n",
      "{'n_jobs': 1, 'table': 1566 x 41 <class 'biom.table.Table'> with 5183 nonzero entries (8% dense)}\n",
      "{'n_jobs': 1, 'table': 1566 x 41 <class 'biom.table.Table'> with 5183 nonzero entries (8% dense)}\n",
      "{'sampling_depth': 2854, 'with_replacement': False, 'table': 1967 x 41 <class 'biom.table.Table'> with 6690 nonzero entries (8% dense)}\n",
      "{'sampling_depth': 2854, 'with_replacement': False, 'table': 1967 x 41 <class 'biom.table.Table'> with 6690 nonzero entries (8% dense)}\n"
     ]
    },
    {
     "name": "stdout",
     "output_type": "stream",
     "text": [
      "{'metric': 'braycurtis', 'pseudocount': 1, 'n_jobs': 1, 'table': <artifact: FeatureTable[Frequency] uuid: 5c18ba94-e58e-463b-b910-cf41a47b4c43>}\n",
      "{'n_jobs': 1, 'table': 1582 x 41 <class 'biom.table.Table'> with 5153 nonzero entries (7% dense)}\n",
      "{'n_jobs': 1, 'table': 1582 x 41 <class 'biom.table.Table'> with 5153 nonzero entries (7% dense)}\n",
      "{'sampling_depth': 2854, 'with_replacement': False, 'table': 1967 x 41 <class 'biom.table.Table'> with 6690 nonzero entries (8% dense)}\n",
      "{'sampling_depth': 2854, 'with_replacement': False, 'table': 1967 x 41 <class 'biom.table.Table'> with 6690 nonzero entries (8% dense)}\n"
     ]
    },
    {
     "name": "stdout",
     "output_type": "stream",
     "text": [
      "{'metric': 'braycurtis', 'pseudocount': 1, 'n_jobs': 1, 'table': <artifact: FeatureTable[Frequency] uuid: 0c1b75e3-8f2b-4497-a46b-e95d70a022b2>}\n",
      "{'n_jobs': 1, 'table': 1552 x 41 <class 'biom.table.Table'> with 5189 nonzero entries (8% dense)}\n",
      "{'n_jobs': 1, 'table': 1552 x 41 <class 'biom.table.Table'> with 5189 nonzero entries (8% dense)}\n"
     ]
    },
    {
     "name": "stderr",
     "output_type": "stream",
     "text": [
      "/home/lauro/anaconda3/envs/qiime2-2022.2/lib/python3.8/site-packages/skbio/stats/ordination/_principal_coordinate_analysis.py:143: RuntimeWarning: The result contains negative eigenvalues. Please compare their magnitude with the magnitude of some of the largest positive eigenvalues. If the negative ones are smaller, it's probably safe to ignore them, but if they are large in magnitude, the results won't be useful. See the Notes section for more details. The smallest eigenvalue is -0.012480319796420964 and the largest is 2.9591585341303914.\n",
      "  warn(\n",
      "/home/lauro/anaconda3/envs/qiime2-2022.2/lib/python3.8/site-packages/skbio/stats/ordination/_principal_coordinate_analysis.py:143: RuntimeWarning: The result contains negative eigenvalues. Please compare their magnitude with the magnitude of some of the largest positive eigenvalues. If the negative ones are smaller, it's probably safe to ignore them, but if they are large in magnitude, the results won't be useful. See the Notes section for more details. The smallest eigenvalue is -0.012998724178647413 and the largest is 2.97008855229638.\n",
      "  warn(\n",
      "/home/lauro/anaconda3/envs/qiime2-2022.2/lib/python3.8/site-packages/skbio/stats/ordination/_principal_coordinate_analysis.py:143: RuntimeWarning: The result contains negative eigenvalues. Please compare their magnitude with the magnitude of some of the largest positive eigenvalues. If the negative ones are smaller, it's probably safe to ignore them, but if they are large in magnitude, the results won't be useful. See the Notes section for more details. The smallest eigenvalue is -0.01064055791522424 and the largest is 2.993639082577527.\n",
      "  warn(\n",
      "/home/lauro/anaconda3/envs/qiime2-2022.2/lib/python3.8/site-packages/skbio/stats/ordination/_principal_coordinate_analysis.py:143: RuntimeWarning: The result contains negative eigenvalues. Please compare their magnitude with the magnitude of some of the largest positive eigenvalues. If the negative ones are smaller, it's probably safe to ignore them, but if they are large in magnitude, the results won't be useful. See the Notes section for more details. The smallest eigenvalue is -0.012868595676871935 and the largest is 2.974038465624499.\n",
      "  warn(\n",
      "/home/lauro/anaconda3/envs/qiime2-2022.2/lib/python3.8/site-packages/skbio/stats/ordination/_principal_coordinate_analysis.py:143: RuntimeWarning: The result contains negative eigenvalues. Please compare their magnitude with the magnitude of some of the largest positive eigenvalues. If the negative ones are smaller, it's probably safe to ignore them, but if they are large in magnitude, the results won't be useful. See the Notes section for more details. The smallest eigenvalue is -0.011632413996894693 and the largest is 2.9968708599445963.\n",
      "  warn(\n",
      "/home/lauro/anaconda3/envs/qiime2-2022.2/lib/python3.8/site-packages/skbio/stats/ordination/_principal_coordinate_analysis.py:143: RuntimeWarning: The result contains negative eigenvalues. Please compare their magnitude with the magnitude of some of the largest positive eigenvalues. If the negative ones are smaller, it's probably safe to ignore them, but if they are large in magnitude, the results won't be useful. See the Notes section for more details. The smallest eigenvalue is -0.010015687197719718 and the largest is 2.9706865962857796.\n",
      "  warn(\n",
      "/home/lauro/anaconda3/envs/qiime2-2022.2/lib/python3.8/site-packages/skbio/stats/ordination/_principal_coordinate_analysis.py:143: RuntimeWarning: The result contains negative eigenvalues. Please compare their magnitude with the magnitude of some of the largest positive eigenvalues. If the negative ones are smaller, it's probably safe to ignore them, but if they are large in magnitude, the results won't be useful. See the Notes section for more details. The smallest eigenvalue is -0.012996524081085911 and the largest is 2.970871645352261.\n",
      "  warn(\n",
      "/home/lauro/anaconda3/envs/qiime2-2022.2/lib/python3.8/site-packages/skbio/stats/ordination/_principal_coordinate_analysis.py:143: RuntimeWarning: The result contains negative eigenvalues. Please compare their magnitude with the magnitude of some of the largest positive eigenvalues. If the negative ones are smaller, it's probably safe to ignore them, but if they are large in magnitude, the results won't be useful. See the Notes section for more details. The smallest eigenvalue is -0.015013240189890354 and the largest is 2.9398878133775717.\n",
      "  warn(\n",
      "/home/lauro/anaconda3/envs/qiime2-2022.2/lib/python3.8/site-packages/skbio/stats/ordination/_principal_coordinate_analysis.py:143: RuntimeWarning: The result contains negative eigenvalues. Please compare their magnitude with the magnitude of some of the largest positive eigenvalues. If the negative ones are smaller, it's probably safe to ignore them, but if they are large in magnitude, the results won't be useful. See the Notes section for more details. The smallest eigenvalue is -0.009745899710750116 and the largest is 2.948019665496596.\n",
      "  warn(\n",
      "/home/lauro/anaconda3/envs/qiime2-2022.2/lib/python3.8/site-packages/skbio/stats/ordination/_principal_coordinate_analysis.py:143: RuntimeWarning: The result contains negative eigenvalues. Please compare their magnitude with the magnitude of some of the largest positive eigenvalues. If the negative ones are smaller, it's probably safe to ignore them, but if they are large in magnitude, the results won't be useful. See the Notes section for more details. The smallest eigenvalue is -0.013189690668863465 and the largest is 2.9572781466171114.\n",
      "  warn(\n"
     ]
    },
    {
     "data": {
      "image/png": "[encoded data removed]",
      "text/plain": [
       "<Figure size 432x288 with 2 Axes>"
      ]
     },
     "metadata": {
      "needs_background": "light"
     },
     "output_type": "display_data"
    }
   ],
   "source": [
    "choices = ('matching', 'aitchison', 'euclidean', 'generalized_unifrac', 'canberra', 'russellrao', 'braycurtis', 'cosine', 'jensenshannon', 'yule', 'weighted_normalized_unifrac', 'unweighted_unifrac', 'hamming', 'weighted_unifrac', 'cityblock', 'sokalmichener', 'seuclidean', 'rogerstanimoto', 'correlation', 'minkowski', 'kulsinski', 'chebyshev', 'sqeuclidean', 'sokalsneath', 'jaccard', 'dice', 'canberra_adkins')\n",
    "clustering_methods = ('nj', 'upgma')\n",
    "correlation_methods = ('pearson', 'spearman')\n",
    "\n",
    "sampling_depth = max(min_feature_count, 1)\n",
    "metric = 'braycurtis'\n",
    "clustering_method = clustering_methods[0]\n",
    "correlation_method = correlation_methods[1]\n",
    "\n",
    "beta_rar = beta_rarefaction(\n",
    "    table = tabs,\n",
    "    sampling_depth  = sampling_depth,\n",
    "    metadata = metadata_qa,\n",
    "    metric = metric,\n",
    "    clustering_method = clustering_method,\n",
    "    correlation_method = correlation_method,\n",
    ")"
   ]
  },
  {
   "cell_type": "markdown",
   "id": "00848480",
   "metadata": {
    "papermill": {
     "duration": 0.045461,
     "end_time": "2024-01-29T19:02:59.655640",
     "exception": false,
     "start_time": "2024-01-29T19:02:59.610179",
     "status": "completed"
    },
    "tags": []
   },
   "source": [
    " ## Beta diversity PCoA\n",
    " Ellipses represent 95% confidence intervals."
   ]
  },
  {
   "cell_type": "code",
   "execution_count": 15,
   "id": "46cfc2b1",
   "metadata": {
    "ExecuteTime": {
     "end_time": "2022-09-22T21:56:22.170995Z",
     "start_time": "2022-09-22T21:56:22.048827Z"
    },
    "execution": {
     "iopub.execute_input": "2024-01-29T19:02:59.793249Z",
     "iopub.status.busy": "2024-01-29T19:02:59.792891Z",
     "iopub.status.idle": "2024-01-29T19:02:59.909806Z",
     "shell.execute_reply": "2024-01-29T19:02:59.909305Z"
    },
    "papermill": {
     "duration": 0.189574,
     "end_time": "2024-01-29T19:02:59.912122",
     "exception": false,
     "start_time": "2024-01-29T19:02:59.722548",
     "status": "completed"
    },
    "tags": []
   },
   "outputs": [
    {
     "data": {
      "text/html": [
       "<div><img onload=\"(function(div, url){\n",
       "if (typeof require !== 'undefined') {\n",
       "    var baseURL = require.toUrl('').split('/').slice(0, -2).join('/');\n",
       "} else {\n",
       "    var baseURL = JSON.parse(\n",
       "        document.getElementById('jupyter-config-data').innerHTML\n",
       "    ).baseUrl.slice(0, -1);\n",
       "}\n",
       "url = baseURL + url;\n",
       "fetch(url).then(function(res) {\n",
       "    if (res.status === 404) {\n",
       "        div.innerHTML = 'Install QIIME 2 Jupyter extension with:<br />' +\n",
       "                        '<code>jupyter serverextension enable --py qiime2' +\n",
       "                        ' --sys-prefix</code><br />then restart your server.' +\n",
       "                        '<br /><br />(Interactive output not available on ' +\n",
       "                        'static notebook viewer services like nbviewer.)';\n",
       "    } else if (res.status === 409) {\n",
       "        div.innerHTML = 'Visualization no longer in scope. Re-run this cell' +\n",
       "                        ' to see the visualization.';\n",
       "    } else if (res.ok) {\n",
       "        url = res.url;\n",
       "        div.innerHTML = '<iframe src=\\'' + url + '\\' style=\\'' +\n",
       "                        'width: 100%; height: 700px; border: 0;\\'>' +\n",
       "                        '</iframe><hr />Open in a: <a href=\\'' + url + '\\'' +\n",
       "                        ' target=\\'_blank\\'>new window</a>'\n",
       "    } else {\n",
       "        div.innerHTML = 'Something has gone wrong. Check notebook server for' +\n",
       "                        ' errors.';\n",
       "    }\n",
       "});\n",
       "})(this.parentElement, '/qiime2/redirect?location=/tmp/qiime2-archive-o7heimzr')\" src=\"data:image/gif;base64,R0lGODlhAQABAIAAAP///wAAACH5BAEAAAAALAAAAAABAAEAAAICRAEAOw==\" /></div>"
      ],
      "text/plain": [
       "<visualization: Visualization uuid: d89dcbef-98c7-4895-8f87-9ac5ee9c9a08>"
      ]
     },
     "execution_count": 15,
     "metadata": {},
     "output_type": "execute_result"
    }
   ],
   "source": [
    "plot_tmp = f'{metric}-{clustering_method}-{correlation_method}-{sampling_depth}'\n",
    "beta_rarefaction_view_path = os.path.join(qiime_folder, f'beta-rarefaction-{plot_tmp}.qzv')\n",
    "beta_rar.visualization.save(beta_rarefaction_view_path)\n",
    "\n",
    "beta_rar.visualization"
   ]
  }
 ],
 "metadata": {
  "celltoolbar": "Edit Metadata",
  "kernelspec": {
   "display_name": "Python 3 (ipykernel)",
   "language": "python",
   "name": "python3"
  },
  "language_info": {
   "codemirror_mode": {
    "name": "ipython",
    "version": 3
   },
   "file_extension": ".py",
   "mimetype": "text/x-python",
   "name": "python",
   "nbconvert_exporter": "python",
   "pygments_lexer": "ipython3",
   "version": "3.8.12"
  },
  "papermill": {
   "default_parameters": {},
   "duration": 39.023305,
   "end_time": "2024-01-29T19:03:00.776126",
   "environment_variables": {},
   "exception": null,
   "input_path": "nb-templates/step-rarefaction-analysis2.ipynb",
   "output_path": "/home/lauro/nupeb/rede-micro/redemicro-ana-flavia-nutri/experiments/ana-flavia-all/nb-executed-steps/step-rarefaction-analysis-ana-flavia-all.ipynb",
   "parameters": {
    "PAPERMILL_INPUT_PATH": "nb-templates/step-rarefaction-analysis2.ipynb",
    "PAPERMILL_OUTPUT_PATH": "/home/lauro/nupeb/rede-micro/redemicro-ana-flavia-nutri/experiments/ana-flavia-all/nb-executed-steps/step-rarefaction-analysis-ana-flavia-all.ipynb",
    "base_dir": "/home/lauro/nupeb/rede-micro/redemicro-ana-flavia-nutri",
    "class_col": "group-id",
    "classifier_file": "/home/lauro/nupeb/rede-micro/models/silva-138-99-nb-classifier.qza",
    "experiment_name": "ana-flavia-all",
    "manifest_file": "/home/lauro/nupeb/rede-micro/redemicro-ana-flavia-nutri/data/raw/manifest-all-ana.csv",
    "metadata_file": "/home/lauro/nupeb/rede-micro/redemicro-ana-flavia-nutri/data/raw/metadata-all-ana.tsv",
    "overlap": 12,
    "phred": 20,
    "replace_files": false,
    "threads": 6,
    "top_n": 20,
    "trim": {
     "forward_primer": "CCTACGGGRSGCAGCAG",
     "overlap": 8,
     "reverse_primer": "GGACTACHVGGGTWTCTAAT"
    },
    "trunc_f": 0,
    "trunc_r": 0
   },
   "start_time": "2024-01-29T19:02:21.752821",
   "version": "2.3.4"
  },
  "toc-autonumbering": false,
  "toc-showcode": false,
  "toc-showmarkdowntxt": false
 },
 "nbformat": 4,
 "nbformat_minor": 5
}