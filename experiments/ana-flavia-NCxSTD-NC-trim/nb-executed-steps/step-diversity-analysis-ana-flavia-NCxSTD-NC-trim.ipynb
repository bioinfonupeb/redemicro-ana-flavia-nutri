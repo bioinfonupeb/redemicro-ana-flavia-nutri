{
 "cells": [
  {
   "cell_type": "markdown",
   "id": "15bcfa06",
   "metadata": {
    "papermill": {
     "duration": 0.022592,
     "end_time": "2023-06-07T02:38:08.311356",
     "exception": false,
     "start_time": "2023-06-07T02:38:08.288764",
     "status": "completed"
    },
    "tags": []
   },
   "source": [
    " \n",
    "# Alpha and Beta Diversity\n",
    "\n",
    "Different higher-level measures are often used to describe the microbiome in a sample. These do not provide information on changes in the abundance of specific taxa but allow us to access a broader change or difference in the composition of microorganisms. Alpha and beta diversity are examples of such measures.\n",
    "\n",
    "Different measures exist to estimate diversity within a single sample, jointly called alpha diversity. The different measures reflect the richness (number) or distribution (evenness) of a microbial sample or aim to reflect a combination of both properties.\n",
    "\n",
    "Rarefaction curves are often used when calculating alpha diversity indices because increasing numbers of sequenced taxa allow increasingly accurate estimates of total population diversity. Rarefaction curves can therefore be used to estimate the full sample richness, as compared to the observed sample richness.\n",
    "\n",
    "While alpha diversity is a measure of microbiome diversity applicable to a single sample, beta diversity is a measure of the similarity or dissimilarity of two communities. As for alpha diversity, many indices exist, each reflecting different aspects of community heterogeneity. Key differences relate to how the indices value variation in rare species if they consider presence/absence only or incorporate abundance, and how they interpret shared absence. Bray-Curtis dissimilarity is a popular measure that considers both size (overall abundance per sample) and shape (abundance of each taxon) of the communities (Bray, 1957). Beta diversity is an essential measure for many popular statistical methods in ecology, such as ordination-based methods, and is widely used for studying the association between environmental variables and microbial composition.\n",
    "\n",
    "In summary, alpha diversity measures can be seen as a summary statistic of a single population (within-sample diversity), while beta diversity measures are estimates of similarity or dissimilarity between populations (between samples).\n",
    "\n",
    "**Source**: (https://biomcare.com/info/key-terms-in-microbiome-projects/)"
   ]
  },
  {
   "cell_type": "markdown",
   "id": "0e7f2330",
   "metadata": {
    "ExecuteTime": {
     "end_time": "2022-09-22T19:36:33.828188Z",
     "start_time": "2022-09-22T19:36:33.817323Z"
    },
    "papermill": {
     "duration": 0.027078,
     "end_time": "2023-06-07T02:38:08.356115",
     "exception": false,
     "start_time": "2023-06-07T02:38:08.329037",
     "status": "completed"
    },
    "tags": []
   },
   "source": [
    "### STEP : Diversity Analysis\n",
    "\n",
    "Using QIIME2 to create diversity analisys graphs and calculations.\n",
    "\n",
    "- [QIIME2 Workflow Overview](https://docs.qiime2.org/2022.8/tutorials/overview/)\n",
    "\n",
    "\n",
    "#### Methods\n",
    "- [diversity](https://docs.qiime2.org/2022.8/plugins/available/diversity/)\n",
    "- [diversity alpha](https://docs.qiime2.org/2022.8/plugins/available/diversity/alpha/)\n",
    "- [diversity alpha_phylogenetic](https://docs.qiime2.org/2022.8/plugins/available/diversity/alpha-phylogenetic/)\n",
    "- [diversity beta](https://docs.qiime2.org/2022.8/plugins/available/diversity/beta/)\n",
    "- [diversity core_metrics](https://docs.qiime2.org/2022.8/plugins/available/diversity/core-metrics/)\n",
    "- [diversity alpha_group_significance](https://docs.qiime2.org/2022.8/plugins/available/diversity/alpha-group-significance/)\n",
    "- [diversity beta_group_significance](https://docs.qiime2.org/2022.8/plugins/available/diversity/beta-group-significance/)\n",
    "- [feature_table core_features](https://docs.qiime2.org/2022.8/plugins/available/feature-table/core-features/)\n",
    "- [feature_table summarize](https://docs.qiime2.org/2022.8/plugins/available/feature-table/summarize/)\n",
    "- [taxa filter-table](https://docs.qiime2.org/2022.8/plugins/available/taxa/filter-table/)\n",
    "- [taxa collapse](https://docs.qiime2.org/2022.8/plugins/available/taxa/collapse/)"
   ]
  },
  {
   "cell_type": "markdown",
   "id": "843debbf",
   "metadata": {
    "papermill": {
     "duration": 0.01568,
     "end_time": "2023-06-07T02:38:08.388037",
     "exception": false,
     "start_time": "2023-06-07T02:38:08.372357",
     "status": "completed"
    },
    "tags": []
   },
   "source": [
    "## Setup and settings"
   ]
  },
  {
   "cell_type": "code",
   "execution_count": 1,
   "id": "965e28e5",
   "metadata": {
    "ExecuteTime": {
     "end_time": "2022-11-03T20:35:26.198671Z",
     "start_time": "2022-11-03T20:35:06.473173Z"
    },
    "execution": {
     "iopub.execute_input": "2023-06-07T02:38:08.420740Z",
     "iopub.status.busy": "2023-06-07T02:38:08.420263Z",
     "iopub.status.idle": "2023-06-07T02:38:20.975964Z",
     "shell.execute_reply": "2023-06-07T02:38:20.975211Z"
    },
    "papermill": {
     "duration": 12.575876,
     "end_time": "2023-06-07T02:38:20.979301",
     "exception": false,
     "start_time": "2023-06-07T02:38:08.403425",
     "status": "completed"
    },
    "tags": []
   },
   "outputs": [],
   "source": [
    "# Importing packages\n",
    "import os\n",
    "import pandas as pd\n",
    "from qiime2 import Artifact\n",
    "from qiime2 import Visualization\n",
    "from qiime2 import Metadata\n",
    "\n",
    "from qiime2.plugins.phylogeny.pipelines import align_to_tree_mafft_fasttree\n",
    "\n",
    "from qiime2.plugins.diversity.pipelines import alpha\n",
    "from qiime2.plugins.diversity.pipelines import beta\n",
    "from qiime2.plugins.diversity.pipelines import core_metrics\n",
    "from qiime2.plugins.diversity.pipelines import alpha_phylogenetic\n",
    "\n",
    "from qiime2.plugins.diversity.visualizers import alpha_group_significance\n",
    "from qiime2.plugins.diversity.visualizers import beta_group_significance\n",
    "from qiime2.plugins.diversity.visualizers import alpha_correlation\n",
    "from qiime2.plugins.diversity.visualizers import beta_rarefaction\n",
    "\n",
    "from qiime2.plugins.taxa.methods import filter_table\n",
    "from qiime2.plugins.taxa.methods import collapse\n",
    "\n",
    "from qiime2.plugins.feature_table.visualizers import tabulate_seqs\n",
    "from qiime2.plugins.feature_table.visualizers import summarize\n",
    "from qiime2.plugins.feature_table.visualizers import core_features\n",
    "\n",
    "from qiime2.plugins.alignment.methods import mafft\n",
    "\n",
    "\n",
    "import matplotlib.pyplot as plt\n",
    "\n",
    "%matplotlib inline"
   ]
  },
  {
   "cell_type": "markdown",
   "id": "530ceb60",
   "metadata": {
    "papermill": {
     "duration": 0.014954,
     "end_time": "2023-06-07T02:38:21.017156",
     "exception": false,
     "start_time": "2023-06-07T02:38:21.002202",
     "status": "completed"
    },
    "tags": []
   },
   "source": [
    "### Receiving the parameters\n",
    "\n",
    "The following cell can receive parameters using the [papermill](https://papermill.readthedocs.io/en/latest/) tool."
   ]
  },
  {
   "cell_type": "code",
   "execution_count": 2,
   "id": "18d874ea",
   "metadata": {
    "ExecuteTime": {
     "end_time": "2022-09-29T20:54:14.793270Z",
     "start_time": "2022-09-29T20:54:14.789367Z"
    },
    "execution": {
     "iopub.execute_input": "2023-06-07T02:38:21.049176Z",
     "iopub.status.busy": "2023-06-07T02:38:21.048931Z",
     "iopub.status.idle": "2023-06-07T02:38:21.053490Z",
     "shell.execute_reply": "2023-06-07T02:38:21.052814Z"
    },
    "papermill": {
     "duration": 0.023924,
     "end_time": "2023-06-07T02:38:21.056559",
     "exception": false,
     "start_time": "2023-06-07T02:38:21.032635",
     "status": "completed"
    },
    "tags": [
     "parameters"
    ]
   },
   "outputs": [],
   "source": [
    "base_dir = os.path.join('/', 'home')\n",
    "metadata_file = os.path.abspath(os.path.join(base_dir, 'data', 'metadatada.tsv'))\n",
    "experiment_name = ''\n",
    "class_col = ''\n",
    "replace_files = False"
   ]
  },
  {
   "cell_type": "code",
   "execution_count": 3,
   "id": "b1c9aee6",
   "metadata": {
    "execution": {
     "iopub.execute_input": "2023-06-07T02:38:21.094443Z",
     "iopub.status.busy": "2023-06-07T02:38:21.094225Z",
     "iopub.status.idle": "2023-06-07T02:38:21.099477Z",
     "shell.execute_reply": "2023-06-07T02:38:21.098828Z"
    },
    "papermill": {
     "duration": 0.022722,
     "end_time": "2023-06-07T02:38:21.100981",
     "exception": false,
     "start_time": "2023-06-07T02:38:21.078259",
     "status": "completed"
    },
    "tags": [
     "injected-parameters"
    ]
   },
   "outputs": [],
   "source": [
    "# Parameters\n",
    "experiment_name = \"ana-flavia-NCxSTD-NC-trim\"\n",
    "base_dir = \"/home/lauro/nupeb/rede-micro/redemicro-ana-flavia-nutri\"\n",
    "manifest_file = \"/home/lauro/nupeb/rede-micro/redemicro-ana-flavia-nutri/data/raw/manifest/manifest-ana-flavia-NCxSTD-NC.csv\"\n",
    "metadata_file = \"/home/lauro/nupeb/rede-micro/redemicro-ana-flavia-nutri/data/raw/metadata/metadata-ana-flavia-NCxSTD-NC.tsv\"\n",
    "class_col = \"group-id\"\n",
    "classifier_file = \"/home/lauro/nupeb/rede-micro/models/silva-138-99-nb-classifier.qza\"\n",
    "top_n = 20\n",
    "replace_files = False\n",
    "phred = 20\n",
    "trunc_f = 0\n",
    "trunc_r = 0\n",
    "overlap = 12\n",
    "threads = 6\n",
    "trim = {\n",
    "    \"overlap\": 8,\n",
    "    \"forward_primer\": \"CCTACGGGRSGCAGCAG\",\n",
    "    \"reverse_primer\": \"GGACTACHVGGGTWTCTAAT\",\n",
    "}\n"
   ]
  },
  {
   "cell_type": "code",
   "execution_count": 4,
   "id": "f38617d9",
   "metadata": {
    "ExecuteTime": {
     "end_time": "2022-09-29T20:54:14.804575Z",
     "start_time": "2022-09-29T20:54:14.794927Z"
    },
    "execution": {
     "iopub.execute_input": "2023-06-07T02:38:21.133865Z",
     "iopub.status.busy": "2023-06-07T02:38:21.133646Z",
     "iopub.status.idle": "2023-06-07T02:38:21.137811Z",
     "shell.execute_reply": "2023-06-07T02:38:21.137149Z"
    },
    "papermill": {
     "duration": 0.02187,
     "end_time": "2023-06-07T02:38:21.139537",
     "exception": false,
     "start_time": "2023-06-07T02:38:21.117667",
     "status": "completed"
    },
    "tags": []
   },
   "outputs": [],
   "source": [
    "experiment_folder = os.path.abspath(os.path.join(base_dir, 'experiments', experiment_name))\n",
    "img_folder = os.path.abspath(os.path.join(experiment_folder, 'imgs'))"
   ]
  },
  {
   "cell_type": "markdown",
   "id": "ea9b90fb",
   "metadata": {
    "papermill": {
     "duration": 0.017526,
     "end_time": "2023-06-07T02:38:21.173125",
     "exception": false,
     "start_time": "2023-06-07T02:38:21.155599",
     "status": "completed"
    },
    "tags": []
   },
   "source": [
    "### Defining names, paths and flags"
   ]
  },
  {
   "cell_type": "code",
   "execution_count": 5,
   "id": "45727eef",
   "metadata": {
    "ExecuteTime": {
     "end_time": "2022-09-29T20:54:14.816686Z",
     "start_time": "2022-09-29T20:54:14.806238Z"
    },
    "execution": {
     "iopub.execute_input": "2023-06-07T02:38:21.205243Z",
     "iopub.status.busy": "2023-06-07T02:38:21.204911Z",
     "iopub.status.idle": "2023-06-07T02:38:21.215890Z",
     "shell.execute_reply": "2023-06-07T02:38:21.215093Z"
    },
    "papermill": {
     "duration": 0.028912,
     "end_time": "2023-06-07T02:38:21.217429",
     "exception": false,
     "start_time": "2023-06-07T02:38:21.188517",
     "status": "completed"
    },
    "tags": []
   },
   "outputs": [
    {
     "name": "stdout",
     "output_type": "stream",
     "text": [
      "The new directory is created in /home/lauro/nupeb/rede-micro/redemicro-ana-flavia-nutri/experiments/ana-flavia-NCxSTD-NC-trim/qiime-artifacts/alpha-analysis\n",
      "The new directory is created in /home/lauro/nupeb/rede-micro/redemicro-ana-flavia-nutri/experiments/ana-flavia-NCxSTD-NC-trim/qiime-artifacts/beta-analysis\n"
     ]
    }
   ],
   "source": [
    "# QIIME2 Artifacts folder\n",
    "qiime_folder = os.path.join(experiment_folder, 'qiime-artifacts')\n",
    "\n",
    "# Input - DADA2 Artifacts\n",
    "dada2_tabs_path = os.path.join(qiime_folder, 'dada2-tabs.qza')\n",
    "dada2_reps_path = os.path.join(qiime_folder, 'dada2-reps.qza')\n",
    "dada2_stat_path = os.path.join(qiime_folder, 'dada2-stat.qza')\n",
    "\n",
    "# Input - Taxonaomic Artifacts\n",
    "taxonomy_path = os.path.join(qiime_folder, 'metatax.qza')\n",
    "\n",
    "# Create folder to store Alpha files\n",
    "alpha_path = os.path.join(qiime_folder, 'alpha-analysis')\n",
    "if not os.path.exists(alpha_path):\n",
    "    os.makedirs(alpha_path)\n",
    "    print(f'The new directory is created in {alpha_path}')\n",
    "    \n",
    "# Create folder to store Beta files\n",
    "beta_path = os.path.join(qiime_folder, 'beta-analysis')\n",
    "if not os.path.exists(beta_path):\n",
    "    os.makedirs(beta_path)\n",
    "    print(f'The new directory is created in {beta_path}')\n",
    "\n",
    "# Output -Diversity Artifacts\n",
    "alpha_diversity_path = os.path.join(alpha_path, 'alpha-diversity.qza')\n",
    "alpha_diversity_view_path = os.path.join(alpha_path, 'alpha-diversity.qzv')\n",
    "beta_diversity_path = os.path.join(beta_path, 'beta-diversity.qza')\n",
    "beta_diversity_view_path = os.path.join(beta_path, 'beta-diversity.qzv')"
   ]
  },
  {
   "cell_type": "code",
   "execution_count": 6,
   "id": "601ae263",
   "metadata": {
    "ExecuteTime": {
     "end_time": "2022-09-29T20:54:14.829117Z",
     "start_time": "2022-09-29T20:54:14.818272Z"
    },
    "execution": {
     "iopub.execute_input": "2023-06-07T02:38:21.252517Z",
     "iopub.status.busy": "2023-06-07T02:38:21.252358Z",
     "iopub.status.idle": "2023-06-07T02:38:21.257525Z",
     "shell.execute_reply": "2023-06-07T02:38:21.256895Z"
    },
    "papermill": {
     "duration": 0.022951,
     "end_time": "2023-06-07T02:38:21.259145",
     "exception": false,
     "start_time": "2023-06-07T02:38:21.236194",
     "status": "completed"
    },
    "tags": []
   },
   "outputs": [],
   "source": [
    "def filter_and_collapse(tab, seqs, tax, meta, lvl, exclude=True, exclude_list='uncultured,unidentified,metagenome'):\n",
    "    from qiime2.plugins.taxa.methods import collapse\n",
    "    from qiime2.plugins.taxa.methods import filter_table\n",
    "    from qiime2.plugins.feature_table.methods import filter_seqs\n",
    "    from qiime2.plugins.feature_table.visualizers import summarize\n",
    "    \n",
    "    to_include = ('d', 'p', 'c', 'o', 'f', 'g', 's')[lvl-1]\n",
    "    to_include += '__'\n",
    "    to_exclude = exclude_list if exclude else None\n",
    "    \n",
    "    filtered_tabs = filter_table(\n",
    "        table=tab, \n",
    "        taxonomy=tax,\n",
    "        include=to_include,\n",
    "        exclude=to_exclude,\n",
    "        mode='contains').filtered_table\n",
    "    \n",
    "    filtered_seqs = filter_seqs(\n",
    "        data = seqs,\n",
    "        table = filtered_tabs,\n",
    "    ).filtered_data\n",
    "    \n",
    "    collapsed_table = collapse(table=filtered_tabs, taxonomy=tax, level=lvl).collapsed_table\n",
    "    collapsed_table_view = summarize(table=collapsed_table, sample_metadata=meta).visualization\n",
    "    \n",
    "    return collapsed_table, collapsed_table_view, filtered_seqs"
   ]
  },
  {
   "cell_type": "markdown",
   "id": "0999a1b2",
   "metadata": {
    "papermill": {
     "duration": 0.025616,
     "end_time": "2023-06-07T02:38:21.303565",
     "exception": false,
     "start_time": "2023-06-07T02:38:21.277949",
     "status": "completed"
    },
    "tags": []
   },
   "source": [
    "## Step execution\n",
    "\n",
    "### Load input files\n",
    "\n",
    "This Step import the QIIME2 `FeatureTable[Frequency]` Artifact and the `Metadata` file."
   ]
  },
  {
   "cell_type": "code",
   "execution_count": 7,
   "id": "8f299d1a",
   "metadata": {
    "ExecuteTime": {
     "end_time": "2022-09-29T20:54:15.559837Z",
     "start_time": "2022-09-29T20:54:14.830405Z"
    },
    "execution": {
     "iopub.execute_input": "2023-06-07T02:38:21.356745Z",
     "iopub.status.busy": "2023-06-07T02:38:21.356390Z",
     "iopub.status.idle": "2023-06-07T02:38:21.907942Z",
     "shell.execute_reply": "2023-06-07T02:38:21.907285Z"
    },
    "papermill": {
     "duration": 0.581855,
     "end_time": "2023-06-07T02:38:21.910941",
     "exception": false,
     "start_time": "2023-06-07T02:38:21.329086",
     "status": "completed"
    },
    "tags": []
   },
   "outputs": [],
   "source": [
    "#Load Metadata\n",
    "metadata_qa = Metadata.load(metadata_file)\n",
    "\n",
    "#Load FeatureTable[Frequency]\n",
    "tabs = Artifact.load(dada2_tabs_path)\n",
    "tabs_df = tabs.view(Metadata).to_dataframe().T\n",
    "\n",
    "# FeatureData[Sequence]\n",
    "reps = Artifact.load(dada2_reps_path)\n",
    "\n",
    "# FeatureData[Taxonomy]\n",
    "tax = Artifact.load(taxonomy_path)"
   ]
  },
  {
   "cell_type": "code",
   "execution_count": 8,
   "id": "c8dfe530",
   "metadata": {
    "ExecuteTime": {
     "end_time": "2022-09-29T20:54:15.564968Z",
     "start_time": "2022-09-29T20:54:15.561875Z"
    },
    "execution": {
     "iopub.execute_input": "2023-06-07T02:38:21.950885Z",
     "iopub.status.busy": "2023-06-07T02:38:21.950724Z",
     "iopub.status.idle": "2023-06-07T02:38:21.953624Z",
     "shell.execute_reply": "2023-06-07T02:38:21.953099Z"
    },
    "papermill": {
     "duration": 0.020659,
     "end_time": "2023-06-07T02:38:21.955024",
     "exception": false,
     "start_time": "2023-06-07T02:38:21.934365",
     "status": "completed"
    },
    "tags": []
   },
   "outputs": [],
   "source": [
    "# lvl = 7\n",
    "# exclude = True\n",
    "# tabs, collapsed_table_view, reps = filter_and_collapse(\n",
    "#                     tabs, reps, tax, metadata_qa, \n",
    "#                     lvl=lvl,\n",
    "#                     exclude=exclude, \n",
    "#                     exclude_list='uncultured,unidentified,metagenome')\n",
    "# collapsed_table_view"
   ]
  },
  {
   "cell_type": "markdown",
   "id": "9f43843a",
   "metadata": {
    "ExecuteTime": {
     "end_time": "2022-09-22T22:48:07.523952Z",
     "start_time": "2022-09-22T22:48:07.517565Z"
    },
    "papermill": {
     "duration": 0.015986,
     "end_time": "2023-06-07T02:38:21.986716",
     "exception": false,
     "start_time": "2023-06-07T02:38:21.970730",
     "status": "completed"
    },
    "tags": []
   },
   "source": [
    "## Alpha diversity analysis\n",
    "\n",
    "#### Reference\n",
    "- [The Use and Types of Alpha-Diversity Metrics in Microbial NGS](https://www.cd-genomics.com/microbioseq/the-use-and-types-of-alpha-diversity-metrics-in-microbial-ngs.html)\n",
    "- [Alpha diversity metrics](http://scikit-bio.org/docs/0.2.0/generated/skbio.diversity.alpha.html)\n",
    "\n",
    "#### Methods\n",
    "- [diversity alpha](https://docs.qiime2.org/2022.8/plugins/available/diversity/alpha/): Computes a user-specified alpha diversity metric for all samples in a\n",
    "feature table.\n",
    "- [diversity alpha_phylogenetic](https://docs.qiime2.org/2022.8/plugins/available/diversity/alpha-phylogenetic/): Computes a user-specified phylogenetic alpha diversity metric for all\n",
    "samples in a feature table.\n",
    "- [diversity alpha_correlation](https://docs.qiime2.org/2022.8/plugins/available/diversity/alpha-correlation/): Determine whether numeric sample metadata columns are correlated with alpha diversity.\n",
    "- [diversity alpha_group_significance](https://docs.qiime2.org/2022.8/plugins/available/diversity/alpha-group-significance/): Visually and statistically compare groups of alpha diversity values."
   ]
  },
  {
   "cell_type": "markdown",
   "id": "606b9c75",
   "metadata": {
    "papermill": {
     "duration": 0.01569,
     "end_time": "2023-06-07T02:38:22.018487",
     "exception": false,
     "start_time": "2023-06-07T02:38:22.002797",
     "status": "completed"
    },
    "tags": []
   },
   "source": [
    "### Compute Alpha Diversity vectors\n",
    "- [diversity alpha](https://docs.qiime2.org/2022.8/plugins/available/diversity/alpha/): Computes a user-specified alpha diversity metric for all samples in a feature table.\n",
    "- [Alpha diversity metrics](http://scikit-bio.org/docs/0.2.0/generated/skbio.diversity.alpha.html)\n",
    " - Choices: ('ace', 'berger_parker_d', 'brillouin_d', 'chao1', 'chao1_ci', 'dominance', 'doubles', 'enspie', 'esty_ci', 'fisher_alpha', 'gini_index', 'goods_coverage', 'heip_e', 'kempton_taylor_q', 'lladser_pe', 'margalef', 'mcintosh_d', 'mcintosh_e', 'menhinick', 'michaelis_menten_fit', 'observed_features', 'osd', 'pielou_e', 'robbins', 'shannon', 'simpson', 'simpson_e', 'singles', 'strong')"
   ]
  },
  {
   "cell_type": "code",
   "execution_count": 9,
   "id": "556e5264",
   "metadata": {
    "ExecuteTime": {
     "end_time": "2022-09-29T20:54:20.790166Z",
     "start_time": "2022-09-29T20:54:20.451134Z"
    },
    "execution": {
     "iopub.execute_input": "2023-06-07T02:38:22.051171Z",
     "iopub.status.busy": "2023-06-07T02:38:22.050894Z",
     "iopub.status.idle": "2023-06-07T05:47:29.244957Z",
     "shell.execute_reply": "2023-06-07T05:47:29.244387Z"
    },
    "papermill": {
     "duration": 11347.21338,
     "end_time": "2023-06-07T05:47:29.247749",
     "exception": false,
     "start_time": "2023-06-07T02:38:22.034369",
     "status": "completed"
    },
    "tags": []
   },
   "outputs": [
    {
     "name": "stdout",
     "output_type": "stream",
     "text": [
      "Calculating alpha diversity: ace\n",
      "DONE: Calculating alpha diversity: ace\n",
      "Calculating alpha diversity: berger_parker_d\n",
      "DONE: Calculating alpha diversity: berger_parker_d\n",
      "Calculating alpha diversity: brillouin_d\n",
      "DONE: Calculating alpha diversity: brillouin_d\n",
      "Calculating alpha diversity: chao1\n"
     ]
    },
    {
     "name": "stdout",
     "output_type": "stream",
     "text": [
      "DONE: Calculating alpha diversity: chao1\n",
      "Calculating alpha diversity: chao1_ci\n",
      "DONE: Calculating alpha diversity: chao1_ci\n",
      "Calculating alpha diversity: dominance\n",
      "DONE: Calculating alpha diversity: dominance\n",
      "Calculating alpha diversity: doubles\n"
     ]
    },
    {
     "name": "stdout",
     "output_type": "stream",
     "text": [
      "DONE: Calculating alpha diversity: doubles\n",
      "Calculating alpha diversity: enspie\n",
      "DONE: Calculating alpha diversity: enspie\n",
      "Calculating alpha diversity: esty_ci\n",
      "DONE: Calculating alpha diversity: esty_ci\n",
      "Calculating alpha diversity: fisher_alpha\n",
      "DONE: Calculating alpha diversity: fisher_alpha\n",
      "Calculating alpha diversity: gini_index\n"
     ]
    },
    {
     "name": "stdout",
     "output_type": "stream",
     "text": [
      "DONE: Calculating alpha diversity: gini_index\n",
      "Calculating alpha diversity: goods_coverage\n",
      "DONE: Calculating alpha diversity: goods_coverage\n",
      "Calculating alpha diversity: heip_e\n",
      "DONE: Calculating alpha diversity: heip_e\n",
      "Calculating alpha diversity: kempton_taylor_q\n",
      "DONE: Calculating alpha diversity: kempton_taylor_q\n",
      "Calculating alpha diversity: lladser_pe\n"
     ]
    },
    {
     "name": "stderr",
     "output_type": "stream",
     "text": [
      "/home/lauro/anaconda3/envs/qiime2-2022.2/lib/python3.8/site-packages/skbio/diversity/alpha/_base.py:440: RuntimeWarning: invalid value encountered in long_scalars\n",
      "  return (upper - lower) / np.log(sorted_counts[upper] /\n",
      "/home/lauro/anaconda3/envs/qiime2-2022.2/lib/python3.8/site-packages/skbio/diversity/alpha/_base.py:440: RuntimeWarning: divide by zero encountered in long_scalars\n",
      "  return (upper - lower) / np.log(sorted_counts[upper] /\n"
     ]
    },
    {
     "name": "stdout",
     "output_type": "stream",
     "text": [
      "DONE: Calculating alpha diversity: lladser_pe\n",
      "Calculating alpha diversity: margalef\n",
      "DONE: Calculating alpha diversity: margalef\n",
      "Calculating alpha diversity: mcintosh_d\n",
      "DONE: Calculating alpha diversity: mcintosh_d\n",
      "Calculating alpha diversity: mcintosh_e\n",
      "DONE: Calculating alpha diversity: mcintosh_e\n",
      "Calculating alpha diversity: menhinick\n"
     ]
    },
    {
     "name": "stdout",
     "output_type": "stream",
     "text": [
      "DONE: Calculating alpha diversity: menhinick\n",
      "Calculating alpha diversity: michaelis_menten_fit\n"
     ]
    },
    {
     "name": "stdout",
     "output_type": "stream",
     "text": [
      "DONE: Calculating alpha diversity: michaelis_menten_fit\n",
      "Calculating alpha diversity: observed_features\n",
      "DONE: Calculating alpha diversity: observed_features\n",
      "Calculating alpha diversity: osd\n",
      "DONE: Calculating alpha diversity: osd\n",
      "Calculating alpha diversity: pielou_e\n",
      "DONE: Calculating alpha diversity: pielou_e\n",
      "Calculating alpha diversity: robbins\n"
     ]
    },
    {
     "name": "stdout",
     "output_type": "stream",
     "text": [
      "DONE: Calculating alpha diversity: robbins\n",
      "Calculating alpha diversity: shannon\n",
      "DONE: Calculating alpha diversity: shannon\n",
      "Calculating alpha diversity: simpson\n",
      "DONE: Calculating alpha diversity: simpson\n",
      "Calculating alpha diversity: simpson_e\n",
      "DONE: Calculating alpha diversity: simpson_e\n",
      "Calculating alpha diversity: singles\n"
     ]
    },
    {
     "name": "stdout",
     "output_type": "stream",
     "text": [
      "DONE: Calculating alpha diversity: singles\n",
      "Calculating alpha diversity: strong\n",
      "DONE: Calculating alpha diversity: strong\n"
     ]
    }
   ],
   "source": [
    "metrics = ('ace', 'berger_parker_d', 'brillouin_d', 'chao1', 'chao1_ci', 'dominance', 'doubles', 'enspie', 'esty_ci', 'fisher_alpha', 'gini_index', 'goods_coverage', 'heip_e', 'kempton_taylor_q', 'lladser_pe', 'margalef', 'mcintosh_d', 'mcintosh_e', 'menhinick', 'michaelis_menten_fit', 'observed_features', 'osd', 'pielou_e', 'robbins', 'shannon', 'simpson', 'simpson_e', 'singles', 'strong')\n",
    "alpha_diversities = dict()\n",
    "for metric in metrics:\n",
    "    print(f\"Calculating alpha diversity: {metric}\")\n",
    "    try:\n",
    "        alpha_diversity = alpha(table=tabs, metric=metric).alpha_diversity\n",
    "        alpha_diversities[metric] = alpha_diversity\n",
    "        # Save SampleData[AlphaDiversity] Artifact\n",
    "        file_path = os.path.join(alpha_path, f'alpha-values-{metric}.qza')\n",
    "        alpha_diversity.save(file_path)\n",
    "        print(f\"DONE: Calculating alpha diversity: {metric}\")\n",
    "    except Exception as e:\n",
    "        print(f\"ERROR: Calculating alpha diversity: {metric}\")\n",
    "        print(e)"
   ]
  },
  {
   "cell_type": "markdown",
   "id": "184bcb7b",
   "metadata": {
    "papermill": {
     "duration": 0.018707,
     "end_time": "2023-06-07T05:47:29.291888",
     "exception": false,
     "start_time": "2023-06-07T05:47:29.273181",
     "status": "completed"
    },
    "tags": []
   },
   "source": [
    "### Create Phylogenetic inference\n",
    "\n",
    "- [alignment align_to_tree_mafft_fasttree](https://docs.qiime2.org/2022.8/plugins/available/phylogeny/align-to-tree-mafft-fasttree/): Build a phylogenetic tree using fasttree and mafft alignment\n",
    "\n",
    "This pipeline will start by creating a sequence alignment using MAFFT,\n",
    "after which any alignment columns that are phylogenetically uninformative\n",
    "or ambiguously aligned will be removed (masked). The resulting masked\n",
    "alignment will be used to infer a phylogenetic tree and then subsequently\n",
    "rooted at its midpoint. Output files from each step of the pipeline will be\n",
    "saved. This includes both the unmasked and masked MAFFT alignment from\n",
    "q2-alignment methods, and both the rooted and unrooted phylogenies from\n",
    "q2-phylogeny methods.\n",
    "\n",
    "\n",
    "Returns\n",
    "- alignment : FeatureData[AlignedSequence] : The aligned sequences.\n",
    "- masked_alignment : FeatureData[AlignedSequence] : The masked alignment.\n",
    "- tree : Phylogeny[Unrooted] : The unrooted phylogenetic tree.\n",
    "- rooted_tree : Phylogeny[Rooted] : The rooted phylogenetic tree."
   ]
  },
  {
   "cell_type": "code",
   "execution_count": 10,
   "id": "9c8cfe47",
   "metadata": {
    "ExecuteTime": {
     "end_time": "2022-09-29T20:54:35.139531Z",
     "start_time": "2022-09-29T20:54:20.792130Z"
    },
    "execution": {
     "iopub.execute_input": "2023-06-07T05:47:29.340452Z",
     "iopub.status.busy": "2023-06-07T05:47:29.340282Z",
     "iopub.status.idle": "2023-06-07T05:47:48.369330Z",
     "shell.execute_reply": "2023-06-07T05:47:48.368642Z"
    },
    "papermill": {
     "duration": 19.061875,
     "end_time": "2023-06-07T05:47:48.372257",
     "exception": false,
     "start_time": "2023-06-07T05:47:29.310382",
     "status": "completed"
    },
    "tags": []
   },
   "outputs": [
    {
     "name": "stdout",
     "output_type": "stream",
     "text": [
      "Running external command line application. This may print messages to stdout and/or stderr.\n",
      "The command being run is below. This command cannot be manually re-run as it will depend on temporary files that no longer exist.\n",
      "\n",
      "Command: mafft --preservecase --inputorder --thread 6 /tmp/qiime2-archive-4jpka2mh/71df1a59-fde3-4f89-965b-aa2d979f8865/data/dna-sequences.fasta\n",
      "\n"
     ]
    },
    {
     "name": "stderr",
     "output_type": "stream",
     "text": [
      "inputfile = orig\n",
      "1082 x 430 - 271 d\n",
      "nthread = 6\n",
      "nthreadpair = 6\n",
      "nthreadtb = 6\n",
      "ppenalty_ex = 0\n",
      "stacksize: 8192 kb\n",
      "generating a scoring matrix for nucleotide (dist=200) ... done\n",
      "Gap Penalty = -1.53, +0.00, +0.00\n",
      "\n",
      "\n",
      "\n",
      "Making a distance matrix ..\n",
      "\r",
      "    1 / 1082 (thread    0)\r",
      "  101 / 1082 (thread    2)\r",
      "  201 / 1082 (thread    3)\r",
      "  301 / 1082 (thread    1)\r",
      "  401 / 1082 (thread    2)\r",
      "  501 / 1082 (thread    2)\r",
      "  601 / 1082 (thread    1)"
     ]
    },
    {
     "name": "stderr",
     "output_type": "stream",
     "text": [
      "\r",
      "  701 / 1082 (thread    2)\r",
      "  801 / 1082 (thread    5)\r",
      "  901 / 1082 (thread    4)\r",
      " 1001 / 1082 (thread    0)\n",
      "done.\n",
      "\n",
      "Constructing a UPGMA tree (efffree=0) ... \n",
      "\r",
      "    0 / 1082\r",
      "   10 / 1082\r",
      "   20 / 1082\r",
      "   30 / 1082\r",
      "   40 / 1082\r",
      "   50 / 1082\r",
      "   60 / 1082\r",
      "   70 / 1082\r",
      "   80 / 1082\r",
      "   90 / 1082\r",
      "  100 / 1082\r",
      "  110 / 1082\r",
      "  120 / 1082\r",
      "  130 / 1082\r",
      "  140 / 1082\r",
      "  150 / 1082\r",
      "  160 / 1082\r",
      "  170 / 1082\r",
      "  180 / 1082\r",
      "  190 / 1082\r",
      "  200 / 1082\r",
      "  210 / 1082\r",
      "  220 / 1082\r",
      "  230 / 1082\r",
      "  240 / 1082\r",
      "  250 / 1082\r",
      "  260 / 1082\r",
      "  270 / 1082\r",
      "  280 / 1082\r",
      "  290 / 1082\r",
      "  300 / 1082\r",
      "  310 / 1082\r",
      "  320 / 1082\r",
      "  330 / 1082\r",
      "  340 / 1082\r",
      "  350 / 1082\r",
      "  360 / 1082\r",
      "  370 / 1082\r",
      "  380 / 1082\r",
      "  390 / 1082\r",
      "  400 / 1082\r",
      "  410 / 1082\r",
      "  420 / 1082\r",
      "  430 / 1082\r",
      "  440 / 1082\r",
      "  450 / 1082\r",
      "  460 / 1082\r",
      "  470 / 1082\r",
      "  480 / 1082\r",
      "  490 / 1082\r",
      "  500 / 1082\r",
      "  510 / 1082\r",
      "  520 / 1082\r",
      "  530 / 1082\r",
      "  540 / 1082\r",
      "  550 / 1082\r",
      "  560 / 1082\r",
      "  570 / 1082\r",
      "  580 / 1082\r",
      "  590 / 1082\r",
      "  600 / 1082\r",
      "  610 / 1082\r",
      "  620 / 1082\r",
      "  630 / 1082\r",
      "  640 / 1082\r",
      "  650 / 1082\r",
      "  660 / 1082\r",
      "  670 / 1082\r",
      "  680 / 1082\r",
      "  690 / 1082\r",
      "  700 / 1082\r",
      "  710 / 1082\r",
      "  720 / 1082\r",
      "  730 / 1082\r",
      "  740 / 1082\r",
      "  750 / 1082\r",
      "  760 / 1082\r",
      "  770 / 1082\r",
      "  780 / 1082\r",
      "  790 / 1082\r",
      "  800 / 1082\r",
      "  810 / 1082\r",
      "  820 / 1082\r",
      "  830 / 1082\r",
      "  840 / 1082\r",
      "  850 / 1082\r",
      "  860 / 1082\r",
      "  870 / 1082\r",
      "  880 / 1082\r",
      "  890 / 1082\r",
      "  900 / 1082\r",
      "  910 / 1082\r",
      "  920 / 1082\r",
      "  930 / 1082\r",
      "  940 / 1082\r",
      "  950 / 1082\r",
      "  960 / 1082\r",
      "  970 / 1082\r",
      "  980 / 1082\r",
      "  990 / 1082\r",
      " 1000 / 1082\r",
      " 1010 / 1082\r",
      " 1020 / 1082\r",
      " 1030 / 1082\r",
      " 1040 / 1082\r",
      " 1050 / 1082\r",
      " 1060 / 1082\r",
      " 1070 / 1082\r",
      " 1080 / 1082\n",
      "done.\n",
      "\n",
      "Progressive alignment 1/2... \n",
      "\r",
      "STEP     1 / 1081 (thread    0) f\b\b\r",
      "STEP     3 / 1081 (thread    3) f\b\b\r",
      "STEP     4 / 1081 (thread    2) f\b\b\r",
      "STEP     5 / 1081 (thread    4) f\b\b\r",
      "STEP     6 / 1081 (thread    5) f\b\b\r",
      "STEP     7 / 1081 (thread    0) f\b\b\r",
      "STEP     2 / 1081 (thread    1) f\b\b\r",
      "STEP     8 / 1081 (thread    4) f\b\b\r",
      "STEP     9 / 1081 (thread    5) f\b\b\r",
      "STEP    10 / 1081 (thread    0) f\b\b\r",
      "STEP    11 / 1081 (thread    4) f\b\b\r",
      "STEP    12 / 1081 (thread    0) f\b\b\r",
      "STEP    13 / 1081 (thread    2) f\b\b\r",
      "STEP    14 / 1081 (thread    3) f\b\b\r",
      "STEP    15 / 1081 (thread    4) f\b\b\r",
      "STEP    16 / 1081 (thread    0) f\b\b\r",
      "STEP    17 / 1081 (thread    1) f\b\b\r",
      "STEP    18 / 1081 (thread    5) f\b\b\r",
      "STEP    19 / 1081 (thread    4) f\b\b\r",
      "STEP    20 / 1081 (thread    0) f\b\b\r",
      "STEP    21 / 1081 (thread    2) f\b\b\r",
      "STEP    22 / 1081 (thread    3) f\b\b\r",
      "STEP    23 / 1081 (thread    4) f\b\b\r",
      "STEP    24 / 1081 (thread    0) f\b\b\r",
      "STEP    25 / 1081 (thread    1) f\b\b\r",
      "STEP    26 / 1081 (thread    5) f\b\b\r",
      "STEP    27 / 1081 (thread    2) f\b\b\r",
      "STEP    28 / 1081 (thread    4) f\b\b\r",
      "STEP    29 / 1081 (thread    0) f\b\b\r",
      "STEP    30 / 1081 (thread    3) f\b\b\r",
      "STEP    31 / 1081 (thread    4) f\b\b\r",
      "STEP    32 / 1081 (thread    1) f\b\b\r",
      "STEP    33 / 1081 (thread    2) f\b\b\r",
      "STEP    34 / 1081 (thread    0) f\b\b\r",
      "STEP    35 / 1081 (thread    5) f\b\b\r",
      "STEP    36 / 1081 (thread    4) f\b\b\r",
      "STEP    37 / 1081 (thread    3) f\b\b\r",
      "STEP    38 / 1081 (thread    0) f\b\b\r",
      "STEP    39 / 1081 (thread    1) f\b\b\r",
      "STEP    40 / 1081 (thread    2) f\b\b\r",
      "STEP    41 / 1081 (thread    4) f\b\b\r",
      "STEP    42 / 1081 (thread    5) f\b\b\r",
      "STEP    43 / 1081 (thread    0) f\b\b\r",
      "STEP    44 / 1081 (thread    2) f\b\b\r",
      "STEP    45 / 1081 (thread    4) f\b\b\r",
      "STEP    46 / 1081 (thread    3) f\b\b\r",
      "STEP    47 / 1081 (thread    0) f\b\b\r",
      "STEP    48 / 1081 (thread    4) f\b\b\r",
      "STEP    49 / 1081 (thread    5) f\b\b\r",
      "STEP    50 / 1081 (thread    2) f\b\b\r",
      "STEP    51 / 1081 (thread    1) f\b\b\r",
      "STEP    52 / 1081 (thread    0) f\b\b\r",
      "STEP    53 / 1081 (thread    3) f\b\b\r",
      "STEP    54 / 1081 (thread    4) f\b\b\r",
      "STEP    55 / 1081 (thread    5) f\b\b\r",
      "STEP    56 / 1081 (thread    0) f\b\b\r",
      "STEP    57 / 1081 (thread    3) f\b\b\r",
      "STEP    58 / 1081 (thread    2) f\b\b\r",
      "STEP    59 / 1081 (thread    1) f\b\b\r",
      "STEP    60 / 1081 (thread    4) f\b\b\r",
      "STEP    61 / 1081 (thread    5) f\b\b\r",
      "STEP    62 / 1081 (thread    0) f\b\b\r",
      "STEP    63 / 1081 (thread    4) f\b\b\r",
      "STEP    64 / 1081 (thread    5) f\b\b\r",
      "STEP    65 / 1081 (thread    0) f\b\b\r",
      "STEP    66 / 1081 (thread    2) f\b\b\r",
      "STEP    67 / 1081 (thread    3) f\b\b\r",
      "STEP    68 / 1081 (thread    4) f\b\b\r",
      "STEP    69 / 1081 (thread    5) f\b\b\r",
      "STEP    70 / 1081 (thread    1) f\b\b\r",
      "STEP    71 / 1081 (thread    0) f\b\b\r",
      "STEP    72 / 1081 (thread    2) f\b\b\r",
      "STEP    73 / 1081 (thread    3) f\b\b\r",
      "STEP    74 / 1081 (thread    4) f\b\b\r",
      "STEP    75 / 1081 (thread    5) f\b\b\r",
      "STEP    76 / 1081 (thread    1) f\b\b\r",
      "STEP    77 / 1081 (thread    0) f\b\b\r",
      "STEP    78 / 1081 (thread    2) f\b\b\r",
      "STEP    79 / 1081 (thread    4) f\b\b\r",
      "STEP    80 / 1081 (thread    5) f\b\b\r",
      "STEP    81 / 1081 (thread    3) f\b\b\r",
      "STEP    82 / 1081 (thread    1) f\b\b\r",
      "STEP    83 / 1081 (thread    0) f\b\b\r",
      "STEP    84 / 1081 (thread    2) f\b\b\r",
      "STEP    85 / 1081 (thread    4) f\b\b\r",
      "STEP    86 / 1081 (thread    1) f\b\b\r",
      "STEP    87 / 1081 (thread    5) f\b\b\r",
      "STEP    88 / 1081 (thread    3) f\b\b\r",
      "STEP    89 / 1081 (thread    0) f\b\b\r",
      "STEP    90 / 1081 (thread    2) f\b\b\r",
      "STEP    91 / 1081 (thread    4) f\b\b\r",
      "STEP    92 / 1081 (thread    1) f\b\b\r",
      "STEP    93 / 1081 (thread    3) f\b\b\r",
      "STEP    94 / 1081 (thread    5) f\b\b\r",
      "STEP    95 / 1081 (thread    0) f\b\b\r",
      "STEP    96 / 1081 (thread    2) f\b\b\r",
      "STEP    97 / 1081 (thread    4) f\b\b\r",
      "STEP    98 / 1081 (thread    1) f\b\b\r",
      "STEP    99 / 1081 (thread    3) f\b\b\r",
      "STEP   100 / 1081 (thread    5) f\b\b\r",
      "STEP   101 / 1081 (thread    0) f\b\b\r",
      "STEP   102 / 1081 (thread    2) f\b\b\r",
      "STEP   103 / 1081 (thread    4) f\b\b\r",
      "STEP   104 / 1081 (thread    1) f\b\b\r",
      "STEP   105 / 1081 (thread    3) f\b\b\r",
      "STEP   106 / 1081 (thread    5) f\b\b\r",
      "STEP   107 / 1081 (thread    0) f\b\b\r",
      "STEP   108 / 1081 (thread    2) f\b\b\r",
      "STEP   109 / 1081 (thread    1) f\b\b\r",
      "STEP   110 / 1081 (thread    3) f\b\b\r",
      "STEP   111 / 1081 (thread    5) f\b\b\r",
      "STEP   112 / 1081 (thread    4) f\b\b\r",
      "STEP   113 / 1081 (thread    0) f\b\b\r",
      "STEP   114 / 1081 (thread    2) f\b\b\r",
      "STEP   116 / 1081 (thread    3) f\b\b\r",
      "STEP   118 / 1081 (thread    4) f\b\b\r",
      "STEP   115 / 1081 (thread    1) f\b\b\r",
      "STEP   119 / 1081 (thread    0) f\b\b\r",
      "STEP   120 / 1081 (thread    2) f\b\b\r",
      "STEP   122 / 1081 (thread    3) f\b\b\r",
      "STEP   121 / 1081 (thread    4) f\b\b\r",
      "STEP   123 / 1081 (thread    0) f\b\b\r",
      "STEP   124 / 1081 (thread    2) f\b\b\r",
      "STEP   125 / 1081 (thread    3) f\b\b\r",
      "STEP   126 / 1081 (thread    1) f\b\b\r",
      "STEP   117 / 1081 (thread    5) f\b\b\r",
      "STEP   127 / 1081 (thread    0) f\b\b\r",
      "STEP   128 / 1081 (thread    2) f\b\b\r",
      "STEP   129 / 1081 (thread    4) f\b\b\r",
      "STEP   130 / 1081 (thread    1) f\b\b\r",
      "STEP   131 / 1081 (thread    3) f\b\b\r",
      "STEP   132 / 1081 (thread    5) f\b\b\r",
      "STEP   133 / 1081 (thread    0) f\b\b\r",
      "STEP   135 / 1081 (thread    1) f\b\b\r",
      "STEP   136 / 1081 (thread    4) f\b\b\r",
      "STEP   137 / 1081 (thread    0) f\b\b\r",
      "STEP   138 / 1081 (thread    3) f\b\b\r",
      "STEP   139 / 1081 (thread    1) f\b\b\r",
      "STEP   140 / 1081 (thread    5) f\b\b\r",
      "STEP   134 / 1081 (thread    2) f\b\b\r",
      "STEP   141 / 1081 (thread    4) f\b\b\r",
      "STEP   142 / 1081 (thread    1) f\b\b\r",
      "STEP   143 / 1081 (thread    0) f\b\b\r",
      "STEP   144 / 1081 (thread    5) f\b\b\r",
      "STEP   145 / 1081 (thread    4) f\b\b\r",
      "STEP   146 / 1081 (thread    3) f\b\b\r",
      "STEP   147 / 1081 (thread    2) f\b\b\r",
      "STEP   148 / 1081 (thread    3) f\b\b\r",
      "STEP   149 / 1081 (thread    4) f\b\b\r",
      "STEP   150 / 1081 (thread    2) f\b\b\r",
      "STEP   151 / 1081 (thread    3) f\b\b\r",
      "STEP   152 / 1081 (thread    1) f\b\b\r",
      "STEP   153 / 1081 (thread    4) f\b\b\r",
      "STEP   154 / 1081 (thread    0) f\b\b\r",
      "STEP   155 / 1081 (thread    5) f\b\b\r",
      "STEP   156 / 1081 (thread    2) f\b\b\r",
      "STEP   157 / 1081 (thread    4) f\b\b\r",
      "STEP   159 / 1081 (thread    5) f\b\b\r",
      "STEP   160 / 1081 (thread    3) f\b\b\r",
      "STEP   161 / 1081 (thread    1) f\b\b\r",
      "STEP   162 / 1081 (thread    2) f\b\b\r",
      "STEP   158 / 1081 (thread    0) f\b\b\r",
      "STEP   163 / 1081 (thread    4) f\b\b\r",
      "STEP   164 / 1081 (thread    5) f\b\b\r",
      "STEP   165 / 1081 (thread    4) f\b\b\r",
      "STEP   166 / 1081 (thread    2) f\b\b\r",
      "STEP   167 / 1081 (thread    3) f\b\b\r",
      "STEP   168 / 1081 (thread    4) f\b\b\r",
      "STEP   169 / 1081 (thread    5) f\b\b\r",
      "STEP   170 / 1081 (thread    1) f\b\b\r",
      "STEP   171 / 1081 (thread    4) f\b\b\r",
      "STEP   172 / 1081 (thread    2) f\b\b\r",
      "STEP   173 / 1081 (thread    0) f\b\b\r",
      "STEP   174 / 1081 (thread    3) f\b\b\r",
      "STEP   175 / 1081 (thread    5) f\b\b\r",
      "STEP   176 / 1081 (thread    4) f\b\b\r",
      "STEP   177 / 1081 (thread    5) f\b\b\r",
      "STEP   178 / 1081 (thread    3) f\b\b\r",
      "STEP   179 / 1081 (thread    1) f\b\b\r",
      "STEP   180 / 1081 (thread    4) f\b\b\r",
      "STEP   181 / 1081 (thread    2) f\b\b\r",
      "STEP   182 / 1081 (thread    5) f\b\b\r",
      "STEP   183 / 1081 (thread    3) f\b\b\r",
      "STEP   184 / 1081 (thread    4) f\b\b\r",
      "STEP   185 / 1081 (thread    1) f\b\b\r",
      "STEP   187 / 1081 (thread    4) f\b\b\r",
      "STEP   188 / 1081 (thread    2) f\b\b\r",
      "STEP   189 / 1081 (thread    3) f\b\b\r",
      "STEP   186 / 1081 (thread    0) f\b\b\r",
      "STEP   190 / 1081 (thread    1) f\b\b\r",
      "STEP   191 / 1081 (thread    4) f\b\b\r",
      "STEP   192 / 1081 (thread    2) f\b\b\r",
      "STEP   193 / 1081 (thread    5) f\b\b\r",
      "STEP   194 / 1081 (thread    3) f\b\b\r",
      "STEP   195 / 1081 (thread    1) f\b\b\r",
      "STEP   196 / 1081 (thread    4) f\b\b\r",
      "STEP   198 / 1081 (thread    2) f\b\b\r",
      "STEP   199 / 1081 (thread    3) f\b\b\r",
      "STEP   200 / 1081 (thread    4) f\b\b\r",
      "STEP   201 / 1081 (thread    1) f\b\b\r",
      "STEP   202 / 1081 (thread    3) f\b\b\r",
      "STEP   203 / 1081 (thread    4) f\b\b\r",
      "STEP   204 / 1081 (thread    0) f\b\b\r",
      "STEP   197 / 1081 (thread    5) f\b\b\r",
      "STEP   206 / 1081 (thread    1) f\b\b\r",
      "STEP   207 / 1081 (thread    4) f\b\b\r",
      "STEP   208 / 1081 (thread    3) f\b\b\r",
      "STEP   205 / 1081 (thread    2) f\b\b\r",
      "STEP   209 / 1081 (thread    0) f\b\b\r",
      "STEP   210 / 1081 (thread    1) f\b\b\r",
      "STEP   211 / 1081 (thread    4) f\b\b\r",
      "STEP   212 / 1081 (thread    5) f\b\b\r",
      "STEP   213 / 1081 (thread    0) f\b\b\r",
      "STEP   214 / 1081 (thread    2) f\b\b\r",
      "STEP   215 / 1081 (thread    3) f\b\b\r",
      "STEP   216 / 1081 (thread    4) f\b\b\r",
      "STEP   217 / 1081 (thread    0) f\b\b\r",
      "STEP   218 / 1081 (thread    2) f\b\b\r",
      "STEP   219 / 1081 (thread    3) f\b\b\r",
      "STEP   220 / 1081 (thread    1) f\b\b\r",
      "STEP   221 / 1081 (thread    4) f\b\b\r",
      "STEP   222 / 1081 (thread    5) f\b\b\r",
      "STEP   223 / 1081 (thread    0) f\b\b\r",
      "STEP   224 / 1081 (thread    3) f\b\b\r",
      "STEP   225 / 1081 (thread    2) f\b\b\r",
      "STEP   226 / 1081 (thread    4) f\b\b\r",
      "STEP   227 / 1081 (thread    0) f\b\b\r",
      "STEP   228 / 1081 (thread    1) f\b\b\r",
      "STEP   229 / 1081 (thread    4) f\b\b\r",
      "STEP   230 / 1081 (thread    0) f\b\b\r",
      "STEP   231 / 1081 (thread    0) f\b\b\r",
      "STEP   232 / 1081 (thread    2) f\b\b\r",
      "STEP   233 / 1081 (thread    5) f\b\b\r",
      "STEP   234 / 1081 (thread    3) f\b\b\r",
      "STEP   235 / 1081 (thread    4) f\b\b\r",
      "STEP   236 / 1081 (thread    5) f\b\b\r",
      "STEP   237 / 1081 (thread    1) f\b\b\r",
      "STEP   238 / 1081 (thread    0) f\b\b\r",
      "STEP   239 / 1081 (thread    4) f\b\b\r",
      "STEP   240 / 1081 (thread    5) f\b\b\r",
      "STEP   241 / 1081 (thread    2) f\b\b\r",
      "STEP   242 / 1081 (thread    4) f\b\b\r",
      "STEP   243 / 1081 (thread    0) f\b\b\r",
      "STEP   244 / 1081 (thread    4) f\b\b\r",
      "STEP   245 / 1081 (thread    5) f\b\b\r",
      "STEP   246 / 1081 (thread    3) f\b\b\r",
      "STEP   247 / 1081 (thread    0) f\b\b\r",
      "STEP   248 / 1081 (thread    1) f\b\b\r",
      "STEP   249 / 1081 (thread    2) f\b\b\r",
      "STEP   250 / 1081 (thread    4) f\b\b\r",
      "STEP   251 / 1081 (thread    5) f\b\b\r",
      "STEP   252 / 1081 (thread    0) f\b\b\r",
      "STEP   253 / 1081 (thread    1) f\b\b\r",
      "STEP   254 / 1081 (thread    2) f\b\b\r",
      "STEP   255 / 1081 (thread    0) f\b\b\r",
      "STEP   256 / 1081 (thread    3) f\b\b\r",
      "STEP   257 / 1081 (thread    4) f\b\b\r",
      "STEP   258 / 1081 (thread    1) f\b\b\r",
      "STEP   259 / 1081 (thread    5) f\b\b\r",
      "STEP   260 / 1081 (thread    0) f\b\b\r",
      "STEP   261 / 1081 (thread    3) f\b\b\r",
      "STEP   262 / 1081 (thread    4) f\b\b\r",
      "STEP   263 / 1081 (thread    2) f\b\b\r",
      "STEP   264 / 1081 (thread    0) f\b\b\r",
      "STEP   265 / 1081 (thread    3) f\b\b\r",
      "STEP   266 / 1081 (thread    0) f\b\b\r",
      "STEP   267 / 1081 (thread    4) f\b\b\r",
      "STEP   268 / 1081 (thread    1) f\b\b\r",
      "STEP   270 / 1081 (thread    5) f\b\b\r",
      "STEP   271 / 1081 (thread    4) f\b\b\r",
      "STEP   272 / 1081 (thread    3) f\b\b\r",
      "STEP   273 / 1081 (thread    2) f\b\b\r",
      "STEP   269 / 1081 (thread    0) f\b\b\r",
      "STEP   274 / 1081 (thread    3) f\b\b\r",
      "STEP   275 / 1081 (thread    4) f\b\b\r",
      "STEP   276 / 1081 (thread    1) f\b\b\r",
      "STEP   277 / 1081 (thread    0) f\b\b\r",
      "STEP   278 / 1081 (thread    4) f\b\b\r",
      "STEP   279 / 1081 (thread    3) f\b\b\r",
      "STEP   280 / 1081 (thread    5) f\b\b\r",
      "STEP   281 / 1081 (thread    0) f\b\b\r",
      "STEP   282 / 1081 (thread    2) f\b\b\r",
      "STEP   283 / 1081 (thread    1) f\b\b\r",
      "STEP   284 / 1081 (thread    4) f\b\b\r",
      "STEP   285 / 1081 (thread    3) f\b\b\r",
      "STEP   286 / 1081 (thread    5) f\b\b\r",
      "STEP   287 / 1081 (thread    0) f\b\b\r",
      "STEP   288 / 1081 (thread    4) f\b\b\r",
      "STEP   289 / 1081 (thread    0) f\b\b\r",
      "STEP   290 / 1081 (thread    2) f\b\b\r",
      "STEP   291 / 1081 (thread    3) f\b\b\r",
      "STEP   292 / 1081 (thread    4) f\b\b\r",
      "STEP   293 / 1081 (thread    5) f\b\b\r",
      "STEP   294 / 1081 (thread    1) f\b\b\r",
      "STEP   295 / 1081 (thread    0) f\b\b\r",
      "STEP   296 / 1081 (thread    0) f\b\b\r",
      "STEP   297 / 1081 (thread    5) f\b\b\r",
      "STEP   299 / 1081 (thread    0) f\b\b\r",
      "STEP   300 / 1081 (thread    3) f\b\b\r",
      "STEP   301 / 1081 (thread    2) f\b\b\r",
      "STEP   298 / 1081 (thread    4) f\b\b\r",
      "STEP   302 / 1081 (thread    0) f\b\b\r",
      "STEP   303 / 1081 (thread    1) f\b\b\r",
      "STEP   305 / 1081 (thread    0) f\b\b\r",
      "STEP   306 / 1081 (thread    4) f\b\b\r",
      "STEP   304 / 1081 (thread    5) f\b\b\r",
      "STEP   307 / 1081 (thread    3) f\b\b\r",
      "STEP   308 / 1081 (thread    2) f\b\b\r",
      "STEP   309 / 1081 (thread    4) f\b\b\r",
      "STEP   310 / 1081 (thread    0) f\b\b\r",
      "STEP   311 / 1081 (thread    3) f\b\b\r",
      "STEP   312 / 1081 (thread    1) f\b\b\r",
      "STEP   313 / 1081 (thread    0) f\b\b\r",
      "STEP   314 / 1081 (thread    2) f\b\b\r",
      "STEP   315 / 1081 (thread    4) f\b\b\r",
      "STEP   316 / 1081 (thread    5) f\b\b\r",
      "STEP   317 / 1081 (thread    4) f\b\b\r",
      "STEP   318 / 1081 (thread    1) f\b\b\r",
      "STEP   319 / 1081 (thread    0) f\b\b\r",
      "STEP   320 / 1081 (thread    3) f\b\b\r",
      "STEP   321 / 1081 (thread    5) f\b\b\r",
      "STEP   322 / 1081 (thread    2) f\b\b\r",
      "STEP   323 / 1081 (thread    0) f\b\b\r",
      "STEP   324 / 1081 (thread    4) f\b\b\r",
      "STEP   325 / 1081 (thread    4) f\b\b\r",
      "STEP   326 / 1081 (thread    1) f\b\b\r",
      "STEP   327 / 1081 (thread    0) f\b\b\r",
      "STEP   328 / 1081 (thread    5) f\b\b\r",
      "STEP   329 / 1081 (thread    4) f\b\b\r",
      "STEP   330 / 1081 (thread    3) f\b\b\r",
      "STEP   331 / 1081 (thread    2) f\b\b\r",
      "STEP   332 / 1081 (thread    1) f\b\b\r",
      "STEP   333 / 1081 (thread    0) f\b\b\r",
      "STEP   334 / 1081 (thread    4) f\b\b\r",
      "STEP   335 / 1081 (thread    3) f\b\b\r",
      "STEP   336 / 1081 (thread    5) f\b\b\r",
      "STEP   337 / 1081 (thread    0) f\b\b\r",
      "STEP   338 / 1081 (thread    3) f\b\b\r",
      "STEP   339 / 1081 (thread    2) f\b\b\r",
      "STEP   340 / 1081 (thread    0) f\b\b\r",
      "STEP   341 / 1081 (thread    5) f\b\b\r",
      "STEP   342 / 1081 (thread    4) f\b\b\r",
      "STEP   344 / 1081 (thread    4) f\b\b\r",
      "STEP   343 / 1081 (thread    1) f\b\b\r",
      "STEP   345 / 1081 (thread    2) f\b\b\r",
      "STEP   346 / 1081 (thread    0) f\b\b\r",
      "STEP   347 / 1081 (thread    3) f\b\b\r",
      "STEP   348 / 1081 (thread    5) f\b\b\r",
      "STEP   349 / 1081 (thread    4) f\b\b\r",
      "STEP   350 / 1081 (thread    0) f\b\b\r",
      "STEP   351 / 1081 (thread    1) f\b\b\r",
      "STEP   352 / 1081 (thread    2) f\b\b\r",
      "STEP   353 / 1081 (thread    4) f\b\b\r",
      "STEP   354 / 1081 (thread    1) f\b\b\r",
      "STEP   355 / 1081 (thread    0) f\b\b\r",
      "STEP   356 / 1081 (thread    2) f\b\b\r",
      "STEP   357 / 1081 (thread    4) f\b\b\r",
      "STEP   358 / 1081 (thread    5) f\b\b\r",
      "STEP   359 / 1081 (thread    3) f\b\b\r",
      "STEP   360 / 1081 (thread    0) f\b\b\r",
      "STEP   361 / 1081 (thread    4) f\b\b\r",
      "STEP   362 / 1081 (thread    1) f\b\b\r",
      "STEP   363 / 1081 (thread    0) f\b\b\r",
      "STEP   364 / 1081 (thread    2) f\b\b\r",
      "STEP   365 / 1081 (thread    3) f\b\b\r",
      "STEP   366 / 1081 (thread    5) f\b\b\r",
      "STEP   367 / 1081 (thread    0) f\b\b\r",
      "STEP   368 / 1081 (thread    4) f\b\b\r",
      "STEP   369 / 1081 (thread    3) f\b\b\r",
      "STEP   370 / 1081 (thread    5) f\b\b\r",
      "STEP   371 / 1081 (thread    1) f\b\b\r",
      "STEP   372 / 1081 (thread    0) f\b\b\r",
      "STEP   373 / 1081 (thread    2) f\b\b\r",
      "STEP   374 / 1081 (thread    4) f\b\b\r",
      "STEP   376 / 1081 (thread    4) f\b\b\r",
      "STEP   375 / 1081 (thread    2) f\b\b\r",
      "STEP   377 / 1081 (thread    0) f\b\b\r",
      "STEP   379 / 1081 (thread    5) f\b\b\r",
      "STEP   380 / 1081 (thread    3) f\b\b\r",
      "STEP   381 / 1081 (thread    2) f\b\b\r",
      "STEP   382 / 1081 (thread    0) f\b\b\r",
      "STEP   378 / 1081 (thread    1) f\b\b\r",
      "STEP   383 / 1081 (thread    4) f\b\b\r",
      "STEP   384 / 1081 (thread    0) f\b\b\r",
      "STEP   385 / 1081 (thread    5) f\b\b\r",
      "STEP   386 / 1081 (thread    0) f\b\b\r",
      "STEP   387 / 1081 (thread    4) f\b\b\r",
      "STEP   388 / 1081 (thread    3) f\b\b\r",
      "STEP   389 / 1081 (thread    2) f\b\b\r",
      "STEP   390 / 1081 (thread    1) f\b\b\r",
      "STEP   391 / 1081 (thread    0) f\b\b\r",
      "STEP   392 / 1081 (thread    5) f\b\b\r",
      "STEP   393 / 1081 (thread    4) f\b\b\r",
      "STEP   394 / 1081 (thread    3) f\b\b\r",
      "STEP   395 / 1081 (thread    0) f\b\b\r",
      "STEP   396 / 1081 (thread    2) f\b\b\r",
      "STEP   397 / 1081 (thread    5) f\b\b\r",
      "STEP   398 / 1081 (thread    1) f\b\b\r",
      "STEP   399 / 1081 (thread    3) f\b\b\r",
      "STEP   400 / 1081 (thread    4) f\b\b\r",
      "STEP   401 / 1081 (thread    0) f\b\b\r",
      "STEP   402 / 1081 (thread    4) f\b\b\r",
      "STEP   403 / 1081 (thread    0) f\b\b\r",
      "STEP   404 / 1081 (thread    2) f\b\b\r",
      "STEP   405 / 1081 (thread    5) f\b\b\r",
      "STEP   406 / 1081 (thread    0) f\b\b\r",
      "STEP   407 / 1081 (thread    4) f\b\b\r",
      "STEP   408 / 1081 (thread    3) f\b\b\r",
      "STEP   410 / 1081 (thread    4) f\b\b\r",
      "STEP   409 / 1081 (thread    2) f\b\b\r",
      "STEP   411 / 1081 (thread    0) f\b\b\r",
      "STEP   412 / 1081 (thread    1) f\b\b\r",
      "STEP   413 / 1081 (thread    4) f\b\b\r",
      "STEP   414 / 1081 (thread    5) f\b\b\r",
      "STEP   415 / 1081 (thread    4) f\b\b\r",
      "STEP   416 / 1081 (thread    3) f\b\b\r",
      "STEP   417 / 1081 (thread    0) f\b\b\r",
      "STEP   418 / 1081 (thread    4) f\b\b\r",
      "STEP   419 / 1081 (thread    2) f\b\b\r",
      "STEP   420 / 1081 (thread    0) f\b\b\r",
      "STEP   421 / 1081 (thread    1) f\b\b\r",
      "STEP   422 / 1081 (thread    3) f\b\b\r",
      "STEP   423 / 1081 (thread    5) f\b\b\r",
      "STEP   424 / 1081 (thread    4) f\b\b\r",
      "STEP   425 / 1081 (thread    0) f\b\b\r",
      "STEP   426 / 1081 (thread    5) f\b\b\r",
      "STEP   427 / 1081 (thread    2) f\b\b\r",
      "STEP   428 / 1081 (thread    1) f\b\b\r",
      "STEP   429 / 1081 (thread    3) f\b\b\r",
      "STEP   430 / 1081 (thread    0) f\b\b\r",
      "STEP   431 / 1081 (thread    4) f\b\b\r",
      "STEP   432 / 1081 (thread    0) f\b\b\r",
      "STEP   433 / 1081 (thread    2) f\b\b\r",
      "STEP   434 / 1081 (thread    5) f\b\b\r",
      "STEP   435 / 1081 (thread    1) f\b\b\r",
      "STEP   436 / 1081 (thread    3) f\b\b\r",
      "STEP   437 / 1081 (thread    0) f\b\b\r",
      "STEP   438 / 1081 (thread    4) f\b\b\r",
      "STEP   439 / 1081 (thread    0) f\b\b\r",
      "STEP   440 / 1081 (thread    4) f\b\b\r",
      "STEP   441 / 1081 (thread    0) f\b\b\r",
      "STEP   442 / 1081 (thread    2) f\b\b\r",
      "STEP   443 / 1081 (thread    5) f\b\b\r",
      "STEP   444 / 1081 (thread    1) f\b\b\r",
      "STEP   445 / 1081 (thread    3) f\b\b\r",
      "STEP   446 / 1081 (thread    4) f\b\b\r",
      "STEP   447 / 1081 (thread    2) f\b\b\r",
      "STEP   448 / 1081 (thread    0) f\b\b\r",
      "STEP   449 / 1081 (thread    0) f\b\b\r",
      "STEP   450 / 1081 (thread    1) f\b\b\r",
      "STEP   451 / 1081 (thread    5) f\b\b\r",
      "STEP   452 / 1081 (thread    4) f\b\b\r",
      "STEP   453 / 1081 (thread    0) f\b\b\r",
      "STEP   454 / 1081 (thread    2) f\b\b\r",
      "STEP   455 / 1081 (thread    1) f\b\b\r",
      "STEP   456 / 1081 (thread    3) f\b\b\r",
      "STEP   457 / 1081 (thread    4) f\b\b\r",
      "STEP   458 / 1081 (thread    0) f\b\b\r",
      "STEP   459 / 1081 (thread    0) f\b\b\r",
      "STEP   460 / 1081 (thread    2) f\b\b\r",
      "STEP   461 / 1081 (thread    1) f\b\b\r",
      "STEP   462 / 1081 (thread    3) f\b\b\r",
      "STEP   463 / 1081 (thread    4) f\b\b\r",
      "STEP   464 / 1081 (thread    5) f\b\b\r",
      "STEP   465 / 1081 (thread    2) f\b\b\r",
      "STEP   466 / 1081 (thread    1) f\b\b\r",
      "STEP   467 / 1081 (thread    4) f\b\b\r",
      "STEP   468 / 1081 (thread    0) f\b\b\r",
      "STEP   469 / 1081 (thread    1) f\b\b\r",
      "STEP   470 / 1081 (thread    0) f\b\b\r",
      "STEP   471 / 1081 (thread    3) f\b\b\r",
      "STEP   472 / 1081 (thread    5) f\b\b\r",
      "STEP   473 / 1081 (thread    0) f\b\b\r",
      "STEP   474 / 1081 (thread    2) f\b\b\r",
      "STEP   475 / 1081 (thread    4) f\b\b\r",
      "STEP   476 / 1081 (thread    3) f\b\b\r",
      "STEP   477 / 1081 (thread    0) f\b\b\r",
      "STEP   478 / 1081 (thread    4) f\b\b\r",
      "STEP   479 / 1081 (thread    2) f\b\b\r",
      "STEP   480 / 1081 (thread    1) f\b\b\r",
      "STEP   481 / 1081 (thread    5) f\b\b\r",
      "STEP   482 / 1081 (thread    3) f\b\b\r",
      "STEP   483 / 1081 (thread    0) f\b\b\r",
      "STEP   484 / 1081 (thread    4) f\b\b\r",
      "STEP   486 / 1081 (thread    3) f\b\b\r",
      "STEP   487 / 1081 (thread    0) f\b\b\r",
      "STEP   485 / 1081 (thread    5) f\b\b\r",
      "STEP   489 / 1081 (thread    4) f\b\b\r",
      "STEP   488 / 1081 (thread    2) f\b\b\r",
      "STEP   490 / 1081 (thread    1) f\b\b\r",
      "STEP   491 / 1081 (thread    4) f\b\b\r",
      "STEP   492 / 1081 (thread    3) f\b\b\r",
      "STEP   493 / 1081 (thread    0) f\b\b\r",
      "STEP   494 / 1081 (thread    1) f\b\b\r",
      "STEP   495 / 1081 (thread    0) f\b\b\r",
      "STEP   496 / 1081 (thread    4) f\b\b\r",
      "STEP   497 / 1081 (thread    1) f\b\b\r",
      "STEP   498 / 1081 (thread    3) f\b\b\r",
      "STEP   500 / 1081 (thread    5) f\b\b\r",
      "STEP   501 / 1081 (thread    0) f\b\b\r",
      "STEP   499 / 1081 (thread    2) f\b\b"
     ]
    },
    {
     "name": "stderr",
     "output_type": "stream",
     "text": [
      "\r",
      "STEP   601 / 1081 (thread    5) f\b\b\r",
      "STEP   701 / 1081 (thread    0) f\b\b\r",
      "STEP   801 / 1081 (thread    3) f\b\b\n",
      "Reallocating..done. *alloclen = 1867\n",
      "\r",
      "STEP   901 / 1081 (thread    3) f\b\b"
     ]
    },
    {
     "name": "stderr",
     "output_type": "stream",
     "text": [
      "\r",
      "STEP  1001 / 1081 (thread    2) f\b\b"
     ]
    },
    {
     "name": "stderr",
     "output_type": "stream",
     "text": [
      "\n",
      "done.\n",
      "\n",
      "Making a distance matrix from msa.. \n",
      "\r",
      "    0 / 1082 (thread    1)\r",
      "  100 / 1082 (thread    1)\r",
      "  200 / 1082 (thread    0)\r",
      "  300 / 1082 (thread    3)\r",
      "  400 / 1082 (thread    2)\r",
      "  500 / 1082 (thread    5)"
     ]
    },
    {
     "name": "stderr",
     "output_type": "stream",
     "text": [
      "\r",
      "  600 / 1082 (thread    3)\r",
      "  700 / 1082 (thread    0)\r",
      "  800 / 1082 (thread    2)\r",
      "  900 / 1082 (thread    2)\r",
      " 1000 / 1082 (thread    0)\n",
      "done.\n",
      "\n",
      "Constructing a UPGMA tree (efffree=1) ... \n",
      "\r",
      "    0 / 1082\r",
      "   10 / 1082\r",
      "   20 / 1082\r",
      "   30 / 1082\r",
      "   40 / 1082\r",
      "   50 / 1082\r",
      "   60 / 1082\r",
      "   70 / 1082\r",
      "   80 / 1082\r",
      "   90 / 1082\r",
      "  100 / 1082\r",
      "  110 / 1082\r",
      "  120 / 1082\r",
      "  130 / 1082\r",
      "  140 / 1082\r",
      "  150 / 1082\r",
      "  160 / 1082\r",
      "  170 / 1082\r",
      "  180 / 1082\r",
      "  190 / 1082\r",
      "  200 / 1082\r",
      "  210 / 1082\r",
      "  220 / 1082\r",
      "  230 / 1082\r",
      "  240 / 1082\r",
      "  250 / 1082\r",
      "  260 / 1082\r",
      "  270 / 1082\r",
      "  280 / 1082\r",
      "  290 / 1082\r",
      "  300 / 1082\r",
      "  310 / 1082\r",
      "  320 / 1082\r",
      "  330 / 1082\r",
      "  340 / 1082\r",
      "  350 / 1082\r",
      "  360 / 1082\r",
      "  370 / 1082\r",
      "  380 / 1082\r",
      "  390 / 1082\r",
      "  400 / 1082\r",
      "  410 / 1082\r",
      "  420 / 1082\r",
      "  430 / 1082\r",
      "  440 / 1082\r",
      "  450 / 1082\r",
      "  460 / 1082\r",
      "  470 / 1082\r",
      "  480 / 1082\r",
      "  490 / 1082\r",
      "  500 / 1082\r",
      "  510 / 1082\r",
      "  520 / 1082\r",
      "  530 / 1082\r",
      "  540 / 1082\r",
      "  550 / 1082\r",
      "  560 / 1082\r",
      "  570 / 1082\r",
      "  580 / 1082\r",
      "  590 / 1082\r",
      "  600 / 1082\r",
      "  610 / 1082\r",
      "  620 / 1082\r",
      "  630 / 1082\r",
      "  640 / 1082\r",
      "  650 / 1082\r",
      "  660 / 1082\r",
      "  670 / 1082\r",
      "  680 / 1082\r",
      "  690 / 1082\r",
      "  700 / 1082\r",
      "  710 / 1082\r",
      "  720 / 1082\r",
      "  730 / 1082\r",
      "  740 / 1082\r",
      "  750 / 1082\r",
      "  760 / 1082\r",
      "  770 / 1082\r",
      "  780 / 1082\r",
      "  790 / 1082\r",
      "  800 / 1082\r",
      "  810 / 1082\r",
      "  820 / 1082\r",
      "  830 / 1082\r",
      "  840 / 1082\r",
      "  850 / 1082\r",
      "  860 / 1082\r",
      "  870 / 1082\r",
      "  880 / 1082\r",
      "  890 / 1082\r",
      "  900 / 1082\r",
      "  910 / 1082\r",
      "  920 / 1082\r",
      "  930 / 1082\r",
      "  940 / 1082\r",
      "  950 / 1082\r",
      "  960 / 1082\r",
      "  970 / 1082\r",
      "  980 / 1082\r",
      "  990 / 1082\r",
      " 1000 / 1082\r",
      " 1010 / 1082\r",
      " 1020 / 1082\r",
      " 1030 / 1082\r",
      " 1040 / 1082\r",
      " 1050 / 1082\r",
      " 1060 / 1082\r",
      " 1070 / 1082\r",
      " 1080 / 1082\n",
      "done.\n",
      "\n",
      "Progressive alignment 2/2... \n",
      "\r",
      "STEP     1 / 1081 (thread    0) f\b\b\r",
      "STEP     2 / 1081 (thread    1) f\b\b\r",
      "STEP     3 / 1081 (thread    2) f\b\b\r",
      "STEP     4 / 1081 (thread    3) f\b\b\r",
      "STEP     5 / 1081 (thread    4) f\b\b\r",
      "STEP     6 / 1081 (thread    5) f\b\b\r",
      "STEP     7 / 1081 (thread    0) f\b\b\r",
      "STEP     8 / 1081 (thread    0) f\b\b\r",
      "STEP     9 / 1081 (thread    0) f\b\b\r",
      "STEP    10 / 1081 (thread    2) f\b\b\r",
      "STEP    11 / 1081 (thread    0) f\b\b\r",
      "STEP    12 / 1081 (thread    0) f\b\b\r",
      "STEP    13 / 1081 (thread    2) f\b\b\r",
      "STEP    14 / 1081 (thread    1) f\b\b\r",
      "STEP    15 / 1081 (thread    5) f\b\b\r",
      "STEP    16 / 1081 (thread    0) f\b\b\r",
      "STEP    17 / 1081 (thread    2) f\b\b\r",
      "STEP    18 / 1081 (thread    1) f\b\b\r",
      "STEP    19 / 1081 (thread    5) f\b\b\r",
      "STEP    20 / 1081 (thread    0) f\b\b\r",
      "STEP    21 / 1081 (thread    2) f\b\b\r",
      "STEP    22 / 1081 (thread    0) f\b\b\r",
      "STEP    23 / 1081 (thread    1) f\b\b\r",
      "STEP    24 / 1081 (thread    5) f\b\b\r",
      "STEP    25 / 1081 (thread    4) f\b\b\r",
      "STEP    26 / 1081 (thread    0) f\b\b\r",
      "STEP    27 / 1081 (thread    3) f\b\b\r",
      "STEP    28 / 1081 (thread    2) f\b\b\r",
      "STEP    29 / 1081 (thread    1) f\b\b\r",
      "STEP    30 / 1081 (thread    5) f\b\b\r",
      "STEP    31 / 1081 (thread    4) f\b\b\r",
      "STEP    32 / 1081 (thread    0) f\b\b\r",
      "STEP    33 / 1081 (thread    0) f\b\b\r",
      "STEP    34 / 1081 (thread    1)\r",
      "STEP    35 / 1081 (thread    5) f\b\b f\b\b\r",
      "STEP    36 / 1081 (thread    4) f\b\b\r",
      "STEP    37 / 1081 (thread    0) f\b\b\r",
      "STEP    38 / 1081 (thread    2) f\b\b\r",
      "STEP    39 / 1081 (thread    3) f\b\b\r",
      "STEP    40 / 1081 (thread    1) f\b\b\r",
      "STEP    41 / 1081 (thread    5) f\b\b\r",
      "STEP    42 / 1081 (thread    4) f\b\b\r",
      "STEP    43 / 1081 (thread    0) f\b\b\r",
      "STEP    44 / 1081 (thread    2) f\b\b\r",
      "STEP    45 / 1081 (thread    3) f\b\b\r",
      "STEP    46 / 1081 (thread    0) f\b\b\r",
      "STEP    47 / 1081 (thread    5) f\b\b\r",
      "STEP    48 / 1081 (thread    1) f\b\b\r",
      "STEP    49 / 1081 (thread    4) f\b\b\r",
      "STEP    50 / 1081 (thread    2) f\b\b\r",
      "STEP    51 / 1081 (thread    0) f\b\b\r",
      "STEP    52 / 1081 (thread    3) f\b\b\r",
      "STEP    53 / 1081 (thread    2) f\b\b\r",
      "STEP    54 / 1081 (thread    1) f\b\b\r",
      "STEP    55 / 1081 (thread    5) f\b\b\r",
      "STEP    56 / 1081 (thread    4) f\b\b\r",
      "STEP    57 / 1081 (thread    0) f\b\b\r",
      "STEP    58 / 1081 (thread    2) f\b\b\r",
      "STEP    59 / 1081 (thread    3) f\b\b\r",
      "STEP    60 / 1081 (thread    1) f\b\b\r",
      "STEP    61 / 1081 (thread    5) f\b\b\r",
      "STEP    62 / 1081 (thread    0) f\b\b\r",
      "STEP    63 / 1081 (thread    4) f\b\b\r",
      "STEP    64 / 1081 (thread    2) f\b\b\r",
      "STEP    65 / 1081 (thread    0) f\b\b\r",
      "STEP    66 / 1081 (thread    3) f\b\b\r",
      "STEP    67 / 1081 (thread    1)\r",
      "STEP    68 / 1081 (thread    5) f\b\b f\b\b\r",
      "STEP    69 / 1081 (thread    2) f\b\b\r",
      "STEP    70 / 1081 (thread    4) f\b\b\r",
      "STEP    71 / 1081 (thread    0) f\b\b\r",
      "STEP    72 / 1081 (thread    2) f\b\b\r",
      "STEP    73 / 1081 (thread    3) f\b\b\r",
      "STEP    74 / 1081 (thread    1) f\b\b\r",
      "STEP    75 / 1081 (thread    5) f\b\b\r",
      "STEP    76 / 1081 (thread    4) f\b\b\r",
      "STEP    77 / 1081 (thread    0) f\b\b\r",
      "STEP    78 / 1081 (thread    2) f\b\b\r",
      "STEP    79 / 1081 (thread    3) f\b\b\r",
      "STEP    80 / 1081 (thread    0) f\b\b\r",
      "STEP    81 / 1081 (thread    5) f\b\b\r",
      "STEP    82 / 1081 (thread    1) f\b\b\r",
      "STEP    83 / 1081 (thread    4) f\b\b\r",
      "STEP    84 / 1081 (thread    2) f\b\b\r",
      "STEP    85 / 1081 (thread    0) f\b\b\r",
      "STEP    86 / 1081 (thread    3) f\b\b\r",
      "STEP    87 / 1081 (thread    5) f\b\b\r",
      "STEP    88 / 1081 (thread    2) f\b\b\r",
      "STEP    89 / 1081 (thread    0) f\b\b\r",
      "STEP    93 / 1081 (thread    2) f\b\b\r",
      "STEP    94 / 1081 (thread    5) f\b\b\r",
      "STEP    95 / 1081 (thread    0) f\b\b\r",
      "STEP    90 / 1081 (thread    1) f\b\b\r",
      "STEP    96 / 1081 (thread    2) f\b\b\r",
      "STEP    97 / 1081 (thread    5) f\b\b\r",
      "STEP    98 / 1081 (thread    0) f\b\b\r",
      "STEP    99 / 1081 (thread    2) f\b\b\r",
      "STEP   100 / 1081 (thread    0) f\b\b\r",
      "STEP   101 / 1081 (thread    5) f\b\b\r",
      "STEP   102 / 1081 (thread    2) f\b\b\r",
      "STEP    91 / 1081 (thread    4) f\b\b\r",
      "STEP   103 / 1081 (thread    1) f\b\b\r",
      "STEP   104 / 1081 (thread    0) f\b\b\r",
      "STEP   105 / 1081 (thread    2) f\b\b\r",
      "STEP   106 / 1081 (thread    5) f\b\b\r",
      "STEP   107 / 1081 (thread    0) f\b\b\r",
      "STEP   108 / 1081 (thread    1) f\b\b\r",
      "STEP   109 / 1081 (thread    4) f\b\b\r",
      "STEP    92 / 1081 (thread    3) f\b\b\r",
      "STEP   110 / 1081 (thread    0) f\b\b\r",
      "STEP   111 / 1081 (thread    2) f\b\b\r",
      "STEP   112 / 1081 (thread    1) f\b\b\r",
      "STEP   113 / 1081 (thread    4) f\b\b\r",
      "STEP   114 / 1081 (thread    0) f\b\b\r",
      "STEP   115 / 1081 (thread    2) f\b\b\r",
      "STEP   116 / 1081 (thread    5) f\b\b\r",
      "STEP   117 / 1081 (thread    1) f\b\b\r",
      "STEP   118 / 1081 (thread    0) f\b\b\r",
      "STEP   119 / 1081 (thread    2) f\b\b\r",
      "STEP   120 / 1081 (thread    4) f\b\b\r",
      "STEP   121 / 1081 (thread    3) f\b\b\r",
      "STEP   122 / 1081 (thread    5) f\b\b\r",
      "STEP   123 / 1081 (thread    1) f\b\b\r",
      "STEP   124 / 1081 (thread    3) f\b\b\r",
      "STEP   125 / 1081 (thread    4) f\b\b\r",
      "STEP   126 / 1081 (thread    0) f\b\b\r",
      "STEP   127 / 1081 (thread    2) f\b\b\r",
      "STEP   128 / 1081 (thread    5) f\b\b\r",
      "STEP   129 / 1081 (thread    1) f\b\b\r",
      "STEP   130 / 1081 (thread    0) f\b\b\r",
      "STEP   131 / 1081 (thread    4) f\b\b\r",
      "STEP   132 / 1081 (thread    3) f\b\b\r",
      "STEP   133 / 1081 (thread    2) f\b\b\r",
      "STEP   134 / 1081 (thread    5) f\b\b\r",
      "STEP   135 / 1081 (thread    0) f\b\b\r",
      "STEP   136 / 1081 (thread    1) f\b\b\r",
      "STEP   137 / 1081 (thread    2) f\b\b\r",
      "STEP   138 / 1081 (thread    3) f\b\b\r",
      "STEP   139 / 1081 (thread    4) f\b\b\r",
      "STEP   140 / 1081 (thread    0) f\b\b\r",
      "STEP   141 / 1081 (thread    5) f\b\b\r",
      "STEP   142 / 1081 (thread    1) f\b\b\r",
      "STEP   143 / 1081 (thread    2) f\b\b\r",
      "STEP   144 / 1081 (thread    0) f\b\b\r",
      "STEP   145 / 1081 (thread    4) f\b\b\r",
      "STEP   146 / 1081 (thread    3) f\b\b\r",
      "STEP   147 / 1081 (thread    2) f\b\b\r",
      "STEP   149 / 1081 (thread    5) f\b\b\r",
      "STEP   150 / 1081 (thread    0) f\b\b\r",
      "STEP   148 / 1081 (thread    1) f\b\b\r",
      "STEP   151 / 1081 (thread    2) f\b\b\r",
      "STEP   152 / 1081 (thread    0) f\b\b\r",
      "STEP   153 / 1081 (thread    4) f\b\b\r",
      "STEP   154 / 1081 (thread    3) f\b\b\r",
      "STEP   155 / 1081 (thread    5) f\b\b\r",
      "STEP   156 / 1081 (thread    0) f\b\b\r",
      "STEP   157 / 1081 (thread    2) f\b\b\r",
      "STEP   158 / 1081 (thread    0) f\b\b\r",
      "STEP   159 / 1081 (thread    1) f\b\b\r",
      "STEP   160 / 1081 (thread    4) f\b\b\r",
      "STEP   161 / 1081 (thread    5) f\b\b\r",
      "STEP   162 / 1081 (thread    2) f\b\b\r",
      "STEP   163 / 1081 (thread    0) f\b\b\r",
      "STEP   164 / 1081 (thread    1) f\b\b\r",
      "STEP   165 / 1081 (thread    2) f\b\b\r",
      "STEP   166 / 1081 (thread    5) f\b\b\r",
      "STEP   167 / 1081 (thread    4) f\b\b\r",
      "STEP   168 / 1081 (thread    3) f\b\b\r",
      "STEP   169 / 1081 (thread    0) f\b\b\r",
      "STEP   170 / 1081 (thread    2) f\b\b\r",
      "STEP   171 / 1081 (thread    1) f\b\b\r",
      "STEP   172 / 1081 (thread    5) f\b\b\r",
      "STEP   173 / 1081 (thread    4) f\b\b\r",
      "STEP   174 / 1081 (thread    3) f\b\b\r",
      "STEP   175 / 1081 (thread    2) f\b\b\r",
      "STEP   176 / 1081 (thread    0) f\b\b\r",
      "STEP   177 / 1081 (thread    5) f\b\b\r",
      "STEP   178 / 1081 (thread    1) f\b\b\r",
      "STEP   179 / 1081 (thread    2) f\b\b\r",
      "STEP   180 / 1081 (thread    0) f\b\b\r",
      "STEP   181 / 1081 (thread    4) f\b\b\r",
      "STEP   182 / 1081 (thread    3) f\b\b\r",
      "STEP   183 / 1081 (thread    2) f\b\b\r",
      "STEP   184 / 1081 (thread    0) f\b\b\r",
      "STEP   185 / 1081 (thread    5) f\b\b\r",
      "STEP   186 / 1081 (thread    1) f\b\b\r",
      "STEP   187 / 1081 (thread    3) f\b\b\r",
      "STEP   188 / 1081 (thread    2) f\b\b\r",
      "STEP   189 / 1081 (thread    5) f\b\b\r",
      "STEP   190 / 1081 (thread    1) f\b\b\r",
      "STEP   191 / 1081 (thread    4) f\b\b\r",
      "STEP   192 / 1081 (thread    0) f\b\b\r",
      "STEP   193 / 1081 (thread    2) f\b\b\r",
      "STEP   194 / 1081 (thread    0) f\b\b\r",
      "STEP   195 / 1081 (thread    5) f\b\b\r",
      "STEP   196 / 1081 (thread    1) f\b\b\r",
      "STEP   197 / 1081 (thread    4) f\b\b\r",
      "STEP   198 / 1081 (thread    0) f\b\b\r",
      "STEP   199 / 1081 (thread    3) f\b\b\r",
      "STEP   200 / 1081 (thread    5) f\b\b\r",
      "STEP   201 / 1081 (thread    1) f\b\b\r",
      "STEP   202 / 1081 (thread    0) f\b\b\r",
      "STEP   203 / 1081 (thread    2) f\b\b\r",
      "STEP   204 / 1081 (thread    4) f\b\b\r",
      "STEP   205 / 1081 (thread    3) f\b\b\r",
      "STEP   206 / 1081 (thread    0) f\b\b\r",
      "STEP   207 / 1081 (thread    2) f\b\b\r",
      "STEP   208 / 1081 (thread    5) f\b\b\r",
      "STEP   209 / 1081 (thread    1) f\b\b\r",
      "STEP   210 / 1081 (thread    0) f\b\b\r",
      "STEP   211 / 1081 (thread    2) f\b\b\r",
      "STEP   212 / 1081 (thread    3) f\b\b\r",
      "STEP   213 / 1081 (thread    2) f\b\b\r",
      "STEP   214 / 1081 (thread    4) f\b\b\r",
      "STEP   215 / 1081 (thread    3) f\b\b\r",
      "STEP   216 / 1081 (thread    0) f\b\b\r",
      "STEP   217 / 1081 (thread    2) f\b\b\r",
      "STEP   218 / 1081 (thread    5) f\b\b\r",
      "STEP   219 / 1081 (thread    1) f\b\b\r",
      "STEP   220 / 1081 (thread    0) f\b\b\r",
      "STEP   221 / 1081 (thread    3) f\b\b\r",
      "STEP   222 / 1081 (thread    0) f\b\b\r",
      "STEP   223 / 1081 (thread    2) f\b\b\r",
      "STEP   224 / 1081 (thread    5) f\b\b\r",
      "STEP   225 / 1081 (thread    1) f\b\b\r",
      "STEP   226 / 1081 (thread    4) f\b\b\r",
      "STEP   227 / 1081 (thread    0) f\b\b\r",
      "STEP   228 / 1081 (thread    2) f\b\b\r",
      "STEP   229 / 1081 (thread    3) f\b\b\r",
      "STEP   230 / 1081 (thread    0) f\b\b\r",
      "STEP   232 / 1081 (thread    1) f\b\b\r",
      "STEP   231 / 1081 (thread    5) f\b\b\r",
      "STEP   233 / 1081 (thread    4) f\b\b\r",
      "STEP   234 / 1081 (thread    2) f\b\b\r",
      "STEP   235 / 1081 (thread    0) f\b\b\r",
      "STEP   236 / 1081 (thread    2) f\b\b\r",
      "STEP   237 / 1081 (thread    3) f\b\b\r",
      "STEP   238 / 1081 (thread    1) f\b\b\r",
      "STEP   239 / 1081 (thread    5) f\b\b\r",
      "STEP   241 / 1081 (thread    0) f\b\b\r",
      "STEP   242 / 1081 (thread    2) f\b\b\r",
      "STEP   243 / 1081 (thread    3) f\b\b\r",
      "STEP   244 / 1081 (thread    0) f\b\b\r",
      "STEP   245 / 1081 (thread    2) f\b\b\r",
      "STEP   246 / 1081 (thread    3) f\b\b\r",
      "STEP   247 / 1081 (thread    1) f\b\b\r",
      "STEP   240 / 1081 (thread    4) f\b\b\r",
      "STEP   248 / 1081 (thread    5) f\b\b\r",
      "STEP   249 / 1081 (thread    0) f\b\b\r",
      "STEP   250 / 1081 (thread    2) f\b\b\r",
      "STEP   251 / 1081 (thread    1) f\b\b\r",
      "STEP   252 / 1081 (thread    0) f\b\b\r",
      "STEP   253 / 1081 (thread    2) f\b\b\r",
      "STEP   254 / 1081 (thread    5) f\b\b\r",
      "STEP   255 / 1081 (thread    3) f\b\b\r",
      "STEP   256 / 1081 (thread    0) f\b\b\r",
      "STEP   257 / 1081 (thread    2) f\b\b\r",
      "STEP   258 / 1081 (thread    4) f\b\b\r",
      "STEP   259 / 1081 (thread    5) f\b\b\r",
      "STEP   260 / 1081 (thread    3) f\b\b\r",
      "STEP   261 / 1081 (thread    0) f\b\b\r",
      "STEP   262 / 1081 (thread    2) f\b\b\r",
      "STEP   263 / 1081 (thread    1) f\b\b\r",
      "STEP   264 / 1081 (thread    0) f\b\b\r",
      "STEP   265 / 1081 (thread    2) f\b\b\r",
      "STEP   266 / 1081 (thread    4) f\b\b\r",
      "STEP   267 / 1081 (thread    3) f\b\b\r",
      "STEP   268 / 1081 (thread    5) f\b\b\r",
      "STEP   269 / 1081 (thread    1) f\b\b\r",
      "STEP   271 / 1081 (thread    2) f\b\b\r",
      "STEP   272 / 1081 (thread    3) f\b\b\r",
      "STEP   273 / 1081 (thread    2) f\b\b\r",
      "STEP   274 / 1081 (thread    4) f\b\b\r",
      "STEP   270 / 1081 (thread    0) f\b\b\r",
      "STEP   275 / 1081 (thread    5) f\b\b\r",
      "STEP   276 / 1081 (thread    2) f\b\b\r",
      "STEP   277 / 1081 (thread    4) f\b\b\r",
      "STEP   278 / 1081 (thread    5) f\b\b\r",
      "STEP   279 / 1081 (thread    0) f\b\b\r",
      "STEP   280 / 1081 (thread    3) f\b\b\r",
      "STEP   281 / 1081 (thread    1) f\b\b\r",
      "STEP   282 / 1081 (thread    4) f\b\b\r",
      "STEP   283 / 1081 (thread    5) f\b\b\r",
      "STEP   284 / 1081 (thread    0) f\b\b\r",
      "STEP   285 / 1081 (thread    2) f\b\b\r",
      "STEP   286 / 1081 (thread    0) f\b\b\r",
      "STEP   287 / 1081 (thread    4) f\b\b\r",
      "STEP   288 / 1081 (thread    5) f\b\b\r",
      "STEP   289 / 1081 (thread    2) f\b\b\r",
      "STEP   290 / 1081 (thread    3) f\b\b\r",
      "STEP   291 / 1081 (thread    1) f\b\b\r",
      "STEP   292 / 1081 (thread    5) f\b\b\r",
      "STEP   293 / 1081 (thread    0) f\b\b\r",
      "STEP   294 / 1081 (thread    2) f\b\b\r",
      "STEP   295 / 1081 (thread    4) f\b\b\r",
      "STEP   296 / 1081 (thread    0) f\b\b\r",
      "STEP   297 / 1081 (thread    3) f\b\b\r",
      "STEP   298 / 1081 (thread    1) f\b\b\r",
      "STEP   299 / 1081 (thread    5) f\b\b\r",
      "STEP   300 / 1081 (thread    2) f\b\b\r",
      "STEP   301 / 1081 (thread    0) f\b\b\r",
      "STEP   302 / 1081 (thread    4) f\b\b\r",
      "STEP   303 / 1081 (thread    3) f\b\b\r",
      "STEP   304 / 1081 (thread    2) f\b\b\r",
      "STEP   305 / 1081 (thread    1) f\b\b\r",
      "STEP   306 / 1081 (thread    0) f\b\b\r",
      "STEP   307 / 1081 (thread    5) f\b\b\r",
      "STEP   308 / 1081 (thread    2) f\b\b\r",
      "STEP   309 / 1081 (thread    5) f\b\b\r",
      "STEP   310 / 1081 (thread    1) f\b\b\r",
      "STEP   311 / 1081 (thread    0) f\b\b\r",
      "STEP   312 / 1081 (thread    4) f\b\b\r",
      "STEP   313 / 1081 (thread    0) f\b\b\r",
      "STEP   314 / 1081 (thread    2) f\b\b\r",
      "STEP   315 / 1081 (thread    4) f\b\b\r",
      "STEP   316 / 1081 (thread    3) f\b\b\r",
      "STEP   317 / 1081 (thread    0) f\b\b\r",
      "STEP   318 / 1081 (thread    5) f\b\b\r",
      "STEP   319 / 1081 (thread    2) f\b\b\r",
      "STEP   320 / 1081 (thread    3) f\b\b\r",
      "STEP   321 / 1081 (thread    4) f\b\b\r",
      "STEP   322 / 1081 (thread    0) f\b\b\r",
      "STEP   323 / 1081 (thread    1) f\b\b\r",
      "STEP   324 / 1081 (thread    2) f\b\b\r",
      "STEP   325 / 1081 (thread    3) f\b\b\r",
      "STEP   326 / 1081 (thread    4) f\b\b\r",
      "STEP   327 / 1081 (thread    0) f\b\b\r",
      "STEP   328 / 1081 (thread    5) f\b\b\r",
      "STEP   329 / 1081 (thread    2) f\b\b\r",
      "STEP   330 / 1081 (thread    1) f\b\b\r",
      "STEP   331 / 1081 (thread    5) f\b\b\r",
      "STEP   332 / 1081 (thread    3) f\b\b\r",
      "STEP   333 / 1081 (thread    0) f\b\b\r",
      "STEP   334 / 1081 (thread    2) f\b\b\r",
      "STEP   335 / 1081 (thread    4) f\b\b\r",
      "STEP   336 / 1081 (thread    5) f\b\b\r",
      "STEP   337 / 1081 (thread    1) f\b\b\r",
      "STEP   338 / 1081 (thread    3) f\b\b\r",
      "STEP   339 / 1081 (thread    2) f\b\b\r",
      "STEP   340 / 1081 (thread    4) f\b\b\r",
      "STEP   341 / 1081 (thread    0) f\b\b\r",
      "STEP   342 / 1081 (thread    2) f\b\b\r",
      "STEP   343 / 1081 (thread    5) f\b\b\r",
      "STEP   344 / 1081 (thread    3) f\b\b\r",
      "STEP   345 / 1081 (thread    1) f\b\b\r",
      "STEP   346 / 1081 (thread    0) f\b\b\r",
      "STEP   347 / 1081 (thread    2) f\b\b\r",
      "STEP   348 / 1081 (thread    3) f\b\b\r",
      "STEP   349 / 1081 (thread    1) f\b\b\r",
      "STEP   350 / 1081 (thread    2) f\b\b\r",
      "STEP   351 / 1081 (thread    4) f\b\b\r",
      "STEP   352 / 1081 (thread    0) f\b\b\r",
      "STEP   353 / 1081 (thread    5) f\b\b\r",
      "STEP   354 / 1081 (thread    2) f\b\b\r",
      "STEP   355 / 1081 (thread    0) f\b\b\r",
      "STEP   356 / 1081 (thread    3) f\b\b\r",
      "STEP   357 / 1081 (thread    1) f\b\b\r",
      "STEP   358 / 1081 (thread    4) f\b\b\r",
      "STEP   359 / 1081 (thread    5) f\b\b\r",
      "STEP   360 / 1081 (thread    2) f\b\b\r",
      "STEP   361 / 1081 (thread    0) f\b\b\r",
      "STEP   362 / 1081 (thread    3) f\b\b\r",
      "STEP   363 / 1081 (thread    2) f\b\b\r",
      "STEP   364 / 1081 (thread    1) f\b\b\r",
      "STEP   365 / 1081 (thread    0) f\b\b\r",
      "STEP   366 / 1081 (thread    2) f\b\b\r",
      "STEP   367 / 1081 (thread    4) f\b\b\r",
      "STEP   368 / 1081 (thread    2) f\b\b\r",
      "STEP   369 / 1081 (thread    5) f\b\b\r",
      "STEP   370 / 1081 (thread    0) f\b\b\r",
      "STEP   371 / 1081 (thread    3) f\b\b\r",
      "STEP   372 / 1081 (thread    1) f\b\b\r",
      "STEP   373 / 1081 (thread    4) f\b\b\r",
      "STEP   374 / 1081 (thread    5) f\b\b\r",
      "STEP   375 / 1081 (thread    2) f\b\b\r",
      "STEP   376 / 1081 (thread    3) f\b\b\r",
      "STEP   377 / 1081 (thread    0) f\b\b\r",
      "STEP   378 / 1081 (thread    1) f\b\b\r",
      "STEP   379 / 1081 (thread    2) f\b\b\r",
      "STEP   380 / 1081 (thread    4) f\b\b\r",
      "STEP   381 / 1081 (thread    0) f\b\b\r",
      "STEP   382 / 1081 (thread    3) f\b\b\r",
      "STEP   383 / 1081 (thread    2) f\b\b\r",
      "STEP   384 / 1081 (thread    0) f\b\b\r",
      "STEP   385 / 1081 (thread    5) f\b\b\r",
      "STEP   386 / 1081 (thread    1) f\b\b\r",
      "STEP   387 / 1081 (thread    2) f\b\b\r",
      "STEP   388 / 1081 (thread    4) f\b\b\r",
      "STEP   389 / 1081 (thread    3) f\b\b\r",
      "STEP   390 / 1081 (thread    0) f\b\b\r",
      "STEP   391 / 1081 (thread    2) f\b\b\r",
      "STEP   392 / 1081 (thread    5) f\b\b\r",
      "STEP   393 / 1081 (thread    1) f\b\b\r",
      "STEP   394 / 1081 (thread    0) f\b\b\r",
      "STEP   395 / 1081 (thread    4) f\b\b\r",
      "STEP   396 / 1081 (thread    3) f\b\b\r",
      "STEP   397 / 1081 (thread    2) f\b\b\r",
      "STEP   398 / 1081 (thread    0) f\b\b\r",
      "STEP   399 / 1081 (thread    3) f\b\b\r",
      "STEP   400 / 1081 (thread    5) f\b\b\r",
      "STEP   401 / 1081 (thread    1) f\b\b\r",
      "STEP   402 / 1081 (thread    0) f\b\b\r",
      "STEP   403 / 1081 (thread    2) f\b\b\r",
      "STEP   404 / 1081 (thread    4) f\b\b\r",
      "STEP   405 / 1081 (thread    0) f\b\b\r",
      "STEP   406 / 1081 (thread    3) f\b\b\r",
      "STEP   407 / 1081 (thread    0) f\b\b\r",
      "STEP   408 / 1081 (thread    5) f\b\b\r",
      "STEP   409 / 1081 (thread    2) f\b\b\r",
      "STEP   410 / 1081 (thread    4) f\b\b\r",
      "STEP   411 / 1081 (thread    2) f\b\b\r",
      "STEP   412 / 1081 (thread    1) f\b\b\r",
      "STEP   413 / 1081 (thread    0) f\b\b\r",
      "STEP   414 / 1081 (thread    5) f\b\b\r",
      "STEP   415 / 1081 (thread    4) f\b\b\r",
      "STEP   416 / 1081 (thread    2) f\b\b\r",
      "STEP   417 / 1081 (thread    3) f\b\b\r",
      "STEP   418 / 1081 (thread    1) f\b\b\r",
      "STEP   419 / 1081 (thread    0) f\b\b\r",
      "STEP   420 / 1081 (thread    2) f\b\b\r",
      "STEP   421 / 1081 (thread    4) f\b\b\r",
      "STEP   422 / 1081 (thread    5) f\b\b\r",
      "STEP   423 / 1081 (thread    2) f\b\b\r",
      "STEP   424 / 1081 (thread    0) f\b\b\r",
      "STEP   425 / 1081 (thread    3) f\b\b\r",
      "STEP   426 / 1081 (thread    1) f\b\b\r",
      "STEP   427 / 1081 (thread    4) f\b\b\r",
      "STEP   428 / 1081 (thread    3) f\b\b\r",
      "STEP   429 / 1081 (thread    2) f\b\b\r",
      "STEP   430 / 1081 (thread    0) f\b\b\r",
      "STEP   431 / 1081 (thread    5) f\b\b\r",
      "STEP   432 / 1081 (thread    1) f\b\b\r",
      "STEP   433 / 1081 (thread    2) f\b\b\r",
      "STEP   434 / 1081 (thread    4) f\b\b\r",
      "STEP   435 / 1081 (thread    0) f\b\b\r",
      "STEP   436 / 1081 (thread    0) f\b\b\r",
      "STEP   437 / 1081 (thread    3) f\b\b\r",
      "STEP   438 / 1081 (thread    2) f\b\b\r",
      "STEP   439 / 1081 (thread    2) f\b\b\r",
      "STEP   440 / 1081 (thread    5) f\b\b\r",
      "STEP   441 / 1081 (thread    4) f\b\b\r",
      "STEP   442 / 1081 (thread    1) f\b\b\r",
      "STEP   443 / 1081 (thread    2) f\b\b\r",
      "STEP   444 / 1081 (thread    0) f\b\b\r",
      "STEP   445 / 1081 (thread    5) f\b\b\r",
      "STEP   446 / 1081 (thread    3) f\b\b\r",
      "STEP   447 / 1081 (thread    0) f\b\b\r",
      "STEP   448 / 1081 (thread    1) f\b\b\r",
      "STEP   449 / 1081 (thread    2) f\b\b\r",
      "STEP   450 / 1081 (thread    0) f\b\b\r",
      "STEP   451 / 1081 (thread    5) f\b\b\r",
      "STEP   452 / 1081 (thread    3) f\b\b\r",
      "STEP   453 / 1081 (thread    2) f\b\b\r",
      "STEP   454 / 1081 (thread    4) f\b\b\r",
      "STEP   455 / 1081 (thread    1) f\b\b\r",
      "STEP   456 / 1081 (thread    0) f\b\b\r",
      "STEP   457 / 1081 (thread    2) f\b\b\r",
      "STEP   458 / 1081 (thread    5) f\b\b\r",
      "STEP   459 / 1081 (thread    3) f\b\b\r",
      "STEP   460 / 1081 (thread    0) f\b\b\r",
      "STEP   461 / 1081 (thread    4) f\b\b\r",
      "STEP   462 / 1081 (thread    1) f\b\b\r",
      "STEP   463 / 1081 (thread    2) f\b\b\r",
      "STEP   464 / 1081 (thread    3) f\b\b\r",
      "STEP   465 / 1081 (thread    0) f\b\b\r",
      "STEP   466 / 1081 (thread    2) f\b\b\r",
      "STEP   467 / 1081 (thread    5) f\b\b\r",
      "STEP   468 / 1081 (thread    0) f\b\b\r",
      "STEP   469 / 1081 (thread    4) f\b\b\r",
      "STEP   470 / 1081 (thread    3) f\b\b\r",
      "STEP   471 / 1081 (thread    5) f\b\b\r",
      "STEP   472 / 1081 (thread    1) f\b\b\r",
      "STEP   473 / 1081 (thread    2) f\b\b\r",
      "STEP   474 / 1081 (thread    3) f\b\b\r",
      "STEP   475 / 1081 (thread    0) f\b\b\r",
      "STEP   476 / 1081 (thread    2) f\b\b\r",
      "STEP   477 / 1081 (thread    4) f\b\b\r",
      "STEP   478 / 1081 (thread    1) f\b\b\r",
      "STEP   479 / 1081 (thread    0) f\b\b\r",
      "STEP   480 / 1081 (thread    5) f\b\b\r",
      "STEP   481 / 1081 (thread    3) f\b\b\r",
      "STEP   482 / 1081 (thread    2) f\b\b\r",
      "STEP   483 / 1081 (thread    0) f\b\b\r",
      "STEP   484 / 1081 (thread    4) f\b\b\r",
      "STEP   485 / 1081 (thread    2) f\b\b\r",
      "STEP   486 / 1081 (thread    3) f\b\b\r",
      "STEP   487 / 1081 (thread    5) f\b\b\r",
      "STEP   488 / 1081 (thread    0) f\b\b\r",
      "STEP   489 / 1081 (thread    1) f\b\b\r",
      "STEP   490 / 1081 (thread    2) f\b\b\r",
      "STEP   491 / 1081 (thread    1) f\b\b\r",
      "STEP   492 / 1081 (thread    5) f\b\b\r",
      "STEP   493 / 1081 (thread    0) f\b\b\r",
      "STEP   494 / 1081 (thread    3) f\b\b\r",
      "STEP   495 / 1081 (thread    2) f\b\b\r",
      "STEP   496 / 1081 (thread    4) f\b\b\r",
      "STEP   497 / 1081 (thread    0) f\b\b\r",
      "STEP   498 / 1081 (thread    3) f\b\b\r",
      "STEP   499 / 1081 (thread    1) f\b\b\r",
      "STEP   500 / 1081 (thread    2) f\b\b\r",
      "STEP   501 / 1081 (thread    5) f\b\b"
     ]
    },
    {
     "name": "stderr",
     "output_type": "stream",
     "text": [
      "\r",
      "STEP   601 / 1081 (thread    2) f\b\b\r",
      "STEP   701 / 1081 (thread    2) f\b\b\r",
      "STEP   801 / 1081 (thread    1) f\b\b\r",
      "STEP   901 / 1081 (thread    5) f\b\b"
     ]
    },
    {
     "name": "stderr",
     "output_type": "stream",
     "text": [
      "\r",
      "STEP  1001 / 1081 (thread    3) f\b\b\n",
      "Reallocating..done. *alloclen = 1869\n"
     ]
    },
    {
     "name": "stderr",
     "output_type": "stream",
     "text": [
      "\n",
      "done.\n",
      "\n",
      "disttbfast (nuc) Version 7.490\n",
      "alg=A, model=DNA200 (2), 1.53 (4.59), -0.00 (-0.00), noshift, amax=0.0\n",
      "6 thread(s)\n",
      "\n",
      "\n",
      "Strategy:\n",
      " FFT-NS-2 (Fast but rough)\n",
      " Progressive method (guide trees were built 2 times.)\n",
      "\n",
      "If unsure which option to use, try 'mafft --auto input > output'.\n",
      "For more information, see 'mafft --help', 'mafft --man' and the mafft page.\n",
      "\n",
      "The default gap scoring scheme has been changed in version 7.110 (2013 Oct).\n",
      "It tends to insert more gaps into gap-rich regions than previous versions.\n",
      "To disable this change, add the --leavegappyregion option.\n",
      "\n"
     ]
    },
    {
     "name": "stdout",
     "output_type": "stream",
     "text": [
      "Running external command line application. This may print messages to stdout and/or stderr.\n",
      "The command being run is below. This command cannot be manually re-run as it will depend on temporary files that no longer exist.\n",
      "\n",
      "Command: FastTreeMP -quote -nt /tmp/qiime2-archive-njuo2w3t/15be107a-dd81-4417-80e9-de92043f478d/data/aligned-dna-sequences.fasta\n",
      "\n"
     ]
    },
    {
     "name": "stderr",
     "output_type": "stream",
     "text": [
      "FastTree Version 2.1.10 Double precision (No SSE3), OpenMP (6 threads)\n",
      "Alignment: /tmp/qiime2-archive-njuo2w3t/15be107a-dd81-4417-80e9-de92043f478d/data/aligned-dna-sequences.fasta\n",
      "Nucleotide distances: Jukes-Cantor Joins: balanced Support: SH-like 1000\n",
      "Search: Normal +NNI +SPR (2 rounds range 10) +ML-NNI opt-each=1\n",
      "TopHits: 1.00*sqrtN close=default refresh=0.80\n",
      "ML Model: Jukes-Cantor, CAT approximation with 20 rate categories\n",
      "      0.13 seconds: Joined    100 of   1033\n"
     ]
    },
    {
     "name": "stderr",
     "output_type": "stream",
     "text": [
      "      0.29 seconds: Joined    300 of   1033\n",
      "      0.45 seconds: Joined    500 of   1033\n"
     ]
    },
    {
     "name": "stderr",
     "output_type": "stream",
     "text": [
      "      0.61 seconds: Joined    700 of   1033\n",
      "      0.76 seconds: Joined    900 of   1033\n"
     ]
    },
    {
     "name": "stderr",
     "output_type": "stream",
     "text": [
      "Initial topology in 0.84 seconds\n",
      "Refining topology: 40 rounds ME-NNIs, 2 rounds ME-SPRs, 20 rounds ML-NNIs\n",
      "      0.86 seconds: ME NNI round 1 of 40, 701 of 1034 splits, 137 changes (max delta 0.071)\n",
      "      0.96 seconds: ME NNI round 6 of 40, 101 of 1034 splits, 0 changes\n"
     ]
    },
    {
     "name": "stderr",
     "output_type": "stream",
     "text": [
      "      1.08 seconds: SPR round   1 of   2, 201 of 2070 nodes\n",
      "      1.20 seconds: SPR round   1 of   2, 401 of 2070 nodes\n"
     ]
    },
    {
     "name": "stderr",
     "output_type": "stream",
     "text": [
      "      1.31 seconds: SPR round   1 of   2, 601 of 2070 nodes\n",
      "      1.44 seconds: SPR round   1 of   2, 801 of 2070 nodes\n"
     ]
    },
    {
     "name": "stderr",
     "output_type": "stream",
     "text": [
      "      1.56 seconds: SPR round   1 of   2, 1001 of 2070 nodes\n",
      "      1.68 seconds: SPR round   1 of   2, 1201 of 2070 nodes\n"
     ]
    },
    {
     "name": "stderr",
     "output_type": "stream",
     "text": [
      "      1.79 seconds: SPR round   1 of   2, 1401 of 2070 nodes\n",
      "      1.90 seconds: SPR round   1 of   2, 1601 of 2070 nodes\n"
     ]
    },
    {
     "name": "stderr",
     "output_type": "stream",
     "text": [
      "      2.07 seconds: SPR round   1 of   2, 1901 of 2070 nodes\n",
      "      2.17 seconds: ME NNI round 14 of 40, 401 of 1034 splits, 4 changes (max delta 0.001)\n"
     ]
    },
    {
     "name": "stderr",
     "output_type": "stream",
     "text": [
      "      2.31 seconds: SPR round   2 of   2, 201 of 2070 nodes\n",
      "      2.42 seconds: SPR round   2 of   2, 401 of 2070 nodes\n"
     ]
    },
    {
     "name": "stderr",
     "output_type": "stream",
     "text": [
      "      2.52 seconds: SPR round   2 of   2, 601 of 2070 nodes\n",
      "      2.63 seconds: SPR round   2 of   2, 801 of 2070 nodes\n"
     ]
    },
    {
     "name": "stderr",
     "output_type": "stream",
     "text": [
      "      2.74 seconds: SPR round   2 of   2, 1001 of 2070 nodes\n",
      "      2.87 seconds: SPR round   2 of   2, 1201 of 2070 nodes\n"
     ]
    },
    {
     "name": "stderr",
     "output_type": "stream",
     "text": [
      "      2.98 seconds: SPR round   2 of   2, 1401 of 2070 nodes\n",
      "      3.12 seconds: SPR round   2 of   2, 1701 of 2070 nodes\n"
     ]
    },
    {
     "name": "stderr",
     "output_type": "stream",
     "text": [
      "      3.24 seconds: SPR round   2 of   2, 1901 of 2070 nodes\n",
      "      3.34 seconds: ME NNI round 27 of 40, 901 of 1034 splits, 7 changes (max delta 0.007)\n",
      "Total branch-length 21.880 after 3.42 sec\n"
     ]
    },
    {
     "name": "stderr",
     "output_type": "stream",
     "text": [
      "      3.45 seconds: ML Lengths 101 of 1034 splits\n",
      "      3.57 seconds: ML Lengths 501 of 1034 splits\n"
     ]
    },
    {
     "name": "stderr",
     "output_type": "stream",
     "text": [
      "      3.68 seconds: ML Lengths 901 of 1034 splits\n",
      "      3.80 seconds: ML NNI round 1 of 20, 101 of 1034 splits, 18 changes (max delta 4.532)\n"
     ]
    },
    {
     "name": "stderr",
     "output_type": "stream",
     "text": [
      "      3.94 seconds: ML NNI round 1 of 20, 301 of 1034 splits, 61 changes (max delta 6.668)\n",
      "      4.11 seconds: ML NNI round 1 of 20, 501 of 1034 splits, 87 changes (max delta 17.049)\n"
     ]
    },
    {
     "name": "stderr",
     "output_type": "stream",
     "text": [
      "      4.29 seconds: ML NNI round 1 of 20, 701 of 1034 splits, 115 changes (max delta 17.049)\n",
      "      4.45 seconds: ML NNI round 1 of 20, 901 of 1034 splits, 157 changes (max delta 17.049)\n"
     ]
    },
    {
     "name": "stderr",
     "output_type": "stream",
     "text": [
      "ML-NNI round 1: LogLk = -56674.011 NNIs 182 max delta 17.05 Time 4.57\n",
      "      4.58 seconds: Site likelihoods with rate category 1 of 20\n",
      "      4.69 seconds: Site likelihoods with rate category 10 of 20\n"
     ]
    },
    {
     "name": "stderr",
     "output_type": "stream",
     "text": [
      "      4.79 seconds: Site likelihoods with rate category 18 of 20\n",
      "Switched to using 20 rate categories (CAT approximation)\n",
      "Rate categories were divided by 1.052 so that average rate = 1.0\n",
      "CAT-based log-likelihoods may not be comparable across runs\n",
      "Use -gamma for approximate but comparable Gamma(20) log-likelihoods\n",
      "      4.91 seconds: ML NNI round 2 of 20, 101 of 1034 splits, 10 changes (max delta 4.480)\n"
     ]
    },
    {
     "name": "stderr",
     "output_type": "stream",
     "text": [
      "      5.11 seconds: ML NNI round 2 of 20, 301 of 1034 splits, 27 changes (max delta 4.480)\n"
     ]
    },
    {
     "name": "stderr",
     "output_type": "stream",
     "text": [
      "      5.32 seconds: ML NNI round 2 of 20, 501 of 1034 splits, 52 changes (max delta 6.782)\n",
      "      5.49 seconds: ML NNI round 2 of 20, 701 of 1034 splits, 68 changes (max delta 6.782)\n"
     ]
    },
    {
     "name": "stderr",
     "output_type": "stream",
     "text": [
      "      5.66 seconds: ML NNI round 2 of 20, 901 of 1034 splits, 89 changes (max delta 9.673)\n",
      "ML-NNI round 2: LogLk = -47164.972 NNIs 96 max delta 9.67 Time 5.78\n",
      "      5.77 seconds: ML NNI round 3 of 20, 1 of 1034 splits\n"
     ]
    },
    {
     "name": "stderr",
     "output_type": "stream",
     "text": [
      "      5.92 seconds: ML NNI round 3 of 20, 201 of 1034 splits, 8 changes (max delta 7.139)\n",
      "      6.11 seconds: ML NNI round 3 of 20, 401 of 1034 splits, 19 changes (max delta 7.139)\n"
     ]
    },
    {
     "name": "stderr",
     "output_type": "stream",
     "text": [
      "      6.27 seconds: ML NNI round 3 of 20, 601 of 1034 splits, 27 changes (max delta 7.139)\n",
      "ML-NNI round 3: LogLk = -47121.501 NNIs 33 max delta 7.14 Time 6.37\n",
      "      6.44 seconds: ML NNI round 4 of 20, 101 of 1034 splits, 4 changes (max delta 0.000)\n"
     ]
    },
    {
     "name": "stderr",
     "output_type": "stream",
     "text": [
      "      6.62 seconds: ML NNI round 4 of 20, 301 of 1034 splits, 9 changes (max delta 1.670)\n",
      "ML-NNI round 4: LogLk = -47116.934 NNIs 10 max delta 1.67 Time 6.74\n",
      "      6.73 seconds: ML NNI round 5 of 20, 1 of 1034 splits\n"
     ]
    },
    {
     "name": "stderr",
     "output_type": "stream",
     "text": [
      "ML-NNI round 5: LogLk = -47108.862 NNIs 3 max delta 4.19 Time 6.90\n",
      "      6.90 seconds: ML NNI round 6 of 20, 1 of 1034 splits\n",
      "ML-NNI round 6: LogLk = -47107.791 NNIs 2 max delta 0.44 Time 6.96\n",
      "ML-NNI round 7: LogLk = -47107.492 NNIs 1 max delta 0.12 Time 7.01\n",
      "      7.00 seconds: ML NNI round 8 of 20, 1 of 1034 splits\n",
      "ML-NNI round 8: LogLk = -47107.464 NNIs 0 max delta 0.00 Time 7.05\n",
      "Turning off heuristics for final round of ML NNIs (converged)\n"
     ]
    },
    {
     "name": "stderr",
     "output_type": "stream",
     "text": [
      "      7.12 seconds: ML NNI round 9 of 20, 101 of 1034 splits, 0 changes\n",
      "      7.27 seconds: ML NNI round 9 of 20, 301 of 1034 splits, 0 changes\n"
     ]
    },
    {
     "name": "stderr",
     "output_type": "stream",
     "text": [
      "      7.45 seconds: ML NNI round 9 of 20, 501 of 1034 splits, 1 changes (max delta 0.067)\n",
      "      7.62 seconds: ML NNI round 9 of 20, 701 of 1034 splits, 4 changes (max delta 1.089)\n"
     ]
    },
    {
     "name": "stderr",
     "output_type": "stream",
     "text": [
      "      7.77 seconds: ML NNI round 9 of 20, 901 of 1034 splits, 5 changes (max delta 1.089)\n",
      "ML-NNI round 9: LogLk = -47099.549 NNIs 7 max delta 1.09 Time 7.88 (final)\n",
      "      7.88 seconds: ML Lengths 1 of 1034 splits\n"
     ]
    },
    {
     "name": "stderr",
     "output_type": "stream",
     "text": [
      "      7.99 seconds: ML Lengths 501 of 1034 splits\n",
      "      8.11 seconds: ML Lengths 1001 of 1034 splits\n",
      "Optimize all lengths: LogLk = -47095.587 Time 8.13\n"
     ]
    },
    {
     "name": "stderr",
     "output_type": "stream",
     "text": [
      "      8.26 seconds: ML split tests for    100 of   1033 internal splits\n",
      "      8.39 seconds: ML split tests for    200 of   1033 internal splits\n"
     ]
    },
    {
     "name": "stderr",
     "output_type": "stream",
     "text": [
      "      8.53 seconds: ML split tests for    300 of   1033 internal splits\n",
      "      8.66 seconds: ML split tests for    400 of   1033 internal splits\n"
     ]
    },
    {
     "name": "stderr",
     "output_type": "stream",
     "text": [
      "      8.80 seconds: ML split tests for    500 of   1033 internal splits\n",
      "      8.93 seconds: ML split tests for    600 of   1033 internal splits\n"
     ]
    },
    {
     "name": "stderr",
     "output_type": "stream",
     "text": [
      "      9.07 seconds: ML split tests for    700 of   1033 internal splits\n",
      "      9.19 seconds: ML split tests for    800 of   1033 internal splits\n"
     ]
    },
    {
     "name": "stderr",
     "output_type": "stream",
     "text": [
      "      9.33 seconds: ML split tests for    900 of   1033 internal splits\n",
      "      9.46 seconds: ML split tests for   1000 of   1033 internal splits\n",
      "Total time: 9.51 seconds Unique: 1036/1082 Bad splits: 1/1033 Worst delta-LogLk 1.761\n"
     ]
    }
   ],
   "source": [
    "mafft_alignment, mafft_masked_alignment, mafft_tree, mafft_rooted_tree = align_to_tree_mafft_fasttree(\n",
    "    sequences=reps, n_threads=6, )"
   ]
  },
  {
   "cell_type": "markdown",
   "id": "0768d598",
   "metadata": {
    "papermill": {
     "duration": 0.0333,
     "end_time": "2023-06-07T05:47:48.443774",
     "exception": false,
     "start_time": "2023-06-07T05:47:48.410474",
     "status": "completed"
    },
    "tags": []
   },
   "source": [
    "### Compute Alpha Diversity (Phylogeny)\n",
    "- [diversity alpha_phylogenetic](https://docs.qiime2.org/2022.8/plugins/available/diversity/alpha-phylogenetic/): Computes a user-specified phylogenetic alpha diversity metric for all samples in a feature table.\n",
    "- Metrics: Choices ('faith_pd')"
   ]
  },
  {
   "cell_type": "code",
   "execution_count": 11,
   "id": "0383aa19",
   "metadata": {
    "ExecuteTime": {
     "end_time": "2022-09-29T20:54:35.310009Z",
     "start_time": "2022-09-29T20:54:35.141333Z"
    },
    "execution": {
     "iopub.execute_input": "2023-06-07T05:47:48.510043Z",
     "iopub.status.busy": "2023-06-07T05:47:48.509787Z",
     "iopub.status.idle": "2023-06-07T05:47:48.648569Z",
     "shell.execute_reply": "2023-06-07T05:47:48.647925Z"
    },
    "papermill": {
     "duration": 0.174023,
     "end_time": "2023-06-07T05:47:48.650053",
     "exception": false,
     "start_time": "2023-06-07T05:47:48.476030",
     "status": "completed"
    },
    "tags": []
   },
   "outputs": [
    {
     "name": "stdout",
     "output_type": "stream",
     "text": [
      "Calculating alpha diversity: faith_pd\n",
      "DONE: Calculating alpha phylogeny: faith_pd\n"
     ]
    }
   ],
   "source": [
    "metrics = ('faith_pd', )\n",
    "alpha_diversities_phylogenetic = dict()\n",
    "for metric in metrics:\n",
    "    print(f\"Calculating alpha diversity: {metric}\")\n",
    "    try:\n",
    "        alpha_diversity = alpha_phylogenetic(table=tabs, phylogeny=mafft_rooted_tree, metric=metric).alpha_diversity\n",
    "        alpha_diversities_phylogenetic[metric] = alpha_diversity\n",
    "        # Save Artifact\n",
    "        file_path = os.path.join(alpha_path, f'alpha-phylogeny-{metric}.qza')\n",
    "        alpha_diversity.save(file_path)\n",
    "        print(f\"DONE: Calculating alpha phylogeny: {metric}\")\n",
    "    except Exception as e:\n",
    "        print(f\"ERROR: Calculating alpha phylogeny: {metric}\")"
   ]
  },
  {
   "cell_type": "markdown",
   "id": "c7752cfd",
   "metadata": {
    "papermill": {
     "duration": 0.028586,
     "end_time": "2023-06-07T05:47:48.711980",
     "exception": false,
     "start_time": "2023-06-07T05:47:48.683394",
     "status": "completed"
    },
    "tags": []
   },
   "source": [
    "### Alpha diversity correlation\n",
    "\n",
    "This method only process `numeric` columns.\n"
   ]
  },
  {
   "cell_type": "code",
   "execution_count": 12,
   "id": "2814f613",
   "metadata": {
    "ExecuteTime": {
     "end_time": "2022-09-29T20:54:35.317618Z",
     "start_time": "2022-09-29T20:54:35.312094Z"
    },
    "execution": {
     "iopub.execute_input": "2023-06-07T05:47:48.769603Z",
     "iopub.status.busy": "2023-06-07T05:47:48.769261Z",
     "iopub.status.idle": "2023-06-07T05:47:48.777633Z",
     "shell.execute_reply": "2023-06-07T05:47:48.777047Z"
    },
    "papermill": {
     "duration": 0.038808,
     "end_time": "2023-06-07T05:47:48.779069",
     "exception": false,
     "start_time": "2023-06-07T05:47:48.740261",
     "status": "completed"
    },
    "tags": []
   },
   "outputs": [],
   "source": [
    "methods = ('spearman', 'pearson')\n",
    "numerics_cols = metadata_qa.filter_columns(column_type='numeric')\n",
    "if numerics_cols.column_count > 0:\n",
    "    for metric, alpha_values in alpha_diversities.items():\n",
    "        for method in methods:\n",
    "            try:\n",
    "                corr_view = alpha_correlation(alpha_diversity=alpha_values, metadata=numerics_cols, \n",
    "                                          method=method, intersect_ids=True).visualization\n",
    "                view_path = os.path.join(alpha_path, f'alpha-correlation-{metric}-{method}.qzv')\n",
    "                corr_view.save(view_path)\n",
    "                corr_view\n",
    "                print(f\"DONE: Calculating alpha correlation: {metric} {method}\")\n",
    "            except Exception as e:\n",
    "                print(f\"ERROR: Calculating alpha correlation: {metric} {method}\")"
   ]
  },
  {
   "cell_type": "markdown",
   "id": "8ea83c8a",
   "metadata": {
    "papermill": {
     "duration": 0.040512,
     "end_time": "2023-06-07T05:47:48.849823",
     "exception": false,
     "start_time": "2023-06-07T05:47:48.809311",
     "status": "completed"
    },
    "tags": []
   },
   "source": [
    "## Alpha diversity comparisons\n",
    "\n",
    "Visually and statistically compare groups of alpha diversity values.\n",
    "\n",
    "[diversity alpha_group_significance](https://docs.qiime2.org/2022.8/plugins/available/diversity/alpha-group-significance/)"
   ]
  },
  {
   "cell_type": "code",
   "execution_count": 13,
   "id": "276d1c18",
   "metadata": {
    "ExecuteTime": {
     "end_time": "2022-09-29T20:54:36.089290Z",
     "start_time": "2022-09-29T20:54:35.318963Z"
    },
    "execution": {
     "iopub.execute_input": "2023-06-07T05:47:48.942605Z",
     "iopub.status.busy": "2023-06-07T05:47:48.942218Z",
     "iopub.status.idle": "2023-06-07T05:47:52.528042Z",
     "shell.execute_reply": "2023-06-07T05:47:52.527403Z"
    },
    "papermill": {
     "duration": 3.636237,
     "end_time": "2023-06-07T05:47:52.531593",
     "exception": false,
     "start_time": "2023-06-07T05:47:48.895356",
     "status": "completed"
    },
    "tags": []
   },
   "outputs": [
    {
     "name": "stdout",
     "output_type": "stream",
     "text": [
      "Processing alpha_group_significance: ace\n"
     ]
    },
    {
     "name": "stdout",
     "output_type": "stream",
     "text": [
      "DONE: Calculating alpha group significance: ace\n",
      "Processing alpha_group_significance: berger_parker_d\n",
      "DONE: Calculating alpha group significance: berger_parker_d\n",
      "Processing alpha_group_significance: brillouin_d\n"
     ]
    },
    {
     "name": "stdout",
     "output_type": "stream",
     "text": [
      "DONE: Calculating alpha group significance: brillouin_d\n",
      "Processing alpha_group_significance: chao1\n",
      "DONE: Calculating alpha group significance: chao1\n",
      "Processing alpha_group_significance: chao1_ci\n",
      "ERROR: Calculating alpha group significance: chao1_ci\n",
      "Processing alpha_group_significance: dominance\n"
     ]
    },
    {
     "name": "stdout",
     "output_type": "stream",
     "text": [
      "DONE: Calculating alpha group significance: dominance\n",
      "Processing alpha_group_significance: doubles\n",
      "DONE: Calculating alpha group significance: doubles\n",
      "Processing alpha_group_significance: enspie\n"
     ]
    },
    {
     "name": "stdout",
     "output_type": "stream",
     "text": [
      "DONE: Calculating alpha group significance: enspie\n",
      "Processing alpha_group_significance: esty_ci\n",
      "ERROR: Calculating alpha group significance: esty_ci\n",
      "Processing alpha_group_significance: fisher_alpha\n",
      "DONE: Calculating alpha group significance: fisher_alpha\n",
      "Processing alpha_group_significance: gini_index\n"
     ]
    },
    {
     "name": "stdout",
     "output_type": "stream",
     "text": [
      "DONE: Calculating alpha group significance: gini_index\n",
      "Processing alpha_group_significance: goods_coverage\n",
      "DONE: Calculating alpha group significance: goods_coverage\n",
      "Processing alpha_group_significance: heip_e\n"
     ]
    },
    {
     "name": "stdout",
     "output_type": "stream",
     "text": [
      "DONE: Calculating alpha group significance: heip_e\n",
      "Processing alpha_group_significance: kempton_taylor_q\n",
      "ERROR: Calculating alpha group significance: kempton_taylor_q\n",
      "Processing alpha_group_significance: lladser_pe\n",
      "DONE: Calculating alpha group significance: lladser_pe\n",
      "Processing alpha_group_significance: margalef\n"
     ]
    },
    {
     "name": "stdout",
     "output_type": "stream",
     "text": [
      "DONE: Calculating alpha group significance: margalef\n",
      "Processing alpha_group_significance: mcintosh_d\n",
      "DONE: Calculating alpha group significance: mcintosh_d\n",
      "Processing alpha_group_significance: mcintosh_e\n"
     ]
    },
    {
     "name": "stdout",
     "output_type": "stream",
     "text": [
      "DONE: Calculating alpha group significance: mcintosh_e\n",
      "Processing alpha_group_significance: menhinick\n",
      "DONE: Calculating alpha group significance: menhinick\n",
      "Processing alpha_group_significance: michaelis_menten_fit\n"
     ]
    },
    {
     "name": "stdout",
     "output_type": "stream",
     "text": [
      "DONE: Calculating alpha group significance: michaelis_menten_fit\n",
      "Processing alpha_group_significance: observed_features\n",
      "DONE: Calculating alpha group significance: observed_features\n",
      "Processing alpha_group_significance: osd\n",
      "ERROR: Calculating alpha group significance: osd\n",
      "Processing alpha_group_significance: pielou_e\n"
     ]
    },
    {
     "name": "stdout",
     "output_type": "stream",
     "text": [
      "DONE: Calculating alpha group significance: pielou_e\n",
      "Processing alpha_group_significance: robbins\n",
      "DONE: Calculating alpha group significance: robbins\n",
      "Processing alpha_group_significance: shannon\n"
     ]
    },
    {
     "name": "stdout",
     "output_type": "stream",
     "text": [
      "DONE: Calculating alpha group significance: shannon\n",
      "Processing alpha_group_significance: simpson\n",
      "DONE: Calculating alpha group significance: simpson\n",
      "Processing alpha_group_significance: simpson_e\n"
     ]
    },
    {
     "name": "stdout",
     "output_type": "stream",
     "text": [
      "DONE: Calculating alpha group significance: simpson_e\n",
      "Processing alpha_group_significance: singles\n",
      "DONE: Calculating alpha group significance: singles\n",
      "Processing alpha_group_significance: strong\n"
     ]
    },
    {
     "name": "stdout",
     "output_type": "stream",
     "text": [
      "DONE: Calculating alpha group significance: strong\n"
     ]
    }
   ],
   "source": [
    "for metric, alpha_values in alpha_diversities.items():\n",
    "    print(f\"Processing alpha_group_significance: {metric}\")\n",
    "    try:\n",
    "        significance_view = alpha_group_significance(alpha_diversity=alpha_values, metadata=metadata_qa).visualization\n",
    "        view_path = os.path.join(alpha_path, f'alpha-group-significance-{metric}.qzv')\n",
    "        significance_view.save(view_path)\n",
    "        significance_view\n",
    "        print(f\"DONE: Calculating alpha group significance: {metric}\")\n",
    "    except Exception as e:\n",
    "        print(f\"ERROR: Calculating alpha group significance: {metric}\")"
   ]
  },
  {
   "cell_type": "markdown",
   "id": "4349d357",
   "metadata": {
    "papermill": {
     "duration": 0.049177,
     "end_time": "2023-06-07T05:47:52.621437",
     "exception": false,
     "start_time": "2023-06-07T05:47:52.572260",
     "status": "completed"
    },
    "tags": []
   },
   "source": [
    "## Beta diversity analysis\n",
    "\n",
    "#### Reference\n",
    "- [diversity beta](https://docs.qiime2.org/2022.8/plugins/available/diversity/beta/): Computes a user-specified beta diversity metric for all pairs of samples in a feature table.\n",
    "- [Beta diversity metrics](http://scikit-bio.org/docs/0.2.0/generated/skbio.diversity.beta.html)\n",
    "\n",
    "- Metric Choices('aitchison', 'braycurtis', 'canberra', 'canberra_adkins', 'chebyshev', 'cityblock', 'correlation', 'cosine', 'dice', 'euclidean', 'hamming', 'jaccard', 'jensenshannon', 'kulsinski', 'matching', 'minkowski', 'rogerstanimoto', 'russellrao', 'seuclidean', 'sokalmichener', 'sokalsneath', 'sqeuclidean', 'yule')"
   ]
  },
  {
   "cell_type": "code",
   "execution_count": 14,
   "id": "f6f358dd",
   "metadata": {
    "ExecuteTime": {
     "end_time": "2022-09-29T20:54:36.335038Z",
     "start_time": "2022-09-29T20:54:36.091288Z"
    },
    "execution": {
     "iopub.execute_input": "2023-06-07T05:47:52.696987Z",
     "iopub.status.busy": "2023-06-07T05:47:52.696695Z",
     "iopub.status.idle": "2023-06-07T05:47:54.135432Z",
     "shell.execute_reply": "2023-06-07T05:47:54.134830Z"
    },
    "papermill": {
     "duration": 1.480631,
     "end_time": "2023-06-07T05:47:54.139534",
     "exception": false,
     "start_time": "2023-06-07T05:47:52.658903",
     "status": "completed"
    },
    "tags": []
   },
   "outputs": [
    {
     "name": "stdout",
     "output_type": "stream",
     "text": [
      "Calculating beta diversity: aitchison\n"
     ]
    },
    {
     "name": "stdout",
     "output_type": "stream",
     "text": [
      "DONE: Calculating beta diversity: aitchison\n",
      "Calculating beta diversity: braycurtis\n",
      "DONE: Calculating beta diversity: braycurtis\n",
      "Calculating beta diversity: canberra\n"
     ]
    },
    {
     "name": "stdout",
     "output_type": "stream",
     "text": [
      "DONE: Calculating beta diversity: canberra\n",
      "Calculating beta diversity: canberra_adkins\n",
      "DONE: Calculating beta diversity: canberra_adkins\n",
      "Calculating beta diversity: chebyshev\n",
      "DONE: Calculating beta diversity: chebyshev\n",
      "Calculating beta diversity: cityblock\n",
      "DONE: Calculating beta diversity: cityblock\n",
      "Calculating beta diversity: correlation\n",
      "ERROR: Calculating beta diversity: correlation\n",
      "Calculating beta diversity: cosine\n"
     ]
    },
    {
     "name": "stdout",
     "output_type": "stream",
     "text": [
      "ERROR: Calculating beta diversity: cosine\n",
      "Calculating beta diversity: dice\n",
      "DONE: Calculating beta diversity: dice\n",
      "Calculating beta diversity: euclidean\n",
      "DONE: Calculating beta diversity: euclidean\n",
      "Calculating beta diversity: hamming\n"
     ]
    },
    {
     "name": "stderr",
     "output_type": "stream",
     "text": [
      "/home/lauro/anaconda3/envs/qiime2-2022.2/lib/python3.8/site-packages/sklearn/metrics/pairwise.py:1761: DataConversionWarning: Data was converted to boolean for metric dice\n",
      "  warnings.warn(msg, DataConversionWarning)\n",
      "/home/lauro/anaconda3/envs/qiime2-2022.2/lib/python3.8/site-packages/sklearn/metrics/pairwise.py:1761: DataConversionWarning: Data was converted to boolean for metric jaccard\n",
      "  warnings.warn(msg, DataConversionWarning)\n"
     ]
    },
    {
     "name": "stdout",
     "output_type": "stream",
     "text": [
      "DONE: Calculating beta diversity: hamming\n",
      "Calculating beta diversity: jaccard\n",
      "DONE: Calculating beta diversity: jaccard\n",
      "Calculating beta diversity: jensenshannon\n",
      "DONE: Calculating beta diversity: jensenshannon\n",
      "Calculating beta diversity: kulsinski\n",
      "ERROR: Calculating beta diversity: kulsinski\n",
      "Calculating beta diversity: matching\n"
     ]
    },
    {
     "name": "stderr",
     "output_type": "stream",
     "text": [
      "/home/lauro/anaconda3/envs/qiime2-2022.2/lib/python3.8/site-packages/sklearn/metrics/pairwise.py:1761: DataConversionWarning: Data was converted to boolean for metric kulsinski\n",
      "  warnings.warn(msg, DataConversionWarning)\n",
      "/home/lauro/anaconda3/envs/qiime2-2022.2/lib/python3.8/site-packages/sklearn/metrics/pairwise.py:1761: DataConversionWarning: Data was converted to boolean for metric matching\n",
      "  warnings.warn(msg, DataConversionWarning)\n",
      "/home/lauro/anaconda3/envs/qiime2-2022.2/lib/python3.8/site-packages/sklearn/metrics/pairwise.py:1761: DataConversionWarning: Data was converted to boolean for metric rogerstanimoto\n",
      "  warnings.warn(msg, DataConversionWarning)\n"
     ]
    },
    {
     "name": "stdout",
     "output_type": "stream",
     "text": [
      "DONE: Calculating beta diversity: matching\n",
      "Calculating beta diversity: minkowski\n",
      "DONE: Calculating beta diversity: minkowski\n",
      "Calculating beta diversity: rogerstanimoto\n",
      "DONE: Calculating beta diversity: rogerstanimoto\n",
      "Calculating beta diversity: russellrao\n",
      "ERROR: Calculating beta diversity: russellrao\n",
      "Calculating beta diversity: seuclidean\n"
     ]
    },
    {
     "name": "stderr",
     "output_type": "stream",
     "text": [
      "/home/lauro/anaconda3/envs/qiime2-2022.2/lib/python3.8/site-packages/sklearn/metrics/pairwise.py:1761: DataConversionWarning: Data was converted to boolean for metric russellrao\n",
      "  warnings.warn(msg, DataConversionWarning)\n",
      "/home/lauro/anaconda3/envs/qiime2-2022.2/lib/python3.8/site-packages/sklearn/metrics/pairwise.py:1761: DataConversionWarning: Data was converted to boolean for metric sokalmichener\n",
      "  warnings.warn(msg, DataConversionWarning)\n",
      "/home/lauro/anaconda3/envs/qiime2-2022.2/lib/python3.8/site-packages/sklearn/metrics/pairwise.py:1761: DataConversionWarning: Data was converted to boolean for metric sokalsneath\n",
      "  warnings.warn(msg, DataConversionWarning)\n"
     ]
    },
    {
     "name": "stdout",
     "output_type": "stream",
     "text": [
      "DONE: Calculating beta diversity: seuclidean\n",
      "Calculating beta diversity: sokalmichener\n",
      "DONE: Calculating beta diversity: sokalmichener\n",
      "Calculating beta diversity: sokalsneath\n",
      "DONE: Calculating beta diversity: sokalsneath\n",
      "Calculating beta diversity: sqeuclidean\n",
      "DONE: Calculating beta diversity: sqeuclidean\n",
      "Calculating beta diversity: yule\n"
     ]
    },
    {
     "name": "stdout",
     "output_type": "stream",
     "text": [
      "DONE: Calculating beta diversity: yule\n"
     ]
    },
    {
     "name": "stderr",
     "output_type": "stream",
     "text": [
      "/home/lauro/anaconda3/envs/qiime2-2022.2/lib/python3.8/site-packages/sklearn/metrics/pairwise.py:1761: DataConversionWarning: Data was converted to boolean for metric yule\n",
      "  warnings.warn(msg, DataConversionWarning)\n"
     ]
    }
   ],
   "source": [
    "metrics = ('aitchison', 'braycurtis', 'canberra', 'canberra_adkins', 'chebyshev', 'cityblock', 'correlation', 'cosine', 'dice', 'euclidean', 'hamming', 'jaccard', 'jensenshannon', 'kulsinski', 'matching', 'minkowski', 'rogerstanimoto', 'russellrao', 'seuclidean', 'sokalmichener', 'sokalsneath', 'sqeuclidean', 'yule')\n",
    "beta_diversities = dict()\n",
    "for metric in metrics:\n",
    "    print(f\"Calculating beta diversity: {metric}\")\n",
    "    try:\n",
    "        beta_diversity = beta(table=tabs, metric=metric, n_jobs=6, pseudocount=1).distance_matrix\n",
    "        beta_diversities[metric] = beta_diversity\n",
    "        # Save SampleData[BetaDiversity] Artifact\n",
    "        file_path = os.path.join(beta_path, f'beta-values-{metric}.qza')\n",
    "        beta_diversity.save(file_path)\n",
    "        print(f\"DONE: Calculating beta diversity: {metric}\")\n",
    "    except Exception as e:\n",
    "        print(f\"ERROR: Calculating beta diversity: {metric}\")"
   ]
  },
  {
   "cell_type": "markdown",
   "id": "200a2fa7",
   "metadata": {
    "papermill": {
     "duration": 0.03469,
     "end_time": "2023-06-07T05:47:54.213581",
     "exception": false,
     "start_time": "2023-06-07T05:47:54.178891",
     "status": "completed"
    },
    "tags": []
   },
   "source": [
    "### Beta group significance\n",
    "\n",
    "- [diversity beta_group_significance](https://docs.qiime2.org/2022.8/plugins/available/diversity/beta-group-significance/): Determine whether groups of samples are significantly different from one another using a permutation-based statistical test.\n",
    "- Marti J Anderson. A new method for non-parametric multivariate analysis of variance. Austral ecology, 26(1):32–46, 2001. doi:https://doi.org/10.1111/j.1442-9993.2001.01070.pp.x."
   ]
  },
  {
   "cell_type": "code",
   "execution_count": 15,
   "id": "b8dd42b6",
   "metadata": {
    "ExecuteTime": {
     "end_time": "2022-09-29T20:55:08.313860Z",
     "start_time": "2022-09-29T20:54:36.336993Z"
    },
    "execution": {
     "iopub.execute_input": "2023-06-07T05:47:54.282942Z",
     "iopub.status.busy": "2023-06-07T05:47:54.282524Z",
     "iopub.status.idle": "2023-06-07T05:50:29.174151Z",
     "shell.execute_reply": "2023-06-07T05:50:29.173591Z"
    },
    "papermill": {
     "duration": 154.932111,
     "end_time": "2023-06-07T05:50:29.179672",
     "exception": false,
     "start_time": "2023-06-07T05:47:54.247561",
     "status": "completed"
    },
    "tags": []
   },
   "outputs": [
    {
     "name": "stdout",
     "output_type": "stream",
     "text": [
      "Calculating beta group significance with method permanova and metric aitchison\n"
     ]
    },
    {
     "name": "stdout",
     "output_type": "stream",
     "text": [
      "DONE: Calculating beta group significance: permanova aitchison\n",
      "Calculating beta group significance with method permanova and metric braycurtis\n"
     ]
    },
    {
     "name": "stdout",
     "output_type": "stream",
     "text": [
      "DONE: Calculating beta group significance: permanova braycurtis\n",
      "Calculating beta group significance with method permanova and metric canberra\n"
     ]
    },
    {
     "name": "stdout",
     "output_type": "stream",
     "text": [
      "DONE: Calculating beta group significance: permanova canberra\n",
      "Calculating beta group significance with method permanova and metric canberra_adkins\n"
     ]
    },
    {
     "name": "stdout",
     "output_type": "stream",
     "text": [
      "DONE: Calculating beta group significance: permanova canberra_adkins\n",
      "Calculating beta group significance with method permanova and metric chebyshev\n"
     ]
    },
    {
     "name": "stdout",
     "output_type": "stream",
     "text": [
      "DONE: Calculating beta group significance: permanova chebyshev\n",
      "Calculating beta group significance with method permanova and metric cityblock\n"
     ]
    },
    {
     "name": "stdout",
     "output_type": "stream",
     "text": [
      "DONE: Calculating beta group significance: permanova cityblock\n",
      "Calculating beta group significance with method permanova and metric dice\n"
     ]
    },
    {
     "name": "stdout",
     "output_type": "stream",
     "text": [
      "DONE: Calculating beta group significance: permanova dice\n",
      "Calculating beta group significance with method permanova and metric euclidean\n"
     ]
    },
    {
     "name": "stdout",
     "output_type": "stream",
     "text": [
      "DONE: Calculating beta group significance: permanova euclidean\n",
      "Calculating beta group significance with method permanova and metric hamming\n"
     ]
    },
    {
     "name": "stdout",
     "output_type": "stream",
     "text": [
      "DONE: Calculating beta group significance: permanova hamming\n",
      "Calculating beta group significance with method permanova and metric jaccard\n"
     ]
    },
    {
     "name": "stdout",
     "output_type": "stream",
     "text": [
      "DONE: Calculating beta group significance: permanova jaccard\n",
      "Calculating beta group significance with method permanova and metric jensenshannon\n"
     ]
    },
    {
     "name": "stdout",
     "output_type": "stream",
     "text": [
      "DONE: Calculating beta group significance: permanova jensenshannon\n",
      "Calculating beta group significance with method permanova and metric matching\n"
     ]
    },
    {
     "name": "stdout",
     "output_type": "stream",
     "text": [
      "DONE: Calculating beta group significance: permanova matching\n",
      "Calculating beta group significance with method permanova and metric minkowski\n"
     ]
    },
    {
     "name": "stdout",
     "output_type": "stream",
     "text": [
      "DONE: Calculating beta group significance: permanova minkowski\n",
      "Calculating beta group significance with method permanova and metric rogerstanimoto\n"
     ]
    },
    {
     "name": "stdout",
     "output_type": "stream",
     "text": [
      "DONE: Calculating beta group significance: permanova rogerstanimoto\n",
      "Calculating beta group significance with method permanova and metric seuclidean\n"
     ]
    },
    {
     "name": "stdout",
     "output_type": "stream",
     "text": [
      "DONE: Calculating beta group significance: permanova seuclidean\n",
      "Calculating beta group significance with method permanova and metric sokalmichener\n"
     ]
    },
    {
     "name": "stdout",
     "output_type": "stream",
     "text": [
      "DONE: Calculating beta group significance: permanova sokalmichener\n",
      "Calculating beta group significance with method permanova and metric sokalsneath\n"
     ]
    },
    {
     "name": "stdout",
     "output_type": "stream",
     "text": [
      "DONE: Calculating beta group significance: permanova sokalsneath\n",
      "Calculating beta group significance with method permanova and metric sqeuclidean\n"
     ]
    },
    {
     "name": "stdout",
     "output_type": "stream",
     "text": [
      "DONE: Calculating beta group significance: permanova sqeuclidean\n",
      "Calculating beta group significance with method permanova and metric yule\n"
     ]
    },
    {
     "name": "stdout",
     "output_type": "stream",
     "text": [
      "DONE: Calculating beta group significance: permanova yule\n",
      "Calculating beta group significance with method anosim and metric aitchison\n"
     ]
    },
    {
     "name": "stdout",
     "output_type": "stream",
     "text": [
      "DONE: Calculating beta group significance: anosim aitchison\n",
      "Calculating beta group significance with method anosim and metric braycurtis\n"
     ]
    },
    {
     "name": "stdout",
     "output_type": "stream",
     "text": [
      "DONE: Calculating beta group significance: anosim braycurtis\n",
      "Calculating beta group significance with method anosim and metric canberra\n"
     ]
    },
    {
     "name": "stdout",
     "output_type": "stream",
     "text": [
      "DONE: Calculating beta group significance: anosim canberra\n",
      "Calculating beta group significance with method anosim and metric canberra_adkins\n"
     ]
    },
    {
     "name": "stdout",
     "output_type": "stream",
     "text": [
      "DONE: Calculating beta group significance: anosim canberra_adkins\n",
      "Calculating beta group significance with method anosim and metric chebyshev\n"
     ]
    },
    {
     "name": "stdout",
     "output_type": "stream",
     "text": [
      "DONE: Calculating beta group significance: anosim chebyshev\n",
      "Calculating beta group significance with method anosim and metric cityblock\n"
     ]
    },
    {
     "name": "stdout",
     "output_type": "stream",
     "text": [
      "DONE: Calculating beta group significance: anosim cityblock\n",
      "Calculating beta group significance with method anosim and metric dice\n"
     ]
    },
    {
     "name": "stdout",
     "output_type": "stream",
     "text": [
      "DONE: Calculating beta group significance: anosim dice\n",
      "Calculating beta group significance with method anosim and metric euclidean\n"
     ]
    },
    {
     "name": "stdout",
     "output_type": "stream",
     "text": [
      "DONE: Calculating beta group significance: anosim euclidean\n",
      "Calculating beta group significance with method anosim and metric hamming\n"
     ]
    },
    {
     "name": "stdout",
     "output_type": "stream",
     "text": [
      "DONE: Calculating beta group significance: anosim hamming\n",
      "Calculating beta group significance with method anosim and metric jaccard\n"
     ]
    },
    {
     "name": "stdout",
     "output_type": "stream",
     "text": [
      "DONE: Calculating beta group significance: anosim jaccard\n",
      "Calculating beta group significance with method anosim and metric jensenshannon\n"
     ]
    },
    {
     "name": "stdout",
     "output_type": "stream",
     "text": [
      "DONE: Calculating beta group significance: anosim jensenshannon\n",
      "Calculating beta group significance with method anosim and metric matching\n"
     ]
    },
    {
     "name": "stdout",
     "output_type": "stream",
     "text": [
      "DONE: Calculating beta group significance: anosim matching\n",
      "Calculating beta group significance with method anosim and metric minkowski\n"
     ]
    },
    {
     "name": "stdout",
     "output_type": "stream",
     "text": [
      "DONE: Calculating beta group significance: anosim minkowski\n",
      "Calculating beta group significance with method anosim and metric rogerstanimoto\n"
     ]
    },
    {
     "name": "stdout",
     "output_type": "stream",
     "text": [
      "DONE: Calculating beta group significance: anosim rogerstanimoto\n",
      "Calculating beta group significance with method anosim and metric seuclidean\n"
     ]
    },
    {
     "name": "stdout",
     "output_type": "stream",
     "text": [
      "DONE: Calculating beta group significance: anosim seuclidean\n",
      "Calculating beta group significance with method anosim and metric sokalmichener\n"
     ]
    },
    {
     "name": "stdout",
     "output_type": "stream",
     "text": [
      "DONE: Calculating beta group significance: anosim sokalmichener\n",
      "Calculating beta group significance with method anosim and metric sokalsneath\n"
     ]
    },
    {
     "name": "stdout",
     "output_type": "stream",
     "text": [
      "DONE: Calculating beta group significance: anosim sokalsneath\n",
      "Calculating beta group significance with method anosim and metric sqeuclidean\n"
     ]
    },
    {
     "name": "stdout",
     "output_type": "stream",
     "text": [
      "DONE: Calculating beta group significance: anosim sqeuclidean\n",
      "Calculating beta group significance with method anosim and metric yule\n"
     ]
    },
    {
     "name": "stdout",
     "output_type": "stream",
     "text": [
      "DONE: Calculating beta group significance: anosim yule\n",
      "Calculating beta group significance with method permdisp and metric aitchison\n"
     ]
    },
    {
     "name": "stdout",
     "output_type": "stream",
     "text": [
      "DONE: Calculating beta group significance: permdisp aitchison\n",
      "Calculating beta group significance with method permdisp and metric braycurtis\n"
     ]
    },
    {
     "name": "stdout",
     "output_type": "stream",
     "text": [
      "DONE: Calculating beta group significance: permdisp braycurtis\n",
      "Calculating beta group significance with method permdisp and metric canberra\n"
     ]
    },
    {
     "name": "stdout",
     "output_type": "stream",
     "text": [
      "DONE: Calculating beta group significance: permdisp canberra\n",
      "Calculating beta group significance with method permdisp and metric canberra_adkins\n"
     ]
    },
    {
     "name": "stdout",
     "output_type": "stream",
     "text": [
      "DONE: Calculating beta group significance: permdisp canberra_adkins\n",
      "Calculating beta group significance with method permdisp and metric chebyshev\n"
     ]
    },
    {
     "name": "stderr",
     "output_type": "stream",
     "text": [
      "/home/lauro/anaconda3/envs/qiime2-2022.2/lib/python3.8/site-packages/skbio/stats/ordination/_principal_coordinate_analysis.py:143: RuntimeWarning: The result contains negative eigenvalues. Please compare their magnitude with the magnitude of some of the largest positive eigenvalues. If the negative ones are smaller, it's probably safe to ignore them, but if they are large in magnitude, the results won't be useful. See the Notes section for more details. The smallest eigenvalue is -192349125.6274676 and the largest is 7686685163.559063.\n",
      "  warn(\n"
     ]
    },
    {
     "name": "stderr",
     "output_type": "stream",
     "text": [
      "/home/lauro/anaconda3/envs/qiime2-2022.2/lib/python3.8/site-packages/skbio/stats/ordination/_principal_coordinate_analysis.py:143: RuntimeWarning: The result contains negative eigenvalues. Please compare their magnitude with the magnitude of some of the largest positive eigenvalues. If the negative ones are smaller, it's probably safe to ignore them, but if they are large in magnitude, the results won't be useful. See the Notes section for more details. The smallest eigenvalue is -192349125.6274676 and the largest is 7686685163.559063.\n",
      "  warn(\n"
     ]
    },
    {
     "name": "stdout",
     "output_type": "stream",
     "text": [
      "DONE: Calculating beta group significance: permdisp chebyshev\n",
      "Calculating beta group significance with method permdisp and metric cityblock\n"
     ]
    },
    {
     "name": "stderr",
     "output_type": "stream",
     "text": [
      "/home/lauro/anaconda3/envs/qiime2-2022.2/lib/python3.8/site-packages/skbio/stats/ordination/_principal_coordinate_analysis.py:143: RuntimeWarning: The result contains negative eigenvalues. Please compare their magnitude with the magnitude of some of the largest positive eigenvalues. If the negative ones are smaller, it's probably safe to ignore them, but if they are large in magnitude, the results won't be useful. See the Notes section for more details. The smallest eigenvalue is -10071304.181710081 and the largest is 218725547285.03378.\n",
      "  warn(\n"
     ]
    },
    {
     "name": "stderr",
     "output_type": "stream",
     "text": [
      "/home/lauro/anaconda3/envs/qiime2-2022.2/lib/python3.8/site-packages/skbio/stats/ordination/_principal_coordinate_analysis.py:143: RuntimeWarning: The result contains negative eigenvalues. Please compare their magnitude with the magnitude of some of the largest positive eigenvalues. If the negative ones are smaller, it's probably safe to ignore them, but if they are large in magnitude, the results won't be useful. See the Notes section for more details. The smallest eigenvalue is -10071304.181710081 and the largest is 218725547285.03378.\n",
      "  warn(\n"
     ]
    },
    {
     "name": "stdout",
     "output_type": "stream",
     "text": [
      "DONE: Calculating beta group significance: permdisp cityblock\n",
      "Calculating beta group significance with method permdisp and metric dice\n"
     ]
    },
    {
     "name": "stdout",
     "output_type": "stream",
     "text": [
      "DONE: Calculating beta group significance: permdisp dice\n",
      "Calculating beta group significance with method permdisp and metric euclidean\n"
     ]
    },
    {
     "name": "stderr",
     "output_type": "stream",
     "text": [
      "/home/lauro/anaconda3/envs/qiime2-2022.2/lib/python3.8/site-packages/skbio/stats/ordination/_principal_coordinate_analysis.py:143: RuntimeWarning: The result contains negative eigenvalues. Please compare their magnitude with the magnitude of some of the largest positive eigenvalues. If the negative ones are smaller, it's probably safe to ignore them, but if they are large in magnitude, the results won't be useful. See the Notes section for more details. The smallest eigenvalue is -3.473646879477737e-06 and the largest is 16701500903.875242.\n",
      "  warn(\n"
     ]
    },
    {
     "name": "stderr",
     "output_type": "stream",
     "text": [
      "/home/lauro/anaconda3/envs/qiime2-2022.2/lib/python3.8/site-packages/skbio/stats/ordination/_principal_coordinate_analysis.py:143: RuntimeWarning: The result contains negative eigenvalues. Please compare their magnitude with the magnitude of some of the largest positive eigenvalues. If the negative ones are smaller, it's probably safe to ignore them, but if they are large in magnitude, the results won't be useful. See the Notes section for more details. The smallest eigenvalue is -3.473646879477737e-06 and the largest is 16701500903.875242.\n",
      "  warn(\n"
     ]
    },
    {
     "name": "stdout",
     "output_type": "stream",
     "text": [
      "DONE: Calculating beta group significance: permdisp euclidean\n",
      "Calculating beta group significance with method permdisp and metric hamming\n"
     ]
    },
    {
     "name": "stdout",
     "output_type": "stream",
     "text": [
      "DONE: Calculating beta group significance: permdisp hamming\n",
      "Calculating beta group significance with method permdisp and metric jaccard\n"
     ]
    },
    {
     "name": "stdout",
     "output_type": "stream",
     "text": [
      "DONE: Calculating beta group significance: permdisp jaccard\n",
      "Calculating beta group significance with method permdisp and metric jensenshannon\n"
     ]
    },
    {
     "name": "stdout",
     "output_type": "stream",
     "text": [
      "DONE: Calculating beta group significance: permdisp jensenshannon\n",
      "Calculating beta group significance with method permdisp and metric matching\n"
     ]
    },
    {
     "name": "stdout",
     "output_type": "stream",
     "text": [
      "DONE: Calculating beta group significance: permdisp matching\n",
      "Calculating beta group significance with method permdisp and metric minkowski\n"
     ]
    },
    {
     "name": "stderr",
     "output_type": "stream",
     "text": [
      "/home/lauro/anaconda3/envs/qiime2-2022.2/lib/python3.8/site-packages/skbio/stats/ordination/_principal_coordinate_analysis.py:143: RuntimeWarning: The result contains negative eigenvalues. Please compare their magnitude with the magnitude of some of the largest positive eigenvalues. If the negative ones are smaller, it's probably safe to ignore them, but if they are large in magnitude, the results won't be useful. See the Notes section for more details. The smallest eigenvalue is -3.473646879477737e-06 and the largest is 16701500903.875242.\n",
      "  warn(\n"
     ]
    },
    {
     "name": "stderr",
     "output_type": "stream",
     "text": [
      "/home/lauro/anaconda3/envs/qiime2-2022.2/lib/python3.8/site-packages/skbio/stats/ordination/_principal_coordinate_analysis.py:143: RuntimeWarning: The result contains negative eigenvalues. Please compare their magnitude with the magnitude of some of the largest positive eigenvalues. If the negative ones are smaller, it's probably safe to ignore them, but if they are large in magnitude, the results won't be useful. See the Notes section for more details. The smallest eigenvalue is -3.473646879477737e-06 and the largest is 16701500903.875242.\n",
      "  warn(\n"
     ]
    },
    {
     "name": "stdout",
     "output_type": "stream",
     "text": [
      "DONE: Calculating beta group significance: permdisp minkowski\n",
      "Calculating beta group significance with method permdisp and metric rogerstanimoto\n"
     ]
    },
    {
     "name": "stdout",
     "output_type": "stream",
     "text": [
      "DONE: Calculating beta group significance: permdisp rogerstanimoto\n",
      "Calculating beta group significance with method permdisp and metric seuclidean\n"
     ]
    },
    {
     "name": "stdout",
     "output_type": "stream",
     "text": [
      "DONE: Calculating beta group significance: permdisp seuclidean\n",
      "Calculating beta group significance with method permdisp and metric sokalmichener\n"
     ]
    },
    {
     "name": "stdout",
     "output_type": "stream",
     "text": [
      "DONE: Calculating beta group significance: permdisp sokalmichener\n",
      "Calculating beta group significance with method permdisp and metric sokalsneath\n"
     ]
    },
    {
     "name": "stdout",
     "output_type": "stream",
     "text": [
      "DONE: Calculating beta group significance: permdisp sokalsneath\n",
      "Calculating beta group significance with method permdisp and metric sqeuclidean\n"
     ]
    },
    {
     "name": "stderr",
     "output_type": "stream",
     "text": [
      "/home/lauro/anaconda3/envs/qiime2-2022.2/lib/python3.8/site-packages/skbio/stats/ordination/_principal_coordinate_analysis.py:143: RuntimeWarning: The result contains negative eigenvalues. Please compare their magnitude with the magnitude of some of the largest positive eigenvalues. If the negative ones are smaller, it's probably safe to ignore them, but if they are large in magnitude, the results won't be useful. See the Notes section for more details. The smallest eigenvalue is -5.904813178267818e+19 and the largest is 3.421998486002289e+20.\n",
      "  warn(\n"
     ]
    },
    {
     "name": "stderr",
     "output_type": "stream",
     "text": [
      "/home/lauro/anaconda3/envs/qiime2-2022.2/lib/python3.8/site-packages/skbio/stats/ordination/_principal_coordinate_analysis.py:143: RuntimeWarning: The result contains negative eigenvalues. Please compare their magnitude with the magnitude of some of the largest positive eigenvalues. If the negative ones are smaller, it's probably safe to ignore them, but if they are large in magnitude, the results won't be useful. See the Notes section for more details. The smallest eigenvalue is -5.904813178267818e+19 and the largest is 3.421998486002289e+20.\n",
      "  warn(\n"
     ]
    },
    {
     "name": "stdout",
     "output_type": "stream",
     "text": [
      "DONE: Calculating beta group significance: permdisp sqeuclidean\n",
      "Calculating beta group significance with method permdisp and metric yule\n"
     ]
    },
    {
     "name": "stderr",
     "output_type": "stream",
     "text": [
      "/home/lauro/anaconda3/envs/qiime2-2022.2/lib/python3.8/site-packages/skbio/stats/ordination/_principal_coordinate_analysis.py:143: RuntimeWarning: The result contains negative eigenvalues. Please compare their magnitude with the magnitude of some of the largest positive eigenvalues. If the negative ones are smaller, it's probably safe to ignore them, but if they are large in magnitude, the results won't be useful. See the Notes section for more details. The smallest eigenvalue is -0.1269858263450376 and the largest is 1.0376864959969594.\n",
      "  warn(\n"
     ]
    },
    {
     "name": "stderr",
     "output_type": "stream",
     "text": [
      "/home/lauro/anaconda3/envs/qiime2-2022.2/lib/python3.8/site-packages/skbio/stats/ordination/_principal_coordinate_analysis.py:143: RuntimeWarning: The result contains negative eigenvalues. Please compare their magnitude with the magnitude of some of the largest positive eigenvalues. If the negative ones are smaller, it's probably safe to ignore them, but if they are large in magnitude, the results won't be useful. See the Notes section for more details. The smallest eigenvalue is -0.1269858263450376 and the largest is 1.0376864959969594.\n",
      "  warn(\n"
     ]
    },
    {
     "name": "stdout",
     "output_type": "stream",
     "text": [
      "DONE: Calculating beta group significance: permdisp yule\n"
     ]
    },
    {
     "data": {
      "text/plain": [
       "<Figure size 432x288 with 0 Axes>"
      ]
     },
     "metadata": {},
     "output_type": "display_data"
    }
   ],
   "source": [
    "methods = ('permanova', 'anosim', 'permdisp')\n",
    "for method in methods:\n",
    "    for metric, beta_diversity in beta_diversities.items():\n",
    "        print(f'Calculating beta group significance with method {method} and metric {metric}')\n",
    "        try:\n",
    "            beta_view = beta_group_significance(distance_matrix=beta_diversity, \n",
    "                                                metadata=metadata_qa.get_column(class_col), \n",
    "                                                pairwise=True, method=method).visualization\n",
    "            view_name = os.path.join(beta_path, f'beta-group-significance-{metric}-{method}.qzv')\n",
    "            beta_view.save(view_name)\n",
    "            print(f\"DONE: Calculating beta group significance: {method} {metric}\")\n",
    "        except Exception as e:\n",
    "            print(f\"ERROR: Calculating beta group significance: {method} {metric}\")"
   ]
  },
  {
   "cell_type": "markdown",
   "id": "c0de85cf",
   "metadata": {
    "papermill": {
     "duration": 0.057664,
     "end_time": "2023-06-07T05:50:29.298687",
     "exception": false,
     "start_time": "2023-06-07T05:50:29.241023",
     "status": "completed"
    },
    "tags": []
   },
   "source": [
    "### Beta group Rarefaction\n",
    "\n",
    "- [diversity beta_rarefaction](https://docs.qiime2.org/2022.8/plugins/available/diversity/beta-rarefaction/): Repeatedly rarefy a feature table to compare beta diversity results within a given rarefaction depth.  For a given beta diversity metric, this visualizer will provide: an Emperor jackknifed PCoA plot, samples clustered by UPGMA or neighbor joining with support calculation, and a heatmap showing the correlation between rarefaction trials of that beta diversity metric."
   ]
  }
 ],
 "metadata": {
  "celltoolbar": "Edit Metadata",
  "kernelspec": {
   "display_name": "Python 3 (ipykernel)",
   "language": "python",
   "name": "python3"
  },
  "language_info": {
   "codemirror_mode": {
    "name": "ipython",
    "version": 3
   },
   "file_extension": ".py",
   "mimetype": "text/x-python",
   "name": "python",
   "nbconvert_exporter": "python",
   "pygments_lexer": "ipython3",
   "version": "3.8.12"
  },
  "papermill": {
   "default_parameters": {},
   "duration": 11544.95156,
   "end_time": "2023-06-07T05:50:30.330769",
   "environment_variables": {},
   "exception": null,
   "input_path": "nb-templates/step-diversity-analysis.ipynb",
   "output_path": "/home/lauro/nupeb/rede-micro/redemicro-ana-flavia-nutri/experiments/ana-flavia-NCxSTD-NC-trim/nb-executed-steps/step-diversity-analysis-ana-flavia-NCxSTD-NC-trim.ipynb",
   "parameters": {
    "base_dir": "/home/lauro/nupeb/rede-micro/redemicro-ana-flavia-nutri",
    "class_col": "group-id",
    "classifier_file": "/home/lauro/nupeb/rede-micro/models/silva-138-99-nb-classifier.qza",
    "experiment_name": "ana-flavia-NCxSTD-NC-trim",
    "manifest_file": "/home/lauro/nupeb/rede-micro/redemicro-ana-flavia-nutri/data/raw/manifest/manifest-ana-flavia-NCxSTD-NC.csv",
    "metadata_file": "/home/lauro/nupeb/rede-micro/redemicro-ana-flavia-nutri/data/raw/metadata/metadata-ana-flavia-NCxSTD-NC.tsv",
    "overlap": 12,
    "phred": 20,
    "replace_files": false,
    "threads": 6,
    "top_n": 20,
    "trim": {
     "forward_primer": "CCTACGGGRSGCAGCAG",
     "overlap": 8,
     "reverse_primer": "GGACTACHVGGGTWTCTAAT"
    },
    "trunc_f": 0,
    "trunc_r": 0
   },
   "start_time": "2023-06-07T02:38:05.379209",
   "version": "2.3.4"
  }
 },
 "nbformat": 4,
 "nbformat_minor": 5
}