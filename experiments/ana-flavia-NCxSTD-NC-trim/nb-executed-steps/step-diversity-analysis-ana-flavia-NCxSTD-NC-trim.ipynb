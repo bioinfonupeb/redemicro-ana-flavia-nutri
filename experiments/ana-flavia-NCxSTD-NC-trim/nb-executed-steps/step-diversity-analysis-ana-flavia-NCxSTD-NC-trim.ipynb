{
 "cells": [
  {
   "cell_type": "markdown",
   "id": "15bcfa06",
   "metadata": {
    "papermill": {
     "duration": 0.028164,
     "end_time": "2023-10-17T19:42:12.976404",
     "exception": false,
     "start_time": "2023-10-17T19:42:12.948240",
     "status": "completed"
    },
    "tags": []
   },
   "source": [
    " \n",
    "# Alpha and Beta Diversity\n",
    "\n",
    "Different higher-level measures are often used to describe the microbiome in a sample. These do not provide information on changes in the abundance of specific taxa but allow us to access a broader change or difference in the composition of microorganisms. Alpha and beta diversity are examples of such measures.\n",
    "\n",
    "Different measures exist to estimate diversity within a single sample, jointly called alpha diversity. The different measures reflect the richness (number) or distribution (evenness) of a microbial sample or aim to reflect a combination of both properties.\n",
    "\n",
    "Rarefaction curves are often used when calculating alpha diversity indices because increasing numbers of sequenced taxa allow increasingly accurate estimates of total population diversity. Rarefaction curves can therefore be used to estimate the full sample richness, as compared to the observed sample richness.\n",
    "\n",
    "While alpha diversity is a measure of microbiome diversity applicable to a single sample, beta diversity is a measure of the similarity or dissimilarity of two communities. As for alpha diversity, many indices exist, each reflecting different aspects of community heterogeneity. Key differences relate to how the indices value variation in rare species if they consider presence/absence only or incorporate abundance, and how they interpret shared absence. Bray-Curtis dissimilarity is a popular measure that considers both size (overall abundance per sample) and shape (abundance of each taxon) of the communities (Bray, 1957). Beta diversity is an essential measure for many popular statistical methods in ecology, such as ordination-based methods, and is widely used for studying the association between environmental variables and microbial composition.\n",
    "\n",
    "In summary, alpha diversity measures can be seen as a summary statistic of a single population (within-sample diversity), while beta diversity measures are estimates of similarity or dissimilarity between populations (between samples).\n",
    "\n",
    "**Source**: (https://biomcare.com/info/key-terms-in-microbiome-projects/)"
   ]
  },
  {
   "cell_type": "markdown",
   "id": "0e7f2330",
   "metadata": {
    "ExecuteTime": {
     "end_time": "2022-09-22T19:36:33.828188Z",
     "start_time": "2022-09-22T19:36:33.817323Z"
    },
    "papermill": {
     "duration": 0.04277,
     "end_time": "2023-10-17T19:42:13.061850",
     "exception": false,
     "start_time": "2023-10-17T19:42:13.019080",
     "status": "completed"
    },
    "tags": []
   },
   "source": [
    "### STEP : Diversity Analysis\n",
    "\n",
    "Using QIIME2 to create diversity analisys graphs and calculations.\n",
    "\n",
    "- [QIIME2 Workflow Overview](https://docs.qiime2.org/2022.8/tutorials/overview/)\n",
    "\n",
    "\n",
    "#### Methods\n",
    "- [diversity](https://docs.qiime2.org/2022.8/plugins/available/diversity/)\n",
    "- [diversity alpha](https://docs.qiime2.org/2022.8/plugins/available/diversity/alpha/)\n",
    "- [diversity alpha_phylogenetic](https://docs.qiime2.org/2022.8/plugins/available/diversity/alpha-phylogenetic/)\n",
    "- [diversity beta](https://docs.qiime2.org/2022.8/plugins/available/diversity/beta/)\n",
    "- [diversity core_metrics](https://docs.qiime2.org/2022.8/plugins/available/diversity/core-metrics/)\n",
    "- [diversity alpha_group_significance](https://docs.qiime2.org/2022.8/plugins/available/diversity/alpha-group-significance/)\n",
    "- [diversity beta_group_significance](https://docs.qiime2.org/2022.8/plugins/available/diversity/beta-group-significance/)\n",
    "- [feature_table core_features](https://docs.qiime2.org/2022.8/plugins/available/feature-table/core-features/)\n",
    "- [feature_table summarize](https://docs.qiime2.org/2022.8/plugins/available/feature-table/summarize/)\n",
    "- [taxa filter-table](https://docs.qiime2.org/2022.8/plugins/available/taxa/filter-table/)\n",
    "- [taxa collapse](https://docs.qiime2.org/2022.8/plugins/available/taxa/collapse/)"
   ]
  },
  {
   "cell_type": "markdown",
   "id": "843debbf",
   "metadata": {
    "papermill": {
     "duration": 0.042483,
     "end_time": "2023-10-17T19:42:13.146795",
     "exception": false,
     "start_time": "2023-10-17T19:42:13.104312",
     "status": "completed"
    },
    "tags": []
   },
   "source": [
    "## Setup and settings"
   ]
  },
  {
   "cell_type": "code",
   "execution_count": 1,
   "id": "965e28e5",
   "metadata": {
    "ExecuteTime": {
     "end_time": "2022-11-03T20:35:26.198671Z",
     "start_time": "2022-11-03T20:35:06.473173Z"
    },
    "execution": {
     "iopub.execute_input": "2023-10-17T19:42:13.233542Z",
     "iopub.status.busy": "2023-10-17T19:42:13.232958Z",
     "iopub.status.idle": "2023-10-17T19:42:20.413107Z",
     "shell.execute_reply": "2023-10-17T19:42:20.412236Z"
    },
    "papermill": {
     "duration": 7.225818,
     "end_time": "2023-10-17T19:42:20.415174",
     "exception": false,
     "start_time": "2023-10-17T19:42:13.189356",
     "status": "completed"
    },
    "tags": []
   },
   "outputs": [],
   "source": [
    "# Importing packages\n",
    "import os\n",
    "import pandas as pd\n",
    "from qiime2 import Artifact\n",
    "from qiime2 import Visualization\n",
    "from qiime2 import Metadata\n",
    "\n",
    "from qiime2.plugins.phylogeny.pipelines import align_to_tree_mafft_fasttree\n",
    "\n",
    "from qiime2.plugins.diversity.pipelines import alpha\n",
    "from qiime2.plugins.diversity.pipelines import beta\n",
    "from qiime2.plugins.diversity.pipelines import core_metrics\n",
    "from qiime2.plugins.diversity.pipelines import alpha_phylogenetic\n",
    "\n",
    "from qiime2.plugins.diversity.visualizers import alpha_group_significance\n",
    "from qiime2.plugins.diversity.visualizers import beta_group_significance\n",
    "from qiime2.plugins.diversity.visualizers import alpha_correlation\n",
    "from qiime2.plugins.diversity.visualizers import beta_rarefaction\n",
    "\n",
    "from qiime2.plugins.taxa.methods import filter_table\n",
    "from qiime2.plugins.taxa.methods import collapse\n",
    "\n",
    "from qiime2.plugins.feature_table.visualizers import tabulate_seqs\n",
    "from qiime2.plugins.feature_table.visualizers import summarize\n",
    "from qiime2.plugins.feature_table.visualizers import core_features\n",
    "from qiime2.plugins.diversity.pipelines import core_metrics_phylogenetic\n",
    "\n",
    "from qiime2.plugins.feature_table.methods import filter_samples\n",
    "from qiime2.plugins.feature_table.methods import filter_seqs\n",
    "\n",
    "from qiime2.plugins.alignment.methods import mafft\n",
    "\n",
    "\n",
    "import matplotlib.pyplot as plt\n",
    "\n",
    "%matplotlib inline"
   ]
  },
  {
   "cell_type": "markdown",
   "id": "530ceb60",
   "metadata": {
    "papermill": {
     "duration": 0.017885,
     "end_time": "2023-10-17T19:42:20.451924",
     "exception": false,
     "start_time": "2023-10-17T19:42:20.434039",
     "status": "completed"
    },
    "tags": []
   },
   "source": [
    "### Receiving the parameters\n",
    "\n",
    "The following cell can receive parameters using the [papermill](https://papermill.readthedocs.io/en/latest/) tool."
   ]
  },
  {
   "cell_type": "code",
   "execution_count": 2,
   "id": "18d874ea",
   "metadata": {
    "ExecuteTime": {
     "end_time": "2022-09-29T20:54:14.793270Z",
     "start_time": "2022-09-29T20:54:14.789367Z"
    },
    "execution": {
     "iopub.execute_input": "2023-10-17T19:42:20.551161Z",
     "iopub.status.busy": "2023-10-17T19:42:20.550749Z",
     "iopub.status.idle": "2023-10-17T19:42:20.555358Z",
     "shell.execute_reply": "2023-10-17T19:42:20.554554Z"
    },
    "papermill": {
     "duration": 0.025547,
     "end_time": "2023-10-17T19:42:20.557034",
     "exception": false,
     "start_time": "2023-10-17T19:42:20.531487",
     "status": "completed"
    },
    "tags": [
     "parameters"
    ]
   },
   "outputs": [],
   "source": [
    "base_dir = os.path.join('/', 'home')\n",
    "metadata_file = os.path.abspath(os.path.join(base_dir, 'data', 'metadatada.tsv'))\n",
    "experiment_name = ''\n",
    "class_col = ''\n",
    "replace_files = False"
   ]
  },
  {
   "cell_type": "code",
   "execution_count": 3,
   "id": "0ef233df",
   "metadata": {
    "execution": {
     "iopub.execute_input": "2023-10-17T19:42:20.736578Z",
     "iopub.status.busy": "2023-10-17T19:42:20.736223Z",
     "iopub.status.idle": "2023-10-17T19:42:20.743298Z",
     "shell.execute_reply": "2023-10-17T19:42:20.742368Z"
    },
    "papermill": {
     "duration": 0.029342,
     "end_time": "2023-10-17T19:42:20.745219",
     "exception": false,
     "start_time": "2023-10-17T19:42:20.715877",
     "status": "completed"
    },
    "tags": [
     "injected-parameters"
    ]
   },
   "outputs": [],
   "source": [
    "# Parameters\n",
    "experiment_name = \"ana-flavia-NCxSTD-NC-trim\"\n",
    "base_dir = \"/home/lauro/nupeb/rede-micro/redemicro-ana-flavia-nutri\"\n",
    "manifest_file = \"/home/lauro/nupeb/rede-micro/redemicro-ana-flavia-nutri/data/raw/manifest/manifest-ana-flavia-NCxSTD-NC.csv\"\n",
    "metadata_file = \"/home/lauro/nupeb/rede-micro/redemicro-ana-flavia-nutri/data/raw/metadata/metadata-ana-flavia-NCxSTD-NC.tsv\"\n",
    "class_col = \"group-id\"\n",
    "classifier_file = \"/home/lauro/nupeb/rede-micro/models/silva-138-99-nb-classifier.qza\"\n",
    "top_n = 20\n",
    "replace_files = False\n",
    "phred = 20\n",
    "trunc_f = 0\n",
    "trunc_r = 0\n",
    "overlap = 12\n",
    "threads = 6\n",
    "trim = {\n",
    "    \"overlap\": 8,\n",
    "    \"forward_primer\": \"CCTACGGGRSGCAGCAG\",\n",
    "    \"reverse_primer\": \"GGACTACHVGGGTWTCTAAT\",\n",
    "}\n"
   ]
  },
  {
   "cell_type": "code",
   "execution_count": 4,
   "id": "f38617d9",
   "metadata": {
    "ExecuteTime": {
     "end_time": "2022-09-29T20:54:14.804575Z",
     "start_time": "2022-09-29T20:54:14.794927Z"
    },
    "execution": {
     "iopub.execute_input": "2023-10-17T19:42:20.785883Z",
     "iopub.status.busy": "2023-10-17T19:42:20.785507Z",
     "iopub.status.idle": "2023-10-17T19:42:20.791077Z",
     "shell.execute_reply": "2023-10-17T19:42:20.790129Z"
    },
    "papermill": {
     "duration": 0.027327,
     "end_time": "2023-10-17T19:42:20.792839",
     "exception": false,
     "start_time": "2023-10-17T19:42:20.765512",
     "status": "completed"
    },
    "tags": []
   },
   "outputs": [],
   "source": [
    "experiment_folder = os.path.abspath(os.path.join(base_dir, 'experiments', experiment_name))\n",
    "img_folder = os.path.abspath(os.path.join(experiment_folder, 'imgs'))"
   ]
  },
  {
   "cell_type": "markdown",
   "id": "ea9b90fb",
   "metadata": {
    "papermill": {
     "duration": 0.018536,
     "end_time": "2023-10-17T19:42:20.830235",
     "exception": false,
     "start_time": "2023-10-17T19:42:20.811699",
     "status": "completed"
    },
    "tags": []
   },
   "source": [
    "### Defining names, paths and flags"
   ]
  },
  {
   "cell_type": "code",
   "execution_count": 5,
   "id": "45727eef",
   "metadata": {
    "ExecuteTime": {
     "end_time": "2022-09-29T20:54:14.816686Z",
     "start_time": "2022-09-29T20:54:14.806238Z"
    },
    "execution": {
     "iopub.execute_input": "2023-10-17T19:42:20.867864Z",
     "iopub.status.busy": "2023-10-17T19:42:20.867450Z",
     "iopub.status.idle": "2023-10-17T19:42:20.878359Z",
     "shell.execute_reply": "2023-10-17T19:42:20.877430Z"
    },
    "papermill": {
     "duration": 0.031642,
     "end_time": "2023-10-17T19:42:20.880157",
     "exception": false,
     "start_time": "2023-10-17T19:42:20.848515",
     "status": "completed"
    },
    "tags": []
   },
   "outputs": [],
   "source": [
    "# QIIME2 Artifacts folder\n",
    "qiime_folder = os.path.join(experiment_folder, 'qiime-artifacts')\n",
    "\n",
    "# Input - DADA2 Artifacts\n",
    "dada2_tabs_path = os.path.join(qiime_folder, 'dada2-tabs.qza')\n",
    "dada2_reps_path = os.path.join(qiime_folder, 'dada2-reps.qza')\n",
    "dada2_stat_path = os.path.join(qiime_folder, 'dada2-stat.qza')\n",
    "\n",
    "# Input - Taxonaomic Artifacts\n",
    "taxonomy_path = os.path.join(qiime_folder, 'metatax.qza')\n",
    "\n",
    "# Create folder to store Alpha files\n",
    "alpha_path = os.path.join(qiime_folder, 'alpha-analysis')\n",
    "if not os.path.exists(alpha_path):\n",
    "    os.makedirs(alpha_path)\n",
    "    print(f'The new directory is created in {alpha_path}')\n",
    "    \n",
    "# Create folder to store Beta files\n",
    "beta_path = os.path.join(qiime_folder, 'beta-analysis')\n",
    "if not os.path.exists(beta_path):\n",
    "    os.makedirs(beta_path)\n",
    "    print(f'The new directory is created in {beta_path}')\n",
    "\n",
    "# Output -Diversity Artifacts\n",
    "alpha_diversity_path = os.path.join(alpha_path, 'alpha-diversity.qza')\n",
    "alpha_diversity_view_path = os.path.join(alpha_path, 'alpha-diversity.qzv')\n",
    "beta_diversity_path = os.path.join(beta_path, 'beta-diversity.qza')\n",
    "beta_diversity_view_path = os.path.join(beta_path, 'beta-diversity.qzv')"
   ]
  },
  {
   "cell_type": "code",
   "execution_count": 6,
   "id": "601ae263",
   "metadata": {
    "ExecuteTime": {
     "end_time": "2022-09-29T20:54:14.829117Z",
     "start_time": "2022-09-29T20:54:14.818272Z"
    },
    "execution": {
     "iopub.execute_input": "2023-10-17T19:42:20.919853Z",
     "iopub.status.busy": "2023-10-17T19:42:20.919634Z",
     "iopub.status.idle": "2023-10-17T19:42:20.926756Z",
     "shell.execute_reply": "2023-10-17T19:42:20.925994Z"
    },
    "papermill": {
     "duration": 0.027561,
     "end_time": "2023-10-17T19:42:20.928313",
     "exception": false,
     "start_time": "2023-10-17T19:42:20.900752",
     "status": "completed"
    },
    "tags": []
   },
   "outputs": [],
   "source": [
    "def filter_and_collapse(tab, seqs, tax, meta, lvl, exclude=True, exclude_list='uncultured,unidentified,metagenome'):\n",
    "    from qiime2.plugins.taxa.methods import collapse\n",
    "    from qiime2.plugins.taxa.methods import filter_table\n",
    "    from qiime2.plugins.feature_table.methods import filter_seqs\n",
    "    from qiime2.plugins.feature_table.visualizers import summarize\n",
    "    \n",
    "    to_include = ('d', 'p', 'c', 'o', 'f', 'g', 's')[lvl-1]\n",
    "    to_include += '__'\n",
    "    to_exclude = exclude_list if exclude else None\n",
    "    \n",
    "    filtered_tabs = filter_table(\n",
    "        table=tab, \n",
    "        taxonomy=tax,\n",
    "        include=to_include,\n",
    "        exclude=to_exclude,\n",
    "        mode='contains').filtered_table\n",
    "    \n",
    "    filtered_seqs = filter_seqs(\n",
    "        data = seqs,\n",
    "        table = filtered_tabs,\n",
    "    ).filtered_data\n",
    "    \n",
    "    collapsed_table = collapse(table=filtered_tabs, taxonomy=tax, level=lvl).collapsed_table\n",
    "    collapsed_table_view = summarize(table=collapsed_table, sample_metadata=meta).visualization\n",
    "    \n",
    "    return collapsed_table, collapsed_table_view, filtered_seqs"
   ]
  },
  {
   "cell_type": "markdown",
   "id": "0999a1b2",
   "metadata": {
    "papermill": {
     "duration": 0.018808,
     "end_time": "2023-10-17T19:42:20.967114",
     "exception": false,
     "start_time": "2023-10-17T19:42:20.948306",
     "status": "completed"
    },
    "tags": []
   },
   "source": [
    "## Step execution\n",
    "\n",
    "### Load input files\n",
    "\n",
    "This Step import the QIIME2 `FeatureTable[Frequency]` Artifact and the `Metadata` file."
   ]
  },
  {
   "cell_type": "code",
   "execution_count": 7,
   "id": "8f299d1a",
   "metadata": {
    "ExecuteTime": {
     "end_time": "2022-09-29T20:54:15.559837Z",
     "start_time": "2022-09-29T20:54:14.830405Z"
    },
    "execution": {
     "iopub.execute_input": "2023-10-17T19:42:21.008191Z",
     "iopub.status.busy": "2023-10-17T19:42:21.007706Z",
     "iopub.status.idle": "2023-10-17T19:42:22.388592Z",
     "shell.execute_reply": "2023-10-17T19:42:22.387634Z"
    },
    "papermill": {
     "duration": 1.403896,
     "end_time": "2023-10-17T19:42:22.390449",
     "exception": false,
     "start_time": "2023-10-17T19:42:20.986553",
     "status": "completed"
    },
    "tags": []
   },
   "outputs": [],
   "source": [
    "#Load Metadata\n",
    "metadata_qa = Metadata.load(metadata_file)\n",
    "\n",
    "#Load FeatureTable[Frequency]\n",
    "tabs = Artifact.load(dada2_tabs_path)\n",
    "tabs_df = tabs.view(Metadata).to_dataframe().T\n",
    "\n",
    "# FeatureData[Sequence]\n",
    "reps = Artifact.load(dada2_reps_path)\n",
    "\n",
    "# FeatureData[Taxonomy]\n",
    "tax = Artifact.load(taxonomy_path)"
   ]
  },
  {
   "cell_type": "code",
   "execution_count": 8,
   "id": "c8dfe530",
   "metadata": {
    "ExecuteTime": {
     "end_time": "2022-09-29T20:54:15.564968Z",
     "start_time": "2022-09-29T20:54:15.561875Z"
    },
    "execution": {
     "iopub.execute_input": "2023-10-17T19:42:22.428651Z",
     "iopub.status.busy": "2023-10-17T19:42:22.428244Z",
     "iopub.status.idle": "2023-10-17T19:42:23.535793Z",
     "shell.execute_reply": "2023-10-17T19:42:23.535095Z"
    },
    "papermill": {
     "duration": 1.129846,
     "end_time": "2023-10-17T19:42:23.538847",
     "exception": false,
     "start_time": "2023-10-17T19:42:22.409001",
     "status": "completed"
    },
    "tags": []
   },
   "outputs": [
    {
     "name": "stdout",
     "output_type": "stream",
     "text": [
      "{'min_frequency': 0, 'max_frequency': None, 'min_features': 0, 'max_features': None, 'metadata': Metadata\n",
      "--------\n",
      "11 IDs x 3 columns\n",
      "sample-name: ColumnProperties(type='categorical')\n",
      "group-id:    ColumnProperties(type='categorical')\n",
      "group-desc:  ColumnProperties(type='categorical')\n",
      "\n",
      "Call to_dataframe() for a tabular representation., 'where': None, 'exclude_ids': False, 'filter_empty_features': True, 'table': 2732 x 74 <class 'biom.table.Table'> with 12512 nonzero entries (6% dense)}\n",
      "{'min_frequency': 0, 'max_frequency': None, 'min_features': 0, 'max_features': None, 'metadata': Metadata\n",
      "--------\n",
      "11 IDs x 3 columns\n",
      "sample-name: ColumnProperties(type='categorical')\n",
      "group-id:    ColumnProperties(type='categorical')\n",
      "group-desc:  ColumnProperties(type='categorical')\n",
      "\n",
      "Call to_dataframe() for a tabular representation., 'where': None, 'exclude_ids': False, 'filter_empty_features': True, 'table': 2732 x 74 <class 'biom.table.Table'> with 12512 nonzero entries (6% dense)}\n"
     ]
    },
    {
     "name": "stdout",
     "output_type": "stream",
     "text": [
      "{'metadata': None, 'where': None, 'exclude_ids': False, 'data': c688e3b1ada46ed57f5b7e7e0d56664f    (((T)), ((G)), ((A)), ((G)), ((G)), ((A)), ((A...\n",
      "bc798de4a9acd3ff7ba51c244523be14    (((T)), ((G)), ((A)), ((G)), ((G)), ((A)), ((A...\n",
      "fca5b1ccd94b107a3ddf3e99feaafb6f    (((T)), ((G)), ((A)), ((G)), ((G)), ((A)), ((A...\n",
      "5ba9e679e692fcbf933c554317e03c5f    (((T)), ((A)), ((G)), ((G)), ((G)), ((A)), ((A...\n",
      "04581eba9e6fd12787fb5948fcef030f    (((T)), ((G)), ((A)), ((G)), ((G)), ((A)), ((A...\n",
      "                                                          ...                        \n",
      "dbc83a2f59a61f2cc57971a85718406b    (((T)), ((G)), ((G)), ((G)), ((G)), ((A)), ((A...\n",
      "4393f0be1354f7198d1969c44d34d44a    (((T)), ((G)), ((A)), ((G)), ((G)), ((A)), ((A...\n",
      "a86e1aaa4715133f8fa2c0f52e03e6d7    (((T)), ((G)), ((G)), ((G)), ((G)), ((A)), ((A...\n",
      "aa37170c6d59f9077a2644f8c25df05d    (((T)), ((G)), ((G)), ((G)), ((G)), ((A)), ((A...\n",
      "9c3f20cb7568feda60cc7776400d8d64    (((G)), ((A)), ((A)), ((A)), ((T)), ((G)), ((C...\n",
      "Length: 2732, dtype: object, 'table': 1083 x 11 <class 'biom.table.Table'> with 2301 nonzero entries (19% dense)}\n"
     ]
    },
    {
     "name": "stdout",
     "output_type": "stream",
     "text": [
      "{'metadata': None, 'where': None, 'exclude_ids': False, 'data': c688e3b1ada46ed57f5b7e7e0d56664f    (((T)), ((G)), ((A)), ((G)), ((G)), ((A)), ((A...\n",
      "bc798de4a9acd3ff7ba51c244523be14    (((T)), ((G)), ((A)), ((G)), ((G)), ((A)), ((A...\n",
      "fca5b1ccd94b107a3ddf3e99feaafb6f    (((T)), ((G)), ((A)), ((G)), ((G)), ((A)), ((A...\n",
      "5ba9e679e692fcbf933c554317e03c5f    (((T)), ((A)), ((G)), ((G)), ((G)), ((A)), ((A...\n",
      "04581eba9e6fd12787fb5948fcef030f    (((T)), ((G)), ((A)), ((G)), ((G)), ((A)), ((A...\n",
      "                                                          ...                        \n",
      "dbc83a2f59a61f2cc57971a85718406b    (((T)), ((G)), ((G)), ((G)), ((G)), ((A)), ((A...\n",
      "4393f0be1354f7198d1969c44d34d44a    (((T)), ((G)), ((A)), ((G)), ((G)), ((A)), ((A...\n",
      "a86e1aaa4715133f8fa2c0f52e03e6d7    (((T)), ((G)), ((G)), ((G)), ((G)), ((A)), ((A...\n",
      "aa37170c6d59f9077a2644f8c25df05d    (((T)), ((G)), ((G)), ((G)), ((G)), ((A)), ((A...\n",
      "9c3f20cb7568feda60cc7776400d8d64    (((G)), ((A)), ((A)), ((A)), ((T)), ((G)), ((C...\n",
      "Length: 2732, dtype: object, 'table': 1083 x 11 <class 'biom.table.Table'> with 2301 nonzero entries (19% dense)}\n"
     ]
    }
   ],
   "source": [
    "# Filter FeatureTable[Frequency | RelativeFrequency | PresenceAbsence | Composition] based on Metadata sample ID values\n",
    "tabs = filter_samples(\n",
    "    table=tabs,\n",
    "    metadata=metadata_qa,\n",
    ").filtered_table\n",
    "# Filter SampleData[SequencesWithQuality | PairedEndSequencesWithQuality | JoinedSequencesWithQuality] based on Metadata sample ID values; returns FeatureData[Sequence | AlignedSequence]\n",
    "reps = filter_seqs(\n",
    "    data=reps,\n",
    "    table=tabs,\n",
    ").filtered_data"
   ]
  },
  {
   "cell_type": "markdown",
   "id": "9f43843a",
   "metadata": {
    "ExecuteTime": {
     "end_time": "2022-09-22T22:48:07.523952Z",
     "start_time": "2022-09-22T22:48:07.517565Z"
    },
    "papermill": {
     "duration": 0.019209,
     "end_time": "2023-10-17T19:42:23.586134",
     "exception": false,
     "start_time": "2023-10-17T19:42:23.566925",
     "status": "completed"
    },
    "tags": []
   },
   "source": [
    "## Alpha diversity analysis\n",
    "\n",
    "#### Reference\n",
    "- [The Use and Types of Alpha-Diversity Metrics in Microbial NGS](https://www.cd-genomics.com/microbioseq/the-use-and-types-of-alpha-diversity-metrics-in-microbial-ngs.html)\n",
    "- [Alpha diversity metrics](http://scikit-bio.org/docs/0.2.0/generated/skbio.diversity.alpha.html)\n",
    "\n",
    "#### Methods\n",
    "- [diversity alpha](https://docs.qiime2.org/2022.8/plugins/available/diversity/alpha/): Computes a user-specified alpha diversity metric for all samples in a\n",
    "feature table.\n",
    "- [diversity alpha_phylogenetic](https://docs.qiime2.org/2022.8/plugins/available/diversity/alpha-phylogenetic/): Computes a user-specified phylogenetic alpha diversity metric for all\n",
    "samples in a feature table.\n",
    "- [diversity alpha_correlation](https://docs.qiime2.org/2022.8/plugins/available/diversity/alpha-correlation/): Determine whether numeric sample metadata columns are correlated with alpha diversity.\n",
    "- [diversity alpha_group_significance](https://docs.qiime2.org/2022.8/plugins/available/diversity/alpha-group-significance/): Visually and statistically compare groups of alpha diversity values."
   ]
  },
  {
   "cell_type": "markdown",
   "id": "606b9c75",
   "metadata": {
    "papermill": {
     "duration": 0.019216,
     "end_time": "2023-10-17T19:42:23.624632",
     "exception": false,
     "start_time": "2023-10-17T19:42:23.605416",
     "status": "completed"
    },
    "tags": []
   },
   "source": [
    "### Compute Alpha Diversity vectors\n",
    "- [diversity alpha](https://docs.qiime2.org/2022.8/plugins/available/diversity/alpha/): Computes a user-specified alpha diversity metric for all samples in a feature table.\n",
    "- [Alpha diversity metrics](http://scikit-bio.org/docs/0.2.0/generated/skbio.diversity.alpha.html)\n",
    " - Choices: ('ace', 'berger_parker_d', 'brillouin_d', 'chao1', 'chao1_ci', 'dominance', 'doubles', 'enspie', 'esty_ci', 'fisher_alpha', 'gini_index', 'goods_coverage', 'heip_e', 'kempton_taylor_q', 'lladser_pe', 'margalef', 'mcintosh_d', 'mcintosh_e', 'menhinick', 'michaelis_menten_fit', 'observed_features', 'osd', 'pielou_e', 'robbins', 'shannon', 'simpson', 'simpson_e', 'singles', 'strong')"
   ]
  },
  {
   "cell_type": "code",
   "execution_count": 9,
   "id": "556e5264",
   "metadata": {
    "ExecuteTime": {
     "end_time": "2022-09-29T20:54:20.790166Z",
     "start_time": "2022-09-29T20:54:20.451134Z"
    },
    "execution": {
     "iopub.execute_input": "2023-10-17T19:42:23.664900Z",
     "iopub.status.busy": "2023-10-17T19:42:23.664464Z",
     "iopub.status.idle": "2023-10-17T19:42:24.359809Z",
     "shell.execute_reply": "2023-10-17T19:42:24.358232Z"
    },
    "papermill": {
     "duration": 0.719613,
     "end_time": "2023-10-17T19:42:24.363405",
     "exception": false,
     "start_time": "2023-10-17T19:42:23.643792",
     "status": "completed"
    },
    "tags": []
   },
   "outputs": [
    {
     "name": "stdout",
     "output_type": "stream",
     "text": [
      "Calculating alpha diversity: chao1\n",
      "{'metric': 'chao1', 'table': <artifact: FeatureTable[Frequency] uuid: 071df4d7-51ae-4126-bab5-7fba86edb8d9>}\n",
      "{'metric': 'chao1', 'table': 1083 x 11 <class 'biom.table.Table'> with 2301 nonzero entries (19% dense)}\n",
      "{'metric': 'chao1', 'table': 1083 x 11 <class 'biom.table.Table'> with 2301 nonzero entries (19% dense)}\n",
      "DONE: Calculating alpha diversity: chao1\n",
      "Calculating alpha diversity: chao1_ci\n",
      "{'metric': 'chao1_ci', 'table': <artifact: FeatureTable[Frequency] uuid: 071df4d7-51ae-4126-bab5-7fba86edb8d9>}\n",
      "{'metric': 'chao1_ci', 'table': 1083 x 11 <class 'biom.table.Table'> with 2301 nonzero entries (19% dense)}\n",
      "{'metric': 'chao1_ci', 'table': 1083 x 11 <class 'biom.table.Table'> with 2301 nonzero entries (19% dense)}\n",
      "DONE: Calculating alpha diversity: chao1_ci\n",
      "Calculating alpha diversity: observed_features\n",
      "{'metric': 'observed_features', 'table': <artifact: FeatureTable[Frequency] uuid: 071df4d7-51ae-4126-bab5-7fba86edb8d9>}\n",
      "{'table': 1083 x 11 <class 'biom.table.Table'> with 2301 nonzero entries (19% dense)}\n",
      "{'table': 1083 x 11 <class 'biom.table.Table'> with 2301 nonzero entries (19% dense)}\n"
     ]
    },
    {
     "name": "stdout",
     "output_type": "stream",
     "text": [
      "DONE: Calculating alpha diversity: observed_features\n",
      "Calculating alpha diversity: shannon\n",
      "{'metric': 'shannon', 'table': <artifact: FeatureTable[Frequency] uuid: 071df4d7-51ae-4126-bab5-7fba86edb8d9>}\n",
      "{'drop_undefined_samples': False, 'table': 1083 x 11 <class 'biom.table.Table'> with 2301 nonzero entries (19% dense)}\n",
      "{'drop_undefined_samples': False, 'table': 1083 x 11 <class 'biom.table.Table'> with 2301 nonzero entries (19% dense)}\n",
      "DONE: Calculating alpha diversity: shannon\n",
      "Calculating alpha diversity: simpson\n",
      "{'metric': 'simpson', 'table': <artifact: FeatureTable[Frequency] uuid: 071df4d7-51ae-4126-bab5-7fba86edb8d9>}\n",
      "{'metric': 'simpson', 'table': 1083 x 11 <class 'biom.table.Table'> with 2301 nonzero entries (19% dense)}\n",
      "{'metric': 'simpson', 'table': 1083 x 11 <class 'biom.table.Table'> with 2301 nonzero entries (19% dense)}\n"
     ]
    },
    {
     "name": "stdout",
     "output_type": "stream",
     "text": [
      "DONE: Calculating alpha diversity: simpson\n",
      "Calculating alpha diversity: simpson_e\n",
      "{'metric': 'simpson_e', 'table': <artifact: FeatureTable[Frequency] uuid: 071df4d7-51ae-4126-bab5-7fba86edb8d9>}\n",
      "{'metric': 'simpson_e', 'table': 1083 x 11 <class 'biom.table.Table'> with 2301 nonzero entries (19% dense)}\n",
      "{'metric': 'simpson_e', 'table': 1083 x 11 <class 'biom.table.Table'> with 2301 nonzero entries (19% dense)}\n",
      "DONE: Calculating alpha diversity: simpson_e\n"
     ]
    }
   ],
   "source": [
    "metrics = ('ace', 'berger_parker_d', 'brillouin_d', 'chao1', 'chao1_ci', 'dominance', 'doubles', 'enspie', 'esty_ci', 'fisher_alpha', 'gini_index', 'goods_coverage', 'heip_e', 'kempton_taylor_q', 'lladser_pe', 'margalef', 'mcintosh_d', 'mcintosh_e', 'menhinick', 'michaelis_menten_fit', 'observed_features', 'osd', 'pielou_e', 'robbins', 'shannon', 'simpson', 'simpson_e', 'singles', 'strong')\n",
    "\n",
    "# Sugestão de valores para Alpha diversity\n",
    "# chao1 e observed_features (riqueza); shannon e simpson (diversidade - que levam em consideração riqueza e equitabilidade).\n",
    "metrics = ('chao1', 'chao1_ci', 'observed_features', 'shannon', 'simpson', 'simpson_e')\n",
    "alpha_diversities = dict()\n",
    "for metric in metrics:\n",
    "    print(f\"Calculating alpha diversity: {metric}\")\n",
    "    try:\n",
    "        alpha_diversity = alpha(table=tabs, metric=metric).alpha_diversity\n",
    "        alpha_diversities[metric] = alpha_diversity\n",
    "        # Save SampleData[AlphaDiversity] Artifact\n",
    "        file_path = os.path.join(alpha_path, f'alpha-values-{metric}.qza')\n",
    "        alpha_diversity.save(file_path)\n",
    "        print(f\"DONE: Calculating alpha diversity: {metric}\")\n",
    "    except Exception as e:\n",
    "        print(f\"ERROR: Calculating alpha diversity: {metric}\")\n",
    "        print(e)"
   ]
  },
  {
   "cell_type": "markdown",
   "id": "184bcb7b",
   "metadata": {
    "papermill": {
     "duration": 0.021506,
     "end_time": "2023-10-17T19:42:24.410230",
     "exception": false,
     "start_time": "2023-10-17T19:42:24.388724",
     "status": "completed"
    },
    "tags": []
   },
   "source": [
    "### Create Phylogenetic inference\n",
    "\n",
    "- [alignment align_to_tree_mafft_fasttree](https://docs.qiime2.org/2022.8/plugins/available/phylogeny/align-to-tree-mafft-fasttree/): Build a phylogenetic tree using fasttree and mafft alignment\n",
    "\n",
    "This pipeline will start by creating a sequence alignment using MAFFT,\n",
    "after which any alignment columns that are phylogenetically uninformative\n",
    "or ambiguously aligned will be removed (masked). The resulting masked\n",
    "alignment will be used to infer a phylogenetic tree and then subsequently\n",
    "rooted at its midpoint. Output files from each step of the pipeline will be\n",
    "saved. This includes both the unmasked and masked MAFFT alignment from\n",
    "q2-alignment methods, and both the rooted and unrooted phylogenies from\n",
    "q2-phylogeny methods.\n",
    "\n",
    "\n",
    "Returns\n",
    "- alignment : FeatureData[AlignedSequence] : The aligned sequences.\n",
    "- masked_alignment : FeatureData[AlignedSequence] : The masked alignment.\n",
    "- tree : Phylogeny[Unrooted] : The unrooted phylogenetic tree.\n",
    "- rooted_tree : Phylogeny[Rooted] : The rooted phylogenetic tree."
   ]
  },
  {
   "cell_type": "code",
   "execution_count": 10,
   "id": "9c8cfe47",
   "metadata": {
    "ExecuteTime": {
     "end_time": "2022-09-29T20:54:35.139531Z",
     "start_time": "2022-09-29T20:54:20.792130Z"
    },
    "execution": {
     "iopub.execute_input": "2023-10-17T19:42:24.453645Z",
     "iopub.status.busy": "2023-10-17T19:42:24.453408Z",
     "iopub.status.idle": "2023-10-17T19:42:41.522553Z",
     "shell.execute_reply": "2023-10-17T19:42:41.521835Z"
    },
    "papermill": {
     "duration": 17.093693,
     "end_time": "2023-10-17T19:42:41.525399",
     "exception": false,
     "start_time": "2023-10-17T19:42:24.431706",
     "status": "completed"
    },
    "tags": []
   },
   "outputs": [
    {
     "name": "stdout",
     "output_type": "stream",
     "text": [
      "{'n_threads': 6, 'mask_max_gap_frequency': 1.0, 'mask_min_conservation': 0.4, 'parttree': False, 'sequences': <artifact: FeatureData[Sequence] uuid: 515ab20e-1536-41f8-a027-054ad20f4753>}\n",
      "{'n_threads': 6, 'parttree': False, 'sequences': <q2_types.feature_data._format.DNAFASTAFormat object at 0x7f0382826550>}\n",
      "{'n_threads': 6, 'parttree': False, 'sequences': <q2_types.feature_data._format.DNAFASTAFormat object at 0x7f0382826550>}\n",
      "Running external command line application. This may print messages to stdout and/or stderr.\n",
      "The command being run is below. This command cannot be manually re-run as it will depend on temporary files that no longer exist.\n",
      "\n",
      "Command: mafft --preservecase --inputorder --thread 6 /tmp/qiime2-archive-you_awyk/515ab20e-1536-41f8-a027-054ad20f4753/data/dna-sequences.fasta\n",
      "\n"
     ]
    },
    {
     "name": "stderr",
     "output_type": "stream",
     "text": [
      "inputfile = orig\n",
      "1083 x 430 - 253 d\n",
      "nthread = 6\n",
      "nthreadpair = 6\n",
      "nthreadtb = 6\n",
      "ppenalty_ex = 0\n",
      "stacksize: 8192 kb\n",
      "generating a scoring matrix for nucleotide (dist=200) ... done\n",
      "Gap Penalty = -1.53, +0.00, +0.00\n",
      "\n",
      "\n",
      "\n",
      "Making a distance matrix ..\n",
      "\r",
      "    1 / 1083 (thread    0)\r",
      "  101 / 1083 (thread    1)\r",
      "  201 / 1083 (thread    1)\r",
      "  301 / 1083 (thread    1)\r",
      "  401 / 1083 (thread    2)\r",
      "  501 / 1083 (thread    4)\r",
      "  601 / 1083 (thread    4)\r",
      "  701 / 1083 (thread    1)\r",
      "  801 / 1083 (thread    1)"
     ]
    },
    {
     "name": "stderr",
     "output_type": "stream",
     "text": [
      "\r",
      "  901 / 1083 (thread    0)\r",
      " 1001 / 1083 (thread    1)\n",
      "done.\n",
      "\n",
      "Constructing a UPGMA tree (efffree=0) ... \n",
      "\r",
      "    0 / 1083\r",
      "   10 / 1083\r",
      "   20 / 1083\r",
      "   30 / 1083\r",
      "   40 / 1083\r",
      "   50 / 1083\r",
      "   60 / 1083\r",
      "   70 / 1083\r",
      "   80 / 1083\r",
      "   90 / 1083\r",
      "  100 / 1083\r",
      "  110 / 1083\r",
      "  120 / 1083\r",
      "  130 / 1083\r",
      "  140 / 1083\r",
      "  150 / 1083\r",
      "  160 / 1083\r",
      "  170 / 1083\r",
      "  180 / 1083\r",
      "  190 / 1083\r",
      "  200 / 1083\r",
      "  210 / 1083\r",
      "  220 / 1083\r",
      "  230 / 1083\r",
      "  240 / 1083\r",
      "  250 / 1083\r",
      "  260 / 1083\r",
      "  270 / 1083\r",
      "  280 / 1083\r",
      "  290 / 1083\r",
      "  300 / 1083\r",
      "  310 / 1083\r",
      "  320 / 1083\r",
      "  330 / 1083\r",
      "  340 / 1083\r",
      "  350 / 1083\r",
      "  360 / 1083\r",
      "  370 / 1083\r",
      "  380 / 1083\r",
      "  390 / 1083\r",
      "  400 / 1083\r",
      "  410 / 1083\r",
      "  420 / 1083\r",
      "  430 / 1083\r",
      "  440 / 1083\r",
      "  450 / 1083\r",
      "  460 / 1083\r",
      "  470 / 1083\r",
      "  480 / 1083\r",
      "  490 / 1083\r",
      "  500 / 1083\r",
      "  510 / 1083\r",
      "  520 / 1083\r",
      "  530 / 1083\r",
      "  540 / 1083\r",
      "  550 / 1083\r",
      "  560 / 1083\r",
      "  570 / 1083\r",
      "  580 / 1083\r",
      "  590 / 1083\r",
      "  600 / 1083\r",
      "  610 / 1083\r",
      "  620 / 1083\r",
      "  630 / 1083\r",
      "  640 / 1083\r",
      "  650 / 1083\r",
      "  660 / 1083\r",
      "  670 / 1083\r",
      "  680 / 1083\r",
      "  690 / 1083\r",
      "  700 / 1083\r",
      "  710 / 1083\r",
      "  720 / 1083\r",
      "  730 / 1083\r",
      "  740 / 1083\r",
      "  750 / 1083\r",
      "  760 / 1083\r",
      "  770 / 1083\r",
      "  780 / 1083\r",
      "  790 / 1083\r",
      "  800 / 1083\r",
      "  810 / 1083\r",
      "  820 / 1083\r",
      "  830 / 1083\r",
      "  840 / 1083\r",
      "  850 / 1083\r",
      "  860 / 1083\r",
      "  870 / 1083\r",
      "  880 / 1083\r",
      "  890 / 1083\r",
      "  900 / 1083\r",
      "  910 / 1083\r",
      "  920 / 1083\r",
      "  930 / 1083\r",
      "  940 / 1083\r",
      "  950 / 1083\r",
      "  960 / 1083\r",
      "  970 / 1083\r",
      "  980 / 1083\r",
      "  990 / 1083\r",
      " 1000 / 1083\r",
      " 1010 / 1083\r",
      " 1020 / 1083\r",
      " 1030 / 1083\r",
      " 1040 / 1083\r",
      " 1050 / 1083\r",
      " 1060 / 1083\r",
      " 1070 / 1083\r",
      " 1080 / 1083\n",
      "done.\n",
      "\n",
      "Progressive alignment 1/2... \n",
      "\r",
      "STEP     1 / 1082 (thread    0) f\b\b\r",
      "STEP     2 / 1082 (thread    1) f\b\b\r",
      "STEP     3 / 1082 (thread    2) f\b\b\r",
      "STEP     4 / 1082 (thread    3) f\b\b\r",
      "STEP     5 / 1082 (thread    4) f\b\b\r",
      "STEP     6 / 1082 (thread    5) f\b\b\r",
      "STEP     7 / 1082 (thread    4) f\b\b\r",
      "STEP     8 / 1082 (thread    5) f\b\b\r",
      "STEP     9 / 1082 (thread    3) f\b\b\r",
      "STEP    10 / 1082 (thread    0) f\b\b\r",
      "STEP    11 / 1082 (thread    2) f\b\b\r",
      "STEP    12 / 1082 (thread    3) f\b\b\r",
      "STEP    13 / 1082 (thread    4) f\b\b\r",
      "STEP    14 / 1082 (thread    5) f\b\b\r",
      "STEP    15 / 1082 (thread    0) f\b\b\r",
      "STEP    16 / 1082 (thread    3) f\b\b\r",
      "STEP    17 / 1082 (thread    1) f\b\b\r",
      "STEP    18 / 1082 (thread    5) f\b\b\r",
      "STEP    19 / 1082 (thread    4) f\b\b\r",
      "STEP    20 / 1082 (thread    3) f\b\b\r",
      "STEP    21 / 1082 (thread    2) f\b\b\r",
      "STEP    22 / 1082 (thread    0) f\b\b\r",
      "STEP    23 / 1082 (thread    1) f\b\b\r",
      "STEP    24 / 1082 (thread    4) f\b\b\r",
      "STEP    25 / 1082 (thread    3) f\b\b\r",
      "STEP    26 / 1082 (thread    5) f\b\b\r",
      "STEP    27 / 1082 (thread    2) f\b\b\r",
      "STEP    28 / 1082 (thread    0) f\b\b\r",
      "STEP    29 / 1082 (thread    4) f\b\b\r",
      "STEP    30 / 1082 (thread    1) f\b\b\r",
      "STEP    31 / 1082 (thread    3) f\b\b\r",
      "STEP    32 / 1082 (thread    5) f\b\b\r",
      "STEP    33 / 1082 (thread    4) f\b\b\r",
      "STEP    34 / 1082 (thread    2) f\b\b\r",
      "STEP    35 / 1082 (thread    0) f\b\b\r",
      "STEP    36 / 1082 (thread    3) f\b\b\r",
      "STEP    37 / 1082 (thread    1) f\b\b\r",
      "STEP    38 / 1082 (thread    4) f\b\b\r",
      "STEP    39 / 1082 (thread    5) f\b\b\r",
      "STEP    40 / 1082 (thread    2) f\b\b\r",
      "STEP    41 / 1082 (thread    0) f\b\b\r",
      "STEP    42 / 1082 (thread    3) f\b\b\r",
      "STEP    43 / 1082 (thread    4) f\b\b\r",
      "STEP    44 / 1082 (thread    1) f\b\b\r",
      "STEP    45 / 1082 (thread    5) f\b\b\r",
      "STEP    46 / 1082 (thread    2) f\b\b\r",
      "STEP    47 / 1082 (thread    4) f\b\b\r",
      "STEP    48 / 1082 (thread    0) f\b\b\r",
      "STEP    49 / 1082 (thread    1) f\b\b\r",
      "STEP    50 / 1082 (thread    3) f\b\b\r",
      "STEP    51 / 1082 (thread    4) f\b\b\r",
      "STEP    52 / 1082 (thread    2) f\b\b\r",
      "STEP    53 / 1082 (thread    5) f\b\b\r",
      "STEP    54 / 1082 (thread    0) f\b\b\r",
      "STEP    55 / 1082 (thread    1) f\b\b\r",
      "STEP    56 / 1082 (thread    3) f\b\b\r",
      "STEP    57 / 1082 (thread    4) f\b\b\r",
      "STEP    58 / 1082 (thread    2) f\b\b\r",
      "STEP    59 / 1082 (thread    3) f\b\b\r",
      "STEP    60 / 1082 (thread    5) f\b\b\r",
      "STEP    61 / 1082 (thread    0) f\b\b\r",
      "STEP    62 / 1082 (thread    1) f\b\b\r",
      "STEP    63 / 1082 (thread    4) f\b\b\r",
      "STEP    64 / 1082 (thread    3) f\b\b\r",
      "STEP    65 / 1082 (thread    2) f\b\b\r",
      "STEP    66 / 1082 (thread    3) f\b\b\r",
      "STEP    67 / 1082 (thread    4) f\b\b\r",
      "STEP    68 / 1082 (thread    0) f\b\b\r",
      "STEP    69 / 1082 (thread    3) f\b\b\r",
      "STEP    70 / 1082 (thread    1) f\b\b\r",
      "STEP    71 / 1082 (thread    2) f\b\b\r",
      "STEP    72 / 1082 (thread    5) f\b\b\r",
      "STEP    73 / 1082 (thread    4) f\b\b\r",
      "STEP    74 / 1082 (thread    3) f\b\b\r",
      "STEP    75 / 1082 (thread    0) f\b\b\r",
      "STEP    76 / 1082 (thread    3) f\b\b\r",
      "STEP    77 / 1082 (thread    1) f\b\b\r",
      "STEP    79 / 1082 (thread    4) f\b\b\r",
      "STEP    78 / 1082 (thread    5) f\b\b\r",
      "STEP    80 / 1082 (thread    2) f\b\b\r",
      "STEP    81 / 1082 (thread    0) f\b\b\r",
      "STEP    82 / 1082 (thread    3) f\b\b\r",
      "STEP    83 / 1082 (thread    3) f\b\b\r",
      "STEP    84 / 1082 (thread    4) f\b\b\r",
      "STEP    85 / 1082 (thread    0) f\b\b\r",
      "STEP    86 / 1082 (thread    1) f\b\b\r",
      "STEP    87 / 1082 (thread    2) f\b\b\r",
      "STEP    88 / 1082 (thread    3) f\b\b\r",
      "STEP    89 / 1082 (thread    4) f\b\b\r",
      "STEP    90 / 1082 (thread    5) f\b\b\r",
      "STEP    91 / 1082 (thread    0) f\b\b\r",
      "STEP    92 / 1082 (thread    1) f\b\b\r",
      "STEP    93 / 1082 (thread    2) f\b\b\r",
      "STEP    94 / 1082 (thread    3) f\b\b\r",
      "STEP    95 / 1082 (thread    4) f\b\b\r",
      "STEP    96 / 1082 (thread    3) f\b\b\r",
      "STEP    97 / 1082 (thread    5) f\b\b\r",
      "STEP    98 / 1082 (thread    0) f\b\b\r",
      "STEP    99 / 1082 (thread    4) f\b\b\r",
      "STEP   100 / 1082 (thread    1) f\b\b\r",
      "STEP   101 / 1082 (thread    2) f\b\b\r",
      "STEP   102 / 1082 (thread    3) f\b\b\r",
      "STEP   103 / 1082 (thread    4) f\b\b\r",
      "STEP   104 / 1082 (thread    5) f\b\b\r",
      "STEP   105 / 1082 (thread    0) f\b\b\r",
      "STEP   106 / 1082 (thread    1) f\b\b\r",
      "STEP   107 / 1082 (thread    2) f\b\b\r",
      "STEP   108 / 1082 (thread    3) f\b\b\r",
      "STEP   109 / 1082 (thread    4) f\b\b\r",
      "STEP   110 / 1082 (thread    5) f\b\b\r",
      "STEP   111 / 1082 (thread    0) f\b\b\r",
      "STEP   112 / 1082 (thread    3) f\b\b\r",
      "STEP   113 / 1082 (thread    4) f\b\b\r",
      "STEP   114 / 1082 (thread    3) f\b\b\r",
      "STEP   115 / 1082 (thread    1) f\b\b\r",
      "STEP   116 / 1082 (thread    2) f\b\b\r",
      "STEP   117 / 1082 (thread    5) f\b\b\r",
      "STEP   118 / 1082 (thread    0) f\b\b\r",
      "STEP   120 / 1082 (thread    3) f\b\b\r",
      "STEP   121 / 1082 (thread    1) f\b\b\r",
      "STEP   122 / 1082 (thread    5) f\b\b\r",
      "STEP   123 / 1082 (thread    2) f\b\b\r",
      "STEP   119 / 1082 (thread    4) f\b\b\r",
      "STEP   125 / 1082 (thread    3) f\b\b\r",
      "STEP   126 / 1082 (thread    3) f\b\b\r",
      "STEP   127 / 1082 (thread    4) f\b\b\r",
      "STEP   124 / 1082 (thread    0) f\b\b\r",
      "STEP   129 / 1082 (thread    4) f\b\b\r",
      "STEP   130 / 1082 (thread    1) f\b\b\r",
      "STEP   131 / 1082 (thread    2) f\b\b\r",
      "STEP   128 / 1082 (thread    3) f\b\b\r",
      "STEP   132 / 1082 (thread    5) f\b\b\r",
      "STEP   133 / 1082 (thread    1) f\b\b\r",
      "STEP   134 / 1082 (thread    2) f\b\b\r",
      "STEP   135 / 1082 (thread    5) f\b\b\r",
      "STEP   136 / 1082 (thread    3) f\b\b\r",
      "STEP   137 / 1082 (thread    0) f\b\b\r",
      "STEP   138 / 1082 (thread    4) f\b\b\r",
      "STEP   140 / 1082 (thread    4) f\b\b\r",
      "STEP   141 / 1082 (thread    1) f\b\b\r",
      "STEP   139 / 1082 (thread    3) f\b\b\r",
      "STEP   143 / 1082 (thread    2) f\b\b\r",
      "STEP   144 / 1082 (thread    0) f\b\b\r",
      "STEP   145 / 1082 (thread    4) f\b\b\r",
      "STEP   142 / 1082 (thread    5) f\b\b\r",
      "STEP   146 / 1082 (thread    0) f\b\b\r",
      "STEP   147 / 1082 (thread    1) f\b\b\r",
      "STEP   148 / 1082 (thread    2) f\b\b\r",
      "STEP   149 / 1082 (thread    3) f\b\b\r",
      "STEP   150 / 1082 (thread    4) f\b\b\r",
      "STEP   151 / 1082 (thread    3) f\b\b\r",
      "STEP   152 / 1082 (thread    1) f\b\b\r",
      "STEP   153 / 1082 (thread    0) f\b\b\r",
      "STEP   154 / 1082 (thread    4) f\b\b\r",
      "STEP   155 / 1082 (thread    5) f\b\b\r",
      "STEP   156 / 1082 (thread    4) f\b\b\r",
      "STEP   157 / 1082 (thread    3) f\b\b\r",
      "STEP   158 / 1082 (thread    5) f\b\b\r",
      "STEP   159 / 1082 (thread    4) f\b\b\r",
      "STEP   160 / 1082 (thread    2) f\b\b\r",
      "STEP   161 / 1082 (thread    3) f\b\b\r",
      "STEP   162 / 1082 (thread    5) f\b\b\r",
      "STEP   163 / 1082 (thread    4) f\b\b\r",
      "STEP   164 / 1082 (thread    1) f\b\b\r",
      "STEP   165 / 1082 (thread    0) f\b\b\r",
      "STEP   166 / 1082 (thread    4) f\b\b\r",
      "STEP   167 / 1082 (thread    3) f\b\b\r",
      "STEP   168 / 1082 (thread    5) f\b\b\r",
      "STEP   169 / 1082 (thread    0) f\b\b\r",
      "STEP   170 / 1082 (thread    1) f\b\b\r",
      "STEP   171 / 1082 (thread    2) f\b\b\r",
      "STEP   172 / 1082 (thread    4) f\b\b\r",
      "STEP   173 / 1082 (thread    3) f\b\b\r",
      "STEP   174 / 1082 (thread    4) f\b\b\r",
      "STEP   175 / 1082 (thread    3) f\b\b\r",
      "STEP   176 / 1082 (thread    0) f\b\b\r",
      "STEP   177 / 1082 (thread    2) f\b\b\r",
      "STEP   178 / 1082 (thread    1) f\b\b\r",
      "STEP   179 / 1082 (thread    4) f\b\b\r",
      "STEP   180 / 1082 (thread    3) f\b\b\r",
      "STEP   181 / 1082 (thread    5) f\b\b\r",
      "STEP   182 / 1082 (thread    3) f\b\b\r",
      "STEP   183 / 1082 (thread    3) f\b\b\r",
      "STEP   184 / 1082 (thread    4) f\b\b\r",
      "STEP   185 / 1082 (thread    5) f\b\b\r",
      "STEP   186 / 1082 (thread    0) f\b\b\r",
      "STEP   187 / 1082 (thread    2) f\b\b\r",
      "STEP   188 / 1082 (thread    1) f\b\b\r",
      "STEP   189 / 1082 (thread    3) f\b\b\r",
      "STEP   190 / 1082 (thread    4) f\b\b\r",
      "STEP   191 / 1082 (thread    5) f\b\b\r",
      "STEP   192 / 1082 (thread    3) f\b\b\r",
      "STEP   193 / 1082 (thread    0) f\b\b\r",
      "STEP   194 / 1082 (thread    2) f\b\b\r",
      "STEP   195 / 1082 (thread    4) f\b\b\r",
      "STEP   196 / 1082 (thread    3) f\b\b\r",
      "STEP   197 / 1082 (thread    4) f\b\b\r",
      "STEP   198 / 1082 (thread    0) f\b\b\r",
      "STEP   199 / 1082 (thread    2) f\b\b\r",
      "STEP   200 / 1082 (thread    3) f\b\b\r",
      "STEP   201 / 1082 (thread    1) f\b\b\r",
      "STEP   202 / 1082 (thread    5) f\b\b\r",
      "STEP   203 / 1082 (thread    4) f\b\b\r",
      "STEP   204 / 1082 (thread    3) f\b\b\r",
      "STEP   205 / 1082 (thread    0) f\b\b\r",
      "STEP   206 / 1082 (thread    2) f\b\b\r",
      "STEP   207 / 1082 (thread    1) f\b\b\r",
      "STEP   208 / 1082 (thread    4) f\b\b\r",
      "STEP   210 / 1082 (thread    5) f\b\b\r",
      "STEP   211 / 1082 (thread    2) f\b\b\r",
      "STEP   209 / 1082 (thread    3) f\b\b\r",
      "STEP   212 / 1082 (thread    0) f\b\b\r",
      "STEP   213 / 1082 (thread    4) f\b\b\r",
      "STEP   214 / 1082 (thread    1) f\b\b\r",
      "STEP   215 / 1082 (thread    3) f\b\b\r",
      "STEP   216 / 1082 (thread    4) f\b\b\r",
      "STEP   217 / 1082 (thread    5) f\b\b\r",
      "STEP   218 / 1082 (thread    2) f\b\b\r",
      "STEP   219 / 1082 (thread    3) f\b\b\r",
      "STEP   220 / 1082 (thread    4) f\b\b\r",
      "STEP   221 / 1082 (thread    0) f\b\b\r",
      "STEP   222 / 1082 (thread    1)\r",
      "STEP   223 / 1082 (thread    3) f\b\b f\b\b\r",
      "STEP   224 / 1082 (thread    4) f\b\b\r",
      "STEP   225 / 1082 (thread    3) f\b\b\r",
      "STEP   226 / 1082 (thread    0) f\b\b\r",
      "STEP   227 / 1082 (thread    5) f\b\b\r",
      "STEP   228 / 1082 (thread    4) f\b\b\r",
      "STEP   229 / 1082 (thread    1) f\b\b\r",
      "STEP   230 / 1082 (thread    2) f\b\b\r",
      "STEP   231 / 1082 (thread    4) f\b\b\r",
      "STEP   232 / 1082 (thread    3) f\b\b\r",
      "STEP   233 / 1082 (thread    0) f\b\b\r",
      "STEP   234 / 1082 (thread    4) f\b\b\r",
      "STEP   235 / 1082 (thread    3) f\b\b\r",
      "STEP   236 / 1082 (thread    2) f\b\b\r",
      "STEP   237 / 1082 (thread    1) f\b\b\r",
      "STEP   238 / 1082 (thread    3) f\b\b\r",
      "STEP   239 / 1082 (thread    5) f\b\b\r",
      "STEP   240 / 1082 (thread    3) f\b\b\r",
      "STEP   241 / 1082 (thread    1) f\b\b\r",
      "STEP   242 / 1082 (thread    4) f\b\b\r",
      "STEP   243 / 1082 (thread    0) f\b\b\r",
      "STEP   244 / 1082 (thread    5) f\b\b\r",
      "STEP   245 / 1082 (thread    2) f\b\b\r",
      "STEP   246 / 1082 (thread    3) f\b\b\r",
      "STEP   247 / 1082 (thread    5) f\b\b\r",
      "STEP   248 / 1082 (thread    4) f\b\b\r",
      "STEP   249 / 1082 (thread    3) f\b\b\r",
      "STEP   250 / 1082 (thread    2) f\b\b\r",
      "STEP   251 / 1082 (thread    1) f\b\b\r",
      "STEP   252 / 1082 (thread    4) f\b\b\r",
      "STEP   253 / 1082 (thread    0) f\b\b\r",
      "STEP   254 / 1082 (thread    3) f\b\b\r",
      "STEP   255 / 1082 (thread    5) f\b\b\r",
      "STEP   256 / 1082 (thread    4) f\b\b\r",
      "STEP   257 / 1082 (thread    2) f\b\b\r",
      "STEP   258 / 1082 (thread    0) f\b\b\r",
      "STEP   259 / 1082 (thread    3) f\b\b\r",
      "STEP   260 / 1082 (thread    2) f\b\b\r",
      "STEP   261 / 1082 (thread    1) f\b\b\r",
      "STEP   262 / 1082 (thread    4) f\b\b\r",
      "STEP   263 / 1082 (thread    3) f\b\b\r",
      "STEP   264 / 1082 (thread    0) f\b\b\r",
      "STEP   265 / 1082 (thread    4) f\b\b\r",
      "STEP   266 / 1082 (thread    5) f\b\b\r",
      "STEP   267 / 1082 (thread    4) f\b\b\r",
      "STEP   268 / 1082 (thread    2) f\b\b\r",
      "STEP   269 / 1082 (thread    3) f\b\b\r",
      "STEP   270 / 1082 (thread    4) f\b\b\r",
      "STEP   271 / 1082 (thread    1) f\b\b\r",
      "STEP   272 / 1082 (thread    4) f\b\b\r",
      "STEP   273 / 1082 (thread    0) f\b\b\r",
      "STEP   274 / 1082 (thread    5) f\b\b\r",
      "STEP   275 / 1082 (thread    3) f\b\b\r",
      "STEP   276 / 1082 (thread    2) f\b\b\r",
      "STEP   277 / 1082 (thread    4) f\b\b\r",
      "STEP   278 / 1082 (thread    1) f\b\b\r",
      "STEP   279 / 1082 (thread    3) f\b\b\r",
      "STEP   280 / 1082 (thread    0) f\b\b\r",
      "STEP   281 / 1082 (thread    3) f\b\b\r",
      "STEP   282 / 1082 (thread    1) f\b\b\r",
      "STEP   283 / 1082 (thread    4) f\b\b\r",
      "STEP   284 / 1082 (thread    5) f\b\b\r",
      "STEP   285 / 1082 (thread    3) f\b\b\r",
      "STEP   286 / 1082 (thread    0) f\b\b\r",
      "STEP   287 / 1082 (thread    4) f\b\b\r",
      "STEP   288 / 1082 (thread    2) f\b\b\r",
      "STEP   289 / 1082 (thread    1) f\b\b\r",
      "STEP   290 / 1082 (thread    5) f\b\b\r",
      "STEP   291 / 1082 (thread    3) f\b\b\r",
      "STEP   292 / 1082 (thread    4) f\b\b\r",
      "STEP   293 / 1082 (thread    3) f\b\b\r",
      "STEP   294 / 1082 (thread    0) f\b\b\r",
      "STEP   295 / 1082 (thread    4) f\b\b\r",
      "STEP   296 / 1082 (thread    1) f\b\b\r",
      "STEP   297 / 1082 (thread    5) f\b\b\r",
      "STEP   298 / 1082 (thread    2) f\b\b\r",
      "STEP   299 / 1082 (thread    3) f\b\b\r",
      "STEP   300 / 1082 (thread    4) f\b\b\r",
      "STEP   302 / 1082 (thread    3) f\b\b\r",
      "STEP   303 / 1082 (thread    1) f\b\b\r",
      "STEP   304 / 1082 (thread    4) f\b\b\r",
      "STEP   305 / 1082 (thread    3) f\b\b\r",
      "STEP   301 / 1082 (thread    2) f\b\b\r",
      "STEP   306 / 1082 (thread    0) f\b\b\r",
      "STEP   307 / 1082 (thread    5) f\b\b\r",
      "STEP   308 / 1082 (thread    4) f\b\b\r",
      "STEP   310 / 1082 (thread    1) f\b\b\r",
      "STEP   311 / 1082 (thread    4) f\b\b\r",
      "STEP   312 / 1082 (thread    0) f\b\b\r",
      "STEP   313 / 1082 (thread    4) f\b\b\r",
      "STEP   314 / 1082 (thread    5) f\b\b\r",
      "STEP   315 / 1082 (thread    2) f\b\b\r",
      "STEP   309 / 1082 (thread    3) f\b\b\r",
      "STEP   316 / 1082 (thread    0) f\b\b\r",
      "STEP   317 / 1082 (thread    4) f\b\b\r",
      "STEP   318 / 1082 (thread    1) f\b\b\r",
      "STEP   319 / 1082 (thread    3) f\b\b\r",
      "STEP   320 / 1082 (thread    4) f\b\b\r",
      "STEP   321 / 1082 (thread    5) f\b\b\r",
      "STEP   322 / 1082 (thread    0) f\b\b\r",
      "STEP   323 / 1082 (thread    3) f\b\b\r",
      "STEP   324 / 1082 (thread    2) f\b\b\r",
      "STEP   325 / 1082 (thread    4) f\b\b\r",
      "STEP   326 / 1082 (thread    5) f\b\b\r",
      "STEP   327 / 1082 (thread    1) f\b\b\r",
      "STEP   328 / 1082 (thread    0) f\b\b\r",
      "STEP   329 / 1082 (thread    2) f\b\b\r",
      "STEP   330 / 1082 (thread    3) f\b\b\r",
      "STEP   331 / 1082 (thread    4) f\b\b\r",
      "STEP   332 / 1082 (thread    1) f\b\b\r",
      "STEP   333 / 1082 (thread    5) f\b\b\r",
      "STEP   334 / 1082 (thread    3) f\b\b\r",
      "STEP   335 / 1082 (thread    4) f\b\b\r",
      "STEP   336 / 1082 (thread    2) f\b\b\r",
      "STEP   337 / 1082 (thread    1) f\b\b\r",
      "STEP   338 / 1082 (thread    0) f\b\b\r",
      "STEP   339 / 1082 (thread    4) f\b\b\r",
      "STEP   340 / 1082 (thread    3) f\b\b\r",
      "STEP   341 / 1082 (thread    5) f\b\b\r",
      "STEP   342 / 1082 (thread    4) f\b\b\r",
      "STEP   343 / 1082 (thread    3) f\b\b\r",
      "STEP   344 / 1082 (thread    2) f\b\b\r",
      "STEP   345 / 1082 (thread    1) f\b\b\r",
      "STEP   346 / 1082 (thread    5) f\b\b\r",
      "STEP   347 / 1082 (thread    0) f\b\b\r",
      "STEP   348 / 1082 (thread    4) f\b\b\r",
      "STEP   349 / 1082 (thread    3) f\b\b\r",
      "STEP   351 / 1082 (thread    3) f\b\b\r",
      "STEP   350 / 1082 (thread    1) f\b\b\r",
      "STEP   352 / 1082 (thread    4) f\b\b\r",
      "STEP   353 / 1082 (thread    2) f\b\b\r",
      "STEP   354 / 1082 (thread    3) f\b\b\r",
      "STEP   355 / 1082 (thread    0) f\b\b\r",
      "STEP   356 / 1082 (thread    5) f\b\b\r",
      "STEP   357 / 1082 (thread    1) f\b\b\r",
      "STEP   358 / 1082 (thread    4) f\b\b\r",
      "STEP   359 / 1082 (thread    3) f\b\b\r",
      "STEP   360 / 1082 (thread    1) f\b\b\r",
      "STEP   361 / 1082 (thread    5) f\b\b\r",
      "STEP   362 / 1082 (thread    0) f\b\b\r",
      "STEP   363 / 1082 (thread    2) f\b\b\r",
      "STEP   364 / 1082 (thread    4) f\b\b\r",
      "STEP   365 / 1082 (thread    3) f\b\b\r",
      "STEP   366 / 1082 (thread    1) f\b\b\r",
      "STEP   367 / 1082 (thread    5) f\b\b\r",
      "STEP   368 / 1082 (thread    4) f\b\b\r",
      "STEP   369 / 1082 (thread    0) f\b\b\r",
      "STEP   370 / 1082 (thread    3) f\b\b\r",
      "STEP   371 / 1082 (thread    2) f\b\b\r",
      "STEP   372 / 1082 (thread    1) f\b\b\r",
      "STEP   373 / 1082 (thread    4) f\b\b\r",
      "STEP   375 / 1082 (thread    5) f\b\b\r",
      "STEP   374 / 1082 (thread    2) f\b\b\r",
      "STEP   376 / 1082 (thread    3) f\b\b\r",
      "STEP   377 / 1082 (thread    0) f\b\b\r",
      "STEP   378 / 1082 (thread    1) f\b\b\r",
      "STEP   379 / 1082 (thread    4) f\b\b\r",
      "STEP   380 / 1082 (thread    3) f\b\b\r",
      "STEP   381 / 1082 (thread    5) f\b\b\r",
      "STEP   383 / 1082 (thread    3) f\b\b\r",
      "STEP   384 / 1082 (thread    0) f\b\b\r",
      "STEP   386 / 1082 (thread    5) f\b\b\r",
      "STEP   382 / 1082 (thread    2) f\b\b\r",
      "STEP   387 / 1082 (thread    4) f\b\b\r",
      "STEP   388 / 1082 (thread    3) f\b\b\r",
      "STEP   385 / 1082 (thread    1) f\b\b\r",
      "STEP   389 / 1082 (thread    5) f\b\b\r",
      "STEP   390 / 1082 (thread    2) f\b\b\r",
      "STEP   391 / 1082 (thread    4) f\b\b\r",
      "STEP   392 / 1082 (thread    3) f\b\b\r",
      "STEP   393 / 1082 (thread    0) f\b\b\r",
      "STEP   394 / 1082 (thread    5) f\b\b\r",
      "STEP   395 / 1082 (thread    4) f\b\b\r",
      "STEP   396 / 1082 (thread    1) f\b\b\r",
      "STEP   397 / 1082 (thread    3) f\b\b\r",
      "STEP   398 / 1082 (thread    2) f\b\b\r",
      "STEP   399 / 1082 (thread    4) f\b\b\r",
      "STEP   400 / 1082 (thread    0) f\b\b\r",
      "STEP   401 / 1082 (thread    3) f\b\b\r",
      "STEP   402 / 1082 (thread    4) f\b\b\r",
      "STEP   403 / 1082 (thread    1) f\b\b\r",
      "STEP   404 / 1082 (thread    3) f\b\b\r",
      "STEP   405 / 1082 (thread    5) f\b\b\r",
      "STEP   406 / 1082 (thread    2) f\b\b\r",
      "STEP   407 / 1082 (thread    4) f\b\b\r",
      "STEP   408 / 1082 (thread    3) f\b\b\r",
      "STEP   409 / 1082 (thread    0) f\b\b\r",
      "STEP   410 / 1082 (thread    1) f\b\b\r",
      "STEP   411 / 1082 (thread    5) f\b\b\r",
      "STEP   412 / 1082 (thread    4) f\b\b\r",
      "STEP   413 / 1082 (thread    3) f\b\b\r",
      "STEP   414 / 1082 (thread    1) f\b\b\r",
      "STEP   415 / 1082 (thread    5) f\b\b\r",
      "STEP   416 / 1082 (thread    3) f\b\b\r",
      "STEP   417 / 1082 (thread    4) f\b\b\r",
      "STEP   418 / 1082 (thread    1) f\b\b\r",
      "STEP   419 / 1082 (thread    2) f\b\b\r",
      "STEP   420 / 1082 (thread    4) f\b\b\r",
      "STEP   421 / 1082 (thread    3) f\b\b\r",
      "STEP   422 / 1082 (thread    0) f\b\b\r",
      "STEP   424 / 1082 (thread    5) f\b\b\r",
      "STEP   423 / 1082 (thread    4) f\b\b\r",
      "STEP   425 / 1082 (thread    1) f\b\b\r",
      "STEP   426 / 1082 (thread    5) f\b\b\r",
      "STEP   427 / 1082 (thread    3) f\b\b\r",
      "STEP   428 / 1082 (thread    2) f\b\b\r",
      "STEP   429 / 1082 (thread    4) f\b\b\r",
      "STEP   430 / 1082 (thread    3) f\b\b\r",
      "STEP   431 / 1082 (thread    0) f\b\b\r",
      "STEP   432 / 1082 (thread    1) f\b\b\r",
      "STEP   433 / 1082 (thread    5) f\b\b\r",
      "STEP   434 / 1082 (thread    4) f\b\b\r",
      "STEP   435 / 1082 (thread    3) f\b\b\r",
      "STEP   436 / 1082 (thread    2) f\b\b\r",
      "STEP   437 / 1082 (thread    1) f\b\b\r",
      "STEP   438 / 1082 (thread    5)\r",
      "STEP   439 / 1082 (thread    3) f\b\b f\b\b\r",
      "STEP   440 / 1082 (thread    0) f\b\b\r",
      "STEP   441 / 1082 (thread    4) f\b\b\r",
      "STEP   442 / 1082 (thread    2) f\b\b\r",
      "STEP   443 / 1082 (thread    3) f\b\b\r",
      "STEP   444 / 1082 (thread    1) f\b\b\r",
      "STEP   445 / 1082 (thread    4) f\b\b\r",
      "STEP   446 / 1082 (thread    5) f\b\b\r",
      "STEP   447 / 1082 (thread    3) f\b\b\r",
      "STEP   448 / 1082 (thread    0) f\b\b\r",
      "STEP   449 / 1082 (thread    5) f\b\b\r",
      "STEP   450 / 1082 (thread    3) f\b\b\r",
      "STEP   451 / 1082 (thread    2) f\b\b\r",
      "STEP   452 / 1082 (thread    4) f\b\b\r",
      "STEP   453 / 1082 (thread    0) f\b\b\r",
      "STEP   454 / 1082 (thread    3) f\b\b\r",
      "STEP   455 / 1082 (thread    5) f\b\b\r",
      "STEP   456 / 1082 (thread    1) f\b\b\r",
      "STEP   457 / 1082 (thread    3) f\b\b\r",
      "STEP   458 / 1082 (thread    4) f\b\b\r",
      "STEP   459 / 1082 (thread    2) f\b\b\r",
      "STEP   460 / 1082 (thread    1) f\b\b\r",
      "STEP   461 / 1082 (thread    5) f\b\b\r",
      "STEP   462 / 1082 (thread    4) f\b\b\r",
      "STEP   463 / 1082 (thread    2) f\b\b\r",
      "STEP   464 / 1082 (thread    0) f\b\b\r",
      "STEP   465 / 1082 (thread    3) f\b\b\r",
      "STEP   466 / 1082 (thread    1) f\b\b\r",
      "STEP   467 / 1082 (thread    0) f\b\b\r",
      "STEP   468 / 1082 (thread    5) f\b\b\r",
      "STEP   469 / 1082 (thread    3) f\b\b\r",
      "STEP   470 / 1082 (thread    2) f\b\b\r",
      "STEP   471 / 1082 (thread    0) f\b\b\r",
      "STEP   472 / 1082 (thread    1) f\b\b\r",
      "STEP   473 / 1082 (thread    4) f\b\b\r",
      "STEP   474 / 1082 (thread    0) f\b\b\r",
      "STEP   475 / 1082 (thread    3) f\b\b\r",
      "STEP   476 / 1082 (thread    4) f\b\b\r",
      "STEP   477 / 1082 (thread    3) f\b\b\r",
      "STEP   478 / 1082 (thread    5) f\b\b\r",
      "STEP   479 / 1082 (thread    0) f\b\b\r",
      "STEP   480 / 1082 (thread    4) f\b\b\r",
      "STEP   481 / 1082 (thread    2) f\b\b\r",
      "STEP   482 / 1082 (thread    3) f\b\b\r",
      "STEP   483 / 1082 (thread    1) f\b\b\r",
      "STEP   484 / 1082 (thread    5) f\b\b\r",
      "STEP   485 / 1082 (thread    0) f\b\b\r",
      "STEP   486 / 1082 (thread    3) f\b\b\r",
      "STEP   487 / 1082 (thread    4) f\b\b\r",
      "STEP   488 / 1082 (thread    3) f\b\b\r",
      "STEP   489 / 1082 (thread    2) f\b\b\r",
      "STEP   491 / 1082 (thread    1) f\b\b\r",
      "STEP   490 / 1082 (thread    0) f\b\b\r",
      "STEP   492 / 1082 (thread    4) f\b\b\r",
      "STEP   494 / 1082 (thread    5) f\b\b\r",
      "STEP   495 / 1082 (thread    4) f\b\b\r",
      "STEP   496 / 1082 (thread    5) f\b\b\r",
      "STEP   497 / 1082 (thread    1) f\b\b\r",
      "STEP   493 / 1082 (thread    3) f\b\b\r",
      "STEP   498 / 1082 (thread    2) f\b\b\r",
      "STEP   499 / 1082 (thread    0) f\b\b\r",
      "STEP   500 / 1082 (thread    5) f\b\b\r",
      "STEP   501 / 1082 (thread    4) f\b\b\r",
      "STEP   601 / 1082 (thread    4) f\b\b"
     ]
    },
    {
     "name": "stderr",
     "output_type": "stream",
     "text": [
      "\r",
      "STEP   701 / 1082 (thread    4) f\b\b\r",
      "STEP   801 / 1082 (thread    5) f\b\b\r",
      "STEP   901 / 1082 (thread    3) f\b\b\n",
      "Reallocating..done. *alloclen = 1862\n",
      "\r",
      "STEP  1001 / 1082 (thread    2) f\b\b"
     ]
    },
    {
     "name": "stderr",
     "output_type": "stream",
     "text": [
      "\n",
      "done.\n",
      "\n",
      "Making a distance matrix from msa.. \n",
      "\r",
      "    0 / 1083 (thread    0)\r",
      "  100 / 1083 (thread    1)\r",
      "  200 / 1083 (thread    5)\r",
      "  300 / 1083 (thread    2)\r",
      "  400 / 1083 (thread    4)\r",
      "  500 / 1083 (thread    1)"
     ]
    },
    {
     "name": "stderr",
     "output_type": "stream",
     "text": [
      "\r",
      "  600 / 1083 (thread    5)\r",
      "  700 / 1083 (thread    1)\r",
      "  800 / 1083 (thread    0)\r",
      "  900 / 1083 (thread    4)\r",
      " 1000 / 1083 (thread    5)\n",
      "done.\n",
      "\n",
      "Constructing a UPGMA tree (efffree=1) ... \n",
      "\r",
      "    0 / 1083\r",
      "   10 / 1083\r",
      "   20 / 1083\r",
      "   30 / 1083\r",
      "   40 / 1083\r",
      "   50 / 1083\r",
      "   60 / 1083\r",
      "   70 / 1083\r",
      "   80 / 1083\r",
      "   90 / 1083\r",
      "  100 / 1083\r",
      "  110 / 1083\r",
      "  120 / 1083\r",
      "  130 / 1083\r",
      "  140 / 1083\r",
      "  150 / 1083\r",
      "  160 / 1083\r",
      "  170 / 1083\r",
      "  180 / 1083\r",
      "  190 / 1083\r",
      "  200 / 1083\r",
      "  210 / 1083\r",
      "  220 / 1083\r",
      "  230 / 1083\r",
      "  240 / 1083\r",
      "  250 / 1083\r",
      "  260 / 1083\r",
      "  270 / 1083\r",
      "  280 / 1083\r",
      "  290 / 1083\r",
      "  300 / 1083\r",
      "  310 / 1083\r",
      "  320 / 1083\r",
      "  330 / 1083\r",
      "  340 / 1083\r",
      "  350 / 1083\r",
      "  360 / 1083\r",
      "  370 / 1083\r",
      "  380 / 1083\r",
      "  390 / 1083\r",
      "  400 / 1083\r",
      "  410 / 1083\r",
      "  420 / 1083\r",
      "  430 / 1083\r",
      "  440 / 1083\r",
      "  450 / 1083\r",
      "  460 / 1083\r",
      "  470 / 1083\r",
      "  480 / 1083\r",
      "  490 / 1083\r",
      "  500 / 1083\r",
      "  510 / 1083\r",
      "  520 / 1083\r",
      "  530 / 1083\r",
      "  540 / 1083\r",
      "  550 / 1083\r",
      "  560 / 1083\r",
      "  570 / 1083\r",
      "  580 / 1083\r",
      "  590 / 1083\r",
      "  600 / 1083\r",
      "  610 / 1083\r",
      "  620 / 1083\r",
      "  630 / 1083\r",
      "  640 / 1083\r",
      "  650 / 1083\r",
      "  660 / 1083\r",
      "  670 / 1083\r",
      "  680 / 1083\r",
      "  690 / 1083\r",
      "  700 / 1083\r",
      "  710 / 1083\r",
      "  720 / 1083\r",
      "  730 / 1083\r",
      "  740 / 1083\r",
      "  750 / 1083\r",
      "  760 / 1083\r",
      "  770 / 1083\r",
      "  780 / 1083\r",
      "  790 / 1083\r",
      "  800 / 1083\r",
      "  810 / 1083\r",
      "  820 / 1083\r",
      "  830 / 1083\r",
      "  840 / 1083\r",
      "  850 / 1083\r",
      "  860 / 1083\r",
      "  870 / 1083\r",
      "  880 / 1083\r",
      "  890 / 1083\r",
      "  900 / 1083\r",
      "  910 / 1083\r",
      "  920 / 1083\r",
      "  930 / 1083\r",
      "  940 / 1083\r",
      "  950 / 1083\r",
      "  960 / 1083\r",
      "  970 / 1083\r",
      "  980 / 1083\r",
      "  990 / 1083\r",
      " 1000 / 1083\r",
      " 1010 / 1083\r",
      " 1020 / 1083\r",
      " 1030 / 1083\r",
      " 1040 / 1083\r",
      " 1050 / 1083\r",
      " 1060 / 1083\r",
      " 1070 / 1083\r",
      " 1080 / 1083\n",
      "done.\n",
      "\n",
      "Progressive alignment 2/2... \n",
      "\r",
      "STEP     1 / 1082 (thread    0)\r",
      "STEP     2 / 1082 (thread    1) f\b\b f\b\b\r",
      "STEP     3 / 1082 (thread    2) f\b\b\r",
      "STEP     4 / 1082 (thread    3) f\b\b\r",
      "STEP     5 / 1082 (thread    4)\r",
      "STEP     6 / 1082 (thread    5) f\b\b f\b\b\r",
      "STEP     7 / 1082 (thread    5) f\b\b\r",
      "STEP     8 / 1082 (thread    3) f\b\b\r",
      "STEP     9 / 1082 (thread    2) f\b\b\r",
      "STEP    10 / 1082 (thread    4) f\b\b\r",
      "STEP    11 / 1082 (thread    5) f\b\b\r",
      "STEP    12 / 1082 (thread    3) f\b\b\r",
      "STEP    13 / 1082 (thread    2) f\b\b\r",
      "STEP    14 / 1082 (thread    4) f\b\b\r",
      "STEP    15 / 1082 (thread    5) f\b\b\r",
      "STEP    16 / 1082 (thread    4) f\b\b\r",
      "STEP    17 / 1082 (thread    3) f\b\b\r",
      "STEP    18 / 1082 (thread    2) f\b\b\r",
      "STEP    19 / 1082 (thread    4) f\b\b\r",
      "STEP    20 / 1082 (thread    0) f\b\b\r",
      "STEP    21 / 1082 (thread    1) f\b\b\r",
      "STEP    22 / 1082 (thread    5) f\b\b\r",
      "STEP    23 / 1082 (thread    3) f\b\b\r",
      "STEP    24 / 1082 (thread    4) f\b\b\r",
      "STEP    25 / 1082 (thread    2) f\b\b\r",
      "STEP    26 / 1082 (thread    0)\r",
      "STEP    27 / 1082 (thread    1) f\b\b f\b\b\r",
      "STEP    28 / 1082 (thread    5) f\b\b\r",
      "STEP    29 / 1082 (thread    4) f\b\b\r",
      "STEP    30 / 1082 (thread    3) f\b\b\r",
      "STEP    31 / 1082 (thread    2) f\b\b\r",
      "STEP    32 / 1082 (thread    1) f\b\b\r",
      "STEP    33 / 1082 (thread    0) f\b\b\r",
      "STEP    34 / 1082 (thread    4) f\b\b\r",
      "STEP    35 / 1082 (thread    5) f\b\b\r",
      "STEP    36 / 1082 (thread    3) f\b\b\r",
      "STEP    37 / 1082 (thread    4) f\b\b\r",
      "STEP    38 / 1082 (thread    0) f\b\b\r",
      "STEP    39 / 1082 (thread    4) f\b\b\r",
      "STEP    40 / 1082 (thread    5) f\b\b\r",
      "STEP    41 / 1082 (thread    2) f\b\b\r",
      "STEP    42 / 1082 (thread    3) f\b\b\r",
      "STEP    43 / 1082 (thread    0) f\b\b\r",
      "STEP    44 / 1082 (thread    4) f\b\b\r",
      "STEP    45 / 1082 (thread    2) f\b\b\r",
      "STEP    46 / 1082 (thread    1) f\b\b\r",
      "STEP    47 / 1082 (thread    5) f\b\b\r",
      "STEP    48 / 1082 (thread    4) f\b\b\r",
      "STEP    49 / 1082 (thread    3) f\b\b\r",
      "STEP    50 / 1082 (thread    2) f\b\b\r",
      "STEP    51 / 1082 (thread    0) f\b\b\r",
      "STEP    52 / 1082 (thread    1) f\b\b\r",
      "STEP    53 / 1082 (thread    4) f\b\b\r",
      "STEP    54 / 1082 (thread    2) f\b\b\r",
      "STEP    55 / 1082 (thread    5) f\b\b\r",
      "STEP    56 / 1082 (thread    3) f\b\b\r",
      "STEP    57 / 1082 (thread    0) f\b\b\r",
      "STEP    58 / 1082 (thread    4) f\b\b\r",
      "STEP    59 / 1082 (thread    2) f\b\b\r",
      "STEP    60 / 1082 (thread    1) f\b\b\r",
      "STEP    61 / 1082 (thread    5) f\b\b\r",
      "STEP    62 / 1082 (thread    4) f\b\b\r",
      "STEP    63 / 1082 (thread    3) f\b\b\r",
      "STEP    64 / 1082 (thread    2) f\b\b\r",
      "STEP    65 / 1082 (thread    0) f\b\b\r",
      "STEP    66 / 1082 (thread    1) f\b\b\r",
      "STEP    67 / 1082 (thread    4) f\b\b\r",
      "STEP    68 / 1082 (thread    2) f\b\b\r",
      "STEP    69 / 1082 (thread    5) f\b\b\r",
      "STEP    70 / 1082 (thread    0) f\b\b\r",
      "STEP    71 / 1082 (thread    3) f\b\b\r",
      "STEP    72 / 1082 (thread    4) f\b\b\r",
      "STEP    73 / 1082 (thread    1) f\b\b\r",
      "STEP    74 / 1082 (thread    2) f\b\b\r",
      "STEP    75 / 1082 (thread    4) f\b\b\r",
      "STEP    76 / 1082 (thread    0) f\b\b\r",
      "STEP    77 / 1082 (thread    5) f\b\b\r",
      "STEP    78 / 1082 (thread    3) f\b\b\r",
      "STEP    79 / 1082 (thread    2) f\b\b\r",
      "STEP    80 / 1082 (thread    1) f\b\b\r",
      "STEP    81 / 1082 (thread    4) f\b\b\r",
      "STEP    82 / 1082 (thread    2) f\b\b\r",
      "STEP    83 / 1082 (thread    0) f\b\b\r",
      "STEP    84 / 1082 (thread    5) f\b\b\r",
      "STEP    85 / 1082 (thread    3) f\b\b\r",
      "STEP    86 / 1082 (thread    4) f\b\b\r",
      "STEP    87 / 1082 (thread    1) f\b\b\r",
      "STEP    88 / 1082 (thread    2) f\b\b\r",
      "STEP    89 / 1082 (thread    0) f\b\b\r",
      "STEP    90 / 1082 (thread    5) f\b\b\r",
      "STEP    91 / 1082 (thread    3) f\b\b\r",
      "STEP    92 / 1082 (thread    4) f\b\b\r",
      "STEP    93 / 1082 (thread    2) f\b\b\r",
      "STEP    94 / 1082 (thread    1) f\b\b\r",
      "STEP    95 / 1082 (thread    4) f\b\b\r",
      "STEP    99 / 1082 (thread    3) f\b\b\r",
      "STEP    97 / 1082 (thread    2) f\b\b\r",
      "STEP   100 / 1082 (thread    1) f\b\b\r",
      "STEP   101 / 1082 (thread    3) f\b\b\r",
      "STEP   102 / 1082 (thread    4) f\b\b\r",
      "STEP    96 / 1082 (thread    0) f\b\b\r",
      "STEP   103 / 1082 (thread    1) f\b\b\r",
      "STEP   104 / 1082 (thread    3) f\b\b\r",
      "STEP   105 / 1082 (thread    4) f\b\b\r",
      "STEP   106 / 1082 (thread    2) f\b\b\r",
      "STEP   107 / 1082 (thread    1) f\b\b\r",
      "STEP   108 / 1082 (thread    3) f\b\b\r",
      "STEP   109 / 1082 (thread    4) f\b\b\r",
      "STEP   110 / 1082 (thread    2) f\b\b\r",
      "STEP   111 / 1082 (thread    0) f\b\b\r",
      "STEP    98 / 1082 (thread    5) f\b\b\r",
      "STEP   112 / 1082 (thread    4) f\b\b\r",
      "STEP   113 / 1082 (thread    1) f\b\b\r",
      "STEP   114 / 1082 (thread    2) f\b\b\r",
      "STEP   115 / 1082 (thread    2) f\b\b\r",
      "STEP   116 / 1082 (thread    3) f\b\b\r",
      "STEP   117 / 1082 (thread    1) f\b\b\r",
      "STEP   118 / 1082 (thread    4) f\b\b\r",
      "STEP   119 / 1082 (thread    2) f\b\b\r",
      "STEP   120 / 1082 (thread    4) f\b\b\r",
      "STEP   121 / 1082 (thread    0) f\b\b\r",
      "STEP   122 / 1082 (thread    1) f\b\b\r",
      "STEP   123 / 1082 (thread    3) f\b\b\r",
      "STEP   124 / 1082 (thread    2) f\b\b\r",
      "STEP   125 / 1082 (thread    5) f\b\b\r",
      "STEP   126 / 1082 (thread    4) f\b\b\r",
      "STEP   127 / 1082 (thread    1) f\b\b\r",
      "STEP   128 / 1082 (thread    0) f\b\b\r",
      "STEP   129 / 1082 (thread    4) f\b\b\r",
      "STEP   130 / 1082 (thread    2) f\b\b\r",
      "STEP   131 / 1082 (thread    5) f\b\b\r",
      "STEP   132 / 1082 (thread    4) f\b\b\r",
      "STEP   133 / 1082 (thread    1) f\b\b\r",
      "STEP   134 / 1082 (thread    0) f\b\b\r",
      "STEP   135 / 1082 (thread    2) f\b\b\r",
      "STEP   136 / 1082 (thread    3) f\b\b\r",
      "STEP   137 / 1082 (thread    4) f\b\b\r",
      "STEP   138 / 1082 (thread    2) f\b\b\r",
      "STEP   139 / 1082 (thread    0)\r",
      "STEP   140 / 1082 (thread    1) f\b\b f\b\b\r",
      "STEP   141 / 1082 (thread    4) f\b\b\r",
      "STEP   142 / 1082 (thread    5) f\b\b\r",
      "STEP   143 / 1082 (thread    3) f\b\b\r",
      "STEP   144 / 1082 (thread    2) f\b\b\r",
      "STEP   145 / 1082 (thread    1)\r",
      "STEP   146 / 1082 (thread    0) f\b\b f\b\b\r",
      "STEP   147 / 1082 (thread    2) f\b\b\r",
      "STEP   148 / 1082 (thread    4) f\b\b\r",
      "STEP   149 / 1082 (thread    3) f\b\b\r",
      "STEP   150 / 1082 (thread    5) f\b\b\r",
      "STEP   151 / 1082 (thread    4) f\b\b\r",
      "STEP   152 / 1082 (thread    2) f\b\b\r",
      "STEP   153 / 1082 (thread    1) f\b\b\r",
      "STEP   154 / 1082 (thread    0) f\b\b\r",
      "STEP   155 / 1082 (thread    3) f\b\b\r",
      "STEP   157 / 1082 (thread    2) f\b\b\r",
      "STEP   158 / 1082 (thread    5) f\b\b\r",
      "STEP   159 / 1082 (thread    1) f\b\b\r",
      "STEP   156 / 1082 (thread    4) f\b\b\r",
      "STEP   160 / 1082 (thread    0) f\b\b\r",
      "STEP   161 / 1082 (thread    5) f\b\b\r",
      "STEP   162 / 1082 (thread    2) f\b\b\r",
      "STEP   163 / 1082 (thread    3) f\b\b\r",
      "STEP   164 / 1082 (thread    0) f\b\b\r",
      "STEP   165 / 1082 (thread    4) f\b\b\r",
      "STEP   166 / 1082 (thread    5) f\b\b\r",
      "STEP   167 / 1082 (thread    2) f\b\b\r",
      "STEP   168 / 1082 (thread    3) f\b\b\r",
      "STEP   169 / 1082 (thread    4) f\b\b\r",
      "STEP   170 / 1082 (thread    0) f\b\b\r",
      "STEP   171 / 1082 (thread    1) f\b\b\r",
      "STEP   172 / 1082 (thread    2) f\b\b\r",
      "STEP   173 / 1082 (thread    4) f\b\b\r",
      "STEP   174 / 1082 (thread    5) f\b\b\r",
      "STEP   175 / 1082 (thread    3) f\b\b\r",
      "STEP   176 / 1082 (thread    2) f\b\b\r",
      "STEP   177 / 1082 (thread    0) f\b\b\r",
      "STEP   178 / 1082 (thread    1) f\b\b\r",
      "STEP   179 / 1082 (thread    4) f\b\b\r",
      "STEP   180 / 1082 (thread    2) f\b\b\r",
      "STEP   181 / 1082 (thread    4) f\b\b\r",
      "STEP   182 / 1082 (thread    3) f\b\b\r",
      "STEP   183 / 1082 (thread    0) f\b\b\r",
      "STEP   184 / 1082 (thread    5) f\b\b\r",
      "STEP   185 / 1082 (thread    2) f\b\b\r",
      "STEP   186 / 1082 (thread    4) f\b\b\r",
      "STEP   187 / 1082 (thread    1) f\b\b\r",
      "STEP   188 / 1082 (thread    2) f\b\b\r",
      "STEP   189 / 1082 (thread    0) f\b\b\r",
      "STEP   191 / 1082 (thread    4) f\b\b\r",
      "STEP   192 / 1082 (thread    5) f\b\b\r",
      "STEP   190 / 1082 (thread    3) f\b\b\r",
      "STEP   193 / 1082 (thread    4) f\b\b\r",
      "STEP   194 / 1082 (thread    2) f\b\b\r",
      "STEP   195 / 1082 (thread    1) f\b\b\r",
      "STEP   196 / 1082 (thread    2) f\b\b\r",
      "STEP   197 / 1082 (thread    5) f\b\b\r",
      "STEP   198 / 1082 (thread    1) f\b\b\r",
      "STEP   199 / 1082 (thread    0) f\b\b\r",
      "STEP   200 / 1082 (thread    4) f\b\b\r",
      "STEP   201 / 1082 (thread    4) f\b\b\r",
      "STEP   202 / 1082 (thread    2) f\b\b\r",
      "STEP   203 / 1082 (thread    1) f\b\b\r",
      "STEP   204 / 1082 (thread    3) f\b\b\r",
      "STEP   205 / 1082 (thread    0) f\b\b\r",
      "STEP   206 / 1082 (thread    4) f\b\b\r",
      "STEP   207 / 1082 (thread    2) f\b\b\r",
      "STEP   208 / 1082 (thread    5) f\b\b\r",
      "STEP   209 / 1082 (thread    4) f\b\b\r",
      "STEP   210 / 1082 (thread    0) f\b\b\r",
      "STEP   211 / 1082 (thread    2) f\b\b\r",
      "STEP   212 / 1082 (thread    3) f\b\b\r",
      "STEP   213 / 1082 (thread    4) f\b\b\r",
      "STEP   214 / 1082 (thread    5) f\b\b\r",
      "STEP   215 / 1082 (thread    2) f\b\b\r",
      "STEP   216 / 1082 (thread    1) f\b\b\r",
      "STEP   217 / 1082 (thread    4) f\b\b\r",
      "STEP   218 / 1082 (thread    0) f\b\b\r",
      "STEP   219 / 1082 (thread    2) f\b\b\r",
      "STEP   220 / 1082 (thread    3) f\b\b\r",
      "STEP   221 / 1082 (thread    5) f\b\b\r",
      "STEP   222 / 1082 (thread    2) f\b\b\r",
      "STEP   223 / 1082 (thread    4) f\b\b\r",
      "STEP   224 / 1082 (thread    3) f\b\b\r",
      "STEP   225 / 1082 (thread    1) f\b\b\r",
      "STEP   226 / 1082 (thread    5) f\b\b\r",
      "STEP   227 / 1082 (thread    4) f\b\b\r",
      "STEP   228 / 1082 (thread    0) f\b\b\r",
      "STEP   229 / 1082 (thread    2) f\b\b\r",
      "STEP   230 / 1082 (thread    4) f\b\b\r",
      "STEP   231 / 1082 (thread    1) f\b\b\r",
      "STEP   232 / 1082 (thread    5) f\b\b\r",
      "STEP   233 / 1082 (thread    4) f\b\b\r",
      "STEP   234 / 1082 (thread    2) f\b\b\r",
      "STEP   235 / 1082 (thread    3) f\b\b\r",
      "STEP   236 / 1082 (thread    0) f\b\b\r",
      "STEP   237 / 1082 (thread    1) f\b\b\r",
      "STEP   238 / 1082 (thread    4) f\b\b\r",
      "STEP   239 / 1082 (thread    5) f\b\b\r",
      "STEP   240 / 1082 (thread    2) f\b\b\r",
      "STEP   241 / 1082 (thread    3) f\b\b\r",
      "STEP   242 / 1082 (thread    4) f\b\b\r",
      "STEP   243 / 1082 (thread    0) f\b\b\r",
      "STEP   244 / 1082 (thread    2) f\b\b\r",
      "STEP   245 / 1082 (thread    1) f\b\b\r",
      "STEP   246 / 1082 (thread    5) f\b\b\r",
      "STEP   247 / 1082 (thread    4) f\b\b\r",
      "STEP   249 / 1082 (thread    0) f\b\b\r",
      "STEP   250 / 1082 (thread    3) f\b\b\r",
      "STEP   251 / 1082 (thread    4) f\b\b\r",
      "STEP   252 / 1082 (thread    1) f\b\b\r",
      "STEP   253 / 1082 (thread    0) f\b\b\r",
      "STEP   254 / 1082 (thread    4) f\b\b\r",
      "STEP   255 / 1082 (thread    3) f\b\b\r",
      "STEP   256 / 1082 (thread    5) f\b\b\r",
      "STEP   248 / 1082 (thread    2) f\b\b\r",
      "STEP   257 / 1082 (thread    3) f\b\b\r",
      "STEP   258 / 1082 (thread    4) f\b\b\r",
      "STEP   259 / 1082 (thread    5) f\b\b\r",
      "STEP   260 / 1082 (thread    1) f\b\b\r",
      "STEP   261 / 1082 (thread    2) f\b\b\r",
      "STEP   262 / 1082 (thread    4) f\b\b\r",
      "STEP   263 / 1082 (thread    3) f\b\b\r",
      "STEP   264 / 1082 (thread    0) f\b\b\r",
      "STEP   265 / 1082 (thread    2) f\b\b\r",
      "STEP   266 / 1082 (thread    1) f\b\b\r",
      "STEP   267 / 1082 (thread    4) f\b\b\r",
      "STEP   268 / 1082 (thread    2) f\b\b\r",
      "STEP   269 / 1082 (thread    3) f\b\b\r",
      "STEP   270 / 1082 (thread    0) f\b\b\r",
      "STEP   271 / 1082 (thread    5) f\b\b\r",
      "STEP   272 / 1082 (thread    4) f\b\b\r",
      "STEP   274 / 1082 (thread    1) f\b\b\r",
      "STEP   275 / 1082 (thread    4) f\b\b\r",
      "STEP   276 / 1082 (thread    3) f\b\b\r",
      "STEP   273 / 1082 (thread    2) f\b\b\r",
      "STEP   277 / 1082 (thread    0) f\b\b\r",
      "STEP   279 / 1082 (thread    5) f\b\b\r",
      "STEP   280 / 1082 (thread    1) f\b\b\r",
      "STEP   278 / 1082 (thread    4) f\b\b\r",
      "STEP   281 / 1082 (thread    2) f\b\b\r",
      "STEP   282 / 1082 (thread    3) f\b\b\r",
      "STEP   283 / 1082 (thread    5) f\b\b\r",
      "STEP   284 / 1082 (thread    4) f\b\b\r",
      "STEP   285 / 1082 (thread    2) f\b\b\r",
      "STEP   286 / 1082 (thread    3) f\b\b\r",
      "STEP   287 / 1082 (thread    0) f\b\b\r",
      "STEP   288 / 1082 (thread    4) f\b\b\r",
      "STEP   289 / 1082 (thread    1) f\b\b\r",
      "STEP   290 / 1082 (thread    0) f\b\b\r",
      "STEP   291 / 1082 (thread    3) f\b\b\r",
      "STEP   292 / 1082 (thread    2) f\b\b\r",
      "STEP   293 / 1082 (thread    5) f\b\b\r",
      "STEP   294 / 1082 (thread    4) f\b\b\r",
      "STEP   295 / 1082 (thread    1) f\b\b\r",
      "STEP   296 / 1082 (thread    4) f\b\b\r",
      "STEP   297 / 1082 (thread    2) f\b\b\r",
      "STEP   298 / 1082 (thread    3) f\b\b\r",
      "STEP   299 / 1082 (thread    5) f\b\b\r",
      "STEP   300 / 1082 (thread    4) f\b\b\r",
      "STEP   301 / 1082 (thread    0) f\b\b\r",
      "STEP   302 / 1082 (thread    1) f\b\b\r",
      "STEP   303 / 1082 (thread    2) f\b\b\r",
      "STEP   304 / 1082 (thread    4) f\b\b\r",
      "STEP   305 / 1082 (thread    3) f\b\b\r",
      "STEP   306 / 1082 (thread    5) f\b\b\r",
      "STEP   307 / 1082 (thread    4) f\b\b\r",
      "STEP   308 / 1082 (thread    0) f\b\b\r",
      "STEP   309 / 1082 (thread    1) f\b\b\r",
      "STEP   310 / 1082 (thread    2) f\b\b\r",
      "STEP   311 / 1082 (thread    4) f\b\b\r",
      "STEP   312 / 1082 (thread    3) f\b\b\r",
      "STEP   313 / 1082 (thread    2) f\b\b\r",
      "STEP   314 / 1082 (thread    0) f\b\b\r",
      "STEP   315 / 1082 (thread    5) f\b\b\r",
      "STEP   316 / 1082 (thread    1) f\b\b\r",
      "STEP   317 / 1082 (thread    4) f\b\b\r",
      "STEP   318 / 1082 (thread    2) f\b\b\r",
      "STEP   319 / 1082 (thread    1) f\b\b\r",
      "STEP   320 / 1082 (thread    0) f\b\b\r",
      "STEP   321 / 1082 (thread    4) f\b\b\r",
      "STEP   322 / 1082 (thread    4) f\b\b\r",
      "STEP   323 / 1082 (thread    0)\r",
      "STEP   324 / 1082 (thread    2) f\b\b f\b\b\r",
      "STEP   325 / 1082 (thread    3) f\b\b\r",
      "STEP   326 / 1082 (thread    5) f\b\b\r",
      "STEP   327 / 1082 (thread    4) f\b\b\r",
      "STEP   328 / 1082 (thread    2) f\b\b\r",
      "STEP   329 / 1082 (thread    4) f\b\b\r",
      "STEP   330 / 1082 (thread    0) f\b\b\r",
      "STEP   331 / 1082 (thread    3) f\b\b\r",
      "STEP   332 / 1082 (thread    1) f\b\b\r",
      "STEP   333 / 1082 (thread    4) f\b\b\r",
      "STEP   334 / 1082 (thread    2) f\b\b\r",
      "STEP   335 / 1082 (thread    5) f\b\b\r",
      "STEP   336 / 1082 (thread    4) f\b\b\r",
      "STEP   337 / 1082 (thread    0) f\b\b\r",
      "STEP   338 / 1082 (thread    3) f\b\b\r",
      "STEP   339 / 1082 (thread    2) f\b\b\r",
      "STEP   340 / 1082 (thread    1) f\b\b\r",
      "STEP   341 / 1082 (thread    5) f\b\b\r",
      "STEP   342 / 1082 (thread    2) f\b\b\r",
      "STEP   343 / 1082 (thread    0) f\b\b\r",
      "STEP   344 / 1082 (thread    4) f\b\b\r",
      "STEP   345 / 1082 (thread    3) f\b\b\r",
      "STEP   346 / 1082 (thread    4) f\b\b\r",
      "STEP   347 / 1082 (thread    0) f\b\b\r",
      "STEP   348 / 1082 (thread    1) f\b\b\r",
      "STEP   349 / 1082 (thread    3) f\b\b\r",
      "STEP   350 / 1082 (thread    5) f\b\b\r",
      "STEP   351 / 1082 (thread    2) f\b\b\r",
      "STEP   352 / 1082 (thread    4) f\b\b\r",
      "STEP   353 / 1082 (thread    0) f\b\b\r",
      "STEP   354 / 1082 (thread    1) f\b\b\r",
      "STEP   355 / 1082 (thread    4) f\b\b\r",
      "STEP   356 / 1082 (thread    5) f\b\b\r",
      "STEP   357 / 1082 (thread    0) f\b\b\r",
      "STEP   358 / 1082 (thread    2) f\b\b\r",
      "STEP   359 / 1082 (thread    1) f\b\b\r",
      "STEP   360 / 1082 (thread    3) f\b\b\r",
      "STEP   361 / 1082 (thread    4) f\b\b\r",
      "STEP   362 / 1082 (thread    2) f\b\b\r",
      "STEP   363 / 1082 (thread    0) f\b\b\r",
      "STEP   364 / 1082 (thread    5) f\b\b\r",
      "STEP   365 / 1082 (thread    1) f\b\b\r",
      "STEP   366 / 1082 (thread    4) f\b\b\r",
      "STEP   367 / 1082 (thread    3) f\b\b\r",
      "STEP   368 / 1082 (thread    2) f\b\b\r",
      "STEP   369 / 1082 (thread    4) f\b\b\r",
      "STEP   370 / 1082 (thread    0) f\b\b\r",
      "STEP   371 / 1082 (thread    2) f\b\b\r",
      "STEP   372 / 1082 (thread    1) f\b\b\r",
      "STEP   373 / 1082 (thread    5) f\b\b\r",
      "STEP   374 / 1082 (thread    3) f\b\b\r",
      "STEP   375 / 1082 (thread    2) f\b\b\r",
      "STEP   376 / 1082 (thread    4) f\b\b\r",
      "STEP   377 / 1082 (thread    4) f\b\b\r",
      "STEP   378 / 1082 (thread    0) f\b\b\r",
      "STEP   379 / 1082 (thread    1) f\b\b\r",
      "STEP   380 / 1082 (thread    2) f\b\b\r",
      "STEP   381 / 1082 (thread    5) f\b\b\r",
      "STEP   382 / 1082 (thread    4) f\b\b\r",
      "STEP   383 / 1082 (thread    2) f\b\b\r",
      "STEP   384 / 1082 (thread    3) f\b\b\r",
      "STEP   385 / 1082 (thread    0) f\b\b\r",
      "STEP   386 / 1082 (thread    4) f\b\b\r",
      "STEP   387 / 1082 (thread    2) f\b\b\r",
      "STEP   388 / 1082 (thread    5) f\b\b\r",
      "STEP   389 / 1082 (thread    1) f\b\b\r",
      "STEP   390 / 1082 (thread    3) f\b\b\r",
      "STEP   391 / 1082 (thread    0) f\b\b\r",
      "STEP   392 / 1082 (thread    4) f\b\b\r",
      "STEP   393 / 1082 (thread    2) f\b\b\r",
      "STEP   394 / 1082 (thread    4) f\b\b\r",
      "STEP   395 / 1082 (thread    5) f\b\b\r",
      "STEP   396 / 1082 (thread    1) f\b\b\r",
      "STEP   397 / 1082 (thread    2) f\b\b\r",
      "STEP   398 / 1082 (thread    3) f\b\b\r",
      "STEP   399 / 1082 (thread    0) f\b\b\r",
      "STEP   400 / 1082 (thread    4) f\b\b\r",
      "STEP   401 / 1082 (thread    2) f\b\b\r",
      "STEP   402 / 1082 (thread    4) f\b\b\r",
      "STEP   403 / 1082 (thread    1) f\b\b\r",
      "STEP   404 / 1082 (thread    5) f\b\b\r",
      "STEP   405 / 1082 (thread    3) f\b\b\r",
      "STEP   406 / 1082 (thread    0) f\b\b\r",
      "STEP   407 / 1082 (thread    2) f\b\b\r",
      "STEP   408 / 1082 (thread    4) f\b\b\r",
      "STEP   409 / 1082 (thread    2) f\b\b\r",
      "STEP   410 / 1082 (thread    5) f\b\b\r",
      "STEP   411 / 1082 (thread    4) f\b\b\r",
      "STEP   412 / 1082 (thread    3) f\b\b\r",
      "STEP   413 / 1082 (thread    0) f\b\b\r",
      "STEP   414 / 1082 (thread    2) f\b\b\r",
      "STEP   415 / 1082 (thread    1) f\b\b\r",
      "STEP   416 / 1082 (thread    4) f\b\b\r",
      "STEP   418 / 1082 (thread    2) f\b\b\r",
      "STEP   419 / 1082 (thread    4) f\b\b\r",
      "STEP   417 / 1082 (thread    3) f\b\b\r",
      "STEP   420 / 1082 (thread    1) f\b\b\r",
      "STEP   421 / 1082 (thread    5) f\b\b\r",
      "STEP   422 / 1082 (thread    4) f\b\b\r",
      "STEP   423 / 1082 (thread    2) f\b\b\r",
      "STEP   424 / 1082 (thread    0) f\b\b\r",
      "STEP   425 / 1082 (thread    1) f\b\b\r",
      "STEP   426 / 1082 (thread    4) f\b\b\r",
      "STEP   427 / 1082 (thread    5) f\b\b\r",
      "STEP   428 / 1082 (thread    2) f\b\b\r",
      "STEP   429 / 1082 (thread    3) f\b\b\r",
      "STEP   430 / 1082 (thread    4) f\b\b\r",
      "STEP   431 / 1082 (thread    1) f\b\b\r",
      "STEP   432 / 1082 (thread    0) f\b\b\r",
      "STEP   433 / 1082 (thread    2) f\b\b\r",
      "STEP   434 / 1082 (thread    4) f\b\b\r",
      "STEP   435 / 1082 (thread    1) f\b\b\r",
      "STEP   436 / 1082 (thread    2) f\b\b\r",
      "STEP   437 / 1082 (thread    3) f\b\b\r",
      "STEP   438 / 1082 (thread    5) f\b\b\r",
      "STEP   439 / 1082 (thread    4) f\b\b\r",
      "STEP   440 / 1082 (thread    0) f\b\b\r",
      "STEP   441 / 1082 (thread    5) f\b\b\r",
      "STEP   442 / 1082 (thread    1) f\b\b\r",
      "STEP   443 / 1082 (thread    2) f\b\b\r",
      "STEP   444 / 1082 (thread    4) f\b\b\r",
      "STEP   445 / 1082 (thread    0) f\b\b\r",
      "STEP   446 / 1082 (thread    3) f\b\b\r",
      "STEP   447 / 1082 (thread    1) f\b\b\r",
      "STEP   449 / 1082 (thread    2) f\b\b\r",
      "STEP   450 / 1082 (thread    0) f\b\b\r",
      "STEP   448 / 1082 (thread    4) f\b\b\r",
      "STEP   451 / 1082 (thread    5) f\b\b\r",
      "STEP   452 / 1082 (thread    1) f\b\b\r",
      "STEP   453 / 1082 (thread    2) f\b\b\r",
      "STEP   454 / 1082 (thread    3) f\b\b\r",
      "STEP   455 / 1082 (thread    5) f\b\b\r",
      "STEP   456 / 1082 (thread    2) f\b\b\r",
      "STEP   457 / 1082 (thread    4) f\b\b\r",
      "STEP   458 / 1082 (thread    0) f\b\b\r",
      "STEP   459 / 1082 (thread    1) f\b\b\r",
      "STEP   460 / 1082 (thread    3) f\b\b\r",
      "STEP   461 / 1082 (thread    2) f\b\b\r",
      "STEP   462 / 1082 (thread    4) f\b\b\r",
      "STEP   463 / 1082 (thread    5) f\b\b\r",
      "STEP   464 / 1082 (thread    1) f\b\b\r",
      "STEP   465 / 1082 (thread    4) f\b\b\r",
      "STEP   466 / 1082 (thread    2) f\b\b\r",
      "STEP   467 / 1082 (thread    0) f\b\b\r",
      "STEP   468 / 1082 (thread    3) f\b\b\r",
      "STEP   469 / 1082 (thread    2) f\b\b\r",
      "STEP   470 / 1082 (thread    4) f\b\b\r",
      "STEP   471 / 1082 (thread    0) f\b\b\r",
      "STEP   472 / 1082 (thread    5) f\b\b\r",
      "STEP   473 / 1082 (thread    4) f\b\b\r",
      "STEP   474 / 1082 (thread    1) f\b\b\r",
      "STEP   475 / 1082 (thread    4) f\b\b\r",
      "STEP   476 / 1082 (thread    2) f\b\b\r",
      "STEP   477 / 1082 (thread    0) f\b\b\r",
      "STEP   478 / 1082 (thread    5) f\b\b\r",
      "STEP   479 / 1082 (thread    3) f\b\b\r",
      "STEP   480 / 1082 (thread    2) f\b\b\r",
      "STEP   481 / 1082 (thread    4) f\b\b\r",
      "STEP   482 / 1082 (thread    1) f\b\b\r",
      "STEP   483 / 1082 (thread    2) f\b\b\r",
      "STEP   484 / 1082 (thread    4) f\b\b\r",
      "STEP   485 / 1082 (thread    5) f\b\b\r",
      "STEP   486 / 1082 (thread    0) f\b\b\r",
      "STEP   487 / 1082 (thread    3) f\b\b\r",
      "STEP   488 / 1082 (thread    1) f\b\b\r",
      "STEP   489 / 1082 (thread    2) f\b\b\r",
      "STEP   490 / 1082 (thread    4) f\b\b\r",
      "STEP   491 / 1082 (thread    2) f\b\b\r",
      "STEP   492 / 1082 (thread    0) f\b\b\r",
      "STEP   493 / 1082 (thread    5) f\b\b\r",
      "STEP   494 / 1082 (thread    3) f\b\b\r",
      "STEP   495 / 1082 (thread    2) f\b\b\r",
      "STEP   496 / 1082 (thread    4) f\b\b\r",
      "STEP   497 / 1082 (thread    1) f\b\b\r",
      "STEP   498 / 1082 (thread    3) f\b\b\r",
      "STEP   499 / 1082 (thread    0) f\b\b\r",
      "STEP   500 / 1082 (thread    4) f\b\b\r",
      "STEP   501 / 1082 (thread    2) f\b\b"
     ]
    },
    {
     "name": "stderr",
     "output_type": "stream",
     "text": [
      "\r",
      "STEP   601 / 1082 (thread    4) f\b\b\r",
      "STEP   701 / 1082 (thread    3) f\b\b\r",
      "STEP   801 / 1082 (thread    0) f\b\b\r",
      "STEP   901 / 1082 (thread    5) f\b\b"
     ]
    },
    {
     "name": "stderr",
     "output_type": "stream",
     "text": [
      "\r",
      "STEP  1001 / 1082 (thread    2) f\b\b\n",
      "Reallocating..done. *alloclen = 1863\n"
     ]
    },
    {
     "name": "stderr",
     "output_type": "stream",
     "text": [
      "\n",
      "done.\n",
      "\n",
      "disttbfast (nuc) Version 7.490\n",
      "alg=A, model=DNA200 (2), 1.53 (4.59), -0.00 (-0.00), noshift, amax=0.0\n",
      "6 thread(s)\n",
      "\n",
      "\n",
      "Strategy:\n",
      " FFT-NS-2 (Fast but rough)\n",
      " Progressive method (guide trees were built 2 times.)\n",
      "\n",
      "If unsure which option to use, try 'mafft --auto input > output'.\n",
      "For more information, see 'mafft --help', 'mafft --man' and the mafft page.\n",
      "\n",
      "The default gap scoring scheme has been changed in version 7.110 (2013 Oct).\n",
      "It tends to insert more gaps into gap-rich regions than previous versions.\n",
      "To disable this change, add the --leavegappyregion option.\n",
      "\n"
     ]
    },
    {
     "name": "stdout",
     "output_type": "stream",
     "text": [
      "{'max_gap_frequency': 1.0, 'min_conservation': 0.4, 'alignment': TabularMSA[DNA]\n",
      "-----------------------------------------------------------------------\n",
      "Stats:\n",
      "    sequence count: 1083\n",
      "    position count: 501\n",
      "-----------------------------------------------------------------------\n",
      "TGAGGAATATTGGTCAATGGAGGCAACTCTGAA ... GCTGAGGCTCGAAGGTGCGGGTATCGAACAGG-\n",
      "TGAGGAATATTGGTCAATGGCCGGAAGGCTGAA ... GCTGAGGCACGAAAGTGCGGGGATCAAACAGG-\n",
      "...\n",
      "TGAGGAATATTGGTCAATGGGCGGAAGCCTGAA ... GCTGAGGCTCGAAAGCGTGGGGAGCAAACAGG-\n",
      "TCGGGAATATTGCGCAATGGAGGAAACTCTGAC ... GTTGAGGCACGAAAGTGTGGGGAGCAAACAGG-}\n",
      "{'max_gap_frequency': 1.0, 'min_conservation': 0.4, 'alignment': TabularMSA[DNA]\n",
      "-----------------------------------------------------------------------\n",
      "Stats:\n",
      "    sequence count: 1083\n",
      "    position count: 501\n",
      "-----------------------------------------------------------------------\n",
      "TGAGGAATATTGGTCAATGGAGGCAACTCTGAA ... GCTGAGGCTCGAAGGTGCGGGTATCGAACAGG-\n",
      "TGAGGAATATTGGTCAATGGCCGGAAGGCTGAA ... GCTGAGGCACGAAAGTGCGGGGATCAAACAGG-\n",
      "...\n",
      "TGAGGAATATTGGTCAATGGGCGGAAGCCTGAA ... GCTGAGGCTCGAAAGCGTGGGGAGCAAACAGG-\n",
      "TCGGGAATATTGCGCAATGGAGGAAACTCTGAC ... GTTGAGGCACGAAAGTGTGGGGAGCAAACAGG-}\n"
     ]
    },
    {
     "name": "stdout",
     "output_type": "stream",
     "text": [
      "{'n_threads': 6, 'alignment': <q2_types.feature_data._format.AlignedDNAFASTAFormat object at 0x7f0382644ca0>}\n",
      "{'n_threads': 6, 'alignment': <q2_types.feature_data._format.AlignedDNAFASTAFormat object at 0x7f0382644ca0>}\n",
      "Running external command line application. This may print messages to stdout and/or stderr.\n",
      "The command being run is below. This command cannot be manually re-run as it will depend on temporary files that no longer exist.\n",
      "\n",
      "Command: FastTreeMP -quote -nt /tmp/qiime2-archive-tby7fds6/3ae9cece-6e3c-45b9-83d2-79942375c1cf/data/aligned-dna-sequences.fasta\n",
      "\n"
     ]
    },
    {
     "name": "stderr",
     "output_type": "stream",
     "text": [
      "FastTree Version 2.1.10 Double precision (No SSE3), OpenMP (6 threads)\n",
      "Alignment: /tmp/qiime2-archive-tby7fds6/3ae9cece-6e3c-45b9-83d2-79942375c1cf/data/aligned-dna-sequences.fasta\n",
      "Nucleotide distances: Jukes-Cantor Joins: balanced Support: SH-like 1000\n",
      "Search: Normal +NNI +SPR (2 rounds range 10) +ML-NNI opt-each=1\n",
      "TopHits: 1.00*sqrtN close=default refresh=0.80\n",
      "ML Model: Jukes-Cantor, CAT approximation with 20 rate categories\n",
      "      0.12 seconds: Joined    100 of   1031\n"
     ]
    },
    {
     "name": "stderr",
     "output_type": "stream",
     "text": [
      "      0.26 seconds: Joined    300 of   1031\n",
      "      0.40 seconds: Joined    500 of   1031\n"
     ]
    },
    {
     "name": "stderr",
     "output_type": "stream",
     "text": [
      "      0.55 seconds: Joined    700 of   1031\n",
      "      0.70 seconds: Joined    900 of   1031\n"
     ]
    },
    {
     "name": "stderr",
     "output_type": "stream",
     "text": [
      "Initial topology in 0.78 seconds\n",
      "Refining topology: 40 rounds ME-NNIs, 2 rounds ME-SPRs, 20 rounds ML-NNIs\n",
      "      0.80 seconds: ME NNI round 1 of 40, 1001 of 1032 splits, 197 changes (max delta 0.027)\n",
      "      0.94 seconds: SPR round   1 of   2, 101 of 2066 nodes\n"
     ]
    },
    {
     "name": "stderr",
     "output_type": "stream",
     "text": [
      "      1.06 seconds: SPR round   1 of   2, 301 of 2066 nodes\n",
      "      1.17 seconds: SPR round   1 of   2, 501 of 2066 nodes\n"
     ]
    },
    {
     "name": "stderr",
     "output_type": "stream",
     "text": [
      "      1.28 seconds: SPR round   1 of   2, 701 of 2066 nodes\n",
      "      1.41 seconds: SPR round   1 of   2, 901 of 2066 nodes\n"
     ]
    },
    {
     "name": "stderr",
     "output_type": "stream",
     "text": [
      "      1.53 seconds: SPR round   1 of   2, 1101 of 2066 nodes\n",
      "      1.65 seconds: SPR round   1 of   2, 1301 of 2066 nodes\n"
     ]
    },
    {
     "name": "stderr",
     "output_type": "stream",
     "text": [
      "      1.76 seconds: SPR round   1 of   2, 1501 of 2066 nodes\n",
      "      1.88 seconds: SPR round   1 of   2, 1701 of 2066 nodes\n"
     ]
    },
    {
     "name": "stderr",
     "output_type": "stream",
     "text": [
      "      2.04 seconds: SPR round   1 of   2, 2001 of 2066 nodes\n",
      "      2.19 seconds: SPR round   2 of   2, 101 of 2066 nodes\n"
     ]
    },
    {
     "name": "stderr",
     "output_type": "stream",
     "text": [
      "      2.29 seconds: SPR round   2 of   2, 301 of 2066 nodes\n",
      "      2.39 seconds: SPR round   2 of   2, 501 of 2066 nodes\n"
     ]
    },
    {
     "name": "stderr",
     "output_type": "stream",
     "text": [
      "      2.53 seconds: SPR round   2 of   2, 801 of 2066 nodes\n",
      "      2.65 seconds: SPR round   2 of   2, 1001 of 2066 nodes\n"
     ]
    },
    {
     "name": "stderr",
     "output_type": "stream",
     "text": [
      "      2.77 seconds: SPR round   2 of   2, 1201 of 2066 nodes\n",
      "      2.88 seconds: SPR round   2 of   2, 1401 of 2066 nodes\n"
     ]
    },
    {
     "name": "stderr",
     "output_type": "stream",
     "text": [
      "      3.00 seconds: SPR round   2 of   2, 1601 of 2066 nodes\n",
      "      3.12 seconds: SPR round   2 of   2, 1801 of 2066 nodes\n"
     ]
    },
    {
     "name": "stderr",
     "output_type": "stream",
     "text": [
      "      3.22 seconds: SPR round   2 of   2, 2001 of 2066 nodes\n",
      "Total branch-length 21.804 after 3.35 sec\n",
      "      3.35 seconds: ML Lengths 1 of 1032 splits\n"
     ]
    },
    {
     "name": "stderr",
     "output_type": "stream",
     "text": [
      "      3.47 seconds: ML Lengths 401 of 1032 splits\n",
      "      3.58 seconds: ML Lengths 801 of 1032 splits\n"
     ]
    },
    {
     "name": "stderr",
     "output_type": "stream",
     "text": [
      "      3.72 seconds: ML NNI round 1 of 20, 101 of 1032 splits, 15 changes (max delta 6.042)\n",
      "      3.86 seconds: ML NNI round 1 of 20, 301 of 1032 splits, 58 changes (max delta 8.796)\n"
     ]
    },
    {
     "name": "stderr",
     "output_type": "stream",
     "text": [
      "      4.00 seconds: ML NNI round 1 of 20, 501 of 1032 splits, 90 changes (max delta 9.422)\n",
      "      4.15 seconds: ML NNI round 1 of 20, 701 of 1032 splits, 120 changes (max delta 9.422)\n"
     ]
    },
    {
     "name": "stderr",
     "output_type": "stream",
     "text": [
      "      4.29 seconds: ML NNI round 1 of 20, 901 of 1032 splits, 153 changes (max delta 10.689)\n",
      "ML-NNI round 1: LogLk = -56448.005 NNIs 177 max delta 10.69 Time 4.40\n",
      "      4.40 seconds: Site likelihoods with rate category 1 of 20\n"
     ]
    },
    {
     "name": "stderr",
     "output_type": "stream",
     "text": [
      "      4.51 seconds: Site likelihoods with rate category 10 of 20\n",
      "      4.62 seconds: Site likelihoods with rate category 19 of 20\n",
      "Switched to using 20 rate categories (CAT approximation)\n",
      "Rate categories were divided by 1.096 so that average rate = 1.0\n",
      "CAT-based log-likelihoods may not be comparable across runs\n",
      "Use -gamma for approximate but comparable Gamma(20) log-likelihoods\n"
     ]
    },
    {
     "name": "stderr",
     "output_type": "stream",
     "text": [
      "      4.73 seconds: ML NNI round 2 of 20, 101 of 1032 splits, 12 changes (max delta 7.405)\n",
      "      4.89 seconds: ML NNI round 2 of 20, 301 of 1032 splits, 36 changes (max delta 7.405)\n"
     ]
    },
    {
     "name": "stderr",
     "output_type": "stream",
     "text": [
      "      5.07 seconds: ML NNI round 2 of 20, 501 of 1032 splits, 59 changes (max delta 7.405)\n",
      "      5.25 seconds: ML NNI round 2 of 20, 701 of 1032 splits, 79 changes (max delta 7.405)\n"
     ]
    },
    {
     "name": "stderr",
     "output_type": "stream",
     "text": [
      "      5.43 seconds: ML NNI round 2 of 20, 901 of 1032 splits, 102 changes (max delta 7.405)\n",
      "ML-NNI round 2: LogLk = -47044.030 NNIs 116 max delta 7.41 Time 5.54\n",
      "      5.54 seconds: ML NNI round 3 of 20, 1 of 1032 splits\n"
     ]
    },
    {
     "name": "stderr",
     "output_type": "stream",
     "text": [
      "      5.70 seconds: ML NNI round 3 of 20, 201 of 1032 splits, 15 changes (max delta 3.832)\n",
      "      5.87 seconds: ML NNI round 3 of 20, 401 of 1032 splits, 22 changes (max delta 3.832)\n"
     ]
    },
    {
     "name": "stderr",
     "output_type": "stream",
     "text": [
      "      6.02 seconds: ML NNI round 3 of 20, 601 of 1032 splits, 31 changes (max delta 5.583)\n",
      "ML-NNI round 3: LogLk = -46996.047 NNIs 38 max delta 5.58 Time 6.14\n",
      "      6.14 seconds: ML NNI round 4 of 20, 1 of 1032 splits\n"
     ]
    },
    {
     "name": "stderr",
     "output_type": "stream",
     "text": [
      "      6.31 seconds: ML NNI round 4 of 20, 201 of 1032 splits, 9 changes (max delta 5.864)\n",
      "      6.47 seconds: ML NNI round 4 of 20, 401 of 1032 splits, 16 changes (max delta 5.864)\n",
      "ML-NNI round 4: LogLk = -46968.162 NNIs 16 max delta 5.86 Time 6.49\n"
     ]
    },
    {
     "name": "stderr",
     "output_type": "stream",
     "text": [
      "      6.57 seconds: ML NNI round 5 of 20, 101 of 1032 splits, 2 changes (max delta 0.000)\n",
      "ML-NNI round 5: LogLk = -46966.618 NNIs 4 max delta 0.67 Time 6.65\n",
      "ML-NNI round 6: LogLk = -46966.582 NNIs 0 max delta 0.00 Time 6.73\n",
      "Turning off heuristics for final round of ML NNIs (converged)\n",
      "      6.72 seconds: ML NNI round 7 of 20, 1 of 1032 splits\n"
     ]
    },
    {
     "name": "stderr",
     "output_type": "stream",
     "text": [
      "      6.88 seconds: ML NNI round 7 of 20, 201 of 1032 splits, 1 changes (max delta 0.119)\n",
      "      7.04 seconds: ML NNI round 7 of 20, 401 of 1032 splits, 1 changes (max delta 0.119)\n"
     ]
    },
    {
     "name": "stderr",
     "output_type": "stream",
     "text": [
      "      7.21 seconds: ML NNI round 7 of 20, 601 of 1032 splits, 1 changes (max delta 0.119)\n",
      "      7.36 seconds: ML NNI round 7 of 20, 801 of 1032 splits, 2 changes (max delta 1.201)\n"
     ]
    },
    {
     "name": "stderr",
     "output_type": "stream",
     "text": [
      "      7.51 seconds: ML NNI round 7 of 20, 1001 of 1032 splits, 3 changes (max delta 1.201)\n",
      "ML-NNI round 7: LogLk = -46963.087 NNIs 4 max delta 1.20 Time 7.54 (final)\n",
      "      7.63 seconds: ML Lengths 401 of 1032 splits\n"
     ]
    },
    {
     "name": "stderr",
     "output_type": "stream",
     "text": [
      "      7.74 seconds: ML Lengths 901 of 1032 splits\n",
      "Optimize all lengths: LogLk = -46962.981 Time 7.78\n",
      "      7.91 seconds: ML split tests for    100 of   1031 internal splits\n"
     ]
    },
    {
     "name": "stderr",
     "output_type": "stream",
     "text": [
      "      8.04 seconds: ML split tests for    200 of   1031 internal splits\n",
      "      8.17 seconds: ML split tests for    300 of   1031 internal splits\n"
     ]
    },
    {
     "name": "stderr",
     "output_type": "stream",
     "text": [
      "      8.31 seconds: ML split tests for    400 of   1031 internal splits\n",
      "      8.44 seconds: ML split tests for    500 of   1031 internal splits\n"
     ]
    },
    {
     "name": "stderr",
     "output_type": "stream",
     "text": [
      "      8.57 seconds: ML split tests for    600 of   1031 internal splits\n",
      "      8.70 seconds: ML split tests for    700 of   1031 internal splits\n"
     ]
    },
    {
     "name": "stderr",
     "output_type": "stream",
     "text": [
      "      8.83 seconds: ML split tests for    800 of   1031 internal splits\n",
      "      8.97 seconds: ML split tests for    900 of   1031 internal splits\n"
     ]
    },
    {
     "name": "stderr",
     "output_type": "stream",
     "text": [
      "      9.10 seconds: ML split tests for   1000 of   1031 internal splits\n",
      "Total time: 9.14 seconds Unique: 1034/1083 Bad splits: 0/1031\n"
     ]
    },
    {
     "name": "stdout",
     "output_type": "stream",
     "text": [
      "{'tree': <TreeNode, name: unnamed, internal node count: 1076, tips count: 1083>}\n",
      "{'tree': <TreeNode, name: unnamed, internal node count: 1076, tips count: 1083>}\n"
     ]
    }
   ],
   "source": [
    "mafft_alignment, mafft_masked_alignment, mafft_tree, mafft_rooted_tree = align_to_tree_mafft_fasttree(\n",
    "    sequences=reps, n_threads=6, )"
   ]
  },
  {
   "cell_type": "markdown",
   "id": "0768d598",
   "metadata": {
    "papermill": {
     "duration": 0.033207,
     "end_time": "2023-10-17T19:42:41.598434",
     "exception": false,
     "start_time": "2023-10-17T19:42:41.565227",
     "status": "completed"
    },
    "tags": []
   },
   "source": [
    "### Compute Alpha Diversity (Phylogeny)\n",
    "- [diversity alpha_phylogenetic](https://docs.qiime2.org/2022.8/plugins/available/diversity/alpha-phylogenetic/): Computes a user-specified phylogenetic alpha diversity metric for all samples in a feature table.\n",
    "- Metrics: Choices ('faith_pd')"
   ]
  },
  {
   "cell_type": "code",
   "execution_count": 11,
   "id": "0383aa19",
   "metadata": {
    "ExecuteTime": {
     "end_time": "2022-09-29T20:54:35.310009Z",
     "start_time": "2022-09-29T20:54:35.141333Z"
    },
    "execution": {
     "iopub.execute_input": "2023-10-17T19:42:41.667460Z",
     "iopub.status.busy": "2023-10-17T19:42:41.667051Z",
     "iopub.status.idle": "2023-10-17T19:42:41.815303Z",
     "shell.execute_reply": "2023-10-17T19:42:41.814728Z"
    },
    "papermill": {
     "duration": 0.185564,
     "end_time": "2023-10-17T19:42:41.817459",
     "exception": false,
     "start_time": "2023-10-17T19:42:41.631895",
     "status": "completed"
    },
    "tags": []
   },
   "outputs": [
    {
     "name": "stdout",
     "output_type": "stream",
     "text": [
      "Calculating alpha diversity: faith_pd\n",
      "{'metric': 'faith_pd', 'table': <artifact: FeatureTable[Frequency] uuid: 071df4d7-51ae-4126-bab5-7fba86edb8d9>, 'phylogeny': <artifact: Phylogeny[Rooted] uuid: aa92f799-027f-4fba-bb39-c24af4c61a52>}\n",
      "{'table': <q2_types.feature_table._format.BIOMV210Format object at 0x7f0381f3a1f0>, 'phylogeny': <q2_types.tree._format.NewickFormat object at 0x7f0381f3a1c0>}\n",
      "{'table': <q2_types.feature_table._format.BIOMV210Format object at 0x7f0381f3a1f0>, 'phylogeny': <q2_types.tree._format.NewickFormat object at 0x7f0381f3a1c0>}\n",
      "DONE: Calculating alpha phylogeny: faith_pd\n"
     ]
    }
   ],
   "source": [
    "metrics = ('faith_pd', )\n",
    "alpha_diversities_phylogenetic = dict()\n",
    "for metric in metrics:\n",
    "    print(f\"Calculating alpha diversity: {metric}\")\n",
    "    try:\n",
    "        alpha_diversity = alpha_phylogenetic(table=tabs, phylogeny=mafft_rooted_tree, metric=metric).alpha_diversity\n",
    "        alpha_diversities_phylogenetic[metric] = alpha_diversity\n",
    "        # Save Artifact\n",
    "        file_path = os.path.join(alpha_path, f'alpha-phylogeny-{metric}.qza')\n",
    "        alpha_diversity.save(file_path)\n",
    "        print(f\"DONE: Calculating alpha phylogeny: {metric}\")\n",
    "    except Exception as e:\n",
    "        print(f\"ERROR: Calculating alpha phylogeny: {metric}\")"
   ]
  },
  {
   "cell_type": "markdown",
   "id": "42db1ead",
   "metadata": {
    "papermill": {
     "duration": 0.033421,
     "end_time": "2023-10-17T19:42:41.889633",
     "exception": false,
     "start_time": "2023-10-17T19:42:41.856212",
     "status": "completed"
    },
    "tags": []
   },
   "source": [
    "- [core-metrics-phylogenetic](https://docs.qiime2.org/2023.7/plugins/available/diversity/core-metrics-phylogenetic/)"
   ]
  },
  {
   "cell_type": "code",
   "execution_count": 12,
   "id": "ef726ab7",
   "metadata": {
    "execution": {
     "iopub.execute_input": "2023-10-17T19:42:41.958006Z",
     "iopub.status.busy": "2023-10-17T19:42:41.957697Z",
     "iopub.status.idle": "2023-10-17T19:42:44.679906Z",
     "shell.execute_reply": "2023-10-17T19:42:44.679311Z"
    },
    "papermill": {
     "duration": 2.75903,
     "end_time": "2023-10-17T19:42:44.682076",
     "exception": false,
     "start_time": "2023-10-17T19:42:41.923046",
     "status": "completed"
    },
    "tags": []
   },
   "outputs": [
    {
     "name": "stdout",
     "output_type": "stream",
     "text": [
      "{'sampling_depth': 34587, 'metadata': Metadata\n",
      "--------\n",
      "11 IDs x 3 columns\n",
      "sample-name: ColumnProperties(type='categorical')\n",
      "group-id:    ColumnProperties(type='categorical')\n",
      "group-desc:  ColumnProperties(type='categorical')\n",
      "\n",
      "Call to_dataframe() for a tabular representation., 'n_jobs_or_threads': 6, 'table': <artifact: FeatureTable[Frequency] uuid: 071df4d7-51ae-4126-bab5-7fba86edb8d9>, 'phylogeny': <artifact: Phylogeny[Rooted] uuid: aa92f799-027f-4fba-bb39-c24af4c61a52>}\n",
      "{'sampling_depth': 34587, 'metadata': Metadata\n",
      "--------\n",
      "11 IDs x 3 columns\n",
      "sample-name: ColumnProperties(type='categorical')\n",
      "group-id:    ColumnProperties(type='categorical')\n",
      "group-desc:  ColumnProperties(type='categorical')\n",
      "\n",
      "Call to_dataframe() for a tabular representation., 'with_replacement': False, 'n_jobs': 6, 'table': <artifact: FeatureTable[Frequency] uuid: 071df4d7-51ae-4126-bab5-7fba86edb8d9>}\n",
      "{'sampling_depth': 34587, 'with_replacement': False, 'table': 1083 x 11 <class 'biom.table.Table'> with 2301 nonzero entries (19% dense)}\n",
      "{'sampling_depth': 34587, 'with_replacement': False, 'table': 1083 x 11 <class 'biom.table.Table'> with 2301 nonzero entries (19% dense)}\n",
      "{'table': 1066 x 11 <class 'biom.table.Table'> with 2256 nonzero entries (19% dense)}\n",
      "{'table': 1066 x 11 <class 'biom.table.Table'> with 2256 nonzero entries (19% dense)}\n",
      "{'drop_undefined_samples': False, 'table': 1066 x 11 <class 'biom.table.Table'> with 2256 nonzero entries (19% dense)}\n",
      "{'drop_undefined_samples': False, 'table': 1066 x 11 <class 'biom.table.Table'> with 2256 nonzero entries (19% dense)}\n"
     ]
    },
    {
     "name": "stdout",
     "output_type": "stream",
     "text": [
      "{'drop_undefined_samples': False, 'table': 1066 x 11 <class 'biom.table.Table'> with 2256 nonzero entries (19% dense)}\n",
      "{'drop_undefined_samples': False, 'table': 1066 x 11 <class 'biom.table.Table'> with 2256 nonzero entries (19% dense)}\n",
      "{'n_jobs': 6, 'table': 1066 x 11 <class 'biom.table.Table'> with 2256 nonzero entries (19% dense)}\n",
      "{'n_jobs': 6, 'table': 1066 x 11 <class 'biom.table.Table'> with 2256 nonzero entries (19% dense)}\n",
      "{'n_jobs': 6, 'table': 1066 x 11 <class 'biom.table.Table'> with 2256 nonzero entries (19% dense)}\n",
      "{'n_jobs': 6, 'table': 1066 x 11 <class 'biom.table.Table'> with 2256 nonzero entries (19% dense)}\n",
      "{'number_of_dimensions': None, 'distance_matrix': <skbio.stats.distance._base.DistanceMatrix object at 0x7f0381f3a1c0>}\n",
      "{'number_of_dimensions': None, 'distance_matrix': <skbio.stats.distance._base.DistanceMatrix object at 0x7f0381f3a1c0>}\n"
     ]
    },
    {
     "name": "stderr",
     "output_type": "stream",
     "text": [
      "/home/lauro/anaconda3/envs/qiime2-2022.2/lib/python3.8/site-packages/sklearn/metrics/pairwise.py:1761: DataConversionWarning: Data was converted to boolean for metric jaccard\n",
      "  warnings.warn(msg, DataConversionWarning)\n"
     ]
    },
    {
     "name": "stdout",
     "output_type": "stream",
     "text": [
      "{'number_of_dimensions': None, 'distance_matrix': <skbio.stats.distance._base.DistanceMatrix object at 0x7f0381fbfdc0>}\n",
      "{'number_of_dimensions': None, 'distance_matrix': <skbio.stats.distance._base.DistanceMatrix object at 0x7f0381fbfdc0>}\n",
      "{'metadata': Metadata\n",
      "--------\n",
      "11 IDs x 3 columns\n",
      "sample-name: ColumnProperties(type='categorical')\n",
      "group-id:    ColumnProperties(type='categorical')\n",
      "group-desc:  ColumnProperties(type='categorical')\n",
      "\n",
      "Call to_dataframe() for a tabular representation., 'custom_axes': None, 'ignore_missing_samples': False, 'ignore_pcoa_features': False, 'pcoa': <skbio.stats.ordination._ordination_results.OrdinationResults object at 0x7f0381f333d0>}\n"
     ]
    },
    {
     "name": "stdout",
     "output_type": "stream",
     "text": [
      "{'metadata': Metadata\n",
      "--------\n",
      "11 IDs x 3 columns\n",
      "sample-name: ColumnProperties(type='categorical')\n",
      "group-id:    ColumnProperties(type='categorical')\n",
      "group-desc:  ColumnProperties(type='categorical')\n",
      "\n",
      "Call to_dataframe() for a tabular representation., 'custom_axes': None, 'ignore_missing_samples': False, 'ignore_pcoa_features': False, 'pcoa': <skbio.stats.ordination._ordination_results.OrdinationResults object at 0x7f0381ebc520>}\n"
     ]
    },
    {
     "name": "stdout",
     "output_type": "stream",
     "text": [
      "{'table': <q2_types.feature_table._format.BIOMV210Format object at 0x7f0380693d60>, 'phylogeny': <q2_types.tree._format.NewickFormat object at 0x7f03820ac220>}\n",
      "{'table': <q2_types.feature_table._format.BIOMV210Format object at 0x7f0380693d60>, 'phylogeny': <q2_types.tree._format.NewickFormat object at 0x7f03820ac220>}\n",
      "{'threads': 6, 'bypass_tips': False, 'table': <q2_types.feature_table._format.BIOMV210Format object at 0x7f0380693dc0>, 'phylogeny': <q2_types.tree._format.NewickFormat object at 0x7f03826445b0>}\n",
      "{'threads': 6, 'bypass_tips': False, 'table': <q2_types.feature_table._format.BIOMV210Format object at 0x7f0380693dc0>, 'phylogeny': <q2_types.tree._format.NewickFormat object at 0x7f03826445b0>}\n",
      "{'threads': 6, 'bypass_tips': False, 'table': <q2_types.feature_table._format.BIOMV210Format object at 0x7f03820ac1f0>, 'phylogeny': <q2_types.tree._format.NewickFormat object at 0x7f03820acc70>}\n",
      "{'threads': 6, 'bypass_tips': False, 'table': <q2_types.feature_table._format.BIOMV210Format object at 0x7f03820ac1f0>, 'phylogeny': <q2_types.tree._format.NewickFormat object at 0x7f03820acc70>}\n"
     ]
    },
    {
     "name": "stdout",
     "output_type": "stream",
     "text": [
      "{'number_of_dimensions': None, 'distance_matrix': <skbio.stats.distance._base.DistanceMatrix object at 0x7f0381f33cd0>}\n",
      "{'number_of_dimensions': None, 'distance_matrix': <skbio.stats.distance._base.DistanceMatrix object at 0x7f0381f33cd0>}\n",
      "{'number_of_dimensions': None, 'distance_matrix': <skbio.stats.distance._base.DistanceMatrix object at 0x7f03820acb80>}\n",
      "{'number_of_dimensions': None, 'distance_matrix': <skbio.stats.distance._base.DistanceMatrix object at 0x7f03820acb80>}\n",
      "{'metadata': Metadata\n",
      "--------\n",
      "11 IDs x 3 columns\n",
      "sample-name: ColumnProperties(type='categorical')\n",
      "group-id:    ColumnProperties(type='categorical')\n",
      "group-desc:  ColumnProperties(type='categorical')\n",
      "\n",
      "Call to_dataframe() for a tabular representation., 'custom_axes': None, 'ignore_missing_samples': False, 'ignore_pcoa_features': False, 'pcoa': <skbio.stats.ordination._ordination_results.OrdinationResults object at 0x7f0381ebe220>}\n",
      "{'metadata': Metadata\n",
      "--------\n",
      "11 IDs x 3 columns\n",
      "sample-name: ColumnProperties(type='categorical')\n",
      "group-id:    ColumnProperties(type='categorical')\n",
      "group-desc:  ColumnProperties(type='categorical')\n",
      "\n",
      "Call to_dataframe() for a tabular representation., 'custom_axes': None, 'ignore_missing_samples': False, 'ignore_pcoa_features': False, 'pcoa': <skbio.stats.ordination._ordination_results.OrdinationResults object at 0x7f037d51a940>}\n"
     ]
    },
    {
     "name": "stderr",
     "output_type": "stream",
     "text": [
      "/home/lauro/anaconda3/envs/qiime2-2022.2/lib/python3.8/site-packages/skbio/stats/ordination/_principal_coordinate_analysis.py:143: RuntimeWarning: The result contains negative eigenvalues. Please compare their magnitude with the magnitude of some of the largest positive eigenvalues. If the negative ones are smaller, it's probably safe to ignore them, but if they are large in magnitude, the results won't be useful. See the Notes section for more details. The smallest eigenvalue is -0.002302081652349521 and the largest is 0.3433916366880238.\n",
      "  warn(\n"
     ]
    }
   ],
   "source": [
    "s_depth = int(tabs.view(pd.DataFrame).sum(axis=1).min())\n",
    "results = core_metrics_phylogenetic(\n",
    "    table = tabs,\n",
    "    phylogeny = mafft_rooted_tree,\n",
    "    sampling_depth = s_depth,\n",
    "    metadata = metadata_qa,\n",
    "    n_jobs_or_threads = 6,\n",
    ")"
   ]
  },
  {
   "cell_type": "code",
   "execution_count": 13,
   "id": "19311218",
   "metadata": {
    "execution": {
     "iopub.execute_input": "2023-10-17T19:42:44.758771Z",
     "iopub.status.busy": "2023-10-17T19:42:44.758092Z",
     "iopub.status.idle": "2023-10-17T19:42:44.767180Z",
     "shell.execute_reply": "2023-10-17T19:42:44.766077Z"
    },
    "papermill": {
     "duration": 0.048385,
     "end_time": "2023-10-17T19:42:44.769198",
     "exception": false,
     "start_time": "2023-10-17T19:42:44.720813",
     "status": "completed"
    },
    "tags": []
   },
   "outputs": [],
   "source": [
    "results_info = [(\"rarefied_table\", \"FeatureTable[Frequency]\", \"The resulting rarefied feature table.\"),\n",
    "(\"faith_pd_vector\", \"SampleData[AlphaDiversity]\", \"Vector of Faith PD values by sample.\"),\n",
    "(\"observed_features_vector\", \"SampleData[AlphaDiversity]\", \"Vector of Observed Features values by sample.\"),\n",
    "(\"shannon_vector\", \"SampleData[AlphaDiversity]\", \"Vector of Shannon diversity values by sample.\"),\n",
    "(\"evenness_vector\", \"SampleData[AlphaDiversity]\", \"Vector of Pielou's evenness values by sample.\"),\n",
    "(\"unweighted_unifrac_distance_matrix\", \"DistanceMatrix\", \"Matrix of unweighted UniFrac distances between pairs of samples.\"),\n",
    "(\"weighted_unifrac_distance_matrix\", \"DistanceMatrix\", \"Matrix of weighted UniFrac distances between pairs of samples.\"),\n",
    "(\"jaccard_distance_matrix\", \"DistanceMatrix\", \"Matrix of Jaccard distances between pairs of samples.\"),\n",
    "(\"bray_curtis_distance_matrix\", \"DistanceMatrix\", \"Matrix of Bray-Curtis distances between pairs of samples.\"),\n",
    "(\"unweighted_unifrac_pcoa_results\", \"PCoAResults\", \"PCoA matrix computed from unweighted UniFrac distances between samples.\"),\n",
    "(\"weighted_unifrac_pcoa_results\", \"PCoAResults\", \"PCoA matrix computed from weighted UniFrac distances between samples.\"),\n",
    "(\"jaccard_pcoa_results\", \"PCoAResults\", \"PCoA matrix computed from Jaccard distances between samples.\"),\n",
    "(\"bray_curtis_pcoa_results\", \"PCoAResults\", \"PCoA matrix computed from Bray-Curtis distances between samples.\"),\n",
    "(\"unweighted_unifrac_emperor\", \"Visualization\", \"Emperor plot of the PCoA matrix computed from unweighted UniFrac.\"),\n",
    "(\"weighted_unifrac_emperor\", \"Visualization\", \"Emperor plot of the PCoA matrix computed from weighted UniFrac.\"),\n",
    "(\"jaccard_emperor\", \"Visualization\", \"Emperor plot of the PCoA matrix computed from Jaccard.\"),\n",
    "(\"bray_curtis_emperor\", \"Visualization\", \"Emperor plot of the PCoA matrix computed from Bray-Curtis.\")]"
   ]
  },
  {
   "cell_type": "code",
   "execution_count": 14,
   "id": "57dcd8e3",
   "metadata": {
    "execution": {
     "iopub.execute_input": "2023-10-17T19:42:44.832393Z",
     "iopub.status.busy": "2023-10-17T19:42:44.832177Z",
     "iopub.status.idle": "2023-10-17T19:42:45.293058Z",
     "shell.execute_reply": "2023-10-17T19:42:45.292269Z"
    },
    "papermill": {
     "duration": 0.494063,
     "end_time": "2023-10-17T19:42:45.294739",
     "exception": false,
     "start_time": "2023-10-17T19:42:44.800676",
     "status": "completed"
    },
    "tags": []
   },
   "outputs": [
    {
     "name": "stdout",
     "output_type": "stream",
     "text": [
      "13 unweighted_unifrac_emperor Visualization\n",
      "--- Emperor plot of the PCoA matrix computed from unweighted UniFrac. ---\n",
      "Saving emperor file at: /home/lauro/nupeb/rede-micro/redemicro-ana-flavia-nutri/experiments/ana-flavia-NCxSTD-NC-trim/qiime-artifacts/beta-analysis/unweighted_unifrac_emperor.qzv\n",
      "\n",
      "14 weighted_unifrac_emperor Visualization\n",
      "--- Emperor plot of the PCoA matrix computed from weighted UniFrac. ---\n",
      "Saving emperor file at: /home/lauro/nupeb/rede-micro/redemicro-ana-flavia-nutri/experiments/ana-flavia-NCxSTD-NC-trim/qiime-artifacts/beta-analysis/weighted_unifrac_emperor.qzv\n",
      "\n"
     ]
    },
    {
     "name": "stdout",
     "output_type": "stream",
     "text": [
      "15 jaccard_emperor Visualization\n",
      "--- Emperor plot of the PCoA matrix computed from Jaccard. ---\n",
      "Saving emperor file at: /home/lauro/nupeb/rede-micro/redemicro-ana-flavia-nutri/experiments/ana-flavia-NCxSTD-NC-trim/qiime-artifacts/beta-analysis/jaccard_emperor.qzv\n",
      "\n",
      "16 bray_curtis_emperor Visualization\n",
      "--- Emperor plot of the PCoA matrix computed from Bray-Curtis. ---\n",
      "Saving emperor file at: /home/lauro/nupeb/rede-micro/redemicro-ana-flavia-nutri/experiments/ana-flavia-NCxSTD-NC-trim/qiime-artifacts/beta-analysis/bray_curtis_emperor.qzv\n",
      "\n"
     ]
    }
   ],
   "source": [
    "for i, info in enumerate(results_info):\n",
    "    r_id, r_type, r_desc = info\n",
    "    #print(i, r_id, r_type)\n",
    "    file_name = f\"{r_id}.qzv\"\n",
    "    if r_type == \"FeatureTable[Frequency]\":\n",
    "        pass\n",
    "    elif r_id.endswith('emperor'):\n",
    "        print(i, r_id, r_type)\n",
    "        print(f\"--- {r_desc} ---\")\n",
    "        file_name = os.path.join(beta_path, file_name)\n",
    "        print(f'Saving emperor file at: {file_name}\\n')\n",
    "        results[i].save(filepath=file_name)"
   ]
  },
  {
   "cell_type": "markdown",
   "id": "c7752cfd",
   "metadata": {
    "papermill": {
     "duration": 0.036859,
     "end_time": "2023-10-17T19:42:45.371080",
     "exception": false,
     "start_time": "2023-10-17T19:42:45.334221",
     "status": "completed"
    },
    "tags": []
   },
   "source": [
    "### Alpha diversity correlation\n",
    "\n",
    "This method only process `numeric` columns.\n"
   ]
  },
  {
   "cell_type": "code",
   "execution_count": 15,
   "id": "2814f613",
   "metadata": {
    "ExecuteTime": {
     "end_time": "2022-09-29T20:54:35.317618Z",
     "start_time": "2022-09-29T20:54:35.312094Z"
    },
    "execution": {
     "iopub.execute_input": "2023-10-17T19:42:45.453124Z",
     "iopub.status.busy": "2023-10-17T19:42:45.452885Z",
     "iopub.status.idle": "2023-10-17T19:42:45.459428Z",
     "shell.execute_reply": "2023-10-17T19:42:45.458802Z"
    },
    "papermill": {
     "duration": 0.049477,
     "end_time": "2023-10-17T19:42:45.460969",
     "exception": false,
     "start_time": "2023-10-17T19:42:45.411492",
     "status": "completed"
    },
    "tags": []
   },
   "outputs": [],
   "source": [
    "methods = ('spearman', 'pearson')\n",
    "numerics_cols = metadata_qa.filter_columns(column_type='numeric')\n",
    "if numerics_cols.column_count > 0:\n",
    "    for metric, alpha_values in alpha_diversities.items():\n",
    "        for method in methods:\n",
    "            try:\n",
    "                corr_view = alpha_correlation(alpha_diversity=alpha_values, metadata=numerics_cols, \n",
    "                                          method=method, intersect_ids=True).visualization\n",
    "                view_path = os.path.join(alpha_path, f'alpha-correlation-{metric}-{method}.qzv')\n",
    "                corr_view.save(view_path)\n",
    "                corr_view\n",
    "                print(f\"DONE: Calculating alpha correlation: {metric} {method}\")\n",
    "            except Exception as e:\n",
    "                print(f\"ERROR: Calculating alpha correlation: {metric} {method}\")"
   ]
  },
  {
   "cell_type": "markdown",
   "id": "8ea83c8a",
   "metadata": {
    "papermill": {
     "duration": 0.037192,
     "end_time": "2023-10-17T19:42:45.537783",
     "exception": false,
     "start_time": "2023-10-17T19:42:45.500591",
     "status": "completed"
    },
    "tags": []
   },
   "source": [
    "## Alpha diversity comparisons\n",
    "\n",
    "Visually and statistically compare groups of alpha diversity values.\n",
    "\n",
    "[diversity alpha_group_significance](https://docs.qiime2.org/2022.8/plugins/available/diversity/alpha-group-significance/)"
   ]
  },
  {
   "cell_type": "code",
   "execution_count": 16,
   "id": "276d1c18",
   "metadata": {
    "ExecuteTime": {
     "end_time": "2022-09-29T20:54:36.089290Z",
     "start_time": "2022-09-29T20:54:35.318963Z"
    },
    "execution": {
     "iopub.execute_input": "2023-10-17T19:42:45.614353Z",
     "iopub.status.busy": "2023-10-17T19:42:45.614128Z",
     "iopub.status.idle": "2023-10-17T19:42:46.266959Z",
     "shell.execute_reply": "2023-10-17T19:42:46.266196Z"
    },
    "papermill": {
     "duration": 0.69038,
     "end_time": "2023-10-17T19:42:46.268494",
     "exception": false,
     "start_time": "2023-10-17T19:42:45.578114",
     "status": "completed"
    },
    "tags": []
   },
   "outputs": [
    {
     "name": "stdout",
     "output_type": "stream",
     "text": [
      "Processing alpha_group_significance: chao1\n",
      "{'metadata': Metadata\n",
      "--------\n",
      "11 IDs x 3 columns\n",
      "sample-name: ColumnProperties(type='categorical')\n",
      "group-id:    ColumnProperties(type='categorical')\n",
      "group-desc:  ColumnProperties(type='categorical')\n",
      "\n",
      "Call to_dataframe() for a tabular representation., 'alpha_diversity': S210421121673    262.0\n",
      "S210421121674    131.0\n",
      "S210421121675    124.0\n",
      "S210421121676    255.0\n",
      "S210421121682    291.0\n",
      "S210421121683    242.0\n",
      "S210421121684    207.0\n",
      "S210421121694    149.0\n",
      "S210421121695    320.0\n",
      "S210421121696    187.0\n",
      "S210421121697    133.0\n",
      "Name: chao1, dtype: float64}\n",
      "DONE: Calculating alpha group significance: chao1\n",
      "Processing alpha_group_significance: chao1_ci\n",
      "ERROR: Calculating alpha group significance: chao1_ci\n",
      "Processing alpha_group_significance: observed_features\n",
      "{'metadata': Metadata\n",
      "--------\n",
      "11 IDs x 3 columns\n",
      "sample-name: ColumnProperties(type='categorical')\n",
      "group-id:    ColumnProperties(type='categorical')\n",
      "group-desc:  ColumnProperties(type='categorical')\n",
      "\n",
      "Call to_dataframe() for a tabular representation., 'alpha_diversity': S210421121673    262\n",
      "S210421121674    131\n",
      "S210421121675    124\n",
      "S210421121676    255\n",
      "S210421121682    291\n",
      "S210421121683    242\n",
      "S210421121684    207\n",
      "S210421121694    149\n",
      "S210421121695    320\n",
      "S210421121696    187\n",
      "S210421121697    133\n",
      "Name: observed_features, dtype: int64}\n"
     ]
    },
    {
     "name": "stdout",
     "output_type": "stream",
     "text": [
      "DONE: Calculating alpha group significance: observed_features\n",
      "Processing alpha_group_significance: shannon\n",
      "{'metadata': Metadata\n",
      "--------\n",
      "11 IDs x 3 columns\n",
      "sample-name: ColumnProperties(type='categorical')\n",
      "group-id:    ColumnProperties(type='categorical')\n",
      "group-desc:  ColumnProperties(type='categorical')\n",
      "\n",
      "Call to_dataframe() for a tabular representation., 'alpha_diversity': S210421121673    5.860846\n",
      "S210421121674    4.435387\n",
      "S210421121675    4.729984\n",
      "S210421121676    4.772633\n",
      "S210421121682    6.126624\n",
      "S210421121683    6.103749\n",
      "S210421121684    4.956948\n",
      "S210421121694    5.689236\n",
      "S210421121695    6.177949\n",
      "S210421121696    5.394384\n",
      "S210421121697    5.432786\n",
      "Name: shannon_entropy, dtype: float64}\n",
      "DONE: Calculating alpha group significance: shannon\n",
      "Processing alpha_group_significance: simpson\n",
      "{'metadata': Metadata\n",
      "--------\n",
      "11 IDs x 3 columns\n",
      "sample-name: ColumnProperties(type='categorical')\n",
      "group-id:    ColumnProperties(type='categorical')\n",
      "group-desc:  ColumnProperties(type='categorical')\n",
      "\n",
      "Call to_dataframe() for a tabular representation., 'alpha_diversity': S210421121673    0.968772\n",
      "S210421121674    0.920051\n",
      "S210421121675    0.932399\n",
      "S210421121676    0.914619\n",
      "S210421121682    0.970384\n",
      "S210421121683    0.973045\n",
      "S210421121684    0.923226\n",
      "S210421121694    0.955916\n",
      "S210421121695    0.969588\n",
      "S210421121696    0.949858\n",
      "S210421121697    0.958294\n",
      "Name: simpson, dtype: float64}\n"
     ]
    },
    {
     "name": "stdout",
     "output_type": "stream",
     "text": [
      "DONE: Calculating alpha group significance: simpson\n",
      "Processing alpha_group_significance: simpson_e\n",
      "{'metadata': Metadata\n",
      "--------\n",
      "11 IDs x 3 columns\n",
      "sample-name: ColumnProperties(type='categorical')\n",
      "group-id:    ColumnProperties(type='categorical')\n",
      "group-desc:  ColumnProperties(type='categorical')\n",
      "\n",
      "Call to_dataframe() for a tabular representation., 'alpha_diversity': S210421121673    0.122225\n",
      "S210421121674    0.095480\n",
      "S210421121675    0.119296\n",
      "S210421121676    0.045930\n",
      "S210421121682    0.116034\n",
      "S210421121683    0.153302\n",
      "S210421121684    0.062924\n",
      "S210421121694    0.152243\n",
      "S210421121695    0.102757\n",
      "S210421121696    0.106649\n",
      "S210421121697    0.180282\n",
      "Name: simpson_e, dtype: float64}\n",
      "DONE: Calculating alpha group significance: simpson_e\n"
     ]
    }
   ],
   "source": [
    "for metric, alpha_values in alpha_diversities.items():\n",
    "    print(f\"Processing alpha_group_significance: {metric}\")\n",
    "    try:\n",
    "        significance_view = alpha_group_significance(alpha_diversity=alpha_values, metadata=metadata_qa).visualization\n",
    "        view_path = os.path.join(alpha_path, f'alpha-group-significance-{metric}.qzv')\n",
    "        significance_view.save(view_path)\n",
    "        significance_view\n",
    "        print(f\"DONE: Calculating alpha group significance: {metric}\")\n",
    "    except Exception as e:\n",
    "        print(f\"ERROR: Calculating alpha group significance: {metric}\")"
   ]
  },
  {
   "cell_type": "markdown",
   "id": "4349d357",
   "metadata": {
    "papermill": {
     "duration": 0.032248,
     "end_time": "2023-10-17T19:42:46.336445",
     "exception": false,
     "start_time": "2023-10-17T19:42:46.304197",
     "status": "completed"
    },
    "tags": []
   },
   "source": [
    "## Beta diversity analysis\n",
    "\n",
    "#### Reference\n",
    "- [diversity beta](https://docs.qiime2.org/2022.8/plugins/available/diversity/beta/): Computes a user-specified beta diversity metric for all pairs of samples in a feature table.\n",
    "- [Beta diversity metrics](http://scikit-bio.org/docs/0.2.0/generated/skbio.diversity.beta.html)\n",
    "\n",
    "- Metric Choices('aitchison', 'braycurtis', 'canberra', 'canberra_adkins', 'chebyshev', 'cityblock', 'correlation', 'cosine', 'dice', 'euclidean', 'hamming', 'jaccard', 'jensenshannon', 'kulsinski', 'matching', 'minkowski', 'rogerstanimoto', 'russellrao', 'seuclidean', 'sokalmichener', 'sokalsneath', 'sqeuclidean', 'yule')"
   ]
  },
  {
   "cell_type": "code",
   "execution_count": 17,
   "id": "f6f358dd",
   "metadata": {
    "ExecuteTime": {
     "end_time": "2022-09-29T20:54:36.335038Z",
     "start_time": "2022-09-29T20:54:36.091288Z"
    },
    "execution": {
     "iopub.execute_input": "2023-10-17T19:42:46.401873Z",
     "iopub.status.busy": "2023-10-17T19:42:46.401650Z",
     "iopub.status.idle": "2023-10-17T19:42:46.944325Z",
     "shell.execute_reply": "2023-10-17T19:42:46.943669Z"
    },
    "papermill": {
     "duration": 0.579205,
     "end_time": "2023-10-17T19:42:46.947618",
     "exception": false,
     "start_time": "2023-10-17T19:42:46.368413",
     "status": "completed"
    },
    "tags": []
   },
   "outputs": [
    {
     "name": "stdout",
     "output_type": "stream",
     "text": [
      "Calculating beta diversity: euclidean\n",
      "{'metric': 'euclidean', 'pseudocount': 1, 'n_jobs': 6, 'table': <artifact: FeatureTable[Frequency] uuid: 071df4d7-51ae-4126-bab5-7fba86edb8d9>}\n",
      "{'metric': 'euclidean', 'pseudocount': 1, 'n_jobs': 6, 'table': 1083 x 11 <class 'biom.table.Table'> with 2301 nonzero entries (19% dense)}\n",
      "{'metric': 'euclidean', 'pseudocount': 1, 'n_jobs': 6, 'table': 1083 x 11 <class 'biom.table.Table'> with 2301 nonzero entries (19% dense)}\n",
      "DONE: Calculating beta diversity: euclidean\n",
      "Calculating beta diversity: dice\n",
      "{'metric': 'dice', 'pseudocount': 1, 'n_jobs': 6, 'table': <artifact: FeatureTable[Frequency] uuid: 071df4d7-51ae-4126-bab5-7fba86edb8d9>}\n",
      "{'metric': 'dice', 'pseudocount': 1, 'n_jobs': 6, 'table': 1083 x 11 <class 'biom.table.Table'> with 2301 nonzero entries (19% dense)}\n",
      "{'metric': 'dice', 'pseudocount': 1, 'n_jobs': 6, 'table': 1083 x 11 <class 'biom.table.Table'> with 2301 nonzero entries (19% dense)}\n"
     ]
    },
    {
     "name": "stderr",
     "output_type": "stream",
     "text": [
      "/home/lauro/anaconda3/envs/qiime2-2022.2/lib/python3.8/site-packages/sklearn/metrics/pairwise.py:1761: DataConversionWarning: Data was converted to boolean for metric dice\n",
      "  warnings.warn(msg, DataConversionWarning)\n"
     ]
    },
    {
     "name": "stdout",
     "output_type": "stream",
     "text": [
      "DONE: Calculating beta diversity: dice\n",
      "Calculating beta diversity: braycurtis\n",
      "{'metric': 'braycurtis', 'pseudocount': 1, 'n_jobs': 6, 'table': <artifact: FeatureTable[Frequency] uuid: 071df4d7-51ae-4126-bab5-7fba86edb8d9>}\n",
      "{'n_jobs': 6, 'table': 1083 x 11 <class 'biom.table.Table'> with 2301 nonzero entries (19% dense)}\n",
      "{'n_jobs': 6, 'table': 1083 x 11 <class 'biom.table.Table'> with 2301 nonzero entries (19% dense)}\n",
      "DONE: Calculating beta diversity: braycurtis\n",
      "Calculating beta diversity: correlation\n",
      "{'metric': 'correlation', 'pseudocount': 1, 'n_jobs': 6, 'table': <artifact: FeatureTable[Frequency] uuid: 071df4d7-51ae-4126-bab5-7fba86edb8d9>}\n",
      "{'metric': 'correlation', 'pseudocount': 1, 'n_jobs': 6, 'table': 1083 x 11 <class 'biom.table.Table'> with 2301 nonzero entries (19% dense)}\n",
      "{'metric': 'correlation', 'pseudocount': 1, 'n_jobs': 6, 'table': 1083 x 11 <class 'biom.table.Table'> with 2301 nonzero entries (19% dense)}\n",
      "ERROR: Calculating beta diversity: correlation\n",
      "Calculating beta diversity: cosine\n",
      "{'metric': 'cosine', 'pseudocount': 1, 'n_jobs': 6, 'table': <artifact: FeatureTable[Frequency] uuid: 071df4d7-51ae-4126-bab5-7fba86edb8d9>}\n",
      "{'metric': 'cosine', 'pseudocount': 1, 'n_jobs': 6, 'table': 1083 x 11 <class 'biom.table.Table'> with 2301 nonzero entries (19% dense)}\n",
      "{'metric': 'cosine', 'pseudocount': 1, 'n_jobs': 6, 'table': 1083 x 11 <class 'biom.table.Table'> with 2301 nonzero entries (19% dense)}\n",
      "ERROR: Calculating beta diversity: cosine\n",
      "Calculating beta diversity: matching\n",
      "{'metric': 'matching', 'pseudocount': 1, 'n_jobs': 6, 'table': <artifact: FeatureTable[Frequency] uuid: 071df4d7-51ae-4126-bab5-7fba86edb8d9>}\n",
      "{'metric': 'matching', 'pseudocount': 1, 'n_jobs': 6, 'table': 1083 x 11 <class 'biom.table.Table'> with 2301 nonzero entries (19% dense)}\n",
      "{'metric': 'matching', 'pseudocount': 1, 'n_jobs': 6, 'table': 1083 x 11 <class 'biom.table.Table'> with 2301 nonzero entries (19% dense)}\n"
     ]
    },
    {
     "name": "stdout",
     "output_type": "stream",
     "text": [
      "DONE: Calculating beta diversity: matching\n",
      "Calculating beta diversity: jaccard\n",
      "{'metric': 'jaccard', 'pseudocount': 1, 'n_jobs': 6, 'table': <artifact: FeatureTable[Frequency] uuid: 071df4d7-51ae-4126-bab5-7fba86edb8d9>}\n",
      "{'n_jobs': 6, 'table': 1083 x 11 <class 'biom.table.Table'> with 2301 nonzero entries (19% dense)}\n",
      "{'n_jobs': 6, 'table': 1083 x 11 <class 'biom.table.Table'> with 2301 nonzero entries (19% dense)}\n",
      "DONE: Calculating beta diversity: jaccard\n"
     ]
    },
    {
     "name": "stderr",
     "output_type": "stream",
     "text": [
      "/home/lauro/anaconda3/envs/qiime2-2022.2/lib/python3.8/site-packages/sklearn/metrics/pairwise.py:1761: DataConversionWarning: Data was converted to boolean for metric matching\n",
      "  warnings.warn(msg, DataConversionWarning)\n",
      "/home/lauro/anaconda3/envs/qiime2-2022.2/lib/python3.8/site-packages/sklearn/metrics/pairwise.py:1761: DataConversionWarning: Data was converted to boolean for metric jaccard\n",
      "  warnings.warn(msg, DataConversionWarning)\n"
     ]
    }
   ],
   "source": [
    "metrics = ('aitchison', 'braycurtis', 'canberra', 'canberra_adkins', 'chebyshev', 'cityblock', 'correlation', 'cosine', 'dice', 'euclidean', 'hamming', 'jaccard', 'jensenshannon', 'kulsinski', 'matching', 'minkowski', 'rogerstanimoto', 'russellrao', 'seuclidean', 'sokalmichener', 'sokalsneath', 'sqeuclidean', 'yule')\n",
    "metrics = ('euclidean', 'dice', 'braycurtis', 'correlation', 'cosine', 'matching', 'jaccard')\n",
    "beta_diversities = dict()\n",
    "for metric in metrics:\n",
    "    print(f\"Calculating beta diversity: {metric}\")\n",
    "    try:\n",
    "        beta_diversity = beta(table=tabs, metric=metric, n_jobs=6, pseudocount=1).distance_matrix\n",
    "        beta_diversities[metric] = beta_diversity\n",
    "        # Save SampleData[BetaDiversity] Artifact\n",
    "        file_path = os.path.join(beta_path, f'beta-values-{metric}.qza')\n",
    "        beta_diversity.save(file_path)\n",
    "        print(f\"DONE: Calculating beta diversity: {metric}\")\n",
    "    except Exception as e:\n",
    "        print(f\"ERROR: Calculating beta diversity: {metric}\")"
   ]
  },
  {
   "cell_type": "markdown",
   "id": "200a2fa7",
   "metadata": {
    "papermill": {
     "duration": 0.080833,
     "end_time": "2023-10-17T19:42:47.083347",
     "exception": false,
     "start_time": "2023-10-17T19:42:47.002514",
     "status": "completed"
    },
    "tags": []
   },
   "source": [
    "### Beta group significance\n",
    "\n",
    "- [diversity beta_group_significance](https://docs.qiime2.org/2022.8/plugins/available/diversity/beta-group-significance/): Determine whether groups of samples are significantly different from one another using a permutation-based statistical test.\n",
    "- Marti J Anderson. A new method for non-parametric multivariate analysis of variance. Austral ecology, 26(1):32–46, 2001. doi:https://doi.org/10.1111/j.1442-9993.2001.01070.pp.x."
   ]
  },
  {
   "cell_type": "code",
   "execution_count": 18,
   "id": "b8dd42b6",
   "metadata": {
    "ExecuteTime": {
     "end_time": "2022-09-29T20:55:08.313860Z",
     "start_time": "2022-09-29T20:54:36.336993Z"
    },
    "execution": {
     "iopub.execute_input": "2023-10-17T19:42:47.253387Z",
     "iopub.status.busy": "2023-10-17T19:42:47.252882Z"
    },
    "papermill": {
     "duration": 4.641408,
     "end_time": "2023-10-17T19:42:51.809251",
     "exception": false,
     "start_time": "2023-10-17T19:42:47.167843",
     "status": "completed"
    },
    "tags": []
   },
   "outputs": [
    {
     "name": "stdout",
     "output_type": "stream",
     "text": [
      "Calculating beta group significance with method permanova and metric euclidean\n",
      "{'metadata': <CategoricalMetadataColumn name='group-id' id_count=11>, 'method': 'permanova', 'pairwise': True, 'permutations': 999, 'distance_matrix': <skbio.stats.distance._base.DistanceMatrix object at 0x7f0381f3ad30>}\n"
     ]
    },
    {
     "name": "stdout",
     "output_type": "stream",
     "text": [
      "DONE: Calculating beta group significance: permanova euclidean\n",
      "Calculating beta group significance with method permanova and metric dice\n",
      "{'metadata': <CategoricalMetadataColumn name='group-id' id_count=11>, 'method': 'permanova', 'pairwise': True, 'permutations': 999, 'distance_matrix': <skbio.stats.distance._base.DistanceMatrix object at 0x7f0382206ca0>}\n"
     ]
    },
    {
     "name": "stdout",
     "output_type": "stream",
     "text": [
      "DONE: Calculating beta group significance: permanova dice\n",
      "Calculating beta group significance with method permanova and metric braycurtis\n",
      "{'metadata': <CategoricalMetadataColumn name='group-id' id_count=11>, 'method': 'permanova', 'pairwise': True, 'permutations': 999, 'distance_matrix': <skbio.stats.distance._base.DistanceMatrix object at 0x7f0382be45b0>}\n"
     ]
    },
    {
     "name": "stdout",
     "output_type": "stream",
     "text": [
      "DONE: Calculating beta group significance: permanova braycurtis\n",
      "Calculating beta group significance with method permanova and metric matching\n",
      "{'metadata': <CategoricalMetadataColumn name='group-id' id_count=11>, 'method': 'permanova', 'pairwise': True, 'permutations': 999, 'distance_matrix': <skbio.stats.distance._base.DistanceMatrix object at 0x7f03826440d0>}\n"
     ]
    },
    {
     "name": "stdout",
     "output_type": "stream",
     "text": [
      "DONE: Calculating beta group significance: permanova matching\n",
      "Calculating beta group significance with method permanova and metric jaccard\n",
      "{'metadata': <CategoricalMetadataColumn name='group-id' id_count=11>, 'method': 'permanova', 'pairwise': True, 'permutations': 999, 'distance_matrix': <skbio.stats.distance._base.DistanceMatrix object at 0x7f03833c89d0>}\n"
     ]
    },
    {
     "name": "stdout",
     "output_type": "stream",
     "text": [
      "DONE: Calculating beta group significance: permanova jaccard\n",
      "Calculating beta group significance with method anosim and metric euclidean\n",
      "{'metadata': <CategoricalMetadataColumn name='group-id' id_count=11>, 'method': 'anosim', 'pairwise': True, 'permutations': 999, 'distance_matrix': <skbio.stats.distance._base.DistanceMatrix object at 0x7f0383556f40>}\n"
     ]
    },
    {
     "name": "stdout",
     "output_type": "stream",
     "text": [
      "DONE: Calculating beta group significance: anosim euclidean\n",
      "Calculating beta group significance with method anosim and metric dice\n",
      "{'metadata': <CategoricalMetadataColumn name='group-id' id_count=11>, 'method': 'anosim', 'pairwise': True, 'permutations': 999, 'distance_matrix': <skbio.stats.distance._base.DistanceMatrix object at 0x7f0382a21040>}\n"
     ]
    },
    {
     "name": "stdout",
     "output_type": "stream",
     "text": [
      "DONE: Calculating beta group significance: anosim dice\n",
      "Calculating beta group significance with method anosim and metric braycurtis\n",
      "{'metadata': <CategoricalMetadataColumn name='group-id' id_count=11>, 'method': 'anosim', 'pairwise': True, 'permutations': 999, 'distance_matrix': <skbio.stats.distance._base.DistanceMatrix object at 0x7f03829181f0>}\n"
     ]
    },
    {
     "name": "stdout",
     "output_type": "stream",
     "text": [
      "DONE: Calculating beta group significance: anosim braycurtis\n",
      "Calculating beta group significance with method anosim and metric matching\n",
      "{'metadata': <CategoricalMetadataColumn name='group-id' id_count=11>, 'method': 'anosim', 'pairwise': True, 'permutations': 999, 'distance_matrix': <skbio.stats.distance._base.DistanceMatrix object at 0x7f0382a2e3a0>}\n"
     ]
    },
    {
     "name": "stdout",
     "output_type": "stream",
     "text": [
      "DONE: Calculating beta group significance: anosim matching\n",
      "Calculating beta group significance with method anosim and metric jaccard\n",
      "{'metadata': <CategoricalMetadataColumn name='group-id' id_count=11>, 'method': 'anosim', 'pairwise': True, 'permutations': 999, 'distance_matrix': <skbio.stats.distance._base.DistanceMatrix object at 0x7f03834020a0>}\n"
     ]
    }
   ],
   "source": [
    "methods = ('permanova', 'anosim', 'permdisp')\n",
    "for method in methods:\n",
    "    for metric, beta_diversity in beta_diversities.items():\n",
    "        print(f'Calculating beta group significance with method {method} and metric {metric}')\n",
    "        try:\n",
    "            beta_view = beta_group_significance(distance_matrix=beta_diversity, \n",
    "                                                metadata=metadata_qa.get_column(class_col), \n",
    "                                                pairwise=True, method=method).visualization\n",
    "            view_name = os.path.join(beta_path, f'beta-group-significance-{metric}-{method}.qzv')\n",
    "            beta_view.save(view_name)\n",
    "            print(f\"DONE: Calculating beta group significance: {method} {metric}\")\n",
    "        except Exception as e:\n",
    "            print(f\"ERROR: Calculating beta group significance: {method} {metric}\")"
   ]
  },
  {
   "cell_type": "markdown",
   "id": "c0de85cf",
   "metadata": {
    "papermill": {
     "duration": null,
     "end_time": null,
     "exception": null,
     "start_time": null,
     "status": "completed"
    },
    "tags": []
   },
   "source": [
    "### Beta group Rarefaction\n",
    "\n",
    "- [diversity beta_rarefaction](https://docs.qiime2.org/2022.8/plugins/available/diversity/beta-rarefaction/): Repeatedly rarefy a feature table to compare beta diversity results within a given rarefaction depth.  For a given beta diversity metric, this visualizer will provide: an Emperor jackknifed PCoA plot, samples clustered by UPGMA or neighbor joining with support calculation, and a heatmap showing the correlation between rarefaction trials of that beta diversity metric."
   ]
  }
 ],
 "metadata": {
  "celltoolbar": "Edit Metadata",
  "kernelspec": {
   "display_name": "Python 3 (ipykernel)",
   "language": "python",
   "name": "python3"
  },
  "language_info": {
   "codemirror_mode": {
    "name": "ipython",
    "version": 3
   },
   "file_extension": ".py",
   "mimetype": "text/x-python",
   "name": "python",
   "nbconvert_exporter": "python",
   "pygments_lexer": "ipython3",
   "version": "3.8.12"
  },
  "papermill": {
   "default_parameters": {},
   "duration": 42.413853,
   "end_time": "2023-10-17T19:42:53.425547",
   "environment_variables": {},
   "exception": null,
   "input_path": "microbiom/nb-templates/step-diversity-analysis.ipynb",
   "output_path": "/home/lauro/nupeb/rede-micro/redemicro-ana-flavia-nutri/experiments/ana-flavia-NCxSTD-NC-trim/nb-executed-steps/step-diversity-analysis-ana-flavia-NCxSTD-NC-trim.ipynb",
   "parameters": {
    "base_dir": "/home/lauro/nupeb/rede-micro/redemicro-ana-flavia-nutri",
    "class_col": "group-id",
    "classifier_file": "/home/lauro/nupeb/rede-micro/models/silva-138-99-nb-classifier.qza",
    "experiment_name": "ana-flavia-NCxSTD-NC-trim",
    "manifest_file": "/home/lauro/nupeb/rede-micro/redemicro-ana-flavia-nutri/data/raw/manifest/manifest-ana-flavia-NCxSTD-NC.csv",
    "metadata_file": "/home/lauro/nupeb/rede-micro/redemicro-ana-flavia-nutri/data/raw/metadata/metadata-ana-flavia-NCxSTD-NC.tsv",
    "overlap": 12,
    "phred": 20,
    "replace_files": false,
    "threads": 6,
    "top_n": 20,
    "trim": {
     "forward_primer": "CCTACGGGRSGCAGCAG",
     "overlap": 8,
     "reverse_primer": "GGACTACHVGGGTWTCTAAT"
    },
    "trunc_f": 0,
    "trunc_r": 0
   },
   "start_time": "2023-10-17T19:42:11.011694",
   "version": "2.3.4"
  }
 },
 "nbformat": 4,
 "nbformat_minor": 5
}