{
 "cells": [
  {
   "cell_type": "markdown",
   "id": "15bcfa06",
   "metadata": {
    "papermill": {
     "duration": 0.022339,
     "end_time": "2023-08-23T20:04:23.593487",
     "exception": false,
     "start_time": "2023-08-23T20:04:23.571148",
     "status": "completed"
    },
    "tags": []
   },
   "source": [
    " \n",
    "# Alpha and Beta Diversity\n",
    "\n",
    "Different higher-level measures are often used to describe the microbiome in a sample. These do not provide information on changes in the abundance of specific taxa but allow us to access a broader change or difference in the composition of microorganisms. Alpha and beta diversity are examples of such measures.\n",
    "\n",
    "Different measures exist to estimate diversity within a single sample, jointly called alpha diversity. The different measures reflect the richness (number) or distribution (evenness) of a microbial sample or aim to reflect a combination of both properties.\n",
    "\n",
    "Rarefaction curves are often used when calculating alpha diversity indices because increasing numbers of sequenced taxa allow increasingly accurate estimates of total population diversity. Rarefaction curves can therefore be used to estimate the full sample richness, as compared to the observed sample richness.\n",
    "\n",
    "While alpha diversity is a measure of microbiome diversity applicable to a single sample, beta diversity is a measure of the similarity or dissimilarity of two communities. As for alpha diversity, many indices exist, each reflecting different aspects of community heterogeneity. Key differences relate to how the indices value variation in rare species if they consider presence/absence only or incorporate abundance, and how they interpret shared absence. Bray-Curtis dissimilarity is a popular measure that considers both size (overall abundance per sample) and shape (abundance of each taxon) of the communities (Bray, 1957). Beta diversity is an essential measure for many popular statistical methods in ecology, such as ordination-based methods, and is widely used for studying the association between environmental variables and microbial composition.\n",
    "\n",
    "In summary, alpha diversity measures can be seen as a summary statistic of a single population (within-sample diversity), while beta diversity measures are estimates of similarity or dissimilarity between populations (between samples).\n",
    "\n",
    "**Source**: (https://biomcare.com/info/key-terms-in-microbiome-projects/)"
   ]
  },
  {
   "cell_type": "markdown",
   "id": "0e7f2330",
   "metadata": {
    "ExecuteTime": {
     "end_time": "2022-09-22T19:36:33.828188Z",
     "start_time": "2022-09-22T19:36:33.817323Z"
    },
    "papermill": {
     "duration": 0.014935,
     "end_time": "2023-08-23T20:04:23.624082",
     "exception": false,
     "start_time": "2023-08-23T20:04:23.609147",
     "status": "completed"
    },
    "tags": []
   },
   "source": [
    "### STEP : Diversity Analysis\n",
    "\n",
    "Using QIIME2 to create diversity analisys graphs and calculations.\n",
    "\n",
    "- [QIIME2 Workflow Overview](https://docs.qiime2.org/2022.8/tutorials/overview/)\n",
    "\n",
    "\n",
    "#### Methods\n",
    "- [diversity](https://docs.qiime2.org/2022.8/plugins/available/diversity/)\n",
    "- [diversity alpha](https://docs.qiime2.org/2022.8/plugins/available/diversity/alpha/)\n",
    "- [diversity alpha_phylogenetic](https://docs.qiime2.org/2022.8/plugins/available/diversity/alpha-phylogenetic/)\n",
    "- [diversity beta](https://docs.qiime2.org/2022.8/plugins/available/diversity/beta/)\n",
    "- [diversity core_metrics](https://docs.qiime2.org/2022.8/plugins/available/diversity/core-metrics/)\n",
    "- [diversity alpha_group_significance](https://docs.qiime2.org/2022.8/plugins/available/diversity/alpha-group-significance/)\n",
    "- [diversity beta_group_significance](https://docs.qiime2.org/2022.8/plugins/available/diversity/beta-group-significance/)\n",
    "- [feature_table core_features](https://docs.qiime2.org/2022.8/plugins/available/feature-table/core-features/)\n",
    "- [feature_table summarize](https://docs.qiime2.org/2022.8/plugins/available/feature-table/summarize/)\n",
    "- [taxa filter-table](https://docs.qiime2.org/2022.8/plugins/available/taxa/filter-table/)\n",
    "- [taxa collapse](https://docs.qiime2.org/2022.8/plugins/available/taxa/collapse/)"
   ]
  },
  {
   "cell_type": "markdown",
   "id": "843debbf",
   "metadata": {
    "papermill": {
     "duration": 0.014125,
     "end_time": "2023-08-23T20:04:23.652434",
     "exception": false,
     "start_time": "2023-08-23T20:04:23.638309",
     "status": "completed"
    },
    "tags": []
   },
   "source": [
    "## Setup and settings"
   ]
  },
  {
   "cell_type": "code",
   "execution_count": 10,
   "id": "965e28e5",
   "metadata": {
    "ExecuteTime": {
     "end_time": "2023-08-25T16:28:28.741934Z",
     "start_time": "2023-08-25T16:28:28.728519Z"
    },
    "execution": {
     "iopub.execute_input": "2023-08-23T20:04:23.681811Z",
     "iopub.status.busy": "2023-08-23T20:04:23.681231Z",
     "iopub.status.idle": "2023-08-23T20:04:39.922535Z",
     "shell.execute_reply": "2023-08-23T20:04:39.921613Z"
    },
    "papermill": {
     "duration": 16.259489,
     "end_time": "2023-08-23T20:04:39.925932",
     "exception": false,
     "start_time": "2023-08-23T20:04:23.666443",
     "status": "completed"
    },
    "tags": []
   },
   "outputs": [],
   "source": [
    "# Importing packages\n",
    "import os\n",
    "import pandas as pd\n",
    "from qiime2 import Artifact\n",
    "from qiime2 import Visualization\n",
    "from qiime2 import Metadata\n",
    "\n",
    "from qiime2.plugins.phylogeny.pipelines import align_to_tree_mafft_fasttree\n",
    "\n",
    "from qiime2.plugins.diversity.pipelines import alpha\n",
    "from qiime2.plugins.diversity.pipelines import beta\n",
    "from qiime2.plugins.diversity.pipelines import core_metrics\n",
    "from qiime2.plugins.diversity.pipelines import alpha_phylogenetic\n",
    "\n",
    "from qiime2.plugins.diversity.visualizers import alpha_group_significance\n",
    "from qiime2.plugins.diversity.visualizers import beta_group_significance\n",
    "from qiime2.plugins.diversity.visualizers import alpha_correlation\n",
    "from qiime2.plugins.diversity.visualizers import beta_rarefaction\n",
    "\n",
    "from qiime2.plugins.taxa.methods import filter_table\n",
    "from qiime2.plugins.taxa.methods import collapse\n",
    "\n",
    "from qiime2.plugins.feature_table.visualizers import tabulate_seqs\n",
    "from qiime2.plugins.feature_table.visualizers import summarize\n",
    "from qiime2.plugins.feature_table.visualizers import core_features\n",
    "from qiime2.plugins.diversity.pipelines import core_metrics_phylogenetic\n",
    "\n",
    "from qiime2.plugins.feature_table.methods import filter_samples\n",
    "from qiime2.plugins.feature_table.methods import filter_seqs\n",
    "\n",
    "from qiime2.plugins.alignment.methods import mafft\n",
    "\n",
    "\n",
    "import matplotlib.pyplot as plt\n",
    "\n",
    "%matplotlib inline"
   ]
  },
  {
   "cell_type": "markdown",
   "id": "530ceb60",
   "metadata": {
    "papermill": {
     "duration": 0.03115,
     "end_time": "2023-08-23T20:04:39.980976",
     "exception": false,
     "start_time": "2023-08-23T20:04:39.949826",
     "status": "completed"
    },
    "tags": []
   },
   "source": [
    "### Receiving the parameters\n",
    "\n",
    "The following cell can receive parameters using the [papermill](https://papermill.readthedocs.io/en/latest/) tool."
   ]
  },
  {
   "cell_type": "code",
   "execution_count": 2,
   "id": "18d874ea",
   "metadata": {
    "ExecuteTime": {
     "end_time": "2023-08-25T16:27:24.499879Z",
     "start_time": "2023-08-25T16:27:24.497032Z"
    },
    "execution": {
     "iopub.execute_input": "2023-08-23T20:04:40.048255Z",
     "iopub.status.busy": "2023-08-23T20:04:40.047516Z",
     "iopub.status.idle": "2023-08-23T20:04:40.053972Z",
     "shell.execute_reply": "2023-08-23T20:04:40.053017Z"
    },
    "papermill": {
     "duration": 0.045465,
     "end_time": "2023-08-23T20:04:40.056895",
     "exception": false,
     "start_time": "2023-08-23T20:04:40.011430",
     "status": "completed"
    },
    "tags": [
     "parameters"
    ]
   },
   "outputs": [],
   "source": [
    "base_dir = os.path.join('/', 'home')\n",
    "metadata_file = os.path.abspath(os.path.join(base_dir, 'data', 'metadatada.tsv'))\n",
    "experiment_name = ''\n",
    "class_col = ''\n",
    "replace_files = False"
   ]
  },
  {
   "cell_type": "code",
   "execution_count": 3,
   "id": "93566eb0",
   "metadata": {
    "ExecuteTime": {
     "end_time": "2023-08-25T16:27:24.512660Z",
     "start_time": "2023-08-25T16:27:24.501172Z"
    },
    "execution": {
     "iopub.execute_input": "2023-08-23T20:04:40.095649Z",
     "iopub.status.busy": "2023-08-23T20:04:40.095127Z",
     "iopub.status.idle": "2023-08-23T20:04:40.102629Z",
     "shell.execute_reply": "2023-08-23T20:04:40.101820Z"
    },
    "papermill": {
     "duration": 0.027136,
     "end_time": "2023-08-23T20:04:40.104282",
     "exception": false,
     "start_time": "2023-08-23T20:04:40.077146",
     "status": "completed"
    },
    "tags": [
     "injected-parameters"
    ]
   },
   "outputs": [],
   "source": [
    "# Parameters\n",
    "experiment_name = \"ana-flavia-NCxSTD-NC-trim\"\n",
    "base_dir = \"/home/lauro/nupeb/rede-micro/redemicro-ana-flavia-nutri\"\n",
    "manifest_file = \"/home/lauro/nupeb/rede-micro/redemicro-ana-flavia-nutri/data/raw/manifest/manifest-ana-flavia-NCxSTD-NC.csv\"\n",
    "metadata_file = \"/home/lauro/nupeb/rede-micro/redemicro-ana-flavia-nutri/data/raw/metadata/metadata-ana-flavia-NCxSTD-NC.tsv\"\n",
    "class_col = \"group-id\"\n",
    "classifier_file = \"/home/lauro/nupeb/rede-micro/models/silva-138-99-nb-classifier.qza\"\n",
    "top_n = 20\n",
    "replace_files = False\n",
    "phred = 20\n",
    "trunc_f = 0\n",
    "trunc_r = 0\n",
    "overlap = 12\n",
    "threads = 6\n",
    "trim = {\n",
    "    \"overlap\": 8,\n",
    "    \"forward_primer\": \"CCTACGGGRSGCAGCAG\",\n",
    "    \"reverse_primer\": \"GGACTACHVGGGTWTCTAAT\",\n",
    "}\n"
   ]
  },
  {
   "cell_type": "code",
   "execution_count": 4,
   "id": "f38617d9",
   "metadata": {
    "ExecuteTime": {
     "end_time": "2023-08-25T16:27:24.526177Z",
     "start_time": "2023-08-25T16:27:24.514586Z"
    },
    "execution": {
     "iopub.execute_input": "2023-08-23T20:04:40.141191Z",
     "iopub.status.busy": "2023-08-23T20:04:40.140781Z",
     "iopub.status.idle": "2023-08-23T20:04:40.145878Z",
     "shell.execute_reply": "2023-08-23T20:04:40.145011Z"
    },
    "papermill": {
     "duration": 0.024051,
     "end_time": "2023-08-23T20:04:40.147539",
     "exception": false,
     "start_time": "2023-08-23T20:04:40.123488",
     "status": "completed"
    },
    "tags": []
   },
   "outputs": [],
   "source": [
    "experiment_folder = os.path.abspath(os.path.join(base_dir, 'experiments', experiment_name))\n",
    "img_folder = os.path.abspath(os.path.join(experiment_folder, 'imgs'))"
   ]
  },
  {
   "cell_type": "markdown",
   "id": "ea9b90fb",
   "metadata": {
    "papermill": {
     "duration": 0.015947,
     "end_time": "2023-08-23T20:04:40.180898",
     "exception": false,
     "start_time": "2023-08-23T20:04:40.164951",
     "status": "completed"
    },
    "tags": []
   },
   "source": [
    "### Defining names, paths and flags"
   ]
  },
  {
   "cell_type": "code",
   "execution_count": 5,
   "id": "45727eef",
   "metadata": {
    "ExecuteTime": {
     "end_time": "2023-08-25T16:27:24.546750Z",
     "start_time": "2023-08-25T16:27:24.527484Z"
    },
    "execution": {
     "iopub.execute_input": "2023-08-23T20:04:40.214130Z",
     "iopub.status.busy": "2023-08-23T20:04:40.213690Z",
     "iopub.status.idle": "2023-08-23T20:04:40.225306Z",
     "shell.execute_reply": "2023-08-23T20:04:40.224731Z"
    },
    "papermill": {
     "duration": 0.030017,
     "end_time": "2023-08-23T20:04:40.227059",
     "exception": false,
     "start_time": "2023-08-23T20:04:40.197042",
     "status": "completed"
    },
    "tags": []
   },
   "outputs": [],
   "source": [
    "# QIIME2 Artifacts folder\n",
    "qiime_folder = os.path.join(experiment_folder, 'qiime-artifacts')\n",
    "\n",
    "# Input - DADA2 Artifacts\n",
    "dada2_tabs_path = os.path.join(qiime_folder, 'dada2-tabs.qza')\n",
    "dada2_reps_path = os.path.join(qiime_folder, 'dada2-reps.qza')\n",
    "dada2_stat_path = os.path.join(qiime_folder, 'dada2-stat.qza')\n",
    "\n",
    "# Input - Taxonaomic Artifacts\n",
    "taxonomy_path = os.path.join(qiime_folder, 'metatax.qza')\n",
    "\n",
    "# Create folder to store Alpha files\n",
    "alpha_path = os.path.join(qiime_folder, 'alpha-analysis')\n",
    "if not os.path.exists(alpha_path):\n",
    "    os.makedirs(alpha_path)\n",
    "    print(f'The new directory is created in {alpha_path}')\n",
    "    \n",
    "# Create folder to store Beta files\n",
    "beta_path = os.path.join(qiime_folder, 'beta-analysis')\n",
    "if not os.path.exists(beta_path):\n",
    "    os.makedirs(beta_path)\n",
    "    print(f'The new directory is created in {beta_path}')\n",
    "\n",
    "# Output -Diversity Artifacts\n",
    "alpha_diversity_path = os.path.join(alpha_path, 'alpha-diversity.qza')\n",
    "alpha_diversity_view_path = os.path.join(alpha_path, 'alpha-diversity.qzv')\n",
    "beta_diversity_path = os.path.join(beta_path, 'beta-diversity.qza')\n",
    "beta_diversity_view_path = os.path.join(beta_path, 'beta-diversity.qzv')"
   ]
  },
  {
   "cell_type": "code",
   "execution_count": 6,
   "id": "601ae263",
   "metadata": {
    "ExecuteTime": {
     "end_time": "2023-08-25T16:27:24.559920Z",
     "start_time": "2023-08-25T16:27:24.547995Z"
    },
    "execution": {
     "iopub.execute_input": "2023-08-23T20:04:40.262563Z",
     "iopub.status.busy": "2023-08-23T20:04:40.262308Z",
     "iopub.status.idle": "2023-08-23T20:04:40.269411Z",
     "shell.execute_reply": "2023-08-23T20:04:40.268679Z"
    },
    "papermill": {
     "duration": 0.024874,
     "end_time": "2023-08-23T20:04:40.270879",
     "exception": false,
     "start_time": "2023-08-23T20:04:40.246005",
     "status": "completed"
    },
    "tags": []
   },
   "outputs": [],
   "source": [
    "def filter_and_collapse(tab, seqs, tax, meta, lvl, exclude=True, exclude_list='uncultured,unidentified,metagenome'):\n",
    "    from qiime2.plugins.taxa.methods import collapse\n",
    "    from qiime2.plugins.taxa.methods import filter_table\n",
    "    from qiime2.plugins.feature_table.methods import filter_seqs\n",
    "    from qiime2.plugins.feature_table.visualizers import summarize\n",
    "    \n",
    "    to_include = ('d', 'p', 'c', 'o', 'f', 'g', 's')[lvl-1]\n",
    "    to_include += '__'\n",
    "    to_exclude = exclude_list if exclude else None\n",
    "    \n",
    "    filtered_tabs = filter_table(\n",
    "        table=tab, \n",
    "        taxonomy=tax,\n",
    "        include=to_include,\n",
    "        exclude=to_exclude,\n",
    "        mode='contains').filtered_table\n",
    "    \n",
    "    filtered_seqs = filter_seqs(\n",
    "        data = seqs,\n",
    "        table = filtered_tabs,\n",
    "    ).filtered_data\n",
    "    \n",
    "    collapsed_table = collapse(table=filtered_tabs, taxonomy=tax, level=lvl).collapsed_table\n",
    "    collapsed_table_view = summarize(table=collapsed_table, sample_metadata=meta).visualization\n",
    "    \n",
    "    return collapsed_table, collapsed_table_view, filtered_seqs"
   ]
  },
  {
   "cell_type": "markdown",
   "id": "0999a1b2",
   "metadata": {
    "papermill": {
     "duration": 0.015675,
     "end_time": "2023-08-23T20:04:40.304457",
     "exception": false,
     "start_time": "2023-08-23T20:04:40.288782",
     "status": "completed"
    },
    "tags": []
   },
   "source": [
    "## Step execution\n",
    "\n",
    "### Load input files\n",
    "\n",
    "This Step import the QIIME2 `FeatureTable[Frequency]` Artifact and the `Metadata` file."
   ]
  },
  {
   "cell_type": "code",
   "execution_count": 7,
   "id": "8f299d1a",
   "metadata": {
    "ExecuteTime": {
     "end_time": "2023-08-25T16:27:25.740503Z",
     "start_time": "2023-08-25T16:27:24.561208Z"
    },
    "execution": {
     "iopub.execute_input": "2023-08-23T20:04:40.336971Z",
     "iopub.status.busy": "2023-08-23T20:04:40.336614Z",
     "iopub.status.idle": "2023-08-23T20:04:42.019880Z",
     "shell.execute_reply": "2023-08-23T20:04:42.018565Z"
    },
    "papermill": {
     "duration": 1.703131,
     "end_time": "2023-08-23T20:04:42.023422",
     "exception": false,
     "start_time": "2023-08-23T20:04:40.320291",
     "status": "completed"
    },
    "tags": []
   },
   "outputs": [],
   "source": [
    "#Load Metadata\n",
    "metadata_qa = Metadata.load(metadata_file)\n",
    "\n",
    "#Load FeatureTable[Frequency]\n",
    "tabs = Artifact.load(dada2_tabs_path)\n",
    "tabs_df = tabs.view(Metadata).to_dataframe().T\n",
    "\n",
    "# FeatureData[Sequence]\n",
    "reps = Artifact.load(dada2_reps_path)\n",
    "\n",
    "# FeatureData[Taxonomy]\n",
    "tax = Artifact.load(taxonomy_path)"
   ]
  },
  {
   "cell_type": "code",
   "execution_count": 12,
   "id": "c8dfe530",
   "metadata": {
    "ExecuteTime": {
     "end_time": "2023-08-25T16:28:38.294924Z",
     "start_time": "2023-08-25T16:28:37.663469Z"
    },
    "execution": {
     "iopub.execute_input": "2023-08-23T20:04:42.069011Z",
     "iopub.status.busy": "2023-08-23T20:04:42.068429Z",
     "iopub.status.idle": "2023-08-23T20:04:42.073357Z",
     "shell.execute_reply": "2023-08-23T20:04:42.072332Z"
    },
    "papermill": {
     "duration": 0.025937,
     "end_time": "2023-08-23T20:04:42.075187",
     "exception": false,
     "start_time": "2023-08-23T20:04:42.049250",
     "status": "completed"
    },
    "tags": []
   },
   "outputs": [],
   "source": [
    "# Filter FeatureTable[Frequency | RelativeFrequency | PresenceAbsence | Composition] based on Metadata sample ID values\n",
    "tabs = filter_samples(\n",
    "    table=tabs,\n",
    "    metadata=metadata_qa,\n",
    ").filtered_table\n",
    "# Filter SampleData[SequencesWithQuality | PairedEndSequencesWithQuality | JoinedSequencesWithQuality] based on Metadata sample ID values; returns FeatureData[Sequence | AlignedSequence]\n",
    "reps = filter_seqs(\n",
    "    data=reps,\n",
    "    table=tabs,\n",
    ").filtered_data"
   ]
  },
  {
   "cell_type": "markdown",
   "id": "9f43843a",
   "metadata": {
    "ExecuteTime": {
     "end_time": "2022-09-22T22:48:07.523952Z",
     "start_time": "2022-09-22T22:48:07.517565Z"
    },
    "papermill": {
     "duration": 0.017245,
     "end_time": "2023-08-23T20:04:42.110648",
     "exception": false,
     "start_time": "2023-08-23T20:04:42.093403",
     "status": "completed"
    },
    "tags": []
   },
   "source": [
    "## Alpha diversity analysis\n",
    "\n",
    "#### Reference\n",
    "- [The Use and Types of Alpha-Diversity Metrics in Microbial NGS](https://www.cd-genomics.com/microbioseq/the-use-and-types-of-alpha-diversity-metrics-in-microbial-ngs.html)\n",
    "- [Alpha diversity metrics](http://scikit-bio.org/docs/0.2.0/generated/skbio.diversity.alpha.html)\n",
    "\n",
    "#### Methods\n",
    "- [diversity alpha](https://docs.qiime2.org/2022.8/plugins/available/diversity/alpha/): Computes a user-specified alpha diversity metric for all samples in a\n",
    "feature table.\n",
    "- [diversity alpha_phylogenetic](https://docs.qiime2.org/2022.8/plugins/available/diversity/alpha-phylogenetic/): Computes a user-specified phylogenetic alpha diversity metric for all\n",
    "samples in a feature table.\n",
    "- [diversity alpha_correlation](https://docs.qiime2.org/2022.8/plugins/available/diversity/alpha-correlation/): Determine whether numeric sample metadata columns are correlated with alpha diversity.\n",
    "- [diversity alpha_group_significance](https://docs.qiime2.org/2022.8/plugins/available/diversity/alpha-group-significance/): Visually and statistically compare groups of alpha diversity values."
   ]
  },
  {
   "cell_type": "markdown",
   "id": "606b9c75",
   "metadata": {
    "papermill": {
     "duration": 0.016619,
     "end_time": "2023-08-23T20:04:42.144226",
     "exception": false,
     "start_time": "2023-08-23T20:04:42.127607",
     "status": "completed"
    },
    "tags": []
   },
   "source": [
    "### Compute Alpha Diversity vectors\n",
    "- [diversity alpha](https://docs.qiime2.org/2022.8/plugins/available/diversity/alpha/): Computes a user-specified alpha diversity metric for all samples in a feature table.\n",
    "- [Alpha diversity metrics](http://scikit-bio.org/docs/0.2.0/generated/skbio.diversity.alpha.html)\n",
    " - Choices: ('ace', 'berger_parker_d', 'brillouin_d', 'chao1', 'chao1_ci', 'dominance', 'doubles', 'enspie', 'esty_ci', 'fisher_alpha', 'gini_index', 'goods_coverage', 'heip_e', 'kempton_taylor_q', 'lladser_pe', 'margalef', 'mcintosh_d', 'mcintosh_e', 'menhinick', 'michaelis_menten_fit', 'observed_features', 'osd', 'pielou_e', 'robbins', 'shannon', 'simpson', 'simpson_e', 'singles', 'strong')"
   ]
  },
  {
   "cell_type": "code",
   "execution_count": 13,
   "id": "556e5264",
   "metadata": {
    "ExecuteTime": {
     "end_time": "2023-08-25T16:28:47.262599Z",
     "start_time": "2023-08-25T16:28:46.610165Z"
    },
    "execution": {
     "iopub.execute_input": "2023-08-23T20:04:42.178819Z",
     "iopub.status.busy": "2023-08-23T20:04:42.178262Z",
     "iopub.status.idle": "2023-08-23T20:04:42.915662Z",
     "shell.execute_reply": "2023-08-23T20:04:42.914965Z"
    },
    "papermill": {
     "duration": 0.757728,
     "end_time": "2023-08-23T20:04:42.918511",
     "exception": false,
     "start_time": "2023-08-23T20:04:42.160783",
     "status": "completed"
    },
    "tags": []
   },
   "outputs": [
    {
     "name": "stdout",
     "output_type": "stream",
     "text": [
      "Calculating alpha diversity: chao1\n",
      "DONE: Calculating alpha diversity: chao1\n",
      "Calculating alpha diversity: observed_features\n",
      "DONE: Calculating alpha diversity: observed_features\n",
      "Calculating alpha diversity: shannon\n",
      "DONE: Calculating alpha diversity: shannon\n",
      "Calculating alpha diversity: simpson\n",
      "DONE: Calculating alpha diversity: simpson\n",
      "Calculating alpha diversity: dominance\n",
      "DONE: Calculating alpha diversity: dominance\n",
      "Calculating alpha diversity: gini_index\n",
      "DONE: Calculating alpha diversity: gini_index\n",
      "Calculating alpha diversity: goods_coverage\n",
      "DONE: Calculating alpha diversity: goods_coverage\n",
      "Calculating alpha diversity: singles\n",
      "DONE: Calculating alpha diversity: singles\n",
      "Calculating alpha diversity: strong\n",
      "DONE: Calculating alpha diversity: strong\n"
     ]
    }
   ],
   "source": [
    "metrics = ('ace', 'berger_parker_d', 'brillouin_d', 'chao1', 'chao1_ci', 'dominance', 'doubles', 'enspie', 'esty_ci', 'fisher_alpha', 'gini_index', 'goods_coverage', 'heip_e', 'kempton_taylor_q', 'lladser_pe', 'margalef', 'mcintosh_d', 'mcintosh_e', 'menhinick', 'michaelis_menten_fit', 'observed_features', 'osd', 'pielou_e', 'robbins', 'shannon', 'simpson', 'simpson_e', 'singles', 'strong')\n",
    "metrics = ('chao1', 'observed_features', 'shannon', 'simpson', 'dominance', 'gini_index', 'goods_coverage', 'singles', 'strong')\n",
    "alpha_diversities = dict()\n",
    "for metric in metrics:\n",
    "    print(f\"Calculating alpha diversity: {metric}\")\n",
    "    try:\n",
    "        alpha_diversity = alpha(table=tabs, metric=metric).alpha_diversity\n",
    "        alpha_diversities[metric] = alpha_diversity\n",
    "        # Save SampleData[AlphaDiversity] Artifact\n",
    "        file_path = os.path.join(alpha_path, f'alpha-values-{metric}.qza')\n",
    "        alpha_diversity.save(file_path)\n",
    "        print(f\"DONE: Calculating alpha diversity: {metric}\")\n",
    "    except Exception as e:\n",
    "        print(f\"ERROR: Calculating alpha diversity: {metric}\")\n",
    "        print(e)"
   ]
  },
  {
   "cell_type": "markdown",
   "id": "184bcb7b",
   "metadata": {
    "papermill": {
     "duration": 0.033495,
     "end_time": "2023-08-23T20:04:42.976162",
     "exception": false,
     "start_time": "2023-08-23T20:04:42.942667",
     "status": "completed"
    },
    "tags": []
   },
   "source": [
    "### Create Phylogenetic inference\n",
    "\n",
    "- [alignment align_to_tree_mafft_fasttree](https://docs.qiime2.org/2022.8/plugins/available/phylogeny/align-to-tree-mafft-fasttree/): Build a phylogenetic tree using fasttree and mafft alignment\n",
    "\n",
    "This pipeline will start by creating a sequence alignment using MAFFT,\n",
    "after which any alignment columns that are phylogenetically uninformative\n",
    "or ambiguously aligned will be removed (masked). The resulting masked\n",
    "alignment will be used to infer a phylogenetic tree and then subsequently\n",
    "rooted at its midpoint. Output files from each step of the pipeline will be\n",
    "saved. This includes both the unmasked and masked MAFFT alignment from\n",
    "q2-alignment methods, and both the rooted and unrooted phylogenies from\n",
    "q2-phylogeny methods.\n",
    "\n",
    "\n",
    "Returns\n",
    "- alignment : FeatureData[AlignedSequence] : The aligned sequences.\n",
    "- masked_alignment : FeatureData[AlignedSequence] : The masked alignment.\n",
    "- tree : Phylogeny[Unrooted] : The unrooted phylogenetic tree.\n",
    "- rooted_tree : Phylogeny[Rooted] : The rooted phylogenetic tree."
   ]
  },
  {
   "cell_type": "code",
   "execution_count": 14,
   "id": "9c8cfe47",
   "metadata": {
    "ExecuteTime": {
     "end_time": "2023-08-25T16:29:07.295177Z",
     "start_time": "2023-08-25T16:28:49.280608Z"
    },
    "execution": {
     "iopub.execute_input": "2023-08-23T20:04:43.061777Z",
     "iopub.status.busy": "2023-08-23T20:04:43.061484Z",
     "iopub.status.idle": "2023-08-23T20:05:34.611665Z",
     "shell.execute_reply": "2023-08-23T20:05:34.611072Z"
    },
    "papermill": {
     "duration": 51.595174,
     "end_time": "2023-08-23T20:05:34.613335",
     "exception": false,
     "start_time": "2023-08-23T20:04:43.018161",
     "status": "completed"
    },
    "tags": []
   },
   "outputs": [
    {
     "name": "stdout",
     "output_type": "stream",
     "text": [
      "Running external command line application. This may print messages to stdout and/or stderr.\n",
      "The command being run is below. This command cannot be manually re-run as it will depend on temporary files that no longer exist.\n",
      "\n",
      "Command: mafft --preservecase --inputorder --thread 6 /tmp/qiime2-archive-gya5j_z1/0ac2e9c0-2667-4adb-81b5-a7624d248a29/data/dna-sequences.fasta\n",
      "\n"
     ]
    },
    {
     "name": "stderr",
     "output_type": "stream",
     "text": [
      "inputfile = orig\n",
      "1083 x 430 - 253 d\n",
      "nthread = 6\n",
      "nthreadpair = 6\n",
      "nthreadtb = 6\n",
      "ppenalty_ex = 0\n",
      "stacksize: 8192 kb\n",
      "generating a scoring matrix for nucleotide (dist=200) ... done\n",
      "Gap Penalty = -1.53, +0.00, +0.00\n",
      "\n",
      "\n",
      "\n",
      "Making a distance matrix ..\n",
      " 1001 / 1083 (thread    2)\n",
      "done.\n",
      "\n",
      "Constructing a UPGMA tree (efffree=0) ... \n",
      " 1080 / 1083\n",
      "done.\n",
      "\n",
      "Progressive alignment 1/2... \n",
      "STEP   901 / 1082 (thread    3)\n",
      "Reallocating..done. *alloclen = 1862\n",
      "STEP  1001 / 1082 (thread    3)\n",
      "done.\n",
      "\n",
      "Making a distance matrix from msa.. \n",
      " 1000 / 1083 (thread    2)\n",
      "done.\n",
      "\n",
      "Constructing a UPGMA tree (efffree=1) ... \n",
      " 1080 / 1083\n",
      "done.\n",
      "\n",
      "Progressive alignment 2/2... \n",
      "STEP  1001 / 1082 (thread    1)\n",
      "Reallocating..done. *alloclen = 1863\n",
      "\n",
      "done.\n",
      "\n",
      "disttbfast (nuc) Version 7.490\n",
      "alg=A, model=DNA200 (2), 1.53 (4.59), -0.00 (-0.00), noshift, amax=0.0\n",
      "6 thread(s)\n",
      "\n",
      "\n",
      "Strategy:\n",
      " FFT-NS-2 (Fast but rough)\n",
      " Progressive method (guide trees were built 2 times.)\n",
      "\n",
      "If unsure which option to use, try 'mafft --auto input > output'.\n",
      "For more information, see 'mafft --help', 'mafft --man' and the mafft page.\n",
      "\n",
      "The default gap scoring scheme has been changed in version 7.110 (2013 Oct).\n",
      "It tends to insert more gaps into gap-rich regions than previous versions.\n",
      "To disable this change, add the --leavegappyregion option.\n",
      "\n"
     ]
    },
    {
     "name": "stdout",
     "output_type": "stream",
     "text": [
      "Running external command line application. This may print messages to stdout and/or stderr.\n",
      "The command being run is below. This command cannot be manually re-run as it will depend on temporary files that no longer exist.\n",
      "\n",
      "Command: FastTreeMP -quote -nt /tmp/qiime2-archive-4iczqbed/5e988aa3-ea9b-4687-bec5-497e0d66fbea/data/aligned-dna-sequences.fasta\n",
      "\n"
     ]
    },
    {
     "name": "stderr",
     "output_type": "stream",
     "text": [
      "FastTree Version 2.1.10 Double precision (No SSE3), OpenMP (6 threads)\n",
      "Alignment: /tmp/qiime2-archive-4iczqbed/5e988aa3-ea9b-4687-bec5-497e0d66fbea/data/aligned-dna-sequences.fasta\n",
      "Nucleotide distances: Jukes-Cantor Joins: balanced Support: SH-like 1000\n",
      "Search: Normal +NNI +SPR (2 rounds range 10) +ML-NNI opt-each=1\n",
      "TopHits: 1.00*sqrtN close=default refresh=0.80\n",
      "ML Model: Jukes-Cantor, CAT approximation with 20 rate categories\n",
      "      0.12 seconds: Joined    100 of   1031\n",
      "      0.27 seconds: Joined    300 of   1031\n",
      "      0.42 seconds: Joined    500 of   1031\n",
      "      0.56 seconds: Joined    700 of   1031\n",
      "      0.69 seconds: Joined    900 of   1031\n",
      "Initial topology in 0.76 seconds\n",
      "Refining topology: 40 rounds ME-NNIs, 2 rounds ME-SPRs, 20 rounds ML-NNIs\n",
      "      0.79 seconds: ME NNI round 1 of 40, 1001 of 1032 splits, 197 changes (max delta 0.027)\n",
      "      0.89 seconds: ME NNI round 8 of 40, 1 of 1032 splits\n",
      "      1.01 seconds: SPR round   1 of   2, 201 of 2066 nodes\n",
      "      1.12 seconds: SPR round   1 of   2, 401 of 2066 nodes\n",
      "      1.23 seconds: SPR round   1 of   2, 601 of 2066 nodes\n",
      "      1.35 seconds: SPR round   1 of   2, 801 of 2066 nodes\n",
      "      1.49 seconds: SPR round   1 of   2, 1001 of 2066 nodes\n",
      "      1.63 seconds: SPR round   1 of   2, 1201 of 2066 nodes\n",
      "      1.76 seconds: SPR round   1 of   2, 1401 of 2066 nodes\n",
      "      1.90 seconds: SPR round   1 of   2, 1601 of 2066 nodes\n",
      "      2.03 seconds: SPR round   1 of   2, 1801 of 2066 nodes\n",
      "      2.15 seconds: SPR round   1 of   2, 2001 of 2066 nodes\n",
      "      2.26 seconds: ME NNI round 15 of 40, 801 of 1032 splits, 6 changes (max delta 0.001)\n",
      "      2.39 seconds: SPR round   2 of   2, 201 of 2066 nodes\n",
      "      2.50 seconds: SPR round   2 of   2, 401 of 2066 nodes\n",
      "      2.60 seconds: SPR round   2 of   2, 601 of 2066 nodes\n",
      "      2.71 seconds: SPR round   2 of   2, 801 of 2066 nodes\n",
      "      2.82 seconds: SPR round   2 of   2, 1001 of 2066 nodes\n",
      "      2.94 seconds: SPR round   2 of   2, 1201 of 2066 nodes\n",
      "      3.05 seconds: SPR round   2 of   2, 1401 of 2066 nodes\n",
      "      3.17 seconds: SPR round   2 of   2, 1601 of 2066 nodes\n",
      "      3.29 seconds: SPR round   2 of   2, 1801 of 2066 nodes\n",
      "      3.42 seconds: ME NNI round 27 of 40, 1 of 1032 splits\n",
      "Total branch-length 21.804 after 3.52 sec\n",
      "      3.52 seconds: ML Lengths 1 of 1032 splits\n",
      "      3.64 seconds: ML Lengths 401 of 1032 splits\n",
      "      3.74 seconds: ML Lengths 801 of 1032 splits\n",
      "      3.89 seconds: ML NNI round 1 of 20, 101 of 1032 splits, 15 changes (max delta 6.042)\n",
      "      4.04 seconds: ML NNI round 1 of 20, 301 of 1032 splits, 58 changes (max delta 8.796)\n",
      "      4.19 seconds: ML NNI round 1 of 20, 501 of 1032 splits, 90 changes (max delta 9.422)\n",
      "      4.35 seconds: ML NNI round 1 of 20, 701 of 1032 splits, 120 changes (max delta 9.422)\n",
      "      4.50 seconds: ML NNI round 1 of 20, 901 of 1032 splits, 153 changes (max delta 10.689)\n",
      "ML-NNI round 1: LogLk = -56448.005 NNIs 177 max delta 10.69 Time 4.61\n",
      "      4.62 seconds: Site likelihoods with rate category 1 of 20\n",
      "      4.73 seconds: Site likelihoods with rate category 10 of 20\n",
      "      4.84 seconds: Site likelihoods with rate category 19 of 20\n",
      "Switched to using 20 rate categories (CAT approximation)\n",
      "Rate categories were divided by 1.096 so that average rate = 1.0\n",
      "CAT-based log-likelihoods may not be comparable across runs\n",
      "Use -gamma for approximate but comparable Gamma(20) log-likelihoods\n",
      "      4.96 seconds: ML NNI round 2 of 20, 101 of 1032 splits, 12 changes (max delta 7.405)\n",
      "      5.12 seconds: ML NNI round 2 of 20, 301 of 1032 splits, 36 changes (max delta 7.405)\n",
      "      5.30 seconds: ML NNI round 2 of 20, 501 of 1032 splits, 59 changes (max delta 7.405)\n",
      "      5.49 seconds: ML NNI round 2 of 20, 701 of 1032 splits, 79 changes (max delta 7.405)\n",
      "      5.67 seconds: ML NNI round 2 of 20, 901 of 1032 splits, 102 changes (max delta 7.405)\n",
      "ML-NNI round 2: LogLk = -47044.030 NNIs 116 max delta 7.41 Time 5.79\n",
      "      5.79 seconds: ML NNI round 3 of 20, 1 of 1032 splits\n",
      "      5.96 seconds: ML NNI round 3 of 20, 201 of 1032 splits, 15 changes (max delta 3.832)\n",
      "      6.15 seconds: ML NNI round 3 of 20, 401 of 1032 splits, 22 changes (max delta 3.832)\n",
      "      6.32 seconds: ML NNI round 3 of 20, 601 of 1032 splits, 31 changes (max delta 5.583)\n",
      "ML-NNI round 3: LogLk = -46996.047 NNIs 38 max delta 5.58 Time 6.45\n",
      "      6.44 seconds: ML NNI round 4 of 20, 1 of 1032 splits\n",
      "      6.63 seconds: ML NNI round 4 of 20, 201 of 1032 splits, 9 changes (max delta 5.864)\n",
      "      6.80 seconds: ML NNI round 4 of 20, 401 of 1032 splits, 16 changes (max delta 5.864)\n",
      "ML-NNI round 4: LogLk = -46968.162 NNIs 16 max delta 5.86 Time 6.82\n",
      "      6.91 seconds: ML NNI round 5 of 20, 101 of 1032 splits, 2 changes (max delta 0.000)\n",
      "ML-NNI round 5: LogLk = -46966.618 NNIs 4 max delta 0.67 Time 6.99\n",
      "ML-NNI round 6: LogLk = -46966.582 NNIs 0 max delta 0.00 Time 7.07\n",
      "Turning off heuristics for final round of ML NNIs (converged)\n",
      "      7.07 seconds: ML NNI round 7 of 20, 1 of 1032 splits\n",
      "      7.24 seconds: ML NNI round 7 of 20, 201 of 1032 splits, 1 changes (max delta 0.119)\n",
      "      7.42 seconds: ML NNI round 7 of 20, 401 of 1032 splits, 1 changes (max delta 0.119)\n",
      "      7.60 seconds: ML NNI round 7 of 20, 601 of 1032 splits, 1 changes (max delta 0.119)\n",
      "      7.76 seconds: ML NNI round 7 of 20, 801 of 1032 splits, 2 changes (max delta 1.201)\n",
      "      7.92 seconds: ML NNI round 7 of 20, 1001 of 1032 splits, 3 changes (max delta 1.201)\n",
      "ML-NNI round 7: LogLk = -46963.087 NNIs 4 max delta 1.20 Time 7.96 (final)\n",
      "      8.04 seconds: ML Lengths 401 of 1032 splits\n",
      "      8.15 seconds: ML Lengths 901 of 1032 splits\n",
      "Optimize all lengths: LogLk = -46962.981 Time 8.19\n",
      "      8.32 seconds: ML split tests for    100 of   1031 internal splits\n",
      "      8.46 seconds: ML split tests for    200 of   1031 internal splits\n",
      "      8.60 seconds: ML split tests for    300 of   1031 internal splits\n",
      "      8.73 seconds: ML split tests for    400 of   1031 internal splits\n",
      "      8.87 seconds: ML split tests for    500 of   1031 internal splits\n",
      "      9.00 seconds: ML split tests for    600 of   1031 internal splits\n",
      "      9.13 seconds: ML split tests for    700 of   1031 internal splits\n",
      "      9.26 seconds: ML split tests for    800 of   1031 internal splits\n",
      "      9.39 seconds: ML split tests for    900 of   1031 internal splits\n",
      "      9.52 seconds: ML split tests for   1000 of   1031 internal splits\n",
      "Total time: 9.56 seconds Unique: 1034/1083 Bad splits: 0/1031\n"
     ]
    }
   ],
   "source": [
    "mafft_alignment, mafft_masked_alignment, mafft_tree, mafft_rooted_tree = align_to_tree_mafft_fasttree(\n",
    "    sequences=reps, n_threads=6, )"
   ]
  },
  {
   "cell_type": "markdown",
   "id": "0768d598",
   "metadata": {
    "papermill": {
     "duration": 0.042572,
     "end_time": "2023-08-23T20:05:34.703380",
     "exception": false,
     "start_time": "2023-08-23T20:05:34.660808",
     "status": "completed"
    },
    "tags": []
   },
   "source": [
    "### Compute Alpha Diversity (Phylogeny)\n",
    "- [diversity alpha_phylogenetic](https://docs.qiime2.org/2022.8/plugins/available/diversity/alpha-phylogenetic/): Computes a user-specified phylogenetic alpha diversity metric for all samples in a feature table.\n",
    "- Metrics: Choices ('faith_pd')"
   ]
  },
  {
   "cell_type": "code",
   "execution_count": 15,
   "id": "0383aa19",
   "metadata": {
    "ExecuteTime": {
     "end_time": "2023-08-25T16:29:07.487954Z",
     "start_time": "2023-08-25T16:29:07.297342Z"
    },
    "execution": {
     "iopub.execute_input": "2023-08-23T20:05:34.790833Z",
     "iopub.status.busy": "2023-08-23T20:05:34.790408Z",
     "iopub.status.idle": "2023-08-23T20:05:34.957427Z",
     "shell.execute_reply": "2023-08-23T20:05:34.956909Z"
    },
    "papermill": {
     "duration": 0.212739,
     "end_time": "2023-08-23T20:05:34.959115",
     "exception": false,
     "start_time": "2023-08-23T20:05:34.746376",
     "status": "completed"
    },
    "tags": []
   },
   "outputs": [
    {
     "name": "stdout",
     "output_type": "stream",
     "text": [
      "Calculating alpha diversity: faith_pd\n",
      "DONE: Calculating alpha phylogeny: faith_pd\n"
     ]
    }
   ],
   "source": [
    "metrics = ('faith_pd', )\n",
    "alpha_diversities_phylogenetic = dict()\n",
    "for metric in metrics:\n",
    "    print(f\"Calculating alpha diversity: {metric}\")\n",
    "    try:\n",
    "        alpha_diversity = alpha_phylogenetic(table=tabs, phylogeny=mafft_rooted_tree, metric=metric).alpha_diversity\n",
    "        alpha_diversities_phylogenetic[metric] = alpha_diversity\n",
    "        # Save Artifact\n",
    "        file_path = os.path.join(alpha_path, f'alpha-phylogeny-{metric}.qza')\n",
    "        alpha_diversity.save(file_path)\n",
    "        print(f\"DONE: Calculating alpha phylogeny: {metric}\")\n",
    "    except Exception as e:\n",
    "        print(f\"ERROR: Calculating alpha phylogeny: {metric}\")"
   ]
  },
  {
   "cell_type": "markdown",
   "id": "2c38d996",
   "metadata": {
    "ExecuteTime": {
     "end_time": "2023-08-25T18:49:59.332635Z",
     "start_time": "2023-08-25T18:49:59.322601Z"
    }
   },
   "source": [
    "<ul>\n",
    "    <li>\n",
    "        <a href=\"https://docs.qiime2.org/2023.7/plugins/available/diversity/core-metrics-phylogenetic/\">core_metrics_phylogenetic</a>\n",
    "    </li>\n",
    "</ul>\n",
    "\n",
    "<hr>\n",
    "\n",
    "<pre><code>\n",
    "Core diversity metrics (phylogenetic and non-phylogenetic)\n",
    "\n",
    "Applies a collection of diversity metrics (both phylogenetic and non-\n",
    "phylogenetic) to a feature table.\n",
    "\n",
    "Parameters\n",
    "----------\n",
    "table : FeatureTable[Frequency]\n",
    "    The feature table containing the samples over which diversity metrics\n",
    "    should be computed.\n",
    "phylogeny : Phylogeny[Rooted]\n",
    "    Phylogenetic tree containing tip identifiers that correspond to the\n",
    "    feature identifiers in the table. This tree can contain tip ids that\n",
    "    are not present in the table, but all feature ids in the table must be\n",
    "    present in this tree.\n",
    "sampling_depth : Int % Range(1, None)\n",
    "    The total frequency that each sample should be rarefied to prior to\n",
    "    computing diversity metrics.\n",
    "metadata : Metadata\n",
    "    The sample metadata to use in the emperor plots.\n",
    "with_replacement : Bool, optional\n",
    "    Rarefy with replacement by sampling from the multinomial distribution\n",
    "    instead of rarefying without replacement.\n",
    "n_jobs_or_threads : Int % Range(1, None) | Str % Choices('auto'), optional\n",
    "    [beta/beta-phylogenetic methods only] - The number of concurrent jobs\n",
    "    or CPU threads to use in performing this calculation. Individual\n",
    "    methods will create jobs/threads as implemented in q2-diversity-lib\n",
    "    dependencies. May not exceed the number of available physical cores. If\n",
    "    n_jobs_or_threads = 'auto', one thread/job will be created for each\n",
    "    identified CPU core on the host.\n",
    "\n",
    "Returns\n",
    "-------\n",
    "rarefied_table : FeatureTable[Frequency]\n",
    "    The resulting rarefied feature table.\n",
    "faith_pd_vector : SampleData[AlphaDiversity]\n",
    "    Vector of Faith PD values by sample.\n",
    "observed_features_vector : SampleData[AlphaDiversity]\n",
    "    Vector of Observed Features values by sample.\n",
    "shannon_vector : SampleData[AlphaDiversity]\n",
    "    Vector of Shannon diversity values by sample.\n",
    "evenness_vector : SampleData[AlphaDiversity]\n",
    "    Vector of Pielou's evenness values by sample.\n",
    "unweighted_unifrac_distance_matrix : DistanceMatrix\n",
    "    Matrix of unweighted UniFrac distances between pairs of samples.\n",
    "weighted_unifrac_distance_matrix : DistanceMatrix\n",
    "    Matrix of weighted UniFrac distances between pairs of samples.\n",
    "jaccard_distance_matrix : DistanceMatrix\n",
    "    Matrix of Jaccard distances between pairs of samples.\n",
    "bray_curtis_distance_matrix : DistanceMatrix\n",
    "    Matrix of Bray-Curtis distances between pairs of samples.\n",
    "unweighted_unifrac_pcoa_results : PCoAResults\n",
    "    PCoA matrix computed from unweighted UniFrac distances between samples.\n",
    "weighted_unifrac_pcoa_results : PCoAResults\n",
    "    PCoA matrix computed from weighted UniFrac distances between samples.\n",
    "jaccard_pcoa_results : PCoAResults\n",
    "    PCoA matrix computed from Jaccard distances between samples.\n",
    "bray_curtis_pcoa_results : PCoAResults\n",
    "    PCoA matrix computed from Bray-Curtis distances between samples.\n",
    "unweighted_unifrac_emperor : Visualization\n",
    "    Emperor plot of the PCoA matrix computed from unweighted UniFrac.\n",
    "weighted_unifrac_emperor : Visualization\n",
    "    Emperor plot of the PCoA matrix computed from weighted UniFrac.\n",
    "jaccard_emperor : Visualization\n",
    "    Emperor plot of the PCoA matrix computed from Jaccard.\n",
    "bray_curtis_emperor : Visualization\n",
    "    Emperor plot of the PCoA matrix computed from Bray-Curtis.\n",
    "</code></pre>"
   ]
  },
  {
   "cell_type": "code",
   "execution_count": 45,
   "id": "23c2829f",
   "metadata": {
    "ExecuteTime": {
     "end_time": "2023-08-25T18:45:23.251903Z",
     "start_time": "2023-08-25T18:45:21.247532Z"
    }
   },
   "outputs": [
    {
     "name": "stderr",
     "output_type": "stream",
     "text": [
      "/home/lauro/anaconda3/envs/qiime2-2022.2/lib/python3.8/site-packages/sklearn/metrics/pairwise.py:1761: DataConversionWarning: Data was converted to boolean for metric jaccard\n",
      "  warnings.warn(msg, DataConversionWarning)\n",
      "/home/lauro/anaconda3/envs/qiime2-2022.2/lib/python3.8/site-packages/skbio/stats/ordination/_principal_coordinate_analysis.py:143: RuntimeWarning: The result contains negative eigenvalues. Please compare their magnitude with the magnitude of some of the largest positive eigenvalues. If the negative ones are smaller, it's probably safe to ignore them, but if they are large in magnitude, the results won't be useful. See the Notes section for more details. The smallest eigenvalue is -0.0021716139800104554 and the largest is 0.3436899010984055.\n",
      "  warn(\n"
     ]
    }
   ],
   "source": [
    "s_depth = int(tabs.view(pd.DataFrame).sum(axis=1).min())\n",
    "results = core_metrics_phylogenetic(\n",
    "    table = tabs,\n",
    "    phylogeny = mafft_rooted_tree,\n",
    "    sampling_depth = s_depth,\n",
    "    metadata = metadata_qa,\n",
    "    n_jobs_or_threads = 6,\n",
    ")"
   ]
  },
  {
   "cell_type": "code",
   "execution_count": 60,
   "id": "cefb01a8",
   "metadata": {
    "ExecuteTime": {
     "end_time": "2023-08-25T19:05:46.582180Z",
     "start_time": "2023-08-25T19:05:46.572458Z"
    }
   },
   "outputs": [],
   "source": [
    "results_info = [(\"rarefied_table\", \"FeatureTable[Frequency]\", \"The resulting rarefied feature table.\"),\n",
    "(\"faith_pd_vector\", \"SampleData[AlphaDiversity]\", \"Vector of Faith PD values by sample.\"),\n",
    "(\"observed_features_vector\", \"SampleData[AlphaDiversity]\", \"Vector of Observed Features values by sample.\"),\n",
    "(\"shannon_vector\", \"SampleData[AlphaDiversity]\", \"Vector of Shannon diversity values by sample.\"),\n",
    "(\"evenness_vector\", \"SampleData[AlphaDiversity]\", \"Vector of Pielou's evenness values by sample.\"),\n",
    "(\"unweighted_unifrac_distance_matrix\", \"DistanceMatrix\", \"Matrix of unweighted UniFrac distances between pairs of samples.\"),\n",
    "(\"weighted_unifrac_distance_matrix\", \"DistanceMatrix\", \"Matrix of weighted UniFrac distances between pairs of samples.\"),\n",
    "(\"jaccard_distance_matrix\", \"DistanceMatrix\", \"Matrix of Jaccard distances between pairs of samples.\"),\n",
    "(\"bray_curtis_distance_matrix\", \"DistanceMatrix\", \"Matrix of Bray-Curtis distances between pairs of samples.\"),\n",
    "(\"unweighted_unifrac_pcoa_results\", \"PCoAResults\", \"PCoA matrix computed from unweighted UniFrac distances between samples.\"),\n",
    "(\"weighted_unifrac_pcoa_results\", \"PCoAResults\", \"PCoA matrix computed from weighted UniFrac distances between samples.\"),\n",
    "(\"jaccard_pcoa_results\", \"PCoAResults\", \"PCoA matrix computed from Jaccard distances between samples.\"),\n",
    "(\"bray_curtis_pcoa_results\", \"PCoAResults\", \"PCoA matrix computed from Bray-Curtis distances between samples.\"),\n",
    "(\"unweighted_unifrac_emperor\", \"Visualization\", \"Emperor plot of the PCoA matrix computed from unweighted UniFrac.\"),\n",
    "(\"weighted_unifrac_emperor\", \"Visualization\", \"Emperor plot of the PCoA matrix computed from weighted UniFrac.\"),\n",
    "(\"jaccard_emperor\", \"Visualization\", \"Emperor plot of the PCoA matrix computed from Jaccard.\"),\n",
    "(\"bray_curtis_emperor\", \"Visualization\", \"Emperor plot of the PCoA matrix computed from Bray-Curtis.\")]"
   ]
  },
  {
   "cell_type": "code",
   "execution_count": 76,
   "id": "8e253b42",
   "metadata": {
    "ExecuteTime": {
     "end_time": "2023-08-25T19:17:52.150145Z",
     "start_time": "2023-08-25T19:17:51.427289Z"
    }
   },
   "outputs": [
    {
     "name": "stdout",
     "output_type": "stream",
     "text": [
      "13 unweighted_unifrac_emperor Visualization\n",
      "--- Emperor plot of the PCoA matrix computed from unweighted UniFrac. ---\n",
      "Saving emperor file at: /home/lauro/nupeb/rede-micro/redemicro-ana-flavia-nutri/experiments/ana-flavia-NCxSTD-NC-trim/qiime-artifacts/beta-analysis/unweighted_unifrac_emperor.qzv\n",
      "\n",
      "14 weighted_unifrac_emperor Visualization\n",
      "--- Emperor plot of the PCoA matrix computed from weighted UniFrac. ---\n",
      "Saving emperor file at: /home/lauro/nupeb/rede-micro/redemicro-ana-flavia-nutri/experiments/ana-flavia-NCxSTD-NC-trim/qiime-artifacts/beta-analysis/weighted_unifrac_emperor.qzv\n",
      "\n",
      "15 jaccard_emperor Visualization\n",
      "--- Emperor plot of the PCoA matrix computed from Jaccard. ---\n",
      "Saving emperor file at: /home/lauro/nupeb/rede-micro/redemicro-ana-flavia-nutri/experiments/ana-flavia-NCxSTD-NC-trim/qiime-artifacts/beta-analysis/jaccard_emperor.qzv\n",
      "\n",
      "16 bray_curtis_emperor Visualization\n",
      "--- Emperor plot of the PCoA matrix computed from Bray-Curtis. ---\n",
      "Saving emperor file at: /home/lauro/nupeb/rede-micro/redemicro-ana-flavia-nutri/experiments/ana-flavia-NCxSTD-NC-trim/qiime-artifacts/beta-analysis/bray_curtis_emperor.qzv\n",
      "\n"
     ]
    }
   ],
   "source": [
    "for i, info in enumerate(results_info):\n",
    "    r_id, r_type, r_desc = info\n",
    "#     print(i, r_id, r_type)\n",
    "    file_name = f\"{r_id}.qzv\"\n",
    "    if r_type == \"FeatureTable[Frequency]\":\n",
    "        pass\n",
    "    elif r_id.endswith('emperor'):\n",
    "        print(i, r_id, r_type)\n",
    "        print(f\"--- {r_desc} ---\")\n",
    "        file_name = os.path.join(beta_path, file_name)\n",
    "        print(f'Saving emperor file at: {file_name}\\n')\n",
    "        results[i].save(filepath=file_name)"
   ]
  },
  {
   "cell_type": "markdown",
   "id": "c7752cfd",
   "metadata": {
    "papermill": {
     "duration": 0.043133,
     "end_time": "2023-08-23T20:05:35.048845",
     "exception": false,
     "start_time": "2023-08-23T20:05:35.005712",
     "status": "completed"
    },
    "tags": []
   },
   "source": [
    "### Alpha diversity correlation\n",
    "\n",
    "This method only process `numeric` columns.\n"
   ]
  },
  {
   "cell_type": "code",
   "execution_count": null,
   "id": "2814f613",
   "metadata": {
    "ExecuteTime": {
     "end_time": "2022-09-29T20:54:35.317618Z",
     "start_time": "2022-09-29T20:54:35.312094Z"
    },
    "execution": {
     "iopub.execute_input": "2023-08-23T20:05:35.136628Z",
     "iopub.status.busy": "2023-08-23T20:05:35.136227Z",
     "iopub.status.idle": "2023-08-23T20:05:35.143924Z",
     "shell.execute_reply": "2023-08-23T20:05:35.143040Z"
    },
    "papermill": {
     "duration": 0.053457,
     "end_time": "2023-08-23T20:05:35.145509",
     "exception": false,
     "start_time": "2023-08-23T20:05:35.092052",
     "status": "completed"
    },
    "tags": []
   },
   "outputs": [],
   "source": [
    "methods = ('spearman', 'pearson')\n",
    "numerics_cols = metadata_qa.filter_columns(column_type='numeric')\n",
    "if numerics_cols.column_count > 0:\n",
    "    for metric, alpha_values in alpha_diversities.items():\n",
    "        for method in methods:\n",
    "            try:\n",
    "                corr_view = alpha_correlation(alpha_diversity=alpha_values, metadata=numerics_cols, \n",
    "                                          method=method, intersect_ids=True).visualization\n",
    "                view_path = os.path.join(alpha_path, f'alpha-correlation-{metric}-{method}.qzv')\n",
    "                corr_view.save(view_path)\n",
    "                corr_view\n",
    "                print(f\"DONE: Calculating alpha correlation: {metric} {method}\")\n",
    "            except Exception as e:\n",
    "                print(f\"ERROR: Calculating alpha correlation: {metric} {method}\")"
   ]
  },
  {
   "cell_type": "markdown",
   "id": "8ea83c8a",
   "metadata": {
    "papermill": {
     "duration": 0.056097,
     "end_time": "2023-08-23T20:05:35.247859",
     "exception": false,
     "start_time": "2023-08-23T20:05:35.191762",
     "status": "completed"
    },
    "tags": []
   },
   "source": [
    "## Alpha diversity comparisons\n",
    "\n",
    "Visually and statistically compare groups of alpha diversity values.\n",
    "\n",
    "[diversity alpha_group_significance](https://docs.qiime2.org/2022.8/plugins/available/diversity/alpha-group-significance/)"
   ]
  },
  {
   "cell_type": "code",
   "execution_count": null,
   "id": "276d1c18",
   "metadata": {
    "ExecuteTime": {
     "end_time": "2022-09-29T20:54:36.089290Z",
     "start_time": "2022-09-29T20:54:35.318963Z"
    },
    "execution": {
     "iopub.execute_input": "2023-08-23T20:05:35.370984Z",
     "iopub.status.busy": "2023-08-23T20:05:35.370457Z",
     "iopub.status.idle": "2023-08-23T20:05:35.481853Z",
     "shell.execute_reply": "2023-08-23T20:05:35.480859Z"
    },
    "papermill": {
     "duration": 0.176066,
     "end_time": "2023-08-23T20:05:35.483976",
     "exception": false,
     "start_time": "2023-08-23T20:05:35.307910",
     "status": "completed"
    },
    "tags": []
   },
   "outputs": [],
   "source": [
    "for metric, alpha_values in alpha_diversities.items():\n",
    "    print(f\"Processing alpha_group_significance: {metric}\")\n",
    "    try:\n",
    "        significance_view = alpha_group_significance(alpha_diversity=alpha_values, metadata=metadata_qa).visualization\n",
    "        view_path = os.path.join(alpha_path, f'alpha-group-significance-{metric}.qzv')\n",
    "        significance_view.save(view_path)\n",
    "        significance_view\n",
    "        print(f\"DONE: Calculating alpha group significance: {metric}\")\n",
    "    except Exception as e:\n",
    "        print(f\"ERROR: Calculating alpha group significance: {metric}\")"
   ]
  },
  {
   "cell_type": "markdown",
   "id": "4349d357",
   "metadata": {
    "papermill": {
     "duration": 0.045071,
     "end_time": "2023-08-23T20:05:35.578965",
     "exception": false,
     "start_time": "2023-08-23T20:05:35.533894",
     "status": "completed"
    },
    "tags": []
   },
   "source": [
    "## Beta diversity analysis\n",
    "\n",
    "#### Reference\n",
    "- [diversity beta](https://docs.qiime2.org/2022.8/plugins/available/diversity/beta/): Computes a user-specified beta diversity metric for all pairs of samples in a feature table.\n",
    "- [Beta diversity metrics](http://scikit-bio.org/docs/0.2.0/generated/skbio.diversity.beta.html)\n",
    "\n",
    "- Metric Choices('aitchison', 'braycurtis', 'canberra', 'canberra_adkins', 'chebyshev', 'cityblock', 'correlation', 'cosine', 'dice', 'euclidean', 'hamming', 'jaccard', 'jensenshannon', 'kulsinski', 'matching', 'minkowski', 'rogerstanimoto', 'russellrao', 'seuclidean', 'sokalmichener', 'sokalsneath', 'sqeuclidean', 'yule')"
   ]
  },
  {
   "cell_type": "code",
   "execution_count": null,
   "id": "f6f358dd",
   "metadata": {
    "ExecuteTime": {
     "end_time": "2022-09-29T20:54:36.335038Z",
     "start_time": "2022-09-29T20:54:36.091288Z"
    },
    "execution": {
     "iopub.execute_input": "2023-08-23T20:05:35.668974Z",
     "iopub.status.busy": "2023-08-23T20:05:35.668117Z",
     "iopub.status.idle": "2023-08-23T20:05:36.301745Z",
     "shell.execute_reply": "2023-08-23T20:05:36.301108Z"
    },
    "papermill": {
     "duration": 0.680747,
     "end_time": "2023-08-23T20:05:36.304372",
     "exception": false,
     "start_time": "2023-08-23T20:05:35.623625",
     "status": "completed"
    },
    "tags": []
   },
   "outputs": [],
   "source": [
    "metrics = ('aitchison', 'braycurtis', 'canberra', 'canberra_adkins', 'chebyshev', 'cityblock', 'correlation', 'cosine', 'dice', 'euclidean', 'hamming', 'jaccard', 'jensenshannon', 'kulsinski', 'matching', 'minkowski', 'rogerstanimoto', 'russellrao', 'seuclidean', 'sokalmichener', 'sokalsneath', 'sqeuclidean', 'yule')\n",
    "metrics = ('euclidean', 'dice', 'braycurtis', 'correlation', 'cosine', 'matching', 'jaccard')\n",
    "beta_diversities = dict()\n",
    "for metric in metrics:\n",
    "    print(f\"Calculating beta diversity: {metric}\")\n",
    "    try:\n",
    "        beta_diversity = beta(table=tabs, metric=metric, n_jobs=6, pseudocount=1).distance_matrix\n",
    "        beta_diversities[metric] = beta_diversity\n",
    "        # Save SampleData[BetaDiversity] Artifact\n",
    "        file_path = os.path.join(beta_path, f'beta-values-{metric}.qza')\n",
    "        beta_diversity.save(file_path)\n",
    "        print(f\"DONE: Calculating beta diversity: {metric}\")\n",
    "    except Exception as e:\n",
    "        print(f\"ERROR: Calculating beta diversity: {metric}\")"
   ]
  },
  {
   "cell_type": "markdown",
   "id": "200a2fa7",
   "metadata": {
    "papermill": {
     "duration": 0.044304,
     "end_time": "2023-08-23T20:05:36.397347",
     "exception": false,
     "start_time": "2023-08-23T20:05:36.353043",
     "status": "completed"
    },
    "tags": []
   },
   "source": [
    "### Beta group significance\n",
    "\n",
    "- [diversity beta_group_significance](https://docs.qiime2.org/2022.8/plugins/available/diversity/beta-group-significance/): Determine whether groups of samples are significantly different from one another using a permutation-based statistical test.\n",
    "- Marti J Anderson. A new method for non-parametric multivariate analysis of variance. Austral ecology, 26(1):32–46, 2001. doi:https://doi.org/10.1111/j.1442-9993.2001.01070.pp.x."
   ]
  },
  {
   "cell_type": "code",
   "execution_count": null,
   "id": "b8dd42b6",
   "metadata": {
    "ExecuteTime": {
     "end_time": "2022-09-29T20:55:08.313860Z",
     "start_time": "2022-09-29T20:54:36.336993Z"
    },
    "execution": {
     "iopub.execute_input": "2023-08-23T20:05:36.494005Z",
     "iopub.status.busy": "2023-08-23T20:05:36.493662Z",
     "iopub.status.idle": "2023-08-23T20:05:36.636242Z",
     "shell.execute_reply": "2023-08-23T20:05:36.635626Z"
    },
    "papermill": {
     "duration": 0.195987,
     "end_time": "2023-08-23T20:05:36.638355",
     "exception": false,
     "start_time": "2023-08-23T20:05:36.442368",
     "status": "completed"
    },
    "tags": []
   },
   "outputs": [],
   "source": [
    "methods = ('permanova', 'anosim', 'permdisp')\n",
    "for method in methods:\n",
    "    for metric, beta_diversity in beta_diversities.items():\n",
    "        print(f'Calculating beta group significance with method {method} and metric {metric}')\n",
    "        try:\n",
    "            beta_view = beta_group_significance(distance_matrix=beta_diversity, \n",
    "                                                metadata=metadata_qa.get_column(class_col), \n",
    "                                                pairwise=True, method=method).visualization\n",
    "            view_name = os.path.join(beta_path, f'beta-group-significance-{metric}-{method}.qzv')\n",
    "            beta_view.save(view_name)\n",
    "            print(f\"DONE: Calculating beta group significance: {method} {metric}\")\n",
    "        except Exception as e:\n",
    "            print(f\"ERROR: Calculating beta group significance: {method} {metric}\")"
   ]
  },
  {
   "cell_type": "markdown",
   "id": "c0de85cf",
   "metadata": {
    "papermill": {
     "duration": 0.044686,
     "end_time": "2023-08-23T20:05:36.733576",
     "exception": false,
     "start_time": "2023-08-23T20:05:36.688890",
     "status": "completed"
    },
    "tags": []
   },
   "source": [
    "### Beta group Rarefaction\n",
    "\n",
    "- [diversity beta_rarefaction](https://docs.qiime2.org/2022.8/plugins/available/diversity/beta-rarefaction/): Repeatedly rarefy a feature table to compare beta diversity results within a given rarefaction depth.  For a given beta diversity metric, this visualizer will provide: an Emperor jackknifed PCoA plot, samples clustered by UPGMA or neighbor joining with support calculation, and a heatmap showing the correlation between rarefaction trials of that beta diversity metric."
   ]
  }
 ],
 "metadata": {
  "celltoolbar": "Edit Metadata",
  "kernelspec": {
   "display_name": "Python 3 (ipykernel)",
   "language": "python",
   "name": "python3"
  },
  "language_info": {
   "codemirror_mode": {
    "name": "ipython",
    "version": 3
   },
   "file_extension": ".py",
   "mimetype": "text/x-python",
   "name": "python",
   "nbconvert_exporter": "python",
   "pygments_lexer": "ipython3",
   "version": "3.8.12"
  },
  "papermill": {
   "default_parameters": {},
   "duration": 77.046191,
   "end_time": "2023-08-23T20:05:37.599136",
   "environment_variables": {},
   "exception": null,
   "input_path": "nb-templates/step-diversity-analysis.ipynb",
   "output_path": "/home/lauro/nupeb/rede-micro/redemicro-ana-flavia-nutri/experiments/ana-flavia-NCxSTD-NC-trim/nb-executed-steps/step-diversity-analysis-ana-flavia-NCxSTD-NC-trim.ipynb",
   "parameters": {
    "base_dir": "/home/lauro/nupeb/rede-micro/redemicro-ana-flavia-nutri",
    "class_col": "group-id",
    "classifier_file": "/home/lauro/nupeb/rede-micro/models/silva-138-99-nb-classifier.qza",
    "experiment_name": "ana-flavia-NCxSTD-NC-trim",
    "manifest_file": "/home/lauro/nupeb/rede-micro/redemicro-ana-flavia-nutri/data/raw/manifest/manifest-ana-flavia-NCxSTD-NC.csv",
    "metadata_file": "/home/lauro/nupeb/rede-micro/redemicro-ana-flavia-nutri/data/raw/metadata/metadata-ana-flavia-NCxSTD-NC.tsv",
    "overlap": 12,
    "phred": 20,
    "replace_files": false,
    "threads": 6,
    "top_n": 20,
    "trim": {
     "forward_primer": "CCTACGGGRSGCAGCAG",
     "overlap": 8,
     "reverse_primer": "GGACTACHVGGGTWTCTAAT"
    },
    "trunc_f": 0,
    "trunc_r": 0
   },
   "start_time": "2023-08-23T20:04:20.552945",
   "version": "2.3.4"
  }
 },
 "nbformat": 4,
 "nbformat_minor": 5
}
