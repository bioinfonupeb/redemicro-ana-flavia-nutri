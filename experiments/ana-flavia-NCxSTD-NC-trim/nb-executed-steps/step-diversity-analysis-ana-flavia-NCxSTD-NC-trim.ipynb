{
 "cells": [
  {
   "cell_type": "markdown",
   "id": "15bcfa06",
   "metadata": {
    "papermill": {
     "duration": 0.025592,
     "end_time": "2024-03-05T22:03:33.325514",
     "exception": false,
     "start_time": "2024-03-05T22:03:33.299922",
     "status": "completed"
    },
    "tags": []
   },
   "source": [
    " \n",
    "# Alpha and Beta Diversity\n",
    "\n",
    "Different higher-level measures are often used to describe the microbiome in a sample. These do not provide information on changes in the abundance of specific taxa but allow us to access a broader change or difference in the composition of microorganisms. Alpha and beta diversity are examples of such measures.\n",
    "\n",
    "Different measures exist to estimate diversity within a single sample, jointly called alpha diversity. The different measures reflect the richness (number) or distribution (evenness) of a microbial sample or aim to reflect a combination of both properties.\n",
    "\n",
    "Rarefaction curves are often used when calculating alpha diversity indices because increasing numbers of sequenced taxa allow increasingly accurate estimates of total population diversity. Rarefaction curves can therefore be used to estimate the full sample richness, as compared to the observed sample richness.\n",
    "\n",
    "While alpha diversity is a measure of microbiome diversity applicable to a single sample, beta diversity is a measure of the similarity or dissimilarity of two communities. As for alpha diversity, many indices exist, each reflecting different aspects of community heterogeneity. Key differences relate to how the indices value variation in rare species if they consider presence/absence only or incorporate abundance, and how they interpret shared absence. Bray-Curtis dissimilarity is a popular measure that considers both size (overall abundance per sample) and shape (abundance of each taxon) of the communities (Bray, 1957). Beta diversity is an essential measure for many popular statistical methods in ecology, such as ordination-based methods, and is widely used for studying the association between environmental variables and microbial composition.\n",
    "\n",
    "In summary, alpha diversity measures can be seen as a summary statistic of a single population (within-sample diversity), while beta diversity measures are estimates of similarity or dissimilarity between populations (between samples).\n",
    "\n",
    "**Source**: (https://biomcare.com/info/key-terms-in-microbiome-projects/)"
   ]
  },
  {
   "cell_type": "markdown",
   "id": "0e7f2330",
   "metadata": {
    "ExecuteTime": {
     "end_time": "2022-09-22T19:36:33.828188Z",
     "start_time": "2022-09-22T19:36:33.817323Z"
    },
    "papermill": {
     "duration": 0.018766,
     "end_time": "2024-03-05T22:03:33.385134",
     "exception": false,
     "start_time": "2024-03-05T22:03:33.366368",
     "status": "completed"
    },
    "tags": []
   },
   "source": [
    "### STEP : Diversity Analysis\n",
    "\n",
    "Using QIIME2 to create diversity analisys graphs and calculations.\n",
    "\n",
    "- [QIIME2 Workflow Overview](https://docs.qiime2.org/2022.8/tutorials/overview/)\n",
    "\n",
    "\n",
    "#### Methods\n",
    "- [diversity](https://docs.qiime2.org/2022.8/plugins/available/diversity/)\n",
    "- [diversity alpha](https://docs.qiime2.org/2022.8/plugins/available/diversity/alpha/)\n",
    "- [diversity alpha_phylogenetic](https://docs.qiime2.org/2022.8/plugins/available/diversity/alpha-phylogenetic/)\n",
    "- [diversity beta](https://docs.qiime2.org/2022.8/plugins/available/diversity/beta/)\n",
    "- [diversity core_metrics](https://docs.qiime2.org/2022.8/plugins/available/diversity/core-metrics/)\n",
    "- [diversity alpha_group_significance](https://docs.qiime2.org/2022.8/plugins/available/diversity/alpha-group-significance/)\n",
    "- [diversity beta_group_significance](https://docs.qiime2.org/2022.8/plugins/available/diversity/beta-group-significance/)\n",
    "- [feature_table core_features](https://docs.qiime2.org/2022.8/plugins/available/feature-table/core-features/)\n",
    "- [feature_table summarize](https://docs.qiime2.org/2022.8/plugins/available/feature-table/summarize/)\n",
    "- [taxa filter-table](https://docs.qiime2.org/2022.8/plugins/available/taxa/filter-table/)\n",
    "- [taxa collapse](https://docs.qiime2.org/2022.8/plugins/available/taxa/collapse/)"
   ]
  },
  {
   "cell_type": "markdown",
   "id": "843debbf",
   "metadata": {
    "papermill": {
     "duration": 0.008676,
     "end_time": "2024-03-05T22:03:33.405654",
     "exception": false,
     "start_time": "2024-03-05T22:03:33.396978",
     "status": "completed"
    },
    "tags": []
   },
   "source": [
    "## Setup and settings"
   ]
  },
  {
   "cell_type": "code",
   "execution_count": 1,
   "id": "965e28e5",
   "metadata": {
    "ExecuteTime": {
     "end_time": "2022-11-03T20:35:26.198671Z",
     "start_time": "2022-11-03T20:35:06.473173Z"
    },
    "execution": {
     "iopub.execute_input": "2024-03-05T22:03:33.418215Z",
     "iopub.status.busy": "2024-03-05T22:03:33.418002Z",
     "iopub.status.idle": "2024-03-05T22:03:38.228782Z",
     "shell.execute_reply": "2024-03-05T22:03:38.228290Z"
    },
    "papermill": {
     "duration": 4.818065,
     "end_time": "2024-03-05T22:03:38.230036",
     "exception": false,
     "start_time": "2024-03-05T22:03:33.411971",
     "status": "completed"
    },
    "tags": []
   },
   "outputs": [],
   "source": [
    "# Importing packages\n",
    "import os\n",
    "import pandas as pd\n",
    "from qiime2 import Artifact\n",
    "from qiime2 import Visualization\n",
    "from qiime2 import Metadata\n",
    "\n",
    "from qiime2.plugins.phylogeny.pipelines import align_to_tree_mafft_fasttree\n",
    "\n",
    "from qiime2.plugins.diversity.pipelines import alpha\n",
    "from qiime2.plugins.diversity.pipelines import beta\n",
    "from qiime2.plugins.diversity.pipelines import core_metrics\n",
    "from qiime2.plugins.diversity.pipelines import alpha_phylogenetic\n",
    "\n",
    "from qiime2.plugins.diversity.visualizers import alpha_group_significance\n",
    "from qiime2.plugins.diversity.visualizers import beta_group_significance\n",
    "from qiime2.plugins.diversity.visualizers import alpha_correlation\n",
    "from qiime2.plugins.diversity.visualizers import beta_rarefaction\n",
    "\n",
    "from qiime2.plugins.taxa.methods import filter_table\n",
    "from qiime2.plugins.taxa.methods import collapse\n",
    "\n",
    "from qiime2.plugins.feature_table.visualizers import tabulate_seqs\n",
    "from qiime2.plugins.feature_table.visualizers import summarize\n",
    "from qiime2.plugins.feature_table.visualizers import core_features\n",
    "from qiime2.plugins.diversity.pipelines import core_metrics_phylogenetic\n",
    "\n",
    "from qiime2.plugins.feature_table.methods import filter_samples\n",
    "from qiime2.plugins.feature_table.methods import filter_seqs\n",
    "\n",
    "from qiime2.plugins.alignment.methods import mafft\n",
    "\n",
    "\n",
    "import matplotlib.pyplot as plt\n",
    "\n",
    "%matplotlib inline"
   ]
  },
  {
   "cell_type": "markdown",
   "id": "530ceb60",
   "metadata": {
    "papermill": {
     "duration": 0.002939,
     "end_time": "2024-03-05T22:03:38.236089",
     "exception": false,
     "start_time": "2024-03-05T22:03:38.233150",
     "status": "completed"
    },
    "tags": []
   },
   "source": [
    "### Receiving the parameters\n",
    "\n",
    "The following cell can receive parameters using the [papermill](https://papermill.readthedocs.io/en/latest/) tool."
   ]
  },
  {
   "cell_type": "code",
   "execution_count": 2,
   "id": "18d874ea",
   "metadata": {
    "ExecuteTime": {
     "end_time": "2022-09-29T20:54:14.793270Z",
     "start_time": "2022-09-29T20:54:14.789367Z"
    },
    "execution": {
     "iopub.execute_input": "2024-03-05T22:03:38.244109Z",
     "iopub.status.busy": "2024-03-05T22:03:38.243853Z",
     "iopub.status.idle": "2024-03-05T22:03:38.246678Z",
     "shell.execute_reply": "2024-03-05T22:03:38.246234Z"
    },
    "papermill": {
     "duration": 0.007174,
     "end_time": "2024-03-05T22:03:38.247572",
     "exception": false,
     "start_time": "2024-03-05T22:03:38.240398",
     "status": "completed"
    },
    "tags": [
     "parameters"
    ]
   },
   "outputs": [],
   "source": [
    "base_dir = os.path.join('/', 'home')\n",
    "metadata_file = os.path.abspath(os.path.join(base_dir, 'data', 'metadatada.tsv'))\n",
    "experiment_name = ''\n",
    "class_col = ''\n",
    "replace_files = False"
   ]
  },
  {
   "cell_type": "code",
   "execution_count": 3,
   "id": "cd9edc46",
   "metadata": {
    "execution": {
     "iopub.execute_input": "2024-03-05T22:03:38.254009Z",
     "iopub.status.busy": "2024-03-05T22:03:38.253860Z",
     "iopub.status.idle": "2024-03-05T22:03:38.256805Z",
     "shell.execute_reply": "2024-03-05T22:03:38.256437Z"
    },
    "papermill": {
     "duration": 0.007192,
     "end_time": "2024-03-05T22:03:38.257676",
     "exception": false,
     "start_time": "2024-03-05T22:03:38.250484",
     "status": "completed"
    },
    "tags": [
     "injected-parameters"
    ]
   },
   "outputs": [],
   "source": [
    "# Parameters\n",
    "base_dir = \"/mnt/nupeb/rede-micro/redemicro-ana-flavia-nutri\"\n",
    "class_col = \"group-id\"\n",
    "classifier_file = \"/mnt/nupeb/rede-micro/datasets/16S_classifiers_qiime2/silva-138-99-nb-classifier.qza\"\n",
    "experiment_name = \"ana-flavia-NCxSTD-NC-trim\"\n",
    "manifest_file = \"/mnt/nupeb/rede-micro/redemicro-ana-flavia-nutri/data/raw/manifest/manifest-ana-flavia-NCxSTD-NC.csv\"\n",
    "metadata_file = \"/mnt/nupeb/rede-micro/redemicro-ana-flavia-nutri/data/raw/metadata/metadata-ana-flavia-NCxSTD-NC.tsv\"\n",
    "overlap = 12\n",
    "phred = 20\n",
    "replace_files = False\n",
    "threads = 6\n",
    "top_n = 20\n",
    "trim = {\n",
    "    \"forward_primer\": \"CCTACGGGRSGCAGCAG\",\n",
    "    \"overlap\": 8,\n",
    "    \"reverse_primer\": \"GGACTACHVGGGTWTCTAAT\",\n",
    "}\n",
    "trunc_f = 0\n",
    "trunc_r = 0\n"
   ]
  },
  {
   "cell_type": "code",
   "execution_count": 4,
   "id": "f38617d9",
   "metadata": {
    "ExecuteTime": {
     "end_time": "2022-09-29T20:54:14.804575Z",
     "start_time": "2022-09-29T20:54:14.794927Z"
    },
    "execution": {
     "iopub.execute_input": "2024-03-05T22:03:38.264129Z",
     "iopub.status.busy": "2024-03-05T22:03:38.264006Z",
     "iopub.status.idle": "2024-03-05T22:03:38.266261Z",
     "shell.execute_reply": "2024-03-05T22:03:38.265936Z"
    },
    "papermill": {
     "duration": 0.006521,
     "end_time": "2024-03-05T22:03:38.267116",
     "exception": false,
     "start_time": "2024-03-05T22:03:38.260595",
     "status": "completed"
    },
    "tags": []
   },
   "outputs": [],
   "source": [
    "experiment_folder = os.path.abspath(os.path.join(base_dir, 'experiments', experiment_name))\n",
    "img_folder = os.path.abspath(os.path.join(experiment_folder, 'imgs'))"
   ]
  },
  {
   "cell_type": "markdown",
   "id": "ea9b90fb",
   "metadata": {
    "papermill": {
     "duration": 0.002897,
     "end_time": "2024-03-05T22:03:38.272960",
     "exception": false,
     "start_time": "2024-03-05T22:03:38.270063",
     "status": "completed"
    },
    "tags": []
   },
   "source": [
    "### Defining names, paths and flags"
   ]
  },
  {
   "cell_type": "code",
   "execution_count": 5,
   "id": "45727eef",
   "metadata": {
    "ExecuteTime": {
     "end_time": "2022-09-29T20:54:14.816686Z",
     "start_time": "2022-09-29T20:54:14.806238Z"
    },
    "execution": {
     "iopub.execute_input": "2024-03-05T22:03:38.279756Z",
     "iopub.status.busy": "2024-03-05T22:03:38.279632Z",
     "iopub.status.idle": "2024-03-05T22:03:38.284131Z",
     "shell.execute_reply": "2024-03-05T22:03:38.283721Z"
    },
    "papermill": {
     "duration": 0.008804,
     "end_time": "2024-03-05T22:03:38.285002",
     "exception": false,
     "start_time": "2024-03-05T22:03:38.276198",
     "status": "completed"
    },
    "tags": []
   },
   "outputs": [
    {
     "name": "stdout",
     "output_type": "stream",
     "text": [
      "The new directory is created in /mnt/nupeb/rede-micro/redemicro-ana-flavia-nutri/experiments/ana-flavia-NCxSTD-NC-trim/qiime-artifacts/alpha-analysis\n",
      "The new directory is created in /mnt/nupeb/rede-micro/redemicro-ana-flavia-nutri/experiments/ana-flavia-NCxSTD-NC-trim/qiime-artifacts/beta-analysis\n"
     ]
    }
   ],
   "source": [
    "# QIIME2 Artifacts folder\n",
    "qiime_folder = os.path.join(experiment_folder, 'qiime-artifacts')\n",
    "\n",
    "# Input - DADA2 Artifacts\n",
    "dada2_tabs_path = os.path.join(qiime_folder, 'dada2-tabs.qza')\n",
    "dada2_reps_path = os.path.join(qiime_folder, 'dada2-reps.qza')\n",
    "dada2_stat_path = os.path.join(qiime_folder, 'dada2-stat.qza')\n",
    "\n",
    "# Input - Taxonaomic Artifacts\n",
    "taxonomy_path = os.path.join(qiime_folder, 'metatax.qza')\n",
    "\n",
    "# Create folder to store Alpha files\n",
    "alpha_path = os.path.join(qiime_folder, 'alpha-analysis')\n",
    "if not os.path.exists(alpha_path):\n",
    "    os.makedirs(alpha_path)\n",
    "    print(f'The new directory is created in {alpha_path}')\n",
    "    \n",
    "# Create folder to store Beta files\n",
    "beta_path = os.path.join(qiime_folder, 'beta-analysis')\n",
    "if not os.path.exists(beta_path):\n",
    "    os.makedirs(beta_path)\n",
    "    print(f'The new directory is created in {beta_path}')\n",
    "\n",
    "# Output -Diversity Artifacts\n",
    "alpha_diversity_path = os.path.join(alpha_path, 'alpha-diversity.qza')\n",
    "alpha_diversity_view_path = os.path.join(alpha_path, 'alpha-diversity.qzv')\n",
    "beta_diversity_path = os.path.join(beta_path, 'beta-diversity.qza')\n",
    "beta_diversity_view_path = os.path.join(beta_path, 'beta-diversity.qzv')"
   ]
  },
  {
   "cell_type": "code",
   "execution_count": 6,
   "id": "601ae263",
   "metadata": {
    "ExecuteTime": {
     "end_time": "2022-09-29T20:54:14.829117Z",
     "start_time": "2022-09-29T20:54:14.818272Z"
    },
    "execution": {
     "iopub.execute_input": "2024-03-05T22:03:38.291491Z",
     "iopub.status.busy": "2024-03-05T22:03:38.291368Z",
     "iopub.status.idle": "2024-03-05T22:03:38.294983Z",
     "shell.execute_reply": "2024-03-05T22:03:38.294569Z"
    },
    "papermill": {
     "duration": 0.00786,
     "end_time": "2024-03-05T22:03:38.295827",
     "exception": false,
     "start_time": "2024-03-05T22:03:38.287967",
     "status": "completed"
    },
    "tags": []
   },
   "outputs": [],
   "source": [
    "def filter_and_collapse(tab, seqs, tax, meta, lvl, exclude=True, exclude_list='uncultured,unidentified,metagenome'):\n",
    "    from qiime2.plugins.taxa.methods import collapse\n",
    "    from qiime2.plugins.taxa.methods import filter_table\n",
    "    from qiime2.plugins.feature_table.methods import filter_seqs\n",
    "    from qiime2.plugins.feature_table.visualizers import summarize\n",
    "    \n",
    "    to_include = ('d', 'p', 'c', 'o', 'f', 'g', 's')[lvl-1]\n",
    "    to_include += '__'\n",
    "    to_exclude = exclude_list if exclude else None\n",
    "    \n",
    "    filtered_tabs = filter_table(\n",
    "        table=tab, \n",
    "        taxonomy=tax,\n",
    "        include=to_include,\n",
    "        exclude=to_exclude,\n",
    "        mode='contains').filtered_table\n",
    "    \n",
    "    filtered_seqs = filter_seqs(\n",
    "        data = seqs,\n",
    "        table = filtered_tabs,\n",
    "    ).filtered_data\n",
    "    \n",
    "    collapsed_table = collapse(table=filtered_tabs, taxonomy=tax, level=lvl).collapsed_table\n",
    "    collapsed_table_view = summarize(table=collapsed_table, sample_metadata=meta).visualization\n",
    "    \n",
    "    return collapsed_table, collapsed_table_view, filtered_seqs"
   ]
  },
  {
   "cell_type": "markdown",
   "id": "0999a1b2",
   "metadata": {
    "papermill": {
     "duration": 0.002963,
     "end_time": "2024-03-05T22:03:38.301773",
     "exception": false,
     "start_time": "2024-03-05T22:03:38.298810",
     "status": "completed"
    },
    "tags": []
   },
   "source": [
    "## Step execution\n",
    "\n",
    "### Load input files\n",
    "\n",
    "This Step import the QIIME2 `FeatureTable[Frequency]` Artifact and the `Metadata` file."
   ]
  },
  {
   "cell_type": "code",
   "execution_count": 7,
   "id": "8f299d1a",
   "metadata": {
    "ExecuteTime": {
     "end_time": "2022-09-29T20:54:15.559837Z",
     "start_time": "2022-09-29T20:54:14.830405Z"
    },
    "execution": {
     "iopub.execute_input": "2024-03-05T22:03:38.308503Z",
     "iopub.status.busy": "2024-03-05T22:03:38.308278Z",
     "iopub.status.idle": "2024-03-05T22:03:38.907527Z",
     "shell.execute_reply": "2024-03-05T22:03:38.907061Z"
    },
    "papermill": {
     "duration": 0.603895,
     "end_time": "2024-03-05T22:03:38.908712",
     "exception": false,
     "start_time": "2024-03-05T22:03:38.304817",
     "status": "completed"
    },
    "tags": []
   },
   "outputs": [],
   "source": [
    "#Load Metadata\n",
    "metadata_qa = Metadata.load(metadata_file)\n",
    "\n",
    "#Load FeatureTable[Frequency]\n",
    "tabs = Artifact.load(dada2_tabs_path)\n",
    "tabs_df = tabs.view(Metadata).to_dataframe().T\n",
    "\n",
    "# FeatureData[Sequence]\n",
    "reps = Artifact.load(dada2_reps_path)\n",
    "\n",
    "# FeatureData[Taxonomy]\n",
    "tax = Artifact.load(taxonomy_path)"
   ]
  },
  {
   "cell_type": "code",
   "execution_count": 8,
   "id": "c8dfe530",
   "metadata": {
    "ExecuteTime": {
     "end_time": "2022-09-29T20:54:15.564968Z",
     "start_time": "2022-09-29T20:54:15.561875Z"
    },
    "execution": {
     "iopub.execute_input": "2024-03-05T22:03:38.916240Z",
     "iopub.status.busy": "2024-03-05T22:03:38.915825Z",
     "iopub.status.idle": "2024-03-05T22:03:39.508566Z",
     "shell.execute_reply": "2024-03-05T22:03:39.508015Z"
    },
    "papermill": {
     "duration": 0.597584,
     "end_time": "2024-03-05T22:03:39.509613",
     "exception": false,
     "start_time": "2024-03-05T22:03:38.912029",
     "status": "completed"
    },
    "tags": []
   },
   "outputs": [
    {
     "name": "stderr",
     "output_type": "stream",
     "text": [
      "/home/lauro/anaconda3/envs/qiime2-2023.5/lib/python3.8/site-packages/q2_types/feature_data/_transformer.py:258: FutureWarning: iteritems is deprecated and will be removed in a future version. Use .items instead.\n",
      "  for id_, seq in data.iteritems():\n"
     ]
    }
   ],
   "source": [
    "# Filter FeatureTable[Frequency | RelativeFrequency | PresenceAbsence | Composition] based on Metadata sample ID values\n",
    "tabs = filter_samples(\n",
    "    table=tabs,\n",
    "    metadata=metadata_qa,\n",
    ").filtered_table\n",
    "# Filter SampleData[SequencesWithQuality | PairedEndSequencesWithQuality | JoinedSequencesWithQuality] based on Metadata sample ID values; returns FeatureData[Sequence | AlignedSequence]\n",
    "reps = filter_seqs(\n",
    "    data=reps,\n",
    "    table=tabs,\n",
    ").filtered_data"
   ]
  },
  {
   "cell_type": "markdown",
   "id": "9f43843a",
   "metadata": {
    "ExecuteTime": {
     "end_time": "2022-09-22T22:48:07.523952Z",
     "start_time": "2022-09-22T22:48:07.517565Z"
    },
    "papermill": {
     "duration": 0.003089,
     "end_time": "2024-03-05T22:03:39.516098",
     "exception": false,
     "start_time": "2024-03-05T22:03:39.513009",
     "status": "completed"
    },
    "tags": []
   },
   "source": [
    "## Alpha diversity analysis\n",
    "\n",
    "#### Reference\n",
    "- [The Use and Types of Alpha-Diversity Metrics in Microbial NGS](https://www.cd-genomics.com/microbioseq/the-use-and-types-of-alpha-diversity-metrics-in-microbial-ngs.html)\n",
    "- [Alpha diversity metrics](http://scikit-bio.org/docs/0.2.0/generated/skbio.diversity.alpha.html)\n",
    "\n",
    "#### Methods\n",
    "- [diversity alpha](https://docs.qiime2.org/2022.8/plugins/available/diversity/alpha/): Computes a user-specified alpha diversity metric for all samples in a\n",
    "feature table.\n",
    "- [diversity alpha_phylogenetic](https://docs.qiime2.org/2022.8/plugins/available/diversity/alpha-phylogenetic/): Computes a user-specified phylogenetic alpha diversity metric for all\n",
    "samples in a feature table.\n",
    "- [diversity alpha_correlation](https://docs.qiime2.org/2022.8/plugins/available/diversity/alpha-correlation/): Determine whether numeric sample metadata columns are correlated with alpha diversity.\n",
    "- [diversity alpha_group_significance](https://docs.qiime2.org/2022.8/plugins/available/diversity/alpha-group-significance/): Visually and statistically compare groups of alpha diversity values."
   ]
  },
  {
   "cell_type": "markdown",
   "id": "606b9c75",
   "metadata": {
    "papermill": {
     "duration": 0.003368,
     "end_time": "2024-03-05T22:03:39.524417",
     "exception": false,
     "start_time": "2024-03-05T22:03:39.521049",
     "status": "completed"
    },
    "tags": []
   },
   "source": [
    "### Compute Alpha Diversity vectors\n",
    "- [diversity alpha](https://docs.qiime2.org/2022.8/plugins/available/diversity/alpha/): Computes a user-specified alpha diversity metric for all samples in a feature table.\n",
    "- [Alpha diversity metrics](http://scikit-bio.org/docs/0.2.0/generated/skbio.diversity.alpha.html)\n",
    " - Choices: ('ace', 'berger_parker_d', 'brillouin_d', 'chao1', 'chao1_ci', 'dominance', 'doubles', 'enspie', 'esty_ci', 'fisher_alpha', 'gini_index', 'goods_coverage', 'heip_e', 'kempton_taylor_q', 'lladser_pe', 'margalef', 'mcintosh_d', 'mcintosh_e', 'menhinick', 'michaelis_menten_fit', 'observed_features', 'osd', 'pielou_e', 'robbins', 'shannon', 'simpson', 'simpson_e', 'singles', 'strong')"
   ]
  },
  {
   "cell_type": "code",
   "execution_count": 9,
   "id": "556e5264",
   "metadata": {
    "ExecuteTime": {
     "end_time": "2022-09-29T20:54:20.790166Z",
     "start_time": "2022-09-29T20:54:20.451134Z"
    },
    "execution": {
     "iopub.execute_input": "2024-03-05T22:03:39.531706Z",
     "iopub.status.busy": "2024-03-05T22:03:39.531243Z",
     "iopub.status.idle": "2024-03-05T22:03:39.908119Z",
     "shell.execute_reply": "2024-03-05T22:03:39.907596Z"
    },
    "papermill": {
     "duration": 0.38152,
     "end_time": "2024-03-05T22:03:39.909058",
     "exception": false,
     "start_time": "2024-03-05T22:03:39.527538",
     "status": "completed"
    },
    "tags": []
   },
   "outputs": [
    {
     "name": "stdout",
     "output_type": "stream",
     "text": [
      "Calculating alpha diversity: chao1\n",
      "DONE: Calculating alpha diversity: chao1\n",
      "Calculating alpha diversity: chao1_ci\n",
      "DONE: Calculating alpha diversity: chao1_ci\n",
      "Calculating alpha diversity: observed_features\n",
      "DONE: Calculating alpha diversity: observed_features\n",
      "Calculating alpha diversity: shannon\n"
     ]
    },
    {
     "name": "stdout",
     "output_type": "stream",
     "text": [
      "DONE: Calculating alpha diversity: shannon\n",
      "Calculating alpha diversity: simpson\n",
      "DONE: Calculating alpha diversity: simpson\n",
      "Calculating alpha diversity: simpson_e\n",
      "DONE: Calculating alpha diversity: simpson_e\n"
     ]
    }
   ],
   "source": [
    "metrics = ('ace', 'berger_parker_d', 'brillouin_d', 'chao1', 'chao1_ci', 'dominance', 'doubles', 'enspie', 'esty_ci', 'fisher_alpha', 'gini_index', 'goods_coverage', 'heip_e', 'kempton_taylor_q', 'lladser_pe', 'margalef', 'mcintosh_d', 'mcintosh_e', 'menhinick', 'michaelis_menten_fit', 'observed_features', 'osd', 'pielou_e', 'robbins', 'shannon', 'simpson', 'simpson_e', 'singles', 'strong')\n",
    "\n",
    "# Sugestão de valores para Alpha diversity\n",
    "# chao1 e observed_features (riqueza); shannon e simpson (diversidade - que levam em consideração riqueza e equitabilidade).\n",
    "metrics = ('chao1', 'chao1_ci', 'observed_features', 'shannon', 'simpson', 'simpson_e')\n",
    "alpha_diversities = dict()\n",
    "for metric in metrics:\n",
    "    print(f\"Calculating alpha diversity: {metric}\")\n",
    "    try:\n",
    "        alpha_diversity = alpha(table=tabs, metric=metric).alpha_diversity\n",
    "        alpha_diversities[metric] = alpha_diversity\n",
    "        # Save SampleData[AlphaDiversity] Artifact\n",
    "        file_path = os.path.join(alpha_path, f'alpha-values-{metric}.qza')\n",
    "        alpha_diversity.save(file_path)\n",
    "        print(f\"DONE: Calculating alpha diversity: {metric}\")\n",
    "    except Exception as e:\n",
    "        print(f\"ERROR: Calculating alpha diversity: {metric}\")\n",
    "        print(e)"
   ]
  },
  {
   "cell_type": "markdown",
   "id": "184bcb7b",
   "metadata": {
    "papermill": {
     "duration": 0.003166,
     "end_time": "2024-03-05T22:03:39.915668",
     "exception": false,
     "start_time": "2024-03-05T22:03:39.912502",
     "status": "completed"
    },
    "tags": []
   },
   "source": [
    "### Create Phylogenetic inference\n",
    "\n",
    "- [alignment align_to_tree_mafft_fasttree](https://docs.qiime2.org/2022.8/plugins/available/phylogeny/align-to-tree-mafft-fasttree/): Build a phylogenetic tree using fasttree and mafft alignment\n",
    "\n",
    "This pipeline will start by creating a sequence alignment using MAFFT,\n",
    "after which any alignment columns that are phylogenetically uninformative\n",
    "or ambiguously aligned will be removed (masked). The resulting masked\n",
    "alignment will be used to infer a phylogenetic tree and then subsequently\n",
    "rooted at its midpoint. Output files from each step of the pipeline will be\n",
    "saved. This includes both the unmasked and masked MAFFT alignment from\n",
    "q2-alignment methods, and both the rooted and unrooted phylogenies from\n",
    "q2-phylogeny methods.\n",
    "\n",
    "\n",
    "Returns\n",
    "- alignment : FeatureData[AlignedSequence] : The aligned sequences.\n",
    "- masked_alignment : FeatureData[AlignedSequence] : The masked alignment.\n",
    "- tree : Phylogeny[Unrooted] : The unrooted phylogenetic tree.\n",
    "- rooted_tree : Phylogeny[Rooted] : The rooted phylogenetic tree."
   ]
  },
  {
   "cell_type": "code",
   "execution_count": 10,
   "id": "9c8cfe47",
   "metadata": {
    "ExecuteTime": {
     "end_time": "2022-09-29T20:54:35.139531Z",
     "start_time": "2022-09-29T20:54:20.792130Z"
    },
    "execution": {
     "iopub.execute_input": "2024-03-05T22:03:39.922717Z",
     "iopub.status.busy": "2024-03-05T22:03:39.922579Z",
     "iopub.status.idle": "2024-03-05T22:03:48.316549Z",
     "shell.execute_reply": "2024-03-05T22:03:48.315934Z"
    },
    "papermill": {
     "duration": 8.398708,
     "end_time": "2024-03-05T22:03:48.317571",
     "exception": false,
     "start_time": "2024-03-05T22:03:39.918863",
     "status": "completed"
    },
    "tags": []
   },
   "outputs": [
    {
     "name": "stdout",
     "output_type": "stream",
     "text": [
      "Running external command line application. This may print messages to stdout and/or stderr.\n",
      "The command being run is below. This command cannot be manually re-run as it will depend on temporary files that no longer exist.\n",
      "\n",
      "Command: mafft --preservecase --inputorder --thread 6 /tmp/qiime2/lauro/data/cb00e2af-b1fa-4d6c-9092-02216fdd6ae0/data/dna-sequences.fasta\n",
      "\n"
     ]
    },
    {
     "name": "stderr",
     "output_type": "stream",
     "text": [
      "inputfile = orig\n",
      "1078 x 430 - 253 d\n",
      "nthread = 6\n",
      "nthreadpair = 6\n",
      "nthreadtb = 6\n",
      "ppenalty_ex = 0\n",
      "stacksize: 8192 kb\n",
      "generating a scoring matrix for nucleotide (dist=200) ... done\n",
      "Gap Penalty = -1.53, +0.00, +0.00\n",
      "\n",
      "\n",
      "\n",
      "Making a distance matrix ..\n",
      "\r",
      "    1 / 1078 (thread    0)\r",
      "  101 / 1078 (thread    1)\r",
      "  201 / 1078 (thread    0)\r",
      "  301 / 1078 (thread    3)\r",
      "  401 / 1078 (thread    2)\r",
      "  501 / 1078 (thread    4)\r",
      "  601 / 1078 (thread    2)\r",
      "  701 / 1078 (thread    3)\r",
      "  801 / 1078 (thread    0)\r",
      "  901 / 1078 (thread    4)\r",
      " 1001 / 1078 (thread    5)\n",
      "done.\n",
      "\n",
      "Constructing a UPGMA tree (efffree=0) ... \n",
      "\r",
      "    0 / 1078\r",
      "   10 / 1078\r",
      "   20 / 1078\r",
      "   30 / 1078\r",
      "   40 / 1078\r",
      "   50 / 1078\r",
      "   60 / 1078\r",
      "   70 / 1078\r",
      "   80 / 1078\r",
      "   90 / 1078\r",
      "  100 / 1078\r",
      "  110 / 1078\r",
      "  120 / 1078\r",
      "  130 / 1078\r",
      "  140 / 1078\r",
      "  150 / 1078\r",
      "  160 / 1078\r",
      "  170 / 1078\r",
      "  180 / 1078\r",
      "  190 / 1078\r",
      "  200 / 1078\r",
      "  210 / 1078\r",
      "  220 / 1078\r",
      "  230 / 1078\r",
      "  240 / 1078\r",
      "  250 / 1078\r",
      "  260 / 1078\r",
      "  270 / 1078\r",
      "  280 / 1078\r",
      "  290 / 1078\r",
      "  300 / 1078\r",
      "  310 / 1078\r",
      "  320 / 1078\r",
      "  330 / 1078\r",
      "  340 / 1078\r",
      "  350 / 1078\r",
      "  360 / 1078\r",
      "  370 / 1078\r",
      "  380 / 1078\r",
      "  390 / 1078\r",
      "  400 / 1078\r",
      "  410 / 1078\r",
      "  420 / 1078\r",
      "  430 / 1078\r",
      "  440 / 1078\r",
      "  450 / 1078\r",
      "  460 / 1078\r",
      "  470 / 1078\r",
      "  480 / 1078\r",
      "  490 / 1078\r",
      "  500 / 1078\r",
      "  510 / 1078\r",
      "  520 / 1078\r",
      "  530 / 1078\r",
      "  540 / 1078\r",
      "  550 / 1078\r",
      "  560 / 1078\r",
      "  570 / 1078\r",
      "  580 / 1078\r",
      "  590 / 1078\r",
      "  600 / 1078\r",
      "  610 / 1078\r",
      "  620 / 1078\r",
      "  630 / 1078\r",
      "  640 / 1078\r",
      "  650 / 1078\r",
      "  660 / 1078\r",
      "  670 / 1078\r",
      "  680 / 1078\r",
      "  690 / 1078\r",
      "  700 / 1078\r",
      "  710 / 1078\r",
      "  720 / 1078\r",
      "  730 / 1078\r",
      "  740 / 1078\r",
      "  750 / 1078\r",
      "  760 / 1078\r",
      "  770 / 1078\r",
      "  780 / 1078\r",
      "  790 / 1078\r",
      "  800 / 1078\r",
      "  810 / 1078\r",
      "  820 / 1078\r",
      "  830 / 1078\r",
      "  840 / 1078\r",
      "  850 / 1078\r",
      "  860 / 1078\r",
      "  870 / 1078\r",
      "  880 / 1078\r",
      "  890 / 1078\r",
      "  900 / 1078\r",
      "  910 / 1078\r",
      "  920 / 1078\r",
      "  930 / 1078\r",
      "  940 / 1078\r",
      "  950 / 1078\r",
      "  960 / 1078\r",
      "  970 / 1078\r",
      "  980 / 1078\r",
      "  990 / 1078\r",
      " 1000 / 1078\r",
      " 1010 / 1078\r",
      " 1020 / 1078\r",
      " 1030 / 1078\r",
      " 1040 / 1078\r",
      " 1050 / 1078\r",
      " 1060 / 1078\r",
      " 1070 / 1078\n",
      "done.\n",
      "\n",
      "Progressive alignment 1/2... \n",
      "\r",
      "STEP     1 / 1077 (thread    0) f\b\b\r",
      "STEP     2 / 1077 (thread    4) f\b\b\r",
      "STEP     3 / 1077 (thread    2) f\b\b\r",
      "STEP     4 / 1077 (thread    1) f\b\b\r",
      "STEP     5 / 1077 (thread    5) f\b\b\r",
      "STEP     6 / 1077 (thread    3) f\b\b\r",
      "STEP     7 / 1077 (thread    3) f\b\b\r",
      "STEP     8 / 1077 (thread    1) f\b\b\r",
      "STEP     9 / 1077 (thread    2) f\b\b\r",
      "STEP    10 / 1077 (thread    5) f\b\b\r",
      "STEP    11 / 1077 (thread    4) f\b\b\r",
      "STEP    12 / 1077 (thread    0) f\b\b\r",
      "STEP    13 / 1077 (thread    1) f\b\b\r",
      "STEP    14 / 1077 (thread    2) f\b\b\r",
      "STEP    15 / 1077 (thread    5) f\b\b\r",
      "STEP    16 / 1077 (thread    3) f\b\b\r",
      "STEP    17 / 1077 (thread    4) f\b\b\r",
      "STEP    18 / 1077 (thread    0) f\b\b\r",
      "STEP    19 / 1077 (thread    1) f\b\b\r",
      "STEP    20 / 1077 (thread    2) f\b\b\r",
      "STEP    21 / 1077 (thread    5) f\b\b\r",
      "STEP    22 / 1077 (thread    3) f\b\b\r",
      "STEP    23 / 1077 (thread    4) f\b\b\r",
      "STEP    24 / 1077 (thread    0) f\b\b\r",
      "STEP    25 / 1077 (thread    1) f\b\b\r",
      "STEP    26 / 1077 (thread    2) f\b\b\r",
      "STEP    27 / 1077 (thread    5) f\b\b\r",
      "STEP    28 / 1077 (thread    3) f\b\b\r",
      "STEP    29 / 1077 (thread    4) f\b\b\r",
      "STEP    30 / 1077 (thread    0) f\b\b\r",
      "STEP    31 / 1077 (thread    1) f\b\b\r",
      "STEP    32 / 1077 (thread    2) f\b\b\r",
      "STEP    33 / 1077 (thread    5) f\b\b\r",
      "STEP    34 / 1077 (thread    3) f\b\b\r",
      "STEP    35 / 1077 (thread    4) f\b\b\r",
      "STEP    36 / 1077 (thread    0) f\b\b\r",
      "STEP    37 / 1077 (thread    1) f\b\b\r",
      "STEP    38 / 1077 (thread    2) f\b\b\r",
      "STEP    39 / 1077 (thread    5) f\b\b\r",
      "STEP    40 / 1077 (thread    3) f\b\b\r",
      "STEP    41 / 1077 (thread    4) f\b\b\r",
      "STEP    42 / 1077 (thread    0) f\b\b\r",
      "STEP    43 / 1077 (thread    2) f\b\b\r",
      "STEP    44 / 1077 (thread    5) f\b\b\r",
      "STEP    45 / 1077 (thread    3) f\b\b\r",
      "STEP    46 / 1077 (thread    4) f\b\b\r",
      "STEP    47 / 1077 (thread    0) f\b\b\r",
      "STEP    48 / 1077 (thread    2) f\b\b\r",
      "STEP    49 / 1077 (thread    5) f\b\b\r",
      "STEP    50 / 1077 (thread    3) f\b\b\r",
      "STEP    51 / 1077 (thread    1) f\b\b\r",
      "STEP    52 / 1077 (thread    4) f\b\b\r",
      "STEP    53 / 1077 (thread    0) f\b\b\r",
      "STEP    54 / 1077 (thread    2) f\b\b\r",
      "STEP    55 / 1077 (thread    5) f\b\b\r",
      "STEP    56 / 1077 (thread    3) f\b\b\r",
      "STEP    57 / 1077 (thread    1) f\b\b\r",
      "STEP    58 / 1077 (thread    4) f\b\b\r",
      "STEP    59 / 1077 (thread    0) f\b\b\r",
      "STEP    60 / 1077 (thread    1) f\b\b\r",
      "STEP    61 / 1077 (thread    4) f\b\b\r",
      "STEP    62 / 1077 (thread    0) f\b\b\r",
      "STEP    63 / 1077 (thread    3) f\b\b\r",
      "STEP    64 / 1077 (thread    5) f\b\b\r",
      "STEP    65 / 1077 (thread    1) f\b\b\r",
      "STEP    66 / 1077 (thread    4) f\b\b\r",
      "STEP    67 / 1077 (thread    0) f\b\b\r",
      "STEP    68 / 1077 (thread    2) f\b\b\r",
      "STEP    69 / 1077 (thread    3) f\b\b\r",
      "STEP    70 / 1077 (thread    5) f\b\b\r",
      "STEP    71 / 1077 (thread    1) f\b\b\r",
      "STEP    72 / 1077 (thread    4) f\b\b\r",
      "STEP    73 / 1077 (thread    0) f\b\b\r",
      "STEP    74 / 1077 (thread    2) f\b\b\r",
      "STEP    75 / 1077 (thread    3) f\b\b\r",
      "STEP    76 / 1077 (thread    5) f\b\b\r",
      "STEP    77 / 1077 (thread    1) f\b\b\r",
      "STEP    78 / 1077 (thread    0) f\b\b\r",
      "STEP    79 / 1077 (thread    2) f\b\b\r",
      "STEP    80 / 1077 (thread    3) f\b\b\r",
      "STEP    81 / 1077 (thread    5) f\b\b\r",
      "STEP    82 / 1077 (thread    1) f\b\b\r",
      "STEP    83 / 1077 (thread    0) f\b\b\r",
      "STEP    84 / 1077 (thread    2) f\b\b\r",
      "STEP    85 / 1077 (thread    3) f\b\b\r",
      "STEP    86 / 1077 (thread    4) f\b\b\r",
      "STEP    87 / 1077 (thread    5) f\b\b\r",
      "STEP    88 / 1077 (thread    1) f\b\b\r",
      "STEP    89 / 1077 (thread    2) f\b\b\r",
      "STEP    90 / 1077 (thread    0) f\b\b\r",
      "STEP    91 / 1077 (thread    3) f\b\b\r",
      "STEP    92 / 1077 (thread    4) f\b\b\r",
      "STEP    93 / 1077 (thread    5) f\b\b\r",
      "STEP    94 / 1077 (thread    1) f\b\b\r",
      "STEP    95 / 1077 (thread    2) f\b\b\r",
      "STEP    96 / 1077 (thread    0) f\b\b\r",
      "STEP    97 / 1077 (thread    3) f\b\b\r",
      "STEP    98 / 1077 (thread    4) f\b\b\r",
      "STEP    99 / 1077 (thread    5) f\b\b\r",
      "STEP   100 / 1077 (thread    1) f\b\b\r",
      "STEP   101 / 1077 (thread    2) f\b\b\r",
      "STEP   102 / 1077 (thread    0) f\b\b\r",
      "STEP   103 / 1077 (thread    4) f\b\b\r",
      "STEP   104 / 1077 (thread    3) f\b\b\r",
      "STEP   105 / 1077 (thread    5) f\b\b\r",
      "STEP   106 / 1077 (thread    1) f\b\b\r",
      "STEP   107 / 1077 (thread    2) f\b\b\r",
      "STEP   108 / 1077 (thread    4) f\b\b\r",
      "STEP   109 / 1077 (thread    0) f\b\b\r",
      "STEP   110 / 1077 (thread    3) f\b\b\r",
      "STEP   112 / 1077 (thread    2) f\b\b\r",
      "STEP   113 / 1077 (thread    1) f\b\b\r",
      "STEP   111 / 1077 (thread    5) f\b\b\r",
      "STEP   115 / 1077 (thread    0) f\b\b\r",
      "STEP   116 / 1077 (thread    3) f\b\b\r",
      "STEP   117 / 1077 (thread    0) f\b\b\r",
      "STEP   119 / 1077 (thread    2) f\b\b\r",
      "STEP   120 / 1077 (thread    1) f\b\b\r",
      "STEP   118 / 1077 (thread    3) f\b\b\r",
      "STEP   121 / 1077 (thread    5) f\b\b\r",
      "STEP   114 / 1077 (thread    4) f\b\b\r",
      "STEP   122 / 1077 (thread    0) f\b\b\r",
      "STEP   123 / 1077 (thread    2) f\b\b\r",
      "STEP   124 / 1077 (thread    1) f\b\b\r",
      "STEP   125 / 1077 (thread    5) f\b\b\r",
      "STEP   126 / 1077 (thread    3) f\b\b\r",
      "STEP   127 / 1077 (thread    4) f\b\b\r",
      "STEP   129 / 1077 (thread    2) f\b\b\r",
      "STEP   128 / 1077 (thread    0) f\b\b\r",
      "STEP   130 / 1077 (thread    1) f\b\b\r",
      "STEP   131 / 1077 (thread    5) f\b\b\r",
      "STEP   133 / 1077 (thread    5) f\b\b\r",
      "STEP   134 / 1077 (thread    4) f\b\b\r",
      "STEP   135 / 1077 (thread    3) f\b\b\r",
      "STEP   136 / 1077 (thread    0) f\b\b\r",
      "STEP   137 / 1077 (thread    5) f\b\b\r",
      "STEP   132 / 1077 (thread    2) f\b\b\r",
      "STEP   138 / 1077 (thread    1) f\b\b\r",
      "STEP   139 / 1077 (thread    4) f\b\b\r",
      "STEP   140 / 1077 (thread    3) f\b\b\r",
      "STEP   141 / 1077 (thread    1) f\b\b\r",
      "STEP   142 / 1077 (thread    5) f\b\b\r",
      "STEP   143 / 1077 (thread    4) f\b\b\r",
      "STEP   144 / 1077 (thread    0) f\b\b\r",
      "STEP   145 / 1077 (thread    2) f\b\b\r",
      "STEP   146 / 1077 (thread    0) f\b\b\r",
      "STEP   147 / 1077 (thread    4) f\b\b\r",
      "STEP   148 / 1077 (thread    2) f\b\b\r",
      "STEP   149 / 1077 (thread    0) f\b\b\r",
      "STEP   150 / 1077 (thread    4) f\b\b\r",
      "STEP   151 / 1077 (thread    3) f\b\b\r",
      "STEP   152 / 1077 (thread    5) f\b\b\r",
      "STEP   153 / 1077 (thread    1) f\b\b\r",
      "STEP   154 / 1077 (thread    3) f\b\b\r",
      "STEP   155 / 1077 (thread    2) f\b\b\r",
      "STEP   156 / 1077 (thread    5) f\b\b\r",
      "STEP   157 / 1077 (thread    1) f\b\b\r",
      "STEP   158 / 1077 (thread    4) f\b\b\r",
      "STEP   159 / 1077 (thread    3) f\b\b\r",
      "STEP   160 / 1077 (thread    0) f\b\b\r",
      "STEP   161 / 1077 (thread    2) f\b\b\r",
      "STEP   162 / 1077 (thread    5) f\b\b\r",
      "STEP   163 / 1077 (thread    3) f\b\b\r",
      "STEP   164 / 1077 (thread    0) f\b\b\r",
      "STEP   165 / 1077 (thread    1) f\b\b\r",
      "STEP   166 / 1077 (thread    2) f\b\b\r",
      "STEP   167 / 1077 (thread    5) f\b\b\r",
      "STEP   168 / 1077 (thread    4) f\b\b\r",
      "STEP   169 / 1077 (thread    3) f\b\b\r",
      "STEP   170 / 1077 (thread    0) f\b\b\r",
      "STEP   171 / 1077 (thread    1) f\b\b\r",
      "STEP   172 / 1077 (thread    2) f\b\b\r",
      "STEP   173 / 1077 (thread    1) f\b\b\r",
      "STEP   174 / 1077 (thread    2) f\b\b\r",
      "STEP   175 / 1077 (thread    5) f\b\b\r",
      "STEP   176 / 1077 (thread    1) f\b\b\r",
      "STEP   177 / 1077 (thread    2) f\b\b\r",
      "STEP   178 / 1077 (thread    4) f\b\b\r",
      "STEP   179 / 1077 (thread    0) f\b\b\r",
      "STEP   180 / 1077 (thread    3) f\b\b\r",
      "STEP   181 / 1077 (thread    5) f\b\b\r",
      "STEP   182 / 1077 (thread    1) f\b\b\r",
      "STEP   184 / 1077 (thread    4) f\b\b\r",
      "STEP   185 / 1077 (thread    3) f\b\b\r",
      "STEP   183 / 1077 (thread    2) f\b\b\r",
      "STEP   186 / 1077 (thread    5) f\b\b\r",
      "STEP   187 / 1077 (thread    1) f\b\b\r",
      "STEP   188 / 1077 (thread    3) f\b\b\r",
      "STEP   189 / 1077 (thread    4) f\b\b\r",
      "STEP   190 / 1077 (thread    5) f\b\b\r",
      "STEP   191 / 1077 (thread    0) f\b\b\r",
      "STEP   192 / 1077 (thread    1) f\b\b\r",
      "STEP   193 / 1077 (thread    3) f\b\b\r",
      "STEP   194 / 1077 (thread    4) f\b\b\r",
      "STEP   196 / 1077 (thread    0) f\b\b\r",
      "STEP   197 / 1077 (thread    1) f\b\b\r",
      "STEP   198 / 1077 (thread    2) f\b\b\r",
      "STEP   195 / 1077 (thread    5) f\b\b\r",
      "STEP   199 / 1077 (thread    3) f\b\b\r",
      "STEP   200 / 1077 (thread    4) f\b\b\r",
      "STEP   201 / 1077 (thread    0) f\b\b\r",
      "STEP   203 / 1077 (thread    2) f\b\b\r",
      "STEP   204 / 1077 (thread    4) f\b\b\r",
      "STEP   202 / 1077 (thread    1) f\b\b\r",
      "STEP   205 / 1077 (thread    3) f\b\b\r",
      "STEP   206 / 1077 (thread    5) f\b\b\r",
      "STEP   207 / 1077 (thread    0) f\b\b\r",
      "STEP   208 / 1077 (thread    2) f\b\b\r",
      "STEP   209 / 1077 (thread    1) f\b\b\r",
      "STEP   210 / 1077 (thread    4) f\b\b\r",
      "STEP   211 / 1077 (thread    3) f\b\b\r",
      "STEP   212 / 1077 (thread    5) f\b\b\r",
      "STEP   213 / 1077 (thread    0) f\b\b\r",
      "STEP   214 / 1077 (thread    2) f\b\b\r",
      "STEP   215 / 1077 (thread    5) f\b\b\r",
      "STEP   216 / 1077 (thread    1) f\b\b\r",
      "STEP   217 / 1077 (thread    4) f\b\b\r",
      "STEP   218 / 1077 (thread    3) f\b\b\r",
      "STEP   219 / 1077 (thread    0) f\b\b\r",
      "STEP   220 / 1077 (thread    2) f\b\b\r",
      "STEP   221 / 1077 (thread    5) f\b\b\r",
      "STEP   222 / 1077 (thread    1) f\b\b\r",
      "STEP   223 / 1077 (thread    4) f\b\b\r",
      "STEP   224 / 1077 (thread    0) f\b\b\r",
      "STEP   225 / 1077 (thread    5) f\b\b\r",
      "STEP   226 / 1077 (thread    1) f\b\b\r",
      "STEP   227 / 1077 (thread    4) f\b\b\r",
      "STEP   228 / 1077 (thread    3) f\b\b\r",
      "STEP   229 / 1077 (thread    2) f\b\b\r",
      "STEP   230 / 1077 (thread    0) f\b\b\r",
      "STEP   231 / 1077 (thread    5) f\b\b\r",
      "STEP   232 / 1077 (thread    3) f\b\b\r",
      "STEP   233 / 1077 (thread    0) f\b\b\r",
      "STEP   234 / 1077 (thread    1) f\b\b\r",
      "STEP   235 / 1077 (thread    3) f\b\b\r",
      "STEP   236 / 1077 (thread    2) f\b\b\r",
      "STEP   237 / 1077 (thread    0) f\b\b\r",
      "STEP   238 / 1077 (thread    4) f\b\b\r",
      "STEP   239 / 1077 (thread    5) f\b\b\r",
      "STEP   240 / 1077 (thread    4) f\b\b\r",
      "STEP   241 / 1077 (thread    1) f\b\b\r",
      "STEP   242 / 1077 (thread    3) f\b\b\r",
      "STEP   243 / 1077 (thread    2) f\b\b\r",
      "STEP   244 / 1077 (thread    5) f\b\b\r",
      "STEP   245 / 1077 (thread    0) f\b\b\r",
      "STEP   246 / 1077 (thread    4) f\b\b\r",
      "STEP   247 / 1077 (thread    1) f\b\b\r",
      "STEP   248 / 1077 (thread    3) f\b\b\r",
      "STEP   249 / 1077 (thread    2) f\b\b\r",
      "STEP   250 / 1077 (thread    0) f\b\b\r",
      "STEP   251 / 1077 (thread    4) f\b\b\r",
      "STEP   252 / 1077 (thread    5) f\b\b\r",
      "STEP   253 / 1077 (thread    0) f\b\b\r",
      "STEP   254 / 1077 (thread    1) f\b\b\r",
      "STEP   255 / 1077 (thread    4) f\b\b\r",
      "STEP   256 / 1077 (thread    2) f\b\b\r",
      "STEP   257 / 1077 (thread    5) f\b\b\r",
      "STEP   258 / 1077 (thread    3) f\b\b\r",
      "STEP   259 / 1077 (thread    4) f\b\b\r",
      "STEP   260 / 1077 (thread    0) f\b\b\r",
      "STEP   261 / 1077 (thread    3) f\b\b\r",
      "STEP   262 / 1077 (thread    1) f\b\b\r",
      "STEP   263 / 1077 (thread    4) f\b\b\r",
      "STEP   264 / 1077 (thread    2) f\b\b\r",
      "STEP   265 / 1077 (thread    5) f\b\b\r",
      "STEP   266 / 1077 (thread    1) f\b\b\r",
      "STEP   267 / 1077 (thread    0) f\b\b\r",
      "STEP   268 / 1077 (thread    4) f\b\b\r",
      "STEP   269 / 1077 (thread    2) f\b\b\r",
      "STEP   270 / 1077 (thread    3) f\b\b\r",
      "STEP   271 / 1077 (thread    5) f\b\b\r",
      "STEP   272 / 1077 (thread    1) f\b\b\r",
      "STEP   273 / 1077 (thread    2) f\b\b\r",
      "STEP   274 / 1077 (thread    5) f\b\b\r",
      "STEP   275 / 1077 (thread    1) f\b\b\r",
      "STEP   276 / 1077 (thread    4) f\b\b\r",
      "STEP   277 / 1077 (thread    0) f\b\b\r",
      "STEP   278 / 1077 (thread    2) f\b\b\r",
      "STEP   279 / 1077 (thread    5) f\b\b\r",
      "STEP   280 / 1077 (thread    3) f\b\b\r",
      "STEP   281 / 1077 (thread    1) f\b\b\r",
      "STEP   282 / 1077 (thread    4) f\b\b\r",
      "STEP   283 / 1077 (thread    0) f\b\b\r",
      "STEP   284 / 1077 (thread    2) f\b\b\r",
      "STEP   285 / 1077 (thread    5) f\b\b\r",
      "STEP   286 / 1077 (thread    3) f\b\b\r",
      "STEP   287 / 1077 (thread    4) f\b\b\r",
      "STEP   288 / 1077 (thread    2) f\b\b\r",
      "STEP   289 / 1077 (thread    0) f\b\b\r",
      "STEP   290 / 1077 (thread    1) f\b\b\r",
      "STEP   291 / 1077 (thread    5) f\b\b\r",
      "STEP   292 / 1077 (thread    3) f\b\b\r",
      "STEP   293 / 1077 (thread    2) f\b\b\r",
      "STEP   295 / 1077 (thread    0) f\b\b\r",
      "STEP   296 / 1077 (thread    4) f\b\b\r",
      "STEP   294 / 1077 (thread    5) f\b\b\r",
      "STEP   297 / 1077 (thread    3) f\b\b\r",
      "STEP   298 / 1077 (thread    1) f\b\b\r",
      "STEP   299 / 1077 (thread    0) f\b\b\r",
      "STEP   300 / 1077 (thread    2) f\b\b\r",
      "STEP   301 / 1077 (thread    4) f\b\b\r",
      "STEP   303 / 1077 (thread    5) f\b\b\r",
      "STEP   302 / 1077 (thread    1) f\b\b\r",
      "STEP   304 / 1077 (thread    0) f\b\b\r",
      "STEP   305 / 1077 (thread    3) f\b\b\r",
      "STEP   306 / 1077 (thread    2) f\b\b\r",
      "STEP   307 / 1077 (thread    0) f\b\b\r",
      "STEP   308 / 1077 (thread    3) f\b\b\r",
      "STEP   309 / 1077 (thread    4) f\b\b\r",
      "STEP   310 / 1077 (thread    5) f\b\b\r",
      "STEP   311 / 1077 (thread    2) f\b\b\r",
      "STEP   312 / 1077 (thread    1) f\b\b\r",
      "STEP   313 / 1077 (thread    0) f\b\b\r",
      "STEP   314 / 1077 (thread    3) f\b\b\r",
      "STEP   315 / 1077 (thread    5) f\b\b\r",
      "STEP   316 / 1077 (thread    4) f\b\b\r",
      "STEP   317 / 1077 (thread    2) f\b\b\r",
      "STEP   318 / 1077 (thread    3) f\b\b\r",
      "STEP   319 / 1077 (thread    5) f\b\b\r",
      "STEP   320 / 1077 (thread    2) f\b\b\r",
      "STEP   321 / 1077 (thread    1) f\b\b\r",
      "STEP   322 / 1077 (thread    0) f\b\b\r",
      "STEP   323 / 1077 (thread    5) f\b\b\r",
      "STEP   324 / 1077 (thread    3) f\b\b\r",
      "STEP   325 / 1077 (thread    4) f\b\b\r",
      "STEP   326 / 1077 (thread    1) f\b\b\r",
      "STEP   327 / 1077 (thread    3) f\b\b\r",
      "STEP   328 / 1077 (thread    0) f\b\b\r",
      "STEP   329 / 1077 (thread    4) f\b\b\r",
      "STEP   330 / 1077 (thread    2) f\b\b\r",
      "STEP   331 / 1077 (thread    5) f\b\b\r",
      "STEP   332 / 1077 (thread    1) f\b\b\r",
      "STEP   333 / 1077 (thread    2) f\b\b\r",
      "STEP   334 / 1077 (thread    0) f\b\b\r",
      "STEP   335 / 1077 (thread    4) f\b\b\r",
      "STEP   336 / 1077 (thread    3) f\b\b\r",
      "STEP   337 / 1077 (thread    5) f\b\b\r",
      "STEP   338 / 1077 (thread    4) f\b\b\r",
      "STEP   339 / 1077 (thread    3) f\b\b\r",
      "STEP   340 / 1077 (thread    2) f\b\b\r",
      "STEP   341 / 1077 (thread    1) f\b\b\r",
      "STEP   342 / 1077 (thread    0) f\b\b\r",
      "STEP   343 / 1077 (thread    5) f\b\b\r",
      "STEP   345 / 1077 (thread    5) f\b\b\r",
      "STEP   344 / 1077 (thread    3) f\b\b\r",
      "STEP   346 / 1077 (thread    4) f\b\b\r",
      "STEP   347 / 1077 (thread    1) f\b\b\r",
      "STEP   348 / 1077 (thread    2) f\b\b\r",
      "STEP   349 / 1077 (thread    5) f\b\b\r",
      "STEP   350 / 1077 (thread    0) f\b\b\r",
      "STEP   351 / 1077 (thread    3) f\b\b\r",
      "STEP   352 / 1077 (thread    4) f\b\b\r",
      "STEP   353 / 1077 (thread    5) f\b\b\r",
      "STEP   354 / 1077 (thread    0) f\b\b\r",
      "STEP   355 / 1077 (thread    1) f\b\b\r",
      "STEP   356 / 1077 (thread    2) f\b\b\r",
      "STEP   357 / 1077 (thread    5) f\b\b\r",
      "STEP   358 / 1077 (thread    3) f\b\b\r",
      "STEP   359 / 1077 (thread    0) f\b\b\r",
      "STEP   360 / 1077 (thread    4) f\b\b\r",
      "STEP   361 / 1077 (thread    1) f\b\b\r",
      "STEP   362 / 1077 (thread    2) f\b\b\r",
      "STEP   363 / 1077 (thread    5) f\b\b\r",
      "STEP   364 / 1077 (thread    0) f\b\b\r",
      "STEP   365 / 1077 (thread    4) f\b\b\r",
      "STEP   366 / 1077 (thread    3) f\b\b\r",
      "STEP   367 / 1077 (thread    1) f\b\b\r",
      "STEP   368 / 1077 (thread    5) f\b\b\r",
      "STEP   369 / 1077 (thread    4) f\b\b\r",
      "STEP   370 / 1077 (thread    2) f\b\b\r",
      "STEP   371 / 1077 (thread    0) f\b\b\r",
      "STEP   372 / 1077 (thread    3) f\b\b\r",
      "STEP   373 / 1077 (thread    4) f\b\b\r",
      "STEP   374 / 1077 (thread    5) f\b\b\r",
      "STEP   375 / 1077 (thread    1) f\b\b\r",
      "STEP   377 / 1077 (thread    0) f\b\b\r",
      "STEP   378 / 1077 (thread    5) f\b\b\r",
      "STEP   380 / 1077 (thread    1) f\b\b\r",
      "STEP   376 / 1077 (thread    2) f\b\b\r",
      "STEP   381 / 1077 (thread    4) f\b\b\r",
      "STEP   382 / 1077 (thread    1) f\b\b\r",
      "STEP   383 / 1077 (thread    5) f\b\b\r",
      "STEP   379 / 1077 (thread    3) f\b\b\r",
      "STEP   384 / 1077 (thread    2) f\b\b\r",
      "STEP   385 / 1077 (thread    0) f\b\b\r",
      "STEP   386 / 1077 (thread    5) f\b\b\r",
      "STEP   387 / 1077 (thread    0) f\b\b\r",
      "STEP   388 / 1077 (thread    1) f\b\b\r",
      "STEP   389 / 1077 (thread    4) f\b\b\r",
      "STEP   390 / 1077 (thread    3) f\b\b\r",
      "STEP   391 / 1077 (thread    2) f\b\b\r",
      "STEP   392 / 1077 (thread    5) f\b\b\r",
      "STEP   393 / 1077 (thread    0) f\b\b\r",
      "STEP   394 / 1077 (thread    4) f\b\b\r",
      "STEP   395 / 1077 (thread    1) f\b\b\r",
      "STEP   396 / 1077 (thread    3) f\b\b\r",
      "STEP   397 / 1077 (thread    2) f\b\b\r",
      "STEP   398 / 1077 (thread    0) f\b\b\r",
      "STEP   399 / 1077 (thread    5) f\b\b\r",
      "STEP   400 / 1077 (thread    1) f\b\b\r",
      "STEP   401 / 1077 (thread    2) f\b\b\r",
      "STEP   402 / 1077 (thread    4) f\b\b\r",
      "STEP   403 / 1077 (thread    3) f\b\b\r",
      "STEP   404 / 1077 (thread    0) f\b\b\r",
      "STEP   405 / 1077 (thread    5) f\b\b\r",
      "STEP   406 / 1077 (thread    0) f\b\b\r",
      "STEP   407 / 1077 (thread    5) f\b\b\r",
      "STEP   408 / 1077 (thread    4) f\b\b\r",
      "STEP   409 / 1077 (thread    5) f\b\b\r",
      "STEP   410 / 1077 (thread    1) f\b\b\r",
      "STEP   411 / 1077 (thread    0) f\b\b\r",
      "STEP   412 / 1077 (thread    2) f\b\b\r",
      "STEP   413 / 1077 (thread    3) f\b\b\r",
      "STEP   414 / 1077 (thread    4) f\b\b\r",
      "STEP   415 / 1077 (thread    0) f\b\b\r",
      "STEP   416 / 1077 (thread    4) f\b\b\r",
      "STEP   417 / 1077 (thread    5) f\b\b\r",
      "STEP   418 / 1077 (thread    1) f\b\b\r",
      "STEP   419 / 1077 (thread    2) f\b\b\r",
      "STEP   420 / 1077 (thread    1) f\b\b\r",
      "STEP   421 / 1077 (thread    3) f\b\b\r",
      "STEP   422 / 1077 (thread    2) f\b\b\r",
      "STEP   423 / 1077 (thread    4) f\b\b\r",
      "STEP   424 / 1077 (thread    5) f\b\b\r",
      "STEP   425 / 1077 (thread    1) f\b\b\r",
      "STEP   426 / 1077 (thread    3) f\b\b\r",
      "STEP   427 / 1077 (thread    0) f\b\b\r",
      "STEP   428 / 1077 (thread    2) f\b\b\r",
      "STEP   429 / 1077 (thread    5) f\b\b\r",
      "STEP   430 / 1077 (thread    4) f\b\b\r",
      "STEP   431 / 1077 (thread    1) f\b\b\r",
      "STEP   432 / 1077 (thread    3) f\b\b\r",
      "STEP   433 / 1077 (thread    2) f\b\b\r",
      "STEP   434 / 1077 (thread    0) f\b\b\r",
      "STEP   435 / 1077 (thread    5) f\b\b\r",
      "STEP   436 / 1077 (thread    4) f\b\b\r",
      "STEP   437 / 1077 (thread    1) f\b\b\r",
      "STEP   438 / 1077 (thread    3) f\b\b\r",
      "STEP   439 / 1077 (thread    2) f\b\b\r",
      "STEP   440 / 1077 (thread    0) f\b\b\r",
      "STEP   441 / 1077 (thread    5) f\b\b\r",
      "STEP   442 / 1077 (thread    4) f\b\b\r",
      "STEP   443 / 1077 (thread    1) f\b\b\r",
      "STEP   444 / 1077 (thread    2) f\b\b\r",
      "STEP   445 / 1077 (thread    0) f\b\b\r",
      "STEP   446 / 1077 (thread    5) f\b\b\r",
      "STEP   447 / 1077 (thread    4) f\b\b\r",
      "STEP   448 / 1077 (thread    3) f\b\b\r",
      "STEP   449 / 1077 (thread    1) f\b\b\r",
      "STEP   450 / 1077 (thread    1) f\b\b\r",
      "STEP   451 / 1077 (thread    2) f\b\b\r",
      "STEP   452 / 1077 (thread    0) f\b\b\r",
      "STEP   453 / 1077 (thread    4) f\b\b\r",
      "STEP   454 / 1077 (thread    1) f\b\b\r",
      "STEP   455 / 1077 (thread    3) f\b\b\r",
      "STEP   456 / 1077 (thread    5) f\b\b\r",
      "STEP   457 / 1077 (thread    4) f\b\b\r",
      "STEP   458 / 1077 (thread    0) f\b\b\r",
      "STEP   459 / 1077 (thread    3) f\b\b\r",
      "STEP   460 / 1077 (thread    2) f\b\b\r",
      "STEP   461 / 1077 (thread    5) f\b\b\r",
      "STEP   462 / 1077 (thread    0) f\b\b\r",
      "STEP   463 / 1077 (thread    1) f\b\b\r",
      "STEP   464 / 1077 (thread    4) f\b\b\r",
      "STEP   465 / 1077 (thread    2) f\b\b\r",
      "STEP   466 / 1077 (thread    0) f\b\b\r",
      "STEP   467 / 1077 (thread    0) f\b\b\r",
      "STEP   468 / 1077 (thread    5) f\b\b\r",
      "STEP   469 / 1077 (thread    1) f\b\b\r",
      "STEP   470 / 1077 (thread    3) f\b\b\r",
      "STEP   471 / 1077 (thread    4) f\b\b\r",
      "STEP   472 / 1077 (thread    5) f\b\b\r",
      "STEP   473 / 1077 (thread    1) f\b\b\r",
      "STEP   474 / 1077 (thread    3) f\b\b\r",
      "STEP   475 / 1077 (thread    2) f\b\b\r",
      "STEP   476 / 1077 (thread    5) f\b\b\r",
      "STEP   477 / 1077 (thread    0) f\b\b\r",
      "STEP   478 / 1077 (thread    4) f\b\b\r",
      "STEP   479 / 1077 (thread    1) f\b\b\r",
      "STEP   480 / 1077 (thread    2) f\b\b\r",
      "STEP   481 / 1077 (thread    3) f\b\b\r",
      "STEP   482 / 1077 (thread    2) f\b\b\r",
      "STEP   483 / 1077 (thread    3) f\b\b\r",
      "STEP   484 / 1077 (thread    5) f\b\b\r",
      "STEP   486 / 1077 (thread    4) f\b\b\r",
      "STEP   485 / 1077 (thread    0) f\b\b\r",
      "STEP   487 / 1077 (thread    1) f\b\b\r",
      "STEP   489 / 1077 (thread    3) f\b\b\r",
      "STEP   490 / 1077 (thread    4) f\b\b\r",
      "STEP   491 / 1077 (thread    5) f\b\b\r",
      "STEP   488 / 1077 (thread    2) f\b\b\r",
      "STEP   492 / 1077 (thread    0) f\b\b\r",
      "STEP   493 / 1077 (thread    1) f\b\b\r",
      "STEP   494 / 1077 (thread    4) f\b\b\r",
      "STEP   495 / 1077 (thread    5) f\b\b\r",
      "STEP   496 / 1077 (thread    3) f\b\b\r",
      "STEP   497 / 1077 (thread    4) f\b\b\r",
      "STEP   499 / 1077 (thread    0) f\b\b\r",
      "STEP   500 / 1077 (thread    2) f\b\b\r",
      "STEP   501 / 1077 (thread    3) f\b\b\r",
      "STEP   498 / 1077 (thread    1) f\b\b\r",
      "STEP   601 / 1077 (thread    4) f\b\b\r",
      "STEP   701 / 1077 (thread    2) f\b\b\r",
      "STEP   801 / 1077 (thread    4) f\b\b"
     ]
    },
    {
     "name": "stderr",
     "output_type": "stream",
     "text": [
      "\r",
      "STEP   901 / 1077 (thread    2) f\b\b\n",
      "Reallocating..done. *alloclen = 1862\n",
      "\r",
      "STEP  1001 / 1077 (thread    2) f\b\b\n",
      "done.\n",
      "\n",
      "Making a distance matrix from msa.. \n",
      "\r",
      "    0 / 1078 (thread    0)\r",
      "  100 / 1078 (thread    4)\r",
      "  200 / 1078 (thread    4)\r",
      "  300 / 1078 (thread    0)\r",
      "  400 / 1078 (thread    1)"
     ]
    },
    {
     "name": "stderr",
     "output_type": "stream",
     "text": [
      "\r",
      "  500 / 1078 (thread    0)\r",
      "  600 / 1078 (thread    3)\r",
      "  700 / 1078 (thread    1)\r",
      "  800 / 1078 (thread    4)\r",
      "  900 / 1078 (thread    1)\r",
      " 1000 / 1078 (thread    1)\n",
      "done.\n",
      "\n",
      "Constructing a UPGMA tree (efffree=1) ... \n",
      "\r",
      "    0 / 1078\r",
      "   10 / 1078\r",
      "   20 / 1078\r",
      "   30 / 1078\r",
      "   40 / 1078\r",
      "   50 / 1078\r",
      "   60 / 1078\r",
      "   70 / 1078\r",
      "   80 / 1078\r",
      "   90 / 1078\r",
      "  100 / 1078\r",
      "  110 / 1078\r",
      "  120 / 1078\r",
      "  130 / 1078\r",
      "  140 / 1078\r",
      "  150 / 1078\r",
      "  160 / 1078\r",
      "  170 / 1078\r",
      "  180 / 1078\r",
      "  190 / 1078\r",
      "  200 / 1078\r",
      "  210 / 1078\r",
      "  220 / 1078\r",
      "  230 / 1078\r",
      "  240 / 1078\r",
      "  250 / 1078\r",
      "  260 / 1078\r",
      "  270 / 1078\r",
      "  280 / 1078\r",
      "  290 / 1078\r",
      "  300 / 1078\r",
      "  310 / 1078\r",
      "  320 / 1078\r",
      "  330 / 1078\r",
      "  340 / 1078\r",
      "  350 / 1078\r",
      "  360 / 1078\r",
      "  370 / 1078\r",
      "  380 / 1078\r",
      "  390 / 1078\r",
      "  400 / 1078\r",
      "  410 / 1078\r",
      "  420 / 1078\r",
      "  430 / 1078\r",
      "  440 / 1078\r",
      "  450 / 1078\r",
      "  460 / 1078\r",
      "  470 / 1078\r",
      "  480 / 1078\r",
      "  490 / 1078\r",
      "  500 / 1078\r",
      "  510 / 1078\r",
      "  520 / 1078\r",
      "  530 / 1078\r",
      "  540 / 1078\r",
      "  550 / 1078\r",
      "  560 / 1078\r",
      "  570 / 1078\r",
      "  580 / 1078\r",
      "  590 / 1078\r",
      "  600 / 1078\r",
      "  610 / 1078\r",
      "  620 / 1078\r",
      "  630 / 1078\r",
      "  640 / 1078\r",
      "  650 / 1078\r",
      "  660 / 1078\r",
      "  670 / 1078\r",
      "  680 / 1078\r",
      "  690 / 1078\r",
      "  700 / 1078\r",
      "  710 / 1078\r",
      "  720 / 1078\r",
      "  730 / 1078\r",
      "  740 / 1078\r",
      "  750 / 1078\r",
      "  760 / 1078\r",
      "  770 / 1078\r",
      "  780 / 1078\r",
      "  790 / 1078\r",
      "  800 / 1078\r",
      "  810 / 1078\r",
      "  820 / 1078\r",
      "  830 / 1078\r",
      "  840 / 1078\r",
      "  850 / 1078\r",
      "  860 / 1078\r",
      "  870 / 1078\r",
      "  880 / 1078\r",
      "  890 / 1078\r",
      "  900 / 1078\r",
      "  910 / 1078\r",
      "  920 / 1078\r",
      "  930 / 1078\r",
      "  940 / 1078\r",
      "  950 / 1078\r",
      "  960 / 1078\r",
      "  970 / 1078\r",
      "  980 / 1078\r",
      "  990 / 1078\r",
      " 1000 / 1078\r",
      " 1010 / 1078\r",
      " 1020 / 1078\r",
      " 1030 / 1078\r",
      " 1040 / 1078\r",
      " 1050 / 1078\r",
      " 1060 / 1078\r",
      " 1070 / 1078\n",
      "done.\n",
      "\n",
      "Progressive alignment 2/2... \n",
      "\r",
      "STEP     1 / 1077 (thread    0) f\b\b\r",
      "STEP     2 / 1077 (thread    4) f\b\b\r",
      "STEP     3 / 1077 (thread    1) f\b\b\r",
      "STEP     4 / 1077 (thread    2) f\b\b\r",
      "STEP     5 / 1077 (thread    3) f\b\b\r",
      "STEP     6 / 1077 (thread    5) f\b\b\r",
      "STEP     7 / 1077 (thread    2) f\b\b\r",
      "STEP     8 / 1077 (thread    4)\r",
      "STEP     9 / 1077 (thread    0) f\b\b f\b\b\r",
      "STEP    10 / 1077 (thread    1) f\b\b\r",
      "STEP    11 / 1077 (thread    3) f\b\b\r",
      "STEP    12 / 1077 (thread    5) f\b\b\r",
      "STEP    13 / 1077 (thread    2) f\b\b\r",
      "STEP    14 / 1077 (thread    0) f\b\b\r",
      "STEP    15 / 1077 (thread    4) f\b\b\r",
      "STEP    16 / 1077 (thread    3) f\b\b\r",
      "STEP    17 / 1077 (thread    1) f\b\b\r",
      "STEP    18 / 1077 (thread    5) f\b\b\r",
      "STEP    19 / 1077 (thread    2) f\b\b\r",
      "STEP    20 / 1077 (thread    4) f\b\b\r",
      "STEP    21 / 1077 (thread    1) f\b\b\r",
      "STEP    22 / 1077 (thread    5) f\b\b\r",
      "STEP    23 / 1077 (thread    3) f\b\b\r",
      "STEP    24 / 1077 (thread    0) f\b\b\r",
      "STEP    25 / 1077 (thread    2) f\b\b\r",
      "STEP    26 / 1077 (thread    4) f\b\b\r",
      "STEP    27 / 1077 (thread    1) f\b\b\r",
      "STEP    28 / 1077 (thread    5) f\b\b\r",
      "STEP    29 / 1077 (thread    3) f\b\b\r",
      "STEP    30 / 1077 (thread    0) f\b\b\r",
      "STEP    31 / 1077 (thread    2) f\b\b\r",
      "STEP    32 / 1077 (thread    0) f\b\b\r",
      "STEP    33 / 1077 (thread    3) f\b\b\r",
      "STEP    34 / 1077 (thread    4) f\b\b\r",
      "STEP    35 / 1077 (thread    2) f\b\b\r",
      "STEP    36 / 1077 (thread    0) f\b\b\r",
      "STEP    37 / 1077 (thread    3) f\b\b\r",
      "STEP    38 / 1077 (thread    4) f\b\b\r",
      "STEP    39 / 1077 (thread    1) f\b\b\r",
      "STEP    40 / 1077 (thread    5) f\b\b\r",
      "STEP    41 / 1077 (thread    2) f\b\b\r",
      "STEP    42 / 1077 (thread    3) f\b\b\r",
      "STEP    43 / 1077 (thread    4) f\b\b\r",
      "STEP    44 / 1077 (thread    0) f\b\b\r",
      "STEP    45 / 1077 (thread    1) f\b\b\r",
      "STEP    46 / 1077 (thread    5) f\b\b\r",
      "STEP    47 / 1077 (thread    2) f\b\b\r",
      "STEP    48 / 1077 (thread    3) f\b\b\r",
      "STEP    49 / 1077 (thread    0) f\b\b\r",
      "STEP    50 / 1077 (thread    4) f\b\b\r",
      "STEP    51 / 1077 (thread    5) f\b\b\r",
      "STEP    52 / 1077 (thread    1) f\b\b\r",
      "STEP    53 / 1077 (thread    2) f\b\b\r",
      "STEP    54 / 1077 (thread    3) f\b\b\r",
      "STEP    55 / 1077 (thread    0) f\b\b\r",
      "STEP    56 / 1077 (thread    4) f\b\b\r",
      "STEP    57 / 1077 (thread    5) f\b\b\r",
      "STEP    58 / 1077 (thread    1) f\b\b\r",
      "STEP    59 / 1077 (thread    2) f\b\b\r",
      "STEP    60 / 1077 (thread    3) f\b\b\r",
      "STEP    61 / 1077 (thread    4) f\b\b\r",
      "STEP    62 / 1077 (thread    0) f\b\b\r",
      "STEP    63 / 1077 (thread    5) f\b\b\r",
      "STEP    64 / 1077 (thread    1) f\b\b\r",
      "STEP    65 / 1077 (thread    2) f\b\b\r",
      "STEP    66 / 1077 (thread    3) f\b\b\r",
      "STEP    67 / 1077 (thread    4) f\b\b\r",
      "STEP    68 / 1077 (thread    0) f\b\b\r",
      "STEP    69 / 1077 (thread    5) f\b\b\r",
      "STEP    70 / 1077 (thread    1) f\b\b\r",
      "STEP    71 / 1077 (thread    2) f\b\b\r",
      "STEP    72 / 1077 (thread    3) f\b\b\r",
      "STEP    73 / 1077 (thread    4) f\b\b\r",
      "STEP    74 / 1077 (thread    0) f\b\b\r",
      "STEP    75 / 1077 (thread    5) f\b\b\r",
      "STEP    76 / 1077 (thread    1) f\b\b\r",
      "STEP    77 / 1077 (thread    2) f\b\b\r",
      "STEP    78 / 1077 (thread    3) f\b\b\r",
      "STEP    79 / 1077 (thread    4) f\b\b\r",
      "STEP    80 / 1077 (thread    0) f\b\b\r",
      "STEP    81 / 1077 (thread    5) f\b\b\r",
      "STEP    82 / 1077 (thread    1) f\b\b\r",
      "STEP    83 / 1077 (thread    2) f\b\b\r",
      "STEP    84 / 1077 (thread    3) f\b\b\r",
      "STEP    85 / 1077 (thread    4) f\b\b\r",
      "STEP    86 / 1077 (thread    0) f\b\b\r",
      "STEP    87 / 1077 (thread    1) f\b\b\r",
      "STEP    91 / 1077 (thread    4) f\b\b\r",
      "STEP    92 / 1077 (thread    4) f\b\b\r",
      "STEP    93 / 1077 (thread    0) f\b\b\r",
      "STEP    94 / 1077 (thread    1) f\b\b\r",
      "STEP    88 / 1077 (thread    5) f\b\b\r",
      "STEP    95 / 1077 (thread    4) f\b\b\r",
      "STEP    96 / 1077 (thread    0) f\b\b\r",
      "STEP    97 / 1077 (thread    1) f\b\b\r",
      "STEP    98 / 1077 (thread    4) f\b\b\r",
      "STEP    99 / 1077 (thread    5) f\b\b\r",
      "STEP    89 / 1077 (thread    2) f\b\b\r",
      "STEP   100 / 1077 (thread    0) f\b\b\r",
      "STEP   101 / 1077 (thread    1) f\b\b\r",
      "STEP   102 / 1077 (thread    4) f\b\b\r",
      "STEP   103 / 1077 (thread    5) f\b\b\r",
      "STEP   104 / 1077 (thread    0) f\b\b\r",
      "STEP   105 / 1077 (thread    4) f\b\b\r",
      "STEP   106 / 1077 (thread    5) f\b\b\r",
      "STEP   107 / 1077 (thread    2) f\b\b\r",
      "STEP    90 / 1077 (thread    3) f\b\b\r",
      "STEP   108 / 1077 (thread    1) f\b\b\r",
      "STEP   109 / 1077 (thread    5) f\b\b\r",
      "STEP   110 / 1077 (thread    2) f\b\b\r",
      "STEP   111 / 1077 (thread    0) f\b\b\r",
      "STEP   112 / 1077 (thread    1) f\b\b\r",
      "STEP   113 / 1077 (thread    5) f\b\b\r",
      "STEP   114 / 1077 (thread    2) f\b\b\r",
      "STEP   115 / 1077 (thread    4) f\b\b\r",
      "STEP   116 / 1077 (thread    3) f\b\b\r",
      "STEP   117 / 1077 (thread    0) f\b\b\r",
      "STEP   118 / 1077 (thread    1) f\b\b\r",
      "STEP   119 / 1077 (thread    5) f\b\b\r",
      "STEP   120 / 1077 (thread    2) f\b\b\r",
      "STEP   121 / 1077 (thread    4) f\b\b\r",
      "STEP   122 / 1077 (thread    1) f\b\b\r",
      "STEP   123 / 1077 (thread    5) f\b\b\r",
      "STEP   124 / 1077 (thread    2) f\b\b\r",
      "STEP   125 / 1077 (thread    4) f\b\b\r",
      "STEP   126 / 1077 (thread    1) f\b\b\r",
      "STEP   127 / 1077 (thread    3) f\b\b\r",
      "STEP   128 / 1077 (thread    0) f\b\b\r",
      "STEP   129 / 1077 (thread    5) f\b\b\r",
      "STEP   130 / 1077 (thread    2) f\b\b\r",
      "STEP   131 / 1077 (thread    4) f\b\b\r",
      "STEP   132 / 1077 (thread    1) f\b\b\r",
      "STEP   133 / 1077 (thread    3) f\b\b\r",
      "STEP   134 / 1077 (thread    0) f\b\b\r",
      "STEP   135 / 1077 (thread    5) f\b\b\r",
      "STEP   136 / 1077 (thread    2) f\b\b\r",
      "STEP   137 / 1077 (thread    4) f\b\b\r",
      "STEP   138 / 1077 (thread    1) f\b\b\r",
      "STEP   139 / 1077 (thread    3) f\b\b\r",
      "STEP   140 / 1077 (thread    0) f\b\b\r",
      "STEP   141 / 1077 (thread    5) f\b\b\r",
      "STEP   142 / 1077 (thread    2) f\b\b\r",
      "STEP   143 / 1077 (thread    4) f\b\b\r",
      "STEP   144 / 1077 (thread    1) f\b\b\r",
      "STEP   145 / 1077 (thread    3) f\b\b\r",
      "STEP   146 / 1077 (thread    0) f\b\b\r",
      "STEP   147 / 1077 (thread    5) f\b\b\r",
      "STEP   149 / 1077 (thread    4) f\b\b\r",
      "STEP   148 / 1077 (thread    2) f\b\b\r",
      "STEP   150 / 1077 (thread    1) f\b\b\r",
      "STEP   151 / 1077 (thread    3) f\b\b\r",
      "STEP   152 / 1077 (thread    0) f\b\b\r",
      "STEP   153 / 1077 (thread    5) f\b\b\r",
      "STEP   154 / 1077 (thread    1) f\b\b\r",
      "STEP   155 / 1077 (thread    0) f\b\b\r",
      "STEP   156 / 1077 (thread    4) f\b\b\r",
      "STEP   157 / 1077 (thread    5) f\b\b\r",
      "STEP   158 / 1077 (thread    2) f\b\b\r",
      "STEP   159 / 1077 (thread    0) f\b\b\r",
      "STEP   160 / 1077 (thread    3) f\b\b\r",
      "STEP   161 / 1077 (thread    4) f\b\b\r",
      "STEP   162 / 1077 (thread    5) f\b\b\r",
      "STEP   163 / 1077 (thread    2) f\b\b\r",
      "STEP   164 / 1077 (thread    1) f\b\b\r",
      "STEP   165 / 1077 (thread    0) f\b\b\r",
      "STEP   166 / 1077 (thread    3) f\b\b\r",
      "STEP   167 / 1077 (thread    4) f\b\b\r",
      "STEP   168 / 1077 (thread    5) f\b\b\r",
      "STEP   169 / 1077 (thread    2) f\b\b\r",
      "STEP   170 / 1077 (thread    1)\r",
      "STEP   171 / 1077 (thread    0) f\b\b f\b\b\r",
      "STEP   172 / 1077 (thread    3) f\b\b\r",
      "STEP   173 / 1077 (thread    5) f\b\b\r",
      "STEP   174 / 1077 (thread    4) f\b\b\r",
      "STEP   175 / 1077 (thread    2) f\b\b\r",
      "STEP   176 / 1077 (thread    0) f\b\b\r",
      "STEP   177 / 1077 (thread    3) f\b\b\r",
      "STEP   178 / 1077 (thread    5) f\b\b\r",
      "STEP   179 / 1077 (thread    1) f\b\b\r",
      "STEP   180 / 1077 (thread    4) f\b\b\r",
      "STEP   181 / 1077 (thread    2) f\b\b\r",
      "STEP   182 / 1077 (thread    0) f\b\b\r",
      "STEP   184 / 1077 (thread    5) f\b\b\r",
      "STEP   185 / 1077 (thread    1) f\b\b\r",
      "STEP   183 / 1077 (thread    3) f\b\b\r",
      "STEP   186 / 1077 (thread    5) f\b\b\r",
      "STEP   187 / 1077 (thread    4) f\b\b\r",
      "STEP   188 / 1077 (thread    0) f\b\b\r",
      "STEP   189 / 1077 (thread    2) f\b\b\r",
      "STEP   190 / 1077 (thread    1) f\b\b\r",
      "STEP   191 / 1077 (thread    4) f\b\b\r",
      "STEP   192 / 1077 (thread    0) f\b\b\r",
      "STEP   193 / 1077 (thread    2) f\b\b\r",
      "STEP   194 / 1077 (thread    3) f\b\b\r",
      "STEP   195 / 1077 (thread    5) f\b\b\r",
      "STEP   196 / 1077 (thread    0) f\b\b\r",
      "STEP   197 / 1077 (thread    2) f\b\b\r",
      "STEP   198 / 1077 (thread    3) f\b\b\r",
      "STEP   199 / 1077 (thread    1) f\b\b\r",
      "STEP   200 / 1077 (thread    5) f\b\b\r",
      "STEP   201 / 1077 (thread    4) f\b\b\r",
      "STEP   202 / 1077 (thread    0) f\b\b\r",
      "STEP   203 / 1077 (thread    3) f\b\b\r",
      "STEP   204 / 1077 (thread    1) f\b\b\r",
      "STEP   205 / 1077 (thread    5) f\b\b\r",
      "STEP   206 / 1077 (thread    4) f\b\b\r",
      "STEP   207 / 1077 (thread    0) f\b\b\r",
      "STEP   208 / 1077 (thread    3) f\b\b\r",
      "STEP   209 / 1077 (thread    1) f\b\b\r",
      "STEP   210 / 1077 (thread    2) f\b\b\r",
      "STEP   211 / 1077 (thread    5) f\b\b\r",
      "STEP   212 / 1077 (thread    4) f\b\b\r",
      "STEP   213 / 1077 (thread    0) f\b\b\r",
      "STEP   214 / 1077 (thread    3) f\b\b\r",
      "STEP   215 / 1077 (thread    1) f\b\b\r",
      "STEP   216 / 1077 (thread    0) f\b\b\r",
      "STEP   217 / 1077 (thread    3) f\b\b\r",
      "STEP   218 / 1077 (thread    1) f\b\b\r",
      "STEP   219 / 1077 (thread    2) f\b\b\r",
      "STEP   220 / 1077 (thread    4) f\b\b\r",
      "STEP   221 / 1077 (thread    5) f\b\b\r",
      "STEP   222 / 1077 (thread    3) f\b\b\r",
      "STEP   223 / 1077 (thread    2) f\b\b\r",
      "STEP   224 / 1077 (thread    4) f\b\b\r",
      "STEP   225 / 1077 (thread    5) f\b\b\r",
      "STEP   226 / 1077 (thread    0) f\b\b\r",
      "STEP   227 / 1077 (thread    1) f\b\b\r",
      "STEP   228 / 1077 (thread    3) f\b\b\r",
      "STEP   229 / 1077 (thread    2) f\b\b\r",
      "STEP   230 / 1077 (thread    4) f\b\b\r",
      "STEP   231 / 1077 (thread    5) f\b\b\r",
      "STEP   232 / 1077 (thread    0) f\b\b\r",
      "STEP   233 / 1077 (thread    1) f\b\b\r",
      "STEP   234 / 1077 (thread    3) f\b\b\r",
      "STEP   235 / 1077 (thread    4) f\b\b\r",
      "STEP   236 / 1077 (thread    5) f\b\b\r",
      "STEP   237 / 1077 (thread    2) f\b\b\r",
      "STEP   238 / 1077 (thread    0) f\b\b\r",
      "STEP   239 / 1077 (thread    1) f\b\b\r",
      "STEP   240 / 1077 (thread    3) f\b\b\r",
      "STEP   241 / 1077 (thread    4) f\b\b\r",
      "STEP   243 / 1077 (thread    0) f\b\b\r",
      "STEP   244 / 1077 (thread    2) f\b\b\r",
      "STEP   245 / 1077 (thread    1) f\b\b\r",
      "STEP   246 / 1077 (thread    0) f\b\b\r",
      "STEP   247 / 1077 (thread    3) f\b\b\r",
      "STEP   242 / 1077 (thread    5) f\b\b\r",
      "STEP   248 / 1077 (thread    2) f\b\b\r",
      "STEP   249 / 1077 (thread    1) f\b\b\r",
      "STEP   250 / 1077 (thread    4) f\b\b\r",
      "STEP   251 / 1077 (thread    1) f\b\b\r",
      "STEP   252 / 1077 (thread    4) f\b\b\r",
      "STEP   253 / 1077 (thread    0) f\b\b\r",
      "STEP   254 / 1077 (thread    5) f\b\b\r",
      "STEP   255 / 1077 (thread    3) f\b\b\r",
      "STEP   256 / 1077 (thread    2) f\b\b\r",
      "STEP   257 / 1077 (thread    1) f\b\b\r",
      "STEP   258 / 1077 (thread    4) f\b\b\r",
      "STEP   259 / 1077 (thread    5) f\b\b\r",
      "STEP   260 / 1077 (thread    3) f\b\b\r",
      "STEP   261 / 1077 (thread    2) f\b\b\r",
      "STEP   262 / 1077 (thread    1) f\b\b\r",
      "STEP   263 / 1077 (thread    4) f\b\b\r",
      "STEP   264 / 1077 (thread    5) f\b\b\r",
      "STEP   265 / 1077 (thread    0) f\b\b\r",
      "STEP   266 / 1077 (thread    3) f\b\b\r",
      "STEP   268 / 1077 (thread    2) f\b\b\r",
      "STEP   269 / 1077 (thread    4) f\b\b\r",
      "STEP   267 / 1077 (thread    1) f\b\b\r",
      "STEP   270 / 1077 (thread    5) f\b\b\r",
      "STEP   271 / 1077 (thread    0) f\b\b\r",
      "STEP   273 / 1077 (thread    3) f\b\b\r",
      "STEP   274 / 1077 (thread    2) f\b\b\r",
      "STEP   272 / 1077 (thread    4) f\b\b\r",
      "STEP   275 / 1077 (thread    1) f\b\b\r",
      "STEP   276 / 1077 (thread    5) f\b\b\r",
      "STEP   277 / 1077 (thread    3) f\b\b\r",
      "STEP   278 / 1077 (thread    0) f\b\b\r",
      "STEP   279 / 1077 (thread    3) f\b\b\r",
      "STEP   280 / 1077 (thread    5) f\b\b\r",
      "STEP   281 / 1077 (thread    4) f\b\b\r",
      "STEP   282 / 1077 (thread    1) f\b\b\r",
      "STEP   283 / 1077 (thread    2) f\b\b\r",
      "STEP   284 / 1077 (thread    0) f\b\b\r",
      "STEP   285 / 1077 (thread    5) f\b\b\r",
      "STEP   286 / 1077 (thread    4) f\b\b\r",
      "STEP   287 / 1077 (thread    1) f\b\b\r",
      "STEP   288 / 1077 (thread    3) f\b\b\r",
      "STEP   289 / 1077 (thread    5) f\b\b\r",
      "STEP   290 / 1077 (thread    4) f\b\b\r",
      "STEP   291 / 1077 (thread    1) f\b\b\r",
      "STEP   292 / 1077 (thread    0) f\b\b\r",
      "STEP   293 / 1077 (thread    3) f\b\b\r",
      "STEP   294 / 1077 (thread    2) f\b\b\r",
      "STEP   295 / 1077 (thread    4) f\b\b\r",
      "STEP   296 / 1077 (thread    5) f\b\b\r",
      "STEP   297 / 1077 (thread    1) f\b\b\r",
      "STEP   298 / 1077 (thread    0) f\b\b\r",
      "STEP   299 / 1077 (thread    3) f\b\b\r",
      "STEP   300 / 1077 (thread    2) f\b\b\r",
      "STEP   301 / 1077 (thread    4) f\b\b\r",
      "STEP   302 / 1077 (thread    5) f\b\b\r",
      "STEP   303 / 1077 (thread    0) f\b\b\r",
      "STEP   304 / 1077 (thread    3) f\b\b\r",
      "STEP   305 / 1077 (thread    2) f\b\b\r",
      "STEP   306 / 1077 (thread    4) f\b\b\r",
      "STEP   307 / 1077 (thread    1) f\b\b\r",
      "STEP   308 / 1077 (thread    5) f\b\b\r",
      "STEP   309 / 1077 (thread    1) f\b\b\r",
      "STEP   310 / 1077 (thread    0) f\b\b\r",
      "STEP   311 / 1077 (thread    3) f\b\b\r",
      "STEP   312 / 1077 (thread    4) f\b\b\r",
      "STEP   313 / 1077 (thread    1) f\b\b\r",
      "STEP   314 / 1077 (thread    2) f\b\b\r",
      "STEP   315 / 1077 (thread    0) f\b\b\r",
      "STEP   316 / 1077 (thread    5) f\b\b\r",
      "STEP   317 / 1077 (thread    1) f\b\b\r",
      "STEP   318 / 1077 (thread    3) f\b\b\r",
      "STEP   319 / 1077 (thread    2) f\b\b\r",
      "STEP   320 / 1077 (thread    0) f\b\b\r",
      "STEP   321 / 1077 (thread    5) f\b\b\r",
      "STEP   322 / 1077 (thread    1) f\b\b\r",
      "STEP   323 / 1077 (thread    3) f\b\b\r",
      "STEP   324 / 1077 (thread    4) f\b\b\r",
      "STEP   325 / 1077 (thread    5) f\b\b\r",
      "STEP   326 / 1077 (thread    1) f\b\b\r",
      "STEP   327 / 1077 (thread    2) f\b\b\r",
      "STEP   328 / 1077 (thread    0) f\b\b\r",
      "STEP   329 / 1077 (thread    3) f\b\b\r",
      "STEP   330 / 1077 (thread    5) f\b\b\r",
      "STEP   331 / 1077 (thread    4) f\b\b\r",
      "STEP   332 / 1077 (thread    1) f\b\b\r",
      "STEP   333 / 1077 (thread    3) f\b\b\r",
      "STEP   334 / 1077 (thread    0) f\b\b\r",
      "STEP   335 / 1077 (thread    2) f\b\b\r",
      "STEP   336 / 1077 (thread    4) f\b\b\r",
      "STEP   337 / 1077 (thread    1) f\b\b\r",
      "STEP   338 / 1077 (thread    3) f\b\b\r",
      "STEP   339 / 1077 (thread    1) f\b\b\r",
      "STEP   340 / 1077 (thread    4) f\b\b\r",
      "STEP   341 / 1077 (thread    5) f\b\b\r",
      "STEP   342 / 1077 (thread    2) f\b\b\r",
      "STEP   343 / 1077 (thread    3) f\b\b\r",
      "STEP   344 / 1077 (thread    4) f\b\b\r",
      "STEP   345 / 1077 (thread    1) f\b\b\r",
      "STEP   346 / 1077 (thread    0) f\b\b\r",
      "STEP   347 / 1077 (thread    2) f\b\b\r",
      "STEP   348 / 1077 (thread    3) f\b\b\r",
      "STEP   349 / 1077 (thread    1) f\b\b\r",
      "STEP   350 / 1077 (thread    5) f\b\b\r",
      "STEP   351 / 1077 (thread    0) f\b\b\r",
      "STEP   352 / 1077 (thread    3) f\b\b\r",
      "STEP   353 / 1077 (thread    4) f\b\b\r",
      "STEP   354 / 1077 (thread    2) f\b\b\r",
      "STEP   355 / 1077 (thread    1) f\b\b\r",
      "STEP   356 / 1077 (thread    0) f\b\b\r",
      "STEP   357 / 1077 (thread    5) f\b\b\r",
      "STEP   358 / 1077 (thread    3) f\b\b\r",
      "STEP   359 / 1077 (thread    4) f\b\b\r",
      "STEP   360 / 1077 (thread    2) f\b\b\r",
      "STEP   361 / 1077 (thread    1) f\b\b\r",
      "STEP   362 / 1077 (thread    5) f\b\b\r",
      "STEP   363 / 1077 (thread    0) f\b\b\r",
      "STEP   364 / 1077 (thread    3) f\b\b\r",
      "STEP   365 / 1077 (thread    4) f\b\b\r",
      "STEP   366 / 1077 (thread    2) f\b\b\r",
      "STEP   367 / 1077 (thread    0) f\b\b\r",
      "STEP   368 / 1077 (thread    5) f\b\b\r",
      "STEP   369 / 1077 (thread    3) f\b\b\r",
      "STEP   370 / 1077 (thread    1) f\b\b\r",
      "STEP   371 / 1077 (thread    4) f\b\b\r",
      "STEP   372 / 1077 (thread    0) f\b\b\r",
      "STEP   373 / 1077 (thread    5) f\b\b\r",
      "STEP   374 / 1077 (thread    1) f\b\b\r",
      "STEP   375 / 1077 (thread    3) f\b\b\r",
      "STEP   376 / 1077 (thread    2) f\b\b\r",
      "STEP   377 / 1077 (thread    0) f\b\b\r",
      "STEP   378 / 1077 (thread    5) f\b\b\r",
      "STEP   379 / 1077 (thread    3) f\b\b\r",
      "STEP   380 / 1077 (thread    2) f\b\b\r",
      "STEP   381 / 1077 (thread    4) f\b\b\r",
      "STEP   382 / 1077 (thread    0) f\b\b\r",
      "STEP   383 / 1077 (thread    5) f\b\b\r",
      "STEP   384 / 1077 (thread    1) f\b\b\r",
      "STEP   385 / 1077 (thread    3) f\b\b\r",
      "STEP   386 / 1077 (thread    4) f\b\b\r",
      "STEP   387 / 1077 (thread    2) f\b\b\r",
      "STEP   388 / 1077 (thread    5) f\b\b\r",
      "STEP   389 / 1077 (thread    0) f\b\b\r",
      "STEP   390 / 1077 (thread    1) f\b\b\r",
      "STEP   391 / 1077 (thread    3) f\b\b\r",
      "STEP   392 / 1077 (thread    4) f\b\b\r",
      "STEP   393 / 1077 (thread    5) f\b\b\r",
      "STEP   394 / 1077 (thread    2) f\b\b\r",
      "STEP   395 / 1077 (thread    0) f\b\b\r",
      "STEP   396 / 1077 (thread    1) f\b\b\r",
      "STEP   397 / 1077 (thread    3) f\b\b\r",
      "STEP   398 / 1077 (thread    4) f\b\b\r",
      "STEP   399 / 1077 (thread    1) f\b\b\r",
      "STEP   400 / 1077 (thread    5) f\b\b\r",
      "STEP   401 / 1077 (thread    0) f\b\b\r",
      "STEP   402 / 1077 (thread    2) f\b\b\r",
      "STEP   403 / 1077 (thread    4) f\b\b\r",
      "STEP   404 / 1077 (thread    2) f\b\b\r",
      "STEP   405 / 1077 (thread    1) f\b\b\r",
      "STEP   406 / 1077 (thread    5) f\b\b\r",
      "STEP   407 / 1077 (thread    3) f\b\b\r",
      "STEP   408 / 1077 (thread    0) f\b\b\r",
      "STEP   409 / 1077 (thread    5) f\b\b\r",
      "STEP   410 / 1077 (thread    4) f\b\b\r",
      "STEP   411 / 1077 (thread    2) f\b\b\r",
      "STEP   412 / 1077 (thread    1) f\b\b\r",
      "STEP   413 / 1077 (thread    0) f\b\b\r",
      "STEP   414 / 1077 (thread    5) f\b\b\r",
      "STEP   415 / 1077 (thread    4) f\b\b\r",
      "STEP   416 / 1077 (thread    3) f\b\b\r",
      "STEP   417 / 1077 (thread    1) f\b\b\r",
      "STEP   418 / 1077 (thread    0) f\b\b\r",
      "STEP   419 / 1077 (thread    5) f\b\b\r",
      "STEP   420 / 1077 (thread    4) f\b\b\r",
      "STEP   421 / 1077 (thread    3) f\b\b\r",
      "STEP   422 / 1077 (thread    2) f\b\b\r",
      "STEP   423 / 1077 (thread    0) f\b\b\r",
      "STEP   424 / 1077 (thread    1) f\b\b\r",
      "STEP   425 / 1077 (thread    5) f\b\b\r",
      "STEP   426 / 1077 (thread    4) f\b\b\r",
      "STEP   427 / 1077 (thread    2) f\b\b\r",
      "STEP   428 / 1077 (thread    3) f\b\b\r",
      "STEP   429 / 1077 (thread    5) f\b\b\r",
      "STEP   430 / 1077 (thread    1) f\b\b\r",
      "STEP   431 / 1077 (thread    0) f\b\b\r",
      "STEP   432 / 1077 (thread    2) f\b\b\r",
      "STEP   433 / 1077 (thread    4) f\b\b\r",
      "STEP   434 / 1077 (thread    3) f\b\b\r",
      "STEP   435 / 1077 (thread    5) f\b\b\r",
      "STEP   436 / 1077 (thread    2) f\b\b\r",
      "STEP   437 / 1077 (thread    4) f\b\b\r",
      "STEP   438 / 1077 (thread    0) f\b\b\r",
      "STEP   439 / 1077 (thread    3) f\b\b\r",
      "STEP   440 / 1077 (thread    1) f\b\b\r",
      "STEP   441 / 1077 (thread    4) f\b\b\r",
      "STEP   442 / 1077 (thread    0) f\b\b\r",
      "STEP   443 / 1077 (thread    3) f\b\b\r",
      "STEP   444 / 1077 (thread    5) f\b\b\r",
      "STEP   445 / 1077 (thread    4) f\b\b\r",
      "STEP   446 / 1077 (thread    3) f\b\b\r",
      "STEP   447 / 1077 (thread    2) f\b\b\r",
      "STEP   448 / 1077 (thread    1) f\b\b\r",
      "STEP   449 / 1077 (thread    0) f\b\b\r",
      "STEP   450 / 1077 (thread    5) f\b\b\r",
      "STEP   451 / 1077 (thread    4) f\b\b\r",
      "STEP   452 / 1077 (thread    3) f\b\b\r",
      "STEP   453 / 1077 (thread    2) f\b\b\r",
      "STEP   454 / 1077 (thread    1) f\b\b\r",
      "STEP   455 / 1077 (thread    0) f\b\b\r",
      "STEP   456 / 1077 (thread    4) f\b\b\r",
      "STEP   457 / 1077 (thread    3) f\b\b\r",
      "STEP   458 / 1077 (thread    5) f\b\b\r",
      "STEP   459 / 1077 (thread    2) f\b\b\r",
      "STEP   460 / 1077 (thread    1) f\b\b\r",
      "STEP   461 / 1077 (thread    0) f\b\b\r",
      "STEP   462 / 1077 (thread    5) f\b\b\r",
      "STEP   463 / 1077 (thread    1) f\b\b\r",
      "STEP   464 / 1077 (thread    4) f\b\b\r",
      "STEP   465 / 1077 (thread    3) f\b\b\r",
      "STEP   466 / 1077 (thread    2) f\b\b\r",
      "STEP   467 / 1077 (thread    1) f\b\b\r",
      "STEP   468 / 1077 (thread    4) f\b\b\r",
      "STEP   469 / 1077 (thread    0) f\b\b\r",
      "STEP   470 / 1077 (thread    3) f\b\b\r",
      "STEP   471 / 1077 (thread    5) f\b\b\r",
      "STEP   472 / 1077 (thread    1) f\b\b\r",
      "STEP   473 / 1077 (thread    3) f\b\b\r",
      "STEP   474 / 1077 (thread    2) f\b\b\r",
      "STEP   475 / 1077 (thread    4) f\b\b\r",
      "STEP   476 / 1077 (thread    0) f\b\b\r",
      "STEP   477 / 1077 (thread    1) f\b\b\r",
      "STEP   478 / 1077 (thread    3) f\b\b\r",
      "STEP   479 / 1077 (thread    5) f\b\b\r",
      "STEP   480 / 1077 (thread    4) f\b\b\r",
      "STEP   481 / 1077 (thread    2) f\b\b\r",
      "STEP   482 / 1077 (thread    0) f\b\b\r",
      "STEP   483 / 1077 (thread    3) f\b\b\r",
      "STEP   484 / 1077 (thread    5) f\b\b\r",
      "STEP   485 / 1077 (thread    1) f\b\b\r",
      "STEP   486 / 1077 (thread    4) f\b\b\r",
      "STEP   487 / 1077 (thread    0) f\b\b\r",
      "STEP   488 / 1077 (thread    5) f\b\b\r",
      "STEP   489 / 1077 (thread    2) f\b\b\r",
      "STEP   490 / 1077 (thread    4) f\b\b\r",
      "STEP   491 / 1077 (thread    5) f\b\b\r",
      "STEP   492 / 1077 (thread    1) f\b\b\r",
      "STEP   493 / 1077 (thread    3) f\b\b\r",
      "STEP   494 / 1077 (thread    0) f\b\b\r",
      "STEP   495 / 1077 (thread    1) f\b\b\r",
      "STEP   496 / 1077 (thread    2) f\b\b\r",
      "STEP   497 / 1077 (thread    0) f\b\b\r",
      "STEP   498 / 1077 (thread    4) f\b\b\r",
      "STEP   499 / 1077 (thread    5) f\b\b\r",
      "STEP   500 / 1077 (thread    3) f\b\b\r",
      "STEP   501 / 1077 (thread    1) f\b\b\r",
      "STEP   601 / 1077 (thread    4) f\b\b\r",
      "STEP   701 / 1077 (thread    4) f\b\b\r",
      "STEP   801 / 1077 (thread    1) f\b\b\r",
      "STEP   901 / 1077 (thread    4) f\b\b"
     ]
    },
    {
     "name": "stderr",
     "output_type": "stream",
     "text": [
      "\r",
      "STEP  1001 / 1077 (thread    3) f\b\b\n",
      "Reallocating..done. *alloclen = 1863\n",
      "\n",
      "done.\n",
      "\n",
      "disttbfast (nuc) Version 7.520\n",
      "alg=A, model=DNA200 (2), 1.53 (4.59), -0.00 (-0.00), noshift, amax=0.0\n",
      "6 thread(s)\n",
      "\n",
      "\n",
      "Strategy:\n",
      " FFT-NS-2 (Fast but rough)\n",
      " Progressive method (guide trees were built 2 times.)\n",
      "\n",
      "If unsure which option to use, try 'mafft --auto input > output'.\n",
      "For more information, see 'mafft --help', 'mafft --man' and the mafft page.\n",
      "\n",
      "The default gap scoring scheme has been changed in version 7.110 (2013 Oct).\n",
      "It tends to insert more gaps into gap-rich regions than previous versions.\n",
      "To disable this change, add the --leavegappyregion option.\n",
      "\n"
     ]
    },
    {
     "name": "stdout",
     "output_type": "stream",
     "text": [
      "Running external command line application. This may print messages to stdout and/or stderr.\n",
      "The command being run is below. This command cannot be manually re-run as it will depend on temporary files that no longer exist.\n",
      "\n",
      "Command: FastTreeMP -quote -nt /tmp/qiime2/lauro/data/441855e5-45ab-405b-a1a9-1b9751ab2b9e/data/aligned-dna-sequences.fasta\n",
      "\n"
     ]
    },
    {
     "name": "stderr",
     "output_type": "stream",
     "text": [
      "FastTree Version 2.1.11 Double precision (No SSE3), OpenMP (6 threads)\n",
      "Alignment: /tmp/qiime2/lauro/data/441855e5-45ab-405b-a1a9-1b9751ab2b9e/data/aligned-dna-sequences.fasta\n",
      "Nucleotide distances: Jukes-Cantor Joins: balanced Support: SH-like 1000\n",
      "Search: Normal +NNI +SPR (2 rounds range 10) +ML-NNI opt-each=1\n",
      "TopHits: 1.00*sqrtN close=default refresh=0.80\n",
      "ML Model: Jukes-Cantor, CAT approximation with 20 rate categories\n",
      "      0.13 seconds: Joined    300 of   1042\n"
     ]
    },
    {
     "name": "stderr",
     "output_type": "stream",
     "text": [
      "      0.24 seconds: Joined    600 of   1042\n",
      "      0.34 seconds: Joined    900 of   1042\n",
      "Initial topology in 0.39 seconds\n",
      "Refining topology: 40 rounds ME-NNIs, 2 rounds ME-SPRs, 20 rounds ML-NNIs\n"
     ]
    },
    {
     "name": "stderr",
     "output_type": "stream",
     "text": [
      "      0.44 seconds: ME NNI round 3 of 40, 501 of 1043 splits, 33 changes (max delta 0.007)\n",
      "      0.54 seconds: SPR round   1 of   2, 201 of 2088 nodes\n"
     ]
    },
    {
     "name": "stderr",
     "output_type": "stream",
     "text": [
      "      0.67 seconds: SPR round   1 of   2, 601 of 2088 nodes\n",
      "      0.79 seconds: SPR round   1 of   2, 901 of 2088 nodes\n"
     ]
    },
    {
     "name": "stderr",
     "output_type": "stream",
     "text": [
      "      0.92 seconds: SPR round   1 of   2, 1201 of 2088 nodes\n",
      "      1.03 seconds: SPR round   1 of   2, 1501 of 2088 nodes\n"
     ]
    },
    {
     "name": "stderr",
     "output_type": "stream",
     "text": [
      "      1.17 seconds: SPR round   1 of   2, 1901 of 2088 nodes\n",
      "      1.27 seconds: ME NNI round 15 of 40, 601 of 1043 splits, 3 changes (max delta 0.001)\n"
     ]
    },
    {
     "name": "stderr",
     "output_type": "stream",
     "text": [
      "      1.38 seconds: SPR round   2 of   2, 301 of 2088 nodes\n",
      "      1.51 seconds: SPR round   2 of   2, 701 of 2088 nodes\n"
     ]
    },
    {
     "name": "stderr",
     "output_type": "stream",
     "text": [
      "      1.63 seconds: SPR round   2 of   2, 1001 of 2088 nodes\n",
      "      1.76 seconds: SPR round   2 of   2, 1301 of 2088 nodes\n"
     ]
    },
    {
     "name": "stderr",
     "output_type": "stream",
     "text": [
      "      1.89 seconds: SPR round   2 of   2, 1701 of 2088 nodes\n",
      "      2.00 seconds: SPR round   2 of   2, 2001 of 2088 nodes\n"
     ]
    },
    {
     "name": "stderr",
     "output_type": "stream",
     "text": [
      "Total branch-length 22.376 after 2.10 sec\n",
      "      2.10 seconds: ML Lengths 1 of 1043 splits\n",
      "      2.21 seconds: ML Lengths 701 of 1043 splits\n"
     ]
    },
    {
     "name": "stderr",
     "output_type": "stream",
     "text": [
      "      2.31 seconds: ML NNI round 1 of 20, 201 of 1043 splits, 36 changes (max delta 5.138)\n",
      "      2.42 seconds: ML NNI round 1 of 20, 601 of 1043 splits, 85 changes (max delta 9.930)\n"
     ]
    },
    {
     "name": "stderr",
     "output_type": "stream",
     "text": [
      "      2.52 seconds: ML NNI round 1 of 20, 1001 of 1043 splits, 161 changes (max delta 9.930)\n",
      "ML-NNI round 1: LogLk = -58151.242 NNIs 172 max delta 17.85 Time 2.54\n",
      "      2.62 seconds: Site likelihoods with rate category 14 of 20\n",
      "Switched to using 20 rate categories (CAT approximation)\n",
      "Rate categories were divided by 1.117 so that average rate = 1.0\n",
      "CAT-based log-likelihoods may not be comparable across runs\n",
      "Use -gamma for approximate but comparable Gamma(20) log-likelihoods\n"
     ]
    },
    {
     "name": "stderr",
     "output_type": "stream",
     "text": [
      "      2.75 seconds: ML NNI round 2 of 20, 301 of 1043 splits, 26 changes (max delta 9.649)\n",
      "      2.86 seconds: ML NNI round 2 of 20, 701 of 1043 splits, 65 changes (max delta 9.649)\n"
     ]
    },
    {
     "name": "stderr",
     "output_type": "stream",
     "text": [
      "ML-NNI round 2: LogLk = -48192.491 NNIs 95 max delta 11.54 Time 2.97\n",
      "      2.96 seconds: ML NNI round 3 of 20, 1 of 1043 splits\n",
      "      3.07 seconds: ML NNI round 3 of 20, 401 of 1043 splits, 10 changes (max delta 0.271)\n",
      "ML-NNI round 3: LogLk = -48163.799 NNIs 26 max delta 4.59 Time 3.16\n"
     ]
    },
    {
     "name": "stderr",
     "output_type": "stream",
     "text": [
      "      3.18 seconds: ML NNI round 4 of 20, 101 of 1043 splits, 1 changes (max delta 0.000)\n",
      "ML-NNI round 4: LogLk = -48152.539 NNIs 11 max delta 4.33 Time 3.26\n",
      "      3.29 seconds: ML NNI round 5 of 20, 101 of 1043 splits, 1 changes (max delta 0.000)\n",
      "ML-NNI round 5: LogLk = -48150.573 NNIs 2 max delta 1.29 Time 3.31\n",
      "ML-NNI round 6: LogLk = -48150.489 NNIs 0 max delta 0.00 Time 3.33\n",
      "Turning off heuristics for final round of ML NNIs (converged)\n"
     ]
    },
    {
     "name": "stderr",
     "output_type": "stream",
     "text": [
      "      3.40 seconds: ML NNI round 7 of 20, 301 of 1043 splits, 0 changes\n",
      "      3.51 seconds: ML NNI round 7 of 20, 701 of 1043 splits, 0 changes\n"
     ]
    },
    {
     "name": "stderr",
     "output_type": "stream",
     "text": [
      "ML-NNI round 7: LogLk = -48147.461 NNIs 5 max delta 0.23 Time 3.61 (final)\n",
      "      3.62 seconds: ML Lengths 101 of 1043 splits\n",
      "      3.73 seconds: ML Lengths 1001 of 1043 splits\n",
      "Optimize all lengths: LogLk = -48146.195 Time 3.74\n"
     ]
    },
    {
     "name": "stderr",
     "output_type": "stream",
     "text": [
      "      3.87 seconds: ML split tests for    200 of   1042 internal splits\n",
      "      4.01 seconds: ML split tests for    400 of   1042 internal splits\n"
     ]
    },
    {
     "name": "stderr",
     "output_type": "stream",
     "text": [
      "      4.15 seconds: ML split tests for    600 of   1042 internal splits\n",
      "      4.29 seconds: ML split tests for    800 of   1042 internal splits\n"
     ]
    },
    {
     "name": "stderr",
     "output_type": "stream",
     "text": [
      "      4.43 seconds: ML split tests for   1000 of   1042 internal splits\n",
      "Total time: 4.46 seconds Unique: 1045/1078 Bad splits: 3/1042 Worst delta-LogLk 6.443\n"
     ]
    }
   ],
   "source": [
    "mafft_alignment, mafft_masked_alignment, mafft_tree, mafft_rooted_tree = align_to_tree_mafft_fasttree(\n",
    "    sequences=reps, n_threads=6, )"
   ]
  },
  {
   "cell_type": "markdown",
   "id": "0768d598",
   "metadata": {
    "papermill": {
     "duration": 0.004299,
     "end_time": "2024-03-05T22:03:48.326693",
     "exception": false,
     "start_time": "2024-03-05T22:03:48.322394",
     "status": "completed"
    },
    "tags": []
   },
   "source": [
    "### Compute Alpha Diversity (Phylogeny)\n",
    "- [diversity alpha_phylogenetic](https://docs.qiime2.org/2022.8/plugins/available/diversity/alpha-phylogenetic/): Computes a user-specified phylogenetic alpha diversity metric for all samples in a feature table.\n",
    "- Metrics: Choices ('faith_pd')"
   ]
  },
  {
   "cell_type": "code",
   "execution_count": 11,
   "id": "0383aa19",
   "metadata": {
    "ExecuteTime": {
     "end_time": "2022-09-29T20:54:35.310009Z",
     "start_time": "2022-09-29T20:54:35.141333Z"
    },
    "execution": {
     "iopub.execute_input": "2024-03-05T22:03:48.336158Z",
     "iopub.status.busy": "2024-03-05T22:03:48.336018Z",
     "iopub.status.idle": "2024-03-05T22:03:48.437100Z",
     "shell.execute_reply": "2024-03-05T22:03:48.436610Z"
    },
    "papermill": {
     "duration": 0.10706,
     "end_time": "2024-03-05T22:03:48.438123",
     "exception": false,
     "start_time": "2024-03-05T22:03:48.331063",
     "status": "completed"
    },
    "tags": []
   },
   "outputs": [
    {
     "name": "stdout",
     "output_type": "stream",
     "text": [
      "Calculating alpha diversity: faith_pd\n",
      "Running external command line application. This may print messages to stdout and/or stderr.\n",
      "The command being run is below. This command cannot be manually re-run as it will depend on temporary files that no longer exist.\n",
      "\n",
      "Command:\n",
      "\n",
      "faithpd -i /tmp/qiime2/lauro/data/2bdf2b97-e4ea-4775-885b-48c7e605f29c/data/feature-table.biom -t /tmp/qiime2/lauro/data/c7c17aaf-c850-4ead-a4cc-c093d1a229d1/data/tree.nwk -o /tmp/q2-AlphaDiversityFormat-31kwhf6q\n",
      "\n",
      "DONE: Calculating alpha phylogeny: faith_pd\n"
     ]
    }
   ],
   "source": [
    "metrics = ('faith_pd', )\n",
    "alpha_diversities_phylogenetic = dict()\n",
    "for metric in metrics:\n",
    "    print(f\"Calculating alpha diversity: {metric}\")\n",
    "    try:\n",
    "        alpha_diversity = alpha_phylogenetic(table=tabs, phylogeny=mafft_rooted_tree, metric=metric).alpha_diversity\n",
    "        alpha_diversities_phylogenetic[metric] = alpha_diversity\n",
    "        # Save Artifact\n",
    "        file_path = os.path.join(alpha_path, f'alpha-phylogeny-{metric}.qza')\n",
    "        alpha_diversity.save(file_path)\n",
    "        print(f\"DONE: Calculating alpha phylogeny: {metric}\")\n",
    "    except Exception as e:\n",
    "        print(f\"ERROR: Calculating alpha phylogeny: {metric}\")"
   ]
  },
  {
   "cell_type": "markdown",
   "id": "42db1ead",
   "metadata": {
    "papermill": {
     "duration": 0.004371,
     "end_time": "2024-03-05T22:03:48.447256",
     "exception": false,
     "start_time": "2024-03-05T22:03:48.442885",
     "status": "completed"
    },
    "tags": []
   },
   "source": [
    "- [core-metrics-phylogenetic](https://docs.qiime2.org/2023.7/plugins/available/diversity/core-metrics-phylogenetic/)"
   ]
  },
  {
   "cell_type": "code",
   "execution_count": 12,
   "id": "ef726ab7",
   "metadata": {
    "execution": {
     "iopub.execute_input": "2024-03-05T22:03:48.456827Z",
     "iopub.status.busy": "2024-03-05T22:03:48.456689Z",
     "iopub.status.idle": "2024-03-05T22:03:50.224818Z",
     "shell.execute_reply": "2024-03-05T22:03:50.224315Z"
    },
    "papermill": {
     "duration": 1.774252,
     "end_time": "2024-03-05T22:03:50.225951",
     "exception": false,
     "start_time": "2024-03-05T22:03:48.451699",
     "status": "completed"
    },
    "tags": []
   },
   "outputs": [
    {
     "name": "stderr",
     "output_type": "stream",
     "text": [
      "/home/lauro/anaconda3/envs/qiime2-2023.5/lib/python3.8/site-packages/sklearn/metrics/pairwise.py:1761: DataConversionWarning: Data was converted to boolean for metric jaccard\n",
      "  warnings.warn(msg, DataConversionWarning)\n"
     ]
    },
    {
     "name": "stdout",
     "output_type": "stream",
     "text": [
      "Running external command line application. This may print messages to stdout and/or stderr.\n",
      "The command being run is below. This command cannot be manually re-run as it will depend on temporary files that no longer exist.\n",
      "\n",
      "Command:\n",
      "\n",
      "faithpd -i /tmp/qiime2/lauro/data/f5ca7d9a-85a6-4d26-9909-419335e930a9/data/feature-table.biom -t /tmp/qiime2/lauro/data/c7c17aaf-c850-4ead-a4cc-c093d1a229d1/data/tree.nwk -o /tmp/q2-AlphaDiversityFormat-ng14yy6g\n",
      "\n",
      "Running external command line application. This may print messages to stdout and/or stderr.\n",
      "The command being run is below. This command cannot be manually re-run as it will depend on temporary files that no longer exist.\n",
      "\n",
      "Command:\n",
      "\n",
      "ssu -i /tmp/qiime2/lauro/data/f5ca7d9a-85a6-4d26-9909-419335e930a9/data/feature-table.biom -t /tmp/qiime2/lauro/data/c7c17aaf-c850-4ead-a4cc-c093d1a229d1/data/tree.nwk -m unweighted -o /tmp/q2-LSMatFormat-izgptp9v\n",
      "\n"
     ]
    },
    {
     "name": "stdout",
     "output_type": "stream",
     "text": [
      "Running external command line application. This may print messages to stdout and/or stderr.\n",
      "The command being run is below. This command cannot be manually re-run as it will depend on temporary files that no longer exist.\n",
      "\n",
      "Command:\n",
      "\n",
      "ssu -i /tmp/qiime2/lauro/data/f5ca7d9a-85a6-4d26-9909-419335e930a9/data/feature-table.biom -t /tmp/qiime2/lauro/data/c7c17aaf-c850-4ead-a4cc-c093d1a229d1/data/tree.nwk -m weighted_unnormalized -o /tmp/q2-LSMatFormat-br5jioc6\n",
      "\n"
     ]
    },
    {
     "name": "stderr",
     "output_type": "stream",
     "text": [
      "/home/lauro/anaconda3/envs/qiime2-2023.5/lib/python3.8/site-packages/skbio/stats/ordination/_principal_coordinate_analysis.py:143: RuntimeWarning: The result contains negative eigenvalues. Please compare their magnitude with the magnitude of some of the largest positive eigenvalues. If the negative ones are smaller, it's probably safe to ignore them, but if they are large in magnitude, the results won't be useful. See the Notes section for more details. The smallest eigenvalue is -0.0024938119560903795 and the largest is 0.426690509904439.\n",
      "  warn(\n"
     ]
    }
   ],
   "source": [
    "s_depth = int(tabs.view(pd.DataFrame).sum(axis=1).min())\n",
    "results = core_metrics_phylogenetic(\n",
    "    table = tabs,\n",
    "    phylogeny = mafft_rooted_tree,\n",
    "    sampling_depth = s_depth,\n",
    "    metadata = metadata_qa,\n",
    "    n_jobs_or_threads = 6,\n",
    ")"
   ]
  },
  {
   "cell_type": "code",
   "execution_count": 13,
   "id": "19311218",
   "metadata": {
    "execution": {
     "iopub.execute_input": "2024-03-05T22:03:50.237405Z",
     "iopub.status.busy": "2024-03-05T22:03:50.237268Z",
     "iopub.status.idle": "2024-03-05T22:03:50.240781Z",
     "shell.execute_reply": "2024-03-05T22:03:50.240469Z"
    },
    "papermill": {
     "duration": 0.010848,
     "end_time": "2024-03-05T22:03:50.241712",
     "exception": false,
     "start_time": "2024-03-05T22:03:50.230864",
     "status": "completed"
    },
    "tags": []
   },
   "outputs": [],
   "source": [
    "results_info = [(\"rarefied_table\", \"FeatureTable[Frequency]\", \"The resulting rarefied feature table.\"),\n",
    "(\"faith_pd_vector\", \"SampleData[AlphaDiversity]\", \"Vector of Faith PD values by sample.\"),\n",
    "(\"observed_features_vector\", \"SampleData[AlphaDiversity]\", \"Vector of Observed Features values by sample.\"),\n",
    "(\"shannon_vector\", \"SampleData[AlphaDiversity]\", \"Vector of Shannon diversity values by sample.\"),\n",
    "(\"evenness_vector\", \"SampleData[AlphaDiversity]\", \"Vector of Pielou's evenness values by sample.\"),\n",
    "(\"unweighted_unifrac_distance_matrix\", \"DistanceMatrix\", \"Matrix of unweighted UniFrac distances between pairs of samples.\"),\n",
    "(\"weighted_unifrac_distance_matrix\", \"DistanceMatrix\", \"Matrix of weighted UniFrac distances between pairs of samples.\"),\n",
    "(\"jaccard_distance_matrix\", \"DistanceMatrix\", \"Matrix of Jaccard distances between pairs of samples.\"),\n",
    "(\"bray_curtis_distance_matrix\", \"DistanceMatrix\", \"Matrix of Bray-Curtis distances between pairs of samples.\"),\n",
    "(\"unweighted_unifrac_pcoa_results\", \"PCoAResults\", \"PCoA matrix computed from unweighted UniFrac distances between samples.\"),\n",
    "(\"weighted_unifrac_pcoa_results\", \"PCoAResults\", \"PCoA matrix computed from weighted UniFrac distances between samples.\"),\n",
    "(\"jaccard_pcoa_results\", \"PCoAResults\", \"PCoA matrix computed from Jaccard distances between samples.\"),\n",
    "(\"bray_curtis_pcoa_results\", \"PCoAResults\", \"PCoA matrix computed from Bray-Curtis distances between samples.\"),\n",
    "(\"unweighted_unifrac_emperor\", \"Visualization\", \"Emperor plot of the PCoA matrix computed from unweighted UniFrac.\"),\n",
    "(\"weighted_unifrac_emperor\", \"Visualization\", \"Emperor plot of the PCoA matrix computed from weighted UniFrac.\"),\n",
    "(\"jaccard_emperor\", \"Visualization\", \"Emperor plot of the PCoA matrix computed from Jaccard.\"),\n",
    "(\"bray_curtis_emperor\", \"Visualization\", \"Emperor plot of the PCoA matrix computed from Bray-Curtis.\")]"
   ]
  },
  {
   "cell_type": "code",
   "execution_count": 14,
   "id": "2264925a",
   "metadata": {
    "execution": {
     "iopub.execute_input": "2024-03-05T22:03:50.252639Z",
     "iopub.status.busy": "2024-03-05T22:03:50.252514Z",
     "iopub.status.idle": "2024-03-05T22:03:50.538028Z",
     "shell.execute_reply": "2024-03-05T22:03:50.537591Z"
    },
    "papermill": {
     "duration": 0.29262,
     "end_time": "2024-03-05T22:03:50.538963",
     "exception": false,
     "start_time": "2024-03-05T22:03:50.246343",
     "status": "completed"
    },
    "tags": []
   },
   "outputs": [
    {
     "name": "stdout",
     "output_type": "stream",
     "text": [
      "13 unweighted_unifrac_emperor Visualization\n",
      "--- Emperor plot of the PCoA matrix computed from unweighted UniFrac. ---\n",
      "Saving emperor file at: /mnt/nupeb/rede-micro/redemicro-ana-flavia-nutri/experiments/ana-flavia-NCxSTD-NC-trim/qiime-artifacts/beta-analysis/unweighted_unifrac_emperor.qzv\n",
      "\n",
      "14 weighted_unifrac_emperor Visualization\n",
      "--- Emperor plot of the PCoA matrix computed from weighted UniFrac. ---\n",
      "Saving emperor file at: /mnt/nupeb/rede-micro/redemicro-ana-flavia-nutri/experiments/ana-flavia-NCxSTD-NC-trim/qiime-artifacts/beta-analysis/weighted_unifrac_emperor.qzv\n",
      "\n",
      "15 jaccard_emperor Visualization\n",
      "--- Emperor plot of the PCoA matrix computed from Jaccard. ---\n",
      "Saving emperor file at: /mnt/nupeb/rede-micro/redemicro-ana-flavia-nutri/experiments/ana-flavia-NCxSTD-NC-trim/qiime-artifacts/beta-analysis/jaccard_emperor.qzv\n",
      "\n"
     ]
    },
    {
     "name": "stdout",
     "output_type": "stream",
     "text": [
      "16 bray_curtis_emperor Visualization\n",
      "--- Emperor plot of the PCoA matrix computed from Bray-Curtis. ---\n",
      "Saving emperor file at: /mnt/nupeb/rede-micro/redemicro-ana-flavia-nutri/experiments/ana-flavia-NCxSTD-NC-trim/qiime-artifacts/beta-analysis/bray_curtis_emperor.qzv\n",
      "\n"
     ]
    }
   ],
   "source": [
    "distance_matrix = dict()\n",
    "for i, info in enumerate(results_info):\n",
    "    r_id, r_type, r_desc = info\n",
    "    #print(i, r_id, r_type)\n",
    "    file_name = f\"{r_id}.qzv\"\n",
    "    if r_type == \"FeatureTable[Frequency]\":\n",
    "        pass\n",
    "    elif r_type == \"DistanceMatrix\":\n",
    "        distance_matrix[r_id] = results[i]\n",
    "    elif r_id.endswith('emperor'):\n",
    "        print(i, r_id, r_type)\n",
    "        print(f\"--- {r_desc} ---\")\n",
    "        file_name = os.path.join(beta_path, file_name)\n",
    "        print(f'Saving emperor file at: {file_name}\\n')\n",
    "        results[i].save(filepath=file_name)"
   ]
  },
  {
   "cell_type": "markdown",
   "id": "c7752cfd",
   "metadata": {
    "papermill": {
     "duration": 0.004597,
     "end_time": "2024-03-05T22:03:50.548378",
     "exception": false,
     "start_time": "2024-03-05T22:03:50.543781",
     "status": "completed"
    },
    "tags": []
   },
   "source": [
    "### Alpha diversity correlation\n",
    "\n",
    "This method only process `numeric` columns.\n"
   ]
  },
  {
   "cell_type": "code",
   "execution_count": 15,
   "id": "2814f613",
   "metadata": {
    "ExecuteTime": {
     "end_time": "2022-09-29T20:54:35.317618Z",
     "start_time": "2022-09-29T20:54:35.312094Z"
    },
    "execution": {
     "iopub.execute_input": "2024-03-05T22:03:50.558635Z",
     "iopub.status.busy": "2024-03-05T22:03:50.558316Z",
     "iopub.status.idle": "2024-03-05T22:03:50.562466Z",
     "shell.execute_reply": "2024-03-05T22:03:50.562000Z"
    },
    "papermill": {
     "duration": 0.010396,
     "end_time": "2024-03-05T22:03:50.563405",
     "exception": false,
     "start_time": "2024-03-05T22:03:50.553009",
     "status": "completed"
    },
    "tags": []
   },
   "outputs": [],
   "source": [
    "methods = ('spearman', 'pearson')\n",
    "numerics_cols = metadata_qa.filter_columns(column_type='numeric')\n",
    "if numerics_cols.column_count > 0:\n",
    "    for metric, alpha_values in alpha_diversities.items():\n",
    "        for method in methods:\n",
    "            try:\n",
    "                corr_view = alpha_correlation(alpha_diversity=alpha_values, metadata=numerics_cols, \n",
    "                                          method=method, intersect_ids=True).visualization\n",
    "                view_path = os.path.join(alpha_path, f'alpha-correlation-{metric}-{method}.qzv')\n",
    "                corr_view.save(view_path)\n",
    "                corr_view\n",
    "                print(f\"DONE: Calculating alpha correlation: {metric} {method}\")\n",
    "            except Exception as e:\n",
    "                print(f\"ERROR: Calculating alpha correlation: {metric} {method}\")"
   ]
  },
  {
   "cell_type": "markdown",
   "id": "8ea83c8a",
   "metadata": {
    "papermill": {
     "duration": 0.0046,
     "end_time": "2024-03-05T22:03:50.572695",
     "exception": false,
     "start_time": "2024-03-05T22:03:50.568095",
     "status": "completed"
    },
    "tags": []
   },
   "source": [
    "## Alpha diversity comparisons\n",
    "\n",
    "Visually and statistically compare groups of alpha diversity values.\n",
    "\n",
    "[diversity alpha_group_significance](https://docs.qiime2.org/2022.8/plugins/available/diversity/alpha-group-significance/)"
   ]
  },
  {
   "cell_type": "code",
   "execution_count": 16,
   "id": "276d1c18",
   "metadata": {
    "ExecuteTime": {
     "end_time": "2022-09-29T20:54:36.089290Z",
     "start_time": "2022-09-29T20:54:35.318963Z"
    },
    "execution": {
     "iopub.execute_input": "2024-03-05T22:03:50.582624Z",
     "iopub.status.busy": "2024-03-05T22:03:50.582405Z",
     "iopub.status.idle": "2024-03-05T22:03:51.039848Z",
     "shell.execute_reply": "2024-03-05T22:03:51.039392Z"
    },
    "papermill": {
     "duration": 0.463488,
     "end_time": "2024-03-05T22:03:51.040816",
     "exception": false,
     "start_time": "2024-03-05T22:03:50.577328",
     "status": "completed"
    },
    "tags": []
   },
   "outputs": [
    {
     "name": "stdout",
     "output_type": "stream",
     "text": [
      "Processing alpha_group_significance: chao1\n"
     ]
    },
    {
     "name": "stdout",
     "output_type": "stream",
     "text": [
      "DONE: Calculating alpha group significance: chao1\n",
      "Processing alpha_group_significance: chao1_ci\n",
      "ERROR: Calculating alpha group significance: chao1_ci\n",
      "Processing alpha_group_significance: observed_features\n",
      "DONE: Calculating alpha group significance: observed_features\n",
      "Processing alpha_group_significance: shannon\n"
     ]
    },
    {
     "name": "stdout",
     "output_type": "stream",
     "text": [
      "DONE: Calculating alpha group significance: shannon\n",
      "Processing alpha_group_significance: simpson\n"
     ]
    },
    {
     "name": "stdout",
     "output_type": "stream",
     "text": [
      "DONE: Calculating alpha group significance: simpson\n",
      "Processing alpha_group_significance: simpson_e\n",
      "DONE: Calculating alpha group significance: simpson_e\n"
     ]
    }
   ],
   "source": [
    "for metric, alpha_values in alpha_diversities.items():\n",
    "    print(f\"Processing alpha_group_significance: {metric}\")\n",
    "    try:\n",
    "        significance_view = alpha_group_significance(alpha_diversity=alpha_values, metadata=metadata_qa).visualization\n",
    "        view_path = os.path.join(alpha_path, f'alpha-group-significance-{metric}.qzv')\n",
    "        significance_view.save(view_path)\n",
    "        significance_view\n",
    "        print(f\"DONE: Calculating alpha group significance: {metric}\")\n",
    "    except Exception as e:\n",
    "        print(f\"ERROR: Calculating alpha group significance: {metric}\")"
   ]
  },
  {
   "cell_type": "markdown",
   "id": "4349d357",
   "metadata": {
    "papermill": {
     "duration": 0.004781,
     "end_time": "2024-03-05T22:03:51.050894",
     "exception": false,
     "start_time": "2024-03-05T22:03:51.046113",
     "status": "completed"
    },
    "tags": []
   },
   "source": [
    "## Beta diversity analysis\n",
    "\n",
    "#### Reference\n",
    "- [diversity beta](https://docs.qiime2.org/2022.8/plugins/available/diversity/beta/): Computes a user-specified beta diversity metric for all pairs of samples in a feature table.\n",
    "- [Beta diversity metrics](http://scikit-bio.org/docs/0.2.0/generated/skbio.diversity.beta.html)\n",
    "\n",
    "- Metric Choices('aitchison', 'braycurtis', 'canberra', 'canberra_adkins', 'chebyshev', 'cityblock', 'correlation', 'cosine', 'dice', 'euclidean', 'hamming', 'jaccard', 'jensenshannon', 'kulsinski', 'matching', 'minkowski', 'rogerstanimoto', 'russellrao', 'seuclidean', 'sokalmichener', 'sokalsneath', 'sqeuclidean', 'yule')"
   ]
  },
  {
   "cell_type": "code",
   "execution_count": 17,
   "id": "f6f358dd",
   "metadata": {
    "ExecuteTime": {
     "end_time": "2022-09-29T20:54:36.335038Z",
     "start_time": "2022-09-29T20:54:36.091288Z"
    },
    "execution": {
     "iopub.execute_input": "2024-03-05T22:03:51.061269Z",
     "iopub.status.busy": "2024-03-05T22:03:51.060974Z",
     "iopub.status.idle": "2024-03-05T22:03:51.386849Z",
     "shell.execute_reply": "2024-03-05T22:03:51.386441Z"
    },
    "papermill": {
     "duration": 0.332118,
     "end_time": "2024-03-05T22:03:51.387793",
     "exception": false,
     "start_time": "2024-03-05T22:03:51.055675",
     "status": "completed"
    },
    "tags": []
   },
   "outputs": [
    {
     "name": "stdout",
     "output_type": "stream",
     "text": [
      "Calculating beta diversity: euclidean\n"
     ]
    },
    {
     "name": "stdout",
     "output_type": "stream",
     "text": [
      "DONE: Calculating beta diversity: euclidean\n",
      "Calculating beta diversity: dice\n"
     ]
    },
    {
     "name": "stdout",
     "output_type": "stream",
     "text": [
      "DONE: Calculating beta diversity: dice\n",
      "Calculating beta diversity: braycurtis\n",
      "DONE: Calculating beta diversity: braycurtis\n",
      "Calculating beta diversity: correlation\n",
      "ERROR: Calculating beta diversity: correlation\n",
      "Calculating beta diversity: cosine\n"
     ]
    },
    {
     "name": "stdout",
     "output_type": "stream",
     "text": [
      "ERROR: Calculating beta diversity: cosine\n",
      "Calculating beta diversity: matching\n",
      "DONE: Calculating beta diversity: matching\n",
      "Calculating beta diversity: jaccard\n"
     ]
    },
    {
     "name": "stderr",
     "output_type": "stream",
     "text": [
      "/home/lauro/anaconda3/envs/qiime2-2023.5/lib/python3.8/site-packages/sklearn/metrics/pairwise.py:1761: DataConversionWarning: Data was converted to boolean for metric dice\n",
      "  warnings.warn(msg, DataConversionWarning)\n",
      "/home/lauro/anaconda3/envs/qiime2-2023.5/lib/python3.8/site-packages/sklearn/metrics/pairwise.py:1761: DataConversionWarning: Data was converted to boolean for metric matching\n",
      "  warnings.warn(msg, DataConversionWarning)\n",
      "/home/lauro/anaconda3/envs/qiime2-2023.5/lib/python3.8/site-packages/sklearn/metrics/pairwise.py:1761: DataConversionWarning: Data was converted to boolean for metric jaccard\n",
      "  warnings.warn(msg, DataConversionWarning)\n"
     ]
    },
    {
     "name": "stdout",
     "output_type": "stream",
     "text": [
      "DONE: Calculating beta diversity: jaccard\n"
     ]
    }
   ],
   "source": [
    "metrics = ('aitchison', 'braycurtis', 'canberra', 'canberra_adkins', 'chebyshev', 'cityblock', 'correlation', 'cosine', 'dice', 'euclidean', 'hamming', 'jaccard', 'jensenshannon', 'kulsinski', 'matching', 'minkowski', 'rogerstanimoto', 'russellrao', 'seuclidean', 'sokalmichener', 'sokalsneath', 'sqeuclidean', 'yule')\n",
    "metrics = ('euclidean', 'dice', 'braycurtis', 'correlation', 'cosine', 'matching', 'jaccard')\n",
    "beta_diversities = dict()\n",
    "for metric in metrics:\n",
    "    print(f\"Calculating beta diversity: {metric}\")\n",
    "    try:\n",
    "        beta_diversity = beta(table=tabs, metric=metric, n_jobs=6, pseudocount=1).distance_matrix\n",
    "        beta_diversities[metric] = beta_diversity\n",
    "        # Save SampleData[BetaDiversity] Artifact\n",
    "        file_path = os.path.join(beta_path, f'beta-values-{metric}.qza')\n",
    "        beta_diversity.save(file_path)\n",
    "        print(f\"DONE: Calculating beta diversity: {metric}\")\n",
    "    except Exception as e:\n",
    "        print(f\"ERROR: Calculating beta diversity: {metric}\")"
   ]
  },
  {
   "cell_type": "markdown",
   "id": "200a2fa7",
   "metadata": {
    "papermill": {
     "duration": 0.005085,
     "end_time": "2024-03-05T22:03:51.398328",
     "exception": false,
     "start_time": "2024-03-05T22:03:51.393243",
     "status": "completed"
    },
    "tags": []
   },
   "source": [
    "### Beta group significance\n",
    "\n",
    "- [diversity beta_group_significance](https://docs.qiime2.org/2022.8/plugins/available/diversity/beta-group-significance/): Determine whether groups of samples are significantly different from one another using a permutation-based statistical test.\n",
    "- Marti J Anderson. A new method for non-parametric multivariate analysis of variance. Austral ecology, 26(1):32–46, 2001. doi:https://doi.org/10.1111/j.1442-9993.2001.01070.pp.x."
   ]
  },
  {
   "cell_type": "code",
   "execution_count": 18,
   "id": "b8dd42b6",
   "metadata": {
    "ExecuteTime": {
     "end_time": "2022-09-29T20:55:08.313860Z",
     "start_time": "2022-09-29T20:54:36.336993Z"
    },
    "execution": {
     "iopub.execute_input": "2024-03-05T22:03:51.409090Z",
     "iopub.status.busy": "2024-03-05T22:03:51.408951Z",
     "iopub.status.idle": "2024-03-05T22:04:09.480058Z",
     "shell.execute_reply": "2024-03-05T22:04:09.479656Z"
    },
    "papermill": {
     "duration": 18.077616,
     "end_time": "2024-03-05T22:04:09.481001",
     "exception": false,
     "start_time": "2024-03-05T22:03:51.403385",
     "status": "completed"
    },
    "tags": []
   },
   "outputs": [
    {
     "name": "stdout",
     "output_type": "stream",
     "text": [
      "Calculating beta group significance with method permanova and metric euclidean\n"
     ]
    },
    {
     "name": "stdout",
     "output_type": "stream",
     "text": [
      "DONE: Calculating beta group significance: permanova euclidean\n",
      "Calculating beta group significance with method permanova and metric dice\n"
     ]
    },
    {
     "name": "stdout",
     "output_type": "stream",
     "text": [
      "DONE: Calculating beta group significance: permanova dice\n",
      "Calculating beta group significance with method permanova and metric braycurtis\n"
     ]
    },
    {
     "name": "stdout",
     "output_type": "stream",
     "text": [
      "DONE: Calculating beta group significance: permanova braycurtis\n",
      "Calculating beta group significance with method permanova and metric matching\n"
     ]
    },
    {
     "name": "stdout",
     "output_type": "stream",
     "text": [
      "DONE: Calculating beta group significance: permanova matching\n",
      "Calculating beta group significance with method permanova and metric jaccard\n"
     ]
    },
    {
     "name": "stdout",
     "output_type": "stream",
     "text": [
      "DONE: Calculating beta group significance: permanova jaccard\n",
      "Calculating beta group significance with method anosim and metric euclidean\n"
     ]
    },
    {
     "name": "stdout",
     "output_type": "stream",
     "text": [
      "DONE: Calculating beta group significance: anosim euclidean\n",
      "Calculating beta group significance with method anosim and metric dice\n"
     ]
    },
    {
     "name": "stdout",
     "output_type": "stream",
     "text": [
      "DONE: Calculating beta group significance: anosim dice\n",
      "Calculating beta group significance with method anosim and metric braycurtis\n"
     ]
    },
    {
     "name": "stdout",
     "output_type": "stream",
     "text": [
      "DONE: Calculating beta group significance: anosim braycurtis\n",
      "Calculating beta group significance with method anosim and metric matching\n"
     ]
    },
    {
     "name": "stdout",
     "output_type": "stream",
     "text": [
      "DONE: Calculating beta group significance: anosim matching\n",
      "Calculating beta group significance with method anosim and metric jaccard\n"
     ]
    },
    {
     "name": "stdout",
     "output_type": "stream",
     "text": [
      "DONE: Calculating beta group significance: anosim jaccard\n",
      "Calculating beta group significance with method permdisp and metric euclidean\n"
     ]
    },
    {
     "name": "stderr",
     "output_type": "stream",
     "text": [
      "/home/lauro/anaconda3/envs/qiime2-2023.5/lib/python3.8/site-packages/skbio/stats/ordination/_principal_coordinate_analysis.py:143: RuntimeWarning: The result contains negative eigenvalues. Please compare their magnitude with the magnitude of some of the largest positive eigenvalues. If the negative ones are smaller, it's probably safe to ignore them, but if they are large in magnitude, the results won't be useful. See the Notes section for more details. The smallest eigenvalue is -1.890571881062781e-07 and the largest is 15596184927.325165.\n",
      "  warn(\n"
     ]
    },
    {
     "name": "stderr",
     "output_type": "stream",
     "text": [
      "/home/lauro/anaconda3/envs/qiime2-2023.5/lib/python3.8/site-packages/skbio/stats/ordination/_principal_coordinate_analysis.py:143: RuntimeWarning: The result contains negative eigenvalues. Please compare their magnitude with the magnitude of some of the largest positive eigenvalues. If the negative ones are smaller, it's probably safe to ignore them, but if they are large in magnitude, the results won't be useful. See the Notes section for more details. The smallest eigenvalue is -1.890571881062781e-07 and the largest is 15596184927.325165.\n",
      "  warn(\n"
     ]
    },
    {
     "name": "stdout",
     "output_type": "stream",
     "text": [
      "DONE: Calculating beta group significance: permdisp euclidean\n",
      "Calculating beta group significance with method permdisp and metric dice\n"
     ]
    },
    {
     "name": "stdout",
     "output_type": "stream",
     "text": [
      "DONE: Calculating beta group significance: permdisp dice\n",
      "Calculating beta group significance with method permdisp and metric braycurtis\n"
     ]
    },
    {
     "name": "stdout",
     "output_type": "stream",
     "text": [
      "DONE: Calculating beta group significance: permdisp braycurtis\n",
      "Calculating beta group significance with method permdisp and metric matching\n"
     ]
    },
    {
     "name": "stdout",
     "output_type": "stream",
     "text": [
      "DONE: Calculating beta group significance: permdisp matching\n",
      "Calculating beta group significance with method permdisp and metric jaccard\n"
     ]
    },
    {
     "name": "stdout",
     "output_type": "stream",
     "text": [
      "DONE: Calculating beta group significance: permdisp jaccard\n"
     ]
    },
    {
     "data": {
      "text/plain": [
       "<Figure size 640x480 with 0 Axes>"
      ]
     },
     "metadata": {},
     "output_type": "display_data"
    }
   ],
   "source": [
    "methods = ('permanova', 'anosim', 'permdisp')\n",
    "for method in methods:\n",
    "    for metric, beta_diversity in beta_diversities.items():\n",
    "        print(f'Calculating beta group significance with method {method} and metric {metric}')\n",
    "        try:\n",
    "            beta_view = beta_group_significance(distance_matrix=beta_diversity, \n",
    "                                                metadata=metadata_qa.get_column(class_col), \n",
    "                                                pairwise=True, method=method).visualization\n",
    "            view_name = os.path.join(beta_path, f'beta-group-significance-{metric}-{method}.qzv')\n",
    "            beta_view.save(view_name)\n",
    "            print(f\"DONE: Calculating beta group significance: {method} {metric}\")\n",
    "        except Exception as e:\n",
    "            print(f\"ERROR: Calculating beta group significance: {method} {metric}\")"
   ]
  },
  {
   "cell_type": "code",
   "execution_count": 19,
   "id": "6366725e",
   "metadata": {
    "execution": {
     "iopub.execute_input": "2024-03-05T22:04:09.492922Z",
     "iopub.status.busy": "2024-03-05T22:04:09.492788Z",
     "iopub.status.idle": "2024-03-05T22:04:23.566141Z",
     "shell.execute_reply": "2024-03-05T22:04:23.565755Z"
    },
    "papermill": {
     "duration": 14.080288,
     "end_time": "2024-03-05T22:04:23.567087",
     "exception": false,
     "start_time": "2024-03-05T22:04:09.486799",
     "status": "completed"
    },
    "tags": []
   },
   "outputs": [
    {
     "name": "stdout",
     "output_type": "stream",
     "text": [
      "Calculating beta group significance with method permanova and metric unweighted_unifrac_distance_matrix\n"
     ]
    },
    {
     "name": "stdout",
     "output_type": "stream",
     "text": [
      "DONE: Calculating beta group significance: permanova unweighted_unifrac_distance_matrix\n",
      "Calculating beta group significance with method permanova and metric weighted_unifrac_distance_matrix\n"
     ]
    },
    {
     "name": "stdout",
     "output_type": "stream",
     "text": [
      "DONE: Calculating beta group significance: permanova weighted_unifrac_distance_matrix\n",
      "Calculating beta group significance with method permanova and metric jaccard_distance_matrix\n"
     ]
    },
    {
     "name": "stdout",
     "output_type": "stream",
     "text": [
      "DONE: Calculating beta group significance: permanova jaccard_distance_matrix\n",
      "Calculating beta group significance with method permanova and metric bray_curtis_distance_matrix\n"
     ]
    },
    {
     "name": "stdout",
     "output_type": "stream",
     "text": [
      "DONE: Calculating beta group significance: permanova bray_curtis_distance_matrix\n",
      "Calculating beta group significance with method anosim and metric unweighted_unifrac_distance_matrix\n"
     ]
    },
    {
     "name": "stdout",
     "output_type": "stream",
     "text": [
      "DONE: Calculating beta group significance: anosim unweighted_unifrac_distance_matrix\n",
      "Calculating beta group significance with method anosim and metric weighted_unifrac_distance_matrix\n"
     ]
    },
    {
     "name": "stdout",
     "output_type": "stream",
     "text": [
      "DONE: Calculating beta group significance: anosim weighted_unifrac_distance_matrix\n",
      "Calculating beta group significance with method anosim and metric jaccard_distance_matrix\n"
     ]
    },
    {
     "name": "stdout",
     "output_type": "stream",
     "text": [
      "DONE: Calculating beta group significance: anosim jaccard_distance_matrix\n",
      "Calculating beta group significance with method anosim and metric bray_curtis_distance_matrix\n"
     ]
    },
    {
     "name": "stdout",
     "output_type": "stream",
     "text": [
      "DONE: Calculating beta group significance: anosim bray_curtis_distance_matrix\n",
      "Calculating beta group significance with method permdisp and metric unweighted_unifrac_distance_matrix\n"
     ]
    },
    {
     "name": "stdout",
     "output_type": "stream",
     "text": [
      "DONE: Calculating beta group significance: permdisp unweighted_unifrac_distance_matrix\n",
      "Calculating beta group significance with method permdisp and metric weighted_unifrac_distance_matrix\n"
     ]
    },
    {
     "name": "stderr",
     "output_type": "stream",
     "text": [
      "/home/lauro/anaconda3/envs/qiime2-2023.5/lib/python3.8/site-packages/skbio/stats/ordination/_principal_coordinate_analysis.py:143: RuntimeWarning: The result contains negative eigenvalues. Please compare their magnitude with the magnitude of some of the largest positive eigenvalues. If the negative ones are smaller, it's probably safe to ignore them, but if they are large in magnitude, the results won't be useful. See the Notes section for more details. The smallest eigenvalue is -0.0024938119560903795 and the largest is 0.426690509904439.\n",
      "  warn(\n"
     ]
    },
    {
     "name": "stderr",
     "output_type": "stream",
     "text": [
      "/home/lauro/anaconda3/envs/qiime2-2023.5/lib/python3.8/site-packages/skbio/stats/ordination/_principal_coordinate_analysis.py:143: RuntimeWarning: The result contains negative eigenvalues. Please compare their magnitude with the magnitude of some of the largest positive eigenvalues. If the negative ones are smaller, it's probably safe to ignore them, but if they are large in magnitude, the results won't be useful. See the Notes section for more details. The smallest eigenvalue is -0.0024938119560903795 and the largest is 0.426690509904439.\n",
      "  warn(\n"
     ]
    },
    {
     "name": "stdout",
     "output_type": "stream",
     "text": [
      "DONE: Calculating beta group significance: permdisp weighted_unifrac_distance_matrix\n",
      "Calculating beta group significance with method permdisp and metric jaccard_distance_matrix\n"
     ]
    },
    {
     "name": "stdout",
     "output_type": "stream",
     "text": [
      "DONE: Calculating beta group significance: permdisp jaccard_distance_matrix\n",
      "Calculating beta group significance with method permdisp and metric bray_curtis_distance_matrix\n"
     ]
    },
    {
     "name": "stdout",
     "output_type": "stream",
     "text": [
      "DONE: Calculating beta group significance: permdisp bray_curtis_distance_matrix\n"
     ]
    },
    {
     "data": {
      "text/plain": [
       "<Figure size 640x480 with 0 Axes>"
      ]
     },
     "metadata": {},
     "output_type": "display_data"
    }
   ],
   "source": [
    "# Expand tests using UNIFRAC metrics\n",
    "methods = ('permanova', 'anosim', 'permdisp')\n",
    "for method in methods:\n",
    "    for metric, beta_diversity in distance_matrix.items():\n",
    "        print(f'Calculating beta group significance with method {method} and metric {metric}')\n",
    "        try:\n",
    "            beta_view = beta_group_significance(distance_matrix=beta_diversity, \n",
    "                                                metadata=metadata_qa.get_column(class_col), \n",
    "                                                pairwise=True, method=method).visualization\n",
    "            view_name = os.path.join(beta_path, f'beta-group-significance-{metric}-{method}.qzv')\n",
    "            beta_view.save(view_name)\n",
    "            print(f\"DONE: Calculating beta group significance: {method} {metric}\")\n",
    "        except Exception as e:\n",
    "            print(f\"ERROR: Calculating beta group significance: {method} {metric}\")"
   ]
  },
  {
   "cell_type": "markdown",
   "id": "c0de85cf",
   "metadata": {
    "papermill": {
     "duration": 0.006019,
     "end_time": "2024-03-05T22:04:23.579354",
     "exception": false,
     "start_time": "2024-03-05T22:04:23.573335",
     "status": "completed"
    },
    "tags": []
   },
   "source": [
    "### Beta group Rarefaction\n",
    "\n",
    "- [diversity beta_rarefaction](https://docs.qiime2.org/2022.8/plugins/available/diversity/beta-rarefaction/): Repeatedly rarefy a feature table to compare beta diversity results within a given rarefaction depth.  For a given beta diversity metric, this visualizer will provide: an Emperor jackknifed PCoA plot, samples clustered by UPGMA or neighbor joining with support calculation, and a heatmap showing the correlation between rarefaction trials of that beta diversity metric."
   ]
  }
 ],
 "metadata": {
  "celltoolbar": "Edit Metadata",
  "kernelspec": {
   "display_name": "Python 3 (ipykernel)",
   "language": "python",
   "name": "python3"
  },
  "language_info": {
   "codemirror_mode": {
    "name": "ipython",
    "version": 3
   },
   "file_extension": ".py",
   "mimetype": "text/x-python",
   "name": "python",
   "nbconvert_exporter": "python",
   "pygments_lexer": "ipython3",
   "version": "3.8.16"
  },
  "papermill": {
   "default_parameters": {},
   "duration": 52.14824,
   "end_time": "2024-03-05T22:04:24.403539",
   "environment_variables": {},
   "exception": null,
   "input_path": "nb-templates/step-diversity-analysis.ipynb",
   "output_path": "/mnt/nupeb/rede-micro/redemicro-ana-flavia-nutri/experiments/ana-flavia-NCxSTD-NC-trim/nb-executed-steps/step-diversity-analysis-ana-flavia-NCxSTD-NC-trim.ipynb",
   "parameters": {
    "base_dir": "/mnt/nupeb/rede-micro/redemicro-ana-flavia-nutri",
    "class_col": "group-id",
    "classifier_file": "/mnt/nupeb/rede-micro/datasets/16S_classifiers_qiime2/silva-138-99-nb-classifier.qza",
    "experiment_name": "ana-flavia-NCxSTD-NC-trim",
    "manifest_file": "/mnt/nupeb/rede-micro/redemicro-ana-flavia-nutri/data/raw/manifest/manifest-ana-flavia-NCxSTD-NC.csv",
    "metadata_file": "/mnt/nupeb/rede-micro/redemicro-ana-flavia-nutri/data/raw/metadata/metadata-ana-flavia-NCxSTD-NC.tsv",
    "overlap": 12,
    "phred": 20,
    "replace_files": false,
    "threads": 6,
    "top_n": 20,
    "trim": {
     "forward_primer": "CCTACGGGRSGCAGCAG",
     "overlap": 8,
     "reverse_primer": "GGACTACHVGGGTWTCTAAT"
    },
    "trunc_f": 0,
    "trunc_r": 0
   },
   "start_time": "2024-03-05T22:03:32.255299",
   "version": "2.4.0"
  }
 },
 "nbformat": 4,
 "nbformat_minor": 5
}