{
 "cells": [
  {
   "cell_type": "markdown",
   "id": "0e7f2330",
   "metadata": {
    "ExecuteTime": {
     "end_time": "2022-09-22T19:36:33.828188Z",
     "start_time": "2022-09-22T19:36:33.817323Z"
    },
    "papermill": {
     "duration": 0.062332,
     "end_time": "2023-05-29T13:04:05.168130",
     "exception": false,
     "start_time": "2023-05-29T13:04:05.105798",
     "status": "completed"
    },
    "tags": []
   },
   "source": [
    "### STEP : PICRUST2 Analysis\n",
    "\n",
    "\n",
    "\n",
    "#### Example\n",
    "\n",
    "- [PICRUST2 tutorial](https://github.com/picrust/picrust2/wiki/q2-picrust2-Tutorial)\n",
    "- [Limitations](https://github.com/picrust/picrust2/wiki/Key-Limitations)\n",
    "\n",
    "\n",
    "#### Methods\n",
    "- [composition](https://docs.qiime2.org/2022.8/plugins/available/composition/)"
   ]
  },
  {
   "cell_type": "markdown",
   "id": "843debbf",
   "metadata": {
    "papermill": {
     "duration": 0.045265,
     "end_time": "2023-05-29T13:04:05.270727",
     "exception": false,
     "start_time": "2023-05-29T13:04:05.225462",
     "status": "completed"
    },
    "tags": []
   },
   "source": [
    "## Setup and settings"
   ]
  },
  {
   "cell_type": "code",
   "execution_count": 1,
   "id": "965e28e5",
   "metadata": {
    "ExecuteTime": {
     "end_time": "2022-11-09T19:20:47.478806Z",
     "start_time": "2022-11-09T19:20:40.457657Z"
    },
    "execution": {
     "iopub.execute_input": "2023-05-29T13:04:05.374163Z",
     "iopub.status.busy": "2023-05-29T13:04:05.373434Z",
     "iopub.status.idle": "2023-05-29T13:04:24.332789Z",
     "shell.execute_reply": "2023-05-29T13:04:24.333328Z"
    },
    "papermill": {
     "duration": 19.00935,
     "end_time": "2023-05-29T13:04:24.333567",
     "exception": false,
     "start_time": "2023-05-29T13:04:05.324217",
     "status": "completed"
    },
    "tags": []
   },
   "outputs": [],
   "source": [
    "# Importing packages\n",
    "import os\n",
    "import biom\n",
    "import pandas as pd\n",
    "from qiime2 import Artifact\n",
    "from qiime2 import Visualization\n",
    "from qiime2 import Metadata\n",
    "\n",
    "from qiime2.plugins.feature_table.visualizers import summarize\n",
    "\n",
    "from picrust2.pipeline import full_pipeline\n",
    "from picrust2.default import (default_ref_dir, default_tables, default_regroup_map, default_pathway_map)\n",
    "from qiime2.plugins import picrust2\n",
    "\n",
    "%matplotlib inline"
   ]
  },
  {
   "cell_type": "markdown",
   "id": "530ceb60",
   "metadata": {
    "papermill": {
     "duration": 0.053021,
     "end_time": "2023-05-29T13:04:24.431977",
     "exception": false,
     "start_time": "2023-05-29T13:04:24.378956",
     "status": "completed"
    },
    "tags": []
   },
   "source": [
    "### Receiving the parameters\n",
    "\n",
    "The following cell can receive parameters using the [papermill](https://papermill.readthedocs.io/en/latest/) tool."
   ]
  },
  {
   "cell_type": "code",
   "execution_count": 2,
   "id": "18d874ea",
   "metadata": {
    "ExecuteTime": {
     "end_time": "2022-11-09T19:20:47.483140Z",
     "start_time": "2022-11-09T19:20:47.480386Z"
    },
    "execution": {
     "iopub.execute_input": "2023-05-29T13:04:24.535447Z",
     "iopub.status.busy": "2023-05-29T13:04:24.534617Z",
     "iopub.status.idle": "2023-05-29T13:04:24.536502Z",
     "shell.execute_reply": "2023-05-29T13:04:24.536908Z"
    },
    "papermill": {
     "duration": 0.051853,
     "end_time": "2023-05-29T13:04:24.537051",
     "exception": false,
     "start_time": "2023-05-29T13:04:24.485198",
     "status": "completed"
    },
    "tags": [
     "parameters"
    ]
   },
   "outputs": [],
   "source": [
    "metadata_file = '/home/lauro/nupeb/rede-micro/redemicro-miliane-nutri/data/raw/metadata/miliane-metadata-CxAC.tsv'\n",
    "base_dir = os.path.join('/', 'home', 'lauro', 'nupeb', 'rede-micro', 'redemicro-miliane-nutri')\n",
    "experiment_name = 'miliane-CxAC-trim'\n",
    "class_col = 'group-id'\n",
    "replace_files = False"
   ]
  },
  {
   "cell_type": "code",
   "execution_count": 3,
   "id": "23627204",
   "metadata": {
    "execution": {
     "iopub.execute_input": "2023-05-29T13:04:24.599950Z",
     "iopub.status.busy": "2023-05-29T13:04:24.599207Z",
     "iopub.status.idle": "2023-05-29T13:04:24.601103Z",
     "shell.execute_reply": "2023-05-29T13:04:24.601468Z"
    },
    "papermill": {
     "duration": 0.034817,
     "end_time": "2023-05-29T13:04:24.601596",
     "exception": false,
     "start_time": "2023-05-29T13:04:24.566779",
     "status": "completed"
    },
    "tags": [
     "injected-parameters"
    ]
   },
   "outputs": [],
   "source": [
    "# Parameters\n",
    "experiment_name = \"ana-flavia-NCxSTD-NC-trim\"\n",
    "base_dir = \"/home/lauro/nupeb/rede-micro/redemicro-ana-flavia-nutri\"\n",
    "manifest_file = \"/home/lauro/nupeb/rede-micro/redemicro-ana-flavia-nutri/data/raw/manifest/manifest-ana-flavia-NCxSTD-NC.csv\"\n",
    "metadata_file = \"/home/lauro/nupeb/rede-micro/redemicro-ana-flavia-nutri/data/raw/metadata/metadata-ana-flavia-NCxSTD-NC.tsv\"\n",
    "class_col = \"group-id\"\n",
    "classifier_file = \"/home/lauro/nupeb/rede-micro/models/silva-138-99-nb-classifier.qza\"\n",
    "replace_files = False\n",
    "phred = 20\n",
    "trunc_f = 0\n",
    "trunc_r = 0\n",
    "overlap = 12\n",
    "threads = 6\n",
    "trim = {\n",
    "    \"overlap\": 8,\n",
    "    \"forward_primer\": \"CCTACGGGRSGCAGCAG\",\n",
    "    \"reverse_primer\": \"GGACTACHVGGGTWTCTAAT\",\n",
    "}\n"
   ]
  },
  {
   "cell_type": "code",
   "execution_count": 4,
   "id": "f38617d9",
   "metadata": {
    "ExecuteTime": {
     "end_time": "2022-11-09T19:20:47.515942Z",
     "start_time": "2022-11-09T19:20:47.498345Z"
    },
    "execution": {
     "iopub.execute_input": "2023-05-29T13:04:24.664069Z",
     "iopub.status.busy": "2023-05-29T13:04:24.663349Z",
     "iopub.status.idle": "2023-05-29T13:04:24.665260Z",
     "shell.execute_reply": "2023-05-29T13:04:24.665625Z"
    },
    "papermill": {
     "duration": 0.034068,
     "end_time": "2023-05-29T13:04:24.665755",
     "exception": false,
     "start_time": "2023-05-29T13:04:24.631687",
     "status": "completed"
    },
    "tags": []
   },
   "outputs": [],
   "source": [
    "experiment_folder = os.path.abspath(os.path.join(base_dir, 'experiments', experiment_name))\n",
    "img_folder = os.path.abspath(os.path.join(experiment_folder, 'imgs'))"
   ]
  },
  {
   "cell_type": "markdown",
   "id": "ea9b90fb",
   "metadata": {
    "papermill": {
     "duration": 0.028649,
     "end_time": "2023-05-29T13:04:24.724363",
     "exception": false,
     "start_time": "2023-05-29T13:04:24.695714",
     "status": "completed"
    },
    "tags": []
   },
   "source": [
    "### Defining names, paths and flags"
   ]
  },
  {
   "cell_type": "code",
   "execution_count": 5,
   "id": "45727eef",
   "metadata": {
    "ExecuteTime": {
     "end_time": "2022-11-09T19:20:47.527937Z",
     "start_time": "2022-11-09T19:20:47.517696Z"
    },
    "execution": {
     "iopub.execute_input": "2023-05-29T13:04:24.786591Z",
     "iopub.status.busy": "2023-05-29T13:04:24.785803Z",
     "iopub.status.idle": "2023-05-29T13:04:24.788970Z",
     "shell.execute_reply": "2023-05-29T13:04:24.789357Z"
    },
    "papermill": {
     "duration": 0.036473,
     "end_time": "2023-05-29T13:04:24.789488",
     "exception": false,
     "start_time": "2023-05-29T13:04:24.753015",
     "status": "completed"
    },
    "tags": []
   },
   "outputs": [
    {
     "name": "stdout",
     "output_type": "stream",
     "text": [
      "New picrust2-artifacts folder path created: /home/lauro/nupeb/rede-micro/redemicro-ana-flavia-nutri/experiments/ana-flavia-NCxSTD-NC-trim/picrust2\n"
     ]
    }
   ],
   "source": [
    "# QIIME2 Artifacts folder\n",
    "qiime_folder = os.path.join(experiment_folder, 'qiime-artifacts')\n",
    "\n",
    "# Input - DADA2 Artifacts\n",
    "dada2_tabs_path = os.path.join(qiime_folder, 'dada2-tabs.qza')\n",
    "dada2_reqs_path = os.path.join(qiime_folder, 'dada2-reps.qza')\n",
    "\n",
    "# PICRUST@ folder\n",
    "picrust2_folder = os.path.abspath(os.path.join(experiment_folder, 'picrust2'))\n",
    "\n",
    "# Create path if it not exist\n",
    "if not os.path.isdir(picrust2_folder):\n",
    "    os.makedirs(picrust2_folder)\n",
    "    print(f'New picrust2-artifacts folder path created: {picrust2_folder}')"
   ]
  },
  {
   "cell_type": "code",
   "execution_count": 6,
   "id": "4903e645",
   "metadata": {
    "ExecuteTime": {
     "end_time": "2022-11-09T19:20:47.539993Z",
     "start_time": "2022-11-09T19:20:47.529653Z"
    },
    "execution": {
     "iopub.execute_input": "2023-05-29T13:04:24.854533Z",
     "iopub.status.busy": "2023-05-29T13:04:24.853845Z",
     "iopub.status.idle": "2023-05-29T13:04:24.855846Z",
     "shell.execute_reply": "2023-05-29T13:04:24.856278Z"
    },
    "papermill": {
     "duration": 0.036929,
     "end_time": "2023-05-29T13:04:24.856413",
     "exception": false,
     "start_time": "2023-05-29T13:04:24.819484",
     "status": "completed"
    },
    "tags": []
   },
   "outputs": [],
   "source": [
    "# Define paths for metagenome function artifacts\n",
    "ec_path = os.path.join(picrust2_folder, 'ec-pred-metagen.qza')\n",
    "ko_path = os.path.join(picrust2_folder, 'ko-pred-metagen.qza')\n",
    "pathway_path = os.path.join(picrust2_folder, 'pathway-abundance.qza')\n",
    "\n",
    "# Define paths for metagenome function visualization artifacts\n",
    "ec_viz_path = ec_path[:-1]+'v'\n",
    "ko_viz_path = ko_path[:-1]+'v'\n",
    "pathway_viz_path = pathway_path[:-1]+'v'\n",
    "\n",
    "# Define paths for biom -> tsv files (function X sample)\n",
    "pathway_fpath = os.path.join(picrust2_folder, 'pathway.tsv')\n",
    "ec_fpath = os.path.join(picrust2_folder, 'ec.tsv')\n",
    "ko_fpath = os.path.join(picrust2_folder, 'ko.tsv')\n",
    "\n",
    "# Define paths for biom -> tsv files (function X sample) - with descriptions\n",
    "pathway_desc_fpath = os.path.join(picrust2_folder, 'pathway-desc.tsv')\n",
    "ec_desc_fpath = os.path.join(picrust2_folder, 'ec-desc.tsv')\n",
    "ko_desc_fpath = os.path.join(picrust2_folder, 'ko-desc.tsv')"
   ]
  },
  {
   "cell_type": "markdown",
   "id": "0999a1b2",
   "metadata": {
    "papermill": {
     "duration": 0.029058,
     "end_time": "2023-05-29T13:04:24.915972",
     "exception": false,
     "start_time": "2023-05-29T13:04:24.886914",
     "status": "completed"
    },
    "tags": []
   },
   "source": [
    "## Step execution\n",
    "\n",
    "### Load input files\n",
    "\n",
    "This Step import the QIIME2 `FeatureTable[Frequency]` Artifact and the `Metadata` file."
   ]
  },
  {
   "cell_type": "code",
   "execution_count": 7,
   "id": "8f299d1a",
   "metadata": {
    "ExecuteTime": {
     "end_time": "2022-11-09T19:20:47.610793Z",
     "start_time": "2022-11-09T19:20:47.541540Z"
    },
    "execution": {
     "iopub.execute_input": "2023-05-29T13:04:24.978999Z",
     "iopub.status.busy": "2023-05-29T13:04:24.978226Z",
     "iopub.status.idle": "2023-05-29T13:04:25.043139Z",
     "shell.execute_reply": "2023-05-29T13:04:25.043566Z"
    },
    "papermill": {
     "duration": 0.098113,
     "end_time": "2023-05-29T13:04:25.043751",
     "exception": false,
     "start_time": "2023-05-29T13:04:24.945638",
     "status": "completed"
    },
    "tags": []
   },
   "outputs": [],
   "source": [
    "#Load Metadata\n",
    "metadata_qa = Metadata.load(metadata_file)\n",
    "\n",
    "#Load FeatureTable[Frequency]\n",
    "tabs = Artifact.load(dada2_tabs_path)\n",
    "\n",
    "#Load FeatureTable[Sequence]\n",
    "seqs = Artifact.load(dada2_reqs_path)"
   ]
  },
  {
   "cell_type": "markdown",
   "id": "4f1b06d4",
   "metadata": {
    "papermill": {
     "duration": 0.044926,
     "end_time": "2023-05-29T13:04:25.143420",
     "exception": false,
     "start_time": "2023-05-29T13:04:25.098494",
     "status": "completed"
    },
    "tags": []
   },
   "source": [
    "### Execute full pipelie\n",
    "\n",
    "The entire PICRUSt2 pipeline will be run using a single method, called `picrust2.methods.full_pipeline`. This method will run each of the 4 key steps: \n",
    "\n",
    "1. sequence placement\n",
    "2. hidden-state prediction of genomes\n",
    "3. metagenome prediction\n",
    "4. pathway-level predictions.\n",
    "\n",
    "More information on [Documentation](https://github.com/picrust/picrust2/wiki/Full-pipeline-script)."
   ]
  },
  {
   "cell_type": "code",
   "execution_count": 8,
   "id": "2c4f3874",
   "metadata": {
    "ExecuteTime": {
     "end_time": "2022-11-09T19:20:47.642417Z",
     "start_time": "2022-11-09T19:20:47.612547Z"
    },
    "execution": {
     "iopub.execute_input": "2023-05-29T13:04:25.259231Z",
     "iopub.status.busy": "2023-05-29T13:04:25.258493Z",
     "iopub.status.idle": "2023-05-29T13:14:27.601587Z",
     "shell.execute_reply": "2023-05-29T13:14:27.601005Z"
    },
    "papermill": {
     "duration": 602.403908,
     "end_time": "2023-05-29T13:14:27.601736",
     "exception": false,
     "start_time": "2023-05-29T13:04:25.197828",
     "status": "completed"
    },
    "scrolled": true,
    "tags": []
   },
   "outputs": [
    {
     "name": "stderr",
     "output_type": "stream",
     "text": [
      "1082 of 1082 sequence ids overlap between input table and FASTA.\n",
      "\n",
      "Placing sequences onto reference tree\n",
      "place_seqs.py --study_fasta /tmp/tmp31zs9tne/seqs.fna --ref_dir /home/lauro/anaconda3/envs/qiime2-2021.11/lib/python3.8/site-packages/picrust2/default_files/prokaryotic/pro_ref --out_tree /tmp/tmp31zs9tne/picrust2_out/out.tre --processes 6 --intermediate /tmp/tmp31zs9tne/picrust2_out/intermediate/place_seqs --min_align 0.8 --chunk_size 5000 --placement_tool sepp --verbose\n"
     ]
    },
    {
     "name": "stdout",
     "output_type": "stream",
     "text": [
      "\n",
      "['run_sepp.py', '--tree', '/home/lauro/anaconda3/envs/qiime2-2021.11/lib/python3.8/site-packages/picrust2/default_files/prokaryotic/pro_ref/pro_ref.tre', '--raxml', '/home/lauro/anaconda3/envs/qiime2-2021.11/lib/python3.8/site-packages/picrust2/default_files/prokaryotic/pro_ref/pro_ref.raxml_info', '--cpu', '6', '--molecule', 'dna', '--outdir', '/tmp/tmp31zs9tne/picrust2_out/intermediate/place_seqs/sepp_out', '-seed', '297834', '--alignment', '/home/lauro/anaconda3/envs/qiime2-2021.11/lib/python3.8/site-packages/picrust2/default_files/prokaryotic/pro_ref/pro_ref.fna', '--fragment', '/tmp/tmp31zs9tne/picrust2_out/intermediate/place_seqs/study_seqs_filtered.fasta']\n",
      "\n",
      "                                              ....      ....  \n",
      "                                             '' '||.   .||'   \n",
      "                                                  ||  ||      \n",
      "                                                  '|.|'       \n",
      "     ...'   ....   ... ...  ... ...   ....        .|'|.       \n",
      "    |  ||  '' .||   ||'  ||  ||'  || '' .||      .|'  ||      \n",
      "     |''   .|' ||   ||    |  ||    | .|' ||     .|'|.  ||     \n",
      "    '....  '|..'|'. ||...'   ||...'  '|..'|.    '||'    ||:.  \n",
      "    '....'          ||       ||                               \n",
      "                   ''''     ''''   v0.6.1 (c) 2017-2020\n",
      "                                   by Lucas Czech and Pierre Barbera\n",
      "\n",
      "Invocation:                        gappa examine graft --jplace-path /tmp/tmp31zs9tne/picrust2_out/intermediate/place_seqs/sepp_out/output_placement.json --fully-resolve --out-dir /tmp/tmp31zs9tne/picrust2_out/intermediate/place_seqs/sepp_out\n",
      "Command:                           gappa examine graft\n",
      "\n",
      "Input:\n",
      "  --jplace-path                    /tmp/tmp31zs9tne/picrust2_out/intermediate/place_seqs/sepp_out/output_placement.json\n",
      "\n",
      "Settings:\n",
      "  --fully-resolve                  true\n",
      "  --name-prefix\n",
      "\n",
      "Output:\n",
      "  --out-dir                        /tmp/tmp31zs9tne/picrust2_out/intermediate/place_seqs/sepp_out\n",
      "  --file-prefix                    \n",
      "  --file-suffix\n",
      "\n",
      "Global Options:\n",
      "  --allow-file-overwriting         false\n",
      "  --verbose                        false\n",
      "  --threads                        4\n",
      "  --log-file\n",
      "\n",
      "Run the following command to get the references that need to be cited:\n",
      "`gappa tools citation Czech2020-genesis-and-gappa`\n",
      "\n",
      "Started 2023-05-29 13:08:52\n",
      "\n",
      "Found 1 jplace file\n",
      "\n",
      "Finished 2023-05-29 13:08:52\n",
      "\n",
      "\n"
     ]
    },
    {
     "name": "stderr",
     "output_type": "stream",
     "text": [
      "hmmalign --trim --dna --mapali /home/lauro/anaconda3/envs/qiime2-2021.11/lib/python3.8/site-packages/picrust2/default_files/prokaryotic/pro_ref/pro_ref.fna --informat FASTA -o /tmp/tmp31zs9tne/picrust2_out/intermediate/place_seqs/query_align.stockholm /home/lauro/anaconda3/envs/qiime2-2021.11/lib/python3.8/site-packages/picrust2/default_files/prokaryotic/pro_ref/pro_ref.hmm /tmp/tmp31zs9tne/seqs.fna\n",
      "\n",
      "Warning - 3 input sequences aligned poorly to reference sequences (--min_align option specified a minimum proportion of 0.8 aligning to reference sequences). These input sequences will not be placed and will be excluded from downstream steps.\n",
      "\n",
      "This is the set of poorly aligned input sequences to be excluded: 0351a9e9c325faa949b54108f611f8fc, 3295734e2436b08a302c83b4ebec6d28, 2f93c747e48e2a77075225b4f420cacc\n",
      "\n",
      "Raw input sequences ranged in length from 271 to 430\n",
      "\n",
      "run_sepp.py --tree /home/lauro/anaconda3/envs/qiime2-2021.11/lib/python3.8/site-packages/picrust2/default_files/prokaryotic/pro_ref/pro_ref.tre --raxml /home/lauro/anaconda3/envs/qiime2-2021.11/lib/python3.8/site-packages/picrust2/default_files/prokaryotic/pro_ref/pro_ref.raxml_info --cpu 6 --molecule dna --outdir /tmp/tmp31zs9tne/picrust2_out/intermediate/place_seqs/sepp_out -seed 297834 --alignment /home/lauro/anaconda3/envs/qiime2-2021.11/lib/python3.8/site-packages/picrust2/default_files/prokaryotic/pro_ref/pro_ref.fna --fragment /tmp/tmp31zs9tne/picrust2_out/intermediate/place_seqs/study_seqs_filtered.fasta\n",
      "[13:05:23] config.py (line 349):     INFO: Seed number: 297834\n",
      "[13:05:23] algorithm.py (line 258):     INFO: Reading input alignment: <_io.TextIOWrapper name='/home/lauro/anaconda3/envs/qiime2-2021.11/lib/python3.8/site-packages/picrust2/default_files/prokaryotic/pro_ref/pro_ref.fna' mode='r' encoding='UTF-8'>\n",
      "[13:05:23] algorithm.py (line 265):     INFO: Reading input tree: <_io.TextIOWrapper name='/home/lauro/anaconda3/envs/qiime2-2021.11/lib/python3.8/site-packages/picrust2/default_files/prokaryotic/pro_ref/pro_ref.tre' mode='r' encoding='UTF-8'>\n",
      "[13:05:24] algorithm.py (line 238):     INFO: Decomposition Sizes are set to alignment: 2000 placement: 2000\n",
      "[13:05:27] exhaustive.py (line 350):     INFO: Breaking into 16 placement subsets.\n",
      "[13:05:29] exhaustive.py (line 397):     INFO: Breaking into 16 alignment subsets.\n",
      "[13:05:29] filemgr.py (line 129):     INFO: Root temp directory built: /tmp/sepp/output._4v3p6ld\n",
      "[13:05:29] exhaustive.py (line 412):     INFO: Breaking each alignment subset into 3 fragment chunks.\n",
      "[13:05:31] jobs.py (line 131):     INFO: Finished hmmbuild Job with input: /tmp/sepp/output._4v3p6ld/root/P_1/A_1_0/hmmbuild.input.yje3myws.fasta\n",
      "[13:05:31] jobs.py (line 131):     INFO: Finished hmmbuild Job with input: /tmp/sepp/output._4v3p6ld/root/P_0/A_0_0/hmmbuild.input.buqthba4.fasta\n",
      "[13:05:31] jobs.py (line 131):     INFO: Finished hmmbuild Job with input: /tmp/sepp/output._4v3p6ld/root/P_4/A_4_0/hmmbuild.input.6m2w6623.fasta\n",
      "[13:05:32] jobs.py (line 131):     INFO: Finished hmmbuild Job with input: /tmp/sepp/output._4v3p6ld/root/P_3/A_3_0/hmmbuild.input.f9xlfocn.fasta\n",
      "[13:05:32] jobs.py (line 131):     INFO: Finished hmmbuild Job with input: /tmp/sepp/output._4v3p6ld/root/P_2/A_2_0/hmmbuild.input.e65blg8j.fasta\n",
      "[13:05:32] jobs.py (line 131):     INFO: Finished hmmbuild Job with input: /tmp/sepp/output._4v3p6ld/root/P_5/A_5_0/hmmbuild.input.5iypddxb.fasta\n",
      "[13:05:32] jobs.py (line 131):     INFO: Finished hmmbuild Job with input: /tmp/sepp/output._4v3p6ld/root/P_6/A_6_0/hmmbuild.input.87c1l9xq.fasta\n",
      "[13:05:33] jobs.py (line 131):     INFO: Finished hmmbuild Job with input: /tmp/sepp/output._4v3p6ld/root/P_7/A_7_0/hmmbuild.input.piyihp8l.fasta\n",
      "[13:05:33] jobs.py (line 131):     INFO: Finished hmmbuild Job with input: /tmp/sepp/output._4v3p6ld/root/P_11/A_11_0/hmmbuild.input.mghdt1g2.fasta\n",
      "[13:05:33] jobs.py (line 131):     INFO: Finished hmmbuild Job with input: /tmp/sepp/output._4v3p6ld/root/P_8/A_8_0/hmmbuild.input.cziwtmi7.fasta\n",
      "[13:05:33] jobs.py (line 131):     INFO: Finished hmmbuild Job with input: /tmp/sepp/output._4v3p6ld/root/P_9/A_9_0/hmmbuild.input.yybgh927.fasta\n",
      "[13:05:33] jobs.py (line 131):     INFO: Finished hmmbuild Job with input: /tmp/sepp/output._4v3p6ld/root/P_10/A_10_0/hmmbuild.input.aossefr3.fasta\n",
      "[13:05:33] jobs.py (line 131):     INFO: Finished hmmbuild Job with input: /tmp/sepp/output._4v3p6ld/root/P_12/A_12_0/hmmbuild.input.9x9tszuh.fasta\n",
      "[13:05:34] jobs.py (line 131):     INFO: Finished hmmbuild Job with input: /tmp/sepp/output._4v3p6ld/root/P_13/A_13_0/hmmbuild.input.2leg8eh2.fasta\n",
      "[13:05:34] jobs.py (line 131):     INFO: Finished hmmbuild Job with input: /tmp/sepp/output._4v3p6ld/root/P_15/A_15_0/hmmbuild.input.zvxeauos.fasta\n",
      "[13:05:34] jobs.py (line 131):     INFO: Finished hmmbuild Job with input: /tmp/sepp/output._4v3p6ld/root/P_14/A_14_0/hmmbuild.input.cg7irt9f.fasta\n",
      "[13:05:41] jobs.py (line 131):     INFO: Finished hmmsearch Job with input: model:/tmp/sepp/output._4v3p6ld/root/P_1/A_1_0/hmmbuild.model.lshg_qyd, fragments:/tmp/sepp/output._4v3p6ld/fragment_chunks/fragment_chunk_0wuxuu8n3.fasta, elim:99999999, filter:False, output:/tmp/sepp/output._4v3p6ld/root/P_1/A_1_0/FC_1_0_0/hmmsearch.results.zlmi96me\n",
      "[13:05:42] jobs.py (line 131):     INFO: Finished hmmsearch Job with input: model:/tmp/sepp/output._4v3p6ld/root/P_1/A_1_0/hmmbuild.model.lshg_qyd, fragments:/tmp/sepp/output._4v3p6ld/fragment_chunks/fragment_chunk_1nyhqlush.fasta, elim:99999999, filter:False, output:/tmp/sepp/output._4v3p6ld/root/P_1/A_1_0/FC_1_0_1/hmmsearch.results.lvsp0evy\n",
      "[13:05:42] jobs.py (line 131):     INFO: Finished hmmsearch Job with input: model:/tmp/sepp/output._4v3p6ld/root/P_0/A_0_0/hmmbuild.model.we4ridix, fragments:/tmp/sepp/output._4v3p6ld/fragment_chunks/fragment_chunk_2r0cbo4vd.fasta, elim:99999999, filter:False, output:/tmp/sepp/output._4v3p6ld/root/P_0/A_0_0/FC_0_0_2/hmmsearch.results.xiacm9ib\n",
      "[13:05:42] jobs.py (line 131):     INFO: Finished hmmsearch Job with input: model:/tmp/sepp/output._4v3p6ld/root/P_1/A_1_0/hmmbuild.model.lshg_qyd, fragments:/tmp/sepp/output._4v3p6ld/fragment_chunks/fragment_chunk_2r0cbo4vd.fasta, elim:99999999, filter:False, output:/tmp/sepp/output._4v3p6ld/root/P_1/A_1_0/FC_1_0_2/hmmsearch.results.urncotmt\n",
      "[13:05:43] jobs.py (line 131):     INFO: Finished hmmsearch Job with input: model:/tmp/sepp/output._4v3p6ld/root/P_0/A_0_0/hmmbuild.model.we4ridix, fragments:/tmp/sepp/output._4v3p6ld/fragment_chunks/fragment_chunk_0wuxuu8n3.fasta, elim:99999999, filter:False, output:/tmp/sepp/output._4v3p6ld/root/P_0/A_0_0/FC_0_0_0/hmmsearch.results.z1du8qs2\n",
      "[13:05:43] jobs.py (line 131):     INFO: Finished hmmsearch Job with input: model:/tmp/sepp/output._4v3p6ld/root/P_0/A_0_0/hmmbuild.model.we4ridix, fragments:/tmp/sepp/output._4v3p6ld/fragment_chunks/fragment_chunk_1nyhqlush.fasta, elim:99999999, filter:False, output:/tmp/sepp/output._4v3p6ld/root/P_0/A_0_0/FC_0_0_1/hmmsearch.results.aejry14d\n",
      "[13:05:49] jobs.py (line 131):     INFO: Finished hmmsearch Job with input: model:/tmp/sepp/output._4v3p6ld/root/P_4/A_4_0/hmmbuild.model.2qbli7vy, fragments:/tmp/sepp/output._4v3p6ld/fragment_chunks/fragment_chunk_0wuxuu8n3.fasta, elim:99999999, filter:False, output:/tmp/sepp/output._4v3p6ld/root/P_4/A_4_0/FC_4_0_0/hmmsearch.results.h467yegt\n",
      "[13:05:51] jobs.py (line 131):     INFO: Finished hmmsearch Job with input: model:/tmp/sepp/output._4v3p6ld/root/P_3/A_3_0/hmmbuild.model.bbkhwr31, fragments:/tmp/sepp/output._4v3p6ld/fragment_chunks/fragment_chunk_0wuxuu8n3.fasta, elim:99999999, filter:False, output:/tmp/sepp/output._4v3p6ld/root/P_3/A_3_0/FC_3_0_0/hmmsearch.results.lb_rdeiq\n",
      "[13:05:51] jobs.py (line 131):     INFO: Finished hmmsearch Job with input: model:/tmp/sepp/output._4v3p6ld/root/P_4/A_4_0/hmmbuild.model.2qbli7vy, fragments:/tmp/sepp/output._4v3p6ld/fragment_chunks/fragment_chunk_1nyhqlush.fasta, elim:99999999, filter:False, output:/tmp/sepp/output._4v3p6ld/root/P_4/A_4_0/FC_4_0_1/hmmsearch.results.4ga4gd71\n",
      "[13:05:51] jobs.py (line 131):     INFO: Finished hmmsearch Job with input: model:/tmp/sepp/output._4v3p6ld/root/P_4/A_4_0/hmmbuild.model.2qbli7vy, fragments:/tmp/sepp/output._4v3p6ld/fragment_chunks/fragment_chunk_2r0cbo4vd.fasta, elim:99999999, filter:False, output:/tmp/sepp/output._4v3p6ld/root/P_4/A_4_0/FC_4_0_2/hmmsearch.results.l_8au_zt\n",
      "[13:05:51] jobs.py (line 131):     INFO: Finished hmmsearch Job with input: model:/tmp/sepp/output._4v3p6ld/root/P_3/A_3_0/hmmbuild.model.bbkhwr31, fragments:/tmp/sepp/output._4v3p6ld/fragment_chunks/fragment_chunk_1nyhqlush.fasta, elim:99999999, filter:False, output:/tmp/sepp/output._4v3p6ld/root/P_3/A_3_0/FC_3_0_1/hmmsearch.results.d6vgq5_5\n",
      "[13:05:52] jobs.py (line 131):     INFO: Finished hmmsearch Job with input: model:/tmp/sepp/output._4v3p6ld/root/P_3/A_3_0/hmmbuild.model.bbkhwr31, fragments:/tmp/sepp/output._4v3p6ld/fragment_chunks/fragment_chunk_2r0cbo4vd.fasta, elim:99999999, filter:False, output:/tmp/sepp/output._4v3p6ld/root/P_3/A_3_0/FC_3_0_2/hmmsearch.results.1b4fpc_e\n",
      "[13:05:57] jobs.py (line 131):     INFO: Finished hmmsearch Job with input: model:/tmp/sepp/output._4v3p6ld/root/P_2/A_2_0/hmmbuild.model._3y29qvu, fragments:/tmp/sepp/output._4v3p6ld/fragment_chunks/fragment_chunk_0wuxuu8n3.fasta, elim:99999999, filter:False, output:/tmp/sepp/output._4v3p6ld/root/P_2/A_2_0/FC_2_0_0/hmmsearch.results.w03ngnvp\n",
      "[13:05:59] jobs.py (line 131):     INFO: Finished hmmsearch Job with input: model:/tmp/sepp/output._4v3p6ld/root/P_2/A_2_0/hmmbuild.model._3y29qvu, fragments:/tmp/sepp/output._4v3p6ld/fragment_chunks/fragment_chunk_1nyhqlush.fasta, elim:99999999, filter:False, output:/tmp/sepp/output._4v3p6ld/root/P_2/A_2_0/FC_2_0_1/hmmsearch.results.cj5dya8q\n",
      "[13:05:59] jobs.py (line 131):     INFO: Finished hmmsearch Job with input: model:/tmp/sepp/output._4v3p6ld/root/P_2/A_2_0/hmmbuild.model._3y29qvu, fragments:/tmp/sepp/output._4v3p6ld/fragment_chunks/fragment_chunk_2r0cbo4vd.fasta, elim:99999999, filter:False, output:/tmp/sepp/output._4v3p6ld/root/P_2/A_2_0/FC_2_0_2/hmmsearch.results.62xy71c_\n",
      "[13:06:00] jobs.py (line 131):     INFO: Finished hmmsearch Job with input: model:/tmp/sepp/output._4v3p6ld/root/P_5/A_5_0/hmmbuild.model.yxcuams3, fragments:/tmp/sepp/output._4v3p6ld/fragment_chunks/fragment_chunk_0wuxuu8n3.fasta, elim:99999999, filter:False, output:/tmp/sepp/output._4v3p6ld/root/P_5/A_5_0/FC_5_0_0/hmmsearch.results.hieikwwn\n",
      "[13:06:00] jobs.py (line 131):     INFO: Finished hmmsearch Job with input: model:/tmp/sepp/output._4v3p6ld/root/P_5/A_5_0/hmmbuild.model.yxcuams3, fragments:/tmp/sepp/output._4v3p6ld/fragment_chunks/fragment_chunk_1nyhqlush.fasta, elim:99999999, filter:False, output:/tmp/sepp/output._4v3p6ld/root/P_5/A_5_0/FC_5_0_1/hmmsearch.results.atrl52md\n",
      "[13:06:01] jobs.py (line 131):     INFO: Finished hmmsearch Job with input: model:/tmp/sepp/output._4v3p6ld/root/P_5/A_5_0/hmmbuild.model.yxcuams3, fragments:/tmp/sepp/output._4v3p6ld/fragment_chunks/fragment_chunk_2r0cbo4vd.fasta, elim:99999999, filter:False, output:/tmp/sepp/output._4v3p6ld/root/P_5/A_5_0/FC_5_0_2/hmmsearch.results.vg_595br\n",
      "[13:06:06] jobs.py (line 131):     INFO: Finished hmmsearch Job with input: model:/tmp/sepp/output._4v3p6ld/root/P_6/A_6_0/hmmbuild.model.tyw9dfd8, fragments:/tmp/sepp/output._4v3p6ld/fragment_chunks/fragment_chunk_0wuxuu8n3.fasta, elim:99999999, filter:False, output:/tmp/sepp/output._4v3p6ld/root/P_6/A_6_0/FC_6_0_0/hmmsearch.results.zytqboah\n",
      "[13:06:07] jobs.py (line 131):     INFO: Finished hmmsearch Job with input: model:/tmp/sepp/output._4v3p6ld/root/P_6/A_6_0/hmmbuild.model.tyw9dfd8, fragments:/tmp/sepp/output._4v3p6ld/fragment_chunks/fragment_chunk_2r0cbo4vd.fasta, elim:99999999, filter:False, output:/tmp/sepp/output._4v3p6ld/root/P_6/A_6_0/FC_6_0_2/hmmsearch.results.3yz66i1_\n",
      "[13:06:08] jobs.py (line 131):     INFO: Finished hmmsearch Job with input: model:/tmp/sepp/output._4v3p6ld/root/P_6/A_6_0/hmmbuild.model.tyw9dfd8, fragments:/tmp/sepp/output._4v3p6ld/fragment_chunks/fragment_chunk_1nyhqlush.fasta, elim:99999999, filter:False, output:/tmp/sepp/output._4v3p6ld/root/P_6/A_6_0/FC_6_0_1/hmmsearch.results.yrjq9ifw\n",
      "[13:06:08] jobs.py (line 131):     INFO: Finished hmmsearch Job with input: model:/tmp/sepp/output._4v3p6ld/root/P_7/A_7_0/hmmbuild.model.rq1j6gj5, fragments:/tmp/sepp/output._4v3p6ld/fragment_chunks/fragment_chunk_0wuxuu8n3.fasta, elim:99999999, filter:False, output:/tmp/sepp/output._4v3p6ld/root/P_7/A_7_0/FC_7_0_0/hmmsearch.results.u0w4quc8\n",
      "[13:06:09] jobs.py (line 131):     INFO: Finished hmmsearch Job with input: model:/tmp/sepp/output._4v3p6ld/root/P_7/A_7_0/hmmbuild.model.rq1j6gj5, fragments:/tmp/sepp/output._4v3p6ld/fragment_chunks/fragment_chunk_2r0cbo4vd.fasta, elim:99999999, filter:False, output:/tmp/sepp/output._4v3p6ld/root/P_7/A_7_0/FC_7_0_2/hmmsearch.results.6msy_c9n\n",
      "[13:06:09] jobs.py (line 131):     INFO: Finished hmmsearch Job with input: model:/tmp/sepp/output._4v3p6ld/root/P_7/A_7_0/hmmbuild.model.rq1j6gj5, fragments:/tmp/sepp/output._4v3p6ld/fragment_chunks/fragment_chunk_1nyhqlush.fasta, elim:99999999, filter:False, output:/tmp/sepp/output._4v3p6ld/root/P_7/A_7_0/FC_7_0_1/hmmsearch.results.rwtp4v1o\n",
      "[13:06:15] jobs.py (line 131):     INFO: Finished hmmsearch Job with input: model:/tmp/sepp/output._4v3p6ld/root/P_11/A_11_0/hmmbuild.model.q0wgoo11, fragments:/tmp/sepp/output._4v3p6ld/fragment_chunks/fragment_chunk_0wuxuu8n3.fasta, elim:99999999, filter:False, output:/tmp/sepp/output._4v3p6ld/root/P_11/A_11_0/FC_11_0_0/hmmsearch.results.vv66aaun\n",
      "[13:06:15] jobs.py (line 131):     INFO: Finished hmmsearch Job with input: model:/tmp/sepp/output._4v3p6ld/root/P_11/A_11_0/hmmbuild.model.q0wgoo11, fragments:/tmp/sepp/output._4v3p6ld/fragment_chunks/fragment_chunk_2r0cbo4vd.fasta, elim:99999999, filter:False, output:/tmp/sepp/output._4v3p6ld/root/P_11/A_11_0/FC_11_0_2/hmmsearch.results.s0jl79a5\n",
      "[13:06:16] jobs.py (line 131):     INFO: Finished hmmsearch Job with input: model:/tmp/sepp/output._4v3p6ld/root/P_11/A_11_0/hmmbuild.model.q0wgoo11, fragments:/tmp/sepp/output._4v3p6ld/fragment_chunks/fragment_chunk_1nyhqlush.fasta, elim:99999999, filter:False, output:/tmp/sepp/output._4v3p6ld/root/P_11/A_11_0/FC_11_0_1/hmmsearch.results.uyy2b3al\n",
      "[13:06:16] jobs.py (line 131):     INFO: Finished hmmsearch Job with input: model:/tmp/sepp/output._4v3p6ld/root/P_8/A_8_0/hmmbuild.model.mgk2n1_u, fragments:/tmp/sepp/output._4v3p6ld/fragment_chunks/fragment_chunk_0wuxuu8n3.fasta, elim:99999999, filter:False, output:/tmp/sepp/output._4v3p6ld/root/P_8/A_8_0/FC_8_0_0/hmmsearch.results.ho1in192\n",
      "[13:06:18] jobs.py (line 131):     INFO: Finished hmmsearch Job with input: model:/tmp/sepp/output._4v3p6ld/root/P_8/A_8_0/hmmbuild.model.mgk2n1_u, fragments:/tmp/sepp/output._4v3p6ld/fragment_chunks/fragment_chunk_2r0cbo4vd.fasta, elim:99999999, filter:False, output:/tmp/sepp/output._4v3p6ld/root/P_8/A_8_0/FC_8_0_2/hmmsearch.results.i1_cd6r2\n",
      "[13:06:18] jobs.py (line 131):     INFO: Finished hmmsearch Job with input: model:/tmp/sepp/output._4v3p6ld/root/P_8/A_8_0/hmmbuild.model.mgk2n1_u, fragments:/tmp/sepp/output._4v3p6ld/fragment_chunks/fragment_chunk_1nyhqlush.fasta, elim:99999999, filter:False, output:/tmp/sepp/output._4v3p6ld/root/P_8/A_8_0/FC_8_0_1/hmmsearch.results.dzi8nrpd\n",
      "[13:06:24] jobs.py (line 131):     INFO: Finished hmmsearch Job with input: model:/tmp/sepp/output._4v3p6ld/root/P_9/A_9_0/hmmbuild.model.i2_lz8qk, fragments:/tmp/sepp/output._4v3p6ld/fragment_chunks/fragment_chunk_0wuxuu8n3.fasta, elim:99999999, filter:False, output:/tmp/sepp/output._4v3p6ld/root/P_9/A_9_0/FC_9_0_0/hmmsearch.results.ijwfvk7z\n",
      "[13:06:24] jobs.py (line 131):     INFO: Finished hmmsearch Job with input: model:/tmp/sepp/output._4v3p6ld/root/P_9/A_9_0/hmmbuild.model.i2_lz8qk, fragments:/tmp/sepp/output._4v3p6ld/fragment_chunks/fragment_chunk_2r0cbo4vd.fasta, elim:99999999, filter:False, output:/tmp/sepp/output._4v3p6ld/root/P_9/A_9_0/FC_9_0_2/hmmsearch.results.hcxgnwnb\n",
      "[13:06:24] jobs.py (line 131):     INFO: Finished hmmsearch Job with input: model:/tmp/sepp/output._4v3p6ld/root/P_9/A_9_0/hmmbuild.model.i2_lz8qk, fragments:/tmp/sepp/output._4v3p6ld/fragment_chunks/fragment_chunk_1nyhqlush.fasta, elim:99999999, filter:False, output:/tmp/sepp/output._4v3p6ld/root/P_9/A_9_0/FC_9_0_1/hmmsearch.results.0rlmzsaf\n",
      "[13:06:25] jobs.py (line 131):     INFO: Finished hmmsearch Job with input: model:/tmp/sepp/output._4v3p6ld/root/P_10/A_10_0/hmmbuild.model.1td5r3t8, fragments:/tmp/sepp/output._4v3p6ld/fragment_chunks/fragment_chunk_0wuxuu8n3.fasta, elim:99999999, filter:False, output:/tmp/sepp/output._4v3p6ld/root/P_10/A_10_0/FC_10_0_0/hmmsearch.results.isjd9lw_\n",
      "[13:06:26] jobs.py (line 131):     INFO: Finished hmmsearch Job with input: model:/tmp/sepp/output._4v3p6ld/root/P_10/A_10_0/hmmbuild.model.1td5r3t8, fragments:/tmp/sepp/output._4v3p6ld/fragment_chunks/fragment_chunk_1nyhqlush.fasta, elim:99999999, filter:False, output:/tmp/sepp/output._4v3p6ld/root/P_10/A_10_0/FC_10_0_1/hmmsearch.results.lb7camxu\n",
      "[13:06:27] jobs.py (line 131):     INFO: Finished hmmsearch Job with input: model:/tmp/sepp/output._4v3p6ld/root/P_10/A_10_0/hmmbuild.model.1td5r3t8, fragments:/tmp/sepp/output._4v3p6ld/fragment_chunks/fragment_chunk_2r0cbo4vd.fasta, elim:99999999, filter:False, output:/tmp/sepp/output._4v3p6ld/root/P_10/A_10_0/FC_10_0_2/hmmsearch.results._9q3r0kc\n",
      "[13:06:32] jobs.py (line 131):     INFO: Finished hmmsearch Job with input: model:/tmp/sepp/output._4v3p6ld/root/P_12/A_12_0/hmmbuild.model.x41cshi4, fragments:/tmp/sepp/output._4v3p6ld/fragment_chunks/fragment_chunk_0wuxuu8n3.fasta, elim:99999999, filter:False, output:/tmp/sepp/output._4v3p6ld/root/P_12/A_12_0/FC_12_0_0/hmmsearch.results.q1vgyg87\n",
      "[13:06:33] jobs.py (line 131):     INFO: Finished hmmsearch Job with input: model:/tmp/sepp/output._4v3p6ld/root/P_12/A_12_0/hmmbuild.model.x41cshi4, fragments:/tmp/sepp/output._4v3p6ld/fragment_chunks/fragment_chunk_2r0cbo4vd.fasta, elim:99999999, filter:False, output:/tmp/sepp/output._4v3p6ld/root/P_12/A_12_0/FC_12_0_2/hmmsearch.results.eyotw6rw\n",
      "[13:06:33] jobs.py (line 131):     INFO: Finished hmmsearch Job with input: model:/tmp/sepp/output._4v3p6ld/root/P_12/A_12_0/hmmbuild.model.x41cshi4, fragments:/tmp/sepp/output._4v3p6ld/fragment_chunks/fragment_chunk_1nyhqlush.fasta, elim:99999999, filter:False, output:/tmp/sepp/output._4v3p6ld/root/P_12/A_12_0/FC_12_0_1/hmmsearch.results.7jrf318n\n",
      "[13:06:34] jobs.py (line 131):     INFO: Finished hmmsearch Job with input: model:/tmp/sepp/output._4v3p6ld/root/P_13/A_13_0/hmmbuild.model.yvurdyf2, fragments:/tmp/sepp/output._4v3p6ld/fragment_chunks/fragment_chunk_0wuxuu8n3.fasta, elim:99999999, filter:False, output:/tmp/sepp/output._4v3p6ld/root/P_13/A_13_0/FC_13_0_0/hmmsearch.results.jvtm8677\n",
      "[13:06:35] jobs.py (line 131):     INFO: Finished hmmsearch Job with input: model:/tmp/sepp/output._4v3p6ld/root/P_13/A_13_0/hmmbuild.model.yvurdyf2, fragments:/tmp/sepp/output._4v3p6ld/fragment_chunks/fragment_chunk_1nyhqlush.fasta, elim:99999999, filter:False, output:/tmp/sepp/output._4v3p6ld/root/P_13/A_13_0/FC_13_0_1/hmmsearch.results.g3g3bpv6\n",
      "[13:06:35] jobs.py (line 131):     INFO: Finished hmmsearch Job with input: model:/tmp/sepp/output._4v3p6ld/root/P_13/A_13_0/hmmbuild.model.yvurdyf2, fragments:/tmp/sepp/output._4v3p6ld/fragment_chunks/fragment_chunk_2r0cbo4vd.fasta, elim:99999999, filter:False, output:/tmp/sepp/output._4v3p6ld/root/P_13/A_13_0/FC_13_0_2/hmmsearch.results.i8itp40w\n",
      "[13:06:39] jobs.py (line 131):     INFO: Finished hmmsearch Job with input: model:/tmp/sepp/output._4v3p6ld/root/P_15/A_15_0/hmmbuild.model.4nliehoy, fragments:/tmp/sepp/output._4v3p6ld/fragment_chunks/fragment_chunk_0wuxuu8n3.fasta, elim:99999999, filter:False, output:/tmp/sepp/output._4v3p6ld/root/P_15/A_15_0/FC_15_0_0/hmmsearch.results.x5y3a0m2\n",
      "[13:06:41] jobs.py (line 131):     INFO: Finished hmmsearch Job with input: model:/tmp/sepp/output._4v3p6ld/root/P_15/A_15_0/hmmbuild.model.4nliehoy, fragments:/tmp/sepp/output._4v3p6ld/fragment_chunks/fragment_chunk_2r0cbo4vd.fasta, elim:99999999, filter:False, output:/tmp/sepp/output._4v3p6ld/root/P_15/A_15_0/FC_15_0_2/hmmsearch.results.sgsmn1aw\n",
      "[13:06:42] jobs.py (line 131):     INFO: Finished hmmsearch Job with input: model:/tmp/sepp/output._4v3p6ld/root/P_15/A_15_0/hmmbuild.model.4nliehoy, fragments:/tmp/sepp/output._4v3p6ld/fragment_chunks/fragment_chunk_1nyhqlush.fasta, elim:99999999, filter:False, output:/tmp/sepp/output._4v3p6ld/root/P_15/A_15_0/FC_15_0_1/hmmsearch.results.8ybtiydg\n",
      "[13:06:42] jobs.py (line 131):     INFO: Finished hmmsearch Job with input: model:/tmp/sepp/output._4v3p6ld/root/P_14/A_14_0/hmmbuild.model.td7ooiw6, fragments:/tmp/sepp/output._4v3p6ld/fragment_chunks/fragment_chunk_0wuxuu8n3.fasta, elim:99999999, filter:False, output:/tmp/sepp/output._4v3p6ld/root/P_14/A_14_0/FC_14_0_0/hmmsearch.results.5x1b7zv5\n",
      "[13:06:43] jobs.py (line 131):     INFO: Finished hmmsearch Job with input: model:/tmp/sepp/output._4v3p6ld/root/P_14/A_14_0/hmmbuild.model.td7ooiw6, fragments:/tmp/sepp/output._4v3p6ld/fragment_chunks/fragment_chunk_1nyhqlush.fasta, elim:99999999, filter:False, output:/tmp/sepp/output._4v3p6ld/root/P_14/A_14_0/FC_14_0_1/hmmsearch.results.12i44l8v\n",
      "[13:06:43] jobs.py (line 131):     INFO: Finished hmmsearch Job with input: model:/tmp/sepp/output._4v3p6ld/root/P_14/A_14_0/hmmbuild.model.td7ooiw6, fragments:/tmp/sepp/output._4v3p6ld/fragment_chunks/fragment_chunk_2r0cbo4vd.fasta, elim:99999999, filter:False, output:/tmp/sepp/output._4v3p6ld/root/P_14/A_14_0/FC_14_0_2/hmmsearch.results.gbkz2e94\n",
      "[13:06:43] exhaustive.py (line 80):  WARNING: Fragments [] are not scored against any subset\n",
      "[13:06:43] exhaustive.py (line 151):     INFO: Merging sub-alignments for placement problem : P_0.\n",
      "[13:06:43] exhaustive.py (line 151):     INFO: Merging sub-alignments for placement problem : P_2.\n",
      "[13:06:43] jobs.py (line 131):     INFO: Finished hmmalign Job with input: model:/tmp/sepp/output._4v3p6ld/root/P_1/A_1_0/hmmbuild.model.lshg_qyd, fragments:/tmp/sepp/output._4v3p6ld/root/P_1/A_1_0/FC_1_0_0/hmmalign.frag.xpmidu57.fasta, trim:False, base_alignment:/tmp/sepp/output._4v3p6ld/root/P_1/A_1_0/hmmbuild.input.yje3myws.fasta\n",
      "[13:06:43] jobs.py (line 131):     INFO: Finished hmmalign Job with input: model:/tmp/sepp/output._4v3p6ld/root/P_5/A_5_0/hmmbuild.model.yxcuams3, fragments:/tmp/sepp/output._4v3p6ld/root/P_5/A_5_0/FC_5_0_1/hmmalign.frag.f8f1b8t_.fasta, trim:False, base_alignment:/tmp/sepp/output._4v3p6ld/root/P_5/A_5_0/hmmbuild.input.5iypddxb.fasta\n",
      "[13:06:44] jobs.py (line 131):     INFO: Finished hmmalign Job with input: model:/tmp/sepp/output._4v3p6ld/root/P_5/A_5_0/hmmbuild.model.yxcuams3, fragments:/tmp/sepp/output._4v3p6ld/root/P_5/A_5_0/FC_5_0_2/hmmalign.frag.bnzmomfc.fasta, trim:False, base_alignment:/tmp/sepp/output._4v3p6ld/root/P_5/A_5_0/hmmbuild.input.5iypddxb.fasta\n",
      "[13:06:44] jobs.py (line 131):     INFO: Finished hmmalign Job with input: model:/tmp/sepp/output._4v3p6ld/root/P_1/A_1_0/hmmbuild.model.lshg_qyd, fragments:/tmp/sepp/output._4v3p6ld/root/P_1/A_1_0/FC_1_0_2/hmmalign.frag.dx1p00l5.fasta, trim:False, base_alignment:/tmp/sepp/output._4v3p6ld/root/P_1/A_1_0/hmmbuild.input.yje3myws.fasta\n",
      "[13:06:44] jobs.py (line 131):     INFO: Finished hmmalign Job with input: model:/tmp/sepp/output._4v3p6ld/root/P_5/A_5_0/hmmbuild.model.yxcuams3, fragments:/tmp/sepp/output._4v3p6ld/root/P_5/A_5_0/FC_5_0_0/hmmalign.frag.lmibcmkg.fasta, trim:False, base_alignment:/tmp/sepp/output._4v3p6ld/root/P_5/A_5_0/hmmbuild.input.5iypddxb.fasta\n",
      "[13:06:44] jobs.py (line 131):     INFO: Finished hmmalign Job with input: model:/tmp/sepp/output._4v3p6ld/root/P_1/A_1_0/hmmbuild.model.lshg_qyd, fragments:/tmp/sepp/output._4v3p6ld/root/P_1/A_1_0/FC_1_0_1/hmmalign.frag.c76x1mnw.fasta, trim:False, base_alignment:/tmp/sepp/output._4v3p6ld/root/P_1/A_1_0/hmmbuild.input.yje3myws.fasta\n",
      "[13:06:44] jobs.py (line 131):     INFO: Finished hmmalign Job with input: model:/tmp/sepp/output._4v3p6ld/root/P_6/A_6_0/hmmbuild.model.tyw9dfd8, fragments:/tmp/sepp/output._4v3p6ld/root/P_6/A_6_0/FC_6_0_0/hmmalign.frag.l6u5hums.fasta, trim:False, base_alignment:/tmp/sepp/output._4v3p6ld/root/P_6/A_6_0/hmmbuild.input.87c1l9xq.fasta\n",
      "[13:06:44] jobs.py (line 131):     INFO: Finished hmmalign Job with input: model:/tmp/sepp/output._4v3p6ld/root/P_6/A_6_0/hmmbuild.model.tyw9dfd8, fragments:/tmp/sepp/output._4v3p6ld/root/P_6/A_6_0/FC_6_0_2/hmmalign.frag.sz5qi10g.fasta, trim:False, base_alignment:/tmp/sepp/output._4v3p6ld/root/P_6/A_6_0/hmmbuild.input.87c1l9xq.fasta\n",
      "[13:06:44] exhaustive.py (line 151):     INFO: Merging sub-alignments for placement problem : P_3.\n",
      "[13:06:44] jobs.py (line 131):     INFO: Finished hmmalign Job with input: model:/tmp/sepp/output._4v3p6ld/root/P_6/A_6_0/hmmbuild.model.tyw9dfd8, fragments:/tmp/sepp/output._4v3p6ld/root/P_6/A_6_0/FC_6_0_1/hmmalign.frag.1mbnb2pj.fasta, trim:False, base_alignment:/tmp/sepp/output._4v3p6ld/root/P_6/A_6_0/hmmbuild.input.87c1l9xq.fasta\n",
      "[13:06:44] jobs.py (line 131):     INFO: Finished hmmalign Job with input: model:/tmp/sepp/output._4v3p6ld/root/P_7/A_7_0/hmmbuild.model.rq1j6gj5, fragments:/tmp/sepp/output._4v3p6ld/root/P_7/A_7_0/FC_7_0_1/hmmalign.frag.zzlh9ya4.fasta, trim:False, base_alignment:/tmp/sepp/output._4v3p6ld/root/P_7/A_7_0/hmmbuild.input.piyihp8l.fasta\n",
      "[13:06:44] jobs.py (line 131):     INFO: Finished hmmalign Job with input: model:/tmp/sepp/output._4v3p6ld/root/P_7/A_7_0/hmmbuild.model.rq1j6gj5, fragments:/tmp/sepp/output._4v3p6ld/root/P_7/A_7_0/FC_7_0_2/hmmalign.frag.2dsehfch.fasta, trim:False, base_alignment:/tmp/sepp/output._4v3p6ld/root/P_7/A_7_0/hmmbuild.input.piyihp8l.fasta\n",
      "[13:06:44] jobs.py (line 131):     INFO: Finished hmmalign Job with input: model:/tmp/sepp/output._4v3p6ld/root/P_7/A_7_0/hmmbuild.model.rq1j6gj5, fragments:/tmp/sepp/output._4v3p6ld/root/P_7/A_7_0/FC_7_0_0/hmmalign.frag.ue9892jd.fasta, trim:False, base_alignment:/tmp/sepp/output._4v3p6ld/root/P_7/A_7_0/hmmbuild.input.piyihp8l.fasta\n",
      "[13:06:44] exhaustive.py (line 151):     INFO: Merging sub-alignments for placement problem : P_4.\n",
      "[13:06:44] jobs.py (line 131):     INFO: Finished hmmalign Job with input: model:/tmp/sepp/output._4v3p6ld/root/P_8/A_8_0/hmmbuild.model.mgk2n1_u, fragments:/tmp/sepp/output._4v3p6ld/root/P_8/A_8_0/FC_8_0_2/hmmalign.frag.u_p4vezu.fasta, trim:False, base_alignment:/tmp/sepp/output._4v3p6ld/root/P_8/A_8_0/hmmbuild.input.cziwtmi7.fasta\n",
      "[13:06:44] jobs.py (line 131):     INFO: Finished hmmalign Job with input: model:/tmp/sepp/output._4v3p6ld/root/P_8/A_8_0/hmmbuild.model.mgk2n1_u, fragments:/tmp/sepp/output._4v3p6ld/root/P_8/A_8_0/FC_8_0_0/hmmalign.frag.4q_bsh40.fasta, trim:False, base_alignment:/tmp/sepp/output._4v3p6ld/root/P_8/A_8_0/hmmbuild.input.cziwtmi7.fasta\n",
      "[13:06:44] exhaustive.py (line 151):     INFO: Merging sub-alignments for placement problem : P_5.\n",
      "[13:06:44] jobs.py (line 131):     INFO: Finished hmmalign Job with input: model:/tmp/sepp/output._4v3p6ld/root/P_8/A_8_0/hmmbuild.model.mgk2n1_u, fragments:/tmp/sepp/output._4v3p6ld/root/P_8/A_8_0/FC_8_0_1/hmmalign.frag.ofemg4ze.fasta, trim:False, base_alignment:/tmp/sepp/output._4v3p6ld/root/P_8/A_8_0/hmmbuild.input.cziwtmi7.fasta\n",
      "[13:06:44] alignment.py (line 556):     INFO: Merging extension sto file (/tmp/sepp/output._4v3p6ld/root/P_5/A_5_0/FC_5_0_0/hmmalign.results.80502gd4) into base alignment (/tmp/sepp/output._4v3p6ld/root/P_5/A_5_0/hmmbuild.input.5iypddxb.fasta).\n",
      "[13:06:44] alignment.py (line 556):     INFO: Merging extension sto file (/tmp/sepp/output._4v3p6ld/root/P_5/A_5_0/FC_5_0_1/hmmalign.results.5xpmtdb8) into base alignment (/tmp/sepp/output._4v3p6ld/root/P_5/A_5_0/hmmbuild.input.5iypddxb.fasta).\n",
      "[13:06:44] alignment.py (line 556):     INFO: Merging extension sto file (/tmp/sepp/output._4v3p6ld/root/P_5/A_5_0/FC_5_0_2/hmmalign.results.487b2z9t) into base alignment (/tmp/sepp/output._4v3p6ld/root/P_5/A_5_0/hmmbuild.input.5iypddxb.fasta).\n",
      "[13:06:44] jobs.py (line 131):     INFO: Finished hmmalign Job with input: model:/tmp/sepp/output._4v3p6ld/root/P_10/A_10_0/hmmbuild.model.1td5r3t8, fragments:/tmp/sepp/output._4v3p6ld/root/P_10/A_10_0/FC_10_0_2/hmmalign.frag.2o3zidv4.fasta, trim:False, base_alignment:/tmp/sepp/output._4v3p6ld/root/P_10/A_10_0/hmmbuild.input.aossefr3.fasta\n",
      "[13:06:44] exhaustive.py (line 151):     INFO: Merging sub-alignments for placement problem : P_1.\n",
      "[13:06:44] alignment.py (line 556):     INFO: Merging extension sto file (/tmp/sepp/output._4v3p6ld/root/P_1/A_1_0/FC_1_0_0/hmmalign.results.ojmdgzo9) into base alignment (/tmp/sepp/output._4v3p6ld/root/P_1/A_1_0/hmmbuild.input.yje3myws.fasta).\n",
      "[13:06:44] alignment.py (line 556):     INFO: Merging extension sto file (/tmp/sepp/output._4v3p6ld/root/P_1/A_1_0/FC_1_0_1/hmmalign.results.m5z53674) into base alignment (/tmp/sepp/output._4v3p6ld/root/P_1/A_1_0/hmmbuild.input.yje3myws.fasta).\n",
      "[13:06:44] alignment.py (line 556):     INFO: Merging extension sto file (/tmp/sepp/output._4v3p6ld/root/P_1/A_1_0/FC_1_0_2/hmmalign.results.l5gmr8vt) into base alignment (/tmp/sepp/output._4v3p6ld/root/P_1/A_1_0/hmmbuild.input.yje3myws.fasta).\n",
      "[13:06:44] exhaustive.py (line 151):     INFO: Merging sub-alignments for placement problem : P_6.\n",
      "[13:06:44] alignment.py (line 556):     INFO: Merging extension sto file (/tmp/sepp/output._4v3p6ld/root/P_6/A_6_0/FC_6_0_0/hmmalign.results.3it9g8ya) into base alignment (/tmp/sepp/output._4v3p6ld/root/P_6/A_6_0/hmmbuild.input.87c1l9xq.fasta).\n",
      "[13:06:44] jobs.py (line 131):     INFO: Finished hmmalign Job with input: model:/tmp/sepp/output._4v3p6ld/root/P_10/A_10_0/hmmbuild.model.1td5r3t8, fragments:/tmp/sepp/output._4v3p6ld/root/P_10/A_10_0/FC_10_0_1/hmmalign.frag.urtd_ext.fasta, trim:False, base_alignment:/tmp/sepp/output._4v3p6ld/root/P_10/A_10_0/hmmbuild.input.aossefr3.fasta\n",
      "[13:06:45] jobs.py (line 131):     INFO: Finished hmmalign Job with input: model:/tmp/sepp/output._4v3p6ld/root/P_10/A_10_0/hmmbuild.model.1td5r3t8, fragments:/tmp/sepp/output._4v3p6ld/root/P_10/A_10_0/FC_10_0_0/hmmalign.frag.os5761g7.fasta, trim:False, base_alignment:/tmp/sepp/output._4v3p6ld/root/P_10/A_10_0/hmmbuild.input.aossefr3.fasta\n",
      "[13:06:45] alignment.py (line 556):     INFO: Merging extension sto file (/tmp/sepp/output._4v3p6ld/root/P_6/A_6_0/FC_6_0_1/hmmalign.results.q56dn2u7) into base alignment (/tmp/sepp/output._4v3p6ld/root/P_6/A_6_0/hmmbuild.input.87c1l9xq.fasta).\n",
      "[13:06:45] alignment.py (line 556):     INFO: Merging extension sto file (/tmp/sepp/output._4v3p6ld/root/P_6/A_6_0/FC_6_0_2/hmmalign.results.b3mazwne) into base alignment (/tmp/sepp/output._4v3p6ld/root/P_6/A_6_0/hmmbuild.input.87c1l9xq.fasta).\n",
      "[13:06:45] exhaustive.py (line 151):     INFO: Merging sub-alignments for placement problem : P_7.\n",
      "[13:06:45] alignment.py (line 556):     INFO: Merging extension sto file (/tmp/sepp/output._4v3p6ld/root/P_7/A_7_0/FC_7_0_0/hmmalign.results.xnmkddxh) into base alignment (/tmp/sepp/output._4v3p6ld/root/P_7/A_7_0/hmmbuild.input.piyihp8l.fasta).\n",
      "[13:06:45] jobs.py (line 131):     INFO: Finished hmmalign Job with input: model:/tmp/sepp/output._4v3p6ld/root/P_9/A_9_0/hmmbuild.model.i2_lz8qk, fragments:/tmp/sepp/output._4v3p6ld/root/P_9/A_9_0/FC_9_0_0/hmmalign.frag.illoco1m.fasta, trim:False, base_alignment:/tmp/sepp/output._4v3p6ld/root/P_9/A_9_0/hmmbuild.input.yybgh927.fasta\n",
      "[13:06:45] alignment.py (line 556):     INFO: Merging extension sto file (/tmp/sepp/output._4v3p6ld/root/P_7/A_7_0/FC_7_0_1/hmmalign.results.1o6f5hpm) into base alignment (/tmp/sepp/output._4v3p6ld/root/P_7/A_7_0/hmmbuild.input.piyihp8l.fasta).\n",
      "[13:06:45] alignment.py (line 556):     INFO: Merging extension sto file (/tmp/sepp/output._4v3p6ld/root/P_7/A_7_0/FC_7_0_2/hmmalign.results.lcmphey7) into base alignment (/tmp/sepp/output._4v3p6ld/root/P_7/A_7_0/hmmbuild.input.piyihp8l.fasta).\n",
      "[13:06:45] jobs.py (line 131):     INFO: Finished hmmalign Job with input: model:/tmp/sepp/output._4v3p6ld/root/P_9/A_9_0/hmmbuild.model.i2_lz8qk, fragments:/tmp/sepp/output._4v3p6ld/root/P_9/A_9_0/FC_9_0_2/hmmalign.frag.ami_oqwo.fasta, trim:False, base_alignment:/tmp/sepp/output._4v3p6ld/root/P_9/A_9_0/hmmbuild.input.yybgh927.fasta\n",
      "[13:06:45] exhaustive.py (line 151):     INFO: Merging sub-alignments for placement problem : P_8.\n",
      "[13:06:45] alignment.py (line 556):     INFO: Merging extension sto file (/tmp/sepp/output._4v3p6ld/root/P_8/A_8_0/FC_8_0_0/hmmalign.results.37amimwd) into base alignment (/tmp/sepp/output._4v3p6ld/root/P_8/A_8_0/hmmbuild.input.cziwtmi7.fasta).\n",
      "[13:06:45] alignment.py (line 556):     INFO: Merging extension sto file (/tmp/sepp/output._4v3p6ld/root/P_8/A_8_0/FC_8_0_1/hmmalign.results.u779hu5a) into base alignment (/tmp/sepp/output._4v3p6ld/root/P_8/A_8_0/hmmbuild.input.cziwtmi7.fasta).\n",
      "[13:06:45] jobs.py (line 131):     INFO: Finished hmmalign Job with input: model:/tmp/sepp/output._4v3p6ld/root/P_9/A_9_0/hmmbuild.model.i2_lz8qk, fragments:/tmp/sepp/output._4v3p6ld/root/P_9/A_9_0/FC_9_0_1/hmmalign.frag.wcwhzjga.fasta, trim:False, base_alignment:/tmp/sepp/output._4v3p6ld/root/P_9/A_9_0/hmmbuild.input.yybgh927.fasta\n",
      "[13:06:45] alignment.py (line 556):     INFO: Merging extension sto file (/tmp/sepp/output._4v3p6ld/root/P_8/A_8_0/FC_8_0_2/hmmalign.results.sw4_5m8s) into base alignment (/tmp/sepp/output._4v3p6ld/root/P_8/A_8_0/hmmbuild.input.cziwtmi7.fasta).\n",
      "[13:06:45] exhaustive.py (line 151):     INFO: Merging sub-alignments for placement problem : P_10.\n",
      "[13:06:45] alignment.py (line 556):     INFO: Merging extension sto file (/tmp/sepp/output._4v3p6ld/root/P_10/A_10_0/FC_10_0_0/hmmalign.results.l8v8pwte) into base alignment (/tmp/sepp/output._4v3p6ld/root/P_10/A_10_0/hmmbuild.input.aossefr3.fasta).\n",
      "[13:06:45] alignment.py (line 556):     INFO: Merging extension sto file (/tmp/sepp/output._4v3p6ld/root/P_10/A_10_0/FC_10_0_1/hmmalign.results.b1idttng) into base alignment (/tmp/sepp/output._4v3p6ld/root/P_10/A_10_0/hmmbuild.input.aossefr3.fasta).\n",
      "[13:06:45] alignment.py (line 556):     INFO: Merging extension sto file (/tmp/sepp/output._4v3p6ld/root/P_10/A_10_0/FC_10_0_2/hmmalign.results.vofbh33z) into base alignment (/tmp/sepp/output._4v3p6ld/root/P_10/A_10_0/hmmbuild.input.aossefr3.fasta).\n",
      "[13:06:45] exhaustive.py (line 151):     INFO: Merging sub-alignments for placement problem : P_9.\n",
      "[13:06:45] alignment.py (line 556):     INFO: Merging extension sto file (/tmp/sepp/output._4v3p6ld/root/P_9/A_9_0/FC_9_0_0/hmmalign.results.fahoe8km) into base alignment (/tmp/sepp/output._4v3p6ld/root/P_9/A_9_0/hmmbuild.input.yybgh927.fasta).\n",
      "[13:06:45] alignment.py (line 556):     INFO: Merging extension sto file (/tmp/sepp/output._4v3p6ld/root/P_9/A_9_0/FC_9_0_1/hmmalign.results.9hhkyvu7) into base alignment (/tmp/sepp/output._4v3p6ld/root/P_9/A_9_0/hmmbuild.input.yybgh927.fasta).\n",
      "[13:06:45] alignment.py (line 556):     INFO: Merging extension sto file (/tmp/sepp/output._4v3p6ld/root/P_9/A_9_0/FC_9_0_2/hmmalign.results.10w1_9rf) into base alignment (/tmp/sepp/output._4v3p6ld/root/P_9/A_9_0/hmmbuild.input.yybgh927.fasta).\n",
      "[13:06:47] jobs.py (line 131):     INFO: Finished hmmalign Job with input: model:/tmp/sepp/output._4v3p6ld/root/P_12/A_12_0/hmmbuild.model.x41cshi4, fragments:/tmp/sepp/output._4v3p6ld/root/P_12/A_12_0/FC_12_0_0/hmmalign.frag.63t1arjj.fasta, trim:False, base_alignment:/tmp/sepp/output._4v3p6ld/root/P_12/A_12_0/hmmbuild.input.9x9tszuh.fasta\n",
      "[13:06:47] jobs.py (line 131):     INFO: Finished hmmalign Job with input: model:/tmp/sepp/output._4v3p6ld/root/P_13/A_13_0/hmmbuild.model.yvurdyf2, fragments:/tmp/sepp/output._4v3p6ld/root/P_13/A_13_0/FC_13_0_0/hmmalign.frag.7bvqa0zz.fasta, trim:False, base_alignment:/tmp/sepp/output._4v3p6ld/root/P_13/A_13_0/hmmbuild.input.2leg8eh2.fasta\n",
      "[13:06:47] jobs.py (line 131):     INFO: Finished hmmalign Job with input: model:/tmp/sepp/output._4v3p6ld/root/P_12/A_12_0/hmmbuild.model.x41cshi4, fragments:/tmp/sepp/output._4v3p6ld/root/P_12/A_12_0/FC_12_0_1/hmmalign.frag.mwm0yzll.fasta, trim:False, base_alignment:/tmp/sepp/output._4v3p6ld/root/P_12/A_12_0/hmmbuild.input.9x9tszuh.fasta\n",
      "[13:06:47] jobs.py (line 131):     INFO: Finished hmmalign Job with input: model:/tmp/sepp/output._4v3p6ld/root/P_13/A_13_0/hmmbuild.model.yvurdyf2, fragments:/tmp/sepp/output._4v3p6ld/root/P_13/A_13_0/FC_13_0_2/hmmalign.frag.ylxz4nb9.fasta, trim:False, base_alignment:/tmp/sepp/output._4v3p6ld/root/P_13/A_13_0/hmmbuild.input.2leg8eh2.fasta\n",
      "[13:06:47] jobs.py (line 131):     INFO: Finished hmmalign Job with input: model:/tmp/sepp/output._4v3p6ld/root/P_12/A_12_0/hmmbuild.model.x41cshi4, fragments:/tmp/sepp/output._4v3p6ld/root/P_12/A_12_0/FC_12_0_2/hmmalign.frag.dqi3nw03.fasta, trim:False, base_alignment:/tmp/sepp/output._4v3p6ld/root/P_12/A_12_0/hmmbuild.input.9x9tszuh.fasta\n",
      "[13:06:47] exhaustive.py (line 151):     INFO: Merging sub-alignments for placement problem : P_12.\n",
      "[13:06:47] alignment.py (line 556):     INFO: Merging extension sto file (/tmp/sepp/output._4v3p6ld/root/P_12/A_12_0/FC_12_0_0/hmmalign.results.mt4g1fyh) into base alignment (/tmp/sepp/output._4v3p6ld/root/P_12/A_12_0/hmmbuild.input.9x9tszuh.fasta).\n",
      "[13:06:47] jobs.py (line 131):     INFO: Finished hmmalign Job with input: model:/tmp/sepp/output._4v3p6ld/root/P_14/A_14_0/hmmbuild.model.td7ooiw6, fragments:/tmp/sepp/output._4v3p6ld/root/P_14/A_14_0/FC_14_0_0/hmmalign.frag.rbhndmfo.fasta, trim:False, base_alignment:/tmp/sepp/output._4v3p6ld/root/P_14/A_14_0/hmmbuild.input.cg7irt9f.fasta\n",
      "[13:06:47] jobs.py (line 131):     INFO: Finished hmmalign Job with input: model:/tmp/sepp/output._4v3p6ld/root/P_13/A_13_0/hmmbuild.model.yvurdyf2, fragments:/tmp/sepp/output._4v3p6ld/root/P_13/A_13_0/FC_13_0_1/hmmalign.frag.wysifb7v.fasta, trim:False, base_alignment:/tmp/sepp/output._4v3p6ld/root/P_13/A_13_0/hmmbuild.input.2leg8eh2.fasta\n",
      "[13:06:47] alignment.py (line 556):     INFO: Merging extension sto file (/tmp/sepp/output._4v3p6ld/root/P_12/A_12_0/FC_12_0_1/hmmalign.results.6ujw16u3) into base alignment (/tmp/sepp/output._4v3p6ld/root/P_12/A_12_0/hmmbuild.input.9x9tszuh.fasta).\n",
      "[13:06:48] jobs.py (line 131):     INFO: Finished hmmalign Job with input: model:/tmp/sepp/output._4v3p6ld/root/P_14/A_14_0/hmmbuild.model.td7ooiw6, fragments:/tmp/sepp/output._4v3p6ld/root/P_14/A_14_0/FC_14_0_2/hmmalign.frag.08rj02z2.fasta, trim:False, base_alignment:/tmp/sepp/output._4v3p6ld/root/P_14/A_14_0/hmmbuild.input.cg7irt9f.fasta\n",
      "[13:06:48] jobs.py (line 131):     INFO: Finished hmmalign Job with input: model:/tmp/sepp/output._4v3p6ld/root/P_14/A_14_0/hmmbuild.model.td7ooiw6, fragments:/tmp/sepp/output._4v3p6ld/root/P_14/A_14_0/FC_14_0_1/hmmalign.frag.zaz6km44.fasta, trim:False, base_alignment:/tmp/sepp/output._4v3p6ld/root/P_14/A_14_0/hmmbuild.input.cg7irt9f.fasta\n",
      "[13:06:48] alignment.py (line 556):     INFO: Merging extension sto file (/tmp/sepp/output._4v3p6ld/root/P_12/A_12_0/FC_12_0_2/hmmalign.results.3ottkqm1) into base alignment (/tmp/sepp/output._4v3p6ld/root/P_12/A_12_0/hmmbuild.input.9x9tszuh.fasta).\n",
      "[13:06:48] exhaustive.py (line 151):     INFO: Merging sub-alignments for placement problem : P_13.\n",
      "[13:06:48] alignment.py (line 556):     INFO: Merging extension sto file (/tmp/sepp/output._4v3p6ld/root/P_13/A_13_0/FC_13_0_0/hmmalign.results.w__wv5em) into base alignment (/tmp/sepp/output._4v3p6ld/root/P_13/A_13_0/hmmbuild.input.2leg8eh2.fasta).\n",
      "[13:06:48] alignment.py (line 556):     INFO: Merging extension sto file (/tmp/sepp/output._4v3p6ld/root/P_13/A_13_0/FC_13_0_1/hmmalign.results.w2k2khzz) into base alignment (/tmp/sepp/output._4v3p6ld/root/P_13/A_13_0/hmmbuild.input.2leg8eh2.fasta).\n",
      "[13:06:48] alignment.py (line 556):     INFO: Merging extension sto file (/tmp/sepp/output._4v3p6ld/root/P_13/A_13_0/FC_13_0_2/hmmalign.results.7zc6dv9v) into base alignment (/tmp/sepp/output._4v3p6ld/root/P_13/A_13_0/hmmbuild.input.2leg8eh2.fasta).\n",
      "[13:06:48] exhaustive.py (line 151):     INFO: Merging sub-alignments for placement problem : P_15.\n",
      "[13:06:48] exhaustive.py (line 151):     INFO: Merging sub-alignments for placement problem : P_14.\n",
      "[13:06:48] alignment.py (line 556):     INFO: Merging extension sto file (/tmp/sepp/output._4v3p6ld/root/P_14/A_14_0/FC_14_0_0/hmmalign.results.2tjmdqm9) into base alignment (/tmp/sepp/output._4v3p6ld/root/P_14/A_14_0/hmmbuild.input.cg7irt9f.fasta).\n",
      "[13:06:48] alignment.py (line 556):     INFO: Merging extension sto file (/tmp/sepp/output._4v3p6ld/root/P_14/A_14_0/FC_14_0_1/hmmalign.results.ogvd3uwn) into base alignment (/tmp/sepp/output._4v3p6ld/root/P_14/A_14_0/hmmbuild.input.cg7irt9f.fasta).\n",
      "[13:06:48] alignment.py (line 556):     INFO: Merging extension sto file (/tmp/sepp/output._4v3p6ld/root/P_14/A_14_0/FC_14_0_2/hmmalign.results.uyb46ekw) into base alignment (/tmp/sepp/output._4v3p6ld/root/P_14/A_14_0/hmmbuild.input.cg7irt9f.fasta).\n",
      "[13:06:55] jobs.py (line 131):     INFO: Finished pplacer Job with input: backbone_alignment_file:/tmp/sepp/output._4v3p6ld/root/P_5/pplacer.backbone._nxv4oty.fasta, tree_file:/tmp/sepp/output._4v3p6ld/root/P_5/pplacer.tree.10df5smm.tre, info_file:/home/lauro/anaconda3/envs/qiime2-2021.11/lib/python3.8/site-packages/picrust2/default_files/prokaryotic/pro_ref/pro_ref.raxml_info, extended alignment:/tmp/sepp/output._4v3p6ld/root/P_5/pplacer.extended.1.0f19j8jv.fasta, output:/tmp/sepp/output._4v3p6ld/root/P_5/pplacer.extended.1.0f19j8jv.jplace\n",
      "[13:06:55] jobs.py (line 131):     INFO: Finished pplacer Job with input: backbone_alignment_file:/tmp/sepp/output._4v3p6ld/root/P_5/pplacer.backbone.yf3mj815.fasta, tree_file:/tmp/sepp/output._4v3p6ld/root/P_5/pplacer.tree.1e2wnqaq.tre, info_file:/home/lauro/anaconda3/envs/qiime2-2021.11/lib/python3.8/site-packages/picrust2/default_files/prokaryotic/pro_ref/pro_ref.raxml_info, extended alignment:/tmp/sepp/output._4v3p6ld/root/P_5/pplacer.extended.2.wz3snxwi.fasta, output:/tmp/sepp/output._4v3p6ld/root/P_5/pplacer.extended.2.wz3snxwi.jplace\n",
      "[13:06:55] jobs.py (line 131):     INFO: Finished pplacer Job with input: backbone_alignment_file:/tmp/sepp/output._4v3p6ld/root/P_5/pplacer.backbone.7dy0pokk.fasta, tree_file:/tmp/sepp/output._4v3p6ld/root/P_5/pplacer.tree.kcs3kn6u.tre, info_file:/home/lauro/anaconda3/envs/qiime2-2021.11/lib/python3.8/site-packages/picrust2/default_files/prokaryotic/pro_ref/pro_ref.raxml_info, extended alignment:/tmp/sepp/output._4v3p6ld/root/P_5/pplacer.extended.0.qpgsso6c.fasta, output:/tmp/sepp/output._4v3p6ld/root/P_5/pplacer.extended.0.qpgsso6c.jplace\n",
      "[13:06:58] jobs.py (line 131):     INFO: Finished pplacer Job with input: backbone_alignment_file:/tmp/sepp/output._4v3p6ld/root/P_1/pplacer.backbone.i2b8cuhf.fasta, tree_file:/tmp/sepp/output._4v3p6ld/root/P_1/pplacer.tree.ji1kdqfa.tre, info_file:/home/lauro/anaconda3/envs/qiime2-2021.11/lib/python3.8/site-packages/picrust2/default_files/prokaryotic/pro_ref/pro_ref.raxml_info, extended alignment:/tmp/sepp/output._4v3p6ld/root/P_1/pplacer.extended.1.qtv2ep6l.fasta, output:/tmp/sepp/output._4v3p6ld/root/P_1/pplacer.extended.1.qtv2ep6l.jplace\n",
      "[13:06:59] jobs.py (line 131):     INFO: Finished hmmalign Job with input: model:/tmp/sepp/output._4v3p6ld/root/P_11/A_11_0/hmmbuild.model.q0wgoo11, fragments:/tmp/sepp/output._4v3p6ld/root/P_11/A_11_0/FC_11_0_1/hmmalign.frag.f8cpn0d4.fasta, trim:False, base_alignment:/tmp/sepp/output._4v3p6ld/root/P_11/A_11_0/hmmbuild.input.mghdt1g2.fasta\n",
      "[13:06:59] jobs.py (line 131):     INFO: Finished hmmalign Job with input: model:/tmp/sepp/output._4v3p6ld/root/P_11/A_11_0/hmmbuild.model.q0wgoo11, fragments:/tmp/sepp/output._4v3p6ld/root/P_11/A_11_0/FC_11_0_0/hmmalign.frag.3q3nvop2.fasta, trim:False, base_alignment:/tmp/sepp/output._4v3p6ld/root/P_11/A_11_0/hmmbuild.input.mghdt1g2.fasta\n",
      "[13:06:59] jobs.py (line 131):     INFO: Finished hmmalign Job with input: model:/tmp/sepp/output._4v3p6ld/root/P_11/A_11_0/hmmbuild.model.q0wgoo11, fragments:/tmp/sepp/output._4v3p6ld/root/P_11/A_11_0/FC_11_0_2/hmmalign.frag.zi5cpyml.fasta, trim:False, base_alignment:/tmp/sepp/output._4v3p6ld/root/P_11/A_11_0/hmmbuild.input.mghdt1g2.fasta\n",
      "[13:06:59] exhaustive.py (line 151):     INFO: Merging sub-alignments for placement problem : P_11.\n",
      "[13:06:59] alignment.py (line 556):     INFO: Merging extension sto file (/tmp/sepp/output._4v3p6ld/root/P_11/A_11_0/FC_11_0_0/hmmalign.results.n9f3rxgq) into base alignment (/tmp/sepp/output._4v3p6ld/root/P_11/A_11_0/hmmbuild.input.mghdt1g2.fasta).\n",
      "[13:06:59] alignment.py (line 556):     INFO: Merging extension sto file (/tmp/sepp/output._4v3p6ld/root/P_11/A_11_0/FC_11_0_1/hmmalign.results.rjz6c45e) into base alignment (/tmp/sepp/output._4v3p6ld/root/P_11/A_11_0/hmmbuild.input.mghdt1g2.fasta).\n",
      "[13:06:59] alignment.py (line 556):     INFO: Merging extension sto file (/tmp/sepp/output._4v3p6ld/root/P_11/A_11_0/FC_11_0_2/hmmalign.results.vjtf6vw9) into base alignment (/tmp/sepp/output._4v3p6ld/root/P_11/A_11_0/hmmbuild.input.mghdt1g2.fasta).\n",
      "[13:07:00] jobs.py (line 131):     INFO: Finished pplacer Job with input: backbone_alignment_file:/tmp/sepp/output._4v3p6ld/root/P_1/pplacer.backbone.vrq46ovl.fasta, tree_file:/tmp/sepp/output._4v3p6ld/root/P_1/pplacer.tree.p0420njg.tre, info_file:/home/lauro/anaconda3/envs/qiime2-2021.11/lib/python3.8/site-packages/picrust2/default_files/prokaryotic/pro_ref/pro_ref.raxml_info, extended alignment:/tmp/sepp/output._4v3p6ld/root/P_1/pplacer.extended.2.4jx3c7j3.fasta, output:/tmp/sepp/output._4v3p6ld/root/P_1/pplacer.extended.2.4jx3c7j3.jplace\n",
      "[13:07:01] jobs.py (line 131):     INFO: Finished pplacer Job with input: backbone_alignment_file:/tmp/sepp/output._4v3p6ld/root/P_1/pplacer.backbone.fatcca2l.fasta, tree_file:/tmp/sepp/output._4v3p6ld/root/P_1/pplacer.tree.236woc3n.tre, info_file:/home/lauro/anaconda3/envs/qiime2-2021.11/lib/python3.8/site-packages/picrust2/default_files/prokaryotic/pro_ref/pro_ref.raxml_info, extended alignment:/tmp/sepp/output._4v3p6ld/root/P_1/pplacer.extended.0.z6v0yq40.fasta, output:/tmp/sepp/output._4v3p6ld/root/P_1/pplacer.extended.0.z6v0yq40.jplace\n",
      "[13:07:07] jobs.py (line 131):     INFO: Finished pplacer Job with input: backbone_alignment_file:/tmp/sepp/output._4v3p6ld/root/P_6/pplacer.backbone.5m1l_51e.fasta, tree_file:/tmp/sepp/output._4v3p6ld/root/P_6/pplacer.tree.xu3ggqwu.tre, info_file:/home/lauro/anaconda3/envs/qiime2-2021.11/lib/python3.8/site-packages/picrust2/default_files/prokaryotic/pro_ref/pro_ref.raxml_info, extended alignment:/tmp/sepp/output._4v3p6ld/root/P_6/pplacer.extended.0.xz2fw4xw.fasta, output:/tmp/sepp/output._4v3p6ld/root/P_6/pplacer.extended.0.xz2fw4xw.jplace\n",
      "[13:07:07] jobs.py (line 131):     INFO: Finished pplacer Job with input: backbone_alignment_file:/tmp/sepp/output._4v3p6ld/root/P_7/pplacer.backbone.v1undm5l.fasta, tree_file:/tmp/sepp/output._4v3p6ld/root/P_7/pplacer.tree.wamzsz0c.tre, info_file:/home/lauro/anaconda3/envs/qiime2-2021.11/lib/python3.8/site-packages/picrust2/default_files/prokaryotic/pro_ref/pro_ref.raxml_info, extended alignment:/tmp/sepp/output._4v3p6ld/root/P_7/pplacer.extended.0.l51ri42l.fasta, output:/tmp/sepp/output._4v3p6ld/root/P_7/pplacer.extended.0.l51ri42l.jplace\n",
      "[13:07:08] jobs.py (line 131):     INFO: Finished pplacer Job with input: backbone_alignment_file:/tmp/sepp/output._4v3p6ld/root/P_6/pplacer.backbone.awjifjj5.fasta, tree_file:/tmp/sepp/output._4v3p6ld/root/P_6/pplacer.tree.gqjoj7yg.tre, info_file:/home/lauro/anaconda3/envs/qiime2-2021.11/lib/python3.8/site-packages/picrust2/default_files/prokaryotic/pro_ref/pro_ref.raxml_info, extended alignment:/tmp/sepp/output._4v3p6ld/root/P_6/pplacer.extended.1.v6h4qvhi.fasta, output:/tmp/sepp/output._4v3p6ld/root/P_6/pplacer.extended.1.v6h4qvhi.jplace\n",
      "[13:07:08] jobs.py (line 131):     INFO: Finished pplacer Job with input: backbone_alignment_file:/tmp/sepp/output._4v3p6ld/root/P_6/pplacer.backbone.yomccmn4.fasta, tree_file:/tmp/sepp/output._4v3p6ld/root/P_6/pplacer.tree.blt8wffm.tre, info_file:/home/lauro/anaconda3/envs/qiime2-2021.11/lib/python3.8/site-packages/picrust2/default_files/prokaryotic/pro_ref/pro_ref.raxml_info, extended alignment:/tmp/sepp/output._4v3p6ld/root/P_6/pplacer.extended.2.03hiph1o.fasta, output:/tmp/sepp/output._4v3p6ld/root/P_6/pplacer.extended.2.03hiph1o.jplace\n",
      "[13:07:08] jobs.py (line 131):     INFO: Finished pplacer Job with input: backbone_alignment_file:/tmp/sepp/output._4v3p6ld/root/P_7/pplacer.backbone.w1yn59wz.fasta, tree_file:/tmp/sepp/output._4v3p6ld/root/P_7/pplacer.tree.uhyct8_3.tre, info_file:/home/lauro/anaconda3/envs/qiime2-2021.11/lib/python3.8/site-packages/picrust2/default_files/prokaryotic/pro_ref/pro_ref.raxml_info, extended alignment:/tmp/sepp/output._4v3p6ld/root/P_7/pplacer.extended.1.ozwwp9mg.fasta, output:/tmp/sepp/output._4v3p6ld/root/P_7/pplacer.extended.1.ozwwp9mg.jplace\n",
      "[13:07:08] jobs.py (line 131):     INFO: Finished pplacer Job with input: backbone_alignment_file:/tmp/sepp/output._4v3p6ld/root/P_7/pplacer.backbone.16hy__qm.fasta, tree_file:/tmp/sepp/output._4v3p6ld/root/P_7/pplacer.tree.r605of8x.tre, info_file:/home/lauro/anaconda3/envs/qiime2-2021.11/lib/python3.8/site-packages/picrust2/default_files/prokaryotic/pro_ref/pro_ref.raxml_info, extended alignment:/tmp/sepp/output._4v3p6ld/root/P_7/pplacer.extended.2.cr62407p.fasta, output:/tmp/sepp/output._4v3p6ld/root/P_7/pplacer.extended.2.cr62407p.jplace\n",
      "[13:07:12] jobs.py (line 131):     INFO: Finished pplacer Job with input: backbone_alignment_file:/tmp/sepp/output._4v3p6ld/root/P_8/pplacer.backbone.3b796qwk.fasta, tree_file:/tmp/sepp/output._4v3p6ld/root/P_8/pplacer.tree.gxziscrs.tre, info_file:/home/lauro/anaconda3/envs/qiime2-2021.11/lib/python3.8/site-packages/picrust2/default_files/prokaryotic/pro_ref/pro_ref.raxml_info, extended alignment:/tmp/sepp/output._4v3p6ld/root/P_8/pplacer.extended.0.bjtml003.fasta, output:/tmp/sepp/output._4v3p6ld/root/P_8/pplacer.extended.0.bjtml003.jplace\n",
      "[13:07:13] jobs.py (line 131):     INFO: Finished pplacer Job with input: backbone_alignment_file:/tmp/sepp/output._4v3p6ld/root/P_8/pplacer.backbone.c2bz6cq9.fasta, tree_file:/tmp/sepp/output._4v3p6ld/root/P_8/pplacer.tree.zaf_oqy0.tre, info_file:/home/lauro/anaconda3/envs/qiime2-2021.11/lib/python3.8/site-packages/picrust2/default_files/prokaryotic/pro_ref/pro_ref.raxml_info, extended alignment:/tmp/sepp/output._4v3p6ld/root/P_8/pplacer.extended.2.e1eh8a5t.fasta, output:/tmp/sepp/output._4v3p6ld/root/P_8/pplacer.extended.2.e1eh8a5t.jplace\n",
      "[13:07:14] jobs.py (line 131):     INFO: Finished pplacer Job with input: backbone_alignment_file:/tmp/sepp/output._4v3p6ld/root/P_8/pplacer.backbone.0xj280nn.fasta, tree_file:/tmp/sepp/output._4v3p6ld/root/P_8/pplacer.tree.cfmiiipv.tre, info_file:/home/lauro/anaconda3/envs/qiime2-2021.11/lib/python3.8/site-packages/picrust2/default_files/prokaryotic/pro_ref/pro_ref.raxml_info, extended alignment:/tmp/sepp/output._4v3p6ld/root/P_8/pplacer.extended.1.pahj1djy.fasta, output:/tmp/sepp/output._4v3p6ld/root/P_8/pplacer.extended.1.pahj1djy.jplace\n",
      "[13:07:14] jobs.py (line 131):     INFO: Finished pplacer Job with input: backbone_alignment_file:/tmp/sepp/output._4v3p6ld/root/P_10/pplacer.backbone.35bv6ct5.fasta, tree_file:/tmp/sepp/output._4v3p6ld/root/P_10/pplacer.tree.7vnjq360.tre, info_file:/home/lauro/anaconda3/envs/qiime2-2021.11/lib/python3.8/site-packages/picrust2/default_files/prokaryotic/pro_ref/pro_ref.raxml_info, extended alignment:/tmp/sepp/output._4v3p6ld/root/P_10/pplacer.extended.1.nux0v_q0.fasta, output:/tmp/sepp/output._4v3p6ld/root/P_10/pplacer.extended.1.nux0v_q0.jplace\n",
      "[13:07:14] jobs.py (line 131):     INFO: Finished pplacer Job with input: backbone_alignment_file:/tmp/sepp/output._4v3p6ld/root/P_10/pplacer.backbone.yjxt938q.fasta, tree_file:/tmp/sepp/output._4v3p6ld/root/P_10/pplacer.tree.g6so4jze.tre, info_file:/home/lauro/anaconda3/envs/qiime2-2021.11/lib/python3.8/site-packages/picrust2/default_files/prokaryotic/pro_ref/pro_ref.raxml_info, extended alignment:/tmp/sepp/output._4v3p6ld/root/P_10/pplacer.extended.2.2z8gwv4w.fasta, output:/tmp/sepp/output._4v3p6ld/root/P_10/pplacer.extended.2.2z8gwv4w.jplace\n",
      "[13:07:19] jobs.py (line 131):     INFO: Finished pplacer Job with input: backbone_alignment_file:/tmp/sepp/output._4v3p6ld/root/P_10/pplacer.backbone.z3oq8b6x.fasta, tree_file:/tmp/sepp/output._4v3p6ld/root/P_10/pplacer.tree.jdjk77do.tre, info_file:/home/lauro/anaconda3/envs/qiime2-2021.11/lib/python3.8/site-packages/picrust2/default_files/prokaryotic/pro_ref/pro_ref.raxml_info, extended alignment:/tmp/sepp/output._4v3p6ld/root/P_10/pplacer.extended.0.tf9jy_mc.fasta, output:/tmp/sepp/output._4v3p6ld/root/P_10/pplacer.extended.0.tf9jy_mc.jplace\n",
      "[13:07:22] jobs.py (line 131):     INFO: Finished pplacer Job with input: backbone_alignment_file:/tmp/sepp/output._4v3p6ld/root/P_9/pplacer.backbone.joapp518.fasta, tree_file:/tmp/sepp/output._4v3p6ld/root/P_9/pplacer.tree.rdxv93kb.tre, info_file:/home/lauro/anaconda3/envs/qiime2-2021.11/lib/python3.8/site-packages/picrust2/default_files/prokaryotic/pro_ref/pro_ref.raxml_info, extended alignment:/tmp/sepp/output._4v3p6ld/root/P_9/pplacer.extended.0.p6_8lzfh.fasta, output:/tmp/sepp/output._4v3p6ld/root/P_9/pplacer.extended.0.p6_8lzfh.jplace\n",
      "[13:07:23] jobs.py (line 131):     INFO: Finished pplacer Job with input: backbone_alignment_file:/tmp/sepp/output._4v3p6ld/root/P_9/pplacer.backbone.09822jr2.fasta, tree_file:/tmp/sepp/output._4v3p6ld/root/P_9/pplacer.tree.4yafvmp1.tre, info_file:/home/lauro/anaconda3/envs/qiime2-2021.11/lib/python3.8/site-packages/picrust2/default_files/prokaryotic/pro_ref/pro_ref.raxml_info, extended alignment:/tmp/sepp/output._4v3p6ld/root/P_9/pplacer.extended.1.ur8e8y7q.fasta, output:/tmp/sepp/output._4v3p6ld/root/P_9/pplacer.extended.1.ur8e8y7q.jplace\n",
      "[13:07:24] jobs.py (line 131):     INFO: Finished pplacer Job with input: backbone_alignment_file:/tmp/sepp/output._4v3p6ld/root/P_9/pplacer.backbone.h06jybwn.fasta, tree_file:/tmp/sepp/output._4v3p6ld/root/P_9/pplacer.tree.e2thikqm.tre, info_file:/home/lauro/anaconda3/envs/qiime2-2021.11/lib/python3.8/site-packages/picrust2/default_files/prokaryotic/pro_ref/pro_ref.raxml_info, extended alignment:/tmp/sepp/output._4v3p6ld/root/P_9/pplacer.extended.2.x0y2daww.fasta, output:/tmp/sepp/output._4v3p6ld/root/P_9/pplacer.extended.2.x0y2daww.jplace\n",
      "[13:07:27] jobs.py (line 131):     INFO: Finished pplacer Job with input: backbone_alignment_file:/tmp/sepp/output._4v3p6ld/root/P_12/pplacer.backbone.56gbrama.fasta, tree_file:/tmp/sepp/output._4v3p6ld/root/P_12/pplacer.tree.mt3vhl5g.tre, info_file:/home/lauro/anaconda3/envs/qiime2-2021.11/lib/python3.8/site-packages/picrust2/default_files/prokaryotic/pro_ref/pro_ref.raxml_info, extended alignment:/tmp/sepp/output._4v3p6ld/root/P_12/pplacer.extended.1.odzvpljt.fasta, output:/tmp/sepp/output._4v3p6ld/root/P_12/pplacer.extended.1.odzvpljt.jplace\n",
      "[13:07:29] jobs.py (line 131):     INFO: Finished pplacer Job with input: backbone_alignment_file:/tmp/sepp/output._4v3p6ld/root/P_12/pplacer.backbone.9wt5rdgp.fasta, tree_file:/tmp/sepp/output._4v3p6ld/root/P_12/pplacer.tree.y0o9r3l_.tre, info_file:/home/lauro/anaconda3/envs/qiime2-2021.11/lib/python3.8/site-packages/picrust2/default_files/prokaryotic/pro_ref/pro_ref.raxml_info, extended alignment:/tmp/sepp/output._4v3p6ld/root/P_12/pplacer.extended.0.qr2rtnpb.fasta, output:/tmp/sepp/output._4v3p6ld/root/P_12/pplacer.extended.0.qr2rtnpb.jplace\n",
      "[13:07:31] jobs.py (line 131):     INFO: Finished pplacer Job with input: backbone_alignment_file:/tmp/sepp/output._4v3p6ld/root/P_13/pplacer.backbone.z9fd208g.fasta, tree_file:/tmp/sepp/output._4v3p6ld/root/P_13/pplacer.tree.a3hukwj1.tre, info_file:/home/lauro/anaconda3/envs/qiime2-2021.11/lib/python3.8/site-packages/picrust2/default_files/prokaryotic/pro_ref/pro_ref.raxml_info, extended alignment:/tmp/sepp/output._4v3p6ld/root/P_13/pplacer.extended.1.w_b9y0dh.fasta, output:/tmp/sepp/output._4v3p6ld/root/P_13/pplacer.extended.1.w_b9y0dh.jplace\n",
      "[13:07:31] jobs.py (line 131):     INFO: Finished pplacer Job with input: backbone_alignment_file:/tmp/sepp/output._4v3p6ld/root/P_13/pplacer.backbone.7n3svtol.fasta, tree_file:/tmp/sepp/output._4v3p6ld/root/P_13/pplacer.tree.78l5eieo.tre, info_file:/home/lauro/anaconda3/envs/qiime2-2021.11/lib/python3.8/site-packages/picrust2/default_files/prokaryotic/pro_ref/pro_ref.raxml_info, extended alignment:/tmp/sepp/output._4v3p6ld/root/P_13/pplacer.extended.2.n8cq4nkw.fasta, output:/tmp/sepp/output._4v3p6ld/root/P_13/pplacer.extended.2.n8cq4nkw.jplace\n",
      "[13:07:33] jobs.py (line 131):     INFO: Finished pplacer Job with input: backbone_alignment_file:/tmp/sepp/output._4v3p6ld/root/P_12/pplacer.backbone.2nt8gd6e.fasta, tree_file:/tmp/sepp/output._4v3p6ld/root/P_12/pplacer.tree.rp7zgj1b.tre, info_file:/home/lauro/anaconda3/envs/qiime2-2021.11/lib/python3.8/site-packages/picrust2/default_files/prokaryotic/pro_ref/pro_ref.raxml_info, extended alignment:/tmp/sepp/output._4v3p6ld/root/P_12/pplacer.extended.2.x9_mzcqb.fasta, output:/tmp/sepp/output._4v3p6ld/root/P_12/pplacer.extended.2.x9_mzcqb.jplace\n",
      "[13:07:34] jobs.py (line 131):     INFO: Finished pplacer Job with input: backbone_alignment_file:/tmp/sepp/output._4v3p6ld/root/P_14/pplacer.backbone.30v_g4ec.fasta, tree_file:/tmp/sepp/output._4v3p6ld/root/P_14/pplacer.tree.qu7br656.tre, info_file:/home/lauro/anaconda3/envs/qiime2-2021.11/lib/python3.8/site-packages/picrust2/default_files/prokaryotic/pro_ref/pro_ref.raxml_info, extended alignment:/tmp/sepp/output._4v3p6ld/root/P_14/pplacer.extended.0.m3t5hcoh.fasta, output:/tmp/sepp/output._4v3p6ld/root/P_14/pplacer.extended.0.m3t5hcoh.jplace\n",
      "[13:07:35] jobs.py (line 131):     INFO: Finished pplacer Job with input: backbone_alignment_file:/tmp/sepp/output._4v3p6ld/root/P_14/pplacer.backbone.odkwis9s.fasta, tree_file:/tmp/sepp/output._4v3p6ld/root/P_14/pplacer.tree.fsfzcq7h.tre, info_file:/home/lauro/anaconda3/envs/qiime2-2021.11/lib/python3.8/site-packages/picrust2/default_files/prokaryotic/pro_ref/pro_ref.raxml_info, extended alignment:/tmp/sepp/output._4v3p6ld/root/P_14/pplacer.extended.1.oz1p180v.fasta, output:/tmp/sepp/output._4v3p6ld/root/P_14/pplacer.extended.1.oz1p180v.jplace\n",
      "[13:07:36] jobs.py (line 131):     INFO: Finished pplacer Job with input: backbone_alignment_file:/tmp/sepp/output._4v3p6ld/root/P_13/pplacer.backbone.weuqp75k.fasta, tree_file:/tmp/sepp/output._4v3p6ld/root/P_13/pplacer.tree.8bhfi2q9.tre, info_file:/home/lauro/anaconda3/envs/qiime2-2021.11/lib/python3.8/site-packages/picrust2/default_files/prokaryotic/pro_ref/pro_ref.raxml_info, extended alignment:/tmp/sepp/output._4v3p6ld/root/P_13/pplacer.extended.0.vta65_9c.fasta, output:/tmp/sepp/output._4v3p6ld/root/P_13/pplacer.extended.0.vta65_9c.jplace\n",
      "[13:07:37] jobs.py (line 131):     INFO: Finished pplacer Job with input: backbone_alignment_file:/tmp/sepp/output._4v3p6ld/root/P_14/pplacer.backbone.jei3e9io.fasta, tree_file:/tmp/sepp/output._4v3p6ld/root/P_14/pplacer.tree.oxcyb24a.tre, info_file:/home/lauro/anaconda3/envs/qiime2-2021.11/lib/python3.8/site-packages/picrust2/default_files/prokaryotic/pro_ref/pro_ref.raxml_info, extended alignment:/tmp/sepp/output._4v3p6ld/root/P_14/pplacer.extended.2.50lmajvs.fasta, output:/tmp/sepp/output._4v3p6ld/root/P_14/pplacer.extended.2.50lmajvs.jplace\n",
      "[13:08:35] jobs.py (line 131):     INFO: Finished pplacer Job with input: backbone_alignment_file:/tmp/sepp/output._4v3p6ld/root/P_11/pplacer.backbone.eg0orqnx.fasta, tree_file:/tmp/sepp/output._4v3p6ld/root/P_11/pplacer.tree.8k5cl8en.tre, info_file:/home/lauro/anaconda3/envs/qiime2-2021.11/lib/python3.8/site-packages/picrust2/default_files/prokaryotic/pro_ref/pro_ref.raxml_info, extended alignment:/tmp/sepp/output._4v3p6ld/root/P_11/pplacer.extended.0.6pe2nnyy.fasta, output:/tmp/sepp/output._4v3p6ld/root/P_11/pplacer.extended.0.6pe2nnyy.jplace\n",
      "[13:08:37] jobs.py (line 131):     INFO: Finished pplacer Job with input: backbone_alignment_file:/tmp/sepp/output._4v3p6ld/root/P_11/pplacer.backbone.9nhz43k6.fasta, tree_file:/tmp/sepp/output._4v3p6ld/root/P_11/pplacer.tree.zg8odzuz.tre, info_file:/home/lauro/anaconda3/envs/qiime2-2021.11/lib/python3.8/site-packages/picrust2/default_files/prokaryotic/pro_ref/pro_ref.raxml_info, extended alignment:/tmp/sepp/output._4v3p6ld/root/P_11/pplacer.extended.1.ssi121l1.fasta, output:/tmp/sepp/output._4v3p6ld/root/P_11/pplacer.extended.1.ssi121l1.jplace\n",
      "[13:08:38] jobs.py (line 131):     INFO: Finished pplacer Job with input: backbone_alignment_file:/tmp/sepp/output._4v3p6ld/root/P_11/pplacer.backbone.5hm07d23.fasta, tree_file:/tmp/sepp/output._4v3p6ld/root/P_11/pplacer.tree._8k8vasv.tre, info_file:/home/lauro/anaconda3/envs/qiime2-2021.11/lib/python3.8/site-packages/picrust2/default_files/prokaryotic/pro_ref/pro_ref.raxml_info, extended alignment:/tmp/sepp/output._4v3p6ld/root/P_11/pplacer.extended.2.e_5dh4wo.fasta, output:/tmp/sepp/output._4v3p6ld/root/P_11/pplacer.extended.2.e_5dh4wo.jplace\n",
      "[13:08:50] jobs.py (line 131):     INFO: Finished jsonmerger Job with input: input:pipe output:/tmp/tmp31zs9tne/picrust2_out/intermediate/place_seqs/sepp_out/output_placement.json\n",
      "[13:08:50] algorithm.py (line 195):     INFO: Current execution Finished in 207 seconds\n",
      "[13:08:50] algorithm.py (line 197):     INFO: All checkpointed executions Finished in 207 cumulative time\n",
      "\n",
      "gappa examine graft --jplace-path /tmp/tmp31zs9tne/picrust2_out/intermediate/place_seqs/sepp_out/output_placement.json --fully-resolve --out-dir /tmp/tmp31zs9tne/picrust2_out/intermediate/place_seqs/sepp_out\n",
      "\n",
      "mv /tmp/tmp31zs9tne/picrust2_out/intermediate/place_seqs/sepp_out/output_placement.newick /tmp/tmp31zs9tne/picrust2_out/out.tre\n",
      "\n",
      "Finished placing sequences on output tree: /tmp/tmp31zs9tne/picrust2_out/out.tre\n",
      "hsp.py --tree /tmp/tmp31zs9tne/picrust2_out/out.tre --output /tmp/tmp31zs9tne/picrust2_out/marker_predicted_and_nsti.tsv.gz --observed_trait_table /home/lauro/anaconda3/envs/qiime2-2021.11/lib/python3.8/site-packages/picrust2/default_files/prokaryotic/16S.txt.gz --hsp_method pic --edge_exponent 0.5 --seed 100 --calculate_NSTI --processes 1 --verbose\n"
     ]
    },
    {
     "name": "stdout",
     "output_type": "stream",
     "text": [
      "\n",
      "\n",
      "\n"
     ]
    },
    {
     "name": "stderr",
     "output_type": "stream",
     "text": [
      "Rscript /home/lauro/anaconda3/envs/qiime2-2021.11/lib/python3.8/site-packages/picrust2/Rscripts/castor_nsti.R /tmp/tmp31zs9tne/picrust2_out/out.tre /tmp/tmp9x47gop6/known_tips.txt /tmp/tmp9x47gop6/nsti_out.txt\n",
      "\n",
      "Rscript /home/lauro/anaconda3/envs/qiime2-2021.11/lib/python3.8/site-packages/picrust2/Rscripts/castor_hsp.R /tmp/tmp31zs9tne/picrust2_out/out.tre /tmp/tmpqsbg1fy_/subset_tab_0 pic 0.5 FALSE FALSE /tmp/tmpk0bj3qtv/predicted_counts.txt /tmp/tmpk0bj3qtv/predicted_ci.txt 100\n",
      "\n",
      "\n",
      "hsp.py --tree /tmp/tmp31zs9tne/picrust2_out/out.tre --output /tmp/tmp31zs9tne/picrust2_out/EC_predicted.tsv.gz --observed_trait_table /home/lauro/anaconda3/envs/qiime2-2021.11/lib/python3.8/site-packages/picrust2/default_files/prokaryotic/ec.txt.gz --hsp_method pic --edge_exponent 0.5 --seed 100 --processes 6 --verbose\n"
     ]
    },
    {
     "name": "stdout",
     "output_type": "stream",
     "text": [
      "\n",
      "\n",
      "\n",
      "\n",
      "\n",
      "\n",
      "\n"
     ]
    },
    {
     "name": "stderr",
     "output_type": "stream",
     "text": [
      "Rscript /home/lauro/anaconda3/envs/qiime2-2021.11/lib/python3.8/site-packages/picrust2/Rscripts/castor_hsp.R /tmp/tmp31zs9tne/picrust2_out/out.tre /tmp/tmpm_ko5krq/subset_tab_5 pic 0.5 FALSE FALSE /tmp/tmpqukcizjz/predicted_counts.txt /tmp/tmpqukcizjz/predicted_ci.txt 100\n",
      "\n",
      "Rscript /home/lauro/anaconda3/envs/qiime2-2021.11/lib/python3.8/site-packages/picrust2/Rscripts/castor_hsp.R /tmp/tmp31zs9tne/picrust2_out/out.tre /tmp/tmpm_ko5krq/subset_tab_4 pic 0.5 FALSE FALSE /tmp/tmpkj6e2j9i/predicted_counts.txt /tmp/tmpkj6e2j9i/predicted_ci.txt 100\n",
      "\n",
      "Rscript /home/lauro/anaconda3/envs/qiime2-2021.11/lib/python3.8/site-packages/picrust2/Rscripts/castor_hsp.R /tmp/tmp31zs9tne/picrust2_out/out.tre /tmp/tmpm_ko5krq/subset_tab_2 pic 0.5 FALSE FALSE /tmp/tmp942c0x_l/predicted_counts.txt /tmp/tmp942c0x_l/predicted_ci.txt 100\n",
      "\n",
      "Rscript /home/lauro/anaconda3/envs/qiime2-2021.11/lib/python3.8/site-packages/picrust2/Rscripts/castor_hsp.R /tmp/tmp31zs9tne/picrust2_out/out.tre /tmp/tmpm_ko5krq/subset_tab_1 pic 0.5 FALSE FALSE /tmp/tmph0q7avn6/predicted_counts.txt /tmp/tmph0q7avn6/predicted_ci.txt 100\n",
      "\n",
      "Rscript /home/lauro/anaconda3/envs/qiime2-2021.11/lib/python3.8/site-packages/picrust2/Rscripts/castor_hsp.R /tmp/tmp31zs9tne/picrust2_out/out.tre /tmp/tmpm_ko5krq/subset_tab_0 pic 0.5 FALSE FALSE /tmp/tmp5we0a189/predicted_counts.txt /tmp/tmp5we0a189/predicted_ci.txt 100\n",
      "\n",
      "Rscript /home/lauro/anaconda3/envs/qiime2-2021.11/lib/python3.8/site-packages/picrust2/Rscripts/castor_hsp.R /tmp/tmp31zs9tne/picrust2_out/out.tre /tmp/tmpm_ko5krq/subset_tab_3 pic 0.5 FALSE FALSE /tmp/tmpjtv0crmt/predicted_counts.txt /tmp/tmpjtv0crmt/predicted_ci.txt 100\n",
      "\n",
      "\n",
      "hsp.py --tree /tmp/tmp31zs9tne/picrust2_out/out.tre --output /tmp/tmp31zs9tne/picrust2_out/KO_predicted.tsv.gz --observed_trait_table /home/lauro/anaconda3/envs/qiime2-2021.11/lib/python3.8/site-packages/picrust2/default_files/prokaryotic/ko.txt.gz --hsp_method pic --edge_exponent 0.5 --seed 100 --processes 6 --verbose\n"
     ]
    },
    {
     "name": "stdout",
     "output_type": "stream",
     "text": [
      "\n",
      "\n",
      "\n",
      "\n",
      "\n",
      "\n",
      "\n",
      "\n",
      "\n",
      "\n",
      "\n",
      "\n",
      "\n",
      "\n",
      "\n",
      "\n",
      "\n",
      "\n",
      "\n",
      "\n",
      "\n",
      "\n",
      "\n"
     ]
    },
    {
     "name": "stderr",
     "output_type": "stream",
     "text": [
      "Rscript /home/lauro/anaconda3/envs/qiime2-2021.11/lib/python3.8/site-packages/picrust2/Rscripts/castor_hsp.R /tmp/tmp31zs9tne/picrust2_out/out.tre /tmp/tmp3ubgpava/subset_tab_1 pic 0.5 FALSE FALSE /tmp/tmpnxk8y7sx/predicted_counts.txt /tmp/tmpnxk8y7sx/predicted_ci.txt 100\n",
      "\n",
      "Rscript /home/lauro/anaconda3/envs/qiime2-2021.11/lib/python3.8/site-packages/picrust2/Rscripts/castor_hsp.R /tmp/tmp31zs9tne/picrust2_out/out.tre /tmp/tmp3ubgpava/subset_tab_8 pic 0.5 FALSE FALSE /tmp/tmpch3etdyv/predicted_counts.txt /tmp/tmpch3etdyv/predicted_ci.txt 100\n",
      "\n",
      "Rscript /home/lauro/anaconda3/envs/qiime2-2021.11/lib/python3.8/site-packages/picrust2/Rscripts/castor_hsp.R /tmp/tmp31zs9tne/picrust2_out/out.tre /tmp/tmp3ubgpava/subset_tab_17 pic 0.5 FALSE FALSE /tmp/tmpj09km4zf/predicted_counts.txt /tmp/tmpj09km4zf/predicted_ci.txt 100\n",
      "\n",
      "Rscript /home/lauro/anaconda3/envs/qiime2-2021.11/lib/python3.8/site-packages/picrust2/Rscripts/castor_hsp.R /tmp/tmp31zs9tne/picrust2_out/out.tre /tmp/tmp3ubgpava/subset_tab_5 pic 0.5 FALSE FALSE /tmp/tmpw8cjc563/predicted_counts.txt /tmp/tmpw8cjc563/predicted_ci.txt 100\n",
      "\n",
      "Rscript /home/lauro/anaconda3/envs/qiime2-2021.11/lib/python3.8/site-packages/picrust2/Rscripts/castor_hsp.R /tmp/tmp31zs9tne/picrust2_out/out.tre /tmp/tmp3ubgpava/subset_tab_7 pic 0.5 FALSE FALSE /tmp/tmp8vv0dm82/predicted_counts.txt /tmp/tmp8vv0dm82/predicted_ci.txt 100\n",
      "\n",
      "Rscript /home/lauro/anaconda3/envs/qiime2-2021.11/lib/python3.8/site-packages/picrust2/Rscripts/castor_hsp.R /tmp/tmp31zs9tne/picrust2_out/out.tre /tmp/tmp3ubgpava/subset_tab_15 pic 0.5 FALSE FALSE /tmp/tmpc4f2_go_/predicted_counts.txt /tmp/tmpc4f2_go_/predicted_ci.txt 100\n",
      "\n",
      "Rscript /home/lauro/anaconda3/envs/qiime2-2021.11/lib/python3.8/site-packages/picrust2/Rscripts/castor_hsp.R /tmp/tmp31zs9tne/picrust2_out/out.tre /tmp/tmp3ubgpava/subset_tab_21 pic 0.5 FALSE FALSE /tmp/tmpjj21vp80/predicted_counts.txt /tmp/tmpjj21vp80/predicted_ci.txt 100\n",
      "\n",
      "Rscript /home/lauro/anaconda3/envs/qiime2-2021.11/lib/python3.8/site-packages/picrust2/Rscripts/castor_hsp.R /tmp/tmp31zs9tne/picrust2_out/out.tre /tmp/tmp3ubgpava/subset_tab_3 pic 0.5 FALSE FALSE /tmp/tmpbq53snho/predicted_counts.txt /tmp/tmpbq53snho/predicted_ci.txt 100\n",
      "\n",
      "Rscript /home/lauro/anaconda3/envs/qiime2-2021.11/lib/python3.8/site-packages/picrust2/Rscripts/castor_hsp.R /tmp/tmp31zs9tne/picrust2_out/out.tre /tmp/tmp3ubgpava/subset_tab_9 pic 0.5 FALSE FALSE /tmp/tmprf63zdk8/predicted_counts.txt /tmp/tmprf63zdk8/predicted_ci.txt 100\n",
      "\n",
      "Rscript /home/lauro/anaconda3/envs/qiime2-2021.11/lib/python3.8/site-packages/picrust2/Rscripts/castor_hsp.R /tmp/tmp31zs9tne/picrust2_out/out.tre /tmp/tmp3ubgpava/subset_tab_14 pic 0.5 FALSE FALSE /tmp/tmp7b4uexer/predicted_counts.txt /tmp/tmp7b4uexer/predicted_ci.txt 100\n",
      "\n",
      "Rscript /home/lauro/anaconda3/envs/qiime2-2021.11/lib/python3.8/site-packages/picrust2/Rscripts/castor_hsp.R /tmp/tmp31zs9tne/picrust2_out/out.tre /tmp/tmp3ubgpava/subset_tab_4 pic 0.5 FALSE FALSE /tmp/tmpfulrt_eb/predicted_counts.txt /tmp/tmpfulrt_eb/predicted_ci.txt 100\n",
      "\n",
      "Rscript /home/lauro/anaconda3/envs/qiime2-2021.11/lib/python3.8/site-packages/picrust2/Rscripts/castor_hsp.R /tmp/tmp31zs9tne/picrust2_out/out.tre /tmp/tmp3ubgpava/subset_tab_11 pic 0.5 FALSE FALSE /tmp/tmpyfkfa9fs/predicted_counts.txt /tmp/tmpyfkfa9fs/predicted_ci.txt 100\n",
      "\n",
      "Rscript /home/lauro/anaconda3/envs/qiime2-2021.11/lib/python3.8/site-packages/picrust2/Rscripts/castor_hsp.R /tmp/tmp31zs9tne/picrust2_out/out.tre /tmp/tmp3ubgpava/subset_tab_12 pic 0.5 FALSE FALSE /tmp/tmpt5pa067i/predicted_counts.txt /tmp/tmpt5pa067i/predicted_ci.txt 100\n",
      "\n",
      "Rscript /home/lauro/anaconda3/envs/qiime2-2021.11/lib/python3.8/site-packages/picrust2/Rscripts/castor_hsp.R /tmp/tmp31zs9tne/picrust2_out/out.tre /tmp/tmp3ubgpava/subset_tab_18 pic 0.5 FALSE FALSE /tmp/tmphidnupw6/predicted_counts.txt /tmp/tmphidnupw6/predicted_ci.txt 100\n",
      "\n",
      "Rscript /home/lauro/anaconda3/envs/qiime2-2021.11/lib/python3.8/site-packages/picrust2/Rscripts/castor_hsp.R /tmp/tmp31zs9tne/picrust2_out/out.tre /tmp/tmp3ubgpava/subset_tab_0 pic 0.5 FALSE FALSE /tmp/tmpx6gdfzf3/predicted_counts.txt /tmp/tmpx6gdfzf3/predicted_ci.txt 100\n",
      "\n",
      "Rscript /home/lauro/anaconda3/envs/qiime2-2021.11/lib/python3.8/site-packages/picrust2/Rscripts/castor_hsp.R /tmp/tmp31zs9tne/picrust2_out/out.tre /tmp/tmp3ubgpava/subset_tab_6 pic 0.5 FALSE FALSE /tmp/tmp993y95hf/predicted_counts.txt /tmp/tmp993y95hf/predicted_ci.txt 100\n",
      "\n",
      "Rscript /home/lauro/anaconda3/envs/qiime2-2021.11/lib/python3.8/site-packages/picrust2/Rscripts/castor_hsp.R /tmp/tmp31zs9tne/picrust2_out/out.tre /tmp/tmp3ubgpava/subset_tab_13 pic 0.5 FALSE FALSE /tmp/tmpu3rm842s/predicted_counts.txt /tmp/tmpu3rm842s/predicted_ci.txt 100\n",
      "\n",
      "Rscript /home/lauro/anaconda3/envs/qiime2-2021.11/lib/python3.8/site-packages/picrust2/Rscripts/castor_hsp.R /tmp/tmp31zs9tne/picrust2_out/out.tre /tmp/tmp3ubgpava/subset_tab_19 pic 0.5 FALSE FALSE /tmp/tmp6wut6mgn/predicted_counts.txt /tmp/tmp6wut6mgn/predicted_ci.txt 100\n",
      "\n",
      "Rscript /home/lauro/anaconda3/envs/qiime2-2021.11/lib/python3.8/site-packages/picrust2/Rscripts/castor_hsp.R /tmp/tmp31zs9tne/picrust2_out/out.tre /tmp/tmp3ubgpava/subset_tab_2 pic 0.5 FALSE FALSE /tmp/tmpg64lzbyu/predicted_counts.txt /tmp/tmpg64lzbyu/predicted_ci.txt 100\n",
      "\n",
      "Rscript /home/lauro/anaconda3/envs/qiime2-2021.11/lib/python3.8/site-packages/picrust2/Rscripts/castor_hsp.R /tmp/tmp31zs9tne/picrust2_out/out.tre /tmp/tmp3ubgpava/subset_tab_10 pic 0.5 FALSE FALSE /tmp/tmpnhij0u40/predicted_counts.txt /tmp/tmpnhij0u40/predicted_ci.txt 100\n",
      "\n",
      "Rscript /home/lauro/anaconda3/envs/qiime2-2021.11/lib/python3.8/site-packages/picrust2/Rscripts/castor_hsp.R /tmp/tmp31zs9tne/picrust2_out/out.tre /tmp/tmp3ubgpava/subset_tab_16 pic 0.5 FALSE FALSE /tmp/tmp4svrud02/predicted_counts.txt /tmp/tmp4svrud02/predicted_ci.txt 100\n",
      "\n",
      "Rscript /home/lauro/anaconda3/envs/qiime2-2021.11/lib/python3.8/site-packages/picrust2/Rscripts/castor_hsp.R /tmp/tmp31zs9tne/picrust2_out/out.tre /tmp/tmp3ubgpava/subset_tab_20 pic 0.5 FALSE FALSE /tmp/tmp4wtow5p1/predicted_counts.txt /tmp/tmp4wtow5p1/predicted_ci.txt 100\n",
      "\n",
      "\n",
      "Running metagenome pipeline for EC\n",
      "metagenome_pipeline.py --input /tmp/tmp31zs9tne/intable.biom --function /tmp/tmp31zs9tne/picrust2_out/EC_predicted.tsv.gz --min_reads 1 --min_samples 1 --out_dir /tmp/tmp31zs9tne/picrust2_out/EC_metagenome_out --max_nsti 2 --marker /tmp/tmp31zs9tne/picrust2_out/marker_predicted_and_nsti.tsv.gz\n"
     ]
    },
    {
     "name": "stdout",
     "output_type": "stream",
     "text": [
      "\n"
     ]
    },
    {
     "name": "stderr",
     "output_type": "stream",
     "text": [
      "All ASVs were below the max NSTI cut-off of 2.0 and so all were retained for downstream analyses.\n",
      "\n",
      "Running metagenome pipeline for KO\n",
      "metagenome_pipeline.py --input /tmp/tmp31zs9tne/intable.biom --function /tmp/tmp31zs9tne/picrust2_out/KO_predicted.tsv.gz --min_reads 1 --min_samples 1 --out_dir /tmp/tmp31zs9tne/picrust2_out/KO_metagenome_out --max_nsti 2 --marker /tmp/tmp31zs9tne/picrust2_out/marker_predicted_and_nsti.tsv.gz\n"
     ]
    },
    {
     "name": "stdout",
     "output_type": "stream",
     "text": [
      "\n",
      "Inferring pathways from predicted EC\n"
     ]
    },
    {
     "name": "stderr",
     "output_type": "stream",
     "text": [
      "All ASVs were below the max NSTI cut-off of 2.0 and so all were retained for downstream analyses.\n",
      "\n",
      "pathway_pipeline.py --input /tmp/tmp31zs9tne/picrust2_out/EC_metagenome_out/pred_metagenome_unstrat.tsv.gz --out_dir /tmp/tmp31zs9tne/picrust2_out/pathways_out --map /home/lauro/anaconda3/envs/qiime2-2021.11/lib/python3.8/site-packages/picrust2/default_files/pathway_mapfiles/metacyc_path2rxn_struc_filt_pro.txt --intermediate /tmp/tmp31zs9tne/picrust2_out/intermediate/pathways --proc 6 --regroup_map /home/lauro/anaconda3/envs/qiime2-2021.11/lib/python3.8/site-packages/picrust2/default_files/pathway_mapfiles/ec_level4_to_metacyc_rxn.tsv --verbose\n"
     ]
    },
    {
     "name": "stderr",
     "output_type": "stream",
     "text": [
      "\n",
      "Wrote predicted pathway abundances and coverages to /tmp/tmp31zs9tne/picrust2_out/pathways_out\n"
     ]
    }
   ],
   "source": [
    "need_pipeline = replace_files\n",
    "need_pipeline |= not (os.path.isfile(ec_path) and os.path.isfile(ko_path) and os.path.isfile(pathway_path))\n",
    "if need_pipeline:\n",
    "    results = picrust2.methods.full_pipeline(\n",
    "        table=tabs, \n",
    "        seq=seqs, \n",
    "        threads=6, \n",
    "        placement_tool='sepp',\n",
    "        hsp_method='pic', \n",
    "        max_nsti=2,\n",
    "        highly_verbose=True\n",
    "    )\n",
    "    ec_metagenome = results.ec_metagenome\n",
    "    ko_metagenome = results.ko_metagenome\n",
    "    pathway_abundance = results.pathway_abundance\n",
    "else:\n",
    "    ec_metagenome = Artifact.load(ec_path)\n",
    "    ko_metagenome = Artifact.load(ko_path)\n",
    "    pathway_abundance = Artifact.load(pathway_path)"
   ]
  },
  {
   "cell_type": "markdown",
   "id": "771308c4",
   "metadata": {
    "papermill": {
     "duration": 0.060299,
     "end_time": "2023-05-29T13:14:27.720615",
     "exception": false,
     "start_time": "2023-05-29T13:14:27.660316",
     "status": "completed"
    },
    "tags": []
   },
   "source": [
    "### Persist created artifacts\n",
    "\n",
    "We will define file paths and persist all artifacts. We start with `.qza` files. We will save the visualization files in sequence as `qzv` files. Finally, we save a `biom`-like file as `tsv` with brief descriptions of all functions."
   ]
  },
  {
   "cell_type": "code",
   "execution_count": 9,
   "id": "c680ab46",
   "metadata": {
    "ExecuteTime": {
     "end_time": "2022-11-09T19:20:47.646444Z",
     "start_time": "2022-11-09T19:20:47.643806Z"
    },
    "execution": {
     "iopub.execute_input": "2023-05-29T13:14:27.846552Z",
     "iopub.status.busy": "2023-05-29T13:14:27.845808Z",
     "iopub.status.idle": "2023-05-29T13:14:27.962042Z",
     "shell.execute_reply": "2023-05-29T13:14:27.961443Z"
    },
    "papermill": {
     "duration": 0.179444,
     "end_time": "2023-05-29T13:14:27.962184",
     "exception": false,
     "start_time": "2023-05-29T13:14:27.782740",
     "status": "completed"
    },
    "tags": []
   },
   "outputs": [],
   "source": [
    "if need_pipeline:\n",
    "    # Export artifact folder\n",
    "    ec_metagenome.export_data(output_dir=ec_path.split('.')[0])\n",
    "    ko_metagenome.export_data(output_dir=ko_path.split('.')[0])\n",
    "    pathway_abundance.export_data(output_dir=pathway_path.split('.')[0])\n",
    "    \n",
    "    # Save artifacts as .qza files\n",
    "    ec_metagenome.save(ec_path)\n",
    "    ko_metagenome.save(ko_path)\n",
    "    pathway_abundance.save(pathway_path)"
   ]
  },
  {
   "cell_type": "code",
   "execution_count": 10,
   "id": "d61ebec3",
   "metadata": {
    "ExecuteTime": {
     "end_time": "2022-11-09T19:20:47.687022Z",
     "start_time": "2022-11-09T19:20:47.647637Z"
    },
    "execution": {
     "iopub.execute_input": "2023-05-29T13:14:28.085303Z",
     "iopub.status.busy": "2023-05-29T13:14:28.084575Z",
     "iopub.status.idle": "2023-05-29T13:14:34.592743Z",
     "shell.execute_reply": "2023-05-29T13:14:34.591892Z"
    },
    "papermill": {
     "duration": 6.572299,
     "end_time": "2023-05-29T13:14:34.592904",
     "exception": false,
     "start_time": "2023-05-29T13:14:28.020605",
     "status": "completed"
    },
    "tags": []
   },
   "outputs": [],
   "source": [
    "need_viz = replace_files\n",
    "need_viz |= not (os.path.isfile(ec_viz_path) and os.path.isfile(ko_viz_path) and os.path.isfile(pathway_viz_path))\n",
    "if need_viz:\n",
    "    # Create visualization artifacts\n",
    "    ec_viz = summarize(table=ec_metagenome, sample_metadata=metadata_qa).visualization\n",
    "    ko_viz = summarize(table=ko_metagenome, sample_metadata=metadata_qa).visualization\n",
    "    path_viz = summarize(table=pathway_abundance, sample_metadata=metadata_qa).visualization\n",
    "\n",
    "    # Save visualization artifacts as .qzv files\n",
    "    ec_viz.save(ec_viz_path)\n",
    "    ko_viz.save(ko_viz_path)\n",
    "    path_viz.save(pathway_viz_path)"
   ]
  },
  {
   "cell_type": "code",
   "execution_count": 11,
   "id": "57f1f4d8",
   "metadata": {
    "ExecuteTime": {
     "end_time": "2022-11-09T19:20:47.704885Z",
     "start_time": "2022-11-09T19:20:47.689312Z"
    },
    "execution": {
     "iopub.execute_input": "2023-05-29T13:14:34.731294Z",
     "iopub.status.busy": "2023-05-29T13:14:34.730765Z",
     "iopub.status.idle": "2023-05-29T13:14:38.080938Z",
     "shell.execute_reply": "2023-05-29T13:14:38.081715Z"
    },
    "papermill": {
     "duration": 3.42988,
     "end_time": "2023-05-29T13:14:38.081908",
     "exception": false,
     "start_time": "2023-05-29T13:14:34.652028",
     "status": "completed"
    },
    "tags": []
   },
   "outputs": [],
   "source": [
    "need_biom = replace_files\n",
    "need_biom |= not (os.path.isfile(ec_fpath) and os.path.isfile(ko_fpath) and os.path.isfile(pathway_fpath))\n",
    "if need_biom:\n",
    "    # Convert artifact to dataframe - transposed\n",
    "    df_pathway = pathway_abundance.view(pd.DataFrame).T\n",
    "    df_ec = ec_metagenome.view(pd.DataFrame).T\n",
    "    df_ko = ko_metagenome.view(pd.DataFrame).T\n",
    "\n",
    "    # Write dataframe to a tsv file\n",
    "    df_pathway.to_csv(pathway_fpath, sep='\\t', index=True)\n",
    "    df_ec.to_csv(ec_fpath, sep='\\t', index=True)\n",
    "    df_ko.to_csv(ko_fpath, sep='\\t', index=True)\n",
    "    \n",
    "    # Put a new column with descriptions of each function's ID\n",
    "    !add_descriptions.py -i {ec_fpath} -m EC -o {ec_desc_fpath}\n",
    "    !add_descriptions.py -i {ko_fpath} -m KO -o {ko_desc_fpath}\n",
    "    !add_descriptions.py -i {pathway_fpath} -m METACYC -o {pathway_desc_fpath}"
   ]
  }
 ],
 "metadata": {
  "celltoolbar": "Edit Metadata",
  "kernelspec": {
   "display_name": "Python 3 (ipykernel)",
   "language": "python",
   "name": "python3"
  },
  "language_info": {
   "codemirror_mode": {
    "name": "ipython",
    "version": 3
   },
   "file_extension": ".py",
   "mimetype": "text/x-python",
   "name": "python",
   "nbconvert_exporter": "python",
   "pygments_lexer": "ipython3",
   "version": "3.8.12"
  },
  "papermill": {
   "default_parameters": {},
   "duration": 638.374722,
   "end_time": "2023-05-29T13:14:39.349110",
   "environment_variables": {},
   "exception": null,
   "input_path": "nb-templates/step-picrust2-analysis.ipynb",
   "output_path": "/home/lauro/nupeb/rede-micro/redemicro-ana-flavia-nutri/experiments/ana-flavia-NCxSTD-NC-trim/nb-executed-steps/step-picrust2-analysis-ana-flavia-NCxSTD-NC-trim.ipynb",
   "parameters": {
    "base_dir": "/home/lauro/nupeb/rede-micro/redemicro-ana-flavia-nutri",
    "class_col": "group-id",
    "classifier_file": "/home/lauro/nupeb/rede-micro/models/silva-138-99-nb-classifier.qza",
    "experiment_name": "ana-flavia-NCxSTD-NC-trim",
    "manifest_file": "/home/lauro/nupeb/rede-micro/redemicro-ana-flavia-nutri/data/raw/manifest/manifest-ana-flavia-NCxSTD-NC.csv",
    "metadata_file": "/home/lauro/nupeb/rede-micro/redemicro-ana-flavia-nutri/data/raw/metadata/metadata-ana-flavia-NCxSTD-NC.tsv",
    "overlap": 12,
    "phred": 20,
    "replace_files": false,
    "threads": 6,
    "trim": {
     "forward_primer": "CCTACGGGRSGCAGCAG",
     "overlap": 8,
     "reverse_primer": "GGACTACHVGGGTWTCTAAT"
    },
    "trunc_f": 0,
    "trunc_r": 0
   },
   "start_time": "2023-05-29T13:04:00.974388",
   "version": "2.3.4"
  }
 },
 "nbformat": 4,
 "nbformat_minor": 5
}