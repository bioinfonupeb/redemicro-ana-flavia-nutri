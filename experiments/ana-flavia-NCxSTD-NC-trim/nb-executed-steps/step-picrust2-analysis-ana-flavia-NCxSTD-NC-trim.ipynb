{
 "cells": [
  {
   "cell_type": "markdown",
   "id": "0e7f2330",
   "metadata": {
    "ExecuteTime": {
     "end_time": "2022-09-22T19:36:33.828188Z",
     "start_time": "2022-09-22T19:36:33.817323Z"
    },
    "papermill": {
     "duration": 0.042627,
     "end_time": "2023-09-04T18:00:19.328730",
     "exception": false,
     "start_time": "2023-09-04T18:00:19.286103",
     "status": "completed"
    },
    "tags": []
   },
   "source": [
    "### STEP : PICRUST2 Analysis\n",
    "\n",
    "\n",
    "\n",
    "#### Example\n",
    "\n",
    "- [PICRUST2 tutorial](https://github.com/picrust/picrust2/wiki/q2-picrust2-Tutorial)\n",
    "- [Limitations](https://github.com/picrust/picrust2/wiki/Key-Limitations)\n",
    "\n",
    "\n",
    "#### Methods\n",
    "- [composition](https://docs.qiime2.org/2022.8/plugins/available/composition/)"
   ]
  },
  {
   "cell_type": "markdown",
   "id": "843debbf",
   "metadata": {
    "papermill": {
     "duration": 0.031052,
     "end_time": "2023-09-04T18:00:19.393176",
     "exception": false,
     "start_time": "2023-09-04T18:00:19.362124",
     "status": "completed"
    },
    "tags": []
   },
   "source": [
    "## Setup and settings"
   ]
  },
  {
   "cell_type": "code",
   "execution_count": 1,
   "id": "965e28e5",
   "metadata": {
    "ExecuteTime": {
     "end_time": "2022-11-09T19:20:47.478806Z",
     "start_time": "2022-11-09T19:20:40.457657Z"
    },
    "execution": {
     "iopub.execute_input": "2023-09-04T18:00:19.461758Z",
     "iopub.status.busy": "2023-09-04T18:00:19.461280Z",
     "iopub.status.idle": "2023-09-04T18:00:26.275438Z",
     "shell.execute_reply": "2023-09-04T18:00:26.276375Z"
    },
    "papermill": {
     "duration": 6.852798,
     "end_time": "2023-09-04T18:00:26.276806",
     "exception": false,
     "start_time": "2023-09-04T18:00:19.424008",
     "status": "completed"
    },
    "tags": []
   },
   "outputs": [],
   "source": [
    "# Importing packages\n",
    "import os\n",
    "import biom\n",
    "import pandas as pd\n",
    "from qiime2 import Artifact\n",
    "from qiime2 import Visualization\n",
    "from qiime2 import Metadata\n",
    "\n",
    "from qiime2.plugins.feature_table.visualizers import summarize\n",
    "\n",
    "from picrust2.pipeline import full_pipeline\n",
    "from picrust2.default import (default_ref_dir, default_tables, default_regroup_map, default_pathway_map)\n",
    "from qiime2.plugins import picrust2\n",
    "from qiime2.plugins.feature_table.methods import filter_samples\n",
    "from qiime2.plugins.feature_table.methods import filter_seqs\n",
    "\n",
    "%matplotlib inline"
   ]
  },
  {
   "cell_type": "markdown",
   "id": "530ceb60",
   "metadata": {
    "papermill": {
     "duration": 0.029642,
     "end_time": "2023-09-04T18:00:26.343183",
     "exception": false,
     "start_time": "2023-09-04T18:00:26.313541",
     "status": "completed"
    },
    "tags": []
   },
   "source": [
    "### Receiving the parameters\n",
    "\n",
    "The following cell can receive parameters using the [papermill](https://papermill.readthedocs.io/en/latest/) tool."
   ]
  },
  {
   "cell_type": "code",
   "execution_count": 2,
   "id": "18d874ea",
   "metadata": {
    "ExecuteTime": {
     "end_time": "2022-11-09T19:20:47.483140Z",
     "start_time": "2022-11-09T19:20:47.480386Z"
    },
    "execution": {
     "iopub.execute_input": "2023-09-04T18:00:26.408832Z",
     "iopub.status.busy": "2023-09-04T18:00:26.408304Z",
     "iopub.status.idle": "2023-09-04T18:00:26.410519Z",
     "shell.execute_reply": "2023-09-04T18:00:26.410968Z"
    },
    "papermill": {
     "duration": 0.037973,
     "end_time": "2023-09-04T18:00:26.411089",
     "exception": false,
     "start_time": "2023-09-04T18:00:26.373116",
     "status": "completed"
    },
    "tags": [
     "parameters"
    ]
   },
   "outputs": [],
   "source": [
    "metadata_file = '/home/lauro/nupeb/rede-micro/redemicro-miliane-nutri/data/raw/metadata/miliane-metadata-CxAC.tsv'\n",
    "base_dir = os.path.join('/', 'home', 'lauro', 'nupeb', 'rede-micro', 'redemicro-miliane-nutri')\n",
    "experiment_name = 'miliane-CxAC-trim'\n",
    "class_col = 'group-id'\n",
    "replace_files = False"
   ]
  },
  {
   "cell_type": "code",
   "execution_count": 3,
   "id": "79750a58",
   "metadata": {
    "execution": {
     "iopub.execute_input": "2023-09-04T18:00:26.479905Z",
     "iopub.status.busy": "2023-09-04T18:00:26.479399Z",
     "iopub.status.idle": "2023-09-04T18:00:26.481772Z",
     "shell.execute_reply": "2023-09-04T18:00:26.482238Z"
    },
    "papermill": {
     "duration": 0.039827,
     "end_time": "2023-09-04T18:00:26.482372",
     "exception": false,
     "start_time": "2023-09-04T18:00:26.442545",
     "status": "completed"
    },
    "tags": [
     "injected-parameters"
    ]
   },
   "outputs": [],
   "source": [
    "# Parameters\n",
    "experiment_name = \"ana-flavia-NCxSTD-NC-trim\"\n",
    "base_dir = \"/home/lauro/nupeb/rede-micro/redemicro-ana-flavia-nutri\"\n",
    "manifest_file = \"/home/lauro/nupeb/rede-micro/redemicro-ana-flavia-nutri/data/raw/manifest/manifest-ana-flavia-NCxSTD-NC.csv\"\n",
    "metadata_file = \"/home/lauro/nupeb/rede-micro/redemicro-ana-flavia-nutri/data/raw/metadata/metadata-ana-flavia-NCxSTD-NC.tsv\"\n",
    "class_col = \"group-id\"\n",
    "classifier_file = \"/home/lauro/nupeb/rede-micro/models/silva-138-99-nb-classifier.qza\"\n",
    "top_n = 20\n",
    "replace_files = False\n",
    "phred = 20\n",
    "trunc_f = 0\n",
    "trunc_r = 0\n",
    "overlap = 12\n",
    "threads = 6\n",
    "trim = {\n",
    "    \"overlap\": 8,\n",
    "    \"forward_primer\": \"CCTACGGGRSGCAGCAG\",\n",
    "    \"reverse_primer\": \"GGACTACHVGGGTWTCTAAT\",\n",
    "}\n"
   ]
  },
  {
   "cell_type": "code",
   "execution_count": 4,
   "id": "f38617d9",
   "metadata": {
    "ExecuteTime": {
     "end_time": "2022-11-09T19:20:47.515942Z",
     "start_time": "2022-11-09T19:20:47.498345Z"
    },
    "execution": {
     "iopub.execute_input": "2023-09-04T18:00:26.549071Z",
     "iopub.status.busy": "2023-09-04T18:00:26.548593Z",
     "iopub.status.idle": "2023-09-04T18:00:26.551178Z",
     "shell.execute_reply": "2023-09-04T18:00:26.550767Z"
    },
    "papermill": {
     "duration": 0.037169,
     "end_time": "2023-09-04T18:00:26.551269",
     "exception": false,
     "start_time": "2023-09-04T18:00:26.514100",
     "status": "completed"
    },
    "tags": []
   },
   "outputs": [],
   "source": [
    "experiment_folder = os.path.abspath(os.path.join(base_dir, 'experiments', experiment_name))\n",
    "img_folder = os.path.abspath(os.path.join(experiment_folder, 'imgs'))"
   ]
  },
  {
   "cell_type": "markdown",
   "id": "ea9b90fb",
   "metadata": {
    "papermill": {
     "duration": 0.029687,
     "end_time": "2023-09-04T18:00:26.612395",
     "exception": false,
     "start_time": "2023-09-04T18:00:26.582708",
     "status": "completed"
    },
    "tags": []
   },
   "source": [
    "### Defining names, paths and flags"
   ]
  },
  {
   "cell_type": "code",
   "execution_count": 5,
   "id": "45727eef",
   "metadata": {
    "ExecuteTime": {
     "end_time": "2022-11-09T19:20:47.527937Z",
     "start_time": "2022-11-09T19:20:47.517696Z"
    },
    "execution": {
     "iopub.execute_input": "2023-09-04T18:00:26.675395Z",
     "iopub.status.busy": "2023-09-04T18:00:26.674690Z",
     "iopub.status.idle": "2023-09-04T18:00:26.677793Z",
     "shell.execute_reply": "2023-09-04T18:00:26.678184Z"
    },
    "papermill": {
     "duration": 0.036603,
     "end_time": "2023-09-04T18:00:26.678293",
     "exception": false,
     "start_time": "2023-09-04T18:00:26.641690",
     "status": "completed"
    },
    "tags": []
   },
   "outputs": [
    {
     "name": "stdout",
     "output_type": "stream",
     "text": [
      "New picrust2-artifacts folder path created: /home/lauro/nupeb/rede-micro/redemicro-ana-flavia-nutri/experiments/ana-flavia-NCxSTD-NC-trim/picrust2\n"
     ]
    }
   ],
   "source": [
    "# QIIME2 Artifacts folder\n",
    "qiime_folder = os.path.join(experiment_folder, 'qiime-artifacts')\n",
    "\n",
    "# Input - DADA2 Artifacts\n",
    "dada2_tabs_path = os.path.join(qiime_folder, 'dada2-tabs.qza')\n",
    "dada2_reqs_path = os.path.join(qiime_folder, 'dada2-reps.qza')\n",
    "\n",
    "# PICRUST@ folder\n",
    "picrust2_folder = os.path.abspath(os.path.join(experiment_folder, 'picrust2'))\n",
    "\n",
    "# Create path if it not exist\n",
    "if not os.path.isdir(picrust2_folder):\n",
    "    os.makedirs(picrust2_folder)\n",
    "    print(f'New picrust2-artifacts folder path created: {picrust2_folder}')"
   ]
  },
  {
   "cell_type": "code",
   "execution_count": 6,
   "id": "4903e645",
   "metadata": {
    "ExecuteTime": {
     "end_time": "2022-11-09T19:20:47.539993Z",
     "start_time": "2022-11-09T19:20:47.529653Z"
    },
    "execution": {
     "iopub.execute_input": "2023-09-04T18:00:26.747090Z",
     "iopub.status.busy": "2023-09-04T18:00:26.746573Z",
     "iopub.status.idle": "2023-09-04T18:00:26.748690Z",
     "shell.execute_reply": "2023-09-04T18:00:26.749109Z"
    },
    "papermill": {
     "duration": 0.039691,
     "end_time": "2023-09-04T18:00:26.749222",
     "exception": false,
     "start_time": "2023-09-04T18:00:26.709531",
     "status": "completed"
    },
    "tags": []
   },
   "outputs": [],
   "source": [
    "# Define paths for metagenome function artifacts\n",
    "ec_path = os.path.join(picrust2_folder, 'ec-pred-metagen.qza')\n",
    "ko_path = os.path.join(picrust2_folder, 'ko-pred-metagen.qza')\n",
    "pathway_path = os.path.join(picrust2_folder, 'pathway-abundance.qza')\n",
    "\n",
    "# Define paths for metagenome function visualization artifacts\n",
    "ec_viz_path = ec_path[:-1]+'v'\n",
    "ko_viz_path = ko_path[:-1]+'v'\n",
    "pathway_viz_path = pathway_path[:-1]+'v'\n",
    "\n",
    "# Define paths for biom -> tsv files (function X sample)\n",
    "pathway_fpath = os.path.join(picrust2_folder, 'pathway.tsv')\n",
    "ec_fpath = os.path.join(picrust2_folder, 'ec.tsv')\n",
    "ko_fpath = os.path.join(picrust2_folder, 'ko.tsv')\n",
    "\n",
    "# Define paths for biom -> tsv files (function X sample) - with descriptions\n",
    "pathway_desc_fpath = os.path.join(picrust2_folder, 'pathway-desc.tsv')\n",
    "ec_desc_fpath = os.path.join(picrust2_folder, 'ec-desc.tsv')\n",
    "ko_desc_fpath = os.path.join(picrust2_folder, 'ko-desc.tsv')"
   ]
  },
  {
   "cell_type": "markdown",
   "id": "0999a1b2",
   "metadata": {
    "papermill": {
     "duration": 0.026217,
     "end_time": "2023-09-04T18:00:26.802930",
     "exception": false,
     "start_time": "2023-09-04T18:00:26.776713",
     "status": "completed"
    },
    "tags": []
   },
   "source": [
    "## Step execution\n",
    "\n",
    "### Load input files\n",
    "\n",
    "This Step import the QIIME2 `FeatureTable[Frequency]` Artifact and the `Metadata` file."
   ]
  },
  {
   "cell_type": "code",
   "execution_count": 7,
   "id": "8f299d1a",
   "metadata": {
    "ExecuteTime": {
     "end_time": "2022-11-09T19:20:47.610793Z",
     "start_time": "2022-11-09T19:20:47.541540Z"
    },
    "execution": {
     "iopub.execute_input": "2023-09-04T18:00:26.858947Z",
     "iopub.status.busy": "2023-09-04T18:00:26.858524Z",
     "iopub.status.idle": "2023-09-04T18:00:26.884951Z",
     "shell.execute_reply": "2023-09-04T18:00:26.885589Z"
    },
    "papermill": {
     "duration": 0.056203,
     "end_time": "2023-09-04T18:00:26.885780",
     "exception": false,
     "start_time": "2023-09-04T18:00:26.829577",
     "status": "completed"
    },
    "tags": []
   },
   "outputs": [],
   "source": [
    "#Load Metadata\n",
    "metadata_qa = Metadata.load(metadata_file)\n",
    "\n",
    "#Load FeatureTable[Frequency]\n",
    "tabs = Artifact.load(dada2_tabs_path)\n",
    "\n",
    "#Load FeatureTable[Sequence]\n",
    "seqs = Artifact.load(dada2_reqs_path)"
   ]
  },
  {
   "cell_type": "code",
   "execution_count": 8,
   "id": "9b699dee",
   "metadata": {
    "execution": {
     "iopub.execute_input": "2023-09-04T18:00:26.948105Z",
     "iopub.status.busy": "2023-09-04T18:00:26.947681Z",
     "iopub.status.idle": "2023-09-04T18:00:27.793908Z",
     "shell.execute_reply": "2023-09-04T18:00:27.794867Z"
    },
    "papermill": {
     "duration": 0.877379,
     "end_time": "2023-09-04T18:00:27.795150",
     "exception": false,
     "start_time": "2023-09-04T18:00:26.917771",
     "status": "completed"
    },
    "tags": []
   },
   "outputs": [],
   "source": [
    "# Filter FeatureTable[Frequency | RelativeFrequency | PresenceAbsence | Composition] based on Metadata sample ID values\n",
    "tabs = filter_samples(\n",
    "    table=tabs,\n",
    "    metadata=metadata_qa,\n",
    ").filtered_table\n",
    "# Filter SampleData[SequencesWithQuality | PairedEndSequencesWithQuality | JoinedSequencesWithQuality] based on Metadata sample ID values; returns FeatureData[Sequence | AlignedSequence]\n",
    "seqs = filter_seqs(\n",
    "    data=seqs,\n",
    "    table=tabs,\n",
    ").filtered_data"
   ]
  },
  {
   "cell_type": "markdown",
   "id": "4f1b06d4",
   "metadata": {
    "papermill": {
     "duration": 0.027891,
     "end_time": "2023-09-04T18:00:27.856903",
     "exception": false,
     "start_time": "2023-09-04T18:00:27.829012",
     "status": "completed"
    },
    "tags": []
   },
   "source": [
    "### Execute full pipelie\n",
    "\n",
    "The entire PICRUSt2 pipeline will be run using a single method, called `picrust2.methods.full_pipeline`. This method will run each of the 4 key steps: \n",
    "\n",
    "1. sequence placement\n",
    "2. hidden-state prediction of genomes\n",
    "3. metagenome prediction\n",
    "4. pathway-level predictions.\n",
    "\n",
    "More information on [Documentation](https://github.com/picrust/picrust2/wiki/Full-pipeline-script)."
   ]
  },
  {
   "cell_type": "code",
   "execution_count": 9,
   "id": "2c4f3874",
   "metadata": {
    "ExecuteTime": {
     "end_time": "2022-11-09T19:20:47.642417Z",
     "start_time": "2022-11-09T19:20:47.612547Z"
    },
    "execution": {
     "iopub.execute_input": "2023-09-04T18:00:27.918756Z",
     "iopub.status.busy": "2023-09-04T18:00:27.918308Z",
     "iopub.status.idle": "2023-09-04T18:07:41.027829Z",
     "shell.execute_reply": "2023-09-04T18:07:41.028243Z"
    },
    "papermill": {
     "duration": 433.144484,
     "end_time": "2023-09-04T18:07:41.028389",
     "exception": false,
     "start_time": "2023-09-04T18:00:27.883905",
     "status": "completed"
    },
    "scrolled": true,
    "tags": []
   },
   "outputs": [
    {
     "name": "stderr",
     "output_type": "stream",
     "text": [
      "1083 of 1083 sequence ids overlap between input table and FASTA.\n",
      "\n",
      "Placing sequences onto reference tree\n",
      "place_seqs.py --study_fasta /tmp/tmp_65p7qqi/seqs.fna --ref_dir /home/lauro/anaconda3/envs/qiime2-2021.11/lib/python3.8/site-packages/picrust2/default_files/prokaryotic/pro_ref --out_tree /tmp/tmp_65p7qqi/picrust2_out/out.tre --processes 6 --intermediate /tmp/tmp_65p7qqi/picrust2_out/intermediate/place_seqs --min_align 0.8 --chunk_size 5000 --placement_tool sepp --verbose\n"
     ]
    },
    {
     "name": "stdout",
     "output_type": "stream",
     "text": [
      "\n",
      "['run_sepp.py', '--tree', '/home/lauro/anaconda3/envs/qiime2-2021.11/lib/python3.8/site-packages/picrust2/default_files/prokaryotic/pro_ref/pro_ref.tre', '--raxml', '/home/lauro/anaconda3/envs/qiime2-2021.11/lib/python3.8/site-packages/picrust2/default_files/prokaryotic/pro_ref/pro_ref.raxml_info', '--cpu', '6', '--molecule', 'dna', '--outdir', '/tmp/tmp_65p7qqi/picrust2_out/intermediate/place_seqs/sepp_out', '-seed', '297834', '--alignment', '/home/lauro/anaconda3/envs/qiime2-2021.11/lib/python3.8/site-packages/picrust2/default_files/prokaryotic/pro_ref/pro_ref.fna', '--fragment', '/tmp/tmp_65p7qqi/picrust2_out/intermediate/place_seqs/study_seqs_filtered.fasta']\n",
      "\n",
      "                                              ....      ....  \n",
      "                                             '' '||.   .||'   \n",
      "                                                  ||  ||      \n",
      "                                                  '|.|'       \n",
      "     ...'   ....   ... ...  ... ...   ....        .|'|.       \n",
      "    |  ||  '' .||   ||'  ||  ||'  || '' .||      .|'  ||      \n",
      "     |''   .|' ||   ||    |  ||    | .|' ||     .|'|.  ||     \n",
      "    '....  '|..'|'. ||...'   ||...'  '|..'|.    '||'    ||:.  \n",
      "    '....'          ||       ||                               \n",
      "                   ''''     ''''   v0.6.1 (c) 2017-2020\n",
      "                                   by Lucas Czech and Pierre Barbera\n",
      "\n",
      "Invocation:                        gappa examine graft --jplace-path /tmp/tmp_65p7qqi/picrust2_out/intermediate/place_seqs/sepp_out/output_placement.json --fully-resolve --out-dir /tmp/tmp_65p7qqi/picrust2_out/intermediate/place_seqs/sepp_out\n",
      "Command:                           gappa examine graft\n",
      "\n",
      "Input:\n",
      "  --jplace-path                    /tmp/tmp_65p7qqi/picrust2_out/intermediate/place_seqs/sepp_out/output_placement.json\n",
      "\n",
      "Settings:\n",
      "  --fully-resolve                  true\n",
      "  --name-prefix\n",
      "\n",
      "Output:\n",
      "  --out-dir                        /tmp/tmp_65p7qqi/picrust2_out/intermediate/place_seqs/sepp_out\n",
      "  --file-prefix                    \n",
      "  --file-suffix\n",
      "\n",
      "Global Options:\n",
      "  --allow-file-overwriting         false\n",
      "  --verbose                        false\n",
      "  --threads                        4\n",
      "  --log-file\n",
      "\n",
      "Run the following command to get the references that need to be cited:\n",
      "`gappa tools citation Czech2020-genesis-and-gappa`\n",
      "\n",
      "Started 2023-09-04 18:03:46\n",
      "\n",
      "Found 1 jplace file\n",
      "\n",
      "Finished 2023-09-04 18:03:46\n",
      "\n",
      "\n"
     ]
    },
    {
     "name": "stderr",
     "output_type": "stream",
     "text": [
      "hmmalign --trim --dna --mapali /home/lauro/anaconda3/envs/qiime2-2021.11/lib/python3.8/site-packages/picrust2/default_files/prokaryotic/pro_ref/pro_ref.fna --informat FASTA -o /tmp/tmp_65p7qqi/picrust2_out/intermediate/place_seqs/query_align.stockholm /home/lauro/anaconda3/envs/qiime2-2021.11/lib/python3.8/site-packages/picrust2/default_files/prokaryotic/pro_ref/pro_ref.hmm /tmp/tmp_65p7qqi/seqs.fna\n",
      "\n",
      "Warning - 1 input sequences aligned poorly to reference sequences (--min_align option specified a minimum proportion of 0.8 aligning to reference sequences). These input sequences will not be placed and will be excluded from downstream steps.\n",
      "\n",
      "This is the set of poorly aligned input sequences to be excluded: 6fed430d2c42021ed5fa531745f38fba\n",
      "\n",
      "Raw input sequences ranged in length from 253 to 430\n",
      "\n",
      "run_sepp.py --tree /home/lauro/anaconda3/envs/qiime2-2021.11/lib/python3.8/site-packages/picrust2/default_files/prokaryotic/pro_ref/pro_ref.tre --raxml /home/lauro/anaconda3/envs/qiime2-2021.11/lib/python3.8/site-packages/picrust2/default_files/prokaryotic/pro_ref/pro_ref.raxml_info --cpu 6 --molecule dna --outdir /tmp/tmp_65p7qqi/picrust2_out/intermediate/place_seqs/sepp_out -seed 297834 --alignment /home/lauro/anaconda3/envs/qiime2-2021.11/lib/python3.8/site-packages/picrust2/default_files/prokaryotic/pro_ref/pro_ref.fna --fragment /tmp/tmp_65p7qqi/picrust2_out/intermediate/place_seqs/study_seqs_filtered.fasta\n",
      "[18:01:14] config.py (line 349):     INFO: Seed number: 297834\n",
      "[18:01:14] algorithm.py (line 258):     INFO: Reading input alignment: <_io.TextIOWrapper name='/home/lauro/anaconda3/envs/qiime2-2021.11/lib/python3.8/site-packages/picrust2/default_files/prokaryotic/pro_ref/pro_ref.fna' mode='r' encoding='UTF-8'>\n",
      "[18:01:14] algorithm.py (line 265):     INFO: Reading input tree: <_io.TextIOWrapper name='/home/lauro/anaconda3/envs/qiime2-2021.11/lib/python3.8/site-packages/picrust2/default_files/prokaryotic/pro_ref/pro_ref.tre' mode='r' encoding='UTF-8'>\n",
      "[18:01:15] algorithm.py (line 238):     INFO: Decomposition Sizes are set to alignment: 2000 placement: 2000\n",
      "[18:01:17] exhaustive.py (line 350):     INFO: Breaking into 16 placement subsets.\n",
      "[18:01:19] exhaustive.py (line 397):     INFO: Breaking into 16 alignment subsets.\n",
      "[18:01:19] filemgr.py (line 129):     INFO: Root temp directory built: /tmp/sepp/output.b3o4cmw2\n",
      "[18:01:19] exhaustive.py (line 412):     INFO: Breaking each alignment subset into 3 fragment chunks.\n",
      "[18:01:20] jobs.py (line 131):     INFO: Finished hmmbuild Job with input: /tmp/sepp/output.b3o4cmw2/root/P_1/A_1_0/hmmbuild.input.if11cdyq.fasta\n",
      "[18:01:20] jobs.py (line 131):     INFO: Finished hmmbuild Job with input: /tmp/sepp/output.b3o4cmw2/root/P_2/A_2_0/hmmbuild.input.r2922v4a.fasta\n",
      "[18:01:20] jobs.py (line 131):     INFO: Finished hmmbuild Job with input: /tmp/sepp/output.b3o4cmw2/root/P_4/A_4_0/hmmbuild.input.px7kb6vu.fasta\n",
      "[18:01:21] jobs.py (line 131):     INFO: Finished hmmbuild Job with input: /tmp/sepp/output.b3o4cmw2/root/P_0/A_0_0/hmmbuild.input.7msax89t.fasta\n",
      "[18:01:21] jobs.py (line 131):     INFO: Finished hmmbuild Job with input: /tmp/sepp/output.b3o4cmw2/root/P_5/A_5_0/hmmbuild.input.nnzekmbg.fasta\n",
      "[18:01:21] jobs.py (line 131):     INFO: Finished hmmbuild Job with input: /tmp/sepp/output.b3o4cmw2/root/P_3/A_3_0/hmmbuild.input.95amwptl.fasta\n",
      "[18:01:21] jobs.py (line 131):     INFO: Finished hmmbuild Job with input: /tmp/sepp/output.b3o4cmw2/root/P_9/A_9_0/hmmbuild.input.u26fbq47.fasta\n",
      "[18:01:21] jobs.py (line 131):     INFO: Finished hmmbuild Job with input: /tmp/sepp/output.b3o4cmw2/root/P_7/A_7_0/hmmbuild.input.7ep62br2.fasta\n",
      "[18:01:21] jobs.py (line 131):     INFO: Finished hmmbuild Job with input: /tmp/sepp/output.b3o4cmw2/root/P_6/A_6_0/hmmbuild.input.gjw3c3t5.fasta\n",
      "[18:01:21] jobs.py (line 131):     INFO: Finished hmmbuild Job with input: /tmp/sepp/output.b3o4cmw2/root/P_10/A_10_0/hmmbuild.input.2e9ui8sn.fasta\n",
      "[18:01:21] jobs.py (line 131):     INFO: Finished hmmbuild Job with input: /tmp/sepp/output.b3o4cmw2/root/P_8/A_8_0/hmmbuild.input.7pvvsm14.fasta\n",
      "[18:01:21] jobs.py (line 131):     INFO: Finished hmmbuild Job with input: /tmp/sepp/output.b3o4cmw2/root/P_11/A_11_0/hmmbuild.input.nu87pha0.fasta\n",
      "[18:01:22] jobs.py (line 131):     INFO: Finished hmmbuild Job with input: /tmp/sepp/output.b3o4cmw2/root/P_14/A_14_0/hmmbuild.input.hjy_takt.fasta\n",
      "[18:01:22] jobs.py (line 131):     INFO: Finished hmmbuild Job with input: /tmp/sepp/output.b3o4cmw2/root/P_12/A_12_0/hmmbuild.input.5ere5o6e.fasta\n",
      "[18:01:22] jobs.py (line 131):     INFO: Finished hmmbuild Job with input: /tmp/sepp/output.b3o4cmw2/root/P_13/A_13_0/hmmbuild.input.w9azz4ys.fasta\n",
      "[18:01:22] jobs.py (line 131):     INFO: Finished hmmbuild Job with input: /tmp/sepp/output.b3o4cmw2/root/P_15/A_15_0/hmmbuild.input.9q33_jnx.fasta\n",
      "[18:01:26] jobs.py (line 131):     INFO: Finished hmmsearch Job with input: model:/tmp/sepp/output.b3o4cmw2/root/P_1/A_1_0/hmmbuild.model.r2q88mm2, fragments:/tmp/sepp/output.b3o4cmw2/fragment_chunks/fragment_chunk_11iay5nn7.fasta, elim:99999999, filter:False, output:/tmp/sepp/output.b3o4cmw2/root/P_1/A_1_0/FC_1_0_1/hmmsearch.results.e21qo96r\n",
      "[18:01:27] jobs.py (line 131):     INFO: Finished hmmsearch Job with input: model:/tmp/sepp/output.b3o4cmw2/root/P_2/A_2_0/hmmbuild.model.qenou4en, fragments:/tmp/sepp/output.b3o4cmw2/fragment_chunks/fragment_chunk_11iay5nn7.fasta, elim:99999999, filter:False, output:/tmp/sepp/output.b3o4cmw2/root/P_2/A_2_0/FC_2_0_1/hmmsearch.results.hm4z9lat\n",
      "[18:01:29] jobs.py (line 131):     INFO: Finished hmmsearch Job with input: model:/tmp/sepp/output.b3o4cmw2/root/P_1/A_1_0/hmmbuild.model.r2q88mm2, fragments:/tmp/sepp/output.b3o4cmw2/fragment_chunks/fragment_chunk_0320qlxob.fasta, elim:99999999, filter:False, output:/tmp/sepp/output.b3o4cmw2/root/P_1/A_1_0/FC_1_0_0/hmmsearch.results.oi2s0ed0\n",
      "[18:01:30] jobs.py (line 131):     INFO: Finished hmmsearch Job with input: model:/tmp/sepp/output.b3o4cmw2/root/P_1/A_1_0/hmmbuild.model.r2q88mm2, fragments:/tmp/sepp/output.b3o4cmw2/fragment_chunks/fragment_chunk_25mptdk9g.fasta, elim:99999999, filter:False, output:/tmp/sepp/output.b3o4cmw2/root/P_1/A_1_0/FC_1_0_2/hmmsearch.results.saz8iuqn\n",
      "[18:01:30] jobs.py (line 131):     INFO: Finished hmmsearch Job with input: model:/tmp/sepp/output.b3o4cmw2/root/P_2/A_2_0/hmmbuild.model.qenou4en, fragments:/tmp/sepp/output.b3o4cmw2/fragment_chunks/fragment_chunk_25mptdk9g.fasta, elim:99999999, filter:False, output:/tmp/sepp/output.b3o4cmw2/root/P_2/A_2_0/FC_2_0_2/hmmsearch.results.0_3e3nkf\n",
      "[18:01:30] jobs.py (line 131):     INFO: Finished hmmsearch Job with input: model:/tmp/sepp/output.b3o4cmw2/root/P_2/A_2_0/hmmbuild.model.qenou4en, fragments:/tmp/sepp/output.b3o4cmw2/fragment_chunks/fragment_chunk_0320qlxob.fasta, elim:99999999, filter:False, output:/tmp/sepp/output.b3o4cmw2/root/P_2/A_2_0/FC_2_0_0/hmmsearch.results.boegk0uj\n",
      "[18:01:31] jobs.py (line 131):     INFO: Finished hmmsearch Job with input: model:/tmp/sepp/output.b3o4cmw2/root/P_4/A_4_0/hmmbuild.model.c8nhilve, fragments:/tmp/sepp/output.b3o4cmw2/fragment_chunks/fragment_chunk_0320qlxob.fasta, elim:99999999, filter:False, output:/tmp/sepp/output.b3o4cmw2/root/P_4/A_4_0/FC_4_0_0/hmmsearch.results.yib9xdrw\n",
      "[18:01:34] jobs.py (line 131):     INFO: Finished hmmsearch Job with input: model:/tmp/sepp/output.b3o4cmw2/root/P_4/A_4_0/hmmbuild.model.c8nhilve, fragments:/tmp/sepp/output.b3o4cmw2/fragment_chunks/fragment_chunk_11iay5nn7.fasta, elim:99999999, filter:False, output:/tmp/sepp/output.b3o4cmw2/root/P_4/A_4_0/FC_4_0_1/hmmsearch.results.v4aawsjn\n",
      "[18:01:35] jobs.py (line 131):     INFO: Finished hmmsearch Job with input: model:/tmp/sepp/output.b3o4cmw2/root/P_0/A_0_0/hmmbuild.model.xhmrl95q, fragments:/tmp/sepp/output.b3o4cmw2/fragment_chunks/fragment_chunk_0320qlxob.fasta, elim:99999999, filter:False, output:/tmp/sepp/output.b3o4cmw2/root/P_0/A_0_0/FC_0_0_0/hmmsearch.results.z5gwbov4\n",
      "[18:01:36] jobs.py (line 131):     INFO: Finished hmmsearch Job with input: model:/tmp/sepp/output.b3o4cmw2/root/P_0/A_0_0/hmmbuild.model.xhmrl95q, fragments:/tmp/sepp/output.b3o4cmw2/fragment_chunks/fragment_chunk_11iay5nn7.fasta, elim:99999999, filter:False, output:/tmp/sepp/output.b3o4cmw2/root/P_0/A_0_0/FC_0_0_1/hmmsearch.results.uki_gaba\n",
      "[18:01:37] jobs.py (line 131):     INFO: Finished hmmsearch Job with input: model:/tmp/sepp/output.b3o4cmw2/root/P_4/A_4_0/hmmbuild.model.c8nhilve, fragments:/tmp/sepp/output.b3o4cmw2/fragment_chunks/fragment_chunk_25mptdk9g.fasta, elim:99999999, filter:False, output:/tmp/sepp/output.b3o4cmw2/root/P_4/A_4_0/FC_4_0_2/hmmsearch.results.e6h6kf_e\n",
      "[18:01:38] jobs.py (line 131):     INFO: Finished hmmsearch Job with input: model:/tmp/sepp/output.b3o4cmw2/root/P_0/A_0_0/hmmbuild.model.xhmrl95q, fragments:/tmp/sepp/output.b3o4cmw2/fragment_chunks/fragment_chunk_25mptdk9g.fasta, elim:99999999, filter:False, output:/tmp/sepp/output.b3o4cmw2/root/P_0/A_0_0/FC_0_0_2/hmmsearch.results.26zpse52\n",
      "[18:01:39] jobs.py (line 131):     INFO: Finished hmmsearch Job with input: model:/tmp/sepp/output.b3o4cmw2/root/P_5/A_5_0/hmmbuild.model.re8s3mjh, fragments:/tmp/sepp/output.b3o4cmw2/fragment_chunks/fragment_chunk_0320qlxob.fasta, elim:99999999, filter:False, output:/tmp/sepp/output.b3o4cmw2/root/P_5/A_5_0/FC_5_0_0/hmmsearch.results.pnse1lgt\n",
      "[18:01:41] jobs.py (line 131):     INFO: Finished hmmsearch Job with input: model:/tmp/sepp/output.b3o4cmw2/root/P_5/A_5_0/hmmbuild.model.re8s3mjh, fragments:/tmp/sepp/output.b3o4cmw2/fragment_chunks/fragment_chunk_11iay5nn7.fasta, elim:99999999, filter:False, output:/tmp/sepp/output.b3o4cmw2/root/P_5/A_5_0/FC_5_0_1/hmmsearch.results.xo7fs9qu\n",
      "[18:01:41] jobs.py (line 131):     INFO: Finished hmmsearch Job with input: model:/tmp/sepp/output.b3o4cmw2/root/P_5/A_5_0/hmmbuild.model.re8s3mjh, fragments:/tmp/sepp/output.b3o4cmw2/fragment_chunks/fragment_chunk_25mptdk9g.fasta, elim:99999999, filter:False, output:/tmp/sepp/output.b3o4cmw2/root/P_5/A_5_0/FC_5_0_2/hmmsearch.results.whsvz8l6\n",
      "[18:01:43] jobs.py (line 131):     INFO: Finished hmmsearch Job with input: model:/tmp/sepp/output.b3o4cmw2/root/P_3/A_3_0/hmmbuild.model.awa1jsp1, fragments:/tmp/sepp/output.b3o4cmw2/fragment_chunks/fragment_chunk_11iay5nn7.fasta, elim:99999999, filter:False, output:/tmp/sepp/output.b3o4cmw2/root/P_3/A_3_0/FC_3_0_1/hmmsearch.results.agvxwokr\n",
      "[18:01:43] jobs.py (line 131):     INFO: Finished hmmsearch Job with input: model:/tmp/sepp/output.b3o4cmw2/root/P_3/A_3_0/hmmbuild.model.awa1jsp1, fragments:/tmp/sepp/output.b3o4cmw2/fragment_chunks/fragment_chunk_0320qlxob.fasta, elim:99999999, filter:False, output:/tmp/sepp/output.b3o4cmw2/root/P_3/A_3_0/FC_3_0_0/hmmsearch.results.ebe5ulgb\n",
      "[18:01:45] jobs.py (line 131):     INFO: Finished hmmsearch Job with input: model:/tmp/sepp/output.b3o4cmw2/root/P_3/A_3_0/hmmbuild.model.awa1jsp1, fragments:/tmp/sepp/output.b3o4cmw2/fragment_chunks/fragment_chunk_25mptdk9g.fasta, elim:99999999, filter:False, output:/tmp/sepp/output.b3o4cmw2/root/P_3/A_3_0/FC_3_0_2/hmmsearch.results.m7bjzuko\n",
      "[18:01:46] jobs.py (line 131):     INFO: Finished hmmsearch Job with input: model:/tmp/sepp/output.b3o4cmw2/root/P_9/A_9_0/hmmbuild.model.xr5uwgs3, fragments:/tmp/sepp/output.b3o4cmw2/fragment_chunks/fragment_chunk_25mptdk9g.fasta, elim:99999999, filter:False, output:/tmp/sepp/output.b3o4cmw2/root/P_9/A_9_0/FC_9_0_2/hmmsearch.results.g1xsb07y\n",
      "[18:01:47] jobs.py (line 131):     INFO: Finished hmmsearch Job with input: model:/tmp/sepp/output.b3o4cmw2/root/P_9/A_9_0/hmmbuild.model.xr5uwgs3, fragments:/tmp/sepp/output.b3o4cmw2/fragment_chunks/fragment_chunk_0320qlxob.fasta, elim:99999999, filter:False, output:/tmp/sepp/output.b3o4cmw2/root/P_9/A_9_0/FC_9_0_0/hmmsearch.results.u9qrr82j\n",
      "[18:01:48] jobs.py (line 131):     INFO: Finished hmmsearch Job with input: model:/tmp/sepp/output.b3o4cmw2/root/P_9/A_9_0/hmmbuild.model.xr5uwgs3, fragments:/tmp/sepp/output.b3o4cmw2/fragment_chunks/fragment_chunk_11iay5nn7.fasta, elim:99999999, filter:False, output:/tmp/sepp/output.b3o4cmw2/root/P_9/A_9_0/FC_9_0_1/hmmsearch.results.51umum3v\n",
      "[18:01:50] jobs.py (line 131):     INFO: Finished hmmsearch Job with input: model:/tmp/sepp/output.b3o4cmw2/root/P_7/A_7_0/hmmbuild.model.5eqbnco7, fragments:/tmp/sepp/output.b3o4cmw2/fragment_chunks/fragment_chunk_0320qlxob.fasta, elim:99999999, filter:False, output:/tmp/sepp/output.b3o4cmw2/root/P_7/A_7_0/FC_7_0_0/hmmsearch.results.u162vxdy\n",
      "[18:01:51] jobs.py (line 131):     INFO: Finished hmmsearch Job with input: model:/tmp/sepp/output.b3o4cmw2/root/P_7/A_7_0/hmmbuild.model.5eqbnco7, fragments:/tmp/sepp/output.b3o4cmw2/fragment_chunks/fragment_chunk_11iay5nn7.fasta, elim:99999999, filter:False, output:/tmp/sepp/output.b3o4cmw2/root/P_7/A_7_0/FC_7_0_1/hmmsearch.results.2tax4cyn\n",
      "[18:01:52] jobs.py (line 131):     INFO: Finished hmmsearch Job with input: model:/tmp/sepp/output.b3o4cmw2/root/P_6/A_6_0/hmmbuild.model.ml98qxyy, fragments:/tmp/sepp/output.b3o4cmw2/fragment_chunks/fragment_chunk_0320qlxob.fasta, elim:99999999, filter:False, output:/tmp/sepp/output.b3o4cmw2/root/P_6/A_6_0/FC_6_0_0/hmmsearch.results.zq7g52rs\n",
      "[18:01:52] jobs.py (line 131):     INFO: Finished hmmsearch Job with input: model:/tmp/sepp/output.b3o4cmw2/root/P_7/A_7_0/hmmbuild.model.5eqbnco7, fragments:/tmp/sepp/output.b3o4cmw2/fragment_chunks/fragment_chunk_25mptdk9g.fasta, elim:99999999, filter:False, output:/tmp/sepp/output.b3o4cmw2/root/P_7/A_7_0/FC_7_0_2/hmmsearch.results.s4k_d8h_\n",
      "[18:01:54] jobs.py (line 131):     INFO: Finished hmmsearch Job with input: model:/tmp/sepp/output.b3o4cmw2/root/P_6/A_6_0/hmmbuild.model.ml98qxyy, fragments:/tmp/sepp/output.b3o4cmw2/fragment_chunks/fragment_chunk_25mptdk9g.fasta, elim:99999999, filter:False, output:/tmp/sepp/output.b3o4cmw2/root/P_6/A_6_0/FC_6_0_2/hmmsearch.results.faxmc_9c\n",
      "[18:01:54] jobs.py (line 131):     INFO: Finished hmmsearch Job with input: model:/tmp/sepp/output.b3o4cmw2/root/P_6/A_6_0/hmmbuild.model.ml98qxyy, fragments:/tmp/sepp/output.b3o4cmw2/fragment_chunks/fragment_chunk_11iay5nn7.fasta, elim:99999999, filter:False, output:/tmp/sepp/output.b3o4cmw2/root/P_6/A_6_0/FC_6_0_1/hmmsearch.results.k0qod80m\n",
      "[18:01:57] jobs.py (line 131):     INFO: Finished hmmsearch Job with input: model:/tmp/sepp/output.b3o4cmw2/root/P_10/A_10_0/hmmbuild.model.r38vwggi, fragments:/tmp/sepp/output.b3o4cmw2/fragment_chunks/fragment_chunk_0320qlxob.fasta, elim:99999999, filter:False, output:/tmp/sepp/output.b3o4cmw2/root/P_10/A_10_0/FC_10_0_0/hmmsearch.results.kw_dmp4f\n",
      "[18:01:57] jobs.py (line 131):     INFO: Finished hmmsearch Job with input: model:/tmp/sepp/output.b3o4cmw2/root/P_8/A_8_0/hmmbuild.model.6_v4ctax, fragments:/tmp/sepp/output.b3o4cmw2/fragment_chunks/fragment_chunk_0320qlxob.fasta, elim:99999999, filter:False, output:/tmp/sepp/output.b3o4cmw2/root/P_8/A_8_0/FC_8_0_0/hmmsearch.results.iyov1dso\n",
      "[18:01:59] jobs.py (line 131):     INFO: Finished hmmsearch Job with input: model:/tmp/sepp/output.b3o4cmw2/root/P_10/A_10_0/hmmbuild.model.r38vwggi, fragments:/tmp/sepp/output.b3o4cmw2/fragment_chunks/fragment_chunk_11iay5nn7.fasta, elim:99999999, filter:False, output:/tmp/sepp/output.b3o4cmw2/root/P_10/A_10_0/FC_10_0_1/hmmsearch.results.5g8c8ncz\n",
      "[18:01:59] jobs.py (line 131):     INFO: Finished hmmsearch Job with input: model:/tmp/sepp/output.b3o4cmw2/root/P_8/A_8_0/hmmbuild.model.6_v4ctax, fragments:/tmp/sepp/output.b3o4cmw2/fragment_chunks/fragment_chunk_25mptdk9g.fasta, elim:99999999, filter:False, output:/tmp/sepp/output.b3o4cmw2/root/P_8/A_8_0/FC_8_0_2/hmmsearch.results.z24o0xp2\n",
      "[18:02:00] jobs.py (line 131):     INFO: Finished hmmsearch Job with input: model:/tmp/sepp/output.b3o4cmw2/root/P_10/A_10_0/hmmbuild.model.r38vwggi, fragments:/tmp/sepp/output.b3o4cmw2/fragment_chunks/fragment_chunk_25mptdk9g.fasta, elim:99999999, filter:False, output:/tmp/sepp/output.b3o4cmw2/root/P_10/A_10_0/FC_10_0_2/hmmsearch.results.4x2vkdcv\n",
      "[18:02:01] jobs.py (line 131):     INFO: Finished hmmsearch Job with input: model:/tmp/sepp/output.b3o4cmw2/root/P_8/A_8_0/hmmbuild.model.6_v4ctax, fragments:/tmp/sepp/output.b3o4cmw2/fragment_chunks/fragment_chunk_11iay5nn7.fasta, elim:99999999, filter:False, output:/tmp/sepp/output.b3o4cmw2/root/P_8/A_8_0/FC_8_0_1/hmmsearch.results.n_8j6mnj\n",
      "[18:02:03] jobs.py (line 131):     INFO: Finished hmmsearch Job with input: model:/tmp/sepp/output.b3o4cmw2/root/P_11/A_11_0/hmmbuild.model.5zrwgsby, fragments:/tmp/sepp/output.b3o4cmw2/fragment_chunks/fragment_chunk_0320qlxob.fasta, elim:99999999, filter:False, output:/tmp/sepp/output.b3o4cmw2/root/P_11/A_11_0/FC_11_0_0/hmmsearch.results.upb8e67m\n",
      "[18:02:04] jobs.py (line 131):     INFO: Finished hmmsearch Job with input: model:/tmp/sepp/output.b3o4cmw2/root/P_14/A_14_0/hmmbuild.model.kl64_8as, fragments:/tmp/sepp/output.b3o4cmw2/fragment_chunks/fragment_chunk_0320qlxob.fasta, elim:99999999, filter:False, output:/tmp/sepp/output.b3o4cmw2/root/P_14/A_14_0/FC_14_0_0/hmmsearch.results.49iu0i_v\n",
      "[18:02:05] jobs.py (line 131):     INFO: Finished hmmsearch Job with input: model:/tmp/sepp/output.b3o4cmw2/root/P_11/A_11_0/hmmbuild.model.5zrwgsby, fragments:/tmp/sepp/output.b3o4cmw2/fragment_chunks/fragment_chunk_11iay5nn7.fasta, elim:99999999, filter:False, output:/tmp/sepp/output.b3o4cmw2/root/P_11/A_11_0/FC_11_0_1/hmmsearch.results.uf09ee2_\n",
      "[18:02:07] jobs.py (line 131):     INFO: Finished hmmsearch Job with input: model:/tmp/sepp/output.b3o4cmw2/root/P_14/A_14_0/hmmbuild.model.kl64_8as, fragments:/tmp/sepp/output.b3o4cmw2/fragment_chunks/fragment_chunk_25mptdk9g.fasta, elim:99999999, filter:False, output:/tmp/sepp/output.b3o4cmw2/root/P_14/A_14_0/FC_14_0_2/hmmsearch.results.ewfbguli\n",
      "[18:02:07] jobs.py (line 131):     INFO: Finished hmmsearch Job with input: model:/tmp/sepp/output.b3o4cmw2/root/P_11/A_11_0/hmmbuild.model.5zrwgsby, fragments:/tmp/sepp/output.b3o4cmw2/fragment_chunks/fragment_chunk_25mptdk9g.fasta, elim:99999999, filter:False, output:/tmp/sepp/output.b3o4cmw2/root/P_11/A_11_0/FC_11_0_2/hmmsearch.results.w26e5lhf\n",
      "[18:02:08] jobs.py (line 131):     INFO: Finished hmmsearch Job with input: model:/tmp/sepp/output.b3o4cmw2/root/P_14/A_14_0/hmmbuild.model.kl64_8as, fragments:/tmp/sepp/output.b3o4cmw2/fragment_chunks/fragment_chunk_11iay5nn7.fasta, elim:99999999, filter:False, output:/tmp/sepp/output.b3o4cmw2/root/P_14/A_14_0/FC_14_0_1/hmmsearch.results.907_i5tt\n",
      "[18:02:09] jobs.py (line 131):     INFO: Finished hmmsearch Job with input: model:/tmp/sepp/output.b3o4cmw2/root/P_12/A_12_0/hmmbuild.model.5jq4vbx1, fragments:/tmp/sepp/output.b3o4cmw2/fragment_chunks/fragment_chunk_0320qlxob.fasta, elim:99999999, filter:False, output:/tmp/sepp/output.b3o4cmw2/root/P_12/A_12_0/FC_12_0_0/hmmsearch.results.pysa6rxc\n",
      "[18:02:11] jobs.py (line 131):     INFO: Finished hmmsearch Job with input: model:/tmp/sepp/output.b3o4cmw2/root/P_12/A_12_0/hmmbuild.model.5jq4vbx1, fragments:/tmp/sepp/output.b3o4cmw2/fragment_chunks/fragment_chunk_11iay5nn7.fasta, elim:99999999, filter:False, output:/tmp/sepp/output.b3o4cmw2/root/P_12/A_12_0/FC_12_0_1/hmmsearch.results.rg00dm7i\n",
      "[18:02:12] jobs.py (line 131):     INFO: Finished hmmsearch Job with input: model:/tmp/sepp/output.b3o4cmw2/root/P_13/A_13_0/hmmbuild.model.o2q6q7dn, fragments:/tmp/sepp/output.b3o4cmw2/fragment_chunks/fragment_chunk_11iay5nn7.fasta, elim:99999999, filter:False, output:/tmp/sepp/output.b3o4cmw2/root/P_13/A_13_0/FC_13_0_1/hmmsearch.results.vbrr0979\n",
      "[18:02:13] jobs.py (line 131):     INFO: Finished hmmsearch Job with input: model:/tmp/sepp/output.b3o4cmw2/root/P_12/A_12_0/hmmbuild.model.5jq4vbx1, fragments:/tmp/sepp/output.b3o4cmw2/fragment_chunks/fragment_chunk_25mptdk9g.fasta, elim:99999999, filter:False, output:/tmp/sepp/output.b3o4cmw2/root/P_12/A_12_0/FC_12_0_2/hmmsearch.results.hq8bmd_n\n",
      "[18:02:14] jobs.py (line 131):     INFO: Finished hmmsearch Job with input: model:/tmp/sepp/output.b3o4cmw2/root/P_15/A_15_0/hmmbuild.model.r9tadanf, fragments:/tmp/sepp/output.b3o4cmw2/fragment_chunks/fragment_chunk_0320qlxob.fasta, elim:99999999, filter:False, output:/tmp/sepp/output.b3o4cmw2/root/P_15/A_15_0/FC_15_0_0/hmmsearch.results.i4rk9ecc\n",
      "[18:02:15] jobs.py (line 131):     INFO: Finished hmmsearch Job with input: model:/tmp/sepp/output.b3o4cmw2/root/P_13/A_13_0/hmmbuild.model.o2q6q7dn, fragments:/tmp/sepp/output.b3o4cmw2/fragment_chunks/fragment_chunk_25mptdk9g.fasta, elim:99999999, filter:False, output:/tmp/sepp/output.b3o4cmw2/root/P_13/A_13_0/FC_13_0_2/hmmsearch.results.67i0lcw5\n",
      "[18:02:15] jobs.py (line 131):     INFO: Finished hmmsearch Job with input: model:/tmp/sepp/output.b3o4cmw2/root/P_13/A_13_0/hmmbuild.model.o2q6q7dn, fragments:/tmp/sepp/output.b3o4cmw2/fragment_chunks/fragment_chunk_0320qlxob.fasta, elim:99999999, filter:False, output:/tmp/sepp/output.b3o4cmw2/root/P_13/A_13_0/FC_13_0_0/hmmsearch.results.c48ik9iq\n",
      "[18:02:17] jobs.py (line 131):     INFO: Finished hmmsearch Job with input: model:/tmp/sepp/output.b3o4cmw2/root/P_15/A_15_0/hmmbuild.model.r9tadanf, fragments:/tmp/sepp/output.b3o4cmw2/fragment_chunks/fragment_chunk_25mptdk9g.fasta, elim:99999999, filter:False, output:/tmp/sepp/output.b3o4cmw2/root/P_15/A_15_0/FC_15_0_2/hmmsearch.results.106essj7\n",
      "[18:02:17] jobs.py (line 131):     INFO: Finished hmmsearch Job with input: model:/tmp/sepp/output.b3o4cmw2/root/P_15/A_15_0/hmmbuild.model.r9tadanf, fragments:/tmp/sepp/output.b3o4cmw2/fragment_chunks/fragment_chunk_11iay5nn7.fasta, elim:99999999, filter:False, output:/tmp/sepp/output.b3o4cmw2/root/P_15/A_15_0/FC_15_0_1/hmmsearch.results.xb5duxhk\n",
      "[18:02:17] exhaustive.py (line 80):  WARNING: Fragments [] are not scored against any subset\n",
      "[18:02:17] exhaustive.py (line 151):     INFO: Merging sub-alignments for placement problem : P_0.\n",
      "[18:02:17] jobs.py (line 131):     INFO: Finished hmmalign Job with input: model:/tmp/sepp/output.b3o4cmw2/root/P_5/A_5_0/hmmbuild.model.re8s3mjh, fragments:/tmp/sepp/output.b3o4cmw2/root/P_5/A_5_0/FC_5_0_2/hmmalign.frag.k4fupz_a.fasta, trim:False, base_alignment:/tmp/sepp/output.b3o4cmw2/root/P_5/A_5_0/hmmbuild.input.nnzekmbg.fasta\n",
      "[18:02:17] jobs.py (line 131):     INFO: Finished hmmalign Job with input: model:/tmp/sepp/output.b3o4cmw2/root/P_5/A_5_0/hmmbuild.model.re8s3mjh, fragments:/tmp/sepp/output.b3o4cmw2/root/P_5/A_5_0/FC_5_0_1/hmmalign.frag.az25m7g2.fasta, trim:False, base_alignment:/tmp/sepp/output.b3o4cmw2/root/P_5/A_5_0/hmmbuild.input.nnzekmbg.fasta\n",
      "[18:02:17] jobs.py (line 131):     INFO: Finished hmmalign Job with input: model:/tmp/sepp/output.b3o4cmw2/root/P_1/A_1_0/hmmbuild.model.r2q88mm2, fragments:/tmp/sepp/output.b3o4cmw2/root/P_1/A_1_0/FC_1_0_2/hmmalign.frag.zskh669c.fasta, trim:False, base_alignment:/tmp/sepp/output.b3o4cmw2/root/P_1/A_1_0/hmmbuild.input.if11cdyq.fasta\n",
      "[18:02:17] jobs.py (line 131):     INFO: Finished hmmalign Job with input: model:/tmp/sepp/output.b3o4cmw2/root/P_5/A_5_0/hmmbuild.model.re8s3mjh, fragments:/tmp/sepp/output.b3o4cmw2/root/P_5/A_5_0/FC_5_0_0/hmmalign.frag.xlz1g7c7.fasta, trim:False, base_alignment:/tmp/sepp/output.b3o4cmw2/root/P_5/A_5_0/hmmbuild.input.nnzekmbg.fasta\n",
      "[18:02:17] exhaustive.py (line 151):     INFO: Merging sub-alignments for placement problem : P_2.\n",
      "[18:02:17] jobs.py (line 131):     INFO: Finished hmmalign Job with input: model:/tmp/sepp/output.b3o4cmw2/root/P_1/A_1_0/hmmbuild.model.r2q88mm2, fragments:/tmp/sepp/output.b3o4cmw2/root/P_1/A_1_0/FC_1_0_0/hmmalign.frag.kbwj3k8d.fasta, trim:False, base_alignment:/tmp/sepp/output.b3o4cmw2/root/P_1/A_1_0/hmmbuild.input.if11cdyq.fasta\n",
      "[18:02:17] jobs.py (line 131):     INFO: Finished hmmalign Job with input: model:/tmp/sepp/output.b3o4cmw2/root/P_1/A_1_0/hmmbuild.model.r2q88mm2, fragments:/tmp/sepp/output.b3o4cmw2/root/P_1/A_1_0/FC_1_0_1/hmmalign.frag.l7lfb0t8.fasta, trim:False, base_alignment:/tmp/sepp/output.b3o4cmw2/root/P_1/A_1_0/hmmbuild.input.if11cdyq.fasta\n",
      "[18:02:17] jobs.py (line 131):     INFO: Finished hmmalign Job with input: model:/tmp/sepp/output.b3o4cmw2/root/P_6/A_6_0/hmmbuild.model.ml98qxyy, fragments:/tmp/sepp/output.b3o4cmw2/root/P_6/A_6_0/FC_6_0_0/hmmalign.frag.3p_3d8mi.fasta, trim:False, base_alignment:/tmp/sepp/output.b3o4cmw2/root/P_6/A_6_0/hmmbuild.input.gjw3c3t5.fasta\n",
      "[18:02:17] jobs.py (line 131):     INFO: Finished hmmalign Job with input: model:/tmp/sepp/output.b3o4cmw2/root/P_6/A_6_0/hmmbuild.model.ml98qxyy, fragments:/tmp/sepp/output.b3o4cmw2/root/P_6/A_6_0/FC_6_0_2/hmmalign.frag.1leuc0qu.fasta, trim:False, base_alignment:/tmp/sepp/output.b3o4cmw2/root/P_6/A_6_0/hmmbuild.input.gjw3c3t5.fasta\n",
      "[18:02:17] jobs.py (line 131):     INFO: Finished hmmalign Job with input: model:/tmp/sepp/output.b3o4cmw2/root/P_6/A_6_0/hmmbuild.model.ml98qxyy, fragments:/tmp/sepp/output.b3o4cmw2/root/P_6/A_6_0/FC_6_0_1/hmmalign.frag.tfx3qcs0.fasta, trim:False, base_alignment:/tmp/sepp/output.b3o4cmw2/root/P_6/A_6_0/hmmbuild.input.gjw3c3t5.fasta\n",
      "[18:02:18] exhaustive.py (line 151):     INFO: Merging sub-alignments for placement problem : P_3.\n",
      "[18:02:18] jobs.py (line 131):     INFO: Finished hmmalign Job with input: model:/tmp/sepp/output.b3o4cmw2/root/P_7/A_7_0/hmmbuild.model.5eqbnco7, fragments:/tmp/sepp/output.b3o4cmw2/root/P_7/A_7_0/FC_7_0_2/hmmalign.frag.4lbc2_j5.fasta, trim:False, base_alignment:/tmp/sepp/output.b3o4cmw2/root/P_7/A_7_0/hmmbuild.input.7ep62br2.fasta\n",
      "[18:02:18] jobs.py (line 131):     INFO: Finished hmmalign Job with input: model:/tmp/sepp/output.b3o4cmw2/root/P_7/A_7_0/hmmbuild.model.5eqbnco7, fragments:/tmp/sepp/output.b3o4cmw2/root/P_7/A_7_0/FC_7_0_0/hmmalign.frag.5k3zviq8.fasta, trim:False, base_alignment:/tmp/sepp/output.b3o4cmw2/root/P_7/A_7_0/hmmbuild.input.7ep62br2.fasta\n",
      "[18:02:18] jobs.py (line 131):     INFO: Finished hmmalign Job with input: model:/tmp/sepp/output.b3o4cmw2/root/P_8/A_8_0/hmmbuild.model.6_v4ctax, fragments:/tmp/sepp/output.b3o4cmw2/root/P_8/A_8_0/FC_8_0_1/hmmalign.frag.75bogjt3.fasta, trim:False, base_alignment:/tmp/sepp/output.b3o4cmw2/root/P_8/A_8_0/hmmbuild.input.7pvvsm14.fasta\n",
      "[18:02:18] jobs.py (line 131):     INFO: Finished hmmalign Job with input: model:/tmp/sepp/output.b3o4cmw2/root/P_8/A_8_0/hmmbuild.model.6_v4ctax, fragments:/tmp/sepp/output.b3o4cmw2/root/P_8/A_8_0/FC_8_0_0/hmmalign.frag.skmzuf6_.fasta, trim:False, base_alignment:/tmp/sepp/output.b3o4cmw2/root/P_8/A_8_0/hmmbuild.input.7pvvsm14.fasta\n",
      "[18:02:18] jobs.py (line 131):     INFO: Finished hmmalign Job with input: model:/tmp/sepp/output.b3o4cmw2/root/P_8/A_8_0/hmmbuild.model.6_v4ctax, fragments:/tmp/sepp/output.b3o4cmw2/root/P_8/A_8_0/FC_8_0_2/hmmalign.frag._p71ulbs.fasta, trim:False, base_alignment:/tmp/sepp/output.b3o4cmw2/root/P_8/A_8_0/hmmbuild.input.7pvvsm14.fasta\n",
      "[18:02:18] jobs.py (line 131):     INFO: Finished hmmalign Job with input: model:/tmp/sepp/output.b3o4cmw2/root/P_7/A_7_0/hmmbuild.model.5eqbnco7, fragments:/tmp/sepp/output.b3o4cmw2/root/P_7/A_7_0/FC_7_0_1/hmmalign.frag.72997vbw.fasta, trim:False, base_alignment:/tmp/sepp/output.b3o4cmw2/root/P_7/A_7_0/hmmbuild.input.7ep62br2.fasta\n",
      "[18:02:18] exhaustive.py (line 151):     INFO: Merging sub-alignments for placement problem : P_4.\n",
      "[18:02:18] exhaustive.py (line 151):     INFO: Merging sub-alignments for placement problem : P_5.\n",
      "[18:02:18] alignment.py (line 556):     INFO: Merging extension sto file (/tmp/sepp/output.b3o4cmw2/root/P_5/A_5_0/FC_5_0_0/hmmalign.results.z07se_zc) into base alignment (/tmp/sepp/output.b3o4cmw2/root/P_5/A_5_0/hmmbuild.input.nnzekmbg.fasta).\n",
      "[18:02:18] jobs.py (line 131):     INFO: Finished hmmalign Job with input: model:/tmp/sepp/output.b3o4cmw2/root/P_10/A_10_0/hmmbuild.model.r38vwggi, fragments:/tmp/sepp/output.b3o4cmw2/root/P_10/A_10_0/FC_10_0_2/hmmalign.frag.o5p372jw.fasta, trim:False, base_alignment:/tmp/sepp/output.b3o4cmw2/root/P_10/A_10_0/hmmbuild.input.2e9ui8sn.fasta\n",
      "[18:02:18] jobs.py (line 131):     INFO: Finished hmmalign Job with input: model:/tmp/sepp/output.b3o4cmw2/root/P_10/A_10_0/hmmbuild.model.r38vwggi, fragments:/tmp/sepp/output.b3o4cmw2/root/P_10/A_10_0/FC_10_0_0/hmmalign.frag.sh5xd60r.fasta, trim:False, base_alignment:/tmp/sepp/output.b3o4cmw2/root/P_10/A_10_0/hmmbuild.input.2e9ui8sn.fasta\n",
      "[18:02:18] jobs.py (line 131):     INFO: Finished hmmalign Job with input: model:/tmp/sepp/output.b3o4cmw2/root/P_10/A_10_0/hmmbuild.model.r38vwggi, fragments:/tmp/sepp/output.b3o4cmw2/root/P_10/A_10_0/FC_10_0_1/hmmalign.frag.4dw_b_vb.fasta, trim:False, base_alignment:/tmp/sepp/output.b3o4cmw2/root/P_10/A_10_0/hmmbuild.input.2e9ui8sn.fasta\n",
      "[18:02:18] alignment.py (line 556):     INFO: Merging extension sto file (/tmp/sepp/output.b3o4cmw2/root/P_5/A_5_0/FC_5_0_1/hmmalign.results.hf50tok0) into base alignment (/tmp/sepp/output.b3o4cmw2/root/P_5/A_5_0/hmmbuild.input.nnzekmbg.fasta).\n",
      "[18:02:18] alignment.py (line 556):     INFO: Merging extension sto file (/tmp/sepp/output.b3o4cmw2/root/P_5/A_5_0/FC_5_0_2/hmmalign.results.4k8sicwl) into base alignment (/tmp/sepp/output.b3o4cmw2/root/P_5/A_5_0/hmmbuild.input.nnzekmbg.fasta).\n",
      "[18:02:18] exhaustive.py (line 151):     INFO: Merging sub-alignments for placement problem : P_1.\n",
      "[18:02:18] alignment.py (line 556):     INFO: Merging extension sto file (/tmp/sepp/output.b3o4cmw2/root/P_1/A_1_0/FC_1_0_0/hmmalign.results.01cxr8wd) into base alignment (/tmp/sepp/output.b3o4cmw2/root/P_1/A_1_0/hmmbuild.input.if11cdyq.fasta).\n",
      "[18:02:18] alignment.py (line 556):     INFO: Merging extension sto file (/tmp/sepp/output.b3o4cmw2/root/P_1/A_1_0/FC_1_0_1/hmmalign.results._a5qfjwh) into base alignment (/tmp/sepp/output.b3o4cmw2/root/P_1/A_1_0/hmmbuild.input.if11cdyq.fasta).\n",
      "[18:02:18] alignment.py (line 556):     INFO: Merging extension sto file (/tmp/sepp/output.b3o4cmw2/root/P_1/A_1_0/FC_1_0_2/hmmalign.results.0a9b_4hy) into base alignment (/tmp/sepp/output.b3o4cmw2/root/P_1/A_1_0/hmmbuild.input.if11cdyq.fasta).\n",
      "[18:02:18] exhaustive.py (line 151):     INFO: Merging sub-alignments for placement problem : P_6.\n",
      "[18:02:18] alignment.py (line 556):     INFO: Merging extension sto file (/tmp/sepp/output.b3o4cmw2/root/P_6/A_6_0/FC_6_0_0/hmmalign.results.5wi88gb5) into base alignment (/tmp/sepp/output.b3o4cmw2/root/P_6/A_6_0/hmmbuild.input.gjw3c3t5.fasta).\n",
      "[18:02:18] alignment.py (line 556):     INFO: Merging extension sto file (/tmp/sepp/output.b3o4cmw2/root/P_6/A_6_0/FC_6_0_1/hmmalign.results.__qotd8r) into base alignment (/tmp/sepp/output.b3o4cmw2/root/P_6/A_6_0/hmmbuild.input.gjw3c3t5.fasta).\n",
      "[18:02:18] alignment.py (line 556):     INFO: Merging extension sto file (/tmp/sepp/output.b3o4cmw2/root/P_6/A_6_0/FC_6_0_2/hmmalign.results.9ubwbbpw) into base alignment (/tmp/sepp/output.b3o4cmw2/root/P_6/A_6_0/hmmbuild.input.gjw3c3t5.fasta).\n",
      "[18:02:18] exhaustive.py (line 151):     INFO: Merging sub-alignments for placement problem : P_8.\n",
      "[18:02:18] jobs.py (line 131):     INFO: Finished hmmalign Job with input: model:/tmp/sepp/output.b3o4cmw2/root/P_9/A_9_0/hmmbuild.model.xr5uwgs3, fragments:/tmp/sepp/output.b3o4cmw2/root/P_9/A_9_0/FC_9_0_0/hmmalign.frag.jcu0q2j1.fasta, trim:False, base_alignment:/tmp/sepp/output.b3o4cmw2/root/P_9/A_9_0/hmmbuild.input.u26fbq47.fasta\n",
      "[18:02:18] alignment.py (line 556):     INFO: Merging extension sto file (/tmp/sepp/output.b3o4cmw2/root/P_8/A_8_0/FC_8_0_0/hmmalign.results.vza0fqqt) into base alignment (/tmp/sepp/output.b3o4cmw2/root/P_8/A_8_0/hmmbuild.input.7pvvsm14.fasta).\n",
      "[18:02:18] jobs.py (line 131):     INFO: Finished hmmalign Job with input: model:/tmp/sepp/output.b3o4cmw2/root/P_9/A_9_0/hmmbuild.model.xr5uwgs3, fragments:/tmp/sepp/output.b3o4cmw2/root/P_9/A_9_0/FC_9_0_1/hmmalign.frag.6snuwc42.fasta, trim:False, base_alignment:/tmp/sepp/output.b3o4cmw2/root/P_9/A_9_0/hmmbuild.input.u26fbq47.fasta\n",
      "[18:02:18] jobs.py (line 131):     INFO: Finished hmmalign Job with input: model:/tmp/sepp/output.b3o4cmw2/root/P_9/A_9_0/hmmbuild.model.xr5uwgs3, fragments:/tmp/sepp/output.b3o4cmw2/root/P_9/A_9_0/FC_9_0_2/hmmalign.frag.dnj3h21y.fasta, trim:False, base_alignment:/tmp/sepp/output.b3o4cmw2/root/P_9/A_9_0/hmmbuild.input.u26fbq47.fasta\n",
      "[18:02:18] alignment.py (line 556):     INFO: Merging extension sto file (/tmp/sepp/output.b3o4cmw2/root/P_8/A_8_0/FC_8_0_1/hmmalign.results.j38wobvr) into base alignment (/tmp/sepp/output.b3o4cmw2/root/P_8/A_8_0/hmmbuild.input.7pvvsm14.fasta).\n",
      "[18:02:18] alignment.py (line 556):     INFO: Merging extension sto file (/tmp/sepp/output.b3o4cmw2/root/P_8/A_8_0/FC_8_0_2/hmmalign.results.ep4qlq3x) into base alignment (/tmp/sepp/output.b3o4cmw2/root/P_8/A_8_0/hmmbuild.input.7pvvsm14.fasta).\n",
      "[18:02:18] exhaustive.py (line 151):     INFO: Merging sub-alignments for placement problem : P_7.\n",
      "[18:02:18] alignment.py (line 556):     INFO: Merging extension sto file (/tmp/sepp/output.b3o4cmw2/root/P_7/A_7_0/FC_7_0_0/hmmalign.results.hv07t5ap) into base alignment (/tmp/sepp/output.b3o4cmw2/root/P_7/A_7_0/hmmbuild.input.7ep62br2.fasta).\n",
      "[18:02:18] alignment.py (line 556):     INFO: Merging extension sto file (/tmp/sepp/output.b3o4cmw2/root/P_7/A_7_0/FC_7_0_1/hmmalign.results.2sqau3sq) into base alignment (/tmp/sepp/output.b3o4cmw2/root/P_7/A_7_0/hmmbuild.input.7ep62br2.fasta).\n",
      "[18:02:18] alignment.py (line 556):     INFO: Merging extension sto file (/tmp/sepp/output.b3o4cmw2/root/P_7/A_7_0/FC_7_0_2/hmmalign.results.8vtyl5fy) into base alignment (/tmp/sepp/output.b3o4cmw2/root/P_7/A_7_0/hmmbuild.input.7ep62br2.fasta).\n",
      "[18:02:19] exhaustive.py (line 151):     INFO: Merging sub-alignments for placement problem : P_10.\n",
      "[18:02:19] alignment.py (line 556):     INFO: Merging extension sto file (/tmp/sepp/output.b3o4cmw2/root/P_10/A_10_0/FC_10_0_0/hmmalign.results.8x2k7oxu) into base alignment (/tmp/sepp/output.b3o4cmw2/root/P_10/A_10_0/hmmbuild.input.2e9ui8sn.fasta).\n",
      "[18:02:19] alignment.py (line 556):     INFO: Merging extension sto file (/tmp/sepp/output.b3o4cmw2/root/P_10/A_10_0/FC_10_0_1/hmmalign.results.wyh8se93) into base alignment (/tmp/sepp/output.b3o4cmw2/root/P_10/A_10_0/hmmbuild.input.2e9ui8sn.fasta).\n",
      "[18:02:19] alignment.py (line 556):     INFO: Merging extension sto file (/tmp/sepp/output.b3o4cmw2/root/P_10/A_10_0/FC_10_0_2/hmmalign.results.xrvqqr7z) into base alignment (/tmp/sepp/output.b3o4cmw2/root/P_10/A_10_0/hmmbuild.input.2e9ui8sn.fasta).\n",
      "[18:02:19] exhaustive.py (line 151):     INFO: Merging sub-alignments for placement problem : P_9.\n",
      "[18:02:19] alignment.py (line 556):     INFO: Merging extension sto file (/tmp/sepp/output.b3o4cmw2/root/P_9/A_9_0/FC_9_0_0/hmmalign.results.a0w9oeij) into base alignment (/tmp/sepp/output.b3o4cmw2/root/P_9/A_9_0/hmmbuild.input.u26fbq47.fasta).\n",
      "[18:02:19] alignment.py (line 556):     INFO: Merging extension sto file (/tmp/sepp/output.b3o4cmw2/root/P_9/A_9_0/FC_9_0_1/hmmalign.results.56_4xuer) into base alignment (/tmp/sepp/output.b3o4cmw2/root/P_9/A_9_0/hmmbuild.input.u26fbq47.fasta).\n",
      "[18:02:19] alignment.py (line 556):     INFO: Merging extension sto file (/tmp/sepp/output.b3o4cmw2/root/P_9/A_9_0/FC_9_0_2/hmmalign.results.jexox8ir) into base alignment (/tmp/sepp/output.b3o4cmw2/root/P_9/A_9_0/hmmbuild.input.u26fbq47.fasta).\n",
      "[18:02:20] jobs.py (line 131):     INFO: Finished hmmalign Job with input: model:/tmp/sepp/output.b3o4cmw2/root/P_12/A_12_0/hmmbuild.model.5jq4vbx1, fragments:/tmp/sepp/output.b3o4cmw2/root/P_12/A_12_0/FC_12_0_0/hmmalign.frag.c0b5tvjc.fasta, trim:False, base_alignment:/tmp/sepp/output.b3o4cmw2/root/P_12/A_12_0/hmmbuild.input.5ere5o6e.fasta\n",
      "[18:02:20] jobs.py (line 131):     INFO: Finished hmmalign Job with input: model:/tmp/sepp/output.b3o4cmw2/root/P_12/A_12_0/hmmbuild.model.5jq4vbx1, fragments:/tmp/sepp/output.b3o4cmw2/root/P_12/A_12_0/FC_12_0_2/hmmalign.frag.ni6or8yq.fasta, trim:False, base_alignment:/tmp/sepp/output.b3o4cmw2/root/P_12/A_12_0/hmmbuild.input.5ere5o6e.fasta\n",
      "[18:02:20] jobs.py (line 131):     INFO: Finished hmmalign Job with input: model:/tmp/sepp/output.b3o4cmw2/root/P_12/A_12_0/hmmbuild.model.5jq4vbx1, fragments:/tmp/sepp/output.b3o4cmw2/root/P_12/A_12_0/FC_12_0_1/hmmalign.frag.noikzfmm.fasta, trim:False, base_alignment:/tmp/sepp/output.b3o4cmw2/root/P_12/A_12_0/hmmbuild.input.5ere5o6e.fasta\n",
      "[18:02:20] exhaustive.py (line 151):     INFO: Merging sub-alignments for placement problem : P_12.\n",
      "[18:02:20] alignment.py (line 556):     INFO: Merging extension sto file (/tmp/sepp/output.b3o4cmw2/root/P_12/A_12_0/FC_12_0_0/hmmalign.results.eo65mu_o) into base alignment (/tmp/sepp/output.b3o4cmw2/root/P_12/A_12_0/hmmbuild.input.5ere5o6e.fasta).\n",
      "[18:02:20] alignment.py (line 556):     INFO: Merging extension sto file (/tmp/sepp/output.b3o4cmw2/root/P_12/A_12_0/FC_12_0_1/hmmalign.results.90c45jlv) into base alignment (/tmp/sepp/output.b3o4cmw2/root/P_12/A_12_0/hmmbuild.input.5ere5o6e.fasta).\n",
      "[18:02:20] jobs.py (line 131):     INFO: Finished hmmalign Job with input: model:/tmp/sepp/output.b3o4cmw2/root/P_13/A_13_0/hmmbuild.model.o2q6q7dn, fragments:/tmp/sepp/output.b3o4cmw2/root/P_13/A_13_0/FC_13_0_0/hmmalign.frag.q5vrb12l.fasta, trim:False, base_alignment:/tmp/sepp/output.b3o4cmw2/root/P_13/A_13_0/hmmbuild.input.w9azz4ys.fasta\n",
      "[18:02:20] alignment.py (line 556):     INFO: Merging extension sto file (/tmp/sepp/output.b3o4cmw2/root/P_12/A_12_0/FC_12_0_2/hmmalign.results._uf15c4a) into base alignment (/tmp/sepp/output.b3o4cmw2/root/P_12/A_12_0/hmmbuild.input.5ere5o6e.fasta).\n",
      "[18:02:20] jobs.py (line 131):     INFO: Finished hmmalign Job with input: model:/tmp/sepp/output.b3o4cmw2/root/P_14/A_14_0/hmmbuild.model.kl64_8as, fragments:/tmp/sepp/output.b3o4cmw2/root/P_14/A_14_0/FC_14_0_0/hmmalign.frag.3zulxy45.fasta, trim:False, base_alignment:/tmp/sepp/output.b3o4cmw2/root/P_14/A_14_0/hmmbuild.input.hjy_takt.fasta\n",
      "[18:02:20] jobs.py (line 131):     INFO: Finished hmmalign Job with input: model:/tmp/sepp/output.b3o4cmw2/root/P_13/A_13_0/hmmbuild.model.o2q6q7dn, fragments:/tmp/sepp/output.b3o4cmw2/root/P_13/A_13_0/FC_13_0_2/hmmalign.frag.i5dl_dd6.fasta, trim:False, base_alignment:/tmp/sepp/output.b3o4cmw2/root/P_13/A_13_0/hmmbuild.input.w9azz4ys.fasta\n",
      "[18:02:20] jobs.py (line 131):     INFO: Finished hmmalign Job with input: model:/tmp/sepp/output.b3o4cmw2/root/P_13/A_13_0/hmmbuild.model.o2q6q7dn, fragments:/tmp/sepp/output.b3o4cmw2/root/P_13/A_13_0/FC_13_0_1/hmmalign.frag.9oxjhq1w.fasta, trim:False, base_alignment:/tmp/sepp/output.b3o4cmw2/root/P_13/A_13_0/hmmbuild.input.w9azz4ys.fasta\n",
      "[18:02:20] exhaustive.py (line 151):     INFO: Merging sub-alignments for placement problem : P_13.\n",
      "[18:02:20] alignment.py (line 556):     INFO: Merging extension sto file (/tmp/sepp/output.b3o4cmw2/root/P_13/A_13_0/FC_13_0_0/hmmalign.results.czkv18x5) into base alignment (/tmp/sepp/output.b3o4cmw2/root/P_13/A_13_0/hmmbuild.input.w9azz4ys.fasta).\n",
      "[18:02:20] jobs.py (line 131):     INFO: Finished hmmalign Job with input: model:/tmp/sepp/output.b3o4cmw2/root/P_14/A_14_0/hmmbuild.model.kl64_8as, fragments:/tmp/sepp/output.b3o4cmw2/root/P_14/A_14_0/FC_14_0_1/hmmalign.frag.tpo13s_f.fasta, trim:False, base_alignment:/tmp/sepp/output.b3o4cmw2/root/P_14/A_14_0/hmmbuild.input.hjy_takt.fasta\n",
      "[18:02:20] jobs.py (line 131):     INFO: Finished hmmalign Job with input: model:/tmp/sepp/output.b3o4cmw2/root/P_14/A_14_0/hmmbuild.model.kl64_8as, fragments:/tmp/sepp/output.b3o4cmw2/root/P_14/A_14_0/FC_14_0_2/hmmalign.frag.vbjrv_3v.fasta, trim:False, base_alignment:/tmp/sepp/output.b3o4cmw2/root/P_14/A_14_0/hmmbuild.input.hjy_takt.fasta\n",
      "[18:02:20] alignment.py (line 556):     INFO: Merging extension sto file (/tmp/sepp/output.b3o4cmw2/root/P_13/A_13_0/FC_13_0_1/hmmalign.results.0k30_0gi) into base alignment (/tmp/sepp/output.b3o4cmw2/root/P_13/A_13_0/hmmbuild.input.w9azz4ys.fasta).\n",
      "[18:02:20] alignment.py (line 556):     INFO: Merging extension sto file (/tmp/sepp/output.b3o4cmw2/root/P_13/A_13_0/FC_13_0_2/hmmalign.results.uzmwv4eq) into base alignment (/tmp/sepp/output.b3o4cmw2/root/P_13/A_13_0/hmmbuild.input.w9azz4ys.fasta).\n",
      "[18:02:21] exhaustive.py (line 151):     INFO: Merging sub-alignments for placement problem : P_15.\n",
      "[18:02:21] exhaustive.py (line 151):     INFO: Merging sub-alignments for placement problem : P_14.\n",
      "[18:02:21] alignment.py (line 556):     INFO: Merging extension sto file (/tmp/sepp/output.b3o4cmw2/root/P_14/A_14_0/FC_14_0_0/hmmalign.results.pipyrmqu) into base alignment (/tmp/sepp/output.b3o4cmw2/root/P_14/A_14_0/hmmbuild.input.hjy_takt.fasta).\n",
      "[18:02:21] alignment.py (line 556):     INFO: Merging extension sto file (/tmp/sepp/output.b3o4cmw2/root/P_14/A_14_0/FC_14_0_1/hmmalign.results.1akdpbev) into base alignment (/tmp/sepp/output.b3o4cmw2/root/P_14/A_14_0/hmmbuild.input.hjy_takt.fasta).\n",
      "[18:02:21] alignment.py (line 556):     INFO: Merging extension sto file (/tmp/sepp/output.b3o4cmw2/root/P_14/A_14_0/FC_14_0_2/hmmalign.results.e93ygxog) into base alignment (/tmp/sepp/output.b3o4cmw2/root/P_14/A_14_0/hmmbuild.input.hjy_takt.fasta).\n",
      "[18:02:24] jobs.py (line 131):     INFO: Finished pplacer Job with input: backbone_alignment_file:/tmp/sepp/output.b3o4cmw2/root/P_5/pplacer.backbone.g_ya9syi.fasta, tree_file:/tmp/sepp/output.b3o4cmw2/root/P_5/pplacer.tree.jmta3yud.tre, info_file:/home/lauro/anaconda3/envs/qiime2-2021.11/lib/python3.8/site-packages/picrust2/default_files/prokaryotic/pro_ref/pro_ref.raxml_info, extended alignment:/tmp/sepp/output.b3o4cmw2/root/P_5/pplacer.extended.2.5sm9dtq9.fasta, output:/tmp/sepp/output.b3o4cmw2/root/P_5/pplacer.extended.2.5sm9dtq9.jplace\n",
      "[18:02:24] jobs.py (line 131):     INFO: Finished pplacer Job with input: backbone_alignment_file:/tmp/sepp/output.b3o4cmw2/root/P_5/pplacer.backbone.ij27d_qf.fasta, tree_file:/tmp/sepp/output.b3o4cmw2/root/P_5/pplacer.tree.yi9vdnrl.tre, info_file:/home/lauro/anaconda3/envs/qiime2-2021.11/lib/python3.8/site-packages/picrust2/default_files/prokaryotic/pro_ref/pro_ref.raxml_info, extended alignment:/tmp/sepp/output.b3o4cmw2/root/P_5/pplacer.extended.1.d41rov96.fasta, output:/tmp/sepp/output.b3o4cmw2/root/P_5/pplacer.extended.1.d41rov96.jplace\n",
      "[18:02:26] jobs.py (line 131):     INFO: Finished pplacer Job with input: backbone_alignment_file:/tmp/sepp/output.b3o4cmw2/root/P_5/pplacer.backbone.lepwfuws.fasta, tree_file:/tmp/sepp/output.b3o4cmw2/root/P_5/pplacer.tree.c4o4nmkl.tre, info_file:/home/lauro/anaconda3/envs/qiime2-2021.11/lib/python3.8/site-packages/picrust2/default_files/prokaryotic/pro_ref/pro_ref.raxml_info, extended alignment:/tmp/sepp/output.b3o4cmw2/root/P_5/pplacer.extended.0.gnsc5wtp.fasta, output:/tmp/sepp/output.b3o4cmw2/root/P_5/pplacer.extended.0.gnsc5wtp.jplace\n",
      "[18:02:27] jobs.py (line 131):     INFO: Finished pplacer Job with input: backbone_alignment_file:/tmp/sepp/output.b3o4cmw2/root/P_1/pplacer.backbone.dz9ntwz5.fasta, tree_file:/tmp/sepp/output.b3o4cmw2/root/P_1/pplacer.tree.5e3g2gdr.tre, info_file:/home/lauro/anaconda3/envs/qiime2-2021.11/lib/python3.8/site-packages/picrust2/default_files/prokaryotic/pro_ref/pro_ref.raxml_info, extended alignment:/tmp/sepp/output.b3o4cmw2/root/P_1/pplacer.extended.0.btg8ua3i.fasta, output:/tmp/sepp/output.b3o4cmw2/root/P_1/pplacer.extended.0.btg8ua3i.jplace\n",
      "[18:02:28] jobs.py (line 131):     INFO: Finished pplacer Job with input: backbone_alignment_file:/tmp/sepp/output.b3o4cmw2/root/P_1/pplacer.backbone.4rkoylqg.fasta, tree_file:/tmp/sepp/output.b3o4cmw2/root/P_1/pplacer.tree.3ot6a5dv.tre, info_file:/home/lauro/anaconda3/envs/qiime2-2021.11/lib/python3.8/site-packages/picrust2/default_files/prokaryotic/pro_ref/pro_ref.raxml_info, extended alignment:/tmp/sepp/output.b3o4cmw2/root/P_1/pplacer.extended.1.bv6pjle1.fasta, output:/tmp/sepp/output.b3o4cmw2/root/P_1/pplacer.extended.1.bv6pjle1.jplace\n",
      "[18:02:31] jobs.py (line 131):     INFO: Finished hmmalign Job with input: model:/tmp/sepp/output.b3o4cmw2/root/P_11/A_11_0/hmmbuild.model.5zrwgsby, fragments:/tmp/sepp/output.b3o4cmw2/root/P_11/A_11_0/FC_11_0_0/hmmalign.frag.13624npq.fasta, trim:False, base_alignment:/tmp/sepp/output.b3o4cmw2/root/P_11/A_11_0/hmmbuild.input.nu87pha0.fasta\n",
      "[18:02:31] jobs.py (line 131):     INFO: Finished hmmalign Job with input: model:/tmp/sepp/output.b3o4cmw2/root/P_11/A_11_0/hmmbuild.model.5zrwgsby, fragments:/tmp/sepp/output.b3o4cmw2/root/P_11/A_11_0/FC_11_0_1/hmmalign.frag.jh_24dgq.fasta, trim:False, base_alignment:/tmp/sepp/output.b3o4cmw2/root/P_11/A_11_0/hmmbuild.input.nu87pha0.fasta\n",
      "[18:02:31] jobs.py (line 131):     INFO: Finished hmmalign Job with input: model:/tmp/sepp/output.b3o4cmw2/root/P_11/A_11_0/hmmbuild.model.5zrwgsby, fragments:/tmp/sepp/output.b3o4cmw2/root/P_11/A_11_0/FC_11_0_2/hmmalign.frag.dhh9syvz.fasta, trim:False, base_alignment:/tmp/sepp/output.b3o4cmw2/root/P_11/A_11_0/hmmbuild.input.nu87pha0.fasta\n",
      "[18:02:31] exhaustive.py (line 151):     INFO: Merging sub-alignments for placement problem : P_11.\n",
      "[18:02:31] alignment.py (line 556):     INFO: Merging extension sto file (/tmp/sepp/output.b3o4cmw2/root/P_11/A_11_0/FC_11_0_0/hmmalign.results.lkvem0e0) into base alignment (/tmp/sepp/output.b3o4cmw2/root/P_11/A_11_0/hmmbuild.input.nu87pha0.fasta).\n",
      "[18:02:31] alignment.py (line 556):     INFO: Merging extension sto file (/tmp/sepp/output.b3o4cmw2/root/P_11/A_11_0/FC_11_0_1/hmmalign.results.7wvdnvzj) into base alignment (/tmp/sepp/output.b3o4cmw2/root/P_11/A_11_0/hmmbuild.input.nu87pha0.fasta).\n",
      "[18:02:31] alignment.py (line 556):     INFO: Merging extension sto file (/tmp/sepp/output.b3o4cmw2/root/P_11/A_11_0/FC_11_0_2/hmmalign.results.7ffu61fl) into base alignment (/tmp/sepp/output.b3o4cmw2/root/P_11/A_11_0/hmmbuild.input.nu87pha0.fasta).\n",
      "[18:02:31] jobs.py (line 131):     INFO: Finished pplacer Job with input: backbone_alignment_file:/tmp/sepp/output.b3o4cmw2/root/P_1/pplacer.backbone.li8s_yjb.fasta, tree_file:/tmp/sepp/output.b3o4cmw2/root/P_1/pplacer.tree.f5czw24e.tre, info_file:/home/lauro/anaconda3/envs/qiime2-2021.11/lib/python3.8/site-packages/picrust2/default_files/prokaryotic/pro_ref/pro_ref.raxml_info, extended alignment:/tmp/sepp/output.b3o4cmw2/root/P_1/pplacer.extended.2.kh4iury3.fasta, output:/tmp/sepp/output.b3o4cmw2/root/P_1/pplacer.extended.2.kh4iury3.jplace\n",
      "[18:02:34] jobs.py (line 131):     INFO: Finished pplacer Job with input: backbone_alignment_file:/tmp/sepp/output.b3o4cmw2/root/P_8/pplacer.backbone.e3e_soo1.fasta, tree_file:/tmp/sepp/output.b3o4cmw2/root/P_8/pplacer.tree.1y0kk78d.tre, info_file:/home/lauro/anaconda3/envs/qiime2-2021.11/lib/python3.8/site-packages/picrust2/default_files/prokaryotic/pro_ref/pro_ref.raxml_info, extended alignment:/tmp/sepp/output.b3o4cmw2/root/P_8/pplacer.extended.1.ndqtuszr.fasta, output:/tmp/sepp/output.b3o4cmw2/root/P_8/pplacer.extended.1.ndqtuszr.jplace\n",
      "[18:02:35] jobs.py (line 131):     INFO: Finished pplacer Job with input: backbone_alignment_file:/tmp/sepp/output.b3o4cmw2/root/P_6/pplacer.backbone.4ci3zrw7.fasta, tree_file:/tmp/sepp/output.b3o4cmw2/root/P_6/pplacer.tree.2vavez_r.tre, info_file:/home/lauro/anaconda3/envs/qiime2-2021.11/lib/python3.8/site-packages/picrust2/default_files/prokaryotic/pro_ref/pro_ref.raxml_info, extended alignment:/tmp/sepp/output.b3o4cmw2/root/P_6/pplacer.extended.0.u90grhad.fasta, output:/tmp/sepp/output.b3o4cmw2/root/P_6/pplacer.extended.0.u90grhad.jplace\n",
      "[18:02:36] jobs.py (line 131):     INFO: Finished pplacer Job with input: backbone_alignment_file:/tmp/sepp/output.b3o4cmw2/root/P_8/pplacer.backbone.4zyz9hg4.fasta, tree_file:/tmp/sepp/output.b3o4cmw2/root/P_8/pplacer.tree.qx1a50m_.tre, info_file:/home/lauro/anaconda3/envs/qiime2-2021.11/lib/python3.8/site-packages/picrust2/default_files/prokaryotic/pro_ref/pro_ref.raxml_info, extended alignment:/tmp/sepp/output.b3o4cmw2/root/P_8/pplacer.extended.0.8ikv_aq2.fasta, output:/tmp/sepp/output.b3o4cmw2/root/P_8/pplacer.extended.0.8ikv_aq2.jplace\n",
      "[18:02:36] jobs.py (line 131):     INFO: Finished pplacer Job with input: backbone_alignment_file:/tmp/sepp/output.b3o4cmw2/root/P_8/pplacer.backbone.mfnx8anp.fasta, tree_file:/tmp/sepp/output.b3o4cmw2/root/P_8/pplacer.tree.f1e3y6ag.tre, info_file:/home/lauro/anaconda3/envs/qiime2-2021.11/lib/python3.8/site-packages/picrust2/default_files/prokaryotic/pro_ref/pro_ref.raxml_info, extended alignment:/tmp/sepp/output.b3o4cmw2/root/P_8/pplacer.extended.2.81s2ra8d.fasta, output:/tmp/sepp/output.b3o4cmw2/root/P_8/pplacer.extended.2.81s2ra8d.jplace\n",
      "[18:02:38] jobs.py (line 131):     INFO: Finished pplacer Job with input: backbone_alignment_file:/tmp/sepp/output.b3o4cmw2/root/P_6/pplacer.backbone.z77rnif2.fasta, tree_file:/tmp/sepp/output.b3o4cmw2/root/P_6/pplacer.tree.hs_5d8yb.tre, info_file:/home/lauro/anaconda3/envs/qiime2-2021.11/lib/python3.8/site-packages/picrust2/default_files/prokaryotic/pro_ref/pro_ref.raxml_info, extended alignment:/tmp/sepp/output.b3o4cmw2/root/P_6/pplacer.extended.2.r5egvpp2.fasta, output:/tmp/sepp/output.b3o4cmw2/root/P_6/pplacer.extended.2.r5egvpp2.jplace\n",
      "[18:02:38] jobs.py (line 131):     INFO: Finished pplacer Job with input: backbone_alignment_file:/tmp/sepp/output.b3o4cmw2/root/P_7/pplacer.backbone.ex80p40a.fasta, tree_file:/tmp/sepp/output.b3o4cmw2/root/P_7/pplacer.tree.xiyc0cfj.tre, info_file:/home/lauro/anaconda3/envs/qiime2-2021.11/lib/python3.8/site-packages/picrust2/default_files/prokaryotic/pro_ref/pro_ref.raxml_info, extended alignment:/tmp/sepp/output.b3o4cmw2/root/P_7/pplacer.extended.0.byozs7tc.fasta, output:/tmp/sepp/output.b3o4cmw2/root/P_7/pplacer.extended.0.byozs7tc.jplace\n",
      "[18:02:39] jobs.py (line 131):     INFO: Finished pplacer Job with input: backbone_alignment_file:/tmp/sepp/output.b3o4cmw2/root/P_7/pplacer.backbone.d2kvhk35.fasta, tree_file:/tmp/sepp/output.b3o4cmw2/root/P_7/pplacer.tree.n8dmt8b8.tre, info_file:/home/lauro/anaconda3/envs/qiime2-2021.11/lib/python3.8/site-packages/picrust2/default_files/prokaryotic/pro_ref/pro_ref.raxml_info, extended alignment:/tmp/sepp/output.b3o4cmw2/root/P_7/pplacer.extended.1.dbdqh_vo.fasta, output:/tmp/sepp/output.b3o4cmw2/root/P_7/pplacer.extended.1.dbdqh_vo.jplace\n",
      "[18:02:39] jobs.py (line 131):     INFO: Finished pplacer Job with input: backbone_alignment_file:/tmp/sepp/output.b3o4cmw2/root/P_6/pplacer.backbone.02kujib7.fasta, tree_file:/tmp/sepp/output.b3o4cmw2/root/P_6/pplacer.tree.xea9jp60.tre, info_file:/home/lauro/anaconda3/envs/qiime2-2021.11/lib/python3.8/site-packages/picrust2/default_files/prokaryotic/pro_ref/pro_ref.raxml_info, extended alignment:/tmp/sepp/output.b3o4cmw2/root/P_6/pplacer.extended.1.nx9q71p3.fasta, output:/tmp/sepp/output.b3o4cmw2/root/P_6/pplacer.extended.1.nx9q71p3.jplace\n",
      "[18:02:41] jobs.py (line 131):     INFO: Finished pplacer Job with input: backbone_alignment_file:/tmp/sepp/output.b3o4cmw2/root/P_10/pplacer.backbone.rb8avtw6.fasta, tree_file:/tmp/sepp/output.b3o4cmw2/root/P_10/pplacer.tree.5rfv20k8.tre, info_file:/home/lauro/anaconda3/envs/qiime2-2021.11/lib/python3.8/site-packages/picrust2/default_files/prokaryotic/pro_ref/pro_ref.raxml_info, extended alignment:/tmp/sepp/output.b3o4cmw2/root/P_10/pplacer.extended.0.ba9w9cit.fasta, output:/tmp/sepp/output.b3o4cmw2/root/P_10/pplacer.extended.0.ba9w9cit.jplace\n",
      "[18:02:42] jobs.py (line 131):     INFO: Finished pplacer Job with input: backbone_alignment_file:/tmp/sepp/output.b3o4cmw2/root/P_7/pplacer.backbone.hd7ilnj2.fasta, tree_file:/tmp/sepp/output.b3o4cmw2/root/P_7/pplacer.tree.t2gkd4q1.tre, info_file:/home/lauro/anaconda3/envs/qiime2-2021.11/lib/python3.8/site-packages/picrust2/default_files/prokaryotic/pro_ref/pro_ref.raxml_info, extended alignment:/tmp/sepp/output.b3o4cmw2/root/P_7/pplacer.extended.2.bmfzl732.fasta, output:/tmp/sepp/output.b3o4cmw2/root/P_7/pplacer.extended.2.bmfzl732.jplace\n",
      "[18:02:43] jobs.py (line 131):     INFO: Finished pplacer Job with input: backbone_alignment_file:/tmp/sepp/output.b3o4cmw2/root/P_10/pplacer.backbone.nec84fz_.fasta, tree_file:/tmp/sepp/output.b3o4cmw2/root/P_10/pplacer.tree.t42p85tp.tre, info_file:/home/lauro/anaconda3/envs/qiime2-2021.11/lib/python3.8/site-packages/picrust2/default_files/prokaryotic/pro_ref/pro_ref.raxml_info, extended alignment:/tmp/sepp/output.b3o4cmw2/root/P_10/pplacer.extended.1.8umlfioc.fasta, output:/tmp/sepp/output.b3o4cmw2/root/P_10/pplacer.extended.1.8umlfioc.jplace\n",
      "[18:02:44] jobs.py (line 131):     INFO: Finished pplacer Job with input: backbone_alignment_file:/tmp/sepp/output.b3o4cmw2/root/P_9/pplacer.backbone.4un31dal.fasta, tree_file:/tmp/sepp/output.b3o4cmw2/root/P_9/pplacer.tree.dh60wir5.tre, info_file:/home/lauro/anaconda3/envs/qiime2-2021.11/lib/python3.8/site-packages/picrust2/default_files/prokaryotic/pro_ref/pro_ref.raxml_info, extended alignment:/tmp/sepp/output.b3o4cmw2/root/P_9/pplacer.extended.0.xnqcgeoz.fasta, output:/tmp/sepp/output.b3o4cmw2/root/P_9/pplacer.extended.0.xnqcgeoz.jplace\n",
      "[18:02:46] jobs.py (line 131):     INFO: Finished pplacer Job with input: backbone_alignment_file:/tmp/sepp/output.b3o4cmw2/root/P_10/pplacer.backbone.9s9pnp1w.fasta, tree_file:/tmp/sepp/output.b3o4cmw2/root/P_10/pplacer.tree.bs1rnvfp.tre, info_file:/home/lauro/anaconda3/envs/qiime2-2021.11/lib/python3.8/site-packages/picrust2/default_files/prokaryotic/pro_ref/pro_ref.raxml_info, extended alignment:/tmp/sepp/output.b3o4cmw2/root/P_10/pplacer.extended.2.c179ugva.fasta, output:/tmp/sepp/output.b3o4cmw2/root/P_10/pplacer.extended.2.c179ugva.jplace\n",
      "[18:02:46] jobs.py (line 131):     INFO: Finished pplacer Job with input: backbone_alignment_file:/tmp/sepp/output.b3o4cmw2/root/P_9/pplacer.backbone.uatqhnqt.fasta, tree_file:/tmp/sepp/output.b3o4cmw2/root/P_9/pplacer.tree.3k2kwej8.tre, info_file:/home/lauro/anaconda3/envs/qiime2-2021.11/lib/python3.8/site-packages/picrust2/default_files/prokaryotic/pro_ref/pro_ref.raxml_info, extended alignment:/tmp/sepp/output.b3o4cmw2/root/P_9/pplacer.extended.1.hl7no1hs.fasta, output:/tmp/sepp/output.b3o4cmw2/root/P_9/pplacer.extended.1.hl7no1hs.jplace\n",
      "[18:02:49] jobs.py (line 131):     INFO: Finished pplacer Job with input: backbone_alignment_file:/tmp/sepp/output.b3o4cmw2/root/P_9/pplacer.backbone.r84p0vwx.fasta, tree_file:/tmp/sepp/output.b3o4cmw2/root/P_9/pplacer.tree.forzsix2.tre, info_file:/home/lauro/anaconda3/envs/qiime2-2021.11/lib/python3.8/site-packages/picrust2/default_files/prokaryotic/pro_ref/pro_ref.raxml_info, extended alignment:/tmp/sepp/output.b3o4cmw2/root/P_9/pplacer.extended.2.zgaeoaj_.fasta, output:/tmp/sepp/output.b3o4cmw2/root/P_9/pplacer.extended.2.zgaeoaj_.jplace\n",
      "[18:02:50] jobs.py (line 131):     INFO: Finished pplacer Job with input: backbone_alignment_file:/tmp/sepp/output.b3o4cmw2/root/P_13/pplacer.backbone.5nkvadpl.fasta, tree_file:/tmp/sepp/output.b3o4cmw2/root/P_13/pplacer.tree.hogbagd1.tre, info_file:/home/lauro/anaconda3/envs/qiime2-2021.11/lib/python3.8/site-packages/picrust2/default_files/prokaryotic/pro_ref/pro_ref.raxml_info, extended alignment:/tmp/sepp/output.b3o4cmw2/root/P_13/pplacer.extended.0.n2nh1fy4.fasta, output:/tmp/sepp/output.b3o4cmw2/root/P_13/pplacer.extended.0.n2nh1fy4.jplace\n",
      "[18:02:52] jobs.py (line 131):     INFO: Finished pplacer Job with input: backbone_alignment_file:/tmp/sepp/output.b3o4cmw2/root/P_12/pplacer.backbone.gwn4ymgj.fasta, tree_file:/tmp/sepp/output.b3o4cmw2/root/P_12/pplacer.tree.d_a7_x94.tre, info_file:/home/lauro/anaconda3/envs/qiime2-2021.11/lib/python3.8/site-packages/picrust2/default_files/prokaryotic/pro_ref/pro_ref.raxml_info, extended alignment:/tmp/sepp/output.b3o4cmw2/root/P_12/pplacer.extended.1._fgnnc73.fasta, output:/tmp/sepp/output.b3o4cmw2/root/P_12/pplacer.extended.1._fgnnc73.jplace\n",
      "[18:02:53] jobs.py (line 131):     INFO: Finished pplacer Job with input: backbone_alignment_file:/tmp/sepp/output.b3o4cmw2/root/P_12/pplacer.backbone.0frowel2.fasta, tree_file:/tmp/sepp/output.b3o4cmw2/root/P_12/pplacer.tree.qc3gbg81.tre, info_file:/home/lauro/anaconda3/envs/qiime2-2021.11/lib/python3.8/site-packages/picrust2/default_files/prokaryotic/pro_ref/pro_ref.raxml_info, extended alignment:/tmp/sepp/output.b3o4cmw2/root/P_12/pplacer.extended.0.peucvmwf.fasta, output:/tmp/sepp/output.b3o4cmw2/root/P_12/pplacer.extended.0.peucvmwf.jplace\n",
      "[18:02:54] jobs.py (line 131):     INFO: Finished pplacer Job with input: backbone_alignment_file:/tmp/sepp/output.b3o4cmw2/root/P_14/pplacer.backbone.81kh469m.fasta, tree_file:/tmp/sepp/output.b3o4cmw2/root/P_14/pplacer.tree.hyxi9few.tre, info_file:/home/lauro/anaconda3/envs/qiime2-2021.11/lib/python3.8/site-packages/picrust2/default_files/prokaryotic/pro_ref/pro_ref.raxml_info, extended alignment:/tmp/sepp/output.b3o4cmw2/root/P_14/pplacer.extended.0.gmn8rrdm.fasta, output:/tmp/sepp/output.b3o4cmw2/root/P_14/pplacer.extended.0.gmn8rrdm.jplace\n",
      "[18:02:54] jobs.py (line 131):     INFO: Finished pplacer Job with input: backbone_alignment_file:/tmp/sepp/output.b3o4cmw2/root/P_12/pplacer.backbone.qhtzsyis.fasta, tree_file:/tmp/sepp/output.b3o4cmw2/root/P_12/pplacer.tree.eqpo5kja.tre, info_file:/home/lauro/anaconda3/envs/qiime2-2021.11/lib/python3.8/site-packages/picrust2/default_files/prokaryotic/pro_ref/pro_ref.raxml_info, extended alignment:/tmp/sepp/output.b3o4cmw2/root/P_12/pplacer.extended.2.0ywfrzev.fasta, output:/tmp/sepp/output.b3o4cmw2/root/P_12/pplacer.extended.2.0ywfrzev.jplace\n",
      "[18:02:54] jobs.py (line 131):     INFO: Finished pplacer Job with input: backbone_alignment_file:/tmp/sepp/output.b3o4cmw2/root/P_13/pplacer.backbone.1y6d7byp.fasta, tree_file:/tmp/sepp/output.b3o4cmw2/root/P_13/pplacer.tree.ig2u_4x7.tre, info_file:/home/lauro/anaconda3/envs/qiime2-2021.11/lib/python3.8/site-packages/picrust2/default_files/prokaryotic/pro_ref/pro_ref.raxml_info, extended alignment:/tmp/sepp/output.b3o4cmw2/root/P_13/pplacer.extended.2.f5_0nopw.fasta, output:/tmp/sepp/output.b3o4cmw2/root/P_13/pplacer.extended.2.f5_0nopw.jplace\n",
      "[18:02:56] jobs.py (line 131):     INFO: Finished pplacer Job with input: backbone_alignment_file:/tmp/sepp/output.b3o4cmw2/root/P_14/pplacer.backbone.u4dsjqwq.fasta, tree_file:/tmp/sepp/output.b3o4cmw2/root/P_14/pplacer.tree.zaxnkbb6.tre, info_file:/home/lauro/anaconda3/envs/qiime2-2021.11/lib/python3.8/site-packages/picrust2/default_files/prokaryotic/pro_ref/pro_ref.raxml_info, extended alignment:/tmp/sepp/output.b3o4cmw2/root/P_14/pplacer.extended.1.ad_fb22v.fasta, output:/tmp/sepp/output.b3o4cmw2/root/P_14/pplacer.extended.1.ad_fb22v.jplace\n",
      "[18:02:57] jobs.py (line 131):     INFO: Finished pplacer Job with input: backbone_alignment_file:/tmp/sepp/output.b3o4cmw2/root/P_14/pplacer.backbone._9stl13d.fasta, tree_file:/tmp/sepp/output.b3o4cmw2/root/P_14/pplacer.tree.28w23gf2.tre, info_file:/home/lauro/anaconda3/envs/qiime2-2021.11/lib/python3.8/site-packages/picrust2/default_files/prokaryotic/pro_ref/pro_ref.raxml_info, extended alignment:/tmp/sepp/output.b3o4cmw2/root/P_14/pplacer.extended.2.h2nyw089.fasta, output:/tmp/sepp/output.b3o4cmw2/root/P_14/pplacer.extended.2.h2nyw089.jplace\n",
      "[18:02:57] jobs.py (line 131):     INFO: Finished pplacer Job with input: backbone_alignment_file:/tmp/sepp/output.b3o4cmw2/root/P_13/pplacer.backbone.1x9rs4ul.fasta, tree_file:/tmp/sepp/output.b3o4cmw2/root/P_13/pplacer.tree._gremstz.tre, info_file:/home/lauro/anaconda3/envs/qiime2-2021.11/lib/python3.8/site-packages/picrust2/default_files/prokaryotic/pro_ref/pro_ref.raxml_info, extended alignment:/tmp/sepp/output.b3o4cmw2/root/P_13/pplacer.extended.1.z7x7gj28.fasta, output:/tmp/sepp/output.b3o4cmw2/root/P_13/pplacer.extended.1.z7x7gj28.jplace\n",
      "[18:03:34] jobs.py (line 131):     INFO: Finished pplacer Job with input: backbone_alignment_file:/tmp/sepp/output.b3o4cmw2/root/P_11/pplacer.backbone.f8x10yym.fasta, tree_file:/tmp/sepp/output.b3o4cmw2/root/P_11/pplacer.tree.tnfmrj8a.tre, info_file:/home/lauro/anaconda3/envs/qiime2-2021.11/lib/python3.8/site-packages/picrust2/default_files/prokaryotic/pro_ref/pro_ref.raxml_info, extended alignment:/tmp/sepp/output.b3o4cmw2/root/P_11/pplacer.extended.1.usva24jz.fasta, output:/tmp/sepp/output.b3o4cmw2/root/P_11/pplacer.extended.1.usva24jz.jplace\n",
      "[18:03:35] jobs.py (line 131):     INFO: Finished pplacer Job with input: backbone_alignment_file:/tmp/sepp/output.b3o4cmw2/root/P_11/pplacer.backbone.k5143u4d.fasta, tree_file:/tmp/sepp/output.b3o4cmw2/root/P_11/pplacer.tree.depvz3ob.tre, info_file:/home/lauro/anaconda3/envs/qiime2-2021.11/lib/python3.8/site-packages/picrust2/default_files/prokaryotic/pro_ref/pro_ref.raxml_info, extended alignment:/tmp/sepp/output.b3o4cmw2/root/P_11/pplacer.extended.0.ql9g1bcz.fasta, output:/tmp/sepp/output.b3o4cmw2/root/P_11/pplacer.extended.0.ql9g1bcz.jplace\n",
      "[18:03:35] jobs.py (line 131):     INFO: Finished pplacer Job with input: backbone_alignment_file:/tmp/sepp/output.b3o4cmw2/root/P_11/pplacer.backbone.k66wuq4q.fasta, tree_file:/tmp/sepp/output.b3o4cmw2/root/P_11/pplacer.tree.tfju944n.tre, info_file:/home/lauro/anaconda3/envs/qiime2-2021.11/lib/python3.8/site-packages/picrust2/default_files/prokaryotic/pro_ref/pro_ref.raxml_info, extended alignment:/tmp/sepp/output.b3o4cmw2/root/P_11/pplacer.extended.2.6kj2s7eu.fasta, output:/tmp/sepp/output.b3o4cmw2/root/P_11/pplacer.extended.2.6kj2s7eu.jplace\n",
      "[18:03:45] jobs.py (line 131):     INFO: Finished jsonmerger Job with input: input:pipe output:/tmp/tmp_65p7qqi/picrust2_out/intermediate/place_seqs/sepp_out/output_placement.json\n",
      "[18:03:45] algorithm.py (line 195):     INFO: Current execution Finished in 151 seconds\n",
      "[18:03:45] algorithm.py (line 197):     INFO: All checkpointed executions Finished in 151 cumulative time\n",
      "\n",
      "gappa examine graft --jplace-path /tmp/tmp_65p7qqi/picrust2_out/intermediate/place_seqs/sepp_out/output_placement.json --fully-resolve --out-dir /tmp/tmp_65p7qqi/picrust2_out/intermediate/place_seqs/sepp_out\n",
      "\n",
      "mv /tmp/tmp_65p7qqi/picrust2_out/intermediate/place_seqs/sepp_out/output_placement.newick /tmp/tmp_65p7qqi/picrust2_out/out.tre\n",
      "\n",
      "Finished placing sequences on output tree: /tmp/tmp_65p7qqi/picrust2_out/out.tre\n",
      "hsp.py --tree /tmp/tmp_65p7qqi/picrust2_out/out.tre --output /tmp/tmp_65p7qqi/picrust2_out/marker_predicted_and_nsti.tsv.gz --observed_trait_table /home/lauro/anaconda3/envs/qiime2-2021.11/lib/python3.8/site-packages/picrust2/default_files/prokaryotic/16S.txt.gz --hsp_method pic --edge_exponent 0.5 --seed 100 --calculate_NSTI --processes 1 --verbose\n"
     ]
    },
    {
     "name": "stdout",
     "output_type": "stream",
     "text": [
      "\n",
      "\n",
      "\n"
     ]
    },
    {
     "name": "stderr",
     "output_type": "stream",
     "text": [
      "Rscript /home/lauro/anaconda3/envs/qiime2-2021.11/lib/python3.8/site-packages/picrust2/Rscripts/castor_nsti.R /tmp/tmp_65p7qqi/picrust2_out/out.tre /tmp/tmp8pnj_a6f/known_tips.txt /tmp/tmp8pnj_a6f/nsti_out.txt\n",
      "\n",
      "Rscript /home/lauro/anaconda3/envs/qiime2-2021.11/lib/python3.8/site-packages/picrust2/Rscripts/castor_hsp.R /tmp/tmp_65p7qqi/picrust2_out/out.tre /tmp/tmpc1rgffue/subset_tab_0 pic 0.5 FALSE FALSE /tmp/tmp9kyj6xdr/predicted_counts.txt /tmp/tmp9kyj6xdr/predicted_ci.txt 100\n",
      "\n",
      "\n",
      "hsp.py --tree /tmp/tmp_65p7qqi/picrust2_out/out.tre --output /tmp/tmp_65p7qqi/picrust2_out/EC_predicted.tsv.gz --observed_trait_table /home/lauro/anaconda3/envs/qiime2-2021.11/lib/python3.8/site-packages/picrust2/default_files/prokaryotic/ec.txt.gz --hsp_method pic --edge_exponent 0.5 --seed 100 --processes 6 --verbose\n"
     ]
    },
    {
     "name": "stdout",
     "output_type": "stream",
     "text": [
      "\n",
      "\n",
      "\n",
      "\n",
      "\n",
      "\n",
      "\n"
     ]
    },
    {
     "name": "stderr",
     "output_type": "stream",
     "text": [
      "Rscript /home/lauro/anaconda3/envs/qiime2-2021.11/lib/python3.8/site-packages/picrust2/Rscripts/castor_hsp.R /tmp/tmp_65p7qqi/picrust2_out/out.tre /tmp/tmpgooqoeul/subset_tab_0 pic 0.5 FALSE FALSE /tmp/tmpx5p2g2gl/predicted_counts.txt /tmp/tmpx5p2g2gl/predicted_ci.txt 100\n",
      "\n",
      "Rscript /home/lauro/anaconda3/envs/qiime2-2021.11/lib/python3.8/site-packages/picrust2/Rscripts/castor_hsp.R /tmp/tmp_65p7qqi/picrust2_out/out.tre /tmp/tmpgooqoeul/subset_tab_5 pic 0.5 FALSE FALSE /tmp/tmp1s8hobzx/predicted_counts.txt /tmp/tmp1s8hobzx/predicted_ci.txt 100\n",
      "\n",
      "Rscript /home/lauro/anaconda3/envs/qiime2-2021.11/lib/python3.8/site-packages/picrust2/Rscripts/castor_hsp.R /tmp/tmp_65p7qqi/picrust2_out/out.tre /tmp/tmpgooqoeul/subset_tab_3 pic 0.5 FALSE FALSE /tmp/tmpw8ydpph9/predicted_counts.txt /tmp/tmpw8ydpph9/predicted_ci.txt 100\n",
      "\n",
      "Rscript /home/lauro/anaconda3/envs/qiime2-2021.11/lib/python3.8/site-packages/picrust2/Rscripts/castor_hsp.R /tmp/tmp_65p7qqi/picrust2_out/out.tre /tmp/tmpgooqoeul/subset_tab_2 pic 0.5 FALSE FALSE /tmp/tmpn08hpc9n/predicted_counts.txt /tmp/tmpn08hpc9n/predicted_ci.txt 100\n",
      "\n",
      "Rscript /home/lauro/anaconda3/envs/qiime2-2021.11/lib/python3.8/site-packages/picrust2/Rscripts/castor_hsp.R /tmp/tmp_65p7qqi/picrust2_out/out.tre /tmp/tmpgooqoeul/subset_tab_1 pic 0.5 FALSE FALSE /tmp/tmpli1e_fwb/predicted_counts.txt /tmp/tmpli1e_fwb/predicted_ci.txt 100\n",
      "\n",
      "Rscript /home/lauro/anaconda3/envs/qiime2-2021.11/lib/python3.8/site-packages/picrust2/Rscripts/castor_hsp.R /tmp/tmp_65p7qqi/picrust2_out/out.tre /tmp/tmpgooqoeul/subset_tab_4 pic 0.5 FALSE FALSE /tmp/tmpl45i0eqg/predicted_counts.txt /tmp/tmpl45i0eqg/predicted_ci.txt 100\n",
      "\n",
      "\n",
      "hsp.py --tree /tmp/tmp_65p7qqi/picrust2_out/out.tre --output /tmp/tmp_65p7qqi/picrust2_out/KO_predicted.tsv.gz --observed_trait_table /home/lauro/anaconda3/envs/qiime2-2021.11/lib/python3.8/site-packages/picrust2/default_files/prokaryotic/ko.txt.gz --hsp_method pic --edge_exponent 0.5 --seed 100 --processes 6 --verbose\n"
     ]
    },
    {
     "name": "stdout",
     "output_type": "stream",
     "text": [
      "\n",
      "\n",
      "\n",
      "\n",
      "\n",
      "\n",
      "\n",
      "\n",
      "\n",
      "\n",
      "\n",
      "\n",
      "\n",
      "\n",
      "\n",
      "\n",
      "\n",
      "\n",
      "\n",
      "\n",
      "\n",
      "\n",
      "\n"
     ]
    },
    {
     "name": "stderr",
     "output_type": "stream",
     "text": [
      "Rscript /home/lauro/anaconda3/envs/qiime2-2021.11/lib/python3.8/site-packages/picrust2/Rscripts/castor_hsp.R /tmp/tmp_65p7qqi/picrust2_out/out.tre /tmp/tmp3_5wie_c/subset_tab_3 pic 0.5 FALSE FALSE /tmp/tmpu8ofdy82/predicted_counts.txt /tmp/tmpu8ofdy82/predicted_ci.txt 100\n",
      "\n",
      "Rscript /home/lauro/anaconda3/envs/qiime2-2021.11/lib/python3.8/site-packages/picrust2/Rscripts/castor_hsp.R /tmp/tmp_65p7qqi/picrust2_out/out.tre /tmp/tmp3_5wie_c/subset_tab_9 pic 0.5 FALSE FALSE /tmp/tmp7bud82rs/predicted_counts.txt /tmp/tmp7bud82rs/predicted_ci.txt 100\n",
      "\n",
      "Rscript /home/lauro/anaconda3/envs/qiime2-2021.11/lib/python3.8/site-packages/picrust2/Rscripts/castor_hsp.R /tmp/tmp_65p7qqi/picrust2_out/out.tre /tmp/tmp3_5wie_c/subset_tab_14 pic 0.5 FALSE FALSE /tmp/tmpyz85ozew/predicted_counts.txt /tmp/tmpyz85ozew/predicted_ci.txt 100\n",
      "\n",
      "Rscript /home/lauro/anaconda3/envs/qiime2-2021.11/lib/python3.8/site-packages/picrust2/Rscripts/castor_hsp.R /tmp/tmp_65p7qqi/picrust2_out/out.tre /tmp/tmp3_5wie_c/subset_tab_0 pic 0.5 FALSE FALSE /tmp/tmpb02ls8_y/predicted_counts.txt /tmp/tmpb02ls8_y/predicted_ci.txt 100\n",
      "\n",
      "Rscript /home/lauro/anaconda3/envs/qiime2-2021.11/lib/python3.8/site-packages/picrust2/Rscripts/castor_hsp.R /tmp/tmp_65p7qqi/picrust2_out/out.tre /tmp/tmp3_5wie_c/subset_tab_8 pic 0.5 FALSE FALSE /tmp/tmp7sh_0321/predicted_counts.txt /tmp/tmp7sh_0321/predicted_ci.txt 100\n",
      "\n",
      "Rscript /home/lauro/anaconda3/envs/qiime2-2021.11/lib/python3.8/site-packages/picrust2/Rscripts/castor_hsp.R /tmp/tmp_65p7qqi/picrust2_out/out.tre /tmp/tmp3_5wie_c/subset_tab_16 pic 0.5 FALSE FALSE /tmp/tmp51d7ye0l/predicted_counts.txt /tmp/tmp51d7ye0l/predicted_ci.txt 100\n",
      "\n",
      "Rscript /home/lauro/anaconda3/envs/qiime2-2021.11/lib/python3.8/site-packages/picrust2/Rscripts/castor_hsp.R /tmp/tmp_65p7qqi/picrust2_out/out.tre /tmp/tmp3_5wie_c/subset_tab_21 pic 0.5 FALSE FALSE /tmp/tmp2qf9k9z7/predicted_counts.txt /tmp/tmp2qf9k9z7/predicted_ci.txt 100\n",
      "\n",
      "Rscript /home/lauro/anaconda3/envs/qiime2-2021.11/lib/python3.8/site-packages/picrust2/Rscripts/castor_hsp.R /tmp/tmp_65p7qqi/picrust2_out/out.tre /tmp/tmp3_5wie_c/subset_tab_4 pic 0.5 FALSE FALSE /tmp/tmpva6j3qxe/predicted_counts.txt /tmp/tmpva6j3qxe/predicted_ci.txt 100\n",
      "\n",
      "Rscript /home/lauro/anaconda3/envs/qiime2-2021.11/lib/python3.8/site-packages/picrust2/Rscripts/castor_hsp.R /tmp/tmp_65p7qqi/picrust2_out/out.tre /tmp/tmp3_5wie_c/subset_tab_11 pic 0.5 FALSE FALSE /tmp/tmp22j8of3q/predicted_counts.txt /tmp/tmp22j8of3q/predicted_ci.txt 100\n",
      "\n",
      "Rscript /home/lauro/anaconda3/envs/qiime2-2021.11/lib/python3.8/site-packages/picrust2/Rscripts/castor_hsp.R /tmp/tmp_65p7qqi/picrust2_out/out.tre /tmp/tmp3_5wie_c/subset_tab_17 pic 0.5 FALSE FALSE /tmp/tmp8jz126hp/predicted_counts.txt /tmp/tmp8jz126hp/predicted_ci.txt 100\n",
      "\n",
      "Rscript /home/lauro/anaconda3/envs/qiime2-2021.11/lib/python3.8/site-packages/picrust2/Rscripts/castor_hsp.R /tmp/tmp_65p7qqi/picrust2_out/out.tre /tmp/tmp3_5wie_c/subset_tab_5 pic 0.5 FALSE FALSE /tmp/tmp4oyo5giy/predicted_counts.txt /tmp/tmp4oyo5giy/predicted_ci.txt 100\n",
      "\n",
      "Rscript /home/lauro/anaconda3/envs/qiime2-2021.11/lib/python3.8/site-packages/picrust2/Rscripts/castor_hsp.R /tmp/tmp_65p7qqi/picrust2_out/out.tre /tmp/tmp3_5wie_c/subset_tab_7 pic 0.5 FALSE FALSE /tmp/tmpfx6tucw2/predicted_counts.txt /tmp/tmpfx6tucw2/predicted_ci.txt 100\n",
      "\n",
      "Rscript /home/lauro/anaconda3/envs/qiime2-2021.11/lib/python3.8/site-packages/picrust2/Rscripts/castor_hsp.R /tmp/tmp_65p7qqi/picrust2_out/out.tre /tmp/tmp3_5wie_c/subset_tab_12 pic 0.5 FALSE FALSE /tmp/tmpk3ve8xhe/predicted_counts.txt /tmp/tmpk3ve8xhe/predicted_ci.txt 100\n",
      "\n",
      "Rscript /home/lauro/anaconda3/envs/qiime2-2021.11/lib/python3.8/site-packages/picrust2/Rscripts/castor_hsp.R /tmp/tmp_65p7qqi/picrust2_out/out.tre /tmp/tmp3_5wie_c/subset_tab_18 pic 0.5 FALSE FALSE /tmp/tmpm3izyfp_/predicted_counts.txt /tmp/tmpm3izyfp_/predicted_ci.txt 100\n",
      "\n",
      "Rscript /home/lauro/anaconda3/envs/qiime2-2021.11/lib/python3.8/site-packages/picrust2/Rscripts/castor_hsp.R /tmp/tmp_65p7qqi/picrust2_out/out.tre /tmp/tmp3_5wie_c/subset_tab_2 pic 0.5 FALSE FALSE /tmp/tmp8qt8ed_7/predicted_counts.txt /tmp/tmp8qt8ed_7/predicted_ci.txt 100\n",
      "\n",
      "Rscript /home/lauro/anaconda3/envs/qiime2-2021.11/lib/python3.8/site-packages/picrust2/Rscripts/castor_hsp.R /tmp/tmp_65p7qqi/picrust2_out/out.tre /tmp/tmp3_5wie_c/subset_tab_6 pic 0.5 FALSE FALSE /tmp/tmp2_fz2uy5/predicted_counts.txt /tmp/tmp2_fz2uy5/predicted_ci.txt 100\n",
      "\n",
      "Rscript /home/lauro/anaconda3/envs/qiime2-2021.11/lib/python3.8/site-packages/picrust2/Rscripts/castor_hsp.R /tmp/tmp_65p7qqi/picrust2_out/out.tre /tmp/tmp3_5wie_c/subset_tab_13 pic 0.5 FALSE FALSE /tmp/tmp2curq30b/predicted_counts.txt /tmp/tmp2curq30b/predicted_ci.txt 100\n",
      "\n",
      "Rscript /home/lauro/anaconda3/envs/qiime2-2021.11/lib/python3.8/site-packages/picrust2/Rscripts/castor_hsp.R /tmp/tmp_65p7qqi/picrust2_out/out.tre /tmp/tmp3_5wie_c/subset_tab_19 pic 0.5 FALSE FALSE /tmp/tmpcdhef8se/predicted_counts.txt /tmp/tmpcdhef8se/predicted_ci.txt 100\n",
      "\n",
      "Rscript /home/lauro/anaconda3/envs/qiime2-2021.11/lib/python3.8/site-packages/picrust2/Rscripts/castor_hsp.R /tmp/tmp_65p7qqi/picrust2_out/out.tre /tmp/tmp3_5wie_c/subset_tab_1 pic 0.5 FALSE FALSE /tmp/tmpclpiv9k9/predicted_counts.txt /tmp/tmpclpiv9k9/predicted_ci.txt 100\n",
      "\n",
      "Rscript /home/lauro/anaconda3/envs/qiime2-2021.11/lib/python3.8/site-packages/picrust2/Rscripts/castor_hsp.R /tmp/tmp_65p7qqi/picrust2_out/out.tre /tmp/tmp3_5wie_c/subset_tab_10 pic 0.5 FALSE FALSE /tmp/tmp_qddgzjq/predicted_counts.txt /tmp/tmp_qddgzjq/predicted_ci.txt 100\n",
      "\n",
      "Rscript /home/lauro/anaconda3/envs/qiime2-2021.11/lib/python3.8/site-packages/picrust2/Rscripts/castor_hsp.R /tmp/tmp_65p7qqi/picrust2_out/out.tre /tmp/tmp3_5wie_c/subset_tab_15 pic 0.5 FALSE FALSE /tmp/tmpl0maee1c/predicted_counts.txt /tmp/tmpl0maee1c/predicted_ci.txt 100\n",
      "\n",
      "Rscript /home/lauro/anaconda3/envs/qiime2-2021.11/lib/python3.8/site-packages/picrust2/Rscripts/castor_hsp.R /tmp/tmp_65p7qqi/picrust2_out/out.tre /tmp/tmp3_5wie_c/subset_tab_20 pic 0.5 FALSE FALSE /tmp/tmpc34kcvjw/predicted_counts.txt /tmp/tmpc34kcvjw/predicted_ci.txt 100\n",
      "\n",
      "\n",
      "Running metagenome pipeline for EC\n",
      "metagenome_pipeline.py --input /tmp/tmp_65p7qqi/intable.biom --function /tmp/tmp_65p7qqi/picrust2_out/EC_predicted.tsv.gz --min_reads 1 --min_samples 1 --out_dir /tmp/tmp_65p7qqi/picrust2_out/EC_metagenome_out --max_nsti 2 --marker /tmp/tmp_65p7qqi/picrust2_out/marker_predicted_and_nsti.tsv.gz\n"
     ]
    },
    {
     "name": "stdout",
     "output_type": "stream",
     "text": [
      "\n"
     ]
    },
    {
     "name": "stderr",
     "output_type": "stream",
     "text": [
      "All ASVs were below the max NSTI cut-off of 2.0 and so all were retained for downstream analyses.\n",
      "\n",
      "Running metagenome pipeline for KO\n",
      "metagenome_pipeline.py --input /tmp/tmp_65p7qqi/intable.biom --function /tmp/tmp_65p7qqi/picrust2_out/KO_predicted.tsv.gz --min_reads 1 --min_samples 1 --out_dir /tmp/tmp_65p7qqi/picrust2_out/KO_metagenome_out --max_nsti 2 --marker /tmp/tmp_65p7qqi/picrust2_out/marker_predicted_and_nsti.tsv.gz\n"
     ]
    },
    {
     "name": "stdout",
     "output_type": "stream",
     "text": [
      "\n",
      "Inferring pathways from predicted EC\n"
     ]
    },
    {
     "name": "stderr",
     "output_type": "stream",
     "text": [
      "All ASVs were below the max NSTI cut-off of 2.0 and so all were retained for downstream analyses.\n",
      "\n",
      "pathway_pipeline.py --input /tmp/tmp_65p7qqi/picrust2_out/EC_metagenome_out/pred_metagenome_unstrat.tsv.gz --out_dir /tmp/tmp_65p7qqi/picrust2_out/pathways_out --map /home/lauro/anaconda3/envs/qiime2-2021.11/lib/python3.8/site-packages/picrust2/default_files/pathway_mapfiles/metacyc_path2rxn_struc_filt_pro.txt --intermediate /tmp/tmp_65p7qqi/picrust2_out/intermediate/pathways --proc 6 --regroup_map /home/lauro/anaconda3/envs/qiime2-2021.11/lib/python3.8/site-packages/picrust2/default_files/pathway_mapfiles/ec_level4_to_metacyc_rxn.tsv --verbose\n"
     ]
    },
    {
     "name": "stderr",
     "output_type": "stream",
     "text": [
      "\n",
      "Wrote predicted pathway abundances and coverages to /tmp/tmp_65p7qqi/picrust2_out/pathways_out\n"
     ]
    }
   ],
   "source": [
    "need_pipeline = replace_files\n",
    "need_pipeline |= not (os.path.isfile(ec_path) and os.path.isfile(ko_path) and os.path.isfile(pathway_path))\n",
    "if need_pipeline:\n",
    "    results = picrust2.methods.full_pipeline(\n",
    "        table=tabs, \n",
    "        seq=seqs, \n",
    "        threads=6, \n",
    "        placement_tool='sepp',\n",
    "        hsp_method='pic', \n",
    "        max_nsti=2,\n",
    "        highly_verbose=True\n",
    "    )\n",
    "    ec_metagenome = results.ec_metagenome\n",
    "    ko_metagenome = results.ko_metagenome\n",
    "    pathway_abundance = results.pathway_abundance\n",
    "else:\n",
    "    ec_metagenome = Artifact.load(ec_path)\n",
    "    ko_metagenome = Artifact.load(ko_path)\n",
    "    pathway_abundance = Artifact.load(pathway_path)"
   ]
  },
  {
   "cell_type": "markdown",
   "id": "771308c4",
   "metadata": {
    "papermill": {
     "duration": 0.041685,
     "end_time": "2023-09-04T18:07:41.108319",
     "exception": false,
     "start_time": "2023-09-04T18:07:41.066634",
     "status": "completed"
    },
    "tags": []
   },
   "source": [
    "### Persist created artifacts\n",
    "\n",
    "We will define file paths and persist all artifacts. We start with `.qza` files. We will save the visualization files in sequence as `qzv` files. Finally, we save a `biom`-like file as `tsv` with brief descriptions of all functions."
   ]
  },
  {
   "cell_type": "code",
   "execution_count": 10,
   "id": "c680ab46",
   "metadata": {
    "ExecuteTime": {
     "end_time": "2022-11-09T19:20:47.646444Z",
     "start_time": "2022-11-09T19:20:47.643806Z"
    },
    "execution": {
     "iopub.execute_input": "2023-09-04T18:07:41.195702Z",
     "iopub.status.busy": "2023-09-04T18:07:41.195214Z",
     "iopub.status.idle": "2023-09-04T18:07:41.303294Z",
     "shell.execute_reply": "2023-09-04T18:07:41.303944Z"
    },
    "papermill": {
     "duration": 0.15502,
     "end_time": "2023-09-04T18:07:41.304146",
     "exception": false,
     "start_time": "2023-09-04T18:07:41.149126",
     "status": "completed"
    },
    "tags": []
   },
   "outputs": [],
   "source": [
    "if need_pipeline:\n",
    "    # Export artifact folder\n",
    "    ec_metagenome.export_data(output_dir=ec_path.split('.')[0])\n",
    "    ko_metagenome.export_data(output_dir=ko_path.split('.')[0])\n",
    "    pathway_abundance.export_data(output_dir=pathway_path.split('.')[0])\n",
    "    \n",
    "    # Save artifacts as .qza files\n",
    "    ec_metagenome.save(ec_path)\n",
    "    ko_metagenome.save(ko_path)\n",
    "    pathway_abundance.save(pathway_path)"
   ]
  },
  {
   "cell_type": "code",
   "execution_count": 11,
   "id": "d61ebec3",
   "metadata": {
    "ExecuteTime": {
     "end_time": "2022-11-09T19:20:47.687022Z",
     "start_time": "2022-11-09T19:20:47.647637Z"
    },
    "execution": {
     "iopub.execute_input": "2023-09-04T18:07:41.385842Z",
     "iopub.status.busy": "2023-09-04T18:07:41.385392Z",
     "iopub.status.idle": "2023-09-04T18:07:45.991087Z",
     "shell.execute_reply": "2023-09-04T18:07:45.991798Z"
    },
    "papermill": {
     "duration": 4.647222,
     "end_time": "2023-09-04T18:07:45.992018",
     "exception": false,
     "start_time": "2023-09-04T18:07:41.344796",
     "status": "completed"
    },
    "tags": []
   },
   "outputs": [],
   "source": [
    "need_viz = replace_files\n",
    "need_viz |= not (os.path.isfile(ec_viz_path) and os.path.isfile(ko_viz_path) and os.path.isfile(pathway_viz_path))\n",
    "if need_viz:\n",
    "    # Create visualization artifacts\n",
    "    ec_viz = summarize(table=ec_metagenome, sample_metadata=metadata_qa).visualization\n",
    "    ko_viz = summarize(table=ko_metagenome, sample_metadata=metadata_qa).visualization\n",
    "    path_viz = summarize(table=pathway_abundance, sample_metadata=metadata_qa).visualization\n",
    "\n",
    "    # Save visualization artifacts as .qzv files\n",
    "    ec_viz.save(ec_viz_path)\n",
    "    ko_viz.save(ko_viz_path)\n",
    "    path_viz.save(pathway_viz_path)"
   ]
  },
  {
   "cell_type": "code",
   "execution_count": 12,
   "id": "57f1f4d8",
   "metadata": {
    "ExecuteTime": {
     "end_time": "2022-11-09T19:20:47.704885Z",
     "start_time": "2022-11-09T19:20:47.689312Z"
    },
    "execution": {
     "iopub.execute_input": "2023-09-04T18:07:46.124173Z",
     "iopub.status.busy": "2023-09-04T18:07:46.123353Z",
     "iopub.status.idle": "2023-09-04T18:07:49.098455Z",
     "shell.execute_reply": "2023-09-04T18:07:49.099459Z"
    },
    "papermill": {
     "duration": 3.059043,
     "end_time": "2023-09-04T18:07:49.099753",
     "exception": false,
     "start_time": "2023-09-04T18:07:46.040710",
     "status": "completed"
    },
    "tags": []
   },
   "outputs": [],
   "source": [
    "need_biom = replace_files\n",
    "need_biom |= not (os.path.isfile(ec_fpath) and os.path.isfile(ko_fpath) and os.path.isfile(pathway_fpath))\n",
    "if need_biom:\n",
    "    # Convert artifact to dataframe - transposed\n",
    "    df_pathway = pathway_abundance.view(pd.DataFrame).T\n",
    "    df_ec = ec_metagenome.view(pd.DataFrame).T\n",
    "    df_ko = ko_metagenome.view(pd.DataFrame).T\n",
    "\n",
    "    # Write dataframe to a tsv file\n",
    "    df_pathway.to_csv(pathway_fpath, sep='\\t', index=True)\n",
    "    df_ec.to_csv(ec_fpath, sep='\\t', index=True)\n",
    "    df_ko.to_csv(ko_fpath, sep='\\t', index=True)\n",
    "    \n",
    "    # Put a new column with descriptions of each function's ID\n",
    "    !add_descriptions.py -i {ec_fpath} -m EC -o {ec_desc_fpath}\n",
    "    !add_descriptions.py -i {ko_fpath} -m KO -o {ko_desc_fpath}\n",
    "    !add_descriptions.py -i {pathway_fpath} -m METACYC -o {pathway_desc_fpath}"
   ]
  }
 ],
 "metadata": {
  "celltoolbar": "Edit Metadata",
  "kernelspec": {
   "display_name": "Python 3 (ipykernel)",
   "language": "python",
   "name": "python3"
  },
  "language_info": {
   "codemirror_mode": {
    "name": "ipython",
    "version": 3
   },
   "file_extension": ".py",
   "mimetype": "text/x-python",
   "name": "python",
   "nbconvert_exporter": "python",
   "pygments_lexer": "ipython3",
   "version": "3.8.12"
  },
  "papermill": {
   "default_parameters": {},
   "duration": 451.873986,
   "end_time": "2023-09-04T18:07:50.065804",
   "environment_variables": {},
   "exception": null,
   "input_path": "nb-templates/step-picrust2-analysis.ipynb",
   "output_path": "/home/lauro/nupeb/rede-micro/redemicro-ana-flavia-nutri/experiments/ana-flavia-NCxSTD-NC-trim/nb-executed-steps/step-picrust2-analysis-ana-flavia-NCxSTD-NC-trim.ipynb",
   "parameters": {
    "base_dir": "/home/lauro/nupeb/rede-micro/redemicro-ana-flavia-nutri",
    "class_col": "group-id",
    "classifier_file": "/home/lauro/nupeb/rede-micro/models/silva-138-99-nb-classifier.qza",
    "experiment_name": "ana-flavia-NCxSTD-NC-trim",
    "manifest_file": "/home/lauro/nupeb/rede-micro/redemicro-ana-flavia-nutri/data/raw/manifest/manifest-ana-flavia-NCxSTD-NC.csv",
    "metadata_file": "/home/lauro/nupeb/rede-micro/redemicro-ana-flavia-nutri/data/raw/metadata/metadata-ana-flavia-NCxSTD-NC.tsv",
    "overlap": 12,
    "phred": 20,
    "replace_files": false,
    "threads": 6,
    "top_n": 20,
    "trim": {
     "forward_primer": "CCTACGGGRSGCAGCAG",
     "overlap": 8,
     "reverse_primer": "GGACTACHVGGGTWTCTAAT"
    },
    "trunc_f": 0,
    "trunc_r": 0
   },
   "start_time": "2023-09-04T18:00:18.191818",
   "version": "2.3.4"
  }
 },
 "nbformat": 4,
 "nbformat_minor": 5
}