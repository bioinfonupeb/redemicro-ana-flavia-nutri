{
 "cells": [
  {
   "cell_type": "markdown",
   "id": "0e7f2330",
   "metadata": {
    "ExecuteTime": {
     "end_time": "2022-09-22T19:36:33.828188Z",
     "start_time": "2022-09-22T19:36:33.817323Z"
    },
    "papermill": {
     "duration": 0.010844,
     "end_time": "2024-03-05T22:04:26.130858",
     "exception": false,
     "start_time": "2024-03-05T22:04:26.120014",
     "status": "completed"
    },
    "tags": []
   },
   "source": [
    "### STEP : Diversity Analysis\n",
    "\n",
    "\n",
    "\n",
    "#### Example\n",
    "\n",
    "- [“Moving Pictures” tutorial](https://docs.qiime2.org/2022.8/tutorials/moving-pictures-usage/?highlight=ancom)\n",
    "- [Biostats ANCOM](http://scikit-bio.org/docs/0.4.2/generated/generated/skbio.stats.composition.ancom.html)\n",
    "\n",
    "\n",
    "#### Methods\n",
    "- [composition](https://docs.qiime2.org/2022.8/plugins/available/composition/)\n",
    "- [composition add_pseudocount](https://docs.qiime2.org/2022.8/plugins/available/composition/add-pseudocount/): Increment all counts in table by pseudocount.\n",
    "- [composition ancom](https://docs.qiime2.org/2022.8/plugins/available/composition/ancom/): Apply ANCOM to identify features that differ in abundance."
   ]
  },
  {
   "cell_type": "markdown",
   "id": "843debbf",
   "metadata": {
    "papermill": {
     "duration": 0.008289,
     "end_time": "2024-03-05T22:04:26.148644",
     "exception": false,
     "start_time": "2024-03-05T22:04:26.140355",
     "status": "completed"
    },
    "tags": []
   },
   "source": [
    "## Setup and settings"
   ]
  },
  {
   "cell_type": "code",
   "execution_count": 1,
   "id": "965e28e5",
   "metadata": {
    "ExecuteTime": {
     "end_time": "2022-11-03T20:35:26.198671Z",
     "start_time": "2022-11-03T20:35:06.473173Z"
    },
    "execution": {
     "iopub.execute_input": "2024-03-05T22:04:26.163568Z",
     "iopub.status.busy": "2024-03-05T22:04:26.162806Z",
     "iopub.status.idle": "2024-03-05T22:04:30.800457Z",
     "shell.execute_reply": "2024-03-05T22:04:30.799972Z"
    },
    "papermill": {
     "duration": 4.645364,
     "end_time": "2024-03-05T22:04:30.801706",
     "exception": false,
     "start_time": "2024-03-05T22:04:26.156342",
     "status": "completed"
    },
    "tags": []
   },
   "outputs": [],
   "source": [
    "# Importing packages\n",
    "import os\n",
    "import pandas as pd\n",
    "from qiime2 import Artifact\n",
    "from qiime2 import Visualization\n",
    "from qiime2 import Metadata\n",
    "\n",
    "from qiime2.plugins.composition.visualizers import ancom\n",
    "from qiime2.plugins.composition.methods import add_pseudocount\n",
    "\n",
    "from qiime2.plugins.feature_table.methods import filter_samples\n",
    "from qiime2.plugins.feature_table.methods import filter_seqs\n",
    "\n",
    "%matplotlib inline"
   ]
  },
  {
   "cell_type": "markdown",
   "id": "530ceb60",
   "metadata": {
    "papermill": {
     "duration": 0.001436,
     "end_time": "2024-03-05T22:04:30.804882",
     "exception": false,
     "start_time": "2024-03-05T22:04:30.803446",
     "status": "completed"
    },
    "tags": []
   },
   "source": [
    "### Receiving the parameters\n",
    "\n",
    "The following cell can receive parameters using the [papermill](https://papermill.readthedocs.io/en/latest/) tool."
   ]
  },
  {
   "cell_type": "code",
   "execution_count": 2,
   "id": "18d874ea",
   "metadata": {
    "ExecuteTime": {
     "end_time": "2022-09-29T20:54:14.793270Z",
     "start_time": "2022-09-29T20:54:14.789367Z"
    },
    "execution": {
     "iopub.execute_input": "2024-03-05T22:04:30.808534Z",
     "iopub.status.busy": "2024-03-05T22:04:30.808289Z",
     "iopub.status.idle": "2024-03-05T22:04:30.810907Z",
     "shell.execute_reply": "2024-03-05T22:04:30.810612Z"
    },
    "papermill": {
     "duration": 0.005452,
     "end_time": "2024-03-05T22:04:30.811783",
     "exception": false,
     "start_time": "2024-03-05T22:04:30.806331",
     "status": "completed"
    },
    "tags": [
     "parameters"
    ]
   },
   "outputs": [],
   "source": [
    "metadata_file = '/home/lauro/nupeb/rede-micro/redemicro-miliane-nutri/data/raw/metadata/miliane-metadata-CxAC.tsv'\n",
    "base_dir = os.path.join('/', 'home', 'lauro', 'nupeb', 'rede-micro', 'redemicro-miliane-nutri')\n",
    "experiment_name = 'miliane-CxAC-trim'\n",
    "class_col = 'group-id'\n",
    "replace_files = False"
   ]
  },
  {
   "cell_type": "code",
   "execution_count": 3,
   "id": "7a93ba4e",
   "metadata": {
    "execution": {
     "iopub.execute_input": "2024-03-05T22:04:30.815278Z",
     "iopub.status.busy": "2024-03-05T22:04:30.815155Z",
     "iopub.status.idle": "2024-03-05T22:04:30.818161Z",
     "shell.execute_reply": "2024-03-05T22:04:30.817739Z"
    },
    "papermill": {
     "duration": 0.005876,
     "end_time": "2024-03-05T22:04:30.819105",
     "exception": false,
     "start_time": "2024-03-05T22:04:30.813229",
     "status": "completed"
    },
    "tags": [
     "injected-parameters"
    ]
   },
   "outputs": [],
   "source": [
    "# Parameters\n",
    "base_dir = \"/mnt/nupeb/rede-micro/redemicro-ana-flavia-nutri\"\n",
    "class_col = \"group-id\"\n",
    "classifier_file = \"/mnt/nupeb/rede-micro/datasets/16S_classifiers_qiime2/silva-138-99-nb-classifier.qza\"\n",
    "experiment_name = \"ana-flavia-NCxSTD-NC-trim\"\n",
    "manifest_file = \"/mnt/nupeb/rede-micro/redemicro-ana-flavia-nutri/data/raw/manifest/manifest-ana-flavia-NCxSTD-NC.csv\"\n",
    "metadata_file = \"/mnt/nupeb/rede-micro/redemicro-ana-flavia-nutri/data/raw/metadata/metadata-ana-flavia-NCxSTD-NC.tsv\"\n",
    "overlap = 12\n",
    "phred = 20\n",
    "replace_files = False\n",
    "threads = 6\n",
    "top_n = 20\n",
    "trim = {\n",
    "    \"forward_primer\": \"CCTACGGGRSGCAGCAG\",\n",
    "    \"overlap\": 8,\n",
    "    \"reverse_primer\": \"GGACTACHVGGGTWTCTAAT\",\n",
    "}\n",
    "trunc_f = 0\n",
    "trunc_r = 0\n"
   ]
  },
  {
   "cell_type": "code",
   "execution_count": 4,
   "id": "f38617d9",
   "metadata": {
    "ExecuteTime": {
     "end_time": "2022-09-29T20:54:14.804575Z",
     "start_time": "2022-09-29T20:54:14.794927Z"
    },
    "execution": {
     "iopub.execute_input": "2024-03-05T22:04:30.822668Z",
     "iopub.status.busy": "2024-03-05T22:04:30.822485Z",
     "iopub.status.idle": "2024-03-05T22:04:30.824853Z",
     "shell.execute_reply": "2024-03-05T22:04:30.824449Z"
    },
    "papermill": {
     "duration": 0.005233,
     "end_time": "2024-03-05T22:04:30.825780",
     "exception": false,
     "start_time": "2024-03-05T22:04:30.820547",
     "status": "completed"
    },
    "tags": []
   },
   "outputs": [],
   "source": [
    "experiment_folder = os.path.abspath(os.path.join(base_dir, 'experiments', experiment_name))\n",
    "img_folder = os.path.abspath(os.path.join(experiment_folder, 'imgs'))"
   ]
  },
  {
   "cell_type": "markdown",
   "id": "ea9b90fb",
   "metadata": {
    "papermill": {
     "duration": 0.001444,
     "end_time": "2024-03-05T22:04:30.828789",
     "exception": false,
     "start_time": "2024-03-05T22:04:30.827345",
     "status": "completed"
    },
    "tags": []
   },
   "source": [
    "### Defining names, paths and flags"
   ]
  },
  {
   "cell_type": "code",
   "execution_count": 5,
   "id": "45727eef",
   "metadata": {
    "ExecuteTime": {
     "end_time": "2022-09-29T20:54:14.816686Z",
     "start_time": "2022-09-29T20:54:14.806238Z"
    },
    "execution": {
     "iopub.execute_input": "2024-03-05T22:04:30.832406Z",
     "iopub.status.busy": "2024-03-05T22:04:30.832234Z",
     "iopub.status.idle": "2024-03-05T22:04:30.834413Z",
     "shell.execute_reply": "2024-03-05T22:04:30.834006Z"
    },
    "papermill": {
     "duration": 0.00499,
     "end_time": "2024-03-05T22:04:30.835330",
     "exception": false,
     "start_time": "2024-03-05T22:04:30.830340",
     "status": "completed"
    },
    "tags": []
   },
   "outputs": [],
   "source": [
    "# QIIME2 Artifacts folder\n",
    "qiime_folder = os.path.join(experiment_folder, 'qiime-artifacts')\n",
    "\n",
    "# Input - DADA2 Artifacts\n",
    "dada2_tabs_path = os.path.join(qiime_folder, 'dada2-tabs.qza')"
   ]
  },
  {
   "cell_type": "markdown",
   "id": "0999a1b2",
   "metadata": {
    "papermill": {
     "duration": 0.001476,
     "end_time": "2024-03-05T22:04:30.838283",
     "exception": false,
     "start_time": "2024-03-05T22:04:30.836807",
     "status": "completed"
    },
    "tags": []
   },
   "source": [
    "## Step execution\n",
    "\n",
    "### Load input files\n",
    "\n",
    "This Step import the QIIME2 `FeatureTable[Frequency]` Artifact and the `Metadata` file."
   ]
  },
  {
   "cell_type": "code",
   "execution_count": 6,
   "id": "8f299d1a",
   "metadata": {
    "ExecuteTime": {
     "end_time": "2022-09-29T20:54:15.559837Z",
     "start_time": "2022-09-29T20:54:14.830405Z"
    },
    "execution": {
     "iopub.execute_input": "2024-03-05T22:04:30.841938Z",
     "iopub.status.busy": "2024-03-05T22:04:30.841736Z",
     "iopub.status.idle": "2024-03-05T22:04:30.937752Z",
     "shell.execute_reply": "2024-03-05T22:04:30.937294Z"
    },
    "papermill": {
     "duration": 0.099116,
     "end_time": "2024-03-05T22:04:30.938902",
     "exception": false,
     "start_time": "2024-03-05T22:04:30.839786",
     "status": "completed"
    },
    "tags": []
   },
   "outputs": [],
   "source": [
    "#Load Metadata\n",
    "metadata_qa = Metadata.load(metadata_file)\n",
    "\n",
    "#Load FeatureTable[Frequency]\n",
    "tabs = Artifact.load(dada2_tabs_path)\n",
    "\n",
    "# Filter FeatureTable[Frequency | RelativeFrequency | PresenceAbsence | Composition] based on Metadata sample ID values\n",
    "tabs = filter_samples(\n",
    "    table=tabs,\n",
    "    metadata=metadata_qa,\n",
    ").filtered_table"
   ]
  },
  {
   "cell_type": "markdown",
   "id": "a9a446c4",
   "metadata": {
    "papermill": {
     "duration": 0.001713,
     "end_time": "2024-03-05T22:04:30.942363",
     "exception": false,
     "start_time": "2024-03-05T22:04:30.940650",
     "status": "completed"
    },
    "tags": []
   },
   "source": [
    "# ANCOM\n",
    "\n",
    "Apply Analysis of Composition of Microbiomes (ANCOM) to identify features\n",
    "that are differentially abundant across groups.\n",
    "\n",
    "- [composition add_pseudocount](https://docs.qiime2.org/2022.8/plugins/available/composition/add-pseudocount/): Increment all counts in table by pseudocount.\n",
    "- [composition ancom](https://docs.qiime2.org/2022.8/plugins/available/composition/ancom/): Apply ANCOM to identify features that differ in abundance."
   ]
  },
  {
   "cell_type": "code",
   "execution_count": 7,
   "id": "cda81bf5",
   "metadata": {
    "execution": {
     "iopub.execute_input": "2024-03-05T22:04:30.946243Z",
     "iopub.status.busy": "2024-03-05T22:04:30.946015Z",
     "iopub.status.idle": "2024-03-05T22:04:30.949174Z",
     "shell.execute_reply": "2024-03-05T22:04:30.948850Z"
    },
    "papermill": {
     "duration": 0.006242,
     "end_time": "2024-03-05T22:04:30.950138",
     "exception": false,
     "start_time": "2024-03-05T22:04:30.943896",
     "status": "completed"
    },
    "tags": []
   },
   "outputs": [],
   "source": [
    "# Select class column\n",
    "column = metadata_qa.get_column(class_col)"
   ]
  },
  {
   "cell_type": "code",
   "execution_count": 8,
   "id": "2f023bcc",
   "metadata": {
    "execution": {
     "iopub.execute_input": "2024-03-05T22:04:30.954029Z",
     "iopub.status.busy": "2024-03-05T22:04:30.953782Z",
     "iopub.status.idle": "2024-03-05T22:04:31.038977Z",
     "shell.execute_reply": "2024-03-05T22:04:31.038528Z"
    },
    "papermill": {
     "duration": 0.088295,
     "end_time": "2024-03-05T22:04:31.040042",
     "exception": false,
     "start_time": "2024-03-05T22:04:30.951747",
     "status": "completed"
    },
    "tags": []
   },
   "outputs": [],
   "source": [
    "# Create the pseudocount table\n",
    "composition_tab = add_pseudocount(table = tabs).composition_table"
   ]
  },
  {
   "cell_type": "code",
   "execution_count": 9,
   "id": "2999c2f6",
   "metadata": {
    "execution": {
     "iopub.execute_input": "2024-03-05T22:04:31.044215Z",
     "iopub.status.busy": "2024-03-05T22:04:31.043968Z",
     "iopub.status.idle": "2024-03-05T22:12:54.554606Z",
     "shell.execute_reply": "2024-03-05T22:12:54.554068Z"
    },
    "papermill": {
     "duration": 503.514001,
     "end_time": "2024-03-05T22:12:54.555788",
     "exception": false,
     "start_time": "2024-03-05T22:04:31.041787",
     "status": "completed"
    },
    "tags": []
   },
   "outputs": [
    {
     "name": "stdout",
     "output_type": "stream",
     "text": [
      "Calculating ANCOM with: sqrt mean_difference\n"
     ]
    },
    {
     "name": "stderr",
     "output_type": "stream",
     "text": [
      "/home/lauro/anaconda3/envs/qiime2-2023.5/lib/python3.8/site-packages/scipy/stats/_stats_py.py:3659: F_onewayConstantInputWarning: Each of the input arrays is constant;the F statistic is not defined or infinite\n",
      "  warnings.warn(F_onewayConstantInputWarning())\n"
     ]
    },
    {
     "name": "stdout",
     "output_type": "stream",
     "text": [
      "Calculating ANCOM with: sqrt f_statistic\n"
     ]
    },
    {
     "name": "stderr",
     "output_type": "stream",
     "text": [
      "/home/lauro/anaconda3/envs/qiime2-2023.5/lib/python3.8/site-packages/scipy/stats/_stats_py.py:3659: F_onewayConstantInputWarning: Each of the input arrays is constant;the F statistic is not defined or infinite\n",
      "  warnings.warn(F_onewayConstantInputWarning())\n"
     ]
    },
    {
     "name": "stdout",
     "output_type": "stream",
     "text": [
      "Calculating ANCOM with: log mean_difference\n"
     ]
    },
    {
     "name": "stderr",
     "output_type": "stream",
     "text": [
      "/home/lauro/anaconda3/envs/qiime2-2023.5/lib/python3.8/site-packages/scipy/stats/_stats_py.py:3659: F_onewayConstantInputWarning: Each of the input arrays is constant;the F statistic is not defined or infinite\n",
      "  warnings.warn(F_onewayConstantInputWarning())\n"
     ]
    },
    {
     "name": "stdout",
     "output_type": "stream",
     "text": [
      "Calculating ANCOM with: log f_statistic\n"
     ]
    },
    {
     "name": "stderr",
     "output_type": "stream",
     "text": [
      "/home/lauro/anaconda3/envs/qiime2-2023.5/lib/python3.8/site-packages/scipy/stats/_stats_py.py:3659: F_onewayConstantInputWarning: Each of the input arrays is constant;the F statistic is not defined or infinite\n",
      "  warnings.warn(F_onewayConstantInputWarning())\n"
     ]
    },
    {
     "name": "stdout",
     "output_type": "stream",
     "text": [
      "Calculating ANCOM with: clr mean_difference\n"
     ]
    },
    {
     "name": "stderr",
     "output_type": "stream",
     "text": [
      "/home/lauro/anaconda3/envs/qiime2-2023.5/lib/python3.8/site-packages/scipy/stats/_stats_py.py:3659: F_onewayConstantInputWarning: Each of the input arrays is constant;the F statistic is not defined or infinite\n",
      "  warnings.warn(F_onewayConstantInputWarning())\n"
     ]
    },
    {
     "name": "stdout",
     "output_type": "stream",
     "text": [
      "Calculating ANCOM with: clr f_statistic\n"
     ]
    },
    {
     "name": "stderr",
     "output_type": "stream",
     "text": [
      "/home/lauro/anaconda3/envs/qiime2-2023.5/lib/python3.8/site-packages/scipy/stats/_stats_py.py:3659: F_onewayConstantInputWarning: Each of the input arrays is constant;the F statistic is not defined or infinite\n",
      "  warnings.warn(F_onewayConstantInputWarning())\n"
     ]
    }
   ],
   "source": [
    "# Create visualizations for each parameter combination for the ANCOM  method.\n",
    "transform_functions = ('sqrt', 'log', 'clr')\n",
    "difference_functions = ('mean_difference', 'f_statistic')\n",
    "for t in transform_functions:\n",
    "    for d in difference_functions:\n",
    "        print(f\"Calculating ANCOM with: {t} {d}\")\n",
    "        try:\n",
    "            ancom_viz = ancom(\n",
    "                table = composition_tab, \n",
    "                metadata = column, \n",
    "                transform_function = t, \n",
    "                difference_function = d\n",
    "            ).visualization\n",
    "            view_name = os.path.join(qiime_folder, f'ancom-{t}-{d}.qzv')\n",
    "            ancom_viz.save(view_name)\n",
    "        except Exception as e:\n",
    "            print(f\"ERROR: Calculating ANCOM with: {t} {d}\")\n",
    "            print(e)"
   ]
  }
 ],
 "metadata": {
  "celltoolbar": "Edit Metadata",
  "kernelspec": {
   "display_name": "Python 3 (ipykernel)",
   "language": "python",
   "name": "python3"
  },
  "language_info": {
   "codemirror_mode": {
    "name": "ipython",
    "version": 3
   },
   "file_extension": ".py",
   "mimetype": "text/x-python",
   "name": "python",
   "nbconvert_exporter": "python",
   "pygments_lexer": "ipython3",
   "version": "3.8.16"
  },
  "papermill": {
   "default_parameters": {},
   "duration": 510.215326,
   "end_time": "2024-03-05T22:12:55.274165",
   "environment_variables": {},
   "exception": null,
   "input_path": "nb-templates/step-abundance-analysis.ipynb",
   "output_path": "/mnt/nupeb/rede-micro/redemicro-ana-flavia-nutri/experiments/ana-flavia-NCxSTD-NC-trim/nb-executed-steps/step-abundance-analysis-ana-flavia-NCxSTD-NC-trim.ipynb",
   "parameters": {
    "base_dir": "/mnt/nupeb/rede-micro/redemicro-ana-flavia-nutri",
    "class_col": "group-id",
    "classifier_file": "/mnt/nupeb/rede-micro/datasets/16S_classifiers_qiime2/silva-138-99-nb-classifier.qza",
    "experiment_name": "ana-flavia-NCxSTD-NC-trim",
    "manifest_file": "/mnt/nupeb/rede-micro/redemicro-ana-flavia-nutri/data/raw/manifest/manifest-ana-flavia-NCxSTD-NC.csv",
    "metadata_file": "/mnt/nupeb/rede-micro/redemicro-ana-flavia-nutri/data/raw/metadata/metadata-ana-flavia-NCxSTD-NC.tsv",
    "overlap": 12,
    "phred": 20,
    "replace_files": false,
    "threads": 6,
    "top_n": 20,
    "trim": {
     "forward_primer": "CCTACGGGRSGCAGCAG",
     "overlap": 8,
     "reverse_primer": "GGACTACHVGGGTWTCTAAT"
    },
    "trunc_f": 0,
    "trunc_r": 0
   },
   "start_time": "2024-03-05T22:04:25.058839",
   "version": "2.4.0"
  }
 },
 "nbformat": 4,
 "nbformat_minor": 5
}