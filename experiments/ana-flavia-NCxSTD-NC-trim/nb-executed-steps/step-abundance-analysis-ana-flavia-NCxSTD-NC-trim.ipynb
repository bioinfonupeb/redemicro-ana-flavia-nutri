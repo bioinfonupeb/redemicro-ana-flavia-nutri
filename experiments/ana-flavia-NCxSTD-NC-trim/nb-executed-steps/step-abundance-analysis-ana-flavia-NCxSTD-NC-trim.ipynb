{
 "cells": [
  {
   "cell_type": "markdown",
   "id": "0e7f2330",
   "metadata": {
    "ExecuteTime": {
     "end_time": "2022-09-22T19:36:33.828188Z",
     "start_time": "2022-09-22T19:36:33.817323Z"
    },
    "papermill": {
     "duration": 0.016306,
     "end_time": "2023-08-23T20:05:39.985783",
     "exception": false,
     "start_time": "2023-08-23T20:05:39.969477",
     "status": "completed"
    },
    "tags": []
   },
   "source": [
    "### STEP : Diversity Analysis\n",
    "\n",
    "\n",
    "\n",
    "#### Example\n",
    "\n",
    "- [“Moving Pictures” tutorial](https://docs.qiime2.org/2022.8/tutorials/moving-pictures-usage/?highlight=ancom)\n",
    "- [Biostats ANCOM](http://scikit-bio.org/docs/0.4.2/generated/generated/skbio.stats.composition.ancom.html)\n",
    "\n",
    "\n",
    "#### Methods\n",
    "- [composition](https://docs.qiime2.org/2022.8/plugins/available/composition/)\n",
    "- [composition add_pseudocount](https://docs.qiime2.org/2022.8/plugins/available/composition/add-pseudocount/): Increment all counts in table by pseudocount.\n",
    "- [composition ancom](https://docs.qiime2.org/2022.8/plugins/available/composition/ancom/): Apply ANCOM to identify features that differ in abundance."
   ]
  },
  {
   "cell_type": "markdown",
   "id": "843debbf",
   "metadata": {
    "papermill": {
     "duration": 0.009441,
     "end_time": "2023-08-23T20:05:40.004719",
     "exception": false,
     "start_time": "2023-08-23T20:05:39.995278",
     "status": "completed"
    },
    "tags": []
   },
   "source": [
    "## Setup and settings"
   ]
  },
  {
   "cell_type": "code",
   "execution_count": 1,
   "id": "965e28e5",
   "metadata": {
    "ExecuteTime": {
     "end_time": "2022-11-03T20:35:26.198671Z",
     "start_time": "2022-11-03T20:35:06.473173Z"
    },
    "execution": {
     "iopub.execute_input": "2023-08-23T20:05:40.024400Z",
     "iopub.status.busy": "2023-08-23T20:05:40.024048Z",
     "iopub.status.idle": "2023-08-23T20:05:46.479793Z",
     "shell.execute_reply": "2023-08-23T20:05:46.479115Z"
    },
    "papermill": {
     "duration": 6.469382,
     "end_time": "2023-08-23T20:05:46.482969",
     "exception": false,
     "start_time": "2023-08-23T20:05:40.013587",
     "status": "completed"
    },
    "tags": []
   },
   "outputs": [],
   "source": [
    "# Importing packages\n",
    "import os\n",
    "import pandas as pd\n",
    "from qiime2 import Artifact\n",
    "from qiime2 import Visualization\n",
    "from qiime2 import Metadata\n",
    "\n",
    "from qiime2.plugins.composition.visualizers import ancom\n",
    "from qiime2.plugins.composition.methods import add_pseudocount\n",
    "\n",
    "%matplotlib inline"
   ]
  },
  {
   "cell_type": "markdown",
   "id": "530ceb60",
   "metadata": {
    "papermill": {
     "duration": 0.22574,
     "end_time": "2023-08-23T20:05:46.725272",
     "exception": false,
     "start_time": "2023-08-23T20:05:46.499532",
     "status": "completed"
    },
    "tags": []
   },
   "source": [
    "### Receiving the parameters\n",
    "\n",
    "The following cell can receive parameters using the [papermill](https://papermill.readthedocs.io/en/latest/) tool."
   ]
  },
  {
   "cell_type": "code",
   "execution_count": 2,
   "id": "18d874ea",
   "metadata": {
    "ExecuteTime": {
     "end_time": "2022-09-29T20:54:14.793270Z",
     "start_time": "2022-09-29T20:54:14.789367Z"
    },
    "execution": {
     "iopub.execute_input": "2023-08-23T20:05:46.782929Z",
     "iopub.status.busy": "2023-08-23T20:05:46.782239Z",
     "iopub.status.idle": "2023-08-23T20:05:46.789094Z",
     "shell.execute_reply": "2023-08-23T20:05:46.788010Z"
    },
    "papermill": {
     "duration": 0.019767,
     "end_time": "2023-08-23T20:05:46.790996",
     "exception": false,
     "start_time": "2023-08-23T20:05:46.771229",
     "status": "completed"
    },
    "tags": [
     "parameters"
    ]
   },
   "outputs": [],
   "source": [
    "metadata_file = '/home/lauro/nupeb/rede-micro/redemicro-miliane-nutri/data/raw/metadata/miliane-metadata-CxAC.tsv'\n",
    "base_dir = os.path.join('/', 'home', 'lauro', 'nupeb', 'rede-micro', 'redemicro-miliane-nutri')\n",
    "experiment_name = 'miliane-CxAC-trim'\n",
    "class_col = 'group-id'\n",
    "replace_files = False"
   ]
  },
  {
   "cell_type": "code",
   "execution_count": 3,
   "id": "c9e469b1",
   "metadata": {
    "execution": {
     "iopub.execute_input": "2023-08-23T20:05:46.813753Z",
     "iopub.status.busy": "2023-08-23T20:05:46.813119Z",
     "iopub.status.idle": "2023-08-23T20:05:46.821641Z",
     "shell.execute_reply": "2023-08-23T20:05:46.820563Z"
    },
    "papermill": {
     "duration": 0.021409,
     "end_time": "2023-08-23T20:05:46.823798",
     "exception": false,
     "start_time": "2023-08-23T20:05:46.802389",
     "status": "completed"
    },
    "tags": [
     "injected-parameters"
    ]
   },
   "outputs": [],
   "source": [
    "# Parameters\n",
    "experiment_name = \"ana-flavia-NCxSTD-NC-trim\"\n",
    "base_dir = \"/home/lauro/nupeb/rede-micro/redemicro-ana-flavia-nutri\"\n",
    "manifest_file = \"/home/lauro/nupeb/rede-micro/redemicro-ana-flavia-nutri/data/raw/manifest/manifest-ana-flavia-NCxSTD-NC.csv\"\n",
    "metadata_file = \"/home/lauro/nupeb/rede-micro/redemicro-ana-flavia-nutri/data/raw/metadata/metadata-ana-flavia-NCxSTD-NC.tsv\"\n",
    "class_col = \"group-id\"\n",
    "classifier_file = \"/home/lauro/nupeb/rede-micro/models/silva-138-99-nb-classifier.qza\"\n",
    "top_n = 20\n",
    "replace_files = False\n",
    "phred = 20\n",
    "trunc_f = 0\n",
    "trunc_r = 0\n",
    "overlap = 12\n",
    "threads = 6\n",
    "trim = {\n",
    "    \"overlap\": 8,\n",
    "    \"forward_primer\": \"CCTACGGGRSGCAGCAG\",\n",
    "    \"reverse_primer\": \"GGACTACHVGGGTWTCTAAT\",\n",
    "}\n"
   ]
  },
  {
   "cell_type": "code",
   "execution_count": 4,
   "id": "f38617d9",
   "metadata": {
    "ExecuteTime": {
     "end_time": "2022-09-29T20:54:14.804575Z",
     "start_time": "2022-09-29T20:54:14.794927Z"
    },
    "execution": {
     "iopub.execute_input": "2023-08-23T20:05:46.845207Z",
     "iopub.status.busy": "2023-08-23T20:05:46.844609Z",
     "iopub.status.idle": "2023-08-23T20:05:46.850872Z",
     "shell.execute_reply": "2023-08-23T20:05:46.849850Z"
    },
    "papermill": {
     "duration": 0.01931,
     "end_time": "2023-08-23T20:05:46.852986",
     "exception": false,
     "start_time": "2023-08-23T20:05:46.833676",
     "status": "completed"
    },
    "tags": []
   },
   "outputs": [],
   "source": [
    "experiment_folder = os.path.abspath(os.path.join(base_dir, 'experiments', experiment_name))\n",
    "img_folder = os.path.abspath(os.path.join(experiment_folder, 'imgs'))"
   ]
  },
  {
   "cell_type": "markdown",
   "id": "ea9b90fb",
   "metadata": {
    "papermill": {
     "duration": 0.009244,
     "end_time": "2023-08-23T20:05:46.873710",
     "exception": false,
     "start_time": "2023-08-23T20:05:46.864466",
     "status": "completed"
    },
    "tags": []
   },
   "source": [
    "### Defining names, paths and flags"
   ]
  },
  {
   "cell_type": "code",
   "execution_count": 5,
   "id": "45727eef",
   "metadata": {
    "ExecuteTime": {
     "end_time": "2022-09-29T20:54:14.816686Z",
     "start_time": "2022-09-29T20:54:14.806238Z"
    },
    "execution": {
     "iopub.execute_input": "2023-08-23T20:05:46.893534Z",
     "iopub.status.busy": "2023-08-23T20:05:46.892949Z",
     "iopub.status.idle": "2023-08-23T20:05:46.898950Z",
     "shell.execute_reply": "2023-08-23T20:05:46.897811Z"
    },
    "papermill": {
     "duration": 0.017925,
     "end_time": "2023-08-23T20:05:46.900793",
     "exception": false,
     "start_time": "2023-08-23T20:05:46.882868",
     "status": "completed"
    },
    "tags": []
   },
   "outputs": [],
   "source": [
    "# QIIME2 Artifacts folder\n",
    "qiime_folder = os.path.join(experiment_folder, 'qiime-artifacts')\n",
    "\n",
    "# Input - DADA2 Artifacts\n",
    "dada2_tabs_path = os.path.join(qiime_folder, 'dada2-tabs.qza')"
   ]
  },
  {
   "cell_type": "markdown",
   "id": "0999a1b2",
   "metadata": {
    "papermill": {
     "duration": 0.009062,
     "end_time": "2023-08-23T20:05:46.920521",
     "exception": false,
     "start_time": "2023-08-23T20:05:46.911459",
     "status": "completed"
    },
    "tags": []
   },
   "source": [
    "## Step execution\n",
    "\n",
    "### Load input files\n",
    "\n",
    "This Step import the QIIME2 `FeatureTable[Frequency]` Artifact and the `Metadata` file."
   ]
  },
  {
   "cell_type": "code",
   "execution_count": 6,
   "id": "8f299d1a",
   "metadata": {
    "ExecuteTime": {
     "end_time": "2022-09-29T20:54:15.559837Z",
     "start_time": "2022-09-29T20:54:14.830405Z"
    },
    "execution": {
     "iopub.execute_input": "2023-08-23T20:05:46.940204Z",
     "iopub.status.busy": "2023-08-23T20:05:46.939622Z",
     "iopub.status.idle": "2023-08-23T20:05:48.058596Z",
     "shell.execute_reply": "2023-08-23T20:05:48.057926Z"
    },
    "papermill": {
     "duration": 1.132133,
     "end_time": "2023-08-23T20:05:48.061631",
     "exception": false,
     "start_time": "2023-08-23T20:05:46.929498",
     "status": "completed"
    },
    "tags": []
   },
   "outputs": [],
   "source": [
    "#Load Metadata\n",
    "metadata_qa = Metadata.load(metadata_file)\n",
    "\n",
    "#Load FeatureTable[Frequency]\n",
    "tabs = Artifact.load(dada2_tabs_path)\n",
    "tabs_df = tabs.view(Metadata).to_dataframe().T"
   ]
  },
  {
   "cell_type": "markdown",
   "id": "a9a446c4",
   "metadata": {
    "papermill": {
     "duration": 0.008577,
     "end_time": "2023-08-23T20:05:48.085464",
     "exception": false,
     "start_time": "2023-08-23T20:05:48.076887",
     "status": "completed"
    },
    "tags": []
   },
   "source": [
    "# ANCOM\n",
    "\n",
    "Apply Analysis of Composition of Microbiomes (ANCOM) to identify features\n",
    "that are differentially abundant across groups.\n",
    "\n",
    "- [composition add_pseudocount](https://docs.qiime2.org/2022.8/plugins/available/composition/add-pseudocount/): Increment all counts in table by pseudocount.\n",
    "- [composition ancom](https://docs.qiime2.org/2022.8/plugins/available/composition/ancom/): Apply ANCOM to identify features that differ in abundance."
   ]
  },
  {
   "cell_type": "code",
   "execution_count": 7,
   "id": "cda81bf5",
   "metadata": {
    "execution": {
     "iopub.execute_input": "2023-08-23T20:05:48.103751Z",
     "iopub.status.busy": "2023-08-23T20:05:48.103487Z",
     "iopub.status.idle": "2023-08-23T20:05:48.106930Z",
     "shell.execute_reply": "2023-08-23T20:05:48.106461Z"
    },
    "papermill": {
     "duration": 0.014294,
     "end_time": "2023-08-23T20:05:48.108317",
     "exception": false,
     "start_time": "2023-08-23T20:05:48.094023",
     "status": "completed"
    },
    "tags": []
   },
   "outputs": [],
   "source": [
    "# Select class column\n",
    "column = metadata_qa.get_column(class_col)"
   ]
  },
  {
   "cell_type": "code",
   "execution_count": 8,
   "id": "2f023bcc",
   "metadata": {
    "execution": {
     "iopub.execute_input": "2023-08-23T20:05:48.221129Z",
     "iopub.status.busy": "2023-08-23T20:05:48.220578Z",
     "iopub.status.idle": "2023-08-23T20:05:48.496420Z",
     "shell.execute_reply": "2023-08-23T20:05:48.495686Z"
    },
    "papermill": {
     "duration": 0.382378,
     "end_time": "2023-08-23T20:05:48.499347",
     "exception": false,
     "start_time": "2023-08-23T20:05:48.116969",
     "status": "completed"
    },
    "tags": []
   },
   "outputs": [],
   "source": [
    "# Create the pseudocount table\n",
    "composition_tab = add_pseudocount(table = tabs).composition_table"
   ]
  },
  {
   "cell_type": "code",
   "execution_count": 9,
   "id": "2999c2f6",
   "metadata": {
    "execution": {
     "iopub.execute_input": "2023-08-23T20:05:48.526217Z",
     "iopub.status.busy": "2023-08-23T20:05:48.525828Z",
     "iopub.status.idle": "2023-08-23T20:05:48.711737Z",
     "shell.execute_reply": "2023-08-23T20:05:48.711039Z"
    },
    "papermill": {
     "duration": 0.198702,
     "end_time": "2023-08-23T20:05:48.714795",
     "exception": false,
     "start_time": "2023-08-23T20:05:48.516093",
     "status": "completed"
    },
    "tags": []
   },
   "outputs": [
    {
     "name": "stdout",
     "output_type": "stream",
     "text": [
      "Calculating ANCOM with: sqrt mean_difference\n",
      "ERROR: Calculating ANCOM with: sqrt mean_difference\n",
      "The following IDs are not present in the metadata: 'S210421121677', 'S210421121678', 'S210421121679', 'S210421121680', 'S210421121681', 'S210421121685', 'S210421121686', 'S210421121687', 'S210421121688', 'S210421121689', 'S210421121690', 'S210421121691', 'S210421121692', 'S210421121693', 'S210421121698', 'S210421121699', 'S210421121700', 'S210421121701', 'S210421121702', 'S210421121703', 'S210421121704', 'S210421121705', 'S210421121706', 'S210421121707', 'S210421121708', 'S210421121709', 'S210421121710', 'S210421121711', 'S210421121712', 'S210421121713', 'S210421121714', 'S210421121715', 'S210421121716', 'S210421121717', 'S210421121718', 'S210421121719', 'S210421121720', 'S210421121721', 'S210421121722', 'S210421121723', 'S210421121724', 'S210421121725', 'S210421121726', 'S210421121727', 'S210421121728', 'S210421121729', 'S210421121730', 'S210421121731', 'S210421121732', 'S210421121733', 'S210421121734', 'S210707163906', 'S210707163907', 'S210707163908', 'S210707163909', 'S210707163910', 'S210707163911', 'S210707163912', 'S210707163913', 'S210707163914', 'S210707163915', 'S210707163916', 'S210707163917'\n",
      "Calculating ANCOM with: sqrt f_statistic\n",
      "ERROR: Calculating ANCOM with: sqrt f_statistic\n",
      "The following IDs are not present in the metadata: 'S210421121677', 'S210421121678', 'S210421121679', 'S210421121680', 'S210421121681', 'S210421121685', 'S210421121686', 'S210421121687', 'S210421121688', 'S210421121689', 'S210421121690', 'S210421121691', 'S210421121692', 'S210421121693', 'S210421121698', 'S210421121699', 'S210421121700', 'S210421121701', 'S210421121702', 'S210421121703', 'S210421121704', 'S210421121705', 'S210421121706', 'S210421121707', 'S210421121708', 'S210421121709', 'S210421121710', 'S210421121711', 'S210421121712', 'S210421121713', 'S210421121714', 'S210421121715', 'S210421121716', 'S210421121717', 'S210421121718', 'S210421121719', 'S210421121720', 'S210421121721', 'S210421121722', 'S210421121723', 'S210421121724', 'S210421121725', 'S210421121726', 'S210421121727', 'S210421121728', 'S210421121729', 'S210421121730', 'S210421121731', 'S210421121732', 'S210421121733', 'S210421121734', 'S210707163906', 'S210707163907', 'S210707163908', 'S210707163909', 'S210707163910', 'S210707163911', 'S210707163912', 'S210707163913', 'S210707163914', 'S210707163915', 'S210707163916', 'S210707163917'\n",
      "Calculating ANCOM with: log mean_difference\n",
      "ERROR: Calculating ANCOM with: log mean_difference\n",
      "The following IDs are not present in the metadata: 'S210421121677', 'S210421121678', 'S210421121679', 'S210421121680', 'S210421121681', 'S210421121685', 'S210421121686', 'S210421121687', 'S210421121688', 'S210421121689', 'S210421121690', 'S210421121691', 'S210421121692', 'S210421121693', 'S210421121698', 'S210421121699', 'S210421121700', 'S210421121701', 'S210421121702', 'S210421121703', 'S210421121704', 'S210421121705', 'S210421121706', 'S210421121707', 'S210421121708', 'S210421121709', 'S210421121710', 'S210421121711', 'S210421121712', 'S210421121713', 'S210421121714', 'S210421121715', 'S210421121716', 'S210421121717', 'S210421121718', 'S210421121719', 'S210421121720', 'S210421121721', 'S210421121722', 'S210421121723', 'S210421121724', 'S210421121725', 'S210421121726', 'S210421121727', 'S210421121728', 'S210421121729', 'S210421121730', 'S210421121731', 'S210421121732', 'S210421121733', 'S210421121734', 'S210707163906', 'S210707163907', 'S210707163908', 'S210707163909', 'S210707163910', 'S210707163911', 'S210707163912', 'S210707163913', 'S210707163914', 'S210707163915', 'S210707163916', 'S210707163917'\n",
      "Calculating ANCOM with: log f_statistic\n",
      "ERROR: Calculating ANCOM with: log f_statistic\n",
      "The following IDs are not present in the metadata: 'S210421121677', 'S210421121678', 'S210421121679', 'S210421121680', 'S210421121681', 'S210421121685', 'S210421121686', 'S210421121687', 'S210421121688', 'S210421121689', 'S210421121690', 'S210421121691', 'S210421121692', 'S210421121693', 'S210421121698', 'S210421121699', 'S210421121700', 'S210421121701', 'S210421121702', 'S210421121703', 'S210421121704', 'S210421121705', 'S210421121706', 'S210421121707', 'S210421121708', 'S210421121709', 'S210421121710', 'S210421121711', 'S210421121712', 'S210421121713', 'S210421121714', 'S210421121715', 'S210421121716', 'S210421121717', 'S210421121718', 'S210421121719', 'S210421121720', 'S210421121721', 'S210421121722', 'S210421121723', 'S210421121724', 'S210421121725', 'S210421121726', 'S210421121727', 'S210421121728', 'S210421121729', 'S210421121730', 'S210421121731', 'S210421121732', 'S210421121733', 'S210421121734', 'S210707163906', 'S210707163907', 'S210707163908', 'S210707163909', 'S210707163910', 'S210707163911', 'S210707163912', 'S210707163913', 'S210707163914', 'S210707163915', 'S210707163916', 'S210707163917'\n",
      "Calculating ANCOM with: clr mean_difference\n",
      "ERROR: Calculating ANCOM with: clr mean_difference\n",
      "The following IDs are not present in the metadata: 'S210421121677', 'S210421121678', 'S210421121679', 'S210421121680', 'S210421121681', 'S210421121685', 'S210421121686', 'S210421121687', 'S210421121688', 'S210421121689', 'S210421121690', 'S210421121691', 'S210421121692', 'S210421121693', 'S210421121698', 'S210421121699', 'S210421121700', 'S210421121701', 'S210421121702', 'S210421121703', 'S210421121704', 'S210421121705', 'S210421121706', 'S210421121707', 'S210421121708', 'S210421121709', 'S210421121710', 'S210421121711', 'S210421121712', 'S210421121713', 'S210421121714', 'S210421121715', 'S210421121716', 'S210421121717', 'S210421121718', 'S210421121719', 'S210421121720', 'S210421121721', 'S210421121722', 'S210421121723', 'S210421121724', 'S210421121725', 'S210421121726', 'S210421121727', 'S210421121728', 'S210421121729', 'S210421121730', 'S210421121731', 'S210421121732', 'S210421121733', 'S210421121734', 'S210707163906', 'S210707163907', 'S210707163908', 'S210707163909', 'S210707163910', 'S210707163911', 'S210707163912', 'S210707163913', 'S210707163914', 'S210707163915', 'S210707163916', 'S210707163917'\n",
      "Calculating ANCOM with: clr f_statistic\n",
      "ERROR: Calculating ANCOM with: clr f_statistic\n",
      "The following IDs are not present in the metadata: 'S210421121677', 'S210421121678', 'S210421121679', 'S210421121680', 'S210421121681', 'S210421121685', 'S210421121686', 'S210421121687', 'S210421121688', 'S210421121689', 'S210421121690', 'S210421121691', 'S210421121692', 'S210421121693', 'S210421121698', 'S210421121699', 'S210421121700', 'S210421121701', 'S210421121702', 'S210421121703', 'S210421121704', 'S210421121705', 'S210421121706', 'S210421121707', 'S210421121708', 'S210421121709', 'S210421121710', 'S210421121711', 'S210421121712', 'S210421121713', 'S210421121714', 'S210421121715', 'S210421121716', 'S210421121717', 'S210421121718', 'S210421121719', 'S210421121720', 'S210421121721', 'S210421121722', 'S210421121723', 'S210421121724', 'S210421121725', 'S210421121726', 'S210421121727', 'S210421121728', 'S210421121729', 'S210421121730', 'S210421121731', 'S210421121732', 'S210421121733', 'S210421121734', 'S210707163906', 'S210707163907', 'S210707163908', 'S210707163909', 'S210707163910', 'S210707163911', 'S210707163912', 'S210707163913', 'S210707163914', 'S210707163915', 'S210707163916', 'S210707163917'\n"
     ]
    }
   ],
   "source": [
    "# Create visualizations for each parameter combination for the ANCOM  method.\n",
    "transform_functions = ('sqrt', 'log', 'clr')\n",
    "difference_functions = ('mean_difference', 'f_statistic')\n",
    "for t in transform_functions:\n",
    "    for d in difference_functions:\n",
    "        print(f\"Calculating ANCOM with: {t} {d}\")\n",
    "        try:\n",
    "            ancom_viz = ancom(\n",
    "                table = composition_tab, \n",
    "                metadata = column, \n",
    "                transform_function = t, \n",
    "                difference_function = d\n",
    "            ).visualization\n",
    "            view_name = os.path.join(qiime_folder, f'ancom-{t}-{d}.qzv')\n",
    "            ancom_viz.save(view_name)\n",
    "        except Exception as e:\n",
    "            print(f\"ERROR: Calculating ANCOM with: {t} {d}\")\n",
    "            print(e)"
   ]
  }
 ],
 "metadata": {
  "celltoolbar": "Edit Metadata",
  "kernelspec": {
   "display_name": "Python 3 (ipykernel)",
   "language": "python",
   "name": "python3"
  },
  "language_info": {
   "codemirror_mode": {
    "name": "ipython",
    "version": 3
   },
   "file_extension": ".py",
   "mimetype": "text/x-python",
   "name": "python",
   "nbconvert_exporter": "python",
   "pygments_lexer": "ipython3",
   "version": "3.8.12"
  },
  "papermill": {
   "default_parameters": {},
   "duration": 10.902222,
   "end_time": "2023-08-23T20:05:49.449998",
   "environment_variables": {},
   "exception": null,
   "input_path": "nb-templates/step-abundance-analysis.ipynb",
   "output_path": "/home/lauro/nupeb/rede-micro/redemicro-ana-flavia-nutri/experiments/ana-flavia-NCxSTD-NC-trim/nb-executed-steps/step-abundance-analysis-ana-flavia-NCxSTD-NC-trim.ipynb",
   "parameters": {
    "base_dir": "/home/lauro/nupeb/rede-micro/redemicro-ana-flavia-nutri",
    "class_col": "group-id",
    "classifier_file": "/home/lauro/nupeb/rede-micro/models/silva-138-99-nb-classifier.qza",
    "experiment_name": "ana-flavia-NCxSTD-NC-trim",
    "manifest_file": "/home/lauro/nupeb/rede-micro/redemicro-ana-flavia-nutri/data/raw/manifest/manifest-ana-flavia-NCxSTD-NC.csv",
    "metadata_file": "/home/lauro/nupeb/rede-micro/redemicro-ana-flavia-nutri/data/raw/metadata/metadata-ana-flavia-NCxSTD-NC.tsv",
    "overlap": 12,
    "phred": 20,
    "replace_files": false,
    "threads": 6,
    "top_n": 20,
    "trim": {
     "forward_primer": "CCTACGGGRSGCAGCAG",
     "overlap": 8,
     "reverse_primer": "GGACTACHVGGGTWTCTAAT"
    },
    "trunc_f": 0,
    "trunc_r": 0
   },
   "start_time": "2023-08-23T20:05:38.547776",
   "version": "2.3.4"
  }
 },
 "nbformat": 4,
 "nbformat_minor": 5
}