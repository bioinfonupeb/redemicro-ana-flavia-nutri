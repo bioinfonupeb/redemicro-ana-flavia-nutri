{
 "cells": [
  {
   "cell_type": "markdown",
   "id": "d2ab1207",
   "metadata": {
    "papermill": {
     "duration": 0.014514,
     "end_time": "2024-03-05T17:40:44.973410",
     "exception": false,
     "start_time": "2024-03-05T17:40:44.958896",
     "status": "completed"
    },
    "tags": []
   },
   "source": [
    "# STEP : Rarefaction Analysis\n",
    "\n",
    "Using QIIME2 to create rarefaction graphs.\n",
    "\n",
    "\n",
    "## Methods\n",
    "[qiime alpha_rarefaction](https://docs.qiime2.org/2023.2/plugins/available/diversity/alpha-rarefaction/)\n",
    "```\n",
    "Generate interactive alpha rarefaction curves by computing rarefactions\n",
    "between `min_depth` and `max_depth`. The number of intermediate depths to\n",
    "compute is controlled by the `steps` parameter, with n `iterations` being\n",
    "computed at each rarefaction depth. If sample metadata is provided, samples\n",
    "may be grouped based on distinct values within a metadata column.\n",
    "```\n"
   ]
  },
  {
   "cell_type": "markdown",
   "id": "f153a487",
   "metadata": {
    "papermill": {
     "duration": 0.01029,
     "end_time": "2024-03-05T17:40:44.996491",
     "exception": false,
     "start_time": "2024-03-05T17:40:44.986201",
     "status": "completed"
    },
    "tags": []
   },
   "source": [
    "## Setup and settings"
   ]
  },
  {
   "cell_type": "code",
   "execution_count": 1,
   "id": "672f3927",
   "metadata": {
    "ExecuteTime": {
     "end_time": "2022-09-22T21:43:54.326002Z",
     "start_time": "2022-09-22T21:43:47.911891Z"
    },
    "execution": {
     "iopub.execute_input": "2024-03-05T17:40:45.009615Z",
     "iopub.status.busy": "2024-03-05T17:40:45.009012Z",
     "iopub.status.idle": "2024-03-05T17:40:49.454321Z",
     "shell.execute_reply": "2024-03-05T17:40:49.453825Z"
    },
    "papermill": {
     "duration": 4.452327,
     "end_time": "2024-03-05T17:40:49.455489",
     "exception": false,
     "start_time": "2024-03-05T17:40:45.003162",
     "status": "completed"
    },
    "tags": []
   },
   "outputs": [],
   "source": [
    "# Importing packages\n",
    "import os\n",
    "import pandas as pd\n",
    "from qiime2 import Artifact\n",
    "from qiime2 import Visualization\n",
    "from qiime2 import Metadata\n",
    "from qiime2.plugins.diversity.visualizers import alpha_rarefaction\n",
    "from qiime2.plugins.diversity.visualizers import beta_rarefaction\n",
    "\n",
    "from qiime2.plugins.feature_table.methods import filter_samples\n",
    "from qiime2.plugins.feature_table.methods import filter_seqs\n",
    "\n",
    "import matplotlib.pyplot as plt\n",
    "\n",
    "%matplotlib inline"
   ]
  },
  {
   "cell_type": "code",
   "execution_count": 2,
   "id": "35068385",
   "metadata": {
    "ExecuteTime": {
     "end_time": "2022-09-22T21:43:54.330790Z",
     "start_time": "2022-09-22T21:43:54.328358Z"
    },
    "execution": {
     "iopub.execute_input": "2024-03-05T17:40:49.460577Z",
     "iopub.status.busy": "2024-03-05T17:40:49.460343Z",
     "iopub.status.idle": "2024-03-05T17:40:49.462451Z",
     "shell.execute_reply": "2024-03-05T17:40:49.462176Z"
    },
    "papermill": {
     "duration": 0.005594,
     "end_time": "2024-03-05T17:40:49.463332",
     "exception": false,
     "start_time": "2024-03-05T17:40:49.457738",
     "status": "completed"
    },
    "tags": []
   },
   "outputs": [],
   "source": [
    "# from qiime2.plugins import demux, deblur, quality_filter, \\\n",
    "#                            metadata, feature_table, alignment, \\\n",
    "#                            phylogeny, diversity, emperor, feature_classifier, \\\n",
    "#                            taxa, composition"
   ]
  },
  {
   "cell_type": "markdown",
   "id": "e4b1f911",
   "metadata": {
    "papermill": {
     "duration": 0.002029,
     "end_time": "2024-03-05T17:40:49.467359",
     "exception": false,
     "start_time": "2024-03-05T17:40:49.465330",
     "status": "completed"
    },
    "tags": []
   },
   "source": [
    "### Receiving the parameters\n",
    "\n",
    "The following cell can receive parameters using the [papermill](https://papermill.readthedocs.io/en/latest/) tool."
   ]
  },
  {
   "cell_type": "code",
   "execution_count": 3,
   "id": "6fbf378d",
   "metadata": {
    "ExecuteTime": {
     "end_time": "2022-09-22T21:43:54.344271Z",
     "start_time": "2022-09-22T21:43:54.332262Z"
    },
    "execution": {
     "iopub.execute_input": "2024-03-05T17:40:49.472210Z",
     "iopub.status.busy": "2024-03-05T17:40:49.471875Z",
     "iopub.status.idle": "2024-03-05T17:40:49.474299Z",
     "shell.execute_reply": "2024-03-05T17:40:49.473861Z"
    },
    "papermill": {
     "duration": 0.005731,
     "end_time": "2024-03-05T17:40:49.475140",
     "exception": false,
     "start_time": "2024-03-05T17:40:49.469409",
     "status": "completed"
    },
    "tags": [
     "parameters"
    ]
   },
   "outputs": [],
   "source": [
    "metadata_file = '/home/lauro/nupeb/rede-micro/redemicro-miliane-nutri/data/raw/metadata/miliane-metadata-CxAC.tsv'\n",
    "base_dir = os.path.join('/', 'home', 'lauro', 'nupeb', 'rede-micro', 'redemicro-miliane-nutri')\n",
    "experiment_name = 'miliane-CxAC-trim'\n",
    "replace_files = False"
   ]
  },
  {
   "cell_type": "code",
   "execution_count": 4,
   "id": "df07abb3",
   "metadata": {
    "execution": {
     "iopub.execute_input": "2024-03-05T17:40:49.479846Z",
     "iopub.status.busy": "2024-03-05T17:40:49.479654Z",
     "iopub.status.idle": "2024-03-05T17:40:49.482354Z",
     "shell.execute_reply": "2024-03-05T17:40:49.481934Z"
    },
    "papermill": {
     "duration": 0.006124,
     "end_time": "2024-03-05T17:40:49.483242",
     "exception": false,
     "start_time": "2024-03-05T17:40:49.477118",
     "status": "completed"
    },
    "tags": [
     "injected-parameters"
    ]
   },
   "outputs": [],
   "source": [
    "# Parameters\n",
    "base_dir = \"/mnt/nupeb/rede-micro/redemicro-ana-flavia-nutri\"\n",
    "class_col = \"group-id\"\n",
    "classifier_file = \"/mnt/nupeb/rede-micro/datasets/16S_classifiers_qiime2/silva-138-99-nb-classifier.qza\"\n",
    "experiment_name = \"ana-flavia-NCxSTD-NC-trim\"\n",
    "manifest_file = \"/mnt/nupeb/rede-micro/redemicro-ana-flavia-nutri/data/raw/manifest/manifest-ana-flavia-NCxSTD-NC.csv\"\n",
    "metadata_file = \"/mnt/nupeb/rede-micro/redemicro-ana-flavia-nutri/data/raw/metadata/metadata-ana-flavia-NCxSTD-NC.tsv\"\n",
    "overlap = 12\n",
    "phred = 20\n",
    "replace_files = False\n",
    "threads = 6\n",
    "top_n = 20\n",
    "trim = {\n",
    "    \"forward_primer\": \"CCTACGGGRSGCAGCAG\",\n",
    "    \"overlap\": 8,\n",
    "    \"reverse_primer\": \"GGACTACHVGGGTWTCTAAT\",\n",
    "}\n",
    "trunc_f = 0\n",
    "trunc_r = 0\n"
   ]
  },
  {
   "cell_type": "markdown",
   "id": "b278c703",
   "metadata": {
    "papermill": {
     "duration": 0.00204,
     "end_time": "2024-03-05T17:40:49.487262",
     "exception": false,
     "start_time": "2024-03-05T17:40:49.485222",
     "status": "completed"
    },
    "tags": []
   },
   "source": [
    "### Defining names, paths and flags"
   ]
  },
  {
   "cell_type": "code",
   "execution_count": 5,
   "id": "ee246308",
   "metadata": {
    "ExecuteTime": {
     "end_time": "2022-09-22T21:43:54.362004Z",
     "start_time": "2022-09-22T21:43:54.346365Z"
    },
    "execution": {
     "iopub.execute_input": "2024-03-05T17:40:49.491892Z",
     "iopub.status.busy": "2024-03-05T17:40:49.491777Z",
     "iopub.status.idle": "2024-03-05T17:40:49.885751Z",
     "shell.execute_reply": "2024-03-05T17:40:49.882864Z"
    },
    "papermill": {
     "duration": 0.401742,
     "end_time": "2024-03-05T17:40:49.891053",
     "exception": false,
     "start_time": "2024-03-05T17:40:49.489311",
     "status": "completed"
    },
    "tags": []
   },
   "outputs": [],
   "source": [
    "# Experiments\n",
    "experiment_folder = os.path.abspath(os.path.join(base_dir, 'experiments', experiment_name))\n",
    "!mkdir -p {experiment_folder}\n",
    "\n",
    "# Imgs folder\n",
    "img_folder = os.path.abspath(os.path.join(experiment_folder, 'imgs'))\n",
    "!mkdir -p {img_folder}\n",
    "\n",
    "# QIIME2 Artifacts folder\n",
    "qiime_folder = os.path.join(experiment_folder, 'qiime-artifacts')\n",
    "!mkdir -p {qiime_folder}"
   ]
  },
  {
   "cell_type": "code",
   "execution_count": 6,
   "id": "e1521c2a",
   "metadata": {
    "ExecuteTime": {
     "end_time": "2022-09-22T21:43:54.373657Z",
     "start_time": "2022-09-22T21:43:54.363586Z"
    },
    "execution": {
     "iopub.execute_input": "2024-03-05T17:40:49.897271Z",
     "iopub.status.busy": "2024-03-05T17:40:49.897140Z",
     "iopub.status.idle": "2024-03-05T17:40:49.900262Z",
     "shell.execute_reply": "2024-03-05T17:40:49.899966Z"
    },
    "papermill": {
     "duration": 0.006683,
     "end_time": "2024-03-05T17:40:49.901123",
     "exception": false,
     "start_time": "2024-03-05T17:40:49.894440",
     "status": "completed"
    },
    "tags": []
   },
   "outputs": [],
   "source": [
    "# Input - DADA2 Artifacts\n",
    "dada2_tabs_path = os.path.join(qiime_folder, 'dada2-tabs.qza')\n",
    "dada2_reps_path = os.path.join(qiime_folder, 'dada2-reps.qza')\n",
    "dada2_stat_path = os.path.join(qiime_folder, 'dada2-stat.qza')\n",
    "\n",
    "# Output -Rarefaction Artifacts\n",
    "alpha_rarefaction_path = os.path.join(qiime_folder, 'alpha-rarefaction.qza')\n",
    "alpha_rarefaction_view_path = os.path.join(qiime_folder, 'alpha-rarefaction.qzv')\n",
    "\n",
    "# Flag - Load or create files\n",
    "need_tax = not (os.path.isfile(alpha_rarefaction_path)) or replace_files\n",
    "need_view = not (os.path.isfile(alpha_rarefaction_view_path)) or replace_files"
   ]
  },
  {
   "cell_type": "markdown",
   "id": "fbcb0959",
   "metadata": {
    "papermill": {
     "duration": 0.002031,
     "end_time": "2024-03-05T17:40:49.905219",
     "exception": false,
     "start_time": "2024-03-05T17:40:49.903188",
     "status": "completed"
    },
    "tags": []
   },
   "source": [
    "## Step execution\n",
    "\n",
    "### Load input files\n",
    "\n",
    "This Step import the QIIME2 `SampleData[PairedEndSequencesWithQuality]` Artifact with all demultiplexed sequences and the `Metadata` file."
   ]
  },
  {
   "cell_type": "code",
   "execution_count": 7,
   "id": "6ce39d8e",
   "metadata": {
    "ExecuteTime": {
     "end_time": "2022-09-22T21:43:54.398034Z",
     "start_time": "2022-09-22T21:43:54.375240Z"
    },
    "execution": {
     "iopub.execute_input": "2024-03-05T17:40:49.910192Z",
     "iopub.status.busy": "2024-03-05T17:40:49.909799Z",
     "iopub.status.idle": "2024-03-05T17:40:49.918086Z",
     "shell.execute_reply": "2024-03-05T17:40:49.917672Z"
    },
    "papermill": {
     "duration": 0.011704,
     "end_time": "2024-03-05T17:40:49.918989",
     "exception": false,
     "start_time": "2024-03-05T17:40:49.907285",
     "status": "completed"
    },
    "tags": []
   },
   "outputs": [],
   "source": [
    "#Load Metadata\n",
    "metadata_qa = Metadata.load(metadata_file)"
   ]
  },
  {
   "cell_type": "code",
   "execution_count": 8,
   "id": "b3243f64",
   "metadata": {
    "execution": {
     "iopub.execute_input": "2024-03-05T17:40:49.923812Z",
     "iopub.status.busy": "2024-03-05T17:40:49.923597Z",
     "iopub.status.idle": "2024-03-05T17:40:49.925861Z",
     "shell.execute_reply": "2024-03-05T17:40:49.925560Z"
    },
    "papermill": {
     "duration": 0.005704,
     "end_time": "2024-03-05T17:40:49.926758",
     "exception": false,
     "start_time": "2024-03-05T17:40:49.921054",
     "status": "completed"
    },
    "tags": []
   },
   "outputs": [],
   "source": [
    "alt_tab_path = os.path.join(base_dir, 'data', 'interim', 'dada2-tabs.qza')\n",
    "# Verify if table file exists and if it is shared\n",
    "if not os.path.isfile(dada2_tabs_path) and os.path.isfile(alt_tab_path):\n",
    "    # If it is shared, create a local symbolic link\n",
    "    os.symlink(alt_tab_path, dada2_tabs_path)"
   ]
  },
  {
   "cell_type": "code",
   "execution_count": 9,
   "id": "09b69bb2",
   "metadata": {
    "ExecuteTime": {
     "end_time": "2022-09-22T21:43:54.827295Z",
     "start_time": "2022-09-22T21:43:54.399431Z"
    },
    "execution": {
     "iopub.execute_input": "2024-03-05T17:40:49.931607Z",
     "iopub.status.busy": "2024-03-05T17:40:49.931416Z",
     "iopub.status.idle": "2024-03-05T17:40:50.513690Z",
     "shell.execute_reply": "2024-03-05T17:40:50.513233Z"
    },
    "papermill": {
     "duration": 0.585945,
     "end_time": "2024-03-05T17:40:50.514801",
     "exception": false,
     "start_time": "2024-03-05T17:40:49.928856",
     "status": "completed"
    },
    "tags": []
   },
   "outputs": [],
   "source": [
    "# Load Table artifact\n",
    "tabs = Artifact.load(dada2_tabs_path)\n",
    "# Filter samples using Metadata IDs\n",
    "tabs = filter_samples(\n",
    "    table=tabs,\n",
    "    metadata=metadata_qa,\n",
    ").filtered_table\n",
    "tabs_df = tabs.view(Metadata).to_dataframe().T"
   ]
  },
  {
   "cell_type": "code",
   "execution_count": null,
   "id": "abc335bb",
   "metadata": {
    "papermill": {
     "duration": 0.002207,
     "end_time": "2024-03-05T17:40:50.519745",
     "exception": false,
     "start_time": "2024-03-05T17:40:50.517538",
     "status": "completed"
    },
    "tags": []
   },
   "outputs": [],
   "source": []
  },
  {
   "cell_type": "markdown",
   "id": "495877b3",
   "metadata": {
    "papermill": {
     "duration": 0.00215,
     "end_time": "2024-03-05T17:40:50.524039",
     "exception": false,
     "start_time": "2024-03-05T17:40:50.521889",
     "status": "completed"
    },
    "tags": []
   },
   "source": [
    "## Alpha Rarefaction"
   ]
  },
  {
   "cell_type": "code",
   "execution_count": 10,
   "id": "593bacc3",
   "metadata": {
    "ExecuteTime": {
     "end_time": "2022-09-22T21:55:53.328300Z",
     "start_time": "2022-09-22T21:55:53.318166Z"
    },
    "execution": {
     "iopub.execute_input": "2024-03-05T17:40:50.529176Z",
     "iopub.status.busy": "2024-03-05T17:40:50.528940Z",
     "iopub.status.idle": "2024-03-05T17:40:50.532100Z",
     "shell.execute_reply": "2024-03-05T17:40:50.531777Z"
    },
    "papermill": {
     "duration": 0.006838,
     "end_time": "2024-03-05T17:40:50.533037",
     "exception": false,
     "start_time": "2024-03-05T17:40:50.526199",
     "status": "completed"
    },
    "tags": []
   },
   "outputs": [],
   "source": [
    "# Get min and maximum feature counts to set sampling depth\n",
    "rank_df = tabs_df.sum().sort_values()\n",
    "min_feature_count = int(rank_df.min())\n",
    "max_feature_count = int(rank_df.max())"
   ]
  },
  {
   "cell_type": "code",
   "execution_count": 11,
   "id": "c1f34540",
   "metadata": {
    "execution": {
     "iopub.execute_input": "2024-03-05T17:40:50.538091Z",
     "iopub.status.busy": "2024-03-05T17:40:50.537954Z",
     "iopub.status.idle": "2024-03-05T17:40:50.543600Z",
     "shell.execute_reply": "2024-03-05T17:40:50.543285Z"
    },
    "papermill": {
     "duration": 0.009245,
     "end_time": "2024-03-05T17:40:50.544503",
     "exception": false,
     "start_time": "2024-03-05T17:40:50.535258",
     "status": "completed"
    },
    "tags": []
   },
   "outputs": [],
   "source": [
    "# Add new columns with samples IDs to rarefaction\n",
    "meta_df = metadata_qa.to_dataframe()\n",
    "meta_df['samples'] = meta_df.index.to_list()\n",
    "metadata_qa = Metadata(meta_df)"
   ]
  },
  {
   "cell_type": "code",
   "execution_count": 12,
   "id": "64267dce",
   "metadata": {
    "ExecuteTime": {
     "end_time": "2022-09-22T21:56:13.586159Z",
     "start_time": "2022-09-22T21:55:55.117935Z"
    },
    "execution": {
     "iopub.execute_input": "2024-03-05T17:40:50.549519Z",
     "iopub.status.busy": "2024-03-05T17:40:50.549376Z",
     "iopub.status.idle": "2024-03-05T17:41:06.377175Z",
     "shell.execute_reply": "2024-03-05T17:41:06.376684Z"
    },
    "papermill": {
     "duration": 15.831637,
     "end_time": "2024-03-05T17:41:06.378350",
     "exception": false,
     "start_time": "2024-03-05T17:40:50.546713",
     "status": "completed"
    },
    "tags": []
   },
   "outputs": [
    {
     "name": "stderr",
     "output_type": "stream",
     "text": [
      "/home/lauro/anaconda3/envs/qiime2-2023.5/lib/python3.8/site-packages/q2_diversity/_alpha/_visualizer.py:245: FutureWarning: The default value of numeric_only in DataFrameGroupBy.median is deprecated. In a future version, numeric_only will default to False. Either specify numeric_only or select only columns which should be valid for the function.\n",
      "  median_ = grouped.median()\n",
      "/home/lauro/anaconda3/envs/qiime2-2023.5/lib/python3.8/site-packages/q2_diversity/_alpha/_visualizer.py:245: FutureWarning: The default value of numeric_only in DataFrameGroupBy.median is deprecated. In a future version, numeric_only will default to False. Either specify numeric_only or select only columns which should be valid for the function.\n",
      "  median_ = grouped.median()\n",
      "/home/lauro/anaconda3/envs/qiime2-2023.5/lib/python3.8/site-packages/q2_diversity/_alpha/_visualizer.py:245: FutureWarning: The default value of numeric_only in DataFrameGroupBy.median is deprecated. In a future version, numeric_only will default to False. Either specify numeric_only or select only columns which should be valid for the function.\n",
      "  median_ = grouped.median()\n",
      "/home/lauro/anaconda3/envs/qiime2-2023.5/lib/python3.8/site-packages/q2_diversity/_alpha/_visualizer.py:245: FutureWarning: The default value of numeric_only in DataFrameGroupBy.median is deprecated. In a future version, numeric_only will default to False. Either specify numeric_only or select only columns which should be valid for the function.\n",
      "  median_ = grouped.median()\n"
     ]
    },
    {
     "name": "stderr",
     "output_type": "stream",
     "text": [
      "/home/lauro/anaconda3/envs/qiime2-2023.5/lib/python3.8/site-packages/q2_diversity/_alpha/_visualizer.py:245: FutureWarning: The default value of numeric_only in DataFrameGroupBy.median is deprecated. In a future version, numeric_only will default to False. Either specify numeric_only or select only columns which should be valid for the function.\n",
      "  median_ = grouped.median()\n",
      "/home/lauro/anaconda3/envs/qiime2-2023.5/lib/python3.8/site-packages/q2_diversity/_alpha/_visualizer.py:245: FutureWarning: The default value of numeric_only in DataFrameGroupBy.median is deprecated. In a future version, numeric_only will default to False. Either specify numeric_only or select only columns which should be valid for the function.\n",
      "  median_ = grouped.median()\n",
      "/home/lauro/anaconda3/envs/qiime2-2023.5/lib/python3.8/site-packages/q2_diversity/_alpha/_visualizer.py:245: FutureWarning: The default value of numeric_only in DataFrameGroupBy.median is deprecated. In a future version, numeric_only will default to False. Either specify numeric_only or select only columns which should be valid for the function.\n",
      "  median_ = grouped.median()\n",
      "/home/lauro/anaconda3/envs/qiime2-2023.5/lib/python3.8/site-packages/q2_diversity/_alpha/_visualizer.py:245: FutureWarning: The default value of numeric_only in DataFrameGroupBy.median is deprecated. In a future version, numeric_only will default to False. Either specify numeric_only or select only columns which should be valid for the function.\n",
      "  median_ = grouped.median()\n"
     ]
    }
   ],
   "source": [
    "alpha_rar = alpha_rarefaction(\n",
    "    table = tabs,\n",
    "    max_depth = max_feature_count,\n",
    "    min_depth = 1,\n",
    "    metadata = metadata_qa,\n",
    ")"
   ]
  },
  {
   "cell_type": "code",
   "execution_count": 13,
   "id": "c70b0366",
   "metadata": {
    "ExecuteTime": {
     "end_time": "2022-09-22T21:56:13.632468Z",
     "start_time": "2022-09-22T21:56:13.589032Z"
    },
    "execution": {
     "iopub.execute_input": "2024-03-05T17:41:06.384127Z",
     "iopub.status.busy": "2024-03-05T17:41:06.383920Z",
     "iopub.status.idle": "2024-03-05T17:41:06.410692Z",
     "shell.execute_reply": "2024-03-05T17:41:06.410403Z"
    },
    "papermill": {
     "duration": 0.030629,
     "end_time": "2024-03-05T17:41:06.411642",
     "exception": false,
     "start_time": "2024-03-05T17:41:06.381013",
     "status": "completed"
    },
    "scrolled": true,
    "tags": []
   },
   "outputs": [
    {
     "data": {
      "text/html": [
       "<div><img onload=\"(function(div, url){\n",
       "if (typeof require !== 'undefined') {\n",
       "    var baseURL = require.toUrl('').split('/').slice(0, -2).join('/');\n",
       "} else {\n",
       "    var baseURL = JSON.parse(\n",
       "        document.getElementById('jupyter-config-data').innerHTML\n",
       "    ).baseUrl.slice(0, -1);\n",
       "}\n",
       "url = baseURL + url;\n",
       "fetch(url).then(function(res) {\n",
       "    if (res.status === 404) {\n",
       "        div.innerHTML = 'Install QIIME 2 Jupyter extension with:<br />' +\n",
       "                        '<code>jupyter serverextension enable --py qiime2' +\n",
       "                        ' --sys-prefix</code><br />then restart your server.' +\n",
       "                        '<br /><br />(Interactive output not available on ' +\n",
       "                        'static notebook viewer services like nbviewer.)';\n",
       "    } else if (res.status === 409) {\n",
       "        div.innerHTML = 'Visualization no longer in scope. Re-run this cell' +\n",
       "                        ' to see the visualization.';\n",
       "    } else if (res.ok) {\n",
       "        url = res.url;\n",
       "        div.innerHTML = '<iframe src=\\'' + url + '\\' style=\\'' +\n",
       "                        'width: 100%; height: 700px; border: 0;\\'>' +\n",
       "                        '</iframe><hr />Open in a: <a href=\\'' + url + '\\'' +\n",
       "                        ' target=\\'_blank\\'>new window</a>'\n",
       "    } else {\n",
       "        div.innerHTML = 'Something has gone wrong. Check notebook server for' +\n",
       "                        ' errors.';\n",
       "    }\n",
       "});\n",
       "})(this.parentElement, '/qiime2/redirect?location=/tmp/qiime2/lauro/data/7ac4f280-d71b-4e1d-927e-41e03b221895')\" src=\"data:image/gif;base64,R0lGODlhAQABAIAAAP///wAAACH5BAEAAAAALAAAAAABAAEAAAICRAEAOw==\" /></div>"
      ],
      "text/plain": [
       "<visualization: Visualization uuid: 7ac4f280-d71b-4e1d-927e-41e03b221895>"
      ]
     },
     "execution_count": 13,
     "metadata": {},
     "output_type": "execute_result"
    }
   ],
   "source": [
    "alpha_rar.visualization.save(alpha_rarefaction_view_path)\n",
    "alpha_rar.visualization"
   ]
  },
  {
   "cell_type": "markdown",
   "id": "78e611a4",
   "metadata": {
    "papermill": {
     "duration": 0.002407,
     "end_time": "2024-03-05T17:41:06.416471",
     "exception": false,
     "start_time": "2024-03-05T17:41:06.414064",
     "status": "completed"
    },
    "tags": []
   },
   "source": [
    "## Beta Rarefaction"
   ]
  },
  {
   "cell_type": "code",
   "execution_count": 14,
   "id": "125f7dac",
   "metadata": {
    "ExecuteTime": {
     "end_time": "2022-09-22T21:56:19.645438Z",
     "start_time": "2022-09-22T21:56:17.687848Z"
    },
    "execution": {
     "iopub.execute_input": "2024-03-05T17:41:06.422153Z",
     "iopub.status.busy": "2024-03-05T17:41:06.421798Z",
     "iopub.status.idle": "2024-03-05T17:41:07.688417Z",
     "shell.execute_reply": "2024-03-05T17:41:07.688102Z"
    },
    "papermill": {
     "duration": 1.270471,
     "end_time": "2024-03-05T17:41:07.689392",
     "exception": false,
     "start_time": "2024-03-05T17:41:06.418921",
     "status": "completed"
    },
    "tags": []
   },
   "outputs": [
    {
     "data": {
      "image/png": "[encoded data removed]",
      "text/plain": [
       "<Figure size 640x480 with 2 Axes>"
      ]
     },
     "metadata": {},
     "output_type": "display_data"
    }
   ],
   "source": [
    "choices = ('matching', 'aitchison', 'euclidean', 'generalized_unifrac', 'canberra', 'russellrao', 'braycurtis', 'cosine', 'jensenshannon', 'yule', 'weighted_normalized_unifrac', 'unweighted_unifrac', 'hamming', 'weighted_unifrac', 'cityblock', 'sokalmichener', 'seuclidean', 'rogerstanimoto', 'correlation', 'minkowski', 'kulsinski', 'chebyshev', 'sqeuclidean', 'sokalsneath', 'jaccard', 'dice', 'canberra_adkins')\n",
    "clustering_methods = ('nj', 'upgma')\n",
    "correlation_methods = ('pearson', 'spearman')\n",
    "\n",
    "sampling_depth = max(min_feature_count, 1)\n",
    "metric = 'braycurtis'\n",
    "clustering_method = clustering_methods[0]\n",
    "correlation_method = correlation_methods[1]\n",
    "\n",
    "beta_rar = beta_rarefaction(\n",
    "    table = tabs,\n",
    "    sampling_depth  = sampling_depth,\n",
    "    metadata = metadata_qa,\n",
    "    metric = metric,\n",
    "    clustering_method = clustering_method,\n",
    "    correlation_method = correlation_method,\n",
    ")"
   ]
  },
  {
   "cell_type": "markdown",
   "id": "cd76b203",
   "metadata": {
    "papermill": {
     "duration": 0.002753,
     "end_time": "2024-03-05T17:41:07.695052",
     "exception": false,
     "start_time": "2024-03-05T17:41:07.692299",
     "status": "completed"
    },
    "tags": []
   },
   "source": [
    " ## Beta diversity PCoA\n",
    " Ellipses represent 95% confidence intervals."
   ]
  },
  {
   "cell_type": "code",
   "execution_count": 15,
   "id": "1ebcc067",
   "metadata": {
    "ExecuteTime": {
     "end_time": "2022-09-22T21:56:22.170995Z",
     "start_time": "2022-09-22T21:56:22.048827Z"
    },
    "execution": {
     "iopub.execute_input": "2024-03-05T17:41:07.702572Z",
     "iopub.status.busy": "2024-03-05T17:41:07.701864Z",
     "iopub.status.idle": "2024-03-05T17:41:07.769751Z",
     "shell.execute_reply": "2024-03-05T17:41:07.769337Z"
    },
    "papermill": {
     "duration": 0.072983,
     "end_time": "2024-03-05T17:41:07.770665",
     "exception": false,
     "start_time": "2024-03-05T17:41:07.697682",
     "status": "completed"
    },
    "tags": []
   },
   "outputs": [
    {
     "data": {
      "text/html": [
       "<div><img onload=\"(function(div, url){\n",
       "if (typeof require !== 'undefined') {\n",
       "    var baseURL = require.toUrl('').split('/').slice(0, -2).join('/');\n",
       "} else {\n",
       "    var baseURL = JSON.parse(\n",
       "        document.getElementById('jupyter-config-data').innerHTML\n",
       "    ).baseUrl.slice(0, -1);\n",
       "}\n",
       "url = baseURL + url;\n",
       "fetch(url).then(function(res) {\n",
       "    if (res.status === 404) {\n",
       "        div.innerHTML = 'Install QIIME 2 Jupyter extension with:<br />' +\n",
       "                        '<code>jupyter serverextension enable --py qiime2' +\n",
       "                        ' --sys-prefix</code><br />then restart your server.' +\n",
       "                        '<br /><br />(Interactive output not available on ' +\n",
       "                        'static notebook viewer services like nbviewer.)';\n",
       "    } else if (res.status === 409) {\n",
       "        div.innerHTML = 'Visualization no longer in scope. Re-run this cell' +\n",
       "                        ' to see the visualization.';\n",
       "    } else if (res.ok) {\n",
       "        url = res.url;\n",
       "        div.innerHTML = '<iframe src=\\'' + url + '\\' style=\\'' +\n",
       "                        'width: 100%; height: 700px; border: 0;\\'>' +\n",
       "                        '</iframe><hr />Open in a: <a href=\\'' + url + '\\'' +\n",
       "                        ' target=\\'_blank\\'>new window</a>'\n",
       "    } else {\n",
       "        div.innerHTML = 'Something has gone wrong. Check notebook server for' +\n",
       "                        ' errors.';\n",
       "    }\n",
       "});\n",
       "})(this.parentElement, '/qiime2/redirect?location=/tmp/qiime2/lauro/data/ddc662d7-3d64-42d4-9eac-cd14ebf6bc5b')\" src=\"data:image/gif;base64,R0lGODlhAQABAIAAAP///wAAACH5BAEAAAAALAAAAAABAAEAAAICRAEAOw==\" /></div>"
      ],
      "text/plain": [
       "<visualization: Visualization uuid: ddc662d7-3d64-42d4-9eac-cd14ebf6bc5b>"
      ]
     },
     "execution_count": 15,
     "metadata": {},
     "output_type": "execute_result"
    }
   ],
   "source": [
    "plot_tmp = f'{metric}-{clustering_method}-{correlation_method}-{sampling_depth}'\n",
    "beta_rarefaction_view_path = os.path.join(qiime_folder, f'beta-rarefaction-{plot_tmp}.qzv')\n",
    "beta_rar.visualization.save(beta_rarefaction_view_path)\n",
    "\n",
    "beta_rar.visualization"
   ]
  }
 ],
 "metadata": {
  "celltoolbar": "Edit Metadata",
  "kernelspec": {
   "display_name": "Python 3 (ipykernel)",
   "language": "python",
   "name": "python3"
  },
  "language_info": {
   "codemirror_mode": {
    "name": "ipython",
    "version": 3
   },
   "file_extension": ".py",
   "mimetype": "text/x-python",
   "name": "python",
   "nbconvert_exporter": "python",
   "pygments_lexer": "ipython3",
   "version": "3.8.16"
  },
  "papermill": {
   "default_parameters": {},
   "duration": 24.749771,
   "end_time": "2024-03-05T17:41:08.692788",
   "environment_variables": {},
   "exception": null,
   "input_path": "nb-templates/step-rarefaction-analysis.ipynb",
   "output_path": "/mnt/nupeb/rede-micro/redemicro-ana-flavia-nutri/experiments/ana-flavia-NCxSTD-NC-trim/nb-executed-steps/step-rarefaction-analysis-ana-flavia-NCxSTD-NC-trim.ipynb",
   "parameters": {
    "base_dir": "/mnt/nupeb/rede-micro/redemicro-ana-flavia-nutri",
    "class_col": "group-id",
    "classifier_file": "/mnt/nupeb/rede-micro/datasets/16S_classifiers_qiime2/silva-138-99-nb-classifier.qza",
    "experiment_name": "ana-flavia-NCxSTD-NC-trim",
    "manifest_file": "/mnt/nupeb/rede-micro/redemicro-ana-flavia-nutri/data/raw/manifest/manifest-ana-flavia-NCxSTD-NC.csv",
    "metadata_file": "/mnt/nupeb/rede-micro/redemicro-ana-flavia-nutri/data/raw/metadata/metadata-ana-flavia-NCxSTD-NC.tsv",
    "overlap": 12,
    "phred": 20,
    "replace_files": false,
    "threads": 6,
    "top_n": 20,
    "trim": {
     "forward_primer": "CCTACGGGRSGCAGCAG",
     "overlap": 8,
     "reverse_primer": "GGACTACHVGGGTWTCTAAT"
    },
    "trunc_f": 0,
    "trunc_r": 0
   },
   "start_time": "2024-03-05T17:40:43.943017",
   "version": "2.4.0"
  },
  "toc-autonumbering": false,
  "toc-showcode": false,
  "toc-showmarkdowntxt": false
 },
 "nbformat": 4,
 "nbformat_minor": 5
}