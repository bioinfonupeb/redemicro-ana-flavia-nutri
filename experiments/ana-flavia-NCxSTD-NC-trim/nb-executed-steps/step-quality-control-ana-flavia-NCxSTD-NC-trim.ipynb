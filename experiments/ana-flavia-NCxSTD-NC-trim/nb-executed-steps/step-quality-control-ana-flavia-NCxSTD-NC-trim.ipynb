{
 "cells": [
  {
   "cell_type": "markdown",
   "id": "bc836e7c",
   "metadata": {
    "papermill": {
     "duration": 0.015428,
     "end_time": "2024-03-05T17:20:11.670474",
     "exception": false,
     "start_time": "2024-03-05T17:20:11.655046",
     "status": "completed"
    },
    "tags": []
   },
   "source": [
    "# Quality Control and ASV table construction with DADA2"
   ]
  },
  {
   "cell_type": "markdown",
   "id": "af227a60",
   "metadata": {
    "papermill": {
     "duration": 0.009846,
     "end_time": "2024-03-05T17:20:11.693938",
     "exception": false,
     "start_time": "2024-03-05T17:20:11.684092",
     "status": "completed"
    },
    "tags": []
   },
   "source": [
    "## Setup and settings"
   ]
  },
  {
   "cell_type": "code",
   "execution_count": 1,
   "id": "590ad737",
   "metadata": {
    "ExecuteTime": {
     "end_time": "2022-06-29T18:49:49.974644Z",
     "start_time": "2022-06-29T18:49:30.876897Z"
    },
    "execution": {
     "iopub.execute_input": "2024-03-05T17:20:11.706129Z",
     "iopub.status.busy": "2024-03-05T17:20:11.705879Z",
     "iopub.status.idle": "2024-03-05T17:20:16.135772Z",
     "shell.execute_reply": "2024-03-05T17:20:16.135259Z"
    },
    "papermill": {
     "duration": 4.436841,
     "end_time": "2024-03-05T17:20:16.137029",
     "exception": false,
     "start_time": "2024-03-05T17:20:11.700188",
     "status": "completed"
    },
    "tags": []
   },
   "outputs": [],
   "source": [
    "# Importing packages\n",
    "import os\n",
    "import yaml\n",
    "import logging\n",
    "import pandas as pd\n",
    "from qiime2 import Artifact\n",
    "from qiime2 import Visualization\n",
    "from qiime2 import Metadata\n",
    "import qiime2.plugins.dada2.actions as dada2_actions\n",
    "import qiime2.plugins.metadata.actions as metadata_actions\n",
    "from qiime2.plugins.feature_table.visualizers import tabulate_seqs\n",
    "from qiime2.plugins.feature_table.visualizers import summarize\n",
    "from qiime2.plugins.feature_table.visualizers import core_features\n",
    "from qiime2.plugins.feature_table.methods import filter_samples\n",
    "from qiime2.plugins.feature_table.methods import filter_seqs\n",
    "\n",
    "import matplotlib.pyplot as plt\n",
    "\n",
    "%matplotlib inline"
   ]
  },
  {
   "cell_type": "markdown",
   "id": "3c41842e",
   "metadata": {
    "papermill": {
     "duration": 0.004334,
     "end_time": "2024-03-05T17:20:16.143776",
     "exception": false,
     "start_time": "2024-03-05T17:20:16.139442",
     "status": "completed"
    },
    "tags": []
   },
   "source": [
    "### Receiving the parameters\n",
    "\n",
    "The following cell can receive parameters using the [papermill](https://papermill.readthedocs.io/en/latest/) tool."
   ]
  },
  {
   "cell_type": "code",
   "execution_count": 2,
   "id": "92182d2e",
   "metadata": {
    "ExecuteTime": {
     "end_time": "2022-06-29T18:54:01.035034Z",
     "start_time": "2022-06-29T18:54:01.028724Z"
    },
    "execution": {
     "iopub.execute_input": "2024-03-05T17:20:16.148856Z",
     "iopub.status.busy": "2024-03-05T17:20:16.148616Z",
     "iopub.status.idle": "2024-03-05T17:20:16.151760Z",
     "shell.execute_reply": "2024-03-05T17:20:16.151377Z"
    },
    "papermill": {
     "duration": 0.006809,
     "end_time": "2024-03-05T17:20:16.152652",
     "exception": false,
     "start_time": "2024-03-05T17:20:16.145843",
     "status": "completed"
    },
    "tags": [
     "parameters"
    ]
   },
   "outputs": [],
   "source": [
    "experiment_name = 'ana-flavia-superlactacao'\n",
    "base_dir = os.path.join('/', 'home', 'lauro', 'nupeb', 'redemicro')\n",
    "metadata_file = os.path.join(base_dir, 'data', 'raw', 'metadata', 'sample-metadata.tsv')\n",
    "manifest_file = os.path.join(base_dir, 'data', 'raw', 'manifest', 'sample-manifest.csv')\n",
    "replace_files = False\n",
    "phred = 20\n",
    "trunc_f = 0\n",
    "trunc_r = 0\n",
    "overlap = 12\n",
    "threads = 6\n",
    "trim = None"
   ]
  },
  {
   "cell_type": "code",
   "execution_count": 3,
   "id": "196294a8",
   "metadata": {
    "execution": {
     "iopub.execute_input": "2024-03-05T17:20:16.159710Z",
     "iopub.status.busy": "2024-03-05T17:20:16.159594Z",
     "iopub.status.idle": "2024-03-05T17:20:16.162271Z",
     "shell.execute_reply": "2024-03-05T17:20:16.161918Z"
    },
    "papermill": {
     "duration": 0.008318,
     "end_time": "2024-03-05T17:20:16.163124",
     "exception": false,
     "start_time": "2024-03-05T17:20:16.154806",
     "status": "completed"
    },
    "tags": [
     "injected-parameters"
    ]
   },
   "outputs": [],
   "source": [
    "# Parameters\n",
    "base_dir = \"/mnt/nupeb/rede-micro/redemicro-ana-flavia-nutri\"\n",
    "class_col = \"group-id\"\n",
    "classifier_file = \"/mnt/nupeb/rede-micro/datasets/16S_classifiers_qiime2/silva-138-99-nb-classifier.qza\"\n",
    "experiment_name = \"ana-flavia-NCxSTD-NC-trim\"\n",
    "manifest_file = \"/mnt/nupeb/rede-micro/redemicro-ana-flavia-nutri/data/raw/manifest/manifest-ana-flavia-NCxSTD-NC.csv\"\n",
    "metadata_file = \"/mnt/nupeb/rede-micro/redemicro-ana-flavia-nutri/data/raw/metadata/metadata-ana-flavia-NCxSTD-NC.tsv\"\n",
    "overlap = 12\n",
    "phred = 20\n",
    "replace_files = False\n",
    "threads = 6\n",
    "top_n = 20\n",
    "trim = {\n",
    "    \"forward_primer\": \"CCTACGGGRSGCAGCAG\",\n",
    "    \"overlap\": 8,\n",
    "    \"reverse_primer\": \"GGACTACHVGGGTWTCTAAT\",\n",
    "}\n",
    "trunc_f = 0\n",
    "trunc_r = 0\n"
   ]
  },
  {
   "cell_type": "code",
   "execution_count": 4,
   "id": "99010a3d",
   "metadata": {
    "execution": {
     "iopub.execute_input": "2024-03-05T17:20:16.168025Z",
     "iopub.status.busy": "2024-03-05T17:20:16.167909Z",
     "iopub.status.idle": "2024-03-05T17:20:16.170854Z",
     "shell.execute_reply": "2024-03-05T17:20:16.170567Z"
    },
    "papermill": {
     "duration": 0.006435,
     "end_time": "2024-03-05T17:20:16.171686",
     "exception": false,
     "start_time": "2024-03-05T17:20:16.165251",
     "status": "completed"
    },
    "tags": []
   },
   "outputs": [],
   "source": [
    "# Setting hardcoded parameters for development and debbuging\n",
    "production = True\n",
    "if not production:\n",
    "    params_path = os.path.join('..', 'params', 'ana-flavia-superlactacao.yaml')\n",
    "    with open(params_path, 'r') as stream:\n",
    "        params = yaml.safe_load(stream)\n",
    "        experiment_name = params['experiment_name']\n",
    "        base_dir = params['base_dir']\n",
    "        replace_files = params['replace_files']\n",
    "        experiment_folder = os.path.abspath(os.path.join(os.getcwd(), '..', 'experiments', 'thayane-feces-01'))\n",
    "        img_folder = os.path.abspath(os.path.join(experiment_folder, 'imgs'))\n",
    "        replace_files = False\n",
    "        phred = 20\n",
    "        trunc_f = 0\n",
    "        trunc_r = 0\n",
    "        overlap = 12\n",
    "        threads = 6"
   ]
  },
  {
   "cell_type": "code",
   "execution_count": 5,
   "id": "a8f67dca",
   "metadata": {
    "ExecuteTime": {
     "end_time": "2022-06-29T18:51:02.089300Z",
     "start_time": "2022-06-29T18:51:02.084922Z"
    },
    "execution": {
     "iopub.execute_input": "2024-03-05T17:20:16.176686Z",
     "iopub.status.busy": "2024-03-05T17:20:16.176459Z",
     "iopub.status.idle": "2024-03-05T17:20:16.179413Z",
     "shell.execute_reply": "2024-03-05T17:20:16.179006Z"
    },
    "papermill": {
     "duration": 0.006417,
     "end_time": "2024-03-05T17:20:16.180261",
     "exception": false,
     "start_time": "2024-03-05T17:20:16.173844",
     "status": "completed"
    },
    "tags": []
   },
   "outputs": [],
   "source": [
    "experiment_folder = os.path.abspath(os.path.join(base_dir, 'experiments', experiment_name))\n",
    "img_folder = os.path.abspath(os.path.join(experiment_folder, 'imgs'))\n",
    "qiime_folder = os.path.join(experiment_folder, 'qiime-artifacts')\n",
    "data_dir =  os.path.abspath(os.path.join(base_dir, 'data'))\n",
    "raw_data_dir =  os.path.abspath(os.path.join(data_dir, 'raw'))\n",
    "interim_data_dir =  os.path.abspath(os.path.join(data_dir, 'interim'))"
   ]
  },
  {
   "cell_type": "markdown",
   "id": "22c2b56a",
   "metadata": {
    "papermill": {
     "duration": 0.002166,
     "end_time": "2024-03-05T17:20:16.184651",
     "exception": false,
     "start_time": "2024-03-05T17:20:16.182485",
     "status": "completed"
    },
    "tags": []
   },
   "source": [
    "### Defining names and paths"
   ]
  },
  {
   "cell_type": "code",
   "execution_count": 6,
   "id": "2301ea9c",
   "metadata": {
    "execution": {
     "iopub.execute_input": "2024-03-05T17:20:16.189813Z",
     "iopub.status.busy": "2024-03-05T17:20:16.189580Z",
     "iopub.status.idle": "2024-03-05T17:20:16.194306Z",
     "shell.execute_reply": "2024-03-05T17:20:16.194011Z"
    },
    "papermill": {
     "duration": 0.008273,
     "end_time": "2024-03-05T17:20:16.195155",
     "exception": false,
     "start_time": "2024-03-05T17:20:16.186882",
     "status": "completed"
    },
    "tags": []
   },
   "outputs": [],
   "source": [
    "# Determine if is SingleEnd or PairedEnd\n",
    "manifest_df = pd.read_csv(manifest_file)\n",
    "n_directions = len(manifest_df['direction'].unique())\n",
    "sufix = 'single' if n_directions == 1 else 'paired'"
   ]
  },
  {
   "cell_type": "code",
   "execution_count": 7,
   "id": "065c2146",
   "metadata": {
    "ExecuteTime": {
     "end_time": "2022-05-30T19:57:39.064490Z",
     "start_time": "2022-05-30T19:57:39.007809Z"
    },
    "execution": {
     "iopub.execute_input": "2024-03-05T17:20:16.200130Z",
     "iopub.status.busy": "2024-03-05T17:20:16.200014Z",
     "iopub.status.idle": "2024-03-05T17:20:16.202936Z",
     "shell.execute_reply": "2024-03-05T17:20:16.202591Z"
    },
    "papermill": {
     "duration": 0.006466,
     "end_time": "2024-03-05T17:20:16.203782",
     "exception": false,
     "start_time": "2024-03-05T17:20:16.197316",
     "status": "completed"
    },
    "tags": []
   },
   "outputs": [],
   "source": [
    "if trim:\n",
    "    demux_file = os.path.join(qiime_folder, f'demux-{sufix}-trim.qza')\n",
    "else:\n",
    "    demux_file = os.path.join(qiime_folder, f'demux-{sufix}.qza')\n",
    "\n",
    "dada2_tabs = os.path.join(qiime_folder, 'dada2-tabs.qza')\n",
    "dada2_reps = os.path.join(qiime_folder, 'dada2-reps.qza')\n",
    "dada2_stat = os.path.join(qiime_folder, 'dada2-stat.qza')\n",
    "\n",
    "\n",
    "dada2_tabs_view = dada2_tabs[:-1] + 'v'\n",
    "dada2_reps_view = dada2_reps[:-1] + 'v'\n",
    "dada2_stat_view = dada2_stat[:-1] + 'v'\n",
    "dada2_core_view = os.path.join(qiime_folder, 'dada2-core.qzv')"
   ]
  },
  {
   "cell_type": "markdown",
   "id": "c23e41da",
   "metadata": {
    "papermill": {
     "duration": 0.002264,
     "end_time": "2024-03-05T17:20:16.208336",
     "exception": false,
     "start_time": "2024-03-05T17:20:16.206072",
     "status": "completed"
    },
    "tags": []
   },
   "source": [
    "## Step execution\n",
    "\n",
    "### Load input files\n",
    "\n",
    "This Step import the QIIME2 `SampleData[PairedEndSequencesWithQuality]` Artifact with all demultiplexed sequences and the `Metadata` file."
   ]
  },
  {
   "cell_type": "code",
   "execution_count": 8,
   "id": "6d9dcc26",
   "metadata": {
    "ExecuteTime": {
     "end_time": "2022-05-30T19:57:39.077380Z",
     "start_time": "2022-05-30T19:57:39.066746Z"
    },
    "execution": {
     "iopub.execute_input": "2024-03-05T17:20:16.213695Z",
     "iopub.status.busy": "2024-03-05T17:20:16.213278Z",
     "iopub.status.idle": "2024-03-05T17:20:16.215999Z",
     "shell.execute_reply": "2024-03-05T17:20:16.215569Z"
    },
    "papermill": {
     "duration": 0.00634,
     "end_time": "2024-03-05T17:20:16.216942",
     "exception": false,
     "start_time": "2024-03-05T17:20:16.210602",
     "status": "completed"
    },
    "tags": []
   },
   "outputs": [],
   "source": [
    "need_dada2 = not (os.path.isfile(dada2_tabs) and os.path.isfile(dada2_reps) and os.path.isfile(dada2_stat)) or replace_files\n",
    "need_view = not (os.path.isfile(dada2_tabs_view) and os.path.isfile(dada2_reps_view) and os.path.isfile(dada2_stat_view)) or replace_files"
   ]
  },
  {
   "cell_type": "code",
   "execution_count": 9,
   "id": "9c4eeecc",
   "metadata": {
    "ExecuteTime": {
     "end_time": "2022-05-30T19:57:39.089632Z",
     "start_time": "2022-05-30T19:57:39.079347Z"
    },
    "execution": {
     "iopub.execute_input": "2024-03-05T17:20:16.222055Z",
     "iopub.status.busy": "2024-03-05T17:20:16.221893Z",
     "iopub.status.idle": "2024-03-05T17:20:17.006452Z",
     "shell.execute_reply": "2024-03-05T17:20:17.005942Z"
    },
    "papermill": {
     "duration": 0.788417,
     "end_time": "2024-03-05T17:20:17.007618",
     "exception": false,
     "start_time": "2024-03-05T17:20:16.219201",
     "status": "completed"
    },
    "tags": []
   },
   "outputs": [],
   "source": [
    "if need_dada2:\n",
    "    demux = Artifact.load(demux_file)"
   ]
  },
  {
   "cell_type": "code",
   "execution_count": 10,
   "id": "6d6f4b81",
   "metadata": {
    "ExecuteTime": {
     "end_time": "2022-05-30T19:57:39.145879Z",
     "start_time": "2022-05-30T19:57:39.091983Z"
    },
    "execution": {
     "iopub.execute_input": "2024-03-05T17:20:17.013722Z",
     "iopub.status.busy": "2024-03-05T17:20:17.013517Z",
     "iopub.status.idle": "2024-03-05T17:20:17.021737Z",
     "shell.execute_reply": "2024-03-05T17:20:17.021223Z"
    },
    "papermill": {
     "duration": 0.012045,
     "end_time": "2024-03-05T17:20:17.022602",
     "exception": false,
     "start_time": "2024-03-05T17:20:17.010557",
     "status": "completed"
    },
    "tags": []
   },
   "outputs": [],
   "source": [
    "metadata = Metadata.load(metadata_file)"
   ]
  },
  {
   "cell_type": "markdown",
   "id": "7c1e2835",
   "metadata": {
    "papermill": {
     "duration": 0.002336,
     "end_time": "2024-03-05T17:20:17.027260",
     "exception": false,
     "start_time": "2024-03-05T17:20:17.024924",
     "status": "completed"
    },
    "tags": []
   },
   "source": [
    "### Execute DADA2 plugin and create Artifacts\n",
    "\n",
    "The DADA2 plugin perform tha quality control and create the ASV table. It will be produced three Artifacts:\n",
    "\n",
    "- tabs (`FeatureTable[Frequency]`) : \n",
    "    The resulting feature table.\n",
    "- reps (`FeatureData[Sequence]`) :\n",
    "    The resulting feature sequences. Each feature in the feature table will\n",
    "    be represented by exactly one sequence, and these sequences will be the\n",
    "    joined paired-end sequences.\n",
    "- denoising_stats (`SampleData[DADA2Stats]`) : the resulting stats. Shows the number and the proportion of filtered reads in each phase of the plugin execution."
   ]
  },
  {
   "cell_type": "code",
   "execution_count": 11,
   "id": "0559e26a",
   "metadata": {
    "execution": {
     "iopub.execute_input": "2024-03-05T17:20:17.032715Z",
     "iopub.status.busy": "2024-03-05T17:20:17.032468Z",
     "iopub.status.idle": "2024-03-05T17:40:37.459831Z",
     "shell.execute_reply": "2024-03-05T17:40:37.459321Z"
    },
    "papermill": {
     "duration": 1220.431296,
     "end_time": "2024-03-05T17:40:37.460901",
     "exception": false,
     "start_time": "2024-03-05T17:20:17.029605",
     "status": "completed"
    },
    "tags": []
   },
   "outputs": [
    {
     "name": "stdout",
     "output_type": "stream",
     "text": [
      "Create new local DADA2 data\n",
      "Running external command line application(s). This may print messages to stdout and/or stderr.\n",
      "The command(s) being run are below. These commands cannot be manually re-run as they will depend on temporary files that no longer exist.\n",
      "\n",
      "Command: run_dada.R --input_directory /tmp/tmphabm229f/forward --input_directory_reverse /tmp/tmphabm229f/reverse --output_path /tmp/tmphabm229f/output.tsv.biom --output_track /tmp/tmphabm229f/track.tsv --filtered_directory /tmp/tmphabm229f/filt_f --filtered_directory_reverse /tmp/tmphabm229f/filt_r --truncation_length 0 --truncation_length_reverse 0 --trim_left 0 --trim_left_reverse 0 --max_expected_errors 2.0 --max_expected_errors_reverse 2.0 --truncation_quality_score 20 --min_overlap 12 --pooling_method independent --chimera_method consensus --min_parental_fold 1.0 --allow_one_off False --num_threads 6 --learn_min_reads 1000000\n",
      "\n",
      "R version 4.2.3 (2023-03-15) \n"
     ]
    },
    {
     "name": "stderr",
     "output_type": "stream",
     "text": [
      "Loading required package: Rcpp\n"
     ]
    },
    {
     "name": "stdout",
     "output_type": "stream",
     "text": [
      "DADA2: 1.26.0 / Rcpp: 1.0.10 / RcppParallel: 5.1.6 \n",
      "2) Filtering "
     ]
    },
    {
     "name": "stdout",
     "output_type": "stream",
     "text": [
      "...........\n",
      "3) Learning Error Rates\n"
     ]
    },
    {
     "name": "stdout",
     "output_type": "stream",
     "text": [
      "365445471 total bases in 1554035 reads from 4 samples will be used for learning the error rates.\n"
     ]
    },
    {
     "name": "stdout",
     "output_type": "stream",
     "text": [
      "239863949 total bases in 1554035 reads from 4 samples will be used for learning the error rates.\n"
     ]
    },
    {
     "name": "stdout",
     "output_type": "stream",
     "text": [
      "3) Denoise samples "
     ]
    },
    {
     "name": "stdout",
     "output_type": "stream",
     "text": [
      "."
     ]
    },
    {
     "name": "stdout",
     "output_type": "stream",
     "text": [
      "."
     ]
    },
    {
     "name": "stdout",
     "output_type": "stream",
     "text": [
      "."
     ]
    },
    {
     "name": "stdout",
     "output_type": "stream",
     "text": [
      "."
     ]
    },
    {
     "name": "stdout",
     "output_type": "stream",
     "text": [
      "."
     ]
    },
    {
     "name": "stdout",
     "output_type": "stream",
     "text": [
      "."
     ]
    },
    {
     "name": "stdout",
     "output_type": "stream",
     "text": [
      "."
     ]
    },
    {
     "name": "stdout",
     "output_type": "stream",
     "text": [
      "."
     ]
    },
    {
     "name": "stdout",
     "output_type": "stream",
     "text": [
      "."
     ]
    },
    {
     "name": "stdout",
     "output_type": "stream",
     "text": [
      "."
     ]
    },
    {
     "name": "stdout",
     "output_type": "stream",
     "text": [
      ".\n"
     ]
    },
    {
     "name": "stdout",
     "output_type": "stream",
     "text": [
      "."
     ]
    },
    {
     "name": "stderr",
     "output_type": "stream",
     "text": [
      "Duplicate sequences in merged output.\n"
     ]
    },
    {
     "name": "stdout",
     "output_type": "stream",
     "text": [
      "."
     ]
    },
    {
     "name": "stderr",
     "output_type": "stream",
     "text": [
      "Duplicate sequences in merged output.\n"
     ]
    },
    {
     "name": "stdout",
     "output_type": "stream",
     "text": [
      "."
     ]
    },
    {
     "name": "stderr",
     "output_type": "stream",
     "text": [
      "Duplicate sequences in merged output.\n"
     ]
    },
    {
     "name": "stdout",
     "output_type": "stream",
     "text": [
      "."
     ]
    },
    {
     "name": "stderr",
     "output_type": "stream",
     "text": [
      "Duplicate sequences in merged output.\n"
     ]
    },
    {
     "name": "stdout",
     "output_type": "stream",
     "text": [
      "."
     ]
    },
    {
     "name": "stderr",
     "output_type": "stream",
     "text": [
      "Duplicate sequences in merged output.\n"
     ]
    },
    {
     "name": "stdout",
     "output_type": "stream",
     "text": [
      "."
     ]
    },
    {
     "name": "stderr",
     "output_type": "stream",
     "text": [
      "Duplicate sequences in merged output.\n"
     ]
    },
    {
     "name": "stdout",
     "output_type": "stream",
     "text": [
      "."
     ]
    },
    {
     "name": "stderr",
     "output_type": "stream",
     "text": [
      "Duplicate sequences in merged output.\n"
     ]
    },
    {
     "name": "stdout",
     "output_type": "stream",
     "text": [
      "."
     ]
    },
    {
     "name": "stdout",
     "output_type": "stream",
     "text": [
      "."
     ]
    },
    {
     "name": "stderr",
     "output_type": "stream",
     "text": [
      "Duplicate sequences in merged output.\n"
     ]
    },
    {
     "name": "stdout",
     "output_type": "stream",
     "text": [
      "."
     ]
    },
    {
     "name": "stdout",
     "output_type": "stream",
     "text": [
      ".\n",
      "5) Remove chimeras (method = consensus)\n"
     ]
    },
    {
     "name": "stderr",
     "output_type": "stream",
     "text": [
      "Duplicate sequences detected and merged.\n",
      "Duplicate sequences detected and merged.\n",
      "Duplicate sequences detected and merged.\n",
      "Duplicate sequences detected and merged.\n",
      "Duplicate sequences detected and merged.\n",
      "Duplicate sequences detected and merged.\n",
      "Duplicate sequences detected and merged.\n",
      "Duplicate sequences detected and merged.\n"
     ]
    },
    {
     "name": "stdout",
     "output_type": "stream",
     "text": [
      "6) Report read numbers through the pipeline\n",
      "7) Write output\n"
     ]
    }
   ],
   "source": [
    "if not os.path.isfile(dada2_tabs) or replace_files:\n",
    "    interim_tabs_path = os.path.join(interim_data_dir, \"dada2-tabs.qza\")\n",
    "    interim_reps_path = os.path.join(interim_data_dir, \"dada2-reps.qza\")\n",
    "    interim_stat_path = os.path.join(interim_data_dir, \"dada2-stat.qza\")\n",
    "    # Verify if has shared files\n",
    "    if os.path.isfile(interim_tabs_path) and os.path.isfile(interim_reps_path) and os.path.isfile(interim_stat_path):\n",
    "        print(\"Load DADA2 data from shared files\")\n",
    "        tabs = Artifact.load(interim_tabs_path)\n",
    "        reps = Artifact.load(interim_reps_path)\n",
    "        stat = Artifact.load(interim_stat_path)\n",
    "    # Create new DADA2 files\n",
    "    else:\n",
    "        print(\"Create new local DADA2 data\")\n",
    "        if n_directions == 1: # SingleEnd\n",
    "            tabs, reps, stat = dada2_actions.denoise_single(\n",
    "                demultiplexed_seqs=demux,\n",
    "                trunc_q = phred,\n",
    "                n_threads = threads,\n",
    "                trunc_len = trunc_f,\n",
    "            )\n",
    "        elif n_directions == 2: # PairedEnd\n",
    "            tabs, reps, stat = dada2_actions.denoise_paired(\n",
    "                demultiplexed_seqs=demux,\n",
    "                trunc_q = phred,\n",
    "                min_overlap = overlap,\n",
    "                n_threads = threads,\n",
    "                trunc_len_f = trunc_f,\n",
    "                trunc_len_r = trunc_r,\n",
    "            )\n",
    "        tabs.save(dada2_tabs)\n",
    "        reps.save(dada2_reps)\n",
    "        stat.save(dada2_stat)\n",
    "else:\n",
    "    print(\"Load DADA2 data from local files\")\n",
    "    tabs = Artifact.load(dada2_tabs)\n",
    "    reps = Artifact.load(dada2_reps)\n",
    "    stat = Artifact.load(dada2_stat)"
   ]
  },
  {
   "cell_type": "markdown",
   "id": "ca9374a6",
   "metadata": {
    "papermill": {
     "duration": 0.003358,
     "end_time": "2024-03-05T17:40:37.467796",
     "exception": false,
     "start_time": "2024-03-05T17:40:37.464438",
     "status": "completed"
    },
    "tags": []
   },
   "source": [
    "### Filter samples"
   ]
  },
  {
   "cell_type": "code",
   "execution_count": 12,
   "id": "07993bc8",
   "metadata": {
    "execution": {
     "iopub.execute_input": "2024-03-05T17:40:37.476781Z",
     "iopub.status.busy": "2024-03-05T17:40:37.476648Z",
     "iopub.status.idle": "2024-03-05T17:40:37.746333Z",
     "shell.execute_reply": "2024-03-05T17:40:37.745989Z"
    },
    "papermill": {
     "duration": 0.274498,
     "end_time": "2024-03-05T17:40:37.747288",
     "exception": false,
     "start_time": "2024-03-05T17:40:37.472790",
     "status": "completed"
    },
    "tags": []
   },
   "outputs": [
    {
     "name": "stderr",
     "output_type": "stream",
     "text": [
      "/home/lauro/anaconda3/envs/qiime2-2023.5/lib/python3.8/site-packages/q2_types/feature_data/_transformer.py:258: FutureWarning: iteritems is deprecated and will be removed in a future version. Use .items instead.\n",
      "  for id_, seq in data.iteritems():\n"
     ]
    }
   ],
   "source": [
    "# Filter FeatureTable[Frequency | RelativeFrequency | PresenceAbsence | Composition] based on Metadata sample ID values\n",
    "tabs = filter_samples(\n",
    "    table=tabs,\n",
    "    metadata=metadata,\n",
    ").filtered_table\n",
    "# Filter SampleData[SequencesWithQuality | PairedEndSequencesWithQuality | JoinedSequencesWithQuality] based on Metadata sample ID values; returns FeatureData[Sequence | AlignedSequence]\n",
    "reps = filter_seqs(\n",
    "    data=reps,\n",
    "    table=tabs,\n",
    ").filtered_data"
   ]
  },
  {
   "cell_type": "markdown",
   "id": "96a802d9",
   "metadata": {
    "papermill": {
     "duration": 0.003336,
     "end_time": "2024-03-05T17:40:37.754146",
     "exception": false,
     "start_time": "2024-03-05T17:40:37.750810",
     "status": "completed"
    },
    "tags": []
   },
   "source": [
    "### Define Visualizations Artifacts"
   ]
  },
  {
   "cell_type": "code",
   "execution_count": 13,
   "id": "1e1a8ea9",
   "metadata": {
    "ExecuteTime": {
     "end_time": "2022-05-30T19:57:39.249051Z",
     "start_time": "2022-05-30T19:57:39.173053Z"
    },
    "execution": {
     "iopub.execute_input": "2024-03-05T17:40:37.762497Z",
     "iopub.status.busy": "2024-03-05T17:40:37.762300Z",
     "iopub.status.idle": "2024-03-05T17:40:41.815286Z",
     "shell.execute_reply": "2024-03-05T17:40:41.814834Z"
    },
    "papermill": {
     "duration": 4.059178,
     "end_time": "2024-03-05T17:40:41.816509",
     "exception": false,
     "start_time": "2024-03-05T17:40:37.757331",
     "status": "completed"
    },
    "tags": []
   },
   "outputs": [
    {
     "data": {
      "image/png": "[encoded data removed]",
      "text/plain": [
       "<Figure size 640x480 with 1 Axes>"
      ]
     },
     "metadata": {},
     "output_type": "display_data"
    }
   ],
   "source": [
    "# If some of the DADA2 Visualization artifacts do not exist or if the old files will be replaced\n",
    "if need_view:\n",
    "    \n",
    "    tabs_view, = metadata_actions.tabulate(input=tabs.view(Metadata))\n",
    "    reps_view, = metadata_actions.tabulate(input=reps.view(Metadata))\n",
    "    stat_view, = metadata_actions.tabulate(input=stat.view(Metadata))\n",
    "    \n",
    "    tabs_view = summarize(table=tabs, sample_metadata=metadata).visualization\n",
    "    reps_view = tabulate_seqs(data=reps).visualization\n",
    "    core_view = core_features(table=tabs, min_fraction=.1, steps=10).visualization\n",
    "    \n",
    "    \n",
    "    # Save the artifacts objects\n",
    "    tabs_view.save(dada2_tabs_view)\n",
    "    reps_view.save(dada2_reps_view)\n",
    "    stat_view.save(dada2_stat_view)\n",
    "    core_view.save(dada2_core_view)\n",
    "\n",
    "else:\n",
    "    tabs_view = Visualization.load(dada2_tabs_view)\n",
    "    reps_view = Visualization.load(dada2_reps_view)\n",
    "    stat_view = Visualization.load(dada2_stat_view)\n",
    "    core_view = Visualization.load(dada2_core_view)"
   ]
  },
  {
   "cell_type": "code",
   "execution_count": 14,
   "id": "832e06af",
   "metadata": {
    "execution": {
     "iopub.execute_input": "2024-03-05T17:40:41.827407Z",
     "iopub.status.busy": "2024-03-05T17:40:41.827280Z",
     "iopub.status.idle": "2024-03-05T17:40:41.830721Z",
     "shell.execute_reply": "2024-03-05T17:40:41.830284Z"
    },
    "papermill": {
     "duration": 0.008548,
     "end_time": "2024-03-05T17:40:41.831648",
     "exception": false,
     "start_time": "2024-03-05T17:40:41.823100",
     "status": "completed"
    },
    "tags": []
   },
   "outputs": [],
   "source": [
    "def plot_stats_box(artifact, fname, total_reads_phases, percent_phases, cols):\n",
    "    import matplotlib.pyplot as plt\n",
    "    from qiime2 import Metadata\n",
    "    \n",
    "    df = artifact.view(Metadata).to_dataframe()\n",
    "    df_vals = df[total_reads_phases]\n",
    "    df_perc = df[percent_phases]\n",
    "    df_perc.columns = cols\n",
    "    \n",
    "    \n",
    "    plt.figure(figsize=(15,5))\n",
    "    plt.subplot(1, 2, 1)\n",
    "    df_vals.boxplot()\n",
    "    plt.xlabel('Fases')\n",
    "    plt.ylabel('# of reads')\n",
    "    \n",
    "    plt.subplot(1, 2, 2)\n",
    "    df_perc.boxplot()\n",
    "    plt.xlabel('Fases')\n",
    "    plt.ylabel('% of input')\n",
    "    \n",
    "    plt.savefig(fname, bbox_inches='tight')\n",
    "\n",
    "    plt.show()"
   ]
  },
  {
   "cell_type": "code",
   "execution_count": 15,
   "id": "4848b216",
   "metadata": {
    "execution": {
     "iopub.execute_input": "2024-03-05T17:40:41.839296Z",
     "iopub.status.busy": "2024-03-05T17:40:41.839162Z",
     "iopub.status.idle": "2024-03-05T17:40:41.841882Z",
     "shell.execute_reply": "2024-03-05T17:40:41.841466Z"
    },
    "papermill": {
     "duration": 0.007668,
     "end_time": "2024-03-05T17:40:41.842834",
     "exception": false,
     "start_time": "2024-03-05T17:40:41.835166",
     "status": "completed"
    },
    "tags": []
   },
   "outputs": [],
   "source": [
    "if n_directions == 1: # SingleEnd\n",
    "    total_reads_phases = ['input', 'filtered', 'denoised', 'non-chimeric']\n",
    "    percent_phases = ['percentage of input passed filter', 'percentage of input non-chimeric']\n",
    "    cols = ['filtered', 'non-chimeric']\n",
    "elif n_directions == 2: # PairedEnd\n",
    "    total_reads_phases = ['input', 'filtered', 'denoised', 'merged', 'non-chimeric']\n",
    "    percent_phases = ['percentage of input passed filter', 'percentage of input merged', 'percentage of input non-chimeric']\n",
    "    cols = ['filtered', 'merged', 'non-chimeric']"
   ]
  },
  {
   "cell_type": "code",
   "execution_count": 16,
   "id": "31509273",
   "metadata": {
    "ExecuteTime": {
     "end_time": "2022-05-30T19:57:39.901491Z",
     "start_time": "2022-05-30T19:57:39.255220Z"
    },
    "execution": {
     "iopub.execute_input": "2024-03-05T17:40:41.851021Z",
     "iopub.status.busy": "2024-03-05T17:40:41.850454Z",
     "iopub.status.idle": "2024-03-05T17:40:42.128405Z",
     "shell.execute_reply": "2024-03-05T17:40:42.127942Z"
    },
    "papermill": {
     "duration": 0.282924,
     "end_time": "2024-03-05T17:40:42.129356",
     "exception": false,
     "start_time": "2024-03-05T17:40:41.846432",
     "status": "completed"
    },
    "scrolled": false,
    "tags": []
   },
   "outputs": [
    {
     "data": {
      "image/png": "[encoded data removed]",
      "text/plain": [
       "<Figure size 1500x500 with 2 Axes>"
      ]
     },
     "metadata": {},
     "output_type": "display_data"
    }
   ],
   "source": [
    "plot_stats_box(stat, os.path.join(img_folder, 'step02-stats-boxplot.pdf'), total_reads_phases, percent_phases, cols)"
   ]
  },
  {
   "cell_type": "code",
   "execution_count": 17,
   "id": "b2e80f91",
   "metadata": {
    "ExecuteTime": {
     "end_time": "2022-05-31T17:58:47.140114Z",
     "start_time": "2022-05-31T17:58:47.087808Z"
    },
    "execution": {
     "iopub.execute_input": "2024-03-05T17:40:42.138158Z",
     "iopub.status.busy": "2024-03-05T17:40:42.138028Z",
     "iopub.status.idle": "2024-03-05T17:40:42.160172Z",
     "shell.execute_reply": "2024-03-05T17:40:42.159776Z"
    },
    "papermill": {
     "duration": 0.027524,
     "end_time": "2024-03-05T17:40:42.161018",
     "exception": false,
     "start_time": "2024-03-05T17:40:42.133494",
     "status": "completed"
    },
    "tags": []
   },
   "outputs": [
    {
     "data": {
      "text/html": [
       "<div>\n",
       "<style scoped>\n",
       "    .dataframe tbody tr th:only-of-type {\n",
       "        vertical-align: middle;\n",
       "    }\n",
       "\n",
       "    .dataframe tbody tr th {\n",
       "        vertical-align: top;\n",
       "    }\n",
       "\n",
       "    .dataframe thead th {\n",
       "        text-align: right;\n",
       "    }\n",
       "</style>\n",
       "<table border=\"1\" class=\"dataframe\">\n",
       "  <thead>\n",
       "    <tr style=\"text-align: right;\">\n",
       "      <th></th>\n",
       "      <th>percentage of input passed filter</th>\n",
       "      <th>percentage of input merged</th>\n",
       "      <th>percentage of input non-chimeric</th>\n",
       "    </tr>\n",
       "  </thead>\n",
       "  <tbody>\n",
       "    <tr>\n",
       "      <th>count</th>\n",
       "      <td>11.000000</td>\n",
       "      <td>11.000000</td>\n",
       "      <td>11.000000</td>\n",
       "    </tr>\n",
       "    <tr>\n",
       "      <th>mean</th>\n",
       "      <td>85.920909</td>\n",
       "      <td>78.580909</td>\n",
       "      <td>75.637273</td>\n",
       "    </tr>\n",
       "    <tr>\n",
       "      <th>std</th>\n",
       "      <td>0.576341</td>\n",
       "      <td>1.747097</td>\n",
       "      <td>2.674910</td>\n",
       "    </tr>\n",
       "    <tr>\n",
       "      <th>min</th>\n",
       "      <td>84.700000</td>\n",
       "      <td>75.400000</td>\n",
       "      <td>70.960000</td>\n",
       "    </tr>\n",
       "    <tr>\n",
       "      <th>25%</th>\n",
       "      <td>85.715000</td>\n",
       "      <td>78.090000</td>\n",
       "      <td>74.455000</td>\n",
       "    </tr>\n",
       "    <tr>\n",
       "      <th>50%</th>\n",
       "      <td>85.910000</td>\n",
       "      <td>78.780000</td>\n",
       "      <td>76.050000</td>\n",
       "    </tr>\n",
       "    <tr>\n",
       "      <th>75%</th>\n",
       "      <td>86.290000</td>\n",
       "      <td>79.705000</td>\n",
       "      <td>78.000000</td>\n",
       "    </tr>\n",
       "    <tr>\n",
       "      <th>max</th>\n",
       "      <td>86.660000</td>\n",
       "      <td>81.040000</td>\n",
       "      <td>78.520000</td>\n",
       "    </tr>\n",
       "  </tbody>\n",
       "</table>\n",
       "</div>"
      ],
      "text/plain": [
       "       percentage of input passed filter  percentage of input merged  \\\n",
       "count                          11.000000                   11.000000   \n",
       "mean                           85.920909                   78.580909   \n",
       "std                             0.576341                    1.747097   \n",
       "min                            84.700000                   75.400000   \n",
       "25%                            85.715000                   78.090000   \n",
       "50%                            85.910000                   78.780000   \n",
       "75%                            86.290000                   79.705000   \n",
       "max                            86.660000                   81.040000   \n",
       "\n",
       "       percentage of input non-chimeric  \n",
       "count                         11.000000  \n",
       "mean                          75.637273  \n",
       "std                            2.674910  \n",
       "min                           70.960000  \n",
       "25%                           74.455000  \n",
       "50%                           76.050000  \n",
       "75%                           78.000000  \n",
       "max                           78.520000  "
      ]
     },
     "execution_count": 17,
     "metadata": {},
     "output_type": "execute_result"
    }
   ],
   "source": [
    "stat.view(Metadata).to_dataframe().describe()[percent_phases]"
   ]
  },
  {
   "cell_type": "code",
   "execution_count": 18,
   "id": "50dbe6ea",
   "metadata": {
    "ExecuteTime": {
     "end_time": "2022-05-30T19:57:39.957632Z",
     "start_time": "2022-05-30T19:57:39.953762Z"
    },
    "execution": {
     "iopub.execute_input": "2024-03-05T17:40:42.169428Z",
     "iopub.status.busy": "2024-03-05T17:40:42.169255Z",
     "iopub.status.idle": "2024-03-05T17:40:42.172245Z",
     "shell.execute_reply": "2024-03-05T17:40:42.171962Z"
    },
    "papermill": {
     "duration": 0.008203,
     "end_time": "2024-03-05T17:40:42.173150",
     "exception": false,
     "start_time": "2024-03-05T17:40:42.164947",
     "status": "completed"
    },
    "tags": []
   },
   "outputs": [
    {
     "data": {
      "text/html": [
       "<div><img onload=\"(function(div, url){\n",
       "if (typeof require !== 'undefined') {\n",
       "    var baseURL = require.toUrl('').split('/').slice(0, -2).join('/');\n",
       "} else {\n",
       "    var baseURL = JSON.parse(\n",
       "        document.getElementById('jupyter-config-data').innerHTML\n",
       "    ).baseUrl.slice(0, -1);\n",
       "}\n",
       "url = baseURL + url;\n",
       "fetch(url).then(function(res) {\n",
       "    if (res.status === 404) {\n",
       "        div.innerHTML = 'Install QIIME 2 Jupyter extension with:<br />' +\n",
       "                        '<code>jupyter serverextension enable --py qiime2' +\n",
       "                        ' --sys-prefix</code><br />then restart your server.' +\n",
       "                        '<br /><br />(Interactive output not available on ' +\n",
       "                        'static notebook viewer services like nbviewer.)';\n",
       "    } else if (res.status === 409) {\n",
       "        div.innerHTML = 'Visualization no longer in scope. Re-run this cell' +\n",
       "                        ' to see the visualization.';\n",
       "    } else if (res.ok) {\n",
       "        url = res.url;\n",
       "        div.innerHTML = '<iframe src=\\'' + url + '\\' style=\\'' +\n",
       "                        'width: 100%; height: 700px; border: 0;\\'>' +\n",
       "                        '</iframe><hr />Open in a: <a href=\\'' + url + '\\'' +\n",
       "                        ' target=\\'_blank\\'>new window</a>'\n",
       "    } else {\n",
       "        div.innerHTML = 'Something has gone wrong. Check notebook server for' +\n",
       "                        ' errors.';\n",
       "    }\n",
       "});\n",
       "})(this.parentElement, '/qiime2/redirect?location=/tmp/qiime2/lauro/data/88626a97-6e54-479d-98a9-96e00b46c4d6')\" src=\"data:image/gif;base64,R0lGODlhAQABAIAAAP///wAAACH5BAEAAAAALAAAAAABAAEAAAICRAEAOw==\" /></div>"
      ],
      "text/plain": [
       "<visualization: Visualization uuid: 88626a97-6e54-479d-98a9-96e00b46c4d6>"
      ]
     },
     "execution_count": 18,
     "metadata": {},
     "output_type": "execute_result"
    }
   ],
   "source": [
    "stat_view"
   ]
  }
 ],
 "metadata": {
  "celltoolbar": "Edit Metadata",
  "kernelspec": {
   "display_name": "Python 3 (ipykernel)",
   "language": "python",
   "name": "python3"
  },
  "language_info": {
   "codemirror_mode": {
    "name": "ipython",
    "version": 3
   },
   "file_extension": ".py",
   "mimetype": "text/x-python",
   "name": "python",
   "nbconvert_exporter": "python",
   "pygments_lexer": "ipython3",
   "version": "3.8.16"
  },
  "papermill": {
   "default_parameters": {},
   "duration": 1232.55555,
   "end_time": "2024-03-05T17:40:43.195149",
   "environment_variables": {},
   "exception": null,
   "input_path": "nb-templates/step-quality-control.ipynb",
   "output_path": "/mnt/nupeb/rede-micro/redemicro-ana-flavia-nutri/experiments/ana-flavia-NCxSTD-NC-trim/nb-executed-steps/step-quality-control-ana-flavia-NCxSTD-NC-trim.ipynb",
   "parameters": {
    "base_dir": "/mnt/nupeb/rede-micro/redemicro-ana-flavia-nutri",
    "class_col": "group-id",
    "classifier_file": "/mnt/nupeb/rede-micro/datasets/16S_classifiers_qiime2/silva-138-99-nb-classifier.qza",
    "experiment_name": "ana-flavia-NCxSTD-NC-trim",
    "manifest_file": "/mnt/nupeb/rede-micro/redemicro-ana-flavia-nutri/data/raw/manifest/manifest-ana-flavia-NCxSTD-NC.csv",
    "metadata_file": "/mnt/nupeb/rede-micro/redemicro-ana-flavia-nutri/data/raw/metadata/metadata-ana-flavia-NCxSTD-NC.tsv",
    "overlap": 12,
    "phred": 20,
    "replace_files": false,
    "threads": 6,
    "top_n": 20,
    "trim": {
     "forward_primer": "CCTACGGGRSGCAGCAG",
     "overlap": 8,
     "reverse_primer": "GGACTACHVGGGTWTCTAAT"
    },
    "trunc_f": 0,
    "trunc_r": 0
   },
   "start_time": "2024-03-05T17:20:10.639599",
   "version": "2.4.0"
  },
  "toc-autonumbering": false,
  "toc-showcode": false,
  "toc-showmarkdowntxt": false
 },
 "nbformat": 4,
 "nbformat_minor": 5
}