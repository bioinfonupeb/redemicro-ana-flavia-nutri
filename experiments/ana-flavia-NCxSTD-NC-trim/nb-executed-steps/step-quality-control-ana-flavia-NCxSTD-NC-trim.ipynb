{
 "cells": [
  {
   "cell_type": "markdown",
   "id": "1f581d02",
   "metadata": {
    "papermill": {
     "duration": 0.021403,
     "end_time": "2023-05-26T11:28:12.268234",
     "exception": false,
     "start_time": "2023-05-26T11:28:12.246831",
     "status": "completed"
    },
    "tags": []
   },
   "source": [
    "# Quality Control and ASV table construction with DADA2"
   ]
  },
  {
   "cell_type": "markdown",
   "id": "345fe90b",
   "metadata": {
    "papermill": {
     "duration": 0.081371,
     "end_time": "2023-05-26T11:28:12.429857",
     "exception": false,
     "start_time": "2023-05-26T11:28:12.348486",
     "status": "completed"
    },
    "tags": []
   },
   "source": [
    "## Setup and settings"
   ]
  },
  {
   "cell_type": "code",
   "execution_count": 1,
   "id": "1ae39942",
   "metadata": {
    "ExecuteTime": {
     "end_time": "2022-06-29T18:49:49.974644Z",
     "start_time": "2022-06-29T18:49:30.876897Z"
    },
    "execution": {
     "iopub.execute_input": "2023-05-26T11:28:12.488434Z",
     "iopub.status.busy": "2023-05-26T11:28:12.487974Z",
     "iopub.status.idle": "2023-05-26T11:28:18.514369Z",
     "shell.execute_reply": "2023-05-26T11:28:18.513740Z"
    },
    "papermill": {
     "duration": 6.052995,
     "end_time": "2023-05-26T11:28:18.516110",
     "exception": false,
     "start_time": "2023-05-26T11:28:12.463115",
     "status": "completed"
    },
    "tags": []
   },
   "outputs": [],
   "source": [
    "# Importing packages\n",
    "import os\n",
    "import yaml\n",
    "import logging\n",
    "import pandas as pd\n",
    "from qiime2 import Artifact\n",
    "from qiime2 import Visualization\n",
    "from qiime2 import Metadata\n",
    "import qiime2.plugins.dada2.actions as dada2_actions\n",
    "import qiime2.plugins.metadata.actions as metadata_actions\n",
    "from qiime2.plugins.feature_table.visualizers import tabulate_seqs\n",
    "from qiime2.plugins.feature_table.visualizers import summarize\n",
    "from qiime2.plugins.feature_table.visualizers import core_features\n",
    "\n",
    "import matplotlib.pyplot as plt\n",
    "\n",
    "%matplotlib inline"
   ]
  },
  {
   "cell_type": "markdown",
   "id": "29351f20",
   "metadata": {
    "papermill": {
     "duration": 0.093297,
     "end_time": "2023-05-26T11:28:18.702051",
     "exception": false,
     "start_time": "2023-05-26T11:28:18.608754",
     "status": "completed"
    },
    "tags": []
   },
   "source": [
    "### Receiving the parameters\n",
    "\n",
    "The following cell can receive parameters using the [papermill](https://papermill.readthedocs.io/en/latest/) tool."
   ]
  },
  {
   "cell_type": "code",
   "execution_count": 2,
   "id": "bb737021",
   "metadata": {
    "ExecuteTime": {
     "end_time": "2022-06-29T18:54:01.035034Z",
     "start_time": "2022-06-29T18:54:01.028724Z"
    },
    "execution": {
     "iopub.execute_input": "2023-05-26T11:28:18.733221Z",
     "iopub.status.busy": "2023-05-26T11:28:18.732968Z",
     "iopub.status.idle": "2023-05-26T11:28:18.738608Z",
     "shell.execute_reply": "2023-05-26T11:28:18.737922Z"
    },
    "papermill": {
     "duration": 0.022099,
     "end_time": "2023-05-26T11:28:18.740143",
     "exception": false,
     "start_time": "2023-05-26T11:28:18.718044",
     "status": "completed"
    },
    "tags": [
     "parameters"
    ]
   },
   "outputs": [],
   "source": [
    "experiment_name = 'ana-flavia-superlactacao'\n",
    "base_dir = os.path.join('/', 'home', 'lauro', 'nupeb', 'redemicro')\n",
    "metadata_file = os.path.join(base_dir, 'data', 'raw', 'metadata', 'sample-metadata.tsv')\n",
    "manifest_file = os.path.join(base_dir, 'data', 'raw', 'manifest', 'sample-manifest.csv')\n",
    "replace_files = False\n",
    "phred = 20\n",
    "trunc_f = 0\n",
    "trunc_r = 0\n",
    "overlap = 12\n",
    "threads = 6\n",
    "trim = None"
   ]
  },
  {
   "cell_type": "code",
   "execution_count": 3,
   "id": "da097243",
   "metadata": {
    "execution": {
     "iopub.execute_input": "2023-05-26T11:28:18.770775Z",
     "iopub.status.busy": "2023-05-26T11:28:18.770525Z",
     "iopub.status.idle": "2023-05-26T11:28:18.776750Z",
     "shell.execute_reply": "2023-05-26T11:28:18.775941Z"
    },
    "papermill": {
     "duration": 0.022523,
     "end_time": "2023-05-26T11:28:18.778354",
     "exception": false,
     "start_time": "2023-05-26T11:28:18.755831",
     "status": "completed"
    },
    "tags": [
     "injected-parameters"
    ]
   },
   "outputs": [],
   "source": [
    "# Parameters\n",
    "experiment_name = \"ana-flavia-NCxSTD-NC-trim\"\n",
    "base_dir = \"/home/lauro/nupeb/rede-micro/redemicro-ana-flavia-nutri\"\n",
    "manifest_file = \"/home/lauro/nupeb/rede-micro/redemicro-ana-flavia-nutri/data/raw/manifest/manifest-ana-flavia-NCxSTD-NC.csv\"\n",
    "metadata_file = \"/home/lauro/nupeb/rede-micro/redemicro-ana-flavia-nutri/data/raw/metadata/metadata-ana-flavia-NCxSTD-NC.tsv\"\n",
    "class_col = \"group-id\"\n",
    "classifier_file = \"/home/lauro/nupeb/dados_brutos_rede_genoma/16S_classifiers_qiime2/silva-138-99-nb-classifier.qza\"\n",
    "replace_files = False\n",
    "phred = 20\n",
    "trunc_f = 0\n",
    "trunc_r = 0\n",
    "overlap = 12\n",
    "threads = 6\n",
    "trim = {\n",
    "    \"overlap\": 8,\n",
    "    \"forward_primer\": \"CCTACGGGRSGCAGCAG\",\n",
    "    \"reverse_primer\": \"GGACTACHVGGGTWTCTAAT\",\n",
    "}\n"
   ]
  },
  {
   "cell_type": "code",
   "execution_count": 4,
   "id": "44b615e7",
   "metadata": {
    "execution": {
     "iopub.execute_input": "2023-05-26T11:28:18.809372Z",
     "iopub.status.busy": "2023-05-26T11:28:18.809073Z",
     "iopub.status.idle": "2023-05-26T11:28:18.817406Z",
     "shell.execute_reply": "2023-05-26T11:28:18.816455Z"
    },
    "papermill": {
     "duration": 0.024993,
     "end_time": "2023-05-26T11:28:18.819307",
     "exception": false,
     "start_time": "2023-05-26T11:28:18.794314",
     "status": "completed"
    },
    "tags": []
   },
   "outputs": [],
   "source": [
    "# Setting hardcoded parameters for development and debbuging\n",
    "production = True\n",
    "if not production:\n",
    "    params_path = os.path.join('..', 'params', 'ana-flavia-superlactacao.yaml')\n",
    "    with open(params_path, 'r') as stream:\n",
    "        params = yaml.safe_load(stream)\n",
    "        experiment_name = params['experiment_name']\n",
    "        base_dir = params['base_dir']\n",
    "        replace_files = params['replace_files']\n",
    "        experiment_folder = os.path.abspath(os.path.join(os.getcwd(), '..', 'experiments', 'thayane-feces-01'))\n",
    "        img_folder = os.path.abspath(os.path.join(experiment_folder, 'imgs'))\n",
    "        replace_files = False\n",
    "        phred = 20\n",
    "        trunc_f = 0\n",
    "        trunc_r = 0\n",
    "        overlap = 12\n",
    "        threads = 6"
   ]
  },
  {
   "cell_type": "code",
   "execution_count": 5,
   "id": "44f928ef",
   "metadata": {
    "ExecuteTime": {
     "end_time": "2022-06-29T18:51:02.089300Z",
     "start_time": "2022-06-29T18:51:02.084922Z"
    },
    "execution": {
     "iopub.execute_input": "2023-05-26T11:28:18.850298Z",
     "iopub.status.busy": "2023-05-26T11:28:18.849978Z",
     "iopub.status.idle": "2023-05-26T11:28:18.855441Z",
     "shell.execute_reply": "2023-05-26T11:28:18.854560Z"
    },
    "papermill": {
     "duration": 0.022032,
     "end_time": "2023-05-26T11:28:18.857081",
     "exception": false,
     "start_time": "2023-05-26T11:28:18.835049",
     "status": "completed"
    },
    "tags": []
   },
   "outputs": [],
   "source": [
    "experiment_folder = os.path.abspath(os.path.join(base_dir, 'experiments', experiment_name))\n",
    "img_folder = os.path.abspath(os.path.join(experiment_folder, 'imgs'))"
   ]
  },
  {
   "cell_type": "markdown",
   "id": "ee5d9442",
   "metadata": {
    "papermill": {
     "duration": 0.013935,
     "end_time": "2023-05-26T11:28:18.884921",
     "exception": false,
     "start_time": "2023-05-26T11:28:18.870986",
     "status": "completed"
    },
    "tags": []
   },
   "source": [
    "### Defining names and paths"
   ]
  },
  {
   "cell_type": "code",
   "execution_count": 6,
   "id": "b6dfd61f",
   "metadata": {
    "ExecuteTime": {
     "end_time": "2022-05-30T19:57:39.064490Z",
     "start_time": "2022-05-30T19:57:39.007809Z"
    },
    "execution": {
     "iopub.execute_input": "2023-05-26T11:28:18.913797Z",
     "iopub.status.busy": "2023-05-26T11:28:18.913452Z",
     "iopub.status.idle": "2023-05-26T11:28:18.922458Z",
     "shell.execute_reply": "2023-05-26T11:28:18.921578Z"
    },
    "papermill": {
     "duration": 0.025918,
     "end_time": "2023-05-26T11:28:18.924540",
     "exception": false,
     "start_time": "2023-05-26T11:28:18.898622",
     "status": "completed"
    },
    "tags": []
   },
   "outputs": [],
   "source": [
    "qiime_folder = os.path.join(experiment_folder, 'qiime-artifacts')\n",
    "\n",
    "if trim:\n",
    "    demux_file = os.path.join(qiime_folder, 'demux-paired-trim.qza')\n",
    "else:\n",
    "    demux_file = os.path.join(qiime_folder, 'demux-paired.qza')\n",
    "\n",
    "dada2_tabs = os.path.join(qiime_folder, 'dada2-tabs.qza')\n",
    "dada2_reps = os.path.join(qiime_folder, 'dada2-reps.qza')\n",
    "dada2_stat = os.path.join(qiime_folder, 'dada2-stat.qza')\n",
    "\n",
    "\n",
    "dada2_tabs_view = dada2_tabs[:-1] + 'v'\n",
    "dada2_reps_view = dada2_reps[:-1] + 'v'\n",
    "dada2_stat_view = dada2_stat[:-1] + 'v'\n",
    "dada2_core_view = os.path.join(qiime_folder, 'dada2-core.qzv')"
   ]
  },
  {
   "cell_type": "markdown",
   "id": "3ac7a930",
   "metadata": {
    "papermill": {
     "duration": 0.015319,
     "end_time": "2023-05-26T11:28:18.957283",
     "exception": false,
     "start_time": "2023-05-26T11:28:18.941964",
     "status": "completed"
    },
    "tags": []
   },
   "source": [
    "## Step execution\n",
    "\n",
    "### Load input files\n",
    "\n",
    "This Step import the QIIME2 `SampleData[PairedEndSequencesWithQuality]` Artifact with all demultiplexed sequences and the `Metadata` file."
   ]
  },
  {
   "cell_type": "code",
   "execution_count": 7,
   "id": "2671fbbe",
   "metadata": {
    "ExecuteTime": {
     "end_time": "2022-05-30T19:57:39.077380Z",
     "start_time": "2022-05-30T19:57:39.066746Z"
    },
    "execution": {
     "iopub.execute_input": "2023-05-26T11:28:18.986831Z",
     "iopub.status.busy": "2023-05-26T11:28:18.986512Z",
     "iopub.status.idle": "2023-05-26T11:28:18.992388Z",
     "shell.execute_reply": "2023-05-26T11:28:18.991547Z"
    },
    "papermill": {
     "duration": 0.02226,
     "end_time": "2023-05-26T11:28:18.994094",
     "exception": false,
     "start_time": "2023-05-26T11:28:18.971834",
     "status": "completed"
    },
    "tags": []
   },
   "outputs": [],
   "source": [
    "need_dada2 = not (os.path.isfile(dada2_tabs) and os.path.isfile(dada2_reps) and os.path.isfile(dada2_stat)) or replace_files\n",
    "need_view = not (os.path.isfile(dada2_tabs_view) and os.path.isfile(dada2_reps_view) and os.path.isfile(dada2_stat_view)) or replace_files"
   ]
  },
  {
   "cell_type": "code",
   "execution_count": 8,
   "id": "63fc725e",
   "metadata": {
    "ExecuteTime": {
     "end_time": "2022-05-30T19:57:39.089632Z",
     "start_time": "2022-05-30T19:57:39.079347Z"
    },
    "execution": {
     "iopub.execute_input": "2023-05-26T11:28:19.024039Z",
     "iopub.status.busy": "2023-05-26T11:28:19.023580Z",
     "iopub.status.idle": "2023-05-26T11:28:20.264671Z",
     "shell.execute_reply": "2023-05-26T11:28:20.264056Z"
    },
    "papermill": {
     "duration": 1.258656,
     "end_time": "2023-05-26T11:28:20.267478",
     "exception": false,
     "start_time": "2023-05-26T11:28:19.008822",
     "status": "completed"
    },
    "tags": []
   },
   "outputs": [],
   "source": [
    "if need_dada2:\n",
    "    demux = Artifact.load(demux_file)"
   ]
  },
  {
   "cell_type": "code",
   "execution_count": 9,
   "id": "4950ee0e",
   "metadata": {
    "ExecuteTime": {
     "end_time": "2022-05-30T19:57:39.145879Z",
     "start_time": "2022-05-30T19:57:39.091983Z"
    },
    "execution": {
     "iopub.execute_input": "2023-05-26T11:28:20.304125Z",
     "iopub.status.busy": "2023-05-26T11:28:20.303904Z",
     "iopub.status.idle": "2023-05-26T11:28:20.318264Z",
     "shell.execute_reply": "2023-05-26T11:28:20.317781Z"
    },
    "papermill": {
     "duration": 0.031308,
     "end_time": "2023-05-26T11:28:20.320312",
     "exception": false,
     "start_time": "2023-05-26T11:28:20.289004",
     "status": "completed"
    },
    "tags": []
   },
   "outputs": [],
   "source": [
    "metadata = Metadata.load(metadata_file)"
   ]
  },
  {
   "cell_type": "code",
   "execution_count": 10,
   "id": "d5db6a0b",
   "metadata": {
    "execution": {
     "iopub.execute_input": "2023-05-26T11:28:20.354731Z",
     "iopub.status.busy": "2023-05-26T11:28:20.354514Z",
     "iopub.status.idle": "2023-05-26T11:28:20.362841Z",
     "shell.execute_reply": "2023-05-26T11:28:20.362093Z"
    },
    "papermill": {
     "duration": 0.026607,
     "end_time": "2023-05-26T11:28:20.364382",
     "exception": false,
     "start_time": "2023-05-26T11:28:20.337775",
     "status": "completed"
    },
    "tags": []
   },
   "outputs": [],
   "source": [
    "# Determine if is SingleEnd or PairedEnd\n",
    "manifest_df = pd.read_csv(manifest_file)\n",
    "n_directions = len(manifest_df['direction'].unique())"
   ]
  },
  {
   "cell_type": "markdown",
   "id": "9407b4ed",
   "metadata": {
    "papermill": {
     "duration": 0.014521,
     "end_time": "2023-05-26T11:28:20.396047",
     "exception": false,
     "start_time": "2023-05-26T11:28:20.381526",
     "status": "completed"
    },
    "tags": []
   },
   "source": [
    "### Execute DADA2 plugin and create Artifacts\n",
    "\n",
    "The DADA2 plugin perform tha quality control and create the ASV table. It will be produced three Artifacts:\n",
    "\n",
    "- tabs (`FeatureTable[Frequency]`) : \n",
    "    The resulting feature table.\n",
    "- reps (`FeatureData[Sequence]`) :\n",
    "    The resulting feature sequences. Each feature in the feature table will\n",
    "    be represented by exactly one sequence, and these sequences will be the\n",
    "    joined paired-end sequences.\n",
    "- denoising_stats (`SampleData[DADA2Stats]`) : the resulting stats. Shows the number and the proportion of filtered reads in each phase of the plugin execution."
   ]
  },
  {
   "cell_type": "code",
   "execution_count": 11,
   "id": "b23a3d8a",
   "metadata": {
    "ExecuteTime": {
     "end_time": "2022-05-30T19:57:39.171629Z",
     "start_time": "2022-05-30T19:57:39.147370Z"
    },
    "execution": {
     "iopub.execute_input": "2023-05-26T11:28:20.430725Z",
     "iopub.status.busy": "2023-05-26T11:28:20.430558Z",
     "iopub.status.idle": "2023-05-26T11:54:44.526143Z",
     "shell.execute_reply": "2023-05-26T11:54:44.525556Z"
    },
    "papermill": {
     "duration": 1584.118175,
     "end_time": "2023-05-26T11:54:44.529066",
     "exception": false,
     "start_time": "2023-05-26T11:28:20.410891",
     "status": "completed"
    },
    "scrolled": true,
    "tags": []
   },
   "outputs": [
    {
     "name": "stdout",
     "output_type": "stream",
     "text": [
      "Running external command line application(s). This may print messages to stdout and/or stderr.\n",
      "The command(s) being run are below. These commands cannot be manually re-run as they will depend on temporary files that no longer exist.\n",
      "\n",
      "Command: run_dada_paired.R /tmp/tmpgzfrkvd6/forward /tmp/tmpgzfrkvd6/reverse /tmp/tmpgzfrkvd6/output.tsv.biom /tmp/tmpgzfrkvd6/track.tsv /tmp/tmpgzfrkvd6/filt_f /tmp/tmpgzfrkvd6/filt_r 0 0 0 0 2.0 2.0 20 12 independent consensus 1.0 6 1000000\n",
      "\n"
     ]
    },
    {
     "name": "stdout",
     "output_type": "stream",
     "text": [
      "R version 4.1.2 (2021-11-01) \n"
     ]
    },
    {
     "name": "stderr",
     "output_type": "stream",
     "text": [
      "Loading required package: Rcpp\n"
     ]
    },
    {
     "name": "stdout",
     "output_type": "stream",
     "text": [
      "DADA2: 1.22.0 / Rcpp: 1.0.8.2 / RcppParallel: 5.1.5 \n",
      "1) Filtering "
     ]
    },
    {
     "name": "stdout",
     "output_type": "stream",
     "text": [
      "...........\n",
      "2) Learning Error Rates\n"
     ]
    },
    {
     "name": "stdout",
     "output_type": "stream",
     "text": [
      "242476512 total bases in 1029373 reads from 3 samples will be used for learning the error rates.\n"
     ]
    },
    {
     "name": "stdout",
     "output_type": "stream",
     "text": [
      "158450552 total bases in 1029373 reads from 3 samples will be used for learning the error rates.\n"
     ]
    },
    {
     "name": "stdout",
     "output_type": "stream",
     "text": [
      "3) Denoise samples "
     ]
    },
    {
     "name": "stdout",
     "output_type": "stream",
     "text": [
      "."
     ]
    },
    {
     "name": "stdout",
     "output_type": "stream",
     "text": [
      "."
     ]
    },
    {
     "name": "stdout",
     "output_type": "stream",
     "text": [
      "."
     ]
    },
    {
     "name": "stdout",
     "output_type": "stream",
     "text": [
      "."
     ]
    },
    {
     "name": "stdout",
     "output_type": "stream",
     "text": [
      "."
     ]
    },
    {
     "name": "stdout",
     "output_type": "stream",
     "text": [
      "."
     ]
    },
    {
     "name": "stdout",
     "output_type": "stream",
     "text": [
      "."
     ]
    },
    {
     "name": "stdout",
     "output_type": "stream",
     "text": [
      "."
     ]
    },
    {
     "name": "stdout",
     "output_type": "stream",
     "text": [
      "."
     ]
    },
    {
     "name": "stdout",
     "output_type": "stream",
     "text": [
      "."
     ]
    },
    {
     "name": "stdout",
     "output_type": "stream",
     "text": [
      ".\n"
     ]
    },
    {
     "name": "stdout",
     "output_type": "stream",
     "text": [
      "."
     ]
    },
    {
     "name": "stderr",
     "output_type": "stream",
     "text": [
      "Duplicate sequences in merged output.\n"
     ]
    },
    {
     "name": "stdout",
     "output_type": "stream",
     "text": [
      "."
     ]
    },
    {
     "name": "stderr",
     "output_type": "stream",
     "text": [
      "Duplicate sequences in merged output.\n"
     ]
    },
    {
     "name": "stdout",
     "output_type": "stream",
     "text": [
      "."
     ]
    },
    {
     "name": "stderr",
     "output_type": "stream",
     "text": [
      "Duplicate sequences in merged output.\n"
     ]
    },
    {
     "name": "stdout",
     "output_type": "stream",
     "text": [
      "."
     ]
    },
    {
     "name": "stderr",
     "output_type": "stream",
     "text": [
      "Duplicate sequences in merged output.\n"
     ]
    },
    {
     "name": "stdout",
     "output_type": "stream",
     "text": [
      "."
     ]
    },
    {
     "name": "stderr",
     "output_type": "stream",
     "text": [
      "Duplicate sequences in merged output.\n"
     ]
    },
    {
     "name": "stdout",
     "output_type": "stream",
     "text": [
      "."
     ]
    },
    {
     "name": "stderr",
     "output_type": "stream",
     "text": [
      "Duplicate sequences in merged output.\n"
     ]
    },
    {
     "name": "stdout",
     "output_type": "stream",
     "text": [
      "."
     ]
    },
    {
     "name": "stdout",
     "output_type": "stream",
     "text": [
      "."
     ]
    },
    {
     "name": "stderr",
     "output_type": "stream",
     "text": [
      "Duplicate sequences in merged output.\n"
     ]
    },
    {
     "name": "stdout",
     "output_type": "stream",
     "text": [
      "."
     ]
    },
    {
     "name": "stderr",
     "output_type": "stream",
     "text": [
      "Duplicate sequences in merged output.\n"
     ]
    },
    {
     "name": "stdout",
     "output_type": "stream",
     "text": [
      "."
     ]
    },
    {
     "name": "stdout",
     "output_type": "stream",
     "text": [
      ".\n",
      "4) Remove chimeras (method = consensus)\n"
     ]
    },
    {
     "name": "stderr",
     "output_type": "stream",
     "text": [
      "Duplicate sequences detected and merged.\n",
      "Duplicate sequences detected and merged.\n",
      "Duplicate sequences detected and merged.\n",
      "Duplicate sequences detected and merged.\n",
      "Duplicate sequences detected and merged.\n",
      "Duplicate sequences detected and merged.\n",
      "Duplicate sequences detected and merged.\n",
      "Duplicate sequences detected and merged.\n"
     ]
    },
    {
     "name": "stdout",
     "output_type": "stream",
     "text": [
      "6) Write output\n"
     ]
    }
   ],
   "source": [
    "# If some of the DADA2 outputs artifacts do not exist or if the old files will be replaced\n",
    "if need_dada2:\n",
    "    \n",
    "    # Excute the DADA2 plugin\n",
    "    if n_directions == 1: # SingleEnd\n",
    "        tabs, reps, stat = dada2_actions.denoise_single(\n",
    "            demultiplexed_seqs=demux,\n",
    "            trunc_q = phred,\n",
    "            n_threads = threads,\n",
    "            trunc_len = trunc_f,\n",
    "        )\n",
    "    elif n_directions == 2: # PairedEnd\n",
    "        tabs, reps, stat = dada2_actions.denoise_paired(\n",
    "            demultiplexed_seqs=demux,\n",
    "            trunc_q = phred,\n",
    "            min_overlap = overlap,\n",
    "            n_threads = threads,\n",
    "            trunc_len_f = trunc_f,\n",
    "            trunc_len_r = trunc_r,\n",
    "        )\n",
    "    \n",
    "    # Save the artifacts objects\n",
    "    tabs.save(dada2_tabs)\n",
    "    reps.save(dada2_reps)\n",
    "    stat.save(dada2_stat)\n",
    "\n",
    "else:\n",
    "    tabs = Artifact.load(dada2_tabs)\n",
    "    reps = Artifact.load(dada2_reps)\n",
    "    stat = Artifact.load(dada2_stat)"
   ]
  },
  {
   "cell_type": "markdown",
   "id": "89d784ad",
   "metadata": {
    "papermill": {
     "duration": 0.021199,
     "end_time": "2023-05-26T11:54:44.578418",
     "exception": false,
     "start_time": "2023-05-26T11:54:44.557219",
     "status": "completed"
    },
    "tags": []
   },
   "source": [
    "### Define Visualizations Artifacts"
   ]
  },
  {
   "cell_type": "code",
   "execution_count": 12,
   "id": "8196fb65",
   "metadata": {
    "ExecuteTime": {
     "end_time": "2022-05-30T19:57:39.249051Z",
     "start_time": "2022-05-30T19:57:39.173053Z"
    },
    "execution": {
     "iopub.execute_input": "2023-05-26T11:54:44.622210Z",
     "iopub.status.busy": "2023-05-26T11:54:44.621906Z",
     "iopub.status.idle": "2023-05-26T11:54:51.621176Z",
     "shell.execute_reply": "2023-05-26T11:54:51.620594Z"
    },
    "papermill": {
     "duration": 7.023727,
     "end_time": "2023-05-26T11:54:51.623285",
     "exception": false,
     "start_time": "2023-05-26T11:54:44.599558",
     "status": "completed"
    },
    "tags": []
   },
   "outputs": [
    {
     "data": {
      "image/png": "[encoded data removed]",
      "text/plain": [
       "<Figure size 432x288 with 1 Axes>"
      ]
     },
     "metadata": {
      "needs_background": "light"
     },
     "output_type": "display_data"
    }
   ],
   "source": [
    "# If some of the DADA2 Visualization artifacts do not exist or if the old files will be replaced\n",
    "if need_view:\n",
    "    \n",
    "    tabs_view, = metadata_actions.tabulate(input=tabs.view(Metadata))\n",
    "    reps_view, = metadata_actions.tabulate(input=reps.view(Metadata))\n",
    "    stat_view, = metadata_actions.tabulate(input=stat.view(Metadata))\n",
    "    \n",
    "    tabs_view = summarize(table=tabs, sample_metadata=metadata).visualization\n",
    "    reps_view = tabulate_seqs(data=reps).visualization\n",
    "    core_view = core_features(table=tabs, min_fraction=.1, steps=10).visualization\n",
    "    \n",
    "    \n",
    "    # Save the artifacts objects\n",
    "    tabs_view.save(dada2_tabs_view)\n",
    "    reps_view.save(dada2_reps_view)\n",
    "    stat_view.save(dada2_stat_view)\n",
    "    core_view.save(dada2_core_view)\n",
    "\n",
    "else:\n",
    "    tabs_view = Visualization.load(dada2_tabs_view)\n",
    "    reps_view = Visualization.load(dada2_reps_view)\n",
    "    stat_view = Visualization.load(dada2_stat_view)\n",
    "    core_view = Visualization.load(dada2_core_view)"
   ]
  },
  {
   "cell_type": "code",
   "execution_count": 13,
   "id": "ef606054",
   "metadata": {
    "execution": {
     "iopub.execute_input": "2023-05-26T11:54:51.679219Z",
     "iopub.status.busy": "2023-05-26T11:54:51.678992Z",
     "iopub.status.idle": "2023-05-26T11:54:51.686004Z",
     "shell.execute_reply": "2023-05-26T11:54:51.685358Z"
    },
    "papermill": {
     "duration": 0.034653,
     "end_time": "2023-05-26T11:54:51.687619",
     "exception": false,
     "start_time": "2023-05-26T11:54:51.652966",
     "status": "completed"
    },
    "tags": []
   },
   "outputs": [],
   "source": [
    "def plot_stats_box(artifact, fname, total_reads_phases, percent_phases, cols):\n",
    "    import matplotlib.pyplot as plt\n",
    "    from qiime2 import Metadata\n",
    "    \n",
    "    df = artifact.view(Metadata).to_dataframe()\n",
    "    df_vals = df[total_reads_phases]\n",
    "    df_perc = df[percent_phases]\n",
    "    df_perc.columns = cols\n",
    "    \n",
    "    \n",
    "    plt.figure(figsize=(15,5))\n",
    "    plt.subplot(1, 2, 1)\n",
    "    df_vals.boxplot()\n",
    "    plt.xlabel('Fases')\n",
    "    plt.ylabel('# of reads')\n",
    "    \n",
    "    plt.subplot(1, 2, 2)\n",
    "    df_perc.boxplot()\n",
    "    plt.xlabel('Fases')\n",
    "    plt.ylabel('% of input')\n",
    "    \n",
    "    plt.savefig(fname, bbox_inches='tight')\n",
    "\n",
    "    plt.show()"
   ]
  },
  {
   "cell_type": "code",
   "execution_count": 14,
   "id": "1fc16456",
   "metadata": {
    "execution": {
     "iopub.execute_input": "2023-05-26T11:54:51.741099Z",
     "iopub.status.busy": "2023-05-26T11:54:51.740852Z",
     "iopub.status.idle": "2023-05-26T11:54:51.745969Z",
     "shell.execute_reply": "2023-05-26T11:54:51.745353Z"
    },
    "papermill": {
     "duration": 0.033247,
     "end_time": "2023-05-26T11:54:51.747394",
     "exception": false,
     "start_time": "2023-05-26T11:54:51.714147",
     "status": "completed"
    },
    "tags": []
   },
   "outputs": [],
   "source": [
    "if n_directions == 1: # SingleEnd\n",
    "    total_reads_phases = ['input', 'filtered', 'denoised', 'non-chimeric']\n",
    "    percent_phases = ['percentage of input passed filter', 'percentage of input non-chimeric']\n",
    "    cols = ['filtered', 'non-chimeric']\n",
    "elif n_directions == 2: # PairedEnd\n",
    "    total_reads_phases = ['input', 'filtered', 'denoised', 'merged', 'non-chimeric']\n",
    "    percent_phases = ['percentage of input passed filter', 'percentage of input merged', 'percentage of input non-chimeric']\n",
    "    cols = ['filtered', 'merged', 'non-chimeric']"
   ]
  },
  {
   "cell_type": "code",
   "execution_count": 15,
   "id": "d76d7bab",
   "metadata": {
    "ExecuteTime": {
     "end_time": "2022-05-30T19:57:39.901491Z",
     "start_time": "2022-05-30T19:57:39.255220Z"
    },
    "execution": {
     "iopub.execute_input": "2023-05-26T11:54:51.798904Z",
     "iopub.status.busy": "2023-05-26T11:54:51.798608Z",
     "iopub.status.idle": "2023-05-26T11:54:52.396817Z",
     "shell.execute_reply": "2023-05-26T11:54:52.396189Z"
    },
    "papermill": {
     "duration": 0.626222,
     "end_time": "2023-05-26T11:54:52.398831",
     "exception": false,
     "start_time": "2023-05-26T11:54:51.772609",
     "status": "completed"
    },
    "scrolled": true,
    "tags": []
   },
   "outputs": [
    {
     "data": {
      "image/png": "[encoded data removed]",
      "text/plain": [
       "<Figure size 1080x360 with 2 Axes>"
      ]
     },
     "metadata": {
      "needs_background": "light"
     },
     "output_type": "display_data"
    }
   ],
   "source": [
    "plot_stats_box(stat, os.path.join(img_folder, 'step02-stats-boxplot.pdf'), total_reads_phases, percent_phases, cols)"
   ]
  },
  {
   "cell_type": "code",
   "execution_count": 16,
   "id": "74adb549",
   "metadata": {
    "ExecuteTime": {
     "end_time": "2022-05-31T17:58:47.140114Z",
     "start_time": "2022-05-31T17:58:47.087808Z"
    },
    "execution": {
     "iopub.execute_input": "2023-05-26T11:54:52.494919Z",
     "iopub.status.busy": "2023-05-26T11:54:52.494659Z",
     "iopub.status.idle": "2023-05-26T11:54:52.542014Z",
     "shell.execute_reply": "2023-05-26T11:54:52.541416Z"
    },
    "papermill": {
     "duration": 0.111828,
     "end_time": "2023-05-26T11:54:52.544520",
     "exception": false,
     "start_time": "2023-05-26T11:54:52.432692",
     "status": "completed"
    },
    "tags": []
   },
   "outputs": [
    {
     "data": {
      "text/html": [
       "<div>\n",
       "<style scoped>\n",
       "    .dataframe tbody tr th:only-of-type {\n",
       "        vertical-align: middle;\n",
       "    }\n",
       "\n",
       "    .dataframe tbody tr th {\n",
       "        vertical-align: top;\n",
       "    }\n",
       "\n",
       "    .dataframe thead th {\n",
       "        text-align: right;\n",
       "    }\n",
       "</style>\n",
       "<table border=\"1\" class=\"dataframe\">\n",
       "  <thead>\n",
       "    <tr style=\"text-align: right;\">\n",
       "      <th></th>\n",
       "      <th>percentage of input passed filter</th>\n",
       "      <th>percentage of input merged</th>\n",
       "      <th>percentage of input non-chimeric</th>\n",
       "    </tr>\n",
       "  </thead>\n",
       "  <tbody>\n",
       "    <tr>\n",
       "      <th>count</th>\n",
       "      <td>11.000000</td>\n",
       "      <td>11.000000</td>\n",
       "      <td>11.000000</td>\n",
       "    </tr>\n",
       "    <tr>\n",
       "      <th>mean</th>\n",
       "      <td>82.699091</td>\n",
       "      <td>75.696364</td>\n",
       "      <td>72.731818</td>\n",
       "    </tr>\n",
       "    <tr>\n",
       "      <th>std</th>\n",
       "      <td>0.765669</td>\n",
       "      <td>1.561130</td>\n",
       "      <td>2.493723</td>\n",
       "    </tr>\n",
       "    <tr>\n",
       "      <th>min</th>\n",
       "      <td>80.900000</td>\n",
       "      <td>73.060000</td>\n",
       "      <td>68.310000</td>\n",
       "    </tr>\n",
       "    <tr>\n",
       "      <th>25%</th>\n",
       "      <td>82.445000</td>\n",
       "      <td>74.850000</td>\n",
       "      <td>71.750000</td>\n",
       "    </tr>\n",
       "    <tr>\n",
       "      <th>50%</th>\n",
       "      <td>82.750000</td>\n",
       "      <td>75.810000</td>\n",
       "      <td>73.130000</td>\n",
       "    </tr>\n",
       "    <tr>\n",
       "      <th>75%</th>\n",
       "      <td>83.155000</td>\n",
       "      <td>76.770000</td>\n",
       "      <td>74.740000</td>\n",
       "    </tr>\n",
       "    <tr>\n",
       "      <th>max</th>\n",
       "      <td>83.570000</td>\n",
       "      <td>78.110000</td>\n",
       "      <td>75.660000</td>\n",
       "    </tr>\n",
       "  </tbody>\n",
       "</table>\n",
       "</div>"
      ],
      "text/plain": [
       "       percentage of input passed filter  percentage of input merged  \\\n",
       "count                          11.000000                   11.000000   \n",
       "mean                           82.699091                   75.696364   \n",
       "std                             0.765669                    1.561130   \n",
       "min                            80.900000                   73.060000   \n",
       "25%                            82.445000                   74.850000   \n",
       "50%                            82.750000                   75.810000   \n",
       "75%                            83.155000                   76.770000   \n",
       "max                            83.570000                   78.110000   \n",
       "\n",
       "       percentage of input non-chimeric  \n",
       "count                         11.000000  \n",
       "mean                          72.731818  \n",
       "std                            2.493723  \n",
       "min                           68.310000  \n",
       "25%                           71.750000  \n",
       "50%                           73.130000  \n",
       "75%                           74.740000  \n",
       "max                           75.660000  "
      ]
     },
     "execution_count": 16,
     "metadata": {},
     "output_type": "execute_result"
    }
   ],
   "source": [
    "stat.view(Metadata).to_dataframe().describe()[percent_phases]"
   ]
  },
  {
   "cell_type": "code",
   "execution_count": 17,
   "id": "d85cfa2d",
   "metadata": {
    "ExecuteTime": {
     "end_time": "2022-05-30T19:57:39.957632Z",
     "start_time": "2022-05-30T19:57:39.953762Z"
    },
    "execution": {
     "iopub.execute_input": "2023-05-26T11:54:52.608290Z",
     "iopub.status.busy": "2023-05-26T11:54:52.608088Z",
     "iopub.status.idle": "2023-05-26T11:54:52.613890Z",
     "shell.execute_reply": "2023-05-26T11:54:52.613201Z"
    },
    "papermill": {
     "duration": 0.036398,
     "end_time": "2023-05-26T11:54:52.615461",
     "exception": false,
     "start_time": "2023-05-26T11:54:52.579063",
     "status": "completed"
    },
    "tags": []
   },
   "outputs": [
    {
     "data": {
      "text/html": [
       "<div><img onload=\"(function(div, url){\n",
       "if (typeof require !== 'undefined') {\n",
       "    var baseURL = require.toUrl('').split('/').slice(0, -2).join('/');\n",
       "} else {\n",
       "    var baseURL = JSON.parse(\n",
       "        document.getElementById('jupyter-config-data').innerHTML\n",
       "    ).baseUrl.slice(0, -1);\n",
       "}\n",
       "url = baseURL + url;\n",
       "fetch(url).then(function(res) {\n",
       "    if (res.status === 404) {\n",
       "        div.innerHTML = 'Install QIIME 2 Jupyter extension with:<br />' +\n",
       "                        '<code>jupyter serverextension enable --py qiime2' +\n",
       "                        ' --sys-prefix</code><br />then restart your server.' +\n",
       "                        '<br /><br />(Interactive output not available on ' +\n",
       "                        'static notebook viewer services like nbviewer.)';\n",
       "    } else if (res.status === 409) {\n",
       "        div.innerHTML = 'Visualization no longer in scope. Re-run this cell' +\n",
       "                        ' to see the visualization.';\n",
       "    } else if (res.ok) {\n",
       "        url = res.url;\n",
       "        div.innerHTML = '<iframe src=\\'' + url + '\\' style=\\'' +\n",
       "                        'width: 100%; height: 700px; border: 0;\\'>' +\n",
       "                        '</iframe><hr />Open in a: <a href=\\'' + url + '\\'' +\n",
       "                        ' target=\\'_blank\\'>new window</a>'\n",
       "    } else {\n",
       "        div.innerHTML = 'Something has gone wrong. Check notebook server for' +\n",
       "                        ' errors.';\n",
       "    }\n",
       "});\n",
       "})(this.parentElement, '/qiime2/redirect?location=/tmp/qiime2-archive-mkptbkko')\" src=\"data:image/gif;base64,R0lGODlhAQABAIAAAP///wAAACH5BAEAAAAALAAAAAABAAEAAAICRAEAOw==\" /></div>"
      ],
      "text/plain": [
       "<visualization: Visualization uuid: b524f772-3c06-4787-b114-c7be69906f0b>"
      ]
     },
     "execution_count": 17,
     "metadata": {},
     "output_type": "execute_result"
    }
   ],
   "source": [
    "stat_view"
   ]
  },
  {
   "cell_type": "code",
   "execution_count": 18,
   "id": "d8847bbe",
   "metadata": {
    "ExecuteTime": {
     "end_time": "2022-05-30T19:57:39.967918Z",
     "start_time": "2022-05-30T19:57:39.958955Z"
    },
    "execution": {
     "iopub.execute_input": "2023-05-26T11:54:52.674172Z",
     "iopub.status.busy": "2023-05-26T11:54:52.673881Z",
     "iopub.status.idle": "2023-05-26T11:54:52.678168Z",
     "shell.execute_reply": "2023-05-26T11:54:52.677319Z"
    },
    "papermill": {
     "duration": 0.034991,
     "end_time": "2023-05-26T11:54:52.679818",
     "exception": false,
     "start_time": "2023-05-26T11:54:52.644827",
     "status": "completed"
    },
    "tags": []
   },
   "outputs": [],
   "source": [
    "# new_stat = Artifact.load('/home/lauro/nupeb/redemicro/experiments/thayane-feces-01/qiime-artifacts/dada2-stat.qza')\n",
    "# # new_view, = metadata_actions.tabulate(input=new_stat.view(Metadata))\n",
    "# # plot_stats_box(old_stat)\n",
    "\n",
    "# old_stat = Artifact.load('/home/lauro/nupeb/dados_brutos_rede_genoma/experiments/fezes-phred_20-tf_0-tr_0-lap_4/fezes_dada2_stat.qza')\n",
    "# # old_view, = metadata_actions.tabulate(input=old_stat.view(Metadata))\n",
    "# # plot_stats_box(old_stat)\n",
    "\n",
    "# plot_stats_box_pairs(old_stat, new_stat)"
   ]
  }
 ],
 "metadata": {
  "celltoolbar": "Edit Metadata",
  "kernelspec": {
   "display_name": "Python 3 (ipykernel)",
   "language": "python",
   "name": "python3"
  },
  "language_info": {
   "codemirror_mode": {
    "name": "ipython",
    "version": 3
   },
   "file_extension": ".py",
   "mimetype": "text/x-python",
   "name": "python",
   "nbconvert_exporter": "python",
   "pygments_lexer": "ipython3",
   "version": "3.8.12"
  },
  "papermill": {
   "default_parameters": {},
   "duration": 1603.051945,
   "end_time": "2023-05-26T11:54:53.734173",
   "environment_variables": {},
   "exception": null,
   "input_path": "nb-templates/step-quality-control.ipynb",
   "output_path": "/home/lauro/nupeb/rede-micro/redemicro-ana-flavia-nutri/experiments/ana-flavia-NCxSTD-NC-trim/nb-executed-steps/step-quality-control-ana-flavia-NCxSTD-NC-trim.ipynb",
   "parameters": {
    "base_dir": "/home/lauro/nupeb/rede-micro/redemicro-ana-flavia-nutri",
    "class_col": "group-id",
    "classifier_file": "/home/lauro/nupeb/dados_brutos_rede_genoma/16S_classifiers_qiime2/silva-138-99-nb-classifier.qza",
    "experiment_name": "ana-flavia-NCxSTD-NC-trim",
    "manifest_file": "/home/lauro/nupeb/rede-micro/redemicro-ana-flavia-nutri/data/raw/manifest/manifest-ana-flavia-NCxSTD-NC.csv",
    "metadata_file": "/home/lauro/nupeb/rede-micro/redemicro-ana-flavia-nutri/data/raw/metadata/metadata-ana-flavia-NCxSTD-NC.tsv",
    "overlap": 12,
    "phred": 20,
    "replace_files": false,
    "threads": 6,
    "trim": {
     "forward_primer": "CCTACGGGRSGCAGCAG",
     "overlap": 8,
     "reverse_primer": "GGACTACHVGGGTWTCTAAT"
    },
    "trunc_f": 0,
    "trunc_r": 0
   },
   "start_time": "2023-05-26T11:28:10.682228",
   "version": "2.3.4"
  },
  "toc-autonumbering": false,
  "toc-showcode": false,
  "toc-showmarkdowntxt": false
 },
 "nbformat": 4,
 "nbformat_minor": 5
}