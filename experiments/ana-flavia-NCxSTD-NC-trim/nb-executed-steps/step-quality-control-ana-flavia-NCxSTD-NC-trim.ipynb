{
 "cells": [
  {
   "cell_type": "markdown",
   "id": "94d51e9a",
   "metadata": {
    "papermill": {
     "duration": 0.021482,
     "end_time": "2023-08-23T19:55:48.059606",
     "exception": false,
     "start_time": "2023-08-23T19:55:48.038124",
     "status": "completed"
    },
    "tags": []
   },
   "source": [
    "# Quality Control and ASV table construction with DADA2"
   ]
  },
  {
   "cell_type": "markdown",
   "id": "66ca00e6",
   "metadata": {
    "papermill": {
     "duration": 0.045526,
     "end_time": "2023-08-23T19:55:48.172082",
     "exception": false,
     "start_time": "2023-08-23T19:55:48.126556",
     "status": "completed"
    },
    "tags": []
   },
   "source": [
    "## Setup and settings"
   ]
  },
  {
   "cell_type": "code",
   "execution_count": 1,
   "id": "c583ad69",
   "metadata": {
    "ExecuteTime": {
     "end_time": "2022-06-29T18:49:49.974644Z",
     "start_time": "2022-06-29T18:49:30.876897Z"
    },
    "execution": {
     "iopub.execute_input": "2023-08-23T19:55:48.226261Z",
     "iopub.status.busy": "2023-08-23T19:55:48.225992Z",
     "iopub.status.idle": "2023-08-23T19:55:55.024063Z",
     "shell.execute_reply": "2023-08-23T19:55:55.023256Z"
    },
    "papermill": {
     "duration": 6.839346,
     "end_time": "2023-08-23T19:55:55.025804",
     "exception": false,
     "start_time": "2023-08-23T19:55:48.186458",
     "status": "completed"
    },
    "tags": []
   },
   "outputs": [],
   "source": [
    "# Importing packages\n",
    "import os\n",
    "import yaml\n",
    "import logging\n",
    "import pandas as pd\n",
    "from qiime2 import Artifact\n",
    "from qiime2 import Visualization\n",
    "from qiime2 import Metadata\n",
    "import qiime2.plugins.dada2.actions as dada2_actions\n",
    "import qiime2.plugins.metadata.actions as metadata_actions\n",
    "from qiime2.plugins.feature_table.visualizers import tabulate_seqs\n",
    "from qiime2.plugins.feature_table.visualizers import summarize\n",
    "from qiime2.plugins.feature_table.visualizers import core_features\n",
    "from qiime2.plugins.feature_table.methods import filter_samples\n",
    "from qiime2.plugins.feature_table.methods import filter_seqs\n",
    "\n",
    "import matplotlib.pyplot as plt\n",
    "\n",
    "%matplotlib inline"
   ]
  },
  {
   "cell_type": "markdown",
   "id": "41502b41",
   "metadata": {
    "papermill": {
     "duration": 0.013696,
     "end_time": "2023-08-23T19:55:55.053833",
     "exception": false,
     "start_time": "2023-08-23T19:55:55.040137",
     "status": "completed"
    },
    "tags": []
   },
   "source": [
    "### Receiving the parameters\n",
    "\n",
    "The following cell can receive parameters using the [papermill](https://papermill.readthedocs.io/en/latest/) tool."
   ]
  },
  {
   "cell_type": "code",
   "execution_count": 2,
   "id": "ef148042",
   "metadata": {
    "ExecuteTime": {
     "end_time": "2022-06-29T18:54:01.035034Z",
     "start_time": "2022-06-29T18:54:01.028724Z"
    },
    "execution": {
     "iopub.execute_input": "2023-08-23T19:55:55.107242Z",
     "iopub.status.busy": "2023-08-23T19:55:55.106851Z",
     "iopub.status.idle": "2023-08-23T19:55:55.112263Z",
     "shell.execute_reply": "2023-08-23T19:55:55.111623Z"
    },
    "papermill": {
     "duration": 0.021712,
     "end_time": "2023-08-23T19:55:55.113727",
     "exception": false,
     "start_time": "2023-08-23T19:55:55.092015",
     "status": "completed"
    },
    "tags": [
     "parameters"
    ]
   },
   "outputs": [],
   "source": [
    "experiment_name = 'ana-flavia-superlactacao'\n",
    "base_dir = os.path.join('/', 'home', 'lauro', 'nupeb', 'redemicro')\n",
    "metadata_file = os.path.join(base_dir, 'data', 'raw', 'metadata', 'sample-metadata.tsv')\n",
    "manifest_file = os.path.join(base_dir, 'data', 'raw', 'manifest', 'sample-manifest.csv')\n",
    "replace_files = False\n",
    "phred = 20\n",
    "trunc_f = 0\n",
    "trunc_r = 0\n",
    "overlap = 12\n",
    "threads = 6\n",
    "trim = None"
   ]
  },
  {
   "cell_type": "code",
   "execution_count": 3,
   "id": "4592443a",
   "metadata": {
    "execution": {
     "iopub.execute_input": "2023-08-23T19:55:55.143159Z",
     "iopub.status.busy": "2023-08-23T19:55:55.142791Z",
     "iopub.status.idle": "2023-08-23T19:55:55.149106Z",
     "shell.execute_reply": "2023-08-23T19:55:55.148385Z"
    },
    "papermill": {
     "duration": 0.022756,
     "end_time": "2023-08-23T19:55:55.150594",
     "exception": false,
     "start_time": "2023-08-23T19:55:55.127838",
     "status": "completed"
    },
    "tags": [
     "injected-parameters"
    ]
   },
   "outputs": [],
   "source": [
    "# Parameters\n",
    "experiment_name = \"ana-flavia-NCxSTD-NC-trim\"\n",
    "base_dir = \"/home/lauro/nupeb/rede-micro/redemicro-ana-flavia-nutri\"\n",
    "manifest_file = \"/home/lauro/nupeb/rede-micro/redemicro-ana-flavia-nutri/data/raw/manifest/manifest-ana-flavia-NCxSTD-NC.csv\"\n",
    "metadata_file = \"/home/lauro/nupeb/rede-micro/redemicro-ana-flavia-nutri/data/raw/metadata/metadata-ana-flavia-NCxSTD-NC.tsv\"\n",
    "class_col = \"group-id\"\n",
    "classifier_file = \"/home/lauro/nupeb/rede-micro/models/silva-138-99-nb-classifier.qza\"\n",
    "top_n = 20\n",
    "replace_files = False\n",
    "phred = 20\n",
    "trunc_f = 0\n",
    "trunc_r = 0\n",
    "overlap = 12\n",
    "threads = 6\n",
    "trim = {\n",
    "    \"overlap\": 8,\n",
    "    \"forward_primer\": \"CCTACGGGRSGCAGCAG\",\n",
    "    \"reverse_primer\": \"GGACTACHVGGGTWTCTAAT\",\n",
    "}\n"
   ]
  },
  {
   "cell_type": "code",
   "execution_count": 4,
   "id": "6e888a12",
   "metadata": {
    "execution": {
     "iopub.execute_input": "2023-08-23T19:55:55.196946Z",
     "iopub.status.busy": "2023-08-23T19:55:55.196431Z",
     "iopub.status.idle": "2023-08-23T19:55:55.205038Z",
     "shell.execute_reply": "2023-08-23T19:55:55.204344Z"
    },
    "papermill": {
     "duration": 0.026215,
     "end_time": "2023-08-23T19:55:55.206404",
     "exception": false,
     "start_time": "2023-08-23T19:55:55.180189",
     "status": "completed"
    },
    "tags": []
   },
   "outputs": [],
   "source": [
    "# Setting hardcoded parameters for development and debbuging\n",
    "production = True\n",
    "if not production:\n",
    "    params_path = os.path.join('..', 'params', 'ana-flavia-superlactacao.yaml')\n",
    "    with open(params_path, 'r') as stream:\n",
    "        params = yaml.safe_load(stream)\n",
    "        experiment_name = params['experiment_name']\n",
    "        base_dir = params['base_dir']\n",
    "        replace_files = params['replace_files']\n",
    "        experiment_folder = os.path.abspath(os.path.join(os.getcwd(), '..', 'experiments', 'thayane-feces-01'))\n",
    "        img_folder = os.path.abspath(os.path.join(experiment_folder, 'imgs'))\n",
    "        replace_files = False\n",
    "        phred = 20\n",
    "        trunc_f = 0\n",
    "        trunc_r = 0\n",
    "        overlap = 12\n",
    "        threads = 6"
   ]
  },
  {
   "cell_type": "code",
   "execution_count": 5,
   "id": "5851847a",
   "metadata": {
    "ExecuteTime": {
     "end_time": "2022-06-29T18:51:02.089300Z",
     "start_time": "2022-06-29T18:51:02.084922Z"
    },
    "execution": {
     "iopub.execute_input": "2023-08-23T19:55:55.237285Z",
     "iopub.status.busy": "2023-08-23T19:55:55.236932Z",
     "iopub.status.idle": "2023-08-23T19:55:55.242983Z",
     "shell.execute_reply": "2023-08-23T19:55:55.242338Z"
    },
    "papermill": {
     "duration": 0.02216,
     "end_time": "2023-08-23T19:55:55.244415",
     "exception": false,
     "start_time": "2023-08-23T19:55:55.222255",
     "status": "completed"
    },
    "tags": []
   },
   "outputs": [],
   "source": [
    "experiment_folder = os.path.abspath(os.path.join(base_dir, 'experiments', experiment_name))\n",
    "img_folder = os.path.abspath(os.path.join(experiment_folder, 'imgs'))\n",
    "qiime_folder = os.path.join(experiment_folder, 'qiime-artifacts')\n",
    "data_dir =  os.path.abspath(os.path.join(base_dir, 'data'))\n",
    "raw_data_dir =  os.path.abspath(os.path.join(data_dir, 'raw'))\n",
    "interim_data_dir =  os.path.abspath(os.path.join(data_dir, 'interim'))"
   ]
  },
  {
   "cell_type": "markdown",
   "id": "b1c3c144",
   "metadata": {
    "papermill": {
     "duration": 0.01406,
     "end_time": "2023-08-23T19:55:55.274513",
     "exception": false,
     "start_time": "2023-08-23T19:55:55.260453",
     "status": "completed"
    },
    "tags": []
   },
   "source": [
    "### Defining names and paths"
   ]
  },
  {
   "cell_type": "code",
   "execution_count": 6,
   "id": "c2076633",
   "metadata": {
    "ExecuteTime": {
     "end_time": "2022-05-30T19:57:39.064490Z",
     "start_time": "2022-05-30T19:57:39.007809Z"
    },
    "execution": {
     "iopub.execute_input": "2023-08-23T19:55:55.304075Z",
     "iopub.status.busy": "2023-08-23T19:55:55.303738Z",
     "iopub.status.idle": "2023-08-23T19:55:55.310393Z",
     "shell.execute_reply": "2023-08-23T19:55:55.309724Z"
    },
    "papermill": {
     "duration": 0.023123,
     "end_time": "2023-08-23T19:55:55.311808",
     "exception": false,
     "start_time": "2023-08-23T19:55:55.288685",
     "status": "completed"
    },
    "tags": []
   },
   "outputs": [],
   "source": [
    "if trim:\n",
    "    demux_file = os.path.join(qiime_folder, 'demux-paired-trim.qza')\n",
    "else:\n",
    "    demux_file = os.path.join(qiime_folder, 'demux-paired.qza')\n",
    "\n",
    "dada2_tabs = os.path.join(qiime_folder, 'dada2-tabs.qza')\n",
    "dada2_reps = os.path.join(qiime_folder, 'dada2-reps.qza')\n",
    "dada2_stat = os.path.join(qiime_folder, 'dada2-stat.qza')\n",
    "\n",
    "\n",
    "dada2_tabs_view = dada2_tabs[:-1] + 'v'\n",
    "dada2_reps_view = dada2_reps[:-1] + 'v'\n",
    "dada2_stat_view = dada2_stat[:-1] + 'v'\n",
    "dada2_core_view = os.path.join(qiime_folder, 'dada2-core.qzv')"
   ]
  },
  {
   "cell_type": "markdown",
   "id": "13ee0b59",
   "metadata": {
    "papermill": {
     "duration": 0.014346,
     "end_time": "2023-08-23T19:55:55.341807",
     "exception": false,
     "start_time": "2023-08-23T19:55:55.327461",
     "status": "completed"
    },
    "tags": []
   },
   "source": [
    "## Step execution\n",
    "\n",
    "### Load input files\n",
    "\n",
    "This Step import the QIIME2 `SampleData[PairedEndSequencesWithQuality]` Artifact with all demultiplexed sequences and the `Metadata` file."
   ]
  },
  {
   "cell_type": "code",
   "execution_count": 7,
   "id": "9e1ab480",
   "metadata": {
    "ExecuteTime": {
     "end_time": "2022-05-30T19:57:39.077380Z",
     "start_time": "2022-05-30T19:57:39.066746Z"
    },
    "execution": {
     "iopub.execute_input": "2023-08-23T19:55:55.374244Z",
     "iopub.status.busy": "2023-08-23T19:55:55.373880Z",
     "iopub.status.idle": "2023-08-23T19:55:55.378586Z",
     "shell.execute_reply": "2023-08-23T19:55:55.377975Z"
    },
    "papermill": {
     "duration": 0.024001,
     "end_time": "2023-08-23T19:55:55.381431",
     "exception": false,
     "start_time": "2023-08-23T19:55:55.357430",
     "status": "completed"
    },
    "tags": []
   },
   "outputs": [],
   "source": [
    "need_dada2 = not (os.path.isfile(dada2_tabs) and os.path.isfile(dada2_reps) and os.path.isfile(dada2_stat)) or replace_files\n",
    "need_view = not (os.path.isfile(dada2_tabs_view) and os.path.isfile(dada2_reps_view) and os.path.isfile(dada2_stat_view)) or replace_files"
   ]
  },
  {
   "cell_type": "code",
   "execution_count": 8,
   "id": "1bd3c35d",
   "metadata": {
    "ExecuteTime": {
     "end_time": "2022-05-30T19:57:39.089632Z",
     "start_time": "2022-05-30T19:57:39.079347Z"
    },
    "execution": {
     "iopub.execute_input": "2023-08-23T19:55:55.417969Z",
     "iopub.status.busy": "2023-08-23T19:55:55.417668Z",
     "iopub.status.idle": "2023-08-23T19:55:57.118927Z",
     "shell.execute_reply": "2023-08-23T19:55:57.118260Z"
    },
    "papermill": {
     "duration": 1.719499,
     "end_time": "2023-08-23T19:55:57.122051",
     "exception": false,
     "start_time": "2023-08-23T19:55:55.402552",
     "status": "completed"
    },
    "tags": []
   },
   "outputs": [],
   "source": [
    "if need_dada2:\n",
    "    demux = Artifact.load(demux_file)"
   ]
  },
  {
   "cell_type": "code",
   "execution_count": 9,
   "id": "3cae7cf0",
   "metadata": {
    "ExecuteTime": {
     "end_time": "2022-05-30T19:57:39.145879Z",
     "start_time": "2022-05-30T19:57:39.091983Z"
    },
    "execution": {
     "iopub.execute_input": "2023-08-23T19:55:57.231722Z",
     "iopub.status.busy": "2023-08-23T19:55:57.231362Z",
     "iopub.status.idle": "2023-08-23T19:55:57.249096Z",
     "shell.execute_reply": "2023-08-23T19:55:57.248503Z"
    },
    "papermill": {
     "duration": 0.107848,
     "end_time": "2023-08-23T19:55:57.251350",
     "exception": false,
     "start_time": "2023-08-23T19:55:57.143502",
     "status": "completed"
    },
    "tags": []
   },
   "outputs": [],
   "source": [
    "metadata = Metadata.load(metadata_file)"
   ]
  },
  {
   "cell_type": "code",
   "execution_count": 10,
   "id": "e8c587d5",
   "metadata": {
    "execution": {
     "iopub.execute_input": "2023-08-23T19:55:57.290950Z",
     "iopub.status.busy": "2023-08-23T19:55:57.290696Z",
     "iopub.status.idle": "2023-08-23T19:55:57.298457Z",
     "shell.execute_reply": "2023-08-23T19:55:57.297661Z"
    },
    "papermill": {
     "duration": 0.026523,
     "end_time": "2023-08-23T19:55:57.300100",
     "exception": false,
     "start_time": "2023-08-23T19:55:57.273577",
     "status": "completed"
    },
    "tags": []
   },
   "outputs": [],
   "source": [
    "# Determine if is SingleEnd or PairedEnd\n",
    "manifest_df = pd.read_csv(manifest_file)\n",
    "n_directions = len(manifest_df['direction'].unique())"
   ]
  },
  {
   "cell_type": "markdown",
   "id": "f90d6e2a",
   "metadata": {
    "papermill": {
     "duration": 0.015739,
     "end_time": "2023-08-23T19:55:57.335372",
     "exception": false,
     "start_time": "2023-08-23T19:55:57.319633",
     "status": "completed"
    },
    "tags": []
   },
   "source": [
    "### Execute DADA2 plugin and create Artifacts\n",
    "\n",
    "The DADA2 plugin perform tha quality control and create the ASV table. It will be produced three Artifacts:\n",
    "\n",
    "- tabs (`FeatureTable[Frequency]`) : \n",
    "    The resulting feature table.\n",
    "- reps (`FeatureData[Sequence]`) :\n",
    "    The resulting feature sequences. Each feature in the feature table will\n",
    "    be represented by exactly one sequence, and these sequences will be the\n",
    "    joined paired-end sequences.\n",
    "- denoising_stats (`SampleData[DADA2Stats]`) : the resulting stats. Shows the number and the proportion of filtered reads in each phase of the plugin execution."
   ]
  },
  {
   "cell_type": "code",
   "execution_count": 11,
   "id": "81aab66d",
   "metadata": {
    "execution": {
     "iopub.execute_input": "2023-08-23T19:55:57.368145Z",
     "iopub.status.busy": "2023-08-23T19:55:57.367744Z",
     "iopub.status.idle": "2023-08-23T19:55:57.400515Z",
     "shell.execute_reply": "2023-08-23T19:55:57.399869Z"
    },
    "papermill": {
     "duration": 0.051943,
     "end_time": "2023-08-23T19:55:57.403187",
     "exception": false,
     "start_time": "2023-08-23T19:55:57.351244",
     "status": "completed"
    },
    "tags": []
   },
   "outputs": [
    {
     "name": "stdout",
     "output_type": "stream",
     "text": [
      "Load DADA2 data from shared files\n"
     ]
    }
   ],
   "source": [
    "if not os.path.isfile(dada2_tabs) or replace_files:\n",
    "    interim_tabs_path = os.path.join(interim_data_dir, \"dada2-tabs.qza\")\n",
    "    interim_reps_path = os.path.join(interim_data_dir, \"dada2-reps.qza\")\n",
    "    interim_stat_path = os.path.join(interim_data_dir, \"dada2-stat.qza\")\n",
    "    # Verify if has shared files\n",
    "    if os.path.isfile(interim_tabs_path) and os.path.isfile(interim_reps_path) and os.path.isfile(interim_stat_path):\n",
    "        print(\"Load DADA2 data from shared files\")\n",
    "        tabs = Artifact.load(interim_tabs_path)\n",
    "        reps = Artifact.load(interim_reps_path)\n",
    "        stat = Artifact.load(interim_stat_path)\n",
    "    # Create new DADA2 files\n",
    "    else:\n",
    "        print(\"Create new local DADA2 data\")\n",
    "        if n_directions == 1: # SingleEnd\n",
    "            tabs, reps, stat = dada2_actions.denoise_single(\n",
    "                demultiplexed_seqs=demux,\n",
    "                trunc_q = phred,\n",
    "                n_threads = threads,\n",
    "                trunc_len = trunc_f,\n",
    "            )\n",
    "        elif n_directions == 2: # PairedEnd\n",
    "            tabs, reps, stat = dada2_actions.denoise_paired(\n",
    "                demultiplexed_seqs=demux,\n",
    "                trunc_q = phred,\n",
    "                min_overlap = overlap,\n",
    "                n_threads = threads,\n",
    "                trunc_len_f = trunc_f,\n",
    "                trunc_len_r = trunc_r,\n",
    "            )\n",
    "        tabs.save(dada2_tabs)\n",
    "        reps.save(dada2_reps)\n",
    "        stat.save(dada2_stat)\n",
    "else:\n",
    "    print(\"Load DADA2 data from local files\")\n",
    "    tabs = Artifact.load(dada2_tabs)\n",
    "    reps = Artifact.load(dada2_reps)\n",
    "    stat = Artifact.load(dada2_stat)"
   ]
  },
  {
   "cell_type": "markdown",
   "id": "4b32a68e",
   "metadata": {
    "papermill": {
     "duration": 0.015668,
     "end_time": "2023-08-23T19:55:57.440585",
     "exception": false,
     "start_time": "2023-08-23T19:55:57.424917",
     "status": "completed"
    },
    "tags": []
   },
   "source": [
    "### Filter samples"
   ]
  },
  {
   "cell_type": "code",
   "execution_count": 12,
   "id": "7b526eaa",
   "metadata": {
    "execution": {
     "iopub.execute_input": "2023-08-23T19:55:57.487929Z",
     "iopub.status.busy": "2023-08-23T19:55:57.487624Z",
     "iopub.status.idle": "2023-08-23T19:55:58.122767Z",
     "shell.execute_reply": "2023-08-23T19:55:58.122009Z"
    },
    "papermill": {
     "duration": 0.663928,
     "end_time": "2023-08-23T19:55:58.125943",
     "exception": false,
     "start_time": "2023-08-23T19:55:57.462015",
     "status": "completed"
    },
    "tags": []
   },
   "outputs": [],
   "source": [
    "# Filter FeatureTable[Frequency | RelativeFrequency | PresenceAbsence | Composition] based on Metadata sample ID values\n",
    "tabs = filter_samples(\n",
    "    table=tabs,\n",
    "    metadata=metadata,\n",
    ").filtered_table\n",
    "# Filter SampleData[SequencesWithQuality | PairedEndSequencesWithQuality | JoinedSequencesWithQuality] based on Metadata sample ID values; returns FeatureData[Sequence | AlignedSequence]\n",
    "reps = filter_seqs(\n",
    "    data=reps,\n",
    "    table=tabs,\n",
    ").filtered_data"
   ]
  },
  {
   "cell_type": "markdown",
   "id": "8ff1aaac",
   "metadata": {
    "papermill": {
     "duration": 0.016096,
     "end_time": "2023-08-23T19:55:58.164531",
     "exception": false,
     "start_time": "2023-08-23T19:55:58.148435",
     "status": "completed"
    },
    "tags": []
   },
   "source": [
    "### Define Visualizations Artifacts"
   ]
  },
  {
   "cell_type": "code",
   "execution_count": 13,
   "id": "4ae0a1d7",
   "metadata": {
    "ExecuteTime": {
     "end_time": "2022-05-30T19:57:39.249051Z",
     "start_time": "2022-05-30T19:57:39.173053Z"
    },
    "execution": {
     "iopub.execute_input": "2023-08-23T19:55:58.197229Z",
     "iopub.status.busy": "2023-08-23T19:55:58.196919Z",
     "iopub.status.idle": "2023-08-23T19:56:04.277110Z",
     "shell.execute_reply": "2023-08-23T19:56:04.276586Z"
    },
    "papermill": {
     "duration": 6.100723,
     "end_time": "2023-08-23T19:56:04.281019",
     "exception": false,
     "start_time": "2023-08-23T19:55:58.180296",
     "status": "completed"
    },
    "tags": []
   },
   "outputs": [
    {
     "data": {
      "image/png": "[encoded data removed]",
      "text/plain": [
       "<Figure size 432x288 with 1 Axes>"
      ]
     },
     "metadata": {
      "needs_background": "light"
     },
     "output_type": "display_data"
    }
   ],
   "source": [
    "# If some of the DADA2 Visualization artifacts do not exist or if the old files will be replaced\n",
    "if need_view:\n",
    "    \n",
    "    tabs_view, = metadata_actions.tabulate(input=tabs.view(Metadata))\n",
    "    reps_view, = metadata_actions.tabulate(input=reps.view(Metadata))\n",
    "    stat_view, = metadata_actions.tabulate(input=stat.view(Metadata))\n",
    "    \n",
    "    tabs_view = summarize(table=tabs, sample_metadata=metadata).visualization\n",
    "    reps_view = tabulate_seqs(data=reps).visualization\n",
    "    core_view = core_features(table=tabs, min_fraction=.1, steps=10).visualization\n",
    "    \n",
    "    \n",
    "    # Save the artifacts objects\n",
    "    tabs_view.save(dada2_tabs_view)\n",
    "    reps_view.save(dada2_reps_view)\n",
    "    stat_view.save(dada2_stat_view)\n",
    "    core_view.save(dada2_core_view)\n",
    "\n",
    "else:\n",
    "    tabs_view = Visualization.load(dada2_tabs_view)\n",
    "    reps_view = Visualization.load(dada2_reps_view)\n",
    "    stat_view = Visualization.load(dada2_stat_view)\n",
    "    core_view = Visualization.load(dada2_core_view)"
   ]
  },
  {
   "cell_type": "code",
   "execution_count": 14,
   "id": "83a65ac3",
   "metadata": {
    "execution": {
     "iopub.execute_input": "2023-08-23T19:56:04.329743Z",
     "iopub.status.busy": "2023-08-23T19:56:04.329244Z",
     "iopub.status.idle": "2023-08-23T19:56:04.338165Z",
     "shell.execute_reply": "2023-08-23T19:56:04.337153Z"
    },
    "papermill": {
     "duration": 0.038055,
     "end_time": "2023-08-23T19:56:04.339821",
     "exception": false,
     "start_time": "2023-08-23T19:56:04.301766",
     "status": "completed"
    },
    "tags": []
   },
   "outputs": [],
   "source": [
    "def plot_stats_box(artifact, fname, total_reads_phases, percent_phases, cols):\n",
    "    import matplotlib.pyplot as plt\n",
    "    from qiime2 import Metadata\n",
    "    \n",
    "    df = artifact.view(Metadata).to_dataframe()\n",
    "    df_vals = df[total_reads_phases]\n",
    "    df_perc = df[percent_phases]\n",
    "    df_perc.columns = cols\n",
    "    \n",
    "    \n",
    "    plt.figure(figsize=(15,5))\n",
    "    plt.subplot(1, 2, 1)\n",
    "    df_vals.boxplot()\n",
    "    plt.xlabel('Fases')\n",
    "    plt.ylabel('# of reads')\n",
    "    \n",
    "    plt.subplot(1, 2, 2)\n",
    "    df_perc.boxplot()\n",
    "    plt.xlabel('Fases')\n",
    "    plt.ylabel('% of input')\n",
    "    \n",
    "    plt.savefig(fname, bbox_inches='tight')\n",
    "\n",
    "    plt.show()"
   ]
  },
  {
   "cell_type": "code",
   "execution_count": 15,
   "id": "590d9a63",
   "metadata": {
    "execution": {
     "iopub.execute_input": "2023-08-23T19:56:04.373138Z",
     "iopub.status.busy": "2023-08-23T19:56:04.372808Z",
     "iopub.status.idle": "2023-08-23T19:56:04.378207Z",
     "shell.execute_reply": "2023-08-23T19:56:04.377388Z"
    },
    "papermill": {
     "duration": 0.023108,
     "end_time": "2023-08-23T19:56:04.380051",
     "exception": false,
     "start_time": "2023-08-23T19:56:04.356943",
     "status": "completed"
    },
    "tags": []
   },
   "outputs": [],
   "source": [
    "if n_directions == 1: # SingleEnd\n",
    "    total_reads_phases = ['input', 'filtered', 'denoised', 'non-chimeric']\n",
    "    percent_phases = ['percentage of input passed filter', 'percentage of input non-chimeric']\n",
    "    cols = ['filtered', 'non-chimeric']\n",
    "elif n_directions == 2: # PairedEnd\n",
    "    total_reads_phases = ['input', 'filtered', 'denoised', 'merged', 'non-chimeric']\n",
    "    percent_phases = ['percentage of input passed filter', 'percentage of input merged', 'percentage of input non-chimeric']\n",
    "    cols = ['filtered', 'merged', 'non-chimeric']"
   ]
  },
  {
   "cell_type": "code",
   "execution_count": 16,
   "id": "f389fe87",
   "metadata": {
    "ExecuteTime": {
     "end_time": "2022-05-30T19:57:39.901491Z",
     "start_time": "2022-05-30T19:57:39.255220Z"
    },
    "execution": {
     "iopub.execute_input": "2023-08-23T19:56:04.412871Z",
     "iopub.status.busy": "2023-08-23T19:56:04.412391Z",
     "iopub.status.idle": "2023-08-23T19:56:04.909882Z",
     "shell.execute_reply": "2023-08-23T19:56:04.909182Z"
    },
    "papermill": {
     "duration": 0.517032,
     "end_time": "2023-08-23T19:56:04.913411",
     "exception": false,
     "start_time": "2023-08-23T19:56:04.396379",
     "status": "completed"
    },
    "scrolled": false,
    "tags": []
   },
   "outputs": [
    {
     "data": {
      "image/png": "[encoded data removed]",
      "text/plain": [
       "<Figure size 1080x360 with 2 Axes>"
      ]
     },
     "metadata": {
      "needs_background": "light"
     },
     "output_type": "display_data"
    }
   ],
   "source": [
    "plot_stats_box(stat, os.path.join(img_folder, 'step02-stats-boxplot.pdf'), total_reads_phases, percent_phases, cols)"
   ]
  },
  {
   "cell_type": "code",
   "execution_count": 17,
   "id": "03af7801",
   "metadata": {
    "ExecuteTime": {
     "end_time": "2022-05-31T17:58:47.140114Z",
     "start_time": "2022-05-31T17:58:47.087808Z"
    },
    "execution": {
     "iopub.execute_input": "2023-08-23T19:56:04.960859Z",
     "iopub.status.busy": "2023-08-23T19:56:04.960466Z",
     "iopub.status.idle": "2023-08-23T19:56:05.005310Z",
     "shell.execute_reply": "2023-08-23T19:56:05.004796Z"
    },
    "papermill": {
     "duration": 0.072725,
     "end_time": "2023-08-23T19:56:05.008577",
     "exception": false,
     "start_time": "2023-08-23T19:56:04.935852",
     "status": "completed"
    },
    "tags": []
   },
   "outputs": [
    {
     "data": {
      "text/html": [
       "<div>\n",
       "<style scoped>\n",
       "    .dataframe tbody tr th:only-of-type {\n",
       "        vertical-align: middle;\n",
       "    }\n",
       "\n",
       "    .dataframe tbody tr th {\n",
       "        vertical-align: top;\n",
       "    }\n",
       "\n",
       "    .dataframe thead th {\n",
       "        text-align: right;\n",
       "    }\n",
       "</style>\n",
       "<table border=\"1\" class=\"dataframe\">\n",
       "  <thead>\n",
       "    <tr style=\"text-align: right;\">\n",
       "      <th></th>\n",
       "      <th>percentage of input passed filter</th>\n",
       "      <th>percentage of input merged</th>\n",
       "      <th>percentage of input non-chimeric</th>\n",
       "    </tr>\n",
       "  </thead>\n",
       "  <tbody>\n",
       "    <tr>\n",
       "      <th>count</th>\n",
       "      <td>74.000000</td>\n",
       "      <td>74.000000</td>\n",
       "      <td>74.000000</td>\n",
       "    </tr>\n",
       "    <tr>\n",
       "      <th>mean</th>\n",
       "      <td>85.240946</td>\n",
       "      <td>75.388649</td>\n",
       "      <td>74.583919</td>\n",
       "    </tr>\n",
       "    <tr>\n",
       "      <th>std</th>\n",
       "      <td>0.677259</td>\n",
       "      <td>10.290852</td>\n",
       "      <td>10.194336</td>\n",
       "    </tr>\n",
       "    <tr>\n",
       "      <th>min</th>\n",
       "      <td>83.410000</td>\n",
       "      <td>33.150000</td>\n",
       "      <td>32.760000</td>\n",
       "    </tr>\n",
       "    <tr>\n",
       "      <th>25%</th>\n",
       "      <td>84.822500</td>\n",
       "      <td>76.122500</td>\n",
       "      <td>74.970000</td>\n",
       "    </tr>\n",
       "    <tr>\n",
       "      <th>50%</th>\n",
       "      <td>85.220000</td>\n",
       "      <td>78.405000</td>\n",
       "      <td>77.895000</td>\n",
       "    </tr>\n",
       "    <tr>\n",
       "      <th>75%</th>\n",
       "      <td>85.662500</td>\n",
       "      <td>79.927500</td>\n",
       "      <td>78.760000</td>\n",
       "    </tr>\n",
       "    <tr>\n",
       "      <th>max</th>\n",
       "      <td>86.720000</td>\n",
       "      <td>83.920000</td>\n",
       "      <td>82.320000</td>\n",
       "    </tr>\n",
       "  </tbody>\n",
       "</table>\n",
       "</div>"
      ],
      "text/plain": [
       "       percentage of input passed filter  percentage of input merged  \\\n",
       "count                          74.000000                   74.000000   \n",
       "mean                           85.240946                   75.388649   \n",
       "std                             0.677259                   10.290852   \n",
       "min                            83.410000                   33.150000   \n",
       "25%                            84.822500                   76.122500   \n",
       "50%                            85.220000                   78.405000   \n",
       "75%                            85.662500                   79.927500   \n",
       "max                            86.720000                   83.920000   \n",
       "\n",
       "       percentage of input non-chimeric  \n",
       "count                         74.000000  \n",
       "mean                          74.583919  \n",
       "std                           10.194336  \n",
       "min                           32.760000  \n",
       "25%                           74.970000  \n",
       "50%                           77.895000  \n",
       "75%                           78.760000  \n",
       "max                           82.320000  "
      ]
     },
     "execution_count": 17,
     "metadata": {},
     "output_type": "execute_result"
    }
   ],
   "source": [
    "stat.view(Metadata).to_dataframe().describe()[percent_phases]"
   ]
  },
  {
   "cell_type": "code",
   "execution_count": 18,
   "id": "c4b47348",
   "metadata": {
    "ExecuteTime": {
     "end_time": "2022-05-30T19:57:39.957632Z",
     "start_time": "2022-05-30T19:57:39.953762Z"
    },
    "execution": {
     "iopub.execute_input": "2023-08-23T19:56:05.048763Z",
     "iopub.status.busy": "2023-08-23T19:56:05.048436Z",
     "iopub.status.idle": "2023-08-23T19:56:05.055197Z",
     "shell.execute_reply": "2023-08-23T19:56:05.054303Z"
    },
    "papermill": {
     "duration": 0.024695,
     "end_time": "2023-08-23T19:56:05.056747",
     "exception": false,
     "start_time": "2023-08-23T19:56:05.032052",
     "status": "completed"
    },
    "tags": []
   },
   "outputs": [
    {
     "data": {
      "text/html": [
       "<div><img onload=\"(function(div, url){\n",
       "if (typeof require !== 'undefined') {\n",
       "    var baseURL = require.toUrl('').split('/').slice(0, -2).join('/');\n",
       "} else {\n",
       "    var baseURL = JSON.parse(\n",
       "        document.getElementById('jupyter-config-data').innerHTML\n",
       "    ).baseUrl.slice(0, -1);\n",
       "}\n",
       "url = baseURL + url;\n",
       "fetch(url).then(function(res) {\n",
       "    if (res.status === 404) {\n",
       "        div.innerHTML = 'Install QIIME 2 Jupyter extension with:<br />' +\n",
       "                        '<code>jupyter serverextension enable --py qiime2' +\n",
       "                        ' --sys-prefix</code><br />then restart your server.' +\n",
       "                        '<br /><br />(Interactive output not available on ' +\n",
       "                        'static notebook viewer services like nbviewer.)';\n",
       "    } else if (res.status === 409) {\n",
       "        div.innerHTML = 'Visualization no longer in scope. Re-run this cell' +\n",
       "                        ' to see the visualization.';\n",
       "    } else if (res.ok) {\n",
       "        url = res.url;\n",
       "        div.innerHTML = '<iframe src=\\'' + url + '\\' style=\\'' +\n",
       "                        'width: 100%; height: 700px; border: 0;\\'>' +\n",
       "                        '</iframe><hr />Open in a: <a href=\\'' + url + '\\'' +\n",
       "                        ' target=\\'_blank\\'>new window</a>'\n",
       "    } else {\n",
       "        div.innerHTML = 'Something has gone wrong. Check notebook server for' +\n",
       "                        ' errors.';\n",
       "    }\n",
       "});\n",
       "})(this.parentElement, '/qiime2/redirect?location=/tmp/qiime2-archive-2uis8y1d')\" src=\"data:image/gif;base64,R0lGODlhAQABAIAAAP///wAAACH5BAEAAAAALAAAAAABAAEAAAICRAEAOw==\" /></div>"
      ],
      "text/plain": [
       "<visualization: Visualization uuid: 38fde6b3-8656-4911-befa-22c69d4df789>"
      ]
     },
     "execution_count": 18,
     "metadata": {},
     "output_type": "execute_result"
    }
   ],
   "source": [
    "stat_view"
   ]
  }
 ],
 "metadata": {
  "celltoolbar": "Edit Metadata",
  "kernelspec": {
   "display_name": "Python 3 (ipykernel)",
   "language": "python",
   "name": "python3"
  },
  "language_info": {
   "codemirror_mode": {
    "name": "ipython",
    "version": 3
   },
   "file_extension": ".py",
   "mimetype": "text/x-python",
   "name": "python",
   "nbconvert_exporter": "python",
   "pygments_lexer": "ipython3",
   "version": "3.8.12"
  },
  "papermill": {
   "default_parameters": {},
   "duration": 19.18349,
   "end_time": "2023-08-23T19:56:05.996929",
   "environment_variables": {},
   "exception": null,
   "input_path": "nb-templates/step-quality-control.ipynb",
   "output_path": "/home/lauro/nupeb/rede-micro/redemicro-ana-flavia-nutri/experiments/ana-flavia-NCxSTD-NC-trim/nb-executed-steps/step-quality-control-ana-flavia-NCxSTD-NC-trim.ipynb",
   "parameters": {
    "base_dir": "/home/lauro/nupeb/rede-micro/redemicro-ana-flavia-nutri",
    "class_col": "group-id",
    "classifier_file": "/home/lauro/nupeb/rede-micro/models/silva-138-99-nb-classifier.qza",
    "experiment_name": "ana-flavia-NCxSTD-NC-trim",
    "manifest_file": "/home/lauro/nupeb/rede-micro/redemicro-ana-flavia-nutri/data/raw/manifest/manifest-ana-flavia-NCxSTD-NC.csv",
    "metadata_file": "/home/lauro/nupeb/rede-micro/redemicro-ana-flavia-nutri/data/raw/metadata/metadata-ana-flavia-NCxSTD-NC.tsv",
    "overlap": 12,
    "phred": 20,
    "replace_files": false,
    "threads": 6,
    "top_n": 20,
    "trim": {
     "forward_primer": "CCTACGGGRSGCAGCAG",
     "overlap": 8,
     "reverse_primer": "GGACTACHVGGGTWTCTAAT"
    },
    "trunc_f": 0,
    "trunc_r": 0
   },
   "start_time": "2023-08-23T19:55:46.813439",
   "version": "2.3.4"
  },
  "toc-autonumbering": false,
  "toc-showcode": false,
  "toc-showmarkdowntxt": false
 },
 "nbformat": 4,
 "nbformat_minor": 5
}